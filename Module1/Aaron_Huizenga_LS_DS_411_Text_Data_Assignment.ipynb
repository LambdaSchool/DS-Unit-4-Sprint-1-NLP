{
  "nbformat": 4,
  "nbformat_minor": 0,
  "metadata": {
    "colab": {
      "name": "Aaron_Huizenga_LS_DS_411_Text_Data_Assignment.ipynb",
      "provenance": [],
      "collapsed_sections": [],
      "include_colab_link": true
    },
    "kernelspec": {
      "display_name": "U4-S1-NLP (Python 3)",
      "language": "python",
      "name": "u4-s1-nlp"
    },
    "language_info": {
      "codemirror_mode": {
        "name": "ipython",
        "version": 3
      },
      "file_extension": ".py",
      "mimetype": "text/x-python",
      "name": "python",
      "nbconvert_exporter": "python",
      "pygments_lexer": "ipython3",
      "version": "3.7.3"
    },
    "toc-autonumbering": false
  },
  "cells": [
    {
      "cell_type": "markdown",
      "metadata": {
        "id": "view-in-github",
        "colab_type": "text"
      },
      "source": [
        "<a href=\"https://colab.research.google.com/github/nusc2016/DS-Unit-4-Sprint-1-NLP/blob/main/Module1/Aaron_Huizenga_LS_DS_411_Text_Data_Assignment.ipynb\" target=\"_parent\"><img src=\"https://colab.research.google.com/assets/colab-badge.svg\" alt=\"Open In Colab\"/></a>"
      ]
    },
    {
      "cell_type": "markdown",
      "metadata": {
        "id": "DLq_UNC8B_VO",
        "colab_type": "text"
      },
      "source": [
        "<img align=\"left\" src=\"https://lever-client-logos.s3.amazonaws.com/864372b1-534c-480e-acd5-9711f850815c-1524247202159.png\" width=200>\n",
        "<br></br>\n",
        "<br></br>\n",
        "\n",
        "# Natural Language Processing (NLP)\n",
        "## *Data Science Unit 4 Sprint 1 Assignment 1*\n",
        "\n",
        "Your goal in this assignment: find the attributes of the best & worst coffee shops in the dataset. The text is fairly raw: dates in the review, extra words in the `star_rating` column, etc. You'll probably want to clean that stuff up for a better analysis. \n",
        "\n",
        "Analyze the corpus of text using text visualizations of token frequency. Try cleaning the data as much as possible. Try the following techniques: \n",
        "- Lemmatization\n",
        "- Custom stopword removal\n",
        "\n",
        "Keep in mind the attributes of good tokens. Once you have a solid baseline, layer in the star rating in your visualization(s). Key part of this assignment - produce a write-up of the attributes of the best and worst coffee shops. Based on your analysis, what makes the best the best and the worst the worst. Use graphs and numbesr from your analysis to support your conclusions. There should be plenty of markdown cells! :coffee:"
      ]
    },
    {
      "cell_type": "code",
      "metadata": {
        "id": "DMJiCtxlC5wR",
        "colab_type": "code",
        "colab": {
          "base_uri": "https://localhost:8080/",
          "height": 35
        },
        "outputId": "d5f10a24-7d26-4186-8246-435751791fb7"
      },
      "source": [
        "pip install squarify"
      ],
      "execution_count": 1,
      "outputs": [
        {
          "output_type": "stream",
          "text": [
            "Requirement already satisfied: squarify in /usr/local/lib/python3.6/dist-packages (0.4.3)\n"
          ],
          "name": "stdout"
        }
      ]
    },
    {
      "cell_type": "code",
      "metadata": {
        "id": "n_KI0ru9Caqg",
        "colab_type": "code",
        "colab": {
          "base_uri": "https://localhost:8080/",
          "height": 72
        },
        "outputId": "d5b9c97d-5a82-4698-bd35-64a585af6204"
      },
      "source": [
        "# Importing the required libraries\n",
        "import pandas.util.testing as tm\n",
        "from collections import Counter\n",
        "\n",
        "# Importing the necessary plot libraries\n",
        "import squarify\n",
        "import matplotlib.pyplot as plt\n",
        "import seaborn as sns\n",
        "\n",
        "# Importing NLP libraries\n",
        "import re\n",
        "from nltk.stem import PorterStemmer\n",
        "import spacy\n",
        "from spacy.tokenizer import Tokenizer"
      ],
      "execution_count": 2,
      "outputs": [
        {
          "output_type": "stream",
          "text": [
            "/usr/local/lib/python3.6/dist-packages/ipykernel_launcher.py:2: FutureWarning: pandas.util.testing is deprecated. Use the functions in the public API at pandas.testing instead.\n",
            "  \n"
          ],
          "name": "stderr"
        }
      ]
    },
    {
      "cell_type": "code",
      "metadata": {
        "id": "u8Jc75wEB_VP",
        "colab_type": "code",
        "colab": {
          "base_uri": "https://localhost:8080/",
          "height": 321
        },
        "outputId": "c3883d49-e52c-4d3a-939f-8d68f96e6e35"
      },
      "source": [
        "from IPython.display import YouTubeVideo\n",
        "\n",
        "YouTubeVideo('Jml7NVYm8cs')"
      ],
      "execution_count": 3,
      "outputs": [
        {
          "output_type": "execute_result",
          "data": {
            "text/html": [
              "\n",
              "        <iframe\n",
              "            width=\"400\"\n",
              "            height=\"300\"\n",
              "            src=\"https://www.youtube.com/embed/Jml7NVYm8cs\"\n",
              "            frameborder=\"0\"\n",
              "            allowfullscreen\n",
              "        ></iframe>\n",
              "        "
            ],
            "text/plain": [
              "<IPython.lib.display.YouTubeVideo at 0x7f098cc052b0>"
            ],
            "image/jpeg": "[encoded data removed]"
          },
          "metadata": {
            "tags": []
          },
          "execution_count": 3
        }
      ]
    },
    {
      "cell_type": "code",
      "metadata": {
        "id": "EghDTr_fB_VU",
        "colab_type": "code",
        "colab": {
          "base_uri": "https://localhost:8080/",
          "height": 35
        },
        "outputId": "15fe8a32-00d9-4eac-80a7-2dc84ae7f3d1"
      },
      "source": [
        "%pwd"
      ],
      "execution_count": 4,
      "outputs": [
        {
          "output_type": "execute_result",
          "data": {
            "application/vnd.google.colaboratory.intrinsic": {
              "type": "string"
            },
            "text/plain": [
              "'/content'"
            ]
          },
          "metadata": {
            "tags": []
          },
          "execution_count": 4
        }
      ]
    },
    {
      "cell_type": "code",
      "metadata": {
        "id": "ncSbPaXIB_VY",
        "colab_type": "code",
        "colab": {
          "base_uri": "https://localhost:8080/",
          "height": 202
        },
        "outputId": "98fdf193-c0ea-48c1-f2ea-e12e23fe8361"
      },
      "source": [
        "import pandas as pd\n",
        "\n",
        "url = \"https://raw.githubusercontent.com/nusc2016/DS-Unit-4-Sprint-1-NLP/main/module1-text-data/data/yelp_coffeeshop_review_data.csv\"\n",
        "\n",
        "shops = pd.read_csv(url)\n",
        "shops.head()"
      ],
      "execution_count": 5,
      "outputs": [
        {
          "output_type": "execute_result",
          "data": {
            "text/html": [
              "<div>\n",
              "<style scoped>\n",
              "    .dataframe tbody tr th:only-of-type {\n",
              "        vertical-align: middle;\n",
              "    }\n",
              "\n",
              "    .dataframe tbody tr th {\n",
              "        vertical-align: top;\n",
              "    }\n",
              "\n",
              "    .dataframe thead th {\n",
              "        text-align: right;\n",
              "    }\n",
              "</style>\n",
              "<table border=\"1\" class=\"dataframe\">\n",
              "  <thead>\n",
              "    <tr style=\"text-align: right;\">\n",
              "      <th></th>\n",
              "      <th>coffee_shop_name</th>\n",
              "      <th>full_review_text</th>\n",
              "      <th>star_rating</th>\n",
              "    </tr>\n",
              "  </thead>\n",
              "  <tbody>\n",
              "    <tr>\n",
              "      <th>0</th>\n",
              "      <td>The Factory - Cafe With a Soul</td>\n",
              "      <td>11/25/2016 1 check-in Love love loved the atm...</td>\n",
              "      <td>5.0 star rating</td>\n",
              "    </tr>\n",
              "    <tr>\n",
              "      <th>1</th>\n",
              "      <td>The Factory - Cafe With a Soul</td>\n",
              "      <td>12/2/2016 Listed in Date Night: Austin, Ambia...</td>\n",
              "      <td>4.0 star rating</td>\n",
              "    </tr>\n",
              "    <tr>\n",
              "      <th>2</th>\n",
              "      <td>The Factory - Cafe With a Soul</td>\n",
              "      <td>11/30/2016 1 check-in Listed in Brunch Spots ...</td>\n",
              "      <td>4.0 star rating</td>\n",
              "    </tr>\n",
              "    <tr>\n",
              "      <th>3</th>\n",
              "      <td>The Factory - Cafe With a Soul</td>\n",
              "      <td>11/25/2016 Very cool decor! Good drinks Nice ...</td>\n",
              "      <td>2.0 star rating</td>\n",
              "    </tr>\n",
              "    <tr>\n",
              "      <th>4</th>\n",
              "      <td>The Factory - Cafe With a Soul</td>\n",
              "      <td>12/3/2016 1 check-in They are located within ...</td>\n",
              "      <td>4.0 star rating</td>\n",
              "    </tr>\n",
              "  </tbody>\n",
              "</table>\n",
              "</div>"
            ],
            "text/plain": [
              "                  coffee_shop_name  ...        star_rating\n",
              "0  The Factory - Cafe With a Soul   ...   5.0 star rating \n",
              "1  The Factory - Cafe With a Soul   ...   4.0 star rating \n",
              "2  The Factory - Cafe With a Soul   ...   4.0 star rating \n",
              "3  The Factory - Cafe With a Soul   ...   2.0 star rating \n",
              "4  The Factory - Cafe With a Soul   ...   4.0 star rating \n",
              "\n",
              "[5 rows x 3 columns]"
            ]
          },
          "metadata": {
            "tags": []
          },
          "execution_count": 5
        }
      ]
    },
    {
      "cell_type": "markdown",
      "metadata": {
        "id": "aj8v8Kc2Dhde",
        "colab_type": "text"
      },
      "source": [
        "# Apply lemmetization first before further analysis"
      ]
    },
    {
      "cell_type": "code",
      "metadata": {
        "id": "a1i_6pEUDoOa",
        "colab_type": "code",
        "colab": {
          "base_uri": "https://localhost:8080/",
          "height": 225
        },
        "outputId": "bbece167-0298-430d-a5b5-dd20010a112f"
      },
      "source": [
        "# I want to check if all reviews are from the same coffee shop\n",
        "\n",
        "shops['coffee_shop_name'].value_counts()"
      ],
      "execution_count": 6,
      "outputs": [
        {
          "output_type": "execute_result",
          "data": {
            "text/plain": [
              "Epoch Coffee                            400\n",
              "Halcyon                                 300\n",
              "The Factory - Cafe With a Soul          244\n",
              "Houndstooth Coffee                      200\n",
              "Venezia Italian Gelato                  200\n",
              "                                       ... \n",
              "Lucky Lab Coffee                         25\n",
              "Sister Coffee                            17\n",
              "Kowabunga Coffee                         16\n",
              "The Marvelous Vintage Tea Party Co.      10\n",
              "Lola Savannah Coffee Downtown             4\n",
              "Name: coffee_shop_name, Length: 79, dtype: int64"
            ]
          },
          "metadata": {
            "tags": []
          },
          "execution_count": 6
        }
      ]
    },
    {
      "cell_type": "code",
      "metadata": {
        "id": "boPgwjdLB_Vb",
        "colab_type": "code",
        "colab": {
          "base_uri": "https://localhost:8080/",
          "height": 662
        },
        "outputId": "04a5509f-824f-4e39-a3e8-2697448c0764"
      },
      "source": [
        "# I want to start by removing dates from \"full_review_text\"\n",
        "# Then I want to combine check-in with check-ins from \"full_review_text\"\n",
        "# I'll remove the number that appears after the dates\n",
        "# and treat check-in as a stop word and remove it.\n",
        "\n",
        "shops.head(20)"
      ],
      "execution_count": 7,
      "outputs": [
        {
          "output_type": "execute_result",
          "data": {
            "text/html": [
              "<div>\n",
              "<style scoped>\n",
              "    .dataframe tbody tr th:only-of-type {\n",
              "        vertical-align: middle;\n",
              "    }\n",
              "\n",
              "    .dataframe tbody tr th {\n",
              "        vertical-align: top;\n",
              "    }\n",
              "\n",
              "    .dataframe thead th {\n",
              "        text-align: right;\n",
              "    }\n",
              "</style>\n",
              "<table border=\"1\" class=\"dataframe\">\n",
              "  <thead>\n",
              "    <tr style=\"text-align: right;\">\n",
              "      <th></th>\n",
              "      <th>coffee_shop_name</th>\n",
              "      <th>full_review_text</th>\n",
              "      <th>star_rating</th>\n",
              "    </tr>\n",
              "  </thead>\n",
              "  <tbody>\n",
              "    <tr>\n",
              "      <th>0</th>\n",
              "      <td>The Factory - Cafe With a Soul</td>\n",
              "      <td>11/25/2016 1 check-in Love love loved the atm...</td>\n",
              "      <td>5.0 star rating</td>\n",
              "    </tr>\n",
              "    <tr>\n",
              "      <th>1</th>\n",
              "      <td>The Factory - Cafe With a Soul</td>\n",
              "      <td>12/2/2016 Listed in Date Night: Austin, Ambia...</td>\n",
              "      <td>4.0 star rating</td>\n",
              "    </tr>\n",
              "    <tr>\n",
              "      <th>2</th>\n",
              "      <td>The Factory - Cafe With a Soul</td>\n",
              "      <td>11/30/2016 1 check-in Listed in Brunch Spots ...</td>\n",
              "      <td>4.0 star rating</td>\n",
              "    </tr>\n",
              "    <tr>\n",
              "      <th>3</th>\n",
              "      <td>The Factory - Cafe With a Soul</td>\n",
              "      <td>11/25/2016 Very cool decor! Good drinks Nice ...</td>\n",
              "      <td>2.0 star rating</td>\n",
              "    </tr>\n",
              "    <tr>\n",
              "      <th>4</th>\n",
              "      <td>The Factory - Cafe With a Soul</td>\n",
              "      <td>12/3/2016 1 check-in They are located within ...</td>\n",
              "      <td>4.0 star rating</td>\n",
              "    </tr>\n",
              "    <tr>\n",
              "      <th>5</th>\n",
              "      <td>The Factory - Cafe With a Soul</td>\n",
              "      <td>11/20/2016 1 check-in Very cute cafe! I think...</td>\n",
              "      <td>4.0 star rating</td>\n",
              "    </tr>\n",
              "    <tr>\n",
              "      <th>6</th>\n",
              "      <td>The Factory - Cafe With a Soul</td>\n",
              "      <td>10/27/2016 2 check-ins Listed in \"Nuptial Cof...</td>\n",
              "      <td>4.0 star rating</td>\n",
              "    </tr>\n",
              "    <tr>\n",
              "      <th>7</th>\n",
              "      <td>The Factory - Cafe With a Soul</td>\n",
              "      <td>11/2/2016 2 check-ins Love this place!  5 sta...</td>\n",
              "      <td>5.0 star rating</td>\n",
              "    </tr>\n",
              "    <tr>\n",
              "      <th>8</th>\n",
              "      <td>The Factory - Cafe With a Soul</td>\n",
              "      <td>10/25/2016 1 check-in Ok, let's try this appr...</td>\n",
              "      <td>3.0 star rating</td>\n",
              "    </tr>\n",
              "    <tr>\n",
              "      <th>9</th>\n",
              "      <td>The Factory - Cafe With a Soul</td>\n",
              "      <td>11/10/2016 3 check-ins This place has been sh...</td>\n",
              "      <td>5.0 star rating</td>\n",
              "    </tr>\n",
              "    <tr>\n",
              "      <th>10</th>\n",
              "      <td>The Factory - Cafe With a Soul</td>\n",
              "      <td>10/22/2016 1 check-in Listed in Americano Thi...</td>\n",
              "      <td>4.0 star rating</td>\n",
              "    </tr>\n",
              "    <tr>\n",
              "      <th>11</th>\n",
              "      <td>The Factory - Cafe With a Soul</td>\n",
              "      <td>11/20/2016 The store has A+ decoration, but h...</td>\n",
              "      <td>3.0 star rating</td>\n",
              "    </tr>\n",
              "    <tr>\n",
              "      <th>12</th>\n",
              "      <td>The Factory - Cafe With a Soul</td>\n",
              "      <td>11/17/2016 1 check-in Listed in 2016 - The Th...</td>\n",
              "      <td>3.0 star rating</td>\n",
              "    </tr>\n",
              "    <tr>\n",
              "      <th>13</th>\n",
              "      <td>The Factory - Cafe With a Soul</td>\n",
              "      <td>12/5/2016 This is such a cute little cafe! I'...</td>\n",
              "      <td>5.0 star rating</td>\n",
              "    </tr>\n",
              "    <tr>\n",
              "      <th>14</th>\n",
              "      <td>The Factory - Cafe With a Soul</td>\n",
              "      <td>11/13/2016 Beautiful eccentric coffee shop wi...</td>\n",
              "      <td>5.0 star rating</td>\n",
              "    </tr>\n",
              "    <tr>\n",
              "      <th>15</th>\n",
              "      <td>The Factory - Cafe With a Soul</td>\n",
              "      <td>11/9/2016 1 check-in Listed in In Search of F...</td>\n",
              "      <td>5.0 star rating</td>\n",
              "    </tr>\n",
              "    <tr>\n",
              "      <th>16</th>\n",
              "      <td>The Factory - Cafe With a Soul</td>\n",
              "      <td>11/6/2016 Really love the atmosphere here! I ...</td>\n",
              "      <td>5.0 star rating</td>\n",
              "    </tr>\n",
              "    <tr>\n",
              "      <th>17</th>\n",
              "      <td>The Factory - Cafe With a Soul</td>\n",
              "      <td>10/25/2016 1 check-in Check out this video fo...</td>\n",
              "      <td>4.0 star rating</td>\n",
              "    </tr>\n",
              "    <tr>\n",
              "      <th>18</th>\n",
              "      <td>The Factory - Cafe With a Soul</td>\n",
              "      <td>10/15/2016 1 check-in Note: Do not come here ...</td>\n",
              "      <td>4.0 star rating</td>\n",
              "    </tr>\n",
              "    <tr>\n",
              "      <th>19</th>\n",
              "      <td>The Factory - Cafe With a Soul</td>\n",
              "      <td>12/1/2016 So much aesthetic in this place. I ...</td>\n",
              "      <td>4.0 star rating</td>\n",
              "    </tr>\n",
              "  </tbody>\n",
              "</table>\n",
              "</div>"
            ],
            "text/plain": [
              "                   coffee_shop_name  ...        star_rating\n",
              "0   The Factory - Cafe With a Soul   ...   5.0 star rating \n",
              "1   The Factory - Cafe With a Soul   ...   4.0 star rating \n",
              "2   The Factory - Cafe With a Soul   ...   4.0 star rating \n",
              "3   The Factory - Cafe With a Soul   ...   2.0 star rating \n",
              "4   The Factory - Cafe With a Soul   ...   4.0 star rating \n",
              "5   The Factory - Cafe With a Soul   ...   4.0 star rating \n",
              "6   The Factory - Cafe With a Soul   ...   4.0 star rating \n",
              "7   The Factory - Cafe With a Soul   ...   5.0 star rating \n",
              "8   The Factory - Cafe With a Soul   ...   3.0 star rating \n",
              "9   The Factory - Cafe With a Soul   ...   5.0 star rating \n",
              "10  The Factory - Cafe With a Soul   ...   4.0 star rating \n",
              "11  The Factory - Cafe With a Soul   ...   3.0 star rating \n",
              "12  The Factory - Cafe With a Soul   ...   3.0 star rating \n",
              "13  The Factory - Cafe With a Soul   ...   5.0 star rating \n",
              "14  The Factory - Cafe With a Soul   ...   5.0 star rating \n",
              "15  The Factory - Cafe With a Soul   ...   5.0 star rating \n",
              "16  The Factory - Cafe With a Soul   ...   5.0 star rating \n",
              "17  The Factory - Cafe With a Soul   ...   4.0 star rating \n",
              "18  The Factory - Cafe With a Soul   ...   4.0 star rating \n",
              "19  The Factory - Cafe With a Soul   ...   4.0 star rating \n",
              "\n",
              "[20 rows x 3 columns]"
            ]
          },
          "metadata": {
            "tags": []
          },
          "execution_count": 7
        }
      ]
    },
    {
      "cell_type": "code",
      "metadata": {
        "id": "KFxg3tH8G1JQ",
        "colab_type": "code",
        "colab": {
          "base_uri": "https://localhost:8080/",
          "height": 225
        },
        "outputId": "59a1edca-754d-463a-d3e1-68df9a503de4"
      },
      "source": [
        "# Here is a preview of full_text_review column\n",
        "shops['full_review_text']"
      ],
      "execution_count": 8,
      "outputs": [
        {
          "output_type": "execute_result",
          "data": {
            "text/plain": [
              "0        11/25/2016 1 check-in Love love loved the atm...\n",
              "1        12/2/2016 Listed in Date Night: Austin, Ambia...\n",
              "2        11/30/2016 1 check-in Listed in Brunch Spots ...\n",
              "3        11/25/2016 Very cool decor! Good drinks Nice ...\n",
              "4        12/3/2016 1 check-in They are located within ...\n",
              "                              ...                        \n",
              "7611     2/19/2015 I actually step into this restauran...\n",
              "7612     1/21/2016 Ok, The Steeping Room IS awesome. H...\n",
              "7613     4/30/2015 Loved coming here for tea, and the ...\n",
              "7614     8/2/2015 The food is just average. The booths...\n",
              "7615     5/23/2015 I finally stopped in for lunch with...\n",
              "Name: full_review_text, Length: 7616, dtype: object"
            ]
          },
          "metadata": {
            "tags": []
          },
          "execution_count": 8
        }
      ]
    },
    {
      "cell_type": "code",
      "metadata": {
        "id": "9txZLawYHLxD",
        "colab_type": "code",
        "colab": {
          "base_uri": "https://localhost:8080/",
          "height": 87
        },
        "outputId": "7c724e89-5547-419a-884f-10b93b610163"
      },
      "source": [
        "# this will check the dtypes\n",
        "shops.dtypes"
      ],
      "execution_count": 9,
      "outputs": [
        {
          "output_type": "execute_result",
          "data": {
            "text/plain": [
              "coffee_shop_name    object\n",
              "full_review_text    object\n",
              "star_rating         object\n",
              "dtype: object"
            ]
          },
          "metadata": {
            "tags": []
          },
          "execution_count": 9
        }
      ]
    },
    {
      "cell_type": "code",
      "metadata": {
        "id": "DsmK88MtHR10",
        "colab_type": "code",
        "colab": {
          "base_uri": "https://localhost:8080/",
          "height": 121
        },
        "outputId": "ee74e456-c927-4f96-d3b7-f22c8a42ac04"
      },
      "source": [
        "# Here is a preview of star_rating column\n",
        "shops['star_rating'].value_counts()"
      ],
      "execution_count": 10,
      "outputs": [
        {
          "output_type": "execute_result",
          "data": {
            "text/plain": [
              " 5.0 star rating     3780\n",
              " 4.0 star rating     2360\n",
              " 3.0 star rating      738\n",
              " 2.0 star rating      460\n",
              " 1.0 star rating      278\n",
              "Name: star_rating, dtype: int64"
            ]
          },
          "metadata": {
            "tags": []
          },
          "execution_count": 10
        }
      ]
    },
    {
      "cell_type": "code",
      "metadata": {
        "id": "HL7V6PpzHfs-",
        "colab_type": "code",
        "colab": {
          "base_uri": "https://localhost:8080/",
          "height": 225
        },
        "outputId": "30ef62f0-61d8-48a4-c301-5fdc8bd64c53"
      },
      "source": [
        "shops['star_rating']"
      ],
      "execution_count": 11,
      "outputs": [
        {
          "output_type": "execute_result",
          "data": {
            "text/plain": [
              "0        5.0 star rating \n",
              "1        4.0 star rating \n",
              "2        4.0 star rating \n",
              "3        2.0 star rating \n",
              "4        4.0 star rating \n",
              "              ...        \n",
              "7611     4.0 star rating \n",
              "7612     5.0 star rating \n",
              "7613     4.0 star rating \n",
              "7614     3.0 star rating \n",
              "7615     4.0 star rating \n",
              "Name: star_rating, Length: 7616, dtype: object"
            ]
          },
          "metadata": {
            "tags": []
          },
          "execution_count": 11
        }
      ]
    },
    {
      "cell_type": "markdown",
      "metadata": {
        "id": "naEnooXyICgr",
        "colab_type": "text"
      },
      "source": [
        "#### - You want to use regex only to keep text from full_text_review\n",
        "  * Same using regex only to keep numbers from star_rating column\n",
        "  * I will tokenize full_text_review\n",
        "  * I will use lambda expression to combine check-in and check-ins\n",
        "  * I will add check-in to stop words so I can remove it\n",
        "  * I will make everything lower case and begin analysis"
      ]
    },
    {
      "cell_type": "code",
      "metadata": {
        "id": "8to-Mtw3IxNI",
        "colab_type": "code",
        "colab": {}
      },
      "source": [
        "import re"
      ],
      "execution_count": 12,
      "outputs": []
    },
    {
      "cell_type": "code",
      "metadata": {
        "id": "GnJM-Zf0I0ap",
        "colab_type": "code",
        "colab": {
          "base_uri": "https://localhost:8080/",
          "height": 87
        },
        "outputId": "c08db49b-24f8-41e3-e473-171673c6c955"
      },
      "source": [
        "# I will start by creating sample data\n",
        "\n",
        "sample = shops['full_review_text'][0]\n",
        "sample"
      ],
      "execution_count": 13,
      "outputs": [
        {
          "output_type": "execute_result",
          "data": {
            "application/vnd.google.colaboratory.intrinsic": {
              "type": "string"
            },
            "text/plain": [
              "' 11/25/2016 1 check-in Love love loved the atmosphere! Every corner of the coffee shop had its own style, and there were swings!!! I ordered the matcha latte, and it was muy fantastico! Ordering and getting my drink were pretty streamlined. I ordered on an iPad, which included all beverage selections that ranged from coffee to wine, desired level of sweetness, and a checkout system. I got my latte within minutes!  I was hoping for a typical heart or feather on my latte, but found myself listing out all the possibilities of what the art may be. Any ideas? '"
            ]
          },
          "metadata": {
            "tags": []
          },
          "execution_count": 13
        }
      ]
    },
    {
      "cell_type": "code",
      "metadata": {
        "id": "FWIxnHFLKkZW",
        "colab_type": "code",
        "colab": {
          "base_uri": "https://localhost:8080/",
          "height": 436
        },
        "outputId": "54917fa3-82ca-446b-fd8b-98388d1b8f93"
      },
      "source": [
        "!python -m spacy download en_core_web_lg"
      ],
      "execution_count": 14,
      "outputs": [
        {
          "output_type": "stream",
          "text": [
            "Requirement already satisfied: en_core_web_lg==2.2.5 from https://github.com/explosion/spacy-models/releases/download/en_core_web_lg-2.2.5/en_core_web_lg-2.2.5.tar.gz#egg=en_core_web_lg==2.2.5 in /usr/local/lib/python3.6/dist-packages (2.2.5)\n",
            "Requirement already satisfied: spacy>=2.2.2 in /usr/local/lib/python3.6/dist-packages (from en_core_web_lg==2.2.5) (2.2.4)\n",
            "Requirement already satisfied: tqdm<5.0.0,>=4.38.0 in /usr/local/lib/python3.6/dist-packages (from spacy>=2.2.2->en_core_web_lg==2.2.5) (4.41.1)\n",
            "Requirement already satisfied: numpy>=1.15.0 in /usr/local/lib/python3.6/dist-packages (from spacy>=2.2.2->en_core_web_lg==2.2.5) (1.18.5)\n",
            "Requirement already satisfied: cymem<2.1.0,>=2.0.2 in /usr/local/lib/python3.6/dist-packages (from spacy>=2.2.2->en_core_web_lg==2.2.5) (2.0.3)\n",
            "Requirement already satisfied: plac<1.2.0,>=0.9.6 in /usr/local/lib/python3.6/dist-packages (from spacy>=2.2.2->en_core_web_lg==2.2.5) (1.1.3)\n",
            "Requirement already satisfied: requests<3.0.0,>=2.13.0 in /usr/local/lib/python3.6/dist-packages (from spacy>=2.2.2->en_core_web_lg==2.2.5) (2.23.0)\n",
            "Requirement already satisfied: thinc==7.4.0 in /usr/local/lib/python3.6/dist-packages (from spacy>=2.2.2->en_core_web_lg==2.2.5) (7.4.0)\n",
            "Requirement already satisfied: preshed<3.1.0,>=3.0.2 in /usr/local/lib/python3.6/dist-packages (from spacy>=2.2.2->en_core_web_lg==2.2.5) (3.0.2)\n",
            "Requirement already satisfied: blis<0.5.0,>=0.4.0 in /usr/local/lib/python3.6/dist-packages (from spacy>=2.2.2->en_core_web_lg==2.2.5) (0.4.1)\n",
            "Requirement already satisfied: wasabi<1.1.0,>=0.4.0 in /usr/local/lib/python3.6/dist-packages (from spacy>=2.2.2->en_core_web_lg==2.2.5) (0.7.0)\n",
            "Requirement already satisfied: srsly<1.1.0,>=1.0.2 in /usr/local/lib/python3.6/dist-packages (from spacy>=2.2.2->en_core_web_lg==2.2.5) (1.0.2)\n",
            "Requirement already satisfied: setuptools in /usr/local/lib/python3.6/dist-packages (from spacy>=2.2.2->en_core_web_lg==2.2.5) (47.3.1)\n",
            "Requirement already satisfied: murmurhash<1.1.0,>=0.28.0 in /usr/local/lib/python3.6/dist-packages (from spacy>=2.2.2->en_core_web_lg==2.2.5) (1.0.2)\n",
            "Requirement already satisfied: catalogue<1.1.0,>=0.0.7 in /usr/local/lib/python3.6/dist-packages (from spacy>=2.2.2->en_core_web_lg==2.2.5) (1.0.0)\n",
            "Requirement already satisfied: idna<3,>=2.5 in /usr/local/lib/python3.6/dist-packages (from requests<3.0.0,>=2.13.0->spacy>=2.2.2->en_core_web_lg==2.2.5) (2.9)\n",
            "Requirement already satisfied: chardet<4,>=3.0.2 in /usr/local/lib/python3.6/dist-packages (from requests<3.0.0,>=2.13.0->spacy>=2.2.2->en_core_web_lg==2.2.5) (3.0.4)\n",
            "Requirement already satisfied: certifi>=2017.4.17 in /usr/local/lib/python3.6/dist-packages (from requests<3.0.0,>=2.13.0->spacy>=2.2.2->en_core_web_lg==2.2.5) (2020.6.20)\n",
            "Requirement already satisfied: urllib3!=1.25.0,!=1.25.1,<1.26,>=1.21.1 in /usr/local/lib/python3.6/dist-packages (from requests<3.0.0,>=2.13.0->spacy>=2.2.2->en_core_web_lg==2.2.5) (1.24.3)\n",
            "Requirement already satisfied: importlib-metadata>=0.20; python_version < \"3.8\" in /usr/local/lib/python3.6/dist-packages (from catalogue<1.1.0,>=0.0.7->spacy>=2.2.2->en_core_web_lg==2.2.5) (1.6.1)\n",
            "Requirement already satisfied: zipp>=0.5 in /usr/local/lib/python3.6/dist-packages (from importlib-metadata>=0.20; python_version < \"3.8\"->catalogue<1.1.0,>=0.0.7->spacy>=2.2.2->en_core_web_lg==2.2.5) (3.1.0)\n",
            "\u001b[38;5;2m✔ Download and installation successful\u001b[0m\n",
            "You can now load the model via spacy.load('en_core_web_lg')\n"
          ],
          "name": "stdout"
        }
      ]
    },
    {
      "cell_type": "code",
      "metadata": {
        "id": "BgF9NnNUMYvu",
        "colab_type": "code",
        "colab": {
          "base_uri": "https://localhost:8080/",
          "height": 35
        },
        "outputId": "46bee2dc-089c-4e1c-c6b0-b87ee5bdc134"
      },
      "source": [
        "!pip install tokenizer"
      ],
      "execution_count": 15,
      "outputs": [
        {
          "output_type": "stream",
          "text": [
            "Requirement already satisfied: tokenizer in /usr/local/lib/python3.6/dist-packages (2.1.0)\n"
          ],
          "name": "stdout"
        }
      ]
    },
    {
      "cell_type": "code",
      "metadata": {
        "id": "LYoqu70COMA-",
        "colab_type": "code",
        "colab": {
          "base_uri": "https://localhost:8080/",
          "height": 87
        },
        "outputId": "19692116-03d3-49ff-f676-498e33808a07"
      },
      "source": [
        "# Now I will remove dates using a regular expression\n",
        "\n",
        "sample2 = re.sub('[^a-zA-Z]', ' ', sample)\n",
        "sample2"
      ],
      "execution_count": 16,
      "outputs": [
        {
          "output_type": "execute_result",
          "data": {
            "application/vnd.google.colaboratory.intrinsic": {
              "type": "string"
            },
            "text/plain": [
              "'              check in Love love loved the atmosphere  Every corner of the coffee shop had its own style  and there were swings    I ordered the matcha latte  and it was muy fantastico  Ordering and getting my drink were pretty streamlined  I ordered on an iPad  which included all beverage selections that ranged from coffee to wine  desired level of sweetness  and a checkout system  I got my latte within minutes   I was hoping for a typical heart or feather on my latte  but found myself listing out all the possibilities of what the art may be  Any ideas  '"
            ]
          },
          "metadata": {
            "tags": []
          },
          "execution_count": 16
        }
      ]
    },
    {
      "cell_type": "code",
      "metadata": {
        "id": "cLBeutevNIR7",
        "colab_type": "code",
        "colab": {}
      },
      "source": [
        "# I need to import spacy\n",
        "\n",
        "import spacy\n",
        "from spacy.tokenizer import Tokenizer"
      ],
      "execution_count": 17,
      "outputs": []
    },
    {
      "cell_type": "code",
      "metadata": {
        "id": "zdiehAoZJrfP",
        "colab_type": "code",
        "colab": {}
      },
      "source": [
        "# Now I'll try to tokenize the text using spacy\n",
        "# starting with instantiating spacy\n",
        "# en_core_web_lg = language spacy should be using for tokenization\n",
        "\n",
        "nlp = spacy.load(\"en_core_web_lg\")\n",
        "tokenizer = Tokenizer(nlp.vocab)"
      ],
      "execution_count": 18,
      "outputs": []
    },
    {
      "cell_type": "code",
      "metadata": {
        "id": "DVb4kkxvNlBT",
        "colab_type": "code",
        "colab": {
          "base_uri": "https://localhost:8080/",
          "height": 1000
        },
        "outputId": "94906d3b-4498-481a-8c29-7667f70f58c7"
      },
      "source": [
        "# This function will create the tokenizing sample\n",
        "\n",
        "[token.text for token in tokenizer(sample2)]"
      ],
      "execution_count": 19,
      "outputs": [
        {
          "output_type": "execute_result",
          "data": {
            "text/plain": [
              "['              ',\n",
              " 'check',\n",
              " 'in',\n",
              " 'Love',\n",
              " 'love',\n",
              " 'loved',\n",
              " 'the',\n",
              " 'atmosphere',\n",
              " ' ',\n",
              " 'Every',\n",
              " 'corner',\n",
              " 'of',\n",
              " 'the',\n",
              " 'coffee',\n",
              " 'shop',\n",
              " 'had',\n",
              " 'its',\n",
              " 'own',\n",
              " 'style',\n",
              " ' ',\n",
              " 'and',\n",
              " 'there',\n",
              " 'were',\n",
              " 'swings',\n",
              " '   ',\n",
              " 'I',\n",
              " 'ordered',\n",
              " 'the',\n",
              " 'matcha',\n",
              " 'latte',\n",
              " ' ',\n",
              " 'and',\n",
              " 'it',\n",
              " 'was',\n",
              " 'muy',\n",
              " 'fantastico',\n",
              " ' ',\n",
              " 'Ordering',\n",
              " 'and',\n",
              " 'getting',\n",
              " 'my',\n",
              " 'drink',\n",
              " 'were',\n",
              " 'pretty',\n",
              " 'streamlined',\n",
              " ' ',\n",
              " 'I',\n",
              " 'ordered',\n",
              " 'on',\n",
              " 'an',\n",
              " 'iPad',\n",
              " ' ',\n",
              " 'which',\n",
              " 'included',\n",
              " 'all',\n",
              " 'beverage',\n",
              " 'selections',\n",
              " 'that',\n",
              " 'ranged',\n",
              " 'from',\n",
              " 'coffee',\n",
              " 'to',\n",
              " 'wine',\n",
              " ' ',\n",
              " 'desired',\n",
              " 'level',\n",
              " 'of',\n",
              " 'sweetness',\n",
              " ' ',\n",
              " 'and',\n",
              " 'a',\n",
              " 'checkout',\n",
              " 'system',\n",
              " ' ',\n",
              " 'I',\n",
              " 'got',\n",
              " 'my',\n",
              " 'latte',\n",
              " 'within',\n",
              " 'minutes',\n",
              " '  ',\n",
              " 'I',\n",
              " 'was',\n",
              " 'hoping',\n",
              " 'for',\n",
              " 'a',\n",
              " 'typical',\n",
              " 'heart',\n",
              " 'or',\n",
              " 'feather',\n",
              " 'on',\n",
              " 'my',\n",
              " 'latte',\n",
              " ' ',\n",
              " 'but',\n",
              " 'found',\n",
              " 'myself',\n",
              " 'listing',\n",
              " 'out',\n",
              " 'all',\n",
              " 'the',\n",
              " 'possibilities',\n",
              " 'of',\n",
              " 'what',\n",
              " 'the',\n",
              " 'art',\n",
              " 'may',\n",
              " 'be',\n",
              " ' ',\n",
              " 'Any',\n",
              " 'ideas',\n",
              " ' ']"
            ]
          },
          "metadata": {
            "tags": []
          },
          "execution_count": 19
        }
      ]
    },
    {
      "cell_type": "code",
      "metadata": {
        "id": "tU6yWJmhPtvo",
        "colab_type": "code",
        "colab": {
          "base_uri": "https://localhost:8080/",
          "height": 121
        },
        "outputId": "ded7fd4e-649a-40a7-e79c-afeb1ab7306d"
      },
      "source": [
        "# now apply this regex and tokenization to entire column of full_text_reviews. \n",
        "\n",
        "# a doc is a collection of tokens. each line is a doc. \n",
        "# a token is words, numbers, punctuation. \n",
        "\n",
        "result = []\n",
        "for doc in tokenizer.pipe(shops['full_review_text'], batch_size=500):\n",
        "    # tokenizing each doc. \n",
        "    doc_token = [token.text for token in doc]\n",
        "    result.append(doc_token)\n",
        "    \n",
        "\n",
        "shops['review_tokens'] = result\n",
        "shops['review_tokens'].head()"
      ],
      "execution_count": 20,
      "outputs": [
        {
          "output_type": "execute_result",
          "data": {
            "text/plain": [
              "0    [ , 11/25/2016, 1, check-in, Love, love, loved...\n",
              "1    [ , 12/2/2016, Listed, in, Date, Night:, Austi...\n",
              "2    [ , 11/30/2016, 1, check-in, Listed, in, Brunc...\n",
              "3    [ , 11/25/2016, Very, cool, decor!, Good, drin...\n",
              "4    [ , 12/3/2016, 1, check-in, They, are, located...\n",
              "Name: review_tokens, dtype: object"
            ]
          },
          "metadata": {
            "tags": []
          },
          "execution_count": 20
        }
      ]
    },
    {
      "cell_type": "code",
      "metadata": {
        "id": "nyN3VFJGP70t",
        "colab_type": "code",
        "colab": {
          "base_uri": "https://localhost:8080/",
          "height": 35
        },
        "outputId": "8ec77336-2d94-4fd9-b8c3-6d541edd8324"
      },
      "source": [
        "# now use regex to find dates, numbers, dollar symbols and remove them. \n",
        "\n",
        "# how to use regex to find dates\n",
        "date_sample = shops['review_tokens'][0]\n",
        "re.findall(r'\\b[0-3]?[0-9]/[0-3]?[0-9]/(?:[0-9]{2})?[0-9]{2}\\b', sample)"
      ],
      "execution_count": 21,
      "outputs": [
        {
          "output_type": "execute_result",
          "data": {
            "text/plain": [
              "['11/25/2016']"
            ]
          },
          "metadata": {
            "tags": []
          },
          "execution_count": 21
        }
      ]
    },
    {
      "cell_type": "code",
      "metadata": {
        "id": "xiGg79BnQG0j",
        "colab_type": "code",
        "colab": {}
      },
      "source": [
        "# I want to see if I can repeat the regex above that removes dates, but apply it\n",
        "# to the entire column\n",
        "\n",
        "no_dates = [re.sub('[^a-zA-Z ]', '', text) for text in shops['full_review_text']]"
      ],
      "execution_count": 22,
      "outputs": []
    },
    {
      "cell_type": "code",
      "metadata": {
        "id": "zYtgcw-QQTPC",
        "colab_type": "code",
        "colab": {
          "base_uri": "https://localhost:8080/",
          "height": 121
        },
        "outputId": "8d77ee58-fbbb-4923-999d-5d3f657c1782"
      },
      "source": [
        "# This function will create a new column that has the same information as \n",
        "# full_review_text but without the dates\n",
        "\n",
        "shops['no_dates'] = no_dates\n",
        "shops['no_dates'].head()"
      ],
      "execution_count": 23,
      "outputs": [
        {
          "output_type": "execute_result",
          "data": {
            "text/plain": [
              "0       checkin Love love loved the atmosphere Ever...\n",
              "1      Listed in Date Night Austin Ambiance in Aust...\n",
              "2       checkin Listed in Brunch Spots I loved the ...\n",
              "3      Very cool decor Good drinks Nice seating  Ho...\n",
              "4       checkin They are located within the Northcr...\n",
              "Name: no_dates, dtype: object"
            ]
          },
          "metadata": {
            "tags": []
          },
          "execution_count": 23
        }
      ]
    },
    {
      "cell_type": "code",
      "metadata": {
        "id": "I78l-QrPQlZB",
        "colab_type": "code",
        "colab": {
          "base_uri": "https://localhost:8080/",
          "height": 121
        },
        "outputId": "2c671939-3464-4359-8e42-bda7bb8eb567"
      },
      "source": [
        "# Now I'll repeat the tokenization step and the result should be without dates.\n",
        "\n",
        "result2 = []\n",
        "for doc in tokenizer.pipe(shops['no_dates'], batch_size=500):\n",
        "  # this should tokenize each doc\n",
        "  doc_token = [token.text for token in doc]\n",
        "  result2.append(doc_token)\n",
        "\n",
        "\n",
        "shops['review_tokens2'] = result2\n",
        "shops['review_tokens2'].head()"
      ],
      "execution_count": 24,
      "outputs": [
        {
          "output_type": "execute_result",
          "data": {
            "text/plain": [
              "0    [   , checkin, Love, love, loved, the, atmosph...\n",
              "1    [  , Listed, in, Date, Night, Austin, Ambiance...\n",
              "2    [   , checkin, Listed, in, Brunch, Spots, I, l...\n",
              "3    [  , Very, cool, decor, Good, drinks, Nice, se...\n",
              "4    [   , checkin, They, are, located, within, the...\n",
              "Name: review_tokens2, dtype: object"
            ]
          },
          "metadata": {
            "tags": []
          },
          "execution_count": 24
        }
      ]
    },
    {
      "cell_type": "code",
      "metadata": {
        "id": "vr5RSaLzRWEF",
        "colab_type": "code",
        "colab": {}
      },
      "source": [
        "# Now I'll ad check-in and check-ins to stop words\n",
        "\n",
        "stop_words = nlp.Defaults.stop_words.union(['shop','coffee', 'place','im','checkin', 'checkins', \"  \", \"   \", \"$\", ' '])"
      ],
      "execution_count": 25,
      "outputs": []
    },
    {
      "cell_type": "code",
      "metadata": {
        "id": "AmV16z4RR24d",
        "colab_type": "code",
        "colab": {
          "base_uri": "https://localhost:8080/",
          "height": 121
        },
        "outputId": "9e4e7ece-d133-4c4b-f259-354dec760da0"
      },
      "source": [
        "# In order to get rid of the white space up front, I could remove the first index\n",
        "# of everything in the list, or the other option would be to add double and tripple\n",
        "# white spaces to stop words. \n",
        "# So putting spaces in stop words is the better option since double and tripple\n",
        "# white spaces are actually located in other places within the doc.\n",
        "\n",
        "\n",
        "results3 = []\n",
        "\n",
        "for doc in tokenizer.pipe(shops['no_dates'], batch_size=500):\n",
        "    doc_tokens = [] \n",
        "    \n",
        "    for token in doc:\n",
        "        if token.text.lower() not in stop_words:\n",
        "            doc_tokens.append(token.text.lower())\n",
        "            \n",
        "    results3.append(doc_tokens)\n",
        "    \n",
        "shops['review_tokens3'] = results3\n",
        "shops['review_tokens3'].head()"
      ],
      "execution_count": 26,
      "outputs": [
        {
          "output_type": "execute_result",
          "data": {
            "text/plain": [
              "0    [love, love, loved, atmosphere, corner, style,...\n",
              "1    [listed, date, night, austin, ambiance, austin...\n",
              "2    [listed, brunch, spots, loved, eclectic, homey...\n",
              "3    [cool, decor, good, drinks, nice, seating, ove...\n",
              "4    [located, northcross, mall, shopping, center, ...\n",
              "Name: review_tokens3, dtype: object"
            ]
          },
          "metadata": {
            "tags": []
          },
          "execution_count": 26
        }
      ]
    },
    {
      "cell_type": "markdown",
      "metadata": {
        "id": "gOa3pUJ6UMQ1",
        "colab_type": "text"
      },
      "source": [
        "## Next up - remove \"star_rating\" from the column"
      ]
    },
    {
      "cell_type": "code",
      "metadata": {
        "id": "uchcC00SR1vq",
        "colab_type": "code",
        "colab": {
          "base_uri": "https://localhost:8080/",
          "height": 35
        },
        "outputId": "462806f0-e63e-42b9-8824-979734d3a0f4"
      },
      "source": [
        "star_sample = shops['star_rating'][0]\n",
        "star_sample"
      ],
      "execution_count": 27,
      "outputs": [
        {
          "output_type": "execute_result",
          "data": {
            "application/vnd.google.colaboratory.intrinsic": {
              "type": "string"
            },
            "text/plain": [
              "' 5.0 star rating '"
            ]
          },
          "metadata": {
            "tags": []
          },
          "execution_count": 27
        }
      ]
    },
    {
      "cell_type": "code",
      "metadata": {
        "id": "oD-wRgfQUgnb",
        "colab_type": "code",
        "colab": {
          "base_uri": "https://localhost:8080/",
          "height": 35
        },
        "outputId": "99a247e3-3271-4287-cd32-2cf9df27465e"
      },
      "source": [
        "re.sub('[^1-9]', \"\", star_sample)"
      ],
      "execution_count": 28,
      "outputs": [
        {
          "output_type": "execute_result",
          "data": {
            "application/vnd.google.colaboratory.intrinsic": {
              "type": "string"
            },
            "text/plain": [
              "'5'"
            ]
          },
          "metadata": {
            "tags": []
          },
          "execution_count": 28
        }
      ]
    },
    {
      "cell_type": "code",
      "metadata": {
        "id": "nCtdnnvmUuGN",
        "colab_type": "code",
        "colab": {
          "base_uri": "https://localhost:8080/",
          "height": 121
        },
        "outputId": "5cf24e04-5e6b-402f-84ba-a708c159c109"
      },
      "source": [
        "\n",
        "rating = [re.sub('[^1-9]',\"\",star_sample) for star_sample in shops['star_rating']]\n",
        "\n",
        "shops['rating'] = rating\n",
        "shops['rating'].head()"
      ],
      "execution_count": 29,
      "outputs": [
        {
          "output_type": "execute_result",
          "data": {
            "text/plain": [
              "0    5\n",
              "1    4\n",
              "2    4\n",
              "3    2\n",
              "4    4\n",
              "Name: rating, dtype: object"
            ]
          },
          "metadata": {
            "tags": []
          },
          "execution_count": 29
        }
      ]
    },
    {
      "cell_type": "code",
      "metadata": {
        "id": "Lsy4UySbU5cm",
        "colab_type": "code",
        "colab": {
          "base_uri": "https://localhost:8080/",
          "height": 173
        },
        "outputId": "3741b3fb-52db-4175-8326-68e9ffd6b724"
      },
      "source": [
        "shops.dtypes"
      ],
      "execution_count": 30,
      "outputs": [
        {
          "output_type": "execute_result",
          "data": {
            "text/plain": [
              "coffee_shop_name    object\n",
              "full_review_text    object\n",
              "star_rating         object\n",
              "review_tokens       object\n",
              "no_dates            object\n",
              "review_tokens2      object\n",
              "review_tokens3      object\n",
              "rating              object\n",
              "dtype: object"
            ]
          },
          "metadata": {
            "tags": []
          },
          "execution_count": 30
        }
      ]
    },
    {
      "cell_type": "markdown",
      "metadata": {
        "id": "5x4n6jz_B_Ve",
        "colab_type": "text"
      },
      "source": [
        "## How do we want to analyze these coffee shop tokens? \n",
        "\n",
        "- Overall Word / Token Count\n",
        "- View Counts by Rating \n",
        "- *Hint:* a 'bad' coffee shops has a rating betweeen 1 & 3 based on the distribution of ratings. A 'good' coffee shop is a 4 or 5. "
      ]
    },
    {
      "cell_type": "code",
      "metadata": {
        "id": "8ErAiRdsIA2j",
        "colab_type": "code",
        "colab": {
          "base_uri": "https://localhost:8080/",
          "height": 745
        },
        "outputId": "0b02d0e5-fd53-4682-c691-567245bd4330"
      },
      "source": [
        "shops['review_tokens3'][0]"
      ],
      "execution_count": 31,
      "outputs": [
        {
          "output_type": "execute_result",
          "data": {
            "text/plain": [
              "['love',\n",
              " 'love',\n",
              " 'loved',\n",
              " 'atmosphere',\n",
              " 'corner',\n",
              " 'style',\n",
              " 'swings',\n",
              " 'ordered',\n",
              " 'matcha',\n",
              " 'latte',\n",
              " 'muy',\n",
              " 'fantastico',\n",
              " 'ordering',\n",
              " 'getting',\n",
              " 'drink',\n",
              " 'pretty',\n",
              " 'streamlined',\n",
              " 'ordered',\n",
              " 'ipad',\n",
              " 'included',\n",
              " 'beverage',\n",
              " 'selections',\n",
              " 'ranged',\n",
              " 'wine',\n",
              " 'desired',\n",
              " 'level',\n",
              " 'sweetness',\n",
              " 'checkout',\n",
              " 'system',\n",
              " 'got',\n",
              " 'latte',\n",
              " 'minutes',\n",
              " 'hoping',\n",
              " 'typical',\n",
              " 'heart',\n",
              " 'feather',\n",
              " 'latte',\n",
              " 'found',\n",
              " 'listing',\n",
              " 'possibilities',\n",
              " 'art',\n",
              " 'ideas']"
            ]
          },
          "metadata": {
            "tags": []
          },
          "execution_count": 31
        }
      ]
    },
    {
      "cell_type": "code",
      "metadata": {
        "id": "s4n5ul4MVTB7",
        "colab_type": "code",
        "colab": {
          "base_uri": "https://localhost:8080/",
          "height": 676
        },
        "outputId": "0caa5303-562e-4a2d-bf0b-201f972fb4c6"
      },
      "source": [
        "# This function should return the overall word count and token count.\n",
        "\n",
        "count = Counter(shops['review_tokens3'][0])\n",
        "count"
      ],
      "execution_count": 32,
      "outputs": [
        {
          "output_type": "execute_result",
          "data": {
            "text/plain": [
              "Counter({'art': 1,\n",
              "         'atmosphere': 1,\n",
              "         'beverage': 1,\n",
              "         'checkout': 1,\n",
              "         'corner': 1,\n",
              "         'desired': 1,\n",
              "         'drink': 1,\n",
              "         'fantastico': 1,\n",
              "         'feather': 1,\n",
              "         'found': 1,\n",
              "         'getting': 1,\n",
              "         'got': 1,\n",
              "         'heart': 1,\n",
              "         'hoping': 1,\n",
              "         'ideas': 1,\n",
              "         'included': 1,\n",
              "         'ipad': 1,\n",
              "         'latte': 3,\n",
              "         'level': 1,\n",
              "         'listing': 1,\n",
              "         'love': 2,\n",
              "         'loved': 1,\n",
              "         'matcha': 1,\n",
              "         'minutes': 1,\n",
              "         'muy': 1,\n",
              "         'ordered': 2,\n",
              "         'ordering': 1,\n",
              "         'possibilities': 1,\n",
              "         'pretty': 1,\n",
              "         'ranged': 1,\n",
              "         'selections': 1,\n",
              "         'streamlined': 1,\n",
              "         'style': 1,\n",
              "         'sweetness': 1,\n",
              "         'swings': 1,\n",
              "         'system': 1,\n",
              "         'typical': 1,\n",
              "         'wine': 1})"
            ]
          },
          "metadata": {
            "tags": []
          },
          "execution_count": 32
        }
      ]
    },
    {
      "cell_type": "code",
      "metadata": {
        "id": "bIuvoXu3Vp5p",
        "colab_type": "code",
        "colab": {
          "base_uri": "https://localhost:8080/",
          "height": 191
        },
        "outputId": "0eb15962-b4aa-4b95-b42a-07b121714270"
      },
      "source": [
        "# I'll attempt to cast the \"count\" result into a dictionary and then\n",
        "# cast the \"a\" into a list so that I can index it and obtain only a subset\n",
        "# of the data if I need to\n",
        "a = dict(count)\n",
        "\n",
        "b = list(a.items())\n",
        "b[:10]"
      ],
      "execution_count": 33,
      "outputs": [
        {
          "output_type": "execute_result",
          "data": {
            "text/plain": [
              "[('love', 2),\n",
              " ('loved', 1),\n",
              " ('atmosphere', 1),\n",
              " ('corner', 1),\n",
              " ('style', 1),\n",
              " ('swings', 1),\n",
              " ('ordered', 2),\n",
              " ('matcha', 1),\n",
              " ('latte', 3),\n",
              " ('muy', 1)]"
            ]
          },
          "metadata": {
            "tags": []
          },
          "execution_count": 33
        }
      ]
    },
    {
      "cell_type": "code",
      "metadata": {
        "id": "-jaK9B82WQVe",
        "colab_type": "code",
        "colab": {}
      },
      "source": [
        "# The following function will instantiate the counter function\n",
        "review_count = Counter()"
      ],
      "execution_count": 34,
      "outputs": []
    },
    {
      "cell_type": "code",
      "metadata": {
        "id": "g2RP8oqiWce6",
        "colab_type": "code",
        "colab": {
          "base_uri": "https://localhost:8080/",
          "height": 191
        },
        "outputId": "fd408641-6f7a-4bca-8e84-3829b719ca90"
      },
      "source": [
        "# This particular function will count each word(token) in each doc in the \n",
        "# review_tokens column then update the counter above\n",
        "\n",
        "shops['review_tokens3'].apply(lambda tokens: review_count.update(tokens))\n",
        "\n",
        "review_count.most_common(10)"
      ],
      "execution_count": 35,
      "outputs": [
        {
          "output_type": "execute_result",
          "data": {
            "text/plain": [
              "[('good', 3973),\n",
              " ('great', 3919),\n",
              " ('like', 3088),\n",
              " ('austin', 2252),\n",
              " ('love', 1935),\n",
              " ('time', 1884),\n",
              " ('food', 1836),\n",
              " ('nice', 1741),\n",
              " ('friendly', 1659),\n",
              " ('latte', 1615)]"
            ]
          },
          "metadata": {
            "tags": []
          },
          "execution_count": 35
        }
      ]
    },
    {
      "cell_type": "code",
      "metadata": {
        "id": "cQ3Q7EtnXIZN",
        "colab_type": "code",
        "colab": {
          "base_uri": "https://localhost:8080/",
          "height": 191
        },
        "outputId": "950b8374-5437-4dad-f415-5e7f5585fb38"
      },
      "source": [
        "# As before, I will cast the result of review_count into a dictionary.\n",
        "c = dict(review_count)\n",
        "\n",
        "# Now I will cast \"c\" into a list so that I can index it and obtain only\n",
        "# a subset of the data if I need to.\n",
        "\n",
        "d = list(c.items())\n",
        "\n",
        "d[:10]"
      ],
      "execution_count": 36,
      "outputs": [
        {
          "output_type": "execute_result",
          "data": {
            "text/plain": [
              "[('love', 1935),\n",
              " ('loved', 366),\n",
              " ('atmosphere', 969),\n",
              " ('corner', 163),\n",
              " ('style', 101),\n",
              " ('swings', 65),\n",
              " ('ordered', 941),\n",
              " ('matcha', 189),\n",
              " ('latte', 1615),\n",
              " ('muy', 5)]"
            ]
          },
          "metadata": {
            "tags": []
          },
          "execution_count": 36
        }
      ]
    },
    {
      "cell_type": "code",
      "metadata": {
        "id": "u537NAPeXqOC",
        "colab_type": "code",
        "colab": {
          "base_uri": "https://localhost:8080/",
          "height": 69
        },
        "outputId": "34df5cc2-cfa0-409e-f296-d671fb9853c3"
      },
      "source": [
        "shops.columns"
      ],
      "execution_count": 37,
      "outputs": [
        {
          "output_type": "execute_result",
          "data": {
            "text/plain": [
              "Index(['coffee_shop_name', 'full_review_text', 'star_rating', 'review_tokens',\n",
              "       'no_dates', 'review_tokens2', 'review_tokens3', 'rating'],\n",
              "      dtype='object')"
            ]
          },
          "metadata": {
            "tags": []
          },
          "execution_count": 37
        }
      ]
    },
    {
      "cell_type": "code",
      "metadata": {
        "id": "_92k4MxzX3Cb",
        "colab_type": "code",
        "colab": {}
      },
      "source": [
        "# Now I want to cast the rating column into an int to make it easier to use as logic.\n",
        "\n",
        "shops['rating'] = pd.to_numeric(shops['rating'])"
      ],
      "execution_count": 38,
      "outputs": []
    },
    {
      "cell_type": "code",
      "metadata": {
        "id": "nSMZxqg3YMZQ",
        "colab_type": "code",
        "colab": {
          "base_uri": "https://localhost:8080/",
          "height": 173
        },
        "outputId": "2776efb6-4c4e-4074-d1cd-6330d86a86ab"
      },
      "source": [
        "shops.dtypes"
      ],
      "execution_count": 39,
      "outputs": [
        {
          "output_type": "execute_result",
          "data": {
            "text/plain": [
              "coffee_shop_name    object\n",
              "full_review_text    object\n",
              "star_rating         object\n",
              "review_tokens       object\n",
              "no_dates            object\n",
              "review_tokens2      object\n",
              "review_tokens3      object\n",
              "rating               int64\n",
              "dtype: object"
            ]
          },
          "metadata": {
            "tags": []
          },
          "execution_count": 39
        }
      ]
    },
    {
      "cell_type": "code",
      "metadata": {
        "id": "qz9L-3VtYUKO",
        "colab_type": "code",
        "colab": {}
      },
      "source": [
        "# I want to count the number of words in review_tokens3 based on the # of ratings.\n",
        "# Then I will create 2 different results, both for words that appear in \n",
        "# \"good_review\" and \"bad_review\" - thus creating a new df's containing just bad \n",
        "# and good reviews.\n",
        "\n",
        "# bad review df\n",
        "bad_reviews = shops[shops['rating'] <= 3]\n",
        "\n",
        "# good review df\n",
        "good_reviews = shops[shops['rating'] >= 4]"
      ],
      "execution_count": 40,
      "outputs": []
    },
    {
      "cell_type": "code",
      "metadata": {
        "id": "ALRMoz8iZDrA",
        "colab_type": "code",
        "colab": {
          "base_uri": "https://localhost:8080/",
          "height": 191
        },
        "outputId": "b55c9fc7-e945-4249-93da-091879a15e46"
      },
      "source": [
        "# This particular function will count the bad_review words\n",
        "\n",
        "bad_review_count = Counter()\n",
        "bad_reviews['review_tokens3'].apply(lambda tokens: bad_review_count.update(tokens))\n",
        "\n",
        "bad_review_count.most_common(10)"
      ],
      "execution_count": 41,
      "outputs": [
        {
          "output_type": "execute_result",
          "data": {
            "text/plain": [
              "[('good', 877),\n",
              " ('like', 876),\n",
              " ('food', 484),\n",
              " ('time', 478),\n",
              " ('great', 466),\n",
              " ('dont', 449),\n",
              " ('service', 445),\n",
              " ('people', 375),\n",
              " ('pretty', 363),\n",
              " ('nice', 346)]"
            ]
          },
          "metadata": {
            "tags": []
          },
          "execution_count": 41
        }
      ]
    },
    {
      "cell_type": "code",
      "metadata": {
        "id": "S6CWAoEcZfRi",
        "colab_type": "code",
        "colab": {
          "base_uri": "https://localhost:8080/",
          "height": 191
        },
        "outputId": "14405411-7004-45bd-aedb-115e1501071c"
      },
      "source": [
        "# good review words. \n",
        "\n",
        "good_review_count = Counter()\n",
        "good_reviews['review_tokens3'].apply(lambda tokens: good_review_count.update(tokens))\n",
        "\n",
        "good_review_count.most_common(10)"
      ],
      "execution_count": 42,
      "outputs": [
        {
          "output_type": "execute_result",
          "data": {
            "text/plain": [
              "[('great', 3453),\n",
              " ('good', 3096),\n",
              " ('like', 2212),\n",
              " ('austin', 1969),\n",
              " ('love', 1725),\n",
              " ('friendly', 1462),\n",
              " ('time', 1406),\n",
              " ('nice', 1395),\n",
              " ('food', 1352),\n",
              " ('latte', 1339)]"
            ]
          },
          "metadata": {
            "tags": []
          },
          "execution_count": 42
        }
      ]
    },
    {
      "cell_type": "markdown",
      "metadata": {
        "id": "QPBY9M4_B_Vi",
        "colab_type": "text"
      },
      "source": [
        "## Can visualize the words with the greatest difference in counts between 'good' & 'bad'?\n",
        "\n",
        "Couple Notes: \n",
        "- Rel. freq. instead of absolute counts b/c of different numbers of reviews\n",
        "- Only look at the top 5-10 words with the greatest differences\n"
      ]
    },
    {
      "cell_type": "code",
      "metadata": {
        "id": "5xiyrN8IB_Vj",
        "colab_type": "code",
        "colab": {
          "base_uri": "https://localhost:8080/",
          "height": 202
        },
        "outputId": "361378b5-f715-45ce-c0fa-8b93f87def77"
      },
      "source": [
        "# I will try to create a df that puts good words review count into the df\n",
        "\n",
        "gd = zip(good_review_count.keys(), good_review_count.values())\n",
        "\n",
        "good = pd.DataFrame(gd, columns = [\"good_reviews\", \"good_count\"])\n",
        "good.head()"
      ],
      "execution_count": 43,
      "outputs": [
        {
          "output_type": "execute_result",
          "data": {
            "text/html": [
              "<div>\n",
              "<style scoped>\n",
              "    .dataframe tbody tr th:only-of-type {\n",
              "        vertical-align: middle;\n",
              "    }\n",
              "\n",
              "    .dataframe tbody tr th {\n",
              "        vertical-align: top;\n",
              "    }\n",
              "\n",
              "    .dataframe thead th {\n",
              "        text-align: right;\n",
              "    }\n",
              "</style>\n",
              "<table border=\"1\" class=\"dataframe\">\n",
              "  <thead>\n",
              "    <tr style=\"text-align: right;\">\n",
              "      <th></th>\n",
              "      <th>good_reviews</th>\n",
              "      <th>good_count</th>\n",
              "    </tr>\n",
              "  </thead>\n",
              "  <tbody>\n",
              "    <tr>\n",
              "      <th>0</th>\n",
              "      <td>love</td>\n",
              "      <td>1725</td>\n",
              "    </tr>\n",
              "    <tr>\n",
              "      <th>1</th>\n",
              "      <td>loved</td>\n",
              "      <td>330</td>\n",
              "    </tr>\n",
              "    <tr>\n",
              "      <th>2</th>\n",
              "      <td>atmosphere</td>\n",
              "      <td>810</td>\n",
              "    </tr>\n",
              "    <tr>\n",
              "      <th>3</th>\n",
              "      <td>corner</td>\n",
              "      <td>131</td>\n",
              "    </tr>\n",
              "    <tr>\n",
              "      <th>4</th>\n",
              "      <td>style</td>\n",
              "      <td>72</td>\n",
              "    </tr>\n",
              "  </tbody>\n",
              "</table>\n",
              "</div>"
            ],
            "text/plain": [
              "  good_reviews  good_count\n",
              "0         love        1725\n",
              "1        loved         330\n",
              "2   atmosphere         810\n",
              "3       corner         131\n",
              "4        style          72"
            ]
          },
          "metadata": {
            "tags": []
          },
          "execution_count": 43
        }
      ]
    },
    {
      "cell_type": "code",
      "metadata": {
        "id": "mQN1nN4AaTLy",
        "colab_type": "code",
        "colab": {
          "base_uri": "https://localhost:8080/",
          "height": 202
        },
        "outputId": "5a870e2b-ed3a-4e60-e970-6251f5736d92"
      },
      "source": [
        "# The following function will do the same but for bad word reviews instead.\n",
        "\n",
        "bd = zip(bad_review_count.keys(), bad_review_count.values())\n",
        "\n",
        "bad = pd.DataFrame(bd, columns = [\"bad_reviews\", \"bad_count\"])\n",
        "bad.head()"
      ],
      "execution_count": 44,
      "outputs": [
        {
          "output_type": "execute_result",
          "data": {
            "text/html": [
              "<div>\n",
              "<style scoped>\n",
              "    .dataframe tbody tr th:only-of-type {\n",
              "        vertical-align: middle;\n",
              "    }\n",
              "\n",
              "    .dataframe tbody tr th {\n",
              "        vertical-align: top;\n",
              "    }\n",
              "\n",
              "    .dataframe thead th {\n",
              "        text-align: right;\n",
              "    }\n",
              "</style>\n",
              "<table border=\"1\" class=\"dataframe\">\n",
              "  <thead>\n",
              "    <tr style=\"text-align: right;\">\n",
              "      <th></th>\n",
              "      <th>bad_reviews</th>\n",
              "      <th>bad_count</th>\n",
              "    </tr>\n",
              "  </thead>\n",
              "  <tbody>\n",
              "    <tr>\n",
              "      <th>0</th>\n",
              "      <td>cool</td>\n",
              "      <td>165</td>\n",
              "    </tr>\n",
              "    <tr>\n",
              "      <th>1</th>\n",
              "      <td>decor</td>\n",
              "      <td>64</td>\n",
              "    </tr>\n",
              "    <tr>\n",
              "      <th>2</th>\n",
              "      <td>good</td>\n",
              "      <td>877</td>\n",
              "    </tr>\n",
              "    <tr>\n",
              "      <th>3</th>\n",
              "      <td>drinks</td>\n",
              "      <td>263</td>\n",
              "    </tr>\n",
              "    <tr>\n",
              "      <th>4</th>\n",
              "      <td>nice</td>\n",
              "      <td>346</td>\n",
              "    </tr>\n",
              "  </tbody>\n",
              "</table>\n",
              "</div>"
            ],
            "text/plain": [
              "  bad_reviews  bad_count\n",
              "0        cool        165\n",
              "1       decor         64\n",
              "2        good        877\n",
              "3      drinks        263\n",
              "4        nice        346"
            ]
          },
          "metadata": {
            "tags": []
          },
          "execution_count": 44
        }
      ]
    },
    {
      "cell_type": "code",
      "metadata": {
        "id": "MueBEf8-apZ0",
        "colab_type": "code",
        "colab": {
          "base_uri": "https://localhost:8080/",
          "height": 219
        },
        "outputId": "b45071f2-f9dd-4bac-c1c3-c0de00863cb1"
      },
      "source": [
        "# The following function should merge both df's\n",
        "\n",
        "goodVbad = pd.merge(good, bad, left_on = \"good_reviews\",\n",
        "                    right_on = \"bad_reviews\").drop(columns = \"bad_reviews\")\n",
        "\n",
        "print(goodVbad.shape)\n",
        "goodVbad.head()"
      ],
      "execution_count": 45,
      "outputs": [
        {
          "output_type": "stream",
          "text": [
            "(6242, 3)\n"
          ],
          "name": "stdout"
        },
        {
          "output_type": "execute_result",
          "data": {
            "text/html": [
              "<div>\n",
              "<style scoped>\n",
              "    .dataframe tbody tr th:only-of-type {\n",
              "        vertical-align: middle;\n",
              "    }\n",
              "\n",
              "    .dataframe tbody tr th {\n",
              "        vertical-align: top;\n",
              "    }\n",
              "\n",
              "    .dataframe thead th {\n",
              "        text-align: right;\n",
              "    }\n",
              "</style>\n",
              "<table border=\"1\" class=\"dataframe\">\n",
              "  <thead>\n",
              "    <tr style=\"text-align: right;\">\n",
              "      <th></th>\n",
              "      <th>good_reviews</th>\n",
              "      <th>good_count</th>\n",
              "      <th>bad_count</th>\n",
              "    </tr>\n",
              "  </thead>\n",
              "  <tbody>\n",
              "    <tr>\n",
              "      <th>0</th>\n",
              "      <td>love</td>\n",
              "      <td>1725</td>\n",
              "      <td>210</td>\n",
              "    </tr>\n",
              "    <tr>\n",
              "      <th>1</th>\n",
              "      <td>loved</td>\n",
              "      <td>330</td>\n",
              "      <td>36</td>\n",
              "    </tr>\n",
              "    <tr>\n",
              "      <th>2</th>\n",
              "      <td>atmosphere</td>\n",
              "      <td>810</td>\n",
              "      <td>159</td>\n",
              "    </tr>\n",
              "    <tr>\n",
              "      <th>3</th>\n",
              "      <td>corner</td>\n",
              "      <td>131</td>\n",
              "      <td>32</td>\n",
              "    </tr>\n",
              "    <tr>\n",
              "      <th>4</th>\n",
              "      <td>style</td>\n",
              "      <td>72</td>\n",
              "      <td>29</td>\n",
              "    </tr>\n",
              "  </tbody>\n",
              "</table>\n",
              "</div>"
            ],
            "text/plain": [
              "  good_reviews  good_count  bad_count\n",
              "0         love        1725        210\n",
              "1        loved         330         36\n",
              "2   atmosphere         810        159\n",
              "3       corner         131         32\n",
              "4        style          72         29"
            ]
          },
          "metadata": {
            "tags": []
          },
          "execution_count": 45
        }
      ]
    },
    {
      "cell_type": "code",
      "metadata": {
        "id": "F7FBGK6fbRyG",
        "colab_type": "code",
        "colab": {
          "base_uri": "https://localhost:8080/",
          "height": 355
        },
        "outputId": "ffaedf57-1638-494e-d63e-a1c5e2d599da"
      },
      "source": [
        "# what percent of these words appeared in good reviews\n",
        "# what percent of these words appeard in bad reviews\n",
        "word_count = Counter()\n",
        "doc_appear = Counter()\n",
        "\n",
        "for each_review in shops['review_tokens3']:\n",
        "    word_count.update(each_review)\n",
        "    doc_appear.update(set(each_review))\n",
        "    \n",
        "combo = zip(word_count.keys(), word_count.values())\n",
        "\n",
        "df = pd.DataFrame(combo, columns = ['words', 'count'])\n",
        "\n",
        "df['word_rank'] = df['count'].rank(method='first', ascending=False)\n",
        "\n",
        "total = df['count'].sum()\n",
        "\n",
        "df[\"total_pct\"] = df['count'].apply(lambda x: x/total)\n",
        "\n",
        "df['cumulative_pct'] = df['total_pct'].cumsum()\n",
        "\n",
        "# how many times does each word appear in the entire document as \n",
        "# opposed to individual reviews\n",
        "\n",
        "appear = pd.DataFrame(zip(doc_appear.keys(), doc_appear.values()), \n",
        "                      columns = ['words', 'doc_appear_cnt'])\n",
        "\n",
        "total_docs = len(shops['review_tokens3'])\n",
        "\n",
        "appear['appear_pct'] = appear['doc_appear_cnt'].apply(lambda x : x/total_docs)\n",
        "\n",
        "df = df.merge(appear, on='words')\n",
        "\n",
        "df = df.sort_values(by='word_rank')\n",
        "\n",
        "df.head(10)"
      ],
      "execution_count": 46,
      "outputs": [
        {
          "output_type": "execute_result",
          "data": {
            "text/html": [
              "<div>\n",
              "<style scoped>\n",
              "    .dataframe tbody tr th:only-of-type {\n",
              "        vertical-align: middle;\n",
              "    }\n",
              "\n",
              "    .dataframe tbody tr th {\n",
              "        vertical-align: top;\n",
              "    }\n",
              "\n",
              "    .dataframe thead th {\n",
              "        text-align: right;\n",
              "    }\n",
              "</style>\n",
              "<table border=\"1\" class=\"dataframe\">\n",
              "  <thead>\n",
              "    <tr style=\"text-align: right;\">\n",
              "      <th></th>\n",
              "      <th>words</th>\n",
              "      <th>count</th>\n",
              "      <th>word_rank</th>\n",
              "      <th>total_pct</th>\n",
              "      <th>cumulative_pct</th>\n",
              "      <th>doc_appear_cnt</th>\n",
              "      <th>appear_pct</th>\n",
              "    </tr>\n",
              "  </thead>\n",
              "  <tbody>\n",
              "    <tr>\n",
              "      <th>140</th>\n",
              "      <td>good</td>\n",
              "      <td>3973</td>\n",
              "      <td>1.0</td>\n",
              "      <td>0.011735</td>\n",
              "      <td>0.153051</td>\n",
              "      <td>2788</td>\n",
              "      <td>0.366071</td>\n",
              "    </tr>\n",
              "    <tr>\n",
              "      <th>126</th>\n",
              "      <td>great</td>\n",
              "      <td>3919</td>\n",
              "      <td>2.0</td>\n",
              "      <td>0.011575</td>\n",
              "      <td>0.133208</td>\n",
              "      <td>2836</td>\n",
              "      <td>0.372374</td>\n",
              "    </tr>\n",
              "    <tr>\n",
              "      <th>163</th>\n",
              "      <td>like</td>\n",
              "      <td>3088</td>\n",
              "      <td>3.0</td>\n",
              "      <td>0.009121</td>\n",
              "      <td>0.184312</td>\n",
              "      <td>2124</td>\n",
              "      <td>0.278887</td>\n",
              "    </tr>\n",
              "    <tr>\n",
              "      <th>41</th>\n",
              "      <td>austin</td>\n",
              "      <td>2252</td>\n",
              "      <td>4.0</td>\n",
              "      <td>0.006652</td>\n",
              "      <td>0.047618</td>\n",
              "      <td>1788</td>\n",
              "      <td>0.234769</td>\n",
              "    </tr>\n",
              "    <tr>\n",
              "      <th>0</th>\n",
              "      <td>love</td>\n",
              "      <td>1935</td>\n",
              "      <td>5.0</td>\n",
              "      <td>0.005715</td>\n",
              "      <td>0.005715</td>\n",
              "      <td>1500</td>\n",
              "      <td>0.196954</td>\n",
              "    </tr>\n",
              "    <tr>\n",
              "      <th>488</th>\n",
              "      <td>time</td>\n",
              "      <td>1884</td>\n",
              "      <td>6.0</td>\n",
              "      <td>0.005565</td>\n",
              "      <td>0.380418</td>\n",
              "      <td>1469</td>\n",
              "      <td>0.192883</td>\n",
              "    </tr>\n",
              "    <tr>\n",
              "      <th>364</th>\n",
              "      <td>food</td>\n",
              "      <td>1836</td>\n",
              "      <td>7.0</td>\n",
              "      <td>0.005423</td>\n",
              "      <td>0.307898</td>\n",
              "      <td>1365</td>\n",
              "      <td>0.179228</td>\n",
              "    </tr>\n",
              "    <tr>\n",
              "      <th>56</th>\n",
              "      <td>nice</td>\n",
              "      <td>1741</td>\n",
              "      <td>8.0</td>\n",
              "      <td>0.005142</td>\n",
              "      <td>0.061424</td>\n",
              "      <td>1463</td>\n",
              "      <td>0.192096</td>\n",
              "    </tr>\n",
              "    <tr>\n",
              "      <th>179</th>\n",
              "      <td>friendly</td>\n",
              "      <td>1659</td>\n",
              "      <td>9.0</td>\n",
              "      <td>0.004900</td>\n",
              "      <td>0.193395</td>\n",
              "      <td>1577</td>\n",
              "      <td>0.207064</td>\n",
              "    </tr>\n",
              "    <tr>\n",
              "      <th>8</th>\n",
              "      <td>latte</td>\n",
              "      <td>1615</td>\n",
              "      <td>10.0</td>\n",
              "      <td>0.004770</td>\n",
              "      <td>0.018738</td>\n",
              "      <td>1128</td>\n",
              "      <td>0.148109</td>\n",
              "    </tr>\n",
              "  </tbody>\n",
              "</table>\n",
              "</div>"
            ],
            "text/plain": [
              "        words  count  word_rank  ...  cumulative_pct  doc_appear_cnt  appear_pct\n",
              "140      good   3973        1.0  ...        0.153051            2788    0.366071\n",
              "126     great   3919        2.0  ...        0.133208            2836    0.372374\n",
              "163      like   3088        3.0  ...        0.184312            2124    0.278887\n",
              "41     austin   2252        4.0  ...        0.047618            1788    0.234769\n",
              "0        love   1935        5.0  ...        0.005715            1500    0.196954\n",
              "488      time   1884        6.0  ...        0.380418            1469    0.192883\n",
              "364      food   1836        7.0  ...        0.307898            1365    0.179228\n",
              "56       nice   1741        8.0  ...        0.061424            1463    0.192096\n",
              "179  friendly   1659        9.0  ...        0.193395            1577    0.207064\n",
              "8       latte   1615       10.0  ...        0.018738            1128    0.148109\n",
              "\n",
              "[10 rows x 7 columns]"
            ]
          },
          "metadata": {
            "tags": []
          },
          "execution_count": 46
        }
      ]
    },
    {
      "cell_type": "code",
      "metadata": {
        "id": "pZFA0Du9ca37",
        "colab_type": "code",
        "colab": {}
      },
      "source": [
        "# turn the code above into a function so that I can use it for \n",
        "# good reviews and bad reviews. \n",
        "\n",
        "def word_frequency(doc_column):\n",
        "\n",
        "    word_count = Counter()\n",
        "    doc_appear = Counter()\n",
        "\n",
        "    for each_review in doc_column:\n",
        "        word_count.update(each_review)\n",
        "        doc_appear.update(set(each_review))\n",
        "\n",
        "    combo = zip(word_count.keys(), word_count.values())\n",
        "\n",
        "    df = pd.DataFrame(combo, columns = ['words', 'count'])\n",
        "\n",
        "    df['word_rank'] = df['count'].rank(method='first', ascending=False)\n",
        "\n",
        "    total = df['count'].sum()\n",
        "\n",
        "    df[\"total_pct\"] = df['count'].apply(lambda x: x/total)\n",
        "\n",
        "    df['cumulative_pct'] = df['total_pct'].cumsum()\n",
        "\n",
        "    # how many times does each word appear in the entire document as \n",
        "    # opposed to individual reviews\n",
        "\n",
        "    appear = pd.DataFrame(zip(doc_appear.keys(), doc_appear.values()), \n",
        "                          columns = ['words', 'doc_appear_cnt'])\n",
        "\n",
        "    total_docs = len(doc_column)\n",
        "\n",
        "    appear['appear_pct'] = appear['doc_appear_cnt'].apply(lambda x : x/total_docs)\n",
        "\n",
        "    df = df.merge(appear, on='words')\n",
        "\n",
        "    df = df.sort_values(by='word_rank')\n",
        "\n",
        "    return df"
      ],
      "execution_count": 47,
      "outputs": []
    },
    {
      "cell_type": "code",
      "metadata": {
        "id": "RJg-B28Qc-cu",
        "colab_type": "code",
        "colab": {
          "base_uri": "https://localhost:8080/",
          "height": 202
        },
        "outputId": "c85184ca-d62b-4923-9f16-6567871a46ff"
      },
      "source": [
        "# word frequency analysis for all reviews\n",
        "\n",
        "all_reviews = word_frequency(shops['review_tokens3'])\n",
        "\n",
        "all_reviews.head()"
      ],
      "execution_count": 48,
      "outputs": [
        {
          "output_type": "execute_result",
          "data": {
            "text/html": [
              "<div>\n",
              "<style scoped>\n",
              "    .dataframe tbody tr th:only-of-type {\n",
              "        vertical-align: middle;\n",
              "    }\n",
              "\n",
              "    .dataframe tbody tr th {\n",
              "        vertical-align: top;\n",
              "    }\n",
              "\n",
              "    .dataframe thead th {\n",
              "        text-align: right;\n",
              "    }\n",
              "</style>\n",
              "<table border=\"1\" class=\"dataframe\">\n",
              "  <thead>\n",
              "    <tr style=\"text-align: right;\">\n",
              "      <th></th>\n",
              "      <th>words</th>\n",
              "      <th>count</th>\n",
              "      <th>word_rank</th>\n",
              "      <th>total_pct</th>\n",
              "      <th>cumulative_pct</th>\n",
              "      <th>doc_appear_cnt</th>\n",
              "      <th>appear_pct</th>\n",
              "    </tr>\n",
              "  </thead>\n",
              "  <tbody>\n",
              "    <tr>\n",
              "      <th>140</th>\n",
              "      <td>good</td>\n",
              "      <td>3973</td>\n",
              "      <td>1.0</td>\n",
              "      <td>0.011735</td>\n",
              "      <td>0.153051</td>\n",
              "      <td>2788</td>\n",
              "      <td>0.366071</td>\n",
              "    </tr>\n",
              "    <tr>\n",
              "      <th>126</th>\n",
              "      <td>great</td>\n",
              "      <td>3919</td>\n",
              "      <td>2.0</td>\n",
              "      <td>0.011575</td>\n",
              "      <td>0.133208</td>\n",
              "      <td>2836</td>\n",
              "      <td>0.372374</td>\n",
              "    </tr>\n",
              "    <tr>\n",
              "      <th>163</th>\n",
              "      <td>like</td>\n",
              "      <td>3088</td>\n",
              "      <td>3.0</td>\n",
              "      <td>0.009121</td>\n",
              "      <td>0.184312</td>\n",
              "      <td>2124</td>\n",
              "      <td>0.278887</td>\n",
              "    </tr>\n",
              "    <tr>\n",
              "      <th>41</th>\n",
              "      <td>austin</td>\n",
              "      <td>2252</td>\n",
              "      <td>4.0</td>\n",
              "      <td>0.006652</td>\n",
              "      <td>0.047618</td>\n",
              "      <td>1788</td>\n",
              "      <td>0.234769</td>\n",
              "    </tr>\n",
              "    <tr>\n",
              "      <th>0</th>\n",
              "      <td>love</td>\n",
              "      <td>1935</td>\n",
              "      <td>5.0</td>\n",
              "      <td>0.005715</td>\n",
              "      <td>0.005715</td>\n",
              "      <td>1500</td>\n",
              "      <td>0.196954</td>\n",
              "    </tr>\n",
              "  </tbody>\n",
              "</table>\n",
              "</div>"
            ],
            "text/plain": [
              "      words  count  word_rank  ...  cumulative_pct  doc_appear_cnt  appear_pct\n",
              "140    good   3973        1.0  ...        0.153051            2788    0.366071\n",
              "126   great   3919        2.0  ...        0.133208            2836    0.372374\n",
              "163    like   3088        3.0  ...        0.184312            2124    0.278887\n",
              "41   austin   2252        4.0  ...        0.047618            1788    0.234769\n",
              "0      love   1935        5.0  ...        0.005715            1500    0.196954\n",
              "\n",
              "[5 rows x 7 columns]"
            ]
          },
          "metadata": {
            "tags": []
          },
          "execution_count": 48
        }
      ]
    },
    {
      "cell_type": "code",
      "metadata": {
        "id": "jnRhpRNIdEBm",
        "colab_type": "code",
        "colab": {
          "base_uri": "https://localhost:8080/",
          "height": 202
        },
        "outputId": "f227bd9c-02ae-4e11-e1f6-4ddf94a9dd9a"
      },
      "source": [
        "# word frequency analysis for good reviews\n",
        "\n",
        "good_freq = word_frequency(good_reviews['review_tokens3'])\n",
        "good_freq.head()"
      ],
      "execution_count": 49,
      "outputs": [
        {
          "output_type": "execute_result",
          "data": {
            "text/html": [
              "<div>\n",
              "<style scoped>\n",
              "    .dataframe tbody tr th:only-of-type {\n",
              "        vertical-align: middle;\n",
              "    }\n",
              "\n",
              "    .dataframe tbody tr th {\n",
              "        vertical-align: top;\n",
              "    }\n",
              "\n",
              "    .dataframe thead th {\n",
              "        text-align: right;\n",
              "    }\n",
              "</style>\n",
              "<table border=\"1\" class=\"dataframe\">\n",
              "  <thead>\n",
              "    <tr style=\"text-align: right;\">\n",
              "      <th></th>\n",
              "      <th>words</th>\n",
              "      <th>count</th>\n",
              "      <th>word_rank</th>\n",
              "      <th>total_pct</th>\n",
              "      <th>cumulative_pct</th>\n",
              "      <th>doc_appear_cnt</th>\n",
              "      <th>appear_pct</th>\n",
              "    </tr>\n",
              "  </thead>\n",
              "  <tbody>\n",
              "    <tr>\n",
              "      <th>126</th>\n",
              "      <td>great</td>\n",
              "      <td>3453</td>\n",
              "      <td>1.0</td>\n",
              "      <td>0.013091</td>\n",
              "      <td>0.138060</td>\n",
              "      <td>2492</td>\n",
              "      <td>0.405863</td>\n",
              "    </tr>\n",
              "    <tr>\n",
              "      <th>192</th>\n",
              "      <td>good</td>\n",
              "      <td>3096</td>\n",
              "      <td>2.0</td>\n",
              "      <td>0.011738</td>\n",
              "      <td>0.201268</td>\n",
              "      <td>2192</td>\n",
              "      <td>0.357003</td>\n",
              "    </tr>\n",
              "    <tr>\n",
              "      <th>199</th>\n",
              "      <td>like</td>\n",
              "      <td>2212</td>\n",
              "      <td>3.0</td>\n",
              "      <td>0.008386</td>\n",
              "      <td>0.215284</td>\n",
              "      <td>1559</td>\n",
              "      <td>0.253909</td>\n",
              "    </tr>\n",
              "    <tr>\n",
              "      <th>41</th>\n",
              "      <td>austin</td>\n",
              "      <td>1969</td>\n",
              "      <td>4.0</td>\n",
              "      <td>0.007465</td>\n",
              "      <td>0.048896</td>\n",
              "      <td>1547</td>\n",
              "      <td>0.251954</td>\n",
              "    </tr>\n",
              "    <tr>\n",
              "      <th>0</th>\n",
              "      <td>love</td>\n",
              "      <td>1725</td>\n",
              "      <td>5.0</td>\n",
              "      <td>0.006540</td>\n",
              "      <td>0.006540</td>\n",
              "      <td>1322</td>\n",
              "      <td>0.215309</td>\n",
              "    </tr>\n",
              "  </tbody>\n",
              "</table>\n",
              "</div>"
            ],
            "text/plain": [
              "      words  count  word_rank  ...  cumulative_pct  doc_appear_cnt  appear_pct\n",
              "126   great   3453        1.0  ...        0.138060            2492    0.405863\n",
              "192    good   3096        2.0  ...        0.201268            2192    0.357003\n",
              "199    like   2212        3.0  ...        0.215284            1559    0.253909\n",
              "41   austin   1969        4.0  ...        0.048896            1547    0.251954\n",
              "0      love   1725        5.0  ...        0.006540            1322    0.215309\n",
              "\n",
              "[5 rows x 7 columns]"
            ]
          },
          "metadata": {
            "tags": []
          },
          "execution_count": 49
        }
      ]
    },
    {
      "cell_type": "code",
      "metadata": {
        "id": "IglrLX8kdLgh",
        "colab_type": "code",
        "colab": {
          "base_uri": "https://localhost:8080/",
          "height": 202
        },
        "outputId": "c0c2f6a5-e4f5-4190-b968-2b0b1529ec85"
      },
      "source": [
        "# word frequency analysis for bad reviews\n",
        "\n",
        "bad_freq = word_frequency(bad_reviews['review_tokens3'])\n",
        "bad_freq.head()"
      ],
      "execution_count": 50,
      "outputs": [
        {
          "output_type": "execute_result",
          "data": {
            "text/html": [
              "<div>\n",
              "<style scoped>\n",
              "    .dataframe tbody tr th:only-of-type {\n",
              "        vertical-align: middle;\n",
              "    }\n",
              "\n",
              "    .dataframe tbody tr th {\n",
              "        vertical-align: top;\n",
              "    }\n",
              "\n",
              "    .dataframe thead th {\n",
              "        text-align: right;\n",
              "    }\n",
              "</style>\n",
              "<table border=\"1\" class=\"dataframe\">\n",
              "  <thead>\n",
              "    <tr style=\"text-align: right;\">\n",
              "      <th></th>\n",
              "      <th>words</th>\n",
              "      <th>count</th>\n",
              "      <th>word_rank</th>\n",
              "      <th>total_pct</th>\n",
              "      <th>cumulative_pct</th>\n",
              "      <th>doc_appear_cnt</th>\n",
              "      <th>appear_pct</th>\n",
              "    </tr>\n",
              "  </thead>\n",
              "  <tbody>\n",
              "    <tr>\n",
              "      <th>2</th>\n",
              "      <td>good</td>\n",
              "      <td>877</td>\n",
              "      <td>1.0</td>\n",
              "      <td>0.011724</td>\n",
              "      <td>0.014785</td>\n",
              "      <td>596</td>\n",
              "      <td>0.403794</td>\n",
              "    </tr>\n",
              "    <tr>\n",
              "      <th>29</th>\n",
              "      <td>like</td>\n",
              "      <td>876</td>\n",
              "      <td>2.0</td>\n",
              "      <td>0.011711</td>\n",
              "      <td>0.065438</td>\n",
              "      <td>565</td>\n",
              "      <td>0.382791</td>\n",
              "    </tr>\n",
              "    <tr>\n",
              "      <th>51</th>\n",
              "      <td>food</td>\n",
              "      <td>484</td>\n",
              "      <td>3.0</td>\n",
              "      <td>0.006470</td>\n",
              "      <td>0.087696</td>\n",
              "      <td>310</td>\n",
              "      <td>0.210027</td>\n",
              "    </tr>\n",
              "    <tr>\n",
              "      <th>182</th>\n",
              "      <td>time</td>\n",
              "      <td>478</td>\n",
              "      <td>4.0</td>\n",
              "      <td>0.006390</td>\n",
              "      <td>0.202195</td>\n",
              "      <td>353</td>\n",
              "      <td>0.239160</td>\n",
              "    </tr>\n",
              "    <tr>\n",
              "      <th>61</th>\n",
              "      <td>great</td>\n",
              "      <td>466</td>\n",
              "      <td>5.0</td>\n",
              "      <td>0.006230</td>\n",
              "      <td>0.105850</td>\n",
              "      <td>344</td>\n",
              "      <td>0.233062</td>\n",
              "    </tr>\n",
              "  </tbody>\n",
              "</table>\n",
              "</div>"
            ],
            "text/plain": [
              "     words  count  word_rank  ...  cumulative_pct  doc_appear_cnt  appear_pct\n",
              "2     good    877        1.0  ...        0.014785             596    0.403794\n",
              "29    like    876        2.0  ...        0.065438             565    0.382791\n",
              "51    food    484        3.0  ...        0.087696             310    0.210027\n",
              "182   time    478        4.0  ...        0.202195             353    0.239160\n",
              "61   great    466        5.0  ...        0.105850             344    0.233062\n",
              "\n",
              "[5 rows x 7 columns]"
            ]
          },
          "metadata": {
            "tags": []
          },
          "execution_count": 50
        }
      ]
    },
    {
      "cell_type": "code",
      "metadata": {
        "id": "NfycgbAndQBu",
        "colab_type": "code",
        "colab": {
          "base_uri": "https://localhost:8080/",
          "height": 280
        },
        "outputId": "b6f1436a-f397-412d-84fe-fad8c76d7161"
      },
      "source": [
        "# This function will plot the distribution\n",
        "\n",
        "sns.lineplot(x='word_rank', y='cumulative_pct', data=all_reviews);"
      ],
      "execution_count": 51,
      "outputs": [
        {
          "output_type": "display_data",
          "data": {
            "image/png": "[encoded data removed]",
            "text/plain": [
              "<Figure size 432x288 with 1 Axes>"
            ]
          },
          "metadata": {
            "tags": [],
            "needs_background": "light"
          }
        }
      ]
    },
    {
      "cell_type": "code",
      "metadata": {
        "id": "TKpNoDundwKR",
        "colab_type": "code",
        "colab": {
          "base_uri": "https://localhost:8080/",
          "height": 593
        },
        "outputId": "0d63e9d3-923f-4169-a5f5-c1d38f30842c"
      },
      "source": [
        "# top 20 words for all reviews in a squarify plot\n",
        "\n",
        "reviews_top20 = df[df['word_rank'] <= 20]\n",
        "\n",
        "reviews_top20\n",
        "\n",
        "plt.figure(figsize = (10,10))\n",
        "squarify.plot(sizes=reviews_top20['total_pct'], \n",
        "              label=reviews_top20['words'], \n",
        "             alpha = 0.8)\n",
        "plt.axis('off')\n",
        "plt.show"
      ],
      "execution_count": 52,
      "outputs": [
        {
          "output_type": "execute_result",
          "data": {
            "text/plain": [
              "<function matplotlib.pyplot.show>"
            ]
          },
          "metadata": {
            "tags": []
          },
          "execution_count": 52
        },
        {
          "output_type": "display_data",
          "data": {
            "image/png": "[encoded data removed]",
            "text/plain": [
              "<Figure size 720x720 with 1 Axes>"
            ]
          },
          "metadata": {
            "tags": [],
            "needs_background": "light"
          }
        }
      ]
    },
    {
      "cell_type": "code",
      "metadata": {
        "id": "Hw0vDrhFd8Ys",
        "colab_type": "code",
        "colab": {
          "base_uri": "https://localhost:8080/",
          "height": 593
        },
        "outputId": "6b238d09-766a-4812-cef3-290ea6e95ef0"
      },
      "source": [
        "# same as above but for good reviews\n",
        "\n",
        "good_top20 = good_freq[good_freq['word_rank'] <= 20]\n",
        "\n",
        "good_top20\n",
        "\n",
        "plt.figure(figsize = (10,10))\n",
        "squarify.plot(sizes=good_top20['total_pct'], \n",
        "              label=good_top20['words'], \n",
        "             alpha = 0.8)\n",
        "plt.axis('off')\n",
        "plt.show"
      ],
      "execution_count": 53,
      "outputs": [
        {
          "output_type": "execute_result",
          "data": {
            "text/plain": [
              "<function matplotlib.pyplot.show>"
            ]
          },
          "metadata": {
            "tags": []
          },
          "execution_count": 53
        },
        {
          "output_type": "display_data",
          "data": {
            "image/png": "[encoded data removed]",
            "text/plain": [
              "<Figure size 720x720 with 1 Axes>"
            ]
          },
          "metadata": {
            "tags": [],
            "needs_background": "light"
          }
        }
      ]
    },
    {
      "cell_type": "code",
      "metadata": {
        "id": "DLHmCBWreJlv",
        "colab_type": "code",
        "colab": {
          "base_uri": "https://localhost:8080/",
          "height": 593
        },
        "outputId": "b9a71af6-6478-4afe-c4f2-c3c3b07254f8"
      },
      "source": [
        "# top 20 words for bad reviews\n",
        "\n",
        "bad_top20 = bad_freq[bad_freq['word_rank'] <= 20]\n",
        "\n",
        "bad_top20\n",
        "\n",
        "plt.figure(figsize = (10,10))\n",
        "squarify.plot(sizes=bad_top20['total_pct'], \n",
        "              label=bad_top20['words'], \n",
        "             alpha = 0.5)\n",
        "plt.axis('off')\n",
        "plt.show"
      ],
      "execution_count": 54,
      "outputs": [
        {
          "output_type": "execute_result",
          "data": {
            "text/plain": [
              "<function matplotlib.pyplot.show>"
            ]
          },
          "metadata": {
            "tags": []
          },
          "execution_count": 54
        },
        {
          "output_type": "display_data",
          "data": {
            "image/png": "[encoded data removed]",
            "text/plain": [
              "<Figure size 720x720 with 1 Axes>"
            ]
          },
          "metadata": {
            "tags": [],
            "needs_background": "light"
          }
        }
      ]
    },
    {
      "cell_type": "code",
      "metadata": {
        "id": "1O9DRSGYeMNe",
        "colab_type": "code",
        "colab": {
          "base_uri": "https://localhost:8080/",
          "height": 358
        },
        "outputId": "c24830b3-46c0-4960-c09b-d11c5ac639a5"
      },
      "source": [
        "shops.head()"
      ],
      "execution_count": 55,
      "outputs": [
        {
          "output_type": "execute_result",
          "data": {
            "text/html": [
              "<div>\n",
              "<style scoped>\n",
              "    .dataframe tbody tr th:only-of-type {\n",
              "        vertical-align: middle;\n",
              "    }\n",
              "\n",
              "    .dataframe tbody tr th {\n",
              "        vertical-align: top;\n",
              "    }\n",
              "\n",
              "    .dataframe thead th {\n",
              "        text-align: right;\n",
              "    }\n",
              "</style>\n",
              "<table border=\"1\" class=\"dataframe\">\n",
              "  <thead>\n",
              "    <tr style=\"text-align: right;\">\n",
              "      <th></th>\n",
              "      <th>coffee_shop_name</th>\n",
              "      <th>full_review_text</th>\n",
              "      <th>star_rating</th>\n",
              "      <th>review_tokens</th>\n",
              "      <th>no_dates</th>\n",
              "      <th>review_tokens2</th>\n",
              "      <th>review_tokens3</th>\n",
              "      <th>rating</th>\n",
              "    </tr>\n",
              "  </thead>\n",
              "  <tbody>\n",
              "    <tr>\n",
              "      <th>0</th>\n",
              "      <td>The Factory - Cafe With a Soul</td>\n",
              "      <td>11/25/2016 1 check-in Love love loved the atm...</td>\n",
              "      <td>5.0 star rating</td>\n",
              "      <td>[ , 11/25/2016, 1, check-in, Love, love, loved...</td>\n",
              "      <td>checkin Love love loved the atmosphere Ever...</td>\n",
              "      <td>[   , checkin, Love, love, loved, the, atmosph...</td>\n",
              "      <td>[love, love, loved, atmosphere, corner, style,...</td>\n",
              "      <td>5</td>\n",
              "    </tr>\n",
              "    <tr>\n",
              "      <th>1</th>\n",
              "      <td>The Factory - Cafe With a Soul</td>\n",
              "      <td>12/2/2016 Listed in Date Night: Austin, Ambia...</td>\n",
              "      <td>4.0 star rating</td>\n",
              "      <td>[ , 12/2/2016, Listed, in, Date, Night:, Austi...</td>\n",
              "      <td>Listed in Date Night Austin Ambiance in Aust...</td>\n",
              "      <td>[  , Listed, in, Date, Night, Austin, Ambiance...</td>\n",
              "      <td>[listed, date, night, austin, ambiance, austin...</td>\n",
              "      <td>4</td>\n",
              "    </tr>\n",
              "    <tr>\n",
              "      <th>2</th>\n",
              "      <td>The Factory - Cafe With a Soul</td>\n",
              "      <td>11/30/2016 1 check-in Listed in Brunch Spots ...</td>\n",
              "      <td>4.0 star rating</td>\n",
              "      <td>[ , 11/30/2016, 1, check-in, Listed, in, Brunc...</td>\n",
              "      <td>checkin Listed in Brunch Spots I loved the ...</td>\n",
              "      <td>[   , checkin, Listed, in, Brunch, Spots, I, l...</td>\n",
              "      <td>[listed, brunch, spots, loved, eclectic, homey...</td>\n",
              "      <td>4</td>\n",
              "    </tr>\n",
              "    <tr>\n",
              "      <th>3</th>\n",
              "      <td>The Factory - Cafe With a Soul</td>\n",
              "      <td>11/25/2016 Very cool decor! Good drinks Nice ...</td>\n",
              "      <td>2.0 star rating</td>\n",
              "      <td>[ , 11/25/2016, Very, cool, decor!, Good, drin...</td>\n",
              "      <td>Very cool decor Good drinks Nice seating  Ho...</td>\n",
              "      <td>[  , Very, cool, decor, Good, drinks, Nice, se...</td>\n",
              "      <td>[cool, decor, good, drinks, nice, seating, ove...</td>\n",
              "      <td>2</td>\n",
              "    </tr>\n",
              "    <tr>\n",
              "      <th>4</th>\n",
              "      <td>The Factory - Cafe With a Soul</td>\n",
              "      <td>12/3/2016 1 check-in They are located within ...</td>\n",
              "      <td>4.0 star rating</td>\n",
              "      <td>[ , 12/3/2016, 1, check-in, They, are, located...</td>\n",
              "      <td>checkin They are located within the Northcr...</td>\n",
              "      <td>[   , checkin, They, are, located, within, the...</td>\n",
              "      <td>[located, northcross, mall, shopping, center, ...</td>\n",
              "      <td>4</td>\n",
              "    </tr>\n",
              "  </tbody>\n",
              "</table>\n",
              "</div>"
            ],
            "text/plain": [
              "                  coffee_shop_name  ... rating\n",
              "0  The Factory - Cafe With a Soul   ...      5\n",
              "1  The Factory - Cafe With a Soul   ...      4\n",
              "2  The Factory - Cafe With a Soul   ...      4\n",
              "3  The Factory - Cafe With a Soul   ...      2\n",
              "4  The Factory - Cafe With a Soul   ...      4\n",
              "\n",
              "[5 rows x 8 columns]"
            ]
          },
          "metadata": {
            "tags": []
          },
          "execution_count": 55
        }
      ]
    },
    {
      "cell_type": "code",
      "metadata": {
        "id": "WJ8rPKQTeX-0",
        "colab_type": "code",
        "colab": {
          "base_uri": "https://localhost:8080/",
          "height": 1000
        },
        "outputId": "f389fe0e-83fc-428b-a96f-555fb6c0cc9c"
      },
      "source": [
        "# applying lemmetization to my corpus of text. \n",
        "\n",
        "sample6 = shops['no_dates'][0]\n",
        "\n",
        "nlp = spacy.load(\"en_core_web_lg\")\n",
        "text = nlp(sample6)\n",
        "\n",
        "for token in text:\n",
        "    print(token.text, \"  \", token.lemma_)"
      ],
      "execution_count": 56,
      "outputs": [
        {
          "output_type": "stream",
          "text": [
            "          \n",
            "checkin    checkin\n",
            "Love    Love\n",
            "love    love\n",
            "loved    love\n",
            "the    the\n",
            "atmosphere    atmosphere\n",
            "Every    every\n",
            "corner    corner\n",
            "of    of\n",
            "the    the\n",
            "coffee    coffee\n",
            "shop    shop\n",
            "had    have\n",
            "its    -PRON-\n",
            "own    own\n",
            "style    style\n",
            "and    and\n",
            "there    there\n",
            "were    be\n",
            "swings    swing\n",
            "I    -PRON-\n",
            "ordered    order\n",
            "the    the\n",
            "matcha    matcha\n",
            "latte    latte\n",
            "and    and\n",
            "it    -PRON-\n",
            "was    be\n",
            "muy    muy\n",
            "fantastico    fantastico\n",
            "Ordering    order\n",
            "and    and\n",
            "getting    get\n",
            "my    -PRON-\n",
            "drink    drink\n",
            "were    be\n",
            "pretty    pretty\n",
            "streamlined    streamlined\n",
            "I    -PRON-\n",
            "ordered    order\n",
            "on    on\n",
            "an    an\n",
            "iPad    iPad\n",
            "which    which\n",
            "included    include\n",
            "all    all\n",
            "beverage    beverage\n",
            "selections    selection\n",
            "that    that\n",
            "ranged    range\n",
            "from    from\n",
            "coffee    coffee\n",
            "to    to\n",
            "wine    wine\n",
            "desired    desire\n",
            "level    level\n",
            "of    of\n",
            "sweetness    sweetness\n",
            "and    and\n",
            "a    a\n",
            "checkout    checkout\n",
            "system    system\n",
            "I    -PRON-\n",
            "got    get\n",
            "my    -PRON-\n",
            "latte    latte\n",
            "within    within\n",
            "minutes    minute\n",
            "      \n",
            "I    -PRON-\n",
            "was    be\n",
            "hoping    hope\n",
            "for    for\n",
            "a    a\n",
            "typical    typical\n",
            "heart    heart\n",
            "or    or\n",
            "feather    feather\n",
            "on    on\n",
            "my    -PRON-\n",
            "latte    latte\n",
            "but    but\n",
            "found    find\n",
            "myself    -PRON-\n",
            "listing    list\n",
            "out    out\n",
            "all    all\n",
            "the    the\n",
            "possibilities    possibility\n",
            "of    of\n",
            "what    what\n",
            "the    the\n",
            "art    art\n",
            "may    may\n",
            "be    be\n",
            "Any    any\n",
            "ideas    idea\n"
          ],
          "name": "stdout"
        }
      ]
    },
    {
      "cell_type": "code",
      "metadata": {
        "id": "2Vi_Qe6negjp",
        "colab_type": "code",
        "colab": {}
      },
      "source": [
        "# The following function is used for getting lemmas of a doc\n",
        "\n",
        "def lemma(docs):\n",
        "    \n",
        "    text = nlp(docs)\n",
        "    \n",
        "    lemmas = []\n",
        "    \n",
        "    for token in text:\n",
        "        if ((token.is_stop == False) and \n",
        "            (token.is_punct == False)) and (token.pos_ != 'PRON'):\n",
        "                lemmas.append(token.lemma_)\n",
        "    return lemmas"
      ],
      "execution_count": 57,
      "outputs": []
    },
    {
      "cell_type": "code",
      "metadata": {
        "id": "gHwnLxZqg-Qy",
        "colab_type": "code",
        "colab": {
          "base_uri": "https://localhost:8080/",
          "height": 358
        },
        "outputId": "a8e1e6d5-d3b6-4294-ea8c-6170cf44c644"
      },
      "source": [
        "shops.head()"
      ],
      "execution_count": 60,
      "outputs": [
        {
          "output_type": "execute_result",
          "data": {
            "text/html": [
              "<div>\n",
              "<style scoped>\n",
              "    .dataframe tbody tr th:only-of-type {\n",
              "        vertical-align: middle;\n",
              "    }\n",
              "\n",
              "    .dataframe tbody tr th {\n",
              "        vertical-align: top;\n",
              "    }\n",
              "\n",
              "    .dataframe thead th {\n",
              "        text-align: right;\n",
              "    }\n",
              "</style>\n",
              "<table border=\"1\" class=\"dataframe\">\n",
              "  <thead>\n",
              "    <tr style=\"text-align: right;\">\n",
              "      <th></th>\n",
              "      <th>coffee_shop_name</th>\n",
              "      <th>full_review_text</th>\n",
              "      <th>star_rating</th>\n",
              "      <th>review_tokens</th>\n",
              "      <th>no_dates</th>\n",
              "      <th>review_tokens2</th>\n",
              "      <th>review_tokens3</th>\n",
              "      <th>rating</th>\n",
              "    </tr>\n",
              "  </thead>\n",
              "  <tbody>\n",
              "    <tr>\n",
              "      <th>0</th>\n",
              "      <td>The Factory - Cafe With a Soul</td>\n",
              "      <td>11/25/2016 1 check-in Love love loved the atm...</td>\n",
              "      <td>5.0 star rating</td>\n",
              "      <td>[ , 11/25/2016, 1, check-in, Love, love, loved...</td>\n",
              "      <td>checkin Love love loved the atmosphere Ever...</td>\n",
              "      <td>[   , checkin, Love, love, loved, the, atmosph...</td>\n",
              "      <td>[love, love, loved, atmosphere, corner, style,...</td>\n",
              "      <td>5</td>\n",
              "    </tr>\n",
              "    <tr>\n",
              "      <th>1</th>\n",
              "      <td>The Factory - Cafe With a Soul</td>\n",
              "      <td>12/2/2016 Listed in Date Night: Austin, Ambia...</td>\n",
              "      <td>4.0 star rating</td>\n",
              "      <td>[ , 12/2/2016, Listed, in, Date, Night:, Austi...</td>\n",
              "      <td>Listed in Date Night Austin Ambiance in Aust...</td>\n",
              "      <td>[  , Listed, in, Date, Night, Austin, Ambiance...</td>\n",
              "      <td>[listed, date, night, austin, ambiance, austin...</td>\n",
              "      <td>4</td>\n",
              "    </tr>\n",
              "    <tr>\n",
              "      <th>2</th>\n",
              "      <td>The Factory - Cafe With a Soul</td>\n",
              "      <td>11/30/2016 1 check-in Listed in Brunch Spots ...</td>\n",
              "      <td>4.0 star rating</td>\n",
              "      <td>[ , 11/30/2016, 1, check-in, Listed, in, Brunc...</td>\n",
              "      <td>checkin Listed in Brunch Spots I loved the ...</td>\n",
              "      <td>[   , checkin, Listed, in, Brunch, Spots, I, l...</td>\n",
              "      <td>[listed, brunch, spots, loved, eclectic, homey...</td>\n",
              "      <td>4</td>\n",
              "    </tr>\n",
              "    <tr>\n",
              "      <th>3</th>\n",
              "      <td>The Factory - Cafe With a Soul</td>\n",
              "      <td>11/25/2016 Very cool decor! Good drinks Nice ...</td>\n",
              "      <td>2.0 star rating</td>\n",
              "      <td>[ , 11/25/2016, Very, cool, decor!, Good, drin...</td>\n",
              "      <td>Very cool decor Good drinks Nice seating  Ho...</td>\n",
              "      <td>[  , Very, cool, decor, Good, drinks, Nice, se...</td>\n",
              "      <td>[cool, decor, good, drinks, nice, seating, ove...</td>\n",
              "      <td>2</td>\n",
              "    </tr>\n",
              "    <tr>\n",
              "      <th>4</th>\n",
              "      <td>The Factory - Cafe With a Soul</td>\n",
              "      <td>12/3/2016 1 check-in They are located within ...</td>\n",
              "      <td>4.0 star rating</td>\n",
              "      <td>[ , 12/3/2016, 1, check-in, They, are, located...</td>\n",
              "      <td>checkin They are located within the Northcr...</td>\n",
              "      <td>[   , checkin, They, are, located, within, the...</td>\n",
              "      <td>[located, northcross, mall, shopping, center, ...</td>\n",
              "      <td>4</td>\n",
              "    </tr>\n",
              "  </tbody>\n",
              "</table>\n",
              "</div>"
            ],
            "text/plain": [
              "                  coffee_shop_name  ... rating\n",
              "0  The Factory - Cafe With a Soul   ...      5\n",
              "1  The Factory - Cafe With a Soul   ...      4\n",
              "2  The Factory - Cafe With a Soul   ...      4\n",
              "3  The Factory - Cafe With a Soul   ...      2\n",
              "4  The Factory - Cafe With a Soul   ...      4\n",
              "\n",
              "[5 rows x 8 columns]"
            ]
          },
          "metadata": {
            "tags": []
          },
          "execution_count": 60
        }
      ]
    },
    {
      "cell_type": "code",
      "metadata": {
        "id": "Oq3i1VeGhQeK",
        "colab_type": "code",
        "colab": {
          "base_uri": "https://localhost:8080/",
          "height": 332
        },
        "outputId": "23685800-f6fa-4896-8005-ec2e8a8178b1"
      },
      "source": [
        "!pip install scattertext"
      ],
      "execution_count": 63,
      "outputs": [
        {
          "output_type": "stream",
          "text": [
            "Collecting scattertext\n",
            "\u001b[?25l  Downloading https://files.pythonhosted.org/packages/6f/43/b7fe555bff000ade599c8e67e951f548abc5f5c5d1aaf3d503cdd297bd35/scattertext-0.0.2.65-py3-none-any.whl (7.2MB)\n",
            "\u001b[K     |████████████████████████████████| 7.2MB 6.3MB/s \n",
            "\u001b[?25hCollecting mock\n",
            "  Downloading https://files.pythonhosted.org/packages/cd/74/d72daf8dff5b6566db857cfd088907bb0355f5dd2914c4b3ef065c790735/mock-4.0.2-py3-none-any.whl\n",
            "Requirement already satisfied: numpy in /usr/local/lib/python3.6/dist-packages (from scattertext) (1.18.5)\n",
            "Requirement already satisfied: pandas in /usr/local/lib/python3.6/dist-packages (from scattertext) (1.0.5)\n",
            "Requirement already satisfied: six in /usr/local/lib/python3.6/dist-packages (from scattertext) (1.12.0)\n",
            "Requirement already satisfied: scikit-learn in /usr/local/lib/python3.6/dist-packages (from scattertext) (0.22.2.post1)\n",
            "Requirement already satisfied: statsmodels in /usr/local/lib/python3.6/dist-packages (from scattertext) (0.10.2)\n",
            "Requirement already satisfied: scipy in /usr/local/lib/python3.6/dist-packages (from scattertext) (1.4.1)\n",
            "Requirement already satisfied: pytz>=2017.2 in /usr/local/lib/python3.6/dist-packages (from pandas->scattertext) (2018.9)\n",
            "Requirement already satisfied: python-dateutil>=2.6.1 in /usr/local/lib/python3.6/dist-packages (from pandas->scattertext) (2.8.1)\n",
            "Requirement already satisfied: joblib>=0.11 in /usr/local/lib/python3.6/dist-packages (from scikit-learn->scattertext) (0.15.1)\n",
            "Requirement already satisfied: patsy>=0.4.0 in /usr/local/lib/python3.6/dist-packages (from statsmodels->scattertext) (0.5.1)\n",
            "Installing collected packages: mock, scattertext\n",
            "Successfully installed mock-4.0.2 scattertext-0.0.2.65\n"
          ],
          "name": "stdout"
        }
      ]
    },
    {
      "cell_type": "code",
      "metadata": {
        "id": "-8f3h3uhhD2H",
        "colab_type": "code",
        "colab": {}
      },
      "source": [
        "import scattertext as st"
      ],
      "execution_count": 64,
      "outputs": []
    },
    {
      "cell_type": "code",
      "metadata": {
        "id": "LVV5RF-ohXkE",
        "colab_type": "code",
        "colab": {}
      },
      "source": [
        "shops['category'] = ['good_review' if (x is 4) | (x is 5) else 'bad_review' for x in shops['rating']]"
      ],
      "execution_count": 65,
      "outputs": []
    },
    {
      "cell_type": "code",
      "metadata": {
        "id": "iLAYOmTFhsyR",
        "colab_type": "code",
        "colab": {
          "base_uri": "https://localhost:8080/",
          "height": 375
        },
        "outputId": "21c8ab00-0e17-42ca-807d-e5f1da2ec3ad"
      },
      "source": [
        "shops.head()"
      ],
      "execution_count": 66,
      "outputs": [
        {
          "output_type": "execute_result",
          "data": {
            "text/html": [
              "<div>\n",
              "<style scoped>\n",
              "    .dataframe tbody tr th:only-of-type {\n",
              "        vertical-align: middle;\n",
              "    }\n",
              "\n",
              "    .dataframe tbody tr th {\n",
              "        vertical-align: top;\n",
              "    }\n",
              "\n",
              "    .dataframe thead th {\n",
              "        text-align: right;\n",
              "    }\n",
              "</style>\n",
              "<table border=\"1\" class=\"dataframe\">\n",
              "  <thead>\n",
              "    <tr style=\"text-align: right;\">\n",
              "      <th></th>\n",
              "      <th>coffee_shop_name</th>\n",
              "      <th>full_review_text</th>\n",
              "      <th>star_rating</th>\n",
              "      <th>review_tokens</th>\n",
              "      <th>no_dates</th>\n",
              "      <th>review_tokens2</th>\n",
              "      <th>review_tokens3</th>\n",
              "      <th>rating</th>\n",
              "      <th>category</th>\n",
              "    </tr>\n",
              "  </thead>\n",
              "  <tbody>\n",
              "    <tr>\n",
              "      <th>0</th>\n",
              "      <td>The Factory - Cafe With a Soul</td>\n",
              "      <td>11/25/2016 1 check-in Love love loved the atm...</td>\n",
              "      <td>5.0 star rating</td>\n",
              "      <td>[ , 11/25/2016, 1, check-in, Love, love, loved...</td>\n",
              "      <td>checkin Love love loved the atmosphere Ever...</td>\n",
              "      <td>[   , checkin, Love, love, loved, the, atmosph...</td>\n",
              "      <td>[love, love, loved, atmosphere, corner, style,...</td>\n",
              "      <td>5</td>\n",
              "      <td>good_review</td>\n",
              "    </tr>\n",
              "    <tr>\n",
              "      <th>1</th>\n",
              "      <td>The Factory - Cafe With a Soul</td>\n",
              "      <td>12/2/2016 Listed in Date Night: Austin, Ambia...</td>\n",
              "      <td>4.0 star rating</td>\n",
              "      <td>[ , 12/2/2016, Listed, in, Date, Night:, Austi...</td>\n",
              "      <td>Listed in Date Night Austin Ambiance in Aust...</td>\n",
              "      <td>[  , Listed, in, Date, Night, Austin, Ambiance...</td>\n",
              "      <td>[listed, date, night, austin, ambiance, austin...</td>\n",
              "      <td>4</td>\n",
              "      <td>good_review</td>\n",
              "    </tr>\n",
              "    <tr>\n",
              "      <th>2</th>\n",
              "      <td>The Factory - Cafe With a Soul</td>\n",
              "      <td>11/30/2016 1 check-in Listed in Brunch Spots ...</td>\n",
              "      <td>4.0 star rating</td>\n",
              "      <td>[ , 11/30/2016, 1, check-in, Listed, in, Brunc...</td>\n",
              "      <td>checkin Listed in Brunch Spots I loved the ...</td>\n",
              "      <td>[   , checkin, Listed, in, Brunch, Spots, I, l...</td>\n",
              "      <td>[listed, brunch, spots, loved, eclectic, homey...</td>\n",
              "      <td>4</td>\n",
              "      <td>good_review</td>\n",
              "    </tr>\n",
              "    <tr>\n",
              "      <th>3</th>\n",
              "      <td>The Factory - Cafe With a Soul</td>\n",
              "      <td>11/25/2016 Very cool decor! Good drinks Nice ...</td>\n",
              "      <td>2.0 star rating</td>\n",
              "      <td>[ , 11/25/2016, Very, cool, decor!, Good, drin...</td>\n",
              "      <td>Very cool decor Good drinks Nice seating  Ho...</td>\n",
              "      <td>[  , Very, cool, decor, Good, drinks, Nice, se...</td>\n",
              "      <td>[cool, decor, good, drinks, nice, seating, ove...</td>\n",
              "      <td>2</td>\n",
              "      <td>bad_review</td>\n",
              "    </tr>\n",
              "    <tr>\n",
              "      <th>4</th>\n",
              "      <td>The Factory - Cafe With a Soul</td>\n",
              "      <td>12/3/2016 1 check-in They are located within ...</td>\n",
              "      <td>4.0 star rating</td>\n",
              "      <td>[ , 12/3/2016, 1, check-in, They, are, located...</td>\n",
              "      <td>checkin They are located within the Northcr...</td>\n",
              "      <td>[   , checkin, They, are, located, within, the...</td>\n",
              "      <td>[located, northcross, mall, shopping, center, ...</td>\n",
              "      <td>4</td>\n",
              "      <td>good_review</td>\n",
              "    </tr>\n",
              "  </tbody>\n",
              "</table>\n",
              "</div>"
            ],
            "text/plain": [
              "                  coffee_shop_name  ...     category\n",
              "0  The Factory - Cafe With a Soul   ...  good_review\n",
              "1  The Factory - Cafe With a Soul   ...  good_review\n",
              "2  The Factory - Cafe With a Soul   ...  good_review\n",
              "3  The Factory - Cafe With a Soul   ...   bad_review\n",
              "4  The Factory - Cafe With a Soul   ...  good_review\n",
              "\n",
              "[5 rows x 9 columns]"
            ]
          },
          "metadata": {
            "tags": []
          },
          "execution_count": 66
        }
      ]
    },
    {
      "cell_type": "markdown",
      "metadata": {
        "colab_type": "text",
        "id": "1dCb1q8XphcP",
        "toc-hr-collapsed": true
      },
      "source": [
        "## Stretch Goals\n",
        "\n",
        "* Analyze another corpus of documents - such as Indeed.com job listings ;).\n",
        "* Play with the Spacy API to\n",
        " - Extract Named Entities\n",
        " - Extracting 'noun chunks'\n",
        " - Attempt Document Classification with just Spacy\n",
        " - *Note:* This [course](https://course.spacy.io/) will be of interesting in helping you with these stretch goals. \n",
        "* Try to build a plotly dash app with your text data \n",
        "\n"
      ]
    }
  ]
}