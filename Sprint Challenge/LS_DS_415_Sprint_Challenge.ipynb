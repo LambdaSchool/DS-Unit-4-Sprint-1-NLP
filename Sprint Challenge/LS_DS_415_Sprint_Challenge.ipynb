{
 "cells": [
  {
   "cell_type": "markdown",
   "metadata": {},
   "source": [
    "<img align=\"left\" src=\"https://lever-client-logos.s3.amazonaws.com/864372b1-534c-480e-acd5-9711f850815c-1524247202159.png\" width=200>\n",
    "<br></br>\n",
    "<br></br>\n",
    "\n",
    "# Sprint Challenge\n",
    "## *Data Science Unit 4 Sprint 1*\n",
    "\n",
    "After a week of Natural Language Processing, you've learned some cool new stuff: how to process text, how turn text into vectors, and how to model topics from documents. Apply your newly acquired skills to one of the most famous NLP datasets out there: [Yelp](https://www.yelp.com/dataset/challenge). As part of the job selection process, some of my friends have been asked to create analysis of this dataset, so I want to empower you to have a head start.  \n",
    "\n",
    "The real dataset is massive (almost 8 gigs uncompressed). I've sampled the data for you to something more managable for the Sprint Challenge. You can analyze the full dataset as a stretch goal or after the sprint challenge. As you work on the challenge, I suggest adding notes about your findings and things you want to analyze in the future.\n",
    "\n",
    "## Challenge Objectives\n",
    "*Successfully complete these all these objectives to earn a 2. There are more details on each objective further down in the notebook.*\n",
    "* <a href=\"#p1\">Part 1</a>: Write a function to tokenize the yelp reviews\n",
    "* <a href=\"#p2\">Part 2</a>: Create a vector representation of those tokens\n",
    "* <a href=\"#p3\">Part 3</a>: Use your tokens in a classification model on yelp rating\n",
    "* <a href=\"#p4\">Part 4</a>: Estimate & Interpret a topic model of the Yelp reviews"
   ]
  },
  {
   "cell_type": "code",
   "execution_count": 1,
   "metadata": {},
   "outputs": [
    {
     "name": "stderr",
     "output_type": "stream",
     "text": [
      "C:\\Users\\Me\\Anaconda3\\lib\\site-packages\\past\\types\\oldstr.py:5: DeprecationWarning: Using or importing the ABCs from 'collections' instead of from 'collections.abc' is deprecated, and in 3.8 it will stop working\n",
      "  from collections import Iterable\n",
      "C:\\Users\\Me\\Anaconda3\\lib\\site-packages\\scipy\\sparse\\sparsetools.py:21: DeprecationWarning: `scipy.sparse.sparsetools` is deprecated!\n",
      "scipy.sparse.sparsetools is a private module for scipy.sparse, and should not be used.\n",
      "  _deprecated()\n"
     ]
    }
   ],
   "source": [
    "# Import libraries.\n",
    "import json\n",
    "import matplotlib.pyplot as plt\n",
    "import pandas as pd\n",
    "import pyLDAvis.gensim\n",
    "import re\n",
    "import squarify\n",
    "import spacy\n",
    "\n",
    "from gensim import corpora\n",
    "from gensim.models.ldamulticore import LdaMulticore\n",
    "\n",
    "from sklearn.feature_extraction.text import TfidfVectorizer\n",
    "from sklearn.metrics import accuracy_score\n",
    "from sklearn.model_selection import GridSearchCV\n",
    "from sklearn.neighbors import KNeighborsClassifier, NearestNeighbors\n",
    "from sklearn.pipeline import Pipeline"
   ]
  },
  {
   "cell_type": "code",
   "execution_count": 2,
   "metadata": {},
   "outputs": [],
   "source": [
    "# Load data.\n",
    "df = pd.read_json('./data/review_sample.json', lines=True)"
   ]
  },
  {
   "cell_type": "code",
   "execution_count": 3,
   "metadata": {},
   "outputs": [
    {
     "data": {
      "text/html": [
       "<div>\n",
       "<style scoped>\n",
       "    .dataframe tbody tr th:only-of-type {\n",
       "        vertical-align: middle;\n",
       "    }\n",
       "\n",
       "    .dataframe tbody tr th {\n",
       "        vertical-align: top;\n",
       "    }\n",
       "\n",
       "    .dataframe thead th {\n",
       "        text-align: right;\n",
       "    }\n",
       "</style>\n",
       "<table border=\"1\" class=\"dataframe\">\n",
       "  <thead>\n",
       "    <tr style=\"text-align: right;\">\n",
       "      <th></th>\n",
       "      <th>business_id</th>\n",
       "      <th>cool</th>\n",
       "      <th>date</th>\n",
       "      <th>funny</th>\n",
       "      <th>review_id</th>\n",
       "      <th>stars</th>\n",
       "      <th>text</th>\n",
       "      <th>useful</th>\n",
       "      <th>user_id</th>\n",
       "    </tr>\n",
       "  </thead>\n",
       "  <tbody>\n",
       "    <tr>\n",
       "      <th>0</th>\n",
       "      <td>nDuEqIyRc8YKS1q1fX0CZg</td>\n",
       "      <td>1</td>\n",
       "      <td>2015-03-31 16:50:30</td>\n",
       "      <td>0</td>\n",
       "      <td>eZs2tpEJtXPwawvHnHZIgQ</td>\n",
       "      <td>1</td>\n",
       "      <td>BEWARE!!! FAKE, FAKE, FAKE....We also own a sm...</td>\n",
       "      <td>10</td>\n",
       "      <td>n1LM36qNg4rqGXIcvVXv8w</td>\n",
       "    </tr>\n",
       "    <tr>\n",
       "      <th>1</th>\n",
       "      <td>eMYeEapscbKNqUDCx705hg</td>\n",
       "      <td>0</td>\n",
       "      <td>2015-12-16 05:31:03</td>\n",
       "      <td>0</td>\n",
       "      <td>DoQDWJsNbU0KL1O29l_Xug</td>\n",
       "      <td>4</td>\n",
       "      <td>Came here for lunch Togo. Service was quick. S...</td>\n",
       "      <td>0</td>\n",
       "      <td>5CgjjDAic2-FAvCtiHpytA</td>\n",
       "    </tr>\n",
       "    <tr>\n",
       "      <th>2</th>\n",
       "      <td>6Q7-wkCPc1KF75jZLOTcMw</td>\n",
       "      <td>1</td>\n",
       "      <td>2010-06-20 19:14:48</td>\n",
       "      <td>1</td>\n",
       "      <td>DDOdGU7zh56yQHmUnL1idQ</td>\n",
       "      <td>3</td>\n",
       "      <td>I've been to Vegas dozens of times and had nev...</td>\n",
       "      <td>2</td>\n",
       "      <td>BdV-cf3LScmb8kZ7iiBcMA</td>\n",
       "    </tr>\n",
       "    <tr>\n",
       "      <th>3</th>\n",
       "      <td>k3zrItO4l9hwfLRwHBDc9w</td>\n",
       "      <td>3</td>\n",
       "      <td>2010-07-13 00:33:45</td>\n",
       "      <td>4</td>\n",
       "      <td>LfTMUWnfGFMOfOIyJcwLVA</td>\n",
       "      <td>1</td>\n",
       "      <td>We went here on a night where they closed off ...</td>\n",
       "      <td>5</td>\n",
       "      <td>cZZnBqh4gAEy4CdNvJailQ</td>\n",
       "    </tr>\n",
       "    <tr>\n",
       "      <th>4</th>\n",
       "      <td>6hpfRwGlOzbNv7k5eP9rsQ</td>\n",
       "      <td>1</td>\n",
       "      <td>2018-06-30 02:30:01</td>\n",
       "      <td>0</td>\n",
       "      <td>zJSUdI7bJ8PNJAg4lnl_Gg</td>\n",
       "      <td>4</td>\n",
       "      <td>3.5 to 4 stars\\n\\nNot bad for the price, $12.9...</td>\n",
       "      <td>5</td>\n",
       "      <td>n9QO4ClYAS7h9fpQwa5bhA</td>\n",
       "    </tr>\n",
       "  </tbody>\n",
       "</table>\n",
       "</div>"
      ],
      "text/plain": [
       "              business_id  cool                date  funny  \\\n",
       "0  nDuEqIyRc8YKS1q1fX0CZg     1 2015-03-31 16:50:30      0   \n",
       "1  eMYeEapscbKNqUDCx705hg     0 2015-12-16 05:31:03      0   \n",
       "2  6Q7-wkCPc1KF75jZLOTcMw     1 2010-06-20 19:14:48      1   \n",
       "3  k3zrItO4l9hwfLRwHBDc9w     3 2010-07-13 00:33:45      4   \n",
       "4  6hpfRwGlOzbNv7k5eP9rsQ     1 2018-06-30 02:30:01      0   \n",
       "\n",
       "                review_id  stars  \\\n",
       "0  eZs2tpEJtXPwawvHnHZIgQ      1   \n",
       "1  DoQDWJsNbU0KL1O29l_Xug      4   \n",
       "2  DDOdGU7zh56yQHmUnL1idQ      3   \n",
       "3  LfTMUWnfGFMOfOIyJcwLVA      1   \n",
       "4  zJSUdI7bJ8PNJAg4lnl_Gg      4   \n",
       "\n",
       "                                                text  useful  \\\n",
       "0  BEWARE!!! FAKE, FAKE, FAKE....We also own a sm...      10   \n",
       "1  Came here for lunch Togo. Service was quick. S...       0   \n",
       "2  I've been to Vegas dozens of times and had nev...       2   \n",
       "3  We went here on a night where they closed off ...       5   \n",
       "4  3.5 to 4 stars\\n\\nNot bad for the price, $12.9...       5   \n",
       "\n",
       "                  user_id  \n",
       "0  n1LM36qNg4rqGXIcvVXv8w  \n",
       "1  5CgjjDAic2-FAvCtiHpytA  \n",
       "2  BdV-cf3LScmb8kZ7iiBcMA  \n",
       "3  cZZnBqh4gAEy4CdNvJailQ  \n",
       "4  n9QO4ClYAS7h9fpQwa5bhA  "
      ]
     },
     "execution_count": 3,
     "metadata": {},
     "output_type": "execute_result"
    }
   ],
   "source": [
    "# Preview data.\n",
    "df.head()"
   ]
  },
  {
   "cell_type": "code",
   "execution_count": 4,
   "metadata": {},
   "outputs": [
    {
     "data": {
      "text/plain": [
       "(10000, 9)"
      ]
     },
     "execution_count": 4,
     "metadata": {},
     "output_type": "execute_result"
    }
   ],
   "source": [
    "# Check data dimensions.\n",
    "df.shape"
   ]
  },
  {
   "cell_type": "code",
   "execution_count": 5,
   "metadata": {},
   "outputs": [
    {
     "data": {
      "text/plain": [
       "5    4462\n",
       "4    2185\n",
       "1    1496\n",
       "3    1098\n",
       "2     759\n",
       "Name: stars, dtype: int64"
      ]
     },
     "execution_count": 5,
     "metadata": {},
     "output_type": "execute_result"
    }
   ],
   "source": [
    "# Display range and distribution of star ratings.\n",
    "df['stars'].value_counts()"
   ]
  },
  {
   "cell_type": "markdown",
   "metadata": {},
   "source": [
    "## Part 1: Tokenize Function\n",
    "<a id=\"#p1\"></a>\n",
    "\n",
    "Complete the function `tokenize`. Your function should\n",
    "- accept one document at a time\n",
    "- return a list of tokens\n",
    "\n",
    "You are free to use any method you have learned this week."
   ]
  },
  {
   "cell_type": "code",
   "execution_count": 6,
   "metadata": {},
   "outputs": [],
   "source": [
    "def tokenize(doc):\n",
    "    \"\"\"\n",
    "    Accepts one document at a time; returns a list of tokens.\n",
    "    \"\"\"\n",
    "    lemmas = []\n",
    "    \n",
    "    doc = nlp(doc)\n",
    "    \n",
    "    for token in doc: \n",
    "        if ((token.is_stop == False) and (token.is_punct == False)) \\\n",
    "        and ((token.pos_!= 'PRON') and token.like_num == False):\n",
    "            lemmas.append(token.lemma_)\n",
    "    \n",
    "    return lemmas"
   ]
  },
  {
   "cell_type": "code",
   "execution_count": 7,
   "metadata": {},
   "outputs": [],
   "source": [
    "def clean(column):\n",
    "    \"\"\"\n",
    "    Removes dollar signs and reduces any excess whitespace to a single\n",
    "    space per instance.\n",
    "    \"\"\"\n",
    "    column = column.copy()\n",
    "    \n",
    "    # Remove dollar signs.\n",
    "    column = column.str.replace('$', '')\n",
    "    \n",
    "    # Reduce any excess whitespace to a single space per instance.\n",
    "    column = column.str.replace(r'\\s+', ' ')\n",
    "    \n",
    "    return column"
   ]
  },
  {
   "cell_type": "code",
   "execution_count": 8,
   "metadata": {},
   "outputs": [],
   "source": [
    "nlp = spacy.load('en_core_web_lg')"
   ]
  },
  {
   "cell_type": "code",
   "execution_count": 9,
   "metadata": {},
   "outputs": [],
   "source": [
    "# Preprocess and clean text.\n",
    "df['text'] = clean(df['text'])"
   ]
  },
  {
   "cell_type": "code",
   "execution_count": 10,
   "metadata": {},
   "outputs": [],
   "source": [
    "# Generate tokens from text.\n",
    "tokens = df['text'].apply(tokenize)"
   ]
  },
  {
   "cell_type": "code",
   "execution_count": 11,
   "metadata": {},
   "outputs": [
    {
     "data": {
      "text/plain": [
       "['beware',\n",
       " 'fake',\n",
       " 'fake',\n",
       " 'fake',\n",
       " 'small',\n",
       " 'business',\n",
       " 'Los',\n",
       " 'Alamitos',\n",
       " 'receive',\n",
       " 'look',\n",
       " 'like',\n",
       " 'legitimate',\n",
       " 'bill',\n",
       " 'account',\n",
       " 'number',\n",
       " 'call',\n",
       " 'phone',\n",
       " 'number',\n",
       " 'list',\n",
       " 'wait',\n",
       " 'time',\n",
       " 'hold',\n",
       " 'say',\n",
       " 'minute',\n",
       " 'leave',\n",
       " 'message',\n",
       " 'live',\n",
       " 'person',\n",
       " 'phone',\n",
       " 'matter',\n",
       " 'number',\n",
       " 'select',\n",
       " 'leave',\n",
       " 'firm',\n",
       " 'message',\n",
       " 'contact',\n",
       " 'BBB',\n",
       " 'attorney',\n",
       " 'company',\n",
       " 'try',\n",
       " 'scam',\n",
       " 'business',\n",
       " 'illegal']"
      ]
     },
     "execution_count": 11,
     "metadata": {},
     "output_type": "execute_result"
    }
   ],
   "source": [
    "# Preview tokens.\n",
    "tokens[0]"
   ]
  },
  {
   "cell_type": "markdown",
   "metadata": {},
   "source": [
    "## Part 2: Vector Representation\n",
    "<a id=\"#p2\"></a>\n",
    "1. Create a vector representation of the reviews\n",
    "2. Write a fake review and query for the 10 most similiar reviews, print the text of the reviews. Do you notice any patterns?\n",
    "    - Given the size of the dataset, it will probably be best to use a `NearestNeighbors` model for this. "
   ]
  },
  {
   "cell_type": "markdown",
   "metadata": {},
   "source": [
    "### Create a vector representation of the reviews"
   ]
  },
  {
   "cell_type": "code",
   "execution_count": 12,
   "metadata": {},
   "outputs": [
    {
     "data": {
      "text/html": [
       "<div>\n",
       "<style scoped>\n",
       "    .dataframe tbody tr th:only-of-type {\n",
       "        vertical-align: middle;\n",
       "    }\n",
       "\n",
       "    .dataframe tbody tr th {\n",
       "        vertical-align: top;\n",
       "    }\n",
       "\n",
       "    .dataframe thead th {\n",
       "        text-align: right;\n",
       "    }\n",
       "</style>\n",
       "<table border=\"1\" class=\"dataframe\">\n",
       "  <thead>\n",
       "    <tr style=\"text-align: right;\">\n",
       "      <th></th>\n",
       "      <th>30</th>\n",
       "      <th>able</th>\n",
       "      <th>absolutely</th>\n",
       "      <th>accommodate</th>\n",
       "      <th>actually</th>\n",
       "      <th>add</th>\n",
       "      <th>affordable</th>\n",
       "      <th>afternoon</th>\n",
       "      <th>ago</th>\n",
       "      <th>agree</th>\n",
       "      <th>...</th>\n",
       "      <th>wrap</th>\n",
       "      <th>write</th>\n",
       "      <th>wrong</th>\n",
       "      <th>year</th>\n",
       "      <th>year ago</th>\n",
       "      <th>yelp</th>\n",
       "      <th>yes</th>\n",
       "      <th>young</th>\n",
       "      <th>yum</th>\n",
       "      <th>yummy</th>\n",
       "    </tr>\n",
       "  </thead>\n",
       "  <tbody>\n",
       "    <tr>\n",
       "      <th>0</th>\n",
       "      <td>0.0</td>\n",
       "      <td>0.0</td>\n",
       "      <td>0.0</td>\n",
       "      <td>0.0</td>\n",
       "      <td>0.000000</td>\n",
       "      <td>0.0</td>\n",
       "      <td>0.0</td>\n",
       "      <td>0.0</td>\n",
       "      <td>0.0</td>\n",
       "      <td>0.0</td>\n",
       "      <td>...</td>\n",
       "      <td>0.0</td>\n",
       "      <td>0.0</td>\n",
       "      <td>0.0</td>\n",
       "      <td>0.000000</td>\n",
       "      <td>0.0</td>\n",
       "      <td>0.0</td>\n",
       "      <td>0.0</td>\n",
       "      <td>0.000000</td>\n",
       "      <td>0.0</td>\n",
       "      <td>0.0</td>\n",
       "    </tr>\n",
       "    <tr>\n",
       "      <th>1</th>\n",
       "      <td>0.0</td>\n",
       "      <td>0.0</td>\n",
       "      <td>0.0</td>\n",
       "      <td>0.0</td>\n",
       "      <td>0.000000</td>\n",
       "      <td>0.0</td>\n",
       "      <td>0.0</td>\n",
       "      <td>0.0</td>\n",
       "      <td>0.0</td>\n",
       "      <td>0.0</td>\n",
       "      <td>...</td>\n",
       "      <td>0.0</td>\n",
       "      <td>0.0</td>\n",
       "      <td>0.0</td>\n",
       "      <td>0.000000</td>\n",
       "      <td>0.0</td>\n",
       "      <td>0.0</td>\n",
       "      <td>0.0</td>\n",
       "      <td>0.000000</td>\n",
       "      <td>0.0</td>\n",
       "      <td>0.0</td>\n",
       "    </tr>\n",
       "    <tr>\n",
       "      <th>2</th>\n",
       "      <td>0.0</td>\n",
       "      <td>0.0</td>\n",
       "      <td>0.0</td>\n",
       "      <td>0.0</td>\n",
       "      <td>0.000000</td>\n",
       "      <td>0.0</td>\n",
       "      <td>0.0</td>\n",
       "      <td>0.0</td>\n",
       "      <td>0.0</td>\n",
       "      <td>0.0</td>\n",
       "      <td>...</td>\n",
       "      <td>0.0</td>\n",
       "      <td>0.0</td>\n",
       "      <td>0.0</td>\n",
       "      <td>0.095275</td>\n",
       "      <td>0.0</td>\n",
       "      <td>0.0</td>\n",
       "      <td>0.0</td>\n",
       "      <td>0.146312</td>\n",
       "      <td>0.0</td>\n",
       "      <td>0.0</td>\n",
       "    </tr>\n",
       "    <tr>\n",
       "      <th>3</th>\n",
       "      <td>0.0</td>\n",
       "      <td>0.0</td>\n",
       "      <td>0.0</td>\n",
       "      <td>0.0</td>\n",
       "      <td>0.254845</td>\n",
       "      <td>0.0</td>\n",
       "      <td>0.0</td>\n",
       "      <td>0.0</td>\n",
       "      <td>0.0</td>\n",
       "      <td>0.0</td>\n",
       "      <td>...</td>\n",
       "      <td>0.0</td>\n",
       "      <td>0.0</td>\n",
       "      <td>0.0</td>\n",
       "      <td>0.000000</td>\n",
       "      <td>0.0</td>\n",
       "      <td>0.0</td>\n",
       "      <td>0.0</td>\n",
       "      <td>0.000000</td>\n",
       "      <td>0.0</td>\n",
       "      <td>0.0</td>\n",
       "    </tr>\n",
       "    <tr>\n",
       "      <th>4</th>\n",
       "      <td>0.0</td>\n",
       "      <td>0.0</td>\n",
       "      <td>0.0</td>\n",
       "      <td>0.0</td>\n",
       "      <td>0.000000</td>\n",
       "      <td>0.0</td>\n",
       "      <td>0.0</td>\n",
       "      <td>0.0</td>\n",
       "      <td>0.0</td>\n",
       "      <td>0.0</td>\n",
       "      <td>...</td>\n",
       "      <td>0.0</td>\n",
       "      <td>0.0</td>\n",
       "      <td>0.0</td>\n",
       "      <td>0.000000</td>\n",
       "      <td>0.0</td>\n",
       "      <td>0.0</td>\n",
       "      <td>0.0</td>\n",
       "      <td>0.000000</td>\n",
       "      <td>0.0</td>\n",
       "      <td>0.0</td>\n",
       "    </tr>\n",
       "  </tbody>\n",
       "</table>\n",
       "<p>5 rows × 774 columns</p>\n",
       "</div>"
      ],
      "text/plain": [
       "    30  able  absolutely  accommodate  actually  add  affordable  afternoon  \\\n",
       "0  0.0   0.0         0.0          0.0  0.000000  0.0         0.0        0.0   \n",
       "1  0.0   0.0         0.0          0.0  0.000000  0.0         0.0        0.0   \n",
       "2  0.0   0.0         0.0          0.0  0.000000  0.0         0.0        0.0   \n",
       "3  0.0   0.0         0.0          0.0  0.254845  0.0         0.0        0.0   \n",
       "4  0.0   0.0         0.0          0.0  0.000000  0.0         0.0        0.0   \n",
       "\n",
       "   ago  agree  ...  wrap  write  wrong      year  year ago  yelp  yes  \\\n",
       "0  0.0    0.0  ...   0.0    0.0    0.0  0.000000       0.0   0.0  0.0   \n",
       "1  0.0    0.0  ...   0.0    0.0    0.0  0.000000       0.0   0.0  0.0   \n",
       "2  0.0    0.0  ...   0.0    0.0    0.0  0.095275       0.0   0.0  0.0   \n",
       "3  0.0    0.0  ...   0.0    0.0    0.0  0.000000       0.0   0.0  0.0   \n",
       "4  0.0    0.0  ...   0.0    0.0    0.0  0.000000       0.0   0.0  0.0   \n",
       "\n",
       "      young  yum  yummy  \n",
       "0  0.000000  0.0    0.0  \n",
       "1  0.000000  0.0    0.0  \n",
       "2  0.146312  0.0    0.0  \n",
       "3  0.000000  0.0    0.0  \n",
       "4  0.000000  0.0    0.0  \n",
       "\n",
       "[5 rows x 774 columns]"
      ]
     },
     "execution_count": 12,
     "metadata": {},
     "output_type": "execute_result"
    }
   ],
   "source": [
    "# Instantiate vectorizer object.\n",
    "tfidf = TfidfVectorizer(min_df=0.01, \n",
    "                        max_df=0.98,\n",
    "                        ngram_range=(1,2))\n",
    "\n",
    "# Create a vocabulary and get word counts per document.\n",
    "dtm = tfidf.fit_transform(tokens.astype(str))\n",
    "\n",
    "# Get feature names to use as dataframe column headers.\n",
    "dtm = pd.DataFrame(dtm.todense(), columns=tfidf.get_feature_names())\n",
    "\n",
    "# Preview feature matrix.\n",
    "dtm.head()"
   ]
  },
  {
   "cell_type": "code",
   "execution_count": 13,
   "metadata": {},
   "outputs": [
    {
     "data": {
      "text/plain": [
       "NearestNeighbors(algorithm='ball_tree', leaf_size=30, metric='minkowski',\n",
       "                 metric_params=None, n_jobs=None, n_neighbors=5, p=2,\n",
       "                 radius=1.0)"
      ]
     },
     "execution_count": 13,
     "metadata": {},
     "output_type": "execute_result"
    }
   ],
   "source": [
    "# Instantiate nearest neighbors model.\n",
    "nn = NearestNeighbors(n_neighbors=5, algorithm='ball_tree')\n",
    "\n",
    "# Fit on TF-IDF Vectors\n",
    "nn.fit(dtm)"
   ]
  },
  {
   "cell_type": "markdown",
   "metadata": {},
   "source": [
    "### Write a fake review and query for the 10 most similiar reviews\n",
    "\n",
    "Print the text of the reviews. Do you notice any patterns?"
   ]
  },
  {
   "cell_type": "code",
   "execution_count": 14,
   "metadata": {},
   "outputs": [],
   "source": [
    "# Create a fake negative review.\n",
    "bad_review = ('Boy, the food at this place is really terrible, and '\n",
    "              'such small portions.')"
   ]
  },
  {
   "cell_type": "code",
   "execution_count": 15,
   "metadata": {},
   "outputs": [],
   "source": [
    "# Vectorize fake review.\n",
    "bad_vec = tfidf.transform([bad_review])"
   ]
  },
  {
   "cell_type": "code",
   "execution_count": 16,
   "metadata": {},
   "outputs": [],
   "source": [
    "# Find 10 most similar reviews.\n",
    "bad_distances, bad_indices = nn.kneighbors(bad_vec.todense(), 10)"
   ]
  },
  {
   "cell_type": "code",
   "execution_count": 17,
   "metadata": {},
   "outputs": [
    {
     "data": {
      "text/html": [
       "<div>\n",
       "<style scoped>\n",
       "    .dataframe tbody tr th:only-of-type {\n",
       "        vertical-align: middle;\n",
       "    }\n",
       "\n",
       "    .dataframe tbody tr th {\n",
       "        vertical-align: top;\n",
       "    }\n",
       "\n",
       "    .dataframe thead th {\n",
       "        text-align: right;\n",
       "    }\n",
       "</style>\n",
       "<table border=\"1\" class=\"dataframe\">\n",
       "  <thead>\n",
       "    <tr style=\"text-align: right;\">\n",
       "      <th></th>\n",
       "      <th>stars</th>\n",
       "      <th>text</th>\n",
       "    </tr>\n",
       "  </thead>\n",
       "  <tbody>\n",
       "    <tr>\n",
       "      <th>2627</th>\n",
       "      <td>1</td>\n",
       "      <td>Terrible terrible terrible went to get a \"hot ...</td>\n",
       "    </tr>\n",
       "    <tr>\n",
       "      <th>2135</th>\n",
       "      <td>1</td>\n",
       "      <td>Terrible airline. They have nothing to offer a...</td>\n",
       "    </tr>\n",
       "    <tr>\n",
       "      <th>3230</th>\n",
       "      <td>1</td>\n",
       "      <td>This place just sucks. Food was terrible. Serv...</td>\n",
       "    </tr>\n",
       "    <tr>\n",
       "      <th>5298</th>\n",
       "      <td>1</td>\n",
       "      <td>Terrible.. absolutely terrible. Dr. Hinds is e...</td>\n",
       "    </tr>\n",
       "    <tr>\n",
       "      <th>7006</th>\n",
       "      <td>1</td>\n",
       "      <td>Yuk! Terrible pizza! I think I got food poison...</td>\n",
       "    </tr>\n",
       "    <tr>\n",
       "      <th>5366</th>\n",
       "      <td>1</td>\n",
       "      <td>Don't shop here. The owner John Menard is PURE...</td>\n",
       "    </tr>\n",
       "    <tr>\n",
       "      <th>4673</th>\n",
       "      <td>2</td>\n",
       "      <td>Terrible terrible terrible. After they lost my...</td>\n",
       "    </tr>\n",
       "    <tr>\n",
       "      <th>6204</th>\n",
       "      <td>5</td>\n",
       "      <td>旅行でラスベガスに来ましたがネイルがはげてるのが気になり、探したお店でした。 質問にも丁寧に...</td>\n",
       "    </tr>\n",
       "    <tr>\n",
       "      <th>6311</th>\n",
       "      <td>5</td>\n",
       "      <td>天氣很熱吃不下東西，今天我點了一個韓國冷面湯、餐後點了甜點，冰沙系列不會太甜膩，覺得店家很用...</td>\n",
       "    </tr>\n",
       "    <tr>\n",
       "      <th>1104</th>\n",
       "      <td>1</td>\n",
       "      <td>Fries were burnt to shit. Jalapeños were so bu...</td>\n",
       "    </tr>\n",
       "  </tbody>\n",
       "</table>\n",
       "</div>"
      ],
      "text/plain": [
       "      stars                                               text\n",
       "2627      1  Terrible terrible terrible went to get a \"hot ...\n",
       "2135      1  Terrible airline. They have nothing to offer a...\n",
       "3230      1  This place just sucks. Food was terrible. Serv...\n",
       "5298      1  Terrible.. absolutely terrible. Dr. Hinds is e...\n",
       "7006      1  Yuk! Terrible pizza! I think I got food poison...\n",
       "5366      1  Don't shop here. The owner John Menard is PURE...\n",
       "4673      2  Terrible terrible terrible. After they lost my...\n",
       "6204      5  旅行でラスベガスに来ましたがネイルがはげてるのが気になり、探したお店でした。 質問にも丁寧に...\n",
       "6311      5  天氣很熱吃不下東西，今天我點了一個韓國冷面湯、餐後點了甜點，冰沙系列不會太甜膩，覺得店家很用...\n",
       "1104      1  Fries were burnt to shit. Jalapeños were so bu..."
      ]
     },
     "execution_count": 17,
     "metadata": {},
     "output_type": "execute_result"
    }
   ],
   "source": [
    "# Print star ratings and abbreviated text of similar reviews.\n",
    "df.iloc[bad_indices[0]][['stars', 'text']]"
   ]
  },
  {
   "cell_type": "code",
   "execution_count": 18,
   "metadata": {},
   "outputs": [
    {
     "name": "stdout",
     "output_type": "stream",
     "text": [
      "Terrible terrible terrible went to get a \"hot and ready pizza and box\" which is supposed to be ready between the hours of 4 and 8 p.m. at 7:24 p.m. here it is 8 p.m. and I still have not received my order which I was told would be ready in 12 to 15 minutes this place is terrible terrible terrible and I will no longer be spending my money at this particular little Little Caesars if any Little Caesars Domino's here I come\n",
      "\n",
      "Terrible airline. They have nothing to offer accept a ride. Why is it that airlines have terrible business models? Virgin America is my favorite. We need more Airlines like them.\n",
      "\n",
      "This place just sucks. Food was terrible. Service was even worse some how. Just skip it all together.\n",
      "\n",
      "Terrible.. absolutely terrible. Dr. Hinds is especially rude, very difficult to get anyone to return a phone call, just overall terrible patient care.\n",
      "\n",
      "Yuk! Terrible pizza! I think I got food poisoning!! Yuk! Yuk! Yuk! Yuk! Yuk! Yuk! Yik! Still Yuk!!!!!@@@@@@@@@@@@@@@@@@@@@@@@@@@@@@ Yikes yuk yuk yuk yuk yuk yuk yuk yuk yuk yuk yuk yuk yuk yuk yuk yuk yuk yuk yuk yuk yuk yuk yuk yuk yuk yuk yuk yuk yuk yuk yuk yuk yuk yuk\n",
      "\n",
      "Don't shop here. The owner John Menard is PURE EVIL... Menards is a terrible place to work, not a good corporate citizen, and a terrible customer for its' vendors. Spend your money in a local hardware store.\n",
      "\n",
      "Terrible terrible terrible. After they lost my paper work, I had to wait 2 and half hours after my scheduled appointment to be seen. No one apologized and the receptionist was down right nasty. The tech who did my MRI was awesome and friendly and is the only reason they get 2 stars. Go to a different location!\n",
      "\n",
      "旅行でラスベガスに来ましたがネイルがはげてるのが気になり、探したお店でした。 質問にも丁寧に答えてくれましたし、日本人の方も日本語が話せる方も居て、とても綺麗で居心地のいいお店でした。 ネイルはちはるさんと言う綺麗な方が丁寧にしてくれとても気に入りました。 予定になかったまつ毛エクステもお願いし、日本ではまだあまりないブラウンカラーのエクステをしてもらい、とても気に入りました。 また是非マッサージなどで伺いたいと思います。\n",
      "\n",
      "天氣很熱吃不下東西，今天我點了一個韓國冷面湯、餐後點了甜點，冰沙系列不會太甜膩，覺得店家很用心製作，包含擺盤精緻、佐料衛生，夏日想開胃，這是一個不錯的選擇，服務人員也很敬業，以後會常常來\n",
      "\n",
      "Fries were burnt to shit. Jalapeños were so burnt they were black. Service was terrible. Over priced for nasty food.\n",
      "\n"
     ]
    }
   ],
   "source": [
    "# Print full text of similar reviews.\n",
    "for text in df.iloc[bad_indices[0]]['text']:\n",
    "    print(f'{text}\\n')"
   ]
  },
  {
   "cell_type": "markdown",
   "metadata": {},
   "source": [
    "#### Observations\n",
    "\n",
    "Unsurprisingly, our model does not handle non-English reviews well. With that exception noted, however, it otherwise does seem to do well at identifying clearly negative reviews.\n",
    "\n",
    "On the other hand, the model does not seem to reliably pick up on the type of business being reviewed - we have an airline, a couple of medical providers, a hardware store, and several restaurant reviews all lumped together here."
   ]
  },
  {
   "cell_type": "markdown",
   "metadata": {},
   "source": [
    "## Part 3: Classification\n",
    "<a id=\"#p3\"></a>\n",
    "Your goal in this section will be to predict `stars` from the review dataset. \n",
    "\n",
    "1. Create a pipeline object with a sklearn `CountVectorizer` or `TfidfVector` and any sklearn classifier. Use that pipeline to estimate a model to predict `stars`. Use the Pipeline to predict a star rating for your fake review from Part 2. \n",
    "2. Tune the entire pipeline with a GridSearch"
   ]
  },
  {
   "cell_type": "markdown",
   "metadata": {},
   "source": [
    "### Create a Pipeline\n",
    "\n",
    "Create a pipeline object with a sklearn CountVectorizer or TfidfVectorizer and any sklearn classifier. Use that pipeline to estimate a model to predict stars. Use the pipeline to predict a star rating for your fake review from Part 2."
   ]
  },
  {
   "cell_type": "code",
   "execution_count": 19,
   "metadata": {},
   "outputs": [],
   "source": [
    "# Create pipeline components.\n",
    "vectorizer = TfidfVectorizer()\n",
    "classifier = KNeighborsClassifier()"
   ]
  },
  {
   "cell_type": "code",
   "execution_count": 20,
   "metadata": {},
   "outputs": [],
   "source": [
    "# Define the pipeline.\n",
    "pipe = Pipeline([('vect', vectorizer), \n",
    "                 ('clf', classifier)])"
   ]
  },
  {
   "cell_type": "code",
   "execution_count": 21,
   "metadata": {},
   "outputs": [
    {
     "data": {
      "text/plain": [
       "Pipeline(memory=None,\n",
       "         steps=[('vect',\n",
       "                 TfidfVectorizer(analyzer='word', binary=False,\n",
       "                                 decode_error='strict',\n",
       "                                 dtype=<class 'numpy.float64'>,\n",
       "                                 encoding='utf-8', input='content',\n",
       "                                 lowercase=True, max_df=1.0, max_features=None,\n",
       "                                 min_df=1, ngram_range=(1, 1), norm='l2',\n",
       "                                 preprocessor=None, smooth_idf=True,\n",
       "                                 stop_words=None, strip_accents=None,\n",
       "                                 sublinear_tf=False,\n",
       "                                 token_pattern='(?u)\\\\b\\\\w\\\\w+\\\\b',\n",
       "                                 tokenizer=None, use_idf=True,\n",
       "                                 vocabulary=None)),\n",
       "                ('clf',\n",
       "                 KNeighborsClassifier(algorithm='auto', leaf_size=30,\n",
       "                                      metric='minkowski', metric_params=None,\n",
       "                                      n_jobs=None, n_neighbors=5, p=2,\n",
       "                                      weights='uniform'))],\n",
       "         verbose=False)"
      ]
     },
     "execution_count": 21,
     "metadata": {},
     "output_type": "execute_result"
    }
   ],
   "source": [
    "# Fit pipeline to data.\n",
    "pipe.fit(tokens.astype(str), df['stars'])"
   ]
  },
  {
   "cell_type": "code",
   "execution_count": 22,
   "metadata": {},
   "outputs": [
    {
     "data": {
      "text/plain": [
       "array([1], dtype=int64)"
      ]
     },
     "execution_count": 22,
     "metadata": {},
     "output_type": "execute_result"
    }
   ],
   "source": [
    "# Use the pipeline to predict a star rating for a fake review.\n",
    "pipe.predict([bad_review])"
   ]
  },
  {
   "cell_type": "markdown",
   "metadata": {},
   "source": [
    "As expected, the pipeline predicts the lowest possible rating for this clearly negative review."
   ]
  },
  {
   "cell_type": "markdown",
   "metadata": {},
   "source": [
    "### Tune the Pipeline\n",
    "\n",
    "Tune the entire pipeline with a GridSearch."
   ]
  },
  {
   "cell_type": "code",
   "execution_count": 23,
   "metadata": {},
   "outputs": [],
   "source": [
    "# Define parameter space for exploration.\n",
    "parameters = {\n",
    "    'vect__max_df': (0.95, 0.98),\n",
    "    'vect__min_df': (0.02, 0.05),\n",
    "    'vect__max_features': (500, 1000),\n",
    "    'vect__ngram_range': ((1, 1), (1, 2)),\n",
    "    'clf__n_neighbors': (5, 10),\n",
    "    'clf__weights':('uniform', 'distance')\n",
    "}"
   ]
  },
  {
   "cell_type": "code",
   "execution_count": 24,
   "metadata": {},
   "outputs": [
    {
     "name": "stdout",
     "output_type": "stream",
     "text": [
      "Fitting 3 folds for each of 64 candidates, totalling 192 fits\n"
     ]
    },
    {
     "name": "stderr",
     "output_type": "stream",
     "text": [
      "[Parallel(n_jobs=-1)]: Using backend LokyBackend with 4 concurrent workers.\n",
      "[Parallel(n_jobs=-1)]: Done  42 tasks      | elapsed:   24.8s\n",
      "[Parallel(n_jobs=-1)]: Done 192 out of 192 | elapsed:  1.8min finished\n"
     ]
    },
    {
     "data": {
      "text/plain": [
       "GridSearchCV(cv=3, error_score='raise-deprecating',\n",
       "             estimator=Pipeline(memory=None,\n",
       "                                steps=[('vect',\n",
       "                                        TfidfVectorizer(analyzer='word',\n",
       "                                                        binary=False,\n",
       "                                                        decode_error='strict',\n",
       "                                                        dtype=<class 'numpy.float64'>,\n",
       "                                                        encoding='utf-8',\n",
       "                                                        input='content',\n",
       "                                                        lowercase=True,\n",
       "                                                        max_df=1.0,\n",
       "                                                        max_features=None,\n",
       "                                                        min_df=1,\n",
       "                                                        ngram_range=(1, 1),\n",
       "                                                        norm='l2',\n",
       "                                                        preprocessor=None,\n",
       "                                                        smooth_idf=True,\n",
       "                                                        stop_words...\n",
       "                                                             n_neighbors=5, p=2,\n",
       "                                                             weights='uniform'))],\n",
       "                                verbose=False),\n",
       "             iid='warn', n_jobs=-1,\n",
       "             param_grid={'clf__n_neighbors': (5, 10),\n",
       "                         'clf__weights': ('uniform', 'distance'),\n",
       "                         'vect__max_df': (0.95, 0.98),\n",
       "                         'vect__max_features': (500, 1000),\n",
       "                         'vect__min_df': (0.02, 0.05),\n",
       "                         'vect__ngram_range': ((1, 1), (1, 2))},\n",
       "             pre_dispatch='2*n_jobs', refit=True, return_train_score=False,\n",
       "             scoring=None, verbose=1)"
      ]
     },
     "execution_count": 24,
     "metadata": {},
     "output_type": "execute_result"
    }
   ],
   "source": [
    "# Search parameter space for best model.\n",
    "grid_search = GridSearchCV(pipe, parameters, cv=3, n_jobs=-1, verbose=1)\n",
    "grid_search.fit(tokens.astype(str), df['stars'])"
   ]
  },
  {
   "cell_type": "code",
   "execution_count": 25,
   "metadata": {},
   "outputs": [
    {
     "data": {
      "text/plain": [
       "0.4784"
      ]
     },
     "execution_count": 25,
     "metadata": {},
     "output_type": "execute_result"
    }
   ],
   "source": [
    "# Get accuracy of best model.\n",
    "grid_search.best_score_"
   ]
  },
  {
   "cell_type": "code",
   "execution_count": 26,
   "metadata": {},
   "outputs": [
    {
     "data": {
      "text/plain": [
       "0.4462"
      ]
     },
     "execution_count": 26,
     "metadata": {},
     "output_type": "execute_result"
    }
   ],
   "source": [
    "# Compare to baseline accuracy.\n",
    "accuracy_score([5]*len(df['stars']), df['stars'])"
   ]
  },
  {
   "cell_type": "markdown",
   "metadata": {},
   "source": [
    "That's pretty terrible! How wrong _are_ our mis-classified star ratings, though?"
   ]
  },
  {
   "cell_type": "code",
   "execution_count": 27,
   "metadata": {},
   "outputs": [
    {
     "name": "stdout",
     "output_type": "stream",
     "text": [
      "Fitting 3 folds for each of 64 candidates, totalling 192 fits\n"
     ]
    },
    {
     "name": "stderr",
     "output_type": "stream",
     "text": [
      "[Parallel(n_jobs=-1)]: Using backend LokyBackend with 4 concurrent workers.\n",
      "[Parallel(n_jobs=-1)]: Done  42 tasks      | elapsed:   24.6s\n",
      "[Parallel(n_jobs=-1)]: Done 192 out of 192 | elapsed:  1.8min finished\n"
     ]
    },
    {
     "data": {
      "text/plain": [
       "GridSearchCV(cv=3, error_score='raise-deprecating',\n",
       "             estimator=Pipeline(memory=None,\n",
       "                                steps=[('vect',\n",
       "                                        TfidfVectorizer(analyzer='word',\n",
       "                                                        binary=False,\n",
       "                                                        decode_error='strict',\n",
       "                                                        dtype=<class 'numpy.float64'>,\n",
       "                                                        encoding='utf-8',\n",
       "                                                        input='content',\n",
       "                                                        lowercase=True,\n",
       "                                                        max_df=1.0,\n",
       "                                                        max_features=None,\n",
       "                                                        min_df=1,\n",
       "                                                        ngram_range=(1, 1),\n",
       "                                                        norm='l2',\n",
       "                                                        preprocessor=None,\n",
       "                                                        smooth_idf=True,\n",
       "                                                        stop_words...\n",
       "                                                             weights='uniform'))],\n",
       "                                verbose=False),\n",
       "             iid='warn', n_jobs=-1,\n",
       "             param_grid={'clf__n_neighbors': (5, 10),\n",
       "                         'clf__weights': ('uniform', 'distance'),\n",
       "                         'vect__max_df': (0.95, 0.98),\n",
       "                         'vect__max_features': (500, 1000),\n",
       "                         'vect__min_df': (0.02, 0.05),\n",
       "                         'vect__ngram_range': ((1, 1), (1, 2))},\n",
       "             pre_dispatch='2*n_jobs', refit=True, return_train_score=False,\n",
       "             scoring='neg_mean_absolute_error', verbose=1)"
      ]
     },
     "execution_count": 27,
     "metadata": {},
     "output_type": "execute_result"
    }
   ],
   "source": [
    "# Re-search grid, but penalize degree of error.\n",
    "grid_search_mae = GridSearchCV(pipe, \n",
    "                               parameters, \n",
    "                               scoring='neg_mean_absolute_error', \n",
    "                               cv=3, \n",
    "                               n_jobs=-1, \n",
    "                               verbose=1)\n",
    "grid_search_mae.fit(tokens.astype(str), df['stars'])"
   ]
  },
  {
   "cell_type": "code",
   "execution_count": 28,
   "metadata": {},
   "outputs": [
    {
     "data": {
      "text/plain": [
       "0.979"
      ]
     },
     "execution_count": 28,
     "metadata": {},
     "output_type": "execute_result"
    }
   ],
   "source": [
    "# Get MAE of best model.\n",
    "abs(grid_search_mae.best_score_)"
   ]
  },
  {
   "cell_type": "markdown",
   "metadata": {},
   "source": [
    "So on average, we're off by about one star. Not great, but not _terrible_ terrible either."
   ]
  },
  {
   "cell_type": "markdown",
   "metadata": {},
   "source": [
    "## Part 4: Topic Modeling\n",
    "\n",
    "Let's find out what those yelp reviews are saying! :D\n",
    "\n",
    "1. Estimate an LDA topic model of the review text\n",
    "2. Create 1-2 visualizations of the results\n",
    "    - You can use the most important 3 words of a topic in relevant visualizations. Refer to yesterday's notebook to extract. \n",
    "3. In markdown, write 1-2 paragraphs of analysis on the results of your topic model\n",
    "\n",
    "__*Note*__: You can pass the DataFrame column of text reviews to gensim. You do not have to use a generator."
   ]
  },
  {
   "cell_type": "markdown",
   "metadata": {},
   "source": [
    "### Create generator"
   ]
  },
  {
   "cell_type": "code",
   "execution_count": 29,
   "metadata": {},
   "outputs": [],
   "source": [
    "def doc_stream(filename):\n",
    "    with open(filename) as f:\n",
    "        for line in f:\n",
    "            text = ' '.join(json.loads(line.strip())['text'].split())\n",
    "            text = text.replace('$', '')\n",
    "            tokens = tokenize(str(text))\n",
    "            yield tokens"
   ]
  },
  {
   "cell_type": "code",
   "execution_count": 30,
   "metadata": {},
   "outputs": [],
   "source": [
    "streaming_data = doc_stream('./data/review_sample.json')"
   ]
  },
  {
   "cell_type": "markdown",
   "metadata": {},
   "source": [
    "### Estimate an LDA topic model of the review text"
   ]
  },
  {
   "cell_type": "code",
   "execution_count": 31,
   "metadata": {},
   "outputs": [],
   "source": [
    "# Create dictionary.\n",
    "id2word = corpora.Dictionary(doc_stream('./data/review_sample.json'))"
   ]
  },
  {
   "cell_type": "code",
   "execution_count": 32,
   "metadata": {},
   "outputs": [
    {
     "data": {
      "text/plain": [
       "27573"
      ]
     },
     "execution_count": 32,
     "metadata": {},
     "output_type": "execute_result"
    }
   ],
   "source": [
    "# Check size of dictionary.\n",
    "len(id2word.keys())"
   ]
  },
  {
   "cell_type": "code",
   "execution_count": 33,
   "metadata": {},
   "outputs": [],
   "source": [
    "# Remove extreme values from dataset. The \"no above\"\n",
    "# here seems really low, but we have a lot of potential \n",
    "# stopwords turning up in our dictionary.\n",
    "id2word.filter_extremes(no_below=5, no_above=0.05)"
   ]
  },
  {
   "cell_type": "code",
   "execution_count": 34,
   "metadata": {},
   "outputs": [
    {
     "data": {
      "text/plain": [
       "6183"
      ]
     },
     "execution_count": 34,
     "metadata": {},
     "output_type": "execute_result"
    }
   ],
   "source": [
    "# Check size of filtered dictionary.\n",
    "len(id2word.keys())"
   ]
  },
  {
   "cell_type": "code",
   "execution_count": 35,
   "metadata": {},
   "outputs": [],
   "source": [
    "# A bag of words(bow) representation of our corpus.\n",
    "corpus = [id2word.doc2bow(review) for review in tokens]"
   ]
  },
  {
   "cell_type": "code",
   "execution_count": 36,
   "metadata": {},
   "outputs": [],
   "source": [
    "lda = LdaMulticore(corpus=corpus,\n",
    "                   id2word=id2word,\n",
    "                   random_state=0,\n",
    "                   iterations=5,\n",
    "                   workers=4,\n",
    "                   num_topics = 6 # You can change this parameter\n",
    "                  )"
   ]
  },
  {
   "cell_type": "code",
   "execution_count": 37,
   "metadata": {},
   "outputs": [],
   "source": [
    "words = [re.findall(r'\"([^\"]*)\"',t[1]) for t in lda.print_topics()]\n",
    "topics = [' '.join(t[0:10]) for t in words]"
   ]
  },
  {
   "cell_type": "code",
   "execution_count": 38,
   "metadata": {},
   "outputs": [
    {
     "name": "stdout",
     "output_type": "stream",
     "text": [
      "Topic 1: pizza store sandwich stay line old month owner car meat\n",
      "\n",
      "\n",
      "Topic 2: burger seat roll coffee cut store car perfect pizza stay\n",
      "\n",
      "\n",
      "Topic 3: store coffee car hotel free deal cream atmosphere busy soup\n",
      "\n",
      "\n",
      "Topic 4: store meat line pizza coffee stay sandwich shop option car\n",
      "\n",
      "\n",
      "Topic 5: car beer owner house spot pizza cook ice high option\n",
      "\n",
      "\n",
      "Topic 6: pizza use family perfect store waitress sushi stay shop sandwich\n",
      "\n",
      "\n"
     ]
    }
   ],
   "source": [
    "# List most common words for each topic.\n",
    "for id, t in enumerate(topics):\n",
    "    print(f'Topic {id+1}: {t}')\n",
    "    print(\"\\n\")"
   ]
  },
  {
   "cell_type": "markdown",
   "metadata": {},
   "source": [
    "### Create 1-2 visualizations of the results\n",
    "\n",
    "You can use the most important 3 words of a topic in relevant visualizations. Refer to yesterday's notebook to extract. "
   ]
  },
  {
   "cell_type": "code",
   "execution_count": 39,
   "metadata": {},
   "outputs": [],
   "source": [
    "pyLDAvis.enable_notebook()"
   ]
  },
  {
   "cell_type": "code",
   "execution_count": 40,
   "metadata": {},
   "outputs": [
    {
     "name": "stderr",
     "output_type": "stream",
     "text": [
      "C:\\Users\\Me\\Anaconda3\\lib\\site-packages\\pyLDAvis\\_prepare.py:257: FutureWarning: Sorting because non-concatenation axis is not aligned. A future version\n",
      "of pandas will change to not sort by default.\n",
      "\n",
      "To accept the future behavior, pass 'sort=False'.\n",
      "\n",
      "To retain the current behavior and silence the warning, pass 'sort=True'.\n",
      "\n",
      "  return pd.concat([default_term_info] + list(topic_dfs))\n"
     ]
    },
    {
     "data": {
      "text/html": [
       "\n",
       "<link rel=\"stylesheet\" type=\"text/css\" href=\"https://cdn.rawgit.com/bmabey/pyLDAvis/files/ldavis.v1.0.0.css\">\n",
       "\n",
       "\n",
       "<div id=\"ldavis_el67221226140813603668809431\"></div>\n",
       "<script type=\"text/javascript\">\n",
       "\n",
       "var ldavis_el67221226140813603668809431_data = {\"mdsDat\": {\"x\": [0.0008360684292747535, -0.004866757233969952, 0.006892043593540288, -0.0029374070854343306, 0.0001948904425382099, -0.00011883814594896848], \"y\": [0.0063771196786466455, 0.0012713749821307413, -0.0010140569688039916, -0.00238870983036497, 0.001031216782640871, -0.005276944644249295], \"topics\": [1, 2, 3, 4, 5, 6], \"cluster\": [1, 1, 1, 1, 1, 1], \"Freq\": [16.918193817138672, 16.72760009765625, 16.660598754882812, 16.63597869873047, 16.55494499206543, 16.502676010131836]}, \"tinfo\": {\"Category\": [\"Default\", \"Default\", \"Default\", \"Default\", \"Default\", \"Default\", \"Default\", \"Default\", \"Default\", \"Default\", \"Default\", \"Default\", \"Default\", \"Default\", \"Default\", \"Default\", \"Default\", \"Default\", \"Default\", \"Default\", \"Default\", \"Default\", \"Default\", \"Default\", \"Default\", \"Default\", \"Default\", \"Default\", \"Default\", \"Default\", \"Topic1\", \"Topic1\", \"Topic1\", \"Topic1\", \"Topic1\", \"Topic1\", \"Topic1\", \"Topic1\", \"Topic1\", \"Topic1\", \"Topic1\", \"Topic1\", \"Topic1\", \"Topic1\", \"Topic1\", \"Topic1\", \"Topic1\", \"Topic1\", \"Topic1\", \"Topic1\", \"Topic1\", \"Topic1\", \"Topic1\", \"Topic1\", \"Topic1\", \"Topic1\", \"Topic1\", \"Topic1\", \"Topic1\", \"Topic1\", \"Topic1\", \"Topic1\", \"Topic1\", \"Topic1\", \"Topic1\", \"Topic1\", \"Topic1\", \"Topic1\", \"Topic1\", \"Topic1\", \"Topic1\", \"Topic1\", \"Topic1\", \"Topic1\", \"Topic1\", \"Topic1\", \"Topic1\", \"Topic1\", \"Topic1\", \"Topic1\", \"Topic1\", \"Topic1\", \"Topic1\", \"Topic1\", \"Topic1\", \"Topic1\", \"Topic1\", \"Topic1\", \"Topic1\", \"Topic1\", \"Topic1\", \"Topic1\", \"Topic1\", \"Topic1\", \"Topic1\", \"Topic1\", \"Topic1\", \"Topic1\", \"Topic1\", \"Topic1\", \"Topic1\", \"Topic1\", \"Topic1\", \"Topic1\", \"Topic1\", \"Topic1\", \"Topic1\", \"Topic2\", \"Topic2\", \"Topic2\", \"Topic2\", \"Topic2\", \"Topic2\", \"Topic2\", \"Topic2\", \"Topic2\", \"Topic2\", \"Topic2\", \"Topic2\", \"Topic2\", \"Topic2\", \"Topic2\", \"Topic2\", \"Topic2\", \"Topic2\", \"Topic2\", \"Topic2\", \"Topic2\", \"Topic2\", \"Topic2\", \"Topic2\", \"Topic2\", \"Topic2\", \"Topic2\", \"Topic2\", \"Topic2\", \"Topic2\", \"Topic2\", \"Topic2\", \"Topic2\", \"Topic2\", \"Topic2\", \"Topic2\", \"Topic2\", \"Topic2\", \"Topic2\", \"Topic2\", \"Topic2\", \"Topic2\", \"Topic2\", \"Topic2\", \"Topic2\", \"Topic2\", \"Topic2\", \"Topic2\", \"Topic2\", \"Topic2\", \"Topic2\", \"Topic2\", \"Topic2\", \"Topic2\", \"Topic2\", \"Topic2\", \"Topic2\", \"Topic2\", \"Topic2\", \"Topic2\", \"Topic2\", \"Topic2\", \"Topic2\", \"Topic2\", \"Topic2\", \"Topic2\", \"Topic2\", \"Topic2\", \"Topic2\", \"Topic2\", \"Topic2\", \"Topic2\", \"Topic2\", \"Topic2\", \"Topic2\", \"Topic2\", \"Topic2\", \"Topic2\", \"Topic2\", \"Topic2\", \"Topic2\", \"Topic2\", \"Topic2\", \"Topic3\", \"Topic3\", \"Topic3\", \"Topic3\", \"Topic3\", \"Topic3\", \"Topic3\", \"Topic3\", \"Topic3\", \"Topic3\", \"Topic3\", \"Topic3\", \"Topic3\", \"Topic3\", \"Topic3\", \"Topic3\", \"Topic3\", \"Topic3\", \"Topic3\", \"Topic3\", \"Topic3\", \"Topic3\", \"Topic3\", \"Topic3\", \"Topic3\", \"Topic3\", \"Topic3\", \"Topic3\", \"Topic3\", \"Topic3\", \"Topic3\", \"Topic3\", \"Topic3\", \"Topic3\", \"Topic3\", \"Topic3\", \"Topic3\", \"Topic3\", \"Topic3\", \"Topic3\", \"Topic3\", \"Topic3\", \"Topic3\", \"Topic3\", \"Topic3\", \"Topic3\", \"Topic3\", \"Topic3\", \"Topic3\", \"Topic3\", \"Topic3\", \"Topic3\", \"Topic3\", \"Topic3\", \"Topic3\", \"Topic3\", \"Topic3\", \"Topic3\", \"Topic3\", \"Topic3\", \"Topic3\", \"Topic3\", \"Topic3\", \"Topic3\", \"Topic3\", \"Topic3\", \"Topic3\", \"Topic3\", \"Topic3\", \"Topic3\", \"Topic3\", \"Topic3\", \"Topic3\", \"Topic3\", \"Topic3\", \"Topic3\", \"Topic4\", \"Topic4\", \"Topic4\", \"Topic4\", \"Topic4\", \"Topic4\", \"Topic4\", \"Topic4\", \"Topic4\", \"Topic4\", \"Topic4\", \"Topic4\", \"Topic4\", \"Topic4\", \"Topic4\", \"Topic4\", \"Topic4\", \"Topic4\", \"Topic4\", \"Topic4\", \"Topic4\", \"Topic4\", \"Topic4\", \"Topic4\", \"Topic4\", \"Topic4\", \"Topic4\", \"Topic4\", \"Topic4\", \"Topic4\", \"Topic4\", \"Topic4\", \"Topic4\", \"Topic4\", \"Topic4\", \"Topic4\", \"Topic4\", \"Topic4\", \"Topic4\", \"Topic4\", \"Topic4\", \"Topic4\", \"Topic4\", \"Topic4\", \"Topic4\", \"Topic4\", \"Topic4\", \"Topic4\", \"Topic4\", \"Topic4\", \"Topic4\", \"Topic4\", \"Topic4\", \"Topic4\", \"Topic4\", \"Topic4\", \"Topic4\", \"Topic4\", \"Topic4\", \"Topic4\", \"Topic4\", \"Topic4\", \"Topic4\", \"Topic4\", \"Topic4\", \"Topic4\", \"Topic4\", \"Topic4\", \"Topic4\", \"Topic4\", \"Topic4\", \"Topic4\", \"Topic4\", \"Topic4\", \"Topic4\", \"Topic4\", \"Topic4\", \"Topic4\", \"Topic4\", \"Topic4\", \"Topic4\", \"Topic4\", \"Topic4\", \"Topic4\", \"Topic4\", \"Topic4\", \"Topic4\", \"Topic4\", \"Topic4\", \"Topic4\", \"Topic4\", \"Topic4\", \"Topic4\", \"Topic4\", \"Topic4\", \"Topic4\", \"Topic5\", \"Topic5\", \"Topic5\", \"Topic5\", \"Topic5\", \"Topic5\", \"Topic5\", \"Topic5\", \"Topic5\", \"Topic5\", \"Topic5\", \"Topic5\", \"Topic5\", \"Topic5\", \"Topic5\", \"Topic5\", \"Topic5\", \"Topic5\", \"Topic5\", \"Topic5\", \"Topic5\", \"Topic5\", \"Topic5\", \"Topic5\", \"Topic5\", \"Topic5\", \"Topic5\", \"Topic5\", \"Topic5\", \"Topic5\", \"Topic5\", \"Topic5\", \"Topic5\", \"Topic5\", \"Topic5\", \"Topic5\", \"Topic5\", \"Topic5\", \"Topic5\", \"Topic5\", \"Topic5\", \"Topic5\", \"Topic5\", \"Topic5\", \"Topic5\", \"Topic5\", \"Topic5\", \"Topic5\", \"Topic5\", \"Topic5\", \"Topic5\", \"Topic5\", \"Topic5\", \"Topic5\", \"Topic5\", \"Topic5\", \"Topic5\", \"Topic5\", \"Topic5\", \"Topic5\", \"Topic5\", \"Topic5\", \"Topic5\", \"Topic5\", \"Topic5\", \"Topic5\", \"Topic5\", \"Topic5\", \"Topic5\", \"Topic5\", \"Topic5\", \"Topic5\", \"Topic5\", \"Topic5\", \"Topic5\", \"Topic5\", \"Topic5\", \"Topic5\", \"Topic5\", \"Topic5\", \"Topic6\", \"Topic6\", \"Topic6\", \"Topic6\", \"Topic6\", \"Topic6\", \"Topic6\", \"Topic6\", \"Topic6\", \"Topic6\", \"Topic6\", \"Topic6\", \"Topic6\", \"Topic6\", \"Topic6\", \"Topic6\", \"Topic6\", \"Topic6\", \"Topic6\", \"Topic6\", \"Topic6\", \"Topic6\", \"Topic6\", \"Topic6\", \"Topic6\", \"Topic6\", \"Topic6\", \"Topic6\", \"Topic6\", \"Topic6\", \"Topic6\", \"Topic6\", \"Topic6\", \"Topic6\", \"Topic6\", \"Topic6\", \"Topic6\", \"Topic6\", \"Topic6\", \"Topic6\", \"Topic6\", \"Topic6\", \"Topic6\", \"Topic6\", \"Topic6\", \"Topic6\", \"Topic6\", \"Topic6\", \"Topic6\", \"Topic6\", \"Topic6\", \"Topic6\", \"Topic6\", \"Topic6\", \"Topic6\", \"Topic6\", \"Topic6\", \"Topic6\", \"Topic6\", \"Topic6\", \"Topic6\", \"Topic6\", \"Topic6\", \"Topic6\", \"Topic6\", \"Topic6\", \"Topic6\", \"Topic6\", \"Topic6\", \"Topic6\", \"Topic6\", \"Topic6\", \"Topic6\", \"Topic6\", \"Topic6\", \"Topic6\", \"Topic6\", \"Topic6\", \"Topic6\"], \"Freq\": [645.0, 619.0, 812.0, 548.0, 436.0, 565.0, 539.0, 293.0, 509.0, 527.0, 467.0, 481.0, 378.0, 488.0, 271.0, 765.0, 686.0, 434.0, 373.0, 605.0, 260.0, 486.0, 360.0, 307.0, 246.0, 465.0, 85.0, 464.0, 601.0, 317.0, 4.110169410705566, 3.4714322090148926, 3.6325790882110596, 26.10223960876465, 1.8879241943359375, 5.962038040161133, 11.073827743530273, 6.4203996658325195, 1.9709815979003906, 3.126694440841675, 11.786690711975098, 13.153242111206055, 1.696213960647583, 2.1851203441619873, 9.288138389587402, 2.270136594772339, 44.64500427246094, 2.1110615730285645, 1.9053075313568115, 16.833240509033203, 2.5204124450683594, 4.457608222961426, 3.5261118412017822, 4.973202228546143, 28.300119400024414, 1.6425671577453613, 5.653406620025635, 140.96961975097656, 9.076394081115723, 59.7193717956543, 59.47021484375, 139.024169921875, 123.25507354736328, 67.99474334716797, 120.69210052490234, 135.7498016357422, 94.95784759521484, 25.122222900390625, 22.881502151489258, 45.22216033935547, 37.92095184326172, 20.631078720092773, 173.0572052001953, 85.93859100341797, 62.11952209472656, 56.77815628051758, 100.7990951538086, 103.88104248046875, 109.95277404785156, 87.40047454833984, 115.6325454711914, 103.41851043701172, 92.8617935180664, 88.42115020751953, 92.43199920654297, 85.26893615722656, 81.36591339111328, 112.85868072509766, 72.99300384521484, 104.98025512695312, 92.16453552246094, 104.71682739257812, 97.57786560058594, 81.53646087646484, 116.60018157958984, 103.97657775878906, 110.41043853759766, 98.73846435546875, 126.63768005371094, 109.76476287841797, 93.33194732666016, 103.70603942871094, 97.17021179199219, 97.28936767578125, 95.15323638916016, 98.12639617919922, 94.9303970336914, 2.1337437629699707, 5.8861517906188965, 3.1366019248962402, 6.175092697143555, 4.133634567260742, 8.210577011108398, 1.2977083921432495, 6.865817070007324, 4.174818992614746, 1.2512577772140503, 6.235708713531494, 35.603885650634766, 3.229264974594116, 1.8507925271987915, 3.3729169368743896, 8.264413833618164, 6.492863655090332, 3.8844144344329834, 1.8429021835327148, 1.6381206512451172, 44.16140365600586, 3.765801191329956, 1.8055272102355957, 4.582408905029297, 5.862422466278076, 3.590832471847534, 4.8372015953063965, 5.0174641609191895, 2.3611278533935547, 17.757152557373047, 63.821800231933594, 45.966922760009766, 31.155179977416992, 205.2792510986328, 81.5876235961914, 14.33117961883545, 22.257966995239258, 29.167095184326172, 19.773479461669922, 26.865869522094727, 63.36700439453125, 91.33747863769531, 85.4456787109375, 147.28182983398438, 60.66996383666992, 137.23263549804688, 51.45549774169922, 101.31584930419922, 56.407440185546875, 73.88386535644531, 70.69293975830078, 99.45116424560547, 88.61880493164062, 58.62184524536133, 79.81201171875, 63.193965911865234, 115.86164093017578, 95.69364166259766, 112.8143310546875, 59.947200775146484, 81.73164367675781, 118.71437072753906, 107.45968627929688, 96.82328796386719, 94.70515441894531, 104.92352294921875, 95.67992401123047, 117.28569793701172, 95.85406494140625, 109.74815368652344, 129.11526489257812, 95.57823944091797, 99.57353210449219, 93.07759094238281, 91.26007843017578, 95.38230895996094, 108.6748046875, 90.54412078857422, 94.996337890625, 94.3936538696289, 89.6277847290039, 90.14511108398438, 91.15711212158203, 33.595977783203125, 3.477909803390503, 3.4840545654296875, 10.555076599121094, 1.8992193937301636, 3.6261966228485107, 3.02522349357605, 2.1611380577087402, 2.364145040512085, 3.806807518005371, 6.605500221252441, 2.099515199661255, 9.13213062286377, 10.531885147094727, 3.747936248779297, 1.8893024921417236, 5.068896293640137, 2.3030126094818115, 14.915022850036621, 1.6163811683654785, 76.13900756835938, 68.89271545410156, 26.72405433654785, 58.47231674194336, 3.5853867530822754, 6.575578212738037, 3.8993711471557617, 2.40590238571167, 6.466194152832031, 1.9820585250854492, 116.76333618164062, 96.76329040527344, 147.56764221191406, 70.1320571899414, 37.04216384887695, 57.576210021972656, 56.8413200378418, 110.65604400634766, 17.507814407348633, 87.12071228027344, 74.12079620361328, 41.57663345336914, 114.44459533691406, 44.135169982910156, 151.43499755859375, 101.85340881347656, 95.08924865722656, 108.91582489013672, 67.8509750366211, 98.38842010498047, 98.92955780029297, 60.79517364501953, 117.30904388427734, 94.75337982177734, 65.50202178955078, 105.33003997802734, 97.7364501953125, 111.88357543945312, 102.18875122070312, 103.5705795288086, 86.58157348632812, 103.86976623535156, 97.83495330810547, 76.31687927246094, 88.75537109375, 106.56380462646484, 94.68962097167969, 88.78434753417969, 97.52782440185547, 114.18405151367188, 93.69670104980469, 90.25520324707031, 92.41638946533203, 93.86573028564453, 90.55741119384766, 90.65717315673828, 1.7924292087554932, 4.506990909576416, 2.192002296447754, 6.443016052246094, 3.014894485473633, 9.845815658569336, 9.969776153564453, 3.3572802543640137, 5.037736415863037, 2.016432762145996, 1.8641302585601807, 2.2907931804656982, 2.2724459171295166, 3.033047676086426, 8.191864013671875, 3.4949281215667725, 1.630746841430664, 4.694681644439697, 1.61872398853302, 11.2693510055542, 25.867467880249023, 3.737093448638916, 2.9486243724823, 2.209061861038208, 7.15959358215332, 3.703387975692749, 2.182204484939575, 3.323364734649658, 8.072713851928711, 3.895103693008423, 25.49230194091797, 15.07485294342041, 27.131912231445312, 28.00716781616211, 77.39231872558594, 19.16789436340332, 109.55651092529297, 28.857593536376953, 13.007047653198242, 26.42542266845703, 17.35143280029297, 20.91259765625, 18.52899932861328, 107.4917221069336, 60.453060150146484, 39.12255859375, 31.057188034057617, 87.34269714355469, 57.262516021728516, 56.2565803527832, 37.21369934082031, 123.71733093261719, 83.58157348632812, 54.86431121826172, 38.2908821105957, 100.3813705444336, 84.7496566772461, 57.68537139892578, 152.743896484375, 85.38518524169922, 72.12950897216797, 65.08488464355469, 111.66287994384766, 76.39484405517578, 109.14513397216797, 98.35556030273438, 85.25949096679688, 57.9659423828125, 100.39668273925781, 65.29265594482422, 113.2078628540039, 93.91878509521484, 118.27427673339844, 80.07476043701172, 65.39320373535156, 95.32032012939453, 93.01988220214844, 132.66937255859375, 85.87104797363281, 99.19392395019531, 81.74365997314453, 107.9625244140625, 104.20755767822266, 85.88855743408203, 108.26896667480469, 89.08045959472656, 84.8869400024414, 84.49088287353516, 91.7836685180664, 93.88602447509766, 88.84696197509766, 91.16841888427734, 92.62198638916016, 87.18457794189453, 86.94969940185547, 85.89332580566406, 3.1588921546936035, 2.2581593990325928, 12.658181190490723, 3.3530805110931396, 3.8119773864746094, 10.068587303161621, 3.1527323722839355, 4.186945915222168, 205.1985321044922, 2.2620158195495605, 24.786357879638672, 5.929055213928223, 5.816895961761475, 16.637006759643555, 4.221854209899902, 3.280081033706665, 4.269386291503906, 124.21094512939453, 3.4906458854675293, 17.69379234313965, 2.8622725009918213, 4.97819185256958, 1.835937261581421, 5.023519992828369, 4.862145900726318, 32.179508209228516, 2.0020172595977783, 3.770517110824585, 7.9890031814575195, 3.7372047901153564, 9.765464782714844, 138.9131317138672, 69.73249816894531, 145.8460693359375, 19.946956634521484, 57.32122802734375, 59.6669921875, 34.6688232421875, 76.9705810546875, 134.20721435546875, 36.20832443237305, 53.35386657714844, 90.9404296875, 93.99130249023438, 27.793930053710938, 102.48696899414062, 67.98212432861328, 113.5768814086914, 56.97578048706055, 52.340274810791016, 102.59959411621094, 98.91340637207031, 54.50040817260742, 101.66460418701172, 99.56790924072266, 104.49276733398438, 90.32465362548828, 101.5287857055664, 75.64704895019531, 69.71939849853516, 93.63471221923828, 77.16448974609375, 92.26445770263672, 96.15995025634766, 85.39501190185547, 103.28627014160156, 88.0850830078125, 111.15095520019531, 115.27572631835938, 89.13872528076172, 121.6474380493164, 90.1775894165039, 92.10106658935547, 112.30406188964844, 94.51190948486328, 96.35311126708984, 94.27784729003906, 89.82470703125, 90.21446990966797, 90.31954956054688, 2.7838187217712402, 2.0152454376220703, 2.9079701900482178, 44.03103256225586, 4.647237300872803, 6.738687038421631, 1.713278889656067, 4.230180263519287, 1.6746597290039062, 12.564444541931152, 3.103036642074585, 5.610201358795166, 12.23062801361084, 3.7238669395446777, 4.520267963409424, 6.642003059387207, 3.230123996734619, 4.885330677032471, 81.07333374023438, 2.1431121826171875, 2.22735333442688, 4.335275173187256, 4.858656883239746, 1.593704342842102, 3.240734100341797, 1.5425044298171997, 10.931333541870117, 1.9479645490646362, 8.120345115661621, 6.213580131530762, 22.6116886138916, 21.993337631225586, 46.94740676879883, 44.767295837402344, 53.86475372314453, 117.06177520751953, 83.22047424316406, 142.407470703125, 47.23357391357422, 112.73792266845703, 66.41390228271484, 60.30992889404297, 104.93262481689453, 79.67418670654297, 86.57344818115234, 99.48731994628906, 73.77882385253906, 60.299110412597656, 72.3749771118164, 36.43001937866211, 26.783479690551758, 92.6650619506836, 71.73483276367188, 59.84195327758789, 95.62571716308594, 102.1530532836914, 115.61398315429688, 93.13542938232422, 109.12297821044922, 150.63265991210938, 103.76094818115234, 99.01399230957031, 128.0424346923828, 85.33061218261719, 95.2718276977539, 79.78954315185547, 102.13243865966797, 83.73125457763672, 85.42784881591797, 97.86458587646484, 99.44562530517578, 92.15351867675781, 94.10872650146484, 100.2398452758789, 94.89600372314453, 95.90113067626953, 91.23281860351562, 90.82908630371094, 86.43257904052734], \"Term\": [\"burger\", \"coffee\", \"store\", \"perfect\", \"cut\", \"sandwich\", \"roll\", \"noodle\", \"use\", \"family\", \"waitress\", \"sushi\", \"dog\", \"deal\", \"pool\", \"pizza\", \"car\", \"house\", \"company\", \"line\", \"remember\", \"hotel\", \"nail\", \"office\", \"horrible\", \"kid\", \"polish\", \"ice\", \"beer\", \"girl\", \"resource\", \"fingernail\", \"Nancy\", \"tour\", \"tastey\", \"tostada\", \"LV\", \"scorpion\", \"Customer\", \"Bobbie\", \"cabbage\", \"relaxing\", \"mart\", \"representation\", \"yoga\", \"hopeful\", \"burrito\", \"las\", \"Bangkok\", \"thorough\", \"Goodyear\", \"tab\", \"continuously\", \"mock\", \"waffle\", \"grilled\", \"maze\", \"use\", \"inviting\", \"class\", \"salsa\", \"family\", \"waitress\", \"remember\", \"sushi\", \"perfect\", \"person\", \"nicely\", \"sashimi\", \"pleasant\", \"sale\", \"personally\", \"pizza\", \"arrive\", \"floor\", \"forget\", \"breakfast\", \"charge\", \"business\", \"cool\", \"shop\", \"ok\", \"wine\", \"plate\", \"beef\", \"maybe\", \"extremely\", \"sandwich\", \"course\", \"dessert\", \"change\", \"selection\", \"rice\", \"wonderful\", \"stay\", \"old\", \"line\", \"kind\", \"store\", \"meat\", \"money\", \"option\", \"item\", \"free\", \"owner\", \"burger\", \"large\", \"tastey\", \"msg\", \"Michelle\", \"knife\", \"mop\", \"boring\", \"tai\", \"edible\", \"western\", \"libation\", \"representative\", \"lovely\", \"eyelash\", \"M.\", \"golden\", \"potential\", \"rub\", \"Guys\", \"DR\", \"focused\", \"bland\", \"climbing\", \"faucet\", \"franchise\", \"baklava\", \"Nachos\", \"gun\", \"Matt\", \"flank\", \"board\", \"product\", \"boyfriend\", \"system\", \"store\", \"girl\", \"consistent\", \"occasion\", \"catch\", \"vet\", \"carry\", \"man\", \"dog\", \"second\", \"meat\", \"bartender\", \"line\", \"simple\", \"manager\", \"near\", \"reason\", \"variety\", \"probably\", \"talk\", \"Las\", \"spend\", \"happen\", \"sandwich\", \"far\", \"shop\", \"real\", \"hair\", \"coffee\", \"large\", \"buy\", \"have\", \"item\", \"tasty\", \"stay\", \"job\", \"option\", \"pizza\", \"huge\", \"roll\", \"deal\", \"live\", \"family\", \"car\", \"hotel\", \"perfect\", \"free\", \"use\", \"cook\", \"seat\", \"polish\", \"Eric\", \"beginner\", \"attach\", \"deter\", \"Hakka\", \"Westgate\", \"stuck\", \"ganoush\", \"surely\", \"grit\", \"hospitable\", \"football\", \"tan\", \"Amanda\", \"Margherita\", \"Mill\", \"firmly\", \"switch\", \"Ocean\", \"pool\", \"horrible\", \"tonight\", \"pack\", \"Easter\", \"gnocchi\", \"salesperson\", \"manicurist\", \"stretch\", \"lebanese\", \"house\", \"nail\", \"beer\", \"move\", \"attention\", \"understand\", \"salon\", \"ice\", \"thai\", \"company\", \"shrimp\", \"update\", \"spot\", \"send\", \"car\", \"quick\", \"half\", \"high\", \"weekend\", \"usually\", \"hard\", \"game\", \"owner\", \"wine\", \"bite\", \"actually\", \"bread\", \"cook\", \"charge\", \"soup\", \"talk\", \"kind\", \"live\", \"cheap\", \"manager\", \"option\", \"rice\", \"fun\", \"old\", \"pizza\", \"family\", \"buy\", \"free\", \"meat\", \"perfect\", \"stay\", \"Ahwatukee\", \"festival\", \"upsetting\", \"Jessica\", \"Angela\", \"Chinese\", \"des\", \"sitting\", \"Hibachi\", \"Jasmine\", \"mesquite\", \"novel\", \"assess\", \"luxurious\", \"tattoo\", \"racist\", \"unfamiliar\", \"guard\", \"Drs\", \"join\", \"cafe\", \"taxi\", \"Tire\", \"optometrist\", \"tow\", \"poisoning\", \"tripe\", \"mister\", \"toy\", \"PA\", \"treatment\", \"procedure\", \"mediocre\", \"possible\", \"office\", \"correct\", \"month\", \"mall\", \"trouble\", \"la\", \"attempt\", \"Dr\", \"smoothie\", \"kid\", \"list\", \"delivery\", \"rate\", \"problem\", \"sell\", \"meet\", \"oil\", \"sandwich\", \"phone\", \"completely\", \"continue\", \"fast\", \"especially\", \"slow\", \"pizza\", \"add\", \"chip\", \"hope\", \"old\", \"issue\", \"owner\", \"deal\", \"helpful\", \"fine\", \"business\", \"employee\", \"line\", \"money\", \"stay\", \"fantastic\", \"ago\", \"spot\", \"actually\", \"store\", \"inside\", \"large\", \"absolutely\", \"meat\", \"coffee\", \"atmosphere\", \"car\", \"ok\", \"probably\", \"change\", \"cream\", \"beer\", \"kind\", \"option\", \"burger\", \"busy\", \"item\", \"seat\", \"costly\", \"Holly\", \"milkshake\", \"daddy\", \"dye\", \"fav\", \"Daniel\", \"dash\", \"burger\", \"kitsch\", \"desert\", \"provider\", \"stranger\", \"clam\", \"tiger\", \"employ\", \"karaoke\", \"cut\", \"Mocha\", \"vegas\", \"Cesar\", \"stew\", \"Heather\", \"dinning\", \"shitty\", \"credit\", \"suburb\", \"lap\", \"surgery\", \"vinyl\", \"dig\", \"roll\", \"buffet\", \"seat\", \"deserve\", \"early\", \"decor\", \"season\", \"appetizer\", \"coffee\", \"desk\", \"patio\", \"point\", \"husband\", \"corner\", \"have\", \"set\", \"perfect\", \"warm\", \"past\", \"rice\", \"live\", \"card\", \"huge\", \"portion\", \"selection\", \"inside\", \"business\", \"hand\", \"wrong\", \"sushi\", \"fish\", \"money\", \"busy\", \"taco\", \"free\", \"kid\", \"stay\", \"car\", \"pick\", \"store\", \"ok\", \"dessert\", \"pizza\", \"shop\", \"option\", \"line\", \"cook\", \"beer\", \"meat\", \"Dos\", \"matinee\", \"chronic\", \"Thai\", \"smog\", \"randomly\", \"wary\", \"Hill\", \"Judy\", \"substitute\", \"gumbo\", \"je\", \"signature\", \"Tan\", \"pastor\", \"theatre\", \"dismissive\", \"timer\", \"noodle\", \"=)\", \"preface\", \"timing\", \"poker\", \"recomend\", \"Adam\", \"BMW\", \"neighbor\", \"C.\", \"dive\", \"unbelievable\", \"Charlotte\", \"bomb\", \"interesting\", \"Friday\", \"dollar\", \"hotel\", \"potato\", \"coffee\", \"repair\", \"deal\", \"beautiful\", \"bartender\", \"atmosphere\", \"spicy\", \"dog\", \"drive\", \"waiter\", \"remember\", \"light\", \"honest\", \"perfection\", \"couple\", \"finish\", \"question\", \"fast\", \"soup\", \"free\", \"far\", \"cream\", \"store\", \"busy\", \"job\", \"car\", \"half\", \"high\", \"egg\", \"item\", \"run\", \"taco\", \"large\", \"beer\", \"dessert\", \"shop\", \"meat\", \"seat\", \"stay\", \"option\", \"burger\", \"buy\"], \"Total\": [645.0, 619.0, 812.0, 548.0, 436.0, 565.0, 539.0, 293.0, 509.0, 527.0, 467.0, 481.0, 378.0, 488.0, 271.0, 765.0, 686.0, 434.0, 373.0, 605.0, 260.0, 486.0, 360.0, 307.0, 246.0, 465.0, 85.0, 464.0, 601.0, 317.0, 10.937381744384766, 9.580913543701172, 10.786112785339355, 78.76754760742188, 5.872303485870361, 18.73421859741211, 35.487300872802734, 20.73055648803711, 6.405084133148193, 10.278748512268066, 38.86017608642578, 43.84248733520508, 5.725216388702393, 7.409931659698486, 31.594934463500977, 7.75960636138916, 152.72372436523438, 7.250858306884766, 6.564299583435059, 58.0150146484375, 8.754508018493652, 15.549992561340332, 12.317021369934082, 17.527334213256836, 101.4543685913086, 5.8885884284973145, 20.425037384033203, 509.8147277832031, 32.99072265625, 217.42347717285156, 221.56051635742188, 527.090087890625, 467.7248229980469, 260.8746337890625, 481.6678771972656, 548.4459838867188, 381.7439270019531, 95.86656188964844, 87.49030303955078, 179.71575927734375, 149.46002197265625, 78.53125, 765.9946899414062, 371.975830078125, 262.3521728515625, 242.4664306640625, 464.69671630859375, 482.6789245605469, 518.1800537109375, 399.28546142578125, 552.7376708984375, 489.22003173828125, 432.6449279785156, 409.9215087890625, 435.1644592285156, 395.8793029785156, 379.5360107421875, 565.3101196289062, 335.3464660644531, 525.9769287109375, 450.49517822265625, 531.1362915039062, 499.57122802734375, 391.67144775390625, 649.869384765625, 554.2147827148438, 605.5318603515625, 516.3363037109375, 812.4783935546875, 649.4342651367188, 484.7127380371094, 598.7723388671875, 555.7539672851562, 579.8236083984375, 550.9775390625, 645.8174438476562, 553.5792846679688, 5.872303485870361, 18.942947387695312, 10.140702247619629, 19.997692108154297, 13.723978042602539, 27.79883575439453, 4.394446849822998, 23.42279052734375, 14.558462142944336, 4.385095119476318, 22.06716537475586, 126.1093521118164, 11.514474868774414, 6.601132869720459, 12.030756950378418, 29.525041580200195, 23.22715187072754, 13.897347450256348, 6.611957550048828, 5.922992706298828, 160.48095703125, 13.735496520996094, 6.593670845031738, 16.78839683532715, 21.536087036132812, 13.192756652832031, 17.827898025512695, 18.65613555908203, 8.783957481384277, 66.17591857910156, 238.73858642578125, 171.73818969726562, 116.6288070678711, 812.4783935546875, 317.0789794921875, 53.85647964477539, 85.1033935546875, 112.65205383300781, 75.56864166259766, 104.07334899902344, 257.54132080078125, 378.6734619140625, 356.4358825683594, 649.4342651367188, 253.38656616210938, 605.5318603515625, 214.59068298339844, 444.89422607421875, 241.4452667236328, 323.98681640625, 309.14996337890625, 455.15228271484375, 407.2109375, 257.922119140625, 365.6805114746094, 281.5091552734375, 565.3101196289062, 454.48638916015625, 552.7376708984375, 270.22003173828125, 395.8090515136719, 619.9007568359375, 553.5792846679688, 487.0938415527344, 476.4837341308594, 555.7539672851562, 491.80157470703125, 649.869384765625, 497.196044921875, 598.7723388671875, 765.9946899414062, 502.2417297363281, 539.8378295898438, 488.8519592285156, 481.53338623046875, 527.090087890625, 686.2011108398438, 486.41204833984375, 548.4459838867188, 579.8236083984375, 509.8147277832031, 535.23681640625, 596.6239013671875, 85.40657043457031, 9.981406211853027, 10.146194458007812, 32.36681365966797, 5.899979591369629, 11.519668579101562, 9.979480743408203, 7.249965667724609, 7.948215484619141, 12.875732421875, 22.389381408691406, 7.232652187347412, 31.503128051757812, 36.607662200927734, 13.051070213317871, 6.590594291687012, 17.77017593383789, 8.083928108215332, 52.94889831542969, 5.743834972381592, 271.5578308105469, 246.2852325439453, 96.34920501708984, 210.90553283691406, 13.02672004699707, 23.908411026000977, 14.227487564086914, 8.79043197631836, 23.724088668823242, 7.277060508728027, 434.69500732421875, 360.4347229003906, 601.5667724609375, 283.2265930175781, 145.74488830566406, 232.3087921142578, 229.27816772460938, 464.18768310546875, 67.29164123535156, 373.4088439941406, 315.6104431152344, 170.14317321777344, 506.2669372558594, 182.07882690429688, 686.2011108398438, 448.57562255859375, 420.81658935546875, 489.183837890625, 291.94964599609375, 441.65582275390625, 446.82171630859375, 261.075439453125, 550.9775390625, 432.6449279785156, 285.5116271972656, 496.39703369140625, 457.10797119140625, 535.23681640625, 482.6789245605469, 499.0694885253906, 407.2109375, 516.3363037109375, 481.53338623046875, 352.18359375, 444.89422607421875, 598.7723388671875, 499.57122802734375, 455.142822265625, 554.2147827148438, 765.9946899414062, 527.090087890625, 487.0938415527344, 579.8236083984375, 649.4342651367188, 548.4459838867188, 649.869384765625, 5.078276634216309, 13.389094352722168, 6.610617637634277, 20.532997131347656, 9.854365348815918, 32.308990478515625, 32.81289291381836, 11.539496421813965, 17.469701766967773, 7.128782272338867, 6.61063289642334, 8.12839126586914, 8.136387825012207, 10.862043380737305, 29.422712326049805, 12.553128242492676, 5.924310684204102, 17.13606071472168, 5.925438404083252, 41.27995681762695, 94.78103637695312, 13.735529899597168, 10.843867301940918, 8.12502670288086, 26.457752227783203, 13.732574462890625, 8.127082824707031, 12.380095481872559, 30.07516860961914, 14.585634231567383, 95.79721069335938, 56.49262237548828, 103.14093017578125, 107.56417846679688, 307.34222412109375, 74.21139526367188, 448.6191711425781, 114.26583862304688, 50.293556213378906, 105.82498168945312, 68.06206512451172, 82.94518280029297, 73.14019775390625, 465.4588928222656, 254.05165100097656, 161.37396240234375, 126.52213287353516, 380.33148193359375, 243.0650634765625, 238.67466735839844, 153.9046630859375, 565.3101196289062, 372.0941162109375, 236.1249237060547, 159.41307067871094, 460.585693359375, 383.8719177246094, 255.74090576171875, 765.9946899414062, 399.8804931640625, 330.4766845703125, 295.8546142578125, 554.2147827148438, 356.8938293457031, 550.9775390625, 488.8519592285156, 413.8177185058594, 263.3056945800781, 518.1800537109375, 306.8730163574219, 605.5318603515625, 484.7127380371094, 649.869384765625, 400.6761474609375, 310.9645690917969, 506.2669372558594, 496.39703369140625, 812.4783935546875, 446.8251037597656, 553.5792846679688, 421.0572204589844, 649.4342651367188, 619.9007568359375, 458.8155212402344, 686.2011108398438, 489.22003173828125, 455.15228271484375, 450.49517822265625, 546.95068359375, 601.5667724609375, 516.3363037109375, 598.7723388671875, 645.8174438476562, 521.653564453125, 555.7539672851562, 596.6239013671875, 7.316020965576172, 5.7754950523376465, 33.54576873779297, 8.992439270019531, 11.043266296386719, 29.77536964416504, 9.656939506530762, 13.075630187988281, 645.8174438476562, 7.452150821685791, 81.75887298583984, 19.67902374267578, 19.520248413085938, 57.13324737548828, 14.603179931640625, 11.389505386352539, 14.96806812286377, 436.99627685546875, 12.383715629577637, 62.78919982910156, 10.162881851196289, 17.681026458740234, 6.61924409866333, 18.175094604492188, 17.647140502929688, 116.8069839477539, 7.2913498878479, 13.742834091186523, 29.264280319213867, 13.756559371948242, 36.26960754394531, 539.8378295898438, 277.7793273925781, 596.6239013671875, 76.59864807128906, 231.08843994140625, 244.50588989257812, 140.3104248046875, 334.39263916015625, 619.9007568359375, 150.11708068847656, 229.9175262451172, 411.08782958984375, 432.11199951171875, 113.49493408203125, 476.4837341308594, 304.50823974609375, 548.4459838867188, 251.11492919921875, 230.0944061279297, 499.57122802734375, 481.53338623046875, 241.43939208984375, 502.2417297363281, 492.2593994140625, 531.1362915039062, 446.8251037597656, 518.1800537109375, 363.4499816894531, 332.7279968261719, 481.6678771972656, 379.4893493652344, 484.7127380371094, 521.653564453125, 443.9466552734375, 579.8236083984375, 465.4588928222656, 649.869384765625, 686.2011108398438, 476.34393310546875, 812.4783935546875, 489.22003173828125, 525.9769287109375, 765.9946899414062, 552.7376708984375, 598.7723388671875, 605.5318603515625, 535.23681640625, 601.5667724609375, 649.4342651367188, 7.787551403045654, 6.4288859367370605, 9.465840339660645, 145.17779541015625, 15.395818710327148, 22.35848617553711, 5.745995044708252, 14.204370498657227, 5.738245487213135, 43.23325729370117, 10.844154357910156, 19.70915412902832, 43.05917739868164, 13.217315673828125, 16.134632110595703, 23.735694885253906, 11.670637130737305, 17.66977310180664, 293.51446533203125, 7.795026779174805, 8.108591079711914, 15.792142868041992, 17.947296142578125, 5.8975605964660645, 12.025424003601074, 5.738370418548584, 40.72042465209961, 7.265771389007568, 30.375904083251953, 23.376049041748047, 85.49736785888672, 83.54877471923828, 183.28900146484375, 178.10586547851562, 216.06039428710938, 486.41204833984375, 344.5869140625, 619.9007568359375, 194.21728515625, 488.8519592285156, 280.24237060546875, 253.38656616210938, 458.8155212402344, 342.9099426269531, 378.6734619140625, 439.87774658203125, 322.53070068359375, 260.8746337890625, 323.989990234375, 153.94482421875, 109.89533233642578, 438.6115417480469, 331.20458984375, 270.22003173828125, 460.585693359375, 499.0694885253906, 579.8236083984375, 454.48638916015625, 546.95068359375, 812.4783935546875, 521.653564453125, 497.196044921875, 686.2011108398438, 420.81658935546875, 489.183837890625, 385.6306457519531, 555.7539672851562, 417.2650146484375, 443.9466552734375, 553.5792846679688, 601.5667724609375, 525.9769287109375, 552.7376708984375, 649.4342651367188, 596.6239013671875, 649.869384765625, 598.7723388671875, 645.8174438476562, 487.0938415527344], \"loglift\": [30.0, 29.0, 28.0, 27.0, 26.0, 25.0, 24.0, 23.0, 22.0, 21.0, 20.0, 19.0, 18.0, 17.0, 16.0, 15.0, 14.0, 13.0, 12.0, 11.0, 10.0, 9.0, 8.0, 7.0, 6.0, 5.0, 4.0, 3.0, 2.0, 1.0, 0.7980999946594238, 0.7616000175476074, 0.6884999871253967, 0.6722999811172485, 0.6420000195503235, 0.6317999958992004, 0.6122000217437744, 0.6047000288963318, 0.5982000231742859, 0.5867000222206116, 0.5838000178337097, 0.5727999806404114, 0.5602999925613403, 0.5555999875068665, 0.5525000095367432, 0.5476999878883362, 0.5468999743461609, 0.542900025844574, 0.5397999882698059, 0.5393999814987183, 0.5315999984741211, 0.5273000001907349, 0.5260000228881836, 0.5170999765396118, 0.5, 0.5, 0.49230000376701355, 0.49129998683929443, 0.4862000048160553, 0.4846000075340271, 0.46160000562667847, 0.4440999925136566, 0.4431999921798706, 0.43220001459121704, 0.3928000032901764, 0.3804999887943268, 0.3855000138282776, 0.4375999867916107, 0.43560001254081726, 0.3970000147819519, 0.40529999136924744, 0.4401000142097473, 0.2892000079154968, 0.311599999666214, 0.3361999988555908, 0.32510000467300415, 0.2485000044107437, 0.24070000648498535, 0.226500004529953, 0.25760000944137573, 0.21230000257492065, 0.22280000150203705, 0.23800000548362732, 0.24289999902248383, 0.22750000655651093, 0.24150000512599945, 0.23680000007152557, 0.1655000001192093, 0.25200000405311584, 0.16529999673366547, 0.1899999976158142, 0.15299999713897705, 0.1437000036239624, 0.20739999413490295, 0.058800000697374344, 0.10339999943971634, 0.07490000128746033, 0.12250000238418579, -0.0820000022649765, -0.0010000000474974513, 0.12939999997615814, 0.023499999195337296, 0.03290000185370445, -0.008299999870359898, 0.020600000396370888, -0.10750000178813934, 0.013500000350177288, 0.7756999731063843, 0.6193000078201294, 0.6147000193595886, 0.6129999756813049, 0.588100016117096, 0.5684999823570251, 0.5684000253677368, 0.5609999895095825, 0.5389999747276306, 0.5339999794960022, 0.5242999792098999, 0.5234000086784363, 0.5167999863624573, 0.5164999961853027, 0.5163999795913696, 0.5148000121116638, 0.5134999752044678, 0.5134000182151794, 0.5105999708175659, 0.5027999877929688, 0.49779999256134033, 0.49410000443458557, 0.492900013923645, 0.4896000027656555, 0.4869000017642975, 0.4867999851703644, 0.4837000072002411, 0.4749000072479248, 0.47429999709129333, 0.4726000130176544, 0.46880000829696655, 0.4700999855995178, 0.46810001134872437, 0.4124000072479248, 0.43059998750686646, 0.4641999900341034, 0.44690001010894775, 0.4368000030517578, 0.4474000036716461, 0.43389999866485596, 0.38589999079704285, 0.3659999966621399, 0.3598000109195709, 0.3043999969959259, 0.358599990606308, 0.3037000000476837, 0.36010000109672546, 0.3084999918937683, 0.33410000801086426, 0.3098999857902527, 0.3125999867916107, 0.2671000063419342, 0.2630999982357025, 0.30660000443458557, 0.26600000262260437, 0.29420000314712524, 0.20309999585151672, 0.23010000586509705, 0.19900000095367432, 0.2822999954223633, 0.21060000360012054, 0.13529999554157257, 0.14880000054836273, 0.17249999940395355, 0.17239999771118164, 0.12099999934434891, 0.1509999930858612, 0.07599999755620956, 0.1420000046491623, 0.09139999747276306, 0.007600000128149986, 0.1289999932050705, 0.09769999980926514, 0.12950000166893005, 0.12479999661445618, 0.07859999686479568, -0.05469999834895134, 0.10689999908208847, 0.0348999984562397, -0.02710000053048134, 0.04969999939203262, 0.006800000090152025, -0.09059999883174896, 0.8590999841690063, 0.7378000020980835, 0.7232000231742859, 0.6715999841690063, 0.6585999727249146, 0.6363000273704529, 0.5985999703407288, 0.5817999839782715, 0.5795999765396118, 0.5735999941825867, 0.571399986743927, 0.5551999807357788, 0.5537999868392944, 0.5462999939918518, 0.5444999933242798, 0.5426999926567078, 0.5376999974250793, 0.5364999771118164, 0.5252000093460083, 0.5242000222206116, 0.5205000042915344, 0.5181999802589417, 0.5097000002861023, 0.5092999935150146, 0.5019999742507935, 0.5012999773025513, 0.49779999256134033, 0.49639999866485596, 0.49219998717308044, 0.49149999022483826, 0.47760000824928284, 0.4771000146865845, 0.38690000772476196, 0.39629998803138733, 0.4223000109195709, 0.39719998836517334, 0.39750000834465027, 0.35830000042915344, 0.4456999897956848, 0.3366999924182892, 0.3433000147342682, 0.382999986410141, 0.3052000105381012, 0.3749000132083893, 0.28110000491142273, 0.30959999561309814, 0.30469998717308044, 0.28999999165534973, 0.3328999876976013, 0.2904999852180481, 0.28439998626708984, 0.33480000495910645, 0.2451999932527542, 0.273499995470047, 0.3199000060558319, 0.241799995303154, 0.24950000643730164, 0.22689999639987946, 0.23960000276565552, 0.21960000693798065, 0.24390000104904175, 0.18850000202655792, 0.19840000569820404, 0.2628999948501587, 0.18019999563694, 0.06599999964237213, 0.1289999932050705, 0.15770000219345093, 0.05469999834895134, -0.1111999973654747, 0.06480000168085098, 0.1062999963760376, -0.04430000111460686, -0.1421000063419342, -0.008999999612569809, -0.17759999632835388, 0.7522000074386597, 0.704800009727478, 0.6897000074386597, 0.6345999836921692, 0.6093000173568726, 0.6053000092506409, 0.6022999882698059, 0.5590000152587891, 0.5501000285148621, 0.5307999849319458, 0.5277000069618225, 0.5271000266075134, 0.5181000232696533, 0.5178999900817871, 0.5149999856948853, 0.5149000287055969, 0.503600001335144, 0.49880000948905945, 0.4959999918937683, 0.4952999949455261, 0.4950000047683716, 0.4918999969959259, 0.49129998683929443, 0.4912000000476837, 0.48649999499320984, 0.4830999970436096, 0.47870001196861267, 0.47850000858306885, 0.47839999198913574, 0.4733000099658966, 0.46970000863075256, 0.4724999964237213, 0.45820000767707825, 0.4480000138282776, 0.41449999809265137, 0.4399000108242035, 0.383899986743927, 0.4174000024795532, 0.44119998812675476, 0.40610000491142273, 0.4268999993801117, 0.415800005197525, 0.4205999970436096, 0.328000009059906, 0.3578999936580658, 0.3765999972820282, 0.3889999985694885, 0.3224000036716461, 0.34790000319480896, 0.3483999967575073, 0.37389999628067017, 0.2741999924182892, 0.3003000020980835, 0.33410000801086426, 0.36730000376701355, 0.2700999975204468, 0.28299999237060547, 0.3043999969959259, 0.18119999766349792, 0.24959999322891235, 0.27149999141693115, 0.2793999910354614, 0.1914999932050705, 0.25209999084472656, 0.1746000051498413, 0.19009999930858612, 0.21389999985694885, 0.2800999879837036, 0.15240000188350677, 0.2460000067949295, 0.11670000106096268, 0.1525000035762787, 0.08980000019073486, 0.1834000051021576, 0.23430000245571136, 0.12380000203847885, 0.11900000274181366, -0.01860000006854534, 0.14429999887943268, 0.07429999858140945, 0.15440000593662262, -0.000699999975040555, 0.010400000028312206, 0.11800000071525574, -0.05290000140666962, 0.09030000120401382, 0.11429999768733978, 0.11990000307559967, 0.008700000122189522, -0.06390000134706497, 0.033799998462200165, -0.08860000222921371, -0.14839999377727509, 0.004600000102072954, -0.061400000005960464, -0.1446000039577484, 0.9585999846458435, 0.8593999743461609, 0.8238999843597412, 0.8119999766349792, 0.7347999811172485, 0.7142000198364258, 0.679099977016449, 0.6596999764442444, 0.6518999934196472, 0.6061999797821045, 0.6050000190734863, 0.598800003528595, 0.5878000259399414, 0.5647000074386597, 0.5575000047683716, 0.5536999702453613, 0.5440000295639038, 0.5404999852180481, 0.5321999788284302, 0.5318999886512756, 0.5314000248908997, 0.5310999751091003, 0.5160999894142151, 0.5126000046730042, 0.5094000101089478, 0.5092999935150146, 0.5059999823570251, 0.5052000284194946, 0.5001999735832214, 0.4952999949455261, 0.4864000082015991, 0.44110000133514404, 0.4162999987602234, 0.3898000121116638, 0.453000009059906, 0.4043999910354614, 0.3880000114440918, 0.40049999952316284, 0.3296000063419342, 0.26829999685287476, 0.3763999938964844, 0.3377000093460083, 0.289900004863739, 0.27300000190734863, 0.39149999618530273, 0.26179999113082886, 0.29899999499320984, 0.22390000522136688, 0.31520000100135803, 0.31779998540878296, 0.21559999883174896, 0.21580000221729279, 0.3100999891757965, 0.20110000669956207, 0.20029999315738678, 0.17260000109672546, 0.1996999979019165, 0.16850000619888306, 0.2289000004529953, 0.23559999465942383, 0.16060000658035278, 0.20559999346733093, 0.1395999938249588, 0.10750000178813934, 0.1500999927520752, 0.07329999655485153, 0.13379999995231628, 0.032600000500679016, 0.014600000344216824, 0.12250000238418579, -0.10050000250339508, 0.10750000178813934, 0.05609999969601631, -0.12150000035762787, 0.03229999914765358, -0.0284000001847744, -0.061400000005960464, 0.01360000018030405, -0.09889999777078629, -0.17430000007152557, 0.7728999853134155, 0.6416000127792358, 0.621399998664856, 0.6086000204086304, 0.6037999987602234, 0.6022999882698059, 0.5916000008583069, 0.5903000235557556, 0.5701000094413757, 0.5659000277519226, 0.5504000186920166, 0.545199990272522, 0.5429999828338623, 0.5349000096321106, 0.5292999744415283, 0.5281000137329102, 0.5170999765396118, 0.515999972820282, 0.5151000022888184, 0.5103999972343445, 0.5095000267028809, 0.508899986743927, 0.4950000047683716, 0.49320000410079956, 0.4903999865055084, 0.4878999888896942, 0.48660001158714294, 0.4853000044822693, 0.48240000009536743, 0.4767000079154968, 0.4715999960899353, 0.46700000762939453, 0.43959999084472656, 0.4207000136375427, 0.41260001063346863, 0.3772999942302704, 0.3808000087738037, 0.33079999685287476, 0.387800008058548, 0.33469998836517334, 0.3619000017642975, 0.3662000000476837, 0.3262999951839447, 0.34209999442100525, 0.32600000500679016, 0.31520000100135803, 0.3264999985694885, 0.336899995803833, 0.3027999997138977, 0.36039999127388, 0.38989999890327454, 0.24699999392032623, 0.2718999981880188, 0.29409998655319214, 0.2295999974012375, 0.21539999544620514, 0.1891999989748001, 0.21649999916553497, 0.18979999423027039, 0.11640000343322754, 0.1867000013589859, 0.18790000677108765, 0.12280000001192093, 0.20600000023841858, 0.1656000018119812, 0.22619999945163727, 0.10760000348091125, 0.19550000131130219, 0.15360000729560852, 0.06880000233650208, 0.0017000000225380063, 0.05979999899864197, 0.031199999153614044, -0.06689999997615814, -0.03689999878406525, -0.11180000007152557, -0.07980000227689743, -0.1598999947309494, 0.07259999960660934], \"logprob\": [30.0, 29.0, 28.0, 27.0, 26.0, 25.0, 24.0, 23.0, 22.0, 21.0, 20.0, 19.0, 18.0, 17.0, 16.0, 15.0, 14.0, 13.0, 12.0, 11.0, 10.0, 9.0, 8.0, 7.0, 6.0, 5.0, 4.0, 3.0, 2.0, 1.0, -9.343199729919434, -9.512100219726562, -9.466699600219727, -7.49459981918335, -10.121199607849121, -8.971199989318848, -8.352100372314453, -8.897199630737305, -10.078100204467773, -9.616700172424316, -8.28969955444336, -8.180000305175781, -10.22819995880127, -9.975000381469727, -8.527899742126465, -9.936800003051758, -6.957900047302246, -10.009499549865723, -10.112000465393066, -7.933300018310547, -9.832200050354004, -9.26200008392334, -9.496500015258789, -9.152600288391113, -7.41379976272583, -10.26039981842041, -9.024399757385254, -5.80810022354126, -8.550999641418457, -6.666999816894531, -6.671199798583984, -5.822000026702881, -5.942399978637695, -6.537199974060059, -5.963399887084961, -5.845799922943115, -6.203199863433838, -7.532899856567383, -7.626299858093262, -6.945099830627441, -7.121099948883057, -7.729800224304199, -5.603000164031982, -6.302999973297119, -6.627600193023682, -6.71750020980835, -6.143499851226807, -6.113399982452393, -6.056600093841553, -6.286099910736084, -6.006199836730957, -6.1178998947143555, -6.225500106811523, -6.274499893188477, -6.230199813842773, -6.310800075531006, -6.357699871063232, -6.0304999351501465, -6.466300010681152, -6.10290002822876, -6.233099937438965, -6.105400085449219, -6.176000118255615, -6.355599880218506, -5.997900009155273, -6.112500190734863, -6.0524001121521, -6.1641998291015625, -5.915299892425537, -6.058300018310547, -6.2204999923706055, -6.115099906921387, -6.180200099945068, -6.178999900817871, -6.201200008392334, -6.170400142669678, -6.203499794006348, -9.98740005493164, -8.972700119018555, -9.60219955444336, -8.924799919128418, -9.326199531555176, -8.639900207519531, -10.484700202941895, -8.81879997253418, -9.316200256347656, -10.521200180053711, -8.914999961853027, -7.172900199890137, -9.573100090026855, -10.12969970703125, -9.529500007629395, -8.633399963378906, -8.874600410461426, -9.388299942016602, -10.133999824523926, -10.251799583435059, -6.957499980926514, -9.419400215148926, -10.154500007629395, -9.223099708557129, -8.976799964904785, -9.466899871826172, -9.168999671936035, -9.132399559020996, -9.886199951171875, -7.868500232696533, -6.589200019836426, -6.917399883270264, -7.306300163269043, -5.420899868011475, -6.343599796295166, -8.082900047302246, -7.642600059509277, -7.372300148010254, -7.761000156402588, -7.454500198364258, -6.596399784088135, -6.230800151824951, -6.297399997711182, -5.752999782562256, -6.639900207519531, -5.823599815368652, -6.804599761962891, -6.127099990844727, -6.712699890136719, -6.442800045013428, -6.486999988555908, -6.145699977874756, -6.261000156402588, -6.674200057983398, -6.365600109100342, -6.599100112915039, -5.9928998947143555, -6.184199810028076, -6.019599914550781, -6.651899814605713, -6.341899871826172, -5.968599796295166, -6.06820011138916, -6.172399997711182, -6.194499969482422, -6.092100143432617, -6.184299945831299, -5.9807000160217285, -6.182499885559082, -6.047100067138672, -5.8846001625061035, -6.185400009155273, -6.144400119781494, -6.211900234222412, -6.231599807739258, -6.187399864196777, -6.057000160217285, -6.239500045776367, -6.191500186920166, -6.197800159454346, -6.24970006942749, -6.243899822235107, -6.232699871063232, -7.226900100708008, -9.49489974975586, -9.4931001663208, -8.384699821472168, -10.099900245666504, -9.453100204467773, -9.634300231933594, -9.97070026397705, -9.880900382995605, -9.404500007629395, -8.853400230407715, -9.999600410461426, -8.529500007629395, -8.386899948120117, -9.420100212097168, -10.10509967803955, -9.118200302124023, -9.907099723815918, -8.038900375366211, -10.261099815368652, -6.408699989318848, -6.508800029754639, -7.455699920654297, -6.672800064086914, -9.464400291442871, -8.85789966583252, -9.380499839782715, -9.86340045928955, -8.874699592590332, -10.05720043182373, -5.981200218200684, -6.169000148773193, -5.747000217437744, -6.490900039672852, -7.129199981689453, -6.688199996948242, -6.701000213623047, -6.034900188446045, -7.878699779510498, -6.27400016784668, -6.4355998039245605, -7.013800144195557, -6.001200199127197, -6.953999996185303, -5.721099853515625, -6.117800235748291, -6.186500072479248, -6.0507001876831055, -6.52400016784668, -6.152400016784668, -6.146900177001953, -6.633800029754639, -5.976500034332275, -6.190000057220459, -6.559199810028076, -6.084199905395508, -6.158999919891357, -6.023799896240234, -6.114500045776367, -6.101099967956543, -6.280200004577637, -6.098199844360352, -6.1579999923706055, -6.406400203704834, -6.25540018081665, -6.0725998878479, -6.190700054168701, -6.255099773406982, -6.161200046539307, -6.003499984741211, -6.201200008392334, -6.238699913024902, -6.215000152587891, -6.199399948120117, -6.235300064086914, -6.2342000007629395, -10.156299591064453, -9.234199523925781, -9.954999923706055, -8.876799583435059, -9.636300086975098, -8.452799797058105, -8.440299987792969, -9.52869987487793, -9.122900009155273, -10.03849983215332, -10.116999626159668, -9.910900115966797, -9.918999671936035, -9.63029956817627, -8.636699676513672, -9.488499641418457, -10.250800132751465, -9.193400382995605, -10.258199691772461, -8.317700386047363, -7.486800193786621, -9.421500205993652, -9.658499717712402, -9.94729995727539, -8.771400451660156, -9.4306001663208, -9.959500312805176, -9.538800239562988, -8.651300430297852, -9.38010025024414, -7.501399993896484, -8.026800155639648, -7.4390997886657715, -7.407400131225586, -6.390900135040283, -7.786600112915039, -6.043399810791016, -7.377500057220459, -8.174300193786621, -7.4654998779296875, -7.886199951171875, -7.69950008392334, -7.820499897003174, -6.062399864196777, -6.638000011444092, -7.0731000900268555, -7.303999900817871, -6.269999980926514, -6.692200183868408, -6.70989990234375, -7.1230998039245605, -5.921800136566162, -6.314000129699707, -6.735000133514404, -7.094600200653076, -6.130799770355225, -6.300099849700928, -6.684800148010254, -5.711100101470947, -6.292699813842773, -6.461400032043457, -6.5640997886657715, -6.0243000984191895, -6.403900146484375, -6.047100067138672, -6.151199817657471, -6.294099807739258, -6.679999828338623, -6.13070011138916, -6.5609002113342285, -6.0106000900268555, -6.197400093078613, -5.966800212860107, -6.356900215148926, -6.5594000816345215, -6.182600021362305, -6.206999778747559, -5.8520002365112305, -6.2870001792907715, -6.1427001953125, -6.33620023727417, -6.058000087738037, -6.093400001525879, -6.286799907684326, -6.055200099945068, -6.25029993057251, -6.298500061035156, -6.303199768066406, -6.220399856567383, -6.197700023651123, -6.252900123596191, -6.227099895477295, -6.211299896240234, -6.2718000411987305, -6.274499893188477, -6.2866997718811035, -9.584699630737305, -9.92039966583252, -8.196599960327148, -9.525099754333496, -9.39680004119873, -8.42549991607666, -9.586700439453125, -9.303000450134277, -5.410999774932861, -9.918700218200684, -7.524600028991699, -8.955100059509277, -8.974200248718262, -7.923299789428711, -9.294699668884277, -9.547100067138672, -9.283499717712402, -5.913000106811523, -9.48490047454834, -7.861700057983398, -9.683300018310547, -9.129899978637695, -10.127400398254395, -9.120800018310547, -9.153499603271484, -7.263599872589111, -10.040800094604492, -9.407699584960938, -8.656900405883789, -9.416600227355957, -8.456100463867188, -5.80109977722168, -6.490300178527832, -5.752399921417236, -7.7418999671936035, -6.686299800872803, -6.646200180053711, -7.1890997886657715, -6.391499996185303, -5.835599899291992, -7.145699977874756, -6.757999897003174, -6.224699974060059, -6.191699981689453, -7.410099983215332, -6.105199813842773, -6.515699863433838, -6.002500057220459, -6.692299842834473, -6.777200222015381, -6.104100227355957, -6.140699863433838, -6.736700057983398, -6.11329984664917, -6.134099960327148, -6.0858001708984375, -6.231500148773193, -6.11460018157959, -6.408899784088135, -6.490499973297119, -6.195499897003174, -6.388999938964844, -6.210299968719482, -6.168900012969971, -6.287700176239014, -6.097400188446045, -6.2565999031066895, -6.024099826812744, -5.987599849700928, -6.244699954986572, -5.933800220489502, -6.2332000732421875, -6.212100028991699, -6.013700008392334, -6.186200141906738, -6.166900157928467, -6.188700199127197, -6.237100124359131, -6.232800006866455, -6.231599807739258, -9.708000183105469, -10.031000137329102, -9.664299964904785, -6.946899890899658, -9.195500373840332, -8.82390022277832, -10.193400382995605, -9.28950023651123, -10.21619987487793, -8.200900077819824, -9.59939956665039, -9.007200241088867, -8.227800369262695, -9.416999816894531, -9.223199844360352, -8.838399887084961, -9.559300422668457, -9.145500183105469, -6.336400032043457, -9.969499588012695, -9.930999755859375, -9.265000343322754, -9.151000022888184, -10.265700340270996, -9.555999755859375, -10.298399925231934, -8.340100288391113, -10.0649995803833, -8.637399673461914, -8.904999732971191, -7.61329984664917, -7.640999794006348, -6.882800102233887, -6.930300235748291, -6.745299816131592, -5.969099998474121, -6.310299873352051, -5.773099899291992, -6.876699924468994, -6.006700038909912, -6.535900115966797, -6.632299900054932, -6.078499794006348, -6.353799819946289, -6.2708001136779785, -6.131800174713135, -6.430699825286865, -6.632500171661377, -6.449900150299072, -7.13640022277832, -7.443999767303467, -6.2027997970581055, -6.458799839019775, -6.640100002288818, -6.171299934387207, -6.105299949645996, -5.981500148773193, -6.197700023651123, -6.039299964904785, -5.716899871826172, -6.089700222015381, -6.136499881744385, -5.87939977645874, -6.285200119018555, -6.175000190734863, -6.352399826049805, -6.105500221252441, -6.304200172424316, -6.28410005569458, -6.148200035095215, -6.132199764251709, -6.2083001136779785, -6.187300205230713, -6.124199867248535, -6.178999900817871, -6.168499946594238, -6.218400001525879, -6.222799777984619, -6.27239990234375]}, \"token.table\": {\"Topic\": [1, 2, 3, 4, 5, 6, 1, 2, 3, 4, 5, 6, 1, 2, 3, 4, 5, 6, 1, 2, 3, 4, 5, 6, 1, 2, 3, 4, 5, 6, 1, 2, 3, 4, 5, 6, 1, 2, 3, 4, 5, 6, 1, 2, 3, 4, 5, 6, 1, 2, 3, 4, 5, 6, 1, 2, 3, 4, 5, 6, 1, 2, 3, 4, 5, 6, 1, 2, 3, 4, 5, 6, 1, 2, 3, 4, 5, 6, 1, 2, 3, 4, 5, 6, 1, 2, 3, 4, 5, 6, 1, 2, 3, 4, 5, 6, 1, 2, 3, 4, 5, 6, 1, 2, 3, 4, 5, 6, 1, 2, 3, 4, 5, 6, 1, 2, 3, 4, 5, 6, 1, 2, 3, 4, 5, 6, 1, 2, 3, 4, 5, 6, 1, 2, 3, 4, 5, 6, 1, 2, 3, 4, 5, 6, 1, 2, 3, 4, 5, 6, 1, 2, 3, 4, 5, 6, 1, 2, 3, 4, 5, 6, 1, 2, 3, 4, 5, 6, 1, 2, 3, 4, 5, 6, 1, 2, 3, 4, 5, 6, 1, 2, 3, 4, 5, 6, 1, 2, 3, 4, 5, 6, 1, 2, 3, 4, 5, 6, 1, 2, 3, 4, 5, 6, 1, 2, 3, 4, 5, 6, 1, 2, 3, 4, 5, 6, 1, 2, 3, 4, 5, 6, 1, 2, 3, 4, 5, 6, 1, 2, 3, 4, 5, 6, 1, 2, 3, 4, 5, 6, 1, 2, 3, 4, 5, 6, 1, 2, 3, 4, 5, 6, 1, 2, 3, 4, 5, 6, 1, 2, 3, 4, 5, 6, 1, 2, 3, 4, 5, 6, 1, 2, 3, 4, 5, 6, 1, 2, 3, 4, 5, 6, 1, 2, 3, 4, 5, 6, 1, 2, 3, 4, 5, 6, 1, 2, 3, 4, 5, 6, 1, 2, 3, 4, 5, 6, 1, 2, 3, 4, 5, 6, 1, 2, 3, 4, 5, 6, 1, 2, 3, 4, 5, 6, 1, 2, 3, 4, 5, 6, 1, 2, 3, 4, 5, 6, 1, 2, 3, 4, 5, 6, 1, 2, 3, 4, 5, 6, 1, 2, 3, 4, 5, 6, 1, 2, 3, 4, 5, 6, 1, 2, 3, 4, 5, 6, 1, 2, 3, 4, 5, 6, 1, 2, 3, 4, 5, 6, 1, 2, 3, 4, 5, 6, 1, 2, 3, 4, 5, 6, 1, 2, 3, 4, 5, 6, 1, 2, 3, 4, 5, 6, 1, 2, 3, 4, 5, 6, 1, 2, 3, 4, 5, 6, 1, 2, 3, 4, 5, 6, 1, 2, 3, 4, 5, 6, 1, 2, 3, 4, 5, 6, 1, 2, 3, 4, 5, 6, 1, 2, 3, 4, 5, 6, 1, 2, 3, 4, 5, 6, 1, 2, 3, 4, 5, 6, 1, 2, 3, 4, 5, 6, 1, 2, 3, 4, 5, 6, 1, 2, 3, 4, 5, 6, 1, 2, 3, 4, 5, 6, 1, 2, 3, 4, 5, 6, 1, 2, 3, 4, 5, 6, 1, 2, 3, 4, 5, 6, 1, 2, 3, 4, 5, 6, 1, 2, 3, 4, 5, 6, 1, 2, 3, 4, 5, 6, 1, 2, 3, 4, 5, 6, 1, 2, 3, 4, 5, 6, 1, 2, 3, 4, 5, 6, 1, 2, 3, 4, 5, 6, 1, 2, 3, 4, 5, 6, 1, 2, 3, 4, 5, 6, 1, 2, 3, 4, 5, 6, 1, 2, 3, 4, 5, 6, 1, 2, 3, 4, 5, 6, 1, 2, 3, 4, 5, 6, 1, 2, 3, 4, 5, 6, 1, 2, 3, 4, 5, 6, 1, 2, 3, 4, 5, 6, 1, 2, 3, 4, 5, 6, 1, 2, 3, 4, 5, 6, 1, 2, 3, 4, 5, 6, 1, 2, 3, 4, 5, 6, 1, 2, 3, 4, 5, 6, 1, 2, 3, 4, 5, 6, 1, 2, 3, 4, 5, 6, 1, 2, 3, 4, 5, 6, 1, 2, 3, 4, 5, 6, 1, 2, 3, 4, 5, 6, 1, 2, 3, 4, 5, 6, 1, 2, 3, 4, 5, 6, 1, 2, 3, 4, 5, 6, 1, 2, 3, 4, 5, 6, 1, 2, 3, 4, 5, 6, 1, 2, 3, 4, 5, 6, 1, 2, 3, 4, 5, 6, 1, 2, 3, 4, 5, 6, 1, 2, 3, 4, 5, 6, 1, 2, 3, 4, 5, 6, 1, 2, 3, 4, 5, 6, 1, 2, 3, 4, 5, 6, 1, 2, 3, 4, 5, 6, 1, 2, 3, 4, 5, 6, 1, 2, 3, 4, 5, 6, 1, 2, 3, 4, 5, 6, 1, 2, 3, 4, 5, 6, 1, 2, 3, 4, 5, 6, 1, 2, 3, 4, 5, 6, 1, 2, 3, 4, 5, 6, 1, 2, 3, 4, 5, 6, 1, 2, 3, 4, 5, 6, 1, 2, 3, 4, 5, 6, 1, 2, 3, 4, 5, 6, 1, 2, 3, 4, 5, 6, 1, 2, 3, 4, 5, 6, 1, 2, 3, 4, 5, 6, 1, 2, 3, 4, 5, 6, 1, 2, 3, 4, 5, 6, 1, 2, 3, 4, 5, 6, 1, 2, 3, 4, 5, 6, 1, 2, 3, 4, 5, 6, 1, 2, 3, 4, 5, 6, 1, 2, 3, 4, 5, 6, 1, 2, 3, 4, 5, 6, 1, 2, 3, 4, 5, 6, 1, 2, 3, 4, 5, 6, 1, 2, 3, 4, 5, 6, 1, 2, 3, 4, 5, 6, 1, 2, 3, 4, 5, 6, 1, 2, 3, 4, 5, 6, 1, 2, 3, 4, 5, 6, 1, 2, 3, 4, 5, 6, 1, 2, 3, 4, 5, 6, 1, 2, 3, 4, 5, 6, 1, 2, 3, 4, 5, 6, 1, 2, 3, 4, 5, 6, 1, 2, 3, 4, 5, 6, 1, 2, 3, 4, 5, 6, 1, 2, 3, 4, 5, 6, 1, 2, 3, 4, 5, 6, 1, 2, 3, 4, 5, 6, 1, 2, 3, 4, 5, 6, 1, 2, 3, 4, 5, 6, 1, 2, 3, 4, 5, 6, 1, 2, 3, 4, 5, 6, 1, 2, 3, 4, 5, 6, 1, 2, 3, 4, 5, 6, 1, 2, 3, 4, 5, 6, 1, 2, 3, 4, 5, 6, 1, 2, 3, 4, 5, 6, 1, 2, 3, 4, 5, 6, 1, 2, 3, 4, 5, 6, 1, 2, 3, 4, 5, 6, 1, 2, 3, 4, 5, 6, 1, 2, 3, 4, 5, 6, 1, 2, 3, 4, 5, 6, 1, 2, 3, 4, 5, 6, 1, 2, 3, 4, 5, 6, 1, 2, 3, 4, 5, 6, 1, 2, 3, 4, 5, 6, 1, 2, 3, 4, 5, 6, 1, 2, 3, 4, 5, 6, 1, 2, 3, 4, 5, 6, 1, 2, 3, 4, 5, 6, 1, 2, 3, 4, 5, 6, 1, 2, 3, 4, 5, 6, 1, 2, 3, 4, 5, 6, 1, 2, 3, 4, 5, 6, 1, 2, 3, 4, 5, 6, 1, 2, 3, 4, 5, 6, 1, 2, 3, 4, 5, 6, 1, 2, 3, 4, 5, 6, 1, 2, 3, 4, 5, 6, 1, 2, 3, 4, 5, 6, 1, 2, 3, 4, 5, 6, 1, 2, 3, 4, 5, 6, 1, 2, 3, 4, 5, 6, 1, 2, 3, 4, 5, 6, 1, 2, 3, 4, 5, 6, 1, 2, 4, 5, 6, 1, 2, 3, 4, 5, 6, 1, 2, 3, 5, 6, 1, 2, 3, 4, 5, 6, 1, 2, 3, 4, 5, 6, 1, 2, 3, 4, 5, 6, 1, 2, 3, 4, 5, 6, 1, 2, 3, 4, 5, 6, 1, 2, 3, 4, 5, 6, 1, 2, 3, 4, 5, 6, 1, 2, 3, 4, 5, 6, 1, 2, 3, 4, 5, 6, 1, 2, 3, 4, 5, 6, 1, 2, 3, 4, 5, 6, 1, 2, 3, 4, 5, 6, 1, 2, 3, 4, 5, 6, 1, 2, 3, 4, 5, 6, 1, 2, 3, 4, 5, 6, 1, 2, 3, 4, 5, 6, 1, 2, 3, 4, 5, 6, 1, 2, 3, 4, 5, 6, 1, 2, 3, 4, 5, 6, 1, 2, 3, 4, 5, 6, 1, 2, 3, 4, 5, 6, 1, 2, 3, 4, 5, 6, 1, 2, 3, 4, 5, 6, 1, 2, 3, 4, 5, 6, 1, 2, 3, 4, 5, 6, 1, 2, 3, 4, 5, 6, 1, 2, 3, 4, 5, 6, 1, 2, 3, 4, 5, 6, 1, 2, 3, 4, 5, 6, 1, 2, 3, 4, 5, 6, 1, 2, 3, 4, 5, 6, 1, 2, 3, 4, 5, 6, 1, 2, 3, 4, 5, 6, 1, 2, 3, 4, 5, 6, 1, 2, 3, 4, 5, 6, 1, 2, 3, 4, 5, 6, 1, 2, 3, 4, 5, 6, 1, 2, 3, 4, 5, 6, 1, 2, 3, 4, 5, 6, 1, 2, 3, 4, 5, 6, 1, 2, 3, 4, 5, 6, 1, 2, 3, 4, 5, 6, 1, 2, 3, 4, 5, 6, 1, 2, 3, 4, 5, 6, 1, 2, 3, 4, 5, 6, 1, 2, 3, 4, 5, 6, 1, 2, 3, 4, 5, 6, 1, 2, 3, 4, 5, 6, 1, 2, 3, 4, 5, 6, 1, 2, 3, 4, 5, 6, 1, 2, 3, 4, 5, 6, 1, 2, 3, 4, 5, 6, 1, 2, 3, 4, 5, 6, 1, 2, 3, 4, 5, 6, 1, 2, 3, 4, 5, 6, 1, 2, 3, 4, 5, 6, 1, 2, 3, 4, 5, 6, 1, 2, 3, 4, 5, 6, 1, 2, 3, 4, 5, 6, 1, 2, 3, 4, 5, 6, 1, 2, 3, 4, 5, 6, 1, 2, 3, 4, 5, 6, 1, 2, 3, 4, 5, 6, 1, 2, 3, 4, 5, 6, 1, 2, 3, 4, 5, 6, 1, 2, 3, 4, 5, 6, 1, 2, 3, 4, 5, 6, 1, 2, 3, 4, 5, 6, 1, 2, 3, 4, 5, 6, 1, 2, 3, 4, 5, 6, 1, 2, 3, 4, 5, 6, 1, 2, 3, 4, 5, 6, 1, 2, 3, 4, 5, 6, 1, 2, 3, 4, 5, 6, 1, 2, 3, 4, 5, 6, 1, 2, 3, 4, 6, 1, 2, 3, 4, 5, 6, 1, 2, 3, 4, 5, 6, 1, 2, 3, 4, 5, 6, 1, 2, 3, 4, 5, 6, 1, 2, 3, 4, 5, 6, 1, 2, 3, 4, 5, 6, 1, 2, 3, 4, 5, 6, 1, 2, 3, 4, 5, 6, 1, 2, 3, 4, 5, 6, 1, 2, 3, 4, 5, 6, 1, 2, 3, 4, 5, 6, 1, 2, 3, 4, 5, 6, 1, 2, 3, 4, 5, 6, 1, 2, 3, 4, 5, 6, 1, 2, 3, 4, 5, 6, 1, 2, 3, 4, 5, 6, 1, 2, 3, 4, 5, 6, 1, 2, 3, 4, 5, 6, 1, 2, 3, 4, 5, 6, 1, 2, 3, 4, 5, 6, 1, 2, 3, 4, 5, 6, 1, 2, 3, 4, 5, 6, 1, 2, 3, 4, 5, 6, 1, 2, 3, 4, 5, 6, 1, 2, 3, 4, 5, 6, 1, 2, 3, 4, 5, 6, 1, 2, 3, 4, 5, 6, 1, 2, 3, 4, 5, 6, 1, 2, 3, 4, 5, 6, 1, 2, 3, 4, 5, 6, 1, 2, 3, 4, 5, 6, 1, 2, 3, 4, 5, 6, 1, 2, 3, 4, 5, 6, 1, 2, 3, 4, 5, 6, 1, 2, 3, 4, 5, 6, 1, 2, 3, 4, 5, 6, 1, 2, 3, 4, 5, 6, 1, 2, 3, 4, 5, 6, 1, 2, 3, 4, 5, 6, 1, 2, 3, 4, 5, 6, 1, 2, 3, 4, 5, 6, 1, 2, 3, 4, 5, 6, 1, 2, 3, 4, 5, 6, 1, 2, 3, 4, 5, 6, 1, 2, 3, 4, 5, 6, 1, 2, 3, 4, 5, 6, 1, 2, 3, 4, 5, 6, 1, 2, 3, 4, 5, 6, 1, 2, 3, 4, 5, 6, 1, 2, 3, 4, 5, 6, 1, 2, 3, 4, 5, 6, 1, 2, 3, 4, 5, 6, 1, 2, 3, 4, 5, 6, 1, 2, 3, 4, 5, 6, 1, 2, 3, 4, 5, 6, 1, 2, 3, 1, 2, 3, 4, 5, 6, 1, 2, 3, 4, 5, 6, 1, 2, 3, 4, 5, 6, 1, 2, 3, 4, 5, 6, 1, 2, 3, 4, 5, 6, 1, 2, 3, 4, 5, 6, 1, 2, 3, 4, 5, 6, 1, 2, 3, 4, 5, 6, 1, 2, 3, 4, 5, 6, 1, 2, 3, 4, 5, 6, 1, 2, 3, 4, 5, 6, 1, 2, 3, 4, 5, 6, 1, 2, 3, 4, 5, 6, 1, 2, 3, 4, 5, 6, 1, 2, 3, 4, 5, 6, 1, 2, 3, 4, 5, 6, 1, 2, 3, 4, 5, 6, 1, 2, 3, 4, 5, 6, 1, 2, 3, 4, 5, 6, 1, 2, 3, 4, 5, 6, 1, 2, 3, 4, 5, 6, 1, 2, 3, 4, 5, 6, 1, 2, 3, 4, 5, 6, 1, 2, 3, 4, 5, 6, 1, 2, 3, 4, 5, 6, 1, 2, 3, 4, 5, 6, 1, 2, 3, 4, 5, 6, 1, 2, 3, 4, 5, 6, 1, 2, 3, 4, 5, 6, 1, 2, 3, 4, 5, 6, 1, 2, 3, 4, 5, 6, 1, 2, 3, 4, 5, 6, 1, 2, 3, 4, 5, 6, 1, 2, 3, 4, 5, 6, 1, 2, 3, 4, 5, 6, 1, 2, 3, 4, 5, 6, 1, 2, 3, 4, 5, 6, 1, 2, 3, 4, 5, 6, 1, 2, 3, 4, 5, 6], \"Freq\": [0.1282869279384613, 0.1282869279384613, 0.1282869279384613, 0.1282869279384613, 0.1282869279384613, 0.2565738558769226, 0.16631430387496948, 0.16631430387496948, 0.16631430387496948, 0.16631430387496948, 0.08315715193748474, 0.24947145581245422, 0.19691719114780426, 0.19691719114780426, 0.19691719114780426, 0.3938343822956085, 0.19691719114780426, 0.19691719114780426, 0.07662206888198853, 0.15324413776397705, 0.3064882755279541, 0.15324413776397705, 0.15324413776397705, 0.15324413776397705, 0.10147786885499954, 0.10147786885499954, 0.10147786885499954, 0.3044336140155792, 0.10147786885499954, 0.10147786885499954, 0.17426550388336182, 0.17426550388336182, 0.17426550388336182, 0.17426550388336182, 0.17426550388336182, 0.34853100776672363, 0.304678350687027, 0.1523391753435135, 0.1523391753435135, 0.1523391753435135, 0.1523391753435135, 0.1523391753435135, 0.2918643355369568, 0.0972881093621254, 0.0972881093621254, 0.1945762187242508, 0.0972881093621254, 0.1945762187242508, 0.1376316398382187, 0.1376316398382187, 0.1376316398382187, 0.1376316398382187, 0.1376316398382187, 0.2752632796764374, 0.1967945694923401, 0.09839728474617004, 0.09839728474617004, 0.1967945694923401, 0.29519185423851013, 0.09839728474617004, 0.16374772787094116, 0.17544399201869965, 0.10526639968156815, 0.1403551995754242, 0.1403551995754242, 0.2690141201019287, 0.12380454689264297, 0.15475568175315857, 0.09285341203212738, 0.30951136350631714, 0.12380454689264297, 0.18570682406425476, 0.3122519552707672, 0.1561259776353836, 0.1561259776353836, 0.1561259776353836, 0.1561259776353836, 0.1561259776353836, 0.15124113857746124, 0.3024822771549225, 0.15124113857746124, 0.15124113857746124, 0.15124113857746124, 0.15124113857746124, 0.20710495114326477, 0.10355247557163239, 0.10355247557163239, 0.10355247557163239, 0.31065744161605835, 0.10355247557163239, 0.12841007113456726, 0.12841007113456726, 0.12841007113456726, 0.12841007113456726, 0.12841007113456726, 0.3852302134037018, 0.09644924104213715, 0.180842325091362, 0.12056155502796173, 0.25317925214767456, 0.1928984820842743, 0.15673001110553741, 0.1687638908624649, 0.1687638908624649, 0.1687638908624649, 0.3375277817249298, 0.1687638908624649, 0.1687638908624649, 0.15353058278560638, 0.15353058278560638, 0.30706116557121277, 0.07676529139280319, 0.15353058278560638, 0.15353058278560638, 0.10018628090620041, 0.10018628090620041, 0.300558865070343, 0.10018628090620041, 0.10018628090620041, 0.20037256181240082, 0.17966842651367188, 0.14036595821380615, 0.14036595821380615, 0.12352204322814941, 0.16282451152801514, 0.2526587247848511, 0.34268060326576233, 0.22845372557640076, 0.11422686278820038, 0.11422686278820038, 0.11422686278820038, 0.11422686278820038, 0.14391236007213593, 0.28782472014427185, 0.14391236007213593, 0.2158685326576233, 0.14391236007213593, 0.14391236007213593, 0.08680805563926697, 0.08680805563926697, 0.34723222255706787, 0.08680805563926697, 0.17361611127853394, 0.17361611127853394, 0.15107464790344238, 0.15107464790344238, 0.15107464790344238, 0.15107464790344238, 0.30214929580688477, 0.15107464790344238, 0.17172588407993317, 0.17172588407993317, 0.17172588407993317, 0.2862098217010498, 0.11448392271995544, 0.11448392271995544, 0.21120260655879974, 0.21120260655879974, 0.14080172777175903, 0.14080172777175903, 0.07040086388587952, 0.28160345554351807, 0.1731453239917755, 0.1731453239917755, 0.1731453239917755, 0.1731453239917755, 0.346290647983551, 0.1731453239917755, 0.14027641713619232, 0.14027641713619232, 0.14027641713619232, 0.28055283427238464, 0.14027641713619232, 0.14027641713619232, 0.1461062878370285, 0.1461062878370285, 0.1461062878370285, 0.292212575674057, 0.1461062878370285, 0.1461062878370285, 0.17426928877830505, 0.17426928877830505, 0.17426928877830505, 0.17426928877830505, 0.17426928877830505, 0.3485385775566101, 0.30997005105018616, 0.11271637678146362, 0.11271637678146362, 0.16907456517219543, 0.16907456517219543, 0.14089547097682953, 0.1395770162343979, 0.22875122725963593, 0.13182273507118225, 0.18997982144355774, 0.15120843052864075, 0.15896271169185638, 0.15148915350437164, 0.3029783070087433, 0.15148915350437164, 0.15148915350437164, 0.15148915350437164, 0.15148915350437164, 0.15173138678073883, 0.15173138678073883, 0.30346277356147766, 0.15173138678073883, 0.15173138678073883, 0.15173138678073883, 0.16080500185489655, 0.26800835132598877, 0.10720333456993103, 0.21440666913986206, 0.10720333456993103, 0.10720333456993103, 0.19722500443458557, 0.29583749175071716, 0.19722500443458557, 0.19722500443458557, 0.09861250221729279, 0.09861250221729279, 0.16882218420505524, 0.16882218420505524, 0.2813703119754791, 0.16882218420505524, 0.11254812777042389, 0.16882218420505524, 0.1615024209022522, 0.1615024209022522, 0.0807512104511261, 0.0807512104511261, 0.2422536313533783, 0.1615024209022522, 0.15159833431243896, 0.30319666862487793, 0.15159833431243896, 0.15159833431243896, 0.15159833431243896, 0.15159833431243896, 0.370847225189209, 0.1854236125946045, 0.09271180629730225, 0.09271180629730225, 0.1854236125946045, 0.09271180629730225, 0.17409971356391907, 0.17409971356391907, 0.34819942712783813, 0.17409971356391907, 0.17409971356391907, 0.17409971356391907, 0.13712121546268463, 0.13712121546268463, 0.20568183064460754, 0.27424243092536926, 0.13712121546268463, 0.13712121546268463, 0.15131665766239166, 0.15131665766239166, 0.07565832883119583, 0.15131665766239166, 0.15131665766239166, 0.3026333153247833, 0.11709779500961304, 0.11020968854427338, 0.17220264673233032, 0.17220264673233032, 0.1239859014749527, 0.3030766546726227, 0.18443603813648224, 0.09221801906824112, 0.18443603813648224, 0.27665406465530396, 0.09221801906824112, 0.18443603813648224, 0.20041123032569885, 0.10020561516284943, 0.3006168305873871, 0.10020561516284943, 0.10020561516284943, 0.20041123032569885, 0.1424984484910965, 0.19474788010120392, 0.1591232717037201, 0.19474788010120392, 0.1591232717037201, 0.1519983410835266, 0.14303067326545715, 0.15713228285312653, 0.21152423322200775, 0.18735003471374512, 0.15108872950077057, 0.14907421171665192, 0.10753212869167328, 0.14754408597946167, 0.18005380034446716, 0.21256349980831146, 0.19505827128887177, 0.15754707157611847, 0.18008482456207275, 0.18008482456207275, 0.17043742537498474, 0.2090270221233368, 0.1414952129125595, 0.11576881259679794, 0.11064837127923965, 0.14354382455348969, 0.1824202835559845, 0.1345723420381546, 0.2302682250738144, 0.19737276434898376, 0.23119781911373138, 0.17474253475666046, 0.1532357633113861, 0.12635229527950287, 0.14517071843147278, 0.16936583817005157, 0.12290466576814651, 0.12290466576814651, 0.12290466576814651, 0.24580933153629303, 0.12290466576814651, 0.24580933153629303, 0.10461720824241638, 0.1678234487771988, 0.15256676077842712, 0.1874391734600067, 0.1591053456068039, 0.22885014116764069, 0.1544792205095291, 0.09268753230571747, 0.33985427021980286, 0.12358337640762329, 0.18537506461143494, 0.12358337640762329, 0.1469247192144394, 0.1469247192144394, 0.1616171896457672, 0.24977202713489532, 0.17630966007709503, 0.11753977835178375, 0.15780998766422272, 0.14408738911151886, 0.2538682520389557, 0.14408738911151886, 0.14408738911151886, 0.1509486883878708, 0.13930107653141022, 0.27860215306282043, 0.13930107653141022, 0.18573476374149323, 0.13930107653141022, 0.13930107653141022, 0.13418233394622803, 0.2407388836145401, 0.15391503274440765, 0.12234271317720413, 0.1144496351480484, 0.23679234087467194, 0.17128030955791473, 0.12489189207553864, 0.1427335888147354, 0.1605752855539322, 0.1641436368227005, 0.2355104237794876, 0.21141432225704193, 0.16315670311450958, 0.18613652884960175, 0.17694459855556488, 0.11260110884904861, 0.1516667902469635, 0.14296002686023712, 0.14129769802093506, 0.2460242211818695, 0.15625862777233124, 0.14960932731628418, 0.16457025706768036, 0.09855911880731583, 0.19711823761463165, 0.2956773638725281, 0.09855911880731583, 0.09855911880731583, 0.09855911880731583, 0.1365968883037567, 0.15761180222034454, 0.23116396367549896, 0.185631662607193, 0.1295919269323349, 0.16111427545547485, 0.1495504528284073, 0.27417582273483276, 0.19316934049129486, 0.0934690311551094, 0.1495504528284073, 0.14331918954849243, 0.1511123776435852, 0.27200227975845337, 0.1511123776435852, 0.1511123776435852, 0.12088989466428757, 0.1511123776435852, 0.1555977314710617, 0.09575244784355164, 0.1316596269607544, 0.1795358508825302, 0.1795358508825302, 0.2633192539215088, 0.14389091730117798, 0.28778183460235596, 0.14389091730117798, 0.14389091730117798, 0.14389091730117798, 0.14389091730117798, 0.13974760472774506, 0.26784956455230713, 0.13974760472774506, 0.15139323472976685, 0.15139323472976685, 0.15139323472976685, 0.1487613469362259, 0.14438602328300476, 0.21439136564731598, 0.16845035552978516, 0.17282569408416748, 0.15094901621341705, 0.21734605729579926, 0.18506693840026855, 0.14848394691944122, 0.15278781950473785, 0.16354753077030182, 0.13557229936122894, 0.1799989938735962, 0.14759917557239532, 0.15839911997318268, 0.11519935727119446, 0.2519986033439636, 0.15119916200637817, 0.15174566209316254, 0.12697087228298187, 0.11922874301671982, 0.14400354027748108, 0.3174271583557129, 0.1409066915512085, 0.2946496903896332, 0.11785987764596939, 0.18333759903907776, 0.13095542788505554, 0.1702420562505722, 0.10476434230804443, 0.21228142082691193, 0.1312285214662552, 0.13508817553520203, 0.19298312067985535, 0.19684277474880219, 0.1312285214662552, 0.1744452714920044, 0.1169358417391777, 0.15719245374202728, 0.1667773574590683, 0.1840301752090454, 0.19936603307724, 0.12112655490636826, 0.199140265583992, 0.18476931750774384, 0.15192145109176636, 0.16423940658569336, 0.17655734717845917, 0.3087994158267975, 0.205866277217865, 0.12866643071174622, 0.12866643071174622, 0.15439970791339874, 0.1029331386089325, 0.18991141021251678, 0.10550633817911148, 0.10550633817911148, 0.2743164896965027, 0.15825951099395752, 0.15825951099395752, 0.10929740220308304, 0.15884555876255035, 0.220052108168602, 0.15738825500011444, 0.16758935153484344, 0.18653424084186554, 0.14082209765911102, 0.16567304730415344, 0.16567304730415344, 0.12425478547811508, 0.22780044376850128, 0.17809852957725525, 0.15373772382736206, 0.2594324052333832, 0.12491190433502197, 0.18256354331970215, 0.11530329287052155, 0.1633463352918625, 0.15978403389453888, 0.257429838180542, 0.15978403389453888, 0.12427647411823273, 0.13315336406230927, 0.15978403389453888, 0.2042197287082672, 0.16426369547843933, 0.13762633502483368, 0.18646147847175598, 0.13096699118614197, 0.17314280569553375, 0.21546414494514465, 0.15123924612998962, 0.21132059395313263, 0.15538279712200165, 0.10980384051799774, 0.15538279712200165, 0.16468682885169983, 0.13629254698753357, 0.21579653024673462, 0.1845628321170807, 0.14481084048748016, 0.1504896879196167, 0.14221881330013275, 0.163400337100029, 0.10893355309963226, 0.21786710619926453, 0.19063371419906616, 0.1785299926996231, 0.10564302653074265, 0.2112860530614853, 0.2112860530614853, 0.10564302653074265, 0.10564302653074265, 0.31692907214164734, 0.14002354443073273, 0.12252060323953629, 0.2100353240966797, 0.0875147208571434, 0.2975500524044037, 0.14002354443073273, 0.27595916390419006, 0.17017482221126556, 0.16097617149353027, 0.16557548940181732, 0.12418162077665329, 0.1057843416929245, 0.07280406355857849, 0.29121625423431396, 0.14560812711715698, 0.14560812711715698, 0.14560812711715698, 0.14560812711715698, 0.10001601278781891, 0.1919662058353424, 0.09517652541399002, 0.16776879131793976, 0.21616363525390625, 0.22906892001628876, 0.09640907496213913, 0.12318936735391617, 0.23298859596252441, 0.19549617171287537, 0.17674995958805084, 0.17407193779945374, 0.19057708978652954, 0.15246166288852692, 0.15669672191143036, 0.23292754590511322, 0.13128644227981567, 0.13552148640155792, 0.1299750804901123, 0.2599501609802246, 0.18567867577075958, 0.2228144109249115, 0.1299750804901123, 0.09283933788537979, 0.131733238697052, 0.13800625503063202, 0.15055227279663086, 0.23837442696094513, 0.12546022236347198, 0.21328239142894745, 0.32475385069847107, 0.08118846267461777, 0.16237692534923553, 0.16237692534923553, 0.16237692534923553, 0.16237692534923553, 0.15880820155143738, 0.16814987361431122, 0.20925316214561462, 0.1419932246208191, 0.16814987361431122, 0.15320321917533875, 0.2178892195224762, 0.15778185427188873, 0.17531317472457886, 0.13774606585502625, 0.1728086918592453, 0.1402505338191986, 0.17621931433677673, 0.14978642761707306, 0.14978642761707306, 0.13216449320316315, 0.24670705199241638, 0.1409754604101181, 0.18865028023719788, 0.13475020229816437, 0.1751752495765686, 0.25602537393569946, 0.10780015587806702, 0.13475020229816437, 0.1366863250732422, 0.1366863250732422, 0.1366863250732422, 0.1366863250732422, 0.41005897521972656, 0.1366863250732422, 0.16415436565876007, 0.13451538980007172, 0.17327405512332916, 0.136795312166214, 0.18239374458789825, 0.2120327204465866, 0.21768531203269958, 0.14909952878952026, 0.13418957591056824, 0.1640094816684723, 0.19681137800216675, 0.13717156648635864, 0.16272033751010895, 0.1590636968612671, 0.1590636968612671, 0.16820529103279114, 0.15175043046474457, 0.19928669929504395, 0.13697810471057892, 0.1198558434844017, 0.15410037338733673, 0.17122264206409454, 0.27395620942115784, 0.13697810471057892, 0.14187763631343842, 0.1098407506942749, 0.1487426906824112, 0.15789608657360077, 0.28375527262687683, 0.15789608657360077, 0.11120453476905823, 0.11120453476905823, 0.11120453476905823, 0.11120453476905823, 0.3336136043071747, 0.11120453476905823, 0.1529562920331955, 0.07647814601659775, 0.1529562920331955, 0.1529562920331955, 0.305912584066391, 0.1529562920331955, 0.13910141587257385, 0.19024164974689484, 0.10432606190443039, 0.20046968758106232, 0.13501019775867462, 0.23115383088588715, 0.20449404418468475, 0.13087619841098785, 0.12678630650043488, 0.15541547536849976, 0.24539285898208618, 0.13905595242977142, 0.14252609014511108, 0.21688753366470337, 0.11154215782880783, 0.24167467653751373, 0.15491966903209686, 0.1301325112581253, 0.1523791253566742, 0.12190330028533936, 0.1523791253566742, 0.3047582507133484, 0.09142747521400452, 0.18285495042800903, 0.20792850852012634, 0.1100797951221466, 0.09784870594739914, 0.13454197347164154, 0.3057772219181061, 0.1467730551958084, 0.13055060803890228, 0.11749554425477982, 0.1697157919406891, 0.15666073560714722, 0.26110121607780457, 0.18277084827423096, 0.14655227959156036, 0.12656787037849426, 0.1532137393951416, 0.1332293450832367, 0.23981282114982605, 0.19984401762485504, 0.1996285319328308, 0.14069058001041412, 0.15019670128822327, 0.1597028225660324, 0.17491261661052704, 0.17491261661052704, 0.16949211061000824, 0.16949211061000824, 0.3389842212200165, 0.16949211061000824, 0.16949211061000824, 0.16949211061000824, 0.11028517782688141, 0.16542775928974152, 0.13785646855831146, 0.19299905002117157, 0.2757129371166229, 0.11028517782688141, 0.11004069447517395, 0.16506104171276093, 0.16506104171276093, 0.11004069447517395, 0.2751017212867737, 0.16506104171276093, 0.0856851264834404, 0.1713702529668808, 0.1713702529668808, 0.1713702529668808, 0.0856851264834404, 0.2570553719997406, 0.1316833198070526, 0.19752497971057892, 0.1316833198070526, 0.16460415720939636, 0.1316833198070526, 0.2633666396141052, 0.10299111157655716, 0.2403125911951065, 0.12675829231739044, 0.13996227085590363, 0.16108866035938263, 0.229749396443367, 0.11570838838815689, 0.1295934021472931, 0.1295934021472931, 0.18050508201122284, 0.19439008831977844, 0.24993011355400085, 0.17732200026512146, 0.18414206802845, 0.17504863440990448, 0.12276138365268707, 0.11594130843877792, 0.2250625342130661, 0.090552918612957, 0.181105837225914, 0.090552918612957, 0.181105837225914, 0.362211674451828, 0.090552918612957, 0.2033853381872177, 0.16011185944080353, 0.12116573005914688, 0.1125110387802124, 0.2466588169336319, 0.1557845175266266, 0.12808038294315338, 0.2988542318344116, 0.12808038294315338, 0.17077384889125824, 0.12808038294315338, 0.12808038294315338, 0.13225090503692627, 0.1737413853406906, 0.1452166736125946, 0.18152084946632385, 0.16336876153945923, 0.20745238661766052, 0.08780012279748917, 0.17560024559497833, 0.08780012279748917, 0.17560024559497833, 0.2634003758430481, 0.17560024559497833, 0.13686442375183105, 0.15641649067401886, 0.17596855759620667, 0.2118140012025833, 0.12708839774131775, 0.1922619342803955, 0.15890717506408691, 0.13806688785552979, 0.151092067360878, 0.2214280217885971, 0.13806688785552979, 0.1953776627779007, 0.21341848373413086, 0.15018337965011597, 0.1659921556711197, 0.17916613817214966, 0.1317398101091385, 0.16072256863117218, 0.1736944168806076, 0.2605416178703308, 0.0868472084403038, 0.0868472084403038, 0.1736944168806076, 0.1736944168806076, 0.2637120485305786, 0.1802348494529724, 0.17833763360977173, 0.1384962499141693, 0.11762695014476776, 0.12142136693000793, 0.11231015622615814, 0.1647215634584427, 0.20215827226638794, 0.1996624916791916, 0.139763742685318, 0.18219202756881714, 0.1540200114250183, 0.2112274467945099, 0.12541629374027252, 0.15181972086429596, 0.1540200114250183, 0.20462659001350403, 0.13895350694656372, 0.16934959590435028, 0.11724202334880829, 0.2171148657798767, 0.14763811230659485, 0.20843027532100677, 0.15166059136390686, 0.3033211827278137, 0.15166059136390686, 0.15166059136390686, 0.15166059136390686, 0.15166059136390686, 0.13433922827243805, 0.16792403161525726, 0.16792403161525726, 0.10075441747903824, 0.3358480632305145, 0.10075441747903824, 0.1493753045797348, 0.1493753045797348, 0.1493753045797348, 0.3734382390975952, 0.1493753045797348, 0.0746876522898674, 0.1557125449180603, 0.17470188438892365, 0.10254240781068802, 0.22027628123760223, 0.21268054842948914, 0.13672320544719696, 0.31312254071235657, 0.10437417775392532, 0.10437417775392532, 0.20874835550785065, 0.10437417775392532, 0.10437417775392532, 0.2113497257232666, 0.08453989028930664, 0.15096409618854523, 0.18115690350532532, 0.15398336946964264, 0.21738828718662262, 0.24740447103977203, 0.12370223551988602, 0.24740447103977203, 0.12370223551988602, 0.12370223551988602, 0.12370223551988602, 0.15283696353435516, 0.1712827980518341, 0.16601257026195526, 0.15020184218883514, 0.20290423929691315, 0.1581072062253952, 0.227687805891037, 0.227687805891037, 0.1138439029455185, 0.1138439029455185, 0.1138439029455185, 0.1138439029455185, 0.23632356524467468, 0.14865514636039734, 0.18677185475826263, 0.1372201293706894, 0.1753368377685547, 0.11435011029243469, 0.16883356869220734, 0.3376671373844147, 0.16883356869220734, 0.16883356869220734, 0.16883356869220734, 0.16883356869220734, 0.1269715130329132, 0.190457284450531, 0.2856859266757965, 0.0952286422252655, 0.1587143987417221, 0.1269715130329132, 0.23508408665657043, 0.13197703659534454, 0.13610132038593292, 0.12785275280475616, 0.17734414339065552, 0.19796554744243622, 0.11912989616394043, 0.2978247404098511, 0.17869484424591064, 0.11912989616394043, 0.11912989616394043, 0.17869484424591064, 0.1672922521829605, 0.16211827099323273, 0.15866895020008087, 0.13279901444911957, 0.17764022946357727, 0.20006084442138672, 0.15379787981510162, 0.13841809332370758, 0.19554302096366882, 0.16917766630649567, 0.16478343307971954, 0.17796611785888672, 0.17619428038597107, 0.18768522143363953, 0.23364894092082977, 0.1493821144104004, 0.12640024721622467, 0.13023056089878082, 0.12581440806388855, 0.12581440806388855, 0.2516288161277771, 0.12581440806388855, 0.12581440806388855, 0.12581440806388855, 0.16399699449539185, 0.25861063599586487, 0.1703045666217804, 0.17976593971252441, 0.09461364895105362, 0.1324591189622879, 0.1254788488149643, 0.1673051416873932, 0.2927840054035187, 0.1673051416873932, 0.1673051416873932, 0.1254788488149643, 0.16624057292938232, 0.24936087429523468, 0.16624057292938232, 0.16624057292938232, 0.16624057292938232, 0.16624057292938232, 0.33963996171951294, 0.16981998085975647, 0.16981998085975647, 0.16981998085975647, 0.16981998085975647, 0.16981998085975647, 0.13399209082126617, 0.17865611612796783, 0.312648206949234, 0.13399209082126617, 0.08932805806398392, 0.17865611612796783, 0.1750694066286087, 0.1750694066286087, 0.1750694066286087, 0.29178234934806824, 0.11671293526887894, 0.11671293526887894, 0.09221558272838593, 0.18443116545677185, 0.18443116545677185, 0.09221558272838593, 0.18443116545677185, 0.2766467332839966, 0.11218372732400894, 0.28045931458473206, 0.22436745464801788, 0.16827557981014252, 0.11218372732400894, 0.11218372732400894, 0.2046441286802292, 0.20717060565948486, 0.10611177235841751, 0.16927354037761688, 0.17432647943496704, 0.13895589113235474, 0.1330745965242386, 0.10931128263473511, 0.22575154900550842, 0.16634325683116913, 0.16396692395210266, 0.20198823511600494, 0.1678360253572464, 0.1650846153497696, 0.14582474529743195, 0.1238134577870369, 0.2091071754693985, 0.19259871542453766, 0.15985269844532013, 0.22379378974437714, 0.1349867284297943, 0.18827097117900848, 0.15630042552947998, 0.1349867284297943, 0.15890006721019745, 0.1253296285867691, 0.2215648740530014, 0.18128035962581635, 0.1544240117073059, 0.15890006721019745, 0.15950177609920502, 0.19937720894813538, 0.15320564806461334, 0.16999530792236328, 0.21406817436218262, 0.10493537783622742, 0.1474079042673111, 0.19090531766414642, 0.12565919756889343, 0.20540444552898407, 0.16190703213214874, 0.16915661096572876, 0.14718392491340637, 0.16558192670345306, 0.22282011806964874, 0.1410512626171112, 0.12878593802452087, 0.1942010223865509, 0.14290834963321686, 0.14290834963321686, 0.11692500859498978, 0.16239584982395172, 0.19487501680850983, 0.23385001718997955, 0.20956239104270935, 0.16900192201137543, 0.14196161925792694, 0.21970251202583313, 0.13858157396316528, 0.12168138474225998, 0.25774502754211426, 0.12887251377105713, 0.12887251377105713, 0.12887251377105713, 0.12887251377105713, 0.12887251377105713, 0.20707696676254272, 0.13805131614208221, 0.2801629602909088, 0.10150831937789917, 0.15023231506347656, 0.12587031722068787, 0.27652373909950256, 0.13826186954975128, 0.27652373909950256, 0.13826186954975128, 0.13826186954975128, 0.13826186954975128, 0.1644696146249771, 0.18708418309688568, 0.11924047023057938, 0.12335220724344254, 0.1644696146249771, 0.24053680896759033, 0.13572734594345093, 0.1725347638130188, 0.26915422081947327, 0.13342688977718353, 0.14722967147827148, 0.1449292004108429, 0.1612769216299057, 0.19114302098751068, 0.1493304818868637, 0.14136618375778198, 0.20308946073055267, 0.15331262350082397, 0.1758803278207779, 0.15042395889759064, 0.16662347316741943, 0.1781945377588272, 0.21753619611263275, 0.11108231544494629, 0.16803547739982605, 0.10125214606523514, 0.23912741243839264, 0.16372688114643097, 0.16372688114643097, 0.16372688114643097, 0.16561289131641388, 0.1924690455198288, 0.10294856131076813, 0.1924690455198288, 0.2014210969209671, 0.1454707831144333, 0.1964111328125, 0.147308349609375, 0.1582200825214386, 0.1309407502412796, 0.109117291867733, 0.2564256489276886, 0.2728039622306824, 0.12124620378017426, 0.12124620378017426, 0.18186931312084198, 0.12124620378017426, 0.15155775845050812, 0.1681172251701355, 0.19333480298519135, 0.12888987362384796, 0.2129484862089157, 0.12608791887760162, 0.17091917991638184, 0.17453765869140625, 0.18893252313137054, 0.14754730463027954, 0.15654408931732178, 0.14934666454792023, 0.18353445827960968, 0.15221352875232697, 0.10147568583488464, 0.10147568583488464, 0.15221352875232697, 0.15221352875232697, 0.30442705750465393, 0.16693615913391113, 0.193082794547081, 0.1327444165945053, 0.13877825438976288, 0.16693615913391113, 0.19911663234233856, 0.1695738136768341, 0.14534899592399597, 0.12112415581941605, 0.2664731442928314, 0.14534899592399597, 0.14534899592399597, 0.13361777365207672, 0.13361777365207672, 0.20042666792869568, 0.20042666792869568, 0.26723554730415344, 0.13361777365207672, 0.11386612057685852, 0.15038922429084778, 0.13320188224315643, 0.2298806607723236, 0.1890607327222824, 0.1826154887676239, 0.19173550605773926, 0.1471908837556839, 0.20141911506652832, 0.17236827313899994, 0.16655811667442322, 0.12201350182294846, 0.1341894418001175, 0.1341894418001175, 0.1341894418001175, 0.1341894418001175, 0.268378883600235, 0.1341894418001175, 0.15001730620861053, 0.30003461241722107, 0.10001154243946075, 0.15001730620861053, 0.10001154243946075, 0.2000230848789215, 0.141743466258049, 0.1606425940990448, 0.1322939097881317, 0.24568867683410645, 0.19844084978103638, 0.11339477449655533, 0.14553038775920868, 0.14553038775920868, 0.14553038775920868, 0.14553038775920868, 0.29106077551841736, 0.21829558908939362, 0.17161047458648682, 0.19328758120536804, 0.12464339286088943, 0.1788361668586731, 0.15354621410369873, 0.17702974379062653, 0.27582940459251404, 0.27582940459251404, 0.13791470229625702, 0.13791470229625702, 0.13791470229625702, 0.13741812109947205, 0.13741812109947205, 0.2748362421989441, 0.13741812109947205, 0.13741812109947205, 0.13741812109947205, 0.22804522514343262, 0.22804522514343262, 0.22804522514343262, 0.22804522514343262, 0.22804522514343262, 0.16358530521392822, 0.18210439383983612, 0.13889318704605103, 0.17593136429786682, 0.11728757619857788, 0.22222909331321716, 0.18165849149227142, 0.2262473851442337, 0.14532679319381714, 0.1866127997636795, 0.1552354395389557, 0.10404077172279358, 0.16138450801372528, 0.14957588911056519, 0.15351209044456482, 0.23617245256900787, 0.18106554448604584, 0.11808622628450394, 0.13290874660015106, 0.1889796257019043, 0.20351652801036835, 0.12044855207204819, 0.20559322834014893, 0.1495223492383957, 0.19824065268039703, 0.2854665219783783, 0.14273326098918915, 0.11894439160823822, 0.1348036378622055, 0.11894439160823822, 0.18412742018699646, 0.09206371009349823, 0.18412742018699646, 0.2761911153793335, 0.18412742018699646, 0.09206371009349823, 0.192533478140831, 0.1312728226184845, 0.0875152200460434, 0.2537941336631775, 0.2012850046157837, 0.1312728226184845, 0.17472924292087555, 0.2446209341287613, 0.10095467418432236, 0.15919774770736694, 0.1553148776292801, 0.163080632686615, 0.13261578977108002, 0.2270202487707138, 0.2000475525856018, 0.13711124658584595, 0.14834986627101898, 0.15509304404258728, 0.11376005411148071, 0.11376005411148071, 0.22752010822296143, 0.11376005411148071, 0.11376005411148071, 0.22752010822296143, 0.3493317663669586, 0.1746658831834793, 0.1746658831834793, 0.1746658831834793, 0.1746658831834793, 0.1746658831834793, 0.15554794669151306, 0.15554794669151306, 0.15554794669151306, 0.15554794669151306, 0.15554794669151306, 0.3110958933830261, 0.21471190452575684, 0.09851487725973129, 0.19197770953178406, 0.13640521466732025, 0.1894516795873642, 0.16671748459339142, 0.2937571108341217, 0.1958380788564682, 0.0979190394282341, 0.1958380788564682, 0.14687855541706085, 0.0979190394282341, 0.16937819123268127, 0.22635085880756378, 0.14474135637283325, 0.16629858314990997, 0.13858215510845184, 0.15398016571998596, 0.15512755513191223, 0.1357366144657135, 0.10665018856525421, 0.26177775859832764, 0.20360490679740906, 0.1357366144657135, 0.2136799842119217, 0.19273096323013306, 0.11312469840049744, 0.23462900519371033, 0.12569411098957062, 0.12150430679321289, 0.15127144753932953, 0.15127144753932953, 0.15127144753932953, 0.30254289507865906, 0.15127144753932953, 0.15127144753932953, 0.14905010163784027, 0.14905010163784027, 0.11924007534980774, 0.11924007534980774, 0.38753023743629456, 0.0894300565123558, 0.1615496426820755, 0.1615496426820755, 0.1615496426820755, 0.24232445657253265, 0.1615496426820755, 0.1615496426820755, 0.2852686941623688, 0.11410748213529587, 0.1711612194776535, 0.11410748213529587, 0.11410748213529587, 0.1711612194776535, 0.1918662190437317, 0.16092005372047424, 0.17123544216156006, 0.1939292997121811, 0.1898031383752823, 0.09077541530132294, 0.14488904178142548, 0.16495059430599213, 0.1760959029197693, 0.24519683420658112, 0.13374373316764832, 0.1359727829694748, 0.14573034644126892, 0.29146069288253784, 0.14573034644126892, 0.07286517322063446, 0.14573034644126892, 0.2185955047607422, 0.14829115569591522, 0.14122967422008514, 0.2471519261598587, 0.17653709650039673, 0.14829115569591522, 0.14122967422008514, 0.15837028622627258, 0.31674057245254517, 0.15837028622627258, 0.10558018833398819, 0.10558018833398819, 0.15837028622627258, 0.19143550097942352, 0.12484923750162125, 0.2691194713115692, 0.13594694435596466, 0.13872137665748596, 0.14149579405784607, 0.19051936268806458, 0.23193661868572235, 0.12011003494262695, 0.15324383974075317, 0.16981074213981628, 0.1283934861421585, 0.12278850376605988, 0.14734619855880737, 0.17190390825271606, 0.14734619855880737, 0.14734619855880737, 0.27013471722602844, 0.26077914237976074, 0.13560515642166138, 0.1564674824476242, 0.12517398595809937, 0.17732982337474823, 0.1564674824476242, 0.12265153229236603, 0.14650043845176697, 0.1601283997297287, 0.20782621204853058, 0.08517467975616455, 0.27596595883369446, 0.1230255737900734, 0.1230255737900734, 0.1230255737900734, 0.2460511475801468, 0.1230255737900734, 0.1230255737900734, 0.15275536477565765, 0.2585090696811676, 0.08225288987159729, 0.15275536477565765, 0.16450577974319458, 0.18800660967826843, 0.09761106222867966, 0.16593879461288452, 0.19847582280635834, 0.2505350410938263, 0.12364067137241364, 0.16593879461288452, 0.09746293723583221, 0.14944316446781158, 0.2144184559583664, 0.24040856957435608, 0.12995058298110962, 0.16893574595451355, 0.21053920686244965, 0.1083357110619545, 0.14512896537780762, 0.18192222714424133, 0.18396630883216858, 0.16965781152248383, 0.18765288591384888, 0.16239191591739655, 0.17682674527168274, 0.20208771526813507, 0.1443483680486679, 0.1281091719865799, 0.17368872463703156, 0.18370921909809113, 0.17869897186756134, 0.15197762846946716, 0.16032804548740387, 0.15197762846946716, 0.12307652086019516, 0.12307652086019516, 0.12307652086019516, 0.24615304172039032, 0.12307652086019516, 0.12307652086019516, 0.17242081463336945, 0.1161571815609932, 0.21234984695911407, 0.1978302001953125, 0.15245629847049713, 0.14882639050483704, 0.15646815299987793, 0.16595107316970825, 0.27500462532043457, 0.16595107316970825, 0.10431210696697235, 0.13276086747646332, 0.16514959931373596, 0.16949564218521118, 0.14341939985752106, 0.12168917804956436, 0.22599419951438904, 0.1738416850566864, 0.12395696341991425, 0.12395696341991425, 0.12395696341991425, 0.12395696341991425, 0.18593543767929077, 0.3098924160003662, 0.1870235800743103, 0.11308402568101883, 0.16962604224681854, 0.15222850441932678, 0.2305174469947815, 0.1435297280550003, 0.24797336757183075, 0.17321670055389404, 0.1659233570098877, 0.11851668357849121, 0.2078600376844406, 0.0893433466553688, 0.1910909116268158, 0.1546926498413086, 0.1273939460515976, 0.1546926498413086, 0.136493518948555, 0.2456883192062378, 0.24885791540145874, 0.13359740376472473, 0.16503208875656128, 0.13097785413265228, 0.13359740376472473, 0.18598854541778564, 0.26740947365760803, 0.14007163047790527, 0.1655391901731491, 0.10187027603387833, 0.1655391901731491, 0.1528054177761078, 0.14781206846237183, 0.18812444806098938, 0.19887441396713257, 0.22574934363365173, 0.09674971550703049, 0.14243708550930023, 0.13435670733451843, 0.17634317278862, 0.18474046885967255, 0.16374723613262177, 0.18683978915214539, 0.15115128457546234, 0.22585013508796692, 0.16840848326683044, 0.14882609248161316, 0.19974029064178467, 0.14621511101722717, 0.11096682399511337, 0.21467524766921997, 0.17564338445663452, 0.15124846994876862, 0.16588541865348816, 0.14149050414562225, 0.14880897104740143, 0.25039541721343994, 0.16136592626571655, 0.15023724734783173, 0.1391085535287857, 0.21144500374794006, 0.0890294760465622, 0.1313587874174118, 0.17027992010116577, 0.17027992010116577, 0.14352163672447205, 0.2213638871908188, 0.16298219561576843, 0.14563912153244019, 0.14563912153244019, 0.14563912153244019, 0.29127824306488037, 0.14563912153244019, 0.21845866739749908, 0.16715610027313232, 0.16715610027313232, 0.16715610027313232, 0.11143739521503448, 0.11143739521503448, 0.278593510389328, 0.12879571318626404, 0.10537830740213394, 0.39809584617614746, 0.09366960823535919, 0.16392181813716888, 0.12879571318626404, 0.11047370731830597, 0.09206142276525497, 0.2798667252063751, 0.15098072588443756, 0.18044038116931915, 0.18044038116931915, 0.16048449277877808, 0.15642158687114716, 0.1482957899570465, 0.164547398686409, 0.20314492285251617, 0.16861028969287872, 0.13015484809875488, 0.1580451875925064, 0.13015484809875488, 0.26030969619750977, 0.10226453095674515, 0.21382583677768707, 0.1538073569536209, 0.15961140394210815, 0.1654154509305954, 0.14510127902030945, 0.13639520108699799, 0.24086810648441315, 0.16934777796268463, 0.270956426858902, 0.135478213429451, 0.135478213429451, 0.16934777796268463, 0.10160866379737854, 0.12332598865032196, 0.12332598865032196, 0.12332598865032196, 0.12332598865032196, 0.12332598865032196, 0.24665197730064392, 0.1472034752368927, 0.21750961244106293, 0.14280934631824493, 0.18675068020820618, 0.14500641822814941, 0.1603858768939972, 0.1893085390329361, 0.18667925894260406, 0.10780069977045059, 0.22874782979488373, 0.12357641011476517, 0.1630156934261322, 0.10620855540037155, 0.12390998750925064, 0.14161141216754913, 0.26552140712738037, 0.15931284427642822, 0.1947156935930252, 0.13822650909423828, 0.2680756449699402, 0.16335859894752502, 0.14241518080234528, 0.14241518080234528, 0.14660386741161346, 0.2032621204853058, 0.15244658291339874, 0.1016310602426529, 0.1016310602426529, 0.3048931658267975, 0.1016310602426529, 0.1702316403388977, 0.16283026337623596, 0.15542888641357422, 0.12582339346408844, 0.1591295748949051, 0.2220412790775299, 0.15604948997497559, 0.15827877819538116, 0.22738641500473022, 0.17165444791316986, 0.13821527361869812, 0.14713238179683685, 0.07966142147779465, 0.07966142147779465, 0.1593228429555893, 0.23898425698280334, 0.1593228429555893, 0.1593228429555893, 0.1789029836654663, 0.13417723774909973, 0.13417723774909973, 0.13417723774909973, 0.13417723774909973, 0.31308022141456604, 0.1422675997018814, 0.16597886383533478, 0.15017135441303253, 0.2450164258480072, 0.16597886383533478, 0.12646009027957916, 0.14062614738941193, 0.2220412790775299, 0.1591295748949051, 0.1443268209695816, 0.16283026337623596, 0.1702316403388977, 0.19753889739513397, 0.22840435802936554, 0.12037526816129684, 0.17901962995529175, 0.17284654080867767, 0.10185599327087402, 0.16956163942813873, 0.16956163942813873, 0.16956163942813873, 0.16956163942813873, 0.33912327885627747, 0.2965160310268402, 0.11404462158679962, 0.13685354590415955, 0.22808924317359924, 0.15966247022151947, 0.06842677295207977, 0.26066160202026367, 0.15333035588264465, 0.11116451025009155, 0.10349798947572708, 0.1379973143339157, 0.22999553382396698, 0.1338706761598587, 0.123572938144207, 0.1853594034910202, 0.16991278529167175, 0.144168421626091, 0.24199700355529785, 0.26990801095962524, 0.13495400547981262, 0.13495400547981262, 0.13495400547981262, 0.13495400547981262, 0.13495400547981262, 0.13594858348369598, 0.27189716696739197, 0.13594858348369598, 0.13594858348369598, 0.13594858348369598, 0.18126478791236877, 0.3657182455062866, 0.09142956137657166, 0.09142956137657166, 0.1828591227531433, 0.1828591227531433, 0.09142956137657166, 0.1961682289838791, 0.148127019405365, 0.19016307592391968, 0.10809269547462463, 0.20617680251598358, 0.1541321724653244, 0.16671673953533173, 0.18524082005023956, 0.1352258026599884, 0.10558726638555527, 0.2574847340583801, 0.15004506707191467, 0.17221224308013916, 0.25831836462020874, 0.17221224308013916, 0.12915918231010437, 0.12915918231010437, 0.12915918231010437, 0.1581728607416153, 0.17734532058238983, 0.15577630698680878, 0.15337973833084106, 0.15337973833084106, 0.2013109177350998, 0.25424858927726746, 0.1405058056116104, 0.2007225751876831, 0.13381505012512207, 0.11374279111623764, 0.16057805716991425, 0.1405729502439499, 0.1405729502439499, 0.2811459004878998, 0.1405729502439499, 0.1405729502439499, 0.21085943281650543, 0.13956846296787262, 0.15265299379825592, 0.24860630929470062, 0.17446057498455048, 0.13084542751312256, 0.15265299379825592, 0.266292929649353, 0.13540318608283997, 0.1669972687959671, 0.12637630105018616, 0.1624838262796402, 0.14443007111549377, 0.19989028573036194, 0.20519711077213287, 0.14151524007320404, 0.21934862434864044, 0.08667808771133423, 0.15035994350910187, 0.26288628578186035, 0.10286854207515717, 0.217166930437088, 0.080008864402771, 0.18287740647792816, 0.160017728805542, 0.28942781686782837, 0.09647594392299652, 0.19295188784599304, 0.14471390843391418, 0.09647594392299652, 0.14471390843391418, 0.11403286457061768, 0.20668457448482513, 0.1639222502708435, 0.1354140341281891, 0.24944689869880676, 0.1354140341281891, 0.15084880590438843, 0.1525249034166336, 0.14917270839214325, 0.14414441585540771, 0.2447102814912796, 0.15922929346561432, 0.16552767157554626, 0.23847205936908722, 0.1290554702281952, 0.1290554702281952, 0.19358320534229279, 0.14308324456214905, 0.19768936932086945, 0.1543859839439392, 0.1675652712583542, 0.1261446475982666, 0.195806622505188, 0.16003425419330597, 0.16045086085796356, 0.17690736055374146, 0.1398802399635315, 0.23450511693954468, 0.1563367396593094, 0.13165199756622314, 0.1373031735420227, 0.18124018609523773, 0.24165357649326324, 0.1757480502128601, 0.12082678824663162, 0.1373031735420227, 0.14777925610542297, 0.1510632336139679, 0.1871870458126068, 0.1018034815788269, 0.22331087291240692, 0.19047103822231293, 0.11333280801773071, 0.16999921202659607, 0.16999921202659607, 0.11333280801773071, 0.2833320200443268, 0.16999921202659607, 0.20986446738243103, 0.20443694293498993, 0.11397811770439148, 0.13026070594787598, 0.17187176644802094, 0.1700625866651535, 0.19644470512866974, 0.15208622813224792, 0.23446625471115112, 0.1679285317659378, 0.08871696144342422, 0.16159160435199738, 0.16256697475910187, 0.13934311270713806, 0.16256697475910187, 0.09289541095495224, 0.13934311270713806, 0.2786862254142761, 0.17242127656936646, 0.23766176402568817, 0.14446106553077698, 0.14912110567092896, 0.1398010402917862, 0.14912110567092896, 0.1733177900314331, 0.1733177900314331, 0.08665889501571655, 0.25997668504714966, 0.08665889501571655, 0.08665889501571655, 0.14076747000217438, 0.12903684377670288, 0.16813892126083374, 0.22679203748703003, 0.17595933377742767, 0.1603185087442398, 0.12990540266036987, 0.1948581039905548, 0.12990540266036987, 0.12990540266036987, 0.06495270133018494, 0.3247635066509247, 0.17774084210395813, 0.08203423023223877, 0.16406846046447754, 0.2597750723361969, 0.20508557558059692, 0.13672372698783875, 0.15829458832740784, 0.15829458832740784, 0.2083878219127655, 0.11020509153604507, 0.16029831767082214, 0.2043803632259369, 0.12852749228477478, 0.21877020597457886, 0.17501616477966309, 0.17775079607963562, 0.17228153347969055, 0.12852749228477478, 0.16914062201976776, 0.1137324869632721, 0.19247035682201385, 0.18372170627117157, 0.11081627011299133, 0.2332974076271057, 0.17184610664844513, 0.13431648910045624, 0.22517764568328857, 0.18764804303646088, 0.1362917423248291, 0.14419271051883698, 0.18003617227077484, 0.18003617227077484, 0.14002813398838043, 0.1815749555826187, 0.17080354690551758, 0.14772199094295502, 0.11311560124158859, 0.22623120248317719, 0.11311560124158859, 0.11311560124158859, 0.282789021730423, 0.16967341303825378, 0.15631185472011566, 0.25231438875198364, 0.09354095160961151, 0.16369666159152985, 0.1501578390598297, 0.1858510971069336, 0.15368656814098358, 0.15368656814098358, 0.15368656814098358, 0.10245770961046219, 0.30737313628196716, 0.10245770961046219, 0.12645375728607178, 0.12645375728607178, 0.25290751457214355, 0.12645375728607178, 0.12645375728607178, 0.1686049997806549, 0.137931689620018, 0.137931689620018, 0.275863379240036, 0.137931689620018, 0.137931689620018, 0.137931689620018, 0.1387820541858673, 0.16191239655017853, 0.1387820541858673, 0.09252136200666428, 0.18504272401332855, 0.30069443583488464, 0.13714881241321564, 0.13714881241321564, 0.13714881241321564, 0.13714881241321564, 0.2742976248264313, 0.13714881241321564, 0.15533097088336945, 0.15533097088336945, 0.3106619417667389, 0.15533097088336945, 0.15533097088336945, 0.15533097088336945, 0.13668540120124817, 0.13668540120124817, 0.1708567589521408, 0.13668540120124817, 0.27337080240249634, 0.13668540120124817, 0.25121045112609863, 0.1681656688451767, 0.1474044770002365, 0.09342537075281143, 0.19515521824359894, 0.1453283578157425, 0.13220293819904327, 0.16997520625591278, 0.2832920253276825, 0.15108907222747803, 0.13220293819904327, 0.15108907222747803, 0.13718737661838531, 0.2658005356788635, 0.18005843460559845, 0.18005843460559845, 0.09431631863117218, 0.13718737661838531, 0.2572348415851593, 0.12861742079257965, 0.12861742079257965, 0.12861742079257965, 0.19292613863945007, 0.19292613863945007, 0.16443416476249695, 0.15317155420780182, 0.19146443903446198, 0.10586857795715332, 0.19146443903446198, 0.19146443903446198, 0.2275599241256714, 0.2275599241256714, 0.2275599241256714, 0.2275599241256714, 0.2275599241256714, 0.2275599241256714, 0.125242218375206, 0.21855995059013367, 0.2136484831571579, 0.18663546442985535, 0.12278648465871811, 0.13752086460590363, 0.13658343255519867, 0.19121679663658142, 0.3004835546016693, 0.1092667430639267, 0.16390010714530945, 0.13658343255519867, 0.34058186411857605, 0.34058186411857605, 0.17029093205928802, 0.1809672862291336, 0.19520068168640137, 0.14640051126480103, 0.1586005538702011, 0.15453386306762695, 0.16470056772232056, 0.16993674635887146, 0.13594940304756165, 0.10196204483509064, 0.2718988060951233, 0.13594940304756165, 0.20392408967018127, 0.14560778439044952, 0.07280389219522476, 0.2184116691350937, 0.29121556878089905, 0.14560778439044952, 0.14560778439044952, 0.16346755623817444, 0.10402480512857437, 0.2674923539161682, 0.1337461769580841, 0.1337461769580841, 0.20804961025714874, 0.1263919174671173, 0.21065320074558258, 0.1263919174671173, 0.16852255165576935, 0.08426127582788467, 0.29491448402404785, 0.2930275797843933, 0.13789533078670502, 0.13789533078670502, 0.1551322489976883, 0.17236916720867157, 0.10342150181531906, 0.13695646822452545, 0.13695646822452545, 0.13695646822452545, 0.13695646822452545, 0.2739129364490509, 0.20543470978736877, 0.11318764835596085, 0.16978146135807037, 0.11318764835596085, 0.16978146135807037, 0.16978146135807037, 0.2829691171646118, 0.1266452521085739, 0.1266452521085739, 0.1266452521085739, 0.1266452521085739, 0.18996788561344147, 0.2532905042171478, 0.11416804045438766, 0.1764415204524994, 0.28023064136505127, 0.155683696269989, 0.1660626083612442, 0.11416804045438766, 0.32026955485343933, 0.10675652325153351, 0.10675652325153351, 0.16013477742671967, 0.16013477742671967, 0.16013477742671967, 0.3300851881504059, 0.12695583701133728, 0.13965141773223877, 0.12695583701133728, 0.12695583701133728, 0.15234699845314026, 0.18898053467273712, 0.15118442475795746, 0.15118442475795746, 0.26457273960113525, 0.1133883148431778, 0.1133883148431778, 0.13300009071826935, 0.13300009071826935, 0.1662501096725464, 0.2660001814365387, 0.1662501096725464, 0.09975006431341171, 0.11482588946819305, 0.15658076107501984, 0.13570332527160645, 0.2609679400920868, 0.15658076107501984, 0.16701947152614594, 0.12304537743330002, 0.12304537743330002, 0.24609075486660004, 0.24609075486660004, 0.12304537743330002, 0.12304537743330002, 0.17894937098026276, 0.13918283581733704, 0.1590660959482193, 0.258482426404953, 0.17894937098026276, 0.07953304797410965, 0.17111530900001526, 0.12833648920059204, 0.12833648920059204, 0.17111530900001526, 0.12833648920059204, 0.2566729784011841, 0.12913845479488373, 0.16787999868392944, 0.249667689204216, 0.15496616065502167, 0.16787999868392944, 0.13344307243824005, 0.16879600286483765, 0.16879600286483765, 0.16879600286483765, 0.3375920057296753, 0.16879600286483765, 0.16879600286483765, 0.17044468224048615, 0.14693507552146912, 0.24685092270374298, 0.14693507552146912, 0.14105767011642456, 0.14693507552146912, 0.151271790266037, 0.151271790266037, 0.151271790266037, 0.302543580532074, 0.151271790266037, 0.151271790266037, 0.2765710651874542, 0.1765347123146057, 0.13730478286743164, 0.1490737646818161, 0.14711226522922516, 0.11376681923866272, 0.19698597490787506, 0.12226714938879013, 0.22189223766326904, 0.15170183777809143, 0.1358523964881897, 0.17207969725131989, 0.1423257440328598, 0.2296620011329651, 0.1293870508670807, 0.12615236639976501, 0.16820316016674042, 0.20701926946640015, 0.14333675801753998, 0.15926305949687958, 0.11148414015769958, 0.12741044163703918, 0.28667351603507996, 0.17518936097621918, 0.0926310122013092, 0.2646600306034088, 0.158796027302742, 0.1852620244026184, 0.0926310122013092, 0.211728036403656, 0.07269259542226791, 0.14538519084453583, 0.14538519084453583, 0.14538519084453583, 0.29077038168907166, 0.21807777881622314, 0.2759861350059509, 0.18727631866931915, 0.09856647998094559, 0.16756302118301392, 0.13799306750297546, 0.12813642621040344, 0.1519235223531723, 0.12711967527866364, 0.1705264002084732, 0.16432544589042664, 0.15502400696277618, 0.2294355183839798, 0.26297512650489807, 0.1560746729373932, 0.1731787472963333, 0.14752264320850372, 0.16890272498130798, 0.09193439781665802, 0.1712363362312317, 0.1393784135580063, 0.15928961336612701, 0.16725409030914307, 0.22698770463466644, 0.1433606594800949, 0.1740342676639557, 0.1740342676639557, 0.1740342676639557, 0.1740342676639557, 0.1740342676639557, 0.3480685353279114, 0.20551489293575287, 0.1952391415834427, 0.23291687667369843, 0.10960794240236282, 0.1233089342713356, 0.13358467817306519, 0.13737714290618896, 0.27475428581237793, 0.13737714290618896, 0.06868857145309448, 0.13737714290618896, 0.20606571435928345, 0.2149568647146225, 0.14099322259426117, 0.21957959234714508, 0.1317477524280548, 0.1617954969406128, 0.1317477524280548, 0.20935913920402527, 0.1940401792526245, 0.09957325458526611, 0.15829594433307648, 0.15318961441516876, 0.18638069927692413, 0.19535475969314575, 0.10218556970357895, 0.17131109535694122, 0.1112019419670105, 0.21038205921649933, 0.21038205921649933, 0.28485578298568726, 0.15825322270393372, 0.15825322270393372, 0.12660257518291473, 0.12660257518291473, 0.12660257518291473], \"Term\": [\"=)\", \"=)\", \"=)\", \"=)\", \"=)\", \"=)\", \"Adam\", \"Adam\", \"Adam\", \"Adam\", \"Adam\", \"Adam\", \"Ahwatukee\", \"Ahwatukee\", \"Ahwatukee\", \"Ahwatukee\", \"Ahwatukee\", \"Ahwatukee\", \"Amanda\", \"Amanda\", \"Amanda\", \"Amanda\", \"Amanda\", \"Amanda\", \"Angela\", \"Angela\", \"Angela\", \"Angela\", \"Angela\", \"Angela\", \"BMW\", \"BMW\", \"BMW\", \"BMW\", \"BMW\", \"BMW\", \"Bangkok\", \"Bangkok\", \"Bangkok\", \"Bangkok\", \"Bangkok\", \"Bangkok\", \"Bobbie\", \"Bobbie\", \"Bobbie\", \"Bobbie\", \"Bobbie\", \"Bobbie\", \"C.\", \"C.\", \"C.\", \"C.\", \"C.\", \"C.\", \"Cesar\", \"Cesar\", \"Cesar\", \"Cesar\", \"Cesar\", \"Cesar\", \"Charlotte\", \"Charlotte\", \"Charlotte\", \"Charlotte\", \"Charlotte\", \"Charlotte\", \"Chinese\", \"Chinese\", \"Chinese\", \"Chinese\", \"Chinese\", \"Chinese\", \"Customer\", \"Customer\", \"Customer\", \"Customer\", \"Customer\", \"Customer\", \"DR\", \"DR\", \"DR\", \"DR\", \"DR\", \"DR\", \"Daniel\", \"Daniel\", \"Daniel\", \"Daniel\", \"Daniel\", \"Daniel\", \"Dos\", \"Dos\", \"Dos\", \"Dos\", \"Dos\", \"Dos\", \"Dr\", \"Dr\", \"Dr\", \"Dr\", \"Dr\", \"Dr\", \"Drs\", \"Drs\", \"Drs\", \"Drs\", \"Drs\", \"Drs\", \"Easter\", \"Easter\", \"Easter\", \"Easter\", \"Easter\", \"Easter\", \"Eric\", \"Eric\", \"Eric\", \"Eric\", \"Eric\", \"Eric\", \"Friday\", \"Friday\", \"Friday\", \"Friday\", \"Friday\", \"Friday\", \"Goodyear\", \"Goodyear\", \"Goodyear\", \"Goodyear\", \"Goodyear\", \"Goodyear\", \"Guys\", \"Guys\", \"Guys\", \"Guys\", \"Guys\", \"Guys\", \"Hakka\", \"Hakka\", \"Hakka\", \"Hakka\", \"Hakka\", \"Hakka\", \"Heather\", \"Heather\", \"Heather\", \"Heather\", \"Heather\", \"Heather\", \"Hibachi\", \"Hibachi\", \"Hibachi\", \"Hibachi\", \"Hibachi\", \"Hibachi\", \"Hill\", \"Hill\", \"Hill\", \"Hill\", \"Hill\", \"Hill\", \"Holly\", \"Holly\", \"Holly\", \"Holly\", \"Holly\", \"Holly\", \"Jasmine\", \"Jasmine\", \"Jasmine\", \"Jasmine\", \"Jasmine\", \"Jasmine\", \"Jessica\", \"Jessica\", \"Jessica\", \"Jessica\", \"Jessica\", \"Jessica\", \"Judy\", \"Judy\", \"Judy\", \"Judy\", \"Judy\", \"Judy\", \"LV\", \"LV\", \"LV\", \"LV\", \"LV\", \"LV\", \"Las\", \"Las\", \"Las\", \"Las\", \"Las\", \"Las\", \"M.\", \"M.\", \"M.\", \"M.\", \"M.\", \"M.\", \"Margherita\", \"Margherita\", \"Margherita\", \"Margherita\", \"Margherita\", \"Margherita\", \"Matt\", \"Matt\", \"Matt\", \"Matt\", \"Matt\", \"Matt\", \"Michelle\", \"Michelle\", \"Michelle\", \"Michelle\", \"Michelle\", \"Michelle\", \"Mill\", \"Mill\", \"Mill\", \"Mill\", \"Mill\", \"Mill\", \"Mocha\", \"Mocha\", \"Mocha\", \"Mocha\", \"Mocha\", \"Mocha\", \"Nachos\", \"Nachos\", \"Nachos\", \"Nachos\", \"Nachos\", \"Nachos\", \"Nancy\", \"Nancy\", \"Nancy\", \"Nancy\", \"Nancy\", \"Nancy\", \"Ocean\", \"Ocean\", \"Ocean\", \"Ocean\", \"Ocean\", \"Ocean\", \"PA\", \"PA\", \"PA\", \"PA\", \"PA\", \"PA\", \"Tan\", \"Tan\", \"Tan\", \"Tan\", \"Tan\", \"Tan\", \"Thai\", \"Thai\", \"Thai\", \"Thai\", \"Thai\", \"Thai\", \"Tire\", \"Tire\", \"Tire\", \"Tire\", \"Tire\", \"Tire\", \"Westgate\", \"Westgate\", \"Westgate\", \"Westgate\", \"Westgate\", \"Westgate\", \"absolutely\", \"absolutely\", \"absolutely\", \"absolutely\", \"absolutely\", \"absolutely\", \"actually\", \"actually\", \"actually\", \"actually\", \"actually\", \"actually\", \"add\", \"add\", \"add\", \"add\", \"add\", \"add\", \"ago\", \"ago\", \"ago\", \"ago\", \"ago\", \"ago\", \"appetizer\", \"appetizer\", \"appetizer\", \"appetizer\", \"appetizer\", \"appetizer\", \"arrive\", \"arrive\", \"arrive\", \"arrive\", \"arrive\", \"arrive\", \"assess\", \"assess\", \"assess\", \"assess\", \"assess\", \"assess\", \"atmosphere\", \"atmosphere\", \"atmosphere\", \"atmosphere\", \"atmosphere\", \"atmosphere\", \"attach\", \"attach\", \"attach\", \"attach\", \"attach\", \"attach\", \"attempt\", \"attempt\", \"attempt\", \"attempt\", \"attempt\", \"attempt\", \"attention\", \"attention\", \"attention\", \"attention\", \"attention\", \"attention\", \"baklava\", \"baklava\", \"baklava\", \"baklava\", \"baklava\", \"baklava\", \"bartender\", \"bartender\", \"bartender\", \"bartender\", \"bartender\", \"bartender\", \"beautiful\", \"beautiful\", \"beautiful\", \"beautiful\", \"beautiful\", \"beautiful\", \"beef\", \"beef\", \"beef\", \"beef\", \"beef\", \"beef\", \"beer\", \"beer\", \"beer\", \"beer\", \"beer\", \"beer\", \"beginner\", \"beginner\", \"beginner\", \"beginner\", \"beginner\", \"beginner\", \"bite\", \"bite\", \"bite\", \"bite\", \"bite\", \"bite\", \"bland\", \"bland\", \"bland\", \"bland\", \"bland\", \"bland\", \"board\", \"board\", \"board\", \"board\", \"board\", \"board\", \"bomb\", \"bomb\", \"bomb\", \"bomb\", \"bomb\", \"bomb\", \"boring\", \"boring\", \"boring\", \"boring\", \"boring\", \"boring\", \"boyfriend\", \"boyfriend\", \"boyfriend\", \"boyfriend\", \"boyfriend\", \"boyfriend\", \"bread\", \"bread\", \"bread\", \"bread\", \"bread\", \"bread\", \"breakfast\", \"breakfast\", \"breakfast\", \"breakfast\", \"breakfast\", \"breakfast\", \"buffet\", \"buffet\", \"buffet\", \"buffet\", \"buffet\", \"buffet\", \"burger\", \"burger\", \"burger\", \"burger\", \"burger\", \"burger\", \"burrito\", \"burrito\", \"burrito\", \"burrito\", \"burrito\", \"burrito\", \"business\", \"business\", \"business\", \"business\", \"business\", \"business\", \"busy\", \"busy\", \"busy\", \"busy\", \"busy\", \"busy\", \"buy\", \"buy\", \"buy\", \"buy\", \"buy\", \"buy\", \"cabbage\", \"cabbage\", \"cabbage\", \"cabbage\", \"cabbage\", \"cabbage\", \"cafe\", \"cafe\", \"cafe\", \"cafe\", \"cafe\", \"cafe\", \"car\", \"car\", \"car\", \"car\", \"car\", \"car\", \"card\", \"card\", \"card\", \"card\", \"card\", \"card\", \"carry\", \"carry\", \"carry\", \"carry\", \"carry\", \"carry\", \"catch\", \"catch\", \"catch\", \"catch\", \"catch\", \"catch\", \"change\", \"change\", \"change\", \"change\", \"change\", \"change\", \"charge\", \"charge\", \"charge\", \"charge\", \"charge\", \"charge\", \"cheap\", \"cheap\", \"cheap\", \"cheap\", \"cheap\", \"cheap\", \"chip\", \"chip\", \"chip\", \"chip\", \"chip\", \"chip\", \"chronic\", \"chronic\", \"chronic\", \"chronic\", \"chronic\", \"chronic\", \"clam\", \"clam\", \"clam\", \"clam\", \"clam\", \"clam\", \"class\", \"class\", \"class\", \"class\", \"class\", \"class\", \"climbing\", \"climbing\", \"climbing\", \"climbing\", \"climbing\", \"climbing\", \"coffee\", \"coffee\", \"coffee\", \"coffee\", \"coffee\", \"coffee\", \"company\", \"company\", \"company\", \"company\", \"company\", \"company\", \"completely\", \"completely\", \"completely\", \"completely\", \"completely\", \"completely\", \"consistent\", \"consistent\", \"consistent\", \"consistent\", \"consistent\", \"consistent\", \"continue\", \"continue\", \"continue\", \"continue\", \"continue\", \"continue\", \"continuously\", \"continuously\", \"continuously\", \"continuously\", \"continuously\", \"continuously\", \"cook\", \"cook\", \"cook\", \"cook\", \"cook\", \"cook\", \"cool\", \"cool\", \"cool\", \"cool\", \"cool\", \"cool\", \"corner\", \"corner\", \"corner\", \"corner\", \"corner\", \"corner\", \"correct\", \"correct\", \"correct\", \"correct\", \"correct\", \"correct\", \"costly\", \"costly\", \"costly\", \"costly\", \"costly\", \"costly\", \"couple\", \"couple\", \"couple\", \"couple\", \"couple\", \"couple\", \"course\", \"course\", \"course\", \"course\", \"course\", \"course\", \"cream\", \"cream\", \"cream\", \"cream\", \"cream\", \"cream\", \"credit\", \"credit\", \"credit\", \"credit\", \"credit\", \"credit\", \"cut\", \"cut\", \"cut\", \"cut\", \"cut\", \"cut\", \"daddy\", \"daddy\", \"daddy\", \"daddy\", \"daddy\", \"daddy\", \"dash\", \"dash\", \"dash\", \"dash\", \"dash\", \"dash\", \"deal\", \"deal\", \"deal\", \"deal\", \"deal\", \"deal\", \"decor\", \"decor\", \"decor\", \"decor\", \"decor\", \"decor\", \"delivery\", \"delivery\", \"delivery\", \"delivery\", \"delivery\", \"delivery\", \"des\", \"des\", \"des\", \"des\", \"des\", \"des\", \"desert\", \"desert\", \"desert\", \"desert\", \"desert\", \"desert\", \"deserve\", \"deserve\", \"deserve\", \"deserve\", \"deserve\", \"deserve\", \"desk\", \"desk\", \"desk\", \"desk\", \"desk\", \"desk\", \"dessert\", \"dessert\", \"dessert\", \"dessert\", \"dessert\", \"dessert\", \"deter\", \"deter\", \"deter\", \"deter\", \"deter\", \"deter\", \"dig\", \"dig\", \"dig\", \"dig\", \"dig\", \"dig\", \"dinning\", \"dinning\", \"dinning\", \"dinning\", \"dinning\", \"dinning\", \"dismissive\", \"dismissive\", \"dismissive\", \"dismissive\", \"dismissive\", \"dismissive\", \"dive\", \"dive\", \"dive\", \"dive\", \"dive\", \"dive\", \"dog\", \"dog\", \"dog\", \"dog\", \"dog\", \"dog\", \"dollar\", \"dollar\", \"dollar\", \"dollar\", \"dollar\", \"dollar\", \"drive\", \"drive\", \"drive\", \"drive\", \"drive\", \"drive\", \"dye\", \"dye\", \"dye\", \"dye\", \"dye\", \"dye\", \"early\", \"early\", \"early\", \"early\", \"early\", \"early\", \"edible\", \"edible\", \"edible\", \"edible\", \"edible\", \"edible\", \"egg\", \"egg\", \"egg\", \"egg\", \"egg\", \"egg\", \"employ\", \"employ\", \"employ\", \"employ\", \"employ\", \"employ\", \"employee\", \"employee\", \"employee\", \"employee\", \"employee\", \"employee\", \"especially\", \"especially\", \"especially\", \"especially\", \"especially\", \"especially\", \"extremely\", \"extremely\", \"extremely\", \"extremely\", \"extremely\", \"extremely\", \"eyelash\", \"eyelash\", \"eyelash\", \"eyelash\", \"eyelash\", \"eyelash\", \"family\", \"family\", \"family\", \"family\", \"family\", \"family\", \"fantastic\", \"fantastic\", \"fantastic\", \"fantastic\", \"fantastic\", \"fantastic\", \"far\", \"far\", \"far\", \"far\", \"far\", \"far\", \"fast\", \"fast\", \"fast\", \"fast\", \"fast\", \"fast\", \"faucet\", \"faucet\", \"faucet\", \"faucet\", \"faucet\", \"faucet\", \"fav\", \"fav\", \"fav\", \"fav\", \"fav\", \"fav\", \"festival\", \"festival\", \"festival\", \"festival\", \"festival\", \"festival\", \"fine\", \"fine\", \"fine\", \"fine\", \"fine\", \"fine\", \"fingernail\", \"fingernail\", \"fingernail\", \"fingernail\", \"fingernail\", \"fingernail\", \"finish\", \"finish\", \"finish\", \"finish\", \"finish\", \"finish\", \"firmly\", \"firmly\", \"firmly\", \"firmly\", \"firmly\", \"firmly\", \"fish\", \"fish\", \"fish\", \"fish\", \"fish\", \"fish\", \"flank\", \"flank\", \"flank\", \"flank\", \"flank\", \"flank\", \"floor\", \"floor\", \"floor\", \"floor\", \"floor\", \"floor\", \"focused\", \"focused\", \"focused\", \"focused\", \"focused\", \"focused\", \"football\", \"football\", \"football\", \"football\", \"football\", \"football\", \"forget\", \"forget\", \"forget\", \"forget\", \"forget\", \"forget\", \"franchise\", \"franchise\", \"franchise\", \"franchise\", \"franchise\", \"franchise\", \"free\", \"free\", \"free\", \"free\", \"free\", \"free\", \"fun\", \"fun\", \"fun\", \"fun\", \"fun\", \"fun\", \"game\", \"game\", \"game\", \"game\", \"game\", \"game\", \"ganoush\", \"ganoush\", \"ganoush\", \"ganoush\", \"ganoush\", \"ganoush\", \"girl\", \"girl\", \"girl\", \"girl\", \"girl\", \"girl\", \"gnocchi\", \"gnocchi\", \"gnocchi\", \"gnocchi\", \"gnocchi\", \"gnocchi\", \"golden\", \"golden\", \"golden\", \"golden\", \"golden\", \"golden\", \"grilled\", \"grilled\", \"grilled\", \"grilled\", \"grilled\", \"grilled\", \"grit\", \"grit\", \"grit\", \"grit\", \"grit\", \"grit\", \"guard\", \"guard\", \"guard\", \"guard\", \"guard\", \"guard\", \"gumbo\", \"gumbo\", \"gumbo\", \"gumbo\", \"gumbo\", \"gumbo\", \"gun\", \"gun\", \"gun\", \"gun\", \"gun\", \"gun\", \"hair\", \"hair\", \"hair\", \"hair\", \"hair\", \"hair\", \"half\", \"half\", \"half\", \"half\", \"half\", \"half\", \"hand\", \"hand\", \"hand\", \"hand\", \"hand\", \"hand\", \"happen\", \"happen\", \"happen\", \"happen\", \"happen\", \"happen\", \"hard\", \"hard\", \"hard\", \"hard\", \"hard\", \"hard\", \"have\", \"have\", \"have\", \"have\", \"have\", \"have\", \"helpful\", \"helpful\", \"helpful\", \"helpful\", \"helpful\", \"helpful\", \"high\", \"high\", \"high\", \"high\", \"high\", \"high\", \"honest\", \"honest\", \"honest\", \"honest\", \"honest\", \"honest\", \"hope\", \"hope\", \"hope\", \"hope\", \"hope\", \"hope\", \"hopeful\", \"hopeful\", \"hopeful\", \"hopeful\", \"hopeful\", \"hopeful\", \"horrible\", \"horrible\", \"horrible\", \"horrible\", \"horrible\", \"horrible\", \"hospitable\", \"hospitable\", \"hospitable\", \"hospitable\", \"hospitable\", \"hospitable\", \"hotel\", \"hotel\", \"hotel\", \"hotel\", \"hotel\", \"hotel\", \"house\", \"house\", \"house\", \"house\", \"house\", \"house\", \"huge\", \"huge\", \"huge\", \"huge\", \"huge\", \"huge\", \"husband\", \"husband\", \"husband\", \"husband\", \"husband\", \"husband\", \"ice\", \"ice\", \"ice\", \"ice\", \"ice\", \"ice\", \"inside\", \"inside\", \"inside\", \"inside\", \"inside\", \"inside\", \"interesting\", \"interesting\", \"interesting\", \"interesting\", \"interesting\", \"interesting\", \"inviting\", \"inviting\", \"inviting\", \"inviting\", \"inviting\", \"inviting\", \"issue\", \"issue\", \"issue\", \"issue\", \"issue\", \"issue\", \"item\", \"item\", \"item\", \"item\", \"item\", \"item\", \"je\", \"je\", \"je\", \"je\", \"je\", \"je\", \"job\", \"job\", \"job\", \"job\", \"job\", \"job\", \"join\", \"join\", \"join\", \"join\", \"join\", \"join\", \"karaoke\", \"karaoke\", \"karaoke\", \"karaoke\", \"karaoke\", \"karaoke\", \"kid\", \"kid\", \"kid\", \"kid\", \"kid\", \"kid\", \"kind\", \"kind\", \"kind\", \"kind\", \"kind\", \"kind\", \"kitsch\", \"kitsch\", \"kitsch\", \"kitsch\", \"kitsch\", \"kitsch\", \"knife\", \"knife\", \"knife\", \"knife\", \"knife\", \"knife\", \"la\", \"la\", \"la\", \"la\", \"la\", \"la\", \"lap\", \"lap\", \"lap\", \"lap\", \"lap\", \"lap\", \"large\", \"large\", \"large\", \"large\", \"large\", \"large\", \"las\", \"las\", \"las\", \"las\", \"las\", \"lebanese\", \"lebanese\", \"lebanese\", \"lebanese\", \"lebanese\", \"lebanese\", \"libation\", \"libation\", \"libation\", \"libation\", \"libation\", \"light\", \"light\", \"light\", \"light\", \"light\", \"light\", \"line\", \"line\", \"line\", \"line\", \"line\", \"line\", \"list\", \"list\", \"list\", \"list\", \"list\", \"list\", \"live\", \"live\", \"live\", \"live\", \"live\", \"live\", \"lovely\", \"lovely\", \"lovely\", \"lovely\", \"lovely\", \"lovely\", \"luxurious\", \"luxurious\", \"luxurious\", \"luxurious\", \"luxurious\", \"luxurious\", \"mall\", \"mall\", \"mall\", \"mall\", \"mall\", \"mall\", \"man\", \"man\", \"man\", \"man\", \"man\", \"man\", \"manager\", \"manager\", \"manager\", \"manager\", \"manager\", \"manager\", \"manicurist\", \"manicurist\", \"manicurist\", \"manicurist\", \"manicurist\", \"manicurist\", \"mart\", \"mart\", \"mart\", \"mart\", \"mart\", \"mart\", \"matinee\", \"matinee\", \"matinee\", \"matinee\", \"matinee\", \"matinee\", \"maybe\", \"maybe\", \"maybe\", \"maybe\", \"maybe\", \"maybe\", \"maze\", \"maze\", \"maze\", \"maze\", \"maze\", \"maze\", \"meat\", \"meat\", \"meat\", \"meat\", \"meat\", \"meat\", \"mediocre\", \"mediocre\", \"mediocre\", \"mediocre\", \"mediocre\", \"mediocre\", \"meet\", \"meet\", \"meet\", \"meet\", \"meet\", \"meet\", \"mesquite\", \"mesquite\", \"mesquite\", \"mesquite\", \"mesquite\", \"mesquite\", \"milkshake\", \"milkshake\", \"milkshake\", \"milkshake\", \"milkshake\", \"milkshake\", \"mister\", \"mister\", \"mister\", \"mister\", \"mister\", \"mister\", \"mock\", \"mock\", \"mock\", \"mock\", \"mock\", \"mock\", \"money\", \"money\", \"money\", \"money\", \"money\", \"money\", \"month\", \"month\", \"month\", \"month\", \"month\", \"month\", \"mop\", \"mop\", \"mop\", \"mop\", \"mop\", \"mop\", \"move\", \"move\", \"move\", \"move\", \"move\", \"move\", \"msg\", \"msg\", \"msg\", \"msg\", \"msg\", \"msg\", \"nail\", \"nail\", \"nail\", \"nail\", \"nail\", \"nail\", \"near\", \"near\", \"near\", \"near\", \"near\", \"near\", \"neighbor\", \"neighbor\", \"neighbor\", \"neighbor\", \"neighbor\", \"neighbor\", \"nicely\", \"nicely\", \"nicely\", \"nicely\", \"nicely\", \"nicely\", \"noodle\", \"noodle\", \"noodle\", \"noodle\", \"noodle\", \"noodle\", \"novel\", \"novel\", \"novel\", \"novel\", \"novel\", \"novel\", \"occasion\", \"occasion\", \"occasion\", \"occasion\", \"occasion\", \"occasion\", \"office\", \"office\", \"office\", \"office\", \"office\", \"office\", \"oil\", \"oil\", \"oil\", \"oil\", \"oil\", \"oil\", \"ok\", \"ok\", \"ok\", \"ok\", \"ok\", \"ok\", \"old\", \"old\", \"old\", \"old\", \"old\", \"old\", \"option\", \"option\", \"option\", \"option\", \"option\", \"option\", \"optometrist\", \"optometrist\", \"optometrist\", \"optometrist\", \"optometrist\", \"optometrist\", \"owner\", \"owner\", \"owner\", \"owner\", \"owner\", \"owner\", \"pack\", \"pack\", \"pack\", \"pack\", \"pack\", \"pack\", \"past\", \"past\", \"past\", \"past\", \"past\", \"past\", \"pastor\", \"pastor\", \"pastor\", \"pastor\", \"pastor\", \"pastor\", \"patio\", \"patio\", \"patio\", \"patio\", \"patio\", \"patio\", \"perfect\", \"perfect\", \"perfect\", \"perfect\", \"perfect\", \"perfect\", \"perfection\", \"perfection\", \"perfection\", \"perfection\", \"perfection\", \"perfection\", \"person\", \"person\", \"person\", \"person\", \"person\", \"person\", \"personally\", \"personally\", \"personally\", \"personally\", \"personally\", \"personally\", \"phone\", \"phone\", \"phone\", \"phone\", \"phone\", \"phone\", \"pick\", \"pick\", \"pick\", \"pick\", \"pick\", \"pick\", \"pizza\", \"pizza\", \"pizza\", \"pizza\", \"pizza\", \"pizza\", \"plate\", \"plate\", \"plate\", \"plate\", \"plate\", \"plate\", \"pleasant\", \"pleasant\", \"pleasant\", \"pleasant\", \"pleasant\", \"pleasant\", \"point\", \"point\", \"point\", \"point\", \"point\", \"point\", \"poisoning\", \"poisoning\", \"poisoning\", \"poisoning\", \"poisoning\", \"poisoning\", \"poker\", \"poker\", \"poker\", \"poker\", \"poker\", \"poker\", \"polish\", \"polish\", \"polish\", \"polish\", \"polish\", \"polish\", \"pool\", \"pool\", \"pool\", \"pool\", \"pool\", \"pool\", \"portion\", \"portion\", \"portion\", \"portion\", \"portion\", \"portion\", \"possible\", \"possible\", \"possible\", \"possible\", \"possible\", \"possible\", \"potato\", \"potato\", \"potato\", \"potato\", \"potato\", \"potato\", \"potential\", \"potential\", \"potential\", \"potential\", \"potential\", \"potential\", \"preface\", \"preface\", \"preface\", \"preface\", \"preface\", \"preface\", \"probably\", \"probably\", \"probably\", \"probably\", \"probably\", \"probably\", \"problem\", \"problem\", \"problem\", \"problem\", \"problem\", \"problem\", \"procedure\", \"procedure\", \"procedure\", \"procedure\", \"procedure\", \"procedure\", \"product\", \"product\", \"product\", \"product\", \"product\", \"product\", \"provider\", \"provider\", \"provider\", \"provider\", \"provider\", \"provider\", \"question\", \"question\", \"question\", \"question\", \"question\", \"question\", \"quick\", \"quick\", \"quick\", \"quick\", \"quick\", \"quick\", \"racist\", \"racist\", \"racist\", \"racist\", \"racist\", \"racist\", \"randomly\", \"randomly\", \"randomly\", \"randomly\", \"randomly\", \"randomly\", \"rate\", \"rate\", \"rate\", \"rate\", \"rate\", \"rate\", \"real\", \"real\", \"real\", \"real\", \"real\", \"real\", \"reason\", \"reason\", \"reason\", \"reason\", \"reason\", \"reason\", \"recomend\", \"recomend\", \"recomend\", \"recomend\", \"recomend\", \"relaxing\", \"relaxing\", \"relaxing\", \"relaxing\", \"relaxing\", \"relaxing\", \"remember\", \"remember\", \"remember\", \"remember\", \"remember\", \"remember\", \"repair\", \"repair\", \"repair\", \"repair\", \"repair\", \"repair\", \"representation\", \"representation\", \"representation\", \"representation\", \"representation\", \"representation\", \"representative\", \"representative\", \"representative\", \"representative\", \"representative\", \"representative\", \"resource\", \"resource\", \"resource\", \"resource\", \"resource\", \"resource\", \"rice\", \"rice\", \"rice\", \"rice\", \"rice\", \"rice\", \"roll\", \"roll\", \"roll\", \"roll\", \"roll\", \"roll\", \"rub\", \"rub\", \"rub\", \"rub\", \"rub\", \"rub\", \"run\", \"run\", \"run\", \"run\", \"run\", \"run\", \"sale\", \"sale\", \"sale\", \"sale\", \"sale\", \"sale\", \"salesperson\", \"salesperson\", \"salesperson\", \"salesperson\", \"salesperson\", \"salesperson\", \"salon\", \"salon\", \"salon\", \"salon\", \"salon\", \"salon\", \"salsa\", \"salsa\", \"salsa\", \"salsa\", \"salsa\", \"salsa\", \"sandwich\", \"sandwich\", \"sandwich\", \"sandwich\", \"sandwich\", \"sandwich\", \"sashimi\", \"sashimi\", \"sashimi\", \"sashimi\", \"sashimi\", \"sashimi\", \"scorpion\", \"scorpion\", \"scorpion\", \"scorpion\", \"scorpion\", \"scorpion\", \"season\", \"season\", \"season\", \"season\", \"season\", \"season\", \"seat\", \"seat\", \"seat\", \"seat\", \"seat\", \"seat\", \"second\", \"second\", \"second\", \"second\", \"second\", \"second\", \"selection\", \"selection\", \"selection\", \"selection\", \"selection\", \"selection\", \"sell\", \"sell\", \"sell\", \"sell\", \"sell\", \"sell\", \"send\", \"send\", \"send\", \"send\", \"send\", \"send\", \"set\", \"set\", \"set\", \"set\", \"set\", \"set\", \"shitty\", \"shitty\", \"shitty\", \"shitty\", \"shitty\", \"shitty\", \"shop\", \"shop\", \"shop\", \"shop\", \"shop\", \"shop\", \"shrimp\", \"shrimp\", \"shrimp\", \"shrimp\", \"shrimp\", \"shrimp\", \"signature\", \"signature\", \"signature\", \"signature\", \"signature\", \"signature\", \"simple\", \"simple\", \"simple\", \"simple\", \"simple\", \"simple\", \"sitting\", \"sitting\", \"sitting\", \"sitting\", \"sitting\", \"sitting\", \"slow\", \"slow\", \"slow\", \"slow\", \"slow\", \"slow\", \"smog\", \"smog\", \"smog\", \"smog\", \"smog\", \"smog\", \"smoothie\", \"smoothie\", \"smoothie\", \"smoothie\", \"smoothie\", \"smoothie\", \"soup\", \"soup\", \"soup\", \"soup\", \"soup\", \"soup\", \"spend\", \"spend\", \"spend\", \"spend\", \"spend\", \"spend\", \"spicy\", \"spicy\", \"spicy\", \"spicy\", \"spicy\", \"spicy\", \"spot\", \"spot\", \"spot\", \"spot\", \"spot\", \"spot\", \"stay\", \"stay\", \"stay\", \"stay\", \"stay\", \"stay\", \"stew\", \"stew\", \"stew\", \"stew\", \"stew\", \"stew\", \"store\", \"store\", \"store\", \"store\", \"store\", \"store\", \"stranger\", \"stranger\", \"stranger\", \"stranger\", \"stranger\", \"stranger\", \"stretch\", \"stretch\", \"stretch\", \"stretch\", \"stretch\", \"stretch\", \"stuck\", \"stuck\", \"stuck\", \"stuck\", \"stuck\", \"stuck\", \"substitute\", \"substitute\", \"substitute\", \"substitute\", \"substitute\", \"substitute\", \"suburb\", \"suburb\", \"suburb\", \"suburb\", \"suburb\", \"suburb\", \"surely\", \"surely\", \"surely\", \"surely\", \"surely\", \"surely\", \"surgery\", \"surgery\", \"surgery\", \"surgery\", \"surgery\", \"surgery\", \"sushi\", \"sushi\", \"sushi\", \"sushi\", \"sushi\", \"sushi\", \"switch\", \"switch\", \"switch\", \"switch\", \"switch\", \"switch\", \"system\", \"system\", \"system\", \"system\", \"system\", \"system\", \"tab\", \"tab\", \"tab\", \"tab\", \"tab\", \"tab\", \"taco\", \"taco\", \"taco\", \"taco\", \"taco\", \"taco\", \"tai\", \"tai\", \"tai\", \"tai\", \"tai\", \"tai\", \"talk\", \"talk\", \"talk\", \"talk\", \"talk\", \"talk\", \"tan\", \"tan\", \"tan\", \"tan\", \"tan\", \"tan\", \"tastey\", \"tastey\", \"tastey\", \"tasty\", \"tasty\", \"tasty\", \"tasty\", \"tasty\", \"tasty\", \"tattoo\", \"tattoo\", \"tattoo\", \"tattoo\", \"tattoo\", \"tattoo\", \"taxi\", \"taxi\", \"taxi\", \"taxi\", \"taxi\", \"taxi\", \"thai\", \"thai\", \"thai\", \"thai\", \"thai\", \"thai\", \"theatre\", \"theatre\", \"theatre\", \"theatre\", \"theatre\", \"theatre\", \"thorough\", \"thorough\", \"thorough\", \"thorough\", \"thorough\", \"thorough\", \"tiger\", \"tiger\", \"tiger\", \"tiger\", \"tiger\", \"tiger\", \"timer\", \"timer\", \"timer\", \"timer\", \"timer\", \"timer\", \"timing\", \"timing\", \"timing\", \"timing\", \"timing\", \"timing\", \"tonight\", \"tonight\", \"tonight\", \"tonight\", \"tonight\", \"tonight\", \"tostada\", \"tostada\", \"tostada\", \"tostada\", \"tostada\", \"tostada\", \"tour\", \"tour\", \"tour\", \"tour\", \"tour\", \"tour\", \"tow\", \"tow\", \"tow\", \"tow\", \"tow\", \"tow\", \"toy\", \"toy\", \"toy\", \"toy\", \"toy\", \"toy\", \"treatment\", \"treatment\", \"treatment\", \"treatment\", \"treatment\", \"treatment\", \"tripe\", \"tripe\", \"tripe\", \"tripe\", \"tripe\", \"tripe\", \"trouble\", \"trouble\", \"trouble\", \"trouble\", \"trouble\", \"trouble\", \"unbelievable\", \"unbelievable\", \"unbelievable\", \"unbelievable\", \"unbelievable\", \"unbelievable\", \"understand\", \"understand\", \"understand\", \"understand\", \"understand\", \"understand\", \"unfamiliar\", \"unfamiliar\", \"unfamiliar\", \"unfamiliar\", \"unfamiliar\", \"unfamiliar\", \"update\", \"update\", \"update\", \"update\", \"update\", \"update\", \"upsetting\", \"upsetting\", \"upsetting\", \"upsetting\", \"upsetting\", \"upsetting\", \"use\", \"use\", \"use\", \"use\", \"use\", \"use\", \"usually\", \"usually\", \"usually\", \"usually\", \"usually\", \"usually\", \"variety\", \"variety\", \"variety\", \"variety\", \"variety\", \"variety\", \"vegas\", \"vegas\", \"vegas\", \"vegas\", \"vegas\", \"vegas\", \"vet\", \"vet\", \"vet\", \"vet\", \"vet\", \"vet\", \"vinyl\", \"vinyl\", \"vinyl\", \"vinyl\", \"vinyl\", \"vinyl\", \"waffle\", \"waffle\", \"waffle\", \"waffle\", \"waffle\", \"waffle\", \"waiter\", \"waiter\", \"waiter\", \"waiter\", \"waiter\", \"waiter\", \"waitress\", \"waitress\", \"waitress\", \"waitress\", \"waitress\", \"waitress\", \"warm\", \"warm\", \"warm\", \"warm\", \"warm\", \"warm\", \"wary\", \"wary\", \"wary\", \"wary\", \"wary\", \"wary\", \"weekend\", \"weekend\", \"weekend\", \"weekend\", \"weekend\", \"weekend\", \"western\", \"western\", \"western\", \"western\", \"western\", \"western\", \"wine\", \"wine\", \"wine\", \"wine\", \"wine\", \"wine\", \"wonderful\", \"wonderful\", \"wonderful\", \"wonderful\", \"wonderful\", \"wonderful\", \"wrong\", \"wrong\", \"wrong\", \"wrong\", \"wrong\", \"wrong\", \"yoga\", \"yoga\", \"yoga\", \"yoga\", \"yoga\", \"yoga\"]}, \"R\": 30, \"lambda.step\": 0.01, \"plot.opts\": {\"xlab\": \"PC1\", \"ylab\": \"PC2\"}, \"topic.order\": [6, 4, 5, 1, 2, 3]};\n",
       "\n",
       "function LDAvis_load_lib(url, callback){\n",
       "  var s = document.createElement('script');\n",
       "  s.src = url;\n",
       "  s.async = true;\n",
       "  s.onreadystatechange = s.onload = callback;\n",
       "  s.onerror = function(){console.warn(\"failed to load library \" + url);};\n",
       "  document.getElementsByTagName(\"head\")[0].appendChild(s);\n",
       "}\n",
       "\n",
       "if(typeof(LDAvis) !== \"undefined\"){\n",
       "   // already loaded: just create the visualization\n",
       "   !function(LDAvis){\n",
       "       new LDAvis(\"#\" + \"ldavis_el67221226140813603668809431\", ldavis_el67221226140813603668809431_data);\n",
       "   }(LDAvis);\n",
       "}else if(typeof define === \"function\" && define.amd){\n",
       "   // require.js is available: use it to load d3/LDAvis\n",
       "   require.config({paths: {d3: \"https://cdnjs.cloudflare.com/ajax/libs/d3/3.5.5/d3.min\"}});\n",
       "   require([\"d3\"], function(d3){\n",
       "      window.d3 = d3;\n",
       "      LDAvis_load_lib(\"https://cdn.rawgit.com/bmabey/pyLDAvis/files/ldavis.v1.0.0.js\", function(){\n",
       "        new LDAvis(\"#\" + \"ldavis_el67221226140813603668809431\", ldavis_el67221226140813603668809431_data);\n",
       "      });\n",
       "    });\n",
       "}else{\n",
       "    // require.js not available: dynamically load d3 & LDAvis\n",
       "    LDAvis_load_lib(\"https://cdnjs.cloudflare.com/ajax/libs/d3/3.5.5/d3.min.js\", function(){\n",
       "         LDAvis_load_lib(\"https://cdn.rawgit.com/bmabey/pyLDAvis/files/ldavis.v1.0.0.js\", function(){\n",
       "                 new LDAvis(\"#\" + \"ldavis_el67221226140813603668809431\", ldavis_el67221226140813603668809431_data);\n",
       "            })\n",
       "         });\n",
       "}\n",
       "</script>"
      ],
      "text/plain": [
       "PreparedData(topic_coordinates=              x         y  topics  cluster       Freq\n",
       "topic                                                \n",
       "5      0.000836  0.006377       1        1  16.918194\n",
       "3     -0.004867  0.001271       2        1  16.727600\n",
       "4      0.006892 -0.001014       3        1  16.660599\n",
       "0     -0.002937 -0.002389       4        1  16.635979\n",
       "1      0.000195  0.001031       5        1  16.554945\n",
       "2     -0.000119 -0.005277       6        1  16.502676, topic_info=     Category        Freq        Term       Total  loglift  logprob\n",
       "608   Default  645.000000      burger  645.000000  30.0000  30.0000\n",
       "812   Default  619.000000      coffee  619.000000  29.0000  29.0000\n",
       "524   Default  812.000000       store  812.000000  28.0000  28.0000\n",
       "414   Default  548.000000     perfect  548.000000  27.0000  27.0000\n",
       "219   Default  436.000000         cut  436.000000  26.0000  26.0000\n",
       "644   Default  565.000000    sandwich  565.000000  25.0000  25.0000\n",
       "328   Default  539.000000        roll  539.000000  24.0000  24.0000\n",
       "89    Default  293.000000      noodle  293.000000  23.0000  23.0000\n",
       "719   Default  509.000000         use  509.000000  22.0000  22.0000\n",
       "370   Default  527.000000      family  527.000000  21.0000  21.0000\n",
       "206   Default  467.000000    waitress  467.000000  20.0000  20.0000\n",
       "504   Default  481.000000       sushi  481.000000  19.0000  19.0000\n",
       "799   Default  378.000000         dog  378.000000  18.0000  18.0000\n",
       "514   Default  488.000000        deal  488.000000  17.0000  17.0000\n",
       "727   Default  271.000000        pool  271.000000  16.0000  16.0000\n",
       "246   Default  765.000000       pizza  765.000000  15.0000  15.0000\n",
       "532   Default  686.000000         car  686.000000  14.0000  14.0000\n",
       "1648  Default  434.000000       house  434.000000  13.0000  13.0000\n",
       "7     Default  373.000000     company  373.000000  12.0000  12.0000\n",
       "53    Default  605.000000        line  605.000000  11.0000  11.0000\n",
       "1138  Default  260.000000    remember  260.000000  10.0000  10.0000\n",
       "1299  Default  486.000000       hotel  486.000000   9.0000   9.0000\n",
       "182   Default  360.000000        nail  360.000000   8.0000   8.0000\n",
       "1811  Default  307.000000      office  307.000000   7.0000   7.0000\n",
       "298   Default  246.000000    horrible  246.000000   6.0000   6.0000\n",
       "51    Default  465.000000         kid  465.000000   5.0000   5.0000\n",
       "789   Default   85.000000      polish   85.000000   4.0000   4.0000\n",
       "495   Default  464.000000         ice  464.000000   3.0000   3.0000\n",
       "464   Default  601.000000        beer  601.000000   2.0000   2.0000\n",
       "407   Default  317.000000        girl  317.000000   1.0000   1.0000\n",
       "...       ...         ...         ...         ...      ...      ...\n",
       "2299   Topic6   36.430019      honest  153.944824   0.3604  -7.1364\n",
       "136    Topic6   26.783480  perfection  109.895332   0.3899  -7.4440\n",
       "401    Topic6   92.665062      couple  438.611542   0.2470  -6.2028\n",
       "1552   Topic6   71.734833      finish  331.204590   0.2719  -6.4588\n",
       "324    Topic6   59.841953    question  270.220032   0.2941  -6.6401\n",
       "45     Topic6   95.625717        fast  460.585693   0.2296  -6.1713\n",
       "93     Topic6  102.153053        soup  499.069489   0.2154  -6.1053\n",
       "516    Topic6  115.613983        free  579.823608   0.1892  -5.9815\n",
       "170    Topic6   93.135429         far  454.486389   0.2165  -6.1977\n",
       "492    Topic6  109.122978       cream  546.950684   0.1898  -6.0393\n",
       "524    Topic6  150.632660       store  812.478394   0.1164  -5.7169\n",
       "152    Topic6  103.760948        busy  521.653564   0.1867  -6.0897\n",
       "373    Topic6   99.013992         job  497.196045   0.1879  -6.1365\n",
       "532    Topic6  128.042435         car  686.201111   0.1228  -5.8794\n",
       "1243   Topic6   85.330612        half  420.816589   0.2060  -6.2852\n",
       "174    Topic6   95.271828        high  489.183838   0.1656  -6.1750\n",
       "815    Topic6   79.789543         egg  385.630646   0.2262  -6.3524\n",
       "587    Topic6  102.132439        item  555.753967   0.1076  -6.1055\n",
       "456    Topic6   83.731255         run  417.265015   0.1955  -6.3042\n",
       "864    Topic6   85.427849        taco  443.946655   0.1536  -6.2841\n",
       "518    Topic6   97.864586       large  553.579285   0.0688  -6.1482\n",
       "464    Topic6   99.445625        beer  601.566772   0.0017  -6.1322\n",
       "82     Topic6   92.153519     dessert  525.976929   0.0598  -6.2083\n",
       "191    Topic6   94.108727        shop  552.737671   0.0312  -6.1873\n",
       "155    Topic6  100.239845        meat  649.434265  -0.0669  -6.1242\n",
       "90     Topic6   94.896004        seat  596.623901  -0.0369  -6.1790\n",
       "65     Topic6   95.901131        stay  649.869385  -0.1118  -6.1685\n",
       "241    Topic6   91.232819      option  598.772339  -0.0798  -6.2184\n",
       "608    Topic6   90.829086      burger  645.817444  -0.1599  -6.2228\n",
       "34     Topic6   86.432579         buy  487.093842   0.0726  -6.2724\n",
       "\n",
       "[521 rows x 6 columns], token_table=      Topic      Freq       Term\n",
       "term                            \n",
       "5884      1  0.128287         =)\n",
       "5884      2  0.128287         =)\n",
       "5884      3  0.128287         =)\n",
       "5884      4  0.128287         =)\n",
       "5884      5  0.128287         =)\n",
       "5884      6  0.256574         =)\n",
       "3351      1  0.166314       Adam\n",
       "3351      2  0.166314       Adam\n",
       "3351      3  0.166314       Adam\n",
       "3351      4  0.166314       Adam\n",
       "3351      5  0.083157       Adam\n",
       "3351      6  0.249471       Adam\n",
       "4481      1  0.196917  Ahwatukee\n",
       "4481      2  0.196917  Ahwatukee\n",
       "4481      3  0.196917  Ahwatukee\n",
       "4481      4  0.393834  Ahwatukee\n",
       "4481      5  0.196917  Ahwatukee\n",
       "4481      6  0.196917  Ahwatukee\n",
       "4107      1  0.076622     Amanda\n",
       "4107      2  0.153244     Amanda\n",
       "4107      3  0.306488     Amanda\n",
       "4107      4  0.153244     Amanda\n",
       "4107      5  0.153244     Amanda\n",
       "4107      6  0.153244     Amanda\n",
       "949       1  0.101478     Angela\n",
       "949       2  0.101478     Angela\n",
       "949       3  0.101478     Angela\n",
       "949       4  0.304434     Angela\n",
       "949       5  0.101478     Angela\n",
       "949       6  0.101478     Angela\n",
       "...     ...       ...        ...\n",
       "1611      1  0.137377    western\n",
       "1611      2  0.274754    western\n",
       "1611      3  0.137377    western\n",
       "1611      4  0.068689    western\n",
       "1611      5  0.137377    western\n",
       "1611      6  0.206066    western\n",
       "197       1  0.214957       wine\n",
       "197       2  0.140993       wine\n",
       "197       3  0.219580       wine\n",
       "197       4  0.131748       wine\n",
       "197       5  0.161795       wine\n",
       "197       6  0.131748       wine\n",
       "441       1  0.209359  wonderful\n",
       "441       2  0.194040  wonderful\n",
       "441       3  0.099573  wonderful\n",
       "441       4  0.158296  wonderful\n",
       "441       5  0.153190  wonderful\n",
       "441       6  0.186381  wonderful\n",
       "526       1  0.195355      wrong\n",
       "526       2  0.102186      wrong\n",
       "526       3  0.171311      wrong\n",
       "526       4  0.111202      wrong\n",
       "526       5  0.210382      wrong\n",
       "526       6  0.210382      wrong\n",
       "4678      1  0.284856       yoga\n",
       "4678      2  0.158253       yoga\n",
       "4678      3  0.158253       yoga\n",
       "4678      4  0.126603       yoga\n",
       "4678      5  0.126603       yoga\n",
       "4678      6  0.126603       yoga\n",
       "\n",
       "[2232 rows x 3 columns], R=30, lambda_step=0.01, plot_opts={'xlab': 'PC1', 'ylab': 'PC2'}, topic_order=[6, 4, 5, 1, 2, 3])"
      ]
     },
     "execution_count": 40,
     "metadata": {},
     "output_type": "execute_result"
    }
   ],
   "source": [
    "# Plot 2-dimensional projection of topics.\n",
    "pyLDAvis.gensim.prepare(lda, corpus, id2word)"
   ]
  },
  {
   "cell_type": "code",
   "execution_count": 41,
   "metadata": {},
   "outputs": [],
   "source": [
    "# Define weightings for top ten words in each topic.\n",
    "weights = [[float(f) for f in re.findall(r'([\\d.]{5})', topic[1])] \\\n",
    "           for topic in lda.print_topics()]"
   ]
  },
  {
   "cell_type": "code",
   "execution_count": 42,
   "metadata": {},
   "outputs": [
    {
     "data": {
      "image/png": "[encoded data removed]",
      "text/plain": [
       "<Figure size 432x288 with 1 Axes>"
      ]
     },
     "metadata": {
      "needs_background": "light"
     },
     "output_type": "display_data"
    }
   ],
   "source": [
    "# Plot top 10 words for topic 1.\n",
    "squarify.plot(sizes=weights[0], label=words[0], alpha=0.8)\n",
    "plt.axis('off')\n",
    "plt.title('Topic 1 - Top 10 Words')\n",
    "plt.show()"
   ]
  },
  {
   "cell_type": "code",
   "execution_count": 43,
   "metadata": {},
   "outputs": [
    {
     "data": {
      "image/png": "[encoded data removed]",
      "text/plain": [
       "<Figure size 432x288 with 1 Axes>"
      ]
     },
     "metadata": {
      "needs_background": "light"
     },
     "output_type": "display_data"
    }
   ],
   "source": [
    "#Plot top 10 words for topic 3.\n",
    "squarify.plot(sizes=weights[2], label=words[2], alpha=0.8)\n",
    "plt.axis('off')\n",
    "plt.title('Topic 3 - Top 10 Words')\n",
    "plt.show()"
   ]
  },
  {
   "cell_type": "markdown",
   "metadata": {},
   "source": [
    "### Analysis of Topic Model\n",
    "\n",
    "In markdown, write 1-2 paragraphs of analysis on the results of your topic model."
   ]
  },
  {
   "cell_type": "markdown",
   "metadata": {},
   "source": [
    "This topic model is pretty worthless, honestly. They look distinct on the \n",
    "intertopic distance visualization, but the top 10 word lists don't provide \n",
    "a clear differentiation between each.\n",
    "\n",
    "It's not immediately clear which topics have more positive or negative \n",
    "reviews, and it looks like all of topics are being swamped by food and/or\n",
    "restaurant reviews, which are in a sense \"drowning out\" the other reviews \n",
    "in the dataset."
   ]
  },
  {
   "cell_type": "markdown",
   "metadata": {},
   "source": [
    "## Stretch Goals\n",
    "\n",
    "Complete one of more of these to push your score towards a three: \n",
    "* Incorporate named entity recognition into your analysis\n",
    "* Compare vectorization methods in the classification section\n",
    "* Analyze more (or all) of the yelp dataset - this one is v. hard. \n",
    "* Use a generator object on the reviews file - this would help you with the analyzing the whole dataset.\n",
    "* Incorporate any of the other yelp dataset entities in your analysis (business, users, etc.)"
   ]
  },
  {
   "cell_type": "code",
   "execution_count": null,
   "metadata": {},
   "outputs": [],
   "source": []
  }
 ],
 "metadata": {
  "kernelspec": {
   "display_name": "Python 3",
   "language": "python",
   "name": "python3"
  },
  "language_info": {
   "codemirror_mode": {
    "name": "ipython",
    "version": 3
   },
   "file_extension": ".py",
   "mimetype": "text/x-python",
   "name": "python",
   "nbconvert_exporter": "python",
   "pygments_lexer": "ipython3",
   "version": "3.7.3"
  },
  "toc-autonumbering": false
 },
 "nbformat": 4,
 "nbformat_minor": 2
}
