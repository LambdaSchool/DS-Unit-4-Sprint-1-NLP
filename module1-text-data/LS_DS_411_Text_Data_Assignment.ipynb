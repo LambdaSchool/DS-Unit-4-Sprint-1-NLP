{
 "cells": [
  {
   "cell_type": "markdown",
   "metadata": {},
   "source": [
    "<img align=\"left\" src=\"https://lever-client-logos.s3.amazonaws.com/864372b1-534c-480e-acd5-9711f850815c-1524247202159.png\" width=200>\n",
    "<br></br>\n",
    "<br></br>\n",
    "\n",
    "# Natural Language Processing (NLP)\n",
    "## *Data Science Unit 4 Sprint 1 Assignment 1*\n",
    "\n",
    "Your goal in this assignment: find the attributes of the best & worst coffee shops in the dataset. The text is fairly raw: dates in the review, extra words in the `star_rating` column, etc. You'll probably want to clean that stuff up for a better analysis. \n",
    "\n",
    "Analyze the corpus of text using text visualizations of token frequency. Try cleaning the data as much as possible. Try the following techniques: \n",
    "- Lemmatization\n",
    "- Custom stopword removal\n",
    "\n",
    "Keep in mind the attributes of good tokens. Once you have a solid baseline, layer in the star rating in your visualization(s). Key part of this assignment - produce a write-up of the attributes of the best and worst coffee shops. Based on your analysis, what makes the best the best and the worst the worst. Use graphs and numbesr from your analysis to support your conclusions. There should be plenty of markdown cells! :coffee:"
   ]
  },
  {
   "cell_type": "code",
   "execution_count": null,
   "metadata": {},
   "outputs": [],
   "source": [
    "from IPython.display import YouTubeVideo\n",
    "\n",
    "YouTubeVideo('Jml7NVYm8cs')"
   ]
  },
  {
   "cell_type": "code",
   "execution_count": null,
   "metadata": {},
   "outputs": [],
   "source": [
    "%pwd"
   ]
  },
  {
   "cell_type": "code",
   "execution_count": 1,
   "metadata": {},
   "outputs": [
    {
     "data": {
      "text/html": [
       "<div>\n",
       "<style scoped>\n",
       "    .dataframe tbody tr th:only-of-type {\n",
       "        vertical-align: middle;\n",
       "    }\n",
       "\n",
       "    .dataframe tbody tr th {\n",
       "        vertical-align: top;\n",
       "    }\n",
       "\n",
       "    .dataframe thead th {\n",
       "        text-align: right;\n",
       "    }\n",
       "</style>\n",
       "<table border=\"1\" class=\"dataframe\">\n",
       "  <thead>\n",
       "    <tr style=\"text-align: right;\">\n",
       "      <th></th>\n",
       "      <th>coffee_shop_name</th>\n",
       "      <th>full_review_text</th>\n",
       "      <th>star_rating</th>\n",
       "    </tr>\n",
       "  </thead>\n",
       "  <tbody>\n",
       "    <tr>\n",
       "      <th>0</th>\n",
       "      <td>The Factory - Cafe With a Soul</td>\n",
       "      <td>11/25/2016 1 check-in Love love loved the atm...</td>\n",
       "      <td>5.0 star rating</td>\n",
       "    </tr>\n",
       "    <tr>\n",
       "      <th>1</th>\n",
       "      <td>The Factory - Cafe With a Soul</td>\n",
       "      <td>12/2/2016 Listed in Date Night: Austin, Ambia...</td>\n",
       "      <td>4.0 star rating</td>\n",
       "    </tr>\n",
       "    <tr>\n",
       "      <th>2</th>\n",
       "      <td>The Factory - Cafe With a Soul</td>\n",
       "      <td>11/30/2016 1 check-in Listed in Brunch Spots ...</td>\n",
       "      <td>4.0 star rating</td>\n",
       "    </tr>\n",
       "    <tr>\n",
       "      <th>3</th>\n",
       "      <td>The Factory - Cafe With a Soul</td>\n",
       "      <td>11/25/2016 Very cool decor! Good drinks Nice ...</td>\n",
       "      <td>2.0 star rating</td>\n",
       "    </tr>\n",
       "    <tr>\n",
       "      <th>4</th>\n",
       "      <td>The Factory - Cafe With a Soul</td>\n",
       "      <td>12/3/2016 1 check-in They are located within ...</td>\n",
       "      <td>4.0 star rating</td>\n",
       "    </tr>\n",
       "  </tbody>\n",
       "</table>\n",
       "</div>"
      ],
      "text/plain": [
       "                  coffee_shop_name  \\\n",
       "0  The Factory - Cafe With a Soul    \n",
       "1  The Factory - Cafe With a Soul    \n",
       "2  The Factory - Cafe With a Soul    \n",
       "3  The Factory - Cafe With a Soul    \n",
       "4  The Factory - Cafe With a Soul    \n",
       "\n",
       "                                    full_review_text        star_rating  \n",
       "0   11/25/2016 1 check-in Love love loved the atm...   5.0 star rating   \n",
       "1   12/2/2016 Listed in Date Night: Austin, Ambia...   4.0 star rating   \n",
       "2   11/30/2016 1 check-in Listed in Brunch Spots ...   4.0 star rating   \n",
       "3   11/25/2016 Very cool decor! Good drinks Nice ...   2.0 star rating   \n",
       "4   12/3/2016 1 check-in They are located within ...   4.0 star rating   "
      ]
     },
     "execution_count": 1,
     "metadata": {},
     "output_type": "execute_result"
    }
   ],
   "source": [
    "import pandas as pd\n",
    "\n",
    "url = \"https://raw.githubusercontent.com/LambdaSchool/DS-Unit-4-Sprint-1-NLP/master/module1-text-data/data/yelp_coffeeshop_review_data.csv\"\n",
    "\n",
    "shops = pd.read_csv(url)\n",
    "shops.head()"
   ]
  },
  {
   "cell_type": "code",
   "execution_count": 2,
   "metadata": {},
   "outputs": [],
   "source": [
    "import re\n",
    "\n",
    "def remove_date(doc):\n",
    "    pattern=r\"[ ](0?[1-9]|1[0-2])/(0?[1-9]|1[0-9]|2[0-9]|3[01])/\\d{4}[ ]\"\n",
    "    result = re.sub(pattern, '', doc)\n",
    "    return result\n",
    "\n",
    "\n",
    "def remove_star_rating(doc):\n",
    "    return int(float(doc.split('star rating')[0][1:4]))\n",
    "\n",
    "\n",
    "def remove_checkin(token_list):\n",
    "    if token_list[1] in [\"check-in\", \"check-ins\"]:\n",
    "        token_list = token_list[2:]\n",
    "    return token_list\n",
    "\n",
    "\n",
    "shops['full_review_text'] = shops['full_review_text'].apply(remove_date)"
   ]
  },
  {
   "cell_type": "code",
   "execution_count": 3,
   "metadata": {},
   "outputs": [
    {
     "data": {
      "text/html": [
       "<div>\n",
       "<style scoped>\n",
       "    .dataframe tbody tr th:only-of-type {\n",
       "        vertical-align: middle;\n",
       "    }\n",
       "\n",
       "    .dataframe tbody tr th {\n",
       "        vertical-align: top;\n",
       "    }\n",
       "\n",
       "    .dataframe thead th {\n",
       "        text-align: right;\n",
       "    }\n",
       "</style>\n",
       "<table border=\"1\" class=\"dataframe\">\n",
       "  <thead>\n",
       "    <tr style=\"text-align: right;\">\n",
       "      <th></th>\n",
       "      <th>coffee_shop_name</th>\n",
       "      <th>full_review_text</th>\n",
       "      <th>star_rating</th>\n",
       "    </tr>\n",
       "  </thead>\n",
       "  <tbody>\n",
       "    <tr>\n",
       "      <th>0</th>\n",
       "      <td>The Factory - Cafe With a Soul</td>\n",
       "      <td>1 check-in Love love loved the atmosphere! Eve...</td>\n",
       "      <td>5.0 star rating</td>\n",
       "    </tr>\n",
       "    <tr>\n",
       "      <th>1</th>\n",
       "      <td>The Factory - Cafe With a Soul</td>\n",
       "      <td>Listed in Date Night: Austin, Ambiance in Aust...</td>\n",
       "      <td>4.0 star rating</td>\n",
       "    </tr>\n",
       "    <tr>\n",
       "      <th>2</th>\n",
       "      <td>The Factory - Cafe With a Soul</td>\n",
       "      <td>1 check-in Listed in Brunch Spots I loved the ...</td>\n",
       "      <td>4.0 star rating</td>\n",
       "    </tr>\n",
       "    <tr>\n",
       "      <th>3</th>\n",
       "      <td>The Factory - Cafe With a Soul</td>\n",
       "      <td>Very cool decor! Good drinks Nice seating  How...</td>\n",
       "      <td>2.0 star rating</td>\n",
       "    </tr>\n",
       "    <tr>\n",
       "      <th>4</th>\n",
       "      <td>The Factory - Cafe With a Soul</td>\n",
       "      <td>1 check-in They are located within the Northcr...</td>\n",
       "      <td>4.0 star rating</td>\n",
       "    </tr>\n",
       "  </tbody>\n",
       "</table>\n",
       "</div>"
      ],
      "text/plain": [
       "                  coffee_shop_name  \\\n",
       "0  The Factory - Cafe With a Soul    \n",
       "1  The Factory - Cafe With a Soul    \n",
       "2  The Factory - Cafe With a Soul    \n",
       "3  The Factory - Cafe With a Soul    \n",
       "4  The Factory - Cafe With a Soul    \n",
       "\n",
       "                                    full_review_text        star_rating  \n",
       "0  1 check-in Love love loved the atmosphere! Eve...   5.0 star rating   \n",
       "1  Listed in Date Night: Austin, Ambiance in Aust...   4.0 star rating   \n",
       "2  1 check-in Listed in Brunch Spots I loved the ...   4.0 star rating   \n",
       "3  Very cool decor! Good drinks Nice seating  How...   2.0 star rating   \n",
       "4  1 check-in They are located within the Northcr...   4.0 star rating   "
      ]
     },
     "execution_count": 3,
     "metadata": {},
     "output_type": "execute_result"
    }
   ],
   "source": [
    "shops.head()"
   ]
  },
  {
   "cell_type": "code",
   "execution_count": 4,
   "metadata": {},
   "outputs": [
    {
     "data": {
      "text/html": [
       "<div>\n",
       "<style scoped>\n",
       "    .dataframe tbody tr th:only-of-type {\n",
       "        vertical-align: middle;\n",
       "    }\n",
       "\n",
       "    .dataframe tbody tr th {\n",
       "        vertical-align: top;\n",
       "    }\n",
       "\n",
       "    .dataframe thead th {\n",
       "        text-align: right;\n",
       "    }\n",
       "</style>\n",
       "<table border=\"1\" class=\"dataframe\">\n",
       "  <thead>\n",
       "    <tr style=\"text-align: right;\">\n",
       "      <th></th>\n",
       "      <th>coffee_shop_name</th>\n",
       "      <th>full_review_text</th>\n",
       "      <th>star_rating</th>\n",
       "      <th>rating</th>\n",
       "    </tr>\n",
       "  </thead>\n",
       "  <tbody>\n",
       "    <tr>\n",
       "      <th>0</th>\n",
       "      <td>The Factory - Cafe With a Soul</td>\n",
       "      <td>1 check-in Love love loved the atmosphere! Eve...</td>\n",
       "      <td>5.0 star rating</td>\n",
       "      <td>5</td>\n",
       "    </tr>\n",
       "    <tr>\n",
       "      <th>1</th>\n",
       "      <td>The Factory - Cafe With a Soul</td>\n",
       "      <td>Listed in Date Night: Austin, Ambiance in Aust...</td>\n",
       "      <td>4.0 star rating</td>\n",
       "      <td>4</td>\n",
       "    </tr>\n",
       "    <tr>\n",
       "      <th>2</th>\n",
       "      <td>The Factory - Cafe With a Soul</td>\n",
       "      <td>1 check-in Listed in Brunch Spots I loved the ...</td>\n",
       "      <td>4.0 star rating</td>\n",
       "      <td>4</td>\n",
       "    </tr>\n",
       "    <tr>\n",
       "      <th>3</th>\n",
       "      <td>The Factory - Cafe With a Soul</td>\n",
       "      <td>Very cool decor! Good drinks Nice seating  How...</td>\n",
       "      <td>2.0 star rating</td>\n",
       "      <td>2</td>\n",
       "    </tr>\n",
       "    <tr>\n",
       "      <th>4</th>\n",
       "      <td>The Factory - Cafe With a Soul</td>\n",
       "      <td>1 check-in They are located within the Northcr...</td>\n",
       "      <td>4.0 star rating</td>\n",
       "      <td>4</td>\n",
       "    </tr>\n",
       "  </tbody>\n",
       "</table>\n",
       "</div>"
      ],
      "text/plain": [
       "                  coffee_shop_name  \\\n",
       "0  The Factory - Cafe With a Soul    \n",
       "1  The Factory - Cafe With a Soul    \n",
       "2  The Factory - Cafe With a Soul    \n",
       "3  The Factory - Cafe With a Soul    \n",
       "4  The Factory - Cafe With a Soul    \n",
       "\n",
       "                                    full_review_text        star_rating  \\\n",
       "0  1 check-in Love love loved the atmosphere! Eve...   5.0 star rating    \n",
       "1  Listed in Date Night: Austin, Ambiance in Aust...   4.0 star rating    \n",
       "2  1 check-in Listed in Brunch Spots I loved the ...   4.0 star rating    \n",
       "3  Very cool decor! Good drinks Nice seating  How...   2.0 star rating    \n",
       "4  1 check-in They are located within the Northcr...   4.0 star rating    \n",
       "\n",
       "   rating  \n",
       "0       5  \n",
       "1       4  \n",
       "2       4  \n",
       "3       2  \n",
       "4       4  "
      ]
     },
     "execution_count": 4,
     "metadata": {},
     "output_type": "execute_result"
    }
   ],
   "source": [
    "shops['rating'] = shops['star_rating'].apply(remove_star_rating)\n",
    "shops.head()"
   ]
  },
  {
   "cell_type": "code",
   "execution_count": 5,
   "metadata": {},
   "outputs": [],
   "source": [
    "import spacy\n",
    "from spacy.tokenizer import Tokenizer\n",
    "\n",
    "nlp = spacy.load(\"en_core_web_lg\")\n",
    "\n",
    "# Tokenizer\n",
    "tokenizer = Tokenizer(nlp.vocab)"
   ]
  },
  {
   "cell_type": "code",
   "execution_count": 6,
   "metadata": {},
   "outputs": [],
   "source": [
    "# Tokenizer Pipe\n",
    "\n",
    "tokens = []\n",
    "\n",
    "\"\"\" Make them tokens \"\"\"\n",
    "for doc in tokenizer.pipe(shops['full_review_text'], batch_size=500):\n",
    "    doc_tokens = [token.text for token in doc]\n",
    "    tokens.append(doc_tokens)\n",
    "\n",
    "shops['tokens'] = tokens"
   ]
  },
  {
   "cell_type": "code",
   "execution_count": 7,
   "metadata": {},
   "outputs": [
    {
     "data": {
      "text/html": [
       "<div>\n",
       "<style scoped>\n",
       "    .dataframe tbody tr th:only-of-type {\n",
       "        vertical-align: middle;\n",
       "    }\n",
       "\n",
       "    .dataframe tbody tr th {\n",
       "        vertical-align: top;\n",
       "    }\n",
       "\n",
       "    .dataframe thead th {\n",
       "        text-align: right;\n",
       "    }\n",
       "</style>\n",
       "<table border=\"1\" class=\"dataframe\">\n",
       "  <thead>\n",
       "    <tr style=\"text-align: right;\">\n",
       "      <th></th>\n",
       "      <th>coffee_shop_name</th>\n",
       "      <th>full_review_text</th>\n",
       "      <th>star_rating</th>\n",
       "      <th>rating</th>\n",
       "      <th>tokens</th>\n",
       "    </tr>\n",
       "  </thead>\n",
       "  <tbody>\n",
       "    <tr>\n",
       "      <th>0</th>\n",
       "      <td>The Factory - Cafe With a Soul</td>\n",
       "      <td>1 check-in Love love loved the atmosphere! Eve...</td>\n",
       "      <td>5.0 star rating</td>\n",
       "      <td>5</td>\n",
       "      <td>[Love, love, loved, the, atmosphere!, Every, c...</td>\n",
       "    </tr>\n",
       "    <tr>\n",
       "      <th>1</th>\n",
       "      <td>The Factory - Cafe With a Soul</td>\n",
       "      <td>Listed in Date Night: Austin, Ambiance in Aust...</td>\n",
       "      <td>4.0 star rating</td>\n",
       "      <td>4</td>\n",
       "      <td>[Listed, in, Date, Night:, Austin,, Ambiance, ...</td>\n",
       "    </tr>\n",
       "    <tr>\n",
       "      <th>2</th>\n",
       "      <td>The Factory - Cafe With a Soul</td>\n",
       "      <td>1 check-in Listed in Brunch Spots I loved the ...</td>\n",
       "      <td>4.0 star rating</td>\n",
       "      <td>4</td>\n",
       "      <td>[Listed, in, Brunch, Spots, I, loved, the, ecl...</td>\n",
       "    </tr>\n",
       "    <tr>\n",
       "      <th>3</th>\n",
       "      <td>The Factory - Cafe With a Soul</td>\n",
       "      <td>Very cool decor! Good drinks Nice seating  How...</td>\n",
       "      <td>2.0 star rating</td>\n",
       "      <td>2</td>\n",
       "      <td>[Very, cool, decor!, Good, drinks, Nice, seati...</td>\n",
       "    </tr>\n",
       "    <tr>\n",
       "      <th>4</th>\n",
       "      <td>The Factory - Cafe With a Soul</td>\n",
       "      <td>1 check-in They are located within the Northcr...</td>\n",
       "      <td>4.0 star rating</td>\n",
       "      <td>4</td>\n",
       "      <td>[They, are, located, within, the, Northcross, ...</td>\n",
       "    </tr>\n",
       "  </tbody>\n",
       "</table>\n",
       "</div>"
      ],
      "text/plain": [
       "                  coffee_shop_name  \\\n",
       "0  The Factory - Cafe With a Soul    \n",
       "1  The Factory - Cafe With a Soul    \n",
       "2  The Factory - Cafe With a Soul    \n",
       "3  The Factory - Cafe With a Soul    \n",
       "4  The Factory - Cafe With a Soul    \n",
       "\n",
       "                                    full_review_text        star_rating  \\\n",
       "0  1 check-in Love love loved the atmosphere! Eve...   5.0 star rating    \n",
       "1  Listed in Date Night: Austin, Ambiance in Aust...   4.0 star rating    \n",
       "2  1 check-in Listed in Brunch Spots I loved the ...   4.0 star rating    \n",
       "3  Very cool decor! Good drinks Nice seating  How...   2.0 star rating    \n",
       "4  1 check-in They are located within the Northcr...   4.0 star rating    \n",
       "\n",
       "   rating                                             tokens  \n",
       "0       5  [Love, love, loved, the, atmosphere!, Every, c...  \n",
       "1       4  [Listed, in, Date, Night:, Austin,, Ambiance, ...  \n",
       "2       4  [Listed, in, Brunch, Spots, I, loved, the, ecl...  \n",
       "3       2  [Very, cool, decor!, Good, drinks, Nice, seati...  \n",
       "4       4  [They, are, located, within, the, Northcross, ...  "
      ]
     },
     "execution_count": 7,
     "metadata": {},
     "output_type": "execute_result"
    }
   ],
   "source": [
    "shops['tokens'] = shops['tokens'].apply(remove_checkin)\n",
    "shops.head()"
   ]
  },
  {
   "cell_type": "markdown",
   "metadata": {},
   "source": [
    "## How do we want to analyze these coffee shop tokens? \n",
    "\n",
    "- Overall Word / Token Count\n",
    "- View Counts by Rating \n",
    "- *Hint:* a 'bad' coffee shops has a rating betweeen 1 & 3 based on the distribution of ratings. A 'good' coffee shop is a 4 or 5. "
   ]
  },
  {
   "cell_type": "code",
   "execution_count": 8,
   "metadata": {},
   "outputs": [
    {
     "data": {
      "text/plain": [
       "[('the', 27779),\n",
       " ('and', 25748),\n",
       " ('a', 22085),\n",
       " ('I', 19776),\n",
       " ('to', 16904),\n",
       " (' ', 14989),\n",
       " ('of', 12495),\n",
       " ('is', 11748),\n",
       " ('was', 9539),\n",
       " ('in', 8901)]"
      ]
     },
     "execution_count": 8,
     "metadata": {},
     "output_type": "execute_result"
    }
   ],
   "source": [
    "# Object from Base Python\n",
    "from collections import Counter\n",
    "\n",
    "# The object `Counter` takes an iterable, but you can instaniate an empty one and update it. \n",
    "word_counts = Counter()\n",
    "\n",
    "# Update it based on a split of each of our documents\n",
    "shops['tokens'].apply(lambda x: word_counts.update(x))\n",
    "\n",
    "# Print out the 10 most common words\n",
    "word_counts.most_common(10)"
   ]
  },
  {
   "cell_type": "code",
   "execution_count": 9,
   "metadata": {},
   "outputs": [],
   "source": [
    "def count(docs):\n",
    "\n",
    "        word_counts = Counter()\n",
    "        appears_in = Counter()\n",
    "        \n",
    "        total_docs = len(docs)\n",
    "\n",
    "        for doc in docs:\n",
    "            word_counts.update(doc)\n",
    "            appears_in.update(set(doc))\n",
    "\n",
    "        temp = zip(word_counts.keys(), word_counts.values())\n",
    "        \n",
    "        wc = pd.DataFrame(temp, columns = ['word', 'count'])\n",
    "\n",
    "        wc['rank'] = wc['count'].rank(method='first', ascending=False)\n",
    "        total = wc['count'].sum()\n",
    "\n",
    "        wc['pct_total'] = wc['count'].apply(lambda x: x / total)\n",
    "        \n",
    "        wc = wc.sort_values(by='rank')\n",
    "        wc['cul_pct_total'] = wc['pct_total'].cumsum()\n",
    "\n",
    "        t2 = zip(appears_in.keys(), appears_in.values())\n",
    "        ac = pd.DataFrame(t2, columns=['word', 'appears_in'])\n",
    "        wc = ac.merge(wc, on='word')\n",
    "\n",
    "        wc['appears_in_pct'] = wc['appears_in'].apply(lambda x: x / total_docs)\n",
    "        \n",
    "        return wc.sort_values(by='rank')"
   ]
  },
  {
   "cell_type": "code",
   "execution_count": 10,
   "metadata": {},
   "outputs": [
    {
     "data": {
      "text/html": [
       "<div>\n",
       "<style scoped>\n",
       "    .dataframe tbody tr th:only-of-type {\n",
       "        vertical-align: middle;\n",
       "    }\n",
       "\n",
       "    .dataframe tbody tr th {\n",
       "        vertical-align: top;\n",
       "    }\n",
       "\n",
       "    .dataframe thead th {\n",
       "        text-align: right;\n",
       "    }\n",
       "</style>\n",
       "<table border=\"1\" class=\"dataframe\">\n",
       "  <thead>\n",
       "    <tr style=\"text-align: right;\">\n",
       "      <th></th>\n",
       "      <th>word</th>\n",
       "      <th>appears_in</th>\n",
       "      <th>count</th>\n",
       "      <th>rank</th>\n",
       "      <th>pct_total</th>\n",
       "      <th>cul_pct_total</th>\n",
       "      <th>appears_in_pct</th>\n",
       "    </tr>\n",
       "  </thead>\n",
       "  <tbody>\n",
       "    <tr>\n",
       "      <th>52</th>\n",
       "      <td>the</td>\n",
       "      <td>6520</td>\n",
       "      <td>27779</td>\n",
       "      <td>1.0</td>\n",
       "      <td>0.035252</td>\n",
       "      <td>0.035252</td>\n",
       "      <td>0.856092</td>\n",
       "    </tr>\n",
       "    <tr>\n",
       "      <th>1</th>\n",
       "      <td>and</td>\n",
       "      <td>6804</td>\n",
       "      <td>25748</td>\n",
       "      <td>2.0</td>\n",
       "      <td>0.032675</td>\n",
       "      <td>0.067927</td>\n",
       "      <td>0.893382</td>\n",
       "    </tr>\n",
       "    <tr>\n",
       "      <th>47</th>\n",
       "      <td>a</td>\n",
       "      <td>6181</td>\n",
       "      <td>22085</td>\n",
       "      <td>3.0</td>\n",
       "      <td>0.028026</td>\n",
       "      <td>0.095953</td>\n",
       "      <td>0.811581</td>\n",
       "    </tr>\n",
       "    <tr>\n",
       "      <th>40</th>\n",
       "      <td>I</td>\n",
       "      <td>5468</td>\n",
       "      <td>19776</td>\n",
       "      <td>4.0</td>\n",
       "      <td>0.025096</td>\n",
       "      <td>0.121049</td>\n",
       "      <td>0.717962</td>\n",
       "    </tr>\n",
       "    <tr>\n",
       "      <th>71</th>\n",
       "      <td>to</td>\n",
       "      <td>5631</td>\n",
       "      <td>16904</td>\n",
       "      <td>5.0</td>\n",
       "      <td>0.021452</td>\n",
       "      <td>0.142501</td>\n",
       "      <td>0.739364</td>\n",
       "    </tr>\n",
       "  </tbody>\n",
       "</table>\n",
       "</div>"
      ],
      "text/plain": [
       "   word  appears_in  count  rank  pct_total  cul_pct_total  appears_in_pct\n",
       "52  the        6520  27779   1.0   0.035252       0.035252        0.856092\n",
       "1   and        6804  25748   2.0   0.032675       0.067927        0.893382\n",
       "47    a        6181  22085   3.0   0.028026       0.095953        0.811581\n",
       "40    I        5468  19776   4.0   0.025096       0.121049        0.717962\n",
       "71   to        5631  16904   5.0   0.021452       0.142501        0.739364"
      ]
     },
     "execution_count": 10,
     "metadata": {},
     "output_type": "execute_result"
    }
   ],
   "source": [
    "wc = count(shops['tokens'])\n",
    "wc.head()"
   ]
  },
  {
   "cell_type": "code",
   "execution_count": 11,
   "metadata": {},
   "outputs": [
    {
     "data": {
      "image/png": "[encoded data removed]",
      "text/plain": [
       "<Figure size 432x288 with 1 Axes>"
      ]
     },
     "metadata": {
      "needs_background": "light"
     },
     "output_type": "display_data"
    }
   ],
   "source": [
    "import seaborn as sns\n",
    "\n",
    "# Cumulative Distribution Plot\n",
    "sns.lineplot(x='rank', y='cul_pct_total', data=wc);"
   ]
  },
  {
   "cell_type": "code",
   "execution_count": 14,
   "metadata": {},
   "outputs": [
    {
     "data": {
      "image/png": "[encoded data removed]",
      "text/plain": [
       "<Figure size 432x288 with 1 Axes>"
      ]
     },
     "metadata": {
      "needs_background": "light"
     },
     "output_type": "display_data"
    }
   ],
   "source": [
    "import squarify\n",
    "import matplotlib.pyplot as plt\n",
    "\n",
    "wc_top20 = wc[wc['rank'] <= 20]\n",
    "\n",
    "squarify.plot(sizes=wc_top20['pct_total'], label=wc_top20['word'], alpha=.8 )\n",
    "plt.axis('off')\n",
    "plt.show()"
   ]
  },
  {
   "cell_type": "code",
   "execution_count": 15,
   "metadata": {},
   "outputs": [],
   "source": [
    "tokens = []\n",
    "\n",
    "\"\"\" Update those tokens w/o stopwords\"\"\"\n",
    "for doc in tokenizer.pipe(shops['full_review_text'], batch_size=500):\n",
    "    doc_tokens = []\n",
    "    \n",
    "    for token in doc:\n",
    "        if (token.is_stop == False) & (token.is_punct == False):\n",
    "            doc_tokens.append(token.text.lower())\n",
    "    doc_tokens = remove_checkin(doc_tokens)\n",
    "    tokens.append(doc_tokens)\n",
    "\n",
    "shops['tokens'] = tokens"
   ]
  },
  {
   "cell_type": "code",
   "execution_count": 16,
   "metadata": {},
   "outputs": [
    {
     "data": {
      "text/plain": [
       "0    [love, love, loved, atmosphere!, corner, coffe...\n",
       "1    [listed, date, night:, austin,, ambiance, aust...\n",
       "2    [listed, brunch, spots, loved, eclectic, homey...\n",
       "3    [cool, decor!, good, drinks, nice, seating,  ,...\n",
       "4    [located, northcross, mall, shopping, center, ...\n",
       "Name: tokens, dtype: object"
      ]
     },
     "execution_count": 16,
     "metadata": {},
     "output_type": "execute_result"
    }
   ],
   "source": [
    "shops['tokens'].head()"
   ]
  },
  {
   "cell_type": "code",
   "execution_count": 17,
   "metadata": {},
   "outputs": [
    {
     "data": {
      "image/png": "[encoded data removed]",
      "text/plain": [
       "<Figure size 432x288 with 1 Axes>"
      ]
     },
     "metadata": {
      "needs_background": "light"
     },
     "output_type": "display_data"
    }
   ],
   "source": [
    "wc = count(shops['tokens'])\n",
    "\n",
    "wc_top20 = wc[wc['rank'] <= 20]\n",
    "\n",
    "squarify.plot(sizes=wc_top20['pct_total'], label=wc_top20['word'], alpha=.8 )\n",
    "plt.axis('off')\n",
    "plt.show()"
   ]
  },
  {
   "cell_type": "code",
   "execution_count": 18,
   "metadata": {},
   "outputs": [],
   "source": [
    "STOP_WORDS = nlp.Defaults.stop_words.union([\"\", \" \", \"coffee\", \"place\", \"it's\", \"i'm\", \"i've\", \"austin\", \"list\"])"
   ]
  },
  {
   "cell_type": "code",
   "execution_count": 19,
   "metadata": {},
   "outputs": [],
   "source": [
    "def get_lemmas(text):\n",
    "    \n",
    "    lemmas = []\n",
    "    doc = nlp(text)\n",
    "    \n",
    "    for token in doc:\n",
    "        if ((token.text.lower() not in STOP_WORDS) and (token.is_punct == False)) and (token.pos_ != 'PRON'):\n",
    "            lemmas.append(token.lemma_)\n",
    "            \n",
    "    if lemmas[1] == \"check\":\n",
    "        lemmas = lemmas[2:]\n",
    "    \n",
    "    return lemmas"
   ]
  },
  {
   "cell_type": "code",
   "execution_count": 20,
   "metadata": {},
   "outputs": [],
   "source": [
    "shops['lemmas'] = shops['full_review_text'].apply(get_lemmas)"
   ]
  },
  {
   "cell_type": "code",
   "execution_count": 21,
   "metadata": {},
   "outputs": [
    {
     "data": {
      "text/plain": [
       "0    [love, love, love, atmosphere, corner, shop, s...\n",
       "1    [list, Date, Night, Ambiance, beautiful, love,...\n",
       "2    [list, Brunch, Spots, love, eclectic, homey, p...\n",
       "3    [cool, decor, good, drink, nice, seating, over...\n",
       "4    [locate, Northcross, mall, shopping, center, f...\n",
       "Name: lemmas, dtype: object"
      ]
     },
     "execution_count": 21,
     "metadata": {},
     "output_type": "execute_result"
    }
   ],
   "source": [
    "shops['lemmas'].head()"
   ]
  },
  {
   "cell_type": "code",
   "execution_count": 26,
   "metadata": {},
   "outputs": [
    {
     "data": {
      "image/png": "[encoded data removed]",
      "text/plain": [
       "<Figure size 432x288 with 1 Axes>"
      ]
     },
     "metadata": {
      "needs_background": "light"
     },
     "output_type": "display_data"
    }
   ],
   "source": [
    "sns.countplot(shops['rating']);"
   ]
  },
  {
   "cell_type": "code",
   "execution_count": 28,
   "metadata": {},
   "outputs": [
    {
     "data": {
      "text/plain": [
       "5    0.496324\n",
       "4    0.309874\n",
       "3    0.096901\n",
       "2    0.060399\n",
       "1    0.036502\n",
       "Name: rating, dtype: float64"
      ]
     },
     "execution_count": 28,
     "metadata": {},
     "output_type": "execute_result"
    }
   ],
   "source": [
    "shops['rating'].value_counts(normalize=True)"
   ]
  },
  {
   "cell_type": "markdown",
   "metadata": {},
   "source": [
    "## Can visualize the words with the greatest difference in counts between 'good' & 'bad'?\n",
    "\n",
    "Couple Notes: \n",
    "- Rel. freq. instead of absolute counts b/c of different numbers of reviews\n",
    "- Only look at the top 5-10 words with the greatest differences\n"
   ]
  },
  {
   "cell_type": "code",
   "execution_count": 29,
   "metadata": {},
   "outputs": [],
   "source": [
    "def good_or_bad(rating):\n",
    "    if rating >= 4:\n",
    "        return 'good'\n",
    "    else:\n",
    "        return 'bad'\n",
    "\n",
    "shops['cat_rating'] = shops['rating'].apply(good_or_bad)\n",
    "shops['is_good'] = (shops['cat_rating'] == 'good')"
   ]
  },
  {
   "cell_type": "code",
   "execution_count": 30,
   "metadata": {},
   "outputs": [],
   "source": [
    "shops['rating'] = shops['rating'].apply(int)"
   ]
  },
  {
   "cell_type": "code",
   "execution_count": 32,
   "metadata": {},
   "outputs": [
    {
     "data": {
      "text/html": [
       "<div>\n",
       "<style scoped>\n",
       "    .dataframe tbody tr th:only-of-type {\n",
       "        vertical-align: middle;\n",
       "    }\n",
       "\n",
       "    .dataframe tbody tr th {\n",
       "        vertical-align: top;\n",
       "    }\n",
       "\n",
       "    .dataframe thead th {\n",
       "        text-align: right;\n",
       "    }\n",
       "</style>\n",
       "<table border=\"1\" class=\"dataframe\">\n",
       "  <thead>\n",
       "    <tr style=\"text-align: right;\">\n",
       "      <th></th>\n",
       "      <th>coffee_shop_name</th>\n",
       "      <th>full_review_text</th>\n",
       "      <th>star_rating</th>\n",
       "      <th>rating</th>\n",
       "      <th>tokens</th>\n",
       "      <th>lemmas</th>\n",
       "      <th>cat_rating</th>\n",
       "      <th>is_good</th>\n",
       "    </tr>\n",
       "  </thead>\n",
       "  <tbody>\n",
       "    <tr>\n",
       "      <th>0</th>\n",
       "      <td>The Factory - Cafe With a Soul</td>\n",
       "      <td>1 check-in Love love loved the atmosphere! Eve...</td>\n",
       "      <td>5.0 star rating</td>\n",
       "      <td>5</td>\n",
       "      <td>[love, love, loved, atmosphere!, corner, coffe...</td>\n",
       "      <td>[love, love, love, atmosphere, corner, shop, s...</td>\n",
       "      <td>good</td>\n",
       "      <td>True</td>\n",
       "    </tr>\n",
       "    <tr>\n",
       "      <th>1</th>\n",
       "      <td>The Factory - Cafe With a Soul</td>\n",
       "      <td>Listed in Date Night: Austin, Ambiance in Aust...</td>\n",
       "      <td>4.0 star rating</td>\n",
       "      <td>4</td>\n",
       "      <td>[listed, date, night:, austin,, ambiance, aust...</td>\n",
       "      <td>[list, Date, Night, Ambiance, beautiful, love,...</td>\n",
       "      <td>good</td>\n",
       "      <td>True</td>\n",
       "    </tr>\n",
       "    <tr>\n",
       "      <th>2</th>\n",
       "      <td>The Factory - Cafe With a Soul</td>\n",
       "      <td>1 check-in Listed in Brunch Spots I loved the ...</td>\n",
       "      <td>4.0 star rating</td>\n",
       "      <td>4</td>\n",
       "      <td>[listed, brunch, spots, loved, eclectic, homey...</td>\n",
       "      <td>[list, Brunch, Spots, love, eclectic, homey, p...</td>\n",
       "      <td>good</td>\n",
       "      <td>True</td>\n",
       "    </tr>\n",
       "    <tr>\n",
       "      <th>3</th>\n",
       "      <td>The Factory - Cafe With a Soul</td>\n",
       "      <td>Very cool decor! Good drinks Nice seating  How...</td>\n",
       "      <td>2.0 star rating</td>\n",
       "      <td>2</td>\n",
       "      <td>[cool, decor!, good, drinks, nice, seating,  ,...</td>\n",
       "      <td>[cool, decor, good, drink, nice, seating, over...</td>\n",
       "      <td>bad</td>\n",
       "      <td>False</td>\n",
       "    </tr>\n",
       "    <tr>\n",
       "      <th>4</th>\n",
       "      <td>The Factory - Cafe With a Soul</td>\n",
       "      <td>1 check-in They are located within the Northcr...</td>\n",
       "      <td>4.0 star rating</td>\n",
       "      <td>4</td>\n",
       "      <td>[located, northcross, mall, shopping, center, ...</td>\n",
       "      <td>[locate, Northcross, mall, shopping, center, f...</td>\n",
       "      <td>good</td>\n",
       "      <td>True</td>\n",
       "    </tr>\n",
       "  </tbody>\n",
       "</table>\n",
       "</div>"
      ],
      "text/plain": [
       "                  coffee_shop_name  \\\n",
       "0  The Factory - Cafe With a Soul    \n",
       "1  The Factory - Cafe With a Soul    \n",
       "2  The Factory - Cafe With a Soul    \n",
       "3  The Factory - Cafe With a Soul    \n",
       "4  The Factory - Cafe With a Soul    \n",
       "\n",
       "                                    full_review_text        star_rating  \\\n",
       "0  1 check-in Love love loved the atmosphere! Eve...   5.0 star rating    \n",
       "1  Listed in Date Night: Austin, Ambiance in Aust...   4.0 star rating    \n",
       "2  1 check-in Listed in Brunch Spots I loved the ...   4.0 star rating    \n",
       "3  Very cool decor! Good drinks Nice seating  How...   2.0 star rating    \n",
       "4  1 check-in They are located within the Northcr...   4.0 star rating    \n",
       "\n",
       "   rating                                             tokens  \\\n",
       "0       5  [love, love, loved, atmosphere!, corner, coffe...   \n",
       "1       4  [listed, date, night:, austin,, ambiance, aust...   \n",
       "2       4  [listed, brunch, spots, loved, eclectic, homey...   \n",
       "3       2  [cool, decor!, good, drinks, nice, seating,  ,...   \n",
       "4       4  [located, northcross, mall, shopping, center, ...   \n",
       "\n",
       "                                              lemmas cat_rating  is_good  \n",
       "0  [love, love, love, atmosphere, corner, shop, s...       good     True  \n",
       "1  [list, Date, Night, Ambiance, beautiful, love,...       good     True  \n",
       "2  [list, Brunch, Spots, love, eclectic, homey, p...       good     True  \n",
       "3  [cool, decor, good, drink, nice, seating, over...        bad    False  \n",
       "4  [locate, Northcross, mall, shopping, center, f...       good     True  "
      ]
     },
     "execution_count": 32,
     "metadata": {},
     "output_type": "execute_result"
    }
   ],
   "source": [
    "shops.head()"
   ]
  },
  {
   "cell_type": "code",
   "execution_count": 51,
   "metadata": {},
   "outputs": [],
   "source": [
    "def count_good_bad(df):\n",
    "        \n",
    "        docs = df['lemmas']\n",
    "        \n",
    "        word_counts_good = Counter()\n",
    "        word_counts_bad = Counter()\n",
    "        appears_in_good = Counter()\n",
    "        appears_in_bad = Counter()\n",
    "        \n",
    "        total_docs = len(docs)\n",
    "\n",
    "        for i, doc in enumerate(docs):\n",
    "            if df['is_good'][i]:\n",
    "                word_counts_good.update(doc)\n",
    "                appears_in_good.update(set(doc))\n",
    "            else:\n",
    "                word_counts_bad.update(doc)\n",
    "                appears_in_bad.update(doc)\n",
    "\n",
    "        t1_good = zip(word_counts_good.keys(), word_counts_good.values())\n",
    "        wc_good = pd.DataFrame(t1_good, columns = ['word', 'count_good'])\n",
    "        t1_bad = zip(word_counts_bad.keys(), word_counts_bad.values())\n",
    "        wc_bad = pd.DataFrame(t1_bad, columns = ['word', 'count_bad'])\n",
    "        \n",
    "        wc_good['rank_good'] = wc_good['count_good'].rank(method='first', ascending=False)\n",
    "        wc_bad['rank_bad'] = wc_bad['count_bad'].rank(method='first', ascending=False)\n",
    "        \n",
    "        total_good = wc_good['count_good'].sum()\n",
    "        total_bad = wc_bad['count_bad'].sum()\n",
    "\n",
    "        wc_good['pct_total'] = wc_good['count_good'].apply(lambda x: x / total_docs)\n",
    "        wc_bad['pct_total'] = wc_bad['count_bad'].apply(lambda x: x / total_docs)\n",
    "        \n",
    "        \"\"\"\n",
    "        wc_good = wc_good.sort_values(by='rank_good')\n",
    "        wc_bad = wc_bad.sort_values(by='rank_bad')\n",
    "        wc_good['cul_pct_total_good'] = wc_good['pct_total_good'].cumsum()\n",
    "        wc_bad['cul_pct_total_bad'] = wc_bad['pct_total_bad'].cumsum()\n",
    "        \"\"\"\n",
    "\n",
    "        t2_good = zip(appears_in_good.keys(), appears_in_good.values())\n",
    "        t2_bad = zip(appears_in_bad.keys(), appears_in_bad.values())\n",
    "        ac_good = pd.DataFrame(t2_good, columns=['word', 'appears_in_good'])\n",
    "        ac_bad = pd.DataFrame(t2_bad, columns=['word', 'appears_in_bad'])\n",
    "        wc_good = ac_good.merge(wc_good, on='word')\n",
    "        wc_bad = ac_bad.merge(wc_bad, on='word')\n",
    "\n",
    "        wc_good['appears_in_pct_good'] = wc_good['appears_in_good'].apply(lambda x: x / total_docs)\n",
    "        wc_bad['appears_in_pct_bad'] = wc_bad['appears_in_bad'].apply(lambda x: x / total_docs)\n",
    "        \n",
    "        wc = wc_good.merge(wc_bad, on='word')\n",
    "        \n",
    "        return wc.sort_values(by='rank_good')"
   ]
  },
  {
   "cell_type": "code",
   "execution_count": 52,
   "metadata": {},
   "outputs": [],
   "source": [
    "wc = count_good_bad(shops)"
   ]
  },
  {
   "cell_type": "code",
   "execution_count": 53,
   "metadata": {},
   "outputs": [
    {
     "data": {
      "text/html": [
       "<div>\n",
       "<style scoped>\n",
       "    .dataframe tbody tr th:only-of-type {\n",
       "        vertical-align: middle;\n",
       "    }\n",
       "\n",
       "    .dataframe tbody tr th {\n",
       "        vertical-align: top;\n",
       "    }\n",
       "\n",
       "    .dataframe thead th {\n",
       "        text-align: right;\n",
       "    }\n",
       "</style>\n",
       "<table border=\"1\" class=\"dataframe\">\n",
       "  <thead>\n",
       "    <tr style=\"text-align: right;\">\n",
       "      <th></th>\n",
       "      <th>word</th>\n",
       "      <th>appears_in_good</th>\n",
       "      <th>count_good</th>\n",
       "      <th>rank_good</th>\n",
       "      <th>pct_total_x</th>\n",
       "      <th>appears_in_pct_good</th>\n",
       "      <th>appears_in_bad</th>\n",
       "      <th>count_bad</th>\n",
       "      <th>rank_bad</th>\n",
       "      <th>pct_total_y</th>\n",
       "      <th>appears_in_pct_bad</th>\n",
       "    </tr>\n",
       "  </thead>\n",
       "  <tbody>\n",
       "    <tr>\n",
       "      <th>167</th>\n",
       "      <td>good</td>\n",
       "      <td>2946</td>\n",
       "      <td>4398</td>\n",
       "      <td>1.0</td>\n",
       "      <td>0.577468</td>\n",
       "      <td>0.386817</td>\n",
       "      <td>996</td>\n",
       "      <td>996</td>\n",
       "      <td>1.0</td>\n",
       "      <td>0.130777</td>\n",
       "      <td>0.130777</td>\n",
       "    </tr>\n",
       "    <tr>\n",
       "      <th>72</th>\n",
       "      <td>great</td>\n",
       "      <td>2497</td>\n",
       "      <td>3459</td>\n",
       "      <td>2.0</td>\n",
       "      <td>0.454175</td>\n",
       "      <td>0.327862</td>\n",
       "      <td>465</td>\n",
       "      <td>465</td>\n",
       "      <td>8.0</td>\n",
       "      <td>0.061056</td>\n",
       "      <td>0.061056</td>\n",
       "    </tr>\n",
       "    <tr>\n",
       "      <th>157</th>\n",
       "      <td>like</td>\n",
       "      <td>1677</td>\n",
       "      <td>2434</td>\n",
       "      <td>3.0</td>\n",
       "      <td>0.319590</td>\n",
       "      <td>0.220194</td>\n",
       "      <td>945</td>\n",
       "      <td>945</td>\n",
       "      <td>2.0</td>\n",
       "      <td>0.124081</td>\n",
       "      <td>0.124081</td>\n",
       "    </tr>\n",
       "    <tr>\n",
       "      <th>0</th>\n",
       "      <td>love</td>\n",
       "      <td>1589</td>\n",
       "      <td>2087</td>\n",
       "      <td>4.0</td>\n",
       "      <td>0.274028</td>\n",
       "      <td>0.208640</td>\n",
       "      <td>249</td>\n",
       "      <td>249</td>\n",
       "      <td>35.0</td>\n",
       "      <td>0.032694</td>\n",
       "      <td>0.032694</td>\n",
       "    </tr>\n",
       "    <tr>\n",
       "      <th>337</th>\n",
       "      <td>come</td>\n",
       "      <td>1479</td>\n",
       "      <td>1985</td>\n",
       "      <td>5.0</td>\n",
       "      <td>0.260636</td>\n",
       "      <td>0.194196</td>\n",
       "      <td>651</td>\n",
       "      <td>651</td>\n",
       "      <td>4.0</td>\n",
       "      <td>0.085478</td>\n",
       "      <td>0.085478</td>\n",
       "    </tr>\n",
       "  </tbody>\n",
       "</table>\n",
       "</div>"
      ],
      "text/plain": [
       "      word  appears_in_good  count_good  rank_good  pct_total_x  \\\n",
       "167   good             2946        4398        1.0     0.577468   \n",
       "72   great             2497        3459        2.0     0.454175   \n",
       "157   like             1677        2434        3.0     0.319590   \n",
       "0     love             1589        2087        4.0     0.274028   \n",
       "337   come             1479        1985        5.0     0.260636   \n",
       "\n",
       "     appears_in_pct_good  appears_in_bad  count_bad  rank_bad  pct_total_y  \\\n",
       "167             0.386817             996        996       1.0     0.130777   \n",
       "72              0.327862             465        465       8.0     0.061056   \n",
       "157             0.220194             945        945       2.0     0.124081   \n",
       "0               0.208640             249        249      35.0     0.032694   \n",
       "337             0.194196             651        651       4.0     0.085478   \n",
       "\n",
       "     appears_in_pct_bad  \n",
       "167            0.130777  \n",
       "72             0.061056  \n",
       "157            0.124081  \n",
       "0              0.032694  \n",
       "337            0.085478  "
      ]
     },
     "execution_count": 53,
     "metadata": {},
     "output_type": "execute_result"
    }
   ],
   "source": [
    "wc.head()"
   ]
  },
  {
   "cell_type": "code",
   "execution_count": 54,
   "metadata": {},
   "outputs": [
    {
     "data": {
      "text/html": [
       "<div>\n",
       "<style scoped>\n",
       "    .dataframe tbody tr th:only-of-type {\n",
       "        vertical-align: middle;\n",
       "    }\n",
       "\n",
       "    .dataframe tbody tr th {\n",
       "        vertical-align: top;\n",
       "    }\n",
       "\n",
       "    .dataframe thead th {\n",
       "        text-align: right;\n",
       "    }\n",
       "</style>\n",
       "<table border=\"1\" class=\"dataframe\">\n",
       "  <thead>\n",
       "    <tr style=\"text-align: right;\">\n",
       "      <th></th>\n",
       "      <th>word</th>\n",
       "      <th>appears_in_good</th>\n",
       "      <th>count_good</th>\n",
       "      <th>rank_good</th>\n",
       "      <th>pct_total_x</th>\n",
       "      <th>appears_in_pct_good</th>\n",
       "      <th>appears_in_bad</th>\n",
       "      <th>count_bad</th>\n",
       "      <th>rank_bad</th>\n",
       "      <th>pct_total_y</th>\n",
       "      <th>appears_in_pct_bad</th>\n",
       "      <th>difference</th>\n",
       "    </tr>\n",
       "  </thead>\n",
       "  <tbody>\n",
       "    <tr>\n",
       "      <th>1227</th>\n",
       "      <td>rude</td>\n",
       "      <td>19</td>\n",
       "      <td>19</td>\n",
       "      <td>1735.0</td>\n",
       "      <td>0.002495</td>\n",
       "      <td>0.002495</td>\n",
       "      <td>123</td>\n",
       "      <td>123</td>\n",
       "      <td>108.0</td>\n",
       "      <td>0.016150</td>\n",
       "      <td>0.016150</td>\n",
       "      <td>-0.013655</td>\n",
       "    </tr>\n",
       "    <tr>\n",
       "      <th>917</th>\n",
       "      <td>ok</td>\n",
       "      <td>117</td>\n",
       "      <td>122</td>\n",
       "      <td>401.0</td>\n",
       "      <td>0.016019</td>\n",
       "      <td>0.015362</td>\n",
       "      <td>157</td>\n",
       "      <td>157</td>\n",
       "      <td>75.0</td>\n",
       "      <td>0.020614</td>\n",
       "      <td>0.020614</td>\n",
       "      <td>-0.005252</td>\n",
       "    </tr>\n",
       "    <tr>\n",
       "      <th>2010</th>\n",
       "      <td>horrible</td>\n",
       "      <td>11</td>\n",
       "      <td>11</td>\n",
       "      <td>2469.0</td>\n",
       "      <td>0.001444</td>\n",
       "      <td>0.001444</td>\n",
       "      <td>49</td>\n",
       "      <td>49</td>\n",
       "      <td>298.0</td>\n",
       "      <td>0.006434</td>\n",
       "      <td>0.006434</td>\n",
       "      <td>-0.004989</td>\n",
       "    </tr>\n",
       "    <tr>\n",
       "      <th>1321</th>\n",
       "      <td>attitude</td>\n",
       "      <td>35</td>\n",
       "      <td>36</td>\n",
       "      <td>1102.0</td>\n",
       "      <td>0.004727</td>\n",
       "      <td>0.004596</td>\n",
       "      <td>69</td>\n",
       "      <td>69</td>\n",
       "      <td>216.0</td>\n",
       "      <td>0.009060</td>\n",
       "      <td>0.009060</td>\n",
       "      <td>-0.004464</td>\n",
       "    </tr>\n",
       "    <tr>\n",
       "      <th>1681</th>\n",
       "      <td>mediocre</td>\n",
       "      <td>16</td>\n",
       "      <td>16</td>\n",
       "      <td>1952.0</td>\n",
       "      <td>0.002101</td>\n",
       "      <td>0.002101</td>\n",
       "      <td>49</td>\n",
       "      <td>49</td>\n",
       "      <td>296.0</td>\n",
       "      <td>0.006434</td>\n",
       "      <td>0.006434</td>\n",
       "      <td>-0.004333</td>\n",
       "    </tr>\n",
       "  </tbody>\n",
       "</table>\n",
       "</div>"
      ],
      "text/plain": [
       "          word  appears_in_good  count_good  rank_good  pct_total_x  \\\n",
       "1227      rude               19          19     1735.0     0.002495   \n",
       "917         ok              117         122      401.0     0.016019   \n",
       "2010  horrible               11          11     2469.0     0.001444   \n",
       "1321  attitude               35          36     1102.0     0.004727   \n",
       "1681  mediocre               16          16     1952.0     0.002101   \n",
       "\n",
       "      appears_in_pct_good  appears_in_bad  count_bad  rank_bad  pct_total_y  \\\n",
       "1227             0.002495             123        123     108.0     0.016150   \n",
       "917              0.015362             157        157      75.0     0.020614   \n",
       "2010             0.001444              49         49     298.0     0.006434   \n",
       "1321             0.004596              69         69     216.0     0.009060   \n",
       "1681             0.002101              49         49     296.0     0.006434   \n",
       "\n",
       "      appears_in_pct_bad  difference  \n",
       "1227            0.016150   -0.013655  \n",
       "917             0.020614   -0.005252  \n",
       "2010            0.006434   -0.004989  \n",
       "1321            0.009060   -0.004464  \n",
       "1681            0.006434   -0.004333  "
      ]
     },
     "execution_count": 54,
     "metadata": {},
     "output_type": "execute_result"
    }
   ],
   "source": [
    "wc['difference'] = wc['appears_in_pct_good'] - wc['appears_in_pct_bad']\n",
    "wc = wc.sort_values(by='difference')\n",
    "wc.head()"
   ]
  },
  {
   "cell_type": "code",
   "execution_count": 56,
   "metadata": {},
   "outputs": [
    {
     "data": {
      "text/html": [
       "<div>\n",
       "<style scoped>\n",
       "    .dataframe tbody tr th:only-of-type {\n",
       "        vertical-align: middle;\n",
       "    }\n",
       "\n",
       "    .dataframe tbody tr th {\n",
       "        vertical-align: top;\n",
       "    }\n",
       "\n",
       "    .dataframe thead th {\n",
       "        text-align: right;\n",
       "    }\n",
       "</style>\n",
       "<table border=\"1\" class=\"dataframe\">\n",
       "  <thead>\n",
       "    <tr style=\"text-align: right;\">\n",
       "      <th></th>\n",
       "      <th>word</th>\n",
       "      <th>appears_in_pct_good</th>\n",
       "      <th>appears_in_pct_bad</th>\n",
       "      <th>difference</th>\n",
       "    </tr>\n",
       "  </thead>\n",
       "  <tbody>\n",
       "    <tr>\n",
       "      <th>1227</th>\n",
       "      <td>rude</td>\n",
       "      <td>0.002495</td>\n",
       "      <td>0.016150</td>\n",
       "      <td>-0.013655</td>\n",
       "    </tr>\n",
       "    <tr>\n",
       "      <th>917</th>\n",
       "      <td>ok</td>\n",
       "      <td>0.015362</td>\n",
       "      <td>0.020614</td>\n",
       "      <td>-0.005252</td>\n",
       "    </tr>\n",
       "    <tr>\n",
       "      <th>2010</th>\n",
       "      <td>horrible</td>\n",
       "      <td>0.001444</td>\n",
       "      <td>0.006434</td>\n",
       "      <td>-0.004989</td>\n",
       "    </tr>\n",
       "    <tr>\n",
       "      <th>1321</th>\n",
       "      <td>attitude</td>\n",
       "      <td>0.004596</td>\n",
       "      <td>0.009060</td>\n",
       "      <td>-0.004464</td>\n",
       "    </tr>\n",
       "    <tr>\n",
       "      <th>1681</th>\n",
       "      <td>mediocre</td>\n",
       "      <td>0.002101</td>\n",
       "      <td>0.006434</td>\n",
       "      <td>-0.004333</td>\n",
       "    </tr>\n",
       "    <tr>\n",
       "      <th>3033</th>\n",
       "      <td>meh</td>\n",
       "      <td>0.001838</td>\n",
       "      <td>0.006040</td>\n",
       "      <td>-0.004202</td>\n",
       "    </tr>\n",
       "    <tr>\n",
       "      <th>950</th>\n",
       "      <td>tip</td>\n",
       "      <td>0.008009</td>\n",
       "      <td>0.011686</td>\n",
       "      <td>-0.003676</td>\n",
       "    </tr>\n",
       "    <tr>\n",
       "      <th>1161</th>\n",
       "      <td>rating</td>\n",
       "      <td>0.002495</td>\n",
       "      <td>0.006040</td>\n",
       "      <td>-0.003545</td>\n",
       "    </tr>\n",
       "    <tr>\n",
       "      <th>1299</th>\n",
       "      <td>disappointing</td>\n",
       "      <td>0.002232</td>\n",
       "      <td>0.005646</td>\n",
       "      <td>-0.003414</td>\n",
       "    </tr>\n",
       "    <tr>\n",
       "      <th>1202</th>\n",
       "      <td>poor</td>\n",
       "      <td>0.002757</td>\n",
       "      <td>0.005646</td>\n",
       "      <td>-0.002889</td>\n",
       "    </tr>\n",
       "  </tbody>\n",
       "</table>\n",
       "</div>"
      ],
      "text/plain": [
       "               word  appears_in_pct_good  appears_in_pct_bad  difference\n",
       "1227           rude             0.002495            0.016150   -0.013655\n",
       "917              ok             0.015362            0.020614   -0.005252\n",
       "2010       horrible             0.001444            0.006434   -0.004989\n",
       "1321       attitude             0.004596            0.009060   -0.004464\n",
       "1681       mediocre             0.002101            0.006434   -0.004333\n",
       "3033            meh             0.001838            0.006040   -0.004202\n",
       "950             tip             0.008009            0.011686   -0.003676\n",
       "1161         rating             0.002495            0.006040   -0.003545\n",
       "1299  disappointing             0.002232            0.005646   -0.003414\n",
       "1202           poor             0.002757            0.005646   -0.002889"
      ]
     },
     "execution_count": 56,
     "metadata": {},
     "output_type": "execute_result"
    }
   ],
   "source": [
    "cols = ['word', 'appears_in_pct_good', 'appears_in_pct_bad', 'difference']\n",
    "wc[cols].head(10)"
   ]
  },
  {
   "cell_type": "code",
   "execution_count": 70,
   "metadata": {},
   "outputs": [
    {
     "data": {
      "text/html": [
       "<div>\n",
       "<style scoped>\n",
       "    .dataframe tbody tr th:only-of-type {\n",
       "        vertical-align: middle;\n",
       "    }\n",
       "\n",
       "    .dataframe tbody tr th {\n",
       "        vertical-align: top;\n",
       "    }\n",
       "\n",
       "    .dataframe thead th {\n",
       "        text-align: right;\n",
       "    }\n",
       "</style>\n",
       "<table border=\"1\" class=\"dataframe\">\n",
       "  <thead>\n",
       "    <tr style=\"text-align: right;\">\n",
       "      <th></th>\n",
       "      <th>word</th>\n",
       "      <th>appears_in_good</th>\n",
       "      <th>count_good</th>\n",
       "      <th>rank_good</th>\n",
       "      <th>pct_total_x</th>\n",
       "      <th>appears_in_pct_good</th>\n",
       "      <th>appears_in_bad</th>\n",
       "      <th>count_bad</th>\n",
       "      <th>rank_bad</th>\n",
       "      <th>pct_total_y</th>\n",
       "      <th>appears_in_pct_bad</th>\n",
       "      <th>difference</th>\n",
       "    </tr>\n",
       "  </thead>\n",
       "  <tbody>\n",
       "    <tr>\n",
       "      <th>72</th>\n",
       "      <td>great</td>\n",
       "      <td>2497</td>\n",
       "      <td>3459</td>\n",
       "      <td>2.0</td>\n",
       "      <td>0.454175</td>\n",
       "      <td>0.327862</td>\n",
       "      <td>465</td>\n",
       "      <td>465</td>\n",
       "      <td>8.0</td>\n",
       "      <td>0.061056</td>\n",
       "      <td>0.061056</td>\n",
       "      <td>0.266807</td>\n",
       "    </tr>\n",
       "    <tr>\n",
       "      <th>167</th>\n",
       "      <td>good</td>\n",
       "      <td>2946</td>\n",
       "      <td>4398</td>\n",
       "      <td>1.0</td>\n",
       "      <td>0.577468</td>\n",
       "      <td>0.386817</td>\n",
       "      <td>996</td>\n",
       "      <td>996</td>\n",
       "      <td>1.0</td>\n",
       "      <td>0.130777</td>\n",
       "      <td>0.130777</td>\n",
       "      <td>0.256040</td>\n",
       "    </tr>\n",
       "    <tr>\n",
       "      <th>0</th>\n",
       "      <td>love</td>\n",
       "      <td>1589</td>\n",
       "      <td>2087</td>\n",
       "      <td>4.0</td>\n",
       "      <td>0.274028</td>\n",
       "      <td>0.208640</td>\n",
       "      <td>249</td>\n",
       "      <td>249</td>\n",
       "      <td>35.0</td>\n",
       "      <td>0.032694</td>\n",
       "      <td>0.032694</td>\n",
       "      <td>0.175945</td>\n",
       "    </tr>\n",
       "    <tr>\n",
       "      <th>133</th>\n",
       "      <td>friendly</td>\n",
       "      <td>1439</td>\n",
       "      <td>1514</td>\n",
       "      <td>11.0</td>\n",
       "      <td>0.198792</td>\n",
       "      <td>0.188944</td>\n",
       "      <td>209</td>\n",
       "      <td>209</td>\n",
       "      <td>50.0</td>\n",
       "      <td>0.027442</td>\n",
       "      <td>0.027442</td>\n",
       "      <td>0.161502</td>\n",
       "    </tr>\n",
       "    <tr>\n",
       "      <th>541</th>\n",
       "      <td>delicious</td>\n",
       "      <td>1154</td>\n",
       "      <td>1281</td>\n",
       "      <td>17.0</td>\n",
       "      <td>0.168199</td>\n",
       "      <td>0.151523</td>\n",
       "      <td>89</td>\n",
       "      <td>89</td>\n",
       "      <td>158.0</td>\n",
       "      <td>0.011686</td>\n",
       "      <td>0.011686</td>\n",
       "      <td>0.139837</td>\n",
       "    </tr>\n",
       "  </tbody>\n",
       "</table>\n",
       "</div>"
      ],
      "text/plain": [
       "          word  appears_in_good  count_good  rank_good  pct_total_x  \\\n",
       "72       great             2497        3459        2.0     0.454175   \n",
       "167       good             2946        4398        1.0     0.577468   \n",
       "0         love             1589        2087        4.0     0.274028   \n",
       "133   friendly             1439        1514       11.0     0.198792   \n",
       "541  delicious             1154        1281       17.0     0.168199   \n",
       "\n",
       "     appears_in_pct_good  appears_in_bad  count_bad  rank_bad  pct_total_y  \\\n",
       "72              0.327862             465        465       8.0     0.061056   \n",
       "167             0.386817             996        996       1.0     0.130777   \n",
       "0               0.208640             249        249      35.0     0.032694   \n",
       "133             0.188944             209        209      50.0     0.027442   \n",
       "541             0.151523              89         89     158.0     0.011686   \n",
       "\n",
       "     appears_in_pct_bad  difference  \n",
       "72             0.061056    0.266807  \n",
       "167            0.130777    0.256040  \n",
       "0              0.032694    0.175945  \n",
       "133            0.027442    0.161502  \n",
       "541            0.011686    0.139837  "
      ]
     },
     "execution_count": 70,
     "metadata": {},
     "output_type": "execute_result"
    }
   ],
   "source": [
    "wc_reverse = wc.sort_values(by='difference', ascending=False)\n",
    "wc_reverse.head()"
   ]
  },
  {
   "cell_type": "code",
   "execution_count": 64,
   "metadata": {},
   "outputs": [],
   "source": [
    "wc_top10 = wc_reverse[:10]\n",
    "wc_bot10 = wc[:10]"
   ]
  },
  {
   "cell_type": "code",
   "execution_count": 72,
   "metadata": {},
   "outputs": [
    {
     "data": {
      "image/png": "[encoded data removed]",
      "text/plain": [
       "<Figure size 432x288 with 1 Axes>"
      ]
     },
     "metadata": {
      "needs_background": "light"
     },
     "output_type": "display_data"
    }
   ],
   "source": [
    "squarify.plot(sizes=wc_top10['pct_total_x'], label=wc_top10['word'], alpha=.8 )\n",
    "plt.axis('off')\n",
    "plt.show()"
   ]
  },
  {
   "cell_type": "code",
   "execution_count": 71,
   "metadata": {},
   "outputs": [
    {
     "data": {
      "image/png": "[encoded data removed]",
      "text/plain": [
       "<Figure size 432x288 with 1 Axes>"
      ]
     },
     "metadata": {
      "needs_background": "light"
     },
     "output_type": "display_data"
    }
   ],
   "source": [
    "squarify.plot(sizes=wc_bot10['pct_total_y'], label=wc_bot10['word'], alpha=.8 )\n",
    "plt.axis('off')\n",
    "plt.show()"
   ]
  },
  {
   "cell_type": "markdown",
   "metadata": {
    "colab_type": "text",
    "id": "1dCb1q8XphcP",
    "toc-hr-collapsed": true
   },
   "source": [
    "## Stretch Goals\n",
    "\n",
    "* Analyze another corpus of documents - such as Indeed.com job listings ;).\n",
    "* Play with the Spacy API to\n",
    " - Extract Named Entities\n",
    " - Extracting 'noun chunks'\n",
    " - Attempt Document Classification with just Spacy\n",
    " - *Note:* This [course](https://course.spacy.io/) will be of interesting in helping you with these stretch goals. \n",
    "* Try to build a plotly dash app with your text data \n",
    "\n"
   ]
  },
  {
   "cell_type": "code",
   "execution_count": 1,
   "metadata": {},
   "outputs": [],
   "source": [
    "import requests\n",
    "import bs4\n",
    "from bs4 import BeautifulSoup\n",
    "\n",
    "import pandas as pd\n",
    "import time"
   ]
  },
  {
   "cell_type": "code",
   "execution_count": 2,
   "metadata": {},
   "outputs": [],
   "source": [
    "url = \"https://www.indeed.com/jobs?q=Data+Scientist+%2420%2C000&l=Los+Angeles\"\n",
    "page = requests.get(url)\n",
    "soup = BeautifulSoup(page.text, 'html.parser')\n",
    "# print(soup.prettify())"
   ]
  },
  {
   "cell_type": "code",
   "execution_count": 3,
   "metadata": {},
   "outputs": [
    {
     "data": {
      "text/plain": [
       "['Data Scientist, Workforce Analytics',\n",
       " 'Data Scientist',\n",
       " 'Senior Data Scientist',\n",
       " 'Principal Data Scientist',\n",
       " 'Sr. Data Scientist, Predictive Analysis',\n",
       " 'Data Scientist',\n",
       " 'Forward Deployed Data Scientist (Client Facing)',\n",
       " 'Sr. Data Scientist, Media Mix Modeling',\n",
       " 'Data Scientist',\n",
       " 'Principal Data Scientist, Media Mix Modeling']"
      ]
     },
     "execution_count": 3,
     "metadata": {},
     "output_type": "execute_result"
    }
   ],
   "source": [
    "def extract_job_title_from_result(soup):\n",
    "    jobs = []\n",
    "    for div in soup.find_all(name='div', attrs={'class': 'row'}):\n",
    "        for a in div.find_all(name='a', attrs={'data-tn-element': 'jobTitle'}):\n",
    "            jobs.append(a['title'])\n",
    "                \n",
    "    return jobs\n",
    "\n",
    "extract_job_title_from_result(soup)"
   ]
  },
  {
   "cell_type": "code",
   "execution_count": 4,
   "metadata": {},
   "outputs": [
    {
     "data": {
      "text/plain": [
       "['Warner Bros. Entertainment Group',\n",
       " 'HBO Max',\n",
       " 'Intuit',\n",
       " 'HBO Max',\n",
       " 'HBO Max',\n",
       " \"Children's Hospital Los Angeles\",\n",
       " 'Retina AI',\n",
       " 'HBO Max',\n",
       " 'Quibi - Los Angeles',\n",
       " 'HBO Max']"
      ]
     },
     "execution_count": 4,
     "metadata": {},
     "output_type": "execute_result"
    }
   ],
   "source": [
    "def extract_company_from_result(soup):\n",
    "    companies = []\n",
    "    for div in soup.find_all(name='div', attrs={'class': 'row'}):\n",
    "        company = div.find_all(name='span', attrs={'class': 'company'})\n",
    "        if len(company) > 0:\n",
    "            for c in company:\n",
    "                companies.append(c.text.strip())\n",
    "        else:\n",
    "            sec_try = div.find_all(name='span', attrs={'class': 'result-link-source'})\n",
    "            for span in sec_try:\n",
    "                companies.append(span.text.strip())\n",
    "                \n",
    "    return companies\n",
    "\n",
    "extract_company_from_result(soup)"
   ]
  },
  {
   "cell_type": "code",
   "execution_count": 5,
   "metadata": {},
   "outputs": [
    {
     "data": {
      "text/plain": [
       "['Burbank, CA',\n",
       " 'Burbank, CA',\n",
       " 'Los Angeles, CA 90071',\n",
       " 'Burbank, CA',\n",
       " 'Burbank, CA',\n",
       " 'Glendale, CA',\n",
       " 'Santa Monica, CA',\n",
       " 'Burbank, CA',\n",
       " 'Los Angeles, CA',\n",
       " 'Burbank, CA']"
      ]
     },
     "execution_count": 5,
     "metadata": {},
     "output_type": "execute_result"
    }
   ],
   "source": [
    "def extract_location_from_result(soup):\n",
    "    locations = []\n",
    "    spans = soup.find_all('span', attrs={'class': 'location'})\n",
    "    for span in spans:\n",
    "        locations.append(span.text)\n",
    "    return locations\n",
    "\n",
    "extract_location_from_result(soup)"
   ]
  },
  {
   "cell_type": "code",
   "execution_count": 6,
   "metadata": {},
   "outputs": [
    {
     "data": {
      "text/plain": [
       "['Nothing found',\n",
       " 'Nothing found',\n",
       " 'Nothing found',\n",
       " 'Nothing found',\n",
       " 'Nothing found',\n",
       " 'Nothing found',\n",
       " 'Nothing found',\n",
       " 'Nothing found',\n",
       " 'Nothing found',\n",
       " 'Nothing found']"
      ]
     },
     "execution_count": 6,
     "metadata": {},
     "output_type": "execute_result"
    }
   ],
   "source": [
    "def extract_salary_from_result(soup):\n",
    "    salaries = []\n",
    "    for div in soup.find_all(name='div', attrs={'class': 'row'}):\n",
    "        salary = div.find_all(name='span', attrs={'class': 'salaryText'})\n",
    "        if len(salary) > 0:\n",
    "            for s in salary:\n",
    "                salaries.append(s.text.strip())\n",
    "        else:\n",
    "            salaries.append('Nothing found')\n",
    "                \n",
    "    return salaries\n",
    "\n",
    "extract_salary_from_result(soup)"
   ]
  },
  {
   "cell_type": "code",
   "execution_count": 7,
   "metadata": {},
   "outputs": [
    {
     "data": {
      "text/plain": [
       "['Company Overview WarnerMedia is a leading media and entertainment company that creates and distributes premium and popular content from a diverse array of…',\n",
       " ['The Data Scientist will be responsible for leveraging data analytics, visualization and data science to help driving growth and improving retention for our new…'],\n",
       " ['Intuit is looking for innovative and hands-on data scientists to focus on Smart Money Services.',\n",
       "  'Our team leverages data mining/machine learning techniques to…'],\n",
       " ['This role will support the HBO Max product, marketing and content teams understand what makes our customers tick and how to target new ones.'],\n",
       " ['The Senior Data Scientist will be responsible for leveraging data analytics, visualization and data science to help driving growth and improving retention for…'],\n",
       " ['The Data Scientist conducts research in medical applications of data science by applying techniques and models from machine learning and computational…'],\n",
       " ['This role requires a balance of technical skills (communicating a machine learning model) and emotional intelligence (shifting gears when delivering a…'],\n",
       " ['This role will support the HBO Max marketing teams understand the impact of marketing on sales, profitability and brand equity.'],\n",
       " ['Quibi is seeking data scientists to build cutting-edge machine learning models, analytical products and testing frameworks.'],\n",
       " ['This role will support the HBO Max marketing teams understand the impact of marketing on sales, profitability and brand equity.']]"
      ]
     },
     "execution_count": 7,
     "metadata": {},
     "output_type": "execute_result"
    }
   ],
   "source": [
    "def extract_summary_from_result(soup):\n",
    "    summaries = []\n",
    "    divs = soup.find_all('div', attrs={'class': 'summary'})\n",
    "    for div in divs:\n",
    "        if len(div) > 1:\n",
    "            summary = []\n",
    "            lines = div.find_all('li')\n",
    "            for line in lines:\n",
    "                summary.append(line.text.strip())\n",
    "            summaries.append(summary)\n",
    "        else:\n",
    "            summaries.append(div.text.strip())\n",
    "    \n",
    "    return summaries\n",
    "\n",
    "extract_summary_from_result(soup)"
   ]
  },
  {
   "cell_type": "code",
   "execution_count": 8,
   "metadata": {},
   "outputs": [
    {
     "data": {
      "text/html": [
       "<div>\n",
       "<style scoped>\n",
       "    .dataframe tbody tr th:only-of-type {\n",
       "        vertical-align: middle;\n",
       "    }\n",
       "\n",
       "    .dataframe tbody tr th {\n",
       "        vertical-align: top;\n",
       "    }\n",
       "\n",
       "    .dataframe thead th {\n",
       "        text-align: right;\n",
       "    }\n",
       "</style>\n",
       "<table border=\"1\" class=\"dataframe\">\n",
       "  <thead>\n",
       "    <tr style=\"text-align: right;\">\n",
       "      <th></th>\n",
       "      <th>city</th>\n",
       "      <th>job_title</th>\n",
       "      <th>company_name</th>\n",
       "      <th>location</th>\n",
       "      <th>summary</th>\n",
       "      <th>salary</th>\n",
       "    </tr>\n",
       "  </thead>\n",
       "  <tbody>\n",
       "  </tbody>\n",
       "</table>\n",
       "</div>"
      ],
      "text/plain": [
       "Empty DataFrame\n",
       "Columns: [city, job_title, company_name, location, summary, salary]\n",
       "Index: []"
      ]
     },
     "execution_count": 8,
     "metadata": {},
     "output_type": "execute_result"
    }
   ],
   "source": [
    "max_results_per_city = 100\n",
    "\n",
    "cities = ['Los+Angeles', 'San+Francisco', 'Washington+DC']\n",
    "columns = ['city', 'job_title', 'company_name', 'location', 'summary', 'salary']\n",
    "\n",
    "df = pd.DataFrame(columns=columns)\n",
    "df"
   ]
  },
  {
   "cell_type": "code",
   "execution_count": 19,
   "metadata": {},
   "outputs": [
    {
     "name": "stdout",
     "output_type": "stream",
     "text": [
      "['Los+Angeles', 'Data Scientist, Workforce Analytics', 'Warner Bros. Entertainment Group', 'Burbank, CA', 'Company Overview WarnerMedia is a leading media and entertainment company that creates and distributes premium and popular content from a diverse array of…', 'Build the Future of Entertainment. HBO Max is WarnerMedia’s direct-to-consumer (DTC) offering debuting in May 2020. Paid time off every year to volunteer.', 'Intuit is looking for innovative and hands-on data scientists to focus on Smart Money Services. Our team leverages data mining/machine learning techniques to…', 'Build the Future of Entertainment. HBO Max is WarnerMedia’s direct-to-consumer (DTC) offering debuting in May 2020. Strong presentation skills are a must.', 'The Data Scientist conducts research in medical applications of data science by applying techniques and models from machine learning and computational…', 'Build the Future of Entertainment. HBO Max is WarnerMedia’s direct-to-consumer (DTC) offering debuting in May 2020. Experience in media content metadata a plus.', 'Build the Future of Entertainment. HBO Max is WarnerMedia’s direct-to-consumer (DTC) offering debuting in May 2020. Strong presentation skills are a must.', 'We use data science and machine learning to predict the future buying behavior of consumers, and the types of actions that businesses can take around those…', 'Quibi is seeking data scientists to build cutting-edge machine learning models, analytical products and testing frameworks.', 'Build the Future of Entertainment. HBO Max is WarnerMedia’s direct-to-consumer (DTC) offering debuting in May 2020. Strong presentation skills are a must.', 'Nothing found']\n"
     ]
    },
    {
     "ename": "ValueError",
     "evalue": "cannot set a row with mismatched columns",
     "output_type": "error",
     "traceback": [
      "\u001b[0;31m---------------------------------------------------------------------------\u001b[0m",
      "\u001b[0;31mValueError\u001b[0m                                Traceback (most recent call last)",
      "\u001b[0;32m<ipython-input-19-cd7a3a478273>\u001b[0m in \u001b[0;36m<module>\u001b[0;34m\u001b[0m\n\u001b[1;32m     54\u001b[0m             \u001b[0mprint\u001b[0m\u001b[0;34m(\u001b[0m\u001b[0mjob_post\u001b[0m\u001b[0;34m)\u001b[0m\u001b[0;34m\u001b[0m\u001b[0m\n\u001b[1;32m     55\u001b[0m \u001b[0;34m\u001b[0m\u001b[0m\n\u001b[0;32m---> 56\u001b[0;31m             \u001b[0mdf\u001b[0m\u001b[0;34m.\u001b[0m\u001b[0mloc\u001b[0m\u001b[0;34m[\u001b[0m\u001b[0mnum\u001b[0m\u001b[0;34m]\u001b[0m \u001b[0;34m=\u001b[0m \u001b[0mjob_post\u001b[0m\u001b[0;34m\u001b[0m\u001b[0m\n\u001b[0m",
      "\u001b[0;32m~/anaconda3/envs/U4-S1-NLP/lib/python3.7/site-packages/pandas/core/indexing.py\u001b[0m in \u001b[0;36m__setitem__\u001b[0;34m(self, key, value)\u001b[0m\n\u001b[1;32m    188\u001b[0m             \u001b[0mkey\u001b[0m \u001b[0;34m=\u001b[0m \u001b[0mcom\u001b[0m\u001b[0;34m.\u001b[0m\u001b[0mapply_if_callable\u001b[0m\u001b[0;34m(\u001b[0m\u001b[0mkey\u001b[0m\u001b[0;34m,\u001b[0m \u001b[0mself\u001b[0m\u001b[0;34m.\u001b[0m\u001b[0mobj\u001b[0m\u001b[0;34m)\u001b[0m\u001b[0;34m\u001b[0m\u001b[0m\n\u001b[1;32m    189\u001b[0m         \u001b[0mindexer\u001b[0m \u001b[0;34m=\u001b[0m \u001b[0mself\u001b[0m\u001b[0;34m.\u001b[0m\u001b[0m_get_setitem_indexer\u001b[0m\u001b[0;34m(\u001b[0m\u001b[0mkey\u001b[0m\u001b[0;34m)\u001b[0m\u001b[0;34m\u001b[0m\u001b[0m\n\u001b[0;32m--> 190\u001b[0;31m         \u001b[0mself\u001b[0m\u001b[0;34m.\u001b[0m\u001b[0m_setitem_with_indexer\u001b[0m\u001b[0;34m(\u001b[0m\u001b[0mindexer\u001b[0m\u001b[0;34m,\u001b[0m \u001b[0mvalue\u001b[0m\u001b[0;34m)\u001b[0m\u001b[0;34m\u001b[0m\u001b[0m\n\u001b[0m\u001b[1;32m    191\u001b[0m \u001b[0;34m\u001b[0m\u001b[0m\n\u001b[1;32m    192\u001b[0m     \u001b[0;32mdef\u001b[0m \u001b[0m_validate_key\u001b[0m\u001b[0;34m(\u001b[0m\u001b[0mself\u001b[0m\u001b[0;34m,\u001b[0m \u001b[0mkey\u001b[0m\u001b[0;34m,\u001b[0m \u001b[0maxis\u001b[0m\u001b[0;34m)\u001b[0m\u001b[0;34m:\u001b[0m\u001b[0;34m\u001b[0m\u001b[0m\n",
      "\u001b[0;32m~/anaconda3/envs/U4-S1-NLP/lib/python3.7/site-packages/pandas/core/indexing.py\u001b[0m in \u001b[0;36m_setitem_with_indexer\u001b[0;34m(self, indexer, value)\u001b[0m\n\u001b[1;32m    443\u001b[0m                         \u001b[0;32mif\u001b[0m \u001b[0mis_list_like_indexer\u001b[0m\u001b[0;34m(\u001b[0m\u001b[0mvalue\u001b[0m\u001b[0;34m)\u001b[0m\u001b[0;34m:\u001b[0m\u001b[0;34m\u001b[0m\u001b[0m\n\u001b[1;32m    444\u001b[0m                             \u001b[0;32mif\u001b[0m \u001b[0mlen\u001b[0m\u001b[0;34m(\u001b[0m\u001b[0mvalue\u001b[0m\u001b[0;34m)\u001b[0m \u001b[0;34m!=\u001b[0m \u001b[0mlen\u001b[0m\u001b[0;34m(\u001b[0m\u001b[0mself\u001b[0m\u001b[0;34m.\u001b[0m\u001b[0mobj\u001b[0m\u001b[0;34m.\u001b[0m\u001b[0mcolumns\u001b[0m\u001b[0;34m)\u001b[0m\u001b[0;34m:\u001b[0m\u001b[0;34m\u001b[0m\u001b[0m\n\u001b[0;32m--> 445\u001b[0;31m                                 raise ValueError(\"cannot set a row with \"\n\u001b[0m\u001b[1;32m    446\u001b[0m                                                  \"mismatched columns\")\n\u001b[1;32m    447\u001b[0m \u001b[0;34m\u001b[0m\u001b[0m\n",
      "\u001b[0;31mValueError\u001b[0m: cannot set a row with mismatched columns"
     ]
    }
   ],
   "source": [
    "for city in cities:\n",
    "    for start in range(0, max_results_per_city, 10):\n",
    "        page = requests.get('http://www.indeed.com/jobs?q=data+scientist+%2420%2C000&l=' + str(city) + '&start=' + str(start))\n",
    "        time.sleep(1)\n",
    "        soup = BeautifulSoup(page.text, 'html.parser')\n",
    "        for div in soup.find_all(name='div', attrs={'class': 'row'}):\n",
    "            num = len(df) + 1\n",
    "            job_post = []\n",
    "            job_post.append(city)\n",
    "            \n",
    "            # Add the job title\n",
    "            for a in div.find_all(name='a', attrs={'data-tn-element': 'jobTitle'}):\n",
    "                job_post.append(a['title'])\n",
    "                \n",
    "            # Add the company name\n",
    "            company = div.find_all(name='span', attrs={'class': 'company'})\n",
    "            if len(company) > 0:\n",
    "                for c in company:\n",
    "                    job_post.append(c.text.strip())\n",
    "            else:\n",
    "                sec_try = div.find_all(name='span', attrs={'class': 'result-link-source'})\n",
    "                for span in sec_try:\n",
    "                    job_post.append(span.text)\n",
    "                    \n",
    "            # Add the location\n",
    "            c = div.find_all('span', attrs={'class': 'location'})\n",
    "            for span in c:\n",
    "                job_post.append(span.text)\n",
    "                \n",
    "            # Add the job summary\n",
    "            divs = soup.find_all('div', attrs={'class': 'summary'})\n",
    "            for div in divs:\n",
    "                if len(div) > 1:\n",
    "                    summary = []\n",
    "                    lines = div.find_all('li')\n",
    "                    if len(lines) == 1:\n",
    "                        for line in lines:\n",
    "                            job_post.append(line.text.strip())\n",
    "                    else:\n",
    "                        for line in lines:\n",
    "                            summary.append(line.text.strip())\n",
    "                        job_post.append(' '.join(summary))\n",
    "                else:\n",
    "                    job_post.append(div.text.strip())\n",
    "                    \n",
    "            # Add the salary\n",
    "            salary = div.find_all(name='span', attrs={'class': 'salaryText'})\n",
    "            if len(salary) > 0:\n",
    "                for s in salary:\n",
    "                    job_post.append(s.text.strip())\n",
    "            else:\n",
    "                job_post.append('Nothing found')\n",
    "                \n",
    "            print(job_post)\n",
    "                \n",
    "            df.loc[num] = job_post"
   ]
  },
  {
   "cell_type": "code",
   "execution_count": 20,
   "metadata": {},
   "outputs": [
    {
     "data": {
      "text/plain": [
       "['Los+Angeles',\n",
       " 'Data Scientist, Workforce Analytics',\n",
       " 'Warner Bros. Entertainment Group',\n",
       " 'Burbank, CA',\n",
       " 'Company Overview WarnerMedia is a leading media and entertainment company that creates and distributes premium and popular content from a diverse array of…',\n",
       " 'Build the Future of Entertainment. HBO Max is WarnerMedia’s direct-to-consumer (DTC) offering debuting in May 2020. Paid time off every year to volunteer.',\n",
       " 'Intuit is looking for innovative and hands-on data scientists to focus on Smart Money Services. Our team leverages data mining/machine learning techniques to…',\n",
       " 'Build the Future of Entertainment. HBO Max is WarnerMedia’s direct-to-consumer (DTC) offering debuting in May 2020. Strong presentation skills are a must.',\n",
       " 'The Data Scientist conducts research in medical applications of data science by applying techniques and models from machine learning and computational…',\n",
       " 'Build the Future of Entertainment. HBO Max is WarnerMedia’s direct-to-consumer (DTC) offering debuting in May 2020. Experience in media content metadata a plus.',\n",
       " 'Build the Future of Entertainment. HBO Max is WarnerMedia’s direct-to-consumer (DTC) offering debuting in May 2020. Strong presentation skills are a must.',\n",
       " 'We use data science and machine learning to predict the future buying behavior of consumers, and the types of actions that businesses can take around those…',\n",
       " 'Quibi is seeking data scientists to build cutting-edge machine learning models, analytical products and testing frameworks.',\n",
       " 'Build the Future of Entertainment. HBO Max is WarnerMedia’s direct-to-consumer (DTC) offering debuting in May 2020. Strong presentation skills are a must.',\n",
       " 'Nothing found']"
      ]
     },
     "execution_count": 20,
     "metadata": {},
     "output_type": "execute_result"
    }
   ],
   "source": [
    "job_post"
   ]
  },
  {
   "cell_type": "code",
   "execution_count": 16,
   "metadata": {},
   "outputs": [
    {
     "data": {
      "text/plain": [
       "['Build the Future of Entertainment.',\n",
       " 'HBO Max is WarnerMedia’s direct-to-consumer (DTC) offering debuting in May 2020.',\n",
       " 'Strong presentation skills are a must.']"
      ]
     },
     "execution_count": 16,
     "metadata": {},
     "output_type": "execute_result"
    }
   ],
   "source": [
    "summary"
   ]
  },
  {
   "cell_type": "code",
   "execution_count": 17,
   "metadata": {},
   "outputs": [
    {
     "data": {
      "text/plain": [
       "'Build the Future of Entertainment. HBO Max is WarnerMedia’s direct-to-consumer (DTC) offering debuting in May 2020. Strong presentation skills are a must.'"
      ]
     },
     "execution_count": 17,
     "metadata": {},
     "output_type": "execute_result"
    }
   ],
   "source": [
    "' '.join(summary)"
   ]
  },
  {
   "cell_type": "code",
   "execution_count": null,
   "metadata": {},
   "outputs": [],
   "source": []
  }
 ],
 "metadata": {
  "colab": {
   "collapsed_sections": [],
   "name": "LS_DS_421_Text_Data_Assignment.ipynb",
   "provenance": [],
   "version": "0.3.2"
  },
  "kernelspec": {
   "display_name": "U4-S1-NLP (Python3)",
   "language": "python",
   "name": "u4-s1-nlp"
  },
  "language_info": {
   "codemirror_mode": {
    "name": "ipython",
    "version": 3
   },
   "file_extension": ".py",
   "mimetype": "text/x-python",
   "name": "python",
   "nbconvert_exporter": "python",
   "pygments_lexer": "ipython3",
   "version": "3.7.0"
  },
  "toc-autonumbering": false
 },
 "nbformat": 4,
 "nbformat_minor": 4
}
