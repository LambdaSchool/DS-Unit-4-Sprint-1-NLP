{
 "cells": [
  {
   "cell_type": "markdown",
   "metadata": {},
   "source": [
    "<img align=\"left\" src=\"https://lever-client-logos.s3.amazonaws.com/864372b1-534c-480e-acd5-9711f850815c-1524247202159.png\" width=200>\n",
    "<br></br>\n",
    "<br></br>\n",
    "\n",
    "# Natural Language Processing (NLP)\n",
    "## *Data Science Unit 4 Sprint 1 Assignment 1*\n",
    "\n",
    "Your goal in this assignment: find the attributes of the best & worst coffee shops in the dataset. The text is fairly raw: dates in the review, extra words in the `star_rating` column, etc. You'll probably want to clean that stuff up for a better analysis. \n",
    "\n",
    "Analyze the corpus of text using text visualizations of token frequency. Try cleaning the data as much as possible. Try the following techniques: \n",
    "- Lemmatization\n",
    "- Custom stopword removal\n",
    "\n",
    "Keep in mind the attributes of good tokens. Once you have a solid baseline, layer in the star rating in your visualization(s). Key part of this assignment - produce a write-up of the attributes of the best and worst coffee shops. Based on your analysis, what makes the best the best and the worst the worst. Use graphs and numbesr from your analysis to support your conclusions. There should be plenty of markdown cells! :coffee:"
   ]
  },
  {
   "cell_type": "markdown",
   "metadata": {},
   "source": [
    "# Sick vid"
   ]
  },
  {
   "cell_type": "code",
   "execution_count": 24,
   "metadata": {},
   "outputs": [
    {
     "data": {
      "image/jpeg": "[encoded data removed]",
      "text/html": [
       "\n",
       "        <iframe\n",
       "            width=\"400\"\n",
       "            height=\"300\"\n",
       "            src=\"https://www.youtube.com/embed/Jml7NVYm8cs\"\n",
       "            frameborder=\"0\"\n",
       "            allowfullscreen\n",
       "        ></iframe>\n",
       "        "
      ],
      "text/plain": [
       "<IPython.lib.display.YouTubeVideo at 0x126681198>"
      ]
     },
     "execution_count": 24,
     "metadata": {},
     "output_type": "execute_result"
    }
   ],
   "source": [
    "from IPython.display import YouTubeVideo\n",
    "\n",
    "YouTubeVideo('Jml7NVYm8cs')"
   ]
  },
  {
   "cell_type": "markdown",
   "metadata": {},
   "source": [
    "# Import data"
   ]
  },
  {
   "cell_type": "code",
   "execution_count": 25,
   "metadata": {},
   "outputs": [
    {
     "data": {
      "text/plain": [
       "'/Users/isaacgrove/Development/DSu4s1/DS-Unit-4-Sprint-1-NLP/module1-text-data'"
      ]
     },
     "execution_count": 25,
     "metadata": {},
     "output_type": "execute_result"
    }
   ],
   "source": [
    "%pwd"
   ]
  },
  {
   "cell_type": "code",
   "execution_count": 56,
   "metadata": {},
   "outputs": [
    {
     "data": {
      "text/html": [
       "<div>\n",
       "<style scoped>\n",
       "    .dataframe tbody tr th:only-of-type {\n",
       "        vertical-align: middle;\n",
       "    }\n",
       "\n",
       "    .dataframe tbody tr th {\n",
       "        vertical-align: top;\n",
       "    }\n",
       "\n",
       "    .dataframe thead th {\n",
       "        text-align: right;\n",
       "    }\n",
       "</style>\n",
       "<table border=\"1\" class=\"dataframe\">\n",
       "  <thead>\n",
       "    <tr style=\"text-align: right;\">\n",
       "      <th></th>\n",
       "      <th>coffee_shop_name</th>\n",
       "      <th>full_review_text</th>\n",
       "      <th>star_rating</th>\n",
       "    </tr>\n",
       "  </thead>\n",
       "  <tbody>\n",
       "    <tr>\n",
       "      <th>0</th>\n",
       "      <td>The Factory - Cafe With a Soul</td>\n",
       "      <td>11/25/2016 1 check-in Love love loved the atm...</td>\n",
       "      <td>5.0 star rating</td>\n",
       "    </tr>\n",
       "    <tr>\n",
       "      <th>1</th>\n",
       "      <td>The Factory - Cafe With a Soul</td>\n",
       "      <td>12/2/2016 Listed in Date Night: Austin, Ambia...</td>\n",
       "      <td>4.0 star rating</td>\n",
       "    </tr>\n",
       "    <tr>\n",
       "      <th>2</th>\n",
       "      <td>The Factory - Cafe With a Soul</td>\n",
       "      <td>11/30/2016 1 check-in Listed in Brunch Spots ...</td>\n",
       "      <td>4.0 star rating</td>\n",
       "    </tr>\n",
       "    <tr>\n",
       "      <th>3</th>\n",
       "      <td>The Factory - Cafe With a Soul</td>\n",
       "      <td>11/25/2016 Very cool decor! Good drinks Nice ...</td>\n",
       "      <td>2.0 star rating</td>\n",
       "    </tr>\n",
       "    <tr>\n",
       "      <th>4</th>\n",
       "      <td>The Factory - Cafe With a Soul</td>\n",
       "      <td>12/3/2016 1 check-in They are located within ...</td>\n",
       "      <td>4.0 star rating</td>\n",
       "    </tr>\n",
       "  </tbody>\n",
       "</table>\n",
       "</div>"
      ],
      "text/plain": [
       "                  coffee_shop_name  \\\n",
       "0  The Factory - Cafe With a Soul    \n",
       "1  The Factory - Cafe With a Soul    \n",
       "2  The Factory - Cafe With a Soul    \n",
       "3  The Factory - Cafe With a Soul    \n",
       "4  The Factory - Cafe With a Soul    \n",
       "\n",
       "                                    full_review_text        star_rating  \n",
       "0   11/25/2016 1 check-in Love love loved the atm...   5.0 star rating   \n",
       "1   12/2/2016 Listed in Date Night: Austin, Ambia...   4.0 star rating   \n",
       "2   11/30/2016 1 check-in Listed in Brunch Spots ...   4.0 star rating   \n",
       "3   11/25/2016 Very cool decor! Good drinks Nice ...   2.0 star rating   \n",
       "4   12/3/2016 1 check-in They are located within ...   4.0 star rating   "
      ]
     },
     "execution_count": 56,
     "metadata": {},
     "output_type": "execute_result"
    }
   ],
   "source": [
    "import pandas as pd\n",
    "\n",
    "url = \"https://raw.githubusercontent.com/LambdaSchool/DS-Unit-4-Sprint-1-NLP/master/module1-text-data/data/yelp_coffeeshop_review_data.csv\"\n",
    "\n",
    "shops = pd.read_csv(url)\n",
    "shops.head()"
   ]
  },
  {
   "cell_type": "markdown",
   "metadata": {},
   "source": [
    "## Data Cleaning"
   ]
  },
  {
   "cell_type": "code",
   "execution_count": 27,
   "metadata": {},
   "outputs": [],
   "source": [
    "# Base\n",
    "import re\n",
    "\n",
    "# Plotting\n",
    "import squarify\n",
    "import matplotlib.pyplot as plt\n",
    "import seaborn as sns\n"
   ]
  },
  {
   "cell_type": "code",
   "execution_count": 57,
   "metadata": {},
   "outputs": [
    {
     "data": {
      "text/html": [
       "<div>\n",
       "<style scoped>\n",
       "    .dataframe tbody tr th:only-of-type {\n",
       "        vertical-align: middle;\n",
       "    }\n",
       "\n",
       "    .dataframe tbody tr th {\n",
       "        vertical-align: top;\n",
       "    }\n",
       "\n",
       "    .dataframe thead th {\n",
       "        text-align: right;\n",
       "    }\n",
       "</style>\n",
       "<table border=\"1\" class=\"dataframe\">\n",
       "  <thead>\n",
       "    <tr style=\"text-align: right;\">\n",
       "      <th></th>\n",
       "      <th>coffee_shop_name</th>\n",
       "      <th>full_review_text</th>\n",
       "      <th>star_rating</th>\n",
       "      <th>new_reviews_text</th>\n",
       "    </tr>\n",
       "  </thead>\n",
       "  <tbody>\n",
       "    <tr>\n",
       "      <th>0</th>\n",
       "      <td>The Factory - Cafe With a Soul</td>\n",
       "      <td>11/25/2016 1 check-in Love love loved the atm...</td>\n",
       "      <td>5.0 star rating</td>\n",
       "      <td>1 check-in Love love loved the atmosphere! Eve...</td>\n",
       "    </tr>\n",
       "    <tr>\n",
       "      <th>1</th>\n",
       "      <td>The Factory - Cafe With a Soul</td>\n",
       "      <td>12/2/2016 Listed in Date Night: Austin, Ambia...</td>\n",
       "      <td>4.0 star rating</td>\n",
       "      <td>Listed in Date Night: Austin, Ambiance in Aust...</td>\n",
       "    </tr>\n",
       "    <tr>\n",
       "      <th>2</th>\n",
       "      <td>The Factory - Cafe With a Soul</td>\n",
       "      <td>11/30/2016 1 check-in Listed in Brunch Spots ...</td>\n",
       "      <td>4.0 star rating</td>\n",
       "      <td>1 check-in Listed in Brunch Spots I loved the ...</td>\n",
       "    </tr>\n",
       "    <tr>\n",
       "      <th>3</th>\n",
       "      <td>The Factory - Cafe With a Soul</td>\n",
       "      <td>11/25/2016 Very cool decor! Good drinks Nice ...</td>\n",
       "      <td>2.0 star rating</td>\n",
       "      <td>Very cool decor! Good drinks Nice seating  How...</td>\n",
       "    </tr>\n",
       "    <tr>\n",
       "      <th>4</th>\n",
       "      <td>The Factory - Cafe With a Soul</td>\n",
       "      <td>12/3/2016 1 check-in They are located within ...</td>\n",
       "      <td>4.0 star rating</td>\n",
       "      <td>1 check-in They are located within the Northcr...</td>\n",
       "    </tr>\n",
       "  </tbody>\n",
       "</table>\n",
       "</div>"
      ],
      "text/plain": [
       "                  coffee_shop_name  \\\n",
       "0  The Factory - Cafe With a Soul    \n",
       "1  The Factory - Cafe With a Soul    \n",
       "2  The Factory - Cafe With a Soul    \n",
       "3  The Factory - Cafe With a Soul    \n",
       "4  The Factory - Cafe With a Soul    \n",
       "\n",
       "                                    full_review_text        star_rating  \\\n",
       "0   11/25/2016 1 check-in Love love loved the atm...   5.0 star rating    \n",
       "1   12/2/2016 Listed in Date Night: Austin, Ambia...   4.0 star rating    \n",
       "2   11/30/2016 1 check-in Listed in Brunch Spots ...   4.0 star rating    \n",
       "3   11/25/2016 Very cool decor! Good drinks Nice ...   2.0 star rating    \n",
       "4   12/3/2016 1 check-in They are located within ...   4.0 star rating    \n",
       "\n",
       "                                    new_reviews_text  \n",
       "0  1 check-in Love love loved the atmosphere! Eve...  \n",
       "1  Listed in Date Night: Austin, Ambiance in Aust...  \n",
       "2  1 check-in Listed in Brunch Spots I loved the ...  \n",
       "3  Very cool decor! Good drinks Nice seating  How...  \n",
       "4  1 check-in They are located within the Northcr...  "
      ]
     },
     "execution_count": 57,
     "metadata": {},
     "output_type": "execute_result"
    }
   ],
   "source": [
    "# Clean dates off of review text\n",
    "\n",
    "reviews = shops['full_review_text'].tolist()\n",
    "new_reviews = []\n",
    "for review in reviews:\n",
    "    new_reviews.append(review.split(None, 1)[-1])\n",
    "shops['new_reviews_text'] = new_reviews\n",
    "\n",
    "shops.head()"
   ]
  },
  {
   "cell_type": "code",
   "execution_count": 58,
   "metadata": {},
   "outputs": [
    {
     "data": {
      "text/html": [
       "<div>\n",
       "<style scoped>\n",
       "    .dataframe tbody tr th:only-of-type {\n",
       "        vertical-align: middle;\n",
       "    }\n",
       "\n",
       "    .dataframe tbody tr th {\n",
       "        vertical-align: top;\n",
       "    }\n",
       "\n",
       "    .dataframe thead th {\n",
       "        text-align: right;\n",
       "    }\n",
       "</style>\n",
       "<table border=\"1\" class=\"dataframe\">\n",
       "  <thead>\n",
       "    <tr style=\"text-align: right;\">\n",
       "      <th></th>\n",
       "      <th>coffee_shop_name</th>\n",
       "      <th>full_review_text</th>\n",
       "      <th>star_rating</th>\n",
       "      <th>new_reviews_text</th>\n",
       "      <th>star_rating_clean</th>\n",
       "    </tr>\n",
       "  </thead>\n",
       "  <tbody>\n",
       "    <tr>\n",
       "      <th>0</th>\n",
       "      <td>The Factory - Cafe With a Soul</td>\n",
       "      <td>11/25/2016 1 check-in Love love loved the atm...</td>\n",
       "      <td>5.0 star rating</td>\n",
       "      <td>1 check-in Love love loved the atmosphere! Eve...</td>\n",
       "      <td>5.0</td>\n",
       "    </tr>\n",
       "    <tr>\n",
       "      <th>1</th>\n",
       "      <td>The Factory - Cafe With a Soul</td>\n",
       "      <td>12/2/2016 Listed in Date Night: Austin, Ambia...</td>\n",
       "      <td>4.0 star rating</td>\n",
       "      <td>Listed in Date Night: Austin, Ambiance in Aust...</td>\n",
       "      <td>4.0</td>\n",
       "    </tr>\n",
       "    <tr>\n",
       "      <th>2</th>\n",
       "      <td>The Factory - Cafe With a Soul</td>\n",
       "      <td>11/30/2016 1 check-in Listed in Brunch Spots ...</td>\n",
       "      <td>4.0 star rating</td>\n",
       "      <td>1 check-in Listed in Brunch Spots I loved the ...</td>\n",
       "      <td>4.0</td>\n",
       "    </tr>\n",
       "    <tr>\n",
       "      <th>3</th>\n",
       "      <td>The Factory - Cafe With a Soul</td>\n",
       "      <td>11/25/2016 Very cool decor! Good drinks Nice ...</td>\n",
       "      <td>2.0 star rating</td>\n",
       "      <td>Very cool decor! Good drinks Nice seating  How...</td>\n",
       "      <td>2.0</td>\n",
       "    </tr>\n",
       "    <tr>\n",
       "      <th>4</th>\n",
       "      <td>The Factory - Cafe With a Soul</td>\n",
       "      <td>12/3/2016 1 check-in They are located within ...</td>\n",
       "      <td>4.0 star rating</td>\n",
       "      <td>1 check-in They are located within the Northcr...</td>\n",
       "      <td>4.0</td>\n",
       "    </tr>\n",
       "  </tbody>\n",
       "</table>\n",
       "</div>"
      ],
      "text/plain": [
       "                  coffee_shop_name  \\\n",
       "0  The Factory - Cafe With a Soul    \n",
       "1  The Factory - Cafe With a Soul    \n",
       "2  The Factory - Cafe With a Soul    \n",
       "3  The Factory - Cafe With a Soul    \n",
       "4  The Factory - Cafe With a Soul    \n",
       "\n",
       "                                    full_review_text        star_rating  \\\n",
       "0   11/25/2016 1 check-in Love love loved the atm...   5.0 star rating    \n",
       "1   12/2/2016 Listed in Date Night: Austin, Ambia...   4.0 star rating    \n",
       "2   11/30/2016 1 check-in Listed in Brunch Spots ...   4.0 star rating    \n",
       "3   11/25/2016 Very cool decor! Good drinks Nice ...   2.0 star rating    \n",
       "4   12/3/2016 1 check-in They are located within ...   4.0 star rating    \n",
       "\n",
       "                                    new_reviews_text  star_rating_clean  \n",
       "0  1 check-in Love love loved the atmosphere! Eve...                5.0  \n",
       "1  Listed in Date Night: Austin, Ambiance in Aust...                4.0  \n",
       "2  1 check-in Listed in Brunch Spots I loved the ...                4.0  \n",
       "3  Very cool decor! Good drinks Nice seating  How...                2.0  \n",
       "4  1 check-in They are located within the Northcr...                4.0  "
      ]
     },
     "execution_count": 58,
     "metadata": {},
     "output_type": "execute_result"
    }
   ],
   "source": [
    "# Clean strings off of star rating\n",
    "\n",
    "ratings = shops['star_rating'].tolist()\n",
    "new_ratings = []\n",
    "for rating in ratings:\n",
    "    new_ratings.append(float(rating.split()[0]))\n",
    "shops['star_rating_clean'] = new_ratings\n",
    "\n",
    "shops.head()"
   ]
  },
  {
   "cell_type": "code",
   "execution_count": 59,
   "metadata": {},
   "outputs": [
    {
     "data": {
      "text/plain": [
       "5.0    0.496324\n",
       "4.0    0.309874\n",
       "3.0    0.096901\n",
       "2.0    0.060399\n",
       "1.0    0.036502\n",
       "Name: star_rating_clean, dtype: float64"
      ]
     },
     "execution_count": 59,
     "metadata": {},
     "output_type": "execute_result"
    }
   ],
   "source": [
    "shops['star_rating_clean'].value_counts(normalize=True)"
   ]
  },
  {
   "cell_type": "code",
   "execution_count": null,
   "metadata": {},
   "outputs": [],
   "source": []
  },
  {
   "cell_type": "markdown",
   "metadata": {},
   "source": [
    "### Tokenize review text"
   ]
  },
  {
   "cell_type": "code",
   "execution_count": null,
   "metadata": {},
   "outputs": [],
   "source": []
  },
  {
   "cell_type": "code",
   "execution_count": 60,
   "metadata": {},
   "outputs": [],
   "source": [
    "def tokenize(text):\n",
    "    \"\"\"Parses a string into a list of semantic units (words)\n",
    "\n",
    "    Args:\n",
    "        text (str): The string that the function will tokenize.\n",
    "\n",
    "    Returns:\n",
    "        list: tokens parsed out by the mechanics of your choice\n",
    "    \"\"\"\n",
    "    \n",
    "    tokens = re.sub('[^a-zA-Z 0-9]', '', text)\n",
    "    tokens = tokens.lower().split()\n",
    "    \n",
    "    return tokens"
   ]
  },
  {
   "cell_type": "code",
   "execution_count": 51,
   "metadata": {},
   "outputs": [],
   "source": [
    "nlp = spacy.load(\"en_core_web_lg\")"
   ]
  },
  {
   "cell_type": "code",
   "execution_count": 64,
   "metadata": {},
   "outputs": [],
   "source": [
    "# Use our \"tokenize\" function on the review text and put it in a new column\n",
    "\n",
    "shops['tokenized_reviews'] = shops['new_reviews_text'].apply(tokenize)"
   ]
  },
  {
   "cell_type": "code",
   "execution_count": 65,
   "metadata": {},
   "outputs": [
    {
     "data": {
      "text/html": [
       "<div>\n",
       "<style scoped>\n",
       "    .dataframe tbody tr th:only-of-type {\n",
       "        vertical-align: middle;\n",
       "    }\n",
       "\n",
       "    .dataframe tbody tr th {\n",
       "        vertical-align: top;\n",
       "    }\n",
       "\n",
       "    .dataframe thead th {\n",
       "        text-align: right;\n",
       "    }\n",
       "</style>\n",
       "<table border=\"1\" class=\"dataframe\">\n",
       "  <thead>\n",
       "    <tr style=\"text-align: right;\">\n",
       "      <th></th>\n",
       "      <th>coffee_shop_name</th>\n",
       "      <th>full_review_text</th>\n",
       "      <th>star_rating</th>\n",
       "      <th>new_reviews_text</th>\n",
       "      <th>star_rating_clean</th>\n",
       "      <th>tokens</th>\n",
       "      <th>tokenized_reviews</th>\n",
       "    </tr>\n",
       "  </thead>\n",
       "  <tbody>\n",
       "    <tr>\n",
       "      <th>0</th>\n",
       "      <td>The Factory - Cafe With a Soul</td>\n",
       "      <td>11/25/2016 1 check-in Love love loved the atm...</td>\n",
       "      <td>5.0 star rating</td>\n",
       "      <td>1 check-in Love love loved the atmosphere! Eve...</td>\n",
       "      <td>5.0</td>\n",
       "      <td>[1, checkin, love, love, loved, the, atmospher...</td>\n",
       "      <td>[1, checkin, love, love, loved, the, atmospher...</td>\n",
       "    </tr>\n",
       "    <tr>\n",
       "      <th>1</th>\n",
       "      <td>The Factory - Cafe With a Soul</td>\n",
       "      <td>12/2/2016 Listed in Date Night: Austin, Ambia...</td>\n",
       "      <td>4.0 star rating</td>\n",
       "      <td>Listed in Date Night: Austin, Ambiance in Aust...</td>\n",
       "      <td>4.0</td>\n",
       "      <td>[listed, in, date, night, austin, ambiance, in...</td>\n",
       "      <td>[listed, in, date, night, austin, ambiance, in...</td>\n",
       "    </tr>\n",
       "    <tr>\n",
       "      <th>2</th>\n",
       "      <td>The Factory - Cafe With a Soul</td>\n",
       "      <td>11/30/2016 1 check-in Listed in Brunch Spots ...</td>\n",
       "      <td>4.0 star rating</td>\n",
       "      <td>1 check-in Listed in Brunch Spots I loved the ...</td>\n",
       "      <td>4.0</td>\n",
       "      <td>[1, checkin, listed, in, brunch, spots, i, lov...</td>\n",
       "      <td>[1, checkin, listed, in, brunch, spots, i, lov...</td>\n",
       "    </tr>\n",
       "    <tr>\n",
       "      <th>3</th>\n",
       "      <td>The Factory - Cafe With a Soul</td>\n",
       "      <td>11/25/2016 Very cool decor! Good drinks Nice ...</td>\n",
       "      <td>2.0 star rating</td>\n",
       "      <td>Very cool decor! Good drinks Nice seating  How...</td>\n",
       "      <td>2.0</td>\n",
       "      <td>[very, cool, decor, good, drinks, nice, seatin...</td>\n",
       "      <td>[very, cool, decor, good, drinks, nice, seatin...</td>\n",
       "    </tr>\n",
       "    <tr>\n",
       "      <th>4</th>\n",
       "      <td>The Factory - Cafe With a Soul</td>\n",
       "      <td>12/3/2016 1 check-in They are located within ...</td>\n",
       "      <td>4.0 star rating</td>\n",
       "      <td>1 check-in They are located within the Northcr...</td>\n",
       "      <td>4.0</td>\n",
       "      <td>[1, checkin, they, are, located, within, the, ...</td>\n",
       "      <td>[1, checkin, they, are, located, within, the, ...</td>\n",
       "    </tr>\n",
       "  </tbody>\n",
       "</table>\n",
       "</div>"
      ],
      "text/plain": [
       "                  coffee_shop_name  \\\n",
       "0  The Factory - Cafe With a Soul    \n",
       "1  The Factory - Cafe With a Soul    \n",
       "2  The Factory - Cafe With a Soul    \n",
       "3  The Factory - Cafe With a Soul    \n",
       "4  The Factory - Cafe With a Soul    \n",
       "\n",
       "                                    full_review_text        star_rating  \\\n",
       "0   11/25/2016 1 check-in Love love loved the atm...   5.0 star rating    \n",
       "1   12/2/2016 Listed in Date Night: Austin, Ambia...   4.0 star rating    \n",
       "2   11/30/2016 1 check-in Listed in Brunch Spots ...   4.0 star rating    \n",
       "3   11/25/2016 Very cool decor! Good drinks Nice ...   2.0 star rating    \n",
       "4   12/3/2016 1 check-in They are located within ...   4.0 star rating    \n",
       "\n",
       "                                    new_reviews_text  star_rating_clean  \\\n",
       "0  1 check-in Love love loved the atmosphere! Eve...                5.0   \n",
       "1  Listed in Date Night: Austin, Ambiance in Aust...                4.0   \n",
       "2  1 check-in Listed in Brunch Spots I loved the ...                4.0   \n",
       "3  Very cool decor! Good drinks Nice seating  How...                2.0   \n",
       "4  1 check-in They are located within the Northcr...                4.0   \n",
       "\n",
       "                                              tokens  \\\n",
       "0  [1, checkin, love, love, loved, the, atmospher...   \n",
       "1  [listed, in, date, night, austin, ambiance, in...   \n",
       "2  [1, checkin, listed, in, brunch, spots, i, lov...   \n",
       "3  [very, cool, decor, good, drinks, nice, seatin...   \n",
       "4  [1, checkin, they, are, located, within, the, ...   \n",
       "\n",
       "                                   tokenized_reviews  \n",
       "0  [1, checkin, love, love, loved, the, atmospher...  \n",
       "1  [listed, in, date, night, austin, ambiance, in...  \n",
       "2  [1, checkin, listed, in, brunch, spots, i, lov...  \n",
       "3  [very, cool, decor, good, drinks, nice, seatin...  \n",
       "4  [1, checkin, they, are, located, within, the, ...  "
      ]
     },
     "execution_count": 65,
     "metadata": {},
     "output_type": "execute_result"
    }
   ],
   "source": [
    "shops.head(5)"
   ]
  },
  {
   "cell_type": "code",
   "execution_count": null,
   "metadata": {},
   "outputs": [],
   "source": []
  },
  {
   "cell_type": "code",
   "execution_count": null,
   "metadata": {},
   "outputs": [],
   "source": []
  },
  {
   "cell_type": "markdown",
   "metadata": {},
   "source": [
    "## How do we want to analyze these coffee shop tokens? \n",
    "\n",
    "- Overall Word / Token Count\n",
    "- View Counts by Rating \n",
    "- *Hint:* a 'bad' coffee shops has a rating betweeen 1 & 3 based on the distribution of ratings. A 'good' coffee shop is a 4 or 5. "
   ]
  },
  {
   "cell_type": "markdown",
   "metadata": {},
   "source": [
    "### Overall Word / Token Count"
   ]
  },
  {
   "cell_type": "code",
   "execution_count": 67,
   "metadata": {},
   "outputs": [
    {
     "data": {
      "text/plain": [
       "[('the', 34809),\n",
       " ('and', 26650),\n",
       " ('a', 22755),\n",
       " ('i', 20237),\n",
       " ('to', 17164),\n",
       " ('of', 12600),\n",
       " ('is', 11999),\n",
       " ('coffee', 10353),\n",
       " ('was', 9707),\n",
       " ('in', 9546)]"
      ]
     },
     "execution_count": 67,
     "metadata": {},
     "output_type": "execute_result"
    }
   ],
   "source": [
    "# Analyze tokens\n",
    "from collections import Counter\n",
    "\n",
    "word_counts = Counter()\n",
    "\n",
    "# Update it based on a split of each of the documents\n",
    "shops['tokenized_reviews'].apply(lambda x: word_counts.update(x))\n",
    "\n",
    "# Print out the 10 most common words\n",
    "word_counts.most_common(10)"
   ]
  },
  {
   "cell_type": "markdown",
   "metadata": {},
   "source": [
    "We see that these are all stop words. We'll get rid of them soon."
   ]
  },
  {
   "cell_type": "code",
   "execution_count": 68,
   "metadata": {},
   "outputs": [],
   "source": [
    "# create a fuction which takes a corpus of document and returns a dataframe of word counts\n",
    "def count(docs):\n",
    "    \n",
    "        # Instanstiate the Counter object\n",
    "        word_counts = Counter()\n",
    "        \n",
    "        # Get the total number of words\n",
    "        total_docs = len(docs)\n",
    "        \n",
    "        # Update the counter object\n",
    "        for doc in docs:\n",
    "            word_counts.update(doc)\n",
    "        \n",
    "        # Create a word count dataframe\n",
    "        temp = zip(word_counts.keys(), word_counts.values())\n",
    "        wc = pd.DataFrame(temp, columns = ['word', 'count'])\n",
    "        \n",
    "        # Get the rank of the word\n",
    "        wc['rank'] = wc['count'].rank(method='first', ascending=False)\n",
    "        \n",
    "        # Get the total number of words\n",
    "        total = wc['count'].sum()\n",
    "        \n",
    "        # Get the relative percentage of the word\n",
    "        wc['pct_total'] = wc['count'].apply(lambda x: x / total)\n",
    "        wc = wc.sort_values(by='rank')\n",
    "        return wc"
   ]
  },
  {
   "cell_type": "code",
   "execution_count": 70,
   "metadata": {},
   "outputs": [
    {
     "data": {
      "text/html": [
       "<div>\n",
       "<style scoped>\n",
       "    .dataframe tbody tr th:only-of-type {\n",
       "        vertical-align: middle;\n",
       "    }\n",
       "\n",
       "    .dataframe tbody tr th {\n",
       "        vertical-align: top;\n",
       "    }\n",
       "\n",
       "    .dataframe thead th {\n",
       "        text-align: right;\n",
       "    }\n",
       "</style>\n",
       "<table border=\"1\" class=\"dataframe\">\n",
       "  <thead>\n",
       "    <tr style=\"text-align: right;\">\n",
       "      <th></th>\n",
       "      <th>word</th>\n",
       "      <th>count</th>\n",
       "      <th>rank</th>\n",
       "      <th>pct_total</th>\n",
       "    </tr>\n",
       "  </thead>\n",
       "  <tbody>\n",
       "    <tr>\n",
       "      <th>4</th>\n",
       "      <td>the</td>\n",
       "      <td>34809</td>\n",
       "      <td>1.0</td>\n",
       "      <td>0.044975</td>\n",
       "    </tr>\n",
       "    <tr>\n",
       "      <th>15</th>\n",
       "      <td>and</td>\n",
       "      <td>26650</td>\n",
       "      <td>2.0</td>\n",
       "      <td>0.034433</td>\n",
       "    </tr>\n",
       "    <tr>\n",
       "      <th>49</th>\n",
       "      <td>a</td>\n",
       "      <td>22755</td>\n",
       "      <td>3.0</td>\n",
       "      <td>0.029401</td>\n",
       "    </tr>\n",
       "    <tr>\n",
       "      <th>19</th>\n",
       "      <td>i</td>\n",
       "      <td>20237</td>\n",
       "      <td>4.0</td>\n",
       "      <td>0.026147</td>\n",
       "    </tr>\n",
       "    <tr>\n",
       "      <th>44</th>\n",
       "      <td>to</td>\n",
       "      <td>17164</td>\n",
       "      <td>5.0</td>\n",
       "      <td>0.022177</td>\n",
       "    </tr>\n",
       "  </tbody>\n",
       "</table>\n",
       "</div>"
      ],
      "text/plain": [
       "   word  count  rank  pct_total\n",
       "4   the  34809   1.0   0.044975\n",
       "15  and  26650   2.0   0.034433\n",
       "49    a  22755   3.0   0.029401\n",
       "19    i  20237   4.0   0.026147\n",
       "44   to  17164   5.0   0.022177"
      ]
     },
     "execution_count": 70,
     "metadata": {},
     "output_type": "execute_result"
    }
   ],
   "source": [
    "# Use the Function\n",
    "wc = count(shops['tokenized_reviews'])\n",
    "wc.head()"
   ]
  },
  {
   "cell_type": "code",
   "execution_count": 71,
   "metadata": {},
   "outputs": [],
   "source": [
    "\n",
    "# NLP Libraries\n",
    "import spacy\n",
    "from spacy.tokenizer import Tokenizer\n",
    "\n",
    "nlp = spacy.load(\"en_core_web_lg\")"
   ]
  },
  {
   "cell_type": "code",
   "execution_count": 72,
   "metadata": {},
   "outputs": [],
   "source": [
    "tokenizer = Tokenizer(nlp.vocab)"
   ]
  },
  {
   "cell_type": "code",
   "execution_count": 74,
   "metadata": {},
   "outputs": [
    {
     "data": {
      "text/plain": [
       "0    [1, check-in, Love, love, loved, the, atmosphe...\n",
       "1    [Listed, in, Date, Night:, Austin,, Ambiance, ...\n",
       "2    [1, check-in, Listed, in, Brunch, Spots, I, lo...\n",
       "3    [Very, cool, decor!, Good, drinks, Nice, seati...\n",
       "4    [1, check-in, They, are, located, within, the,...\n",
       "Name: nlp_tokens, dtype: object"
      ]
     },
     "execution_count": 74,
     "metadata": {},
     "output_type": "execute_result"
    }
   ],
   "source": [
    "# Tokenizer Pipe\n",
    "\n",
    "tokens = []\n",
    "\n",
    "for doc in tokenizer.pipe(shops['new_reviews_text'], batch_size=500):\n",
    "    doc_tokens = [token.text for token in doc]\n",
    "    tokens.append(doc_tokens)\n",
    "\n",
    "shops['nlp_tokens'] = tokens\n",
    "shops['nlp_tokens'].head()"
   ]
  },
  {
   "cell_type": "code",
   "execution_count": 75,
   "metadata": {},
   "outputs": [
    {
     "data": {
      "text/html": [
       "<div>\n",
       "<style scoped>\n",
       "    .dataframe tbody tr th:only-of-type {\n",
       "        vertical-align: middle;\n",
       "    }\n",
       "\n",
       "    .dataframe tbody tr th {\n",
       "        vertical-align: top;\n",
       "    }\n",
       "\n",
       "    .dataframe thead th {\n",
       "        text-align: right;\n",
       "    }\n",
       "</style>\n",
       "<table border=\"1\" class=\"dataframe\">\n",
       "  <thead>\n",
       "    <tr style=\"text-align: right;\">\n",
       "      <th></th>\n",
       "      <th>word</th>\n",
       "      <th>count</th>\n",
       "      <th>rank</th>\n",
       "      <th>pct_total</th>\n",
       "    </tr>\n",
       "  </thead>\n",
       "  <tbody>\n",
       "    <tr>\n",
       "      <th>5</th>\n",
       "      <td>the</td>\n",
       "      <td>27779</td>\n",
       "      <td>1.0</td>\n",
       "      <td>0.034993</td>\n",
       "    </tr>\n",
       "    <tr>\n",
       "      <th>16</th>\n",
       "      <td>and</td>\n",
       "      <td>25748</td>\n",
       "      <td>2.0</td>\n",
       "      <td>0.032434</td>\n",
       "    </tr>\n",
       "    <tr>\n",
       "      <th>50</th>\n",
       "      <td>a</td>\n",
       "      <td>22085</td>\n",
       "      <td>3.0</td>\n",
       "      <td>0.027820</td>\n",
       "    </tr>\n",
       "    <tr>\n",
       "      <th>20</th>\n",
       "      <td>I</td>\n",
       "      <td>19780</td>\n",
       "      <td>4.0</td>\n",
       "      <td>0.024916</td>\n",
       "    </tr>\n",
       "    <tr>\n",
       "      <th>45</th>\n",
       "      <td>to</td>\n",
       "      <td>16904</td>\n",
       "      <td>5.0</td>\n",
       "      <td>0.021294</td>\n",
       "    </tr>\n",
       "  </tbody>\n",
       "</table>\n",
       "</div>"
      ],
      "text/plain": [
       "   word  count  rank  pct_total\n",
       "5   the  27779   1.0   0.034993\n",
       "16  and  25748   2.0   0.032434\n",
       "50    a  22085   3.0   0.027820\n",
       "20    I  19780   4.0   0.024916\n",
       "45   to  16904   5.0   0.021294"
      ]
     },
     "execution_count": 75,
     "metadata": {},
     "output_type": "execute_result"
    }
   ],
   "source": [
    "# Count\n",
    "wc = count(shops['nlp_tokens'])\n",
    "wc.head()"
   ]
  },
  {
   "cell_type": "markdown",
   "metadata": {},
   "source": [
    "##### They're all still stop words. Let's get rid of them."
   ]
  },
  {
   "cell_type": "code",
   "execution_count": 77,
   "metadata": {},
   "outputs": [],
   "source": [
    "tokens = []\n",
    "\n",
    "\"\"\" Update those tokens w/o stopwords\"\"\"\n",
    "for doc in tokenizer.pipe(shops['new_reviews_text'], batch_size=500):\n",
    "    \n",
    "    doc_tokens = []\n",
    "    \n",
    "    for token in doc:\n",
    "        if (token.is_stop == False) & (token.is_punct == False):\n",
    "            doc_tokens.append(token.text.lower())\n",
    "\n",
    "    tokens.append(doc_tokens)\n",
    "\n",
    "shops['nlp_tokens'] = tokens"
   ]
  },
  {
   "cell_type": "code",
   "execution_count": 79,
   "metadata": {},
   "outputs": [
    {
     "data": {
      "text/plain": [
       "0    [1, check-in, love, love, loved, atmosphere!, ...\n",
       "1    [listed, date, night:, austin,, ambiance, aust...\n",
       "2    [1, check-in, listed, brunch, spots, loved, ec...\n",
       "3    [cool, decor!, good, drinks, nice, seating,  ,...\n",
       "4    [1, check-in, located, northcross, mall, shopp...\n",
       "Name: nlp_tokens, dtype: object"
      ]
     },
     "execution_count": 79,
     "metadata": {},
     "output_type": "execute_result"
    }
   ],
   "source": [
    "shops.nlp_tokens.head()"
   ]
  },
  {
   "cell_type": "code",
   "execution_count": 80,
   "metadata": {},
   "outputs": [
    {
     "data": {
      "image/png": "[encoded data removed]",
      "text/plain": [
       "<Figure size 432x288 with 1 Axes>"
      ]
     },
     "metadata": {
      "needs_background": "light"
     },
     "output_type": "display_data"
    }
   ],
   "source": [
    "# Let's visualize our first worthy, default-stopword-free token counts\n",
    "\n",
    "wc = count(shops['nlp_tokens'])\n",
    "\n",
    "wc_top20 = wc[wc['rank'] <= 20]\n",
    "\n",
    "squarify.plot(sizes=wc_top20['pct_total'], label=wc_top20['word'], alpha=.8 )\n",
    "plt.axis('off')\n",
    "plt.show()"
   ]
  },
  {
   "cell_type": "code",
   "execution_count": 110,
   "metadata": {},
   "outputs": [],
   "source": [
    "# Let's add a few stop words of our own\n",
    "\n",
    "STOP_WORDS = nlp.Defaults.stop_words.union([' ','1', 'coffee', 'place', 'food', 'i\\'m', 'i\\'ve', '-', 'it\\'s', 'coffee.'])"
   ]
  },
  {
   "cell_type": "code",
   "execution_count": 111,
   "metadata": {},
   "outputs": [],
   "source": [
    "tokens = []\n",
    "\n",
    "for doc in tokenizer.pipe(shops['new_reviews_text'], batch_size=500):\n",
    "    \n",
    "    doc_tokens = []\n",
    "    \n",
    "    for token in doc: \n",
    "        if token.text.lower() not in STOP_WORDS:\n",
    "            doc_tokens.append(token.text.lower())\n",
    "   \n",
    "    tokens.append(doc_tokens)\n",
    "    \n",
    "shops['nlp_tokens'] = tokens"
   ]
  },
  {
   "cell_type": "code",
   "execution_count": 112,
   "metadata": {},
   "outputs": [
    {
     "data": {
      "text/html": [
       "<div>\n",
       "<style scoped>\n",
       "    .dataframe tbody tr th:only-of-type {\n",
       "        vertical-align: middle;\n",
       "    }\n",
       "\n",
       "    .dataframe tbody tr th {\n",
       "        vertical-align: top;\n",
       "    }\n",
       "\n",
       "    .dataframe thead th {\n",
       "        text-align: right;\n",
       "    }\n",
       "</style>\n",
       "<table border=\"1\" class=\"dataframe\">\n",
       "  <thead>\n",
       "    <tr style=\"text-align: right;\">\n",
       "      <th></th>\n",
       "      <th>word</th>\n",
       "      <th>count</th>\n",
       "      <th>rank</th>\n",
       "      <th>pct_total</th>\n",
       "    </tr>\n",
       "  </thead>\n",
       "  <tbody>\n",
       "    <tr>\n",
       "      <th>143</th>\n",
       "      <td>great</td>\n",
       "      <td>3250</td>\n",
       "      <td>1.0</td>\n",
       "      <td>0.008775</td>\n",
       "    </tr>\n",
       "    <tr>\n",
       "      <th>186</th>\n",
       "      <td>like</td>\n",
       "      <td>2902</td>\n",
       "      <td>2.0</td>\n",
       "      <td>0.007835</td>\n",
       "    </tr>\n",
       "    <tr>\n",
       "      <th>158</th>\n",
       "      <td>good</td>\n",
       "      <td>2779</td>\n",
       "      <td>3.0</td>\n",
       "      <td>0.007503</td>\n",
       "    </tr>\n",
       "    <tr>\n",
       "      <th>0</th>\n",
       "      <td>check-in</td>\n",
       "      <td>1961</td>\n",
       "      <td>4.0</td>\n",
       "      <td>0.005295</td>\n",
       "    </tr>\n",
       "    <tr>\n",
       "      <th>1</th>\n",
       "      <td>love</td>\n",
       "      <td>1806</td>\n",
       "      <td>5.0</td>\n",
       "      <td>0.004876</td>\n",
       "    </tr>\n",
       "  </tbody>\n",
       "</table>\n",
       "</div>"
      ],
      "text/plain": [
       "         word  count  rank  pct_total\n",
       "143     great   3250   1.0   0.008775\n",
       "186      like   2902   2.0   0.007835\n",
       "158      good   2779   3.0   0.007503\n",
       "0    check-in   1961   4.0   0.005295\n",
       "1        love   1806   5.0   0.004876"
      ]
     },
     "execution_count": 112,
     "metadata": {},
     "output_type": "execute_result"
    }
   ],
   "source": [
    "wc = count(shops['nlp_tokens'])\n",
    "wc.head()"
   ]
  },
  {
   "cell_type": "code",
   "execution_count": 113,
   "metadata": {},
   "outputs": [
    {
     "data": {
      "image/png": "[encoded data removed]",
      "text/plain": [
       "<Figure size 432x288 with 1 Axes>"
      ]
     },
     "metadata": {
      "needs_background": "light"
     },
     "output_type": "display_data"
    }
   ],
   "source": [
    "wc = count(shops['nlp_tokens'])\n",
    "\n",
    "wc_top20 = wc[wc['rank'] <= 20]\n",
    "\n",
    "squarify.plot(sizes=wc_top20['pct_total'], label=wc_top20['word'], alpha=.8 )\n",
    "plt.axis('off')\n",
    "plt.show()"
   ]
  },
  {
   "cell_type": "markdown",
   "metadata": {},
   "source": [
    "### View Counts By Rating"
   ]
  },
  {
   "cell_type": "code",
   "execution_count": 118,
   "metadata": {},
   "outputs": [
    {
     "name": "stdout",
     "output_type": "stream",
     "text": [
      "(6140, 8)\n",
      "(1476, 8)\n",
      "(7616, 8)\n"
     ]
    }
   ],
   "source": [
    "# separate shops by rating. 4-5 stars is good, 1-3 is bad.\n",
    "\n",
    "good_shops = shops[shops['star_rating_clean'] >= 4.0]\n",
    "bad_shops = shops[shops['star_rating_clean'] < 4.0]\n",
    "\n",
    "print(good_shops.shape)\n",
    "print(bad_shops.shape)\n",
    "print(shops.shape)"
   ]
  },
  {
   "cell_type": "code",
   "execution_count": 134,
   "metadata": {},
   "outputs": [
    {
     "data": {
      "text/html": [
       "<div>\n",
       "<style scoped>\n",
       "    .dataframe tbody tr th:only-of-type {\n",
       "        vertical-align: middle;\n",
       "    }\n",
       "\n",
       "    .dataframe tbody tr th {\n",
       "        vertical-align: top;\n",
       "    }\n",
       "\n",
       "    .dataframe thead th {\n",
       "        text-align: right;\n",
       "    }\n",
       "</style>\n",
       "<table border=\"1\" class=\"dataframe\">\n",
       "  <thead>\n",
       "    <tr style=\"text-align: right;\">\n",
       "      <th></th>\n",
       "      <th>word</th>\n",
       "      <th>count</th>\n",
       "      <th>rank</th>\n",
       "      <th>pct_total</th>\n",
       "    </tr>\n",
       "  </thead>\n",
       "  <tbody>\n",
       "    <tr>\n",
       "      <th>143</th>\n",
       "      <td>great</td>\n",
       "      <td>2902</td>\n",
       "      <td>1.0</td>\n",
       "      <td>0.010073</td>\n",
       "    </tr>\n",
       "    <tr>\n",
       "      <th>311</th>\n",
       "      <td>good</td>\n",
       "      <td>2180</td>\n",
       "      <td>2.0</td>\n",
       "      <td>0.007567</td>\n",
       "    </tr>\n",
       "    <tr>\n",
       "      <th>238</th>\n",
       "      <td>like</td>\n",
       "      <td>2068</td>\n",
       "      <td>3.0</td>\n",
       "      <td>0.007178</td>\n",
       "    </tr>\n",
       "    <tr>\n",
       "      <th>1</th>\n",
       "      <td>love</td>\n",
       "      <td>1604</td>\n",
       "      <td>4.0</td>\n",
       "      <td>0.005567</td>\n",
       "    </tr>\n",
       "    <tr>\n",
       "      <th>0</th>\n",
       "      <td>check-in</td>\n",
       "      <td>1602</td>\n",
       "      <td>5.0</td>\n",
       "      <td>0.005560</td>\n",
       "    </tr>\n",
       "    <tr>\n",
       "      <th>596</th>\n",
       "      <td>little</td>\n",
       "      <td>1230</td>\n",
       "      <td>6.0</td>\n",
       "      <td>0.004269</td>\n",
       "    </tr>\n",
       "    <tr>\n",
       "      <th>250</th>\n",
       "      <td>nice</td>\n",
       "      <td>1101</td>\n",
       "      <td>7.0</td>\n",
       "      <td>0.003822</td>\n",
       "    </tr>\n",
       "    <tr>\n",
       "      <th>447</th>\n",
       "      <td>best</td>\n",
       "      <td>1093</td>\n",
       "      <td>8.0</td>\n",
       "      <td>0.003794</td>\n",
       "    </tr>\n",
       "    <tr>\n",
       "      <th>170</th>\n",
       "      <td>friendly</td>\n",
       "      <td>1014</td>\n",
       "      <td>9.0</td>\n",
       "      <td>0.003520</td>\n",
       "    </tr>\n",
       "    <tr>\n",
       "      <th>47</th>\n",
       "      <td>austin</td>\n",
       "      <td>1013</td>\n",
       "      <td>10.0</td>\n",
       "      <td>0.003516</td>\n",
       "    </tr>\n",
       "    <tr>\n",
       "      <th>51</th>\n",
       "      <td>definitely</td>\n",
       "      <td>1002</td>\n",
       "      <td>11.0</td>\n",
       "      <td>0.003478</td>\n",
       "    </tr>\n",
       "    <tr>\n",
       "      <th>468</th>\n",
       "      <td>time</td>\n",
       "      <td>994</td>\n",
       "      <td>12.0</td>\n",
       "      <td>0.003450</td>\n",
       "    </tr>\n",
       "    <tr>\n",
       "      <th>16</th>\n",
       "      <td>pretty</td>\n",
       "      <td>990</td>\n",
       "      <td>13.0</td>\n",
       "      <td>0.003436</td>\n",
       "    </tr>\n",
       "    <tr>\n",
       "      <th>290</th>\n",
       "      <td>don't</td>\n",
       "      <td>965</td>\n",
       "      <td>14.0</td>\n",
       "      <td>0.003349</td>\n",
       "    </tr>\n",
       "    <tr>\n",
       "      <th>30</th>\n",
       "      <td>latte</td>\n",
       "      <td>949</td>\n",
       "      <td>15.0</td>\n",
       "      <td>0.003294</td>\n",
       "    </tr>\n",
       "    <tr>\n",
       "      <th>29</th>\n",
       "      <td>got</td>\n",
       "      <td>947</td>\n",
       "      <td>16.0</td>\n",
       "      <td>0.003287</td>\n",
       "    </tr>\n",
       "    <tr>\n",
       "      <th>253</th>\n",
       "      <td>check-ins</td>\n",
       "      <td>930</td>\n",
       "      <td>17.0</td>\n",
       "      <td>0.003228</td>\n",
       "    </tr>\n",
       "    <tr>\n",
       "      <th>5</th>\n",
       "      <td>shop</td>\n",
       "      <td>910</td>\n",
       "      <td>18.0</td>\n",
       "      <td>0.003159</td>\n",
       "    </tr>\n",
       "    <tr>\n",
       "      <th>582</th>\n",
       "      <td>come</td>\n",
       "      <td>908</td>\n",
       "      <td>19.0</td>\n",
       "      <td>0.003152</td>\n",
       "    </tr>\n",
       "    <tr>\n",
       "      <th>756</th>\n",
       "      <td>people</td>\n",
       "      <td>896</td>\n",
       "      <td>20.0</td>\n",
       "      <td>0.003110</td>\n",
       "    </tr>\n",
       "  </tbody>\n",
       "</table>\n",
       "</div>"
      ],
      "text/plain": [
       "           word  count  rank  pct_total\n",
       "143       great   2902   1.0   0.010073\n",
       "311        good   2180   2.0   0.007567\n",
       "238        like   2068   3.0   0.007178\n",
       "1          love   1604   4.0   0.005567\n",
       "0      check-in   1602   5.0   0.005560\n",
       "596      little   1230   6.0   0.004269\n",
       "250        nice   1101   7.0   0.003822\n",
       "447        best   1093   8.0   0.003794\n",
       "170    friendly   1014   9.0   0.003520\n",
       "47       austin   1013  10.0   0.003516\n",
       "51   definitely   1002  11.0   0.003478\n",
       "468        time    994  12.0   0.003450\n",
       "16       pretty    990  13.0   0.003436\n",
       "290       don't    965  14.0   0.003349\n",
       "30        latte    949  15.0   0.003294\n",
       "29          got    947  16.0   0.003287\n",
       "253   check-ins    930  17.0   0.003228\n",
       "5          shop    910  18.0   0.003159\n",
       "582        come    908  19.0   0.003152\n",
       "756      people    896  20.0   0.003110"
      ]
     },
     "execution_count": 134,
     "metadata": {},
     "output_type": "execute_result"
    }
   ],
   "source": [
    "# top words for 'good' shops\n",
    "wc = count(good_shops['nlp_tokens'])\n",
    "wc_top20 = wc[wc['rank'] <= 20]\n",
    "wc_top20"
   ]
  },
  {
   "cell_type": "code",
   "execution_count": null,
   "metadata": {},
   "outputs": [],
   "source": []
  },
  {
   "cell_type": "code",
   "execution_count": 135,
   "metadata": {},
   "outputs": [
    {
     "data": {
      "image/png": "[encoded data removed]",
      "text/plain": [
       "<Figure size 432x288 with 1 Axes>"
      ]
     },
     "metadata": {
      "needs_background": "light"
     },
     "output_type": "display_data"
    }
   ],
   "source": [
    "squarify.plot(sizes=wc_top20['pct_total'], label=wc_top20['word'], alpha=.8 )\n",
    "plt.axis('off')\n",
    "plt.show()"
   ]
  },
  {
   "cell_type": "code",
   "execution_count": 138,
   "metadata": {},
   "outputs": [
    {
     "data": {
      "text/html": [
       "<div>\n",
       "<style scoped>\n",
       "    .dataframe tbody tr th:only-of-type {\n",
       "        vertical-align: middle;\n",
       "    }\n",
       "\n",
       "    .dataframe tbody tr th {\n",
       "        vertical-align: top;\n",
       "    }\n",
       "\n",
       "    .dataframe thead th {\n",
       "        text-align: right;\n",
       "    }\n",
       "</style>\n",
       "<table border=\"1\" class=\"dataframe\">\n",
       "  <thead>\n",
       "    <tr style=\"text-align: right;\">\n",
       "      <th></th>\n",
       "      <th>word</th>\n",
       "      <th>count</th>\n",
       "      <th>rank</th>\n",
       "      <th>pct_total</th>\n",
       "    </tr>\n",
       "  </thead>\n",
       "  <tbody>\n",
       "    <tr>\n",
       "      <th>33</th>\n",
       "      <td>like</td>\n",
       "      <td>834</td>\n",
       "      <td>1.0</td>\n",
       "      <td>0.010138</td>\n",
       "    </tr>\n",
       "    <tr>\n",
       "      <th>2</th>\n",
       "      <td>good</td>\n",
       "      <td>599</td>\n",
       "      <td>2.0</td>\n",
       "      <td>0.007281</td>\n",
       "    </tr>\n",
       "    <tr>\n",
       "      <th>208</th>\n",
       "      <td>don't</td>\n",
       "      <td>430</td>\n",
       "      <td>3.0</td>\n",
       "      <td>0.005227</td>\n",
       "    </tr>\n",
       "    <tr>\n",
       "      <th>38</th>\n",
       "      <td>check-in</td>\n",
       "      <td>359</td>\n",
       "      <td>4.0</td>\n",
       "      <td>0.004364</td>\n",
       "    </tr>\n",
       "    <tr>\n",
       "      <th>218</th>\n",
       "      <td>time</td>\n",
       "      <td>351</td>\n",
       "      <td>5.0</td>\n",
       "      <td>0.004267</td>\n",
       "    </tr>\n",
       "    <tr>\n",
       "      <th>60</th>\n",
       "      <td>pretty</td>\n",
       "      <td>349</td>\n",
       "      <td>6.0</td>\n",
       "      <td>0.004242</td>\n",
       "    </tr>\n",
       "    <tr>\n",
       "      <th>69</th>\n",
       "      <td>great</td>\n",
       "      <td>348</td>\n",
       "      <td>7.0</td>\n",
       "      <td>0.004230</td>\n",
       "    </tr>\n",
       "    <tr>\n",
       "      <th>521</th>\n",
       "      <td>people</td>\n",
       "      <td>327</td>\n",
       "      <td>8.0</td>\n",
       "      <td>0.003975</td>\n",
       "    </tr>\n",
       "    <tr>\n",
       "      <th>30</th>\n",
       "      <td>service</td>\n",
       "      <td>314</td>\n",
       "      <td>9.0</td>\n",
       "      <td>0.003817</td>\n",
       "    </tr>\n",
       "    <tr>\n",
       "      <th>28</th>\n",
       "      <td>got</td>\n",
       "      <td>300</td>\n",
       "      <td>10.0</td>\n",
       "      <td>0.003647</td>\n",
       "    </tr>\n",
       "    <tr>\n",
       "      <th>355</th>\n",
       "      <td>ordered</td>\n",
       "      <td>296</td>\n",
       "      <td>11.0</td>\n",
       "      <td>0.003598</td>\n",
       "    </tr>\n",
       "    <tr>\n",
       "      <th>473</th>\n",
       "      <td>didn't</td>\n",
       "      <td>292</td>\n",
       "      <td>12.0</td>\n",
       "      <td>0.003550</td>\n",
       "    </tr>\n",
       "    <tr>\n",
       "      <th>173</th>\n",
       "      <td>come</td>\n",
       "      <td>285</td>\n",
       "      <td>13.0</td>\n",
       "      <td>0.003464</td>\n",
       "    </tr>\n",
       "    <tr>\n",
       "      <th>4</th>\n",
       "      <td>nice</td>\n",
       "      <td>267</td>\n",
       "      <td>14.0</td>\n",
       "      <td>0.003246</td>\n",
       "    </tr>\n",
       "    <tr>\n",
       "      <th>376</th>\n",
       "      <td>order</td>\n",
       "      <td>253</td>\n",
       "      <td>15.0</td>\n",
       "      <td>0.003075</td>\n",
       "    </tr>\n",
       "    <tr>\n",
       "      <th>350</th>\n",
       "      <td>little</td>\n",
       "      <td>249</td>\n",
       "      <td>16.0</td>\n",
       "      <td>0.003027</td>\n",
       "    </tr>\n",
       "    <tr>\n",
       "      <th>288</th>\n",
       "      <td>it.</td>\n",
       "      <td>232</td>\n",
       "      <td>17.0</td>\n",
       "      <td>0.002820</td>\n",
       "    </tr>\n",
       "    <tr>\n",
       "      <th>297</th>\n",
       "      <td>drink</td>\n",
       "      <td>222</td>\n",
       "      <td>18.0</td>\n",
       "      <td>0.002699</td>\n",
       "    </tr>\n",
       "    <tr>\n",
       "      <th>334</th>\n",
       "      <td>came</td>\n",
       "      <td>214</td>\n",
       "      <td>19.0</td>\n",
       "      <td>0.002601</td>\n",
       "    </tr>\n",
       "    <tr>\n",
       "      <th>188</th>\n",
       "      <td>shop</td>\n",
       "      <td>205</td>\n",
       "      <td>20.0</td>\n",
       "      <td>0.002492</td>\n",
       "    </tr>\n",
       "  </tbody>\n",
       "</table>\n",
       "</div>"
      ],
      "text/plain": [
       "         word  count  rank  pct_total\n",
       "33       like    834   1.0   0.010138\n",
       "2        good    599   2.0   0.007281\n",
       "208     don't    430   3.0   0.005227\n",
       "38   check-in    359   4.0   0.004364\n",
       "218      time    351   5.0   0.004267\n",
       "60     pretty    349   6.0   0.004242\n",
       "69      great    348   7.0   0.004230\n",
       "521    people    327   8.0   0.003975\n",
       "30    service    314   9.0   0.003817\n",
       "28        got    300  10.0   0.003647\n",
       "355   ordered    296  11.0   0.003598\n",
       "473    didn't    292  12.0   0.003550\n",
       "173      come    285  13.0   0.003464\n",
       "4        nice    267  14.0   0.003246\n",
       "376     order    253  15.0   0.003075\n",
       "350    little    249  16.0   0.003027\n",
       "288       it.    232  17.0   0.002820\n",
       "297     drink    222  18.0   0.002699\n",
       "334      came    214  19.0   0.002601\n",
       "188      shop    205  20.0   0.002492"
      ]
     },
     "execution_count": 138,
     "metadata": {},
     "output_type": "execute_result"
    }
   ],
   "source": [
    "# top words for 'bad shops'\n",
    "wc = count(bad_shops['nlp_tokens'])\n",
    "wc_top20 = wc[wc['rank'] <= 20]\n",
    "wc_top20"
   ]
  },
  {
   "cell_type": "markdown",
   "metadata": {},
   "source": [
    "##### Reading down through this list of top 20 common words in bad shops, a coherent story almost emerges by itself.\n",
    "I would reason that the number 1 complaint in bad reviews is that their drink/order didn't come, or that it didn't come on time. Contrasting with the list of \"good\" reviews, these are the only sentiments that are different. Even in bad reviews, peopple are quick to mention that they are happy with the shop workers."
   ]
  },
  {
   "cell_type": "code",
   "execution_count": 137,
   "metadata": {},
   "outputs": [
    {
     "data": {
      "image/png": "[encoded data removed]",
      "text/plain": [
       "<Figure size 432x288 with 1 Axes>"
      ]
     },
     "metadata": {
      "needs_background": "light"
     },
     "output_type": "display_data"
    }
   ],
   "source": [
    "# top words for bad shops\n",
    "\n",
    "squarify.plot(sizes=wc_top20['pct_total'], label=wc_top20['word'], alpha=.8 )\n",
    "plt.axis('off')\n",
    "plt.show()"
   ]
  },
  {
   "cell_type": "code",
   "execution_count": 130,
   "metadata": {},
   "outputs": [],
   "source": [
    "# Define a function to get lemmas\n",
    "\n",
    "def get_lemmas(text):\n",
    "    '''gets lemmas for a given doc's tokens. Cleans pronouns, punctuation, and stop words '''\n",
    "    lemmas = []\n",
    "    \n",
    "    doc = nlp(text)\n",
    "    \n",
    "    # Something goes here :P\n",
    "    for token in doc: \n",
    "        if ((token.text.lower() not in STOP_WORDS) and (token.is_punct == False)) and (token.pos_ != 'PRON'):\n",
    "            lemmas.append(token.lemma_)\n",
    "    \n",
    "    return lemmas"
   ]
  },
  {
   "cell_type": "code",
   "execution_count": 131,
   "metadata": {},
   "outputs": [
    {
     "data": {
      "text/plain": [
       "0    [check, Love, love, love, atmosphere, corner, ...\n",
       "1    [list, Date, Night, Austin, Ambiance, Austin, ...\n",
       "2    [check, list, Brunch, Spots, love, eclectic, h...\n",
       "3    [cool, decor, good, drink, nice, seating, over...\n",
       "4    [check, locate, Northcross, mall, shopping, ce...\n",
       "Name: lemmas, dtype: object"
      ]
     },
     "execution_count": 131,
     "metadata": {},
     "output_type": "execute_result"
    }
   ],
   "source": [
    "# Apply get_lemmas to review text.\n",
    "# Note this is basically a retokenization.\n",
    "\n",
    "shops['lemmas'] = shops['new_reviews_text'].apply(get_lemmas)\n",
    "shops['lemmas'].head()"
   ]
  },
  {
   "cell_type": "code",
   "execution_count": 132,
   "metadata": {},
   "outputs": [
    {
     "data": {
      "text/html": [
       "<div>\n",
       "<style scoped>\n",
       "    .dataframe tbody tr th:only-of-type {\n",
       "        vertical-align: middle;\n",
       "    }\n",
       "\n",
       "    .dataframe tbody tr th {\n",
       "        vertical-align: top;\n",
       "    }\n",
       "\n",
       "    .dataframe thead th {\n",
       "        text-align: right;\n",
       "    }\n",
       "</style>\n",
       "<table border=\"1\" class=\"dataframe\">\n",
       "  <thead>\n",
       "    <tr style=\"text-align: right;\">\n",
       "      <th></th>\n",
       "      <th>coffee_shop_name</th>\n",
       "      <th>full_review_text</th>\n",
       "      <th>star_rating</th>\n",
       "      <th>new_reviews_text</th>\n",
       "      <th>star_rating_clean</th>\n",
       "      <th>tokens</th>\n",
       "      <th>tokenized_reviews</th>\n",
       "      <th>nlp_tokens</th>\n",
       "      <th>lemmas</th>\n",
       "    </tr>\n",
       "  </thead>\n",
       "  <tbody>\n",
       "    <tr>\n",
       "      <th>0</th>\n",
       "      <td>The Factory - Cafe With a Soul</td>\n",
       "      <td>11/25/2016 1 check-in Love love loved the atm...</td>\n",
       "      <td>5.0 star rating</td>\n",
       "      <td>1 check-in Love love loved the atmosphere! Eve...</td>\n",
       "      <td>5.0</td>\n",
       "      <td>[1, checkin, love, love, loved, the, atmospher...</td>\n",
       "      <td>[1, checkin, love, love, loved, the, atmospher...</td>\n",
       "      <td>[check-in, love, love, loved, atmosphere!, cor...</td>\n",
       "      <td>[check, Love, love, love, atmosphere, corner, ...</td>\n",
       "    </tr>\n",
       "    <tr>\n",
       "      <th>1</th>\n",
       "      <td>The Factory - Cafe With a Soul</td>\n",
       "      <td>12/2/2016 Listed in Date Night: Austin, Ambia...</td>\n",
       "      <td>4.0 star rating</td>\n",
       "      <td>Listed in Date Night: Austin, Ambiance in Aust...</td>\n",
       "      <td>4.0</td>\n",
       "      <td>[listed, in, date, night, austin, ambiance, in...</td>\n",
       "      <td>[listed, in, date, night, austin, ambiance, in...</td>\n",
       "      <td>[listed, date, night:, austin,, ambiance, aust...</td>\n",
       "      <td>[list, Date, Night, Austin, Ambiance, Austin, ...</td>\n",
       "    </tr>\n",
       "  </tbody>\n",
       "</table>\n",
       "</div>"
      ],
      "text/plain": [
       "                  coffee_shop_name  \\\n",
       "0  The Factory - Cafe With a Soul    \n",
       "1  The Factory - Cafe With a Soul    \n",
       "\n",
       "                                    full_review_text        star_rating  \\\n",
       "0   11/25/2016 1 check-in Love love loved the atm...   5.0 star rating    \n",
       "1   12/2/2016 Listed in Date Night: Austin, Ambia...   4.0 star rating    \n",
       "\n",
       "                                    new_reviews_text  star_rating_clean  \\\n",
       "0  1 check-in Love love loved the atmosphere! Eve...                5.0   \n",
       "1  Listed in Date Night: Austin, Ambiance in Aust...                4.0   \n",
       "\n",
       "                                              tokens  \\\n",
       "0  [1, checkin, love, love, loved, the, atmospher...   \n",
       "1  [listed, in, date, night, austin, ambiance, in...   \n",
       "\n",
       "                                   tokenized_reviews  \\\n",
       "0  [1, checkin, love, love, loved, the, atmospher...   \n",
       "1  [listed, in, date, night, austin, ambiance, in...   \n",
       "\n",
       "                                          nlp_tokens  \\\n",
       "0  [check-in, love, love, loved, atmosphere!, cor...   \n",
       "1  [listed, date, night:, austin,, ambiance, aust...   \n",
       "\n",
       "                                              lemmas  \n",
       "0  [check, Love, love, love, atmosphere, corner, ...  \n",
       "1  [list, Date, Night, Austin, Ambiance, Austin, ...  "
      ]
     },
     "execution_count": 132,
     "metadata": {},
     "output_type": "execute_result"
    }
   ],
   "source": [
    "shops.head(2)"
   ]
  },
  {
   "cell_type": "code",
   "execution_count": 139,
   "metadata": {},
   "outputs": [],
   "source": [
    "good_shops = shops[shops['star_rating_clean'] >= 4.0]\n",
    "bad_shops = shops[shops['star_rating_clean'] < 4.0]"
   ]
  },
  {
   "cell_type": "code",
   "execution_count": 140,
   "metadata": {},
   "outputs": [
    {
     "data": {
      "image/png": "[encoded data removed]",
      "text/plain": [
       "<Figure size 432x288 with 1 Axes>"
      ]
     },
     "metadata": {
      "needs_background": "light"
     },
     "output_type": "display_data"
    }
   ],
   "source": [
    "# good shops using lemmas\n",
    "\n",
    "wc = count(good_shops['lemmas'])\n",
    "wc_top20 = wc[wc['rank'] <= 20]\n",
    "\n",
    "squarify.plot(sizes=wc_top20['pct_total'], label=wc_top20['word'], alpha=.8 )\n",
    "plt.axis('off')\n",
    "plt.show()"
   ]
  },
  {
   "cell_type": "code",
   "execution_count": 141,
   "metadata": {},
   "outputs": [
    {
     "data": {
      "image/png": "[encoded data removed]",
      "text/plain": [
       "<Figure size 432x288 with 1 Axes>"
      ]
     },
     "metadata": {
      "needs_background": "light"
     },
     "output_type": "display_data"
    }
   ],
   "source": [
    "# bad shops using lemmas\n",
    "\n",
    "wc = count(bad_shops['lemmas'])\n",
    "wc_top20 = wc[wc['rank'] <= 20]\n",
    "\n",
    "squarify.plot(sizes=wc_top20['pct_total'], label=wc_top20['word'], alpha=.8 )\n",
    "plt.axis('off')\n",
    "plt.show()"
   ]
  },
  {
   "cell_type": "code",
   "execution_count": null,
   "metadata": {},
   "outputs": [],
   "source": []
  },
  {
   "cell_type": "markdown",
   "metadata": {},
   "source": [
    "## Can visualize the words with the greatest difference in counts between 'good' & 'bad'?\n",
    "\n",
    "Couple Notes: \n",
    "- Rel. freq. instead of absolute counts b/c of different numbers of reviews\n",
    "- Only look at the top 5-10 words with the greatest differences\n"
   ]
  },
  {
   "cell_type": "code",
   "execution_count": 142,
   "metadata": {},
   "outputs": [
    {
     "data": {
      "text/html": [
       "<div>\n",
       "<style scoped>\n",
       "    .dataframe tbody tr th:only-of-type {\n",
       "        vertical-align: middle;\n",
       "    }\n",
       "\n",
       "    .dataframe tbody tr th {\n",
       "        vertical-align: top;\n",
       "    }\n",
       "\n",
       "    .dataframe thead th {\n",
       "        text-align: right;\n",
       "    }\n",
       "</style>\n",
       "<table border=\"1\" class=\"dataframe\">\n",
       "  <thead>\n",
       "    <tr style=\"text-align: right;\">\n",
       "      <th></th>\n",
       "      <th>word</th>\n",
       "      <th>count_good</th>\n",
       "      <th>rank_good</th>\n",
       "      <th>pct_total_good</th>\n",
       "      <th>count_bad</th>\n",
       "      <th>rank_bad</th>\n",
       "      <th>pct_total_bad</th>\n",
       "    </tr>\n",
       "  </thead>\n",
       "  <tbody>\n",
       "    <tr>\n",
       "      <th>0</th>\n",
       "      <td>good</td>\n",
       "      <td>4344.0</td>\n",
       "      <td>1.0</td>\n",
       "      <td>0.016251</td>\n",
       "      <td>1000.0</td>\n",
       "      <td>1.0</td>\n",
       "      <td>0.013311</td>\n",
       "    </tr>\n",
       "    <tr>\n",
       "      <th>1</th>\n",
       "      <td>great</td>\n",
       "      <td>3455.0</td>\n",
       "      <td>2.0</td>\n",
       "      <td>0.012925</td>\n",
       "      <td>462.0</td>\n",
       "      <td>8.0</td>\n",
       "      <td>0.006150</td>\n",
       "    </tr>\n",
       "    <tr>\n",
       "      <th>2</th>\n",
       "      <td>check</td>\n",
       "      <td>2942.0</td>\n",
       "      <td>3.0</td>\n",
       "      <td>0.011006</td>\n",
       "      <td>526.0</td>\n",
       "      <td>7.0</td>\n",
       "      <td>0.007002</td>\n",
       "    </tr>\n",
       "    <tr>\n",
       "      <th>3</th>\n",
       "      <td>like</td>\n",
       "      <td>2434.0</td>\n",
       "      <td>4.0</td>\n",
       "      <td>0.009106</td>\n",
       "      <td>945.0</td>\n",
       "      <td>2.0</td>\n",
       "      <td>0.012579</td>\n",
       "    </tr>\n",
       "    <tr>\n",
       "      <th>4</th>\n",
       "      <td>love</td>\n",
       "      <td>2069.0</td>\n",
       "      <td>5.0</td>\n",
       "      <td>0.007740</td>\n",
       "      <td>245.0</td>\n",
       "      <td>36.0</td>\n",
       "      <td>0.003261</td>\n",
       "    </tr>\n",
       "  </tbody>\n",
       "</table>\n",
       "</div>"
      ],
      "text/plain": [
       "    word  count_good  rank_good  pct_total_good  count_bad  rank_bad  \\\n",
       "0   good      4344.0        1.0        0.016251     1000.0       1.0   \n",
       "1  great      3455.0        2.0        0.012925      462.0       8.0   \n",
       "2  check      2942.0        3.0        0.011006      526.0       7.0   \n",
       "3   like      2434.0        4.0        0.009106      945.0       2.0   \n",
       "4   love      2069.0        5.0        0.007740      245.0      36.0   \n",
       "\n",
       "   pct_total_bad  \n",
       "0       0.013311  \n",
       "1       0.006150  \n",
       "2       0.007002  \n",
       "3       0.012579  \n",
       "4       0.003261  "
      ]
     },
     "execution_count": 142,
     "metadata": {},
     "output_type": "execute_result"
    }
   ],
   "source": [
    "# Aggregate the words used in good and bad reviews, respectively\n",
    "wc_good = count(good_shops['lemmas'])\n",
    "wc_bad = count(bad_shops['lemmas'])\n",
    "\n",
    "wc = pd.merge(wc_good, wc_bad, how='outer', on='word', suffixes=('_good', '_bad'))\n",
    "wc.head()"
   ]
  },
  {
   "cell_type": "code",
   "execution_count": 146,
   "metadata": {},
   "outputs": [],
   "source": [
    "wc['rel_count_good'] = wc['count_good'] / len(good_shops)"
   ]
  },
  {
   "cell_type": "code",
   "execution_count": 147,
   "metadata": {},
   "outputs": [],
   "source": [
    "wc['rel_count_bad'] = wc['count_bad'] / len(bad_shops)"
   ]
  },
  {
   "cell_type": "code",
   "execution_count": 148,
   "metadata": {},
   "outputs": [
    {
     "data": {
      "text/html": [
       "<div>\n",
       "<style scoped>\n",
       "    .dataframe tbody tr th:only-of-type {\n",
       "        vertical-align: middle;\n",
       "    }\n",
       "\n",
       "    .dataframe tbody tr th {\n",
       "        vertical-align: top;\n",
       "    }\n",
       "\n",
       "    .dataframe thead th {\n",
       "        text-align: right;\n",
       "    }\n",
       "</style>\n",
       "<table border=\"1\" class=\"dataframe\">\n",
       "  <thead>\n",
       "    <tr style=\"text-align: right;\">\n",
       "      <th></th>\n",
       "      <th>word</th>\n",
       "      <th>count_good</th>\n",
       "      <th>rank_good</th>\n",
       "      <th>pct_total_good</th>\n",
       "      <th>count_bad</th>\n",
       "      <th>rank_bad</th>\n",
       "      <th>pct_total_bad</th>\n",
       "      <th>difference</th>\n",
       "      <th>rel_count_good</th>\n",
       "      <th>rel_count_bad</th>\n",
       "    </tr>\n",
       "  </thead>\n",
       "  <tbody>\n",
       "    <tr>\n",
       "      <th>1</th>\n",
       "      <td>great</td>\n",
       "      <td>3455.0</td>\n",
       "      <td>2.0</td>\n",
       "      <td>0.012925</td>\n",
       "      <td>462.0</td>\n",
       "      <td>8.0</td>\n",
       "      <td>0.006150</td>\n",
       "      <td>0.006776</td>\n",
       "      <td>0.562704</td>\n",
       "      <td>0.313008</td>\n",
       "    </tr>\n",
       "    <tr>\n",
       "      <th>16</th>\n",
       "      <td>order</td>\n",
       "      <td>1370.0</td>\n",
       "      <td>17.0</td>\n",
       "      <td>0.005125</td>\n",
       "      <td>759.0</td>\n",
       "      <td>3.0</td>\n",
       "      <td>0.010103</td>\n",
       "      <td>0.004978</td>\n",
       "      <td>0.223127</td>\n",
       "      <td>0.514228</td>\n",
       "    </tr>\n",
       "    <tr>\n",
       "      <th>4</th>\n",
       "      <td>love</td>\n",
       "      <td>2069.0</td>\n",
       "      <td>5.0</td>\n",
       "      <td>0.007740</td>\n",
       "      <td>245.0</td>\n",
       "      <td>36.0</td>\n",
       "      <td>0.003261</td>\n",
       "      <td>0.004479</td>\n",
       "      <td>0.336971</td>\n",
       "      <td>0.165989</td>\n",
       "    </tr>\n",
       "    <tr>\n",
       "      <th>2</th>\n",
       "      <td>check</td>\n",
       "      <td>2942.0</td>\n",
       "      <td>3.0</td>\n",
       "      <td>0.011006</td>\n",
       "      <td>526.0</td>\n",
       "      <td>7.0</td>\n",
       "      <td>0.007002</td>\n",
       "      <td>0.004005</td>\n",
       "      <td>0.479153</td>\n",
       "      <td>0.356369</td>\n",
       "    </tr>\n",
       "    <tr>\n",
       "      <th>5</th>\n",
       "      <td>Austin</td>\n",
       "      <td>1988.0</td>\n",
       "      <td>6.0</td>\n",
       "      <td>0.007437</td>\n",
       "      <td>288.0</td>\n",
       "      <td>27.0</td>\n",
       "      <td>0.003834</td>\n",
       "      <td>0.003604</td>\n",
       "      <td>0.323779</td>\n",
       "      <td>0.195122</td>\n",
       "    </tr>\n",
       "  </tbody>\n",
       "</table>\n",
       "</div>"
      ],
      "text/plain": [
       "      word  count_good  rank_good  pct_total_good  count_bad  rank_bad  \\\n",
       "1    great      3455.0        2.0        0.012925      462.0       8.0   \n",
       "16   order      1370.0       17.0        0.005125      759.0       3.0   \n",
       "4     love      2069.0        5.0        0.007740      245.0      36.0   \n",
       "2    check      2942.0        3.0        0.011006      526.0       7.0   \n",
       "5   Austin      1988.0        6.0        0.007437      288.0      27.0   \n",
       "\n",
       "    pct_total_bad  difference  rel_count_good  rel_count_bad  \n",
       "1        0.006150    0.006776        0.562704       0.313008  \n",
       "16       0.010103    0.004978        0.223127       0.514228  \n",
       "4        0.003261    0.004479        0.336971       0.165989  \n",
       "2        0.007002    0.004005        0.479153       0.356369  \n",
       "5        0.003834    0.003604        0.323779       0.195122  "
      ]
     },
     "execution_count": 148,
     "metadata": {},
     "output_type": "execute_result"
    }
   ],
   "source": [
    "wc.head()"
   ]
  },
  {
   "cell_type": "code",
   "execution_count": 143,
   "metadata": {},
   "outputs": [],
   "source": [
    "# Fill in NaNs with 0\n",
    "wc = wc.fillna(0)"
   ]
  },
  {
   "cell_type": "code",
   "execution_count": 149,
   "metadata": {},
   "outputs": [
    {
     "data": {
      "text/html": [
       "<div>\n",
       "<style scoped>\n",
       "    .dataframe tbody tr th:only-of-type {\n",
       "        vertical-align: middle;\n",
       "    }\n",
       "\n",
       "    .dataframe tbody tr th {\n",
       "        vertical-align: top;\n",
       "    }\n",
       "\n",
       "    .dataframe thead th {\n",
       "        text-align: right;\n",
       "    }\n",
       "</style>\n",
       "<table border=\"1\" class=\"dataframe\">\n",
       "  <thead>\n",
       "    <tr style=\"text-align: right;\">\n",
       "      <th></th>\n",
       "      <th>word</th>\n",
       "      <th>count_good</th>\n",
       "      <th>rank_good</th>\n",
       "      <th>pct_total_good</th>\n",
       "      <th>count_bad</th>\n",
       "      <th>rank_bad</th>\n",
       "      <th>pct_total_bad</th>\n",
       "      <th>difference</th>\n",
       "      <th>rel_count_good</th>\n",
       "      <th>rel_count_bad</th>\n",
       "      <th>rel_difference</th>\n",
       "    </tr>\n",
       "  </thead>\n",
       "  <tbody>\n",
       "    <tr>\n",
       "      <th>16</th>\n",
       "      <td>order</td>\n",
       "      <td>1370.0</td>\n",
       "      <td>17.0</td>\n",
       "      <td>0.005125</td>\n",
       "      <td>759.0</td>\n",
       "      <td>3.0</td>\n",
       "      <td>0.010103</td>\n",
       "      <td>0.004978</td>\n",
       "      <td>0.223127</td>\n",
       "      <td>0.514228</td>\n",
       "      <td>0.291101</td>\n",
       "    </tr>\n",
       "    <tr>\n",
       "      <th>1</th>\n",
       "      <td>great</td>\n",
       "      <td>3455.0</td>\n",
       "      <td>2.0</td>\n",
       "      <td>0.012925</td>\n",
       "      <td>462.0</td>\n",
       "      <td>8.0</td>\n",
       "      <td>0.006150</td>\n",
       "      <td>0.006776</td>\n",
       "      <td>0.562704</td>\n",
       "      <td>0.313008</td>\n",
       "      <td>0.249695</td>\n",
       "    </tr>\n",
       "    <tr>\n",
       "      <th>3</th>\n",
       "      <td>like</td>\n",
       "      <td>2434.0</td>\n",
       "      <td>4.0</td>\n",
       "      <td>0.009106</td>\n",
       "      <td>945.0</td>\n",
       "      <td>2.0</td>\n",
       "      <td>0.012579</td>\n",
       "      <td>0.003473</td>\n",
       "      <td>0.396417</td>\n",
       "      <td>0.640244</td>\n",
       "      <td>0.243827</td>\n",
       "    </tr>\n",
       "    <tr>\n",
       "      <th>4</th>\n",
       "      <td>love</td>\n",
       "      <td>2069.0</td>\n",
       "      <td>5.0</td>\n",
       "      <td>0.007740</td>\n",
       "      <td>245.0</td>\n",
       "      <td>36.0</td>\n",
       "      <td>0.003261</td>\n",
       "      <td>0.004479</td>\n",
       "      <td>0.336971</td>\n",
       "      <td>0.165989</td>\n",
       "      <td>0.170982</td>\n",
       "    </tr>\n",
       "    <tr>\n",
       "      <th>82</th>\n",
       "      <td>$</td>\n",
       "      <td>553.0</td>\n",
       "      <td>83.0</td>\n",
       "      <td>0.002069</td>\n",
       "      <td>381.0</td>\n",
       "      <td>16.0</td>\n",
       "      <td>0.005071</td>\n",
       "      <td>0.003003</td>\n",
       "      <td>0.090065</td>\n",
       "      <td>0.258130</td>\n",
       "      <td>0.168065</td>\n",
       "    </tr>\n",
       "  </tbody>\n",
       "</table>\n",
       "</div>"
      ],
      "text/plain": [
       "     word  count_good  rank_good  pct_total_good  count_bad  rank_bad  \\\n",
       "16  order      1370.0       17.0        0.005125      759.0       3.0   \n",
       "1   great      3455.0        2.0        0.012925      462.0       8.0   \n",
       "3    like      2434.0        4.0        0.009106      945.0       2.0   \n",
       "4    love      2069.0        5.0        0.007740      245.0      36.0   \n",
       "82      $       553.0       83.0        0.002069      381.0      16.0   \n",
       "\n",
       "    pct_total_bad  difference  rel_count_good  rel_count_bad  rel_difference  \n",
       "16       0.010103    0.004978        0.223127       0.514228        0.291101  \n",
       "1        0.006150    0.006776        0.562704       0.313008        0.249695  \n",
       "3        0.012579    0.003473        0.396417       0.640244        0.243827  \n",
       "4        0.003261    0.004479        0.336971       0.165989        0.170982  \n",
       "82       0.005071    0.003003        0.090065       0.258130        0.168065  "
      ]
     },
     "execution_count": 149,
     "metadata": {},
     "output_type": "execute_result"
    }
   ],
   "source": [
    "# Find difference in word freqs, sort by that difference\n",
    "\n",
    "wc['rel_difference'] = abs(wc['rel_count_good'] - wc['rel_count_bad'])\n",
    "wc = wc.sort_values(by=['rel_difference'], ascending=False)\n",
    "wc.head()"
   ]
  },
  {
   "cell_type": "code",
   "execution_count": 150,
   "metadata": {},
   "outputs": [
    {
     "data": {
      "image/png": "[encoded data removed]",
      "text/plain": [
       "<Figure size 432x288 with 1 Axes>"
      ]
     },
     "metadata": {
      "needs_background": "light"
     },
     "output_type": "display_data"
    }
   ],
   "source": [
    "# Visualize top 20 greatest differences\n",
    "\n",
    "# With this one, we found a word in a % of good reviews, a % of bad reviews, \n",
    "# found the biggest difference, and plotted those 20 words.\n",
    "# So we've done \"instances of the word per review\"\n",
    "\n",
    "wc_top20_diff = wc.head(n=20)\n",
    "\n",
    "# Visualize\n",
    "squarify.plot(sizes=wc_top20_diff['rel_difference'], label=wc_top20_diff['word'], alpha=.8 )\n",
    "plt.axis('off')\n",
    "plt.show()"
   ]
  },
  {
   "cell_type": "code",
   "execution_count": 151,
   "metadata": {},
   "outputs": [
    {
     "data": {
      "text/html": [
       "<div>\n",
       "<style scoped>\n",
       "    .dataframe tbody tr th:only-of-type {\n",
       "        vertical-align: middle;\n",
       "    }\n",
       "\n",
       "    .dataframe tbody tr th {\n",
       "        vertical-align: top;\n",
       "    }\n",
       "\n",
       "    .dataframe thead th {\n",
       "        text-align: right;\n",
       "    }\n",
       "</style>\n",
       "<table border=\"1\" class=\"dataframe\">\n",
       "  <thead>\n",
       "    <tr style=\"text-align: right;\">\n",
       "      <th></th>\n",
       "      <th>word</th>\n",
       "      <th>count_good</th>\n",
       "      <th>rank_good</th>\n",
       "      <th>pct_total_good</th>\n",
       "      <th>count_bad</th>\n",
       "      <th>rank_bad</th>\n",
       "      <th>pct_total_bad</th>\n",
       "      <th>difference</th>\n",
       "      <th>rel_count_good</th>\n",
       "      <th>rel_count_bad</th>\n",
       "      <th>rel_difference</th>\n",
       "    </tr>\n",
       "  </thead>\n",
       "  <tbody>\n",
       "    <tr>\n",
       "      <th>1</th>\n",
       "      <td>great</td>\n",
       "      <td>3455.0</td>\n",
       "      <td>2.0</td>\n",
       "      <td>0.012925</td>\n",
       "      <td>462.0</td>\n",
       "      <td>8.0</td>\n",
       "      <td>0.006150</td>\n",
       "      <td>0.006776</td>\n",
       "      <td>0.562704</td>\n",
       "      <td>0.313008</td>\n",
       "      <td>0.249695</td>\n",
       "    </tr>\n",
       "    <tr>\n",
       "      <th>16</th>\n",
       "      <td>order</td>\n",
       "      <td>1370.0</td>\n",
       "      <td>17.0</td>\n",
       "      <td>0.005125</td>\n",
       "      <td>759.0</td>\n",
       "      <td>3.0</td>\n",
       "      <td>0.010103</td>\n",
       "      <td>0.004978</td>\n",
       "      <td>0.223127</td>\n",
       "      <td>0.514228</td>\n",
       "      <td>0.291101</td>\n",
       "    </tr>\n",
       "    <tr>\n",
       "      <th>4</th>\n",
       "      <td>love</td>\n",
       "      <td>2069.0</td>\n",
       "      <td>5.0</td>\n",
       "      <td>0.007740</td>\n",
       "      <td>245.0</td>\n",
       "      <td>36.0</td>\n",
       "      <td>0.003261</td>\n",
       "      <td>0.004479</td>\n",
       "      <td>0.336971</td>\n",
       "      <td>0.165989</td>\n",
       "      <td>0.170982</td>\n",
       "    </tr>\n",
       "    <tr>\n",
       "      <th>2</th>\n",
       "      <td>check</td>\n",
       "      <td>2942.0</td>\n",
       "      <td>3.0</td>\n",
       "      <td>0.011006</td>\n",
       "      <td>526.0</td>\n",
       "      <td>7.0</td>\n",
       "      <td>0.007002</td>\n",
       "      <td>0.004005</td>\n",
       "      <td>0.479153</td>\n",
       "      <td>0.356369</td>\n",
       "      <td>0.122785</td>\n",
       "    </tr>\n",
       "    <tr>\n",
       "      <th>5</th>\n",
       "      <td>Austin</td>\n",
       "      <td>1988.0</td>\n",
       "      <td>6.0</td>\n",
       "      <td>0.007437</td>\n",
       "      <td>288.0</td>\n",
       "      <td>27.0</td>\n",
       "      <td>0.003834</td>\n",
       "      <td>0.003604</td>\n",
       "      <td>0.323779</td>\n",
       "      <td>0.195122</td>\n",
       "      <td>0.128657</td>\n",
       "    </tr>\n",
       "  </tbody>\n",
       "</table>\n",
       "</div>"
      ],
      "text/plain": [
       "      word  count_good  rank_good  pct_total_good  count_bad  rank_bad  \\\n",
       "1    great      3455.0        2.0        0.012925      462.0       8.0   \n",
       "16   order      1370.0       17.0        0.005125      759.0       3.0   \n",
       "4     love      2069.0        5.0        0.007740      245.0      36.0   \n",
       "2    check      2942.0        3.0        0.011006      526.0       7.0   \n",
       "5   Austin      1988.0        6.0        0.007437      288.0      27.0   \n",
       "\n",
       "    pct_total_bad  difference  rel_count_good  rel_count_bad  rel_difference  \n",
       "1        0.006150    0.006776        0.562704       0.313008        0.249695  \n",
       "16       0.010103    0.004978        0.223127       0.514228        0.291101  \n",
       "4        0.003261    0.004479        0.336971       0.165989        0.170982  \n",
       "2        0.007002    0.004005        0.479153       0.356369        0.122785  \n",
       "5        0.003834    0.003604        0.323779       0.195122        0.128657  "
      ]
     },
     "execution_count": 151,
     "metadata": {},
     "output_type": "execute_result"
    }
   ],
   "source": [
    "# Add the column 'difference', and get the absolute value of it\n",
    "wc['difference'] = abs(wc['pct_total_good'] - wc['pct_total_bad'])\n",
    "wc = wc.sort_values(by=['difference'], ascending=False)\n",
    "wc.head()"
   ]
  },
  {
   "cell_type": "code",
   "execution_count": 152,
   "metadata": {},
   "outputs": [
    {
     "data": {
      "image/png": "[encoded data removed]",
      "text/plain": [
       "<Figure size 432x288 with 1 Axes>"
      ]
     },
     "metadata": {
      "needs_background": "light"
     },
     "output_type": "display_data"
    }
   ],
   "source": [
    "# In this approach, we use pct_total from count function and compare those percentages\n",
    "# between good and bad reviews.\n",
    "# This gives a slightly different visualization with mostly the same results.\n",
    "wc_top20_diff = wc.head(n=20)\n",
    "\n",
    "# Visualize\n",
    "squarify.plot(sizes=wc_top20_diff['difference'], label=wc_top20_diff['word'], alpha=.8 )\n",
    "plt.axis('off')\n",
    "plt.show()"
   ]
  },
  {
   "cell_type": "code",
   "execution_count": null,
   "metadata": {},
   "outputs": [],
   "source": []
  },
  {
   "cell_type": "markdown",
   "metadata": {
    "colab_type": "text",
    "id": "1dCb1q8XphcP",
    "toc-hr-collapsed": true
   },
   "source": [
    "## Stretch Goals\n",
    "\n",
    "* Analyze another corpus of documents - such as Indeed.com job listings ;).\n",
    "* Play with the Spacy API to\n",
    " - Extract Named Entities\n",
    " - Extracting 'noun chunks'\n",
    " - Attempt Document Classification with just Spacy\n",
    " - *Note:* This [course](https://course.spacy.io/) will be of interesting in helping you with these stretch goals. \n",
    "* Try to build a plotly dash app with your text data \n",
    "\n"
   ]
  }
 ],
 "metadata": {
  "colab": {
   "collapsed_sections": [],
   "name": "LS_DS_421_Text_Data_Assignment.ipynb",
   "provenance": [],
   "version": "0.3.2"
  },
  "kernelspec": {
   "display_name": "U4-S1-NLP-DS12",
   "language": "python",
   "name": "u4-s1-nlp-ds12"
  },
  "language_info": {
   "codemirror_mode": {
    "name": "ipython",
    "version": 3
   },
   "file_extension": ".py",
   "mimetype": "text/x-python",
   "name": "python",
   "nbconvert_exporter": "python",
   "pygments_lexer": "ipython3",
   "version": "3.7.0"
  },
  "toc-autonumbering": false
 },
 "nbformat": 4,
 "nbformat_minor": 4
}
