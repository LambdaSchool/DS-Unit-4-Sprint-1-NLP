{
 "cells": [
  {
   "cell_type": "markdown",
   "metadata": {},
   "source": [
    "<img align=\"left\" src=\"https://lever-client-logos.s3.amazonaws.com/864372b1-534c-480e-acd5-9711f850815c-1524247202159.png\" width=200>\n",
    "<br></br>\n",
    "<br></br>\n",
    "\n",
    "# Natural Language Processing (NLP)\n",
    "## *Data Science Unit 4 Sprint 1 Assignment 1*\n",
    "\n",
    "Your goal in this assignment: find the attributes of the best & worst coffee shops in the dataset. The text is fairly raw: dates in the review, extra words in the `star_rating` column, etc. You'll probably want to clean that stuff up for a better analysis. \n",
    "\n",
    "Analyze the corpus of text using text visualizations of token frequency. Try cleaning the data as much as possible. Try the following techniques: \n",
    "- Lemmatization\n",
    "- Custom stopword removal\n",
    "\n",
    "Keep in mind the attributes of good tokens. Once you have a solid baseline, layer in the star rating in your visualization(s). Key part of this assignment - produce a write-up of the attributes of the best and worst coffee shops. Based on your analysis, what makes the best the best and the worst the worst. Use graphs and numbesr from your analysis to support your conclusions. There should be plenty of markdown cells! :coffee:"
   ]
  },
  {
   "cell_type": "code",
   "execution_count": 1,
   "metadata": {},
   "outputs": [
    {
     "data": {
      "image/jpeg": "[encoded data removed]",
      "text/html": [
       "\n",
       "        <iframe\n",
       "            width=\"400\"\n",
       "            height=\"300\"\n",
       "            src=\"https://www.youtube.com/embed/Jml7NVYm8cs\"\n",
       "            frameborder=\"0\"\n",
       "            allowfullscreen\n",
       "        ></iframe>\n",
       "        "
      ],
      "text/plain": [
       "<IPython.lib.display.YouTubeVideo at 0x29a74849898>"
      ]
     },
     "execution_count": 1,
     "metadata": {},
     "output_type": "execute_result"
    }
   ],
   "source": [
    "from IPython.display import YouTubeVideo\n",
    "\n",
    "YouTubeVideo('Jml7NVYm8cs')"
   ]
  },
  {
   "cell_type": "code",
   "execution_count": 2,
   "metadata": {},
   "outputs": [
    {
     "data": {
      "text/plain": [
       "'C:\\\\Users\\\\Zach\\\\repos\\\\DS-Unit-4-Sprint-1-NLP\\\\module1-text-data'"
      ]
     },
     "execution_count": 2,
     "metadata": {},
     "output_type": "execute_result"
    }
   ],
   "source": [
    "%pwd"
   ]
  },
  {
   "cell_type": "code",
   "execution_count": 65,
   "metadata": {},
   "outputs": [
    {
     "name": "stdout",
     "output_type": "stream",
     "text": [
      "(7616, 3)\n"
     ]
    },
    {
     "data": {
      "text/html": [
       "<div>\n",
       "<style scoped>\n",
       "    .dataframe tbody tr th:only-of-type {\n",
       "        vertical-align: middle;\n",
       "    }\n",
       "\n",
       "    .dataframe tbody tr th {\n",
       "        vertical-align: top;\n",
       "    }\n",
       "\n",
       "    .dataframe thead th {\n",
       "        text-align: right;\n",
       "    }\n",
       "</style>\n",
       "<table border=\"1\" class=\"dataframe\">\n",
       "  <thead>\n",
       "    <tr style=\"text-align: right;\">\n",
       "      <th></th>\n",
       "      <th>coffee_shop_name</th>\n",
       "      <th>full_review_text</th>\n",
       "      <th>star_rating</th>\n",
       "    </tr>\n",
       "  </thead>\n",
       "  <tbody>\n",
       "    <tr>\n",
       "      <th>0</th>\n",
       "      <td>The Factory - Cafe With a Soul</td>\n",
       "      <td>11/25/2016 1 check-in Love love loved the atm...</td>\n",
       "      <td>5.0 star rating</td>\n",
       "    </tr>\n",
       "    <tr>\n",
       "      <th>1</th>\n",
       "      <td>The Factory - Cafe With a Soul</td>\n",
       "      <td>12/2/2016 Listed in Date Night: Austin, Ambia...</td>\n",
       "      <td>4.0 star rating</td>\n",
       "    </tr>\n",
       "    <tr>\n",
       "      <th>2</th>\n",
       "      <td>The Factory - Cafe With a Soul</td>\n",
       "      <td>11/30/2016 1 check-in Listed in Brunch Spots ...</td>\n",
       "      <td>4.0 star rating</td>\n",
       "    </tr>\n",
       "    <tr>\n",
       "      <th>3</th>\n",
       "      <td>The Factory - Cafe With a Soul</td>\n",
       "      <td>11/25/2016 Very cool decor! Good drinks Nice ...</td>\n",
       "      <td>2.0 star rating</td>\n",
       "    </tr>\n",
       "    <tr>\n",
       "      <th>4</th>\n",
       "      <td>The Factory - Cafe With a Soul</td>\n",
       "      <td>12/3/2016 1 check-in They are located within ...</td>\n",
       "      <td>4.0 star rating</td>\n",
       "    </tr>\n",
       "  </tbody>\n",
       "</table>\n",
       "</div>"
      ],
      "text/plain": [
       "                  coffee_shop_name  \\\n",
       "0  The Factory - Cafe With a Soul    \n",
       "1  The Factory - Cafe With a Soul    \n",
       "2  The Factory - Cafe With a Soul    \n",
       "3  The Factory - Cafe With a Soul    \n",
       "4  The Factory - Cafe With a Soul    \n",
       "\n",
       "                                    full_review_text        star_rating  \n",
       "0   11/25/2016 1 check-in Love love loved the atm...   5.0 star rating   \n",
       "1   12/2/2016 Listed in Date Night: Austin, Ambia...   4.0 star rating   \n",
       "2   11/30/2016 1 check-in Listed in Brunch Spots ...   4.0 star rating   \n",
       "3   11/25/2016 Very cool decor! Good drinks Nice ...   2.0 star rating   \n",
       "4   12/3/2016 1 check-in They are located within ...   4.0 star rating   "
      ]
     },
     "execution_count": 65,
     "metadata": {},
     "output_type": "execute_result"
    }
   ],
   "source": [
    "import pandas as pd\n",
    "\n",
    "url = \"https://raw.githubusercontent.com/LambdaSchool/DS-Unit-4-Sprint-1-NLP/master/module1-text-data/data/yelp_coffeeshop_review_data.csv\"\n",
    "\n",
    "shops = pd.read_csv(url)\n",
    "print(shops.shape)\n",
    "shops.head()"
   ]
  },
  {
   "cell_type": "code",
   "execution_count": 66,
   "metadata": {},
   "outputs": [
    {
     "name": "stdout",
     "output_type": "stream",
     "text": [
      "<class 'int'> 2\n",
      " 5.0 star rating     3780\n",
      " 4.0 star rating     2360\n",
      " 3.0 star rating      738\n",
      " 2.0 star rating      460\n",
      " 1.0 star rating      278\n",
      "Name: star_rating, dtype: int64\n"
     ]
    }
   ],
   "source": [
    "# MY CODE STARTS HERE\n",
    "\n",
    "# first thing I wanna do is clean the data; lets start with star_rating\n",
    "print(type(int('2')), int('2'))\n",
    "print(shops['star_rating'].value_counts(dropna=False))"
   ]
  },
  {
   "cell_type": "code",
   "execution_count": 67,
   "metadata": {},
   "outputs": [
    {
     "name": "stdout",
     "output_type": "stream",
     "text": [
      "coffee_shop_name    object\n",
      "full_review_text    object\n",
      "star_rating          int64\n",
      "dtype: object\n"
     ]
    },
    {
     "data": {
      "text/html": [
       "<div>\n",
       "<style scoped>\n",
       "    .dataframe tbody tr th:only-of-type {\n",
       "        vertical-align: middle;\n",
       "    }\n",
       "\n",
       "    .dataframe tbody tr th {\n",
       "        vertical-align: top;\n",
       "    }\n",
       "\n",
       "    .dataframe thead th {\n",
       "        text-align: right;\n",
       "    }\n",
       "</style>\n",
       "<table border=\"1\" class=\"dataframe\">\n",
       "  <thead>\n",
       "    <tr style=\"text-align: right;\">\n",
       "      <th></th>\n",
       "      <th>coffee_shop_name</th>\n",
       "      <th>full_review_text</th>\n",
       "      <th>star_rating</th>\n",
       "    </tr>\n",
       "  </thead>\n",
       "  <tbody>\n",
       "    <tr>\n",
       "      <th>0</th>\n",
       "      <td>The Factory - Cafe With a Soul</td>\n",
       "      <td>11/25/2016 1 check-in Love love loved the atm...</td>\n",
       "      <td>5</td>\n",
       "    </tr>\n",
       "    <tr>\n",
       "      <th>1</th>\n",
       "      <td>The Factory - Cafe With a Soul</td>\n",
       "      <td>12/2/2016 Listed in Date Night: Austin, Ambia...</td>\n",
       "      <td>4</td>\n",
       "    </tr>\n",
       "    <tr>\n",
       "      <th>2</th>\n",
       "      <td>The Factory - Cafe With a Soul</td>\n",
       "      <td>11/30/2016 1 check-in Listed in Brunch Spots ...</td>\n",
       "      <td>4</td>\n",
       "    </tr>\n",
       "    <tr>\n",
       "      <th>3</th>\n",
       "      <td>The Factory - Cafe With a Soul</td>\n",
       "      <td>11/25/2016 Very cool decor! Good drinks Nice ...</td>\n",
       "      <td>2</td>\n",
       "    </tr>\n",
       "    <tr>\n",
       "      <th>4</th>\n",
       "      <td>The Factory - Cafe With a Soul</td>\n",
       "      <td>12/3/2016 1 check-in They are located within ...</td>\n",
       "      <td>4</td>\n",
       "    </tr>\n",
       "  </tbody>\n",
       "</table>\n",
       "</div>"
      ],
      "text/plain": [
       "                  coffee_shop_name  \\\n",
       "0  The Factory - Cafe With a Soul    \n",
       "1  The Factory - Cafe With a Soul    \n",
       "2  The Factory - Cafe With a Soul    \n",
       "3  The Factory - Cafe With a Soul    \n",
       "4  The Factory - Cafe With a Soul    \n",
       "\n",
       "                                    full_review_text  star_rating  \n",
       "0   11/25/2016 1 check-in Love love loved the atm...            5  \n",
       "1   12/2/2016 Listed in Date Night: Austin, Ambia...            4  \n",
       "2   11/30/2016 1 check-in Listed in Brunch Spots ...            4  \n",
       "3   11/25/2016 Very cool decor! Good drinks Nice ...            2  \n",
       "4   12/3/2016 1 check-in They are located within ...            4  "
      ]
     },
     "execution_count": 67,
     "metadata": {},
     "output_type": "execute_result"
    }
   ],
   "source": [
    "# yeah that's what I thought, let's change that to an integer column\n",
    "def clean_star_ratings(str_in):\n",
    "    # print(str_in, str_in[1])\n",
    "    str_in = str_in[1]\n",
    "    str_in = int(str_in)\n",
    "    return str_in\n",
    "shops['star_rating'] = shops['star_rating'].apply(clean_star_ratings)\n",
    "print(shops.dtypes)\n",
    "shops.head()"
   ]
  },
  {
   "cell_type": "code",
   "execution_count": 68,
   "metadata": {},
   "outputs": [
    {
     "data": {
      "text/plain": [
       "\" 11/17/2016 1 check-in Listed in 2016 - The Third Time is a Charm! The Factory has A+ decor and a very innovative interactionless (tablet) ordering system. This allows you to look up what to get without feeling pressured by a barista staring at you waiting for you to order. The eclectic selection of tables, couches, and swings (?!) inside with a small kiddy corner appeal to many different types of tastes. This is seriously a cool place to hang out.  However, when it comes to the coffee and food, it's rather not cheap. The waffles range from $4-$8, and coffee is between $3.50 and $5. The quality of the coffee is not yet up to par with other coffee mainstays in Austin, so I would probably not choose to come here just for coffee. However, it is a CUTE date place and I know that M and I will probably come back to chat, people-watch, or read books. \""
      ]
     },
     "execution_count": 68,
     "metadata": {},
     "output_type": "execute_result"
    }
   ],
   "source": [
    "# The next thing I want to clean up is the full_review_text\n",
    "# it seems like it's a combination of date, some metadata maybe\n",
    "# from the app used to post the review, and then the review itself.\n",
    "# I want to see the review text in a bit more detail first.\n",
    "\n",
    "shops['full_review_text'][12]"
   ]
  },
  {
   "cell_type": "code",
   "execution_count": 69,
   "metadata": {},
   "outputs": [
    {
     "name": "stdout",
     "output_type": "stream",
     "text": [
      "<class 'pandas._libs.tslibs.timestamps.Timestamp'> 2016-11-17 00:00:00\n"
     ]
    }
   ],
   "source": [
    "# First I want to grab those timestamps, just in case\n",
    "def grab_timestamp(text):\n",
    "    text = text.strip()\n",
    "    match = re.search('^[0-9]+[/][0-9]+[/][0-9]+', text)\n",
    "    text = match.group()\n",
    "    # Turn it into pandas datetimes\n",
    "    text = pd.to_datetime(text, format='%m/%d/%Y')\n",
    "    return text\n",
    "\n",
    "sample = grab_timestamp(' 11/17/2016')\n",
    "print(type(sample), sample)"
   ]
  },
  {
   "cell_type": "code",
   "execution_count": 70,
   "metadata": {},
   "outputs": [
    {
     "data": {
      "text/html": [
       "<div>\n",
       "<style scoped>\n",
       "    .dataframe tbody tr th:only-of-type {\n",
       "        vertical-align: middle;\n",
       "    }\n",
       "\n",
       "    .dataframe tbody tr th {\n",
       "        vertical-align: top;\n",
       "    }\n",
       "\n",
       "    .dataframe thead th {\n",
       "        text-align: right;\n",
       "    }\n",
       "</style>\n",
       "<table border=\"1\" class=\"dataframe\">\n",
       "  <thead>\n",
       "    <tr style=\"text-align: right;\">\n",
       "      <th></th>\n",
       "      <th>coffee_shop_name</th>\n",
       "      <th>full_review_text</th>\n",
       "      <th>star_rating</th>\n",
       "      <th>timestamp</th>\n",
       "    </tr>\n",
       "  </thead>\n",
       "  <tbody>\n",
       "    <tr>\n",
       "      <th>0</th>\n",
       "      <td>The Factory - Cafe With a Soul</td>\n",
       "      <td>11/25/2016 1 check-in Love love loved the atm...</td>\n",
       "      <td>5</td>\n",
       "      <td>2016-11-25</td>\n",
       "    </tr>\n",
       "    <tr>\n",
       "      <th>1</th>\n",
       "      <td>The Factory - Cafe With a Soul</td>\n",
       "      <td>12/2/2016 Listed in Date Night: Austin, Ambia...</td>\n",
       "      <td>4</td>\n",
       "      <td>2016-12-02</td>\n",
       "    </tr>\n",
       "    <tr>\n",
       "      <th>2</th>\n",
       "      <td>The Factory - Cafe With a Soul</td>\n",
       "      <td>11/30/2016 1 check-in Listed in Brunch Spots ...</td>\n",
       "      <td>4</td>\n",
       "      <td>2016-11-30</td>\n",
       "    </tr>\n",
       "    <tr>\n",
       "      <th>3</th>\n",
       "      <td>The Factory - Cafe With a Soul</td>\n",
       "      <td>11/25/2016 Very cool decor! Good drinks Nice ...</td>\n",
       "      <td>2</td>\n",
       "      <td>2016-11-25</td>\n",
       "    </tr>\n",
       "    <tr>\n",
       "      <th>4</th>\n",
       "      <td>The Factory - Cafe With a Soul</td>\n",
       "      <td>12/3/2016 1 check-in They are located within ...</td>\n",
       "      <td>4</td>\n",
       "      <td>2016-12-03</td>\n",
       "    </tr>\n",
       "  </tbody>\n",
       "</table>\n",
       "</div>"
      ],
      "text/plain": [
       "                  coffee_shop_name  \\\n",
       "0  The Factory - Cafe With a Soul    \n",
       "1  The Factory - Cafe With a Soul    \n",
       "2  The Factory - Cafe With a Soul    \n",
       "3  The Factory - Cafe With a Soul    \n",
       "4  The Factory - Cafe With a Soul    \n",
       "\n",
       "                                    full_review_text  star_rating  timestamp  \n",
       "0   11/25/2016 1 check-in Love love loved the atm...            5 2016-11-25  \n",
       "1   12/2/2016 Listed in Date Night: Austin, Ambia...            4 2016-12-02  \n",
       "2   11/30/2016 1 check-in Listed in Brunch Spots ...            4 2016-11-30  \n",
       "3   11/25/2016 Very cool decor! Good drinks Nice ...            2 2016-11-25  \n",
       "4   12/3/2016 1 check-in They are located within ...            4 2016-12-03  "
      ]
     },
     "execution_count": 70,
     "metadata": {},
     "output_type": "execute_result"
    }
   ],
   "source": [
    "shops['timestamp'] = shops['full_review_text'].apply(grab_timestamp)\n",
    "\n",
    "shops.head()"
   ]
  },
  {
   "cell_type": "code",
   "execution_count": 71,
   "metadata": {},
   "outputs": [
    {
     "name": "stdout",
     "output_type": "stream",
     "text": [
      "['this', 'place', 'has', 'been', 'shown', 'on', 'my', 'social', 'media', 'for', 'days', 'so', 'i', 'finally', 'visited']\n"
     ]
    }
   ],
   "source": [
    "# Yeah, so there's a few things I see right off the bat:\n",
    "# - starts with a space\n",
    "# - there's a timestamp in front of every one\n",
    "# - some have a \"See all photos from\" thing at the end of them\n",
    "# - some have a \"(n) check-in(s)\" thing after the timestamp\n",
    "# - some have a \"Listed in ______\" after the timestamp\n",
    "\n",
    "# Lets make a function to tokenize this\n",
    "import re\n",
    "\n",
    "def tokenize(text):\n",
    "    ''' cleanup and tokenizing function '''\n",
    "    # remove whitespace\n",
    "    text = text.strip()\n",
    "    # remove timestamps\n",
    "    text = re.sub('^[0-9]+[/][0-9]+[/][0-9]+ ', '', text)\n",
    "    # remove check-ins\n",
    "    text = re.sub('^[0-9]+ check-in[s]* ', '', text)\n",
    "    # remove \"Listed in\"\n",
    "    text\n",
    "    # remove \"see photos\" endings\n",
    "    text = re.sub(' See all photos from (.*)$', '', text)\n",
    "    # leave only letters and numbers\n",
    "    text = re.sub('[^a-zA-Z 0-9]', '', text)\n",
    "    # set everything to lowercase and split into tokens\n",
    "    text = text.lower().split()\n",
    "    \n",
    "    return text\n",
    "    \n",
    "sample = ' 11/10/2016 3 check-ins This place has been shown on my social media for days so i finally visited! See all photos from Sarah L. for The Factory - Cafe With a Soul '\n",
    "\n",
    "print(tokenize(sample))"
   ]
  },
  {
   "cell_type": "code",
   "execution_count": 72,
   "metadata": {},
   "outputs": [],
   "source": [
    "# now to apply it to the full_review_text column.\n",
    "# I'm gonna put the tokens into a new column as to not lose the\n",
    "# original text.\n",
    "\n",
    "shops['tokens'] = shops['full_review_text'].apply(tokenize)"
   ]
  },
  {
   "cell_type": "code",
   "execution_count": 73,
   "metadata": {},
   "outputs": [
    {
     "data": {
      "text/html": [
       "<div>\n",
       "<style scoped>\n",
       "    .dataframe tbody tr th:only-of-type {\n",
       "        vertical-align: middle;\n",
       "    }\n",
       "\n",
       "    .dataframe tbody tr th {\n",
       "        vertical-align: top;\n",
       "    }\n",
       "\n",
       "    .dataframe thead th {\n",
       "        text-align: right;\n",
       "    }\n",
       "</style>\n",
       "<table border=\"1\" class=\"dataframe\">\n",
       "  <thead>\n",
       "    <tr style=\"text-align: right;\">\n",
       "      <th></th>\n",
       "      <th>coffee_shop_name</th>\n",
       "      <th>full_review_text</th>\n",
       "      <th>star_rating</th>\n",
       "      <th>timestamp</th>\n",
       "      <th>tokens</th>\n",
       "    </tr>\n",
       "  </thead>\n",
       "  <tbody>\n",
       "    <tr>\n",
       "      <th>0</th>\n",
       "      <td>The Factory - Cafe With a Soul</td>\n",
       "      <td>11/25/2016 1 check-in Love love loved the atm...</td>\n",
       "      <td>5</td>\n",
       "      <td>2016-11-25</td>\n",
       "      <td>[love, love, loved, the, atmosphere, every, co...</td>\n",
       "    </tr>\n",
       "    <tr>\n",
       "      <th>1</th>\n",
       "      <td>The Factory - Cafe With a Soul</td>\n",
       "      <td>12/2/2016 Listed in Date Night: Austin, Ambia...</td>\n",
       "      <td>4</td>\n",
       "      <td>2016-12-02</td>\n",
       "      <td>[listed, in, date, night, austin, ambiance, in...</td>\n",
       "    </tr>\n",
       "    <tr>\n",
       "      <th>2</th>\n",
       "      <td>The Factory - Cafe With a Soul</td>\n",
       "      <td>11/30/2016 1 check-in Listed in Brunch Spots ...</td>\n",
       "      <td>4</td>\n",
       "      <td>2016-11-30</td>\n",
       "      <td>[listed, in, brunch, spots, i, loved, the, ecl...</td>\n",
       "    </tr>\n",
       "    <tr>\n",
       "      <th>3</th>\n",
       "      <td>The Factory - Cafe With a Soul</td>\n",
       "      <td>11/25/2016 Very cool decor! Good drinks Nice ...</td>\n",
       "      <td>2</td>\n",
       "      <td>2016-11-25</td>\n",
       "      <td>[very, cool, decor, good, drinks, nice, seatin...</td>\n",
       "    </tr>\n",
       "    <tr>\n",
       "      <th>4</th>\n",
       "      <td>The Factory - Cafe With a Soul</td>\n",
       "      <td>12/3/2016 1 check-in They are located within ...</td>\n",
       "      <td>4</td>\n",
       "      <td>2016-12-03</td>\n",
       "      <td>[they, are, located, within, the, northcross, ...</td>\n",
       "    </tr>\n",
       "  </tbody>\n",
       "</table>\n",
       "</div>"
      ],
      "text/plain": [
       "                  coffee_shop_name  \\\n",
       "0  The Factory - Cafe With a Soul    \n",
       "1  The Factory - Cafe With a Soul    \n",
       "2  The Factory - Cafe With a Soul    \n",
       "3  The Factory - Cafe With a Soul    \n",
       "4  The Factory - Cafe With a Soul    \n",
       "\n",
       "                                    full_review_text  star_rating  timestamp  \\\n",
       "0   11/25/2016 1 check-in Love love loved the atm...            5 2016-11-25   \n",
       "1   12/2/2016 Listed in Date Night: Austin, Ambia...            4 2016-12-02   \n",
       "2   11/30/2016 1 check-in Listed in Brunch Spots ...            4 2016-11-30   \n",
       "3   11/25/2016 Very cool decor! Good drinks Nice ...            2 2016-11-25   \n",
       "4   12/3/2016 1 check-in They are located within ...            4 2016-12-03   \n",
       "\n",
       "                                              tokens  \n",
       "0  [love, love, loved, the, atmosphere, every, co...  \n",
       "1  [listed, in, date, night, austin, ambiance, in...  \n",
       "2  [listed, in, brunch, spots, i, loved, the, ecl...  \n",
       "3  [very, cool, decor, good, drinks, nice, seatin...  \n",
       "4  [they, are, located, within, the, northcross, ...  "
      ]
     },
     "execution_count": 73,
     "metadata": {},
     "output_type": "execute_result"
    }
   ],
   "source": [
    "shops.head()"
   ]
  },
  {
   "cell_type": "markdown",
   "metadata": {},
   "source": [
    "## How do we want to analyze these coffee shop tokens? \n",
    "\n",
    "- Overall Word / Token Count\n",
    "- View Counts by Rating \n",
    "- *Hint:* a 'bad' coffee shops has a rating betweeen 1 & 3 based on the distribution of ratings. A 'good' coffee shop is a 4 or 5. "
   ]
  },
  {
   "cell_type": "code",
   "execution_count": 74,
   "metadata": {},
   "outputs": [
    {
     "data": {
      "text/plain": [
       "[('the', 34760),\n",
       " ('and', 26644),\n",
       " ('a', 22701),\n",
       " ('i', 20232),\n",
       " ('to', 17164),\n",
       " ('of', 12600),\n",
       " ('is', 11999),\n",
       " ('coffee', 10260),\n",
       " ('was', 9707),\n",
       " ('in', 9546)]"
      ]
     },
     "execution_count": 74,
     "metadata": {},
     "output_type": "execute_result"
    }
   ],
   "source": [
    "# I'm gonna do token counts and then maybe filter them through spacy\n",
    "# and then do some graphs idk\n",
    "from collections import Counter\n",
    "\n",
    "counts = Counter()\n",
    "\n",
    "shops['tokens'].apply(lambda x: counts.update(x))\n",
    "\n",
    "counts.most_common(10)"
   ]
  },
  {
   "cell_type": "code",
   "execution_count": 77,
   "metadata": {},
   "outputs": [
    {
     "name": "stdout",
     "output_type": "stream",
     "text": [
      "['love', 'love', 'loved', 'atmosphere', 'corner', 'coffee', 'shop', 'style', 'swings', 'ordered', 'matcha', 'latte', 'muy', 'fantastico', 'ordering', 'getting', 'drink', 'pretty', 'streamlined', 'ordered', 'ipad', 'included', 'beverage', 'selections', 'ranged', 'coffee', 'wine', 'desired', 'level', 'sweetness', 'checkout', 'system', 'got', 'latte', 'minutes', 'hoping', 'typical', 'heart', 'feather', 'latte', 'found', 'listing', 'possibilities', 'art', 'ideas']\n"
     ]
    }
   ],
   "source": [
    "# Lets see if I can use spacy to filter these cause\n",
    "# this doesn't tell me anything.\n",
    "\n",
    "# First, let me grab spacy's list of stop words\n",
    "import spacy\n",
    "nlp = spacy.load('en_core_web_lg')\n",
    "STOP_WORDS = nlp.Defaults.stop_words\n",
    "\n",
    "def filter_tokens(tokens):\n",
    "    new_tokens = [x for x in tokens if x not in STOP_WORDS]\n",
    "    return new_tokens\n",
    "\n",
    "sample = shops['tokens'][0].copy()\n",
    "\n",
    "print(filter_tokens(sample))"
   ]
  },
  {
   "cell_type": "code",
   "execution_count": 78,
   "metadata": {},
   "outputs": [
    {
     "data": {
      "text/html": [
       "<div>\n",
       "<style scoped>\n",
       "    .dataframe tbody tr th:only-of-type {\n",
       "        vertical-align: middle;\n",
       "    }\n",
       "\n",
       "    .dataframe tbody tr th {\n",
       "        vertical-align: top;\n",
       "    }\n",
       "\n",
       "    .dataframe thead th {\n",
       "        text-align: right;\n",
       "    }\n",
       "</style>\n",
       "<table border=\"1\" class=\"dataframe\">\n",
       "  <thead>\n",
       "    <tr style=\"text-align: right;\">\n",
       "      <th></th>\n",
       "      <th>coffee_shop_name</th>\n",
       "      <th>full_review_text</th>\n",
       "      <th>star_rating</th>\n",
       "      <th>timestamp</th>\n",
       "      <th>tokens</th>\n",
       "    </tr>\n",
       "  </thead>\n",
       "  <tbody>\n",
       "    <tr>\n",
       "      <th>0</th>\n",
       "      <td>The Factory - Cafe With a Soul</td>\n",
       "      <td>11/25/2016 1 check-in Love love loved the atm...</td>\n",
       "      <td>5</td>\n",
       "      <td>2016-11-25</td>\n",
       "      <td>[love, love, loved, atmosphere, corner, coffee...</td>\n",
       "    </tr>\n",
       "    <tr>\n",
       "      <th>1</th>\n",
       "      <td>The Factory - Cafe With a Soul</td>\n",
       "      <td>12/2/2016 Listed in Date Night: Austin, Ambia...</td>\n",
       "      <td>4</td>\n",
       "      <td>2016-12-02</td>\n",
       "      <td>[listed, date, night, austin, ambiance, austin...</td>\n",
       "    </tr>\n",
       "    <tr>\n",
       "      <th>2</th>\n",
       "      <td>The Factory - Cafe With a Soul</td>\n",
       "      <td>11/30/2016 1 check-in Listed in Brunch Spots ...</td>\n",
       "      <td>4</td>\n",
       "      <td>2016-11-30</td>\n",
       "      <td>[listed, brunch, spots, loved, eclectic, homey...</td>\n",
       "    </tr>\n",
       "    <tr>\n",
       "      <th>3</th>\n",
       "      <td>The Factory - Cafe With a Soul</td>\n",
       "      <td>11/25/2016 Very cool decor! Good drinks Nice ...</td>\n",
       "      <td>2</td>\n",
       "      <td>2016-11-25</td>\n",
       "      <td>[cool, decor, good, drinks, nice, seating, ove...</td>\n",
       "    </tr>\n",
       "    <tr>\n",
       "      <th>4</th>\n",
       "      <td>The Factory - Cafe With a Soul</td>\n",
       "      <td>12/3/2016 1 check-in They are located within ...</td>\n",
       "      <td>4</td>\n",
       "      <td>2016-12-03</td>\n",
       "      <td>[located, northcross, mall, shopping, center, ...</td>\n",
       "    </tr>\n",
       "  </tbody>\n",
       "</table>\n",
       "</div>"
      ],
      "text/plain": [
       "                  coffee_shop_name  \\\n",
       "0  The Factory - Cafe With a Soul    \n",
       "1  The Factory - Cafe With a Soul    \n",
       "2  The Factory - Cafe With a Soul    \n",
       "3  The Factory - Cafe With a Soul    \n",
       "4  The Factory - Cafe With a Soul    \n",
       "\n",
       "                                    full_review_text  star_rating  timestamp  \\\n",
       "0   11/25/2016 1 check-in Love love loved the atm...            5 2016-11-25   \n",
       "1   12/2/2016 Listed in Date Night: Austin, Ambia...            4 2016-12-02   \n",
       "2   11/30/2016 1 check-in Listed in Brunch Spots ...            4 2016-11-30   \n",
       "3   11/25/2016 Very cool decor! Good drinks Nice ...            2 2016-11-25   \n",
       "4   12/3/2016 1 check-in They are located within ...            4 2016-12-03   \n",
       "\n",
       "                                              tokens  \n",
       "0  [love, love, loved, atmosphere, corner, coffee...  \n",
       "1  [listed, date, night, austin, ambiance, austin...  \n",
       "2  [listed, brunch, spots, loved, eclectic, homey...  \n",
       "3  [cool, decor, good, drinks, nice, seating, ove...  \n",
       "4  [located, northcross, mall, shopping, center, ...  "
      ]
     },
     "execution_count": 78,
     "metadata": {},
     "output_type": "execute_result"
    }
   ],
   "source": [
    "shops['tokens'] = shops['tokens'].apply(filter_tokens)\n",
    "\n",
    "shops.head()"
   ]
  },
  {
   "cell_type": "code",
   "execution_count": 90,
   "metadata": {},
   "outputs": [
    {
     "name": "stdout",
     "output_type": "stream",
     "text": [
      "    token  count   percent\n",
      "0  coffee  10260  0.028400\n",
      "1   place   5426  0.015019\n",
      "2    good   3973  0.010997\n",
      "3   great   3919  0.010848\n",
      "4    like   3088  0.008548\n",
      "[('coffee', 10260), ('place', 5426), ('good', 3973), ('great', 3919), ('like', 3088), ('austin', 2248), ('love', 1935), ('time', 1884), ('im', 1861), ('food', 1836)]\n"
     ]
    }
   ],
   "source": [
    "# Okay, the tokens are filtered, lets run the counter again\n",
    "counts = Counter()\n",
    "\n",
    "shops['tokens'].apply(lambda x: counts.update(x))\n",
    "\n",
    "# save as a dataframe for later\n",
    "counts_df = pd.DataFrame(counts.most_common())\n",
    "counts_df.columns = ['token', 'count']\n",
    "counts_sum = sum(counts_df['count'])\n",
    "counts_df['percent'] = counts_df['count'] / counts_sum\n",
    "\n",
    "print(counts_df.head())\n",
    "print(counts.most_common(10))"
   ]
  },
  {
   "cell_type": "markdown",
   "metadata": {},
   "source": [
    "## Can visualize the words with the greatest difference in counts between 'good' & 'bad'?\n",
    "\n",
    "Couple Notes: \n",
    "- Rel. freq. instead of absolute counts b/c of different numbers of reviews\n",
    "- Only look at the top 5-10 words with the greatest differences\n"
   ]
  },
  {
   "cell_type": "code",
   "execution_count": 91,
   "metadata": {},
   "outputs": [
    {
     "data": {
      "text/html": [
       "<div>\n",
       "<style scoped>\n",
       "    .dataframe tbody tr th:only-of-type {\n",
       "        vertical-align: middle;\n",
       "    }\n",
       "\n",
       "    .dataframe tbody tr th {\n",
       "        vertical-align: top;\n",
       "    }\n",
       "\n",
       "    .dataframe thead th {\n",
       "        text-align: right;\n",
       "    }\n",
       "</style>\n",
       "<table border=\"1\" class=\"dataframe\">\n",
       "  <thead>\n",
       "    <tr style=\"text-align: right;\">\n",
       "      <th></th>\n",
       "      <th>coffee_shop_name</th>\n",
       "      <th>full_review_text</th>\n",
       "      <th>star_rating</th>\n",
       "      <th>timestamp</th>\n",
       "      <th>tokens</th>\n",
       "    </tr>\n",
       "  </thead>\n",
       "  <tbody>\n",
       "    <tr>\n",
       "      <th>0</th>\n",
       "      <td>The Factory - Cafe With a Soul</td>\n",
       "      <td>11/25/2016 1 check-in Love love loved the atm...</td>\n",
       "      <td>5</td>\n",
       "      <td>2016-11-25</td>\n",
       "      <td>[love, love, loved, atmosphere, corner, coffee...</td>\n",
       "    </tr>\n",
       "    <tr>\n",
       "      <th>1</th>\n",
       "      <td>The Factory - Cafe With a Soul</td>\n",
       "      <td>12/2/2016 Listed in Date Night: Austin, Ambia...</td>\n",
       "      <td>4</td>\n",
       "      <td>2016-12-02</td>\n",
       "      <td>[listed, date, night, austin, ambiance, austin...</td>\n",
       "    </tr>\n",
       "    <tr>\n",
       "      <th>2</th>\n",
       "      <td>The Factory - Cafe With a Soul</td>\n",
       "      <td>11/30/2016 1 check-in Listed in Brunch Spots ...</td>\n",
       "      <td>4</td>\n",
       "      <td>2016-11-30</td>\n",
       "      <td>[listed, brunch, spots, loved, eclectic, homey...</td>\n",
       "    </tr>\n",
       "    <tr>\n",
       "      <th>4</th>\n",
       "      <td>The Factory - Cafe With a Soul</td>\n",
       "      <td>12/3/2016 1 check-in They are located within ...</td>\n",
       "      <td>4</td>\n",
       "      <td>2016-12-03</td>\n",
       "      <td>[located, northcross, mall, shopping, center, ...</td>\n",
       "    </tr>\n",
       "    <tr>\n",
       "      <th>5</th>\n",
       "      <td>The Factory - Cafe With a Soul</td>\n",
       "      <td>11/20/2016 1 check-in Very cute cafe! I think...</td>\n",
       "      <td>4</td>\n",
       "      <td>2016-11-20</td>\n",
       "      <td>[cute, cafe, think, moment, stepped, wasnt, di...</td>\n",
       "    </tr>\n",
       "  </tbody>\n",
       "</table>\n",
       "</div>"
      ],
      "text/plain": [
       "                  coffee_shop_name  \\\n",
       "0  The Factory - Cafe With a Soul    \n",
       "1  The Factory - Cafe With a Soul    \n",
       "2  The Factory - Cafe With a Soul    \n",
       "4  The Factory - Cafe With a Soul    \n",
       "5  The Factory - Cafe With a Soul    \n",
       "\n",
       "                                    full_review_text  star_rating  timestamp  \\\n",
       "0   11/25/2016 1 check-in Love love loved the atm...            5 2016-11-25   \n",
       "1   12/2/2016 Listed in Date Night: Austin, Ambia...            4 2016-12-02   \n",
       "2   11/30/2016 1 check-in Listed in Brunch Spots ...            4 2016-11-30   \n",
       "4   12/3/2016 1 check-in They are located within ...            4 2016-12-03   \n",
       "5   11/20/2016 1 check-in Very cute cafe! I think...            4 2016-11-20   \n",
       "\n",
       "                                              tokens  \n",
       "0  [love, love, loved, atmosphere, corner, coffee...  \n",
       "1  [listed, date, night, austin, ambiance, austin...  \n",
       "2  [listed, brunch, spots, loved, eclectic, homey...  \n",
       "4  [located, northcross, mall, shopping, center, ...  \n",
       "5  [cute, cafe, think, moment, stepped, wasnt, di...  "
      ]
     },
     "execution_count": 91,
     "metadata": {},
     "output_type": "execute_result"
    }
   ],
   "source": [
    "good_shops = shops[shops['star_rating']>3]\n",
    "bad_shops = shops[shops['star_rating']<=3]\n",
    "\n",
    "good_shops.head()"
   ]
  },
  {
   "cell_type": "code",
   "execution_count": 92,
   "metadata": {},
   "outputs": [
    {
     "data": {
      "text/html": [
       "<div>\n",
       "<style scoped>\n",
       "    .dataframe tbody tr th:only-of-type {\n",
       "        vertical-align: middle;\n",
       "    }\n",
       "\n",
       "    .dataframe tbody tr th {\n",
       "        vertical-align: top;\n",
       "    }\n",
       "\n",
       "    .dataframe thead th {\n",
       "        text-align: right;\n",
       "    }\n",
       "</style>\n",
       "<table border=\"1\" class=\"dataframe\">\n",
       "  <thead>\n",
       "    <tr style=\"text-align: right;\">\n",
       "      <th></th>\n",
       "      <th>coffee_shop_name</th>\n",
       "      <th>full_review_text</th>\n",
       "      <th>star_rating</th>\n",
       "      <th>timestamp</th>\n",
       "      <th>tokens</th>\n",
       "    </tr>\n",
       "  </thead>\n",
       "  <tbody>\n",
       "    <tr>\n",
       "      <th>3</th>\n",
       "      <td>The Factory - Cafe With a Soul</td>\n",
       "      <td>11/25/2016 Very cool decor! Good drinks Nice ...</td>\n",
       "      <td>2</td>\n",
       "      <td>2016-11-25</td>\n",
       "      <td>[cool, decor, good, drinks, nice, seating, ove...</td>\n",
       "    </tr>\n",
       "    <tr>\n",
       "      <th>8</th>\n",
       "      <td>The Factory - Cafe With a Soul</td>\n",
       "      <td>10/25/2016 1 check-in Ok, let's try this appr...</td>\n",
       "      <td>3</td>\n",
       "      <td>2016-10-25</td>\n",
       "      <td>[ok, lets, try, approach, pros, music, seating...</td>\n",
       "    </tr>\n",
       "    <tr>\n",
       "      <th>11</th>\n",
       "      <td>The Factory - Cafe With a Soul</td>\n",
       "      <td>11/20/2016 The store has A+ decoration, but h...</td>\n",
       "      <td>3</td>\n",
       "      <td>2016-11-20</td>\n",
       "      <td>[store, decoration, honestly, coffee, good, co...</td>\n",
       "    </tr>\n",
       "    <tr>\n",
       "      <th>12</th>\n",
       "      <td>The Factory - Cafe With a Soul</td>\n",
       "      <td>11/17/2016 1 check-in Listed in 2016 - The Th...</td>\n",
       "      <td>3</td>\n",
       "      <td>2016-11-17</td>\n",
       "      <td>[listed, 2016, time, charm, factory, decor, in...</td>\n",
       "    </tr>\n",
       "    <tr>\n",
       "      <th>25</th>\n",
       "      <td>The Factory - Cafe With a Soul</td>\n",
       "      <td>12/2/2016 Okay, so after visiting my friends ...</td>\n",
       "      <td>1</td>\n",
       "      <td>2016-12-02</td>\n",
       "      <td>[okay, visiting, friends, la, trying, mint, mo...</td>\n",
       "    </tr>\n",
       "  </tbody>\n",
       "</table>\n",
       "</div>"
      ],
      "text/plain": [
       "                   coffee_shop_name  \\\n",
       "3   The Factory - Cafe With a Soul    \n",
       "8   The Factory - Cafe With a Soul    \n",
       "11  The Factory - Cafe With a Soul    \n",
       "12  The Factory - Cafe With a Soul    \n",
       "25  The Factory - Cafe With a Soul    \n",
       "\n",
       "                                     full_review_text  star_rating  timestamp  \\\n",
       "3    11/25/2016 Very cool decor! Good drinks Nice ...            2 2016-11-25   \n",
       "8    10/25/2016 1 check-in Ok, let's try this appr...            3 2016-10-25   \n",
       "11   11/20/2016 The store has A+ decoration, but h...            3 2016-11-20   \n",
       "12   11/17/2016 1 check-in Listed in 2016 - The Th...            3 2016-11-17   \n",
       "25   12/2/2016 Okay, so after visiting my friends ...            1 2016-12-02   \n",
       "\n",
       "                                               tokens  \n",
       "3   [cool, decor, good, drinks, nice, seating, ove...  \n",
       "8   [ok, lets, try, approach, pros, music, seating...  \n",
       "11  [store, decoration, honestly, coffee, good, co...  \n",
       "12  [listed, 2016, time, charm, factory, decor, in...  \n",
       "25  [okay, visiting, friends, la, trying, mint, mo...  "
      ]
     },
     "execution_count": 92,
     "metadata": {},
     "output_type": "execute_result"
    }
   ],
   "source": [
    "bad_shops.head()"
   ]
  },
  {
   "cell_type": "code",
   "execution_count": 107,
   "metadata": {},
   "outputs": [
    {
     "name": "stdout",
     "output_type": "stream",
     "text": [
      "[('coffee', 6048, 0.016741034356765615), ('place', 3202, 0.008863226192189731), ('good', 2219, 0.006142254503581829), ('great', 2987, 0.008268100136186986), ('like', 1336, 0.0036980856317193884), ('austin', 1682, 0.004655823377658691), ('love', 1515, 0.004193562673693767), ('time', 928, 0.0025687301393978986), ('im', 971, 0.002687755350598448), ('food', 868, 0.002402648449350621)]\n"
     ]
    }
   ],
   "source": [
    "# get the counts\n",
    "good_counts = Counter()\n",
    "bad_counts = Counter()\n",
    "\n",
    "good_shops['tokens'].apply(lambda x: good_counts.update(x))\n",
    "bad_shops['tokens'].apply(lambda x: bad_counts.update(x))\n",
    "\n",
    "# organize into dataframes\n",
    "good_counts_df = pd.DataFrame(good_counts.most_common())\n",
    "bad_counts_df = pd.DataFrame(bad_counts.most_common())\n",
    "\n",
    "# column fixing\n",
    "good_counts_df.columns = ['token', 'count']\n",
    "bad_counts_df.columns = ['token', 'count']\n",
    "\n",
    "# get percentage values based on total sum\n",
    "good_counts_df['percent'] = good_counts_df['count'] / counts_sum\n",
    "bad_counts_df['percent'] = bad_counts_df['count'] / counts_sum\n",
    "\n",
    "shop_diffs = []\n",
    "for token in counts_df['token']:\n",
    "    goodcount = good_counts_df.loc[good_counts_df['token'] == token]['count']\n",
    "    if goodcount.empty:\n",
    "        goodcount = 0\n",
    "    else:\n",
    "        goodcount = goodcount.to_list()[0]\n",
    "    badcount = bad_counts_df.loc[bad_counts_df['token'] == token]['count']\n",
    "    if badcount.empty:\n",
    "        badcount = 0\n",
    "    else:\n",
    "        badcount = badcount.to_list()[0]\n",
    "    goodperc = good_counts_df.loc[good_counts_df['token']== token]['percent']\n",
    "    if goodperc.empty:\n",
    "        goodperc = 0\n",
    "    else:\n",
    "        goodperc = goodperc.to_list()[0]\n",
    "    badperc = bad_counts_df.loc[bad_counts_df['token']== token]['percent']\n",
    "    if badperc.empty:\n",
    "        badperc = 0\n",
    "    else:\n",
    "        badperc = badperc.to_list()[0]\n",
    "    shop_diffs.append((token, goodcount - badcount, goodperc - badperc))\n",
    "    \n",
    "print(shop_diffs[:10])"
   ]
  },
  {
   "cell_type": "code",
   "execution_count": 110,
   "metadata": {},
   "outputs": [
    {
     "data": {
      "text/html": [
       "<div>\n",
       "<style scoped>\n",
       "    .dataframe tbody tr th:only-of-type {\n",
       "        vertical-align: middle;\n",
       "    }\n",
       "\n",
       "    .dataframe tbody tr th {\n",
       "        vertical-align: top;\n",
       "    }\n",
       "\n",
       "    .dataframe thead th {\n",
       "        text-align: right;\n",
       "    }\n",
       "</style>\n",
       "<table border=\"1\" class=\"dataframe\">\n",
       "  <thead>\n",
       "    <tr style=\"text-align: right;\">\n",
       "      <th></th>\n",
       "      <th>token</th>\n",
       "      <th>count_difference</th>\n",
       "      <th>percent_difference</th>\n",
       "    </tr>\n",
       "  </thead>\n",
       "  <tbody>\n",
       "    <tr>\n",
       "      <th>0</th>\n",
       "      <td>coffee</td>\n",
       "      <td>6048</td>\n",
       "      <td>0.016741</td>\n",
       "    </tr>\n",
       "    <tr>\n",
       "      <th>1</th>\n",
       "      <td>place</td>\n",
       "      <td>3202</td>\n",
       "      <td>0.008863</td>\n",
       "    </tr>\n",
       "    <tr>\n",
       "      <th>3</th>\n",
       "      <td>great</td>\n",
       "      <td>2987</td>\n",
       "      <td>0.008268</td>\n",
       "    </tr>\n",
       "    <tr>\n",
       "      <th>2</th>\n",
       "      <td>good</td>\n",
       "      <td>2219</td>\n",
       "      <td>0.006142</td>\n",
       "    </tr>\n",
       "    <tr>\n",
       "      <th>5</th>\n",
       "      <td>austin</td>\n",
       "      <td>1682</td>\n",
       "      <td>0.004656</td>\n",
       "    </tr>\n",
       "    <tr>\n",
       "      <th>6</th>\n",
       "      <td>love</td>\n",
       "      <td>1515</td>\n",
       "      <td>0.004194</td>\n",
       "    </tr>\n",
       "    <tr>\n",
       "      <th>4</th>\n",
       "      <td>like</td>\n",
       "      <td>1336</td>\n",
       "      <td>0.003698</td>\n",
       "    </tr>\n",
       "    <tr>\n",
       "      <th>12</th>\n",
       "      <td>friendly</td>\n",
       "      <td>1265</td>\n",
       "      <td>0.003502</td>\n",
       "    </tr>\n",
       "    <tr>\n",
       "      <th>18</th>\n",
       "      <td>delicious</td>\n",
       "      <td>1226</td>\n",
       "      <td>0.003394</td>\n",
       "    </tr>\n",
       "    <tr>\n",
       "      <th>24</th>\n",
       "      <td>best</td>\n",
       "      <td>1102</td>\n",
       "      <td>0.003050</td>\n",
       "    </tr>\n",
       "  </tbody>\n",
       "</table>\n",
       "</div>"
      ],
      "text/plain": [
       "        token  count_difference  percent_difference\n",
       "0      coffee              6048            0.016741\n",
       "1       place              3202            0.008863\n",
       "3       great              2987            0.008268\n",
       "2        good              2219            0.006142\n",
       "5      austin              1682            0.004656\n",
       "6        love              1515            0.004194\n",
       "4        like              1336            0.003698\n",
       "12   friendly              1265            0.003502\n",
       "18  delicious              1226            0.003394\n",
       "24       best              1102            0.003050"
      ]
     },
     "execution_count": 110,
     "metadata": {},
     "output_type": "execute_result"
    }
   ],
   "source": [
    "shop_diffs_df = pd.DataFrame(shop_diffs)\n",
    "\n",
    "shop_diffs_df.columns = ['token','count_difference','percent_difference']\n",
    "\n",
    "shop_diffs_df = shop_diffs_df.sort_values(by='count_difference', ascending=False)\n",
    "\n",
    "shop_diffs_df.head(10)"
   ]
  },
  {
   "cell_type": "code",
   "execution_count": 111,
   "metadata": {},
   "outputs": [
    {
     "data": {
      "text/html": [
       "<div>\n",
       "<style scoped>\n",
       "    .dataframe tbody tr th:only-of-type {\n",
       "        vertical-align: middle;\n",
       "    }\n",
       "\n",
       "    .dataframe tbody tr th {\n",
       "        vertical-align: top;\n",
       "    }\n",
       "\n",
       "    .dataframe thead th {\n",
       "        text-align: right;\n",
       "    }\n",
       "</style>\n",
       "<table border=\"1\" class=\"dataframe\">\n",
       "  <thead>\n",
       "    <tr style=\"text-align: right;\">\n",
       "      <th></th>\n",
       "      <th>token</th>\n",
       "      <th>count_difference</th>\n",
       "      <th>percent_difference</th>\n",
       "    </tr>\n",
       "  </thead>\n",
       "  <tbody>\n",
       "    <tr>\n",
       "      <th>1009</th>\n",
       "      <td>disappointing</td>\n",
       "      <td>-26</td>\n",
       "      <td>-0.000072</td>\n",
       "    </tr>\n",
       "    <tr>\n",
       "      <th>248</th>\n",
       "      <td>ok</td>\n",
       "      <td>-27</td>\n",
       "      <td>-0.000075</td>\n",
       "    </tr>\n",
       "    <tr>\n",
       "      <th>859</th>\n",
       "      <td>worst</td>\n",
       "      <td>-28</td>\n",
       "      <td>-0.000078</td>\n",
       "    </tr>\n",
       "    <tr>\n",
       "      <th>680</th>\n",
       "      <td>attitude</td>\n",
       "      <td>-30</td>\n",
       "      <td>-0.000083</td>\n",
       "    </tr>\n",
       "    <tr>\n",
       "      <th>944</th>\n",
       "      <td>rating</td>\n",
       "      <td>-31</td>\n",
       "      <td>-0.000086</td>\n",
       "    </tr>\n",
       "    <tr>\n",
       "      <th>925</th>\n",
       "      <td>mediocre</td>\n",
       "      <td>-34</td>\n",
       "      <td>-0.000094</td>\n",
       "    </tr>\n",
       "    <tr>\n",
       "      <th>1015</th>\n",
       "      <td>horrible</td>\n",
       "      <td>-38</td>\n",
       "      <td>-0.000105</td>\n",
       "    </tr>\n",
       "    <tr>\n",
       "      <th>951</th>\n",
       "      <td>meh</td>\n",
       "      <td>-40</td>\n",
       "      <td>-0.000111</td>\n",
       "    </tr>\n",
       "    <tr>\n",
       "      <th>195</th>\n",
       "      <td>asked</td>\n",
       "      <td>-74</td>\n",
       "      <td>-0.000205</td>\n",
       "    </tr>\n",
       "    <tr>\n",
       "      <th>477</th>\n",
       "      <td>rude</td>\n",
       "      <td>-98</td>\n",
       "      <td>-0.000271</td>\n",
       "    </tr>\n",
       "  </tbody>\n",
       "</table>\n",
       "</div>"
      ],
      "text/plain": [
       "              token  count_difference  percent_difference\n",
       "1009  disappointing               -26           -0.000072\n",
       "248              ok               -27           -0.000075\n",
       "859           worst               -28           -0.000078\n",
       "680        attitude               -30           -0.000083\n",
       "944          rating               -31           -0.000086\n",
       "925        mediocre               -34           -0.000094\n",
       "1015       horrible               -38           -0.000105\n",
       "951             meh               -40           -0.000111\n",
       "195           asked               -74           -0.000205\n",
       "477            rude               -98           -0.000271"
      ]
     },
     "execution_count": 111,
     "metadata": {},
     "output_type": "execute_result"
    }
   ],
   "source": [
    "shop_diffs_df.tail(10)"
   ]
  },
  {
   "cell_type": "code",
   "execution_count": 118,
   "metadata": {},
   "outputs": [
    {
     "data": {
      "image/png": "[encoded data removed]",
      "text/plain": [
       "<Figure size 432x288 with 1 Axes>"
      ]
     },
     "metadata": {
      "needs_background": "light"
     },
     "output_type": "display_data"
    },
    {
     "data": {
      "image/png": "[encoded data removed]",
      "text/plain": [
       "<Figure size 432x288 with 1 Axes>"
      ]
     },
     "metadata": {
      "needs_background": "light"
     },
     "output_type": "display_data"
    }
   ],
   "source": [
    "# some vizualizations\n",
    "import squarify\n",
    "import matplotlib.pyplot as plt\n",
    "%matplotlib inline\n",
    "\n",
    "top_10 = shop_diffs_df.head(20).copy()\n",
    "bottom_10 = shop_diffs_df.tail(20).copy()\n",
    "\n",
    "# top 20 plot (ignore the name, I changed it after)\n",
    "squarify.plot(sizes=top_10['percent_difference'], label=top_10['token'], alpha=.8)\n",
    "plt.title('20 Most Used Words in Positive Yelp Reviews')\n",
    "plt.axis('off')\n",
    "plt.show()\n",
    "\n",
    "squarify.plot(sizes=bottom_10['percent_difference'], label=bottom_10['token'], alpha=.8)\n",
    "plt.title('20 Most Used Words in Negative Yelp Reviews')\n",
    "plt.axis('off')\n",
    "plt.show()\n"
   ]
  },
  {
   "cell_type": "markdown",
   "metadata": {
    "colab_type": "text",
    "id": "1dCb1q8XphcP",
    "toc-hr-collapsed": true
   },
   "source": [
    "## Stretch Goals\n",
    "\n",
    "* Analyze another corpus of documents - such as Indeed.com job listings ;).\n",
    "* Play with the Spacy API to\n",
    " - Extract Named Entities\n",
    " - Extracting 'noun chunks'\n",
    " - Attempt Document Classification with just Spacy\n",
    " - *Note:* This [course](https://course.spacy.io/) will be of interesting in helping you with these stretch goals. \n",
    "* Try to build a plotly dash app with your text data \n",
    "\n"
   ]
  },
  {
   "cell_type": "code",
   "execution_count": null,
   "metadata": {},
   "outputs": [],
   "source": []
  }
 ],
 "metadata": {
  "colab": {
   "collapsed_sections": [],
   "name": "LS_DS_421_Text_Data_Assignment.ipynb",
   "provenance": [],
   "version": "0.3.2"
  },
  "kernelspec": {
   "display_name": "U4-S1-NLP (Python3)",
   "language": "python",
   "name": "u4-s1-nlp"
  },
  "language_info": {
   "codemirror_mode": {
    "name": "ipython",
    "version": 3
   },
   "file_extension": ".py",
   "mimetype": "text/x-python",
   "name": "python",
   "nbconvert_exporter": "python",
   "pygments_lexer": "ipython3",
   "version": "3.7.0"
  },
  "toc-autonumbering": false
 },
 "nbformat": 4,
 "nbformat_minor": 4
}
