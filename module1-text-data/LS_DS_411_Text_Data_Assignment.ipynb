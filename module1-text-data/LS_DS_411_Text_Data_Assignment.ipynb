{
 "cells": [
  {
   "cell_type": "markdown",
   "metadata": {},
   "source": [
    "<img align=\"left\" src=\"https://lever-client-logos.s3.amazonaws.com/864372b1-534c-480e-acd5-9711f850815c-1524247202159.png\" width=200>\n",
    "<br></br>\n",
    "<br></br>\n",
    "\n",
    "# Natural Language Processing (NLP)\n",
    "## *Data Science Unit 4 Sprint 1 Assignment 1*\n",
    "\n",
    "Your goal in this assignment: find the attributes of the best & worst coffee shops in the dataset. The text is fairly raw: dates in the review, extra words in the `star_rating` column, etc. You'll probably want to clean that stuff up for a better analysis. \n",
    "\n",
    "Analyze the corpus of text using text visualizations of token frequency. Try cleaning the data as much as possible. Try the following techniques: \n",
    "- Lemmatization\n",
    "- Custom stopword removal\n",
    "\n",
    "Keep in mind the attributes of good tokens. Once you have a solid baseline, layer in the star rating in your visualization(s). Key part of this assignment - produce a write-up of the attributes of the best and worst coffee shops. Based on your analysis, what makes the best the best and the worst the worst. Use graphs and numbesr from your analysis to support your conclusions. There should be plenty of markdown cells! :coffee:"
   ]
  },
  {
   "cell_type": "code",
   "execution_count": 131,
   "metadata": {
    "scrolled": true
   },
   "outputs": [
    {
     "data": {
      "image/jpeg": "[encoded data removed]",
      "text/html": [
       "\n",
       "        <iframe\n",
       "            width=\"400\"\n",
       "            height=\"300\"\n",
       "            src=\"https://www.youtube.com/embed/Jml7NVYm8cs\"\n",
       "            frameborder=\"0\"\n",
       "            allowfullscreen\n",
       "        ></iframe>\n",
       "        "
      ],
      "text/plain": [
       "<IPython.lib.display.YouTubeVideo at 0x7fa44b345e10>"
      ]
     },
     "execution_count": 131,
     "metadata": {},
     "output_type": "execute_result"
    }
   ],
   "source": [
    "from IPython.display import YouTubeVideo\n",
    "\n",
    "YouTubeVideo('Jml7NVYm8cs')"
   ]
  },
  {
   "cell_type": "code",
   "execution_count": 132,
   "metadata": {},
   "outputs": [
    {
     "data": {
      "text/plain": [
       "'/Users/shahnam/ds/repos/DS-Unit-4-Sprint-1-NLP/module1-text-data'"
      ]
     },
     "execution_count": 132,
     "metadata": {},
     "output_type": "execute_result"
    }
   ],
   "source": [
    "%pwd"
   ]
  },
  {
   "cell_type": "code",
   "execution_count": 133,
   "metadata": {
    "scrolled": true
   },
   "outputs": [
    {
     "data": {
      "text/html": [
       "<div>\n",
       "<style scoped>\n",
       "    .dataframe tbody tr th:only-of-type {\n",
       "        vertical-align: middle;\n",
       "    }\n",
       "\n",
       "    .dataframe tbody tr th {\n",
       "        vertical-align: top;\n",
       "    }\n",
       "\n",
       "    .dataframe thead th {\n",
       "        text-align: right;\n",
       "    }\n",
       "</style>\n",
       "<table border=\"1\" class=\"dataframe\">\n",
       "  <thead>\n",
       "    <tr style=\"text-align: right;\">\n",
       "      <th></th>\n",
       "      <th>coffee_shop_name</th>\n",
       "      <th>full_review_text</th>\n",
       "      <th>star_rating</th>\n",
       "    </tr>\n",
       "  </thead>\n",
       "  <tbody>\n",
       "    <tr>\n",
       "      <th>7596</th>\n",
       "      <td>The Steeping Room</td>\n",
       "      <td>12/3/2015 I had the best experience at this r...</td>\n",
       "      <td>5.0 star rating</td>\n",
       "    </tr>\n",
       "    <tr>\n",
       "      <th>7597</th>\n",
       "      <td>The Steeping Room</td>\n",
       "      <td>1/3/2014 1 check-in Listed in 2014 Yelp 100 C...</td>\n",
       "      <td>4.0 star rating</td>\n",
       "    </tr>\n",
       "    <tr>\n",
       "      <th>7598</th>\n",
       "      <td>The Steeping Room</td>\n",
       "      <td>4/13/2015 I went to the steeping room today f...</td>\n",
       "      <td>5.0 star rating</td>\n",
       "    </tr>\n",
       "    <tr>\n",
       "      <th>7599</th>\n",
       "      <td>The Steeping Room</td>\n",
       "      <td>3/28/2015 1 check-in I am someone that hates ...</td>\n",
       "      <td>5.0 star rating</td>\n",
       "    </tr>\n",
       "    <tr>\n",
       "      <th>7600</th>\n",
       "      <td>The Steeping Room</td>\n",
       "      <td>5/10/2015 Great service with unimaginative an...</td>\n",
       "      <td>2.0 star rating</td>\n",
       "    </tr>\n",
       "    <tr>\n",
       "      <th>7601</th>\n",
       "      <td>The Steeping Room</td>\n",
       "      <td>2/22/2015 1 check-in Great selection of teas ...</td>\n",
       "      <td>4.0 star rating</td>\n",
       "    </tr>\n",
       "    <tr>\n",
       "      <th>7602</th>\n",
       "      <td>The Steeping Room</td>\n",
       "      <td>9/6/2015 2 check-ins I go here almost every w...</td>\n",
       "      <td>4.0 star rating</td>\n",
       "    </tr>\n",
       "    <tr>\n",
       "      <th>7603</th>\n",
       "      <td>The Steeping Room</td>\n",
       "      <td>3/15/2014 1 check-in Went here for lunch toda...</td>\n",
       "      <td>4.0 star rating</td>\n",
       "    </tr>\n",
       "    <tr>\n",
       "      <th>7604</th>\n",
       "      <td>The Steeping Room</td>\n",
       "      <td>10/25/2015 A few complaints about a wonderful...</td>\n",
       "      <td>4.0 star rating</td>\n",
       "    </tr>\n",
       "    <tr>\n",
       "      <th>7605</th>\n",
       "      <td>The Steeping Room</td>\n",
       "      <td>10/22/2015 I got the Chipotle Chocolate Chai ...</td>\n",
       "      <td>5.0 star rating</td>\n",
       "    </tr>\n",
       "    <tr>\n",
       "      <th>7606</th>\n",
       "      <td>The Steeping Room</td>\n",
       "      <td>6/11/2015 Same great tea and food as their Do...</td>\n",
       "      <td>4.0 star rating</td>\n",
       "    </tr>\n",
       "    <tr>\n",
       "      <th>7607</th>\n",
       "      <td>The Steeping Room</td>\n",
       "      <td>8/14/2015 This place is amazing! It's one of ...</td>\n",
       "      <td>5.0 star rating</td>\n",
       "    </tr>\n",
       "    <tr>\n",
       "      <th>7608</th>\n",
       "      <td>The Steeping Room</td>\n",
       "      <td>9/20/2015 I come here when I visit my friend ...</td>\n",
       "      <td>4.0 star rating</td>\n",
       "    </tr>\n",
       "    <tr>\n",
       "      <th>7609</th>\n",
       "      <td>The Steeping Room</td>\n",
       "      <td>12/7/2014 1 check-in After noticing many frie...</td>\n",
       "      <td>4.0 star rating</td>\n",
       "    </tr>\n",
       "    <tr>\n",
       "      <th>7610</th>\n",
       "      <td>The Steeping Room</td>\n",
       "      <td>3/1/2016 Great food! I haven't had a meal I d...</td>\n",
       "      <td>5.0 star rating</td>\n",
       "    </tr>\n",
       "    <tr>\n",
       "      <th>7611</th>\n",
       "      <td>The Steeping Room</td>\n",
       "      <td>2/19/2015 I actually step into this restauran...</td>\n",
       "      <td>4.0 star rating</td>\n",
       "    </tr>\n",
       "    <tr>\n",
       "      <th>7612</th>\n",
       "      <td>The Steeping Room</td>\n",
       "      <td>1/21/2016 Ok, The Steeping Room IS awesome. H...</td>\n",
       "      <td>5.0 star rating</td>\n",
       "    </tr>\n",
       "    <tr>\n",
       "      <th>7613</th>\n",
       "      <td>The Steeping Room</td>\n",
       "      <td>4/30/2015 Loved coming here for tea, and the ...</td>\n",
       "      <td>4.0 star rating</td>\n",
       "    </tr>\n",
       "    <tr>\n",
       "      <th>7614</th>\n",
       "      <td>The Steeping Room</td>\n",
       "      <td>8/2/2015 The food is just average. The booths...</td>\n",
       "      <td>3.0 star rating</td>\n",
       "    </tr>\n",
       "    <tr>\n",
       "      <th>7615</th>\n",
       "      <td>The Steeping Room</td>\n",
       "      <td>5/23/2015 I finally stopped in for lunch with...</td>\n",
       "      <td>4.0 star rating</td>\n",
       "    </tr>\n",
       "  </tbody>\n",
       "</table>\n",
       "</div>"
      ],
      "text/plain": [
       "        coffee_shop_name                                   full_review_text  \\\n",
       "7596  The Steeping Room    12/3/2015 I had the best experience at this r...   \n",
       "7597  The Steeping Room    1/3/2014 1 check-in Listed in 2014 Yelp 100 C...   \n",
       "7598  The Steeping Room    4/13/2015 I went to the steeping room today f...   \n",
       "7599  The Steeping Room    3/28/2015 1 check-in I am someone that hates ...   \n",
       "7600  The Steeping Room    5/10/2015 Great service with unimaginative an...   \n",
       "7601  The Steeping Room    2/22/2015 1 check-in Great selection of teas ...   \n",
       "7602  The Steeping Room    9/6/2015 2 check-ins I go here almost every w...   \n",
       "7603  The Steeping Room    3/15/2014 1 check-in Went here for lunch toda...   \n",
       "7604  The Steeping Room    10/25/2015 A few complaints about a wonderful...   \n",
       "7605  The Steeping Room    10/22/2015 I got the Chipotle Chocolate Chai ...   \n",
       "7606  The Steeping Room    6/11/2015 Same great tea and food as their Do...   \n",
       "7607  The Steeping Room    8/14/2015 This place is amazing! It's one of ...   \n",
       "7608  The Steeping Room    9/20/2015 I come here when I visit my friend ...   \n",
       "7609  The Steeping Room    12/7/2014 1 check-in After noticing many frie...   \n",
       "7610  The Steeping Room    3/1/2016 Great food! I haven't had a meal I d...   \n",
       "7611  The Steeping Room    2/19/2015 I actually step into this restauran...   \n",
       "7612  The Steeping Room    1/21/2016 Ok, The Steeping Room IS awesome. H...   \n",
       "7613  The Steeping Room    4/30/2015 Loved coming here for tea, and the ...   \n",
       "7614  The Steeping Room    8/2/2015 The food is just average. The booths...   \n",
       "7615  The Steeping Room    5/23/2015 I finally stopped in for lunch with...   \n",
       "\n",
       "            star_rating  \n",
       "7596   5.0 star rating   \n",
       "7597   4.0 star rating   \n",
       "7598   5.0 star rating   \n",
       "7599   5.0 star rating   \n",
       "7600   2.0 star rating   \n",
       "7601   4.0 star rating   \n",
       "7602   4.0 star rating   \n",
       "7603   4.0 star rating   \n",
       "7604   4.0 star rating   \n",
       "7605   5.0 star rating   \n",
       "7606   4.0 star rating   \n",
       "7607   5.0 star rating   \n",
       "7608   4.0 star rating   \n",
       "7609   4.0 star rating   \n",
       "7610   5.0 star rating   \n",
       "7611   4.0 star rating   \n",
       "7612   5.0 star rating   \n",
       "7613   4.0 star rating   \n",
       "7614   3.0 star rating   \n",
       "7615   4.0 star rating   "
      ]
     },
     "execution_count": 133,
     "metadata": {},
     "output_type": "execute_result"
    }
   ],
   "source": [
    "import pandas as pd\n",
    "\n",
    "url = \"https://raw.githubusercontent.com/LambdaSchool/DS-Unit-4-Sprint-1-NLP/main/module1-text-data/data/yelp_coffeeshop_review_data.csv\"\n",
    "\n",
    "shops = pd.read_csv(url)\n",
    "shops.tail(20)"
   ]
  },
  {
   "cell_type": "code",
   "execution_count": 134,
   "metadata": {},
   "outputs": [],
   "source": [
    "shops.shape\n",
    "import re"
   ]
  },
  {
   "cell_type": "code",
   "execution_count": 135,
   "metadata": {},
   "outputs": [],
   "source": [
    "# drop the wording after the digit rating\n",
    "shops[\"star_rating\"] = shops[\"star_rating\"].apply(lambda comment: re.sub('(\\d\\.0).*', r'\\1', comment))"
   ]
  },
  {
   "cell_type": "code",
   "execution_count": 136,
   "metadata": {},
   "outputs": [],
   "source": [
    "# Remove the data from the column\n",
    "shops[\"full_review_text\"] = shops[\"full_review_text\"].apply(lambda comment: re.sub('\\d\\d?/\\d\\d?/\\d{4}', '', comment))"
   ]
  },
  {
   "cell_type": "code",
   "execution_count": 137,
   "metadata": {},
   "outputs": [
    {
     "data": {
      "text/html": [
       "<div>\n",
       "<style scoped>\n",
       "    .dataframe tbody tr th:only-of-type {\n",
       "        vertical-align: middle;\n",
       "    }\n",
       "\n",
       "    .dataframe tbody tr th {\n",
       "        vertical-align: top;\n",
       "    }\n",
       "\n",
       "    .dataframe thead th {\n",
       "        text-align: right;\n",
       "    }\n",
       "</style>\n",
       "<table border=\"1\" class=\"dataframe\">\n",
       "  <thead>\n",
       "    <tr style=\"text-align: right;\">\n",
       "      <th></th>\n",
       "      <th>coffee_shop_name</th>\n",
       "      <th>full_review_text</th>\n",
       "      <th>star_rating</th>\n",
       "    </tr>\n",
       "  </thead>\n",
       "  <tbody>\n",
       "    <tr>\n",
       "      <th>0</th>\n",
       "      <td>The Factory - Cafe With a Soul</td>\n",
       "      <td>1 check-in Love love loved the atmosphere! E...</td>\n",
       "      <td>5.0</td>\n",
       "    </tr>\n",
       "    <tr>\n",
       "      <th>1</th>\n",
       "      <td>The Factory - Cafe With a Soul</td>\n",
       "      <td>Listed in Date Night: Austin, Ambiance in Au...</td>\n",
       "      <td>4.0</td>\n",
       "    </tr>\n",
       "    <tr>\n",
       "      <th>2</th>\n",
       "      <td>The Factory - Cafe With a Soul</td>\n",
       "      <td>1 check-in Listed in Brunch Spots I loved th...</td>\n",
       "      <td>4.0</td>\n",
       "    </tr>\n",
       "    <tr>\n",
       "      <th>3</th>\n",
       "      <td>The Factory - Cafe With a Soul</td>\n",
       "      <td>Very cool decor! Good drinks Nice seating  H...</td>\n",
       "      <td>2.0</td>\n",
       "    </tr>\n",
       "    <tr>\n",
       "      <th>4</th>\n",
       "      <td>The Factory - Cafe With a Soul</td>\n",
       "      <td>1 check-in They are located within the North...</td>\n",
       "      <td>4.0</td>\n",
       "    </tr>\n",
       "    <tr>\n",
       "      <th>...</th>\n",
       "      <td>...</td>\n",
       "      <td>...</td>\n",
       "      <td>...</td>\n",
       "    </tr>\n",
       "    <tr>\n",
       "      <th>7611</th>\n",
       "      <td>The Steeping Room</td>\n",
       "      <td>I actually step into this restaurant by chan...</td>\n",
       "      <td>4.0</td>\n",
       "    </tr>\n",
       "    <tr>\n",
       "      <th>7612</th>\n",
       "      <td>The Steeping Room</td>\n",
       "      <td>Ok, The Steeping Room IS awesome. How do the...</td>\n",
       "      <td>5.0</td>\n",
       "    </tr>\n",
       "    <tr>\n",
       "      <th>7613</th>\n",
       "      <td>The Steeping Room</td>\n",
       "      <td>Loved coming here for tea, and the atmospher...</td>\n",
       "      <td>4.0</td>\n",
       "    </tr>\n",
       "    <tr>\n",
       "      <th>7614</th>\n",
       "      <td>The Steeping Room</td>\n",
       "      <td>The food is just average. The booths didn't ...</td>\n",
       "      <td>3.0</td>\n",
       "    </tr>\n",
       "    <tr>\n",
       "      <th>7615</th>\n",
       "      <td>The Steeping Room</td>\n",
       "      <td>I finally stopped in for lunch with my colle...</td>\n",
       "      <td>4.0</td>\n",
       "    </tr>\n",
       "  </tbody>\n",
       "</table>\n",
       "<p>7616 rows × 3 columns</p>\n",
       "</div>"
      ],
      "text/plain": [
       "                     coffee_shop_name  \\\n",
       "0     The Factory - Cafe With a Soul    \n",
       "1     The Factory - Cafe With a Soul    \n",
       "2     The Factory - Cafe With a Soul    \n",
       "3     The Factory - Cafe With a Soul    \n",
       "4     The Factory - Cafe With a Soul    \n",
       "...                               ...   \n",
       "7611               The Steeping Room    \n",
       "7612               The Steeping Room    \n",
       "7613               The Steeping Room    \n",
       "7614               The Steeping Room    \n",
       "7615               The Steeping Room    \n",
       "\n",
       "                                       full_review_text star_rating  \n",
       "0       1 check-in Love love loved the atmosphere! E...         5.0  \n",
       "1       Listed in Date Night: Austin, Ambiance in Au...         4.0  \n",
       "2       1 check-in Listed in Brunch Spots I loved th...         4.0  \n",
       "3       Very cool decor! Good drinks Nice seating  H...         2.0  \n",
       "4       1 check-in They are located within the North...         4.0  \n",
       "...                                                 ...         ...  \n",
       "7611    I actually step into this restaurant by chan...         4.0  \n",
       "7612    Ok, The Steeping Room IS awesome. How do the...         5.0  \n",
       "7613    Loved coming here for tea, and the atmospher...         4.0  \n",
       "7614    The food is just average. The booths didn't ...         3.0  \n",
       "7615    I finally stopped in for lunch with my colle...         4.0  \n",
       "\n",
       "[7616 rows x 3 columns]"
      ]
     },
     "execution_count": 137,
     "metadata": {},
     "output_type": "execute_result"
    }
   ],
   "source": [
    "shops"
   ]
  },
  {
   "cell_type": "markdown",
   "metadata": {},
   "source": [
    "## How do we want to analyze these coffee shop tokens? \n",
    "\n",
    "- Overall Word / Token Count\n",
    "- View Counts by Rating \n",
    "- *Hint:* a 'bad' coffee shops has a rating betweeen 1 & 3 based on the distribution of ratings. A 'good' coffee shop is a 4 or 5. "
   ]
  },
  {
   "cell_type": "code",
   "execution_count": 138,
   "metadata": {},
   "outputs": [
    {
     "data": {
      "text/plain": [
       " 5.0    3780\n",
       " 4.0    2360\n",
       " 3.0     738\n",
       " 2.0     460\n",
       " 1.0     278\n",
       "Name: star_rating, dtype: int64"
      ]
     },
     "execution_count": 138,
     "metadata": {},
     "output_type": "execute_result"
    }
   ],
   "source": [
    "shops['star_rating'].value_counts(ascending=False)"
   ]
  },
  {
   "cell_type": "code",
   "execution_count": 139,
   "metadata": {},
   "outputs": [],
   "source": [
    "\"\"\"\n",
    "Import Statements\n",
    "\"\"\"\n",
    "\n",
    "# Base\n",
    "from collections import Counter\n",
    "import re\n",
    " \n",
    "import pandas as pd\n",
    "\n",
    "# Plotting\n",
    "import squarify\n",
    "import matplotlib.pyplot as plt\n",
    "import seaborn as sns\n",
    "\n",
    "# NLP Libraries\n",
    "import spacy\n",
    "from spacy.tokenizer import Tokenizer\n",
    "from nltk.stem import PorterStemmer\n",
    "\n",
    "nlp = spacy.load(\"en_core_web_lg\")"
   ]
  },
  {
   "cell_type": "code",
   "execution_count": 140,
   "metadata": {},
   "outputs": [],
   "source": [
    "def count(docs):\n",
    "\n",
    "        word_counts = Counter()\n",
    "        appears_in = Counter()\n",
    "        \n",
    "        total_docs = len(docs)\n",
    "\n",
    "        for doc in docs:\n",
    "            word_counts.update(doc)\n",
    "            appears_in.update(set(doc))\n",
    "\n",
    "        temp = zip(word_counts.keys(), word_counts.values())\n",
    "        \n",
    "        wc = pd.DataFrame(temp, columns = ['word', 'count'])\n",
    "\n",
    "        wc['rank'] = wc['count'].rank(method='first', ascending=False)\n",
    "        total = wc['count'].sum()\n",
    "\n",
    "        wc['pct_total'] = wc['count'].apply(lambda x: x / total)\n",
    "        \n",
    "        wc = wc.sort_values(by='rank')\n",
    "        wc['cul_pct_total'] = wc['pct_total'].cumsum()\n",
    "\n",
    "        t2 = zip(appears_in.keys(), appears_in.values())\n",
    "        ac = pd.DataFrame(t2, columns=['word', 'appears_in'])\n",
    "        wc = ac.merge(wc, on='word')\n",
    "        # wc['appears in'] maximum is the number of docs <= total_docs\n",
    "        wc['appears_in_pct'] = wc['appears_in'].apply(lambda x: x / total_docs)\n",
    "        \n",
    "        return wc.sort_values(by='rank')"
   ]
  },
  {
   "cell_type": "code",
   "execution_count": 141,
   "metadata": {},
   "outputs": [],
   "source": [
    "# Union of two given sets is the smallest set which contains all the elements of both the sets\n",
    "STOP_WORDS = nlp.Defaults.stop_words.union(['good','coffee','come', 'check', 'love', 'it', \"it's\", 'it.', 'the', \n",
    "                                            'this', 'try', 'like', 'little', 'work', 'in', 'come', 'go', 'get',\n",
    "                                           'say', 'tell', 'bad', 'good', 'know', 'think', 'want', ''])"
   ]
  },
  {
   "cell_type": "code",
   "execution_count": 142,
   "metadata": {},
   "outputs": [
    {
     "data": {
      "text/plain": [
       "['coffee_shop_name', 'full_review_text', 'star_rating']"
      ]
     },
     "execution_count": 142,
     "metadata": {},
     "output_type": "execute_result"
    }
   ],
   "source": [
    "list(shops)"
   ]
  },
  {
   "cell_type": "code",
   "execution_count": 143,
   "metadata": {},
   "outputs": [],
   "source": [
    "worst = shops[shops['star_rating'] == shops['star_rating'].value_counts(ascending=False).index[-1]].copy()\n",
    "best = shops[shops['star_rating'] == shops['star_rating'].value_counts(ascending=False).index[0]].copy()"
   ]
  },
  {
   "cell_type": "code",
   "execution_count": 144,
   "metadata": {},
   "outputs": [],
   "source": [
    "# tokens = []\n",
    "\n",
    "# for doc in nlp.pipe(shops['full_review_text'], batch_size=500):\n",
    "    \n",
    "#     lemmas = []\n",
    "    \n",
    "#     for token in doc: \n",
    "#         if (token.is_punct == False) & (token.text.lower() not in STOP_WORDS) and (token.pos_ != 'PRON'):\n",
    "#             lemmas.append(token.lemma_.lower())\n",
    "   \n",
    "#     tokens.append(lemmas)\n",
    "    \n",
    "# shops['lemmas'] = tokens"
   ]
  },
  {
   "cell_type": "code",
   "execution_count": 145,
   "metadata": {},
   "outputs": [],
   "source": [
    "# Wrap it all in a function\n",
    "def get_lemmas(text):\n",
    "\n",
    "    lemmas = []\n",
    "    \n",
    "    doc = nlp(text)\n",
    "    \n",
    "    # Something goes here :P\n",
    "    for token in doc: \n",
    "        # first condition is redundant\n",
    "        if ((token.is_stop == False) and (token.is_punct == False)) and (token.pos_ != 'PRON')  and (token.text.lower() not in STOP_WORDS):\n",
    "            # Here lemma_ is lower cased \n",
    "            lemmas.append(token.lemma_.lower())\n",
    "    \n",
    "    return lemmas"
   ]
  },
  {
   "cell_type": "code",
   "execution_count": 146,
   "metadata": {},
   "outputs": [],
   "source": [
    "# shops['lemmas'] = shops['full_review_text'].apply(get_lemmas)"
   ]
  },
  {
   "cell_type": "code",
   "execution_count": 147,
   "metadata": {},
   "outputs": [],
   "source": [
    "best['lemmas'] = best['full_review_text'].apply(get_lemmas)"
   ]
  },
  {
   "cell_type": "code",
   "execution_count": 148,
   "metadata": {},
   "outputs": [],
   "source": [
    "worst['lemmas'] = worst['full_review_text'].apply(get_lemmas)"
   ]
  },
  {
   "cell_type": "code",
   "execution_count": 149,
   "metadata": {},
   "outputs": [
    {
     "data": {
      "text/plain": [
       "0     [  , 1, love, atmosphere, corner, shop, style,...\n",
       "7     [  , 2, in, place,  , 5, star, cleanliness, 5,...\n",
       "9     [  , 3, in, place, show, social, medium, day, ...\n",
       "13    [  , cute, cafe, drive, place, time, notice, t...\n",
       "14    [  , beautiful, eccentric, shop, library, pecu...\n",
       "Name: lemmas, dtype: object"
      ]
     },
     "execution_count": 149,
     "metadata": {},
     "output_type": "execute_result"
    }
   ],
   "source": [
    "best['lemmas'].head()"
   ]
  },
  {
   "cell_type": "code",
   "execution_count": 150,
   "metadata": {},
   "outputs": [],
   "source": [
    "# remove capitalization, duplicates, not alphabetic letters\n",
    "best[\"lemmas\"] = best[\"lemmas\"].apply(lambda comment: list(set([re.sub('[^a-zA-Z]', '', token.lower()) for token in comment])))"
   ]
  },
  {
   "cell_type": "code",
   "execution_count": 151,
   "metadata": {},
   "outputs": [],
   "source": [
    "worst[\"lemmas\"] = worst[\"lemmas\"].apply(lambda comment: list(set([re.sub('[^a-zA-Z]', '', token.lower()) for token in comment])))"
   ]
  },
  {
   "cell_type": "code",
   "execution_count": 152,
   "metadata": {},
   "outputs": [
    {
     "data": {
      "text/plain": [
       "0     [, ipad, level, typical, get, fantastico, art,...\n",
       "7     [, good, business, space, educational, in, hit...\n",
       "9     [, finally, know, look, creamy, live, place, n...\n",
       "13    [, cafe, time, glad, today, stop, place, notic...\n",
       "14    [, pillow, creamy, corner, time, y, way, bar, ...\n",
       "Name: lemmas, dtype: object"
      ]
     },
     "execution_count": 152,
     "metadata": {},
     "output_type": "execute_result"
    }
   ],
   "source": [
    "best['lemmas'].head()"
   ]
  },
  {
   "cell_type": "code",
   "execution_count": 153,
   "metadata": {},
   "outputs": [],
   "source": [
    "# Remove None elements from list\n",
    "best[\"lemmas\"] = best[\"lemmas\"].apply(lambda comment: [token for token in comment if token])"
   ]
  },
  {
   "cell_type": "code",
   "execution_count": 154,
   "metadata": {},
   "outputs": [],
   "source": [
    "worst[\"lemmas\"] = worst[\"lemmas\"].apply(lambda comment: [token for token in comment if token])"
   ]
  },
  {
   "cell_type": "code",
   "execution_count": 155,
   "metadata": {},
   "outputs": [
    {
     "data": {
      "text/html": [
       "<div>\n",
       "<style scoped>\n",
       "    .dataframe tbody tr th:only-of-type {\n",
       "        vertical-align: middle;\n",
       "    }\n",
       "\n",
       "    .dataframe tbody tr th {\n",
       "        vertical-align: top;\n",
       "    }\n",
       "\n",
       "    .dataframe thead th {\n",
       "        text-align: right;\n",
       "    }\n",
       "</style>\n",
       "<table border=\"1\" class=\"dataframe\">\n",
       "  <thead>\n",
       "    <tr style=\"text-align: right;\">\n",
       "      <th></th>\n",
       "      <th>word</th>\n",
       "      <th>appears_in</th>\n",
       "      <th>count</th>\n",
       "      <th>rank</th>\n",
       "      <th>pct_total</th>\n",
       "      <th>cul_pct_total</th>\n",
       "      <th>appears_in_pct</th>\n",
       "    </tr>\n",
       "  </thead>\n",
       "  <tbody>\n",
       "    <tr>\n",
       "      <th>70</th>\n",
       "      <td>place</td>\n",
       "      <td>1863</td>\n",
       "      <td>1863</td>\n",
       "      <td>1.0</td>\n",
       "      <td>0.014928</td>\n",
       "      <td>0.014928</td>\n",
       "      <td>0.492857</td>\n",
       "    </tr>\n",
       "    <tr>\n",
       "      <th>283</th>\n",
       "      <td>great</td>\n",
       "      <td>1566</td>\n",
       "      <td>1566</td>\n",
       "      <td>2.0</td>\n",
       "      <td>0.012548</td>\n",
       "      <td>0.027476</td>\n",
       "      <td>0.414286</td>\n",
       "    </tr>\n",
       "    <tr>\n",
       "      <th>79</th>\n",
       "      <td>austin</td>\n",
       "      <td>1026</td>\n",
       "      <td>1026</td>\n",
       "      <td>3.0</td>\n",
       "      <td>0.008221</td>\n",
       "      <td>0.035697</td>\n",
       "      <td>0.271429</td>\n",
       "    </tr>\n",
       "    <tr>\n",
       "      <th>115</th>\n",
       "      <td>friendly</td>\n",
       "      <td>950</td>\n",
       "      <td>950</td>\n",
       "      <td>4.0</td>\n",
       "      <td>0.007612</td>\n",
       "      <td>0.043309</td>\n",
       "      <td>0.251323</td>\n",
       "    </tr>\n",
       "    <tr>\n",
       "      <th>305</th>\n",
       "      <td>delicious</td>\n",
       "      <td>803</td>\n",
       "      <td>803</td>\n",
       "      <td>5.0</td>\n",
       "      <td>0.006434</td>\n",
       "      <td>0.049743</td>\n",
       "      <td>0.212434</td>\n",
       "    </tr>\n",
       "  </tbody>\n",
       "</table>\n",
       "</div>"
      ],
      "text/plain": [
       "          word  appears_in  count  rank  pct_total  cul_pct_total  \\\n",
       "70       place        1863   1863   1.0   0.014928       0.014928   \n",
       "283      great        1566   1566   2.0   0.012548       0.027476   \n",
       "79      austin        1026   1026   3.0   0.008221       0.035697   \n",
       "115   friendly         950    950   4.0   0.007612       0.043309   \n",
       "305  delicious         803    803   5.0   0.006434       0.049743   \n",
       "\n",
       "     appears_in_pct  \n",
       "70         0.492857  \n",
       "283        0.414286  \n",
       "79         0.271429  \n",
       "115        0.251323  \n",
       "305        0.212434  "
      ]
     },
     "execution_count": 155,
     "metadata": {},
     "output_type": "execute_result"
    }
   ],
   "source": [
    "wc_best = count(best['lemmas'])\n",
    "wc_worst = count(worst['lemmas'])\n",
    "wc_best.head()"
   ]
  },
  {
   "cell_type": "code",
   "execution_count": 156,
   "metadata": {},
   "outputs": [
    {
     "data": {
      "image/png": "[encoded data removed]",
      "text/plain": [
       "<Figure size 1152x432 with 2 Axes>"
      ]
     },
     "metadata": {
      "needs_background": "light"
     },
     "output_type": "display_data"
    }
   ],
   "source": [
    "wc_best_top = wc_best[wc_best['rank'] <= 20]\n",
    "wc_worst_top = wc_worst[wc_worst['rank'] <= 20]\n",
    "\n",
    "fig = plt.figure(figsize=(16, 6))\n",
    "\n",
    "ax1 = fig.add_subplot(1, 2, 1)\n",
    "ax1.title.set_text('Best Coffee Shops')\n",
    "\n",
    "squarify.plot(sizes=wc_best_top['pct_total'], label=wc_best_top['word'], alpha=.8 )\n",
    "\n",
    "\n",
    "ax1 = fig.add_subplot(1, 2, 2)\n",
    "ax1.title.set_text('Worst Coffee Shops')\n",
    "squarify.plot(sizes=wc_worst_top['pct_total'], label=wc_worst_top['word'], alpha=.8 )\n",
    "\n",
    "plt.axis('off')\n",
    "figure.tight_layout()\n",
    "plt.show()\n"
   ]
  },
  {
   "cell_type": "code",
   "execution_count": 157,
   "metadata": {},
   "outputs": [
    {
     "data": {
      "text/plain": [
       " 5.0    3780\n",
       " 4.0    2360\n",
       " 3.0     738\n",
       " 2.0     460\n",
       " 1.0     278\n",
       "Name: star_rating, dtype: int64"
      ]
     },
     "execution_count": 157,
     "metadata": {},
     "output_type": "execute_result"
    }
   ],
   "source": [
    "shops['star_rating'].value_counts()"
   ]
  },
  {
   "cell_type": "code",
   "execution_count": 158,
   "metadata": {},
   "outputs": [
    {
     "data": {
      "image/png": "[encoded data removed]",
      "text/plain": [
       "<Figure size 432x288 with 1 Axes>"
      ]
     },
     "metadata": {
      "needs_background": "light"
     },
     "output_type": "display_data"
    }
   ],
   "source": [
    "sns.lineplot(x='rank', y='cul_pct_total', data=wc);"
   ]
  },
  {
   "cell_type": "markdown",
   "metadata": {},
   "source": [
    "## Can visualize the words with the greatest difference in counts between 'good' & 'bad'?\n",
    "\n",
    "Couple Notes: \n",
    "- Rel. freq. instead of absolute counts b/c of different numbers of reviews\n",
    "- Only look at the top 5-10 words with the greatest differences\n"
   ]
  },
  {
   "cell_type": "code",
   "execution_count": null,
   "metadata": {},
   "outputs": [],
   "source": []
  },
  {
   "cell_type": "markdown",
   "metadata": {
    "colab_type": "text",
    "id": "1dCb1q8XphcP",
    "toc-hr-collapsed": true
   },
   "source": [
    "## Stretch Goals\n",
    "\n",
    "* Analyze another corpus of documents - such as Indeed.com job listings ;).\n",
    "* Play with the Spacy API to\n",
    " - Extract Named Entities\n",
    " - Extracting 'noun chunks'\n",
    " - Attempt Document Classification with just Spacy\n",
    " - *Note:* This [course](https://course.spacy.io/) will be of interesting in helping you with these stretch goals. \n",
    "* Try to build a plotly dash app with your text data \n",
    "\n"
   ]
  }
 ],
 "metadata": {
  "colab": {
   "collapsed_sections": [],
   "name": "LS_DS_421_Text_Data_Assignment.ipynb",
   "provenance": [],
   "version": "0.3.2"
  },
  "kernelspec": {
   "display_name": "U4-S1-NLP (Python3)",
   "language": "python",
   "name": "u4-s1-nlp"
  },
  "language_info": {
   "codemirror_mode": {
    "name": "ipython",
    "version": 3
   },
   "file_extension": ".py",
   "mimetype": "text/x-python",
   "name": "python",
   "nbconvert_exporter": "python",
   "pygments_lexer": "ipython3",
   "version": "3.7.0"
  },
  "toc-autonumbering": false
 },
 "nbformat": 4,
 "nbformat_minor": 4
}
