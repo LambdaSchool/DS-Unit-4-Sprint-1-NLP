{
 "cells": [
  {
   "cell_type": "markdown",
   "metadata": {},
   "source": [
    "<img align=\"left\" src=\"https://lever-client-logos.s3.amazonaws.com/864372b1-534c-480e-acd5-9711f850815c-1524247202159.png\" width=200>\n",
    "<br></br>\n",
    "<br></br>\n",
    "\n",
    "# Natural Language Processing (NLP)\n",
    "## *Data Science Unit 4 Sprint 1 Assignment 1*\n",
    "\n",
    "Your goal in this assignment: find the attributes of the best & worst coffee shops in the dataset. The text is fairly raw: dates in the review, extra words in the `star_rating` column, etc. You'll probably want to clean that stuff up for a better analysis. \n",
    "\n",
    "Analyze the corpus of text using text visualizations of token frequency. Try cleaning the data as much as possible. Try the following techniques: \n",
    "- Lemmatization\n",
    "- Custom stopword removal\n",
    "\n",
    "Keep in mind the attributes of good tokens. Once you have a solid baseline, layer in the star rating in your visualization(s). Key part of this assignment - produce a write-up of the attributes of the best and worst coffee shops. Based on your analysis, what makes the best the best and the worst the worst. Use graphs and numbesr from your analysis to support your conclusions. There should be plenty of markdown cells! :coffee:"
   ]
  },
  {
   "cell_type": "code",
   "execution_count": 217,
   "metadata": {},
   "outputs": [
    {
     "data": {
      "image/jpeg": "[encoded data removed]",
      "text/html": [
       "\n",
       "        <iframe\n",
       "            width=\"400\"\n",
       "            height=\"300\"\n",
       "            src=\"https://www.youtube.com/embed/Jml7NVYm8cs\"\n",
       "            frameborder=\"0\"\n",
       "            allowfullscreen\n",
       "        ></iframe>\n",
       "        "
      ],
      "text/plain": [
       "<IPython.lib.display.YouTubeVideo at 0x7f7d174a2df0>"
      ]
     },
     "execution_count": 217,
     "metadata": {},
     "output_type": "execute_result"
    }
   ],
   "source": [
    "from IPython.display import YouTubeVideo\n",
    "\n",
    "YouTubeVideo('Jml7NVYm8cs')"
   ]
  },
  {
   "cell_type": "code",
   "execution_count": 218,
   "metadata": {},
   "outputs": [
    {
     "data": {
      "text/plain": [
       "'/mnt/c/Users/johnj/OneDrive/Documents/Lambda/DS-Unit-4-Sprint-1-NLP/module1-text-data'"
      ]
     },
     "execution_count": 218,
     "metadata": {},
     "output_type": "execute_result"
    }
   ],
   "source": [
    "%pwd"
   ]
  },
  {
   "cell_type": "code",
   "execution_count": 219,
   "metadata": {},
   "outputs": [
    {
     "data": {
      "text/html": [
       "<div>\n",
       "<style scoped>\n",
       "    .dataframe tbody tr th:only-of-type {\n",
       "        vertical-align: middle;\n",
       "    }\n",
       "\n",
       "    .dataframe tbody tr th {\n",
       "        vertical-align: top;\n",
       "    }\n",
       "\n",
       "    .dataframe thead th {\n",
       "        text-align: right;\n",
       "    }\n",
       "</style>\n",
       "<table border=\"1\" class=\"dataframe\">\n",
       "  <thead>\n",
       "    <tr style=\"text-align: right;\">\n",
       "      <th></th>\n",
       "      <th>coffee_shop_name</th>\n",
       "      <th>full_review_text</th>\n",
       "      <th>star_rating</th>\n",
       "    </tr>\n",
       "  </thead>\n",
       "  <tbody>\n",
       "    <tr>\n",
       "      <th>0</th>\n",
       "      <td>The Factory - Cafe With a Soul</td>\n",
       "      <td>11/25/2016 1 check-in Love love loved the atm...</td>\n",
       "      <td>5.0 star rating</td>\n",
       "    </tr>\n",
       "    <tr>\n",
       "      <th>1</th>\n",
       "      <td>The Factory - Cafe With a Soul</td>\n",
       "      <td>12/2/2016 Listed in Date Night: Austin, Ambia...</td>\n",
       "      <td>4.0 star rating</td>\n",
       "    </tr>\n",
       "    <tr>\n",
       "      <th>2</th>\n",
       "      <td>The Factory - Cafe With a Soul</td>\n",
       "      <td>11/30/2016 1 check-in Listed in Brunch Spots ...</td>\n",
       "      <td>4.0 star rating</td>\n",
       "    </tr>\n",
       "    <tr>\n",
       "      <th>3</th>\n",
       "      <td>The Factory - Cafe With a Soul</td>\n",
       "      <td>11/25/2016 Very cool decor! Good drinks Nice ...</td>\n",
       "      <td>2.0 star rating</td>\n",
       "    </tr>\n",
       "    <tr>\n",
       "      <th>4</th>\n",
       "      <td>The Factory - Cafe With a Soul</td>\n",
       "      <td>12/3/2016 1 check-in They are located within ...</td>\n",
       "      <td>4.0 star rating</td>\n",
       "    </tr>\n",
       "  </tbody>\n",
       "</table>\n",
       "</div>"
      ],
      "text/plain": [
       "                  coffee_shop_name  \\\n",
       "0  The Factory - Cafe With a Soul    \n",
       "1  The Factory - Cafe With a Soul    \n",
       "2  The Factory - Cafe With a Soul    \n",
       "3  The Factory - Cafe With a Soul    \n",
       "4  The Factory - Cafe With a Soul    \n",
       "\n",
       "                                    full_review_text        star_rating  \n",
       "0   11/25/2016 1 check-in Love love loved the atm...   5.0 star rating   \n",
       "1   12/2/2016 Listed in Date Night: Austin, Ambia...   4.0 star rating   \n",
       "2   11/30/2016 1 check-in Listed in Brunch Spots ...   4.0 star rating   \n",
       "3   11/25/2016 Very cool decor! Good drinks Nice ...   2.0 star rating   \n",
       "4   12/3/2016 1 check-in They are located within ...   4.0 star rating   "
      ]
     },
     "execution_count": 219,
     "metadata": {},
     "output_type": "execute_result"
    }
   ],
   "source": [
    "# Imports\n",
    "\n",
    "import pandas as pd\n",
    "import re\n",
    "\n",
    "\n",
    "# Import data from GitHub and check it out\n",
    "\n",
    "url = \"https://raw.githubusercontent.com/johnjdailey/DS-Unit-4-Sprint-1-NLP/main/module1-text-data/data/yelp_coffeeshop_review_data.csv\"\n",
    "\n",
    "shops = pd.read_csv(url)\n",
    "shops.head()"
   ]
  },
  {
   "cell_type": "code",
   "execution_count": 220,
   "metadata": {},
   "outputs": [
    {
     "data": {
      "text/plain": [
       "(7616, 3)"
      ]
     },
     "execution_count": 220,
     "metadata": {},
     "output_type": "execute_result"
    }
   ],
   "source": [
    "# Shape of shops dataframe\n",
    "\n",
    "shops.shape"
   ]
  },
  {
   "cell_type": "code",
   "execution_count": 221,
   "metadata": {},
   "outputs": [
    {
     "name": "stdout",
     "output_type": "stream",
     "text": [
      "0     5 \n",
      "1     4 \n",
      "2     4 \n",
      "3     2 \n",
      "4     4 \n",
      "Name: star_rating, dtype: object\n"
     ]
    }
   ],
   "source": [
    "# Replace part of the string in star_rating with nothing, to remove it\n",
    "\n",
    "shops[\"star_rating\"] = shops[\"star_rating\"].str.replace(\".0 star rating\", \"\")\n",
    "print(shops[\"star_rating\"].head())"
   ]
  },
  {
   "cell_type": "markdown",
   "metadata": {},
   "source": [
    "## How do we want to analyze these coffee shop tokens? \n",
    "\n",
    "- Overall Word / Token Count\n",
    "- View Counts by Rating \n",
    "- *Hint:* a 'bad' coffee shops has a rating betweeen 1 & 3 based on the distribution of ratings. A 'good' coffee shop is a 4 or 5. "
   ]
  },
  {
   "cell_type": "code",
   "execution_count": 222,
   "metadata": {},
   "outputs": [],
   "source": [
    "# Convert the remaining number from star_rating to numeric since it still remains type float\n",
    "\n",
    "shops[\"star_rating\"] = shops[\"star_rating\"].apply(pd.to_numeric)"
   ]
  },
  {
   "cell_type": "code",
   "execution_count": 223,
   "metadata": {},
   "outputs": [
    {
     "name": "stdout",
     "output_type": "stream",
     "text": [
      "0     bad\n",
      "1    good\n",
      "2    good\n",
      "3    good\n",
      "4    good\n",
      "Name: good_or_bad, dtype: object\n"
     ]
    }
   ],
   "source": [
    "# Create a new good_or_bad column based on the star rating. Based on the Hint (1-3 is bad and 4 or 5 is good)\n",
    "\n",
    "shops[\"good_or_bad\"] = shops[\"star_rating\"].apply(lambda x: \"good\" if x<= 4 else \"bad\")\n",
    "print(shops[\"good_or_bad\"].head())"
   ]
  },
  {
   "cell_type": "code",
   "execution_count": 224,
   "metadata": {},
   "outputs": [
    {
     "name": "stdout",
     "output_type": "stream",
     "text": [
      "0       11/25/2016\n",
      "1        12/2/2016\n",
      "2       11/30/2016\n",
      "3       11/25/2016\n",
      "4        12/3/2016\n",
      "           ...    \n",
      "7611     2/19/2015\n",
      "7612     1/21/2016\n",
      "7613     4/30/2015\n",
      "7614      8/2/2015\n",
      "7615     5/23/2015\n",
      "Name: date, Length: 7616, dtype: object\n"
     ]
    }
   ],
   "source": [
    "# Create date column with dates extracted from full_review_text column\n",
    "\n",
    "shops['date'] = shops['full_review_text'].str.extract('(../.?./....)', expand=True)\n",
    "print(shops['date'])"
   ]
  },
  {
   "cell_type": "code",
   "execution_count": 225,
   "metadata": {},
   "outputs": [],
   "source": [
    "# Drop the dates from full_text_review column\n",
    "\n",
    "shops['full_review_text'] = shops['full_review_text'].str.replace('(../.?./....)', \"\")"
   ]
  },
  {
   "cell_type": "code",
   "execution_count": 226,
   "metadata": {},
   "outputs": [
    {
     "data": {
      "text/html": [
       "<div>\n",
       "<style scoped>\n",
       "    .dataframe tbody tr th:only-of-type {\n",
       "        vertical-align: middle;\n",
       "    }\n",
       "\n",
       "    .dataframe tbody tr th {\n",
       "        vertical-align: top;\n",
       "    }\n",
       "\n",
       "    .dataframe thead th {\n",
       "        text-align: right;\n",
       "    }\n",
       "</style>\n",
       "<table border=\"1\" class=\"dataframe\">\n",
       "  <thead>\n",
       "    <tr style=\"text-align: right;\">\n",
       "      <th></th>\n",
       "      <th>coffee_shop_name</th>\n",
       "      <th>full_review_text</th>\n",
       "      <th>star_rating</th>\n",
       "      <th>good_or_bad</th>\n",
       "      <th>date</th>\n",
       "    </tr>\n",
       "  </thead>\n",
       "  <tbody>\n",
       "    <tr>\n",
       "      <th>0</th>\n",
       "      <td>The Factory - Cafe With a Soul</td>\n",
       "      <td>1 check-in Love love loved the atmosphere! E...</td>\n",
       "      <td>5</td>\n",
       "      <td>bad</td>\n",
       "      <td>11/25/2016</td>\n",
       "    </tr>\n",
       "    <tr>\n",
       "      <th>1</th>\n",
       "      <td>The Factory - Cafe With a Soul</td>\n",
       "      <td>Listed in Date Night: Austin, Ambiance in Au...</td>\n",
       "      <td>4</td>\n",
       "      <td>good</td>\n",
       "      <td>12/2/2016</td>\n",
       "    </tr>\n",
       "    <tr>\n",
       "      <th>2</th>\n",
       "      <td>The Factory - Cafe With a Soul</td>\n",
       "      <td>1 check-in Listed in Brunch Spots I loved th...</td>\n",
       "      <td>4</td>\n",
       "      <td>good</td>\n",
       "      <td>11/30/2016</td>\n",
       "    </tr>\n",
       "    <tr>\n",
       "      <th>3</th>\n",
       "      <td>The Factory - Cafe With a Soul</td>\n",
       "      <td>Very cool decor! Good drinks Nice seating  H...</td>\n",
       "      <td>2</td>\n",
       "      <td>good</td>\n",
       "      <td>11/25/2016</td>\n",
       "    </tr>\n",
       "    <tr>\n",
       "      <th>4</th>\n",
       "      <td>The Factory - Cafe With a Soul</td>\n",
       "      <td>1 check-in They are located within the North...</td>\n",
       "      <td>4</td>\n",
       "      <td>good</td>\n",
       "      <td>12/3/2016</td>\n",
       "    </tr>\n",
       "  </tbody>\n",
       "</table>\n",
       "</div>"
      ],
      "text/plain": [
       "                  coffee_shop_name  \\\n",
       "0  The Factory - Cafe With a Soul    \n",
       "1  The Factory - Cafe With a Soul    \n",
       "2  The Factory - Cafe With a Soul    \n",
       "3  The Factory - Cafe With a Soul    \n",
       "4  The Factory - Cafe With a Soul    \n",
       "\n",
       "                                    full_review_text  star_rating good_or_bad  \\\n",
       "0    1 check-in Love love loved the atmosphere! E...            5         bad   \n",
       "1    Listed in Date Night: Austin, Ambiance in Au...            4        good   \n",
       "2    1 check-in Listed in Brunch Spots I loved th...            4        good   \n",
       "3    Very cool decor! Good drinks Nice seating  H...            2        good   \n",
       "4    1 check-in They are located within the North...            4        good   \n",
       "\n",
       "         date  \n",
       "0  11/25/2016  \n",
       "1   12/2/2016  \n",
       "2  11/30/2016  \n",
       "3  11/25/2016  \n",
       "4   12/3/2016  "
      ]
     },
     "execution_count": 226,
     "metadata": {},
     "output_type": "execute_result"
    }
   ],
   "source": [
    "shops.head()"
   ]
  },
  {
   "cell_type": "code",
   "execution_count": 227,
   "metadata": {},
   "outputs": [
    {
     "data": {
      "text/plain": [
       "  Love this place. I really appreciate the lack of wifi. Makes it much easier to have good conversations or lose yourself in a good book. Agree that it's a bit pricey, but the drinks are really good.                                                                                                                                                                                                                                                                                                                                                                                                                                                                                                                                                                                                                                                                                                                                                                                                                                                                                                                                                                                         4\n",
       "  The factory is gonna be my new coffee spot. No words can describe the Amazing atmosphere upon walking in. Comfortable seating, hip music, great interior finishes and table games. The intuitive ipad ordering system was quite fascinating as well with its ease of use. Great service and tastes great! Great job!                                                                                                                                                                                                                                                                                                                                                                                                                                                                                                                                                                                                                                                                                                                                                                                                                                                                          4\n",
       "  1 check-in Listed in 2016 - The Third Time is a Charm! The Factory has A+ decor and a very innovative interactionless (tablet) ordering system. This allows you to look up what to get without feeling pressured by a barista staring at you waiting for you to order. The eclectic selection of tables, couches, and swings (?!) inside with a small kiddy corner appeal to many different types of tastes. This is seriously a cool place to hang out.  However, when it comes to the coffee and food, it's rather not cheap. The waffles range from $4-$8, and coffee is between $3.50 and $5. The quality of the coffee is not yet up to par with other coffee mainstays in Austin, so I would probably not choose to come here just for coffee. However, it is a CUTE date place and I know that M and I will probably come back to chat, people-watch, or read books.                                                                                                                                                                                                                                                                                                                   4\n",
       "  1 check-in My best friend and I came to The Factory after seeing it on a couple of best new Austin brunch lists. It's super cute and trendy, to the point where it feels kind of out of place in a strip mall. Although I loved the interior design and general ambiance of the place, I was a little disappointed with the menu. This is more of a coffee shop than a cafe - their food options are pretty limited. My friend ordered the chicken and waffles and I ordered Nutella waffles with strawberries and bananas. For the price I paid, the portions were definitely on the smaller side. I enjoyed my meal still, but it's hard to mess up Nutella and fruit, so I wasn't particularly impressed. I would love to come back to study sometime but since they don't have wifi, I don't think it'll be likely.                                                                                                                                                                                                                                                                                                                                                                       4\n",
       "  1 check-in I really enjoyed my visit here. I ordered the cortado and chicken waffle. Both were excellent.  The space is very Instagram worthy.  Awesome mural. Staff was very friendly too and I loved the iPad ordering system. Chicken waffle and cortado paired with sparkling water to cleanse the palate                                                                                                                                                                                                                                                                                                                                                                                                                                                                                                                                                                                                                                                                                                                                                                                                                                                                                 4\n",
       "                                                                                                                                                                                                                                                                                                                                                                                                                                                                                                                                                                                                                                                                                                                                                                                                                                                                                                                                                                                                                                                                                                                                                                                               ..\n",
       " Best latte of my life. I made my friend taste it, and the barista saw me and thought there was something wrong with it...but there was something so, so right with it. Creamy with a full roasted flavor and no acidity in sight. I would have one every day if I lived in Austin.                                                                                                                                                                                                                                                                                                                                                                                                                                                                                                                                                                                                                                                                                                                                                                                                                                                                                                             1\n",
       " 1 check-in Listed in Favorite Coffee Shops Such a cool little place tucked away behind Franklin's BBQ! The lady was so friendly! I tried their cold brew iced coffee and I loved it! It was so smooth and not bitter! Will totally come back here! Cold brew!                                                                                                                                                                                                                                                                                                                                                                                                                                                                                                                                                                                                                                                                                                                                                                                                                                                                                                                                  1\n",
       " 1 check-in What a cute spot for your brunching needs!! We got here right around 11 in the morning on a Sunday and the morning crowd hadn't showed up yet so it was perfect and we got seated quickly. I ordered the Texas Eggs in a Basket and Mike ordered the Caribbean French Toast. My order was so freakin' good -- jalapeno cheddar toast filled with over easy eggs and a shmear of pesto... YUM!! The side of bacon was super crispy -- just the way I like it. Mike's French toast was equally as delicious -- the rum sauce was just amazing!! When we went upstairs to pay our bill -- we were given complimentary chocolate chip cookies!! Get here early because when we were leaving -- they had a line out the door! We'll definitely come back when we're in town again -- I have to try one of the Benedict dishes!!                                                                                                                                                                                                                                                                                                                                                          1\n",
       " 1 check-in Things that matter to people looking for a coffee shop: coffee quality, coffee choices, seating, vibe, wifi.  My take...  Overall: love the taste of their espresso, cool industrial design, friendly owner. Limited seating. 8/10  -coffee quality: fantastic espresso. Mild/medium roast with a VERY smooth finish. No much bitterness at all. Disclaimer: I ordered an espresso with a small amount of hot water.  -coffee choices: limited. No fancy Starbucks  menu or syrups. Just espresso, cappuccino, Americano. Can get them on ice. But this isn't really a negative thing. They focus on espresso and do it well.  -seating: VERY limited. 5 metal bar stools at a single counter. This is the one reason it's not a 5star for me. After talking to one of the owners, I understand they don't intend to be a large, \"stay while\" kind of shop. More geared towards grab-n-go or, according to the owner, the opportunity for one-on-one convos with the few customers who do stick around. One single, two-outlet plug.  -wifi: nope. See seating notes, above, for why. One-man show for making espresso drinks. The only seating: 5 bar stools. And killer look.     1\n",
       "  Damn fine espresso. Crema was a little weak but it was served in a big cup. But the flavor... oh the flavor! Wood fired roasted, need I say more. Try it. Sip it. Savor it. Love it.                                                                                                                                                                                                                                                                                                                                                                                                                                                                                                                                                                                                                                                                                                                                                                                                                                                                                                                                                                                                          1\n",
       "Name: full_review_text, Length: 6915, dtype: int64"
      ]
     },
     "execution_count": 227,
     "metadata": {},
     "output_type": "execute_result"
    }
   ],
   "source": [
    "# Notice anything odd here? Nope!\n",
    "\n",
    "shops['full_review_text'].value_counts()"
   ]
  },
  {
   "cell_type": "code",
   "execution_count": 228,
   "metadata": {},
   "outputs": [
    {
     "data": {
      "text/plain": [
       "  3 check-ins this place has been shown on my social media for days so i finally visited! one of the cutest and artistic looking coffeeshops i have ever visited. you can self order which is nice because you can take your time and look at the pictures to help you decide! i especially liked how pictures were shown so i knew which coffee/tea came out aesthetically  i ordered the famous matcha green latte and i dont usually drink coffee but it went beyond my expectations. they give you a good amount and its creamy and sweet. only downside is no wifi.. so hard to study here. matcha green tea and living la vida mocha matcha green tea latte interior design see all photos from sarah l. for the factory - cafe with a soul                                                                                                                                                                                 4\n",
       "  great coffee, food and atmosphere! love the set-up. order on an ipad and they call your name out when your food is ready.                                                                                                                                                                                                                                                                                                                                                                                                                                                                                                                                                                                                                                                                                                                                                                                                       4\n",
       "  1 check-in came in on the first day of opening, hours currently 6am-2pm. at some point they'll stay open till 12 midnight. i think this might be the most beautiful cafe in austin, the interior is charming, snazzy, cozy. there's even a pair of swings to sit on while you enjoy your coffee and play a game of chess. i ordered the marymint monroe, basically a mint mojito. it's been a while since i've been to philz coffee so it's hard to compare, but i think the marymint is a little creamier. also had the banana nutella waffle, bananas and nutella are always a winning combination, can't go wrong there. no wifi yet but i'm sure it will come soon. friendly staff, delicious offerings, antique filament lightbulbs and best of all, bieber and mj high above on a mural watching over you. this place is aces. golden age of milk tea see all photos from khang h. for the factory - cafe with a soul     4\n",
       "  1 check-in this place is fantastic! ideal place for grabbing a frothy matcha latte and a chicken & waffle. a bit different in the way that you order. definitely a nice hang-out for millenials or anyone who works in the area and is on a lunch break. wifi is within reach but they don't have it themselves.                                                                                                                                                                                                                                                                                                                                                                                                                                                                                                                                                                                                                4\n",
       "  the factory is gonna be my new coffee spot. no words can describe the amazing atmosphere upon walking in. comfortable seating, hip music, great interior finishes and table games. the intuitive ipad ordering system was quite fascinating as well with its ease of use. great service and tastes great! great job!                                                                                                                                                                                                                                                                                                                                                                                                                                                                                                                                                                                                            4\n",
       "                                                                                                                                                                                                                                                                                                                                                                                                                                                                                                                                                                                                                                                                                                                                                                                                                                                                                                                                 ..\n",
       " wow thc fits right in with the domain. it's a nice coffee shop in the middle of an otherwise bustling plaza.  quick tip for parking - go to the garages on the sides of the plaza. i was dumb and spent way too much time than i'd care to admit looking for parking cause i'm too used to austin's pay-till-you're-broke parking.  the coffee here is on point. i had one of their pourovers, which was extremely smooth, but not acidic. i've also heard wonderful things about their latte as well.  my only slight issue is that seating can get limited and lighting is a bit dimmer than i'd like (i'm a student, but the really rare breed that uses many textbooks still...), but it's not like i'm squinting to read.  definitely check this place out, especially if you'll be in the area for other fun times in the domain!                                                                                          1\n",
       "  1 check-in i love that they have this coffee shop at this location. its next to the lake and after a walk (or before) its nice to come here and unwind.. not only is the location amazing, the coffee is really good. the decor is really great.. theres outdoor seating.. theres wifi.. great place to have coffee and get some work done..                                                                                                                                                                                                                                                                                                                                                                                                                                                                                                                                                                                    1\n",
       " 1 check-in i can now say that i have tried the cronut. well, the crobrio. after saying that people eagerly await for your opinion on how it tastes and if it lives up to the hype. it does not. sorry to disappoint kiddos, but honestly, it tastes like a stale, day old donut that was left uncovered in the kitchen. maybe i need to try the real thing, but this imitation left much to be desired. like freshness.  thanks to a yelp! coupon i was able to try a mini macaroon, but even that wasn't great. though i am not a macaroon person so asking me to like it was a stretch.  there are plenty of places to get dessert in austin, and i honestly wouldn't suggest this be one of your places.                                                                                                                                                                                                                      1\n",
       "  1 check-in pretty cool coffee shop that serves gelato. the place isn't too big but could probably fit about 20 people sitting inside. the gelato is pretty good and the coffee ain't bad either. it's been a while since i've been here so i'll update this review next time i go but it's definitely a place i would go to again for some coffee and ice cream but not necessarily study (hard chairs and can get loud if there are several people)                                                                                                                                                                                                                                                                                                                                                                                                                                                                            1\n",
       " i've only had coffee and a couple of pastries and it was all delicious. great atmosphere in a wonderful part of town! very relaxing to sit and enjoy your cup of coffee. staff was very friendly and very welcoming. i was there for quite a long time with a friend and felt no pressure to be moved along. it is a great local place that beats a starbucks any day!                                                                                                                                                                                                                                                                                                                                                                                                                                                                                                                                                           1\n",
       "Name: full_review_text, Length: 6915, dtype: int64"
      ]
     },
     "execution_count": 228,
     "metadata": {},
     "output_type": "execute_result"
    }
   ],
   "source": [
    "# Make all text in full_review_text column lower case\n",
    "\n",
    "shops['full_review_text'] = shops['full_review_text'].apply(lambda x: x.lower())\n",
    "shops['full_review_text'].value_counts()"
   ]
  },
  {
   "cell_type": "code",
   "execution_count": 229,
   "metadata": {},
   "outputs": [],
   "source": [
    "# Make a tokenize function\n",
    "\n",
    "def tokenize(text):\n",
    "    \"\"\"Parses a string into a list of semantic units (words)\n",
    "\n",
    "    Args:\n",
    "        text (str): The string that the function will tokenize.\n",
    "\n",
    "    Returns:\n",
    "        list: tokens parsed out by the mechanics of your choice\n",
    "    \"\"\"\n",
    "    \n",
    "    # Keep only alphanumeric characters\n",
    "    \n",
    "    tokens = re.sub(r'[^a-zA-Z ^0-9]', '', text)\n",
    "    tokens = tokens.lower().split()\n",
    "    \n",
    "    return tokens"
   ]
  },
  {
   "cell_type": "code",
   "execution_count": 230,
   "metadata": {},
   "outputs": [],
   "source": [
    "# Science for analysis\n",
    "\n",
    "\"\"\"\n",
    "Import Statements\n",
    "\"\"\"\n",
    "\n",
    "# Base\n",
    "\n",
    "from collections import Counter\n",
    "import re\n",
    "import pandas as pd\n",
    "\n",
    "# Plotting\n",
    "\n",
    "import squarify\n",
    "import matplotlib.pyplot as plt\n",
    "import seaborn as sns\n",
    "\n",
    "# NLP Libraries\n",
    "\n",
    "import spacy\n",
    "from spacy.tokenizer import Tokenizer\n",
    "from nltk.stem import PorterStemmer\n",
    "\n",
    "nlp = spacy.load(\"en_core_web_lg\")"
   ]
  },
  {
   "cell_type": "code",
   "execution_count": 231,
   "metadata": {},
   "outputs": [],
   "source": [
    "# Tokenize all of the text in full_review_text column into a new column, tokens\n",
    "\n",
    "shops['tokens'] = shops['full_review_text'].apply(tokenize)"
   ]
  },
  {
   "cell_type": "code",
   "execution_count": 232,
   "metadata": {},
   "outputs": [
    {
     "data": {
      "text/plain": [
       "0    [1, checkin, love, love, loved, the, atmospher...\n",
       "1    [listed, in, date, night, austin, ambiance, in...\n",
       "2    [1, checkin, listed, in, brunch, spots, i, lov...\n",
       "3    [very, cool, decor, good, drinks, nice, seatin...\n",
       "4    [1, checkin, they, are, located, within, the, ...\n",
       "Name: tokens, dtype: object"
      ]
     },
     "execution_count": 232,
     "metadata": {},
     "output_type": "execute_result"
    }
   ],
   "source": [
    "# Show head of tokens column\n",
    "\n",
    "shops['tokens'].head()"
   ]
  },
  {
   "cell_type": "code",
   "execution_count": 233,
   "metadata": {},
   "outputs": [
    {
     "data": {
      "text/plain": [
       "[('the', 34809),\n",
       " ('and', 26650),\n",
       " ('a', 22755),\n",
       " ('i', 20237),\n",
       " ('to', 17164),\n",
       " ('of', 12597),\n",
       " ('is', 11999),\n",
       " ('coffee', 10353),\n",
       " ('was', 9707),\n",
       " ('in', 9546)]"
      ]
     },
     "execution_count": 233,
     "metadata": {},
     "output_type": "execute_result"
    }
   ],
   "source": [
    "# Analyze the tokens\n",
    "\n",
    "# Object from Base Python\n",
    "\n",
    "from collections import Counter\n",
    "\n",
    "# The object `Counter` takes an iterable, but you can instaniate an empty one and update it \n",
    "\n",
    "word_counts = Counter()\n",
    "\n",
    "# Update it based on a split of each of our documents\n",
    "\n",
    "shops['tokens'].apply(lambda x: word_counts.update(x))\n",
    "\n",
    "# Print out the 10 most common words\n",
    "\n",
    "word_counts.most_common(10)\n",
    "\n",
    "# Consider getting rid of some stop words"
   ]
  },
  {
   "cell_type": "code",
   "execution_count": 235,
   "metadata": {},
   "outputs": [],
   "source": [
    "# A fuction which takes a corpus of document and returns a dataframe of word counts for us to analyze\n",
    "\n",
    "def count(docs):\n",
    "\n",
    "        word_counts = Counter()\n",
    "        appears_in = Counter()\n",
    "        \n",
    "        total_docs = len(docs)\n",
    "\n",
    "        for doc in docs:\n",
    "            word_counts.update(doc)\n",
    "            appears_in.update(set(doc))\n",
    "\n",
    "        temp = zip(word_counts.keys(), word_counts.values())\n",
    "        \n",
    "        wc = pd.DataFrame(temp, columns = ['word', 'count'])\n",
    "\n",
    "        wc['rank'] = wc['count'].rank(method='first', ascending=False)\n",
    "        total = wc['count'].sum()\n",
    "\n",
    "        wc['pct_total'] = wc['count'].apply(lambda x: x / total)\n",
    "        \n",
    "        wc = wc.sort_values(by='rank')\n",
    "        wc['cul_pct_total'] = wc['pct_total'].cumsum()\n",
    "\n",
    "        t2 = zip(appears_in.keys(), appears_in.values())\n",
    "        ac = pd.DataFrame(t2, columns=['word', 'appears_in'])\n",
    "        wc = ac.merge(wc, on='word')\n",
    "\n",
    "        wc['appears_in_pct'] = wc['appears_in'].apply(lambda x: x / total_docs)\n",
    "        \n",
    "        return wc.sort_values(by='rank')"
   ]
  },
  {
   "cell_type": "code",
   "execution_count": 236,
   "metadata": {},
   "outputs": [],
   "source": [
    "# Use the function to return a dataframe of word counts\n",
    "\n",
    "wc = count(shops['tokens'])"
   ]
  },
  {
   "cell_type": "code",
   "execution_count": 237,
   "metadata": {},
   "outputs": [
    {
     "data": {
      "text/html": [
       "<div>\n",
       "<style scoped>\n",
       "    .dataframe tbody tr th:only-of-type {\n",
       "        vertical-align: middle;\n",
       "    }\n",
       "\n",
       "    .dataframe tbody tr th {\n",
       "        vertical-align: top;\n",
       "    }\n",
       "\n",
       "    .dataframe thead th {\n",
       "        text-align: right;\n",
       "    }\n",
       "</style>\n",
       "<table border=\"1\" class=\"dataframe\">\n",
       "  <thead>\n",
       "    <tr style=\"text-align: right;\">\n",
       "      <th></th>\n",
       "      <th>word</th>\n",
       "      <th>appears_in</th>\n",
       "      <th>count</th>\n",
       "      <th>rank</th>\n",
       "      <th>pct_total</th>\n",
       "      <th>cul_pct_total</th>\n",
       "      <th>appears_in_pct</th>\n",
       "    </tr>\n",
       "  </thead>\n",
       "  <tbody>\n",
       "    <tr>\n",
       "      <th>2</th>\n",
       "      <td>the</td>\n",
       "      <td>6847</td>\n",
       "      <td>34809</td>\n",
       "      <td>1.0</td>\n",
       "      <td>0.044978</td>\n",
       "      <td>0.044978</td>\n",
       "      <td>0.899028</td>\n",
       "    </tr>\n",
       "    <tr>\n",
       "      <th>9</th>\n",
       "      <td>and</td>\n",
       "      <td>6864</td>\n",
       "      <td>26650</td>\n",
       "      <td>2.0</td>\n",
       "      <td>0.034436</td>\n",
       "      <td>0.079414</td>\n",
       "      <td>0.901261</td>\n",
       "    </tr>\n",
       "    <tr>\n",
       "      <th>26</th>\n",
       "      <td>a</td>\n",
       "      <td>6246</td>\n",
       "      <td>22755</td>\n",
       "      <td>3.0</td>\n",
       "      <td>0.029403</td>\n",
       "      <td>0.108817</td>\n",
       "      <td>0.820116</td>\n",
       "    </tr>\n",
       "    <tr>\n",
       "      <th>13</th>\n",
       "      <td>i</td>\n",
       "      <td>5528</td>\n",
       "      <td>20237</td>\n",
       "      <td>4.0</td>\n",
       "      <td>0.026149</td>\n",
       "      <td>0.134966</td>\n",
       "      <td>0.725840</td>\n",
       "    </tr>\n",
       "    <tr>\n",
       "      <th>23</th>\n",
       "      <td>to</td>\n",
       "      <td>5653</td>\n",
       "      <td>17164</td>\n",
       "      <td>5.0</td>\n",
       "      <td>0.022178</td>\n",
       "      <td>0.157144</td>\n",
       "      <td>0.742253</td>\n",
       "    </tr>\n",
       "  </tbody>\n",
       "</table>\n",
       "</div>"
      ],
      "text/plain": [
       "   word  appears_in  count  rank  pct_total  cul_pct_total  appears_in_pct\n",
       "2   the        6847  34809   1.0   0.044978       0.044978        0.899028\n",
       "9   and        6864  26650   2.0   0.034436       0.079414        0.901261\n",
       "26    a        6246  22755   3.0   0.029403       0.108817        0.820116\n",
       "13    i        5528  20237   4.0   0.026149       0.134966        0.725840\n",
       "23   to        5653  17164   5.0   0.022178       0.157144        0.742253"
      ]
     },
     "execution_count": 237,
     "metadata": {},
     "output_type": "execute_result"
    }
   ],
   "source": [
    "# Word counts dataframe head\n",
    "\n",
    "wc.head()"
   ]
  },
  {
   "cell_type": "code",
   "execution_count": 238,
   "metadata": {},
   "outputs": [
    {
     "data": {
      "image/png": "[encoded data removed]",
      "text/plain": [
       "<Figure size 432x288 with 1 Axes>"
      ]
     },
     "metadata": {},
     "output_type": "display_data"
    }
   ],
   "source": [
    "# Make a Cumulative Distribution Plot\n",
    "\n",
    "import seaborn as sns\n",
    "\n",
    "sns.lineplot(x='rank', y='cul_pct_total', data=wc);"
   ]
  },
  {
   "cell_type": "code",
   "execution_count": 239,
   "metadata": {},
   "outputs": [
    {
     "data": {
      "text/plain": [
       "0.3140958797374879"
      ]
     },
     "execution_count": 239,
     "metadata": {},
     "output_type": "execute_result"
    }
   ],
   "source": [
    "# Word count rank column top 20 words as percentage of all words\n",
    "\n",
    "wc[wc['rank'] <= 20]['cul_pct_total'].max()"
   ]
  },
  {
   "cell_type": "code",
   "execution_count": 240,
   "metadata": {},
   "outputs": [
    {
     "data": {
      "image/png": "[encoded data removed]",
      "text/plain": [
       "<Figure size 432x288 with 1 Axes>"
      ]
     },
     "metadata": {},
     "output_type": "display_data"
    }
   ],
   "source": [
    "# Squarify plot of top 20 words as percentage of total\n",
    "\n",
    "import squarify\n",
    "import matplotlib.pyplot as plt\n",
    "\n",
    "wc_top20 = wc[wc['rank'] <= 20]\n",
    "\n",
    "squarify.plot(sizes=wc_top20['pct_total'], label=wc_top20['word'], alpha=.8 )\n",
    "plt.axis('off')\n",
    "plt.show()\n",
    "\n",
    "# Consider these as stop words, most are already included by default"
   ]
  },
  {
   "cell_type": "code",
   "execution_count": 241,
   "metadata": {},
   "outputs": [],
   "source": [
    "# Processing Raw Text with Spacy\n",
    "\n",
    "import spacy\n",
    "from spacy.tokenizer import Tokenizer\n",
    "\n",
    "nlp = spacy.load(\"en_core_web_lg\")\n",
    "\n",
    "# Tokenizer\n",
    "\n",
    "tokenizer = Tokenizer(nlp.vocab)"
   ]
  },
  {
   "cell_type": "code",
   "execution_count": 242,
   "metadata": {},
   "outputs": [],
   "source": [
    "# Tokenizer Pipe\n",
    "\n",
    "tokens = []\n",
    "\n",
    "\"\"\" Make them tokens \"\"\"\n",
    "for doc in tokenizer.pipe(shops['full_review_text'], batch_size=500):\n",
    "    doc_tokens = [token.text for token in doc]\n",
    "    tokens.append(doc_tokens)\n",
    "\n",
    "shops['tokens'] = tokens"
   ]
  },
  {
   "cell_type": "code",
   "execution_count": 243,
   "metadata": {},
   "outputs": [
    {
     "data": {
      "text/plain": [
       "0    [  , 1, check-in, love, love, loved, the, atmo...\n",
       "1    [  , listed, in, date, night:, austin,, ambian...\n",
       "2    [  , 1, check-in, listed, in, brunch, spots, i...\n",
       "3    [  , very, cool, decor!, good, drinks, nice, s...\n",
       "4    [  , 1, check-in, they, are, located, within, ...\n",
       "Name: tokens, dtype: object"
      ]
     },
     "execution_count": 243,
     "metadata": {},
     "output_type": "execute_result"
    }
   ],
   "source": [
    "# Shops token column head\n",
    "\n",
    "shops['tokens'].head()"
   ]
  },
  {
   "cell_type": "code",
   "execution_count": 244,
   "metadata": {},
   "outputs": [],
   "source": [
    "# Count shops tokens\n",
    "\n",
    "wc = count(shops['tokens'])"
   ]
  },
  {
   "cell_type": "code",
   "execution_count": 245,
   "metadata": {},
   "outputs": [
    {
     "data": {
      "text/html": [
       "<div>\n",
       "<style scoped>\n",
       "    .dataframe tbody tr th:only-of-type {\n",
       "        vertical-align: middle;\n",
       "    }\n",
       "\n",
       "    .dataframe tbody tr th {\n",
       "        vertical-align: top;\n",
       "    }\n",
       "\n",
       "    .dataframe thead th {\n",
       "        text-align: right;\n",
       "    }\n",
       "</style>\n",
       "<table border=\"1\" class=\"dataframe\">\n",
       "  <thead>\n",
       "    <tr style=\"text-align: right;\">\n",
       "      <th></th>\n",
       "      <th>word</th>\n",
       "      <th>appears_in</th>\n",
       "      <th>count</th>\n",
       "      <th>rank</th>\n",
       "      <th>pct_total</th>\n",
       "      <th>cul_pct_total</th>\n",
       "      <th>appears_in_pct</th>\n",
       "    </tr>\n",
       "  </thead>\n",
       "  <tbody>\n",
       "    <tr>\n",
       "      <th>2</th>\n",
       "      <td>the</td>\n",
       "      <td>6847</td>\n",
       "      <td>34649</td>\n",
       "      <td>1.0</td>\n",
       "      <td>0.043235</td>\n",
       "      <td>0.043235</td>\n",
       "      <td>0.899028</td>\n",
       "    </tr>\n",
       "    <tr>\n",
       "      <th>9</th>\n",
       "      <td>and</td>\n",
       "      <td>6853</td>\n",
       "      <td>26442</td>\n",
       "      <td>2.0</td>\n",
       "      <td>0.032994</td>\n",
       "      <td>0.076228</td>\n",
       "      <td>0.899816</td>\n",
       "    </tr>\n",
       "    <tr>\n",
       "      <th>30</th>\n",
       "      <td>a</td>\n",
       "      <td>6240</td>\n",
       "      <td>22657</td>\n",
       "      <td>3.0</td>\n",
       "      <td>0.028271</td>\n",
       "      <td>0.104500</td>\n",
       "      <td>0.819328</td>\n",
       "    </tr>\n",
       "    <tr>\n",
       "      <th>19</th>\n",
       "      <td></td>\n",
       "      <td>6676</td>\n",
       "      <td>20570</td>\n",
       "      <td>4.0</td>\n",
       "      <td>0.025667</td>\n",
       "      <td>0.130166</td>\n",
       "      <td>0.876576</td>\n",
       "    </tr>\n",
       "    <tr>\n",
       "      <th>11</th>\n",
       "      <td>i</td>\n",
       "      <td>5511</td>\n",
       "      <td>19990</td>\n",
       "      <td>5.0</td>\n",
       "      <td>0.024943</td>\n",
       "      <td>0.155110</td>\n",
       "      <td>0.723608</td>\n",
       "    </tr>\n",
       "  </tbody>\n",
       "</table>\n",
       "</div>"
      ],
      "text/plain": [
       "   word  appears_in  count  rank  pct_total  cul_pct_total  appears_in_pct\n",
       "2   the        6847  34649   1.0   0.043235       0.043235        0.899028\n",
       "9   and        6853  26442   2.0   0.032994       0.076228        0.899816\n",
       "30    a        6240  22657   3.0   0.028271       0.104500        0.819328\n",
       "19             6676  20570   4.0   0.025667       0.130166        0.876576\n",
       "11    i        5511  19990   5.0   0.024943       0.155110        0.723608"
      ]
     },
     "execution_count": 245,
     "metadata": {},
     "output_type": "execute_result"
    }
   ],
   "source": [
    "# Word counts head\n",
    "\n",
    "wc.head()"
   ]
  },
  {
   "cell_type": "code",
   "execution_count": 246,
   "metadata": {},
   "outputs": [
    {
     "data": {
      "image/png": "[encoded data removed]",
      "text/plain": [
       "<Figure size 432x288 with 1 Axes>"
      ]
     },
     "metadata": {},
     "output_type": "display_data"
    }
   ],
   "source": [
    "# Word counts top 20, again\n",
    "\n",
    "wc_top20 = wc[wc['rank'] <= 20]\n",
    "\n",
    "squarify.plot(sizes=wc_top20['pct_total'], label=wc_top20['word'], alpha=.8 )\n",
    "plt.axis('off')\n",
    "plt.show()\n",
    "\n",
    "# Consider these as stop words, most are already included by default"
   ]
  },
  {
   "cell_type": "code",
   "execution_count": 247,
   "metadata": {},
   "outputs": [],
   "source": [
    "# Begin process to get rid of stop words\n",
    "\n",
    "# Spacy's Default Stop Words\n",
    "#nlp.Defaults.stop_words"
   ]
  },
  {
   "cell_type": "code",
   "execution_count": 248,
   "metadata": {},
   "outputs": [],
   "source": [
    "# Update tokens by removing stop words\n",
    "\n",
    "tokens = []\n",
    "\n",
    "\"\"\" Update those tokens w/o stopwords\"\"\"\n",
    "for doc in tokenizer.pipe(shops['full_review_text'], batch_size=500):\n",
    "    \n",
    "    doc_tokens = []\n",
    "    \n",
    "    for token in doc:\n",
    "        if (token.is_stop == False) & (token.is_punct == False):\n",
    "            doc_tokens.append(token.text.lower())\n",
    "\n",
    "    tokens.append(doc_tokens)\n",
    "\n",
    "shops['tokens'] = tokens"
   ]
  },
  {
   "cell_type": "code",
   "execution_count": 249,
   "metadata": {},
   "outputs": [
    {
     "data": {
      "text/plain": [
       "0    [  , 1, check-in, love, love, loved, atmospher...\n",
       "1    [  , listed, date, night:, austin,, ambiance, ...\n",
       "2    [  , 1, check-in, listed, brunch, spots, loved...\n",
       "3    [  , cool, decor!, good, drinks, nice, seating...\n",
       "4    [  , 1, check-in, located, northcross, mall, s...\n",
       "Name: tokens, dtype: object"
      ]
     },
     "execution_count": 249,
     "metadata": {},
     "output_type": "execute_result"
    }
   ],
   "source": [
    "shops.tokens.head()"
   ]
  },
  {
   "cell_type": "code",
   "execution_count": 250,
   "metadata": {},
   "outputs": [
    {
     "data": {
      "image/png": "[encoded data removed]",
      "text/plain": [
       "<Figure size 432x288 with 1 Axes>"
      ]
     },
     "metadata": {},
     "output_type": "display_data"
    }
   ],
   "source": [
    "# Squarify plot of word count ranks\n",
    "\n",
    "wc = count(shops['tokens'])\n",
    "\n",
    "wc_top20 = wc[wc['rank'] <= 20]\n",
    "\n",
    "squarify.plot(sizes=wc_top20['pct_total'], label=wc_top20['word'], alpha=.8 )\n",
    "plt.axis('off')\n",
    "plt.show()\n",
    "\n",
    "# Consider these as stop words\n",
    "\n",
    "#\" \", \"coffee\", \"place\", \"check-in\", \"1\", \"  \", \"i'm\", \"i've\", \"got\""
   ]
  },
  {
   "cell_type": "code",
   "execution_count": 251,
   "metadata": {},
   "outputs": [
    {
     "data": {
      "text/plain": [
       "5    3780\n",
       "4    2360\n",
       "3     738\n",
       "2     460\n",
       "1     278\n",
       "Name: star_rating, dtype: int64"
      ]
     },
     "execution_count": 251,
     "metadata": {},
     "output_type": "execute_result"
    }
   ],
   "source": [
    "# Count of how many reviews of each rating\n",
    "\n",
    "shops['star_rating'].value_counts()"
   ]
  },
  {
   "cell_type": "code",
   "execution_count": 252,
   "metadata": {},
   "outputs": [
    {
     "data": {
      "text/html": [
       "<div>\n",
       "<style scoped>\n",
       "    .dataframe tbody tr th:only-of-type {\n",
       "        vertical-align: middle;\n",
       "    }\n",
       "\n",
       "    .dataframe tbody tr th {\n",
       "        vertical-align: top;\n",
       "    }\n",
       "\n",
       "    .dataframe thead th {\n",
       "        text-align: right;\n",
       "    }\n",
       "</style>\n",
       "<table border=\"1\" class=\"dataframe\">\n",
       "  <thead>\n",
       "    <tr style=\"text-align: right;\">\n",
       "      <th></th>\n",
       "      <th>word</th>\n",
       "      <th>appears_in</th>\n",
       "      <th>count</th>\n",
       "      <th>rank</th>\n",
       "      <th>pct_total</th>\n",
       "      <th>cul_pct_total</th>\n",
       "      <th>appears_in_pct</th>\n",
       "    </tr>\n",
       "  </thead>\n",
       "  <tbody>\n",
       "    <tr>\n",
       "      <th>38769</th>\n",
       "      <td>delicious...and</td>\n",
       "      <td>1</td>\n",
       "      <td>1</td>\n",
       "      <td>38772.0</td>\n",
       "      <td>0.000002</td>\n",
       "      <td>0.999954</td>\n",
       "      <td>0.000131</td>\n",
       "    </tr>\n",
       "    <tr>\n",
       "      <th>38775</th>\n",
       "      <td>(turkey,</td>\n",
       "      <td>1</td>\n",
       "      <td>1</td>\n",
       "      <td>38773.0</td>\n",
       "      <td>0.000002</td>\n",
       "      <td>0.999957</td>\n",
       "      <td>0.000131</td>\n",
       "    </tr>\n",
       "    <tr>\n",
       "      <th>38774</th>\n",
       "      <td>romaine</td>\n",
       "      <td>1</td>\n",
       "      <td>1</td>\n",
       "      <td>38774.0</td>\n",
       "      <td>0.000002</td>\n",
       "      <td>0.999959</td>\n",
       "      <td>0.000131</td>\n",
       "    </tr>\n",
       "    <tr>\n",
       "      <th>38773</th>\n",
       "      <td>rib,</td>\n",
       "      <td>1</td>\n",
       "      <td>1</td>\n",
       "      <td>38775.0</td>\n",
       "      <td>0.000002</td>\n",
       "      <td>0.999961</td>\n",
       "      <td>0.000131</td>\n",
       "    </tr>\n",
       "    <tr>\n",
       "      <th>38776</th>\n",
       "      <td>predictably,</td>\n",
       "      <td>1</td>\n",
       "      <td>1</td>\n",
       "      <td>38776.0</td>\n",
       "      <td>0.000002</td>\n",
       "      <td>0.999964</td>\n",
       "      <td>0.000131</td>\n",
       "    </tr>\n",
       "    <tr>\n",
       "      <th>38777</th>\n",
       "      <td>blts</td>\n",
       "      <td>1</td>\n",
       "      <td>1</td>\n",
       "      <td>38777.0</td>\n",
       "      <td>0.000002</td>\n",
       "      <td>0.999966</td>\n",
       "      <td>0.000131</td>\n",
       "    </tr>\n",
       "    <tr>\n",
       "      <th>38771</th>\n",
       "      <td>(+</td>\n",
       "      <td>1</td>\n",
       "      <td>1</td>\n",
       "      <td>38778.0</td>\n",
       "      <td>0.000002</td>\n",
       "      <td>0.999969</td>\n",
       "      <td>0.000131</td>\n",
       "    </tr>\n",
       "    <tr>\n",
       "      <th>38772</th>\n",
       "      <td>turkey)</td>\n",
       "      <td>1</td>\n",
       "      <td>1</td>\n",
       "      <td>38779.0</td>\n",
       "      <td>0.000002</td>\n",
       "      <td>0.999971</td>\n",
       "      <td>0.000131</td>\n",
       "    </tr>\n",
       "    <tr>\n",
       "      <th>38778</th>\n",
       "      <td>(pork)</td>\n",
       "      <td>1</td>\n",
       "      <td>1</td>\n",
       "      <td>38780.0</td>\n",
       "      <td>0.000002</td>\n",
       "      <td>0.999973</td>\n",
       "      <td>0.000131</td>\n",
       "    </tr>\n",
       "    <tr>\n",
       "      <th>38780</th>\n",
       "      <td>roomier</td>\n",
       "      <td>1</td>\n",
       "      <td>1</td>\n",
       "      <td>38781.0</td>\n",
       "      <td>0.000002</td>\n",
       "      <td>0.999976</td>\n",
       "      <td>0.000131</td>\n",
       "    </tr>\n",
       "    <tr>\n",
       "      <th>38779</th>\n",
       "      <td>pine</td>\n",
       "      <td>1</td>\n",
       "      <td>1</td>\n",
       "      <td>38782.0</td>\n",
       "      <td>0.000002</td>\n",
       "      <td>0.999978</td>\n",
       "      <td>0.000131</td>\n",
       "    </tr>\n",
       "    <tr>\n",
       "      <th>38781</th>\n",
       "      <td>windowed</td>\n",
       "      <td>1</td>\n",
       "      <td>1</td>\n",
       "      <td>38783.0</td>\n",
       "      <td>0.000002</td>\n",
       "      <td>0.999981</td>\n",
       "      <td>0.000131</td>\n",
       "    </tr>\n",
       "    <tr>\n",
       "      <th>38783</th>\n",
       "      <td>irregular.</td>\n",
       "      <td>1</td>\n",
       "      <td>1</td>\n",
       "      <td>38784.0</td>\n",
       "      <td>0.000002</td>\n",
       "      <td>0.999983</td>\n",
       "      <td>0.000131</td>\n",
       "    </tr>\n",
       "    <tr>\n",
       "      <th>38782</th>\n",
       "      <td>responsive.</td>\n",
       "      <td>1</td>\n",
       "      <td>1</td>\n",
       "      <td>38785.0</td>\n",
       "      <td>0.000002</td>\n",
       "      <td>0.999986</td>\n",
       "      <td>0.000131</td>\n",
       "    </tr>\n",
       "    <tr>\n",
       "      <th>38784</th>\n",
       "      <td>cheddar,</td>\n",
       "      <td>1</td>\n",
       "      <td>1</td>\n",
       "      <td>38786.0</td>\n",
       "      <td>0.000002</td>\n",
       "      <td>0.999988</td>\n",
       "      <td>0.000131</td>\n",
       "    </tr>\n",
       "    <tr>\n",
       "      <th>38785</th>\n",
       "      <td>actuality.</td>\n",
       "      <td>1</td>\n",
       "      <td>1</td>\n",
       "      <td>38787.0</td>\n",
       "      <td>0.000002</td>\n",
       "      <td>0.999990</td>\n",
       "      <td>0.000131</td>\n",
       "    </tr>\n",
       "    <tr>\n",
       "      <th>38786</th>\n",
       "      <td>crass.</td>\n",
       "      <td>1</td>\n",
       "      <td>1</td>\n",
       "      <td>38788.0</td>\n",
       "      <td>0.000002</td>\n",
       "      <td>0.999993</td>\n",
       "      <td>0.000131</td>\n",
       "    </tr>\n",
       "    <tr>\n",
       "      <th>38787</th>\n",
       "      <td>restrictions.</td>\n",
       "      <td>1</td>\n",
       "      <td>1</td>\n",
       "      <td>38789.0</td>\n",
       "      <td>0.000002</td>\n",
       "      <td>0.999995</td>\n",
       "      <td>0.000131</td>\n",
       "    </tr>\n",
       "    <tr>\n",
       "      <th>38790</th>\n",
       "      <td>specially,</td>\n",
       "      <td>1</td>\n",
       "      <td>1</td>\n",
       "      <td>38790.0</td>\n",
       "      <td>0.000002</td>\n",
       "      <td>0.999998</td>\n",
       "      <td>0.000131</td>\n",
       "    </tr>\n",
       "    <tr>\n",
       "      <th>38789</th>\n",
       "      <td>digestion,</td>\n",
       "      <td>1</td>\n",
       "      <td>1</td>\n",
       "      <td>38791.0</td>\n",
       "      <td>0.000002</td>\n",
       "      <td>1.000000</td>\n",
       "      <td>0.000131</td>\n",
       "    </tr>\n",
       "  </tbody>\n",
       "</table>\n",
       "</div>"
      ],
      "text/plain": [
       "                  word  appears_in  count     rank  pct_total  cul_pct_total  \\\n",
       "38769  delicious...and           1      1  38772.0   0.000002       0.999954   \n",
       "38775         (turkey,           1      1  38773.0   0.000002       0.999957   \n",
       "38774          romaine           1      1  38774.0   0.000002       0.999959   \n",
       "38773             rib,           1      1  38775.0   0.000002       0.999961   \n",
       "38776     predictably,           1      1  38776.0   0.000002       0.999964   \n",
       "38777             blts           1      1  38777.0   0.000002       0.999966   \n",
       "38771               (+           1      1  38778.0   0.000002       0.999969   \n",
       "38772          turkey)           1      1  38779.0   0.000002       0.999971   \n",
       "38778           (pork)           1      1  38780.0   0.000002       0.999973   \n",
       "38780          roomier           1      1  38781.0   0.000002       0.999976   \n",
       "38779             pine           1      1  38782.0   0.000002       0.999978   \n",
       "38781         windowed           1      1  38783.0   0.000002       0.999981   \n",
       "38783       irregular.           1      1  38784.0   0.000002       0.999983   \n",
       "38782      responsive.           1      1  38785.0   0.000002       0.999986   \n",
       "38784         cheddar,           1      1  38786.0   0.000002       0.999988   \n",
       "38785       actuality.           1      1  38787.0   0.000002       0.999990   \n",
       "38786           crass.           1      1  38788.0   0.000002       0.999993   \n",
       "38787    restrictions.           1      1  38789.0   0.000002       0.999995   \n",
       "38790       specially,           1      1  38790.0   0.000002       0.999998   \n",
       "38789       digestion,           1      1  38791.0   0.000002       1.000000   \n",
       "\n",
       "       appears_in_pct  \n",
       "38769        0.000131  \n",
       "38775        0.000131  \n",
       "38774        0.000131  \n",
       "38773        0.000131  \n",
       "38776        0.000131  \n",
       "38777        0.000131  \n",
       "38771        0.000131  \n",
       "38772        0.000131  \n",
       "38778        0.000131  \n",
       "38780        0.000131  \n",
       "38779        0.000131  \n",
       "38781        0.000131  \n",
       "38783        0.000131  \n",
       "38782        0.000131  \n",
       "38784        0.000131  \n",
       "38785        0.000131  \n",
       "38786        0.000131  \n",
       "38787        0.000131  \n",
       "38790        0.000131  \n",
       "38789        0.000131  "
      ]
     },
     "execution_count": 252,
     "metadata": {},
     "output_type": "execute_result"
    }
   ],
   "source": [
    "# Statistical Trimming - preserve the words that give the most amount of variation in the data\n",
    "\n",
    "# Take a look at the words at the bottom and the top\n",
    "\n",
    "wc.tail(20)"
   ]
  },
  {
   "cell_type": "code",
   "execution_count": 253,
   "metadata": {},
   "outputs": [
    {
     "data": {
      "text/html": [
       "<div>\n",
       "<style scoped>\n",
       "    .dataframe tbody tr th:only-of-type {\n",
       "        vertical-align: middle;\n",
       "    }\n",
       "\n",
       "    .dataframe tbody tr th {\n",
       "        vertical-align: top;\n",
       "    }\n",
       "\n",
       "    .dataframe thead th {\n",
       "        text-align: right;\n",
       "    }\n",
       "</style>\n",
       "<table border=\"1\" class=\"dataframe\">\n",
       "  <thead>\n",
       "    <tr style=\"text-align: right;\">\n",
       "      <th></th>\n",
       "      <th>word</th>\n",
       "      <th>appears_in</th>\n",
       "      <th>count</th>\n",
       "      <th>rank</th>\n",
       "      <th>pct_total</th>\n",
       "      <th>cul_pct_total</th>\n",
       "      <th>appears_in_pct</th>\n",
       "    </tr>\n",
       "  </thead>\n",
       "  <tbody>\n",
       "    <tr>\n",
       "      <th>10</th>\n",
       "      <td></td>\n",
       "      <td>6676</td>\n",
       "      <td>20570</td>\n",
       "      <td>1.0</td>\n",
       "      <td>0.049667</td>\n",
       "      <td>0.049667</td>\n",
       "      <td>0.876576</td>\n",
       "    </tr>\n",
       "    <tr>\n",
       "      <th>45</th>\n",
       "      <td>coffee</td>\n",
       "      <td>4210</td>\n",
       "      <td>8058</td>\n",
       "      <td>2.0</td>\n",
       "      <td>0.019456</td>\n",
       "      <td>0.069123</td>\n",
       "      <td>0.552784</td>\n",
       "    </tr>\n",
       "    <tr>\n",
       "      <th>159</th>\n",
       "      <td>place</td>\n",
       "      <td>3029</td>\n",
       "      <td>4264</td>\n",
       "      <td>3.0</td>\n",
       "      <td>0.010296</td>\n",
       "      <td>0.079419</td>\n",
       "      <td>0.397715</td>\n",
       "    </tr>\n",
       "    <tr>\n",
       "      <th>112</th>\n",
       "      <td>great</td>\n",
       "      <td>2438</td>\n",
       "      <td>3250</td>\n",
       "      <td>4.0</td>\n",
       "      <td>0.007847</td>\n",
       "      <td>0.087266</td>\n",
       "      <td>0.320116</td>\n",
       "    </tr>\n",
       "    <tr>\n",
       "      <th>258</th>\n",
       "      <td>it's</td>\n",
       "      <td>2061</td>\n",
       "      <td>3117</td>\n",
       "      <td>5.0</td>\n",
       "      <td>0.007526</td>\n",
       "      <td>0.094792</td>\n",
       "      <td>0.270614</td>\n",
       "    </tr>\n",
       "    <tr>\n",
       "      <th>177</th>\n",
       "      <td>like</td>\n",
       "      <td>2034</td>\n",
       "      <td>2902</td>\n",
       "      <td>6.0</td>\n",
       "      <td>0.007007</td>\n",
       "      <td>0.101799</td>\n",
       "      <td>0.267069</td>\n",
       "    </tr>\n",
       "    <tr>\n",
       "      <th>176</th>\n",
       "      <td>good</td>\n",
       "      <td>2084</td>\n",
       "      <td>2779</td>\n",
       "      <td>7.0</td>\n",
       "      <td>0.006710</td>\n",
       "      <td>0.108509</td>\n",
       "      <td>0.273634</td>\n",
       "    </tr>\n",
       "    <tr>\n",
       "      <th>16</th>\n",
       "      <td></td>\n",
       "      <td>2192</td>\n",
       "      <td>2335</td>\n",
       "      <td>8.0</td>\n",
       "      <td>0.005638</td>\n",
       "      <td>0.114147</td>\n",
       "      <td>0.287815</td>\n",
       "    </tr>\n",
       "    <tr>\n",
       "      <th>21</th>\n",
       "      <td>1</td>\n",
       "      <td>1998</td>\n",
       "      <td>2035</td>\n",
       "      <td>9.0</td>\n",
       "      <td>0.004914</td>\n",
       "      <td>0.119060</td>\n",
       "      <td>0.262342</td>\n",
       "    </tr>\n",
       "    <tr>\n",
       "      <th>5</th>\n",
       "      <td>check-in</td>\n",
       "      <td>1957</td>\n",
       "      <td>1961</td>\n",
       "      <td>10.0</td>\n",
       "      <td>0.004735</td>\n",
       "      <td>0.123795</td>\n",
       "      <td>0.256959</td>\n",
       "    </tr>\n",
       "    <tr>\n",
       "      <th>24</th>\n",
       "      <td>love</td>\n",
       "      <td>1434</td>\n",
       "      <td>1806</td>\n",
       "      <td>11.0</td>\n",
       "      <td>0.004361</td>\n",
       "      <td>0.128156</td>\n",
       "      <td>0.188288</td>\n",
       "    </tr>\n",
       "    <tr>\n",
       "      <th>302</th>\n",
       "      <td>i'm</td>\n",
       "      <td>1382</td>\n",
       "      <td>1797</td>\n",
       "      <td>12.0</td>\n",
       "      <td>0.004339</td>\n",
       "      <td>0.132495</td>\n",
       "      <td>0.181460</td>\n",
       "    </tr>\n",
       "    <tr>\n",
       "      <th>379</th>\n",
       "      <td>i've</td>\n",
       "      <td>1164</td>\n",
       "      <td>1479</td>\n",
       "      <td>13.0</td>\n",
       "      <td>0.003571</td>\n",
       "      <td>0.136066</td>\n",
       "      <td>0.152836</td>\n",
       "    </tr>\n",
       "    <tr>\n",
       "      <th>789</th>\n",
       "      <td>little</td>\n",
       "      <td>1230</td>\n",
       "      <td>1479</td>\n",
       "      <td>14.0</td>\n",
       "      <td>0.003571</td>\n",
       "      <td>0.139637</td>\n",
       "      <td>0.161502</td>\n",
       "    </tr>\n",
       "    <tr>\n",
       "      <th>353</th>\n",
       "      <td>don't</td>\n",
       "      <td>1133</td>\n",
       "      <td>1395</td>\n",
       "      <td>15.0</td>\n",
       "      <td>0.003368</td>\n",
       "      <td>0.143005</td>\n",
       "      <td>0.148766</td>\n",
       "    </tr>\n",
       "    <tr>\n",
       "      <th>189</th>\n",
       "      <td>nice</td>\n",
       "      <td>1188</td>\n",
       "      <td>1368</td>\n",
       "      <td>16.0</td>\n",
       "      <td>0.003303</td>\n",
       "      <td>0.146308</td>\n",
       "      <td>0.155987</td>\n",
       "    </tr>\n",
       "    <tr>\n",
       "      <th>463</th>\n",
       "      <td>food</td>\n",
       "      <td>1092</td>\n",
       "      <td>1363</td>\n",
       "      <td>17.0</td>\n",
       "      <td>0.003291</td>\n",
       "      <td>0.149599</td>\n",
       "      <td>0.143382</td>\n",
       "    </tr>\n",
       "    <tr>\n",
       "      <th>618</th>\n",
       "      <td>time</td>\n",
       "      <td>1099</td>\n",
       "      <td>1345</td>\n",
       "      <td>18.0</td>\n",
       "      <td>0.003248</td>\n",
       "      <td>0.152847</td>\n",
       "      <td>0.144301</td>\n",
       "    </tr>\n",
       "    <tr>\n",
       "      <th>37</th>\n",
       "      <td>pretty</td>\n",
       "      <td>1066</td>\n",
       "      <td>1339</td>\n",
       "      <td>19.0</td>\n",
       "      <td>0.003233</td>\n",
       "      <td>0.156080</td>\n",
       "      <td>0.139968</td>\n",
       "    </tr>\n",
       "    <tr>\n",
       "      <th>1</th>\n",
       "      <td>got</td>\n",
       "      <td>980</td>\n",
       "      <td>1247</td>\n",
       "      <td>20.0</td>\n",
       "      <td>0.003011</td>\n",
       "      <td>0.159091</td>\n",
       "      <td>0.128676</td>\n",
       "    </tr>\n",
       "  </tbody>\n",
       "</table>\n",
       "</div>"
      ],
      "text/plain": [
       "         word  appears_in  count  rank  pct_total  cul_pct_total  \\\n",
       "10                   6676  20570   1.0   0.049667       0.049667   \n",
       "45     coffee        4210   8058   2.0   0.019456       0.069123   \n",
       "159     place        3029   4264   3.0   0.010296       0.079419   \n",
       "112     great        2438   3250   4.0   0.007847       0.087266   \n",
       "258      it's        2061   3117   5.0   0.007526       0.094792   \n",
       "177      like        2034   2902   6.0   0.007007       0.101799   \n",
       "176      good        2084   2779   7.0   0.006710       0.108509   \n",
       "16                   2192   2335   8.0   0.005638       0.114147   \n",
       "21          1        1998   2035   9.0   0.004914       0.119060   \n",
       "5    check-in        1957   1961  10.0   0.004735       0.123795   \n",
       "24       love        1434   1806  11.0   0.004361       0.128156   \n",
       "302       i'm        1382   1797  12.0   0.004339       0.132495   \n",
       "379      i've        1164   1479  13.0   0.003571       0.136066   \n",
       "789    little        1230   1479  14.0   0.003571       0.139637   \n",
       "353     don't        1133   1395  15.0   0.003368       0.143005   \n",
       "189      nice        1188   1368  16.0   0.003303       0.146308   \n",
       "463      food        1092   1363  17.0   0.003291       0.149599   \n",
       "618      time        1099   1345  18.0   0.003248       0.152847   \n",
       "37     pretty        1066   1339  19.0   0.003233       0.156080   \n",
       "1         got         980   1247  20.0   0.003011       0.159091   \n",
       "\n",
       "     appears_in_pct  \n",
       "10         0.876576  \n",
       "45         0.552784  \n",
       "159        0.397715  \n",
       "112        0.320116  \n",
       "258        0.270614  \n",
       "177        0.267069  \n",
       "176        0.273634  \n",
       "16         0.287815  \n",
       "21         0.262342  \n",
       "5          0.256959  \n",
       "24         0.188288  \n",
       "302        0.181460  \n",
       "379        0.152836  \n",
       "789        0.161502  \n",
       "353        0.148766  \n",
       "189        0.155987  \n",
       "463        0.143382  \n",
       "618        0.144301  \n",
       "37         0.139968  \n",
       "1          0.128676  "
      ]
     },
     "execution_count": 253,
     "metadata": {},
     "output_type": "execute_result"
    }
   ],
   "source": [
    "wc.head(20)"
   ]
  },
  {
   "cell_type": "code",
   "execution_count": 254,
   "metadata": {},
   "outputs": [
    {
     "data": {
      "text/plain": [
       "count    38791.000000\n",
       "mean         0.001227\n",
       "std          0.008809\n",
       "min          0.000131\n",
       "25%          0.000131\n",
       "50%          0.000131\n",
       "75%          0.000394\n",
       "max          0.876576\n",
       "Name: appears_in_pct, dtype: float64"
      ]
     },
     "execution_count": 254,
     "metadata": {},
     "output_type": "execute_result"
    }
   ],
   "source": [
    "# Statistical description of appears_in_pct\n",
    "\n",
    "wc['appears_in_pct'].describe()"
   ]
  },
  {
   "cell_type": "code",
   "execution_count": 255,
   "metadata": {},
   "outputs": [
    {
     "data": {
      "image/png": "[encoded data removed]",
      "text/plain": [
       "<Figure size 432x288 with 1 Axes>"
      ]
     },
     "metadata": {},
     "output_type": "display_data"
    }
   ],
   "source": [
    "# Frequency of appearances in documents\n",
    "\n",
    "sns.distplot(wc['appears_in_pct']);"
   ]
  },
  {
   "cell_type": "code",
   "execution_count": 256,
   "metadata": {},
   "outputs": [
    {
     "data": {
      "image/png": "[encoded data removed]",
      "text/plain": [
       "<Figure size 432x288 with 1 Axes>"
      ]
     },
     "metadata": {},
     "output_type": "display_data"
    }
   ],
   "source": [
    "# Tree-Map w/ words that appear in at least 2.5% of documents\n",
    "\n",
    "wc = wc[wc['appears_in_pct'] >= 0.025]\n",
    "\n",
    "sns.distplot(wc['appears_in_pct']);"
   ]
  },
  {
   "cell_type": "code",
   "execution_count": 257,
   "metadata": {},
   "outputs": [
    {
     "name": "stdout",
     "output_type": "stream",
     "text": [
      "<class 'set'>\n"
     ]
    }
   ],
   "source": [
    "# Explore stop words\n",
    "\n",
    "print(type(nlp.Defaults.stop_words))"
   ]
  },
  {
   "cell_type": "code",
   "execution_count": 258,
   "metadata": {},
   "outputs": [],
   "source": [
    "# Extending stop words\n",
    "\n",
    "STOP_WORDS = nlp.Defaults.stop_words.union([\" \", \"coffee\", \"coffee.\", \"place\", \"check-in\", \"check-ins\", \"1\", \"  \", \"i'm\", \"i've\", \"got\", \"it's\", \"-\", \"austin\",])"
   ]
  },
  {
   "cell_type": "code",
   "execution_count": 259,
   "metadata": {},
   "outputs": [
    {
     "data": {
      "text/plain": [
       "{' ',\n",
       " '  ',\n",
       " \"'d\",\n",
       " \"'ll\",\n",
       " \"'m\",\n",
       " \"'re\",\n",
       " \"'s\",\n",
       " \"'ve\",\n",
       " '-',\n",
       " '1',\n",
       " 'a',\n",
       " 'about',\n",
       " 'above',\n",
       " 'across',\n",
       " 'after',\n",
       " 'afterwards',\n",
       " 'again',\n",
       " 'against',\n",
       " 'all',\n",
       " 'almost',\n",
       " 'alone',\n",
       " 'along',\n",
       " 'already',\n",
       " 'also',\n",
       " 'although',\n",
       " 'always',\n",
       " 'am',\n",
       " 'among',\n",
       " 'amongst',\n",
       " 'amount',\n",
       " 'an',\n",
       " 'and',\n",
       " 'another',\n",
       " 'any',\n",
       " 'anyhow',\n",
       " 'anyone',\n",
       " 'anything',\n",
       " 'anyway',\n",
       " 'anywhere',\n",
       " 'are',\n",
       " 'around',\n",
       " 'as',\n",
       " 'at',\n",
       " 'austin',\n",
       " 'back',\n",
       " 'be',\n",
       " 'became',\n",
       " 'because',\n",
       " 'become',\n",
       " 'becomes',\n",
       " 'becoming',\n",
       " 'been',\n",
       " 'before',\n",
       " 'beforehand',\n",
       " 'behind',\n",
       " 'being',\n",
       " 'below',\n",
       " 'beside',\n",
       " 'besides',\n",
       " 'between',\n",
       " 'beyond',\n",
       " 'both',\n",
       " 'bottom',\n",
       " 'but',\n",
       " 'by',\n",
       " 'ca',\n",
       " 'call',\n",
       " 'can',\n",
       " 'cannot',\n",
       " 'check-in',\n",
       " 'check-ins',\n",
       " 'coffee',\n",
       " 'coffee.',\n",
       " 'could',\n",
       " 'did',\n",
       " 'do',\n",
       " 'does',\n",
       " 'doing',\n",
       " 'done',\n",
       " 'down',\n",
       " 'due',\n",
       " 'during',\n",
       " 'each',\n",
       " 'eight',\n",
       " 'either',\n",
       " 'eleven',\n",
       " 'else',\n",
       " 'elsewhere',\n",
       " 'empty',\n",
       " 'enough',\n",
       " 'even',\n",
       " 'ever',\n",
       " 'every',\n",
       " 'everyone',\n",
       " 'everything',\n",
       " 'everywhere',\n",
       " 'except',\n",
       " 'few',\n",
       " 'fifteen',\n",
       " 'fifty',\n",
       " 'first',\n",
       " 'five',\n",
       " 'for',\n",
       " 'former',\n",
       " 'formerly',\n",
       " 'forty',\n",
       " 'four',\n",
       " 'from',\n",
       " 'front',\n",
       " 'full',\n",
       " 'further',\n",
       " 'get',\n",
       " 'give',\n",
       " 'go',\n",
       " 'got',\n",
       " 'had',\n",
       " 'has',\n",
       " 'have',\n",
       " 'he',\n",
       " 'hence',\n",
       " 'her',\n",
       " 'here',\n",
       " 'hereafter',\n",
       " 'hereby',\n",
       " 'herein',\n",
       " 'hereupon',\n",
       " 'hers',\n",
       " 'herself',\n",
       " 'him',\n",
       " 'himself',\n",
       " 'his',\n",
       " 'how',\n",
       " 'however',\n",
       " 'hundred',\n",
       " 'i',\n",
       " \"i'm\",\n",
       " \"i've\",\n",
       " 'if',\n",
       " 'in',\n",
       " 'indeed',\n",
       " 'into',\n",
       " 'is',\n",
       " 'it',\n",
       " \"it's\",\n",
       " 'its',\n",
       " 'itself',\n",
       " 'just',\n",
       " 'keep',\n",
       " 'last',\n",
       " 'latter',\n",
       " 'latterly',\n",
       " 'least',\n",
       " 'less',\n",
       " 'made',\n",
       " 'make',\n",
       " 'many',\n",
       " 'may',\n",
       " 'me',\n",
       " 'meanwhile',\n",
       " 'might',\n",
       " 'mine',\n",
       " 'more',\n",
       " 'moreover',\n",
       " 'most',\n",
       " 'mostly',\n",
       " 'move',\n",
       " 'much',\n",
       " 'must',\n",
       " 'my',\n",
       " 'myself',\n",
       " \"n't\",\n",
       " 'name',\n",
       " 'namely',\n",
       " 'neither',\n",
       " 'never',\n",
       " 'nevertheless',\n",
       " 'next',\n",
       " 'nine',\n",
       " 'no',\n",
       " 'nobody',\n",
       " 'none',\n",
       " 'noone',\n",
       " 'nor',\n",
       " 'not',\n",
       " 'nothing',\n",
       " 'now',\n",
       " 'nowhere',\n",
       " 'n‘t',\n",
       " 'n’t',\n",
       " 'of',\n",
       " 'off',\n",
       " 'often',\n",
       " 'on',\n",
       " 'once',\n",
       " 'one',\n",
       " 'only',\n",
       " 'onto',\n",
       " 'or',\n",
       " 'other',\n",
       " 'others',\n",
       " 'otherwise',\n",
       " 'our',\n",
       " 'ours',\n",
       " 'ourselves',\n",
       " 'out',\n",
       " 'over',\n",
       " 'own',\n",
       " 'part',\n",
       " 'per',\n",
       " 'perhaps',\n",
       " 'place',\n",
       " 'please',\n",
       " 'put',\n",
       " 'quite',\n",
       " 'rather',\n",
       " 're',\n",
       " 'really',\n",
       " 'regarding',\n",
       " 'same',\n",
       " 'say',\n",
       " 'see',\n",
       " 'seem',\n",
       " 'seemed',\n",
       " 'seeming',\n",
       " 'seems',\n",
       " 'serious',\n",
       " 'several',\n",
       " 'she',\n",
       " 'should',\n",
       " 'show',\n",
       " 'side',\n",
       " 'since',\n",
       " 'six',\n",
       " 'sixty',\n",
       " 'so',\n",
       " 'some',\n",
       " 'somehow',\n",
       " 'someone',\n",
       " 'something',\n",
       " 'sometime',\n",
       " 'sometimes',\n",
       " 'somewhere',\n",
       " 'still',\n",
       " 'such',\n",
       " 'take',\n",
       " 'ten',\n",
       " 'than',\n",
       " 'that',\n",
       " 'the',\n",
       " 'their',\n",
       " 'them',\n",
       " 'themselves',\n",
       " 'then',\n",
       " 'thence',\n",
       " 'there',\n",
       " 'thereafter',\n",
       " 'thereby',\n",
       " 'therefore',\n",
       " 'therein',\n",
       " 'thereupon',\n",
       " 'these',\n",
       " 'they',\n",
       " 'third',\n",
       " 'this',\n",
       " 'those',\n",
       " 'though',\n",
       " 'three',\n",
       " 'through',\n",
       " 'throughout',\n",
       " 'thru',\n",
       " 'thus',\n",
       " 'to',\n",
       " 'together',\n",
       " 'too',\n",
       " 'top',\n",
       " 'toward',\n",
       " 'towards',\n",
       " 'twelve',\n",
       " 'twenty',\n",
       " 'two',\n",
       " 'under',\n",
       " 'unless',\n",
       " 'until',\n",
       " 'up',\n",
       " 'upon',\n",
       " 'us',\n",
       " 'used',\n",
       " 'using',\n",
       " 'various',\n",
       " 'very',\n",
       " 'via',\n",
       " 'was',\n",
       " 'we',\n",
       " 'well',\n",
       " 'were',\n",
       " 'what',\n",
       " 'whatever',\n",
       " 'when',\n",
       " 'whence',\n",
       " 'whenever',\n",
       " 'where',\n",
       " 'whereafter',\n",
       " 'whereas',\n",
       " 'whereby',\n",
       " 'wherein',\n",
       " 'whereupon',\n",
       " 'wherever',\n",
       " 'whether',\n",
       " 'which',\n",
       " 'while',\n",
       " 'whither',\n",
       " 'who',\n",
       " 'whoever',\n",
       " 'whole',\n",
       " 'whom',\n",
       " 'whose',\n",
       " 'why',\n",
       " 'will',\n",
       " 'with',\n",
       " 'within',\n",
       " 'without',\n",
       " 'would',\n",
       " 'yet',\n",
       " 'you',\n",
       " 'your',\n",
       " 'yours',\n",
       " 'yourself',\n",
       " 'yourselves',\n",
       " '‘d',\n",
       " '‘ll',\n",
       " '‘m',\n",
       " '‘re',\n",
       " '‘s',\n",
       " '‘ve',\n",
       " '’d',\n",
       " '’ll',\n",
       " '’m',\n",
       " '’re',\n",
       " '’s',\n",
       " '’ve'}"
      ]
     },
     "execution_count": 259,
     "metadata": {},
     "output_type": "execute_result"
    }
   ],
   "source": [
    "# See stop words\n",
    "\n",
    "STOP_WORDS"
   ]
  },
  {
   "cell_type": "code",
   "execution_count": 260,
   "metadata": {},
   "outputs": [],
   "source": [
    "tokens = []\n",
    "\n",
    "for doc in tokenizer.pipe(shops['full_review_text'], batch_size=500):\n",
    "    \n",
    "    doc_tokens = []\n",
    "    \n",
    "    for token in doc: \n",
    "        if token.text.lower() not in STOP_WORDS:\n",
    "            doc_tokens.append(token.text.lower())\n",
    "   \n",
    "    tokens.append(doc_tokens)\n",
    "    \n",
    "shops['tokens'] = tokens"
   ]
  },
  {
   "cell_type": "code",
   "execution_count": 261,
   "metadata": {},
   "outputs": [
    {
     "data": {
      "image/png": "[encoded data removed]",
      "text/plain": [
       "<Figure size 432x288 with 1 Axes>"
      ]
     },
     "metadata": {},
     "output_type": "display_data"
    }
   ],
   "source": [
    "# Squarify plot of word count ranks\n",
    "\n",
    "wc = count(shops['tokens'])\n",
    "\n",
    "wc_top20 = wc[wc['rank'] <= 20]\n",
    "\n",
    "squarify.plot(sizes=wc_top20['pct_total'], label=wc_top20['word'], alpha=.8 )\n",
    "plt.axis('off')\n",
    "plt.show()\n",
    "\n",
    "# Consider these as stop words:\n",
    "\n",
    "# \"it's\", \"-\", \"austin\","
   ]
  },
  {
   "cell_type": "code",
   "execution_count": 262,
   "metadata": {},
   "outputs": [],
   "source": [
    "# Create good_shops object with rating 4 or better for further analysis\n",
    "\n",
    "good_shops = shops[shops[\"star_rating\"]>=4]"
   ]
  },
  {
   "cell_type": "code",
   "execution_count": 263,
   "metadata": {},
   "outputs": [
    {
     "data": {
      "image/png": "[encoded data removed]",
      "text/plain": [
       "<Figure size 432x288 with 1 Axes>"
      ]
     },
     "metadata": {},
     "output_type": "display_data"
    }
   ],
   "source": [
    "# Squarify plot of good shops word count ranks\n",
    "\n",
    "wc = count(good_shops['tokens'])\n",
    "\n",
    "wc_top20 = wc[wc['rank'] <= 20]\n",
    "\n",
    "squarify.plot(sizes=wc_top20['pct_total'], label=wc_top20['word'], alpha=.8 )\n",
    "plt.axis('off')\n",
    "plt.show()"
   ]
  },
  {
   "cell_type": "code",
   "execution_count": 264,
   "metadata": {},
   "outputs": [],
   "source": [
    "# Create bad_shops object with rating 3 or worse for further analysis\n",
    "\n",
    "bad_shops = shops[shops[\"star_rating\"]<=3]"
   ]
  },
  {
   "cell_type": "code",
   "execution_count": 265,
   "metadata": {},
   "outputs": [
    {
     "data": {
      "image/png": "[encoded data removed]",
      "text/plain": [
       "<Figure size 432x288 with 1 Axes>"
      ]
     },
     "metadata": {},
     "output_type": "display_data"
    }
   ],
   "source": [
    "# Squarify plot of bad shops word count ranks\n",
    "\n",
    "wc = count(bad_shops['tokens'])\n",
    "\n",
    "wc_top20 = wc[wc['rank'] <= 20]\n",
    "\n",
    "squarify.plot(sizes=wc_top20['pct_total'], label=wc_top20['word'], alpha=.8 )\n",
    "plt.axis('off')\n",
    "plt.show()"
   ]
  },
  {
   "cell_type": "code",
   "execution_count": 266,
   "metadata": {},
   "outputs": [
    {
     "data": {
      "text/plain": [
       "[('great', 2902),\n",
       " ('good', 2180),\n",
       " ('like', 2068),\n",
       " ('love', 1604),\n",
       " ('little', 1230),\n",
       " ('nice', 1101),\n",
       " ('best', 1093),\n",
       " ('friendly', 1014),\n",
       " ('definitely', 1002),\n",
       " ('food', 994),\n",
       " ('time', 994),\n",
       " ('pretty', 990),\n",
       " (\"don't\", 965),\n",
       " ('latte', 949),\n",
       " ('shop', 910),\n",
       " ('come', 908),\n",
       " ('people', 896),\n",
       " ('iced', 879),\n",
       " ('try', 867),\n",
       " ('tea', 801),\n",
       " ('work', 790),\n",
       " ('staff', 788),\n",
       " ('super', 767),\n",
       " ('parking', 745),\n",
       " ('breakfast', 717),\n",
       " ('coffee,', 702),\n",
       " ('seating', 678),\n",
       " ('delicious', 664),\n",
       " ('&', 661),\n",
       " ('favorite', 632),\n",
       " ('it.', 621),\n",
       " (\"you're\", 607),\n",
       " ('service', 599),\n",
       " ('drink', 595),\n",
       " ('ordered', 585),\n",
       " ('small', 584),\n",
       " ('know', 582),\n",
       " ('lot', 577),\n",
       " ('spot', 573),\n",
       " ('want', 572),\n",
       " ('think', 556),\n",
       " ('perfect', 555),\n",
       " ('sweet', 552),\n",
       " ('bit', 538),\n",
       " ('came', 538),\n",
       " ('2', 537),\n",
       " ('drinks', 535),\n",
       " ('gelato', 529),\n",
       " ('cream', 522),\n",
       " ('milk', 519)]"
      ]
     },
     "execution_count": 266,
     "metadata": {},
     "output_type": "execute_result"
    }
   ],
   "source": [
    "# Count the good words from the good_shops\n",
    "\n",
    "good_word_counts = Counter()\n",
    "\n",
    "good_shops['tokens'].apply(lambda x: good_word_counts.update(x))\n",
    "\n",
    "# Print out the 50 most common words\n",
    "\n",
    "good_word_counts.most_common(50)"
   ]
  },
  {
   "cell_type": "code",
   "execution_count": 267,
   "metadata": {},
   "outputs": [
    {
     "data": {
      "text/plain": [
       "[('like', 834),\n",
       " ('good', 599),\n",
       " (\"don't\", 430),\n",
       " ('food', 369),\n",
       " ('time', 351),\n",
       " ('pretty', 349),\n",
       " ('great', 348),\n",
       " ('people', 327),\n",
       " ('service', 314),\n",
       " ('ordered', 296),\n",
       " (\"didn't\", 292),\n",
       " ('come', 285),\n",
       " ('nice', 267),\n",
       " ('order', 253),\n",
       " ('little', 249),\n",
       " ('it.', 232),\n",
       " ('drink', 222),\n",
       " ('came', 214),\n",
       " ('shop', 205),\n",
       " (\"wasn't\", 204),\n",
       " ('love', 202),\n",
       " ('work', 201),\n",
       " ('know', 196),\n",
       " ('asked', 194),\n",
       " ('think', 186),\n",
       " ('better', 184),\n",
       " ('want', 184),\n",
       " ('coffee,', 183),\n",
       " ('drinks', 181),\n",
       " ('going', 180),\n",
       " (\"you're\", 179),\n",
       " ('small', 177),\n",
       " ('try', 175),\n",
       " ('latte', 175),\n",
       " ('went', 174),\n",
       " ('staff', 173),\n",
       " ('tea', 171),\n",
       " ('barista', 167),\n",
       " ('parking', 167),\n",
       " ('iced', 165),\n",
       " ('maybe', 162),\n",
       " ('bit', 156),\n",
       " ('said', 156),\n",
       " ('way', 153),\n",
       " ('definitely', 152),\n",
       " ('customer', 152),\n",
       " ('espresso', 151),\n",
       " ('lot', 150),\n",
       " ('breakfast', 148),\n",
       " ('taste', 145)]"
      ]
     },
     "execution_count": 267,
     "metadata": {},
     "output_type": "execute_result"
    }
   ],
   "source": [
    "# Count the bad words from the bad_shops\n",
    "\n",
    "bad_word_counts = Counter()\n",
    "\n",
    "bad_shops['tokens'].apply(lambda x: bad_word_counts.update(x))\n",
    "\n",
    "# Print out the 50 most common words\n",
    "\n",
    "bad_word_counts.most_common(50)"
   ]
  },
  {
   "cell_type": "markdown",
   "metadata": {},
   "source": [
    "## Can we visualize the words with the greatest difference in counts between 'good' & 'bad'?\n",
    "\n",
    "Couple Notes: \n",
    "- Rel. freq. instead of absolute counts b/c of different numbers of reviews\n",
    "- Only look at the top 5-10 words with the greatest differences\n"
   ]
  },
  {
   "cell_type": "code",
   "execution_count": 268,
   "metadata": {},
   "outputs": [],
   "source": [
    "# Get items to return a tuple of lookup values\n",
    "\n",
    "import operator\n",
    "\n",
    "good_words = sorted(good_word_counts.items(), key=operator.itemgetter(1),reverse=True)"
   ]
  },
  {
   "cell_type": "code",
   "execution_count": 269,
   "metadata": {},
   "outputs": [],
   "source": [
    "# Get items to return a tuple of lookup values\n",
    "\n",
    "bad_words = sorted(bad_word_counts.items(), key=operator.itemgetter(1),reverse=True)"
   ]
  },
  {
   "cell_type": "code",
   "execution_count": 270,
   "metadata": {},
   "outputs": [],
   "source": [
    "# Make objects for top 10 good words\n",
    "\n",
    "good_words = good_words[:10]"
   ]
  },
  {
   "cell_type": "code",
   "execution_count": 271,
   "metadata": {},
   "outputs": [],
   "source": [
    "# Make objects for top 10 bad words\n",
    "\n",
    "bad_words = bad_words[:10]"
   ]
  },
  {
   "cell_type": "code",
   "execution_count": 272,
   "metadata": {},
   "outputs": [],
   "source": [
    "# Pair good words with values for plot\n",
    "\n",
    "good_word = []\n",
    "good_value = []\n",
    "\n",
    "for pair in good_words:\n",
    "    good_word.append(pair[0])\n",
    "    good_value.append(pair[1])"
   ]
  },
  {
   "cell_type": "code",
   "execution_count": 273,
   "metadata": {},
   "outputs": [],
   "source": [
    "# Pair bad words with values for plot\n",
    "\n",
    "bad_word = []\n",
    "bad_value = []\n",
    "\n",
    "for pair in bad_words:\n",
    "    bad_word.append(pair[0])\n",
    "    bad_value.append(pair[1])"
   ]
  },
  {
   "cell_type": "code",
   "execution_count": 300,
   "metadata": {},
   "outputs": [
    {
     "data": {
      "image/png": "[encoded data removed]",
      "text/plain": [
       "<Figure size 432x288 with 1 Axes>"
      ]
     },
     "metadata": {},
     "output_type": "display_data"
    }
   ],
   "source": [
    "# Plot good words\n",
    "\n",
    "import seaborn as sns\n",
    "sns.set(style=\"whitegrid\")\n",
    "ax = sns.barplot(y=good_word, x=good_value)"
   ]
  },
  {
   "cell_type": "code",
   "execution_count": 275,
   "metadata": {},
   "outputs": [
    {
     "data": {
      "image/png": "[encoded data removed]",
      "text/plain": [
       "<Figure size 432x288 with 1 Axes>"
      ]
     },
     "metadata": {},
     "output_type": "display_data"
    }
   ],
   "source": [
    "# Plot bad words\n",
    "\n",
    "sns.set(style=\"darkgrid\")\n",
    "ax = sns.barplot(y=bad_word, x=bad_value)"
   ]
  },
  {
   "cell_type": "code",
   "execution_count": 276,
   "metadata": {},
   "outputs": [
    {
     "data": {
      "text/plain": [
       "5    3780\n",
       "4    2360\n",
       "3     738\n",
       "2     460\n",
       "1     278\n",
       "Name: star_rating, dtype: int64"
      ]
     },
     "execution_count": 276,
     "metadata": {},
     "output_type": "execute_result"
    }
   ],
   "source": [
    "# Count of how many reviews of each rating, again\n",
    "\n",
    "shops['star_rating'].value_counts()"
   ]
  },
  {
   "cell_type": "code",
   "execution_count": 280,
   "metadata": {},
   "outputs": [
    {
     "data": {
      "text/plain": [
       "6140"
      ]
     },
     "execution_count": 280,
     "metadata": {},
     "output_type": "execute_result"
    }
   ],
   "source": [
    "# Total good reviews\n",
    "\n",
    "good_review_count = 3780+2360\n",
    "good_review_count"
   ]
  },
  {
   "cell_type": "code",
   "execution_count": 281,
   "metadata": {},
   "outputs": [
    {
     "data": {
      "text/plain": [
       "1485"
      ]
     },
     "execution_count": 281,
     "metadata": {},
     "output_type": "execute_result"
    }
   ],
   "source": [
    "# Total bad reviews\n",
    "\n",
    "bad_review_count = 738+460+287\n",
    "bad_review_count"
   ]
  },
  {
   "cell_type": "code",
   "execution_count": 286,
   "metadata": {},
   "outputs": [
    {
     "data": {
      "text/plain": [
       "7625"
      ]
     },
     "execution_count": 286,
     "metadata": {},
     "output_type": "execute_result"
    }
   ],
   "source": [
    "# Total reviews\n",
    "\n",
    "total_reviews = good_review_count + bad_review_count\n",
    "total_reviews"
   ]
  },
  {
   "cell_type": "code",
   "execution_count": 295,
   "metadata": {},
   "outputs": [
    {
     "data": {
      "text/plain": [
       "0.8052459016393443"
      ]
     },
     "execution_count": 295,
     "metadata": {},
     "output_type": "execute_result"
    }
   ],
   "source": [
    "# Good word ratio to total number of good reviews\n",
    "\n",
    "good_ratio = good_review_count/total_reviews\n",
    "good_ratio"
   ]
  },
  {
   "cell_type": "code",
   "execution_count": 305,
   "metadata": {},
   "outputs": [
    {
     "name": "stdout",
     "output_type": "stream",
     "text": [
      "[2336.823606557377, 1755.4360655737705, 1665.248524590164, 1291.6144262295081, 990.4524590163935, 886.5757377049181, 880.1337704918033, 816.5193442622951, 806.856393442623, 800.4144262295082]\n"
     ]
    }
   ],
   "source": [
    "# Good word relative frequency to total number of reviews\n",
    "\n",
    "good_rel_freq_val = [i * good_ratio for i in good_value]\n",
    "print(good_rel_freq_val)"
   ]
  },
  {
   "cell_type": "code",
   "execution_count": 306,
   "metadata": {},
   "outputs": [
    {
     "data": {
      "text/plain": [
       "0.19475409836065574"
      ]
     },
     "execution_count": 306,
     "metadata": {},
     "output_type": "execute_result"
    }
   ],
   "source": [
    "# Bad word ratio to total number of good reviews\n",
    "\n",
    "bad_ratio = bad_review_count/total_reviews\n",
    "bad_ratio"
   ]
  },
  {
   "cell_type": "code",
   "execution_count": 307,
   "metadata": {},
   "outputs": [
    {
     "name": "stdout",
     "output_type": "stream",
     "text": [
      "[162.42491803278688, 116.65770491803279, 83.74426229508197, 71.86426229508197, 68.35868852459016, 67.96918032786886, 67.7744262295082, 63.68459016393443, 61.1527868852459, 57.6472131147541]\n"
     ]
    }
   ],
   "source": [
    "# Bad word relative frequency to total number of reviews\n",
    "\n",
    "bad_rel_freq_val = [i * bad_ratio for i in bad_value]\n",
    "print(bad_rel_freq_val)"
   ]
  },
  {
   "cell_type": "code",
   "execution_count": 308,
   "metadata": {},
   "outputs": [
    {
     "data": {
      "image/png": "[encoded data removed]",
      "text/plain": [
       "<Figure size 432x288 with 1 Axes>"
      ]
     },
     "metadata": {},
     "output_type": "display_data"
    }
   ],
   "source": [
    "# Plot good words with relative frequency\n",
    "\n",
    "sns.set(style=\"whitegrid\")\n",
    "ax = sns.barplot(y=good_word, x=good_rel_freq_val)"
   ]
  },
  {
   "cell_type": "code",
   "execution_count": 310,
   "metadata": {},
   "outputs": [
    {
     "data": {
      "image/png": "[encoded data removed]",
      "text/plain": [
       "<Figure size 432x288 with 1 Axes>"
      ]
     },
     "metadata": {},
     "output_type": "display_data"
    }
   ],
   "source": [
    "# Plot bad words with relative frequency\n",
    "\n",
    "sns.set(style=\"darkgrid\")\n",
    "ax = sns.barplot(y=bad_word, x=bad_rel_freq_val)"
   ]
  },
  {
   "cell_type": "code",
   "execution_count": 314,
   "metadata": {},
   "outputs": [
    {
     "data": {
      "text/plain": [
       "{'best', 'definitely', 'friendly', 'little', 'love', 'nice'}"
      ]
     },
     "execution_count": 314,
     "metadata": {},
     "output_type": "execute_result"
    }
   ],
   "source": [
    "# Predominately good words\n",
    "\n",
    "predom_good_words = set(good_word) - set(bad_word)\n",
    "predom_good_words"
   ]
  },
  {
   "cell_type": "code",
   "execution_count": 315,
   "metadata": {},
   "outputs": [
    {
     "data": {
      "text/plain": [
       "{\"don't\", 'ordered', 'people', 'pretty', 'service', 'time'}"
      ]
     },
     "execution_count": 315,
     "metadata": {},
     "output_type": "execute_result"
    }
   ],
   "source": [
    "# Predominately bad words\n",
    "\n",
    "predom_bad_words = set(bad_word) - set(good_word)\n",
    "predom_bad_words"
   ]
  },
  {
   "cell_type": "markdown",
   "metadata": {
    "colab_type": "text",
    "id": "1dCb1q8XphcP",
    "toc-hr-collapsed": true
   },
   "source": [
    "## Stretch Goals\n",
    "\n",
    "* Analyze another corpus of documents - such as Indeed.com job listings ;).\n",
    "* Play with the Spacy API to\n",
    " - Extract Named Entities\n",
    " - Extracting 'noun chunks'\n",
    " - Attempt Document Classification with just Spacy\n",
    " - *Note:* This [course](https://course.spacy.io/) will be of interesting in helping you with these stretch goals. \n",
    "* Try to build a plotly dash app with your text data \n",
    "\n"
   ]
  },
  {
   "cell_type": "code",
   "execution_count": null,
   "metadata": {},
   "outputs": [],
   "source": [
    "# Okay, I will try"
   ]
  }
 ],
 "metadata": {
  "colab": {
   "collapsed_sections": [],
   "name": "LS_DS_421_Text_Data_Assignment.ipynb",
   "provenance": [],
   "version": "0.3.2"
  },
  "kernelspec": {
   "display_name": "Python 3",
   "language": "python",
   "name": "python3"
  },
  "language_info": {
   "codemirror_mode": {
    "name": "ipython",
    "version": 3
   },
   "file_extension": ".py",
   "mimetype": "text/x-python",
   "name": "python",
   "nbconvert_exporter": "python",
   "pygments_lexer": "ipython3",
   "version": "3.8.3"
  },
  "toc-autonumbering": false
 },
 "nbformat": 4,
 "nbformat_minor": 4
}
