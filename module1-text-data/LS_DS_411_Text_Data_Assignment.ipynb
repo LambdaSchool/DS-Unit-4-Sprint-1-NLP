{
 "cells": [
  {
   "cell_type": "markdown",
   "metadata": {},
   "source": [
    "<img align=\"left\" src=\"https://lever-client-logos.s3.amazonaws.com/864372b1-534c-480e-acd5-9711f850815c-1524247202159.png\" width=200>\n",
    "<br></br>\n",
    "<br></br>\n",
    "\n",
    "# Natural Language Processing (NLP)\n",
    "## *Data Science Unit 4 Sprint 1 Assignment 1*\n",
    "\n",
    "Your goal in this assignment: find the attributes of the best & worst coffee shops in the dataset. The text is fairly raw: dates in the review, extra words in the `star_rating` column, etc. You'll probably want to clean that stuff up for a better analysis. \n",
    "\n",
    "Analyze the corpus of text using text visualizations of token frequency. Try cleaning the data as much as possible. Try the following techniques: \n",
    "- Lemmatization\n",
    "- Custom stopword removal\n",
    "\n",
    "Keep in mind the attributes of good tokens. Once you have a solid baseline, layer in the star rating in your visualization(s). Key part of this assignment - produce a write-up of the attributes of the best and worst coffee shops. Based on your analysis, what makes the best the best and the worst the worst. Use graphs and numbesr from your analysis to support your conclusions. There should be plenty of markdown cells! :coffee:"
   ]
  },
  {
   "cell_type": "code",
   "execution_count": 33,
   "metadata": {},
   "outputs": [
    {
     "data": {
      "image/jpeg": "[encoded data removed]",
      "text/html": [
       "\n",
       "        <iframe\n",
       "            width=\"400\"\n",
       "            height=\"300\"\n",
       "            src=\"https://www.youtube.com/embed/Jml7NVYm8cs\"\n",
       "            frameborder=\"0\"\n",
       "            allowfullscreen\n",
       "        ></iframe>\n",
       "        "
      ],
      "text/plain": [
       "<IPython.lib.display.YouTubeVideo at 0x24562666390>"
      ]
     },
     "execution_count": 33,
     "metadata": {},
     "output_type": "execute_result"
    }
   ],
   "source": [
    "from IPython.display import YouTubeVideo\n",
    "\n",
    "YouTubeVideo('Jml7NVYm8cs')"
   ]
  },
  {
   "cell_type": "code",
   "execution_count": 34,
   "metadata": {},
   "outputs": [
    {
     "data": {
      "text/plain": [
       "'C:\\\\Users\\\\timro\\\\Documents\\\\Github\\\\DS-Unit-4-Sprint-1-NLP\\\\module1-text-data'"
      ]
     },
     "execution_count": 34,
     "metadata": {},
     "output_type": "execute_result"
    }
   ],
   "source": [
    "%pwd"
   ]
  },
  {
   "cell_type": "code",
   "execution_count": 35,
   "metadata": {},
   "outputs": [
    {
     "data": {
      "text/html": [
       "<div>\n",
       "<style scoped>\n",
       "    .dataframe tbody tr th:only-of-type {\n",
       "        vertical-align: middle;\n",
       "    }\n",
       "\n",
       "    .dataframe tbody tr th {\n",
       "        vertical-align: top;\n",
       "    }\n",
       "\n",
       "    .dataframe thead th {\n",
       "        text-align: right;\n",
       "    }\n",
       "</style>\n",
       "<table border=\"1\" class=\"dataframe\">\n",
       "  <thead>\n",
       "    <tr style=\"text-align: right;\">\n",
       "      <th></th>\n",
       "      <th>coffee_shop_name</th>\n",
       "      <th>full_review_text</th>\n",
       "      <th>star_rating</th>\n",
       "    </tr>\n",
       "  </thead>\n",
       "  <tbody>\n",
       "    <tr>\n",
       "      <th>0</th>\n",
       "      <td>The Factory - Cafe With a Soul</td>\n",
       "      <td>11/25/2016 1 check-in Love love loved the atm...</td>\n",
       "      <td>5.0 star rating</td>\n",
       "    </tr>\n",
       "    <tr>\n",
       "      <th>1</th>\n",
       "      <td>The Factory - Cafe With a Soul</td>\n",
       "      <td>12/2/2016 Listed in Date Night: Austin, Ambia...</td>\n",
       "      <td>4.0 star rating</td>\n",
       "    </tr>\n",
       "    <tr>\n",
       "      <th>2</th>\n",
       "      <td>The Factory - Cafe With a Soul</td>\n",
       "      <td>11/30/2016 1 check-in Listed in Brunch Spots ...</td>\n",
       "      <td>4.0 star rating</td>\n",
       "    </tr>\n",
       "    <tr>\n",
       "      <th>3</th>\n",
       "      <td>The Factory - Cafe With a Soul</td>\n",
       "      <td>11/25/2016 Very cool decor! Good drinks Nice ...</td>\n",
       "      <td>2.0 star rating</td>\n",
       "    </tr>\n",
       "    <tr>\n",
       "      <th>4</th>\n",
       "      <td>The Factory - Cafe With a Soul</td>\n",
       "      <td>12/3/2016 1 check-in They are located within ...</td>\n",
       "      <td>4.0 star rating</td>\n",
       "    </tr>\n",
       "  </tbody>\n",
       "</table>\n",
       "</div>"
      ],
      "text/plain": [
       "                  coffee_shop_name  \\\n",
       "0  The Factory - Cafe With a Soul    \n",
       "1  The Factory - Cafe With a Soul    \n",
       "2  The Factory - Cafe With a Soul    \n",
       "3  The Factory - Cafe With a Soul    \n",
       "4  The Factory - Cafe With a Soul    \n",
       "\n",
       "                                    full_review_text        star_rating  \n",
       "0   11/25/2016 1 check-in Love love loved the atm...   5.0 star rating   \n",
       "1   12/2/2016 Listed in Date Night: Austin, Ambia...   4.0 star rating   \n",
       "2   11/30/2016 1 check-in Listed in Brunch Spots ...   4.0 star rating   \n",
       "3   11/25/2016 Very cool decor! Good drinks Nice ...   2.0 star rating   \n",
       "4   12/3/2016 1 check-in They are located within ...   4.0 star rating   "
      ]
     },
     "execution_count": 35,
     "metadata": {},
     "output_type": "execute_result"
    }
   ],
   "source": [
    "import pandas as pd\n",
    "\n",
    "url = \"https://raw.githubusercontent.com/LambdaSchool/DS-Unit-4-Sprint-1-NLP/main/module1-text-data/data/yelp_coffeeshop_review_data.csv\"\n",
    "\n",
    "shops = pd.read_csv(url)\n",
    "shops.head()"
   ]
  },
  {
   "cell_type": "code",
   "execution_count": 36,
   "metadata": {},
   "outputs": [
    {
     "data": {
      "text/plain": [
       "coffee_shop_name    object\n",
       "full_review_text    object\n",
       "star_rating         object\n",
       "dtype: object"
      ]
     },
     "execution_count": 36,
     "metadata": {},
     "output_type": "execute_result"
    }
   ],
   "source": [
    "shops.dtypes"
   ]
  },
  {
   "cell_type": "code",
   "execution_count": 37,
   "metadata": {},
   "outputs": [],
   "source": [
    "# Start here "
   ]
  },
  {
   "cell_type": "code",
   "execution_count": 38,
   "metadata": {},
   "outputs": [],
   "source": [
    "import re\n",
    "\n",
    "\n",
    "def cleaning(text):\n",
    "    clean = re.sub(r\"[.,!?']\", r\"/1\", text)\n",
    "    clean = re.sub(\"[^a-zA-Z]+\", r\" \", text)\n",
    "    clean = clean.lower()\n",
    "    \n",
    "    return clean"
   ]
  },
  {
   "cell_type": "code",
   "execution_count": 39,
   "metadata": {},
   "outputs": [],
   "source": [
    "# a cleaner version of the text column\n",
    "shops['clean_text'] = shops['full_review_text'].apply(cleaning)"
   ]
  },
  {
   "cell_type": "code",
   "execution_count": 40,
   "metadata": {},
   "outputs": [
    {
     "data": {
      "text/plain": [
       " 5.0 star rating     3780\n",
       " 4.0 star rating     2360\n",
       " 3.0 star rating      738\n",
       " 2.0 star rating      460\n",
       " 1.0 star rating      278\n",
       "Name: star_rating, dtype: int64"
      ]
     },
     "execution_count": 40,
     "metadata": {},
     "output_type": "execute_result"
    }
   ],
   "source": [
    "#first, I want to remove the ' star rating' from the 'star_rating'column. \n",
    "shops['star_rating'].value_counts()"
   ]
  },
  {
   "cell_type": "code",
   "execution_count": 41,
   "metadata": {},
   "outputs": [],
   "source": [
    "shops['star_rating']= shops.star_rating.str.replace(' star rating', '')"
   ]
  },
  {
   "cell_type": "code",
   "execution_count": 42,
   "metadata": {},
   "outputs": [
    {
     "data": {
      "text/plain": [
       " 5.0     3780\n",
       " 4.0     2360\n",
       " 3.0      738\n",
       " 2.0      460\n",
       " 1.0      278\n",
       "Name: star_rating, dtype: int64"
      ]
     },
     "execution_count": 42,
     "metadata": {},
     "output_type": "execute_result"
    }
   ],
   "source": [
    "shops['star_rating'].value_counts()"
   ]
  },
  {
   "cell_type": "code",
   "execution_count": 43,
   "metadata": {},
   "outputs": [],
   "source": [
    "#Next, I can seperate the words in my 'full_review_text' column in order to iterate over it. "
   ]
  },
  {
   "cell_type": "code",
   "execution_count": 44,
   "metadata": {},
   "outputs": [
    {
     "data": {
      "text/html": [
       "<div>\n",
       "<style scoped>\n",
       "    .dataframe tbody tr th:only-of-type {\n",
       "        vertical-align: middle;\n",
       "    }\n",
       "\n",
       "    .dataframe tbody tr th {\n",
       "        vertical-align: top;\n",
       "    }\n",
       "\n",
       "    .dataframe thead th {\n",
       "        text-align: right;\n",
       "    }\n",
       "</style>\n",
       "<table border=\"1\" class=\"dataframe\">\n",
       "  <thead>\n",
       "    <tr style=\"text-align: right;\">\n",
       "      <th></th>\n",
       "      <th>coffee_shop_name</th>\n",
       "      <th>full_review_text</th>\n",
       "      <th>star_rating</th>\n",
       "      <th>clean_text</th>\n",
       "    </tr>\n",
       "  </thead>\n",
       "  <tbody>\n",
       "    <tr>\n",
       "      <th>0</th>\n",
       "      <td>The Factory - Cafe With a Soul</td>\n",
       "      <td>11/25/2016 1 check-in Love love loved the atm...</td>\n",
       "      <td>5.0</td>\n",
       "      <td>check in love love loved the atmosphere every...</td>\n",
       "    </tr>\n",
       "    <tr>\n",
       "      <th>1</th>\n",
       "      <td>The Factory - Cafe With a Soul</td>\n",
       "      <td>12/2/2016 Listed in Date Night: Austin, Ambia...</td>\n",
       "      <td>4.0</td>\n",
       "      <td>listed in date night austin ambiance in austi...</td>\n",
       "    </tr>\n",
       "    <tr>\n",
       "      <th>2</th>\n",
       "      <td>The Factory - Cafe With a Soul</td>\n",
       "      <td>11/30/2016 1 check-in Listed in Brunch Spots ...</td>\n",
       "      <td>4.0</td>\n",
       "      <td>check in listed in brunch spots i loved the e...</td>\n",
       "    </tr>\n",
       "    <tr>\n",
       "      <th>3</th>\n",
       "      <td>The Factory - Cafe With a Soul</td>\n",
       "      <td>11/25/2016 Very cool decor! Good drinks Nice ...</td>\n",
       "      <td>2.0</td>\n",
       "      <td>very cool decor good drinks nice seating howe...</td>\n",
       "    </tr>\n",
       "    <tr>\n",
       "      <th>4</th>\n",
       "      <td>The Factory - Cafe With a Soul</td>\n",
       "      <td>12/3/2016 1 check-in They are located within ...</td>\n",
       "      <td>4.0</td>\n",
       "      <td>check in they are located within the northcro...</td>\n",
       "    </tr>\n",
       "  </tbody>\n",
       "</table>\n",
       "</div>"
      ],
      "text/plain": [
       "                  coffee_shop_name  \\\n",
       "0  The Factory - Cafe With a Soul    \n",
       "1  The Factory - Cafe With a Soul    \n",
       "2  The Factory - Cafe With a Soul    \n",
       "3  The Factory - Cafe With a Soul    \n",
       "4  The Factory - Cafe With a Soul    \n",
       "\n",
       "                                    full_review_text star_rating  \\\n",
       "0   11/25/2016 1 check-in Love love loved the atm...        5.0    \n",
       "1   12/2/2016 Listed in Date Night: Austin, Ambia...        4.0    \n",
       "2   11/30/2016 1 check-in Listed in Brunch Spots ...        4.0    \n",
       "3   11/25/2016 Very cool decor! Good drinks Nice ...        2.0    \n",
       "4   12/3/2016 1 check-in They are located within ...        4.0    \n",
       "\n",
       "                                          clean_text  \n",
       "0   check in love love loved the atmosphere every...  \n",
       "1   listed in date night austin ambiance in austi...  \n",
       "2   check in listed in brunch spots i loved the e...  \n",
       "3   very cool decor good drinks nice seating howe...  \n",
       "4   check in they are located within the northcro...  "
      ]
     },
     "execution_count": 44,
     "metadata": {},
     "output_type": "execute_result"
    }
   ],
   "source": [
    "shops.head()"
   ]
  },
  {
   "cell_type": "code",
   "execution_count": 45,
   "metadata": {},
   "outputs": [],
   "source": [
    "\"\"\"\n",
    "Import Statements\n",
    "\"\"\"\n",
    "from collections import Counter\n",
    "\n",
    "import pandas as pd\n",
    "\n",
    "# Plotting\n",
    "import squarify\n",
    "import matplotlib.pyplot as plt\n",
    "import seaborn as sns\n",
    "\n",
    "# NLP Libraries\n",
    "import spacy\n",
    "from spacy.tokenizer import Tokenizer\n",
    "from nltk.stem import PorterStemmer\n",
    "\n",
    "nlp = spacy.load(\"en_core_web_lg\")\n",
    "\n",
    "#Tokenizer\n",
    "tokenizer = Tokenizer(nlp.vocab)"
   ]
  },
  {
   "cell_type": "code",
   "execution_count": 46,
   "metadata": {},
   "outputs": [],
   "source": [
    "# Tokenizer Pipe\n",
    "\n",
    "tokens = []\n",
    "\n",
    "\"\"\" Make them tokens \"\"\"\n",
    "for doc in tokenizer.pipe(shops['clean_text'], batch_size=500):\n",
    "    doc_tokens = [token.text for token in doc]\n",
    "    tokens.append(doc_tokens)\n",
    "\n",
    "shops['tokens'] = tokens"
   ]
  },
  {
   "cell_type": "code",
   "execution_count": 47,
   "metadata": {},
   "outputs": [
    {
     "data": {
      "text/html": [
       "<div>\n",
       "<style scoped>\n",
       "    .dataframe tbody tr th:only-of-type {\n",
       "        vertical-align: middle;\n",
       "    }\n",
       "\n",
       "    .dataframe tbody tr th {\n",
       "        vertical-align: top;\n",
       "    }\n",
       "\n",
       "    .dataframe thead th {\n",
       "        text-align: right;\n",
       "    }\n",
       "</style>\n",
       "<table border=\"1\" class=\"dataframe\">\n",
       "  <thead>\n",
       "    <tr style=\"text-align: right;\">\n",
       "      <th></th>\n",
       "      <th>full_review_text</th>\n",
       "      <th>clean_text</th>\n",
       "      <th>tokens</th>\n",
       "    </tr>\n",
       "  </thead>\n",
       "  <tbody>\n",
       "    <tr>\n",
       "      <th>0</th>\n",
       "      <td>11/25/2016 1 check-in Love love loved the atm...</td>\n",
       "      <td>check in love love loved the atmosphere every...</td>\n",
       "      <td>[ , check, in, love, love, loved, the, atmosph...</td>\n",
       "    </tr>\n",
       "    <tr>\n",
       "      <th>1</th>\n",
       "      <td>12/2/2016 Listed in Date Night: Austin, Ambia...</td>\n",
       "      <td>listed in date night austin ambiance in austi...</td>\n",
       "      <td>[ , listed, in, date, night, austin, ambiance,...</td>\n",
       "    </tr>\n",
       "    <tr>\n",
       "      <th>2</th>\n",
       "      <td>11/30/2016 1 check-in Listed in Brunch Spots ...</td>\n",
       "      <td>check in listed in brunch spots i loved the e...</td>\n",
       "      <td>[ , check, in, listed, in, brunch, spots, i, l...</td>\n",
       "    </tr>\n",
       "    <tr>\n",
       "      <th>3</th>\n",
       "      <td>11/25/2016 Very cool decor! Good drinks Nice ...</td>\n",
       "      <td>very cool decor good drinks nice seating howe...</td>\n",
       "      <td>[ , very, cool, decor, good, drinks, nice, sea...</td>\n",
       "    </tr>\n",
       "    <tr>\n",
       "      <th>4</th>\n",
       "      <td>12/3/2016 1 check-in They are located within ...</td>\n",
       "      <td>check in they are located within the northcro...</td>\n",
       "      <td>[ , check, in, they, are, located, within, the...</td>\n",
       "    </tr>\n",
       "    <tr>\n",
       "      <th>5</th>\n",
       "      <td>11/20/2016 1 check-in Very cute cafe! I think...</td>\n",
       "      <td>check in very cute cafe i think from the mome...</td>\n",
       "      <td>[ , check, in, very, cute, cafe, i, think, fro...</td>\n",
       "    </tr>\n",
       "    <tr>\n",
       "      <th>6</th>\n",
       "      <td>10/27/2016 2 check-ins Listed in \"Nuptial Cof...</td>\n",
       "      <td>check ins listed in nuptial coffee bliss ande...</td>\n",
       "      <td>[ , check, ins, listed, in, nuptial, coffee, b...</td>\n",
       "    </tr>\n",
       "    <tr>\n",
       "      <th>7</th>\n",
       "      <td>11/2/2016 2 check-ins Love this place!  5 sta...</td>\n",
       "      <td>check ins love this place stars for cleanline...</td>\n",
       "      <td>[ , check, ins, love, this, place, stars, for,...</td>\n",
       "    </tr>\n",
       "    <tr>\n",
       "      <th>8</th>\n",
       "      <td>10/25/2016 1 check-in Ok, let's try this appr...</td>\n",
       "      <td>check in ok let s try this approach pros musi...</td>\n",
       "      <td>[ , check, in, ok, let, s, try, this, approach...</td>\n",
       "    </tr>\n",
       "    <tr>\n",
       "      <th>9</th>\n",
       "      <td>11/10/2016 3 check-ins This place has been sh...</td>\n",
       "      <td>check ins this place has been shown on my soc...</td>\n",
       "      <td>[ , check, ins, this, place, has, been, shown,...</td>\n",
       "    </tr>\n",
       "  </tbody>\n",
       "</table>\n",
       "</div>"
      ],
      "text/plain": [
       "                                    full_review_text  \\\n",
       "0   11/25/2016 1 check-in Love love loved the atm...   \n",
       "1   12/2/2016 Listed in Date Night: Austin, Ambia...   \n",
       "2   11/30/2016 1 check-in Listed in Brunch Spots ...   \n",
       "3   11/25/2016 Very cool decor! Good drinks Nice ...   \n",
       "4   12/3/2016 1 check-in They are located within ...   \n",
       "5   11/20/2016 1 check-in Very cute cafe! I think...   \n",
       "6   10/27/2016 2 check-ins Listed in \"Nuptial Cof...   \n",
       "7   11/2/2016 2 check-ins Love this place!  5 sta...   \n",
       "8   10/25/2016 1 check-in Ok, let's try this appr...   \n",
       "9   11/10/2016 3 check-ins This place has been sh...   \n",
       "\n",
       "                                          clean_text  \\\n",
       "0   check in love love loved the atmosphere every...   \n",
       "1   listed in date night austin ambiance in austi...   \n",
       "2   check in listed in brunch spots i loved the e...   \n",
       "3   very cool decor good drinks nice seating howe...   \n",
       "4   check in they are located within the northcro...   \n",
       "5   check in very cute cafe i think from the mome...   \n",
       "6   check ins listed in nuptial coffee bliss ande...   \n",
       "7   check ins love this place stars for cleanline...   \n",
       "8   check in ok let s try this approach pros musi...   \n",
       "9   check ins this place has been shown on my soc...   \n",
       "\n",
       "                                              tokens  \n",
       "0  [ , check, in, love, love, loved, the, atmosph...  \n",
       "1  [ , listed, in, date, night, austin, ambiance,...  \n",
       "2  [ , check, in, listed, in, brunch, spots, i, l...  \n",
       "3  [ , very, cool, decor, good, drinks, nice, sea...  \n",
       "4  [ , check, in, they, are, located, within, the...  \n",
       "5  [ , check, in, very, cute, cafe, i, think, fro...  \n",
       "6  [ , check, ins, listed, in, nuptial, coffee, b...  \n",
       "7  [ , check, ins, love, this, place, stars, for,...  \n",
       "8  [ , check, in, ok, let, s, try, this, approach...  \n",
       "9  [ , check, ins, this, place, has, been, shown,...  "
      ]
     },
     "execution_count": 47,
     "metadata": {},
     "output_type": "execute_result"
    }
   ],
   "source": [
    "shops[['full_review_text', 'clean_text', 'tokens']][:10]"
   ]
  },
  {
   "cell_type": "code",
   "execution_count": 48,
   "metadata": {},
   "outputs": [],
   "source": [
    "#lets update tokens using stop words +check check in/ins\n",
    "#second update is\" 's' 'm' 't' \" , not sure how they ade it through"
   ]
  },
  {
   "cell_type": "code",
   "execution_count": 49,
   "metadata": {},
   "outputs": [],
   "source": [
    "STOP_WORDS = nlp.Defaults.stop_words.union(['check', 'listed', 'in', 'ins', 's', 'm', 't', 'coffee', 'place',\n",
    "                                            ' ', 'like', 've', 'shop'])"
   ]
  },
  {
   "cell_type": "code",
   "execution_count": 50,
   "metadata": {},
   "outputs": [],
   "source": [
    "tokens = []\n",
    "\n",
    "for doc in tokenizer.pipe(shops['clean_text'], batch_size=500):\n",
    "    \n",
    "    doc_tokens = []\n",
    "    \n",
    "    for token in doc: \n",
    "        if token.text.lower() not in STOP_WORDS:\n",
    "            doc_tokens.append(token.text.lower())\n",
    "   \n",
    "    tokens.append(doc_tokens)\n",
    "    \n",
    "shops['tokens'] = tokens"
   ]
  },
  {
   "cell_type": "code",
   "execution_count": 51,
   "metadata": {},
   "outputs": [
    {
     "data": {
      "text/html": [
       "<div>\n",
       "<style scoped>\n",
       "    .dataframe tbody tr th:only-of-type {\n",
       "        vertical-align: middle;\n",
       "    }\n",
       "\n",
       "    .dataframe tbody tr th {\n",
       "        vertical-align: top;\n",
       "    }\n",
       "\n",
       "    .dataframe thead th {\n",
       "        text-align: right;\n",
       "    }\n",
       "</style>\n",
       "<table border=\"1\" class=\"dataframe\">\n",
       "  <thead>\n",
       "    <tr style=\"text-align: right;\">\n",
       "      <th></th>\n",
       "      <th>full_review_text</th>\n",
       "      <th>clean_text</th>\n",
       "      <th>tokens</th>\n",
       "    </tr>\n",
       "  </thead>\n",
       "  <tbody>\n",
       "    <tr>\n",
       "      <th>0</th>\n",
       "      <td>11/25/2016 1 check-in Love love loved the atm...</td>\n",
       "      <td>check in love love loved the atmosphere every...</td>\n",
       "      <td>[love, love, loved, atmosphere, corner, style,...</td>\n",
       "    </tr>\n",
       "    <tr>\n",
       "      <th>1</th>\n",
       "      <td>12/2/2016 Listed in Date Night: Austin, Ambia...</td>\n",
       "      <td>listed in date night austin ambiance in austi...</td>\n",
       "      <td>[date, night, austin, ambiance, austin, beauti...</td>\n",
       "    </tr>\n",
       "    <tr>\n",
       "      <th>2</th>\n",
       "      <td>11/30/2016 1 check-in Listed in Brunch Spots ...</td>\n",
       "      <td>check in listed in brunch spots i loved the e...</td>\n",
       "      <td>[brunch, spots, loved, eclectic, homey, plush,...</td>\n",
       "    </tr>\n",
       "    <tr>\n",
       "      <th>3</th>\n",
       "      <td>11/25/2016 Very cool decor! Good drinks Nice ...</td>\n",
       "      <td>very cool decor good drinks nice seating howe...</td>\n",
       "      <td>[cool, decor, good, drinks, nice, seating, ove...</td>\n",
       "    </tr>\n",
       "    <tr>\n",
       "      <th>4</th>\n",
       "      <td>12/3/2016 1 check-in They are located within ...</td>\n",
       "      <td>check in they are located within the northcro...</td>\n",
       "      <td>[located, northcross, mall, shopping, center, ...</td>\n",
       "    </tr>\n",
       "    <tr>\n",
       "      <th>5</th>\n",
       "      <td>11/20/2016 1 check-in Very cute cafe! I think...</td>\n",
       "      <td>check in very cute cafe i think from the mome...</td>\n",
       "      <td>[cute, cafe, think, moment, stepped, wasn, did...</td>\n",
       "    </tr>\n",
       "    <tr>\n",
       "      <th>6</th>\n",
       "      <td>10/27/2016 2 check-ins Listed in \"Nuptial Cof...</td>\n",
       "      <td>check ins listed in nuptial coffee bliss ande...</td>\n",
       "      <td>[nuptial, bliss, anderson, lane, new, black, o...</td>\n",
       "    </tr>\n",
       "    <tr>\n",
       "      <th>7</th>\n",
       "      <td>11/2/2016 2 check-ins Love this place!  5 sta...</td>\n",
       "      <td>check ins love this place stars for cleanline...</td>\n",
       "      <td>[love, stars, cleanliness, stars, fun, ambianc...</td>\n",
       "    </tr>\n",
       "    <tr>\n",
       "      <th>8</th>\n",
       "      <td>10/25/2016 1 check-in Ok, let's try this appr...</td>\n",
       "      <td>check in ok let s try this approach pros musi...</td>\n",
       "      <td>[ok, let, try, approach, pros, music, seating,...</td>\n",
       "    </tr>\n",
       "    <tr>\n",
       "      <th>9</th>\n",
       "      <td>11/10/2016 3 check-ins This place has been sh...</td>\n",
       "      <td>check ins this place has been shown on my soc...</td>\n",
       "      <td>[shown, social, media, days, finally, visited,...</td>\n",
       "    </tr>\n",
       "  </tbody>\n",
       "</table>\n",
       "</div>"
      ],
      "text/plain": [
       "                                    full_review_text  \\\n",
       "0   11/25/2016 1 check-in Love love loved the atm...   \n",
       "1   12/2/2016 Listed in Date Night: Austin, Ambia...   \n",
       "2   11/30/2016 1 check-in Listed in Brunch Spots ...   \n",
       "3   11/25/2016 Very cool decor! Good drinks Nice ...   \n",
       "4   12/3/2016 1 check-in They are located within ...   \n",
       "5   11/20/2016 1 check-in Very cute cafe! I think...   \n",
       "6   10/27/2016 2 check-ins Listed in \"Nuptial Cof...   \n",
       "7   11/2/2016 2 check-ins Love this place!  5 sta...   \n",
       "8   10/25/2016 1 check-in Ok, let's try this appr...   \n",
       "9   11/10/2016 3 check-ins This place has been sh...   \n",
       "\n",
       "                                          clean_text  \\\n",
       "0   check in love love loved the atmosphere every...   \n",
       "1   listed in date night austin ambiance in austi...   \n",
       "2   check in listed in brunch spots i loved the e...   \n",
       "3   very cool decor good drinks nice seating howe...   \n",
       "4   check in they are located within the northcro...   \n",
       "5   check in very cute cafe i think from the mome...   \n",
       "6   check ins listed in nuptial coffee bliss ande...   \n",
       "7   check ins love this place stars for cleanline...   \n",
       "8   check in ok let s try this approach pros musi...   \n",
       "9   check ins this place has been shown on my soc...   \n",
       "\n",
       "                                              tokens  \n",
       "0  [love, love, loved, atmosphere, corner, style,...  \n",
       "1  [date, night, austin, ambiance, austin, beauti...  \n",
       "2  [brunch, spots, loved, eclectic, homey, plush,...  \n",
       "3  [cool, decor, good, drinks, nice, seating, ove...  \n",
       "4  [located, northcross, mall, shopping, center, ...  \n",
       "5  [cute, cafe, think, moment, stepped, wasn, did...  \n",
       "6  [nuptial, bliss, anderson, lane, new, black, o...  \n",
       "7  [love, stars, cleanliness, stars, fun, ambianc...  \n",
       "8  [ok, let, try, approach, pros, music, seating,...  \n",
       "9  [shown, social, media, days, finally, visited,...  "
      ]
     },
     "execution_count": 51,
     "metadata": {},
     "output_type": "execute_result"
    }
   ],
   "source": [
    "shops[['full_review_text', 'clean_text', 'tokens']][:10]"
   ]
  },
  {
   "cell_type": "code",
   "execution_count": 52,
   "metadata": {},
   "outputs": [],
   "source": [
    "# Stemming\n",
    "from nltk.stem import PorterStemmer\n",
    "\n",
    "ps= PorterStemmer()\n",
    "\n",
    "def get_stems(tokens):\n",
    "  return [ps.stem(token) for token in tokens]\n",
    "\n",
    "shops['stems'] =shops['tokens'].apply(get_stems)"
   ]
  },
  {
   "cell_type": "code",
   "execution_count": 53,
   "metadata": {},
   "outputs": [],
   "source": [
    "# WGet lemmas, no dates.\n",
    "def get_lemmas(text):\n",
    "\n",
    "    lemmas = []\n",
    "    \n",
    "    doc = nlp(text)\n",
    "    \n",
    "    # Something goes here :P\n",
    "    for token in doc: \n",
    "        if ((token.is_stop == False) and (token.is_punct == False) and (token.pos_ != 'PRON') and (token.is_alpha ==True)):\n",
    "            lemmas.append(token.lemma_)\n",
    "    \n",
    "    return lemmas"
   ]
  },
  {
   "cell_type": "code",
   "execution_count": 54,
   "metadata": {},
   "outputs": [],
   "source": [
    "shops['lemmas'] = shops['clean_text'].apply(get_lemmas)"
   ]
  },
  {
   "cell_type": "code",
   "execution_count": 55,
   "metadata": {},
   "outputs": [
    {
     "data": {
      "text/html": [
       "<div>\n",
       "<style scoped>\n",
       "    .dataframe tbody tr th:only-of-type {\n",
       "        vertical-align: middle;\n",
       "    }\n",
       "\n",
       "    .dataframe tbody tr th {\n",
       "        vertical-align: top;\n",
       "    }\n",
       "\n",
       "    .dataframe thead th {\n",
       "        text-align: right;\n",
       "    }\n",
       "</style>\n",
       "<table border=\"1\" class=\"dataframe\">\n",
       "  <thead>\n",
       "    <tr style=\"text-align: right;\">\n",
       "      <th></th>\n",
       "      <th>clean_text</th>\n",
       "      <th>tokens</th>\n",
       "      <th>stems</th>\n",
       "      <th>lemmas</th>\n",
       "    </tr>\n",
       "  </thead>\n",
       "  <tbody>\n",
       "    <tr>\n",
       "      <th>0</th>\n",
       "      <td>check in love love loved the atmosphere every...</td>\n",
       "      <td>[love, love, loved, atmosphere, corner, style,...</td>\n",
       "      <td>[love, love, love, atmospher, corner, style, s...</td>\n",
       "      <td>[check, love, love, love, atmosphere, corner, ...</td>\n",
       "    </tr>\n",
       "    <tr>\n",
       "      <th>1</th>\n",
       "      <td>listed in date night austin ambiance in austi...</td>\n",
       "      <td>[date, night, austin, ambiance, austin, beauti...</td>\n",
       "      <td>[date, night, austin, ambianc, austin, beauti,...</td>\n",
       "      <td>[list, date, night, austin, ambiance, austin, ...</td>\n",
       "    </tr>\n",
       "    <tr>\n",
       "      <th>2</th>\n",
       "      <td>check in listed in brunch spots i loved the e...</td>\n",
       "      <td>[brunch, spots, loved, eclectic, homey, plush,...</td>\n",
       "      <td>[brunch, spot, love, eclect, homey, plush, dec...</td>\n",
       "      <td>[check, list, brunch, spot, love, eclectic, ho...</td>\n",
       "    </tr>\n",
       "    <tr>\n",
       "      <th>3</th>\n",
       "      <td>very cool decor good drinks nice seating howe...</td>\n",
       "      <td>[cool, decor, good, drinks, nice, seating, ove...</td>\n",
       "      <td>[cool, decor, good, drink, nice, seat, overpr,...</td>\n",
       "      <td>[cool, decor, good, drink, nice, seating, over...</td>\n",
       "    </tr>\n",
       "    <tr>\n",
       "      <th>4</th>\n",
       "      <td>check in they are located within the northcro...</td>\n",
       "      <td>[located, northcross, mall, shopping, center, ...</td>\n",
       "      <td>[locat, northcross, mall, shop, center, face, ...</td>\n",
       "      <td>[check, locate, northcross, mall, shopping, ce...</td>\n",
       "    </tr>\n",
       "    <tr>\n",
       "      <th>5</th>\n",
       "      <td>check in very cute cafe i think from the mome...</td>\n",
       "      <td>[cute, cafe, think, moment, stepped, wasn, did...</td>\n",
       "      <td>[cute, cafe, think, moment, step, wasn, didn, ...</td>\n",
       "      <td>[check, cute, cafe, think, moment, step, wasn,...</td>\n",
       "    </tr>\n",
       "    <tr>\n",
       "      <th>6</th>\n",
       "      <td>check ins listed in nuptial coffee bliss ande...</td>\n",
       "      <td>[nuptial, bliss, anderson, lane, new, black, o...</td>\n",
       "      <td>[nuptial, bliss, anderson, lane, new, black, o...</td>\n",
       "      <td>[check, in, list, nuptial, coffee, bliss, ande...</td>\n",
       "    </tr>\n",
       "    <tr>\n",
       "      <th>7</th>\n",
       "      <td>check ins love this place stars for cleanline...</td>\n",
       "      <td>[love, stars, cleanliness, stars, fun, ambianc...</td>\n",
       "      <td>[love, star, cleanli, star, fun, ambianc, open...</td>\n",
       "      <td>[check, ins, love, place, star, cleanliness, s...</td>\n",
       "    </tr>\n",
       "    <tr>\n",
       "      <th>8</th>\n",
       "      <td>check in ok let s try this approach pros musi...</td>\n",
       "      <td>[ok, let, try, approach, pros, music, seating,...</td>\n",
       "      <td>[ok, let, tri, approach, pro, music, seat, dec...</td>\n",
       "      <td>[check, ok, let, try, approach, pro, music, se...</td>\n",
       "    </tr>\n",
       "    <tr>\n",
       "      <th>9</th>\n",
       "      <td>check ins this place has been shown on my soc...</td>\n",
       "      <td>[shown, social, media, days, finally, visited,...</td>\n",
       "      <td>[shown, social, media, day, final, visit, cute...</td>\n",
       "      <td>[check, in, place, show, social, medium, day, ...</td>\n",
       "    </tr>\n",
       "  </tbody>\n",
       "</table>\n",
       "</div>"
      ],
      "text/plain": [
       "                                          clean_text  \\\n",
       "0   check in love love loved the atmosphere every...   \n",
       "1   listed in date night austin ambiance in austi...   \n",
       "2   check in listed in brunch spots i loved the e...   \n",
       "3   very cool decor good drinks nice seating howe...   \n",
       "4   check in they are located within the northcro...   \n",
       "5   check in very cute cafe i think from the mome...   \n",
       "6   check ins listed in nuptial coffee bliss ande...   \n",
       "7   check ins love this place stars for cleanline...   \n",
       "8   check in ok let s try this approach pros musi...   \n",
       "9   check ins this place has been shown on my soc...   \n",
       "\n",
       "                                              tokens  \\\n",
       "0  [love, love, loved, atmosphere, corner, style,...   \n",
       "1  [date, night, austin, ambiance, austin, beauti...   \n",
       "2  [brunch, spots, loved, eclectic, homey, plush,...   \n",
       "3  [cool, decor, good, drinks, nice, seating, ove...   \n",
       "4  [located, northcross, mall, shopping, center, ...   \n",
       "5  [cute, cafe, think, moment, stepped, wasn, did...   \n",
       "6  [nuptial, bliss, anderson, lane, new, black, o...   \n",
       "7  [love, stars, cleanliness, stars, fun, ambianc...   \n",
       "8  [ok, let, try, approach, pros, music, seating,...   \n",
       "9  [shown, social, media, days, finally, visited,...   \n",
       "\n",
       "                                               stems  \\\n",
       "0  [love, love, love, atmospher, corner, style, s...   \n",
       "1  [date, night, austin, ambianc, austin, beauti,...   \n",
       "2  [brunch, spot, love, eclect, homey, plush, dec...   \n",
       "3  [cool, decor, good, drink, nice, seat, overpr,...   \n",
       "4  [locat, northcross, mall, shop, center, face, ...   \n",
       "5  [cute, cafe, think, moment, step, wasn, didn, ...   \n",
       "6  [nuptial, bliss, anderson, lane, new, black, o...   \n",
       "7  [love, star, cleanli, star, fun, ambianc, open...   \n",
       "8  [ok, let, tri, approach, pro, music, seat, dec...   \n",
       "9  [shown, social, media, day, final, visit, cute...   \n",
       "\n",
       "                                              lemmas  \n",
       "0  [check, love, love, love, atmosphere, corner, ...  \n",
       "1  [list, date, night, austin, ambiance, austin, ...  \n",
       "2  [check, list, brunch, spot, love, eclectic, ho...  \n",
       "3  [cool, decor, good, drink, nice, seating, over...  \n",
       "4  [check, locate, northcross, mall, shopping, ce...  \n",
       "5  [check, cute, cafe, think, moment, step, wasn,...  \n",
       "6  [check, in, list, nuptial, coffee, bliss, ande...  \n",
       "7  [check, ins, love, place, star, cleanliness, s...  \n",
       "8  [check, ok, let, try, approach, pro, music, se...  \n",
       "9  [check, in, place, show, social, medium, day, ...  "
      ]
     },
     "execution_count": 55,
     "metadata": {},
     "output_type": "execute_result"
    }
   ],
   "source": [
    "shops[['clean_text', 'tokens', 'stems', 'lemmas']][:10]"
   ]
  },
  {
   "cell_type": "markdown",
   "metadata": {},
   "source": [
    "## How do we want to analyze these coffee shop tokens? \n",
    "\n",
    "- Overall Word / Token Count\n",
    "- View Counts by Rating \n",
    "- *Hint:* a 'bad' coffee shops has a rating betweeen 1 & 3 based on the distribution of ratings. A 'good' coffee shop is a 4 or 5. "
   ]
  },
  {
   "cell_type": "code",
   "execution_count": 56,
   "metadata": {},
   "outputs": [],
   "source": [
    "#word count in class\n",
    "def count(docs):\n",
    "\n",
    "        word_counts = Counter()\n",
    "        appears_in = Counter()\n",
    "        \n",
    "        total_docs = len(docs)\n",
    "\n",
    "        for doc in docs:\n",
    "            word_counts.update(doc)\n",
    "            appears_in.update(set(doc))\n",
    "\n",
    "        temp = zip(word_counts.keys(), word_counts.values())\n",
    "        \n",
    "        wc = pd.DataFrame(temp, columns = ['word', 'count'])\n",
    "\n",
    "        wc['rank'] = wc['count'].rank(method='first', ascending=False)\n",
    "        total = wc['count'].sum()\n",
    "\n",
    "        wc['pct_total'] = wc['count'].apply(lambda x: x / total)\n",
    "        \n",
    "        wc = wc.sort_values(by='rank')\n",
    "        wc['cul_pct_total'] = wc['pct_total'].cumsum()\n",
    "\n",
    "        t2 = zip(appears_in.keys(), appears_in.values())\n",
    "        ac = pd.DataFrame(t2, columns=['word', 'appears_in'])\n",
    "        wc = ac.merge(wc, on='word')\n",
    "\n",
    "        wc['appears_in_pct'] = wc['appears_in'].apply(lambda x: x / total_docs)\n",
    "        \n",
    "        return wc.sort_values(by='rank')"
   ]
  },
  {
   "cell_type": "code",
   "execution_count": 57,
   "metadata": {},
   "outputs": [
    {
     "data": {
      "image/png": "[encoded data removed]",
      "text/plain": [
       "<Figure size 432x288 with 1 Axes>"
      ]
     },
     "metadata": {
      "needs_background": "light"
     },
     "output_type": "display_data"
    }
   ],
   "source": [
    "## testing different word/token count methods\n",
    "import squarify\n",
    "import matplotlib.pyplot as plt\n",
    "\n",
    "\n",
    "wc = count(shops['tokens'])\n",
    "wc_top20 = wc[wc['rank'] <= 20]\n",
    "\n",
    "squarify.plot(sizes=wc_top20['pct_total'], label=wc_top20['word'], alpha=.8 )\n",
    "plt.axis('off')\n",
    "plt.show()\n"
   ]
  },
  {
   "cell_type": "code",
   "execution_count": 58,
   "metadata": {},
   "outputs": [],
   "source": [
    "#interesting... white space left in somehow?"
   ]
  },
  {
   "cell_type": "code",
   "execution_count": 59,
   "metadata": {},
   "outputs": [
    {
     "data": {
      "image/png": "[encoded data removed]",
      "text/plain": [
       "<Figure size 432x288 with 1 Axes>"
      ]
     },
     "metadata": {
      "needs_background": "light"
     },
     "output_type": "display_data"
    }
   ],
   "source": [
    "#stems\n",
    "wc = count(shops['stems'])\n",
    "wc_top20 = wc[wc['rank'] <= 20]\n",
    "\n",
    "squarify.plot(sizes=wc_top20['pct_total'], label=wc_top20['word'], alpha=.8 )\n",
    "plt.axis('off')\n",
    "plt.show()"
   ]
  },
  {
   "cell_type": "code",
   "execution_count": 60,
   "metadata": {},
   "outputs": [
    {
     "data": {
      "image/png": "[encoded data removed]",
      "text/plain": [
       "<Figure size 432x288 with 1 Axes>"
      ]
     },
     "metadata": {
      "needs_background": "light"
     },
     "output_type": "display_data"
    }
   ],
   "source": [
    "#lemmas\n",
    "wc = count(shops['lemmas'])\n",
    "wc_top20 = wc[wc['rank'] <= 20]\n",
    "\n",
    "squarify.plot(sizes=wc_top20['pct_total'], label=wc_top20['word'], alpha=.8 )\n",
    "plt.axis('off')\n",
    "plt.show()"
   ]
  },
  {
   "cell_type": "code",
   "execution_count": 61,
   "metadata": {},
   "outputs": [],
   "source": [
    "shops['star_rating']= shops['star_rating'].astype(float)"
   ]
  },
  {
   "cell_type": "code",
   "execution_count": 62,
   "metadata": {},
   "outputs": [],
   "source": [
    "bad_shops = shops[shops['star_rating'] <= 3]\n",
    "good_shops = shops[shops['star_rating'] > 3]"
   ]
  },
  {
   "cell_type": "code",
   "execution_count": 63,
   "metadata": {},
   "outputs": [
    {
     "data": {
      "image/png": "[encoded data removed]",
      "text/plain": [
       "<Figure size 432x288 with 1 Axes>"
      ]
     },
     "metadata": {
      "needs_background": "light"
     },
     "output_type": "display_data"
    }
   ],
   "source": [
    "#tokens for good\n",
    "wc = count(good_shops['tokens'])\n",
    "wc_top20 = wc[wc['rank'] <= 20]\n",
    "\n",
    "squarify.plot(sizes=wc_top20['pct_total'], label=wc_top20['word'], alpha=.8 )\n",
    "plt.axis('off')\n",
    "plt.show()\n"
   ]
  },
  {
   "cell_type": "code",
   "execution_count": 64,
   "metadata": {},
   "outputs": [
    {
     "data": {
      "image/png": "[encoded data removed]",
      "text/plain": [
       "<Figure size 432x288 with 1 Axes>"
      ]
     },
     "metadata": {
      "needs_background": "light"
     },
     "output_type": "display_data"
    }
   ],
   "source": [
    "#tokens for BAD\n",
    "wc = count(bad_shops['tokens'])\n",
    "wc_top20 = wc[wc['rank'] <= 20]\n",
    "\n",
    "squarify.plot(sizes=wc_top20['pct_total'], label=wc_top20['word'], alpha=.8 )\n",
    "plt.axis('off')\n",
    "plt.show()"
   ]
  },
  {
   "cell_type": "markdown",
   "metadata": {},
   "source": [
    "## Can visualize the words with the greatest difference in counts between 'good' & 'bad'?\n",
    "\n",
    "Couple Notes: \n",
    "- Rel. freq. instead of absolute counts b/c of different numbers of reviews\n",
    "- Only look at the top 5-10 words with the greatest differences\n"
   ]
  },
  {
   "cell_type": "code",
   "execution_count": null,
   "metadata": {},
   "outputs": [],
   "source": []
  },
  {
   "cell_type": "markdown",
   "metadata": {
    "colab_type": "text",
    "id": "1dCb1q8XphcP",
    "toc-hr-collapsed": true
   },
   "source": [
    "## Stretch Goals\n",
    "\n",
    "* Analyze another corpus of documents - such as Indeed.com job listings ;).\n",
    "* Play with the Spacy API to\n",
    " - Extract Named Entities\n",
    " - Extracting 'noun chunks'\n",
    " - Attempt Document Classification with just Spacy\n",
    " - *Note:* This [course](https://course.spacy.io/) will be of interesting in helping you with these stretch goals. \n",
    "* Try to build a plotly dash app with your text data \n",
    "\n"
   ]
  }
 ],
 "metadata": {
  "colab": {
   "collapsed_sections": [],
   "name": "LS_DS_421_Text_Data_Assignment.ipynb",
   "provenance": [],
   "version": "0.3.2"
  },
  "kernelspec": {
   "display_name": "NLP-S1 (Python3)",
   "language": "python",
   "name": "nlp-s1"
  },
  "language_info": {
   "codemirror_mode": {
    "name": "ipython",
    "version": 3
   },
   "file_extension": ".py",
   "mimetype": "text/x-python",
   "name": "python",
   "nbconvert_exporter": "python",
   "pygments_lexer": "ipython3",
   "version": "3.7.0"
  },
  "toc-autonumbering": false
 },
 "nbformat": 4,
 "nbformat_minor": 4
}
