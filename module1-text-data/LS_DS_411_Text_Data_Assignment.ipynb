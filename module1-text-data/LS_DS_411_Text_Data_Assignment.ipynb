{
 "cells": [
  {
   "cell_type": "markdown",
   "metadata": {},
   "source": [
    "# *Unit 4 Sprint 1 Assignment 1*\n",
    "\n",
    "Your goal in this assignment: find the attributes of the best & worst coffee shops in the dataset."
   ]
  },
  {
   "cell_type": "markdown",
   "metadata": {},
   "source": [
    "## Load the data"
   ]
  },
  {
   "cell_type": "code",
   "execution_count": 110,
   "metadata": {
    "scrolled": false
   },
   "outputs": [
    {
     "data": {
      "text/html": [
       "<div>\n",
       "<style scoped>\n",
       "    .dataframe tbody tr th:only-of-type {\n",
       "        vertical-align: middle;\n",
       "    }\n",
       "\n",
       "    .dataframe tbody tr th {\n",
       "        vertical-align: top;\n",
       "    }\n",
       "\n",
       "    .dataframe thead th {\n",
       "        text-align: right;\n",
       "    }\n",
       "</style>\n",
       "<table border=\"1\" class=\"dataframe\">\n",
       "  <thead>\n",
       "    <tr style=\"text-align: right;\">\n",
       "      <th></th>\n",
       "      <th>coffee_shop_name</th>\n",
       "      <th>full_review_text</th>\n",
       "      <th>star_rating</th>\n",
       "    </tr>\n",
       "  </thead>\n",
       "  <tbody>\n",
       "    <tr>\n",
       "      <th>0</th>\n",
       "      <td>The Factory - Cafe With a Soul</td>\n",
       "      <td>11/25/2016 1 check-in Love love loved the atm...</td>\n",
       "      <td>5.0 star rating</td>\n",
       "    </tr>\n",
       "  </tbody>\n",
       "</table>\n",
       "</div>"
      ],
      "text/plain": [
       "                  coffee_shop_name  \\\n",
       "0  The Factory - Cafe With a Soul    \n",
       "\n",
       "                                    full_review_text        star_rating  \n",
       "0   11/25/2016 1 check-in Love love loved the atm...   5.0 star rating   "
      ]
     },
     "execution_count": 110,
     "metadata": {},
     "output_type": "execute_result"
    }
   ],
   "source": [
    "import pandas as pd\n",
    "\n",
    "url = \"https://raw.githubusercontent.com/LambdaSchool/DS-Unit-4-Sprint-1-NLP/master/module1-text-data/data/yelp_coffeeshop_review_data.csv\"\n",
    "\n",
    "shops = pd.read_csv(url)\n",
    "shops.head(1)"
   ]
  },
  {
   "cell_type": "markdown",
   "metadata": {},
   "source": [
    "## Clean obvious stuff"
   ]
  },
  {
   "cell_type": "code",
   "execution_count": 111,
   "metadata": {},
   "outputs": [],
   "source": [
    "# Remove all dates from the reviews with a regex pattern.\n",
    "\n",
    "shops[\"full_review_text\"].replace(\n",
    "    {'\\d+[\\/:\\-]\\d+[\\/:\\-\\s]*[\\dAaPpMm]*' : '', '\\w+\\s\\d+[\\,]\\s\\d+' : '', ' 1 ' : ''},\n",
    "    regex=True,\n",
    "    inplace=True,\n",
    ")\n",
    "\n",
    "# Remove extra words in star_rating.\n",
    "shops[\"star_rating\"] = shops[\"star_rating\"].str.replace(' star rating', '')\n",
    "\n",
    "# Cast ratings as floats.\n",
    "shops['star_rating'] = shops['star_rating'].astype(float)"
   ]
  },
  {
   "cell_type": "code",
   "execution_count": 112,
   "metadata": {
    "scrolled": true
   },
   "outputs": [
    {
     "data": {
      "text/html": [
       "<div>\n",
       "<style scoped>\n",
       "    .dataframe tbody tr th:only-of-type {\n",
       "        vertical-align: middle;\n",
       "    }\n",
       "\n",
       "    .dataframe tbody tr th {\n",
       "        vertical-align: top;\n",
       "    }\n",
       "\n",
       "    .dataframe thead th {\n",
       "        text-align: right;\n",
       "    }\n",
       "</style>\n",
       "<table border=\"1\" class=\"dataframe\">\n",
       "  <thead>\n",
       "    <tr style=\"text-align: right;\">\n",
       "      <th></th>\n",
       "      <th>coffee_shop_name</th>\n",
       "      <th>full_review_text</th>\n",
       "      <th>star_rating</th>\n",
       "    </tr>\n",
       "  </thead>\n",
       "  <tbody>\n",
       "    <tr>\n",
       "      <th>0</th>\n",
       "      <td>The Factory - Cafe With a Soul</td>\n",
       "      <td>check-in Love love loved the atmosphere! Ever...</td>\n",
       "      <td>5.0</td>\n",
       "    </tr>\n",
       "  </tbody>\n",
       "</table>\n",
       "</div>"
      ],
      "text/plain": [
       "                  coffee_shop_name  \\\n",
       "0  The Factory - Cafe With a Soul    \n",
       "\n",
       "                                    full_review_text  star_rating  \n",
       "0   check-in Love love loved the atmosphere! Ever...          5.0  "
      ]
     },
     "execution_count": 112,
     "metadata": {},
     "output_type": "execute_result"
    }
   ],
   "source": [
    "shops.head(1)"
   ]
  },
  {
   "cell_type": "markdown",
   "metadata": {},
   "source": [
    "## Get tokens, but exclude custom stopwords"
   ]
  },
  {
   "cell_type": "code",
   "execution_count": 113,
   "metadata": {},
   "outputs": [],
   "source": [
    "# Extend Spacy's stopwords.\n",
    "STOP_WORDS = nlp.Defaults.stop_words.union([\n",
    "    ' ', '  ', 'check-in', \"i'm\", \"it's\", \"i've\",\n",
    "    'place', 'coffee', 'coffee.', 'austin', '-'\n",
    "])"
   ]
  },
  {
   "cell_type": "code",
   "execution_count": 114,
   "metadata": {},
   "outputs": [],
   "source": [
    "import spacy\n",
    "from spacy.tokenizer import Tokenizer\n",
    "\n",
    "nlp = spacy.load(\"en_core_web_lg\")\n",
    "tokenizer = Tokenizer(nlp.vocab)\n",
    "\n",
    "# Get tokens, but exclude stopwords.\n",
    "tokens = []\n",
    "for doc in tokenizer.pipe(shops['full_review_text'], batch_size=500):\n",
    "    doc_tokens = []\n",
    "    for token in doc:\n",
    "        token = token.text.lower()\n",
    "        if token not in STOP_WORDS:\n",
    "            doc_tokens.append(token)\n",
    "    tokens.append(doc_tokens)\n",
    "\n",
    "# Create column of lists of tokens.\n",
    "shops['tokens'] = tokens"
   ]
  },
  {
   "cell_type": "markdown",
   "metadata": {},
   "source": [
    "## Update tokens by removing uncommon words"
   ]
  },
  {
   "cell_type": "code",
   "execution_count": 115,
   "metadata": {},
   "outputs": [],
   "source": [
    "from collections import Counter\n",
    "\n",
    "# Function that takes a corpus and returns a dataframe of word counts.\n",
    "def count(docs):\n",
    "\n",
    "        word_counts = Counter()\n",
    "        appears_in = Counter()\n",
    "        \n",
    "        total_docs = len(docs)\n",
    "\n",
    "        for doc in docs:\n",
    "            word_counts.update(doc)\n",
    "            appears_in.update(set(doc))\n",
    "\n",
    "        temp = zip(word_counts.keys(), word_counts.values())\n",
    "        \n",
    "        wc = pd.DataFrame(temp, columns = ['word', 'count'])\n",
    "\n",
    "        wc['rank'] = wc['count'].rank(method='first', ascending=False)\n",
    "        total = wc['count'].sum()\n",
    "\n",
    "        wc['pct_total'] = wc['count'].apply(lambda x: x / total)\n",
    "        \n",
    "        wc = wc.sort_values(by='rank')\n",
    "        wc['cul_pct_total'] = wc['pct_total'].cumsum()\n",
    "\n",
    "        t2 = zip(appears_in.keys(), appears_in.values())\n",
    "        ac = pd.DataFrame(t2, columns=['word', 'appears_in'])\n",
    "        wc = ac.merge(wc, on='word')\n",
    "\n",
    "        wc['appears_in_pct'] = wc['appears_in'].apply(lambda x: x / total_docs)\n",
    "        \n",
    "        return wc.sort_values(by='rank')"
   ]
  },
  {
   "cell_type": "code",
   "execution_count": 116,
   "metadata": {},
   "outputs": [],
   "source": [
    "# Get list of words used in < 2.5% of reviews.\n",
    "wc = count(shops['tokens'])\n",
    "wc = wc[wc['appears_in_pct'] < 0.025]\n",
    "uncommon_words = wc['word'].tolist()"
   ]
  },
  {
   "cell_type": "code",
   "execution_count": 117,
   "metadata": {},
   "outputs": [],
   "source": [
    "# Update tokens by excluding stopwords AND uncommon words.\n",
    "tokens = []\n",
    "for doc in tokenizer.pipe(shops['full_review_text'], batch_size=500):\n",
    "    doc_tokens = []\n",
    "    for token in doc:\n",
    "        token = token.text.lower()\n",
    "        if token not in STOP_WORDS and token not in uncommon_words:\n",
    "            doc_tokens.append(token)\n",
    "    tokens.append(doc_tokens)\n",
    "\n",
    "# Create column of lists of tokens.\n",
    "shops['tokens'] = tokens"
   ]
  },
  {
   "cell_type": "markdown",
   "metadata": {},
   "source": [
    "## Get lemmas"
   ]
  },
  {
   "cell_type": "code",
   "execution_count": 122,
   "metadata": {},
   "outputs": [],
   "source": [
    "def get_lemmas(tokens):\n",
    "    lemmas = []\n",
    "    doc = nlp(str(tokens))\n",
    "    for token in doc:\n",
    "        if ((token.is_punct == False) and (token.pos_!= 'PRON')):\n",
    "            lemmas.append(token.lemma_)\n",
    "    return lemmas\n",
    "\n",
    "shops['lemmas'] = shops['tokens'].apply(get_lemmas)"
   ]
  },
  {
   "cell_type": "code",
   "execution_count": 125,
   "metadata": {},
   "outputs": [
    {
     "data": {
      "text/html": [
       "<div>\n",
       "<style scoped>\n",
       "    .dataframe tbody tr th:only-of-type {\n",
       "        vertical-align: middle;\n",
       "    }\n",
       "\n",
       "    .dataframe tbody tr th {\n",
       "        vertical-align: top;\n",
       "    }\n",
       "\n",
       "    .dataframe thead th {\n",
       "        text-align: right;\n",
       "    }\n",
       "</style>\n",
       "<table border=\"1\" class=\"dataframe\">\n",
       "  <thead>\n",
       "    <tr style=\"text-align: right;\">\n",
       "      <th></th>\n",
       "      <th>tokens</th>\n",
       "      <th>lemmas</th>\n",
       "    </tr>\n",
       "  </thead>\n",
       "  <tbody>\n",
       "    <tr>\n",
       "      <th>0</th>\n",
       "      <td>[love, love, loved, shop, ordered, getting, dr...</td>\n",
       "      <td>[love, love, love, shop, order, get, drink, pr...</td>\n",
       "    </tr>\n",
       "    <tr>\n",
       "      <th>1</th>\n",
       "      <td>[listed, austin,, love, definitely, pretty, :)...</td>\n",
       "      <td>[list, austin, love, definitely, pretty, proba...</td>\n",
       "    </tr>\n",
       "    <tr>\n",
       "      <th>2</th>\n",
       "      <td>[listed, loved, decor, doesn't, want, drink, w...</td>\n",
       "      <td>[list, love, decor, do, not, want, drink, wort...</td>\n",
       "    </tr>\n",
       "    <tr>\n",
       "      <th>3</th>\n",
       "      <td>[cool, good, drinks, nice, seating, 3, almond,...</td>\n",
       "      <td>[cool, good, drink, nice, seating, 3, almond, ...</td>\n",
       "    </tr>\n",
       "    <tr>\n",
       "      <th>4</th>\n",
       "      <td>[plenty, loved, friendly, easy, &amp;, wanted, ord...</td>\n",
       "      <td>[plenty, love, friendly, easy, want, order, ch...</td>\n",
       "    </tr>\n",
       "  </tbody>\n",
       "</table>\n",
       "</div>"
      ],
      "text/plain": [
       "                                              tokens  \\\n",
       "0  [love, love, loved, shop, ordered, getting, dr...   \n",
       "1  [listed, austin,, love, definitely, pretty, :)...   \n",
       "2  [listed, loved, decor, doesn't, want, drink, w...   \n",
       "3  [cool, good, drinks, nice, seating, 3, almond,...   \n",
       "4  [plenty, loved, friendly, easy, &, wanted, ord...   \n",
       "\n",
       "                                              lemmas  \n",
       "0  [love, love, love, shop, order, get, drink, pr...  \n",
       "1  [list, austin, love, definitely, pretty, proba...  \n",
       "2  [list, love, decor, do, not, want, drink, wort...  \n",
       "3  [cool, good, drink, nice, seating, 3, almond, ...  \n",
       "4  [plenty, love, friendly, easy, want, order, ch...  "
      ]
     },
     "execution_count": 125,
     "metadata": {},
     "output_type": "execute_result"
    }
   ],
   "source": [
    "shops[['tokens', 'lemmas']].head()"
   ]
  },
  {
   "cell_type": "markdown",
   "metadata": {},
   "source": [
    "## Visualize common words in 'good' & 'bad' reviews"
   ]
  },
  {
   "cell_type": "code",
   "execution_count": 154,
   "metadata": {
    "scrolled": true
   },
   "outputs": [
    {
     "data": {
      "image/png": "[encoded data removed]",
      "text/plain": [
       "<Figure size 432x288 with 1 Axes>"
      ]
     },
     "metadata": {
      "needs_background": "light"
     },
     "output_type": "display_data"
    }
   ],
   "source": [
    "import squarify\n",
    "import matplotlib\n",
    "import matplotlib.pyplot as plt\n",
    "\n",
    "# Good reviews have five stars.\n",
    "good_reviews = shops[shops.star_rating == 5]\n",
    "good_words = count(good_reviews['lemmas'])\n",
    "top_good = good_words[good_words['rank'] <= 40]\n",
    "pct_totals = top_good['pct_total']\n",
    "\n",
    "# Create a color palette.\n",
    "cmap = matplotlib.cm.Blues\n",
    "mini=min(pct_totals)\n",
    "maxi=max(pct_totals)\n",
    "norm = matplotlib.colors.Normalize(vmin=mini, vmax=maxi)\n",
    "colors = [cmap(norm(value)) for value in pct_totals]\n",
    "\n",
    "# Show plot of top 40 words common to good reviews.\n",
    "squarify.plot(\n",
    "    sizes=pct_totals,\n",
    "    label=top_good['word'],\n",
    "    alpha=.8,\n",
    "    color=colors\n",
    ")\n",
    "plt.axis('off')\n",
    "plt.show()"
   ]
  },
  {
   "cell_type": "code",
   "execution_count": 157,
   "metadata": {
    "scrolled": false
   },
   "outputs": [
    {
     "data": {
      "image/png": "[encoded data removed]",
      "text/plain": [
       "<Figure size 432x288 with 1 Axes>"
      ]
     },
     "metadata": {
      "needs_background": "light"
     },
     "output_type": "display_data"
    }
   ],
   "source": [
    "# Bad reviews have one star.\n",
    "bad_reviews = shops[shops.star_rating == 1]\n",
    "bad_words = count(bad_reviews['lemmas'])\n",
    "top_bad = bad_words[bad_words['rank'] <= 40]\n",
    "pct_totals = top_bad['pct_total']\n",
    "\n",
    "cmap = matplotlib.cm.Reds\n",
    "mini=min(pct_totals)\n",
    "maxi=max(pct_totals)\n",
    "norm = matplotlib.colors.Normalize(vmin=mini, vmax=maxi)\n",
    "colors = [cmap(norm(value)) for value in pct_totals]\n",
    "\n",
    "squarify.plot(\n",
    "    sizes=pct_totals,\n",
    "    label=top_bad['word'],\n",
    "    alpha=.8,\n",
    "    color=colors\n",
    ")\n",
    "plt.axis('off')\n",
    "plt.show()"
   ]
  },
  {
   "cell_type": "markdown",
   "metadata": {},
   "source": [
    "## Summary\n",
    "- Coffee shops that get good reviews are described as 'delicious', 'great', and 'amazing'. At this point in the analysis, we don't know the context of those words. On the other hand, shops that recieve negative reviews are often described as 'bad'. The word 'not' is used with a greater proportional frequency in bad reviews than good reviews. This kind of analysis seems shakey and doesn't tell us more than common sense: that bad service and gross drinks lead to negative reviews. Maybe looking at n-grams will help contextualize some of these frequent words."
   ]
  }
 ],
 "metadata": {
  "colab": {
   "collapsed_sections": [],
   "name": "LS_DS_421_Text_Data_Assignment.ipynb",
   "provenance": [],
   "version": "0.3.2"
  },
  "kernelspec": {
   "display_name": "nlp1 (python3)",
   "language": "python",
   "name": "nlp1"
  },
  "language_info": {
   "codemirror_mode": {
    "name": "ipython",
    "version": 3
   },
   "file_extension": ".py",
   "mimetype": "text/x-python",
   "name": "python",
   "nbconvert_exporter": "python",
   "pygments_lexer": "ipython3",
   "version": "3.7.0"
  },
  "toc-autonumbering": false
 },
 "nbformat": 4,
 "nbformat_minor": 4
}
