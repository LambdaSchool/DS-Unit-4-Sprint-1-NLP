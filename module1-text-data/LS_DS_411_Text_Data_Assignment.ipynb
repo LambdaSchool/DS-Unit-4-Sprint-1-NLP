{
 "cells": [
  {
   "cell_type": "markdown",
   "metadata": {},
   "source": [
    "<img align=\"left\" src=\"https://lever-client-logos.s3.amazonaws.com/864372b1-534c-480e-acd5-9711f850815c-1524247202159.png\" width=200>\n",
    "<br></br>\n",
    "<br></br>\n",
    "\n",
    "# Natural Language Processing (NLP)\n",
    "## *Data Science Unit 4 Sprint 1 Assignment 1*\n",
    "\n",
    "Your goal in assignment: find the attributes of the best & worst coffee shops in the dataset. The text is fairly raw: dates in the review, extra words in the `star_rating` column, etc. You'll probably want to clean that stuff up for a better analysis. \n",
    "\n",
    "Analyze the corpus of text using text visualizations of token frequency. Try cleaning the data as much as possible. Try the following techniques: \n",
    "- Lemmatization\n",
    "- Custom stopword removal\n",
    "\n",
    "Keep in mind the attributes of good tokens. Once you have a solid baseline, layer in the star rating in your visualization(s). Keep part in this assignment - produce a write-up of the attributes of the best and worst coffee shops. Based on your analysis, what makes the best the best and the worst the worst. Use graphs and numbesr from your analysis to support your conclusions. There should be plenty of markdown cells! :coffee:"
   ]
  },
  {
   "cell_type": "code",
   "execution_count": null,
   "metadata": {},
   "outputs": [],
   "source": [
    "from IPython.display import YouTubeVideo\n",
    "\n",
    "YouTubeVideo('Jml7NVYm8cs')"
   ]
  },
  {
   "cell_type": "code",
   "execution_count": 7,
   "metadata": {},
   "outputs": [
    {
     "data": {
      "text/html": [
       "<div>\n",
       "<style scoped>\n",
       "    .dataframe tbody tr th:only-of-type {\n",
       "        vertical-align: middle;\n",
       "    }\n",
       "\n",
       "    .dataframe tbody tr th {\n",
       "        vertical-align: top;\n",
       "    }\n",
       "\n",
       "    .dataframe thead th {\n",
       "        text-align: right;\n",
       "    }\n",
       "</style>\n",
       "<table border=\"1\" class=\"dataframe\">\n",
       "  <thead>\n",
       "    <tr style=\"text-align: right;\">\n",
       "      <th></th>\n",
       "      <th>coffee_shop_name</th>\n",
       "      <th>full_review_text</th>\n",
       "      <th>star_rating</th>\n",
       "    </tr>\n",
       "  </thead>\n",
       "  <tbody>\n",
       "    <tr>\n",
       "      <th>0</th>\n",
       "      <td>The Factory - Cafe With a Soul</td>\n",
       "      <td>11/25/2016 1 check-in Love love loved the atm...</td>\n",
       "      <td>5.0 star rating</td>\n",
       "    </tr>\n",
       "    <tr>\n",
       "      <th>1</th>\n",
       "      <td>The Factory - Cafe With a Soul</td>\n",
       "      <td>12/2/2016 Listed in Date Night: Austin, Ambia...</td>\n",
       "      <td>4.0 star rating</td>\n",
       "    </tr>\n",
       "    <tr>\n",
       "      <th>2</th>\n",
       "      <td>The Factory - Cafe With a Soul</td>\n",
       "      <td>11/30/2016 1 check-in Listed in Brunch Spots ...</td>\n",
       "      <td>4.0 star rating</td>\n",
       "    </tr>\n",
       "    <tr>\n",
       "      <th>3</th>\n",
       "      <td>The Factory - Cafe With a Soul</td>\n",
       "      <td>11/25/2016 Very cool decor! Good drinks Nice ...</td>\n",
       "      <td>2.0 star rating</td>\n",
       "    </tr>\n",
       "    <tr>\n",
       "      <th>4</th>\n",
       "      <td>The Factory - Cafe With a Soul</td>\n",
       "      <td>12/3/2016 1 check-in They are located within ...</td>\n",
       "      <td>4.0 star rating</td>\n",
       "    </tr>\n",
       "  </tbody>\n",
       "</table>\n",
       "</div>"
      ],
      "text/plain": [
       "                  coffee_shop_name  \\\n",
       "0  The Factory - Cafe With a Soul    \n",
       "1  The Factory - Cafe With a Soul    \n",
       "2  The Factory - Cafe With a Soul    \n",
       "3  The Factory - Cafe With a Soul    \n",
       "4  The Factory - Cafe With a Soul    \n",
       "\n",
       "                                    full_review_text        star_rating  \n",
       "0   11/25/2016 1 check-in Love love loved the atm...   5.0 star rating   \n",
       "1   12/2/2016 Listed in Date Night: Austin, Ambia...   4.0 star rating   \n",
       "2   11/30/2016 1 check-in Listed in Brunch Spots ...   4.0 star rating   \n",
       "3   11/25/2016 Very cool decor! Good drinks Nice ...   2.0 star rating   \n",
       "4   12/3/2016 1 check-in They are located within ...   4.0 star rating   "
      ]
     },
     "execution_count": 7,
     "metadata": {},
     "output_type": "execute_result"
    }
   ],
   "source": [
    "import pandas as pd\n",
    "\n",
    "shops = pd.read_csv('./data/yelp_coffeeshop_review_data.csv')\n",
    "shops.head()"
   ]
  },
  {
   "cell_type": "code",
   "execution_count": 5,
   "metadata": {},
   "outputs": [],
   "source": [
    "# Base\n",
    "from collections import Counter\n",
    "import re\n",
    "\n",
    "import pandas as pd\n",
    "\n",
    "# Plotting\n",
    "import squarify\n",
    "import matplotlib.pyplot as plt\n",
    "import seaborn as sns\n",
    "\n",
    "# NLP Libraries\n",
    "import spacy\n",
    "from spacy.tokenizer import Tokenizer\n",
    "from nltk.stem import PorterStemmer\n",
    "\n",
    "nlp = spacy.load(\"en_core_web_md\")"
   ]
  },
  {
   "cell_type": "code",
   "execution_count": 6,
   "metadata": {},
   "outputs": [
    {
     "data": {
      "text/plain": [
       "<spacy.lang.en.English at 0x23245b57320>"
      ]
     },
     "execution_count": 6,
     "metadata": {},
     "output_type": "execute_result"
    }
   ],
   "source": [
    "nlp"
   ]
  },
  {
   "cell_type": "code",
   "execution_count": 14,
   "metadata": {},
   "outputs": [
    {
     "data": {
      "text/plain": [
       "'  Listed in Date Night Austin Ambiance in Austin BEAUTIFUL Love the ambiance Instagramworthy  Definitely  so be prepared This is gonna cost you a pretty penny  Waffle dessert was just decentnothing to rave about  But will probably be back just to be somewhere unique and nice '"
      ]
     },
     "execution_count": 14,
     "metadata": {},
     "output_type": "execute_result"
    }
   ],
   "source": [
    "import re\n",
    "\n",
    "re.sub(r'[^a-zA-Z ]', '', shops['full_review_text'].iloc[1])"
   ]
  },
  {
   "cell_type": "code",
   "execution_count": 19,
   "metadata": {},
   "outputs": [],
   "source": [
    "def tokenize(text):\n",
    "    \"\"\"Parses a string into a list of semantic units (words)\n",
    "\n",
    "    Args:\n",
    "        text (str): The string that the function will tokenize.\n",
    "\n",
    "    Returns:\n",
    "        list: tokens parsed out by the mechanics of your choice\n",
    "    \"\"\"\n",
    "    \n",
    "    tokens = re.sub(r'[^a-zA-Z ]', '', text)\n",
    "    tokens = tokens.lower().split()\n",
    "    \n",
    "    return tokens"
   ]
  },
  {
   "cell_type": "code",
   "execution_count": 20,
   "metadata": {},
   "outputs": [
    {
     "data": {
      "text/plain": [
       "' 12/2/2016 Listed in Date Night: Austin, Ambiance in Austin BEAUTIFUL!!!! Love the ambiance! Instagram-worthy!!!  Definitely $$$, so be prepared. This is gonna cost you a pretty penny :) Waffle dessert was just decent...nothing to rave about.  But, will probably be back just to be somewhere unique and nice. '"
      ]
     },
     "execution_count": 20,
     "metadata": {},
     "output_type": "execute_result"
    }
   ],
   "source": [
    "shops['full_review_text'].iloc[1]"
   ]
  },
  {
   "cell_type": "code",
   "execution_count": 21,
   "metadata": {},
   "outputs": [],
   "source": [
    "shops['tokens'] = shops['full_review_text'].apply(tokenize)"
   ]
  },
  {
   "cell_type": "code",
   "execution_count": 22,
   "metadata": {},
   "outputs": [
    {
     "data": {
      "text/html": [
       "<div>\n",
       "<style scoped>\n",
       "    .dataframe tbody tr th:only-of-type {\n",
       "        vertical-align: middle;\n",
       "    }\n",
       "\n",
       "    .dataframe tbody tr th {\n",
       "        vertical-align: top;\n",
       "    }\n",
       "\n",
       "    .dataframe thead th {\n",
       "        text-align: right;\n",
       "    }\n",
       "</style>\n",
       "<table border=\"1\" class=\"dataframe\">\n",
       "  <thead>\n",
       "    <tr style=\"text-align: right;\">\n",
       "      <th></th>\n",
       "      <th>coffee_shop_name</th>\n",
       "      <th>full_review_text</th>\n",
       "      <th>star_rating</th>\n",
       "      <th>tokens</th>\n",
       "    </tr>\n",
       "  </thead>\n",
       "  <tbody>\n",
       "    <tr>\n",
       "      <th>0</th>\n",
       "      <td>The Factory - Cafe With a Soul</td>\n",
       "      <td>11/25/2016 1 check-in Love love loved the atm...</td>\n",
       "      <td>5.0 star rating</td>\n",
       "      <td>[checkin, love, love, loved, the, atmosphere, ...</td>\n",
       "    </tr>\n",
       "    <tr>\n",
       "      <th>1</th>\n",
       "      <td>The Factory - Cafe With a Soul</td>\n",
       "      <td>12/2/2016 Listed in Date Night: Austin, Ambia...</td>\n",
       "      <td>4.0 star rating</td>\n",
       "      <td>[listed, in, date, night, austin, ambiance, in...</td>\n",
       "    </tr>\n",
       "    <tr>\n",
       "      <th>2</th>\n",
       "      <td>The Factory - Cafe With a Soul</td>\n",
       "      <td>11/30/2016 1 check-in Listed in Brunch Spots ...</td>\n",
       "      <td>4.0 star rating</td>\n",
       "      <td>[checkin, listed, in, brunch, spots, i, loved,...</td>\n",
       "    </tr>\n",
       "    <tr>\n",
       "      <th>3</th>\n",
       "      <td>The Factory - Cafe With a Soul</td>\n",
       "      <td>11/25/2016 Very cool decor! Good drinks Nice ...</td>\n",
       "      <td>2.0 star rating</td>\n",
       "      <td>[very, cool, decor, good, drinks, nice, seatin...</td>\n",
       "    </tr>\n",
       "    <tr>\n",
       "      <th>4</th>\n",
       "      <td>The Factory - Cafe With a Soul</td>\n",
       "      <td>12/3/2016 1 check-in They are located within ...</td>\n",
       "      <td>4.0 star rating</td>\n",
       "      <td>[checkin, they, are, located, within, the, nor...</td>\n",
       "    </tr>\n",
       "    <tr>\n",
       "      <th>5</th>\n",
       "      <td>The Factory - Cafe With a Soul</td>\n",
       "      <td>11/20/2016 1 check-in Very cute cafe! I think...</td>\n",
       "      <td>4.0 star rating</td>\n",
       "      <td>[checkin, very, cute, cafe, i, think, from, th...</td>\n",
       "    </tr>\n",
       "    <tr>\n",
       "      <th>6</th>\n",
       "      <td>The Factory - Cafe With a Soul</td>\n",
       "      <td>10/27/2016 2 check-ins Listed in \"Nuptial Cof...</td>\n",
       "      <td>4.0 star rating</td>\n",
       "      <td>[checkins, listed, in, nuptial, coffee, bliss,...</td>\n",
       "    </tr>\n",
       "    <tr>\n",
       "      <th>7</th>\n",
       "      <td>The Factory - Cafe With a Soul</td>\n",
       "      <td>11/2/2016 2 check-ins Love this place!  5 sta...</td>\n",
       "      <td>5.0 star rating</td>\n",
       "      <td>[checkins, love, this, place, stars, for, clea...</td>\n",
       "    </tr>\n",
       "    <tr>\n",
       "      <th>8</th>\n",
       "      <td>The Factory - Cafe With a Soul</td>\n",
       "      <td>10/25/2016 1 check-in Ok, let's try this appr...</td>\n",
       "      <td>3.0 star rating</td>\n",
       "      <td>[checkin, ok, lets, try, this, approach, pros,...</td>\n",
       "    </tr>\n",
       "    <tr>\n",
       "      <th>9</th>\n",
       "      <td>The Factory - Cafe With a Soul</td>\n",
       "      <td>11/10/2016 3 check-ins This place has been sh...</td>\n",
       "      <td>5.0 star rating</td>\n",
       "      <td>[checkins, this, place, has, been, shown, on, ...</td>\n",
       "    </tr>\n",
       "    <tr>\n",
       "      <th>10</th>\n",
       "      <td>The Factory - Cafe With a Soul</td>\n",
       "      <td>10/22/2016 1 check-in Listed in Americano Thi...</td>\n",
       "      <td>4.0 star rating</td>\n",
       "      <td>[checkin, listed, in, americano, this, is, not...</td>\n",
       "    </tr>\n",
       "    <tr>\n",
       "      <th>11</th>\n",
       "      <td>The Factory - Cafe With a Soul</td>\n",
       "      <td>11/20/2016 The store has A+ decoration, but h...</td>\n",
       "      <td>3.0 star rating</td>\n",
       "      <td>[the, store, has, a, decoration, but, honestly...</td>\n",
       "    </tr>\n",
       "    <tr>\n",
       "      <th>12</th>\n",
       "      <td>The Factory - Cafe With a Soul</td>\n",
       "      <td>11/17/2016 1 check-in Listed in 2016 - The Th...</td>\n",
       "      <td>3.0 star rating</td>\n",
       "      <td>[checkin, listed, in, the, third, time, is, a,...</td>\n",
       "    </tr>\n",
       "    <tr>\n",
       "      <th>13</th>\n",
       "      <td>The Factory - Cafe With a Soul</td>\n",
       "      <td>12/5/2016 This is such a cute little cafe! I'...</td>\n",
       "      <td>5.0 star rating</td>\n",
       "      <td>[this, is, such, a, cute, little, cafe, ive, d...</td>\n",
       "    </tr>\n",
       "    <tr>\n",
       "      <th>14</th>\n",
       "      <td>The Factory - Cafe With a Soul</td>\n",
       "      <td>11/13/2016 Beautiful eccentric coffee shop wi...</td>\n",
       "      <td>5.0 star rating</td>\n",
       "      <td>[beautiful, eccentric, coffee, shop, with, a, ...</td>\n",
       "    </tr>\n",
       "    <tr>\n",
       "      <th>15</th>\n",
       "      <td>The Factory - Cafe With a Soul</td>\n",
       "      <td>11/9/2016 1 check-in Listed in In Search of F...</td>\n",
       "      <td>5.0 star rating</td>\n",
       "      <td>[checkin, listed, in, in, search, of, fantasti...</td>\n",
       "    </tr>\n",
       "    <tr>\n",
       "      <th>16</th>\n",
       "      <td>The Factory - Cafe With a Soul</td>\n",
       "      <td>11/6/2016 Really love the atmosphere here! I ...</td>\n",
       "      <td>5.0 star rating</td>\n",
       "      <td>[really, love, the, atmosphere, here, i, frequ...</td>\n",
       "    </tr>\n",
       "    <tr>\n",
       "      <th>17</th>\n",
       "      <td>The Factory - Cafe With a Soul</td>\n",
       "      <td>10/25/2016 1 check-in Check out this video fo...</td>\n",
       "      <td>4.0 star rating</td>\n",
       "      <td>[checkin, check, out, this, video, for, a, rev...</td>\n",
       "    </tr>\n",
       "    <tr>\n",
       "      <th>18</th>\n",
       "      <td>The Factory - Cafe With a Soul</td>\n",
       "      <td>10/15/2016 1 check-in Note: Do not come here ...</td>\n",
       "      <td>4.0 star rating</td>\n",
       "      <td>[checkin, note, do, not, come, here, if, youre...</td>\n",
       "    </tr>\n",
       "    <tr>\n",
       "      <th>19</th>\n",
       "      <td>The Factory - Cafe With a Soul</td>\n",
       "      <td>12/1/2016 So much aesthetic in this place. I ...</td>\n",
       "      <td>4.0 star rating</td>\n",
       "      <td>[so, much, aesthetic, in, this, place, i, love...</td>\n",
       "    </tr>\n",
       "    <tr>\n",
       "      <th>20</th>\n",
       "      <td>The Factory - Cafe With a Soul</td>\n",
       "      <td>10/12/2016 1 check-in Checked out The Factory...</td>\n",
       "      <td>5.0 star rating</td>\n",
       "      <td>[checkin, checked, out, the, factory, this, pa...</td>\n",
       "    </tr>\n",
       "    <tr>\n",
       "      <th>21</th>\n",
       "      <td>The Factory - Cafe With a Soul</td>\n",
       "      <td>10/10/2016 This place is so cute. New favorit...</td>\n",
       "      <td>5.0 star rating</td>\n",
       "      <td>[this, place, is, so, cute, new, favorite, cof...</td>\n",
       "    </tr>\n",
       "    <tr>\n",
       "      <th>22</th>\n",
       "      <td>The Factory - Cafe With a Soul</td>\n",
       "      <td>10/25/2016 Tried this new cafe spot on Burnet...</td>\n",
       "      <td>4.0 star rating</td>\n",
       "      <td>[tried, this, new, cafe, spot, on, burnet, wit...</td>\n",
       "    </tr>\n",
       "    <tr>\n",
       "      <th>23</th>\n",
       "      <td>The Factory - Cafe With a Soul</td>\n",
       "      <td>11/16/2016 The greeting of an atmosphere it f...</td>\n",
       "      <td>5.0 star rating</td>\n",
       "      <td>[the, greeting, of, an, atmosphere, it, feels,...</td>\n",
       "    </tr>\n",
       "    <tr>\n",
       "      <th>24</th>\n",
       "      <td>The Factory - Cafe With a Soul</td>\n",
       "      <td>11/17/2016 Craft coffee drinks, tea, and beer...</td>\n",
       "      <td>5.0 star rating</td>\n",
       "      <td>[craft, coffee, drinks, tea, and, beerwine, fr...</td>\n",
       "    </tr>\n",
       "    <tr>\n",
       "      <th>25</th>\n",
       "      <td>The Factory - Cafe With a Soul</td>\n",
       "      <td>12/2/2016 Okay, so after visiting my friends ...</td>\n",
       "      <td>1.0 star rating</td>\n",
       "      <td>[okay, so, after, visiting, my, friends, in, l...</td>\n",
       "    </tr>\n",
       "    <tr>\n",
       "      <th>26</th>\n",
       "      <td>The Factory - Cafe With a Soul</td>\n",
       "      <td>11/9/2016 1 check-in Guys, this place is amaz...</td>\n",
       "      <td>5.0 star rating</td>\n",
       "      <td>[checkin, guys, this, place, is, amazing, limi...</td>\n",
       "    </tr>\n",
       "    <tr>\n",
       "      <th>27</th>\n",
       "      <td>The Factory - Cafe With a Soul</td>\n",
       "      <td>12/2/2016 What a fantastic atmosphere. I drop...</td>\n",
       "      <td>5.0 star rating</td>\n",
       "      <td>[what, a, fantastic, atmosphere, i, dropped, i...</td>\n",
       "    </tr>\n",
       "    <tr>\n",
       "      <th>28</th>\n",
       "      <td>The Factory - Cafe With a Soul</td>\n",
       "      <td>12/1/2016 This place is amazing! No wifi, but...</td>\n",
       "      <td>5.0 star rating</td>\n",
       "      <td>[this, place, is, amazing, no, wifi, but, that...</td>\n",
       "    </tr>\n",
       "    <tr>\n",
       "      <th>29</th>\n",
       "      <td>The Factory - Cafe With a Soul</td>\n",
       "      <td>11/11/2016 I never write Yelp reviews, ever. ...</td>\n",
       "      <td>5.0 star rating</td>\n",
       "      <td>[i, never, write, yelp, reviews, ever, but, wh...</td>\n",
       "    </tr>\n",
       "    <tr>\n",
       "      <th>...</th>\n",
       "      <td>...</td>\n",
       "      <td>...</td>\n",
       "      <td>...</td>\n",
       "      <td>...</td>\n",
       "    </tr>\n",
       "    <tr>\n",
       "      <th>7586</th>\n",
       "      <td>The Steeping Room</td>\n",
       "      <td>4/21/2013 Listed in So, you wanna eat in Nort...</td>\n",
       "      <td>4.0 star rating</td>\n",
       "      <td>[listed, in, so, you, wanna, eat, in, north, c...</td>\n",
       "    </tr>\n",
       "    <tr>\n",
       "      <th>7587</th>\n",
       "      <td>The Steeping Room</td>\n",
       "      <td>3/6/2013 2 check-ins Listed in 100 Yelp Revie...</td>\n",
       "      <td>4.0 star rating</td>\n",
       "      <td>[checkins, listed, in, yelp, review, challenge...</td>\n",
       "    </tr>\n",
       "    <tr>\n",
       "      <th>7588</th>\n",
       "      <td>The Steeping Room</td>\n",
       "      <td>2/5/2015 6 check-ins Let me start by saying t...</td>\n",
       "      <td>5.0 star rating</td>\n",
       "      <td>[checkins, let, me, start, by, saying, that, s...</td>\n",
       "    </tr>\n",
       "    <tr>\n",
       "      <th>7589</th>\n",
       "      <td>The Steeping Room</td>\n",
       "      <td>12/20/2015 This is a great restaurant. I thin...</td>\n",
       "      <td>5.0 star rating</td>\n",
       "      <td>[this, is, a, great, restaurant, i, think, the...</td>\n",
       "    </tr>\n",
       "    <tr>\n",
       "      <th>7590</th>\n",
       "      <td>The Steeping Room</td>\n",
       "      <td>1/15/2015 So today I tried this place. I have...</td>\n",
       "      <td>3.0 star rating</td>\n",
       "      <td>[so, today, i, tried, this, place, i, have, be...</td>\n",
       "    </tr>\n",
       "    <tr>\n",
       "      <th>7591</th>\n",
       "      <td>The Steeping Room</td>\n",
       "      <td>10/6/2015 This is one of the best places to e...</td>\n",
       "      <td>5.0 star rating</td>\n",
       "      <td>[this, is, one, of, the, best, places, to, eat...</td>\n",
       "    </tr>\n",
       "    <tr>\n",
       "      <th>7592</th>\n",
       "      <td>The Steeping Room</td>\n",
       "      <td>5/20/2016 Good service. Good food. Prices are...</td>\n",
       "      <td>4.0 star rating</td>\n",
       "      <td>[good, service, good, food, prices, are, too, ...</td>\n",
       "    </tr>\n",
       "    <tr>\n",
       "      <th>7593</th>\n",
       "      <td>The Steeping Room</td>\n",
       "      <td>4/3/2015 1 check-in My favorite tea is the Ja...</td>\n",
       "      <td>4.0 star rating</td>\n",
       "      <td>[checkin, my, favorite, tea, is, the, jasmine,...</td>\n",
       "    </tr>\n",
       "    <tr>\n",
       "      <th>7594</th>\n",
       "      <td>The Steeping Room</td>\n",
       "      <td>2/17/2015 1 check-in This is my favorite tea ...</td>\n",
       "      <td>5.0 star rating</td>\n",
       "      <td>[checkin, this, is, my, favorite, tea, place, ...</td>\n",
       "    </tr>\n",
       "    <tr>\n",
       "      <th>7595</th>\n",
       "      <td>The Steeping Room</td>\n",
       "      <td>1/9/2013 4 check-ins Listed in Vegan and the ...</td>\n",
       "      <td>4.0 star rating</td>\n",
       "      <td>[checkins, listed, in, vegan, and, the, beast,...</td>\n",
       "    </tr>\n",
       "    <tr>\n",
       "      <th>7596</th>\n",
       "      <td>The Steeping Room</td>\n",
       "      <td>12/3/2015 I had the best experience at this r...</td>\n",
       "      <td>5.0 star rating</td>\n",
       "      <td>[i, had, the, best, experience, at, this, rest...</td>\n",
       "    </tr>\n",
       "    <tr>\n",
       "      <th>7597</th>\n",
       "      <td>The Steeping Room</td>\n",
       "      <td>1/3/2014 1 check-in Listed in 2014 Yelp 100 C...</td>\n",
       "      <td>4.0 star rating</td>\n",
       "      <td>[checkin, listed, in, yelp, challenge, holla, ...</td>\n",
       "    </tr>\n",
       "    <tr>\n",
       "      <th>7598</th>\n",
       "      <td>The Steeping Room</td>\n",
       "      <td>4/13/2015 I went to the steeping room today f...</td>\n",
       "      <td>5.0 star rating</td>\n",
       "      <td>[i, went, to, the, steeping, room, today, for,...</td>\n",
       "    </tr>\n",
       "    <tr>\n",
       "      <th>7599</th>\n",
       "      <td>The Steeping Room</td>\n",
       "      <td>3/28/2015 1 check-in I am someone that hates ...</td>\n",
       "      <td>5.0 star rating</td>\n",
       "      <td>[checkin, i, am, someone, that, hates, going, ...</td>\n",
       "    </tr>\n",
       "    <tr>\n",
       "      <th>7600</th>\n",
       "      <td>The Steeping Room</td>\n",
       "      <td>5/10/2015 Great service with unimaginative an...</td>\n",
       "      <td>2.0 star rating</td>\n",
       "      <td>[great, service, with, unimaginative, and, une...</td>\n",
       "    </tr>\n",
       "    <tr>\n",
       "      <th>7601</th>\n",
       "      <td>The Steeping Room</td>\n",
       "      <td>2/22/2015 1 check-in Great selection of teas ...</td>\n",
       "      <td>4.0 star rating</td>\n",
       "      <td>[checkin, great, selection, of, teas, to, purc...</td>\n",
       "    </tr>\n",
       "    <tr>\n",
       "      <th>7602</th>\n",
       "      <td>The Steeping Room</td>\n",
       "      <td>9/6/2015 2 check-ins I go here almost every w...</td>\n",
       "      <td>4.0 star rating</td>\n",
       "      <td>[checkins, i, go, here, almost, every, week, f...</td>\n",
       "    </tr>\n",
       "    <tr>\n",
       "      <th>7603</th>\n",
       "      <td>The Steeping Room</td>\n",
       "      <td>3/15/2014 1 check-in Went here for lunch toda...</td>\n",
       "      <td>4.0 star rating</td>\n",
       "      <td>[checkin, went, here, for, lunch, today, with,...</td>\n",
       "    </tr>\n",
       "    <tr>\n",
       "      <th>7604</th>\n",
       "      <td>The Steeping Room</td>\n",
       "      <td>10/25/2015 A few complaints about a wonderful...</td>\n",
       "      <td>4.0 star rating</td>\n",
       "      <td>[a, few, complaints, about, a, wonderful, litt...</td>\n",
       "    </tr>\n",
       "    <tr>\n",
       "      <th>7605</th>\n",
       "      <td>The Steeping Room</td>\n",
       "      <td>10/22/2015 I got the Chipotle Chocolate Chai ...</td>\n",
       "      <td>5.0 star rating</td>\n",
       "      <td>[i, got, the, chipotle, chocolate, chai, tea, ...</td>\n",
       "    </tr>\n",
       "    <tr>\n",
       "      <th>7606</th>\n",
       "      <td>The Steeping Room</td>\n",
       "      <td>6/11/2015 Same great tea and food as their Do...</td>\n",
       "      <td>4.0 star rating</td>\n",
       "      <td>[same, great, tea, and, food, as, their, domai...</td>\n",
       "    </tr>\n",
       "    <tr>\n",
       "      <th>7607</th>\n",
       "      <td>The Steeping Room</td>\n",
       "      <td>8/14/2015 This place is amazing! It's one of ...</td>\n",
       "      <td>5.0 star rating</td>\n",
       "      <td>[this, place, is, amazing, its, one, of, my, f...</td>\n",
       "    </tr>\n",
       "    <tr>\n",
       "      <th>7608</th>\n",
       "      <td>The Steeping Room</td>\n",
       "      <td>9/20/2015 I come here when I visit my friend ...</td>\n",
       "      <td>4.0 star rating</td>\n",
       "      <td>[i, come, here, when, i, visit, my, friend, in...</td>\n",
       "    </tr>\n",
       "    <tr>\n",
       "      <th>7609</th>\n",
       "      <td>The Steeping Room</td>\n",
       "      <td>12/7/2014 1 check-in After noticing many frie...</td>\n",
       "      <td>4.0 star rating</td>\n",
       "      <td>[checkin, after, noticing, many, friends, have...</td>\n",
       "    </tr>\n",
       "    <tr>\n",
       "      <th>7610</th>\n",
       "      <td>The Steeping Room</td>\n",
       "      <td>3/1/2016 Great food! I haven't had a meal I d...</td>\n",
       "      <td>5.0 star rating</td>\n",
       "      <td>[great, food, i, havent, had, a, meal, i, did,...</td>\n",
       "    </tr>\n",
       "    <tr>\n",
       "      <th>7611</th>\n",
       "      <td>The Steeping Room</td>\n",
       "      <td>2/19/2015 I actually step into this restauran...</td>\n",
       "      <td>4.0 star rating</td>\n",
       "      <td>[i, actually, step, into, this, restaurant, by...</td>\n",
       "    </tr>\n",
       "    <tr>\n",
       "      <th>7612</th>\n",
       "      <td>The Steeping Room</td>\n",
       "      <td>1/21/2016 Ok, The Steeping Room IS awesome. H...</td>\n",
       "      <td>5.0 star rating</td>\n",
       "      <td>[ok, the, steeping, room, is, awesome, how, do...</td>\n",
       "    </tr>\n",
       "    <tr>\n",
       "      <th>7613</th>\n",
       "      <td>The Steeping Room</td>\n",
       "      <td>4/30/2015 Loved coming here for tea, and the ...</td>\n",
       "      <td>4.0 star rating</td>\n",
       "      <td>[loved, coming, here, for, tea, and, the, atmo...</td>\n",
       "    </tr>\n",
       "    <tr>\n",
       "      <th>7614</th>\n",
       "      <td>The Steeping Room</td>\n",
       "      <td>8/2/2015 The food is just average. The booths...</td>\n",
       "      <td>3.0 star rating</td>\n",
       "      <td>[the, food, is, just, average, the, booths, di...</td>\n",
       "    </tr>\n",
       "    <tr>\n",
       "      <th>7615</th>\n",
       "      <td>The Steeping Room</td>\n",
       "      <td>5/23/2015 I finally stopped in for lunch with...</td>\n",
       "      <td>4.0 star rating</td>\n",
       "      <td>[i, finally, stopped, in, for, lunch, with, my...</td>\n",
       "    </tr>\n",
       "  </tbody>\n",
       "</table>\n",
       "<p>7616 rows × 4 columns</p>\n",
       "</div>"
      ],
      "text/plain": [
       "                     coffee_shop_name  \\\n",
       "0     The Factory - Cafe With a Soul    \n",
       "1     The Factory - Cafe With a Soul    \n",
       "2     The Factory - Cafe With a Soul    \n",
       "3     The Factory - Cafe With a Soul    \n",
       "4     The Factory - Cafe With a Soul    \n",
       "5     The Factory - Cafe With a Soul    \n",
       "6     The Factory - Cafe With a Soul    \n",
       "7     The Factory - Cafe With a Soul    \n",
       "8     The Factory - Cafe With a Soul    \n",
       "9     The Factory - Cafe With a Soul    \n",
       "10    The Factory - Cafe With a Soul    \n",
       "11    The Factory - Cafe With a Soul    \n",
       "12    The Factory - Cafe With a Soul    \n",
       "13    The Factory - Cafe With a Soul    \n",
       "14    The Factory - Cafe With a Soul    \n",
       "15    The Factory - Cafe With a Soul    \n",
       "16    The Factory - Cafe With a Soul    \n",
       "17    The Factory - Cafe With a Soul    \n",
       "18    The Factory - Cafe With a Soul    \n",
       "19    The Factory - Cafe With a Soul    \n",
       "20    The Factory - Cafe With a Soul    \n",
       "21    The Factory - Cafe With a Soul    \n",
       "22    The Factory - Cafe With a Soul    \n",
       "23    The Factory - Cafe With a Soul    \n",
       "24    The Factory - Cafe With a Soul    \n",
       "25    The Factory - Cafe With a Soul    \n",
       "26    The Factory - Cafe With a Soul    \n",
       "27    The Factory - Cafe With a Soul    \n",
       "28    The Factory - Cafe With a Soul    \n",
       "29    The Factory - Cafe With a Soul    \n",
       "...                               ...   \n",
       "7586               The Steeping Room    \n",
       "7587               The Steeping Room    \n",
       "7588               The Steeping Room    \n",
       "7589               The Steeping Room    \n",
       "7590               The Steeping Room    \n",
       "7591               The Steeping Room    \n",
       "7592               The Steeping Room    \n",
       "7593               The Steeping Room    \n",
       "7594               The Steeping Room    \n",
       "7595               The Steeping Room    \n",
       "7596               The Steeping Room    \n",
       "7597               The Steeping Room    \n",
       "7598               The Steeping Room    \n",
       "7599               The Steeping Room    \n",
       "7600               The Steeping Room    \n",
       "7601               The Steeping Room    \n",
       "7602               The Steeping Room    \n",
       "7603               The Steeping Room    \n",
       "7604               The Steeping Room    \n",
       "7605               The Steeping Room    \n",
       "7606               The Steeping Room    \n",
       "7607               The Steeping Room    \n",
       "7608               The Steeping Room    \n",
       "7609               The Steeping Room    \n",
       "7610               The Steeping Room    \n",
       "7611               The Steeping Room    \n",
       "7612               The Steeping Room    \n",
       "7613               The Steeping Room    \n",
       "7614               The Steeping Room    \n",
       "7615               The Steeping Room    \n",
       "\n",
       "                                       full_review_text        star_rating  \\\n",
       "0      11/25/2016 1 check-in Love love loved the atm...   5.0 star rating    \n",
       "1      12/2/2016 Listed in Date Night: Austin, Ambia...   4.0 star rating    \n",
       "2      11/30/2016 1 check-in Listed in Brunch Spots ...   4.0 star rating    \n",
       "3      11/25/2016 Very cool decor! Good drinks Nice ...   2.0 star rating    \n",
       "4      12/3/2016 1 check-in They are located within ...   4.0 star rating    \n",
       "5      11/20/2016 1 check-in Very cute cafe! I think...   4.0 star rating    \n",
       "6      10/27/2016 2 check-ins Listed in \"Nuptial Cof...   4.0 star rating    \n",
       "7      11/2/2016 2 check-ins Love this place!  5 sta...   5.0 star rating    \n",
       "8      10/25/2016 1 check-in Ok, let's try this appr...   3.0 star rating    \n",
       "9      11/10/2016 3 check-ins This place has been sh...   5.0 star rating    \n",
       "10     10/22/2016 1 check-in Listed in Americano Thi...   4.0 star rating    \n",
       "11     11/20/2016 The store has A+ decoration, but h...   3.0 star rating    \n",
       "12     11/17/2016 1 check-in Listed in 2016 - The Th...   3.0 star rating    \n",
       "13     12/5/2016 This is such a cute little cafe! I'...   5.0 star rating    \n",
       "14     11/13/2016 Beautiful eccentric coffee shop wi...   5.0 star rating    \n",
       "15     11/9/2016 1 check-in Listed in In Search of F...   5.0 star rating    \n",
       "16     11/6/2016 Really love the atmosphere here! I ...   5.0 star rating    \n",
       "17     10/25/2016 1 check-in Check out this video fo...   4.0 star rating    \n",
       "18     10/15/2016 1 check-in Note: Do not come here ...   4.0 star rating    \n",
       "19     12/1/2016 So much aesthetic in this place. I ...   4.0 star rating    \n",
       "20     10/12/2016 1 check-in Checked out The Factory...   5.0 star rating    \n",
       "21     10/10/2016 This place is so cute. New favorit...   5.0 star rating    \n",
       "22     10/25/2016 Tried this new cafe spot on Burnet...   4.0 star rating    \n",
       "23     11/16/2016 The greeting of an atmosphere it f...   5.0 star rating    \n",
       "24     11/17/2016 Craft coffee drinks, tea, and beer...   5.0 star rating    \n",
       "25     12/2/2016 Okay, so after visiting my friends ...   1.0 star rating    \n",
       "26     11/9/2016 1 check-in Guys, this place is amaz...   5.0 star rating    \n",
       "27     12/2/2016 What a fantastic atmosphere. I drop...   5.0 star rating    \n",
       "28     12/1/2016 This place is amazing! No wifi, but...   5.0 star rating    \n",
       "29     11/11/2016 I never write Yelp reviews, ever. ...   5.0 star rating    \n",
       "...                                                 ...                ...   \n",
       "7586   4/21/2013 Listed in So, you wanna eat in Nort...   4.0 star rating    \n",
       "7587   3/6/2013 2 check-ins Listed in 100 Yelp Revie...   4.0 star rating    \n",
       "7588   2/5/2015 6 check-ins Let me start by saying t...   5.0 star rating    \n",
       "7589   12/20/2015 This is a great restaurant. I thin...   5.0 star rating    \n",
       "7590   1/15/2015 So today I tried this place. I have...   3.0 star rating    \n",
       "7591   10/6/2015 This is one of the best places to e...   5.0 star rating    \n",
       "7592   5/20/2016 Good service. Good food. Prices are...   4.0 star rating    \n",
       "7593   4/3/2015 1 check-in My favorite tea is the Ja...   4.0 star rating    \n",
       "7594   2/17/2015 1 check-in This is my favorite tea ...   5.0 star rating    \n",
       "7595   1/9/2013 4 check-ins Listed in Vegan and the ...   4.0 star rating    \n",
       "7596   12/3/2015 I had the best experience at this r...   5.0 star rating    \n",
       "7597   1/3/2014 1 check-in Listed in 2014 Yelp 100 C...   4.0 star rating    \n",
       "7598   4/13/2015 I went to the steeping room today f...   5.0 star rating    \n",
       "7599   3/28/2015 1 check-in I am someone that hates ...   5.0 star rating    \n",
       "7600   5/10/2015 Great service with unimaginative an...   2.0 star rating    \n",
       "7601   2/22/2015 1 check-in Great selection of teas ...   4.0 star rating    \n",
       "7602   9/6/2015 2 check-ins I go here almost every w...   4.0 star rating    \n",
       "7603   3/15/2014 1 check-in Went here for lunch toda...   4.0 star rating    \n",
       "7604   10/25/2015 A few complaints about a wonderful...   4.0 star rating    \n",
       "7605   10/22/2015 I got the Chipotle Chocolate Chai ...   5.0 star rating    \n",
       "7606   6/11/2015 Same great tea and food as their Do...   4.0 star rating    \n",
       "7607   8/14/2015 This place is amazing! It's one of ...   5.0 star rating    \n",
       "7608   9/20/2015 I come here when I visit my friend ...   4.0 star rating    \n",
       "7609   12/7/2014 1 check-in After noticing many frie...   4.0 star rating    \n",
       "7610   3/1/2016 Great food! I haven't had a meal I d...   5.0 star rating    \n",
       "7611   2/19/2015 I actually step into this restauran...   4.0 star rating    \n",
       "7612   1/21/2016 Ok, The Steeping Room IS awesome. H...   5.0 star rating    \n",
       "7613   4/30/2015 Loved coming here for tea, and the ...   4.0 star rating    \n",
       "7614   8/2/2015 The food is just average. The booths...   3.0 star rating    \n",
       "7615   5/23/2015 I finally stopped in for lunch with...   4.0 star rating    \n",
       "\n",
       "                                                 tokens  \n",
       "0     [checkin, love, love, loved, the, atmosphere, ...  \n",
       "1     [listed, in, date, night, austin, ambiance, in...  \n",
       "2     [checkin, listed, in, brunch, spots, i, loved,...  \n",
       "3     [very, cool, decor, good, drinks, nice, seatin...  \n",
       "4     [checkin, they, are, located, within, the, nor...  \n",
       "5     [checkin, very, cute, cafe, i, think, from, th...  \n",
       "6     [checkins, listed, in, nuptial, coffee, bliss,...  \n",
       "7     [checkins, love, this, place, stars, for, clea...  \n",
       "8     [checkin, ok, lets, try, this, approach, pros,...  \n",
       "9     [checkins, this, place, has, been, shown, on, ...  \n",
       "10    [checkin, listed, in, americano, this, is, not...  \n",
       "11    [the, store, has, a, decoration, but, honestly...  \n",
       "12    [checkin, listed, in, the, third, time, is, a,...  \n",
       "13    [this, is, such, a, cute, little, cafe, ive, d...  \n",
       "14    [beautiful, eccentric, coffee, shop, with, a, ...  \n",
       "15    [checkin, listed, in, in, search, of, fantasti...  \n",
       "16    [really, love, the, atmosphere, here, i, frequ...  \n",
       "17    [checkin, check, out, this, video, for, a, rev...  \n",
       "18    [checkin, note, do, not, come, here, if, youre...  \n",
       "19    [so, much, aesthetic, in, this, place, i, love...  \n",
       "20    [checkin, checked, out, the, factory, this, pa...  \n",
       "21    [this, place, is, so, cute, new, favorite, cof...  \n",
       "22    [tried, this, new, cafe, spot, on, burnet, wit...  \n",
       "23    [the, greeting, of, an, atmosphere, it, feels,...  \n",
       "24    [craft, coffee, drinks, tea, and, beerwine, fr...  \n",
       "25    [okay, so, after, visiting, my, friends, in, l...  \n",
       "26    [checkin, guys, this, place, is, amazing, limi...  \n",
       "27    [what, a, fantastic, atmosphere, i, dropped, i...  \n",
       "28    [this, place, is, amazing, no, wifi, but, that...  \n",
       "29    [i, never, write, yelp, reviews, ever, but, wh...  \n",
       "...                                                 ...  \n",
       "7586  [listed, in, so, you, wanna, eat, in, north, c...  \n",
       "7587  [checkins, listed, in, yelp, review, challenge...  \n",
       "7588  [checkins, let, me, start, by, saying, that, s...  \n",
       "7589  [this, is, a, great, restaurant, i, think, the...  \n",
       "7590  [so, today, i, tried, this, place, i, have, be...  \n",
       "7591  [this, is, one, of, the, best, places, to, eat...  \n",
       "7592  [good, service, good, food, prices, are, too, ...  \n",
       "7593  [checkin, my, favorite, tea, is, the, jasmine,...  \n",
       "7594  [checkin, this, is, my, favorite, tea, place, ...  \n",
       "7595  [checkins, listed, in, vegan, and, the, beast,...  \n",
       "7596  [i, had, the, best, experience, at, this, rest...  \n",
       "7597  [checkin, listed, in, yelp, challenge, holla, ...  \n",
       "7598  [i, went, to, the, steeping, room, today, for,...  \n",
       "7599  [checkin, i, am, someone, that, hates, going, ...  \n",
       "7600  [great, service, with, unimaginative, and, une...  \n",
       "7601  [checkin, great, selection, of, teas, to, purc...  \n",
       "7602  [checkins, i, go, here, almost, every, week, f...  \n",
       "7603  [checkin, went, here, for, lunch, today, with,...  \n",
       "7604  [a, few, complaints, about, a, wonderful, litt...  \n",
       "7605  [i, got, the, chipotle, chocolate, chai, tea, ...  \n",
       "7606  [same, great, tea, and, food, as, their, domai...  \n",
       "7607  [this, place, is, amazing, its, one, of, my, f...  \n",
       "7608  [i, come, here, when, i, visit, my, friend, in...  \n",
       "7609  [checkin, after, noticing, many, friends, have...  \n",
       "7610  [great, food, i, havent, had, a, meal, i, did,...  \n",
       "7611  [i, actually, step, into, this, restaurant, by...  \n",
       "7612  [ok, the, steeping, room, is, awesome, how, do...  \n",
       "7613  [loved, coming, here, for, tea, and, the, atmo...  \n",
       "7614  [the, food, is, just, average, the, booths, di...  \n",
       "7615  [i, finally, stopped, in, for, lunch, with, my...  \n",
       "\n",
       "[7616 rows x 4 columns]"
      ]
     },
     "execution_count": 22,
     "metadata": {},
     "output_type": "execute_result"
    }
   ],
   "source": [
    "shops"
   ]
  },
  {
   "cell_type": "markdown",
   "metadata": {
    "colab_type": "text",
    "id": "1dCb1q8XphcP",
    "toc-hr-collapsed": true
   },
   "source": [
    "df['tokens'] = shops['full_review_text'].apply(tokenize)"
   ]
  },
  {
   "cell_type": "code",
   "execution_count": 27,
   "metadata": {},
   "outputs": [
    {
     "data": {
      "text/plain": [
       "[('the', 34809),\n",
       " ('and', 26651),\n",
       " ('a', 22756),\n",
       " ('i', 20249),\n",
       " ('to', 17164),\n",
       " ('of', 12600),\n",
       " ('is', 11999),\n",
       " ('coffee', 10354),\n",
       " ('was', 9707),\n",
       " ('in', 9546)]"
      ]
     },
     "execution_count": 27,
     "metadata": {},
     "output_type": "execute_result"
    }
   ],
   "source": [
    "# Object from Base Python\n",
    "from collections import Counter\n",
    "\n",
    "# The object `Counter` takes an iterable, but you can instaniate an empty one and update it. \n",
    "word_counts = Counter()\n",
    "\n",
    "# Update it based on a split of each of our documents\n",
    "shops['tokens'].apply(lambda x: word_counts.update(x))\n",
    "\n",
    "# Print out the 10 most common words\n",
    "word_counts.most_common(10)"
   ]
  },
  {
   "cell_type": "code",
   "execution_count": 47,
   "metadata": {},
   "outputs": [
    {
     "data": {
      "text/plain": [
       "Counter({'one two': 1, 'two': 2, 'four': 1})"
      ]
     },
     "execution_count": 47,
     "metadata": {},
     "output_type": "execute_result"
    }
   ],
   "source": [
    "Counter(['one two','two','two','four'])"
   ]
  },
  {
   "cell_type": "code",
   "execution_count": 44,
   "metadata": {},
   "outputs": [
    {
     "data": {
      "text/plain": [
       "{(1, 'four'), (1, 'one two'), (2, 'two')}"
      ]
     },
     "execution_count": 44,
     "metadata": {},
     "output_type": "execute_result"
    }
   ],
   "source": [
    "set(zip(Counter(['one two','two','two','four']).values(), Counter(['one two','two','two','four']).keys()))"
   ]
  },
  {
   "cell_type": "code",
   "execution_count": 48,
   "metadata": {},
   "outputs": [],
   "source": [
    "def count(docs):\n",
    "\n",
    "        word_counts = Counter()\n",
    "        appears_in = Counter()\n",
    "        \n",
    "        total_docs = len(docs)\n",
    "\n",
    "        for doc in docs:\n",
    "            word_counts.update(doc)\n",
    "            appears_in.update(set(doc))\n",
    "\n",
    "        temp = zip(word_counts.keys(), word_counts.values())\n",
    "        \n",
    "        wc = pd.DataFrame(temp, columns = ['word', 'count'])\n",
    "\n",
    "        wc['rank'] = wc['count'].rank(method='first', ascending=False)\n",
    "        total = wc['count'].sum()\n",
    "\n",
    "        wc['pct_total'] = wc['count'].apply(lambda x: x / total)\n",
    "        \n",
    "        wc = wc.sort_values(by='rank')\n",
    "        wc['cul_pct_total'] = wc['pct_total'].cumsum()\n",
    "\n",
    "        t2 = zip(appears_in.keys(), appears_in.values())\n",
    "        ac = pd.DataFrame(t2, columns=['word', 'appears_in'])\n",
    "        wc = ac.merge(wc, on='word')\n",
    "\n",
    "        wc['appears_in_pct'] = wc['appears_in'].apply(lambda x: x / total_docs)\n",
    "        \n",
    "        return wc.sort_values(by='rank')"
   ]
  },
  {
   "cell_type": "code",
   "execution_count": 50,
   "metadata": {},
   "outputs": [],
   "source": [
    "wc = count(shops['tokens'])"
   ]
  },
  {
   "cell_type": "code",
   "execution_count": 51,
   "metadata": {},
   "outputs": [
    {
     "data": {
      "text/html": [
       "<div>\n",
       "<style scoped>\n",
       "    .dataframe tbody tr th:only-of-type {\n",
       "        vertical-align: middle;\n",
       "    }\n",
       "\n",
       "    .dataframe tbody tr th {\n",
       "        vertical-align: top;\n",
       "    }\n",
       "\n",
       "    .dataframe thead th {\n",
       "        text-align: right;\n",
       "    }\n",
       "</style>\n",
       "<table border=\"1\" class=\"dataframe\">\n",
       "  <thead>\n",
       "    <tr style=\"text-align: right;\">\n",
       "      <th></th>\n",
       "      <th>word</th>\n",
       "      <th>appears_in</th>\n",
       "      <th>count</th>\n",
       "      <th>rank</th>\n",
       "      <th>pct_total</th>\n",
       "      <th>cul_pct_total</th>\n",
       "      <th>appears_in_pct</th>\n",
       "    </tr>\n",
       "  </thead>\n",
       "  <tbody>\n",
       "    <tr>\n",
       "      <th>46</th>\n",
       "      <td>the</td>\n",
       "      <td>6847</td>\n",
       "      <td>34809</td>\n",
       "      <td>1.0</td>\n",
       "      <td>0.045412</td>\n",
       "      <td>0.045412</td>\n",
       "      <td>0.899028</td>\n",
       "    </tr>\n",
       "    <tr>\n",
       "      <th>12</th>\n",
       "      <td>and</td>\n",
       "      <td>6864</td>\n",
       "      <td>26651</td>\n",
       "      <td>2.0</td>\n",
       "      <td>0.034769</td>\n",
       "      <td>0.080180</td>\n",
       "      <td>0.901261</td>\n",
       "    </tr>\n",
       "    <tr>\n",
       "      <th>57</th>\n",
       "      <td>a</td>\n",
       "      <td>6246</td>\n",
       "      <td>22756</td>\n",
       "      <td>3.0</td>\n",
       "      <td>0.029687</td>\n",
       "      <td>0.109868</td>\n",
       "      <td>0.820116</td>\n",
       "    </tr>\n",
       "    <tr>\n",
       "      <th>61</th>\n",
       "      <td>i</td>\n",
       "      <td>5532</td>\n",
       "      <td>20249</td>\n",
       "      <td>4.0</td>\n",
       "      <td>0.026417</td>\n",
       "      <td>0.136284</td>\n",
       "      <td>0.726366</td>\n",
       "    </tr>\n",
       "    <tr>\n",
       "      <th>42</th>\n",
       "      <td>to</td>\n",
       "      <td>5653</td>\n",
       "      <td>17164</td>\n",
       "      <td>5.0</td>\n",
       "      <td>0.022392</td>\n",
       "      <td>0.158676</td>\n",
       "      <td>0.742253</td>\n",
       "    </tr>\n",
       "  </tbody>\n",
       "</table>\n",
       "</div>"
      ],
      "text/plain": [
       "   word  appears_in  count  rank  pct_total  cul_pct_total  appears_in_pct\n",
       "46  the        6847  34809   1.0   0.045412       0.045412        0.899028\n",
       "12  and        6864  26651   2.0   0.034769       0.080180        0.901261\n",
       "57    a        6246  22756   3.0   0.029687       0.109868        0.820116\n",
       "61    i        5532  20249   4.0   0.026417       0.136284        0.726366\n",
       "42   to        5653  17164   5.0   0.022392       0.158676        0.742253"
      ]
     },
     "execution_count": 51,
     "metadata": {},
     "output_type": "execute_result"
    }
   ],
   "source": [
    "wc.head()"
   ]
  },
  {
   "cell_type": "code",
   "execution_count": 52,
   "metadata": {},
   "outputs": [
    {
     "data": {
      "image/png": "[encoded data removed]",
      "text/plain": [
       "<Figure size 432x288 with 1 Axes>"
      ]
     },
     "metadata": {
      "needs_background": "light"
     },
     "output_type": "display_data"
    }
   ],
   "source": [
    "import seaborn as sns\n",
    "\n",
    "# Cumulative Distribution Plot\n",
    "sns.lineplot(x='rank', y='cul_pct_total', data=wc);"
   ]
  },
  {
   "cell_type": "code",
   "execution_count": 55,
   "metadata": {},
   "outputs": [
    {
     "data": {
      "text/plain": [
       "0.9635966565908631"
      ]
     },
     "execution_count": 55,
     "metadata": {},
     "output_type": "execute_result"
    }
   ],
   "source": [
    "wc[wc['rank'] <= 4750]['cul_pct_total'].max()"
   ]
  },
  {
   "cell_type": "code",
   "execution_count": 59,
   "metadata": {},
   "outputs": [
    {
     "data": {
      "image/png": "[encoded data removed]",
      "text/plain": [
       "<Figure size 432x288 with 1 Axes>"
      ]
     },
     "metadata": {
      "needs_background": "light"
     },
     "output_type": "display_data"
    }
   ],
   "source": [
    "import squarify\n",
    "import matplotlib.pyplot as plt\n",
    "\n",
    "wc_top20 = wc[wc['rank'] <= 50]\n",
    "\n",
    "squarify.plot(sizes=wc_top20['pct_total'], label=wc_top20['word'], alpha=.8 )\n",
    "plt.axis('off')\n",
    "plt.show()"
   ]
  },
  {
   "cell_type": "code",
   "execution_count": 60,
   "metadata": {},
   "outputs": [],
   "source": [
    "import spacy\n",
    "from spacy.tokenizer import Tokenizer\n",
    "\n",
    "nlp = spacy.load(\"en_core_web_md\")\n",
    "\n",
    "# Tokenizer\n",
    "tokenizer = Tokenizer(nlp.vocab)"
   ]
  },
  {
   "cell_type": "code",
   "execution_count": null,
   "metadata": {},
   "outputs": [],
   "source": [
    "[token.text for token in tokenizer(sample)]"
   ]
  },
  {
   "cell_type": "code",
   "execution_count": 80,
   "metadata": {},
   "outputs": [],
   "source": [
    "# Tokenizer Pipe\n",
    "\n",
    "tokens = []\n",
    "\n",
    "\"\"\" Make them tokens \"\"\"\n",
    "for doc in tokenizer.pipe(shops['full_review_text'], batch_size=500):\n",
    "    doc_tokens = [token.text for token in doc[1:]]\n",
    "    tokens.append(doc_tokens)\n",
    "\n",
    "shops['tokens2'] = tokens"
   ]
  },
  {
   "cell_type": "code",
   "execution_count": 81,
   "metadata": {},
   "outputs": [
    {
     "data": {
      "text/plain": [
       "0       [11/25/2016, 1, check-in, Love, love, loved, t...\n",
       "1       [12/2/2016, Listed, in, Date, Night:, Austin,,...\n",
       "2       [11/30/2016, 1, check-in, Listed, in, Brunch, ...\n",
       "3       [11/25/2016, Very, cool, decor!, Good, drinks,...\n",
       "4       [12/3/2016, 1, check-in, They, are, located, w...\n",
       "5       [11/20/2016, 1, check-in, Very, cute, cafe!, I...\n",
       "6       [10/27/2016, 2, check-ins, Listed, in, \"Nuptia...\n",
       "7       [11/2/2016, 2, check-ins, Love, this, place!, ...\n",
       "8       [10/25/2016, 1, check-in, Ok,, let's, try, thi...\n",
       "9       [11/10/2016, 3, check-ins, This, place, has, b...\n",
       "10      [10/22/2016, 1, check-in, Listed, in, American...\n",
       "11      [11/20/2016, The, store, has, A+, decoration,,...\n",
       "12      [11/17/2016, 1, check-in, Listed, in, 2016, -,...\n",
       "13      [12/5/2016, This, is, such, a, cute, little, c...\n",
       "14      [11/13/2016, Beautiful, eccentric, coffee, sho...\n",
       "15      [11/9/2016, 1, check-in, Listed, in, In, Searc...\n",
       "16      [11/6/2016, Really, love, the, atmosphere, her...\n",
       "17      [10/25/2016, 1, check-in, Check, out, this, vi...\n",
       "18      [10/15/2016, 1, check-in, Note:, Do, not, come...\n",
       "19      [12/1/2016, So, much, aesthetic, in, this, pla...\n",
       "20      [10/12/2016, 1, check-in, Checked, out, The, F...\n",
       "21      [10/10/2016, This, place, is, so, cute., New, ...\n",
       "22      [10/25/2016, Tried, this, new, cafe, spot, on,...\n",
       "23      [11/16/2016, The, greeting, of, an, atmosphere...\n",
       "24      [11/17/2016, Craft, coffee, drinks,, tea,, and...\n",
       "25      [12/2/2016, Okay,, so, after, visiting, my, fr...\n",
       "26      [11/9/2016, 1, check-in, Guys,, this, place, i...\n",
       "27      [12/2/2016, What, a, fantastic, atmosphere., I...\n",
       "28      [12/1/2016, This, place, is, amazing!, No, wif...\n",
       "29      [11/11/2016, I, never, write, Yelp, reviews,, ...\n",
       "                              ...                        \n",
       "7586    [4/21/2013, Listed, in, So,, you, wanna, eat, ...\n",
       "7587    [3/6/2013, 2, check-ins, Listed, in, 100, Yelp...\n",
       "7588    [2/5/2015, 6, check-ins, Let, me, start, by, s...\n",
       "7589    [12/20/2015, This, is, a, great, restaurant., ...\n",
       "7590    [1/15/2015, So, today, I, tried, this, place.,...\n",
       "7591    [10/6/2015, This, is, one, of, the, best, plac...\n",
       "7592    [5/20/2016, Good, service., Good, food., Price...\n",
       "7593    [4/3/2015, 1, check-in, My, favorite, tea, is,...\n",
       "7594    [2/17/2015, 1, check-in, This, is, my, favorit...\n",
       "7595    [1/9/2013, 4, check-ins, Listed, in, Vegan, an...\n",
       "7596    [12/3/2015, I, had, the, best, experience, at,...\n",
       "7597    [1/3/2014, 1, check-in, Listed, in, 2014, Yelp...\n",
       "7598    [4/13/2015, I, went, to, the, steeping, room, ...\n",
       "7599    [3/28/2015, 1, check-in, I, am, someone, that,...\n",
       "7600    [5/10/2015, Great, service, with, unimaginativ...\n",
       "7601    [2/22/2015, 1, check-in, Great, selection, of,...\n",
       "7602    [9/6/2015, 2, check-ins, I, go, here, almost, ...\n",
       "7603    [3/15/2014, 1, check-in, Went, here, for, lunc...\n",
       "7604    [10/25/2015, A, few, complaints, about, a, won...\n",
       "7605    [10/22/2015, I, got, the, Chipotle, Chocolate,...\n",
       "7606    [6/11/2015, Same, great, tea, and, food, as, t...\n",
       "7607    [8/14/2015, This, place, is, amazing!, It's, o...\n",
       "7608    [9/20/2015, I, come, here, when, I, visit, my,...\n",
       "7609    [12/7/2014, 1, check-in, After, noticing, many...\n",
       "7610    [3/1/2016, Great, food!, I, haven't, had, a, m...\n",
       "7611    [2/19/2015, I, actually, step, into, this, res...\n",
       "7612    [1/21/2016, Ok,, The, Steeping, Room, IS, awes...\n",
       "7613    [4/30/2015, Loved, coming, here, for, tea,, an...\n",
       "7614    [8/2/2015, The, food, is, just, average., The,...\n",
       "7615    [5/23/2015, I, finally, stopped, in, for, lunc...\n",
       "Name: tokens2, Length: 7616, dtype: object"
      ]
     },
     "execution_count": 81,
     "metadata": {},
     "output_type": "execute_result"
    }
   ],
   "source": [
    "shops['tokens2']"
   ]
  },
  {
   "cell_type": "code",
   "execution_count": 82,
   "metadata": {},
   "outputs": [
    {
     "name": "stdout",
     "output_type": "stream",
     "text": [
      "<generator object at 0x00000232CBDE1378>\n"
     ]
    }
   ],
   "source": [
    "print(tokenizer.pipe(shops['full_review_text'], batch_size=500))"
   ]
  },
  {
   "cell_type": "code",
   "execution_count": 83,
   "metadata": {},
   "outputs": [],
   "source": [
    "wc = count(shops['tokens2'])"
   ]
  },
  {
   "cell_type": "code",
   "execution_count": 84,
   "metadata": {},
   "outputs": [
    {
     "data": {
      "text/html": [
       "<div>\n",
       "<style scoped>\n",
       "    .dataframe tbody tr th:only-of-type {\n",
       "        vertical-align: middle;\n",
       "    }\n",
       "\n",
       "    .dataframe tbody tr th {\n",
       "        vertical-align: top;\n",
       "    }\n",
       "\n",
       "    .dataframe thead th {\n",
       "        text-align: right;\n",
       "    }\n",
       "</style>\n",
       "<table border=\"1\" class=\"dataframe\">\n",
       "  <thead>\n",
       "    <tr style=\"text-align: right;\">\n",
       "      <th></th>\n",
       "      <th>word</th>\n",
       "      <th>appears_in</th>\n",
       "      <th>count</th>\n",
       "      <th>rank</th>\n",
       "      <th>pct_total</th>\n",
       "      <th>cul_pct_total</th>\n",
       "      <th>appears_in_pct</th>\n",
       "    </tr>\n",
       "  </thead>\n",
       "  <tbody>\n",
       "    <tr>\n",
       "      <th>50</th>\n",
       "      <td>the</td>\n",
       "      <td>6520</td>\n",
       "      <td>27779</td>\n",
       "      <td>1.0</td>\n",
       "      <td>0.034660</td>\n",
       "      <td>0.034660</td>\n",
       "      <td>0.856092</td>\n",
       "    </tr>\n",
       "    <tr>\n",
       "      <th>2</th>\n",
       "      <td>and</td>\n",
       "      <td>6804</td>\n",
       "      <td>25748</td>\n",
       "      <td>2.0</td>\n",
       "      <td>0.032126</td>\n",
       "      <td>0.066786</td>\n",
       "      <td>0.893382</td>\n",
       "    </tr>\n",
       "    <tr>\n",
       "      <th>69</th>\n",
       "      <td>a</td>\n",
       "      <td>6181</td>\n",
       "      <td>22085</td>\n",
       "      <td>3.0</td>\n",
       "      <td>0.027556</td>\n",
       "      <td>0.094342</td>\n",
       "      <td>0.811581</td>\n",
       "    </tr>\n",
       "    <tr>\n",
       "      <th>35</th>\n",
       "      <td>I</td>\n",
       "      <td>5469</td>\n",
       "      <td>19780</td>\n",
       "      <td>4.0</td>\n",
       "      <td>0.024680</td>\n",
       "      <td>0.119021</td>\n",
       "      <td>0.718093</td>\n",
       "    </tr>\n",
       "    <tr>\n",
       "      <th>67</th>\n",
       "      <td>to</td>\n",
       "      <td>5631</td>\n",
       "      <td>16904</td>\n",
       "      <td>5.0</td>\n",
       "      <td>0.021091</td>\n",
       "      <td>0.140112</td>\n",
       "      <td>0.739364</td>\n",
       "    </tr>\n",
       "  </tbody>\n",
       "</table>\n",
       "</div>"
      ],
      "text/plain": [
       "   word  appears_in  count  rank  pct_total  cul_pct_total  appears_in_pct\n",
       "50  the        6520  27779   1.0   0.034660       0.034660        0.856092\n",
       "2   and        6804  25748   2.0   0.032126       0.066786        0.893382\n",
       "69    a        6181  22085   3.0   0.027556       0.094342        0.811581\n",
       "35    I        5469  19780   4.0   0.024680       0.119021        0.718093\n",
       "67   to        5631  16904   5.0   0.021091       0.140112        0.739364"
      ]
     },
     "execution_count": 84,
     "metadata": {},
     "output_type": "execute_result"
    }
   ],
   "source": [
    "wc.head()"
   ]
  },
  {
   "cell_type": "code",
   "execution_count": 93,
   "metadata": {},
   "outputs": [
    {
     "data": {
      "image/png": "[encoded data removed]",
      "text/plain": [
       "<Figure size 432x288 with 1 Axes>"
      ]
     },
     "metadata": {
      "needs_background": "light"
     },
     "output_type": "display_data"
    }
   ],
   "source": [
    "wc_top20 = wc[wc['rank'] <= 20]\n",
    "\n",
    "squarify.plot(sizes=wc_top20['pct_total'], label=wc_top20['word'], alpha=.8 )\n",
    "plt.axis('off')\n",
    "plt.show()"
   ]
  },
  {
   "cell_type": "code",
   "execution_count": null,
   "metadata": {},
   "outputs": [],
   "source": [
    "nlp.Defaults.stop_words"
   ]
  },
  {
   "cell_type": "code",
   "execution_count": 109,
   "metadata": {},
   "outputs": [],
   "source": [
    "STOP_WORDS = nlp.Defaults.stop_words.union([' ','I', 'i', 'and', 'it', \"it's\", 'it.', 'the', 'this','of', 'is', 'my', 'but'])"
   ]
  },
  {
   "cell_type": "code",
   "execution_count": 110,
   "metadata": {},
   "outputs": [],
   "source": [
    "# Tokenizer Pipe\n",
    "\n",
    "tokens = []\n",
    "\n",
    "\"\"\" Make them tokens \"\"\"\n",
    "for doc in tokenizer.pipe(shops['full_review_text'], batch_size=500):\n",
    "    doc_tokens = []\n",
    "    for token in doc[1:]:\n",
    "        if token.text not in STOP_WORDS:\n",
    "            doc_tokens.append(token.text.lower())\n",
    "    tokens.append(doc_tokens)\n",
    "        \n",
    "            \n",
    "shops['tokens2'] = tokens"
   ]
  },
  {
   "cell_type": "code",
   "execution_count": 111,
   "metadata": {},
   "outputs": [
    {
     "data": {
      "text/plain": [
       "['5/23/2015',\n",
       " 'finally',\n",
       " 'stopped',\n",
       " 'lunch',\n",
       " 'colleague',\n",
       " \"i'm\",\n",
       " 'glad',\n",
       " 'did.',\n",
       " 'delicious',\n",
       " 'coconut',\n",
       " 'milk',\n",
       " 'soup',\n",
       " 'chai',\n",
       " 'tea.',\n",
       " 'yum!']"
      ]
     },
     "execution_count": 111,
     "metadata": {},
     "output_type": "execute_result"
    }
   ],
   "source": [
    "doc_tokens"
   ]
  },
  {
   "cell_type": "code",
   "execution_count": null,
   "metadata": {},
   "outputs": [],
   "source": [
    "tokens"
   ]
  },
  {
   "cell_type": "code",
   "execution_count": 105,
   "metadata": {},
   "outputs": [
    {
     "data": {
      "text/plain": [
       "0       [11/25/2016, 1, check-in, love, love, loved, a...\n",
       "1       [12/2/2016, listed, date, night:, austin,, amb...\n",
       "2       [11/30/2016, 1, check-in, listed, brunch, spot...\n",
       "3       [11/25/2016, very, cool, decor!, good, drinks,...\n",
       "4       [12/3/2016, 1, check-in, they, located, northc...\n",
       "5       [11/20/2016, 1, check-in, very, cute, cafe!, t...\n",
       "6       [10/27/2016, 2, check-ins, listed, \"nuptial, c...\n",
       "7       [11/2/2016, 2, check-ins, love, place!,  , 5, ...\n",
       "8       [10/25/2016, 1, check-in, ok,, let's, try, app...\n",
       "9       [11/10/2016, 3, check-ins, this, place, shown,...\n",
       "10      [10/22/2016, 1, check-in, listed, americano, t...\n",
       "11      [11/20/2016, the, store, a+, decoration,, hone...\n",
       "12      [11/17/2016, 1, check-in, listed, 2016, -, the...\n",
       "13      [12/5/2016, this, cute, little, cafe!, i've, d...\n",
       "14      [11/13/2016, beautiful, eccentric, coffee, sho...\n",
       "15      [11/9/2016, 1, check-in, listed, in, search, f...\n",
       "16      [11/6/2016, really, love, atmosphere, here!, f...\n",
       "17      [10/25/2016, 1, check-in, check, video, review...\n",
       "18      [10/15/2016, 1, check-in, note:, do, come, you...\n",
       "19      [12/1/2016, so, aesthetic, place., love, corne...\n",
       "20      [10/12/2016, 1, check-in, checked, the, factor...\n",
       "21      [10/10/2016, this, place, cute., new, favorite...\n",
       "22      [10/25/2016, tried, new, cafe, spot, burnet, f...\n",
       "23      [11/16/2016, the, greeting, atmosphere, feels,...\n",
       "24      [11/17/2016, craft, coffee, drinks,, tea,, bee...\n",
       "25      [12/2/2016, okay,, visiting, friends, la, tryi...\n",
       "26      [11/9/2016, 1, check-in, guys,, place, amazing...\n",
       "27      [12/2/2016, what, fantastic, atmosphere., drop...\n",
       "28      [12/1/2016, this, place, amazing!, no, wifi,, ...\n",
       "29      [11/11/2016, write, yelp, reviews,, ever., but...\n",
       "                              ...                        \n",
       "7586    [4/21/2013, listed, so,, wanna, eat, north, ce...\n",
       "7587    [3/6/2013, 2, check-ins, listed, 100, yelp, re...\n",
       "7588    [2/5/2015, 6, check-ins, let, start, saying, i...\n",
       "7589    [12/20/2015, this, great, restaurant., think, ...\n",
       "7590    [1/15/2015, so, today, tried, place., austin, ...\n",
       "7591    [10/6/2015, this, best, places, eat, austin, y...\n",
       "7592    [5/20/2016, good, service., good, food., price...\n",
       "7593    [4/3/2015, 1, check-in, my, favorite, tea, jas...\n",
       "7594    [2/17/2015, 1, check-in, this, favorite, tea, ...\n",
       "7595    [1/9/2013, 4, check-ins, listed, vegan, beast,...\n",
       "7596    [12/3/2015, best, experience, restaurant!,  , ...\n",
       "7597    [1/3/2014, 1, check-in, listed, 2014, yelp, 10...\n",
       "7598    [4/13/2015, went, steeping, room, today, early...\n",
       "7599    [3/28/2015, 1, check-in, hates, going, food, b...\n",
       "7600    [5/10/2015, great, service, unimaginative, une...\n",
       "7601    [2/22/2015, 1, check-in, great, selection, tea...\n",
       "7602    [9/6/2015, 2, check-ins, week, masala, chai, f...\n",
       "7603    [3/15/2014, 1, check-in, went, lunch, today, l...\n",
       "7604    [10/25/2015, a, complaints, wonderful, little,...\n",
       "7605    [10/22/2015, got, chipotle, chocolate, chai, t...\n",
       "7606    [6/11/2015, same, great, tea, food, domain, lo...\n",
       "7607    [8/14/2015, this, place, amazing!, it's, favor...\n",
       "7608    [9/20/2015, come, visit, friend, austin, fun, ...\n",
       "7609    [12/7/2014, 1, check-in, after, noticing, frie...\n",
       "7610    [3/1/2016, great, food!, haven't, meal, enjoy,...\n",
       "7611    [2/19/2015, actually, step, restaurant, chance...\n",
       "7612    [1/21/2016, ok,, the, steeping, room, is, awes...\n",
       "7613    [4/30/2015, loved, coming, tea,, atmosphere, p...\n",
       "7614    [8/2/2015, the, food, average., the, booths, d...\n",
       "7615    [5/23/2015, finally, stopped, lunch, colleague...\n",
       "Name: tokens2, Length: 7616, dtype: object"
      ]
     },
     "execution_count": 105,
     "metadata": {},
     "output_type": "execute_result"
    }
   ],
   "source": [
    "shops['tokens2']"
   ]
  },
  {
   "cell_type": "code",
   "execution_count": 113,
   "metadata": {},
   "outputs": [],
   "source": [
    "wc = count(shops['tokens2'])"
   ]
  },
  {
   "cell_type": "code",
   "execution_count": 114,
   "metadata": {},
   "outputs": [
    {
     "data": {
      "text/html": [
       "<div>\n",
       "<style scoped>\n",
       "    .dataframe tbody tr th:only-of-type {\n",
       "        vertical-align: middle;\n",
       "    }\n",
       "\n",
       "    .dataframe tbody tr th {\n",
       "        vertical-align: top;\n",
       "    }\n",
       "\n",
       "    .dataframe thead th {\n",
       "        text-align: right;\n",
       "    }\n",
       "</style>\n",
       "<table border=\"1\" class=\"dataframe\">\n",
       "  <thead>\n",
       "    <tr style=\"text-align: right;\">\n",
       "      <th></th>\n",
       "      <th>word</th>\n",
       "      <th>appears_in</th>\n",
       "      <th>count</th>\n",
       "      <th>rank</th>\n",
       "      <th>pct_total</th>\n",
       "      <th>cul_pct_total</th>\n",
       "      <th>appears_in_pct</th>\n",
       "    </tr>\n",
       "  </thead>\n",
       "  <tbody>\n",
       "    <tr>\n",
       "      <th>38</th>\n",
       "      <td>coffee</td>\n",
       "      <td>4210</td>\n",
       "      <td>8058</td>\n",
       "      <td>1.0</td>\n",
       "      <td>0.018720</td>\n",
       "      <td>0.018720</td>\n",
       "      <td>0.552784</td>\n",
       "    </tr>\n",
       "    <tr>\n",
       "      <th>148</th>\n",
       "      <td>the</td>\n",
       "      <td>3936</td>\n",
       "      <td>6870</td>\n",
       "      <td>2.0</td>\n",
       "      <td>0.015960</td>\n",
       "      <td>0.034680</td>\n",
       "      <td>0.516807</td>\n",
       "    </tr>\n",
       "    <tr>\n",
       "      <th>130</th>\n",
       "      <td>place</td>\n",
       "      <td>3029</td>\n",
       "      <td>4264</td>\n",
       "      <td>3.0</td>\n",
       "      <td>0.009906</td>\n",
       "      <td>0.044586</td>\n",
       "      <td>0.397715</td>\n",
       "    </tr>\n",
       "    <tr>\n",
       "      <th>99</th>\n",
       "      <td>great</td>\n",
       "      <td>2438</td>\n",
       "      <td>3250</td>\n",
       "      <td>4.0</td>\n",
       "      <td>0.007550</td>\n",
       "      <td>0.052136</td>\n",
       "      <td>0.320116</td>\n",
       "    </tr>\n",
       "    <tr>\n",
       "      <th>188</th>\n",
       "      <td>like</td>\n",
       "      <td>2034</td>\n",
       "      <td>2902</td>\n",
       "      <td>5.0</td>\n",
       "      <td>0.006742</td>\n",
       "      <td>0.058878</td>\n",
       "      <td>0.267069</td>\n",
       "    </tr>\n",
       "  </tbody>\n",
       "</table>\n",
       "</div>"
      ],
      "text/plain": [
       "       word  appears_in  count  rank  pct_total  cul_pct_total  appears_in_pct\n",
       "38   coffee        4210   8058   1.0   0.018720       0.018720        0.552784\n",
       "148     the        3936   6870   2.0   0.015960       0.034680        0.516807\n",
       "130   place        3029   4264   3.0   0.009906       0.044586        0.397715\n",
       "99    great        2438   3250   4.0   0.007550       0.052136        0.320116\n",
       "188    like        2034   2902   5.0   0.006742       0.058878        0.267069"
      ]
     },
     "execution_count": 114,
     "metadata": {},
     "output_type": "execute_result"
    }
   ],
   "source": [
    "wc.head()"
   ]
  },
  {
   "cell_type": "code",
   "execution_count": 117,
   "metadata": {},
   "outputs": [
    {
     "data": {
      "image/png": "[encoded data removed]",
      "text/plain": [
       "<Figure size 432x288 with 1 Axes>"
      ]
     },
     "metadata": {
      "needs_background": "light"
     },
     "output_type": "display_data"
    }
   ],
   "source": [
    "wc_top30 = wc[wc['rank'] <= 30]\n",
    "\n",
    "squarify.plot(sizes=wc_top30['pct_total'], label=wc_top30['word'], alpha=0.8)\n",
    "plt.axis('off')\n",
    "plt.show()\n",
    "\n"
   ]
  },
  {
   "cell_type": "code",
   "execution_count": 118,
   "metadata": {},
   "outputs": [
    {
     "data": {
      "image/png": "[encoded data removed]",
      "text/plain": [
       "<Figure size 432x288 with 1 Axes>"
      ]
     },
     "metadata": {
      "needs_background": "light"
     },
     "output_type": "display_data"
    }
   ],
   "source": [
    "sns.lineplot(x='rank', y='cul_pct_total', data=wc);\n"
   ]
  },
  {
   "cell_type": "code",
   "execution_count": 119,
   "metadata": {},
   "outputs": [
    {
     "data": {
      "text/plain": [
       "count    40726.000000\n",
       "mean         0.001246\n",
       "std          0.007973\n",
       "min          0.000131\n",
       "25%          0.000131\n",
       "50%          0.000131\n",
       "75%          0.000525\n",
       "max          0.552784\n",
       "Name: appears_in_pct, dtype: float64"
      ]
     },
     "execution_count": 119,
     "metadata": {},
     "output_type": "execute_result"
    }
   ],
   "source": [
    "wc['appears_in_pct'].describe()\n"
   ]
  },
  {
   "cell_type": "code",
   "execution_count": 120,
   "metadata": {},
   "outputs": [
    {
     "name": "stderr",
     "output_type": "stream",
     "text": [
      "C:\\Users\\mhdal\\Anaconda3\\envs\\lambda-nlp\\lib\\site-packages\\scipy\\stats\\stats.py:1713: FutureWarning: Using a non-tuple sequence for multidimensional indexing is deprecated; use `arr[tuple(seq)]` instead of `arr[seq]`. In the future this will be interpreted as an array index, `arr[np.array(seq)]`, which will result either in an error or a different result.\n",
      "  return np.add.reduce(sorted[indexer] * weights, axis=axis) / sumval\n"
     ]
    },
    {
     "data": {
      "image/png": "[encoded data removed]",
      "text/plain": [
       "<Figure size 432x288 with 1 Axes>"
      ]
     },
     "metadata": {
      "needs_background": "light"
     },
     "output_type": "display_data"
    }
   ],
   "source": [
    "sns.distplot(wc['appears_in_pct']);"
   ]
  },
  {
   "cell_type": "code",
   "execution_count": 121,
   "metadata": {},
   "outputs": [],
   "source": [
    "from nltk.stem import PorterStemmer\n",
    "\n",
    "ps = PorterStemmer()\n"
   ]
  },
  {
   "cell_type": "code",
   "execution_count": 136,
   "metadata": {},
   "outputs": [
    {
     "data": {
      "text/plain": [
       "range(0, 7616)"
      ]
     },
     "execution_count": 136,
     "metadata": {},
     "output_type": "execute_result"
    }
   ],
   "source": [
    "range(len(shops))"
   ]
  },
  {
   "cell_type": "code",
   "execution_count": null,
   "metadata": {},
   "outputs": [],
   "source": [
    "stems = []\n",
    "\n",
    "\"\"\" Make them tokens \"\"\"\n",
    "for i in range(len(shops)):\n",
    "        for word in shops['tokens2'].iloc[i,]:\n",
    "            shops['stems'] = ps.stem(word)\n",
    "shops['stems']\n"
   ]
  },
  {
   "cell_type": "markdown",
   "metadata": {},
   "source": []
  },
  {
   "cell_type": "code",
   "execution_count": 134,
   "metadata": {},
   "outputs": [
    {
     "data": {
      "image/png": "[encoded data removed]",
      "text/plain": [
       "<Figure size 432x288 with 1 Axes>"
      ]
     },
     "metadata": {
      "needs_background": "light"
     },
     "output_type": "display_data"
    }
   ],
   "source": [
    "wc = count(shops['stems'])\n",
    "\n",
    "wc_top20 = wc[wc['rank'] <= 20]\n",
    "\n",
    "squarify.plot(sizes=wc_top20['pct_total'], label=wc_top20['word'], alpha=.8 )\n",
    "plt.axis('off')\n",
    "plt.show()"
   ]
  },
  {
   "cell_type": "code",
   "execution_count": 137,
   "metadata": {},
   "outputs": [],
   "source": [
    "def get_lemmas(text):\n",
    "\n",
    "    lemmas = []\n",
    "    \n",
    "    doc = nlp(text)\n",
    "    \n",
    "    # Something goes here :P\n",
    "    for token in doc: \n",
    "        if ((token.is_stop == False) and (token.is_punct == False)) and (token.pos_!= 'PRON'):\n",
    "            lemmas.append(token.lemma_)\n",
    "    \n",
    "    return lemmas"
   ]
  },
  {
   "cell_type": "code",
   "execution_count": 138,
   "metadata": {},
   "outputs": [],
   "source": [
    "shops['lemmas'] = shops['full_review_text'].apply(get_lemmas)\n"
   ]
  },
  {
   "cell_type": "code",
   "execution_count": 139,
   "metadata": {},
   "outputs": [
    {
     "data": {
      "text/plain": [
       "0    [ , 11/25/2016, 1, check, in, love, love, love...\n",
       "1    [ , 12/2/2016, listed, in, date, night, austin...\n",
       "2    [ , 11/30/2016, 1, check, in, listed, in, brun...\n",
       "3    [ , 11/25/2016, very, cool, decor, good, drink...\n",
       "4    [ , 12/3/2016, 1, check, in, be, locate, withi...\n",
       "Name: lemmas, dtype: object"
      ]
     },
     "execution_count": 139,
     "metadata": {},
     "output_type": "execute_result"
    }
   ],
   "source": [
    "shops['lemmas'].head()"
   ]
  },
  {
   "cell_type": "code",
   "execution_count": 140,
   "metadata": {},
   "outputs": [
    {
     "data": {
      "image/png": "[encoded data removed]",
      "text/plain": [
       "<Figure size 432x288 with 1 Axes>"
      ]
     },
     "metadata": {
      "needs_background": "light"
     },
     "output_type": "display_data"
    }
   ],
   "source": [
    "wc = count(shops['lemmas'])\n",
    "wc_top20 = wc[wc['rank'] <= 20]\n",
    "\n",
    "squarify.plot(sizes=wc_top20['pct_total'], label=wc_top20['word'], alpha=.8 )\n",
    "plt.axis('off')\n",
    "plt.show()"
   ]
  },
  {
   "cell_type": "code",
   "execution_count": null,
   "metadata": {},
   "outputs": [],
   "source": []
  }
 ],
 "metadata": {
  "colab": {
   "collapsed_sections": [],
   "name": "LS_DS_421_Text_Data_Assignment.ipynb",
   "provenance": [],
   "version": "0.3.2"
  },
  "kernelspec": {
   "display_name": "Python [conda env:lambda-nlp]",
   "language": "python",
   "name": "conda-env-lambda-nlp-py"
  },
  "language_info": {
   "codemirror_mode": {
    "name": "ipython",
    "version": 3
   },
   "file_extension": ".py",
   "mimetype": "text/x-python",
   "name": "python",
   "nbconvert_exporter": "python",
   "pygments_lexer": "ipython3",
   "version": "3.7.3"
  },
  "toc-autonumbering": false
 },
 "nbformat": 4,
 "nbformat_minor": 2
}
