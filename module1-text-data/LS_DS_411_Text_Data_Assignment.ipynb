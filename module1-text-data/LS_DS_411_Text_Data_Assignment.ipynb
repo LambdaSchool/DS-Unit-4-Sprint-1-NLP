{
 "cells": [
  {
   "cell_type": "markdown",
   "metadata": {},
   "source": [
    "<img align=\"left\" src=\"https://lever-client-logos.s3.amazonaws.com/864372b1-534c-480e-acd5-9711f850815c-1524247202159.png\" width=200>\n",
    "<br></br>\n",
    "<br></br>\n",
    "\n",
    "# Natural Language Processing (NLP)\n",
    "## *Data Science Unit 4 Sprint 1 Assignment 1*\n",
    "\n",
    "Your goal in this assignment: find the attributes of the best & worst coffee shops in the dataset. The text is fairly raw: dates in the review, extra words in the `star_rating` column, etc. You'll probably want to clean that stuff up for a better analysis. \n",
    "\n",
    "Analyze the corpus of text using text visualizations of token frequency. Try cleaning the data as much as possible. Try the following techniques: \n",
    "- Lemmatization\n",
    "- Custom stopword removal\n",
    "\n",
    "Keep in mind the attributes of good tokens. Once you have a solid baseline, layer in the star rating in your visualization(s). Key part of this assignment - produce a write-up of the attributes of the best and worst coffee shops. Based on your analysis, what makes the best the best and the worst the worst. Use graphs and numbers from your analysis to support your conclusions. There should be plenty of markdown cells! :coffee:"
   ]
  },
  {
   "cell_type": "code",
   "execution_count": 1,
   "metadata": {},
   "outputs": [
    {
     "data": {
      "image/jpeg": "[encoded data removed]",
      "text/html": [
       "\n",
       "        <iframe\n",
       "            width=\"400\"\n",
       "            height=\"300\"\n",
       "            src=\"https://www.youtube.com/embed/Jml7NVYm8cs\"\n",
       "            frameborder=\"0\"\n",
       "            allowfullscreen\n",
       "        ></iframe>\n",
       "        "
      ],
      "text/plain": [
       "<IPython.lib.display.YouTubeVideo at 0x21a7a96d438>"
      ]
     },
     "execution_count": 1,
     "metadata": {},
     "output_type": "execute_result"
    }
   ],
   "source": [
    "from IPython.display import YouTubeVideo\n",
    "\n",
    "YouTubeVideo('Jml7NVYm8cs')"
   ]
  },
  {
   "cell_type": "code",
   "execution_count": 2,
   "metadata": {},
   "outputs": [
    {
     "data": {
      "text/plain": [
       "'C:\\\\Users\\\\Lenovo\\\\DS-Unit-4-Sprint-1-NLP\\\\module1-text-data'"
      ]
     },
     "execution_count": 2,
     "metadata": {},
     "output_type": "execute_result"
    }
   ],
   "source": [
    "%pwd"
   ]
  },
  {
   "cell_type": "code",
   "execution_count": null,
   "metadata": {},
   "outputs": [],
   "source": [
    "\"\"\"\n",
    "Import Statements\n",
    "\"\"\"\n",
    "\n",
    "# Base\n",
    "from collections import Counter\n",
    "import re\n",
    " \n",
    "import pandas as pd\n",
    "\n",
    "# Plotting\n",
    "import squarify\n",
    "import matplotlib.pyplot as plt\n",
    "import seaborn as sns\n",
    "\n",
    "# NLP Libraries\n",
    "import spacy\n",
    "from spacy.tokenizer import Tokenizer\n",
    "from nltk.stem import PorterStemmer\n",
    "\n",
    "nlp = spacy.load(\"en_core_web_lg\")"
   ]
  },
  {
   "cell_type": "code",
   "execution_count": 11,
   "metadata": {},
   "outputs": [
    {
     "data": {
      "text/html": [
       "<div>\n",
       "<style scoped>\n",
       "    .dataframe tbody tr th:only-of-type {\n",
       "        vertical-align: middle;\n",
       "    }\n",
       "\n",
       "    .dataframe tbody tr th {\n",
       "        vertical-align: top;\n",
       "    }\n",
       "\n",
       "    .dataframe thead th {\n",
       "        text-align: right;\n",
       "    }\n",
       "</style>\n",
       "<table border=\"1\" class=\"dataframe\">\n",
       "  <thead>\n",
       "    <tr style=\"text-align: right;\">\n",
       "      <th></th>\n",
       "      <th>coffee_shop_name</th>\n",
       "      <th>full_review_text</th>\n",
       "      <th>star_rating</th>\n",
       "    </tr>\n",
       "  </thead>\n",
       "  <tbody>\n",
       "    <tr>\n",
       "      <th>0</th>\n",
       "      <td>The Factory - Cafe With a Soul</td>\n",
       "      <td>11/25/2016 1 check-in Love love loved the atm...</td>\n",
       "      <td>5.0 star rating</td>\n",
       "    </tr>\n",
       "    <tr>\n",
       "      <th>1</th>\n",
       "      <td>The Factory - Cafe With a Soul</td>\n",
       "      <td>12/2/2016 Listed in Date Night: Austin, Ambia...</td>\n",
       "      <td>4.0 star rating</td>\n",
       "    </tr>\n",
       "    <tr>\n",
       "      <th>2</th>\n",
       "      <td>The Factory - Cafe With a Soul</td>\n",
       "      <td>11/30/2016 1 check-in Listed in Brunch Spots ...</td>\n",
       "      <td>4.0 star rating</td>\n",
       "    </tr>\n",
       "    <tr>\n",
       "      <th>3</th>\n",
       "      <td>The Factory - Cafe With a Soul</td>\n",
       "      <td>11/25/2016 Very cool decor! Good drinks Nice ...</td>\n",
       "      <td>2.0 star rating</td>\n",
       "    </tr>\n",
       "    <tr>\n",
       "      <th>4</th>\n",
       "      <td>The Factory - Cafe With a Soul</td>\n",
       "      <td>12/3/2016 1 check-in They are located within ...</td>\n",
       "      <td>4.0 star rating</td>\n",
       "    </tr>\n",
       "    <tr>\n",
       "      <th>5</th>\n",
       "      <td>The Factory - Cafe With a Soul</td>\n",
       "      <td>11/20/2016 1 check-in Very cute cafe! I think...</td>\n",
       "      <td>4.0 star rating</td>\n",
       "    </tr>\n",
       "    <tr>\n",
       "      <th>6</th>\n",
       "      <td>The Factory - Cafe With a Soul</td>\n",
       "      <td>10/27/2016 2 check-ins Listed in \"Nuptial Cof...</td>\n",
       "      <td>4.0 star rating</td>\n",
       "    </tr>\n",
       "    <tr>\n",
       "      <th>7</th>\n",
       "      <td>The Factory - Cafe With a Soul</td>\n",
       "      <td>11/2/2016 2 check-ins Love this place!  5 sta...</td>\n",
       "      <td>5.0 star rating</td>\n",
       "    </tr>\n",
       "    <tr>\n",
       "      <th>8</th>\n",
       "      <td>The Factory - Cafe With a Soul</td>\n",
       "      <td>10/25/2016 1 check-in Ok, let's try this appr...</td>\n",
       "      <td>3.0 star rating</td>\n",
       "    </tr>\n",
       "    <tr>\n",
       "      <th>9</th>\n",
       "      <td>The Factory - Cafe With a Soul</td>\n",
       "      <td>11/10/2016 3 check-ins This place has been sh...</td>\n",
       "      <td>5.0 star rating</td>\n",
       "    </tr>\n",
       "  </tbody>\n",
       "</table>\n",
       "</div>"
      ],
      "text/plain": [
       "                  coffee_shop_name  \\\n",
       "0  The Factory - Cafe With a Soul    \n",
       "1  The Factory - Cafe With a Soul    \n",
       "2  The Factory - Cafe With a Soul    \n",
       "3  The Factory - Cafe With a Soul    \n",
       "4  The Factory - Cafe With a Soul    \n",
       "5  The Factory - Cafe With a Soul    \n",
       "6  The Factory - Cafe With a Soul    \n",
       "7  The Factory - Cafe With a Soul    \n",
       "8  The Factory - Cafe With a Soul    \n",
       "9  The Factory - Cafe With a Soul    \n",
       "\n",
       "                                    full_review_text        star_rating  \n",
       "0   11/25/2016 1 check-in Love love loved the atm...   5.0 star rating   \n",
       "1   12/2/2016 Listed in Date Night: Austin, Ambia...   4.0 star rating   \n",
       "2   11/30/2016 1 check-in Listed in Brunch Spots ...   4.0 star rating   \n",
       "3   11/25/2016 Very cool decor! Good drinks Nice ...   2.0 star rating   \n",
       "4   12/3/2016 1 check-in They are located within ...   4.0 star rating   \n",
       "5   11/20/2016 1 check-in Very cute cafe! I think...   4.0 star rating   \n",
       "6   10/27/2016 2 check-ins Listed in \"Nuptial Cof...   4.0 star rating   \n",
       "7   11/2/2016 2 check-ins Love this place!  5 sta...   5.0 star rating   \n",
       "8   10/25/2016 1 check-in Ok, let's try this appr...   3.0 star rating   \n",
       "9   11/10/2016 3 check-ins This place has been sh...   5.0 star rating   "
      ]
     },
     "execution_count": 11,
     "metadata": {},
     "output_type": "execute_result"
    }
   ],
   "source": [
    "# checking initial dataset looking at the first 10 rows\n",
    "\n",
    "url = \"https://raw.githubusercontent.com/LambdaSchool/DS-Unit-4-Sprint-1-NLP/master/module1-text-data/data/yelp_coffeeshop_review_data.csv\"\n",
    "\n",
    "shops = pd.read_csv(url)\n",
    "shops.head(10)"
   ]
  },
  {
   "cell_type": "markdown",
   "metadata": {},
   "source": [
    "## How do we want to analyze these coffee shop tokens? \n",
    "\n",
    "- Overall Word / Token Count\n",
    "- View Counts by Rating \n",
    "- *Hint:* a 'bad' coffee shops has a rating betweeen 1 & 3 based on the distribution of ratings. A 'good' coffee shop is a 4 or 5. "
   ]
  },
  {
   "cell_type": "markdown",
   "metadata": {},
   "source": [
    "## Using two samples to try Pure Python tokenizing for full_review_text and star_rating columns "
   ]
  },
  {
   "cell_type": "code",
   "execution_count": 43,
   "metadata": {},
   "outputs": [],
   "source": [
    "sample_text = \"11/2/2016 Great service, Good food and drinks!\""
   ]
  },
  {
   "cell_type": "code",
   "execution_count": 55,
   "metadata": {},
   "outputs": [],
   "source": [
    "sample_rating = \"5.0 star rating\""
   ]
  },
  {
   "cell_type": "code",
   "execution_count": 45,
   "metadata": {},
   "outputs": [],
   "source": [
    "# tokenize using regular expressions removing numbers and special characters and transforming all letters into lowercase\n",
    "# check sample_text example\n",
    "def tokenize(text):\n",
    "    \"\"\"Parses a string into a list os semantic units(words)\n",
    "    Args:\n",
    "        text (str): The string that the function will tokenize\n",
    "    Returns:\n",
    "        list: tokens parsed out by the mechanics of your choice\n",
    "    \"\"\"\n",
    "    \n",
    "    tokens = re.sub(r'[^a-zA-Z]', ' ', text)\n",
    "    tokens = tokens.lower().split()\n",
    "    \n",
    "    return tokens"
   ]
  },
  {
   "cell_type": "code",
   "execution_count": 59,
   "metadata": {},
   "outputs": [],
   "source": [
    "# tokenize rating using regular expressions, leaving only the numbers for rating\n",
    "# check sample_rating example\n",
    "def tokenize_rating(text):\n",
    "    \"\"\"Parses a string into a list os semantic units(words)\n",
    "    Args:\n",
    "        text (str): The string that the function will tokenize\n",
    "    Returns:\n",
    "        list: tokens parsed out by the mechanics of your choice\n",
    "    \"\"\"\n",
    "    \n",
    "    tokens_rating = re.sub(r'[^1-5]', '', text)\n",
    "    \n",
    "    return tokens_rating"
   ]
  },
  {
   "cell_type": "code",
   "execution_count": 46,
   "metadata": {},
   "outputs": [
    {
     "data": {
      "text/plain": [
       "['great', 'service', 'good', 'food', 'and', 'drinks']"
      ]
     },
     "execution_count": 46,
     "metadata": {},
     "output_type": "execute_result"
    }
   ],
   "source": [
    "tokenize(sample_text)"
   ]
  },
  {
   "cell_type": "code",
   "execution_count": 60,
   "metadata": {},
   "outputs": [
    {
     "data": {
      "text/plain": [
       "'5'"
      ]
     },
     "execution_count": 60,
     "metadata": {},
     "output_type": "execute_result"
    }
   ],
   "source": [
    "tokenize_rating(sample_rating)"
   ]
  },
  {
   "cell_type": "markdown",
   "metadata": {},
   "source": [
    "## applying pure python tokenize to the full_review_text and creating a new column called tokens"
   ]
  },
  {
   "cell_type": "code",
   "execution_count": 51,
   "metadata": {},
   "outputs": [],
   "source": [
    "shops['tokens'] = shops['full_review_text'].apply(tokenize)"
   ]
  },
  {
   "cell_type": "code",
   "execution_count": 52,
   "metadata": {},
   "outputs": [
    {
     "data": {
      "text/plain": [
       "0    [check, in, love, love, loved, the, atmosphere...\n",
       "1    [listed, in, date, night, austin, ambiance, in...\n",
       "2    [check, in, listed, in, brunch, spots, i, love...\n",
       "3    [very, cool, decor, good, drinks, nice, seatin...\n",
       "4    [check, in, they, are, located, within, the, n...\n",
       "Name: tokens, dtype: object"
      ]
     },
     "execution_count": 52,
     "metadata": {},
     "output_type": "execute_result"
    }
   ],
   "source": [
    "shops['tokens'].head()"
   ]
  },
  {
   "cell_type": "markdown",
   "metadata": {},
   "source": [
    "## applying pure python tokenize to the star_rating and creating a new column called tokens_rating"
   ]
  },
  {
   "cell_type": "code",
   "execution_count": 61,
   "metadata": {},
   "outputs": [],
   "source": [
    "shops['tokens_rating'] = shops['star_rating'].apply(tokenize_rating)"
   ]
  },
  {
   "cell_type": "code",
   "execution_count": 62,
   "metadata": {},
   "outputs": [
    {
     "data": {
      "text/plain": [
       "0    5\n",
       "1    4\n",
       "2    4\n",
       "3    2\n",
       "4    4\n",
       "Name: tokens_rating, dtype: object"
      ]
     },
     "execution_count": 62,
     "metadata": {},
     "output_type": "execute_result"
    }
   ],
   "source": [
    "shops['tokens_rating'].head()"
   ]
  },
  {
   "cell_type": "code",
   "execution_count": 63,
   "metadata": {},
   "outputs": [
    {
     "data": {
      "text/html": [
       "<div>\n",
       "<style scoped>\n",
       "    .dataframe tbody tr th:only-of-type {\n",
       "        vertical-align: middle;\n",
       "    }\n",
       "\n",
       "    .dataframe tbody tr th {\n",
       "        vertical-align: top;\n",
       "    }\n",
       "\n",
       "    .dataframe thead th {\n",
       "        text-align: right;\n",
       "    }\n",
       "</style>\n",
       "<table border=\"1\" class=\"dataframe\">\n",
       "  <thead>\n",
       "    <tr style=\"text-align: right;\">\n",
       "      <th></th>\n",
       "      <th>coffee_shop_name</th>\n",
       "      <th>full_review_text</th>\n",
       "      <th>star_rating</th>\n",
       "      <th>tokens</th>\n",
       "      <th>tokens_rating</th>\n",
       "    </tr>\n",
       "  </thead>\n",
       "  <tbody>\n",
       "    <tr>\n",
       "      <th>0</th>\n",
       "      <td>The Factory - Cafe With a Soul</td>\n",
       "      <td>11/25/2016 1 check-in Love love loved the atm...</td>\n",
       "      <td>5.0 star rating</td>\n",
       "      <td>[check, in, love, love, loved, the, atmosphere...</td>\n",
       "      <td>5</td>\n",
       "    </tr>\n",
       "    <tr>\n",
       "      <th>1</th>\n",
       "      <td>The Factory - Cafe With a Soul</td>\n",
       "      <td>12/2/2016 Listed in Date Night: Austin, Ambia...</td>\n",
       "      <td>4.0 star rating</td>\n",
       "      <td>[listed, in, date, night, austin, ambiance, in...</td>\n",
       "      <td>4</td>\n",
       "    </tr>\n",
       "    <tr>\n",
       "      <th>2</th>\n",
       "      <td>The Factory - Cafe With a Soul</td>\n",
       "      <td>11/30/2016 1 check-in Listed in Brunch Spots ...</td>\n",
       "      <td>4.0 star rating</td>\n",
       "      <td>[check, in, listed, in, brunch, spots, i, love...</td>\n",
       "      <td>4</td>\n",
       "    </tr>\n",
       "    <tr>\n",
       "      <th>3</th>\n",
       "      <td>The Factory - Cafe With a Soul</td>\n",
       "      <td>11/25/2016 Very cool decor! Good drinks Nice ...</td>\n",
       "      <td>2.0 star rating</td>\n",
       "      <td>[very, cool, decor, good, drinks, nice, seatin...</td>\n",
       "      <td>2</td>\n",
       "    </tr>\n",
       "    <tr>\n",
       "      <th>4</th>\n",
       "      <td>The Factory - Cafe With a Soul</td>\n",
       "      <td>12/3/2016 1 check-in They are located within ...</td>\n",
       "      <td>4.0 star rating</td>\n",
       "      <td>[check, in, they, are, located, within, the, n...</td>\n",
       "      <td>4</td>\n",
       "    </tr>\n",
       "  </tbody>\n",
       "</table>\n",
       "</div>"
      ],
      "text/plain": [
       "                  coffee_shop_name  \\\n",
       "0  The Factory - Cafe With a Soul    \n",
       "1  The Factory - Cafe With a Soul    \n",
       "2  The Factory - Cafe With a Soul    \n",
       "3  The Factory - Cafe With a Soul    \n",
       "4  The Factory - Cafe With a Soul    \n",
       "\n",
       "                                    full_review_text        star_rating  \\\n",
       "0   11/25/2016 1 check-in Love love loved the atm...   5.0 star rating    \n",
       "1   12/2/2016 Listed in Date Night: Austin, Ambia...   4.0 star rating    \n",
       "2   11/30/2016 1 check-in Listed in Brunch Spots ...   4.0 star rating    \n",
       "3   11/25/2016 Very cool decor! Good drinks Nice ...   2.0 star rating    \n",
       "4   12/3/2016 1 check-in They are located within ...   4.0 star rating    \n",
       "\n",
       "                                              tokens tokens_rating  \n",
       "0  [check, in, love, love, loved, the, atmosphere...             5  \n",
       "1  [listed, in, date, night, austin, ambiance, in...             4  \n",
       "2  [check, in, listed, in, brunch, spots, i, love...             4  \n",
       "3  [very, cool, decor, good, drinks, nice, seatin...             2  \n",
       "4  [check, in, they, are, located, within, the, n...             4  "
      ]
     },
     "execution_count": 63,
     "metadata": {},
     "output_type": "execute_result"
    }
   ],
   "source": [
    "# new df with tokens\n",
    "shops.head()"
   ]
  },
  {
   "cell_type": "markdown",
   "metadata": {},
   "source": [
    "## transforming tokens_rating into int type"
   ]
  },
  {
   "cell_type": "code",
   "execution_count": 64,
   "metadata": {},
   "outputs": [
    {
     "data": {
      "text/plain": [
       "coffee_shop_name    object\n",
       "full_review_text    object\n",
       "star_rating         object\n",
       "tokens              object\n",
       "tokens_rating       object\n",
       "dtype: object"
      ]
     },
     "execution_count": 64,
     "metadata": {},
     "output_type": "execute_result"
    }
   ],
   "source": [
    "# checking dtypes\n",
    "shops.dtypes"
   ]
  },
  {
   "cell_type": "code",
   "execution_count": 71,
   "metadata": {},
   "outputs": [],
   "source": [
    "shops['tokens_rating'] = shops['tokens_rating'].astype(str).astype(int)"
   ]
  },
  {
   "cell_type": "code",
   "execution_count": 72,
   "metadata": {},
   "outputs": [
    {
     "data": {
      "text/plain": [
       "coffee_shop_name    object\n",
       "full_review_text    object\n",
       "star_rating         object\n",
       "tokens              object\n",
       "tokens_rating        int32\n",
       "dtype: object"
      ]
     },
     "execution_count": 72,
     "metadata": {},
     "output_type": "execute_result"
    }
   ],
   "source": [
    "shops.dtypes"
   ]
  },
  {
   "cell_type": "markdown",
   "metadata": {},
   "source": [
    "## using spacy tokenizer"
   ]
  },
  {
   "cell_type": "code",
   "execution_count": 77,
   "metadata": {},
   "outputs": [],
   "source": [
    "nlp = spacy.load(\"en_core_web_lg\")\n",
    "\n",
    "# Tokenizer\n",
    "tokenizer = Tokenizer(nlp.vocab)"
   ]
  },
  {
   "cell_type": "code",
   "execution_count": 84,
   "metadata": {},
   "outputs": [],
   "source": [
    "tokens = []\n",
    "\n",
    "\"\"\" Update tokens w/o stopwords and punctuation\"\"\"\n",
    "for doc in tokenizer.pipe(shops['full_review_text'], batch_size=500):\n",
    "    \n",
    "    doc_tokens = []\n",
    "    \n",
    "    for token in doc:\n",
    "        if (token.is_stop == False) & (token.is_punct == False):\n",
    "            doc_tokens.append(token.text.lower())\n",
    "\n",
    "    tokens.append(doc_tokens)\n",
    "\n",
    "shops['tokens'] = tokens"
   ]
  },
  {
   "cell_type": "code",
   "execution_count": 85,
   "metadata": {},
   "outputs": [
    {
     "data": {
      "text/plain": [
       "0    [ , 11/25/2016, 1, check-in, love, love, loved...\n",
       "1    [ , 12/2/2016, listed, date, night:, austin,, ...\n",
       "2    [ , 11/30/2016, 1, check-in, listed, brunch, s...\n",
       "3    [ , 11/25/2016, cool, decor!, good, drinks, ni...\n",
       "4    [ , 12/3/2016, 1, check-in, located, northcros...\n",
       "Name: tokens, dtype: object"
      ]
     },
     "execution_count": 85,
     "metadata": {},
     "output_type": "execute_result"
    }
   ],
   "source": [
    "shops['tokens'].head()"
   ]
  },
  {
   "cell_type": "markdown",
   "metadata": {},
   "source": [
    "## defining count function to define the number of words in the text"
   ]
  },
  {
   "cell_type": "code",
   "execution_count": 229,
   "metadata": {},
   "outputs": [],
   "source": [
    "def count(docs):\n",
    "\n",
    "        word_counts = Counter()\n",
    "        appears_in = Counter()\n",
    "        \n",
    "        total_docs = len(docs)\n",
    "\n",
    "        for doc in docs:\n",
    "            word_counts.update(doc)\n",
    "            appears_in.update(set(doc))\n",
    "\n",
    "        temp = zip(word_counts.keys(), word_counts.values())\n",
    "        \n",
    "        wc = pd.DataFrame(temp, columns = ['word', 'count'])\n",
    "\n",
    "        wc['rank'] = wc['count'].rank(method='first', ascending=False)\n",
    "        total = wc['count'].sum()\n",
    "\n",
    "        wc['pct_total'] = wc['count'].apply(lambda x: x / total)\n",
    "        \n",
    "        wc = wc.sort_values(by='rank')\n",
    "        wc['cul_pct_total'] = wc['pct_total'].cumsum()\n",
    "\n",
    "        t2 = zip(appears_in.keys(), appears_in.values())\n",
    "        ac = pd.DataFrame(t2, columns=['word', 'appears_in'])\n",
    "        wc = ac.merge(wc, on='word')\n",
    "\n",
    "        wc['appears_in_pct'] = wc['appears_in'].apply(lambda x: x / total_docs)\n",
    "        \n",
    "        return wc.sort_values(by='rank')"
   ]
  },
  {
   "cell_type": "markdown",
   "metadata": {},
   "source": [
    "## defining my stop words list"
   ]
  },
  {
   "cell_type": "code",
   "execution_count": 226,
   "metadata": {},
   "outputs": [],
   "source": [
    "STOP_WORDS = nlp.Defaults.stop_words.union([\"check-in\", \" \", \"it's\", \"1\", \"-\", \"i'm\", \"i've\", \"place\", \"coffee\", \"got\", \"austin\", \"ordered\"])"
   ]
  },
  {
   "cell_type": "markdown",
   "metadata": {},
   "source": [
    "## using my new stop words list to update tokens excluding common words with none or less value"
   ]
  },
  {
   "cell_type": "code",
   "execution_count": 227,
   "metadata": {},
   "outputs": [],
   "source": [
    "tokens = []\n",
    "\n",
    "\"\"\" Update tokens w/o defined stopwords and punctuation\"\"\"\n",
    "for doc in tokenizer.pipe(shops['full_review_text'], batch_size=500):\n",
    "    \n",
    "    doc_tokens = []\n",
    "    \n",
    "    for token in doc:\n",
    "        if token.text.lower() not in STOP_WORDS:\n",
    "            doc_tokens.append(token.text.lower())\n",
    "\n",
    "    tokens.append(doc_tokens)\n",
    "\n",
    "shops['tokens'] = tokens"
   ]
  },
  {
   "cell_type": "markdown",
   "metadata": {},
   "source": [
    "## count of words for all shop reviews"
   ]
  },
  {
   "cell_type": "code",
   "execution_count": 230,
   "metadata": {},
   "outputs": [
    {
     "data": {
      "text/html": [
       "<div>\n",
       "<style scoped>\n",
       "    .dataframe tbody tr th:only-of-type {\n",
       "        vertical-align: middle;\n",
       "    }\n",
       "\n",
       "    .dataframe tbody tr th {\n",
       "        vertical-align: top;\n",
       "    }\n",
       "\n",
       "    .dataframe thead th {\n",
       "        text-align: right;\n",
       "    }\n",
       "</style>\n",
       "<table border=\"1\" class=\"dataframe\">\n",
       "  <thead>\n",
       "    <tr style=\"text-align: right;\">\n",
       "      <th></th>\n",
       "      <th>word</th>\n",
       "      <th>appears_in</th>\n",
       "      <th>count</th>\n",
       "      <th>rank</th>\n",
       "      <th>pct_total</th>\n",
       "      <th>cul_pct_total</th>\n",
       "      <th>appears_in_pct</th>\n",
       "    </tr>\n",
       "  </thead>\n",
       "  <tbody>\n",
       "    <tr>\n",
       "      <th>125</th>\n",
       "      <td>great</td>\n",
       "      <td>2438</td>\n",
       "      <td>3250</td>\n",
       "      <td>1.0</td>\n",
       "      <td>0.008664</td>\n",
       "      <td>0.008664</td>\n",
       "      <td>0.320116</td>\n",
       "    </tr>\n",
       "    <tr>\n",
       "      <th>166</th>\n",
       "      <td>like</td>\n",
       "      <td>2034</td>\n",
       "      <td>2902</td>\n",
       "      <td>2.0</td>\n",
       "      <td>0.007736</td>\n",
       "      <td>0.016400</td>\n",
       "      <td>0.267069</td>\n",
       "    </tr>\n",
       "    <tr>\n",
       "      <th>170</th>\n",
       "      <td>good</td>\n",
       "      <td>2084</td>\n",
       "      <td>2779</td>\n",
       "      <td>3.0</td>\n",
       "      <td>0.007408</td>\n",
       "      <td>0.023809</td>\n",
       "      <td>0.273634</td>\n",
       "    </tr>\n",
       "    <tr>\n",
       "      <th>36</th>\n",
       "      <td>love</td>\n",
       "      <td>1434</td>\n",
       "      <td>1806</td>\n",
       "      <td>4.0</td>\n",
       "      <td>0.004815</td>\n",
       "      <td>0.028623</td>\n",
       "      <td>0.188288</td>\n",
       "    </tr>\n",
       "    <tr>\n",
       "      <th>799</th>\n",
       "      <td>little</td>\n",
       "      <td>1230</td>\n",
       "      <td>1479</td>\n",
       "      <td>5.0</td>\n",
       "      <td>0.003943</td>\n",
       "      <td>0.032566</td>\n",
       "      <td>0.161502</td>\n",
       "    </tr>\n",
       "  </tbody>\n",
       "</table>\n",
       "</div>"
      ],
      "text/plain": [
       "       word  appears_in  count  rank  pct_total  cul_pct_total  appears_in_pct\n",
       "125   great        2438   3250   1.0   0.008664       0.008664        0.320116\n",
       "166    like        2034   2902   2.0   0.007736       0.016400        0.267069\n",
       "170    good        2084   2779   3.0   0.007408       0.023809        0.273634\n",
       "36     love        1434   1806   4.0   0.004815       0.028623        0.188288\n",
       "799  little        1230   1479   5.0   0.003943       0.032566        0.161502"
      ]
     },
     "execution_count": 230,
     "metadata": {},
     "output_type": "execute_result"
    }
   ],
   "source": [
    "wc = count(shops['tokens'])\n",
    "wc.head()"
   ]
  },
  {
   "cell_type": "code",
   "execution_count": 166,
   "metadata": {},
   "outputs": [
    {
     "data": {
      "text/plain": [
       "[('great', 3250),\n",
       " ('like', 2902),\n",
       " ('good', 2779),\n",
       " ('love', 1806),\n",
       " ('little', 1479),\n",
       " (\"don't\", 1395),\n",
       " ('nice', 1368),\n",
       " ('food', 1363),\n",
       " ('time', 1345),\n",
       " ('pretty', 1339)]"
      ]
     },
     "execution_count": 166,
     "metadata": {},
     "output_type": "execute_result"
    }
   ],
   "source": [
    "from collections import Counter\n",
    "\n",
    "# instantiating an empty object \n",
    "word_counts = Counter()\n",
    "\n",
    "# Update it based on a split of each of our documents\n",
    "shops['tokens'].apply(lambda x: word_counts.update(x))\n",
    "\n",
    "# top 10 most common words\n",
    "word_counts.most_common(10)"
   ]
  },
  {
   "cell_type": "markdown",
   "metadata": {},
   "source": [
    "## defining top 10 words most commonly used"
   ]
  },
  {
   "cell_type": "code",
   "execution_count": 167,
   "metadata": {},
   "outputs": [
    {
     "data": {
      "image/png": "[encoded data removed]",
      "text/plain": [
       "<Figure size 432x288 with 1 Axes>"
      ]
     },
     "metadata": {
      "needs_background": "light"
     },
     "output_type": "display_data"
    }
   ],
   "source": [
    "wc_top10 = wc[wc['rank'] <= 10]\n",
    "\n",
    "squarify.plot(sizes=wc_top10['pct_total'], label=wc_top10['word'], alpha=.8 )\n",
    "plt.axis('off')\n",
    "plt.show()"
   ]
  },
  {
   "cell_type": "markdown",
   "metadata": {},
   "source": [
    "## defining worst and best shops"
   ]
  },
  {
   "cell_type": "code",
   "execution_count": 168,
   "metadata": {},
   "outputs": [],
   "source": [
    "worst_shops = shops[shops['tokens_rating'] <= 3]\n",
    "best_shops = shops[shops['tokens_rating'] >= 4]"
   ]
  },
  {
   "cell_type": "markdown",
   "metadata": {},
   "source": [
    "## counting words for worst shops "
   ]
  },
  {
   "cell_type": "code",
   "execution_count": 169,
   "metadata": {},
   "outputs": [
    {
     "name": "stderr",
     "output_type": "stream",
     "text": [
      "C:\\Users\\Lenovo\\Anaconda3\\envs\\U4-S1-NLP\\lib\\site-packages\\ipykernel_launcher.py:15: SettingWithCopyWarning: \n",
      "A value is trying to be set on a copy of a slice from a DataFrame.\n",
      "Try using .loc[row_indexer,col_indexer] = value instead\n",
      "\n",
      "See the caveats in the documentation: http://pandas.pydata.org/pandas-docs/stable/user_guide/indexing.html#returning-a-view-versus-a-copy\n",
      "  from ipykernel import kernelapp as app\n"
     ]
    }
   ],
   "source": [
    "tokens_worst_shops = []\n",
    "\n",
    "\"\"\" Update tokens w/o defined stopwords and punctuation\"\"\"\n",
    "for doc in tokenizer.pipe(worst_shops['full_review_text'], batch_size=500):\n",
    "    \n",
    "    doc_tokens_worst_shops = []\n",
    "    \n",
    "    for token in doc:\n",
    "        if token.text.lower() not in STOP_WORDS:\n",
    "            doc_tokens_worst_shops.append(token.text.lower())\n",
    "\n",
    "    tokens_worst_shops.append(doc_tokens_worst_shops)\n",
    "\n",
    "worst_shops['tokens_worst_shops'] = tokens_worst_shops"
   ]
  },
  {
   "cell_type": "code",
   "execution_count": 170,
   "metadata": {},
   "outputs": [
    {
     "data": {
      "text/html": [
       "<div>\n",
       "<style scoped>\n",
       "    .dataframe tbody tr th:only-of-type {\n",
       "        vertical-align: middle;\n",
       "    }\n",
       "\n",
       "    .dataframe tbody tr th {\n",
       "        vertical-align: top;\n",
       "    }\n",
       "\n",
       "    .dataframe thead th {\n",
       "        text-align: right;\n",
       "    }\n",
       "</style>\n",
       "<table border=\"1\" class=\"dataframe\">\n",
       "  <thead>\n",
       "    <tr style=\"text-align: right;\">\n",
       "      <th></th>\n",
       "      <th>word</th>\n",
       "      <th>appears_in</th>\n",
       "      <th>count</th>\n",
       "      <th>rank</th>\n",
       "      <th>pct_total</th>\n",
       "      <th>cul_pct_total</th>\n",
       "      <th>appears_in_pct</th>\n",
       "    </tr>\n",
       "  </thead>\n",
       "  <tbody>\n",
       "    <tr>\n",
       "      <th>12</th>\n",
       "      <td>like</td>\n",
       "      <td>548</td>\n",
       "      <td>834</td>\n",
       "      <td>1.0</td>\n",
       "      <td>0.010023</td>\n",
       "      <td>0.010023</td>\n",
       "      <td>0.371274</td>\n",
       "    </tr>\n",
       "    <tr>\n",
       "      <th>16</th>\n",
       "      <td>good</td>\n",
       "      <td>441</td>\n",
       "      <td>599</td>\n",
       "      <td>2.0</td>\n",
       "      <td>0.007199</td>\n",
       "      <td>0.017222</td>\n",
       "      <td>0.298780</td>\n",
       "    </tr>\n",
       "    <tr>\n",
       "      <th>188</th>\n",
       "      <td>don't</td>\n",
       "      <td>340</td>\n",
       "      <td>430</td>\n",
       "      <td>3.0</td>\n",
       "      <td>0.005168</td>\n",
       "      <td>0.022390</td>\n",
       "      <td>0.230352</td>\n",
       "    </tr>\n",
       "    <tr>\n",
       "      <th>88</th>\n",
       "      <td>food</td>\n",
       "      <td>266</td>\n",
       "      <td>369</td>\n",
       "      <td>4.0</td>\n",
       "      <td>0.004435</td>\n",
       "      <td>0.026824</td>\n",
       "      <td>0.180217</td>\n",
       "    </tr>\n",
       "    <tr>\n",
       "      <th>239</th>\n",
       "      <td>time</td>\n",
       "      <td>264</td>\n",
       "      <td>351</td>\n",
       "      <td>5.0</td>\n",
       "      <td>0.004218</td>\n",
       "      <td>0.031043</td>\n",
       "      <td>0.178862</td>\n",
       "    </tr>\n",
       "  </tbody>\n",
       "</table>\n",
       "</div>"
      ],
      "text/plain": [
       "      word  appears_in  count  rank  pct_total  cul_pct_total  appears_in_pct\n",
       "12    like         548    834   1.0   0.010023       0.010023        0.371274\n",
       "16    good         441    599   2.0   0.007199       0.017222        0.298780\n",
       "188  don't         340    430   3.0   0.005168       0.022390        0.230352\n",
       "88    food         266    369   4.0   0.004435       0.026824        0.180217\n",
       "239   time         264    351   5.0   0.004218       0.031043        0.178862"
      ]
     },
     "execution_count": 170,
     "metadata": {},
     "output_type": "execute_result"
    }
   ],
   "source": [
    "wc_worst_shops = count(worst_shops['tokens_worst_shops'])\n",
    "wc_worst_shops.head()"
   ]
  },
  {
   "cell_type": "markdown",
   "metadata": {},
   "source": [
    "## defining top 10 words most commonly used for worst_shops"
   ]
  },
  {
   "cell_type": "code",
   "execution_count": 171,
   "metadata": {},
   "outputs": [
    {
     "data": {
      "image/png": "[encoded data removed]",
      "text/plain": [
       "<Figure size 432x288 with 1 Axes>"
      ]
     },
     "metadata": {
      "needs_background": "light"
     },
     "output_type": "display_data"
    }
   ],
   "source": [
    "wc_worst_shops_top10 = wc_worst_shops[wc_worst_shops['rank'] <= 10]\n",
    "\n",
    "squarify.plot(sizes=wc_worst_shops_top10['pct_total'], label=wc_worst_shops_top10['word'], alpha=.8 )\n",
    "plt.axis('off')\n",
    "plt.show()"
   ]
  },
  {
   "cell_type": "markdown",
   "metadata": {},
   "source": [
    "## counting words for best shops"
   ]
  },
  {
   "cell_type": "code",
   "execution_count": 172,
   "metadata": {},
   "outputs": [
    {
     "name": "stderr",
     "output_type": "stream",
     "text": [
      "C:\\Users\\Lenovo\\Anaconda3\\envs\\U4-S1-NLP\\lib\\site-packages\\ipykernel_launcher.py:15: SettingWithCopyWarning: \n",
      "A value is trying to be set on a copy of a slice from a DataFrame.\n",
      "Try using .loc[row_indexer,col_indexer] = value instead\n",
      "\n",
      "See the caveats in the documentation: http://pandas.pydata.org/pandas-docs/stable/user_guide/indexing.html#returning-a-view-versus-a-copy\n",
      "  from ipykernel import kernelapp as app\n"
     ]
    }
   ],
   "source": [
    "tokens_best_shops = []\n",
    "\n",
    "\"\"\" Update tokens w/o defined stopwords and punctuation\"\"\"\n",
    "for doc in tokenizer.pipe(best_shops['full_review_text'], batch_size=500):\n",
    "    \n",
    "    doc_tokens_best_shops = []\n",
    "    \n",
    "    for token in doc:\n",
    "        if token.text.lower() not in STOP_WORDS:\n",
    "            doc_tokens_best_shops.append(token.text.lower())\n",
    "\n",
    "    tokens_best_shops.append(doc_tokens_best_shops)\n",
    "\n",
    "best_shops['tokens_best_shops'] = tokens_best_shops"
   ]
  },
  {
   "cell_type": "code",
   "execution_count": 173,
   "metadata": {},
   "outputs": [
    {
     "data": {
      "text/html": [
       "<div>\n",
       "<style scoped>\n",
       "    .dataframe tbody tr th:only-of-type {\n",
       "        vertical-align: middle;\n",
       "    }\n",
       "\n",
       "    .dataframe tbody tr th {\n",
       "        vertical-align: top;\n",
       "    }\n",
       "\n",
       "    .dataframe thead th {\n",
       "        text-align: right;\n",
       "    }\n",
       "</style>\n",
       "<table border=\"1\" class=\"dataframe\">\n",
       "  <thead>\n",
       "    <tr style=\"text-align: right;\">\n",
       "      <th></th>\n",
       "      <th>word</th>\n",
       "      <th>appears_in</th>\n",
       "      <th>count</th>\n",
       "      <th>rank</th>\n",
       "      <th>pct_total</th>\n",
       "      <th>cul_pct_total</th>\n",
       "      <th>appears_in_pct</th>\n",
       "    </tr>\n",
       "  </thead>\n",
       "  <tbody>\n",
       "    <tr>\n",
       "      <th>125</th>\n",
       "      <td>great</td>\n",
       "      <td>2174</td>\n",
       "      <td>2902</td>\n",
       "      <td>1.0</td>\n",
       "      <td>0.009942</td>\n",
       "      <td>0.009942</td>\n",
       "      <td>0.354072</td>\n",
       "    </tr>\n",
       "    <tr>\n",
       "      <th>314</th>\n",
       "      <td>good</td>\n",
       "      <td>1643</td>\n",
       "      <td>2180</td>\n",
       "      <td>2.0</td>\n",
       "      <td>0.007468</td>\n",
       "      <td>0.017410</td>\n",
       "      <td>0.267590</td>\n",
       "    </tr>\n",
       "    <tr>\n",
       "      <th>216</th>\n",
       "      <td>like</td>\n",
       "      <td>1486</td>\n",
       "      <td>2068</td>\n",
       "      <td>3.0</td>\n",
       "      <td>0.007084</td>\n",
       "      <td>0.024494</td>\n",
       "      <td>0.242020</td>\n",
       "    </tr>\n",
       "    <tr>\n",
       "      <th>36</th>\n",
       "      <td>love</td>\n",
       "      <td>1263</td>\n",
       "      <td>1604</td>\n",
       "      <td>4.0</td>\n",
       "      <td>0.005495</td>\n",
       "      <td>0.029989</td>\n",
       "      <td>0.205700</td>\n",
       "    </tr>\n",
       "    <tr>\n",
       "      <th>609</th>\n",
       "      <td>little</td>\n",
       "      <td>1027</td>\n",
       "      <td>1230</td>\n",
       "      <td>5.0</td>\n",
       "      <td>0.004214</td>\n",
       "      <td>0.034203</td>\n",
       "      <td>0.167264</td>\n",
       "    </tr>\n",
       "  </tbody>\n",
       "</table>\n",
       "</div>"
      ],
      "text/plain": [
       "       word  appears_in  count  rank  pct_total  cul_pct_total  appears_in_pct\n",
       "125   great        2174   2902   1.0   0.009942       0.009942        0.354072\n",
       "314    good        1643   2180   2.0   0.007468       0.017410        0.267590\n",
       "216    like        1486   2068   3.0   0.007084       0.024494        0.242020\n",
       "36     love        1263   1604   4.0   0.005495       0.029989        0.205700\n",
       "609  little        1027   1230   5.0   0.004214       0.034203        0.167264"
      ]
     },
     "execution_count": 173,
     "metadata": {},
     "output_type": "execute_result"
    }
   ],
   "source": [
    "wc_best_shops = count(best_shops['tokens_best_shops'])\n",
    "wc_best_shops.head()"
   ]
  },
  {
   "cell_type": "markdown",
   "metadata": {},
   "source": [
    "## defining top 10 words most commonly used for best_shops"
   ]
  },
  {
   "cell_type": "code",
   "execution_count": 174,
   "metadata": {},
   "outputs": [
    {
     "data": {
      "image/png": "[encoded data removed]",
      "text/plain": [
       "<Figure size 432x288 with 1 Axes>"
      ]
     },
     "metadata": {
      "needs_background": "light"
     },
     "output_type": "display_data"
    }
   ],
   "source": [
    "wc_best_shops_top10 = wc_best_shops[wc_best_shops['rank'] <= 10]\n",
    "\n",
    "squarify.plot(sizes=wc_best_shops_top10['pct_total'], label=wc_best_shops_top10['word'], alpha=.8 )\n",
    "plt.axis('off')\n",
    "plt.show()"
   ]
  },
  {
   "cell_type": "markdown",
   "metadata": {},
   "source": [
    "## counting number of 5,4,3,2,1 start ratings"
   ]
  },
  {
   "cell_type": "code",
   "execution_count": 175,
   "metadata": {},
   "outputs": [
    {
     "data": {
      "text/plain": [
       "5    3780\n",
       "4    2360\n",
       "3     738\n",
       "2     460\n",
       "1     278\n",
       "Name: tokens_rating, dtype: int64"
      ]
     },
     "execution_count": 175,
     "metadata": {},
     "output_type": "execute_result"
    }
   ],
   "source": [
    "shops['tokens_rating'].value_counts()"
   ]
  },
  {
   "cell_type": "markdown",
   "metadata": {},
   "source": [
    "## Cumulative Distribution Plot"
   ]
  },
  {
   "cell_type": "code",
   "execution_count": 176,
   "metadata": {},
   "outputs": [
    {
     "data": {
      "image/png": "[encoded data removed]",
      "text/plain": [
       "<Figure size 432x288 with 1 Axes>"
      ]
     },
     "metadata": {
      "needs_background": "light"
     },
     "output_type": "display_data"
    }
   ],
   "source": [
    "sns.lineplot(x='rank', y='cul_pct_total', data=wc);"
   ]
  },
  {
   "cell_type": "markdown",
   "metadata": {},
   "source": [
    "## tail of review countings"
   ]
  },
  {
   "cell_type": "code",
   "execution_count": 177,
   "metadata": {},
   "outputs": [
    {
     "data": {
      "text/html": [
       "<div>\n",
       "<style scoped>\n",
       "    .dataframe tbody tr th:only-of-type {\n",
       "        vertical-align: middle;\n",
       "    }\n",
       "\n",
       "    .dataframe tbody tr th {\n",
       "        vertical-align: top;\n",
       "    }\n",
       "\n",
       "    .dataframe thead th {\n",
       "        text-align: right;\n",
       "    }\n",
       "</style>\n",
       "<table border=\"1\" class=\"dataframe\">\n",
       "  <thead>\n",
       "    <tr style=\"text-align: right;\">\n",
       "      <th></th>\n",
       "      <th>word</th>\n",
       "      <th>appears_in</th>\n",
       "      <th>count</th>\n",
       "      <th>rank</th>\n",
       "      <th>pct_total</th>\n",
       "      <th>cul_pct_total</th>\n",
       "      <th>appears_in_pct</th>\n",
       "    </tr>\n",
       "  </thead>\n",
       "  <tbody>\n",
       "    <tr>\n",
       "      <th>40456</th>\n",
       "      <td>delicious...and</td>\n",
       "      <td>1</td>\n",
       "      <td>1</td>\n",
       "      <td>40459.0</td>\n",
       "      <td>0.000003</td>\n",
       "      <td>0.999949</td>\n",
       "      <td>0.000131</td>\n",
       "    </tr>\n",
       "    <tr>\n",
       "      <th>40463</th>\n",
       "      <td>(turkey,</td>\n",
       "      <td>1</td>\n",
       "      <td>1</td>\n",
       "      <td>40460.0</td>\n",
       "      <td>0.000003</td>\n",
       "      <td>0.999952</td>\n",
       "      <td>0.000131</td>\n",
       "    </tr>\n",
       "    <tr>\n",
       "      <th>40461</th>\n",
       "      <td>romaine</td>\n",
       "      <td>1</td>\n",
       "      <td>1</td>\n",
       "      <td>40461.0</td>\n",
       "      <td>0.000003</td>\n",
       "      <td>0.999955</td>\n",
       "      <td>0.000131</td>\n",
       "    </tr>\n",
       "    <tr>\n",
       "      <th>40460</th>\n",
       "      <td>rib,</td>\n",
       "      <td>1</td>\n",
       "      <td>1</td>\n",
       "      <td>40462.0</td>\n",
       "      <td>0.000003</td>\n",
       "      <td>0.999957</td>\n",
       "      <td>0.000131</td>\n",
       "    </tr>\n",
       "    <tr>\n",
       "      <th>40462</th>\n",
       "      <td>predictably,</td>\n",
       "      <td>1</td>\n",
       "      <td>1</td>\n",
       "      <td>40463.0</td>\n",
       "      <td>0.000003</td>\n",
       "      <td>0.999960</td>\n",
       "      <td>0.000131</td>\n",
       "    </tr>\n",
       "    <tr>\n",
       "      <th>40464</th>\n",
       "      <td>blts</td>\n",
       "      <td>1</td>\n",
       "      <td>1</td>\n",
       "      <td>40464.0</td>\n",
       "      <td>0.000003</td>\n",
       "      <td>0.999963</td>\n",
       "      <td>0.000131</td>\n",
       "    </tr>\n",
       "    <tr>\n",
       "      <th>40459</th>\n",
       "      <td>(+</td>\n",
       "      <td>1</td>\n",
       "      <td>1</td>\n",
       "      <td>40465.0</td>\n",
       "      <td>0.000003</td>\n",
       "      <td>0.999965</td>\n",
       "      <td>0.000131</td>\n",
       "    </tr>\n",
       "    <tr>\n",
       "      <th>40458</th>\n",
       "      <td>turkey)</td>\n",
       "      <td>1</td>\n",
       "      <td>1</td>\n",
       "      <td>40466.0</td>\n",
       "      <td>0.000003</td>\n",
       "      <td>0.999968</td>\n",
       "      <td>0.000131</td>\n",
       "    </tr>\n",
       "    <tr>\n",
       "      <th>40465</th>\n",
       "      <td>(pork)</td>\n",
       "      <td>1</td>\n",
       "      <td>1</td>\n",
       "      <td>40467.0</td>\n",
       "      <td>0.000003</td>\n",
       "      <td>0.999971</td>\n",
       "      <td>0.000131</td>\n",
       "    </tr>\n",
       "    <tr>\n",
       "      <th>40466</th>\n",
       "      <td>roomier</td>\n",
       "      <td>1</td>\n",
       "      <td>1</td>\n",
       "      <td>40468.0</td>\n",
       "      <td>0.000003</td>\n",
       "      <td>0.999973</td>\n",
       "      <td>0.000131</td>\n",
       "    </tr>\n",
       "    <tr>\n",
       "      <th>40467</th>\n",
       "      <td>pine</td>\n",
       "      <td>1</td>\n",
       "      <td>1</td>\n",
       "      <td>40469.0</td>\n",
       "      <td>0.000003</td>\n",
       "      <td>0.999976</td>\n",
       "      <td>0.000131</td>\n",
       "    </tr>\n",
       "    <tr>\n",
       "      <th>40468</th>\n",
       "      <td>windowed</td>\n",
       "      <td>1</td>\n",
       "      <td>1</td>\n",
       "      <td>40470.0</td>\n",
       "      <td>0.000003</td>\n",
       "      <td>0.999979</td>\n",
       "      <td>0.000131</td>\n",
       "    </tr>\n",
       "    <tr>\n",
       "      <th>40470</th>\n",
       "      <td>irregular.</td>\n",
       "      <td>1</td>\n",
       "      <td>1</td>\n",
       "      <td>40471.0</td>\n",
       "      <td>0.000003</td>\n",
       "      <td>0.999981</td>\n",
       "      <td>0.000131</td>\n",
       "    </tr>\n",
       "    <tr>\n",
       "      <th>40469</th>\n",
       "      <td>responsive.</td>\n",
       "      <td>1</td>\n",
       "      <td>1</td>\n",
       "      <td>40472.0</td>\n",
       "      <td>0.000003</td>\n",
       "      <td>0.999984</td>\n",
       "      <td>0.000131</td>\n",
       "    </tr>\n",
       "    <tr>\n",
       "      <th>40473</th>\n",
       "      <td>cheddar,</td>\n",
       "      <td>1</td>\n",
       "      <td>1</td>\n",
       "      <td>40473.0</td>\n",
       "      <td>0.000003</td>\n",
       "      <td>0.999987</td>\n",
       "      <td>0.000131</td>\n",
       "    </tr>\n",
       "    <tr>\n",
       "      <th>40472</th>\n",
       "      <td>actuality.</td>\n",
       "      <td>1</td>\n",
       "      <td>1</td>\n",
       "      <td>40474.0</td>\n",
       "      <td>0.000003</td>\n",
       "      <td>0.999989</td>\n",
       "      <td>0.000131</td>\n",
       "    </tr>\n",
       "    <tr>\n",
       "      <th>40471</th>\n",
       "      <td>crass.</td>\n",
       "      <td>1</td>\n",
       "      <td>1</td>\n",
       "      <td>40475.0</td>\n",
       "      <td>0.000003</td>\n",
       "      <td>0.999992</td>\n",
       "      <td>0.000131</td>\n",
       "    </tr>\n",
       "    <tr>\n",
       "      <th>40474</th>\n",
       "      <td>restrictions.</td>\n",
       "      <td>1</td>\n",
       "      <td>1</td>\n",
       "      <td>40476.0</td>\n",
       "      <td>0.000003</td>\n",
       "      <td>0.999995</td>\n",
       "      <td>0.000131</td>\n",
       "    </tr>\n",
       "    <tr>\n",
       "      <th>40477</th>\n",
       "      <td>specially,</td>\n",
       "      <td>1</td>\n",
       "      <td>1</td>\n",
       "      <td>40477.0</td>\n",
       "      <td>0.000003</td>\n",
       "      <td>0.999997</td>\n",
       "      <td>0.000131</td>\n",
       "    </tr>\n",
       "    <tr>\n",
       "      <th>40475</th>\n",
       "      <td>digestion,</td>\n",
       "      <td>1</td>\n",
       "      <td>1</td>\n",
       "      <td>40478.0</td>\n",
       "      <td>0.000003</td>\n",
       "      <td>1.000000</td>\n",
       "      <td>0.000131</td>\n",
       "    </tr>\n",
       "  </tbody>\n",
       "</table>\n",
       "</div>"
      ],
      "text/plain": [
       "                  word  appears_in  count     rank  pct_total  cul_pct_total  \\\n",
       "40456  delicious...and           1      1  40459.0   0.000003       0.999949   \n",
       "40463         (turkey,           1      1  40460.0   0.000003       0.999952   \n",
       "40461          romaine           1      1  40461.0   0.000003       0.999955   \n",
       "40460             rib,           1      1  40462.0   0.000003       0.999957   \n",
       "40462     predictably,           1      1  40463.0   0.000003       0.999960   \n",
       "40464             blts           1      1  40464.0   0.000003       0.999963   \n",
       "40459               (+           1      1  40465.0   0.000003       0.999965   \n",
       "40458          turkey)           1      1  40466.0   0.000003       0.999968   \n",
       "40465           (pork)           1      1  40467.0   0.000003       0.999971   \n",
       "40466          roomier           1      1  40468.0   0.000003       0.999973   \n",
       "40467             pine           1      1  40469.0   0.000003       0.999976   \n",
       "40468         windowed           1      1  40470.0   0.000003       0.999979   \n",
       "40470       irregular.           1      1  40471.0   0.000003       0.999981   \n",
       "40469      responsive.           1      1  40472.0   0.000003       0.999984   \n",
       "40473         cheddar,           1      1  40473.0   0.000003       0.999987   \n",
       "40472       actuality.           1      1  40474.0   0.000003       0.999989   \n",
       "40471           crass.           1      1  40475.0   0.000003       0.999992   \n",
       "40474    restrictions.           1      1  40476.0   0.000003       0.999995   \n",
       "40477       specially,           1      1  40477.0   0.000003       0.999997   \n",
       "40475       digestion,           1      1  40478.0   0.000003       1.000000   \n",
       "\n",
       "       appears_in_pct  \n",
       "40456        0.000131  \n",
       "40463        0.000131  \n",
       "40461        0.000131  \n",
       "40460        0.000131  \n",
       "40462        0.000131  \n",
       "40464        0.000131  \n",
       "40459        0.000131  \n",
       "40458        0.000131  \n",
       "40465        0.000131  \n",
       "40466        0.000131  \n",
       "40467        0.000131  \n",
       "40468        0.000131  \n",
       "40470        0.000131  \n",
       "40469        0.000131  \n",
       "40473        0.000131  \n",
       "40472        0.000131  \n",
       "40471        0.000131  \n",
       "40474        0.000131  \n",
       "40477        0.000131  \n",
       "40475        0.000131  "
      ]
     },
     "execution_count": 177,
     "metadata": {},
     "output_type": "execute_result"
    }
   ],
   "source": [
    "wc.tail(20)"
   ]
  },
  {
   "cell_type": "code",
   "execution_count": 178,
   "metadata": {},
   "outputs": [
    {
     "data": {
      "text/plain": [
       "count    40478.000000\n",
       "mean         0.001117\n",
       "std          0.005882\n",
       "min          0.000131\n",
       "25%          0.000131\n",
       "50%          0.000131\n",
       "75%          0.000525\n",
       "max          0.320116\n",
       "Name: appears_in_pct, dtype: float64"
      ]
     },
     "execution_count": 178,
     "metadata": {},
     "output_type": "execute_result"
    }
   ],
   "source": [
    "wc['appears_in_pct'].describe()"
   ]
  },
  {
   "cell_type": "markdown",
   "metadata": {},
   "source": [
    "## excluding the extremes"
   ]
  },
  {
   "cell_type": "code",
   "execution_count": 179,
   "metadata": {},
   "outputs": [
    {
     "data": {
      "image/png": "[encoded data removed]",
      "text/plain": [
       "<Figure size 432x288 with 1 Axes>"
      ]
     },
     "metadata": {
      "needs_background": "light"
     },
     "output_type": "display_data"
    }
   ],
   "source": [
    "# Tree-Map w/ Words that appear in a least 2.5% of documents. \n",
    "\n",
    "wc = wc[wc['appears_in_pct'] >= 0.025]\n",
    "\n",
    "sns.distplot(wc['appears_in_pct']);"
   ]
  },
  {
   "cell_type": "markdown",
   "metadata": {},
   "source": [
    "## applying lemma in a sample_text"
   ]
  },
  {
   "cell_type": "code",
   "execution_count": 189,
   "metadata": {},
   "outputs": [
    {
     "name": "stdout",
     "output_type": "stream",
     "text": [
      "11/2/2016    11/2/2016\n",
      "Great    great\n",
      "service    service\n",
      ",    ,\n",
      "Good    good\n",
      "food    food\n",
      "and    and\n",
      "drinks    drink\n",
      "!    !\n"
     ]
    }
   ],
   "source": [
    "sample_text = \"11/2/2016 Great service, Good food and drinks!\"\n",
    "\n",
    "# Instantiate base model\n",
    "nlp = spacy.load(\"en_core_web_lg\")\n",
    "\n",
    "doc = nlp(sample_text)\n",
    "\n",
    "# Lemma Attributes\n",
    "for token in doc:\n",
    "    print(token.text, \"  \", token.lemma_)"
   ]
  },
  {
   "cell_type": "markdown",
   "metadata": {},
   "source": [
    "## defining lemma function"
   ]
  },
  {
   "cell_type": "code",
   "execution_count": 214,
   "metadata": {},
   "outputs": [],
   "source": [
    "# Lemmas functions\n",
    "def get_lemmas(text):\n",
    "\n",
    "    lemmas = []\n",
    "    \n",
    "    doc = nlp(text)\n",
    "    \n",
    "    for token in doc: \n",
    "        if ((token.is_stop == False) and (token.is_punct == False)) and (token.pos_!= '-PRON-') and (token.is_space == False)and (token.is_digit == False):\n",
    "            lemmas.append(token.lemma_)\n",
    "    \n",
    "    return lemmas"
   ]
  },
  {
   "cell_type": "code",
   "execution_count": 215,
   "metadata": {},
   "outputs": [],
   "source": [
    "shops['lemmas'] = shops['full_review_text'].apply(get_lemmas)"
   ]
  },
  {
   "cell_type": "code",
   "execution_count": 216,
   "metadata": {},
   "outputs": [
    {
     "data": {
      "text/plain": [
       "0    [11/25/2016, check, Love, love, love, atmosphe...\n",
       "1    [12/2/2016, list, Date, Night, Austin, Ambianc...\n",
       "2    [11/30/2016, check, list, Brunch, Spots, love,...\n",
       "3    [11/25/2016, cool, decor, good, drink, nice, s...\n",
       "4    [12/3/2016, check, locate, Northcross, mall, s...\n",
       "Name: lemmas, dtype: object"
      ]
     },
     "execution_count": 216,
     "metadata": {},
     "output_type": "execute_result"
    }
   ],
   "source": [
    "shops['lemmas'].head()"
   ]
  },
  {
   "cell_type": "code",
   "execution_count": 217,
   "metadata": {},
   "outputs": [
    {
     "data": {
      "image/png": "[encoded data removed]",
      "text/plain": [
       "<Figure size 432x288 with 1 Axes>"
      ]
     },
     "metadata": {
      "needs_background": "light"
     },
     "output_type": "display_data"
    }
   ],
   "source": [
    "wc = count(shops['lemmas'])\n",
    "wc_top10 = wc[wc['rank'] <= 10]\n",
    "\n",
    "squarify.plot(sizes=wc_top10['pct_total'], label=wc_top10['word'], alpha=.8 )\n",
    "plt.axis('off')\n",
    "plt.show()"
   ]
  },
  {
   "cell_type": "markdown",
   "metadata": {},
   "source": [
    "## shop reviews by rating"
   ]
  },
  {
   "cell_type": "code",
   "execution_count": 197,
   "metadata": {},
   "outputs": [],
   "source": [
    "s1 = shops[shops['tokens_rating'] == 1]\n",
    "s2 = shops[shops['tokens_rating'] == 2]\n",
    "s3 = shops[shops['tokens_rating'] == 3]\n",
    "s4 = shops[shops['tokens_rating'] == 4]\n",
    "s5 = shops[shops['tokens_rating'] == 5]"
   ]
  },
  {
   "cell_type": "markdown",
   "metadata": {},
   "source": [
    "## defining top 10 words most commonly used for shops star_rating 1"
   ]
  },
  {
   "cell_type": "code",
   "execution_count": 231,
   "metadata": {},
   "outputs": [
    {
     "name": "stderr",
     "output_type": "stream",
     "text": [
      "C:\\Users\\Lenovo\\Anaconda3\\envs\\U4-S1-NLP\\lib\\site-packages\\ipykernel_launcher.py:1: SettingWithCopyWarning: \n",
      "A value is trying to be set on a copy of a slice from a DataFrame.\n",
      "Try using .loc[row_indexer,col_indexer] = value instead\n",
      "\n",
      "See the caveats in the documentation: http://pandas.pydata.org/pandas-docs/stable/user_guide/indexing.html#returning-a-view-versus-a-copy\n",
      "  \"\"\"Entry point for launching an IPython kernel.\n"
     ]
    }
   ],
   "source": [
    "s1['lemmas'] = s1['full_review_text'].apply(get_lemmas)"
   ]
  },
  {
   "cell_type": "code",
   "execution_count": 232,
   "metadata": {},
   "outputs": [
    {
     "data": {
      "image/png": "[encoded data removed]",
      "text/plain": [
       "<Figure size 432x288 with 1 Axes>"
      ]
     },
     "metadata": {
      "needs_background": "light"
     },
     "output_type": "display_data"
    }
   ],
   "source": [
    "wc_s1 = count(s1['lemmas'])\n",
    "wc_s1_top10 = wc_s1[wc_s1['rank'] <= 10]\n",
    "\n",
    "squarify.plot(sizes=wc_s1_top10['pct_total'], label=wc_s1_top10['word'], alpha=.8 )\n",
    "plt.axis('off')\n",
    "plt.show()"
   ]
  },
  {
   "cell_type": "markdown",
   "metadata": {},
   "source": [
    "## defining top 10 words most commonly used for shops star_rating 2"
   ]
  },
  {
   "cell_type": "code",
   "execution_count": 233,
   "metadata": {},
   "outputs": [
    {
     "name": "stderr",
     "output_type": "stream",
     "text": [
      "C:\\Users\\Lenovo\\Anaconda3\\envs\\U4-S1-NLP\\lib\\site-packages\\ipykernel_launcher.py:1: SettingWithCopyWarning: \n",
      "A value is trying to be set on a copy of a slice from a DataFrame.\n",
      "Try using .loc[row_indexer,col_indexer] = value instead\n",
      "\n",
      "See the caveats in the documentation: http://pandas.pydata.org/pandas-docs/stable/user_guide/indexing.html#returning-a-view-versus-a-copy\n",
      "  \"\"\"Entry point for launching an IPython kernel.\n"
     ]
    }
   ],
   "source": [
    "s2['lemmas'] = s2['full_review_text'].apply(get_lemmas)"
   ]
  },
  {
   "cell_type": "code",
   "execution_count": 234,
   "metadata": {},
   "outputs": [
    {
     "data": {
      "image/png": "[encoded data removed]",
      "text/plain": [
       "<Figure size 432x288 with 1 Axes>"
      ]
     },
     "metadata": {
      "needs_background": "light"
     },
     "output_type": "display_data"
    }
   ],
   "source": [
    "wc_s2 = count(s2['lemmas'])\n",
    "wc_s2_top10 = wc_s2[wc_s2['rank'] <= 10]\n",
    "\n",
    "squarify.plot(sizes=wc_s2_top10['pct_total'], label=wc_s2_top10['word'], alpha=.8 )\n",
    "plt.axis('off')\n",
    "plt.show()"
   ]
  },
  {
   "cell_type": "markdown",
   "metadata": {},
   "source": [
    "## defining top 10 words most commonly used for shops star_rating 3"
   ]
  },
  {
   "cell_type": "code",
   "execution_count": 235,
   "metadata": {},
   "outputs": [
    {
     "name": "stderr",
     "output_type": "stream",
     "text": [
      "C:\\Users\\Lenovo\\Anaconda3\\envs\\U4-S1-NLP\\lib\\site-packages\\ipykernel_launcher.py:1: SettingWithCopyWarning: \n",
      "A value is trying to be set on a copy of a slice from a DataFrame.\n",
      "Try using .loc[row_indexer,col_indexer] = value instead\n",
      "\n",
      "See the caveats in the documentation: http://pandas.pydata.org/pandas-docs/stable/user_guide/indexing.html#returning-a-view-versus-a-copy\n",
      "  \"\"\"Entry point for launching an IPython kernel.\n"
     ]
    }
   ],
   "source": [
    "s3['lemmas'] = s3['full_review_text'].apply(get_lemmas)"
   ]
  },
  {
   "cell_type": "code",
   "execution_count": 236,
   "metadata": {},
   "outputs": [
    {
     "data": {
      "image/png": "[encoded data removed]",
      "text/plain": [
       "<Figure size 432x288 with 1 Axes>"
      ]
     },
     "metadata": {
      "needs_background": "light"
     },
     "output_type": "display_data"
    }
   ],
   "source": [
    "wc_s3 = count(s3['lemmas'])\n",
    "wc_s3_top10 = wc_s3[wc_s3['rank'] <= 10]\n",
    "\n",
    "squarify.plot(sizes=wc_s3_top10['pct_total'], label=wc_s3_top10['word'], alpha=.8 )\n",
    "plt.axis('off')\n",
    "plt.show()"
   ]
  },
  {
   "cell_type": "markdown",
   "metadata": {},
   "source": [
    "## defining top 10 words most commonly used for shops star_rating 4"
   ]
  },
  {
   "cell_type": "code",
   "execution_count": 237,
   "metadata": {},
   "outputs": [
    {
     "name": "stderr",
     "output_type": "stream",
     "text": [
      "C:\\Users\\Lenovo\\Anaconda3\\envs\\U4-S1-NLP\\lib\\site-packages\\ipykernel_launcher.py:1: SettingWithCopyWarning: \n",
      "A value is trying to be set on a copy of a slice from a DataFrame.\n",
      "Try using .loc[row_indexer,col_indexer] = value instead\n",
      "\n",
      "See the caveats in the documentation: http://pandas.pydata.org/pandas-docs/stable/user_guide/indexing.html#returning-a-view-versus-a-copy\n",
      "  \"\"\"Entry point for launching an IPython kernel.\n"
     ]
    }
   ],
   "source": [
    "s4['lemmas'] = s4['full_review_text'].apply(get_lemmas)"
   ]
  },
  {
   "cell_type": "code",
   "execution_count": 238,
   "metadata": {},
   "outputs": [
    {
     "data": {
      "image/png": "[encoded data removed]",
      "text/plain": [
       "<Figure size 432x288 with 1 Axes>"
      ]
     },
     "metadata": {
      "needs_background": "light"
     },
     "output_type": "display_data"
    }
   ],
   "source": [
    "wc_s4 = count(s4['lemmas'])\n",
    "wc_s4_top10 = wc_s4[wc_s4['rank'] <= 10]\n",
    "\n",
    "squarify.plot(sizes=wc_s4_top10['pct_total'], label=wc_s4_top10['word'], alpha=.8 )\n",
    "plt.axis('off')\n",
    "plt.show()"
   ]
  },
  {
   "cell_type": "markdown",
   "metadata": {},
   "source": [
    "## defining top 10 words most commonly used for shops star_rating 5"
   ]
  },
  {
   "cell_type": "code",
   "execution_count": 239,
   "metadata": {},
   "outputs": [
    {
     "name": "stderr",
     "output_type": "stream",
     "text": [
      "C:\\Users\\Lenovo\\Anaconda3\\envs\\U4-S1-NLP\\lib\\site-packages\\ipykernel_launcher.py:1: SettingWithCopyWarning: \n",
      "A value is trying to be set on a copy of a slice from a DataFrame.\n",
      "Try using .loc[row_indexer,col_indexer] = value instead\n",
      "\n",
      "See the caveats in the documentation: http://pandas.pydata.org/pandas-docs/stable/user_guide/indexing.html#returning-a-view-versus-a-copy\n",
      "  \"\"\"Entry point for launching an IPython kernel.\n"
     ]
    }
   ],
   "source": [
    "s5['lemmas'] = s5['full_review_text'].apply(get_lemmas)"
   ]
  },
  {
   "cell_type": "code",
   "execution_count": 240,
   "metadata": {},
   "outputs": [
    {
     "data": {
      "image/png": "[encoded data removed]",
      "text/plain": [
       "<Figure size 432x288 with 1 Axes>"
      ]
     },
     "metadata": {
      "needs_background": "light"
     },
     "output_type": "display_data"
    }
   ],
   "source": [
    "wc_s5 = count(s5['lemmas'])\n",
    "wc_s5_top10 = wc_s5[wc_s5['rank'] <= 10]\n",
    "\n",
    "squarify.plot(sizes=wc_s5_top10['pct_total'], label=wc_s5_top10['word'], alpha=.8 )\n",
    "plt.axis('off')\n",
    "plt.show()"
   ]
  },
  {
   "cell_type": "markdown",
   "metadata": {},
   "source": [
    "## Can visualize the words with the greatest difference in counts between 'good' & 'bad'?\n",
    "\n",
    "Couple Notes: \n",
    "- Rel. freq. instead of absolute counts b/c of different numbers of reviews\n",
    "- Only look at the top 5-10 words with the greatest differences\n"
   ]
  },
  {
   "cell_type": "markdown",
   "metadata": {},
   "source": [
    "## Bad reviews uses words such as didn't, don't, service, people, time\n",
    "## Good reviews uses words such as great, friendly, definitely, love, best\n",
    "\n",
    "### From this I get the message of things not done, available, something negative byt the number of times words as didn't and don't were used. Time, people and service was referred possibily in a bad conotation too.\n",
    "### About the best shops, verbs as love show is really good, words such as great, friendly, definitely, best are firmly positive and transmit that connotation too."
   ]
  },
  {
   "cell_type": "code",
   "execution_count": 213,
   "metadata": {},
   "outputs": [
    {
     "data": {
      "text/plain": [
       "['_',\n",
       " '__bytes__',\n",
       " '__class__',\n",
       " '__delattr__',\n",
       " '__dir__',\n",
       " '__doc__',\n",
       " '__eq__',\n",
       " '__format__',\n",
       " '__ge__',\n",
       " '__getattribute__',\n",
       " '__gt__',\n",
       " '__hash__',\n",
       " '__init__',\n",
       " '__init_subclass__',\n",
       " '__le__',\n",
       " '__len__',\n",
       " '__lt__',\n",
       " '__ne__',\n",
       " '__new__',\n",
       " '__pyx_vtable__',\n",
       " '__reduce__',\n",
       " '__reduce_ex__',\n",
       " '__repr__',\n",
       " '__setattr__',\n",
       " '__sizeof__',\n",
       " '__str__',\n",
       " '__subclasshook__',\n",
       " '__unicode__',\n",
       " 'ancestors',\n",
       " 'check_flag',\n",
       " 'children',\n",
       " 'cluster',\n",
       " 'conjuncts',\n",
       " 'dep',\n",
       " 'dep_',\n",
       " 'doc',\n",
       " 'ent_id',\n",
       " 'ent_id_',\n",
       " 'ent_iob',\n",
       " 'ent_iob_',\n",
       " 'ent_kb_id',\n",
       " 'ent_kb_id_',\n",
       " 'ent_type',\n",
       " 'ent_type_',\n",
       " 'get_extension',\n",
       " 'has_extension',\n",
       " 'has_vector',\n",
       " 'head',\n",
       " 'i',\n",
       " 'idx',\n",
       " 'is_alpha',\n",
       " 'is_ancestor',\n",
       " 'is_ascii',\n",
       " 'is_bracket',\n",
       " 'is_currency',\n",
       " 'is_digit',\n",
       " 'is_left_punct',\n",
       " 'is_lower',\n",
       " 'is_oov',\n",
       " 'is_punct',\n",
       " 'is_quote',\n",
       " 'is_right_punct',\n",
       " 'is_sent_start',\n",
       " 'is_space',\n",
       " 'is_stop',\n",
       " 'is_title',\n",
       " 'is_upper',\n",
       " 'lang',\n",
       " 'lang_',\n",
       " 'left_edge',\n",
       " 'lefts',\n",
       " 'lemma',\n",
       " 'lemma_',\n",
       " 'lex_id',\n",
       " 'like_email',\n",
       " 'like_num',\n",
       " 'like_url',\n",
       " 'lower',\n",
       " 'lower_',\n",
       " 'morph',\n",
       " 'n_lefts',\n",
       " 'n_rights',\n",
       " 'nbor',\n",
       " 'norm',\n",
       " 'norm_',\n",
       " 'orth',\n",
       " 'orth_',\n",
       " 'pos',\n",
       " 'pos_',\n",
       " 'prefix',\n",
       " 'prefix_',\n",
       " 'prob',\n",
       " 'rank',\n",
       " 'remove_extension',\n",
       " 'right_edge',\n",
       " 'rights',\n",
       " 'sent',\n",
       " 'sent_start',\n",
       " 'sentiment',\n",
       " 'set_extension',\n",
       " 'shape',\n",
       " 'shape_',\n",
       " 'similarity',\n",
       " 'string',\n",
       " 'subtree',\n",
       " 'suffix',\n",
       " 'suffix_',\n",
       " 'tag',\n",
       " 'tag_',\n",
       " 'tensor',\n",
       " 'text',\n",
       " 'text_with_ws',\n",
       " 'vector',\n",
       " 'vector_norm',\n",
       " 'vocab',\n",
       " 'whitespace_']"
      ]
     },
     "execution_count": 213,
     "metadata": {},
     "output_type": "execute_result"
    }
   ],
   "source": [
    "dir(token)"
   ]
  },
  {
   "cell_type": "markdown",
   "metadata": {
    "colab_type": "text",
    "id": "1dCb1q8XphcP",
    "toc-hr-collapsed": true
   },
   "source": [
    "## Stretch Goals\n",
    "\n",
    "* Analyze another corpus of documents - such as Indeed.com job listings ;).\n",
    "* Play with the Spacy API to\n",
    " - Extract Named Entities\n",
    " - Extracting 'noun chunks'\n",
    " - Attempt Document Classification with just Spacy\n",
    " - *Note:* This [course](https://course.spacy.io/) will be of interesting in helping you with these stretch goals. \n",
    "* Try to build a plotly dash app with your text data \n",
    "\n"
   ]
  },
  {
   "cell_type": "code",
   "execution_count": 247,
   "metadata": {},
   "outputs": [],
   "source": [
    "sentence = nlp(u'Latest Rumours: Manchester United is looking to sign Harry Kane for $90 million')"
   ]
  },
  {
   "cell_type": "code",
   "execution_count": null,
   "metadata": {},
   "outputs": [],
   "source": [
    "doc = nlp(\"Mr. Best flew to New York on Saturday morning.\")"
   ]
  },
  {
   "cell_type": "code",
   "execution_count": null,
   "metadata": {},
   "outputs": [],
   "source": [
    "doc1 = nlp(\"A phrase with another phrase occurs.\")"
   ]
  },
  {
   "cell_type": "code",
   "execution_count": 259,
   "metadata": {},
   "outputs": [],
   "source": [
    "indeed = nlp(\"\"\"Triplebyte helps companies find and hire great technical talent. \n",
    "For any company building software, this is crucial for success. \n",
    "A recent survey of top C-Level Executives, across multiple industries, \n",
    "showed that software, R&D and recruiting technical talent are the top areas \n",
    "they are planning increased investment and budget over the next 5 years. \n",
    "Companies like Apple, \n",
    "Dropbox and American Express trust Triplebyte’s online technical assessment \n",
    "to identify the best engineers for their open roles and reduce the time and effort \n",
    "it takes to hire them.\n",
    "Earlier this year we raised a $35 million Series B and our team of \n",
    "40 will double in size during 2019. \n",
    "Now is a great time to join as we're on an exciting growth trajectory. \n",
    "You will have lots of opportunity for taking on responsibility and \n",
    "developing new skills quickly.\n",
    "We have built Machine Learning models that predict the likelihood of an engineer \n",
    "getting an offer from a particular company. \n",
    "Interviewing and assessing engineering talent tends to be noisy, \n",
    "but our technical assessment has proven to be good enough to extract meaningful signals. \n",
    "We collect data on interview results and in-house evaluations, \n",
    "which gives us a unique dataset to play with. \n",
    "We've used that data to deliver a 40% conversion rate on our candidates \n",
    "at interview to offer, compared to the industry standard 20%.\n",
    "Our mission is to create a scientific method for identifying great talent and intelligently \n",
    "route it to the best place, streamlining and speeding up the recruitment process, \n",
    "while removing human biases that can hold back some candidates.We're an experienced team, \n",
    "the founders have each built and sold companies before. \n",
    "Ammon and Guillaume founded Socialcam (acquired by Autodesk for $60 million) \n",
    "and Harj was the first partner hired at Y Combinator since its founding.\"\"\")"
   ]
  },
  {
   "cell_type": "markdown",
   "metadata": {},
   "source": [
    "## playing with entities"
   ]
  },
  {
   "cell_type": "code",
   "execution_count": 249,
   "metadata": {},
   "outputs": [
    {
     "name": "stdout",
     "output_type": "stream",
     "text": [
      "Latest\n",
      "Rumours\n",
      ":\n",
      "Manchester\n",
      "United\n",
      "is\n",
      "looking\n",
      "to\n",
      "sign\n",
      "Harry\n",
      "Kane\n",
      "for\n",
      "$\n",
      "90\n",
      "million\n"
     ]
    }
   ],
   "source": [
    "for word in sentence:\n",
    "    print(word.text)"
   ]
  },
  {
   "cell_type": "code",
   "execution_count": 250,
   "metadata": {},
   "outputs": [
    {
     "name": "stdout",
     "output_type": "stream",
     "text": [
      "Manchester United - ORG - Companies, agencies, institutions, etc.\n",
      "Harry Kane - PERSON - People, including fictional\n",
      "$90 million - MONEY - Monetary values, including unit\n"
     ]
    }
   ],
   "source": [
    "for entity in sentence.ents:\n",
    "    print(entity.text + ' - ' + entity.label_ + ' - ' + str(spacy.explain(entity.label_)))"
   ]
  },
  {
   "cell_type": "code",
   "execution_count": 257,
   "metadata": {},
   "outputs": [
    {
     "data": {
      "text/plain": [
       "[Best, New York, Saturday, morning]"
      ]
     },
     "execution_count": 257,
     "metadata": {},
     "output_type": "execute_result"
    }
   ],
   "source": [
    "ents = list(doc.ents)\n",
    "ents\n",
    "# assert ents[0].label == 346\n",
    "# assert ents[0].label_ == \"PERSON\"\n",
    "# assert ents[0].text == \"Mr. Best\""
   ]
  },
  {
   "cell_type": "code",
   "execution_count": 258,
   "metadata": {},
   "outputs": [
    {
     "name": "stdout",
     "output_type": "stream",
     "text": [
      "Best - PERSON - People, including fictional\n",
      "New York - GPE - Countries, cities, states\n",
      "Saturday - DATE - Absolute or relative dates or periods\n",
      "morning - TIME - Times smaller than a day\n"
     ]
    }
   ],
   "source": [
    "for entity in doc.ents:\n",
    "    print(entity.text + ' - ' + entity.label_ + ' - ' + str(spacy.explain(entity.label_)))"
   ]
  },
  {
   "cell_type": "code",
   "execution_count": 260,
   "metadata": {},
   "outputs": [
    {
     "name": "stdout",
     "output_type": "stream",
     "text": [
      "Triplebyte - ORG - Companies, agencies, institutions, etc.\n",
      "the next 5 years - DATE - Absolute or relative dates or periods\n",
      "Apple - ORG - Companies, agencies, institutions, etc.\n",
      "Dropbox - PRODUCT - Objects, vehicles, foods, etc. (not services)\n",
      "American Express - ORG - Companies, agencies, institutions, etc.\n",
      "Triplebyte - ORG - Companies, agencies, institutions, etc.\n",
      "Earlier this year - DATE - Absolute or relative dates or periods\n",
      "$35 million - MONEY - Monetary values, including unit\n",
      "40 - DATE - Absolute or relative dates or periods\n",
      "2019 - DATE - Absolute or relative dates or periods\n",
      "40% - PERCENT - Percentage, including \"%\"\n",
      "20% - PERCENT - Percentage, including \"%\"\n",
      "Ammon - PERSON - People, including fictional\n",
      "Guillaume - PERSON - People, including fictional\n",
      "Socialcam - PERSON - People, including fictional\n",
      "Autodesk - ORG - Companies, agencies, institutions, etc.\n",
      "$60 million - MONEY - Monetary values, including unit\n",
      "Harj - ORG - Companies, agencies, institutions, etc.\n",
      "first - ORDINAL - \"first\", \"second\", etc.\n",
      "Y Combinator - ORG - Companies, agencies, institutions, etc.\n"
     ]
    }
   ],
   "source": [
    "for entity in indeed.ents:\n",
    "    print(entity.text + ' - ' + entity.label_ + ' - ' + str(spacy.explain(entity.label_)))"
   ]
  },
  {
   "cell_type": "markdown",
   "metadata": {},
   "source": [
    "## playing with noun_chunks"
   ]
  },
  {
   "cell_type": "code",
   "execution_count": 248,
   "metadata": {},
   "outputs": [
    {
     "name": "stdout",
     "output_type": "stream",
     "text": [
      "Latest Rumours\n",
      "Manchester United\n",
      "Harry Kane\n"
     ]
    }
   ],
   "source": [
    "for noun in sentence.noun_chunks:\n",
    "    print(noun.text)"
   ]
  },
  {
   "cell_type": "code",
   "execution_count": 255,
   "metadata": {},
   "outputs": [
    {
     "data": {
      "text/plain": [
       "[A phrase, another phrase]"
      ]
     },
     "execution_count": 255,
     "metadata": {},
     "output_type": "execute_result"
    }
   ],
   "source": [
    "chunks = list(doc1.noun_chunks)\n",
    "chunks\n",
    "# assert chunks[0].text == \"A phrase\"\n",
    "# assert chunks[1].text == \"another phrase\""
   ]
  },
  {
   "cell_type": "code",
   "execution_count": 261,
   "metadata": {},
   "outputs": [
    {
     "name": "stdout",
     "output_type": "stream",
     "text": [
      "Triplebyte\n",
      "companies\n",
      "great technical talent\n",
      "any company building software\n",
      "success\n",
      "A recent survey\n",
      "top C-Level Executives\n",
      "multiple industries\n",
      "software\n",
      "R&D\n",
      "technical talent\n",
      "the top areas\n",
      "they\n",
      "increased investment\n",
      "budget\n",
      "the next 5 years\n",
      "Companies\n",
      "Apple\n",
      "Dropbox\n",
      "American Express\n",
      "trust Triplebyte’s online technical assessment\n",
      "the best engineers\n",
      "their open roles\n",
      "the time\n",
      "effort\n",
      "it\n",
      "them\n",
      "we\n",
      "a $35 million Series B\n",
      "our team\n",
      "size\n",
      "a great time\n",
      "we\n",
      "an exciting growth trajectory\n",
      "You\n",
      "lots\n",
      "opportunity\n",
      "responsibility\n",
      "new skills\n",
      "We\n",
      "Machine Learning models\n",
      "the likelihood\n",
      "an engineer\n",
      "an offer\n",
      "a particular company\n",
      "engineering talent\n",
      "our technical assessment\n",
      "meaningful signals\n",
      "We\n",
      "data\n",
      "interview results\n",
      "house\n",
      "us\n",
      "a unique dataset\n",
      "We\n",
      "that data\n",
      "a 40% conversion rate\n",
      "our candidates\n",
      "interview\n",
      "the industry standard\n",
      "20%\n",
      "Our mission\n",
      "a scientific method\n",
      "great talent\n",
      "it\n",
      "the best place\n",
      "the recruitment process\n",
      "human biases\n",
      "some candidates\n",
      "We're an experienced team\n",
      "the founders\n",
      "companies\n",
      "Ammon\n",
      "Guillaume\n",
      "Socialcam\n",
      "Autodesk\n",
      "Harj\n",
      "the first partner\n",
      "Y Combinator\n",
      "its founding\n"
     ]
    }
   ],
   "source": [
    "for noun in indeed.noun_chunks:\n",
    "    print(noun.text)"
   ]
  },
  {
   "cell_type": "markdown",
   "metadata": {},
   "source": [
    "## playing with Part of Speech (POS) Tagging"
   ]
  },
  {
   "cell_type": "code",
   "execution_count": 251,
   "metadata": {},
   "outputs": [
    {
     "name": "stdout",
     "output_type": "stream",
     "text": [
      "Latest ADJ\n",
      "Rumours PROPN\n",
      ": PUNCT\n",
      "Manchester PROPN\n",
      "United PROPN\n",
      "is AUX\n",
      "looking VERB\n",
      "to PART\n",
      "sign VERB\n",
      "Harry PROPN\n",
      "Kane PROPN\n",
      "for ADP\n",
      "$ SYM\n",
      "90 NUM\n",
      "million NUM\n"
     ]
    }
   ],
   "source": [
    "for word in sentence:\n",
    "    print(word.text,word.pos_)"
   ]
  }
 ],
 "metadata": {
  "colab": {
   "collapsed_sections": [],
   "name": "LS_DS_421_Text_Data_Assignment.ipynb",
   "provenance": [],
   "version": "0.3.2"
  },
  "kernelspec": {
   "display_name": "U4-S1-NLP (Python3)",
   "language": "python",
   "name": "u4-s1-nlp"
  },
  "language_info": {
   "codemirror_mode": {
    "name": "ipython",
    "version": 3
   },
   "file_extension": ".py",
   "mimetype": "text/x-python",
   "name": "python",
   "nbconvert_exporter": "python",
   "pygments_lexer": "ipython3",
   "version": "3.7.0"
  },
  "toc-autonumbering": false
 },
 "nbformat": 4,
 "nbformat_minor": 4
}
