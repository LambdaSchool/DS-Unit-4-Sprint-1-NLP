{
 "cells": [
  {
   "cell_type": "markdown",
   "metadata": {},
   "source": [
    "<img align=\"left\" src=\"https://lever-client-logos.s3.amazonaws.com/864372b1-534c-480e-acd5-9711f850815c-1524247202159.png\" width=200>\n",
    "<br></br>\n",
    "<br></br>\n",
    "\n",
    "# Natural Language Processing (NLP)\n",
    "## *Data Science Unit 4 Sprint 1 Assignment 1*\n",
    "\n",
    "Your goal in this assignment: find the attributes of the best & worst coffee shops in the dataset. The text is fairly raw: dates in the review, extra words in the `star_rating` column, etc. You'll probably want to clean that stuff up for a better analysis. \n",
    "\n",
    "Analyze the corpus of text using text visualizations of token frequency. Try cleaning the data as much as possible. Try the following techniques: \n",
    "- Lemmatization\n",
    "- Custom stopword removal\n",
    "\n",
    "Keep in mind the attributes of good tokens. Once you have a solid baseline, layer in the star rating in your visualization(s). Key part of this assignment - produce a write-up of the attributes of the best and worst coffee shops. Based on your analysis, what makes the best the best and the worst the worst. Use graphs and numbesr from your analysis to support your conclusions. There should be plenty of markdown cells! :coffee:"
   ]
  },
  {
   "cell_type": "code",
   "execution_count": 1,
   "metadata": {},
   "outputs": [
    {
     "data": {
      "image/jpeg": "[encoded data removed]",
      "text/html": [
       "\n",
       "        <iframe\n",
       "            width=\"400\"\n",
       "            height=\"300\"\n",
       "            src=\"https://www.youtube.com/embed/Jml7NVYm8cs\"\n",
       "            frameborder=\"0\"\n",
       "            allowfullscreen\n",
       "        ></iframe>\n",
       "        "
      ],
      "text/plain": [
       "<IPython.lib.display.YouTubeVideo at 0x7ff41072f0f0>"
      ]
     },
     "execution_count": 1,
     "metadata": {},
     "output_type": "execute_result"
    }
   ],
   "source": [
    "from IPython.display import YouTubeVideo\n",
    "\n",
    "YouTubeVideo('Jml7NVYm8cs')"
   ]
  },
  {
   "cell_type": "code",
   "execution_count": 2,
   "metadata": {},
   "outputs": [
    {
     "data": {
      "text/plain": [
       "'/home/felix/projects/school/unit_4/DS-Unit-4-Sprint-1-NLP/module1-text-data'"
      ]
     },
     "execution_count": 2,
     "metadata": {},
     "output_type": "execute_result"
    }
   ],
   "source": [
    "%pwd"
   ]
  },
  {
   "cell_type": "code",
   "execution_count": 3,
   "metadata": {},
   "outputs": [
    {
     "data": {
      "text/html": [
       "<div>\n",
       "<style scoped>\n",
       "    .dataframe tbody tr th:only-of-type {\n",
       "        vertical-align: middle;\n",
       "    }\n",
       "\n",
       "    .dataframe tbody tr th {\n",
       "        vertical-align: top;\n",
       "    }\n",
       "\n",
       "    .dataframe thead th {\n",
       "        text-align: right;\n",
       "    }\n",
       "</style>\n",
       "<table border=\"1\" class=\"dataframe\">\n",
       "  <thead>\n",
       "    <tr style=\"text-align: right;\">\n",
       "      <th></th>\n",
       "      <th>coffee_shop_name</th>\n",
       "      <th>full_review_text</th>\n",
       "      <th>star_rating</th>\n",
       "    </tr>\n",
       "  </thead>\n",
       "  <tbody>\n",
       "    <tr>\n",
       "      <th>0</th>\n",
       "      <td>The Factory - Cafe With a Soul</td>\n",
       "      <td>11/25/2016 1 check-in Love love loved the atm...</td>\n",
       "      <td>5.0 star rating</td>\n",
       "    </tr>\n",
       "    <tr>\n",
       "      <th>1</th>\n",
       "      <td>The Factory - Cafe With a Soul</td>\n",
       "      <td>12/2/2016 Listed in Date Night: Austin, Ambia...</td>\n",
       "      <td>4.0 star rating</td>\n",
       "    </tr>\n",
       "    <tr>\n",
       "      <th>2</th>\n",
       "      <td>The Factory - Cafe With a Soul</td>\n",
       "      <td>11/30/2016 1 check-in Listed in Brunch Spots ...</td>\n",
       "      <td>4.0 star rating</td>\n",
       "    </tr>\n",
       "    <tr>\n",
       "      <th>3</th>\n",
       "      <td>The Factory - Cafe With a Soul</td>\n",
       "      <td>11/25/2016 Very cool decor! Good drinks Nice ...</td>\n",
       "      <td>2.0 star rating</td>\n",
       "    </tr>\n",
       "    <tr>\n",
       "      <th>4</th>\n",
       "      <td>The Factory - Cafe With a Soul</td>\n",
       "      <td>12/3/2016 1 check-in They are located within ...</td>\n",
       "      <td>4.0 star rating</td>\n",
       "    </tr>\n",
       "  </tbody>\n",
       "</table>\n",
       "</div>"
      ],
      "text/plain": [
       "                  coffee_shop_name  \\\n",
       "0  The Factory - Cafe With a Soul    \n",
       "1  The Factory - Cafe With a Soul    \n",
       "2  The Factory - Cafe With a Soul    \n",
       "3  The Factory - Cafe With a Soul    \n",
       "4  The Factory - Cafe With a Soul    \n",
       "\n",
       "                                    full_review_text        star_rating  \n",
       "0   11/25/2016 1 check-in Love love loved the atm...   5.0 star rating   \n",
       "1   12/2/2016 Listed in Date Night: Austin, Ambia...   4.0 star rating   \n",
       "2   11/30/2016 1 check-in Listed in Brunch Spots ...   4.0 star rating   \n",
       "3   11/25/2016 Very cool decor! Good drinks Nice ...   2.0 star rating   \n",
       "4   12/3/2016 1 check-in They are located within ...   4.0 star rating   "
      ]
     },
     "execution_count": 3,
     "metadata": {},
     "output_type": "execute_result"
    }
   ],
   "source": [
    "import pandas as pd\n",
    "\n",
    "url = \"https://raw.githubusercontent.com/LambdaSchool/DS-Unit-4-Sprint-1-NLP/master/module1-text-data/data/yelp_coffeeshop_review_data.csv\"\n",
    "\n",
    "shops = pd.read_csv(url)\n",
    "shops.head()"
   ]
  },
  {
   "cell_type": "code",
   "execution_count": 4,
   "metadata": {},
   "outputs": [
    {
     "name": "stdout",
     "output_type": "stream",
     "text": [
      "(7616, 3)\n"
     ]
    }
   ],
   "source": [
    "print(shops.shape)"
   ]
  },
  {
   "cell_type": "code",
   "execution_count": 5,
   "metadata": {},
   "outputs": [
    {
     "name": "stdout",
     "output_type": "stream",
     "text": [
      " 11/25/2016 1 check-in Love love loved the atmosphere! Every corner of the coffee shop had its own style, and there were swings!!! I ordered the matcha latte, and it was muy fantastico! Ordering and getting my drink were pretty streamlined. I ordered on an iPad, which included all beverage selections that ranged from coffee to wine, desired level of sweetness, and a checkout system. I got my latte within minutes!  I was hoping for a typical heart or feather on my latte, but found myself listing out all the possibilities of what the art may be. Any ideas? \n"
     ]
    }
   ],
   "source": [
    "print(shops.iloc[0]['full_review_text'])"
   ]
  },
  {
   "cell_type": "code",
   "execution_count": 6,
   "metadata": {},
   "outputs": [
    {
     "data": {
      "text/plain": [
       "Epoch Coffee                            400\n",
       "Halcyon                                 300\n",
       "The Factory - Cafe With a Soul          244\n",
       "Houndstooth Coffee                      200\n",
       "Venezia Italian Gelato                  200\n",
       "                                       ... \n",
       "Lucky Lab Coffee                         25\n",
       "Sister Coffee                            17\n",
       "Kowabunga Coffee                         16\n",
       "The Marvelous Vintage Tea Party Co.      10\n",
       "Lola Savannah Coffee Downtown             4\n",
       "Name: coffee_shop_name, Length: 79, dtype: int64"
      ]
     },
     "execution_count": 6,
     "metadata": {},
     "output_type": "execute_result"
    }
   ],
   "source": [
    "shops['coffee_shop_name'].value_counts()"
   ]
  },
  {
   "cell_type": "code",
   "execution_count": 7,
   "metadata": {},
   "outputs": [
    {
     "data": {
      "text/plain": [
       " 5.0 star rating     3780\n",
       " 4.0 star rating     2360\n",
       " 3.0 star rating      738\n",
       " 2.0 star rating      460\n",
       " 1.0 star rating      278\n",
       "Name: star_rating, dtype: int64"
      ]
     },
     "execution_count": 7,
     "metadata": {},
     "output_type": "execute_result"
    }
   ],
   "source": [
    "shops['star_rating'].value_counts()"
   ]
  },
  {
   "cell_type": "markdown",
   "metadata": {},
   "source": [
    "Okay, looks like I need to pull out the date, and maybe a checkin flag from the review.  The name looks fine, and the star rating should probably just be a number.\n",
    "* date can be split on spaces maybe, but leading space might be a problem\n",
    "* Check in can be figured out with a .find() and a .apply()\n",
    "* stars can be split on . and converted to an integer"
   ]
  },
  {
   "cell_type": "code",
   "execution_count": 8,
   "metadata": {},
   "outputs": [
    {
     "data": {
      "text/plain": [
       "5    3780\n",
       "4    2360\n",
       "3     738\n",
       "2     460\n",
       "1     278\n",
       "Name: star_rating_clean, dtype: int64"
      ]
     },
     "execution_count": 8,
     "metadata": {},
     "output_type": "execute_result"
    }
   ],
   "source": [
    "#Okay lets take a stab at getting the star rating, that should be easy enough\n",
    "shops['star_rating_clean'] = shops.apply(lambda x: int(x['star_rating'][:2]), axis = 1)\n",
    "\n",
    "shops['star_rating_clean'].value_counts()"
   ]
  },
  {
   "cell_type": "code",
   "execution_count": 9,
   "metadata": {},
   "outputs": [
    {
     "data": {
      "text/plain": [
       "10/9/2016     31\n",
       "9/18/2016     30\n",
       "11/2/2016     27\n",
       "11/20/2016    27\n",
       "12/2/2016     26\n",
       "              ..\n",
       "3/27/2009      1\n",
       "5/5/2011       1\n",
       "6/14/2014      1\n",
       "3/20/2013      1\n",
       "7/6/2009       1\n",
       "Name: date_clean, Length: 1592, dtype: int64"
      ]
     },
     "execution_count": 9,
     "metadata": {},
     "output_type": "execute_result"
    }
   ],
   "source": [
    "# lets pull the date out\n",
    "shops['date_clean'] = shops.apply(lambda x: x['full_review_text'].strip().split()[0], axis = 1)\n",
    "\n",
    "shops['date_clean'].value_counts()"
   ]
  },
  {
   "cell_type": "code",
   "execution_count": 10,
   "metadata": {},
   "outputs": [
    {
     "data": {
      "text/html": [
       "<div>\n",
       "<style scoped>\n",
       "    .dataframe tbody tr th:only-of-type {\n",
       "        vertical-align: middle;\n",
       "    }\n",
       "\n",
       "    .dataframe tbody tr th {\n",
       "        vertical-align: top;\n",
       "    }\n",
       "\n",
       "    .dataframe thead th {\n",
       "        text-align: right;\n",
       "    }\n",
       "</style>\n",
       "<table border=\"1\" class=\"dataframe\">\n",
       "  <thead>\n",
       "    <tr style=\"text-align: right;\">\n",
       "      <th></th>\n",
       "      <th>coffee_shop_name</th>\n",
       "      <th>full_review_text</th>\n",
       "      <th>star_rating</th>\n",
       "      <th>star_rating_clean</th>\n",
       "      <th>date_clean</th>\n",
       "      <th>review_text_clean</th>\n",
       "    </tr>\n",
       "  </thead>\n",
       "  <tbody>\n",
       "    <tr>\n",
       "      <th>0</th>\n",
       "      <td>The Factory - Cafe With a Soul</td>\n",
       "      <td>11/25/2016 1 check-in Love love loved the atm...</td>\n",
       "      <td>5.0 star rating</td>\n",
       "      <td>5</td>\n",
       "      <td>11/25/2016</td>\n",
       "      <td>1 check-in Love love loved the atmosphere! Eve...</td>\n",
       "    </tr>\n",
       "    <tr>\n",
       "      <th>1</th>\n",
       "      <td>The Factory - Cafe With a Soul</td>\n",
       "      <td>12/2/2016 Listed in Date Night: Austin, Ambia...</td>\n",
       "      <td>4.0 star rating</td>\n",
       "      <td>4</td>\n",
       "      <td>12/2/2016</td>\n",
       "      <td>Listed in Date Night: Austin, Ambiance in Aust...</td>\n",
       "    </tr>\n",
       "    <tr>\n",
       "      <th>2</th>\n",
       "      <td>The Factory - Cafe With a Soul</td>\n",
       "      <td>11/30/2016 1 check-in Listed in Brunch Spots ...</td>\n",
       "      <td>4.0 star rating</td>\n",
       "      <td>4</td>\n",
       "      <td>11/30/2016</td>\n",
       "      <td>1 check-in Listed in Brunch Spots I loved the ...</td>\n",
       "    </tr>\n",
       "    <tr>\n",
       "      <th>3</th>\n",
       "      <td>The Factory - Cafe With a Soul</td>\n",
       "      <td>11/25/2016 Very cool decor! Good drinks Nice ...</td>\n",
       "      <td>2.0 star rating</td>\n",
       "      <td>2</td>\n",
       "      <td>11/25/2016</td>\n",
       "      <td>Very cool decor! Good drinks Nice seating  How...</td>\n",
       "    </tr>\n",
       "    <tr>\n",
       "      <th>4</th>\n",
       "      <td>The Factory - Cafe With a Soul</td>\n",
       "      <td>12/3/2016 1 check-in They are located within ...</td>\n",
       "      <td>4.0 star rating</td>\n",
       "      <td>4</td>\n",
       "      <td>12/3/2016</td>\n",
       "      <td>1 check-in They are located within the Northcr...</td>\n",
       "    </tr>\n",
       "  </tbody>\n",
       "</table>\n",
       "</div>"
      ],
      "text/plain": [
       "                  coffee_shop_name  \\\n",
       "0  The Factory - Cafe With a Soul    \n",
       "1  The Factory - Cafe With a Soul    \n",
       "2  The Factory - Cafe With a Soul    \n",
       "3  The Factory - Cafe With a Soul    \n",
       "4  The Factory - Cafe With a Soul    \n",
       "\n",
       "                                    full_review_text        star_rating  \\\n",
       "0   11/25/2016 1 check-in Love love loved the atm...   5.0 star rating    \n",
       "1   12/2/2016 Listed in Date Night: Austin, Ambia...   4.0 star rating    \n",
       "2   11/30/2016 1 check-in Listed in Brunch Spots ...   4.0 star rating    \n",
       "3   11/25/2016 Very cool decor! Good drinks Nice ...   2.0 star rating    \n",
       "4   12/3/2016 1 check-in They are located within ...   4.0 star rating    \n",
       "\n",
       "   star_rating_clean  date_clean  \\\n",
       "0                  5  11/25/2016   \n",
       "1                  4   12/2/2016   \n",
       "2                  4  11/30/2016   \n",
       "3                  2  11/25/2016   \n",
       "4                  4   12/3/2016   \n",
       "\n",
       "                                   review_text_clean  \n",
       "0  1 check-in Love love loved the atmosphere! Eve...  \n",
       "1  Listed in Date Night: Austin, Ambiance in Aust...  \n",
       "2  1 check-in Listed in Brunch Spots I loved the ...  \n",
       "3  Very cool decor! Good drinks Nice seating  How...  \n",
       "4  1 check-in They are located within the Northcr...  "
      ]
     },
     "execution_count": 10,
     "metadata": {},
     "output_type": "execute_result"
    }
   ],
   "source": [
    "#Okay easy enough.  I want a cleaned review text too though.\n",
    "#So I'm going to replace the date in the string with nothing, then strip all\n",
    "#leading and trailing spaces and store that as a temporarily cleaned text\n",
    "shops['review_text_clean'] = shops.apply(lambda x: x['full_review_text'].replace(x['date_clean'], '').strip(), axis = 1)\n",
    "\n",
    "shops.head()"
   ]
  },
  {
   "cell_type": "code",
   "execution_count": 11,
   "metadata": {},
   "outputs": [
    {
     "name": "stdout",
     "output_type": "stream",
     "text": [
      "datetime64[ns]\n"
     ]
    },
    {
     "data": {
      "text/html": [
       "<div>\n",
       "<style scoped>\n",
       "    .dataframe tbody tr th:only-of-type {\n",
       "        vertical-align: middle;\n",
       "    }\n",
       "\n",
       "    .dataframe tbody tr th {\n",
       "        vertical-align: top;\n",
       "    }\n",
       "\n",
       "    .dataframe thead th {\n",
       "        text-align: right;\n",
       "    }\n",
       "</style>\n",
       "<table border=\"1\" class=\"dataframe\">\n",
       "  <thead>\n",
       "    <tr style=\"text-align: right;\">\n",
       "      <th></th>\n",
       "      <th>coffee_shop_name</th>\n",
       "      <th>full_review_text</th>\n",
       "      <th>star_rating</th>\n",
       "      <th>star_rating_clean</th>\n",
       "      <th>date_clean</th>\n",
       "      <th>review_text_clean</th>\n",
       "    </tr>\n",
       "  </thead>\n",
       "  <tbody>\n",
       "    <tr>\n",
       "      <th>0</th>\n",
       "      <td>The Factory - Cafe With a Soul</td>\n",
       "      <td>11/25/2016 1 check-in Love love loved the atm...</td>\n",
       "      <td>5.0 star rating</td>\n",
       "      <td>5</td>\n",
       "      <td>2016-11-25</td>\n",
       "      <td>1 check-in Love love loved the atmosphere! Eve...</td>\n",
       "    </tr>\n",
       "    <tr>\n",
       "      <th>1</th>\n",
       "      <td>The Factory - Cafe With a Soul</td>\n",
       "      <td>12/2/2016 Listed in Date Night: Austin, Ambia...</td>\n",
       "      <td>4.0 star rating</td>\n",
       "      <td>4</td>\n",
       "      <td>2016-12-02</td>\n",
       "      <td>Listed in Date Night: Austin, Ambiance in Aust...</td>\n",
       "    </tr>\n",
       "    <tr>\n",
       "      <th>2</th>\n",
       "      <td>The Factory - Cafe With a Soul</td>\n",
       "      <td>11/30/2016 1 check-in Listed in Brunch Spots ...</td>\n",
       "      <td>4.0 star rating</td>\n",
       "      <td>4</td>\n",
       "      <td>2016-11-30</td>\n",
       "      <td>1 check-in Listed in Brunch Spots I loved the ...</td>\n",
       "    </tr>\n",
       "    <tr>\n",
       "      <th>3</th>\n",
       "      <td>The Factory - Cafe With a Soul</td>\n",
       "      <td>11/25/2016 Very cool decor! Good drinks Nice ...</td>\n",
       "      <td>2.0 star rating</td>\n",
       "      <td>2</td>\n",
       "      <td>2016-11-25</td>\n",
       "      <td>Very cool decor! Good drinks Nice seating  How...</td>\n",
       "    </tr>\n",
       "    <tr>\n",
       "      <th>4</th>\n",
       "      <td>The Factory - Cafe With a Soul</td>\n",
       "      <td>12/3/2016 1 check-in They are located within ...</td>\n",
       "      <td>4.0 star rating</td>\n",
       "      <td>4</td>\n",
       "      <td>2016-12-03</td>\n",
       "      <td>1 check-in They are located within the Northcr...</td>\n",
       "    </tr>\n",
       "  </tbody>\n",
       "</table>\n",
       "</div>"
      ],
      "text/plain": [
       "                  coffee_shop_name  \\\n",
       "0  The Factory - Cafe With a Soul    \n",
       "1  The Factory - Cafe With a Soul    \n",
       "2  The Factory - Cafe With a Soul    \n",
       "3  The Factory - Cafe With a Soul    \n",
       "4  The Factory - Cafe With a Soul    \n",
       "\n",
       "                                    full_review_text        star_rating  \\\n",
       "0   11/25/2016 1 check-in Love love loved the atm...   5.0 star rating    \n",
       "1   12/2/2016 Listed in Date Night: Austin, Ambia...   4.0 star rating    \n",
       "2   11/30/2016 1 check-in Listed in Brunch Spots ...   4.0 star rating    \n",
       "3   11/25/2016 Very cool decor! Good drinks Nice ...   2.0 star rating    \n",
       "4   12/3/2016 1 check-in They are located within ...   4.0 star rating    \n",
       "\n",
       "   star_rating_clean date_clean  \\\n",
       "0                  5 2016-11-25   \n",
       "1                  4 2016-12-02   \n",
       "2                  4 2016-11-30   \n",
       "3                  2 2016-11-25   \n",
       "4                  4 2016-12-03   \n",
       "\n",
       "                                   review_text_clean  \n",
       "0  1 check-in Love love loved the atmosphere! Eve...  \n",
       "1  Listed in Date Night: Austin, Ambiance in Aust...  \n",
       "2  1 check-in Listed in Brunch Spots I loved the ...  \n",
       "3  Very cool decor! Good drinks Nice seating  How...  \n",
       "4  1 check-in They are located within the Northcr...  "
      ]
     },
     "execution_count": 11,
     "metadata": {},
     "output_type": "execute_result"
    }
   ],
   "source": [
    "#looking good, lets convert that date now\n",
    "shops['date_clean'] = pd.to_datetime(shops['date_clean'])\n",
    "\n",
    "print(shops['date_clean'].dtypes)\n",
    "shops.head()"
   ]
  },
  {
   "cell_type": "code",
   "execution_count": 12,
   "metadata": {},
   "outputs": [],
   "source": [
    "def check_in_finder(row):\n",
    "    '''\n",
    "    Find if a review has a check-in.  Returns # of check-ins. Also cleans the\n",
    "    review_text_clean even further.\n",
    "    '''\n",
    "    loc = row['review_text_clean'].find('check-in')\n",
    "    \n",
    "    #15 is kinda arbitrary, I just found that I was getting \"false\" checkins\n",
    "    #from reviews that had \"check-in\" in them\n",
    "    if (loc >= 0) and (loc <= 15):\n",
    "        \n",
    "        checkin = row['review_text_clean'][:15].split()[0]\n",
    "        \n",
    "        return int(checkin)\n",
    "    else:\n",
    "        return 0\n",
    "    \n",
    "def check_in_cleaner(row):\n",
    "    '''\n",
    "    Further clean the review text\n",
    "    '''\n",
    "    \n",
    "    return row['review_text_clean'].replace(str(row['check_in']) + ' check-in', '').strip()"
   ]
  },
  {
   "cell_type": "code",
   "execution_count": 13,
   "metadata": {},
   "outputs": [
    {
     "data": {
      "text/plain": [
       "0      4730\n",
       "1      1933\n",
       "2       369\n",
       "3       151\n",
       "4       100\n",
       "       ... \n",
       "73        1\n",
       "61        1\n",
       "53        1\n",
       "45        1\n",
       "109       1\n",
       "Name: check_in, Length: 62, dtype: int64"
      ]
     },
     "execution_count": 13,
     "metadata": {},
     "output_type": "execute_result"
    }
   ],
   "source": [
    "shops['check_in'] = shops.apply(check_in_finder, axis = 1)\n",
    "\n",
    "shops['check_in'].value_counts()"
   ]
  },
  {
   "cell_type": "code",
   "execution_count": 14,
   "metadata": {},
   "outputs": [],
   "source": [
    "shops['review_text_clean'] = shops.apply(check_in_cleaner, axis = 1)"
   ]
  },
  {
   "cell_type": "code",
   "execution_count": 15,
   "metadata": {},
   "outputs": [
    {
     "data": {
      "text/html": [
       "<div>\n",
       "<style scoped>\n",
       "    .dataframe tbody tr th:only-of-type {\n",
       "        vertical-align: middle;\n",
       "    }\n",
       "\n",
       "    .dataframe tbody tr th {\n",
       "        vertical-align: top;\n",
       "    }\n",
       "\n",
       "    .dataframe thead th {\n",
       "        text-align: right;\n",
       "    }\n",
       "</style>\n",
       "<table border=\"1\" class=\"dataframe\">\n",
       "  <thead>\n",
       "    <tr style=\"text-align: right;\">\n",
       "      <th></th>\n",
       "      <th>coffee_shop_name</th>\n",
       "      <th>full_review_text</th>\n",
       "      <th>star_rating</th>\n",
       "      <th>star_rating_clean</th>\n",
       "      <th>date_clean</th>\n",
       "      <th>review_text_clean</th>\n",
       "      <th>check_in</th>\n",
       "    </tr>\n",
       "  </thead>\n",
       "  <tbody>\n",
       "    <tr>\n",
       "      <th>0</th>\n",
       "      <td>The Factory - Cafe With a Soul</td>\n",
       "      <td>11/25/2016 1 check-in Love love loved the atm...</td>\n",
       "      <td>5.0 star rating</td>\n",
       "      <td>5</td>\n",
       "      <td>2016-11-25</td>\n",
       "      <td>Love love loved the atmosphere! Every corner o...</td>\n",
       "      <td>1</td>\n",
       "    </tr>\n",
       "    <tr>\n",
       "      <th>1</th>\n",
       "      <td>The Factory - Cafe With a Soul</td>\n",
       "      <td>12/2/2016 Listed in Date Night: Austin, Ambia...</td>\n",
       "      <td>4.0 star rating</td>\n",
       "      <td>4</td>\n",
       "      <td>2016-12-02</td>\n",
       "      <td>Listed in Date Night: Austin, Ambiance in Aust...</td>\n",
       "      <td>0</td>\n",
       "    </tr>\n",
       "    <tr>\n",
       "      <th>2</th>\n",
       "      <td>The Factory - Cafe With a Soul</td>\n",
       "      <td>11/30/2016 1 check-in Listed in Brunch Spots ...</td>\n",
       "      <td>4.0 star rating</td>\n",
       "      <td>4</td>\n",
       "      <td>2016-11-30</td>\n",
       "      <td>Listed in Brunch Spots I loved the eclectic an...</td>\n",
       "      <td>1</td>\n",
       "    </tr>\n",
       "    <tr>\n",
       "      <th>3</th>\n",
       "      <td>The Factory - Cafe With a Soul</td>\n",
       "      <td>11/25/2016 Very cool decor! Good drinks Nice ...</td>\n",
       "      <td>2.0 star rating</td>\n",
       "      <td>2</td>\n",
       "      <td>2016-11-25</td>\n",
       "      <td>Very cool decor! Good drinks Nice seating  How...</td>\n",
       "      <td>0</td>\n",
       "    </tr>\n",
       "    <tr>\n",
       "      <th>4</th>\n",
       "      <td>The Factory - Cafe With a Soul</td>\n",
       "      <td>12/3/2016 1 check-in They are located within ...</td>\n",
       "      <td>4.0 star rating</td>\n",
       "      <td>4</td>\n",
       "      <td>2016-12-03</td>\n",
       "      <td>They are located within the Northcross mall sh...</td>\n",
       "      <td>1</td>\n",
       "    </tr>\n",
       "  </tbody>\n",
       "</table>\n",
       "</div>"
      ],
      "text/plain": [
       "                  coffee_shop_name  \\\n",
       "0  The Factory - Cafe With a Soul    \n",
       "1  The Factory - Cafe With a Soul    \n",
       "2  The Factory - Cafe With a Soul    \n",
       "3  The Factory - Cafe With a Soul    \n",
       "4  The Factory - Cafe With a Soul    \n",
       "\n",
       "                                    full_review_text        star_rating  \\\n",
       "0   11/25/2016 1 check-in Love love loved the atm...   5.0 star rating    \n",
       "1   12/2/2016 Listed in Date Night: Austin, Ambia...   4.0 star rating    \n",
       "2   11/30/2016 1 check-in Listed in Brunch Spots ...   4.0 star rating    \n",
       "3   11/25/2016 Very cool decor! Good drinks Nice ...   2.0 star rating    \n",
       "4   12/3/2016 1 check-in They are located within ...   4.0 star rating    \n",
       "\n",
       "   star_rating_clean date_clean  \\\n",
       "0                  5 2016-11-25   \n",
       "1                  4 2016-12-02   \n",
       "2                  4 2016-11-30   \n",
       "3                  2 2016-11-25   \n",
       "4                  4 2016-12-03   \n",
       "\n",
       "                                   review_text_clean  check_in  \n",
       "0  Love love loved the atmosphere! Every corner o...         1  \n",
       "1  Listed in Date Night: Austin, Ambiance in Aust...         0  \n",
       "2  Listed in Brunch Spots I loved the eclectic an...         1  \n",
       "3  Very cool decor! Good drinks Nice seating  How...         0  \n",
       "4  They are located within the Northcross mall sh...         1  "
      ]
     },
     "execution_count": 15,
     "metadata": {},
     "output_type": "execute_result"
    }
   ],
   "source": [
    "shops.head()"
   ]
  },
  {
   "cell_type": "markdown",
   "metadata": {},
   "source": [
    "### Tokens\n",
    "I've cleaned the data as much as seems reasonable.  So lets set out a couple more goals before we get into the analysis\n",
    "* Tokenize the cleaned review\n",
    "* remove stop words when tokenizing\n",
    "* Lemmatize the remaining tokens"
   ]
  },
  {
   "cell_type": "code",
   "execution_count": 16,
   "metadata": {},
   "outputs": [],
   "source": [
    "# Tokenizing & stop words\n",
    "# I'm going to stick with just dictionary stop words, and put a stretch TODO to\n",
    "# do statistical stop word removal\n",
    "import spacy\n",
    "from spacy.tokenizer import Tokenizer\n",
    "\n",
    "#I'm instantiating my spaCy natural language processing model with the\n",
    "# english core, large version.  See spaCy docs for more model options\n",
    "nlp = spacy.load(\"en_core_web_lg\")\n",
    "\n",
    "#setting a few manual stop words, that spaCy doesn't recognize\n",
    "nlp.vocab[\"it's\"].is_stop = True\n",
    "nlp.vocab[\"It's\"].is_stop = True\n",
    "nlp.vocab[\"i'm\"].is_stop = True\n",
    "nlp.vocab[\"i've\"].is_stop = True\n",
    "nlp.vocab[\"I'm\"].is_stop = True\n",
    "nlp.vocab[\"I've\"].is_stop = True\n",
    "\n",
    "#I'm adding these to the stop words, because they aren't super useful in\n",
    "#analyzing \"coffee places\"  They are going to show up a lot\n",
    "nlp.vocab['Coffee'].is_stop = True\n",
    "nlp.vocab['coffee'].is_stop = True\n",
    "nlp.vocab['Place'].is_stop = True\n",
    "nlp.vocab['place'].is_stop = True\n",
    "\n",
    "#there is a rogue S messing up my final visualizations\n",
    "nlp.vocab['s'].is_stop = True\n",
    "nlp.vocab['S'].is_stop = True\n",
    "\n",
    "#I'm instantiating a spaCy tokenizer, rather than make my own tokenizer\n",
    "tokenizer = Tokenizer(nlp.vocab)"
   ]
  },
  {
   "cell_type": "code",
   "execution_count": 17,
   "metadata": {},
   "outputs": [
    {
     "data": {
      "text/html": [
       "<div>\n",
       "<style scoped>\n",
       "    .dataframe tbody tr th:only-of-type {\n",
       "        vertical-align: middle;\n",
       "    }\n",
       "\n",
       "    .dataframe tbody tr th {\n",
       "        vertical-align: top;\n",
       "    }\n",
       "\n",
       "    .dataframe thead th {\n",
       "        text-align: right;\n",
       "    }\n",
       "</style>\n",
       "<table border=\"1\" class=\"dataframe\">\n",
       "  <thead>\n",
       "    <tr style=\"text-align: right;\">\n",
       "      <th></th>\n",
       "      <th>coffee_shop_name</th>\n",
       "      <th>full_review_text</th>\n",
       "      <th>star_rating</th>\n",
       "      <th>star_rating_clean</th>\n",
       "      <th>date_clean</th>\n",
       "      <th>review_text_clean</th>\n",
       "      <th>check_in</th>\n",
       "      <th>tokens</th>\n",
       "    </tr>\n",
       "  </thead>\n",
       "  <tbody>\n",
       "    <tr>\n",
       "      <th>0</th>\n",
       "      <td>The Factory - Cafe With a Soul</td>\n",
       "      <td>11/25/2016 1 check-in Love love loved the atm...</td>\n",
       "      <td>5.0 star rating</td>\n",
       "      <td>5</td>\n",
       "      <td>2016-11-25</td>\n",
       "      <td>Love love loved the atmosphere! Every corner o...</td>\n",
       "      <td>1</td>\n",
       "      <td>[love, love, love, atmosphere!, corner, shop, ...</td>\n",
       "    </tr>\n",
       "    <tr>\n",
       "      <th>1</th>\n",
       "      <td>The Factory - Cafe With a Soul</td>\n",
       "      <td>12/2/2016 Listed in Date Night: Austin, Ambia...</td>\n",
       "      <td>4.0 star rating</td>\n",
       "      <td>4</td>\n",
       "      <td>2016-12-02</td>\n",
       "      <td>Listed in Date Night: Austin, Ambiance in Aust...</td>\n",
       "      <td>0</td>\n",
       "      <td>[listed, date, night:, austin,, ambiance, aust...</td>\n",
       "    </tr>\n",
       "    <tr>\n",
       "      <th>2</th>\n",
       "      <td>The Factory - Cafe With a Soul</td>\n",
       "      <td>11/30/2016 1 check-in Listed in Brunch Spots ...</td>\n",
       "      <td>4.0 star rating</td>\n",
       "      <td>4</td>\n",
       "      <td>2016-11-30</td>\n",
       "      <td>Listed in Brunch Spots I loved the eclectic an...</td>\n",
       "      <td>1</td>\n",
       "      <td>[listed, brunch, spots, love, eclectic, homey,...</td>\n",
       "    </tr>\n",
       "    <tr>\n",
       "      <th>3</th>\n",
       "      <td>The Factory - Cafe With a Soul</td>\n",
       "      <td>11/25/2016 Very cool decor! Good drinks Nice ...</td>\n",
       "      <td>2.0 star rating</td>\n",
       "      <td>2</td>\n",
       "      <td>2016-11-25</td>\n",
       "      <td>Very cool decor! Good drinks Nice seating  How...</td>\n",
       "      <td>0</td>\n",
       "      <td>[cool, decor!, good, drink, nice, seat, howeve...</td>\n",
       "    </tr>\n",
       "    <tr>\n",
       "      <th>4</th>\n",
       "      <td>The Factory - Cafe With a Soul</td>\n",
       "      <td>12/3/2016 1 check-in They are located within ...</td>\n",
       "      <td>4.0 star rating</td>\n",
       "      <td>4</td>\n",
       "      <td>2016-12-03</td>\n",
       "      <td>They are located within the Northcross mall sh...</td>\n",
       "      <td>1</td>\n",
       "      <td>[locate, northcross, mall, shop, center, face,...</td>\n",
       "    </tr>\n",
       "  </tbody>\n",
       "</table>\n",
       "</div>"
      ],
      "text/plain": [
       "                  coffee_shop_name  \\\n",
       "0  The Factory - Cafe With a Soul    \n",
       "1  The Factory - Cafe With a Soul    \n",
       "2  The Factory - Cafe With a Soul    \n",
       "3  The Factory - Cafe With a Soul    \n",
       "4  The Factory - Cafe With a Soul    \n",
       "\n",
       "                                    full_review_text        star_rating  \\\n",
       "0   11/25/2016 1 check-in Love love loved the atm...   5.0 star rating    \n",
       "1   12/2/2016 Listed in Date Night: Austin, Ambia...   4.0 star rating    \n",
       "2   11/30/2016 1 check-in Listed in Brunch Spots ...   4.0 star rating    \n",
       "3   11/25/2016 Very cool decor! Good drinks Nice ...   2.0 star rating    \n",
       "4   12/3/2016 1 check-in They are located within ...   4.0 star rating    \n",
       "\n",
       "   star_rating_clean date_clean  \\\n",
       "0                  5 2016-11-25   \n",
       "1                  4 2016-12-02   \n",
       "2                  4 2016-11-30   \n",
       "3                  2 2016-11-25   \n",
       "4                  4 2016-12-03   \n",
       "\n",
       "                                   review_text_clean  check_in  \\\n",
       "0  Love love loved the atmosphere! Every corner o...         1   \n",
       "1  Listed in Date Night: Austin, Ambiance in Aust...         0   \n",
       "2  Listed in Brunch Spots I loved the eclectic an...         1   \n",
       "3  Very cool decor! Good drinks Nice seating  How...         0   \n",
       "4  They are located within the Northcross mall sh...         1   \n",
       "\n",
       "                                              tokens  \n",
       "0  [love, love, love, atmosphere!, corner, shop, ...  \n",
       "1  [listed, date, night:, austin,, ambiance, aust...  \n",
       "2  [listed, brunch, spots, love, eclectic, homey,...  \n",
       "3  [cool, decor!, good, drink, nice, seat, howeve...  \n",
       "4  [locate, northcross, mall, shop, center, face,...  "
      ]
     },
     "execution_count": 17,
     "metadata": {},
     "output_type": "execute_result"
    }
   ],
   "source": [
    "tokens = []\n",
    "\n",
    "# I'm using spaCy's tokenizer pipeline to feed in the raw text.  SpaCy is taking\n",
    "# that text and creating a \"document\" which is an object containing a sequency\n",
    "# of tokens\n",
    "for doc in tokenizer.pipe(shops['review_text_clean'], batch_size = 1000):\n",
    "    \n",
    "    # if I were just looking for tokens, I could do that by just extracting the\n",
    "    # text of the tokens from the spacy docs sequency of tokens\n",
    "    # doc_tokens = [token.text for token in doc]\n",
    "    \n",
    "    #but we want lemmas, without stop words, or punctuation\n",
    "    lemmas = []\n",
    "    \n",
    "    # looping through each token, check if it is a stop word (spaCy has their \n",
    "    # own list of stop words) or punctuation or it is pronoun. If it is none,\n",
    "    # we add it to our list of lemmatized tokens\n",
    "    for token in doc:\n",
    "        if (token.is_stop == False) and (token.is_punct == False) and (token.pos_ != 'PRON') and (token.is_space == False):\n",
    "            lemmas.append(token.lemma_.lower())\n",
    "    \n",
    "    # now we take our lemmas list for the specific row in the dataframe, and we\n",
    "    # are adding it to our overall list to become the sequence we add to our \n",
    "    # dataframe as a column\n",
    "    tokens.append(lemmas)\n",
    "\n",
    "shops['tokens'] = tokens\n",
    "shops.head()"
   ]
  },
  {
   "cell_type": "markdown",
   "metadata": {},
   "source": [
    "### Lemma\n",
    "For future me, Lemma is the base form of a word.  walking becomes walk, verbs are all transformed to transitive.\n",
    "\n"
   ]
  },
  {
   "cell_type": "markdown",
   "metadata": {},
   "source": [
    "## How do we want to analyze these coffee shop tokens? \n",
    "\n",
    "- Overall Word / Token Count\n",
    "- View Counts by Rating \n",
    "- *Hint:* a 'bad' coffee shops has a rating betweeen 1 & 3 based on the distribution of ratings. A 'good' coffee shop is a 4 or 5. "
   ]
  },
  {
   "cell_type": "code",
   "execution_count": 18,
   "metadata": {},
   "outputs": [],
   "source": [
    "#Okay so we are going to have to do a bunch of computation to get this so lets\n",
    "#go ahead and make a helperfuction to just crank out what I want to see.  Then\n",
    "#I can use dataframe filtering to filter by the coffee shops, their ranking,\n",
    "#check ins etc\n",
    "from collections import Counter\n",
    "\n",
    "def count(docs):\n",
    "    '''\n",
    "    Takes a list of lists containing tokens (doc) and returns a dataframe with \n",
    "    word, word counts, ranks, percentage the word occurs across all documents, \n",
    "    the cumulative sum of the percentages ordered by rank, the pecentage of \n",
    "    documents that the word appears in\n",
    "    '''\n",
    "    \n",
    "    #instantiating to two counters. These can take an series like our documents\n",
    "    #(a list of tokens), and perform all the standard iterable methods.  This\n",
    "    #will save me from reinventing the wheel for some very simple math\n",
    "    word_counts = Counter()\n",
    "    appears_in = Counter()\n",
    "    \n",
    "    #we'll use this later for calculating the percent of documents a word occurs\n",
    "    total_docs = len(docs)\n",
    "    \n",
    "    #loop through each doc (list of tokens from the review), and feed them into\n",
    "    #our counter so we can use iterable methods\n",
    "    for doc in docs:\n",
    "        word_counts.update(doc)\n",
    "        appears_in.update(set(doc))\n",
    "    \n",
    "    #here I am taking my counters and extracting the tokens, and the counts that\n",
    "    #each token appears, then I'm uzing the zip function to  turn that into a\n",
    "    #list of tuples, for easier dataframe creation\n",
    "    temp = zip(word_counts.keys(), word_counts.values())\n",
    "    \n",
    "    df = pd.DataFrame(temp, columns = ['word', 'count'])\n",
    "    \n",
    "    #using the built in pandas rank method to generate a rank column\n",
    "    df['rank'] = df['count'].rank(method = 'first', ascending = False)\n",
    "    \n",
    "    #self explanitory, figuring out the percent a word occurs accross all docs\n",
    "    total = df['count'].sum()\n",
    "    df['percent_total'] = df['count'].apply(lambda x: x / total)\n",
    "    \n",
    "    #sorting the dataframe by rank\n",
    "    df = df.sort_values(by = 'rank')\n",
    "    \n",
    "    #calculating the cumulative sum sequence of the percentages(sorted by rank)\n",
    "    df['cumulative_sum_percent_total'] = df['percent_total'].cumsum()\n",
    "    \n",
    "    #making a list of tuples of the words, and their counts. But because we \n",
    "    #cast or original documents as a set, the words are only counted once per\n",
    "    #document (remember set theory doesn't have duplicates).\n",
    "    temp2 = zip(appears_in.keys(), appears_in.values())\n",
    "    appears_df = pd.DataFrame(temp2, columns = ['word', 'appears_in'])\n",
    "    \n",
    "    #merge them on the word column to make one useful dataframe\n",
    "    df = appears_df.merge(df, on = 'word')\n",
    "    \n",
    "    df['appears_in_percent'] = df['appears_in'].apply(lambda x: x / total_docs)\n",
    "    \n",
    "    return df.sort_values(by = 'rank')"
   ]
  },
  {
   "cell_type": "markdown",
   "metadata": {},
   "source": [
    "### Lets do a count on every review there is"
   ]
  },
  {
   "cell_type": "code",
   "execution_count": 19,
   "metadata": {},
   "outputs": [
    {
     "name": "stdout",
     "output_type": "stream",
     "text": [
      "(35903, 7)\n"
     ]
    },
    {
     "data": {
      "text/html": [
       "<div>\n",
       "<style scoped>\n",
       "    .dataframe tbody tr th:only-of-type {\n",
       "        vertical-align: middle;\n",
       "    }\n",
       "\n",
       "    .dataframe tbody tr th {\n",
       "        vertical-align: top;\n",
       "    }\n",
       "\n",
       "    .dataframe thead th {\n",
       "        text-align: right;\n",
       "    }\n",
       "</style>\n",
       "<table border=\"1\" class=\"dataframe\">\n",
       "  <thead>\n",
       "    <tr style=\"text-align: right;\">\n",
       "      <th></th>\n",
       "      <th>word</th>\n",
       "      <th>appears_in</th>\n",
       "      <th>count</th>\n",
       "      <th>rank</th>\n",
       "      <th>percent_total</th>\n",
       "      <th>cumulative_sum_percent_total</th>\n",
       "      <th>appears_in_percent</th>\n",
       "    </tr>\n",
       "  </thead>\n",
       "  <tbody>\n",
       "    <tr>\n",
       "      <th>103</th>\n",
       "      <td>great</td>\n",
       "      <td>2454</td>\n",
       "      <td>3272</td>\n",
       "      <td>1.0</td>\n",
       "      <td>0.008933</td>\n",
       "      <td>0.008933</td>\n",
       "      <td>0.322216</td>\n",
       "    </tr>\n",
       "    <tr>\n",
       "      <th>150</th>\n",
       "      <td>like</td>\n",
       "      <td>2166</td>\n",
       "      <td>3147</td>\n",
       "      <td>2.0</td>\n",
       "      <td>0.008592</td>\n",
       "      <td>0.017526</td>\n",
       "      <td>0.284401</td>\n",
       "    </tr>\n",
       "    <tr>\n",
       "      <th>156</th>\n",
       "      <td>good</td>\n",
       "      <td>2158</td>\n",
       "      <td>2896</td>\n",
       "      <td>3.0</td>\n",
       "      <td>0.007907</td>\n",
       "      <td>0.025433</td>\n",
       "      <td>0.283351</td>\n",
       "    </tr>\n",
       "    <tr>\n",
       "      <th>489</th>\n",
       "      <td>come</td>\n",
       "      <td>1829</td>\n",
       "      <td>2439</td>\n",
       "      <td>4.0</td>\n",
       "      <td>0.006659</td>\n",
       "      <td>0.032092</td>\n",
       "      <td>0.240152</td>\n",
       "    </tr>\n",
       "    <tr>\n",
       "      <th>31</th>\n",
       "      <td>love</td>\n",
       "      <td>1689</td>\n",
       "      <td>2161</td>\n",
       "      <td>5.0</td>\n",
       "      <td>0.005900</td>\n",
       "      <td>0.037992</td>\n",
       "      <td>0.221770</td>\n",
       "    </tr>\n",
       "  </tbody>\n",
       "</table>\n",
       "</div>"
      ],
      "text/plain": [
       "      word  appears_in  count  rank  percent_total  \\\n",
       "103  great        2454   3272   1.0       0.008933   \n",
       "150   like        2166   3147   2.0       0.008592   \n",
       "156   good        2158   2896   3.0       0.007907   \n",
       "489   come        1829   2439   4.0       0.006659   \n",
       "31    love        1689   2161   5.0       0.005900   \n",
       "\n",
       "     cumulative_sum_percent_total  appears_in_percent  \n",
       "103                      0.008933            0.322216  \n",
       "150                      0.017526            0.284401  \n",
       "156                      0.025433            0.283351  \n",
       "489                      0.032092            0.240152  \n",
       "31                       0.037992            0.221770  "
      ]
     },
     "execution_count": 19,
     "metadata": {},
     "output_type": "execute_result"
    }
   ],
   "source": [
    "# Lets take a stab at the overall word count for all reviews\n",
    "\n",
    "wc_all = count(shops['tokens'])\n",
    "print(wc_all.shape)\n",
    "wc_all.head()"
   ]
  },
  {
   "cell_type": "code",
   "execution_count": 20,
   "metadata": {},
   "outputs": [
    {
     "data": {
      "image/png": "[encoded data removed]",
      "text/plain": [
       "<Figure size 576x576 with 1 Axes>"
      ]
     },
     "metadata": {
      "needs_background": "light"
     },
     "output_type": "display_data"
    }
   ],
   "source": [
    "import squarify\n",
    "import matplotlib.pyplot as plt\n",
    "\n",
    "all_top20 = wc_all[wc_all['rank'] <= 20]\n",
    "plt.figure(figsize = (8,8))\n",
    "squarify.plot(sizes = all_top20['percent_total'], label = all_top20['word'], alpha = .8)\n",
    "plt.axis('off')\n",
    "plt.show();"
   ]
  },
  {
   "cell_type": "markdown",
   "metadata": {},
   "source": [
    "As you'd expect when reviewing coffe places, 'coffee' and 'place' are the two most frequently occuring tokens.  Great, Like, good, love are all pretty high up there like you'd expect."
   ]
  },
  {
   "cell_type": "markdown",
   "metadata": {},
   "source": [
    "## Good coffee shops\n",
    "Ranked 4 stars or highers"
   ]
  },
  {
   "cell_type": "code",
   "execution_count": 21,
   "metadata": {},
   "outputs": [
    {
     "name": "stdout",
     "output_type": "stream",
     "text": [
      "(30311, 7)\n"
     ]
    },
    {
     "data": {
      "text/html": [
       "<div>\n",
       "<style scoped>\n",
       "    .dataframe tbody tr th:only-of-type {\n",
       "        vertical-align: middle;\n",
       "    }\n",
       "\n",
       "    .dataframe tbody tr th {\n",
       "        vertical-align: top;\n",
       "    }\n",
       "\n",
       "    .dataframe thead th {\n",
       "        text-align: right;\n",
       "    }\n",
       "</style>\n",
       "<table border=\"1\" class=\"dataframe\">\n",
       "  <thead>\n",
       "    <tr style=\"text-align: right;\">\n",
       "      <th></th>\n",
       "      <th>word</th>\n",
       "      <th>appears_in</th>\n",
       "      <th>count</th>\n",
       "      <th>rank</th>\n",
       "      <th>percent_total</th>\n",
       "      <th>cumulative_sum_percent_total</th>\n",
       "      <th>appears_in_percent</th>\n",
       "    </tr>\n",
       "  </thead>\n",
       "  <tbody>\n",
       "    <tr>\n",
       "      <th>103</th>\n",
       "      <td>great</td>\n",
       "      <td>2186</td>\n",
       "      <td>2919</td>\n",
       "      <td>1.0</td>\n",
       "      <td>0.010262</td>\n",
       "      <td>0.010262</td>\n",
       "      <td>0.356026</td>\n",
       "    </tr>\n",
       "    <tr>\n",
       "      <th>243</th>\n",
       "      <td>good</td>\n",
       "      <td>1706</td>\n",
       "      <td>2272</td>\n",
       "      <td>2.0</td>\n",
       "      <td>0.007987</td>\n",
       "      <td>0.018249</td>\n",
       "      <td>0.277850</td>\n",
       "    </tr>\n",
       "    <tr>\n",
       "      <th>188</th>\n",
       "      <td>like</td>\n",
       "      <td>1595</td>\n",
       "      <td>2259</td>\n",
       "      <td>3.0</td>\n",
       "      <td>0.007942</td>\n",
       "      <td>0.026191</td>\n",
       "      <td>0.259772</td>\n",
       "    </tr>\n",
       "    <tr>\n",
       "      <th>31</th>\n",
       "      <td>love</td>\n",
       "      <td>1488</td>\n",
       "      <td>1918</td>\n",
       "      <td>4.0</td>\n",
       "      <td>0.006743</td>\n",
       "      <td>0.032934</td>\n",
       "      <td>0.242345</td>\n",
       "    </tr>\n",
       "    <tr>\n",
       "      <th>440</th>\n",
       "      <td>come</td>\n",
       "      <td>1395</td>\n",
       "      <td>1832</td>\n",
       "      <td>5.0</td>\n",
       "      <td>0.006440</td>\n",
       "      <td>0.039374</td>\n",
       "      <td>0.227199</td>\n",
       "    </tr>\n",
       "  </tbody>\n",
       "</table>\n",
       "</div>"
      ],
      "text/plain": [
       "      word  appears_in  count  rank  percent_total  \\\n",
       "103  great        2186   2919   1.0       0.010262   \n",
       "243   good        1706   2272   2.0       0.007987   \n",
       "188   like        1595   2259   3.0       0.007942   \n",
       "31    love        1488   1918   4.0       0.006743   \n",
       "440   come        1395   1832   5.0       0.006440   \n",
       "\n",
       "     cumulative_sum_percent_total  appears_in_percent  \n",
       "103                      0.010262            0.356026  \n",
       "243                      0.018249            0.277850  \n",
       "188                      0.026191            0.259772  \n",
       "31                       0.032934            0.242345  \n",
       "440                      0.039374            0.227199  "
      ]
     },
     "execution_count": 21,
     "metadata": {},
     "output_type": "execute_result"
    }
   ],
   "source": [
    "#Lets look at a \"good\" coffee shop\n",
    "wc_good = count(shops[shops['star_rating_clean'] >= 4]['tokens'])\n",
    "print(wc_good.shape)\n",
    "wc_good.head()"
   ]
  },
  {
   "cell_type": "code",
   "execution_count": 22,
   "metadata": {},
   "outputs": [
    {
     "data": {
      "image/png": "[encoded data removed]",
      "text/plain": [
       "<Figure size 576x576 with 1 Axes>"
      ]
     },
     "metadata": {
      "needs_background": "light"
     },
     "output_type": "display_data"
    }
   ],
   "source": [
    "good_top20 = wc_good[wc_good['rank'] <= 20]\n",
    "plt.figure(figsize = (8,8))\n",
    "squarify.plot(sizes = good_top20['percent_total'], label = good_top20['word'], alpha = .8)\n",
    "plt.axis('off')\n",
    "plt.show();"
   ]
  },
  {
   "cell_type": "markdown",
   "metadata": {},
   "source": [
    "## Bad Coffee shops\n",
    "3 or lower star rating"
   ]
  },
  {
   "cell_type": "code",
   "execution_count": 23,
   "metadata": {},
   "outputs": [
    {
     "name": "stdout",
     "output_type": "stream",
     "text": [
      "(14115, 7)\n"
     ]
    },
    {
     "data": {
      "text/html": [
       "<div>\n",
       "<style scoped>\n",
       "    .dataframe tbody tr th:only-of-type {\n",
       "        vertical-align: middle;\n",
       "    }\n",
       "\n",
       "    .dataframe tbody tr th {\n",
       "        vertical-align: top;\n",
       "    }\n",
       "\n",
       "    .dataframe thead th {\n",
       "        text-align: right;\n",
       "    }\n",
       "</style>\n",
       "<table border=\"1\" class=\"dataframe\">\n",
       "  <thead>\n",
       "    <tr style=\"text-align: right;\">\n",
       "      <th></th>\n",
       "      <th>word</th>\n",
       "      <th>appears_in</th>\n",
       "      <th>count</th>\n",
       "      <th>rank</th>\n",
       "      <th>percent_total</th>\n",
       "      <th>cumulative_sum_percent_total</th>\n",
       "      <th>appears_in_percent</th>\n",
       "    </tr>\n",
       "  </thead>\n",
       "  <tbody>\n",
       "    <tr>\n",
       "      <th>0</th>\n",
       "      <td>like</td>\n",
       "      <td>571</td>\n",
       "      <td>888</td>\n",
       "      <td>1.0</td>\n",
       "      <td>0.010854</td>\n",
       "      <td>0.010854</td>\n",
       "      <td>0.386856</td>\n",
       "    </tr>\n",
       "    <tr>\n",
       "      <th>6</th>\n",
       "      <td>good</td>\n",
       "      <td>452</td>\n",
       "      <td>624</td>\n",
       "      <td>2.0</td>\n",
       "      <td>0.007627</td>\n",
       "      <td>0.018482</td>\n",
       "      <td>0.306233</td>\n",
       "    </tr>\n",
       "    <tr>\n",
       "      <th>164</th>\n",
       "      <td>order</td>\n",
       "      <td>381</td>\n",
       "      <td>621</td>\n",
       "      <td>3.0</td>\n",
       "      <td>0.007591</td>\n",
       "      <td>0.026072</td>\n",
       "      <td>0.258130</td>\n",
       "    </tr>\n",
       "    <tr>\n",
       "      <th>81</th>\n",
       "      <td>come</td>\n",
       "      <td>434</td>\n",
       "      <td>607</td>\n",
       "      <td>4.0</td>\n",
       "      <td>0.007420</td>\n",
       "      <td>0.033492</td>\n",
       "      <td>0.294038</td>\n",
       "    </tr>\n",
       "    <tr>\n",
       "      <th>240</th>\n",
       "      <td>time</td>\n",
       "      <td>320</td>\n",
       "      <td>442</td>\n",
       "      <td>5.0</td>\n",
       "      <td>0.005403</td>\n",
       "      <td>0.038895</td>\n",
       "      <td>0.216802</td>\n",
       "    </tr>\n",
       "  </tbody>\n",
       "</table>\n",
       "</div>"
      ],
      "text/plain": [
       "      word  appears_in  count  rank  percent_total  \\\n",
       "0     like         571    888   1.0       0.010854   \n",
       "6     good         452    624   2.0       0.007627   \n",
       "164  order         381    621   3.0       0.007591   \n",
       "81    come         434    607   4.0       0.007420   \n",
       "240   time         320    442   5.0       0.005403   \n",
       "\n",
       "     cumulative_sum_percent_total  appears_in_percent  \n",
       "0                        0.010854            0.386856  \n",
       "6                        0.018482            0.306233  \n",
       "164                      0.026072            0.258130  \n",
       "81                       0.033492            0.294038  \n",
       "240                      0.038895            0.216802  "
      ]
     },
     "execution_count": 23,
     "metadata": {},
     "output_type": "execute_result"
    }
   ],
   "source": [
    "#Lets look at a \"good\" coffee shop\n",
    "wc_bad = count(shops[shops['star_rating_clean'] < 4]['tokens'])\n",
    "print(wc_bad.shape)\n",
    "wc_bad.head()"
   ]
  },
  {
   "cell_type": "code",
   "execution_count": 24,
   "metadata": {},
   "outputs": [
    {
     "data": {
      "image/png": "[encoded data removed]",
      "text/plain": [
       "<Figure size 576x576 with 1 Axes>"
      ]
     },
     "metadata": {
      "needs_background": "light"
     },
     "output_type": "display_data"
    }
   ],
   "source": [
    "bad_top20 = wc_bad[wc_bad['rank'] <= 20]\n",
    "plt.figure(figsize = (8,8))\n",
    "squarify.plot(sizes = bad_top20['percent_total'], label = bad_top20['word'], alpha = .8)\n",
    "plt.axis('off')\n",
    "plt.show();"
   ]
  },
  {
   "cell_type": "markdown",
   "metadata": {},
   "source": [
    "First thing I notice is a significant different between the shapes and sizes of great in these graphs. Great is much bigger in the good graph.  Also 'don't' shows up in the bad graph, and is not present in the good graph.  Very cool comparisons."
   ]
  },
  {
   "cell_type": "code",
   "execution_count": 25,
   "metadata": {},
   "outputs": [
    {
     "data": {
      "image/png": "[encoded data removed]",
      "text/plain": [
       "<Figure size 1440x576 with 3 Axes>"
      ]
     },
     "metadata": {
      "needs_background": "light"
     },
     "output_type": "display_data"
    }
   ],
   "source": [
    "#side by side to show that I can\n",
    "\n",
    "fig, axes = plt.subplots(1, 3, figsize = (20, 8))\n",
    "\n",
    "axes[0].set_title('All coffee shops')\n",
    "squarify.plot(sizes = all_top20['percent_total'], label = all_top20['word'], alpha = .8, ax = axes[0])\n",
    "axes[0].axis('off')\n",
    "\n",
    "axes[1].set_title('Good shops')\n",
    "squarify.plot(sizes = good_top20['percent_total'], label = good_top20['word'], alpha = .8, ax = axes[1])\n",
    "axes[1].axis('off')\n",
    "\n",
    "axes[2].set_title('Bad shops')\n",
    "squarify.plot(sizes = bad_top20['percent_total'], label = bad_top20['word'], alpha = .8, ax = axes[2])\n",
    "axes[2].axis('off')\n",
    "\n",
    "plt.show();"
   ]
  },
  {
   "cell_type": "markdown",
   "metadata": {},
   "source": [
    "## Can visualize the words with the greatest difference in counts between 'good' & 'bad'?\n",
    "\n",
    "Couple Notes: \n",
    "- Rel. freq. instead of absolute counts b/c of different numbers of reviews\n",
    "- Only look at the top 5-10 words with the greatest differences\n"
   ]
  },
  {
   "cell_type": "code",
   "execution_count": 26,
   "metadata": {},
   "outputs": [
    {
     "name": "stdout",
     "output_type": "stream",
     "text": [
      "(8523, 13)\n"
     ]
    },
    {
     "data": {
      "text/html": [
       "<div>\n",
       "<style scoped>\n",
       "    .dataframe tbody tr th:only-of-type {\n",
       "        vertical-align: middle;\n",
       "    }\n",
       "\n",
       "    .dataframe tbody tr th {\n",
       "        vertical-align: top;\n",
       "    }\n",
       "\n",
       "    .dataframe thead th {\n",
       "        text-align: right;\n",
       "    }\n",
       "</style>\n",
       "<table border=\"1\" class=\"dataframe\">\n",
       "  <thead>\n",
       "    <tr style=\"text-align: right;\">\n",
       "      <th></th>\n",
       "      <th>word</th>\n",
       "      <th>appears_in_x</th>\n",
       "      <th>count_x</th>\n",
       "      <th>rank_x</th>\n",
       "      <th>percent_total_x</th>\n",
       "      <th>cumulative_sum_percent_total_x</th>\n",
       "      <th>appears_in_percent_x</th>\n",
       "      <th>appears_in_y</th>\n",
       "      <th>count_y</th>\n",
       "      <th>rank_y</th>\n",
       "      <th>percent_total_y</th>\n",
       "      <th>cumulative_sum_percent_total_y</th>\n",
       "      <th>appears_in_percent_y</th>\n",
       "    </tr>\n",
       "  </thead>\n",
       "  <tbody>\n",
       "    <tr>\n",
       "      <th>0</th>\n",
       "      <td>great</td>\n",
       "      <td>2186</td>\n",
       "      <td>2919</td>\n",
       "      <td>1.0</td>\n",
       "      <td>0.010262</td>\n",
       "      <td>0.010262</td>\n",
       "      <td>0.356026</td>\n",
       "      <td>268</td>\n",
       "      <td>353</td>\n",
       "      <td>12.0</td>\n",
       "      <td>0.004315</td>\n",
       "      <td>0.072631</td>\n",
       "      <td>0.181572</td>\n",
       "    </tr>\n",
       "    <tr>\n",
       "      <th>1</th>\n",
       "      <td>good</td>\n",
       "      <td>1706</td>\n",
       "      <td>2272</td>\n",
       "      <td>2.0</td>\n",
       "      <td>0.007987</td>\n",
       "      <td>0.018249</td>\n",
       "      <td>0.277850</td>\n",
       "      <td>452</td>\n",
       "      <td>624</td>\n",
       "      <td>2.0</td>\n",
       "      <td>0.007627</td>\n",
       "      <td>0.018482</td>\n",
       "      <td>0.306233</td>\n",
       "    </tr>\n",
       "    <tr>\n",
       "      <th>2</th>\n",
       "      <td>like</td>\n",
       "      <td>1595</td>\n",
       "      <td>2259</td>\n",
       "      <td>3.0</td>\n",
       "      <td>0.007942</td>\n",
       "      <td>0.026191</td>\n",
       "      <td>0.259772</td>\n",
       "      <td>571</td>\n",
       "      <td>888</td>\n",
       "      <td>1.0</td>\n",
       "      <td>0.010854</td>\n",
       "      <td>0.010854</td>\n",
       "      <td>0.386856</td>\n",
       "    </tr>\n",
       "    <tr>\n",
       "      <th>3</th>\n",
       "      <td>love</td>\n",
       "      <td>1488</td>\n",
       "      <td>1918</td>\n",
       "      <td>4.0</td>\n",
       "      <td>0.006743</td>\n",
       "      <td>0.032934</td>\n",
       "      <td>0.242345</td>\n",
       "      <td>201</td>\n",
       "      <td>243</td>\n",
       "      <td>29.0</td>\n",
       "      <td>0.002970</td>\n",
       "      <td>0.133295</td>\n",
       "      <td>0.136179</td>\n",
       "    </tr>\n",
       "    <tr>\n",
       "      <th>4</th>\n",
       "      <td>come</td>\n",
       "      <td>1395</td>\n",
       "      <td>1832</td>\n",
       "      <td>5.0</td>\n",
       "      <td>0.006440</td>\n",
       "      <td>0.039374</td>\n",
       "      <td>0.227199</td>\n",
       "      <td>434</td>\n",
       "      <td>607</td>\n",
       "      <td>4.0</td>\n",
       "      <td>0.007420</td>\n",
       "      <td>0.033492</td>\n",
       "      <td>0.294038</td>\n",
       "    </tr>\n",
       "  </tbody>\n",
       "</table>\n",
       "</div>"
      ],
      "text/plain": [
       "    word  appears_in_x  count_x  rank_x  percent_total_x  \\\n",
       "0  great          2186     2919     1.0         0.010262   \n",
       "1   good          1706     2272     2.0         0.007987   \n",
       "2   like          1595     2259     3.0         0.007942   \n",
       "3   love          1488     1918     4.0         0.006743   \n",
       "4   come          1395     1832     5.0         0.006440   \n",
       "\n",
       "   cumulative_sum_percent_total_x  appears_in_percent_x  appears_in_y  \\\n",
       "0                        0.010262              0.356026           268   \n",
       "1                        0.018249              0.277850           452   \n",
       "2                        0.026191              0.259772           571   \n",
       "3                        0.032934              0.242345           201   \n",
       "4                        0.039374              0.227199           434   \n",
       "\n",
       "   count_y  rank_y  percent_total_y  cumulative_sum_percent_total_y  \\\n",
       "0      353    12.0         0.004315                        0.072631   \n",
       "1      624     2.0         0.007627                        0.018482   \n",
       "2      888     1.0         0.010854                        0.010854   \n",
       "3      243    29.0         0.002970                        0.133295   \n",
       "4      607     4.0         0.007420                        0.033492   \n",
       "\n",
       "   appears_in_percent_y  \n",
       "0              0.181572  \n",
       "1              0.306233  \n",
       "2              0.386856  \n",
       "3              0.136179  \n",
       "4              0.294038  "
      ]
     },
     "execution_count": 26,
     "metadata": {},
     "output_type": "execute_result"
    }
   ],
   "source": [
    "#okay there is a huge difference in the number of good and bad reviewed places\n",
    "#so here is where the appears in percentage will help.  That is effectively\n",
    "#normalized per document.  So between good and bad, I want the largest\n",
    "#difference in that specific column\n",
    "\n",
    "#there might be a more clever way to do this, but it seems like I can\n",
    "\n",
    "mega = wc_good.merge(wc_bad, on = 'word')\n",
    "print(mega.shape)\n",
    "mega.head()"
   ]
  },
  {
   "cell_type": "code",
   "execution_count": 27,
   "metadata": {},
   "outputs": [
    {
     "data": {
      "text/html": [
       "<div>\n",
       "<style scoped>\n",
       "    .dataframe tbody tr th:only-of-type {\n",
       "        vertical-align: middle;\n",
       "    }\n",
       "\n",
       "    .dataframe tbody tr th {\n",
       "        vertical-align: top;\n",
       "    }\n",
       "\n",
       "    .dataframe thead th {\n",
       "        text-align: right;\n",
       "    }\n",
       "</style>\n",
       "<table border=\"1\" class=\"dataframe\">\n",
       "  <thead>\n",
       "    <tr style=\"text-align: right;\">\n",
       "      <th></th>\n",
       "      <th>word</th>\n",
       "      <th>appears_in_x</th>\n",
       "      <th>count_x</th>\n",
       "      <th>rank_x</th>\n",
       "      <th>percent_total_x</th>\n",
       "      <th>cumulative_sum_percent_total_x</th>\n",
       "      <th>appears_in_percent_x</th>\n",
       "      <th>appears_in_y</th>\n",
       "      <th>count_y</th>\n",
       "      <th>rank_y</th>\n",
       "      <th>percent_total_y</th>\n",
       "      <th>cumulative_sum_percent_total_y</th>\n",
       "      <th>appears_in_percent_y</th>\n",
       "      <th>diff</th>\n",
       "    </tr>\n",
       "  </thead>\n",
       "  <tbody>\n",
       "    <tr>\n",
       "      <th>0</th>\n",
       "      <td>great</td>\n",
       "      <td>2186</td>\n",
       "      <td>2919</td>\n",
       "      <td>1.0</td>\n",
       "      <td>0.010262</td>\n",
       "      <td>0.010262</td>\n",
       "      <td>0.356026</td>\n",
       "      <td>268</td>\n",
       "      <td>353</td>\n",
       "      <td>12.0</td>\n",
       "      <td>0.004315</td>\n",
       "      <td>0.072631</td>\n",
       "      <td>0.181572</td>\n",
       "      <td>0.174454</td>\n",
       "    </tr>\n",
       "    <tr>\n",
       "      <th>2</th>\n",
       "      <td>like</td>\n",
       "      <td>1595</td>\n",
       "      <td>2259</td>\n",
       "      <td>3.0</td>\n",
       "      <td>0.007942</td>\n",
       "      <td>0.026191</td>\n",
       "      <td>0.259772</td>\n",
       "      <td>571</td>\n",
       "      <td>888</td>\n",
       "      <td>1.0</td>\n",
       "      <td>0.010854</td>\n",
       "      <td>0.010854</td>\n",
       "      <td>0.386856</td>\n",
       "      <td>0.127084</td>\n",
       "    </tr>\n",
       "    <tr>\n",
       "      <th>11</th>\n",
       "      <td>order</td>\n",
       "      <td>903</td>\n",
       "      <td>1185</td>\n",
       "      <td>12.0</td>\n",
       "      <td>0.004166</td>\n",
       "      <td>0.070789</td>\n",
       "      <td>0.147068</td>\n",
       "      <td>381</td>\n",
       "      <td>621</td>\n",
       "      <td>3.0</td>\n",
       "      <td>0.007591</td>\n",
       "      <td>0.026072</td>\n",
       "      <td>0.258130</td>\n",
       "      <td>0.111062</td>\n",
       "    </tr>\n",
       "    <tr>\n",
       "      <th>3</th>\n",
       "      <td>love</td>\n",
       "      <td>1488</td>\n",
       "      <td>1918</td>\n",
       "      <td>4.0</td>\n",
       "      <td>0.006743</td>\n",
       "      <td>0.032934</td>\n",
       "      <td>0.242345</td>\n",
       "      <td>201</td>\n",
       "      <td>243</td>\n",
       "      <td>29.0</td>\n",
       "      <td>0.002970</td>\n",
       "      <td>0.133295</td>\n",
       "      <td>0.136179</td>\n",
       "      <td>0.106166</td>\n",
       "    </tr>\n",
       "    <tr>\n",
       "      <th>22</th>\n",
       "      <td>don't</td>\n",
       "      <td>793</td>\n",
       "      <td>965</td>\n",
       "      <td>23.0</td>\n",
       "      <td>0.003392</td>\n",
       "      <td>0.111604</td>\n",
       "      <td>0.129153</td>\n",
       "      <td>340</td>\n",
       "      <td>430</td>\n",
       "      <td>6.0</td>\n",
       "      <td>0.005256</td>\n",
       "      <td>0.044151</td>\n",
       "      <td>0.230352</td>\n",
       "      <td>0.101199</td>\n",
       "    </tr>\n",
       "  </tbody>\n",
       "</table>\n",
       "</div>"
      ],
      "text/plain": [
       "     word  appears_in_x  count_x  rank_x  percent_total_x  \\\n",
       "0   great          2186     2919     1.0         0.010262   \n",
       "2    like          1595     2259     3.0         0.007942   \n",
       "11  order           903     1185    12.0         0.004166   \n",
       "3    love          1488     1918     4.0         0.006743   \n",
       "22  don't           793      965    23.0         0.003392   \n",
       "\n",
       "    cumulative_sum_percent_total_x  appears_in_percent_x  appears_in_y  \\\n",
       "0                         0.010262              0.356026           268   \n",
       "2                         0.026191              0.259772           571   \n",
       "11                        0.070789              0.147068           381   \n",
       "3                         0.032934              0.242345           201   \n",
       "22                        0.111604              0.129153           340   \n",
       "\n",
       "    count_y  rank_y  percent_total_y  cumulative_sum_percent_total_y  \\\n",
       "0       353    12.0         0.004315                        0.072631   \n",
       "2       888     1.0         0.010854                        0.010854   \n",
       "11      621     3.0         0.007591                        0.026072   \n",
       "3       243    29.0         0.002970                        0.133295   \n",
       "22      430     6.0         0.005256                        0.044151   \n",
       "\n",
       "    appears_in_percent_y      diff  \n",
       "0               0.181572  0.174454  \n",
       "2               0.386856  0.127084  \n",
       "11              0.258130  0.111062  \n",
       "3               0.136179  0.106166  \n",
       "22              0.230352  0.101199  "
      ]
     },
     "execution_count": 27,
     "metadata": {},
     "output_type": "execute_result"
    }
   ],
   "source": [
    "mega['diff'] = mega.apply(lambda x: abs(x['appears_in_percent_x'] - x['appears_in_percent_y']), axis = 1)\n",
    "\n",
    "mega = mega.sort_values(by = 'diff', ascending = False)\n",
    "mega.head()"
   ]
  },
  {
   "cell_type": "code",
   "execution_count": 28,
   "metadata": {},
   "outputs": [
    {
     "data": {
      "text/plain": [
       "0          great\n",
       "2           like\n",
       "11         order\n",
       "3           love\n",
       "22         don't\n",
       "133          ask\n",
       "51       service\n",
       "74        didn't\n",
       "17      friendly\n",
       "43     delicious\n",
       "Name: word, dtype: object"
      ]
     },
     "execution_count": 28,
     "metadata": {},
     "output_type": "execute_result"
    }
   ],
   "source": [
    "top10 = mega['word'][:10]\n",
    "\n",
    "top10"
   ]
  },
  {
   "cell_type": "markdown",
   "metadata": {},
   "source": [
    "## Good vs Bad word usage\n",
    "Comparing the top 10 different usage of words between good and bad reviews"
   ]
  },
  {
   "cell_type": "code",
   "execution_count": 29,
   "metadata": {},
   "outputs": [
    {
     "data": {
      "image/png": "[encoded data removed]",
      "text/plain": [
       "<Figure size 1440x576 with 2 Axes>"
      ]
     },
     "metadata": {
      "needs_background": "light"
     },
     "output_type": "display_data"
    }
   ],
   "source": [
    "good_10_diff = wc_good.loc[wc_good['word'].isin(top10)]\n",
    "bad_10_diff = wc_bad.loc[wc_bad['word'].isin(top10)]\n",
    "\n",
    "fig, axes = plt.subplots(1, 2, figsize = (20, 8))\n",
    "\n",
    "axes[0].set_title('Good Words')\n",
    "squarify.plot(sizes = good_10_diff['percent_total'], label = good_10_diff['word'], alpha = .8, ax = axes[0])\n",
    "axes[0].axis('off')\n",
    "\n",
    "axes[1].set_title('Bad Words')\n",
    "squarify.plot(sizes = bad_10_diff['percent_total'], label = bad_10_diff['word'], alpha = .8, ax = axes[1])\n",
    "axes[1].axis('off')\n",
    "\n",
    "plt.show();"
   ]
  },
  {
   "cell_type": "markdown",
   "metadata": {},
   "source": [
    "## Conclusion\n",
    "We can see a pretty big difference in the way that people use words like 'Great', 'love', 'friendly', 'service'.  Very cool"
   ]
  },
  {
   "cell_type": "markdown",
   "metadata": {
    "colab_type": "text",
    "id": "1dCb1q8XphcP",
    "toc-hr-collapsed": true
   },
   "source": [
    "## Stretch Goals\n",
    "\n",
    "* Analyze another corpus of documents - such as Indeed.com job listings ;).\n",
    "* Play with the Spacy API to\n",
    " - Extract Named Entities\n",
    " - Extracting 'noun chunks'\n",
    " - Attempt Document Classification with just Spacy\n",
    " - *Note:* This [course](https://course.spacy.io/) will be of interesting in helping you with these stretch goals. \n",
    "* Try to build a plotly dash app with your text data \n",
    "\n"
   ]
  }
 ],
 "metadata": {
  "colab": {
   "collapsed_sections": [],
   "name": "LS_DS_421_Text_Data_Assignment.ipynb",
   "provenance": [],
   "version": "0.3.2"
  },
  "kernelspec": {
   "display_name": "U4-S1-NLP (Python3)",
   "language": "python",
   "name": "u4-s1-nlp"
  },
  "language_info": {
   "codemirror_mode": {
    "name": "ipython",
    "version": 3
   },
   "file_extension": ".py",
   "mimetype": "text/x-python",
   "name": "python",
   "nbconvert_exporter": "python",
   "pygments_lexer": "ipython3",
   "version": "3.7.0"
  },
  "toc-autonumbering": false
 },
 "nbformat": 4,
 "nbformat_minor": 4
}
