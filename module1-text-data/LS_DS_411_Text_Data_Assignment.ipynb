{
 "cells": [
  {
   "cell_type": "markdown",
   "metadata": {},
   "source": [
    "<img align=\"left\" src=\"https://lever-client-logos.s3.amazonaws.com/864372b1-534c-480e-acd5-9711f850815c-1524247202159.png\" width=200>\n",
    "<br></br>\n",
    "<br></br>\n",
    "\n",
    "# Natural Language Processing (NLP)\n",
    "## *Data Science Unit 4 Sprint 1 Assignment 1*\n",
    "\n",
    "Your goal in this assignment: find the attributes of the best & worst coffee shops in the dataset. The text is fairly raw: dates in the review, extra words in the `star_rating` column, etc. You'll probably want to clean that stuff up for a better analysis. \n",
    "\n",
    "Analyze the corpus of text using text visualizations of token frequency. Try cleaning the data as much as possible. Try the following techniques: \n",
    "- Lemmatization\n",
    "- Custom stopword removal\n",
    "\n",
    "Keep in mind the attributes of good tokens. Once you have a solid baseline, layer in the star rating in your visualization(s). Key part of this assignment - produce a write-up of the attributes of the best and worst coffee shops. Based on your analysis, what makes the best the best and the worst the worst. Use graphs and numbesr from your analysis to support your conclusions. There should be plenty of markdown cells! :coffee:"
   ]
  },
  {
   "cell_type": "code",
   "execution_count": 115,
   "metadata": {},
   "outputs": [
    {
     "data": {
      "text/html": [
       "<div>\n",
       "<style scoped>\n",
       "    .dataframe tbody tr th:only-of-type {\n",
       "        vertical-align: middle;\n",
       "    }\n",
       "\n",
       "    .dataframe tbody tr th {\n",
       "        vertical-align: top;\n",
       "    }\n",
       "\n",
       "    .dataframe thead th {\n",
       "        text-align: right;\n",
       "    }\n",
       "</style>\n",
       "<table border=\"1\" class=\"dataframe\">\n",
       "  <thead>\n",
       "    <tr style=\"text-align: right;\">\n",
       "      <th></th>\n",
       "      <th>coffee_shop_name</th>\n",
       "      <th>full_review_text</th>\n",
       "      <th>star_rating</th>\n",
       "    </tr>\n",
       "  </thead>\n",
       "  <tbody>\n",
       "    <tr>\n",
       "      <th>0</th>\n",
       "      <td>The Factory - Cafe With a Soul</td>\n",
       "      <td>11/25/2016 1 check-in Love love loved the atm...</td>\n",
       "      <td>5.0 star rating</td>\n",
       "    </tr>\n",
       "    <tr>\n",
       "      <th>1</th>\n",
       "      <td>The Factory - Cafe With a Soul</td>\n",
       "      <td>12/2/2016 Listed in Date Night: Austin, Ambia...</td>\n",
       "      <td>4.0 star rating</td>\n",
       "    </tr>\n",
       "    <tr>\n",
       "      <th>2</th>\n",
       "      <td>The Factory - Cafe With a Soul</td>\n",
       "      <td>11/30/2016 1 check-in Listed in Brunch Spots ...</td>\n",
       "      <td>4.0 star rating</td>\n",
       "    </tr>\n",
       "    <tr>\n",
       "      <th>3</th>\n",
       "      <td>The Factory - Cafe With a Soul</td>\n",
       "      <td>11/25/2016 Very cool decor! Good drinks Nice ...</td>\n",
       "      <td>2.0 star rating</td>\n",
       "    </tr>\n",
       "    <tr>\n",
       "      <th>4</th>\n",
       "      <td>The Factory - Cafe With a Soul</td>\n",
       "      <td>12/3/2016 1 check-in They are located within ...</td>\n",
       "      <td>4.0 star rating</td>\n",
       "    </tr>\n",
       "  </tbody>\n",
       "</table>\n",
       "</div>"
      ],
      "text/plain": [
       "                  coffee_shop_name  \\\n",
       "0  The Factory - Cafe With a Soul    \n",
       "1  The Factory - Cafe With a Soul    \n",
       "2  The Factory - Cafe With a Soul    \n",
       "3  The Factory - Cafe With a Soul    \n",
       "4  The Factory - Cafe With a Soul    \n",
       "\n",
       "                                    full_review_text        star_rating  \n",
       "0   11/25/2016 1 check-in Love love loved the atm...   5.0 star rating   \n",
       "1   12/2/2016 Listed in Date Night: Austin, Ambia...   4.0 star rating   \n",
       "2   11/30/2016 1 check-in Listed in Brunch Spots ...   4.0 star rating   \n",
       "3   11/25/2016 Very cool decor! Good drinks Nice ...   2.0 star rating   \n",
       "4   12/3/2016 1 check-in They are located within ...   4.0 star rating   "
      ]
     },
     "execution_count": 115,
     "metadata": {},
     "output_type": "execute_result"
    }
   ],
   "source": [
    "import pandas as pd\n",
    "\n",
    "url = \"https://raw.githubusercontent.com/LambdaSchool/DS-Unit-4-Sprint-1-NLP/master/module1-text-data/data/yelp_coffeeshop_review_data.csv\"\n",
    "\n",
    "shops = pd.read_csv(url)\n",
    "shops.head()"
   ]
  },
  {
   "cell_type": "code",
   "execution_count": 116,
   "metadata": {},
   "outputs": [
    {
     "data": {
      "text/plain": [
       "(7616, 3)"
      ]
     },
     "execution_count": 116,
     "metadata": {},
     "output_type": "execute_result"
    }
   ],
   "source": [
    "shops.shape"
   ]
  },
  {
   "cell_type": "code",
   "execution_count": 117,
   "metadata": {},
   "outputs": [
    {
     "data": {
      "text/plain": [
       "coffee_shop_name    0\n",
       "full_review_text    0\n",
       "star_rating         0\n",
       "dtype: int64"
      ]
     },
     "execution_count": 117,
     "metadata": {},
     "output_type": "execute_result"
    }
   ],
   "source": [
    "shops.isnull().sum()"
   ]
  },
  {
   "cell_type": "code",
   "execution_count": 118,
   "metadata": {},
   "outputs": [
    {
     "data": {
      "text/plain": [
       "79"
      ]
     },
     "execution_count": 118,
     "metadata": {},
     "output_type": "execute_result"
    }
   ],
   "source": [
    "shops['coffee_shop_name'].nunique()"
   ]
  },
  {
   "cell_type": "code",
   "execution_count": 119,
   "metadata": {},
   "outputs": [
    {
     "data": {
      "text/plain": [
       "Epoch Coffee                            0.052521\n",
       "Halcyon                                 0.039391\n",
       "The Factory - Cafe With a Soul          0.032038\n",
       "Houndstooth Coffee                      0.026261\n",
       "Venezia Italian Gelato                  0.026261\n",
       "                                          ...   \n",
       "Lucky Lab Coffee                        0.003283\n",
       "Sister Coffee                           0.002232\n",
       "Kowabunga Coffee                        0.002101\n",
       "The Marvelous Vintage Tea Party Co.     0.001313\n",
       "Lola Savannah Coffee Downtown           0.000525\n",
       "Name: coffee_shop_name, Length: 79, dtype: float64"
      ]
     },
     "execution_count": 119,
     "metadata": {},
     "output_type": "execute_result"
    }
   ],
   "source": [
    "shops['coffee_shop_name'].value_counts(normalize=True)"
   ]
  },
  {
   "cell_type": "code",
   "execution_count": 120,
   "metadata": {},
   "outputs": [
    {
     "data": {
      "text/plain": [
       " 5.0 star rating     0.496324\n",
       " 4.0 star rating     0.309874\n",
       " 3.0 star rating     0.096901\n",
       " 2.0 star rating     0.060399\n",
       " 1.0 star rating     0.036502\n",
       "Name: star_rating, dtype: float64"
      ]
     },
     "execution_count": 120,
     "metadata": {},
     "output_type": "execute_result"
    }
   ],
   "source": [
    "shops['star_rating'].value_counts(normalize=True)"
   ]
  },
  {
   "cell_type": "code",
   "execution_count": 121,
   "metadata": {},
   "outputs": [],
   "source": [
    "# replace string ratings with integers\n",
    "\n",
    "shops['star_rating'] = shops['star_rating'].str.replace('[.].*', '').astype(int)"
   ]
  },
  {
   "cell_type": "code",
   "execution_count": 122,
   "metadata": {},
   "outputs": [
    {
     "data": {
      "text/html": [
       "<div>\n",
       "<style scoped>\n",
       "    .dataframe tbody tr th:only-of-type {\n",
       "        vertical-align: middle;\n",
       "    }\n",
       "\n",
       "    .dataframe tbody tr th {\n",
       "        vertical-align: top;\n",
       "    }\n",
       "\n",
       "    .dataframe thead th {\n",
       "        text-align: right;\n",
       "    }\n",
       "</style>\n",
       "<table border=\"1\" class=\"dataframe\">\n",
       "  <thead>\n",
       "    <tr style=\"text-align: right;\">\n",
       "      <th></th>\n",
       "      <th>coffee_shop_name</th>\n",
       "      <th>full_review_text</th>\n",
       "      <th>star_rating</th>\n",
       "    </tr>\n",
       "  </thead>\n",
       "  <tbody>\n",
       "    <tr>\n",
       "      <th>0</th>\n",
       "      <td>The Factory - Cafe With a Soul</td>\n",
       "      <td>11/25/2016 1 check-in Love love loved the atm...</td>\n",
       "      <td>5</td>\n",
       "    </tr>\n",
       "    <tr>\n",
       "      <th>1</th>\n",
       "      <td>The Factory - Cafe With a Soul</td>\n",
       "      <td>12/2/2016 Listed in Date Night: Austin, Ambia...</td>\n",
       "      <td>4</td>\n",
       "    </tr>\n",
       "    <tr>\n",
       "      <th>2</th>\n",
       "      <td>The Factory - Cafe With a Soul</td>\n",
       "      <td>11/30/2016 1 check-in Listed in Brunch Spots ...</td>\n",
       "      <td>4</td>\n",
       "    </tr>\n",
       "    <tr>\n",
       "      <th>3</th>\n",
       "      <td>The Factory - Cafe With a Soul</td>\n",
       "      <td>11/25/2016 Very cool decor! Good drinks Nice ...</td>\n",
       "      <td>2</td>\n",
       "    </tr>\n",
       "    <tr>\n",
       "      <th>4</th>\n",
       "      <td>The Factory - Cafe With a Soul</td>\n",
       "      <td>12/3/2016 1 check-in They are located within ...</td>\n",
       "      <td>4</td>\n",
       "    </tr>\n",
       "  </tbody>\n",
       "</table>\n",
       "</div>"
      ],
      "text/plain": [
       "                  coffee_shop_name  \\\n",
       "0  The Factory - Cafe With a Soul    \n",
       "1  The Factory - Cafe With a Soul    \n",
       "2  The Factory - Cafe With a Soul    \n",
       "3  The Factory - Cafe With a Soul    \n",
       "4  The Factory - Cafe With a Soul    \n",
       "\n",
       "                                    full_review_text  star_rating  \n",
       "0   11/25/2016 1 check-in Love love loved the atm...            5  \n",
       "1   12/2/2016 Listed in Date Night: Austin, Ambia...            4  \n",
       "2   11/30/2016 1 check-in Listed in Brunch Spots ...            4  \n",
       "3   11/25/2016 Very cool decor! Good drinks Nice ...            2  \n",
       "4   12/3/2016 1 check-in They are located within ...            4  "
      ]
     },
     "execution_count": 122,
     "metadata": {},
     "output_type": "execute_result"
    }
   ],
   "source": [
    "shops.head()"
   ]
  },
  {
   "cell_type": "code",
   "execution_count": 123,
   "metadata": {},
   "outputs": [
    {
     "data": {
      "text/plain": [
       "coffee_shop_name    object\n",
       "full_review_text    object\n",
       "star_rating          int64\n",
       "dtype: object"
      ]
     },
     "execution_count": 123,
     "metadata": {},
     "output_type": "execute_result"
    }
   ],
   "source": [
    "shops.dtypes"
   ]
  },
  {
   "cell_type": "code",
   "execution_count": 124,
   "metadata": {},
   "outputs": [],
   "source": [
    "# remove leading and trailing whitespace from string columns\n",
    "\n",
    "shops['coffee_shop_name'] = shops['coffee_shop_name'].str.strip()\n",
    "shops['full_review_text'] = shops['full_review_text'].str.strip()"
   ]
  },
  {
   "cell_type": "code",
   "execution_count": 125,
   "metadata": {},
   "outputs": [
    {
     "data": {
      "text/plain": [
       "True"
      ]
     },
     "execution_count": 125,
     "metadata": {},
     "output_type": "execute_result"
    }
   ],
   "source": [
    "# do all reviews start with a date?\n",
    "\n",
    "shops['full_review_text'].str.match('\\d?\\d/\\d?\\d/\\d{4}').all()"
   ]
  },
  {
   "cell_type": "code",
   "execution_count": 126,
   "metadata": {},
   "outputs": [],
   "source": [
    "# remove dates, trim leading/trailing whitespace, and lowercase the review texts\n",
    "\n",
    "shops['full_review_text'] = shops['full_review_text'].str.replace('\\d?\\d/\\d?\\d/\\d{4}', '').str.strip().str.lower()"
   ]
  },
  {
   "cell_type": "code",
   "execution_count": 137,
   "metadata": {},
   "outputs": [],
   "source": [
    "# remove anything that is not a letter or whitespace from the review texts\n",
    "\n",
    "shops['full_review_text'] = shops['full_review_text'].str.replace('[^a-zA-Z\\s]', '').str.replace('\\s+', ' ')"
   ]
  },
  {
   "cell_type": "code",
   "execution_count": 62,
   "metadata": {},
   "outputs": [],
   "source": [
    "import spacy\n",
    "\n",
    "nlp = spacy.load(\"en_core_web_lg\")"
   ]
  },
  {
   "cell_type": "code",
   "execution_count": 141,
   "metadata": {},
   "outputs": [],
   "source": [
    "# define additional stop words\n",
    "\n",
    "my_stop_words = ['food', 'latte', 'place', 'austin', 'order', 'get',\n",
    "                 'work', 'drink', 'shop', 'try', 'coffee', 'come',\n",
    "                 'time', 'check', 'little', 'tea', 'go', 'people', \n",
    "                 'restaurant', 'spot', 'staff', 'friend']\n",
    "\n",
    "STOP_WORDS = nlp.Defaults.stop_words.union(my_stop_words)"
   ]
  },
  {
   "cell_type": "code",
   "execution_count": 142,
   "metadata": {},
   "outputs": [
    {
     "data": {
      "text/html": [
       "<div>\n",
       "<style scoped>\n",
       "    .dataframe tbody tr th:only-of-type {\n",
       "        vertical-align: middle;\n",
       "    }\n",
       "\n",
       "    .dataframe tbody tr th {\n",
       "        vertical-align: top;\n",
       "    }\n",
       "\n",
       "    .dataframe thead th {\n",
       "        text-align: right;\n",
       "    }\n",
       "</style>\n",
       "<table border=\"1\" class=\"dataframe\">\n",
       "  <thead>\n",
       "    <tr style=\"text-align: right;\">\n",
       "      <th></th>\n",
       "      <th>coffee_shop_name</th>\n",
       "      <th>full_review_text</th>\n",
       "      <th>star_rating</th>\n",
       "      <th>lemmas</th>\n",
       "    </tr>\n",
       "  </thead>\n",
       "  <tbody>\n",
       "    <tr>\n",
       "      <th>0</th>\n",
       "      <td>The Factory - Cafe With a Soul</td>\n",
       "      <td>check in love love loved the atmosphere every...</td>\n",
       "      <td>5</td>\n",
       "      <td>[love, love, love, atmosphere, corner, style, ...</td>\n",
       "    </tr>\n",
       "    <tr>\n",
       "      <th>1</th>\n",
       "      <td>The Factory - Cafe With a Soul</td>\n",
       "      <td>listed in date night austin ambiance in austin...</td>\n",
       "      <td>4</td>\n",
       "      <td>[list, date, night, ambiance, beautiful, love,...</td>\n",
       "    </tr>\n",
       "    <tr>\n",
       "      <th>2</th>\n",
       "      <td>The Factory - Cafe With a Soul</td>\n",
       "      <td>check in listed in brunch spots i loved the e...</td>\n",
       "      <td>4</td>\n",
       "      <td>[list, brunch, love, eclectic, homey, plush, d...</td>\n",
       "    </tr>\n",
       "    <tr>\n",
       "      <th>3</th>\n",
       "      <td>The Factory - Cafe With a Soul</td>\n",
       "      <td>very cool decor good drinks nice seating howev...</td>\n",
       "      <td>2</td>\n",
       "      <td>[cool, decor, good, nice, seating, overprice, ...</td>\n",
       "    </tr>\n",
       "    <tr>\n",
       "      <th>4</th>\n",
       "      <td>The Factory - Cafe With a Soul</td>\n",
       "      <td>check in they are located within the northcro...</td>\n",
       "      <td>4</td>\n",
       "      <td>[locate, northcross, mall, shopping, center, f...</td>\n",
       "    </tr>\n",
       "  </tbody>\n",
       "</table>\n",
       "</div>"
      ],
      "text/plain": [
       "                 coffee_shop_name  \\\n",
       "0  The Factory - Cafe With a Soul   \n",
       "1  The Factory - Cafe With a Soul   \n",
       "2  The Factory - Cafe With a Soul   \n",
       "3  The Factory - Cafe With a Soul   \n",
       "4  The Factory - Cafe With a Soul   \n",
       "\n",
       "                                    full_review_text  star_rating  \\\n",
       "0   check in love love loved the atmosphere every...            5   \n",
       "1  listed in date night austin ambiance in austin...            4   \n",
       "2   check in listed in brunch spots i loved the e...            4   \n",
       "3  very cool decor good drinks nice seating howev...            2   \n",
       "4   check in they are located within the northcro...            4   \n",
       "\n",
       "                                              lemmas  \n",
       "0  [love, love, love, atmosphere, corner, style, ...  \n",
       "1  [list, date, night, ambiance, beautiful, love,...  \n",
       "2  [list, brunch, love, eclectic, homey, plush, d...  \n",
       "3  [cool, decor, good, nice, seating, overprice, ...  \n",
       "4  [locate, northcross, mall, shopping, center, f...  "
      ]
     },
     "execution_count": 142,
     "metadata": {},
     "output_type": "execute_result"
    }
   ],
   "source": [
    "# add lemmatizations for the reviews to the dataframe\n",
    "\n",
    "import re\n",
    "\n",
    "has_number_pattern = re.compile('\\d')\n",
    "is_empty_pattern = re.compile('^\\s*$')\n",
    "\n",
    "lemmas = []\n",
    "\n",
    "for doc in nlp.pipe(shops['full_review_text'], batch_size=500):\n",
    "    doc_lemmas = []\n",
    "    for token in doc:\n",
    "        if (not token.is_stop # ignore stop words\n",
    "            and not token.is_punct # ignore punctuation\n",
    "            and token.pos_ != 'PRON' # ignore pronouns\n",
    "            and not is_empty_pattern.match(token.text) # ignore empty strings\n",
    "            and not has_number_pattern.search(token.text) # ignore words containing numerals\n",
    "            and len(token.lemma_) >= 3 # ignore 1 and two letter words\n",
    "            and token.lemma_ not in STOP_WORDS): # ignore lemmad stop words\n",
    "                doc_lemmas.append(token.lemma_)\n",
    "    lemmas.append(doc_lemmas)\n",
    "\n",
    "assert len(lemmas) == shops.shape[0]\n",
    "\n",
    "shops['lemmas'] = lemmas\n",
    "shops.head()"
   ]
  },
  {
   "cell_type": "code",
   "execution_count": 143,
   "metadata": {},
   "outputs": [],
   "source": [
    "# takes a corpus of document and returns and dataframe of word counts for us to analyze\n",
    "#  - from lecture notebook\n",
    "\n",
    "from collections import Counter\n",
    "\n",
    "\n",
    "def count(docs):\n",
    "\n",
    "    word_counts = Counter()\n",
    "    appears_in = Counter()\n",
    "\n",
    "    total_docs = len(docs)\n",
    "\n",
    "    for doc in docs:\n",
    "        word_counts.update(doc)\n",
    "        appears_in.update(set(doc))\n",
    "\n",
    "    temp = zip(word_counts.keys(), word_counts.values())\n",
    "\n",
    "    wc = pd.DataFrame(temp, columns = ['word', 'count'])\n",
    "\n",
    "    wc['rank'] = wc['count'].rank(method='first', ascending=False)\n",
    "    total = wc['count'].sum()\n",
    "\n",
    "    wc['pct_total'] = wc['count'].apply(lambda x: x / total)\n",
    "\n",
    "    wc = wc.sort_values(by='rank')\n",
    "    wc['cul_pct_total'] = wc['pct_total'].cumsum()\n",
    "\n",
    "    t2 = zip(appears_in.keys(), appears_in.values())\n",
    "    ac = pd.DataFrame(t2, columns=['word', 'appears_in'])\n",
    "    wc = ac.merge(wc, on='word')\n",
    "\n",
    "    wc['appears_in_pct'] = wc['appears_in'].apply(lambda x: x / total_docs)\n",
    "\n",
    "    return wc.sort_values(by='rank')"
   ]
  },
  {
   "cell_type": "code",
   "execution_count": 144,
   "metadata": {},
   "outputs": [
    {
     "data": {
      "text/html": [
       "<div>\n",
       "<style scoped>\n",
       "    .dataframe tbody tr th:only-of-type {\n",
       "        vertical-align: middle;\n",
       "    }\n",
       "\n",
       "    .dataframe tbody tr th {\n",
       "        vertical-align: top;\n",
       "    }\n",
       "\n",
       "    .dataframe thead th {\n",
       "        text-align: right;\n",
       "    }\n",
       "</style>\n",
       "<table border=\"1\" class=\"dataframe\">\n",
       "  <thead>\n",
       "    <tr style=\"text-align: right;\">\n",
       "      <th></th>\n",
       "      <th>word</th>\n",
       "      <th>appears_in</th>\n",
       "      <th>count</th>\n",
       "      <th>rank</th>\n",
       "      <th>pct_total</th>\n",
       "      <th>cul_pct_total</th>\n",
       "      <th>appears_in_pct</th>\n",
       "    </tr>\n",
       "  </thead>\n",
       "  <tbody>\n",
       "    <tr>\n",
       "      <th>135</th>\n",
       "      <td>good</td>\n",
       "      <td>3601</td>\n",
       "      <td>5425</td>\n",
       "      <td>1.0</td>\n",
       "      <td>0.018492</td>\n",
       "      <td>0.018492</td>\n",
       "      <td>0.472820</td>\n",
       "    </tr>\n",
       "    <tr>\n",
       "      <th>95</th>\n",
       "      <td>great</td>\n",
       "      <td>2862</td>\n",
       "      <td>3966</td>\n",
       "      <td>2.0</td>\n",
       "      <td>0.013519</td>\n",
       "      <td>0.032011</td>\n",
       "      <td>0.375788</td>\n",
       "    </tr>\n",
       "    <tr>\n",
       "      <th>147</th>\n",
       "      <td>like</td>\n",
       "      <td>2279</td>\n",
       "      <td>3390</td>\n",
       "      <td>3.0</td>\n",
       "      <td>0.011555</td>\n",
       "      <td>0.043567</td>\n",
       "      <td>0.299238</td>\n",
       "    </tr>\n",
       "    <tr>\n",
       "      <th>17</th>\n",
       "      <td>love</td>\n",
       "      <td>1825</td>\n",
       "      <td>2393</td>\n",
       "      <td>4.0</td>\n",
       "      <td>0.008157</td>\n",
       "      <td>0.051724</td>\n",
       "      <td>0.239627</td>\n",
       "    </tr>\n",
       "    <tr>\n",
       "      <th>47</th>\n",
       "      <td>nice</td>\n",
       "      <td>1511</td>\n",
       "      <td>1807</td>\n",
       "      <td>5.0</td>\n",
       "      <td>0.006160</td>\n",
       "      <td>0.057883</td>\n",
       "      <td>0.198398</td>\n",
       "    </tr>\n",
       "    <tr>\n",
       "      <th>177</th>\n",
       "      <td>friendly</td>\n",
       "      <td>1634</td>\n",
       "      <td>1732</td>\n",
       "      <td>6.0</td>\n",
       "      <td>0.005904</td>\n",
       "      <td>0.063787</td>\n",
       "      <td>0.214548</td>\n",
       "    </tr>\n",
       "    <tr>\n",
       "      <th>258</th>\n",
       "      <td>don</td>\n",
       "      <td>1164</td>\n",
       "      <td>1440</td>\n",
       "      <td>7.0</td>\n",
       "      <td>0.004909</td>\n",
       "      <td>0.068696</td>\n",
       "      <td>0.152836</td>\n",
       "    </tr>\n",
       "    <tr>\n",
       "      <th>627</th>\n",
       "      <td>delicious</td>\n",
       "      <td>1272</td>\n",
       "      <td>1413</td>\n",
       "      <td>8.0</td>\n",
       "      <td>0.004816</td>\n",
       "      <td>0.073512</td>\n",
       "      <td>0.167017</td>\n",
       "    </tr>\n",
       "    <tr>\n",
       "      <th>134</th>\n",
       "      <td>service</td>\n",
       "      <td>1217</td>\n",
       "      <td>1394</td>\n",
       "      <td>9.0</td>\n",
       "      <td>0.004752</td>\n",
       "      <td>0.078264</td>\n",
       "      <td>0.159795</td>\n",
       "    </tr>\n",
       "    <tr>\n",
       "      <th>21</th>\n",
       "      <td>pretty</td>\n",
       "      <td>1085</td>\n",
       "      <td>1372</td>\n",
       "      <td>10.0</td>\n",
       "      <td>0.004677</td>\n",
       "      <td>0.082940</td>\n",
       "      <td>0.142463</td>\n",
       "    </tr>\n",
       "    <tr>\n",
       "      <th>60</th>\n",
       "      <td>lot</td>\n",
       "      <td>1114</td>\n",
       "      <td>1327</td>\n",
       "      <td>11.0</td>\n",
       "      <td>0.004523</td>\n",
       "      <td>0.087464</td>\n",
       "      <td>0.146271</td>\n",
       "    </tr>\n",
       "    <tr>\n",
       "      <th>88</th>\n",
       "      <td>want</td>\n",
       "      <td>1010</td>\n",
       "      <td>1223</td>\n",
       "      <td>12.0</td>\n",
       "      <td>0.004169</td>\n",
       "      <td>0.091633</td>\n",
       "      <td>0.132616</td>\n",
       "    </tr>\n",
       "    <tr>\n",
       "      <th>50</th>\n",
       "      <td>flavor</td>\n",
       "      <td>834</td>\n",
       "      <td>1222</td>\n",
       "      <td>13.0</td>\n",
       "      <td>0.004165</td>\n",
       "      <td>0.095798</td>\n",
       "      <td>0.109506</td>\n",
       "    </tr>\n",
       "    <tr>\n",
       "      <th>344</th>\n",
       "      <td>taste</td>\n",
       "      <td>945</td>\n",
       "      <td>1178</td>\n",
       "      <td>14.0</td>\n",
       "      <td>0.004015</td>\n",
       "      <td>0.099814</td>\n",
       "      <td>0.124081</td>\n",
       "    </tr>\n",
       "    <tr>\n",
       "      <th>340</th>\n",
       "      <td>look</td>\n",
       "      <td>981</td>\n",
       "      <td>1172</td>\n",
       "      <td>15.0</td>\n",
       "      <td>0.003995</td>\n",
       "      <td>0.103809</td>\n",
       "      <td>0.128808</td>\n",
       "    </tr>\n",
       "    <tr>\n",
       "      <th>267</th>\n",
       "      <td>know</td>\n",
       "      <td>948</td>\n",
       "      <td>1161</td>\n",
       "      <td>16.0</td>\n",
       "      <td>0.003958</td>\n",
       "      <td>0.107766</td>\n",
       "      <td>0.124475</td>\n",
       "    </tr>\n",
       "    <tr>\n",
       "      <th>7</th>\n",
       "      <td>find</td>\n",
       "      <td>979</td>\n",
       "      <td>1160</td>\n",
       "      <td>17.0</td>\n",
       "      <td>0.003954</td>\n",
       "      <td>0.111720</td>\n",
       "      <td>0.128545</td>\n",
       "    </tr>\n",
       "    <tr>\n",
       "      <th>418</th>\n",
       "      <td>day</td>\n",
       "      <td>977</td>\n",
       "      <td>1160</td>\n",
       "      <td>18.0</td>\n",
       "      <td>0.003954</td>\n",
       "      <td>0.115674</td>\n",
       "      <td>0.128283</td>\n",
       "    </tr>\n",
       "    <tr>\n",
       "      <th>42</th>\n",
       "      <td>definitely</td>\n",
       "      <td>1015</td>\n",
       "      <td>1159</td>\n",
       "      <td>19.0</td>\n",
       "      <td>0.003951</td>\n",
       "      <td>0.119625</td>\n",
       "      <td>0.133272</td>\n",
       "    </tr>\n",
       "    <tr>\n",
       "      <th>125</th>\n",
       "      <td>table</td>\n",
       "      <td>902</td>\n",
       "      <td>1145</td>\n",
       "      <td>20.0</td>\n",
       "      <td>0.003903</td>\n",
       "      <td>0.123528</td>\n",
       "      <td>0.118435</td>\n",
       "    </tr>\n",
       "  </tbody>\n",
       "</table>\n",
       "</div>"
      ],
      "text/plain": [
       "           word  appears_in  count  rank  pct_total  cul_pct_total  \\\n",
       "135        good        3601   5425   1.0   0.018492       0.018492   \n",
       "95        great        2862   3966   2.0   0.013519       0.032011   \n",
       "147        like        2279   3390   3.0   0.011555       0.043567   \n",
       "17         love        1825   2393   4.0   0.008157       0.051724   \n",
       "47         nice        1511   1807   5.0   0.006160       0.057883   \n",
       "177    friendly        1634   1732   6.0   0.005904       0.063787   \n",
       "258         don        1164   1440   7.0   0.004909       0.068696   \n",
       "627   delicious        1272   1413   8.0   0.004816       0.073512   \n",
       "134     service        1217   1394   9.0   0.004752       0.078264   \n",
       "21       pretty        1085   1372  10.0   0.004677       0.082940   \n",
       "60          lot        1114   1327  11.0   0.004523       0.087464   \n",
       "88         want        1010   1223  12.0   0.004169       0.091633   \n",
       "50       flavor         834   1222  13.0   0.004165       0.095798   \n",
       "344       taste         945   1178  14.0   0.004015       0.099814   \n",
       "340        look         981   1172  15.0   0.003995       0.103809   \n",
       "267        know         948   1161  16.0   0.003958       0.107766   \n",
       "7          find         979   1160  17.0   0.003954       0.111720   \n",
       "418         day         977   1160  18.0   0.003954       0.115674   \n",
       "42   definitely        1015   1159  19.0   0.003951       0.119625   \n",
       "125       table         902   1145  20.0   0.003903       0.123528   \n",
       "\n",
       "     appears_in_pct  \n",
       "135        0.472820  \n",
       "95         0.375788  \n",
       "147        0.299238  \n",
       "17         0.239627  \n",
       "47         0.198398  \n",
       "177        0.214548  \n",
       "258        0.152836  \n",
       "627        0.167017  \n",
       "134        0.159795  \n",
       "21         0.142463  \n",
       "60         0.146271  \n",
       "88         0.132616  \n",
       "50         0.109506  \n",
       "344        0.124081  \n",
       "340        0.128808  \n",
       "267        0.124475  \n",
       "7          0.128545  \n",
       "418        0.128283  \n",
       "42         0.133272  \n",
       "125        0.118435  "
      ]
     },
     "execution_count": 144,
     "metadata": {},
     "output_type": "execute_result"
    }
   ],
   "source": [
    "wc = count(shops['lemmas'])\n",
    "wc.head(20)"
   ]
  },
  {
   "cell_type": "code",
   "execution_count": 145,
   "metadata": {},
   "outputs": [],
   "source": [
    "import squarify\n",
    "import matplotlib.pyplot as plt\n",
    "import seaborn as sns"
   ]
  },
  {
   "cell_type": "code",
   "execution_count": 146,
   "metadata": {},
   "outputs": [
    {
     "data": {
      "image/png": "[encoded data removed]",
      "text/plain": [
       "<Figure size 432x288 with 1 Axes>"
      ]
     },
     "metadata": {
      "needs_background": "light"
     },
     "output_type": "display_data"
    }
   ],
   "source": [
    "wc_top20 = wc[wc['rank'] <= 20]\n",
    "\n",
    "squarify.plot(sizes=wc_top20['pct_total'], label=wc_top20['word'], alpha=.8 )\n",
    "plt.axis('off')\n",
    "plt.show()"
   ]
  },
  {
   "cell_type": "code",
   "execution_count": 147,
   "metadata": {},
   "outputs": [
    {
     "data": {
      "text/plain": [
       "(12905, 7)"
      ]
     },
     "execution_count": 147,
     "metadata": {},
     "output_type": "execute_result"
    }
   ],
   "source": [
    "wc.shape"
   ]
  },
  {
   "cell_type": "markdown",
   "metadata": {},
   "source": [
    "## How do we want to analyze these coffee shop tokens? \n",
    "\n",
    "- Overall Word / Token Count\n",
    "- View Counts by Rating \n",
    "- *Hint:* a 'bad' coffee shops has a rating betweeen 1 & 3 based on the distribution of ratings. A 'good' coffee shop is a 4 or 5. "
   ]
  },
  {
   "cell_type": "code",
   "execution_count": 148,
   "metadata": {},
   "outputs": [],
   "source": [
    "shops['good'] = shops['star_rating'] >= 4"
   ]
  },
  {
   "cell_type": "code",
   "execution_count": 149,
   "metadata": {},
   "outputs": [
    {
     "data": {
      "text/html": [
       "<div>\n",
       "<style scoped>\n",
       "    .dataframe tbody tr th:only-of-type {\n",
       "        vertical-align: middle;\n",
       "    }\n",
       "\n",
       "    .dataframe tbody tr th {\n",
       "        vertical-align: top;\n",
       "    }\n",
       "\n",
       "    .dataframe thead th {\n",
       "        text-align: right;\n",
       "    }\n",
       "</style>\n",
       "<table border=\"1\" class=\"dataframe\">\n",
       "  <thead>\n",
       "    <tr style=\"text-align: right;\">\n",
       "      <th></th>\n",
       "      <th>coffee_shop_name</th>\n",
       "      <th>full_review_text</th>\n",
       "      <th>star_rating</th>\n",
       "      <th>lemmas</th>\n",
       "      <th>good</th>\n",
       "    </tr>\n",
       "  </thead>\n",
       "  <tbody>\n",
       "    <tr>\n",
       "      <th>0</th>\n",
       "      <td>The Factory - Cafe With a Soul</td>\n",
       "      <td>check in love love loved the atmosphere every...</td>\n",
       "      <td>5</td>\n",
       "      <td>[love, love, love, atmosphere, corner, style, ...</td>\n",
       "      <td>True</td>\n",
       "    </tr>\n",
       "    <tr>\n",
       "      <th>1</th>\n",
       "      <td>The Factory - Cafe With a Soul</td>\n",
       "      <td>listed in date night austin ambiance in austin...</td>\n",
       "      <td>4</td>\n",
       "      <td>[list, date, night, ambiance, beautiful, love,...</td>\n",
       "      <td>True</td>\n",
       "    </tr>\n",
       "    <tr>\n",
       "      <th>2</th>\n",
       "      <td>The Factory - Cafe With a Soul</td>\n",
       "      <td>check in listed in brunch spots i loved the e...</td>\n",
       "      <td>4</td>\n",
       "      <td>[list, brunch, love, eclectic, homey, plush, d...</td>\n",
       "      <td>True</td>\n",
       "    </tr>\n",
       "    <tr>\n",
       "      <th>3</th>\n",
       "      <td>The Factory - Cafe With a Soul</td>\n",
       "      <td>very cool decor good drinks nice seating howev...</td>\n",
       "      <td>2</td>\n",
       "      <td>[cool, decor, good, nice, seating, overprice, ...</td>\n",
       "      <td>False</td>\n",
       "    </tr>\n",
       "    <tr>\n",
       "      <th>4</th>\n",
       "      <td>The Factory - Cafe With a Soul</td>\n",
       "      <td>check in they are located within the northcro...</td>\n",
       "      <td>4</td>\n",
       "      <td>[locate, northcross, mall, shopping, center, f...</td>\n",
       "      <td>True</td>\n",
       "    </tr>\n",
       "  </tbody>\n",
       "</table>\n",
       "</div>"
      ],
      "text/plain": [
       "                 coffee_shop_name  \\\n",
       "0  The Factory - Cafe With a Soul   \n",
       "1  The Factory - Cafe With a Soul   \n",
       "2  The Factory - Cafe With a Soul   \n",
       "3  The Factory - Cafe With a Soul   \n",
       "4  The Factory - Cafe With a Soul   \n",
       "\n",
       "                                    full_review_text  star_rating  \\\n",
       "0   check in love love loved the atmosphere every...            5   \n",
       "1  listed in date night austin ambiance in austin...            4   \n",
       "2   check in listed in brunch spots i loved the e...            4   \n",
       "3  very cool decor good drinks nice seating howev...            2   \n",
       "4   check in they are located within the northcro...            4   \n",
       "\n",
       "                                              lemmas   good  \n",
       "0  [love, love, love, atmosphere, corner, style, ...   True  \n",
       "1  [list, date, night, ambiance, beautiful, love,...   True  \n",
       "2  [list, brunch, love, eclectic, homey, plush, d...   True  \n",
       "3  [cool, decor, good, nice, seating, overprice, ...  False  \n",
       "4  [locate, northcross, mall, shopping, center, f...   True  "
      ]
     },
     "execution_count": 149,
     "metadata": {},
     "output_type": "execute_result"
    }
   ],
   "source": [
    "shops.head()"
   ]
  },
  {
   "cell_type": "code",
   "execution_count": 151,
   "metadata": {},
   "outputs": [
    {
     "data": {
      "text/plain": [
       "((11378, 7), (6321, 7))"
      ]
     },
     "execution_count": 151,
     "metadata": {},
     "output_type": "execute_result"
    }
   ],
   "source": [
    "good_words = count(shops[shops['good']]['lemmas'])\n",
    "bad_words = count(shops[~shops['good']]['lemmas'])\n",
    "good_words.shape, bad_words.shape"
   ]
  },
  {
   "cell_type": "code",
   "execution_count": 152,
   "metadata": {},
   "outputs": [
    {
     "data": {
      "text/html": [
       "<div>\n",
       "<style scoped>\n",
       "    .dataframe tbody tr th:only-of-type {\n",
       "        vertical-align: middle;\n",
       "    }\n",
       "\n",
       "    .dataframe tbody tr th {\n",
       "        vertical-align: top;\n",
       "    }\n",
       "\n",
       "    .dataframe thead th {\n",
       "        text-align: right;\n",
       "    }\n",
       "</style>\n",
       "<table border=\"1\" class=\"dataframe\">\n",
       "  <thead>\n",
       "    <tr style=\"text-align: right;\">\n",
       "      <th></th>\n",
       "      <th>word</th>\n",
       "      <th>appears_in</th>\n",
       "      <th>count</th>\n",
       "      <th>rank</th>\n",
       "      <th>pct_total</th>\n",
       "      <th>cul_pct_total</th>\n",
       "      <th>appears_in_pct</th>\n",
       "    </tr>\n",
       "  </thead>\n",
       "  <tbody>\n",
       "    <tr>\n",
       "      <th>169</th>\n",
       "      <td>good</td>\n",
       "      <td>2952</td>\n",
       "      <td>4419</td>\n",
       "      <td>1.0</td>\n",
       "      <td>0.019273</td>\n",
       "      <td>0.019273</td>\n",
       "      <td>0.480782</td>\n",
       "    </tr>\n",
       "    <tr>\n",
       "      <th>95</th>\n",
       "      <td>great</td>\n",
       "      <td>2514</td>\n",
       "      <td>3494</td>\n",
       "      <td>2.0</td>\n",
       "      <td>0.015239</td>\n",
       "      <td>0.034512</td>\n",
       "      <td>0.409446</td>\n",
       "    </tr>\n",
       "    <tr>\n",
       "      <th>166</th>\n",
       "      <td>like</td>\n",
       "      <td>1683</td>\n",
       "      <td>2442</td>\n",
       "      <td>3.0</td>\n",
       "      <td>0.010651</td>\n",
       "      <td>0.045162</td>\n",
       "      <td>0.274104</td>\n",
       "    </tr>\n",
       "    <tr>\n",
       "      <th>17</th>\n",
       "      <td>love</td>\n",
       "      <td>1613</td>\n",
       "      <td>2137</td>\n",
       "      <td>4.0</td>\n",
       "      <td>0.009320</td>\n",
       "      <td>0.054483</td>\n",
       "      <td>0.262704</td>\n",
       "    </tr>\n",
       "    <tr>\n",
       "      <th>151</th>\n",
       "      <td>friendly</td>\n",
       "      <td>1446</td>\n",
       "      <td>1523</td>\n",
       "      <td>5.0</td>\n",
       "      <td>0.006642</td>\n",
       "      <td>0.061125</td>\n",
       "      <td>0.235505</td>\n",
       "    </tr>\n",
       "  </tbody>\n",
       "</table>\n",
       "</div>"
      ],
      "text/plain": [
       "         word  appears_in  count  rank  pct_total  cul_pct_total  \\\n",
       "169      good        2952   4419   1.0   0.019273       0.019273   \n",
       "95      great        2514   3494   2.0   0.015239       0.034512   \n",
       "166      like        1683   2442   3.0   0.010651       0.045162   \n",
       "17       love        1613   2137   4.0   0.009320       0.054483   \n",
       "151  friendly        1446   1523   5.0   0.006642       0.061125   \n",
       "\n",
       "     appears_in_pct  \n",
       "169        0.480782  \n",
       "95         0.409446  \n",
       "166        0.274104  \n",
       "17         0.262704  \n",
       "151        0.235505  "
      ]
     },
     "execution_count": 152,
     "metadata": {},
     "output_type": "execute_result"
    }
   ],
   "source": [
    "good_words.head()"
   ]
  },
  {
   "cell_type": "code",
   "execution_count": 153,
   "metadata": {},
   "outputs": [
    {
     "data": {
      "text/html": [
       "<div>\n",
       "<style scoped>\n",
       "    .dataframe tbody tr th:only-of-type {\n",
       "        vertical-align: middle;\n",
       "    }\n",
       "\n",
       "    .dataframe tbody tr th {\n",
       "        vertical-align: top;\n",
       "    }\n",
       "\n",
       "    .dataframe thead th {\n",
       "        text-align: right;\n",
       "    }\n",
       "</style>\n",
       "<table border=\"1\" class=\"dataframe\">\n",
       "  <thead>\n",
       "    <tr style=\"text-align: right;\">\n",
       "      <th></th>\n",
       "      <th>word</th>\n",
       "      <th>appears_in</th>\n",
       "      <th>count</th>\n",
       "      <th>rank</th>\n",
       "      <th>pct_total</th>\n",
       "      <th>cul_pct_total</th>\n",
       "      <th>appears_in_pct</th>\n",
       "    </tr>\n",
       "  </thead>\n",
       "  <tbody>\n",
       "    <tr>\n",
       "      <th>16</th>\n",
       "      <td>good</td>\n",
       "      <td>649</td>\n",
       "      <td>1006</td>\n",
       "      <td>1.0</td>\n",
       "      <td>0.015698</td>\n",
       "      <td>0.015698</td>\n",
       "      <td>0.439702</td>\n",
       "    </tr>\n",
       "    <tr>\n",
       "      <th>30</th>\n",
       "      <td>like</td>\n",
       "      <td>596</td>\n",
       "      <td>948</td>\n",
       "      <td>2.0</td>\n",
       "      <td>0.014793</td>\n",
       "      <td>0.030492</td>\n",
       "      <td>0.403794</td>\n",
       "    </tr>\n",
       "    <tr>\n",
       "      <th>94</th>\n",
       "      <td>great</td>\n",
       "      <td>348</td>\n",
       "      <td>472</td>\n",
       "      <td>3.0</td>\n",
       "      <td>0.007365</td>\n",
       "      <td>0.037857</td>\n",
       "      <td>0.235772</td>\n",
       "    </tr>\n",
       "    <tr>\n",
       "      <th>15</th>\n",
       "      <td>service</td>\n",
       "      <td>348</td>\n",
       "      <td>451</td>\n",
       "      <td>4.0</td>\n",
       "      <td>0.007038</td>\n",
       "      <td>0.044895</td>\n",
       "      <td>0.235772</td>\n",
       "    </tr>\n",
       "    <tr>\n",
       "      <th>159</th>\n",
       "      <td>don</td>\n",
       "      <td>351</td>\n",
       "      <td>445</td>\n",
       "      <td>5.0</td>\n",
       "      <td>0.006944</td>\n",
       "      <td>0.051839</td>\n",
       "      <td>0.237805</td>\n",
       "    </tr>\n",
       "  </tbody>\n",
       "</table>\n",
       "</div>"
      ],
      "text/plain": [
       "        word  appears_in  count  rank  pct_total  cul_pct_total  \\\n",
       "16      good         649   1006   1.0   0.015698       0.015698   \n",
       "30      like         596    948   2.0   0.014793       0.030492   \n",
       "94     great         348    472   3.0   0.007365       0.037857   \n",
       "15   service         348    451   4.0   0.007038       0.044895   \n",
       "159      don         351    445   5.0   0.006944       0.051839   \n",
       "\n",
       "     appears_in_pct  \n",
       "16         0.439702  \n",
       "30         0.403794  \n",
       "94         0.235772  \n",
       "15         0.235772  \n",
       "159        0.237805  "
      ]
     },
     "execution_count": 153,
     "metadata": {},
     "output_type": "execute_result"
    }
   ],
   "source": [
    "bad_words.head()"
   ]
  },
  {
   "cell_type": "code",
   "execution_count": 167,
   "metadata": {},
   "outputs": [
    {
     "data": {
      "image/png": "[encoded data removed]",
      "text/plain": [
       "<Figure size 432x288 with 1 Axes>"
      ]
     },
     "metadata": {
      "needs_background": "light"
     },
     "output_type": "display_data"
    }
   ],
   "source": [
    "only_good = good_words[~good_words['word'].isin(bad_words['word'])]\n",
    "\n",
    "top20_good = only_good[:20]\n",
    "\n",
    "squarify.plot(sizes=top20_good['pct_total'], label=top20_good['word'], alpha=.8 )\n",
    "plt.axis('off')\n",
    "plt.show()"
   ]
  },
  {
   "cell_type": "code",
   "execution_count": 166,
   "metadata": {},
   "outputs": [
    {
     "data": {
      "image/png": "[encoded data removed]",
      "text/plain": [
       "<Figure size 432x288 with 1 Axes>"
      ]
     },
     "metadata": {
      "needs_background": "light"
     },
     "output_type": "display_data"
    }
   ],
   "source": [
    "only_bad = bad_words[~bad_words['word'].isin(good_words['word'])]\n",
    "\n",
    "top20_bad = only_bad[:20]\n",
    "\n",
    "squarify.plot(sizes=top20_bad['pct_total'], label=top20_bad['word'], alpha=.8 )\n",
    "plt.axis('off')\n",
    "plt.show()"
   ]
  },
  {
   "cell_type": "markdown",
   "metadata": {},
   "source": [
    "## Can visualize the words with the greatest difference in counts between 'good' & 'bad'?\n",
    "\n",
    "Couple Notes: \n",
    "- Rel. freq. instead of absolute counts b/c of different numbers of reviews\n",
    "- Only look at the top 5-10 words with the greatest differences\n"
   ]
  },
  {
   "cell_type": "code",
   "execution_count": 169,
   "metadata": {},
   "outputs": [
    {
     "data": {
      "image/png": "[encoded data removed]",
      "text/plain": [
       "<Figure size 432x288 with 1 Axes>"
      ]
     },
     "metadata": {
      "needs_background": "light"
     },
     "output_type": "display_data"
    }
   ],
   "source": [
    "words_only_in_both = good_words[good_words['word'].isin(bad_words['word'])]\n",
    "\n",
    "top20_both = words_only_in_both[:20]\n",
    "\n",
    "squarify.plot(sizes=top20_both['pct_total'], label=top20_both['word'], alpha=.8 )\n",
    "plt.axis('off')\n",
    "plt.show()"
   ]
  },
  {
   "cell_type": "code",
   "execution_count": 172,
   "metadata": {},
   "outputs": [
    {
     "name": "stdout",
     "output_type": "stream",
     "text": [
      "good: appears 4419 times in reviews of good places, and 1006 in reviews of bad places.\n",
      "great: appears 3494 times in reviews of good places, and 472 in reviews of bad places.\n",
      "like: appears 2442 times in reviews of good places, and 948 in reviews of bad places.\n",
      "love: appears 2137 times in reviews of good places, and 256 in reviews of bad places.\n",
      "friendly: appears 1523 times in reviews of good places, and 209 in reviews of bad places.\n",
      "nice: appears 1444 times in reviews of good places, and 363 in reviews of bad places.\n",
      "delicious: appears 1323 times in reviews of good places, and 90 in reviews of bad places.\n",
      "lot: appears 1082 times in reviews of good places, and 245 in reviews of bad places.\n",
      "definitely: appears 1007 times in reviews of good places, and 152 in reviews of bad places.\n",
      "pretty: appears 1006 times in reviews of good places, and 366 in reviews of bad places.\n",
      "flavor: appears 1006 times in reviews of good places, and 216 in reviews of bad places.\n",
      "don: appears 995 times in reviews of good places, and 445 in reviews of bad places.\n",
      "day: appears 944 times in reviews of good places, and 216 in reviews of bad places.\n",
      "service: appears 943 times in reviews of good places, and 451 in reviews of bad places.\n",
      "find: appears 935 times in reviews of good places, and 225 in reviews of bad places.\n",
      "sweet: appears 903 times in reviews of good places, and 138 in reviews of bad places.\n",
      "parking: appears 898 times in reviews of good places, and 199 in reviews of bad places.\n",
      "table: appears 896 times in reviews of good places, and 249 in reviews of bad places.\n",
      "know: appears 879 times in reviews of good places, and 282 in reviews of bad places.\n",
      "want: appears 875 times in reviews of good places, and 348 in reviews of bad places.\n"
     ]
    }
   ],
   "source": [
    "for word in top20_both['word']:\n",
    "    good_count = good_words[good_words['word']==word]['count'].values[0]\n",
    "    bad_count = bad_words[bad_words['word']==word]['count'].values[0]\n",
    "    print(f'{word}: appears {good_count} times in reviews of good places, and {bad_count} in reviews of bad places.')"
   ]
  },
  {
   "cell_type": "markdown",
   "metadata": {
    "colab_type": "text",
    "id": "1dCb1q8XphcP",
    "toc-hr-collapsed": true
   },
   "source": [
    "## Stretch Goals\n",
    "\n",
    "* Analyze another corpus of documents - such as Indeed.com job listings ;).\n",
    "* Play with the Spacy API to\n",
    " - Extract Named Entities\n",
    " - Extracting 'noun chunks'\n",
    " - Attempt Document Classification with just Spacy\n",
    " - *Note:* This [course](https://course.spacy.io/) will be of interesting in helping you with these stretch goals. \n",
    "* Try to build a plotly dash app with your text data \n",
    "\n"
   ]
  }
 ],
 "metadata": {
  "colab": {
   "collapsed_sections": [],
   "name": "LS_DS_421_Text_Data_Assignment.ipynb",
   "provenance": [],
   "version": "0.3.2"
  },
  "kernelspec": {
   "display_name": "U4-S1-NLP (Python3)",
   "language": "python",
   "name": "u4-s1-nlp"
  },
  "language_info": {
   "codemirror_mode": {
    "name": "ipython",
    "version": 3
   },
   "file_extension": ".py",
   "mimetype": "text/x-python",
   "name": "python",
   "nbconvert_exporter": "python",
   "pygments_lexer": "ipython3",
   "version": "3.7.0"
  },
  "toc-autonumbering": false
 },
 "nbformat": 4,
 "nbformat_minor": 4
}
