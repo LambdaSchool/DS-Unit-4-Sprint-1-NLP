{
 "cells": [
  {
   "cell_type": "code",
   "execution_count": 1,
   "metadata": {
    "ExecuteTime": {
     "end_time": "2019-10-01T20:33:05.163367Z",
     "start_time": "2019-10-01T20:33:04.024855Z"
    }
   },
   "outputs": [],
   "source": [
    "%matplotlib inline"
   ]
  },
  {
   "cell_type": "markdown",
   "metadata": {},
   "source": [
    "<img align=\"left\" src=\"https://lever-client-logos.s3.amazonaws.com/864372b1-534c-480e-acd5-9711f850815c-1524247202159.png\" width=200>\n",
    "<br></br>\n",
    "<br></br>\n",
    "\n",
    "# Natural Language Processing (NLP)\n",
    "## *Data Science Unit 4 Sprint 1 Assignment 1*\n",
    "\n",
    "Your goal in assignment: find the attributes of the best & worst coffee shops in the dataset. The text is fairly raw: dates in the review, extra words in the `star_rating` column, etc. You'll probably want to clean that stuff up for a better analysis. \n",
    "\n",
    "Analyze the corpus of text using text visualizations of token frequency. Try cleaning the data as much as possible. Try the following techniques: \n",
    "- Lemmatization\n",
    "- Custom stopword removal\n",
    "\n",
    "Keep in mind the attributes of good tokens. Once you have a solid baseline, layer in the star rating in your visualization(s). Keep part in this assignment - produce a write-up of the attributes of the best and worst coffee shops. Based on your analysis, what makes the best the best and the worst the worst. Use graphs and numbesr from your analysis to support your conclusions. There should be plenty of markdown cells! "
   ]
  },
  {
   "cell_type": "code",
   "execution_count": 2,
   "metadata": {
    "ExecuteTime": {
     "end_time": "2019-10-01T20:33:05.497159Z",
     "start_time": "2019-10-01T20:33:05.165187Z"
    }
   },
   "outputs": [
    {
     "data": {
      "image/jpeg": "[encoded data removed]",
      "text/html": [
       "\n",
       "        <iframe\n",
       "            width=\"400\"\n",
       "            height=\"300\"\n",
       "            src=\"https://www.youtube.com/embed/Jml7NVYm8cs\"\n",
       "            frameborder=\"0\"\n",
       "            allowfullscreen\n",
       "        ></iframe>\n",
       "        "
      ],
      "text/plain": [
       "<IPython.lib.display.YouTubeVideo at 0x7ff32c2d0240>"
      ]
     },
     "execution_count": 2,
     "metadata": {},
     "output_type": "execute_result"
    }
   ],
   "source": [
    "from IPython.display import YouTubeVideo\n",
    "\n",
    "YouTubeVideo('Jml7NVYm8cs')"
   ]
  },
  {
   "cell_type": "code",
   "execution_count": 3,
   "metadata": {
    "ExecuteTime": {
     "end_time": "2019-10-01T20:33:05.504076Z",
     "start_time": "2019-10-01T20:33:05.498704Z"
    }
   },
   "outputs": [
    {
     "data": {
      "text/plain": [
       "'/mnt/c/Users/Asura/Documents/Programming Projects/LSDS/DS-Unit-4-Sprint-1-NLP/module1-text-data'"
      ]
     },
     "execution_count": 3,
     "metadata": {},
     "output_type": "execute_result"
    }
   ],
   "source": [
    "%pwd"
   ]
  },
  {
   "cell_type": "markdown",
   "metadata": {},
   "source": [
    "## Imports"
   ]
  },
  {
   "cell_type": "code",
   "execution_count": 4,
   "metadata": {
    "ExecuteTime": {
     "end_time": "2019-10-01T20:33:27.202021Z",
     "start_time": "2019-10-01T20:33:05.506692Z"
    }
   },
   "outputs": [],
   "source": [
    "import pandas as pd\n",
    "# ---------------- Pandas settings --------------- #\n",
    "# Removes rows and columns truncation of '...'\n",
    "pd.set_option('display.max_rows', 200)\n",
    "pd.set_option('display.max_columns', 200)\n",
    "\n",
    "import squarify\n",
    "import matplotlib.pyplot as plt\n",
    "import seaborn as sns\n",
    "import spacy\n",
    "from spacy import displacy\n",
    "from spacy.matcher import Matcher\n",
    "from spacy.tokenizer import Tokenizer\n",
    "\n",
    "from collections import Counter\n",
    "\n",
    "nlp = spacy.load('en_core_web_lg')"
   ]
  },
  {
   "cell_type": "markdown",
   "metadata": {},
   "source": [
    "### Load the `reviews`"
   ]
  },
  {
   "cell_type": "code",
   "execution_count": 5,
   "metadata": {
    "ExecuteTime": {
     "end_time": "2019-10-01T20:33:27.407613Z",
     "start_time": "2019-10-01T20:33:27.213196Z"
    }
   },
   "outputs": [
    {
     "data": {
      "text/html": [
       "<div>\n",
       "<style scoped>\n",
       "    .dataframe tbody tr th:only-of-type {\n",
       "        vertical-align: middle;\n",
       "    }\n",
       "\n",
       "    .dataframe tbody tr th {\n",
       "        vertical-align: top;\n",
       "    }\n",
       "\n",
       "    .dataframe thead th {\n",
       "        text-align: right;\n",
       "    }\n",
       "</style>\n",
       "<table border=\"1\" class=\"dataframe\">\n",
       "  <thead>\n",
       "    <tr style=\"text-align: right;\">\n",
       "      <th></th>\n",
       "      <th>coffee_shop_name</th>\n",
       "      <th>full_review_text</th>\n",
       "      <th>star_rating</th>\n",
       "    </tr>\n",
       "  </thead>\n",
       "  <tbody>\n",
       "    <tr>\n",
       "      <th>0</th>\n",
       "      <td>The Factory - Cafe With a Soul</td>\n",
       "      <td>11/25/2016 1 check-in Love love loved the atm...</td>\n",
       "      <td>5.0 star rating</td>\n",
       "    </tr>\n",
       "    <tr>\n",
       "      <th>1</th>\n",
       "      <td>The Factory - Cafe With a Soul</td>\n",
       "      <td>12/2/2016 Listed in Date Night: Austin, Ambia...</td>\n",
       "      <td>4.0 star rating</td>\n",
       "    </tr>\n",
       "    <tr>\n",
       "      <th>2</th>\n",
       "      <td>The Factory - Cafe With a Soul</td>\n",
       "      <td>11/30/2016 1 check-in Listed in Brunch Spots ...</td>\n",
       "      <td>4.0 star rating</td>\n",
       "    </tr>\n",
       "    <tr>\n",
       "      <th>3</th>\n",
       "      <td>The Factory - Cafe With a Soul</td>\n",
       "      <td>11/25/2016 Very cool decor! Good drinks Nice ...</td>\n",
       "      <td>2.0 star rating</td>\n",
       "    </tr>\n",
       "    <tr>\n",
       "      <th>4</th>\n",
       "      <td>The Factory - Cafe With a Soul</td>\n",
       "      <td>12/3/2016 1 check-in They are located within ...</td>\n",
       "      <td>4.0 star rating</td>\n",
       "    </tr>\n",
       "  </tbody>\n",
       "</table>\n",
       "</div>"
      ],
      "text/plain": [
       "                  coffee_shop_name  \\\n",
       "0  The Factory - Cafe With a Soul    \n",
       "1  The Factory - Cafe With a Soul    \n",
       "2  The Factory - Cafe With a Soul    \n",
       "3  The Factory - Cafe With a Soul    \n",
       "4  The Factory - Cafe With a Soul    \n",
       "\n",
       "                                    full_review_text        star_rating  \n",
       "0   11/25/2016 1 check-in Love love loved the atm...   5.0 star rating   \n",
       "1   12/2/2016 Listed in Date Night: Austin, Ambia...   4.0 star rating   \n",
       "2   11/30/2016 1 check-in Listed in Brunch Spots ...   4.0 star rating   \n",
       "3   11/25/2016 Very cool decor! Good drinks Nice ...   2.0 star rating   \n",
       "4   12/3/2016 1 check-in They are located within ...   4.0 star rating   "
      ]
     },
     "execution_count": 5,
     "metadata": {},
     "output_type": "execute_result"
    }
   ],
   "source": [
    "url = \"data/yelp_coffeeshop_review_data.csv\"\n",
    "\n",
    "shops = pd.read_csv(url)\n",
    "shops.head()"
   ]
  },
  {
   "cell_type": "markdown",
   "metadata": {},
   "source": [
    "## Wrangle"
   ]
  },
  {
   "cell_type": "markdown",
   "metadata": {},
   "source": [
    "#### Remove `' star rating'` from `star_rating` column, convert to `float`"
   ]
  },
  {
   "cell_type": "code",
   "execution_count": 6,
   "metadata": {
    "ExecuteTime": {
     "end_time": "2019-10-01T20:33:27.479329Z",
     "start_time": "2019-10-01T20:33:27.409543Z"
    }
   },
   "outputs": [
    {
     "data": {
      "text/html": [
       "<div>\n",
       "<style scoped>\n",
       "    .dataframe tbody tr th:only-of-type {\n",
       "        vertical-align: middle;\n",
       "    }\n",
       "\n",
       "    .dataframe tbody tr th {\n",
       "        vertical-align: top;\n",
       "    }\n",
       "\n",
       "    .dataframe thead th {\n",
       "        text-align: right;\n",
       "    }\n",
       "</style>\n",
       "<table border=\"1\" class=\"dataframe\">\n",
       "  <thead>\n",
       "    <tr style=\"text-align: right;\">\n",
       "      <th></th>\n",
       "      <th>rating</th>\n",
       "    </tr>\n",
       "  </thead>\n",
       "  <tbody>\n",
       "    <tr>\n",
       "      <th>5.0</th>\n",
       "      <td>0.496324</td>\n",
       "    </tr>\n",
       "    <tr>\n",
       "      <th>4.0</th>\n",
       "      <td>0.309874</td>\n",
       "    </tr>\n",
       "    <tr>\n",
       "      <th>3.0</th>\n",
       "      <td>0.096901</td>\n",
       "    </tr>\n",
       "    <tr>\n",
       "      <th>2.0</th>\n",
       "      <td>0.060399</td>\n",
       "    </tr>\n",
       "    <tr>\n",
       "      <th>1.0</th>\n",
       "      <td>0.036502</td>\n",
       "    </tr>\n",
       "  </tbody>\n",
       "</table>\n",
       "</div>"
      ],
      "text/plain": [
       "       rating\n",
       "5.0  0.496324\n",
       "4.0  0.309874\n",
       "3.0  0.096901\n",
       "2.0  0.060399\n",
       "1.0  0.036502"
      ]
     },
     "execution_count": 6,
     "metadata": {},
     "output_type": "execute_result"
    }
   ],
   "source": [
    "shops['rating'] = shops['star_rating'].str.replace(' star rating', '').astype('float')\n",
    "del shops['star_rating']\n",
    "shops['rating'].value_counts(normalize=True).to_frame()"
   ]
  },
  {
   "cell_type": "markdown",
   "metadata": {},
   "source": [
    "#### Extract `date` from `full_review_text` column to new date column, convert to `datetime`"
   ]
  },
  {
   "cell_type": "code",
   "execution_count": 7,
   "metadata": {
    "ExecuteTime": {
     "end_time": "2019-10-01T20:33:29.300328Z",
     "start_time": "2019-10-01T20:33:27.485995Z"
    }
   },
   "outputs": [
    {
     "data": {
      "text/html": [
       "<div>\n",
       "<style scoped>\n",
       "    .dataframe tbody tr th:only-of-type {\n",
       "        vertical-align: middle;\n",
       "    }\n",
       "\n",
       "    .dataframe tbody tr th {\n",
       "        vertical-align: top;\n",
       "    }\n",
       "\n",
       "    .dataframe thead th {\n",
       "        text-align: right;\n",
       "    }\n",
       "</style>\n",
       "<table border=\"1\" class=\"dataframe\">\n",
       "  <thead>\n",
       "    <tr style=\"text-align: right;\">\n",
       "      <th></th>\n",
       "      <th>coffee_shop_name</th>\n",
       "      <th>full_review_text</th>\n",
       "      <th>rating</th>\n",
       "      <th>date</th>\n",
       "    </tr>\n",
       "  </thead>\n",
       "  <tbody>\n",
       "    <tr>\n",
       "      <th>3540</th>\n",
       "      <td>patika</td>\n",
       "      <td>this is one of the top coffee bars in town wit...</td>\n",
       "      <td>5.0</td>\n",
       "      <td>10/14/2015</td>\n",
       "    </tr>\n",
       "    <tr>\n",
       "      <th>4663</th>\n",
       "      <td>elixer coffee</td>\n",
       "      <td>the lattes are amaaaazing. the service --impec...</td>\n",
       "      <td>5.0</td>\n",
       "      <td>2/13/2012</td>\n",
       "    </tr>\n",
       "    <tr>\n",
       "      <th>4037</th>\n",
       "      <td>seventh flag coffee co</td>\n",
       "      <td>1 check-in on my infinite journey of finding m...</td>\n",
       "      <td>3.0</td>\n",
       "      <td>10/7/2015</td>\n",
       "    </tr>\n",
       "    <tr>\n",
       "      <th>6088</th>\n",
       "      <td>epoch coffee</td>\n",
       "      <td>1 check-in on convenience, really good wireles...</td>\n",
       "      <td>3.0</td>\n",
       "      <td>3/14/2015</td>\n",
       "    </tr>\n",
       "    <tr>\n",
       "      <th>5282</th>\n",
       "      <td>genuine joe</td>\n",
       "      <td>plenty of open space to work, read, or just lo...</td>\n",
       "      <td>4.0</td>\n",
       "      <td>5/14/2015</td>\n",
       "    </tr>\n",
       "    <tr>\n",
       "      <th>5855</th>\n",
       "      <td>kick butt coffee music &amp; booze</td>\n",
       "      <td>i love kick butt! large sizes, super strong co...</td>\n",
       "      <td>5.0</td>\n",
       "      <td>9/14/2016</td>\n",
       "    </tr>\n",
       "    <tr>\n",
       "      <th>4519</th>\n",
       "      <td>friends &amp; neighbors</td>\n",
       "      <td>i was really excited about coming here, becaus...</td>\n",
       "      <td>3.0</td>\n",
       "      <td>9/24/2014</td>\n",
       "    </tr>\n",
       "    <tr>\n",
       "      <th>2554</th>\n",
       "      <td>flightpath coffeehouse</td>\n",
       "      <td>flightpath had an excellent cortado. their pre...</td>\n",
       "      <td>3.0</td>\n",
       "      <td>10/11/2016</td>\n",
       "    </tr>\n",
       "    <tr>\n",
       "      <th>1442</th>\n",
       "      <td>holy grounds</td>\n",
       "      <td>delicious coffee and they have more food optio...</td>\n",
       "      <td>4.0</td>\n",
       "      <td>12/16/2015</td>\n",
       "    </tr>\n",
       "    <tr>\n",
       "      <th>4321</th>\n",
       "      <td>sa-ten</td>\n",
       "      <td>updated review all of us who had the food from...</td>\n",
       "      <td>1.0</td>\n",
       "      <td>6/15/2016</td>\n",
       "    </tr>\n",
       "  </tbody>\n",
       "</table>\n",
       "</div>"
      ],
      "text/plain": [
       "                    coffee_shop_name  \\\n",
       "3540                          patika   \n",
       "4663                   elixer coffee   \n",
       "4037          seventh flag coffee co   \n",
       "6088                    epoch coffee   \n",
       "5282                     genuine joe   \n",
       "5855  kick butt coffee music & booze   \n",
       "4519             friends & neighbors   \n",
       "2554          flightpath coffeehouse   \n",
       "1442                    holy grounds   \n",
       "4321                          sa-ten   \n",
       "\n",
       "                                       full_review_text  rating        date  \n",
       "3540  this is one of the top coffee bars in town wit...     5.0  10/14/2015  \n",
       "4663  the lattes are amaaaazing. the service --impec...     5.0   2/13/2012  \n",
       "4037  1 check-in on my infinite journey of finding m...     3.0   10/7/2015  \n",
       "6088  1 check-in on convenience, really good wireles...     3.0   3/14/2015  \n",
       "5282  plenty of open space to work, read, or just lo...     4.0   5/14/2015  \n",
       "5855  i love kick butt! large sizes, super strong co...     5.0   9/14/2016  \n",
       "4519  i was really excited about coming here, becaus...     3.0   9/24/2014  \n",
       "2554  flightpath had an excellent cortado. their pre...     3.0  10/11/2016  \n",
       "1442  delicious coffee and they have more food optio...     4.0  12/16/2015  \n",
       "4321  updated review all of us who had the food from...     1.0   6/15/2016  "
      ]
     },
     "execution_count": 7,
     "metadata": {},
     "output_type": "execute_result"
    }
   ],
   "source": [
    "shops['date'] = shops['full_review_text'].str.split(expand=True)[0]\n",
    "shops['full_review_text'] = shops['full_review_text'].apply(lambda x: \" \".join(x.split()[1:]))\n",
    "shops['coffee_shop_name'] = shops['coffee_shop_name'].str.lower().str.strip()\n",
    "shops['full_review_text'] = shops['full_review_text'].str.lower().str.strip()\n",
    "shops.sample(10)"
   ]
  },
  {
   "cell_type": "code",
   "execution_count": 8,
   "metadata": {
    "ExecuteTime": {
     "end_time": "2019-10-01T20:33:29.308288Z",
     "start_time": "2019-10-01T20:33:29.303190Z"
    }
   },
   "outputs": [
    {
     "name": "stdout",
     "output_type": "stream",
     "text": [
      "5 check-ins i have to admit the first time i went in here i was not impressed. there was a cart overflowing with dirty dishes. the garbage was filled to capacity, the cream and sugar area was sticky and gross. and honestly, the place smelled. i was pretty put off. i didn't want to go back...but i did. i *must* have caught them right after a rush. while i'm not impressed with their coffee their lattes are the best i've had in austin. hands down. i've had the coffee twice now. i go by around 4pm and maybe that's a strange hour but one time my coffee was luke warm and the next time it tasted burnt. after a wicked crap day i stopped again and said it would be the last time, that's when i got the latte. + that latte was ordered, paid for and in my hands in less than 2 minutes. super barista! + that latte was goooooooood + the employees are very polite. + i didn't have to repeat my drink order + there were zero snarky comments when i asked where the 'sugar free' list was (you know who i'm talking about...mermaid logos, attitude problems, over priced everything?) - not a big fan of the coffee. *might* try that one more time i don't know if i'll swing by to try and \"adult bev\" any time soon after work but i will eventually and update from there.\n"
     ]
    }
   ],
   "source": [
    "print(shops.loc[5934, 'full_review_text'])"
   ]
  },
  {
   "cell_type": "markdown",
   "metadata": {},
   "source": [
    "### Extract `check-ins`, as int"
   ]
  },
  {
   "cell_type": "code",
   "execution_count": 9,
   "metadata": {
    "ExecuteTime": {
     "end_time": "2019-10-01T20:33:29.530132Z",
     "start_time": "2019-10-01T20:33:29.310417Z"
    }
   },
   "outputs": [
    {
     "data": {
      "text/html": [
       "<div>\n",
       "<style scoped>\n",
       "    .dataframe tbody tr th:only-of-type {\n",
       "        vertical-align: middle;\n",
       "    }\n",
       "\n",
       "    .dataframe tbody tr th {\n",
       "        vertical-align: top;\n",
       "    }\n",
       "\n",
       "    .dataframe thead th {\n",
       "        text-align: right;\n",
       "    }\n",
       "</style>\n",
       "<table border=\"1\" class=\"dataframe\">\n",
       "  <thead>\n",
       "    <tr style=\"text-align: right;\">\n",
       "      <th></th>\n",
       "      <th>coffee_shop_name</th>\n",
       "      <th>full_review_text</th>\n",
       "      <th>rating</th>\n",
       "      <th>date</th>\n",
       "      <th>check-ins</th>\n",
       "    </tr>\n",
       "  </thead>\n",
       "  <tbody>\n",
       "    <tr>\n",
       "      <th>1329</th>\n",
       "      <td>flitch coffee</td>\n",
       "      <td>erica is great! ,,,and she makes a great ameri...</td>\n",
       "      <td>5.0</td>\n",
       "      <td>4/23/2015</td>\n",
       "      <td>0.0</td>\n",
       "    </tr>\n",
       "    <tr>\n",
       "      <th>4237</th>\n",
       "      <td>irie bean coffee bar</td>\n",
       "      <td>having been to 6-7 coffee shops around austin....</td>\n",
       "      <td>5.0</td>\n",
       "      <td>5/22/2014</td>\n",
       "      <td>0.0</td>\n",
       "    </tr>\n",
       "    <tr>\n",
       "      <th>3056</th>\n",
       "      <td>halcyon</td>\n",
       "      <td>really needed some coffee around midnight sinc...</td>\n",
       "      <td>4.0</td>\n",
       "      <td>7/24/2015</td>\n",
       "      <td>0.0</td>\n",
       "    </tr>\n",
       "    <tr>\n",
       "      <th>2222</th>\n",
       "      <td>flat track coffee</td>\n",
       "      <td>matt's a maestro. the best, most flavorful cup...</td>\n",
       "      <td>5.0</td>\n",
       "      <td>10/11/2014</td>\n",
       "      <td>0.0</td>\n",
       "    </tr>\n",
       "    <tr>\n",
       "      <th>4975</th>\n",
       "      <td>once over coffee bar</td>\n",
       "      <td>the coffee bar part was clean; crowd looked hi...</td>\n",
       "      <td>4.0</td>\n",
       "      <td>6/30/2015</td>\n",
       "      <td>0.0</td>\n",
       "    </tr>\n",
       "    <tr>\n",
       "      <th>519</th>\n",
       "      <td>monkey nest coffee</td>\n",
       "      <td>schokolade schimpanse latte is by far the best...</td>\n",
       "      <td>5.0</td>\n",
       "      <td>4/9/2016</td>\n",
       "      <td>0.0</td>\n",
       "    </tr>\n",
       "    <tr>\n",
       "      <th>1383</th>\n",
       "      <td>caffe medici</td>\n",
       "      <td>i usually go to the caffé medici on campus an...</td>\n",
       "      <td>4.0</td>\n",
       "      <td>11/6/2014</td>\n",
       "      <td>1.0</td>\n",
       "    </tr>\n",
       "    <tr>\n",
       "      <th>3693</th>\n",
       "      <td>the hideout coffeehouse</td>\n",
       "      <td>i stopped in here only because i found parkin...</td>\n",
       "      <td>3.0</td>\n",
       "      <td>11/29/2015</td>\n",
       "      <td>1.0</td>\n",
       "    </tr>\n",
       "    <tr>\n",
       "      <th>1057</th>\n",
       "      <td>epoch coffee</td>\n",
       "      <td>love finding coffee spots. after a disappointi...</td>\n",
       "      <td>5.0</td>\n",
       "      <td>12/28/2014</td>\n",
       "      <td>0.0</td>\n",
       "    </tr>\n",
       "    <tr>\n",
       "      <th>5135</th>\n",
       "      <td>halcyon</td>\n",
       "      <td>halcyon is the perfect spot for so many things...</td>\n",
       "      <td>5.0</td>\n",
       "      <td>6/23/2016</td>\n",
       "      <td>0.0</td>\n",
       "    </tr>\n",
       "  </tbody>\n",
       "</table>\n",
       "</div>"
      ],
      "text/plain": [
       "             coffee_shop_name  \\\n",
       "1329            flitch coffee   \n",
       "4237     irie bean coffee bar   \n",
       "3056                  halcyon   \n",
       "2222        flat track coffee   \n",
       "4975     once over coffee bar   \n",
       "519        monkey nest coffee   \n",
       "1383             caffe medici   \n",
       "3693  the hideout coffeehouse   \n",
       "1057             epoch coffee   \n",
       "5135                  halcyon   \n",
       "\n",
       "                                       full_review_text  rating        date  \\\n",
       "1329  erica is great! ,,,and she makes a great ameri...     5.0   4/23/2015   \n",
       "4237  having been to 6-7 coffee shops around austin....     5.0   5/22/2014   \n",
       "3056  really needed some coffee around midnight sinc...     4.0   7/24/2015   \n",
       "2222  matt's a maestro. the best, most flavorful cup...     5.0  10/11/2014   \n",
       "4975  the coffee bar part was clean; crowd looked hi...     4.0   6/30/2015   \n",
       "519   schokolade schimpanse latte is by far the best...     5.0    4/9/2016   \n",
       "1383   i usually go to the caffé medici on campus an...     4.0   11/6/2014   \n",
       "3693   i stopped in here only because i found parkin...     3.0  11/29/2015   \n",
       "1057  love finding coffee spots. after a disappointi...     5.0  12/28/2014   \n",
       "5135  halcyon is the perfect spot for so many things...     5.0   6/23/2016   \n",
       "\n",
       "      check-ins  \n",
       "1329        0.0  \n",
       "4237        0.0  \n",
       "3056        0.0  \n",
       "2222        0.0  \n",
       "4975        0.0  \n",
       "519         0.0  \n",
       "1383        1.0  \n",
       "3693        1.0  \n",
       "1057        0.0  \n",
       "5135        0.0  "
      ]
     },
     "execution_count": 9,
     "metadata": {},
     "output_type": "execute_result"
    }
   ],
   "source": [
    "shops['check-ins'] = shops['full_review_text'].str.extract(r\"((\\d+) check-ins?)\")[1].astype('float').fillna(0)\n",
    "shops['full_review_text'] = shops['full_review_text'].str.replace(r\"(\\d+ check-ins?)\", \"\")\n",
    "shops.sample(10)"
   ]
  },
  {
   "cell_type": "markdown",
   "metadata": {},
   "source": [
    "### Remove `punctuations`"
   ]
  },
  {
   "cell_type": "code",
   "execution_count": 10,
   "metadata": {
    "ExecuteTime": {
     "end_time": "2019-10-01T20:33:29.593634Z",
     "start_time": "2019-10-01T20:33:29.531967Z"
    }
   },
   "outputs": [
    {
     "name": "stdout",
     "output_type": "stream",
     "text": [
      " i have to admit the first time i went in here i was not impressed. there was a cart overflowing with dirty dishes. the garbage was filled to capacity, the cream and sugar area was sticky and gross. and honestly, the place smelled. i was pretty put off. i didn't want to go back...but i did. i *must* have caught them right after a rush. while i'm not impressed with their coffee their lattes are the best i've had in austin. hands down. i've had the coffee twice now. i go by around 4pm and maybe that's a strange hour but one time my coffee was luke warm and the next time it tasted burnt. after a wicked crap day i stopped again and said it would be the last time, that's when i got the latte. + that latte was ordered, paid for and in my hands in less than 2 minutes. super barista! + that latte was goooooooood + the employees are very polite. + i didn't have to repeat my drink order + there were zero snarky comments when i asked where the 'sugar free' list was (you know who i'm talking about...mermaid logos, attitude problems, over priced everything?) - not a big fan of the coffee. *might* try that one more time i don't know if i'll swing by to try and \"adult bev\" any time soon after work but i will eventually and update from there.\n",
      " i have to admit the first time i went in here i was not impressed there was a cart overflowing with dirty dishes the garbage was filled to capacity the cream and sugar area was sticky and gross and honestly the place smelled i was pretty put off i didnt want to go backbut i did i must have caught them right after a rush while im not impressed with their coffee their lattes are the best ive had in austin hands down ive had the coffee twice now i go by around 4pm and maybe thats a strange hour but one time my coffee was luke warm and the next time it tasted burnt after a wicked crap day i stopped again and said it would be the last time thats when i got the latte  that latte was ordered paid for and in my hands in less than 2 minutes super barista  that latte was goooooooood  the employees are very polite  i didnt have to repeat my drink order  there were zero snarky comments when i asked where the sugar free list was you know who im talking aboutmermaid logos attitude problems over priced everything  not a big fan of the coffee might try that one more time i dont know if ill swing by to try and adult bev any time soon after work but i will eventually and update from there\n"
     ]
    }
   ],
   "source": [
    "import string\n",
    "def remove_punc(text):\n",
    "    return text.translate(str.maketrans('', '', string.punctuation))\n",
    "print(shops.loc[5934, 'full_review_text'])\n",
    "shops['full_review_text'] = shops['full_review_text'].apply(remove_punc)\n",
    "\n",
    "print(shops.loc[5934, 'full_review_text'])"
   ]
  },
  {
   "cell_type": "markdown",
   "metadata": {},
   "source": [
    "## Processing raw text with Spacy\n",
    "\n",
    "### Lemmatize text"
   ]
  },
  {
   "cell_type": "code",
   "execution_count": 11,
   "metadata": {
    "ExecuteTime": {
     "end_time": "2019-10-01T20:35:28.187227Z",
     "start_time": "2019-10-01T20:33:29.595985Z"
    }
   },
   "outputs": [
    {
     "data": {
      "text/html": [
       "<div>\n",
       "<style scoped>\n",
       "    .dataframe tbody tr th:only-of-type {\n",
       "        vertical-align: middle;\n",
       "    }\n",
       "\n",
       "    .dataframe tbody tr th {\n",
       "        vertical-align: top;\n",
       "    }\n",
       "\n",
       "    .dataframe thead th {\n",
       "        text-align: right;\n",
       "    }\n",
       "</style>\n",
       "<table border=\"1\" class=\"dataframe\">\n",
       "  <thead>\n",
       "    <tr style=\"text-align: right;\">\n",
       "      <th></th>\n",
       "      <th>coffee_shop_name</th>\n",
       "      <th>full_review_text</th>\n",
       "      <th>rating</th>\n",
       "      <th>date</th>\n",
       "      <th>check-ins</th>\n",
       "      <th>lemmatize_full_review_text</th>\n",
       "    </tr>\n",
       "  </thead>\n",
       "  <tbody>\n",
       "    <tr>\n",
       "      <th>0</th>\n",
       "      <td>the factory - cafe with a soul</td>\n",
       "      <td>love love loved the atmosphere every corner o...</td>\n",
       "      <td>5.0</td>\n",
       "      <td>11/25/2016</td>\n",
       "      <td>1.0</td>\n",
       "      <td>love love love the atmosphere every corner of ...</td>\n",
       "    </tr>\n",
       "    <tr>\n",
       "      <th>1</th>\n",
       "      <td>the factory - cafe with a soul</td>\n",
       "      <td>listed in date night austin ambiance in austin...</td>\n",
       "      <td>4.0</td>\n",
       "      <td>12/2/2016</td>\n",
       "      <td>0.0</td>\n",
       "      <td>list in date night austin ambiance in austin b...</td>\n",
       "    </tr>\n",
       "    <tr>\n",
       "      <th>2</th>\n",
       "      <td>the factory - cafe with a soul</td>\n",
       "      <td>listed in brunch spots i loved the eclectic a...</td>\n",
       "      <td>4.0</td>\n",
       "      <td>11/30/2016</td>\n",
       "      <td>1.0</td>\n",
       "      <td>list in brunch spot i love the eclectic and ho...</td>\n",
       "    </tr>\n",
       "    <tr>\n",
       "      <th>3</th>\n",
       "      <td>the factory - cafe with a soul</td>\n",
       "      <td>very cool decor good drinks nice seating howev...</td>\n",
       "      <td>2.0</td>\n",
       "      <td>11/25/2016</td>\n",
       "      <td>0.0</td>\n",
       "      <td>very cool decor good drink nice seating howeve...</td>\n",
       "    </tr>\n",
       "    <tr>\n",
       "      <th>4</th>\n",
       "      <td>the factory - cafe with a soul</td>\n",
       "      <td>they are located within the northcross mall s...</td>\n",
       "      <td>4.0</td>\n",
       "      <td>12/3/2016</td>\n",
       "      <td>1.0</td>\n",
       "      <td>be locate within the northcross mall shopping ...</td>\n",
       "    </tr>\n",
       "  </tbody>\n",
       "</table>\n",
       "</div>"
      ],
      "text/plain": [
       "                 coffee_shop_name  \\\n",
       "0  the factory - cafe with a soul   \n",
       "1  the factory - cafe with a soul   \n",
       "2  the factory - cafe with a soul   \n",
       "3  the factory - cafe with a soul   \n",
       "4  the factory - cafe with a soul   \n",
       "\n",
       "                                    full_review_text  rating        date  \\\n",
       "0   love love loved the atmosphere every corner o...     5.0  11/25/2016   \n",
       "1  listed in date night austin ambiance in austin...     4.0   12/2/2016   \n",
       "2   listed in brunch spots i loved the eclectic a...     4.0  11/30/2016   \n",
       "3  very cool decor good drinks nice seating howev...     2.0  11/25/2016   \n",
       "4   they are located within the northcross mall s...     4.0   12/3/2016   \n",
       "\n",
       "   check-ins                         lemmatize_full_review_text  \n",
       "0        1.0  love love love the atmosphere every corner of ...  \n",
       "1        0.0  list in date night austin ambiance in austin b...  \n",
       "2        1.0  list in brunch spot i love the eclectic and ho...  \n",
       "3        0.0  very cool decor good drink nice seating howeve...  \n",
       "4        1.0  be locate within the northcross mall shopping ...  "
      ]
     },
     "execution_count": 11,
     "metadata": {},
     "output_type": "execute_result"
    }
   ],
   "source": [
    "def lemmatize_txt(text):\n",
    "    lemmas = [] # Store lemmas\n",
    "    doc = nlp(text) # Instantiate doc object\n",
    "    # Loop through each token in text\n",
    "    for token in doc:\n",
    "        if token.lemma_:\n",
    "            if not token.lemma_ == '-PRON-':\n",
    "                lemmas.append(token.lemma_)\n",
    "    return ' '.join(lemmas)\n",
    "shops['lemmatize_full_review_text'] = shops['full_review_text'].apply(lemmatize_txt)\n",
    "shops['lemmatize_full_review_text'] = shops['lemmatize_full_review_text'].str.strip()\n",
    "shops.head()"
   ]
  },
  {
   "cell_type": "code",
   "execution_count": 12,
   "metadata": {
    "ExecuteTime": {
     "end_time": "2019-10-01T20:35:28.194417Z",
     "start_time": "2019-10-01T20:35:28.189344Z"
    }
   },
   "outputs": [
    {
     "data": {
      "text/plain": [
       "'love love love the atmosphere every corner of the coffee shop have own style and there be swing i order the matcha latte and be muy fantastico order and get drink be pretty streamlined i order on an ipad which include all beverage selection that range from coffee to wine desire level of sweetness and a checkout system i get latte within minute i be hope for a typical heart or feather on latte but find list out all the possibility of what the art may be any idea'"
      ]
     },
     "execution_count": 12,
     "metadata": {},
     "output_type": "execute_result"
    }
   ],
   "source": [
    "shops.loc[0, 'lemmatize_full_review_text']"
   ]
  },
  {
   "cell_type": "code",
   "execution_count": 13,
   "metadata": {
    "ExecuteTime": {
     "end_time": "2019-10-01T20:37:23.926508Z",
     "start_time": "2019-10-01T20:35:28.196724Z"
    },
    "scrolled": false
   },
   "outputs": [
    {
     "data": {
      "text/html": [
       "<div>\n",
       "<style scoped>\n",
       "    .dataframe tbody tr th:only-of-type {\n",
       "        vertical-align: middle;\n",
       "    }\n",
       "\n",
       "    .dataframe tbody tr th {\n",
       "        vertical-align: top;\n",
       "    }\n",
       "\n",
       "    .dataframe thead th {\n",
       "        text-align: right;\n",
       "    }\n",
       "</style>\n",
       "<table border=\"1\" class=\"dataframe\">\n",
       "  <thead>\n",
       "    <tr style=\"text-align: right;\">\n",
       "      <th></th>\n",
       "      <th>coffee_shop_name</th>\n",
       "      <th>full_review_text</th>\n",
       "      <th>rating</th>\n",
       "      <th>date</th>\n",
       "      <th>check-ins</th>\n",
       "      <th>lemmatize_full_review_text</th>\n",
       "      <th>tokens</th>\n",
       "    </tr>\n",
       "  </thead>\n",
       "  <tbody>\n",
       "    <tr>\n",
       "      <th>0</th>\n",
       "      <td>the factory - cafe with a soul</td>\n",
       "      <td>love love loved the atmosphere every corner o...</td>\n",
       "      <td>5.0</td>\n",
       "      <td>11/25/2016</td>\n",
       "      <td>1.0</td>\n",
       "      <td>love love love the atmosphere every corner of ...</td>\n",
       "      <td>[love, love, love, atmosphere, corner, style, ...</td>\n",
       "    </tr>\n",
       "    <tr>\n",
       "      <th>1</th>\n",
       "      <td>the factory - cafe with a soul</td>\n",
       "      <td>listed in date night austin ambiance in austin...</td>\n",
       "      <td>4.0</td>\n",
       "      <td>12/2/2016</td>\n",
       "      <td>0.0</td>\n",
       "      <td>list in date night austin ambiance in austin b...</td>\n",
       "      <td>[list, date, night, austin, ambiance, austin, ...</td>\n",
       "    </tr>\n",
       "    <tr>\n",
       "      <th>2</th>\n",
       "      <td>the factory - cafe with a soul</td>\n",
       "      <td>listed in brunch spots i loved the eclectic a...</td>\n",
       "      <td>4.0</td>\n",
       "      <td>11/30/2016</td>\n",
       "      <td>1.0</td>\n",
       "      <td>list in brunch spot i love the eclectic and ho...</td>\n",
       "      <td>[list, brunch, spot, love, eclectic, homey, pl...</td>\n",
       "    </tr>\n",
       "    <tr>\n",
       "      <th>3</th>\n",
       "      <td>the factory - cafe with a soul</td>\n",
       "      <td>very cool decor good drinks nice seating howev...</td>\n",
       "      <td>2.0</td>\n",
       "      <td>11/25/2016</td>\n",
       "      <td>0.0</td>\n",
       "      <td>very cool decor good drink nice seating howeve...</td>\n",
       "      <td>[cool, decor, good, drink, nice, seating, over...</td>\n",
       "    </tr>\n",
       "    <tr>\n",
       "      <th>4</th>\n",
       "      <td>the factory - cafe with a soul</td>\n",
       "      <td>they are located within the northcross mall s...</td>\n",
       "      <td>4.0</td>\n",
       "      <td>12/3/2016</td>\n",
       "      <td>1.0</td>\n",
       "      <td>be locate within the northcross mall shopping ...</td>\n",
       "      <td>[locate, northcross, mall, shopping, center, f...</td>\n",
       "    </tr>\n",
       "  </tbody>\n",
       "</table>\n",
       "</div>"
      ],
      "text/plain": [
       "                 coffee_shop_name  \\\n",
       "0  the factory - cafe with a soul   \n",
       "1  the factory - cafe with a soul   \n",
       "2  the factory - cafe with a soul   \n",
       "3  the factory - cafe with a soul   \n",
       "4  the factory - cafe with a soul   \n",
       "\n",
       "                                    full_review_text  rating        date  \\\n",
       "0   love love loved the atmosphere every corner o...     5.0  11/25/2016   \n",
       "1  listed in date night austin ambiance in austin...     4.0   12/2/2016   \n",
       "2   listed in brunch spots i loved the eclectic a...     4.0  11/30/2016   \n",
       "3  very cool decor good drinks nice seating howev...     2.0  11/25/2016   \n",
       "4   they are located within the northcross mall s...     4.0   12/3/2016   \n",
       "\n",
       "   check-ins                         lemmatize_full_review_text  \\\n",
       "0        1.0  love love love the atmosphere every corner of ...   \n",
       "1        0.0  list in date night austin ambiance in austin b...   \n",
       "2        1.0  list in brunch spot i love the eclectic and ho...   \n",
       "3        0.0  very cool decor good drink nice seating howeve...   \n",
       "4        1.0  be locate within the northcross mall shopping ...   \n",
       "\n",
       "                                              tokens  \n",
       "0  [love, love, love, atmosphere, corner, style, ...  \n",
       "1  [list, date, night, austin, ambiance, austin, ...  \n",
       "2  [list, brunch, spot, love, eclectic, homey, pl...  \n",
       "3  [cool, decor, good, drink, nice, seating, over...  \n",
       "4  [locate, northcross, mall, shopping, center, f...  "
      ]
     },
     "execution_count": 13,
     "metadata": {},
     "output_type": "execute_result"
    }
   ],
   "source": [
    "STOPWORDS = nlp.Defaults.stop_words.union([' ', 'coffee', 'shop'])\n",
    "\n",
    "def tokenize_text(text):\n",
    "    tokens = []\n",
    "    doc = nlp(text) # Instantiate doc object\n",
    "    \"\"\"Add tokens w/o Stop Words\"\"\"\n",
    "    for token in doc:\n",
    "        if token.text not in STOPWORDS:\n",
    "            tokens.append(token.text)\n",
    "    return tokens\n",
    "\n",
    "shops['tokens'] = shops['lemmatize_full_review_text'].apply(tokenize_text)\n",
    "shops.head()"
   ]
  },
  {
   "cell_type": "markdown",
   "metadata": {},
   "source": [
    "## How do we want to analyze these coffee shop tokens? \n",
    "\n",
    "- Overall Word / Token Count\n",
    "- View Counts by Rating \n",
    "- *Hint:* a 'bad' coffee shops has a rating betweeen 1 & 3 based on the distribution of ratings. A 'good' coffee shop is a 4 or 5. "
   ]
  },
  {
   "cell_type": "code",
   "execution_count": 14,
   "metadata": {
    "ExecuteTime": {
     "end_time": "2019-10-01T20:37:23.937052Z",
     "start_time": "2019-10-01T20:37:23.928349Z"
    }
   },
   "outputs": [],
   "source": [
    "def count(docs):\n",
    "    word_counts = Counter()\n",
    "    appears_in = Counter()\n",
    "\n",
    "    total_docs = len(docs)\n",
    "\n",
    "    for doc in docs:\n",
    "        word_counts.update(doc)\n",
    "        appears_in.update(set(doc))\n",
    "\n",
    "    temp = zip(word_counts.keys(), word_counts.values())\n",
    "\n",
    "    wc = pd.DataFrame(temp, columns = ['word', 'count'])\n",
    "\n",
    "    wc['rank'] = wc['count'].rank(method='first', ascending=False)\n",
    "    total = wc['count'].sum()\n",
    "\n",
    "    wc['pct_total'] = wc['count'].apply(lambda x: x / total)\n",
    "\n",
    "    wc = wc.sort_values(by='rank')\n",
    "    wc['cul_pct_total'] = wc['pct_total'].cumsum()\n",
    "\n",
    "    t2 = zip(appears_in.keys(), appears_in.values())\n",
    "    ac = pd.DataFrame(t2, columns=['word', 'appears_in'])\n",
    "    wc = ac.merge(wc, on='word')\n",
    "\n",
    "    wc['appears_in_pct'] = wc['appears_in'].apply(lambda x: x / total_docs)\n",
    "\n",
    "    return wc.sort_values(by='rank')"
   ]
  },
  {
   "cell_type": "code",
   "execution_count": 15,
   "metadata": {
    "ExecuteTime": {
     "end_time": "2019-10-01T20:37:24.784113Z",
     "start_time": "2019-10-01T20:37:23.938904Z"
    },
    "scrolled": true
   },
   "outputs": [
    {
     "data": {
      "text/html": [
       "<div>\n",
       "<style scoped>\n",
       "    .dataframe tbody tr th:only-of-type {\n",
       "        vertical-align: middle;\n",
       "    }\n",
       "\n",
       "    .dataframe tbody tr th {\n",
       "        vertical-align: top;\n",
       "    }\n",
       "\n",
       "    .dataframe thead th {\n",
       "        text-align: right;\n",
       "    }\n",
       "</style>\n",
       "<table border=\"1\" class=\"dataframe\">\n",
       "  <thead>\n",
       "    <tr style=\"text-align: right;\">\n",
       "      <th></th>\n",
       "      <th>word</th>\n",
       "      <th>appears_in</th>\n",
       "      <th>count</th>\n",
       "      <th>rank</th>\n",
       "      <th>pct_total</th>\n",
       "      <th>cul_pct_total</th>\n",
       "      <th>appears_in_pct</th>\n",
       "    </tr>\n",
       "  </thead>\n",
       "  <tbody>\n",
       "    <tr>\n",
       "      <th>109</th>\n",
       "      <td>place</td>\n",
       "      <td>3888</td>\n",
       "      <td>6044</td>\n",
       "      <td>1.0</td>\n",
       "      <td>0.018027</td>\n",
       "      <td>0.018027</td>\n",
       "      <td>0.510504</td>\n",
       "    </tr>\n",
       "    <tr>\n",
       "      <th>158</th>\n",
       "      <td>good</td>\n",
       "      <td>3598</td>\n",
       "      <td>5399</td>\n",
       "      <td>2.0</td>\n",
       "      <td>0.016103</td>\n",
       "      <td>0.034130</td>\n",
       "      <td>0.472426</td>\n",
       "    </tr>\n",
       "    <tr>\n",
       "      <th>114</th>\n",
       "      <td>great</td>\n",
       "      <td>2853</td>\n",
       "      <td>3946</td>\n",
       "      <td>3.0</td>\n",
       "      <td>0.011769</td>\n",
       "      <td>0.045899</td>\n",
       "      <td>0.374606</td>\n",
       "    </tr>\n",
       "    <tr>\n",
       "      <th>46</th>\n",
       "      <td></td>\n",
       "      <td>1874</td>\n",
       "      <td>3873</td>\n",
       "      <td>4.0</td>\n",
       "      <td>0.011552</td>\n",
       "      <td>0.057450</td>\n",
       "      <td>0.246061</td>\n",
       "    </tr>\n",
       "    <tr>\n",
       "      <th>151</th>\n",
       "      <td>like</td>\n",
       "      <td>2260</td>\n",
       "      <td>3350</td>\n",
       "      <td>5.0</td>\n",
       "      <td>0.009992</td>\n",
       "      <td>0.067442</td>\n",
       "      <td>0.296744</td>\n",
       "    </tr>\n",
       "  </tbody>\n",
       "</table>\n",
       "</div>"
      ],
      "text/plain": [
       "      word  appears_in  count  rank  pct_total  cul_pct_total  appears_in_pct\n",
       "109  place        3888   6044   1.0   0.018027       0.018027        0.510504\n",
       "158   good        3598   5399   2.0   0.016103       0.034130        0.472426\n",
       "114  great        2853   3946   3.0   0.011769       0.045899        0.374606\n",
       "46                1874   3873   4.0   0.011552       0.057450        0.246061\n",
       "151   like        2260   3350   5.0   0.009992       0.067442        0.296744"
      ]
     },
     "execution_count": 15,
     "metadata": {},
     "output_type": "execute_result"
    }
   ],
   "source": [
    "wc = count(shops['tokens'])\n",
    "wc.head()"
   ]
  },
  {
   "cell_type": "code",
   "execution_count": 16,
   "metadata": {
    "ExecuteTime": {
     "end_time": "2019-10-01T20:37:24.789649Z",
     "start_time": "2019-10-01T20:37:24.785928Z"
    }
   },
   "outputs": [
    {
     "data": {
      "text/plain": [
       "'nice'"
      ]
     },
     "execution_count": 16,
     "metadata": {},
     "output_type": "execute_result"
    }
   ],
   "source": [
    "wc.loc[47, 'word']"
   ]
  },
  {
   "cell_type": "code",
   "execution_count": 17,
   "metadata": {
    "ExecuteTime": {
     "end_time": "2019-10-01T20:37:24.975685Z",
     "start_time": "2019-10-01T20:37:24.791813Z"
    }
   },
   "outputs": [
    {
     "data": {
      "image/png": "[encoded data removed]",
      "text/plain": [
       "<Figure size 432x288 with 1 Axes>"
      ]
     },
     "metadata": {
      "needs_background": "light"
     },
     "output_type": "display_data"
    }
   ],
   "source": [
    "wc_top20 = wc[wc['rank'] <= 20]\n",
    "\n",
    "squarify.plot(sizes=wc_top20['pct_total'], label=wc_top20['word'], alpha=0.8)\n",
    "plt.axis('off')\n",
    "plt.show()"
   ]
  },
  {
   "cell_type": "code",
   "execution_count": 18,
   "metadata": {
    "ExecuteTime": {
     "end_time": "2019-10-01T20:37:24.981874Z",
     "start_time": "2019-10-01T20:37:24.977584Z"
    }
   },
   "outputs": [
    {
     "data": {
      "text/plain": [
       "79"
      ]
     },
     "execution_count": 18,
     "metadata": {},
     "output_type": "execute_result"
    }
   ],
   "source": [
    "shops['coffee_shop_name'].nunique()"
   ]
  },
  {
   "cell_type": "code",
   "execution_count": 19,
   "metadata": {
    "ExecuteTime": {
     "end_time": "2019-10-01T20:37:25.238440Z",
     "start_time": "2019-10-01T20:37:24.983836Z"
    }
   },
   "outputs": [
    {
     "name": "stderr",
     "output_type": "stream",
     "text": [
      "/home/asura/miniconda3/envs/U4-S1-NLP/lib/python3.7/site-packages/scipy/stats/stats.py:1713: FutureWarning: Using a non-tuple sequence for multidimensional indexing is deprecated; use `arr[tuple(seq)]` instead of `arr[seq]`. In the future this will be interpreted as an array index, `arr[np.array(seq)]`, which will result either in an error or a different result.\n",
      "  return np.add.reduce(sorted[indexer] * weights, axis=axis) / sumval\n"
     ]
    },
    {
     "data": {
      "image/png": "[encoded data removed]",
      "text/plain": [
       "<Figure size 432x288 with 1 Axes>"
      ]
     },
     "metadata": {
      "needs_background": "light"
     },
     "output_type": "display_data"
    }
   ],
   "source": [
    "sns.distplot(shops['rating']);"
   ]
  },
  {
   "cell_type": "code",
   "execution_count": 20,
   "metadata": {
    "ExecuteTime": {
     "end_time": "2019-10-01T20:37:25.248008Z",
     "start_time": "2019-10-01T20:37:25.240319Z"
    }
   },
   "outputs": [
    {
     "data": {
      "text/plain": [
       "count    7616.000000\n",
       "mean        4.169118\n",
       "std         1.065311\n",
       "min         1.000000\n",
       "25%         4.000000\n",
       "50%         4.000000\n",
       "75%         5.000000\n",
       "max         5.000000\n",
       "Name: rating, dtype: float64"
      ]
     },
     "execution_count": 20,
     "metadata": {},
     "output_type": "execute_result"
    }
   ],
   "source": [
    "shops.rating.describe()"
   ]
  },
  {
   "cell_type": "markdown",
   "metadata": {},
   "source": [
    "## Can visualize the words with the greatest difference in counts between 'good' & 'bad'?\n",
    "\n",
    "Couple Notes: \n",
    "- Rel. freq. instead of absolute counts b/c of different numbers of reviews\n",
    "- Only look at the top 5-10 words with the greatest differences\n"
   ]
  },
  {
   "cell_type": "markdown",
   "metadata": {},
   "source": [
    "#### Bad Word Count (Rating < 4, and Rank <= 20)"
   ]
  },
  {
   "cell_type": "code",
   "execution_count": 21,
   "metadata": {
    "ExecuteTime": {
     "end_time": "2019-10-01T20:37:25.464025Z",
     "start_time": "2019-10-01T20:37:25.249808Z"
    }
   },
   "outputs": [
    {
     "data": {
      "image/png": "[encoded data removed]",
      "text/plain": [
       "<Figure size 432x288 with 1 Axes>"
      ]
     },
     "metadata": {
      "needs_background": "light"
     },
     "output_type": "display_data"
    }
   ],
   "source": [
    "wc_bad = count(shops[shops['rating'] < 4]['tokens'])\n",
    "wc_top20_bad = wc_bad[wc_bad['rank'] <= 20]\n",
    "\n",
    "squarify.plot(sizes=wc_top20_bad['pct_total'], label=wc_top20_bad['word'], alpha=0.8)\n",
    "plt.axis('off')\n",
    "plt.show()"
   ]
  },
  {
   "cell_type": "markdown",
   "metadata": {},
   "source": [
    "#### Good Word Count"
   ]
  },
  {
   "cell_type": "code",
   "execution_count": 22,
   "metadata": {
    "ExecuteTime": {
     "end_time": "2019-10-01T20:37:25.697887Z",
     "start_time": "2019-10-01T20:37:25.466196Z"
    }
   },
   "outputs": [
    {
     "data": {
      "image/png": "[encoded data removed]",
      "text/plain": [
       "<Figure size 432x288 with 1 Axes>"
      ]
     },
     "metadata": {
      "needs_background": "light"
     },
     "output_type": "display_data"
    }
   ],
   "source": [
    "wc_good = count(shops[shops['rating'] >= 4]['tokens'])\n",
    "wc_top20_good = wc_good[wc_good['rank'] <= 20]\n",
    "\n",
    "squarify.plot(sizes=wc_top20_good['pct_total'], label=wc_top20_good['word'], alpha=0.8)\n",
    "plt.axis('off')\n",
    "plt.show()"
   ]
  },
  {
   "cell_type": "markdown",
   "metadata": {},
   "source": [
    "#### "
   ]
  },
  {
   "cell_type": "code",
   "execution_count": 23,
   "metadata": {
    "ExecuteTime": {
     "end_time": "2019-10-01T20:37:25.730256Z",
     "start_time": "2019-10-01T20:37:25.699753Z"
    }
   },
   "outputs": [
    {
     "data": {
      "text/html": [
       "<div>\n",
       "<style scoped>\n",
       "    .dataframe tbody tr th:only-of-type {\n",
       "        vertical-align: middle;\n",
       "    }\n",
       "\n",
       "    .dataframe tbody tr th {\n",
       "        vertical-align: top;\n",
       "    }\n",
       "\n",
       "    .dataframe thead th {\n",
       "        text-align: right;\n",
       "    }\n",
       "</style>\n",
       "<table border=\"1\" class=\"dataframe\">\n",
       "  <thead>\n",
       "    <tr style=\"text-align: right;\">\n",
       "      <th></th>\n",
       "      <th>word</th>\n",
       "      <th>appears_in_pct</th>\n",
       "      <th>appears_in_pct_bad</th>\n",
       "    </tr>\n",
       "  </thead>\n",
       "  <tbody>\n",
       "    <tr>\n",
       "      <th>0</th>\n",
       "      <td>place</td>\n",
       "      <td>0.510261</td>\n",
       "      <td>0.511518</td>\n",
       "    </tr>\n",
       "    <tr>\n",
       "      <th>1</th>\n",
       "      <td>good</td>\n",
       "      <td>0.480456</td>\n",
       "      <td>0.439024</td>\n",
       "    </tr>\n",
       "    <tr>\n",
       "      <th>2</th>\n",
       "      <td>great</td>\n",
       "      <td>0.407980</td>\n",
       "      <td>0.235772</td>\n",
       "    </tr>\n",
       "    <tr>\n",
       "      <th>3</th>\n",
       "      <td></td>\n",
       "      <td>0.246254</td>\n",
       "      <td>0.245257</td>\n",
       "    </tr>\n",
       "    <tr>\n",
       "      <th>4</th>\n",
       "      <td>like</td>\n",
       "      <td>0.271661</td>\n",
       "      <td>0.401084</td>\n",
       "    </tr>\n",
       "    <tr>\n",
       "      <th>5</th>\n",
       "      <td>love</td>\n",
       "      <td>0.261889</td>\n",
       "      <td>0.142276</td>\n",
       "    </tr>\n",
       "    <tr>\n",
       "      <th>6</th>\n",
       "      <td>austin</td>\n",
       "      <td>0.255700</td>\n",
       "      <td>0.165312</td>\n",
       "    </tr>\n",
       "    <tr>\n",
       "      <th>7</th>\n",
       "      <td>come</td>\n",
       "      <td>0.240879</td>\n",
       "      <td>0.306233</td>\n",
       "    </tr>\n",
       "    <tr>\n",
       "      <th>8</th>\n",
       "      <td>time</td>\n",
       "      <td>0.216612</td>\n",
       "      <td>0.284553</td>\n",
       "    </tr>\n",
       "    <tr>\n",
       "      <th>9</th>\n",
       "      <td>drink</td>\n",
       "      <td>0.205049</td>\n",
       "      <td>0.245257</td>\n",
       "    </tr>\n",
       "    <tr>\n",
       "      <th>10</th>\n",
       "      <td>try</td>\n",
       "      <td>0.216124</td>\n",
       "      <td>0.229675</td>\n",
       "    </tr>\n",
       "    <tr>\n",
       "      <th>11</th>\n",
       "      <td>latte</td>\n",
       "      <td>0.168078</td>\n",
       "      <td>0.155827</td>\n",
       "    </tr>\n",
       "    <tr>\n",
       "      <th>12</th>\n",
       "      <td>friendly</td>\n",
       "      <td>0.231107</td>\n",
       "      <td>0.122629</td>\n",
       "    </tr>\n",
       "    <tr>\n",
       "      <th>13</th>\n",
       "      <td>work</td>\n",
       "      <td>0.188111</td>\n",
       "      <td>0.203252</td>\n",
       "    </tr>\n",
       "    <tr>\n",
       "      <th>14</th>\n",
       "      <td>nice</td>\n",
       "      <td>0.197068</td>\n",
       "      <td>0.196477</td>\n",
       "    </tr>\n",
       "    <tr>\n",
       "      <th>15</th>\n",
       "      <td>food</td>\n",
       "      <td>0.177036</td>\n",
       "      <td>0.214092</td>\n",
       "    </tr>\n",
       "    <tr>\n",
       "      <th>16</th>\n",
       "      <td>order</td>\n",
       "      <td>0.165961</td>\n",
       "      <td>0.294715</td>\n",
       "    </tr>\n",
       "    <tr>\n",
       "      <th>17</th>\n",
       "      <td>delicious</td>\n",
       "      <td>0.191857</td>\n",
       "      <td>0.056233</td>\n",
       "    </tr>\n",
       "    <tr>\n",
       "      <th>18</th>\n",
       "      <td>little</td>\n",
       "      <td>0.168567</td>\n",
       "      <td>0.140244</td>\n",
       "    </tr>\n",
       "    <tr>\n",
       "      <th>19</th>\n",
       "      <td>tea</td>\n",
       "      <td>0.107003</td>\n",
       "      <td>0.094851</td>\n",
       "    </tr>\n",
       "  </tbody>\n",
       "</table>\n",
       "</div>"
      ],
      "text/plain": [
       "         word  appears_in_pct  appears_in_pct_bad\n",
       "0       place        0.510261            0.511518\n",
       "1        good        0.480456            0.439024\n",
       "2       great        0.407980            0.235772\n",
       "3                    0.246254            0.245257\n",
       "4        like        0.271661            0.401084\n",
       "5        love        0.261889            0.142276\n",
       "6      austin        0.255700            0.165312\n",
       "7        come        0.240879            0.306233\n",
       "8        time        0.216612            0.284553\n",
       "9       drink        0.205049            0.245257\n",
       "10        try        0.216124            0.229675\n",
       "11      latte        0.168078            0.155827\n",
       "12   friendly        0.231107            0.122629\n",
       "13       work        0.188111            0.203252\n",
       "14       nice        0.197068            0.196477\n",
       "15       food        0.177036            0.214092\n",
       "16      order        0.165961            0.294715\n",
       "17  delicious        0.191857            0.056233\n",
       "18     little        0.168567            0.140244\n",
       "19        tea        0.107003            0.094851"
      ]
     },
     "execution_count": 23,
     "metadata": {},
     "output_type": "execute_result"
    }
   ],
   "source": [
    "wc_bad['appears_in_pct_bad'] = wc_bad['appears_in_pct']\n",
    "diff = wc_good[['word', 'appears_in_pct']].merge(wc_bad[['word', 'appears_in_pct_bad']], how='outer')\n",
    "diff.head(20)"
   ]
  },
  {
   "cell_type": "code",
   "execution_count": 24,
   "metadata": {
    "ExecuteTime": {
     "end_time": "2019-10-01T20:37:25.761730Z",
     "start_time": "2019-10-01T20:37:25.731949Z"
    }
   },
   "outputs": [
    {
     "data": {
      "text/html": [
       "<div>\n",
       "<style scoped>\n",
       "    .dataframe tbody tr th:only-of-type {\n",
       "        vertical-align: middle;\n",
       "    }\n",
       "\n",
       "    .dataframe tbody tr th {\n",
       "        vertical-align: top;\n",
       "    }\n",
       "\n",
       "    .dataframe thead th {\n",
       "        text-align: right;\n",
       "    }\n",
       "</style>\n",
       "<table border=\"1\" class=\"dataframe\">\n",
       "  <thead>\n",
       "    <tr style=\"text-align: right;\">\n",
       "      <th></th>\n",
       "      <th>word</th>\n",
       "      <th>appears_in_pct</th>\n",
       "      <th>appears_in_pct_bad</th>\n",
       "      <th>diff</th>\n",
       "    </tr>\n",
       "  </thead>\n",
       "  <tbody>\n",
       "    <tr>\n",
       "      <th>4</th>\n",
       "      <td>like</td>\n",
       "      <td>0.271661</td>\n",
       "      <td>0.401084</td>\n",
       "      <td>-0.129423</td>\n",
       "    </tr>\n",
       "    <tr>\n",
       "      <th>16</th>\n",
       "      <td>order</td>\n",
       "      <td>0.165961</td>\n",
       "      <td>0.294715</td>\n",
       "      <td>-0.128755</td>\n",
       "    </tr>\n",
       "    <tr>\n",
       "      <th>131</th>\n",
       "      <td>ask</td>\n",
       "      <td>0.050651</td>\n",
       "      <td>0.149051</td>\n",
       "      <td>-0.098400</td>\n",
       "    </tr>\n",
       "    <tr>\n",
       "      <th>29</th>\n",
       "      <td>service</td>\n",
       "      <td>0.140391</td>\n",
       "      <td>0.234417</td>\n",
       "      <td>-0.094026</td>\n",
       "    </tr>\n",
       "    <tr>\n",
       "      <th>197</th>\n",
       "      <td>bad</td>\n",
       "      <td>0.037785</td>\n",
       "      <td>0.129404</td>\n",
       "      <td>-0.091619</td>\n",
       "    </tr>\n",
       "    <tr>\n",
       "      <th>43</th>\n",
       "      <td>taste</td>\n",
       "      <td>0.106352</td>\n",
       "      <td>0.187669</td>\n",
       "      <td>-0.081318</td>\n",
       "    </tr>\n",
       "    <tr>\n",
       "      <th>157</th>\n",
       "      <td>customer</td>\n",
       "      <td>0.044463</td>\n",
       "      <td>0.125339</td>\n",
       "      <td>-0.080876</td>\n",
       "    </tr>\n",
       "    <tr>\n",
       "      <th>244</th>\n",
       "      <td>maybe</td>\n",
       "      <td>0.030293</td>\n",
       "      <td>0.103659</td>\n",
       "      <td>-0.073365</td>\n",
       "    </tr>\n",
       "    <tr>\n",
       "      <th>86</th>\n",
       "      <td>review</td>\n",
       "      <td>0.077850</td>\n",
       "      <td>0.151084</td>\n",
       "      <td>-0.073234</td>\n",
       "    </tr>\n",
       "    <tr>\n",
       "      <th>41</th>\n",
       "      <td>think</td>\n",
       "      <td>0.106840</td>\n",
       "      <td>0.177507</td>\n",
       "      <td>-0.070666</td>\n",
       "    </tr>\n",
       "    <tr>\n",
       "      <th>8</th>\n",
       "      <td>time</td>\n",
       "      <td>0.216612</td>\n",
       "      <td>0.284553</td>\n",
       "      <td>-0.067940</td>\n",
       "    </tr>\n",
       "    <tr>\n",
       "      <th>7</th>\n",
       "      <td>come</td>\n",
       "      <td>0.240879</td>\n",
       "      <td>0.306233</td>\n",
       "      <td>-0.065354</td>\n",
       "    </tr>\n",
       "    <tr>\n",
       "      <th>35</th>\n",
       "      <td>want</td>\n",
       "      <td>0.120033</td>\n",
       "      <td>0.184959</td>\n",
       "      <td>-0.064927</td>\n",
       "    </tr>\n",
       "    <tr>\n",
       "      <th>404</th>\n",
       "      <td>ok</td>\n",
       "      <td>0.018241</td>\n",
       "      <td>0.081978</td>\n",
       "      <td>-0.063737</td>\n",
       "    </tr>\n",
       "    <tr>\n",
       "      <th>1652</th>\n",
       "      <td>rude</td>\n",
       "      <td>0.003094</td>\n",
       "      <td>0.065041</td>\n",
       "      <td>-0.061946</td>\n",
       "    </tr>\n",
       "    <tr>\n",
       "      <th>320</th>\n",
       "      <td>pay</td>\n",
       "      <td>0.022964</td>\n",
       "      <td>0.084688</td>\n",
       "      <td>-0.061724</td>\n",
       "    </tr>\n",
       "    <tr>\n",
       "      <th>26</th>\n",
       "      <td>pretty</td>\n",
       "      <td>0.130130</td>\n",
       "      <td>0.191057</td>\n",
       "      <td>-0.060927</td>\n",
       "    </tr>\n",
       "    <tr>\n",
       "      <th>114</th>\n",
       "      <td>star</td>\n",
       "      <td>0.059283</td>\n",
       "      <td>0.119919</td>\n",
       "      <td>-0.060635</td>\n",
       "    </tr>\n",
       "    <tr>\n",
       "      <th>216</th>\n",
       "      <td>minute</td>\n",
       "      <td>0.032899</td>\n",
       "      <td>0.092818</td>\n",
       "      <td>-0.059919</td>\n",
       "    </tr>\n",
       "    <tr>\n",
       "      <th>132</th>\n",
       "      <td>experience</td>\n",
       "      <td>0.052932</td>\n",
       "      <td>0.111111</td>\n",
       "      <td>-0.058180</td>\n",
       "    </tr>\n",
       "  </tbody>\n",
       "</table>\n",
       "</div>"
      ],
      "text/plain": [
       "            word  appears_in_pct  appears_in_pct_bad      diff\n",
       "4           like        0.271661            0.401084 -0.129423\n",
       "16         order        0.165961            0.294715 -0.128755\n",
       "131          ask        0.050651            0.149051 -0.098400\n",
       "29       service        0.140391            0.234417 -0.094026\n",
       "197          bad        0.037785            0.129404 -0.091619\n",
       "43         taste        0.106352            0.187669 -0.081318\n",
       "157     customer        0.044463            0.125339 -0.080876\n",
       "244        maybe        0.030293            0.103659 -0.073365\n",
       "86        review        0.077850            0.151084 -0.073234\n",
       "41         think        0.106840            0.177507 -0.070666\n",
       "8           time        0.216612            0.284553 -0.067940\n",
       "7           come        0.240879            0.306233 -0.065354\n",
       "35          want        0.120033            0.184959 -0.064927\n",
       "404           ok        0.018241            0.081978 -0.063737\n",
       "1652        rude        0.003094            0.065041 -0.061946\n",
       "320          pay        0.022964            0.084688 -0.061724\n",
       "26        pretty        0.130130            0.191057 -0.060927\n",
       "114         star        0.059283            0.119919 -0.060635\n",
       "216       minute        0.032899            0.092818 -0.059919\n",
       "132   experience        0.052932            0.111111 -0.058180"
      ]
     },
     "execution_count": 24,
     "metadata": {},
     "output_type": "execute_result"
    }
   ],
   "source": [
    "diff['diff'] = diff['appears_in_pct'] - diff['appears_in_pct_bad']\n",
    "diff.sort_values(by='diff').head(20)"
   ]
  },
  {
   "cell_type": "markdown",
   "metadata": {
    "colab_type": "text",
    "id": "1dCb1q8XphcP",
    "toc-hr-collapsed": true
   },
   "source": [
    "## Stretch Goals\n",
    "\n",
    "* Analyze another corpus of documents - such as Indeed.com job listings ;).\n",
    "* Play the the Spacy API to\n",
    " - Extract Named Entities\n",
    " - Extracting 'noun chunks'\n",
    " - Attempt Document Classification with just Spacy\n",
    " - *Note:* This [course](https://course.spacy.io/) will be of interesting in helping you with these stretch goals. \n",
    "* Try to build a plotly dash app with your text data \n",
    "\n"
   ]
  }
 ],
 "metadata": {
  "colab": {
   "collapsed_sections": [],
   "name": "LS_DS_421_Text_Data_Assignment.ipynb",
   "provenance": [],
   "version": "0.3.2"
  },
  "kernelspec": {
   "display_name": "U4-S1-NLP (Python3)",
   "language": "python",
   "name": "u4-s1-nlp"
  },
  "language_info": {
   "codemirror_mode": {
    "name": "ipython",
    "version": 3
   },
   "file_extension": ".py",
   "mimetype": "text/x-python",
   "name": "python",
   "nbconvert_exporter": "python",
   "pygments_lexer": "ipython3",
   "version": "3.7.3"
  },
  "toc-autonumbering": false
 },
 "nbformat": 4,
 "nbformat_minor": 2
}
