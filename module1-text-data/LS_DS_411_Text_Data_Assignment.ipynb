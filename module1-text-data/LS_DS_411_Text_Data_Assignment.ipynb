{
 "cells": [
  {
   "cell_type": "markdown",
   "metadata": {},
   "source": [
    "<img align=\"left\" src=\"https://lever-client-logos.s3.amazonaws.com/864372b1-534c-480e-acd5-9711f850815c-1524247202159.png\" width=200>\n",
    "<br></br>\n",
    "<br></br>\n",
    "\n",
    "# Natural Language Processing (NLP)\n",
    "#### *Data Science Unit 4 Sprint 1 Assignment 1*\n",
    "\n",
    "## *Tobias Reaper, DS8*\n",
    "\n",
    "---\n",
    "---"
   ]
  },
  {
   "cell_type": "markdown",
   "metadata": {},
   "source": [
    "Your goal in this assignment: find the attributes of the best & worst coffee shops in the dataset. The text is fairly raw: dates in the review, extra words in the `star_rating` column, etc. You'll probably want to clean that stuff up for a better analysis. \n",
    "\n",
    "Analyze the corpus of text using text visualizations of token frequency. Try cleaning the data as much as possible. Try the following techniques:\n",
    "\n",
    "- Lemmatization\n",
    "- Custom stopword removal\n",
    "\n",
    "Keep in mind the attributes of good tokens. Once you have a solid baseline, layer in the star rating in your visualization(s). Key part of this assignment - produce a write-up of the attributes of the best and worst coffee shops. Based on your analysis, what makes the best the best and the worst the worst. Use graphs and numbers from your analysis to support your conclusions. There should be plenty of markdown cells! :coffee:"
   ]
  },
  {
   "cell_type": "code",
   "execution_count": 1,
   "metadata": {
    "collapsed": true,
    "jupyter": {
     "outputs_hidden": true,
     "source_hidden": true
    }
   },
   "outputs": [
    {
     "data": {
      "image/jpeg": "[encoded data removed]",
      "text/html": [
       "\n",
       "        <iframe\n",
       "            width=\"400\"\n",
       "            height=\"300\"\n",
       "            src=\"https://www.youtube.com/embed/Jml7NVYm8cs\"\n",
       "            frameborder=\"0\"\n",
       "            allowfullscreen\n",
       "        ></iframe>\n",
       "        "
      ],
      "text/plain": [
       "<IPython.lib.display.YouTubeVideo at 0x107c012d0>"
      ]
     },
     "execution_count": 1,
     "metadata": {},
     "output_type": "execute_result"
    }
   ],
   "source": [
    "from IPython.display import YouTubeVideo\n",
    "\n",
    "YouTubeVideo('Jml7NVYm8cs')"
   ]
  },
  {
   "cell_type": "markdown",
   "metadata": {},
   "source": [
    "---\n",
    "---\n",
    "\n",
    "## First Looks and Wrangling"
   ]
  },
  {
   "cell_type": "code",
   "execution_count": 2,
   "metadata": {},
   "outputs": [],
   "source": [
    "import pandas as pd\n",
    "\n",
    "# Relative path to the dataset\n",
    "datapath = \"data/yelp_coffeeshop_review_data.csv\"\n",
    "\n",
    "# Load data\n",
    "df1 = pd.read_csv(datapath)"
   ]
  },
  {
   "cell_type": "code",
   "execution_count": 3,
   "metadata": {},
   "outputs": [],
   "source": [
    "# Set pandas to display more text\n",
    "pd.options.display.max_colwidth = 100"
   ]
  },
  {
   "cell_type": "code",
   "execution_count": 4,
   "metadata": {},
   "outputs": [
    {
     "data": {
      "text/plain": [
       "(7616, 3)"
      ]
     },
     "execution_count": 4,
     "metadata": {},
     "output_type": "execute_result"
    }
   ],
   "source": [
    "df1.shape"
   ]
  },
  {
   "cell_type": "code",
   "execution_count": 5,
   "metadata": {},
   "outputs": [
    {
     "data": {
      "text/html": [
       "<div>\n",
       "<style scoped>\n",
       "    .dataframe tbody tr th:only-of-type {\n",
       "        vertical-align: middle;\n",
       "    }\n",
       "\n",
       "    .dataframe tbody tr th {\n",
       "        vertical-align: top;\n",
       "    }\n",
       "\n",
       "    .dataframe thead th {\n",
       "        text-align: right;\n",
       "    }\n",
       "</style>\n",
       "<table border=\"1\" class=\"dataframe\">\n",
       "  <thead>\n",
       "    <tr style=\"text-align: right;\">\n",
       "      <th></th>\n",
       "      <th>coffee_shop_name</th>\n",
       "      <th>full_review_text</th>\n",
       "      <th>star_rating</th>\n",
       "    </tr>\n",
       "  </thead>\n",
       "  <tbody>\n",
       "    <tr>\n",
       "      <th>0</th>\n",
       "      <td>The Factory - Cafe With a Soul</td>\n",
       "      <td>11/25/2016 1 check-in Love love loved the atmosphere! Every corner of the coffee shop had its o...</td>\n",
       "      <td>5.0 star rating</td>\n",
       "    </tr>\n",
       "    <tr>\n",
       "      <th>1</th>\n",
       "      <td>The Factory - Cafe With a Soul</td>\n",
       "      <td>12/2/2016 Listed in Date Night: Austin, Ambiance in Austin BEAUTIFUL!!!! Love the ambiance! Ins...</td>\n",
       "      <td>4.0 star rating</td>\n",
       "    </tr>\n",
       "    <tr>\n",
       "      <th>2</th>\n",
       "      <td>The Factory - Cafe With a Soul</td>\n",
       "      <td>11/30/2016 1 check-in Listed in Brunch Spots I loved the eclectic and homey plush decor and who...</td>\n",
       "      <td>4.0 star rating</td>\n",
       "    </tr>\n",
       "    <tr>\n",
       "      <th>3</th>\n",
       "      <td>The Factory - Cafe With a Soul</td>\n",
       "      <td>11/25/2016 Very cool decor! Good drinks Nice seating  However...  Just about everything is over...</td>\n",
       "      <td>2.0 star rating</td>\n",
       "    </tr>\n",
       "    <tr>\n",
       "      <th>4</th>\n",
       "      <td>The Factory - Cafe With a Soul</td>\n",
       "      <td>12/3/2016 1 check-in They are located within the Northcross mall shopping center facing east to...</td>\n",
       "      <td>4.0 star rating</td>\n",
       "    </tr>\n",
       "    <tr>\n",
       "      <th>5</th>\n",
       "      <td>The Factory - Cafe With a Soul</td>\n",
       "      <td>11/20/2016 1 check-in Very cute cafe! I think from the moment I stepped in, there really wasn't...</td>\n",
       "      <td>4.0 star rating</td>\n",
       "    </tr>\n",
       "    <tr>\n",
       "      <th>6</th>\n",
       "      <td>The Factory - Cafe With a Soul</td>\n",
       "      <td>10/27/2016 2 check-ins Listed in \"Nuptial Coffee Bliss!\", Anderson Lane is the new Black Oh hey...</td>\n",
       "      <td>4.0 star rating</td>\n",
       "    </tr>\n",
       "    <tr>\n",
       "      <th>7</th>\n",
       "      <td>The Factory - Cafe With a Soul</td>\n",
       "      <td>11/2/2016 2 check-ins Love this place!  5 stars for cleanliness 5 stars for fun ambiance/ open ...</td>\n",
       "      <td>5.0 star rating</td>\n",
       "    </tr>\n",
       "  </tbody>\n",
       "</table>\n",
       "</div>"
      ],
      "text/plain": [
       "                  coffee_shop_name  \\\n",
       "0  The Factory - Cafe With a Soul    \n",
       "1  The Factory - Cafe With a Soul    \n",
       "2  The Factory - Cafe With a Soul    \n",
       "3  The Factory - Cafe With a Soul    \n",
       "4  The Factory - Cafe With a Soul    \n",
       "5  The Factory - Cafe With a Soul    \n",
       "6  The Factory - Cafe With a Soul    \n",
       "7  The Factory - Cafe With a Soul    \n",
       "\n",
       "                                                                                      full_review_text  \\\n",
       "0   11/25/2016 1 check-in Love love loved the atmosphere! Every corner of the coffee shop had its o...   \n",
       "1   12/2/2016 Listed in Date Night: Austin, Ambiance in Austin BEAUTIFUL!!!! Love the ambiance! Ins...   \n",
       "2   11/30/2016 1 check-in Listed in Brunch Spots I loved the eclectic and homey plush decor and who...   \n",
       "3   11/25/2016 Very cool decor! Good drinks Nice seating  However...  Just about everything is over...   \n",
       "4   12/3/2016 1 check-in They are located within the Northcross mall shopping center facing east to...   \n",
       "5   11/20/2016 1 check-in Very cute cafe! I think from the moment I stepped in, there really wasn't...   \n",
       "6   10/27/2016 2 check-ins Listed in \"Nuptial Coffee Bliss!\", Anderson Lane is the new Black Oh hey...   \n",
       "7   11/2/2016 2 check-ins Love this place!  5 stars for cleanliness 5 stars for fun ambiance/ open ...   \n",
       "\n",
       "         star_rating  \n",
       "0   5.0 star rating   \n",
       "1   4.0 star rating   \n",
       "2   4.0 star rating   \n",
       "3   2.0 star rating   \n",
       "4   4.0 star rating   \n",
       "5   4.0 star rating   \n",
       "6   4.0 star rating   \n",
       "7   5.0 star rating   "
      ]
     },
     "execution_count": 5,
     "metadata": {},
     "output_type": "execute_result"
    }
   ],
   "source": [
    "# First looks at the head\n",
    "df1.head(8)"
   ]
  },
  {
   "cell_type": "code",
   "execution_count": 6,
   "metadata": {},
   "outputs": [
    {
     "data": {
      "text/html": [
       "<div>\n",
       "<style scoped>\n",
       "    .dataframe tbody tr th:only-of-type {\n",
       "        vertical-align: middle;\n",
       "    }\n",
       "\n",
       "    .dataframe tbody tr th {\n",
       "        vertical-align: top;\n",
       "    }\n",
       "\n",
       "    .dataframe thead th {\n",
       "        text-align: right;\n",
       "    }\n",
       "</style>\n",
       "<table border=\"1\" class=\"dataframe\">\n",
       "  <thead>\n",
       "    <tr style=\"text-align: right;\">\n",
       "      <th></th>\n",
       "      <th>coffee_shop_name</th>\n",
       "      <th>full_review_text</th>\n",
       "      <th>star_rating</th>\n",
       "    </tr>\n",
       "  </thead>\n",
       "  <tbody>\n",
       "    <tr>\n",
       "      <th>7608</th>\n",
       "      <td>The Steeping Room</td>\n",
       "      <td>9/20/2015 I come here when I visit my friend in Austin for a fun place with lots of yummy optio...</td>\n",
       "      <td>4.0 star rating</td>\n",
       "    </tr>\n",
       "    <tr>\n",
       "      <th>7609</th>\n",
       "      <td>The Steeping Room</td>\n",
       "      <td>12/7/2014 1 check-in After noticing many friends have come here and really enjoyed it, I decide...</td>\n",
       "      <td>4.0 star rating</td>\n",
       "    </tr>\n",
       "    <tr>\n",
       "      <th>7610</th>\n",
       "      <td>The Steeping Room</td>\n",
       "      <td>3/1/2016 Great food! I haven't had a meal I did not enjoy here. It's very clean and great for p...</td>\n",
       "      <td>5.0 star rating</td>\n",
       "    </tr>\n",
       "    <tr>\n",
       "      <th>7611</th>\n",
       "      <td>The Steeping Room</td>\n",
       "      <td>2/19/2015 I actually step into this restaurant by chance and now is one of my favorites in Aust...</td>\n",
       "      <td>4.0 star rating</td>\n",
       "    </tr>\n",
       "    <tr>\n",
       "      <th>7612</th>\n",
       "      <td>The Steeping Room</td>\n",
       "      <td>1/21/2016 Ok, The Steeping Room IS awesome. How do they have so many great menu items. Of cours...</td>\n",
       "      <td>5.0 star rating</td>\n",
       "    </tr>\n",
       "    <tr>\n",
       "      <th>7613</th>\n",
       "      <td>The Steeping Room</td>\n",
       "      <td>4/30/2015 Loved coming here for tea, and the atmosphere was pretty and fresh. I ordered the str...</td>\n",
       "      <td>4.0 star rating</td>\n",
       "    </tr>\n",
       "    <tr>\n",
       "      <th>7614</th>\n",
       "      <td>The Steeping Room</td>\n",
       "      <td>8/2/2015 The food is just average. The booths didn't feel very clean. The waitstaff was friendl...</td>\n",
       "      <td>3.0 star rating</td>\n",
       "    </tr>\n",
       "    <tr>\n",
       "      <th>7615</th>\n",
       "      <td>The Steeping Room</td>\n",
       "      <td>5/23/2015 I finally stopped in for lunch with my colleague and I'm so glad we did. I had a deli...</td>\n",
       "      <td>4.0 star rating</td>\n",
       "    </tr>\n",
       "  </tbody>\n",
       "</table>\n",
       "</div>"
      ],
      "text/plain": [
       "        coffee_shop_name  \\\n",
       "7608  The Steeping Room    \n",
       "7609  The Steeping Room    \n",
       "7610  The Steeping Room    \n",
       "7611  The Steeping Room    \n",
       "7612  The Steeping Room    \n",
       "7613  The Steeping Room    \n",
       "7614  The Steeping Room    \n",
       "7615  The Steeping Room    \n",
       "\n",
       "                                                                                         full_review_text  \\\n",
       "7608   9/20/2015 I come here when I visit my friend in Austin for a fun place with lots of yummy optio...   \n",
       "7609   12/7/2014 1 check-in After noticing many friends have come here and really enjoyed it, I decide...   \n",
       "7610   3/1/2016 Great food! I haven't had a meal I did not enjoy here. It's very clean and great for p...   \n",
       "7611   2/19/2015 I actually step into this restaurant by chance and now is one of my favorites in Aust...   \n",
       "7612   1/21/2016 Ok, The Steeping Room IS awesome. How do they have so many great menu items. Of cours...   \n",
       "7613   4/30/2015 Loved coming here for tea, and the atmosphere was pretty and fresh. I ordered the str...   \n",
       "7614   8/2/2015 The food is just average. The booths didn't feel very clean. The waitstaff was friendl...   \n",
       "7615   5/23/2015 I finally stopped in for lunch with my colleague and I'm so glad we did. I had a deli...   \n",
       "\n",
       "            star_rating  \n",
       "7608   4.0 star rating   \n",
       "7609   4.0 star rating   \n",
       "7610   5.0 star rating   \n",
       "7611   4.0 star rating   \n",
       "7612   5.0 star rating   \n",
       "7613   4.0 star rating   \n",
       "7614   3.0 star rating   \n",
       "7615   4.0 star rating   "
      ]
     },
     "execution_count": 6,
     "metadata": {},
     "output_type": "execute_result"
    }
   ],
   "source": [
    "# Also check out the tail to get a better feel for the data\n",
    "df1.tail(8)"
   ]
  },
  {
   "cell_type": "markdown",
   "metadata": {},
   "source": [
    "---\n",
    "\n",
    "## Data Wrangles\n",
    "\n",
    "- [x] Date removed or as new column\n",
    "- [x] Make all text lowercase\n",
    "- [x] Star rating as number\n",
    "- [x] Extract check-in count to new column"
   ]
  },
  {
   "cell_type": "markdown",
   "metadata": {},
   "source": [
    "<h3 id=\"splitdate\">Split date into new column</h3>"
   ]
  },
  {
   "cell_type": "code",
   "execution_count": 7,
   "metadata": {
    "collapsed": true,
    "jupyter": {
     "outputs_hidden": true,
     "source_hidden": true
    }
   },
   "outputs": [
    {
     "data": {
      "text/html": [
       "<div>\n",
       "<style scoped>\n",
       "    .dataframe tbody tr th:only-of-type {\n",
       "        vertical-align: middle;\n",
       "    }\n",
       "\n",
       "    .dataframe tbody tr th {\n",
       "        vertical-align: top;\n",
       "    }\n",
       "\n",
       "    .dataframe thead th {\n",
       "        text-align: right;\n",
       "    }\n",
       "</style>\n",
       "<table border=\"1\" class=\"dataframe\">\n",
       "  <thead>\n",
       "    <tr style=\"text-align: right;\">\n",
       "      <th></th>\n",
       "      <th>coffee_shop_name</th>\n",
       "      <th>full_review_text</th>\n",
       "      <th>star_rating</th>\n",
       "      <th>date</th>\n",
       "    </tr>\n",
       "  </thead>\n",
       "  <tbody>\n",
       "    <tr>\n",
       "      <th>0</th>\n",
       "      <td>The Factory - Cafe With a Soul</td>\n",
       "      <td>11/25/2016 1 check-in Love love loved the atmosphere! Every corner of the coffee shop had its o...</td>\n",
       "      <td>5.0 star rating</td>\n",
       "      <td>11/25/2016</td>\n",
       "    </tr>\n",
       "    <tr>\n",
       "      <th>1</th>\n",
       "      <td>The Factory - Cafe With a Soul</td>\n",
       "      <td>12/2/2016 Listed in Date Night: Austin, Ambiance in Austin BEAUTIFUL!!!! Love the ambiance! Ins...</td>\n",
       "      <td>4.0 star rating</td>\n",
       "      <td>12/2/2016</td>\n",
       "    </tr>\n",
       "    <tr>\n",
       "      <th>2</th>\n",
       "      <td>The Factory - Cafe With a Soul</td>\n",
       "      <td>11/30/2016 1 check-in Listed in Brunch Spots I loved the eclectic and homey plush decor and who...</td>\n",
       "      <td>4.0 star rating</td>\n",
       "      <td>11/30/2016</td>\n",
       "    </tr>\n",
       "    <tr>\n",
       "      <th>3</th>\n",
       "      <td>The Factory - Cafe With a Soul</td>\n",
       "      <td>11/25/2016 Very cool decor! Good drinks Nice seating  However...  Just about everything is over...</td>\n",
       "      <td>2.0 star rating</td>\n",
       "      <td>11/25/2016</td>\n",
       "    </tr>\n",
       "    <tr>\n",
       "      <th>4</th>\n",
       "      <td>The Factory - Cafe With a Soul</td>\n",
       "      <td>12/3/2016 1 check-in They are located within the Northcross mall shopping center facing east to...</td>\n",
       "      <td>4.0 star rating</td>\n",
       "      <td>12/3/2016</td>\n",
       "    </tr>\n",
       "  </tbody>\n",
       "</table>\n",
       "</div>"
      ],
      "text/plain": [
       "                  coffee_shop_name  \\\n",
       "0  The Factory - Cafe With a Soul    \n",
       "1  The Factory - Cafe With a Soul    \n",
       "2  The Factory - Cafe With a Soul    \n",
       "3  The Factory - Cafe With a Soul    \n",
       "4  The Factory - Cafe With a Soul    \n",
       "\n",
       "                                                                                      full_review_text  \\\n",
       "0   11/25/2016 1 check-in Love love loved the atmosphere! Every corner of the coffee shop had its o...   \n",
       "1   12/2/2016 Listed in Date Night: Austin, Ambiance in Austin BEAUTIFUL!!!! Love the ambiance! Ins...   \n",
       "2   11/30/2016 1 check-in Listed in Brunch Spots I loved the eclectic and homey plush decor and who...   \n",
       "3   11/25/2016 Very cool decor! Good drinks Nice seating  However...  Just about everything is over...   \n",
       "4   12/3/2016 1 check-in They are located within the Northcross mall shopping center facing east to...   \n",
       "\n",
       "         star_rating        date  \n",
       "0   5.0 star rating   11/25/2016  \n",
       "1   4.0 star rating    12/2/2016  \n",
       "2   4.0 star rating   11/30/2016  \n",
       "3   2.0 star rating   11/25/2016  \n",
       "4   4.0 star rating    12/3/2016  "
      ]
     },
     "execution_count": 7,
     "metadata": {},
     "output_type": "execute_result"
    }
   ],
   "source": [
    "# ====== Separate out the date into new column ====== #\n",
    "# To do this, I can simple split the cell on whitespace, and only access the first item\n",
    "df2 = df1.copy()\n",
    "df2[\"date\"] = df2[\"full_review_text\"].str.split().str[0]\n",
    "df2.head()\n",
    "# The issue with this method is I'd have to then get the rest of the review, sans-date"
   ]
  },
  {
   "cell_type": "code",
   "execution_count": 8,
   "metadata": {},
   "outputs": [
    {
     "data": {
      "text/html": [
       "<div>\n",
       "<style scoped>\n",
       "    .dataframe tbody tr th:only-of-type {\n",
       "        vertical-align: middle;\n",
       "    }\n",
       "\n",
       "    .dataframe tbody tr th {\n",
       "        vertical-align: top;\n",
       "    }\n",
       "\n",
       "    .dataframe thead th {\n",
       "        text-align: right;\n",
       "    }\n",
       "</style>\n",
       "<table border=\"1\" class=\"dataframe\">\n",
       "  <thead>\n",
       "    <tr style=\"text-align: right;\">\n",
       "      <th></th>\n",
       "      <th>coffee_shop_name</th>\n",
       "      <th>star_rating</th>\n",
       "      <th>date</th>\n",
       "      <th>review_text</th>\n",
       "    </tr>\n",
       "  </thead>\n",
       "  <tbody>\n",
       "    <tr>\n",
       "      <th>0</th>\n",
       "      <td>The Factory - Cafe With a Soul</td>\n",
       "      <td>5.0 star rating</td>\n",
       "      <td>11/25/2016</td>\n",
       "      <td>1 check-in Love love loved the atmosphere! Every corner of the coffee shop had its own style, an...</td>\n",
       "    </tr>\n",
       "    <tr>\n",
       "      <th>1</th>\n",
       "      <td>The Factory - Cafe With a Soul</td>\n",
       "      <td>4.0 star rating</td>\n",
       "      <td>12/2/2016</td>\n",
       "      <td>Listed in Date Night: Austin, Ambiance in Austin BEAUTIFUL!!!! Love the ambiance! Instagram-wort...</td>\n",
       "    </tr>\n",
       "    <tr>\n",
       "      <th>2</th>\n",
       "      <td>The Factory - Cafe With a Soul</td>\n",
       "      <td>4.0 star rating</td>\n",
       "      <td>11/30/2016</td>\n",
       "      <td>1 check-in Listed in Brunch Spots I loved the eclectic and homey plush decor and who doesn't wan...</td>\n",
       "    </tr>\n",
       "    <tr>\n",
       "      <th>3</th>\n",
       "      <td>The Factory - Cafe With a Soul</td>\n",
       "      <td>2.0 star rating</td>\n",
       "      <td>11/25/2016</td>\n",
       "      <td>Very cool decor! Good drinks Nice seating  However...  Just about everything is overpriced. $1.5...</td>\n",
       "    </tr>\n",
       "    <tr>\n",
       "      <th>4</th>\n",
       "      <td>The Factory - Cafe With a Soul</td>\n",
       "      <td>4.0 star rating</td>\n",
       "      <td>12/3/2016</td>\n",
       "      <td>1 check-in They are located within the Northcross mall shopping center facing east toward Burnet...</td>\n",
       "    </tr>\n",
       "  </tbody>\n",
       "</table>\n",
       "</div>"
      ],
      "text/plain": [
       "                  coffee_shop_name        star_rating        date  \\\n",
       "0  The Factory - Cafe With a Soul    5.0 star rating   11/25/2016   \n",
       "1  The Factory - Cafe With a Soul    4.0 star rating    12/2/2016   \n",
       "2  The Factory - Cafe With a Soul    4.0 star rating   11/30/2016   \n",
       "3  The Factory - Cafe With a Soul    2.0 star rating   11/25/2016   \n",
       "4  The Factory - Cafe With a Soul    4.0 star rating    12/3/2016   \n",
       "\n",
       "                                                                                           review_text  \n",
       "0  1 check-in Love love loved the atmosphere! Every corner of the coffee shop had its own style, an...  \n",
       "1  Listed in Date Night: Austin, Ambiance in Austin BEAUTIFUL!!!! Love the ambiance! Instagram-wort...  \n",
       "2  1 check-in Listed in Brunch Spots I loved the eclectic and homey plush decor and who doesn't wan...  \n",
       "3  Very cool decor! Good drinks Nice seating  However...  Just about everything is overpriced. $1.5...  \n",
       "4  1 check-in They are located within the Northcross mall shopping center facing east toward Burnet...  "
      ]
     },
     "execution_count": 8,
     "metadata": {},
     "output_type": "execute_result"
    }
   ],
   "source": [
    "# ====== Split the date into new column ====== #\n",
    "# A better method would be to expand the str.split, limiting the expansion to 1\n",
    "df2 = df1.copy()  # Create a copy of the dataframe\n",
    "\n",
    "# Create new columns for the result of the 1-way split\n",
    "df2[[\"date\", \"review_text\"]] = df2[\"full_review_text\"].str.split(expand=True, n=1)\n",
    "\n",
    "# Drop the original column\n",
    "df2 = df2.drop(columns=[\"full_review_text\"])\n",
    "\n",
    "df2.head()  # Look at the results"
   ]
  },
  {
   "cell_type": "code",
   "execution_count": 16,
   "metadata": {},
   "outputs": [
    {
     "data": {
      "text/plain": [
       "count                    7616\n",
       "unique                   1592\n",
       "top       2016-10-09 00:00:00\n",
       "freq                       31\n",
       "first     2006-11-11 00:00:00\n",
       "last      2016-12-05 00:00:00\n",
       "Name: date, dtype: object"
      ]
     },
     "execution_count": 16,
     "metadata": {},
     "output_type": "execute_result"
    }
   ],
   "source": [
    "# More detailed view of the date column\n",
    "# First convert to datetime format\n",
    "df2[\"date\"] = pd.to_datetime(df2[\"date\"], infer_datetime_format=True)\n",
    "df2[\"date\"].describe()"
   ]
  },
  {
   "cell_type": "markdown",
   "metadata": {},
   "source": [
    "<h3 id=\"review-lowercase\">Make all review text lowercase</h3>"
   ]
  },
  {
   "cell_type": "code",
   "execution_count": 13,
   "metadata": {},
   "outputs": [
    {
     "data": {
      "text/html": [
       "<div>\n",
       "<style scoped>\n",
       "    .dataframe tbody tr th:only-of-type {\n",
       "        vertical-align: middle;\n",
       "    }\n",
       "\n",
       "    .dataframe tbody tr th {\n",
       "        vertical-align: top;\n",
       "    }\n",
       "\n",
       "    .dataframe thead th {\n",
       "        text-align: right;\n",
       "    }\n",
       "</style>\n",
       "<table border=\"1\" class=\"dataframe\">\n",
       "  <thead>\n",
       "    <tr style=\"text-align: right;\">\n",
       "      <th></th>\n",
       "      <th>coffee_shop_name</th>\n",
       "      <th>star_rating</th>\n",
       "      <th>date</th>\n",
       "      <th>review_text</th>\n",
       "    </tr>\n",
       "  </thead>\n",
       "  <tbody>\n",
       "    <tr>\n",
       "      <th>0</th>\n",
       "      <td>The Factory - Cafe With a Soul</td>\n",
       "      <td>5.0 star rating</td>\n",
       "      <td>11/25/2016</td>\n",
       "      <td>1 check-in love love loved the atmosphere! every corner of the coffee shop had its own style, an...</td>\n",
       "    </tr>\n",
       "    <tr>\n",
       "      <th>1</th>\n",
       "      <td>The Factory - Cafe With a Soul</td>\n",
       "      <td>4.0 star rating</td>\n",
       "      <td>12/2/2016</td>\n",
       "      <td>listed in date night: austin, ambiance in austin beautiful!!!! love the ambiance! instagram-wort...</td>\n",
       "    </tr>\n",
       "    <tr>\n",
       "      <th>2</th>\n",
       "      <td>The Factory - Cafe With a Soul</td>\n",
       "      <td>4.0 star rating</td>\n",
       "      <td>11/30/2016</td>\n",
       "      <td>1 check-in listed in brunch spots i loved the eclectic and homey plush decor and who doesn't wan...</td>\n",
       "    </tr>\n",
       "    <tr>\n",
       "      <th>3</th>\n",
       "      <td>The Factory - Cafe With a Soul</td>\n",
       "      <td>2.0 star rating</td>\n",
       "      <td>11/25/2016</td>\n",
       "      <td>very cool decor! good drinks nice seating  however...  just about everything is overpriced. $1.5...</td>\n",
       "    </tr>\n",
       "    <tr>\n",
       "      <th>4</th>\n",
       "      <td>The Factory - Cafe With a Soul</td>\n",
       "      <td>4.0 star rating</td>\n",
       "      <td>12/3/2016</td>\n",
       "      <td>1 check-in they are located within the northcross mall shopping center facing east toward burnet...</td>\n",
       "    </tr>\n",
       "  </tbody>\n",
       "</table>\n",
       "</div>"
      ],
      "text/plain": [
       "                  coffee_shop_name        star_rating        date  \\\n",
       "0  The Factory - Cafe With a Soul    5.0 star rating   11/25/2016   \n",
       "1  The Factory - Cafe With a Soul    4.0 star rating    12/2/2016   \n",
       "2  The Factory - Cafe With a Soul    4.0 star rating   11/30/2016   \n",
       "3  The Factory - Cafe With a Soul    2.0 star rating   11/25/2016   \n",
       "4  The Factory - Cafe With a Soul    4.0 star rating    12/3/2016   \n",
       "\n",
       "                                                                                           review_text  \n",
       "0  1 check-in love love loved the atmosphere! every corner of the coffee shop had its own style, an...  \n",
       "1  listed in date night: austin, ambiance in austin beautiful!!!! love the ambiance! instagram-wort...  \n",
       "2  1 check-in listed in brunch spots i loved the eclectic and homey plush decor and who doesn't wan...  \n",
       "3  very cool decor! good drinks nice seating  however...  just about everything is overpriced. $1.5...  \n",
       "4  1 check-in they are located within the northcross mall shopping center facing east toward burnet...  "
      ]
     },
     "execution_count": 13,
     "metadata": {},
     "output_type": "execute_result"
    }
   ],
   "source": [
    "# ====== Use str.lower to make lowercase ====== #\n",
    "\n",
    "# Make review_text lowercase\n",
    "df2[\"review_text\"] = df2[\"review_text\"].str.lower()\n",
    "\n",
    "# Look at the results\n",
    "df2.head()"
   ]
  },
  {
   "cell_type": "markdown",
   "metadata": {},
   "source": [
    "<h3 id=\"rating-to-float\">star_rating as number</h3>"
   ]
  },
  {
   "cell_type": "code",
   "execution_count": 18,
   "metadata": {},
   "outputs": [
    {
     "data": {
      "text/html": [
       "<div>\n",
       "<style scoped>\n",
       "    .dataframe tbody tr th:only-of-type {\n",
       "        vertical-align: middle;\n",
       "    }\n",
       "\n",
       "    .dataframe tbody tr th {\n",
       "        vertical-align: top;\n",
       "    }\n",
       "\n",
       "    .dataframe thead th {\n",
       "        text-align: right;\n",
       "    }\n",
       "</style>\n",
       "<table border=\"1\" class=\"dataframe\">\n",
       "  <thead>\n",
       "    <tr style=\"text-align: right;\">\n",
       "      <th></th>\n",
       "      <th>coffee_shop_name</th>\n",
       "      <th>star_rating</th>\n",
       "      <th>date</th>\n",
       "      <th>review_text</th>\n",
       "    </tr>\n",
       "  </thead>\n",
       "  <tbody>\n",
       "    <tr>\n",
       "      <th>0</th>\n",
       "      <td>The Factory - Cafe With a Soul</td>\n",
       "      <td>5.0</td>\n",
       "      <td>2016-11-25</td>\n",
       "      <td>1 check-in love love loved the atmosphere! every corner of the coffee shop had its own style, an...</td>\n",
       "    </tr>\n",
       "    <tr>\n",
       "      <th>1</th>\n",
       "      <td>The Factory - Cafe With a Soul</td>\n",
       "      <td>4.0</td>\n",
       "      <td>2016-12-02</td>\n",
       "      <td>listed in date night: austin, ambiance in austin beautiful!!!! love the ambiance! instagram-wort...</td>\n",
       "    </tr>\n",
       "    <tr>\n",
       "      <th>2</th>\n",
       "      <td>The Factory - Cafe With a Soul</td>\n",
       "      <td>4.0</td>\n",
       "      <td>2016-11-30</td>\n",
       "      <td>1 check-in listed in brunch spots i loved the eclectic and homey plush decor and who doesn't wan...</td>\n",
       "    </tr>\n",
       "    <tr>\n",
       "      <th>3</th>\n",
       "      <td>The Factory - Cafe With a Soul</td>\n",
       "      <td>2.0</td>\n",
       "      <td>2016-11-25</td>\n",
       "      <td>very cool decor! good drinks nice seating  however...  just about everything is overpriced. $1.5...</td>\n",
       "    </tr>\n",
       "    <tr>\n",
       "      <th>4</th>\n",
       "      <td>The Factory - Cafe With a Soul</td>\n",
       "      <td>4.0</td>\n",
       "      <td>2016-12-03</td>\n",
       "      <td>1 check-in they are located within the northcross mall shopping center facing east toward burnet...</td>\n",
       "    </tr>\n",
       "  </tbody>\n",
       "</table>\n",
       "</div>"
      ],
      "text/plain": [
       "                  coffee_shop_name  star_rating       date  \\\n",
       "0  The Factory - Cafe With a Soul           5.0 2016-11-25   \n",
       "1  The Factory - Cafe With a Soul           4.0 2016-12-02   \n",
       "2  The Factory - Cafe With a Soul           4.0 2016-11-30   \n",
       "3  The Factory - Cafe With a Soul           2.0 2016-11-25   \n",
       "4  The Factory - Cafe With a Soul           4.0 2016-12-03   \n",
       "\n",
       "                                                                                           review_text  \n",
       "0  1 check-in love love loved the atmosphere! every corner of the coffee shop had its own style, an...  \n",
       "1  listed in date night: austin, ambiance in austin beautiful!!!! love the ambiance! instagram-wort...  \n",
       "2  1 check-in listed in brunch spots i loved the eclectic and homey plush decor and who doesn't wan...  \n",
       "3  very cool decor! good drinks nice seating  however...  just about everything is overpriced. $1.5...  \n",
       "4  1 check-in they are located within the northcross mall shopping center facing east toward burnet...  "
      ]
     },
     "execution_count": 18,
     "metadata": {},
     "output_type": "execute_result"
    }
   ],
   "source": [
    "# ====== Strip letters from star_rating, convert to float ====== #\n",
    "# This can be done a similar way to the first method of extracting the date I used above\n",
    "df2[\"star_rating\"] = df2[\"star_rating\"].str.split().str[0].astype(float)\n",
    "\n",
    "df2.head()"
   ]
  },
  {
   "cell_type": "code",
   "execution_count": 19,
   "metadata": {},
   "outputs": [
    {
     "data": {
      "text/plain": [
       "count    7616.000000\n",
       "mean        4.169118\n",
       "std         1.065311\n",
       "min         1.000000\n",
       "25%         4.000000\n",
       "50%         4.000000\n",
       "75%         5.000000\n",
       "max         5.000000\n",
       "Name: star_rating, dtype: float64"
      ]
     },
     "execution_count": 19,
     "metadata": {},
     "output_type": "execute_result"
    }
   ],
   "source": [
    "# Look at star_rating in a little more detail\n",
    "df2[\"star_rating\"].describe()"
   ]
  },
  {
   "cell_type": "code",
   "execution_count": 21,
   "metadata": {},
   "outputs": [
    {
     "data": {
      "image/png": "[encoded data removed]",
      "text/plain": [
       "<Figure size 432x288 with 1 Axes>"
      ]
     },
     "metadata": {
      "needs_background": "light"
     },
     "output_type": "display_data"
    }
   ],
   "source": [
    "# star_rating as a distplot\n",
    "import seaborn as sns\n",
    "sns.distplot(df2[\"star_rating\"]);"
   ]
  },
  {
   "cell_type": "markdown",
   "metadata": {},
   "source": [
    "<h3 id=\"extract-checkin\">Extract check-in count to new column</h3>"
   ]
  },
  {
   "cell_type": "code",
   "execution_count": 41,
   "metadata": {},
   "outputs": [
    {
     "data": {
      "text/html": [
       "<div>\n",
       "<style scoped>\n",
       "    .dataframe tbody tr th:only-of-type {\n",
       "        vertical-align: middle;\n",
       "    }\n",
       "\n",
       "    .dataframe tbody tr th {\n",
       "        vertical-align: top;\n",
       "    }\n",
       "\n",
       "    .dataframe thead th {\n",
       "        text-align: right;\n",
       "    }\n",
       "</style>\n",
       "<table border=\"1\" class=\"dataframe\">\n",
       "  <thead>\n",
       "    <tr style=\"text-align: right;\">\n",
       "      <th></th>\n",
       "      <th>coffee_shop_name</th>\n",
       "      <th>star_rating</th>\n",
       "      <th>date</th>\n",
       "      <th>review_text</th>\n",
       "      <th>check_ins</th>\n",
       "    </tr>\n",
       "  </thead>\n",
       "  <tbody>\n",
       "    <tr>\n",
       "      <th>0</th>\n",
       "      <td>The Factory - Cafe With a Soul</td>\n",
       "      <td>5.0</td>\n",
       "      <td>2016-11-25</td>\n",
       "      <td>love love loved the atmosphere! every corner of the coffee shop had its own style, and there we...</td>\n",
       "      <td>1 check-in</td>\n",
       "    </tr>\n",
       "    <tr>\n",
       "      <th>1</th>\n",
       "      <td>The Factory - Cafe With a Soul</td>\n",
       "      <td>4.0</td>\n",
       "      <td>2016-12-02</td>\n",
       "      <td>listed in date night: austin, ambiance in austin beautiful!!!! love the ambiance! instagram-wort...</td>\n",
       "      <td>NaN</td>\n",
       "    </tr>\n",
       "    <tr>\n",
       "      <th>2</th>\n",
       "      <td>The Factory - Cafe With a Soul</td>\n",
       "      <td>4.0</td>\n",
       "      <td>2016-11-30</td>\n",
       "      <td>listed in brunch spots i loved the eclectic and homey plush decor and who doesn't want to swing...</td>\n",
       "      <td>1 check-in</td>\n",
       "    </tr>\n",
       "    <tr>\n",
       "      <th>3</th>\n",
       "      <td>The Factory - Cafe With a Soul</td>\n",
       "      <td>2.0</td>\n",
       "      <td>2016-11-25</td>\n",
       "      <td>very cool decor! good drinks nice seating  however...  just about everything is overpriced. $1.5...</td>\n",
       "      <td>NaN</td>\n",
       "    </tr>\n",
       "    <tr>\n",
       "      <th>4</th>\n",
       "      <td>The Factory - Cafe With a Soul</td>\n",
       "      <td>4.0</td>\n",
       "      <td>2016-12-03</td>\n",
       "      <td>they are located within the northcross mall shopping center facing east toward burnet rd with p...</td>\n",
       "      <td>1 check-in</td>\n",
       "    </tr>\n",
       "  </tbody>\n",
       "</table>\n",
       "</div>"
      ],
      "text/plain": [
       "                  coffee_shop_name  star_rating       date  \\\n",
       "0  The Factory - Cafe With a Soul           5.0 2016-11-25   \n",
       "1  The Factory - Cafe With a Soul           4.0 2016-12-02   \n",
       "2  The Factory - Cafe With a Soul           4.0 2016-11-30   \n",
       "3  The Factory - Cafe With a Soul           2.0 2016-11-25   \n",
       "4  The Factory - Cafe With a Soul           4.0 2016-12-03   \n",
       "\n",
       "                                                                                           review_text  \\\n",
       "0   love love loved the atmosphere! every corner of the coffee shop had its own style, and there we...   \n",
       "1  listed in date night: austin, ambiance in austin beautiful!!!! love the ambiance! instagram-wort...   \n",
       "2   listed in brunch spots i loved the eclectic and homey plush decor and who doesn't want to swing...   \n",
       "3  very cool decor! good drinks nice seating  however...  just about everything is overpriced. $1.5...   \n",
       "4   they are located within the northcross mall shopping center facing east toward burnet rd with p...   \n",
       "\n",
       "    check_ins  \n",
       "0  1 check-in  \n",
       "1         NaN  \n",
       "2  1 check-in  \n",
       "3         NaN  \n",
       "4  1 check-in  "
      ]
     },
     "execution_count": 41,
     "metadata": {},
     "output_type": "execute_result"
    }
   ],
   "source": [
    "# ====== Use str.extract with regex to extract check-ins ====== #\n",
    "# Copy the dataframe first, for posterity (in case I want to go back)\n",
    "df3 = df2.copy()\n",
    "\n",
    "# Use regex to extract the checkins from the review_text column\n",
    "# the first group 'check_ins' is optional, so if it does not exist, it will return entire text\n",
    "df3[[\"check_ins\", \"review_text\"]] = df3[\"review_text\"].str.extract(r\"(?P<check_ins>\\d check-in)?(?P<review>.*)\")\n",
    "\n",
    "df3.head()"
   ]
  },
  {
   "cell_type": "code",
   "execution_count": 37,
   "metadata": {},
   "outputs": [
    {
     "data": {
      "text/plain": [
       "coffee_shop_name       0\n",
       "star_rating            0\n",
       "date                   0\n",
       "review_text            0\n",
       "check_ins           4889\n",
       "num_checkins        4889\n",
       "dtype: int64"
      ]
     },
     "execution_count": 37,
     "metadata": {},
     "output_type": "execute_result"
    }
   ],
   "source": [
    "df3.isnull().sum()"
   ]
  },
  {
   "cell_type": "code",
   "execution_count": 42,
   "metadata": {},
   "outputs": [
    {
     "data": {
      "text/html": [
       "<div>\n",
       "<style scoped>\n",
       "    .dataframe tbody tr th:only-of-type {\n",
       "        vertical-align: middle;\n",
       "    }\n",
       "\n",
       "    .dataframe tbody tr th {\n",
       "        vertical-align: top;\n",
       "    }\n",
       "\n",
       "    .dataframe thead th {\n",
       "        text-align: right;\n",
       "    }\n",
       "</style>\n",
       "<table border=\"1\" class=\"dataframe\">\n",
       "  <thead>\n",
       "    <tr style=\"text-align: right;\">\n",
       "      <th></th>\n",
       "      <th>coffee_shop_name</th>\n",
       "      <th>star_rating</th>\n",
       "      <th>date</th>\n",
       "      <th>review_text</th>\n",
       "      <th>check_ins</th>\n",
       "    </tr>\n",
       "  </thead>\n",
       "  <tbody>\n",
       "    <tr>\n",
       "      <th>0</th>\n",
       "      <td>The Factory - Cafe With a Soul</td>\n",
       "      <td>5.0</td>\n",
       "      <td>2016-11-25</td>\n",
       "      <td>love love loved the atmosphere! every corner of the coffee shop had its own style, and there we...</td>\n",
       "      <td>1</td>\n",
       "    </tr>\n",
       "    <tr>\n",
       "      <th>1</th>\n",
       "      <td>The Factory - Cafe With a Soul</td>\n",
       "      <td>4.0</td>\n",
       "      <td>2016-12-02</td>\n",
       "      <td>listed in date night: austin, ambiance in austin beautiful!!!! love the ambiance! instagram-wort...</td>\n",
       "      <td>0</td>\n",
       "    </tr>\n",
       "    <tr>\n",
       "      <th>2</th>\n",
       "      <td>The Factory - Cafe With a Soul</td>\n",
       "      <td>4.0</td>\n",
       "      <td>2016-11-30</td>\n",
       "      <td>listed in brunch spots i loved the eclectic and homey plush decor and who doesn't want to swing...</td>\n",
       "      <td>1</td>\n",
       "    </tr>\n",
       "    <tr>\n",
       "      <th>3</th>\n",
       "      <td>The Factory - Cafe With a Soul</td>\n",
       "      <td>2.0</td>\n",
       "      <td>2016-11-25</td>\n",
       "      <td>very cool decor! good drinks nice seating  however...  just about everything is overpriced. $1.5...</td>\n",
       "      <td>0</td>\n",
       "    </tr>\n",
       "    <tr>\n",
       "      <th>4</th>\n",
       "      <td>The Factory - Cafe With a Soul</td>\n",
       "      <td>4.0</td>\n",
       "      <td>2016-12-03</td>\n",
       "      <td>they are located within the northcross mall shopping center facing east toward burnet rd with p...</td>\n",
       "      <td>1</td>\n",
       "    </tr>\n",
       "  </tbody>\n",
       "</table>\n",
       "</div>"
      ],
      "text/plain": [
       "                  coffee_shop_name  star_rating       date  \\\n",
       "0  The Factory - Cafe With a Soul           5.0 2016-11-25   \n",
       "1  The Factory - Cafe With a Soul           4.0 2016-12-02   \n",
       "2  The Factory - Cafe With a Soul           4.0 2016-11-30   \n",
       "3  The Factory - Cafe With a Soul           2.0 2016-11-25   \n",
       "4  The Factory - Cafe With a Soul           4.0 2016-12-03   \n",
       "\n",
       "                                                                                           review_text  \\\n",
       "0   love love loved the atmosphere! every corner of the coffee shop had its own style, and there we...   \n",
       "1  listed in date night: austin, ambiance in austin beautiful!!!! love the ambiance! instagram-wort...   \n",
       "2   listed in brunch spots i loved the eclectic and homey plush decor and who doesn't want to swing...   \n",
       "3  very cool decor! good drinks nice seating  however...  just about everything is overpriced. $1.5...   \n",
       "4   they are located within the northcross mall shopping center facing east toward burnet rd with p...   \n",
       "\n",
       "   check_ins  \n",
       "0          1  \n",
       "1          0  \n",
       "2          1  \n",
       "3          0  \n",
       "4          1  "
      ]
     },
     "execution_count": 42,
     "metadata": {},
     "output_type": "execute_result"
    }
   ],
   "source": [
    "# Clean up the check_ins column\n",
    "df3[\"check_ins\"] = df3[\"check_ins\"].str.split().str[0]\n",
    "\n",
    "# Fill the NaN values with 0\n",
    "df3 = df3.fillna(0)\n",
    "\n",
    "# Convert to integer\n",
    "df3[\"check_ins\"] = df3[\"check_ins\"].astype(int)\n",
    "\n",
    "# Look at the results\n",
    "df3.head()"
   ]
  },
  {
   "cell_type": "code",
   "execution_count": 44,
   "metadata": {},
   "outputs": [
    {
     "data": {
      "image/png": "[encoded data removed]",
      "text/plain": [
       "<Figure size 432x288 with 1 Axes>"
      ]
     },
     "metadata": {
      "needs_background": "light"
     },
     "output_type": "display_data"
    }
   ],
   "source": [
    "# Look at distplot of check_ins\n",
    "sns.distplot(df3[\"check_ins\"]);"
   ]
  },
  {
   "cell_type": "code",
   "execution_count": 45,
   "metadata": {},
   "outputs": [
    {
     "data": {
      "text/plain": [
       "count    7616.000000\n",
       "mean        0.611213\n",
       "std         1.213938\n",
       "min         0.000000\n",
       "25%         0.000000\n",
       "50%         0.000000\n",
       "75%         1.000000\n",
       "max         9.000000\n",
       "Name: check_ins, dtype: float64"
      ]
     },
     "execution_count": 45,
     "metadata": {},
     "output_type": "execute_result"
    }
   ],
   "source": [
    "# Look at summary of check_ins\n",
    "df3[\"check_ins\"].describe()"
   ]
  },
  {
   "cell_type": "markdown",
   "metadata": {},
   "source": [
    "---\n",
    "---\n",
    "\n",
    "## How do we want to analyze these coffee shop tokens? \n",
    "\n",
    "- Overall Word / Token Count\n",
    "- View Counts by Rating \n",
    "- *Hint:* a 'bad' coffee shops has a rating betweeen 1 & 3 based on the distribution of ratings. A 'good' coffee shop is a 4 or 5. "
   ]
  },
  {
   "cell_type": "code",
   "execution_count": 46,
   "metadata": {},
   "outputs": [],
   "source": [
    "# ====== Imports ======\n",
    "from collections import Counter\n",
    "\n",
    "# More plotting\n",
    "import squarify\n",
    "import matplotlib.pyplot as plt\n",
    "import seaborn as sns\n",
    "\n",
    "# NLP\n",
    "import spacy\n",
    "from spacy.tokenizer import Tokenizer"
   ]
  },
  {
   "cell_type": "code",
   "execution_count": 47,
   "metadata": {},
   "outputs": [],
   "source": [
    "def count(docs):\n",
    "    \"\"\"Returns a dataframe of word counts from a corpus of documents.\"\"\"\n",
    "\n",
    "    # Instantiate collections.Counter objects\n",
    "    word_counts = Counter()\n",
    "    appears_in = Counter()\n",
    "\n",
    "    total_docs = len(docs)\n",
    "\n",
    "    # Update the Counters with doc tokens\n",
    "    for doc in docs:\n",
    "        word_counts.update(doc)\n",
    "        appears_in.update(set(doc))\n",
    "\n",
    "    # Create dataframe from word_counts\n",
    "    temp = zip(word_counts.keys(), word_counts.values())\n",
    "    wc = pd.DataFrame(temp, columns = ['word', 'count'])\n",
    "\n",
    "    # Rank the words according to count\n",
    "    wc['rank'] = wc['count'].rank(method='first', ascending=False)\n",
    "    total = wc['count'].sum()\n",
    "    \n",
    "    # Calculate percentage / normalize the counts\n",
    "    wc['pct_total'] = wc['count'].apply(lambda x: x / total)\n",
    "    \n",
    "    # Cumulative percentage\n",
    "    wc = wc.sort_values(by='rank')\n",
    "    wc['cul_pct_total'] = wc['pct_total'].cumsum()\n",
    "\n",
    "    # Add the appears_in and normalize, same as with count\n",
    "    t2 = zip(appears_in.keys(), appears_in.values())\n",
    "    ac = pd.DataFrame(t2, columns=['word', 'appears_in'])\n",
    "    wc = ac.merge(wc, on='word')  # Merge appears_in into original df\n",
    "    wc['appears_in_pct'] = wc['appears_in'].apply(lambda x: x / total_docs)\n",
    "\n",
    "    return wc.sort_values(by='rank')"
   ]
  },
  {
   "cell_type": "markdown",
   "metadata": {},
   "source": [
    "## Token analysis using spaCy"
   ]
  },
  {
   "cell_type": "code",
   "execution_count": 48,
   "metadata": {},
   "outputs": [],
   "source": [
    "# Instantiate large spacy language model\n",
    "nlp = spacy.load(\"en_core_web_lg\")\n",
    "\n",
    "# Instantiate and configure the tokenizer\n",
    "tokenizer = Tokenizer(nlp.vocab)"
   ]
  },
  {
   "cell_type": "code",
   "execution_count": 49,
   "metadata": {},
   "outputs": [],
   "source": [
    "# ====== Posterify! ====== #\n",
    "df4 = df3.copy()"
   ]
  },
  {
   "cell_type": "code",
   "execution_count": 51,
   "metadata": {},
   "outputs": [
    {
     "name": "stdout",
     "output_type": "stream",
     "text": [
      "(7616, 5)\n"
     ]
    },
    {
     "data": {
      "text/html": [
       "<div>\n",
       "<style scoped>\n",
       "    .dataframe tbody tr th:only-of-type {\n",
       "        vertical-align: middle;\n",
       "    }\n",
       "\n",
       "    .dataframe tbody tr th {\n",
       "        vertical-align: top;\n",
       "    }\n",
       "\n",
       "    .dataframe thead th {\n",
       "        text-align: right;\n",
       "    }\n",
       "</style>\n",
       "<table border=\"1\" class=\"dataframe\">\n",
       "  <thead>\n",
       "    <tr style=\"text-align: right;\">\n",
       "      <th></th>\n",
       "      <th>coffee_shop_name</th>\n",
       "      <th>star_rating</th>\n",
       "      <th>date</th>\n",
       "      <th>review_text</th>\n",
       "      <th>check_ins</th>\n",
       "    </tr>\n",
       "  </thead>\n",
       "  <tbody>\n",
       "    <tr>\n",
       "      <th>0</th>\n",
       "      <td>The Factory - Cafe With a Soul</td>\n",
       "      <td>5.0</td>\n",
       "      <td>2016-11-25</td>\n",
       "      <td>love love loved the atmosphere! every corner of the coffee shop had its own style, and there we...</td>\n",
       "      <td>1</td>\n",
       "    </tr>\n",
       "    <tr>\n",
       "      <th>1</th>\n",
       "      <td>The Factory - Cafe With a Soul</td>\n",
       "      <td>4.0</td>\n",
       "      <td>2016-12-02</td>\n",
       "      <td>listed in date night: austin, ambiance in austin beautiful!!!! love the ambiance! instagram-wort...</td>\n",
       "      <td>0</td>\n",
       "    </tr>\n",
       "  </tbody>\n",
       "</table>\n",
       "</div>"
      ],
      "text/plain": [
       "                  coffee_shop_name  star_rating       date  \\\n",
       "0  The Factory - Cafe With a Soul           5.0 2016-11-25   \n",
       "1  The Factory - Cafe With a Soul           4.0 2016-12-02   \n",
       "\n",
       "                                                                                           review_text  \\\n",
       "0   love love loved the atmosphere! every corner of the coffee shop had its own style, and there we...   \n",
       "1  listed in date night: austin, ambiance in austin beautiful!!!! love the ambiance! instagram-wort...   \n",
       "\n",
       "   check_ins  \n",
       "0          1  \n",
       "1          0  "
      ]
     },
     "execution_count": 51,
     "metadata": {},
     "output_type": "execute_result"
    }
   ],
   "source": [
    "# Look at the head again to get re-oriented\n",
    "print(df4.shape)\n",
    "df4.head(2)"
   ]
  },
  {
   "cell_type": "markdown",
   "metadata": {},
   "source": [
    "#### Tokenization, Part 1"
   ]
  },
  {
   "cell_type": "code",
   "execution_count": 52,
   "metadata": {},
   "outputs": [],
   "source": [
    "# ====== Make them tokens using a tokenizer pipe ====== #\n",
    "tokens = []\n",
    "\n",
    "for doc in tokenizer.pipe(df4[\"review_text\"], batch_size=500):\n",
    "    doc_tokens = [token.text for token in doc]\n",
    "    tokens.append(doc_tokens)\n",
    "\n",
    "df4[\"tokens\"] = tokens"
   ]
  },
  {
   "cell_type": "code",
   "execution_count": 53,
   "metadata": {},
   "outputs": [
    {
     "data": {
      "text/plain": [
       "0    [ , love, love, loved, the, atmosphere!, every, corner, of, the, coffee, shop, had, its, own, st...\n",
       "1    [listed, in, date, night:, austin,, ambiance, in, austin, beautiful!!!!, love, the, ambiance!, i...\n",
       "2    [ , listed, in, brunch, spots, i, loved, the, eclectic, and, homey, plush, decor, and, who, does...\n",
       "3    [very, cool, decor!, good, drinks, nice, seating,  , however...,  , just, about, everything, is,...\n",
       "4    [ , they, are, located, within, the, northcross, mall, shopping, center, facing, east, toward, b...\n",
       "Name: tokens, dtype: object"
      ]
     },
     "execution_count": 53,
     "metadata": {},
     "output_type": "execute_result"
    }
   ],
   "source": [
    "# Check out some results\n",
    "df4[\"tokens\"].head()"
   ]
  },
  {
   "cell_type": "markdown",
   "metadata": {},
   "source": [
    "It looks like I should've run a `str.strip` on the text columns prior to tokenization.\n",
    "\n",
    "I'll run the tokenization again, after stripping the whitespace."
   ]
  },
  {
   "cell_type": "code",
   "execution_count": 54,
   "metadata": {},
   "outputs": [
    {
     "data": {
      "text/plain": [
       "0    love love loved the atmosphere! every corner of the coffee shop had its own style, and there wer...\n",
       "1    listed in date night: austin, ambiance in austin beautiful!!!! love the ambiance! instagram-wort...\n",
       "2    listed in brunch spots i loved the eclectic and homey plush decor and who doesn't want to swing ...\n",
       "3    very cool decor! good drinks nice seating  however...  just about everything is overpriced. $1.5...\n",
       "4    they are located within the northcross mall shopping center facing east toward burnet rd with pl...\n",
       "Name: review_text, dtype: object"
      ]
     },
     "execution_count": 54,
     "metadata": {},
     "output_type": "execute_result"
    }
   ],
   "source": [
    "# ====== Strip leading / following whitespace ====== #\n",
    "df4[\"review_text\"] = df4[\"review_text\"].str.strip()\n",
    "\n",
    "df4[\"review_text\"].head()"
   ]
  },
  {
   "cell_type": "markdown",
   "metadata": {},
   "source": [
    "#### Tokenization, Part 2\n",
    "\n",
    "That looks better. Now converting to tokens again using the same code as above."
   ]
  },
  {
   "cell_type": "code",
   "execution_count": 55,
   "metadata": {},
   "outputs": [
    {
     "data": {
      "text/plain": [
       "0    [love, love, loved, the, atmosphere!, every, corner, of, the, coffee, shop, had, its, own, style...\n",
       "1    [listed, in, date, night:, austin,, ambiance, in, austin, beautiful!!!!, love, the, ambiance!, i...\n",
       "2    [listed, in, brunch, spots, i, loved, the, eclectic, and, homey, plush, decor, and, who, doesn't...\n",
       "3    [very, cool, decor!, good, drinks, nice, seating,  , however...,  , just, about, everything, is,...\n",
       "4    [they, are, located, within, the, northcross, mall, shopping, center, facing, east, toward, burn...\n",
       "Name: tokens, dtype: object"
      ]
     },
     "execution_count": 55,
     "metadata": {},
     "output_type": "execute_result"
    }
   ],
   "source": [
    "# ====== Make them tokens with a tokenizer pipe, pt II ====== #\n",
    "tokens = []\n",
    "\n",
    "for doc in tokenizer.pipe(df4[\"review_text\"], batch_size=500):\n",
    "    doc_tokens = [token.text for token in doc]\n",
    "    tokens.append(doc_tokens)\n",
    "\n",
    "df4[\"tokens\"] = tokens  # This time replace the previous column\n",
    "df4[\"tokens\"].head()  # Confirm it worked as expected"
   ]
  },
  {
   "cell_type": "markdown",
   "metadata": {},
   "source": [
    "#### Word count analysis\n",
    "\n",
    "Time to utilize that function that was defined above to generate a word-count dataframe from the tokens column."
   ]
  },
  {
   "cell_type": "code",
   "execution_count": 56,
   "metadata": {},
   "outputs": [
    {
     "data": {
      "text/html": [
       "<div>\n",
       "<style scoped>\n",
       "    .dataframe tbody tr th:only-of-type {\n",
       "        vertical-align: middle;\n",
       "    }\n",
       "\n",
       "    .dataframe tbody tr th {\n",
       "        vertical-align: top;\n",
       "    }\n",
       "\n",
       "    .dataframe thead th {\n",
       "        text-align: right;\n",
       "    }\n",
       "</style>\n",
       "<table border=\"1\" class=\"dataframe\">\n",
       "  <thead>\n",
       "    <tr style=\"text-align: right;\">\n",
       "      <th></th>\n",
       "      <th>word</th>\n",
       "      <th>appears_in</th>\n",
       "      <th>count</th>\n",
       "      <th>rank</th>\n",
       "      <th>pct_total</th>\n",
       "      <th>cul_pct_total</th>\n",
       "      <th>appears_in_pct</th>\n",
       "    </tr>\n",
       "  </thead>\n",
       "  <tbody>\n",
       "    <tr>\n",
       "      <th>49</th>\n",
       "      <td>the</td>\n",
       "      <td>6847</td>\n",
       "      <td>34649</td>\n",
       "      <td>1.0</td>\n",
       "      <td>0.043904</td>\n",
       "      <td>0.043904</td>\n",
       "      <td>0.899028</td>\n",
       "    </tr>\n",
       "    <tr>\n",
       "      <th>46</th>\n",
       "      <td>and</td>\n",
       "      <td>6853</td>\n",
       "      <td>26442</td>\n",
       "      <td>2.0</td>\n",
       "      <td>0.033505</td>\n",
       "      <td>0.077409</td>\n",
       "      <td>0.899816</td>\n",
       "    </tr>\n",
       "    <tr>\n",
       "      <th>67</th>\n",
       "      <td>a</td>\n",
       "      <td>6240</td>\n",
       "      <td>22657</td>\n",
       "      <td>3.0</td>\n",
       "      <td>0.028709</td>\n",
       "      <td>0.106118</td>\n",
       "      <td>0.819328</td>\n",
       "    </tr>\n",
       "    <tr>\n",
       "      <th>17</th>\n",
       "      <td>i</td>\n",
       "      <td>5511</td>\n",
       "      <td>19990</td>\n",
       "      <td>4.0</td>\n",
       "      <td>0.025330</td>\n",
       "      <td>0.131448</td>\n",
       "      <td>0.723608</td>\n",
       "    </tr>\n",
       "    <tr>\n",
       "      <th>71</th>\n",
       "      <td>to</td>\n",
       "      <td>5638</td>\n",
       "      <td>17008</td>\n",
       "      <td>5.0</td>\n",
       "      <td>0.021551</td>\n",
       "      <td>0.152999</td>\n",
       "      <td>0.740284</td>\n",
       "    </tr>\n",
       "  </tbody>\n",
       "</table>\n",
       "</div>"
      ],
      "text/plain": [
       "   word  appears_in  count  rank  pct_total  cul_pct_total  appears_in_pct\n",
       "49  the        6847  34649   1.0   0.043904       0.043904        0.899028\n",
       "46  and        6853  26442   2.0   0.033505       0.077409        0.899816\n",
       "67    a        6240  22657   3.0   0.028709       0.106118        0.819328\n",
       "17    i        5511  19990   4.0   0.025330       0.131448        0.723608\n",
       "71   to        5638  17008   5.0   0.021551       0.152999        0.740284"
      ]
     },
     "execution_count": 56,
     "metadata": {},
     "output_type": "execute_result"
    }
   ],
   "source": [
    "# Use the count function and scope the results\n",
    "df4_wc = count(df4[\"tokens\"])\n",
    "df4_wc.head()"
   ]
  },
  {
   "cell_type": "code",
   "execution_count": 58,
   "metadata": {},
   "outputs": [
    {
     "data": {
      "image/png": "[encoded data removed]",
      "text/plain": [
       "<Figure size 432x288 with 1 Axes>"
      ]
     },
     "metadata": {
      "needs_background": "light"
     },
     "output_type": "display_data"
    }
   ],
   "source": [
    "# === Visualize these tokens using squarify === #\n",
    "# Take slice of top 20 words\n",
    "df4_wc_top20 = df4_wc[df4_wc[\"rank\"] <= 20]\n",
    "\n",
    "# Plot with a word cloud\n",
    "squarify.plot(sizes=df4_wc_top20[\"pct_total\"], label=df4_wc_top20[\"word\"], alpha=0.9)\n",
    "plt.axis(\"off\")\n",
    "plt.show()"
   ]
  },
  {
   "cell_type": "markdown",
   "metadata": {},
   "source": [
    "---\n",
    "\n",
    "## Stop Words\n",
    "\n",
    "Almost all of the top 20 words are stop words. Indeed, the only one that could be considered *not* a stop word is \"coffee\".\n",
    "\n",
    "This section aims to take care of that using the spaCy defaults along with any additional stop words specific to this analysis."
   ]
  },
  {
   "cell_type": "code",
   "execution_count": null,
   "metadata": {},
   "outputs": [],
   "source": [
    "# ====== spaCy's default stop words ====== #\n",
    "# nlp.Defaults.stop_words"
   ]
  },
  {
   "cell_type": "markdown",
   "metadata": {},
   "source": [
    "#### Tokenization, Part 3\n",
    "\n",
    "> *This time, without stop words!*"
   ]
  },
  {
   "cell_type": "code",
   "execution_count": null,
   "metadata": {},
   "outputs": [],
   "source": [
    "# ====== Make them tokens with a tokenizer pipe, pt III ====== #\n",
    "tokens = []\n",
    "\n",
    "# This time, do not include stop words in the spacy default set\n",
    "for doc in tokenizer.pipe(df4[\"review_text\"], batch_size=500):\n",
    "    \n",
    "    doc_tokens = []  # Empty list to hold tokens for each doc\n",
    "    \n",
    "    for token in doc:\n",
    "        if (token.is_stop == False) & (token.is_punct == False):\n",
    "            doc_tokens.append(token.text.lower())\n",
    "    \n",
    "    tokens.append(doc_tokens)\n",
    "\n",
    "df4[\"tokens\"] = tokens  # This time replace the previous column\n",
    "df4[\"tokens\"].head()  # Confirm it worked as expected"
   ]
  },
  {
   "cell_type": "code",
   "execution_count": null,
   "metadata": {},
   "outputs": [],
   "source": []
  },
  {
   "cell_type": "code",
   "execution_count": null,
   "metadata": {},
   "outputs": [],
   "source": []
  },
  {
   "cell_type": "code",
   "execution_count": null,
   "metadata": {},
   "outputs": [],
   "source": []
  },
  {
   "cell_type": "markdown",
   "metadata": {},
   "source": [
    "### View counts by rating\n",
    "\n",
    "TODO: add this"
   ]
  },
  {
   "cell_type": "code",
   "execution_count": null,
   "metadata": {},
   "outputs": [],
   "source": []
  },
  {
   "cell_type": "code",
   "execution_count": null,
   "metadata": {},
   "outputs": [],
   "source": []
  },
  {
   "cell_type": "code",
   "execution_count": null,
   "metadata": {},
   "outputs": [],
   "source": []
  },
  {
   "cell_type": "markdown",
   "metadata": {},
   "source": [
    "---\n",
    "---\n",
    "\n",
    "## Can visualize the words with the greatest difference in counts between 'good' & 'bad'?\n",
    "\n",
    "Couple Notes: \n",
    "- Rel. freq. instead of absolute counts b/c of different numbers of reviews\n",
    "- Only look at the top 5-10 words with the greatest differences\n"
   ]
  },
  {
   "cell_type": "code",
   "execution_count": 46,
   "metadata": {},
   "outputs": [],
   "source": []
  },
  {
   "cell_type": "markdown",
   "metadata": {
    "colab_type": "text",
    "id": "1dCb1q8XphcP",
    "toc-hr-collapsed": true
   },
   "source": [
    "## Stretch Goals\n",
    "\n",
    "* Analyze another corpus of documents - such as Indeed.com job listings ;).\n",
    "* Play with the Spacy API to\n",
    " - Extract Named Entities\n",
    " - Extracting 'noun chunks'\n",
    " - Attempt Document Classification with just Spacy\n",
    " - *Note:* This [course](https://course.spacy.io/) will be of interesting in helping you with these stretch goals. \n",
    "* Try to build a plotly dash app with your text data \n",
    "\n"
   ]
  }
 ],
 "metadata": {
  "colab": {
   "collapsed_sections": [],
   "name": "LS_DS_421_Text_Data_Assignment.ipynb",
   "provenance": [],
   "version": "0.3.2"
  },
  "kernelspec": {
   "display_name": "Python 3",
   "language": "python",
   "name": "python3"
  },
  "language_info": {
   "codemirror_mode": {
    "name": "ipython",
    "version": 3
   },
   "file_extension": ".py",
   "mimetype": "text/x-python",
   "name": "python",
   "nbconvert_exporter": "python",
   "pygments_lexer": "ipython3",
   "version": "3.7.5"
  },
  "toc-autonumbering": false
 },
 "nbformat": 4,
 "nbformat_minor": 4
}
