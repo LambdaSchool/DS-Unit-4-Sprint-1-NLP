{
 "cells": [
  {
   "cell_type": "code",
   "execution_count": 1,
   "metadata": {
    "colab": {},
    "colab_type": "code",
    "id": "-JXH3Jpsaud2"
   },
   "outputs": [],
   "source": [
    "# Library imports for this lesson\n",
    "\n",
    "import pandas as pd\n",
    "import re\n",
    "from bs4 import BeautifulSoup\n",
    "import requests\n",
    "import xgboost"
   ]
  },
  {
   "cell_type": "markdown",
   "metadata": {
    "colab_type": "text",
    "id": "XJYVEQbyfYVn"
   },
   "source": [
    "## What is NLP?\n",
    "\n",
    "### NLP != Neuro-Linguistic Programming (at least for our purposes)\n",
    "\n",
    "In Google searches you'll also see Neuro-Linguistic Programming come up as a common result when using the acronym (NLP). Neuro-Linguistic Programming is a somewhat discredited psycotherapy and counseling technique that has retained some level of popularity with hypno-therapists and business management trainers. <https://en.wikipedia.org/wiki/Neuro-linguistic_programming>\n",
    "\n",
    "### NLP == Natural Language Processing\n",
    "\n",
    "\"Natural\" meaning - not computer languages but spoken/written human languages. The hard thing about NLP is that human languages are far less structured or consistent than computer languages. This is perhaps the largest source of difficulty when trying to get computers to \"understand\" human languages. How do you get a machine to understand sarcasm, and irony, and synonyms, connotation, denotation, nuance, and tone of voice --all without it having lived a lifetime of experience for context? If you think about it, our human brains have been exposed to quite a lot of training data to help us interpret languages, and even then we misunderstand each other pretty frequently. "
   ]
  },
  {
   "cell_type": "markdown",
   "metadata": {
    "colab_type": "text",
    "id": "18eQ2tQ6TqNi"
   },
   "source": [
    "# Popular Applications of NLP: \n",
    "\n",
    "- Sentiment Analysis (Positive, Negative or Neutral)\n",
    "- Chatbots (Natural Language Understanding + Natural Language Generation)\n",
    "- Speech Recognition (dictation, Siri, \"hey google\", Amazon Echo, Cortana, video captioning, etc.)\n",
    " - Have to interpret the audio correctly\n",
    " - Have to interpret the words correctly after that.\n",
    "- Machine Translation (google translate)\n",
    "- Spell Check\n",
    "- Keyword Search\n",
    "- Spam Detection"
   ]
  },
  {
   "cell_type": "markdown",
   "metadata": {
    "colab_type": "text",
    "id": "86TDsPAOTeKA"
   },
   "source": [
    "## The challenges of unstructured language data: \n",
    "\n",
    "Up until this point in the class we have worked mostly with what would be called \"tabluar data\" (arranged in a table of rows and columns) or \"structured data\" - relational database tables, json, etc. Human language (text/audio) is one form of \"unstructured\" data. Computers are inherently bad at processing unstructured data. You give them Python or JavaScript and they'll interpret it in a split second without making a single mistake, but what about some of the following situations:\n",
    "\n",
    "### Metaphors, idioms, etc.\n",
    "\n",
    "> \"Steph Curry was on fire last nice. He totally destroyed the other team\"\n",
    "\n",
    "### Punctuation - (COMMAS SAVE LIVES!!)\n",
    "\n",
    "> \"Let's eat, Grandma!\" vs \"Let's eat Grandma!\"\n",
    "\n",
    "### Pronoun Resolution (requires context or past experience)\n",
    "\n",
    "> \"The thieves stole the paintings. They were subsequently sold.\"\n",
    "\n",
    "> \"The thieves stole the paintings. They were subsequently caught.\"\n",
    "\n",
    "> \"The thieves stole the paintings. They were subsequently found.\"\n",
    "\n",
    "### Lack of Context (ambiguity yet again)\n",
    "\n",
    "> \"The lamb was ready to eat.\"\n",
    "\n",
    "### Synonyms / Homonyms (Word Sense Disambiguation - can be different depending on if the language is written or spoken)\n",
    "\n",
    "> \"That guy is the best bass player I've ever seen!\"\n",
    "\n",
    "![Bass Player](http://vision.cs.uml.edu/old_projects_files/senses.png)\n",
    "\n",
    "> \"She threw up her dinner\" vs. \"She threw up her hands\"\n",
    "\n",
    "### The conventions of language are shifting under our feet\n",
    "\n",
    "Consider:\n",
    "\n",
    "![Emoji Story](https://static.freemake.com/blog/wp-content/uploads/2014/07/emoji-texts-2.jpg)\n",
    "\n",
    "### My personal favorite:\n",
    "\n",
    "> \"Buffalo buffalo Buffalo buffalo buffalo buffalo Buffalo buffalo.\"\n",
    "\n",
    "The above is in fact a grammatically correct English sentence with real meaning. It's hard for native English speakers to understand, computers would have a hard time with it. <https://en.wikipedia.org/wiki/Buffalo_buffalo_Buffalo_buffalo_buffalo_buffalo_Buffalo_buffalo> It's a little easier to understand if you know all of the word meanings and you have it read to you with correct cadence and tone: If I read it a little a little bit differently, notice how I'm saying the same words but conveying meaning through tone.\n",
    "\n",
    "### Buffalo (City / Entity):\n",
    "\n",
    "<img src=\"http://pics2.city-data.com/city/maps/fr58.png\" />\n",
    "\n",
    "### buffalo (noun) - American bison?:\n",
    "\n",
    "<img src=\"https://cdn.pixabay.com/photo/2014/11/11/13/52/bison-526805_1280.jpg\" width=\"400\" />\n",
    "\n",
    "### buffalo (verb): \n",
    "\n",
    "<https://youtu.be/L4eOhuLDfeU?t=115>\n",
    "\n",
    "> \"Buffalo buffalo ... (who) Buffalo buffalo buffalo... buffalo Buffalo buffalo.\" - Can you see how my tone of voice and rythm and pacing conveyed quite a lot of information. That's a tough one to parse from the raw text. I guess there are a lot of mean bison in New York that like to bully each other.\n",
    "\n",
    "Most all of these problems boil down to some level of ambiguity or lack of context. This is what we mean when we say unstructured data. Language often breaks its own rules."
   ]
  },
  {
   "cell_type": "markdown",
   "metadata": {
    "colab_type": "text",
    "id": "sg0paGbWTnHT"
   },
   "source": [
    "![XKCD Pictographs](https://imgs.xkcd.com/comics/inflection_2x.png)"
   ]
  },
  {
   "cell_type": "markdown",
   "metadata": {
    "colab_type": "text",
    "id": "P2JjOBZoGSld"
   },
   "source": [
    "# Python String Basics\n"
   ]
  },
  {
   "cell_type": "markdown",
   "metadata": {
    "colab_type": "text",
    "id": "QCpuDX5fkv4G"
   },
   "source": [
    "## Strings as a sequence of characters"
   ]
  },
  {
   "cell_type": "code",
   "execution_count": 2,
   "metadata": {
    "colab": {
     "base_uri": "https://localhost:8080/",
     "height": 67
    },
    "colab_type": "code",
    "id": "4_oMgLE4kzoO",
    "outputId": "a889bece-c878-4870-fd0e-e1b7f63ae50c"
   },
   "outputs": [
    {
     "name": "stdout",
     "output_type": "stream",
     "text": [
      "T\n",
      "h\n",
      "i\n"
     ]
    }
   ],
   "source": [
    "test = \"This is a test string\"\n",
    "\n",
    "# Strings are indexed like lists\n",
    "print(test[0])\n",
    "print(test[1])\n",
    "print(test[2])"
   ]
  },
  {
   "cell_type": "code",
   "execution_count": 3,
   "metadata": {
    "colab": {
     "base_uri": "https://localhost:8080/",
     "height": 67
    },
    "colab_type": "code",
    "id": "FFmMcOcFo3Kf",
    "outputId": "f918cee9-444f-421c-a786-4704de6732e8"
   },
   "outputs": [
    {
     "name": "stdout",
     "output_type": "stream",
     "text": [
      "g\n",
      "n\n",
      "i\n"
     ]
    }
   ],
   "source": [
    "# You can also index strings from the back like lists\n",
    "print(test[-1])\n",
    "print(test[-2])\n",
    "print(test[-3])"
   ]
  },
  {
   "cell_type": "code",
   "execution_count": 4,
   "metadata": {
    "colab": {
     "base_uri": "https://localhost:8080/",
     "height": 370
    },
    "colab_type": "code",
    "id": "RYwg_207lDrK",
    "outputId": "f550d8a9-3bf5-40aa-b97c-aa896b5ee75f"
   },
   "outputs": [
    {
     "name": "stdout",
     "output_type": "stream",
     "text": [
      "T\n",
      "h\n",
      "i\n",
      "s\n",
      " \n",
      "i\n",
      "s\n",
      " \n",
      "a\n",
      " \n",
      "t\n",
      "e\n",
      "s\n",
      "t\n",
      " \n",
      "s\n",
      "t\n",
      "r\n",
      "i\n",
      "n\n",
      "g\n"
     ]
    }
   ],
   "source": [
    "# You can loop over individual characters\n",
    "for character in test:\n",
    "  print(character)"
   ]
  },
  {
   "cell_type": "code",
   "execution_count": 5,
   "metadata": {
    "colab": {
     "base_uri": "https://localhost:8080/",
     "height": 213
    },
    "colab_type": "code",
    "id": "77nrRP8mtMHP",
    "outputId": "5dadc0ce-0280-4161-b34a-d1f58c27efb0"
   },
   "outputs": [
    {
     "ename": "TypeError",
     "evalue": "'str' object does not support item assignment",
     "output_type": "error",
     "traceback": [
      "\u001b[1;31m---------------------------------------------------------------------------\u001b[0m",
      "\u001b[1;31mTypeError\u001b[0m                                 Traceback (most recent call last)",
      "\u001b[1;32m<ipython-input-5-27d76a4ff5a3>\u001b[0m in \u001b[0;36m<module>\u001b[1;34m\u001b[0m\n\u001b[0;32m      3\u001b[0m \u001b[1;31m# You would need to create a new string to do this.\u001b[0m\u001b[1;33m\u001b[0m\u001b[1;33m\u001b[0m\u001b[1;33m\u001b[0m\u001b[0m\n\u001b[0;32m      4\u001b[0m \u001b[0mhello_string\u001b[0m \u001b[1;33m=\u001b[0m \u001b[1;34m\"hello\"\u001b[0m\u001b[1;33m\u001b[0m\u001b[1;33m\u001b[0m\u001b[0m\n\u001b[1;32m----> 5\u001b[1;33m \u001b[0mhello_string\u001b[0m\u001b[1;33m[\u001b[0m\u001b[1;36m1\u001b[0m\u001b[1;33m]\u001b[0m \u001b[1;33m=\u001b[0m \u001b[1;34m\"a\"\u001b[0m\u001b[1;33m\u001b[0m\u001b[1;33m\u001b[0m\u001b[0m\n\u001b[0m",
      "\u001b[1;31mTypeError\u001b[0m: 'str' object does not support item assignment"
     ]
    }
   ],
   "source": [
    "# Strings are \"immutable\" in Python - can't be modified\n",
    "# You can't assign characters in a string to change them.\n",
    "# You would need to create a new string to do this.\n",
    "hello_string = \"hello\"\n",
    "hello_string[1] = \"a\""
   ]
  },
  {
   "cell_type": "markdown",
   "metadata": {
    "colab_type": "text",
    "id": "oj6GySnQjHjK"
   },
   "source": [
    "## len() function"
   ]
  },
  {
   "cell_type": "code",
   "execution_count": 8,
   "metadata": {
    "colab": {
     "base_uri": "https://localhost:8080/",
     "height": 34
    },
    "colab_type": "code",
    "id": "_HPDwh_G0jTC",
    "outputId": "f6b8dbe3-e298-4585-c3a4-87ed059526d6"
   },
   "outputs": [
    {
     "name": "stdout",
     "output_type": "stream",
     "text": [
      "9\n"
     ]
    }
   ],
   "source": [
    "word = \"woooooord\"\n",
    "\n",
    "print(len(word))"
   ]
  },
  {
   "cell_type": "markdown",
   "metadata": {
    "colab_type": "text",
    "id": "FesaJ9yPjHn5"
   },
   "source": [
    "## Type conversion with str()"
   ]
  },
  {
   "cell_type": "code",
   "execution_count": 9,
   "metadata": {
    "colab": {
     "base_uri": "https://localhost:8080/",
     "height": 185
    },
    "colab_type": "code",
    "id": "jLmpF5lL0-QT",
    "outputId": "eb36c9a5-b235-48de-df17-dda84ececfa5"
   },
   "outputs": [
    {
     "name": "stdout",
     "output_type": "stream",
     "text": [
      "<class 'int'>\n",
      "4\n",
      "<class 'float'>\n",
      "3.14159265\n",
      "\n",
      "\n",
      "<class 'str'>\n",
      "4\n",
      "<class 'str'>\n",
      "3.14159265\n"
     ]
    }
   ],
   "source": [
    "my_int = 4\n",
    "my_float = 3.14159265\n",
    "\n",
    "print(type(my_int))\n",
    "print(my_int)\n",
    "print(type(my_float))\n",
    "print(my_float)\n",
    "\n",
    "int_string = str(my_int)\n",
    "float_string = str(my_float)\n",
    "\n",
    "print('\\n')\n",
    "print(type(int_string))\n",
    "print(int_string)\n",
    "print(type(float_string))\n",
    "print(float_string)"
   ]
  },
  {
   "cell_type": "markdown",
   "metadata": {
    "colab_type": "text",
    "id": "UndxuLuHlmx0"
   },
   "source": [
    "## Slice Notation with strings (`:` operator)"
   ]
  },
  {
   "cell_type": "code",
   "execution_count": null,
   "metadata": {
    "colab": {},
    "colab_type": "code",
    "id": "QJqLDtrVlM1u"
   },
   "outputs": [],
   "source": [
    "# DON'T RUN THIS\n",
    "# You can use slice methods on strings just as you would a list\n",
    "# The syntax goes something like this: \n",
    "\n",
    "a[start:stop]  # items start through stop-1 (or you can think start+1 to stop if not zero indexed)\n",
    "a[start:]      # items start through the rest of the array\n",
    "a[:stop]       # items from the beginning through stop-1\n",
    "a[:]           # a copy of the whole array"
   ]
  },
  {
   "cell_type": "code",
   "execution_count": null,
   "metadata": {
    "colab": {
     "base_uri": "https://localhost:8080/",
     "height": 67
    },
    "colab_type": "code",
    "id": "cVlltpSPl_R0",
    "outputId": "fcd79c4f-12f2-4fc7-a483-111751cbe343"
   },
   "outputs": [],
   "source": [
    "# Where you see a colon say to yourself \"go to\" to help remember its function\n",
    "print(test[10:14])\n",
    "print(test[10:])\n",
    "print(test[:14])"
   ]
  },
  {
   "cell_type": "code",
   "execution_count": null,
   "metadata": {
    "colab": {
     "base_uri": "https://localhost:8080/",
     "height": 67
    },
    "colab_type": "code",
    "id": "HsEQYLgZpPEK",
    "outputId": "b9aff395-a234-498a-c671-68aa064ad58f"
   },
   "outputs": [],
   "source": [
    "print(test[:-4])\n",
    "\n",
    "# String slicing only works from left -> right\n",
    "# This doesn't work\n",
    "print(test[-2:-4])\n",
    "\n",
    "# But this does\n",
    "print(test[-4:-2])"
   ]
  },
  {
   "cell_type": "code",
   "execution_count": null,
   "metadata": {
    "colab": {
     "base_uri": "https://localhost:8080/",
     "height": 34
    },
    "colab_type": "code",
    "id": "r_ObT-1utpSD",
    "outputId": "71e8cd4d-c421-4eae-9e21-54853f34a05c"
   },
   "outputs": [],
   "source": [
    "hello_string = \"hello\"\n",
    "# hello_string[1] = \"a\" # This doesn't work, remember?\n",
    "# hello_string[1:2] = \"a\" # Well, this also doesn't work.\n",
    "\n",
    "first_section = hello_string[:1]\n",
    "last_section = hello_string[2:]\n",
    "\n",
    "hallo_string = first_section + \"a\" + last_section\n",
    "print(hallo_string)\n",
    "\n",
    "# This is still not a great solution, we'll look at a better one in a minute."
   ]
  },
  {
   "cell_type": "markdown",
   "metadata": {
    "colab_type": "text",
    "id": "9itW9gV4jdRw"
   },
   "source": [
    "## The `in` Operator"
   ]
  },
  {
   "cell_type": "code",
   "execution_count": null,
   "metadata": {
    "colab": {
     "base_uri": "https://localhost:8080/",
     "height": 50
    },
    "colab_type": "code",
    "id": "1oOiira6oHua",
    "outputId": "6afdc3ef-5b98-4b7d-f750-f76c6cd230e3"
   },
   "outputs": [],
   "source": [
    "test = \"This is a test string\"\n",
    "\n",
    "search_string = \"test\"\n",
    "\n",
    "print(search_string in test)\n",
    "\n",
    "search_string = \"testing\"\n",
    "\n",
    "print(search_string in test)"
   ]
  },
  {
   "cell_type": "markdown",
   "metadata": {
    "colab_type": "text",
    "id": "KgRrA5ekjHc7"
   },
   "source": [
    "## The `+` Operator (Concatenation)"
   ]
  },
  {
   "cell_type": "code",
   "execution_count": null,
   "metadata": {
    "colab": {
     "base_uri": "https://localhost:8080/",
     "height": 50
    },
    "colab_type": "code",
    "id": "v-nGBeV8jhsd",
    "outputId": "0e8cc7c3-5842-4059-bd9c-c60916492e97"
   },
   "outputs": [],
   "source": [
    "no_space_phrase = \"Combine\" + \"strings\" + \"into\" + \"one\" + \".\"\n",
    "print(no_space_phrase)\n",
    "\n",
    "# When using \"+\" you have to add your own separators.\n",
    "my_phrase = \"Combine\" + \" \" + \"strings\" + \" \" + \"into\" + \" \" + \"one\" + \".\"\n",
    "print(my_phrase)"
   ]
  },
  {
   "cell_type": "code",
   "execution_count": null,
   "metadata": {
    "colab": {
     "base_uri": "https://localhost:8080/",
     "height": 34
    },
    "colab_type": "code",
    "id": "GDcum64rkivK",
    "outputId": "0e25ac1c-c75d-4de8-bbf3-163f84116056"
   },
   "outputs": [],
   "source": [
    "year = \"2018\"\n",
    "month = \"March\"\n",
    "day = \"14\"\n",
    "\n",
    "pi_day = month + \" \" + day + \", \" + year\n",
    "\n",
    "print(pi_day)"
   ]
  },
  {
   "cell_type": "markdown",
   "metadata": {
    "colab_type": "text",
    "id": "anF_KWMMkOtV"
   },
   "source": [
    "## `.join(<iterable>)` "
   ]
  },
  {
   "cell_type": "code",
   "execution_count": null,
   "metadata": {
    "colab": {
     "base_uri": "https://localhost:8080/",
     "height": 134
    },
    "colab_type": "code",
    "id": "OE0wom97p7Ow",
    "outputId": "9bca1e45-f848-4afc-f66f-e5f165295aee"
   },
   "outputs": [],
   "source": [
    "word_list = [\"These\", \"are\", \"some\", \"strings\", \"in\", \"a\", \"list\"]\n",
    "\n",
    "# If an individual string is indexable does that make this a 2d list?\n",
    "print(word_list[3][2:4])\n",
    "print(word_list[1:2]) # Returns a list\n",
    "print(word_list[1:2][0]) #Gets the first item in that list\n",
    "print(word_list[1:2][0][1:2]) # gets the second letter of the second item in word_list\n",
    "\n",
    "\n",
    "# The .join() operator can concatenate strings in a list with some kind of separator\n",
    "\n",
    "#.join for multiple\n",
    "no_spaces = \"\".join(word_list)\n",
    "print(no_spaces)\n",
    "\n",
    "with_spaces = \" \".join(word_list)\n",
    "print(with_spaces)\n",
    "\n",
    "comma_separated = \", \".join(word_list)\n",
    "print(comma_separated)"
   ]
  },
  {
   "cell_type": "markdown",
   "metadata": {
    "colab_type": "text",
    "id": "c6gk2yZCn97M"
   },
   "source": [
    "## `.split(<sep>)`\n",
    "The opposite of .join()"
   ]
  },
  {
   "cell_type": "code",
   "execution_count": null,
   "metadata": {
    "colab": {
     "base_uri": "https://localhost:8080/",
     "height": 50
    },
    "colab_type": "code",
    "id": "eijC9uCljiLW",
    "outputId": "9bba41dc-dc54-4b97-9859-85e26223275c"
   },
   "outputs": [],
   "source": [
    "split_me = \"These are some strings in a list\"\n",
    "\n",
    "words = split_me.split(\" \")\n",
    "\n",
    "print(words)\n",
    "\n",
    "put_it_back = \" \".join(words)\n",
    "\n",
    "print(put_it_back+\".\")"
   ]
  },
  {
   "cell_type": "code",
   "execution_count": null,
   "metadata": {
    "colab": {
     "base_uri": "https://localhost:8080/",
     "height": 67
    },
    "colab_type": "code",
    "id": "Vq5zKu9e2To2",
    "outputId": "28ce04aa-354d-4ece-abd5-79fce794c3e3"
   },
   "outputs": [],
   "source": [
    "# Turn a string into a list of characters\n",
    "\n",
    "hello_string = \"hello\"\n",
    "\n",
    "# hello_list = hello_string.split(\"\") # This doesn't work either.\n",
    "# print(hello_list)\n",
    "\n",
    "hello_list = list(hello_string)\n",
    "print(hello_list)\n",
    "\n",
    "hello_list[1] = \"a\"\n",
    "\n",
    "print(hello_list)\n",
    "\n",
    "hallo_string = ''.join(hello_list)\n",
    "print(hallo_string) "
   ]
  },
  {
   "cell_type": "markdown",
   "metadata": {
    "colab_type": "text",
    "id": "2Zp4X0H3jHqf"
   },
   "source": [
    "## `.partition(<sep>)`\n",
    "\n",
    "Say you want to split up a string but you don't want to remove the separator character."
   ]
  },
  {
   "cell_type": "code",
   "execution_count": 11,
   "metadata": {
    "colab": {
     "base_uri": "https://localhost:8080/",
     "height": 34
    },
    "colab_type": "code",
    "id": "VXEgPsmf7QgG",
    "outputId": "c1e60a94-86df-4377-b65c-6dffa89a0d46"
   },
   "outputs": [
    {
     "name": "stdout",
     "output_type": "stream",
     "text": [
      "('ryan.allred', '@', 'lambdaschool.com')\n"
     ]
    }
   ],
   "source": [
    "email = 'ryan.allred@lambdaschool.com'\n",
    "\n",
    "partitioned_email = email.partition(\"@\")\n",
    "print(partitioned_email)"
   ]
  },
  {
   "cell_type": "markdown",
   "metadata": {
    "colab_type": "text",
    "id": "Uyfhn1Q8nKNl"
   },
   "source": [
    "## `.upper()` and `.lower()` methods"
   ]
  },
  {
   "cell_type": "code",
   "execution_count": 12,
   "metadata": {
    "colab": {
     "base_uri": "https://localhost:8080/",
     "height": 50
    },
    "colab_type": "code",
    "id": "HVmLAnzCngsn",
    "outputId": "ca7253fc-494d-4b0f-d55a-1533634ec051"
   },
   "outputs": [
    {
     "name": "stdout",
     "output_type": "stream",
     "text": [
      "Uppercase: RYAN ALLRED\n",
      "Lowercase: ryan allred\n"
     ]
    }
   ],
   "source": [
    "name = \"Ryan Allred\"\n",
    "\n",
    "print(\"Uppercase:\", name.upper())\n",
    "\n",
    "print(\"Lowercase:\", name.lower())"
   ]
  },
  {
   "cell_type": "markdown",
   "metadata": {
    "colab_type": "text",
    "id": "zBDQC4qCUXvC"
   },
   "source": [
    "# String Interpolation \n",
    "\n",
    "Inserting values into a string "
   ]
  },
  {
   "cell_type": "markdown",
   "metadata": {
    "colab_type": "text",
    "id": "9ibOpkyrY4s5"
   },
   "source": [
    "## Printing separated by commas"
   ]
  },
  {
   "cell_type": "code",
   "execution_count": 13,
   "metadata": {
    "colab": {
     "base_uri": "https://localhost:8080/",
     "height": 34
    },
    "colab_type": "code",
    "id": "X_enGujZZJRk",
    "outputId": "7b74558c-3bea-41f1-a772-edf057e8f3d8"
   },
   "outputs": [
    {
     "name": "stdout",
     "output_type": "stream",
     "text": [
      "The speed limit is 70 miles per hour.\n"
     ]
    }
   ],
   "source": [
    "speed_limit = 70\n",
    "\n",
    "print(\"The speed limit is\", speed_limit, \"miles per hour.\")"
   ]
  },
  {
   "cell_type": "markdown",
   "metadata": {
    "colab_type": "text",
    "id": "usF3mDqTWsI_"
   },
   "source": [
    "## %s-formatting (the old-school way)"
   ]
  },
  {
   "cell_type": "code",
   "execution_count": null,
   "metadata": {
    "colab": {
     "base_uri": "https://localhost:8080/",
     "height": 50
    },
    "colab_type": "code",
    "id": "y-Gi6AiBWu2w",
    "outputId": "b2d8f197-61ea-453b-d003-369a07421b83"
   },
   "outputs": [],
   "source": [
    "my_name = \"Ryan\"\n",
    "print(\"My name is %s.\" %my_name)\n",
    "\n",
    "pi = 3.14159265359\n",
    "print(\"Pi is approximately %.3f\" %pi)"
   ]
  },
  {
   "cell_type": "markdown",
   "metadata": {
    "colab_type": "text",
    "id": "EfO0sYEkXde8"
   },
   "source": [
    "This method can get unwieldy if you have a lot of variables. You have to match arguments to inserts to follow what's happening. "
   ]
  },
  {
   "cell_type": "code",
   "execution_count": null,
   "metadata": {
    "colab": {
     "base_uri": "https://localhost:8080/",
     "height": 34
    },
    "colab_type": "code",
    "id": "asuyLrZ2XgsV",
    "outputId": "601aeec6-72ce-4974-c3dc-9d9daaafd78a"
   },
   "outputs": [],
   "source": [
    "day = 14\n",
    "month = \"March\"\n",
    "year = 2018\n",
    "forecast = \"sunny\"\n",
    "high = 52.287\n",
    "low = 33.543\n",
    "\n",
    "print(\"On %s %s, %s the forecast was %s with a high of %.0f and a low of %.0f.\" %(month, day, year, forecast, high, low))"
   ]
  },
  {
   "cell_type": "markdown",
   "metadata": {
    "colab_type": "text",
    "id": "zmoAO3N1hl6n"
   },
   "source": [
    "The syntax becomes particularly ugly if your values are stored in a dictionary."
   ]
  },
  {
   "cell_type": "code",
   "execution_count": null,
   "metadata": {
    "colab": {
     "base_uri": "https://localhost:8080/",
     "height": 34
    },
    "colab_type": "code",
    "id": "i4nDIH-IhosZ",
    "outputId": "4d221b62-e0cd-4af2-fa7f-42399f30323f"
   },
   "outputs": [],
   "source": [
    "weather_dict = {\n",
    "    'day': 14,\n",
    "    'month': 'March',\n",
    "    'year': 2018,\n",
    "    'forecast': 'sunny',\n",
    "    'high': 52.287,\n",
    "    'low': 33.543\n",
    "}\n",
    "\n",
    "print(\"On %s %s, %s the forecast was %s with a high of %.0f and a low of %.0f.\" \n",
    "      %(weather_dict['month'], weather_dict['day'], weather_dict['year'], \n",
    "        weather_dict['forecast'], weather_dict['high'], weather_dict['low']))"
   ]
  },
  {
   "cell_type": "markdown",
   "metadata": {
    "colab_type": "text",
    "id": "8AlGjQPGelrt"
   },
   "source": [
    "## `.format()` - The new old-school way - As of Python 3.1 \n",
    "More explicit, and that's good, but more verbose."
   ]
  },
  {
   "cell_type": "code",
   "execution_count": null,
   "metadata": {
    "colab": {
     "base_uri": "https://localhost:8080/",
     "height": 50
    },
    "colab_type": "code",
    "id": "qLQltsNsewRj",
    "outputId": "b5b25cbc-c0a0-43eb-fd19-46635faf6b03"
   },
   "outputs": [],
   "source": [
    "day = 14\n",
    "month = \"March\"\n",
    "year = 2018\n",
    "forecast = \"sunny\"\n",
    "high = 52.287\n",
    "low = 33.543\n",
    "\n",
    "print('''On {month} {day}, {year} the forecast was {forecast} with a high of \n",
    "      {high:.0f} and a low of {low:.0f}.'''.format(month=month, day=day, \n",
    "                                                   year=year, forecast=forecast, \n",
    "                                                   high=high, low=low))"
   ]
  },
  {
   "cell_type": "markdown",
   "metadata": {
    "colab_type": "text",
    "id": "g6CfffRfjhN9"
   },
   "source": [
    "You can omit the inner variables to make things a little shorter, but then it's less explicit. "
   ]
  },
  {
   "cell_type": "code",
   "execution_count": null,
   "metadata": {
    "colab": {
     "base_uri": "https://localhost:8080/",
     "height": 50
    },
    "colab_type": "code",
    "id": "Y1AecQdfjnFJ",
    "outputId": "674dad0a-3f1f-439d-c5f3-db96a531a510"
   },
   "outputs": [],
   "source": [
    "day = 14\n",
    "month = \"March\"\n",
    "year = 2018\n",
    "forecast = \"sunny\"\n",
    "high = 52.287\n",
    "low = 33.543\n",
    "\n",
    "print('''On {} {}, {} the forecast was {} with a high of {:.0f} and a low of \n",
    "      {:.0f}.'''.format(month, day, year, forecast, high, low))"
   ]
  },
  {
   "cell_type": "markdown",
   "metadata": {
    "colab_type": "text",
    "id": "1pn_CP-2kF4c"
   },
   "source": [
    "Imagine if you wanted both explicitness and your values were stored in a dictionary. "
   ]
  },
  {
   "cell_type": "code",
   "execution_count": 14,
   "metadata": {
    "colab": {
     "base_uri": "https://localhost:8080/",
     "height": 50
    },
    "colab_type": "code",
    "id": "769qCMykkMFI",
    "outputId": "8e43c390-0fee-4f51-cbeb-505dd3b55367"
   },
   "outputs": [
    {
     "name": "stdout",
     "output_type": "stream",
     "text": [
      "On March 14, 2018 the forecast was sunny with a high of \n",
      "      52 and a low of 34.\n"
     ]
    }
   ],
   "source": [
    "weather_dict = {\n",
    "    'day': 14,\n",
    "    'month': 'March',\n",
    "    'year': 2018,\n",
    "    'forecast': 'sunny',\n",
    "    'high': 52.287,\n",
    "    'low': 33.543\n",
    "}\n",
    "\n",
    "print('''On {month} {day}, {year} the forecast was {forecast} with a high of \n",
    "      {high:.0f} and a low of {low:.0f}.'''.format(month=weather_dict['month'], day=weather_dict['day'], \n",
    "                                                   year=weather_dict['year'], forecast=weather_dict['forecast'], \n",
    "                                                   high=weather_dict['high'], low=weather_dict['low']))"
   ]
  },
  {
   "cell_type": "markdown",
   "metadata": {
    "colab_type": "text",
    "id": "BwpiL5idZYxF"
   },
   "source": [
    "## f-strings - The new-school way - As of Python 3.6 \n",
    "\n",
    "f-strings are great because they are be both explicit and succinct.\n",
    "\n"
   ]
  },
  {
   "cell_type": "code",
   "execution_count": null,
   "metadata": {
    "colab": {
     "base_uri": "https://localhost:8080/",
     "height": 67
    },
    "colab_type": "code",
    "id": "gHcmkmPSknPC",
    "outputId": "699dc06c-b63f-4c2a-d652-3120351d5607"
   },
   "outputs": [],
   "source": [
    "weather_dict = {\n",
    "    'day': 14,\n",
    "    'month': 'March',\n",
    "    'year': 2018,\n",
    "    'forecast': 'sunny',\n",
    "    'high': 52.287,\n",
    "    'low': 33.543\n",
    "}\n",
    "\n",
    "print(f'''On {weather_dict['month']} {weather_dict['day']}, {weather_dict['year']} \n",
    "      the forecast was {weather_dict['forecast']} with a high of {weather_dict['high']:.0f} \n",
    "      and a low of {weather_dict['low']:.0f}.''')"
   ]
  },
  {
   "cell_type": "code",
   "execution_count": null,
   "metadata": {
    "colab": {
     "base_uri": "https://localhost:8080/",
     "height": 118
    },
    "colab_type": "code",
    "id": "oqFeaKxnUeG0",
    "outputId": "4c3775ae-c812-48cb-b177-f9cff145d394"
   },
   "outputs": [],
   "source": [
    "# This works with any kind of string syntax:\n",
    "dog_noise = 'Bark'\n",
    "\n",
    "print(f'A dog says {dog_noise}!')\n",
    "print(f\"A dog says {dog_noise}!\")\n",
    "print(f'''A dog says {dog_noise}!''')\n",
    "\n",
    "# You can also call functions within them which is pretty cool.\n",
    "print('\\n')\n",
    "print(f'A dog says {dog_noise.upper()}!')"
   ]
  },
  {
   "cell_type": "markdown",
   "metadata": {
    "colab_type": "text",
    "id": "1r_cHtP2OXE2"
   },
   "source": [
    "# Escape Characters and Whitespace in Text\n",
    "\n",
    "Sometimes there are symbols in text that you don't want to be recognized as their literall string characters. To indicate to the python interpreter that these characters have special meaning, we proceed them with a backslash \"\\\". This backslash says that whatever character lies after it has a special function."
   ]
  },
  {
   "cell_type": "markdown",
   "metadata": {
    "colab_type": "text",
    "id": "VpKr3TjDSekM"
   },
   "source": [
    "## Escape Characters for Quotes"
   ]
  },
  {
   "cell_type": "code",
   "execution_count": null,
   "metadata": {
    "colab": {
     "base_uri": "https://localhost:8080/",
     "height": 50
    },
    "colab_type": "code",
    "id": "xjTqwdoyPCJk",
    "outputId": "2900767d-b743-4da4-9b19-06e8d5ffd9c6"
   },
   "outputs": [],
   "source": [
    "print(\"He said, \\\"I want double quotes inside of double quotes.\\\"\")\n",
    "print('He\\'s also using single quotes inside of single quotes.')"
   ]
  },
  {
   "cell_type": "markdown",
   "metadata": {
    "colab_type": "text",
    "id": "kAsbIQUsT4WG"
   },
   "source": [
    "## Escape Characters for Whitespace"
   ]
  },
  {
   "cell_type": "code",
   "execution_count": null,
   "metadata": {
    "colab": {
     "base_uri": "https://localhost:8080/",
     "height": 118
    },
    "colab_type": "code",
    "id": "ULaIvb2yTPAS",
    "outputId": "ffa6e0df-3aad-4e6e-c750-b7960de22393"
   },
   "outputs": [],
   "source": [
    "print(\"single space\")\n",
    "print(\"---------------\")\n",
    "print(\"tabbed\\tspace\") # \\t\n",
    "print(\"---------------\")\n",
    "print(\"newline\\ncharacter\") # \\n"
   ]
  },
  {
   "cell_type": "markdown",
   "metadata": {
    "colab_type": "text",
    "id": "alFbr5QXn-hh"
   },
   "source": [
    "## Cleaning irregular whitespace."
   ]
  },
  {
   "cell_type": "code",
   "execution_count": 1,
   "metadata": {
    "colab": {
     "base_uri": "https://localhost:8080/",
     "height": 134
    },
    "colab_type": "code",
    "id": "42bo4iB_oFPL",
    "outputId": "7a4b1037-27c6-4060-ca1b-16e23d2fe6ee"
   },
   "outputs": [
    {
     "name": "stdout",
     "output_type": "stream",
     "text": [
      "     This   is a \t\t sentence with \n",
      "   lots    of  \t spaces.     \n",
      "-------------\n",
      "This   is a \t\t sentence with \n",
      "   lots    of  \t spaces.\n",
      "-------------\n",
      "This is a sentence with lots of spaces.\n"
     ]
    }
   ],
   "source": [
    "spacey_sentence = \"     This   is a \\t\\t sentence with \\n   lots    of  \\t spaces.     \"\n",
    "print(spacey_sentence)\n",
    "print('-------------')\n",
    "# Strip whitespace from the beginning and end of the string\n",
    "print(spacey_sentence.strip())\n",
    "print('-------------')\n",
    "# Make all multiple spaces single spaces and remove beginning and end spaces\n",
    "print(\" \".join(spacey_sentence.split()))"
   ]
  },
  {
   "cell_type": "markdown",
   "metadata": {
    "colab_type": "text",
    "id": "KteS7NPcO_36"
   },
   "source": [
    "## Raw Strings\n",
    "\n",
    "A Python raw string (also called a \"raw string literal\") is created by prefixing a string literal with ‘r’ or ‘R’. Python raw strings treat backslashes `\\` as a literal character. This is useful when we want to have a string that contains backslash and don’t want it to be treated as an escape character."
   ]
  },
  {
   "cell_type": "code",
   "execution_count": null,
   "metadata": {
    "colab": {
     "base_uri": "https://localhost:8080/",
     "height": 50
    },
    "colab_type": "code",
    "id": "JVdnPumLPCwR",
    "outputId": "613b9f30-afa8-4343-f672-fa863def191b"
   },
   "outputs": [],
   "source": [
    "greeting = 'Hi\\nHello'\n",
    "print(greeting)"
   ]
  },
  {
   "cell_type": "code",
   "execution_count": null,
   "metadata": {
    "colab": {
     "base_uri": "https://localhost:8080/",
     "height": 34
    },
    "colab_type": "code",
    "id": "4kH3msMBzuVw",
    "outputId": "2c5fb8b1-985e-44f0-a39d-c2c12a651fa6"
   },
   "outputs": [],
   "source": [
    "greeting = r'Hi\\nHello'\n",
    "print(greeting)"
   ]
  },
  {
   "cell_type": "markdown",
   "metadata": {
    "colab_type": "text",
    "id": "q8lj1AVYXCgE"
   },
   "source": [
    "# Regular Expressions\n",
    "\n",
    "A RegEx, or Regular Expression, is a sequence of characters that forms a search pattern.\n",
    "\n",
    "RegEx can be used to check if a string contains the specified search pattern.\n",
    "\n",
    "Regular Expressions aren't specific to any single programming language but are a standalone syntax that is more or less standard among programming langues, so these skills will help you no matter the language that you're working with.  \n",
    "\n",
    "The only downside with regular expressions is that the syntax is pretty abstract, but with a little bit of practice  **and a lot of references to cheat sheets** we can make it happen.\n",
    "\n",
    "### Here are some cheat sheets for your reference: \n",
    "\n",
    "<https://www.debuggex.com/cheatsheet/regex/python>\n",
    "\n",
    "<https://www.dataquest.io/blog/regex-cheatsheet>"
   ]
  },
  {
   "cell_type": "code",
   "execution_count": null,
   "metadata": {
    "colab": {},
    "colab_type": "code",
    "id": "WsGFT-0XMIZP"
   },
   "outputs": [],
   "source": [
    "import re"
   ]
  },
  {
   "cell_type": "markdown",
   "metadata": {
    "colab_type": "text",
    "id": "0u3JsvrL2IxV"
   },
   "source": [
    "When using regular expressions in Python it is recommended that you use raw strings instead of regular Python strings so that we can easily interpret whitespace (and other escaped characters) by their escape character sequence."
   ]
  },
  {
   "cell_type": "markdown",
   "metadata": {
    "colab_type": "text",
    "id": "mHP8VO1E2d6i"
   },
   "source": [
    "## Single Letter Matching"
   ]
  },
  {
   "cell_type": "code",
   "execution_count": null,
   "metadata": {
    "colab": {
     "base_uri": "https://localhost:8080/",
     "height": 84
    },
    "colab_type": "code",
    "id": "fmz-J-GP2hNu",
    "outputId": "b6197100-dfc0-4747-f69d-19ace81010d0"
   },
   "outputs": [],
   "source": [
    "# matchObject = re.search(pattern, input_str)\n",
    "\n",
    "# Search for the first lowercase letter\n",
    "regex = r\"[a-z]\" \n",
    "match = re.search(regex, \"June 24\")\n",
    "\n",
    "# Look at the match object\n",
    "print(match)\n",
    "\n",
    "# Look at the matching string\n",
    "print(match[0])\n",
    "\n",
    "# Look at slice indices and grab the match manually\n",
    "print(\"Slice indices for this string:\", match.start(), match.end())\n",
    "print(\"June 24\"[match.start():match.end()])"
   ]
  },
  {
   "cell_type": "code",
   "execution_count": null,
   "metadata": {
    "colab": {
     "base_uri": "https://localhost:8080/",
     "height": 50
    },
    "colab_type": "code",
    "id": "nHOLIsyy4a-I",
    "outputId": "502488fd-47de-4650-a98b-319fca064b89"
   },
   "outputs": [],
   "source": [
    "# Search for the first uppercase letter\n",
    "regex = r\"[A-Z]\" \n",
    "\n",
    "search_result = re.search(regex, \"June 24\")\n",
    "print(search_result)\n",
    "\n",
    "print(search_result[0])"
   ]
  },
  {
   "cell_type": "code",
   "execution_count": null,
   "metadata": {
    "colab": {
     "base_uri": "https://localhost:8080/",
     "height": 50
    },
    "colab_type": "code",
    "id": "HbuI6Few4lKd",
    "outputId": "8e7833b2-1514-4959-f806-13c8201d2c7c"
   },
   "outputs": [],
   "source": [
    "# Search for groups of 1 or more uppercase or lowercase letters (word things)\n",
    "regex = r\"[a-zA-Z]+\" \n",
    "\n",
    "search_result = re.search(regex, \"June 24\")\n",
    "print(search_result)\n",
    "\n",
    "print(search_result[0])"
   ]
  },
  {
   "cell_type": "markdown",
   "metadata": {
    "colab_type": "text",
    "id": "Q3CJadx57MM7"
   },
   "source": [
    "## Multiple Matches"
   ]
  },
  {
   "cell_type": "code",
   "execution_count": null,
   "metadata": {
    "colab": {
     "base_uri": "https://localhost:8080/",
     "height": 84
    },
    "colab_type": "code",
    "id": "hLCsDZg95N4r",
    "outputId": "79575b2b-5152-49af-a335-97b54aa0cdf1"
   },
   "outputs": [],
   "source": [
    "# Search for groups of 1 or more letters\n",
    "regex = r\"[a-zA-Z]+\" \n",
    "\n",
    "string = \"June 24, other thing, February 6, doesn't match, March 14\"\n",
    "\n",
    "# .findall() returns a list of the matching strings\n",
    "search_result = re.findall(regex, string)\n",
    "print(search_result)\n",
    "\n",
    "for match in search_result:\n",
    "  print(match)"
   ]
  },
  {
   "cell_type": "code",
   "execution_count": null,
   "metadata": {
    "colab": {
     "base_uri": "https://localhost:8080/",
     "height": 168
    },
    "colab_type": "code",
    "id": "YM393zbk7voX",
    "outputId": "fdbcb008-8eb3-4e94-cc43-c8d423fd0166"
   },
   "outputs": [],
   "source": [
    "# Search for groups of 1 or more letters\n",
    "regex = r\"[a-zA-Z]+\" \n",
    "\n",
    "string = \"June 24, other thing, February 6, doesn't match, March 14\"\n",
    "\n",
    "# finditer returns a list of match objects \n",
    "search_result = re.finditer(regex, string)\n",
    "\n",
    "for match in search_result:\n",
    "  start = match.start()\n",
    "  end = match.end()\n",
    "  print(f\"The string starts at {start} and ends at {end}\")\n",
    "  print(f\"The string is {match[0]}\")\n",
    "#   print(f\"The string is {string[start:end]}\")\n",
    "  print('--------------')"
   ]
  },
  {
   "cell_type": "markdown",
   "metadata": {
    "colab_type": "text",
    "id": "aRlv8hx4Etu1"
   },
   "source": [
    "## Capture Groups"
   ]
  },
  {
   "cell_type": "code",
   "execution_count": null,
   "metadata": {
    "colab": {
     "base_uri": "https://localhost:8080/",
     "height": 84
    },
    "colab_type": "code",
    "id": "KB67uJtHEvtv",
    "outputId": "497f2da1-22fd-4c72-bcb1-cef879367604"
   },
   "outputs": [],
   "source": [
    "# Capture something that matches date\n",
    "regex = r\"[a-zA-Z]+ \\d+\" \n",
    "\n",
    "string = \"June 24, other thing, February 6, doesn't match, March 14\"\n",
    "\n",
    "search_result = re.findall(regex, string)\n",
    "print(search_result)\n",
    "\n",
    "for match in search_result:\n",
    "  print(match)"
   ]
  },
  {
   "cell_type": "code",
   "execution_count": null,
   "metadata": {
    "colab": {
     "base_uri": "https://localhost:8080/",
     "height": 84
    },
    "colab_type": "code",
    "id": "pmP_MqlHFO9e",
    "outputId": "872a22d2-50e4-4a87-e7bb-93aa9e400087"
   },
   "outputs": [],
   "source": [
    "# Capture something that matches date but only capture the month\n",
    "regex = r\"([a-zA-Z]+) \\d+\" \n",
    "\n",
    "string = \"June 24, other thing, February 6, doesn't match, March 14\"\n",
    "\n",
    "search_result = re.findall(regex, string)\n",
    "print(search_result)\n",
    "\n",
    "for match in search_result:\n",
    "  print(match)"
   ]
  },
  {
   "cell_type": "code",
   "execution_count": 3,
   "metadata": {
    "colab": {
     "base_uri": "https://localhost:8080/",
     "height": 84
    },
    "colab_type": "code",
    "id": "xjqL1VJiGUfS",
    "outputId": "388f5a86-9eb0-4e5c-a5c2-cfe222b5fe87"
   },
   "outputs": [
    {
     "name": "stdout",
     "output_type": "stream",
     "text": [
      "[('June', '24'), ('February', '6'), ('March', '14')]\n",
      "('June', '24')\n",
      "('February', '6')\n",
      "('March', '14')\n"
     ]
    }
   ],
   "source": [
    "# Capture both month and day separately\n",
    "import re\n",
    "regex = r\"([a-zA-Z]+) (\\d+)\" \n",
    "\n",
    "string = \"June 24, other thing, February 6, doesn't match, March 14\"\n",
    "\n",
    "search_result = re.findall(regex, string)\n",
    "print(search_result)\n",
    "\n",
    "for match in search_result:\n",
    "  print(match)"
   ]
  },
  {
   "cell_type": "markdown",
   "metadata": {
    "colab_type": "text",
    "id": "5CR8IP5ZaolV"
   },
   "source": [
    "Lists of tuples are great because they go into dataframes easily!"
   ]
  },
  {
   "cell_type": "code",
   "execution_count": null,
   "metadata": {
    "colab": {
     "base_uri": "https://localhost:8080/",
     "height": 136
    },
    "colab_type": "code",
    "id": "-avn9pp2aoC6",
    "outputId": "01da71f7-5055-47b3-be6a-08c09435e52b"
   },
   "outputs": [],
   "source": [
    "df = pd.DataFrame(search_result, columns=['Month', 'Day'])\n",
    "df.head()"
   ]
  },
  {
   "cell_type": "markdown",
   "metadata": {
    "colab_type": "text",
    "id": "HFk7opjwal3l"
   },
   "source": [
    "# Regex Practice"
   ]
  },
  {
   "cell_type": "code",
   "execution_count": null,
   "metadata": {
    "colab": {},
    "colab_type": "code",
    "id": "ju-2-U2i0D8o"
   },
   "outputs": [],
   "source": [
    "text_to_search = '''\n",
    "abcdefghijklmnopqrstuvwxyz\n",
    "ABCDEFGHIJKLMNOPQRSTUVWXYZ\n",
    "1234567890\n",
    "\n",
    "lambdaschool.com\n",
    "numpy.org\n",
    "pythonprogramming.net\n",
    "\n",
    "http://www.LambdaSchool.com\n",
    "http://www.google.com\n",
    "https://www.twitter.com\n",
    "\n",
    "8014893087\n",
    "801-489-8116\n",
    "801.491.8037\n",
    "345&123(1209?\n",
    "\n",
    "Mr. Allred\n",
    "Mrs. Smith\n",
    "Ms. Todorojo\n",
    "Mr Priest\n",
    "Dr Strangelove\n",
    "\n",
    "MetaCharacters that need to be escaped:\n",
    "\\.{[()*&+?|$\n",
    ".$^*(){}[]\\|+?\n",
    "\n",
    "This is a sentence of text.\n",
    "'''"
   ]
  },
  {
   "cell_type": "markdown",
   "metadata": {
    "colab_type": "text",
    "id": "c0qMM16d051f"
   },
   "source": [
    "## Search for the string \"abc\""
   ]
  },
  {
   "cell_type": "code",
   "execution_count": null,
   "metadata": {
    "colab": {
     "base_uri": "https://localhost:8080/",
     "height": 34
    },
    "colab_type": "code",
    "id": "ZrpxQbOlJHOA",
    "outputId": "21633a06-c5de-48de-88b7-4f950415d77d"
   },
   "outputs": [],
   "source": []
  },
  {
   "cell_type": "markdown",
   "metadata": {
    "colab_type": "text",
    "id": "Jp3q25wl2f5M"
   },
   "source": [
    "## Search for the string \".\""
   ]
  },
  {
   "cell_type": "code",
   "execution_count": null,
   "metadata": {
    "colab": {},
    "colab_type": "code",
    "id": "AXbI8xpfJQ-l"
   },
   "outputs": [],
   "source": []
  },
  {
   "cell_type": "markdown",
   "metadata": {
    "colab_type": "text",
    "id": "rM81JYsS3a9y"
   },
   "source": [
    "## Search for the string \"lambdaschool.com\""
   ]
  },
  {
   "cell_type": "code",
   "execution_count": null,
   "metadata": {
    "colab": {},
    "colab_type": "code",
    "id": "Zntfm-FK3l4s"
   },
   "outputs": [],
   "source": []
  },
  {
   "cell_type": "markdown",
   "metadata": {
    "colab_type": "text",
    "id": "iQhm54Su30rS"
   },
   "source": [
    "## Match all digits"
   ]
  },
  {
   "cell_type": "code",
   "execution_count": null,
   "metadata": {
    "colab": {},
    "colab_type": "code",
    "id": "GRlGQQJz34-0"
   },
   "outputs": [],
   "source": []
  },
  {
   "cell_type": "markdown",
   "metadata": {
    "colab_type": "text",
    "id": "I0TDVcem4idF"
   },
   "source": [
    "## Match anything that is not a digit"
   ]
  },
  {
   "cell_type": "code",
   "execution_count": null,
   "metadata": {
    "colab": {},
    "colab_type": "code",
    "id": "LqmzQMZM4xn1"
   },
   "outputs": [],
   "source": []
  },
  {
   "cell_type": "markdown",
   "metadata": {
    "colab_type": "text",
    "id": "X2En1EVm4CZ3"
   },
   "source": [
    "## Match any clumps of digits"
   ]
  },
  {
   "cell_type": "code",
   "execution_count": null,
   "metadata": {
    "colab": {},
    "colab_type": "code",
    "id": "x89-oxD54I4X"
   },
   "outputs": [],
   "source": []
  },
  {
   "cell_type": "markdown",
   "metadata": {
    "colab_type": "text",
    "id": "HFl9BeVD4Jpr"
   },
   "source": [
    "## Match clumps of non-digits"
   ]
  },
  {
   "cell_type": "code",
   "execution_count": null,
   "metadata": {
    "colab": {},
    "colab_type": "code",
    "id": "X7h8cPAs6Fu3"
   },
   "outputs": [],
   "source": []
  },
  {
   "cell_type": "markdown",
   "metadata": {
    "colab_type": "text",
    "id": "GbHSf3mk6R0x"
   },
   "source": [
    "## Search for any letter, digit or underscore (then .join them)"
   ]
  },
  {
   "cell_type": "code",
   "execution_count": null,
   "metadata": {
    "colab": {},
    "colab_type": "code",
    "id": "7xgtwkQn-5_R"
   },
   "outputs": [],
   "source": []
  },
  {
   "cell_type": "markdown",
   "metadata": {
    "colab_type": "text",
    "id": "4wAAno7I-_vL"
   },
   "source": [
    "## Beginning and End of string searches"
   ]
  },
  {
   "cell_type": "code",
   "execution_count": null,
   "metadata": {
    "colab": {},
    "colab_type": "code",
    "id": "4JdVnEN-_HAI"
   },
   "outputs": [],
   "source": [
    "text = \"https://www.lambdaschool.com\""
   ]
  },
  {
   "cell_type": "markdown",
   "metadata": {
    "colab_type": "text",
    "id": "wN_YRoCDBGYa"
   },
   "source": [
    "## Search for urls beginning with \"http\""
   ]
  },
  {
   "cell_type": "code",
   "execution_count": null,
   "metadata": {
    "colab": {},
    "colab_type": "code",
    "id": "OjiIHhTIBJIX"
   },
   "outputs": [],
   "source": []
  },
  {
   "cell_type": "markdown",
   "metadata": {
    "colab_type": "text",
    "id": "9T7guV7c_HVl"
   },
   "source": [
    "## Search for phone numbers"
   ]
  },
  {
   "cell_type": "code",
   "execution_count": null,
   "metadata": {
    "colab": {},
    "colab_type": "code",
    "id": "W_a8GkYW_HoN"
   },
   "outputs": [],
   "source": []
  },
  {
   "cell_type": "markdown",
   "metadata": {
    "colab_type": "text",
    "id": "QkuMDIC-E3bc"
   },
   "source": [
    "## Search for all URLs"
   ]
  },
  {
   "cell_type": "code",
   "execution_count": null,
   "metadata": {
    "colab": {},
    "colab_type": "code",
    "id": "B8pi2OaWE5Rx"
   },
   "outputs": [],
   "source": []
  },
  {
   "cell_type": "markdown",
   "metadata": {
    "colab_type": "text",
    "id": "1Rb2NjNq3pDe"
   },
   "source": [
    "### When you write the correct Regex pattern without looking at a cheat sheet:\n",
    "\n",
    "![Wand](https://media1.tenor.com/images/770bc6dce2506cb3cbe8a8561eebf969/tenor.gif?itemid=13050462)\n",
    "\n",
    "![You're a wizard Harry](https://media1.tenor.com/images/0f8588a031f9aaa157df4f519b65180e/tenor.gif?itemid=5453410)"
   ]
  },
  {
   "cell_type": "markdown",
   "metadata": {
    "colab_type": "text",
    "id": "_eITkWUJXCWE"
   },
   "source": [
    "# Web Scraping via BeautifulSoup and requests"
   ]
  },
  {
   "cell_type": "code",
   "execution_count": null,
   "metadata": {
    "colab": {},
    "colab_type": "code",
    "id": "BpiVMRMISf85"
   },
   "outputs": [],
   "source": [
    "from bs4 import BeautifulSoup\n",
    "import requests"
   ]
  },
  {
   "cell_type": "markdown",
   "metadata": {
    "colab_type": "text",
    "id": "piC9TQJegCeH"
   },
   "source": [
    "## Make the Soup"
   ]
  },
  {
   "cell_type": "code",
   "execution_count": null,
   "metadata": {
    "colab": {
     "base_uri": "https://localhost:8080/",
     "height": 3044
    },
    "colab_type": "code",
    "id": "ncmY7VwcTAmD",
    "outputId": "20943648-36b5-483d-858b-b906327dc706"
   },
   "outputs": [],
   "source": [
    "page_to_scrape = 'https://web.archive.org/web/20121007172955/https://www.nga.gov/collection/anZ1.htm'\n",
    "\n",
    "# This makes a request to the page just as if we were navigating\n",
    "# to that page in the browser\n",
    "page = requests.get(page_to_scrape)\n",
    "\n",
    "# The \"soup\" is the parsed html of a webpage.\n",
    "soup = BeautifulSoup(page.text, 'html.parser')\n",
    "print(soup)"
   ]
  },
  {
   "cell_type": "markdown",
   "metadata": {
    "colab_type": "text",
    "id": "kbvfwDh7gGoz"
   },
   "source": [
    "## .find()\n",
    "\n",
    ".find() gives us everything within an html tag as if it were a smaller soup. We can search by id or by class."
   ]
  },
  {
   "cell_type": "code",
   "execution_count": null,
   "metadata": {
    "colab": {
     "base_uri": "https://localhost:8080/",
     "height": 255
    },
    "colab_type": "code",
    "id": "bQ6UsIUehG9y",
    "outputId": "e90dc376-bf51-476d-8604-7b7ff2c2c808"
   },
   "outputs": [],
   "source": [
    "nav_stuff = soup.find(id='globalNav')\n",
    "print(nav_stuff)"
   ]
  },
  {
   "cell_type": "code",
   "execution_count": null,
   "metadata": {
    "colab": {
     "base_uri": "https://localhost:8080/",
     "height": 776
    },
    "colab_type": "code",
    "id": "zt_QfZYzV18G",
    "outputId": "20d3c318-8ba2-4a25-ee77-decd33808e5e"
   },
   "outputs": [],
   "source": [
    "artist_name_list = soup.find(class_='BodyText')\n",
    "print(artist_name_list)"
   ]
  },
  {
   "cell_type": "code",
   "execution_count": null,
   "metadata": {
    "colab": {
     "base_uri": "https://localhost:8080/",
     "height": 54
    },
    "colab_type": "code",
    "id": "cgVJ81wGR-wD",
    "outputId": "0bd87686-4844-4ec7-ad35-c8767e8a310f"
   },
   "outputs": [],
   "source": [
    "artist_names = artist_name_list.find_all('a')\n",
    "print(artist_names)"
   ]
  },
  {
   "cell_type": "code",
   "execution_count": null,
   "metadata": {
    "colab": {
     "base_uri": "https://localhost:8080/",
     "height": 574
    },
    "colab_type": "code",
    "id": "sRP_1ORlXl_M",
    "outputId": "a42e718d-338b-4df3-eac2-952c1982d836"
   },
   "outputs": [],
   "source": [
    "for artist_name in artist_names:\n",
    "    print(artist_name)"
   ]
  },
  {
   "cell_type": "code",
   "execution_count": null,
   "metadata": {
    "colab": {
     "base_uri": "https://localhost:8080/",
     "height": 554
    },
    "colab_type": "code",
    "id": "FlQZq7u_YjRQ",
    "outputId": "7476d8ba-5a8b-4092-eeee-f6095786dd65"
   },
   "outputs": [],
   "source": [
    "#.text gets you the text inside of an html element\n",
    "for artist_name in artist_names:\n",
    "    print(artist_name.text) "
   ]
  },
  {
   "cell_type": "code",
   "execution_count": null,
   "metadata": {
    "colab": {
     "base_uri": "https://localhost:8080/",
     "height": 212
    },
    "colab_type": "code",
    "id": "IvbvwaK7Yq_O",
    "outputId": "7c1862e8-b7ab-4964-abce-cae87c362cb8"
   },
   "outputs": [],
   "source": [
    "artists = []\n",
    "for artist_name in artist_names:\n",
    "    artists.append(artist_name.text)\n",
    "    \n",
    "import pandas as pd\n",
    "\n",
    "df = pd.DataFrame({'full_name': artists})\n",
    "print(df.shape)\n",
    "df.head()"
   ]
  },
  {
   "cell_type": "code",
   "execution_count": null,
   "metadata": {
    "colab": {
     "base_uri": "https://localhost:8080/",
     "height": 965
    },
    "colab_type": "code",
    "id": "Mx5snbhqY86i",
    "outputId": "20fbcd77-5066-49a5-abff-9bad81a8a41d"
   },
   "outputs": [],
   "source": [
    "df['first_name'] = df['full_name'].str.extract('(\\w+$)', expand=True)\n",
    "df.head(31)"
   ]
  },
  {
   "cell_type": "markdown",
   "metadata": {
    "colab_type": "text",
    "id": "cUSvqPTD4jxH"
   },
   "source": [
    "![XKCD Regex](https://imgs.xkcd.com/comics/regular_expressions.png)"
   ]
  },
  {
   "cell_type": "markdown",
   "metadata": {
    "colab_type": "text",
    "id": "lsfW-X9vLPWZ"
   },
   "source": [
    "# Additional Resources:\n",
    "\n",
    "Python String Functions Overview:\n",
    "<https://realpython.com/python-strings/>\n",
    "\n",
    "Good Python String Overview:\n",
    "<https://automatetheboringstuff.com/chapter6/>\n",
    "\n",
    "Python Regex Overview:\n",
    "<https://regexone.com/references/python>\n",
    "\n",
    "Regex in Python with Corey Schafer:\n",
    "<https://www.youtube.com/watch?v=K8L6KVGG-7o&t=120s>\n",
    "\n",
    "Regex Practice:\n",
    "<https://regexone.com/>\n",
    "\n",
    "Breaking up a column into strings using regex in pandas\n",
    "<https://chrisalbon.com/python/data_wrangling/pandas_regex_to_create_columns/>\n",
    "\n",
    "Beautiful Soup Documentation:\n",
    "<https://www.crummy.com/software/BeautifulSoup/bs4/doc/>"
   ]
  }
 ],
 "metadata": {
  "colab": {
   "collapsed_sections": [],
   "name": "LS_DS_421_Text_Data_Lecture.ipynb",
   "provenance": [],
   "version": "0.3.2"
  },
  "kernelspec": {
   "display_name": "Python 3",
   "language": "python",
   "name": "python3"
  },
  "language_info": {
   "codemirror_mode": {
    "name": "ipython",
    "version": 3
   },
   "file_extension": ".py",
   "mimetype": "text/x-python",
   "name": "python",
   "nbconvert_exporter": "python",
   "pygments_lexer": "ipython3",
   "version": "3.7.2"
  }
 },
 "nbformat": 4,
 "nbformat_minor": 2
}
