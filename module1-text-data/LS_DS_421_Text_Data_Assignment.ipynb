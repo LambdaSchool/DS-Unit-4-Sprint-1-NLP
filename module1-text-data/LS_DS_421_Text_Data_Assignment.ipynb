{
 "cells": [
  {
   "cell_type": "markdown",
   "metadata": {
    "colab_type": "text",
    "id": "qGUBe2FXilzx"
   },
   "source": [
    "# 1) String Basics"
   ]
  },
  {
   "cell_type": "markdown",
   "metadata": {
    "colab_type": "text",
    "id": "UwLjaXPCqACb"
   },
   "source": [
    "## 1.1 Count Characters\n",
    "\n",
    "Write a function to count the character frequency of any string, and return the counts as a dictionary.\n",
    "\n",
    "\"google.com\" -> {'o': 3, 'g': 2, '.': 1, 'e': 1, 'l': 1, 'm': 1, 'c': 1}"
   ]
  },
  {
   "cell_type": "code",
   "execution_count": 2,
   "metadata": {
    "colab": {},
    "colab_type": "code",
    "id": "9Kk5bS5ujbwH"
   },
   "outputs": [
    {
     "data": {
      "text/plain": [
       "{'g': 2, 'o': 3, 'l': 1, 'e': 1, '.': 1, 'c': 1, 'm': 1}"
      ]
     },
     "execution_count": 2,
     "metadata": {},
     "output_type": "execute_result"
    }
   ],
   "source": [
    "def char_counts(s):\n",
    "    d = {}\n",
    "    for c in s:\n",
    "        if c in d.keys():\n",
    "            d[c] += 1\n",
    "        else:\n",
    "            d[c] = 1\n",
    "    return d\n",
    "\n",
    "char_counts('google.com')"
   ]
  },
  {
   "cell_type": "markdown",
   "metadata": {
    "colab_type": "text",
    "id": "mq2yhAciqH6w"
   },
   "source": [
    "## 1.2 Replace Characters\n",
    "\n",
    "Write a function that takes in two parameters: 1) a string of text and 2) individual character. This function should return a new string of text where any of the specified character has been replaced with dollar signs: `$` "
   ]
  },
  {
   "cell_type": "code",
   "execution_count": 5,
   "metadata": {},
   "outputs": [
    {
     "data": {
      "text/plain": [
       "'g$$gle.c$m'"
      ]
     },
     "execution_count": 5,
     "metadata": {},
     "output_type": "execute_result"
    }
   ],
   "source": [
    "def replace(s, replace_this, with_this):\n",
    "    res = []\n",
    "    for c in s:\n",
    "        if c == replace_this:\n",
    "            res.append(with_this)\n",
    "        else:\n",
    "            res.append(c)\n",
    "    return ''.join(res)\n",
    "\n",
    "replace('google.com', 'o', '$')"
   ]
  },
  {
   "cell_type": "markdown",
   "metadata": {
    "colab_type": "text",
    "id": "v8iy3BKuq--f"
   },
   "source": [
    "## 1.3 Slice Suffixes\n",
    "\n",
    "Write a function that removes common suffixes from the ends of words. As a minimum this function should remove the suffixes: \"ed\",  \"ing\", \"es\", \"tion\", \"ly\"\n",
    "\n",
    "\"The daring fox leaped through the air gracefully, his eyes fixated on the capitulation of his prey.\" -> \n",
    "\n",
    "\"The dar fox leap through the air graceful, his ey fixat on the capitula of his prey.\""
   ]
  },
  {
   "cell_type": "code",
   "execution_count": 52,
   "metadata": {},
   "outputs": [
    {
     "data": {
      "text/plain": [
       "'The dar fox leap through the air graceful, his ey fixat on the capitula of his prey.'"
      ]
     },
     "execution_count": 52,
     "metadata": {},
     "output_type": "execute_result"
    }
   ],
   "source": [
    "import re\n",
    "\n",
    "def suffixless_word(word):\n",
    "    suffixes = ['ed', 'ing', 'es', 'tion', 'ly']\n",
    "    for suffix in suffixes:\n",
    "        match = re.search('(' + '.+' + ')' + suffix + '$', word)\n",
    "        if match != None:\n",
    "            return match[1]\n",
    "    return word\n",
    "\n",
    "punctuations = [',', ';', '.']\n",
    "whitespace = [' ', '\\n', '\\t']\n",
    "\n",
    "def suffixless_str(s):\n",
    "    return ' '.join(list(map(lambda x: suffixless_word(x), \n",
    "                             s.split())))\n",
    "\n",
    "def handle_punctuations(s, punctuations_remaining):\n",
    "    if len(punctuations_remaining) == 0:\n",
    "        return suffixless_str(s)\n",
    "    else:\n",
    "        s2 = s.split(punctuations_remaining[0])\n",
    "        res = []\n",
    "        for s_part in s2:\n",
    "            if len(punctuations_remaining) > 1:\n",
    "                v = handle_punctuations(s_part, \n",
    "                                        punctuations_remaining[1:])\n",
    "                res.append(v)\n",
    "            else:\n",
    "                r2 = suffixless_str(s_part)\n",
    "                if s[-1] == punctuations_remaining[0]:\n",
    "                    r2 += punctuations_remaining[0]\n",
    "                if s[0] in whitespace:\n",
    "                    r2 = s[0] + r2\n",
    "                    \n",
    "                res.append(r2)\n",
    "        \n",
    "        if len(punctuations_remaining) > 1:\n",
    "            return punctuations_remaining[0].join(res)\n",
    "        else:\n",
    "            if isinstance(res, list):\n",
    "                return res[0]\n",
    "            else:\n",
    "                return res\n",
    "\n",
    "handle_punctuations('The daring fox leaped through the air gracefully,'\n",
    "                    ' his eyes fixated on the capitulation of his prey.',\n",
    "                   punctuations)"
   ]
  },
  {
   "cell_type": "markdown",
   "metadata": {
    "colab_type": "text",
    "id": "hAAJTIN_trH3"
   },
   "source": [
    "## 1.4 Remove Stopwords\n",
    "\n",
    "Write a function that removes common \"stopwords\" from text. "
   ]
  },
  {
   "cell_type": "code",
   "execution_count": 62,
   "metadata": {
    "colab": {},
    "colab_type": "code",
    "id": "QbHQkte9t_gK"
   },
   "outputs": [],
   "source": [
    "stopwords = ['i','me','my','myself','we''our','ours','ourselves',\n",
    "'you','your','yours','yourself','yourselves','he','him','his','himself',\n",
    "'she','her','hers','herself','it','its','itself','they','them','their',\n",
    "'theirs','themselves','what','which','who','whom','this','that','these',\n",
    "'those','am','is','are','was','were','be','been','being','have','has',\n",
    "'had','having','do','does','did','doing','a','an','the','and','but',\n",
    "'if','or','because','as','until','while','of','at','by','for','with',\n",
    "'about','against','between','into','through','during','before','after',\n",
    "'above','below','to','from','up','down','in','out','on','off','over',\n",
    "'under','again','further','then','once','here','there','when','where',\n",
    "'why','how','all','any','both','each','few','more','most','other','some',\n",
    "'such','no','nor','not','only','own','same','so','than','too','very',\n",
    "'s','t','can','will','just','don','should','now']"
   ]
  },
  {
   "cell_type": "code",
   "execution_count": 66,
   "metadata": {},
   "outputs": [
    {
     "data": {
      "text/plain": [
       "['daring',\n",
       " 'fox',\n",
       " 'leaped',\n",
       " 'air',\n",
       " 'gracefully',\n",
       " 'eyes',\n",
       " 'fixated',\n",
       " 'capitulation',\n",
       " 'prey']"
      ]
     },
     "execution_count": 66,
     "metadata": {},
     "output_type": "execute_result"
    }
   ],
   "source": [
    "import re\n",
    "\n",
    "def remove_stopwords(s):\n",
    "    words = list(map(lambda x: x.lower(), re.findall('(\\w+)', s)))\n",
    "    return list(filter(lambda x: x not in stopwords, words))\n",
    "    \n",
    "\n",
    "remove_stopwords('The daring fox leaped through the air gracefully,'\n",
    "                 ' his eyes fixated on the capitulation of his prey.')"
   ]
  },
  {
   "cell_type": "markdown",
   "metadata": {
    "colab_type": "text",
    "id": "EKEER1R3vyDM"
   },
   "source": [
    "## 1.5 Vectorize Words\n",
    "\n",
    "Below is a list of three strings. Each string is a job listing with the job title of \"data scientist\" from indeed.com. Write a function that does two things:\n",
    "\n",
    "1) Removes stopwords from each listing (uses above function)\n",
    "\n",
    "2) Creates a dataframe where the header of each column is a particular word and each cell of the dataframe should be a 1 or 0 denoting whether that word is present or not in the job listing a body of text. The final dataframe should only have 3 rows, one for each of the three job listings.\n",
    "\n",
    "Your final dataframe should not include any of the stopwords."
   ]
  },
  {
   "cell_type": "code",
   "execution_count": 68,
   "metadata": {
    "colab": {},
    "colab_type": "code",
    "id": "BmEykH6byT5n"
   },
   "outputs": [],
   "source": [
    "job_listings = ['Part-time, Contract, Internship\\nSr. Machine Learning/Data Scientist\\n\\ndata245, Bannockburn, IL seeks data scientists.\\n\\nWe are open to all levels of experience (down to an intern) as we are building a team around new initiatives.\\n\\nYou will be developing state of the art algorithms to power various aspects of highly complex business models\\nYou can articulate and understand a business problem, identify challenges, formulate the machine learning problem or NLP problems and provide/prototype solutions\\nYou will provide technical leadership, identify and understand key business challenges and opportunities, and develop end-to-end software solutions using machine learning/NLP and optimization methods.\\n\\nYou will collaborate extensively with internal and external partners, program management, and, at a senior level, the engineering team to ensure that solution meet business needs, permit valid inferences and have functional feasibility\\nYou will collect and manipulate large volumes of data; build new and improved techniques and/or solutions for data collection, management, and usage\\nYou will communicate results in a comprehensible manner to all levels of the company (field teams up to Snr. Management) - this will require client facing in the future - but not initially\\nYou will brainstorm with other team members and leadership - who has 30 plus years experience in the industry that requires the solution.\\nRequirements:\\n\\nPHD or MS in Statistics, Machine Learning, or Computer Science (or technical degree with commensurate industry experience)\\nIdeally the Senior position will possess at least 3 years of relevant work - or academic academic experience, as a Data Scientist / Machine Learning professional.\\nExpertise in NLP a bonus\\nStrong algorithmic design skills\\nOther positions require less tenure, but the same relevant ML understanding.\\nPrevious hands on experience, or thesis dedicated to the same\\nDeep understanding of classic machine learning and deep learning theory, and extensive hands-on experience putting it into practice\\nExcellent understanding of machine learning algorithms, processes, tools and platforms including CNN, RNN, NLP, tensorflow, keras, etc.\\nPython proficiency is must\\nApplied experience with machine learning on large datasets\\\\sparse data with structured and unstructured data.\\nExperience with deep learning, and their optimizations for efficient implementation.\\nGreat communication skills, ability to explain predictive analytics to non-technical audience (not client facing yet, and no sales)\\nExperienced in predictive modelling.\\nExecute analytical experiments methodically while outputting reproducible research.\\nExcited to change an industry struggling to control costs.\\nGood to have – Familiar with one or more programming languages e.g. C++ / Java / Android / iOS\".\\nJob Types: Full-time, Part-time, Internship, Contract\\n\\nSalary: $75,000.00 to $125,000.00 /year\\n\\nEducation:\\n\\nMaster\\'s (Preferred)\\nWork authorization:\\n\\nUnited States (Preferred)\\nHours per week:\\n\\n30-39\\nOvertime often available:\\n\\nNo\\nContract Length:\\n\\nMore than 1 year\\nTypical end time:\\n\\n5PM', \"$96,970 - $148,967 a year\\nThe professionals at the National Security Agency (NSA) have one common goal: to protect our nation. The mission requires a strong offense and a steadfast defense. The offense collects, processes, and disseminates intelligence information derived from foreign signals for intelligence and counterintelligence purposes. The defense prevents adversaries from gaining access to sensitive classified national security information. NSA is the nation's leader in providing foreign signals intelligence while also protecting U.S. government information systems, forging the frontier of communications, and data analysis. We serve the American people by applying technical skills to meaningful work, keeping our friends and families safe for generations to come. You will make a lasting impact serving your country as a Data Scientist at the National Security Agency, using your curiosity to analyze large data sets to inform decision-making against foreign threats. We are looking for critical thinkers, problem solvers, and motivated individuals who are enthusiastic about data and believe that answers to hard questions lie in the yet-to-be-told story of diverse, complicated data sets. You will employ your mathematical science, computer science, and quantitative analysis skills to ensure solutions to complex data problems and take full advantage of the NSA's software and hardware capabilities in all areas of our enterprise, including analytic capabilities, research, and foreign intelligence operations. Data Scientists are hired into positions directly supporting a technical mission office or the Data Scientist Development Program (DSDP). The NSA/CSS Data Scientist Development Program is a three-year opportunity to build your data science talent, experience the breadth of data science at NSA through six- to nine-month assignments in a variety of diverse organizations, and collaborate with NSA's experts in the field of data science. You will have opportunities to attend technical conferences with experts from industry and academia. You will routinely discuss and share NSA's challenges and successes at weekly technical roundtables. We foster an environment where you will develop your data science skills, allowing you to quickly contribute to NSA's mission. As a member of a technical mission office or the DSDP, Data Scientists tackle challenging real-world problems leveraging big data, high-performance computing, machine learning, and a breadth of other methodologies. As a Data Scientist at NSA, responsibilities may include: - Collecting and combining data from multiple sources - Uncovering and exploring anomalous data (including metadata) - Applying the scientific process to data evaluation, performing statistical inference, and data mining - Developing analytic plans, engineer supporting algorithms, and design and implement solutions which execute analytic plans. - Designing and developing tools and techniques for analysis - Analyzing data using mathematical/statistical methods - Evaluating, documenting, and communicating research processes, analyses, and results to customers, peers, and leadership - Creating interpretable visualizations\\n\\nSkills\\n\\nThe ideal candidate is someone with a desire for continual learning and strong problem-solving, analytic and interpersonal skills. You might be a great fit for our team if any of the following describe you: - Completed a degree program in the fields of mathematics, statistics, computer science, computational sciences, or a passion for rigorous analysis of data - Tenacity, integrity, persistence, and willingness to learn - Ability to solve complex problems - Use critical thinking and reasoning to make analytic determinations - Works effectively in a collaborative environment - Strong communications skills to both technical and non-technical audiences - The desire to serve over 300 million fellow Americans and make a difference in world events\\n\\nPay, Benefits, & Work Schedule\\n\\nOn the job training, internal NSA courses, and external training will be made available based on the need and experience of the selectee. Monday - Friday, with basic 8 hr/day requirements between 0800 to 1800 (flexible)\\n\\nPosition Summary\\n\\nNSA is in search of Computer Science professionals to solve complex problems, test innovative approaches and research new solutions to storing, manipulating, and presenting information. We are looking for you to apply your computer science expertise to projects that seek to create new standards for the transformation of information. If you want to develop technologies and tools and be a part of cutting edge innovations ' join our team of experts! Help protect national security interests as part of the world's most advanced team of computer science professionals!\\n\\nMandatory Qualification Reqs\\n\\nCandidates for the NSA's Data Scientist roles are asked to complete a data science examination evaluating their knowledge of statistics, mathematics, and computer science topics that pertain to data science work. Passing this examination is a requirement in order to be considered for selection into a data scientist position. Salary Range: $69,545 - $86,659 (Entry Level/Developmental) *The qualifications listed are the minimum acceptable to be considered for the position. Salary offers are based on candidates' education level and years of experience relevant to the position and also take into account information provided by the hiring manager/organization regarding the work level for the position. Entry is with a Bachelor's degree and no experience. An Associate's degree plus 2 years of relevant experience may be considered for individuals with in-depth experience that is clearly related to the position. Degree must be in Mathematics, Applied Mathematics, Statistics, Applied Statistics, Machine Learning, Data Science, Operations Research, or Computer Science. A degree in a related field (e.g., Computer Information Systems, Engineering), a degree in the physical/hard sciences (e.g. physics, chemistry, biology, astronomy), or other science disciplines (i.e., behavioral, social, and life) may be considered if it includes a concentration of coursework (typically 5 or more courses) in advanced mathematics (typically 200 level or higher; such as calculus, differential equations, discrete mathematics) and/or computer science (e.g., algorithms, programming, data structures, data mining, artificial intelligence). College-level Algebra or other math courses intended to meet a basic college level requirement, or upper level math courses designated as elementary or basic do not count. Note: A broader range of degrees will be considered if accompanied by a Certificate in Data Science from an accredited college/university.\\n\\nRelevant experience must be in designing/implementing machine learning, data mining, advanced analytical algorithms, programming, data science, advanced statistical analysis, artificial intelligence, and/or software engineering. Experience in more than one area is strongly preferred. Salary Range: $80,445 - $107,140 (Full Performance) *The qualifications listed are the minimum acceptable to be considered for the position. Salary offers are based on candidates' education level and years of experience relevant to the position and also take into account information provided by the hiring manager/organization regarding the work level for the position. Entry is with a Bachelor's degree plus 3 years of relevant experience or a Master's degree plus 1 year of relevant experience or a Doctoral degree and no experience. An Associate's degree plus 5 years of relevant experience may be considered for individuals with in-depth experience that is clearly related to the position.\\nDegree must be in Mathematics, Applied Mathematics, Statistics, Applied Statistics, Machine Learning, Data Science, Operations Research, or Computer Science. A degree in a related field (e.g., Computer Information Systems, Engineering), a degree in the physical/hard sciences (e.g. physics, chemistry, biology, astronomy), or other science disciplines (i.e., behavioral, social, and life) may be considered if it includes a concentration of coursework (typically 5 or more courses) in advanced mathematics (typically 200 level or higher; such as calculus, differential equations, discrete mathematics) and/or computer science (e.g., algorithms, programming, data structures, data mining, artificial intelligence). College-level Algebra or other math courses intended to meet a basic college level requirement, or upper level math courses designated as elementary or basic do not count. Note: A broader range of degrees will be considered if accompanied by a Certificate in Data Science from an accredited college/university. Relevant experience must be in two or more of the following: designing/implementing machine learning, data mining, advanced analytical algorithms, programming, data science, advanced statistical analysis, artificial intelligence, or software engineering. Salary Range: $96,970 - $148,967 (Senior) *The qualifications listed are the minimum acceptable to be considered for the position. Salary offers are based on candidates' education level and years of experience relevant to the position and also take into account information provided by the hiring manager/organization regarding the work level for the position. Entry is with a Bachelor's degree plus 6 years of relevant experience or a Master's degree plus 4 years of relevant experience or a Doctoral degree plus 2 years of relevant experience. An Associate's degree plus 8 years of relevant experience may be considered for individuals with in-depth experience that is clearly related to the position. Degree must be in Mathematics, Applied Mathematics, Statistics, Applied Statistics, Machine Learning, Data Science, Operations Research, or Computer Science. A degree in a related field (e.g., Computer Information Systems, Engineering), a degree in the physical/hard sciences (e.g., physics, chemistry, biology, astronomy), or other science disciplines (i.e., behavioral, social, life) may be considered if it includes a concentration of coursework (typically 5 or more courses) in advanced mathematics (typically 200 level or higher; such as calculus, differential equations, discrete mathematics) and/or computer science (e.g., algorithms, programming, data structures, data mining, artificial intelligence). College-level Algebra or other math courses intended to meet a basic college level requirement, or upper level math courses designated as elementary or basic do not count. Note: A broader range of degrees will be considered if accompanied by a Certificate in Data Science from an accredited college/university. Relevant experience must be in two or more of the following: designing/implementing machine learning, data mining, advanced analytical algorithms, programming, data science, advanced statistical analysis, artificial intelligence, or software engineering. Salary Range: $134,789- $164,200 (Expert) *The qualifications listed are the minimum acceptable to be considered for the position. Salary offers are based on candidates' education level and years of experience relevant to the position and also take into account information provided by the hiring manager/organization regarding the work level for the position. Entry is with a Bachelor's degree plus 9 years of relevant experience or a Master's degree plus 7 years of relevant experience or a Doctoral degree plus 5 years of relevant experience. An Associate's degree plus 11 years of relevant experience may be considered for individuals with in-depth experience that is clearly related to the position. Degree must be in Mathematics, Applied Mathematics, Statistics, Applied Statistics, Machine Learning, Data Science, Operations Research, or Computer Science. A degree in a related field (e.g., Computer Information Systems, Engineering), a degree in the physical/hard sciences (e.g., physics, chemistry, biology, astronomy), or other science disciplines (i.e., behavioral, social, life) may be considered if it includes a concentration of coursework (typically 5 or more courses) in advanced mathematics (typically 200 level or higher; such as calculus, differential equations, discrete mathematics) and/or computer science (e.g., algorithms, programming, data structures, data mining, artificial intelligence). College-level Algebra or other math courses intended to meet a basic college level requirement, or upper level math courses designated as elementary or basic do not count. Note: A broader range of degrees will be considered if accompanied by a Certificate in Data Science from an accredited college/university. Relevant experience must be in two or more of the following: designing/implementing machine learning, data mining, advanced analytical algorithms, programming, data science, advanced statistical analysis, artificial intelligence, or software engineering.\\n\\nHow To Apply - External\\n\\nTo apply for this position, please click the 'Apply' button located at the top right of this posting. After completing the application for the first time, or reviewing previously entered information, and clicking the 'Submit' button, you will receive a confirmation email. Please ensure your spam filters are configured to accept emails from noreply@intelligencecareers.gov. ***PLEASE NOTE: U.S. Citizenship is required for all applicants. Reasonable accommodations provided to applicants with disabilities during the application and hiring process where appropriate. NSA is an equal opportunity employer and abides by applicable employment laws and regulations. All applicants and employees are subject to random drug testing in accordance with Executive Order 12564. Employment is contingent upon successful completion of a security background investigation and polygraph. This position is a Defense Civilian Intelligence Personnel System (DCIPS) position in the Excepted Service under 10 U.S.C. 1601. DoD Components with DCIPS positions apply Veterans' Preference to eligible candidates as defined by Section 2108 of Title 5 USC, in accordance with the procedures provided in DoD Instruction 1400.25, Volume 2005, DCIPS Employment and Placement. If you are a veteran claiming veterans' preference, as defined by Section 2108 of Title 5 U.S.C., you may be asked to submit documents verifying your eligibility. Please note that you may be asked a series of questions depending on the position you apply for. Your responses will be used as part of the screening process of your application and will assist in determining your eligibility for the position. Be sure to elaborate on experiences in your resume. Failure to provide the required information or providing inaccurate information will result in your application not being considered for this position. Only those applicants who meet the qualifications for the position will be contacted to begin employment processing. Please Note: Job Posting could close earlier than the closing date due to sufficient number of applicants or position no longer available. We encourage you to apply as soon as possible.\\n\\nDCIPS Disclaimer\\n\\nThe National Security Agency (NSA) is part of the DoD Intelligence Community Defense Civilian Intelligence Personnel System (DCIPS). All positions in the NSA are in the Excepted Services under 10 United States Codes (USC) 1601 appointment authority.\", '\\nMinneapolis, Providence or Framingham\\n\\nWho is Virgin Pulse?\\nVirgin Pulse, founded as part of Sir Richard Branson’s famed Virgin Group, helps organizations build employee health and wellbeing into the DNA of their corporate cultures. As the only company to deliver a powerful, mobile-first digital platform infused with live services, including coaching and biometric screenings, Virgin Pulse’s takes a high-tech-meets-high-touch-approach to engage employees in improving across all aspects of their health and wellbeing, every day – from prevention and building a healthy lifestyle to condition and disease management to condition reversal, all while engaging users daily in building and sustaining healthy habits and behaviors. A global leader in health and wellbeing, Virgin Pulse is committed to helping change lives and businesses around the world for good so that people and organizations can thrive, together. Today, more than 3100 organizations across the globe are using Virgin Pulse’s solutions to improve health, employee wellbeing and engagement, reduce costs and create strong workplace cultures.\\n\\nWho are our employees?\\nAt Virgin Pulse we’re passionate about changing lives for good. We want to make a difference in the world by helping people be healthy so they can perform at their best, every day, at work and home. Our award-winning solutions support leading employers in improving and simplifying the employee health and wellbeing journey and engaging people in all aspects of their health. But our world-class products and programs are nothing without our people – the employees who design, build, promote, sell, test and perfect the latest innovations in workplace health and wellbeing. Our people are our top priority and we invest in their health and happiness. At Virgin Pulse, we have so much more than a strong, supportive company culture – have a shared vision for a healthier, happier world.\\nWho you are.\\nYou are an experienced Data Scientist who is capable of providing support to our organization’s efforts to maintain an innovative leadership position in the employee engagement SaaS industry. The Data Scientist accesses datasets from various sources, conducts analysis, and presents the findings of each analytic and reporting project. The incumbent will be able to interpret the findings and clearly communicate results and recommendations to internal and external customers. Moreover, you are a professional who is self-directed and thrives working in a fast-paced, collaborative environment, in which expectations are high both for the quality and speed of work.\\nIn the role of a Data Scientist you will wear many hats and your skills will be crucial in the following:\\nWrite SQL, R, Python programs to access, clean, and transform required data prior to analysis and reporting\\nConsult to and collaborate with analytics and client reporting team members to ensure appropriate data is analyzed and that results are provided in a format consistent with standard and customized client reporting services\\nTroubleshoot and perform data audits to ensure and improve data integrity; investigate and resolve data discrepancies\\nPlan and manage data analytic and reporting process to ensure the projects remain on schedule\\nConduct ad hoc analysis as required using varied analytical tools and techniques\\nSupport Client Success, sales and Marketing staff with direct communication with Virgin Pulse clients and prospects regarding the results of the analysis\\nAchieve annual Key Performance Indicator objectives, which can include report volumes and scope, internal and external client satisfaction, introducing new areas of data and analysis, and influencing company product and process decisions\\n\\nWhat you bring to the team.\\nIn order to represent the best of what we have to offer, you come to us with a multitude of positive attributes including:\\nA bachelor’s degree in statistics, computer science, economics, or related field; Master’s degree is a plus\\nA minimum of four years of work experience in a similar position\\nExperience with data and analytic programming languages such as SQL, R, Python\\nExperience with data visualization tools and techniques preferred\\nExperience with producing and delivering results using varied media (i.e., multiple MS office formats, dashboards/visualization tools, and potentially other formats)\\nExperience in employee health management/health engagement industry preferred\\n\\nIn addition, you possess the following additional competencies and characteristics:\\nStrong analytical skills, with an emphasis on quantitative analysis, descriptive and inferential statistics\\nExpertise in statistical analytical software, or the ability to learn through prior experience tools such as SAS, Stata, R, SPSS or similar statistical software\\nStrong consulting, communication and presentation skills\\nAdvanced R, SQL and database programming skills, experience with MS SQL Server, RedShift, Postgres, and Cassandra/NOSQL databases\\nExperience working with large-scale datasets and multiple projects simultaneously\\nCreative energy, self-starter, works equally well independently and collaboratively']\n",
    "\n"
   ]
  },
  {
   "cell_type": "code",
   "execution_count": 95,
   "metadata": {},
   "outputs": [
    {
     "data": {
      "text/html": [
       "<div>\n",
       "<style scoped>\n",
       "    .dataframe tbody tr th:only-of-type {\n",
       "        vertical-align: middle;\n",
       "    }\n",
       "\n",
       "    .dataframe tbody tr th {\n",
       "        vertical-align: top;\n",
       "    }\n",
       "\n",
       "    .dataframe thead th {\n",
       "        text-align: right;\n",
       "    }\n",
       "</style>\n",
       "<table border=\"1\" class=\"dataframe\">\n",
       "  <thead>\n",
       "    <tr style=\"text-align: right;\">\n",
       "      <th></th>\n",
       "      <th>00</th>\n",
       "      <th>000</th>\n",
       "      <th>0800</th>\n",
       "      <th>1</th>\n",
       "      <th>10</th>\n",
       "      <th>107</th>\n",
       "      <th>11</th>\n",
       "      <th>125</th>\n",
       "      <th>12564</th>\n",
       "      <th>134</th>\n",
       "      <th>...</th>\n",
       "      <th>without</th>\n",
       "      <th>work</th>\n",
       "      <th>working</th>\n",
       "      <th>workplace</th>\n",
       "      <th>works</th>\n",
       "      <th>world</th>\n",
       "      <th>write</th>\n",
       "      <th>year</th>\n",
       "      <th>years</th>\n",
       "      <th>yet</th>\n",
       "    </tr>\n",
       "  </thead>\n",
       "  <tbody>\n",
       "    <tr>\n",
       "      <th>0</th>\n",
       "      <td>1</td>\n",
       "      <td>1</td>\n",
       "      <td>0</td>\n",
       "      <td>1</td>\n",
       "      <td>0</td>\n",
       "      <td>0</td>\n",
       "      <td>0</td>\n",
       "      <td>1</td>\n",
       "      <td>0</td>\n",
       "      <td>0</td>\n",
       "      <td>...</td>\n",
       "      <td>0</td>\n",
       "      <td>1</td>\n",
       "      <td>0</td>\n",
       "      <td>0</td>\n",
       "      <td>0</td>\n",
       "      <td>0</td>\n",
       "      <td>0</td>\n",
       "      <td>1</td>\n",
       "      <td>1</td>\n",
       "      <td>1</td>\n",
       "    </tr>\n",
       "    <tr>\n",
       "      <th>1</th>\n",
       "      <td>0</td>\n",
       "      <td>0</td>\n",
       "      <td>1</td>\n",
       "      <td>1</td>\n",
       "      <td>1</td>\n",
       "      <td>1</td>\n",
       "      <td>1</td>\n",
       "      <td>0</td>\n",
       "      <td>1</td>\n",
       "      <td>1</td>\n",
       "      <td>...</td>\n",
       "      <td>0</td>\n",
       "      <td>1</td>\n",
       "      <td>0</td>\n",
       "      <td>0</td>\n",
       "      <td>1</td>\n",
       "      <td>1</td>\n",
       "      <td>0</td>\n",
       "      <td>1</td>\n",
       "      <td>1</td>\n",
       "      <td>1</td>\n",
       "    </tr>\n",
       "    <tr>\n",
       "      <th>2</th>\n",
       "      <td>0</td>\n",
       "      <td>0</td>\n",
       "      <td>0</td>\n",
       "      <td>0</td>\n",
       "      <td>0</td>\n",
       "      <td>0</td>\n",
       "      <td>0</td>\n",
       "      <td>0</td>\n",
       "      <td>0</td>\n",
       "      <td>0</td>\n",
       "      <td>...</td>\n",
       "      <td>1</td>\n",
       "      <td>1</td>\n",
       "      <td>1</td>\n",
       "      <td>1</td>\n",
       "      <td>1</td>\n",
       "      <td>1</td>\n",
       "      <td>1</td>\n",
       "      <td>0</td>\n",
       "      <td>1</td>\n",
       "      <td>0</td>\n",
       "    </tr>\n",
       "  </tbody>\n",
       "</table>\n",
       "<p>3 rows × 897 columns</p>\n",
       "</div>"
      ],
      "text/plain": [
       "   00  000  0800  1  10  107  11  125  12564  134  ...  without  work  \\\n",
       "0   1    1     0  1   0    0   0    1      0    0  ...        0     1   \n",
       "1   0    0     1  1   1    1   1    0      1    1  ...        0     1   \n",
       "2   0    0     0  0   0    0   0    0      0    0  ...        1     1   \n",
       "\n",
       "   working  workplace  works  world  write  year  years  yet  \n",
       "0        0          0      0      0      0     1      1    1  \n",
       "1        0          0      1      1      0     1      1    1  \n",
       "2        1          1      1      1      1     0      1    0  \n",
       "\n",
       "[3 rows x 897 columns]"
      ]
     },
     "execution_count": 95,
     "metadata": {},
     "output_type": "execute_result"
    }
   ],
   "source": [
    "import pandas as pd\n",
    "\n",
    "all_listings_set = set()\n",
    "for i in range(len(job_listings)):\n",
    "    \n",
    "    listing = job_listings[i]\n",
    "    for w in remove_stopwords(listing):\n",
    "        element = (i, w)\n",
    "        all_listings_set.add(element)\n",
    "\n",
    "all_listings = list(all_listings_set)\n",
    "\n",
    "all_words = set()\n",
    "for (_, w) in all_listings:\n",
    "    all_words.add(w)\n",
    "all_words = list(all_words)\n",
    "all_words.sort()\n",
    "\n",
    "data = []\n",
    "for i in range(len(job_listings)):\n",
    "    data_for_listing = []\n",
    "    for j in range(len(all_words)):\n",
    "        element = (i, all_words[j])\n",
    "        if element in all_listings:\n",
    "            data_for_listing.append(1)\n",
    "        else:\n",
    "            data_for_listing.append(0)\n",
    "    data.append(data_for_listing)\n",
    "\n",
    "df = pd.DataFrame(data=data, columns=all_words)\n",
    "df.head()"
   ]
  },
  {
   "cell_type": "markdown",
   "metadata": {
    "colab_type": "text",
    "id": "Ij27L9cPizzB"
   },
   "source": [
    "# 2) Regex + Pandas Practice\n",
    "\n",
    "Load the contents of the following text file into your notebook:\n",
    "<https://raw.githubusercontent.com/CoreyMSchafer/code_snippets/master/Python-Regular-Expressions/data.txt>\n",
    "\n",
    "If you're using Google Colab then you will have to download the raw file from github and either upload to your google drive or upload it to the notebook like we have done with CSVs in the past."
   ]
  },
  {
   "cell_type": "markdown",
   "metadata": {
    "colab_type": "text",
    "id": "F1CALmvAl0pQ"
   },
   "source": [
    "## Make sure your notebook has access to the .txt file"
   ]
  },
  {
   "cell_type": "code",
   "execution_count": 99,
   "metadata": {},
   "outputs": [],
   "source": [
    "import requests\n",
    "\n",
    "r = requests.get('https://raw.githubusercontent.com/CoreyMSchafer/code_snippets/master/Python-Regular-Expressions/data.txt')\n",
    "with open('data.txt', 'w') as f:\n",
    "    f.write(r.text)"
   ]
  },
  {
   "cell_type": "code",
   "execution_count": 1,
   "metadata": {
    "colab": {
     "base_uri": "https://localhost:8080/",
     "height": 70,
     "resources": {
      "http://localhost:8080/nbextensions/google.colab/files.js": {
       "data": "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",
       "headers": [
        [
         "content-type",
         "application/javascript"
        ]
       ],
       "ok": true,
       "status": 200,
       "status_text": ""
      }
     }
    },
    "colab_type": "code",
    "id": "EdByRNWgjcPx",
    "outputId": "0334cd86-5788-4591-f3e3-41f2feae6792"
   },
   "outputs": [
    {
     "data": {
      "text/html": [
       "\n",
       "     <input type=\"file\" id=\"files-5579fa84-b92b-430d-bcde-2176028f8991\" name=\"files[]\" multiple disabled />\n",
       "     <output id=\"result-5579fa84-b92b-430d-bcde-2176028f8991\">\n",
       "      Upload widget is only available when the cell has been executed in the\n",
       "      current browser session. Please rerun this cell to enable.\n",
       "      </output>\n",
       "      <script src=\"/nbextensions/google.colab/files.js\"></script> "
      ],
      "text/plain": [
       "<IPython.core.display.HTML object>"
      ]
     },
     "metadata": {
      "tags": []
     },
     "output_type": "display_data"
    },
    {
     "name": "stdout",
     "output_type": "stream",
     "text": [
      "Saving data.txt to data.txt\n"
     ]
    }
   ],
   "source": [
    "from google.colab import files\n",
    "uploaded = files.upload()"
   ]
  },
  {
   "cell_type": "markdown",
   "metadata": {
    "colab_type": "text",
    "id": "TAR7mbJsl4hK"
   },
   "source": [
    "## Read in the contents of the file"
   ]
  },
  {
   "cell_type": "code",
   "execution_count": 3,
   "metadata": {
    "colab": {
     "base_uri": "https://localhost:8080/",
     "height": 54
    },
    "colab_type": "code",
    "id": "3zutl-6Dkk0f",
    "outputId": "71dd3d65-4401-4983-ba2b-04128a85ceec"
   },
   "outputs": [
    {
     "data": {
      "text/plain": [
       "\"Dave Martin\\n615-555-7164\\n173 Main St., Springfield RI 55924\\ndavemartin@bogusemail.com\\n\\nCharles Harris\\n800-555-5669\\n969 High St., Atlantis VA 34075\\ncharlesharris@bogusemail.com\\n\\nEric Williams\\n560-555-5153\\n806 1st St., Faketown AK 86847\\nlaurawilliams@bogusemail.com\\n\\nCorey Jefferson\\n900-555-9340\\n826 Elm St., Epicburg NE 10671\\ncoreyjefferson@bogusemail.com\\n\\nJennifer Martin-White\\n714-555-7405\\n212 Cedar St., Sunnydale CT 74983\\njenniferwhite@bogusemail.com\\n\\nErick Davis\\n800-555-6771\\n519 Washington St., Olympus TN 32425\\ntomdavis@bogusemail.com\\n\\nNeil Patterson\\n783-555-4799\\n625 Oak St., Dawnstar IL 61914\\nneilpatterson@bogusemail.com\\n\\nLaura Jefferson\\n516-555-4615\\n890 Main St., Pythonville LA 29947\\nlaurajefferson@bogusemail.com\\n\\nMaria Johnson\\n127-555-1867\\n884 High St., Braavos\\u200e ME 43597\\nmariajohnson@bogusemail.com\\n\\nMichael Arnold\\n608-555-4938\\n249 Elm St., Quahog OR 90938\\nmichaelarnold@bogusemail.com\\n\\nMichael Smith\\n568-555-6051\\n619 Park St., Winterfell VA 99000\\nmichaelsmith@bogusemail.com\\n\\nErik Stuart\\n292-555-1875\\n220 Cedar St., Lakeview NY 87282\\nrobertstuart@bogusemail.com\\n\\nLaura Martin\\n900-555-3205\\n391 High St., Smalltown WY 28362\\nlauramartin@bogusemail.com\\n\\nBarbara Martin\\n614-555-1166\\n121 Hill St., Braavos\\u200e UT 92474\\nbarbaramartin@bogusemail.com\\n\\nLinda Jackson\\n530-555-2676\\n433 Elm St., Westworld TX 61967\\nlindajackson@bogusemail.com\\n\\nEric Miller\\n470-555-2750\\n838 Main St., Balmora MT 56526\\nstevemiller@bogusemail.com\\n\\nDave Arnold\\n800-555-6089\\n732 High St., Valyria KY 97152\\ndavearnold@bogusemail.com\\n\\nJennifer Jacobs\\n880-555-8319\\n217 High St., Old-town IA 82767\\njenniferjacobs@bogusemail.com\\n\\nNeil Wilson\\n777-555-8378\\n191 Main St., Mordor IL 72160\\nneilwilson@bogusemail.com\\n\\nKurt Jackson\\n998-555-7385\\n607 Washington St., Blackwater NH 97183\\nkurtjackson@bogusemail.com\\n\\nMary Jacobs\\n800-555-7100\\n478 Oak St., Bedrock IA 58176\\nmaryjacobs@bogusemail.com\\n\\nMichael White\\n903-555-8277\\n906 Elm St., Mordor TX 89212\\nmichaelwhite@bogusemail.com\\n\\nJennifer Jenkins\\n196-555-5674\\n949 Main St., Smalltown SC 96962\\njenniferjenkins@bogusemail.com\\n\\nSam Wright\\n900-555-5118\\n835 Pearl St., Smalltown ND 77737\\nsamwright@bogusemail.com\\n\\nJohn Davis\\n905-555-1630\\n451 Lake St., Bedrock GA 34615\\njohndavis@bogusemail.com\\n\\nEric Davis\\n203-555-3475\\n419 Lake St., Balmora OR 30826\\nneildavis@bogusemail.com\\n\\nLaura Jackson\\n884-555-8444\\n443 Maple St., Quahog MS 29348\\nlaurajackson@bogusemail.com\\n\\nJohn Williams\\n904-555-8559\\n756 Hill St., Valyria KY 94854\\njohnwilliams@bogusemail.com\\n\\nMichael Martin\\n889-555-7393\\n216 High St., Olympus NV 21888\\nmichaelmartin@bogusemail.com\\n\\nMaggie Brown\\n195-555-2405\\n806 Lake St., Lakeview MD 59348\\nmaggiebrown@bogusemail.com\\n\\nErik Wilson\\n321-555-9053\\n354 Hill St., Mordor FL 74122\\nkurtwilson@bogusemail.com\\n\\nElizabeth Arnold\\n133-555-1711\\n805 Maple St., Winterfell NV 99431\\nelizabetharnold@bogusemail.com\\n\\nJane Martin\\n900-555-5428\\n418 Park St., Metropolis ID 16576\\njanemartin@bogusemail.com\\n\\nTravis Johnson\\n760-555-7147\\n749 Washington St., Braavos\\u200e SD 25668\\ntravisjohnson@bogusemail.com\\n\\nLaura Jefferson\\n391-555-6621\\n122 High St., Metropolis ME 29540\\nlaurajefferson@bogusemail.com\\n\\nTom Williams\\n932-555-7724\\n610 High St., Old-town FL 60758\\ntomwilliams@bogusemail.com\\n\\nJennifer Taylor\\n609-555-7908\\n332 Main St., Pythonville OH 78172\\njennifertaylor@bogusemail.com\\n\\nErick Wright\\n800-555-8810\\n858 Hill St., Blackwater NC 79714\\njenniferwright@bogusemail.com\\n\\nSteve Doe\\n149-555-7657\\n441 Elm St., Atlantis MS 87195\\nstevedoe@bogusemail.com\\n\\nKurt Davis\\n130-555-9709\\n404 Oak St., Atlantis ND 85386\\nkurtdavis@bogusemail.com\\n\\nCorey Harris\\n143-555-9295\\n286 Pearl St., Vice City TX 57112\\ncoreyharris@bogusemail.com\\n\\nNicole Taylor\\n903-555-9878\\n465 Hill St., Old-town LA 64102\\nnicoletaylor@bogusemail.com\\n\\nElizabeth Davis\\n574-555-3194\\n151 Lake St., Eerie SD 17880\\nelizabethdavis@bogusemail.com\\n\\nMaggie Jenkins\\n496-555-7533\\n504 Lake St., Gotham PA 46692\\nmaggiejenkins@bogusemail.com\\n\\nLinda Davis\\n210-555-3757\\n201 Pine St., Vice City AR 78455\\nlindadavis@bogusemail.com\\n\\nDave Moore\\n900-555-9598\\n251 Pine St., Old-town OK 29087\\ndavemoore@bogusemail.com\\n\\nLinda Jenkins\\n866-555-9844\\n117 High St., Bedrock NE 11899\\nlindajenkins@bogusemail.com\\n\\nEric White\\n669-555-7159\\n650 Oak St., Smalltown TN 43281\\nsamwhite@bogusemail.com\\n\\nLaura Robinson\\n152-555-7417\\n377 Pine St., Valyria NC 78036\\nlaurarobinson@bogusemail.com\\n\\nCharles Patterson\\n893-555-9832\\n416 Pearl St., Valyria AK 62260\\ncharlespatterson@bogusemail.com\\n\\nJoe Jackson\\n217-555-7123\\n683 Cedar St., South Park KS 66724\\njoejackson@bogusemail.com\\n\\nMichael Johnson\\n786-555-6544\\n288 Hill St., Smalltown AZ 18586\\nmichaeljohnson@bogusemail.com\\n\\nCorey Miller\\n780-555-2574\\n286 High St., Springfield IA 16272\\ncoreymiller@bogusemail.com\\n\\nJames Moore\\n926-555-8735\\n278 Main St., Gotham KY 89569\\njamesmoore@bogusemail.com\\n\\nJennifer Stuart\\n895-555-3539\\n766 Hill St., King's Landing GA 54999\\njenniferstuart@bogusemail.com\\n\\nCharles Martin\\n874-555-3949\\n775 High St., Faketown PA 89260\\ncharlesmartin@bogusemail.com\\n\\nEric Wilks\\n800-555-2420\\n885 Main St., Blackwater OH 61275\\njoewilks@bogusemail.com\\n\\nElizabeth Arnold\\n936-555-6340\\n528 Hill St., Atlantis NH 88289\\nelizabetharnold@bogusemail.com\\n\\nJohn Miller\\n372-555-9809\\n117 Cedar St., Thundera NM 75205\\njohnmiller@bogusemail.com\\n\\nCorey Jackson\\n890-555-5618\\n115 Oak St., Gotham UT 36433\\ncoreyjackson@bogusemail.com\\n\\nSam Thomas\\n670-555-3005\\n743 Lake St., Springfield MS 25473\\nsamthomas@bogusemail.com\\n\\nPatricia Thomas\\n509-555-5997\\n381 Hill St., Blackwater CT 30958\\npatriciathomas@bogusemail.com\\n\\nJennifer Davis\\n721-555-5632\\n125 Main St., Smalltown MT 62155\\njenniferdavis@bogusemail.com\\n\\nPatricia Brown\\n900-555-3567\\n292 Hill St., Gotham WV 57680\\npatriciabrown@bogusemail.com\\n\\nBarbara Williams\\n147-555-6830\\n514 Park St., Balmora NV 55462\\nbarbarawilliams@bogusemail.com\\n\\nJames Taylor\\n582-555-3426\\n776 Hill St., Dawnstar MA 51312\\njamestaylor@bogusemail.com\\n\\nEric Harris\\n400-555-1706\\n421 Elm St., Smalltown NV 72025\\nbarbaraharris@bogusemail.com\\n\\nTravis Anderson\\n525-555-1793\\n937 Cedar St., Thundera WA 78862\\ntravisanderson@bogusemail.com\\n\\nSam Robinson\\n317-555-6700\\n417 Pine St., Lakeview MD 13147\\nsamrobinson@bogusemail.com\\n\\nSteve Robinson\\n974-555-8301\\n478 Park St., Springfield NM 92369\\nsteverobinson@bogusemail.com\\n\\nMary Wilson\\n800-555-3216\\n708 Maple St., Braavos\\u200e UT 29551\\nmarywilson@bogusemail.com\\n\\nSam Wilson\\n746-555-4094\\n557 Pearl St., Westworld KS 23225\\nsamwilson@bogusemail.com\\n\\nCharles Jones\\n922-555-1773\\n855 Hill St., Olympus HI 81427\\ncharlesjones@bogusemail.com\\n\\nLaura Brown\\n711-555-4427\\n980 Maple St., Smalltown MO 96421\\nlaurabrown@bogusemail.com\\n\\nTom Harris\\n355-555-1872\\n676 Hill St., Blackwater AR 96698\\ntomharris@bogusemail.com\\n\\nPatricia Taylor\\n852-555-6521\\n588 Pine St., Olympus FL 98412\\npatriciataylor@bogusemail.com\\n\\nBarbara Williams\\n691-555-5773\\n351 Elm St., Sunnydale GA 26245\\nbarbarawilliams@bogusemail.com\\n\\nMaggie Johnson\\n332-555-5441\\n948 Cedar St., Quahog DE 56449\\nmaggiejohnson@bogusemail.com\\n\\nKurt Miller\\n900-555-7755\\n381 Hill St., Quahog AL 97503\\nkurtmiller@bogusemail.com\\n\\nNeil Stuart\\n379-555-3685\\n496 Cedar St., Sunnydale RI 49113\\nneilstuart@bogusemail.com\\n\\nLinda Patterson\\n127-555-9682\\n736 Cedar St., Lakeview KY 47472\\nlindapatterson@bogusemail.com\\n\\nCharles Davis\\n789-555-7032\\n678 Lake St., Mordor MN 11845\\ncharlesdavis@bogusemail.com\\n\\nJennifer Jefferson\\n783-555-5135\\n289 Park St., Sunnydale WA 74526\\njenniferjefferson@bogusemail.com\\n\\nErick Taylor\\n315-555-6507\\n245 Washington St., Bedrock IL 26941\\ncoreytaylor@bogusemail.com\\n\\nRobert Wilks\\n481-555-5835\\n573 Elm St., Sunnydale IL 47182\\nrobertwilks@bogusemail.com\\n\\nTravis Jackson\\n365-555-8287\\n851 Lake St., Metropolis PA 22772\\ntravisjackson@bogusemail.com\\n\\nTravis Jackson\\n911-555-7535\\n489 Oak St., Atlantis HI 73725\\ntravisjackson@bogusemail.com\\n\\nLaura Wilks\\n681-555-2460\\n371 Pearl St., Smalltown SC 47466\\nlaurawilks@bogusemail.com\\n\\nNeil Arnold\\n274-555-9800\\n504 Oak St., Faketown PA 73860\\nneilarnold@bogusemail.com\\n\\nLinda Johnson\\n800-555-1372\\n667 High St., Balmora IN 82473\\nlindajohnson@bogusemail.com\\n\\nJennifer Wilson\\n300-555-7821\\n266 Pine St., Westworld DC 58720\\njenniferwilson@bogusemail.com\\n\\nNicole White\\n133-555-3889\\n276 High St., Braavos\\u200e IL 57764\\nnicolewhite@bogusemail.com\\n\\nMaria Arnold\\n705-555-6863\\n491 Elm St., Metropolis PA 31836\\nmariaarnold@bogusemail.com\\n\\nJennifer Davis\\n215-555-9449\\n859 Cedar St., Old-town MT 31169\\njenniferdavis@bogusemail.com\\n\\nMary Patterson\\n988-555-6112\\n956 Park St., Valyria CT 81541\\nmarypatterson@bogusemail.com\\n\\nJane Stuart\\n623-555-3006\\n983 Oak St., Old-town RI 15445\\njanestuart@bogusemail.com\\n\\nRobert Davis\\n192-555-4977\\n789 Maple St., Mordor IN 22215\\nrobertdavis@bogusemail.com\\n\\nJames Taylor\\n178-555-4899\\n439 Hill St., Olympus NV 39308\\njamestaylor@bogusemail.com\\n\\nEric Stuart\\n952-555-3089\\n777 High St., King's Landing AZ 16547\\njohnstuart@bogusemail.com\\n\\nCharles Miller\\n900-555-6426\\n207 Washington St., Blackwater MA 24886\\ncharlesmiller@bogusemail.com\\n\""
      ]
     },
     "execution_count": 3,
     "metadata": {
      "tags": []
     },
     "output_type": "execute_result"
    }
   ],
   "source": [
    "with open('data.txt', 'r', encoding='utf-8') as f:\n",
    "  contents = f.read()\n",
    "  \n",
    "contents"
   ]
  },
  {
   "cell_type": "markdown",
   "metadata": {
    "colab_type": "text",
    "id": "Oxxpx8l0k-wP"
   },
   "source": [
    "## Turn the \"unstructured\" .txt file into a \"structured\" dataframe\n",
    "Once you have read in the file's contents your task is to get this unstructured text data into a dataframe with the following headers:\n",
    "\n",
    "- First Name\n",
    "- Last Name\n",
    "- Email\n",
    "- Phone Number\n",
    "- Street Address\n",
    "- City\n",
    "- State\n",
    "- Zipcode"
   ]
  },
  {
   "cell_type": "code",
   "execution_count": 121,
   "metadata": {
    "colab": {},
    "colab_type": "code",
    "id": "9Xqo-GPdk-OM"
   },
   "outputs": [
    {
     "data": {
      "text/html": [
       "<div>\n",
       "<style scoped>\n",
       "    .dataframe tbody tr th:only-of-type {\n",
       "        vertical-align: middle;\n",
       "    }\n",
       "\n",
       "    .dataframe tbody tr th {\n",
       "        vertical-align: top;\n",
       "    }\n",
       "\n",
       "    .dataframe thead th {\n",
       "        text-align: right;\n",
       "    }\n",
       "</style>\n",
       "<table border=\"1\" class=\"dataframe\">\n",
       "  <thead>\n",
       "    <tr style=\"text-align: right;\">\n",
       "      <th></th>\n",
       "      <th>name</th>\n",
       "      <th>phone</th>\n",
       "      <th>addr</th>\n",
       "      <th>email</th>\n",
       "    </tr>\n",
       "  </thead>\n",
       "  <tbody>\n",
       "    <tr>\n",
       "      <th>0</th>\n",
       "      <td>Dave Martin</td>\n",
       "      <td>615-555-7164</td>\n",
       "      <td>173 Main St., Springfield RI 55924</td>\n",
       "      <td>davemartin@bogusemail.com</td>\n",
       "    </tr>\n",
       "    <tr>\n",
       "      <th>1</th>\n",
       "      <td>Dave Martin</td>\n",
       "      <td>615-555-7164</td>\n",
       "      <td>173 Main St., Springfield RI 55924</td>\n",
       "      <td>davemartin@bogusemail.com</td>\n",
       "    </tr>\n",
       "    <tr>\n",
       "      <th>2</th>\n",
       "      <td>Charles Harris</td>\n",
       "      <td>800-555-5669</td>\n",
       "      <td>969 High St., Atlantis VA 34075</td>\n",
       "      <td>charlesharris@bogusemail.com</td>\n",
       "    </tr>\n",
       "    <tr>\n",
       "      <th>3</th>\n",
       "      <td>Eric Williams</td>\n",
       "      <td>560-555-5153</td>\n",
       "      <td>806 1st St., Faketown AK 86847</td>\n",
       "      <td>laurawilliams@bogusemail.com</td>\n",
       "    </tr>\n",
       "    <tr>\n",
       "      <th>4</th>\n",
       "      <td>Corey Jefferson</td>\n",
       "      <td>900-555-9340</td>\n",
       "      <td>826 Elm St., Epicburg NE 10671</td>\n",
       "      <td>coreyjefferson@bogusemail.com</td>\n",
       "    </tr>\n",
       "  </tbody>\n",
       "</table>\n",
       "</div>"
      ],
      "text/plain": [
       "              name         phone                                addr  \\\n",
       "0      Dave Martin  615-555-7164  173 Main St., Springfield RI 55924   \n",
       "1      Dave Martin  615-555-7164  173 Main St., Springfield RI 55924   \n",
       "2   Charles Harris  800-555-5669     969 High St., Atlantis VA 34075   \n",
       "3    Eric Williams  560-555-5153      806 1st St., Faketown AK 86847   \n",
       "4  Corey Jefferson  900-555-9340      826 Elm St., Epicburg NE 10671   \n",
       "\n",
       "                           email  \n",
       "0      davemartin@bogusemail.com  \n",
       "1      davemartin@bogusemail.com  \n",
       "2   charlesharris@bogusemail.com  \n",
       "3   laurawilliams@bogusemail.com  \n",
       "4  coreyjefferson@bogusemail.com  "
      ]
     },
     "execution_count": 121,
     "metadata": {},
     "output_type": "execute_result"
    }
   ],
   "source": [
    "with open('data.txt', 'r') as f:\n",
    "    lines = f.readlines()\n",
    "    res = []\n",
    "    for i in range(len(lines) // 5):\n",
    "        if i == 0:\n",
    "            group = lines[:5]\n",
    "        else:\n",
    "            group = lines[(i-1)*5 : i*5]\n",
    "        group = list(map(lambda x: x.strip(), group))\n",
    "            \n",
    "        name, phone, addr, email = group[0], group[1], group[2], group[3]\n",
    "        res.append((name, phone, addr, email))\n",
    "\n",
    "df = pd.DataFrame(data=res, columns=['name', 'phone', 'addr', 'email'])\n",
    "df.head()"
   ]
  },
  {
   "cell_type": "code",
   "execution_count": 122,
   "metadata": {},
   "outputs": [
    {
     "data": {
      "text/html": [
       "<div>\n",
       "<style scoped>\n",
       "    .dataframe tbody tr th:only-of-type {\n",
       "        vertical-align: middle;\n",
       "    }\n",
       "\n",
       "    .dataframe tbody tr th {\n",
       "        vertical-align: top;\n",
       "    }\n",
       "\n",
       "    .dataframe thead th {\n",
       "        text-align: right;\n",
       "    }\n",
       "</style>\n",
       "<table border=\"1\" class=\"dataframe\">\n",
       "  <thead>\n",
       "    <tr style=\"text-align: right;\">\n",
       "      <th></th>\n",
       "      <th>phone</th>\n",
       "      <th>addr</th>\n",
       "      <th>email</th>\n",
       "      <th>First Name</th>\n",
       "      <th>Last Name</th>\n",
       "    </tr>\n",
       "  </thead>\n",
       "  <tbody>\n",
       "    <tr>\n",
       "      <th>0</th>\n",
       "      <td>615-555-7164</td>\n",
       "      <td>173 Main St., Springfield RI 55924</td>\n",
       "      <td>davemartin@bogusemail.com</td>\n",
       "      <td>Dave</td>\n",
       "      <td>Martin</td>\n",
       "    </tr>\n",
       "    <tr>\n",
       "      <th>1</th>\n",
       "      <td>615-555-7164</td>\n",
       "      <td>173 Main St., Springfield RI 55924</td>\n",
       "      <td>davemartin@bogusemail.com</td>\n",
       "      <td>Dave</td>\n",
       "      <td>Martin</td>\n",
       "    </tr>\n",
       "    <tr>\n",
       "      <th>2</th>\n",
       "      <td>800-555-5669</td>\n",
       "      <td>969 High St., Atlantis VA 34075</td>\n",
       "      <td>charlesharris@bogusemail.com</td>\n",
       "      <td>Charles</td>\n",
       "      <td>Harris</td>\n",
       "    </tr>\n",
       "    <tr>\n",
       "      <th>3</th>\n",
       "      <td>560-555-5153</td>\n",
       "      <td>806 1st St., Faketown AK 86847</td>\n",
       "      <td>laurawilliams@bogusemail.com</td>\n",
       "      <td>Eric</td>\n",
       "      <td>Williams</td>\n",
       "    </tr>\n",
       "    <tr>\n",
       "      <th>4</th>\n",
       "      <td>900-555-9340</td>\n",
       "      <td>826 Elm St., Epicburg NE 10671</td>\n",
       "      <td>coreyjefferson@bogusemail.com</td>\n",
       "      <td>Corey</td>\n",
       "      <td>Jefferson</td>\n",
       "    </tr>\n",
       "  </tbody>\n",
       "</table>\n",
       "</div>"
      ],
      "text/plain": [
       "          phone                                addr  \\\n",
       "0  615-555-7164  173 Main St., Springfield RI 55924   \n",
       "1  615-555-7164  173 Main St., Springfield RI 55924   \n",
       "2  800-555-5669     969 High St., Atlantis VA 34075   \n",
       "3  560-555-5153      806 1st St., Faketown AK 86847   \n",
       "4  900-555-9340      826 Elm St., Epicburg NE 10671   \n",
       "\n",
       "                           email First Name  Last Name  \n",
       "0      davemartin@bogusemail.com       Dave     Martin  \n",
       "1      davemartin@bogusemail.com       Dave     Martin  \n",
       "2   charlesharris@bogusemail.com    Charles     Harris  \n",
       "3   laurawilliams@bogusemail.com       Eric   Williams  \n",
       "4  coreyjefferson@bogusemail.com      Corey  Jefferson  "
      ]
     },
     "execution_count": 122,
     "metadata": {},
     "output_type": "execute_result"
    }
   ],
   "source": [
    "new = df['name'].str.split(expand=True)\n",
    "df['First Name'], df['Last Name'] = new[0], new[1]\n",
    "df = df.drop(['name'], axis=1)\n",
    "df.head()"
   ]
  },
  {
   "cell_type": "code",
   "execution_count": 123,
   "metadata": {},
   "outputs": [],
   "source": [
    "new = df['addr'].str.split(',', expand=True)\n",
    "df['Street Address'], df['Remaining Addr'] = new[0], new[1]"
   ]
  },
  {
   "cell_type": "code",
   "execution_count": 124,
   "metadata": {},
   "outputs": [
    {
     "data": {
      "text/html": [
       "<div>\n",
       "<style scoped>\n",
       "    .dataframe tbody tr th:only-of-type {\n",
       "        vertical-align: middle;\n",
       "    }\n",
       "\n",
       "    .dataframe tbody tr th {\n",
       "        vertical-align: top;\n",
       "    }\n",
       "\n",
       "    .dataframe thead th {\n",
       "        text-align: right;\n",
       "    }\n",
       "</style>\n",
       "<table border=\"1\" class=\"dataframe\">\n",
       "  <thead>\n",
       "    <tr style=\"text-align: right;\">\n",
       "      <th></th>\n",
       "      <th>phone</th>\n",
       "      <th>addr</th>\n",
       "      <th>email</th>\n",
       "      <th>First Name</th>\n",
       "      <th>Last Name</th>\n",
       "      <th>Street Address</th>\n",
       "      <th>Remaining Addr</th>\n",
       "      <th>City</th>\n",
       "      <th>State</th>\n",
       "      <th>Zip</th>\n",
       "    </tr>\n",
       "  </thead>\n",
       "  <tbody>\n",
       "    <tr>\n",
       "      <th>0</th>\n",
       "      <td>615-555-7164</td>\n",
       "      <td>173 Main St., Springfield RI 55924</td>\n",
       "      <td>davemartin@bogusemail.com</td>\n",
       "      <td>Dave</td>\n",
       "      <td>Martin</td>\n",
       "      <td>173 Main St.</td>\n",
       "      <td>Springfield RI 55924</td>\n",
       "      <td>Springfield</td>\n",
       "      <td>RI</td>\n",
       "      <td>55924</td>\n",
       "    </tr>\n",
       "    <tr>\n",
       "      <th>1</th>\n",
       "      <td>615-555-7164</td>\n",
       "      <td>173 Main St., Springfield RI 55924</td>\n",
       "      <td>davemartin@bogusemail.com</td>\n",
       "      <td>Dave</td>\n",
       "      <td>Martin</td>\n",
       "      <td>173 Main St.</td>\n",
       "      <td>Springfield RI 55924</td>\n",
       "      <td>Springfield</td>\n",
       "      <td>RI</td>\n",
       "      <td>55924</td>\n",
       "    </tr>\n",
       "    <tr>\n",
       "      <th>2</th>\n",
       "      <td>800-555-5669</td>\n",
       "      <td>969 High St., Atlantis VA 34075</td>\n",
       "      <td>charlesharris@bogusemail.com</td>\n",
       "      <td>Charles</td>\n",
       "      <td>Harris</td>\n",
       "      <td>969 High St.</td>\n",
       "      <td>Atlantis VA 34075</td>\n",
       "      <td>Atlantis</td>\n",
       "      <td>VA</td>\n",
       "      <td>34075</td>\n",
       "    </tr>\n",
       "    <tr>\n",
       "      <th>3</th>\n",
       "      <td>560-555-5153</td>\n",
       "      <td>806 1st St., Faketown AK 86847</td>\n",
       "      <td>laurawilliams@bogusemail.com</td>\n",
       "      <td>Eric</td>\n",
       "      <td>Williams</td>\n",
       "      <td>806 1st St.</td>\n",
       "      <td>Faketown AK 86847</td>\n",
       "      <td>Faketown</td>\n",
       "      <td>AK</td>\n",
       "      <td>86847</td>\n",
       "    </tr>\n",
       "    <tr>\n",
       "      <th>4</th>\n",
       "      <td>900-555-9340</td>\n",
       "      <td>826 Elm St., Epicburg NE 10671</td>\n",
       "      <td>coreyjefferson@bogusemail.com</td>\n",
       "      <td>Corey</td>\n",
       "      <td>Jefferson</td>\n",
       "      <td>826 Elm St.</td>\n",
       "      <td>Epicburg NE 10671</td>\n",
       "      <td>Epicburg</td>\n",
       "      <td>NE</td>\n",
       "      <td>10671</td>\n",
       "    </tr>\n",
       "  </tbody>\n",
       "</table>\n",
       "</div>"
      ],
      "text/plain": [
       "          phone                                addr  \\\n",
       "0  615-555-7164  173 Main St., Springfield RI 55924   \n",
       "1  615-555-7164  173 Main St., Springfield RI 55924   \n",
       "2  800-555-5669     969 High St., Atlantis VA 34075   \n",
       "3  560-555-5153      806 1st St., Faketown AK 86847   \n",
       "4  900-555-9340      826 Elm St., Epicburg NE 10671   \n",
       "\n",
       "                           email First Name  Last Name Street Address  \\\n",
       "0      davemartin@bogusemail.com       Dave     Martin   173 Main St.   \n",
       "1      davemartin@bogusemail.com       Dave     Martin   173 Main St.   \n",
       "2   charlesharris@bogusemail.com    Charles     Harris   969 High St.   \n",
       "3   laurawilliams@bogusemail.com       Eric   Williams    806 1st St.   \n",
       "4  coreyjefferson@bogusemail.com      Corey  Jefferson    826 Elm St.   \n",
       "\n",
       "          Remaining Addr         City State    Zip  \n",
       "0   Springfield RI 55924  Springfield    RI  55924  \n",
       "1   Springfield RI 55924  Springfield    RI  55924  \n",
       "2      Atlantis VA 34075     Atlantis    VA  34075  \n",
       "3      Faketown AK 86847     Faketown    AK  86847  \n",
       "4      Epicburg NE 10671     Epicburg    NE  10671  "
      ]
     },
     "execution_count": 124,
     "metadata": {},
     "output_type": "execute_result"
    }
   ],
   "source": [
    "new = df['Remaining Addr'].str.split(expand=True)\n",
    "df['City'], df['State'], df['Zip'] = new[0], new[1], new[2]\n",
    "df.head()"
   ]
  },
  {
   "cell_type": "code",
   "execution_count": 125,
   "metadata": {},
   "outputs": [
    {
     "data": {
      "text/html": [
       "<div>\n",
       "<style scoped>\n",
       "    .dataframe tbody tr th:only-of-type {\n",
       "        vertical-align: middle;\n",
       "    }\n",
       "\n",
       "    .dataframe tbody tr th {\n",
       "        vertical-align: top;\n",
       "    }\n",
       "\n",
       "    .dataframe thead th {\n",
       "        text-align: right;\n",
       "    }\n",
       "</style>\n",
       "<table border=\"1\" class=\"dataframe\">\n",
       "  <thead>\n",
       "    <tr style=\"text-align: right;\">\n",
       "      <th></th>\n",
       "      <th>phone</th>\n",
       "      <th>email</th>\n",
       "      <th>First Name</th>\n",
       "      <th>Last Name</th>\n",
       "      <th>Street Address</th>\n",
       "      <th>City</th>\n",
       "      <th>State</th>\n",
       "      <th>Zip</th>\n",
       "    </tr>\n",
       "  </thead>\n",
       "  <tbody>\n",
       "    <tr>\n",
       "      <th>0</th>\n",
       "      <td>615-555-7164</td>\n",
       "      <td>davemartin@bogusemail.com</td>\n",
       "      <td>Dave</td>\n",
       "      <td>Martin</td>\n",
       "      <td>173 Main St.</td>\n",
       "      <td>Springfield</td>\n",
       "      <td>RI</td>\n",
       "      <td>55924</td>\n",
       "    </tr>\n",
       "    <tr>\n",
       "      <th>1</th>\n",
       "      <td>615-555-7164</td>\n",
       "      <td>davemartin@bogusemail.com</td>\n",
       "      <td>Dave</td>\n",
       "      <td>Martin</td>\n",
       "      <td>173 Main St.</td>\n",
       "      <td>Springfield</td>\n",
       "      <td>RI</td>\n",
       "      <td>55924</td>\n",
       "    </tr>\n",
       "    <tr>\n",
       "      <th>2</th>\n",
       "      <td>800-555-5669</td>\n",
       "      <td>charlesharris@bogusemail.com</td>\n",
       "      <td>Charles</td>\n",
       "      <td>Harris</td>\n",
       "      <td>969 High St.</td>\n",
       "      <td>Atlantis</td>\n",
       "      <td>VA</td>\n",
       "      <td>34075</td>\n",
       "    </tr>\n",
       "    <tr>\n",
       "      <th>3</th>\n",
       "      <td>560-555-5153</td>\n",
       "      <td>laurawilliams@bogusemail.com</td>\n",
       "      <td>Eric</td>\n",
       "      <td>Williams</td>\n",
       "      <td>806 1st St.</td>\n",
       "      <td>Faketown</td>\n",
       "      <td>AK</td>\n",
       "      <td>86847</td>\n",
       "    </tr>\n",
       "    <tr>\n",
       "      <th>4</th>\n",
       "      <td>900-555-9340</td>\n",
       "      <td>coreyjefferson@bogusemail.com</td>\n",
       "      <td>Corey</td>\n",
       "      <td>Jefferson</td>\n",
       "      <td>826 Elm St.</td>\n",
       "      <td>Epicburg</td>\n",
       "      <td>NE</td>\n",
       "      <td>10671</td>\n",
       "    </tr>\n",
       "  </tbody>\n",
       "</table>\n",
       "</div>"
      ],
      "text/plain": [
       "          phone                          email First Name  Last Name  \\\n",
       "0  615-555-7164      davemartin@bogusemail.com       Dave     Martin   \n",
       "1  615-555-7164      davemartin@bogusemail.com       Dave     Martin   \n",
       "2  800-555-5669   charlesharris@bogusemail.com    Charles     Harris   \n",
       "3  560-555-5153   laurawilliams@bogusemail.com       Eric   Williams   \n",
       "4  900-555-9340  coreyjefferson@bogusemail.com      Corey  Jefferson   \n",
       "\n",
       "  Street Address         City State    Zip  \n",
       "0   173 Main St.  Springfield    RI  55924  \n",
       "1   173 Main St.  Springfield    RI  55924  \n",
       "2   969 High St.     Atlantis    VA  34075  \n",
       "3    806 1st St.     Faketown    AK  86847  \n",
       "4    826 Elm St.     Epicburg    NE  10671  "
      ]
     },
     "execution_count": 125,
     "metadata": {},
     "output_type": "execute_result"
    }
   ],
   "source": [
    "df = df.drop(['addr', 'Remaining Addr'], axis=1)\n",
    "df.head()"
   ]
  },
  {
   "cell_type": "markdown",
   "metadata": {
    "colab_type": "text",
    "id": "udWbMfZdimhT"
   },
   "source": [
    "# 3) Web Scraping + Regex + Pandas\n",
    "\n",
    "Scrape the unordered list of information about Ohio University President's salaries from this article: \n",
    "[Ohio Private University President's Salaries](https://www.cleveland.com/metro/2017/12/case_western_reserve_university_president_barbara_snyders_base_salary_and_bonus_pay_tops_among_private_colleges_in_ohio.html)\n",
    "\n",
    "Get the data from this webpage into a dataframe with the following headers:\n",
    "\n",
    "- First Name\n",
    "- Last Name\n",
    "- School\n",
    "- Salary\n",
    "\n",
    "Salary information should be stored as an integer and not have \"$\" or commas \",\"\n"
   ]
  },
  {
   "cell_type": "code",
   "execution_count": 126,
   "metadata": {
    "colab": {},
    "colab_type": "code",
    "id": "cRq2bzEfjdLY"
   },
   "outputs": [
    {
     "data": {
      "text/plain": [
       "200"
      ]
     },
     "execution_count": 126,
     "metadata": {},
     "output_type": "execute_result"
    }
   ],
   "source": [
    "import requests\n",
    "from bs4 import BeautifulSoup\n",
    "\n",
    "r = requests.get('https://www.cleveland.com/metro/2017/12/case_western_reserve_university_'\n",
    "                 'president_barbara_snyders_base_salary_and_bonus_pay_tops_'\n",
    "                 'among_private_colleges_in_ohio.html')\n",
    "r.status_code"
   ]
  },
  {
   "cell_type": "code",
   "execution_count": 152,
   "metadata": {},
   "outputs": [
    {
     "data": {
      "text/plain": [
       "'<!doctype html> <html lang=\"en-US\" xmlns:fb=\"http://www.facebook.com/2008/fbml\" xmlns:og=\"http://ogp.me/ns#\"> <head> <script>window.serviceCallbacks=[];window.region_redirect_url=\"\";if(window.location.href===window.region_redirect_url&&typeof Storage!==\"undefined\"){var region=window.localStorage.getItem(\"region-item\");if(region)window.location.replace(window.region_redirect_url+region)};</script> <title>Case Western Reserve University President Barbara Snyder\\'s base salary and bonus pay tops among private colleges in Ohio - cleveland.com</title> <meta name=\"Description\" content=\"Case Western Reserve University President Barbara Snyder&#039;s $700,312 base pay and $175,000 bonus in 2015 again made her the highest paid private college leader in Ohio, according to an annual report.\"/> <meta charset=\"utf-8\"/> <meta http-equiv=\"X-UA-Compatible\" content=\"IE=edge,chrome=1\"/> <meta name=\"viewport\" content=\"width=device-width, initial-scale=1, minimum-scale=1\"/> <meta property=\"fb:admins\" content=\"100000302287435\"/> <meta property=\"fb:app_id\" content=\"125188170846713\"/> <link rel=\"amphtml\" href=\"https://www.cleveland.com/metro/2017/12/case_western_reserve_university_president_barbara_snyders_base_salary_and_bonus_pay_tops_among_private_colleges_in_ohio.html?outputType=amp\"/> <meta name=\"title\" content=\"Case Western Reserve University President Barbara Snyder\\'s base salary and bonus pay tops among private colleges in Ohio \"/> <meta property=\"og:title\" content=\"Case Western Reserve University President Barbara Snyder\\'s base salary and bonus pay tops among private colleges in Ohio \"/> <meta property=\"og:description\" content=\"Case Western Reserve University President Barbara Snyder&#039;s $700,312 base pay and $175,000 bonus in 2015 again made her the highest paid private college leader in Ohio, according to an annual report.\"/> <meta property=\"og:url\" content=\"https://www.cleveland.com/metro/2017/12/case_western_reserve_university_president_barbara_snyders_base_salary_and_bonus_pay_tops_among_private_colleges_in_ohio.html\"/> <meta property=\"og:site_name\" content=\"cleveland.com\"/> <meta property=\"og:image\" content=\"https://www.cleveland.com/resizer/TGNM8-loeSZuDhjhqhthGsqgpTQ=/1200x0/advancelocal-adapter-image-uploads.s3.amazonaws.com/image.cleveland.com/home/cleve-media/width2048/img/plain_dealer_metro/photo/cwrus-snyder-tops-pay-scale-highest-paid-of-ohio-private-college-chiefs-at-over-1m-yearly-581ba32ba99d75e9.jpg\"/> <meta property=\"og:image:width\" content=\"1200\"/> <meta property=\"og:type\" content=\"article\"/> <meta property=\"article:published_time\" content=\"2017-12-11T02:00:00.000Z\"/> <meta property=\"article:modified_time\" content=\"2017-12-11T03:00:00.000Z\"/> <meta property=\"article:author\" content=\"Karen Farkas\"/> <meta property=\"article:section\" content=\"Metro, News\"/> <meta property=\"article:tag\" content=\"@fbia, @real-time-news, baldwin-wallace-university, barbara-snyder, case-western-reserve-university, john-carroll-university, oberlin-college\"/> <meta name=\"twitter:card\" content=\"summary_large_image\"/> <meta name=\"twitter:description\" content=\"Case Western Reserve University President Barbara Snyder&#039;s $700,312 base pay and $175,000 bonus in 2015 again made her the highest paid private college leader in Ohio, according to an annual report.\"/> <meta name=\"twitter:image\" content=\"https://www.cleveland.com/resizer/TGNM8-loeSZuDhjhqhthGsqgpTQ=/1200x0/advancelocal-adapter-image-uploads.s3.amazonaws.com/image.cleveland.com/home/cleve-media/width2048/img/plain_dealer_metro/photo/cwrus-snyder-tops-pay-scale-highest-paid-of-ohio-private-college-chiefs-at-over-1m-yearly-581ba32ba99d75e9.jpg\"/> <meta name=\"twitter:title\" content=\"Case Western Reserve University President Barbara Snyder\\'s base salary and bonus pay tops among private colleges in Ohio \"/> <meta name=\"twitter:site\" content=\"@clevelanddotcom\"/> <meta name=\"twitter:creator\" content=\"@karen_farkas\"/> <meta name=\"article_publication_name\" content=\"cleveland.com\"/> <meta name=\"title\" content=\"Case Western Reserve University President Barbara Snyder\\'s base salary and bonus pay tops among private colleges in Ohio \"/> <meta name=\"article_author\" content=\"Karen Farkas | \"/> <meta name=\"article_date_original\" content=\"Sunday, December 10, 2017, 10:00 PM\"/> <meta name=\"article_date_updated\" content=\"Sunday, December 10, 2017, 11:00 PM\"/> <link rel=\"image_src\" href=\"https://www.cleveland.com/resizer/TGNM8-loeSZuDhjhqhthGsqgpTQ=/1200x0/advancelocal-adapter-image-uploads.s3.amazonaws.com/image.cleveland.com/home/cleve-media/width2048/img/plain_dealer_metro/photo/cwrus-snyder-tops-pay-scale-highest-paid-of-ohio-private-college-chiefs-at-over-1m-yearly-581ba32ba99d75e9.jpg\"/> <script type=\"application/ld+json\">\\n        {\\n            \"@context\": \"http://schema.org\",\\n            \"@type\": \"NewsArticle\",\\n            \"mainEntityOfPage\": {\\n                \"@type\": \"WebPage\",\\n                \"@id\": \"https://www.cleveland.com/metro/2017/12/case_western_reserve_university_president_barbara_snyders_base_salary_and_bonus_pay_tops_among_private_colleges_in_ohio.html\"\\n            },\\n            \"headline\": \"Case Western Reserve University President Barbara Snyder\\'s base salary and bonus pay tops among private colleges in Ohio \",\\n            \"url\": \"https://www.cleveland.com/metro/2017/12/case_western_reserve_university_president_barbara_snyders_base_salary_and_bonus_pay_tops_among_private_colleges_in_ohio.html\",\\n            \"thumbnailUrl\": \"https://www.cleveland.com/resizer/TGNM8-loeSZuDhjhqhthGsqgpTQ=/1200x0/advancelocal-adapter-image-uploads.s3.amazonaws.com/image.cleveland.com/home/cleve-media/width2048/img/plain_dealer_metro/photo/cwrus-snyder-tops-pay-scale-highest-paid-of-ohio-private-college-chiefs-at-over-1m-yearly-581ba32ba99d75e9.jpg\",\\n            \"image\": \"https://www.cleveland.com/resizer/TGNM8-loeSZuDhjhqhthGsqgpTQ=/1200x0/advancelocal-adapter-image-uploads.s3.amazonaws.com/image.cleveland.com/home/cleve-media/width2048/img/plain_dealer_metro/photo/cwrus-snyder-tops-pay-scale-highest-paid-of-ohio-private-college-chiefs-at-over-1m-yearly-581ba32ba99d75e9.jpg\",\\n            \"dateCreated\": \"2017-12-11T02:00:00.000Z\",\\n            \"datePublished\": \"2017-12-11T02:00:00.000Z\",\\n            \"dateModified\": \"2017-12-11T03:00:00.000Z\",\\n            \"publisher\": {\\n                \"@type\": \"Organization\",\\n                \"name\": \"cleveland.com\",\\n                \"logo\": {\\n                    \"@type\": \"ImageObject\",\\n                    \"url\": \"https://static.advance.net/static/cleve/static/img/logos/logo_main.png\"\\n                }\\n            },\\n            \"creator\": [{\\n            \"@type\": \"Person\",\\n            \"name\": \"Karen Farkas, cleveland.com\",\\n            \"email\": \"\"\\n        }],\\n            \"author\": [{\\n            \"@type\": \"Person\",\\n            \"name\": \"Karen Farkas, cleveland.com\",\\n            \"email\": \"\"\\n        }],\\n            \"keywords\": [\"@fbia\",\\n    \\n        \"@real-time-news\",\\n    \\n        \"baldwin-wallace-university\",\\n    \\n        \"barbara-snyder\",\\n    \\n        \"case-western-reserve-university\",\\n    \\n        \"john-carroll-university\",\\n    \\n        \"oberlin-college\"],\\n            \"articleSection\": \"News\",\\n            \"metadata\": {\\n                \"blog_id\": \"/metro\",\\n                \"entry_id\": \"21622286\",\\n                \"short_title\": \"Case Western Reserve University President Barbara Snyder\\'s base salary and bonus pay tops among private colleges in Ohio \",\\n                \\n                \"image_url\": \"https://www.cleveland.com/resizer/TGNM8-loeSZuDhjhqhthGsqgpTQ=/1200x0/advancelocal-adapter-image-uploads.s3.amazonaws.com/image.cleveland.com/home/cleve-media/width2048/img/plain_dealer_metro/photo/cwrus-snyder-tops-pay-scale-highest-paid-of-ohio-private-college-chiefs-at-over-1m-yearly-581ba32ba99d75e9.jpg\",\\n                \\n                \"author_name\": \"\",\\n                \"author_nickname\": \"\",\\n                \"source_blog_name\": \"Metro\",\\n                \"source_blog_url\": \"https://www.cleveland.com/metro/\",\\n                \"sponsored_content\": \"0\",\\n                \"ampurl\": \"https://www.cleveland.com/metro/2017/12/case_western_reserve_university_president_barbara_snyders_base_salary_and_bonus_pay_tops_among_private_colleges_in_ohio.html?outputType=amp\"\\n            }\\n        }\\n    </script> <script>\\n    window.adiData = {\\n        preview: false,\\n        affiliate: \\'cleveland\\',\\n        environment: \\'prod\\',\\n        pageType: \\'cal\\',\\n        siteSection: \\'News\\',\\n        rgProduct: \\'cal\\',\\n        entryUrl: \\'https://www.cleveland.com/metro/2017/12/case_western_reserve_university_president_barbara_snyders_base_salary_and_bonus_pay_tops_among_private_colleges_in_ohio.html\\',\\n        \\n        entryHeadline: \\'Case Western Reserve University President Barbara Snyder’s base salary and bonus pay tops among private colleges in Ohio\\',\\n        entryDescription: \\'Case Western Reserve University President Barbara Snyder’s $700,312 base pay and $175,000 bonus in 2015 again made her the highest paid  private college leader in Ohio, according to an annual report.\\',\\n        entryAuthorUsername: \\'kfarkas\\',\\n        entryDateOriginal: \\'2017-12-11T03:00:00Z\\',\\n        entryDateUpdated: \\'2017-12-11T04:00:00Z\\',\\n        \\n        entryTags: \\'@fbia;@real-time-news;baldwin-wallace-university;barbara-snyder;case-western-reserve-university;john-carroll-university;oberlin-college\\',\\n        entryId: \\'21622286\\',\\n        entryDepth: \\'1\\',\\n        blogName: \\'Metro\\',\\n        blogId: \\'metro\\',\\n        \\n        arcEntryId: \\'A2EQWKKGO5HHZLWG4H7LR5H5VU\\',\\n        \\n    };\\n    window.adiData.preview = window.location.host.match(/localhost|arcpublishing/) ? true : false;\\n    if (\\n        window.location.href === \\'https://www.gulflive.com/\\' ||\\n        window.location.href === \\'https://www-uat.gulflive.com/\\' ||\\n        window.location.href === \\'https://www.mardigras.com/\\' ||\\n        window.location.href === \\'https://www-uat.mardigras.com/\\'\\n    ) {\\n        window.adiData.siteSection = \\'Home Page\\';\\n    }\\n    window.dataLayer = window.dataLayer || [];\\n    window.dataLayer.push(window.adiData);\\n</script> <script>(function(w,d,s,l,i){w[l]=w[l]||[];w[l].push({\"gtm.start\":(new Date).getTime(),event:\"gtm.js\"});var f=d.getElementsByTagName(s)[0],j=d.createElement(s),dl=l!=\"dataLayer\"?\"\\\\x26l\\\\x3d\"+l:\"\";j.async=true;j.src=\"https://www.googletagmanager.com/gtm.js?id\\\\x3d\"+i+dl;f.parentNode.insertBefore(j,f)})(window,document,\"script\",\"dataLayer\",\"GTM-5FH8H3G\");</script> <link rel=\"icon\" href=\"https://www.cleveland.com/pb/resources/dist/cleveland/images/favicon.ico\" type=\"image/x-icon\"> <link rel=\"shortcut icon\" href=\"https://www.cleveland.com/pb/resources/dist/cleveland/images/favicon.ico\" type=\"image/x-icon\"> <link rel=\"dns-prefetch\" href=\"//media.cleveland.com\"/> <link href=\"https://www.cleveland.com/pb/resources/dist/cleveland/css/default6b257cc88a13bd4ace99.css\" rel=\"stylesheet\"/> <script>!function(e,f,u,i){if(!document.getElementById(i)){e.async=1;e.src=u;e.id=i;e.onload=function(){window._taboola.push({article:\"auto\",url:\"https://www.cleveland.com/metro/2017/12/case_western_reserve_university_president_barbara_snyders_base_salary_and_bonus_pay_tops_among_private_colleges_in_ohio.html\"})};f.parentNode.insertBefore(e,f)}}(document.createElement(\"script\"),document.getElementsByTagName(\"script\")[0],\"https://cdn.taboola.com/libtrc/advance-network/loader.js\",\"tb_loader_script\");</script> </head> <body class=\"body__cleveland pageType__article\" data-affiliate=\"cleveland\" data-page-type=\"article\"> <div class=\"skipTo\"> <a class=\"skipTo__link\" href=\"#main\">Skip to Article</a> </div> <div class=\"toprail\" id=\"toprail\"> <div class=\"pb-container\"> </div> <header class=\"advtoprail\" data-sticky=\"true\"> <div class=\"advtoprail__left-corner\"> <div class=\"advtoprail__mainmenu\"> <nav class=\"advtoprail__mainmenu-nav\"> <button class=\"advtoprail__mainmenu-button js-button-masthead\" aria-expanded=\"false\" aria-label=\"Open the Main Navigation\" data-buttonname=\"main\"> <span class=\"advtoprail__mainmenu-button-icon\"></span> <span class=\"advtoprail__mainmenu-button-label\" id=\"mainmenu-label\">Menu</span> </button> <div class=\"advtoprail__dropdown js-dropdown js-dropdown-main\" aria-labelledby=\"mainmenu_label\" aria-hidden=\"true\" aria-expanded=\"false\" role=\"navigation\"> <div class=\"advtoprail__menuborderarrow\"></div> <div class=\"advtoprail__dropdown-outer js-mainmenu\"> <div class=\"advtoprail__dropdown-inner js-mainmenu-list\"> <ul class=\"advtoprail__mainmenu-menulist\"> <li class=\"advtoprail__mainmenu-menuitem js-mainmenu-item\"> <a class=\"advtoprail__mainmenu-menuitem-link js-mainmenu-link\" href=\"https://www.cleveland.com/\">Home</a> </li> <li class=\"advtoprail__mainmenu-menuitem--mobile\"> <button class=\"advtoprail__weather-button js-button-weather-mobile\" aria-label=\"Weather\" aria-expanded=\"false\"> <span class=\"advtoprail__weather-conditions js-weather-conditions\"> <span class=\"advtoprail__weather-title--menu js-weather-location\"></span> <span class=\"advtoprail__weather-temperature js-weather-temperature\"></span> </span> </button> </li> <li class=\"advtoprail__mainmenu-menuitem js-expandable\"> <a class=\"advtoprail__mainmenu-menuitem-link js-mainmenu-link\" href=\"https://www.cleveland.com/news/\">News</a> <button class=\"advtoprail__button-submenu js-button-mainmenu\" aria-label=\"Open the News submenu\" aria-expanded=\"false\"> <span class=\"advtoprail__button-submenu--open\">&rsaquo;</span> <span class=\"advtoprail__button-submenu--close\">&lsaquo;</span> </button> <ul class=\"advtoprail__mainmenu-menulist--submenu js-submenu\"> <li class=\"advtoprail__mainmenu-menuitem--submenu-backtomain\"> <button class=\"advtoprail__button-mobile-backtomain js-button-backtomain\"> <span class=\"advtoprail__button-icon--backmm\"></span> <span class=\"advtoprail__button-label--backmm\">Back To Main Menu</span> </button> </li> <li class=\"advtoprail__mainmenu-menuitem--submenu js-menuitem-submenu \"> <a class=\"advtoprail__mainmenu-menuitem-link js-mainmenu-link\" href=\"https://www.cleveland.com/metro/\">Metro</a> </li> <li class=\"advtoprail__mainmenu-menuitem--submenu js-menuitem-submenu\"> <a class=\"advtoprail__mainmenu-menuitem-link js-mainmenu-link\" href=\"http://www.cleveland.com/akron\">Akron News</a> </li> <li class=\"advtoprail__mainmenu-menuitem--submenu js-menuitem-submenu \"> <a class=\"advtoprail__mainmenu-menuitem-link js-mainmenu-link\" href=\"https://www.cleveland.com/plaindealer/\">The Plain Dealer</a> </li> <li class=\"advtoprail__mainmenu-menuitem--submenu js-menuitem-submenu \"> <a class=\"advtoprail__mainmenu-menuitem-link js-mainmenu-link\" href=\"https://www.cleveland.com/weather/\">Weather</a> </li> <li class=\"advtoprail__mainmenu-menuitem--submenu js-menuitem-submenu \"> <a class=\"advtoprail__mainmenu-menuitem-link js-mainmenu-link\" href=\"https://www.cleveland.com/healthfit/\">Health & Medical</a> </li> <li class=\"advtoprail__mainmenu-menuitem--submenu js-menuitem-submenu \"> <a class=\"advtoprail__mainmenu-menuitem-link js-mainmenu-link\" href=\"https://www.cleveland.com/crime/\">Crime</a> </li> <li class=\"advtoprail__mainmenu-menuitem--submenu js-menuitem-submenu \"> <a class=\"advtoprail__mainmenu-menuitem-link js-mainmenu-link\" href=\"https://www.cleveland.com/datacentral/\">Data Central</a> </li> <li class=\"advtoprail__mainmenu-menuitem--submenu js-menuitem-submenu js-expandable\"> <a class=\"advtoprail__mainmenu-menuitem-link js-mainmenu-link\" href=\"https://www.cleveland.com/columns/\">Columnists</a> <button class=\"advtoprail__button-submenu js-button-mainmenu\" aria-label=\"Open the Columnists submenu\" aria-expanded=\"false\"> <span class=\"advtoprail__button-submenu--open\">&rsaquo;</span> <span class=\"advtoprail__button-submenu--close\">&lsaquo;</span> </button> <ul class=\"advtoprail__mainmenu-menulist--subsubmenu js-submenu\"> <li class=\"advtoprail__mainmenu-menuitem--submenu-backtomain\"> <button class=\"advtoprail__button-mobile-backtomain js-button-backtomain\"> <span class=\"advtoprail__button-icon--backmm\"></span> <span class=\"advtoprail__button-label--backmm\">Back To Main Menu</span> </button> </li> <li class=\"advtoprail__mainmenu-menuitem--submenu js-menuitem-submenu\"> <a class=\"advtoprail__mainmenu-menuitem-link js-mainmenu-link\" href=\"https://www.cleveland.com/naymik/\">Mark Naymik</a> </li> <li class=\"advtoprail__mainmenu-menuitem--submenu js-menuitem-submenu\"> <a class=\"advtoprail__mainmenu-menuitem-link js-mainmenu-link\" href=\"https://www.cleveland.com/tipoff/\">Michael McIntyre</a> </li> <li class=\"advtoprail__mainmenu-menuitem--submenu js-menuitem-submenu\"> <a class=\"advtoprail__mainmenu-menuitem-link js-mainmenu-link\" href=\"https://www.cleveland.com/morris/\">Phillip Morris</a> </li> </ul> </li> <li class=\"advtoprail__mainmenu-menuitem--submenu js-menuitem-submenu \"> <a class=\"advtoprail__mainmenu-menuitem-link js-mainmenu-link\" href=\"https://www.cleveland.com/court-justice/\">Courts</a> </li> <li class=\"advtoprail__mainmenu-menuitem--submenu js-menuitem-submenu \"> <a class=\"advtoprail__mainmenu-menuitem-link js-mainmenu-link\" href=\"https://www.cleveland.com/nation/\">Nation</a> </li> <li class=\"advtoprail__mainmenu-menuitem--submenu js-menuitem-submenu \"> <a class=\"advtoprail__mainmenu-menuitem-link js-mainmenu-link\" href=\"https://www.cleveland.com/world/\">World</a> </li> <li class=\"advtoprail__mainmenu-menuitem--submenu js-menuitem-submenu js-expandable\"> <a class=\"advtoprail__mainmenu-menuitem-link js-mainmenu-link\" href=\"https://www.cleveland.com\">Special Reports</a> <button class=\"advtoprail__button-submenu js-button-mainmenu\" aria-label=\"Open the Special Reports submenu\" aria-expanded=\"false\"> <span class=\"advtoprail__button-submenu--open\">&rsaquo;</span> <span class=\"advtoprail__button-submenu--close\">&lsaquo;</span> </button> <ul class=\"advtoprail__mainmenu-menulist--subsubmenu js-submenu\"> <li class=\"advtoprail__mainmenu-menuitem--submenu-backtomain\"> <button class=\"advtoprail__button-mobile-backtomain js-button-backtomain\"> <span class=\"advtoprail__button-icon--backmm\"></span> <span class=\"advtoprail__button-label--backmm\">Back To Main Menu</span> </button> </li> <li class=\"advtoprail__mainmenu-menuitem--submenu js-menuitem-submenu\"> <a class=\"advtoprail__mainmenu-menuitem-link js-mainmenu-link\" href=\"https://www.cleveland.com/a-greater-cleveland/\">A Greater Cleveland</a> </li> <li class=\"advtoprail__mainmenu-menuitem--submenu js-menuitem-submenu\"> <a class=\"advtoprail__mainmenu-menuitem-link js-mainmenu-link\" href=\"http://www.cleveland.com/metro/index.ssf/page/a_critical_choice_plain_dealer_1.html\">A Critical Choice: Nursing home care</a> </li> <li class=\"advtoprail__mainmenu-menuitem--submenu js-menuitem-submenu\"> <a class=\"advtoprail__mainmenu-menuitem-link js-mainmenu-link\" href=\"http://www.cleveland.com/metro/index.ssf/page/court_costs_in_northeast_ohio.html\">At Any (Court) Cost</a> </li> <li class=\"advtoprail__mainmenu-menuitem--submenu js-menuitem-submenu\"> <a class=\"advtoprail__mainmenu-menuitem-link js-mainmenu-link\" href=\"http://www.cleveland.com/metro/index.ssf/page/clevelands_bike_life.html\">Cleveland’s Bike Life</a> </li> <li class=\"advtoprail__mainmenu-menuitem--submenu js-menuitem-submenu\"> <a class=\"advtoprail__mainmenu-menuitem-link js-mainmenu-link\" href=\"http://www.cleveland.com/metro/index.ssf/page/dear_cleveland.html\">Dear Cleveland</a> </li> <li class=\"advtoprail__mainmenu-menuitem--submenu js-menuitem-submenu\"> <a class=\"advtoprail__mainmenu-menuitem-link js-mainmenu-link\" href=\"http://www.cleveland.com/crime/index.ssf/page/heroin.html\">Heroins Human Toll</a> </li> <li class=\"advtoprail__mainmenu-menuitem--submenu js-menuitem-submenu\"> <a class=\"advtoprail__mainmenu-menuitem-link js-mainmenu-link\" href=\"http://www.cleveland.com/metro/index.ssf/page/justice_for_all_bail_reform_in.html\">Justice for All: Bail reform</a> </li> <li class=\"advtoprail__mainmenu-menuitem--submenu js-menuitem-submenu\"> <a class=\"advtoprail__mainmenu-menuitem-link js-mainmenu-link\" href=\"https://www.cleveland.com/knowtherx/\">Know the RX: Opioid addiction resources</a> </li> <li class=\"advtoprail__mainmenu-menuitem--submenu js-menuitem-submenu\"> <a class=\"advtoprail__mainmenu-menuitem-link js-mainmenu-link\" href=\"https://www.cleveland.com/out-of-line/\">Out of Line: Gerrymandering in Ohio</a> </li> <li class=\"advtoprail__mainmenu-menuitem--submenu js-menuitem-submenu\"> <a class=\"advtoprail__mainmenu-menuitem-link js-mainmenu-link\" href=\"http://www.cleveland.com/metro/index.ssf/page/recovering_hope.html\">Recovering Hope</a> </li> <li class=\"advtoprail__mainmenu-menuitem--submenu js-menuitem-submenu\"> <a class=\"advtoprail__mainmenu-menuitem-link js-mainmenu-link\" href=\"http://www.cleveland.com/cavs/index.ssf/page/remaking_the_q.html\">Remaking The Q</a> </li> <li class=\"advtoprail__mainmenu-menuitem--submenu js-menuitem-submenu\"> <a class=\"advtoprail__mainmenu-menuitem-link js-mainmenu-link\" href=\"http://www.cleveland.com/crime/index.ssf/page/stolen_in_the_suburbs_auto_the.html\">Stolen in the Suburbs</a> </li> </ul> </li> <li class=\"advtoprail__mainmenu-menuitem--submenu js-menuitem-submenu \"> <a class=\"advtoprail__mainmenu-menuitem-link js-mainmenu-link\" href=\"https://www.cleveland.com/city-club/\">City Club of Cleveland</a> </li> </ul></li> <li class=\"advtoprail__mainmenu-menuitem js-expandable\"> <a class=\"advtoprail__mainmenu-menuitem-link js-mainmenu-link\" href=\"https://www.cleveland.com/politics/\">National Politics & Elections</a> <button class=\"advtoprail__button-submenu js-button-mainmenu\" aria-label=\"Open the National Politics & Elections submenu\" aria-expanded=\"false\"> <span class=\"advtoprail__button-submenu--open\">&rsaquo;</span> <span class=\"advtoprail__button-submenu--close\">&lsaquo;</span> </button> <ul class=\"advtoprail__mainmenu-menulist--submenu js-submenu\"> <li class=\"advtoprail__mainmenu-menuitem--submenu-backtomain\"> <button class=\"advtoprail__button-mobile-backtomain js-button-backtomain\"> <span class=\"advtoprail__button-icon--backmm\"></span> <span class=\"advtoprail__button-label--backmm\">Back To Main Menu</span> </button> </li> <li class=\"advtoprail__mainmenu-menuitem--submenu js-menuitem-submenu \"> <a class=\"advtoprail__mainmenu-menuitem-link js-mainmenu-link\" href=\"https://www.cleveland.com/open/\">State Politics</a> </li> <li class=\"advtoprail__mainmenu-menuitem--submenu js-menuitem-submenu\"> <a class=\"advtoprail__mainmenu-menuitem-link js-mainmenu-link\" href=\"http://www.cleveland.com/politics/\">National Politics & Elections</a> </li> <li class=\"advtoprail__mainmenu-menuitem--submenu js-menuitem-submenu \"> <a class=\"advtoprail__mainmenu-menuitem-link js-mainmenu-link\" href=\"https://www.cleveland.com/cityhall/\">Cleveland City Hall</a> </li> <li class=\"advtoprail__mainmenu-menuitem--submenu js-menuitem-submenu \"> <a class=\"advtoprail__mainmenu-menuitem-link js-mainmenu-link\" href=\"https://www.cleveland.com/cuyahoga-county/\">Cuyahoga County Insider</a> </li> <li class=\"advtoprail__mainmenu-menuitem--submenu js-menuitem-submenu\"> <a class=\"advtoprail__mainmenu-menuitem-link js-mainmenu-link\" href=\"https://www.cleveland.com/out-of-line/\">Out of Line: Gerrymandering in Ohio</a> </li> <li class=\"advtoprail__mainmenu-menuitem--submenu js-menuitem-submenu\"> <a class=\"advtoprail__mainmenu-menuitem-link js-mainmenu-link\" href=\"http://www.cleveland.com/politics/index.ssf/page/ohio_matters_redesign_politica.html\">Special Report: Ohio Matters</a> </li> </ul></li> <li class=\"advtoprail__mainmenu-menuitem js-expandable\"> <a class=\"advtoprail__mainmenu-menuitem-link js-mainmenu-link\" href=\"https://www.cleveland.com/community/\">Local News</a> <button class=\"advtoprail__button-submenu js-button-mainmenu\" aria-label=\"Open the Local News submenu\" aria-expanded=\"false\"> <span class=\"advtoprail__button-submenu--open\">&rsaquo;</span> <span class=\"advtoprail__button-submenu--close\">&lsaquo;</span> </button> <ul class=\"advtoprail__mainmenu-menulist--submenu js-submenu\"> <li class=\"advtoprail__mainmenu-menuitem--submenu-backtomain\"> <button class=\"advtoprail__button-mobile-backtomain js-button-backtomain\"> <span class=\"advtoprail__button-icon--backmm\"></span> <span class=\"advtoprail__button-label--backmm\">Back To Main Menu</span> </button> </li> <li class=\"advtoprail__mainmenu-menuitem--submenu js-menuitem-submenu \"> <a class=\"advtoprail__mainmenu-menuitem-link js-mainmenu-link\" href=\"https://www.cleveland.com/akron/\">Akron</a> </li> <li class=\"advtoprail__mainmenu-menuitem--submenu js-menuitem-submenu \"> <a class=\"advtoprail__mainmenu-menuitem-link js-mainmenu-link\" href=\"https://www.cleveland.com/beachwood/\">Beachwood</a> </li> <li class=\"advtoprail__mainmenu-menuitem--submenu js-menuitem-submenu \"> <a class=\"advtoprail__mainmenu-menuitem-link js-mainmenu-link\" href=\"https://www.cleveland.com/berea/\">Berea</a> </li> <li class=\"advtoprail__mainmenu-menuitem--submenu js-menuitem-submenu \"> <a class=\"advtoprail__mainmenu-menuitem-link js-mainmenu-link\" href=\"https://www.cleveland.com/brecksville/\">Brecksville</a> </li> <li class=\"advtoprail__mainmenu-menuitem--submenu js-menuitem-submenu \"> <a class=\"advtoprail__mainmenu-menuitem-link js-mainmenu-link\" href=\"https://www.cleveland.com/brunswick/\">Brunswick</a> </li> <li class=\"advtoprail__mainmenu-menuitem--submenu js-menuitem-submenu \"> <a class=\"advtoprail__mainmenu-menuitem-link js-mainmenu-link\" href=\"https://www.cleveland.com/chagrin-falls/\">Chagrin Falls</a> </li> <li class=\"advtoprail__mainmenu-menuitem--submenu js-menuitem-submenu \"> <a class=\"advtoprail__mainmenu-menuitem-link js-mainmenu-link\" href=\"https://www.cleveland.com/cleveland-heights/\">Cleveland Heights</a> </li> <li class=\"advtoprail__mainmenu-menuitem--submenu js-menuitem-submenu \"> <a class=\"advtoprail__mainmenu-menuitem-link js-mainmenu-link\" href=\"https://www.cleveland.com/hillcrest/\">Hillcrest</a> </li> <li class=\"advtoprail__mainmenu-menuitem--submenu js-menuitem-submenu \"> <a class=\"advtoprail__mainmenu-menuitem-link js-mainmenu-link\" href=\"https://www.cleveland.com/lakewood/\">Lakewood</a> </li> <li class=\"advtoprail__mainmenu-menuitem--submenu js-menuitem-submenu \"> <a class=\"advtoprail__mainmenu-menuitem-link js-mainmenu-link\" href=\"https://www.cleveland.com/lyndhurst-south-euclid/\">Lyndhurst-South Euclid</a> </li> <li class=\"advtoprail__mainmenu-menuitem--submenu js-menuitem-submenu \"> <a class=\"advtoprail__mainmenu-menuitem-link js-mainmenu-link\" href=\"https://www.cleveland.com/medina/\">Medina</a> </li> <li class=\"advtoprail__mainmenu-menuitem--submenu js-menuitem-submenu \"> <a class=\"advtoprail__mainmenu-menuitem-link js-mainmenu-link\" href=\"https://www.cleveland.com/parma/\">Parma</a> </li> <li class=\"advtoprail__mainmenu-menuitem--submenu js-menuitem-submenu \"> <a class=\"advtoprail__mainmenu-menuitem-link js-mainmenu-link\" href=\"https://www.cleveland.com/shaker-heights/\">Shaker Heights</a> </li> <li class=\"advtoprail__mainmenu-menuitem--submenu js-menuitem-submenu \"> <a class=\"advtoprail__mainmenu-menuitem-link js-mainmenu-link\" href=\"https://www.cleveland.com/solon/\">Solon</a> </li> <li class=\"advtoprail__mainmenu-menuitem--submenu js-menuitem-submenu \"> <a class=\"advtoprail__mainmenu-menuitem-link js-mainmenu-link\" href=\"https://www.cleveland.com/strongsville/\">Strongsville</a> </li> <li class=\"advtoprail__mainmenu-menuitem--submenu js-menuitem-submenu \"> <a class=\"advtoprail__mainmenu-menuitem-link js-mainmenu-link\" href=\"https://www.cleveland.com/westlake/\">Westlake</a> </li> <li class=\"advtoprail__mainmenu-menuitem--submenu js-menuitem-submenu\"> <a class=\"advtoprail__mainmenu-menuitem-link js-mainmenu-link\" href=\"http://www.cleveland.com/sunnews/index.ssf/2013/01/read_the_news_from_east_and_so.html\">More East Side</a> </li> <li class=\"advtoprail__mainmenu-menuitem--submenu js-menuitem-submenu\"> <a class=\"advtoprail__mainmenu-menuitem-link js-mainmenu-link\" href=\"http://www.cleveland.com/sunnews/index.ssf/2013/01/read_the_news_from_west_and_so.html\">More West Side</a> </li> </ul></li> <li class=\"advtoprail__mainmenu-menuitem js-expandable\"> <a class=\"advtoprail__mainmenu-menuitem-link js-mainmenu-link\" href=\"https://www.cleveland.com/opinion/\">Opinion</a> <button class=\"advtoprail__button-submenu js-button-mainmenu\" aria-label=\"Open the Opinion submenu\" aria-expanded=\"false\"> <span class=\"advtoprail__button-submenu--open\">&rsaquo;</span> <span class=\"advtoprail__button-submenu--close\">&lsaquo;</span> </button> <ul class=\"advtoprail__mainmenu-menulist--submenu js-submenu\"> <li class=\"advtoprail__mainmenu-menuitem--submenu-backtomain\"> <button class=\"advtoprail__button-mobile-backtomain js-button-backtomain\"> <span class=\"advtoprail__button-icon--backmm\"></span> <span class=\"advtoprail__button-label--backmm\">Back To Main Menu</span> </button> </li> <li class=\"advtoprail__mainmenu-menuitem--submenu js-menuitem-submenu \"> <a class=\"advtoprail__mainmenu-menuitem-link js-mainmenu-link\" href=\"https://www.cleveland.com/letters/\">Letters to the Editor</a> </li> <li class=\"advtoprail__mainmenu-menuitem--submenu js-menuitem-submenu \"> <a class=\"advtoprail__mainmenu-menuitem-link js-mainmenu-link\" href=\"https://www.cleveland.com/darcy/\">Jeff Darcy\\'s Cartoons</a> </li> <li class=\"advtoprail__mainmenu-menuitem--submenu js-menuitem-submenu\"> <a class=\"advtoprail__mainmenu-menuitem-link js-mainmenu-link\" href=\"http://www.cleveland.com/columns/\">More columnists</a> </li> </ul></li> <li class=\"advtoprail__mainmenu-menuitem js-expandable\"> <a class=\"advtoprail__mainmenu-menuitem-link js-mainmenu-link\" href=\"https://www.cleveland.com/business/\">Business</a> <button class=\"advtoprail__button-submenu js-button-mainmenu\" aria-label=\"Open the Business submenu\" aria-expanded=\"false\"> <span class=\"advtoprail__button-submenu--open\">&rsaquo;</span> <span class=\"advtoprail__button-submenu--close\">&lsaquo;</span> </button> <ul class=\"advtoprail__mainmenu-menulist--submenu js-submenu\"> <li class=\"advtoprail__mainmenu-menuitem--submenu-backtomain\"> <button class=\"advtoprail__button-mobile-backtomain js-button-backtomain\"> <span class=\"advtoprail__button-icon--backmm\"></span> <span class=\"advtoprail__button-label--backmm\">Back To Main Menu</span> </button> </li> <li class=\"advtoprail__mainmenu-menuitem--submenu js-menuitem-submenu \"> <a class=\"advtoprail__mainmenu-menuitem-link js-mainmenu-link\" href=\"https://www.cleveland.com/ohio-utilities/\">Energy</a> </li> <li class=\"advtoprail__mainmenu-menuitem--submenu js-menuitem-submenu \"> <a class=\"advtoprail__mainmenu-menuitem-link js-mainmenu-link\" href=\"https://www.cleveland.com/consumeraffairs/\">Consumer Affairs</a> </li> <li class=\"advtoprail__mainmenu-menuitem--submenu js-menuitem-submenu \"> <a class=\"advtoprail__mainmenu-menuitem-link js-mainmenu-link\" href=\"https://www.cleveland.com/personalfinance/\">Personal Finance</a> </li> <li class=\"advtoprail__mainmenu-menuitem--submenu js-menuitem-submenu \"> <a class=\"advtoprail__mainmenu-menuitem-link js-mainmenu-link\" href=\"https://www.cleveland.com/top-workplaces/\">Top Workplaces</a> </li> </ul></li> <li class=\"advtoprail__mainmenu-menuitem js-expandable\"> <a class=\"advtoprail__mainmenu-menuitem-link js-mainmenu-link\" href=\"https://www.cleveland.com/sports/\">Sports</a> <button class=\"advtoprail__button-submenu js-button-mainmenu\" aria-label=\"Open the Sports submenu\" aria-expanded=\"false\"> <span class=\"advtoprail__button-submenu--open\">&rsaquo;</span> <span class=\"advtoprail__button-submenu--close\">&lsaquo;</span> </button> <ul class=\"advtoprail__mainmenu-menulist--submenu js-submenu\"> <li class=\"advtoprail__mainmenu-menuitem--submenu-backtomain\"> <button class=\"advtoprail__button-mobile-backtomain js-button-backtomain\"> <span class=\"advtoprail__button-icon--backmm\"></span> <span class=\"advtoprail__button-label--backmm\">Back To Main Menu</span> </button> </li> <li class=\"advtoprail__mainmenu-menuitem--submenu js-menuitem-submenu \"> <a class=\"advtoprail__mainmenu-menuitem-link js-mainmenu-link\" href=\"https://www.cleveland.com/browns/\">Browns</a> </li> <li class=\"advtoprail__mainmenu-menuitem--submenu js-menuitem-submenu \"> <a class=\"advtoprail__mainmenu-menuitem-link js-mainmenu-link\" href=\"https://www.cleveland.com/tribe/\">Indians</a> </li> <li class=\"advtoprail__mainmenu-menuitem--submenu js-menuitem-submenu \"> <a class=\"advtoprail__mainmenu-menuitem-link js-mainmenu-link\" href=\"https://www.cleveland.com/cavs/\">Cavaliers</a> </li> <li class=\"advtoprail__mainmenu-menuitem--submenu js-menuitem-submenu \"> <a class=\"advtoprail__mainmenu-menuitem-link js-mainmenu-link\" href=\"https://www.cleveland.com/osu/\">Ohio State</a> </li> <li class=\"advtoprail__mainmenu-menuitem--submenu js-menuitem-submenu \"> <a class=\"advtoprail__mainmenu-menuitem-link js-mainmenu-link\" href=\"https://www.cleveland.com/sports/college/\">College</a> </li> <li class=\"advtoprail__mainmenu-menuitem--submenu js-menuitem-submenu \"> <a class=\"advtoprail__mainmenu-menuitem-link js-mainmenu-link\" href=\"https://www.cleveland.com/highschoolsports/\">High School Sports</a> </li> <li class=\"advtoprail__mainmenu-menuitem--submenu js-menuitem-submenu js-expandable\"> <a class=\"advtoprail__mainmenu-menuitem-link js-mainmenu-link\" href=\"https://www.cleveland.com/sports/columns/\">Columns</a> <button class=\"advtoprail__button-submenu js-button-mainmenu\" aria-label=\"Open the Columns submenu\" aria-expanded=\"false\"> <span class=\"advtoprail__button-submenu--open\">&rsaquo;</span> <span class=\"advtoprail__button-submenu--close\">&lsaquo;</span> </button> <ul class=\"advtoprail__mainmenu-menulist--subsubmenu js-submenu\"> <li class=\"advtoprail__mainmenu-menuitem--submenu-backtomain\"> <button class=\"advtoprail__button-mobile-backtomain js-button-backtomain\"> <span class=\"advtoprail__button-icon--backmm\"></span> <span class=\"advtoprail__button-label--backmm\">Back To Main Menu</span> </button> </li> <li class=\"advtoprail__mainmenu-menuitem--submenu js-menuitem-submenu\"> <a class=\"advtoprail__mainmenu-menuitem-link js-mainmenu-link\" href=\"http://connect.cleveland.com/staff/dlesmeri/posts.html\">Doug Lesmerises</a> </li> <li class=\"advtoprail__mainmenu-menuitem--submenu js-menuitem-submenu\"> <a class=\"advtoprail__mainmenu-menuitem-link js-mainmenu-link\" href=\"https://www.cleveland.com/pluto/\">Terry Pluto</a> </li> <li class=\"advtoprail__mainmenu-menuitem--submenu js-menuitem-submenu\"> <a class=\"advtoprail__mainmenu-menuitem-link js-mainmenu-link\" href=\"http://connect.cleveland.com/staff/dmanolof/posts.html\">Dennis Manoloff</a> </li> </ul> </li> <li class=\"advtoprail__mainmenu-menuitem--submenu js-menuitem-submenu \"> <a class=\"advtoprail__mainmenu-menuitem-link js-mainmenu-link\" href=\"https://www.cleveland.com/monsters/\">Monsters</a> </li> <li class=\"advtoprail__mainmenu-menuitem--submenu js-menuitem-submenu \"> <a class=\"advtoprail__mainmenu-menuitem-link js-mainmenu-link\" href=\"https://www.cleveland.com/golf/\">Golf</a> </li> <li class=\"advtoprail__mainmenu-menuitem--submenu js-menuitem-submenu \"> <a class=\"advtoprail__mainmenu-menuitem-link js-mainmenu-link\" href=\"https://www.cleveland.com/horseracing/\">Horse Racing</a> </li> <li class=\"advtoprail__mainmenu-menuitem--submenu js-menuitem-submenu \"> <a class=\"advtoprail__mainmenu-menuitem-link js-mainmenu-link\" href=\"https://www.cleveland.com/outdoors/\">Outdoors</a> </li> </ul></li> <li class=\"advtoprail__mainmenu-menuitem js-expandable\"> <a class=\"advtoprail__mainmenu-menuitem-link js-mainmenu-link\" href=\"https://www.cleveland.com/entertainment/\">Entertainment</a> <button class=\"advtoprail__button-submenu js-button-mainmenu\" aria-label=\"Open the Entertainment submenu\" aria-expanded=\"false\"> <span class=\"advtoprail__button-submenu--open\">&rsaquo;</span> <span class=\"advtoprail__button-submenu--close\">&lsaquo;</span> </button> <ul class=\"advtoprail__mainmenu-menulist--submenu js-submenu\"> <li class=\"advtoprail__mainmenu-menuitem--submenu-backtomain\"> <button class=\"advtoprail__button-mobile-backtomain js-button-backtomain\"> <span class=\"advtoprail__button-icon--backmm\"></span> <span class=\"advtoprail__button-label--backmm\">Back To Main Menu</span> </button> </li> <li class=\"advtoprail__mainmenu-menuitem--submenu js-menuitem-submenu js-expandable\"> <a class=\"advtoprail__mainmenu-menuitem-link js-mainmenu-link\" href=\"https://www.cleveland.com/food/\">Food/Dining</a> <button class=\"advtoprail__button-submenu js-button-mainmenu\" aria-label=\"Open the Food/Dining submenu\" aria-expanded=\"false\"> <span class=\"advtoprail__button-submenu--open\">&rsaquo;</span> <span class=\"advtoprail__button-submenu--close\">&lsaquo;</span> </button> <ul class=\"advtoprail__mainmenu-menulist--subsubmenu js-submenu\"> <li class=\"advtoprail__mainmenu-menuitem--submenu-backtomain\"> <button class=\"advtoprail__button-mobile-backtomain js-button-backtomain\"> <span class=\"advtoprail__button-icon--backmm\"></span> <span class=\"advtoprail__button-label--backmm\">Back To Main Menu</span> </button> </li> <li class=\"advtoprail__mainmenu-menuitem--submenu js-menuitem-submenu\"> <a class=\"advtoprail__mainmenu-menuitem-link js-mainmenu-link\" href=\"https://www.cleveland.com/dining/\">Dining Guide</a> </li> <li class=\"advtoprail__mainmenu-menuitem--submenu js-menuitem-submenu\"> <a class=\"advtoprail__mainmenu-menuitem-link js-mainmenu-link\" href=\"https://www.cleveland.com/bars/\">Bars</a> </li> <li class=\"advtoprail__mainmenu-menuitem--submenu js-menuitem-submenu\"> <a class=\"advtoprail__mainmenu-menuitem-link js-mainmenu-link\" href=\"https://www.cleveland.com/cooking/\">Cooking</a> </li> <li class=\"advtoprail__mainmenu-menuitem--submenu js-menuitem-submenu\"> <a class=\"advtoprail__mainmenu-menuitem-link js-mainmenu-link\" href=\"https://www.cleveland.com/top-restaurants/\">Top Restaurants</a> </li> <li class=\"advtoprail__mainmenu-menuitem--submenu js-menuitem-submenu\"> <a class=\"advtoprail__mainmenu-menuitem-link js-mainmenu-link\" href=\"https://www.cleveland.com/drinks/\">Drinks</a> </li> </ul> </li> <li class=\"advtoprail__mainmenu-menuitem--submenu js-menuitem-submenu \"> <a class=\"advtoprail__mainmenu-menuitem-link js-mainmenu-link\" href=\"https://www.cleveland.com/best/\">Best Of</a> </li> <li class=\"advtoprail__mainmenu-menuitem--submenu js-menuitem-submenu\"> <a class=\"advtoprail__mainmenu-menuitem-link js-mainmenu-link\" href=\"/events\">Events</a> </li> <li class=\"advtoprail__mainmenu-menuitem--submenu js-menuitem-submenu \"> <a class=\"advtoprail__mainmenu-menuitem-link js-mainmenu-link\" href=\"https://www.cleveland.com/movies/\">Movies</a> </li> <li class=\"advtoprail__mainmenu-menuitem--submenu js-menuitem-submenu \"> <a class=\"advtoprail__mainmenu-menuitem-link js-mainmenu-link\" href=\"https://www.cleveland.com/music/\">Music</a> </li> <li class=\"advtoprail__mainmenu-menuitem--submenu js-menuitem-submenu \"> <a class=\"advtoprail__mainmenu-menuitem-link js-mainmenu-link\" href=\"https://www.cleveland.com/tv/\">TV</a> </li> <li class=\"advtoprail__mainmenu-menuitem--submenu js-menuitem-submenu \"> <a class=\"advtoprail__mainmenu-menuitem-link js-mainmenu-link\" href=\"https://www.cleveland.com/books/\">Books</a> </li> <li class=\"advtoprail__mainmenu-menuitem--submenu js-menuitem-submenu \"> <a class=\"advtoprail__mainmenu-menuitem-link js-mainmenu-link\" href=\"https://www.cleveland.com/arts/\">Arts</a> </li> <li class=\"advtoprail__mainmenu-menuitem--submenu js-menuitem-submenu \"> <a class=\"advtoprail__mainmenu-menuitem-link js-mainmenu-link\" href=\"https://www.cleveland.com/onstage/\">Theater</a> </li> <li class=\"advtoprail__mainmenu-menuitem--submenu js-menuitem-submenu \"> <a class=\"advtoprail__mainmenu-menuitem-link js-mainmenu-link\" href=\"https://www.cleveland.com/friday/\">Friday!</a> </li> <li class=\"advtoprail__mainmenu-menuitem--submenu js-menuitem-submenu \"> <a class=\"advtoprail__mainmenu-menuitem-link js-mainmenu-link\" href=\"https://www.cleveland.com/people/\">People</a> </li> <li class=\"advtoprail__mainmenu-menuitem--submenu js-menuitem-submenu \"> <a class=\"advtoprail__mainmenu-menuitem-link js-mainmenu-link\" href=\"https://www.cleveland.com/living/\">Living</a> </li> <li class=\"advtoprail__mainmenu-menuitem--submenu js-menuitem-submenu \"> <a class=\"advtoprail__mainmenu-menuitem-link js-mainmenu-link\" href=\"https://www.cleveland.com/travel/\">Travel</a> </li> <li class=\"advtoprail__mainmenu-menuitem--submenu js-menuitem-submenu \"> <a class=\"advtoprail__mainmenu-menuitem-link js-mainmenu-link\" href=\"https://www.cleveland.com/style/\">Style</a> </li> <li class=\"advtoprail__mainmenu-menuitem--submenu js-menuitem-submenu\"> <a class=\"advtoprail__mainmenu-menuitem-link js-mainmenu-link\" href=\"http://www.cleveland.com/essential/page/visitors-guide.html\">Essential CLE</a> </li> <li class=\"advtoprail__mainmenu-menuitem--submenu js-menuitem-submenu \"> <a class=\"advtoprail__mainmenu-menuitem-link js-mainmenu-link\" href=\"https://www.cleveland.com/comics/\">Comics</a> </li> <li class=\"advtoprail__mainmenu-menuitem--submenu js-menuitem-submenu \"> <a class=\"advtoprail__mainmenu-menuitem-link js-mainmenu-link\" href=\"https://www.cleveland.com/puzzles-games/\">Crossword & Puzzles</a> </li> </ul></li> <li class=\"advtoprail__mainmenu-menuitem\"> <a class=\"advtoprail__mainmenu-menuitem-link js-mainmenu-link\" href=\"http://obits.cleveland.com/obituaries/cleveland/\">Obituaries</a> </li> <li class=\"advtoprail__mainmenu-menuitem\"> <a class=\"advtoprail__mainmenu-menuitem-link js-mainmenu-link\" href=\"http://www.cleveland.com/jobs/\">Jobs</a> </li> <li class=\"advtoprail__mainmenu-menuitem\"> <a class=\"advtoprail__mainmenu-menuitem-link js-mainmenu-link\" href=\"http://autos.cleveland.com/\">Autos</a> </li> <li class=\"advtoprail__mainmenu-menuitem js-expandable\"> <a class=\"advtoprail__mainmenu-menuitem-link js-mainmenu-link\" href=\"http://realestate.cleveland.com/\">Real Estate</a> <button class=\"advtoprail__button-submenu js-button-mainmenu\" aria-label=\"Open the Real Estate submenu\" aria-expanded=\"false\"> <span class=\"advtoprail__button-submenu--open\">&rsaquo;</span> <span class=\"advtoprail__button-submenu--close\">&lsaquo;</span> </button> <ul class=\"advtoprail__mainmenu-menulist--submenu js-submenu\"> <li class=\"advtoprail__mainmenu-menuitem--submenu-backtomain\"> <button class=\"advtoprail__button-mobile-backtomain js-button-backtomain\"> <span class=\"advtoprail__button-icon--backmm\"></span> <span class=\"advtoprail__button-label--backmm\">Back To Main Menu</span> </button> </li> <li class=\"advtoprail__mainmenu-menuitem--submenu js-menuitem-submenu\"> <a class=\"advtoprail__mainmenu-menuitem-link js-mainmenu-link\" href=\"http://realestate.cleveland.com/\">Homes</a> </li> <li class=\"advtoprail__mainmenu-menuitem--submenu js-menuitem-submenu\"> <a class=\"advtoprail__mainmenu-menuitem-link js-mainmenu-link\" href=\"http://realestate.cleveland.com/new-homes/\">New Homes</a> </li> <li class=\"advtoprail__mainmenu-menuitem--submenu js-menuitem-submenu\"> <a class=\"advtoprail__mainmenu-menuitem-link js-mainmenu-link\" href=\"http://realestate.cleveland.com/for-rent/\">Rent</a> </li> <li class=\"advtoprail__mainmenu-menuitem--submenu js-menuitem-submenu\"> <a class=\"advtoprail__mainmenu-menuitem-link js-mainmenu-link\" href=\"http://foreclosures.cleveland.com/\">Foreclosures</a> </li> <li class=\"advtoprail__mainmenu-menuitem--submenu js-menuitem-submenu\"> <a class=\"advtoprail__mainmenu-menuitem-link js-mainmenu-link\" href=\"http://classifieds.cleveland.com/?cur_cat=&orig_cat=&orig_prop=cleveland.com&temp_type=browse&category=results&tp=ME_cleve&property=cleveland.com&classification=Commercial+Real+Estate\">Commercial</a> </li> <li class=\"advtoprail__mainmenu-menuitem--submenu js-menuitem-submenu\"> <a class=\"advtoprail__mainmenu-menuitem-link js-mainmenu-link\" href=\"http://realestate.cleveland.com/homeideas\">Home Remodeling</a> </li> </ul></li> <li class=\"advtoprail__mainmenu-menuitem js-expandable\"> <a class=\"advtoprail__mainmenu-menuitem-link js-mainmenu-link\" href=\"http://realestate.cleveland.com/for-rent/\">Rentals</a> <button class=\"advtoprail__button-submenu js-button-mainmenu\" aria-label=\"Open the Rentals submenu\" aria-expanded=\"false\"> <span class=\"advtoprail__button-submenu--open\">&rsaquo;</span> <span class=\"advtoprail__button-submenu--close\">&lsaquo;</span> </button> <ul class=\"advtoprail__mainmenu-menulist--submenu js-submenu\"> <li class=\"advtoprail__mainmenu-menuitem--submenu-backtomain\"> <button class=\"advtoprail__button-mobile-backtomain js-button-backtomain\"> <span class=\"advtoprail__button-icon--backmm\"></span> <span class=\"advtoprail__button-label--backmm\">Back To Main Menu</span> </button> </li> <li class=\"advtoprail__mainmenu-menuitem--submenu js-menuitem-submenu\"> <a class=\"advtoprail__mainmenu-menuitem-link js-mainmenu-link\" href=\"http://realestate.cleveland.com/for-rent/\">All Rentals</a> </li> <li class=\"advtoprail__mainmenu-menuitem--submenu js-menuitem-submenu\"> <a class=\"advtoprail__mainmenu-menuitem-link js-mainmenu-link\" href=\"http://realestate.cleveland.com/for-rent/\">Apartments & Communities</a> </li> <li class=\"advtoprail__mainmenu-menuitem--submenu js-menuitem-submenu\"> <a class=\"advtoprail__mainmenu-menuitem-link js-mainmenu-link\" href=\"http://www.cityfeet.com/cleveland/\">Commercial Leases</a> </li> </ul></li> <li class=\"advtoprail__mainmenu-menuitem js-expandable\"> <span class=\"advtoprail__mainmenu-menuitem-label\">Follow Us</span> <button class=\"advtoprail__button-submenu js-button-mainmenu\" aria-label=\"Open the Follow Us submenu\" aria-expanded=\"false\"> <span class=\"advtoprail__button-submenu--open\">&rsaquo;</span> <span class=\"advtoprail__button-submenu--close\">&lsaquo;</span> </button> <ul class=\"advtoprail__mainmenu-menulist--submenu js-submenu\"> <li class=\"advtoprail__mainmenu-menuitem--submenu-backtomain\"> <button class=\"advtoprail__button-mobile-backtomain js-button-backtomain\"> <span class=\"advtoprail__button-icon--backmm\"></span> <span class=\"advtoprail__button-label--backmm\">Back To Main Menu</span> </button> </li> <li class=\"advtoprail__mainmenu-menuitem--submenu js-menuitem-submenu\"> <a class=\"advtoprail__mainmenu-menuitem-link js-mainmenu-link\" href=\"http://www.facebook.com/pages/clevelandcom/48573742500\">Visit our Facebook Page</a> </li> <li class=\"advtoprail__mainmenu-menuitem--submenu js-menuitem-submenu\"> <a class=\"advtoprail__mainmenu-menuitem-link js-mainmenu-link\" href=\"http://twitter.com/clevelanddotcom\">Follow us on Twitter</a> </li> <li class=\"advtoprail__mainmenu-menuitem--submenu js-menuitem-submenu\"> <a class=\"advtoprail__mainmenu-menuitem-link js-mainmenu-link\" href=\"https://plus.google.com/u/0/b/107235278707360504631/107235278707360504631/posts\">Visit us on Google Plus</a> </li> </ul></li> <li class=\"advtoprail__mainmenu-menuitem js-expandable\"> <a class=\"advtoprail__mainmenu-menuitem-link js-mainmenu-link\" href=\"http://classifieds.cleveland.com/\">Classifieds</a> <button class=\"advtoprail__button-submenu js-button-mainmenu\" aria-label=\"Open the Classifieds submenu\" aria-expanded=\"false\"> <span class=\"advtoprail__button-submenu--open\">&rsaquo;</span> <span class=\"advtoprail__button-submenu--close\">&lsaquo;</span> </button> <ul class=\"advtoprail__mainmenu-menulist--submenu js-submenu\"> <li class=\"advtoprail__mainmenu-menuitem--submenu-backtomain\"> <button class=\"advtoprail__button-mobile-backtomain js-button-backtomain\"> <span class=\"advtoprail__button-icon--backmm\"></span> <span class=\"advtoprail__button-label--backmm\">Back To Main Menu</span> </button> </li> <li class=\"advtoprail__mainmenu-menuitem--submenu js-menuitem-submenu\"> <a class=\"advtoprail__mainmenu-menuitem-link js-mainmenu-link\" href=\"http://classifieds.cleveland.com/?orig_cat=&property=cleveland.com&orig_prop=cleveland.com&temp_type=browse&category=results&tp=ME_cleve&classification=Pets\">Pets</a> </li> <li class=\"advtoprail__mainmenu-menuitem--submenu js-menuitem-submenu\"> <a class=\"advtoprail__mainmenu-menuitem-link js-mainmenu-link\" href=\"http://classifieds.cleveland.com/?orig_cat=&property=cleveland.com&orig_prop=cleveland.com&temp_type=browse&category=results&tp=ME_cleve&classification=For+Sale\">For Sale</a> </li> <li class=\"advtoprail__mainmenu-menuitem--submenu js-menuitem-submenu\"> <a class=\"advtoprail__mainmenu-menuitem-link js-mainmenu-link\" href=\"http://classifieds.cleveland.com/?orig_prop=cleveland.com&property=cleveland.com&temp_type=browse&category=results&tp=ME_cleve&classification=Garage-Yard%20and%20Estate%20Sales\">Garage Sales</a> </li> <li class=\"advtoprail__mainmenu-menuitem--submenu js-menuitem-submenu\"> <a class=\"advtoprail__mainmenu-menuitem-link js-mainmenu-link\" href=\"http://www.cleveland.com/celebrations/\">Celebrations</a> </li> <li class=\"advtoprail__mainmenu-menuitem--submenu js-menuitem-submenu\"> <a class=\"advtoprail__mainmenu-menuitem-link js-mainmenu-link\" href=\"http://www.cleveland.com/placead/fraud_prevention/index.ssf\">Fraud Prevention</a> </li> <li class=\"advtoprail__mainmenu-menuitem--submenu js-menuitem-submenu\"> <a class=\"advtoprail__mainmenu-menuitem-link js-mainmenu-link\" href=\"http://www.cleveland.com/placead/manage/index.ssf\">Manage Your Ad</a> </li> <li class=\"advtoprail__mainmenu-menuitem--submenu js-menuitem-submenu\"> <a class=\"advtoprail__mainmenu-menuitem-link js-mainmenu-link\" href=\"http://www.cleveland.com/placead/\">Place an Ad</a> </li> </ul></li> <li class=\"advtoprail__mainmenu-menuitem\"> <a class=\"advtoprail__mainmenu-menuitem-link js-mainmenu-link\" href=\"https://www.cleveland.com/mobile-device/\">Mobile Apps</a> </li> <li class=\"advtoprail__mainmenu-menuitem\"> <a class=\"advtoprail__mainmenu-menuitem-link js-mainmenu-link\" href=\"http://subscription.cleveland.com/newsletters/\">Email Newsletters</a> </li> <li class=\"advtoprail__mainmenu-menuitem js-expandable\"> <a class=\"advtoprail__mainmenu-menuitem-link js-mainmenu-link\" href=\"http://businessfinder.cleveland.com/\">Local Businesses</a> <button class=\"advtoprail__button-submenu js-button-mainmenu\" aria-label=\"Open the Local Businesses submenu\" aria-expanded=\"false\"> <span class=\"advtoprail__button-submenu--open\">&rsaquo;</span> <span class=\"advtoprail__button-submenu--close\">&lsaquo;</span> </button> <ul class=\"advtoprail__mainmenu-menulist--submenu js-submenu\"> <li class=\"advtoprail__mainmenu-menuitem--submenu-backtomain\"> <button class=\"advtoprail__button-mobile-backtomain js-button-backtomain\"> <span class=\"advtoprail__button-icon--backmm\"></span> <span class=\"advtoprail__button-label--backmm\">Back To Main Menu</span> </button> </li> <li class=\"advtoprail__mainmenu-menuitem--submenu js-menuitem-submenu\"> <a class=\"advtoprail__mainmenu-menuitem-link js-mainmenu-link\" href=\"http://businessfinder.cleveland.com/\">Find A Business</a> </li> <li class=\"advtoprail__mainmenu-menuitem--submenu js-menuitem-submenu\"> <a class=\"advtoprail__mainmenu-menuitem-link js-mainmenu-link\" href=\"http://businessfinder.cleveland.com/OH-Cleveland/Food-and-Dining\">Food & Dining</a> </li> <li class=\"advtoprail__mainmenu-menuitem--submenu js-menuitem-submenu\"> <a class=\"advtoprail__mainmenu-menuitem-link js-mainmenu-link\" href=\"http://businessfinder.cleveland.com/OH-Cleveland/Retail-Shopping\">Retail Shopping</a> </li> <li class=\"advtoprail__mainmenu-menuitem--submenu js-menuitem-submenu\"> <a class=\"advtoprail__mainmenu-menuitem-link js-mainmenu-link\" href=\"http://businessfinder.cleveland.com/OH-Cleveland/Health-and-Medicine\">Health & Medicine</a> </li> <li class=\"advtoprail__mainmenu-menuitem--submenu js-menuitem-submenu\"> <a class=\"advtoprail__mainmenu-menuitem-link js-mainmenu-link\" href=\"http://businessfinder.cleveland.com/OH-Cleveland/Personal-Care-and-Well-Being\">Personal Care</a> </li> <li class=\"advtoprail__mainmenu-menuitem--submenu js-menuitem-submenu\"> <a class=\"advtoprail__mainmenu-menuitem-link js-mainmenu-link\" href=\"http://businessfinder.cleveland.com/OH-Cleveland/Entertainment-and-Arts\">Entertainment</a> </li> <li class=\"advtoprail__mainmenu-menuitem--submenu js-menuitem-submenu\"> <a class=\"advtoprail__mainmenu-menuitem-link js-mainmenu-link\" href=\"http://businessfinder.cleveland.com/OH-Cleveland/Real-Estate\">Real Estate</a> </li> <li class=\"advtoprail__mainmenu-menuitem--submenu js-menuitem-submenu\"> <a class=\"advtoprail__mainmenu-menuitem-link js-mainmenu-link\" href=\"http://businessfinder.cleveland.com/OH-Cleveland/Automotive\">Automotive</a> </li> <li class=\"advtoprail__mainmenu-menuitem--submenu js-menuitem-submenu\"> <a class=\"advtoprail__mainmenu-menuitem-link js-mainmenu-link\" href=\"http://businessfinder.cleveland.com/about/advertise.html\">Claim Your Business</a> </li> </ul></li> <li class=\"advtoprail__mainmenu-menuitem--subscribe js-expandable\"> <span id=\"mainmenu-subscriptions\">Subscriptions</span> <button class=\"advtoprail__button-submenu js-button-mainmenu\" aria-label=\"Open the subscriptions submenu\" aria-expanded=\"false\">&rsaquo;</button> <ul class=\"advtoprail__mainmenu-menulist--submenu js-submenu\"> <li class=\"advtoprail__mainmenu-menuitem--submenu-backtomain\"> <button class=\"advtoprail__button-mobile-backtomain js-button-backtomain\"> <span class=\"advtoprail__button-icon--backmm\"></span> <span class=\"advtoprail__button-label--backmm\">Back To Main Menu</span> </button> </li> <li class=\"advtoprail__mainmenu-menuitem--submenu\"> <a class=\"advtoprail__mainmenu-menuitem-link\" href=\"https://members.plaindealer.com/dssSubscribe.aspx\" aria-label=\"Subscribe to The Plain Dealer\">The Plain Dealer</a> </li> <li class=\"advtoprail__mainmenu-menuitem--submenu\"> <a class=\"advtoprail__mainmenu-menuitem-link\" href=\"https://members.plaindealer.com/dssSubscribe.aspx\" aria-label=\"Subscribe to Sun News\">Sun News</a> </li> <li class=\"advtoprail__mainmenu-menuitem--submenu\"> <a class=\"advtoprail__mainmenu-menuitem-link\" href=\"https://members.plaindealer.com/\" aria-label=\"Subscribe to Media Insider Rewards\">Media Insider Rewards</a> </li> </ul> </li> </ul> </div> </div> </div></nav> </div> <div class=\"advtoprail__weather js-weather\"> <button class=\"advtoprail__weather-button js-button-masthead js-button-weather\" aria-label=\"Find Your Local Weather Forecast\" aria-expanded=\"false\" data-buttonname=\"weatherUnset\"> <span class=\"advtoprail__weather-conditions js-weather-conditions\"> <span class=\"advtoprail__weather-temperature js-weather-temperature\"></span> </span> </button> <div class=\"advtoprail__dropdown--weather js-dropdown\" role=\"dialog\" aria-hidden=\"true\" aria-expanded=\"false\"> <div class=\"advtoprail__menuborderarrow--weather\"></div> <div class=\"advtoprail__dropdown-outer\"> <div class=\"advtoprail__dropdown-inner--weather\" aria-live=\"polite\"> <button class=\"advtoprail__button-mobile-backtomain js-button-backtomain\"> <span class=\"advtoprail__button-icon--backmm\"></span> <span class=\"advtoprail__button-label--backmm\">Back To Main Menu</span> </button> <button class=\"advtoprail__button--close js-button-close\" aria-label=\"Close the Find Your Weather Forecast popup\"> <span class=\"advtoprail__button-icon--close\">Close</span> </button> <div class=\"advtoprail__weather-details js-weather-form\"> <div class=\"advtoprail__weather-title\">Customize Your Weather</div> <div class=\"advtoprail__weather-label\">Set Your Location:</div> <div class=\"advtoprail__weather-error js-setweather-error\"></div> <div class=\"aria-hidden\">Enter City and State or Zip Code</div> <input class=\"advtoprail__input js-setweather-input\" name=\"advtoprail__input\" type=\"text\" value=\"\" placeholder=\"Enter City and State or Zip Code\"/> <input class=\"advtoprail__submit js-setweather-submit\" type=\"submit\" value=\"Submit\"/> </div> <div class=\"advtoprail__weather-details js-weather-confirm\"> <div class=\"advtoprail__weather-title\">Congratulations!</div> <div class=\"advtoprail__weather-label--confirm\">Your weather is set to <span class=\"js-chosen-location\"></span>. You can change the location at any time.</div> <input class=\"advtoprail__submit js-setweather-done\" type=\"button\" value=\"Done\"/> </div> <div class=\"advtoprail__weather-details js-weather-forecast\"> <div class=\"advtoprail__weather-subtitle\">AccuWeather.com Quick Look</div> <div class=\"advtoprail__weather-title js-weather-title\"></div> <button class=\"advtoprail__weather-button--change-location js-change-location\">Change your current location &raquo;</button> <div class=\"advtoprail__weather-forecast js-forecasts\"> <div class=\"advtoprail__weather-forecast-period js-forecast-current\"> <span class=\"advtoprail__weather-forecast-label js-weather-forecast-label\">Current</span> <span class=\"advtoprail__weather-forecast-highlow js-weather-forecast-highlow\"></span> <span class=\"advtoprail__weather-forecast-temperature js-weather-forecast-temperature\"></span> <span class=\"advtoprail__weather-forecast-condition js-weather-forecast-condition\"></span> </div> <div class=\"advtoprail__weather-forecast-period js-forecast-tonight\"> <span class=\"advtoprail__weather-forecast-label js-weather-forecast-label\">Tonight</span> <span class=\"advtoprail__weather-forecast-highlow js-weather-forecast-highlow\"></span> <span class=\"advtoprail__weather-forecast-temperature js-weather-forecast-temperature\"></span> <span class=\"advtoprail__weather-forecast-condition js-weather-forecast-condition\"></span> </div> <div class=\"advtoprail__weather-forecast-period js-forecast-tomorrow\"> <span class=\"advtoprail__weather-forecast-label js-weather-forecast-label\">Tomorrow</span> <span class=\"advtoprail__weather-forecast-highlow js-weather-forecast-highlow\"></span> <span class=\"advtoprail__weather-forecast-temperature js-weather-forecast-temperature\"></span> <span class=\"advtoprail__weather-forecast-condition js-weather-forecast-condition\"></span> </div> </div> <button class=\"advtoprail__weather-button-fullreport js-button-fullreport\">View Full Weather Report</button> </div> </div> </div> </div> </div><div class=\"advtoprail__mainmenu-sponsor adunit nomobilead\" id=\"TopRail_Sponsor\"></div> </div> <div class=\"advtoprail__masthead js-masthead\"> <div class=\"advtoprail__masthead-logo js-masthead-logo\"> <a class=\"advtoprail__masthead-afflink\" href=\"https://www.cleveland.com/\" aria-label=\"Visit the cleveland.com homepage\"> <img class=\"advtoprail__masthead-afflink-logo\" src=\"https://www.cleveland.com/pb/resources/dist/cleveland/images/logos/logo_main_inverse.svg\" alt=\"cleveland’s Logo\"/> </a> </div> </div> <div class=\"advtoprail__right-corner\"> <button class=\"advtoprail__button-subscribe js-button-masthead\" aria-label=\"View all of cleveland.com\\'s\\' available newspaper subscriptions and email newsletters\" aria-expanded=\"false\" data-buttonname=\"subscription\"> <div class=\"advtoprail__button-subscribe-label\">Subscribe</div> </button> <div class=\"advtoprail__dropdown advtoprail__dropdown--subscribe js-dropdown\" role=\"dialog\" aria-hidden=\"true\" aria-expanded=\"false\"> <div class=\"advtoprail__menuborderarrow\"></div> <div class=\"advtoprail__dropdown-outer\"> <div class=\"advtoprail__dropdown-inner\"> <ul class=\"advtoprail__subscription-menulist\"> <li class=\"advtoprail__subscription-menuitem\"> <a class=\"advtoprail__subscription-link js-subscription-link\" href=\"https://members.plaindealer.com/dssSubscribe.aspx\" aria-label=\"Subscribe to The Plain Dealer\">The Plain Dealer</a> </li> <li class=\"advtoprail__subscription-menuitem\"> <a class=\"advtoprail__subscription-link js-subscription-link\" href=\"https://members.plaindealer.com/dssSubscribe.aspx\" aria-label=\"Subscribe to Sun News\">Sun News</a> </li> <li class=\"advtoprail__subscription-menuitem\"> <a class=\"advtoprail__subscription-link js-subscription-link\" href=\"https://members.plaindealer.com/\" aria-label=\"Subscribe to Media Insider Rewards\">Media Insider Rewards</a> </li> </ul> </div> </div> </div> <button class=\"advtoprail__button--account js-button-account\" aria-expanded=\"false\" aria-label=\"Sign in to cleveland.com\"> <span class=\"advtoprail__button-icon--account\"></span> <span class=\"advtoprail__iconlabel\">Sign In</span> </button> <div class=\"advtoprail__dropdown-user js-dropdown-user\" role=\"dialog\" aria-hidden=\"true\" aria-expanded=\"false\"> <button class=\"advtoprail__button--close js-button-close js-button-account-close\"> <span class=\"advtoprail__button-icon--close\" aria-label=\"Close the User Account section\">Close</span> </button> <img class=\"advtoprail__user-profile-image js-account-image\" alt=\"User Profile\"/> <div class=\"advtoprail__user-profile-nameplate js-account-name\"> You are signed in as<br/> </div> <div class=\"advtoprail__user-profile-links\"> <a class=\"advtoprail__link--account-profile js-edit-profile\" aria-label=\"View your public profile\">Public Profile</a> <a class=\"advtoprail__link--account-edit js-button-edit\" aria-label=\"Edit your profile\">Edit Profile</a> <a class=\"advtoprail__link--account-signout js-edit-signout\">Sign Out</a> </div> </div><button class=\"advtoprail__button--search js-button-search\" id=\"adv_search\" aria-expanded=\"false\" aria-label=\"Search cleveland.com\"> <span class=\"advtoprail__button-icon--search\"></span> <span class=\"advtoprail__iconlabel\">Search</span> </button> </div> </header> <div class=\"pb-container\"> </div> </div> <div class=\"main-wrapper main-wrapper--article\"> <div id=\"belowToprail\" class=\"below-toprail\"> <div class=\"pb-container\"> <div id=\"topRail-Below-Flex\" class=\"ad ad--topRail-Below-Flex\"></div> </div> </div> <div id=\"fullWidth\" class=\"full-width\"> </div> <main id=\"main\" class=\"main\" aria-live=\"polite\"> <article class=\"article h-entry\" data-type=\"article\"> <header class=\"article__header\"> <nav class=\"articleLabel\" aria-label=\"articleLabel\"> <ol id=\"articleLabel__list\" class=\"articleLabel__list\"> <li id=\"articleLabel__listItem\" class=\"articleLabel__listItem\"> <a id=\"articleLabel__link\" class=\"articleLabel__link\" href=\"https://www.cleveland.com/metro\" title=\"Navigate to Metro\">Metro</a> </li> </ol> </nav> <h1 class=\"p-name\">Case Western Reserve University President Barbara Snyder\\'s base salary and bonus pay tops among private colleges in Ohio </h1> <div class=\"dateline\"> <span class=\"dateline__updated\"><time datetime=\"2017-12-10T23:00:00\" aria-label=\"December tenth two-thousand seventeen at eleven P M\">Updated Dec 10, 2017</time><span aria-hidden=\"true\">; </span></span> <span class=\"dateline__published\"><time datetime=\"2017-12-10T22:00:00\" aria-label=\"December tenth two-thousand seventeen at ten P M\">Posted Dec 10, 2017</time></span> </div> <figure class=\"article__mmm article__mmm--photo\"> <div class=\"article__mmm-wrapper\"> <div class=\"article__mmm-content-wrapper\"> <img src=\"http://image.cleveland.com/home/cleve-media/width600/img/plain_dealer_metro/photo/cwrus-snyder-tops-pay-scale-highest-paid-of-ohio-private-college-chiefs-at-over-1m-yearly-581ba32ba99d75e9.jpg\" alt=\"Case Western Reserve University President Barbara Snyder&#039;s base pay and bonus for 2015 ranked her first among private college presidents in Ohio. (John Kuntz, cleveland.com)\"> </div> <figcaption class=\"article__mmm-caption article__mmm-caption--image\"> <p class=\"article__mmm-image-caption-text\">Case Western Reserve University President Barbara Snyder&#039;s base pay and bonus for 2015 ranked her first among private college presidents in Ohio. (John Kuntz, cleveland.com)</p> </figcaption> </div> </figure> <div class=\"article__commentBubble-socialShare\"> <div class=\"commentBubble__container\"> <button class=\"commentBubble commentBubble--noComments\" data-url=\"https://www.cleveland.com/metro/2017/12/case_western_reserve_university_president_barbara_snyders_base_salary_and_bonus_pay_tops_among_private_colleges_in_ohio.html\" data-id=\"21622286\" data-legacy=\"273e236291b18c0720f9b1b13da4b999\" aria-label=\"Read all comments on this article\"> <span class=\"commentBubbleSpan\" data-type=\"commentBubble\"> <span class=\"viafoura\"> <span class=\"vf-counter vf-widget\" data-widget=\"counter\" data-url=\"https://www.cleveland.com/metro/2017/12/case_western_reserve_university_president_barbara_snyders_base_salary_and_bonus_pay_tops_among_private_colleges_in_ohio.html\" data-unique_id=\"21622286\"></span> </span> </span> </button> </div> <div id=\"social_A2EQWKKGO5HHZLWG4H7LR5H5VU\" class=\"adi-share-auto\" data-layout=\"horizontal\" data-link=\"https://www.cleveland.com/metro/2017/12/case_western_reserve_university_president_barbara_snyders_base_salary_and_bonus_pay_tops_among_private_colleges_in_ohio.html\" data-title=\"Case Western Reserve University President Barbara Snyder\\'s base salary and bonus pay tops among private colleges in Ohio \" data-thumbnail=\"https://www.cleveland.com/resizer/TGNM8-loeSZuDhjhqhthGsqgpTQ=/1200x0/advancelocal-adapter-image-uploads.s3.amazonaws.com/image.cleveland.com/home/cleve-media/width2048/img/plain_dealer_metro/photo/cwrus-snyder-tops-pay-scale-highest-paid-of-ohio-private-college-chiefs-at-over-1m-yearly-581ba32ba99d75e9.jpg\"></div> </div> <p class=\"byline\">By <a class=\"byline__authorLink\" href=\"http://connect.cleveland.com/staff/kfarkas/posts.html\" title=\"Visit Karen Farkas, cleveland.com&#39;s Author Page\">Karen Farkas, cleveland.com</a> </p> </header> <div class=\"article__story\"> <div class=\"entry-content\"> <p class=\"article__paragraph\">CLEVELAND, Ohio -\\xa0<a href=\"http://www.case.edu/\">Case Western Reserve University\\xa0</a>President Barbara Snyder\\'s $700,312 base pay and $175,000 bonus in 2015 again made her the highest paid private college leader in Ohio, according to an annual report.</p><p class=\"article__paragraph\">Nationally, Snyder\\'s total compensation of $1.154 million, which can include deferred compensation and other pay, ranked 41st out of 541 presidents of private colleges according to the report by the\\xa0<a href=\"http://chronicle.com/\">Chronicle of Higher Education.</a></p> <div id=\"in-article_AOJSWF2SO5F6NLAFYE77J7FAPI\" class=\"ad ad--in-article\"></div> <p class=\"article__paragraph\">She is among 58 presidents to earn $1 million or more. The previous year, 39 private college presidents earned more than $1 million.</p><p class=\"article__paragraph\">The Chronicle\\'s <a href=\"https://www.chronicle.com/interactives/executive-compensation#id=table_private_2015\">compensation tables </a>come from a review of federal tax documents from the 2015 calendar year, the most recent available.</p><p class=\"article__paragraph\">Former University of Dayton President\\xa0Daniel Curran, who left in 2016, ranked eighth in the U.S. with a total compensation of $2.44 million, but $1.66 million of that was in other pay, which was likely deferred compensation awarded after he announced his retirement. His total pay in 2014 was $771,354.</p><p class=\"article__paragraph\">Following is total compensation for other presidents at private colleges in Ohio in 2015:</p><ul class=\"article__unordered-list\"> <li class=\"article__unordered-list-item\">Grant Cornwell, College of Wooster (left in 2015): $911,651</li> <li class=\"article__unordered-list-item\">Marvin Krislov, Oberlin College (left in 2016): \\xa0$829,913</li> <li class=\"article__unordered-list-item\">Mark Roosevelt, Antioch College, (left in 2015): $507,672</li> <li class=\"article__unordered-list-item\">Laurie Joyner, Wittenberg University (left in 2015): $463,504</li> <li class=\"article__unordered-list-item\">Richard Giese, University of Mount Union (left in 2015): $453,800</li> <li class=\"article__unordered-list-item\">Sean Decatur,Kenyon College: $451,698</li> <li class=\"article__unordered-list-item\">Adam Weinberg, Denison University: $435,322</li> <li class=\"article__unordered-list-item\">Daniel Dibiasio, Ohio Northern University: $414,716</li> <li class=\"article__unordered-list-item\">Denvy Bowman, Capital University (left in 2016): $388,570</li> <li class=\"article__unordered-list-item\">Anne Steele, Muskingum University (left in 2016): $384,233</li> <li class=\"article__unordered-list-item\">Kathy Krendl, Otterbein University: \\xa0$378,035</li> <li class=\"article__unordered-list-item\">Rockwell Jones, Ohio Wesleyan University: $366,625</li> <li class=\"article__unordered-list-item\">Robert Helmer, Baldwin Wallace University: $365,616</li> <li class=\"article__unordered-list-item\">Robert Huntington, Heidelberg University: $300,005</li> <li class=\"article__unordered-list-item\">Lori Varlotta, Hiram College: $293,336</li> <li class=\"article__unordered-list-item\">Joseph Bruno, Marietta College (left in 2016): $288,295</li> <li class=\"article__unordered-list-item\">W. Richard Merriman Jr., University of Mount Union (started in June 2015): $221,761</li> </ul> <p class=\"article__paragraph\">The Rev. Robert Niehoff, president of John Carroll University (retired in 2017), Rev. Sean Sheridan of \\xa0Franciscan University of Steubenville and Rev. Michael Graham Xavier University do not take salaries.</p><p class=\"article__paragraph\">See the full list of presidents at\\xa0<a href=\"http://www.chronicle.com/compensation\">chronicle.com/compensation.</a></p><p class=\"article__paragraph\">The Chronicle\\'s list of pay for public college presidents was released in July.</p><div class=\"rawhtml\"><a href=\"http://www.cleveland.com/metro/index.ssf/2017/06/ohio_state_university_presiden_6.html\">Ohio State University President Michael Drake is 7th highest paid U.S. public college president</a></div> <p class=\"article__paragraph\">Ohio State President Michael Drake, with a total compensation of $1.03 million, was one of eight presidents who earned $1 million or more in the 2015-16 fiscal year.</p> <div id=\"in-article_FXUGCLQM3VGPHBZIYHU7QYIX7M\" class=\"ad ad--in-article\"></div> <p class=\"article__paragraph\">But when compared to Ohio State\\'s 2014 annual $5.2 billion operating budget, Drake\\'s pay per million in expenses is $199 -- among the lowest for presidents.</p><p class=\"article__paragraph\">By comparison, Cleveland State University President Ronald Berkman, whose total compensation was $641,817, oversaw an annual operating budget of $300.3 million in 2014. His pay per million in expenses was $2,127.</p><p class=\"article__paragraph\">Kent State University President Beverly Warren\\'s pay per million in expenses was $1,006. Her total compensation was $560,659 and she oversaw an annual operating budget of $557.4 million in 2014.</p><p class=\"article__paragraph\">The<a href=\"http://www.chronicle.com/interactives/executive-compensation\">\\xa0Chronicle\\'s analysis\\xa0</a>was based on 254 presidents from 221 colleges.</p><p class=\"article__paragraph\">According to the Chronicle:</p><ul class=\"article__unordered-list\"> <li class=\"article__unordered-list-item\">The average pay of private college presidents who served the full year in 2015 was $569,932, up 9 percent over presidents who served a full year in 2014.</li> <li class=\"article__unordered-list-item\">Nine of the 10 highest-paid chief executives earned more from bonuses and deferred compensation than they did from base salaries.</li> <li class=\"article__unordered-list-item\">The analysis is based on the latest available federal tax filings of the 500 private, nonprofit colleges with the largest endowments. The data include compensation figures for 568 presidents who served at 500 institutions for all or part of 2015. There were 352 presidents who served all of 2014 and 2015.</li> <li class=\"article__unordered-list-item\">The number of presidents earning over $1 million is attributed, in part, to a market where presidents are negotiating more deferred compensation and bonus packages before they take the job.</li> <li class=\"article__unordered-list-item\">The top two earners, Wake Forest University President Nathan Hatch ($4 million) and former Emory University President James Wagner ($3.5 million) were each paid more than $2 million in deferred compensation in 2015.</li> </ul> <p class=\"article__paragraph\">The Chronicle also compares pay to presidents in context of their colleges, including looking at each institution\\'s expenses, average tuition and fees and professor salaries.</p></div> </div> <button class=\"commentButton\" type=\"button\" data-url=\"https://www.cleveland.com/metro/2017/12/case_western_reserve_university_president_barbara_snyders_base_salary_and_bonus_pay_tops_among_private_colleges_in_ohio.html\" data-id=\"21622286\" data-legacy=\"273e236291b18c0720f9b1b13da4b999\" aria-label=\"Read all comments on this article\"> View Comments <span class=\"viafoura\"><span class=\"vf-counter vf-widget\" data-widget=\"counter\" data-url=\"https://www.cleveland.com/metro/2017/12/case_western_reserve_university_president_barbara_snyders_base_salary_and_bonus_pay_tops_among_private_colleges_in_ohio.html\" data-unique_id=\"21622286\"></span></span> </button> <div class=\"pb-container\"> </div> </article> </main> <div id=\"sidebar\" class=\"sidebar\"> <div class=\"pb-container\"> <div id=\"rightRail-Top-300xFlex\" class=\"ad ad--rightRail-Top-300xFlex\"></div> <div id=\"taboolahybridRightRail\"></div> <div id=\"rightRail-Bottom-300xFlex\" class=\"ad ad--rightRail-Bottom-300xFlex\"></div> </div> </div> </div> <div id=\"footer\" class=\"footer\"> <div class=\"footer\"> <nav class=\"footer__nav\"> <h2 class=\"footer__nav-title footer__nav-title--hidden\">Footer Navigation</h2> <div class=\"footer__nav-wrapper\"> </div> </nav> <div class=\"footer__disclaimer\"> <h2 class=\"footer__disclaimer-title footer__disclaimer-title--hidden\">Disclaimer</h2> <div class=\"footer__disclaimer-wrapper\"> <div class=\"footer__disclaimer-column footer__disclaimer-column--1\"> <a class=\"footer__disclaimer-logo-link\" href=\"https://www.advancelocal.com/\" id=\"AdvanceDigitalLogo\"> <img class=\"footer__disclaimer-logo-image\" src=\"https://www.cleveland.com/pb/resources/dist/common/images/footer-logo-advance.svg\" alt=\"Advance Local logo\" role=\"img\"> </a> </div> <div class=\"footer__disclaimer-column footer__disclaimer-column--2\"> <p class=\"footer__disclaimer-text\"> Registration on or use of this site constitutes acceptance of our <a href=\"https://www.cleveland.com/user-agreement/\">User Agreement</a> and <a href=\"https://www.cleveland.com/privacy-policy/\">Privacy Policy</a> </p> <p class=\"footer__disclaimer-text\">&copy; 2019 Advance Ohio. All rights reserved (<a href=\"https://www.cleveland.com/aboutus/\">About Us</a>).<br> The material on this site may not be reproduced, distributed, transmitted, cached or otherwise used, except with the prior written permission of Advance Ohio.</p> <p class=\"footer__disclaimer-text\"><a href=\"https://www.cleveland.com/communityrules/\">Community Rules</a> apply to all content you upload or otherwise submit to this site.</p> <p class=\"footer__disclaimer-text\"> <a href=\"https://www.cleveland.com/privacy-policy/#oba_top\"> <img src=\"https://www.cleveland.com/pb/resources/dist/common/images/ps-images/ad-choices-arrow.png\" alt=\"\"> Ad Choices </a> </p> </div> </div> </div> </div> <div class=\"pb-container\"> <div id=\"ad-wrapper__mobile-bottom-adhesion\" class=\"ad-wrapper__mobile-bottom-adhesion\" data-visible=\"true\"> <button id=\"mobile-bottom-adhesion__closeButton\" class=\"mobile-bottom-adhesion__closeButton mobile-bottom-adhesion__closeButton--show\"> <img class=\"mobile-bottom-adhesion__closeButton-image\" src=\"/pb/resources/dist/common/images/icons/close.svg\" alt=\"Close button for the advertisement.\"> </button> <div class=\"mobile-bottom-adhesion__wrapper\"> <div id=\"mobile-bottom-adhesion\" class=\"ad ad--mobile-bottom-adhesion\"></div> </div> </div> </div> </div> <div class=\"pb-container\"> </div> <script>\\n        // For Viafoura\\n        window.pageConfig = {\\n            uniqueId: \\'A2EQWKKGO5HHZLWG4H7LR5H5VU\\',\\n            authorId: \\'kfarkas\\',\\n            readOnly: JSON.parse( false ),\\n        };\\n        // For Off-Canvas Comments\\n        window.ocConfig = {\\n            pagetype: \\'cal\\',\\n        };\\n    </script> <script src=\"https://static.advance.net/static/social/viafoura/dist/comments.bundle.js\"></script> <script src=\"https://static.advance.net/static/common/js/ads/revgen.v2.js\"></script> <script>var adiTrackPromise=window.adiTrackPromise=function(){if(Promise)return new Promise(function(resolve,reject){function wait(){setTimeout(function(){return window.adiTrack?resolve():wait()},50)}wait()})}();</script> <script src=\"https://static.advance.net/static/common/js/adv-js-loader.js\"></script> <script src=\"https://code.jquery.com/jquery-1.8.2.min.js\" integrity=\"sha256-9VTS8JJyxvcUR+v+RTLTsd0ZWbzmafmlzMmeZO9RFyk=\" crossorigin=\"anonymous\"></script> <script src=\"https://static.advance.net/static/common/js/adv_gigya.js\"></script> <script src=\"https://www.cleveland.com/pb/resources/dist/common/js/article6b257cc88a13bd4ace99.js\"></script> <script>if(document.getElementById(\"deals\"))document.getElementById(\"deals\").innerHTML=\"Deal$\";</script> <script>(function(){!function(o){function n(e){if(t[e])return t[e].exports;var i=t[e]={exports:{},id:e,loaded:!1};return o[e].call(i.exports,i,i.exports,n),i.loaded=!0,i.exports}var t={};return n.m=o,n.c=t,n.p=\"\",n(0)}({0:function(o,n,t){function e(o){return o&&o.__esModule?o:{\"default\":o}}function i(){if(!j){j=!0,window._sp_=window._sp_||{},H=window._sp_.config=window._sp_.config||{},K=H.content_control_callback||window._sp_lock,N=H.account_id||H.client_id||window.sp_cid;for(var o in H)T[o]=H[o]}}function r(o,\\nn){var t=arguments.length>2&&void 0!==arguments[2]?arguments[2]:\"\",e=new Image;e.src=\"//\"+E+\"/cct?v\\\\x3d\"+encodeURIComponent(x)+\"\\\\x26ct\\\\x3d1\\\\x26cid\\\\x3d\"+encodeURIComponent(N)+\"\\\\x26l\\\\x3d\"+encodeURIComponent(o.toString())+\"\\\\x26rc\\\\x3d\"+encodeURIComponent(n)+\"\\\\x26d0\\\\x3d\"+encodeURIComponent(t)}function c(o,n,t,e){var i=arguments.length>4&&void 0!==arguments[4]?arguments[4]:{},r=arguments.length>5&&void 0!==arguments[5]&&arguments[5],d=function(){return c(o,n,t,e,i,!0)},a=r?t:d;o(n,a,e,i)}function d(o,n,\\nt,e){var i=document.createElement(\"script\");i.src=o,i.onload=function(){try{if(window._sp_&&window._sp_.bootstrap===p&&window.spBootstrap===u&&window._sp_.config===H)for(var o in T){if(T[o]!==H[o]){h&&h();break}}else h&&h()}catch(n){h&&h()}e.onLoad&&e.onLoad()},i.onerror=function(){function i(o,n){t(o,n),e.onError&&e.onError(n)}function r(o){return c.indexOf(o)>-1}var c=(navigator.userAgent||navigator.vendor||window.opera).toLowerCase();r(\"mobi\")||r(\"ipad\")||r(\"android\")||r(\"iphone\")?i(S):r(\"exabot\")?\\ni(k):r(\"bingbot\")||r(\"bingpreview\")?i(D):r(\"googlebot\")||r(\"adsbot-google\")||r(\"mediapartners-google\")?i(R):r(\"googleweblight\")?i(I):window.location.host===g?i(L):window.location.host.indexOf(m)>-1?i(M):r(\"msie 10\")||r(\"msie 9\")||r(\"msie 8\")?i(U):a(o,n,i)},document.head.appendChild(i),document.querySelector(\\'script[src\\\\x3d\"\\'+o+\\'\"]\\')||window.location.host.indexOf(m)!==-1||n(O,o)}function a(o,n,t){(0,v[\"default\"])(o,function(e,i,r,c){var d=e||i?n:t;d(c,o+\"::\"+r)})}function s(o,n){return A?void w(B+\\n\"::\"+o,n):(r(y,o,n),void(K&&setTimeout(function(){K()},250)))}function w(o,n){r(C,o,n)}function u(o,n){i(),n&&(K=window._sp_lock=n),c(d,o,s,w)}function p(o,n){i(),c(d,o,s,w,n)}var f=t(383),l=e(f),_=t(99),v=e(_),g=[\"w\",\"e\",\"b\",\"c\",\"a\",\"c\",\"h\",\"e\",\".\",\"g\",\"o\",\"o\",\"g\",\"l\",\"e\",\"u\",\"s\",\"e\",\"r\",\"c\",\"o\",\"n\",\"t\",\"e\",\"n\",\"t\",\".\",\"c\",\"o\",\"m\"].join(\"\"),m=[\"o\",\"p\",\"t\",\"i\",\"m\",\"i\",\"z\",\"e\",\"l\",\"y\",\"p\",\"r\",\"e\",\"v\",\"i\",\"e\",\"w\",\".\",\"c\",\"o\",\"m\"].join(\"\"),h=void 0;try{h=window._sp_&&window._sp_.config&&window._sp_.config.spid_control_callback}catch(b){}var E=\\nl[\"default\"].be.join(\"\"),x=l[\"default\"].bv,C=0,y=1,O=\"s\",S=\"m\",R=\"g\",L=\"gw\",I=\"gl\",U=\"i\",D=\"b\",k=\"e\",B=\"n\",M=\"o\",T={},j=!1,A=!1,H=void 0,K=void 0,N=void 0;window.addEventListener(\"beforeunload\",function(){A=!0});try{window._sp_=window._sp_||{},window._sp_.bootstrap=p,window.spBootstrap=u,window._sp_.bootstrap===p&&window.spBootstrap===u||h&&h()}catch(b){h&&h()}},99:function(o,n){function t(o,n){function t(o){try{return o&&o.timeStamp?o.timeStamp:window.performance.now()}catch(o){return Date.now()}}\\nvar a=document.createElement(\"a\");if(a.href=o,\"https:\"===window.location.protocol&&a.protocol!==window.location.protocol)return void n(!1,!1,a.protocol,d);var s=new XMLHttpRequest;try{s.open(\"GET\",o)}catch(w){return void n(!0,!1,w.toString(),r,s)}var u=void 0,p=void 0;s.onloadstart=function(o){u=t(o)},s.onreadystatechange=function(o){if(4===this.readyState){p=t(o)-u;var r=0===this.status,c=\"2\"===this.status.toString()[0],d=c?i:e;return void n(r,c,this.status+\"::\"+p,d,s)}};try{s.send()}catch(w){return void n(!0,\\n!1,w.toString(),c,s)}}Object.defineProperty(n,\"__esModule\",{value:!0}),n[\"default\"]=t;var e=n.NETWORK_FAILURE=\"n\",i=n.XHR_SUCCEEDED=\"nx\",r=n.OPEN_BLOCKED=\"xo\",c=n.SEND_BLOCKED=\"xs\",d=n.PROTOCOL_MISMATCH=\"p\"},383:function(o,n){o.exports={be:[\"w\",\"w\",\"w\",\".\",\"b\",\"e\",\"e\",\"f\",\"t\",\"r\",\"a\",\"n\",\"s\",\"m\",\"i\",\"s\",\"s\",\"i\",\"o\",\"n\",\".\",\"c\",\"o\",\"m\"],bv:\"1.7.591\"}}});window._sp_=window._sp_||{};window._sp_.config=window._sp_.config||{};window._sp_.mms=window._sp_.mms||{};window._sp_.mms.cmd=window._sp_.mms.cmd||\\n[];window._sp_.config.account_id=148;window._sp_.config.mms_domain=\"mms.cleveland.com\";window._sp_.config.content_control_callback=function(){console.log(\"CONTENT LOCK\")};window._sp_.config.vid_control_callback=function(){console.log(\"vid\")};window._sp_.config.mms_client_data_callback=function showit(e){if(e.info.prtn_uuid!==null){var adblklabel=\"cmpgnID:\"+e.info.cmpgn_id+\"||prtnID:\"+e.info.prtn_uuid+\"||msgID:\"+e.info.msg_id+\"||abp:\"+e.d.abp+\"||abt:\"+e.d.abt;window.spVariation=adblklabel+\"||\";var spevt=\\ndocument.createEvent(\"Event\");spevt.initEvent(\"spoptly\",true,false);document.dispatchEvent(spevt)}};window._sp_.mms.cmd.push(function(){window._sp_.mms.startMsg()});window._sp_.bootstrap(\"//sp148.global.ssl.fastly.net/messaging.js\");window._sp_.bootstrap(\"//sp148.global.ssl.fastly.net/mms-client.js\")})();</script> <script async src=\\'https://www.cleveland.com/pb/gr/p/default/rzb2dd1NNWr7cr/render.js?v=141\\'></script></body> </html>'"
      ]
     },
     "execution_count": 152,
     "metadata": {},
     "output_type": "execute_result"
    }
   ],
   "source": [
    "r.text"
   ]
  },
  {
   "cell_type": "code",
   "execution_count": 180,
   "metadata": {},
   "outputs": [
    {
     "name": "stdout",
     "output_type": "stream",
     "text": [
      "ul\n",
      "Grant Cornwell, College of Wooster (left in 2015): $911,651\n",
      "Marvin Krislov, Oberlin College (left in 2016):  $829,913\n",
      "Mark Roosevelt, Antioch College, (left in 2015): $507,672\n",
      "Laurie Joyner, Wittenberg University (left in 2015): $463,504\n",
      "Richard Giese, University of Mount Union (left in 2015): $453,800\n",
      "Sean Decatur,Kenyon College: $451,698\n",
      "Adam Weinberg, Denison University: $435,322\n",
      "Daniel Dibiasio, Ohio Northern University: $414,716\n",
      "Denvy Bowman, Capital University (left in 2016): $388,570\n",
      "Anne Steele, Muskingum University (left in 2016): $384,233\n",
      "Kathy Krendl, Otterbein University:  $378,035\n",
      "Rockwell Jones, Ohio Wesleyan University: $366,625\n",
      "Robert Helmer, Baldwin Wallace University: $365,616\n",
      "Robert Huntington, Heidelberg University: $300,005\n",
      "Lori Varlotta, Hiram College: $293,336\n",
      "Joseph Bruno, Marietta College (left in 2016): $288,295\n",
      "W. Richard Merriman Jr., University of Mount Union (started in June 2015): $221,761\n"
     ]
    }
   ],
   "source": [
    "from bs4 import NavigableString\n",
    "\n",
    "soup = BeautifulSoup(r.text, 'html.parser')\n",
    "\n",
    "def specifics(tag):\n",
    "\n",
    "    if (tag.has_attr('class')) and \\\n",
    "       ('article__unordered-list' in tag['class']):\n",
    "        \n",
    "        # print(tag.name, tag['class'])\n",
    "        prev_sib = tag.previous_sibling\n",
    "        if prev_sib == None:\n",
    "            return False\n",
    "        \n",
    "        # print(tag.name, prev_sib.name)\n",
    "        if (not isinstance(prev_sib, NavigableString)) and \\\n",
    "            (prev_sib.has_attr('class')) and \\\n",
    "            ('article__paragraph' in prev_sib['class']):\n",
    "            if 'Ohio' in prev_sib.text:\n",
    "                # print(prev_sib.text)\n",
    "                return True\n",
    "\n",
    "    return False\n",
    "\n",
    "ul_tag = soup.find(specifics)\n",
    "print(ul_tag.name)\n",
    "data = []\n",
    "for child in ul_tag.children:\n",
    "    if isinstance(child, NavigableString):\n",
    "        continue\n",
    "    data.append(child.contents[0])\n",
    "\n",
    "for d in data:\n",
    "    print(d)"
   ]
  },
  {
   "cell_type": "code",
   "execution_count": 202,
   "metadata": {},
   "outputs": [
    {
     "name": "stdout",
     "output_type": "stream",
     "text": [
      "[('Grant', 'Cornwell', ' College of Wooster ', '911651'), ('Marvin', 'Krislov', ' Oberlin College ', '829913'), ('Mark', 'Roosevelt', ' Antioch College ', '507672'), ('Laurie', 'Joyner', ' Wittenberg University ', '463504'), ('Richard', 'Giese', ' University of Mount Union ', '453800'), ('Sean', 'Decatur', 'Kenyon College', '451698'), ('Adam', 'Weinberg', ' Denison University', '435322'), ('Daniel', 'Dibiasio', ' Ohio Northern University', '414716'), ('Denvy', 'Bowman', ' Capital University ', '388570'), ('Anne', 'Steele', ' Muskingum University ', '384233'), ('Kathy', 'Krendl', ' Otterbein University', '378035'), ('Rockwell', 'Jones', ' Ohio Wesleyan University', '366625'), ('Robert', 'Helmer', ' Baldwin Wallace University', '365616'), ('Robert', 'Huntington', ' Heidelberg University', '300005'), ('Lori', 'Varlotta', ' Hiram College', '293336'), ('Joseph', 'Bruno', ' Marietta College ', '288295'), ('W.', 'Richard', ' University of Mount Union ', '221761')]\n"
     ]
    }
   ],
   "source": [
    "import re\n",
    "import numpy as np\n",
    "\n",
    "data = np.array(data)\n",
    "all_res = []\n",
    "for d in data:\n",
    "    d2 = d.split(',')\n",
    "    res = d2[0].split()\n",
    "    fn, ln = res[0], res[1]\n",
    "    remaining = ''.join(d2[1:])\n",
    "    \n",
    "    res = re.findall(r'([\\w\\s]+)[,:]?\\s*(\\([\\w\\s]+\\))?:\\s*\\$(.*)', remaining)\n",
    "    school, _, salary = res[0]\n",
    "    all_res.append((fn, ln, school, salary))\n",
    "print(all_res)"
   ]
  },
  {
   "cell_type": "code",
   "execution_count": 203,
   "metadata": {},
   "outputs": [
    {
     "data": {
      "text/html": [
       "<div>\n",
       "<style scoped>\n",
       "    .dataframe tbody tr th:only-of-type {\n",
       "        vertical-align: middle;\n",
       "    }\n",
       "\n",
       "    .dataframe tbody tr th {\n",
       "        vertical-align: top;\n",
       "    }\n",
       "\n",
       "    .dataframe thead th {\n",
       "        text-align: right;\n",
       "    }\n",
       "</style>\n",
       "<table border=\"1\" class=\"dataframe\">\n",
       "  <thead>\n",
       "    <tr style=\"text-align: right;\">\n",
       "      <th></th>\n",
       "      <th>First Name</th>\n",
       "      <th>Last Name</th>\n",
       "      <th>College</th>\n",
       "      <th>Salary</th>\n",
       "    </tr>\n",
       "  </thead>\n",
       "  <tbody>\n",
       "    <tr>\n",
       "      <th>0</th>\n",
       "      <td>Grant</td>\n",
       "      <td>Cornwell</td>\n",
       "      <td>College of Wooster</td>\n",
       "      <td>911651</td>\n",
       "    </tr>\n",
       "    <tr>\n",
       "      <th>1</th>\n",
       "      <td>Marvin</td>\n",
       "      <td>Krislov</td>\n",
       "      <td>Oberlin College</td>\n",
       "      <td>829913</td>\n",
       "    </tr>\n",
       "    <tr>\n",
       "      <th>2</th>\n",
       "      <td>Mark</td>\n",
       "      <td>Roosevelt</td>\n",
       "      <td>Antioch College</td>\n",
       "      <td>507672</td>\n",
       "    </tr>\n",
       "    <tr>\n",
       "      <th>3</th>\n",
       "      <td>Laurie</td>\n",
       "      <td>Joyner</td>\n",
       "      <td>Wittenberg University</td>\n",
       "      <td>463504</td>\n",
       "    </tr>\n",
       "    <tr>\n",
       "      <th>4</th>\n",
       "      <td>Richard</td>\n",
       "      <td>Giese</td>\n",
       "      <td>University of Mount Union</td>\n",
       "      <td>453800</td>\n",
       "    </tr>\n",
       "  </tbody>\n",
       "</table>\n",
       "</div>"
      ],
      "text/plain": [
       "  First Name  Last Name                      College  Salary\n",
       "0      Grant   Cornwell          College of Wooster   911651\n",
       "1     Marvin    Krislov             Oberlin College   829913\n",
       "2       Mark  Roosevelt             Antioch College   507672\n",
       "3     Laurie     Joyner       Wittenberg University   463504\n",
       "4    Richard      Giese   University of Mount Union   453800"
      ]
     },
     "execution_count": 203,
     "metadata": {},
     "output_type": "execute_result"
    }
   ],
   "source": [
    "df = pd.DataFrame(data=all_res, columns=['First Name', 'Last Name', 'College', 'Salary'])\n",
    "df.head()"
   ]
  },
  {
   "cell_type": "markdown",
   "metadata": {
    "colab_type": "text",
    "id": "1dCb1q8XphcP"
   },
   "source": [
    "# 4) Stretch Goals\n",
    "\n",
    "- Write a web scraper that can scrape \"Data Scientist\" job listings from indeed.com.\n",
    "- Practice your regex skills: <https://regexone.com/>\n",
    "- Look ahead to some of the topics from later this week:\n",
    " - Tokenization\n",
    " - Stemming\n",
    " - Lemmatization\n",
    " - Chunking\n",
    " - Part of Speech Tagging\n",
    " - Named Entity Recognition\n",
    " - Document Classification\n",
    " "
   ]
  }
 ],
 "metadata": {
  "colab": {
   "collapsed_sections": [],
   "name": "LS_DS_421_Text_Data_Assignment.ipynb",
   "provenance": [],
   "version": "0.3.2"
  },
  "kernelspec": {
   "display_name": "Python 3",
   "language": "python",
   "name": "python3"
  },
  "language_info": {
   "codemirror_mode": {
    "name": "ipython",
    "version": 3
   },
   "file_extension": ".py",
   "mimetype": "text/x-python",
   "name": "python",
   "nbconvert_exporter": "python",
   "pygments_lexer": "ipython3",
   "version": "3.7.1"
  }
 },
 "nbformat": 4,
 "nbformat_minor": 1
}
