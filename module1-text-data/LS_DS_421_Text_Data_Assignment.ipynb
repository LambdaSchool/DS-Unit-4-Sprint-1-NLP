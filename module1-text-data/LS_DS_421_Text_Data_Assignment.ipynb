{
  "nbformat": 4,
  "nbformat_minor": 0,
  "metadata": {
    "colab": {
      "name": "Copy of LS_DS_421_Text_Data_Assignment.ipynb",
      "provenance": [],
      "collapsed_sections": []
    },
    "kernelspec": {
      "display_name": "U4-S1-NLP (Python 3)",
      "language": "python",
      "name": "u4-s1-nlp"
    },
    "language_info": {
      "codemirror_mode": {
        "name": "ipython",
        "version": 3
      },
      "file_extension": ".py",
      "mimetype": "text/x-python",
      "name": "python",
      "nbconvert_exporter": "python",
      "pygments_lexer": "ipython3",
      "version": "3.7.3"
    },
    "toc-autonumbering": false
  },
  "cells": [
    {
      "cell_type": "markdown",
      "metadata": {
        "id": "8qW7vvhsowhg",
        "colab_type": "text"
      },
      "source": [
        "<img align=\"left\" src=\"https://lever-client-logos.s3.amazonaws.com/864372b1-534c-480e-acd5-9711f850815c-1524247202159.png\" width=200>\n",
        "<br></br>\n",
        "<br></br>\n",
        "\n",
        "# Natural Language Processing (NLP)\n",
        "## *Data Science Unit 4 Sprint 1 Assignment 1*\n",
        "\n",
        "Your goal in this assignment: find the attributes of the best & worst coffee shops in the dataset. The text is fairly raw: dates in the review, extra words in the `star_rating` column, etc. You'll probably want to clean that stuff up for a better analysis. \n",
        "\n",
        "Analyze the corpus of text using text visualizations of token frequency. Try cleaning the data as much as possible. Try the following techniques: \n",
        "- Lemmatization\n",
        "- Custom stopword removal\n",
        "\n",
        "Keep in mind the attributes of good tokens. Once you have a solid baseline, layer in the star rating in your visualization(s). Key part of this assignment - produce a write-up of the attributes of the best and worst coffee shops. Based on your analysis, what makes the best the best and the worst the worst. Use graphs and numbesr from your analysis to support your conclusions. There should be plenty of markdown cells! :coffee:"
      ]
    },
    {
      "cell_type": "code",
      "metadata": {
        "id": "-WoeWmCAowhk",
        "colab_type": "code",
        "outputId": "04fb2ccb-3eb7-48b0-d2cb-eb497609bdb9",
        "colab": {
          "base_uri": "https://localhost:8080/",
          "height": 321
        }
      },
      "source": [
        "from IPython.display import YouTubeVideo\n",
        "\n",
        "YouTubeVideo('Jml7NVYm8cs')"
      ],
      "execution_count": 1,
      "outputs": [
        {
          "output_type": "execute_result",
          "data": {
            "text/html": [
              "\n",
              "        <iframe\n",
              "            width=\"400\"\n",
              "            height=\"300\"\n",
              "            src=\"https://www.youtube.com/embed/Jml7NVYm8cs\"\n",
              "            frameborder=\"0\"\n",
              "            allowfullscreen\n",
              "        ></iframe>\n",
              "        "
            ],
            "text/plain": [
              "<IPython.lib.display.YouTubeVideo at 0x7fc721afd8d0>"
            ],
            "image/jpeg": "[encoded data removed]"
          },
          "metadata": {
            "tags": []
          },
          "execution_count": 1
        }
      ]
    },
    {
      "cell_type": "code",
      "metadata": {
        "id": "f3TuV3Lgowhu",
        "colab_type": "code",
        "outputId": "525dc417-e3e3-409b-93fe-62fa079318cc",
        "colab": {
          "base_uri": "https://localhost:8080/",
          "height": 35
        }
      },
      "source": [
        "%pwd"
      ],
      "execution_count": 2,
      "outputs": [
        {
          "output_type": "execute_result",
          "data": {
            "text/plain": [
              "'/content'"
            ]
          },
          "metadata": {
            "tags": []
          },
          "execution_count": 2
        }
      ]
    },
    {
      "cell_type": "code",
      "metadata": {
        "id": "nk5WRcXmowh0",
        "colab_type": "code",
        "outputId": "db5c8963-056e-42e1-ac4a-91240b43000c",
        "colab": {
          "base_uri": "https://localhost:8080/",
          "height": 206
        }
      },
      "source": [
        "import pandas as pd\n",
        "import string\n",
        "\n",
        "url = ('https://raw.githubusercontent.com/LambdaSchool/DS-Unit-4-Sprint-1-NLP/'\n",
        "'master/module1-text-data/data/yelp_coffeeshop_review_data.csv')\n",
        "\n",
        "shops = pd.read_csv(url)\n",
        "shops.head()"
      ],
      "execution_count": 3,
      "outputs": [
        {
          "output_type": "execute_result",
          "data": {
            "text/html": [
              "<div>\n",
              "<style scoped>\n",
              "    .dataframe tbody tr th:only-of-type {\n",
              "        vertical-align: middle;\n",
              "    }\n",
              "\n",
              "    .dataframe tbody tr th {\n",
              "        vertical-align: top;\n",
              "    }\n",
              "\n",
              "    .dataframe thead th {\n",
              "        text-align: right;\n",
              "    }\n",
              "</style>\n",
              "<table border=\"1\" class=\"dataframe\">\n",
              "  <thead>\n",
              "    <tr style=\"text-align: right;\">\n",
              "      <th></th>\n",
              "      <th>coffee_shop_name</th>\n",
              "      <th>full_review_text</th>\n",
              "      <th>star_rating</th>\n",
              "    </tr>\n",
              "  </thead>\n",
              "  <tbody>\n",
              "    <tr>\n",
              "      <th>0</th>\n",
              "      <td>The Factory - Cafe With a Soul</td>\n",
              "      <td>11/25/2016 1 check-in Love love loved the atm...</td>\n",
              "      <td>5.0 star rating</td>\n",
              "    </tr>\n",
              "    <tr>\n",
              "      <th>1</th>\n",
              "      <td>The Factory - Cafe With a Soul</td>\n",
              "      <td>12/2/2016 Listed in Date Night: Austin, Ambia...</td>\n",
              "      <td>4.0 star rating</td>\n",
              "    </tr>\n",
              "    <tr>\n",
              "      <th>2</th>\n",
              "      <td>The Factory - Cafe With a Soul</td>\n",
              "      <td>11/30/2016 1 check-in Listed in Brunch Spots ...</td>\n",
              "      <td>4.0 star rating</td>\n",
              "    </tr>\n",
              "    <tr>\n",
              "      <th>3</th>\n",
              "      <td>The Factory - Cafe With a Soul</td>\n",
              "      <td>11/25/2016 Very cool decor! Good drinks Nice ...</td>\n",
              "      <td>2.0 star rating</td>\n",
              "    </tr>\n",
              "    <tr>\n",
              "      <th>4</th>\n",
              "      <td>The Factory - Cafe With a Soul</td>\n",
              "      <td>12/3/2016 1 check-in They are located within ...</td>\n",
              "      <td>4.0 star rating</td>\n",
              "    </tr>\n",
              "  </tbody>\n",
              "</table>\n",
              "</div>"
            ],
            "text/plain": [
              "                  coffee_shop_name  ...        star_rating\n",
              "0  The Factory - Cafe With a Soul   ...   5.0 star rating \n",
              "1  The Factory - Cafe With a Soul   ...   4.0 star rating \n",
              "2  The Factory - Cafe With a Soul   ...   4.0 star rating \n",
              "3  The Factory - Cafe With a Soul   ...   2.0 star rating \n",
              "4  The Factory - Cafe With a Soul   ...   4.0 star rating \n",
              "\n",
              "[5 rows x 3 columns]"
            ]
          },
          "metadata": {
            "tags": []
          },
          "execution_count": 3
        }
      ]
    },
    {
      "cell_type": "code",
      "metadata": {
        "id": "VPICzbAUowh6",
        "colab_type": "code",
        "outputId": "241c8cc5-91f3-4805-8bc1-4a8d1c765bfc",
        "colab": {
          "base_uri": "https://localhost:8080/",
          "height": 90
        }
      },
      "source": [
        "shops.dtypes"
      ],
      "execution_count": 4,
      "outputs": [
        {
          "output_type": "execute_result",
          "data": {
            "text/plain": [
              "coffee_shop_name    object\n",
              "full_review_text    object\n",
              "star_rating         object\n",
              "dtype: object"
            ]
          },
          "metadata": {
            "tags": []
          },
          "execution_count": 4
        }
      ]
    },
    {
      "cell_type": "code",
      "metadata": {
        "id": "B8m0od0cpuyR",
        "colab_type": "code",
        "colab": {}
      },
      "source": [
        "df = shops.copy()\n",
        "df['star_rating'] = shops['star_rating'].str.slice(stop=2).astype(int)"
      ],
      "execution_count": 0,
      "outputs": []
    },
    {
      "cell_type": "code",
      "metadata": {
        "id": "0lbs6_qJqMjX",
        "colab_type": "code",
        "colab": {}
      },
      "source": [
        "df[['review_date', 'full_review_text']] = shops['full_review_text'].str.split(n=1, expand=True)"
      ],
      "execution_count": 0,
      "outputs": []
    },
    {
      "cell_type": "code",
      "metadata": {
        "id": "hgSFKXmzsSO_",
        "colab_type": "code",
        "colab": {}
      },
      "source": [
        "check_ins = df['full_review_text'].str.split(pat=r' check-in[s]?', n=2, expand=True)[0]\n",
        "df['check_ins'] = check_ins * check_ins.str.isdigit()"
      ],
      "execution_count": 0,
      "outputs": []
    },
    {
      "cell_type": "code",
      "metadata": {
        "id": "PSfoAoFbuAHg",
        "colab_type": "code",
        "outputId": "614693cd-abc6-46da-ba87-b22b7c4496c7",
        "colab": {
          "base_uri": "https://localhost:8080/",
          "height": 109
        }
      },
      "source": [
        "df['check_ins'][df['check_ins']==''] = 0"
      ],
      "execution_count": 8,
      "outputs": [
        {
          "output_type": "stream",
          "text": [
            "/usr/local/lib/python3.6/dist-packages/ipykernel_launcher.py:1: SettingWithCopyWarning: \n",
            "A value is trying to be set on a copy of a slice from a DataFrame\n",
            "\n",
            "See the caveats in the documentation: http://pandas.pydata.org/pandas-docs/stable/user_guide/indexing.html#returning-a-view-versus-a-copy\n",
            "  \"\"\"Entry point for launching an IPython kernel.\n"
          ],
          "name": "stderr"
        }
      ]
    },
    {
      "cell_type": "code",
      "metadata": {
        "id": "EqwUCMB9vCkh",
        "colab_type": "code",
        "colab": {}
      },
      "source": [
        "# Convert column for number of check-ins from string to int.\n",
        "df['check_ins'] = df['check_ins'].astype(int)"
      ],
      "execution_count": 0,
      "outputs": []
    },
    {
      "cell_type": "code",
      "metadata": {
        "id": "8VQfsLmxvWto",
        "colab_type": "code",
        "colab": {}
      },
      "source": [
        "# Remove check-ins string, if any.\n",
        "df['full_review_text'] = df['full_review_text'].str.replace(r'^\\d+ check-in[s]? ', '')"
      ],
      "execution_count": 0,
      "outputs": []
    },
    {
      "cell_type": "code",
      "metadata": {
        "id": "aP2e68UHw5zA",
        "colab_type": "code",
        "colab": {}
      },
      "source": [
        "# Remove punctuation.\n",
        "df['full_review_text'] = df['full_review_text'].str.replace('[{}]'.format(string.punctuation), '')"
      ],
      "execution_count": 0,
      "outputs": []
    },
    {
      "cell_type": "code",
      "metadata": {
        "id": "kGpYPjnRjMSD",
        "colab_type": "code",
        "colab": {}
      },
      "source": [
        "# Reduce any excess whitespace to a single space per instance.\n",
        "df['full_review_text'] = df['full_review_text'].str.replace(r'\\s+', ' ')"
      ],
      "execution_count": 0,
      "outputs": []
    },
    {
      "cell_type": "code",
      "metadata": {
        "id": "n_XIBwJgndBq",
        "colab_type": "code",
        "colab": {}
      },
      "source": [
        "# Merge negations with following word.\n",
        "df['full_review_text'] = df['full_review_text'].str.replace('n\\'t ', ' not')\n",
        "df['full_review_text'] = df['full_review_text'].str.replace(' not ', ' not')"
      ],
      "execution_count": 0,
      "outputs": []
    },
    {
      "cell_type": "code",
      "metadata": {
        "id": "uXpe5qyEyNeg",
        "colab_type": "code",
        "colab": {}
      },
      "source": [
        "# Make all text lowercase.\n",
        "df['full_review_text'] = df['full_review_text'].str.lower()"
      ],
      "execution_count": 0,
      "outputs": []
    },
    {
      "cell_type": "code",
      "metadata": {
        "id": "tlxMYsCcwHt5",
        "colab_type": "code",
        "colab": {}
      },
      "source": [
        "# Differentiate between good and bad reviews.\n",
        "df['good_review'] = df['star_rating'] > 3"
      ],
      "execution_count": 0,
      "outputs": []
    },
    {
      "cell_type": "markdown",
      "metadata": {
        "id": "cITdp0sHowiD",
        "colab_type": "text"
      },
      "source": [
        "## How do we want to analyze these coffee shop tokens? \n",
        "\n",
        "- Overall Word / Token Count\n",
        "- View Counts by Rating \n",
        "- *Hint:* a 'bad' coffee shops has a rating betweeen 1 & 3 based on the distribution of ratings. A 'good' coffee shop is a 4 or 5. "
      ]
    },
    {
      "cell_type": "code",
      "metadata": {
        "id": "b2QGpFvUljAV",
        "colab_type": "code",
        "colab": {}
      },
      "source": [
        "import spacy\n",
        "from spacy.tokenizer import Tokenizer\n",
        "\n",
        "nlp = spacy.load(\"en_core_web_sm\")\n",
        "\n",
        "# Tokenizer\n",
        "tokenizer = Tokenizer(nlp.vocab)"
      ],
      "execution_count": 0,
      "outputs": []
    },
    {
      "cell_type": "code",
      "metadata": {
        "id": "bsNZuITFlkhv",
        "colab_type": "code",
        "colab": {}
      },
      "source": [
        "# Tokenizer Pipe\n",
        "\n",
        "tokens = []\n",
        "\n",
        "\"\"\" Update those tokens w/o stopwords\"\"\"\n",
        "for doc in tokenizer.pipe(df['full_review_text'], batch_size=500):\n",
        "    \n",
        "    doc_tokens = []\n",
        "    \n",
        "    for token in doc:\n",
        "        if (token.is_stop == False) & (token.is_punct == False):\n",
        "            doc_tokens.append(token.lemma_)\n",
        "\n",
        "    tokens.append(doc_tokens)\n",
        "\n",
        "df['tokens'] = tokens"
      ],
      "execution_count": 0,
      "outputs": []
    },
    {
      "cell_type": "code",
      "metadata": {
        "id": "4np0tAMimWo2",
        "colab_type": "code",
        "colab": {
          "base_uri": "https://localhost:8080/",
          "height": 293
        },
        "outputId": "54f61929-cde6-48e9-cbdb-d03d61a67ae1"
      },
      "source": [
        "df.head()"
      ],
      "execution_count": 18,
      "outputs": [
        {
          "output_type": "execute_result",
          "data": {
            "text/html": [
              "<div>\n",
              "<style scoped>\n",
              "    .dataframe tbody tr th:only-of-type {\n",
              "        vertical-align: middle;\n",
              "    }\n",
              "\n",
              "    .dataframe tbody tr th {\n",
              "        vertical-align: top;\n",
              "    }\n",
              "\n",
              "    .dataframe thead th {\n",
              "        text-align: right;\n",
              "    }\n",
              "</style>\n",
              "<table border=\"1\" class=\"dataframe\">\n",
              "  <thead>\n",
              "    <tr style=\"text-align: right;\">\n",
              "      <th></th>\n",
              "      <th>coffee_shop_name</th>\n",
              "      <th>full_review_text</th>\n",
              "      <th>star_rating</th>\n",
              "      <th>review_date</th>\n",
              "      <th>check_ins</th>\n",
              "      <th>good_review</th>\n",
              "      <th>tokens</th>\n",
              "    </tr>\n",
              "  </thead>\n",
              "  <tbody>\n",
              "    <tr>\n",
              "      <th>0</th>\n",
              "      <td>The Factory - Cafe With a Soul</td>\n",
              "      <td>love love loved the atmosphere every corner of...</td>\n",
              "      <td>5</td>\n",
              "      <td>11/25/2016</td>\n",
              "      <td>1</td>\n",
              "      <td>True</td>\n",
              "      <td>[love, love, love, atmosphere, corner, coffee,...</td>\n",
              "    </tr>\n",
              "    <tr>\n",
              "      <th>1</th>\n",
              "      <td>The Factory - Cafe With a Soul</td>\n",
              "      <td>listed in date night austin ambiance in austin...</td>\n",
              "      <td>4</td>\n",
              "      <td>12/2/2016</td>\n",
              "      <td>0</td>\n",
              "      <td>True</td>\n",
              "      <td>[list, date, night, austin, ambiance, austin, ...</td>\n",
              "    </tr>\n",
              "    <tr>\n",
              "      <th>2</th>\n",
              "      <td>The Factory - Cafe With a Soul</td>\n",
              "      <td>listed in brunch spots i loved the eclectic an...</td>\n",
              "      <td>4</td>\n",
              "      <td>11/30/2016</td>\n",
              "      <td>1</td>\n",
              "      <td>True</td>\n",
              "      <td>[list, brunch, spot, love, eclectic, homey, pl...</td>\n",
              "    </tr>\n",
              "    <tr>\n",
              "      <th>3</th>\n",
              "      <td>The Factory - Cafe With a Soul</td>\n",
              "      <td>very cool decor good drinks nice seating howev...</td>\n",
              "      <td>2</td>\n",
              "      <td>11/25/2016</td>\n",
              "      <td>0</td>\n",
              "      <td>False</td>\n",
              "      <td>[cool, decor, good, drink, nice, seat, overpri...</td>\n",
              "    </tr>\n",
              "    <tr>\n",
              "      <th>4</th>\n",
              "      <td>The Factory - Cafe With a Soul</td>\n",
              "      <td>they are located within the northcross mall sh...</td>\n",
              "      <td>4</td>\n",
              "      <td>12/3/2016</td>\n",
              "      <td>1</td>\n",
              "      <td>True</td>\n",
              "      <td>[locate, northcross, mall, shop, center, face,...</td>\n",
              "    </tr>\n",
              "  </tbody>\n",
              "</table>\n",
              "</div>"
            ],
            "text/plain": [
              "                  coffee_shop_name  ...                                             tokens\n",
              "0  The Factory - Cafe With a Soul   ...  [love, love, love, atmosphere, corner, coffee,...\n",
              "1  The Factory - Cafe With a Soul   ...  [list, date, night, austin, ambiance, austin, ...\n",
              "2  The Factory - Cafe With a Soul   ...  [list, brunch, spot, love, eclectic, homey, pl...\n",
              "3  The Factory - Cafe With a Soul   ...  [cool, decor, good, drink, nice, seat, overpri...\n",
              "4  The Factory - Cafe With a Soul   ...  [locate, northcross, mall, shop, center, face,...\n",
              "\n",
              "[5 rows x 7 columns]"
            ]
          },
          "metadata": {
            "tags": []
          },
          "execution_count": 18
        }
      ]
    },
    {
      "cell_type": "code",
      "metadata": {
        "id": "5DrYdMf_kjMF",
        "colab_type": "code",
        "colab": {}
      },
      "source": [
        "from collections import Counter\n",
        "\n",
        "def count(docs):\n",
        "\n",
        "        word_counts = Counter()\n",
        "        appears_in = Counter()\n",
        "        \n",
        "        total_docs = len(docs)\n",
        "\n",
        "        for doc in docs:\n",
        "            word_counts.update(doc)\n",
        "            appears_in.update(set(doc))\n",
        "\n",
        "        temp = zip(word_counts.keys(), word_counts.values())\n",
        "        \n",
        "        wc = pd.DataFrame(temp, columns = ['word', 'count'])\n",
        "\n",
        "        wc['rank'] = wc['count'].rank(method='first', ascending=False)\n",
        "        total = wc['count'].sum()\n",
        "\n",
        "        wc['pct_total'] = wc['count'].apply(lambda x: x / total)\n",
        "        \n",
        "        wc = wc.sort_values(by='rank')\n",
        "        wc['cul_pct_total'] = wc['pct_total'].cumsum()\n",
        "\n",
        "        t2 = zip(appears_in.keys(), appears_in.values())\n",
        "        ac = pd.DataFrame(t2, columns=['word', 'appears_in'])\n",
        "        wc = ac.merge(wc, on='word')\n",
        "\n",
        "        wc['appears_in_pct'] = wc['appears_in'].apply(lambda x: x / total_docs)\n",
        "        \n",
        "        return wc.sort_values(by='rank')"
      ],
      "execution_count": 0,
      "outputs": []
    },
    {
      "cell_type": "code",
      "metadata": {
        "id": "UXRnhWYfyiri",
        "colab_type": "code",
        "colab": {}
      },
      "source": [
        "good_wc = count(df['tokens'][df['good_review']])"
      ],
      "execution_count": 0,
      "outputs": []
    },
    {
      "cell_type": "code",
      "metadata": {
        "id": "9MnlzUPKyuQY",
        "colab_type": "code",
        "colab": {
          "base_uri": "https://localhost:8080/",
          "height": 363
        },
        "outputId": "fc58723e-9e9f-4c6b-a955-f4af1e1e6b97"
      },
      "source": [
        "good_wc.head(10)"
      ],
      "execution_count": 21,
      "outputs": [
        {
          "output_type": "execute_result",
          "data": {
            "text/html": [
              "<div>\n",
              "<style scoped>\n",
              "    .dataframe tbody tr th:only-of-type {\n",
              "        vertical-align: middle;\n",
              "    }\n",
              "\n",
              "    .dataframe tbody tr th {\n",
              "        vertical-align: top;\n",
              "    }\n",
              "\n",
              "    .dataframe thead th {\n",
              "        text-align: right;\n",
              "    }\n",
              "</style>\n",
              "<table border=\"1\" class=\"dataframe\">\n",
              "  <thead>\n",
              "    <tr style=\"text-align: right;\">\n",
              "      <th></th>\n",
              "      <th>word</th>\n",
              "      <th>appears_in</th>\n",
              "      <th>count</th>\n",
              "      <th>rank</th>\n",
              "      <th>pct_total</th>\n",
              "      <th>cul_pct_total</th>\n",
              "      <th>appears_in_pct</th>\n",
              "    </tr>\n",
              "  </thead>\n",
              "  <tbody>\n",
              "    <tr>\n",
              "      <th>32</th>\n",
              "      <td>coffee</td>\n",
              "      <td>3976</td>\n",
              "      <td>8417</td>\n",
              "      <td>1.0</td>\n",
              "      <td>0.029669</td>\n",
              "      <td>0.029669</td>\n",
              "      <td>0.647557</td>\n",
              "    </tr>\n",
              "    <tr>\n",
              "      <th>113</th>\n",
              "      <td>place</td>\n",
              "      <td>3133</td>\n",
              "      <td>4816</td>\n",
              "      <td>2.0</td>\n",
              "      <td>0.016976</td>\n",
              "      <td>0.046645</td>\n",
              "      <td>0.510261</td>\n",
              "    </tr>\n",
              "    <tr>\n",
              "      <th>77</th>\n",
              "      <td>great</td>\n",
              "      <td>2498</td>\n",
              "      <td>3455</td>\n",
              "      <td>3.0</td>\n",
              "      <td>0.012179</td>\n",
              "      <td>0.058824</td>\n",
              "      <td>0.406840</td>\n",
              "    </tr>\n",
              "    <tr>\n",
              "      <th>171</th>\n",
              "      <td>good</td>\n",
              "      <td>2278</td>\n",
              "      <td>3237</td>\n",
              "      <td>4.0</td>\n",
              "      <td>0.011410</td>\n",
              "      <td>0.070234</td>\n",
              "      <td>0.371010</td>\n",
              "    </tr>\n",
              "    <tr>\n",
              "      <th>172</th>\n",
              "      <td>like</td>\n",
              "      <td>1665</td>\n",
              "      <td>2401</td>\n",
              "      <td>5.0</td>\n",
              "      <td>0.008463</td>\n",
              "      <td>0.078698</td>\n",
              "      <td>0.271173</td>\n",
              "    </tr>\n",
              "    <tr>\n",
              "      <th>8</th>\n",
              "      <td>love</td>\n",
              "      <td>1606</td>\n",
              "      <td>2118</td>\n",
              "      <td>6.0</td>\n",
              "      <td>0.007466</td>\n",
              "      <td>0.086164</td>\n",
              "      <td>0.261564</td>\n",
              "    </tr>\n",
              "    <tr>\n",
              "      <th>383</th>\n",
              "      <td>come</td>\n",
              "      <td>1480</td>\n",
              "      <td>1977</td>\n",
              "      <td>7.0</td>\n",
              "      <td>0.006969</td>\n",
              "      <td>0.093132</td>\n",
              "      <td>0.241042</td>\n",
              "    </tr>\n",
              "    <tr>\n",
              "      <th>49</th>\n",
              "      <td>austin</td>\n",
              "      <td>1547</td>\n",
              "      <td>1969</td>\n",
              "      <td>8.0</td>\n",
              "      <td>0.006941</td>\n",
              "      <td>0.100073</td>\n",
              "      <td>0.251954</td>\n",
              "    </tr>\n",
              "    <tr>\n",
              "      <th>28</th>\n",
              "      <td>shop</td>\n",
              "      <td>1354</td>\n",
              "      <td>1820</td>\n",
              "      <td>9.0</td>\n",
              "      <td>0.006415</td>\n",
              "      <td>0.106488</td>\n",
              "      <td>0.220521</td>\n",
              "    </tr>\n",
              "    <tr>\n",
              "      <th>364</th>\n",
              "      <td>time</td>\n",
              "      <td>1331</td>\n",
              "      <td>1766</td>\n",
              "      <td>10.0</td>\n",
              "      <td>0.006225</td>\n",
              "      <td>0.112713</td>\n",
              "      <td>0.216775</td>\n",
              "    </tr>\n",
              "  </tbody>\n",
              "</table>\n",
              "</div>"
            ],
            "text/plain": [
              "       word  appears_in  count  rank  pct_total  cul_pct_total  appears_in_pct\n",
              "32   coffee        3976   8417   1.0   0.029669       0.029669        0.647557\n",
              "113   place        3133   4816   2.0   0.016976       0.046645        0.510261\n",
              "77    great        2498   3455   3.0   0.012179       0.058824        0.406840\n",
              "171    good        2278   3237   4.0   0.011410       0.070234        0.371010\n",
              "172    like        1665   2401   5.0   0.008463       0.078698        0.271173\n",
              "8      love        1606   2118   6.0   0.007466       0.086164        0.261564\n",
              "383    come        1480   1977   7.0   0.006969       0.093132        0.241042\n",
              "49   austin        1547   1969   8.0   0.006941       0.100073        0.251954\n",
              "28     shop        1354   1820   9.0   0.006415       0.106488        0.220521\n",
              "364    time        1331   1766  10.0   0.006225       0.112713        0.216775"
            ]
          },
          "metadata": {
            "tags": []
          },
          "execution_count": 21
        }
      ]
    },
    {
      "cell_type": "code",
      "metadata": {
        "id": "DLs3EarDzDdR",
        "colab_type": "code",
        "colab": {}
      },
      "source": [
        "bad_wc = count(df['tokens'][~df['good_review']])"
      ],
      "execution_count": 0,
      "outputs": []
    },
    {
      "cell_type": "code",
      "metadata": {
        "id": "Eb850ET4zVmy",
        "colab_type": "code",
        "colab": {
          "base_uri": "https://localhost:8080/",
          "height": 363
        },
        "outputId": "d5651ff0-702a-46e1-e1b2-df5d85b352df"
      },
      "source": [
        "bad_wc.head(10)"
      ],
      "execution_count": 23,
      "outputs": [
        {
          "output_type": "execute_result",
          "data": {
            "text/html": [
              "<div>\n",
              "<style scoped>\n",
              "    .dataframe tbody tr th:only-of-type {\n",
              "        vertical-align: middle;\n",
              "    }\n",
              "\n",
              "    .dataframe tbody tr th {\n",
              "        vertical-align: top;\n",
              "    }\n",
              "\n",
              "    .dataframe thead th {\n",
              "        text-align: right;\n",
              "    }\n",
              "</style>\n",
              "<table border=\"1\" class=\"dataframe\">\n",
              "  <thead>\n",
              "    <tr style=\"text-align: right;\">\n",
              "      <th></th>\n",
              "      <th>word</th>\n",
              "      <th>appears_in</th>\n",
              "      <th>count</th>\n",
              "      <th>rank</th>\n",
              "      <th>pct_total</th>\n",
              "      <th>cul_pct_total</th>\n",
              "      <th>appears_in_pct</th>\n",
              "    </tr>\n",
              "  </thead>\n",
              "  <tbody>\n",
              "    <tr>\n",
              "      <th>32</th>\n",
              "      <td>coffee</td>\n",
              "      <td>948</td>\n",
              "      <td>2170</td>\n",
              "      <td>1.0</td>\n",
              "      <td>0.026793</td>\n",
              "      <td>0.026793</td>\n",
              "      <td>0.642276</td>\n",
              "    </tr>\n",
              "    <tr>\n",
              "      <th>0</th>\n",
              "      <td>place</td>\n",
              "      <td>755</td>\n",
              "      <td>1228</td>\n",
              "      <td>2.0</td>\n",
              "      <td>0.015162</td>\n",
              "      <td>0.041955</td>\n",
              "      <td>0.511518</td>\n",
              "    </tr>\n",
              "    <tr>\n",
              "      <th>7</th>\n",
              "      <td>like</td>\n",
              "      <td>591</td>\n",
              "      <td>933</td>\n",
              "      <td>3.0</td>\n",
              "      <td>0.011520</td>\n",
              "      <td>0.053475</td>\n",
              "      <td>0.400407</td>\n",
              "    </tr>\n",
              "    <tr>\n",
              "      <th>5</th>\n",
              "      <td>good</td>\n",
              "      <td>591</td>\n",
              "      <td>887</td>\n",
              "      <td>4.0</td>\n",
              "      <td>0.010952</td>\n",
              "      <td>0.064427</td>\n",
              "      <td>0.400407</td>\n",
              "    </tr>\n",
              "    <tr>\n",
              "      <th>89</th>\n",
              "      <td>order</td>\n",
              "      <td>442</td>\n",
              "      <td>778</td>\n",
              "      <td>5.0</td>\n",
              "      <td>0.009606</td>\n",
              "      <td>0.074033</td>\n",
              "      <td>0.299458</td>\n",
              "    </tr>\n",
              "    <tr>\n",
              "      <th>92</th>\n",
              "      <td>come</td>\n",
              "      <td>450</td>\n",
              "      <td>641</td>\n",
              "      <td>6.0</td>\n",
              "      <td>0.007914</td>\n",
              "      <td>0.081947</td>\n",
              "      <td>0.304878</td>\n",
              "    </tr>\n",
              "    <tr>\n",
              "      <th>206</th>\n",
              "      <td>time</td>\n",
              "      <td>422</td>\n",
              "      <td>614</td>\n",
              "      <td>7.0</td>\n",
              "      <td>0.007581</td>\n",
              "      <td>0.089528</td>\n",
              "      <td>0.285908</td>\n",
              "    </tr>\n",
              "    <tr>\n",
              "      <th>34</th>\n",
              "      <td>drink</td>\n",
              "      <td>365</td>\n",
              "      <td>613</td>\n",
              "      <td>8.0</td>\n",
              "      <td>0.007569</td>\n",
              "      <td>0.097097</td>\n",
              "      <td>0.247290</td>\n",
              "    </tr>\n",
              "    <tr>\n",
              "      <th>88</th>\n",
              "      <td>food</td>\n",
              "      <td>316</td>\n",
              "      <td>494</td>\n",
              "      <td>9.0</td>\n",
              "      <td>0.006099</td>\n",
              "      <td>0.103197</td>\n",
              "      <td>0.214092</td>\n",
              "    </tr>\n",
              "    <tr>\n",
              "      <th>75</th>\n",
              "      <td>great</td>\n",
              "      <td>336</td>\n",
              "      <td>455</td>\n",
              "      <td>10.0</td>\n",
              "      <td>0.005618</td>\n",
              "      <td>0.108815</td>\n",
              "      <td>0.227642</td>\n",
              "    </tr>\n",
              "  </tbody>\n",
              "</table>\n",
              "</div>"
            ],
            "text/plain": [
              "       word  appears_in  count  rank  pct_total  cul_pct_total  appears_in_pct\n",
              "32   coffee         948   2170   1.0   0.026793       0.026793        0.642276\n",
              "0     place         755   1228   2.0   0.015162       0.041955        0.511518\n",
              "7      like         591    933   3.0   0.011520       0.053475        0.400407\n",
              "5      good         591    887   4.0   0.010952       0.064427        0.400407\n",
              "89    order         442    778   5.0   0.009606       0.074033        0.299458\n",
              "92     come         450    641   6.0   0.007914       0.081947        0.304878\n",
              "206    time         422    614   7.0   0.007581       0.089528        0.285908\n",
              "34    drink         365    613   8.0   0.007569       0.097097        0.247290\n",
              "88     food         316    494   9.0   0.006099       0.103197        0.214092\n",
              "75    great         336    455  10.0   0.005618       0.108815        0.227642"
            ]
          },
          "metadata": {
            "tags": []
          },
          "execution_count": 23
        }
      ]
    },
    {
      "cell_type": "markdown",
      "metadata": {
        "id": "h4mPJ5PMowiI",
        "colab_type": "text"
      },
      "source": [
        "## Can visualize the words with the greatest difference in counts between 'good' & 'bad'?\n",
        "\n",
        "Couple Notes: \n",
        "- Rel. freq. instead of absolute counts b/c of different numbers of reviews\n",
        "- Only look at the top 5-10 words with the greatest differences\n"
      ]
    },
    {
      "cell_type": "code",
      "metadata": {
        "id": "g8WpvIEFowiK",
        "colab_type": "code",
        "colab": {}
      },
      "source": [
        "comp = pd.merge(good_wc[['word', 'appears_in_pct']], bad_wc[['word', 'appears_in_pct']], how='outer', on='word', suffixes = ('_good', '_bad'))"
      ],
      "execution_count": 0,
      "outputs": []
    },
    {
      "cell_type": "code",
      "metadata": {
        "id": "0ea42z1hk5xR",
        "colab_type": "code",
        "colab": {
          "base_uri": "https://localhost:8080/",
          "height": 424
        },
        "outputId": "587284d3-f2f2-4020-f12d-a7188cbbe9a6"
      },
      "source": [
        "comp.fillna(0)"
      ],
      "execution_count": 25,
      "outputs": [
        {
          "output_type": "execute_result",
          "data": {
            "text/html": [
              "<div>\n",
              "<style scoped>\n",
              "    .dataframe tbody tr th:only-of-type {\n",
              "        vertical-align: middle;\n",
              "    }\n",
              "\n",
              "    .dataframe tbody tr th {\n",
              "        vertical-align: top;\n",
              "    }\n",
              "\n",
              "    .dataframe thead th {\n",
              "        text-align: right;\n",
              "    }\n",
              "</style>\n",
              "<table border=\"1\" class=\"dataframe\">\n",
              "  <thead>\n",
              "    <tr style=\"text-align: right;\">\n",
              "      <th></th>\n",
              "      <th>word</th>\n",
              "      <th>appears_in_pct_good</th>\n",
              "      <th>appears_in_pct_bad</th>\n",
              "    </tr>\n",
              "  </thead>\n",
              "  <tbody>\n",
              "    <tr>\n",
              "      <th>0</th>\n",
              "      <td>coffee</td>\n",
              "      <td>0.647557</td>\n",
              "      <td>0.642276</td>\n",
              "    </tr>\n",
              "    <tr>\n",
              "      <th>1</th>\n",
              "      <td>place</td>\n",
              "      <td>0.510261</td>\n",
              "      <td>0.511518</td>\n",
              "    </tr>\n",
              "    <tr>\n",
              "      <th>2</th>\n",
              "      <td>great</td>\n",
              "      <td>0.406840</td>\n",
              "      <td>0.227642</td>\n",
              "    </tr>\n",
              "    <tr>\n",
              "      <th>3</th>\n",
              "      <td>good</td>\n",
              "      <td>0.371010</td>\n",
              "      <td>0.400407</td>\n",
              "    </tr>\n",
              "    <tr>\n",
              "      <th>4</th>\n",
              "      <td>like</td>\n",
              "      <td>0.271173</td>\n",
              "      <td>0.400407</td>\n",
              "    </tr>\n",
              "    <tr>\n",
              "      <th>...</th>\n",
              "      <td>...</td>\n",
              "      <td>...</td>\n",
              "      <td>...</td>\n",
              "    </tr>\n",
              "    <tr>\n",
              "      <th>16908</th>\n",
              "      <td>veganhealthy</td>\n",
              "      <td>0.000000</td>\n",
              "      <td>0.000678</td>\n",
              "    </tr>\n",
              "    <tr>\n",
              "      <th>16909</th>\n",
              "      <td>overlyoily</td>\n",
              "      <td>0.000000</td>\n",
              "      <td>0.000678</td>\n",
              "    </tr>\n",
              "    <tr>\n",
              "      <th>16910</th>\n",
              "      <td>ravi</td>\n",
              "      <td>0.000000</td>\n",
              "      <td>0.000678</td>\n",
              "    </tr>\n",
              "    <tr>\n",
              "      <th>16911</th>\n",
              "      <td>uneventful</td>\n",
              "      <td>0.000000</td>\n",
              "      <td>0.000678</td>\n",
              "    </tr>\n",
              "    <tr>\n",
              "      <th>16912</th>\n",
              "      <td>prebought</td>\n",
              "      <td>0.000000</td>\n",
              "      <td>0.000678</td>\n",
              "    </tr>\n",
              "  </tbody>\n",
              "</table>\n",
              "<p>16913 rows × 3 columns</p>\n",
              "</div>"
            ],
            "text/plain": [
              "               word  appears_in_pct_good  appears_in_pct_bad\n",
              "0            coffee             0.647557            0.642276\n",
              "1             place             0.510261            0.511518\n",
              "2             great             0.406840            0.227642\n",
              "3              good             0.371010            0.400407\n",
              "4              like             0.271173            0.400407\n",
              "...             ...                  ...                 ...\n",
              "16908  veganhealthy             0.000000            0.000678\n",
              "16909    overlyoily             0.000000            0.000678\n",
              "16910          ravi             0.000000            0.000678\n",
              "16911    uneventful             0.000000            0.000678\n",
              "16912     prebought             0.000000            0.000678\n",
              "\n",
              "[16913 rows x 3 columns]"
            ]
          },
          "metadata": {
            "tags": []
          },
          "execution_count": 25
        }
      ]
    },
    {
      "cell_type": "code",
      "metadata": {
        "id": "RNd3ga2XlFAx",
        "colab_type": "code",
        "colab": {}
      },
      "source": [
        "comp['diff'] = abs(comp['appears_in_pct_good'] - comp['appears_in_pct_bad'])"
      ],
      "execution_count": 0,
      "outputs": []
    },
    {
      "cell_type": "code",
      "metadata": {
        "id": "wSxz9zaLlOVY",
        "colab_type": "code",
        "colab": {
          "base_uri": "https://localhost:8080/",
          "height": 314
        },
        "outputId": "328fe564-7ecf-4cd0-9c0f-f69c0d9236a1"
      },
      "source": [
        "top_10 = comp.sort_values(by='diff', ascending=False).head(10)\n",
        "top_10.sort_values(by='appears_in_pct_good',\n",
        "                   ascending=False).plot.bar(x='word',\n",
        "                                             y=['appears_in_pct_good',\n",
        "                                                'appears_in_pct_bad']);"
      ],
      "execution_count": 27,
      "outputs": [
        {
          "output_type": "display_data",
          "data": {
            "image/png": "[encoded data removed]",
            "text/plain": [
              "<Figure size 432x288 with 1 Axes>"
            ]
          },
          "metadata": {
            "tags": []
          }
        }
      ]
    },
    {
      "cell_type": "code",
      "metadata": {
        "id": "mCXH0y_no2b7",
        "colab_type": "code",
        "colab": {}
      },
      "source": [
        "five_star_wc = count(df['tokens'][df['star_rating']==5])"
      ],
      "execution_count": 0,
      "outputs": []
    },
    {
      "cell_type": "code",
      "metadata": {
        "id": "6bTDU2Vxo_Gz",
        "colab_type": "code",
        "colab": {}
      },
      "source": [
        "one_star_wc = count(df['tokens'][df['star_rating']==1])"
      ],
      "execution_count": 0,
      "outputs": []
    },
    {
      "cell_type": "code",
      "metadata": {
        "id": "x1UsYdcdpGT6",
        "colab_type": "code",
        "colab": {}
      },
      "source": [
        "comp2 = pd.merge(five_star_wc[['word', 'appears_in_pct']],\n",
        "                 one_star_wc[['word', 'appears_in_pct']],\n",
        "                 how='outer',\n",
        "                 on='word',\n",
        "                 suffixes = ('_5_star', '_1_star'))"
      ],
      "execution_count": 0,
      "outputs": []
    },
    {
      "cell_type": "code",
      "metadata": {
        "id": "wStRm_6VpXWy",
        "colab_type": "code",
        "colab": {}
      },
      "source": [
        "comp2['diff'] = abs(comp2['appears_in_pct_5_star'] - comp2['appears_in_pct_1_star'])"
      ],
      "execution_count": 0,
      "outputs": []
    },
    {
      "cell_type": "code",
      "metadata": {
        "id": "Q_kpKJMjpfNj",
        "colab_type": "code",
        "colab": {
          "base_uri": "https://localhost:8080/",
          "height": 316
        },
        "outputId": "bd600443-5232-4918-f52e-de5624352a56"
      },
      "source": [
        "top_10 = comp2.sort_values(by='diff', ascending=False).head(10)\n",
        "top_10.sort_values(by='appears_in_pct_5_star',\n",
        "                   ascending=False).plot.bar(x='word',\n",
        "                                             y=['appears_in_pct_5_star',\n",
        "                                                'appears_in_pct_1_star']);"
      ],
      "execution_count": 32,
      "outputs": [
        {
          "output_type": "display_data",
          "data": {
            "image/png": "[encoded data removed]",
            "text/plain": [
              "<Figure size 432x288 with 1 Axes>"
            ]
          },
          "metadata": {
            "tags": []
          }
        }
      ]
    },
    {
      "cell_type": "markdown",
      "metadata": {
        "colab_type": "text",
        "id": "1dCb1q8XphcP",
        "toc-hr-collapsed": true
      },
      "source": [
        "## Stretch Goals\n",
        "\n",
        "* Analyze another corpus of documents - such as Indeed.com job listings ;).\n",
        "* Play with the Spacy API to\n",
        " - Extract Named Entities\n",
        " - Extracting 'noun chunks'\n",
        " - Attempt Document Classification with just Spacy\n",
        " - *Note:* This [course](https://course.spacy.io/) will be of interesting in helping you with these stretch goals. \n",
        "* Try to build a plotly dash app with your text data \n",
        "\n"
      ]
    }
  ]
}