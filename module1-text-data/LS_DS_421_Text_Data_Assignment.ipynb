{
  "nbformat": 4,
  "nbformat_minor": 0,
  "metadata": {
    "colab": {
      "name": "LS_DS_421_Text_Data_Assignment.ipynb",
      "version": "0.3.2",
      "provenance": [],
      "collapsed_sections": [],
      "include_colab_link": true
    },
    "kernelspec": {
      "name": "python3",
      "display_name": "Python 3"
    }
  },
  "cells": [
    {
      "cell_type": "markdown",
      "metadata": {
        "id": "view-in-github",
        "colab_type": "text"
      },
      "source": [
        "<a href=\"https://colab.research.google.com/github/ShreyasJothish/DS-Unit-4-Sprint-2-NLP/blob/master/module1-text-data/LS_DS_421_Text_Data_Assignment.ipynb\" target=\"_parent\"><img src=\"https://colab.research.google.com/assets/colab-badge.svg\" alt=\"Open In Colab\"/></a>"
      ]
    },
    {
      "metadata": {
        "id": "qGUBe2FXilzx",
        "colab_type": "text"
      },
      "cell_type": "markdown",
      "source": [
        "# 1) String Basics"
      ]
    },
    {
      "metadata": {
        "id": "UwLjaXPCqACb",
        "colab_type": "text"
      },
      "cell_type": "markdown",
      "source": [
        "## 1.1 Count Characters\n",
        "\n",
        "Write a function to count the character frequency of any string, and return the counts as a dictionary.\n",
        "\n",
        "\"google.com\" -> {'o': 3, 'g': 2, '.': 1, 'e': 1, 'l': 1, 'm': 1, 'c': 1}"
      ]
    },
    {
      "metadata": {
        "id": "s0Oru3zyyM9p",
        "colab_type": "code",
        "colab": {}
      },
      "cell_type": "code",
      "source": [
        "def character_frequency(input):\n",
        "  \n",
        "  output = {}\n",
        "  \n",
        "  for ch in input:\n",
        "    if ch in output:\n",
        "      count = output[ch]\n",
        "      count += 1\n",
        "      output[ch] = count\n",
        "    else:\n",
        "      output[ch] = 1\n",
        "\n",
        "  return output"
      ],
      "execution_count": 0,
      "outputs": []
    },
    {
      "metadata": {
        "id": "zZShXXZk1y5C",
        "colab_type": "code",
        "colab": {
          "base_uri": "https://localhost:8080/",
          "height": 52
        },
        "outputId": "e8da1541-b492-4335-d678-2fe1bcae7540"
      },
      "cell_type": "code",
      "source": [
        "print(f\"character frequency in google.com is \"\\\n",
        "      f\"{character_frequency('google.com')}\")\n",
        "\n",
        "print(f\"character frequency in Shreyas is \"\\\n",
        "      f\"{character_frequency('Shreyas')}\")"
      ],
      "execution_count": 2,
      "outputs": [
        {
          "output_type": "stream",
          "text": [
            "character frequency in google.com is {'g': 2, 'o': 3, 'l': 1, 'e': 1, '.': 1, 'c': 1, 'm': 1}\n",
            "character frequency in Shreyas is {'S': 1, 'h': 1, 'r': 1, 'e': 1, 'y': 1, 'a': 1, 's': 1}\n"
          ],
          "name": "stdout"
        }
      ]
    },
    {
      "metadata": {
        "id": "mq2yhAciqH6w",
        "colab_type": "text"
      },
      "cell_type": "markdown",
      "source": [
        "## 1.2 Replace Characters\n",
        "\n",
        "Write a function that takes in two parameters: 1) a string of text and 2) individual character. This function should return a new string of text where any of the specified character has been replaced with dollar signs: `$` "
      ]
    },
    {
      "metadata": {
        "id": "FqyD84lU1RM3",
        "colab_type": "code",
        "colab": {}
      },
      "cell_type": "code",
      "source": [
        "def replace_characters(input_string, replace_char):\n",
        "  return input_string.replace(replace_char, '$')"
      ],
      "execution_count": 0,
      "outputs": []
    },
    {
      "metadata": {
        "id": "nZijGlv212P2",
        "colab_type": "code",
        "colab": {
          "base_uri": "https://localhost:8080/",
          "height": 35
        },
        "outputId": "49eb8a47-1516-446b-deb3-e711dee5bdf8"
      },
      "cell_type": "code",
      "source": [
        "print(f\"replace o with $ in google.com is \"\\\n",
        "      f\"{replace_characters('google.com', 'o')}\")"
      ],
      "execution_count": 4,
      "outputs": [
        {
          "output_type": "stream",
          "text": [
            "replace o with $ in google.com is g$$gle.c$m\n"
          ],
          "name": "stdout"
        }
      ]
    },
    {
      "metadata": {
        "id": "v8iy3BKuq--f",
        "colab_type": "text"
      },
      "cell_type": "markdown",
      "source": [
        "## 1.3 Slice Suffixes\n",
        "\n",
        "Write a function that removes common suffixes from the ends of words. As a minimum this function should remove the suffixes: \"ed\",  \"ing\", \"es\", \"tion\", \"ly\"\n",
        "\n",
        "\"The daring fox leaped through the air gracefully, his eyes fixated on the capitulation of his prey.\" -> \n",
        "\n",
        "\"The dar fox leap through the air graceful, his ey fixat on the capitula of his prey.\""
      ]
    },
    {
      "metadata": {
        "id": "r8DRzhjE2o1r",
        "colab_type": "code",
        "colab": {}
      },
      "cell_type": "code",
      "source": [
        "def slice_suffixes(input_string):\n",
        "  suffix_list = [\"ed\", \"ing\", \"es\", \"tion\", \"ly\"]\n",
        "  output = \"\"\n",
        "  word_list = input_string.split()\n",
        "  #print(word_list)\n",
        "  \n",
        "  for word in word_list:\n",
        "    #print(f'word {word}')\n",
        "    \n",
        "    split_word = word.partition(',')\n",
        "    partition = \"\"\n",
        "    if len(split_word) != 1:\n",
        "      word = split_word[0]\n",
        "      partition = split_word[1]\n",
        "      \n",
        "    for suffix in suffix_list:\n",
        "      #print(f'suffix {suffix}')\n",
        "      \n",
        "      suffix_len = len(suffix)\n",
        "      if word[-suffix_len:] == suffix:\n",
        "        #print(f'copying {word[:suffix_len]} to output')\n",
        "        if len(partition) != 0:\n",
        "          output += word[:-suffix_len] + partition + \" \"\n",
        "        else:\n",
        "          output += word[:-suffix_len] + \" \"\n",
        "        \n",
        "        break\n",
        "        \n",
        "      if suffix == 'ly':\n",
        "        #print(f'copying {word} to output')\n",
        "        if len(partition) != 0:\n",
        "          output += word + partition + \" \"\n",
        "        else:\n",
        "          output += word + \" \"\n",
        "    \n",
        "  return output.strip()"
      ],
      "execution_count": 0,
      "outputs": []
    },
    {
      "metadata": {
        "id": "laQjSLNf3P8B",
        "colab_type": "code",
        "colab": {
          "base_uri": "https://localhost:8080/",
          "height": 52
        },
        "outputId": "ed039bde-739d-43b0-9122-b4b8c514ce74"
      },
      "cell_type": "code",
      "source": [
        "input_string = \"The daring fox leaped through the air gracefully, his eyes fixated on the capitulation of his prey.\"\n",
        "print(input_string)\n",
        "print(slice_suffixes(input_string))"
      ],
      "execution_count": 6,
      "outputs": [
        {
          "output_type": "stream",
          "text": [
            "The daring fox leaped through the air gracefully, his eyes fixated on the capitulation of his prey.\n",
            "The dar fox leap through the air graceful, his ey fixat on the capitula of his prey.\n"
          ],
          "name": "stdout"
        }
      ]
    },
    {
      "metadata": {
        "id": "hAAJTIN_trH3",
        "colab_type": "text"
      },
      "cell_type": "markdown",
      "source": [
        "## 1.4 Remove Stopwords\n",
        "\n",
        "Write a function that removes common \"stopwords\" from text. "
      ]
    },
    {
      "metadata": {
        "id": "QbHQkte9t_gK",
        "colab_type": "code",
        "colab": {}
      },
      "cell_type": "code",
      "source": [
        "stopwords = ['i','me','my','myself','we''our','ours','ourselves',\n",
        "'you','your','yours','yourself','yourselves','he','him','his','himself',\n",
        "'she','her','hers','herself','it','its','itself','they','them','their',\n",
        "'theirs','themselves','what','which','who','whom','this','that','these',\n",
        "'those','am','is','are','was','were','be','been','being','have','has',\n",
        "'had','having','do','does','did','doing','a','an','the','and','but',\n",
        "'if','or','because','as','until','while','of','at','by','for','with',\n",
        "'about','against','between','into','through','during','before','after',\n",
        "'above','below','to','from','up','down','in','out','on','off','over',\n",
        "'under','again','further','then','once','here','there','when','where',\n",
        "'why','how','all','any','both','each','few','more','most','other','some',\n",
        "'such','no','nor','not','only','own','same','so','than','too','very',\n",
        "'s','t','can','will','just','don','should','now']\n",
        "\n",
        "\n",
        "def remove_stopwords(input_string):\n",
        "  word_list = input_string.split()\n",
        "  output = \"\"\n",
        "  \n",
        "  for word in word_list:\n",
        "    if word.lower() not in stopwords:\n",
        "      output += word + \" \"\n",
        "    #else:\n",
        "      #print(word)\n",
        "  \n",
        "  return output"
      ],
      "execution_count": 0,
      "outputs": []
    },
    {
      "metadata": {
        "id": "85GdgZNMAO_F",
        "colab_type": "code",
        "colab": {
          "base_uri": "https://localhost:8080/",
          "height": 121
        },
        "outputId": "6b00f798-d3b5-4b02-fb8f-de3582a87948"
      },
      "cell_type": "code",
      "source": [
        "print(f\"Input String:\\n{input_string}\")\n",
        "no_stopwords = remove_stopwords(input_string)\n",
        "print(f\"Removed Stopwords\\n{no_stopwords}\")\n",
        "print(f\"Removed Suffixes\\n{slice_suffixes(no_stopwords)}\")"
      ],
      "execution_count": 8,
      "outputs": [
        {
          "output_type": "stream",
          "text": [
            "Input String:\n",
            "The daring fox leaped through the air gracefully, his eyes fixated on the capitulation of his prey.\n",
            "Removed Stopwords\n",
            "daring fox leaped air gracefully, eyes fixated capitulation prey. \n",
            "Removed Suffixes\n",
            "dar fox leap air graceful, ey fixat capitula prey.\n"
          ],
          "name": "stdout"
        }
      ]
    },
    {
      "metadata": {
        "id": "EKEER1R3vyDM",
        "colab_type": "text"
      },
      "cell_type": "markdown",
      "source": [
        "## 1.5 Vectorize Words\n",
        "\n",
        "Below is a list of three strings. Each string is a job listing with the job title of \"data scientist\" from indeed.com. Write a function that does two things:\n",
        "\n",
        "1) Removes stopwords from each listing (uses above function)\n",
        "\n",
        "2) Creates a dataframe where the header of each column is a particular word and each cell of the dataframe should be a 1 or 0 denoting whether that word is present or not in the job listing a body of text. The final dataframe should only have 3 rows, one for each of the three job listings.\n",
        "\n",
        "Your final dataframe should not include any of the stopwords."
      ]
    },
    {
      "metadata": {
        "id": "BmEykH6byT5n",
        "colab_type": "code",
        "colab": {}
      },
      "cell_type": "code",
      "source": [
        "job_listings = ['Part-time, Contract, Internship\\nSr. Machine Learning/Data Scientist\\n\\ndata245, Bannockburn, IL seeks data scientists.\\n\\nWe are open to all levels of experience (down to an intern) as we are building a team around new initiatives.\\n\\nYou will be developing state of the art algorithms to power various aspects of highly complex business models\\nYou can articulate and understand a business problem, identify challenges, formulate the machine learning problem or NLP problems and provide/prototype solutions\\nYou will provide technical leadership, identify and understand key business challenges and opportunities, and develop end-to-end software solutions using machine learning/NLP and optimization methods.\\n\\nYou will collaborate extensively with internal and external partners, program management, and, at a senior level, the engineering team to ensure that solution meet business needs, permit valid inferences and have functional feasibility\\nYou will collect and manipulate large volumes of data; build new and improved techniques and/or solutions for data collection, management, and usage\\nYou will communicate results in a comprehensible manner to all levels of the company (field teams up to Snr. Management) - this will require client facing in the future - but not initially\\nYou will brainstorm with other team members and leadership - who has 30 plus years experience in the industry that requires the solution.\\nRequirements:\\n\\nPHD or MS in Statistics, Machine Learning, or Computer Science (or technical degree with commensurate industry experience)\\nIdeally the Senior position will possess at least 3 years of relevant work - or academic academic experience, as a Data Scientist / Machine Learning professional.\\nExpertise in NLP a bonus\\nStrong algorithmic design skills\\nOther positions require less tenure, but the same relevant ML understanding.\\nPrevious hands on experience, or thesis dedicated to the same\\nDeep understanding of classic machine learning and deep learning theory, and extensive hands-on experience putting it into practice\\nExcellent understanding of machine learning algorithms, processes, tools and platforms including CNN, RNN, NLP, tensorflow, keras, etc.\\nPython proficiency is must\\nApplied experience with machine learning on large datasets\\\\sparse data with structured and unstructured data.\\nExperience with deep learning, and their optimizations for efficient implementation.\\nGreat communication skills, ability to explain predictive analytics to non-technical audience (not client facing yet, and no sales)\\nExperienced in predictive modelling.\\nExecute analytical experiments methodically while outputting reproducible research.\\nExcited to change an industry struggling to control costs.\\nGood to have – Familiar with one or more programming languages e.g. C++ / Java / Android / iOS\".\\nJob Types: Full-time, Part-time, Internship, Contract\\n\\nSalary: $75,000.00 to $125,000.00 /year\\n\\nEducation:\\n\\nMaster\\'s (Preferred)\\nWork authorization:\\n\\nUnited States (Preferred)\\nHours per week:\\n\\n30-39\\nOvertime often available:\\n\\nNo\\nContract Length:\\n\\nMore than 1 year\\nTypical end time:\\n\\n5PM', \"$96,970 - $148,967 a year\\nThe professionals at the National Security Agency (NSA) have one common goal: to protect our nation. The mission requires a strong offense and a steadfast defense. The offense collects, processes, and disseminates intelligence information derived from foreign signals for intelligence and counterintelligence purposes. The defense prevents adversaries from gaining access to sensitive classified national security information. NSA is the nation's leader in providing foreign signals intelligence while also protecting U.S. government information systems, forging the frontier of communications, and data analysis. We serve the American people by applying technical skills to meaningful work, keeping our friends and families safe for generations to come. You will make a lasting impact serving your country as a Data Scientist at the National Security Agency, using your curiosity to analyze large data sets to inform decision-making against foreign threats. We are looking for critical thinkers, problem solvers, and motivated individuals who are enthusiastic about data and believe that answers to hard questions lie in the yet-to-be-told story of diverse, complicated data sets. You will employ your mathematical science, computer science, and quantitative analysis skills to ensure solutions to complex data problems and take full advantage of the NSA's software and hardware capabilities in all areas of our enterprise, including analytic capabilities, research, and foreign intelligence operations. Data Scientists are hired into positions directly supporting a technical mission office or the Data Scientist Development Program (DSDP). The NSA/CSS Data Scientist Development Program is a three-year opportunity to build your data science talent, experience the breadth of data science at NSA through six- to nine-month assignments in a variety of diverse organizations, and collaborate with NSA's experts in the field of data science. You will have opportunities to attend technical conferences with experts from industry and academia. You will routinely discuss and share NSA's challenges and successes at weekly technical roundtables. We foster an environment where you will develop your data science skills, allowing you to quickly contribute to NSA's mission. As a member of a technical mission office or the DSDP, Data Scientists tackle challenging real-world problems leveraging big data, high-performance computing, machine learning, and a breadth of other methodologies. As a Data Scientist at NSA, responsibilities may include: - Collecting and combining data from multiple sources - Uncovering and exploring anomalous data (including metadata) - Applying the scientific process to data evaluation, performing statistical inference, and data mining - Developing analytic plans, engineer supporting algorithms, and design and implement solutions which execute analytic plans. - Designing and developing tools and techniques for analysis - Analyzing data using mathematical/statistical methods - Evaluating, documenting, and communicating research processes, analyses, and results to customers, peers, and leadership - Creating interpretable visualizations\\n\\nSkills\\n\\nThe ideal candidate is someone with a desire for continual learning and strong problem-solving, analytic and interpersonal skills. You might be a great fit for our team if any of the following describe you: - Completed a degree program in the fields of mathematics, statistics, computer science, computational sciences, or a passion for rigorous analysis of data - Tenacity, integrity, persistence, and willingness to learn - Ability to solve complex problems - Use critical thinking and reasoning to make analytic determinations - Works effectively in a collaborative environment - Strong communications skills to both technical and non-technical audiences - The desire to serve over 300 million fellow Americans and make a difference in world events\\n\\nPay, Benefits, & Work Schedule\\n\\nOn the job training, internal NSA courses, and external training will be made available based on the need and experience of the selectee. Monday - Friday, with basic 8 hr/day requirements between 0800 to 1800 (flexible)\\n\\nPosition Summary\\n\\nNSA is in search of Computer Science professionals to solve complex problems, test innovative approaches and research new solutions to storing, manipulating, and presenting information. We are looking for you to apply your computer science expertise to projects that seek to create new standards for the transformation of information. If you want to develop technologies and tools and be a part of cutting edge innovations ' join our team of experts! Help protect national security interests as part of the world's most advanced team of computer science professionals!\\n\\nMandatory Qualification Reqs\\n\\nCandidates for the NSA's Data Scientist roles are asked to complete a data science examination evaluating their knowledge of statistics, mathematics, and computer science topics that pertain to data science work. Passing this examination is a requirement in order to be considered for selection into a data scientist position. Salary Range: $69,545 - $86,659 (Entry Level/Developmental) *The qualifications listed are the minimum acceptable to be considered for the position. Salary offers are based on candidates' education level and years of experience relevant to the position and also take into account information provided by the hiring manager/organization regarding the work level for the position. Entry is with a Bachelor's degree and no experience. An Associate's degree plus 2 years of relevant experience may be considered for individuals with in-depth experience that is clearly related to the position. Degree must be in Mathematics, Applied Mathematics, Statistics, Applied Statistics, Machine Learning, Data Science, Operations Research, or Computer Science. A degree in a related field (e.g., Computer Information Systems, Engineering), a degree in the physical/hard sciences (e.g. physics, chemistry, biology, astronomy), or other science disciplines (i.e., behavioral, social, and life) may be considered if it includes a concentration of coursework (typically 5 or more courses) in advanced mathematics (typically 200 level or higher; such as calculus, differential equations, discrete mathematics) and/or computer science (e.g., algorithms, programming, data structures, data mining, artificial intelligence). College-level Algebra or other math courses intended to meet a basic college level requirement, or upper level math courses designated as elementary or basic do not count. Note: A broader range of degrees will be considered if accompanied by a Certificate in Data Science from an accredited college/university.\\n\\nRelevant experience must be in designing/implementing machine learning, data mining, advanced analytical algorithms, programming, data science, advanced statistical analysis, artificial intelligence, and/or software engineering. Experience in more than one area is strongly preferred. Salary Range: $80,445 - $107,140 (Full Performance) *The qualifications listed are the minimum acceptable to be considered for the position. Salary offers are based on candidates' education level and years of experience relevant to the position and also take into account information provided by the hiring manager/organization regarding the work level for the position. Entry is with a Bachelor's degree plus 3 years of relevant experience or a Master's degree plus 1 year of relevant experience or a Doctoral degree and no experience. An Associate's degree plus 5 years of relevant experience may be considered for individuals with in-depth experience that is clearly related to the position.\\nDegree must be in Mathematics, Applied Mathematics, Statistics, Applied Statistics, Machine Learning, Data Science, Operations Research, or Computer Science. A degree in a related field (e.g., Computer Information Systems, Engineering), a degree in the physical/hard sciences (e.g. physics, chemistry, biology, astronomy), or other science disciplines (i.e., behavioral, social, and life) may be considered if it includes a concentration of coursework (typically 5 or more courses) in advanced mathematics (typically 200 level or higher; such as calculus, differential equations, discrete mathematics) and/or computer science (e.g., algorithms, programming, data structures, data mining, artificial intelligence). College-level Algebra or other math courses intended to meet a basic college level requirement, or upper level math courses designated as elementary or basic do not count. Note: A broader range of degrees will be considered if accompanied by a Certificate in Data Science from an accredited college/university. Relevant experience must be in two or more of the following: designing/implementing machine learning, data mining, advanced analytical algorithms, programming, data science, advanced statistical analysis, artificial intelligence, or software engineering. Salary Range: $96,970 - $148,967 (Senior) *The qualifications listed are the minimum acceptable to be considered for the position. Salary offers are based on candidates' education level and years of experience relevant to the position and also take into account information provided by the hiring manager/organization regarding the work level for the position. Entry is with a Bachelor's degree plus 6 years of relevant experience or a Master's degree plus 4 years of relevant experience or a Doctoral degree plus 2 years of relevant experience. An Associate's degree plus 8 years of relevant experience may be considered for individuals with in-depth experience that is clearly related to the position. Degree must be in Mathematics, Applied Mathematics, Statistics, Applied Statistics, Machine Learning, Data Science, Operations Research, or Computer Science. A degree in a related field (e.g., Computer Information Systems, Engineering), a degree in the physical/hard sciences (e.g., physics, chemistry, biology, astronomy), or other science disciplines (i.e., behavioral, social, life) may be considered if it includes a concentration of coursework (typically 5 or more courses) in advanced mathematics (typically 200 level or higher; such as calculus, differential equations, discrete mathematics) and/or computer science (e.g., algorithms, programming, data structures, data mining, artificial intelligence). College-level Algebra or other math courses intended to meet a basic college level requirement, or upper level math courses designated as elementary or basic do not count. Note: A broader range of degrees will be considered if accompanied by a Certificate in Data Science from an accredited college/university. Relevant experience must be in two or more of the following: designing/implementing machine learning, data mining, advanced analytical algorithms, programming, data science, advanced statistical analysis, artificial intelligence, or software engineering. Salary Range: $134,789- $164,200 (Expert) *The qualifications listed are the minimum acceptable to be considered for the position. Salary offers are based on candidates' education level and years of experience relevant to the position and also take into account information provided by the hiring manager/organization regarding the work level for the position. Entry is with a Bachelor's degree plus 9 years of relevant experience or a Master's degree plus 7 years of relevant experience or a Doctoral degree plus 5 years of relevant experience. An Associate's degree plus 11 years of relevant experience may be considered for individuals with in-depth experience that is clearly related to the position. Degree must be in Mathematics, Applied Mathematics, Statistics, Applied Statistics, Machine Learning, Data Science, Operations Research, or Computer Science. A degree in a related field (e.g., Computer Information Systems, Engineering), a degree in the physical/hard sciences (e.g., physics, chemistry, biology, astronomy), or other science disciplines (i.e., behavioral, social, life) may be considered if it includes a concentration of coursework (typically 5 or more courses) in advanced mathematics (typically 200 level or higher; such as calculus, differential equations, discrete mathematics) and/or computer science (e.g., algorithms, programming, data structures, data mining, artificial intelligence). College-level Algebra or other math courses intended to meet a basic college level requirement, or upper level math courses designated as elementary or basic do not count. Note: A broader range of degrees will be considered if accompanied by a Certificate in Data Science from an accredited college/university. Relevant experience must be in two or more of the following: designing/implementing machine learning, data mining, advanced analytical algorithms, programming, data science, advanced statistical analysis, artificial intelligence, or software engineering.\\n\\nHow To Apply - External\\n\\nTo apply for this position, please click the 'Apply' button located at the top right of this posting. After completing the application for the first time, or reviewing previously entered information, and clicking the 'Submit' button, you will receive a confirmation email. Please ensure your spam filters are configured to accept emails from noreply@intelligencecareers.gov. ***PLEASE NOTE: U.S. Citizenship is required for all applicants. Reasonable accommodations provided to applicants with disabilities during the application and hiring process where appropriate. NSA is an equal opportunity employer and abides by applicable employment laws and regulations. All applicants and employees are subject to random drug testing in accordance with Executive Order 12564. Employment is contingent upon successful completion of a security background investigation and polygraph. This position is a Defense Civilian Intelligence Personnel System (DCIPS) position in the Excepted Service under 10 U.S.C. 1601. DoD Components with DCIPS positions apply Veterans' Preference to eligible candidates as defined by Section 2108 of Title 5 USC, in accordance with the procedures provided in DoD Instruction 1400.25, Volume 2005, DCIPS Employment and Placement. If you are a veteran claiming veterans' preference, as defined by Section 2108 of Title 5 U.S.C., you may be asked to submit documents verifying your eligibility. Please note that you may be asked a series of questions depending on the position you apply for. Your responses will be used as part of the screening process of your application and will assist in determining your eligibility for the position. Be sure to elaborate on experiences in your resume. Failure to provide the required information or providing inaccurate information will result in your application not being considered for this position. Only those applicants who meet the qualifications for the position will be contacted to begin employment processing. Please Note: Job Posting could close earlier than the closing date due to sufficient number of applicants or position no longer available. We encourage you to apply as soon as possible.\\n\\nDCIPS Disclaimer\\n\\nThe National Security Agency (NSA) is part of the DoD Intelligence Community Defense Civilian Intelligence Personnel System (DCIPS). All positions in the NSA are in the Excepted Services under 10 United States Codes (USC) 1601 appointment authority.\", '\\nMinneapolis, Providence or Framingham\\n\\nWho is Virgin Pulse?\\nVirgin Pulse, founded as part of Sir Richard Branson’s famed Virgin Group, helps organizations build employee health and wellbeing into the DNA of their corporate cultures. As the only company to deliver a powerful, mobile-first digital platform infused with live services, including coaching and biometric screenings, Virgin Pulse’s takes a high-tech-meets-high-touch-approach to engage employees in improving across all aspects of their health and wellbeing, every day – from prevention and building a healthy lifestyle to condition and disease management to condition reversal, all while engaging users daily in building and sustaining healthy habits and behaviors. A global leader in health and wellbeing, Virgin Pulse is committed to helping change lives and businesses around the world for good so that people and organizations can thrive, together. Today, more than 3100 organizations across the globe are using Virgin Pulse’s solutions to improve health, employee wellbeing and engagement, reduce costs and create strong workplace cultures.\\n\\nWho are our employees?\\nAt Virgin Pulse we’re passionate about changing lives for good. We want to make a difference in the world by helping people be healthy so they can perform at their best, every day, at work and home. Our award-winning solutions support leading employers in improving and simplifying the employee health and wellbeing journey and engaging people in all aspects of their health. But our world-class products and programs are nothing without our people – the employees who design, build, promote, sell, test and perfect the latest innovations in workplace health and wellbeing. Our people are our top priority and we invest in their health and happiness. At Virgin Pulse, we have so much more than a strong, supportive company culture – have a shared vision for a healthier, happier world.\\nWho you are.\\nYou are an experienced Data Scientist who is capable of providing support to our organization’s efforts to maintain an innovative leadership position in the employee engagement SaaS industry. The Data Scientist accesses datasets from various sources, conducts analysis, and presents the findings of each analytic and reporting project. The incumbent will be able to interpret the findings and clearly communicate results and recommendations to internal and external customers. Moreover, you are a professional who is self-directed and thrives working in a fast-paced, collaborative environment, in which expectations are high both for the quality and speed of work.\\nIn the role of a Data Scientist you will wear many hats and your skills will be crucial in the following:\\nWrite SQL, R, Python programs to access, clean, and transform required data prior to analysis and reporting\\nConsult to and collaborate with analytics and client reporting team members to ensure appropriate data is analyzed and that results are provided in a format consistent with standard and customized client reporting services\\nTroubleshoot and perform data audits to ensure and improve data integrity; investigate and resolve data discrepancies\\nPlan and manage data analytic and reporting process to ensure the projects remain on schedule\\nConduct ad hoc analysis as required using varied analytical tools and techniques\\nSupport Client Success, sales and Marketing staff with direct communication with Virgin Pulse clients and prospects regarding the results of the analysis\\nAchieve annual Key Performance Indicator objectives, which can include report volumes and scope, internal and external client satisfaction, introducing new areas of data and analysis, and influencing company product and process decisions\\n\\nWhat you bring to the team.\\nIn order to represent the best of what we have to offer, you come to us with a multitude of positive attributes including:\\nA bachelor’s degree in statistics, computer science, economics, or related field; Master’s degree is a plus\\nA minimum of four years of work experience in a similar position\\nExperience with data and analytic programming languages such as SQL, R, Python\\nExperience with data visualization tools and techniques preferred\\nExperience with producing and delivering results using varied media (i.e., multiple MS office formats, dashboards/visualization tools, and potentially other formats)\\nExperience in employee health management/health engagement industry preferred\\n\\nIn addition, you possess the following additional competencies and characteristics:\\nStrong analytical skills, with an emphasis on quantitative analysis, descriptive and inferential statistics\\nExpertise in statistical analytical software, or the ability to learn through prior experience tools such as SAS, Stata, R, SPSS or similar statistical software\\nStrong consulting, communication and presentation skills\\nAdvanced R, SQL and database programming skills, experience with MS SQL Server, RedShift, Postgres, and Cassandra/NOSQL databases\\nExperience working with large-scale datasets and multiple projects simultaneously\\nCreative energy, self-starter, works equally well independently and collaboratively']"
      ],
      "execution_count": 0,
      "outputs": []
    },
    {
      "metadata": {
        "id": "vhTWhNTFFF1c",
        "colab_type": "code",
        "colab": {}
      },
      "cell_type": "code",
      "source": [
        "import pandas as pd"
      ],
      "execution_count": 0,
      "outputs": []
    },
    {
      "metadata": {
        "id": "KTlEbvHvDx0I",
        "colab_type": "code",
        "colab": {}
      },
      "cell_type": "code",
      "source": [
        "def vectorise_words(input):\n",
        "  job_records = []\n",
        "  word_vector = set()\n",
        "  \n",
        "  for job in input:\n",
        "    # Convert the row to lower\n",
        "    job = job.lower()\n",
        "    # Remove stop words\n",
        "    job = remove_stopwords(job)\n",
        "    # Normalized white spaces\n",
        "    job = job.split()\n",
        "    job_records.append(\" \".join(job))\n",
        "    word_vector.update(job)\n",
        "  \n",
        "  # Consolidate the result into tuple\n",
        "  for_dataframe = []\n",
        "  for job in job_records:\n",
        "    data_list = []\n",
        "    for word in word_vector: \n",
        "      if word in job:\n",
        "        data_list.append(1)\n",
        "      else:\n",
        "        data_list.append(0)\n",
        "      \n",
        "    for_dataframe.append(data_list)\n",
        "  \n",
        "  df = pd.DataFrame(for_dataframe, columns=word_vector)\n",
        "  \n",
        "  return df"
      ],
      "execution_count": 0,
      "outputs": []
    },
    {
      "metadata": {
        "id": "m8XVuS_IFe9F",
        "colab_type": "code",
        "colab": {
          "base_uri": "https://localhost:8080/",
          "height": 35
        },
        "outputId": "e6ac3774-938a-4be8-b334-8030412a98fd"
      },
      "cell_type": "code",
      "source": [
        "df = vectorise_words(job_listings)\n",
        "df.shape"
      ],
      "execution_count": 12,
      "outputs": [
        {
          "output_type": "execute_result",
          "data": {
            "text/plain": [
              "(3, 1043)"
            ]
          },
          "metadata": {
            "tags": []
          },
          "execution_count": 12
        }
      ]
    },
    {
      "metadata": {
        "id": "sF3JfGYUUOVp",
        "colab_type": "code",
        "colab": {
          "base_uri": "https://localhost:8080/",
          "height": 242
        },
        "outputId": "7ad732c1-4c9a-4d2b-db0c-8caae16acb44"
      },
      "cell_type": "code",
      "source": [
        "df.head()"
      ],
      "execution_count": 13,
      "outputs": [
        {
          "output_type": "execute_result",
          "data": {
            "text/html": [
              "<div>\n",
              "<style scoped>\n",
              "    .dataframe tbody tr th:only-of-type {\n",
              "        vertical-align: middle;\n",
              "    }\n",
              "\n",
              "    .dataframe tbody tr th {\n",
              "        vertical-align: top;\n",
              "    }\n",
              "\n",
              "    .dataframe thead th {\n",
              "        text-align: right;\n",
              "    }\n",
              "</style>\n",
              "<table border=\"1\" class=\"dataframe\">\n",
              "  <thead>\n",
              "    <tr style=\"text-align: right;\">\n",
              "      <th></th>\n",
              "      <th>engineer</th>\n",
              "      <th>team</th>\n",
              "      <th>united</th>\n",
              "      <th>yet-to-be-told</th>\n",
              "      <th>peers,</th>\n",
              "      <th>recommendations</th>\n",
              "      <th>rigorous</th>\n",
              "      <th>plus</th>\n",
              "      <th>visualizations</th>\n",
              "      <th>integrity,</th>\n",
              "      <th>...</th>\n",
              "      <th>drug</th>\n",
              "      <th>(flexible)</th>\n",
              "      <th>close</th>\n",
              "      <th>available.</th>\n",
              "      <th>analytics</th>\n",
              "      <th>also</th>\n",
              "      <th>agency,</th>\n",
              "      <th>derived</th>\n",
              "      <th>process</th>\n",
              "      <th>emails</th>\n",
              "    </tr>\n",
              "  </thead>\n",
              "  <tbody>\n",
              "    <tr>\n",
              "      <th>0</th>\n",
              "      <td>1</td>\n",
              "      <td>1</td>\n",
              "      <td>1</td>\n",
              "      <td>0</td>\n",
              "      <td>0</td>\n",
              "      <td>0</td>\n",
              "      <td>0</td>\n",
              "      <td>1</td>\n",
              "      <td>0</td>\n",
              "      <td>0</td>\n",
              "      <td>...</td>\n",
              "      <td>0</td>\n",
              "      <td>0</td>\n",
              "      <td>0</td>\n",
              "      <td>0</td>\n",
              "      <td>1</td>\n",
              "      <td>0</td>\n",
              "      <td>0</td>\n",
              "      <td>0</td>\n",
              "      <td>1</td>\n",
              "      <td>0</td>\n",
              "    </tr>\n",
              "    <tr>\n",
              "      <th>1</th>\n",
              "      <td>1</td>\n",
              "      <td>1</td>\n",
              "      <td>1</td>\n",
              "      <td>1</td>\n",
              "      <td>1</td>\n",
              "      <td>0</td>\n",
              "      <td>1</td>\n",
              "      <td>1</td>\n",
              "      <td>1</td>\n",
              "      <td>1</td>\n",
              "      <td>...</td>\n",
              "      <td>1</td>\n",
              "      <td>1</td>\n",
              "      <td>1</td>\n",
              "      <td>1</td>\n",
              "      <td>0</td>\n",
              "      <td>1</td>\n",
              "      <td>1</td>\n",
              "      <td>1</td>\n",
              "      <td>1</td>\n",
              "      <td>1</td>\n",
              "    </tr>\n",
              "    <tr>\n",
              "      <th>2</th>\n",
              "      <td>0</td>\n",
              "      <td>1</td>\n",
              "      <td>0</td>\n",
              "      <td>0</td>\n",
              "      <td>0</td>\n",
              "      <td>1</td>\n",
              "      <td>0</td>\n",
              "      <td>1</td>\n",
              "      <td>0</td>\n",
              "      <td>0</td>\n",
              "      <td>...</td>\n",
              "      <td>0</td>\n",
              "      <td>0</td>\n",
              "      <td>0</td>\n",
              "      <td>0</td>\n",
              "      <td>1</td>\n",
              "      <td>0</td>\n",
              "      <td>0</td>\n",
              "      <td>0</td>\n",
              "      <td>1</td>\n",
              "      <td>0</td>\n",
              "    </tr>\n",
              "  </tbody>\n",
              "</table>\n",
              "<p>3 rows × 1043 columns</p>\n",
              "</div>"
            ],
            "text/plain": [
              "   engineer  team  united  yet-to-be-told  peers,  recommendations  rigorous  \\\n",
              "0         1     1       1               0       0                0         0   \n",
              "1         1     1       1               1       1                0         1   \n",
              "2         0     1       0               0       0                1         0   \n",
              "\n",
              "   plus  visualizations  integrity,   ...    drug  (flexible)  close  \\\n",
              "0     1               0           0   ...       0           0      0   \n",
              "1     1               1           1   ...       1           1      1   \n",
              "2     1               0           0   ...       0           0      0   \n",
              "\n",
              "   available.  analytics  also  agency,  derived  process  emails  \n",
              "0           0          1     0        0        0        1       0  \n",
              "1           1          0     1        1        1        1       1  \n",
              "2           0          1     0        0        0        1       0  \n",
              "\n",
              "[3 rows x 1043 columns]"
            ]
          },
          "metadata": {
            "tags": []
          },
          "execution_count": 13
        }
      ]
    },
    {
      "metadata": {
        "id": "Ij27L9cPizzB",
        "colab_type": "text"
      },
      "cell_type": "markdown",
      "source": [
        "# 2) Regex + Pandas Practice\n",
        "\n",
        "Load the contents of the following text file into your notebook:\n",
        "<https://raw.githubusercontent.com/CoreyMSchafer/code_snippets/master/Python-Regular-Expressions/data.txt>\n",
        "\n",
        "If you're using Google Colab then you will have to download the raw file from github and either upload to your google drive or upload it to the notebook like we have done with CSVs in the past."
      ]
    },
    {
      "metadata": {
        "id": "F1CALmvAl0pQ",
        "colab_type": "text"
      },
      "cell_type": "markdown",
      "source": [
        "## Make sure your notebook has access to the .txt file"
      ]
    },
    {
      "metadata": {
        "id": "EdByRNWgjcPx",
        "colab_type": "code",
        "outputId": "456eea4d-8b0d-44d9-82ef-215b83bce5f3",
        "colab": {
          "resources": {
            "http://localhost:8080/nbextensions/google.colab/files.js": {
              "data": "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",
              "ok": true,
              "headers": [
                [
                  "content-type",
                  "application/javascript"
                ]
              ],
              "status": 200,
              "status_text": ""
            }
          },
          "base_uri": "https://localhost:8080/",
          "height": 75
        }
      },
      "cell_type": "code",
      "source": [
        "from google.colab import files\n",
        "uploaded = files.upload()"
      ],
      "execution_count": 14,
      "outputs": [
        {
          "output_type": "display_data",
          "data": {
            "text/html": [
              "\n",
              "     <input type=\"file\" id=\"files-3c2a5ed1-51fe-48b8-9d5b-39dab88cf8e7\" name=\"files[]\" multiple disabled />\n",
              "     <output id=\"result-3c2a5ed1-51fe-48b8-9d5b-39dab88cf8e7\">\n",
              "      Upload widget is only available when the cell has been executed in the\n",
              "      current browser session. Please rerun this cell to enable.\n",
              "      </output>\n",
              "      <script src=\"/nbextensions/google.colab/files.js\"></script> "
            ],
            "text/plain": [
              "<IPython.core.display.HTML object>"
            ]
          },
          "metadata": {
            "tags": []
          }
        },
        {
          "output_type": "stream",
          "text": [
            "Saving data.txt to data (4).txt\n"
          ],
          "name": "stdout"
        }
      ]
    },
    {
      "metadata": {
        "id": "TAR7mbJsl4hK",
        "colab_type": "text"
      },
      "cell_type": "markdown",
      "source": [
        "## Read in the contents of the file"
      ]
    },
    {
      "metadata": {
        "id": "3zutl-6Dkk0f",
        "colab_type": "code",
        "outputId": "33f35b91-6c98-4dc6-9cfc-4d96e2b3c780",
        "colab": {
          "base_uri": "https://localhost:8080/",
          "height": 55
        }
      },
      "cell_type": "code",
      "source": [
        "with open('data.txt', 'r', encoding='utf-8') as f:\n",
        "  contents = f.read()\n",
        "  \n",
        "contents"
      ],
      "execution_count": 15,
      "outputs": [
        {
          "output_type": "execute_result",
          "data": {
            "text/plain": [
              "\"Dave Martin\\n615-555-7164\\n173 Main St., Springfield RI 55924\\ndavemartin@bogusemail.com\\n\\nCharles Harris\\n800-555-5669\\n969 High St., Atlantis VA 34075\\ncharlesharris@bogusemail.com\\n\\nEric Williams\\n560-555-5153\\n806 1st St., Faketown AK 86847\\nlaurawilliams@bogusemail.com\\n\\nCorey Jefferson\\n900-555-9340\\n826 Elm St., Epicburg NE 10671\\ncoreyjefferson@bogusemail.com\\n\\nJennifer Martin-White\\n714-555-7405\\n212 Cedar St., Sunnydale CT 74983\\njenniferwhite@bogusemail.com\\n\\nErick Davis\\n800-555-6771\\n519 Washington St., Olympus TN 32425\\ntomdavis@bogusemail.com\\n\\nNeil Patterson\\n783-555-4799\\n625 Oak St., Dawnstar IL 61914\\nneilpatterson@bogusemail.com\\n\\nLaura Jefferson\\n516-555-4615\\n890 Main St., Pythonville LA 29947\\nlaurajefferson@bogusemail.com\\n\\nMaria Johnson\\n127-555-1867\\n884 High St., Braavos ME 43597\\nmariajohnson@bogusemail.com\\n\\nMichael Arnold\\n608-555-4938\\n249 Elm St., Quahog OR 90938\\nmichaelarnold@bogusemail.com\\n\\nMichael Smith\\n568-555-6051\\n619 Park St., Winterfell VA 99000\\nmichaelsmith@bogusemail.com\\n\\nErik Stuart\\n292-555-1875\\n220 Cedar St., Lakeview NY 87282\\nrobertstuart@bogusemail.com\\n\\nLaura Martin\\n900-555-3205\\n391 High St., Smalltown WY 28362\\nlauramartin@bogusemail.com\\n\\nBarbara Martin\\n614-555-1166\\n121 Hill St., Braavos UT 92474\\nbarbaramartin@bogusemail.com\\n\\nLinda Jackson\\n530-555-2676\\n433 Elm St., Westworld TX 61967\\nlindajackson@bogusemail.com\\n\\nEric Miller\\n470-555-2750\\n838 Main St., Balmora MT 56526\\nstevemiller@bogusemail.com\\n\\nDave Arnold\\n800-555-6089\\n732 High St., Valyria KY 97152\\ndavearnold@bogusemail.com\\n\\nJennifer Jacobs\\n880-555-8319\\n217 High St., Old-town IA 82767\\njenniferjacobs@bogusemail.com\\n\\nNeil Wilson\\n777-555-8378\\n191 Main St., Mordor IL 72160\\nneilwilson@bogusemail.com\\n\\nKurt Jackson\\n998-555-7385\\n607 Washington St., Blackwater NH 97183\\nkurtjackson@bogusemail.com\\n\\nMary Jacobs\\n800-555-7100\\n478 Oak St., Bedrock IA 58176\\nmaryjacobs@bogusemail.com\\n\\nMichael White\\n903-555-8277\\n906 Elm St., Mordor TX 89212\\nmichaelwhite@bogusemail.com\\n\\nJennifer Jenkins\\n196-555-5674\\n949 Main St., Smalltown SC 96962\\njenniferjenkins@bogusemail.com\\n\\nSam Wright\\n900-555-5118\\n835 Pearl St., Smalltown ND 77737\\nsamwright@bogusemail.com\\n\\nJohn Davis\\n905-555-1630\\n451 Lake St., Bedrock GA 34615\\njohndavis@bogusemail.com\\n\\nEric Davis\\n203-555-3475\\n419 Lake St., Balmora OR 30826\\nneildavis@bogusemail.com\\n\\nLaura Jackson\\n884-555-8444\\n443 Maple St., Quahog MS 29348\\nlaurajackson@bogusemail.com\\n\\nJohn Williams\\n904-555-8559\\n756 Hill St., Valyria KY 94854\\njohnwilliams@bogusemail.com\\n\\nMichael Martin\\n889-555-7393\\n216 High St., Olympus NV 21888\\nmichaelmartin@bogusemail.com\\n\\nMaggie Brown\\n195-555-2405\\n806 Lake St., Lakeview MD 59348\\nmaggiebrown@bogusemail.com\\n\\nErik Wilson\\n321-555-9053\\n354 Hill St., Mordor FL 74122\\nkurtwilson@bogusemail.com\\n\\nElizabeth Arnold\\n133-555-1711\\n805 Maple St., Winterfell NV 99431\\nelizabetharnold@bogusemail.com\\n\\nJane Martin\\n900-555-5428\\n418 Park St., Metropolis ID 16576\\njanemartin@bogusemail.com\\n\\nTravis Johnson\\n760-555-7147\\n749 Washington St., Braavos SD 25668\\ntravisjohnson@bogusemail.com\\n\\nLaura Jefferson\\n391-555-6621\\n122 High St., Metropolis ME 29540\\nlaurajefferson@bogusemail.com\\n\\nTom Williams\\n932-555-7724\\n610 High St., Old-town FL 60758\\ntomwilliams@bogusemail.com\\n\\nJennifer Taylor\\n609-555-7908\\n332 Main St., Pythonville OH 78172\\njennifertaylor@bogusemail.com\\n\\nErick Wright\\n800-555-8810\\n858 Hill St., Blackwater NC 79714\\njenniferwright@bogusemail.com\\n\\nSteve Doe\\n149-555-7657\\n441 Elm St., Atlantis MS 87195\\nstevedoe@bogusemail.com\\n\\nKurt Davis\\n130-555-9709\\n404 Oak St., Atlantis ND 85386\\nkurtdavis@bogusemail.com\\n\\nCorey Harris\\n143-555-9295\\n286 Pearl St., Vice City TX 57112\\ncoreyharris@bogusemail.com\\n\\nNicole Taylor\\n903-555-9878\\n465 Hill St., Old-town LA 64102\\nnicoletaylor@bogusemail.com\\n\\nElizabeth Davis\\n574-555-3194\\n151 Lake St., Eerie SD 17880\\nelizabethdavis@bogusemail.com\\n\\nMaggie Jenkins\\n496-555-7533\\n504 Lake St., Gotham PA 46692\\nmaggiejenkins@bogusemail.com\\n\\nLinda Davis\\n210-555-3757\\n201 Pine St., Vice City AR 78455\\nlindadavis@bogusemail.com\\n\\nDave Moore\\n900-555-9598\\n251 Pine St., Old-town OK 29087\\ndavemoore@bogusemail.com\\n\\nLinda Jenkins\\n866-555-9844\\n117 High St., Bedrock NE 11899\\nlindajenkins@bogusemail.com\\n\\nEric White\\n669-555-7159\\n650 Oak St., Smalltown TN 43281\\nsamwhite@bogusemail.com\\n\\nLaura Robinson\\n152-555-7417\\n377 Pine St., Valyria NC 78036\\nlaurarobinson@bogusemail.com\\n\\nCharles Patterson\\n893-555-9832\\n416 Pearl St., Valyria AK 62260\\ncharlespatterson@bogusemail.com\\n\\nJoe Jackson\\n217-555-7123\\n683 Cedar St., South Park KS 66724\\njoejackson@bogusemail.com\\n\\nMichael Johnson\\n786-555-6544\\n288 Hill St., Smalltown AZ 18586\\nmichaeljohnson@bogusemail.com\\n\\nCorey Miller\\n780-555-2574\\n286 High St., Springfield IA 16272\\ncoreymiller@bogusemail.com\\n\\nJames Moore\\n926-555-8735\\n278 Main St., Gotham KY 89569\\njamesmoore@bogusemail.com\\n\\nJennifer Stuart\\n895-555-3539\\n766 Hill St., King's Landing GA 54999\\njenniferstuart@bogusemail.com\\n\\nCharles Martin\\n874-555-3949\\n775 High St., Faketown PA 89260\\ncharlesmartin@bogusemail.com\\n\\nEric Wilks\\n800-555-2420\\n885 Main St., Blackwater OH 61275\\njoewilks@bogusemail.com\\n\\nElizabeth Arnold\\n936-555-6340\\n528 Hill St., Atlantis NH 88289\\nelizabetharnold@bogusemail.com\\n\\nJohn Miller\\n372-555-9809\\n117 Cedar St., Thundera NM 75205\\njohnmiller@bogusemail.com\\n\\nCorey Jackson\\n890-555-5618\\n115 Oak St., Gotham UT 36433\\ncoreyjackson@bogusemail.com\\n\\nSam Thomas\\n670-555-3005\\n743 Lake St., Springfield MS 25473\\nsamthomas@bogusemail.com\\n\\nPatricia Thomas\\n509-555-5997\\n381 Hill St., Blackwater CT 30958\\npatriciathomas@bogusemail.com\\n\\nJennifer Davis\\n721-555-5632\\n125 Main St., Smalltown MT 62155\\njenniferdavis@bogusemail.com\\n\\nPatricia Brown\\n900-555-3567\\n292 Hill St., Gotham WV 57680\\npatriciabrown@bogusemail.com\\n\\nBarbara Williams\\n147-555-6830\\n514 Park St., Balmora NV 55462\\nbarbarawilliams@bogusemail.com\\n\\nJames Taylor\\n582-555-3426\\n776 Hill St., Dawnstar MA 51312\\njamestaylor@bogusemail.com\\n\\nEric Harris\\n400-555-1706\\n421 Elm St., Smalltown NV 72025\\nbarbaraharris@bogusemail.com\\n\\nTravis Anderson\\n525-555-1793\\n937 Cedar St., Thundera WA 78862\\ntravisanderson@bogusemail.com\\n\\nSam Robinson\\n317-555-6700\\n417 Pine St., Lakeview MD 13147\\nsamrobinson@bogusemail.com\\n\\nSteve Robinson\\n974-555-8301\\n478 Park St., Springfield NM 92369\\nsteverobinson@bogusemail.com\\n\\nMary Wilson\\n800-555-3216\\n708 Maple St., Braavos UT 29551\\nmarywilson@bogusemail.com\\n\\nSam Wilson\\n746-555-4094\\n557 Pearl St., Westworld KS 23225\\nsamwilson@bogusemail.com\\n\\nCharles Jones\\n922-555-1773\\n855 Hill St., Olympus HI 81427\\ncharlesjones@bogusemail.com\\n\\nLaura Brown\\n711-555-4427\\n980 Maple St., Smalltown MO 96421\\nlaurabrown@bogusemail.com\\n\\nTom Harris\\n355-555-1872\\n676 Hill St., Blackwater AR 96698\\ntomharris@bogusemail.com\\n\\nPatricia Taylor\\n852-555-6521\\n588 Pine St., Olympus FL 98412\\npatriciataylor@bogusemail.com\\n\\nBarbara Williams\\n691-555-5773\\n351 Elm St., Sunnydale GA 26245\\nbarbarawilliams@bogusemail.com\\n\\nMaggie Johnson\\n332-555-5441\\n948 Cedar St., Quahog DE 56449\\nmaggiejohnson@bogusemail.com\\n\\nKurt Miller\\n900-555-7755\\n381 Hill St., Quahog AL 97503\\nkurtmiller@bogusemail.com\\n\\nNeil Stuart\\n379-555-3685\\n496 Cedar St., Sunnydale RI 49113\\nneilstuart@bogusemail.com\\n\\nLinda Patterson\\n127-555-9682\\n736 Cedar St., Lakeview KY 47472\\nlindapatterson@bogusemail.com\\n\\nCharles Davis\\n789-555-7032\\n678 Lake St., Mordor MN 11845\\ncharlesdavis@bogusemail.com\\n\\nJennifer Jefferson\\n783-555-5135\\n289 Park St., Sunnydale WA 74526\\njenniferjefferson@bogusemail.com\\n\\nErick Taylor\\n315-555-6507\\n245 Washington St., Bedrock IL 26941\\ncoreytaylor@bogusemail.com\\n\\nRobert Wilks\\n481-555-5835\\n573 Elm St., Sunnydale IL 47182\\nrobertwilks@bogusemail.com\\n\\nTravis Jackson\\n365-555-8287\\n851 Lake St., Metropolis PA 22772\\ntravisjackson@bogusemail.com\\n\\nTravis Jackson\\n911-555-7535\\n489 Oak St., Atlantis HI 73725\\ntravisjackson@bogusemail.com\\n\\nLaura Wilks\\n681-555-2460\\n371 Pearl St., Smalltown SC 47466\\nlaurawilks@bogusemail.com\\n\\nNeil Arnold\\n274-555-9800\\n504 Oak St., Faketown PA 73860\\nneilarnold@bogusemail.com\\n\\nLinda Johnson\\n800-555-1372\\n667 High St., Balmora IN 82473\\nlindajohnson@bogusemail.com\\n\\nJennifer Wilson\\n300-555-7821\\n266 Pine St., Westworld DC 58720\\njenniferwilson@bogusemail.com\\n\\nNicole White\\n133-555-3889\\n276 High St., Braavos IL 57764\\nnicolewhite@bogusemail.com\\n\\nMaria Arnold\\n705-555-6863\\n491 Elm St., Metropolis PA 31836\\nmariaarnold@bogusemail.com\\n\\nJennifer Davis\\n215-555-9449\\n859 Cedar St., Old-town MT 31169\\njenniferdavis@bogusemail.com\\n\\nMary Patterson\\n988-555-6112\\n956 Park St., Valyria CT 81541\\nmarypatterson@bogusemail.com\\n\\nJane Stuart\\n623-555-3006\\n983 Oak St., Old-town RI 15445\\njanestuart@bogusemail.com\\n\\nRobert Davis\\n192-555-4977\\n789 Maple St., Mordor IN 22215\\nrobertdavis@bogusemail.com\\n\\nJames Taylor\\n178-555-4899\\n439 Hill St., Olympus NV 39308\\njamestaylor@bogusemail.com\\n\\nEric Stuart\\n952-555-3089\\n777 High St., King's Landing AZ 16547\\njohnstuart@bogusemail.com\\n\\nCharles Miller\\n900-555-6426\\n207 Washington St., Blackwater MA 24886\\ncharlesmiller@bogusemail.com\\n\""
            ]
          },
          "metadata": {
            "tags": []
          },
          "execution_count": 15
        }
      ]
    },
    {
      "metadata": {
        "id": "Oxxpx8l0k-wP",
        "colab_type": "text"
      },
      "cell_type": "markdown",
      "source": [
        "## Turn the \"unstructured\" .txt file into a \"structured\" dataframe\n",
        "Once you have read in the file's contents your task is to get this unstructured text data into a dataframe with the following headers:\n",
        "\n",
        "- First Name\n",
        "- Last Name\n",
        "- Email\n",
        "- Phone Number\n",
        "- Street Address\n",
        "- City\n",
        "- State\n",
        "- Zipcode"
      ]
    },
    {
      "metadata": {
        "id": "3Siu7WD_Xx0j",
        "colab_type": "code",
        "colab": {}
      },
      "cell_type": "code",
      "source": [
        "##### Your Code Here #####\n",
        "import re"
      ],
      "execution_count": 0,
      "outputs": []
    },
    {
      "metadata": {
        "id": "Xx-YN2KVoaIQ",
        "colab_type": "code",
        "colab": {}
      },
      "cell_type": "code",
      "source": [
        "regex_name = r\"[a-zA-Z]{3,} [a-zA-Z\\-]{3,}\" \n",
        "name = re.findall(regex_name, contents)\n",
        "\n",
        "# Deleting non-names which were matching.\n",
        "name.remove(\"Vice City\")\n",
        "name.remove(\"Vice City\")\n",
        "name.remove(\"South Park\")"
      ],
      "execution_count": 0,
      "outputs": []
    },
    {
      "metadata": {
        "id": "vTgu0_ij6kXE",
        "colab_type": "code",
        "colab": {
          "base_uri": "https://localhost:8080/",
          "height": 202
        },
        "outputId": "89daad65-d96f-4245-ca32-bbd01c11ceca"
      },
      "cell_type": "code",
      "source": [
        "df = pd.DataFrame(name, columns=['Full Name'])\n",
        "df['First Name'] = df['Full Name'].apply(lambda x: x.split(\" \")[0])\n",
        "df['Last Name'] = df['Full Name'].apply(lambda x: x.split(\" \")[1])\n",
        "df.drop(columns='Full Name', inplace=True)\n",
        "df.head()"
      ],
      "execution_count": 18,
      "outputs": [
        {
          "output_type": "execute_result",
          "data": {
            "text/html": [
              "<div>\n",
              "<style scoped>\n",
              "    .dataframe tbody tr th:only-of-type {\n",
              "        vertical-align: middle;\n",
              "    }\n",
              "\n",
              "    .dataframe tbody tr th {\n",
              "        vertical-align: top;\n",
              "    }\n",
              "\n",
              "    .dataframe thead th {\n",
              "        text-align: right;\n",
              "    }\n",
              "</style>\n",
              "<table border=\"1\" class=\"dataframe\">\n",
              "  <thead>\n",
              "    <tr style=\"text-align: right;\">\n",
              "      <th></th>\n",
              "      <th>First Name</th>\n",
              "      <th>Last Name</th>\n",
              "    </tr>\n",
              "  </thead>\n",
              "  <tbody>\n",
              "    <tr>\n",
              "      <th>0</th>\n",
              "      <td>Dave</td>\n",
              "      <td>Martin</td>\n",
              "    </tr>\n",
              "    <tr>\n",
              "      <th>1</th>\n",
              "      <td>Charles</td>\n",
              "      <td>Harris</td>\n",
              "    </tr>\n",
              "    <tr>\n",
              "      <th>2</th>\n",
              "      <td>Eric</td>\n",
              "      <td>Williams</td>\n",
              "    </tr>\n",
              "    <tr>\n",
              "      <th>3</th>\n",
              "      <td>Corey</td>\n",
              "      <td>Jefferson</td>\n",
              "    </tr>\n",
              "    <tr>\n",
              "      <th>4</th>\n",
              "      <td>Jennifer</td>\n",
              "      <td>Martin-White</td>\n",
              "    </tr>\n",
              "  </tbody>\n",
              "</table>\n",
              "</div>"
            ],
            "text/plain": [
              "  First Name     Last Name\n",
              "0       Dave        Martin\n",
              "1    Charles        Harris\n",
              "2       Eric      Williams\n",
              "3      Corey     Jefferson\n",
              "4   Jennifer  Martin-White"
            ]
          },
          "metadata": {
            "tags": []
          },
          "execution_count": 18
        }
      ]
    },
    {
      "metadata": {
        "id": "9Xqo-GPdk-OM",
        "colab_type": "code",
        "colab": {
          "base_uri": "https://localhost:8080/",
          "height": 35
        },
        "outputId": "8e18de29-2651-4dd7-d029-66908da8992b"
      },
      "cell_type": "code",
      "source": [
        "regex_email = r\"([a-z]+@[a-z]+.com)\" \n",
        "email = re.findall(regex_email, contents)\n",
        "print(len(email))\n",
        "#email"
      ],
      "execution_count": 19,
      "outputs": [
        {
          "output_type": "stream",
          "text": [
            "100\n"
          ],
          "name": "stdout"
        }
      ]
    },
    {
      "metadata": {
        "id": "b30kR3zu9kQU",
        "colab_type": "code",
        "colab": {
          "base_uri": "https://localhost:8080/",
          "height": 202
        },
        "outputId": "37f159c1-777b-4774-b098-632db8ab103e"
      },
      "cell_type": "code",
      "source": [
        "df['Email'] = email\n",
        "df.head()"
      ],
      "execution_count": 20,
      "outputs": [
        {
          "output_type": "execute_result",
          "data": {
            "text/html": [
              "<div>\n",
              "<style scoped>\n",
              "    .dataframe tbody tr th:only-of-type {\n",
              "        vertical-align: middle;\n",
              "    }\n",
              "\n",
              "    .dataframe tbody tr th {\n",
              "        vertical-align: top;\n",
              "    }\n",
              "\n",
              "    .dataframe thead th {\n",
              "        text-align: right;\n",
              "    }\n",
              "</style>\n",
              "<table border=\"1\" class=\"dataframe\">\n",
              "  <thead>\n",
              "    <tr style=\"text-align: right;\">\n",
              "      <th></th>\n",
              "      <th>First Name</th>\n",
              "      <th>Last Name</th>\n",
              "      <th>Email</th>\n",
              "    </tr>\n",
              "  </thead>\n",
              "  <tbody>\n",
              "    <tr>\n",
              "      <th>0</th>\n",
              "      <td>Dave</td>\n",
              "      <td>Martin</td>\n",
              "      <td>davemartin@bogusemail.com</td>\n",
              "    </tr>\n",
              "    <tr>\n",
              "      <th>1</th>\n",
              "      <td>Charles</td>\n",
              "      <td>Harris</td>\n",
              "      <td>charlesharris@bogusemail.com</td>\n",
              "    </tr>\n",
              "    <tr>\n",
              "      <th>2</th>\n",
              "      <td>Eric</td>\n",
              "      <td>Williams</td>\n",
              "      <td>laurawilliams@bogusemail.com</td>\n",
              "    </tr>\n",
              "    <tr>\n",
              "      <th>3</th>\n",
              "      <td>Corey</td>\n",
              "      <td>Jefferson</td>\n",
              "      <td>coreyjefferson@bogusemail.com</td>\n",
              "    </tr>\n",
              "    <tr>\n",
              "      <th>4</th>\n",
              "      <td>Jennifer</td>\n",
              "      <td>Martin-White</td>\n",
              "      <td>jenniferwhite@bogusemail.com</td>\n",
              "    </tr>\n",
              "  </tbody>\n",
              "</table>\n",
              "</div>"
            ],
            "text/plain": [
              "  First Name     Last Name                          Email\n",
              "0       Dave        Martin      davemartin@bogusemail.com\n",
              "1    Charles        Harris   charlesharris@bogusemail.com\n",
              "2       Eric      Williams   laurawilliams@bogusemail.com\n",
              "3      Corey     Jefferson  coreyjefferson@bogusemail.com\n",
              "4   Jennifer  Martin-White   jenniferwhite@bogusemail.com"
            ]
          },
          "metadata": {
            "tags": []
          },
          "execution_count": 20
        }
      ]
    },
    {
      "metadata": {
        "id": "tbsk0ffkaqVv",
        "colab_type": "code",
        "colab": {
          "base_uri": "https://localhost:8080/",
          "height": 35
        },
        "outputId": "b1db24f1-38f8-414a-8108-a8085d4ab464"
      },
      "cell_type": "code",
      "source": [
        "regex_phone = r\"\\d{3}-\\d{3}-\\d{4}\"\n",
        "phone = re.findall(regex_phone, contents)\n",
        "print(len(phone))\n",
        "#phone"
      ],
      "execution_count": 21,
      "outputs": [
        {
          "output_type": "stream",
          "text": [
            "100\n"
          ],
          "name": "stdout"
        }
      ]
    },
    {
      "metadata": {
        "id": "2DOXqj1q-CJN",
        "colab_type": "code",
        "colab": {}
      },
      "cell_type": "code",
      "source": [
        "df['Phone'] = phone"
      ],
      "execution_count": 0,
      "outputs": []
    },
    {
      "metadata": {
        "id": "lbs-myw4bODD",
        "colab_type": "code",
        "colab": {
          "base_uri": "https://localhost:8080/",
          "height": 35
        },
        "outputId": "fcc4c974-2a6d-4bc0-e383-35e31f42bb32"
      },
      "cell_type": "code",
      "source": [
        "regex_address = r\"(\\d+ [1a-zA-Z]+ St)., ([a-zA-Z-\\s']+) ([A-Z]{2}) (\\d+)\"\n",
        "address = re.findall(regex_address, contents)\n",
        "print(len(address))\n",
        "#address"
      ],
      "execution_count": 23,
      "outputs": [
        {
          "output_type": "stream",
          "text": [
            "100\n"
          ],
          "name": "stdout"
        }
      ]
    },
    {
      "metadata": {
        "id": "NBafDPPR-JVW",
        "colab_type": "code",
        "colab": {
          "base_uri": "https://localhost:8080/",
          "height": 219
        },
        "outputId": "20f398e1-a829-48af-c506-9f013dcbe7d8"
      },
      "cell_type": "code",
      "source": [
        "df['Address'] = address\n",
        "df['Street Address'] = df['Address'].apply(lambda x: x[0])\n",
        "df['City'] = df['Address'].apply(lambda x: x[1])\n",
        "df['State'] = df['Address'].apply(lambda x: x[2])\n",
        "df['Zipcode'] = df['Address'].apply(lambda x: x[3])\n",
        "df.drop(columns='Address', inplace=True)\n",
        "print(df.shape)\n",
        "df.head()"
      ],
      "execution_count": 24,
      "outputs": [
        {
          "output_type": "stream",
          "text": [
            "(100, 8)\n"
          ],
          "name": "stdout"
        },
        {
          "output_type": "execute_result",
          "data": {
            "text/html": [
              "<div>\n",
              "<style scoped>\n",
              "    .dataframe tbody tr th:only-of-type {\n",
              "        vertical-align: middle;\n",
              "    }\n",
              "\n",
              "    .dataframe tbody tr th {\n",
              "        vertical-align: top;\n",
              "    }\n",
              "\n",
              "    .dataframe thead th {\n",
              "        text-align: right;\n",
              "    }\n",
              "</style>\n",
              "<table border=\"1\" class=\"dataframe\">\n",
              "  <thead>\n",
              "    <tr style=\"text-align: right;\">\n",
              "      <th></th>\n",
              "      <th>First Name</th>\n",
              "      <th>Last Name</th>\n",
              "      <th>Email</th>\n",
              "      <th>Phone</th>\n",
              "      <th>Street Address</th>\n",
              "      <th>City</th>\n",
              "      <th>State</th>\n",
              "      <th>Zipcode</th>\n",
              "    </tr>\n",
              "  </thead>\n",
              "  <tbody>\n",
              "    <tr>\n",
              "      <th>0</th>\n",
              "      <td>Dave</td>\n",
              "      <td>Martin</td>\n",
              "      <td>davemartin@bogusemail.com</td>\n",
              "      <td>615-555-7164</td>\n",
              "      <td>173 Main St</td>\n",
              "      <td>Springfield</td>\n",
              "      <td>RI</td>\n",
              "      <td>55924</td>\n",
              "    </tr>\n",
              "    <tr>\n",
              "      <th>1</th>\n",
              "      <td>Charles</td>\n",
              "      <td>Harris</td>\n",
              "      <td>charlesharris@bogusemail.com</td>\n",
              "      <td>800-555-5669</td>\n",
              "      <td>969 High St</td>\n",
              "      <td>Atlantis</td>\n",
              "      <td>VA</td>\n",
              "      <td>34075</td>\n",
              "    </tr>\n",
              "    <tr>\n",
              "      <th>2</th>\n",
              "      <td>Eric</td>\n",
              "      <td>Williams</td>\n",
              "      <td>laurawilliams@bogusemail.com</td>\n",
              "      <td>560-555-5153</td>\n",
              "      <td>806 1st St</td>\n",
              "      <td>Faketown</td>\n",
              "      <td>AK</td>\n",
              "      <td>86847</td>\n",
              "    </tr>\n",
              "    <tr>\n",
              "      <th>3</th>\n",
              "      <td>Corey</td>\n",
              "      <td>Jefferson</td>\n",
              "      <td>coreyjefferson@bogusemail.com</td>\n",
              "      <td>900-555-9340</td>\n",
              "      <td>826 Elm St</td>\n",
              "      <td>Epicburg</td>\n",
              "      <td>NE</td>\n",
              "      <td>10671</td>\n",
              "    </tr>\n",
              "    <tr>\n",
              "      <th>4</th>\n",
              "      <td>Jennifer</td>\n",
              "      <td>Martin-White</td>\n",
              "      <td>jenniferwhite@bogusemail.com</td>\n",
              "      <td>714-555-7405</td>\n",
              "      <td>212 Cedar St</td>\n",
              "      <td>Sunnydale</td>\n",
              "      <td>CT</td>\n",
              "      <td>74983</td>\n",
              "    </tr>\n",
              "  </tbody>\n",
              "</table>\n",
              "</div>"
            ],
            "text/plain": [
              "  First Name     Last Name                          Email         Phone  \\\n",
              "0       Dave        Martin      davemartin@bogusemail.com  615-555-7164   \n",
              "1    Charles        Harris   charlesharris@bogusemail.com  800-555-5669   \n",
              "2       Eric      Williams   laurawilliams@bogusemail.com  560-555-5153   \n",
              "3      Corey     Jefferson  coreyjefferson@bogusemail.com  900-555-9340   \n",
              "4   Jennifer  Martin-White   jenniferwhite@bogusemail.com  714-555-7405   \n",
              "\n",
              "  Street Address         City State Zipcode  \n",
              "0    173 Main St  Springfield    RI   55924  \n",
              "1    969 High St     Atlantis    VA   34075  \n",
              "2     806 1st St     Faketown    AK   86847  \n",
              "3     826 Elm St     Epicburg    NE   10671  \n",
              "4   212 Cedar St    Sunnydale    CT   74983  "
            ]
          },
          "metadata": {
            "tags": []
          },
          "execution_count": 24
        }
      ]
    },
    {
      "metadata": {
        "id": "udWbMfZdimhT",
        "colab_type": "text"
      },
      "cell_type": "markdown",
      "source": [
        "# 3) Web Scraping + Regex + Pandas\n",
        "\n",
        "Scrape the unordered list of information about Ohio University President's salaries from this article: \n",
        "[Ohio Private University President's Salaries](https://www.cleveland.com/metro/2017/12/case_western_reserve_university_president_barbara_snyders_base_salary_and_bonus_pay_tops_among_private_colleges_in_ohio.html)\n",
        "\n",
        "Get the data from this webpage into a dataframe with the following headers:\n",
        "\n",
        "- First Name\n",
        "- Last Name\n",
        "- School\n",
        "- Salary\n",
        "\n",
        "Salary information should be stored as an integer and not have \"$\" or commas \",\"\n"
      ]
    },
    {
      "metadata": {
        "id": "cRq2bzEfjdLY",
        "colab_type": "code",
        "colab": {}
      },
      "cell_type": "code",
      "source": [
        "##### Your Code Here #####\n",
        "from bs4 import BeautifulSoup\n",
        "import requests"
      ],
      "execution_count": 0,
      "outputs": []
    },
    {
      "metadata": {
        "id": "pgWEZ9nQYw3d",
        "colab_type": "code",
        "colab": {
          "base_uri": "https://localhost:8080/",
          "height": 2117
        },
        "outputId": "62712446-2bd2-495c-e3d3-282666305ce1"
      },
      "cell_type": "code",
      "source": [
        "page_to_scrape = 'https://www.cleveland.com/metro/2017/12/case_western_reserve_university_president_barbara_snyders_base_salary_and_bonus_pay_tops_among_private_colleges_in_ohio.html'\n",
        "\n",
        "# This makes a request to the page just as if we were navigating\n",
        "# to that page in the browser\n",
        "page = requests.get(page_to_scrape)\n",
        "\n",
        "# The \"soup\" is the parsed html of a webpage.\n",
        "soup = BeautifulSoup(page.text, 'html.parser')\n",
        "print(soup)"
      ],
      "execution_count": 26,
      "outputs": [
        {
          "output_type": "stream",
          "text": [
            "<!DOCTYPE doctype html>\n",
            " <html lang=\"en-US\" xmlns:fb=\"http://www.facebook.com/2008/fbml\" xmlns:og=\"http://ogp.me/ns#\"> <head> <script>window.serviceCallbacks=[];window.region_redirect_url=\"\";if(window.location.href===window.region_redirect_url&&typeof Storage!==\"undefined\"){var region=window.localStorage.getItem(\"region-item\");if(region)window.location.replace(window.region_redirect_url+region)};</script> <title>Case Western Reserve University President Barbara Snyder's base salary and bonus pay tops among private colleges in Ohio - cleveland.com</title> <meta content=\"Case Western Reserve University President Barbara Snyder's $700,312 base pay and $175,000 bonus in 2015 again made her the highest paid private college leader in Ohio, according to an annual report.\" name=\"Description\"/> <meta charset=\"utf-8\"/> <meta content=\"IE=edge,chrome=1\" http-equiv=\"X-UA-Compatible\"/> <meta content=\"width=device-width, initial-scale=1, minimum-scale=1\" name=\"viewport\"/> <meta content=\"100000302287435\" property=\"fb:admins\"/> <meta content=\"125188170846713\" property=\"fb:app_id\"/> <link href=\"https://www.cleveland.com/metro/2017/12/case_western_reserve_university_president_barbara_snyders_base_salary_and_bonus_pay_tops_among_private_colleges_in_ohio.html?outputType=amp\" rel=\"amphtml\"/> <meta content=\"Case Western Reserve University President Barbara Snyder's base salary and bonus pay tops among private colleges in Ohio \" name=\"title\"/> <meta content=\"Case Western Reserve University President Barbara Snyder's base salary and bonus pay tops among private colleges in Ohio \" property=\"og:title\"/> <meta content=\"Case Western Reserve University President Barbara Snyder's $700,312 base pay and $175,000 bonus in 2015 again made her the highest paid private college leader in Ohio, according to an annual report.\" property=\"og:description\"/> <meta content=\"https://www.cleveland.com/metro/2017/12/case_western_reserve_university_president_barbara_snyders_base_salary_and_bonus_pay_tops_among_private_colleges_in_ohio.html\" property=\"og:url\"/> <meta content=\"cleveland.com\" property=\"og:site_name\"/> <meta content=\"https://www.cleveland.com/resizer/TGNM8-loeSZuDhjhqhthGsqgpTQ=/1200x0/advancelocal-adapter-image-uploads.s3.amazonaws.com/image.cleveland.com/home/cleve-media/width2048/img/plain_dealer_metro/photo/cwrus-snyder-tops-pay-scale-highest-paid-of-ohio-private-college-chiefs-at-over-1m-yearly-581ba32ba99d75e9.jpg\" property=\"og:image\"/> <meta content=\"1200\" property=\"og:image:width\"/> <meta content=\"article\" property=\"og:type\"/> <meta content=\"2017-12-11T02:00:00.000Z\" property=\"article:published_time\"/> <meta content=\"2017-12-11T03:00:00.000Z\" property=\"article:modified_time\"/> <meta content=\"Karen Farkas\" property=\"article:author\"/> <meta content=\"Metro, News\" property=\"article:section\"/> <meta content=\"@fbia, @real-time-news, baldwin-wallace-university, barbara-snyder, case-western-reserve-university, john-carroll-university, oberlin-college\" property=\"article:tag\"/> <meta content=\"summary_large_image\" name=\"twitter:card\"/> <meta content=\"Case Western Reserve University President Barbara Snyder's $700,312 base pay and $175,000 bonus in 2015 again made her the highest paid private college leader in Ohio, according to an annual report.\" name=\"twitter:description\"/> <meta content=\"https://www.cleveland.com/resizer/TGNM8-loeSZuDhjhqhthGsqgpTQ=/1200x0/advancelocal-adapter-image-uploads.s3.amazonaws.com/image.cleveland.com/home/cleve-media/width2048/img/plain_dealer_metro/photo/cwrus-snyder-tops-pay-scale-highest-paid-of-ohio-private-college-chiefs-at-over-1m-yearly-581ba32ba99d75e9.jpg\" name=\"twitter:image\"/> <meta content=\"Case Western Reserve University President Barbara Snyder's base salary and bonus pay tops among private colleges in Ohio \" name=\"twitter:title\"/> <meta content=\"@clevelanddotcom\" name=\"twitter:site\"/> <meta content=\"@karen_farkas\" name=\"twitter:creator\"/> <meta content=\"cleveland.com\" name=\"article_publication_name\"/> <meta content=\"Case Western Reserve University President Barbara Snyder's base salary and bonus pay tops among private colleges in Ohio \" name=\"title\"/> <meta content=\"Karen Farkas | \" name=\"article_author\"/> <meta content=\"Sunday, December 10, 2017, 10:00 PM\" name=\"article_date_original\"/> <meta content=\"Sunday, December 10, 2017, 11:00 PM\" name=\"article_date_updated\"/> <link href=\"https://www.cleveland.com/resizer/TGNM8-loeSZuDhjhqhthGsqgpTQ=/1200x0/advancelocal-adapter-image-uploads.s3.amazonaws.com/image.cleveland.com/home/cleve-media/width2048/img/plain_dealer_metro/photo/cwrus-snyder-tops-pay-scale-highest-paid-of-ohio-private-college-chiefs-at-over-1m-yearly-581ba32ba99d75e9.jpg\" rel=\"image_src\"/> <script type=\"application/ld+json\">\n",
            "        {\n",
            "            \"@context\": \"http://schema.org\",\n",
            "            \"@type\": \"NewsArticle\",\n",
            "            \"mainEntityOfPage\": {\n",
            "                \"@type\": \"WebPage\",\n",
            "                \"@id\": \"https://www.cleveland.com/metro/2017/12/case_western_reserve_university_president_barbara_snyders_base_salary_and_bonus_pay_tops_among_private_colleges_in_ohio.html\"\n",
            "            },\n",
            "            \"headline\": \"Case Western Reserve University President Barbara Snyder's base salary and bonus pay tops among private colleges in Ohio \",\n",
            "            \"url\": \"https://www.cleveland.com/metro/2017/12/case_western_reserve_university_president_barbara_snyders_base_salary_and_bonus_pay_tops_among_private_colleges_in_ohio.html\",\n",
            "            \"thumbnailUrl\": \"https://www.cleveland.com/resizer/TGNM8-loeSZuDhjhqhthGsqgpTQ=/1200x0/advancelocal-adapter-image-uploads.s3.amazonaws.com/image.cleveland.com/home/cleve-media/width2048/img/plain_dealer_metro/photo/cwrus-snyder-tops-pay-scale-highest-paid-of-ohio-private-college-chiefs-at-over-1m-yearly-581ba32ba99d75e9.jpg\",\n",
            "            \"image\": \"https://www.cleveland.com/resizer/TGNM8-loeSZuDhjhqhthGsqgpTQ=/1200x0/advancelocal-adapter-image-uploads.s3.amazonaws.com/image.cleveland.com/home/cleve-media/width2048/img/plain_dealer_metro/photo/cwrus-snyder-tops-pay-scale-highest-paid-of-ohio-private-college-chiefs-at-over-1m-yearly-581ba32ba99d75e9.jpg\",\n",
            "            \"dateCreated\": \"2017-12-11T02:00:00.000Z\",\n",
            "            \"datePublished\": \"2017-12-11T02:00:00.000Z\",\n",
            "            \"dateModified\": \"2017-12-11T03:00:00.000Z\",\n",
            "            \"publisher\": {\n",
            "                \"@type\": \"Organization\",\n",
            "                \"name\": \"cleveland.com\",\n",
            "                \"logo\": {\n",
            "                    \"@type\": \"ImageObject\",\n",
            "                    \"url\": \"https://static.advance.net/static/cleve/static/img/logos/logo_main.png\"\n",
            "                }\n",
            "            },\n",
            "            \"creator\": [{\n",
            "            \"@type\": \"Person\",\n",
            "            \"name\": \"Karen Farkas, cleveland.com\",\n",
            "            \"email\": \"\"\n",
            "        }],\n",
            "            \"author\": [{\n",
            "            \"@type\": \"Person\",\n",
            "            \"name\": \"Karen Farkas, cleveland.com\",\n",
            "            \"email\": \"\"\n",
            "        }],\n",
            "            \"keywords\": [\"@fbia\",\n",
            "    \n",
            "        \"@real-time-news\",\n",
            "    \n",
            "        \"baldwin-wallace-university\",\n",
            "    \n",
            "        \"barbara-snyder\",\n",
            "    \n",
            "        \"case-western-reserve-university\",\n",
            "    \n",
            "        \"john-carroll-university\",\n",
            "    \n",
            "        \"oberlin-college\"],\n",
            "            \"articleSection\": \"News\",\n",
            "            \"metadata\": {\n",
            "                \"blog_id\": \"/metro\",\n",
            "                \"entry_id\": \"21622286\",\n",
            "                \"short_title\": \"Case Western Reserve University President Barbara Snyder's base salary and bonus pay tops among private colleges in Ohio \",\n",
            "                \n",
            "                \"image_url\": \"https://www.cleveland.com/resizer/TGNM8-loeSZuDhjhqhthGsqgpTQ=/1200x0/advancelocal-adapter-image-uploads.s3.amazonaws.com/image.cleveland.com/home/cleve-media/width2048/img/plain_dealer_metro/photo/cwrus-snyder-tops-pay-scale-highest-paid-of-ohio-private-college-chiefs-at-over-1m-yearly-581ba32ba99d75e9.jpg\",\n",
            "                \n",
            "                \"author_name\": \"\",\n",
            "                \"author_nickname\": \"\",\n",
            "                \"source_blog_name\": \"Metro\",\n",
            "                \"source_blog_url\": \"https://www.cleveland.com/metro/\",\n",
            "                \"sponsored_content\": \"0\",\n",
            "                \"ampurl\": \"https://www.cleveland.com/metro/2017/12/case_western_reserve_university_president_barbara_snyders_base_salary_and_bonus_pay_tops_among_private_colleges_in_ohio.html?outputType=amp\"\n",
            "            }\n",
            "        }\n",
            "    </script> <script>\n",
            "    window.adiData = {\n",
            "        preview: false,\n",
            "        affiliate: 'cleveland',\n",
            "        environment: 'prod',\n",
            "        pageType: 'cal',\n",
            "        siteSection: 'News',\n",
            "        rgProduct: 'cal',\n",
            "        entryUrl: 'https://www.cleveland.com/metro/2017/12/case_western_reserve_university_president_barbara_snyders_base_salary_and_bonus_pay_tops_among_private_colleges_in_ohio.html',\n",
            "        \n",
            "        entryHeadline: 'Case Western Reserve University President Barbara Snyder’s base salary and bonus pay tops among private colleges in Ohio',\n",
            "        entryDescription: 'Case Western Reserve University President Barbara Snyder’s $700,312 base pay and $175,000 bonus in 2015 again made her the highest paid  private college leader in Ohio, according to an annual report.',\n",
            "        entryAuthorUsername: 'kfarkas',\n",
            "        entryDateOriginal: '2017-12-11T03:00:00Z',\n",
            "        entryDateUpdated: '2017-12-11T04:00:00Z',\n",
            "        \n",
            "        entryTags: '@fbia;@real-time-news;baldwin-wallace-university;barbara-snyder;case-western-reserve-university;john-carroll-university;oberlin-college',\n",
            "        entryId: '21622286',\n",
            "        entryDepth: '1',\n",
            "        blogName: 'Metro',\n",
            "        blogId: 'metro',\n",
            "        \n",
            "        arcEntryId: 'A2EQWKKGO5HHZLWG4H7LR5H5VU',\n",
            "        \n",
            "    };\n",
            "    window.adiData.preview = window.location.host.match(/localhost|arcpublishing/) ? true : false;\n",
            "    if (\n",
            "        window.location.href === 'https://www.gulflive.com/' ||\n",
            "        window.location.href === 'https://www-uat.gulflive.com/' ||\n",
            "        window.location.href === 'https://www.mardigras.com/' ||\n",
            "        window.location.href === 'https://www-uat.mardigras.com/'\n",
            "    ) {\n",
            "        window.adiData.siteSection = 'Home Page';\n",
            "    }\n",
            "    window.dataLayer = window.dataLayer || [];\n",
            "    window.dataLayer.push(window.adiData);\n",
            "</script> <script>(function(w,d,s,l,i){w[l]=w[l]||[];w[l].push({\"gtm.start\":(new Date).getTime(),event:\"gtm.js\"});var f=d.getElementsByTagName(s)[0],j=d.createElement(s),dl=l!=\"dataLayer\"?\"\\x26l\\x3d\"+l:\"\";j.async=true;j.src=\"https://www.googletagmanager.com/gtm.js?id\\x3d\"+i+dl;f.parentNode.insertBefore(j,f)})(window,document,\"script\",\"dataLayer\",\"GTM-5FH8H3G\");</script> <link href=\"https://www.cleveland.com/pb/resources/dist/cleveland/images/favicon.ico\" rel=\"icon\" type=\"image/x-icon\"/> <link href=\"https://www.cleveland.com/pb/resources/dist/cleveland/images/favicon.ico\" rel=\"shortcut icon\" type=\"image/x-icon\"/> <link href=\"//media.cleveland.com\" rel=\"dns-prefetch\"> <link href=\"https://www.cleveland.com/pb/resources/dist/cleveland/css/default6b257cc88a13bd4ace99.css\" rel=\"stylesheet\"> <script>!function(e,f,u,i){if(!document.getElementById(i)){e.async=1;e.src=u;e.id=i;e.onload=function(){window._taboola.push({article:\"auto\",url:\"https://www.cleveland.com/metro/2017/12/case_western_reserve_university_president_barbara_snyders_base_salary_and_bonus_pay_tops_among_private_colleges_in_ohio.html\"})};f.parentNode.insertBefore(e,f)}}(document.createElement(\"script\"),document.getElementsByTagName(\"script\")[0],\"https://cdn.taboola.com/libtrc/advance-network/loader.js\",\"tb_loader_script\");</script> </link></link></head> <body class=\"body__cleveland pageType__article\" data-affiliate=\"cleveland\" data-page-type=\"article\"> <div class=\"skipTo\"> <a class=\"skipTo__link\" href=\"#main\">Skip to Article</a> </div> <div class=\"toprail\" id=\"toprail\"> <div class=\"pb-container\"> </div> <header class=\"advtoprail\" data-sticky=\"true\"> <div class=\"advtoprail__left-corner\"> <div class=\"advtoprail__mainmenu\"> <nav class=\"advtoprail__mainmenu-nav\"> <button aria-expanded=\"false\" aria-label=\"Open the Main Navigation\" class=\"advtoprail__mainmenu-button js-button-masthead\" data-buttonname=\"main\"> <span class=\"advtoprail__mainmenu-button-icon\"></span> <span class=\"advtoprail__mainmenu-button-label\" id=\"mainmenu-label\">Menu</span> </button> <div aria-expanded=\"false\" aria-hidden=\"true\" aria-labelledby=\"mainmenu_label\" class=\"advtoprail__dropdown js-dropdown js-dropdown-main\" role=\"navigation\"> <div class=\"advtoprail__menuborderarrow\"></div> <div class=\"advtoprail__dropdown-outer js-mainmenu\"> <div class=\"advtoprail__dropdown-inner js-mainmenu-list\"> <ul class=\"advtoprail__mainmenu-menulist\"> <li class=\"advtoprail__mainmenu-menuitem js-mainmenu-item\"> <a class=\"advtoprail__mainmenu-menuitem-link js-mainmenu-link\" href=\"https://www.cleveland.com/\">Home</a> </li> <li class=\"advtoprail__mainmenu-menuitem--mobile\"> <button aria-expanded=\"false\" aria-label=\"Weather\" class=\"advtoprail__weather-button js-button-weather-mobile\"> <span class=\"advtoprail__weather-conditions js-weather-conditions\"> <span class=\"advtoprail__weather-title--menu js-weather-location\"></span> <span class=\"advtoprail__weather-temperature js-weather-temperature\"></span> </span> </button> </li> <li class=\"advtoprail__mainmenu-menuitem js-expandable\"> <a class=\"advtoprail__mainmenu-menuitem-link js-mainmenu-link\" href=\"https://www.cleveland.com/news/\">News</a> <button aria-expanded=\"false\" aria-label=\"Open the News submenu\" class=\"advtoprail__button-submenu js-button-mainmenu\"> <span class=\"advtoprail__button-submenu--open\">›</span> <span class=\"advtoprail__button-submenu--close\">‹</span> </button> <ul class=\"advtoprail__mainmenu-menulist--submenu js-submenu\"> <li class=\"advtoprail__mainmenu-menuitem--submenu-backtomain\"> <button class=\"advtoprail__button-mobile-backtomain js-button-backtomain\"> <span class=\"advtoprail__button-icon--backmm\"></span> <span class=\"advtoprail__button-label--backmm\">Back To Main Menu</span> </button> </li> <li class=\"advtoprail__mainmenu-menuitem--submenu js-menuitem-submenu \"> <a class=\"advtoprail__mainmenu-menuitem-link js-mainmenu-link\" href=\"https://www.cleveland.com/metro/\">Metro</a> </li> <li class=\"advtoprail__mainmenu-menuitem--submenu js-menuitem-submenu\"> <a class=\"advtoprail__mainmenu-menuitem-link js-mainmenu-link\" href=\"http://www.cleveland.com/akron\">Akron News</a> </li> <li class=\"advtoprail__mainmenu-menuitem--submenu js-menuitem-submenu \"> <a class=\"advtoprail__mainmenu-menuitem-link js-mainmenu-link\" href=\"https://www.cleveland.com/plaindealer/\">The Plain Dealer</a> </li> <li class=\"advtoprail__mainmenu-menuitem--submenu js-menuitem-submenu \"> <a class=\"advtoprail__mainmenu-menuitem-link js-mainmenu-link\" href=\"https://www.cleveland.com/weather/\">Weather</a> </li> <li class=\"advtoprail__mainmenu-menuitem--submenu js-menuitem-submenu \"> <a class=\"advtoprail__mainmenu-menuitem-link js-mainmenu-link\" href=\"https://www.cleveland.com/healthfit/\">Health &amp; Medical</a> </li> <li class=\"advtoprail__mainmenu-menuitem--submenu js-menuitem-submenu \"> <a class=\"advtoprail__mainmenu-menuitem-link js-mainmenu-link\" href=\"https://www.cleveland.com/crime/\">Crime</a> </li> <li class=\"advtoprail__mainmenu-menuitem--submenu js-menuitem-submenu \"> <a class=\"advtoprail__mainmenu-menuitem-link js-mainmenu-link\" href=\"https://www.cleveland.com/datacentral/\">Data Central</a> </li> <li class=\"advtoprail__mainmenu-menuitem--submenu js-menuitem-submenu js-expandable\"> <a class=\"advtoprail__mainmenu-menuitem-link js-mainmenu-link\" href=\"https://www.cleveland.com/columns/\">Columnists</a> <button aria-expanded=\"false\" aria-label=\"Open the Columnists submenu\" class=\"advtoprail__button-submenu js-button-mainmenu\"> <span class=\"advtoprail__button-submenu--open\">›</span> <span class=\"advtoprail__button-submenu--close\">‹</span> </button> <ul class=\"advtoprail__mainmenu-menulist--subsubmenu js-submenu\"> <li class=\"advtoprail__mainmenu-menuitem--submenu-backtomain\"> <button class=\"advtoprail__button-mobile-backtomain js-button-backtomain\"> <span class=\"advtoprail__button-icon--backmm\"></span> <span class=\"advtoprail__button-label--backmm\">Back To Main Menu</span> </button> </li> <li class=\"advtoprail__mainmenu-menuitem--submenu js-menuitem-submenu\"> <a class=\"advtoprail__mainmenu-menuitem-link js-mainmenu-link\" href=\"https://www.cleveland.com/naymik/\">Mark Naymik</a> </li> <li class=\"advtoprail__mainmenu-menuitem--submenu js-menuitem-submenu\"> <a class=\"advtoprail__mainmenu-menuitem-link js-mainmenu-link\" href=\"https://www.cleveland.com/tipoff/\">Michael McIntyre</a> </li> <li class=\"advtoprail__mainmenu-menuitem--submenu js-menuitem-submenu\"> <a class=\"advtoprail__mainmenu-menuitem-link js-mainmenu-link\" href=\"https://www.cleveland.com/morris/\">Phillip Morris</a> </li> </ul> </li> <li class=\"advtoprail__mainmenu-menuitem--submenu js-menuitem-submenu \"> <a class=\"advtoprail__mainmenu-menuitem-link js-mainmenu-link\" href=\"https://www.cleveland.com/court-justice/\">Courts</a> </li> <li class=\"advtoprail__mainmenu-menuitem--submenu js-menuitem-submenu \"> <a class=\"advtoprail__mainmenu-menuitem-link js-mainmenu-link\" href=\"https://www.cleveland.com/nation/\">Nation</a> </li> <li class=\"advtoprail__mainmenu-menuitem--submenu js-menuitem-submenu \"> <a class=\"advtoprail__mainmenu-menuitem-link js-mainmenu-link\" href=\"https://www.cleveland.com/world/\">World</a> </li> <li class=\"advtoprail__mainmenu-menuitem--submenu js-menuitem-submenu js-expandable\"> <a class=\"advtoprail__mainmenu-menuitem-link js-mainmenu-link\" href=\"https://www.cleveland.com\">Special Reports</a> <button aria-expanded=\"false\" aria-label=\"Open the Special Reports submenu\" class=\"advtoprail__button-submenu js-button-mainmenu\"> <span class=\"advtoprail__button-submenu--open\">›</span> <span class=\"advtoprail__button-submenu--close\">‹</span> </button> <ul class=\"advtoprail__mainmenu-menulist--subsubmenu js-submenu\"> <li class=\"advtoprail__mainmenu-menuitem--submenu-backtomain\"> <button class=\"advtoprail__button-mobile-backtomain js-button-backtomain\"> <span class=\"advtoprail__button-icon--backmm\"></span> <span class=\"advtoprail__button-label--backmm\">Back To Main Menu</span> </button> </li> <li class=\"advtoprail__mainmenu-menuitem--submenu js-menuitem-submenu\"> <a class=\"advtoprail__mainmenu-menuitem-link js-mainmenu-link\" href=\"https://www.cleveland.com/a-greater-cleveland/\">A Greater Cleveland</a> </li> <li class=\"advtoprail__mainmenu-menuitem--submenu js-menuitem-submenu\"> <a class=\"advtoprail__mainmenu-menuitem-link js-mainmenu-link\" href=\"http://www.cleveland.com/metro/index.ssf/page/a_critical_choice_plain_dealer_1.html\">A Critical Choice: Nursing home care</a> </li> <li class=\"advtoprail__mainmenu-menuitem--submenu js-menuitem-submenu\"> <a class=\"advtoprail__mainmenu-menuitem-link js-mainmenu-link\" href=\"http://www.cleveland.com/metro/index.ssf/page/court_costs_in_northeast_ohio.html\">At Any (Court) Cost</a> </li> <li class=\"advtoprail__mainmenu-menuitem--submenu js-menuitem-submenu\"> <a class=\"advtoprail__mainmenu-menuitem-link js-mainmenu-link\" href=\"http://www.cleveland.com/metro/index.ssf/page/clevelands_bike_life.html\">Cleveland’s Bike Life</a> </li> <li class=\"advtoprail__mainmenu-menuitem--submenu js-menuitem-submenu\"> <a class=\"advtoprail__mainmenu-menuitem-link js-mainmenu-link\" href=\"http://www.cleveland.com/metro/index.ssf/page/dear_cleveland.html\">Dear Cleveland</a> </li> <li class=\"advtoprail__mainmenu-menuitem--submenu js-menuitem-submenu\"> <a class=\"advtoprail__mainmenu-menuitem-link js-mainmenu-link\" href=\"http://www.cleveland.com/crime/index.ssf/page/heroin.html\">Heroins Human Toll</a> </li> <li class=\"advtoprail__mainmenu-menuitem--submenu js-menuitem-submenu\"> <a class=\"advtoprail__mainmenu-menuitem-link js-mainmenu-link\" href=\"http://www.cleveland.com/metro/index.ssf/page/justice_for_all_bail_reform_in.html\">Justice for All: Bail reform</a> </li> <li class=\"advtoprail__mainmenu-menuitem--submenu js-menuitem-submenu\"> <a class=\"advtoprail__mainmenu-menuitem-link js-mainmenu-link\" href=\"https://www.cleveland.com/knowtherx/\">Know the RX: Opioid addiction resources</a> </li> <li class=\"advtoprail__mainmenu-menuitem--submenu js-menuitem-submenu\"> <a class=\"advtoprail__mainmenu-menuitem-link js-mainmenu-link\" href=\"https://www.cleveland.com/out-of-line/\">Out of Line: Gerrymandering in Ohio</a> </li> <li class=\"advtoprail__mainmenu-menuitem--submenu js-menuitem-submenu\"> <a class=\"advtoprail__mainmenu-menuitem-link js-mainmenu-link\" href=\"http://www.cleveland.com/metro/index.ssf/page/recovering_hope.html\">Recovering Hope</a> </li> <li class=\"advtoprail__mainmenu-menuitem--submenu js-menuitem-submenu\"> <a class=\"advtoprail__mainmenu-menuitem-link js-mainmenu-link\" href=\"http://www.cleveland.com/cavs/index.ssf/page/remaking_the_q.html\">Remaking The Q</a> </li> <li class=\"advtoprail__mainmenu-menuitem--submenu js-menuitem-submenu\"> <a class=\"advtoprail__mainmenu-menuitem-link js-mainmenu-link\" href=\"http://www.cleveland.com/crime/index.ssf/page/stolen_in_the_suburbs_auto_the.html\">Stolen in the Suburbs</a> </li> </ul> </li> <li class=\"advtoprail__mainmenu-menuitem--submenu js-menuitem-submenu \"> <a class=\"advtoprail__mainmenu-menuitem-link js-mainmenu-link\" href=\"https://www.cleveland.com/city-club/\">City Club of Cleveland</a> </li> </ul></li> <li class=\"advtoprail__mainmenu-menuitem js-expandable\"> <a class=\"advtoprail__mainmenu-menuitem-link js-mainmenu-link\" href=\"https://www.cleveland.com/politics/\">National Politics &amp; Elections</a> <button aria-expanded=\"false\" aria-label=\"Open the National Politics &amp; Elections submenu\" class=\"advtoprail__button-submenu js-button-mainmenu\"> <span class=\"advtoprail__button-submenu--open\">›</span> <span class=\"advtoprail__button-submenu--close\">‹</span> </button> <ul class=\"advtoprail__mainmenu-menulist--submenu js-submenu\"> <li class=\"advtoprail__mainmenu-menuitem--submenu-backtomain\"> <button class=\"advtoprail__button-mobile-backtomain js-button-backtomain\"> <span class=\"advtoprail__button-icon--backmm\"></span> <span class=\"advtoprail__button-label--backmm\">Back To Main Menu</span> </button> </li> <li class=\"advtoprail__mainmenu-menuitem--submenu js-menuitem-submenu \"> <a class=\"advtoprail__mainmenu-menuitem-link js-mainmenu-link\" href=\"https://www.cleveland.com/open/\">State Politics</a> </li> <li class=\"advtoprail__mainmenu-menuitem--submenu js-menuitem-submenu\"> <a class=\"advtoprail__mainmenu-menuitem-link js-mainmenu-link\" href=\"http://www.cleveland.com/politics/\">National Politics &amp; Elections</a> </li> <li class=\"advtoprail__mainmenu-menuitem--submenu js-menuitem-submenu \"> <a class=\"advtoprail__mainmenu-menuitem-link js-mainmenu-link\" href=\"https://www.cleveland.com/cityhall/\">Cleveland City Hall</a> </li> <li class=\"advtoprail__mainmenu-menuitem--submenu js-menuitem-submenu \"> <a class=\"advtoprail__mainmenu-menuitem-link js-mainmenu-link\" href=\"https://www.cleveland.com/cuyahoga-county/\">Cuyahoga County Insider</a> </li> <li class=\"advtoprail__mainmenu-menuitem--submenu js-menuitem-submenu\"> <a class=\"advtoprail__mainmenu-menuitem-link js-mainmenu-link\" href=\"https://www.cleveland.com/out-of-line/\">Out of Line: Gerrymandering in Ohio</a> </li> <li class=\"advtoprail__mainmenu-menuitem--submenu js-menuitem-submenu\"> <a class=\"advtoprail__mainmenu-menuitem-link js-mainmenu-link\" href=\"http://www.cleveland.com/politics/index.ssf/page/ohio_matters_redesign_politica.html\">Special Report: Ohio Matters</a> </li> </ul></li> <li class=\"advtoprail__mainmenu-menuitem js-expandable\"> <a class=\"advtoprail__mainmenu-menuitem-link js-mainmenu-link\" href=\"https://www.cleveland.com/community/\">Local News</a> <button aria-expanded=\"false\" aria-label=\"Open the Local News submenu\" class=\"advtoprail__button-submenu js-button-mainmenu\"> <span class=\"advtoprail__button-submenu--open\">›</span> <span class=\"advtoprail__button-submenu--close\">‹</span> </button> <ul class=\"advtoprail__mainmenu-menulist--submenu js-submenu\"> <li class=\"advtoprail__mainmenu-menuitem--submenu-backtomain\"> <button class=\"advtoprail__button-mobile-backtomain js-button-backtomain\"> <span class=\"advtoprail__button-icon--backmm\"></span> <span class=\"advtoprail__button-label--backmm\">Back To Main Menu</span> </button> </li> <li class=\"advtoprail__mainmenu-menuitem--submenu js-menuitem-submenu \"> <a class=\"advtoprail__mainmenu-menuitem-link js-mainmenu-link\" href=\"https://www.cleveland.com/akron/\">Akron</a> </li> <li class=\"advtoprail__mainmenu-menuitem--submenu js-menuitem-submenu \"> <a class=\"advtoprail__mainmenu-menuitem-link js-mainmenu-link\" href=\"https://www.cleveland.com/beachwood/\">Beachwood</a> </li> <li class=\"advtoprail__mainmenu-menuitem--submenu js-menuitem-submenu \"> <a class=\"advtoprail__mainmenu-menuitem-link js-mainmenu-link\" href=\"https://www.cleveland.com/berea/\">Berea</a> </li> <li class=\"advtoprail__mainmenu-menuitem--submenu js-menuitem-submenu \"> <a class=\"advtoprail__mainmenu-menuitem-link js-mainmenu-link\" href=\"https://www.cleveland.com/brecksville/\">Brecksville</a> </li> <li class=\"advtoprail__mainmenu-menuitem--submenu js-menuitem-submenu \"> <a class=\"advtoprail__mainmenu-menuitem-link js-mainmenu-link\" href=\"https://www.cleveland.com/brunswick/\">Brunswick</a> </li> <li class=\"advtoprail__mainmenu-menuitem--submenu js-menuitem-submenu \"> <a class=\"advtoprail__mainmenu-menuitem-link js-mainmenu-link\" href=\"https://www.cleveland.com/chagrin-falls/\">Chagrin Falls</a> </li> <li class=\"advtoprail__mainmenu-menuitem--submenu js-menuitem-submenu \"> <a class=\"advtoprail__mainmenu-menuitem-link js-mainmenu-link\" href=\"https://www.cleveland.com/cleveland-heights/\">Cleveland Heights</a> </li> <li class=\"advtoprail__mainmenu-menuitem--submenu js-menuitem-submenu \"> <a class=\"advtoprail__mainmenu-menuitem-link js-mainmenu-link\" href=\"https://www.cleveland.com/hillcrest/\">Hillcrest</a> </li> <li class=\"advtoprail__mainmenu-menuitem--submenu js-menuitem-submenu \"> <a class=\"advtoprail__mainmenu-menuitem-link js-mainmenu-link\" href=\"https://www.cleveland.com/lakewood/\">Lakewood</a> </li> <li class=\"advtoprail__mainmenu-menuitem--submenu js-menuitem-submenu \"> <a class=\"advtoprail__mainmenu-menuitem-link js-mainmenu-link\" href=\"https://www.cleveland.com/lyndhurst-south-euclid/\">Lyndhurst-South Euclid</a> </li> <li class=\"advtoprail__mainmenu-menuitem--submenu js-menuitem-submenu \"> <a class=\"advtoprail__mainmenu-menuitem-link js-mainmenu-link\" href=\"https://www.cleveland.com/medina/\">Medina</a> </li> <li class=\"advtoprail__mainmenu-menuitem--submenu js-menuitem-submenu \"> <a class=\"advtoprail__mainmenu-menuitem-link js-mainmenu-link\" href=\"https://www.cleveland.com/parma/\">Parma</a> </li> <li class=\"advtoprail__mainmenu-menuitem--submenu js-menuitem-submenu \"> <a class=\"advtoprail__mainmenu-menuitem-link js-mainmenu-link\" href=\"https://www.cleveland.com/shaker-heights/\">Shaker Heights</a> </li> <li class=\"advtoprail__mainmenu-menuitem--submenu js-menuitem-submenu \"> <a class=\"advtoprail__mainmenu-menuitem-link js-mainmenu-link\" href=\"https://www.cleveland.com/solon/\">Solon</a> </li> <li class=\"advtoprail__mainmenu-menuitem--submenu js-menuitem-submenu \"> <a class=\"advtoprail__mainmenu-menuitem-link js-mainmenu-link\" href=\"https://www.cleveland.com/strongsville/\">Strongsville</a> </li> <li class=\"advtoprail__mainmenu-menuitem--submenu js-menuitem-submenu \"> <a class=\"advtoprail__mainmenu-menuitem-link js-mainmenu-link\" href=\"https://www.cleveland.com/westlake/\">Westlake</a> </li> <li class=\"advtoprail__mainmenu-menuitem--submenu js-menuitem-submenu\"> <a class=\"advtoprail__mainmenu-menuitem-link js-mainmenu-link\" href=\"http://www.cleveland.com/sunnews/index.ssf/2013/01/read_the_news_from_east_and_so.html\">More East Side</a> </li> <li class=\"advtoprail__mainmenu-menuitem--submenu js-menuitem-submenu\"> <a class=\"advtoprail__mainmenu-menuitem-link js-mainmenu-link\" href=\"http://www.cleveland.com/sunnews/index.ssf/2013/01/read_the_news_from_west_and_so.html\">More West Side</a> </li> </ul></li> <li class=\"advtoprail__mainmenu-menuitem js-expandable\"> <a class=\"advtoprail__mainmenu-menuitem-link js-mainmenu-link\" href=\"https://www.cleveland.com/opinion/\">Opinion</a> <button aria-expanded=\"false\" aria-label=\"Open the Opinion submenu\" class=\"advtoprail__button-submenu js-button-mainmenu\"> <span class=\"advtoprail__button-submenu--open\">›</span> <span class=\"advtoprail__button-submenu--close\">‹</span> </button> <ul class=\"advtoprail__mainmenu-menulist--submenu js-submenu\"> <li class=\"advtoprail__mainmenu-menuitem--submenu-backtomain\"> <button class=\"advtoprail__button-mobile-backtomain js-button-backtomain\"> <span class=\"advtoprail__button-icon--backmm\"></span> <span class=\"advtoprail__button-label--backmm\">Back To Main Menu</span> </button> </li> <li class=\"advtoprail__mainmenu-menuitem--submenu js-menuitem-submenu \"> <a class=\"advtoprail__mainmenu-menuitem-link js-mainmenu-link\" href=\"https://www.cleveland.com/letters/\">Letters to the Editor</a> </li> <li class=\"advtoprail__mainmenu-menuitem--submenu js-menuitem-submenu \"> <a class=\"advtoprail__mainmenu-menuitem-link js-mainmenu-link\" href=\"https://www.cleveland.com/darcy/\">Jeff Darcy's Cartoons</a> </li> <li class=\"advtoprail__mainmenu-menuitem--submenu js-menuitem-submenu\"> <a class=\"advtoprail__mainmenu-menuitem-link js-mainmenu-link\" href=\"http://www.cleveland.com/columns/\">More columnists</a> </li> </ul></li> <li class=\"advtoprail__mainmenu-menuitem js-expandable\"> <a class=\"advtoprail__mainmenu-menuitem-link js-mainmenu-link\" href=\"https://www.cleveland.com/business/\">Business</a> <button aria-expanded=\"false\" aria-label=\"Open the Business submenu\" class=\"advtoprail__button-submenu js-button-mainmenu\"> <span class=\"advtoprail__button-submenu--open\">›</span> <span class=\"advtoprail__button-submenu--close\">‹</span> </button> <ul class=\"advtoprail__mainmenu-menulist--submenu js-submenu\"> <li class=\"advtoprail__mainmenu-menuitem--submenu-backtomain\"> <button class=\"advtoprail__button-mobile-backtomain js-button-backtomain\"> <span class=\"advtoprail__button-icon--backmm\"></span> <span class=\"advtoprail__button-label--backmm\">Back To Main Menu</span> </button> </li> <li class=\"advtoprail__mainmenu-menuitem--submenu js-menuitem-submenu \"> <a class=\"advtoprail__mainmenu-menuitem-link js-mainmenu-link\" href=\"https://www.cleveland.com/ohio-utilities/\">Energy</a> </li> <li class=\"advtoprail__mainmenu-menuitem--submenu js-menuitem-submenu \"> <a class=\"advtoprail__mainmenu-menuitem-link js-mainmenu-link\" href=\"https://www.cleveland.com/consumeraffairs/\">Consumer Affairs</a> </li> <li class=\"advtoprail__mainmenu-menuitem--submenu js-menuitem-submenu \"> <a class=\"advtoprail__mainmenu-menuitem-link js-mainmenu-link\" href=\"https://www.cleveland.com/personalfinance/\">Personal Finance</a> </li> <li class=\"advtoprail__mainmenu-menuitem--submenu js-menuitem-submenu \"> <a class=\"advtoprail__mainmenu-menuitem-link js-mainmenu-link\" href=\"https://www.cleveland.com/top-workplaces/\">Top Workplaces</a> </li> </ul></li> <li class=\"advtoprail__mainmenu-menuitem js-expandable\"> <a class=\"advtoprail__mainmenu-menuitem-link js-mainmenu-link\" href=\"https://www.cleveland.com/sports/\">Sports</a> <button aria-expanded=\"false\" aria-label=\"Open the Sports submenu\" class=\"advtoprail__button-submenu js-button-mainmenu\"> <span class=\"advtoprail__button-submenu--open\">›</span> <span class=\"advtoprail__button-submenu--close\">‹</span> </button> <ul class=\"advtoprail__mainmenu-menulist--submenu js-submenu\"> <li class=\"advtoprail__mainmenu-menuitem--submenu-backtomain\"> <button class=\"advtoprail__button-mobile-backtomain js-button-backtomain\"> <span class=\"advtoprail__button-icon--backmm\"></span> <span class=\"advtoprail__button-label--backmm\">Back To Main Menu</span> </button> </li> <li class=\"advtoprail__mainmenu-menuitem--submenu js-menuitem-submenu \"> <a class=\"advtoprail__mainmenu-menuitem-link js-mainmenu-link\" href=\"https://www.cleveland.com/browns/\">Browns</a> </li> <li class=\"advtoprail__mainmenu-menuitem--submenu js-menuitem-submenu \"> <a class=\"advtoprail__mainmenu-menuitem-link js-mainmenu-link\" href=\"https://www.cleveland.com/tribe/\">Indians</a> </li> <li class=\"advtoprail__mainmenu-menuitem--submenu js-menuitem-submenu \"> <a class=\"advtoprail__mainmenu-menuitem-link js-mainmenu-link\" href=\"https://www.cleveland.com/cavs/\">Cavaliers</a> </li> <li class=\"advtoprail__mainmenu-menuitem--submenu js-menuitem-submenu \"> <a class=\"advtoprail__mainmenu-menuitem-link js-mainmenu-link\" href=\"https://www.cleveland.com/osu/\">Ohio State</a> </li> <li class=\"advtoprail__mainmenu-menuitem--submenu js-menuitem-submenu \"> <a class=\"advtoprail__mainmenu-menuitem-link js-mainmenu-link\" href=\"https://www.cleveland.com/sports/college/\">College</a> </li> <li class=\"advtoprail__mainmenu-menuitem--submenu js-menuitem-submenu \"> <a class=\"advtoprail__mainmenu-menuitem-link js-mainmenu-link\" href=\"https://www.cleveland.com/highschoolsports/\">High School Sports</a> </li> <li class=\"advtoprail__mainmenu-menuitem--submenu js-menuitem-submenu js-expandable\"> <a class=\"advtoprail__mainmenu-menuitem-link js-mainmenu-link\" href=\"https://www.cleveland.com/sports/columns/\">Columns</a> <button aria-expanded=\"false\" aria-label=\"Open the Columns submenu\" class=\"advtoprail__button-submenu js-button-mainmenu\"> <span class=\"advtoprail__button-submenu--open\">›</span> <span class=\"advtoprail__button-submenu--close\">‹</span> </button> <ul class=\"advtoprail__mainmenu-menulist--subsubmenu js-submenu\"> <li class=\"advtoprail__mainmenu-menuitem--submenu-backtomain\"> <button class=\"advtoprail__button-mobile-backtomain js-button-backtomain\"> <span class=\"advtoprail__button-icon--backmm\"></span> <span class=\"advtoprail__button-label--backmm\">Back To Main Menu</span> </button> </li> <li class=\"advtoprail__mainmenu-menuitem--submenu js-menuitem-submenu\"> <a class=\"advtoprail__mainmenu-menuitem-link js-mainmenu-link\" href=\"http://connect.cleveland.com/staff/dlesmeri/posts.html\">Doug Lesmerises</a> </li> <li class=\"advtoprail__mainmenu-menuitem--submenu js-menuitem-submenu\"> <a class=\"advtoprail__mainmenu-menuitem-link js-mainmenu-link\" href=\"https://www.cleveland.com/pluto/\">Terry Pluto</a> </li> <li class=\"advtoprail__mainmenu-menuitem--submenu js-menuitem-submenu\"> <a class=\"advtoprail__mainmenu-menuitem-link js-mainmenu-link\" href=\"http://connect.cleveland.com/staff/dmanolof/posts.html\">Dennis Manoloff</a> </li> </ul> </li> <li class=\"advtoprail__mainmenu-menuitem--submenu js-menuitem-submenu \"> <a class=\"advtoprail__mainmenu-menuitem-link js-mainmenu-link\" href=\"https://www.cleveland.com/monsters/\">Monsters</a> </li> <li class=\"advtoprail__mainmenu-menuitem--submenu js-menuitem-submenu \"> <a class=\"advtoprail__mainmenu-menuitem-link js-mainmenu-link\" href=\"https://www.cleveland.com/golf/\">Golf</a> </li> <li class=\"advtoprail__mainmenu-menuitem--submenu js-menuitem-submenu \"> <a class=\"advtoprail__mainmenu-menuitem-link js-mainmenu-link\" href=\"https://www.cleveland.com/horseracing/\">Horse Racing</a> </li> <li class=\"advtoprail__mainmenu-menuitem--submenu js-menuitem-submenu \"> <a class=\"advtoprail__mainmenu-menuitem-link js-mainmenu-link\" href=\"https://www.cleveland.com/outdoors/\">Outdoors</a> </li> </ul></li> <li class=\"advtoprail__mainmenu-menuitem js-expandable\"> <a class=\"advtoprail__mainmenu-menuitem-link js-mainmenu-link\" href=\"https://www.cleveland.com/entertainment/\">Entertainment</a> <button aria-expanded=\"false\" aria-label=\"Open the Entertainment submenu\" class=\"advtoprail__button-submenu js-button-mainmenu\"> <span class=\"advtoprail__button-submenu--open\">›</span> <span class=\"advtoprail__button-submenu--close\">‹</span> </button> <ul class=\"advtoprail__mainmenu-menulist--submenu js-submenu\"> <li class=\"advtoprail__mainmenu-menuitem--submenu-backtomain\"> <button class=\"advtoprail__button-mobile-backtomain js-button-backtomain\"> <span class=\"advtoprail__button-icon--backmm\"></span> <span class=\"advtoprail__button-label--backmm\">Back To Main Menu</span> </button> </li> <li class=\"advtoprail__mainmenu-menuitem--submenu js-menuitem-submenu js-expandable\"> <a class=\"advtoprail__mainmenu-menuitem-link js-mainmenu-link\" href=\"https://www.cleveland.com/food/\">Food/Dining</a> <button aria-expanded=\"false\" aria-label=\"Open the Food/Dining submenu\" class=\"advtoprail__button-submenu js-button-mainmenu\"> <span class=\"advtoprail__button-submenu--open\">›</span> <span class=\"advtoprail__button-submenu--close\">‹</span> </button> <ul class=\"advtoprail__mainmenu-menulist--subsubmenu js-submenu\"> <li class=\"advtoprail__mainmenu-menuitem--submenu-backtomain\"> <button class=\"advtoprail__button-mobile-backtomain js-button-backtomain\"> <span class=\"advtoprail__button-icon--backmm\"></span> <span class=\"advtoprail__button-label--backmm\">Back To Main Menu</span> </button> </li> <li class=\"advtoprail__mainmenu-menuitem--submenu js-menuitem-submenu\"> <a class=\"advtoprail__mainmenu-menuitem-link js-mainmenu-link\" href=\"https://www.cleveland.com/dining/\">Dining Guide</a> </li> <li class=\"advtoprail__mainmenu-menuitem--submenu js-menuitem-submenu\"> <a class=\"advtoprail__mainmenu-menuitem-link js-mainmenu-link\" href=\"https://www.cleveland.com/bars/\">Bars</a> </li> <li class=\"advtoprail__mainmenu-menuitem--submenu js-menuitem-submenu\"> <a class=\"advtoprail__mainmenu-menuitem-link js-mainmenu-link\" href=\"https://www.cleveland.com/cooking/\">Cooking</a> </li> <li class=\"advtoprail__mainmenu-menuitem--submenu js-menuitem-submenu\"> <a class=\"advtoprail__mainmenu-menuitem-link js-mainmenu-link\" href=\"https://www.cleveland.com/top-restaurants/\">Top Restaurants</a> </li> <li class=\"advtoprail__mainmenu-menuitem--submenu js-menuitem-submenu\"> <a class=\"advtoprail__mainmenu-menuitem-link js-mainmenu-link\" href=\"https://www.cleveland.com/drinks/\">Drinks</a> </li> </ul> </li> <li class=\"advtoprail__mainmenu-menuitem--submenu js-menuitem-submenu \"> <a class=\"advtoprail__mainmenu-menuitem-link js-mainmenu-link\" href=\"https://www.cleveland.com/best/\">Best Of</a> </li> <li class=\"advtoprail__mainmenu-menuitem--submenu js-menuitem-submenu\"> <a class=\"advtoprail__mainmenu-menuitem-link js-mainmenu-link\" href=\"/events\">Events</a> </li> <li class=\"advtoprail__mainmenu-menuitem--submenu js-menuitem-submenu \"> <a class=\"advtoprail__mainmenu-menuitem-link js-mainmenu-link\" href=\"https://www.cleveland.com/movies/\">Movies</a> </li> <li class=\"advtoprail__mainmenu-menuitem--submenu js-menuitem-submenu \"> <a class=\"advtoprail__mainmenu-menuitem-link js-mainmenu-link\" href=\"https://www.cleveland.com/music/\">Music</a> </li> <li class=\"advtoprail__mainmenu-menuitem--submenu js-menuitem-submenu \"> <a class=\"advtoprail__mainmenu-menuitem-link js-mainmenu-link\" href=\"https://www.cleveland.com/tv/\">TV</a> </li> <li class=\"advtoprail__mainmenu-menuitem--submenu js-menuitem-submenu \"> <a class=\"advtoprail__mainmenu-menuitem-link js-mainmenu-link\" href=\"https://www.cleveland.com/books/\">Books</a> </li> <li class=\"advtoprail__mainmenu-menuitem--submenu js-menuitem-submenu \"> <a class=\"advtoprail__mainmenu-menuitem-link js-mainmenu-link\" href=\"https://www.cleveland.com/arts/\">Arts</a> </li> <li class=\"advtoprail__mainmenu-menuitem--submenu js-menuitem-submenu \"> <a class=\"advtoprail__mainmenu-menuitem-link js-mainmenu-link\" href=\"https://www.cleveland.com/onstage/\">Theater</a> </li> <li class=\"advtoprail__mainmenu-menuitem--submenu js-menuitem-submenu \"> <a class=\"advtoprail__mainmenu-menuitem-link js-mainmenu-link\" href=\"https://www.cleveland.com/friday/\">Friday!</a> </li> <li class=\"advtoprail__mainmenu-menuitem--submenu js-menuitem-submenu \"> <a class=\"advtoprail__mainmenu-menuitem-link js-mainmenu-link\" href=\"https://www.cleveland.com/people/\">People</a> </li> <li class=\"advtoprail__mainmenu-menuitem--submenu js-menuitem-submenu \"> <a class=\"advtoprail__mainmenu-menuitem-link js-mainmenu-link\" href=\"https://www.cleveland.com/living/\">Living</a> </li> <li class=\"advtoprail__mainmenu-menuitem--submenu js-menuitem-submenu \"> <a class=\"advtoprail__mainmenu-menuitem-link js-mainmenu-link\" href=\"https://www.cleveland.com/travel/\">Travel</a> </li> <li class=\"advtoprail__mainmenu-menuitem--submenu js-menuitem-submenu \"> <a class=\"advtoprail__mainmenu-menuitem-link js-mainmenu-link\" href=\"https://www.cleveland.com/style/\">Style</a> </li> <li class=\"advtoprail__mainmenu-menuitem--submenu js-menuitem-submenu\"> <a class=\"advtoprail__mainmenu-menuitem-link js-mainmenu-link\" href=\"http://www.cleveland.com/essential/page/visitors-guide.html\">Essential CLE</a> </li> <li class=\"advtoprail__mainmenu-menuitem--submenu js-menuitem-submenu \"> <a class=\"advtoprail__mainmenu-menuitem-link js-mainmenu-link\" href=\"https://www.cleveland.com/comics/\">Comics</a> </li> <li class=\"advtoprail__mainmenu-menuitem--submenu js-menuitem-submenu \"> <a class=\"advtoprail__mainmenu-menuitem-link js-mainmenu-link\" href=\"https://www.cleveland.com/puzzles-games/\">Crossword &amp; Puzzles</a> </li> </ul></li> <li class=\"advtoprail__mainmenu-menuitem\"> <a class=\"advtoprail__mainmenu-menuitem-link js-mainmenu-link\" href=\"http://obits.cleveland.com/obituaries/cleveland/\">Obituaries</a> </li> <li class=\"advtoprail__mainmenu-menuitem\"> <a class=\"advtoprail__mainmenu-menuitem-link js-mainmenu-link\" href=\"http://www.cleveland.com/jobs/\">Jobs</a> </li> <li class=\"advtoprail__mainmenu-menuitem\"> <a class=\"advtoprail__mainmenu-menuitem-link js-mainmenu-link\" href=\"http://autos.cleveland.com/\">Autos</a> </li> <li class=\"advtoprail__mainmenu-menuitem js-expandable\"> <a class=\"advtoprail__mainmenu-menuitem-link js-mainmenu-link\" href=\"http://realestate.cleveland.com/\">Real Estate</a> <button aria-expanded=\"false\" aria-label=\"Open the Real Estate submenu\" class=\"advtoprail__button-submenu js-button-mainmenu\"> <span class=\"advtoprail__button-submenu--open\">›</span> <span class=\"advtoprail__button-submenu--close\">‹</span> </button> <ul class=\"advtoprail__mainmenu-menulist--submenu js-submenu\"> <li class=\"advtoprail__mainmenu-menuitem--submenu-backtomain\"> <button class=\"advtoprail__button-mobile-backtomain js-button-backtomain\"> <span class=\"advtoprail__button-icon--backmm\"></span> <span class=\"advtoprail__button-label--backmm\">Back To Main Menu</span> </button> </li> <li class=\"advtoprail__mainmenu-menuitem--submenu js-menuitem-submenu\"> <a class=\"advtoprail__mainmenu-menuitem-link js-mainmenu-link\" href=\"http://realestate.cleveland.com/\">Homes</a> </li> <li class=\"advtoprail__mainmenu-menuitem--submenu js-menuitem-submenu\"> <a class=\"advtoprail__mainmenu-menuitem-link js-mainmenu-link\" href=\"http://realestate.cleveland.com/new-homes/\">New Homes</a> </li> <li class=\"advtoprail__mainmenu-menuitem--submenu js-menuitem-submenu\"> <a class=\"advtoprail__mainmenu-menuitem-link js-mainmenu-link\" href=\"http://realestate.cleveland.com/for-rent/\">Rent</a> </li> <li class=\"advtoprail__mainmenu-menuitem--submenu js-menuitem-submenu\"> <a class=\"advtoprail__mainmenu-menuitem-link js-mainmenu-link\" href=\"http://foreclosures.cleveland.com/\">Foreclosures</a> </li> <li class=\"advtoprail__mainmenu-menuitem--submenu js-menuitem-submenu\"> <a class=\"advtoprail__mainmenu-menuitem-link js-mainmenu-link\" href=\"http://classifieds.cleveland.com/?cur_cat=&amp;orig_cat=&amp;orig_prop=cleveland.com&amp;temp_type=browse&amp;category=results&amp;tp=ME_cleve&amp;property=cleveland.com&amp;classification=Commercial+Real+Estate\">Commercial</a> </li> <li class=\"advtoprail__mainmenu-menuitem--submenu js-menuitem-submenu\"> <a class=\"advtoprail__mainmenu-menuitem-link js-mainmenu-link\" href=\"http://realestate.cleveland.com/homeideas\">Home Remodeling</a> </li> </ul></li> <li class=\"advtoprail__mainmenu-menuitem js-expandable\"> <a class=\"advtoprail__mainmenu-menuitem-link js-mainmenu-link\" href=\"http://realestate.cleveland.com/for-rent/\">Rentals</a> <button aria-expanded=\"false\" aria-label=\"Open the Rentals submenu\" class=\"advtoprail__button-submenu js-button-mainmenu\"> <span class=\"advtoprail__button-submenu--open\">›</span> <span class=\"advtoprail__button-submenu--close\">‹</span> </button> <ul class=\"advtoprail__mainmenu-menulist--submenu js-submenu\"> <li class=\"advtoprail__mainmenu-menuitem--submenu-backtomain\"> <button class=\"advtoprail__button-mobile-backtomain js-button-backtomain\"> <span class=\"advtoprail__button-icon--backmm\"></span> <span class=\"advtoprail__button-label--backmm\">Back To Main Menu</span> </button> </li> <li class=\"advtoprail__mainmenu-menuitem--submenu js-menuitem-submenu\"> <a class=\"advtoprail__mainmenu-menuitem-link js-mainmenu-link\" href=\"http://realestate.cleveland.com/for-rent/\">All Rentals</a> </li> <li class=\"advtoprail__mainmenu-menuitem--submenu js-menuitem-submenu\"> <a class=\"advtoprail__mainmenu-menuitem-link js-mainmenu-link\" href=\"http://realestate.cleveland.com/for-rent/\">Apartments &amp; Communities</a> </li> <li class=\"advtoprail__mainmenu-menuitem--submenu js-menuitem-submenu\"> <a class=\"advtoprail__mainmenu-menuitem-link js-mainmenu-link\" href=\"http://www.cityfeet.com/cleveland/\">Commercial Leases</a> </li> </ul></li> <li class=\"advtoprail__mainmenu-menuitem js-expandable\"> <span class=\"advtoprail__mainmenu-menuitem-label\">Follow Us</span> <button aria-expanded=\"false\" aria-label=\"Open the Follow Us submenu\" class=\"advtoprail__button-submenu js-button-mainmenu\"> <span class=\"advtoprail__button-submenu--open\">›</span> <span class=\"advtoprail__button-submenu--close\">‹</span> </button> <ul class=\"advtoprail__mainmenu-menulist--submenu js-submenu\"> <li class=\"advtoprail__mainmenu-menuitem--submenu-backtomain\"> <button class=\"advtoprail__button-mobile-backtomain js-button-backtomain\"> <span class=\"advtoprail__button-icon--backmm\"></span> <span class=\"advtoprail__button-label--backmm\">Back To Main Menu</span> </button> </li> <li class=\"advtoprail__mainmenu-menuitem--submenu js-menuitem-submenu\"> <a class=\"advtoprail__mainmenu-menuitem-link js-mainmenu-link\" href=\"http://www.facebook.com/pages/clevelandcom/48573742500\">Visit our Facebook Page</a> </li> <li class=\"advtoprail__mainmenu-menuitem--submenu js-menuitem-submenu\"> <a class=\"advtoprail__mainmenu-menuitem-link js-mainmenu-link\" href=\"http://twitter.com/clevelanddotcom\">Follow us on Twitter</a> </li> <li class=\"advtoprail__mainmenu-menuitem--submenu js-menuitem-submenu\"> <a class=\"advtoprail__mainmenu-menuitem-link js-mainmenu-link\" href=\"https://plus.google.com/u/0/b/107235278707360504631/107235278707360504631/posts\">Visit us on Google Plus</a> </li> </ul></li> <li class=\"advtoprail__mainmenu-menuitem js-expandable\"> <a class=\"advtoprail__mainmenu-menuitem-link js-mainmenu-link\" href=\"http://classifieds.cleveland.com/\">Classifieds</a> <button aria-expanded=\"false\" aria-label=\"Open the Classifieds submenu\" class=\"advtoprail__button-submenu js-button-mainmenu\"> <span class=\"advtoprail__button-submenu--open\">›</span> <span class=\"advtoprail__button-submenu--close\">‹</span> </button> <ul class=\"advtoprail__mainmenu-menulist--submenu js-submenu\"> <li class=\"advtoprail__mainmenu-menuitem--submenu-backtomain\"> <button class=\"advtoprail__button-mobile-backtomain js-button-backtomain\"> <span class=\"advtoprail__button-icon--backmm\"></span> <span class=\"advtoprail__button-label--backmm\">Back To Main Menu</span> </button> </li> <li class=\"advtoprail__mainmenu-menuitem--submenu js-menuitem-submenu\"> <a class=\"advtoprail__mainmenu-menuitem-link js-mainmenu-link\" href=\"http://classifieds.cleveland.com/?orig_cat=&amp;property=cleveland.com&amp;orig_prop=cleveland.com&amp;temp_type=browse&amp;category=results&amp;tp=ME_cleve&amp;classification=Pets\">Pets</a> </li> <li class=\"advtoprail__mainmenu-menuitem--submenu js-menuitem-submenu\"> <a class=\"advtoprail__mainmenu-menuitem-link js-mainmenu-link\" href=\"http://classifieds.cleveland.com/?orig_cat=&amp;property=cleveland.com&amp;orig_prop=cleveland.com&amp;temp_type=browse&amp;category=results&amp;tp=ME_cleve&amp;classification=For+Sale\">For Sale</a> </li> <li class=\"advtoprail__mainmenu-menuitem--submenu js-menuitem-submenu\"> <a class=\"advtoprail__mainmenu-menuitem-link js-mainmenu-link\" href=\"http://classifieds.cleveland.com/?orig_prop=cleveland.com&amp;property=cleveland.com&amp;temp_type=browse&amp;category=results&amp;tp=ME_cleve&amp;classification=Garage-Yard%20and%20Estate%20Sales\">Garage Sales</a> </li> <li class=\"advtoprail__mainmenu-menuitem--submenu js-menuitem-submenu\"> <a class=\"advtoprail__mainmenu-menuitem-link js-mainmenu-link\" href=\"http://www.cleveland.com/celebrations/\">Celebrations</a> </li> <li class=\"advtoprail__mainmenu-menuitem--submenu js-menuitem-submenu\"> <a class=\"advtoprail__mainmenu-menuitem-link js-mainmenu-link\" href=\"http://www.cleveland.com/placead/fraud_prevention/index.ssf\">Fraud Prevention</a> </li> <li class=\"advtoprail__mainmenu-menuitem--submenu js-menuitem-submenu\"> <a class=\"advtoprail__mainmenu-menuitem-link js-mainmenu-link\" href=\"http://www.cleveland.com/placead/manage/index.ssf\">Manage Your Ad</a> </li> <li class=\"advtoprail__mainmenu-menuitem--submenu js-menuitem-submenu\"> <a class=\"advtoprail__mainmenu-menuitem-link js-mainmenu-link\" href=\"http://www.cleveland.com/placead/\">Place an Ad</a> </li> </ul></li> <li class=\"advtoprail__mainmenu-menuitem\"> <a class=\"advtoprail__mainmenu-menuitem-link js-mainmenu-link\" href=\"https://www.cleveland.com/mobile-device/\">Mobile Apps</a> </li> <li class=\"advtoprail__mainmenu-menuitem\"> <a class=\"advtoprail__mainmenu-menuitem-link js-mainmenu-link\" href=\"http://subscription.cleveland.com/newsletters/\">Email Newsletters</a> </li> <li class=\"advtoprail__mainmenu-menuitem js-expandable\"> <a class=\"advtoprail__mainmenu-menuitem-link js-mainmenu-link\" href=\"http://businessfinder.cleveland.com/\">Local Businesses</a> <button aria-expanded=\"false\" aria-label=\"Open the Local Businesses submenu\" class=\"advtoprail__button-submenu js-button-mainmenu\"> <span class=\"advtoprail__button-submenu--open\">›</span> <span class=\"advtoprail__button-submenu--close\">‹</span> </button> <ul class=\"advtoprail__mainmenu-menulist--submenu js-submenu\"> <li class=\"advtoprail__mainmenu-menuitem--submenu-backtomain\"> <button class=\"advtoprail__button-mobile-backtomain js-button-backtomain\"> <span class=\"advtoprail__button-icon--backmm\"></span> <span class=\"advtoprail__button-label--backmm\">Back To Main Menu</span> </button> </li> <li class=\"advtoprail__mainmenu-menuitem--submenu js-menuitem-submenu\"> <a class=\"advtoprail__mainmenu-menuitem-link js-mainmenu-link\" href=\"http://businessfinder.cleveland.com/\">Find A Business</a> </li> <li class=\"advtoprail__mainmenu-menuitem--submenu js-menuitem-submenu\"> <a class=\"advtoprail__mainmenu-menuitem-link js-mainmenu-link\" href=\"http://businessfinder.cleveland.com/OH-Cleveland/Food-and-Dining\">Food &amp; Dining</a> </li> <li class=\"advtoprail__mainmenu-menuitem--submenu js-menuitem-submenu\"> <a class=\"advtoprail__mainmenu-menuitem-link js-mainmenu-link\" href=\"http://businessfinder.cleveland.com/OH-Cleveland/Retail-Shopping\">Retail Shopping</a> </li> <li class=\"advtoprail__mainmenu-menuitem--submenu js-menuitem-submenu\"> <a class=\"advtoprail__mainmenu-menuitem-link js-mainmenu-link\" href=\"http://businessfinder.cleveland.com/OH-Cleveland/Health-and-Medicine\">Health &amp; Medicine</a> </li> <li class=\"advtoprail__mainmenu-menuitem--submenu js-menuitem-submenu\"> <a class=\"advtoprail__mainmenu-menuitem-link js-mainmenu-link\" href=\"http://businessfinder.cleveland.com/OH-Cleveland/Personal-Care-and-Well-Being\">Personal Care</a> </li> <li class=\"advtoprail__mainmenu-menuitem--submenu js-menuitem-submenu\"> <a class=\"advtoprail__mainmenu-menuitem-link js-mainmenu-link\" href=\"http://businessfinder.cleveland.com/OH-Cleveland/Entertainment-and-Arts\">Entertainment</a> </li> <li class=\"advtoprail__mainmenu-menuitem--submenu js-menuitem-submenu\"> <a class=\"advtoprail__mainmenu-menuitem-link js-mainmenu-link\" href=\"http://businessfinder.cleveland.com/OH-Cleveland/Real-Estate\">Real Estate</a> </li> <li class=\"advtoprail__mainmenu-menuitem--submenu js-menuitem-submenu\"> <a class=\"advtoprail__mainmenu-menuitem-link js-mainmenu-link\" href=\"http://businessfinder.cleveland.com/OH-Cleveland/Automotive\">Automotive</a> </li> <li class=\"advtoprail__mainmenu-menuitem--submenu js-menuitem-submenu\"> <a class=\"advtoprail__mainmenu-menuitem-link js-mainmenu-link\" href=\"http://businessfinder.cleveland.com/about/advertise.html\">Claim Your Business</a> </li> </ul></li> <li class=\"advtoprail__mainmenu-menuitem--subscribe js-expandable\"> <span id=\"mainmenu-subscriptions\">Subscriptions</span> <button aria-expanded=\"false\" aria-label=\"Open the subscriptions submenu\" class=\"advtoprail__button-submenu js-button-mainmenu\">›</button> <ul class=\"advtoprail__mainmenu-menulist--submenu js-submenu\"> <li class=\"advtoprail__mainmenu-menuitem--submenu-backtomain\"> <button class=\"advtoprail__button-mobile-backtomain js-button-backtomain\"> <span class=\"advtoprail__button-icon--backmm\"></span> <span class=\"advtoprail__button-label--backmm\">Back To Main Menu</span> </button> </li> <li class=\"advtoprail__mainmenu-menuitem--submenu\"> <a aria-label=\"Subscribe to The Plain Dealer\" class=\"advtoprail__mainmenu-menuitem-link\" href=\"https://members.plaindealer.com/dssSubscribe.aspx\">The Plain Dealer</a> </li> <li class=\"advtoprail__mainmenu-menuitem--submenu\"> <a aria-label=\"Subscribe to Sun News\" class=\"advtoprail__mainmenu-menuitem-link\" href=\"https://members.plaindealer.com/dssSubscribe.aspx\">Sun News</a> </li> <li class=\"advtoprail__mainmenu-menuitem--submenu\"> <a aria-label=\"Subscribe to Media Insider Rewards\" class=\"advtoprail__mainmenu-menuitem-link\" href=\"https://members.plaindealer.com/\">Media Insider Rewards</a> </li> </ul> </li> </ul> </div> </div> </div></nav> </div> <div class=\"advtoprail__weather js-weather\"> <button aria-expanded=\"false\" aria-label=\"Find Your Local Weather Forecast\" class=\"advtoprail__weather-button js-button-masthead js-button-weather\" data-buttonname=\"weatherUnset\"> <span class=\"advtoprail__weather-conditions js-weather-conditions\"> <span class=\"advtoprail__weather-temperature js-weather-temperature\"></span> </span> </button> <div aria-expanded=\"false\" aria-hidden=\"true\" class=\"advtoprail__dropdown--weather js-dropdown\" role=\"dialog\"> <div class=\"advtoprail__menuborderarrow--weather\"></div> <div class=\"advtoprail__dropdown-outer\"> <div aria-live=\"polite\" class=\"advtoprail__dropdown-inner--weather\"> <button class=\"advtoprail__button-mobile-backtomain js-button-backtomain\"> <span class=\"advtoprail__button-icon--backmm\"></span> <span class=\"advtoprail__button-label--backmm\">Back To Main Menu</span> </button> <button aria-label=\"Close the Find Your Weather Forecast popup\" class=\"advtoprail__button--close js-button-close\"> <span class=\"advtoprail__button-icon--close\">Close</span> </button> <div class=\"advtoprail__weather-details js-weather-form\"> <div class=\"advtoprail__weather-title\">Customize Your Weather</div> <div class=\"advtoprail__weather-label\">Set Your Location:</div> <div class=\"advtoprail__weather-error js-setweather-error\"></div> <div class=\"aria-hidden\">Enter City and State or Zip Code</div> <input class=\"advtoprail__input js-setweather-input\" name=\"advtoprail__input\" placeholder=\"Enter City and State or Zip Code\" type=\"text\" value=\"\"/> <input class=\"advtoprail__submit js-setweather-submit\" type=\"submit\" value=\"Submit\"/> </div> <div class=\"advtoprail__weather-details js-weather-confirm\"> <div class=\"advtoprail__weather-title\">Congratulations!</div> <div class=\"advtoprail__weather-label--confirm\">Your weather is set to <span class=\"js-chosen-location\"></span>. You can change the location at any time.</div> <input class=\"advtoprail__submit js-setweather-done\" type=\"button\" value=\"Done\"/> </div> <div class=\"advtoprail__weather-details js-weather-forecast\"> <div class=\"advtoprail__weather-subtitle\">AccuWeather.com Quick Look</div> <div class=\"advtoprail__weather-title js-weather-title\"></div> <button class=\"advtoprail__weather-button--change-location js-change-location\">Change your current location »</button> <div class=\"advtoprail__weather-forecast js-forecasts\"> <div class=\"advtoprail__weather-forecast-period js-forecast-current\"> <span class=\"advtoprail__weather-forecast-label js-weather-forecast-label\">Current</span> <span class=\"advtoprail__weather-forecast-highlow js-weather-forecast-highlow\"></span> <span class=\"advtoprail__weather-forecast-temperature js-weather-forecast-temperature\"></span> <span class=\"advtoprail__weather-forecast-condition js-weather-forecast-condition\"></span> </div> <div class=\"advtoprail__weather-forecast-period js-forecast-tonight\"> <span class=\"advtoprail__weather-forecast-label js-weather-forecast-label\">Tonight</span> <span class=\"advtoprail__weather-forecast-highlow js-weather-forecast-highlow\"></span> <span class=\"advtoprail__weather-forecast-temperature js-weather-forecast-temperature\"></span> <span class=\"advtoprail__weather-forecast-condition js-weather-forecast-condition\"></span> </div> <div class=\"advtoprail__weather-forecast-period js-forecast-tomorrow\"> <span class=\"advtoprail__weather-forecast-label js-weather-forecast-label\">Tomorrow</span> <span class=\"advtoprail__weather-forecast-highlow js-weather-forecast-highlow\"></span> <span class=\"advtoprail__weather-forecast-temperature js-weather-forecast-temperature\"></span> <span class=\"advtoprail__weather-forecast-condition js-weather-forecast-condition\"></span> </div> </div> <button class=\"advtoprail__weather-button-fullreport js-button-fullreport\">View Full Weather Report</button> </div> </div> </div> </div> </div><div class=\"advtoprail__mainmenu-sponsor adunit nomobilead\" id=\"TopRail_Sponsor\"></div> </div> <div class=\"advtoprail__masthead js-masthead\"> <div class=\"advtoprail__masthead-logo js-masthead-logo\"> <a aria-label=\"Visit the cleveland.com homepage\" class=\"advtoprail__masthead-afflink\" href=\"https://www.cleveland.com/\"> <img alt=\"cleveland’s Logo\" class=\"advtoprail__masthead-afflink-logo\" src=\"https://www.cleveland.com/pb/resources/dist/cleveland/images/logos/logo_main_inverse.svg\"/> </a> </div> </div> <div class=\"advtoprail__right-corner\"> <button aria-expanded=\"false\" aria-label=\"View all of cleveland.com's' available newspaper subscriptions and email newsletters\" class=\"advtoprail__button-subscribe js-button-masthead\" data-buttonname=\"subscription\"> <div class=\"advtoprail__button-subscribe-label\">Subscribe</div> </button> <div aria-expanded=\"false\" aria-hidden=\"true\" class=\"advtoprail__dropdown advtoprail__dropdown--subscribe js-dropdown\" role=\"dialog\"> <div class=\"advtoprail__menuborderarrow\"></div> <div class=\"advtoprail__dropdown-outer\"> <div class=\"advtoprail__dropdown-inner\"> <ul class=\"advtoprail__subscription-menulist\"> <li class=\"advtoprail__subscription-menuitem\"> <a aria-label=\"Subscribe to The Plain Dealer\" class=\"advtoprail__subscription-link js-subscription-link\" href=\"https://members.plaindealer.com/dssSubscribe.aspx\">The Plain Dealer</a> </li> <li class=\"advtoprail__subscription-menuitem\"> <a aria-label=\"Subscribe to Sun News\" class=\"advtoprail__subscription-link js-subscription-link\" href=\"https://members.plaindealer.com/dssSubscribe.aspx\">Sun News</a> </li> <li class=\"advtoprail__subscription-menuitem\"> <a aria-label=\"Subscribe to Media Insider Rewards\" class=\"advtoprail__subscription-link js-subscription-link\" href=\"https://members.plaindealer.com/\">Media Insider Rewards</a> </li> </ul> </div> </div> </div> <button aria-expanded=\"false\" aria-label=\"Sign in to cleveland.com\" class=\"advtoprail__button--account js-button-account\"> <span class=\"advtoprail__button-icon--account\"></span> <span class=\"advtoprail__iconlabel\">Sign In</span> </button> <div aria-expanded=\"false\" aria-hidden=\"true\" class=\"advtoprail__dropdown-user js-dropdown-user\" role=\"dialog\"> <button class=\"advtoprail__button--close js-button-close js-button-account-close\"> <span aria-label=\"Close the User Account section\" class=\"advtoprail__button-icon--close\">Close</span> </button> <img alt=\"User Profile\" class=\"advtoprail__user-profile-image js-account-image\"/> <div class=\"advtoprail__user-profile-nameplate js-account-name\"> You are signed in as<br/> </div> <div class=\"advtoprail__user-profile-links\"> <a aria-label=\"View your public profile\" class=\"advtoprail__link--account-profile js-edit-profile\">Public Profile</a> <a aria-label=\"Edit your profile\" class=\"advtoprail__link--account-edit js-button-edit\">Edit Profile</a> <a class=\"advtoprail__link--account-signout js-edit-signout\">Sign Out</a> </div> </div><button aria-expanded=\"false\" aria-label=\"Search cleveland.com\" class=\"advtoprail__button--search js-button-search\" id=\"adv_search\"> <span class=\"advtoprail__button-icon--search\"></span> <span class=\"advtoprail__iconlabel\">Search</span> </button> </div> </header> <div class=\"pb-container\"> </div> </div> <div class=\"main-wrapper main-wrapper--article\"> <div class=\"below-toprail\" id=\"belowToprail\"> <div class=\"pb-container\"> <div class=\"ad ad--topRail-Below-Flex\" id=\"topRail-Below-Flex\"></div> </div> </div> <div class=\"full-width\" id=\"fullWidth\"> </div> <main aria-live=\"polite\" class=\"main\" id=\"main\"> <article class=\"article h-entry\" data-type=\"article\"> <header class=\"article__header\"> <nav aria-label=\"articleLabel\" class=\"articleLabel\"> <ol class=\"articleLabel__list\" id=\"articleLabel__list\"> <li class=\"articleLabel__listItem\" id=\"articleLabel__listItem\"> <a class=\"articleLabel__link\" href=\"https://www.cleveland.com/metro\" id=\"articleLabel__link\" title=\"Navigate to Metro\">Metro</a> </li> </ol> </nav> <h1 class=\"p-name\">Case Western Reserve University President Barbara Snyder's base salary and bonus pay tops among private colleges in Ohio </h1> <div class=\"dateline\"> <span class=\"dateline__updated\"><time aria-label=\"December tenth two-thousand seventeen at eleven P M\" datetime=\"2017-12-10T23:00:00\">Updated Dec 10, 2017</time><span aria-hidden=\"true\">; </span></span> <span class=\"dateline__published\"><time aria-label=\"December tenth two-thousand seventeen at ten P M\" datetime=\"2017-12-10T22:00:00\">Posted Dec 10, 2017</time></span> </div> <figure class=\"article__mmm article__mmm--photo\"> <div class=\"article__mmm-wrapper\"> <div class=\"article__mmm-content-wrapper\"> <img alt=\"Case Western Reserve University President Barbara Snyder's base pay and bonus for 2015 ranked her first among private college presidents in Ohio. (John Kuntz, cleveland.com)\" src=\"http://image.cleveland.com/home/cleve-media/width600/img/plain_dealer_metro/photo/cwrus-snyder-tops-pay-scale-highest-paid-of-ohio-private-college-chiefs-at-over-1m-yearly-581ba32ba99d75e9.jpg\"/> </div> <figcaption class=\"article__mmm-caption article__mmm-caption--image\"> <p class=\"article__mmm-image-caption-text\">Case Western Reserve University President Barbara Snyder's base pay and bonus for 2015 ranked her first among private college presidents in Ohio. (John Kuntz, cleveland.com)</p> </figcaption> </div> </figure> <div class=\"article__commentBubble-socialShare\"> <div class=\"commentBubble__container\"> <button aria-label=\"Read all comments on this article\" class=\"commentBubble commentBubble--noComments\" data-id=\"21622286\" data-legacy=\"273e236291b18c0720f9b1b13da4b999\" data-url=\"https://www.cleveland.com/metro/2017/12/case_western_reserve_university_president_barbara_snyders_base_salary_and_bonus_pay_tops_among_private_colleges_in_ohio.html\"> <span class=\"commentBubbleSpan\" data-type=\"commentBubble\"> <span class=\"viafoura\"> <span class=\"vf-counter vf-widget\" data-unique_id=\"21622286\" data-url=\"https://www.cleveland.com/metro/2017/12/case_western_reserve_university_president_barbara_snyders_base_salary_and_bonus_pay_tops_among_private_colleges_in_ohio.html\" data-widget=\"counter\"></span> </span> </span> </button> </div> <div class=\"adi-share-auto\" data-layout=\"horizontal\" data-link=\"https://www.cleveland.com/metro/2017/12/case_western_reserve_university_president_barbara_snyders_base_salary_and_bonus_pay_tops_among_private_colleges_in_ohio.html\" data-thumbnail=\"https://www.cleveland.com/resizer/TGNM8-loeSZuDhjhqhthGsqgpTQ=/1200x0/advancelocal-adapter-image-uploads.s3.amazonaws.com/image.cleveland.com/home/cleve-media/width2048/img/plain_dealer_metro/photo/cwrus-snyder-tops-pay-scale-highest-paid-of-ohio-private-college-chiefs-at-over-1m-yearly-581ba32ba99d75e9.jpg\" data-title=\"Case Western Reserve University President Barbara Snyder's base salary and bonus pay tops among private colleges in Ohio \" id=\"social_A2EQWKKGO5HHZLWG4H7LR5H5VU\"></div> </div> <p class=\"byline\">By <a class=\"byline__authorLink\" href=\"http://connect.cleveland.com/staff/kfarkas/posts.html\" title=\"Visit Karen Farkas, cleveland.com's Author Page\">Karen Farkas, cleveland.com</a> </p> </header> <div class=\"article__story\"> <div class=\"entry-content\"> <p class=\"article__paragraph\">CLEVELAND, Ohio - <a href=\"http://www.case.edu/\">Case Western Reserve University </a>President Barbara Snyder's $700,312 base pay and $175,000 bonus in 2015 again made her the highest paid private college leader in Ohio, according to an annual report.</p><p class=\"article__paragraph\">Nationally, Snyder's total compensation of $1.154 million, which can include deferred compensation and other pay, ranked 41st out of 541 presidents of private colleges according to the report by the <a href=\"http://chronicle.com/\">Chronicle of Higher Education.</a></p> <div class=\"ad ad--in-article\" id=\"in-article_AOJSWF2SO5F6NLAFYE77J7FAPI\"></div> <p class=\"article__paragraph\">She is among 58 presidents to earn $1 million or more. The previous year, 39 private college presidents earned more than $1 million.</p><p class=\"article__paragraph\">The Chronicle's <a href=\"https://www.chronicle.com/interactives/executive-compensation#id=table_private_2015\">compensation tables </a>come from a review of federal tax documents from the 2015 calendar year, the most recent available.</p><p class=\"article__paragraph\">Former University of Dayton President Daniel Curran, who left in 2016, ranked eighth in the U.S. with a total compensation of $2.44 million, but $1.66 million of that was in other pay, which was likely deferred compensation awarded after he announced his retirement. His total pay in 2014 was $771,354.</p><p class=\"article__paragraph\">Following is total compensation for other presidents at private colleges in Ohio in 2015:</p><ul class=\"article__unordered-list\"> <li class=\"article__unordered-list-item\">Grant Cornwell, College of Wooster (left in 2015): $911,651</li> <li class=\"article__unordered-list-item\">Marvin Krislov, Oberlin College (left in 2016):  $829,913</li> <li class=\"article__unordered-list-item\">Mark Roosevelt, Antioch College, (left in 2015): $507,672</li> <li class=\"article__unordered-list-item\">Laurie Joyner, Wittenberg University (left in 2015): $463,504</li> <li class=\"article__unordered-list-item\">Richard Giese, University of Mount Union (left in 2015): $453,800</li> <li class=\"article__unordered-list-item\">Sean Decatur,Kenyon College: $451,698</li> <li class=\"article__unordered-list-item\">Adam Weinberg, Denison University: $435,322</li> <li class=\"article__unordered-list-item\">Daniel Dibiasio, Ohio Northern University: $414,716</li> <li class=\"article__unordered-list-item\">Denvy Bowman, Capital University (left in 2016): $388,570</li> <li class=\"article__unordered-list-item\">Anne Steele, Muskingum University (left in 2016): $384,233</li> <li class=\"article__unordered-list-item\">Kathy Krendl, Otterbein University:  $378,035</li> <li class=\"article__unordered-list-item\">Rockwell Jones, Ohio Wesleyan University: $366,625</li> <li class=\"article__unordered-list-item\">Robert Helmer, Baldwin Wallace University: $365,616</li> <li class=\"article__unordered-list-item\">Robert Huntington, Heidelberg University: $300,005</li> <li class=\"article__unordered-list-item\">Lori Varlotta, Hiram College: $293,336</li> <li class=\"article__unordered-list-item\">Joseph Bruno, Marietta College (left in 2016): $288,295</li> <li class=\"article__unordered-list-item\">W. Richard Merriman Jr., University of Mount Union (started in June 2015): $221,761</li> </ul> <p class=\"article__paragraph\">The Rev. Robert Niehoff, president of John Carroll University (retired in 2017), Rev. Sean Sheridan of  Franciscan University of Steubenville and Rev. Michael Graham Xavier University do not take salaries.</p><p class=\"article__paragraph\">See the full list of presidents at <a href=\"http://www.chronicle.com/compensation\">chronicle.com/compensation.</a></p><p class=\"article__paragraph\">The Chronicle's list of pay for public college presidents was released in July.</p><div class=\"rawhtml\"><a href=\"http://www.cleveland.com/metro/index.ssf/2017/06/ohio_state_university_presiden_6.html\">Ohio State University President Michael Drake is 7th highest paid U.S. public college president</a></div> <p class=\"article__paragraph\">Ohio State President Michael Drake, with a total compensation of $1.03 million, was one of eight presidents who earned $1 million or more in the 2015-16 fiscal year.</p> <div class=\"ad ad--in-article\" id=\"in-article_FXUGCLQM3VGPHBZIYHU7QYIX7M\"></div> <p class=\"article__paragraph\">But when compared to Ohio State's 2014 annual $5.2 billion operating budget, Drake's pay per million in expenses is $199 -- among the lowest for presidents.</p><p class=\"article__paragraph\">By comparison, Cleveland State University President Ronald Berkman, whose total compensation was $641,817, oversaw an annual operating budget of $300.3 million in 2014. His pay per million in expenses was $2,127.</p><p class=\"article__paragraph\">Kent State University President Beverly Warren's pay per million in expenses was $1,006. Her total compensation was $560,659 and she oversaw an annual operating budget of $557.4 million in 2014.</p><p class=\"article__paragraph\">The<a href=\"http://www.chronicle.com/interactives/executive-compensation\"> Chronicle's analysis </a>was based on 254 presidents from 221 colleges.</p><p class=\"article__paragraph\">According to the Chronicle:</p><ul class=\"article__unordered-list\"> <li class=\"article__unordered-list-item\">The average pay of private college presidents who served the full year in 2015 was $569,932, up 9 percent over presidents who served a full year in 2014.</li> <li class=\"article__unordered-list-item\">Nine of the 10 highest-paid chief executives earned more from bonuses and deferred compensation than they did from base salaries.</li> <li class=\"article__unordered-list-item\">The analysis is based on the latest available federal tax filings of the 500 private, nonprofit colleges with the largest endowments. The data include compensation figures for 568 presidents who served at 500 institutions for all or part of 2015. There were 352 presidents who served all of 2014 and 2015.</li> <li class=\"article__unordered-list-item\">The number of presidents earning over $1 million is attributed, in part, to a market where presidents are negotiating more deferred compensation and bonus packages before they take the job.</li> <li class=\"article__unordered-list-item\">The top two earners, Wake Forest University President Nathan Hatch ($4 million) and former Emory University President James Wagner ($3.5 million) were each paid more than $2 million in deferred compensation in 2015.</li> </ul> <p class=\"article__paragraph\">The Chronicle also compares pay to presidents in context of their colleges, including looking at each institution's expenses, average tuition and fees and professor salaries.</p></div> </div> <button aria-label=\"Read all comments on this article\" class=\"commentButton\" data-id=\"21622286\" data-legacy=\"273e236291b18c0720f9b1b13da4b999\" data-url=\"https://www.cleveland.com/metro/2017/12/case_western_reserve_university_president_barbara_snyders_base_salary_and_bonus_pay_tops_among_private_colleges_in_ohio.html\" type=\"button\"> View Comments <span class=\"viafoura\"><span class=\"vf-counter vf-widget\" data-unique_id=\"21622286\" data-url=\"https://www.cleveland.com/metro/2017/12/case_western_reserve_university_president_barbara_snyders_base_salary_and_bonus_pay_tops_among_private_colleges_in_ohio.html\" data-widget=\"counter\"></span></span> </button> <div class=\"pb-container\"> </div> </article> </main> <div class=\"sidebar\" id=\"sidebar\"> <div class=\"pb-container\"> <div class=\"ad ad--rightRail-Top-300xFlex\" id=\"rightRail-Top-300xFlex\"></div> <div id=\"taboolahybridRightRail\"></div> <div class=\"ad ad--rightRail-Bottom-300xFlex\" id=\"rightRail-Bottom-300xFlex\"></div> </div> </div> </div> <div class=\"footer\" id=\"footer\"> <div class=\"footer\"> <nav class=\"footer__nav\"> <h2 class=\"footer__nav-title footer__nav-title--hidden\">Footer Navigation</h2> <div class=\"footer__nav-wrapper\"> </div> </nav> <div class=\"footer__disclaimer\"> <h2 class=\"footer__disclaimer-title footer__disclaimer-title--hidden\">Disclaimer</h2> <div class=\"footer__disclaimer-wrapper\"> <div class=\"footer__disclaimer-column footer__disclaimer-column--1\"> <a class=\"footer__disclaimer-logo-link\" href=\"https://www.advancelocal.com/\" id=\"AdvanceDigitalLogo\"> <img alt=\"Advance Local logo\" class=\"footer__disclaimer-logo-image\" role=\"img\" src=\"https://www.cleveland.com/pb/resources/dist/common/images/footer-logo-advance.svg\"/> </a> </div> <div class=\"footer__disclaimer-column footer__disclaimer-column--2\"> <p class=\"footer__disclaimer-text\"> Registration on or use of this site constitutes acceptance of our <a href=\"https://www.cleveland.com/user-agreement/\">User Agreement</a> and <a href=\"https://www.cleveland.com/privacy-policy/\">Privacy Policy</a> </p> <p class=\"footer__disclaimer-text\">© 2019 Advance Ohio. All rights reserved (<a href=\"https://www.cleveland.com/aboutus/\">About Us</a>).<br/> The material on this site may not be reproduced, distributed, transmitted, cached or otherwise used, except with the prior written permission of Advance Ohio.</p> <p class=\"footer__disclaimer-text\"><a href=\"https://www.cleveland.com/communityrules/\">Community Rules</a> apply to all content you upload or otherwise submit to this site.</p> <p class=\"footer__disclaimer-text\"> <a href=\"https://www.cleveland.com/privacy-policy/#oba_top\"> <img alt=\"\" src=\"https://www.cleveland.com/pb/resources/dist/common/images/ps-images/ad-choices-arrow.png\"/> Ad Choices </a> </p> </div> </div> </div> </div> <div class=\"pb-container\"> <div class=\"ad-wrapper__mobile-bottom-adhesion\" data-visible=\"true\" id=\"ad-wrapper__mobile-bottom-adhesion\"> <button class=\"mobile-bottom-adhesion__closeButton mobile-bottom-adhesion__closeButton--show\" id=\"mobile-bottom-adhesion__closeButton\"> <img alt=\"Close button for the advertisement.\" class=\"mobile-bottom-adhesion__closeButton-image\" src=\"/pb/resources/dist/common/images/icons/close.svg\"/> </button> <div class=\"mobile-bottom-adhesion__wrapper\"> <div class=\"ad ad--mobile-bottom-adhesion\" id=\"mobile-bottom-adhesion\"></div> </div> </div> </div> </div> <div class=\"pb-container\"> </div> <script>\n",
            "        // For Viafoura\n",
            "        window.pageConfig = {\n",
            "            uniqueId: 'A2EQWKKGO5HHZLWG4H7LR5H5VU',\n",
            "            authorId: 'kfarkas',\n",
            "            readOnly: JSON.parse( false ),\n",
            "        };\n",
            "        // For Off-Canvas Comments\n",
            "        window.ocConfig = {\n",
            "            pagetype: 'cal',\n",
            "        };\n",
            "    </script> <script src=\"https://static.advance.net/static/social/viafoura/dist/comments.bundle.js\"></script> <script src=\"https://static.advance.net/static/common/js/ads/revgen.v2.js\"></script> <script>var adiTrackPromise=window.adiTrackPromise=function(){if(Promise)return new Promise(function(resolve,reject){function wait(){setTimeout(function(){return window.adiTrack?resolve():wait()},50)}wait()})}();</script> <script src=\"https://static.advance.net/static/common/js/adv-js-loader.js\"></script> <script crossorigin=\"anonymous\" integrity=\"sha256-9VTS8JJyxvcUR+v+RTLTsd0ZWbzmafmlzMmeZO9RFyk=\" src=\"https://code.jquery.com/jquery-1.8.2.min.js\"></script> <script src=\"https://static.advance.net/static/common/js/adv_gigya.js\"></script> <script src=\"https://www.cleveland.com/pb/resources/dist/common/js/article6b257cc88a13bd4ace99.js\"></script> <script>if(document.getElementById(\"deals\"))document.getElementById(\"deals\").innerHTML=\"Deal$\";</script> <script>(function(){!function(o){function n(e){if(t[e])return t[e].exports;var i=t[e]={exports:{},id:e,loaded:!1};return o[e].call(i.exports,i,i.exports,n),i.loaded=!0,i.exports}var t={};return n.m=o,n.c=t,n.p=\"\",n(0)}({0:function(o,n,t){function e(o){return o&&o.__esModule?o:{\"default\":o}}function i(){if(!j){j=!0,window._sp_=window._sp_||{},H=window._sp_.config=window._sp_.config||{},K=H.content_control_callback||window._sp_lock,N=H.account_id||H.client_id||window.sp_cid;for(var o in H)T[o]=H[o]}}function r(o,\n",
            "n){var t=arguments.length>2&&void 0!==arguments[2]?arguments[2]:\"\",e=new Image;e.src=\"//\"+E+\"/cct?v\\x3d\"+encodeURIComponent(x)+\"\\x26ct\\x3d1\\x26cid\\x3d\"+encodeURIComponent(N)+\"\\x26l\\x3d\"+encodeURIComponent(o.toString())+\"\\x26rc\\x3d\"+encodeURIComponent(n)+\"\\x26d0\\x3d\"+encodeURIComponent(t)}function c(o,n,t,e){var i=arguments.length>4&&void 0!==arguments[4]?arguments[4]:{},r=arguments.length>5&&void 0!==arguments[5]&&arguments[5],d=function(){return c(o,n,t,e,i,!0)},a=r?t:d;o(n,a,e,i)}function d(o,n,\n",
            "t,e){var i=document.createElement(\"script\");i.src=o,i.onload=function(){try{if(window._sp_&&window._sp_.bootstrap===p&&window.spBootstrap===u&&window._sp_.config===H)for(var o in T){if(T[o]!==H[o]){h&&h();break}}else h&&h()}catch(n){h&&h()}e.onLoad&&e.onLoad()},i.onerror=function(){function i(o,n){t(o,n),e.onError&&e.onError(n)}function r(o){return c.indexOf(o)>-1}var c=(navigator.userAgent||navigator.vendor||window.opera).toLowerCase();r(\"mobi\")||r(\"ipad\")||r(\"android\")||r(\"iphone\")?i(S):r(\"exabot\")?\n",
            "i(k):r(\"bingbot\")||r(\"bingpreview\")?i(D):r(\"googlebot\")||r(\"adsbot-google\")||r(\"mediapartners-google\")?i(R):r(\"googleweblight\")?i(I):window.location.host===g?i(L):window.location.host.indexOf(m)>-1?i(M):r(\"msie 10\")||r(\"msie 9\")||r(\"msie 8\")?i(U):a(o,n,i)},document.head.appendChild(i),document.querySelector('script[src\\x3d\"'+o+'\"]')||window.location.host.indexOf(m)!==-1||n(O,o)}function a(o,n,t){(0,v[\"default\"])(o,function(e,i,r,c){var d=e||i?n:t;d(c,o+\"::\"+r)})}function s(o,n){return A?void w(B+\n",
            "\"::\"+o,n):(r(y,o,n),void(K&&setTimeout(function(){K()},250)))}function w(o,n){r(C,o,n)}function u(o,n){i(),n&&(K=window._sp_lock=n),c(d,o,s,w)}function p(o,n){i(),c(d,o,s,w,n)}var f=t(383),l=e(f),_=t(99),v=e(_),g=[\"w\",\"e\",\"b\",\"c\",\"a\",\"c\",\"h\",\"e\",\".\",\"g\",\"o\",\"o\",\"g\",\"l\",\"e\",\"u\",\"s\",\"e\",\"r\",\"c\",\"o\",\"n\",\"t\",\"e\",\"n\",\"t\",\".\",\"c\",\"o\",\"m\"].join(\"\"),m=[\"o\",\"p\",\"t\",\"i\",\"m\",\"i\",\"z\",\"e\",\"l\",\"y\",\"p\",\"r\",\"e\",\"v\",\"i\",\"e\",\"w\",\".\",\"c\",\"o\",\"m\"].join(\"\"),h=void 0;try{h=window._sp_&&window._sp_.config&&window._sp_.config.spid_control_callback}catch(b){}var E=\n",
            "l[\"default\"].be.join(\"\"),x=l[\"default\"].bv,C=0,y=1,O=\"s\",S=\"m\",R=\"g\",L=\"gw\",I=\"gl\",U=\"i\",D=\"b\",k=\"e\",B=\"n\",M=\"o\",T={},j=!1,A=!1,H=void 0,K=void 0,N=void 0;window.addEventListener(\"beforeunload\",function(){A=!0});try{window._sp_=window._sp_||{},window._sp_.bootstrap=p,window.spBootstrap=u,window._sp_.bootstrap===p&&window.spBootstrap===u||h&&h()}catch(b){h&&h()}},99:function(o,n){function t(o,n){function t(o){try{return o&&o.timeStamp?o.timeStamp:window.performance.now()}catch(o){return Date.now()}}\n",
            "var a=document.createElement(\"a\");if(a.href=o,\"https:\"===window.location.protocol&&a.protocol!==window.location.protocol)return void n(!1,!1,a.protocol,d);var s=new XMLHttpRequest;try{s.open(\"GET\",o)}catch(w){return void n(!0,!1,w.toString(),r,s)}var u=void 0,p=void 0;s.onloadstart=function(o){u=t(o)},s.onreadystatechange=function(o){if(4===this.readyState){p=t(o)-u;var r=0===this.status,c=\"2\"===this.status.toString()[0],d=c?i:e;return void n(r,c,this.status+\"::\"+p,d,s)}};try{s.send()}catch(w){return void n(!0,\n",
            "!1,w.toString(),c,s)}}Object.defineProperty(n,\"__esModule\",{value:!0}),n[\"default\"]=t;var e=n.NETWORK_FAILURE=\"n\",i=n.XHR_SUCCEEDED=\"nx\",r=n.OPEN_BLOCKED=\"xo\",c=n.SEND_BLOCKED=\"xs\",d=n.PROTOCOL_MISMATCH=\"p\"},383:function(o,n){o.exports={be:[\"w\",\"w\",\"w\",\".\",\"b\",\"e\",\"e\",\"f\",\"t\",\"r\",\"a\",\"n\",\"s\",\"m\",\"i\",\"s\",\"s\",\"i\",\"o\",\"n\",\".\",\"c\",\"o\",\"m\"],bv:\"1.7.591\"}}});window._sp_=window._sp_||{};window._sp_.config=window._sp_.config||{};window._sp_.mms=window._sp_.mms||{};window._sp_.mms.cmd=window._sp_.mms.cmd||\n",
            "[];window._sp_.config.account_id=148;window._sp_.config.mms_domain=\"mms.cleveland.com\";window._sp_.config.content_control_callback=function(){console.log(\"CONTENT LOCK\")};window._sp_.config.vid_control_callback=function(){console.log(\"vid\")};window._sp_.config.mms_client_data_callback=function showit(e){if(e.info.prtn_uuid!==null){var adblklabel=\"cmpgnID:\"+e.info.cmpgn_id+\"||prtnID:\"+e.info.prtn_uuid+\"||msgID:\"+e.info.msg_id+\"||abp:\"+e.d.abp+\"||abt:\"+e.d.abt;window.spVariation=adblklabel+\"||\";var spevt=\n",
            "document.createEvent(\"Event\");spevt.initEvent(\"spoptly\",true,false);document.dispatchEvent(spevt)}};window._sp_.mms.cmd.push(function(){window._sp_.mms.startMsg()});window._sp_.bootstrap(\"//sp148.global.ssl.fastly.net/messaging.js\");window._sp_.bootstrap(\"//sp148.global.ssl.fastly.net/mms-client.js\")})();</script> <script async=\"\" src=\"https://www.cleveland.com/pb/gr/p/default/rzb2dd1NNWr7cr/render.js?v=141\"></script></body> </html>\n"
          ],
          "name": "stdout"
        }
      ]
    },
    {
      "metadata": {
        "id": "TRSt78SNbMbM",
        "colab_type": "code",
        "colab": {
          "base_uri": "https://localhost:8080/",
          "height": 55
        },
        "outputId": "2b4ffeab-b94a-4e52-acc4-d83c90bab183"
      },
      "cell_type": "code",
      "source": [
        "president_list = soup.find(class_='article__unordered-list')\n",
        "print(president_list)"
      ],
      "execution_count": 27,
      "outputs": [
        {
          "output_type": "stream",
          "text": [
            "<ul class=\"article__unordered-list\"> <li class=\"article__unordered-list-item\">Grant Cornwell, College of Wooster (left in 2015): $911,651</li> <li class=\"article__unordered-list-item\">Marvin Krislov, Oberlin College (left in 2016):  $829,913</li> <li class=\"article__unordered-list-item\">Mark Roosevelt, Antioch College, (left in 2015): $507,672</li> <li class=\"article__unordered-list-item\">Laurie Joyner, Wittenberg University (left in 2015): $463,504</li> <li class=\"article__unordered-list-item\">Richard Giese, University of Mount Union (left in 2015): $453,800</li> <li class=\"article__unordered-list-item\">Sean Decatur,Kenyon College: $451,698</li> <li class=\"article__unordered-list-item\">Adam Weinberg, Denison University: $435,322</li> <li class=\"article__unordered-list-item\">Daniel Dibiasio, Ohio Northern University: $414,716</li> <li class=\"article__unordered-list-item\">Denvy Bowman, Capital University (left in 2016): $388,570</li> <li class=\"article__unordered-list-item\">Anne Steele, Muskingum University (left in 2016): $384,233</li> <li class=\"article__unordered-list-item\">Kathy Krendl, Otterbein University:  $378,035</li> <li class=\"article__unordered-list-item\">Rockwell Jones, Ohio Wesleyan University: $366,625</li> <li class=\"article__unordered-list-item\">Robert Helmer, Baldwin Wallace University: $365,616</li> <li class=\"article__unordered-list-item\">Robert Huntington, Heidelberg University: $300,005</li> <li class=\"article__unordered-list-item\">Lori Varlotta, Hiram College: $293,336</li> <li class=\"article__unordered-list-item\">Joseph Bruno, Marietta College (left in 2016): $288,295</li> <li class=\"article__unordered-list-item\">W. Richard Merriman Jr., University of Mount Union (started in June 2015): $221,761</li> </ul>\n"
          ],
          "name": "stdout"
        }
      ]
    },
    {
      "metadata": {
        "id": "3ydnec89Ze8d",
        "colab_type": "code",
        "colab": {
          "base_uri": "https://localhost:8080/",
          "height": 55
        },
        "outputId": "34b9f744-48db-43ba-8720-7cedfc9bb146"
      },
      "cell_type": "code",
      "source": [
        "president_list_items = president_list.find_all(class_='article__unordered-list-item')\n",
        "print(president_list_items)"
      ],
      "execution_count": 28,
      "outputs": [
        {
          "output_type": "stream",
          "text": [
            "[<li class=\"article__unordered-list-item\">Grant Cornwell, College of Wooster (left in 2015): $911,651</li>, <li class=\"article__unordered-list-item\">Marvin Krislov, Oberlin College (left in 2016):  $829,913</li>, <li class=\"article__unordered-list-item\">Mark Roosevelt, Antioch College, (left in 2015): $507,672</li>, <li class=\"article__unordered-list-item\">Laurie Joyner, Wittenberg University (left in 2015): $463,504</li>, <li class=\"article__unordered-list-item\">Richard Giese, University of Mount Union (left in 2015): $453,800</li>, <li class=\"article__unordered-list-item\">Sean Decatur,Kenyon College: $451,698</li>, <li class=\"article__unordered-list-item\">Adam Weinberg, Denison University: $435,322</li>, <li class=\"article__unordered-list-item\">Daniel Dibiasio, Ohio Northern University: $414,716</li>, <li class=\"article__unordered-list-item\">Denvy Bowman, Capital University (left in 2016): $388,570</li>, <li class=\"article__unordered-list-item\">Anne Steele, Muskingum University (left in 2016): $384,233</li>, <li class=\"article__unordered-list-item\">Kathy Krendl, Otterbein University:  $378,035</li>, <li class=\"article__unordered-list-item\">Rockwell Jones, Ohio Wesleyan University: $366,625</li>, <li class=\"article__unordered-list-item\">Robert Helmer, Baldwin Wallace University: $365,616</li>, <li class=\"article__unordered-list-item\">Robert Huntington, Heidelberg University: $300,005</li>, <li class=\"article__unordered-list-item\">Lori Varlotta, Hiram College: $293,336</li>, <li class=\"article__unordered-list-item\">Joseph Bruno, Marietta College (left in 2016): $288,295</li>, <li class=\"article__unordered-list-item\">W. Richard Merriman Jr., University of Mount Union (started in June 2015): $221,761</li>]\n"
          ],
          "name": "stdout"
        }
      ]
    },
    {
      "metadata": {
        "id": "ADjTMxM_Z69W",
        "colab_type": "code",
        "colab": {
          "base_uri": "https://localhost:8080/",
          "height": 312
        },
        "outputId": "13650297-fec2-4271-f807-0509975a891f"
      },
      "cell_type": "code",
      "source": [
        "for president in president_list_items:\n",
        "    print(president.text)"
      ],
      "execution_count": 29,
      "outputs": [
        {
          "output_type": "stream",
          "text": [
            "Grant Cornwell, College of Wooster (left in 2015): $911,651\n",
            "Marvin Krislov, Oberlin College (left in 2016):  $829,913\n",
            "Mark Roosevelt, Antioch College, (left in 2015): $507,672\n",
            "Laurie Joyner, Wittenberg University (left in 2015): $463,504\n",
            "Richard Giese, University of Mount Union (left in 2015): $453,800\n",
            "Sean Decatur,Kenyon College: $451,698\n",
            "Adam Weinberg, Denison University: $435,322\n",
            "Daniel Dibiasio, Ohio Northern University: $414,716\n",
            "Denvy Bowman, Capital University (left in 2016): $388,570\n",
            "Anne Steele, Muskingum University (left in 2016): $384,233\n",
            "Kathy Krendl, Otterbein University:  $378,035\n",
            "Rockwell Jones, Ohio Wesleyan University: $366,625\n",
            "Robert Helmer, Baldwin Wallace University: $365,616\n",
            "Robert Huntington, Heidelberg University: $300,005\n",
            "Lori Varlotta, Hiram College: $293,336\n",
            "Joseph Bruno, Marietta College (left in 2016): $288,295\n",
            "W. Richard Merriman Jr., University of Mount Union (started in June 2015): $221,761\n"
          ],
          "name": "stdout"
        }
      ]
    },
    {
      "metadata": {
        "id": "pCFIeRxddeJp",
        "colab_type": "code",
        "colab": {
          "base_uri": "https://localhost:8080/",
          "height": 176
        },
        "outputId": "f7148a04-c4cc-4bbf-ac7c-0028af86a555"
      },
      "cell_type": "code",
      "source": [
        "firstname = []\n",
        "lastname = []\n",
        "college = []\n",
        "salary = []\n",
        "\n",
        "for president in president_list_items:\n",
        "    fullname = president.text.split(\",\")[0].split(\" \")\n",
        "    firstname.append(\" \".join(fullname[:len(fullname)//2]))\n",
        "    lastname.append(\" \".join(fullname[len(fullname)//2:]))\n",
        "    college.append(president.text.split(\",\")[1].split(\":\")[0].strip())\n",
        "    \n",
        "    regex_salary = r\"(\\$\\d{3},\\d{3})\"\n",
        "    salary.append(re.search(regex_salary, president.text)[0])\n",
        "    \n",
        "print(len(firstname))\n",
        "print(firstname)\n",
        "print(len(lastname))\n",
        "print(lastname)\n",
        "print(len(college))\n",
        "print(college)\n",
        "print(len(salary))\n",
        "print(salary)"
      ],
      "execution_count": 30,
      "outputs": [
        {
          "output_type": "stream",
          "text": [
            "17\n",
            "['Grant', 'Marvin', 'Mark', 'Laurie', 'Richard', 'Sean', 'Adam', 'Daniel', 'Denvy', 'Anne', 'Kathy', 'Rockwell', 'Robert', 'Robert', 'Lori', 'Joseph', 'W. Richard']\n",
            "17\n",
            "['Cornwell', 'Krislov', 'Roosevelt', 'Joyner', 'Giese', 'Decatur', 'Weinberg', 'Dibiasio', 'Bowman', 'Steele', 'Krendl', 'Jones', 'Helmer', 'Huntington', 'Varlotta', 'Bruno', 'Merriman Jr.']\n",
            "17\n",
            "['College of Wooster (left in 2015)', 'Oberlin College (left in 2016)', 'Antioch College', 'Wittenberg University (left in 2015)', 'University of Mount Union (left in 2015)', 'Kenyon College', 'Denison University', 'Ohio Northern University', 'Capital University (left in 2016)', 'Muskingum University (left in 2016)', 'Otterbein University', 'Ohio Wesleyan University', 'Baldwin Wallace University', 'Heidelberg University', 'Hiram College', 'Marietta College (left in 2016)', 'University of Mount Union (started in June 2015)']\n",
            "17\n",
            "['$911,651', '$829,913', '$507,672', '$463,504', '$453,800', '$451,698', '$435,322', '$414,716', '$388,570', '$384,233', '$378,035', '$366,625', '$365,616', '$300,005', '$293,336', '$288,295', '$221,761']\n"
          ],
          "name": "stdout"
        }
      ]
    },
    {
      "metadata": {
        "id": "USk90MgxfWLN",
        "colab_type": "code",
        "colab": {
          "base_uri": "https://localhost:8080/",
          "height": 674
        },
        "outputId": "9adb7429-182e-47f9-f993-150f4ef87d1a"
      },
      "cell_type": "code",
      "source": [
        "data = {'First Name': firstname, 'Last Name': lastname, \n",
        "                  'College': college, 'Salary': salary}\n",
        "df = pd.DataFrame(data=data)\n",
        "print(df.shape)\n",
        "print(df.isnull().sum())\n",
        "df.head(17)"
      ],
      "execution_count": 31,
      "outputs": [
        {
          "output_type": "stream",
          "text": [
            "(17, 4)\n",
            "College       0\n",
            "First Name    0\n",
            "Last Name     0\n",
            "Salary        0\n",
            "dtype: int64\n"
          ],
          "name": "stdout"
        },
        {
          "output_type": "execute_result",
          "data": {
            "text/html": [
              "<div>\n",
              "<style scoped>\n",
              "    .dataframe tbody tr th:only-of-type {\n",
              "        vertical-align: middle;\n",
              "    }\n",
              "\n",
              "    .dataframe tbody tr th {\n",
              "        vertical-align: top;\n",
              "    }\n",
              "\n",
              "    .dataframe thead th {\n",
              "        text-align: right;\n",
              "    }\n",
              "</style>\n",
              "<table border=\"1\" class=\"dataframe\">\n",
              "  <thead>\n",
              "    <tr style=\"text-align: right;\">\n",
              "      <th></th>\n",
              "      <th>College</th>\n",
              "      <th>First Name</th>\n",
              "      <th>Last Name</th>\n",
              "      <th>Salary</th>\n",
              "    </tr>\n",
              "  </thead>\n",
              "  <tbody>\n",
              "    <tr>\n",
              "      <th>0</th>\n",
              "      <td>College of Wooster (left in 2015)</td>\n",
              "      <td>Grant</td>\n",
              "      <td>Cornwell</td>\n",
              "      <td>$911,651</td>\n",
              "    </tr>\n",
              "    <tr>\n",
              "      <th>1</th>\n",
              "      <td>Oberlin College (left in 2016)</td>\n",
              "      <td>Marvin</td>\n",
              "      <td>Krislov</td>\n",
              "      <td>$829,913</td>\n",
              "    </tr>\n",
              "    <tr>\n",
              "      <th>2</th>\n",
              "      <td>Antioch College</td>\n",
              "      <td>Mark</td>\n",
              "      <td>Roosevelt</td>\n",
              "      <td>$507,672</td>\n",
              "    </tr>\n",
              "    <tr>\n",
              "      <th>3</th>\n",
              "      <td>Wittenberg University (left in 2015)</td>\n",
              "      <td>Laurie</td>\n",
              "      <td>Joyner</td>\n",
              "      <td>$463,504</td>\n",
              "    </tr>\n",
              "    <tr>\n",
              "      <th>4</th>\n",
              "      <td>University of Mount Union (left in 2015)</td>\n",
              "      <td>Richard</td>\n",
              "      <td>Giese</td>\n",
              "      <td>$453,800</td>\n",
              "    </tr>\n",
              "    <tr>\n",
              "      <th>5</th>\n",
              "      <td>Kenyon College</td>\n",
              "      <td>Sean</td>\n",
              "      <td>Decatur</td>\n",
              "      <td>$451,698</td>\n",
              "    </tr>\n",
              "    <tr>\n",
              "      <th>6</th>\n",
              "      <td>Denison University</td>\n",
              "      <td>Adam</td>\n",
              "      <td>Weinberg</td>\n",
              "      <td>$435,322</td>\n",
              "    </tr>\n",
              "    <tr>\n",
              "      <th>7</th>\n",
              "      <td>Ohio Northern University</td>\n",
              "      <td>Daniel</td>\n",
              "      <td>Dibiasio</td>\n",
              "      <td>$414,716</td>\n",
              "    </tr>\n",
              "    <tr>\n",
              "      <th>8</th>\n",
              "      <td>Capital University (left in 2016)</td>\n",
              "      <td>Denvy</td>\n",
              "      <td>Bowman</td>\n",
              "      <td>$388,570</td>\n",
              "    </tr>\n",
              "    <tr>\n",
              "      <th>9</th>\n",
              "      <td>Muskingum University (left in 2016)</td>\n",
              "      <td>Anne</td>\n",
              "      <td>Steele</td>\n",
              "      <td>$384,233</td>\n",
              "    </tr>\n",
              "    <tr>\n",
              "      <th>10</th>\n",
              "      <td>Otterbein University</td>\n",
              "      <td>Kathy</td>\n",
              "      <td>Krendl</td>\n",
              "      <td>$378,035</td>\n",
              "    </tr>\n",
              "    <tr>\n",
              "      <th>11</th>\n",
              "      <td>Ohio Wesleyan University</td>\n",
              "      <td>Rockwell</td>\n",
              "      <td>Jones</td>\n",
              "      <td>$366,625</td>\n",
              "    </tr>\n",
              "    <tr>\n",
              "      <th>12</th>\n",
              "      <td>Baldwin Wallace University</td>\n",
              "      <td>Robert</td>\n",
              "      <td>Helmer</td>\n",
              "      <td>$365,616</td>\n",
              "    </tr>\n",
              "    <tr>\n",
              "      <th>13</th>\n",
              "      <td>Heidelberg University</td>\n",
              "      <td>Robert</td>\n",
              "      <td>Huntington</td>\n",
              "      <td>$300,005</td>\n",
              "    </tr>\n",
              "    <tr>\n",
              "      <th>14</th>\n",
              "      <td>Hiram College</td>\n",
              "      <td>Lori</td>\n",
              "      <td>Varlotta</td>\n",
              "      <td>$293,336</td>\n",
              "    </tr>\n",
              "    <tr>\n",
              "      <th>15</th>\n",
              "      <td>Marietta College (left in 2016)</td>\n",
              "      <td>Joseph</td>\n",
              "      <td>Bruno</td>\n",
              "      <td>$288,295</td>\n",
              "    </tr>\n",
              "    <tr>\n",
              "      <th>16</th>\n",
              "      <td>University of Mount Union (started in June 2015)</td>\n",
              "      <td>W. Richard</td>\n",
              "      <td>Merriman Jr.</td>\n",
              "      <td>$221,761</td>\n",
              "    </tr>\n",
              "  </tbody>\n",
              "</table>\n",
              "</div>"
            ],
            "text/plain": [
              "                                             College  First Name  \\\n",
              "0                  College of Wooster (left in 2015)       Grant   \n",
              "1                     Oberlin College (left in 2016)      Marvin   \n",
              "2                                    Antioch College        Mark   \n",
              "3               Wittenberg University (left in 2015)      Laurie   \n",
              "4           University of Mount Union (left in 2015)     Richard   \n",
              "5                                     Kenyon College        Sean   \n",
              "6                                 Denison University        Adam   \n",
              "7                           Ohio Northern University      Daniel   \n",
              "8                  Capital University (left in 2016)       Denvy   \n",
              "9                Muskingum University (left in 2016)        Anne   \n",
              "10                              Otterbein University       Kathy   \n",
              "11                          Ohio Wesleyan University    Rockwell   \n",
              "12                        Baldwin Wallace University      Robert   \n",
              "13                             Heidelberg University      Robert   \n",
              "14                                     Hiram College        Lori   \n",
              "15                   Marietta College (left in 2016)      Joseph   \n",
              "16  University of Mount Union (started in June 2015)  W. Richard   \n",
              "\n",
              "       Last Name    Salary  \n",
              "0       Cornwell  $911,651  \n",
              "1        Krislov  $829,913  \n",
              "2      Roosevelt  $507,672  \n",
              "3         Joyner  $463,504  \n",
              "4          Giese  $453,800  \n",
              "5        Decatur  $451,698  \n",
              "6       Weinberg  $435,322  \n",
              "7       Dibiasio  $414,716  \n",
              "8         Bowman  $388,570  \n",
              "9         Steele  $384,233  \n",
              "10        Krendl  $378,035  \n",
              "11         Jones  $366,625  \n",
              "12        Helmer  $365,616  \n",
              "13    Huntington  $300,005  \n",
              "14      Varlotta  $293,336  \n",
              "15         Bruno  $288,295  \n",
              "16  Merriman Jr.  $221,761  "
            ]
          },
          "metadata": {
            "tags": []
          },
          "execution_count": 31
        }
      ]
    },
    {
      "metadata": {
        "id": "1dCb1q8XphcP",
        "colab_type": "text"
      },
      "cell_type": "markdown",
      "source": [
        "# 4) Stretch Goals\n",
        "\n",
        "- Write a web scraper that can scrape \"Data Scientist\" job listings from indeed.com.\n",
        "- Practice your regex skills: <https://regexone.com/>\n",
        "- Look ahead to some of the topics from later this week:\n",
        " - Tokenization\n",
        " - Stemming\n",
        " - Lemmatization\n",
        " - Chunking\n",
        " - Part of Speech Tagging\n",
        " - Named Entity Recognition\n",
        " - Document Classification\n",
        " "
      ]
    },
    {
      "metadata": {
        "id": "7gkcnrq5l25H",
        "colab_type": "code",
        "colab": {
          "base_uri": "https://localhost:8080/",
          "height": 1768
        },
        "outputId": "8fe8ba53-ec61-47c8-f79c-b13ac8a7dff7"
      },
      "cell_type": "code",
      "source": [
        "address_list = \"\"\n",
        "\n",
        "with open('data.txt', 'r', encoding='utf-8') as f:\n",
        "  for cnt, line in enumerate(f):\n",
        "    if cnt % 5 == 0: # 0 - Name, 1 - Phone, 2 - Address, 3- Email\n",
        "      address_list += line\n",
        "      \n",
        "print(address_list)"
      ],
      "execution_count": 32,
      "outputs": [
        {
          "output_type": "stream",
          "text": [
            "Dave Martin\n",
            "Charles Harris\n",
            "Eric Williams\n",
            "Corey Jefferson\n",
            "Jennifer Martin-White\n",
            "Erick Davis\n",
            "Neil Patterson\n",
            "Laura Jefferson\n",
            "Maria Johnson\n",
            "Michael Arnold\n",
            "Michael Smith\n",
            "Erik Stuart\n",
            "Laura Martin\n",
            "Barbara Martin\n",
            "Linda Jackson\n",
            "Eric Miller\n",
            "Dave Arnold\n",
            "Jennifer Jacobs\n",
            "Neil Wilson\n",
            "Kurt Jackson\n",
            "Mary Jacobs\n",
            "Michael White\n",
            "Jennifer Jenkins\n",
            "Sam Wright\n",
            "John Davis\n",
            "Eric Davis\n",
            "Laura Jackson\n",
            "John Williams\n",
            "Michael Martin\n",
            "Maggie Brown\n",
            "Erik Wilson\n",
            "Elizabeth Arnold\n",
            "Jane Martin\n",
            "Travis Johnson\n",
            "Laura Jefferson\n",
            "Tom Williams\n",
            "Jennifer Taylor\n",
            "Erick Wright\n",
            "Steve Doe\n",
            "Kurt Davis\n",
            "Corey Harris\n",
            "Nicole Taylor\n",
            "Elizabeth Davis\n",
            "Maggie Jenkins\n",
            "Linda Davis\n",
            "Dave Moore\n",
            "Linda Jenkins\n",
            "Eric White\n",
            "Laura Robinson\n",
            "Charles Patterson\n",
            "Joe Jackson\n",
            "Michael Johnson\n",
            "Corey Miller\n",
            "James Moore\n",
            "Jennifer Stuart\n",
            "Charles Martin\n",
            "Eric Wilks\n",
            "Elizabeth Arnold\n",
            "John Miller\n",
            "Corey Jackson\n",
            "Sam Thomas\n",
            "Patricia Thomas\n",
            "Jennifer Davis\n",
            "Patricia Brown\n",
            "Barbara Williams\n",
            "James Taylor\n",
            "Eric Harris\n",
            "Travis Anderson\n",
            "Sam Robinson\n",
            "Steve Robinson\n",
            "Mary Wilson\n",
            "Sam Wilson\n",
            "Charles Jones\n",
            "Laura Brown\n",
            "Tom Harris\n",
            "Patricia Taylor\n",
            "Barbara Williams\n",
            "Maggie Johnson\n",
            "Kurt Miller\n",
            "Neil Stuart\n",
            "Linda Patterson\n",
            "Charles Davis\n",
            "Jennifer Jefferson\n",
            "Erick Taylor\n",
            "Robert Wilks\n",
            "Travis Jackson\n",
            "Travis Jackson\n",
            "Laura Wilks\n",
            "Neil Arnold\n",
            "Linda Johnson\n",
            "Jennifer Wilson\n",
            "Nicole White\n",
            "Maria Arnold\n",
            "Jennifer Davis\n",
            "Mary Patterson\n",
            "Jane Stuart\n",
            "Robert Davis\n",
            "James Taylor\n",
            "Eric Stuart\n",
            "Charles Miller\n",
            "\n"
          ],
          "name": "stdout"
        }
      ]
    }
  ]
}