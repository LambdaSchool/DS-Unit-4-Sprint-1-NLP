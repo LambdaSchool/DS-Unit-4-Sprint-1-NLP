{
 "cells": [
  {
   "cell_type": "markdown",
   "metadata": {},
   "source": [
    "<img align=\"left\" src=\"https://lever-client-logos.s3.amazonaws.com/864372b1-534c-480e-acd5-9711f850815c-1524247202159.png\" width=200>\n",
    "<br></br>\n",
    "<br></br>\n",
    "\n",
    "# Natural Language Processing (NLP)\n",
    "## *Data Science Unit 4 Sprint 2 Assignment 1*\n",
    "\n",
    "Analyze a corpus of text using text visualization of token frequency. Try cleaning the data as much as possible. Try the following techniques: \n",
    "- Stemming\n",
    "- Lemmatization\n",
    "- Custom stopword removal\n",
    "- Using frequency based stopwrod removal\n",
    "\n",
    "You are free to use any dataset you are interested in. Kaggle is a great place to start. Feel free to sample the data if the dataset is too large to hanlde in memory. "
   ]
  },
  {
   "cell_type": "code",
   "execution_count": 1,
   "metadata": {},
   "outputs": [],
   "source": [
    "# Start here \n",
    "\"\"\"\n",
    "Import Statements\n",
    "\"\"\"\n",
    "\n",
    "# Base\n",
    "from collections import Counter\n",
    "import re\n",
    "\n",
    "import pandas as pd\n",
    "\n",
    "# Plotting\n",
    "import squarify\n",
    "import matplotlib.pyplot as plt\n",
    "import seaborn as sns\n",
    "\n",
    "# NLP Libraries\n",
    "import spacy\n",
    "from spacy.tokenizer import Tokenizer\n",
    "from nltk.stem import PorterStemmer\n",
    "\n",
    "nlp = spacy.load(\"en_core_web_sm\")"
   ]
  },
  {
   "cell_type": "code",
   "execution_count": 4,
   "metadata": {},
   "outputs": [],
   "source": [
    "import os\n",
    "\n",
    "def gather_data(filefolder):\n",
    "    \n",
    "    data = []\n",
    "    \n",
    "    files = os.listdir(filefolder)\n",
    "    \n",
    "    \n",
    "    for article in files:\n",
    "        \n",
    "        path = os.path.join(filefolder, article)\n",
    "        \n",
    "        if path[-3:] == 'txt':\n",
    "            with open(path, 'rb') as f:\n",
    "                      data.append(f.read())\n",
    "                      \n",
    "    return data"
   ]
  },
  {
   "cell_type": "code",
   "execution_count": 5,
   "metadata": {},
   "outputs": [],
   "source": [
    "data = gather_data('./data/reuters21578')"
   ]
  },
  {
   "cell_type": "code",
   "execution_count": 6,
   "metadata": {},
   "outputs": [
    {
     "data": {
      "text/plain": [
       "b'adb-africa\\nadb-asia\\naibd\\naid\\nanrpc\\nasean\\natpc\\nbis\\n'"
      ]
     },
     "execution_count": 6,
     "metadata": {},
     "output_type": "execute_result"
    }
   ],
   "source": [
    "data[0][:50]"
   ]
  },
  {
   "cell_type": "code",
   "execution_count": 13,
   "metadata": {},
   "outputs": [
    {
     "name": "stdout",
     "output_type": "stream",
     "text": [
      "<!DOCTYPE lewis SYSTEM \"lewis.dtd\">\n",
      "<REUTERS TOPICS=\"YES\" LEWISSPLIT=\"TRAIN\" CGISPLIT=\"TRAINING-SET\" OLDID=\"5544\" NEWID=\"1\">\n",
      "<DATE>26-FEB-1987 15:01:01.79</DATE>\n",
      "<TOPICS><D>cocoa</D></TOPICS>\n",
      "<PLACES><D>el-salvador</D><D>usa</D><D>uruguay</D></PLACES>\n",
      "<PEOPLE></PEOPLE>\n",
      "<ORGS></ORGS>\n",
      "<EXCHANGES></EXC\n"
     ]
    }
   ],
   "source": [
    "# Load in each data file (zfill pads out integers with leading zeros)\n",
    "text_data = []\n",
    "for index in range(22):\n",
    "    filename = './data/reuters21578/reut2-{0}.sgm'.format(str(index).zfill(3))\n",
    "    with open(filename, 'r', encoding = 'utf-8', errors = 'ignore') as infile:\n",
    "        text_data.append(infile.read())\n",
    "# Print first 300 characters of first file\n",
    "print(text_data[0][:300])"
   ]
  },
  {
   "cell_type": "code",
   "execution_count": 15,
   "metadata": {},
   "outputs": [
    {
     "name": "stdout",
     "output_type": "stream",
     "text": [
      "Showers continued throughout the week in\n",
      "the Bahia cocoa zone, alleviating the drought since early\n",
      "January and improving prospects for the coming temporao,\n",
      "although normal humidity levels have not been restored,\n",
      "Comissaria Smith said in its weekly review.\n",
      "    The dry period means the temporao will be late this year.\n",
      "    Arrivals for the week ended February 22 were 155,221 bags\n",
      "of 60 kilos making a cumulative total for the season of 5.93\n",
      "mln against 5.81 at the same stage last year. Again it seems\n",
      "that cocoa delivered earlier on consignment was included in the\n",
      "arrivals figures.\n",
      "    Comissaria Smith said there is still some doubt as to how\n",
      "much old crop cocoa is still available as harvesting has\n",
      "practically come to an end. With total Bahia crop estimates\n",
      "around 6.4 mln bags and sales standing at almost 6.2 mln there\n",
      "are a few hundred thousand bags still in the hands of farmers,\n",
      "middlemen, exporters and processors.\n",
      "    There are doubts as to how much of this cocoa would be fit\n",
      "for export as shippers are now experiencing dificulties in\n",
      "obtaining +Bahia superior+ certificates.\n",
      "    In view of the lower quality over recent weeks farmers have\n",
      "sold a good part of their cocoa held on consignment.\n",
      "    Comissaria Smith said spot bean prices rose to 340 to 350\n",
      "cruzados per arroba of 15 kilos.\n",
      "    Bean shippers were reluctant to offer nearby shipment and\n",
      "only limited sales were booked for March shipment at 1,750 to\n",
      "1,780 dlrs per tonne to ports to be named.\n",
      "    New crop sales were also light and all to open ports with\n",
      "June/July going at 1,850 and 1,880 dlrs and at 35 and 45 dlrs\n",
      "under New York july, Aug/Sept at 1,870, 1,875 and 1,880 dlrs\n",
      "per tonne FOB.\n",
      "    Routine sales of butter were made. March/April sold at\n",
      "4,340, 4,345 and 4,350 dlrs.\n",
      "    April/May butter went at 2.27 times New York May, June/July\n",
      "at 4,400 and 4,415 dlrs, Aug/Sept at 4,351 to 4,450 dlrs and at\n",
      "2.27 and 2.28 times New York Sept and Oct/Dec at 4,480 dlrs and\n",
      "2.27 times New York Dec, Comissaria Smith said.\n",
      "    Destinations were the U.S., Covertible currency areas,\n",
      "Uruguay and open ports.\n",
      "    Cake sales were registered at 785 to 995 dlrs for\n",
      "March/April, 785 dlrs for May, 753 dlrs for Aug and 0.39 times\n",
      "New York Dec for Oct/Dec.\n",
      "    Buyers were the U.S., Argentina, Uruguay and convertible\n",
      "currency areas.\n",
      "    Liquor sales were limited with March/April selling at 2,325\n",
      "and 2,380 dlrs, June/July at 2,375 dlrs and at 1.25 times New\n",
      "York July, Aug/Sept at 2,400 dlrs and at 1.25 times New York\n",
      "Sept and Oct/Dec at 1.25 times New York Dec, Comissaria Smith\n",
      "said.\n",
      "    Total Bahia sales are currently estimated at 6.13 mln bags\n",
      "against the 1986/87 crop and 1.06 mln bags against the 1987/88\n",
      "crop.\n",
      "    Final figures for the period to February 28 are expected to\n",
      "be published by the Brazilian Cocoa Trade Commission after\n",
      "carnival which ends midday on February 27.\n",
      " Reuter\n",
      "\u0003\n"
     ]
    }
   ],
   "source": [
    "# Separate each text file into articles\n",
    "import bs4\n",
    "from bs4 import BeautifulSoup\n",
    "\n",
    "articles = []\n",
    "for textfile in text_data:\n",
    "    # Parse text as html using beautiful soup\n",
    "    parsed_text = BeautifulSoup(textfile, 'html.parser')\n",
    "    # Extract article between <BODY> and </BODY> and convert to standard text. Add to list of articles\n",
    "    articles += [article.get_text() for article in parsed_text.find_all('body')]\n",
    "# print the first article as an example\n",
    "print(articles[0])"
   ]
  },
  {
   "cell_type": "code",
   "execution_count": 17,
   "metadata": {},
   "outputs": [
    {
     "name": "stdout",
     "output_type": "stream",
     "text": [
      "showers continued throughout the week in\n",
      "the bahia cocoa zone alleviating the drought since early\n",
      "january and improving prospects for the coming temporao\n",
      "although normal humidity levels have not been restored\n",
      "comissaria smith said in its weekly review\n",
      "    the dry period means the temporao will be late this year\n",
      "    arrivals for the week ended february num were num bags\n",
      "of num kilos making a cumulative total for the season of num\n",
      "mln against num at the same stage last year again it seems\n",
      "that cocoa delivered earlier on consignment was included in the\n",
      "arrivals figures\n",
      "    comissaria smith said there is still some doubt as to how\n",
      "much old crop cocoa is still available as harvesting has\n",
      "practically come to an end with total bahia crop estimates\n",
      "around num mln bags and sales standing at almost num mln there\n",
      "are a few hundred thousand bags still in the hands of farmers\n",
      "middlemen exporters and processors\n",
      "    there are doubts as to how much of this cocoa would be fit\n",
      "for export as shippers are now experiencing dificulties in\n",
      "obtaining bahia superior certificates\n",
      "    in view of the lower quality over recent weeks farmers have\n",
      "sold a good part of their cocoa held on consignment\n",
      "    comissaria smith said spot bean prices rose to num to num\n",
      "cruzados per arroba of num kilos\n",
      "    bean shippers were reluctant to offer nearby shipment and\n",
      "only limited sales were booked for march shipment at num to\n",
      "num dlrs per tonne to ports to be named\n",
      "    new crop sales were also light and all to open ports with\n",
      "junejuly going at num and num dlrs and at num and num dlrs\n",
      "under new york july augsept at num num and num dlrs\n",
      "per tonne fob\n",
      "    routine sales of butter were made marchapril sold at\n",
      "num num and num dlrs\n",
      "    aprilmay butter went at num times new york may junejuly\n",
      "at num and num dlrs augsept at num to num dlrs and at\n",
      "num and num times new york sept and octdec at num dlrs and\n",
      "num times new york dec comissaria smith said\n",
      "    destinations were the us covertible currency areas\n",
      "uruguay and open ports\n",
      "    cake sales were registered at num to num dlrs for\n",
      "marchapril num dlrs for may num dlrs for aug and num times\n",
      "new york dec for octdec\n",
      "    buyers were the us argentina uruguay and convertible\n",
      "currency areas\n",
      "    liquor sales were limited with marchapril selling at num\n",
      "and num dlrs junejuly at num dlrs and at num times new\n",
      "york july augsept at num dlrs and at num times new york\n",
      "sept and octdec at num times new york dec comissaria smith\n",
      "said\n",
      "    total bahia sales are currently estimated at num mln bags\n",
      "against the num crop and num mln bags against the num\n",
      "crop\n",
      "    final figures for the period to february num are expected to\n",
      "be published by the brazilian cocoa trade commission after\n",
      "carnival which ends midday on february num\n",
      " reuter\n",
      "\u0003\n"
     ]
    }
   ],
   "source": [
    "import string\n",
    "\n",
    "# Convert each article to all lower case\n",
    "articles = [article.lower() for article in articles]\n",
    "# Strip all punctuation from each article\n",
    "# This uses str.translate to map all punctuation to the empty string\n",
    "table = str.maketrans('', '', string.punctuation)\n",
    "articles = [article.translate(table) for article in articles]\n",
    "# Convert all numbers in the article to the word 'num' using regular expressions\n",
    "articles = [re.sub(r'\\d+', 'num', article) for article in articles]\n",
    "# Print the first article as a running example\n",
    "print(articles[0])"
   ]
  },
  {
   "cell_type": "code",
   "execution_count": 19,
   "metadata": {},
   "outputs": [],
   "source": [
    "import nltk\n",
    "\n",
    "# Create stopwords list, convert to a set for speed\n",
    "stopwords = set(nltk.corpus.stopwords.words('english') + ['reuter', '\\x03'])\n",
    "articles = [[word for word in article.split() if word not in stopwords] for article in articles]"
   ]
  },
  {
   "cell_type": "code",
   "execution_count": 20,
   "metadata": {},
   "outputs": [
    {
     "name": "stdout",
     "output_type": "stream",
     "text": [
      "shower continu throughout week bahia cocoa zone allevi drought sinc earli januari improv prospect come temporao although normal humid level restor comissaria smith said weekli review dri period mean temporao late year arriv week end februari num num bag num kilo make cumul total season num mln num stage last year seem cocoa deliv earlier consign includ arriv figur comissaria smith said still doubt much old crop cocoa still avail harvest practic come end total bahia crop estim around num mln bag sale stand almost num mln hundr thousand bag still hand farmer middlemen export processor doubt much cocoa would fit export shipper experienc dificulti obtain bahia superior certif view lower qualiti recent week farmer sold good part cocoa held consign comissaria smith said spot bean price rose num num cruzado per arroba num kilo bean shipper reluct offer nearbi shipment limit sale book march shipment num num dlr per tonn port name new crop sale also light open port junejuli go num num dlr num num dlr new york juli augsept num num num dlr per tonn fob routin sale butter made marchapril sold num num num dlr aprilmay butter went num time new york may junejuli num num dlr augsept num num dlr num num time new york sept octdec num dlr num time new york dec comissaria smith said destin us covert currenc area uruguay open port cake sale regist num num dlr marchapril num dlr may num dlr aug num time new york dec octdec buyer us argentina uruguay convert currenc area liquor sale limit marchapril sell num num dlr junejuli num dlr num time new york juli augsept num dlr num time new york sept octdec num time new york dec comissaria smith said total bahia sale current estim num mln bag num crop num mln bag num crop final figur period februari num expect publish brazilian cocoa trade commiss carniv end midday februari num\n"
     ]
    }
   ],
   "source": [
    "stemmer = nltk.stem.PorterStemmer()\n",
    "articles = [\" \".join([stemmer.stem(word) for word in article]) for article in articles]\n",
    "# print the first article as a running example\n",
    "print(articles[0])"
   ]
  },
  {
   "cell_type": "markdown",
   "metadata": {
    "colab_type": "text",
    "id": "1dCb1q8XphcP",
    "toc-hr-collapsed": true
   },
   "source": [
    "## Stretch Goals\n",
    "\n",
    "* Write a web scraper that can scrape \"Data Scientist\" job listings from indeed.com.\n",
    "* Look ahead to some of the topics from later this week:\n",
    " - Part of Speech Tagging\n",
    " - Named Entity Recognition\n",
    " - Document Classification\n",
    "* Try a different visualization techniques\n",
    "* Automate the process of retriving job listings. ;)"
   ]
  }
 ],
 "metadata": {
  "colab": {
   "collapsed_sections": [],
   "name": "LS_DS_421_Text_Data_Assignment.ipynb",
   "provenance": [],
   "version": "0.3.2"
  },
  "kernelspec": {
   "display_name": "Python 3",
   "language": "python",
   "name": "python3"
  },
  "language_info": {
   "codemirror_mode": {
    "name": "ipython",
    "version": 3
   },
   "file_extension": ".py",
   "mimetype": "text/x-python",
   "name": "python",
   "nbconvert_exporter": "python",
   "pygments_lexer": "ipython3",
   "version": "3.7.3"
  },
  "toc-autonumbering": false
 },
 "nbformat": 4,
 "nbformat_minor": 2
}
