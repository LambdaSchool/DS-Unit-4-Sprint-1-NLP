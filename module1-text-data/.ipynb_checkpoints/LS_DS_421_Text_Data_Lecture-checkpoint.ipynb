{
  "nbformat": 4,
  "nbformat_minor": 0,
  "metadata": {
    "colab": {
      "name": "LS_DS_421_Text_Data_Lecture.ipynb",
      "version": "0.3.2",
      "provenance": [],
      "collapsed_sections": [],
      "include_colab_link": true
    },
    "language_info": {
      "codemirror_mode": {
        "name": "ipython",
        "version": 3
      },
      "file_extension": ".py",
      "mimetype": "text/x-python",
      "name": "python",
      "nbconvert_exporter": "python",
      "pygments_lexer": "ipython3",
      "version": "3.7.3"
    },
    "kernelspec": {
      "display_name": "Python 3",
      "language": "python",
      "name": "python3"
    }
  },
  "cells": [
    {
      "cell_type": "markdown",
      "metadata": {
        "id": "view-in-github",
        "colab_type": "text"
      },
      "source": [
        "<a href=\"https://colab.research.google.com/github/donw385/DS-Unit-4-Sprint-2-NLP/blob/master/module1-text-data/.ipynb_checkpoints/LS_DS_421_Text_Data_Lecture-checkpoint.ipynb\" target=\"_parent\"><img src=\"https://colab.research.google.com/assets/colab-badge.svg\" alt=\"Open In Colab\"/></a>"
      ]
    },
    {
      "metadata": {
        "id": "zP5DR_lz1nQ4",
        "colab_type": "text"
      },
      "cell_type": "markdown",
      "source": [
        "<img align=\"left\" src=\"https://lever-client-logos.s3.amazonaws.com/864372b1-534c-480e-acd5-9711f850815c-1524247202159.png\" width=200>\n",
        "<br></br>\n",
        "<br></br>\n",
        "\n",
        "## *Data Science Unit 4 Sprint 2 Lesson 1*\n",
        "\n",
        "# Natural Language Processing (NLP) \n",
        "\n",
        "\"Natural\" meaning - not computer languages but spoken/written human languages. The hard thing about NLP is that human languages are far less structured or consistent than computer languages. This is perhaps the largest source of difficulty when trying to get computers to \"understand\" human languages. How do you get a machine to understand sarcasm, and irony, and synonyms, connotation, denotation, nuance, and tone of voice --all without it having lived a lifetime of experience for context? If you think about it, our human brains have been exposed to quite a lot of training data to help us interpret languages, and even then we misunderstand each other pretty frequently. \n",
        "\n",
        "## Learning Objectives\n",
        "* [Part 0](#p0): Consider challenges of NLP\n",
        "* [Part 1](#p1): Select parts of python strings\n",
        "* [Part 2](#p2): Webscrape & extract text from html\n",
        "* [Part 3](#p3): Tokenizing documents\n",
        "\n",
        "Let's consider John Searle's [Chinese Room](https://en.wikipedia.org/wiki/Chinese_room) thought experiment. Can AI ever truly understand language?"
      ]
    },
    {
      "metadata": {
        "colab_type": "text",
        "id": "XJYVEQbyfYVn"
      },
      "cell_type": "markdown",
      "source": [
        "from IPython.display import HTML\n",
        "HTML('''<<iframe width=\"560\" height=\"315\" src=\"https://www.youtube.com/embed/D0MD4sRHj1M\" frameborder=\"0\" allow=\"accelerometer; autoplay; encrypted-media; gyroscope; picture-in-picture\" allowfullscreen></iframe>''')"
      ]
    },
    {
      "metadata": {
        "colab_type": "text",
        "id": "18eQ2tQ6TqNi",
        "toc-hr-collapsed": false
      },
      "cell_type": "markdown",
      "source": [
        "# Popular Applications of NLP: \n",
        "Each application has a linked article highlighting that technique's use case. Check them out if you have downtime this afternoon or this week.\n",
        "\n",
        "- [Sentiment Analysis](https://www.nytimes.com/2009/08/24/technology/internet/24emotion.html) (Positive, Negative or Neutral)\n",
        "- [Chatbots](https://www.nytimes.com/interactive/2018/11/14/magazine/tech-design-ai-chatbot.html)\n",
        "- [Speech Recognition](https://deepmind.com/blog/wavenet-generative-model-raw-audio/) (dictation, Siri, \"hey google\", Amazon Echo, Cortana, video captioning, etc.)\n",
        " - Have to interpret the audio correctly\n",
        " - Have to interpret the words correctly after that.\n",
        "- [Machine Translation](https://www.technologyreview.com/s/611957/human-translators-are-still-on-top-for-now/)\n",
        "- [Spell Check](https://www.grammarly.com/blog/how-grammarly-uses-ai/)\n",
        "- [Keyword Search](https://www.wired.com/insights/2014/02/search-today-beyond-optimizing-semantic-web/)\n",
        "- [Spam Detection](https://www.youtube.com/watch?v=_iOxylrN4Io)\n",
        "- [Topic Modeling](https://fivethirtyeight.com/features/dissecting-trumps-most-rabid-online-following/)\n",
        "- [Natural Language Generation](https://openai.com/blog/better-language-models/)"
      ]
    },
    {
      "metadata": {
        "colab_type": "text",
        "id": "86TDsPAOTeKA",
        "toc-hr-collapsed": false
      },
      "cell_type": "markdown",
      "source": [
        "## The challenges of unstructured language data: \n",
        "\n",
        "Up until this point in the class we have worked mostly with what would be called \"tabluar data\" (arranged in a table of rows and columns) or \"structured data\" - relational database tables, json, etc. Human language (text/audio) is one form of \"unstructured\" data. Computers are inherently bad at processing unstructured data. You give them Python or JavaScript and they'll interpret it in a split second without making a single mistake, but what about some of the following situations:\n",
        "\n",
        "### Metaphors, idioms, etc.\n",
        "\n",
        "> \"Steph Curry was on fire last nice. He totally destroyed the other team\"\n",
        "\n",
        "### Punctuation - (COMMAS SAVE LIVES!!)\n",
        "\n",
        "> <img align = \"left\" src=\"https://media.makeameme.org/created/gangster-panda-eats.jpg\" width=200> \n",
        "\n",
        "> \"The panda eats, shoots and leaves.\" vs \"The panda eats shoots and leaves.\" "
      ]
    },
    {
      "metadata": {
        "id": "Ljtj3PeP1nRD",
        "colab_type": "code",
        "colab": {},
        "outputId": "c37a454c-9b3d-4d71-b217-765357000be2"
      },
      "cell_type": "code",
      "source": [
        "from IPython.display import HTML\n",
        "HTML('''<iframe src=\"https://open.spotify.com/embed/track/5nHRIKsXDwUpse9gzrAxLR\" width=\"300\" height=\"380\" frameborder=\"0\" allowtransparency=\"true\" allow=\"encrypted-media\"></iframe>''')"
      ],
      "execution_count": 0,
      "outputs": [
        {
          "output_type": "stream",
          "text": [
            "/Users/jonathansokoll/anaconda3/lib/python3.7/site-packages/IPython/core/display.py:689: UserWarning: Consider using IPython.display.IFrame instead\n",
            "  warnings.warn(\"Consider using IPython.display.IFrame instead\")\n"
          ],
          "name": "stderr"
        },
        {
          "output_type": "execute_result",
          "data": {
            "text/html": [
              "<iframe src=\"https://open.spotify.com/embed/track/5nHRIKsXDwUpse9gzrAxLR\" width=\"300\" height=\"380\" frameborder=\"0\" allowtransparency=\"true\" allow=\"encrypted-media\"></iframe>"
            ],
            "text/plain": [
              "<IPython.core.display.HTML object>"
            ]
          },
          "metadata": {
            "tags": []
          },
          "execution_count": 2
        }
      ]
    },
    {
      "metadata": {
        "colab_type": "text",
        "id": "sg0paGbWTnHT"
      },
      "cell_type": "markdown",
      "source": [
        "![XKCD Pictographs](https://imgs.xkcd.com/comics/inflection_2x.png)"
      ]
    },
    {
      "metadata": {
        "colab_type": "code",
        "id": "-JXH3Jpsaud2",
        "colab": {}
      },
      "cell_type": "code",
      "source": [
        "# Library imports for this lesson\n",
        "\n",
        "import pandas as pd\n",
        "import re\n",
        "from bs4 import BeautifulSoup\n",
        "import requests"
      ],
      "execution_count": 0,
      "outputs": []
    },
    {
      "metadata": {
        "colab_type": "text",
        "id": "P2JjOBZoGSld"
      },
      "cell_type": "markdown",
      "source": [
        "<a id=\"p1\"></a>\n",
        "# Python String Basics"
      ]
    },
    {
      "metadata": {
        "colab_type": "text",
        "id": "QCpuDX5fkv4G"
      },
      "cell_type": "markdown",
      "source": [
        "## Strings as a sequence of characters"
      ]
    },
    {
      "metadata": {
        "colab_type": "code",
        "id": "4_oMgLE4kzoO",
        "outputId": "036e86ab-5eeb-4950-f802-e2106f5bdfe1",
        "colab": {
          "base_uri": "https://localhost:8080/",
          "height": 70
        }
      },
      "cell_type": "code",
      "source": [
        "test = \"This is a test string\"\n",
        "\n",
        "# Strings are indexed like lists\n",
        "print(test[0])\n",
        "print(test[1])\n",
        "print(test[2])"
      ],
      "execution_count": 2,
      "outputs": [
        {
          "output_type": "stream",
          "text": [
            "T\n",
            "h\n",
            "i\n"
          ],
          "name": "stdout"
        }
      ]
    },
    {
      "metadata": {
        "colab_type": "code",
        "id": "FFmMcOcFo3Kf",
        "outputId": "fb177d1c-8a1c-4f22-ff26-b738989fd47c",
        "colab": {
          "base_uri": "https://localhost:8080/",
          "height": 70
        }
      },
      "cell_type": "code",
      "source": [
        "# You can also index strings from the back like lists\n",
        "print(test[-1])\n",
        "print(test[-2])\n",
        "print(test[-3])"
      ],
      "execution_count": 3,
      "outputs": [
        {
          "output_type": "stream",
          "text": [
            "g\n",
            "n\n",
            "i\n"
          ],
          "name": "stdout"
        }
      ]
    },
    {
      "metadata": {
        "colab_type": "code",
        "id": "RYwg_207lDrK",
        "outputId": "353d78f5-dd14-4b48-b628-610c121e4b38",
        "colab": {
          "base_uri": "https://localhost:8080/",
          "height": 34
        }
      },
      "cell_type": "code",
      "source": [
        "# You can loop over individual characters\n",
        "for character in test:\n",
        "  print(character, end='')"
      ],
      "execution_count": 5,
      "outputs": [
        {
          "output_type": "stream",
          "text": [
            "This is a test string"
          ],
          "name": "stdout"
        }
      ]
    },
    {
      "metadata": {
        "colab_type": "code",
        "id": "77nrRP8mtMHP",
        "outputId": "5c9daee4-d010-4a14-f210-46e551e2cf36",
        "colab": {
          "base_uri": "https://localhost:8080/",
          "height": 185
        }
      },
      "cell_type": "code",
      "source": [
        "# Strings are \"immutable\" in Python - can't be modified\n",
        "# You can't assign characters in a string to change them.\n",
        "# You would need to create a new string to do this.\n",
        "hello_string = \"hello\"\n",
        "hello_string[1] = \"a\""
      ],
      "execution_count": 6,
      "outputs": [
        {
          "output_type": "error",
          "ename": "TypeError",
          "evalue": "ignored",
          "traceback": [
            "\u001b[0;31m---------------------------------------------------------------------------\u001b[0m",
            "\u001b[0;31mTypeError\u001b[0m                                 Traceback (most recent call last)",
            "\u001b[0;32m<ipython-input-6-a8b1ea828624>\u001b[0m in \u001b[0;36m<module>\u001b[0;34m()\u001b[0m\n\u001b[1;32m      1\u001b[0m \u001b[0mhello_string\u001b[0m \u001b[0;34m=\u001b[0m \u001b[0;34m\"hello\"\u001b[0m\u001b[0;34m\u001b[0m\u001b[0;34m\u001b[0m\u001b[0m\n\u001b[0;32m----> 2\u001b[0;31m \u001b[0mhello_string\u001b[0m\u001b[0;34m[\u001b[0m\u001b[0;36m1\u001b[0m\u001b[0;34m]\u001b[0m \u001b[0;34m=\u001b[0m \u001b[0;34m\"a\"\u001b[0m\u001b[0;34m\u001b[0m\u001b[0;34m\u001b[0m\u001b[0m\n\u001b[0m",
            "\u001b[0;31mTypeError\u001b[0m: 'str' object does not support item assignment"
          ]
        }
      ]
    },
    {
      "metadata": {
        "colab_type": "text",
        "id": "oj6GySnQjHjK"
      },
      "cell_type": "markdown",
      "source": [
        "## len() function"
      ]
    },
    {
      "metadata": {
        "colab_type": "code",
        "id": "_HPDwh_G0jTC",
        "outputId": "065cd24e-26dd-41ed-dc30-78229f5c43de",
        "colab": {
          "base_uri": "https://localhost:8080/",
          "height": 34
        }
      },
      "cell_type": "code",
      "source": [
        "word = \"woooooord\"\n",
        "\n",
        "print(len(word))"
      ],
      "execution_count": 7,
      "outputs": [
        {
          "output_type": "stream",
          "text": [
            "9\n"
          ],
          "name": "stdout"
        }
      ]
    },
    {
      "metadata": {
        "colab_type": "text",
        "id": "FesaJ9yPjHn5"
      },
      "cell_type": "markdown",
      "source": [
        "## Type conversion with str()"
      ]
    },
    {
      "metadata": {
        "colab_type": "code",
        "id": "jLmpF5lL0-QT",
        "outputId": "96f2d9ad-64d9-4dd9-cc96-729d86b1c128",
        "colab": {
          "base_uri": "https://localhost:8080/",
          "height": 193
        }
      },
      "cell_type": "code",
      "source": [
        "my_int = 4\n",
        "my_float = 3.14159265\n",
        "\n",
        "print(type(my_int))\n",
        "print(my_int)\n",
        "print(type(my_float))\n",
        "print(my_float)\n",
        "\n",
        "int_string = str(my_int)\n",
        "float_string = str(my_float)\n",
        "\n",
        "print('\\n')\n",
        "print(type(int_string))\n",
        "print(int_string)\n",
        "print(type(float_string))\n",
        "print(float_string)"
      ],
      "execution_count": 8,
      "outputs": [
        {
          "output_type": "stream",
          "text": [
            "<class 'int'>\n",
            "4\n",
            "<class 'float'>\n",
            "3.14159265\n",
            "\n",
            "\n",
            "<class 'str'>\n",
            "4\n",
            "<class 'str'>\n",
            "3.14159265\n"
          ],
          "name": "stdout"
        }
      ]
    },
    {
      "metadata": {
        "colab_type": "text",
        "id": "UndxuLuHlmx0"
      },
      "cell_type": "markdown",
      "source": [
        "## Slice Notation with strings (`:` operator)"
      ]
    },
    {
      "metadata": {
        "colab_type": "code",
        "id": "QJqLDtrVlM1u",
        "colab": {
          "base_uri": "https://localhost:8080/",
          "height": 237
        },
        "outputId": "b939d955-3af8-4b62-a372-8a00cf2cf42f"
      },
      "cell_type": "code",
      "source": [
        "# DON'T RUN THIS\n",
        "# You can use slice methods on strings just as you would a list\n",
        "# The syntax goes something like this: \n",
        "\n",
        "a[start:stop]  # items start through stop-1 (or you can think start+1 to stop if not zero indexed)\n",
        "a[start:]      # items start through the rest of the array\n",
        "a[:stop]       # items from the beginning through stop-1\n",
        "a[:]           # a copy of the whole array"
      ],
      "execution_count": 9,
      "outputs": [
        {
          "output_type": "error",
          "ename": "NameError",
          "evalue": "ignored",
          "traceback": [
            "\u001b[0;31m---------------------------------------------------------------------------\u001b[0m",
            "\u001b[0;31mNameError\u001b[0m                                 Traceback (most recent call last)",
            "\u001b[0;32m<ipython-input-9-27f693befbc2>\u001b[0m in \u001b[0;36m<module>\u001b[0;34m()\u001b[0m\n\u001b[1;32m      1\u001b[0m \u001b[0;34m\u001b[0m\u001b[0m\n\u001b[0;32m----> 2\u001b[0;31m \u001b[0ma\u001b[0m\u001b[0;34m[\u001b[0m\u001b[0mstart\u001b[0m\u001b[0;34m:\u001b[0m\u001b[0mstop\u001b[0m\u001b[0;34m]\u001b[0m  \u001b[0;31m# items start through stop-1 (or you can think start+1 to stop if not zero indexed)\u001b[0m\u001b[0;34m\u001b[0m\u001b[0;34m\u001b[0m\u001b[0m\n\u001b[0m\u001b[1;32m      3\u001b[0m \u001b[0ma\u001b[0m\u001b[0;34m[\u001b[0m\u001b[0mstart\u001b[0m\u001b[0;34m:\u001b[0m\u001b[0;34m]\u001b[0m      \u001b[0;31m# items start through the rest of the array\u001b[0m\u001b[0;34m\u001b[0m\u001b[0;34m\u001b[0m\u001b[0m\n\u001b[1;32m      4\u001b[0m \u001b[0ma\u001b[0m\u001b[0;34m[\u001b[0m\u001b[0;34m:\u001b[0m\u001b[0mstop\u001b[0m\u001b[0;34m]\u001b[0m       \u001b[0;31m# items from the beginning through stop-1\u001b[0m\u001b[0;34m\u001b[0m\u001b[0;34m\u001b[0m\u001b[0m\n\u001b[1;32m      5\u001b[0m \u001b[0ma\u001b[0m\u001b[0;34m[\u001b[0m\u001b[0;34m:\u001b[0m\u001b[0;34m]\u001b[0m           \u001b[0;31m# a copy of the whole array\u001b[0m\u001b[0;34m\u001b[0m\u001b[0;34m\u001b[0m\u001b[0m\n",
            "\u001b[0;31mNameError\u001b[0m: name 'a' is not defined"
          ]
        }
      ]
    },
    {
      "metadata": {
        "colab_type": "code",
        "id": "cVlltpSPl_R0",
        "outputId": "5c5b230c-fe9e-49b1-d88d-f9e0f48c7d47",
        "colab": {
          "base_uri": "https://localhost:8080/",
          "height": 70
        }
      },
      "cell_type": "code",
      "source": [
        "# Where you see a colon say to yourself \"go to\" to help remember its function\n",
        "print(test[10:14])\n",
        "print(test[10:])\n",
        "print(test[:14])"
      ],
      "execution_count": 10,
      "outputs": [
        {
          "output_type": "stream",
          "text": [
            "test\n",
            "test string\n",
            "This is a test\n"
          ],
          "name": "stdout"
        }
      ]
    },
    {
      "metadata": {
        "colab_type": "code",
        "id": "HsEQYLgZpPEK",
        "outputId": "3dd0a712-d90e-4b6b-c9cb-7d0aea7879c6",
        "colab": {
          "base_uri": "https://localhost:8080/",
          "height": 70
        }
      },
      "cell_type": "code",
      "source": [
        "print(test[:-4])\n",
        "\n",
        "# String slicing only works from left -> right\n",
        "# This doesn't work\n",
        "print(test[-2:-4])\n",
        "\n",
        "# But this does\n",
        "print(test[-4:-2])"
      ],
      "execution_count": 11,
      "outputs": [
        {
          "output_type": "stream",
          "text": [
            "This is a test st\n",
            "\n",
            "ri\n"
          ],
          "name": "stdout"
        }
      ]
    },
    {
      "metadata": {
        "colab_type": "code",
        "id": "r_ObT-1utpSD",
        "outputId": "03b0d77f-8d07-4148-aad4-cbbcc7cf2d10",
        "colab": {
          "base_uri": "https://localhost:8080/",
          "height": 34
        }
      },
      "cell_type": "code",
      "source": [
        "hello_string = \"hello\"\n",
        "# hello_string[1] = \"a\" # This doesn't work, remember?\n",
        "# hello_string[1:2] = \"a\" # Well, this also doesn't work.\n",
        "\n",
        "first_section = hello_string[:1]\n",
        "last_section = hello_string[2:]\n",
        "\n",
        "hallo_string = first_section + \"a\" + last_section\n",
        "print(hallo_string)\n",
        "\n",
        "# This is still not a great solution, we'll look at a better one in a minute."
      ],
      "execution_count": 12,
      "outputs": [
        {
          "output_type": "stream",
          "text": [
            "hallo\n"
          ],
          "name": "stdout"
        }
      ]
    },
    {
      "metadata": {
        "colab_type": "text",
        "id": "9itW9gV4jdRw"
      },
      "cell_type": "markdown",
      "source": [
        "## The `in` Operator"
      ]
    },
    {
      "metadata": {
        "colab_type": "code",
        "id": "1oOiira6oHua",
        "outputId": "0a6b0cfa-1315-4e58-8c37-543b2f710172",
        "colab": {
          "base_uri": "https://localhost:8080/",
          "height": 52
        }
      },
      "cell_type": "code",
      "source": [
        "test = \"This is a test string\"\n",
        "\n",
        "search_string = \"test\"\n",
        "\n",
        "print(search_string in test)\n",
        "\n",
        "search_string = \"testing\"\n",
        "\n",
        "print(search_string in test)"
      ],
      "execution_count": 13,
      "outputs": [
        {
          "output_type": "stream",
          "text": [
            "True\n",
            "False\n"
          ],
          "name": "stdout"
        }
      ]
    },
    {
      "metadata": {
        "colab_type": "text",
        "id": "KgRrA5ekjHc7"
      },
      "cell_type": "markdown",
      "source": [
        "## The `+` Operator (Concatenation)"
      ]
    },
    {
      "metadata": {
        "colab_type": "code",
        "id": "v-nGBeV8jhsd",
        "outputId": "ea198564-cc1d-4ce6-e7e0-4d62c0e0e16a",
        "colab": {
          "base_uri": "https://localhost:8080/",
          "height": 52
        }
      },
      "cell_type": "code",
      "source": [
        "no_space_phrase = \"Combine\" + \"strings\" + \"into\" + \"one\" + \".\"\n",
        "print(no_space_phrase)\n",
        "\n",
        "# When using \"+\" you have to add your own separators.\n",
        "my_phrase = \"Combine\" + \" \" + \"strings\" + \" \" + \"into\" + \" \" + \"one\" + \".\"\n",
        "print(my_phrase)"
      ],
      "execution_count": 14,
      "outputs": [
        {
          "output_type": "stream",
          "text": [
            "Combinestringsintoone.\n",
            "Combine strings into one.\n"
          ],
          "name": "stdout"
        }
      ]
    },
    {
      "metadata": {
        "colab_type": "code",
        "id": "GDcum64rkivK",
        "outputId": "307306d0-679b-4711-9714-361a75fd4722",
        "colab": {
          "base_uri": "https://localhost:8080/",
          "height": 34
        }
      },
      "cell_type": "code",
      "source": [
        "year = \"2018\"\n",
        "month = \"March\"\n",
        "day = \"14\"\n",
        "\n",
        "pi_day = month + \" \" + day + \", \" + year\n",
        "\n",
        "print(pi_day)"
      ],
      "execution_count": 15,
      "outputs": [
        {
          "output_type": "stream",
          "text": [
            "March 14, 2018\n"
          ],
          "name": "stdout"
        }
      ]
    },
    {
      "metadata": {
        "colab_type": "text",
        "id": "anF_KWMMkOtV"
      },
      "cell_type": "markdown",
      "source": [
        "## `.join(<iterable>)` "
      ]
    },
    {
      "metadata": {
        "colab_type": "code",
        "id": "OE0wom97p7Ow",
        "outputId": "ca57f4a3-a156-4cd3-997d-bb3dc85cb34b",
        "colab": {
          "base_uri": "https://localhost:8080/",
          "height": 140
        }
      },
      "cell_type": "code",
      "source": [
        "word_list = [\"These\", \"are\", \"some\", \"strings\", \"in\", \"a\", \"list\"]\n",
        "\n",
        "# If an individual string is indexable does that make this a 2d list?\n",
        "print(word_list[3][2:4])\n",
        "print(word_list[1:2]) # Returns a list\n",
        "print(word_list[1:2][0]) #Gets the first item in that list\n",
        "print(word_list[1:2][0][1:2]) # gets the second letter of the second item in word_list\n",
        "\n",
        "\n",
        "# The .join() operator can concatenate strings in a list with some kind of separator\n",
        "\n",
        "#.join for multiple\n",
        "no_spaces = \"\".join(word_list)\n",
        "print(no_spaces)\n",
        "\n",
        "with_spaces = \" \".join(word_list)\n",
        "print(with_spaces)\n",
        "\n",
        "comma_separated = \", \".join(word_list)\n",
        "print(comma_separated)"
      ],
      "execution_count": 16,
      "outputs": [
        {
          "output_type": "stream",
          "text": [
            "ri\n",
            "['are']\n",
            "are\n",
            "r\n",
            "Thesearesomestringsinalist\n",
            "These are some strings in a list\n",
            "These, are, some, strings, in, a, list\n"
          ],
          "name": "stdout"
        }
      ]
    },
    {
      "metadata": {
        "colab_type": "text",
        "id": "c6gk2yZCn97M"
      },
      "cell_type": "markdown",
      "source": [
        "## `.split(<sep>)`\n",
        "The opposite of .join()"
      ]
    },
    {
      "metadata": {
        "colab_type": "code",
        "id": "eijC9uCljiLW",
        "outputId": "9bc3b92e-b419-429a-b389-7d3d072127c1",
        "colab": {
          "base_uri": "https://localhost:8080/",
          "height": 52
        }
      },
      "cell_type": "code",
      "source": [
        "split_me = \"These are some strings in a list\"\n",
        "\n",
        "words = split_me.split(\" \")\n",
        "\n",
        "print(words)\n",
        "\n",
        "put_it_back = \" \".join(words)\n",
        "\n",
        "print(put_it_back+\".\")"
      ],
      "execution_count": 17,
      "outputs": [
        {
          "output_type": "stream",
          "text": [
            "['These', 'are', 'some', 'strings', 'in', 'a', 'list']\n",
            "These are some strings in a list.\n"
          ],
          "name": "stdout"
        }
      ]
    },
    {
      "metadata": {
        "colab_type": "code",
        "id": "Vq5zKu9e2To2",
        "outputId": "ead55c2c-22b1-4c36-d634-79d35dfcdfcc",
        "colab": {
          "base_uri": "https://localhost:8080/",
          "height": 70
        }
      },
      "cell_type": "code",
      "source": [
        "# Turn a string into a list of characters\n",
        "\n",
        "hello_string = \"hello\"\n",
        "\n",
        "# hello_list = hello_string.split(\"\") # This doesn't work either.\n",
        "# print(hello_list)\n",
        "\n",
        "hello_list = list(hello_string)\n",
        "print(hello_list)\n",
        "\n",
        "hello_list[1] = \"a\"\n",
        "\n",
        "print(hello_list)\n",
        "\n",
        "hallo_string = ''.join(hello_list)\n",
        "print(hallo_string) "
      ],
      "execution_count": 18,
      "outputs": [
        {
          "output_type": "stream",
          "text": [
            "['h', 'e', 'l', 'l', 'o']\n",
            "['h', 'a', 'l', 'l', 'o']\n",
            "hallo\n"
          ],
          "name": "stdout"
        }
      ]
    },
    {
      "metadata": {
        "colab_type": "text",
        "id": "2Zp4X0H3jHqf"
      },
      "cell_type": "markdown",
      "source": [
        "## `.partition(<sep>)`\n",
        "\n",
        "Say you want to split up a string but you don't want to remove the separator character."
      ]
    },
    {
      "metadata": {
        "colab_type": "code",
        "id": "VXEgPsmf7QgG",
        "outputId": "df1b6fe2-ac49-477c-a263-0aa3a46943fd",
        "colab": {
          "base_uri": "https://localhost:8080/",
          "height": 34
        }
      },
      "cell_type": "code",
      "source": [
        "email = 'ryan.allred@lambdaschool.com'\n",
        "\n",
        "partitioned_email = email.partition(\"@\")\n",
        "print(partitioned_email)"
      ],
      "execution_count": 19,
      "outputs": [
        {
          "output_type": "stream",
          "text": [
            "('ryan.allred', '@', 'lambdaschool.com')\n"
          ],
          "name": "stdout"
        }
      ]
    },
    {
      "metadata": {
        "colab_type": "text",
        "id": "Uyfhn1Q8nKNl"
      },
      "cell_type": "markdown",
      "source": [
        "## `.upper()` and `.lower()` methods"
      ]
    },
    {
      "metadata": {
        "colab_type": "code",
        "id": "HVmLAnzCngsn",
        "outputId": "771cbeee-4a82-4321-fd5d-46cb7e8e5446",
        "colab": {
          "base_uri": "https://localhost:8080/",
          "height": 52
        }
      },
      "cell_type": "code",
      "source": [
        "name = \"Ryan Allred\"\n",
        "\n",
        "print(\"Uppercase:\", name.upper())\n",
        "\n",
        "print(\"Lowercase:\", name.lower())"
      ],
      "execution_count": 20,
      "outputs": [
        {
          "output_type": "stream",
          "text": [
            "Uppercase: RYAN ALLRED\n",
            "Lowercase: ryan allred\n"
          ],
          "name": "stdout"
        }
      ]
    },
    {
      "metadata": {
        "colab_type": "text",
        "id": "zBDQC4qCUXvC"
      },
      "cell_type": "markdown",
      "source": [
        "# String Interpolation \n",
        "\n",
        "Inserting values into a string "
      ]
    },
    {
      "metadata": {
        "colab_type": "text",
        "id": "9ibOpkyrY4s5"
      },
      "cell_type": "markdown",
      "source": [
        "## Printing separated by commas"
      ]
    },
    {
      "metadata": {
        "colab_type": "code",
        "id": "X_enGujZZJRk",
        "outputId": "9a3a5f33-2c0a-4180-b831-8904852e96ce",
        "colab": {
          "base_uri": "https://localhost:8080/",
          "height": 34
        }
      },
      "cell_type": "code",
      "source": [
        "speed_limit = 35\n",
        "\n",
        "print(\"The speed limit is\", speed_limit, \"miles per hour.\")"
      ],
      "execution_count": 22,
      "outputs": [
        {
          "output_type": "stream",
          "text": [
            "The speed limit is 35 miles per hour.\n"
          ],
          "name": "stdout"
        }
      ]
    },
    {
      "metadata": {
        "colab_type": "text",
        "id": "usF3mDqTWsI_"
      },
      "cell_type": "markdown",
      "source": [
        "## %s-formatting (the old-school way)"
      ]
    },
    {
      "metadata": {
        "colab_type": "text",
        "id": "EfO0sYEkXde8"
      },
      "cell_type": "markdown",
      "source": [
        "This method can get unwieldy if you have a lot of variables. You have to match arguments to inserts to follow what's happening. "
      ]
    },
    {
      "metadata": {
        "colab_type": "text",
        "id": "zmoAO3N1hl6n"
      },
      "cell_type": "markdown",
      "source": [
        "The syntax becomes particularly ugly if your values are stored in a dictionary."
      ]
    },
    {
      "metadata": {
        "colab_type": "text",
        "id": "8AlGjQPGelrt"
      },
      "cell_type": "markdown",
      "source": [
        "## `.format()` - The new old-school way - As of Python 3.1 \n",
        "More explicit, and that's good, but more verbose."
      ]
    },
    {
      "metadata": {
        "colab_type": "code",
        "id": "qLQltsNsewRj",
        "outputId": "94613070-f5cb-4cb5-ab9d-69bed67defc9",
        "colab": {
          "base_uri": "https://localhost:8080/",
          "height": 52
        }
      },
      "cell_type": "code",
      "source": [
        "day = 14\n",
        "month = \"March\"\n",
        "year = 2018\n",
        "forecast = \"sunny\"\n",
        "high = 52.287\n",
        "low = 33.543\n",
        "\n",
        "print('''On {month} {day}, {year} the forecast was {forecast} with a high of \n",
        "      {high:.0f} and a low of {low:.0f}.'''.format(month=month, day=day, \n",
        "                                                   year=year, forecast=forecast, \n",
        "                                                   high=high, low=low))"
      ],
      "execution_count": 23,
      "outputs": [
        {
          "output_type": "stream",
          "text": [
            "On March 14, 2018 the forecast was sunny with a high of \n",
            "      52 and a low of 34.\n"
          ],
          "name": "stdout"
        }
      ]
    },
    {
      "metadata": {
        "colab_type": "text",
        "id": "g6CfffRfjhN9"
      },
      "cell_type": "markdown",
      "source": [
        "You can omit the inner variables to make things a little shorter, but then it's less explicit. "
      ]
    },
    {
      "metadata": {
        "colab_type": "code",
        "id": "Y1AecQdfjnFJ",
        "outputId": "dbddb115-8b02-4988-fbb3-00bad769cd14",
        "colab": {
          "base_uri": "https://localhost:8080/",
          "height": 52
        }
      },
      "cell_type": "code",
      "source": [
        "day = 14\n",
        "month = \"March\"\n",
        "year = 2018\n",
        "forecast = \"sunny\"\n",
        "high = 52.287\n",
        "low = 33.543\n",
        "\n",
        "print('''On {} {}, {} the forecast was {} with a high of {:.0f} and a low of \n",
        "      {:.0f}.'''.format(month, day, year, forecast, high, low))"
      ],
      "execution_count": 24,
      "outputs": [
        {
          "output_type": "stream",
          "text": [
            "On March 14, 2018 the forecast was sunny with a high of 52 and a low of \n",
            "      34.\n"
          ],
          "name": "stdout"
        }
      ]
    },
    {
      "metadata": {
        "colab_type": "text",
        "id": "1pn_CP-2kF4c"
      },
      "cell_type": "markdown",
      "source": [
        "Imagine if you wanted both explicitness and your values were stored in a dictionary. "
      ]
    },
    {
      "metadata": {
        "colab_type": "code",
        "id": "769qCMykkMFI",
        "outputId": "d9f44ee7-cd98-4ea3-b3cc-3a6aee0f6854",
        "colab": {
          "base_uri": "https://localhost:8080/",
          "height": 52
        }
      },
      "cell_type": "code",
      "source": [
        "weather_dict = {\n",
        "    'day': 14,\n",
        "    'month': 'March',\n",
        "    'year': 2018,\n",
        "    'forecast': 'sunny',\n",
        "    'high': 52.287,\n",
        "    'low': 33.543\n",
        "}\n",
        "\n",
        "print('''On {month} {day}, {year} the forecast was {forecast} with a high of \n",
        "      {high:.0f} and a low of {low:.0f}.'''.format(month=weather_dict['month'], day=weather_dict['day'], \n",
        "                                                   year=weather_dict['year'], forecast=weather_dict['forecast'], \n",
        "                                                   high=weather_dict['high'], low=weather_dict['low']))"
      ],
      "execution_count": 25,
      "outputs": [
        {
          "output_type": "stream",
          "text": [
            "On March 14, 2018 the forecast was sunny with a high of \n",
            "      52 and a low of 34.\n"
          ],
          "name": "stdout"
        }
      ]
    },
    {
      "metadata": {
        "colab_type": "text",
        "id": "BwpiL5idZYxF"
      },
      "cell_type": "markdown",
      "source": [
        "## f-strings - The new-school way - As of Python 3.6 \n",
        "\n",
        "f-strings are great because they are be both explicit and succinct.\n",
        "\n"
      ]
    },
    {
      "metadata": {
        "colab_type": "code",
        "id": "gHcmkmPSknPC",
        "outputId": "699dc06c-b63f-4c2a-d652-3120351d5607",
        "colab": {
          "base_uri": "https://localhost:8080/",
          "height": 67
        }
      },
      "cell_type": "code",
      "source": [
        "weather_dict = {\n",
        "    'day': 14,\n",
        "    'month': 'March',\n",
        "    'year': 2018,\n",
        "    'forecast': 'sunny',\n",
        "    'high': 52.287,\n",
        "    'low': 33.543\n",
        "}\n",
        "\n",
        "print(f'''On {weather_dict['month']} {weather_dict['day']}, {weather_dict['year']} \n",
        "      the forecast was {weather_dict['forecast']} with a high of {weather_dict['high']:.0f} \n",
        "      and a low of {weather_dict['low']:.0f}.''')"
      ],
      "execution_count": 0,
      "outputs": [
        {
          "output_type": "stream",
          "text": [
            "On March 14, 2018 \n",
            "      the forecast was sunny with a high of 52 \n",
            "      and a low of 34.\n"
          ],
          "name": "stdout"
        }
      ]
    },
    {
      "metadata": {
        "colab_type": "code",
        "id": "oqFeaKxnUeG0",
        "outputId": "80ed391b-34c0-45ed-98ff-f2e0277dc442",
        "colab": {
          "base_uri": "https://localhost:8080/",
          "height": 122
        }
      },
      "cell_type": "code",
      "source": [
        "# This works with any kind of string syntax:\n",
        "dog_noise = 'Bark'\n",
        "\n",
        "print(f'A dog says {dog_noise}!')\n",
        "print(f\"A dog says {dog_noise}!\")\n",
        "print(f'''A dog says {dog_noise}!''')\n",
        "\n",
        "# You can also call functions within them which is pretty cool.\n",
        "print('\\n')\n",
        "print(f'A dog says {dog_noise.upper()}!')"
      ],
      "execution_count": 26,
      "outputs": [
        {
          "output_type": "stream",
          "text": [
            "A dog says Bark!\n",
            "A dog says Bark!\n",
            "A dog says Bark!\n",
            "\n",
            "\n",
            "A dog says BARK!\n"
          ],
          "name": "stdout"
        }
      ]
    },
    {
      "metadata": {
        "colab_type": "text",
        "id": "1r_cHtP2OXE2"
      },
      "cell_type": "markdown",
      "source": [
        "# Escape Characters and Whitespace in Text\n",
        "\n",
        "Sometimes there are symbols in text that you don't want to be recognized as their literall string characters. To indicate to the python interpreter that these characters have special meaning, we proceed them with a backslash \"\\\". This backslash says that whatever character lies after it has a special function."
      ]
    },
    {
      "metadata": {
        "colab_type": "text",
        "id": "VpKr3TjDSekM"
      },
      "cell_type": "markdown",
      "source": [
        "## Escape Characters for Quotes"
      ]
    },
    {
      "metadata": {
        "colab_type": "code",
        "id": "xjTqwdoyPCJk",
        "outputId": "83a2182e-f931-42a7-acc8-3d229814aee1",
        "colab": {
          "base_uri": "https://localhost:8080/",
          "height": 52
        }
      },
      "cell_type": "code",
      "source": [
        "print(\"He said, \\\"I want double quotes inside of double quotes.\\\"\")\n",
        "print('He\\'s also using single quotes inside of single quotes.')"
      ],
      "execution_count": 27,
      "outputs": [
        {
          "output_type": "stream",
          "text": [
            "He said, \"I want double quotes inside of double quotes.\"\n",
            "He's also using single quotes inside of single quotes.\n"
          ],
          "name": "stdout"
        }
      ]
    },
    {
      "metadata": {
        "colab_type": "text",
        "id": "kAsbIQUsT4WG"
      },
      "cell_type": "markdown",
      "source": [
        "## Escape Characters for Whitespace"
      ]
    },
    {
      "metadata": {
        "colab_type": "code",
        "id": "ULaIvb2yTPAS",
        "outputId": "33a7b6ac-58c8-49bc-c12f-cc01a2463b68",
        "colab": {
          "base_uri": "https://localhost:8080/",
          "height": 122
        }
      },
      "cell_type": "code",
      "source": [
        "print(\"single space\")\n",
        "print(\"---------------\")\n",
        "print(\"tabbed\\tspace\") # \\t\n",
        "print(\"---------------\")\n",
        "print(\"newline\\ncharacter\") # \\n"
      ],
      "execution_count": 28,
      "outputs": [
        {
          "output_type": "stream",
          "text": [
            "single space\n",
            "---------------\n",
            "tabbed\tspace\n",
            "---------------\n",
            "newline\n",
            "character\n"
          ],
          "name": "stdout"
        }
      ]
    },
    {
      "metadata": {
        "colab_type": "text",
        "id": "alFbr5QXn-hh"
      },
      "cell_type": "markdown",
      "source": [
        "## Cleaning irregular whitespace."
      ]
    },
    {
      "metadata": {
        "colab_type": "code",
        "id": "42bo4iB_oFPL",
        "outputId": "c9f0c6ff-d3a5-488f-ab39-25a2352201ac",
        "colab": {
          "base_uri": "https://localhost:8080/",
          "height": 140
        }
      },
      "cell_type": "code",
      "source": [
        "spacey_sentence = \"     This   is a \\t\\t sentence with \\n   lots    of  \\t spaces.     \"\n",
        "print(spacey_sentence)\n",
        "print('-------------')\n",
        "# Strip whitespace from the beginning and end of the string\n",
        "print(spacey_sentence.strip())\n",
        "print('-------------')\n",
        "# Make all multiple spaces single spaces and remove beginning and end spaces\n",
        "print(\" \".join(spacey_sentence.split()))"
      ],
      "execution_count": 29,
      "outputs": [
        {
          "output_type": "stream",
          "text": [
            "     This   is a \t\t sentence with \n",
            "   lots    of  \t spaces.     \n",
            "-------------\n",
            "This   is a \t\t sentence with \n",
            "   lots    of  \t spaces.\n",
            "-------------\n",
            "This is a sentence with lots of spaces.\n"
          ],
          "name": "stdout"
        }
      ]
    },
    {
      "metadata": {
        "colab_type": "text",
        "id": "KteS7NPcO_36"
      },
      "cell_type": "markdown",
      "source": [
        "## Raw Strings\n",
        "\n",
        "A Python raw string (also called a \"raw string literal\") is created by prefixing a string literal with ‘r’ or ‘R’. Python raw strings treat backslashes `\\` as a literal character. This is useful when we want to have a string that contains backslash and don’t want it to be treated as an escape character."
      ]
    },
    {
      "metadata": {
        "colab_type": "code",
        "id": "JVdnPumLPCwR",
        "outputId": "e8ac23da-c62f-4b70-acb4-89f031c0740a",
        "colab": {
          "base_uri": "https://localhost:8080/",
          "height": 52
        }
      },
      "cell_type": "code",
      "source": [
        "greeting = 'Hi\\nHello'\n",
        "print(greeting)"
      ],
      "execution_count": 30,
      "outputs": [
        {
          "output_type": "stream",
          "text": [
            "Hi\n",
            "Hello\n"
          ],
          "name": "stdout"
        }
      ]
    },
    {
      "metadata": {
        "colab_type": "code",
        "id": "4kH3msMBzuVw",
        "outputId": "3fd585f7-168b-4bdd-96bc-ee5b30dbf04b",
        "colab": {
          "base_uri": "https://localhost:8080/",
          "height": 34
        }
      },
      "cell_type": "code",
      "source": [
        "greeting = r'Hi\\nHello'\n",
        "print(greeting)"
      ],
      "execution_count": 31,
      "outputs": [
        {
          "output_type": "stream",
          "text": [
            "Hi\\nHello\n"
          ],
          "name": "stdout"
        }
      ]
    },
    {
      "metadata": {
        "colab_type": "text",
        "id": "q8lj1AVYXCgE"
      },
      "cell_type": "markdown",
      "source": [
        "# Regular Expressions\n",
        "\n",
        "A RegEx, or Regular Expression, is a sequence of characters that forms a search pattern.\n",
        "\n",
        "RegEx can be used to check if a string contains the specified search pattern.\n",
        "\n",
        "Regular Expressions aren't specific to any single programming language but are a standalone syntax that is more or less standard among programming langues, so these skills will help you no matter the language that you're working with.  \n",
        "\n",
        "The only downside with regular expressions is that the syntax is pretty abstract, but with a little bit of practice  **and a lot of references to cheat sheets** we can make it happen.\n",
        "\n",
        "### Here are some cheat sheets for your reference: \n",
        "\n",
        "<https://www.debuggex.com/cheatsheet/regex/python>\n",
        "\n",
        "<https://www.dataquest.io/blog/regex-cheatsheet>"
      ]
    },
    {
      "metadata": {
        "colab_type": "code",
        "id": "WsGFT-0XMIZP",
        "colab": {}
      },
      "cell_type": "code",
      "source": [
        "import re"
      ],
      "execution_count": 0,
      "outputs": []
    },
    {
      "metadata": {
        "colab_type": "text",
        "id": "0u3JsvrL2IxV"
      },
      "cell_type": "markdown",
      "source": [
        "When using regular expressions in Python it is recommended that you use raw strings instead of regular Python strings so that we can easily interpret whitespace (and other escaped characters) by their escape character sequence."
      ]
    },
    {
      "metadata": {
        "colab_type": "text",
        "id": "mHP8VO1E2d6i"
      },
      "cell_type": "markdown",
      "source": [
        "## Single Letter Matching"
      ]
    },
    {
      "metadata": {
        "colab_type": "code",
        "id": "fmz-J-GP2hNu",
        "outputId": "bc548f4a-b671-4572-d77d-37e8c0072106",
        "colab": {
          "base_uri": "https://localhost:8080/",
          "height": 87
        }
      },
      "cell_type": "code",
      "source": [
        "# matchObject = re.search(pattern, input_str)\n",
        "\n",
        "# Search for the first lowercase letter\n",
        "regex = r\"[a-z]\" \n",
        "match = re.search(regex, \"June 24\")\n",
        "\n",
        "# Look at the match object\n",
        "print(match)\n",
        "\n",
        "# Look at the matching string\n",
        "print(match[0])\n",
        "\n",
        "# Look at slice indices and grab the match manually\n",
        "print(\"Slice indices for this string:\", match.start(), match.end())\n",
        "print(\"June 24\"[match.start():match.end()])"
      ],
      "execution_count": 33,
      "outputs": [
        {
          "output_type": "stream",
          "text": [
            "<_sre.SRE_Match object; span=(1, 2), match='u'>\n",
            "u\n",
            "Slice indices for this string: 1 2\n",
            "u\n"
          ],
          "name": "stdout"
        }
      ]
    },
    {
      "metadata": {
        "colab_type": "code",
        "id": "nHOLIsyy4a-I",
        "outputId": "ef8d7af9-5b97-4ac5-9c1b-1fe99b7bdaf6",
        "colab": {
          "base_uri": "https://localhost:8080/",
          "height": 52
        }
      },
      "cell_type": "code",
      "source": [
        "# Search for the first uppercase letter\n",
        "regex = r\"[A-Z]\" \n",
        "\n",
        "search_result = re.search(regex, \"June 24\")\n",
        "print(search_result)\n",
        "\n",
        "print(search_result[0])"
      ],
      "execution_count": 34,
      "outputs": [
        {
          "output_type": "stream",
          "text": [
            "<_sre.SRE_Match object; span=(0, 1), match='J'>\n",
            "J\n"
          ],
          "name": "stdout"
        }
      ]
    },
    {
      "metadata": {
        "colab_type": "code",
        "id": "HbuI6Few4lKd",
        "outputId": "50877908-90fb-4d9e-a906-9a598c57f034",
        "colab": {
          "base_uri": "https://localhost:8080/",
          "height": 52
        }
      },
      "cell_type": "code",
      "source": [
        "# Search for groups of 1 or more uppercase or lowercase letters (word things)\n",
        "regex = r\"[a-zA-Z]+\" \n",
        "\n",
        "search_result = re.search(regex, \"June 24\")\n",
        "print(search_result)\n",
        "\n",
        "print(search_result[0])"
      ],
      "execution_count": 35,
      "outputs": [
        {
          "output_type": "stream",
          "text": [
            "<_sre.SRE_Match object; span=(0, 4), match='June'>\n",
            "June\n"
          ],
          "name": "stdout"
        }
      ]
    },
    {
      "metadata": {
        "id": "OPQEclPX1nVb",
        "colab_type": "code",
        "colab": {}
      },
      "cell_type": "code",
      "source": [
        ""
      ],
      "execution_count": 0,
      "outputs": []
    },
    {
      "metadata": {
        "colab_type": "text",
        "id": "Q3CJadx57MM7"
      },
      "cell_type": "markdown",
      "source": [
        "## Multiple Matches"
      ]
    },
    {
      "metadata": {
        "colab_type": "code",
        "id": "hLCsDZg95N4r",
        "outputId": "c0cea606-1b46-4fae-c305-09676d67691e",
        "colab": {
          "base_uri": "https://localhost:8080/",
          "height": 175
        }
      },
      "cell_type": "code",
      "source": [
        "# Search for groups of 1 or more letters\n",
        "regex = r\"[a-zA-Z]+\" \n",
        "\n",
        "string = \"June 24, other thing, February 6, doesn't match, March 14\"\n",
        "\n",
        "# .findall() returns a list of the matching strings\n",
        "search_result = re.findall(regex, string)\n",
        "print(search_result)\n",
        "\n",
        "for match in search_result:\n",
        "  print(match)"
      ],
      "execution_count": 36,
      "outputs": [
        {
          "output_type": "stream",
          "text": [
            "['June', 'other', 'thing', 'February', 'doesn', 't', 'match', 'March']\n",
            "June\n",
            "other\n",
            "thing\n",
            "February\n",
            "doesn\n",
            "t\n",
            "match\n",
            "March\n"
          ],
          "name": "stdout"
        }
      ]
    },
    {
      "metadata": {
        "id": "i5EnRza_1nVi",
        "colab_type": "code",
        "colab": {}
      },
      "cell_type": "code",
      "source": [
        ""
      ],
      "execution_count": 0,
      "outputs": []
    },
    {
      "metadata": {
        "colab_type": "code",
        "id": "YM393zbk7voX",
        "outputId": "7199f68c-1c3f-41c3-c2ad-45aaffd8221f",
        "colab": {
          "base_uri": "https://localhost:8080/",
          "height": 439
        }
      },
      "cell_type": "code",
      "source": [
        "# Search for groups of 1 or more letters\n",
        "regex = r\"[a-zA-Z]+\" \n",
        "\n",
        "string = \"June 24, other thing, February 6, doesn't match, March 14\"\n",
        "\n",
        "# finditer returns a list of match objects \n",
        "search_result = re.finditer(regex, string)\n",
        "\n",
        "for match in search_result:\n",
        "  start = match.start()\n",
        "  end = match.end()\n",
        "  print(f\"The string starts at {start} and ends at {end}\")\n",
        "  print(f\"The string is {match[0]}\")\n",
        "#   print(f\"The string is {string[start:end]}\")\n",
        "  print('--------------')"
      ],
      "execution_count": 37,
      "outputs": [
        {
          "output_type": "stream",
          "text": [
            "The string starts at 0 and ends at 4\n",
            "The string is June\n",
            "--------------\n",
            "The string starts at 9 and ends at 14\n",
            "The string is other\n",
            "--------------\n",
            "The string starts at 15 and ends at 20\n",
            "The string is thing\n",
            "--------------\n",
            "The string starts at 22 and ends at 30\n",
            "The string is February\n",
            "--------------\n",
            "The string starts at 34 and ends at 39\n",
            "The string is doesn\n",
            "--------------\n",
            "The string starts at 40 and ends at 41\n",
            "The string is t\n",
            "--------------\n",
            "The string starts at 42 and ends at 47\n",
            "The string is match\n",
            "--------------\n",
            "The string starts at 49 and ends at 54\n",
            "The string is March\n",
            "--------------\n"
          ],
          "name": "stdout"
        }
      ]
    },
    {
      "metadata": {
        "id": "hLXCNc1F1nVq",
        "colab_type": "code",
        "colab": {}
      },
      "cell_type": "code",
      "source": [
        ""
      ],
      "execution_count": 0,
      "outputs": []
    },
    {
      "metadata": {
        "colab_type": "text",
        "id": "aRlv8hx4Etu1"
      },
      "cell_type": "markdown",
      "source": [
        "## Capture Groups"
      ]
    },
    {
      "metadata": {
        "colab_type": "code",
        "id": "KB67uJtHEvtv",
        "outputId": "3e112e6b-7fd7-46b2-c666-bdd9d633f2c7",
        "colab": {
          "base_uri": "https://localhost:8080/",
          "height": 87
        }
      },
      "cell_type": "code",
      "source": [
        "# Capture something that matches date\n",
        "regex = r\"[a-zA-Z]+ \\d+\" \n",
        "\n",
        "string = \"June 24, other thing, February 6, doesn't match, March 14\"\n",
        "\n",
        "search_result = re.findall(regex, string)\n",
        "print(search_result)\n",
        "\n",
        "for match in search_result:\n",
        "  print(match)"
      ],
      "execution_count": 38,
      "outputs": [
        {
          "output_type": "stream",
          "text": [
            "['June 24', 'February 6', 'March 14']\n",
            "June 24\n",
            "February 6\n",
            "March 14\n"
          ],
          "name": "stdout"
        }
      ]
    },
    {
      "metadata": {
        "colab_type": "code",
        "id": "pmP_MqlHFO9e",
        "outputId": "6804eeac-a670-4f78-eefe-8a59161fd8d4",
        "colab": {
          "base_uri": "https://localhost:8080/",
          "height": 87
        }
      },
      "cell_type": "code",
      "source": [
        "# Capture something that matches date but only capture the month\n",
        "regex = r\"([a-zA-Z]+) \\d+\" \n",
        "\n",
        "string = \"June 24, other thing, February 6, doesn't match, March 14\"\n",
        "\n",
        "search_result = re.findall(regex, string)\n",
        "print(search_result)\n",
        "\n",
        "for match in search_result:\n",
        "  print(match)"
      ],
      "execution_count": 39,
      "outputs": [
        {
          "output_type": "stream",
          "text": [
            "['June', 'February', 'March']\n",
            "June\n",
            "February\n",
            "March\n"
          ],
          "name": "stdout"
        }
      ]
    },
    {
      "metadata": {
        "id": "iy8Xaypl1nVz",
        "colab_type": "code",
        "colab": {}
      },
      "cell_type": "code",
      "source": [
        ""
      ],
      "execution_count": 0,
      "outputs": []
    },
    {
      "metadata": {
        "colab_type": "code",
        "id": "xjqL1VJiGUfS",
        "outputId": "d9987328-f01f-425d-9d1c-4c5c8dede14b",
        "colab": {
          "base_uri": "https://localhost:8080/",
          "height": 87
        }
      },
      "cell_type": "code",
      "source": [
        "# Capture both month and day separately\n",
        "regex = r\"([a-zA-Z]+) (\\d+)\" \n",
        "\n",
        "string = \"June 24, other thing, February 6, doesn't match, March 14\"\n",
        "\n",
        "search_result = re.findall(regex, string)\n",
        "print(search_result)\n",
        "\n",
        "for match in search_result:\n",
        "  print(match)"
      ],
      "execution_count": 40,
      "outputs": [
        {
          "output_type": "stream",
          "text": [
            "[('June', '24'), ('February', '6'), ('March', '14')]\n",
            "('June', '24')\n",
            "('February', '6')\n",
            "('March', '14')\n"
          ],
          "name": "stdout"
        }
      ]
    },
    {
      "metadata": {
        "colab_type": "text",
        "id": "5CR8IP5ZaolV"
      },
      "cell_type": "markdown",
      "source": [
        "Lists of tuples are great because they go into dataframes easily!"
      ]
    },
    {
      "metadata": {
        "colab_type": "code",
        "id": "-avn9pp2aoC6",
        "outputId": "a9b2d165-d401-4d39-b8b4-6d892adbeccf",
        "colab": {
          "base_uri": "https://localhost:8080/",
          "height": 139
        }
      },
      "cell_type": "code",
      "source": [
        "df = pd.DataFrame(search_result, columns=['Month', 'Day'])\n",
        "df.head()"
      ],
      "execution_count": 41,
      "outputs": [
        {
          "output_type": "execute_result",
          "data": {
            "text/html": [
              "<div>\n",
              "<style scoped>\n",
              "    .dataframe tbody tr th:only-of-type {\n",
              "        vertical-align: middle;\n",
              "    }\n",
              "\n",
              "    .dataframe tbody tr th {\n",
              "        vertical-align: top;\n",
              "    }\n",
              "\n",
              "    .dataframe thead th {\n",
              "        text-align: right;\n",
              "    }\n",
              "</style>\n",
              "<table border=\"1\" class=\"dataframe\">\n",
              "  <thead>\n",
              "    <tr style=\"text-align: right;\">\n",
              "      <th></th>\n",
              "      <th>Month</th>\n",
              "      <th>Day</th>\n",
              "    </tr>\n",
              "  </thead>\n",
              "  <tbody>\n",
              "    <tr>\n",
              "      <th>0</th>\n",
              "      <td>June</td>\n",
              "      <td>24</td>\n",
              "    </tr>\n",
              "    <tr>\n",
              "      <th>1</th>\n",
              "      <td>February</td>\n",
              "      <td>6</td>\n",
              "    </tr>\n",
              "    <tr>\n",
              "      <th>2</th>\n",
              "      <td>March</td>\n",
              "      <td>14</td>\n",
              "    </tr>\n",
              "  </tbody>\n",
              "</table>\n",
              "</div>"
            ],
            "text/plain": [
              "      Month Day\n",
              "0      June  24\n",
              "1  February   6\n",
              "2     March  14"
            ]
          },
          "metadata": {
            "tags": []
          },
          "execution_count": 41
        }
      ]
    },
    {
      "metadata": {
        "colab_type": "text",
        "id": "HFk7opjwal3l"
      },
      "cell_type": "markdown",
      "source": [
        "# Regex Practice"
      ]
    },
    {
      "metadata": {
        "colab_type": "code",
        "id": "ju-2-U2i0D8o",
        "colab": {}
      },
      "cell_type": "code",
      "source": [
        "text_to_search = '''\n",
        "abcdefghijklmnopqrstuvwxyz\n",
        "ABCDEFGHIJKLMNOPQRSTUVWXYZ\n",
        "1234567890\n",
        "\n",
        "lambdaschool.com\n",
        "numpy.org\n",
        "pythonprogramming.net\n",
        "\n",
        "http://www.LambdaSchool.com\n",
        "http://www.google.com\n",
        "https://www.twitter.com\n",
        "\n",
        "8014893087\n",
        "801-489-8116\n",
        "801.491.8037\n",
        "345&123(1209?\n",
        "\n",
        "Mr. Allred\n",
        "Mrs. Smith\n",
        "Ms. Todorojo\n",
        "Mr Priest\n",
        "Dr Strangelove\n",
        "\n",
        "MetaCharacters that need to be escaped:\n",
        "\\.{[()*&+?|$\n",
        ".$^*(){}[]\\|+?\n",
        "\n",
        "This is a sentence of text.\n",
        "'''"
      ],
      "execution_count": 0,
      "outputs": []
    },
    {
      "metadata": {
        "colab_type": "text",
        "id": "c0qMM16d051f"
      },
      "cell_type": "markdown",
      "source": [
        "## Search for the string \"abc\""
      ]
    },
    {
      "metadata": {
        "colab_type": "code",
        "id": "ZrpxQbOlJHOA",
        "outputId": "1e7ab24b-0d25-4f71-ea7c-af14cb680eb0",
        "colab": {
          "base_uri": "https://localhost:8080/",
          "height": 34
        }
      },
      "cell_type": "code",
      "source": [
        "regex = r\"[abcABC]+\" \n",
        "\n",
        "# finditer returns a list of match objects \n",
        "search_result = re.finditer(regex, text_to_search)\n",
        "\n",
        "print(search_result)"
      ],
      "execution_count": 44,
      "outputs": [
        {
          "output_type": "stream",
          "text": [
            "<callable_iterator object at 0x7f37bb5f1a90>\n"
          ],
          "name": "stdout"
        }
      ]
    },
    {
      "metadata": {
        "id": "gftLCRQ9H1Gm",
        "colab_type": "code",
        "colab": {
          "base_uri": "https://localhost:8080/",
          "height": 34
        },
        "outputId": "37c9882f-6c01-4dfa-cd0b-bcf444c2ba1c"
      },
      "cell_type": "code",
      "source": [
        "#search finds first instance, find all finds all of them\n",
        "\n",
        "re.findall('abc', text_to_search)"
      ],
      "execution_count": 45,
      "outputs": [
        {
          "output_type": "execute_result",
          "data": {
            "text/plain": [
              "['abc']"
            ]
          },
          "metadata": {
            "tags": []
          },
          "execution_count": 45
        }
      ]
    },
    {
      "metadata": {
        "id": "4OIS8eBfIZMt",
        "colab_type": "code",
        "colab": {
          "base_uri": "https://localhost:8080/",
          "height": 34
        },
        "outputId": "a09c250a-4f40-4404-d176-bb585e57b522"
      },
      "cell_type": "code",
      "source": [
        "re.search('abc', text_to_search)"
      ],
      "execution_count": 46,
      "outputs": [
        {
          "output_type": "execute_result",
          "data": {
            "text/plain": [
              "<_sre.SRE_Match object; span=(1, 4), match='abc'>"
            ]
          },
          "metadata": {
            "tags": []
          },
          "execution_count": 46
        }
      ]
    },
    {
      "metadata": {
        "colab_type": "text",
        "id": "Jp3q25wl2f5M"
      },
      "cell_type": "markdown",
      "source": [
        "## Search for the string \".\""
      ]
    },
    {
      "metadata": {
        "colab_type": "code",
        "id": "AXbI8xpfJQ-l",
        "colab": {},
        "outputId": "8908633f-6dec-41d0-d5d5-0590be4584e6"
      },
      "cell_type": "code",
      "source": [
        "\n",
        "# Additional Challenge - print the the 3 character before and after the \".\"\n",
        "\n"
      ],
      "execution_count": 0,
      "outputs": [
        {
          "output_type": "execute_result",
          "data": {
            "text/plain": [
              "'.'"
            ]
          },
          "metadata": {
            "tags": []
          },
          "execution_count": 25
        }
      ]
    },
    {
      "metadata": {
        "colab_type": "text",
        "id": "rM81JYsS3a9y"
      },
      "cell_type": "markdown",
      "source": [
        "## Search for the string \"lambdaschool.com\""
      ]
    },
    {
      "metadata": {
        "colab_type": "code",
        "id": "Zntfm-FK3l4s",
        "colab": {},
        "outputId": "e4e71015-9246-4072-ff3c-d16432e30a28"
      },
      "cell_type": "code",
      "source": [
        "re.search('lambdaschool.com', text_to_search)[0]"
      ],
      "execution_count": 0,
      "outputs": [
        {
          "output_type": "execute_result",
          "data": {
            "text/plain": [
              "'lambdaschool.com'"
            ]
          },
          "metadata": {
            "tags": []
          },
          "execution_count": 24
        }
      ]
    },
    {
      "metadata": {
        "colab_type": "text",
        "id": "_eITkWUJXCWE"
      },
      "cell_type": "markdown",
      "source": [
        "# Web Scraping via BeautifulSoup and requests"
      ]
    },
    {
      "metadata": {
        "colab_type": "code",
        "id": "BpiVMRMISf85",
        "colab": {}
      },
      "cell_type": "code",
      "source": [
        "from bs4 import BeautifulSoup\n",
        "import requests"
      ],
      "execution_count": 0,
      "outputs": []
    },
    {
      "metadata": {
        "colab_type": "text",
        "id": "piC9TQJegCeH"
      },
      "cell_type": "markdown",
      "source": [
        "## Make the Soup"
      ]
    },
    {
      "metadata": {
        "colab_type": "code",
        "id": "ncmY7VwcTAmD",
        "outputId": "a5bec997-7238-49da-9be9-236b87275d62",
        "colab": {
          "base_uri": "https://localhost:8080/",
          "height": 11127
        }
      },
      "cell_type": "code",
      "source": [
        "page_to_scrape = 'https://web.archive.org/web/20121007172955/https://www.nga.gov/collection/anZ1.htm'\n",
        "\n",
        "# This makes a request to the page just as if we were navigating\n",
        "# to that page in the browser\n",
        "page = requests.get(page_to_scrape)\n",
        "\n",
        "# The \"soup\" is the parsed html of a webpage.\n",
        "soup = BeautifulSoup(page.text, 'html.parser')\n",
        "print(soup.prettify())"
      ],
      "execution_count": 48,
      "outputs": [
        {
          "output_type": "stream",
          "text": [
            "<!DOCTYPE html PUBLIC \"-//W3C//DTD XHTML 1.0 Transitional//EN\" \"http://www.w3.org/TR/xhtml1/DTD/xhtml1-transitional.dtd\">\n",
            "<html xmlns=\"http://www.w3.org/1999/xhtml\">\n",
            " <!-- InstanceBegin template=\"/Templates/template-collection.dwt\" codeOutsideHTMLIsLocked=\"false\" -->\n",
            " <head>\n",
            "  <script src=\"//archive.org/includes/analytics.js?v=cf34f82\" type=\"text/javascript\">\n",
            "  </script>\n",
            "  <script type=\"text/javascript\">\n",
            "   window.addEventListener('DOMContentLoaded',function(){var v=archive_analytics.values;v.service='wb';v.server_name='wwwb-app42.us.archive.org';v.server_ms=461;archive_analytics.send_pageview({});});\n",
            "  </script>\n",
            "  <script charset=\"utf-8\" src=\"/_static/js/ait-client-rewrite.js\" type=\"text/javascript\">\n",
            "  </script>\n",
            "  <script type=\"text/javascript\">\n",
            "   WB_wombat_Init(\"https://web.archive.org/web\", \"20121007172955\", \"www.nga.gov\");\n",
            "  </script>\n",
            "  <script charset=\"utf-8\" src=\"/_static/js/wbhack.js\" type=\"text/javascript\">\n",
            "  </script>\n",
            "  <script type=\"text/javascript\">\n",
            "   __wbhack.init('https://web.archive.org/web');\n",
            "  </script>\n",
            "  <link href=\"/_static/css/banner-styles.css\" rel=\"stylesheet\" type=\"text/css\"/>\n",
            "  <link href=\"/_static/css/iconochive.css\" rel=\"stylesheet\" type=\"text/css\"/>\n",
            "  <!-- End Wayback Rewrite JS Include -->\n",
            "  <!-- InstanceBeginEditable name=\"doctitle\" -->\n",
            "  <title>\n",
            "   NGA - Artist List 'Z' / Page 1 of 4\n",
            "  </title>\n",
            "  <!-- InstanceEndEditable -->\n",
            "  <!-- v 2.2 -->\n",
            "  <!-- InstanceBeginEditable name=\"head\" -->\n",
            "  <!-- InstanceEndEditable -->\n",
            "  <link href=\"/web/20121007172955cs_/https://www.nga.gov/Templates/nga.css\" rel=\"stylesheet\" type=\"text/css\"/>\n",
            "  <!-- InstanceParam name=\"AuthorName\" type=\"text\" value=\"\" -->\n",
            "  <!-- InstanceParam name=\"CreateDate\" type=\"text\" value=\"\" -->\n",
            "  <!-- InstanceParam name=\"ModifiedDate\" type=\"text\" value=\"\" -->\n",
            "  <!-- InstanceParam name=\"History\" type=\"text\" value=\"\" -->\n",
            "  <!-- Author Name=\"\" -->\n",
            "  <!-- Date Created=\"\" -->\n",
            "  <!-- Date Modified=\"\" -->\n",
            "  <!-- File History=\"\" -->\n",
            " </head>\n",
            " <body>\n",
            "  <div align=\"center\">\n",
            "   <table border=\"0\" cellpadding=\"0\" cellspacing=\"0\">\n",
            "    <tr>\n",
            "     <td align=\"right\" valign=\"top\" width=\"175\">\n",
            "      <div style=\"border-right: 1px solid #466D6C; margin-right: 8px;\">\n",
            "       <a href=\"/web/20121007172955/https://www.nga.gov/home.htm\">\n",
            "        <img alt=\"HOME\" border=\"0\" height=\"72\" src=\"/web/20121007172955im_/https://www.nga.gov/images/eagle.gif\" style=\"margin-top: 15px; margin-right: 12px; margin-bottom: 35px;\" width=\"74\"/>\n",
            "       </a>\n",
            "       <br/>\n",
            "       <div style=\"padding-right: 8px;\">\n",
            "        <!-- #BeginLibraryItem \"/Library/sidebar-top.lbi\" -->\n",
            "        <ul id=\"sideNav-top\">\n",
            "         <li>\n",
            "          <a href=\"/web/20121007172955/https://www.nga.gov/highlights/index.shtm\">\n",
            "           What's New\n",
            "          </a>\n",
            "         </li>\n",
            "         <li>\n",
            "          <a href=\"https://web.archive.org/web/20121007172955/http://subscribe.nga.gov/subscription_form_ngart.cfm\">\n",
            "           Newsletters\n",
            "          </a>\n",
            "         </li>\n",
            "         <li>\n",
            "          <a href=\"/web/20121007172955/https://www.nga.gov/programs/calendar/\">\n",
            "           Calendar\n",
            "          </a>\n",
            "         </li>\n",
            "         <li>\n",
            "          <a href=\"/web/20121007172955/https://www.nga.gov/collection/acquisitioninfo.shtm\">\n",
            "           Recent Acquisitions\n",
            "          </a>\n",
            "         </li>\n",
            "         <li>\n",
            "          <a href=\"/web/20121007172955/https://www.nga.gov/podcasts/index.shtm\">\n",
            "           Videos &amp; Podcasts\n",
            "          </a>\n",
            "         </li>\n",
            "         <li>\n",
            "          <a href=\"/web/20121007172955/https://www.nga.gov/ginfo/aboutnga.shtm\">\n",
            "           About the Gallery\n",
            "          </a>\n",
            "         </li>\n",
            "         <li class=\"call-out\">\n",
            "          <a href=\"/web/20121007172955/https://www.nga.gov/exhibitions/shockinfo.shtm\">\n",
            "           Shock of the News\n",
            "          </a>\n",
            "         </li>\n",
            "         <li class=\"call-out\">\n",
            "          <a href=\"/web/20121007172955/https://www.nga.gov/exhibitions/bellowsinfo.shtm\">\n",
            "           George Bellows\n",
            "          </a>\n",
            "         </li>\n",
            "        </ul>\n",
            "        <!-- #EndLibraryItem -->\n",
            "        <!-- #BeginLibraryItem \"/Library/sidebar-bottom.lbi\" -->\n",
            "        <ul id=\"globalNav\">\n",
            "         <li>\n",
            "          <a href=\"/web/20121007172955/https://www.nga.gov/collection/index.shtm\">\n",
            "           The Collection\n",
            "          </a>\n",
            "         </li>\n",
            "         <li>\n",
            "          <a href=\"/web/20121007172955/https://www.nga.gov/exhibitions/index.shtm\">\n",
            "           Exhibitions\n",
            "          </a>\n",
            "         </li>\n",
            "         <li>\n",
            "          <a href=\"/web/20121007172955/https://www.nga.gov/ginfo/index.shtm\">\n",
            "           Plan a Visit\n",
            "          </a>\n",
            "         </li>\n",
            "         <li>\n",
            "          <a href=\"/web/20121007172955/https://www.nga.gov/programs/index.shtm\">\n",
            "           Programs &amp; Events\n",
            "          </a>\n",
            "         </li>\n",
            "         <li>\n",
            "          <a href=\"/web/20121007172955/https://www.nga.gov/onlinetours/index.shtm\">\n",
            "           Online Tours\n",
            "          </a>\n",
            "         </li>\n",
            "         <li>\n",
            "          <a href=\"/web/20121007172955/https://www.nga.gov/education/index.shtm\">\n",
            "           Education\n",
            "          </a>\n",
            "         </li>\n",
            "         <li>\n",
            "          <a href=\"/web/20121007172955/https://www.nga.gov/resources/index.shtm\">\n",
            "           Resources\n",
            "          </a>\n",
            "         </li>\n",
            "         <li>\n",
            "          <a href=\"https://web.archive.org/web/20121007172955/http://shop.nga.gov/\">\n",
            "           Gallery Shop\n",
            "          </a>\n",
            "         </li>\n",
            "         <li>\n",
            "          <a href=\"/web/20121007172955/https://www.nga.gov/support/index.shtm\">\n",
            "           Support the Gallery\n",
            "          </a>\n",
            "         </li>\n",
            "         <li>\n",
            "          <a href=\"https://web.archive.org/web/20121007172955/https://images.nga.gov/en/page/show_home_page.html\">\n",
            "           NGA Images\n",
            "          </a>\n",
            "         </li>\n",
            "         <li>\n",
            "          <a href=\"/web/20121007172955/https://www.nga.gov/kids/kids.htm\">\n",
            "           NGA\n",
            "           <span class=\"kids\">\n",
            "            kids\n",
            "           </span>\n",
            "          </a>\n",
            "         </li>\n",
            "        </ul>\n",
            "        <!-- #EndLibraryItem -->\n",
            "        <form action=\"/web/20121007172955/https://www.nga.gov/cgi-bin/htsearch\" method=\"get\" style=\"float: inherit; clear: both;\">\n",
            "         <input name=\"method\" type=\"hidden\" value=\"and\"/>\n",
            "         <input name=\"format\" type=\"hidden\" value=\"Long\"/>\n",
            "         <input name=\"sort\" type=\"hidden\" value=\"score\"/>\n",
            "         <input class=\"searchField\" name=\"words\" onfocus=\"if (this.value.indexOf('Search the Site') == 0) this.value = '';\" size=\"14\" style=\"margin-bottom:3px;\" type=\"text\" value=\"Search the Site\"/>\n",
            "         <input src=\"/web/20121007172955im_/https://www.nga.gov/images/new_go_btn.gif\" type=\"image\"/>\n",
            "         <input name=\"restrict\" type=\"hidden\"/>\n",
            "         <input name=\"exclude\" type=\"hidden\" value=\"\"/>\n",
            "        </form>\n",
            "       </div>\n",
            "      </div>\n",
            "     </td>\n",
            "     <td valign=\"top\" width=\"675\">\n",
            "      <div class=\"content\">\n",
            "       <img alt=\"National Gallery of Art - THE COLLECTION\" border=\"0\" height=\"44\" src=\"/web/20121007172955im_/https://www.nga.gov/images/collections_test.gif\" style=\"margin-top: 28px; margin-bottom: 40px; text-align: left; float: left;\" width=\"400\"/>\n",
            "       <div style=\"clear: both;\">\n",
            "       </div>\n",
            "       <div class=\"BodyText\">\n",
            "        <!-- InstanceBeginEditable name=\"BodyText\" -->\n",
            "        <h3>\n",
            "         Artist names beginning with Z\n",
            "        </h3>\n",
            "        <table>\n",
            "         <tr valign=\"top\">\n",
            "          <td>\n",
            "           <a href=\"/web/20121007172955/https://www.nga.gov/cgi-bin/tsearch?artistid=11630\">\n",
            "            Zabaglia, Niccola\n",
            "           </a>\n",
            "          </td>\n",
            "          <td>\n",
            "           Italian, 1664 - 1750\n",
            "          </td>\n",
            "         </tr>\n",
            "         <tr valign=\"top\">\n",
            "          <td>\n",
            "           <a href=\"/web/20121007172955/https://www.nga.gov/cgi-bin/tsearch?artistid=34202\">\n",
            "            Zaccone, Fabian\n",
            "           </a>\n",
            "          </td>\n",
            "          <td>\n",
            "           American, 1910 - 1992\n",
            "          </td>\n",
            "         </tr>\n",
            "         <tr valign=\"top\">\n",
            "          <td>\n",
            "           <a href=\"/web/20121007172955/https://www.nga.gov/cgi-bin/tsearch?artistid=3475\">\n",
            "            Zadkine, Ossip\n",
            "           </a>\n",
            "          </td>\n",
            "          <td>\n",
            "           French, 1890 - 1967\n",
            "          </td>\n",
            "         </tr>\n",
            "         <tr valign=\"top\">\n",
            "          <td>\n",
            "           <a href=\"/web/20121007172955/https://www.nga.gov/cgi-bin/tsearch?artistid=25135\">\n",
            "            Zaech, Bernhard\n",
            "           </a>\n",
            "          </td>\n",
            "          <td>\n",
            "           German, active c. 1650\n",
            "          </td>\n",
            "         </tr>\n",
            "         <tr valign=\"top\">\n",
            "          <td>\n",
            "           <a href=\"/web/20121007172955/https://www.nga.gov/cgi-bin/tsearch?artistid=2298\">\n",
            "            Zagar, Jacob\n",
            "           </a>\n",
            "          </td>\n",
            "          <td>\n",
            "           Flemish, c. 1530 - after 1580\n",
            "          </td>\n",
            "         </tr>\n",
            "         <tr valign=\"top\">\n",
            "          <td>\n",
            "           <a href=\"/web/20121007172955/https://www.nga.gov/cgi-bin/tsearch?artistid=23988\">\n",
            "            Zagroba, Idalia\n",
            "           </a>\n",
            "          </td>\n",
            "          <td>\n",
            "           Polish, born 1967\n",
            "          </td>\n",
            "         </tr>\n",
            "         <tr valign=\"top\">\n",
            "          <td>\n",
            "           <a href=\"/web/20121007172955/https://www.nga.gov/cgi-bin/tsearch?artistid=8232\">\n",
            "            Zaidenberg, A.\n",
            "           </a>\n",
            "          </td>\n",
            "          <td>\n",
            "           American, active c. 1935\n",
            "          </td>\n",
            "         </tr>\n",
            "         <tr valign=\"top\">\n",
            "          <td>\n",
            "           <a href=\"/web/20121007172955/https://www.nga.gov/cgi-bin/tsearch?artistid=34154\">\n",
            "            Zaidenberg, Arthur\n",
            "           </a>\n",
            "          </td>\n",
            "          <td>\n",
            "           American, 1903 - 1990\n",
            "          </td>\n",
            "         </tr>\n",
            "         <tr valign=\"top\">\n",
            "          <td>\n",
            "           <a href=\"/web/20121007172955/https://www.nga.gov/cgi-bin/tsearch?artistid=4910\">\n",
            "            Zaisinger, Matthäus\n",
            "           </a>\n",
            "          </td>\n",
            "          <td>\n",
            "           German, active c. 1500\n",
            "          </td>\n",
            "         </tr>\n",
            "         <tr valign=\"top\">\n",
            "          <td>\n",
            "           <a href=\"/web/20121007172955/https://www.nga.gov/cgi-bin/tsearch?artistid=3450\">\n",
            "            Zajac, Jack\n",
            "           </a>\n",
            "          </td>\n",
            "          <td>\n",
            "           American, born 1929\n",
            "          </td>\n",
            "         </tr>\n",
            "         <tr valign=\"top\">\n",
            "          <td>\n",
            "           <a href=\"/web/20121007172955/https://www.nga.gov/cgi-bin/tsearch?artistid=1986\">\n",
            "            Zak, Eugène\n",
            "           </a>\n",
            "          </td>\n",
            "          <td>\n",
            "           Polish, 1884 - 1926\n",
            "          </td>\n",
            "         </tr>\n",
            "         <tr valign=\"top\">\n",
            "          <td>\n",
            "           <a href=\"/web/20121007172955/https://www.nga.gov/cgi-bin/tsearch?artistid=3451\">\n",
            "            Zakharov, Gurii Fillipovich\n",
            "           </a>\n",
            "          </td>\n",
            "          <td>\n",
            "           Russian, born 1926\n",
            "          </td>\n",
            "         </tr>\n",
            "         <tr valign=\"top\">\n",
            "          <td>\n",
            "           <a href=\"/web/20121007172955/https://www.nga.gov/cgi-bin/tsearch?artistid=20099\">\n",
            "            Zakowortny, Igor\n",
            "           </a>\n",
            "          </td>\n",
            "          <td>\n",
            "          </td>\n",
            "         </tr>\n",
            "         <tr valign=\"top\">\n",
            "          <td>\n",
            "           <a href=\"/web/20121007172955/https://www.nga.gov/cgi-bin/tsearch?artistid=3452\">\n",
            "            Zalce, Alfredo\n",
            "           </a>\n",
            "          </td>\n",
            "          <td>\n",
            "           Mexican, born 1908\n",
            "          </td>\n",
            "         </tr>\n",
            "         <tr valign=\"top\">\n",
            "          <td>\n",
            "           <a href=\"/web/20121007172955/https://www.nga.gov/cgi-bin/tsearch?artistid=34309\">\n",
            "            Zalopany, Michele\n",
            "           </a>\n",
            "          </td>\n",
            "          <td>\n",
            "           American, born 1955\n",
            "          </td>\n",
            "         </tr>\n",
            "         <tr valign=\"top\">\n",
            "          <td>\n",
            "           <a href=\"/web/20121007172955/https://www.nga.gov/cgi-bin/tsearch?artistid=27191\">\n",
            "            Zammiello, Craig\n",
            "           </a>\n",
            "          </td>\n",
            "          <td>\n",
            "          </td>\n",
            "         </tr>\n",
            "         <tr valign=\"top\">\n",
            "          <td>\n",
            "           <a href=\"/web/20121007172955/https://www.nga.gov/cgi-bin/tsearch?artistid=5846\">\n",
            "            Zammitt, Norman\n",
            "           </a>\n",
            "          </td>\n",
            "          <td>\n",
            "           American, born 1931\n",
            "          </td>\n",
            "         </tr>\n",
            "         <tr valign=\"top\">\n",
            "          <td>\n",
            "           <a href=\"/web/20121007172955/https://www.nga.gov/cgi-bin/tsearch?artistid=3941\">\n",
            "            Zampieri, Domenico\n",
            "           </a>\n",
            "          </td>\n",
            "          <td>\n",
            "           Italian, 1581 - 1641\n",
            "          </td>\n",
            "         </tr>\n",
            "         <tr valign=\"top\">\n",
            "          <td>\n",
            "           <a href=\"/web/20121007172955/https://www.nga.gov/cgi-bin/tsearch?artistid=3941\">\n",
            "            Zampieri, called Domenichino, Domenico\n",
            "           </a>\n",
            "          </td>\n",
            "          <td>\n",
            "           Italian, 1581 - 1641\n",
            "          </td>\n",
            "         </tr>\n",
            "         <tr valign=\"top\">\n",
            "          <td>\n",
            "           <a href=\"/web/20121007172955/https://www.nga.gov/cgi-bin/tsearch?artistid=3453\">\n",
            "            Zanartú, Enrique Antunez\n",
            "           </a>\n",
            "          </td>\n",
            "          <td>\n",
            "           Chilean, born 1921\n",
            "          </td>\n",
            "         </tr>\n",
            "         <tr valign=\"top\">\n",
            "          <td>\n",
            "           <a href=\"/web/20121007172955/https://www.nga.gov/cgi-bin/tsearch?artistid=35173\">\n",
            "            Zanchi, Antonio\n",
            "           </a>\n",
            "          </td>\n",
            "          <td>\n",
            "           Italian, 1631 - 1722\n",
            "          </td>\n",
            "         </tr>\n",
            "         <tr valign=\"top\">\n",
            "          <td>\n",
            "           <a href=\"/web/20121007172955/https://www.nga.gov/cgi-bin/tsearch?artistid=11133\">\n",
            "            Zanetti, Anton Maria\n",
            "           </a>\n",
            "          </td>\n",
            "          <td>\n",
            "           Italian, 1679/1680 - 1767\n",
            "          </td>\n",
            "         </tr>\n",
            "         <tr valign=\"top\">\n",
            "          <td>\n",
            "           <a href=\"/web/20121007172955/https://www.nga.gov/cgi-bin/tsearch?artistid=3455\">\n",
            "            Zanetti Borzino, Leopoldina\n",
            "           </a>\n",
            "          </td>\n",
            "          <td>\n",
            "           Italian, 1826 - 1902\n",
            "          </td>\n",
            "         </tr>\n",
            "         <tr valign=\"top\">\n",
            "          <td>\n",
            "           <a href=\"/web/20121007172955/https://www.nga.gov/cgi-bin/tsearch?artistid=3454\">\n",
            "            Zanetti I, Antonio Maria, conte\n",
            "           </a>\n",
            "          </td>\n",
            "          <td>\n",
            "           Italian, 1680 - 1757\n",
            "          </td>\n",
            "         </tr>\n",
            "         <tr valign=\"top\">\n",
            "          <td>\n",
            "           <a href=\"/web/20121007172955/https://www.nga.gov/cgi-bin/tsearch?artistid=961\">\n",
            "            Zanguidi, Jacopo\n",
            "           </a>\n",
            "          </td>\n",
            "          <td>\n",
            "           Italian, 1544 - 1573/1574\n",
            "          </td>\n",
            "         </tr>\n",
            "         <tr valign=\"top\">\n",
            "          <td>\n",
            "           <a href=\"/web/20121007172955/https://www.nga.gov/cgi-bin/tsearch?artistid=11597\">\n",
            "            Zanini, Giuseppe\n",
            "           </a>\n",
            "          </td>\n",
            "          <td>\n",
            "           Italian, c. 1599 - 1631\n",
            "          </td>\n",
            "         </tr>\n",
            "         <tr valign=\"top\">\n",
            "          <td>\n",
            "           <a href=\"/web/20121007172955/https://www.nga.gov/cgi-bin/tsearch?artistid=11597\">\n",
            "            Zanini-Viola, Giuseppe\n",
            "           </a>\n",
            "          </td>\n",
            "          <td>\n",
            "           Italian, c. 1599 - 1631\n",
            "          </td>\n",
            "         </tr>\n",
            "         <tr valign=\"top\">\n",
            "          <td>\n",
            "           <a href=\"/web/20121007172955/https://www.nga.gov/cgi-bin/tsearch?artistid=11631\">\n",
            "            Zanotti, Giampietro\n",
            "           </a>\n",
            "          </td>\n",
            "          <td>\n",
            "           Italian, 1674 - 1765\n",
            "          </td>\n",
            "         </tr>\n",
            "         <tr valign=\"top\">\n",
            "          <td>\n",
            "           <a href=\"/web/20121007172955/https://www.nga.gov/cgi-bin/tsearch?artistid=3427\">\n",
            "            Zao Wou-Ki\n",
            "           </a>\n",
            "          </td>\n",
            "          <td>\n",
            "           French, born 1921\n",
            "          </td>\n",
            "         </tr>\n",
            "        </table>\n",
            "        <br/>\n",
            "        <br/>\n",
            "        <table class=\"AlphaNav\">\n",
            "         <tr>\n",
            "          <td>\n",
            "          </td>\n",
            "          <td align=\"center\">\n",
            "           Page 1 - Artists 1 thru 29 of 115\n",
            "           <br/>\n",
            "          </td>\n",
            "          <td>\n",
            "          </td>\n",
            "         </tr>\n",
            "         <tr>\n",
            "          <td>\n",
            "          </td>\n",
            "          <td align=\"center\">\n",
            "           ·\n",
            "           <b>\n",
            "            Zab-Zao\n",
            "           </b>\n",
            "           ·\n",
            "           <a href=\"/web/20121007172955/https://www.nga.gov/collection/anZ2.htm\">\n",
            "            Zas-Zie\n",
            "           </a>\n",
            "           <a href=\"/web/20121007172955/https://www.nga.gov/collection/anZ3.htm\">\n",
            "            Zie-Zor\n",
            "           </a>\n",
            "          </td>\n",
            "          <td align=\"center\">\n",
            "           »\n",
            "           <br>\n",
            "            <a href=\"/web/20121007172955/https://www.nga.gov/collection/anZ4.htm\">\n",
            "             <strong>\n",
            "              next\n",
            "              <br/>\n",
            "              page\n",
            "             </strong>\n",
            "            </a>\n",
            "           </br>\n",
            "          </td>\n",
            "         </tr>\n",
            "        </table>\n",
            "        <!-- InstanceEndEditable -->\n",
            "       </div>\n",
            "       <!--close bodytext div -->\n",
            "      </div>\n",
            "      <!-- close content div -->\n",
            "     </td>\n",
            "    </tr>\n",
            "    <tr>\n",
            "     <td>\n",
            "     </td>\n",
            "     <td class=\"noToolbar\" colspan=\"2\">\n",
            "      <div style=\"margin-top: 15px;\">\n",
            "       <p style=\"padding: 50px 0 0 10px; font-size: 90%; text-align: left;\">\n",
            "        <!-- #BeginLibraryItem \"/Library/toolbar_new.lbi\" -->\n",
            "        <a href=\"/web/20121007172955/https://www.nga.gov/help/index.shtm\">\n",
            "         help\n",
            "        </a>\n",
            "        |\n",
            "        <a href=\"/web/20121007172955/https://www.nga.gov/search/index.shtm\">\n",
            "         search\n",
            "        </a>\n",
            "        |\n",
            "        <a href=\"/web/20121007172955/https://www.nga.gov/copyright/toc.shtm\">\n",
            "         site map\n",
            "        </a>\n",
            "        |\n",
            "        <a href=\"/web/20121007172955/https://www.nga.gov/xio/phone.shtm\">\n",
            "         contact us\n",
            "        </a>\n",
            "        |\n",
            "        <a href=\"/web/20121007172955/https://www.nga.gov/xio/privacy.shtm\">\n",
            "         privacy\n",
            "        </a>\n",
            "        |\n",
            "        <a href=\"/web/20121007172955/https://www.nga.gov/copyright/index.shtm\">\n",
            "         terms of use\n",
            "        </a>\n",
            "        |\n",
            "        <a href=\"/web/20121007172955/https://www.nga.gov/press/index.shtm\">\n",
            "         press\n",
            "        </a>\n",
            "        |\n",
            "        <a href=\"https://web.archive.org/web/20121007172955/http://images.nga.gov/\">\n",
            "         NGA Images\n",
            "        </a>\n",
            "        |\n",
            "        <a href=\"/web/20121007172955/https://www.nga.gov/home.htm\">\n",
            "         home\n",
            "        </a>\n",
            "        |\n",
            "        <a href=\"https://web.archive.org/web/20121007172955/http://www.facebook.com/nationalgalleryofart\">\n",
            "         <img alt=\"Go to our page on Facebook\" border=\"0\" height=\"18\" src=\"/web/20121007172955im_/https://www.nga.gov/images/icon_facebook.gif\" style=\"vertical-align: text-top; margin-top: -1px;\" width=\"18\"/>\n",
            "        </a>\n",
            "        <a href=\"https://web.archive.org/web/20121007172955/https://twitter.com/#!/@ngadc\">\n",
            "         <img alt=\"Go to our page on Twitter\" border=\"0\" height=\"18\" src=\"/web/20121007172955im_/https://www.nga.gov/images/icon_twitter.gif\" style=\"vertical-align: text-top; margin-top: -1px;\" width=\"20\"/>\n",
            "        </a>\n",
            "        <!-- #EndLibraryItem -->\n",
            "       </p>\n",
            "       <p style=\"padding: 0 0 0 10px; font-size: 90%; text-align: left;\">\n",
            "        <!-- #BeginLibraryItem \"/Library/copyright_new.lbi\" -->\n",
            "        <a href=\"/web/20121007172955/https://www.nga.gov/copyright/index.shtm\">\n",
            "         Copyright ©\n",
            "         <script language=\"JavaScript\">\n",
            "          function y2k(number) { return (number < 1000) ? number + 1900 : number; }\n",
            "var today = new Date();\n",
            "var year  = y2k(today.getYear());\n",
            "document.write(year);\n",
            "         </script>\n",
            "         <noscript>\n",
            "          2008\n",
            "         </noscript>\n",
            "         National Gallery of Art, Washington, DC\n",
            "        </a>\n",
            "        <!-- #EndLibraryItem -->\n",
            "       </p>\n",
            "      </div>\n",
            "     </td>\n",
            "    </tr>\n",
            "   </table>\n",
            "  </div>\n",
            "  <!-- Start Web Analytic Code -->\n",
            "  <script type=\"text/javascript\">\n",
            "   var _gaq = _gaq || [];\n",
            "  _gaq.push(['_setAccount', 'UA-31577529-1']);\n",
            "  _gaq.push(['_setDomainName', 'nga.gov']);\n",
            "  _gaq.push(['_trackPageview']);\n",
            "\n",
            "  (function() {\n",
            "    var ga = document.createElement('script'); ga.type = 'text/javascript'; ga.async = true;\n",
            "    ga.src = ('https:' == document.location.protocol ? 'https://web.archive.org/web/20121007172955/https://ssl/' : 'https://web.archive.org/web/20121007172955/http://www/') + '.google-analytics.com/ga.js';\n",
            "    var s = document.getElementsByTagName('script')[0]; s.parentNode.insertBefore(ga, s);\n",
            "  })();\n",
            "  </script>\n",
            "  <!-- End Web Analytic Code -->\n",
            " </body>\n",
            " <!-- InstanceEnd -->\n",
            "</html>\n",
            "<!--\n",
            "     FILE ARCHIVED ON 17:29:55 Oct 07, 2012 AND RETRIEVED FROM THE\n",
            "     INTERNET ARCHIVE ON 17:33:36 Apr 29, 2019.\n",
            "     JAVASCRIPT APPENDED BY WAYBACK MACHINE, COPYRIGHT INTERNET ARCHIVE.\n",
            "\n",
            "     ALL OTHER CONTENT MAY ALSO BE PROTECTED BY COPYRIGHT (17 U.S.C.\n",
            "     SECTION 108(a)(3)).\n",
            "-->\n",
            "<!--\n",
            "playback timings (ms):\n",
            "  LoadShardBlock: 122.251 (3)\n",
            "  esindex: 0.012\n",
            "  captures_list: 158.643\n",
            "  CDXLines.iter: 15.069 (3)\n",
            "  PetaboxLoader3.datanode: 137.284 (4)\n",
            "  exclusion.robots: 0.319\n",
            "  exclusion.robots.policy: 0.303\n",
            "  RedisCDXSource: 16.365\n",
            "  PetaboxLoader3.resolve: 243.62 (2)\n",
            "  load_resource: 290.307\n",
            "-->\n",
            "\n"
          ],
          "name": "stdout"
        }
      ]
    },
    {
      "metadata": {
        "colab_type": "text",
        "id": "kbvfwDh7gGoz"
      },
      "cell_type": "markdown",
      "source": [
        "## .find()\n",
        "\n",
        ".find() gives us everything within an html tag as if it were a smaller soup. We can search by id or by class."
      ]
    },
    {
      "metadata": {
        "colab_type": "code",
        "id": "bQ6UsIUehG9y",
        "outputId": "7cbb259c-fc11-4961-ef24-a80fad186545",
        "colab": {
          "base_uri": "https://localhost:8080/",
          "height": 245
        }
      },
      "cell_type": "code",
      "source": [
        "nav_stuff = soup.find(id='globalNav')\n",
        "print(nav_stuff)"
      ],
      "execution_count": 49,
      "outputs": [
        {
          "output_type": "stream",
          "text": [
            "<ul id=\"globalNav\">\n",
            "<li><a href=\"/web/20121007172955/https://www.nga.gov/collection/index.shtm\">The Collection</a></li>\n",
            "<li><a href=\"/web/20121007172955/https://www.nga.gov/exhibitions/index.shtm\">Exhibitions</a></li>\n",
            "<li><a href=\"/web/20121007172955/https://www.nga.gov/ginfo/index.shtm\">Plan a Visit</a></li>\n",
            "<li><a href=\"/web/20121007172955/https://www.nga.gov/programs/index.shtm\">Programs &amp; Events</a></li>\n",
            "<li><a href=\"/web/20121007172955/https://www.nga.gov/onlinetours/index.shtm\">Online Tours</a></li>\n",
            "<li><a href=\"/web/20121007172955/https://www.nga.gov/education/index.shtm\">Education</a></li>\n",
            "<li><a href=\"/web/20121007172955/https://www.nga.gov/resources/index.shtm\">Resources</a></li>\n",
            "<li><a href=\"https://web.archive.org/web/20121007172955/http://shop.nga.gov/\">Gallery Shop</a></li>\n",
            "<li><a href=\"/web/20121007172955/https://www.nga.gov/support/index.shtm\">Support the Gallery</a></li>\n",
            "<li><a href=\"https://web.archive.org/web/20121007172955/https://images.nga.gov/en/page/show_home_page.html\">NGA Images</a></li>\n",
            "<li><a href=\"/web/20121007172955/https://www.nga.gov/kids/kids.htm\">NGA<span class=\"kids\">kids</span></a></li>\n",
            "</ul>\n"
          ],
          "name": "stdout"
        }
      ]
    },
    {
      "metadata": {
        "colab_type": "code",
        "id": "zt_QfZYzV18G",
        "outputId": "bc502ef2-2c31-4726-a443-deb4affe21b8",
        "colab": {
          "base_uri": "https://localhost:8080/",
          "height": 810
        }
      },
      "cell_type": "code",
      "source": [
        "artist_name_list = soup.find(class_='BodyText')\n",
        "print(artist_name_list)"
      ],
      "execution_count": 50,
      "outputs": [
        {
          "output_type": "stream",
          "text": [
            "<div class=\"BodyText\">\n",
            "<!-- InstanceBeginEditable name=\"BodyText\" -->\n",
            "<h3>Artist names beginning with Z</h3><table>\n",
            "<tr valign=\"top\"><td><a href=\"/web/20121007172955/https://www.nga.gov/cgi-bin/tsearch?artistid=11630\">Zabaglia, Niccola</a></td><td>Italian, 1664 - 1750</td></tr>\n",
            "<tr valign=\"top\"><td><a href=\"/web/20121007172955/https://www.nga.gov/cgi-bin/tsearch?artistid=34202\">Zaccone, Fabian</a></td><td>American, 1910 - 1992</td></tr>\n",
            "<tr valign=\"top\"><td><a href=\"/web/20121007172955/https://www.nga.gov/cgi-bin/tsearch?artistid=3475\">Zadkine, Ossip</a></td><td>French, 1890 - 1967</td></tr>\n",
            "<tr valign=\"top\"><td><a href=\"/web/20121007172955/https://www.nga.gov/cgi-bin/tsearch?artistid=25135\">Zaech, Bernhard</a></td><td>German, active c. 1650</td></tr>\n",
            "<tr valign=\"top\"><td><a href=\"/web/20121007172955/https://www.nga.gov/cgi-bin/tsearch?artistid=2298\">Zagar, Jacob</a></td><td>Flemish, c. 1530 - after 1580</td></tr>\n",
            "<tr valign=\"top\"><td><a href=\"/web/20121007172955/https://www.nga.gov/cgi-bin/tsearch?artistid=23988\">Zagroba, Idalia</a></td><td>Polish, born 1967</td></tr>\n",
            "<tr valign=\"top\"><td><a href=\"/web/20121007172955/https://www.nga.gov/cgi-bin/tsearch?artistid=8232\">Zaidenberg, A.</a></td><td>American, active c. 1935</td></tr>\n",
            "<tr valign=\"top\"><td><a href=\"/web/20121007172955/https://www.nga.gov/cgi-bin/tsearch?artistid=34154\">Zaidenberg, Arthur</a></td><td>American, 1903 - 1990</td></tr>\n",
            "<tr valign=\"top\"><td><a href=\"/web/20121007172955/https://www.nga.gov/cgi-bin/tsearch?artistid=4910\">Zaisinger, Matthäus</a></td><td>German, active c. 1500</td></tr>\n",
            "<tr valign=\"top\"><td><a href=\"/web/20121007172955/https://www.nga.gov/cgi-bin/tsearch?artistid=3450\">Zajac, Jack</a></td><td>American, born 1929</td></tr>\n",
            "<tr valign=\"top\"><td><a href=\"/web/20121007172955/https://www.nga.gov/cgi-bin/tsearch?artistid=1986\">Zak, Eugène</a></td><td>Polish, 1884 - 1926</td></tr>\n",
            "<tr valign=\"top\"><td><a href=\"/web/20121007172955/https://www.nga.gov/cgi-bin/tsearch?artistid=3451\">Zakharov, Gurii Fillipovich</a></td><td>Russian, born 1926</td></tr>\n",
            "<tr valign=\"top\"><td><a href=\"/web/20121007172955/https://www.nga.gov/cgi-bin/tsearch?artistid=20099\">Zakowortny, Igor</a></td><td></td></tr>\n",
            "<tr valign=\"top\"><td><a href=\"/web/20121007172955/https://www.nga.gov/cgi-bin/tsearch?artistid=3452\">Zalce, Alfredo</a></td><td>Mexican, born 1908</td></tr>\n",
            "<tr valign=\"top\"><td><a href=\"/web/20121007172955/https://www.nga.gov/cgi-bin/tsearch?artistid=34309\">Zalopany, Michele</a></td><td>American, born 1955</td></tr>\n",
            "<tr valign=\"top\"><td><a href=\"/web/20121007172955/https://www.nga.gov/cgi-bin/tsearch?artistid=27191\">Zammiello, Craig</a></td><td></td></tr>\n",
            "<tr valign=\"top\"><td><a href=\"/web/20121007172955/https://www.nga.gov/cgi-bin/tsearch?artistid=5846\">Zammitt, Norman</a></td><td>American, born 1931</td></tr>\n",
            "<tr valign=\"top\"><td><a href=\"/web/20121007172955/https://www.nga.gov/cgi-bin/tsearch?artistid=3941\">Zampieri, Domenico</a></td><td>Italian, 1581 - 1641</td></tr>\n",
            "<tr valign=\"top\"><td><a href=\"/web/20121007172955/https://www.nga.gov/cgi-bin/tsearch?artistid=3941\">Zampieri, called Domenichino, Domenico</a></td><td>Italian, 1581 - 1641</td></tr>\n",
            "<tr valign=\"top\"><td><a href=\"/web/20121007172955/https://www.nga.gov/cgi-bin/tsearch?artistid=3453\">Zanartú, Enrique Antunez</a></td><td>Chilean, born 1921</td></tr>\n",
            "<tr valign=\"top\"><td><a href=\"/web/20121007172955/https://www.nga.gov/cgi-bin/tsearch?artistid=35173\">Zanchi, Antonio</a></td><td>Italian, 1631 - 1722</td></tr>\n",
            "<tr valign=\"top\"><td><a href=\"/web/20121007172955/https://www.nga.gov/cgi-bin/tsearch?artistid=11133\">Zanetti, Anton Maria</a></td><td>Italian, 1679/1680 - 1767</td></tr>\n",
            "<tr valign=\"top\"><td><a href=\"/web/20121007172955/https://www.nga.gov/cgi-bin/tsearch?artistid=3455\">Zanetti Borzino, Leopoldina</a></td><td>Italian, 1826 - 1902</td></tr>\n",
            "<tr valign=\"top\"><td><a href=\"/web/20121007172955/https://www.nga.gov/cgi-bin/tsearch?artistid=3454\">Zanetti I, Antonio Maria, conte</a></td><td>Italian, 1680 - 1757</td></tr>\n",
            "<tr valign=\"top\"><td><a href=\"/web/20121007172955/https://www.nga.gov/cgi-bin/tsearch?artistid=961\">Zanguidi, Jacopo</a></td><td>Italian, 1544 - 1573/1574</td></tr>\n",
            "<tr valign=\"top\"><td><a href=\"/web/20121007172955/https://www.nga.gov/cgi-bin/tsearch?artistid=11597\">Zanini, Giuseppe</a></td><td>Italian, c. 1599 - 1631</td></tr>\n",
            "<tr valign=\"top\"><td><a href=\"/web/20121007172955/https://www.nga.gov/cgi-bin/tsearch?artistid=11597\">Zanini-Viola, Giuseppe</a></td><td>Italian, c. 1599 - 1631</td></tr>\n",
            "<tr valign=\"top\"><td><a href=\"/web/20121007172955/https://www.nga.gov/cgi-bin/tsearch?artistid=11631\">Zanotti, Giampietro</a></td><td>Italian, 1674 - 1765</td></tr>\n",
            "<tr valign=\"top\"><td><a href=\"/web/20121007172955/https://www.nga.gov/cgi-bin/tsearch?artistid=3427\">Zao Wou-Ki</a></td><td>French, born 1921</td></tr>\n",
            "</table>\n",
            "<br/><br/>\n",
            "<table class=\"AlphaNav\"><tr><td></td><td align=\"center\">Page 1 - Artists 1 thru 29 of 115<br/></td><td></td></tr>\n",
            "<tr>\n",
            "<td></td>\n",
            "<td align=\"center\">\n",
            "· <b>Zab-Zao</b> ·<a href=\"/web/20121007172955/https://www.nga.gov/collection/anZ2.htm\">Zas-Zie</a> <a href=\"/web/20121007172955/https://www.nga.gov/collection/anZ3.htm\">Zie-Zor</a> </td>\n",
            "<td align=\"center\">» <br><a href=\"/web/20121007172955/https://www.nga.gov/collection/anZ4.htm\"><strong>next<br/>page</strong></a></br></td>\n",
            "</tr>\n",
            "</table>\n",
            "<!-- InstanceEndEditable -->\n",
            "</div>\n"
          ],
          "name": "stdout"
        }
      ]
    },
    {
      "metadata": {
        "colab_type": "code",
        "id": "cgVJ81wGR-wD",
        "outputId": "04abdc6b-5066-4e5e-bcdb-65050a8ff109",
        "colab": {
          "base_uri": "https://localhost:8080/",
          "height": 54
        }
      },
      "cell_type": "code",
      "source": [
        "artist_names = artist_name_list.find_all('a')\n",
        "print(artist_names)"
      ],
      "execution_count": 51,
      "outputs": [
        {
          "output_type": "stream",
          "text": [
            "[<a href=\"/web/20121007172955/https://www.nga.gov/cgi-bin/tsearch?artistid=11630\">Zabaglia, Niccola</a>, <a href=\"/web/20121007172955/https://www.nga.gov/cgi-bin/tsearch?artistid=34202\">Zaccone, Fabian</a>, <a href=\"/web/20121007172955/https://www.nga.gov/cgi-bin/tsearch?artistid=3475\">Zadkine, Ossip</a>, <a href=\"/web/20121007172955/https://www.nga.gov/cgi-bin/tsearch?artistid=25135\">Zaech, Bernhard</a>, <a href=\"/web/20121007172955/https://www.nga.gov/cgi-bin/tsearch?artistid=2298\">Zagar, Jacob</a>, <a href=\"/web/20121007172955/https://www.nga.gov/cgi-bin/tsearch?artistid=23988\">Zagroba, Idalia</a>, <a href=\"/web/20121007172955/https://www.nga.gov/cgi-bin/tsearch?artistid=8232\">Zaidenberg, A.</a>, <a href=\"/web/20121007172955/https://www.nga.gov/cgi-bin/tsearch?artistid=34154\">Zaidenberg, Arthur</a>, <a href=\"/web/20121007172955/https://www.nga.gov/cgi-bin/tsearch?artistid=4910\">Zaisinger, Matthäus</a>, <a href=\"/web/20121007172955/https://www.nga.gov/cgi-bin/tsearch?artistid=3450\">Zajac, Jack</a>, <a href=\"/web/20121007172955/https://www.nga.gov/cgi-bin/tsearch?artistid=1986\">Zak, Eugène</a>, <a href=\"/web/20121007172955/https://www.nga.gov/cgi-bin/tsearch?artistid=3451\">Zakharov, Gurii Fillipovich</a>, <a href=\"/web/20121007172955/https://www.nga.gov/cgi-bin/tsearch?artistid=20099\">Zakowortny, Igor</a>, <a href=\"/web/20121007172955/https://www.nga.gov/cgi-bin/tsearch?artistid=3452\">Zalce, Alfredo</a>, <a href=\"/web/20121007172955/https://www.nga.gov/cgi-bin/tsearch?artistid=34309\">Zalopany, Michele</a>, <a href=\"/web/20121007172955/https://www.nga.gov/cgi-bin/tsearch?artistid=27191\">Zammiello, Craig</a>, <a href=\"/web/20121007172955/https://www.nga.gov/cgi-bin/tsearch?artistid=5846\">Zammitt, Norman</a>, <a href=\"/web/20121007172955/https://www.nga.gov/cgi-bin/tsearch?artistid=3941\">Zampieri, Domenico</a>, <a href=\"/web/20121007172955/https://www.nga.gov/cgi-bin/tsearch?artistid=3941\">Zampieri, called Domenichino, Domenico</a>, <a href=\"/web/20121007172955/https://www.nga.gov/cgi-bin/tsearch?artistid=3453\">Zanartú, Enrique Antunez</a>, <a href=\"/web/20121007172955/https://www.nga.gov/cgi-bin/tsearch?artistid=35173\">Zanchi, Antonio</a>, <a href=\"/web/20121007172955/https://www.nga.gov/cgi-bin/tsearch?artistid=11133\">Zanetti, Anton Maria</a>, <a href=\"/web/20121007172955/https://www.nga.gov/cgi-bin/tsearch?artistid=3455\">Zanetti Borzino, Leopoldina</a>, <a href=\"/web/20121007172955/https://www.nga.gov/cgi-bin/tsearch?artistid=3454\">Zanetti I, Antonio Maria, conte</a>, <a href=\"/web/20121007172955/https://www.nga.gov/cgi-bin/tsearch?artistid=961\">Zanguidi, Jacopo</a>, <a href=\"/web/20121007172955/https://www.nga.gov/cgi-bin/tsearch?artistid=11597\">Zanini, Giuseppe</a>, <a href=\"/web/20121007172955/https://www.nga.gov/cgi-bin/tsearch?artistid=11597\">Zanini-Viola, Giuseppe</a>, <a href=\"/web/20121007172955/https://www.nga.gov/cgi-bin/tsearch?artistid=11631\">Zanotti, Giampietro</a>, <a href=\"/web/20121007172955/https://www.nga.gov/cgi-bin/tsearch?artistid=3427\">Zao Wou-Ki</a>, <a href=\"/web/20121007172955/https://www.nga.gov/collection/anZ2.htm\">Zas-Zie</a>, <a href=\"/web/20121007172955/https://www.nga.gov/collection/anZ3.htm\">Zie-Zor</a>, <a href=\"/web/20121007172955/https://www.nga.gov/collection/anZ4.htm\"><strong>next<br/>page</strong></a>]\n"
          ],
          "name": "stdout"
        }
      ]
    },
    {
      "metadata": {
        "colab_type": "code",
        "id": "sRP_1ORlXl_M",
        "outputId": "9e569650-9a19-42ce-843f-31df0cd8e01c",
        "colab": {
          "base_uri": "https://localhost:8080/",
          "height": 579
        }
      },
      "cell_type": "code",
      "source": [
        "for artist_name in artist_names:\n",
        "    print(artist_name)"
      ],
      "execution_count": 52,
      "outputs": [
        {
          "output_type": "stream",
          "text": [
            "<a href=\"/web/20121007172955/https://www.nga.gov/cgi-bin/tsearch?artistid=11630\">Zabaglia, Niccola</a>\n",
            "<a href=\"/web/20121007172955/https://www.nga.gov/cgi-bin/tsearch?artistid=34202\">Zaccone, Fabian</a>\n",
            "<a href=\"/web/20121007172955/https://www.nga.gov/cgi-bin/tsearch?artistid=3475\">Zadkine, Ossip</a>\n",
            "<a href=\"/web/20121007172955/https://www.nga.gov/cgi-bin/tsearch?artistid=25135\">Zaech, Bernhard</a>\n",
            "<a href=\"/web/20121007172955/https://www.nga.gov/cgi-bin/tsearch?artistid=2298\">Zagar, Jacob</a>\n",
            "<a href=\"/web/20121007172955/https://www.nga.gov/cgi-bin/tsearch?artistid=23988\">Zagroba, Idalia</a>\n",
            "<a href=\"/web/20121007172955/https://www.nga.gov/cgi-bin/tsearch?artistid=8232\">Zaidenberg, A.</a>\n",
            "<a href=\"/web/20121007172955/https://www.nga.gov/cgi-bin/tsearch?artistid=34154\">Zaidenberg, Arthur</a>\n",
            "<a href=\"/web/20121007172955/https://www.nga.gov/cgi-bin/tsearch?artistid=4910\">Zaisinger, Matthäus</a>\n",
            "<a href=\"/web/20121007172955/https://www.nga.gov/cgi-bin/tsearch?artistid=3450\">Zajac, Jack</a>\n",
            "<a href=\"/web/20121007172955/https://www.nga.gov/cgi-bin/tsearch?artistid=1986\">Zak, Eugène</a>\n",
            "<a href=\"/web/20121007172955/https://www.nga.gov/cgi-bin/tsearch?artistid=3451\">Zakharov, Gurii Fillipovich</a>\n",
            "<a href=\"/web/20121007172955/https://www.nga.gov/cgi-bin/tsearch?artistid=20099\">Zakowortny, Igor</a>\n",
            "<a href=\"/web/20121007172955/https://www.nga.gov/cgi-bin/tsearch?artistid=3452\">Zalce, Alfredo</a>\n",
            "<a href=\"/web/20121007172955/https://www.nga.gov/cgi-bin/tsearch?artistid=34309\">Zalopany, Michele</a>\n",
            "<a href=\"/web/20121007172955/https://www.nga.gov/cgi-bin/tsearch?artistid=27191\">Zammiello, Craig</a>\n",
            "<a href=\"/web/20121007172955/https://www.nga.gov/cgi-bin/tsearch?artistid=5846\">Zammitt, Norman</a>\n",
            "<a href=\"/web/20121007172955/https://www.nga.gov/cgi-bin/tsearch?artistid=3941\">Zampieri, Domenico</a>\n",
            "<a href=\"/web/20121007172955/https://www.nga.gov/cgi-bin/tsearch?artistid=3941\">Zampieri, called Domenichino, Domenico</a>\n",
            "<a href=\"/web/20121007172955/https://www.nga.gov/cgi-bin/tsearch?artistid=3453\">Zanartú, Enrique Antunez</a>\n",
            "<a href=\"/web/20121007172955/https://www.nga.gov/cgi-bin/tsearch?artistid=35173\">Zanchi, Antonio</a>\n",
            "<a href=\"/web/20121007172955/https://www.nga.gov/cgi-bin/tsearch?artistid=11133\">Zanetti, Anton Maria</a>\n",
            "<a href=\"/web/20121007172955/https://www.nga.gov/cgi-bin/tsearch?artistid=3455\">Zanetti Borzino, Leopoldina</a>\n",
            "<a href=\"/web/20121007172955/https://www.nga.gov/cgi-bin/tsearch?artistid=3454\">Zanetti I, Antonio Maria, conte</a>\n",
            "<a href=\"/web/20121007172955/https://www.nga.gov/cgi-bin/tsearch?artistid=961\">Zanguidi, Jacopo</a>\n",
            "<a href=\"/web/20121007172955/https://www.nga.gov/cgi-bin/tsearch?artistid=11597\">Zanini, Giuseppe</a>\n",
            "<a href=\"/web/20121007172955/https://www.nga.gov/cgi-bin/tsearch?artistid=11597\">Zanini-Viola, Giuseppe</a>\n",
            "<a href=\"/web/20121007172955/https://www.nga.gov/cgi-bin/tsearch?artistid=11631\">Zanotti, Giampietro</a>\n",
            "<a href=\"/web/20121007172955/https://www.nga.gov/cgi-bin/tsearch?artistid=3427\">Zao Wou-Ki</a>\n",
            "<a href=\"/web/20121007172955/https://www.nga.gov/collection/anZ2.htm\">Zas-Zie</a>\n",
            "<a href=\"/web/20121007172955/https://www.nga.gov/collection/anZ3.htm\">Zie-Zor</a>\n",
            "<a href=\"/web/20121007172955/https://www.nga.gov/collection/anZ4.htm\"><strong>next<br/>page</strong></a>\n"
          ],
          "name": "stdout"
        }
      ]
    },
    {
      "metadata": {
        "colab_type": "code",
        "id": "FlQZq7u_YjRQ",
        "outputId": "159ec597-a151-4fab-9778-d3a77b32ee9c",
        "colab": {
          "base_uri": "https://localhost:8080/",
          "height": 579
        }
      },
      "cell_type": "code",
      "source": [
        "#.text gets you the text inside of an html element\n",
        "for artist_name in artist_names:\n",
        "    print(artist_name.text) "
      ],
      "execution_count": 53,
      "outputs": [
        {
          "output_type": "stream",
          "text": [
            "Zabaglia, Niccola\n",
            "Zaccone, Fabian\n",
            "Zadkine, Ossip\n",
            "Zaech, Bernhard\n",
            "Zagar, Jacob\n",
            "Zagroba, Idalia\n",
            "Zaidenberg, A.\n",
            "Zaidenberg, Arthur\n",
            "Zaisinger, Matthäus\n",
            "Zajac, Jack\n",
            "Zak, Eugène\n",
            "Zakharov, Gurii Fillipovich\n",
            "Zakowortny, Igor\n",
            "Zalce, Alfredo\n",
            "Zalopany, Michele\n",
            "Zammiello, Craig\n",
            "Zammitt, Norman\n",
            "Zampieri, Domenico\n",
            "Zampieri, called Domenichino, Domenico\n",
            "Zanartú, Enrique Antunez\n",
            "Zanchi, Antonio\n",
            "Zanetti, Anton Maria\n",
            "Zanetti Borzino, Leopoldina\n",
            "Zanetti I, Antonio Maria, conte\n",
            "Zanguidi, Jacopo\n",
            "Zanini, Giuseppe\n",
            "Zanini-Viola, Giuseppe\n",
            "Zanotti, Giampietro\n",
            "Zao Wou-Ki\n",
            "Zas-Zie\n",
            "Zie-Zor\n",
            "nextpage\n"
          ],
          "name": "stdout"
        }
      ]
    },
    {
      "metadata": {
        "colab_type": "code",
        "id": "IvbvwaK7Yq_O",
        "outputId": "ebddcc05-0f77-49b5-eeb6-c1fcc0bc8f0f",
        "colab": {
          "base_uri": "https://localhost:8080/",
          "height": 217
        }
      },
      "cell_type": "code",
      "source": [
        "artists = []\n",
        "for artist_name in artist_names:\n",
        "    artists.append(artist_name.text)\n",
        "    \n",
        "import pandas as pd\n",
        "\n",
        "df = pd.DataFrame({'full_name': artists})\n",
        "print(df.shape)\n",
        "df.head()"
      ],
      "execution_count": 54,
      "outputs": [
        {
          "output_type": "stream",
          "text": [
            "(32, 1)\n"
          ],
          "name": "stdout"
        },
        {
          "output_type": "execute_result",
          "data": {
            "text/html": [
              "<div>\n",
              "<style scoped>\n",
              "    .dataframe tbody tr th:only-of-type {\n",
              "        vertical-align: middle;\n",
              "    }\n",
              "\n",
              "    .dataframe tbody tr th {\n",
              "        vertical-align: top;\n",
              "    }\n",
              "\n",
              "    .dataframe thead th {\n",
              "        text-align: right;\n",
              "    }\n",
              "</style>\n",
              "<table border=\"1\" class=\"dataframe\">\n",
              "  <thead>\n",
              "    <tr style=\"text-align: right;\">\n",
              "      <th></th>\n",
              "      <th>full_name</th>\n",
              "    </tr>\n",
              "  </thead>\n",
              "  <tbody>\n",
              "    <tr>\n",
              "      <th>0</th>\n",
              "      <td>Zabaglia, Niccola</td>\n",
              "    </tr>\n",
              "    <tr>\n",
              "      <th>1</th>\n",
              "      <td>Zaccone, Fabian</td>\n",
              "    </tr>\n",
              "    <tr>\n",
              "      <th>2</th>\n",
              "      <td>Zadkine, Ossip</td>\n",
              "    </tr>\n",
              "    <tr>\n",
              "      <th>3</th>\n",
              "      <td>Zaech, Bernhard</td>\n",
              "    </tr>\n",
              "    <tr>\n",
              "      <th>4</th>\n",
              "      <td>Zagar, Jacob</td>\n",
              "    </tr>\n",
              "  </tbody>\n",
              "</table>\n",
              "</div>"
            ],
            "text/plain": [
              "           full_name\n",
              "0  Zabaglia, Niccola\n",
              "1    Zaccone, Fabian\n",
              "2     Zadkine, Ossip\n",
              "3    Zaech, Bernhard\n",
              "4       Zagar, Jacob"
            ]
          },
          "metadata": {
            "tags": []
          },
          "execution_count": 54
        }
      ]
    },
    {
      "metadata": {
        "colab_type": "code",
        "id": "Mx5snbhqY86i",
        "outputId": "5eebf0e2-34cb-4a68-a11d-3443801e29ff",
        "colab": {
          "base_uri": "https://localhost:8080/",
          "height": 987
        }
      },
      "cell_type": "code",
      "source": [
        "df['first_name'] = df['full_name'].str.extract('(\\w+$)', expand=True)\n",
        "df.head(31)"
      ],
      "execution_count": 55,
      "outputs": [
        {
          "output_type": "execute_result",
          "data": {
            "text/html": [
              "<div>\n",
              "<style scoped>\n",
              "    .dataframe tbody tr th:only-of-type {\n",
              "        vertical-align: middle;\n",
              "    }\n",
              "\n",
              "    .dataframe tbody tr th {\n",
              "        vertical-align: top;\n",
              "    }\n",
              "\n",
              "    .dataframe thead th {\n",
              "        text-align: right;\n",
              "    }\n",
              "</style>\n",
              "<table border=\"1\" class=\"dataframe\">\n",
              "  <thead>\n",
              "    <tr style=\"text-align: right;\">\n",
              "      <th></th>\n",
              "      <th>full_name</th>\n",
              "      <th>first_name</th>\n",
              "    </tr>\n",
              "  </thead>\n",
              "  <tbody>\n",
              "    <tr>\n",
              "      <th>0</th>\n",
              "      <td>Zabaglia, Niccola</td>\n",
              "      <td>Niccola</td>\n",
              "    </tr>\n",
              "    <tr>\n",
              "      <th>1</th>\n",
              "      <td>Zaccone, Fabian</td>\n",
              "      <td>Fabian</td>\n",
              "    </tr>\n",
              "    <tr>\n",
              "      <th>2</th>\n",
              "      <td>Zadkine, Ossip</td>\n",
              "      <td>Ossip</td>\n",
              "    </tr>\n",
              "    <tr>\n",
              "      <th>3</th>\n",
              "      <td>Zaech, Bernhard</td>\n",
              "      <td>Bernhard</td>\n",
              "    </tr>\n",
              "    <tr>\n",
              "      <th>4</th>\n",
              "      <td>Zagar, Jacob</td>\n",
              "      <td>Jacob</td>\n",
              "    </tr>\n",
              "    <tr>\n",
              "      <th>5</th>\n",
              "      <td>Zagroba, Idalia</td>\n",
              "      <td>Idalia</td>\n",
              "    </tr>\n",
              "    <tr>\n",
              "      <th>6</th>\n",
              "      <td>Zaidenberg, A.</td>\n",
              "      <td>NaN</td>\n",
              "    </tr>\n",
              "    <tr>\n",
              "      <th>7</th>\n",
              "      <td>Zaidenberg, Arthur</td>\n",
              "      <td>Arthur</td>\n",
              "    </tr>\n",
              "    <tr>\n",
              "      <th>8</th>\n",
              "      <td>Zaisinger, Matthäus</td>\n",
              "      <td>Matthäus</td>\n",
              "    </tr>\n",
              "    <tr>\n",
              "      <th>9</th>\n",
              "      <td>Zajac, Jack</td>\n",
              "      <td>Jack</td>\n",
              "    </tr>\n",
              "    <tr>\n",
              "      <th>10</th>\n",
              "      <td>Zak, Eugène</td>\n",
              "      <td>Eugène</td>\n",
              "    </tr>\n",
              "    <tr>\n",
              "      <th>11</th>\n",
              "      <td>Zakharov, Gurii Fillipovich</td>\n",
              "      <td>Fillipovich</td>\n",
              "    </tr>\n",
              "    <tr>\n",
              "      <th>12</th>\n",
              "      <td>Zakowortny, Igor</td>\n",
              "      <td>Igor</td>\n",
              "    </tr>\n",
              "    <tr>\n",
              "      <th>13</th>\n",
              "      <td>Zalce, Alfredo</td>\n",
              "      <td>Alfredo</td>\n",
              "    </tr>\n",
              "    <tr>\n",
              "      <th>14</th>\n",
              "      <td>Zalopany, Michele</td>\n",
              "      <td>Michele</td>\n",
              "    </tr>\n",
              "    <tr>\n",
              "      <th>15</th>\n",
              "      <td>Zammiello, Craig</td>\n",
              "      <td>Craig</td>\n",
              "    </tr>\n",
              "    <tr>\n",
              "      <th>16</th>\n",
              "      <td>Zammitt, Norman</td>\n",
              "      <td>Norman</td>\n",
              "    </tr>\n",
              "    <tr>\n",
              "      <th>17</th>\n",
              "      <td>Zampieri, Domenico</td>\n",
              "      <td>Domenico</td>\n",
              "    </tr>\n",
              "    <tr>\n",
              "      <th>18</th>\n",
              "      <td>Zampieri, called Domenichino, Domenico</td>\n",
              "      <td>Domenico</td>\n",
              "    </tr>\n",
              "    <tr>\n",
              "      <th>19</th>\n",
              "      <td>Zanartú, Enrique Antunez</td>\n",
              "      <td>Antunez</td>\n",
              "    </tr>\n",
              "    <tr>\n",
              "      <th>20</th>\n",
              "      <td>Zanchi, Antonio</td>\n",
              "      <td>Antonio</td>\n",
              "    </tr>\n",
              "    <tr>\n",
              "      <th>21</th>\n",
              "      <td>Zanetti, Anton Maria</td>\n",
              "      <td>Maria</td>\n",
              "    </tr>\n",
              "    <tr>\n",
              "      <th>22</th>\n",
              "      <td>Zanetti Borzino, Leopoldina</td>\n",
              "      <td>Leopoldina</td>\n",
              "    </tr>\n",
              "    <tr>\n",
              "      <th>23</th>\n",
              "      <td>Zanetti I, Antonio Maria, conte</td>\n",
              "      <td>conte</td>\n",
              "    </tr>\n",
              "    <tr>\n",
              "      <th>24</th>\n",
              "      <td>Zanguidi, Jacopo</td>\n",
              "      <td>Jacopo</td>\n",
              "    </tr>\n",
              "    <tr>\n",
              "      <th>25</th>\n",
              "      <td>Zanini, Giuseppe</td>\n",
              "      <td>Giuseppe</td>\n",
              "    </tr>\n",
              "    <tr>\n",
              "      <th>26</th>\n",
              "      <td>Zanini-Viola, Giuseppe</td>\n",
              "      <td>Giuseppe</td>\n",
              "    </tr>\n",
              "    <tr>\n",
              "      <th>27</th>\n",
              "      <td>Zanotti, Giampietro</td>\n",
              "      <td>Giampietro</td>\n",
              "    </tr>\n",
              "    <tr>\n",
              "      <th>28</th>\n",
              "      <td>Zao Wou-Ki</td>\n",
              "      <td>Ki</td>\n",
              "    </tr>\n",
              "    <tr>\n",
              "      <th>29</th>\n",
              "      <td>Zas-Zie</td>\n",
              "      <td>Zie</td>\n",
              "    </tr>\n",
              "    <tr>\n",
              "      <th>30</th>\n",
              "      <td>Zie-Zor</td>\n",
              "      <td>Zor</td>\n",
              "    </tr>\n",
              "  </tbody>\n",
              "</table>\n",
              "</div>"
            ],
            "text/plain": [
              "                                 full_name   first_name\n",
              "0                        Zabaglia, Niccola      Niccola\n",
              "1                          Zaccone, Fabian       Fabian\n",
              "2                           Zadkine, Ossip        Ossip\n",
              "3                          Zaech, Bernhard     Bernhard\n",
              "4                             Zagar, Jacob        Jacob\n",
              "5                          Zagroba, Idalia       Idalia\n",
              "6                           Zaidenberg, A.          NaN\n",
              "7                       Zaidenberg, Arthur       Arthur\n",
              "8                      Zaisinger, Matthäus     Matthäus\n",
              "9                              Zajac, Jack         Jack\n",
              "10                             Zak, Eugène       Eugène\n",
              "11             Zakharov, Gurii Fillipovich  Fillipovich\n",
              "12                        Zakowortny, Igor         Igor\n",
              "13                          Zalce, Alfredo      Alfredo\n",
              "14                       Zalopany, Michele      Michele\n",
              "15                        Zammiello, Craig        Craig\n",
              "16                         Zammitt, Norman       Norman\n",
              "17                      Zampieri, Domenico     Domenico\n",
              "18  Zampieri, called Domenichino, Domenico     Domenico\n",
              "19                Zanartú, Enrique Antunez      Antunez\n",
              "20                         Zanchi, Antonio      Antonio\n",
              "21                    Zanetti, Anton Maria        Maria\n",
              "22             Zanetti Borzino, Leopoldina   Leopoldina\n",
              "23         Zanetti I, Antonio Maria, conte        conte\n",
              "24                        Zanguidi, Jacopo       Jacopo\n",
              "25                        Zanini, Giuseppe     Giuseppe\n",
              "26                  Zanini-Viola, Giuseppe     Giuseppe\n",
              "27                     Zanotti, Giampietro   Giampietro\n",
              "28                              Zao Wou-Ki           Ki\n",
              "29                                 Zas-Zie          Zie\n",
              "30                                 Zie-Zor          Zor"
            ]
          },
          "metadata": {
            "tags": []
          },
          "execution_count": 55
        }
      ]
    },
    {
      "metadata": {
        "colab_type": "text",
        "id": "cUSvqPTD4jxH"
      },
      "cell_type": "markdown",
      "source": [
        "![XKCD Regex](https://imgs.xkcd.com/comics/regular_expressions.png)"
      ]
    },
    {
      "metadata": {
        "id": "91GVY5Ut1nXJ",
        "colab_type": "text"
      },
      "cell_type": "markdown",
      "source": [
        "# Tokenizing Documents\n",
        "\n",
        "> \"Given a character sequence and a defined document unit, tokenization is the task of chopping it up into pieces, called tokens , perhaps at the same time throwing away certain characters, such as punctuation.\" - Standard NLP Group\n",
        "\n",
        "Tokens are foundational unit of analysis for most nlp. Today, we are going to combine a few of the skills you've been practing to tokenize a new documents. We'll then use some base python to summarize the content of those documents. Tomorrow, we'll go more in-depth with tokens. \n",
        "\n",
        "Discussion questions: *What attributes do you think tokens need to have to be \"tidy\" for analysis?*"
      ]
    },
    {
      "metadata": {
        "id": "VhsfPv_y1nXK",
        "colab_type": "code",
        "colab": {},
        "outputId": "09413d65-2b63-431f-d4c8-22cec4613fcc"
      },
      "cell_type": "code",
      "source": [
        "quote = \"Friends, Romans, Countrymen, lend me your ears.\"\n",
        "print(quote)"
      ],
      "execution_count": 0,
      "outputs": [
        {
          "output_type": "stream",
          "text": [
            "Friends, Romans, Countrymen, lend me your ears.\n"
          ],
          "name": "stdout"
        }
      ]
    },
    {
      "metadata": {
        "colab_type": "text",
        "id": "lsfW-X9vLPWZ"
      },
      "cell_type": "markdown",
      "source": [
        "# Additional Resources:\n",
        "\n",
        "* [Python String Functions Overview](https://realpython.com/python-strings)\n",
        "* [Good Python String Overview](https://automatetheboringstuff.com/chapter6)\n",
        "* [Python Regex Overview](https://regexone.com/references/python)\n",
        "* [Regex in Python with Corey Schafer](https://www.youtube.com/watch?v=K8L6KVGG-7o&t=120s)\n",
        "* [Regex Practice](https://regexone.com/)\n",
        "* [Breaking up a column into strings using regex in pandas](https://chrisalbon.com/python/data_wrangling/pandas_regex_to_create_columns)\n",
        "* [Beautiful Soup Documentation](https://www.crummy.com/software/BeautifulSoup/bs4/doc)"
      ]
    }
  ]
}