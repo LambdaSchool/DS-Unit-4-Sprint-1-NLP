{
  "nbformat": 4,
  "nbformat_minor": 0,
  "metadata": {
    "colab": {
      "name": "LS_DS_421_Text_Data_Lecture.ipynb",
      "version": "0.3.2",
      "provenance": [],
      "collapsed_sections": []
    },
    "kernelspec": {
      "name": "python3",
      "display_name": "Python 3"
    }
  },
  "cells": [
    {
      "metadata": {
        "id": "-JXH3Jpsaud2",
        "colab_type": "code",
        "colab": {}
      },
      "cell_type": "code",
      "source": [
        "# Library imports for this lesson\n",
        "\n",
        "import pandas as pd\n",
        "import re\n",
        "from bs4 import BeautifulSoup\n",
        "import requests"
      ],
      "execution_count": 0,
      "outputs": []
    },
    {
      "metadata": {
        "id": "XJYVEQbyfYVn",
        "colab_type": "text"
      },
      "cell_type": "markdown",
      "source": [
        "## What is NLP?\n",
        "\n",
        "### NLP != Neuro-Linguistic Programming (at least for our purposes)\n",
        "\n",
        "In Google searches you'll also see Neuro-Linguistic Programming come up as a common result when using the acronym (NLP). Neuro-Linguistic Programming is a somewhat discredited psycotherapy and counseling technique that has retained some level of popularity with hypno-therapists and business management trainers. <https://en.wikipedia.org/wiki/Neuro-linguistic_programming>\n",
        "\n",
        "### NLP == Natural Language Processing\n",
        "\n",
        "\"Natural\" meaning - not computer languages but spoken/written human languages. The hard thing about NLP is that human languages are far less structured or consistent than computer languages. This is perhaps the largest source of difficulty when trying to get computers to \"understand\" human languages. How do you get a machine to understand sarcasm, and irony, and synonyms, connotation, denotation, nuance, and tone of voice --all without it having lived a lifetime of experience for context? If you think about it, our human brains have been exposed to quite a lot of training data to help us interpret languages, and even then we misunderstand each other pretty frequently. "
      ]
    },
    {
      "metadata": {
        "id": "18eQ2tQ6TqNi",
        "colab_type": "text"
      },
      "cell_type": "markdown",
      "source": [
        "# Popular Applications of NLP: \n",
        "\n",
        "- Sentiment Analysis (Positive, Negative or Neutral)\n",
        "- Chatbots (Natural Language Understanding + Natural Language Generation)\n",
        "- Speech Recognition (dictation, Siri, \"hey google\", Amazon Echo, Cortana, video captioning, etc.)\n",
        " - Have to interpret the audio correctly\n",
        " - Have to interpret the words correctly after that.\n",
        "- Machine Translation (google translate)\n",
        "- Spell Check\n",
        "- Keyword Search\n",
        "- Spam Detection"
      ]
    },
    {
      "metadata": {
        "id": "86TDsPAOTeKA",
        "colab_type": "text"
      },
      "cell_type": "markdown",
      "source": [
        "## The challenges of unstructured language data: \n",
        "\n",
        "Up until this point in the class we have worked mostly with what would be called \"tabluar data\" (arranged in a table of rows and columns) or \"structured data\" - relational database tables, json, etc. Human language (text/audio) is one form of \"unstructured\" data. Computers are inherently bad at processing unstructured data. You give them Python or JavaScript and they'll interpret it in a split second without making a single mistake, but what about some of the following situations:\n",
        "\n",
        "### Metaphors, idioms, etc.\n",
        "\n",
        "> \"Steph Curry was on fire last nice. He totally destroyed the other team\"\n",
        "\n",
        "### Punctuation - (COMMAS SAVE LIVES!!)\n",
        "\n",
        "> \"Let's eat, Grandma!\" vs \"Let's eat Grandma!\"\n",
        "\n",
        "### Pronoun Resolution (requires context or past experience)\n",
        "\n",
        "> \"The thieves stole the paintings. They were subsequently sold.\"\n",
        "\n",
        "> \"The thieves stole the paintings. They were subsequently caught.\"\n",
        "\n",
        "> \"The thieves stole the paintings. They were subsequently found.\"\n",
        "\n",
        "### Lack of Context (ambiguity yet again)\n",
        "\n",
        "> \"The lamb was ready to eat.\"\n",
        "\n",
        "### Synonyms / Homonyms (Word Sense Disambiguation - can be different depending on if the language is written or spoken)\n",
        "\n",
        "> \"That guy is the best bass player I've ever seen!\"\n",
        "\n",
        "![Bass Player](http://vision.cs.uml.edu/old_projects_files/senses.png)\n",
        "\n",
        "> \"She threw up her dinner\" vs. \"She threw up her hands\"\n",
        "\n",
        "### The conventions of language are shifting under our feet\n",
        "\n",
        "Consider:\n",
        "\n",
        "![Emoji Story](https://static.freemake.com/blog/wp-content/uploads/2014/07/emoji-texts-2.jpg)\n",
        "\n",
        "### My personal favorite:\n",
        "\n",
        "> \"Buffalo buffalo Buffalo buffalo buffalo buffalo Buffalo buffalo.\"\n",
        "\n",
        "The above is in fact a grammatically correct English sentence with real meaning. It's hard for native English speakers to understand, computers would have a hard time with it. <https://en.wikipedia.org/wiki/Buffalo_buffalo_Buffalo_buffalo_buffalo_buffalo_Buffalo_buffalo> It's a little easier to understand if you know all of the word meanings and you have it read to you with correct cadence and tone: If I read it a little a little bit differently, notice how I'm saying the same words but conveying meaning through tone.\n",
        "\n",
        "### Buffalo (City / Entity):\n",
        "\n",
        "<img src=\"http://pics2.city-data.com/city/maps/fr58.png\" />\n",
        "\n",
        "### buffalo (noun) - American bison?:\n",
        "\n",
        "<img src=\"https://cdn.pixabay.com/photo/2014/11/11/13/52/bison-526805_1280.jpg\" width=\"400\" />\n",
        "\n",
        "### buffalo (verb): \n",
        "\n",
        "<https://youtu.be/L4eOhuLDfeU?t=115>\n",
        "\n",
        "> \"Buffalo buffalo ... (who) Buffalo buffalo buffalo... buffalo Buffalo buffalo.\" - Can you see how my tone of voice and rythm and pacing conveyed quite a lot of information. That's a tough one to parse from the raw text. I guess there are a lot of mean bison in New York that like to bully each other.\n",
        "\n",
        "Most all of these problems boil down to some level of ambiguity or lack of context. This is what we mean when we say unstructured data. Language often breaks its own rules."
      ]
    },
    {
      "metadata": {
        "id": "sg0paGbWTnHT",
        "colab_type": "text"
      },
      "cell_type": "markdown",
      "source": [
        "![XKCD Pictographs](https://imgs.xkcd.com/comics/inflection_2x.png)"
      ]
    },
    {
      "metadata": {
        "id": "P2JjOBZoGSld",
        "colab_type": "text"
      },
      "cell_type": "markdown",
      "source": [
        "# Python String Basics\n"
      ]
    },
    {
      "metadata": {
        "id": "QCpuDX5fkv4G",
        "colab_type": "text"
      },
      "cell_type": "markdown",
      "source": [
        "## Strings as a sequence of characters"
      ]
    },
    {
      "metadata": {
        "id": "4_oMgLE4kzoO",
        "colab_type": "code",
        "outputId": "a889bece-c878-4870-fd0e-e1b7f63ae50c",
        "colab": {
          "base_uri": "https://localhost:8080/",
          "height": 67
        }
      },
      "cell_type": "code",
      "source": [
        "test = \"This is a test string\"\n",
        "\n",
        "# Strings are indexed like lists\n",
        "print(test[0])\n",
        "print(test[1])\n",
        "print(test[2])"
      ],
      "execution_count": 0,
      "outputs": [
        {
          "output_type": "stream",
          "text": [
            "T\n",
            "h\n",
            "i\n"
          ],
          "name": "stdout"
        }
      ]
    },
    {
      "metadata": {
        "id": "FFmMcOcFo3Kf",
        "colab_type": "code",
        "outputId": "f918cee9-444f-421c-a786-4704de6732e8",
        "colab": {
          "base_uri": "https://localhost:8080/",
          "height": 67
        }
      },
      "cell_type": "code",
      "source": [
        "# You can also index strings from the back like lists\n",
        "print(test[-1])\n",
        "print(test[-2])\n",
        "print(test[-3])"
      ],
      "execution_count": 0,
      "outputs": [
        {
          "output_type": "stream",
          "text": [
            "g\n",
            "n\n",
            "i\n"
          ],
          "name": "stdout"
        }
      ]
    },
    {
      "metadata": {
        "id": "RYwg_207lDrK",
        "colab_type": "code",
        "outputId": "f550d8a9-3bf5-40aa-b97c-aa896b5ee75f",
        "colab": {
          "base_uri": "https://localhost:8080/",
          "height": 370
        }
      },
      "cell_type": "code",
      "source": [
        "# You can loop over individual characters\n",
        "for character in test:\n",
        "  print(character)"
      ],
      "execution_count": 0,
      "outputs": [
        {
          "output_type": "stream",
          "text": [
            "T\n",
            "h\n",
            "i\n",
            "s\n",
            " \n",
            "i\n",
            "s\n",
            " \n",
            "a\n",
            " \n",
            "t\n",
            "e\n",
            "s\n",
            "t\n",
            " \n",
            "s\n",
            "t\n",
            "r\n",
            "i\n",
            "n\n",
            "g\n"
          ],
          "name": "stdout"
        }
      ]
    },
    {
      "metadata": {
        "id": "77nrRP8mtMHP",
        "colab_type": "code",
        "outputId": "5dadc0ce-0280-4161-b34a-d1f58c27efb0",
        "colab": {
          "base_uri": "https://localhost:8080/",
          "height": 213
        }
      },
      "cell_type": "code",
      "source": [
        "# Strings are \"immutable\" in Python - can't be modified\n",
        "# You can't assign characters in a string to change them.\n",
        "# You would need to create a new string to do this.\n",
        "hello_string = \"hello\"\n",
        "hello_string[1] = \"a\""
      ],
      "execution_count": 0,
      "outputs": [
        {
          "output_type": "error",
          "ename": "TypeError",
          "evalue": "ignored",
          "traceback": [
            "\u001b[0;31m---------------------------------------------------------------------------\u001b[0m",
            "\u001b[0;31mTypeError\u001b[0m                                 Traceback (most recent call last)",
            "\u001b[0;32m<ipython-input-66-49370e9f1f0a>\u001b[0m in \u001b[0;36m<module>\u001b[0;34m()\u001b[0m\n\u001b[1;32m      1\u001b[0m \u001b[0mhello_string\u001b[0m \u001b[0;34m=\u001b[0m \u001b[0;34m\"hello\"\u001b[0m\u001b[0;34m\u001b[0m\u001b[0;34m\u001b[0m\u001b[0m\n\u001b[0;32m----> 2\u001b[0;31m \u001b[0mhello_string\u001b[0m\u001b[0;34m[\u001b[0m\u001b[0;36m1\u001b[0m\u001b[0;34m]\u001b[0m \u001b[0;34m=\u001b[0m \u001b[0;34m\"a\"\u001b[0m\u001b[0;34m\u001b[0m\u001b[0;34m\u001b[0m\u001b[0m\n\u001b[0m\u001b[1;32m      3\u001b[0m \u001b[0;34m\u001b[0m\u001b[0m\n\u001b[1;32m      4\u001b[0m \u001b[0mprint\u001b[0m\u001b[0;34m(\u001b[0m\u001b[0mhello_string\u001b[0m\u001b[0;34m)\u001b[0m\u001b[0;34m\u001b[0m\u001b[0;34m\u001b[0m\u001b[0m\n",
            "\u001b[0;31mTypeError\u001b[0m: 'str' object does not support item assignment"
          ]
        }
      ]
    },
    {
      "metadata": {
        "id": "oj6GySnQjHjK",
        "colab_type": "text"
      },
      "cell_type": "markdown",
      "source": [
        "## len() function"
      ]
    },
    {
      "metadata": {
        "id": "_HPDwh_G0jTC",
        "colab_type": "code",
        "outputId": "f6b8dbe3-e298-4585-c3a4-87ed059526d6",
        "colab": {
          "base_uri": "https://localhost:8080/",
          "height": 34
        }
      },
      "cell_type": "code",
      "source": [
        "word = \"woooooord\"\n",
        "\n",
        "print(len(word))"
      ],
      "execution_count": 0,
      "outputs": [
        {
          "output_type": "stream",
          "text": [
            "9\n"
          ],
          "name": "stdout"
        }
      ]
    },
    {
      "metadata": {
        "id": "FesaJ9yPjHn5",
        "colab_type": "text"
      },
      "cell_type": "markdown",
      "source": [
        "## Type conversion with str()"
      ]
    },
    {
      "metadata": {
        "id": "jLmpF5lL0-QT",
        "colab_type": "code",
        "outputId": "eb36c9a5-b235-48de-df17-dda84ececfa5",
        "colab": {
          "base_uri": "https://localhost:8080/",
          "height": 185
        }
      },
      "cell_type": "code",
      "source": [
        "my_int = 4\n",
        "my_float = 3.14159265\n",
        "\n",
        "print(type(my_int))\n",
        "print(my_int)\n",
        "print(type(my_float))\n",
        "print(my_float)\n",
        "\n",
        "int_string = str(my_int)\n",
        "float_string = str(my_float)\n",
        "\n",
        "print('\\n')\n",
        "print(type(int_string))\n",
        "print(int_string)\n",
        "print(type(float_string))\n",
        "print(float_string)"
      ],
      "execution_count": 62,
      "outputs": [
        {
          "output_type": "stream",
          "text": [
            "<class 'int'>\n",
            "4\n",
            "<class 'float'>\n",
            "3.14159265\n",
            "\n",
            "\n",
            "<class 'str'>\n",
            "4\n",
            "<class 'str'>\n",
            "3.14159265\n"
          ],
          "name": "stdout"
        }
      ]
    },
    {
      "metadata": {
        "id": "UndxuLuHlmx0",
        "colab_type": "text"
      },
      "cell_type": "markdown",
      "source": [
        "## Slice Notation with strings (`:` operator)"
      ]
    },
    {
      "metadata": {
        "id": "QJqLDtrVlM1u",
        "colab_type": "code",
        "colab": {}
      },
      "cell_type": "code",
      "source": [
        "# DON'T RUN THIS\n",
        "# You can use slice methods on strings just as you would a list\n",
        "# The syntax goes something like this: \n",
        "\n",
        "a[start:stop]  # items start through stop-1 (or you can think start+1 to stop if not zero indexed)\n",
        "a[start:]      # items start through the rest of the array\n",
        "a[:stop]       # items from the beginning through stop-1\n",
        "a[:]           # a copy of the whole array"
      ],
      "execution_count": 0,
      "outputs": []
    },
    {
      "metadata": {
        "id": "cVlltpSPl_R0",
        "colab_type": "code",
        "outputId": "fcd79c4f-12f2-4fc7-a483-111751cbe343",
        "colab": {
          "base_uri": "https://localhost:8080/",
          "height": 67
        }
      },
      "cell_type": "code",
      "source": [
        "# Where you see a colon say to yourself \"go to\" to help remember its function\n",
        "print(test[10:14])\n",
        "print(test[10:])\n",
        "print(test[:14])"
      ],
      "execution_count": 0,
      "outputs": [
        {
          "output_type": "stream",
          "text": [
            "test\n",
            "test string\n",
            "This is a test\n"
          ],
          "name": "stdout"
        }
      ]
    },
    {
      "metadata": {
        "id": "HsEQYLgZpPEK",
        "colab_type": "code",
        "outputId": "b9aff395-a234-498a-c671-68aa064ad58f",
        "colab": {
          "base_uri": "https://localhost:8080/",
          "height": 67
        }
      },
      "cell_type": "code",
      "source": [
        "print(test[:-4])\n",
        "\n",
        "# String slicing only works from left -> right\n",
        "# This doesn't work\n",
        "print(test[-2:-4])\n",
        "\n",
        "# But this does\n",
        "print(test[-4:-2])"
      ],
      "execution_count": 0,
      "outputs": [
        {
          "output_type": "stream",
          "text": [
            "This is a test st\n",
            "\n",
            "ri\n"
          ],
          "name": "stdout"
        }
      ]
    },
    {
      "metadata": {
        "id": "r_ObT-1utpSD",
        "colab_type": "code",
        "outputId": "71e8cd4d-c421-4eae-9e21-54853f34a05c",
        "colab": {
          "base_uri": "https://localhost:8080/",
          "height": 34
        }
      },
      "cell_type": "code",
      "source": [
        "hello_string = \"hello\"\n",
        "# hello_string[1] = \"a\" # This doesn't work, remember?\n",
        "# hello_string[1:2] = \"a\" # Well, this also doesn't work.\n",
        "\n",
        "first_section = hello_string[:1]\n",
        "last_section = hello_string[2:]\n",
        "\n",
        "hallo_string = first_section + \"a\" + last_section\n",
        "print(hallo_string)\n",
        "\n",
        "# This is still not a great solution, we'll look at a better one in a minute."
      ],
      "execution_count": 0,
      "outputs": [
        {
          "output_type": "stream",
          "text": [
            "hallo\n"
          ],
          "name": "stdout"
        }
      ]
    },
    {
      "metadata": {
        "id": "9itW9gV4jdRw",
        "colab_type": "text"
      },
      "cell_type": "markdown",
      "source": [
        "## The `in` Operator"
      ]
    },
    {
      "metadata": {
        "id": "1oOiira6oHua",
        "colab_type": "code",
        "outputId": "6afdc3ef-5b98-4b7d-f750-f76c6cd230e3",
        "colab": {
          "base_uri": "https://localhost:8080/",
          "height": 50
        }
      },
      "cell_type": "code",
      "source": [
        "test = \"This is a test string\"\n",
        "\n",
        "search_string = \"test\"\n",
        "\n",
        "print(search_string in test)\n",
        "\n",
        "search_string = \"testing\"\n",
        "\n",
        "print(search_string in test)"
      ],
      "execution_count": 0,
      "outputs": [
        {
          "output_type": "stream",
          "text": [
            "True\n",
            "False\n"
          ],
          "name": "stdout"
        }
      ]
    },
    {
      "metadata": {
        "id": "KgRrA5ekjHc7",
        "colab_type": "text"
      },
      "cell_type": "markdown",
      "source": [
        "## The `+` Operator (Concatenation)"
      ]
    },
    {
      "metadata": {
        "id": "v-nGBeV8jhsd",
        "colab_type": "code",
        "outputId": "0e8cc7c3-5842-4059-bd9c-c60916492e97",
        "colab": {
          "base_uri": "https://localhost:8080/",
          "height": 50
        }
      },
      "cell_type": "code",
      "source": [
        "no_space_phrase = \"Combine\" + \"strings\" + \"into\" + \"one\" + \".\"\n",
        "print(no_space_phrase)\n",
        "\n",
        "# When using \"+\" you have to add your own separators.\n",
        "my_phrase = \"Combine\" + \" \" + \"strings\" + \" \" + \"into\" + \" \" + \"one\" + \".\"\n",
        "print(my_phrase)"
      ],
      "execution_count": 0,
      "outputs": [
        {
          "output_type": "stream",
          "text": [
            "Combinestringsintoone.\n",
            "Combine strings into one.\n"
          ],
          "name": "stdout"
        }
      ]
    },
    {
      "metadata": {
        "id": "GDcum64rkivK",
        "colab_type": "code",
        "outputId": "0e25ac1c-c75d-4de8-bbf3-163f84116056",
        "colab": {
          "base_uri": "https://localhost:8080/",
          "height": 34
        }
      },
      "cell_type": "code",
      "source": [
        "year = \"2018\"\n",
        "month = \"March\"\n",
        "day = \"14\"\n",
        "\n",
        "pi_day = month + \" \" + day + \", \" + year\n",
        "\n",
        "print(pi_day)"
      ],
      "execution_count": 0,
      "outputs": [
        {
          "output_type": "stream",
          "text": [
            "March 14, 2018\n"
          ],
          "name": "stdout"
        }
      ]
    },
    {
      "metadata": {
        "id": "anF_KWMMkOtV",
        "colab_type": "text"
      },
      "cell_type": "markdown",
      "source": [
        "## `.join(<iterable>)` "
      ]
    },
    {
      "metadata": {
        "id": "OE0wom97p7Ow",
        "colab_type": "code",
        "outputId": "9bca1e45-f848-4afc-f66f-e5f165295aee",
        "colab": {
          "base_uri": "https://localhost:8080/",
          "height": 134
        }
      },
      "cell_type": "code",
      "source": [
        "word_list = [\"These\", \"are\", \"some\", \"strings\", \"in\", \"a\", \"list\"]\n",
        "\n",
        "# If an individual string is indexable does that make this a 2d list?\n",
        "print(word_list[3][2:4])\n",
        "print(word_list[1:2]) # Returns a list\n",
        "print(word_list[1:2][0]) #Gets the first item in that list\n",
        "print(word_list[1:2][0][1:2]) # gets the second letter of the second item in word_list\n",
        "\n",
        "\n",
        "# The .join() operator can concatenate strings in a list with some kind of separator\n",
        "\n",
        "#.join for multiple\n",
        "no_spaces = \"\".join(word_list)\n",
        "print(no_spaces)\n",
        "\n",
        "with_spaces = \" \".join(word_list)\n",
        "print(with_spaces)\n",
        "\n",
        "comma_separated = \", \".join(word_list)\n",
        "print(comma_separated)"
      ],
      "execution_count": 0,
      "outputs": [
        {
          "output_type": "stream",
          "text": [
            "ri\n",
            "['are']\n",
            "are\n",
            "r\n",
            "Thesearesomestringsinalist\n",
            "These are some strings in a list\n",
            "These, are, some, strings, in, a, list\n"
          ],
          "name": "stdout"
        }
      ]
    },
    {
      "metadata": {
        "id": "c6gk2yZCn97M",
        "colab_type": "text"
      },
      "cell_type": "markdown",
      "source": [
        "## `.split(<sep>)`\n",
        "The opposite of .join()"
      ]
    },
    {
      "metadata": {
        "id": "eijC9uCljiLW",
        "colab_type": "code",
        "outputId": "9bba41dc-dc54-4b97-9859-85e26223275c",
        "colab": {
          "base_uri": "https://localhost:8080/",
          "height": 50
        }
      },
      "cell_type": "code",
      "source": [
        "split_me = \"These are some strings in a list\"\n",
        "\n",
        "words = split_me.split(\" \")\n",
        "\n",
        "print(words)\n",
        "\n",
        "put_it_back = \" \".join(words)\n",
        "\n",
        "print(put_it_back+\".\")"
      ],
      "execution_count": 0,
      "outputs": [
        {
          "output_type": "stream",
          "text": [
            "['These', 'are', 'some', 'strings', 'in', 'a', 'list']\n",
            "These are some strings in a list.\n"
          ],
          "name": "stdout"
        }
      ]
    },
    {
      "metadata": {
        "id": "Vq5zKu9e2To2",
        "colab_type": "code",
        "outputId": "28ce04aa-354d-4ece-abd5-79fce794c3e3",
        "colab": {
          "base_uri": "https://localhost:8080/",
          "height": 67
        }
      },
      "cell_type": "code",
      "source": [
        "# Turn a string into a list of characters\n",
        "\n",
        "hello_string = \"hello\"\n",
        "\n",
        "# hello_list = hello_string.split(\"\") # This doesn't work either.\n",
        "# print(hello_list)\n",
        "\n",
        "hello_list = list(hello_string)\n",
        "print(hello_list)\n",
        "\n",
        "hello_list[1] = \"a\"\n",
        "\n",
        "print(hello_list)\n",
        "\n",
        "hallo_string = ''.join(hello_list)\n",
        "print(hallo_string) "
      ],
      "execution_count": 0,
      "outputs": [
        {
          "output_type": "stream",
          "text": [
            "['h', 'e', 'l', 'l', 'o']\n",
            "['h', 'a', 'l', 'l', 'o']\n",
            "hallo\n"
          ],
          "name": "stdout"
        }
      ]
    },
    {
      "metadata": {
        "id": "2Zp4X0H3jHqf",
        "colab_type": "text"
      },
      "cell_type": "markdown",
      "source": [
        "## `.partition(<sep>)`\n",
        "\n",
        "Say you want to split up a string but you don't want to remove the separator character."
      ]
    },
    {
      "metadata": {
        "id": "VXEgPsmf7QgG",
        "colab_type": "code",
        "outputId": "c1e60a94-86df-4377-b65c-6dffa89a0d46",
        "colab": {
          "base_uri": "https://localhost:8080/",
          "height": 34
        }
      },
      "cell_type": "code",
      "source": [
        "email = 'ryan.allred@lambdaschool.com'\n",
        "\n",
        "partitioned_email = email.partition(\"@\")\n",
        "print(partitioned_email)"
      ],
      "execution_count": 0,
      "outputs": [
        {
          "output_type": "stream",
          "text": [
            "('ryan.allred', '@', 'lambdaschool.com')\n"
          ],
          "name": "stdout"
        }
      ]
    },
    {
      "metadata": {
        "id": "Uyfhn1Q8nKNl",
        "colab_type": "text"
      },
      "cell_type": "markdown",
      "source": [
        "## `.upper()` and `.lower()` methods"
      ]
    },
    {
      "metadata": {
        "id": "HVmLAnzCngsn",
        "colab_type": "code",
        "outputId": "ca7253fc-494d-4b0f-d55a-1533634ec051",
        "colab": {
          "base_uri": "https://localhost:8080/",
          "height": 50
        }
      },
      "cell_type": "code",
      "source": [
        "name = \"Ryan Allred\"\n",
        "\n",
        "print(\"Uppercase:\", name.upper())\n",
        "\n",
        "print(\"Lowercase:\", name.lower())"
      ],
      "execution_count": 0,
      "outputs": [
        {
          "output_type": "stream",
          "text": [
            "Uppercase: RYAN ALLRED\n",
            "Lowercase: ryan allred\n"
          ],
          "name": "stdout"
        }
      ]
    },
    {
      "metadata": {
        "id": "zBDQC4qCUXvC",
        "colab_type": "text"
      },
      "cell_type": "markdown",
      "source": [
        "# String Interpolation \n",
        "\n",
        "Inserting values into a string "
      ]
    },
    {
      "metadata": {
        "id": "9ibOpkyrY4s5",
        "colab_type": "text"
      },
      "cell_type": "markdown",
      "source": [
        "## Printing separated by commas"
      ]
    },
    {
      "metadata": {
        "id": "X_enGujZZJRk",
        "colab_type": "code",
        "outputId": "7b74558c-3bea-41f1-a772-edf057e8f3d8",
        "colab": {
          "base_uri": "https://localhost:8080/",
          "height": 34
        }
      },
      "cell_type": "code",
      "source": [
        "speed_limit = 70\n",
        "\n",
        "print(\"The speed limit is\", speed_limit, \"miles per hour.\")"
      ],
      "execution_count": 0,
      "outputs": [
        {
          "output_type": "stream",
          "text": [
            "The speed limit is 70 miles per hour.\n"
          ],
          "name": "stdout"
        }
      ]
    },
    {
      "metadata": {
        "id": "usF3mDqTWsI_",
        "colab_type": "text"
      },
      "cell_type": "markdown",
      "source": [
        "## %s-formatting (the old-school way)"
      ]
    },
    {
      "metadata": {
        "id": "y-Gi6AiBWu2w",
        "colab_type": "code",
        "outputId": "b2d8f197-61ea-453b-d003-369a07421b83",
        "colab": {
          "base_uri": "https://localhost:8080/",
          "height": 50
        }
      },
      "cell_type": "code",
      "source": [
        "my_name = \"Ryan\"\n",
        "print(\"My name is %s.\" %my_name)\n",
        "\n",
        "pi = 3.14159265359\n",
        "print(\"Pi is approximately %.3f\" %pi)"
      ],
      "execution_count": 0,
      "outputs": [
        {
          "output_type": "stream",
          "text": [
            "My name is Ryan.\n",
            "Pi is approximately 3.142\n"
          ],
          "name": "stdout"
        }
      ]
    },
    {
      "metadata": {
        "id": "EfO0sYEkXde8",
        "colab_type": "text"
      },
      "cell_type": "markdown",
      "source": [
        "This method can get unwieldy if you have a lot of variables. You have to match arguments to inserts to follow what's happening. "
      ]
    },
    {
      "metadata": {
        "id": "asuyLrZ2XgsV",
        "colab_type": "code",
        "outputId": "601aeec6-72ce-4974-c3dc-9d9daaafd78a",
        "colab": {
          "base_uri": "https://localhost:8080/",
          "height": 34
        }
      },
      "cell_type": "code",
      "source": [
        "day = 14\n",
        "month = \"March\"\n",
        "year = 2018\n",
        "forecast = \"sunny\"\n",
        "high = 52.287\n",
        "low = 33.543\n",
        "\n",
        "print(\"On %s %s, %s the forecast was %s with a high of %.0f and a low of %.0f.\" %(month, day, year, forecast, high, low))"
      ],
      "execution_count": 0,
      "outputs": [
        {
          "output_type": "stream",
          "text": [
            "On March 14, 2018 the forecast was sunny with a high of 52 and a low of 34.\n"
          ],
          "name": "stdout"
        }
      ]
    },
    {
      "metadata": {
        "id": "zmoAO3N1hl6n",
        "colab_type": "text"
      },
      "cell_type": "markdown",
      "source": [
        "The syntax becomes particularly ugly if your values are stored in a dictionary."
      ]
    },
    {
      "metadata": {
        "id": "i4nDIH-IhosZ",
        "colab_type": "code",
        "outputId": "4d221b62-e0cd-4af2-fa7f-42399f30323f",
        "colab": {
          "base_uri": "https://localhost:8080/",
          "height": 34
        }
      },
      "cell_type": "code",
      "source": [
        "weather_dict = {\n",
        "    'day': 14,\n",
        "    'month': 'March',\n",
        "    'year': 2018,\n",
        "    'forecast': 'sunny',\n",
        "    'high': 52.287,\n",
        "    'low': 33.543\n",
        "}\n",
        "\n",
        "print(\"On %s %s, %s the forecast was %s with a high of %.0f and a low of %.0f.\" \n",
        "      %(weather_dict['month'], weather_dict['day'], weather_dict['year'], \n",
        "        weather_dict['forecast'], weather_dict['high'], weather_dict['low']))"
      ],
      "execution_count": 0,
      "outputs": [
        {
          "output_type": "stream",
          "text": [
            "On March 14, 2018 the forecast was sunny with a high of 52 and a low of 34.\n"
          ],
          "name": "stdout"
        }
      ]
    },
    {
      "metadata": {
        "id": "8AlGjQPGelrt",
        "colab_type": "text"
      },
      "cell_type": "markdown",
      "source": [
        "## `.format()` - The new old-school way - As of Python 3.1 \n",
        "More explicit, and that's good, but more verbose."
      ]
    },
    {
      "metadata": {
        "id": "qLQltsNsewRj",
        "colab_type": "code",
        "outputId": "b5b25cbc-c0a0-43eb-fd19-46635faf6b03",
        "colab": {
          "base_uri": "https://localhost:8080/",
          "height": 50
        }
      },
      "cell_type": "code",
      "source": [
        "day = 14\n",
        "month = \"March\"\n",
        "year = 2018\n",
        "forecast = \"sunny\"\n",
        "high = 52.287\n",
        "low = 33.543\n",
        "\n",
        "print('''On {month} {day}, {year} the forecast was {forecast} with a high of \n",
        "      {high:.0f} and a low of {low:.0f}.'''.format(month=month, day=day, \n",
        "                                                   year=year, forecast=forecast, \n",
        "                                                   high=high, low=low))"
      ],
      "execution_count": 0,
      "outputs": [
        {
          "output_type": "stream",
          "text": [
            "On March 14, 2018 the forecast was sunny with a high of \n",
            "      52 and a low of 34.\n"
          ],
          "name": "stdout"
        }
      ]
    },
    {
      "metadata": {
        "id": "g6CfffRfjhN9",
        "colab_type": "text"
      },
      "cell_type": "markdown",
      "source": [
        "You can omit the inner variables to make things a little shorter, but then it's less explicit. "
      ]
    },
    {
      "metadata": {
        "id": "Y1AecQdfjnFJ",
        "colab_type": "code",
        "outputId": "674dad0a-3f1f-439d-c5f3-db96a531a510",
        "colab": {
          "base_uri": "https://localhost:8080/",
          "height": 50
        }
      },
      "cell_type": "code",
      "source": [
        "day = 14\n",
        "month = \"March\"\n",
        "year = 2018\n",
        "forecast = \"sunny\"\n",
        "high = 52.287\n",
        "low = 33.543\n",
        "\n",
        "print('''On {} {}, {} the forecast was {} with a high of {:.0f} and a low of \n",
        "      {:.0f}.'''.format(month, day, year, forecast, high, low))"
      ],
      "execution_count": 0,
      "outputs": [
        {
          "output_type": "stream",
          "text": [
            "On March 14, 2018 the forecast was sunny with a high of 52 and a low of \n",
            "      34.\n"
          ],
          "name": "stdout"
        }
      ]
    },
    {
      "metadata": {
        "id": "1pn_CP-2kF4c",
        "colab_type": "text"
      },
      "cell_type": "markdown",
      "source": [
        "Imagine if you wanted both explicitness and your values were stored in a dictionary. "
      ]
    },
    {
      "metadata": {
        "id": "769qCMykkMFI",
        "colab_type": "code",
        "outputId": "8e43c390-0fee-4f51-cbeb-505dd3b55367",
        "colab": {
          "base_uri": "https://localhost:8080/",
          "height": 50
        }
      },
      "cell_type": "code",
      "source": [
        "weather_dict = {\n",
        "    'day': 14,\n",
        "    'month': 'March',\n",
        "    'year': 2018,\n",
        "    'forecast': 'sunny',\n",
        "    'high': 52.287,\n",
        "    'low': 33.543\n",
        "}\n",
        "\n",
        "print('''On {month} {day}, {year} the forecast was {forecast} with a high of \n",
        "      {high:.0f} and a low of {low:.0f}.'''.format(month=weather_dict['month'], day=weather_dict['day'], \n",
        "                                                   year=weather_dict['year'], forecast=weather_dict['forecast'], \n",
        "                                                   high=weather_dict['high'], low=weather_dict['low']))"
      ],
      "execution_count": 0,
      "outputs": [
        {
          "output_type": "stream",
          "text": [
            "On March 14, 2018 the forecast was sunny with a high of \n",
            "      52 and a low of 34.\n"
          ],
          "name": "stdout"
        }
      ]
    },
    {
      "metadata": {
        "id": "BwpiL5idZYxF",
        "colab_type": "text"
      },
      "cell_type": "markdown",
      "source": [
        "## f-strings - The new-school way - As of Python 3.6 \n",
        "\n",
        "f-strings are great because they are be both explicit and succinct.\n",
        "\n"
      ]
    },
    {
      "metadata": {
        "id": "gHcmkmPSknPC",
        "colab_type": "code",
        "outputId": "699dc06c-b63f-4c2a-d652-3120351d5607",
        "colab": {
          "base_uri": "https://localhost:8080/",
          "height": 67
        }
      },
      "cell_type": "code",
      "source": [
        "weather_dict = {\n",
        "    'day': 14,\n",
        "    'month': 'March',\n",
        "    'year': 2018,\n",
        "    'forecast': 'sunny',\n",
        "    'high': 52.287,\n",
        "    'low': 33.543\n",
        "}\n",
        "\n",
        "print(f'''On {weather_dict['month']} {weather_dict['day']}, {weather_dict['year']} \n",
        "      the forecast was {weather_dict['forecast']} with a high of {weather_dict['high']:.0f} \n",
        "      and a low of {weather_dict['low']:.0f}.''')"
      ],
      "execution_count": 0,
      "outputs": [
        {
          "output_type": "stream",
          "text": [
            "On March 14, 2018 \n",
            "      the forecast was sunny with a high of 52 \n",
            "      and a low of 34.\n"
          ],
          "name": "stdout"
        }
      ]
    },
    {
      "metadata": {
        "id": "oqFeaKxnUeG0",
        "colab_type": "code",
        "outputId": "4c3775ae-c812-48cb-b177-f9cff145d394",
        "colab": {
          "base_uri": "https://localhost:8080/",
          "height": 118
        }
      },
      "cell_type": "code",
      "source": [
        "# This works with any kind of string syntax:\n",
        "dog_noise = 'Bark'\n",
        "\n",
        "print(f'A dog says {dog_noise}!')\n",
        "print(f\"A dog says {dog_noise}!\")\n",
        "print(f'''A dog says {dog_noise}!''')\n",
        "\n",
        "# You can also call functions within them which is pretty cool.\n",
        "print('\\n')\n",
        "print(f'A dog says {dog_noise.upper()}!')"
      ],
      "execution_count": 0,
      "outputs": [
        {
          "output_type": "stream",
          "text": [
            "A dog says Bark!\n",
            "A dog says Bark!\n",
            "A dog says Bark!\n",
            "\n",
            "\n",
            "A dog says BARK!\n"
          ],
          "name": "stdout"
        }
      ]
    },
    {
      "metadata": {
        "id": "1r_cHtP2OXE2",
        "colab_type": "text"
      },
      "cell_type": "markdown",
      "source": [
        "# Escape Characters and Whitespace in Text\n",
        "\n",
        "Sometimes there are symbols in text that you don't want to be recognized as their literall string characters. To indicate to the python interpreter that these characters have special meaning, we proceed them with a backslash \"\\\". This backslash says that whatever character lies after it has a special function."
      ]
    },
    {
      "metadata": {
        "id": "VpKr3TjDSekM",
        "colab_type": "text"
      },
      "cell_type": "markdown",
      "source": [
        "## Escape Characters for Quotes"
      ]
    },
    {
      "metadata": {
        "id": "xjTqwdoyPCJk",
        "colab_type": "code",
        "outputId": "2900767d-b743-4da4-9b19-06e8d5ffd9c6",
        "colab": {
          "base_uri": "https://localhost:8080/",
          "height": 50
        }
      },
      "cell_type": "code",
      "source": [
        "print(\"He said, \\\"I want double quotes inside of double quotes.\\\"\")\n",
        "print('He\\'s also using single quotes inside of single quotes.')"
      ],
      "execution_count": 0,
      "outputs": [
        {
          "output_type": "stream",
          "text": [
            "He said, \"I want double quotes inside of double quotes.\"\n",
            "He's also using single quotes inside of single quotes.\n"
          ],
          "name": "stdout"
        }
      ]
    },
    {
      "metadata": {
        "id": "kAsbIQUsT4WG",
        "colab_type": "text"
      },
      "cell_type": "markdown",
      "source": [
        "## Escape Characters for Whitespace"
      ]
    },
    {
      "metadata": {
        "id": "ULaIvb2yTPAS",
        "colab_type": "code",
        "outputId": "ffa6e0df-3aad-4e6e-c750-b7960de22393",
        "colab": {
          "base_uri": "https://localhost:8080/",
          "height": 118
        }
      },
      "cell_type": "code",
      "source": [
        "print(\"single space\")\n",
        "print(\"---------------\")\n",
        "print(\"tabbed\\tspace\") # \\t\n",
        "print(\"---------------\")\n",
        "print(\"newline\\ncharacter\") # \\n"
      ],
      "execution_count": 0,
      "outputs": [
        {
          "output_type": "stream",
          "text": [
            "single space\n",
            "---------------\n",
            "tabbed\tspace\n",
            "---------------\n",
            "newline\n",
            "character\n"
          ],
          "name": "stdout"
        }
      ]
    },
    {
      "metadata": {
        "id": "alFbr5QXn-hh",
        "colab_type": "text"
      },
      "cell_type": "markdown",
      "source": [
        "## Cleaning irregular whitespace."
      ]
    },
    {
      "metadata": {
        "id": "42bo4iB_oFPL",
        "colab_type": "code",
        "outputId": "7a4b1037-27c6-4060-ca1b-16e23d2fe6ee",
        "colab": {
          "base_uri": "https://localhost:8080/",
          "height": 134
        }
      },
      "cell_type": "code",
      "source": [
        "spacey_sentence = \"     This   is a \\t\\t sentence with \\n   lots    of  \\t spaces.     \"\n",
        "print(spacey_sentence)\n",
        "print('-------------')\n",
        "# Strip whitespace from the beginning and end of the string\n",
        "print(spacey_sentence.strip())\n",
        "print('-------------')\n",
        "# Make all multiple spaces single spaces and remove beginning and end spaces\n",
        "print(\" \".join(spacey_sentence.split()))"
      ],
      "execution_count": 0,
      "outputs": [
        {
          "output_type": "stream",
          "text": [
            "     This   is a \t\t sentence with \n",
            "   lots    of  \t spaces.     \n",
            "-------------\n",
            "This   is a \t\t sentence with \n",
            "   lots    of  \t spaces.\n",
            "-------------\n",
            "This is a sentence with lots of spaces.\n"
          ],
          "name": "stdout"
        }
      ]
    },
    {
      "metadata": {
        "id": "KteS7NPcO_36",
        "colab_type": "text"
      },
      "cell_type": "markdown",
      "source": [
        "## Raw Strings\n",
        "\n",
        "A Python raw string (also called a \"raw string literal\") is created by prefixing a string literal with ‘r’ or ‘R’. Python raw strings treat backslashes `\\` as a literal character. This is useful when we want to have a string that contains backslash and don’t want it to be treated as an escape character."
      ]
    },
    {
      "metadata": {
        "id": "JVdnPumLPCwR",
        "colab_type": "code",
        "outputId": "613b9f30-afa8-4343-f672-fa863def191b",
        "colab": {
          "base_uri": "https://localhost:8080/",
          "height": 50
        }
      },
      "cell_type": "code",
      "source": [
        "greeting = 'Hi\\nHello'\n",
        "print(greeting)"
      ],
      "execution_count": 0,
      "outputs": [
        {
          "output_type": "stream",
          "text": [
            "Hi\n",
            "Hello\n"
          ],
          "name": "stdout"
        }
      ]
    },
    {
      "metadata": {
        "id": "4kH3msMBzuVw",
        "colab_type": "code",
        "outputId": "2c5fb8b1-985e-44f0-a39d-c2c12a651fa6",
        "colab": {
          "base_uri": "https://localhost:8080/",
          "height": 34
        }
      },
      "cell_type": "code",
      "source": [
        "greeting = r'Hi\\nHello'\n",
        "print(greeting)"
      ],
      "execution_count": 0,
      "outputs": [
        {
          "output_type": "stream",
          "text": [
            "Hi\\nHello\n"
          ],
          "name": "stdout"
        }
      ]
    },
    {
      "metadata": {
        "id": "q8lj1AVYXCgE",
        "colab_type": "text"
      },
      "cell_type": "markdown",
      "source": [
        "# Regular Expressions\n",
        "\n",
        "A RegEx, or Regular Expression, is a sequence of characters that forms a search pattern.\n",
        "\n",
        "RegEx can be used to check if a string contains the specified search pattern.\n",
        "\n",
        "Regular Expressions aren't specific to any single programming language but are a standalone syntax that is more or less standard among programming langues, so these skills will help you no matter the language that you're working with.  \n",
        "\n",
        "The only downside with regular expressions is that the syntax is pretty abstract, but with a little bit of practice  **and a lot of references to cheat sheets** we can make it happen.\n",
        "\n",
        "### Here are some cheat sheets for your reference: \n",
        "\n",
        "<https://www.debuggex.com/cheatsheet/regex/python>\n",
        "\n",
        "<https://www.dataquest.io/blog/regex-cheatsheet>"
      ]
    },
    {
      "metadata": {
        "id": "WsGFT-0XMIZP",
        "colab_type": "code",
        "colab": {}
      },
      "cell_type": "code",
      "source": [
        "import re"
      ],
      "execution_count": 0,
      "outputs": []
    },
    {
      "metadata": {
        "id": "0u3JsvrL2IxV",
        "colab_type": "text"
      },
      "cell_type": "markdown",
      "source": [
        "When using regular expressions in Python it is recommended that you use raw strings instead of regular Python strings so that we can easily interpret whitespace (and other escaped characters) by their escape character sequence."
      ]
    },
    {
      "metadata": {
        "id": "mHP8VO1E2d6i",
        "colab_type": "text"
      },
      "cell_type": "markdown",
      "source": [
        "## Single Letter Matching"
      ]
    },
    {
      "metadata": {
        "id": "fmz-J-GP2hNu",
        "colab_type": "code",
        "outputId": "b6197100-dfc0-4747-f69d-19ace81010d0",
        "colab": {
          "base_uri": "https://localhost:8080/",
          "height": 84
        }
      },
      "cell_type": "code",
      "source": [
        "# matchObject = re.search(pattern, input_str)\n",
        "\n",
        "# Search for the first lowercase letter\n",
        "regex = r\"[a-z]\" \n",
        "match = re.search(regex, \"June 24\")\n",
        "\n",
        "# Look at the match object\n",
        "print(match)\n",
        "\n",
        "# Look at the matching string\n",
        "print(match[0])\n",
        "\n",
        "# Look at slice indices and grab the match manually\n",
        "print(\"Slice indices for this string:\", match.start(), match.end())\n",
        "print(\"June 24\"[match.start():match.end()])"
      ],
      "execution_count": 0,
      "outputs": [
        {
          "output_type": "stream",
          "text": [
            "<_sre.SRE_Match object; span=(1, 2), match='u'>\n",
            "u\n",
            "Slice indices for this string: 1 2\n",
            "u\n"
          ],
          "name": "stdout"
        }
      ]
    },
    {
      "metadata": {
        "id": "nHOLIsyy4a-I",
        "colab_type": "code",
        "outputId": "502488fd-47de-4650-a98b-319fca064b89",
        "colab": {
          "base_uri": "https://localhost:8080/",
          "height": 50
        }
      },
      "cell_type": "code",
      "source": [
        "# Search for the first uppercase letter\n",
        "regex = r\"[A-Z]\" \n",
        "\n",
        "search_result = re.search(regex, \"June 24\")\n",
        "print(search_result)\n",
        "\n",
        "print(search_result[0])"
      ],
      "execution_count": 0,
      "outputs": [
        {
          "output_type": "stream",
          "text": [
            "<_sre.SRE_Match object; span=(0, 1), match='J'>\n",
            "J\n"
          ],
          "name": "stdout"
        }
      ]
    },
    {
      "metadata": {
        "id": "HbuI6Few4lKd",
        "colab_type": "code",
        "outputId": "8e7833b2-1514-4959-f806-13c8201d2c7c",
        "colab": {
          "base_uri": "https://localhost:8080/",
          "height": 50
        }
      },
      "cell_type": "code",
      "source": [
        "# Search for groups of 1 or more uppercase or lowercase letters (word things)\n",
        "regex = r\"[a-zA-Z]+\" \n",
        "\n",
        "search_result = re.search(regex, \"June 24\")\n",
        "print(search_result)\n",
        "\n",
        "print(search_result[0])"
      ],
      "execution_count": 0,
      "outputs": [
        {
          "output_type": "stream",
          "text": [
            "<_sre.SRE_Match object; span=(0, 4), match='June'>\n",
            "June\n"
          ],
          "name": "stdout"
        }
      ]
    },
    {
      "metadata": {
        "id": "Q3CJadx57MM7",
        "colab_type": "text"
      },
      "cell_type": "markdown",
      "source": [
        "## Multiple Matches"
      ]
    },
    {
      "metadata": {
        "id": "hLCsDZg95N4r",
        "colab_type": "code",
        "outputId": "79575b2b-5152-49af-a335-97b54aa0cdf1",
        "colab": {
          "base_uri": "https://localhost:8080/",
          "height": 84
        }
      },
      "cell_type": "code",
      "source": [
        "# Search for groups of 1 or more letters\n",
        "regex = r\"[a-zA-Z]+\" \n",
        "\n",
        "string = \"June 24, other thing, February 6, doesn't match, March 14\"\n",
        "\n",
        "# .findall() returns a list of the matching strings\n",
        "search_result = re.findall(regex, string)\n",
        "print(search_result)\n",
        "\n",
        "for match in search_result:\n",
        "  print(match)"
      ],
      "execution_count": 0,
      "outputs": [
        {
          "output_type": "stream",
          "text": [
            "['June', 'February', 'March']\n",
            "June\n",
            "February\n",
            "March\n"
          ],
          "name": "stdout"
        }
      ]
    },
    {
      "metadata": {
        "id": "YM393zbk7voX",
        "colab_type": "code",
        "outputId": "fdbcb008-8eb3-4e94-cc43-c8d423fd0166",
        "colab": {
          "base_uri": "https://localhost:8080/",
          "height": 168
        }
      },
      "cell_type": "code",
      "source": [
        "# Search for groups of 1 or more letters\n",
        "regex = r\"[a-zA-Z]+\" \n",
        "\n",
        "string = \"June 24, other thing, February 6, doesn't match, March 14\"\n",
        "\n",
        "# finditer returns a list of match objects \n",
        "search_result = re.finditer(regex, string)\n",
        "\n",
        "for match in search_result:\n",
        "  start = match.start()\n",
        "  end = match.end()\n",
        "  print(f\"The string starts at {start} and ends at {end}\")\n",
        "  print(f\"The string is {match[0]}\")\n",
        "#   print(f\"The string is {string[start:end]}\")\n",
        "  print('--------------')"
      ],
      "execution_count": 0,
      "outputs": [
        {
          "output_type": "stream",
          "text": [
            "The string starts at 0 and ends at 4\n",
            "The string is June\n",
            "--------------\n",
            "The string starts at 9 and ends at 17\n",
            "The string is February\n",
            "--------------\n",
            "The string starts at 21 and ends at 26\n",
            "The string is March\n",
            "--------------\n"
          ],
          "name": "stdout"
        }
      ]
    },
    {
      "metadata": {
        "id": "aRlv8hx4Etu1",
        "colab_type": "text"
      },
      "cell_type": "markdown",
      "source": [
        "## Capture Groups"
      ]
    },
    {
      "metadata": {
        "id": "KB67uJtHEvtv",
        "colab_type": "code",
        "outputId": "497f2da1-22fd-4c72-bcb1-cef879367604",
        "colab": {
          "base_uri": "https://localhost:8080/",
          "height": 84
        }
      },
      "cell_type": "code",
      "source": [
        "# Capture something that matches date\n",
        "regex = r\"[a-zA-Z]+ \\d+\" \n",
        "\n",
        "string = \"June 24, other thing, February 6, doesn't match, March 14\"\n",
        "\n",
        "search_result = re.findall(regex, string)\n",
        "print(search_result)\n",
        "\n",
        "for match in search_result:\n",
        "  print(match)"
      ],
      "execution_count": 0,
      "outputs": [
        {
          "output_type": "stream",
          "text": [
            "['June 24', 'February 6', 'March 14']\n",
            "June 24\n",
            "February 6\n",
            "March 14\n"
          ],
          "name": "stdout"
        }
      ]
    },
    {
      "metadata": {
        "id": "pmP_MqlHFO9e",
        "colab_type": "code",
        "outputId": "872a22d2-50e4-4a87-e7bb-93aa9e400087",
        "colab": {
          "base_uri": "https://localhost:8080/",
          "height": 84
        }
      },
      "cell_type": "code",
      "source": [
        "# Capture something that matches date but only capture the month\n",
        "regex = r\"([a-zA-Z]+) \\d+\" \n",
        "\n",
        "string = \"June 24, other thing, February 6, doesn't match, March 14\"\n",
        "\n",
        "search_result = re.findall(regex, string)\n",
        "print(search_result)\n",
        "\n",
        "for match in search_result:\n",
        "  print(match)"
      ],
      "execution_count": 0,
      "outputs": [
        {
          "output_type": "stream",
          "text": [
            "['June', 'February', 'March']\n",
            "June\n",
            "February\n",
            "March\n"
          ],
          "name": "stdout"
        }
      ]
    },
    {
      "metadata": {
        "id": "xjqL1VJiGUfS",
        "colab_type": "code",
        "outputId": "388f5a86-9eb0-4e5c-a5c2-cfe222b5fe87",
        "colab": {
          "base_uri": "https://localhost:8080/",
          "height": 84
        }
      },
      "cell_type": "code",
      "source": [
        "# Capture both month and day separately\n",
        "regex = r\"([a-zA-Z]+) (\\d+)\" \n",
        "\n",
        "string = \"June 24, other thing, February 6, doesn't match, March 14\"\n",
        "\n",
        "search_result = re.findall(regex, string)\n",
        "print(search_result)\n",
        "\n",
        "for match in search_result:\n",
        "  print(match)"
      ],
      "execution_count": 58,
      "outputs": [
        {
          "output_type": "stream",
          "text": [
            "[('June', '24'), ('February', '6'), ('March', '14')]\n",
            "('June', '24')\n",
            "('February', '6')\n",
            "('March', '14')\n"
          ],
          "name": "stdout"
        }
      ]
    },
    {
      "metadata": {
        "id": "5CR8IP5ZaolV",
        "colab_type": "text"
      },
      "cell_type": "markdown",
      "source": [
        "Lists of tuples are great because they go into dataframes easily!"
      ]
    },
    {
      "metadata": {
        "id": "-avn9pp2aoC6",
        "colab_type": "code",
        "colab": {
          "base_uri": "https://localhost:8080/",
          "height": 136
        },
        "outputId": "01da71f7-5055-47b3-be6a-08c09435e52b"
      },
      "cell_type": "code",
      "source": [
        "df = pd.DataFrame(search_result, columns=['Month', 'Day'])\n",
        "df.head()"
      ],
      "execution_count": 61,
      "outputs": [
        {
          "output_type": "execute_result",
          "data": {
            "text/html": [
              "<div>\n",
              "<style scoped>\n",
              "    .dataframe tbody tr th:only-of-type {\n",
              "        vertical-align: middle;\n",
              "    }\n",
              "\n",
              "    .dataframe tbody tr th {\n",
              "        vertical-align: top;\n",
              "    }\n",
              "\n",
              "    .dataframe thead th {\n",
              "        text-align: right;\n",
              "    }\n",
              "</style>\n",
              "<table border=\"1\" class=\"dataframe\">\n",
              "  <thead>\n",
              "    <tr style=\"text-align: right;\">\n",
              "      <th></th>\n",
              "      <th>Month</th>\n",
              "      <th>Day</th>\n",
              "    </tr>\n",
              "  </thead>\n",
              "  <tbody>\n",
              "    <tr>\n",
              "      <th>0</th>\n",
              "      <td>June</td>\n",
              "      <td>24</td>\n",
              "    </tr>\n",
              "    <tr>\n",
              "      <th>1</th>\n",
              "      <td>February</td>\n",
              "      <td>6</td>\n",
              "    </tr>\n",
              "    <tr>\n",
              "      <th>2</th>\n",
              "      <td>March</td>\n",
              "      <td>14</td>\n",
              "    </tr>\n",
              "  </tbody>\n",
              "</table>\n",
              "</div>"
            ],
            "text/plain": [
              "      Month Day\n",
              "0      June  24\n",
              "1  February   6\n",
              "2     March  14"
            ]
          },
          "metadata": {
            "tags": []
          },
          "execution_count": 61
        }
      ]
    },
    {
      "metadata": {
        "id": "HFk7opjwal3l",
        "colab_type": "text"
      },
      "cell_type": "markdown",
      "source": [
        "# Regex Practice"
      ]
    },
    {
      "metadata": {
        "id": "ju-2-U2i0D8o",
        "colab_type": "code",
        "colab": {}
      },
      "cell_type": "code",
      "source": [
        "text_to_search = '''\n",
        "abcdefghijklmnopqrstuvwxyz\n",
        "ABCDEFGHIJKLMNOPQRSTUVWXYZ\n",
        "1234567890\n",
        "\n",
        "lambdaschool.com\n",
        "numpy.org\n",
        "pythonprogramming.net\n",
        "\n",
        "http://www.LambdaSchool.com\n",
        "http://www.google.com\n",
        "https://www.twitter.com\n",
        "\n",
        "8014893087\n",
        "801-489-8116\n",
        "801.491.8037\n",
        "345&123(1209?\n",
        "\n",
        "Mr. Allred\n",
        "Mrs. Smith\n",
        "Ms. Todorojo\n",
        "Mr Priest\n",
        "Dr Strangelove\n",
        "\n",
        "MetaCharacters that need to be escaped:\n",
        "\\.{[()*&+?|$\n",
        ".$^*(){}[]\\|+?\n",
        "\n",
        "This is a sentence of text.\n",
        "'''"
      ],
      "execution_count": 0,
      "outputs": []
    },
    {
      "metadata": {
        "id": "c0qMM16d051f",
        "colab_type": "text"
      },
      "cell_type": "markdown",
      "source": [
        "## Search for the string \"abc\""
      ]
    },
    {
      "metadata": {
        "id": "ZrpxQbOlJHOA",
        "colab_type": "code",
        "outputId": "21633a06-c5de-48de-88b7-4f950415d77d",
        "colab": {
          "base_uri": "https://localhost:8080/",
          "height": 34
        }
      },
      "cell_type": "code",
      "source": [
        ""
      ],
      "execution_count": 14,
      "outputs": [
        {
          "output_type": "stream",
          "text": [
            "abc\n"
          ],
          "name": "stdout"
        }
      ]
    },
    {
      "metadata": {
        "id": "Jp3q25wl2f5M",
        "colab_type": "text"
      },
      "cell_type": "markdown",
      "source": [
        "## Search for the string \".\""
      ]
    },
    {
      "metadata": {
        "id": "AXbI8xpfJQ-l",
        "colab_type": "code",
        "colab": {}
      },
      "cell_type": "code",
      "source": [
        ""
      ],
      "execution_count": 0,
      "outputs": []
    },
    {
      "metadata": {
        "id": "rM81JYsS3a9y",
        "colab_type": "text"
      },
      "cell_type": "markdown",
      "source": [
        "## Search for the string \"lambdaschool.com\""
      ]
    },
    {
      "metadata": {
        "id": "Zntfm-FK3l4s",
        "colab_type": "code",
        "colab": {}
      },
      "cell_type": "code",
      "source": [
        ""
      ],
      "execution_count": 0,
      "outputs": []
    },
    {
      "metadata": {
        "id": "iQhm54Su30rS",
        "colab_type": "text"
      },
      "cell_type": "markdown",
      "source": [
        "## Match all digits"
      ]
    },
    {
      "metadata": {
        "id": "GRlGQQJz34-0",
        "colab_type": "code",
        "colab": {}
      },
      "cell_type": "code",
      "source": [
        ""
      ],
      "execution_count": 0,
      "outputs": []
    },
    {
      "metadata": {
        "id": "I0TDVcem4idF",
        "colab_type": "text"
      },
      "cell_type": "markdown",
      "source": [
        "## Match anything that is not a digit"
      ]
    },
    {
      "metadata": {
        "id": "LqmzQMZM4xn1",
        "colab_type": "code",
        "colab": {}
      },
      "cell_type": "code",
      "source": [
        ""
      ],
      "execution_count": 0,
      "outputs": []
    },
    {
      "metadata": {
        "id": "X2En1EVm4CZ3",
        "colab_type": "text"
      },
      "cell_type": "markdown",
      "source": [
        "## Match any clumps of digits"
      ]
    },
    {
      "metadata": {
        "id": "x89-oxD54I4X",
        "colab_type": "code",
        "colab": {}
      },
      "cell_type": "code",
      "source": [
        ""
      ],
      "execution_count": 0,
      "outputs": []
    },
    {
      "metadata": {
        "id": "HFl9BeVD4Jpr",
        "colab_type": "text"
      },
      "cell_type": "markdown",
      "source": [
        "## Match clumps of non-digits"
      ]
    },
    {
      "metadata": {
        "id": "X7h8cPAs6Fu3",
        "colab_type": "code",
        "colab": {}
      },
      "cell_type": "code",
      "source": [
        ""
      ],
      "execution_count": 0,
      "outputs": []
    },
    {
      "metadata": {
        "id": "GbHSf3mk6R0x",
        "colab_type": "text"
      },
      "cell_type": "markdown",
      "source": [
        "## Search for any letter, digit or underscore (then .join them)"
      ]
    },
    {
      "metadata": {
        "id": "7xgtwkQn-5_R",
        "colab_type": "code",
        "colab": {}
      },
      "cell_type": "code",
      "source": [
        ""
      ],
      "execution_count": 0,
      "outputs": []
    },
    {
      "metadata": {
        "id": "4wAAno7I-_vL",
        "colab_type": "text"
      },
      "cell_type": "markdown",
      "source": [
        "## Beginning and End of string searches"
      ]
    },
    {
      "metadata": {
        "id": "4JdVnEN-_HAI",
        "colab_type": "code",
        "colab": {}
      },
      "cell_type": "code",
      "source": [
        "text = \"https://www.lambdaschool.com\""
      ],
      "execution_count": 0,
      "outputs": []
    },
    {
      "metadata": {
        "id": "wN_YRoCDBGYa",
        "colab_type": "text"
      },
      "cell_type": "markdown",
      "source": [
        "## Search for urls beginning with \"http\""
      ]
    },
    {
      "metadata": {
        "id": "OjiIHhTIBJIX",
        "colab_type": "code",
        "colab": {}
      },
      "cell_type": "code",
      "source": [
        ""
      ],
      "execution_count": 0,
      "outputs": []
    },
    {
      "metadata": {
        "id": "9T7guV7c_HVl",
        "colab_type": "text"
      },
      "cell_type": "markdown",
      "source": [
        "## Search for phone numbers"
      ]
    },
    {
      "metadata": {
        "id": "W_a8GkYW_HoN",
        "colab_type": "code",
        "colab": {}
      },
      "cell_type": "code",
      "source": [
        ""
      ],
      "execution_count": 0,
      "outputs": []
    },
    {
      "metadata": {
        "id": "QkuMDIC-E3bc",
        "colab_type": "text"
      },
      "cell_type": "markdown",
      "source": [
        "## Search for all URLs"
      ]
    },
    {
      "metadata": {
        "id": "B8pi2OaWE5Rx",
        "colab_type": "code",
        "colab": {}
      },
      "cell_type": "code",
      "source": [
        ""
      ],
      "execution_count": 0,
      "outputs": []
    },
    {
      "metadata": {
        "id": "1Rb2NjNq3pDe",
        "colab_type": "text"
      },
      "cell_type": "markdown",
      "source": [
        "### When you write the correct Regex pattern without looking at a cheat sheet:\n",
        "\n",
        "![Wand](https://media1.tenor.com/images/770bc6dce2506cb3cbe8a8561eebf969/tenor.gif?itemid=13050462)\n",
        "\n",
        "![You're a wizard Harry](https://media1.tenor.com/images/0f8588a031f9aaa157df4f519b65180e/tenor.gif?itemid=5453410)"
      ]
    },
    {
      "metadata": {
        "id": "_eITkWUJXCWE",
        "colab_type": "text"
      },
      "cell_type": "markdown",
      "source": [
        "# Web Scraping via BeautifulSoup and requests"
      ]
    },
    {
      "metadata": {
        "id": "BpiVMRMISf85",
        "colab_type": "code",
        "colab": {}
      },
      "cell_type": "code",
      "source": [
        "from bs4 import BeautifulSoup\n",
        "import requests"
      ],
      "execution_count": 0,
      "outputs": []
    },
    {
      "metadata": {
        "id": "piC9TQJegCeH",
        "colab_type": "text"
      },
      "cell_type": "markdown",
      "source": [
        "## Make the Soup"
      ]
    },
    {
      "metadata": {
        "id": "ncmY7VwcTAmD",
        "colab_type": "code",
        "colab": {
          "base_uri": "https://localhost:8080/",
          "height": 3044
        },
        "outputId": "20943648-36b5-483d-858b-b906327dc706"
      },
      "cell_type": "code",
      "source": [
        "page_to_scrape = 'https://web.archive.org/web/20121007172955/https://www.nga.gov/collection/anZ1.htm'\n",
        "\n",
        "# This makes a request to the page just as if we were navigating\n",
        "# to that page in the browser\n",
        "page = requests.get(page_to_scrape)\n",
        "\n",
        "# The \"soup\" is the parsed html of a webpage.\n",
        "soup = BeautifulSoup(page.text, 'html.parser')\n",
        "print(soup)"
      ],
      "execution_count": 45,
      "outputs": [
        {
          "output_type": "stream",
          "text": [
            "<!DOCTYPE html PUBLIC \"-//W3C//DTD XHTML 1.0 Transitional//EN\" \"http://www.w3.org/TR/xhtml1/DTD/xhtml1-transitional.dtd\">\n",
            "\n",
            "<html xmlns=\"http://www.w3.org/1999/xhtml\"><!-- InstanceBegin template=\"/Templates/template-collection.dwt\" codeOutsideHTMLIsLocked=\"false\" -->\n",
            "<head><script src=\"//archive.org/includes/analytics.js?v=cf34f82\" type=\"text/javascript\"></script>\n",
            "<script type=\"text/javascript\">window.addEventListener('DOMContentLoaded',function(){var v=archive_analytics.values;v.service='wb';v.server_name='wwwb-app41.us.archive.org';v.server_ms=390;archive_analytics.send_pageview({});});</script>\n",
            "<script charset=\"utf-8\" src=\"/static/js/ait-client-rewrite.js?v=1549496156\" type=\"text/javascript\"></script>\n",
            "<script type=\"text/javascript\">\n",
            "WB_wombat_Init('https://web.archive.org/web', '20121007172955', 'www.nga.gov');\n",
            "</script>\n",
            "<script charset=\"utf-8\" src=\"/static/js/wbhack.js?v=1549496156\" type=\"text/javascript\"></script>\n",
            "<script type=\"text/javascript\">\n",
            "__wbhack.init('https://web.archive.org/web');\n",
            "</script>\n",
            "<link href=\"/static/css/banner-styles.css?v=1549496156\" rel=\"stylesheet\" type=\"text/css\"/>\n",
            "<link href=\"/static/css/iconochive.css?v=1549496156\" rel=\"stylesheet\" type=\"text/css\"/>\n",
            "<!-- End Wayback Rewrite JS Include -->\n",
            "<!-- InstanceBeginEditable name=\"doctitle\" -->\n",
            "<title>NGA - Artist List 'Z' / Page 1 of 4</title>\n",
            "<!-- InstanceEndEditable -->\n",
            "<!-- v 2.2 -->\n",
            "<!-- InstanceBeginEditable name=\"head\" --><!-- InstanceEndEditable -->\n",
            "<link href=\"/web/20121007172955cs_/https://www.nga.gov/Templates/nga.css\" rel=\"stylesheet\" type=\"text/css\"/>\n",
            "<!-- InstanceParam name=\"AuthorName\" type=\"text\" value=\"\" -->\n",
            "<!-- InstanceParam name=\"CreateDate\" type=\"text\" value=\"\" -->\n",
            "<!-- InstanceParam name=\"ModifiedDate\" type=\"text\" value=\"\" -->\n",
            "<!-- InstanceParam name=\"History\" type=\"text\" value=\"\" -->\n",
            "<!-- Author Name=\"\" -->\n",
            "<!-- Date Created=\"\" -->\n",
            "<!-- Date Modified=\"\" -->\n",
            "<!-- File History=\"\" -->\n",
            "</head>\n",
            "<body>\n",
            "<div align=\"center\">\n",
            "<table border=\"0\" cellpadding=\"0\" cellspacing=\"0\">\n",
            "<tr>\n",
            "<td align=\"right\" valign=\"top\" width=\"175\">\n",
            "<div style=\"border-right: 1px solid #466D6C; margin-right: 8px;\">\n",
            "<a href=\"/web/20121007172955/https://www.nga.gov/home.htm\"><img alt=\"HOME\" border=\"0\" height=\"72\" src=\"/web/20121007172955im_/https://www.nga.gov/images/eagle.gif\" style=\"margin-top: 15px; margin-right: 12px; margin-bottom: 35px;\" width=\"74\"/></a><br/>\n",
            "<div style=\"padding-right: 8px;\"><!-- #BeginLibraryItem \"/Library/sidebar-top.lbi\" --><ul id=\"sideNav-top\">\n",
            "<li><a href=\"/web/20121007172955/https://www.nga.gov/highlights/index.shtm\">What's New</a></li>\n",
            "<li><a href=\"https://web.archive.org/web/20121007172955/http://subscribe.nga.gov/subscription_form_ngart.cfm\">Newsletters</a></li>\n",
            "<li><a href=\"/web/20121007172955/https://www.nga.gov/programs/calendar/\">Calendar</a></li>\n",
            "<li><a href=\"/web/20121007172955/https://www.nga.gov/collection/acquisitioninfo.shtm\">Recent Acquisitions</a></li>\n",
            "<li><a href=\"/web/20121007172955/https://www.nga.gov/podcasts/index.shtm\">Videos &amp; Podcasts</a></li>\n",
            "<li><a href=\"/web/20121007172955/https://www.nga.gov/ginfo/aboutnga.shtm\">About the Gallery</a></li>\n",
            "<li class=\"call-out\"><a href=\"/web/20121007172955/https://www.nga.gov/exhibitions/shockinfo.shtm\">Shock of the News</a></li>\n",
            "<li class=\"call-out\"><a href=\"/web/20121007172955/https://www.nga.gov/exhibitions/bellowsinfo.shtm\">George Bellows</a></li>\n",
            "</ul>\n",
            "<!-- #EndLibraryItem --><!-- #BeginLibraryItem \"/Library/sidebar-bottom.lbi\" --><ul id=\"globalNav\">\n",
            "<li><a href=\"/web/20121007172955/https://www.nga.gov/collection/index.shtm\">The Collection</a></li>\n",
            "<li><a href=\"/web/20121007172955/https://www.nga.gov/exhibitions/index.shtm\">Exhibitions</a></li>\n",
            "<li><a href=\"/web/20121007172955/https://www.nga.gov/ginfo/index.shtm\">Plan a Visit</a></li>\n",
            "<li><a href=\"/web/20121007172955/https://www.nga.gov/programs/index.shtm\">Programs &amp; Events</a></li>\n",
            "<li><a href=\"/web/20121007172955/https://www.nga.gov/onlinetours/index.shtm\">Online Tours</a></li>\n",
            "<li><a href=\"/web/20121007172955/https://www.nga.gov/education/index.shtm\">Education</a></li>\n",
            "<li><a href=\"/web/20121007172955/https://www.nga.gov/resources/index.shtm\">Resources</a></li>\n",
            "<li><a href=\"https://web.archive.org/web/20121007172955/http://shop.nga.gov/\">Gallery Shop</a></li>\n",
            "<li><a href=\"/web/20121007172955/https://www.nga.gov/support/index.shtm\">Support the Gallery</a></li>\n",
            "<li><a href=\"https://web.archive.org/web/20121007172955/https://images.nga.gov/en/page/show_home_page.html\">NGA Images</a></li>\n",
            "<li><a href=\"/web/20121007172955/https://www.nga.gov/kids/kids.htm\">NGA<span class=\"kids\">kids</span></a></li>\n",
            "</ul><!-- #EndLibraryItem --><form action=\"/web/20121007172955/https://www.nga.gov/cgi-bin/htsearch\" method=\"get\" style=\"float: inherit; clear: both;\">\n",
            "<input name=\"method\" type=\"hidden\" value=\"and\"/><input name=\"format\" type=\"hidden\" value=\"Long\"/><input name=\"sort\" type=\"hidden\" value=\"score\"/>\n",
            "<input class=\"searchField\" name=\"words\" onfocus=\"if (this.value.indexOf('Search the Site') == 0) this.value = '';\" size=\"14\" style=\"margin-bottom:3px;\" type=\"text\" value=\"Search the Site\"/>\n",
            "<input src=\"/web/20121007172955im_/https://www.nga.gov/images/new_go_btn.gif\" type=\"image\"/>\n",
            "<input name=\"restrict\" type=\"hidden\"/>\n",
            "<input name=\"exclude\" type=\"hidden\" value=\"\"/>\n",
            "</form>\n",
            "</div>\n",
            "</div>\n",
            "</td>\n",
            "<td valign=\"top\" width=\"675\">\n",
            "<div class=\"content\">\n",
            "<img alt=\"National Gallery of Art - THE COLLECTION\" border=\"0\" height=\"44\" src=\"/web/20121007172955im_/https://www.nga.gov/images/collections_test.gif\" style=\"margin-top: 28px; margin-bottom: 40px; text-align: left; float: left;\" width=\"400\"/><div style=\"clear: both;\"></div>\n",
            "<div class=\"BodyText\">\n",
            "<!-- InstanceBeginEditable name=\"BodyText\" -->\n",
            "<h3>Artist names beginning with Z</h3><table>\n",
            "<tr valign=\"top\"><td><a href=\"/web/20121007172955/https://www.nga.gov/cgi-bin/tsearch?artistid=11630\">Zabaglia, Niccola</a></td><td>Italian, 1664 - 1750</td></tr>\n",
            "<tr valign=\"top\"><td><a href=\"/web/20121007172955/https://www.nga.gov/cgi-bin/tsearch?artistid=34202\">Zaccone, Fabian</a></td><td>American, 1910 - 1992</td></tr>\n",
            "<tr valign=\"top\"><td><a href=\"/web/20121007172955/https://www.nga.gov/cgi-bin/tsearch?artistid=3475\">Zadkine, Ossip</a></td><td>French, 1890 - 1967</td></tr>\n",
            "<tr valign=\"top\"><td><a href=\"/web/20121007172955/https://www.nga.gov/cgi-bin/tsearch?artistid=25135\">Zaech, Bernhard</a></td><td>German, active c. 1650</td></tr>\n",
            "<tr valign=\"top\"><td><a href=\"/web/20121007172955/https://www.nga.gov/cgi-bin/tsearch?artistid=2298\">Zagar, Jacob</a></td><td>Flemish, c. 1530 - after 1580</td></tr>\n",
            "<tr valign=\"top\"><td><a href=\"/web/20121007172955/https://www.nga.gov/cgi-bin/tsearch?artistid=23988\">Zagroba, Idalia</a></td><td>Polish, born 1967</td></tr>\n",
            "<tr valign=\"top\"><td><a href=\"/web/20121007172955/https://www.nga.gov/cgi-bin/tsearch?artistid=8232\">Zaidenberg, A.</a></td><td>American, active c. 1935</td></tr>\n",
            "<tr valign=\"top\"><td><a href=\"/web/20121007172955/https://www.nga.gov/cgi-bin/tsearch?artistid=34154\">Zaidenberg, Arthur</a></td><td>American, 1903 - 1990</td></tr>\n",
            "<tr valign=\"top\"><td><a href=\"/web/20121007172955/https://www.nga.gov/cgi-bin/tsearch?artistid=4910\">Zaisinger, Matthäus</a></td><td>German, active c. 1500</td></tr>\n",
            "<tr valign=\"top\"><td><a href=\"/web/20121007172955/https://www.nga.gov/cgi-bin/tsearch?artistid=3450\">Zajac, Jack</a></td><td>American, born 1929</td></tr>\n",
            "<tr valign=\"top\"><td><a href=\"/web/20121007172955/https://www.nga.gov/cgi-bin/tsearch?artistid=1986\">Zak, Eugène</a></td><td>Polish, 1884 - 1926</td></tr>\n",
            "<tr valign=\"top\"><td><a href=\"/web/20121007172955/https://www.nga.gov/cgi-bin/tsearch?artistid=3451\">Zakharov, Gurii Fillipovich</a></td><td>Russian, born 1926</td></tr>\n",
            "<tr valign=\"top\"><td><a href=\"/web/20121007172955/https://www.nga.gov/cgi-bin/tsearch?artistid=20099\">Zakowortny, Igor</a></td><td></td></tr>\n",
            "<tr valign=\"top\"><td><a href=\"/web/20121007172955/https://www.nga.gov/cgi-bin/tsearch?artistid=3452\">Zalce, Alfredo</a></td><td>Mexican, born 1908</td></tr>\n",
            "<tr valign=\"top\"><td><a href=\"/web/20121007172955/https://www.nga.gov/cgi-bin/tsearch?artistid=34309\">Zalopany, Michele</a></td><td>American, born 1955</td></tr>\n",
            "<tr valign=\"top\"><td><a href=\"/web/20121007172955/https://www.nga.gov/cgi-bin/tsearch?artistid=27191\">Zammiello, Craig</a></td><td></td></tr>\n",
            "<tr valign=\"top\"><td><a href=\"/web/20121007172955/https://www.nga.gov/cgi-bin/tsearch?artistid=5846\">Zammitt, Norman</a></td><td>American, born 1931</td></tr>\n",
            "<tr valign=\"top\"><td><a href=\"/web/20121007172955/https://www.nga.gov/cgi-bin/tsearch?artistid=3941\">Zampieri, Domenico</a></td><td>Italian, 1581 - 1641</td></tr>\n",
            "<tr valign=\"top\"><td><a href=\"/web/20121007172955/https://www.nga.gov/cgi-bin/tsearch?artistid=3941\">Zampieri, called Domenichino, Domenico</a></td><td>Italian, 1581 - 1641</td></tr>\n",
            "<tr valign=\"top\"><td><a href=\"/web/20121007172955/https://www.nga.gov/cgi-bin/tsearch?artistid=3453\">Zanartú, Enrique Antunez</a></td><td>Chilean, born 1921</td></tr>\n",
            "<tr valign=\"top\"><td><a href=\"/web/20121007172955/https://www.nga.gov/cgi-bin/tsearch?artistid=35173\">Zanchi, Antonio</a></td><td>Italian, 1631 - 1722</td></tr>\n",
            "<tr valign=\"top\"><td><a href=\"/web/20121007172955/https://www.nga.gov/cgi-bin/tsearch?artistid=11133\">Zanetti, Anton Maria</a></td><td>Italian, 1679/1680 - 1767</td></tr>\n",
            "<tr valign=\"top\"><td><a href=\"/web/20121007172955/https://www.nga.gov/cgi-bin/tsearch?artistid=3455\">Zanetti Borzino, Leopoldina</a></td><td>Italian, 1826 - 1902</td></tr>\n",
            "<tr valign=\"top\"><td><a href=\"/web/20121007172955/https://www.nga.gov/cgi-bin/tsearch?artistid=3454\">Zanetti I, Antonio Maria, conte</a></td><td>Italian, 1680 - 1757</td></tr>\n",
            "<tr valign=\"top\"><td><a href=\"/web/20121007172955/https://www.nga.gov/cgi-bin/tsearch?artistid=961\">Zanguidi, Jacopo</a></td><td>Italian, 1544 - 1573/1574</td></tr>\n",
            "<tr valign=\"top\"><td><a href=\"/web/20121007172955/https://www.nga.gov/cgi-bin/tsearch?artistid=11597\">Zanini, Giuseppe</a></td><td>Italian, c. 1599 - 1631</td></tr>\n",
            "<tr valign=\"top\"><td><a href=\"/web/20121007172955/https://www.nga.gov/cgi-bin/tsearch?artistid=11597\">Zanini-Viola, Giuseppe</a></td><td>Italian, c. 1599 - 1631</td></tr>\n",
            "<tr valign=\"top\"><td><a href=\"/web/20121007172955/https://www.nga.gov/cgi-bin/tsearch?artistid=11631\">Zanotti, Giampietro</a></td><td>Italian, 1674 - 1765</td></tr>\n",
            "<tr valign=\"top\"><td><a href=\"/web/20121007172955/https://www.nga.gov/cgi-bin/tsearch?artistid=3427\">Zao Wou-Ki</a></td><td>French, born 1921</td></tr>\n",
            "</table>\n",
            "<br/><br/>\n",
            "<table class=\"AlphaNav\"><tr><td></td><td align=\"center\">Page 1 - Artists 1 thru 29 of 115<br/></td><td></td></tr>\n",
            "<tr>\n",
            "<td></td>\n",
            "<td align=\"center\">\n",
            "· <b>Zab-Zao</b> ·<a href=\"/web/20121007172955/https://www.nga.gov/collection/anZ2.htm\">Zas-Zie</a> <a href=\"/web/20121007172955/https://www.nga.gov/collection/anZ3.htm\">Zie-Zor</a> </td>\n",
            "<td align=\"center\">» <br><a href=\"/web/20121007172955/https://www.nga.gov/collection/anZ4.htm\"><strong>next<br/>page</strong></a></br></td>\n",
            "</tr>\n",
            "</table>\n",
            "<!-- InstanceEndEditable -->\n",
            "</div> <!--close bodytext div -->\n",
            "</div> <!-- close content div -->\n",
            "</td>\n",
            "</tr>\n",
            "<tr>\n",
            "<td></td>\n",
            "<td class=\"noToolbar\" colspan=\"2\">\n",
            "<div style=\"margin-top: 15px;\">\n",
            "<p style=\"padding: 50px 0 0 10px; font-size: 90%; text-align: left;\"><!-- #BeginLibraryItem \"/Library/toolbar_new.lbi\" --> <a href=\"/web/20121007172955/https://www.nga.gov/help/index.shtm\">help</a> | <a href=\"/web/20121007172955/https://www.nga.gov/search/index.shtm\">search</a> | <a href=\"/web/20121007172955/https://www.nga.gov/copyright/toc.shtm\">site map</a> | <a href=\"/web/20121007172955/https://www.nga.gov/xio/phone.shtm\">contact us</a> | <a href=\"/web/20121007172955/https://www.nga.gov/xio/privacy.shtm\">privacy</a> | <a href=\"/web/20121007172955/https://www.nga.gov/copyright/index.shtm\">terms of use</a> | <a href=\"/web/20121007172955/https://www.nga.gov/press/index.shtm\">press</a> | <a href=\"https://web.archive.org/web/20121007172955/http://images.nga.gov/\">NGA Images</a> | <a href=\"/web/20121007172955/https://www.nga.gov/home.htm\">home</a> | <a href=\"https://web.archive.org/web/20121007172955/http://www.facebook.com/nationalgalleryofart\"><img alt=\"Go to our page on Facebook\" border=\"0\" height=\"18\" src=\"/web/20121007172955im_/https://www.nga.gov/images/icon_facebook.gif\" style=\"vertical-align: text-top; margin-top: -1px;\" width=\"18\"/></a> <a href=\"https://web.archive.org/web/20121007172955/https://twitter.com/#!/@ngadc\"><img alt=\"Go to our page on Twitter\" border=\"0\" height=\"18\" src=\"/web/20121007172955im_/https://www.nga.gov/images/icon_twitter.gif\" style=\"vertical-align: text-top; margin-top: -1px;\" width=\"20\"/></a><!-- #EndLibraryItem --></p>\n",
            "<p style=\"padding: 0 0 0 10px; font-size: 90%; text-align: left;\"><!-- #BeginLibraryItem \"/Library/copyright_new.lbi\" --><a href=\"/web/20121007172955/https://www.nga.gov/copyright/index.shtm\">Copyright ©\n",
            "      <script language=\"JavaScript\">\n",
            "function y2k(number) { return (number < 1000) ? number + 1900 : number; }\n",
            "var today = new Date();\n",
            "var year  = y2k(today.getYear());\n",
            "document.write(year);\n",
            "      </script>\n",
            "<noscript>\n",
            "2008\n",
            "      </noscript>\n",
            "National Gallery of Art, Washington, DC</a><!-- #EndLibraryItem --></p></div>\n",
            "</td>\n",
            "</tr>\n",
            "</table>\n",
            "</div>\n",
            "<!-- Start Web Analytic Code -->\n",
            "<script type=\"text/javascript\">\n",
            "\n",
            "  var _gaq = _gaq || [];\n",
            "  _gaq.push(['_setAccount', 'UA-31577529-1']);\n",
            "  _gaq.push(['_setDomainName', 'nga.gov']);\n",
            "  _gaq.push(['_trackPageview']);\n",
            "\n",
            "  (function() {\n",
            "    var ga = document.createElement('script'); ga.type = 'text/javascript'; ga.async = true;\n",
            "    ga.src = ('https:' == document.location.protocol ? 'https://web.archive.org/web/20121007172955/https://ssl/' : 'https://web.archive.org/web/20121007172955/http://www/') + '.google-analytics.com/ga.js';\n",
            "    var s = document.getElementsByTagName('script')[0]; s.parentNode.insertBefore(ga, s);\n",
            "  })();\n",
            "\n",
            "</script>\n",
            "<!-- End Web Analytic Code -->\n",
            "</body>\n",
            "<!-- InstanceEnd --></html>\n",
            "<!--\n",
            "     FILE ARCHIVED ON 17:29:55 Oct 07, 2012 AND RETRIEVED FROM THE\n",
            "     INTERNET ARCHIVE ON 10:16:03 Mar 25, 2019.\n",
            "     JAVASCRIPT APPENDED BY WAYBACK MACHINE, COPYRIGHT INTERNET ARCHIVE.\n",
            "\n",
            "     ALL OTHER CONTENT MAY ALSO BE PROTECTED BY COPYRIGHT (17 U.S.C.\n",
            "     SECTION 108(a)(3)).\n",
            "-->\n",
            "<!--\n",
            "playback timings (ms):\n",
            "  LoadShardBlock: 84.357 (3)\n",
            "  esindex: 0.006\n",
            "  captures_list: 103.224\n",
            "  CDXLines.iter: 13.35 (3)\n",
            "  PetaboxLoader3.datanode: 75.649 (4)\n",
            "  exclusion.robots: 0.179\n",
            "  exclusion.robots.policy: 0.165\n",
            "  RedisCDXSource: 1.855\n",
            "  PetaboxLoader3.resolve: 147.361 (3)\n",
            "  load_resource: 272.137\n",
            "-->\n"
          ],
          "name": "stdout"
        }
      ]
    },
    {
      "metadata": {
        "id": "kbvfwDh7gGoz",
        "colab_type": "text"
      },
      "cell_type": "markdown",
      "source": [
        "## .find()\n",
        "\n",
        ".find() gives us everything within an html tag as if it were a smaller soup. We can search by id or by class."
      ]
    },
    {
      "metadata": {
        "id": "bQ6UsIUehG9y",
        "colab_type": "code",
        "colab": {
          "base_uri": "https://localhost:8080/",
          "height": 255
        },
        "outputId": "e90dc376-bf51-476d-8604-7b7ff2c2c808"
      },
      "cell_type": "code",
      "source": [
        "nav_stuff = soup.find(id='globalNav')\n",
        "print(nav_stuff)"
      ],
      "execution_count": 66,
      "outputs": [
        {
          "output_type": "stream",
          "text": [
            "<ul id=\"globalNav\">\n",
            "<li><a href=\"/web/20121007172955/https://www.nga.gov/collection/index.shtm\">The Collection</a></li>\n",
            "<li><a href=\"/web/20121007172955/https://www.nga.gov/exhibitions/index.shtm\">Exhibitions</a></li>\n",
            "<li><a href=\"/web/20121007172955/https://www.nga.gov/ginfo/index.shtm\">Plan a Visit</a></li>\n",
            "<li><a href=\"/web/20121007172955/https://www.nga.gov/programs/index.shtm\">Programs &amp; Events</a></li>\n",
            "<li><a href=\"/web/20121007172955/https://www.nga.gov/onlinetours/index.shtm\">Online Tours</a></li>\n",
            "<li><a href=\"/web/20121007172955/https://www.nga.gov/education/index.shtm\">Education</a></li>\n",
            "<li><a href=\"/web/20121007172955/https://www.nga.gov/resources/index.shtm\">Resources</a></li>\n",
            "<li><a href=\"https://web.archive.org/web/20121007172955/http://shop.nga.gov/\">Gallery Shop</a></li>\n",
            "<li><a href=\"/web/20121007172955/https://www.nga.gov/support/index.shtm\">Support the Gallery</a></li>\n",
            "<li><a href=\"https://web.archive.org/web/20121007172955/https://images.nga.gov/en/page/show_home_page.html\">NGA Images</a></li>\n",
            "<li><a href=\"/web/20121007172955/https://www.nga.gov/kids/kids.htm\">NGA<span class=\"kids\">kids</span></a></li>\n",
            "</ul>\n"
          ],
          "name": "stdout"
        }
      ]
    },
    {
      "metadata": {
        "id": "zt_QfZYzV18G",
        "colab_type": "code",
        "colab": {
          "base_uri": "https://localhost:8080/",
          "height": 776
        },
        "outputId": "20d3c318-8ba2-4a25-ee77-decd33808e5e"
      },
      "cell_type": "code",
      "source": [
        "artist_name_list = soup.find(class_='BodyText')\n",
        "print(artist_name_list)"
      ],
      "execution_count": 64,
      "outputs": [
        {
          "output_type": "stream",
          "text": [
            "<div class=\"BodyText\">\n",
            "<!-- InstanceBeginEditable name=\"BodyText\" -->\n",
            "<h3>Artist names beginning with Z</h3><table>\n",
            "<tr valign=\"top\"><td><a href=\"/web/20121007172955/https://www.nga.gov/cgi-bin/tsearch?artistid=11630\">Zabaglia, Niccola</a></td><td>Italian, 1664 - 1750</td></tr>\n",
            "<tr valign=\"top\"><td><a href=\"/web/20121007172955/https://www.nga.gov/cgi-bin/tsearch?artistid=34202\">Zaccone, Fabian</a></td><td>American, 1910 - 1992</td></tr>\n",
            "<tr valign=\"top\"><td><a href=\"/web/20121007172955/https://www.nga.gov/cgi-bin/tsearch?artistid=3475\">Zadkine, Ossip</a></td><td>French, 1890 - 1967</td></tr>\n",
            "<tr valign=\"top\"><td><a href=\"/web/20121007172955/https://www.nga.gov/cgi-bin/tsearch?artistid=25135\">Zaech, Bernhard</a></td><td>German, active c. 1650</td></tr>\n",
            "<tr valign=\"top\"><td><a href=\"/web/20121007172955/https://www.nga.gov/cgi-bin/tsearch?artistid=2298\">Zagar, Jacob</a></td><td>Flemish, c. 1530 - after 1580</td></tr>\n",
            "<tr valign=\"top\"><td><a href=\"/web/20121007172955/https://www.nga.gov/cgi-bin/tsearch?artistid=23988\">Zagroba, Idalia</a></td><td>Polish, born 1967</td></tr>\n",
            "<tr valign=\"top\"><td><a href=\"/web/20121007172955/https://www.nga.gov/cgi-bin/tsearch?artistid=8232\">Zaidenberg, A.</a></td><td>American, active c. 1935</td></tr>\n",
            "<tr valign=\"top\"><td><a href=\"/web/20121007172955/https://www.nga.gov/cgi-bin/tsearch?artistid=34154\">Zaidenberg, Arthur</a></td><td>American, 1903 - 1990</td></tr>\n",
            "<tr valign=\"top\"><td><a href=\"/web/20121007172955/https://www.nga.gov/cgi-bin/tsearch?artistid=4910\">Zaisinger, Matthäus</a></td><td>German, active c. 1500</td></tr>\n",
            "<tr valign=\"top\"><td><a href=\"/web/20121007172955/https://www.nga.gov/cgi-bin/tsearch?artistid=3450\">Zajac, Jack</a></td><td>American, born 1929</td></tr>\n",
            "<tr valign=\"top\"><td><a href=\"/web/20121007172955/https://www.nga.gov/cgi-bin/tsearch?artistid=1986\">Zak, Eugène</a></td><td>Polish, 1884 - 1926</td></tr>\n",
            "<tr valign=\"top\"><td><a href=\"/web/20121007172955/https://www.nga.gov/cgi-bin/tsearch?artistid=3451\">Zakharov, Gurii Fillipovich</a></td><td>Russian, born 1926</td></tr>\n",
            "<tr valign=\"top\"><td><a href=\"/web/20121007172955/https://www.nga.gov/cgi-bin/tsearch?artistid=20099\">Zakowortny, Igor</a></td><td></td></tr>\n",
            "<tr valign=\"top\"><td><a href=\"/web/20121007172955/https://www.nga.gov/cgi-bin/tsearch?artistid=3452\">Zalce, Alfredo</a></td><td>Mexican, born 1908</td></tr>\n",
            "<tr valign=\"top\"><td><a href=\"/web/20121007172955/https://www.nga.gov/cgi-bin/tsearch?artistid=34309\">Zalopany, Michele</a></td><td>American, born 1955</td></tr>\n",
            "<tr valign=\"top\"><td><a href=\"/web/20121007172955/https://www.nga.gov/cgi-bin/tsearch?artistid=27191\">Zammiello, Craig</a></td><td></td></tr>\n",
            "<tr valign=\"top\"><td><a href=\"/web/20121007172955/https://www.nga.gov/cgi-bin/tsearch?artistid=5846\">Zammitt, Norman</a></td><td>American, born 1931</td></tr>\n",
            "<tr valign=\"top\"><td><a href=\"/web/20121007172955/https://www.nga.gov/cgi-bin/tsearch?artistid=3941\">Zampieri, Domenico</a></td><td>Italian, 1581 - 1641</td></tr>\n",
            "<tr valign=\"top\"><td><a href=\"/web/20121007172955/https://www.nga.gov/cgi-bin/tsearch?artistid=3941\">Zampieri, called Domenichino, Domenico</a></td><td>Italian, 1581 - 1641</td></tr>\n",
            "<tr valign=\"top\"><td><a href=\"/web/20121007172955/https://www.nga.gov/cgi-bin/tsearch?artistid=3453\">Zanartú, Enrique Antunez</a></td><td>Chilean, born 1921</td></tr>\n",
            "<tr valign=\"top\"><td><a href=\"/web/20121007172955/https://www.nga.gov/cgi-bin/tsearch?artistid=35173\">Zanchi, Antonio</a></td><td>Italian, 1631 - 1722</td></tr>\n",
            "<tr valign=\"top\"><td><a href=\"/web/20121007172955/https://www.nga.gov/cgi-bin/tsearch?artistid=11133\">Zanetti, Anton Maria</a></td><td>Italian, 1679/1680 - 1767</td></tr>\n",
            "<tr valign=\"top\"><td><a href=\"/web/20121007172955/https://www.nga.gov/cgi-bin/tsearch?artistid=3455\">Zanetti Borzino, Leopoldina</a></td><td>Italian, 1826 - 1902</td></tr>\n",
            "<tr valign=\"top\"><td><a href=\"/web/20121007172955/https://www.nga.gov/cgi-bin/tsearch?artistid=3454\">Zanetti I, Antonio Maria, conte</a></td><td>Italian, 1680 - 1757</td></tr>\n",
            "<tr valign=\"top\"><td><a href=\"/web/20121007172955/https://www.nga.gov/cgi-bin/tsearch?artistid=961\">Zanguidi, Jacopo</a></td><td>Italian, 1544 - 1573/1574</td></tr>\n",
            "<tr valign=\"top\"><td><a href=\"/web/20121007172955/https://www.nga.gov/cgi-bin/tsearch?artistid=11597\">Zanini, Giuseppe</a></td><td>Italian, c. 1599 - 1631</td></tr>\n",
            "<tr valign=\"top\"><td><a href=\"/web/20121007172955/https://www.nga.gov/cgi-bin/tsearch?artistid=11597\">Zanini-Viola, Giuseppe</a></td><td>Italian, c. 1599 - 1631</td></tr>\n",
            "<tr valign=\"top\"><td><a href=\"/web/20121007172955/https://www.nga.gov/cgi-bin/tsearch?artistid=11631\">Zanotti, Giampietro</a></td><td>Italian, 1674 - 1765</td></tr>\n",
            "<tr valign=\"top\"><td><a href=\"/web/20121007172955/https://www.nga.gov/cgi-bin/tsearch?artistid=3427\">Zao Wou-Ki</a></td><td>French, born 1921</td></tr>\n",
            "</table>\n",
            "<br/><br/>\n",
            "<table class=\"AlphaNav\"><tr><td></td><td align=\"center\">Page 1 - Artists 1 thru 29 of 115<br/></td><td></td></tr>\n",
            "<tr>\n",
            "<td></td>\n",
            "<td align=\"center\">\n",
            "· <b>Zab-Zao</b> ·<a href=\"/web/20121007172955/https://www.nga.gov/collection/anZ2.htm\">Zas-Zie</a> <a href=\"/web/20121007172955/https://www.nga.gov/collection/anZ3.htm\">Zie-Zor</a> </td>\n",
            "<td align=\"center\">» <br><a href=\"/web/20121007172955/https://www.nga.gov/collection/anZ4.htm\"><strong>next<br/>page</strong></a></br></td>\n",
            "</tr>\n",
            "</table>\n",
            "<!-- InstanceEndEditable -->\n",
            "</div>\n"
          ],
          "name": "stdout"
        }
      ]
    },
    {
      "metadata": {
        "id": "cgVJ81wGR-wD",
        "colab_type": "code",
        "colab": {
          "base_uri": "https://localhost:8080/",
          "height": 54
        },
        "outputId": "0bd87686-4844-4ec7-ad35-c8767e8a310f"
      },
      "cell_type": "code",
      "source": [
        "artist_names = artist_name_list.find_all('a')\n",
        "print(artist_names)"
      ],
      "execution_count": 47,
      "outputs": [
        {
          "output_type": "stream",
          "text": [
            "[<a href=\"/web/20121007172955/https://www.nga.gov/cgi-bin/tsearch?artistid=11630\">Zabaglia, Niccola</a>, <a href=\"/web/20121007172955/https://www.nga.gov/cgi-bin/tsearch?artistid=34202\">Zaccone, Fabian</a>, <a href=\"/web/20121007172955/https://www.nga.gov/cgi-bin/tsearch?artistid=3475\">Zadkine, Ossip</a>, <a href=\"/web/20121007172955/https://www.nga.gov/cgi-bin/tsearch?artistid=25135\">Zaech, Bernhard</a>, <a href=\"/web/20121007172955/https://www.nga.gov/cgi-bin/tsearch?artistid=2298\">Zagar, Jacob</a>, <a href=\"/web/20121007172955/https://www.nga.gov/cgi-bin/tsearch?artistid=23988\">Zagroba, Idalia</a>, <a href=\"/web/20121007172955/https://www.nga.gov/cgi-bin/tsearch?artistid=8232\">Zaidenberg, A.</a>, <a href=\"/web/20121007172955/https://www.nga.gov/cgi-bin/tsearch?artistid=34154\">Zaidenberg, Arthur</a>, <a href=\"/web/20121007172955/https://www.nga.gov/cgi-bin/tsearch?artistid=4910\">Zaisinger, Matthäus</a>, <a href=\"/web/20121007172955/https://www.nga.gov/cgi-bin/tsearch?artistid=3450\">Zajac, Jack</a>, <a href=\"/web/20121007172955/https://www.nga.gov/cgi-bin/tsearch?artistid=1986\">Zak, Eugène</a>, <a href=\"/web/20121007172955/https://www.nga.gov/cgi-bin/tsearch?artistid=3451\">Zakharov, Gurii Fillipovich</a>, <a href=\"/web/20121007172955/https://www.nga.gov/cgi-bin/tsearch?artistid=20099\">Zakowortny, Igor</a>, <a href=\"/web/20121007172955/https://www.nga.gov/cgi-bin/tsearch?artistid=3452\">Zalce, Alfredo</a>, <a href=\"/web/20121007172955/https://www.nga.gov/cgi-bin/tsearch?artistid=34309\">Zalopany, Michele</a>, <a href=\"/web/20121007172955/https://www.nga.gov/cgi-bin/tsearch?artistid=27191\">Zammiello, Craig</a>, <a href=\"/web/20121007172955/https://www.nga.gov/cgi-bin/tsearch?artistid=5846\">Zammitt, Norman</a>, <a href=\"/web/20121007172955/https://www.nga.gov/cgi-bin/tsearch?artistid=3941\">Zampieri, Domenico</a>, <a href=\"/web/20121007172955/https://www.nga.gov/cgi-bin/tsearch?artistid=3941\">Zampieri, called Domenichino, Domenico</a>, <a href=\"/web/20121007172955/https://www.nga.gov/cgi-bin/tsearch?artistid=3453\">Zanartú, Enrique Antunez</a>, <a href=\"/web/20121007172955/https://www.nga.gov/cgi-bin/tsearch?artistid=35173\">Zanchi, Antonio</a>, <a href=\"/web/20121007172955/https://www.nga.gov/cgi-bin/tsearch?artistid=11133\">Zanetti, Anton Maria</a>, <a href=\"/web/20121007172955/https://www.nga.gov/cgi-bin/tsearch?artistid=3455\">Zanetti Borzino, Leopoldina</a>, <a href=\"/web/20121007172955/https://www.nga.gov/cgi-bin/tsearch?artistid=3454\">Zanetti I, Antonio Maria, conte</a>, <a href=\"/web/20121007172955/https://www.nga.gov/cgi-bin/tsearch?artistid=961\">Zanguidi, Jacopo</a>, <a href=\"/web/20121007172955/https://www.nga.gov/cgi-bin/tsearch?artistid=11597\">Zanini, Giuseppe</a>, <a href=\"/web/20121007172955/https://www.nga.gov/cgi-bin/tsearch?artistid=11597\">Zanini-Viola, Giuseppe</a>, <a href=\"/web/20121007172955/https://www.nga.gov/cgi-bin/tsearch?artistid=11631\">Zanotti, Giampietro</a>, <a href=\"/web/20121007172955/https://www.nga.gov/cgi-bin/tsearch?artistid=3427\">Zao Wou-Ki</a>, <a href=\"/web/20121007172955/https://www.nga.gov/collection/anZ2.htm\">Zas-Zie</a>, <a href=\"/web/20121007172955/https://www.nga.gov/collection/anZ3.htm\">Zie-Zor</a>, <a href=\"/web/20121007172955/https://www.nga.gov/collection/anZ4.htm\"><strong>next<br/>page</strong></a>]\n"
          ],
          "name": "stdout"
        }
      ]
    },
    {
      "metadata": {
        "id": "sRP_1ORlXl_M",
        "colab_type": "code",
        "colab": {
          "base_uri": "https://localhost:8080/",
          "height": 574
        },
        "outputId": "a42e718d-338b-4df3-eac2-952c1982d836"
      },
      "cell_type": "code",
      "source": [
        "for artist_name in artist_names:\n",
        "    print(artist_name)"
      ],
      "execution_count": 63,
      "outputs": [
        {
          "output_type": "stream",
          "text": [
            "<a href=\"/web/20121007172955/https://www.nga.gov/cgi-bin/tsearch?artistid=11630\">Zabaglia, Niccola</a>\n",
            "<a href=\"/web/20121007172955/https://www.nga.gov/cgi-bin/tsearch?artistid=34202\">Zaccone, Fabian</a>\n",
            "<a href=\"/web/20121007172955/https://www.nga.gov/cgi-bin/tsearch?artistid=3475\">Zadkine, Ossip</a>\n",
            "<a href=\"/web/20121007172955/https://www.nga.gov/cgi-bin/tsearch?artistid=25135\">Zaech, Bernhard</a>\n",
            "<a href=\"/web/20121007172955/https://www.nga.gov/cgi-bin/tsearch?artistid=2298\">Zagar, Jacob</a>\n",
            "<a href=\"/web/20121007172955/https://www.nga.gov/cgi-bin/tsearch?artistid=23988\">Zagroba, Idalia</a>\n",
            "<a href=\"/web/20121007172955/https://www.nga.gov/cgi-bin/tsearch?artistid=8232\">Zaidenberg, A.</a>\n",
            "<a href=\"/web/20121007172955/https://www.nga.gov/cgi-bin/tsearch?artistid=34154\">Zaidenberg, Arthur</a>\n",
            "<a href=\"/web/20121007172955/https://www.nga.gov/cgi-bin/tsearch?artistid=4910\">Zaisinger, Matthäus</a>\n",
            "<a href=\"/web/20121007172955/https://www.nga.gov/cgi-bin/tsearch?artistid=3450\">Zajac, Jack</a>\n",
            "<a href=\"/web/20121007172955/https://www.nga.gov/cgi-bin/tsearch?artistid=1986\">Zak, Eugène</a>\n",
            "<a href=\"/web/20121007172955/https://www.nga.gov/cgi-bin/tsearch?artistid=3451\">Zakharov, Gurii Fillipovich</a>\n",
            "<a href=\"/web/20121007172955/https://www.nga.gov/cgi-bin/tsearch?artistid=20099\">Zakowortny, Igor</a>\n",
            "<a href=\"/web/20121007172955/https://www.nga.gov/cgi-bin/tsearch?artistid=3452\">Zalce, Alfredo</a>\n",
            "<a href=\"/web/20121007172955/https://www.nga.gov/cgi-bin/tsearch?artistid=34309\">Zalopany, Michele</a>\n",
            "<a href=\"/web/20121007172955/https://www.nga.gov/cgi-bin/tsearch?artistid=27191\">Zammiello, Craig</a>\n",
            "<a href=\"/web/20121007172955/https://www.nga.gov/cgi-bin/tsearch?artistid=5846\">Zammitt, Norman</a>\n",
            "<a href=\"/web/20121007172955/https://www.nga.gov/cgi-bin/tsearch?artistid=3941\">Zampieri, Domenico</a>\n",
            "<a href=\"/web/20121007172955/https://www.nga.gov/cgi-bin/tsearch?artistid=3941\">Zampieri, called Domenichino, Domenico</a>\n",
            "<a href=\"/web/20121007172955/https://www.nga.gov/cgi-bin/tsearch?artistid=3453\">Zanartú, Enrique Antunez</a>\n",
            "<a href=\"/web/20121007172955/https://www.nga.gov/cgi-bin/tsearch?artistid=35173\">Zanchi, Antonio</a>\n",
            "<a href=\"/web/20121007172955/https://www.nga.gov/cgi-bin/tsearch?artistid=11133\">Zanetti, Anton Maria</a>\n",
            "<a href=\"/web/20121007172955/https://www.nga.gov/cgi-bin/tsearch?artistid=3455\">Zanetti Borzino, Leopoldina</a>\n",
            "<a href=\"/web/20121007172955/https://www.nga.gov/cgi-bin/tsearch?artistid=3454\">Zanetti I, Antonio Maria, conte</a>\n",
            "<a href=\"/web/20121007172955/https://www.nga.gov/cgi-bin/tsearch?artistid=961\">Zanguidi, Jacopo</a>\n",
            "<a href=\"/web/20121007172955/https://www.nga.gov/cgi-bin/tsearch?artistid=11597\">Zanini, Giuseppe</a>\n",
            "<a href=\"/web/20121007172955/https://www.nga.gov/cgi-bin/tsearch?artistid=11597\">Zanini-Viola, Giuseppe</a>\n",
            "<a href=\"/web/20121007172955/https://www.nga.gov/cgi-bin/tsearch?artistid=11631\">Zanotti, Giampietro</a>\n",
            "<a href=\"/web/20121007172955/https://www.nga.gov/cgi-bin/tsearch?artistid=3427\">Zao Wou-Ki</a>\n",
            "<a href=\"/web/20121007172955/https://www.nga.gov/collection/anZ2.htm\">Zas-Zie</a>\n",
            "<a href=\"/web/20121007172955/https://www.nga.gov/collection/anZ3.htm\">Zie-Zor</a>\n",
            "<a href=\"/web/20121007172955/https://www.nga.gov/collection/anZ4.htm\"><strong>next<br/>page</strong></a>\n"
          ],
          "name": "stdout"
        }
      ]
    },
    {
      "metadata": {
        "id": "FlQZq7u_YjRQ",
        "colab_type": "code",
        "colab": {
          "base_uri": "https://localhost:8080/",
          "height": 554
        },
        "outputId": "7476d8ba-5a8b-4092-eeee-f6095786dd65"
      },
      "cell_type": "code",
      "source": [
        "#.text gets you the text inside of an html element\n",
        "for artist_name in artist_names:\n",
        "    print(artist_name.text) "
      ],
      "execution_count": 50,
      "outputs": [
        {
          "output_type": "stream",
          "text": [
            "Zabaglia, Niccola\n",
            "Zaccone, Fabian\n",
            "Zadkine, Ossip\n",
            "Zaech, Bernhard\n",
            "Zagar, Jacob\n",
            "Zagroba, Idalia\n",
            "Zaidenberg, A.\n",
            "Zaidenberg, Arthur\n",
            "Zaisinger, Matthäus\n",
            "Zajac, Jack\n",
            "Zak, Eugène\n",
            "Zakharov, Gurii Fillipovich\n",
            "Zakowortny, Igor\n",
            "Zalce, Alfredo\n",
            "Zalopany, Michele\n",
            "Zammiello, Craig\n",
            "Zammitt, Norman\n",
            "Zampieri, Domenico\n",
            "Zampieri, called Domenichino, Domenico\n",
            "Zanartú, Enrique Antunez\n",
            "Zanchi, Antonio\n",
            "Zanetti, Anton Maria\n",
            "Zanetti Borzino, Leopoldina\n",
            "Zanetti I, Antonio Maria, conte\n",
            "Zanguidi, Jacopo\n",
            "Zanini, Giuseppe\n",
            "Zanini-Viola, Giuseppe\n",
            "Zanotti, Giampietro\n",
            "Zao Wou-Ki\n",
            "Zas-Zie\n",
            "Zie-Zor\n",
            "nextpage\n"
          ],
          "name": "stdout"
        }
      ]
    },
    {
      "metadata": {
        "id": "IvbvwaK7Yq_O",
        "colab_type": "code",
        "colab": {
          "base_uri": "https://localhost:8080/",
          "height": 212
        },
        "outputId": "7c1862e8-b7ab-4964-abce-cae87c362cb8"
      },
      "cell_type": "code",
      "source": [
        "artists = []\n",
        "for artist_name in artist_names:\n",
        "    artists.append(artist_name.text)\n",
        "    \n",
        "import pandas as pd\n",
        "\n",
        "df = pd.DataFrame({'full_name': artists})\n",
        "print(df.shape)\n",
        "df.head()"
      ],
      "execution_count": 53,
      "outputs": [
        {
          "output_type": "stream",
          "text": [
            "(32, 1)\n"
          ],
          "name": "stdout"
        },
        {
          "output_type": "execute_result",
          "data": {
            "text/html": [
              "<div>\n",
              "<style scoped>\n",
              "    .dataframe tbody tr th:only-of-type {\n",
              "        vertical-align: middle;\n",
              "    }\n",
              "\n",
              "    .dataframe tbody tr th {\n",
              "        vertical-align: top;\n",
              "    }\n",
              "\n",
              "    .dataframe thead th {\n",
              "        text-align: right;\n",
              "    }\n",
              "</style>\n",
              "<table border=\"1\" class=\"dataframe\">\n",
              "  <thead>\n",
              "    <tr style=\"text-align: right;\">\n",
              "      <th></th>\n",
              "      <th>full_name</th>\n",
              "    </tr>\n",
              "  </thead>\n",
              "  <tbody>\n",
              "    <tr>\n",
              "      <th>0</th>\n",
              "      <td>Zabaglia, Niccola</td>\n",
              "    </tr>\n",
              "    <tr>\n",
              "      <th>1</th>\n",
              "      <td>Zaccone, Fabian</td>\n",
              "    </tr>\n",
              "    <tr>\n",
              "      <th>2</th>\n",
              "      <td>Zadkine, Ossip</td>\n",
              "    </tr>\n",
              "    <tr>\n",
              "      <th>3</th>\n",
              "      <td>Zaech, Bernhard</td>\n",
              "    </tr>\n",
              "    <tr>\n",
              "      <th>4</th>\n",
              "      <td>Zagar, Jacob</td>\n",
              "    </tr>\n",
              "  </tbody>\n",
              "</table>\n",
              "</div>"
            ],
            "text/plain": [
              "           full_name\n",
              "0  Zabaglia, Niccola\n",
              "1    Zaccone, Fabian\n",
              "2     Zadkine, Ossip\n",
              "3    Zaech, Bernhard\n",
              "4       Zagar, Jacob"
            ]
          },
          "metadata": {
            "tags": []
          },
          "execution_count": 53
        }
      ]
    },
    {
      "metadata": {
        "id": "Mx5snbhqY86i",
        "colab_type": "code",
        "colab": {
          "base_uri": "https://localhost:8080/",
          "height": 965
        },
        "outputId": "20fbcd77-5066-49a5-abff-9bad81a8a41d"
      },
      "cell_type": "code",
      "source": [
        "df['first_name'] = df['full_name'].str.extract('(\\w+$)', expand=True)\n",
        "df.head(31)"
      ],
      "execution_count": 55,
      "outputs": [
        {
          "output_type": "execute_result",
          "data": {
            "text/html": [
              "<div>\n",
              "<style scoped>\n",
              "    .dataframe tbody tr th:only-of-type {\n",
              "        vertical-align: middle;\n",
              "    }\n",
              "\n",
              "    .dataframe tbody tr th {\n",
              "        vertical-align: top;\n",
              "    }\n",
              "\n",
              "    .dataframe thead th {\n",
              "        text-align: right;\n",
              "    }\n",
              "</style>\n",
              "<table border=\"1\" class=\"dataframe\">\n",
              "  <thead>\n",
              "    <tr style=\"text-align: right;\">\n",
              "      <th></th>\n",
              "      <th>full_name</th>\n",
              "      <th>first_name</th>\n",
              "    </tr>\n",
              "  </thead>\n",
              "  <tbody>\n",
              "    <tr>\n",
              "      <th>0</th>\n",
              "      <td>Zabaglia, Niccola</td>\n",
              "      <td>Niccola</td>\n",
              "    </tr>\n",
              "    <tr>\n",
              "      <th>1</th>\n",
              "      <td>Zaccone, Fabian</td>\n",
              "      <td>Fabian</td>\n",
              "    </tr>\n",
              "    <tr>\n",
              "      <th>2</th>\n",
              "      <td>Zadkine, Ossip</td>\n",
              "      <td>Ossip</td>\n",
              "    </tr>\n",
              "    <tr>\n",
              "      <th>3</th>\n",
              "      <td>Zaech, Bernhard</td>\n",
              "      <td>Bernhard</td>\n",
              "    </tr>\n",
              "    <tr>\n",
              "      <th>4</th>\n",
              "      <td>Zagar, Jacob</td>\n",
              "      <td>Jacob</td>\n",
              "    </tr>\n",
              "    <tr>\n",
              "      <th>5</th>\n",
              "      <td>Zagroba, Idalia</td>\n",
              "      <td>Idalia</td>\n",
              "    </tr>\n",
              "    <tr>\n",
              "      <th>6</th>\n",
              "      <td>Zaidenberg, A.</td>\n",
              "      <td>NaN</td>\n",
              "    </tr>\n",
              "    <tr>\n",
              "      <th>7</th>\n",
              "      <td>Zaidenberg, Arthur</td>\n",
              "      <td>Arthur</td>\n",
              "    </tr>\n",
              "    <tr>\n",
              "      <th>8</th>\n",
              "      <td>Zaisinger, Matthäus</td>\n",
              "      <td>Matthäus</td>\n",
              "    </tr>\n",
              "    <tr>\n",
              "      <th>9</th>\n",
              "      <td>Zajac, Jack</td>\n",
              "      <td>Jack</td>\n",
              "    </tr>\n",
              "    <tr>\n",
              "      <th>10</th>\n",
              "      <td>Zak, Eugène</td>\n",
              "      <td>Eugène</td>\n",
              "    </tr>\n",
              "    <tr>\n",
              "      <th>11</th>\n",
              "      <td>Zakharov, Gurii Fillipovich</td>\n",
              "      <td>Fillipovich</td>\n",
              "    </tr>\n",
              "    <tr>\n",
              "      <th>12</th>\n",
              "      <td>Zakowortny, Igor</td>\n",
              "      <td>Igor</td>\n",
              "    </tr>\n",
              "    <tr>\n",
              "      <th>13</th>\n",
              "      <td>Zalce, Alfredo</td>\n",
              "      <td>Alfredo</td>\n",
              "    </tr>\n",
              "    <tr>\n",
              "      <th>14</th>\n",
              "      <td>Zalopany, Michele</td>\n",
              "      <td>Michele</td>\n",
              "    </tr>\n",
              "    <tr>\n",
              "      <th>15</th>\n",
              "      <td>Zammiello, Craig</td>\n",
              "      <td>Craig</td>\n",
              "    </tr>\n",
              "    <tr>\n",
              "      <th>16</th>\n",
              "      <td>Zammitt, Norman</td>\n",
              "      <td>Norman</td>\n",
              "    </tr>\n",
              "    <tr>\n",
              "      <th>17</th>\n",
              "      <td>Zampieri, Domenico</td>\n",
              "      <td>Domenico</td>\n",
              "    </tr>\n",
              "    <tr>\n",
              "      <th>18</th>\n",
              "      <td>Zampieri, called Domenichino, Domenico</td>\n",
              "      <td>Domenico</td>\n",
              "    </tr>\n",
              "    <tr>\n",
              "      <th>19</th>\n",
              "      <td>Zanartú, Enrique Antunez</td>\n",
              "      <td>Antunez</td>\n",
              "    </tr>\n",
              "    <tr>\n",
              "      <th>20</th>\n",
              "      <td>Zanchi, Antonio</td>\n",
              "      <td>Antonio</td>\n",
              "    </tr>\n",
              "    <tr>\n",
              "      <th>21</th>\n",
              "      <td>Zanetti, Anton Maria</td>\n",
              "      <td>Maria</td>\n",
              "    </tr>\n",
              "    <tr>\n",
              "      <th>22</th>\n",
              "      <td>Zanetti Borzino, Leopoldina</td>\n",
              "      <td>Leopoldina</td>\n",
              "    </tr>\n",
              "    <tr>\n",
              "      <th>23</th>\n",
              "      <td>Zanetti I, Antonio Maria, conte</td>\n",
              "      <td>conte</td>\n",
              "    </tr>\n",
              "    <tr>\n",
              "      <th>24</th>\n",
              "      <td>Zanguidi, Jacopo</td>\n",
              "      <td>Jacopo</td>\n",
              "    </tr>\n",
              "    <tr>\n",
              "      <th>25</th>\n",
              "      <td>Zanini, Giuseppe</td>\n",
              "      <td>Giuseppe</td>\n",
              "    </tr>\n",
              "    <tr>\n",
              "      <th>26</th>\n",
              "      <td>Zanini-Viola, Giuseppe</td>\n",
              "      <td>Giuseppe</td>\n",
              "    </tr>\n",
              "    <tr>\n",
              "      <th>27</th>\n",
              "      <td>Zanotti, Giampietro</td>\n",
              "      <td>Giampietro</td>\n",
              "    </tr>\n",
              "    <tr>\n",
              "      <th>28</th>\n",
              "      <td>Zao Wou-Ki</td>\n",
              "      <td>Ki</td>\n",
              "    </tr>\n",
              "    <tr>\n",
              "      <th>29</th>\n",
              "      <td>Zas-Zie</td>\n",
              "      <td>Zie</td>\n",
              "    </tr>\n",
              "    <tr>\n",
              "      <th>30</th>\n",
              "      <td>Zie-Zor</td>\n",
              "      <td>Zor</td>\n",
              "    </tr>\n",
              "  </tbody>\n",
              "</table>\n",
              "</div>"
            ],
            "text/plain": [
              "                                 full_name   first_name\n",
              "0                        Zabaglia, Niccola      Niccola\n",
              "1                          Zaccone, Fabian       Fabian\n",
              "2                           Zadkine, Ossip        Ossip\n",
              "3                          Zaech, Bernhard     Bernhard\n",
              "4                             Zagar, Jacob        Jacob\n",
              "5                          Zagroba, Idalia       Idalia\n",
              "6                           Zaidenberg, A.          NaN\n",
              "7                       Zaidenberg, Arthur       Arthur\n",
              "8                      Zaisinger, Matthäus     Matthäus\n",
              "9                              Zajac, Jack         Jack\n",
              "10                             Zak, Eugène       Eugène\n",
              "11             Zakharov, Gurii Fillipovich  Fillipovich\n",
              "12                        Zakowortny, Igor         Igor\n",
              "13                          Zalce, Alfredo      Alfredo\n",
              "14                       Zalopany, Michele      Michele\n",
              "15                        Zammiello, Craig        Craig\n",
              "16                         Zammitt, Norman       Norman\n",
              "17                      Zampieri, Domenico     Domenico\n",
              "18  Zampieri, called Domenichino, Domenico     Domenico\n",
              "19                Zanartú, Enrique Antunez      Antunez\n",
              "20                         Zanchi, Antonio      Antonio\n",
              "21                    Zanetti, Anton Maria        Maria\n",
              "22             Zanetti Borzino, Leopoldina   Leopoldina\n",
              "23         Zanetti I, Antonio Maria, conte        conte\n",
              "24                        Zanguidi, Jacopo       Jacopo\n",
              "25                        Zanini, Giuseppe     Giuseppe\n",
              "26                  Zanini-Viola, Giuseppe     Giuseppe\n",
              "27                     Zanotti, Giampietro   Giampietro\n",
              "28                              Zao Wou-Ki           Ki\n",
              "29                                 Zas-Zie          Zie\n",
              "30                                 Zie-Zor          Zor"
            ]
          },
          "metadata": {
            "tags": []
          },
          "execution_count": 55
        }
      ]
    },
    {
      "metadata": {
        "id": "cUSvqPTD4jxH",
        "colab_type": "text"
      },
      "cell_type": "markdown",
      "source": [
        "![XKCD Regex](https://imgs.xkcd.com/comics/regular_expressions.png)"
      ]
    },
    {
      "metadata": {
        "id": "lsfW-X9vLPWZ",
        "colab_type": "text"
      },
      "cell_type": "markdown",
      "source": [
        "# Additional Resources:\n",
        "\n",
        "Python String Functions Overview:\n",
        "<https://realpython.com/python-strings/>\n",
        "\n",
        "Good Python String Overview:\n",
        "<https://automatetheboringstuff.com/chapter6/>\n",
        "\n",
        "Python Regex Overview:\n",
        "<https://regexone.com/references/python>\n",
        "\n",
        "Regex in Python with Corey Schafer:\n",
        "<https://www.youtube.com/watch?v=K8L6KVGG-7o&t=120s>\n",
        "\n",
        "Regex Practice:\n",
        "<https://regexone.com/>\n",
        "\n",
        "Breaking up a column into strings using regex in pandas\n",
        "<https://chrisalbon.com/python/data_wrangling/pandas_regex_to_create_columns/>\n",
        "\n",
        "Beautiful Soup Documentation:\n",
        "<https://www.crummy.com/software/BeautifulSoup/bs4/doc/>"
      ]
    }
  ]
}