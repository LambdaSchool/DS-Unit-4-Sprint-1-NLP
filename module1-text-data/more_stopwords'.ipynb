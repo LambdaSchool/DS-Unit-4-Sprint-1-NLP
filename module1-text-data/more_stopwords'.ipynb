{
 "cells": [
  {
   "cell_type": "code",
   "execution_count": 2,
   "metadata": {},
   "outputs": [
    {
     "name": "stdout",
     "output_type": "stream",
     "text": [
      "\"coffee\"\n",
      "is_stop: False\n",
      "is in set: True\n",
      "\n",
      "\"and\"\n",
      "is_stop: True\n",
      "is in set: True\n",
      "\n",
      "\"tea\"\n",
      "is_stop: False\n",
      "is in set: False\n",
      "\n"
     ]
    }
   ],
   "source": [
    "import spacy\n",
    " \n",
    "nlp = spacy.load(\"en_core_web_lg\") \n",
    "\n",
    "nlp.Defaults.stop_words.add(\"coffee\")\n",
    "\n",
    "doc = nlp('coffee and tea')\n",
    "for token in doc:\n",
    "    print(f'\"{token.lemma_}\"')\n",
    "    print(f'is_stop: {token.is_stop}')\n",
    "    print(f'is in set: {token.lemma_ in nlp.Defaults.stop_words}\\n')"
   ]
  },
  {
   "cell_type": "code",
   "execution_count": null,
   "metadata": {},
   "outputs": [],
   "source": []
  }
 ],
 "metadata": {
  "kernelspec": {
   "display_name": "U4-S1-NLP (Python3)",
   "language": "python",
   "name": "u4-s1-nlp"
  },
  "language_info": {
   "codemirror_mode": {
    "name": "ipython",
    "version": 3
   },
   "file_extension": ".py",
   "mimetype": "text/x-python",
   "name": "python",
   "nbconvert_exporter": "python",
   "pygments_lexer": "ipython3",
   "version": "3.7.3"
  }
 },
 "nbformat": 4,
 "nbformat_minor": 4
}
