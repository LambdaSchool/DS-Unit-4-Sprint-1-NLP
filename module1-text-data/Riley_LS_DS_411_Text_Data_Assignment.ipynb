{
 "cells": [
  {
   "cell_type": "markdown",
   "metadata": {},
   "source": [
    "<img align=\"left\" src=\"https://lever-client-logos.s3.amazonaws.com/864372b1-534c-480e-acd5-9711f850815c-1524247202159.png\" width=200>\n",
    "<br></br>\n",
    "<br></br>\n",
    "\n",
    "# Natural Language Processing (NLP)\n",
    "## *Data Science Unit 4 Sprint 1 Assignment 1*\n",
    "\n",
    "Your goal in this assignment: find the attributes of the best & worst coffee shops in the dataset. The text is fairly raw: dates in the review, extra words in the `star_rating` column, etc. You'll probably want to clean that stuff up for a better analysis. \n",
    "\n",
    "Analyze the corpus of text using text visualizations of token frequency. Try cleaning the data as much as possible. Try the following techniques: \n",
    "- Lemmatization\n",
    "- Custom stopword removal\n",
    "\n",
    "Keep in mind the attributes of good tokens. Once you have a solid baseline, layer in the star rating in your visualization(s). Key part of this assignment - produce a write-up of the attributes of the best and worst coffee shops. Based on your analysis, what makes the best the best and the worst the worst. Use graphs and numbesr from your analysis to support your conclusions. There should be plenty of markdown cells! :coffee:"
   ]
  },
  {
   "cell_type": "code",
   "execution_count": 1,
   "metadata": {},
   "outputs": [
    {
     "data": {
      "image/jpeg": "[encoded data removed]",
      "text/html": [
       "\n",
       "        <iframe\n",
       "            width=\"400\"\n",
       "            height=\"300\"\n",
       "            src=\"https://www.youtube.com/embed/Jml7NVYm8cs\"\n",
       "            frameborder=\"0\"\n",
       "            allowfullscreen\n",
       "        ></iframe>\n",
       "        "
      ],
      "text/plain": [
       "<IPython.lib.display.YouTubeVideo at 0x20574c0ff28>"
      ]
     },
     "execution_count": 1,
     "metadata": {},
     "output_type": "execute_result"
    }
   ],
   "source": [
    "from IPython.display import YouTubeVideo\n",
    "\n",
    "YouTubeVideo('Jml7NVYm8cs')"
   ]
  },
  {
   "cell_type": "code",
   "execution_count": null,
   "metadata": {},
   "outputs": [],
   "source": [
    "%pwd"
   ]
  },
  {
   "cell_type": "code",
   "execution_count": 19,
   "metadata": {},
   "outputs": [],
   "source": [
    "import spacy\n",
    "from spacy.tokenizer import Tokenizer\n",
    "from collections import Counter"
   ]
  },
  {
   "cell_type": "code",
   "execution_count": 2,
   "metadata": {},
   "outputs": [
    {
     "data": {
      "text/html": [
       "<div>\n",
       "<style scoped>\n",
       "    .dataframe tbody tr th:only-of-type {\n",
       "        vertical-align: middle;\n",
       "    }\n",
       "\n",
       "    .dataframe tbody tr th {\n",
       "        vertical-align: top;\n",
       "    }\n",
       "\n",
       "    .dataframe thead th {\n",
       "        text-align: right;\n",
       "    }\n",
       "</style>\n",
       "<table border=\"1\" class=\"dataframe\">\n",
       "  <thead>\n",
       "    <tr style=\"text-align: right;\">\n",
       "      <th></th>\n",
       "      <th>coffee_shop_name</th>\n",
       "      <th>full_review_text</th>\n",
       "      <th>star_rating</th>\n",
       "    </tr>\n",
       "  </thead>\n",
       "  <tbody>\n",
       "    <tr>\n",
       "      <th>0</th>\n",
       "      <td>The Factory - Cafe With a Soul</td>\n",
       "      <td>11/25/2016 1 check-in Love love loved the atm...</td>\n",
       "      <td>5.0 star rating</td>\n",
       "    </tr>\n",
       "    <tr>\n",
       "      <th>1</th>\n",
       "      <td>The Factory - Cafe With a Soul</td>\n",
       "      <td>12/2/2016 Listed in Date Night: Austin, Ambia...</td>\n",
       "      <td>4.0 star rating</td>\n",
       "    </tr>\n",
       "    <tr>\n",
       "      <th>2</th>\n",
       "      <td>The Factory - Cafe With a Soul</td>\n",
       "      <td>11/30/2016 1 check-in Listed in Brunch Spots ...</td>\n",
       "      <td>4.0 star rating</td>\n",
       "    </tr>\n",
       "    <tr>\n",
       "      <th>3</th>\n",
       "      <td>The Factory - Cafe With a Soul</td>\n",
       "      <td>11/25/2016 Very cool decor! Good drinks Nice ...</td>\n",
       "      <td>2.0 star rating</td>\n",
       "    </tr>\n",
       "    <tr>\n",
       "      <th>4</th>\n",
       "      <td>The Factory - Cafe With a Soul</td>\n",
       "      <td>12/3/2016 1 check-in They are located within ...</td>\n",
       "      <td>4.0 star rating</td>\n",
       "    </tr>\n",
       "  </tbody>\n",
       "</table>\n",
       "</div>"
      ],
      "text/plain": [
       "                  coffee_shop_name  \\\n",
       "0  The Factory - Cafe With a Soul    \n",
       "1  The Factory - Cafe With a Soul    \n",
       "2  The Factory - Cafe With a Soul    \n",
       "3  The Factory - Cafe With a Soul    \n",
       "4  The Factory - Cafe With a Soul    \n",
       "\n",
       "                                    full_review_text        star_rating  \n",
       "0   11/25/2016 1 check-in Love love loved the atm...   5.0 star rating   \n",
       "1   12/2/2016 Listed in Date Night: Austin, Ambia...   4.0 star rating   \n",
       "2   11/30/2016 1 check-in Listed in Brunch Spots ...   4.0 star rating   \n",
       "3   11/25/2016 Very cool decor! Good drinks Nice ...   2.0 star rating   \n",
       "4   12/3/2016 1 check-in They are located within ...   4.0 star rating   "
      ]
     },
     "execution_count": 2,
     "metadata": {},
     "output_type": "execute_result"
    }
   ],
   "source": [
    "import pandas as pd\n",
    "\n",
    "url = \"https://raw.githubusercontent.com/LambdaSchool/DS-Unit-4-Sprint-1-NLP/master/module1-text-data/data/yelp_coffeeshop_review_data.csv\"\n",
    "\n",
    "shops = pd.read_csv(url)\n",
    "shops.head()"
   ]
  },
  {
   "cell_type": "code",
   "execution_count": 3,
   "metadata": {},
   "outputs": [],
   "source": [
    "# first i will explore the data"
   ]
  },
  {
   "cell_type": "code",
   "execution_count": 4,
   "metadata": {},
   "outputs": [
    {
     "data": {
      "text/plain": [
       "(7616, 3)"
      ]
     },
     "execution_count": 4,
     "metadata": {},
     "output_type": "execute_result"
    }
   ],
   "source": [
    "shops.shape"
   ]
  },
  {
   "cell_type": "code",
   "execution_count": 5,
   "metadata": {},
   "outputs": [
    {
     "data": {
      "text/plain": [
       "' 12/2/2016 Listed in Date Night: Austin, Ambiance in Austin BEAUTIFUL!!!! Love the ambiance! Instagram-worthy!!!  Definitely $$$, so be prepared. This is gonna cost you a pretty penny :) Waffle dessert was just decent...nothing to rave about.  But, will probably be back just to be somewhere unique and nice. '"
      ]
     },
     "execution_count": 5,
     "metadata": {},
     "output_type": "execute_result"
    }
   ],
   "source": [
    "shops.iloc[1].full_review_text"
   ]
  },
  {
   "cell_type": "code",
   "execution_count": 6,
   "metadata": {},
   "outputs": [
    {
     "data": {
      "text/plain": [
       "' 11/25/2016 Very cool decor! Good drinks Nice seating  However...  Just about everything is overpriced. $1.50 extra for 3 ounces of Almond Milk in a cortado. No WiFi Music is a bit loud and the mix is odd.  Pleasant French oldies followed by loud techno. Several tables were dirty when we got there. Service is average.  It feels like a Los Angeles coffee shot that is out of place. '"
      ]
     },
     "execution_count": 6,
     "metadata": {},
     "output_type": "execute_result"
    }
   ],
   "source": [
    "shops.iloc[3].full_review_text"
   ]
  },
  {
   "cell_type": "code",
   "execution_count": 7,
   "metadata": {},
   "outputs": [
    {
     "data": {
      "text/plain": [
       "array([' 5.0 star rating ', ' 4.0 star rating ', ' 2.0 star rating ',\n",
       "       ' 3.0 star rating ', ' 1.0 star rating '], dtype=object)"
      ]
     },
     "execution_count": 7,
     "metadata": {},
     "output_type": "execute_result"
    }
   ],
   "source": [
    "shops[\"star_rating\"].unique()"
   ]
  },
  {
   "cell_type": "code",
   "execution_count": 8,
   "metadata": {},
   "outputs": [
    {
     "data": {
      "text/plain": [
       "array(['The Factory - Cafe With a Soul ',\n",
       "       'The Marvelous Vintage Tea Party Co. ', 'Vintage Heart Coffee ',\n",
       "       'Fleet Coffee ', 'Mozart’s Coffee Roasters ',\n",
       "       'Summermoon Coffee Bar ', 'Monkey Nest Coffee ',\n",
       "       'Apanas Coffee & Beer ', 'Corona Coffee ', 'Café Crème ',\n",
       "       'Brian’s Brew ', 'Legend Coffee ', 'Venezia Italian Gelato ',\n",
       "       'Epoch Coffee ', 'Houndstooth Coffee ', 'Caffé Medici ',\n",
       "       'Flitch Coffee ', 'Caffe Medici ', 'Holy Grounds ',\n",
       "       'Figure 8 Coffee Purveyors ', 'Mañana Coffee & Juice ',\n",
       "       'Summer Moon Coffee Bar ', 'Fat Cats Organic Coffee And Dessert ',\n",
       "       'Flat Track Coffee ', 'Mary’s Cafe ', 'Anderson’s Coffee Company ',\n",
       "       'Flightpath Coffeehouse ', 'Third Coast Coffee Roasting Company ',\n",
       "       'Bennu Coffee ', 'Dolce Neve ', 'Thunderbird Coffee ', 'Halcyon ',\n",
       "       'Cherrywood Coffeehouse ', 'Jo’s Coffee ',\n",
       "       'Arturo’s Underground Cafe ', 'Patika ', 'Cenote ',\n",
       "       'The Hideout Coffeehouse ', 'Lucky Lab Coffee ', 'Cream Whiskers ',\n",
       "       'Lola Savannah Coffee Lounge ', 'Seventh Flag Coffee Co ',\n",
       "       'Irie Bean Coffee Bar ', 'Sa-Ten ', 'Tea Haus ',\n",
       "       'Friends & Neighbors ', 'Sorrento’s Coffee ', 'Elixer Coffee ',\n",
       "       'Cafe Ruckus ', 'The Buzz Mill ', 'Once Over Coffee Bar ', 'TOMS ',\n",
       "       'Genuine Joe ', 'Cuvée Coffee Bar ', 'Radio Coffee & Beer ',\n",
       "       'Dominican Joe ', 'Trianon Coffee ', 'Picnik Austin ',\n",
       "       'Kowabunga Coffee ', 'Kick Butt Coffee Music & Booze ',\n",
       "       'La Tazza Fresca ', 'Stinson’s ', 'Sister Coffee ', 'Pacha ',\n",
       "       'Strange Brew, Austin Coffee ', 'Quack’s 43rd Street Bakery ',\n",
       "       'Juan Pelota ', 'Alta’s Cafe ', 'Teo ', 'La Patisserie ',\n",
       "       'My Sweet Austin ', 'Lola Savannah Coffee Downtown ',\n",
       "       'Tuscany At 360 ', 'Café Java ', 'Russell’s Bakery ',\n",
       "       'Emerald Tavern Games & Cafe ', 'Live Oak Market ',\n",
       "       'Hot Mama’s Cafe ', 'The Steeping Room '], dtype=object)"
      ]
     },
     "execution_count": 8,
     "metadata": {},
     "output_type": "execute_result"
    }
   ],
   "source": [
    "\n",
    "shops[\"coffee_shop_name\"].unique()"
   ]
  },
  {
   "cell_type": "code",
   "execution_count": 9,
   "metadata": {},
   "outputs": [],
   "source": [
    "# Make copy of data\n",
    "\n",
    "shopsc = shops"
   ]
  },
  {
   "cell_type": "code",
   "execution_count": 10,
   "metadata": {},
   "outputs": [],
   "source": [
    "# Lets Clean the data"
   ]
  },
  {
   "cell_type": "code",
   "execution_count": 44,
   "metadata": {},
   "outputs": [],
   "source": [
    "# remove extra words in star_rating\n",
    "\n",
    "shopsc[\"star_rating\"] = shopsc[\"star_rating\"].str.replace(' star rating', '')"
   ]
  },
  {
   "cell_type": "code",
   "execution_count": 45,
   "metadata": {},
   "outputs": [],
   "source": [
    "# cast ratings as floats\n",
    "\n",
    "shops['star_rating'] = shops['star_rating'].astype(float)"
   ]
  },
  {
   "cell_type": "code",
   "execution_count": 11,
   "metadata": {},
   "outputs": [],
   "source": [
    "# seperate the date from the review\n",
    "\n",
    "shopsc['date'] = shopsc['full_review_text'].str.split(\" \")[0][1]"
   ]
  },
  {
   "cell_type": "code",
   "execution_count": 34,
   "metadata": {},
   "outputs": [
    {
     "data": {
      "text/html": [
       "<div>\n",
       "<style scoped>\n",
       "    .dataframe tbody tr th:only-of-type {\n",
       "        vertical-align: middle;\n",
       "    }\n",
       "\n",
       "    .dataframe tbody tr th {\n",
       "        vertical-align: top;\n",
       "    }\n",
       "\n",
       "    .dataframe thead th {\n",
       "        text-align: right;\n",
       "    }\n",
       "</style>\n",
       "<table border=\"1\" class=\"dataframe\">\n",
       "  <thead>\n",
       "    <tr style=\"text-align: right;\">\n",
       "      <th></th>\n",
       "      <th>coffee_shop_name</th>\n",
       "      <th>full_review_text</th>\n",
       "      <th>star_rating</th>\n",
       "      <th>date</th>\n",
       "      <th>tokens</th>\n",
       "      <th>lemmas</th>\n",
       "    </tr>\n",
       "  </thead>\n",
       "  <tbody>\n",
       "    <tr>\n",
       "      <th>0</th>\n",
       "      <td>The Factory - Cafe With a Soul</td>\n",
       "      <td>checkin Love love loved the atmosphere Ever...</td>\n",
       "      <td>5.0</td>\n",
       "      <td>11/25/2016</td>\n",
       "      <td>[   , checkin, love, love, loved, atmosphere, ...</td>\n",
       "      <td>[  , checkin, love, love, love, atmosphere, sh...</td>\n",
       "    </tr>\n",
       "    <tr>\n",
       "      <th>1</th>\n",
       "      <td>The Factory - Cafe With a Soul</td>\n",
       "      <td>Listed in Date Night Austin Ambiance in Aust...</td>\n",
       "      <td>4.0</td>\n",
       "      <td>11/25/2016</td>\n",
       "      <td>[listed, night, beautiful, love, definitely, p...</td>\n",
       "      <td>[list, night, beautiful, love, definitely, pre...</td>\n",
       "    </tr>\n",
       "    <tr>\n",
       "      <th>2</th>\n",
       "      <td>The Factory - Cafe With a Soul</td>\n",
       "      <td>checkin Listed in Brunch Spots I loved the ...</td>\n",
       "      <td>4.0</td>\n",
       "      <td>11/25/2016</td>\n",
       "      <td>[   , checkin, listed, loved, decor, doesnt, w...</td>\n",
       "      <td>[  , checkin, list, love, decor, do, not, want...</td>\n",
       "    </tr>\n",
       "    <tr>\n",
       "      <th>3</th>\n",
       "      <td>The Factory - Cafe With a Soul</td>\n",
       "      <td>Very cool decor Good drinks Nice seating  Ho...</td>\n",
       "      <td>2.0</td>\n",
       "      <td>11/25/2016</td>\n",
       "      <td>[cool, decor, good, drinks, nice, seating, alm...</td>\n",
       "      <td>[cool, decor, good, drink, nice, seating, almo...</td>\n",
       "    </tr>\n",
       "    <tr>\n",
       "      <th>4</th>\n",
       "      <td>The Factory - Cafe With a Soul</td>\n",
       "      <td>checkin They are located within the Northcr...</td>\n",
       "      <td>4.0</td>\n",
       "      <td>11/25/2016</td>\n",
       "      <td>[   , checkin, plenty, parking, loved, friendl...</td>\n",
       "      <td>[  , checkin, plenty, parking, love, friendly,...</td>\n",
       "    </tr>\n",
       "  </tbody>\n",
       "</table>\n",
       "</div>"
      ],
      "text/plain": [
       "                  coffee_shop_name  \\\n",
       "0  The Factory - Cafe With a Soul    \n",
       "1  The Factory - Cafe With a Soul    \n",
       "2  The Factory - Cafe With a Soul    \n",
       "3  The Factory - Cafe With a Soul    \n",
       "4  The Factory - Cafe With a Soul    \n",
       "\n",
       "                                    full_review_text star_rating        date  \\\n",
       "0     checkin Love love loved the atmosphere Ever...        5.0   11/25/2016   \n",
       "1    Listed in Date Night Austin Ambiance in Aust...        4.0   11/25/2016   \n",
       "2     checkin Listed in Brunch Spots I loved the ...        4.0   11/25/2016   \n",
       "3    Very cool decor Good drinks Nice seating  Ho...        2.0   11/25/2016   \n",
       "4     checkin They are located within the Northcr...        4.0   11/25/2016   \n",
       "\n",
       "                                              tokens  \\\n",
       "0  [   , checkin, love, love, loved, atmosphere, ...   \n",
       "1  [listed, night, beautiful, love, definitely, p...   \n",
       "2  [   , checkin, listed, loved, decor, doesnt, w...   \n",
       "3  [cool, decor, good, drinks, nice, seating, alm...   \n",
       "4  [   , checkin, plenty, parking, loved, friendl...   \n",
       "\n",
       "                                              lemmas  \n",
       "0  [  , checkin, love, love, love, atmosphere, sh...  \n",
       "1  [list, night, beautiful, love, definitely, pre...  \n",
       "2  [  , checkin, list, love, decor, do, not, want...  \n",
       "3  [cool, decor, good, drink, nice, seating, almo...  \n",
       "4  [  , checkin, plenty, parking, love, friendly,...  "
      ]
     },
     "execution_count": 34,
     "metadata": {},
     "output_type": "execute_result"
    }
   ],
   "source": [
    "# Check if date removal worked\n",
    "\n",
    "shopsc.head(5)"
   ]
  },
  {
   "cell_type": "code",
   "execution_count": 13,
   "metadata": {},
   "outputs": [],
   "source": [
    "#Remove dates along with other numbers and such nonsense\n",
    "import re\n",
    "\n",
    "shopsc['full_review_text'] = shopsc['full_review_text'].apply(lambda x: re.sub(r'[^a-zA-Z ]', '', x))"
   ]
  },
  {
   "cell_type": "code",
   "execution_count": 38,
   "metadata": {},
   "outputs": [
    {
     "data": {
      "text/html": [
       "<div>\n",
       "<style scoped>\n",
       "    .dataframe tbody tr th:only-of-type {\n",
       "        vertical-align: middle;\n",
       "    }\n",
       "\n",
       "    .dataframe tbody tr th {\n",
       "        vertical-align: top;\n",
       "    }\n",
       "\n",
       "    .dataframe thead th {\n",
       "        text-align: right;\n",
       "    }\n",
       "</style>\n",
       "<table border=\"1\" class=\"dataframe\">\n",
       "  <thead>\n",
       "    <tr style=\"text-align: right;\">\n",
       "      <th></th>\n",
       "      <th>coffee_shop_name</th>\n",
       "      <th>full_review_text</th>\n",
       "      <th>star_rating</th>\n",
       "      <th>date</th>\n",
       "      <th>tokens</th>\n",
       "      <th>lemmas</th>\n",
       "    </tr>\n",
       "  </thead>\n",
       "  <tbody>\n",
       "    <tr>\n",
       "      <th>0</th>\n",
       "      <td>The Factory - Cafe With a Soul</td>\n",
       "      <td>checkin Love love loved the atmosphere Ever...</td>\n",
       "      <td>5.0</td>\n",
       "      <td>11/25/2016</td>\n",
       "      <td>[   , checkin, love, love, loved, atmosphere, ...</td>\n",
       "      <td>[  , checkin, love, love, love, atmosphere, sh...</td>\n",
       "    </tr>\n",
       "    <tr>\n",
       "      <th>1</th>\n",
       "      <td>The Factory - Cafe With a Soul</td>\n",
       "      <td>Listed in Date Night Austin Ambiance in Aust...</td>\n",
       "      <td>4.0</td>\n",
       "      <td>11/25/2016</td>\n",
       "      <td>[listed, night, beautiful, love, definitely, p...</td>\n",
       "      <td>[list, night, beautiful, love, definitely, pre...</td>\n",
       "    </tr>\n",
       "    <tr>\n",
       "      <th>2</th>\n",
       "      <td>The Factory - Cafe With a Soul</td>\n",
       "      <td>checkin Listed in Brunch Spots I loved the ...</td>\n",
       "      <td>4.0</td>\n",
       "      <td>11/25/2016</td>\n",
       "      <td>[   , checkin, listed, loved, decor, doesnt, w...</td>\n",
       "      <td>[  , checkin, list, love, decor, do, not, want...</td>\n",
       "    </tr>\n",
       "    <tr>\n",
       "      <th>3</th>\n",
       "      <td>The Factory - Cafe With a Soul</td>\n",
       "      <td>Very cool decor Good drinks Nice seating  Ho...</td>\n",
       "      <td>2.0</td>\n",
       "      <td>11/25/2016</td>\n",
       "      <td>[cool, decor, good, drinks, nice, seating, alm...</td>\n",
       "      <td>[cool, decor, good, drink, nice, seating, almo...</td>\n",
       "    </tr>\n",
       "    <tr>\n",
       "      <th>4</th>\n",
       "      <td>The Factory - Cafe With a Soul</td>\n",
       "      <td>checkin They are located within the Northcr...</td>\n",
       "      <td>4.0</td>\n",
       "      <td>11/25/2016</td>\n",
       "      <td>[   , checkin, plenty, parking, loved, friendl...</td>\n",
       "      <td>[  , checkin, plenty, parking, love, friendly,...</td>\n",
       "    </tr>\n",
       "  </tbody>\n",
       "</table>\n",
       "</div>"
      ],
      "text/plain": [
       "                  coffee_shop_name  \\\n",
       "0  The Factory - Cafe With a Soul    \n",
       "1  The Factory - Cafe With a Soul    \n",
       "2  The Factory - Cafe With a Soul    \n",
       "3  The Factory - Cafe With a Soul    \n",
       "4  The Factory - Cafe With a Soul    \n",
       "\n",
       "                                    full_review_text star_rating        date  \\\n",
       "0     checkin Love love loved the atmosphere Ever...        5.0   11/25/2016   \n",
       "1    Listed in Date Night Austin Ambiance in Aust...        4.0   11/25/2016   \n",
       "2     checkin Listed in Brunch Spots I loved the ...        4.0   11/25/2016   \n",
       "3    Very cool decor Good drinks Nice seating  Ho...        2.0   11/25/2016   \n",
       "4     checkin They are located within the Northcr...        4.0   11/25/2016   \n",
       "\n",
       "                                              tokens  \\\n",
       "0  [   , checkin, love, love, loved, atmosphere, ...   \n",
       "1  [listed, night, beautiful, love, definitely, p...   \n",
       "2  [   , checkin, listed, loved, decor, doesnt, w...   \n",
       "3  [cool, decor, good, drinks, nice, seating, alm...   \n",
       "4  [   , checkin, plenty, parking, loved, friendl...   \n",
       "\n",
       "                                              lemmas  \n",
       "0  [  , checkin, love, love, love, atmosphere, sh...  \n",
       "1  [list, night, beautiful, love, definitely, pre...  \n",
       "2  [  , checkin, list, love, decor, do, not, want...  \n",
       "3  [cool, decor, good, drink, nice, seating, almo...  \n",
       "4  [  , checkin, plenty, parking, love, friendly,...  "
      ]
     },
     "execution_count": 38,
     "metadata": {},
     "output_type": "execute_result"
    }
   ],
   "source": [
    "shopsc.head(5)"
   ]
  },
  {
   "cell_type": "code",
   "execution_count": null,
   "metadata": {},
   "outputs": [],
   "source": [
    "# Get tokens"
   ]
  },
  {
   "cell_type": "code",
   "execution_count": 16,
   "metadata": {},
   "outputs": [],
   "source": [
    "import spacy\n",
    "from spacy.tokenizer import Tokenizer\n",
    "\n",
    "nlp = spacy.load(\"en_core_web_lg\")\n",
    "tokenizer = Tokenizer(nlp.vocab)"
   ]
  },
  {
   "cell_type": "code",
   "execution_count": 17,
   "metadata": {},
   "outputs": [],
   "source": [
    "# extend spacy stopwords\n",
    "STOP_WORDS = nlp.Defaults.stop_words.union([' ', '  ', 'check-in', \"i'm\", \"it's\", \"i've\", 'place', 'coffee', 'coffee.', 'austin', '-'\n",
    "])"
   ]
  },
  {
   "cell_type": "code",
   "execution_count": 18,
   "metadata": {},
   "outputs": [],
   "source": [
    "# Get tokens, but exclude stopwords.\n",
    "tokens = []\n",
    "for doc in tokenizer.pipe(shops['full_review_text'], batch_size=500):\n",
    "    doc_tokens = []\n",
    "    for token in doc:\n",
    "        token = token.text.lower()\n",
    "        if token not in STOP_WORDS:\n",
    "            doc_tokens.append(token)\n",
    "    tokens.append(doc_tokens)\n",
    "\n",
    "# Create column of lists of tokens.\n",
    "shopsc['tokens'] = tokens"
   ]
  },
  {
   "cell_type": "code",
   "execution_count": 41,
   "metadata": {},
   "outputs": [],
   "source": [
    "# function that takes a corpus and returns a dataframe\n",
    "def wcount(docs):\n",
    "\n",
    "        word_counts = Counter()\n",
    "        appears_in = Counter()\n",
    "        \n",
    "        total_docs = len(docs)\n",
    "\n",
    "        for doc in docs:\n",
    "            word_counts.update(doc)\n",
    "            appears_in.update(set(doc))\n",
    "\n",
    "        temp = zip(word_counts.keys(), word_counts.values())\n",
    "        \n",
    "        wc = pd.DataFrame(temp, columns = ['word', 'count'])\n",
    "\n",
    "        wc['rank'] = wc['count'].rank(method='first', ascending=False)\n",
    "        total = wc['count'].sum()\n",
    "\n",
    "        wc['pct_total'] = wc['count'].apply(lambda x: x / total)\n",
    "        \n",
    "        wc = wc.sort_values(by='rank')\n",
    "        wc['cul_pct_total'] = wc['pct_total'].cumsum()\n",
    "\n",
    "        t2 = zip(appears_in.keys(), appears_in.values())\n",
    "        ac = pd.DataFrame(t2, columns=['word', 'appears_in'])\n",
    "        wc = ac.merge(wc, on='word')\n",
    "\n",
    "        wc['appears_in_pct'] = wc['appears_in'].apply(lambda x: x / total_docs)\n",
    "        \n",
    "        return wc.sort_values(by='rank')"
   ]
  },
  {
   "cell_type": "code",
   "execution_count": 21,
   "metadata": {},
   "outputs": [],
   "source": [
    "# list of words used in < 2.5% of reviews\n",
    "wc = wcount(shopsc['tokens'])\n",
    "wc = wc[wc['appears_in_pct'] < 0.025]\n",
    "uncommon_words = wc['word'].tolist()"
   ]
  },
  {
   "cell_type": "code",
   "execution_count": 22,
   "metadata": {},
   "outputs": [],
   "source": [
    "# update tokens by excluding stopwords & uncommon words\n",
    "tokens = []\n",
    "for doc in tokenizer.pipe(shops['full_review_text'], batch_size=500):\n",
    "    doc_tokens = []\n",
    "    for token in doc:\n",
    "        token = token.text.lower()\n",
    "        if token not in STOP_WORDS and token not in uncommon_words:\n",
    "            doc_tokens.append(token)\n",
    "    tokens.append(doc_tokens)\n",
    "\n",
    "# create column of lists of tokens\n",
    "shopsc['tokens'] = tokens"
   ]
  },
  {
   "cell_type": "code",
   "execution_count": 26,
   "metadata": {},
   "outputs": [],
   "source": [
    "# Lemmatization def\n",
    "\n",
    "def get_lemmas(tokens):\n",
    "    lemmas = []\n",
    "    doc = nlp(str(tokens))\n",
    "    for token in doc:\n",
    "        if ((token.is_punct == False) and (token.pos_!= 'PRON')):\n",
    "            lemmas.append(token.lemma_)\n",
    "    return lemmas\n",
    "\n",
    "shopsc['lemmas'] = shopsc['tokens'].apply(get_lemmas)"
   ]
  },
  {
   "cell_type": "code",
   "execution_count": 27,
   "metadata": {},
   "outputs": [
    {
     "data": {
      "text/html": [
       "<div>\n",
       "<style scoped>\n",
       "    .dataframe tbody tr th:only-of-type {\n",
       "        vertical-align: middle;\n",
       "    }\n",
       "\n",
       "    .dataframe tbody tr th {\n",
       "        vertical-align: top;\n",
       "    }\n",
       "\n",
       "    .dataframe thead th {\n",
       "        text-align: right;\n",
       "    }\n",
       "</style>\n",
       "<table border=\"1\" class=\"dataframe\">\n",
       "  <thead>\n",
       "    <tr style=\"text-align: right;\">\n",
       "      <th></th>\n",
       "      <th>tokens</th>\n",
       "      <th>lemmas</th>\n",
       "    </tr>\n",
       "  </thead>\n",
       "  <tbody>\n",
       "    <tr>\n",
       "      <th>0</th>\n",
       "      <td>[   , checkin, love, love, loved, atmosphere, ...</td>\n",
       "      <td>[  , checkin, love, love, love, atmosphere, sh...</td>\n",
       "    </tr>\n",
       "    <tr>\n",
       "      <th>1</th>\n",
       "      <td>[listed, night, beautiful, love, definitely, p...</td>\n",
       "      <td>[list, night, beautiful, love, definitely, pre...</td>\n",
       "    </tr>\n",
       "    <tr>\n",
       "      <th>2</th>\n",
       "      <td>[   , checkin, listed, loved, decor, doesnt, w...</td>\n",
       "      <td>[  , checkin, list, love, decor, do, not, want...</td>\n",
       "    </tr>\n",
       "    <tr>\n",
       "      <th>3</th>\n",
       "      <td>[cool, decor, good, drinks, nice, seating, alm...</td>\n",
       "      <td>[cool, decor, good, drink, nice, seating, almo...</td>\n",
       "    </tr>\n",
       "    <tr>\n",
       "      <th>4</th>\n",
       "      <td>[   , checkin, plenty, parking, loved, friendl...</td>\n",
       "      <td>[  , checkin, plenty, parking, love, friendly,...</td>\n",
       "    </tr>\n",
       "  </tbody>\n",
       "</table>\n",
       "</div>"
      ],
      "text/plain": [
       "                                              tokens  \\\n",
       "0  [   , checkin, love, love, loved, atmosphere, ...   \n",
       "1  [listed, night, beautiful, love, definitely, p...   \n",
       "2  [   , checkin, listed, loved, decor, doesnt, w...   \n",
       "3  [cool, decor, good, drinks, nice, seating, alm...   \n",
       "4  [   , checkin, plenty, parking, loved, friendl...   \n",
       "\n",
       "                                              lemmas  \n",
       "0  [  , checkin, love, love, love, atmosphere, sh...  \n",
       "1  [list, night, beautiful, love, definitely, pre...  \n",
       "2  [  , checkin, list, love, decor, do, not, want...  \n",
       "3  [cool, decor, good, drink, nice, seating, almo...  \n",
       "4  [  , checkin, plenty, parking, love, friendly,...  "
      ]
     },
     "execution_count": 27,
     "metadata": {},
     "output_type": "execute_result"
    }
   ],
   "source": [
    "shopsc[['tokens', 'lemmas']].head()"
   ]
  },
  {
   "cell_type": "code",
   "execution_count": 46,
   "metadata": {},
   "outputs": [
    {
     "data": {
      "image/png": "[encoded data removed]",
      "text/plain": [
       "<Figure size 432x288 with 1 Axes>"
      ]
     },
     "metadata": {
      "needs_background": "light"
     },
     "output_type": "display_data"
    }
   ],
   "source": [
    "import squarify\n",
    "import matplotlib\n",
    "import matplotlib.pyplot as plt\n",
    "\n",
    "# Good reviews have five stars.\n",
    "good_reviews = shopsc[shopsc.star_rating == 5]\n",
    "good_words = wcount(good_reviews['lemmas'])\n",
    "top_good = good_words[good_words['rank'] <= 40]\n",
    "pct_totals = top_good['pct_total']\n",
    "\n",
    "# Create a color palette.\n",
    "cmap = matplotlib.cm.Blues\n",
    "mini=min(pct_totals)\n",
    "maxi=max(pct_totals)\n",
    "norm = matplotlib.colors.Normalize(vmin=mini, vmax=maxi)\n",
    "colors = [cmap(norm(value)) for value in pct_totals]\n",
    "\n",
    "# Show plot of top 40 words common to good reviews.\n",
    "squarify.plot(\n",
    "    sizes=pct_totals,\n",
    "    label=top_good['word'],\n",
    "    alpha=.8,\n",
    "    color=colors\n",
    ")\n",
    "plt.axis('off')\n",
    "plt.show()"
   ]
  },
  {
   "cell_type": "code",
   "execution_count": 48,
   "metadata": {},
   "outputs": [
    {
     "data": {
      "image/png": "[encoded data removed]",
      "text/plain": [
       "<Figure size 432x288 with 1 Axes>"
      ]
     },
     "metadata": {
      "needs_background": "light"
     },
     "output_type": "display_data"
    }
   ],
   "source": [
    "# Bad reviews have one star.\n",
    "bad_reviews = shopsc[shopsc.star_rating == 1]\n",
    "bad_words = wcount(bad_reviews['lemmas'])\n",
    "top_bad = bad_words[bad_words['rank'] <= 40]\n",
    "pct_totals = top_bad['pct_total']\n",
    "\n",
    "cmap = matplotlib.cm.Reds\n",
    "mini=min(pct_totals)\n",
    "maxi=max(pct_totals)\n",
    "norm = matplotlib.colors.Normalize(vmin=mini, vmax=maxi)\n",
    "colors = [cmap(norm(value)) for value in pct_totals]\n",
    "\n",
    "squarify.plot(\n",
    "    sizes=pct_totals,\n",
    "    label=top_bad['word'],\n",
    "    alpha=.8,\n",
    "    color=colors\n",
    ")\n",
    "plt.axis('off')\n",
    "plt.show()"
   ]
  },
  {
   "cell_type": "markdown",
   "metadata": {
    "colab_type": "text",
    "id": "1dCb1q8XphcP",
    "toc-hr-collapsed": true
   },
   "source": [
    "## Stretch Goals\n",
    "\n",
    "* Coffee shops that get good reviews are described as 'delicious', 'great', and 'amazing'. shops that recieve negative reviews are often described as 'bad'. The word 'not' is used with a greater proportional frequency in bad reviews than good reviews.\n",
    "\n"
   ]
  },
  {
   "cell_type": "code",
   "execution_count": null,
   "metadata": {},
   "outputs": [],
   "source": []
  }
 ],
 "metadata": {
  "colab": {
   "collapsed_sections": [],
   "name": "LS_DS_421_Text_Data_Assignment.ipynb",
   "provenance": [],
   "version": "0.3.2"
  },
  "kernelspec": {
   "display_name": "Unit4-S1-NLP (Python3)",
   "language": "python",
   "name": "unit4-s1-nlp"
  },
  "language_info": {
   "codemirror_mode": {
    "name": "ipython",
    "version": 3
   },
   "file_extension": ".py",
   "mimetype": "text/x-python",
   "name": "python",
   "nbconvert_exporter": "python",
   "pygments_lexer": "ipython3",
   "version": "3.7.0"
  },
  "toc-autonumbering": false
 },
 "nbformat": 4,
 "nbformat_minor": 4
}
