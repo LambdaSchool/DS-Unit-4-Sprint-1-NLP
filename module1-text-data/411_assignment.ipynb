{
 "cells": [
  {
   "cell_type": "markdown",
   "metadata": {},
   "source": [
    "<img align=\"left\" src=\"https://lever-client-logos.s3.amazonaws.com/864372b1-534c-480e-acd5-9711f850815c-1524247202159.png\" width=200>\n",
    "<br></br>\n",
    "<br></br>\n",
    "\n",
    "# Natural Language Processing (NLP)\n",
    "## *Data Science Unit 4 Sprint 1 Assignment 1*\n",
    "\n",
    "Your goal in this assignment: find the attributes of the best & worst coffee shops in the dataset. The text is fairly raw: dates in the review, extra words in the `star_rating` column, etc. You'll probably want to clean that stuff up for a better analysis. \n",
    "\n",
    "Analyze the corpus of text using text visualizations of token frequency. Try cleaning the data as much as possible. Try the following techniques: \n",
    "- Lemmatization\n",
    "- Custom stopword removal\n",
    "\n",
    "Keep in mind the attributes of good tokens. Once you have a solid baseline, layer in the star rating in your visualization(s). Key part of this assignment - produce a write-up of the attributes of the best and worst coffee shops. Based on your analysis, what makes the best the best and the worst the worst. Use graphs and numbesr from your analysis to support your conclusions. There should be plenty of markdown cells! :coffee:"
   ]
  },
  {
   "cell_type": "code",
   "execution_count": 1,
   "metadata": {},
   "outputs": [
    {
     "data": {
      "image/jpeg": "[encoded data removed]",
      "text/html": [
       "\n",
       "        <iframe\n",
       "            width=\"400\"\n",
       "            height=\"300\"\n",
       "            src=\"https://www.youtube.com/embed/Jml7NVYm8cs\"\n",
       "            frameborder=\"0\"\n",
       "            allowfullscreen\n",
       "        ></iframe>\n",
       "        "
      ],
      "text/plain": [
       "<IPython.lib.display.YouTubeVideo at 0x7f0300351cf8>"
      ]
     },
     "execution_count": 1,
     "metadata": {},
     "output_type": "execute_result"
    }
   ],
   "source": [
    "from IPython.display import YouTubeVideo\n",
    "\n",
    "YouTubeVideo('Jml7NVYm8cs')"
   ]
  },
  {
   "cell_type": "code",
   "execution_count": 2,
   "metadata": {},
   "outputs": [
    {
     "data": {
      "text/plain": [
       "'/home/ivan/Desktop/Lambda/Unit4/Sprint1/DS-Unit-4-Sprint-1-NLP/module1-text-data'"
      ]
     },
     "execution_count": 2,
     "metadata": {},
     "output_type": "execute_result"
    }
   ],
   "source": [
    "%pwd"
   ]
  },
  {
   "cell_type": "code",
   "execution_count": 3,
   "metadata": {},
   "outputs": [
    {
     "data": {
      "text/html": [
       "<div>\n",
       "<style scoped>\n",
       "    .dataframe tbody tr th:only-of-type {\n",
       "        vertical-align: middle;\n",
       "    }\n",
       "\n",
       "    .dataframe tbody tr th {\n",
       "        vertical-align: top;\n",
       "    }\n",
       "\n",
       "    .dataframe thead th {\n",
       "        text-align: right;\n",
       "    }\n",
       "</style>\n",
       "<table border=\"1\" class=\"dataframe\">\n",
       "  <thead>\n",
       "    <tr style=\"text-align: right;\">\n",
       "      <th></th>\n",
       "      <th>coffee_shop_name</th>\n",
       "      <th>full_review_text</th>\n",
       "      <th>star_rating</th>\n",
       "    </tr>\n",
       "  </thead>\n",
       "  <tbody>\n",
       "    <tr>\n",
       "      <th>0</th>\n",
       "      <td>The Factory - Cafe With a Soul</td>\n",
       "      <td>11/25/2016 1 check-in Love love loved the atm...</td>\n",
       "      <td>5.0 star rating</td>\n",
       "    </tr>\n",
       "    <tr>\n",
       "      <th>1</th>\n",
       "      <td>The Factory - Cafe With a Soul</td>\n",
       "      <td>12/2/2016 Listed in Date Night: Austin, Ambia...</td>\n",
       "      <td>4.0 star rating</td>\n",
       "    </tr>\n",
       "    <tr>\n",
       "      <th>2</th>\n",
       "      <td>The Factory - Cafe With a Soul</td>\n",
       "      <td>11/30/2016 1 check-in Listed in Brunch Spots ...</td>\n",
       "      <td>4.0 star rating</td>\n",
       "    </tr>\n",
       "    <tr>\n",
       "      <th>3</th>\n",
       "      <td>The Factory - Cafe With a Soul</td>\n",
       "      <td>11/25/2016 Very cool decor! Good drinks Nice ...</td>\n",
       "      <td>2.0 star rating</td>\n",
       "    </tr>\n",
       "    <tr>\n",
       "      <th>4</th>\n",
       "      <td>The Factory - Cafe With a Soul</td>\n",
       "      <td>12/3/2016 1 check-in They are located within ...</td>\n",
       "      <td>4.0 star rating</td>\n",
       "    </tr>\n",
       "  </tbody>\n",
       "</table>\n",
       "</div>"
      ],
      "text/plain": [
       "                  coffee_shop_name  \\\n",
       "0  The Factory - Cafe With a Soul    \n",
       "1  The Factory - Cafe With a Soul    \n",
       "2  The Factory - Cafe With a Soul    \n",
       "3  The Factory - Cafe With a Soul    \n",
       "4  The Factory - Cafe With a Soul    \n",
       "\n",
       "                                    full_review_text        star_rating  \n",
       "0   11/25/2016 1 check-in Love love loved the atm...   5.0 star rating   \n",
       "1   12/2/2016 Listed in Date Night: Austin, Ambia...   4.0 star rating   \n",
       "2   11/30/2016 1 check-in Listed in Brunch Spots ...   4.0 star rating   \n",
       "3   11/25/2016 Very cool decor! Good drinks Nice ...   2.0 star rating   \n",
       "4   12/3/2016 1 check-in They are located within ...   4.0 star rating   "
      ]
     },
     "execution_count": 3,
     "metadata": {},
     "output_type": "execute_result"
    }
   ],
   "source": [
    "import pandas as pd\n",
    "\n",
    "url = \"https://raw.githubusercontent.com/LambdaSchool/DS-Unit-4-Sprint-1-NLP/master/module1-text-data/data/yelp_coffeeshop_review_data.csv\"\n",
    "\n",
    "shops = pd.read_csv(url)\n",
    "shops.head()"
   ]
  },
  {
   "cell_type": "code",
   "execution_count": 4,
   "metadata": {},
   "outputs": [
    {
     "data": {
      "text/plain": [
       "(7616, 3)"
      ]
     },
     "execution_count": 4,
     "metadata": {},
     "output_type": "execute_result"
    }
   ],
   "source": [
    "shops.shape"
   ]
  },
  {
   "cell_type": "markdown",
   "metadata": {},
   "source": [
    "### Find and remove words in star rating"
   ]
  },
  {
   "cell_type": "code",
   "execution_count": 5,
   "metadata": {},
   "outputs": [
    {
     "data": {
      "text/plain": [
       "4"
      ]
     },
     "execution_count": 5,
     "metadata": {},
     "output_type": "execute_result"
    }
   ],
   "source": [
    "# find int in star rating\n",
    "\n",
    "int(shops['star_rating'][1].strip().split('.')[0])\n"
   ]
  },
  {
   "cell_type": "code",
   "execution_count": 6,
   "metadata": {},
   "outputs": [
    {
     "data": {
      "text/html": [
       "<div>\n",
       "<style scoped>\n",
       "    .dataframe tbody tr th:only-of-type {\n",
       "        vertical-align: middle;\n",
       "    }\n",
       "\n",
       "    .dataframe tbody tr th {\n",
       "        vertical-align: top;\n",
       "    }\n",
       "\n",
       "    .dataframe thead th {\n",
       "        text-align: right;\n",
       "    }\n",
       "</style>\n",
       "<table border=\"1\" class=\"dataframe\">\n",
       "  <thead>\n",
       "    <tr style=\"text-align: right;\">\n",
       "      <th></th>\n",
       "      <th>coffee_shop_name</th>\n",
       "      <th>full_review_text</th>\n",
       "      <th>star_rating</th>\n",
       "    </tr>\n",
       "  </thead>\n",
       "  <tbody>\n",
       "    <tr>\n",
       "      <th>0</th>\n",
       "      <td>The Factory - Cafe With a Soul</td>\n",
       "      <td>11/25/2016 1 check-in Love love loved the atm...</td>\n",
       "      <td>5</td>\n",
       "    </tr>\n",
       "    <tr>\n",
       "      <th>1</th>\n",
       "      <td>The Factory - Cafe With a Soul</td>\n",
       "      <td>12/2/2016 Listed in Date Night: Austin, Ambia...</td>\n",
       "      <td>4</td>\n",
       "    </tr>\n",
       "    <tr>\n",
       "      <th>2</th>\n",
       "      <td>The Factory - Cafe With a Soul</td>\n",
       "      <td>11/30/2016 1 check-in Listed in Brunch Spots ...</td>\n",
       "      <td>4</td>\n",
       "    </tr>\n",
       "    <tr>\n",
       "      <th>3</th>\n",
       "      <td>The Factory - Cafe With a Soul</td>\n",
       "      <td>11/25/2016 Very cool decor! Good drinks Nice ...</td>\n",
       "      <td>2</td>\n",
       "    </tr>\n",
       "    <tr>\n",
       "      <th>4</th>\n",
       "      <td>The Factory - Cafe With a Soul</td>\n",
       "      <td>12/3/2016 1 check-in They are located within ...</td>\n",
       "      <td>4</td>\n",
       "    </tr>\n",
       "  </tbody>\n",
       "</table>\n",
       "</div>"
      ],
      "text/plain": [
       "                  coffee_shop_name  \\\n",
       "0  The Factory - Cafe With a Soul    \n",
       "1  The Factory - Cafe With a Soul    \n",
       "2  The Factory - Cafe With a Soul    \n",
       "3  The Factory - Cafe With a Soul    \n",
       "4  The Factory - Cafe With a Soul    \n",
       "\n",
       "                                    full_review_text  star_rating  \n",
       "0   11/25/2016 1 check-in Love love loved the atm...            5  \n",
       "1   12/2/2016 Listed in Date Night: Austin, Ambia...            4  \n",
       "2   11/30/2016 1 check-in Listed in Brunch Spots ...            4  \n",
       "3   11/25/2016 Very cool decor! Good drinks Nice ...            2  \n",
       "4   12/3/2016 1 check-in They are located within ...            4  "
      ]
     },
     "execution_count": 6,
     "metadata": {},
     "output_type": "execute_result"
    }
   ],
   "source": [
    "# strip the rest of it out with lambda func\n",
    "\n",
    "shops['star_rating'] = shops['star_rating'].apply(lambda x: int(x.strip().split('.')[0]))\n",
    "shops.head()\n"
   ]
  },
  {
   "cell_type": "code",
   "execution_count": 7,
   "metadata": {},
   "outputs": [
    {
     "data": {
      "text/plain": [
       "coffee_shop_name    object\n",
       "full_review_text    object\n",
       "star_rating          int64\n",
       "dtype: object"
      ]
     },
     "execution_count": 7,
     "metadata": {},
     "output_type": "execute_result"
    }
   ],
   "source": [
    "shops.dtypes"
   ]
  },
  {
   "cell_type": "code",
   "execution_count": 8,
   "metadata": {},
   "outputs": [
    {
     "data": {
      "text/html": [
       "<div>\n",
       "<style scoped>\n",
       "    .dataframe tbody tr th:only-of-type {\n",
       "        vertical-align: middle;\n",
       "    }\n",
       "\n",
       "    .dataframe tbody tr th {\n",
       "        vertical-align: top;\n",
       "    }\n",
       "\n",
       "    .dataframe thead th {\n",
       "        text-align: right;\n",
       "    }\n",
       "</style>\n",
       "<table border=\"1\" class=\"dataframe\">\n",
       "  <thead>\n",
       "    <tr style=\"text-align: right;\">\n",
       "      <th></th>\n",
       "      <th>coffee_shop_name</th>\n",
       "      <th>full_review_text</th>\n",
       "      <th>star_rating</th>\n",
       "      <th>review_date</th>\n",
       "    </tr>\n",
       "  </thead>\n",
       "  <tbody>\n",
       "    <tr>\n",
       "      <th>0</th>\n",
       "      <td>The Factory - Cafe With a Soul</td>\n",
       "      <td>11/25/2016 1 check-in Love love loved the atm...</td>\n",
       "      <td>5</td>\n",
       "      <td>11/25/2016</td>\n",
       "    </tr>\n",
       "    <tr>\n",
       "      <th>1</th>\n",
       "      <td>The Factory - Cafe With a Soul</td>\n",
       "      <td>12/2/2016 Listed in Date Night: Austin, Ambia...</td>\n",
       "      <td>4</td>\n",
       "      <td>12/2/2016</td>\n",
       "    </tr>\n",
       "    <tr>\n",
       "      <th>2</th>\n",
       "      <td>The Factory - Cafe With a Soul</td>\n",
       "      <td>11/30/2016 1 check-in Listed in Brunch Spots ...</td>\n",
       "      <td>4</td>\n",
       "      <td>11/30/2016</td>\n",
       "    </tr>\n",
       "    <tr>\n",
       "      <th>3</th>\n",
       "      <td>The Factory - Cafe With a Soul</td>\n",
       "      <td>11/25/2016 Very cool decor! Good drinks Nice ...</td>\n",
       "      <td>2</td>\n",
       "      <td>11/25/2016</td>\n",
       "    </tr>\n",
       "    <tr>\n",
       "      <th>4</th>\n",
       "      <td>The Factory - Cafe With a Soul</td>\n",
       "      <td>12/3/2016 1 check-in They are located within ...</td>\n",
       "      <td>4</td>\n",
       "      <td>12/3/2016</td>\n",
       "    </tr>\n",
       "  </tbody>\n",
       "</table>\n",
       "</div>"
      ],
      "text/plain": [
       "                  coffee_shop_name  \\\n",
       "0  The Factory - Cafe With a Soul    \n",
       "1  The Factory - Cafe With a Soul    \n",
       "2  The Factory - Cafe With a Soul    \n",
       "3  The Factory - Cafe With a Soul    \n",
       "4  The Factory - Cafe With a Soul    \n",
       "\n",
       "                                    full_review_text  star_rating review_date  \n",
       "0   11/25/2016 1 check-in Love love loved the atm...            5  11/25/2016  \n",
       "1   12/2/2016 Listed in Date Night: Austin, Ambia...            4   12/2/2016  \n",
       "2   11/30/2016 1 check-in Listed in Brunch Spots ...            4  11/30/2016  \n",
       "3   11/25/2016 Very cool decor! Good drinks Nice ...            2  11/25/2016  \n",
       "4   12/3/2016 1 check-in They are located within ...            4   12/3/2016  "
      ]
     },
     "execution_count": 8,
     "metadata": {},
     "output_type": "execute_result"
    }
   ],
   "source": [
    "# strip dates out of full review text and make own column\n",
    "\n",
    "shops['review_date'] = shops['full_review_text'].apply(lambda x: x.split()[0])\n",
    "shops.head()"
   ]
  },
  {
   "cell_type": "code",
   "execution_count": 9,
   "metadata": {},
   "outputs": [
    {
     "data": {
      "text/html": [
       "<div>\n",
       "<style scoped>\n",
       "    .dataframe tbody tr th:only-of-type {\n",
       "        vertical-align: middle;\n",
       "    }\n",
       "\n",
       "    .dataframe tbody tr th {\n",
       "        vertical-align: top;\n",
       "    }\n",
       "\n",
       "    .dataframe thead th {\n",
       "        text-align: right;\n",
       "    }\n",
       "</style>\n",
       "<table border=\"1\" class=\"dataframe\">\n",
       "  <thead>\n",
       "    <tr style=\"text-align: right;\">\n",
       "      <th></th>\n",
       "      <th>coffee_shop_name</th>\n",
       "      <th>full_review_text</th>\n",
       "      <th>star_rating</th>\n",
       "      <th>review_date</th>\n",
       "    </tr>\n",
       "  </thead>\n",
       "  <tbody>\n",
       "    <tr>\n",
       "      <th>0</th>\n",
       "      <td>The Factory - Cafe With a Soul</td>\n",
       "      <td>1 check-in Love love loved the atmosphere! Eve...</td>\n",
       "      <td>5</td>\n",
       "      <td>11/25/2016</td>\n",
       "    </tr>\n",
       "    <tr>\n",
       "      <th>1</th>\n",
       "      <td>The Factory - Cafe With a Soul</td>\n",
       "      <td>Listed in Date Night: Austin, Ambiance in Aust...</td>\n",
       "      <td>4</td>\n",
       "      <td>12/2/2016</td>\n",
       "    </tr>\n",
       "    <tr>\n",
       "      <th>2</th>\n",
       "      <td>The Factory - Cafe With a Soul</td>\n",
       "      <td>1 check-in Listed in Brunch Spots I loved the ...</td>\n",
       "      <td>4</td>\n",
       "      <td>11/30/2016</td>\n",
       "    </tr>\n",
       "    <tr>\n",
       "      <th>3</th>\n",
       "      <td>The Factory - Cafe With a Soul</td>\n",
       "      <td>Very cool decor! Good drinks Nice seating Howe...</td>\n",
       "      <td>2</td>\n",
       "      <td>11/25/2016</td>\n",
       "    </tr>\n",
       "    <tr>\n",
       "      <th>4</th>\n",
       "      <td>The Factory - Cafe With a Soul</td>\n",
       "      <td>1 check-in They are located within the Northcr...</td>\n",
       "      <td>4</td>\n",
       "      <td>12/3/2016</td>\n",
       "    </tr>\n",
       "  </tbody>\n",
       "</table>\n",
       "</div>"
      ],
      "text/plain": [
       "                  coffee_shop_name  \\\n",
       "0  The Factory - Cafe With a Soul    \n",
       "1  The Factory - Cafe With a Soul    \n",
       "2  The Factory - Cafe With a Soul    \n",
       "3  The Factory - Cafe With a Soul    \n",
       "4  The Factory - Cafe With a Soul    \n",
       "\n",
       "                                    full_review_text  star_rating review_date  \n",
       "0  1 check-in Love love loved the atmosphere! Eve...            5  11/25/2016  \n",
       "1  Listed in Date Night: Austin, Ambiance in Aust...            4   12/2/2016  \n",
       "2  1 check-in Listed in Brunch Spots I loved the ...            4  11/30/2016  \n",
       "3  Very cool decor! Good drinks Nice seating Howe...            2  11/25/2016  \n",
       "4  1 check-in They are located within the Northcr...            4   12/3/2016  "
      ]
     },
     "execution_count": 9,
     "metadata": {},
     "output_type": "execute_result"
    }
   ],
   "source": [
    "# now that they are pulled, remove from full_review_text\n",
    "\n",
    "shops['full_review_text'] = shops['full_review_text'].apply(lambda x: ' '.join(x.split()[1:]))\n",
    "shops.head()"
   ]
  },
  {
   "cell_type": "code",
   "execution_count": 10,
   "metadata": {},
   "outputs": [
    {
     "data": {
      "text/html": [
       "<div>\n",
       "<style scoped>\n",
       "    .dataframe tbody tr th:only-of-type {\n",
       "        vertical-align: middle;\n",
       "    }\n",
       "\n",
       "    .dataframe tbody tr th {\n",
       "        vertical-align: top;\n",
       "    }\n",
       "\n",
       "    .dataframe thead th {\n",
       "        text-align: right;\n",
       "    }\n",
       "</style>\n",
       "<table border=\"1\" class=\"dataframe\">\n",
       "  <thead>\n",
       "    <tr style=\"text-align: right;\">\n",
       "      <th></th>\n",
       "      <th>coffee_shop_name</th>\n",
       "      <th>full_review_text</th>\n",
       "      <th>star_rating</th>\n",
       "      <th>review_date</th>\n",
       "      <th>num_check_in</th>\n",
       "    </tr>\n",
       "  </thead>\n",
       "  <tbody>\n",
       "    <tr>\n",
       "      <th>0</th>\n",
       "      <td>The Factory - Cafe With a Soul</td>\n",
       "      <td>1 check-in Love love loved the atmosphere! Eve...</td>\n",
       "      <td>5</td>\n",
       "      <td>11/25/2016</td>\n",
       "      <td>1</td>\n",
       "    </tr>\n",
       "    <tr>\n",
       "      <th>1</th>\n",
       "      <td>The Factory - Cafe With a Soul</td>\n",
       "      <td>Listed in Date Night: Austin, Ambiance in Aust...</td>\n",
       "      <td>4</td>\n",
       "      <td>12/2/2016</td>\n",
       "      <td>0</td>\n",
       "    </tr>\n",
       "    <tr>\n",
       "      <th>2</th>\n",
       "      <td>The Factory - Cafe With a Soul</td>\n",
       "      <td>1 check-in Listed in Brunch Spots I loved the ...</td>\n",
       "      <td>4</td>\n",
       "      <td>11/30/2016</td>\n",
       "      <td>1</td>\n",
       "    </tr>\n",
       "    <tr>\n",
       "      <th>3</th>\n",
       "      <td>The Factory - Cafe With a Soul</td>\n",
       "      <td>Very cool decor! Good drinks Nice seating Howe...</td>\n",
       "      <td>2</td>\n",
       "      <td>11/25/2016</td>\n",
       "      <td>0</td>\n",
       "    </tr>\n",
       "    <tr>\n",
       "      <th>4</th>\n",
       "      <td>The Factory - Cafe With a Soul</td>\n",
       "      <td>1 check-in They are located within the Northcr...</td>\n",
       "      <td>4</td>\n",
       "      <td>12/3/2016</td>\n",
       "      <td>1</td>\n",
       "    </tr>\n",
       "  </tbody>\n",
       "</table>\n",
       "</div>"
      ],
      "text/plain": [
       "                  coffee_shop_name  \\\n",
       "0  The Factory - Cafe With a Soul    \n",
       "1  The Factory - Cafe With a Soul    \n",
       "2  The Factory - Cafe With a Soul    \n",
       "3  The Factory - Cafe With a Soul    \n",
       "4  The Factory - Cafe With a Soul    \n",
       "\n",
       "                                    full_review_text  star_rating review_date  \\\n",
       "0  1 check-in Love love loved the atmosphere! Eve...            5  11/25/2016   \n",
       "1  Listed in Date Night: Austin, Ambiance in Aust...            4   12/2/2016   \n",
       "2  1 check-in Listed in Brunch Spots I loved the ...            4  11/30/2016   \n",
       "3  Very cool decor! Good drinks Nice seating Howe...            2  11/25/2016   \n",
       "4  1 check-in They are located within the Northcr...            4   12/3/2016   \n",
       "\n",
       "  num_check_in  \n",
       "0            1  \n",
       "1            0  \n",
       "2            1  \n",
       "3            0  \n",
       "4            1  "
      ]
     },
     "execution_count": 10,
     "metadata": {},
     "output_type": "execute_result"
    }
   ],
   "source": [
    "# create check in feature and remove\n",
    "\n",
    "shops['num_check_in'] = shops['full_review_text'].apply(lambda x: x.split()[0]\n",
    "                                                       if x.split()[1]=='check-in'\n",
    "                                                       or x.split()[1]=='check-ins'\n",
    "                                                       else 0)\n",
    "shops.head()"
   ]
  },
  {
   "cell_type": "code",
   "execution_count": 11,
   "metadata": {},
   "outputs": [
    {
     "data": {
      "text/html": [
       "<div>\n",
       "<style scoped>\n",
       "    .dataframe tbody tr th:only-of-type {\n",
       "        vertical-align: middle;\n",
       "    }\n",
       "\n",
       "    .dataframe tbody tr th {\n",
       "        vertical-align: top;\n",
       "    }\n",
       "\n",
       "    .dataframe thead th {\n",
       "        text-align: right;\n",
       "    }\n",
       "</style>\n",
       "<table border=\"1\" class=\"dataframe\">\n",
       "  <thead>\n",
       "    <tr style=\"text-align: right;\">\n",
       "      <th></th>\n",
       "      <th>coffee_shop_name</th>\n",
       "      <th>full_review_text</th>\n",
       "      <th>star_rating</th>\n",
       "      <th>review_date</th>\n",
       "      <th>num_check_in</th>\n",
       "    </tr>\n",
       "  </thead>\n",
       "  <tbody>\n",
       "    <tr>\n",
       "      <th>0</th>\n",
       "      <td>The Factory - Cafe With a Soul</td>\n",
       "      <td>Love love loved the atmosphere! Every corner o...</td>\n",
       "      <td>5</td>\n",
       "      <td>11/25/2016</td>\n",
       "      <td>1</td>\n",
       "    </tr>\n",
       "    <tr>\n",
       "      <th>1</th>\n",
       "      <td>The Factory - Cafe With a Soul</td>\n",
       "      <td>Listed in Date Night: Austin, Ambiance in Aust...</td>\n",
       "      <td>4</td>\n",
       "      <td>12/2/2016</td>\n",
       "      <td>0</td>\n",
       "    </tr>\n",
       "    <tr>\n",
       "      <th>2</th>\n",
       "      <td>The Factory - Cafe With a Soul</td>\n",
       "      <td>Listed in Brunch Spots I loved the eclectic an...</td>\n",
       "      <td>4</td>\n",
       "      <td>11/30/2016</td>\n",
       "      <td>1</td>\n",
       "    </tr>\n",
       "    <tr>\n",
       "      <th>3</th>\n",
       "      <td>The Factory - Cafe With a Soul</td>\n",
       "      <td>Very cool decor! Good drinks Nice seating Howe...</td>\n",
       "      <td>2</td>\n",
       "      <td>11/25/2016</td>\n",
       "      <td>0</td>\n",
       "    </tr>\n",
       "    <tr>\n",
       "      <th>4</th>\n",
       "      <td>The Factory - Cafe With a Soul</td>\n",
       "      <td>They are located within the Northcross mall sh...</td>\n",
       "      <td>4</td>\n",
       "      <td>12/3/2016</td>\n",
       "      <td>1</td>\n",
       "    </tr>\n",
       "  </tbody>\n",
       "</table>\n",
       "</div>"
      ],
      "text/plain": [
       "                  coffee_shop_name  \\\n",
       "0  The Factory - Cafe With a Soul    \n",
       "1  The Factory - Cafe With a Soul    \n",
       "2  The Factory - Cafe With a Soul    \n",
       "3  The Factory - Cafe With a Soul    \n",
       "4  The Factory - Cafe With a Soul    \n",
       "\n",
       "                                    full_review_text  star_rating review_date  \\\n",
       "0  Love love loved the atmosphere! Every corner o...            5  11/25/2016   \n",
       "1  Listed in Date Night: Austin, Ambiance in Aust...            4   12/2/2016   \n",
       "2  Listed in Brunch Spots I loved the eclectic an...            4  11/30/2016   \n",
       "3  Very cool decor! Good drinks Nice seating Howe...            2  11/25/2016   \n",
       "4  They are located within the Northcross mall sh...            4   12/3/2016   \n",
       "\n",
       "  num_check_in  \n",
       "0            1  \n",
       "1            0  \n",
       "2            1  \n",
       "3            0  \n",
       "4            1  "
      ]
     },
     "execution_count": 11,
     "metadata": {},
     "output_type": "execute_result"
    }
   ],
   "source": [
    "shops['full_review_text'] = shops['full_review_text'].apply(lambda x: ' '.join(x.split()[2:]) \n",
    "                                                        if x.split()[1]=='check-in'\n",
    "                                                        or x.split()[1]=='check-ins'\n",
    "                                                        else x)\n",
    "shops.head()"
   ]
  },
  {
   "cell_type": "code",
   "execution_count": 12,
   "metadata": {},
   "outputs": [
    {
     "data": {
      "text/html": [
       "<div>\n",
       "<style scoped>\n",
       "    .dataframe tbody tr th:only-of-type {\n",
       "        vertical-align: middle;\n",
       "    }\n",
       "\n",
       "    .dataframe tbody tr th {\n",
       "        vertical-align: top;\n",
       "    }\n",
       "\n",
       "    .dataframe thead th {\n",
       "        text-align: right;\n",
       "    }\n",
       "</style>\n",
       "<table border=\"1\" class=\"dataframe\">\n",
       "  <thead>\n",
       "    <tr style=\"text-align: right;\">\n",
       "      <th></th>\n",
       "      <th>coffee_shop_name</th>\n",
       "      <th>full_review_text</th>\n",
       "      <th>star_rating</th>\n",
       "      <th>review_date</th>\n",
       "      <th>num_check_in</th>\n",
       "    </tr>\n",
       "  </thead>\n",
       "  <tbody>\n",
       "    <tr>\n",
       "      <th>0</th>\n",
       "      <td>The Factory - Cafe With a Soul</td>\n",
       "      <td>Love love loved the atmosphere! Every corner o...</td>\n",
       "      <td>5</td>\n",
       "      <td>11/25/2016</td>\n",
       "      <td>1</td>\n",
       "    </tr>\n",
       "    <tr>\n",
       "      <th>1</th>\n",
       "      <td>The Factory - Cafe With a Soul</td>\n",
       "      <td>Listed in Date Night: Austin, Ambiance in Aust...</td>\n",
       "      <td>4</td>\n",
       "      <td>12/2/2016</td>\n",
       "      <td>0</td>\n",
       "    </tr>\n",
       "    <tr>\n",
       "      <th>2</th>\n",
       "      <td>The Factory - Cafe With a Soul</td>\n",
       "      <td>Listed in Brunch Spots I loved the eclectic an...</td>\n",
       "      <td>4</td>\n",
       "      <td>11/30/2016</td>\n",
       "      <td>1</td>\n",
       "    </tr>\n",
       "    <tr>\n",
       "      <th>3</th>\n",
       "      <td>The Factory - Cafe With a Soul</td>\n",
       "      <td>Very cool decor! Good drinks Nice seating Howe...</td>\n",
       "      <td>2</td>\n",
       "      <td>11/25/2016</td>\n",
       "      <td>0</td>\n",
       "    </tr>\n",
       "    <tr>\n",
       "      <th>4</th>\n",
       "      <td>The Factory - Cafe With a Soul</td>\n",
       "      <td>They are located within the Northcross mall sh...</td>\n",
       "      <td>4</td>\n",
       "      <td>12/3/2016</td>\n",
       "      <td>1</td>\n",
       "    </tr>\n",
       "  </tbody>\n",
       "</table>\n",
       "</div>"
      ],
      "text/plain": [
       "                  coffee_shop_name  \\\n",
       "0  The Factory - Cafe With a Soul    \n",
       "1  The Factory - Cafe With a Soul    \n",
       "2  The Factory - Cafe With a Soul    \n",
       "3  The Factory - Cafe With a Soul    \n",
       "4  The Factory - Cafe With a Soul    \n",
       "\n",
       "                                    full_review_text  star_rating review_date  \\\n",
       "0  Love love loved the atmosphere! Every corner o...            5  11/25/2016   \n",
       "1  Listed in Date Night: Austin, Ambiance in Aust...            4   12/2/2016   \n",
       "2  Listed in Brunch Spots I loved the eclectic an...            4  11/30/2016   \n",
       "3  Very cool decor! Good drinks Nice seating Howe...            2  11/25/2016   \n",
       "4  They are located within the Northcross mall sh...            4   12/3/2016   \n",
       "\n",
       "  num_check_in  \n",
       "0            1  \n",
       "1            0  \n",
       "2            1  \n",
       "3            0  \n",
       "4            1  "
      ]
     },
     "execution_count": 12,
     "metadata": {},
     "output_type": "execute_result"
    }
   ],
   "source": [
    "shops.head()"
   ]
  },
  {
   "cell_type": "code",
   "execution_count": 13,
   "metadata": {},
   "outputs": [
    {
     "data": {
      "text/plain": [
       "'Love love loved the atmosphere! Every corner of the coffee shop had its own style, and there were swings!!! I ordered the matcha latte, and it was muy fantastico! Ordering and getting my drink were pretty streamlined. I ordered on an iPad, which included all beverage selections that ranged from coffee to wine, desired level of sweetness, and a checkout system. I got my latte within minutes! I was hoping for a typical heart or feather on my latte, but found myself listing out all the possibilities of what the art may be. Any ideas?'"
      ]
     },
     "execution_count": 13,
     "metadata": {},
     "output_type": "execute_result"
    }
   ],
   "source": [
    "# check for whitespace\n",
    "\n",
    "shops['full_review_text'][0]"
   ]
  },
  {
   "cell_type": "code",
   "execution_count": 14,
   "metadata": {},
   "outputs": [
    {
     "data": {
      "text/html": [
       "<div>\n",
       "<style scoped>\n",
       "    .dataframe tbody tr th:only-of-type {\n",
       "        vertical-align: middle;\n",
       "    }\n",
       "\n",
       "    .dataframe tbody tr th {\n",
       "        vertical-align: top;\n",
       "    }\n",
       "\n",
       "    .dataframe thead th {\n",
       "        text-align: right;\n",
       "    }\n",
       "</style>\n",
       "<table border=\"1\" class=\"dataframe\">\n",
       "  <thead>\n",
       "    <tr style=\"text-align: right;\">\n",
       "      <th></th>\n",
       "      <th>coffee_shop_name</th>\n",
       "      <th>full_review_text</th>\n",
       "      <th>star_rating</th>\n",
       "      <th>review_date</th>\n",
       "      <th>num_check_in</th>\n",
       "    </tr>\n",
       "  </thead>\n",
       "  <tbody>\n",
       "    <tr>\n",
       "      <th>0</th>\n",
       "      <td>The Factory - Cafe With a Soul</td>\n",
       "      <td>love love loved the atmosphere! every corner o...</td>\n",
       "      <td>5</td>\n",
       "      <td>11/25/2016</td>\n",
       "      <td>1</td>\n",
       "    </tr>\n",
       "    <tr>\n",
       "      <th>1</th>\n",
       "      <td>The Factory - Cafe With a Soul</td>\n",
       "      <td>listed in date night: austin, ambiance in aust...</td>\n",
       "      <td>4</td>\n",
       "      <td>12/2/2016</td>\n",
       "      <td>0</td>\n",
       "    </tr>\n",
       "    <tr>\n",
       "      <th>2</th>\n",
       "      <td>The Factory - Cafe With a Soul</td>\n",
       "      <td>listed in brunch spots i loved the eclectic an...</td>\n",
       "      <td>4</td>\n",
       "      <td>11/30/2016</td>\n",
       "      <td>1</td>\n",
       "    </tr>\n",
       "    <tr>\n",
       "      <th>3</th>\n",
       "      <td>The Factory - Cafe With a Soul</td>\n",
       "      <td>very cool decor! good drinks nice seating howe...</td>\n",
       "      <td>2</td>\n",
       "      <td>11/25/2016</td>\n",
       "      <td>0</td>\n",
       "    </tr>\n",
       "    <tr>\n",
       "      <th>4</th>\n",
       "      <td>The Factory - Cafe With a Soul</td>\n",
       "      <td>they are located within the northcross mall sh...</td>\n",
       "      <td>4</td>\n",
       "      <td>12/3/2016</td>\n",
       "      <td>1</td>\n",
       "    </tr>\n",
       "  </tbody>\n",
       "</table>\n",
       "</div>"
      ],
      "text/plain": [
       "                  coffee_shop_name  \\\n",
       "0  The Factory - Cafe With a Soul    \n",
       "1  The Factory - Cafe With a Soul    \n",
       "2  The Factory - Cafe With a Soul    \n",
       "3  The Factory - Cafe With a Soul    \n",
       "4  The Factory - Cafe With a Soul    \n",
       "\n",
       "                                    full_review_text  star_rating review_date  \\\n",
       "0  love love loved the atmosphere! every corner o...            5  11/25/2016   \n",
       "1  listed in date night: austin, ambiance in aust...            4   12/2/2016   \n",
       "2  listed in brunch spots i loved the eclectic an...            4  11/30/2016   \n",
       "3  very cool decor! good drinks nice seating howe...            2  11/25/2016   \n",
       "4  they are located within the northcross mall sh...            4   12/3/2016   \n",
       "\n",
       "  num_check_in  \n",
       "0            1  \n",
       "1            0  \n",
       "2            1  \n",
       "3            0  \n",
       "4            1  "
      ]
     },
     "execution_count": 14,
     "metadata": {},
     "output_type": "execute_result"
    }
   ],
   "source": [
    "# make lowercase for spacey and stop words\n",
    "\n",
    "shops['full_review_text'] = shops['full_review_text'].apply(lambda x: x.lower())\n",
    "shops.head()"
   ]
  },
  {
   "cell_type": "code",
   "execution_count": 15,
   "metadata": {},
   "outputs": [
    {
     "data": {
      "text/html": [
       "<div>\n",
       "<style scoped>\n",
       "    .dataframe tbody tr th:only-of-type {\n",
       "        vertical-align: middle;\n",
       "    }\n",
       "\n",
       "    .dataframe tbody tr th {\n",
       "        vertical-align: top;\n",
       "    }\n",
       "\n",
       "    .dataframe thead th {\n",
       "        text-align: right;\n",
       "    }\n",
       "</style>\n",
       "<table border=\"1\" class=\"dataframe\">\n",
       "  <thead>\n",
       "    <tr style=\"text-align: right;\">\n",
       "      <th></th>\n",
       "      <th>coffee_shop_name</th>\n",
       "      <th>full_review_text</th>\n",
       "      <th>star_rating</th>\n",
       "      <th>review_date</th>\n",
       "      <th>num_check_in</th>\n",
       "    </tr>\n",
       "  </thead>\n",
       "  <tbody>\n",
       "    <tr>\n",
       "      <th>0</th>\n",
       "      <td>The Factory - Cafe With a Soul</td>\n",
       "      <td>love love loved the atmosphere! every corner of the coffee shop had its own style, and there were swings!!! i ordered the matcha latte, and it was muy fantastico! ordering and getting my drink were pretty streamlined. i ordered on an ipad, which included all beverage selections that ranged from coffee to wine, desired level of sweetness, and a checkout system. i got my latte within minutes! i was hoping for a typical heart or feather on my latte, but found myself listing out all the possibilities of what the art may be. any ideas?</td>\n",
       "      <td>5</td>\n",
       "      <td>11/25/2016</td>\n",
       "      <td>1</td>\n",
       "    </tr>\n",
       "    <tr>\n",
       "      <th>1</th>\n",
       "      <td>The Factory - Cafe With a Soul</td>\n",
       "      <td>listed in date night: austin, ambiance in austin beautiful!!!! love the ambiance! instagram-worthy!!! definitely $$$, so be prepared. this is gonna cost you a pretty penny :) waffle dessert was just decent...nothing to rave about. but, will probably be back just to be somewhere unique and nice.</td>\n",
       "      <td>4</td>\n",
       "      <td>12/2/2016</td>\n",
       "      <td>0</td>\n",
       "    </tr>\n",
       "    <tr>\n",
       "      <th>2</th>\n",
       "      <td>The Factory - Cafe With a Soul</td>\n",
       "      <td>listed in brunch spots i loved the eclectic and homey plush decor and who doesn't want to swing and drink their coffee? i would categorize this as a pricier coffee place but, to me it was worth it. after thanksgiving nobody wants to make brunch so we headed out in search of chicken and waffles. there is ample parking in the private lot and ordering is done through i-pads. pick a seat and they will call your name when your items are ready. be patient because some of the coffee drinks take longer than others. i had the cold brew coffee, chicken and waffles and we shared a pop+art! the po+art was strawberry; light and fluffy on the outside and gooey sweet filling on the inside. the chicken and waffles wasn't the standard so expect different, complex and interesting flavors from the accompanying slaw and sauce. i thoroughly enjoyed it but, the waffle was a bit bland and maybe could have used a bit of honey to spruce it up. the coffee here is spot on and i hear that their hot chocolate is the bomb but, i will have to wait for the weather to cool off to try that. a great place to be cozy and chat with your friends, a date or read a book. chicken and waffles pop tart coffee see all photos from carmela s. for the factory - cafe with a soul</td>\n",
       "      <td>4</td>\n",
       "      <td>11/30/2016</td>\n",
       "      <td>1</td>\n",
       "    </tr>\n",
       "    <tr>\n",
       "      <th>3</th>\n",
       "      <td>The Factory - Cafe With a Soul</td>\n",
       "      <td>very cool decor! good drinks nice seating however... just about everything is overpriced. $1.50 extra for 3 ounces of almond milk in a cortado. no wifi music is a bit loud and the mix is odd. pleasant french oldies followed by loud techno. several tables were dirty when we got there. service is average. it feels like a los angeles coffee shot that is out of place.</td>\n",
       "      <td>2</td>\n",
       "      <td>11/25/2016</td>\n",
       "      <td>0</td>\n",
       "    </tr>\n",
       "    <tr>\n",
       "      <th>4</th>\n",
       "      <td>The Factory - Cafe With a Soul</td>\n",
       "      <td>they are located within the northcross mall shopping center facing east toward burnet rd with plenty of parking. i loved their computerized user friendly ordering system, it made it easy me to pick &amp; choose all the items i wanted to try. i ordered pop tart, chicken &amp; waffles, strawberry waffles (photos uploaded). this place is ideal for ordering a few dishes to share with your group. seating is limited since this place is fairly new with lots of visitors. arrive early and be prepared to wait a bit if you with a large grop. store front facing burnet rd see all photos from michelle a. for the factory - cafe with a soul</td>\n",
       "      <td>4</td>\n",
       "      <td>12/3/2016</td>\n",
       "      <td>1</td>\n",
       "    </tr>\n",
       "  </tbody>\n",
       "</table>\n",
       "</div>"
      ],
      "text/plain": [
       "                  coffee_shop_name  \\\n",
       "0  The Factory - Cafe With a Soul    \n",
       "1  The Factory - Cafe With a Soul    \n",
       "2  The Factory - Cafe With a Soul    \n",
       "3  The Factory - Cafe With a Soul    \n",
       "4  The Factory - Cafe With a Soul    \n",
       "\n",
       "                                                                                                                                                                                                                                                                                                                                                                                                                                                                                                                                                                                                                                                                                                                                                                                                                                                                                                                                                                                                                                                                                                                                                                                                                                                                                      full_review_text  \\\n",
       "0  love love loved the atmosphere! every corner of the coffee shop had its own style, and there were swings!!! i ordered the matcha latte, and it was muy fantastico! ordering and getting my drink were pretty streamlined. i ordered on an ipad, which included all beverage selections that ranged from coffee to wine, desired level of sweetness, and a checkout system. i got my latte within minutes! i was hoping for a typical heart or feather on my latte, but found myself listing out all the possibilities of what the art may be. any ideas?                                                                                                                                                                                                                                                                                                                                                                                                                                                                                                                                                                                                                                                                                                                                              \n",
       "1  listed in date night: austin, ambiance in austin beautiful!!!! love the ambiance! instagram-worthy!!! definitely $$$, so be prepared. this is gonna cost you a pretty penny :) waffle dessert was just decent...nothing to rave about. but, will probably be back just to be somewhere unique and nice.                                                                                                                                                                                                                                                                                                                                                                                                                                                                                                                                                                                                                                                                                                                                                                                                                                                                                                                                                                                               \n",
       "2  listed in brunch spots i loved the eclectic and homey plush decor and who doesn't want to swing and drink their coffee? i would categorize this as a pricier coffee place but, to me it was worth it. after thanksgiving nobody wants to make brunch so we headed out in search of chicken and waffles. there is ample parking in the private lot and ordering is done through i-pads. pick a seat and they will call your name when your items are ready. be patient because some of the coffee drinks take longer than others. i had the cold brew coffee, chicken and waffles and we shared a pop+art! the po+art was strawberry; light and fluffy on the outside and gooey sweet filling on the inside. the chicken and waffles wasn't the standard so expect different, complex and interesting flavors from the accompanying slaw and sauce. i thoroughly enjoyed it but, the waffle was a bit bland and maybe could have used a bit of honey to spruce it up. the coffee here is spot on and i hear that their hot chocolate is the bomb but, i will have to wait for the weather to cool off to try that. a great place to be cozy and chat with your friends, a date or read a book. chicken and waffles pop tart coffee see all photos from carmela s. for the factory - cafe with a soul   \n",
       "3  very cool decor! good drinks nice seating however... just about everything is overpriced. $1.50 extra for 3 ounces of almond milk in a cortado. no wifi music is a bit loud and the mix is odd. pleasant french oldies followed by loud techno. several tables were dirty when we got there. service is average. it feels like a los angeles coffee shot that is out of place.                                                                                                                                                                                                                                                                                                                                                                                                                                                                                                                                                                                                                                                                                                                                                                                                                                                                                                                        \n",
       "4  they are located within the northcross mall shopping center facing east toward burnet rd with plenty of parking. i loved their computerized user friendly ordering system, it made it easy me to pick & choose all the items i wanted to try. i ordered pop tart, chicken & waffles, strawberry waffles (photos uploaded). this place is ideal for ordering a few dishes to share with your group. seating is limited since this place is fairly new with lots of visitors. arrive early and be prepared to wait a bit if you with a large grop. store front facing burnet rd see all photos from michelle a. for the factory - cafe with a soul                                                                                                                                                                                                                                                                                                                                                                                                                                                                                                                                                                                                                                                      \n",
       "\n",
       "   star_rating review_date num_check_in  \n",
       "0  5            11/25/2016  1            \n",
       "1  4            12/2/2016   0            \n",
       "2  4            11/30/2016  1            \n",
       "3  2            11/25/2016  0            \n",
       "4  4            12/3/2016   1            "
      ]
     },
     "execution_count": 15,
     "metadata": {},
     "output_type": "execute_result"
    }
   ],
   "source": [
    "pd.set_option('display.max_colwidth', 0)\n",
    "shops.head()"
   ]
  },
  {
   "cell_type": "code",
   "execution_count": 16,
   "metadata": {},
   "outputs": [],
   "source": [
    "## import spacy and initialize tokenizer\n",
    "\n",
    "import spacy\n",
    "from spacy.tokenizer import Tokenizer"
   ]
  },
  {
   "cell_type": "code",
   "execution_count": 17,
   "metadata": {},
   "outputs": [],
   "source": [
    "# nlp model\n",
    "nlp = spacy.load('en_core_web_lg')\n",
    "\n",
    "#tokenizer\n",
    "tokenizer = Tokenizer(nlp.vocab)\n"
   ]
  },
  {
   "cell_type": "code",
   "execution_count": 18,
   "metadata": {},
   "outputs": [
    {
     "data": {
      "text/plain": [
       "True"
      ]
     },
     "execution_count": 18,
     "metadata": {},
     "output_type": "execute_result"
    }
   ],
   "source": [
    "# check for stop words\n",
    "\n",
    "nlp.vocab['listed'].is_stop = True\n",
    "nlp.vocab['listed'].is_stop"
   ]
  },
  {
   "cell_type": "code",
   "execution_count": 19,
   "metadata": {},
   "outputs": [],
   "source": [
    "# Tokenizer pipeline\n",
    "\n",
    "tokens = []\n",
    "\n",
    "# make tokens\n",
    "\n",
    "for doc in nlp.pipe(shops['full_review_text'], disable=['tagger', 'parser', 'ner']):\n",
    "    \n",
    "    doc_tokens = []\n",
    "    \n",
    "    for token in doc:\n",
    "        if (token.is_stop==False) & (token.is_punct==False):\n",
    "            doc_tokens.append(token.text)\n",
    "            \n",
    "    tokens.append(doc_tokens)\n",
    "        \n",
    "shops['tokens'] = tokens"
   ]
  },
  {
   "cell_type": "code",
   "execution_count": 20,
   "metadata": {},
   "outputs": [
    {
     "data": {
      "text/plain": [
       "0    [love, love, loved, atmosphere, corner, coffee, shop, style, swings, ordered, matcha, latte, muy, fantastico, ordering, getting, drink, pretty, streamlined, ordered, ipad, included, beverage, selections, ranged, coffee, wine, desired, level, sweetness, checkout, system, got, latte, minutes, hoping, typical, heart, feather, latte, found, listing, possibilities, art, ideas]                                                                                                                                                                                                                                                                                                                                                                                                                              \n",
       "1    [date, night, austin, ambiance, austin, beautiful, love, ambiance, instagram, worthy, definitely, $, $, $, prepared, gon, na, cost, pretty, penny, waffle, dessert, decent, rave, probably, unique, nice]                                                                                                                                                                                                                                                                                                                                                                                                                                                                                                                                                                                                           \n",
       "2    [brunch, spots, loved, eclectic, homey, plush, decor, want, swing, drink, coffee, categorize, pricier, coffee, place, worth, thanksgiving, wants, brunch, headed, search, chicken, waffles, ample, parking, private, lot, ordering, pads, pick, seat, items, ready, patient, coffee, drinks, longer, cold, brew, coffee, chicken, waffles, shared, pop+art, po+art, strawberry, light, fluffy, outside, gooey, sweet, filling, inside, chicken, waffles, standard, expect, different, complex, interesting, flavors, accompanying, slaw, sauce, thoroughly, enjoyed, waffle, bit, bland, maybe, bit, honey, spruce, coffee, spot, hear, hot, chocolate, bomb, wait, weather, cool, try, great, place, cozy, chat, friends, date, read, book, chicken, waffles, pop, tart, coffee, photos, carmela, s., factory, ...]\n",
       "3    [cool, decor, good, drinks, nice, seating, overpriced, $, 1.50, extra, 3, ounces, almond, milk, cortado, wifi, music, bit, loud, mix, odd, pleasant, french, oldies, followed, loud, techno, tables, dirty, got, service, average, feels, like, los, angeles, coffee, shot, place]                                                                                                                                                                                                                                                                                                                                                                                                                                                                                                                                  \n",
       "4    [located, northcross, mall, shopping, center, facing, east, burnet, rd, plenty, parking, loved, computerized, user, friendly, ordering, system, easy, pick, choose, items, wanted, try, ordered, pop, tart, chicken, waffles, strawberry, waffles, photos, uploaded, place, ideal, ordering, dishes, share, group, seating, limited, place, fairly, new, lots, visitors, arrive, early, prepared, wait, bit, large, grop, store, facing, burnet, rd, photos, michelle, a., factory, cafe, soul]                                                                                                                                                                                                                                                                                                                     \n",
       "Name: tokens, dtype: object"
      ]
     },
     "execution_count": 20,
     "metadata": {},
     "output_type": "execute_result"
    }
   ],
   "source": [
    "shops['tokens'].head()"
   ]
  },
  {
   "cell_type": "markdown",
   "metadata": {},
   "source": [
    "## How do we want to analyze these coffee shop tokens? \n",
    "\n",
    "- Overall Word / Token Count\n",
    "- View Counts by Rating \n",
    "- *Hint:* a 'bad' coffee shops has a rating betweeen 1 & 3 based on the distribution of ratings. A 'good' coffee shop is a 4 or 5. "
   ]
  },
  {
   "cell_type": "code",
   "execution_count": 21,
   "metadata": {},
   "outputs": [],
   "source": [
    "# find wordcounts\n",
    "\n",
    "from collections import Counter\n",
    "\n",
    "def count(docs):\n",
    "    \n",
    "    word_counts = Counter()\n",
    "    appears_in = Counter()\n",
    "    \n",
    "    total_docs = len(docs)\n",
    "    \n",
    "    for doc in docs:\n",
    "        word_counts.update(doc)\n",
    "        appears_in.update(set(doc))\n",
    "        \n",
    "    temp= zip(word_counts.keys(), word_counts.values())\n",
    "    \n",
    "    wc = pd.DataFrame(temp, columns = ['word', 'count'])\n",
    "    \n",
    "    wc['rank'] = wc['count'].rank(method='first', ascending=False)\n",
    "    total = wc['count'].sum()\n",
    "    \n",
    "    wc['pct_total'] = wc['count'].apply(lambda x: x / total)\n",
    "    \n",
    "    wc = wc.sort_values(by='rank')\n",
    "    wc['cul_pct_total'] = wc['pct_total'].cumsum()\n",
    "    \n",
    "    t2 = zip(appears_in.keys(), appears_in.values())\n",
    "    ac = pd.DataFrame(t2, columns=['word', 'appears_in'])\n",
    "    wc = ac.merge(wc, on='word')\n",
    "    \n",
    "    wc['appears_in_pct'] = wc['appears_in'].apply(lambda x: x / total_docs)\n",
    "    \n",
    "    return wc.sort_values(by='rank')"
   ]
  },
  {
   "cell_type": "code",
   "execution_count": 22,
   "metadata": {},
   "outputs": [
    {
     "data": {
      "text/html": [
       "<div>\n",
       "<style scoped>\n",
       "    .dataframe tbody tr th:only-of-type {\n",
       "        vertical-align: middle;\n",
       "    }\n",
       "\n",
       "    .dataframe tbody tr th {\n",
       "        vertical-align: top;\n",
       "    }\n",
       "\n",
       "    .dataframe thead th {\n",
       "        text-align: right;\n",
       "    }\n",
       "</style>\n",
       "<table border=\"1\" class=\"dataframe\">\n",
       "  <thead>\n",
       "    <tr style=\"text-align: right;\">\n",
       "      <th></th>\n",
       "      <th>word</th>\n",
       "      <th>appears_in</th>\n",
       "      <th>count</th>\n",
       "      <th>rank</th>\n",
       "      <th>pct_total</th>\n",
       "      <th>cul_pct_total</th>\n",
       "      <th>appears_in_pct</th>\n",
       "    </tr>\n",
       "  </thead>\n",
       "  <tbody>\n",
       "    <tr>\n",
       "      <th>36</th>\n",
       "      <td>coffee</td>\n",
       "      <td>4911</td>\n",
       "      <td>10539</td>\n",
       "      <td>1.0</td>\n",
       "      <td>0.029723</td>\n",
       "      <td>0.029723</td>\n",
       "      <td>0.644827</td>\n",
       "    </tr>\n",
       "    <tr>\n",
       "      <th>126</th>\n",
       "      <td>place</td>\n",
       "      <td>3665</td>\n",
       "      <td>5444</td>\n",
       "      <td>2.0</td>\n",
       "      <td>0.015354</td>\n",
       "      <td>0.045076</td>\n",
       "      <td>0.481224</td>\n",
       "    </tr>\n",
       "    <tr>\n",
       "      <th>145</th>\n",
       "      <td>good</td>\n",
       "      <td>2792</td>\n",
       "      <td>3986</td>\n",
       "      <td>3.0</td>\n",
       "      <td>0.011242</td>\n",
       "      <td>0.056318</td>\n",
       "      <td>0.366597</td>\n",
       "    </tr>\n",
       "    <tr>\n",
       "      <th>133</th>\n",
       "      <td>great</td>\n",
       "      <td>2843</td>\n",
       "      <td>3932</td>\n",
       "      <td>4.0</td>\n",
       "      <td>0.011089</td>\n",
       "      <td>0.067407</td>\n",
       "      <td>0.373293</td>\n",
       "    </tr>\n",
       "    <tr>\n",
       "      <th>163</th>\n",
       "      <td>like</td>\n",
       "      <td>2142</td>\n",
       "      <td>3125</td>\n",
       "      <td>5.0</td>\n",
       "      <td>0.008813</td>\n",
       "      <td>0.076221</td>\n",
       "      <td>0.281250</td>\n",
       "    </tr>\n",
       "  </tbody>\n",
       "</table>\n",
       "</div>"
      ],
      "text/plain": [
       "       word  appears_in  count  rank  pct_total  cul_pct_total  appears_in_pct\n",
       "36   coffee  4911        10539  1.0   0.029723   0.029723       0.644827      \n",
       "126  place   3665        5444   2.0   0.015354   0.045076       0.481224      \n",
       "145  good    2792        3986   3.0   0.011242   0.056318       0.366597      \n",
       "133  great   2843        3932   4.0   0.011089   0.067407       0.373293      \n",
       "163  like    2142        3125   5.0   0.008813   0.076221       0.281250      "
      ]
     },
     "execution_count": 22,
     "metadata": {},
     "output_type": "execute_result"
    }
   ],
   "source": [
    "wc = count(shops['tokens'])\n",
    "wc.head()"
   ]
  },
  {
   "cell_type": "code",
   "execution_count": 23,
   "metadata": {},
   "outputs": [
    {
     "data": {
      "image/png": "[encoded data removed]",
      "text/plain": [
       "<Figure size 720x576 with 1 Axes>"
      ]
     },
     "metadata": {
      "needs_background": "light"
     },
     "output_type": "display_data"
    }
   ],
   "source": [
    "import seaborn as sns\n",
    "import squarify\n",
    "import matplotlib.pyplot as plt\n",
    "\n",
    "t20 = wc[wc['rank'] <= 20]\n",
    "plt.figure(figsize=(10,8))\n",
    "squarify.plot(sizes=t20['pct_total'], label=t20['word'])\n",
    "plt.axis('off')\n",
    "plt.show()"
   ]
  },
  {
   "cell_type": "code",
   "execution_count": 24,
   "metadata": {},
   "outputs": [],
   "source": [
    "# now lets try lemmanizing\n",
    "\n",
    "def get_lemmas(text):\n",
    "    lemmas = []\n",
    "    doc = nlp(text.lower())\n",
    "    \n",
    "    for token in doc:\n",
    "        if (token.is_stop == False and token.is_punct == False) and token.pos_ != \"-PRON-\":\n",
    "            lemmas.append(token.lemma_)\n",
    "        return lemmas"
   ]
  },
  {
   "cell_type": "code",
   "execution_count": 26,
   "metadata": {},
   "outputs": [
    {
     "name": "stderr",
     "output_type": "stream",
     "text": [
      "/home/ivan/anaconda3/envs/U4-S1-NLP/lib/python3.7/site-packages/tqdm/std.py:658: FutureWarning: The Panel class is removed from pandas. Accessing it from the top-level namespace will also be removed in the next version\n",
      "  from pandas import Panel\n"
     ]
    }
   ],
   "source": [
    "# Leverage tqdm for progress_apply\n",
    "from tqdm import tqdm\n",
    "tqdm.pandas()"
   ]
  },
  {
   "cell_type": "code",
   "execution_count": 25,
   "metadata": {},
   "outputs": [
    {
     "ename": "KeyboardInterrupt",
     "evalue": "",
     "output_type": "error",
     "traceback": [
      "\u001b[0;31m---------------------------------------------------------------------------\u001b[0m",
      "\u001b[0;31mKeyboardInterrupt\u001b[0m                         Traceback (most recent call last)",
      "\u001b[0;32m<ipython-input-25-d3884ae2f383>\u001b[0m in \u001b[0;36m<module>\u001b[0;34m\u001b[0m\n\u001b[0;32m----> 1\u001b[0;31m shops['lemma'] = shops['full_review_text'].apply(lambda row:\n\u001b[0m\u001b[1;32m      2\u001b[0m                                                 [x.lemma_ for x in nlp(row.lower())\n\u001b[1;32m      3\u001b[0m                                                 if (x.is_stop == False\n\u001b[1;32m      4\u001b[0m                                                    and x.is_punct == False)\n\u001b[1;32m      5\u001b[0m                                                 \u001b[0;32mand\u001b[0m \u001b[0mx\u001b[0m\u001b[0;34m.\u001b[0m\u001b[0mpos_\u001b[0m \u001b[0;34m!=\u001b[0m \u001b[0;34m\"-PRON-\"\u001b[0m\u001b[0;34m\u001b[0m\u001b[0m\n",
      "\u001b[0;32m~/anaconda3/envs/U4-S1-NLP/lib/python3.7/site-packages/pandas/core/series.py\u001b[0m in \u001b[0;36mapply\u001b[0;34m(self, func, convert_dtype, args, **kwds)\u001b[0m\n\u001b[1;32m   3846\u001b[0m             \u001b[0;32melse\u001b[0m\u001b[0;34m:\u001b[0m\u001b[0;34m\u001b[0m\u001b[0m\n\u001b[1;32m   3847\u001b[0m                 \u001b[0mvalues\u001b[0m \u001b[0;34m=\u001b[0m \u001b[0mself\u001b[0m\u001b[0;34m.\u001b[0m\u001b[0mastype\u001b[0m\u001b[0;34m(\u001b[0m\u001b[0mobject\u001b[0m\u001b[0;34m)\u001b[0m\u001b[0;34m.\u001b[0m\u001b[0mvalues\u001b[0m\u001b[0;34m\u001b[0m\u001b[0m\n\u001b[0;32m-> 3848\u001b[0;31m                 \u001b[0mmapped\u001b[0m \u001b[0;34m=\u001b[0m \u001b[0mlib\u001b[0m\u001b[0;34m.\u001b[0m\u001b[0mmap_infer\u001b[0m\u001b[0;34m(\u001b[0m\u001b[0mvalues\u001b[0m\u001b[0;34m,\u001b[0m \u001b[0mf\u001b[0m\u001b[0;34m,\u001b[0m \u001b[0mconvert\u001b[0m\u001b[0;34m=\u001b[0m\u001b[0mconvert_dtype\u001b[0m\u001b[0;34m)\u001b[0m\u001b[0;34m\u001b[0m\u001b[0m\n\u001b[0m\u001b[1;32m   3849\u001b[0m \u001b[0;34m\u001b[0m\u001b[0m\n\u001b[1;32m   3850\u001b[0m         \u001b[0;32mif\u001b[0m \u001b[0mlen\u001b[0m\u001b[0;34m(\u001b[0m\u001b[0mmapped\u001b[0m\u001b[0;34m)\u001b[0m \u001b[0;32mand\u001b[0m \u001b[0misinstance\u001b[0m\u001b[0;34m(\u001b[0m\u001b[0mmapped\u001b[0m\u001b[0;34m[\u001b[0m\u001b[0;36m0\u001b[0m\u001b[0;34m]\u001b[0m\u001b[0;34m,\u001b[0m \u001b[0mSeries\u001b[0m\u001b[0;34m)\u001b[0m\u001b[0;34m:\u001b[0m\u001b[0;34m\u001b[0m\u001b[0m\n",
      "\u001b[0;32mpandas/_libs/lib.pyx\u001b[0m in \u001b[0;36mpandas._libs.lib.map_infer\u001b[0;34m()\u001b[0m\n",
      "\u001b[0;32m<ipython-input-25-d3884ae2f383>\u001b[0m in \u001b[0;36m<lambda>\u001b[0;34m(row)\u001b[0m\n\u001b[1;32m      1\u001b[0m shops['lemma'] = shops['full_review_text'].apply(lambda row:\n\u001b[0;32m----> 2\u001b[0;31m                                                 [x.lemma_ for x in nlp(row.lower())\n\u001b[0m\u001b[1;32m      3\u001b[0m                                                 if (x.is_stop == False\n\u001b[1;32m      4\u001b[0m                                                    and x.is_punct == False)\n\u001b[1;32m      5\u001b[0m                                                 \u001b[0;32mand\u001b[0m \u001b[0mx\u001b[0m\u001b[0;34m.\u001b[0m\u001b[0mpos_\u001b[0m \u001b[0;34m!=\u001b[0m \u001b[0;34m\"-PRON-\"\u001b[0m\u001b[0;34m\u001b[0m\u001b[0m\n",
      "\u001b[0;32m~/anaconda3/envs/U4-S1-NLP/lib/python3.7/site-packages/spacy/language.py\u001b[0m in \u001b[0;36m__call__\u001b[0;34m(self, text, disable, component_cfg)\u001b[0m\n\u001b[1;32m    433\u001b[0m             \u001b[0;32mif\u001b[0m \u001b[0;32mnot\u001b[0m \u001b[0mhasattr\u001b[0m\u001b[0;34m(\u001b[0m\u001b[0mproc\u001b[0m\u001b[0;34m,\u001b[0m \u001b[0;34m\"__call__\"\u001b[0m\u001b[0;34m)\u001b[0m\u001b[0;34m:\u001b[0m\u001b[0;34m\u001b[0m\u001b[0m\n\u001b[1;32m    434\u001b[0m                 \u001b[0;32mraise\u001b[0m \u001b[0mValueError\u001b[0m\u001b[0;34m(\u001b[0m\u001b[0mErrors\u001b[0m\u001b[0;34m.\u001b[0m\u001b[0mE003\u001b[0m\u001b[0;34m.\u001b[0m\u001b[0mformat\u001b[0m\u001b[0;34m(\u001b[0m\u001b[0mcomponent\u001b[0m\u001b[0;34m=\u001b[0m\u001b[0mtype\u001b[0m\u001b[0;34m(\u001b[0m\u001b[0mproc\u001b[0m\u001b[0;34m)\u001b[0m\u001b[0;34m,\u001b[0m \u001b[0mname\u001b[0m\u001b[0;34m=\u001b[0m\u001b[0mname\u001b[0m\u001b[0;34m)\u001b[0m\u001b[0;34m)\u001b[0m\u001b[0;34m\u001b[0m\u001b[0m\n\u001b[0;32m--> 435\u001b[0;31m             \u001b[0mdoc\u001b[0m \u001b[0;34m=\u001b[0m \u001b[0mproc\u001b[0m\u001b[0;34m(\u001b[0m\u001b[0mdoc\u001b[0m\u001b[0;34m,\u001b[0m \u001b[0;34m**\u001b[0m\u001b[0mcomponent_cfg\u001b[0m\u001b[0;34m.\u001b[0m\u001b[0mget\u001b[0m\u001b[0;34m(\u001b[0m\u001b[0mname\u001b[0m\u001b[0;34m,\u001b[0m \u001b[0;34m{\u001b[0m\u001b[0;34m}\u001b[0m\u001b[0;34m)\u001b[0m\u001b[0;34m)\u001b[0m\u001b[0;34m\u001b[0m\u001b[0m\n\u001b[0m\u001b[1;32m    436\u001b[0m             \u001b[0;32mif\u001b[0m \u001b[0mdoc\u001b[0m \u001b[0;32mis\u001b[0m \u001b[0;32mNone\u001b[0m\u001b[0;34m:\u001b[0m\u001b[0;34m\u001b[0m\u001b[0m\n\u001b[1;32m    437\u001b[0m                 \u001b[0;32mraise\u001b[0m \u001b[0mValueError\u001b[0m\u001b[0;34m(\u001b[0m\u001b[0mErrors\u001b[0m\u001b[0;34m.\u001b[0m\u001b[0mE005\u001b[0m\u001b[0;34m.\u001b[0m\u001b[0mformat\u001b[0m\u001b[0;34m(\u001b[0m\u001b[0mname\u001b[0m\u001b[0;34m=\u001b[0m\u001b[0mname\u001b[0m\u001b[0;34m)\u001b[0m\u001b[0;34m)\u001b[0m\u001b[0;34m\u001b[0m\u001b[0m\n",
      "\u001b[0;31mKeyboardInterrupt\u001b[0m: "
     ]
    }
   ],
   "source": [
    "shops['lemma'] = shops['full_review_text'].apply(lambda row:\n",
    "                                                [x.lemma_ for x in nlp(row.lower())\n",
    "                                                if (x.is_stop == False\n",
    "                                                   and x.is_punct == False)\n",
    "                                                and x.pos_ != \"-PRON-\"\n",
    "                                                ])"
   ]
  },
  {
   "cell_type": "code",
   "execution_count": null,
   "metadata": {},
   "outputs": [],
   "source": []
  },
  {
   "cell_type": "markdown",
   "metadata": {},
   "source": [
    "## Can visualize the words with the greatest difference in counts between 'good' & 'bad'?\n",
    "\n",
    "Couple Notes: \n",
    "- Rel. freq. instead of absolute counts b/c of different numbers of reviews\n",
    "- Only look at the top 5-10 words with the greatest differences\n"
   ]
  },
  {
   "cell_type": "code",
   "execution_count": 27,
   "metadata": {},
   "outputs": [
    {
     "data": {
      "text/html": [
       "<div>\n",
       "<style scoped>\n",
       "    .dataframe tbody tr th:only-of-type {\n",
       "        vertical-align: middle;\n",
       "    }\n",
       "\n",
       "    .dataframe tbody tr th {\n",
       "        vertical-align: top;\n",
       "    }\n",
       "\n",
       "    .dataframe thead th {\n",
       "        text-align: right;\n",
       "    }\n",
       "</style>\n",
       "<table border=\"1\" class=\"dataframe\">\n",
       "  <thead>\n",
       "    <tr style=\"text-align: right;\">\n",
       "      <th></th>\n",
       "      <th>coffee_shop_name</th>\n",
       "      <th>full_review_text</th>\n",
       "      <th>star_rating</th>\n",
       "      <th>review_date</th>\n",
       "      <th>num_check_in</th>\n",
       "      <th>tokens</th>\n",
       "    </tr>\n",
       "  </thead>\n",
       "  <tbody>\n",
       "    <tr>\n",
       "      <th>0</th>\n",
       "      <td>The Factory - Cafe With a Soul</td>\n",
       "      <td>love love loved the atmosphere! every corner of the coffee shop had its own style, and there were swings!!! i ordered the matcha latte, and it was muy fantastico! ordering and getting my drink were pretty streamlined. i ordered on an ipad, which included all beverage selections that ranged from coffee to wine, desired level of sweetness, and a checkout system. i got my latte within minutes! i was hoping for a typical heart or feather on my latte, but found myself listing out all the possibilities of what the art may be. any ideas?</td>\n",
       "      <td>5</td>\n",
       "      <td>11/25/2016</td>\n",
       "      <td>1</td>\n",
       "      <td>[love, love, loved, atmosphere, corner, coffee, shop, style, swings, ordered, matcha, latte, muy, fantastico, ordering, getting, drink, pretty, streamlined, ordered, ipad, included, beverage, selections, ranged, coffee, wine, desired, level, sweetness, checkout, system, got, latte, minutes, hoping, typical, heart, feather, latte, found, listing, possibilities, art, ideas]</td>\n",
       "    </tr>\n",
       "    <tr>\n",
       "      <th>1</th>\n",
       "      <td>The Factory - Cafe With a Soul</td>\n",
       "      <td>listed in date night: austin, ambiance in austin beautiful!!!! love the ambiance! instagram-worthy!!! definitely $$$, so be prepared. this is gonna cost you a pretty penny :) waffle dessert was just decent...nothing to rave about. but, will probably be back just to be somewhere unique and nice.</td>\n",
       "      <td>4</td>\n",
       "      <td>12/2/2016</td>\n",
       "      <td>0</td>\n",
       "      <td>[date, night, austin, ambiance, austin, beautiful, love, ambiance, instagram, worthy, definitely, $, $, $, prepared, gon, na, cost, pretty, penny, waffle, dessert, decent, rave, probably, unique, nice]</td>\n",
       "    </tr>\n",
       "    <tr>\n",
       "      <th>2</th>\n",
       "      <td>The Factory - Cafe With a Soul</td>\n",
       "      <td>listed in brunch spots i loved the eclectic and homey plush decor and who doesn't want to swing and drink their coffee? i would categorize this as a pricier coffee place but, to me it was worth it. after thanksgiving nobody wants to make brunch so we headed out in search of chicken and waffles. there is ample parking in the private lot and ordering is done through i-pads. pick a seat and they will call your name when your items are ready. be patient because some of the coffee drinks take longer than others. i had the cold brew coffee, chicken and waffles and we shared a pop+art! the po+art was strawberry; light and fluffy on the outside and gooey sweet filling on the inside. the chicken and waffles wasn't the standard so expect different, complex and interesting flavors from the accompanying slaw and sauce. i thoroughly enjoyed it but, the waffle was a bit bland and maybe could have used a bit of honey to spruce it up. the coffee here is spot on and i hear that their hot chocolate is the bomb but, i will have to wait for the weather to cool off to try that. a great place to be cozy and chat with your friends, a date or read a book. chicken and waffles pop tart coffee see all photos from carmela s. for the factory - cafe with a soul</td>\n",
       "      <td>4</td>\n",
       "      <td>11/30/2016</td>\n",
       "      <td>1</td>\n",
       "      <td>[brunch, spots, loved, eclectic, homey, plush, decor, want, swing, drink, coffee, categorize, pricier, coffee, place, worth, thanksgiving, wants, brunch, headed, search, chicken, waffles, ample, parking, private, lot, ordering, pads, pick, seat, items, ready, patient, coffee, drinks, longer, cold, brew, coffee, chicken, waffles, shared, pop+art, po+art, strawberry, light, fluffy, outside, gooey, sweet, filling, inside, chicken, waffles, standard, expect, different, complex, interesting, flavors, accompanying, slaw, sauce, thoroughly, enjoyed, waffle, bit, bland, maybe, bit, honey, spruce, coffee, spot, hear, hot, chocolate, bomb, wait, weather, cool, try, great, place, cozy, chat, friends, date, read, book, chicken, waffles, pop, tart, coffee, photos, carmela, s., factory, ...]</td>\n",
       "    </tr>\n",
       "    <tr>\n",
       "      <th>3</th>\n",
       "      <td>The Factory - Cafe With a Soul</td>\n",
       "      <td>very cool decor! good drinks nice seating however... just about everything is overpriced. $1.50 extra for 3 ounces of almond milk in a cortado. no wifi music is a bit loud and the mix is odd. pleasant french oldies followed by loud techno. several tables were dirty when we got there. service is average. it feels like a los angeles coffee shot that is out of place.</td>\n",
       "      <td>2</td>\n",
       "      <td>11/25/2016</td>\n",
       "      <td>0</td>\n",
       "      <td>[cool, decor, good, drinks, nice, seating, overpriced, $, 1.50, extra, 3, ounces, almond, milk, cortado, wifi, music, bit, loud, mix, odd, pleasant, french, oldies, followed, loud, techno, tables, dirty, got, service, average, feels, like, los, angeles, coffee, shot, place]</td>\n",
       "    </tr>\n",
       "    <tr>\n",
       "      <th>4</th>\n",
       "      <td>The Factory - Cafe With a Soul</td>\n",
       "      <td>they are located within the northcross mall shopping center facing east toward burnet rd with plenty of parking. i loved their computerized user friendly ordering system, it made it easy me to pick &amp; choose all the items i wanted to try. i ordered pop tart, chicken &amp; waffles, strawberry waffles (photos uploaded). this place is ideal for ordering a few dishes to share with your group. seating is limited since this place is fairly new with lots of visitors. arrive early and be prepared to wait a bit if you with a large grop. store front facing burnet rd see all photos from michelle a. for the factory - cafe with a soul</td>\n",
       "      <td>4</td>\n",
       "      <td>12/3/2016</td>\n",
       "      <td>1</td>\n",
       "      <td>[located, northcross, mall, shopping, center, facing, east, burnet, rd, plenty, parking, loved, computerized, user, friendly, ordering, system, easy, pick, choose, items, wanted, try, ordered, pop, tart, chicken, waffles, strawberry, waffles, photos, uploaded, place, ideal, ordering, dishes, share, group, seating, limited, place, fairly, new, lots, visitors, arrive, early, prepared, wait, bit, large, grop, store, facing, burnet, rd, photos, michelle, a., factory, cafe, soul]</td>\n",
       "    </tr>\n",
       "  </tbody>\n",
       "</table>\n",
       "</div>"
      ],
      "text/plain": [
       "                  coffee_shop_name  \\\n",
       "0  The Factory - Cafe With a Soul    \n",
       "1  The Factory - Cafe With a Soul    \n",
       "2  The Factory - Cafe With a Soul    \n",
       "3  The Factory - Cafe With a Soul    \n",
       "4  The Factory - Cafe With a Soul    \n",
       "\n",
       "                                                                                                                                                                                                                                                                                                                                                                                                                                                                                                                                                                                                                                                                                                                                                                                                                                                                                                                                                                                                                                                                                                                                                                                                                                                                                      full_review_text  \\\n",
       "0  love love loved the atmosphere! every corner of the coffee shop had its own style, and there were swings!!! i ordered the matcha latte, and it was muy fantastico! ordering and getting my drink were pretty streamlined. i ordered on an ipad, which included all beverage selections that ranged from coffee to wine, desired level of sweetness, and a checkout system. i got my latte within minutes! i was hoping for a typical heart or feather on my latte, but found myself listing out all the possibilities of what the art may be. any ideas?                                                                                                                                                                                                                                                                                                                                                                                                                                                                                                                                                                                                                                                                                                                                              \n",
       "1  listed in date night: austin, ambiance in austin beautiful!!!! love the ambiance! instagram-worthy!!! definitely $$$, so be prepared. this is gonna cost you a pretty penny :) waffle dessert was just decent...nothing to rave about. but, will probably be back just to be somewhere unique and nice.                                                                                                                                                                                                                                                                                                                                                                                                                                                                                                                                                                                                                                                                                                                                                                                                                                                                                                                                                                                               \n",
       "2  listed in brunch spots i loved the eclectic and homey plush decor and who doesn't want to swing and drink their coffee? i would categorize this as a pricier coffee place but, to me it was worth it. after thanksgiving nobody wants to make brunch so we headed out in search of chicken and waffles. there is ample parking in the private lot and ordering is done through i-pads. pick a seat and they will call your name when your items are ready. be patient because some of the coffee drinks take longer than others. i had the cold brew coffee, chicken and waffles and we shared a pop+art! the po+art was strawberry; light and fluffy on the outside and gooey sweet filling on the inside. the chicken and waffles wasn't the standard so expect different, complex and interesting flavors from the accompanying slaw and sauce. i thoroughly enjoyed it but, the waffle was a bit bland and maybe could have used a bit of honey to spruce it up. the coffee here is spot on and i hear that their hot chocolate is the bomb but, i will have to wait for the weather to cool off to try that. a great place to be cozy and chat with your friends, a date or read a book. chicken and waffles pop tart coffee see all photos from carmela s. for the factory - cafe with a soul   \n",
       "3  very cool decor! good drinks nice seating however... just about everything is overpriced. $1.50 extra for 3 ounces of almond milk in a cortado. no wifi music is a bit loud and the mix is odd. pleasant french oldies followed by loud techno. several tables were dirty when we got there. service is average. it feels like a los angeles coffee shot that is out of place.                                                                                                                                                                                                                                                                                                                                                                                                                                                                                                                                                                                                                                                                                                                                                                                                                                                                                                                        \n",
       "4  they are located within the northcross mall shopping center facing east toward burnet rd with plenty of parking. i loved their computerized user friendly ordering system, it made it easy me to pick & choose all the items i wanted to try. i ordered pop tart, chicken & waffles, strawberry waffles (photos uploaded). this place is ideal for ordering a few dishes to share with your group. seating is limited since this place is fairly new with lots of visitors. arrive early and be prepared to wait a bit if you with a large grop. store front facing burnet rd see all photos from michelle a. for the factory - cafe with a soul                                                                                                                                                                                                                                                                                                                                                                                                                                                                                                                                                                                                                                                      \n",
       "\n",
       "   star_rating review_date num_check_in  \\\n",
       "0  5            11/25/2016  1             \n",
       "1  4            12/2/2016   0             \n",
       "2  4            11/30/2016  1             \n",
       "3  2            11/25/2016  0             \n",
       "4  4            12/3/2016   1             \n",
       "\n",
       "                                                                                                                                                                                                                                                                                                                                                                                                                                                                                                                                                                                                                                                                                                                                                                                                                 tokens  \n",
       "0  [love, love, loved, atmosphere, corner, coffee, shop, style, swings, ordered, matcha, latte, muy, fantastico, ordering, getting, drink, pretty, streamlined, ordered, ipad, included, beverage, selections, ranged, coffee, wine, desired, level, sweetness, checkout, system, got, latte, minutes, hoping, typical, heart, feather, latte, found, listing, possibilities, art, ideas]                                                                                                                                                                                                                                                                                                                                                                                                                                \n",
       "1  [date, night, austin, ambiance, austin, beautiful, love, ambiance, instagram, worthy, definitely, $, $, $, prepared, gon, na, cost, pretty, penny, waffle, dessert, decent, rave, probably, unique, nice]                                                                                                                                                                                                                                                                                                                                                                                                                                                                                                                                                                                                             \n",
       "2  [brunch, spots, loved, eclectic, homey, plush, decor, want, swing, drink, coffee, categorize, pricier, coffee, place, worth, thanksgiving, wants, brunch, headed, search, chicken, waffles, ample, parking, private, lot, ordering, pads, pick, seat, items, ready, patient, coffee, drinks, longer, cold, brew, coffee, chicken, waffles, shared, pop+art, po+art, strawberry, light, fluffy, outside, gooey, sweet, filling, inside, chicken, waffles, standard, expect, different, complex, interesting, flavors, accompanying, slaw, sauce, thoroughly, enjoyed, waffle, bit, bland, maybe, bit, honey, spruce, coffee, spot, hear, hot, chocolate, bomb, wait, weather, cool, try, great, place, cozy, chat, friends, date, read, book, chicken, waffles, pop, tart, coffee, photos, carmela, s., factory, ...]  \n",
       "3  [cool, decor, good, drinks, nice, seating, overpriced, $, 1.50, extra, 3, ounces, almond, milk, cortado, wifi, music, bit, loud, mix, odd, pleasant, french, oldies, followed, loud, techno, tables, dirty, got, service, average, feels, like, los, angeles, coffee, shot, place]                                                                                                                                                                                                                                                                                                                                                                                                                                                                                                                                    \n",
       "4  [located, northcross, mall, shopping, center, facing, east, burnet, rd, plenty, parking, loved, computerized, user, friendly, ordering, system, easy, pick, choose, items, wanted, try, ordered, pop, tart, chicken, waffles, strawberry, waffles, photos, uploaded, place, ideal, ordering, dishes, share, group, seating, limited, place, fairly, new, lots, visitors, arrive, early, prepared, wait, bit, large, grop, store, facing, burnet, rd, photos, michelle, a., factory, cafe, soul]                                                                                                                                                                                                                                                                                                                       "
      ]
     },
     "execution_count": 27,
     "metadata": {},
     "output_type": "execute_result"
    }
   ],
   "source": [
    "shops.head()"
   ]
  },
  {
   "cell_type": "code",
   "execution_count": 29,
   "metadata": {},
   "outputs": [
    {
     "data": {
      "text/html": [
       "<div>\n",
       "<style scoped>\n",
       "    .dataframe tbody tr th:only-of-type {\n",
       "        vertical-align: middle;\n",
       "    }\n",
       "\n",
       "    .dataframe tbody tr th {\n",
       "        vertical-align: top;\n",
       "    }\n",
       "\n",
       "    .dataframe thead th {\n",
       "        text-align: right;\n",
       "    }\n",
       "</style>\n",
       "<table border=\"1\" class=\"dataframe\">\n",
       "  <thead>\n",
       "    <tr style=\"text-align: right;\">\n",
       "      <th></th>\n",
       "      <th>coffee_shop_name</th>\n",
       "      <th>full_review_text</th>\n",
       "      <th>star_rating</th>\n",
       "      <th>review_date</th>\n",
       "      <th>num_check_in</th>\n",
       "      <th>tokens</th>\n",
       "    </tr>\n",
       "  </thead>\n",
       "  <tbody>\n",
       "    <tr>\n",
       "      <th>0</th>\n",
       "      <td>The Factory - Cafe With a Soul</td>\n",
       "      <td>love love loved the atmosphere! every corner of the coffee shop had its own style, and there were swings!!! i ordered the matcha latte, and it was muy fantastico! ordering and getting my drink were pretty streamlined. i ordered on an ipad, which included all beverage selections that ranged from coffee to wine, desired level of sweetness, and a checkout system. i got my latte within minutes! i was hoping for a typical heart or feather on my latte, but found myself listing out all the possibilities of what the art may be. any ideas?</td>\n",
       "      <td>5</td>\n",
       "      <td>11/25/2016</td>\n",
       "      <td>1</td>\n",
       "      <td>[love, love, loved, atmosphere, corner, coffee, shop, style, swings, ordered, matcha, latte, muy, fantastico, ordering, getting, drink, pretty, streamlined, ordered, ipad, included, beverage, selections, ranged, coffee, wine, desired, level, sweetness, checkout, system, got, latte, minutes, hoping, typical, heart, feather, latte, found, listing, possibilities, art, ideas]</td>\n",
       "    </tr>\n",
       "    <tr>\n",
       "      <th>1</th>\n",
       "      <td>The Factory - Cafe With a Soul</td>\n",
       "      <td>listed in date night: austin, ambiance in austin beautiful!!!! love the ambiance! instagram-worthy!!! definitely $$$, so be prepared. this is gonna cost you a pretty penny :) waffle dessert was just decent...nothing to rave about. but, will probably be back just to be somewhere unique and nice.</td>\n",
       "      <td>4</td>\n",
       "      <td>12/2/2016</td>\n",
       "      <td>0</td>\n",
       "      <td>[date, night, austin, ambiance, austin, beautiful, love, ambiance, instagram, worthy, definitely, $, $, $, prepared, gon, na, cost, pretty, penny, waffle, dessert, decent, rave, probably, unique, nice]</td>\n",
       "    </tr>\n",
       "    <tr>\n",
       "      <th>2</th>\n",
       "      <td>The Factory - Cafe With a Soul</td>\n",
       "      <td>listed in brunch spots i loved the eclectic and homey plush decor and who doesn't want to swing and drink their coffee? i would categorize this as a pricier coffee place but, to me it was worth it. after thanksgiving nobody wants to make brunch so we headed out in search of chicken and waffles. there is ample parking in the private lot and ordering is done through i-pads. pick a seat and they will call your name when your items are ready. be patient because some of the coffee drinks take longer than others. i had the cold brew coffee, chicken and waffles and we shared a pop+art! the po+art was strawberry; light and fluffy on the outside and gooey sweet filling on the inside. the chicken and waffles wasn't the standard so expect different, complex and interesting flavors from the accompanying slaw and sauce. i thoroughly enjoyed it but, the waffle was a bit bland and maybe could have used a bit of honey to spruce it up. the coffee here is spot on and i hear that their hot chocolate is the bomb but, i will have to wait for the weather to cool off to try that. a great place to be cozy and chat with your friends, a date or read a book. chicken and waffles pop tart coffee see all photos from carmela s. for the factory - cafe with a soul</td>\n",
       "      <td>4</td>\n",
       "      <td>11/30/2016</td>\n",
       "      <td>1</td>\n",
       "      <td>[brunch, spots, loved, eclectic, homey, plush, decor, want, swing, drink, coffee, categorize, pricier, coffee, place, worth, thanksgiving, wants, brunch, headed, search, chicken, waffles, ample, parking, private, lot, ordering, pads, pick, seat, items, ready, patient, coffee, drinks, longer, cold, brew, coffee, chicken, waffles, shared, pop+art, po+art, strawberry, light, fluffy, outside, gooey, sweet, filling, inside, chicken, waffles, standard, expect, different, complex, interesting, flavors, accompanying, slaw, sauce, thoroughly, enjoyed, waffle, bit, bland, maybe, bit, honey, spruce, coffee, spot, hear, hot, chocolate, bomb, wait, weather, cool, try, great, place, cozy, chat, friends, date, read, book, chicken, waffles, pop, tart, coffee, photos, carmela, s., factory, ...]</td>\n",
       "    </tr>\n",
       "    <tr>\n",
       "      <th>3</th>\n",
       "      <td>The Factory - Cafe With a Soul</td>\n",
       "      <td>very cool decor! good drinks nice seating however... just about everything is overpriced. $1.50 extra for 3 ounces of almond milk in a cortado. no wifi music is a bit loud and the mix is odd. pleasant french oldies followed by loud techno. several tables were dirty when we got there. service is average. it feels like a los angeles coffee shot that is out of place.</td>\n",
       "      <td>2</td>\n",
       "      <td>11/25/2016</td>\n",
       "      <td>0</td>\n",
       "      <td>[cool, decor, good, drinks, nice, seating, overpriced, $, 1.50, extra, 3, ounces, almond, milk, cortado, wifi, music, bit, loud, mix, odd, pleasant, french, oldies, followed, loud, techno, tables, dirty, got, service, average, feels, like, los, angeles, coffee, shot, place]</td>\n",
       "    </tr>\n",
       "    <tr>\n",
       "      <th>4</th>\n",
       "      <td>The Factory - Cafe With a Soul</td>\n",
       "      <td>they are located within the northcross mall shopping center facing east toward burnet rd with plenty of parking. i loved their computerized user friendly ordering system, it made it easy me to pick &amp; choose all the items i wanted to try. i ordered pop tart, chicken &amp; waffles, strawberry waffles (photos uploaded). this place is ideal for ordering a few dishes to share with your group. seating is limited since this place is fairly new with lots of visitors. arrive early and be prepared to wait a bit if you with a large grop. store front facing burnet rd see all photos from michelle a. for the factory - cafe with a soul</td>\n",
       "      <td>4</td>\n",
       "      <td>12/3/2016</td>\n",
       "      <td>1</td>\n",
       "      <td>[located, northcross, mall, shopping, center, facing, east, burnet, rd, plenty, parking, loved, computerized, user, friendly, ordering, system, easy, pick, choose, items, wanted, try, ordered, pop, tart, chicken, waffles, strawberry, waffles, photos, uploaded, place, ideal, ordering, dishes, share, group, seating, limited, place, fairly, new, lots, visitors, arrive, early, prepared, wait, bit, large, grop, store, facing, burnet, rd, photos, michelle, a., factory, cafe, soul]</td>\n",
       "    </tr>\n",
       "  </tbody>\n",
       "</table>\n",
       "</div>"
      ],
      "text/plain": [
       "                  coffee_shop_name  \\\n",
       "0  The Factory - Cafe With a Soul    \n",
       "1  The Factory - Cafe With a Soul    \n",
       "2  The Factory - Cafe With a Soul    \n",
       "3  The Factory - Cafe With a Soul    \n",
       "4  The Factory - Cafe With a Soul    \n",
       "\n",
       "                                                                                                                                                                                                                                                                                                                                                                                                                                                                                                                                                                                                                                                                                                                                                                                                                                                                                                                                                                                                                                                                                                                                                                                                                                                                                      full_review_text  \\\n",
       "0  love love loved the atmosphere! every corner of the coffee shop had its own style, and there were swings!!! i ordered the matcha latte, and it was muy fantastico! ordering and getting my drink were pretty streamlined. i ordered on an ipad, which included all beverage selections that ranged from coffee to wine, desired level of sweetness, and a checkout system. i got my latte within minutes! i was hoping for a typical heart or feather on my latte, but found myself listing out all the possibilities of what the art may be. any ideas?                                                                                                                                                                                                                                                                                                                                                                                                                                                                                                                                                                                                                                                                                                                                              \n",
       "1  listed in date night: austin, ambiance in austin beautiful!!!! love the ambiance! instagram-worthy!!! definitely $$$, so be prepared. this is gonna cost you a pretty penny :) waffle dessert was just decent...nothing to rave about. but, will probably be back just to be somewhere unique and nice.                                                                                                                                                                                                                                                                                                                                                                                                                                                                                                                                                                                                                                                                                                                                                                                                                                                                                                                                                                                               \n",
       "2  listed in brunch spots i loved the eclectic and homey plush decor and who doesn't want to swing and drink their coffee? i would categorize this as a pricier coffee place but, to me it was worth it. after thanksgiving nobody wants to make brunch so we headed out in search of chicken and waffles. there is ample parking in the private lot and ordering is done through i-pads. pick a seat and they will call your name when your items are ready. be patient because some of the coffee drinks take longer than others. i had the cold brew coffee, chicken and waffles and we shared a pop+art! the po+art was strawberry; light and fluffy on the outside and gooey sweet filling on the inside. the chicken and waffles wasn't the standard so expect different, complex and interesting flavors from the accompanying slaw and sauce. i thoroughly enjoyed it but, the waffle was a bit bland and maybe could have used a bit of honey to spruce it up. the coffee here is spot on and i hear that their hot chocolate is the bomb but, i will have to wait for the weather to cool off to try that. a great place to be cozy and chat with your friends, a date or read a book. chicken and waffles pop tart coffee see all photos from carmela s. for the factory - cafe with a soul   \n",
       "3  very cool decor! good drinks nice seating however... just about everything is overpriced. $1.50 extra for 3 ounces of almond milk in a cortado. no wifi music is a bit loud and the mix is odd. pleasant french oldies followed by loud techno. several tables were dirty when we got there. service is average. it feels like a los angeles coffee shot that is out of place.                                                                                                                                                                                                                                                                                                                                                                                                                                                                                                                                                                                                                                                                                                                                                                                                                                                                                                                        \n",
       "4  they are located within the northcross mall shopping center facing east toward burnet rd with plenty of parking. i loved their computerized user friendly ordering system, it made it easy me to pick & choose all the items i wanted to try. i ordered pop tart, chicken & waffles, strawberry waffles (photos uploaded). this place is ideal for ordering a few dishes to share with your group. seating is limited since this place is fairly new with lots of visitors. arrive early and be prepared to wait a bit if you with a large grop. store front facing burnet rd see all photos from michelle a. for the factory - cafe with a soul                                                                                                                                                                                                                                                                                                                                                                                                                                                                                                                                                                                                                                                      \n",
       "\n",
       "   star_rating review_date num_check_in  \\\n",
       "0  5            11/25/2016  1             \n",
       "1  4            12/2/2016   0             \n",
       "2  4            11/30/2016  1             \n",
       "3  2            11/25/2016  0             \n",
       "4  4            12/3/2016   1             \n",
       "\n",
       "                                                                                                                                                                                                                                                                                                                                                                                                                                                                                                                                                                                                                                                                                                                                                                                                                 tokens  \n",
       "0  [love, love, loved, atmosphere, corner, coffee, shop, style, swings, ordered, matcha, latte, muy, fantastico, ordering, getting, drink, pretty, streamlined, ordered, ipad, included, beverage, selections, ranged, coffee, wine, desired, level, sweetness, checkout, system, got, latte, minutes, hoping, typical, heart, feather, latte, found, listing, possibilities, art, ideas]                                                                                                                                                                                                                                                                                                                                                                                                                                \n",
       "1  [date, night, austin, ambiance, austin, beautiful, love, ambiance, instagram, worthy, definitely, $, $, $, prepared, gon, na, cost, pretty, penny, waffle, dessert, decent, rave, probably, unique, nice]                                                                                                                                                                                                                                                                                                                                                                                                                                                                                                                                                                                                             \n",
       "2  [brunch, spots, loved, eclectic, homey, plush, decor, want, swing, drink, coffee, categorize, pricier, coffee, place, worth, thanksgiving, wants, brunch, headed, search, chicken, waffles, ample, parking, private, lot, ordering, pads, pick, seat, items, ready, patient, coffee, drinks, longer, cold, brew, coffee, chicken, waffles, shared, pop+art, po+art, strawberry, light, fluffy, outside, gooey, sweet, filling, inside, chicken, waffles, standard, expect, different, complex, interesting, flavors, accompanying, slaw, sauce, thoroughly, enjoyed, waffle, bit, bland, maybe, bit, honey, spruce, coffee, spot, hear, hot, chocolate, bomb, wait, weather, cool, try, great, place, cozy, chat, friends, date, read, book, chicken, waffles, pop, tart, coffee, photos, carmela, s., factory, ...]  \n",
       "3  [cool, decor, good, drinks, nice, seating, overpriced, $, 1.50, extra, 3, ounces, almond, milk, cortado, wifi, music, bit, loud, mix, odd, pleasant, french, oldies, followed, loud, techno, tables, dirty, got, service, average, feels, like, los, angeles, coffee, shot, place]                                                                                                                                                                                                                                                                                                                                                                                                                                                                                                                                    \n",
       "4  [located, northcross, mall, shopping, center, facing, east, burnet, rd, plenty, parking, loved, computerized, user, friendly, ordering, system, easy, pick, choose, items, wanted, try, ordered, pop, tart, chicken, waffles, strawberry, waffles, photos, uploaded, place, ideal, ordering, dishes, share, group, seating, limited, place, fairly, new, lots, visitors, arrive, early, prepared, wait, bit, large, grop, store, facing, burnet, rd, photos, michelle, a., factory, cafe, soul]                                                                                                                                                                                                                                                                                                                       "
      ]
     },
     "execution_count": 29,
     "metadata": {},
     "output_type": "execute_result"
    }
   ],
   "source": [
    "# separate good (4 and 5) and bad (3 and below)\n",
    "\n",
    "# make copy of shops\n",
    "\n",
    "s2 = shops.copy()\n",
    "\n",
    "s2.head()"
   ]
  },
  {
   "cell_type": "code",
   "execution_count": 42,
   "metadata": {},
   "outputs": [
    {
     "data": {
      "text/html": [
       "<div>\n",
       "<style scoped>\n",
       "    .dataframe tbody tr th:only-of-type {\n",
       "        vertical-align: middle;\n",
       "    }\n",
       "\n",
       "    .dataframe tbody tr th {\n",
       "        vertical-align: top;\n",
       "    }\n",
       "\n",
       "    .dataframe thead th {\n",
       "        text-align: right;\n",
       "    }\n",
       "</style>\n",
       "<table border=\"1\" class=\"dataframe\">\n",
       "  <thead>\n",
       "    <tr style=\"text-align: right;\">\n",
       "      <th></th>\n",
       "      <th>shop_name</th>\n",
       "      <th>avg_rating</th>\n",
       "    </tr>\n",
       "  </thead>\n",
       "  <tbody>\n",
       "    <tr>\n",
       "      <th>0</th>\n",
       "      <td>Once Over Coffee Bar</td>\n",
       "      <td>3.37</td>\n",
       "    </tr>\n",
       "    <tr>\n",
       "      <th>1</th>\n",
       "      <td>Strange Brew, Austin Coffee</td>\n",
       "      <td>3.60</td>\n",
       "    </tr>\n",
       "    <tr>\n",
       "      <th>2</th>\n",
       "      <td>Pacha</td>\n",
       "      <td>3.69</td>\n",
       "    </tr>\n",
       "    <tr>\n",
       "      <th>3</th>\n",
       "      <td>Kick Butt Coffee Music &amp; Booze</td>\n",
       "      <td>3.72</td>\n",
       "    </tr>\n",
       "    <tr>\n",
       "      <th>4</th>\n",
       "      <td>Stinson’s</td>\n",
       "      <td>3.81</td>\n",
       "    </tr>\n",
       "  </tbody>\n",
       "</table>\n",
       "</div>"
      ],
      "text/plain": [
       "                         shop_name  avg_rating\n",
       "0  Once Over Coffee Bar             3.37      \n",
       "1  Strange Brew, Austin Coffee      3.60      \n",
       "2  Pacha                            3.69      \n",
       "3  Kick Butt Coffee Music & Booze   3.72      \n",
       "4  Stinson’s                        3.81      "
      ]
     },
     "execution_count": 42,
     "metadata": {},
     "output_type": "execute_result"
    }
   ],
   "source": [
    "average_rating = shops.groupby(['coffee_shop_name'])['star_rating'].mean().sort_values()\n",
    "shop_records = zip(average_rating.index, average_rating.values)\n",
    "shop_records = pd.DataFrame(shop_records, columns=['shop_name', 'avg_rating'])\n",
    "\n",
    "shop_records.head()"
   ]
  },
  {
   "cell_type": "code",
   "execution_count": 45,
   "metadata": {},
   "outputs": [],
   "source": [
    "# good and bad shops\n",
    "\n",
    "good_shops = shop_records[shop_records['avg_rating'] >= 4]['shop_name']\n",
    "bad_shops = shop_records[shop_records['avg_rating'] < 4]['shop_name']\n",
    "\n",
    "good = shops[shops['coffee_shop_name'].isin(list(good_shops))]\n",
    "bad = shops[shops['coffee_shop_name'].isin(list(bad_shops))]"
   ]
  },
  {
   "cell_type": "code",
   "execution_count": 46,
   "metadata": {},
   "outputs": [],
   "source": [
    "# tokenize good and bad\n",
    "\n",
    "good_token = count(good['tokens'])\n",
    "bad_token = count(bad['tokens'])"
   ]
  },
  {
   "cell_type": "code",
   "execution_count": 48,
   "metadata": {},
   "outputs": [
    {
     "data": {
      "image/png": "[encoded data removed]",
      "text/plain": [
       "<Figure size 720x576 with 1 Axes>"
      ]
     },
     "metadata": {
      "needs_background": "light"
     },
     "output_type": "display_data"
    }
   ],
   "source": [
    "good20 = good_token[good_token['rank'] <= 20]\n",
    "plt.figure(figsize=(10, 8))\n",
    "squarify.plot(sizes=good20['pct_total'], label=good20['word'])\n",
    "plt.axis('off')\n",
    "plt.show()"
   ]
  },
  {
   "cell_type": "code",
   "execution_count": 49,
   "metadata": {},
   "outputs": [
    {
     "data": {
      "image/png": "[encoded data removed]",
      "text/plain": [
       "<Figure size 720x576 with 1 Axes>"
      ]
     },
     "metadata": {
      "needs_background": "light"
     },
     "output_type": "display_data"
    }
   ],
   "source": [
    "bad20 = bad_token[bad_token['rank'] <= 20]\n",
    "plt.figure(figsize=(10, 8))\n",
    "squarify.plot(sizes=bad20['pct_total'], label=bad20['word'])\n",
    "plt.axis('off')\n",
    "plt.show()"
   ]
  },
  {
   "cell_type": "code",
   "execution_count": null,
   "metadata": {},
   "outputs": [],
   "source": [
    "# Hmm not much differentiation, stretch goal would be to maybe drop shops with low amount of reviews?\n",
    "\n"
   ]
  },
  {
   "cell_type": "markdown",
   "metadata": {
    "colab_type": "text",
    "id": "1dCb1q8XphcP",
    "toc-hr-collapsed": true
   },
   "source": [
    "## Stretch Goals\n",
    "\n",
    "* Analyze another corpus of documents - such as Indeed.com job listings ;).\n",
    "* Play with the Spacy API to\n",
    " - Extract Named Entities\n",
    " - Extracting 'noun chunks'\n",
    " - Attempt Document Classification with just Spacy\n",
    " - *Note:* This [course](https://course.spacy.io/) will be of interesting in helping you with these stretch goals. \n",
    "* Try to build a plotly dash app with your text data \n",
    "\n"
   ]
  }
 ],
 "metadata": {
  "colab": {
   "collapsed_sections": [],
   "name": "LS_DS_421_Text_Data_Assignment.ipynb",
   "provenance": [],
   "version": "0.3.2"
  },
  "kernelspec": {
   "display_name": "U4-S1-NLP (Python3)",
   "language": "python",
   "name": "u4-s1-nlp"
  },
  "language_info": {
   "codemirror_mode": {
    "name": "ipython",
    "version": 3
   },
   "file_extension": ".py",
   "mimetype": "text/x-python",
   "name": "python",
   "nbconvert_exporter": "python",
   "pygments_lexer": "ipython3",
   "version": "3.7.0"
  },
  "toc-autonumbering": false
 },
 "nbformat": 4,
 "nbformat_minor": 4
}
