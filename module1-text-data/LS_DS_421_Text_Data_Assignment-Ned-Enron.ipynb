{
 "cells": [
  {
   "cell_type": "markdown",
   "metadata": {},
   "source": [
    "<img align=\"left\" src=\"https://lever-client-logos.s3.amazonaws.com/864372b1-534c-480e-acd5-9711f850815c-1524247202159.png\" width=200>\n",
    "<br></br>\n",
    "<br></br>\n",
    "\n",
    "# Natural Language Processing (NLP)\n",
    "## *Data Science Unit 4 Sprint 2 Assignment 1*\n",
    "\n",
    "Analyze a corpus of text using text visualization of token frequency. Try cleaning the data as much as possible. Try the following techniques: \n",
    "- Stemming\n",
    "- Lemmatization\n",
    "- Custom stopword removal\n",
    "- Using frequency based stopwrod removal\n",
    "\n",
    "You are free to use any dataset you are interested in. Kaggle is a great place to start. Feel free to sample the data if the dataset is too large to hanlde in memory. "
   ]
  },
  {
   "cell_type": "code",
   "execution_count": 2,
   "metadata": {},
   "outputs": [],
   "source": [
    "# get enron dataset\n",
    "# !wget https://www.kaggle.com/wcukierski/enron-email-dataset/downloads/enron-email-dataset.zip/2"
   ]
  },
  {
   "cell_type": "code",
   "execution_count": 1,
   "metadata": {},
   "outputs": [],
   "source": [
    "\"\"\"\n",
    "Import Statements\n",
    "\"\"\"\n",
    "\n",
    "# Base\n",
    "from collections import Counter\n",
    "import re\n",
    "import pandas as pd\n",
    "\n",
    "# Plotting\n",
    "import squarify\n",
    "import matplotlib.pyplot as plt\n",
    "import seaborn as sns\n",
    "\n",
    "# NLP Libraries\n",
    "import spacy\n",
    "from spacy.tokenizer import Tokenizer\n",
    "from nltk.stem import PorterStemmer\n",
    "\n",
    "nlp = spacy.load(\"en_core_web_sm\")"
   ]
  },
  {
   "cell_type": "code",
   "execution_count": 2,
   "metadata": {},
   "outputs": [],
   "source": [
    "emails = pd.read_csv('./data/emails.csv')"
   ]
  },
  {
   "cell_type": "code",
   "execution_count": 3,
   "metadata": {},
   "outputs": [
    {
     "data": {
      "text/html": [
       "<div>\n",
       "<style scoped>\n",
       "    .dataframe tbody tr th:only-of-type {\n",
       "        vertical-align: middle;\n",
       "    }\n",
       "\n",
       "    .dataframe tbody tr th {\n",
       "        vertical-align: top;\n",
       "    }\n",
       "\n",
       "    .dataframe thead th {\n",
       "        text-align: right;\n",
       "    }\n",
       "</style>\n",
       "<table border=\"1\" class=\"dataframe\">\n",
       "  <thead>\n",
       "    <tr style=\"text-align: right;\">\n",
       "      <th></th>\n",
       "      <th>file</th>\n",
       "      <th>message</th>\n",
       "    </tr>\n",
       "  </thead>\n",
       "  <tbody>\n",
       "    <tr>\n",
       "      <th>0</th>\n",
       "      <td>allen-p/_sent_mail/1.</td>\n",
       "      <td>Message-ID: &lt;18782981.1075855378110.JavaMail.e...</td>\n",
       "    </tr>\n",
       "    <tr>\n",
       "      <th>1</th>\n",
       "      <td>allen-p/_sent_mail/10.</td>\n",
       "      <td>Message-ID: &lt;15464986.1075855378456.JavaMail.e...</td>\n",
       "    </tr>\n",
       "    <tr>\n",
       "      <th>2</th>\n",
       "      <td>allen-p/_sent_mail/100.</td>\n",
       "      <td>Message-ID: &lt;24216240.1075855687451.JavaMail.e...</td>\n",
       "    </tr>\n",
       "    <tr>\n",
       "      <th>3</th>\n",
       "      <td>allen-p/_sent_mail/1000.</td>\n",
       "      <td>Message-ID: &lt;13505866.1075863688222.JavaMail.e...</td>\n",
       "    </tr>\n",
       "    <tr>\n",
       "      <th>4</th>\n",
       "      <td>allen-p/_sent_mail/1001.</td>\n",
       "      <td>Message-ID: &lt;30922949.1075863688243.JavaMail.e...</td>\n",
       "    </tr>\n",
       "  </tbody>\n",
       "</table>\n",
       "</div>"
      ],
      "text/plain": [
       "                       file                                            message\n",
       "0     allen-p/_sent_mail/1.  Message-ID: <18782981.1075855378110.JavaMail.e...\n",
       "1    allen-p/_sent_mail/10.  Message-ID: <15464986.1075855378456.JavaMail.e...\n",
       "2   allen-p/_sent_mail/100.  Message-ID: <24216240.1075855687451.JavaMail.e...\n",
       "3  allen-p/_sent_mail/1000.  Message-ID: <13505866.1075863688222.JavaMail.e...\n",
       "4  allen-p/_sent_mail/1001.  Message-ID: <30922949.1075863688243.JavaMail.e..."
      ]
     },
     "execution_count": 3,
     "metadata": {},
     "output_type": "execute_result"
    }
   ],
   "source": [
    "emails.head()"
   ]
  },
  {
   "cell_type": "code",
   "execution_count": 18,
   "metadata": {},
   "outputs": [
    {
     "data": {
      "text/plain": [
       "['Message-ID: <30795301.1075855687494.JavaMail.evans@thyme>',\n",
       " 'Date: Mon, 16 Oct 2000 06:44:00 -0700 (PDT)',\n",
       " 'From: phillip.allen@enron.com',\n",
       " 'To: zimam@enron.com',\n",
       " 'Subject: FW: fixed forward or other Collar floor gas price terms',\n",
       " 'Mime-Version: 1.0',\n",
       " 'Content-Type: text/plain; charset=us-ascii',\n",
       " 'Content-Transfer-Encoding: 7bit',\n",
       " 'X-From: Phillip K Allen',\n",
       " 'X-To: zimam@enron.com',\n",
       " 'X-cc: ',\n",
       " 'X-bcc: ',\n",
       " \"X-Folder: \\\\Phillip_Allen_Dec2000\\\\Notes Folders\\\\'sent mail\",\n",
       " 'X-Origin: Allen-P',\n",
       " 'X-FileName: pallen.nsf',\n",
       " '',\n",
       " '---------------------- Forwarded by Phillip K Allen/HOU/ECT on 10/16/2000 ',\n",
       " '01:42 PM ---------------------------',\n",
       " '',\n",
       " '',\n",
       " '\"Buckner, Buck\" <buck.buckner@honeywell.com> on 10/12/2000 01:12:21 PM',\n",
       " 'To: \"\\'Pallen@Enron.com\\'\" <Pallen@Enron.com>',\n",
       " 'cc:  ',\n",
       " 'Subject: FW: fixed forward or other Collar floor gas price terms',\n",
       " '',\n",
       " '',\n",
       " 'Phillip,',\n",
       " '',\n",
       " '> As discussed  during our phone conversation, In a Parallon 75 microturbine',\n",
       " '> power generation deal for a national accounts customer, I am developing a',\n",
       " '> proposal to sell power to customer at fixed or collar/floor price. To do',\n",
       " '> so I need a corresponding term gas price for same. Microturbine is an',\n",
       " '> onsite generation product developed by Honeywell to generate electricity',\n",
       " '> on customer site (degen). using natural gas. In doing so,  I need your',\n",
       " '> best fixed price forward gas price deal for 1, 3, 5, 7 and 10 years for',\n",
       " '> annual/seasonal supply to microturbines to generate fixed kWh for',\n",
       " \"> customer. We have the opportunity to sell customer kWh 's using\",\n",
       " '> microturbine or sell them turbines themselves. kWh deal must have limited/',\n",
       " '> no risk forward gas price to make deal work. Therein comes Sempra energy',\n",
       " '> gas trading, truly you.',\n",
       " '>',\n",
       " '> We are proposing installing 180 - 240 units across a large number of',\n",
       " '> stores (60-100) in San Diego.',\n",
       " '> Store number varies because of installation hurdles face at small percent.',\n",
       " '>',\n",
       " '> For 6-8 hours a day  Microturbine run time:',\n",
       " '> Gas requirement for 180 microturbines 227 - 302 MMcf per year',\n",
       " '> Gas requirement for 240 microturbines 302 - 403 MMcf per year',\n",
       " '>',\n",
       " '> Gas will likely be consumed from May through September, during peak',\n",
       " '> electric period.',\n",
       " '> Gas price required: Burnertip price behind (LDC) San Diego Gas & Electric',\n",
       " '> Need detail breakout of commodity and transport cost (firm or',\n",
       " '> interruptible).',\n",
       " '>',\n",
       " '> Should you have additional questions, give me a call.',\n",
       " '> Let me assure you, this is real deal!!',\n",
       " '>',\n",
       " '> Buck Buckner, P.E., MBA',\n",
       " '> Manager, Business Development and Planning',\n",
       " '> Big Box Retail Sales',\n",
       " '> Honeywell Power Systems, Inc.',\n",
       " '> 8725 Pan American Frwy',\n",
       " '> Albuquerque, NM 87113',\n",
       " '> 505-798-6424',\n",
       " '> 505-798-6050x',\n",
       " '> 505-220-4129',\n",
       " '> 888/501-3145',\n",
       " '> ',\n",
       " '']"
      ]
     },
     "execution_count": 18,
     "metadata": {},
     "output_type": "execute_result"
    }
   ],
   "source": [
    "emails.message.loc[9].split('\\n')"
   ]
  },
  {
   "cell_type": "code",
   "execution_count": 5,
   "metadata": {},
   "outputs": [],
   "source": [
    "# cleaning data courtesty of https://towardsdatascience.com/how-i-used-machine-learning-to-classify-emails-and-turn-them-into-insights-efed37c1e66\n",
    "# no thanks to  https://towardsdatascience.com/@anthonydm as this is an absolutely terrible approach\n",
    "\n",
    "def parse_raw_message(raw_message):\n",
    "    lines = raw_message.split('\\n')\n",
    "    email = {}\n",
    "    message = ''\n",
    "    keys_to_extract = ['from', 'to']\n",
    "    for line in lines:\n",
    "        if ':' not in line:\n",
    "            message += line.strip()\n",
    "            email['body'] = message\n",
    "        else:\n",
    "            pairs = line.split(':')\n",
    "            key = pairs[0].lower()\n",
    "            val = pairs[1].strip()\n",
    "            if key in keys_to_extract:\n",
    "                email[key] = val\n",
    "    return email\n",
    "\n",
    "def parse_into_emails(messages):\n",
    "    emails = [parse_raw_message(message) for message in messages]\n",
    "    \n",
    "    return {\n",
    "        'body': [email['body'] for email in emails], \n",
    "        'to': [email['to'] for email in emails], \n",
    "        'from': [email['from'] for email in emails]\n",
    "    }\n",
    "\n",
    "# email_df = pd.DataFrame(parse_into_emails(emails.message))\n"
   ]
  },
  {
   "cell_type": "code",
   "execution_count": 7,
   "metadata": {},
   "outputs": [
    {
     "ename": "KeyError",
     "evalue": "'to'",
     "output_type": "error",
     "traceback": [
      "\u001b[0;31m---------------------------------------------------------------------------\u001b[0m",
      "\u001b[0;31mKeyError\u001b[0m                                  Traceback (most recent call last)",
      "\u001b[0;32m<ipython-input-7-5efbe2840147>\u001b[0m in \u001b[0;36m<module>\u001b[0;34m\u001b[0m\n\u001b[0;32m----> 1\u001b[0;31m \u001b[0mparse_into_emails\u001b[0m\u001b[0;34m(\u001b[0m\u001b[0memails\u001b[0m\u001b[0;34m.\u001b[0m\u001b[0mmessage\u001b[0m\u001b[0;34m)\u001b[0m\u001b[0;34m\u001b[0m\u001b[0;34m\u001b[0m\u001b[0m\n\u001b[0m",
      "\u001b[0;32m<ipython-input-5-b3b1108656a2>\u001b[0m in \u001b[0;36mparse_into_emails\u001b[0;34m(messages)\u001b[0m\n\u001b[1;32m     24\u001b[0m     return {\n\u001b[1;32m     25\u001b[0m         \u001b[0;34m'body'\u001b[0m\u001b[0;34m:\u001b[0m \u001b[0;34m[\u001b[0m\u001b[0memail\u001b[0m\u001b[0;34m[\u001b[0m\u001b[0;34m'body'\u001b[0m\u001b[0;34m]\u001b[0m \u001b[0;32mfor\u001b[0m \u001b[0memail\u001b[0m \u001b[0;32min\u001b[0m \u001b[0memails\u001b[0m\u001b[0;34m]\u001b[0m\u001b[0;34m,\u001b[0m\u001b[0;34m\u001b[0m\u001b[0;34m\u001b[0m\u001b[0m\n\u001b[0;32m---> 26\u001b[0;31m         \u001b[0;34m'to'\u001b[0m\u001b[0;34m:\u001b[0m \u001b[0;34m[\u001b[0m\u001b[0memail\u001b[0m\u001b[0;34m[\u001b[0m\u001b[0;34m'to'\u001b[0m\u001b[0;34m]\u001b[0m \u001b[0;32mfor\u001b[0m \u001b[0memail\u001b[0m \u001b[0;32min\u001b[0m \u001b[0memails\u001b[0m\u001b[0;34m]\u001b[0m\u001b[0;34m,\u001b[0m\u001b[0;34m\u001b[0m\u001b[0;34m\u001b[0m\u001b[0m\n\u001b[0m\u001b[1;32m     27\u001b[0m         \u001b[0;34m'from'\u001b[0m\u001b[0;34m:\u001b[0m \u001b[0;34m[\u001b[0m\u001b[0memail\u001b[0m\u001b[0;34m[\u001b[0m\u001b[0;34m'from'\u001b[0m\u001b[0;34m]\u001b[0m \u001b[0;32mfor\u001b[0m \u001b[0memail\u001b[0m \u001b[0;32min\u001b[0m \u001b[0memails\u001b[0m\u001b[0;34m]\u001b[0m\u001b[0;34m\u001b[0m\u001b[0;34m\u001b[0m\u001b[0m\n\u001b[1;32m     28\u001b[0m     }\n",
      "\u001b[0;32m<ipython-input-5-b3b1108656a2>\u001b[0m in \u001b[0;36m<listcomp>\u001b[0;34m(.0)\u001b[0m\n\u001b[1;32m     24\u001b[0m     return {\n\u001b[1;32m     25\u001b[0m         \u001b[0;34m'body'\u001b[0m\u001b[0;34m:\u001b[0m \u001b[0;34m[\u001b[0m\u001b[0memail\u001b[0m\u001b[0;34m[\u001b[0m\u001b[0;34m'body'\u001b[0m\u001b[0;34m]\u001b[0m \u001b[0;32mfor\u001b[0m \u001b[0memail\u001b[0m \u001b[0;32min\u001b[0m \u001b[0memails\u001b[0m\u001b[0;34m]\u001b[0m\u001b[0;34m,\u001b[0m\u001b[0;34m\u001b[0m\u001b[0;34m\u001b[0m\u001b[0m\n\u001b[0;32m---> 26\u001b[0;31m         \u001b[0;34m'to'\u001b[0m\u001b[0;34m:\u001b[0m \u001b[0;34m[\u001b[0m\u001b[0memail\u001b[0m\u001b[0;34m[\u001b[0m\u001b[0;34m'to'\u001b[0m\u001b[0;34m]\u001b[0m \u001b[0;32mfor\u001b[0m \u001b[0memail\u001b[0m \u001b[0;32min\u001b[0m \u001b[0memails\u001b[0m\u001b[0;34m]\u001b[0m\u001b[0;34m,\u001b[0m\u001b[0;34m\u001b[0m\u001b[0;34m\u001b[0m\u001b[0m\n\u001b[0m\u001b[1;32m     27\u001b[0m         \u001b[0;34m'from'\u001b[0m\u001b[0;34m:\u001b[0m \u001b[0;34m[\u001b[0m\u001b[0memail\u001b[0m\u001b[0;34m[\u001b[0m\u001b[0;34m'from'\u001b[0m\u001b[0;34m]\u001b[0m \u001b[0;32mfor\u001b[0m \u001b[0memail\u001b[0m \u001b[0;32min\u001b[0m \u001b[0memails\u001b[0m\u001b[0;34m]\u001b[0m\u001b[0;34m\u001b[0m\u001b[0;34m\u001b[0m\u001b[0m\n\u001b[1;32m     28\u001b[0m     }\n",
      "\u001b[0;31mKeyError\u001b[0m: 'to'"
     ]
    }
   ],
   "source": [
    "parse_into_emails(emails.message)"
   ]
  },
  {
   "cell_type": "code",
   "execution_count": 58,
   "metadata": {},
   "outputs": [],
   "source": [
    "sample = emails.sample(5)"
   ]
  },
  {
   "cell_type": "code",
   "execution_count": 96,
   "metadata": {},
   "outputs": [
    {
     "data": {
      "text/plain": [
       "['Message-ID: <9702587.1075841867339.JavaMail.evans@thyme>\\nDate: Thu, 14 Dec 2000 18:57:00 -0800 (PST)\\nFrom: pmadpr@worldnet.att.net\\nSubject: PowerMarketers.com Daily Power Report for 15 December 2000\\nMime-Version: 1.0\\nContent-Type: text/plain; charset=us-ascii\\nContent-Transfer-Encoding: 7bit\\nX-From: \"The Power Marketing Association\" <pmadpr@worldnet.att.net>\\nX-To: \\nX-cc: \\nX-bcc: \\nX-Folder: \\\\kate symes 6-27-02\\\\Notes Folders\\\\Power marketer\\nX-Origin: SYMES-K\\nX-FileName: kate symes 6-27-02.nsf\\n\\nAttention POWER REPORT Readers: Go to \\nhttp://www.powermarketers.com/prdaily.htm to view today\\'s edition with direct \\nheadline links to each story.]\\n\\n======================================================================\\nThe Industry\\'s Preferred Source For Breaking Energy News And Information\\nhttp://www.powermarketers.com\\n----------------------------------------------------------------------\\nT H E P O W E R M A R K E T E R S .C O M P O W E R R E P O R T\\n\\nToday\\'s Headlines From POWERMARKETERS.COM\\n\\nSubscriptions to The PowerMarketers.com Power Report are free - you will \\nnever be charged.\\n\\nYou may redistribute this e-mail without change. You may not redistribute \\nstories.\\n\\nTo register for a free subscription, point your browser to: \\nhttp://www.retailenergy.com/pma/dprreg.htm\\n\\n************************************************************************\\n\\n------Advertisement------\\n\\nTHE ENERGY INFO SOURCE TRANSMISSION REPORT (December 2000 Edition)\\n* Detailed Analysis of October 15th RTO and ISO Filings\\n* Transcos and Gridcos\\n* Maps of Transco and RTO areas\\n* Much, much more.\\nhttp://www.pmaconference.com/Transmission.pdf\\n\\nFINANCIAL TIMES NORTH AMERICAN ELECTRIC POWER SYSTEM WALL MAP\\nSpecial Holiday Offer-- $100 Off if Ordered by New Years!\\nhttp://www.pmaconference.com/powermaps.pdf\\n\\n************************************************************************\\n------Advertisement------\\n\\nMANAGING THE RISK OF RETAIL OPERATIONS -- January 18-19, 2001, Orlando\\nhttp://www.pmaconference.com/retailrisk1.18.pdf\\n\\nNUCLEAR ASSET DIVESTITURE -- Jan 30-Feb 1 , New Orleans\\nhttp://www.pmaconference.com/nuc-ebro.pdf\\n\\nPOWER MARKETS 2001 --MARCH 14-16, 2001 LAS VEGAS, NEVADA\\n>>>> Now Available: Exhibition Space and Sponsorships\\nhttp://www.pmaconference.com/0103Agenda.pdf\\n\\n************************************************************************\\n\\n--------------------T O P S T O R I E S--------------------\\n\\nTop Stories (December 14)\\n\\nNEW CEO: CALIFORNIA MESS WON\\'T DETER ENRON\\'S AGGRESSIVE TRADE\\nEnron Corp. will continue to aggressively trade power and gas in the \\ncountry\\'s deregulated markets, despite the political crisis sparked by \\nsurging electricity prices and near blackouts in California, the company\\'s \\nnew chief executive said Wednesday.\\nhttp://199.97.97.79/IMDS%PMADJN0%read%/home/content/users/imds/feeds/djn/2000/\\n12/14/eng-djn/eng-djn_000020_44_3054680922069\\n\\nDUKE ENERGY UNIT SELLS 23% STAKE IN OKLAHOMA POWER PLANT\\nDuke Energy Corp.\\'s Duke Energy North America unit sold its 23% interest in a \\n500-megawatt merchant power plant under construction in McClain County, \\nOkla., to the Oklahoma Municipal Power Authority.\\nhttp://199.97.97.79/IMDS%PMADJN0%read%/home/content/users/imds/feeds/djn/2000/\\n12/14/eng-djn/eng-djn_150024_149_504289727192\\n\\nNEW YORK PSC\\'S MARKET GOALS COULD KILL GROWTH - GENERATORS\\nA report by New York utility regulators on Thursday that calls for a $150 a \\nmegawatt-hour price cap on the state\\'s wholesale power market could seriously \\nhamper efforts to attract new power plant development, generators said.\\nhttp://199.97.97.79/IMDS%PMADJN0%read%/home/content/users/imds/feeds/djn/2000/\\n12/14/eng-djn/eng-djn_194038_154_461525930092\\n\\nUS DOE RICHARDSON ASKS FERC FOR CALIFORNIA ELECTRIC SUMMIT MONDAY\\nU.S. Energy Secretary Bill Richardson has asked the Federal Energy Regulatory \\nCommission to call a \"settlement conference\" of California\\'s utilities, \\nindependent power producers, marketing companies and the state Public \\nUtilities Commission Monday.\\nhttp://199.97.97.79/IMDS%PMADJN0%read%/home/content/users/imds/feeds/djn/2000/\\n12/14/eng-djn/eng-djn_224024_133_053859288339\\n\\nFEDERAL REGULATORS APPROVE NEW WISCONSIN ELECTRIC TRANSMISSION COMPANY\\nElectric customers throughout Wisconsin should have a better chance of \\nkeeping the lights on, thanks to a new, statewide electric transmission \\ncompany approved Wednesday by federal regulators.\\nhttp://199.97.97.163/IMDS%PMAKRT0%read%/home/content/users/imds/feeds/knightri\\ndder/2000/12/14/krtbn/0000-0537-WJ-ELECTRIC\\n\\nPOWER CRISIS COSTS CALIFORNIA UTILITIES $1 BILLION IN ONE WEEK\\nCalifornia\\'s energy crisis has blown the lid off wholesale price caps ---- \\nthe state\\'s attempt to control electricity costs ---- as defiance from power \\ncompanies and competition from other states for scarce supplies has sent \\nthose costs soaring beyond state-imposed limits.\\nhttp://199.97.97.163/IMDS%PMAKRT0%read%/home/content/users/imds/feeds/knightri\\ndder/2000/12/14/krtbn/0000-0122-ES-POWER-CRISIS\\n\\n----------------------------------------------------------------------\\nDOW JONES NEWSWIRES\\n----------------------------------------------------------------------\\n\\nAccess stories online at: \\nhttp://199.97.97.79/IMDS|PMADJN0,PMADJN1,PMADJN2,PMADJN3,PMADJN4|index\\n\\nColorado Regulators OK Xcel Power Deals With Enron,Others\\n\\nUS DOE Richardson Asks FERC For Calif Elec Summit Mon\\n\\nLa. PSC Approves $72M Refund To End Entergy Fuel Case\\n\\nSen. Feinstein Urges Wholesale Regional Power Price Cap\\n\\nCinergy Unit/Va. Units -2:Would Produce 330 Megawatts>CIN\\n\\nSen Breaux To Meet Bush In Texas Friday - CNN\\n\\nNY PSC\\'s Power Mkt Goals Could Kill Growth - Generators\\n\\nUniSource Energy Outlook-2: Cites Wholesale Energy Margin\\n\\nCinergy Unit Mulling 4 Generating Units In Va. >CIN\\n\\nPRESS RELEASE: Xcel Energy Unsec Rated BBB+ By S&P\\n\\nUniSource Energy Boosts \\'00 Net Estimate To $1.10/Shr\\n\\nCalif ISO/\\'Dirty 13\\'-3: PGE Says It Never Stopped Selling\\n\\nCinergy Corp. Names Chmn -2: Will Remain Pres, CEO >CIN\\n\\nREPEAT:NY Regulators Want $150/MWh Soft Cap On Power Mkt\\n\\nDuke Energy Unit/Pwr Plant -2: Sees Close By End Of 1Q\\n\\nSaab Unit Kockums Sells Wind Power Ops To German Enercon\\n\\nDuke Energy Unit Sells 23% Stake In Okla. Power Plant>DUK\\n\\nSouthern Co Names Andrew Dearman Transmission Chief >SO\\n\\nAES Alamitos -2:Agrees To Install New Emission Tech>AES\\n\\nHEW Offers Bewag Option On 25.1% Stake In Veag\\n\\nREPEAT:Calif Gov Posts Names Of `Dirty 13\\' Pwr Suppliers\\n\\nREPEAT:Xcel: Resumed Sales To Calif ISO For Emergency\\n\\nMidwest ISO CEO Resigns; Grid Group CFO To Take Post\\n\\nAES Alamitos To Pay $17M Fine >AES\\n\\nRevised Palo Verde Futures Vol. Dec. 13, 0\\n\\nAES Alamitos, S Coast Air Quality Mgmt District In Pact\\n\\nAES Alamitos Says It Settles Emission Violations\\n\\nPoland\\'s Tsy May Not Open G-8 Power Tender Until Jan 2001\\n\\nABB/Contract/Murphy Oil -3: In Line With Strategy\\n\\nHEW, Vattenfall Become Major German Power With Veag Buy\\n\\nABB/Contract/Murphy Oil -2: Project Completion In 2Q 2003\\n\\nJapan Power, Trading Firms Form Power Equip E-Commerce JV\\n\\nABB Gets $160M Clean-Fuel Contract From Murphy Oil>Z.ABB\\n\\nINTERVIEW: Edison Needs $1B Loan To Stay In Business-CEO\\n\\nNew CEO:Calif Mess Won\\'t Deter Enron\\'s Aggressive Trade\\n\\nNew CEO:Calif Crisis Won\\'t Deter Enron\\'s Aggressive Trade\\n\\nFREE TRIAL: For a free trial of the Dow Jones Energy Service go to\\nwww.dowjonesnews.com, and click \"create account,\" or call\\n1-800-223-2274.\\n\\n----------------------------------------------------------------------\\nN A T I O N A L\\n----------------------------------------------------------------------\\nAccess stories online at: http://www.powermarketers.com/pma-nat.htm\\n\\nRedwood Energy, Ltd.\\n\\nIce Storms Cause Power Outages\\n\\nPSC Megawatt Cap\\n\\nEnergy Prices Push Up Inflation in November, Worst Yet to Come Analysts Say\\n\\n12/14 Electric Company Needs Room To Breathe\\n\\nAgrium Well Positioned in the Face of Record Natural Gas Prices\\n\\nCalifornia Power Crisis Eases After Emergency Action\\n\\nTop Energy Summaries - Thursday, December 14, 2000 - 5:21 PM\\n\\nGreentech Energy Systems Invests in Wind Power\\n\\nDuke Energy Field Services Completes Colorado Plant Expansion; Eases Weld \\nCounty Processing Constraints\\n\\nMitchell Energy Announces $473 Million Capital Budget\\n\\nAda-Es Begins Work on Installing And Testing Mercury Emissions Controls at \\nCoal-Burning Power Plants As EPA Issues New Regulations\\n\\nCoal Refuses to Bow Out, Takes New Form\\n\\nHelp! Energy Costs Will Strap Many\\n\\nDuke Energy CO Corp - Outlines Position in California Electricity Market\\n\\nAutlan Seen Hard-Pressed by Natural Gas Hikes\\n\\nNY Natural Gas Review: Down in Choppy Trade After Rally Stalls\\n\\nCinergy Buys 2 Power Plants\\n\\nUS/Canada Spot Natural Gas: Inside Wed Range in Quiet Trade\\n\\nDevon Energy Corp - First Production from Canadian Gas Discovery\\n\\nNorthstar Energy Corp - First Production from Canadian Gas Discovery\\n\\nLuscar Awarded Milner Coal Supply Contract\\n\\nCummins Partners with Allison Transmission to Power Diesel Hybrid Electric \\nDrive System\\n\\nLeading Power Generation Manufacturer Selects Excelon B2b Portal Server to \\nDeliver Rich Content to Consulting Engineer CustomersXml-Based Solution \\nAggregates Information from Disparate Sources for Delivery to Key Design \\nPersonnel\\n\\nStatement Regarding Introduction of Diesel-Electric Buses Into Orange County, \\nCalifornia\\n\\nTop Energy Summaries - Thursday, December 14, 2000 - 2:32 PM\\n\\nEPA Takes Critical First Step to Regulate Coal-Fired Power Plants for Mercury \\nEmissions, Says National Wildlife Federation\\n\\nRepeats: Energy Volume And Open Interest Totals-DEC 14\\n\\nEnergy Update/Los Angeles Department of Water And Power Daily Energy Update, \\nThursday, DEC. 14, 2000\\n\\nCalifornia ISO Calls Stage One And Two Electrical Emergencies; Conservation \\nEfforts Are Helping And Need to Continue\\n\\nAlabama Power Supports Water Allocation Proposal\\n\\nDarlene D. Kerr Elected President & Chief Operating Officer, Niagara Mohawk \\nPower Corporation27-Year Industry Veteran And Syracuse Native Among Senior \\nMost Women in Power Industry\\n\\nPenny-Pinching for Power Preparing: Possibility of Surcharge Prompts City, \\nBusinesses to Begin Cutting Back on Power Use\\n\\nFircrest Won\\'t Feel the Surge in Power Rates\\n\\nFeds Order Northwest Power to California Tacoma: Utility Puts on Hold 86% \\nSurcharge Plan\\n\\nRidge Administration Promotes Energy Conservation As Weather Gets Colder\\n\\nEnergy IPOs to Boost New-Issue Market\\n\\nTop Energy Summaries - Thursday, December 14, 2000 - 12:22 PM\\n\\nSeventh Energy Ltd - Financing And Updates Princess Area Activity\\n\\nDuke Energy CO Corp - Sells Interest in Oklahoma Merchant Power Facility\\n\\nWill Ferc Jolt Or Jilt? Only Feds Can Stabilize the West\\'s Energy Crisis\\n\\nU.S. Orders Power to State: Emergency Action Taken to Avoid Rolling Blackouts\\n\\nSemco Energy, Inc. Declares Quarterly Dividend\\n\\nSouthwestern Energy Company Invites You to Join Its 2001 Outlook & Strategy \\nConference Call on The Web\\n\\nDuke Energy Sells Interest in Oklahoma Merchant Power Facility\\n\\nSeventh Energy Ltd. Announces Financing And Updates\\n\\nDwp Offers Energy Efficiency CD-Rom Free to Customers; Special Program Seeks \\nto Free Up More Electricity Supplies to Assist California During Winter \\nEnergy Crunch\\n\\nEl Paso Merchant Energy Chooses Caminus Corporations\\'s Zai*Net Gasmaster\\n\\nEl Paso Merchant Energy Chooses Caminus Corporations\\'s Zai*Net \\nGasmasterCaminus Zai*Net Solutions Sales Brisk in Volatile Energy Markets\\n\\nLucent Technologies: Lucent And Boston Digital Agree to CO-Market Billing & \\nCustomer Relationship Management Software for Energy Market\\n\\nCMS Energy Announces Belinda Foxworth Promoted to Senior Vice President And \\nGeneral Counsel of Its CMS Enterprises Unit\\n\\n2 Superstars to Join the Renewable Energy ``Dream Team\\'\\'\\n\\nTop Energy Summaries - Thursday, December 14, 2000 - 9:02 Am\\n\\nOrange County Transportation Authority Becomes First on West Coast to Place \\nHybrid-Electric Transit Bus Into Commercial Service\\n\\nAlberta Energy CO Ltd - to Grow Natural Gas Sales by 23 Per Cent; - $1.9 \\nBillion Net Capital Investment in 2001\\n\\nSeventh Energy Ltd. Announces Financing And Updates Princess Area Activity\\n\\nEnergy Chief Steps in / U.S. Energy Chief Steps in, Keeps Lights on in \\nCalifornia\\n\\nAEC to Grow Natural Gas Sales by 23 Per Cent; $1.9 Billion Net Capital \\nInvestment in 2001\\n\\nEnergy Ipos to Boost New-Issue Market\\n\\nEsco Technologies Announces Award of Major Follow-on Contract by Puerto Rico \\nElectric Power Authority\\n\\nNorsk Hydro retains CROGI target at 10 pct for 2002\\n\\nAndersen Consulting Selects Regional Economic Research Inc. to Create \\nProfiling System for The Electric Reliability Council of Texas\\n\\nModern Electric Seeks Nominations\\n\\nOur View ; Generation Gap a Threat to Region\\n\\nAvista Has Plan to Boost Power Output Oregon Project Will Suspend; Expansion \\nof Rathdrum Plant\\n\\nPower Profits Must Stay in Northwest, Bpa Says Agency Says Repurchased \\nElectricity; Eases Demand for Hydropower\\n\\nResidents Asked to Conserve Power Northwest Governors Take Steps to Avert \\nEnergy Shortages\\n\\nKaiser Closing Mead Smelter Firm to Sell Power; 400 Workers Idled for 10 \\nMonths\\n\\nEnergy Crisis\\n\\nMbta Hires Firm to Demolish Power Plant\\n\\nCurtailing Utilities\\' Coal-Burning Won\\'t Work\\n\\nState\\'s Electric CO-Ops Look at Self-Regulation\\n\\nAquila Energy Corp Filed for Ipo.\\n\\n----------------------------------------------------------------------\\nI N T E R N A T I O N A L\\n----------------------------------------------------------------------\\nAccess stories online at: http://www.powermarketers.com/pma-intr.htm\\n\\nAdb Approves Energy Loan to Pakistan\\n\\nChernobyl Power Plant to Be Closed for Political Benefit Only.\\n\\nNew Focus of the Power Sector: Grid Construction, Upgrades Almost Tripled\\n\\nM\\'bishi Heavy to Launch Solar Battery Business\\n\\n3 Power Suppliers to Launch E-Commerce Market\\n\\nEnergy Giant BP Unveils Capstone-Powered Gas Station/Energy Museum; Capstone \\nMicroturbine Supplies Bulk of Electricity to Innovative Madrid Facility\\n\\nBrazil: Alcan Invests in Electric Power Generating\\n\\nPeru: Vattenfall Acquired Energy Assets\\n\\nCMS Energy Executes Agreement to Sell Its Ownership in Edeersa Electric \\nDistribution Utility in Entre Rios, Argentina\\n\\nSaab: Kockums Industrier Divests Manufacture of Wind Power Pylons to Enercon \\nof Germany\\n\\nAdb: Pakistan to Privatize Power Utilities And Stem Heavy Losses\\n\\nChirac Reaffirms Confidence in Nuclear Energy\\n\\nEvercel Announces New Electric Scooter Initiative in Asia Flying Electric \\nMotor CO. Ltd. Plans \\'Direct-to-Consumer\\' Sales\\n\\nUK Government: Government Gives Go Ahead for Northfleet Combined Heat And \\nPower Station\\n\\nMozambique and SAfrica end tariff war over power supply\\n\\nEurope: Green Energy Certificates to Start Test Trading in Jan\\n\\nChina: Chongqing to Relocate 50,000 Living in Three Gorges Power Project Area\\n\\nHarbin Power, Harbin Power Plant form China engineering tech jv\\n\\nNew Focus of the Power Sector: Grid Contruction, Upgrades Almost Tripled\\n\\n----------------------------------------------------------------------\\nKRT DAILY ENERGY NEWS\\n----------------------------------------------------------------------\\nAccess stories online at http://www.powermarketers.com/pma-krt.htm\\n\\nFederal Regulators Approve New Wisconsin Electric Transmission Company\\n\\nTennessee Valley Authority Sued in Dispute Over Electricity Charges\\n\\nTacoma, Wash., Utility Proposes Charging Customers 86 Percent Surcharge\\n\\nNew Chief of Scottish Power Mulls Shake-Up\\n\\nBritish CEO Agrees to Split Top Electric Company Jobs\\n\\nWeather Allows a Break for California Power Network\\n\\nCalifornia Suffers from Another Round of Electricity Shortages\\n\\nCalifornia Exchange Requests Permission to Let Electricity Prices Rise Again\\n\\nCalifornia Wholesale Electric Prices Soar Anew\\n\\nPower Plant Operator to Pay $17 Million Penalty for Emissions in California\\n\\nFederal Agency Intervenes in California Electricity Market\\n\\nAnaheim, Calif., Cuts Public-Benefit Electricity Fee\\n\\nReliant\\'S Arkansas Customers to See Gas Prices Rise 25 Percent to 75 Percent\\n\\nHouston Energy Company Chooses New CEO\\n\\nFederal Government Declares Electricity Emergency in California\\n\\nLondon-Based Electric Utility Hits Debt Reduction Target\\n\\nSan Diego Water Authority Wants Approval for New Rate Structure\\n\\nGenerators Back Up, But California Power Prices Still Climb\\n\\nPower Crisis Costs California Utilities $1 Billion in One Week\\n\\nColorado Utility to Contract for Six New Power Plants\\n\\nHead of Champaign, Ill.-Based Water Firm to Move to Indianapolis Water Firm\\n\\nNew CEO of GE\\'S Schenectady, N.Y.-Based Power Unit Announces Move to Atlanta\\n\\nCorporations Hire Outside Companies to Find Cheap Energy\\n\\n-Georgia, Alabama, Florida Water-Sharing Talks to Resume\\n\\n-British Power Company Buys Louisville, Ky.-Based Firm\\n\\n-Oklahoma Legislative Committee Schedules Electric Restructuring Hearing\\n\\n-General Electric Moving Power Systems Division to Atlanta\\n\\n----------------------------------------------------------------------\\nREUTERS\\n----------------------------------------------------------------------\\nAccess stories online at: http://207.32.82.57/news/ElectricPower.html\\n\\nUPDATE 1-Imports help Calif. power grid limp through day\\n\\nFEATURE-Chernobyl closure reminder for Lithuanian plant\\n\\nUPDATE 1-Thousands still lack power after U.S. ice storm\\n\\nUPDATE 1-Thousands still lack power after U.S. ice storm\\n\\nUPDATE 1-US to cut mercury emissions from coal-fired plants\\n\\nUPDATE 2-NY regulators want lower power prices, caps\\n\\nAll eyes on US regulators to solve Calif. power mess\\n\\nNew Issue - Kansas City P&L sells $250 mln 5-yr notes\\n\\nMissouri clears UtiliCorp, St. Joseph merger\\n\\nUPDATE 1-PS Enterprise buying Argentine power distributor\\n\\nMidwest ISO head resigns from troubled power group\\n\\nFERC changes meeting time for California power hearing\\n\\nSouthern Co. unit sets diversity policies in wake of bias suit\\n\\nCould energy crunch bankrupt giant Calif. utilities?\\n\\nNew Issue -TXU Electric sells $575 mln 2-part debt\\n\\nThames Water to invest $100-$110 mln in Chile utility\\n\\nUPDATE 1-TXU Texas storm outages down to 40,000 users\\n\\nEmerson Electric sees Q1 net of 83 cents/shr\\n\\nUniSource raises 2000 EPS forecast to $1.10\\n\\nS&P rates Xcel Energy notes BBB-plus\\n\\nPS Enterprise buying Argentine power distributor\\n\\nCinergy Corp names president/CEO James E. Rogers chairman\\n\\nDuke sells Oklahoma interest to power authority\\n\\nSouthernsays can help cut Italy power costs\\n\\nNY regulators propose power sale limits\\n\\nUPDATE 1-Ruhrgas takes stake in Czech gas utility SMP\\n\\nRD/Shell formalises interest in Saudi gas\\n\\nUPDATE 3-Chernobyl nuclear plant shuts down a day early\\n\\nSwiss EOS says hydro plant will be shut for months\\n\\nAES says Alamitos unit settles violations, pays fine\\n\\nPPL restoring power to 16,500 Pa. customers with outages\\n\\nDynegy Powerin $903 mln New York State deal\\n\\nUPDATE 2-BHP(BHP.AX) to keep HBI plant open despite losses\\n\\nPolicy not cash main block to wind power growth\\n\\nPakistan\\'s Hubco holds power row talks with govt\\n\\n*********************************************************\\nNEW on the POWERMARKETERS.COM TRAINING PAGE\\n*********************************************************\\nAccess all online presentations at: http://www.pmaconference.com\\n\\nNew! Now you can choose to stream the presentation immediately over the web, \\nor download it to your computer for later viewing-- Free!\\n\\nNew! Five additional RealVideo-based powerpoint-based presentations, with the \\naccompanying audio. Running about 30 minutes each, the new selections include:\\n\\nELECTRONIC TRADING. Power is following natural gas to become an \\nelectronically-traded commodity. The products, the technology and the future \\nof electricity transactions. Kevin Sluder, Vice President, HoustonStreet \\nExchange.\\n\\nNUTS AND BOLTS OF RETAILING. What it takes to put an energy retailing \\noperation together-- the cash and credit requirements, back office, \\ninformation technology, staffing, marketing, sales and organizational \\nconsiderations. Andrew Serri, Vice President, AmerenEnergy Marketing.\\n\\nRETAIL: WHAT WENT WRONG, HOW TO FIX IT. Retail electric deregulation has thus \\nfar been an underwhelming success, but a great deal has been learned, and it \\nis eminently fixable. By Dr. John O\\'Brien, Principal, Skipping Stone\\n\\nMANAGING BILLING. The complex requirements for managing billing and \\ncommodities in the deregulating energy industry cannot be met with current \\nCIS and CRM technology. Energy Retailers must embrace the next evolution of \\nenergy customer management (ECM) solutions. Paul Grey, Chief Technology \\nOfficer, Peace Software.\\n\\nTHE INTERNET AND THE VELOCITY FACTOR. Greater price transparency, faster \\nexecution, reduced transaction costs, increased number and frequency of \\ntransactions and increased specialization are just some of the changes to \\nenergy markets wrought by the web, and it\\'s just beginning. Implecations of \\nthe internet for energy markets. E. Russell \"Rusty\" Braziel, Chairman and \\nDirector, Altra Energy Technologies.\\n\\nAccess all online presentations at: http://www.pmaconference.com\\n\\n****************************************\\nTHE PowerMarketers.com ENERGYYELLOWPAGES\\n****************************************\\nhttp://www.energyyellowpages.net\\n\\nWhere to go when you\\'re looking for:\\nBilling Systems, Brokers, Call Centers, Coal Marketers, Computers &\\nNetworks, Conference Houses, Energy Management, Engineering Services,\\nEnvironmental Services, Exchanges & Clearing Houses, Executive Search\\nServices, Financial Services, Gas Marketers, Information Services, Internet\\nServices, Legal Services, Management Consulting , Marketing, Meters, Power\\nMarketers, Powerplant Development, Powerplant Equipment, Risk Management,\\nSales, Software, Trade Associations, Training, Weather Services and more!\\nCheck it out today! http://www.energyyellowpages.net/\\n\\n----------------------------------------------------------------------\\nOTHER NEWS & INFORMATION FEATURES ON POWERMARKETERS.COM\\n----------------------------------------------------------------------\\n\\nPRICEWATERHOUSECOOPERS NEXT-DAY POWERTRAX ELECTRIC PRICE INDEX:\\nAccess online at: http://www.powermarketers.com/p-trax.htm\\n\\nELECTRICITY SPOT PRICES:\\nAccess online at: http://www2.dtnergy.com/pma/btu.plx\\n\\nELECTRICITY FUTURES PRICES:\\nAccess online at: http://www.dtn.com/dtnonline/dtnergy/pma/pma.quotes.cfm\\n\\nNATURAL GAS FUTURES PRICES:\\nAccess online at: http://www.dtn.com/dtnonline/dtnergy/pma/pma.gas.quotes.cfm\\n\\nTHE PowerMarketers.com JobSite:\\nAccess online at: http://www.powermarketers.com/pmajobs.htm\\nA daily visit to \"The PMA Jobs Site\" at \\nhttp://www.powermarketers.com/pmajobs.htm connects you to a wealth of power \\nindustry opportunities that could supercharge your career!\\nPMA ONLINE MAGAZINE: Access online at: http://www.retailenergy.com/pmamag.htm\\n\\nNews releases may be submitted to The PowerMarketers.com Power Report via \\ne-mail to news@powermarketers.com\\n\\nCopyright 2000 by PowerMarketers.com: http://www.powermarketers.com/\\n\\nThe PowerMarketers.com Power Report is a complimentary service of The Power \\nMarketing Association. Headlines are copyrighted by their respective \\nservices: Reuters, Knight-Ridder, and others.\\n\\nSubscriptions to the PowerMarketers.com Power Report are free - you will \\nnever be charged. You may redistribute this e-mail without change. You may \\nnot redistribute stories. To register for a free subscription, point your \\nbrowser to: http://www.retailenergy.com/pma/dprreg.htm\\n\\nTO UNSUBSCRIBE OR CHANGE your subscription, (1) point your browser to \"The \\nPMA OnLine Power Report\" subscription services form at \\nhttp://www.retailenergy.com/pma/dprreg.htm\\n\\nOR\\n\\n(2) , send a message to pma@powermarketers.com. Include \"unsubscribe\" in the \\nsubject and include your name and email address for confirmation.']"
      ]
     },
     "execution_count": 96,
     "metadata": {},
     "output_type": "execute_result"
    }
   ],
   "source": [
    "sample[-1:]['message'].tolist()"
   ]
  },
  {
   "cell_type": "code",
   "execution_count": 79,
   "metadata": {},
   "outputs": [],
   "source": [
    "test = parse_into_emails(sample.message)"
   ]
  },
  {
   "cell_type": "code",
   "execution_count": 81,
   "metadata": {},
   "outputs": [
    {
     "data": {
      "text/plain": [
       "{'from': 'pmadpr@worldnet.att.net',\n",
       " 'body': 'headline links to each story.]======================================================================The Industry\\'s Preferred Source For Breaking Energy News And Information----------------------------------------------------------------------T H E P O W E R M A R K E T E R S .C O M P O W E R R E P O R TToday\\'s Headlines From POWERMARKETERS.COMSubscriptions to The PowerMarketers.com Power Report are free - you willnever be charged.You may redistribute this e-mail without change. You may not redistributestories.************************************************************************------Advertisement------THE ENERGY INFO SOURCE TRANSMISSION REPORT (December 2000 Edition)* Detailed Analysis of October 15th RTO and ISO Filings* Transcos and Gridcos* Maps of Transco and RTO areas* Much, much more.FINANCIAL TIMES NORTH AMERICAN ELECTRIC POWER SYSTEM WALL MAPSpecial Holiday Offer-- $100 Off if Ordered by New Years!************************************************************************------Advertisement------MANAGING THE RISK OF RETAIL OPERATIONS -- January 18-19, 2001, OrlandoNUCLEAR ASSET DIVESTITURE -- Jan 30-Feb 1 , New OrleansPOWER MARKETS 2001 --MARCH 14-16, 2001 LAS VEGAS, NEVADA************************************************************************--------------------T O P S T O R I E S--------------------Top Stories (December 14)Enron Corp. will continue to aggressively trade power and gas in thecountry\\'s deregulated markets, despite the political crisis sparked bysurging electricity prices and near blackouts in California, the company\\'snew chief executive said Wednesday.12/14/eng-djn/eng-djn_000020_44_3054680922069DUKE ENERGY UNIT SELLS 23% STAKE IN OKLAHOMA POWER PLANTDuke Energy Corp.\\'s Duke Energy North America unit sold its 23% interest in a500-megawatt merchant power plant under construction in McClain County,Okla., to the Oklahoma Municipal Power Authority.12/14/eng-djn/eng-djn_150024_149_504289727192NEW YORK PSC\\'S MARKET GOALS COULD KILL GROWTH - GENERATORSA report by New York utility regulators on Thursday that calls for a $150 amegawatt-hour price cap on the state\\'s wholesale power market could seriouslyhamper efforts to attract new power plant development, generators said.12/14/eng-djn/eng-djn_194038_154_461525930092US DOE RICHARDSON ASKS FERC FOR CALIFORNIA ELECTRIC SUMMIT MONDAYU.S. Energy Secretary Bill Richardson has asked the Federal Energy RegulatoryCommission to call a \"settlement conference\" of California\\'s utilities,independent power producers, marketing companies and the state PublicUtilities Commission Monday.12/14/eng-djn/eng-djn_224024_133_053859288339FEDERAL REGULATORS APPROVE NEW WISCONSIN ELECTRIC TRANSMISSION COMPANYElectric customers throughout Wisconsin should have a better chance ofkeeping the lights on, thanks to a new, statewide electric transmissioncompany approved Wednesday by federal regulators.dder/2000/12/14/krtbn/0000-0537-WJ-ELECTRICPOWER CRISIS COSTS CALIFORNIA UTILITIES $1 BILLION IN ONE WEEKCalifornia\\'s energy crisis has blown the lid off wholesale price caps ----the state\\'s attempt to control electricity costs ---- as defiance from powercompanies and competition from other states for scarce supplies has sentthose costs soaring beyond state-imposed limits.dder/2000/12/14/krtbn/0000-0122-ES-POWER-CRISIS----------------------------------------------------------------------DOW JONES NEWSWIRES----------------------------------------------------------------------Colorado Regulators OK Xcel Power Deals With Enron,OthersUS DOE Richardson Asks FERC For Calif Elec Summit MonLa. PSC Approves $72M Refund To End Entergy Fuel CaseSen. Feinstein Urges Wholesale Regional Power Price CapSen Breaux To Meet Bush In Texas Friday - CNNNY PSC\\'s Power Mkt Goals Could Kill Growth - GeneratorsCinergy Unit Mulling 4 Generating Units In Va. >CINUniSource Energy Boosts \\'00 Net Estimate To $1.10/ShrSaab Unit Kockums Sells Wind Power Ops To German EnerconDuke Energy Unit Sells 23% Stake In Okla. Power Plant>DUKSouthern Co Names Andrew Dearman Transmission Chief >SOHEW Offers Bewag Option On 25.1% Stake In VeagMidwest ISO CEO Resigns; Grid Group CFO To Take PostAES Alamitos To Pay $17M Fine >AESRevised Palo Verde Futures Vol. Dec. 13, 0AES Alamitos, S Coast Air Quality Mgmt District In PactAES Alamitos Says It Settles Emission ViolationsPoland\\'s Tsy May Not Open G-8 Power Tender Until Jan 2001HEW, Vattenfall Become Major German Power With Veag BuyJapan Power, Trading Firms Form Power Equip E-Commerce JVABB Gets $160M Clean-Fuel Contract From Murphy Oil>Z.ABBwww.dowjonesnews.com, and click \"create account,\" or call1-800-223-2274.----------------------------------------------------------------------N A T I O N A L----------------------------------------------------------------------Redwood Energy, Ltd.Ice Storms Cause Power OutagesPSC Megawatt CapEnergy Prices Push Up Inflation in November, Worst Yet to Come Analysts Say12/14 Electric Company Needs Room To BreatheAgrium Well Positioned in the Face of Record Natural Gas PricesCalifornia Power Crisis Eases After Emergency ActionGreentech Energy Systems Invests in Wind PowerDuke Energy Field Services Completes Colorado Plant Expansion; Eases WeldCounty Processing ConstraintsMitchell Energy Announces $473 Million Capital BudgetAda-Es Begins Work on Installing And Testing Mercury Emissions Controls atCoal-Burning Power Plants As EPA Issues New RegulationsCoal Refuses to Bow Out, Takes New FormHelp! Energy Costs Will Strap ManyDuke Energy CO Corp - Outlines Position in California Electricity MarketAutlan Seen Hard-Pressed by Natural Gas HikesCinergy Buys 2 Power PlantsDevon Energy Corp - First Production from Canadian Gas DiscoveryNorthstar Energy Corp - First Production from Canadian Gas DiscoveryLuscar Awarded Milner Coal Supply ContractCummins Partners with Allison Transmission to Power Diesel Hybrid ElectricDrive SystemLeading Power Generation Manufacturer Selects Excelon B2b Portal Server toDeliver Rich Content to Consulting Engineer CustomersXml-Based SolutionAggregates Information from Disparate Sources for Delivery to Key DesignPersonnelStatement Regarding Introduction of Diesel-Electric Buses Into Orange County,CaliforniaEPA Takes Critical First Step to Regulate Coal-Fired Power Plants for MercuryEmissions, Says National Wildlife FederationEnergy Update/Los Angeles Department of Water And Power Daily Energy Update,Thursday, DEC. 14, 2000California ISO Calls Stage One And Two Electrical Emergencies; ConservationEfforts Are Helping And Need to ContinueAlabama Power Supports Water Allocation ProposalDarlene D. Kerr Elected President & Chief Operating Officer, Niagara MohawkPower Corporation27-Year Industry Veteran And Syracuse Native Among SeniorMost Women in Power IndustryBusinesses to Begin Cutting Back on Power UseFircrest Won\\'t Feel the Surge in Power RatesSurcharge PlanRidge Administration Promotes Energy Conservation As Weather Gets ColderEnergy IPOs to Boost New-Issue MarketSeventh Energy Ltd - Financing And Updates Princess Area ActivityDuke Energy CO Corp - Sells Interest in Oklahoma Merchant Power FacilityWill Ferc Jolt Or Jilt? Only Feds Can Stabilize the West\\'s Energy CrisisSemco Energy, Inc. Declares Quarterly DividendSouthwestern Energy Company Invites You to Join Its 2001 Outlook & StrategyConference Call on The WebDuke Energy Sells Interest in Oklahoma Merchant Power FacilitySeventh Energy Ltd. Announces Financing And UpdatesDwp Offers Energy Efficiency CD-Rom Free to Customers; Special Program Seeksto Free Up More Electricity Supplies to Assist California During WinterEnergy CrunchEl Paso Merchant Energy Chooses Caminus Corporations\\'s Zai*Net GasmasterEl Paso Merchant Energy Chooses Caminus Corporations\\'s Zai*NetGasmasterCaminus Zai*Net Solutions Sales Brisk in Volatile Energy MarketsCustomer Relationship Management Software for Energy MarketCMS Energy Announces Belinda Foxworth Promoted to Senior Vice President AndGeneral Counsel of Its CMS Enterprises Unit2 Superstars to Join the Renewable Energy ``Dream Team\\'\\'Orange County Transportation Authority Becomes First on West Coast to PlaceHybrid-Electric Transit Bus Into Commercial ServiceAlberta Energy CO Ltd - to Grow Natural Gas Sales by 23 Per Cent; - $1.9Billion Net Capital Investment in 2001Seventh Energy Ltd. Announces Financing And Updates Princess Area ActivityEnergy Chief Steps in / U.S. Energy Chief Steps in, Keeps Lights on inCaliforniaAEC to Grow Natural Gas Sales by 23 Per Cent; $1.9 Billion Net CapitalInvestment in 2001Energy Ipos to Boost New-Issue MarketEsco Technologies Announces Award of Major Follow-on Contract by Puerto RicoElectric Power AuthorityNorsk Hydro retains CROGI target at 10 pct for 2002Andersen Consulting Selects Regional Economic Research Inc. to CreateProfiling System for The Electric Reliability Council of TexasModern Electric Seeks NominationsOur View ; Generation Gap a Threat to RegionAvista Has Plan to Boost Power Output Oregon Project Will Suspend; Expansionof Rathdrum PlantPower Profits Must Stay in Northwest, Bpa Says Agency Says RepurchasedElectricity; Eases Demand for HydropowerResidents Asked to Conserve Power Northwest Governors Take Steps to AvertEnergy ShortagesKaiser Closing Mead Smelter Firm to Sell Power; 400 Workers Idled for 10MonthsEnergy CrisisMbta Hires Firm to Demolish Power PlantCurtailing Utilities\\' Coal-Burning Won\\'t WorkState\\'s Electric CO-Ops Look at Self-RegulationAquila Energy Corp Filed for Ipo.----------------------------------------------------------------------I N T E R N A T I O N A L----------------------------------------------------------------------Adb Approves Energy Loan to PakistanChernobyl Power Plant to Be Closed for Political Benefit Only.M\\'bishi Heavy to Launch Solar Battery Business3 Power Suppliers to Launch E-Commerce MarketEnergy Giant BP Unveils Capstone-Powered Gas Station/Energy Museum; CapstoneMicroturbine Supplies Bulk of Electricity to Innovative Madrid FacilityCMS Energy Executes Agreement to Sell Its Ownership in Edeersa ElectricDistribution Utility in Entre Rios, Argentinaof GermanyChirac Reaffirms Confidence in Nuclear EnergyEvercel Announces New Electric Scooter Initiative in Asia Flying ElectricMotor CO. Ltd. Plans \\'Direct-to-Consumer\\' SalesPower StationMozambique and SAfrica end tariff war over power supplyHarbin Power, Harbin Power Plant form China engineering tech jv----------------------------------------------------------------------KRT DAILY ENERGY NEWS----------------------------------------------------------------------Federal Regulators Approve New Wisconsin Electric Transmission CompanyTennessee Valley Authority Sued in Dispute Over Electricity ChargesTacoma, Wash., Utility Proposes Charging Customers 86 Percent SurchargeNew Chief of Scottish Power Mulls Shake-UpBritish CEO Agrees to Split Top Electric Company JobsWeather Allows a Break for California Power NetworkCalifornia Suffers from Another Round of Electricity ShortagesCalifornia Exchange Requests Permission to Let Electricity Prices Rise AgainCalifornia Wholesale Electric Prices Soar AnewPower Plant Operator to Pay $17 Million Penalty for Emissions in CaliforniaFederal Agency Intervenes in California Electricity MarketAnaheim, Calif., Cuts Public-Benefit Electricity FeeReliant\\'S Arkansas Customers to See Gas Prices Rise 25 Percent to 75 PercentHouston Energy Company Chooses New CEOFederal Government Declares Electricity Emergency in CaliforniaLondon-Based Electric Utility Hits Debt Reduction TargetSan Diego Water Authority Wants Approval for New Rate StructureGenerators Back Up, But California Power Prices Still ClimbPower Crisis Costs California Utilities $1 Billion in One WeekColorado Utility to Contract for Six New Power PlantsHead of Champaign, Ill.-Based Water Firm to Move to Indianapolis Water FirmNew CEO of GE\\'S Schenectady, N.Y.-Based Power Unit Announces Move to AtlantaCorporations Hire Outside Companies to Find Cheap Energy-Georgia, Alabama, Florida Water-Sharing Talks to Resume-British Power Company Buys Louisville, Ky.-Based Firm-Oklahoma Legislative Committee Schedules Electric Restructuring Hearing-General Electric Moving Power Systems Division to Atlanta----------------------------------------------------------------------REUTERS----------------------------------------------------------------------UPDATE 1-Imports help Calif. power grid limp through dayFEATURE-Chernobyl closure reminder for Lithuanian plantUPDATE 1-Thousands still lack power after U.S. ice stormUPDATE 1-Thousands still lack power after U.S. ice stormUPDATE 1-US to cut mercury emissions from coal-fired plantsUPDATE 2-NY regulators want lower power prices, capsAll eyes on US regulators to solve Calif. power messNew Issue - Kansas City P&L sells $250 mln 5-yr notesMissouri clears UtiliCorp, St. Joseph mergerUPDATE 1-PS Enterprise buying Argentine power distributorMidwest ISO head resigns from troubled power groupFERC changes meeting time for California power hearingSouthern Co. unit sets diversity policies in wake of bias suitCould energy crunch bankrupt giant Calif. utilities?New Issue -TXU Electric sells $575 mln 2-part debtThames Water to invest $100-$110 mln in Chile utilityUPDATE 1-TXU Texas storm outages down to 40,000 usersEmerson Electric sees Q1 net of 83 cents/shrUniSource raises 2000 EPS forecast to $1.10S&P rates Xcel Energy notes BBB-plusPS Enterprise buying Argentine power distributorCinergy Corp names president/CEO James E. Rogers chairmanDuke sells Oklahoma interest to power authoritySouthernsays can help cut Italy power costsNY regulators propose power sale limitsUPDATE 1-Ruhrgas takes stake in Czech gas utility SMPRD/Shell formalises interest in Saudi gasUPDATE 3-Chernobyl nuclear plant shuts down a day earlySwiss EOS says hydro plant will be shut for monthsAES says Alamitos unit settles violations, pays finePPL restoring power to 16,500 Pa. customers with outagesDynegy Powerin $903 mln New York State dealUPDATE 2-BHP(BHP.AX) to keep HBI plant open despite lossesPolicy not cash main block to wind power growthPakistan\\'s Hubco holds power row talks with govt*********************************************************NEW on the POWERMARKETERS.COM TRAINING PAGE*********************************************************New! Now you can choose to stream the presentation immediately over the web,or download it to your computer for later viewing-- Free!New! Five additional RealVideo-based powerpoint-based presentations, with theELECTRONIC TRADING. Power is following natural gas to become anelectronically-traded commodity. The products, the technology and the futureof electricity transactions. Kevin Sluder, Vice President, HoustonStreetExchange.NUTS AND BOLTS OF RETAILING. What it takes to put an energy retailingoperation together-- the cash and credit requirements, back office,information technology, staffing, marketing, sales and organizationalconsiderations. Andrew Serri, Vice President, AmerenEnergy Marketing.far been an underwhelming success, but a great deal has been learned, and itis eminently fixable. By Dr. John O\\'Brien, Principal, Skipping StoneMANAGING BILLING. The complex requirements for managing billing andcommodities in the deregulating energy industry cannot be met with currentCIS and CRM technology. Energy Retailers must embrace the next evolution ofenergy customer management (ECM) solutions. Paul Grey, Chief TechnologyOfficer, Peace Software.THE INTERNET AND THE VELOCITY FACTOR. Greater price transparency, fasterexecution, reduced transaction costs, increased number and frequency oftransactions and increased specialization are just some of the changes toenergy markets wrought by the web, and it\\'s just beginning. Implecations ofthe internet for energy markets. E. Russell \"Rusty\" Braziel, Chairman andDirector, Altra Energy Technologies.****************************************THE PowerMarketers.com ENERGYYELLOWPAGES****************************************Billing Systems, Brokers, Call Centers, Coal Marketers, Computers &Networks, Conference Houses, Energy Management, Engineering Services,Environmental Services, Exchanges & Clearing Houses, Executive SearchServices, Financial Services, Gas Marketers, Information Services, InternetServices, Legal Services, Management Consulting , Marketing, Meters, PowerMarketers, Powerplant Development, Powerplant Equipment, Risk Management,Sales, Software, Trade Associations, Training, Weather Services and more!----------------------------------------------------------------------OTHER NEWS & INFORMATION FEATURES ON POWERMARKETERS.COM----------------------------------------------------------------------A daily visit to \"The PMA Jobs Site\" atindustry opportunities that could supercharge your career!News releases may be submitted to The PowerMarketers.com Power Report viae-mail to news@powermarketers.comThe PowerMarketers.com Power Report is a complimentary service of The PowerMarketing Association. Headlines are copyrighted by their respectiveSubscriptions to the PowerMarketers.com Power Report are free - you willnever be charged. You may redistribute this e-mail without change. You maynot redistribute stories. To register for a free subscription, point yourTO UNSUBSCRIBE OR CHANGE your subscription, (1) point your browser to \"ThePMA OnLine Power Report\" subscription services form atOR(2) , send a message to pma@powermarketers.com. Include \"unsubscribe\" in thesubject and include your name and email address for confirmation.'}"
      ]
     },
     "execution_count": 81,
     "metadata": {},
     "output_type": "execute_result"
    }
   ],
   "source": [
    "test[4]"
   ]
  },
  {
   "cell_type": "code",
   "execution_count": 76,
   "metadata": {},
   "outputs": [
    {
     "ename": "KeyError",
     "evalue": "'to'",
     "output_type": "error",
     "traceback": [
      "\u001b[0;31m---------------------------------------------------------------------------\u001b[0m",
      "\u001b[0;31mKeyError\u001b[0m                                  Traceback (most recent call last)",
      "\u001b[0;32m<ipython-input-76-2d22b781cb75>\u001b[0m in \u001b[0;36m<module>\u001b[0;34m\u001b[0m\n\u001b[0;32m----> 1\u001b[0;31m \u001b[0;34m[\u001b[0m\u001b[0memail\u001b[0m\u001b[0;34m[\u001b[0m\u001b[0;34m'to'\u001b[0m\u001b[0;34m]\u001b[0m \u001b[0;32mfor\u001b[0m \u001b[0memail\u001b[0m \u001b[0;32min\u001b[0m \u001b[0mtest\u001b[0m\u001b[0;34m]\u001b[0m\u001b[0;34m\u001b[0m\u001b[0;34m\u001b[0m\u001b[0m\n\u001b[0m",
      "\u001b[0;32m<ipython-input-76-2d22b781cb75>\u001b[0m in \u001b[0;36m<listcomp>\u001b[0;34m(.0)\u001b[0m\n\u001b[0;32m----> 1\u001b[0;31m \u001b[0;34m[\u001b[0m\u001b[0memail\u001b[0m\u001b[0;34m[\u001b[0m\u001b[0;34m'to'\u001b[0m\u001b[0;34m]\u001b[0m \u001b[0;32mfor\u001b[0m \u001b[0memail\u001b[0m \u001b[0;32min\u001b[0m \u001b[0mtest\u001b[0m\u001b[0;34m]\u001b[0m\u001b[0;34m\u001b[0m\u001b[0;34m\u001b[0m\u001b[0m\n\u001b[0m",
      "\u001b[0;31mKeyError\u001b[0m: 'to'"
     ]
    }
   ],
   "source": [
    "[email['to'] for email in test]"
   ]
  },
  {
   "cell_type": "code",
   "execution_count": 72,
   "metadata": {},
   "outputs": [
    {
     "ename": "KeyError",
     "evalue": "'to'",
     "output_type": "error",
     "traceback": [
      "\u001b[0;31m---------------------------------------------------------------------------\u001b[0m",
      "\u001b[0;31mKeyError\u001b[0m                                  Traceback (most recent call last)",
      "\u001b[0;32m<ipython-input-72-442993707e86>\u001b[0m in \u001b[0;36m<module>\u001b[0;34m\u001b[0m\n\u001b[1;32m      1\u001b[0m {'body': [email['body'] for email in test], \n\u001b[0;32m----> 2\u001b[0;31m         \u001b[0;34m'to'\u001b[0m\u001b[0;34m:\u001b[0m \u001b[0;34m[\u001b[0m\u001b[0memail\u001b[0m\u001b[0;34m[\u001b[0m\u001b[0;34m'to'\u001b[0m\u001b[0;34m]\u001b[0m \u001b[0;32mfor\u001b[0m \u001b[0memail\u001b[0m \u001b[0;32min\u001b[0m \u001b[0mtest\u001b[0m\u001b[0;34m]\u001b[0m\u001b[0;34m,\u001b[0m\u001b[0;34m\u001b[0m\u001b[0;34m\u001b[0m\u001b[0m\n\u001b[0m\u001b[1;32m      3\u001b[0m         'from': [email['from'] for email in test]}\n",
      "\u001b[0;32m<ipython-input-72-442993707e86>\u001b[0m in \u001b[0;36m<listcomp>\u001b[0;34m(.0)\u001b[0m\n\u001b[1;32m      1\u001b[0m {'body': [email['body'] for email in test], \n\u001b[0;32m----> 2\u001b[0;31m         \u001b[0;34m'to'\u001b[0m\u001b[0;34m:\u001b[0m \u001b[0;34m[\u001b[0m\u001b[0memail\u001b[0m\u001b[0;34m[\u001b[0m\u001b[0;34m'to'\u001b[0m\u001b[0;34m]\u001b[0m \u001b[0;32mfor\u001b[0m \u001b[0memail\u001b[0m \u001b[0;32min\u001b[0m \u001b[0mtest\u001b[0m\u001b[0;34m]\u001b[0m\u001b[0;34m,\u001b[0m\u001b[0;34m\u001b[0m\u001b[0;34m\u001b[0m\u001b[0m\n\u001b[0m\u001b[1;32m      3\u001b[0m         'from': [email['from'] for email in test]}\n",
      "\u001b[0;31mKeyError\u001b[0m: 'to'"
     ]
    }
   ],
   "source": [
    "{'body': [email['body'] for email in test], \n",
    "        'to': [email['to'] for email in test], \n",
    "        'from': [email['from'] for email in test]}"
   ]
  },
  {
   "cell_type": "code",
   "execution_count": null,
   "metadata": {},
   "outputs": [],
   "source": [
    "# first I will tokenize\n",
    "import spacy\n",
    "from spacy.tokenizer import Tokenizer\n",
    "\n",
    "nlp = spacy.load(\"en_core_web_sm\")\n",
    "\n",
    "# Tokenizer\n",
    "tokenizer = Tokenizer(nlp.vocab)"
   ]
  },
  {
   "cell_type": "markdown",
   "metadata": {
    "colab_type": "text",
    "id": "1dCb1q8XphcP",
    "toc-hr-collapsed": true
   },
   "source": [
    "## Stretch Goals\n",
    "\n",
    "* Write a web scraper that can scrape \"Data Scientist\" job listings from indeed.com.\n",
    "* Look ahead to some of the topics from later this week:\n",
    " - Part of Speech Tagging\n",
    " - Named Entity Recognition\n",
    " - Document Classification\n",
    "* Try a different visualization techniques\n",
    "* Automate the process of retriving job listings. ;)"
   ]
  }
 ],
 "metadata": {
  "colab": {
   "collapsed_sections": [],
   "name": "LS_DS_421_Text_Data_Assignment.ipynb",
   "provenance": [],
   "version": "0.3.2"
  },
  "kernelspec": {
   "display_name": "Python 3",
   "language": "python",
   "name": "python3"
  },
  "language_info": {
   "codemirror_mode": {
    "name": "ipython",
    "version": 3
   },
   "file_extension": ".py",
   "mimetype": "text/x-python",
   "name": "python",
   "nbconvert_exporter": "python",
   "pygments_lexer": "ipython3",
   "version": "3.7.3"
  },
  "toc-autonumbering": false
 },
 "nbformat": 4,
 "nbformat_minor": 2
}
