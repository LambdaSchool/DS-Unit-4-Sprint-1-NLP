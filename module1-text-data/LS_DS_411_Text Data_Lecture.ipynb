{
 "cells": [
  {
   "cell_type": "markdown",
   "metadata": {
    "toc-hr-collapsed": false
   },
   "source": [
    "Lambda School Data Science\n",
    "\n",
    "*Unit 4, Sprint 1, Module 1*\n",
    "\n",
    "---\n",
    "<h1 id=\"moduleTitle\"> Natural Language Processing Introduction (Prepare)</h1>\n",
    "\n",
    "\"Natural\" meaning - not computer languages but spoken/written human languages. The hard thing about NLP is that human languages are far less structured or consistent than computer languages. This is perhaps the largest source of difficulty when trying to get computers to \"understand\" human languages. How do you get a machine to understand sarcasm, and irony, and synonyms, connotation, denotation, nuance, and tone of voice --all without it having lived a lifetime of experience for context? If you think about it, our human brains have been exposed to quite a lot of training data to help us interpret languages, and even then we misunderstand each other pretty frequently. \n",
    "    \n",
    "\n",
    "<h2 id='moduleObjectives'>Learning Objectives</h2>\n",
    "\n",
    "By the end of end of this module, a student should be able to:\n",
    "* <a href=\"#p1\">Objective 1</a>: Tokenize text\n",
    "* <a href=\"#p1\">Objective 2</a>: Remove stop words from text\n",
    "* <a href=\"#p3\">Objective 3</a>: Perform stemming and lemmatization on tokens\n",
    "\n",
    "## Conda Environments\n",
    "\n",
    "You will be completing each module this sprint on your machine. We will be using conda environments to manage the packages and their dependencies for this sprint's content. In a classroom setting, instructors typically abstract away environment for you. However, environment management is an important professional data science skill. We showed you how to manage environments using pipvirtual env during Unit 3, but in this sprint, we will introduce an environment management tool common in the data science community: \n",
    "\n",
    "> __conda__: Package, dependency and environment management for any language—Python, R, Ruby, Lua, Scala, Java, JavaScript, C/ C++, FORTRAN, and more.\n",
    "\n",
    "The easiest way to install conda on your machine is via the [Anaconda Distribution](https://www.anaconda.com/distribution/) of Python & R. Once you have conda installed, read [\"A Guide to Conda Environments\"](https://towardsdatascience.com/a-guide-to-conda-environments-bc6180fc533). This article will provide an introduce into some of the conda basics. If you need some additional help getting started, the official [\"Setting started with conda\"](https://conda.io/projects/conda/en/latest/user-guide/getting-started.html) guide will point you in the right direction. \n",
    "\n",
    ":snake: \n",
    "\n",
    "To get the sprint environment setup: \n",
    "\n",
    "1. Open your command line tool (Terminal for MacOS, Anaconda Prompt for Windows)\n",
    "2. Navigate to the folder with this sprint's content. There should be a `requirements.txt`\n",
    "3. Run `conda create -n U4-S1-NLP python==3.7` => You can also rename the environment if you would like. Once the command completes, your conda environment should be ready.\n",
    "4. Now, we are going to add in the require python packages for this sprint. You will need to 'activate' the conda environment: `source activate U4-S1-NLP` on Terminal or `conda activate U4-S1-NLP` on Anaconda Prompt. Once your environment is activate, run `pip install -r requirements.txt` which will install the required packages into your environment.\n",
    "5. We are going to also add an Ipython Kernel reference to your conda environment, so we can use it from JupyterLab. \n",
    "6. Next run `python -m ipykernel install --user --name U4-S1-NLP --display-name \"U4-S1-NLP (Python3)\"` => This will add a json object to an ipython file, so JupterLab will know that it can use this isolated instance of Python. :) \n",
    "7. Last step, we need to install the models for Spacy. Run these commands `python -m spacy download en_core_web_md` and `python -m spacy download en_core_web_lg`\n",
    "8. Deactivate your conda environment and launch JupyterLab. You should know see \"U4-S1-NLP (Python3)\" in the list of available kernels on launch screen. "
   ]
  },
  {
   "cell_type": "markdown",
   "metadata": {
    "toc-hr-collapsed": false
   },
   "source": [
    "# Tokenze Text (Learn)\n",
    "<a id=\"p1\"></a>"
   ]
  },
  {
   "cell_type": "markdown",
   "metadata": {
    "toc-hr-collapsed": true
   },
   "source": [
    "## Overview\n",
    "\n",
    "> **token**: an instance of a sequence of characters in some particular document that are grouped together as a useful semantic unit for processing\n",
    "\n",
    "> [_*Introduction to Information Retrival*_](https://nlp.stanford.edu/IR-book/)\n",
    "\n",
    "\n",
    "### The attributes of good tokens\n",
    "\n",
    "* Should be stored in an iterable data structure\n",
    "  - Allows analysis of the \"semantic unit\"\n",
    "* Should be all the same case\n",
    "  - Reduces the complexity of our data\n",
    "* Should be free of non-alphanumeric characters (ie punctuation, whitespace)\n",
    "  - Removes information that is probably not relevant to the analysis"
   ]
  },
  {
   "cell_type": "markdown",
   "metadata": {},
   "source": [
    "Let's pretend we are trying analyze the random sequence here. Question: what is the most common character in this sequence?"
   ]
  },
  {
   "cell_type": "code",
<<<<<<< HEAD
   "execution_count": 69,
=======
   "execution_count": null,
>>>>>>> 9d142a5988318d8c68919041231f6771beeca43f
   "metadata": {},
   "outputs": [],
   "source": [
    "random_seq = \"AABAAFBBBBCGCDDEEEFCFFDFFAFFZFGGGGHEAFJAAZBBFCZ\""
   ]
  },
  {
   "cell_type": "markdown",
   "metadata": {},
   "source": [
    "A useful unit of analysis for us is going to be a letter or character"
   ]
  },
  {
   "cell_type": "code",
<<<<<<< HEAD
   "execution_count": 70,
   "metadata": {},
   "outputs": [
    {
     "name": "stdout",
     "output_type": "stream",
     "text": [
      "['A', 'A', 'B', 'A', 'A', 'F', 'B', 'B', 'B', 'B', 'C', 'G', 'C', 'D', 'D', 'E', 'E', 'E', 'F', 'C', 'F', 'F', 'D', 'F', 'F', 'A', 'F', 'F', 'Z', 'F', 'G', 'G', 'G', 'G', 'H', 'E', 'A', 'F', 'J', 'A', 'A', 'Z', 'B', 'B', 'F', 'C', 'Z']\n"
     ]
    }
   ],
=======
   "execution_count": null,
   "metadata": {},
   "outputs": [],
>>>>>>> 9d142a5988318d8c68919041231f6771beeca43f
   "source": [
    "tokens = list(random_seq)\n",
    "print(tokens)"
   ]
  },
  {
   "cell_type": "markdown",
   "metadata": {},
   "source": [
    "Our tokens are already \"good\": in an iterable datastructure, all the same case, and free of noise characters (punctuation, whitespace), so we can jump straight into analysis."
   ]
  },
  {
   "cell_type": "code",
<<<<<<< HEAD
   "execution_count": 71,
   "metadata": {},
   "outputs": [
    {
     "data": {
      "image/png": "iVBORw0KGgoAAAANSUhEUgAAAX4AAAD4CAYAAADrRI2NAAAABHNCSVQICAgIfAhkiAAAAAlwSFlzAAALEgAACxIB0t1+/AAAADh0RVh0U29mdHdhcmUAbWF0cGxvdGxpYiB2ZXJzaW9uMy4yLjEsIGh0dHA6Ly9tYXRwbG90bGliLm9yZy+j8jraAAANnElEQVR4nO3dcbCldV3H8fdHFkNUCmavqMC61BhFqKk3MyktsEErBW11oFBMm80mTBtGpbERxsaxJjUZcHQ2EgEVShDDpkEdSUiHsXYRR4FBDZU0dFd0RmI0BL/9cc/C7brAYXfP85x7v+/XzJk9z3OePb/P3Hvmc3/neZ7znFQVkqQ+HjJ2AEnSsCx+SWrG4pekZix+SWrG4pekZtaNHWAa69evr40bN44dQ5JWlW3btn27qhZWrl8Vxb9x40a2bt06dgxJWlWSfG1X693VI0nNWPyS1IzFL0nNWPyS1IzFL0nNWPyS1IzFL0nNWPyS1IzFL0nNrIpP7mrXjj776MHG+vSrPj3YWJJmyxm/JDVj8UtSMxa/JDVj8UtSMxa/JDVj8UtSMxa/JDVj8UtSMxa/JDVj8UtSMxa/JDVj8UtSMxa/JDVj8UtSMzMr/iTvSbI9yReWrTsoyceTfGny74GzGl+StGuznPG/F3jOinWnA5+oqscDn5gsS5IGNLPir6qrge+sWH08cP7k/vnACbMaX5K0a0Pv4z+4qm6d3P8mcPDA40tSe6Md3K2qAuq+Hk+yOcnWJFt37NgxYDJJWtuGLv5vJXkMwOTf7fe1YVVtqarFqlpcWFgYLKAkrXVDF//lwCmT+6cA/zTw+JLU3ixP57wIuAY4IsnXk7wC+CvgN5N8CXj2ZFmSNKB1s3riqjrpPh46dlZjSpIemJ/claRmLH5Jasbil6RmLH5Jasbil6RmLH5Jasbil6RmLH5Jasbil6RmLH5Jasbil6RmLH5Jasbil6RmLH5Jasbil6RmLH5Jasbil6RmLH5Jasbil6RmLH5Jasbil6RmLH5Jasbil6RmLH5Jasbil6RmLH5Jasbil6RmLH5Jasbil6RmRin+JH+W5PokX0hyUZL9xsghSR0NXvxJDgH+FFisqqOAfYATh84hSV2NtatnHfCwJOuA/YH/HimHJLWzbugBq+obSd4K3AJ8H/hYVX1s5XZJNgObATZs2HDP+qe+9oKBksK2v3npYGNJ0lDG2NVzIHA8cDjwWODhSU5euV1VbamqxapaXFhYGDqmJK1ZY+zqeTbwlaraUVU/BD4EPGOEHJLU0hjFfwvw9CT7JwlwLHDjCDkkqaXBi7+qPgNcAlwLfH6SYcvQOSSpq8EP7gJU1RnAGWOMLUnd+cldSWrG4pekZix+SWrG4pekZix+SWrG4pekZix+SWrG4pekZix+SWrG4pekZix+SWrG4pekZix+SWpmlKtzrgW3vOkJg4yz4Y2fH2QcSX0445ekZix+SWrG4pekZix+SWrG4pekZix+SWrG4pekZix+SWrG4pekZix+SWrG4pekZqYq/iSfmGadJGn+3e9F2pLsB+wPrE9yIJDJQwcAh8w4myRpBh7o6px/BLwGeCywjXuL/3vAOTPMJUmakfst/qo6Czgryauq6uyBMkmSZmiq6/FX1dlJngFsXP5/quqC3Rk0yU8B5wJHAQW8vKqu2Z3nkiQ9OFMVf5ILgZ8BrgPunqwuYLeKHzgLuKKqNiV5KEvHESRJA5j2G7gWgSOrqvZ0wCQ/CTwTeBlAVd0J3LmnzytJms605/F/AXj0XhrzcGAHcF6SzyY5N8nDV26UZHOSrUm27tixYy8NLUmatvjXAzck+WiSy3fednPMdcBTgHdV1ZOBO4DTV25UVVuqarGqFhcWFnZzKEnSStPu6jlzL475deDrVfWZyfIl7KL4JUmzMe1ZPVftrQGr6ptJ/ivJEVV1E3AscMPeen5J0v2b9qye21k6iwfgocC+wB1VdcBujvsq4P2TM3puBv5gN59HkvQgTTvjf+TO+0kCHA88fXcHrarrWDpTSJI0sAd9dc5a8mHguBnkkSTN2LS7el64bPEhLM3WfzCTRJKkmZr2rJ7nLbt/F/BVlnb3SJJWmWn38XvwVZLWiGm/iOXQJJcl2T65XZrk0FmHkyTtfdMe3D0PuJyl6/I/FvjIZJ0kaZWZtvgXquq8qrprcnsv4HUUJGkVmrb4b0tycpJ9JreTgdtmGUySNBvTFv/LgRcD3wRuBTYxuayyJGl1mfZ0zjcBp1TVdwGSHAS8laU/CJKkVWTaGf8Td5Y+QFV9B3jybCJJkmZp2uJ/SJIDdy5MZvzTvluQJM2Racv7bcA1ST44WX4R8ObZRJIkzdK0n9y9IMlW4JjJqhdWldfQ19w457SPDDbWqW973gNvJM2xqXfXTIrespekVe5BX5ZZkrS6WfyS1IzFL0nNWPyS1IzFL0nNWPyS1IzFL0nNWPyS1IzFL0nNWPyS1IzFL0nNWPyS1IzFL0nNjFb8ky9t/2ySfx4rgyR1NOaM/9XAjSOOL0ktjVL8SQ4Ffhs4d4zxJamzsb439x3A64BH3tcGSTYDmwE2bNgwUCztjque+axBxnnW1VcNMs5qd+ObrxxsrJ9/wzEPvJHmzuAz/iS/A2yvqm33t11VbamqxapaXFhYGCidJK19Y+zqORp4fpKvAhcDxyR53wg5JKmlwYu/qv68qg6tqo3AicCVVXXy0DkkqSvP45ekZsY6uAtAVX0S+OSYGSSpG2f8ktSMxS9JzVj8ktSMxS9JzVj8ktSMxS9JzVj8ktSMxS9JzVj8ktSMxS9JzVj8ktSMxS9JzVj8ktTMqFfnlNaaN5+8aZBx3vC+SwYZZ0+ceeaZa2qctcQZvyQ1Y/FLUjMWvyQ1Y/FLUjMWvyQ1Y/FLUjMWvyQ1Y/FLUjMWvyQ1Y/FLUjMWvyQ1Y/FLUjMWvyQ1Y/FLUjMWvyQ1M3jxJzksyb8muSHJ9UlePXQGSepsjC9iuQs4raquTfJIYFuSj1fVDSNkkaR2Bp/xV9WtVXXt5P7twI3AIUPnkKSuRt3Hn2Qj8GTgM7t4bHOSrUm27tixY+hokrRmjVb8SR4BXAq8pqq+t/LxqtpSVYtVtbiwsDB8QElao0Yp/iT7slT676+qD42RQZK6GuOsngB/D9xYVW8fenxJ6m6MGf/RwEuAY5JcN7n91gg5JKmlwU/nrKpPARl6XEnSEj+5K0nNWPyS1IzFL0nNWPyS1IzFL0nNWPyS1IzFL0nNWPyS1IzFL0nNWPyS1IzFL0nNWPyS1IzFL0nNjPFl65I0iH/84NMGG+vFL/r3Xa5/0iUfHSzD5zYdN9V2zvglqRmLX5KasfglqRmLX5KasfglqRmLX5KasfglqRmLX5KasfglqRmLX5KasfglqRmLX5KasfglqRmLX5KasfglqZlRij/Jc5LclOTLSU4fI4MkdTV48SfZB3gn8FzgSOCkJEcOnUOSuhpjxv804MtVdXNV3QlcDBw/Qg5JailVNeyAySbgOVX1h5PllwC/XFWnrthuM7B5sngEcNMeDr0e+PYePseemocMMB85zHCvecgxDxlgPnLMQwbYOzkeV1ULK1fO7XfuVtUWYMveer4kW6tqcW8932rNMC85zDBfOeYhw7zkmIcMs84xxq6ebwCHLVs+dLJOkjSAMYr/P4DHJzk8yUOBE4HLR8ghSS0Nvqunqu5KcirwUWAf4D1Vdf0AQ++13UZ7YB4ywHzkMMO95iHHPGSA+cgxDxlghjkGP7grSRqXn9yVpGYsfklqZs0Xf5ITklSSnxsxw91JrkvyuSTXJnnGyDl23jaOkOHRSS5O8p9JtiX5lyQ/O3CGg5N8IMnNkwzXJHnBwBl2/i6un7wuTksyxifpV74mBr+ESpIXrMhwXZIfJXnuwDn+Z8Xyy5KcM2SG+8uzN83tefx70UnApyb/njFShu9X1S8CJDkOeAvwrDFzjCFJgMuA86vqxMm6JwEHA18cMMOHJxl+b7LuccDzhxh/meWviUcBHwAOYPjX6KivCYCquoyl1wVwz4c3f5+lE0A0A2t6xp/kEcCvAq9g6bTReXAA8N2xQ4zkN4AfVtW7d66oqs9V1b8NmOEY4M4VGb5WVWcPmOH/qartLH1K/dTJH6a2Ju/+3gi8pKp+NHaetWqtz/iPB66oqi8muS3JU6tq2wg5HpbkOmA/4DEslc8YduYA+EpVDbp7AzgKGOPnv9wvANeOnOHHVNXNkwsYPgr41oBDL39NALylqv5hwPHvkWRflt75nFZVt4wQYeXP4iDW6GeM1nrxnwScNbl/8WR5jOJZ/rb+V4ALkhxVw59LO/rb+nmT5J0svSu8s6p+aew8I5in18RfAteP9YeHFT+LJC8DRr90wyys2eJPchBLM+snJCmWPixWSV47QuHeo6quSbIeWAC2j5VjJNcDm+Ygw+/uXKiqP5n8PraOFwmS/DRwN/1eEwAk+XWWfi9PGTlKC2t5H/8m4MKqelxVbayqw4CvAL82ZqjJ2UX7ALeNmWMkVwI/MTl4B0CSJyYZ8ndyJbBfkj9etm7/Acf/MUkWgHcD54w5KRlLkgOB84CXVtXtY+fpYM3O+FnarfPXK9ZdOll/9cBZlu87DHBKVd09cIbRVVVNTpt8R5LXAz8Avgq8ZuAMJwB/m+R1wA7gDuD1Q2WY2Pma2Be4C7gQePvAGZbn2OmKqhr6lM5XsnRs410rjm2PdrxhbEnWAf87s+dvOMGQpLk2Oc3576rqabN4/rW8q0eSVp0krwQuAv5iZmM445ekXpzxS1IzFr8kNWPxS1IzFr8kNWPxS1Iz/wcrcDn//jngmAAAAABJRU5ErkJggg==\n",
      "text/plain": [
       "<Figure size 432x288 with 1 Axes>"
      ]
     },
     "metadata": {
      "needs_background": "light"
     },
     "output_type": "display_data"
    }
   ],
=======
   "execution_count": null,
   "metadata": {},
   "outputs": [],
>>>>>>> 9d142a5988318d8c68919041231f6771beeca43f
   "source": [
    "import seaborn as sns\n",
    "\n",
    "sns.countplot(tokens);"
   ]
  },
  {
   "cell_type": "markdown",
   "metadata": {},
   "source": [
    "The most common character in our sequence is  \"F\". We can't just glance at the the sequence to know which character is the most common. We (humans) struggle to subitize complex data (like random text sequences).\n",
    "\n",
    "> __Subitize__ is the ability to tell the number of objects in a set, quickly, without counting.  \n",
    "\n",
    "We need to chunk the data into countable pieces \"tokens\" for us to analyze them. This inability subitize text data is the motivation for our discussion today."
   ]
  },
  {
   "cell_type": "markdown",
   "metadata": {
    "toc-hr-collapsed": true
   },
   "source": [
    "### Tokenizing with Pure Python"
   ]
  },
  {
   "cell_type": "code",
<<<<<<< HEAD
   "execution_count": 72,
=======
   "execution_count": null,
>>>>>>> 9d142a5988318d8c68919041231f6771beeca43f
   "metadata": {},
   "outputs": [],
   "source": [
    "sample = \"Friends, Romans, countrymen, lend me your ears;\""
   ]
  },
  {
   "cell_type": "markdown",
   "metadata": {},
   "source": [
    "##### Iterable Tokens\n",
    "\n",
    "A string object in Python is already iterable. However, the item you iterate over is a character not a token:\n",
    "\n",
    "```\n",
    "from time import sleep\n",
    "for num, character in enumerate(sample):\n",
    "    sleep(.5)\n",
    "    print(f\"Char {num} - {character}\", end=\"\\r\")\n",
    "```\n",
    "\n",
    "If we instead care about the words in our sample (our semantic unit), we can use the string method `.split()` to separate the whitespace and create iterable units. :)"
   ]
  },
  {
   "cell_type": "code",
<<<<<<< HEAD
   "execution_count": 73,
   "metadata": {},
   "outputs": [
    {
     "data": {
      "text/plain": [
       "['Friends,', 'Romans,', 'countrymen,', 'lend', 'me', 'your', 'ears;']"
      ]
     },
     "execution_count": 73,
     "metadata": {},
     "output_type": "execute_result"
    }
   ],
=======
   "execution_count": null,
   "metadata": {},
   "outputs": [],
>>>>>>> 9d142a5988318d8c68919041231f6771beeca43f
   "source": [
    "sample.split(\" \")"
   ]
  },
  {
   "cell_type": "markdown",
   "metadata": {},
   "source": [
    "##### Case Normalization\n",
    "A common data cleaning data cleaning task with token is to standardize or normalize the case. Normalizing case reduces the chance that you have duplicate records for things which have practically the same semantic meaning. You can use either the `.lower()` or `.upper()` string methods to normalize case.\n",
    "\n",
    "Consider the following example: "
   ]
  },
  {
   "cell_type": "code",
<<<<<<< HEAD
   "execution_count": 74,
=======
   "execution_count": null,
>>>>>>> 9d142a5988318d8c68919041231f6771beeca43f
   "metadata": {},
   "outputs": [],
   "source": [
    "import pandas as pd\n",
    "df = pd.read_csv('./data/Datafiniti_Amazon_Consumer_Reviews_of_Amazon_Products_May19.csv')"
   ]
  },
  {
   "cell_type": "code",
<<<<<<< HEAD
   "execution_count": 75,
   "metadata": {},
   "outputs": [
    {
     "data": {
      "text/plain": [
       "Amazon          16153\n",
       "Amazonbasics    12169\n",
       "AmazonBasics       10\n",
       "Name: brand, dtype: int64"
      ]
     },
     "execution_count": 75,
     "metadata": {},
     "output_type": "execute_result"
    }
   ],
=======
   "execution_count": null,
   "metadata": {},
   "outputs": [],
>>>>>>> 9d142a5988318d8c68919041231f6771beeca43f
   "source": [
    "# Notice anything odd here? \n",
    "df['brand'].value_counts()"
   ]
  },
  {
   "cell_type": "code",
<<<<<<< HEAD
   "execution_count": 76,
   "metadata": {},
   "outputs": [
    {
     "data": {
      "text/plain": [
       "amazon          16153\n",
       "amazonbasics    12179\n",
       "Name: brand, dtype: int64"
      ]
     },
     "execution_count": 76,
     "metadata": {},
     "output_type": "execute_result"
    }
   ],
=======
   "execution_count": null,
   "metadata": {},
   "outputs": [],
>>>>>>> 9d142a5988318d8c68919041231f6771beeca43f
   "source": [
    "# Much cleaner\n",
    "df['brand'] = df['brand'].apply(lambda x: x.lower())\n",
    "df['brand'].value_counts()"
   ]
  },
  {
   "cell_type": "markdown",
   "metadata": {},
   "source": [
    "##### Keep Only Alphanumeric Characters\n",
    "Yes, we only want letters and numbers. Everything else is probably noise: punctuation, whitespace, and other notation. This one is little bit more complicated than our previous example. Here we will have to import the base package `re` (regular expressions). \n",
    "\n",
    "The only regex expression pattern you need for this is `'[^a-zA-Z 0-9]'` which keeps lower case letters, upper case letters, spaces, and numbers."
   ]
  },
  {
   "cell_type": "code",
<<<<<<< HEAD
   "execution_count": 77,
   "metadata": {},
   "outputs": [
    {
     "name": "stdout",
     "output_type": "stream",
     "text": [
      "Friends, Romans, countrymen, lend me your ears; 911\n"
     ]
    }
   ],
   "source": [
    "sample = sample+\" 911\"\n",
    "#sample += \" 911\"\n",
=======
   "execution_count": null,
   "metadata": {},
   "outputs": [],
   "source": [
    "sample = sample+\" 911\"\n",
>>>>>>> 9d142a5988318d8c68919041231f6771beeca43f
    "print(sample)"
   ]
  },
  {
   "cell_type": "code",
<<<<<<< HEAD
   "execution_count": 78,
   "metadata": {},
   "outputs": [
    {
     "data": {
      "text/plain": [
       "'Friends Romans countrymen lend me your ears 911'"
      ]
     },
     "execution_count": 78,
     "metadata": {},
     "output_type": "execute_result"
    }
   ],
=======
   "execution_count": null,
   "metadata": {},
   "outputs": [],
>>>>>>> 9d142a5988318d8c68919041231f6771beeca43f
   "source": [
    "import re\n",
    "\n",
    "re.sub('[^a-zA-Z 0-9]', '', sample)"
   ]
  },
  {
   "cell_type": "markdown",
   "metadata": {},
   "source": [
    "#### Two Minute Challenge \n",
    "- Complete the function `tokenize` below\n",
    "- Combine the methods which we discussed above to clean text before we analyze it\n",
    "- You can put the methods in any order you want"
   ]
  },
  {
   "cell_type": "code",
<<<<<<< HEAD
   "execution_count": 79,
=======
   "execution_count": null,
>>>>>>> 9d142a5988318d8c68919041231f6771beeca43f
   "metadata": {},
   "outputs": [],
   "source": [
    "def tokenize(text):\n",
    "    \"\"\"Parses a string into a list of semantic units (words)\n",
    "\n",
    "    Args:\n",
    "        text (str): The string that the function will tokenize.\n",
    "\n",
    "    Returns:\n",
    "        list: tokens parsed out by the mechanics of your choice\n",
    "    \"\"\"\n",
    "    \n",
    "    tokens = re.sub('[^a-zA-Z 0-9]', '', text)\n",
    "    tokens = tokens.lower().split()\n",
    "    \n",
    "    return tokens"
   ]
  },
  {
   "cell_type": "code",
<<<<<<< HEAD
   "execution_count": 80,
   "metadata": {},
   "outputs": [
    {
     "data": {
      "text/plain": [
       "['friends', 'romans', 'countrymen', 'lend', 'me', 'your', 'ears', '911']"
      ]
     },
     "execution_count": 80,
     "metadata": {},
     "output_type": "execute_result"
    }
   ],
=======
   "execution_count": null,
   "metadata": {},
   "outputs": [],
>>>>>>> 9d142a5988318d8c68919041231f6771beeca43f
   "source": [
    "tokenize(sample)"
   ]
  },
  {
   "cell_type": "markdown",
   "metadata": {
    "toc-hr-collapsed": true
   },
   "source": [
    "## Follow Along\n",
    "\n",
    "Our inability to analyze text data becomes quickly amplified in a business context. Consider the following: \n",
    "\n",
    "A business which sells widgets also collects customer reviews of those widgets. When the business first started out, they had a human read the reviews to look for patterns. Now, the business sells thousands of widgets a month. The human readers can't keep up with the pace of reviews to synthesize an accurate analysis. They need some science to help them analyze their data.\n",
    "\n",
    "Now, let's pretend that business is Amazon, and the widgets are Amazon products such as the Alexa, Echo, or other AmazonBasics products. Let's analyze their reviews with some counts. This dataset is available on [Kaggle](https://www.kaggle.com/datafiniti/consumer-reviews-of-amazon-products/)."
   ]
  },
  {
   "cell_type": "code",
<<<<<<< HEAD
   "execution_count": 81,
=======
   "execution_count": null,
>>>>>>> 9d142a5988318d8c68919041231f6771beeca43f
   "metadata": {},
   "outputs": [],
   "source": [
    "\"\"\"\n",
    "Import Statements\n",
    "\"\"\"\n",
    "\n",
    "# Base\n",
    "from collections import Counter\n",
    "import re\n",
    " \n",
    "import pandas as pd\n",
    "\n",
    "# Plotting\n",
    "import squarify\n",
    "import matplotlib.pyplot as plt\n",
    "import seaborn as sns\n",
    "\n",
    "# NLP Libraries\n",
    "import spacy\n",
    "from spacy.tokenizer import Tokenizer\n",
    "from nltk.stem import PorterStemmer\n",
    "\n",
    "nlp = spacy.load(\"en_core_web_lg\")"
   ]
  },
  {
   "cell_type": "code",
<<<<<<< HEAD
   "execution_count": 82,
   "metadata": {},
   "outputs": [
    {
     "data": {
      "text/html": [
       "<div>\n",
       "<style scoped>\n",
       "    .dataframe tbody tr th:only-of-type {\n",
       "        vertical-align: middle;\n",
       "    }\n",
       "\n",
       "    .dataframe tbody tr th {\n",
       "        vertical-align: top;\n",
       "    }\n",
       "\n",
       "    .dataframe thead th {\n",
       "        text-align: right;\n",
       "    }\n",
       "</style>\n",
       "<table border=\"1\" class=\"dataframe\">\n",
       "  <thead>\n",
       "    <tr style=\"text-align: right;\">\n",
       "      <th></th>\n",
       "      <th>id</th>\n",
       "      <th>dateAdded</th>\n",
       "      <th>dateUpdated</th>\n",
       "      <th>name</th>\n",
       "      <th>asins</th>\n",
       "      <th>brand</th>\n",
       "      <th>categories</th>\n",
       "      <th>primaryCategories</th>\n",
       "      <th>imageURLs</th>\n",
       "      <th>keys</th>\n",
       "      <th>...</th>\n",
       "      <th>reviews.didPurchase</th>\n",
       "      <th>reviews.doRecommend</th>\n",
       "      <th>reviews.id</th>\n",
       "      <th>reviews.numHelpful</th>\n",
       "      <th>reviews.rating</th>\n",
       "      <th>reviews.sourceURLs</th>\n",
       "      <th>reviews.text</th>\n",
       "      <th>reviews.title</th>\n",
       "      <th>reviews.username</th>\n",
       "      <th>sourceURLs</th>\n",
       "    </tr>\n",
       "  </thead>\n",
       "  <tbody>\n",
       "    <tr>\n",
       "      <th>0</th>\n",
       "      <td>AVpgNzjwLJeJML43Kpxn</td>\n",
       "      <td>2015-10-30T08:59:32Z</td>\n",
       "      <td>2019-04-25T09:08:16Z</td>\n",
       "      <td>AmazonBasics AAA Performance Alkaline Batterie...</td>\n",
       "      <td>B00QWO9P0O,B00LH3DMUO</td>\n",
       "      <td>amazonbasics</td>\n",
       "      <td>AA,AAA,Health,Electronics,Health &amp; Household,C...</td>\n",
       "      <td>Health &amp; Beauty</td>\n",
       "      <td>https://images-na.ssl-images-amazon.com/images...</td>\n",
       "      <td>amazonbasics/hl002619,amazonbasicsaaaperforman...</td>\n",
       "      <td>...</td>\n",
       "      <td>NaN</td>\n",
       "      <td>NaN</td>\n",
       "      <td>NaN</td>\n",
       "      <td>NaN</td>\n",
       "      <td>3</td>\n",
       "      <td>https://www.amazon.com/product-reviews/B00QWO9...</td>\n",
       "      <td>I order 3 of them and one of the item is bad q...</td>\n",
       "      <td>... 3 of them and one of the item is bad quali...</td>\n",
       "      <td>Byger yang</td>\n",
       "      <td>https://www.barcodable.com/upc/841710106442,ht...</td>\n",
       "    </tr>\n",
       "    <tr>\n",
       "      <th>1</th>\n",
       "      <td>AVpgNzjwLJeJML43Kpxn</td>\n",
       "      <td>2015-10-30T08:59:32Z</td>\n",
       "      <td>2019-04-25T09:08:16Z</td>\n",
       "      <td>AmazonBasics AAA Performance Alkaline Batterie...</td>\n",
       "      <td>B00QWO9P0O,B00LH3DMUO</td>\n",
       "      <td>amazonbasics</td>\n",
       "      <td>AA,AAA,Health,Electronics,Health &amp; Household,C...</td>\n",
       "      <td>Health &amp; Beauty</td>\n",
       "      <td>https://images-na.ssl-images-amazon.com/images...</td>\n",
       "      <td>amazonbasics/hl002619,amazonbasicsaaaperforman...</td>\n",
       "      <td>...</td>\n",
       "      <td>NaN</td>\n",
       "      <td>NaN</td>\n",
       "      <td>NaN</td>\n",
       "      <td>NaN</td>\n",
       "      <td>4</td>\n",
       "      <td>https://www.amazon.com/product-reviews/B00QWO9...</td>\n",
       "      <td>Bulk is always the less expensive way to go fo...</td>\n",
       "      <td>... always the less expensive way to go for pr...</td>\n",
       "      <td>ByMG</td>\n",
       "      <td>https://www.barcodable.com/upc/841710106442,ht...</td>\n",
       "    </tr>\n",
       "  </tbody>\n",
       "</table>\n",
       "<p>2 rows × 24 columns</p>\n",
       "</div>"
      ],
      "text/plain": [
       "                     id             dateAdded           dateUpdated  \\\n",
       "0  AVpgNzjwLJeJML43Kpxn  2015-10-30T08:59:32Z  2019-04-25T09:08:16Z   \n",
       "1  AVpgNzjwLJeJML43Kpxn  2015-10-30T08:59:32Z  2019-04-25T09:08:16Z   \n",
       "\n",
       "                                                name                  asins  \\\n",
       "0  AmazonBasics AAA Performance Alkaline Batterie...  B00QWO9P0O,B00LH3DMUO   \n",
       "1  AmazonBasics AAA Performance Alkaline Batterie...  B00QWO9P0O,B00LH3DMUO   \n",
       "\n",
       "          brand                                         categories  \\\n",
       "0  amazonbasics  AA,AAA,Health,Electronics,Health & Household,C...   \n",
       "1  amazonbasics  AA,AAA,Health,Electronics,Health & Household,C...   \n",
       "\n",
       "  primaryCategories                                          imageURLs  \\\n",
       "0   Health & Beauty  https://images-na.ssl-images-amazon.com/images...   \n",
       "1   Health & Beauty  https://images-na.ssl-images-amazon.com/images...   \n",
       "\n",
       "                                                keys  ... reviews.didPurchase  \\\n",
       "0  amazonbasics/hl002619,amazonbasicsaaaperforman...  ...                 NaN   \n",
       "1  amazonbasics/hl002619,amazonbasicsaaaperforman...  ...                 NaN   \n",
       "\n",
       "  reviews.doRecommend reviews.id reviews.numHelpful reviews.rating  \\\n",
       "0                 NaN        NaN                NaN              3   \n",
       "1                 NaN        NaN                NaN              4   \n",
       "\n",
       "                                  reviews.sourceURLs  \\\n",
       "0  https://www.amazon.com/product-reviews/B00QWO9...   \n",
       "1  https://www.amazon.com/product-reviews/B00QWO9...   \n",
       "\n",
       "                                        reviews.text  \\\n",
       "0  I order 3 of them and one of the item is bad q...   \n",
       "1  Bulk is always the less expensive way to go fo...   \n",
       "\n",
       "                                       reviews.title  reviews.username  \\\n",
       "0  ... 3 of them and one of the item is bad quali...        Byger yang   \n",
       "1  ... always the less expensive way to go for pr...              ByMG   \n",
       "\n",
       "                                          sourceURLs  \n",
       "0  https://www.barcodable.com/upc/841710106442,ht...  \n",
       "1  https://www.barcodable.com/upc/841710106442,ht...  \n",
       "\n",
       "[2 rows x 24 columns]"
      ]
     },
     "execution_count": 82,
     "metadata": {},
     "output_type": "execute_result"
    }
   ],
=======
   "execution_count": null,
   "metadata": {},
   "outputs": [],
>>>>>>> 9d142a5988318d8c68919041231f6771beeca43f
   "source": [
    "df.head(2)"
   ]
  },
  {
   "cell_type": "code",
<<<<<<< HEAD
   "execution_count": 83,
   "metadata": {},
   "outputs": [
    {
     "data": {
      "text/plain": [
       "(28332, 24)"
      ]
     },
     "execution_count": 83,
     "metadata": {},
     "output_type": "execute_result"
    }
   ],
=======
   "execution_count": null,
   "metadata": {},
   "outputs": [],
>>>>>>> 9d142a5988318d8c68919041231f6771beeca43f
   "source": [
    "df.shape"
   ]
  },
  {
   "cell_type": "code",
<<<<<<< HEAD
   "execution_count": 84,
   "metadata": {},
   "outputs": [
    {
     "data": {
      "text/plain": [
       "good                0.002118\n",
       "great               0.001729\n",
       "Good                0.001482\n",
       "Great               0.001341\n",
       "ok                  0.001165\n",
       "Great price         0.001059\n",
       "great price         0.000988\n",
       "Excellent           0.000988\n",
       "Great value         0.000953\n",
       "good price          0.000812\n",
       "great value         0.000777\n",
       "Great price!        0.000635\n",
       "good value          0.000600\n",
       "good deal           0.000565\n",
       "Great value.        0.000565\n",
       "Great deal          0.000529\n",
       "As expected         0.000529\n",
       "Great product       0.000529\n",
       "Good deal           0.000529\n",
       "OK                  0.000529\n",
       "Good batteries      0.000494\n",
       "Good value          0.000494\n",
       "Great batteries.    0.000459\n",
       "So far so good      0.000459\n",
       "Good price          0.000459\n",
       "great deal          0.000459\n",
       "Great value!        0.000459\n",
       "Good buy            0.000424\n",
       "Work great          0.000424\n",
       "Great buy           0.000388\n",
       "as expected         0.000388\n",
       "good batteries      0.000388\n",
       "Great price.        0.000388\n",
       "As described        0.000388\n",
       "Great!              0.000388\n",
       "Great deal!         0.000388\n",
       "Great batteries     0.000388\n",
       "Good value.         0.000388\n",
       "excellent           0.000388\n",
       "very good           0.000388\n",
       "great batteries     0.000353\n",
       "Ok                  0.000353\n",
       "good product        0.000353\n",
       "Nice                0.000353\n",
       "Perfect!            0.000353\n",
       "Work great.         0.000353\n",
       "Thanks              0.000318\n",
       "Long lasting        0.000318\n",
       "Good price.         0.000318\n",
       "Great product.      0.000318\n",
       "Name: reviews.text, dtype: float64"
      ]
     },
     "execution_count": 84,
     "metadata": {},
     "output_type": "execute_result"
    }
   ],
   "source": [
    "# These basic 1-word reviews are the most common, unsurprisingly\n",
    "\n",
=======
   "execution_count": null,
   "metadata": {},
   "outputs": [],
   "source": [
    "# How can we count the raw text?\n",
>>>>>>> 9d142a5988318d8c68919041231f6771beeca43f
    "df['reviews.text'].value_counts(normalize=True)[:50]"
   ]
  },
  {
   "cell_type": "code",
<<<<<<< HEAD
   "execution_count": 85,
   "metadata": {},
   "outputs": [],
   "source": [
    "# Use our \"tokenize\" function on the review text and put it in a new column\n",
    "\n",
=======
   "execution_count": null,
   "metadata": {},
   "outputs": [],
   "source": [
>>>>>>> 9d142a5988318d8c68919041231f6771beeca43f
    "df['tokens'] = df['reviews.text'].apply(tokenize)"
   ]
  },
  {
   "cell_type": "code",
<<<<<<< HEAD
   "execution_count": 86,
   "metadata": {},
   "outputs": [
    {
     "data": {
      "text/plain": [
       "0    [i, order, 3, of, them, and, one, of, the, ite...\n",
       "1    [bulk, is, always, the, less, expensive, way, ...\n",
       "2    [well, they, are, not, duracell, but, for, the...\n",
       "3    [seem, to, work, as, well, as, name, brand, ba...\n",
       "4    [these, batteries, are, very, long, lasting, t...\n",
       "Name: tokens, dtype: object"
      ]
     },
     "execution_count": 86,
     "metadata": {},
     "output_type": "execute_result"
    }
   ],
=======
   "execution_count": null,
   "metadata": {},
   "outputs": [],
>>>>>>> 9d142a5988318d8c68919041231f6771beeca43f
   "source": [
    "df['tokens'].head()"
   ]
  },
  {
   "cell_type": "code",
<<<<<<< HEAD
   "execution_count": 87,
   "metadata": {},
   "outputs": [
    {
     "data": {
      "text/html": [
       "<div>\n",
       "<style scoped>\n",
       "    .dataframe tbody tr th:only-of-type {\n",
       "        vertical-align: middle;\n",
       "    }\n",
       "\n",
       "    .dataframe tbody tr th {\n",
       "        vertical-align: top;\n",
       "    }\n",
       "\n",
       "    .dataframe thead th {\n",
       "        text-align: right;\n",
       "    }\n",
       "</style>\n",
       "<table border=\"1\" class=\"dataframe\">\n",
       "  <thead>\n",
       "    <tr style=\"text-align: right;\">\n",
       "      <th></th>\n",
       "      <th>reviews.text</th>\n",
       "      <th>tokens</th>\n",
       "    </tr>\n",
       "  </thead>\n",
       "  <tbody>\n",
       "    <tr>\n",
       "      <th>0</th>\n",
       "      <td>I order 3 of them and one of the item is bad q...</td>\n",
       "      <td>[i, order, 3, of, them, and, one, of, the, ite...</td>\n",
       "    </tr>\n",
       "    <tr>\n",
       "      <th>1</th>\n",
       "      <td>Bulk is always the less expensive way to go fo...</td>\n",
       "      <td>[bulk, is, always, the, less, expensive, way, ...</td>\n",
       "    </tr>\n",
       "    <tr>\n",
       "      <th>2</th>\n",
       "      <td>Well they are not Duracell but for the price i...</td>\n",
       "      <td>[well, they, are, not, duracell, but, for, the...</td>\n",
       "    </tr>\n",
       "    <tr>\n",
       "      <th>3</th>\n",
       "      <td>Seem to work as well as name brand batteries a...</td>\n",
       "      <td>[seem, to, work, as, well, as, name, brand, ba...</td>\n",
       "    </tr>\n",
       "    <tr>\n",
       "      <th>4</th>\n",
       "      <td>These batteries are very long lasting the pric...</td>\n",
       "      <td>[these, batteries, are, very, long, lasting, t...</td>\n",
       "    </tr>\n",
       "    <tr>\n",
       "      <th>5</th>\n",
       "      <td>Bought a lot of batteries for Christmas and th...</td>\n",
       "      <td>[bought, a, lot, of, batteries, for, christmas...</td>\n",
       "    </tr>\n",
       "    <tr>\n",
       "      <th>6</th>\n",
       "      <td>ive not had any problame with these batteries ...</td>\n",
       "      <td>[ive, not, had, any, problame, with, these, ba...</td>\n",
       "    </tr>\n",
       "    <tr>\n",
       "      <th>7</th>\n",
       "      <td>Well if you are looking for cheap non-recharge...</td>\n",
       "      <td>[well, if, you, are, looking, for, cheap, nonr...</td>\n",
       "    </tr>\n",
       "    <tr>\n",
       "      <th>8</th>\n",
       "      <td>These do not hold the amount of high power jui...</td>\n",
       "      <td>[these, do, not, hold, the, amount, of, high, ...</td>\n",
       "    </tr>\n",
       "    <tr>\n",
       "      <th>9</th>\n",
       "      <td>AmazonBasics AA AAA batteries have done well b...</td>\n",
       "      <td>[amazonbasics, aa, aaa, batteries, have, done,...</td>\n",
       "    </tr>\n",
       "  </tbody>\n",
       "</table>\n",
       "</div>"
      ],
      "text/plain": [
       "                                        reviews.text  \\\n",
       "0  I order 3 of them and one of the item is bad q...   \n",
       "1  Bulk is always the less expensive way to go fo...   \n",
       "2  Well they are not Duracell but for the price i...   \n",
       "3  Seem to work as well as name brand batteries a...   \n",
       "4  These batteries are very long lasting the pric...   \n",
       "5  Bought a lot of batteries for Christmas and th...   \n",
       "6  ive not had any problame with these batteries ...   \n",
       "7  Well if you are looking for cheap non-recharge...   \n",
       "8  These do not hold the amount of high power jui...   \n",
       "9  AmazonBasics AA AAA batteries have done well b...   \n",
       "\n",
       "                                              tokens  \n",
       "0  [i, order, 3, of, them, and, one, of, the, ite...  \n",
       "1  [bulk, is, always, the, less, expensive, way, ...  \n",
       "2  [well, they, are, not, duracell, but, for, the...  \n",
       "3  [seem, to, work, as, well, as, name, brand, ba...  \n",
       "4  [these, batteries, are, very, long, lasting, t...  \n",
       "5  [bought, a, lot, of, batteries, for, christmas...  \n",
       "6  [ive, not, had, any, problame, with, these, ba...  \n",
       "7  [well, if, you, are, looking, for, cheap, nonr...  \n",
       "8  [these, do, not, hold, the, amount, of, high, ...  \n",
       "9  [amazonbasics, aa, aaa, batteries, have, done,...  "
      ]
     },
     "execution_count": 87,
     "metadata": {},
     "output_type": "execute_result"
    }
   ],
=======
   "execution_count": null,
   "metadata": {},
   "outputs": [],
>>>>>>> 9d142a5988318d8c68919041231f6771beeca43f
   "source": [
    "df[['reviews.text', 'tokens']][:10]"
   ]
  },
  {
   "cell_type": "code",
<<<<<<< HEAD
   "execution_count": 88,
   "metadata": {},
   "outputs": [
    {
     "data": {
      "text/plain": [
       "Electronics                    13995\n",
       "Health & Beauty                12071\n",
       "Toys & Games,Electronics        1676\n",
       "Office Supplies,Electronics      386\n",
       "Electronics,Media                185\n",
       "Office Supplies                    9\n",
       "Animals & Pet Supplies             6\n",
       "Electronics,Furniture              2\n",
       "Home & Garden                      2\n",
       "Name: primaryCategories, dtype: int64"
      ]
     },
     "execution_count": 88,
     "metadata": {},
     "output_type": "execute_result"
    }
   ],
   "source": [
    "# Next we'll look at the categories of items\n",
    "\n",
=======
   "execution_count": null,
   "metadata": {},
   "outputs": [],
   "source": [
>>>>>>> 9d142a5988318d8c68919041231f6771beeca43f
    "df['primaryCategories'].value_counts()"
   ]
  },
  {
   "cell_type": "code",
<<<<<<< HEAD
   "execution_count": 89,
   "metadata": {},
   "outputs": [],
   "source": [
    "# We only care about electronics (and preserving our original df copy)\n",
    "\n",
=======
   "execution_count": null,
   "metadata": {},
   "outputs": [],
   "source": [
>>>>>>> 9d142a5988318d8c68919041231f6771beeca43f
    "df = df[df['primaryCategories'] == 'Electronics'].copy()"
   ]
  },
  {
   "cell_type": "code",
<<<<<<< HEAD
   "execution_count": 90,
   "metadata": {},
   "outputs": [
    {
     "data": {
      "text/html": [
       "<div>\n",
       "<style scoped>\n",
       "    .dataframe tbody tr th:only-of-type {\n",
       "        vertical-align: middle;\n",
       "    }\n",
       "\n",
       "    .dataframe tbody tr th {\n",
       "        vertical-align: top;\n",
       "    }\n",
       "\n",
       "    .dataframe thead th {\n",
       "        text-align: right;\n",
       "    }\n",
       "</style>\n",
       "<table border=\"1\" class=\"dataframe\">\n",
       "  <thead>\n",
       "    <tr style=\"text-align: right;\">\n",
       "      <th></th>\n",
       "      <th>id</th>\n",
       "      <th>dateAdded</th>\n",
       "      <th>dateUpdated</th>\n",
       "      <th>name</th>\n",
       "      <th>asins</th>\n",
       "      <th>brand</th>\n",
       "      <th>categories</th>\n",
       "      <th>primaryCategories</th>\n",
       "      <th>imageURLs</th>\n",
       "      <th>keys</th>\n",
       "      <th>...</th>\n",
       "      <th>reviews.doRecommend</th>\n",
       "      <th>reviews.id</th>\n",
       "      <th>reviews.numHelpful</th>\n",
       "      <th>reviews.rating</th>\n",
       "      <th>reviews.sourceURLs</th>\n",
       "      <th>reviews.text</th>\n",
       "      <th>reviews.title</th>\n",
       "      <th>reviews.username</th>\n",
       "      <th>sourceURLs</th>\n",
       "      <th>tokens</th>\n",
       "    </tr>\n",
       "  </thead>\n",
       "  <tbody>\n",
       "    <tr>\n",
       "      <th>8343</th>\n",
       "      <td>AVpe7nGV1cnluZ0-aG2o</td>\n",
       "      <td>2014-10-28T11:14:38Z</td>\n",
       "      <td>2019-04-25T09:05:28Z</td>\n",
       "      <td>AmazonBasics Nylon CD/DVD Binder (400 Capacity)</td>\n",
       "      <td>B00DIHVMEA,B00EZ1ZTV0</td>\n",
       "      <td>amazonbasics</td>\n",
       "      <td>Audio &amp; Video Accessories,TV, Video &amp; Home Aud...</td>\n",
       "      <td>Electronics</td>\n",
       "      <td>http://ecx.images-amazon.com/images/I/41jQha7Z...</td>\n",
       "      <td>amazonbasicsnyloncddvdbinder400capacity/b00ez1...</td>\n",
       "      <td>...</td>\n",
       "      <td>NaN</td>\n",
       "      <td>NaN</td>\n",
       "      <td>NaN</td>\n",
       "      <td>5</td>\n",
       "      <td>https://www.ebay.com/itm/Amazonbasics-Nylon-Cd...</td>\n",
       "      <td>Great case to keep everything in its place! My...</td>\n",
       "      <td>Excellent product</td>\n",
       "      <td>qs341_5</td>\n",
       "      <td>https://www.ebay.com/itm/AmazonBasics-Nylon-CD...</td>\n",
       "      <td>[great, case, to, keep, everything, in, its, p...</td>\n",
       "    </tr>\n",
       "    <tr>\n",
       "      <th>8344</th>\n",
       "      <td>AVpe7nGV1cnluZ0-aG2o</td>\n",
       "      <td>2014-10-28T11:14:38Z</td>\n",
       "      <td>2019-04-25T09:05:28Z</td>\n",
       "      <td>AmazonBasics Nylon CD/DVD Binder (400 Capacity)</td>\n",
       "      <td>B00DIHVMEA,B00EZ1ZTV0</td>\n",
       "      <td>amazonbasics</td>\n",
       "      <td>Audio &amp; Video Accessories,TV, Video &amp; Home Aud...</td>\n",
       "      <td>Electronics</td>\n",
       "      <td>http://ecx.images-amazon.com/images/I/41jQha7Z...</td>\n",
       "      <td>amazonbasicsnyloncddvdbinder400capacity/b00ez1...</td>\n",
       "      <td>...</td>\n",
       "      <td>NaN</td>\n",
       "      <td>NaN</td>\n",
       "      <td>NaN</td>\n",
       "      <td>5</td>\n",
       "      <td>http://www.amazon.co.uk/gp/product-reviews/B00...</td>\n",
       "      <td>After discarding and getting rid of broken cd ...</td>\n",
       "      <td>It was a much needed storage</td>\n",
       "      <td>Diablita</td>\n",
       "      <td>https://www.ebay.com/itm/AmazonBasics-Nylon-CD...</td>\n",
       "      <td>[after, discarding, and, getting, rid, of, bro...</td>\n",
       "    </tr>\n",
       "    <tr>\n",
       "      <th>8345</th>\n",
       "      <td>AVpe7nGV1cnluZ0-aG2o</td>\n",
       "      <td>2014-10-28T11:14:38Z</td>\n",
       "      <td>2019-04-25T09:05:28Z</td>\n",
       "      <td>AmazonBasics Nylon CD/DVD Binder (400 Capacity)</td>\n",
       "      <td>B00DIHVMEA,B00EZ1ZTV0</td>\n",
       "      <td>amazonbasics</td>\n",
       "      <td>Audio &amp; Video Accessories,TV, Video &amp; Home Aud...</td>\n",
       "      <td>Electronics</td>\n",
       "      <td>http://ecx.images-amazon.com/images/I/41jQha7Z...</td>\n",
       "      <td>amazonbasicsnyloncddvdbinder400capacity/b00ez1...</td>\n",
       "      <td>...</td>\n",
       "      <td>NaN</td>\n",
       "      <td>NaN</td>\n",
       "      <td>NaN</td>\n",
       "      <td>5</td>\n",
       "      <td>https://www.ebay.com/itm/Amazonbasics-Nylon-Cd...</td>\n",
       "      <td>A few dollars more, but I am boycotting amazon</td>\n",
       "      <td>it was worth it</td>\n",
       "      <td>coldbloodblazing</td>\n",
       "      <td>https://www.ebay.com/itm/AmazonBasics-Nylon-CD...</td>\n",
       "      <td>[a, few, dollars, more, but, i, am, boycotting...</td>\n",
       "    </tr>\n",
       "    <tr>\n",
       "      <th>8346</th>\n",
       "      <td>AVpe7nGV1cnluZ0-aG2o</td>\n",
       "      <td>2014-10-28T11:14:38Z</td>\n",
       "      <td>2019-04-25T09:05:28Z</td>\n",
       "      <td>AmazonBasics Nylon CD/DVD Binder (400 Capacity)</td>\n",
       "      <td>B00DIHVMEA,B00EZ1ZTV0</td>\n",
       "      <td>amazonbasics</td>\n",
       "      <td>Audio &amp; Video Accessories,TV, Video &amp; Home Aud...</td>\n",
       "      <td>Electronics</td>\n",
       "      <td>http://ecx.images-amazon.com/images/I/41jQha7Z...</td>\n",
       "      <td>amazonbasicsnyloncddvdbinder400capacity/b00ez1...</td>\n",
       "      <td>...</td>\n",
       "      <td>NaN</td>\n",
       "      <td>NaN</td>\n",
       "      <td>NaN</td>\n",
       "      <td>2</td>\n",
       "      <td>http://www.amazon.co.uk/gp/product-reviews/B00...</td>\n",
       "      <td>My initial impression of this was very good. T...</td>\n",
       "      <td>Not well designed, very tight when full. Becom...</td>\n",
       "      <td>Snrub</td>\n",
       "      <td>https://www.ebay.com/itm/AmazonBasics-Nylon-CD...</td>\n",
       "      <td>[my, initial, impression, of, this, was, very,...</td>\n",
       "    </tr>\n",
       "    <tr>\n",
       "      <th>8347</th>\n",
       "      <td>AVpfl8cLLJeJML43AE3S</td>\n",
       "      <td>2016-04-08T18:16:28Z</td>\n",
       "      <td>2019-04-25T08:51:22Z</td>\n",
       "      <td>Amazon Echo ‚Äì White</td>\n",
       "      <td>B01E6AO69U,B00L9EPT8O</td>\n",
       "      <td>amazon</td>\n",
       "      <td>Stereos,Remote Controls,Audio Docks &amp; Mini Spe...</td>\n",
       "      <td>Electronics</td>\n",
       "      <td>https://i.ebayimg.com/images/g/NWEAAOSwDehbdx6...</td>\n",
       "      <td>amazonechowhite/b00l9ept8o,amazonechowhite/b01...</td>\n",
       "      <td>...</td>\n",
       "      <td>NaN</td>\n",
       "      <td>NaN</td>\n",
       "      <td>NaN</td>\n",
       "      <td>5</td>\n",
       "      <td>https://www.newegg.com/Product/Product.aspx?It...</td>\n",
       "      <td>Pros: Standard Echo. Cons: Older generation Ec...</td>\n",
       "      <td>Arrived as described.</td>\n",
       "      <td>Anonymous</td>\n",
       "      <td>https://www.newegg.com/Product/Product.aspx?It...</td>\n",
       "      <td>[pros, standard, echo, cons, older, generation...</td>\n",
       "    </tr>\n",
       "  </tbody>\n",
       "</table>\n",
       "<p>5 rows × 25 columns</p>\n",
       "</div>"
      ],
      "text/plain": [
       "                        id             dateAdded           dateUpdated  \\\n",
       "8343  AVpe7nGV1cnluZ0-aG2o  2014-10-28T11:14:38Z  2019-04-25T09:05:28Z   \n",
       "8344  AVpe7nGV1cnluZ0-aG2o  2014-10-28T11:14:38Z  2019-04-25T09:05:28Z   \n",
       "8345  AVpe7nGV1cnluZ0-aG2o  2014-10-28T11:14:38Z  2019-04-25T09:05:28Z   \n",
       "8346  AVpe7nGV1cnluZ0-aG2o  2014-10-28T11:14:38Z  2019-04-25T09:05:28Z   \n",
       "8347  AVpfl8cLLJeJML43AE3S  2016-04-08T18:16:28Z  2019-04-25T08:51:22Z   \n",
       "\n",
       "                                                 name                  asins  \\\n",
       "8343  AmazonBasics Nylon CD/DVD Binder (400 Capacity)  B00DIHVMEA,B00EZ1ZTV0   \n",
       "8344  AmazonBasics Nylon CD/DVD Binder (400 Capacity)  B00DIHVMEA,B00EZ1ZTV0   \n",
       "8345  AmazonBasics Nylon CD/DVD Binder (400 Capacity)  B00DIHVMEA,B00EZ1ZTV0   \n",
       "8346  AmazonBasics Nylon CD/DVD Binder (400 Capacity)  B00DIHVMEA,B00EZ1ZTV0   \n",
       "8347                            Amazon Echo ‚Äì White  B01E6AO69U,B00L9EPT8O   \n",
       "\n",
       "             brand                                         categories  \\\n",
       "8343  amazonbasics  Audio & Video Accessories,TV, Video & Home Aud...   \n",
       "8344  amazonbasics  Audio & Video Accessories,TV, Video & Home Aud...   \n",
       "8345  amazonbasics  Audio & Video Accessories,TV, Video & Home Aud...   \n",
       "8346  amazonbasics  Audio & Video Accessories,TV, Video & Home Aud...   \n",
       "8347        amazon  Stereos,Remote Controls,Audio Docks & Mini Spe...   \n",
       "\n",
       "     primaryCategories                                          imageURLs  \\\n",
       "8343       Electronics  http://ecx.images-amazon.com/images/I/41jQha7Z...   \n",
       "8344       Electronics  http://ecx.images-amazon.com/images/I/41jQha7Z...   \n",
       "8345       Electronics  http://ecx.images-amazon.com/images/I/41jQha7Z...   \n",
       "8346       Electronics  http://ecx.images-amazon.com/images/I/41jQha7Z...   \n",
       "8347       Electronics  https://i.ebayimg.com/images/g/NWEAAOSwDehbdx6...   \n",
       "\n",
       "                                                   keys  ...  \\\n",
       "8343  amazonbasicsnyloncddvdbinder400capacity/b00ez1...  ...   \n",
       "8344  amazonbasicsnyloncddvdbinder400capacity/b00ez1...  ...   \n",
       "8345  amazonbasicsnyloncddvdbinder400capacity/b00ez1...  ...   \n",
       "8346  amazonbasicsnyloncddvdbinder400capacity/b00ez1...  ...   \n",
       "8347  amazonechowhite/b00l9ept8o,amazonechowhite/b01...  ...   \n",
       "\n",
       "     reviews.doRecommend reviews.id reviews.numHelpful reviews.rating  \\\n",
       "8343                 NaN        NaN                NaN              5   \n",
       "8344                 NaN        NaN                NaN              5   \n",
       "8345                 NaN        NaN                NaN              5   \n",
       "8346                 NaN        NaN                NaN              2   \n",
       "8347                 NaN        NaN                NaN              5   \n",
       "\n",
       "                                     reviews.sourceURLs  \\\n",
       "8343  https://www.ebay.com/itm/Amazonbasics-Nylon-Cd...   \n",
       "8344  http://www.amazon.co.uk/gp/product-reviews/B00...   \n",
       "8345  https://www.ebay.com/itm/Amazonbasics-Nylon-Cd...   \n",
       "8346  http://www.amazon.co.uk/gp/product-reviews/B00...   \n",
       "8347  https://www.newegg.com/Product/Product.aspx?It...   \n",
       "\n",
       "                                           reviews.text  \\\n",
       "8343  Great case to keep everything in its place! My...   \n",
       "8344  After discarding and getting rid of broken cd ...   \n",
       "8345     A few dollars more, but I am boycotting amazon   \n",
       "8346  My initial impression of this was very good. T...   \n",
       "8347  Pros: Standard Echo. Cons: Older generation Ec...   \n",
       "\n",
       "                                          reviews.title  reviews.username  \\\n",
       "8343                                  Excellent product           qs341_5   \n",
       "8344                       It was a much needed storage          Diablita   \n",
       "8345                                    it was worth it  coldbloodblazing   \n",
       "8346  Not well designed, very tight when full. Becom...             Snrub   \n",
       "8347                              Arrived as described.         Anonymous   \n",
       "\n",
       "                                             sourceURLs  \\\n",
       "8343  https://www.ebay.com/itm/AmazonBasics-Nylon-CD...   \n",
       "8344  https://www.ebay.com/itm/AmazonBasics-Nylon-CD...   \n",
       "8345  https://www.ebay.com/itm/AmazonBasics-Nylon-CD...   \n",
       "8346  https://www.ebay.com/itm/AmazonBasics-Nylon-CD...   \n",
       "8347  https://www.newegg.com/Product/Product.aspx?It...   \n",
       "\n",
       "                                                 tokens  \n",
       "8343  [great, case, to, keep, everything, in, its, p...  \n",
       "8344  [after, discarding, and, getting, rid, of, bro...  \n",
       "8345  [a, few, dollars, more, but, i, am, boycotting...  \n",
       "8346  [my, initial, impression, of, this, was, very,...  \n",
       "8347  [pros, standard, echo, cons, older, generation...  \n",
       "\n",
       "[5 rows x 25 columns]"
      ]
     },
     "execution_count": 90,
     "metadata": {},
     "output_type": "execute_result"
    }
   ],
=======
   "execution_count": null,
   "metadata": {},
   "outputs": [],
>>>>>>> 9d142a5988318d8c68919041231f6771beeca43f
   "source": [
    "df.head()"
   ]
  },
  {
   "cell_type": "markdown",
   "metadata": {},
   "source": [
    "#### Analyzing Tokens"
   ]
  },
  {
   "cell_type": "code",
<<<<<<< HEAD
   "execution_count": 91,
   "metadata": {},
   "outputs": [
    {
     "data": {
      "text/plain": [
       "[('the', 17723),\n",
       " ('and', 14005),\n",
       " ('it', 13113),\n",
       " ('to', 12750),\n",
       " ('for', 12224),\n",
       " ('i', 12037),\n",
       " ('a', 10494),\n",
       " ('is', 8508),\n",
       " ('this', 8109),\n",
       " ('my', 7914)]"
      ]
     },
     "execution_count": 91,
     "metadata": {},
     "output_type": "execute_result"
    }
   ],
   "source": [
    "# Counter is an object from Base Python\n",
    "from collections import Counter\n",
    "\n",
    "# It takes an iterable, but you can instaniate an empty one and update it. \n",
=======
   "execution_count": null,
   "metadata": {},
   "outputs": [],
   "source": [
    "# Object from Base Python\n",
    "from collections import Counter\n",
    "\n",
    "# The object `Counter` takes an iterable, but you can instaniate an empty one and update it. \n",
>>>>>>> 9d142a5988318d8c68919041231f6771beeca43f
    "word_counts = Counter()\n",
    "\n",
    "# Update it based on a split of each of our documents\n",
    "df['tokens'].apply(lambda x: word_counts.update(x))\n",
    "\n",
    "# Print out the 10 most common words\n",
    "word_counts.most_common(10)"
   ]
  },
  {
   "cell_type": "markdown",
   "metadata": {},
   "source": [
<<<<<<< HEAD
    "Let's create a function which takes a corpus of documents and returns a dataframe of word counts for us to analyze."
=======
    "Let's create a fuction which takes a corpus of document and returns and dataframe of word counts for us to analyze."
>>>>>>> 9d142a5988318d8c68919041231f6771beeca43f
   ]
  },
  {
   "cell_type": "code",
<<<<<<< HEAD
   "execution_count": 92,
=======
   "execution_count": null,
>>>>>>> 9d142a5988318d8c68919041231f6771beeca43f
   "metadata": {},
   "outputs": [],
   "source": [
    "def count(docs):\n",
<<<<<<< HEAD
    "'''Takes a corpus of documents and returns a dataframe of word counts'''\n",
=======
    "\n",
>>>>>>> 9d142a5988318d8c68919041231f6771beeca43f
    "        word_counts = Counter()\n",
    "        appears_in = Counter()\n",
    "        \n",
    "        total_docs = len(docs)\n",
    "\n",
    "        for doc in docs:\n",
    "            word_counts.update(doc)\n",
    "            appears_in.update(set(doc))\n",
    "\n",
    "        temp = zip(word_counts.keys(), word_counts.values())\n",
    "        \n",
    "        wc = pd.DataFrame(temp, columns = ['word', 'count'])\n",
    "\n",
    "        wc['rank'] = wc['count'].rank(method='first', ascending=False)\n",
    "        total = wc['count'].sum()\n",
    "\n",
    "        wc['pct_total'] = wc['count'].apply(lambda x: x / total)\n",
    "        \n",
    "        wc = wc.sort_values(by='rank')\n",
    "        wc['cul_pct_total'] = wc['pct_total'].cumsum()\n",
    "\n",
    "        t2 = zip(appears_in.keys(), appears_in.values())\n",
    "        ac = pd.DataFrame(t2, columns=['word', 'appears_in'])\n",
    "        wc = ac.merge(wc, on='word')\n",
    "\n",
    "        wc['appears_in_pct'] = wc['appears_in'].apply(lambda x: x / total_docs)\n",
    "        \n",
    "        return wc.sort_values(by='rank')"
   ]
  },
  {
   "cell_type": "code",
<<<<<<< HEAD
   "execution_count": 93,
=======
   "execution_count": null,
>>>>>>> 9d142a5988318d8c68919041231f6771beeca43f
   "metadata": {},
   "outputs": [],
   "source": [
    "# Use the Function\n",
    "wc = count(df['tokens'])"
   ]
  },
  {
   "cell_type": "code",
<<<<<<< HEAD
   "execution_count": 94,
   "metadata": {},
   "outputs": [
    {
     "data": {
      "text/html": [
       "<div>\n",
       "<style scoped>\n",
       "    .dataframe tbody tr th:only-of-type {\n",
       "        vertical-align: middle;\n",
       "    }\n",
       "\n",
       "    .dataframe tbody tr th {\n",
       "        vertical-align: top;\n",
       "    }\n",
       "\n",
       "    .dataframe thead th {\n",
       "        text-align: right;\n",
       "    }\n",
       "</style>\n",
       "<table border=\"1\" class=\"dataframe\">\n",
       "  <thead>\n",
       "    <tr style=\"text-align: right;\">\n",
       "      <th></th>\n",
       "      <th>word</th>\n",
       "      <th>appears_in</th>\n",
       "      <th>count</th>\n",
       "      <th>rank</th>\n",
       "      <th>pct_total</th>\n",
       "      <th>cul_pct_total</th>\n",
       "      <th>appears_in_pct</th>\n",
       "    </tr>\n",
       "  </thead>\n",
       "  <tbody>\n",
       "    <tr>\n",
       "      <th>68</th>\n",
       "      <td>the</td>\n",
       "      <td>7809</td>\n",
       "      <td>17723</td>\n",
       "      <td>1.0</td>\n",
       "      <td>0.041211</td>\n",
       "      <td>0.041211</td>\n",
       "      <td>0.557985</td>\n",
       "    </tr>\n",
       "    <tr>\n",
       "      <th>93</th>\n",
       "      <td>and</td>\n",
       "      <td>8543</td>\n",
       "      <td>14005</td>\n",
       "      <td>2.0</td>\n",
       "      <td>0.032565</td>\n",
       "      <td>0.073776</td>\n",
       "      <td>0.610432</td>\n",
       "    </tr>\n",
       "    <tr>\n",
       "      <th>7</th>\n",
       "      <td>it</td>\n",
       "      <td>7490</td>\n",
       "      <td>13113</td>\n",
       "      <td>3.0</td>\n",
       "      <td>0.030491</td>\n",
       "      <td>0.104267</td>\n",
       "      <td>0.535191</td>\n",
       "    </tr>\n",
       "    <tr>\n",
       "      <th>11</th>\n",
       "      <td>to</td>\n",
       "      <td>7137</td>\n",
       "      <td>12750</td>\n",
       "      <td>4.0</td>\n",
       "      <td>0.029647</td>\n",
       "      <td>0.133914</td>\n",
       "      <td>0.509968</td>\n",
       "    </tr>\n",
       "    <tr>\n",
       "      <th>61</th>\n",
       "      <td>for</td>\n",
       "      <td>7990</td>\n",
       "      <td>12224</td>\n",
       "      <td>5.0</td>\n",
       "      <td>0.028424</td>\n",
       "      <td>0.162339</td>\n",
       "      <td>0.570918</td>\n",
       "    </tr>\n",
       "  </tbody>\n",
       "</table>\n",
       "</div>"
      ],
      "text/plain": [
       "   word  appears_in  count  rank  pct_total  cul_pct_total  appears_in_pct\n",
       "68  the        7809  17723   1.0   0.041211       0.041211        0.557985\n",
       "93  and        8543  14005   2.0   0.032565       0.073776        0.610432\n",
       "7    it        7490  13113   3.0   0.030491       0.104267        0.535191\n",
       "11   to        7137  12750   4.0   0.029647       0.133914        0.509968\n",
       "61  for        7990  12224   5.0   0.028424       0.162339        0.570918"
      ]
     },
     "execution_count": 94,
     "metadata": {},
     "output_type": "execute_result"
    }
   ],
=======
   "execution_count": null,
   "metadata": {},
   "outputs": [],
>>>>>>> 9d142a5988318d8c68919041231f6771beeca43f
   "source": [
    "wc.head()"
   ]
  },
  {
   "cell_type": "code",
<<<<<<< HEAD
   "execution_count": 95,
   "metadata": {},
   "outputs": [
    {
     "data": {
      "image/png": "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\n",
      "text/plain": [
       "<Figure size 432x288 with 1 Axes>"
      ]
     },
     "metadata": {
      "needs_background": "light"
     },
     "output_type": "display_data"
    }
   ],
=======
   "execution_count": null,
   "metadata": {},
   "outputs": [],
>>>>>>> 9d142a5988318d8c68919041231f6771beeca43f
   "source": [
    "import seaborn as sns\n",
    "\n",
    "# Cumulative Distribution Plot\n",
    "sns.lineplot(x='rank', y='cul_pct_total', data=wc);"
   ]
  },
  {
   "cell_type": "code",
<<<<<<< HEAD
   "execution_count": 96,
   "metadata": {},
   "outputs": [
    {
     "data": {
      "text/plain": [
       "0.6130405666212466"
      ]
     },
     "execution_count": 96,
     "metadata": {},
     "output_type": "execute_result"
    }
   ],
=======
   "execution_count": null,
   "metadata": {},
   "outputs": [],
>>>>>>> 9d142a5988318d8c68919041231f6771beeca43f
   "source": [
    "wc[wc['rank'] <= 100]['cul_pct_total'].max()"
   ]
  },
  {
   "cell_type": "code",
<<<<<<< HEAD
   "execution_count": 97,
   "metadata": {},
   "outputs": [
    {
     "data": {
      "image/png": "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\n",
      "text/plain": [
       "<Figure size 432x288 with 1 Axes>"
      ]
     },
     "metadata": {
      "needs_background": "light"
     },
     "output_type": "display_data"
    }
   ],
=======
   "execution_count": null,
   "metadata": {},
   "outputs": [],
>>>>>>> 9d142a5988318d8c68919041231f6771beeca43f
   "source": [
    "import squarify\n",
    "import matplotlib.pyplot as plt\n",
    "\n",
    "wc_top20 = wc[wc['rank'] <= 20]\n",
    "\n",
    "squarify.plot(sizes=wc_top20['pct_total'], label=wc_top20['word'], alpha=.8 )\n",
    "plt.axis('off')\n",
    "plt.show()"
   ]
  },
  {
   "cell_type": "markdown",
   "metadata": {},
   "source": [
    "### Processing Raw Text with Spacy\n",
    "\n",
<<<<<<< HEAD
    "Spacy's datamodel for documents is unique among NLP libraries. Instead of storing the documents' components in various data structures, Spacy indexes components and simply stores the lookup information. \n",
=======
    "Spacy's datamodel for documents is unique among NLP libraries. Instead of storing the documents components in various data structures, Spacy indexes components and simply stores the lookup information. \n",
>>>>>>> 9d142a5988318d8c68919041231f6771beeca43f
    "\n",
    "This is often why Spacy is considered to be more production grade than library like NLTK."
   ]
  },
  {
   "cell_type": "code",
<<<<<<< HEAD
   "execution_count": 98,
=======
   "execution_count": null,
>>>>>>> 9d142a5988318d8c68919041231f6771beeca43f
   "metadata": {},
   "outputs": [],
   "source": [
    "import spacy\n",
    "from spacy.tokenizer import Tokenizer\n",
    "\n",
    "nlp = spacy.load(\"en_core_web_lg\")\n",
    "\n",
    "# Tokenizer\n",
    "tokenizer = Tokenizer(nlp.vocab)"
   ]
  },
  {
   "cell_type": "code",
<<<<<<< HEAD
   "execution_count": 99,
   "metadata": {},
   "outputs": [
    {
     "data": {
      "text/plain": [
       "['Friends,', 'Romans,', 'countrymen,', 'lend', 'me', 'your', 'ears;']"
      ]
     },
     "execution_count": 99,
     "metadata": {},
     "output_type": "execute_result"
    }
   ],
=======
   "execution_count": null,
   "metadata": {},
   "outputs": [],
>>>>>>> 9d142a5988318d8c68919041231f6771beeca43f
   "source": [
    "# Print out list of tokens\n",
    "sample = \"Friends, Romans, countrymen, lend me your ears;\"\n",
    "[token.text for token in tokenizer(sample)]"
   ]
  },
  {
   "cell_type": "code",
<<<<<<< HEAD
   "execution_count": 100,
=======
   "execution_count": null,
>>>>>>> 9d142a5988318d8c68919041231f6771beeca43f
   "metadata": {},
   "outputs": [],
   "source": [
    "# Tokenizer Pipe\n",
    "\n",
    "tokens = []\n",
    "\n",
    "\"\"\" Make them tokens \"\"\"\n",
    "for doc in tokenizer.pipe(df['reviews.text'], batch_size=500):\n",
    "    doc_tokens = [token.text for token in doc]\n",
    "    tokens.append(doc_tokens)\n",
    "\n",
    "df['tokens'] = tokens"
   ]
  },
  {
   "cell_type": "code",
<<<<<<< HEAD
   "execution_count": 101,
   "metadata": {},
   "outputs": [
    {
     "data": {
      "text/plain": [
       "8343    [Great, case, to, keep, everything, in, its, p...\n",
       "8344    [After, discarding, and, getting, rid, of, bro...\n",
       "8345    [A, few, dollars, more,, but, I, am, boycottin...\n",
       "8346    [My, initial, impression, of, this, was, very,...\n",
       "8347    [Pros:, Standard, Echo., Cons:, Older, generat...\n",
       "Name: tokens, dtype: object"
      ]
     },
     "execution_count": 101,
     "metadata": {},
     "output_type": "execute_result"
    }
   ],
=======
   "execution_count": null,
   "metadata": {},
   "outputs": [],
>>>>>>> 9d142a5988318d8c68919041231f6771beeca43f
   "source": [
    "df['tokens'].head()"
   ]
  },
  {
   "cell_type": "code",
<<<<<<< HEAD
   "execution_count": 102,
   "metadata": {},
   "outputs": [],
   "source": [
    "# this is NOT spacy, this is the count function we wrote\n",
    "\n",
=======
   "execution_count": null,
   "metadata": {},
   "outputs": [],
   "source": [
>>>>>>> 9d142a5988318d8c68919041231f6771beeca43f
    "wc = count(df['tokens'])"
   ]
  },
  {
   "cell_type": "code",
<<<<<<< HEAD
   "execution_count": 103,
   "metadata": {},
   "outputs": [
    {
     "data": {
      "text/html": [
       "<div>\n",
       "<style scoped>\n",
       "    .dataframe tbody tr th:only-of-type {\n",
       "        vertical-align: middle;\n",
       "    }\n",
       "\n",
       "    .dataframe tbody tr th {\n",
       "        vertical-align: top;\n",
       "    }\n",
       "\n",
       "    .dataframe thead th {\n",
       "        text-align: right;\n",
       "    }\n",
       "</style>\n",
       "<table border=\"1\" class=\"dataframe\">\n",
       "  <thead>\n",
       "    <tr style=\"text-align: right;\">\n",
       "      <th></th>\n",
       "      <th>word</th>\n",
       "      <th>appears_in</th>\n",
       "      <th>count</th>\n",
       "      <th>rank</th>\n",
       "      <th>pct_total</th>\n",
       "      <th>cul_pct_total</th>\n",
       "      <th>appears_in_pct</th>\n",
       "    </tr>\n",
       "  </thead>\n",
       "  <tbody>\n",
       "    <tr>\n",
       "      <th>73</th>\n",
       "      <td>the</td>\n",
       "      <td>7230</td>\n",
       "      <td>15157</td>\n",
       "      <td>1.0</td>\n",
       "      <td>0.035131</td>\n",
       "      <td>0.035131</td>\n",
       "      <td>0.516613</td>\n",
       "    </tr>\n",
       "    <tr>\n",
       "      <th>100</th>\n",
       "      <td>and</td>\n",
       "      <td>8438</td>\n",
       "      <td>13734</td>\n",
       "      <td>2.0</td>\n",
       "      <td>0.031832</td>\n",
       "      <td>0.066963</td>\n",
       "      <td>0.602930</td>\n",
       "    </tr>\n",
       "    <tr>\n",
       "      <th>12</th>\n",
       "      <td>to</td>\n",
       "      <td>7090</td>\n",
       "      <td>12621</td>\n",
       "      <td>3.0</td>\n",
       "      <td>0.029253</td>\n",
       "      <td>0.096216</td>\n",
       "      <td>0.506610</td>\n",
       "    </tr>\n",
       "    <tr>\n",
       "      <th>64</th>\n",
       "      <td>for</td>\n",
       "      <td>7811</td>\n",
       "      <td>11753</td>\n",
       "      <td>4.0</td>\n",
       "      <td>0.027241</td>\n",
       "      <td>0.123457</td>\n",
       "      <td>0.558128</td>\n",
       "    </tr>\n",
       "    <tr>\n",
       "      <th>111</th>\n",
       "      <td>I</td>\n",
       "      <td>5846</td>\n",
       "      <td>11554</td>\n",
       "      <td>5.0</td>\n",
       "      <td>0.026780</td>\n",
       "      <td>0.150237</td>\n",
       "      <td>0.417721</td>\n",
       "    </tr>\n",
       "  </tbody>\n",
       "</table>\n",
       "</div>"
      ],
      "text/plain": [
       "    word  appears_in  count  rank  pct_total  cul_pct_total  appears_in_pct\n",
       "73   the        7230  15157   1.0   0.035131       0.035131        0.516613\n",
       "100  and        8438  13734   2.0   0.031832       0.066963        0.602930\n",
       "12    to        7090  12621   3.0   0.029253       0.096216        0.506610\n",
       "64   for        7811  11753   4.0   0.027241       0.123457        0.558128\n",
       "111    I        5846  11554   5.0   0.026780       0.150237        0.417721"
      ]
     },
     "execution_count": 103,
     "metadata": {},
     "output_type": "execute_result"
    }
   ],
=======
   "execution_count": null,
   "metadata": {},
   "outputs": [],
>>>>>>> 9d142a5988318d8c68919041231f6771beeca43f
   "source": [
    "wc.head()"
   ]
  },
  {
   "cell_type": "code",
<<<<<<< HEAD
   "execution_count": 104,
   "metadata": {},
   "outputs": [
    {
     "data": {
      "image/png": "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\n",
      "text/plain": [
       "<Figure size 432x288 with 1 Axes>"
      ]
     },
     "metadata": {
      "needs_background": "light"
     },
     "output_type": "display_data"
    }
   ],
=======
   "execution_count": null,
   "metadata": {},
   "outputs": [],
>>>>>>> 9d142a5988318d8c68919041231f6771beeca43f
   "source": [
    "wc_top20 = wc[wc['rank'] <= 20]\n",
    "\n",
    "squarify.plot(sizes=wc_top20['pct_total'], label=wc_top20['word'], alpha=.8 )\n",
    "plt.axis('off')\n",
    "plt.show()"
   ]
  },
  {
   "cell_type": "markdown",
   "metadata": {
    "toc-hr-collapsed": true
   },
   "source": [
    "## Challenge\n",
    "\n",
    "In the module project, you will apply tokenization to another set of review data and produce visualizations of those tokens. "
   ]
  },
  {
   "cell_type": "code",
<<<<<<< HEAD
   "execution_count": 105,
   "metadata": {},
   "outputs": [
    {
     "data": {
      "text/plain": [
       "['id',\n",
       " 'dateAdded',\n",
       " 'dateUpdated',\n",
       " 'name',\n",
       " 'asins',\n",
       " 'brand',\n",
       " 'categories',\n",
       " 'primaryCategories',\n",
       " 'imageURLs',\n",
       " 'keys',\n",
       " 'manufacturer',\n",
       " 'manufacturerNumber',\n",
       " 'reviews.date',\n",
       " 'reviews.dateSeen',\n",
       " 'reviews.didPurchase',\n",
       " 'reviews.doRecommend',\n",
       " 'reviews.id',\n",
       " 'reviews.numHelpful',\n",
       " 'reviews.rating',\n",
       " 'reviews.sourceURLs',\n",
       " 'reviews.text',\n",
       " 'reviews.title',\n",
       " 'reviews.username',\n",
       " 'sourceURLs',\n",
       " 'tokens']"
      ]
     },
     "execution_count": 105,
     "metadata": {},
     "output_type": "execute_result"
    }
   ],
   "source": [
    "# this is just a weird list of df columns\n",
    "\n",
=======
   "execution_count": null,
   "metadata": {},
   "outputs": [],
   "source": [
>>>>>>> 9d142a5988318d8c68919041231f6771beeca43f
    "list(df)"
   ]
  },
  {
   "cell_type": "markdown",
   "metadata": {
    "toc-hr-collapsed": false
   },
   "source": [
    "# Stop Words (Learn)\n",
    "<a id=\"p2\"></a>"
   ]
  },
  {
   "cell_type": "markdown",
   "metadata": {},
   "source": [
    "## Overview\n",
    "Section Agenda\n",
    "- What are they?\n",
    "- How do we get rid of them using Spacy?\n",
    "- Visualization\n",
    "- Libraries of Stop Words\n",
    "- Extending Stop Words\n",
    "- Statistical trimming\n",
    "\n",
    "If the visualizations above, you began to notice a pattern. Most of the words don't really add much to our understanding of product reviews. Words such as \"I\", \"and\", \"of\", etc. have almost no semantic meaning to us. We call these useless words \"stop words,\" because we should 'stop' ourselves from including them in the analysis. \n",
    "\n",
    "Most NLP libraries have built in lists of stop words that common english words: conjunctions, articles, adverbs, pronouns, and common verbs. The best practice, however, is to extend/customize these standard english stopwords for your problem's domain. If I am studying political science, I may want to exclude the word \"politics\" from my analysis; it's so common it does not add to my understanding. "
   ]
  },
  {
   "cell_type": "markdown",
   "metadata": {
    "toc-hr-collapsed": true
   },
   "source": [
    "## Follow Along \n",
    "\n",
    "### Default Stop Words\n",
    "Let's take a look at the standard stop words that came with our Spacy model:"
   ]
  },
  {
   "cell_type": "code",
<<<<<<< HEAD
   "execution_count": 106,
   "metadata": {},
   "outputs": [
    {
     "data": {
      "text/plain": [
       "{\"'d\",\n",
       " \"'ll\",\n",
       " \"'m\",\n",
       " \"'re\",\n",
       " \"'s\",\n",
       " \"'ve\",\n",
       " 'a',\n",
       " 'about',\n",
       " 'above',\n",
       " 'across',\n",
       " 'after',\n",
       " 'afterwards',\n",
       " 'again',\n",
       " 'against',\n",
       " 'all',\n",
       " 'almost',\n",
       " 'alone',\n",
       " 'along',\n",
       " 'already',\n",
       " 'also',\n",
       " 'although',\n",
       " 'always',\n",
       " 'am',\n",
       " 'among',\n",
       " 'amongst',\n",
       " 'amount',\n",
       " 'an',\n",
       " 'and',\n",
       " 'another',\n",
       " 'any',\n",
       " 'anyhow',\n",
       " 'anyone',\n",
       " 'anything',\n",
       " 'anyway',\n",
       " 'anywhere',\n",
       " 'are',\n",
       " 'around',\n",
       " 'as',\n",
       " 'at',\n",
       " 'back',\n",
       " 'be',\n",
       " 'became',\n",
       " 'because',\n",
       " 'become',\n",
       " 'becomes',\n",
       " 'becoming',\n",
       " 'been',\n",
       " 'before',\n",
       " 'beforehand',\n",
       " 'behind',\n",
       " 'being',\n",
       " 'below',\n",
       " 'beside',\n",
       " 'besides',\n",
       " 'between',\n",
       " 'beyond',\n",
       " 'both',\n",
       " 'bottom',\n",
       " 'but',\n",
       " 'by',\n",
       " 'ca',\n",
       " 'call',\n",
       " 'can',\n",
       " 'cannot',\n",
       " 'could',\n",
       " 'did',\n",
       " 'do',\n",
       " 'does',\n",
       " 'doing',\n",
       " 'done',\n",
       " 'down',\n",
       " 'due',\n",
       " 'during',\n",
       " 'each',\n",
       " 'eight',\n",
       " 'either',\n",
       " 'eleven',\n",
       " 'else',\n",
       " 'elsewhere',\n",
       " 'empty',\n",
       " 'enough',\n",
       " 'even',\n",
       " 'ever',\n",
       " 'every',\n",
       " 'everyone',\n",
       " 'everything',\n",
       " 'everywhere',\n",
       " 'except',\n",
       " 'few',\n",
       " 'fifteen',\n",
       " 'fifty',\n",
       " 'first',\n",
       " 'five',\n",
       " 'for',\n",
       " 'former',\n",
       " 'formerly',\n",
       " 'forty',\n",
       " 'four',\n",
       " 'from',\n",
       " 'front',\n",
       " 'full',\n",
       " 'further',\n",
       " 'get',\n",
       " 'give',\n",
       " 'go',\n",
       " 'had',\n",
       " 'has',\n",
       " 'have',\n",
       " 'he',\n",
       " 'hence',\n",
       " 'her',\n",
       " 'here',\n",
       " 'hereafter',\n",
       " 'hereby',\n",
       " 'herein',\n",
       " 'hereupon',\n",
       " 'hers',\n",
       " 'herself',\n",
       " 'him',\n",
       " 'himself',\n",
       " 'his',\n",
       " 'how',\n",
       " 'however',\n",
       " 'hundred',\n",
       " 'i',\n",
       " 'if',\n",
       " 'in',\n",
       " 'indeed',\n",
       " 'into',\n",
       " 'is',\n",
       " 'it',\n",
       " 'its',\n",
       " 'itself',\n",
       " 'just',\n",
       " 'keep',\n",
       " 'last',\n",
       " 'latter',\n",
       " 'latterly',\n",
       " 'least',\n",
       " 'less',\n",
       " 'made',\n",
       " 'make',\n",
       " 'many',\n",
       " 'may',\n",
       " 'me',\n",
       " 'meanwhile',\n",
       " 'might',\n",
       " 'mine',\n",
       " 'more',\n",
       " 'moreover',\n",
       " 'most',\n",
       " 'mostly',\n",
       " 'move',\n",
       " 'much',\n",
       " 'must',\n",
       " 'my',\n",
       " 'myself',\n",
       " \"n't\",\n",
       " 'name',\n",
       " 'namely',\n",
       " 'neither',\n",
       " 'never',\n",
       " 'nevertheless',\n",
       " 'next',\n",
       " 'nine',\n",
       " 'no',\n",
       " 'nobody',\n",
       " 'none',\n",
       " 'noone',\n",
       " 'nor',\n",
       " 'not',\n",
       " 'nothing',\n",
       " 'now',\n",
       " 'nowhere',\n",
       " 'n‘t',\n",
       " 'n’t',\n",
       " 'of',\n",
       " 'off',\n",
       " 'often',\n",
       " 'on',\n",
       " 'once',\n",
       " 'one',\n",
       " 'only',\n",
       " 'onto',\n",
       " 'or',\n",
       " 'other',\n",
       " 'others',\n",
       " 'otherwise',\n",
       " 'our',\n",
       " 'ours',\n",
       " 'ourselves',\n",
       " 'out',\n",
       " 'over',\n",
       " 'own',\n",
       " 'part',\n",
       " 'per',\n",
       " 'perhaps',\n",
       " 'please',\n",
       " 'put',\n",
       " 'quite',\n",
       " 'rather',\n",
       " 're',\n",
       " 'really',\n",
       " 'regarding',\n",
       " 'same',\n",
       " 'say',\n",
       " 'see',\n",
       " 'seem',\n",
       " 'seemed',\n",
       " 'seeming',\n",
       " 'seems',\n",
       " 'serious',\n",
       " 'several',\n",
       " 'she',\n",
       " 'should',\n",
       " 'show',\n",
       " 'side',\n",
       " 'since',\n",
       " 'six',\n",
       " 'sixty',\n",
       " 'so',\n",
       " 'some',\n",
       " 'somehow',\n",
       " 'someone',\n",
       " 'something',\n",
       " 'sometime',\n",
       " 'sometimes',\n",
       " 'somewhere',\n",
       " 'still',\n",
       " 'such',\n",
       " 'take',\n",
       " 'ten',\n",
       " 'than',\n",
       " 'that',\n",
       " 'the',\n",
       " 'their',\n",
       " 'them',\n",
       " 'themselves',\n",
       " 'then',\n",
       " 'thence',\n",
       " 'there',\n",
       " 'thereafter',\n",
       " 'thereby',\n",
       " 'therefore',\n",
       " 'therein',\n",
       " 'thereupon',\n",
       " 'these',\n",
       " 'they',\n",
       " 'third',\n",
       " 'this',\n",
       " 'those',\n",
       " 'though',\n",
       " 'three',\n",
       " 'through',\n",
       " 'throughout',\n",
       " 'thru',\n",
       " 'thus',\n",
       " 'to',\n",
       " 'together',\n",
       " 'too',\n",
       " 'top',\n",
       " 'toward',\n",
       " 'towards',\n",
       " 'twelve',\n",
       " 'twenty',\n",
       " 'two',\n",
       " 'under',\n",
       " 'unless',\n",
       " 'until',\n",
       " 'up',\n",
       " 'upon',\n",
       " 'us',\n",
       " 'used',\n",
       " 'using',\n",
       " 'various',\n",
       " 'very',\n",
       " 'via',\n",
       " 'was',\n",
       " 'we',\n",
       " 'well',\n",
       " 'were',\n",
       " 'what',\n",
       " 'whatever',\n",
       " 'when',\n",
       " 'whence',\n",
       " 'whenever',\n",
       " 'where',\n",
       " 'whereafter',\n",
       " 'whereas',\n",
       " 'whereby',\n",
       " 'wherein',\n",
       " 'whereupon',\n",
       " 'wherever',\n",
       " 'whether',\n",
       " 'which',\n",
       " 'while',\n",
       " 'whither',\n",
       " 'who',\n",
       " 'whoever',\n",
       " 'whole',\n",
       " 'whom',\n",
       " 'whose',\n",
       " 'why',\n",
       " 'will',\n",
       " 'with',\n",
       " 'within',\n",
       " 'without',\n",
       " 'would',\n",
       " 'yet',\n",
       " 'you',\n",
       " 'your',\n",
       " 'yours',\n",
       " 'yourself',\n",
       " 'yourselves',\n",
       " '‘d',\n",
       " '‘ll',\n",
       " '‘m',\n",
       " '‘re',\n",
       " '‘s',\n",
       " '‘ve',\n",
       " '’d',\n",
       " '’ll',\n",
       " '’m',\n",
       " '’re',\n",
       " '’s',\n",
       " '’ve'}"
      ]
     },
     "execution_count": 106,
     "metadata": {},
     "output_type": "execute_result"
    }
   ],
=======
   "execution_count": null,
   "metadata": {},
   "outputs": [],
>>>>>>> 9d142a5988318d8c68919041231f6771beeca43f
   "source": [
    "# Spacy's Default Stop Words\n",
    "nlp.Defaults.stop_words"
   ]
  },
  {
   "cell_type": "code",
<<<<<<< HEAD
   "execution_count": 107,
   "metadata": {},
   "outputs": [],
   "source": [
    "# Next 3 cells re-do the above, without stop words\n",
    "\n",
    "\n",
=======
   "execution_count": null,
   "metadata": {},
   "outputs": [],
   "source": [
>>>>>>> 9d142a5988318d8c68919041231f6771beeca43f
    "tokens = []\n",
    "\n",
    "\"\"\" Update those tokens w/o stopwords\"\"\"\n",
    "for doc in tokenizer.pipe(df['reviews.text'], batch_size=500):\n",
    "    \n",
    "    doc_tokens = []\n",
    "    \n",
    "    for token in doc:\n",
    "        if (token.is_stop == False) & (token.is_punct == False):\n",
    "            doc_tokens.append(token.text.lower())\n",
    "\n",
    "    tokens.append(doc_tokens)\n",
    "\n",
    "df['tokens'] = tokens"
   ]
  },
  {
   "cell_type": "code",
<<<<<<< HEAD
   "execution_count": 108,
   "metadata": {},
   "outputs": [
    {
     "data": {
      "text/plain": [
       "8343    [great, case, place!, husband, love, it!!!!, h...\n",
       "8344    [discarding, getting, rid, broken, cd, cases,,...\n",
       "8345                 [dollars, more,, boycotting, amazon]\n",
       "8346    [initial, impression, good., material, nicer, ...\n",
       "8347    [pros:, standard, echo., cons:, older, generat...\n",
       "Name: tokens, dtype: object"
      ]
     },
     "execution_count": 108,
     "metadata": {},
     "output_type": "execute_result"
    }
   ],
=======
   "execution_count": null,
   "metadata": {},
   "outputs": [],
>>>>>>> 9d142a5988318d8c68919041231f6771beeca43f
   "source": [
    "df.tokens.head()"
   ]
  },
  {
   "cell_type": "code",
<<<<<<< HEAD
   "execution_count": 109,
   "metadata": {},
   "outputs": [
    {
     "data": {
      "image/png": "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\n",
      "text/plain": [
       "<Figure size 432x288 with 1 Axes>"
      ]
     },
     "metadata": {
      "needs_background": "light"
     },
     "output_type": "display_data"
    }
   ],
=======
   "execution_count": null,
   "metadata": {},
   "outputs": [],
>>>>>>> 9d142a5988318d8c68919041231f6771beeca43f
   "source": [
    "wc = count(df['tokens'])\n",
    "\n",
    "wc_top20 = wc[wc['rank'] <= 20]\n",
    "\n",
    "squarify.plot(sizes=wc_top20['pct_total'], label=wc_top20['word'], alpha=.8 )\n",
    "plt.axis('off')\n",
    "plt.show()"
   ]
  },
  {
   "cell_type": "markdown",
   "metadata": {},
   "source": [
    "### Extending Stop Words"
   ]
  },
  {
   "cell_type": "code",
<<<<<<< HEAD
   "execution_count": 110,
   "metadata": {},
   "outputs": [
    {
     "name": "stdout",
     "output_type": "stream",
     "text": [
      "<class 'set'>\n"
     ]
    }
   ],
   "source": [
    "# stop_words is a \"set\", meaning we can union it with our own set of stop words (and redo the above again)\n",
    "\n",
=======
   "execution_count": null,
   "metadata": {},
   "outputs": [],
   "source": [
>>>>>>> 9d142a5988318d8c68919041231f6771beeca43f
    "print(type(nlp.Defaults.stop_words))"
   ]
  },
  {
   "cell_type": "code",
<<<<<<< HEAD
   "execution_count": 111,
=======
   "execution_count": null,
>>>>>>> 9d142a5988318d8c68919041231f6771beeca43f
   "metadata": {},
   "outputs": [],
   "source": [
    "STOP_WORDS = nlp.Defaults.stop_words.union(['batteries','I', 'amazon', 'i', 'Amazon', 'it', \"it's\", 'it.', 'the', 'this',])"
   ]
  },
  {
   "cell_type": "code",
<<<<<<< HEAD
   "execution_count": 112,
   "metadata": {},
   "outputs": [
    {
     "data": {
      "text/plain": [
       "{\"'d\",\n",
       " \"'ll\",\n",
       " \"'m\",\n",
       " \"'re\",\n",
       " \"'s\",\n",
       " \"'ve\",\n",
       " 'Amazon',\n",
       " 'I',\n",
       " 'a',\n",
       " 'about',\n",
       " 'above',\n",
       " 'across',\n",
       " 'after',\n",
       " 'afterwards',\n",
       " 'again',\n",
       " 'against',\n",
       " 'all',\n",
       " 'almost',\n",
       " 'alone',\n",
       " 'along',\n",
       " 'already',\n",
       " 'also',\n",
       " 'although',\n",
       " 'always',\n",
       " 'am',\n",
       " 'amazon',\n",
       " 'among',\n",
       " 'amongst',\n",
       " 'amount',\n",
       " 'an',\n",
       " 'and',\n",
       " 'another',\n",
       " 'any',\n",
       " 'anyhow',\n",
       " 'anyone',\n",
       " 'anything',\n",
       " 'anyway',\n",
       " 'anywhere',\n",
       " 'are',\n",
       " 'around',\n",
       " 'as',\n",
       " 'at',\n",
       " 'back',\n",
       " 'batteries',\n",
       " 'be',\n",
       " 'became',\n",
       " 'because',\n",
       " 'become',\n",
       " 'becomes',\n",
       " 'becoming',\n",
       " 'been',\n",
       " 'before',\n",
       " 'beforehand',\n",
       " 'behind',\n",
       " 'being',\n",
       " 'below',\n",
       " 'beside',\n",
       " 'besides',\n",
       " 'between',\n",
       " 'beyond',\n",
       " 'both',\n",
       " 'bottom',\n",
       " 'but',\n",
       " 'by',\n",
       " 'ca',\n",
       " 'call',\n",
       " 'can',\n",
       " 'cannot',\n",
       " 'could',\n",
       " 'did',\n",
       " 'do',\n",
       " 'does',\n",
       " 'doing',\n",
       " 'done',\n",
       " 'down',\n",
       " 'due',\n",
       " 'during',\n",
       " 'each',\n",
       " 'eight',\n",
       " 'either',\n",
       " 'eleven',\n",
       " 'else',\n",
       " 'elsewhere',\n",
       " 'empty',\n",
       " 'enough',\n",
       " 'even',\n",
       " 'ever',\n",
       " 'every',\n",
       " 'everyone',\n",
       " 'everything',\n",
       " 'everywhere',\n",
       " 'except',\n",
       " 'few',\n",
       " 'fifteen',\n",
       " 'fifty',\n",
       " 'first',\n",
       " 'five',\n",
       " 'for',\n",
       " 'former',\n",
       " 'formerly',\n",
       " 'forty',\n",
       " 'four',\n",
       " 'from',\n",
       " 'front',\n",
       " 'full',\n",
       " 'further',\n",
       " 'get',\n",
       " 'give',\n",
       " 'go',\n",
       " 'had',\n",
       " 'has',\n",
       " 'have',\n",
       " 'he',\n",
       " 'hence',\n",
       " 'her',\n",
       " 'here',\n",
       " 'hereafter',\n",
       " 'hereby',\n",
       " 'herein',\n",
       " 'hereupon',\n",
       " 'hers',\n",
       " 'herself',\n",
       " 'him',\n",
       " 'himself',\n",
       " 'his',\n",
       " 'how',\n",
       " 'however',\n",
       " 'hundred',\n",
       " 'i',\n",
       " 'if',\n",
       " 'in',\n",
       " 'indeed',\n",
       " 'into',\n",
       " 'is',\n",
       " 'it',\n",
       " \"it's\",\n",
       " 'it.',\n",
       " 'its',\n",
       " 'itself',\n",
       " 'just',\n",
       " 'keep',\n",
       " 'last',\n",
       " 'latter',\n",
       " 'latterly',\n",
       " 'least',\n",
       " 'less',\n",
       " 'made',\n",
       " 'make',\n",
       " 'many',\n",
       " 'may',\n",
       " 'me',\n",
       " 'meanwhile',\n",
       " 'might',\n",
       " 'mine',\n",
       " 'more',\n",
       " 'moreover',\n",
       " 'most',\n",
       " 'mostly',\n",
       " 'move',\n",
       " 'much',\n",
       " 'must',\n",
       " 'my',\n",
       " 'myself',\n",
       " \"n't\",\n",
       " 'name',\n",
       " 'namely',\n",
       " 'neither',\n",
       " 'never',\n",
       " 'nevertheless',\n",
       " 'next',\n",
       " 'nine',\n",
       " 'no',\n",
       " 'nobody',\n",
       " 'none',\n",
       " 'noone',\n",
       " 'nor',\n",
       " 'not',\n",
       " 'nothing',\n",
       " 'now',\n",
       " 'nowhere',\n",
       " 'n‘t',\n",
       " 'n’t',\n",
       " 'of',\n",
       " 'off',\n",
       " 'often',\n",
       " 'on',\n",
       " 'once',\n",
       " 'one',\n",
       " 'only',\n",
       " 'onto',\n",
       " 'or',\n",
       " 'other',\n",
       " 'others',\n",
       " 'otherwise',\n",
       " 'our',\n",
       " 'ours',\n",
       " 'ourselves',\n",
       " 'out',\n",
       " 'over',\n",
       " 'own',\n",
       " 'part',\n",
       " 'per',\n",
       " 'perhaps',\n",
       " 'please',\n",
       " 'put',\n",
       " 'quite',\n",
       " 'rather',\n",
       " 're',\n",
       " 'really',\n",
       " 'regarding',\n",
       " 'same',\n",
       " 'say',\n",
       " 'see',\n",
       " 'seem',\n",
       " 'seemed',\n",
       " 'seeming',\n",
       " 'seems',\n",
       " 'serious',\n",
       " 'several',\n",
       " 'she',\n",
       " 'should',\n",
       " 'show',\n",
       " 'side',\n",
       " 'since',\n",
       " 'six',\n",
       " 'sixty',\n",
       " 'so',\n",
       " 'some',\n",
       " 'somehow',\n",
       " 'someone',\n",
       " 'something',\n",
       " 'sometime',\n",
       " 'sometimes',\n",
       " 'somewhere',\n",
       " 'still',\n",
       " 'such',\n",
       " 'take',\n",
       " 'ten',\n",
       " 'than',\n",
       " 'that',\n",
       " 'the',\n",
       " 'their',\n",
       " 'them',\n",
       " 'themselves',\n",
       " 'then',\n",
       " 'thence',\n",
       " 'there',\n",
       " 'thereafter',\n",
       " 'thereby',\n",
       " 'therefore',\n",
       " 'therein',\n",
       " 'thereupon',\n",
       " 'these',\n",
       " 'they',\n",
       " 'third',\n",
       " 'this',\n",
       " 'those',\n",
       " 'though',\n",
       " 'three',\n",
       " 'through',\n",
       " 'throughout',\n",
       " 'thru',\n",
       " 'thus',\n",
       " 'to',\n",
       " 'together',\n",
       " 'too',\n",
       " 'top',\n",
       " 'toward',\n",
       " 'towards',\n",
       " 'twelve',\n",
       " 'twenty',\n",
       " 'two',\n",
       " 'under',\n",
       " 'unless',\n",
       " 'until',\n",
       " 'up',\n",
       " 'upon',\n",
       " 'us',\n",
       " 'used',\n",
       " 'using',\n",
       " 'various',\n",
       " 'very',\n",
       " 'via',\n",
       " 'was',\n",
       " 'we',\n",
       " 'well',\n",
       " 'were',\n",
       " 'what',\n",
       " 'whatever',\n",
       " 'when',\n",
       " 'whence',\n",
       " 'whenever',\n",
       " 'where',\n",
       " 'whereafter',\n",
       " 'whereas',\n",
       " 'whereby',\n",
       " 'wherein',\n",
       " 'whereupon',\n",
       " 'wherever',\n",
       " 'whether',\n",
       " 'which',\n",
       " 'while',\n",
       " 'whither',\n",
       " 'who',\n",
       " 'whoever',\n",
       " 'whole',\n",
       " 'whom',\n",
       " 'whose',\n",
       " 'why',\n",
       " 'will',\n",
       " 'with',\n",
       " 'within',\n",
       " 'without',\n",
       " 'would',\n",
       " 'yet',\n",
       " 'you',\n",
       " 'your',\n",
       " 'yours',\n",
       " 'yourself',\n",
       " 'yourselves',\n",
       " '‘d',\n",
       " '‘ll',\n",
       " '‘m',\n",
       " '‘re',\n",
       " '‘s',\n",
       " '‘ve',\n",
       " '’d',\n",
       " '’ll',\n",
       " '’m',\n",
       " '’re',\n",
       " '’s',\n",
       " '’ve'}"
      ]
     },
     "execution_count": 112,
     "metadata": {},
     "output_type": "execute_result"
    }
   ],
=======
   "execution_count": null,
   "metadata": {},
   "outputs": [],
>>>>>>> 9d142a5988318d8c68919041231f6771beeca43f
   "source": [
    "STOP_WORDS"
   ]
  },
  {
   "cell_type": "code",
<<<<<<< HEAD
   "execution_count": 113,
=======
   "execution_count": null,
>>>>>>> 9d142a5988318d8c68919041231f6771beeca43f
   "metadata": {},
   "outputs": [],
   "source": [
    "tokens = []\n",
    "\n",
    "for doc in tokenizer.pipe(df['reviews.text'], batch_size=500):\n",
    "    \n",
    "    doc_tokens = []\n",
    "    \n",
    "    for token in doc: \n",
    "        if token.text.lower() not in STOP_WORDS:\n",
    "            doc_tokens.append(token.text.lower())\n",
    "   \n",
    "    tokens.append(doc_tokens)\n",
    "    \n",
    "df['tokens'] = tokens"
   ]
  },
  {
   "cell_type": "code",
<<<<<<< HEAD
   "execution_count": 114,
   "metadata": {},
   "outputs": [
    {
     "data": {
      "text/html": [
       "<div>\n",
       "<style scoped>\n",
       "    .dataframe tbody tr th:only-of-type {\n",
       "        vertical-align: middle;\n",
       "    }\n",
       "\n",
       "    .dataframe tbody tr th {\n",
       "        vertical-align: top;\n",
       "    }\n",
       "\n",
       "    .dataframe thead th {\n",
       "        text-align: right;\n",
       "    }\n",
       "</style>\n",
       "<table border=\"1\" class=\"dataframe\">\n",
       "  <thead>\n",
       "    <tr style=\"text-align: right;\">\n",
       "      <th></th>\n",
       "      <th>word</th>\n",
       "      <th>appears_in</th>\n",
       "      <th>count</th>\n",
       "      <th>rank</th>\n",
       "      <th>pct_total</th>\n",
       "      <th>cul_pct_total</th>\n",
       "      <th>appears_in_pct</th>\n",
       "    </tr>\n",
       "  </thead>\n",
       "  <tbody>\n",
       "    <tr>\n",
       "      <th>2</th>\n",
       "      <td>great</td>\n",
       "      <td>3620</td>\n",
       "      <td>4181</td>\n",
       "      <td>1.0</td>\n",
       "      <td>0.020612</td>\n",
       "      <td>0.020612</td>\n",
       "      <td>0.258664</td>\n",
       "    </tr>\n",
       "    <tr>\n",
       "      <th>1512</th>\n",
       "      <td>tablet</td>\n",
       "      <td>3463</td>\n",
       "      <td>4176</td>\n",
       "      <td>2.0</td>\n",
       "      <td>0.020588</td>\n",
       "      <td>0.041200</td>\n",
       "      <td>0.247446</td>\n",
       "    </tr>\n",
       "    <tr>\n",
       "      <th>3</th>\n",
       "      <td>love</td>\n",
       "      <td>2234</td>\n",
       "      <td>2465</td>\n",
       "      <td>3.0</td>\n",
       "      <td>0.012152</td>\n",
       "      <td>0.053352</td>\n",
       "      <td>0.159628</td>\n",
       "    </tr>\n",
       "    <tr>\n",
       "      <th>1203</th>\n",
       "      <td>bought</td>\n",
       "      <td>2194</td>\n",
       "      <td>2327</td>\n",
       "      <td>4.0</td>\n",
       "      <td>0.011472</td>\n",
       "      <td>0.064824</td>\n",
       "      <td>0.156770</td>\n",
       "    </tr>\n",
       "    <tr>\n",
       "      <th>176</th>\n",
       "      <td>easy</td>\n",
       "      <td>2107</td>\n",
       "      <td>2275</td>\n",
       "      <td>5.0</td>\n",
       "      <td>0.011216</td>\n",
       "      <td>0.076040</td>\n",
       "      <td>0.150554</td>\n",
       "    </tr>\n",
       "  </tbody>\n",
       "</table>\n",
       "</div>"
      ],
      "text/plain": [
       "        word  appears_in  count  rank  pct_total  cul_pct_total  \\\n",
       "2      great        3620   4181   1.0   0.020612       0.020612   \n",
       "1512  tablet        3463   4176   2.0   0.020588       0.041200   \n",
       "3       love        2234   2465   3.0   0.012152       0.053352   \n",
       "1203  bought        2194   2327   4.0   0.011472       0.064824   \n",
       "176     easy        2107   2275   5.0   0.011216       0.076040   \n",
       "\n",
       "      appears_in_pct  \n",
       "2           0.258664  \n",
       "1512        0.247446  \n",
       "3           0.159628  \n",
       "1203        0.156770  \n",
       "176         0.150554  "
      ]
     },
     "execution_count": 114,
     "metadata": {},
     "output_type": "execute_result"
    }
   ],
=======
   "execution_count": null,
   "metadata": {},
   "outputs": [],
>>>>>>> 9d142a5988318d8c68919041231f6771beeca43f
   "source": [
    "wc = count(df['tokens'])\n",
    "wc.head()"
   ]
  },
  {
   "cell_type": "code",
<<<<<<< HEAD
   "execution_count": 115,
   "metadata": {},
   "outputs": [
    {
     "data": {
      "image/png": "iVBORw0KGgoAAAANSUhEUgAAAV0AAADnCAYAAAC9roUQAAAABHNCSVQICAgIfAhkiAAAAAlwSFlzAAALEgAACxIB0t1+/AAAADh0RVh0U29mdHdhcmUAbWF0cGxvdGxpYiB2ZXJzaW9uMy4yLjEsIGh0dHA6Ly9tYXRwbG90bGliLm9yZy+j8jraAAAgAElEQVR4nO3dd4AU5f0/8M/M7M7OzvZ+t9eP60c7QEERQVREwYLGxERjFEuixCiWqN/kGzW/WL8JUaNRY+wxYgEEBEWjqES6gBzX216/3dvey5TfH+QQkKNEbvb2+Lz+8XaeZ2c/z3m899lnyhKiKAJCCCFpkOkuACGETiUYugghJCEMXYQQkhCGLkIISQhDFyGEJCQ7WuP8ib/dKVUh6NieX/9SukvIWC0pfbpLGFX+MXhmuksY0147/aVpw7XhTBchhCSEoYsQQhLC0EUIIQlh6CKEkIQwdBFCSEIYugghJCEMXYTQqLPu+jXlzt0DbLrrGAkYugghJKGjXhyBEEIjKdAZoD+9fUOpvsQQ9bf5WG2+Ljb70bmOg/ts+t3n+d5mr0pI8mTurHzfaUun93V/2aVpeKfeOu+Z+W0AAF2fO7RNKxot5/9l/+PRDGe6CKG0CveHmYorq1yXr/phnZyVC3Vv1FoObp92x/TeS5df3nDpu1fUufY6NYP7XMrcWXmhcE+QiQ5GZQAArWtbTCULS93pGcGJwdBFCKUVY1Im7dNzIgAAxReWeFy1LvXB7W3rWoyrf7SicvWPVlaFuoOMr9XHEAQBBecVeVrebzLG/XHK0+RRF5xbFEjPCE4MLi8ghNKKOPzxQRsCDj/d+G6DbeFrlzQwBiX/+X2fFvIJjgQAKL+iwvPp0k9KKAUl5p2V5yNlmTGHzIwq0ahWWTpQc6Ttt9zsK3z37ahB6npQZol5YnT/9j4VAED7R21GywRreKgtGUpSMgUlKHQMH3FGZANfD+iG2tTZmhRjVKbq/7kvu3RRRUYsLQDgTBehk+Len3aN8zg5OpUUyYVX651X3mRyX1zVVDPnYq1777aoVmekUg88l9Nussm52y5zlBeUKaL1u2IagReJpY9mdUyaoYpu2xhWv/CwKx9g/2zvqRUFjWotJaR7bCNNna2ON75bb93y6L9ZTZ4uXn3NhMHeLT16AADLBGtMP84QXbnonfFKM5s0VZjCBz+3aF6xp+ndepmp3BRPT/UnDkMXnZAnl4Vs76+KmwEAFl2uHLx9qdo11CYIItx9ZyB/+7aU1molk3I5jPnAGHLfn+0Og1nGx6ICccuCjqpzL9P5EnGRLJvIRO56PLv7hUdc2S89MWj/9Z/sXQAAiZhAvvyv4vrtn4fVf75/oOjVjePq3nvRm7XkAVvn1FmqSCTEkwqGPCV+fwRFwDn/d17HwdsWvHJJ09DPcx471zHcc117nJpxGXIAbQguL6Djtn1bkl29Km76YL2pYe06U8PKFTHLzp1J5VD7qhVxfaeDV3y+ybzv6Wf0HXX7OPXR9jeWvP28x7b43PaqJRc7Kr2DnLyzJcEQJMCFP9R7AQAu/KHO0/hN/MDvY+6lWi8AwOlz1OFYVCADXo6qrGHCf3vElffmM25r0MdTMvnhq53oYKuvWlkZ6PApyy6v8KS7lhOBM1103LZuSarPmavwqzX7Z2Bzz1X4tnyV1Ay1b9ua1CxYyHhlMgJy86hUzRR5KH3VSmfbZ2HN3m1RzTNrChtZFSncdpmjPBkXvzOhOfgAEUEQh7URsPge68CZ82KBzZ+EdUuv7Kz4wyt5LSVVTMZ8bP5v6Ap0yUUrrqz7b5576fLLG052PVLAmS5C31M4yFMqDcWzKlJorY8zbQ0JFQCAKAB8/F7AAACw4d2AqWISc+BNaOPaoAEAYOeXYTWrInmtgeI7WxKKiknK2OK7LQPFlUzE0ZRg0jMiNJIwdNFxO2MmHf58Y0IfCQtkOCSQGz9LGM6YSR8Ikukz6NCH6+NGjhOht4eX796d0hxtf2PFWfM1AZ4XiWtnt1W/+KgrZ1ylIgIAoGAIofGbmOq6c9qqa3dENYvvsfQPPYemCfGG89urnnnAWXDHI1kOAIB3XvBYrzunrfr6uW1VlAzEWRdqMuK8U3RicHkBHbfTTqOjl1zGeBZc6KkE2H8gbdo0OjbUvugKxv/VVwntnFnu8TYbmaiuloWH39vYoWBIcdnbBS1HarvzseweAOg5fPv5P9B57noiu/vgbff80d59eD809mR86H6y7/Ga88ffuzvddZwq7rhT47zjTo3z4G0NLVm7AQBIkoBlT+q70lMZOhFbPhmf7hL+a6mCDFjmPn34powPXYRGq7X15UecDPzl/cKmI21Hp4YxE7qiKEJ934e53rBDBwBikeWM/lxjje9rx9vFdv14T7a+OgAAsLvzvUKrpjSQbZjga+j7KNcf6dEIIk/kGie7iixnZNT5fgihzDNmDqT1+ffqw3GXcmbZL+pOK76mucX5RW4sGZBn6Sq9A4EGAwAAL3CEP9qjtekr/Z3u7WYZqeBnlt3ccGbpjQ29vr2WcNxNp3scCKGxbczMdH2Rbo1NV+UlCRIYuZbTszlhX7SbzdJVBpoHPsvjhRThDDTqdEp7SEbSoifcoY0kPOxgsMUAAMAJCSqScDNqxpxM91gQQmPXmAnd4VCkXNSzOSFnsEk7EGgwZOmrvP9pIsqzz+vK0lUE01ogQuiUMmaWFwyq/JAz0GAURAHiqZAsEO1TG9i8CABAlq7K1+fbaw7E+jQ27f6QNamLAt2ery2CwBMAAKGYU8HxiTHz+0AIjU5jZqZr10/w+6M96q+an68GALHEdnaPktZxAAA2bUWwvnd9kUld7KdImQgAUGg+3R1L+hVftbxQCQCEnFKmphReNeq/6gMhlNkyPnSHztElCAKqcy464onoJEmJ51bfs+fgbQRBQlXO/F4A6JWmUoQQGkPLCwghlAkwdBFCSEIZv7yA0PFYdv7CdJcwulyf7gJOXTjTRQghCWHoIoSQhHB5IYPc9KMl6S4hY8kAb02LRgec6SKEkIQwdBFCSEIYugghJCEMXYQQkhCGLkLoexN5Pt0lZAw8ewEhdAghHif7/vFSMRcO0iCIhOHsuX1ykznhXvd+vsClSIKixNwbb2sK7dlpCDfUGsRkkhRFkci9/pYW56rl+Um3SynyAmGcc36fdvJUvyjw4FqzMjfe1aEReZ7QTZvuMsya64401Ws8n22wU0o2lXQPKhVZ2dHsqxd3EARxwjV731qfHd2+z0Sq2BRl0CTpAnuUZBk+vGmXReR4QmYxJKy/+kkHySgE11NvFhK0TEh2O1khHJWbrr/MEd60y5R09KroAnvEevvVDgCAyI46rf/9T+3A8YTMbEhYllzlIFlG8Ly6OidW26IHkhCZiuKg+YZF37nfy9Fg6CKEDhGu36ulNJpU7o1LWgEA+GiE6nrmj1W2K69uY4tKonwsSpI0LQAAJJ0DbP5t99TJ1BretXZFjrK4NJj94+scfCRCdT23rFJdUR0M7NxiJBmGL/jVrxuEVIrofm5ZhaqiOggAkBx0Kgt+eU+7TG9Idf11WUW0tUmtKq04oW+Rjje0s9HdjQb7Y3fUiRxP9P3m6Sq6wB5Vz5zs0100yw0A4Hl9rT24YbNZf+k5LgAAIRqX2R++rTGyeY9+8Nm3SrLuv7GRLsqJ9d3/dGW8pVMpsxhTgbWfZ2f/9uZmUskIvnc+zvK//5lNt2CWK/ZNkyFn2T37CIIAPhShTvT3i6GLEDqEwp4bc3+yPs+1+r0cVWV1gGJVPKVSp9iikigAAKVkhaG+ysLioEyt4QEAYh2t2mhLk96/ZVMWAIDIcUTS66ajrc3apNvFRhrrDAAAQiJOJV1OhpDJRIXNHpEbTSkAAIUtK5ryek74K7PijR1qdmKZn1TQIihAVI4v9QMAJDr6lP4Vn+QIsQQlJlMUU1F04GRt5eQKP0EQQBfmREk1m1KMy4sBAMizzTHO6VVwbj/NOT1M3wN/rQAAAF4g6EJ7mFSxPMhkwuBf3ipkayr8qhkTT/gEcAxdhNAhFFn2RP6Su+rDdXt1nk8/ylEWFg/77SqEnD4QwCACZP/4Z62K7JzE4d3MF17SpamedMh+Ik31GkJGid/2IgEE4cTXFobheXlVkeVXP2llSvJjwQ2bTfHGDs23de+/rzZBEkDIZAfVQIAoCARBkqKirCBou+tnHYfv1/7wbQ2xXQ3ayPZ9huCn26z2B29pPpG68EAaQhJpcH9md0ZaNMfumV4pn1dO0gpBP32m1zBz9kCit1vFR8LyaEcrCwDAx2LkkQ6cKYtLgr6vvrCJ4v4Mi3V2KAEA2JKyQGD7ZovIcQQAQGKgTyHE4ycte5iKonCstkUnJJKEEI2TsX2tegAAMZEkZUZdSuQ4IrJtr/GE9llZFEl29KqTPU4FAIAQi5PJrn6FEI2TQjhKqWZMDJgWX9ad6htkT7RenOkiJAFBFKDSPLcv3XUcj3hft9Lz8fpcIAggSFK0XnJFpyiKMLhuVb7IcSQhkwm5N/7yO7M78wUL+5zvv5Pf+eSjVSCKhEynT+TesKRVf+Zsd8rnVXT+5YlKEIEgWTaVc+1NJ+1bWpjK4qhyYlmg994nqykNm5LbLTGSZXjdxbP7+h98rpJUKTm60B4W48njXn+VGbScafEix+Czy4uH3iz0i87tJVlGcP7p9RKR4wgQAQw/OK/7ROslht6VjmT+xN/uPNEdopHDa5h0l5CxZM6Ru/dCJOmld/a/V6qmLdFw0s2q5IbY5KxLHJu6Xqq2qkq83li3tlA/dcAddegsbHEgVzvB5411sw3uz/J5kSNJghKn269qokhaqHf/K9cf79UIokDkaSa4igynu0ei5rbr7SOxW0mkCuLf2SZE4yTJMoIQT5D9Dz5Xbrr+sk6mvDCahvIAAKDjmvunDdeGM1103D7b+lDN3BkP7I7FffLG9jV5NVU/a+/q32IKhftU1aVXdKW7vnSKcUGm2jLPYWYLI7sH1hR2+LdbAADkJMPNyl/cAADgjjp0AAC8wBHfONeNm2Rb0GZU5kVTfJykSLnQGfjaLCcV/Fl51zfwAkds6XmjwqIaF1TTpmQ6x5YJBp9/pyA14FZCiidUMyZ60hm4x4Khi06YkjGkaqp+1p7uOkYTmlIlzWxhBAAgR1Pl6Qzssu7/udp3eN9QcpChKTZlVOZFAQDkFCMAAHiindpwysu6Im0GAABOSFLhpIfB0D02253XfueA12h11NAdePSkHUhEJ4HlkXRXsF8k5qb3NLxROnPK0rqDtw+4a3WOni+za6qubQ2Eutj27s/tosgTjEKfmFD2Q4dMxgjD7TPTffdfyv4tMpI+7jGLAESFaU5Xlrps2LMFUObDsxfQSdHv2q3v7P131pTq61oAADp6vsyeNv7G5jNqftWgUWVH23s+t6W7xpGU4CO0O9qpAgDoCzUY9Yx92BP8NbQlnuSjcm+smwUASPFxUhB5MLMFge7gHosg8gQAQCgxqOCEBP4bHWNweQF9b/5gpyYU6Wenjr+hWS5TCgODe3WxuJfZXvt8BQCAKPCERj18CI0FSpk23hXYZa0b/Jhl5YZ4kf60wZ7gXuuR+lKkTJxkW9A2dCCNImTC6farmgt1U92xVEDx7+5XKkEEQk4xqanZV5y0o/xodMDQRd8bo9An4smAIhxxMgbd/gMYem1BcHLlNRmzzvZ9EUDClOxFh4z3nMJbag9+XJN1qWPoZ6MyLzoz72eNh++nynJeLwD0jlSdKP3wowv63hiFLjmx/Kq2+taVRcFwL2PQFUaC4V51OLr/xHKOS5ChyIAi3XUiNBrgTBedFBpVdry69Ir22qa3x02qvKa1ctyljtqmd4rF/6xPFuWd06tRZR1+eeiYoKKNybMLbqw7dk+EjnFxxOR1/4sXR4wilkdwsvjfGsmLIzLRWLs4YrQ52sURuLyAEEISwtBFCCEJYegihJCEMHQRQkhCGLoIISQhDF2EEJIQhi5CCEkIQxchhCSEV6ShU0LD0qx0lzDidixalu4STopnvcNeVzAm4EwXIYQkhKGLEEISwtBFCCEJ4ZpuBiH3fOdbr9Hx+smkdFeAEADgTBchhCSFoYsQQhLC0EUIIQlh6CKEkIQwdBFCSEIYugghJCEMXYQQkhCGLkIISQhDFyGEJIShixBCEsLQRQghCWHoIoSQhDB0EUJIQhi6CCEkIQxdhE5Qyumiex96tPrgbfHWdtb9xvK8I/Xv+c3vJ/CB4Ki4jarHy1NPPxOyHK1PaxtHT5/prD5S2wULBsu3bE2wR3v+H5eFrOGwgNkyDPzFIHQSMCXFUfNPr+pOdx3H4vOJ1JtvRa0j+Rqv/SNii0TEMZEtAiec9H2OindflDnaUnutfVybJSnG5fmyioFSumYg3TWlU2rASbtefK1ENXmiJ97eocm6/ZZWPhiiBv/+WjEfDNF0fm4YRBEAAIR4nHQ9/3IxHwzRIAqE9ry5fZqZ031S1vu7hwK5vX284syzXVWnn0aHmppTymBIpDhOJO5equm78grWDwDA8wA/vc5T1NDEseOKZbGXXjA41GrykAT6YH1M+6c/h+zJFBB5OVTib88ZHH9/OWL2eAT5JVe4y/Q6ktuwziLZnfc/eqzWrtTR3Oxbyl0AAOsfqc1RGekUnxKIxs8GjHxKIEpn2fzz7x3fBwDw+k2bx4VdcZpLCeS0HxY6z7yuxA0A8PC0D2omLswd7Pzao51/34SukpnW8MmsE0MXnZA+rtUyVXF+M0tqUkdqF0QBSGJMTHKOKdnTpxh85R/jzNf8qIOPRGTx9g4NAIBv9To7XVgQNl5+cX/k6z266K5vzAAA0T21WkqrSWXdcWsrAAAfiVBS1/z7B3Q9V1/rUW7+0lqfSokQiYikXk8KTicvu2DhYMUVi5R+AICubp754+M6x5zZTOSGm72FzzwXttx3j9Y5tB+nk5c99Zdw9pqV5maNhhQefiyY9acnQ7aHfqfrf+X1iG3NCnOzzUZxUo5t2o+K3G/fsX3c7FvKXQIvQtNn/YbZt5T3tm8d1N6yYk6DKAK8ftPmkpZNTnXpLFv48semOtQmBZ+McsQLP/iiauLCXJ/azPBcQiBzJhoiFz84uWck6syo0OWCUcqzYbfRduXMweH6xHs8dMdDy0srX1xSd3hb89KXy+03nNutHl8QHe75A299abVcNt1NKRUn/3NFhtub2JQfF6OKXYlPS7NlRe6oEGYmKGZ27Ul8UUgCKYQFP6sjzeECeeVgfXJbfkpMyEighGrFGZ1a0hhPd/0nkxCJyVwvvlpiueHaNkV+bjy6r14z1Jbo6NRYb76uFQBANXVywPPWuzwAAJ2XE/Ov/TDPs3xFDjuxOqCsqjipM6gTJYpA/PaBQO7OXUk1SRDgdgt0f78gAwCwWsjknNlMBADgyh+wnr+/FLYCwIHQ/WpLQtXh4JgLFrgrAABSKZGYNFGe1vGYi9RJRiPnunZ7leHBuNxSoon21vpVnV97tM9eurEKACAV50h3R5gpnWULf/VSi61lk1MPABB2x+WuthCjNjMRggSYfEneiH0CybDQjVHej/dYjxa635fnw1020wVTvBi63zVRMavri5hTdxpzQfMA16kD+PbfWEKM0TOYBY0kQcK2+IdlVfSMTg1pSHj5AVVDclv+dObCMfUFbwSj4GU6bTLe3KpW5Oce1xsKnWNPZN+3tD66u1bn/+CjnFhjS9B4+cX9I13rcF57I2L0egXZl59aG2iaECdMGZgQi+9fiyWIQ/sSh20QRYDpp9PBN18zdUhW8HGoWZTv3r2i0xz2JuQ1l+V72rcOamb8dFz/zOv3Lx0Maf5iQOPY6dHctHx2o0IlE1788ZflXJwnAQAoOSmQspH7tJZRodv30ie5KXdQ0fjz56pUVbmheJdbyUcTlMgLRNaPZ/UZzpngBwAAQYCO379dFO8cZBU5xljB/Vc4Dg9R/+ZGrfOtTXaR4wnaqksU/HqRw712h5kLROWt971eJlMzXOmyxWMqKEaSjcr3kQQJKTFJBgWv+pvEl+OG2kQQiKM9NxMRFClab72xzfnUc6UkoxAove7AcouiqCAU3rLDZFi0sD+y6xutGE9QAACcxysnNWpOc/aZXpJV8uEt281S163VEnw0uj9Yg0GRMprIFE0T4oZP4hqnU6CH+jldAv3lpoTq7FmKyIqVUeO0aYfOYmeeoYg88FAwv7ExpaiokCdCIYHs7ublVVXyBMsSfDAkkDab5KsnMHFhrv/LvzXnCJxIVJ6X3U7KCPHzvzbZp/6gwMto5IKvJyKn5KQYD6UoRi3jFSqZMNAYYJxNAZVUNWZU6NpvOL+n46HlyooXbqkXOR74WJKUaZRCyhuWtdz5coV+zng/AEDSGWBylyxwaKYURxyPrigcXLHFknXNnAMfjVLesMz1zlfZJY9f20yxCqH/9Y1ZzuWbbPYbzu93r//aVvLYtc1yo1rS9ahMRxGy/7ypiSADOXeW8tL69FY08kiGEaxLbm51PvVcmW7e3L6h7YZLF/QN/v214t4HH62m83PDlFaTBABIdPUo/WvW5wJBAEFRovFHl3dKXbPVQvGTJsnD02c6q6ur5JEOB8dMP8tZVV0pj+bnUwdm7Pl5VPzvL0esd/7azxYXyeJLfqE+5NNlVhbF/fEJvePmW33FyZRIAADcvVTTW1UlT1x1Jeu+6mpvmdlMJjesszTf9AtvweLrVINnzFAMu6x3ssgUlJg32RhkNHKelJFQeZ496GoNMS9e9WUFAIBcSQmXPz61o/I8e+DrdzstT83/V7Uhj43bynWRka7tQI1SvdDJJooi0ffix7mRxl41QRDABSJ0yr3/XEiZQZXUTCmOAAAY5k7wuNdsP2Q9KlzbqUr0e5mWpS9XAACIPE8oS7LTuh41VsgJhcAQbLKXazXkyEp8oihCQHAr9ZQllu7aTha5zZrMeeD+OgAASq3i7b+5uwEAQHXalAAAAKXV8Fl3/rLl8OepaiYGVTUT0/5m9I9Xj70ksHOr7TvHRAAANqyzNA39PH8eE5o/j2k4vM/S2zWupbdrXEOPX3zeKNmbi8CL0F8fUF+5bFrb0LbZvyh3zf5Fuevwvte/dtZ3/h8BAPxm58LdI1ljxoau58NdRi4Yk5U/e3MDKZeJddc+OUFIcP9ZiPnOgtShj0UR1FV5waIHrhpV61FjxUTFrPa65NaCjlRdtggCYaXyvGMpdNHo1FfvZ5bftr20dJbVZyvVJtJdz3AyKnQplYIX4ikSAICPJCiZlk2RcpkY2N6s4bzhA+tRnC9Mh/Z0qDSTiyK+jbVGVUXuIbNY9YSCSN9Ln+THOl0KZYE1wUcTZNLplyuLbAmSoXk+EiflRrXUw8sIs5U/qAUAKJBXeADAAwAwWTHbcXAfFalLns5ccMRZBEIjxV6lj9/56bzadNdxLBkVunKDmmdLs8MNNz1brSyyRRL9Pqbh5r9WKQutUdqmP7AeRdt0cffaHdaev6xjabsxbrlixiHrUXKThsv95QJH1+OrigWOJwAAsn5ydq+yyJYwnjvR3f7AW2VyvSqJB9IQQicbIf7napkjmbzuf3dKWAs6BtsPJT/uMmY0PTEp3SWMuB2LlqW7hJPiWe+0dJfwvT04fvWwgzg1Lh1CCKFRAkMXIYQkhKGLEEISwtBFCCEJYegihJCEMHQRQkhCGLoIISQhDF2EEJIQhi5CCEkIQxchhCSEoYsQQhLC0EUIIQlh6CKEkIQwdBFCSEIYugghJKGMuon5qW7C5lH7DSSj3gTYfsjjlRunp6mSkTP9nbskey2NY8x9wfNJ9eCTw7fhTBchhCSEoYsQQhLC0EUIIQlh6CKEkIQwdBFCSEIYugghJCEMXYQQkhCGLkIISQhDFyGEJIShixBCEsLQRQghCWHoIoSQhDB0EUJIQhi6CCEkIQxdhBCSEIYuQghJCEMXIYQkhKGLEEISwtBFCCEJYeiitPA6gvRLF6+vTncdIy3pctHdDz96yDjjbW3s4D/fyjuR/XjeX233ffiRDQDA+cqrhaFt2w0ns87RpvbZe2vSXcNIwS+mREhizLhxUWbcuGi660DpcdTQzf5FUKo60PH4IH0v/cWyb7Kb/9VtYrR0Sm1VJq3lhmjRWVnBT/7wdQGf4EmNXZVY8Mh0B2tk+L5v3Mojbe/ZNch+/NDOQgCAvGmWU+6PKzngpF2vvFqimjTRE+/o0GQvubXV8/5qO+f305zPp+ADQVpz5hlOw7zzXQAA3rUfZEV27zGTKjZFaXVJRW7Od4I63tbOelavyROTSZJkWc56zdUOmdGQkn50I0MURej97L3ccHeLDggQLVPn9pvGz/B1rH6x2FA5zaMvqwkAADg+eKVQW1QdMFRO9fVuXJkb6e/QiDxPGMdPd1mnznUngz5557pXioVUkhIFgciZs6hTU1gZTseYcHkBHVP3Thfb9mWf4boV8+uu/NuclsHmgAoA4KP/3V4061cTexavuajeXKyNbXpqr/1o2z9+cEfhOfdM7lq8+sL6dI4nHRK9fQrXK6+WmH/8ow5FQcEh4cm53Uz2L5c02++8oyGw8XO7yHFEvK2djeytNebce0991i2/aEn29akO36fIcYRn1ap82w3Xt+Xe9+sGzWnT3J41a3KkG9XI8zXs0Mc9/crya++tK7781mbnlg9zk0GfXF822etv3mMAABC4FBHtd2h1ZZP87t1fmima4cuv+XVD2dV3N/jqd1jiXiftrdtmVOeVBsqvva++/Np769jswrR90sDlBXRMPV8PqotmZvnlSpkoV4JYcIbNn4pzZDLCUcWzssMAABOuKPasvXtzccyfoI643bd/e9FZ+7ePv6zI07XdpUvnuKQiRKMy18uvlFiv+1mbIi83Hq2r1xzcriwv95NyuUjK5RzFsinOH5DFWlvVbFWln1QohKE+h+832denSA26lQN/fa4MAEAURKDU6jEzywUAiPS2a3Slk7wESQGt0XNsVkE40tfO6komBfr//UGewKWIQOteHWvLD1FyhRjqbtYmvC422FFnAADgk3Eq4XUybHZBpPfTdwtFgSd1pZN9quzCWLrGhKGL0AgjFQqe0mqT8aWnelQAAAySSURBVNZWtSIvN354OyGTid92JkEUeOK4diwCITebYzn33NV48qrNDKScFtnsglCgda/W37zboC+r8QIAgAiEfdYlXbrSSd9ZvmKu/GVToHWvrueT5UWmSWc5zZPO8kheOODyAjoOuVMtYcfmAV0qxhGJUIrs2urUyxmZQKvlfMdX/WoAgH2rOkz2SeawUq/gj7jdoOBplYx3bB5QAwDUrXEY0zkmSVGUmPXzm9rCu3aZgps3H9e4laWl4WhDg15IJAg+FiNjTU36w/vQ9uw4H43KYs3NKoD9yw2J7m7mZJefTqqccaFAy16jKPCQCgdk0YEutSqnOAIAoC+r8fnqd5hjzm6NrmRiEABAk18W8NRutgg8RwAAxNx9Cj4ZJxO+QVqu1qUsU+a4DRXTBmOuHjZdY8KZLjqmvGnWaNHM7MCrl39UzegVKUOhJqbQyPn5vz+t45M/fF2w8fHdpCabTSx4dIYDAGC47fMePM3x8UM7C4E49Q6kkQwjZP385639z/61TH/e3L5j9WeKi6KqCRO8vY//XzWpYlN0jj1yeB9CLhet1/60zbNqVb4YX0mJgkBoZ57pVOTlfWc2nakMldP80X6Huun1x6uBANF2xvweWmPgAAC04yYEez59t0iTX+YnZXIRAMBcM9udDHoVzf94ohJEICiGTRVdelNbqLNR496zKYsgSZGU03zeBVd3pGtMhCiKwzZemHf7TglrQcdQ/cFA2l47EUqRCo1cSEZS5D+v/bT8/N9O7cypsWTsaU8rN05PdwkZTeM4vhWQU9U3Ty6dNlwbznTRcVn/m60Fvq6wkk8KRMUFeZ5MDlyE0glDFx2XRU/PStvHMYTGEjyQhhBCEsLQRQghCWHoIoSQhDB0EUJIQhi6CCEkIQxdhBCSEIYuQghJCEMXIYQkhKGLEEISwtBFCCEJYegihJCEMHQRQkhCGLoIISQhDF2EEJIQhi5CCEkIQxchhCSEoYsQQhLCb47IICvrJ6W7hIxXlOXe/99JPWmuJPP43slLdwljAs50EUJIQhi6CCEkIQxdhBCSEIYuQghJCEMXIYQkhKGLEEISwtBFCCEJYegihJCEMHQRQkhCGLoIISQhDF2EEJIQhu5/9EYa9YGki0l3HQihsW1Mhq4g8if8HFe8TR9KuZUjUA5CCB2QkXcZa/T/O9sZazHJSSaloFRJrdwSdce79Gq5KRpIDqhtyhKvickLNfo35fEiR8pJBTfJeIFDKdOmOkK7zL2ReosAAqGktIka00Ud/uSA0hPv1vsTA5qO0NfZNaaL2tRyUyLd40QIjT0ZF7reRA87GO8wnGW7pk4AgfjK+c8qrdwSBQAQgCfOyrqmQRB5Yovr7fKp5ktaGUrNdUf2GRoD/86pMV3ksLPlviLNFDcAQL3vC3tneI95nPZ0l4nJ81uYokCuqsqX3hEihMayDAzdXrWZKfBTpFykAESzIs8/1GZXlnsBAEIptyLK+ZU7BleVAQCIIABNsikAgGByUNkSXJPDiUmKFzjKqMgJpGckCKFTUcaF7tFQpFwAABBBJFiZPjbT9pPGw/vs831aVGO6qFWvyI51hvaYvMlejfSVIoROVRl3IM2oyAm74506XkgRKSFBuhPd+sP7aOTmeEqIy9zxLhUAgCDyRCDpZAAAeDFFMjJNShB5oj/WbBx6DkXIeU5IZtzvAyGUWTJupmtU5EbNTEFgk/Mf1TTJpFQyQ0xGKg45XYEiZOIk44VtDf4v8uv9n1OiKBL56glOHW2LF2um9W1xvl0pJxlOS1vCvJiiAADsbLm3zrexsDtSa8MDaQihkUKIojhs44V5t++UsJbjlhISpJxUCJyQJLe63imvNsztNCjs0XTXNdKanrClu4SMN/QdaejE4XekHb9dzy2dNlxbxs10AQD2ej8uiHJ+pSDyRBZb6jkVAhchNDZkZOhONV/cke4aEELov4EHjhBCSEIYugghJCEMXXRAsm+Q7l76p+p07D/w0WZTatAnH6nXRmi0wNBFo0L433vMvNuPoYvGvIw8kIZGkCCC849vFCW7naw82xyz3v5jR6yuXeVbviFPFASg87Oilluv7CRpudh162MT7I8saZDpNVy8oYP1vPlhXs4fbm3ifEGZ68m3ivhgmFYU2cPxxk6t/ZElDUP7dz29vCDR0aumdOpk1n3Xt0a21upTPS528Ln3igm5TLA/vKSBZOjhz2XMMD2rvzH2rvnGJnICoSm1Rqrun99Z/9iG/HDboEpIcqT5jGJf6ZI5fQAATU9+muPZ0aknKEI0TMoNjvv5rL5ti1+vPvPNG/aRckpMheLkthu+fZzusUkh7nfRbev/Xlr9k/+pAwDo3/6hjecSlEzBcp6mHRaCIEWFzhwfd9FN7XwyTnZ9vjw/7ncpRUEgsqac32csm+o/1mtICUMXHYIb9DGmGy51sBNLI84n/1noX7XRFt6025J1//VNdH5WwrnszcLAB5sshsvnuobbh2/5BjtTWRgyXnXBQGTbPm1k6z7zgf17/IxlyQ/bmbL8zoHHXysOb9pt0J4/3Rv81zar6eoLu5nKojF1+l+oxcW4vmg2nvb81Y2knBLrHvkwv3fNXlPprbN7aQPLi7wAO3+5vDzQ0K9kbNqkZ5vDcMY/F+8jCAKSgRglVzOCrio75NrYpMuaV+XvX7/PaDq9yHeqBO7RDNZuyqq+5ne1pEwucrEIBQDQt21dtjqnNFg07zoHF4tQjSuWVeoKq4MUzQjprncIhi46BKVTJ9mJpREAAPWsGk/g/c+zKaM2QednJQAA1GdP8YQ+2WoFgGFDN9Hao7bedU0rAIBq+vggofz2ikHKoE0wZfkxAAC6MDvKDfoUIzqgNPNs79BEOjzs9hvfqAQAEJI8SetZrn9DnbH/o3qzKAhEyh+Th9vcjKbUGiPllLDvoXWF5jOK/bZzygIAAPaFEwe73tqRlTWvyj/wrwZzxV3nO9I6qFFCobfG2je8XKQrHO83lkzxAwCE+1q1we4m/WDtpiwAAJHniETATbOW3Hh6q/0Whi46FEEc+lCp4MVI7Mh/JxQpgrB/AiEkueM6PkDIvp2hESQpCsnU2D6uIAJhnVPmKb99bu/QpkiXl95zz8qy0174SQOtZ/naB9YWCkmOJGUUnPbiNQ3uzW1a1xctht4131inPfvjZtO0gkjL0xsV7i3tGlEQCW1F1qgJECkQJCUCfDuxF/j9f2ull9zaEuxq1AQc+3SNezZmV111fx0AQNG8n7Wy5pxRexn/2P6DRyeM94fo2L5WFQBA5Ks9RkWhPcJ7g3Sy26kAAAhv2m1SlBeEAABkRm0y3tzFAgBEttUahvahGJcbDm/abQQAiGyv04qxBHWs1yUZmheOo1+mMZ5eGHRvaTckBsMyAICkL0rF+gI0pZAJci3DxwdDMt+eHh0AABdOkFwwTtnOKQ9U3Hlud6TLyw7tx3pOmafhiY+Lss6rPOWuY5ardBwfj8hS0RAlcCki2N2oA1GERNBD6wqrQ7mzrugVUgmKT8Yptb0kOLj3C9vQ7Q3CAx2j7ttgcKaLDiGzGOLBDVut7hffZ+VZprj+pnO6FWUFEddTb40bOpCmWzhrEABAf/ncPs9Lqwv9Kz/jmbL80NA+DFfN63M9+VZx99I/mRRFOWFSw6ZIluGFaHzYN3n1rCluz6trC7xvfjimDqRpy2zxop9O791993tloigCQZFi2W3ndKmKTNEtV788njaqktoyaxgAgIskqG/+5/0SIcUTIAIULz6ze2g/9gUTPJ3Ld+ZkXzTem77RpAdJyUTrpDn9TSuWVcpYTUqhM8dFUSQc/3qjSEglKFEEwlQ5wyVTqnj7jIV93V+8k9+w/NEqURQJWq1PlF6ypDXdYzhYRt7w5lSVKTe8EZIpgiBJkZBRENvXqvK8srYg909L69NdF0Dm3vCm78M6g3tzm37i/7skbZfA4w1vjt+Yu+ENGt24AQ/tenr5OBBFAIoUTTde5kh3TZms/rGP8ny7e3STHrm0Jd21oO8PQxeddHR+ViL3j3eMipntWFB13/xuAOg+ZkeUEfBAGkIISQhDFyGEJIShixBCEsLQRQghCWHoIoSQhDB0EUJIQhi6CCEkIQxdhBCSEIYuQghJCEMXIYQkhKGLEEISwtBFCCEJYegihJCEMHQRQkhCGLoIISQhDF2EEJIQhi5CCEkIQxchhCSEoYsQQhLC0EUIIQlh6CKEkIQwdBFCSEKEKIrprgEhhE4ZONNFCCEJYegihJCEMHQRQkhCGLoIISQhDF2EEJIQhi5CCEno/wPa1sHTLCzNmQAAAABJRU5ErkJggg==\n",
      "text/plain": [
       "<Figure size 432x288 with 1 Axes>"
      ]
     },
     "metadata": {
      "needs_background": "light"
     },
     "output_type": "display_data"
    }
   ],
=======
   "execution_count": null,
   "metadata": {},
   "outputs": [],
>>>>>>> 9d142a5988318d8c68919041231f6771beeca43f
   "source": [
    "wc_top20 = wc[wc['rank'] <= 20]\n",
    "\n",
    "squarify.plot(sizes=wc_top20['pct_total'], label=wc_top20['word'], alpha=.8 )\n",
    "plt.axis('off')\n",
    "plt.show()"
   ]
  },
  {
   "cell_type": "code",
<<<<<<< HEAD
   "execution_count": 116,
   "metadata": {},
   "outputs": [
    {
     "data": {
      "text/plain": [
       "5    9371\n",
       "4    3703\n",
       "3     551\n",
       "1     187\n",
       "2     183\n",
       "Name: reviews.rating, dtype: int64"
      ]
     },
     "execution_count": 116,
     "metadata": {},
     "output_type": "execute_result"
    }
   ],
=======
   "execution_count": null,
   "metadata": {},
   "outputs": [],
>>>>>>> 9d142a5988318d8c68919041231f6771beeca43f
   "source": [
    "df['reviews.rating'].value_counts()"
   ]
  },
  {
   "cell_type": "markdown",
   "metadata": {},
   "source": [
<<<<<<< HEAD
    "### Statistical Trimming (optional)\n",
    "\n",
    "So far, we have talked about stop words in relation to either broad english words or domain specific stop words. Another common approach to stop word removal is via statistical trimming. The basic idea: preserve the words that give the most amount of variation in your data. \n",
    "\n",
    "Remember this graph?"
=======
    "### Statistical Trimming\n",
    "\n",
    "So far, we have talked about stop word in relation to either broad english words or domain specific stop words. Another common approach to stop word removal is via statistical trimming. The basic idea: preserve the words that give the most about of variation in your data. \n",
    "\n",
    "Do you remember this graph?"
>>>>>>> 9d142a5988318d8c68919041231f6771beeca43f
   ]
  },
  {
   "cell_type": "code",
<<<<<<< HEAD
   "execution_count": 117,
   "metadata": {},
   "outputs": [
    {
     "data": {
      "image/png": "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\n",
      "text/plain": [
       "<Figure size 432x288 with 1 Axes>"
      ]
     },
     "metadata": {
      "needs_background": "light"
     },
     "output_type": "display_data"
    }
   ],
=======
   "execution_count": null,
   "metadata": {},
   "outputs": [],
>>>>>>> 9d142a5988318d8c68919041231f6771beeca43f
   "source": [
    "sns.lineplot(x='rank', y='cul_pct_total', data=wc);"
   ]
  },
  {
   "cell_type": "markdown",
   "metadata": {},
   "source": [
<<<<<<< HEAD
    "It tells us that only a *handful* of words represented 80% of words in the overall corpus.\n",
    "\n",
    "Basically, words that appear either all the time, or almost never, probably don't add much meaning.\n",
    "\n",
    "Let's take a look at them and decide for ourselves:"
=======
    "This graph tells us that only a *handful* of words represented 80% of words in the overall corpus. We can interpret this in two ways: \n",
    "1. The words that appear most frequently may not provide any insight into the mean on the documents since they are so prevalent. \n",
    "2. Words that appear infrequency (at the end of the graph) also probably do not add much value, because the are mentioned so rarely. \n",
    "\n",
    "Let's take a look at the words at the bottom and the top and make a decision for ourselves:"
>>>>>>> 9d142a5988318d8c68919041231f6771beeca43f
   ]
  },
  {
   "cell_type": "code",
<<<<<<< HEAD
   "execution_count": 118,
   "metadata": {},
   "outputs": [
    {
     "data": {
      "text/html": [
       "<div>\n",
       "<style scoped>\n",
       "    .dataframe tbody tr th:only-of-type {\n",
       "        vertical-align: middle;\n",
       "    }\n",
       "\n",
       "    .dataframe tbody tr th {\n",
       "        vertical-align: top;\n",
       "    }\n",
       "\n",
       "    .dataframe thead th {\n",
       "        text-align: right;\n",
       "    }\n",
       "</style>\n",
       "<table border=\"1\" class=\"dataframe\">\n",
       "  <thead>\n",
       "    <tr style=\"text-align: right;\">\n",
       "      <th></th>\n",
       "      <th>word</th>\n",
       "      <th>appears_in</th>\n",
       "      <th>count</th>\n",
       "      <th>rank</th>\n",
       "      <th>pct_total</th>\n",
       "      <th>cul_pct_total</th>\n",
       "      <th>appears_in_pct</th>\n",
       "    </tr>\n",
       "  </thead>\n",
       "  <tbody>\n",
       "    <tr>\n",
       "      <th>14454</th>\n",
       "      <td>say..............................................</td>\n",
       "      <td>1</td>\n",
       "      <td>1</td>\n",
       "      <td>14454.0</td>\n",
       "      <td>0.000005</td>\n",
       "      <td>0.999906</td>\n",
       "      <td>0.000071</td>\n",
       "    </tr>\n",
       "    <tr>\n",
       "      <th>14453</th>\n",
       "      <td>kindlelishous!!!!!!!!!!!!!</td>\n",
       "      <td>1</td>\n",
       "      <td>1</td>\n",
       "      <td>14455.0</td>\n",
       "      <td>0.000005</td>\n",
       "      <td>0.999911</td>\n",
       "      <td>0.000071</td>\n",
       "    </tr>\n",
       "    <tr>\n",
       "      <th>14455</th>\n",
       "      <td>competent,</td>\n",
       "      <td>1</td>\n",
       "      <td>1</td>\n",
       "      <td>14456.0</td>\n",
       "      <td>0.000005</td>\n",
       "      <td>0.999916</td>\n",
       "      <td>0.000071</td>\n",
       "    </tr>\n",
       "    <tr>\n",
       "      <th>14456</th>\n",
       "      <td>3-year-old,</td>\n",
       "      <td>1</td>\n",
       "      <td>1</td>\n",
       "      <td>14457.0</td>\n",
       "      <td>0.000005</td>\n",
       "      <td>0.999921</td>\n",
       "      <td>0.000071</td>\n",
       "    </tr>\n",
       "    <tr>\n",
       "      <th>14457</th>\n",
       "      <td>objective</td>\n",
       "      <td>1</td>\n",
       "      <td>1</td>\n",
       "      <td>14458.0</td>\n",
       "      <td>0.000005</td>\n",
       "      <td>0.999926</td>\n",
       "      <td>0.000071</td>\n",
       "    </tr>\n",
       "    <tr>\n",
       "      <th>14458</th>\n",
       "      <td>dollars.my</td>\n",
       "      <td>1</td>\n",
       "      <td>1</td>\n",
       "      <td>14459.0</td>\n",
       "      <td>0.000005</td>\n",
       "      <td>0.999931</td>\n",
       "      <td>0.000071</td>\n",
       "    </tr>\n",
       "    <tr>\n",
       "      <th>14459</th>\n",
       "      <td>relies</td>\n",
       "      <td>1</td>\n",
       "      <td>1</td>\n",
       "      <td>14460.0</td>\n",
       "      <td>0.000005</td>\n",
       "      <td>0.999936</td>\n",
       "      <td>0.000071</td>\n",
       "    </tr>\n",
       "    <tr>\n",
       "      <th>14460</th>\n",
       "      <td>gps.</td>\n",
       "      <td>1</td>\n",
       "      <td>1</td>\n",
       "      <td>14461.0</td>\n",
       "      <td>0.000005</td>\n",
       "      <td>0.999941</td>\n",
       "      <td>0.000071</td>\n",
       "    </tr>\n",
       "    <tr>\n",
       "      <th>14461</th>\n",
       "      <td>readi,g</td>\n",
       "      <td>1</td>\n",
       "      <td>1</td>\n",
       "      <td>14462.0</td>\n",
       "      <td>0.000005</td>\n",
       "      <td>0.999946</td>\n",
       "      <td>0.000071</td>\n",
       "    </tr>\n",
       "    <tr>\n",
       "      <th>14463</th>\n",
       "      <td>perfectly..great</td>\n",
       "      <td>1</td>\n",
       "      <td>1</td>\n",
       "      <td>14463.0</td>\n",
       "      <td>0.000005</td>\n",
       "      <td>0.999951</td>\n",
       "      <td>0.000071</td>\n",
       "    </tr>\n",
       "    <tr>\n",
       "      <th>14464</th>\n",
       "      <td>closes.</td>\n",
       "      <td>1</td>\n",
       "      <td>1</td>\n",
       "      <td>14464.0</td>\n",
       "      <td>0.000005</td>\n",
       "      <td>0.999956</td>\n",
       "      <td>0.000071</td>\n",
       "    </tr>\n",
       "    <tr>\n",
       "      <th>14465</th>\n",
       "      <td>blanking</td>\n",
       "      <td>1</td>\n",
       "      <td>1</td>\n",
       "      <td>14465.0</td>\n",
       "      <td>0.000005</td>\n",
       "      <td>0.999961</td>\n",
       "      <td>0.000071</td>\n",
       "    </tr>\n",
       "    <tr>\n",
       "      <th>14467</th>\n",
       "      <td>app\"</td>\n",
       "      <td>1</td>\n",
       "      <td>1</td>\n",
       "      <td>14466.0</td>\n",
       "      <td>0.000005</td>\n",
       "      <td>0.999965</td>\n",
       "      <td>0.000071</td>\n",
       "    </tr>\n",
       "    <tr>\n",
       "      <th>14466</th>\n",
       "      <td>have...then</td>\n",
       "      <td>1</td>\n",
       "      <td>1</td>\n",
       "      <td>14467.0</td>\n",
       "      <td>0.000005</td>\n",
       "      <td>0.999970</td>\n",
       "      <td>0.000071</td>\n",
       "    </tr>\n",
       "    <tr>\n",
       "      <th>14462</th>\n",
       "      <td>error.</td>\n",
       "      <td>1</td>\n",
       "      <td>1</td>\n",
       "      <td>14468.0</td>\n",
       "      <td>0.000005</td>\n",
       "      <td>0.999975</td>\n",
       "      <td>0.000071</td>\n",
       "    </tr>\n",
       "    <tr>\n",
       "      <th>14468</th>\n",
       "      <td>moztly</td>\n",
       "      <td>1</td>\n",
       "      <td>1</td>\n",
       "      <td>14469.0</td>\n",
       "      <td>0.000005</td>\n",
       "      <td>0.999980</td>\n",
       "      <td>0.000071</td>\n",
       "    </tr>\n",
       "    <tr>\n",
       "      <th>14469</th>\n",
       "      <td>titles,</td>\n",
       "      <td>1</td>\n",
       "      <td>1</td>\n",
       "      <td>14470.0</td>\n",
       "      <td>0.000005</td>\n",
       "      <td>0.999985</td>\n",
       "      <td>0.000071</td>\n",
       "    </tr>\n",
       "    <tr>\n",
       "      <th>14470</th>\n",
       "      <td>it..better</td>\n",
       "      <td>1</td>\n",
       "      <td>1</td>\n",
       "      <td>14471.0</td>\n",
       "      <td>0.000005</td>\n",
       "      <td>0.999990</td>\n",
       "      <td>0.000071</td>\n",
       "    </tr>\n",
       "    <tr>\n",
       "      <th>14471</th>\n",
       "      <td>shows/movies!</td>\n",
       "      <td>1</td>\n",
       "      <td>1</td>\n",
       "      <td>14472.0</td>\n",
       "      <td>0.000005</td>\n",
       "      <td>0.999995</td>\n",
       "      <td>0.000071</td>\n",
       "    </tr>\n",
       "    <tr>\n",
       "      <th>14472</th>\n",
       "      <td>bookreader.</td>\n",
       "      <td>1</td>\n",
       "      <td>1</td>\n",
       "      <td>14473.0</td>\n",
       "      <td>0.000005</td>\n",
       "      <td>1.000000</td>\n",
       "      <td>0.000071</td>\n",
       "    </tr>\n",
       "  </tbody>\n",
       "</table>\n",
       "</div>"
      ],
      "text/plain": [
       "                                                    word  appears_in  count  \\\n",
       "14454  say..............................................           1      1   \n",
       "14453                         kindlelishous!!!!!!!!!!!!!           1      1   \n",
       "14455                                         competent,           1      1   \n",
       "14456                                        3-year-old,           1      1   \n",
       "14457                                          objective           1      1   \n",
       "14458                                         dollars.my           1      1   \n",
       "14459                                             relies           1      1   \n",
       "14460                                               gps.           1      1   \n",
       "14461                                            readi,g           1      1   \n",
       "14463                                   perfectly..great           1      1   \n",
       "14464                                            closes.           1      1   \n",
       "14465                                           blanking           1      1   \n",
       "14467                                               app\"           1      1   \n",
       "14466                                        have...then           1      1   \n",
       "14462                                             error.           1      1   \n",
       "14468                                             moztly           1      1   \n",
       "14469                                            titles,           1      1   \n",
       "14470                                         it..better           1      1   \n",
       "14471                                      shows/movies!           1      1   \n",
       "14472                                        bookreader.           1      1   \n",
       "\n",
       "          rank  pct_total  cul_pct_total  appears_in_pct  \n",
       "14454  14454.0   0.000005       0.999906        0.000071  \n",
       "14453  14455.0   0.000005       0.999911        0.000071  \n",
       "14455  14456.0   0.000005       0.999916        0.000071  \n",
       "14456  14457.0   0.000005       0.999921        0.000071  \n",
       "14457  14458.0   0.000005       0.999926        0.000071  \n",
       "14458  14459.0   0.000005       0.999931        0.000071  \n",
       "14459  14460.0   0.000005       0.999936        0.000071  \n",
       "14460  14461.0   0.000005       0.999941        0.000071  \n",
       "14461  14462.0   0.000005       0.999946        0.000071  \n",
       "14463  14463.0   0.000005       0.999951        0.000071  \n",
       "14464  14464.0   0.000005       0.999956        0.000071  \n",
       "14465  14465.0   0.000005       0.999961        0.000071  \n",
       "14467  14466.0   0.000005       0.999965        0.000071  \n",
       "14466  14467.0   0.000005       0.999970        0.000071  \n",
       "14462  14468.0   0.000005       0.999975        0.000071  \n",
       "14468  14469.0   0.000005       0.999980        0.000071  \n",
       "14469  14470.0   0.000005       0.999985        0.000071  \n",
       "14470  14471.0   0.000005       0.999990        0.000071  \n",
       "14471  14472.0   0.000005       0.999995        0.000071  \n",
       "14472  14473.0   0.000005       1.000000        0.000071  "
      ]
     },
     "execution_count": 118,
     "metadata": {},
     "output_type": "execute_result"
    }
   ],
=======
   "execution_count": null,
   "metadata": {},
   "outputs": [],
>>>>>>> 9d142a5988318d8c68919041231f6771beeca43f
   "source": [
    "wc.tail(20)"
   ]
  },
  {
   "cell_type": "code",
<<<<<<< HEAD
   "execution_count": 119,
   "metadata": {},
   "outputs": [
    {
     "data": {
      "text/plain": [
       "count    14473.000000\n",
       "mean         0.000945\n",
       "std          0.005579\n",
       "min          0.000071\n",
       "25%          0.000071\n",
       "50%          0.000143\n",
       "75%          0.000357\n",
       "max          0.258664\n",
       "Name: appears_in_pct, dtype: float64"
      ]
     },
     "execution_count": 119,
     "metadata": {},
     "output_type": "execute_result"
    }
   ],
=======
   "execution_count": null,
   "metadata": {},
   "outputs": [],
>>>>>>> 9d142a5988318d8c68919041231f6771beeca43f
   "source": [
    "wc['appears_in_pct'].describe()"
   ]
  },
  {
   "cell_type": "code",
<<<<<<< HEAD
   "execution_count": 120,
   "metadata": {},
   "outputs": [
    {
     "data": {
      "image/png": "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\n",
      "text/plain": [
       "<Figure size 432x288 with 1 Axes>"
      ]
     },
     "metadata": {
      "needs_background": "light"
     },
     "output_type": "display_data"
    }
   ],
=======
   "execution_count": null,
   "metadata": {},
   "outputs": [],
>>>>>>> 9d142a5988318d8c68919041231f6771beeca43f
   "source": [
    "# Frequency of appears in documents\n",
    "sns.distplot(wc['appears_in_pct']);"
   ]
  },
  {
   "cell_type": "code",
<<<<<<< HEAD
   "execution_count": 121,
   "metadata": {},
   "outputs": [
    {
     "data": {
      "image/png": "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\n",
      "text/plain": [
       "<Figure size 432x288 with 1 Axes>"
      ]
     },
     "metadata": {
      "needs_background": "light"
     },
     "output_type": "display_data"
    }
   ],
   "source": [
    "# Tree-Map w/ Words that appear in at least 2.5% of documents. \n",
=======
   "execution_count": null,
   "metadata": {},
   "outputs": [],
   "source": [
    "# Tree-Map w/ Words that appear in a least 2.5% of documents. \n",
>>>>>>> 9d142a5988318d8c68919041231f6771beeca43f
    "\n",
    "wc = wc[wc['appears_in_pct'] >= 0.025]\n",
    "\n",
    "sns.distplot(wc['appears_in_pct']);"
   ]
  },
  {
   "cell_type": "code",
<<<<<<< HEAD
   "execution_count": 122,
   "metadata": {},
   "outputs": [
    {
     "data": {
      "text/plain": [
       "(67, 7)"
      ]
     },
     "execution_count": 122,
     "metadata": {},
     "output_type": "execute_result"
    }
   ],
=======
   "execution_count": null,
   "metadata": {},
   "outputs": [],
>>>>>>> 9d142a5988318d8c68919041231f6771beeca43f
   "source": [
    "wc.shape"
   ]
  },
  {
   "cell_type": "markdown",
   "metadata": {},
   "source": [
    "## Challenge\n",
    "\n",
    "In the module project, you will apply stop word removal to a new corpus. You will focus on applying dictionary based stop word removal, but as a stretch goal, you should consider applying statistical stopword trimming. "
   ]
  },
  {
   "cell_type": "markdown",
   "metadata": {
    "toc-hr-collapsed": false
   },
   "source": [
    "# Stemming & Lemmatization (Learn)\n",
    "<a id=\"p3\"></a>"
   ]
  },
  {
   "cell_type": "markdown",
   "metadata": {
    "toc-hr-collapsed": false
   },
   "source": [
    "## Overview\n",
    "\n",
<<<<<<< HEAD
    "You can see from our example above there is still some normalization to do to get a clean analysis. You notice that there many words (*i.e.* 'batteries', 'battery') which share the same root word. We can use either stemming or lemmatization to trim our analysis down to the roots.\n"
=======
    "You can see from our example above there is still some normalization to do to get a clean analysis. You notice that there many words (*i.e.* 'batteries', 'battery') which share the same root word. We can use either the process of stemming or lemmatization to trim our words down to the 'root' word. \n",
    "\n",
    "__Section Agenda__:\n",
    "\n",
    "- Which is which\n",
    "- why use one v. other\n",
    "- show side by side visualizations \n",
    "- how to do it in spacy & nltk\n",
    "- introduce PoS in here as well"
>>>>>>> 9d142a5988318d8c68919041231f6771beeca43f
   ]
  },
  {
   "cell_type": "markdown",
   "metadata": {
    "toc-hr-collapsed": true
   },
   "source": [
    "## Follow Along"
   ]
  },
  {
   "cell_type": "markdown",
   "metadata": {
    "toc-hr-collapsed": true
   },
   "source": [
    "### Stemming\n",
    "\n",
    "> *a process for removing the commoner morphological and inflexional endings from words in English. Its main use is as part of a term normalisation process that is usually done when setting up Information Retrieval systems.* - [Martin Porter](https://tartarus.org/martin/PorterStemmer/)\n",
    "\n",
<<<<<<< HEAD
    "Things like:\n",
=======
    "Some examples include:\n",
>>>>>>> 9d142a5988318d8c68919041231f6771beeca43f
    "- 'ing'\n",
    "- 'ed'\n",
    "- 's'\n",
    "\n",
    "These rules are by no means comprehensive, but they are somewhere to start. Most stemming is done by well documented algorithms such as Porter, Snowball, and Dawson. Porter and its newer version Snowball are the most popular stemming algorithms today. For more information on various stemming algorithms check out [*\"A Comparative Study of Stemming Algorithms\"*](https://pdfs.semanticscholar.org/1c0c/0fa35d4ff8a2f925eb955e48d655494bd167.pdf) \n",
    "\n",
    "\n",
<<<<<<< HEAD
    "Spacy does not do stemming out of the box, because *lemmatization* is so dope. Let's turn to an antique python package `nltk` for stemming. "
=======
    "Spacy does not do stemming out of the box, but instead uses a different technique called *lemmatization* which we will discuss in the next section. Let's turn to an antique python package `nltk` for stemming. "
>>>>>>> 9d142a5988318d8c68919041231f6771beeca43f
   ]
  },
  {
   "cell_type": "code",
<<<<<<< HEAD
   "execution_count": 123,
   "metadata": {},
   "outputs": [
    {
     "name": "stdout",
     "output_type": "stream",
     "text": [
      "wolf\n",
      "wolv\n"
     ]
    }
   ],
   "source": [
    "# It can't even do wolv\n",
    "\n",
=======
   "execution_count": null,
   "metadata": {},
   "outputs": [],
   "source": [
>>>>>>> 9d142a5988318d8c68919041231f6771beeca43f
    "from nltk.stem import PorterStemmer\n",
    "\n",
    "ps = PorterStemmer()\n",
    "\n",
    "words = [\"wolf\", \"wolves\"]\n",
    "\n",
    "for word in words:\n",
    "    print(ps.stem(word))"
   ]
  },
  {
   "cell_type": "markdown",
   "metadata": {},
   "source": [
    "### Two Minute Challenge\n",
    "\n",
    "Apply the Porter stemming algorithm to the tokens in the `df` dataframe. Visualize the results in the tree graph we have been using for this session."
   ]
  },
  {
   "cell_type": "code",
<<<<<<< HEAD
   "execution_count": 124,
=======
   "execution_count": null,
>>>>>>> 9d142a5988318d8c68919041231f6771beeca43f
   "metadata": {},
   "outputs": [],
   "source": [
    "# Put in a new column `stems`\n"
   ]
  },
  {
   "cell_type": "code",
<<<<<<< HEAD
   "execution_count": 125,
   "metadata": {},
   "outputs": [
    {
     "ename": "KeyError",
     "evalue": "'stems'",
     "output_type": "error",
     "traceback": [
      "\u001b[0;31m---------------------------------------------------------------------------\u001b[0m",
      "\u001b[0;31mKeyError\u001b[0m                                  Traceback (most recent call last)",
      "\u001b[0;32m~/opt/anaconda3/envs/U4-S1-NLP-DS12/lib/python3.7/site-packages/pandas/core/indexes/base.py\u001b[0m in \u001b[0;36mget_loc\u001b[0;34m(self, key, method, tolerance)\u001b[0m\n\u001b[1;32m   2645\u001b[0m             \u001b[0;32mtry\u001b[0m\u001b[0;34m:\u001b[0m\u001b[0;34m\u001b[0m\u001b[0m\n\u001b[0;32m-> 2646\u001b[0;31m                 \u001b[0;32mreturn\u001b[0m \u001b[0mself\u001b[0m\u001b[0;34m.\u001b[0m\u001b[0m_engine\u001b[0m\u001b[0;34m.\u001b[0m\u001b[0mget_loc\u001b[0m\u001b[0;34m(\u001b[0m\u001b[0mkey\u001b[0m\u001b[0;34m)\u001b[0m\u001b[0;34m\u001b[0m\u001b[0m\n\u001b[0m\u001b[1;32m   2647\u001b[0m             \u001b[0;32mexcept\u001b[0m \u001b[0mKeyError\u001b[0m\u001b[0;34m:\u001b[0m\u001b[0;34m\u001b[0m\u001b[0m\n",
      "\u001b[0;32mpandas/_libs/index.pyx\u001b[0m in \u001b[0;36mpandas._libs.index.IndexEngine.get_loc\u001b[0;34m()\u001b[0m\n",
      "\u001b[0;32mpandas/_libs/index.pyx\u001b[0m in \u001b[0;36mpandas._libs.index.IndexEngine.get_loc\u001b[0;34m()\u001b[0m\n",
      "\u001b[0;32mpandas/_libs/hashtable_class_helper.pxi\u001b[0m in \u001b[0;36mpandas._libs.hashtable.PyObjectHashTable.get_item\u001b[0;34m()\u001b[0m\n",
      "\u001b[0;32mpandas/_libs/hashtable_class_helper.pxi\u001b[0m in \u001b[0;36mpandas._libs.hashtable.PyObjectHashTable.get_item\u001b[0;34m()\u001b[0m\n",
      "\u001b[0;31mKeyError\u001b[0m: 'stems'",
      "\nDuring handling of the above exception, another exception occurred:\n",
      "\u001b[0;31mKeyError\u001b[0m                                  Traceback (most recent call last)",
      "\u001b[0;32m<ipython-input-125-80ad39c9fced>\u001b[0m in \u001b[0;36m<module>\u001b[0;34m\u001b[0m\n\u001b[0;32m----> 1\u001b[0;31m \u001b[0mwc\u001b[0m \u001b[0;34m=\u001b[0m \u001b[0mcount\u001b[0m\u001b[0;34m(\u001b[0m\u001b[0mdf\u001b[0m\u001b[0;34m[\u001b[0m\u001b[0;34m'stems'\u001b[0m\u001b[0;34m]\u001b[0m\u001b[0;34m)\u001b[0m\u001b[0;34m\u001b[0m\u001b[0m\n\u001b[0m\u001b[1;32m      2\u001b[0m \u001b[0;34m\u001b[0m\u001b[0m\n\u001b[1;32m      3\u001b[0m \u001b[0mwc_top20\u001b[0m \u001b[0;34m=\u001b[0m \u001b[0mwc\u001b[0m\u001b[0;34m[\u001b[0m\u001b[0mwc\u001b[0m\u001b[0;34m[\u001b[0m\u001b[0;34m'rank'\u001b[0m\u001b[0;34m]\u001b[0m \u001b[0;34m<=\u001b[0m \u001b[0;36m20\u001b[0m\u001b[0;34m]\u001b[0m\u001b[0;34m\u001b[0m\u001b[0m\n\u001b[1;32m      4\u001b[0m \u001b[0;34m\u001b[0m\u001b[0m\n\u001b[1;32m      5\u001b[0m \u001b[0msquarify\u001b[0m\u001b[0;34m.\u001b[0m\u001b[0mplot\u001b[0m\u001b[0;34m(\u001b[0m\u001b[0msizes\u001b[0m\u001b[0;34m=\u001b[0m\u001b[0mwc_top20\u001b[0m\u001b[0;34m[\u001b[0m\u001b[0;34m'pct_total'\u001b[0m\u001b[0;34m]\u001b[0m\u001b[0;34m,\u001b[0m \u001b[0mlabel\u001b[0m\u001b[0;34m=\u001b[0m\u001b[0mwc_top20\u001b[0m\u001b[0;34m[\u001b[0m\u001b[0;34m'word'\u001b[0m\u001b[0;34m]\u001b[0m\u001b[0;34m,\u001b[0m \u001b[0malpha\u001b[0m\u001b[0;34m=\u001b[0m\u001b[0;36m.8\u001b[0m \u001b[0;34m)\u001b[0m\u001b[0;34m\u001b[0m\u001b[0m\n",
      "\u001b[0;32m~/opt/anaconda3/envs/U4-S1-NLP-DS12/lib/python3.7/site-packages/pandas/core/frame.py\u001b[0m in \u001b[0;36m__getitem__\u001b[0;34m(self, key)\u001b[0m\n\u001b[1;32m   2798\u001b[0m             \u001b[0;32mif\u001b[0m \u001b[0mself\u001b[0m\u001b[0;34m.\u001b[0m\u001b[0mcolumns\u001b[0m\u001b[0;34m.\u001b[0m\u001b[0mnlevels\u001b[0m \u001b[0;34m>\u001b[0m \u001b[0;36m1\u001b[0m\u001b[0;34m:\u001b[0m\u001b[0;34m\u001b[0m\u001b[0m\n\u001b[1;32m   2799\u001b[0m                 \u001b[0;32mreturn\u001b[0m \u001b[0mself\u001b[0m\u001b[0;34m.\u001b[0m\u001b[0m_getitem_multilevel\u001b[0m\u001b[0;34m(\u001b[0m\u001b[0mkey\u001b[0m\u001b[0;34m)\u001b[0m\u001b[0;34m\u001b[0m\u001b[0m\n\u001b[0;32m-> 2800\u001b[0;31m             \u001b[0mindexer\u001b[0m \u001b[0;34m=\u001b[0m \u001b[0mself\u001b[0m\u001b[0;34m.\u001b[0m\u001b[0mcolumns\u001b[0m\u001b[0;34m.\u001b[0m\u001b[0mget_loc\u001b[0m\u001b[0;34m(\u001b[0m\u001b[0mkey\u001b[0m\u001b[0;34m)\u001b[0m\u001b[0;34m\u001b[0m\u001b[0m\n\u001b[0m\u001b[1;32m   2801\u001b[0m             \u001b[0;32mif\u001b[0m \u001b[0mis_integer\u001b[0m\u001b[0;34m(\u001b[0m\u001b[0mindexer\u001b[0m\u001b[0;34m)\u001b[0m\u001b[0;34m:\u001b[0m\u001b[0;34m\u001b[0m\u001b[0m\n\u001b[1;32m   2802\u001b[0m                 \u001b[0mindexer\u001b[0m \u001b[0;34m=\u001b[0m \u001b[0;34m[\u001b[0m\u001b[0mindexer\u001b[0m\u001b[0;34m]\u001b[0m\u001b[0;34m\u001b[0m\u001b[0m\n",
      "\u001b[0;32m~/opt/anaconda3/envs/U4-S1-NLP-DS12/lib/python3.7/site-packages/pandas/core/indexes/base.py\u001b[0m in \u001b[0;36mget_loc\u001b[0;34m(self, key, method, tolerance)\u001b[0m\n\u001b[1;32m   2646\u001b[0m                 \u001b[0;32mreturn\u001b[0m \u001b[0mself\u001b[0m\u001b[0;34m.\u001b[0m\u001b[0m_engine\u001b[0m\u001b[0;34m.\u001b[0m\u001b[0mget_loc\u001b[0m\u001b[0;34m(\u001b[0m\u001b[0mkey\u001b[0m\u001b[0;34m)\u001b[0m\u001b[0;34m\u001b[0m\u001b[0m\n\u001b[1;32m   2647\u001b[0m             \u001b[0;32mexcept\u001b[0m \u001b[0mKeyError\u001b[0m\u001b[0;34m:\u001b[0m\u001b[0;34m\u001b[0m\u001b[0m\n\u001b[0;32m-> 2648\u001b[0;31m                 \u001b[0;32mreturn\u001b[0m \u001b[0mself\u001b[0m\u001b[0;34m.\u001b[0m\u001b[0m_engine\u001b[0m\u001b[0;34m.\u001b[0m\u001b[0mget_loc\u001b[0m\u001b[0;34m(\u001b[0m\u001b[0mself\u001b[0m\u001b[0;34m.\u001b[0m\u001b[0m_maybe_cast_indexer\u001b[0m\u001b[0;34m(\u001b[0m\u001b[0mkey\u001b[0m\u001b[0;34m)\u001b[0m\u001b[0;34m)\u001b[0m\u001b[0;34m\u001b[0m\u001b[0m\n\u001b[0m\u001b[1;32m   2649\u001b[0m         \u001b[0mindexer\u001b[0m \u001b[0;34m=\u001b[0m \u001b[0mself\u001b[0m\u001b[0;34m.\u001b[0m\u001b[0mget_indexer\u001b[0m\u001b[0;34m(\u001b[0m\u001b[0;34m[\u001b[0m\u001b[0mkey\u001b[0m\u001b[0;34m]\u001b[0m\u001b[0;34m,\u001b[0m \u001b[0mmethod\u001b[0m\u001b[0;34m=\u001b[0m\u001b[0mmethod\u001b[0m\u001b[0;34m,\u001b[0m \u001b[0mtolerance\u001b[0m\u001b[0;34m=\u001b[0m\u001b[0mtolerance\u001b[0m\u001b[0;34m)\u001b[0m\u001b[0;34m\u001b[0m\u001b[0m\n\u001b[1;32m   2650\u001b[0m         \u001b[0;32mif\u001b[0m \u001b[0mindexer\u001b[0m\u001b[0;34m.\u001b[0m\u001b[0mndim\u001b[0m \u001b[0;34m>\u001b[0m \u001b[0;36m1\u001b[0m \u001b[0;32mor\u001b[0m \u001b[0mindexer\u001b[0m\u001b[0;34m.\u001b[0m\u001b[0msize\u001b[0m \u001b[0;34m>\u001b[0m \u001b[0;36m1\u001b[0m\u001b[0;34m:\u001b[0m\u001b[0;34m\u001b[0m\u001b[0m\n",
      "\u001b[0;32mpandas/_libs/index.pyx\u001b[0m in \u001b[0;36mpandas._libs.index.IndexEngine.get_loc\u001b[0;34m()\u001b[0m\n",
      "\u001b[0;32mpandas/_libs/index.pyx\u001b[0m in \u001b[0;36mpandas._libs.index.IndexEngine.get_loc\u001b[0;34m()\u001b[0m\n",
      "\u001b[0;32mpandas/_libs/hashtable_class_helper.pxi\u001b[0m in \u001b[0;36mpandas._libs.hashtable.PyObjectHashTable.get_item\u001b[0;34m()\u001b[0m\n",
      "\u001b[0;32mpandas/_libs/hashtable_class_helper.pxi\u001b[0m in \u001b[0;36mpandas._libs.hashtable.PyObjectHashTable.get_item\u001b[0;34m()\u001b[0m\n",
      "\u001b[0;31mKeyError\u001b[0m: 'stems'"
     ]
    }
   ],
=======
   "execution_count": null,
   "metadata": {},
   "outputs": [],
>>>>>>> 9d142a5988318d8c68919041231f6771beeca43f
   "source": [
    "wc = count(df['stems'])\n",
    "\n",
    "wc_top20 = wc[wc['rank'] <= 20]\n",
    "\n",
    "squarify.plot(sizes=wc_top20['pct_total'], label=wc_top20['word'], alpha=.8 )\n",
    "plt.axis('off')\n",
    "plt.show()"
   ]
  },
  {
   "cell_type": "markdown",
   "metadata": {
    "toc-hr-collapsed": false
   },
   "source": [
    "### Lemmatization\n",
    "\n",
<<<<<<< HEAD
    "You noticed that the Porter algorithm just chops off word endings. This works well when humans don't have to read the results. Search engines and other information retrieval algorithms use stemming because it's fast. \n",
    "\n",
    "Lemmatization, on the other hand, transforms a word into its base form (\"lemma\"). Plural nouns with funky spellings get transformed to singular tense. Verbs are all transformed to the transitive. Nice tidy data for a visualization. However, this tidy data can come at computational cost. Spacy does a pretty freaking good job of it though. Let's take a look:"
=======
    "You notice immediately that results are kinda funky - words just oddly chopped off. The Porter algorithm did exactly what it knows to do: chop off endings. Stemming works well in applications where humans don't have to worry about reading the results. Search engines and more broadly information retrieval algorithms use stemming. Why? Because it's fast. \n",
    "\n",
    "Lemmatization on the other hand is more methodical. The goal is to transform a word into its base form called a lemma. Plural nouns with funky spellings get transformed to singular tense. Verbs are all transformed to the transitive. Nice tidy data for a visualization. :) However, this tidy data can come at computational cost. Spacy does a pretty freaking good job of it though. Let's take a look:"
>>>>>>> 9d142a5988318d8c68919041231f6771beeca43f
   ]
  },
  {
   "cell_type": "code",
<<<<<<< HEAD
   "execution_count": 126,
   "metadata": {},
   "outputs": [
    {
     "name": "stdout",
     "output_type": "stream",
     "text": [
      "This    this\n",
      "is    be\n",
      "the    the\n",
      "start    start\n",
      "of    of\n",
      "our    -PRON-\n",
      "NLP    NLP\n",
      "adventures    adventure\n",
      ".    .\n",
      "We    -PRON-\n",
      "started    start\n",
      "here    here\n",
      "with    with\n",
      "Spacy    Spacy\n",
      ".    .\n",
      "We    -PRON-\n",
      "are    be\n",
      "starting    start\n",
      "here    here\n",
      "with    with\n",
      "NLP    NLP\n",
      ".    .\n"
     ]
    }
   ],
   "source": [
    "# Print out an example message's tokens and lemmas\n",
    "\n",
=======
   "execution_count": null,
   "metadata": {},
   "outputs": [],
   "source": [
>>>>>>> 9d142a5988318d8c68919041231f6771beeca43f
    "sent = \"This is the start of our NLP adventures. We started here with Spacy. We are starting here with NLP.\"\n",
    "\n",
    "nlp = spacy.load(\"en_core_web_lg\")\n",
    "\n",
    "doc = nlp(sent)\n",
    "\n",
    "# Lemma Attributes\n",
    "for token in doc:\n",
    "    print(token.text, \"  \", token.lemma_)"
   ]
  },
  {
   "cell_type": "code",
<<<<<<< HEAD
   "execution_count": 127,
   "metadata": {},
   "outputs": [],
   "source": [
    "# Do it again but in a function\n",
    "\n",
    "def get_lemmas(text):\n",
    "'''gets lemmas for a given doc's tokens. Cleans pronouns, punctuation, and stop words '''\n",
=======
   "execution_count": null,
   "metadata": {},
   "outputs": [],
   "source": [
    "# Wrap it all in a function\n",
    "def get_lemmas(text):\n",
    "\n",
>>>>>>> 9d142a5988318d8c68919041231f6771beeca43f
    "    lemmas = []\n",
    "    \n",
    "    doc = nlp(text)\n",
    "    \n",
    "    # Something goes here :P\n",
    "    for token in doc: \n",
    "        if ((token.is_stop == False) and (token.is_punct == False)) and (token.pos_ != 'PRON'):\n",
    "            lemmas.append(token.lemma_)\n",
    "    \n",
    "    return lemmas"
   ]
  },
  {
   "cell_type": "code",
<<<<<<< HEAD
   "execution_count": 128,
=======
   "execution_count": null,
>>>>>>> 9d142a5988318d8c68919041231f6771beeca43f
   "metadata": {},
   "outputs": [],
   "source": [
    "df['lemmas'] = df['reviews.text'].apply(get_lemmas)"
   ]
  },
  {
   "cell_type": "code",
<<<<<<< HEAD
   "execution_count": 129,
   "metadata": {},
   "outputs": [
    {
     "data": {
      "text/plain": [
       "8343    [great, case, place, husband, love, hold, lot,...\n",
       "8344    [discard, get, rid, broken, cd, case, broken, ...\n",
       "8345                            [dollar, boycott, amazon]\n",
       "8346    [initial, impression, good, material, nice, sh...\n",
       "8347    [pro, Standard, Echo, con, old, generation, Ec...\n",
       "Name: lemmas, dtype: object"
      ]
     },
     "execution_count": 129,
     "metadata": {},
     "output_type": "execute_result"
    }
   ],
=======
   "execution_count": null,
   "metadata": {},
   "outputs": [],
>>>>>>> 9d142a5988318d8c68919041231f6771beeca43f
   "source": [
    "df['lemmas'].head()"
   ]
  },
  {
   "cell_type": "code",
<<<<<<< HEAD
   "execution_count": 130,
   "metadata": {},
   "outputs": [
    {
     "data": {
      "image/png": "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\n",
      "text/plain": [
       "<Figure size 432x288 with 1 Axes>"
      ]
     },
     "metadata": {
      "needs_background": "light"
     },
     "output_type": "display_data"
    }
   ],
=======
   "execution_count": null,
   "metadata": {},
   "outputs": [],
>>>>>>> 9d142a5988318d8c68919041231f6771beeca43f
   "source": [
    "wc = count(df['lemmas'])\n",
    "wc_top20 = wc[wc['rank'] <= 20]\n",
    "\n",
    "squarify.plot(sizes=wc_top20['pct_total'], label=wc_top20['word'], alpha=.8 )\n",
    "plt.axis('off')\n",
    "plt.show()"
   ]
  },
  {
   "cell_type": "markdown",
   "metadata": {},
   "source": [
    "## Challenge\n",
    "\n",
    "You should know how to apply lemmatization with Spacy to a corpus of text. "
   ]
  },
  {
   "cell_type": "markdown",
   "metadata": {},
   "source": [
    "# Review\n",
    "\n",
    "In this module project, you've seen us apply Natural Language Processing techniques (tokenization, stopword removal, and lemmatization) to a corpus of Amazon text reviews. We analyzed those reviews using these techniques and discovered that Amazon customers are generally satisfied with the battery life of Amazon products and generally appear satisfied. \n",
    "\n",
    "You will apply similar techniques to today's [module project assignment](LS_DS_411_Text_Data_Assignment.ipynb) to analyze coffee shop reviews from yelp. Remember that the techniques of processing the text are just the beginning. There are many ways to slice and dice the data. "
   ]
  },
  {
   "cell_type": "markdown",
   "metadata": {},
   "source": [
    "# Sources\n",
    "\n",
    "* Spacy 101 - https://course.spacy.io\n",
    "* NLTK Book - https://www.nltk.org/book/\n",
    "* An Introduction to Information Retrieval - https://nlp.stanford.edu/IR-book/pdf/irbookonlinereading.pdf"
   ]
  },
  {
   "cell_type": "markdown",
   "metadata": {
    "toc-hr-collapsed": true
   },
   "source": [
    "## Advanced Resources & Techniques\n",
    "- Named Entity Recognition (NER)\n",
    "- Dependcy Trees \n",
    "- Generators\n",
    "- the major libraries (NLTK, Spacy, Gensim)"
   ]
  }
 ],
 "metadata": {
  "kernelspec": {
<<<<<<< HEAD
   "display_name": "U4-S1-NLP-DS12",
   "language": "python",
   "name": "u4-s1-nlp-ds12"
=======
   "display_name": "U4-S1-NLP-DS11",
   "language": "python",
   "name": "u4-s1-nlp-ds11"
>>>>>>> 9d142a5988318d8c68919041231f6771beeca43f
  },
  "language_info": {
   "codemirror_mode": {
    "name": "ipython",
    "version": 3
   },
   "file_extension": ".py",
   "mimetype": "text/x-python",
   "name": "python",
   "nbconvert_exporter": "python",
   "pygments_lexer": "ipython3",
   "version": "3.7.0"
  },
  "toc-autonumbering": false,
  "toc-showcode": false,
  "toc-showmarkdowntxt": false
 },
 "nbformat": 4,
 "nbformat_minor": 4
}
