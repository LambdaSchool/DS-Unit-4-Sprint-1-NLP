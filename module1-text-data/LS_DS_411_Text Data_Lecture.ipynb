{
 "cells": [
  {
   "cell_type": "markdown",
   "metadata": {
    "toc-hr-collapsed": false
   },
   "source": [
    "<img align=\"left\" src=\"https://lever-client-logos.s3.amazonaws.com/864372b1-534c-480e-acd5-9711f850815c-1524247202159.png\" width=200>\n",
    "<br></br>\n",
    "<br></br>\n",
    "\n",
    "# Natural Language Processing (NLP) \n",
    "\n",
    "## *Data Science Unit 4 Sprint 1 Lesson 1*\n",
    "\n",
    "\"Natural\" meaning - not computer languages but spoken/written human languages. The hard thing about NLP is that human languages are far less structured or consistent than computer languages. This is perhaps the largest source of difficulty when trying to get computers to \"understand\" human languages. How do you get a machine to understand sarcasm, and irony, and synonyms, connotation, denotation, nuance, and tone of voice --all without it having lived a lifetime of experience for context? If you think about it, our human brains have been exposed to quite a lot of training data to help us interpret languages, and even then we misunderstand each other pretty frequently. \n",
    "\n",
    "## Learning Objectives\n",
    "* <a href=\"#p1\">Part 1</a>: Tokenizing Text\n",
    "* <a href=\"#p2\">Part 2</a>: Removing Stop Words\n",
    "* <a href=\"#p3\">Part 3</a>: Stemming & Lemmatization"
   ]
  },
  {
   "cell_type": "code",
   "execution_count": 1,
   "metadata": {
    "pycharm": {
     "is_executing": false
    }
   },
   "outputs": [],
   "source": [
    "\"\"\"\n",
    "Import Statements\n",
    "\"\"\"\n",
    "\n",
    "# Base\n",
    "from collections import Counter\n",
    "import re\n",
    "\n",
    "import pandas as pd\n",
    "\n",
    "# Plotting\n",
    "import squarify\n",
    "import matplotlib.pyplot as plt\n",
    "import seaborn as sns\n",
    "\n",
    "# NLP Libraries\n",
    "import spacy\n",
    "from spacy.tokenizer import Tokenizer\n",
    "from nltk.stem import PorterStemmer\n",
    "\n",
    "nlp = spacy.load(\"en_core_web_md\")"
   ]
  },
  {
   "cell_type": "markdown",
   "metadata": {
    "toc-hr-collapsed": false
   },
   "source": [
    "## Tokenizing Text\n",
    "<a id=\"p1\"></a>\n",
    "\n",
    "> **token**: an instance of a sequence of characters in some particular document that are grouped together as a useful semantic unit for processing\n",
    "\n",
    "> [_*Introduction to Information Retrival*_](https://nlp.stanford.edu/IR-book/)\n",
    "\n",
    "\n",
    "- Build out Amazon case study\n",
    "- Data found on [Kaggle](https://www.kaggle.com/datafiniti/consumer-reviews-of-amazon-products/)"
   ]
  },
  {
   "cell_type": "markdown",
   "metadata": {
    "toc-hr-collapsed": false
   },
   "source": [
    "### Tokenizing with Pure Python"
   ]
  },
  {
   "cell_type": "code",
   "execution_count": 2,
   "metadata": {
    "pycharm": {
     "is_executing": false
    }
   },
   "outputs": [],
   "source": [
    "df = pd.read_csv('data/amazon.csv')"
   ]
  },
  {
   "cell_type": "code",
   "execution_count": 3,
   "metadata": {
    "pycharm": {
     "is_executing": false
    }
   },
   "outputs": [
    {
     "data": {
      "text/plain": "['id',\n 'dateAdded',\n 'dateUpdated',\n 'name',\n 'asins',\n 'brand',\n 'categories',\n 'primaryCategories',\n 'imageURLs',\n 'keys',\n 'manufacturer',\n 'manufacturerNumber',\n 'reviews.date',\n 'reviews.dateSeen',\n 'reviews.didPurchase',\n 'reviews.doRecommend',\n 'reviews.id',\n 'reviews.numHelpful',\n 'reviews.rating',\n 'reviews.sourceURLs',\n 'reviews.text',\n 'reviews.title',\n 'reviews.username',\n 'sourceURLs']"
     },
     "metadata": {},
     "output_type": "execute_result",
     "execution_count": 3
    }
   ],
   "source": [
    "df.head()"
   ]
  },
  {
   "cell_type": "code",
   "execution_count": 4,
   "metadata": {
    "pycharm": {
     "is_executing": false
    }
   },
   "outputs": [],
   "source": [
    "# How can we count the raw text?\n"
   ]
  },
  {
   "cell_type": "markdown",
   "metadata": {
    "toc-hr-collapsed": true
   },
   "source": [
    "#### The attributes of good tokens\n",
    "\n",
    "* Should be stored in an iterable datastructure\n",
    "  - Allows analysis of the \"semantic unit\"\n",
    "* Should be all the same case\n",
    "  - Reduces the complexity of our data\n",
    "* Should be free of non-alphanumeric characters (ie punctuation, whitespace)\n",
    "  - Removes information that is probably not relevant to the analysis"
   ]
  },
  {
   "cell_type": "code",
   "execution_count": 5,
   "metadata": {
    "pycharm": {
     "is_executing": false
    }
   },
   "outputs": [],
   "source": [
    "sample = \"Friends, Romans, countrymen, lend me your ears;\""
   ]
  },
  {
   "cell_type": "markdown",
   "metadata": {},
   "source": [
    "##### Iterable Tokens\n",
    "\n",
    "A string object in Python is already iterable. However, the item you iterate over is a character not a token:"
   ]
  },
  {
   "cell_type": "code",
   "execution_count": 6,
   "outputs": [
    {
     "name": "stdout",
     "text": [
      "Char 0 - Friends,\r",
      "Char 1 - Romans,\r",
      "Char 2 - countrymen,\r",
      "Char 3 - lend\r",
      "Char 4 - me\r",
      "Char 5 - your\r",
      "Char 6 - ears;\r"
     ],
     "output_type": "stream"
    }
   ],
   "source": [
    "from time import sleep\n",
    "for num, character in enumerate(sample.split()):\n",
    "    sleep(.5)\n",
    "    print(f\"Char {num} - {character}\", end=\"\\r\")"
   ],
   "metadata": {
    "collapsed": false,
    "pycharm": {
     "name": "#%%\n",
     "is_executing": false
    }
   }
  },
  {
   "cell_type": "markdown",
   "source": [
    "If we instead care about the words in our sample (our semantic unit), we can use the string method `.split()` to seperate the whitespace and create iterable units. :)"
   ],
   "metadata": {
    "collapsed": false,
    "pycharm": {
     "name": "#%% md\n"
    }
   }
  },
  {
   "cell_type": "code",
<<<<<<< HEAD
   "execution_count": 7,
   "metadata": {
    "pycharm": {
     "is_executing": false
    }
   },
   "outputs": [
    {
     "data": {
      "text/plain": "amazon          16153\namazonbasics    12179\nName: brand, dtype: int64"
     },
     "metadata": {},
     "output_type": "execute_result",
     "execution_count": 7
    }
   ],
   "source": [
    "df['brand'] = df['brand'].str.lower()\n",
    "df['brand'].value_counts()"
=======
   "execution_count": null,
   "metadata": {},
   "outputs": [],
   "source": [
    "sample.split()"
>>>>>>> 98c7a82f2df191841871eff71c81743b5d7051d3
   ]
  },
  {
   "cell_type": "markdown",
   "metadata": {},
   "source": [
    "##### Case Normalization\n",
    "A common data cleaning data cleaning task with token is to standardize or normalize the case. Normalizing case reduces the chance that you have duplicate records for things which have practically the same semantic meaning. You can use either the `.lower()` or `.upper()` string methods to normalize case.\n",
    "\n",
    "Consider the following example: "
   ]
  },
  {
   "cell_type": "code",
   "execution_count": 8,
   "metadata": {
    "pycharm": {
     "is_executing": false
    }
   },
   "outputs": [],
   "source": [
    "# Notice anything odd here? \n"
   ]
  },
  {
   "cell_type": "code",
   "execution_count": 9,
   "metadata": {
    "pycharm": {
     "is_executing": false
    }
   },
   "outputs": [],
   "source": [
    "# Much cleaner\n"
   ]
  },
  {
   "cell_type": "markdown",
   "metadata": {},
   "source": [
    "##### Keep Only Alphanumeric Characters\n",
    "Yes, we only want letters and numbers. Everything else is probably noise: punctionation, whitespace, and other notation. This one is little bit more complicatd than our previous example. Here we will have to import the base package `re` (regular expressions). \n",
    "\n",
    "The only regex expression pattern you need for this is `'[^a-zA-Z ^0-9]'` which keeps lower case letters, upper case letters, spaces, and numbers."
   ]
  },
  {
<<<<<<< HEAD
=======
   "cell_type": "code",
   "execution_count": null,
   "metadata": {},
   "outputs": [],
   "source": [
    " sample+\" 007 911\""
   ]
  },
  {
   "cell_type": "code",
   "execution_count": null,
   "metadata": {},
   "outputs": [],
   "source": [
    "import re\n",
    "\n",
    "re.sub(r'[^a-zA-Z ^0-9]', '', sample+\" 911\")"
   ]
  },
  {
>>>>>>> 98c7a82f2df191841871eff71c81743b5d7051d3
   "cell_type": "markdown",
   "metadata": {},
   "source": [
    "#### Two Minute Challenge \n",
    "- Complete the function `tokenize` below\n",
    "- Combine the methods which we discussed above to clean text before we analyze it\n",
    "- You can put the methods in any order you want"
   ]
  },
  {
   "cell_type": "code",
   "execution_count": 10,
   "metadata": {
    "pycharm": {
     "is_executing": false
    }
   },
   "outputs": [],
   "source": [
    "def tokenize(text):\n",
    "    \"\"\"Parses a string into a list of semantic units (words)\n",
    "\n",
    "    Args:\n",
    "        text (str): The string that the function will tokenize.\n",
    "\n",
    "    Returns:\n",
    "        list: tokens parsed out by the mechanics of your choice\n",
    "    \"\"\"\n",
<<<<<<< HEAD
    "    tokens = re.sub(r'\\d+', '', text).lower().split()\n",
    "    return tokens"
=======
    "    \n",
    "    return \"\"\n"
>>>>>>> 98c7a82f2df191841871eff71c81743b5d7051d3
   ]
  },
  {
   "cell_type": "markdown",
   "metadata": {},
   "source": [
    "#### Analyzing Tokens"
   ]
  },
  {
   "cell_type": "code",
   "execution_count": 11,
   "outputs": [
    {
     "data": {
      "text/plain": "0    [i, order, of, them, and, one, of, the, item, ...\n1    [bulk, is, always, the, less, expensive, way, ...\n2    [well, they, are, not, duracell, but, for, the...\n3    [seem, to, work, as, well, as, name, brand, ba...\n4    [these, batteries, are, very, long, lasting, t...\nName: tokens, dtype: object"
     },
     "metadata": {},
     "output_type": "execute_result",
     "execution_count": 11
    }
   ],
   "source": [
    "df['tokens'] = df['reviews.text'].apply(tokenize)\n",
    "df['tokens'].head()"
   ],
   "metadata": {
    "collapsed": false,
    "pycharm": {
     "name": "#%%\n",
     "is_executing": false
    }
   }
  },
  {
   "cell_type": "code",
   "execution_count": 12,
   "metadata": {
    "pycharm": {
     "is_executing": false
    }
   },
   "outputs": [],
   "source": [
    "# Object from Base Python\n",
<<<<<<< HEAD
    "# from collections import Counter\n",
=======
    "\n",
>>>>>>> 98c7a82f2df191841871eff71c81743b5d7051d3
    "\n",
    "# The object `Counter` takes an iterable, but you can instantiate an empty one and update it. \n",
    "\n",
    "\n",
    "# Update it based on a split of each of our documents\n",
    "\n",
    "\n",
    "# Print out the 10 most common words\n"
   ]
  },
  {
   "cell_type": "markdown",
   "metadata": {},
   "source": [
    "Let's create a fuction which takes a corpus of document and returns and dataframe of word counts for us to analyze."
   ]
  },
  {
   "cell_type": "code",
   "execution_count": 13,
   "metadata": {
    "pycharm": {
     "is_executing": false
    }
   },
   "outputs": [],
   "source": [
    "def count(docs):\n",
    "\n",
    "        word_counts = Counter()\n",
    "        appears_in = Counter()\n",
    "        \n",
    "        total_docs = len(docs)\n",
    "\n",
    "        for doc in docs:\n",
    "            word_counts.update(doc)\n",
    "            appears_in.update(set(doc))\n",
    "\n",
    "        temp = zip(word_counts.keys(), word_counts.values())\n",
    "        \n",
    "        wc = pd.DataFrame(temp, columns = ['word', 'count'])\n",
    "\n",
    "        wc['rank'] = wc['count'].rank(method='first', ascending=False)\n",
    "        total = wc['count'].sum()\n",
    "\n",
    "        wc['pct_total'] = wc['count'].apply(lambda x: x / total)\n",
    "        \n",
    "        wc = wc.sort_values(by='rank')\n",
    "        wc['cul_pct_total'] = wc['pct_total'].cumsum()\n",
    "\n",
    "        t2 = zip(appears_in.keys(), appears_in.values())\n",
    "        ac = pd.DataFrame(t2, columns=['word', 'appears_in'])\n",
    "        wc = ac.merge(wc, on='word')\n",
    "\n",
    "        wc['appears_in_pct'] = wc['appears_in'].apply(lambda x: x / total_docs)\n",
    "        \n",
    "        return wc.sort_values(by='rank')"
   ]
  },
  {
   "cell_type": "code",
   "execution_count": 14,
   "metadata": {
    "pycharm": {
     "is_executing": false
    }
   },
   "outputs": [],
   "source": [
    "# Use the Function\n",
    "wc = count(df['tokens'])"
   ]
  },
  {
   "cell_type": "code",
   "execution_count": 15,
   "metadata": {
    "pycharm": {
     "is_executing": false
    }
   },
   "outputs": [
    {
     "data": {
      "text/plain": "   word  appears_in  count  rank  pct_total  cul_pct_total  appears_in_pct\n1   the       13181  28807   1.0   0.039466       0.039466        0.465234\n9   and       13710  22228   2.0   0.030453       0.069918        0.483905\n20    i       10275  20502   3.0   0.028088       0.098006        0.362664\n7    to       11269  19404   4.0   0.026584       0.124590        0.397748\n29  for       12013  17679   5.0   0.024220       0.148810        0.424008",
      "text/html": "<div>\n<style scoped>\n    .dataframe tbody tr th:only-of-type {\n        vertical-align: middle;\n    }\n\n    .dataframe tbody tr th {\n        vertical-align: top;\n    }\n\n    .dataframe thead th {\n        text-align: right;\n    }\n</style>\n<table border=\"1\" class=\"dataframe\">\n  <thead>\n    <tr style=\"text-align: right;\">\n      <th></th>\n      <th>word</th>\n      <th>appears_in</th>\n      <th>count</th>\n      <th>rank</th>\n      <th>pct_total</th>\n      <th>cul_pct_total</th>\n      <th>appears_in_pct</th>\n    </tr>\n  </thead>\n  <tbody>\n    <tr>\n      <th>1</th>\n      <td>the</td>\n      <td>13181</td>\n      <td>28807</td>\n      <td>1.0</td>\n      <td>0.039466</td>\n      <td>0.039466</td>\n      <td>0.465234</td>\n    </tr>\n    <tr>\n      <th>9</th>\n      <td>and</td>\n      <td>13710</td>\n      <td>22228</td>\n      <td>2.0</td>\n      <td>0.030453</td>\n      <td>0.069918</td>\n      <td>0.483905</td>\n    </tr>\n    <tr>\n      <th>20</th>\n      <td>i</td>\n      <td>10275</td>\n      <td>20502</td>\n      <td>3.0</td>\n      <td>0.028088</td>\n      <td>0.098006</td>\n      <td>0.362664</td>\n    </tr>\n    <tr>\n      <th>7</th>\n      <td>to</td>\n      <td>11269</td>\n      <td>19404</td>\n      <td>4.0</td>\n      <td>0.026584</td>\n      <td>0.124590</td>\n      <td>0.397748</td>\n    </tr>\n    <tr>\n      <th>29</th>\n      <td>for</td>\n      <td>12013</td>\n      <td>17679</td>\n      <td>5.0</td>\n      <td>0.024220</td>\n      <td>0.148810</td>\n      <td>0.424008</td>\n    </tr>\n  </tbody>\n</table>\n</div>"
     },
     "metadata": {},
     "output_type": "execute_result",
     "execution_count": 15
    }
   ],
   "source": [
    "wc.head()"
   ]
  },
  {
   "cell_type": "code",
   "execution_count": 16,
   "metadata": {
    "pycharm": {
     "is_executing": false
    }
   },
   "outputs": [
    {
     "data": {
      "text/plain": "<matplotlib.axes._subplots.AxesSubplot at 0x1a2a780630>"
     },
     "metadata": {},
     "output_type": "execute_result",
     "execution_count": 16
    },
    {
     "data": {
      "text/plain": "<Figure size 432x288 with 1 Axes>",
      "image/png": "iVBORw0KGgoAAAANSUhEUgAAAYIAAAEGCAYAAABo25JHAAAABHNCSVQICAgIfAhkiAAAAAlwSFlzAAALEgAACxIB0t1+/AAAADh0RVh0U29mdHdhcmUAbWF0cGxvdGxpYiB2ZXJzaW9uMy4xLjAsIGh0dHA6Ly9tYXRwbG90bGliLm9yZy+17YcXAAAeLElEQVR4nO3de5hcdZ3n8fe3qu/pdNKQDoR0QgIENWAksQflwUUFRy4jMF7GDTzeHZndmYzOjrqL6ywqsz47OsvqOCKKj4zgrrKA65h1wk0GltFBoQMkkkSgEy5pgumEdNLppC91+e4f51R1dXV1d1XTp6u7z+f1PP3UqXPLt066f5/6nau5OyIiEl+JahcgIiLVpSAQEYk5BYGISMwpCEREYk5BICISczXVLmAqlixZ4qtWrap2GSIic8rWrVsPuntb8fg5GQSrVq2is7Oz2mWIiMwpZvZCqfHaNSQiEnMKAhGRmFMQiIjEnIJARCTmFAQiIjEXaRCY2S1m1mNmT40z3czsG2bWZWbbzWxDlPWIiMhYUfcIvg9cMsH0S4E14c81wE0R1yMiIkUivY7A3R82s1UTzHIlcJsH98L+lZktNrNl7v5ylHWJiEynTNZJZbJksk4646Sy2eA1kyWdddKZLKmMk84Gr5ncuKJpxcuki9aXzmS54pzlnLG0eVrrr/YFZcuBvQXvu8NxY4LAzK4h6DWwcuXKGSlORKafe9gQho1nOhMMFzeEI9PChrKgscyPK5qWyoxuQIvH5daZa1hzDXjJf6+gnmC+Uo11sK6ZfKzLWcsXzbsgsBLjSm5Sd78ZuBmgo6NDT9MRKcHdGc5kGUxlGUplGEhlGExlGcwPB++H0hkGhoP3Q+ksqczIN9XCb5+5b6xBgzfy7TWTLW5YC+cbWT49psEPlp8pZlCbSFCTNGoSRm0yN1x6XG342lAbjk/YqPlz6xqZNrJMbn3F42qL1l1TYlrhOkfVGP77uWnJhGFWqtl8daodBN3AioL37cC+KtUiEols1hnMNbzpbNgYjzTKg0UNduG0gaL5BlMZBtPhtOFgeGjUfBmyr6KdTRhBQ1ayQRtpjHKNVW0iQV1Ngqb8MpZfPplr/AobwoJ155YP1heOK9Uw59c3uqZSy9QmEiQLGvhkYvobzfmo2kGwGdhkZrcDbwKO6PiAzCR3ZyCVoX8wTf9Q+DOY5uhQOmigh3ON7+iGt/gb9kAqw9CYxjt4P5zJTqm2hEFDbZLG2iQNtUnqaxP54YbaBK1NtdTXJmmoSdJYl6ChJpjWWJekviYxatmG2kT4OjKcX29NIt/IJ9RwxlKkQWBmPwLeBiwxs27gC0AtgLt/G9gCXAZ0AceBj0ZZj8wfqUyWY0NpjoYN+LGhoPHON+hhY36sYFwwPcWxoUzwfjBF/1C6om/QdTUJGnKNbF0ybHyD94ub6sY2soWNd00iWKY2SX1NbvkS6wqHa5PR7AYQKRb1WUNXTTLdgT+LsgaZnQZTGY4MpDh8PMXh48PB8ECKI8dTHB4Ypm8gbLwH0/QPpfKNe/9Qhv6hFIOp8r5lL6hL0txQQ3N9Dc0NtTTXJ2lbWE9zfS0L8+NrWFBfw8L6kffN9TX5Rrsx/BZdX5PUrgaZl6q9a0jmOHfn+HCGV/qHeeXY0MjrsWF6jw0HDf1AiiMFjfzh4ymG0uM35AmDlsZcQ13Lwvoa2prrWb2kmeb6mpEGvKjhbm4IG/OwYV9QV6OGW6QMCgIpaTid5UD/ED19g+zvG6Ln6CA9fUPs7xvkYH/Q0Oca/fG+nTfUJljcWMfiploWNdayakkTixoXsbipjkWNwbjFTbWj5lnUVEtzXY32VYvMIAVBTPUPpXmpd4Du3uN0h68vHR6gu3eAl3oHeOXY8JhlEgZtC+tZ0hz8nNHWzInNdZzYXM+JC+qC4QX1+dfGumQVPpmIVEpBME+5O4eODdPV08/uA8fYc6A/aPAPBw3/4eOpUfPX1SRob22kvbWJs05p4eSWRpa21HNSSz1LFzawtKWeExfUa1eLyDykIJjj3J2eo0Ps3NfHsz1H2d1zjN0H+uk60D+qsW+oTdDe2kR7ayPnrFjM8sVNYcPfyPLWRpYsqNfuGJGYUhDMIe7O3kMDPLG3l50v97FzX/BTuBtnSXMdp7c1c9nrl3F6WzNnLG3m9LYFnLKoUQ29iJSkIJjFhtNZntp3hMdf6KXz+V62vtjLgaNDANQlE5x5cjMXvW4pa5e1sPaURZx5UjOLm+qqXLWIzDUKglnE3enq6ef/PXOAh589yK/3vJI/zXLFCY285YwlbDi1lQ0rF7Nm6ULqavRcIRF59RQEVZbNOltf7OVn2/Zx/8797DsyCMDpbQu46tyVnLv6BDpObWVpS0OVKxWR+UpBUAXuzpN7D/N/t73Mlt+8zO/6BqmvSfDWM9vYdOEaLjhzCe2tTdUuU0RiQkEwg44MpPjJ49388NEXeWZ/P3XJBBec2cbnLnstF73uJJrr9d8hIjNPLc8M2HvoODc/vIc7t+5lMJVlXfsi/uY9r+fS1y9jUWNttcsTkZhTEERoz4F+bnxwNz998iXM4N3rl/PBN6/i9e2Lql2aiEiegiACh48P8/WfP8v//NUL1CSND523ik9csJplixqrXZqIyBgKgmnk7vzw0Rf56j1Pc3QwxcZzV/If3nEmbQvrq12aiMi4FATTpLv3ONf++Df8ousg5512Il+4Yi2vPbml2mWJiExKQTAN7nnqd3z2zm1k3Pnyu8/m6nNX6slSIjJnKAhehUzW+e/3Pc1ND+1mXfsivnnVBlaeqPP/RWRuURBM0WAqwyd/9AT37dzP1W9ayRcuX0t9je6/LyJzj4JgCo4OpvjjWzt59PlDfPHytXzk/NXVLklEZMoUBBUaTGX441s72fpCL1//t+dw5TnLq12SiMiroiCoQDqTZdMPn+DR5w8pBERk3tB9jCvwlXt+y8937edLV5ylEBCReUNBUKafbd/Hd//lOT745lP50Hmrql2OiMi0URCUoaunn/9413Y2rFzMf3nX2mqXIyIyrRQEk0hnsnz6jiepr0lw0wfeqKeCici8o4PFk/jOw3vY1n2EG6/ewEl6SpiIzEP6ejuB5w4e4+s/f4Y/WLeMP1i3rNrliIhEQkEwgf+2ZRd1yQRfuFzHBURk/lIQjOOR3a9w3879/Onbz2DpQu0SEpH5S0Ewjq/9/BmWLWrg42/R7SNEZH5TEJSw9YVDPPrcIT7xb06joVY3khOR+S3yIDCzS8zsaTPrMrNrS0xfaWYPmtkTZrbdzC6LuqbJfOvB3bQ21bLx3BXVLkVEJHKRBoGZJYEbgUuBtcBVZlZ85PWvgDvcfT2wEfhWlDVNZu+h4zzw2x4+eN4qmup0dq2IzH9R9wjOBbrcfY+7DwO3A1cWzeNA7pmOi4B9Edc0oTs695Iw2Ph76g2ISDxEHQTLgb0F77vDcYW+CHzAzLqBLcCfl1qRmV1jZp1m1nngwIEoaiWdyXJnZzdvPbONUxY3RvJviIjMNlEHQakH93rR+6uA77t7O3AZ8AMzG1OXu9/s7h3u3tHW1hZBqfCrPYf4Xd8g7+9Qb0BE4iPqIOgGClvVdsbu+vk4cAeAuz8CNABLIq6rpLufepmmuiRvf+3SavzzIiJVEXUQPAasMbPVZlZHcDB4c9E8LwIXAZjZ6wiCIJp9PxPIZJ17d+zn7a9ZqlNGRSRWIg0Cd08Dm4B7gV0EZwftMLPrzeyKcLZPA58ws23Aj4CPuHvx7qPIbX2hl4P9Q1x89skz/U+LiFRV5OdHuvsWgoPAheOuKxjeCZwfdR2TeWDXfmqTxoXaLSQiMaMri0O/3H2Q9Stbaa7XtQMiEi8KAqD32DA79vVx/ulVOUYtIlJVCgLgkT2v4A7nn3FitUsREZlxCgKCW0431SV5w4rF1S5FRGTGKQiAJ/ce5pwVi6lNanOISPzEvuUbTGXY9XIf56g3ICIxFfsg2LGvj3TWtVtIRGIr9kGwbe9hANYrCEQkpmIfBE/uPcyyRQ0sbdFziUUknmIfBLte7uOsUxZVuwwRkaqJdRAMp7M8d/AYZ57UXO1SRESqJtZB8Pwrx0hnnTNPWljtUkREqibWQfDM/qMArFGPQERiLNZB8Oz+fhIGp7cpCEQkvmIdBF09/aw4oUkPohGRWIt1ELx46Dinnrig2mWIiFRVrINgb+9xVrQ2VrsMEZGqim0QHB1Mcfh4ivbWpmqXIiJSVbENgr2HBgBYcYJ6BCISb/ENgt7jAKxQj0BEYi6+QXAoDIITFAQiEm+xDYKXDg/QVJektam22qWIiFRVbIOgp2+Ik1saMLNqlyIiUlU1k81gZhsmmu7uj09fOTOn5+ggbQvrq12GiEjVTRoEwA0TTHPgwmmqZUb1HB1iXbseRiMiMmkQuPvbZ6KQmeTu9PQNsVQ9AhGRsnoEeWZ2NrAWyD/Oy91vm+6iotY/lGYglVEQiIhQQRCY2ReAtxEEwRbgUuAXwJwLgv19QwCcpMdTiohUdNbQ+4CLgN+5+0eBNwBz8iv1K/1BECxpnpPli4hMq0qCYMDds0DazFqAHuC0aMqK1uGBFACLdQ2BiEhFxwg6zWwx8F1gK9APPBpJVRE7EgbBokYFgYhI2UHg7n8aDn7bzO4BWtx9ezRlRasvDIIWBYGISPm7hszsgdywuz/v7tsLx02w3CVm9rSZdZnZtePM834z22lmO8zsh+XWNFVHBlKYwcL6ik6aEhGZl8q5srgBaAKWmFkrkLsnQwtwyiTLJoEbgd8HuoHHzGyzu+8smGcN8DngfHfvNbOlU/okFTgykKKloZZEQreXEBEp5yvxnwB/QdDoF95Ooo+gkZ/IuUCXu+8BMLPbgSuBnQXzfAK40d17Ady9p7zSp+7IQErHB0REQuVcWfx3wN+Z2Z+7+99XuP7lwN6C993Am4rmORPAzH4JJIEvuvs9Ff47FVEQiIiMqGQn+XfM7JPABeH7h4DvuHtqgmVK7XvxEjWsIbhYrR34FzM7290Pj1qR2TXANQArV66soOyxFAQiIiMquY7gW8Abw9fc8E2TLNMNrCh43w7sKzHPT9095e7PAU8TBMMo7n6zu3e4e0dbW1sFZY/VpyAQEcmrpEfwe+7+hoL3/2xm2yZZ5jFgjZmtBl4CNgJXF83zj8BVwPfNbAnBrqI9FdRVsWNDGZp1xpCICFBZjyBjZqfn3pjZaUBmogXcPQ1sAu4FdgF3uPsOM7vezK4IZ7sXeMXMdgIPAp9191cq+RCVOjacprEuGeU/ISIyZ1TytfizwINmtodg3/+pwMcmW8jdtxDcpK5w3HUFww78ZfgzIwaGMzQpCEREgMqC4BcE++5fQxAEv42koogNp7Oks64gEBEJVbJr6BF3H3L37e6+zd2HgEeiKiwqx4fTADTV6RiBiAiUd2XxyQTXAzSa2XpGX1ncFGFtkTg+HBzWUI9ARCRQztfii4GPEJz6eQMjQdAH/OdoyopOLgh0sFhEJFDOlcW3Area2Xvd/cfjzWdmHw7nndVyu4YWaNeQiAhQwTGCiUIg9KlXWcuM0K4hEZHRKjlYPJk5cSvPAe0aEhEZZTqDoPgeQrPSMZ01JCIySux6BNo1JCIyWiVPKFs9ybhfTktFERtMadeQiEihSnoEpQ4W35UbcPdNr76c6A2lsgDU10xnZ0hEZO4q54Ky1wJnAYvM7D0Fk1qAhqgKi8pwJgiCOgWBiAhQ3gVlrwHeBSwGLi8Yf5TgMZNzynA6CILahIJARATKu6Dsp8BPzew8d59z9xYqNpzJUps0PbheRCRUydfif2dmi3NvzKzVzG6JoKZIDaez1CXVGxARyamkRVxX+Bxhd+8F1k9/SdEaTmd1fEBEpEAlLWLCzFpzb8zsBCp7nsGskMpkqVWPQEQkr5KG/AbgX80sd8roHwFfnv6SoqUegYjIaGUHgbvfZmadwIXhqPe4+85oyorOUEZBICJSqNIWsQFIEtxOYs5dQwA6WCwiUqySW0xcB9wKtAJLgH8ws7+KqrCopNQjEBEZpZJjBFcB6919EMDM/gZ4HPivURQWFfUIRERGq6RFfJ7Ru4Pqgd3TWs0M0MFiEZHRKukRDAE7zOx+gmcP/D7wCzP7BoC7fzKC+qZdKpNlQf2cO+tVRCQylbSIPwl/ch6a3lJmxpB6BCIio1Ry+uiED6Y3sx+7+3tffUnRGtbBYhGRUaazRTxtGtcVmeF0lnodLBYRyYvdM4t1iwkRkdFi1yLqrCERkdFi9/B6BYGIyGjT2SL+p2lcV2RSWacmOScyS0RkRpTzzOLfUHr/vwHu7usIBu6b5toikck6NXo6mYhIXjmnj74r8ipmiLuTyTpJPa9YRCRv0hbR3V+Y6Gey5c3sEjN72sy6zOzaCeZ7n5m5mXVU+iHKlQ37NUlTj0BEJKfsC8rM7Cgju4jqgFrgmLu3TLBMEriR4HYU3cBjZra5+DkGZrYQ+CTw68rKr0wmTAKdPSoiMqLsJtHdF7p7S/jTALwX+OYki50LdLn7HncfBm4Hriwx318DXwUGy61nKkaCQEkgIpIz5RbR3f+RkaeVjWc5sLfgfXc4Ls/M1gMr3P1nE63IzK4xs04z6zxw4MBUSibj6hGIiBSrZNfQewreJoAOJr+auNTO+PwyZpYAvgZ8ZLJ/391vBm4G6OjomNJVzJmMegQiIsUqufvo5QXDaYLnE1wxyTLdwIqC9+3AvoL3C4GzgYcsOIB7MrDZzK5w984KaitLvkegY8UiInmVBEEC+JS7HwYws1bgBuBjEyzzGLDGzFYDLwEbgatzE939CMFjLwnX+RDwmShCAAqOEWjfkIhIXiUt4rpcCAC4ey+wfqIF3D0NbALuBXYBd7j7DjO73swm601Mu3wQ6PRREZG8inoEZtYaBgBmdkI5y7v7FmBL0bjrxpn3bRXUU7HcriFdWSwiMqKSILgB+Fczu4vggO/7gS9HUlVEcgeLEwoCEZG8Sp5QdpuZdRKcMmrAe4ovDJvt1CMQERmroqe4hw3/nGr8C2WyWUA9AhGRQrE6fSYT5IB6BCIiBWIVBOlcj0BnDYmI5MUqCLLqEYiIjBGrIMj1CJIKAhGRvFgFQTZ/0zkFgYhITqyCIJ1REIiIFItVEGTUIxARGSNeQZBVEIiIFFMQiIjEXDyDQNcRiIjkxTMI1CMQEcmLVRDkTh/VlcUiIiNiFQRhDqAcEBEZEa8gCF/VIxARGRGrIMjtGlIOiIiMiFUQ5HcNVbcMEZFZJV5BEL6qRyAiMiJeQeD5KKhqHSIis0msgiBHPQIRkRGxCgIdIxARGSteQUDurCFFgYhITryCIOwR6A4TIiIjYhUE2fyuISWBiEhOrILAdUGZiMgY8QqCahcgIjILxSoI0E3nRETGiFUQ6KwhEZGx4hUEuo5ARGSMeAVB+KoOgYjIiMiDwMwuMbOnzazLzK4tMf0vzWynmW03swfM7NSoanGdPioiMkakQWBmSeBG4FJgLXCVma0tmu0JoMPd1wF3AV+Nqp6RR1VG9S+IiMw9UfcIzgW63H2Puw8DtwNXFs7g7g+6+/Hw7a+A9qiKyZ8+qiAQEcmLOgiWA3sL3neH48bzceDuUhPM7Boz6zSzzgMHDkytmtwFZUoCEZG8qIOgVItb8rouM/sA0AH8banp7n6zu3e4e0dbW9uUitHBYhGRsWoiXn83sKLgfTuwr3gmM3sH8Hngre4+FFUxOn1URGSsqHsEjwFrzGy1mdUBG4HNhTOY2XrgO8AV7t4TZTEj9xpSFIiI5EQaBO6eBjYB9wK7gDvcfYeZXW9mV4Sz/S3QDNxpZk+a2eZxVvfq6wlfFQMiIiOi3jWEu28BthSNu65g+B1R1zDybwWv6hCIiIyI6ZXFSgIRkZx4BYGeRyAiMkbMgiB4VQ6IiIyIVxDoNtQiImPEKwjUIxARGSNeQRC+qkMgIjIiXkGg21CLiIwRryBAZw2JiBSLVxDogjIRkTFiFgS6DbWISLGYBUHwqh6BiMiIeAVB+KocEBEZEa8gyPcIFAUiIjnxCoLcWUNVrkNEZDaJVxDoGIGIyBjxCoLwVbuGRERGxCoIcFdvQESkSKyCIOs6PiAiUixWQeC4dguJiBSJVxCoRyAiMka8ggCdMSQiUixeQeC6z5CISLF4BQHaNyQiUixWQaAcEBEZK1ZB4EBCBwlEREaJVRBks7qgTESkWKyCwNGuIRGRYrEKgtcta+His06udhkiIrNKTbULmEnve2M773tje7XLEBGZVWLVIxARkbEUBCIiMacgEBGJuciDwMwuMbOnzazLzK4tMb3ezP53OP3XZrYq6ppERGREpEFgZkngRuBSYC1wlZmtLZrt40Cvu58BfA34SpQ1iYjIaFH3CM4Futx9j7sPA7cDVxbNcyVwazh8F3CR6aEBIiIzJuogWA7sLXjfHY4rOY+7p4EjwInFKzKza8ys08w6Dxw4EFG5IiLxE3UQlPpm71OYB3e/2d073L2jra1tWooTEZHoLyjrBlYUvG8H9o0zT7eZ1QCLgEMTrXTr1q0HzeyFKda0BDg4xWXjRNtpctpG5dF2Ks9MbKdTS42MOggeA9aY2WrgJWAjcHXRPJuBDwOPAO8D/tndx/QICrn7lLsEZtbp7h1TXT4utJ0mp21UHm2n8lRzO0UaBO6eNrNNwL1AErjF3XeY2fVAp7tvBr4H/MDMugh6AhujrElEREaL/F5D7r4F2FI07rqC4UHgj6KuQ0RESovjlcU3V7uAOULbaXLaRuXRdipP1baTTbI7XkRE5rk49ghERKSAgkBEJOZiFQST3QBvvjOz583sN2b2pJl1huNOMLP7zezZ8LU1HG9m9o1wW203sw0F6/lwOP+zZvbhan2e6WJmt5hZj5k9VTBu2raLmb0x3O5d4bJz7hYq42yjL5rZS+Hv05NmdlnBtM+Fn/dpM7u4YHzJv0EzWx3edPLZ8CaUdTP36aaPma0wswfNbJeZ7TCzT4XjZ/fvk7vH4ofg9NXdwGlAHbANWFvtumZ4GzwPLCka91Xg2nD4WuAr4fBlwN0EV36/Gfh1OP4EYE/42hoOt1b7s73K7XIBsAF4KortAjwKnBcuczdwabU/8zRtoy8Cnykx79rw76seWB3+3SUn+hsE7gA2hsPfBv59tT/zFLfTMmBDOLwQeCbcHrP69ylOPYJyboAXR4U3/bsV+MOC8bd54FfAYjNbBlwM3O/uh9y9F7gfuGSmi55O7v4wY69mn5btEk5rcfdHPPgrvq1gXXPGONtoPFcCt7v7kLs/B3QR/P2V/BsMv9FeSHDTSRi9vecUd3/Z3R8Ph48Cuwjupzarf5/iFATl3ABvvnPgPjPbambXhONOcveXIfglBpaG48fbXnHZjtO1XZaHw8Xj54tN4S6NW3K7O6h8G50IHPbgppOF4+c0C56tsh74NbP89ylOQVDWze3mufPdfQPB8yH+zMwumGDe8bZX3LdjpdtlPm+vm4DTgXOAl4EbwvGx30Zm1gz8GPgLd++baNYS42Z8W8UpCMq5Ad685u77wtce4CcEXfX9YXeT8LUnnH287RWX7Thd26U7HC4eP+e5+353z7h7Fvguwe8TVL6NDhLsEqkpGj8nmVktQQj8L3f/P+HoWf37FKcgyN8ALzwjYSPBDe9iwcwWmNnC3DDwTuApRm76R/j603B4M/Ch8KyGNwNHwi7tvcA7zaw13BXwznDcfDMt2yWcdtTM3hzuC/9QwbrmtFzDFno3we8TBNtoowWPoV0NrCE4wFnybzDc1/0gwU0nYfT2nlPC/+PvAbvc/X8UTJrdv0/VPso+kz8ER+ifIThz4fPVrmeGP/tpBGdpbAN25D4/wf7ZB4Bnw9cTwvFG8JjR3cBvgI6CdX2M4ABgF/DRan+2adg2PyLYtZEi+Mb18encLkAHQSO5G/gm4RX9c+lnnG30g3AbbCdo0JYVzP/58PM+TcFZLeP9DYa/n4+G2+5OoL7an3mK2+ktBLtqtgNPhj+XzfbfJ91iQkQk5uK0a0hEREpQEIiIxJyCQEQk5hQEIiIxpyAQEYk5BYHIDAjv1PmZatchUoqCQKRC4cU/+tuReUO/zCJlMLNV4T3mvwU8DnzPzDrDe85/qWC+583sS2b2eHjP+NeWWNcnzOxuM2ucyc8gMh4FgUj5XkNwy+D1wKfdvQNYB7zVzNYVzHfQg5v73QSM2h1kZpuAy4E/dPeBGapbZEIKApHyveDBPeMB3m9mjwNPAGcRPHwkJ3ejsa3AqoLxHyS48+t73X0o4lpFyqYgECnfMQgeq0jwTf8id18H/BPQUDBfrpHPADUF458iCIbCu0eKVJ2CQKRyLQShcMTMTiL4ll+OJ4A/ATab2SlRFSdSKQWBSIXcfRtBo74DuAX4ZQXL/oKgN/FPZrYkmgpFKqO7j4qIxJx6BCIiMacgEBGJOQWBiEjMKQhERGJOQSAiEnMKAhGRmFMQiIjE3P8HL8RbL1SaaZcAAAAASUVORK5CYII=\n"
     },
     "metadata": {
      "needs_background": "light"
     },
     "output_type": "display_data"
    }
   ],
   "source": [
    "# import seaborn as sns\n",
    "\n",
    "# Cumulative Distribution Plot\n",
<<<<<<< HEAD
    "sns.lineplot(x='rank', y='cul_pct_total', data=wc)"
=======
    "sns.lineplot(x='rank', y='cul_pct_total', data=wc);"
   ]
  },
  {
   "cell_type": "code",
   "execution_count": null,
   "metadata": {},
   "outputs": [],
   "source": [
    "wc[wc['rank'] <= 20]['cul_pct_total'].max()"
>>>>>>> 98c7a82f2df191841871eff71c81743b5d7051d3
   ]
  },
  {
   "cell_type": "code",
   "execution_count": 17,
   "metadata": {
    "pycharm": {
     "is_executing": false
    }
   },
   "outputs": [
    {
     "data": {
      "text/plain": "<Figure size 432x288 with 1 Axes>",
      "image/png": "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\n"
     },
     "metadata": {
      "needs_background": "light"
     },
     "output_type": "display_data"
    }
   ],
   "source": [
    "wc_top20 = wc[wc['rank'] <= 20]\n",
    "\n",
    "squarify.plot(sizes=wc_top20['pct_total'], label=wc_top20['word'], alpha=.8 )\n",
    "plt.axis('off')\n",
    "plt.show()"
   ]
  },
  {
   "cell_type": "markdown",
   "metadata": {},
   "source": [
    "### Processing Raw Text with Spacy\n",
    "\n",
    "Spacy's datamodel for documents is unique among NLP libraries. Instead of storing the documents components repeatively in various datastructures, Spacy indexes components and simply stores the lookup informaiton. \n",
    "\n",
    "This is often why Spacy is considered to be more production grade than library like NLTK."
   ]
  },
  {
   "cell_type": "code",
   "execution_count": 18,
   "metadata": {
    "pycharm": {
     "is_executing": false
    }
   },
   "outputs": [],
   "source": [
    "# import spacy\n",
    "# from spacy.tokenizer import Tokenizer\n",
    "\n",
    "# nlp = spacy.load(\"en_core_web_sm\")\n",
    "\n",
<<<<<<< HEAD
    "# Tokenizer\n",
    "tokenizer = Tokenizer(nlp.vocab)"
=======
    "# Tokenizer\n"
   ]
  },
  {
   "cell_type": "code",
   "execution_count": null,
   "metadata": {},
   "outputs": [],
   "source": [
    "# Print out list of tokens\n"
>>>>>>> 98c7a82f2df191841871eff71c81743b5d7051d3
   ]
  },
  {
   "cell_type": "code",
   "execution_count": 19,
   "metadata": {
    "pycharm": {
     "is_executing": false
    }
   },
   "outputs": [],
   "source": [
    "# [token.text for token in tokenizer(sample)]\n",
    "# Tokenizer Pipe\n",
    "\n",
    "tokens = []\n",
    "\n",
    "\"\"\" Make them tokens \"\"\"\n",
<<<<<<< HEAD
    "for doc in tokenizer.pipe(df['reviews.text'], batch_size=500):\n",
    "    doc_tokens = [token.text for token in doc]\n",
    "    tokens.append(doc_tokens)\n",
=======
    "\n",
    "    \n",
>>>>>>> 98c7a82f2df191841871eff71c81743b5d7051d3
    "df['tokens'] = tokens"
   ]
  },
  {
   "cell_type": "code",
   "execution_count": 20,
   "metadata": {
    "pycharm": {
     "is_executing": false
    }
   },
   "outputs": [
    {
     "data": {
      "text/plain": "0    [I, order, 3, of, them, and, one, of, the, ite...\n1    [Bulk, is, always, the, less, expensive, way, ...\n2    [Well, they, are, not, Duracell, but, for, the...\n3    [Seem, to, work, as, well, as, name, brand, ba...\n4    [These, batteries, are, very, long, lasting, t...\nName: tokens, dtype: object"
     },
     "metadata": {},
     "output_type": "execute_result",
     "execution_count": 20
    }
   ],
   "source": [
    "df['tokens'].head()"
   ]
  },
  {
   "cell_type": "code",
   "execution_count": 21,
   "metadata": {
    "pycharm": {
     "is_executing": false
    }
   },
   "outputs": [],
   "source": [
    "wc = count(df['tokens'])"
   ]
  },
  {
   "cell_type": "code",
   "execution_count": 22,
   "metadata": {
    "pycharm": {
     "is_executing": false
    }
   },
   "outputs": [
    {
     "data": {
      "text/plain": "   word  appears_in  count  rank  pct_total  cul_pct_total  appears_in_pct\n1   the       12316  25154   1.0   0.034219       0.034219        0.434703\n9   and       13541  21850   2.0   0.029725       0.063944        0.477940\n16    I        9913  19762   3.0   0.026884       0.090828        0.349887\n6    to       11227  19324   4.0   0.026288       0.117117        0.396266\n31  for       11790  17197   5.0   0.023395       0.140512        0.416137",
      "text/html": "<div>\n<style scoped>\n    .dataframe tbody tr th:only-of-type {\n        vertical-align: middle;\n    }\n\n    .dataframe tbody tr th {\n        vertical-align: top;\n    }\n\n    .dataframe thead th {\n        text-align: right;\n    }\n</style>\n<table border=\"1\" class=\"dataframe\">\n  <thead>\n    <tr style=\"text-align: right;\">\n      <th></th>\n      <th>word</th>\n      <th>appears_in</th>\n      <th>count</th>\n      <th>rank</th>\n      <th>pct_total</th>\n      <th>cul_pct_total</th>\n      <th>appears_in_pct</th>\n    </tr>\n  </thead>\n  <tbody>\n    <tr>\n      <th>1</th>\n      <td>the</td>\n      <td>12316</td>\n      <td>25154</td>\n      <td>1.0</td>\n      <td>0.034219</td>\n      <td>0.034219</td>\n      <td>0.434703</td>\n    </tr>\n    <tr>\n      <th>9</th>\n      <td>and</td>\n      <td>13541</td>\n      <td>21850</td>\n      <td>2.0</td>\n      <td>0.029725</td>\n      <td>0.063944</td>\n      <td>0.477940</td>\n    </tr>\n    <tr>\n      <th>16</th>\n      <td>I</td>\n      <td>9913</td>\n      <td>19762</td>\n      <td>3.0</td>\n      <td>0.026884</td>\n      <td>0.090828</td>\n      <td>0.349887</td>\n    </tr>\n    <tr>\n      <th>6</th>\n      <td>to</td>\n      <td>11227</td>\n      <td>19324</td>\n      <td>4.0</td>\n      <td>0.026288</td>\n      <td>0.117117</td>\n      <td>0.396266</td>\n    </tr>\n    <tr>\n      <th>31</th>\n      <td>for</td>\n      <td>11790</td>\n      <td>17197</td>\n      <td>5.0</td>\n      <td>0.023395</td>\n      <td>0.140512</td>\n      <td>0.416137</td>\n    </tr>\n  </tbody>\n</table>\n</div>"
     },
     "metadata": {},
     "output_type": "execute_result",
     "execution_count": 22
    }
   ],
   "source": [
    "wc.head()"
   ]
  },
  {
   "cell_type": "code",
   "execution_count": 23,
   "metadata": {
    "pycharm": {
     "is_executing": false
    }
   },
   "outputs": [
    {
     "data": {
      "text/plain": "<Figure size 432x288 with 1 Axes>",
      "image/png": "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\n"
     },
     "metadata": {
      "needs_background": "light"
     },
     "output_type": "display_data"
    }
   ],
   "source": [
    "wc_top20 = wc[wc['rank'] <= 20]\n",
    "\n",
    "squarify.plot(sizes=wc_top20['pct_total'], label=wc_top20['word'], alpha=.8 )\n",
    "plt.axis('off')\n",
    "plt.show()"
   ]
  },
  {
   "cell_type": "markdown",
   "metadata": {},
   "source": [
    "## Stop Words\n",
    "<a id=\"p2\"></a>\n",
    "\n",
    "Section Agenda\n",
    "- What are they?\n",
    "- How do we get rid of them using Spacy?\n",
    "- Visualization\n",
    "- Libraries of Stop Words\n",
    "- Extending Stop Words\n",
    "- Statistical trimming\n",
    "\n",
    "If the visualizations above, you began to notice a pattern. Most of the words don't really add much to our undertanding of product reviews. Words such as \"I\", \"and\", \"of\", etc. have almost no semantic meaning to us. We call these useless words \"stop words,\" because we should 'stop' ourselves from including them in the analysis. \n",
    "\n",
    "Most NLP libraries have built in lists of stop words that common english words: conjunctions, articles, adverbs, pronouns, and common verbs. The best practice, however, is to extend/customize these standard english stopwords for your problem's domain. If I am studying political science, I may want to exclude the word \"politics\" from my analysis; it's so common it does not add to my understanding. "
   ]
  },
  {
   "cell_type": "markdown",
   "metadata": {},
   "source": [
    "### Default Stop Words\n",
    "Let's take a look at the standard stop words that came with our spacy model:"
   ]
  },
  {
   "cell_type": "code",
   "execution_count": 24,
   "metadata": {
    "pycharm": {
     "is_executing": false
    }
   },
   "outputs": [],
   "source": [
    "# Spacy's Default Stop Words\n"
   ]
  },
  {
   "cell_type": "code",
   "execution_count": 25,
   "metadata": {
    "pycharm": {
     "is_executing": false
    }
   },
   "outputs": [],
   "source": [
    "tokens = []\n",
    "\n",
<<<<<<< HEAD
    "\"\"\" Update those tokens \"\"\"\n",
    "for doc in tokenizer.pipe(df['reviews.text'], batch_size=500):\n",
    "    doc_tokens = []\n",
    "    for token in doc:\n",
    "        if not token.is_stop and not token.is_punct:\n",
    "            doc_tokens.append(token.text.lower())\n",
    "    tokens.append(doc_tokens)\n",
    "    \n",
=======
    "\"\"\" Update those tokens w/o stopwords\"\"\"\n",
    "\n",
    "            \n",
>>>>>>> 98c7a82f2df191841871eff71c81743b5d7051d3
    "df['tokens'] = tokens"
   ]
  },
  {
   "cell_type": "code",
   "execution_count": 26,
   "metadata": {
    "pycharm": {
     "is_executing": false
    }
   },
   "outputs": [
    {
     "data": {
      "text/plain": "0    [order, 3, item, bad, quality., missing, backu...\n1               [bulk, expensive, way, products, like]\n2                            [duracell, price, happy.]\n3              [work, brand, batteries, better, price]\n4            [batteries, long, lasting, price, great.]\nName: tokens, dtype: object"
     },
     "metadata": {},
     "output_type": "execute_result",
     "execution_count": 26
    }
   ],
   "source": [
    "df.tokens.head()"
   ]
  },
  {
   "cell_type": "code",
   "execution_count": 27,
   "metadata": {
    "pycharm": {
     "is_executing": false
    }
   },
   "outputs": [
    {
     "data": {
      "text/plain": "<Figure size 432x288 with 1 Axes>",
      "image/png": "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\n"
     },
     "metadata": {
      "needs_background": "light"
     },
     "output_type": "display_data"
    }
   ],
   "source": [
    "wc = count(df['tokens'])\n",
    "\n",
    "wc_top20 = wc[wc['rank'] <= 20]\n",
    "\n",
    "squarify.plot(sizes=wc_top20['pct_total'], label=wc_top20['word'], alpha=.8 )\n",
    "plt.axis('off')\n",
    "plt.show()"
   ]
  },
  {
   "cell_type": "markdown",
   "metadata": {},
   "source": [
    "### Extending Stop Words\n"
   ]
  },
  {
   "cell_type": "code",
   "execution_count": 28,
   "metadata": {
    "pycharm": {
     "is_executing": false
    }
   },
   "outputs": [
    {
     "name": "stdout",
     "text": [
      "{'often', 'only', 'again', \"'ve\", 'although', 'do', 'whence', 'to', 'nobody', 'side', 'four', 'will', \"'s\", 'why', 'anyone', 'of', 'have', 'few', 'noone', 'throughout', 'well', 'whereupon', 'someone', 'wherein', 'otherwise', 'whether', 'nevertheless', 'seems', 'whereafter', 'any', 'something', 'ours', 'within', 'very', 'afterwards', 'behind', 'whenever', 'seem', 'name', 'no', 'another', 'several', 'now', 'onto', 'cannot', 'somehow', 'becomes', 'except', 'thru', 'are', 'else', 'besides', 'further', 'without', 'these', 'used', 'might', 'latter', 'twelve', 'call', 'thus', 'various', 'themselves', 'anything', 'my', 'made', 'more', 'thereafter', 'n’t', 'hereafter', 'until', 'from', 'what', 'everyone', 'not', 'be', 'per', 'moreover', 'had', 'his', 'all', 'at', 'here', 'yourselves', 'hereby', 'everywhere', 're', 'really', 'becoming', 'enough', 'herself', 'even', 'just', 'us', 'may', 'make', 'they', 'a', 'has', 'it', 'two', 'rather', 'doing', 'who', 'once', 'other', 'latterly', 'as', 'because', 'she', 'off', 'formerly', 'using', 'quite', 'via', 'under', 'take', 'move', 'never', 'or', 'sixty', 'sometimes', 'same', 'you', 'ourselves', 'where', 'put', 'could', 'yours', 'among', 'next', '’ll', 'in', 'how', 'already', 'during', 'together', 'every', 'yourself', 'thence', \"'m\", 'am', 'much', 'become', 'since', 'was', 'whole', 'whatever', 'whoever', 'some', 'eight', 'her', 'amongst', 'on', 'whose', 'hence', 'both', 'too', 'first', 'please', 'your', 'beside', '’s', 'the', 'an', 'forty', '‘m', 'eleven', 'whither', 'did', 'around', 'each', 'such', 'top', 'thereupon', 'less', 'none', 'n‘t', 'anyway', 'can', 'thereby', \"'re\", 'five', 'hundred', 'when', 'six', 'been', 'upon', 'by', \"'d\", 'he', 'whereby', 'sometime', 'himself', 'should', 'towards', 'must', 'and', 'back', 'others', 'own', 'then', 'serious', 'whom', '’re', 'wherever', '’ve', 'so', 'those', 'anywhere', 'meanwhile', 'our', 'nowhere', 'itself', 'their', 'unless', 'down', 'nor', 'being', 'seemed', 'neither', 'perhaps', 'one', 'into', 'this', 'third', 'almost', 'indeed', 'twenty', 'for', 'along', 'across', 'hers', 'nine', 'mostly', 'below', 'part', 'through', 'empty', 'its', 'everything', 'me', 'still', 'bottom', 'about', 'ever', 'ca', 'show', 'full', 'i', '’d', 'though', 'became', 'is', 'keep', 'many', 'with', 'namely', 'done', 'say', 'herein', 'yet', '’m', 'go', 'therefore', 'seeming', 'front', '‘d', 'due', 'while', 'after', 'last', 'most', 'beforehand', 'up', 'were', 'him', 'beyond', 'would', 'above', 'hereupon', \"'ll\", 'anyhow', 'that', 'fifteen', '‘ve', 'there', '‘ll', 'see', 'than', 'mine', '‘s', \"n't\", 'ten', 'before', 'fifty', 'however', 'always', 'elsewhere', 'give', 'three', 'toward', 'over', 'between', 'therein', 'whereas', 'get', 'either', 'least', 'nothing', 'which', 'myself', 'also', 'them', 'amount', 'we', '‘re', 'if', 'somewhere', 'out', 'but', 'regarding', 'does', 'alone', 'against', 'former'}\n"
     ],
     "output_type": "stream"
    }
   ],
   "source": [
    "print(nlp.Defaults.stop_words)"
   ]
  },
  {
   "cell_type": "code",
   "execution_count": 29,
   "metadata": {
    "pycharm": {
     "is_executing": false
    }
   },
   "outputs": [],
   "source": [
<<<<<<< HEAD
    "STOP_WORDS = nlp.Defaults.stop_words.union(['i', 'I', 'Amazon', 'amazon'])"
=======
    "STOP_WORDS = nlp.Defaults.stop_words.union(['I', 'amazon', 'i', 'Amazon', 'it', \"it's\", 'it.', 'the', 'this',])"
   ]
  },
  {
   "cell_type": "code",
   "execution_count": null,
   "metadata": {},
   "outputs": [],
   "source": [
    "STOP_WORDS"
>>>>>>> 98c7a82f2df191841871eff71c81743b5d7051d3
   ]
  },
  {
   "cell_type": "code",
   "execution_count": 30,
   "metadata": {
    "pycharm": {
     "is_executing": false
    }
   },
   "outputs": [],
   "source": [
    "tokens = []\n",
    "\n",
    "for doc in tokenizer.pipe(df['reviews.text'], batch_size=500):\n",
    "    \n",
    "    doc_tokens = []\n",
    "    \n",
    "    for token in doc: \n",
<<<<<<< HEAD
    "        if token.text.lower() not in STOP_WORDS:\n",
=======
    "        if token.text not in STOP_WORDS:\n",
>>>>>>> 98c7a82f2df191841871eff71c81743b5d7051d3
    "            doc_tokens.append(token.text.lower())\n",
    "   \n",
    "    tokens.append(doc_tokens)\n",
    "    \n",
    "df['tokens'] = tokens"
   ]
  },
  {
   "cell_type": "code",
   "execution_count": 31,
   "metadata": {
    "pycharm": {
     "is_executing": false
    }
   },
   "outputs": [
    {
     "data": {
      "text/plain": "           word  appears_in  count  rank  pct_total  cul_pct_total  \\\n71        great        7187   8183   1.0   0.023256       0.023256   \n22    batteries        3964   5671   2.0   0.016117       0.039373   \n68         good        4633   5148   3.0   0.014631       0.054003   \n7811     tablet        3920   4714   4.0   0.013397       0.067400   \n107        love        3154   3458   5.0   0.009828       0.077228   \n\n      appears_in_pct  \n71          0.253671  \n22          0.139912  \n68          0.163525  \n7811        0.138359  \n107         0.111323  ",
      "text/html": "<div>\n<style scoped>\n    .dataframe tbody tr th:only-of-type {\n        vertical-align: middle;\n    }\n\n    .dataframe tbody tr th {\n        vertical-align: top;\n    }\n\n    .dataframe thead th {\n        text-align: right;\n    }\n</style>\n<table border=\"1\" class=\"dataframe\">\n  <thead>\n    <tr style=\"text-align: right;\">\n      <th></th>\n      <th>word</th>\n      <th>appears_in</th>\n      <th>count</th>\n      <th>rank</th>\n      <th>pct_total</th>\n      <th>cul_pct_total</th>\n      <th>appears_in_pct</th>\n    </tr>\n  </thead>\n  <tbody>\n    <tr>\n      <th>71</th>\n      <td>great</td>\n      <td>7187</td>\n      <td>8183</td>\n      <td>1.0</td>\n      <td>0.023256</td>\n      <td>0.023256</td>\n      <td>0.253671</td>\n    </tr>\n    <tr>\n      <th>22</th>\n      <td>batteries</td>\n      <td>3964</td>\n      <td>5671</td>\n      <td>2.0</td>\n      <td>0.016117</td>\n      <td>0.039373</td>\n      <td>0.139912</td>\n    </tr>\n    <tr>\n      <th>68</th>\n      <td>good</td>\n      <td>4633</td>\n      <td>5148</td>\n      <td>3.0</td>\n      <td>0.014631</td>\n      <td>0.054003</td>\n      <td>0.163525</td>\n    </tr>\n    <tr>\n      <th>7811</th>\n      <td>tablet</td>\n      <td>3920</td>\n      <td>4714</td>\n      <td>4.0</td>\n      <td>0.013397</td>\n      <td>0.067400</td>\n      <td>0.138359</td>\n    </tr>\n    <tr>\n      <th>107</th>\n      <td>love</td>\n      <td>3154</td>\n      <td>3458</td>\n      <td>5.0</td>\n      <td>0.009828</td>\n      <td>0.077228</td>\n      <td>0.111323</td>\n    </tr>\n  </tbody>\n</table>\n</div>"
     },
     "metadata": {},
     "output_type": "execute_result",
     "execution_count": 31
    }
   ],
   "source": [
    "wc = count(df['tokens'])\n",
    "wc.head()"
   ]
  },
  {
   "cell_type": "code",
   "execution_count": 32,
   "metadata": {
    "pycharm": {
     "is_executing": false
    }
   },
   "outputs": [
    {
     "data": {
      "text/plain": "<Figure size 432x288 with 1 Axes>",
      "image/png": "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\n"
     },
     "metadata": {
      "needs_background": "light"
     },
     "output_type": "display_data"
    }
   ],
   "source": [
    "wc_top20 = wc[wc['rank'] <= 20]\n",
    "\n",
    "squarify.plot(sizes=wc_top20['pct_total'], label=wc_top20['word'], alpha=.8 )\n",
    "plt.axis('off')\n",
    "plt.show()"
   ]
  },
  {
   "cell_type": "markdown",
   "metadata": {},
   "source": [
    "### Statistical Trimming\n",
    "\n",
    "So far, we have talked about stop word in relation to either broad english words or domain specific stop words. Another common approach to stop word removal is via statistical trimming. The basic idea: preserve the words that give the most about of variation in your data. \n",
    "\n",
    "Do you remember this graph?"
   ]
  },
  {
   "cell_type": "code",
   "execution_count": 33,
   "metadata": {
    "pycharm": {
     "is_executing": false
    }
   },
   "outputs": [
    {
     "data": {
      "text/plain": "<Figure size 432x288 with 1 Axes>",
      "image/png": "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\n"
     },
     "metadata": {
      "needs_background": "light"
     },
     "output_type": "display_data"
    }
   ],
   "source": [
    "sns.lineplot(x='rank', y='cul_pct_total', data=wc);"
   ]
  },
  {
   "cell_type": "markdown",
   "metadata": {},
   "source": [
    "This graph tells us that only a *handful* of words represented 80% of words in the overall corpus. We can interpret this in two ways: \n",
    "1. The words that appear most frequently may not provide any insight into the mean on the documens since they are so prevalent. \n",
    "2. Words that appear infrequeny (at the end of the graph) also probably do not add much value, because the are mentioned so rarely. \n",
    "\n",
    "Let's take a look at the words at the bottom and the top and make a decision for ourselves:"
   ]
  },
  {
   "cell_type": "code",
   "execution_count": 34,
   "metadata": {
    "pycharm": {
     "is_executing": false
    }
   },
   "outputs": [
    {
     "data": {
      "text/plain": "             word  appears_in  count  rank  pct_total  cul_pct_total  \\\n71          great        7187   8183   1.0   0.023256       0.023256   \n22      batteries        3964   5671   2.0   0.016117       0.039373   \n68           good        4633   5148   3.0   0.014631       0.054003   \n7811       tablet        3920   4714   4.0   0.013397       0.067400   \n107          love        3154   3458   5.0   0.009828       0.077228   \n106           use        2881   3233   6.0   0.009188       0.086416   \n35         bought        2916   3111   7.0   0.008841       0.095258   \n1345         easy        2598   2823   8.0   0.008023       0.103281   \n19          price        2672   2808   9.0   0.007980       0.111261   \n653           it.        2356   2489  10.0   0.007074       0.118334   \n14           like        2127   2403  11.0   0.006829       0.125164   \n5590       kindle        1805   2315  12.0   0.006579       0.131743   \n4481        loves        2086   2198  13.0   0.006247       0.137990   \n26           long        2085   2193  14.0   0.006232       0.144222   \n600          it's        1806   2164  15.0   0.006150       0.150372   \n21           work        1914   1997  16.0   0.005675       0.156048   \n241          kids        1657   1922  17.0   0.005462       0.161510   \n38            buy        1783   1915  18.0   0.005442       0.166952   \n1426         fire        1570   1836  19.0   0.005218       0.172170   \n8         battery        1578   1788  20.0   0.005081       0.177252   \n1422          old        1643   1752  21.0   0.004979       0.182231   \n121          year        1444   1614  22.0   0.004587       0.186818   \n158    batteries.        1427   1548  23.0   0.004399       0.191217   \n60         price.        1435   1465  24.0   0.004164       0.195381   \n108         works        1427   1448  25.0   0.004115       0.199496   \n215          time        1219   1366  26.0   0.003882       0.203378   \n138         don't        1192   1350  27.0   0.003837       0.207215   \n11099     tablet.        1253   1327  28.0   0.003771       0.210986   \n356       product        1232   1302  29.0   0.003700       0.214686   \n538          best        1171   1273  30.0   0.003618       0.218304   \n3328         apps        1106   1262  31.0   0.003587       0.221891   \n160     purchased        1185   1256  32.0   0.003570       0.225460   \n116           got        1182   1247  33.0   0.003544       0.229004   \n20         better        1101   1200  34.0   0.003410       0.232415   \n3689       screen        1043   1184  35.0   0.003365       0.235779   \n1132        games        1061   1130  36.0   0.003211       0.238991   \n660          play         965   1071  37.0   0.003044       0.242035   \n222          nice        1008   1069  38.0   0.003038       0.245073   \n23          brand         957   1045  39.0   0.002970       0.248043   \n1032      quality         975   1008  40.0   0.002865       0.250907   \n1396         read         880    985  41.0   0.002799       0.253707   \n775        little         899    968  42.0   0.002751       0.256458   \n674           i'm         819    966  43.0   0.002745       0.259203   \n136       perfect         922    959  44.0   0.002725       0.261929   \n206     recommend         942    952  45.0   0.002706       0.264634   \n333           new         845    934  46.0   0.002654       0.267288   \n291             2         809    892  47.0   0.002535       0.269824   \n733          use.         881    892  48.0   0.002535       0.272359   \n1761      reading         822    890  49.0   0.002529       0.274888   \n73          can't         843    884  50.0   0.002512       0.277400   \n\n       appears_in_pct  \n71           0.253671  \n22           0.139912  \n68           0.163525  \n7811         0.138359  \n107          0.111323  \n106          0.101687  \n35           0.102922  \n1345         0.091698  \n19           0.094310  \n653          0.083157  \n14           0.075074  \n5590         0.063709  \n4481         0.073627  \n26           0.073592  \n600          0.063744  \n21           0.067556  \n241          0.058485  \n38           0.062932  \n1426         0.055414  \n8            0.055697  \n1422         0.057991  \n121          0.050967  \n158          0.050367  \n60           0.050649  \n108          0.050367  \n215          0.043026  \n138          0.042073  \n11099        0.044226  \n356          0.043484  \n538          0.041331  \n3328         0.039037  \n160          0.041825  \n116          0.041720  \n20           0.038861  \n3689         0.036813  \n1132         0.037449  \n660          0.034060  \n222          0.035578  \n23           0.033778  \n1032         0.034413  \n1396         0.031060  \n775          0.031731  \n674          0.028907  \n136          0.032543  \n206          0.033249  \n333          0.029825  \n291          0.028554  \n733          0.031096  \n1761         0.029013  \n73           0.029754  ",
      "text/html": "<div>\n<style scoped>\n    .dataframe tbody tr th:only-of-type {\n        vertical-align: middle;\n    }\n\n    .dataframe tbody tr th {\n        vertical-align: top;\n    }\n\n    .dataframe thead th {\n        text-align: right;\n    }\n</style>\n<table border=\"1\" class=\"dataframe\">\n  <thead>\n    <tr style=\"text-align: right;\">\n      <th></th>\n      <th>word</th>\n      <th>appears_in</th>\n      <th>count</th>\n      <th>rank</th>\n      <th>pct_total</th>\n      <th>cul_pct_total</th>\n      <th>appears_in_pct</th>\n    </tr>\n  </thead>\n  <tbody>\n    <tr>\n      <th>71</th>\n      <td>great</td>\n      <td>7187</td>\n      <td>8183</td>\n      <td>1.0</td>\n      <td>0.023256</td>\n      <td>0.023256</td>\n      <td>0.253671</td>\n    </tr>\n    <tr>\n      <th>22</th>\n      <td>batteries</td>\n      <td>3964</td>\n      <td>5671</td>\n      <td>2.0</td>\n      <td>0.016117</td>\n      <td>0.039373</td>\n      <td>0.139912</td>\n    </tr>\n    <tr>\n      <th>68</th>\n      <td>good</td>\n      <td>4633</td>\n      <td>5148</td>\n      <td>3.0</td>\n      <td>0.014631</td>\n      <td>0.054003</td>\n      <td>0.163525</td>\n    </tr>\n    <tr>\n      <th>7811</th>\n      <td>tablet</td>\n      <td>3920</td>\n      <td>4714</td>\n      <td>4.0</td>\n      <td>0.013397</td>\n      <td>0.067400</td>\n      <td>0.138359</td>\n    </tr>\n    <tr>\n      <th>107</th>\n      <td>love</td>\n      <td>3154</td>\n      <td>3458</td>\n      <td>5.0</td>\n      <td>0.009828</td>\n      <td>0.077228</td>\n      <td>0.111323</td>\n    </tr>\n    <tr>\n      <th>106</th>\n      <td>use</td>\n      <td>2881</td>\n      <td>3233</td>\n      <td>6.0</td>\n      <td>0.009188</td>\n      <td>0.086416</td>\n      <td>0.101687</td>\n    </tr>\n    <tr>\n      <th>35</th>\n      <td>bought</td>\n      <td>2916</td>\n      <td>3111</td>\n      <td>7.0</td>\n      <td>0.008841</td>\n      <td>0.095258</td>\n      <td>0.102922</td>\n    </tr>\n    <tr>\n      <th>1345</th>\n      <td>easy</td>\n      <td>2598</td>\n      <td>2823</td>\n      <td>8.0</td>\n      <td>0.008023</td>\n      <td>0.103281</td>\n      <td>0.091698</td>\n    </tr>\n    <tr>\n      <th>19</th>\n      <td>price</td>\n      <td>2672</td>\n      <td>2808</td>\n      <td>9.0</td>\n      <td>0.007980</td>\n      <td>0.111261</td>\n      <td>0.094310</td>\n    </tr>\n    <tr>\n      <th>653</th>\n      <td>it.</td>\n      <td>2356</td>\n      <td>2489</td>\n      <td>10.0</td>\n      <td>0.007074</td>\n      <td>0.118334</td>\n      <td>0.083157</td>\n    </tr>\n    <tr>\n      <th>14</th>\n      <td>like</td>\n      <td>2127</td>\n      <td>2403</td>\n      <td>11.0</td>\n      <td>0.006829</td>\n      <td>0.125164</td>\n      <td>0.075074</td>\n    </tr>\n    <tr>\n      <th>5590</th>\n      <td>kindle</td>\n      <td>1805</td>\n      <td>2315</td>\n      <td>12.0</td>\n      <td>0.006579</td>\n      <td>0.131743</td>\n      <td>0.063709</td>\n    </tr>\n    <tr>\n      <th>4481</th>\n      <td>loves</td>\n      <td>2086</td>\n      <td>2198</td>\n      <td>13.0</td>\n      <td>0.006247</td>\n      <td>0.137990</td>\n      <td>0.073627</td>\n    </tr>\n    <tr>\n      <th>26</th>\n      <td>long</td>\n      <td>2085</td>\n      <td>2193</td>\n      <td>14.0</td>\n      <td>0.006232</td>\n      <td>0.144222</td>\n      <td>0.073592</td>\n    </tr>\n    <tr>\n      <th>600</th>\n      <td>it's</td>\n      <td>1806</td>\n      <td>2164</td>\n      <td>15.0</td>\n      <td>0.006150</td>\n      <td>0.150372</td>\n      <td>0.063744</td>\n    </tr>\n    <tr>\n      <th>21</th>\n      <td>work</td>\n      <td>1914</td>\n      <td>1997</td>\n      <td>16.0</td>\n      <td>0.005675</td>\n      <td>0.156048</td>\n      <td>0.067556</td>\n    </tr>\n    <tr>\n      <th>241</th>\n      <td>kids</td>\n      <td>1657</td>\n      <td>1922</td>\n      <td>17.0</td>\n      <td>0.005462</td>\n      <td>0.161510</td>\n      <td>0.058485</td>\n    </tr>\n    <tr>\n      <th>38</th>\n      <td>buy</td>\n      <td>1783</td>\n      <td>1915</td>\n      <td>18.0</td>\n      <td>0.005442</td>\n      <td>0.166952</td>\n      <td>0.062932</td>\n    </tr>\n    <tr>\n      <th>1426</th>\n      <td>fire</td>\n      <td>1570</td>\n      <td>1836</td>\n      <td>19.0</td>\n      <td>0.005218</td>\n      <td>0.172170</td>\n      <td>0.055414</td>\n    </tr>\n    <tr>\n      <th>8</th>\n      <td>battery</td>\n      <td>1578</td>\n      <td>1788</td>\n      <td>20.0</td>\n      <td>0.005081</td>\n      <td>0.177252</td>\n      <td>0.055697</td>\n    </tr>\n    <tr>\n      <th>1422</th>\n      <td>old</td>\n      <td>1643</td>\n      <td>1752</td>\n      <td>21.0</td>\n      <td>0.004979</td>\n      <td>0.182231</td>\n      <td>0.057991</td>\n    </tr>\n    <tr>\n      <th>121</th>\n      <td>year</td>\n      <td>1444</td>\n      <td>1614</td>\n      <td>22.0</td>\n      <td>0.004587</td>\n      <td>0.186818</td>\n      <td>0.050967</td>\n    </tr>\n    <tr>\n      <th>158</th>\n      <td>batteries.</td>\n      <td>1427</td>\n      <td>1548</td>\n      <td>23.0</td>\n      <td>0.004399</td>\n      <td>0.191217</td>\n      <td>0.050367</td>\n    </tr>\n    <tr>\n      <th>60</th>\n      <td>price.</td>\n      <td>1435</td>\n      <td>1465</td>\n      <td>24.0</td>\n      <td>0.004164</td>\n      <td>0.195381</td>\n      <td>0.050649</td>\n    </tr>\n    <tr>\n      <th>108</th>\n      <td>works</td>\n      <td>1427</td>\n      <td>1448</td>\n      <td>25.0</td>\n      <td>0.004115</td>\n      <td>0.199496</td>\n      <td>0.050367</td>\n    </tr>\n    <tr>\n      <th>215</th>\n      <td>time</td>\n      <td>1219</td>\n      <td>1366</td>\n      <td>26.0</td>\n      <td>0.003882</td>\n      <td>0.203378</td>\n      <td>0.043026</td>\n    </tr>\n    <tr>\n      <th>138</th>\n      <td>don't</td>\n      <td>1192</td>\n      <td>1350</td>\n      <td>27.0</td>\n      <td>0.003837</td>\n      <td>0.207215</td>\n      <td>0.042073</td>\n    </tr>\n    <tr>\n      <th>11099</th>\n      <td>tablet.</td>\n      <td>1253</td>\n      <td>1327</td>\n      <td>28.0</td>\n      <td>0.003771</td>\n      <td>0.210986</td>\n      <td>0.044226</td>\n    </tr>\n    <tr>\n      <th>356</th>\n      <td>product</td>\n      <td>1232</td>\n      <td>1302</td>\n      <td>29.0</td>\n      <td>0.003700</td>\n      <td>0.214686</td>\n      <td>0.043484</td>\n    </tr>\n    <tr>\n      <th>538</th>\n      <td>best</td>\n      <td>1171</td>\n      <td>1273</td>\n      <td>30.0</td>\n      <td>0.003618</td>\n      <td>0.218304</td>\n      <td>0.041331</td>\n    </tr>\n    <tr>\n      <th>3328</th>\n      <td>apps</td>\n      <td>1106</td>\n      <td>1262</td>\n      <td>31.0</td>\n      <td>0.003587</td>\n      <td>0.221891</td>\n      <td>0.039037</td>\n    </tr>\n    <tr>\n      <th>160</th>\n      <td>purchased</td>\n      <td>1185</td>\n      <td>1256</td>\n      <td>32.0</td>\n      <td>0.003570</td>\n      <td>0.225460</td>\n      <td>0.041825</td>\n    </tr>\n    <tr>\n      <th>116</th>\n      <td>got</td>\n      <td>1182</td>\n      <td>1247</td>\n      <td>33.0</td>\n      <td>0.003544</td>\n      <td>0.229004</td>\n      <td>0.041720</td>\n    </tr>\n    <tr>\n      <th>20</th>\n      <td>better</td>\n      <td>1101</td>\n      <td>1200</td>\n      <td>34.0</td>\n      <td>0.003410</td>\n      <td>0.232415</td>\n      <td>0.038861</td>\n    </tr>\n    <tr>\n      <th>3689</th>\n      <td>screen</td>\n      <td>1043</td>\n      <td>1184</td>\n      <td>35.0</td>\n      <td>0.003365</td>\n      <td>0.235779</td>\n      <td>0.036813</td>\n    </tr>\n    <tr>\n      <th>1132</th>\n      <td>games</td>\n      <td>1061</td>\n      <td>1130</td>\n      <td>36.0</td>\n      <td>0.003211</td>\n      <td>0.238991</td>\n      <td>0.037449</td>\n    </tr>\n    <tr>\n      <th>660</th>\n      <td>play</td>\n      <td>965</td>\n      <td>1071</td>\n      <td>37.0</td>\n      <td>0.003044</td>\n      <td>0.242035</td>\n      <td>0.034060</td>\n    </tr>\n    <tr>\n      <th>222</th>\n      <td>nice</td>\n      <td>1008</td>\n      <td>1069</td>\n      <td>38.0</td>\n      <td>0.003038</td>\n      <td>0.245073</td>\n      <td>0.035578</td>\n    </tr>\n    <tr>\n      <th>23</th>\n      <td>brand</td>\n      <td>957</td>\n      <td>1045</td>\n      <td>39.0</td>\n      <td>0.002970</td>\n      <td>0.248043</td>\n      <td>0.033778</td>\n    </tr>\n    <tr>\n      <th>1032</th>\n      <td>quality</td>\n      <td>975</td>\n      <td>1008</td>\n      <td>40.0</td>\n      <td>0.002865</td>\n      <td>0.250907</td>\n      <td>0.034413</td>\n    </tr>\n    <tr>\n      <th>1396</th>\n      <td>read</td>\n      <td>880</td>\n      <td>985</td>\n      <td>41.0</td>\n      <td>0.002799</td>\n      <td>0.253707</td>\n      <td>0.031060</td>\n    </tr>\n    <tr>\n      <th>775</th>\n      <td>little</td>\n      <td>899</td>\n      <td>968</td>\n      <td>42.0</td>\n      <td>0.002751</td>\n      <td>0.256458</td>\n      <td>0.031731</td>\n    </tr>\n    <tr>\n      <th>674</th>\n      <td>i'm</td>\n      <td>819</td>\n      <td>966</td>\n      <td>43.0</td>\n      <td>0.002745</td>\n      <td>0.259203</td>\n      <td>0.028907</td>\n    </tr>\n    <tr>\n      <th>136</th>\n      <td>perfect</td>\n      <td>922</td>\n      <td>959</td>\n      <td>44.0</td>\n      <td>0.002725</td>\n      <td>0.261929</td>\n      <td>0.032543</td>\n    </tr>\n    <tr>\n      <th>206</th>\n      <td>recommend</td>\n      <td>942</td>\n      <td>952</td>\n      <td>45.0</td>\n      <td>0.002706</td>\n      <td>0.264634</td>\n      <td>0.033249</td>\n    </tr>\n    <tr>\n      <th>333</th>\n      <td>new</td>\n      <td>845</td>\n      <td>934</td>\n      <td>46.0</td>\n      <td>0.002654</td>\n      <td>0.267288</td>\n      <td>0.029825</td>\n    </tr>\n    <tr>\n      <th>291</th>\n      <td>2</td>\n      <td>809</td>\n      <td>892</td>\n      <td>47.0</td>\n      <td>0.002535</td>\n      <td>0.269824</td>\n      <td>0.028554</td>\n    </tr>\n    <tr>\n      <th>733</th>\n      <td>use.</td>\n      <td>881</td>\n      <td>892</td>\n      <td>48.0</td>\n      <td>0.002535</td>\n      <td>0.272359</td>\n      <td>0.031096</td>\n    </tr>\n    <tr>\n      <th>1761</th>\n      <td>reading</td>\n      <td>822</td>\n      <td>890</td>\n      <td>49.0</td>\n      <td>0.002529</td>\n      <td>0.274888</td>\n      <td>0.029013</td>\n    </tr>\n    <tr>\n      <th>73</th>\n      <td>can't</td>\n      <td>843</td>\n      <td>884</td>\n      <td>50.0</td>\n      <td>0.002512</td>\n      <td>0.277400</td>\n      <td>0.029754</td>\n    </tr>\n  </tbody>\n</table>\n</div>"
     },
     "metadata": {},
     "output_type": "execute_result",
     "execution_count": 34
    }
   ],
   "source": [
    "wc.head(50)"
   ]
  },
  {
   "cell_type": "code",
   "execution_count": 35,
   "metadata": {
    "pycharm": {
     "is_executing": false
    }
   },
   "outputs": [
    {
     "data": {
      "text/plain": "count    21223.000000\nmean         0.000551\nstd          0.003892\nmin          0.000035\n25%          0.000035\n50%          0.000071\n75%          0.000176\nmax          0.253671\nName: appears_in_pct, dtype: float64"
     },
     "metadata": {},
     "output_type": "execute_result",
     "execution_count": 35
    }
   ],
   "source": [
    "wc['appears_in_pct'].describe()"
   ]
  },
  {
   "cell_type": "code",
   "execution_count": 36,
   "outputs": [
    {
     "data": {
      "text/plain": "                                                    word  appears_in  count  \\\n21173                                           without.           1      1   \n21174                                         delivered.           1      1   \n21175                                       recreational           1      1   \n21176                                            burned.           1      1   \n21177                                          reaction.           1      1   \n21178                                         now-broken           1      1   \n21181                                              (more           1      1   \n21180                                           sooooooo           1      1   \n21179                                          slowwwwww           1      1   \n21182                                           open!1).           1      1   \n21183                                    kindle,however,           1      1   \n21184  .................................................           1      1   \n21185                                             shades           1      1   \n21186                                            vision.           1      1   \n21188                                            owned..           1      1   \n21190                                        scheduling,           1      1   \n21189                                         programs..           1      1   \n21191                                       alertanative           1      1   \n21187                                            ipad...           1      1   \n21194                                             viewer           1      1   \n21196                                              pearl           1      1   \n21200                                         rearvision           1      1   \n21192                                             \"free\"           1      1   \n21193                                               (fyi           1      1   \n21195                                             mounts           1      1   \n21199                                       magnetically           1      1   \n21198                                               vent           1      1   \n21197                                              use.)           1      1   \n21202                                point....especially           1      1   \n21201                                    user.expandable           1      1   \n21204                                              cares           1      1   \n21205                                        photo/video           1      1   \n21203                                            taking,           1      1   \n21206                                               \"t\".           1      1   \n21207  say..............................................           1      1   \n21208                         kindlelishous!!!!!!!!!!!!!           1      1   \n21209                                         competent,           1      1   \n21210                                        3-year-old,           1      1   \n21212                                         dollars.my           1      1   \n21211                                             relies           1      1   \n21213                                            readi,g           1      1   \n21217                                   perfectly..great           1      1   \n21216                                           blanking           1      1   \n21215                                               app\"           1      1   \n21214                                        have...then           1      1   \n21219                                             moztly           1      1   \n21218                                            titles,           1      1   \n21220                                         it..better           1      1   \n21221                                      shows/movies!           1      1   \n21222                                        bookreader.           1      1   \n\n          rank  pct_total  cul_pct_total  appears_in_pct  \n21173  21174.0   0.000003       0.999861        0.000035  \n21174  21175.0   0.000003       0.999864        0.000035  \n21175  21176.0   0.000003       0.999866        0.000035  \n21176  21177.0   0.000003       0.999869        0.000035  \n21177  21178.0   0.000003       0.999872        0.000035  \n21178  21179.0   0.000003       0.999875        0.000035  \n21181  21180.0   0.000003       0.999878        0.000035  \n21180  21181.0   0.000003       0.999881        0.000035  \n21179  21182.0   0.000003       0.999883        0.000035  \n21182  21183.0   0.000003       0.999886        0.000035  \n21183  21184.0   0.000003       0.999889        0.000035  \n21184  21185.0   0.000003       0.999892        0.000035  \n21185  21186.0   0.000003       0.999895        0.000035  \n21186  21187.0   0.000003       0.999898        0.000035  \n21188  21188.0   0.000003       0.999901        0.000035  \n21190  21189.0   0.000003       0.999903        0.000035  \n21189  21190.0   0.000003       0.999906        0.000035  \n21191  21191.0   0.000003       0.999909        0.000035  \n21187  21192.0   0.000003       0.999912        0.000035  \n21194  21193.0   0.000003       0.999915        0.000035  \n21196  21194.0   0.000003       0.999918        0.000035  \n21200  21195.0   0.000003       0.999920        0.000035  \n21192  21196.0   0.000003       0.999923        0.000035  \n21193  21197.0   0.000003       0.999926        0.000035  \n21195  21198.0   0.000003       0.999929        0.000035  \n21199  21199.0   0.000003       0.999932        0.000035  \n21198  21200.0   0.000003       0.999935        0.000035  \n21197  21201.0   0.000003       0.999937        0.000035  \n21202  21202.0   0.000003       0.999940        0.000035  \n21201  21203.0   0.000003       0.999943        0.000035  \n21204  21204.0   0.000003       0.999946        0.000035  \n21205  21205.0   0.000003       0.999949        0.000035  \n21203  21206.0   0.000003       0.999952        0.000035  \n21206  21207.0   0.000003       0.999955        0.000035  \n21207  21208.0   0.000003       0.999957        0.000035  \n21208  21209.0   0.000003       0.999960        0.000035  \n21209  21210.0   0.000003       0.999963        0.000035  \n21210  21211.0   0.000003       0.999966        0.000035  \n21212  21212.0   0.000003       0.999969        0.000035  \n21211  21213.0   0.000003       0.999972        0.000035  \n21213  21214.0   0.000003       0.999974        0.000035  \n21217  21215.0   0.000003       0.999977        0.000035  \n21216  21216.0   0.000003       0.999980        0.000035  \n21215  21217.0   0.000003       0.999983        0.000035  \n21214  21218.0   0.000003       0.999986        0.000035  \n21219  21219.0   0.000003       0.999989        0.000035  \n21218  21220.0   0.000003       0.999991        0.000035  \n21220  21221.0   0.000003       0.999994        0.000035  \n21221  21222.0   0.000003       0.999997        0.000035  \n21222  21223.0   0.000003       1.000000        0.000035  ",
      "text/html": "<div>\n<style scoped>\n    .dataframe tbody tr th:only-of-type {\n        vertical-align: middle;\n    }\n\n    .dataframe tbody tr th {\n        vertical-align: top;\n    }\n\n    .dataframe thead th {\n        text-align: right;\n    }\n</style>\n<table border=\"1\" class=\"dataframe\">\n  <thead>\n    <tr style=\"text-align: right;\">\n      <th></th>\n      <th>word</th>\n      <th>appears_in</th>\n      <th>count</th>\n      <th>rank</th>\n      <th>pct_total</th>\n      <th>cul_pct_total</th>\n      <th>appears_in_pct</th>\n    </tr>\n  </thead>\n  <tbody>\n    <tr>\n      <th>21173</th>\n      <td>without.</td>\n      <td>1</td>\n      <td>1</td>\n      <td>21174.0</td>\n      <td>0.000003</td>\n      <td>0.999861</td>\n      <td>0.000035</td>\n    </tr>\n    <tr>\n      <th>21174</th>\n      <td>delivered.</td>\n      <td>1</td>\n      <td>1</td>\n      <td>21175.0</td>\n      <td>0.000003</td>\n      <td>0.999864</td>\n      <td>0.000035</td>\n    </tr>\n    <tr>\n      <th>21175</th>\n      <td>recreational</td>\n      <td>1</td>\n      <td>1</td>\n      <td>21176.0</td>\n      <td>0.000003</td>\n      <td>0.999866</td>\n      <td>0.000035</td>\n    </tr>\n    <tr>\n      <th>21176</th>\n      <td>burned.</td>\n      <td>1</td>\n      <td>1</td>\n      <td>21177.0</td>\n      <td>0.000003</td>\n      <td>0.999869</td>\n      <td>0.000035</td>\n    </tr>\n    <tr>\n      <th>21177</th>\n      <td>reaction.</td>\n      <td>1</td>\n      <td>1</td>\n      <td>21178.0</td>\n      <td>0.000003</td>\n      <td>0.999872</td>\n      <td>0.000035</td>\n    </tr>\n    <tr>\n      <th>21178</th>\n      <td>now-broken</td>\n      <td>1</td>\n      <td>1</td>\n      <td>21179.0</td>\n      <td>0.000003</td>\n      <td>0.999875</td>\n      <td>0.000035</td>\n    </tr>\n    <tr>\n      <th>21181</th>\n      <td>(more</td>\n      <td>1</td>\n      <td>1</td>\n      <td>21180.0</td>\n      <td>0.000003</td>\n      <td>0.999878</td>\n      <td>0.000035</td>\n    </tr>\n    <tr>\n      <th>21180</th>\n      <td>sooooooo</td>\n      <td>1</td>\n      <td>1</td>\n      <td>21181.0</td>\n      <td>0.000003</td>\n      <td>0.999881</td>\n      <td>0.000035</td>\n    </tr>\n    <tr>\n      <th>21179</th>\n      <td>slowwwwww</td>\n      <td>1</td>\n      <td>1</td>\n      <td>21182.0</td>\n      <td>0.000003</td>\n      <td>0.999883</td>\n      <td>0.000035</td>\n    </tr>\n    <tr>\n      <th>21182</th>\n      <td>open!1).</td>\n      <td>1</td>\n      <td>1</td>\n      <td>21183.0</td>\n      <td>0.000003</td>\n      <td>0.999886</td>\n      <td>0.000035</td>\n    </tr>\n    <tr>\n      <th>21183</th>\n      <td>kindle,however,</td>\n      <td>1</td>\n      <td>1</td>\n      <td>21184.0</td>\n      <td>0.000003</td>\n      <td>0.999889</td>\n      <td>0.000035</td>\n    </tr>\n    <tr>\n      <th>21184</th>\n      <td>.................................................</td>\n      <td>1</td>\n      <td>1</td>\n      <td>21185.0</td>\n      <td>0.000003</td>\n      <td>0.999892</td>\n      <td>0.000035</td>\n    </tr>\n    <tr>\n      <th>21185</th>\n      <td>shades</td>\n      <td>1</td>\n      <td>1</td>\n      <td>21186.0</td>\n      <td>0.000003</td>\n      <td>0.999895</td>\n      <td>0.000035</td>\n    </tr>\n    <tr>\n      <th>21186</th>\n      <td>vision.</td>\n      <td>1</td>\n      <td>1</td>\n      <td>21187.0</td>\n      <td>0.000003</td>\n      <td>0.999898</td>\n      <td>0.000035</td>\n    </tr>\n    <tr>\n      <th>21188</th>\n      <td>owned..</td>\n      <td>1</td>\n      <td>1</td>\n      <td>21188.0</td>\n      <td>0.000003</td>\n      <td>0.999901</td>\n      <td>0.000035</td>\n    </tr>\n    <tr>\n      <th>21190</th>\n      <td>scheduling,</td>\n      <td>1</td>\n      <td>1</td>\n      <td>21189.0</td>\n      <td>0.000003</td>\n      <td>0.999903</td>\n      <td>0.000035</td>\n    </tr>\n    <tr>\n      <th>21189</th>\n      <td>programs..</td>\n      <td>1</td>\n      <td>1</td>\n      <td>21190.0</td>\n      <td>0.000003</td>\n      <td>0.999906</td>\n      <td>0.000035</td>\n    </tr>\n    <tr>\n      <th>21191</th>\n      <td>alertanative</td>\n      <td>1</td>\n      <td>1</td>\n      <td>21191.0</td>\n      <td>0.000003</td>\n      <td>0.999909</td>\n      <td>0.000035</td>\n    </tr>\n    <tr>\n      <th>21187</th>\n      <td>ipad...</td>\n      <td>1</td>\n      <td>1</td>\n      <td>21192.0</td>\n      <td>0.000003</td>\n      <td>0.999912</td>\n      <td>0.000035</td>\n    </tr>\n    <tr>\n      <th>21194</th>\n      <td>viewer</td>\n      <td>1</td>\n      <td>1</td>\n      <td>21193.0</td>\n      <td>0.000003</td>\n      <td>0.999915</td>\n      <td>0.000035</td>\n    </tr>\n    <tr>\n      <th>21196</th>\n      <td>pearl</td>\n      <td>1</td>\n      <td>1</td>\n      <td>21194.0</td>\n      <td>0.000003</td>\n      <td>0.999918</td>\n      <td>0.000035</td>\n    </tr>\n    <tr>\n      <th>21200</th>\n      <td>rearvision</td>\n      <td>1</td>\n      <td>1</td>\n      <td>21195.0</td>\n      <td>0.000003</td>\n      <td>0.999920</td>\n      <td>0.000035</td>\n    </tr>\n    <tr>\n      <th>21192</th>\n      <td>\"free\"</td>\n      <td>1</td>\n      <td>1</td>\n      <td>21196.0</td>\n      <td>0.000003</td>\n      <td>0.999923</td>\n      <td>0.000035</td>\n    </tr>\n    <tr>\n      <th>21193</th>\n      <td>(fyi</td>\n      <td>1</td>\n      <td>1</td>\n      <td>21197.0</td>\n      <td>0.000003</td>\n      <td>0.999926</td>\n      <td>0.000035</td>\n    </tr>\n    <tr>\n      <th>21195</th>\n      <td>mounts</td>\n      <td>1</td>\n      <td>1</td>\n      <td>21198.0</td>\n      <td>0.000003</td>\n      <td>0.999929</td>\n      <td>0.000035</td>\n    </tr>\n    <tr>\n      <th>21199</th>\n      <td>magnetically</td>\n      <td>1</td>\n      <td>1</td>\n      <td>21199.0</td>\n      <td>0.000003</td>\n      <td>0.999932</td>\n      <td>0.000035</td>\n    </tr>\n    <tr>\n      <th>21198</th>\n      <td>vent</td>\n      <td>1</td>\n      <td>1</td>\n      <td>21200.0</td>\n      <td>0.000003</td>\n      <td>0.999935</td>\n      <td>0.000035</td>\n    </tr>\n    <tr>\n      <th>21197</th>\n      <td>use.)</td>\n      <td>1</td>\n      <td>1</td>\n      <td>21201.0</td>\n      <td>0.000003</td>\n      <td>0.999937</td>\n      <td>0.000035</td>\n    </tr>\n    <tr>\n      <th>21202</th>\n      <td>point....especially</td>\n      <td>1</td>\n      <td>1</td>\n      <td>21202.0</td>\n      <td>0.000003</td>\n      <td>0.999940</td>\n      <td>0.000035</td>\n    </tr>\n    <tr>\n      <th>21201</th>\n      <td>user.expandable</td>\n      <td>1</td>\n      <td>1</td>\n      <td>21203.0</td>\n      <td>0.000003</td>\n      <td>0.999943</td>\n      <td>0.000035</td>\n    </tr>\n    <tr>\n      <th>21204</th>\n      <td>cares</td>\n      <td>1</td>\n      <td>1</td>\n      <td>21204.0</td>\n      <td>0.000003</td>\n      <td>0.999946</td>\n      <td>0.000035</td>\n    </tr>\n    <tr>\n      <th>21205</th>\n      <td>photo/video</td>\n      <td>1</td>\n      <td>1</td>\n      <td>21205.0</td>\n      <td>0.000003</td>\n      <td>0.999949</td>\n      <td>0.000035</td>\n    </tr>\n    <tr>\n      <th>21203</th>\n      <td>taking,</td>\n      <td>1</td>\n      <td>1</td>\n      <td>21206.0</td>\n      <td>0.000003</td>\n      <td>0.999952</td>\n      <td>0.000035</td>\n    </tr>\n    <tr>\n      <th>21206</th>\n      <td>\"t\".</td>\n      <td>1</td>\n      <td>1</td>\n      <td>21207.0</td>\n      <td>0.000003</td>\n      <td>0.999955</td>\n      <td>0.000035</td>\n    </tr>\n    <tr>\n      <th>21207</th>\n      <td>say..............................................</td>\n      <td>1</td>\n      <td>1</td>\n      <td>21208.0</td>\n      <td>0.000003</td>\n      <td>0.999957</td>\n      <td>0.000035</td>\n    </tr>\n    <tr>\n      <th>21208</th>\n      <td>kindlelishous!!!!!!!!!!!!!</td>\n      <td>1</td>\n      <td>1</td>\n      <td>21209.0</td>\n      <td>0.000003</td>\n      <td>0.999960</td>\n      <td>0.000035</td>\n    </tr>\n    <tr>\n      <th>21209</th>\n      <td>competent,</td>\n      <td>1</td>\n      <td>1</td>\n      <td>21210.0</td>\n      <td>0.000003</td>\n      <td>0.999963</td>\n      <td>0.000035</td>\n    </tr>\n    <tr>\n      <th>21210</th>\n      <td>3-year-old,</td>\n      <td>1</td>\n      <td>1</td>\n      <td>21211.0</td>\n      <td>0.000003</td>\n      <td>0.999966</td>\n      <td>0.000035</td>\n    </tr>\n    <tr>\n      <th>21212</th>\n      <td>dollars.my</td>\n      <td>1</td>\n      <td>1</td>\n      <td>21212.0</td>\n      <td>0.000003</td>\n      <td>0.999969</td>\n      <td>0.000035</td>\n    </tr>\n    <tr>\n      <th>21211</th>\n      <td>relies</td>\n      <td>1</td>\n      <td>1</td>\n      <td>21213.0</td>\n      <td>0.000003</td>\n      <td>0.999972</td>\n      <td>0.000035</td>\n    </tr>\n    <tr>\n      <th>21213</th>\n      <td>readi,g</td>\n      <td>1</td>\n      <td>1</td>\n      <td>21214.0</td>\n      <td>0.000003</td>\n      <td>0.999974</td>\n      <td>0.000035</td>\n    </tr>\n    <tr>\n      <th>21217</th>\n      <td>perfectly..great</td>\n      <td>1</td>\n      <td>1</td>\n      <td>21215.0</td>\n      <td>0.000003</td>\n      <td>0.999977</td>\n      <td>0.000035</td>\n    </tr>\n    <tr>\n      <th>21216</th>\n      <td>blanking</td>\n      <td>1</td>\n      <td>1</td>\n      <td>21216.0</td>\n      <td>0.000003</td>\n      <td>0.999980</td>\n      <td>0.000035</td>\n    </tr>\n    <tr>\n      <th>21215</th>\n      <td>app\"</td>\n      <td>1</td>\n      <td>1</td>\n      <td>21217.0</td>\n      <td>0.000003</td>\n      <td>0.999983</td>\n      <td>0.000035</td>\n    </tr>\n    <tr>\n      <th>21214</th>\n      <td>have...then</td>\n      <td>1</td>\n      <td>1</td>\n      <td>21218.0</td>\n      <td>0.000003</td>\n      <td>0.999986</td>\n      <td>0.000035</td>\n    </tr>\n    <tr>\n      <th>21219</th>\n      <td>moztly</td>\n      <td>1</td>\n      <td>1</td>\n      <td>21219.0</td>\n      <td>0.000003</td>\n      <td>0.999989</td>\n      <td>0.000035</td>\n    </tr>\n    <tr>\n      <th>21218</th>\n      <td>titles,</td>\n      <td>1</td>\n      <td>1</td>\n      <td>21220.0</td>\n      <td>0.000003</td>\n      <td>0.999991</td>\n      <td>0.000035</td>\n    </tr>\n    <tr>\n      <th>21220</th>\n      <td>it..better</td>\n      <td>1</td>\n      <td>1</td>\n      <td>21221.0</td>\n      <td>0.000003</td>\n      <td>0.999994</td>\n      <td>0.000035</td>\n    </tr>\n    <tr>\n      <th>21221</th>\n      <td>shows/movies!</td>\n      <td>1</td>\n      <td>1</td>\n      <td>21222.0</td>\n      <td>0.000003</td>\n      <td>0.999997</td>\n      <td>0.000035</td>\n    </tr>\n    <tr>\n      <th>21222</th>\n      <td>bookreader.</td>\n      <td>1</td>\n      <td>1</td>\n      <td>21223.0</td>\n      <td>0.000003</td>\n      <td>1.000000</td>\n      <td>0.000035</td>\n    </tr>\n  </tbody>\n</table>\n</div>"
     },
     "metadata": {},
     "output_type": "execute_result",
     "execution_count": 36
    }
   ],
   "source": [
    "wc.tail(50)"
   ],
   "metadata": {
    "collapsed": false,
    "pycharm": {
     "name": "#%%\n",
     "is_executing": false
    }
   }
  },
  {
   "cell_type": "code",
   "execution_count": 37,
   "metadata": {
    "pycharm": {
     "is_executing": false
    }
   },
   "outputs": [],
   "source": [
    "# Frequency of appears in documents\n"
   ]
  },
  {
   "cell_type": "code",
   "execution_count": null,
   "metadata": {},
   "outputs": [],
   "source": [
    "# Tree-Map w/ Words that appear in a least 98% of documents. \n"
   ]
  },
  {
   "cell_type": "markdown",
   "metadata": {},
   "source": [
    "## Stemming & Lemmatization\n",
    "<a id=\"p3\"></a>\n",
    "\n",
    "You can see from our example above there is still some normalization to do to get a clean analysis. You notice that there many words (*i.e.* 'batteries', 'battery') which share the same root word. We can use either the process of stemming or lemmatization to trim our words down to the 'root' word. \n",
    "\n",
    "__Section Agenda__:\n",
    "\n",
    "- Which is which\n",
    "- why use one v. other\n",
    "- show side by side visualizations \n",
    "- how to do it in spacy & nltk\n",
    "- introduce PoS in here as well"
   ]
  },
  {
   "cell_type": "markdown",
   "metadata": {},
   "source": [
    "### Stemming\n",
    "\n",
    "> *a process for removing the commoner morphological and inflexional endings from words in English. Its main use is as part of a term normalisation process that is usually done when setting up Information Retrieval systems.* - [Martin Porter](https://tartarus.org/martin/PorterStemmer/)\n",
    "\n",
    "Some examples include:\n",
    "- 'ing'\n",
    "- 'ed'\n",
    "- 's'\n",
    "\n",
    "These rules are by no means comprehensive, but they are somewhere to start. Most stemming is done by well documented algorithms such as Porter, Snowball, and Dawson. Porter and its newer version Snowball are the most popular stemming algorithms today. For more information on various stemming algorithms check out [*\"A Comparative Study of Stemming Algorithms\"*](https://pdfs.semanticscholar.org/1c0c/0fa35d4ff8a2f925eb955e48d655494bd167.pdf) \n",
    "\n",
    "\n",
    "Spacy does not do stemming out of the box, but instead uses a different technique called *lemmatization* which we will discuss in the next section. Let's turn to an antique python package `nltk` for stemming. \n"
   ]
  },
  {
   "cell_type": "code",
   "execution_count": 38,
   "metadata": {
    "pycharm": {
     "is_executing": false
    }
   },
   "outputs": [
    {
     "name": "stdout",
     "text": [
      "game\ngame\ngame\ngame\n"
     ],
     "output_type": "stream"
    }
   ],
   "source": [
    "from nltk.stem import PorterStemmer\n",
    "\n",
    "ps = PorterStemmer()\n",
    "\n",
    "words = [\"game\",\"gaming\",\"gamed\",\"games\"]\n",
    "\n",
    "for word in words:\n",
    "    print(ps.stem(word))"
   ]
  },
  {
   "cell_type": "markdown",
   "metadata": {},
   "source": [
    "#### Two Minute Challenge\n",
    "\n",
    "Apply the Porter stemming algorithm to the tokens in the `df` dataframe. Visualize the results in the tree graph we have been using for this session."
   ]
  },
  {
   "cell_type": "code",
   "execution_count": 39,
   "metadata": {
    "pycharm": {
     "is_executing": false
    }
   },
   "outputs": [],
   "source": [
    "def stem_it(words):\n",
    "    new = []\n",
    "    for word in words:\n",
    "       new.append(ps.stem(word))\n",
    "    return new\n",
    "# Put in a new column `stems`\n",
    "df['stems'] = df['tokens'].apply(stem_it)"
   ]
  },
  {
   "cell_type": "code",
   "execution_count": 40,
   "metadata": {
    "pycharm": {
     "is_executing": false
    }
   },
   "outputs": [
    {
     "data": {
      "text/plain": "<Figure size 432x288 with 1 Axes>",
      "image/png": "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\n"
     },
     "metadata": {
      "needs_background": "light"
     },
     "output_type": "display_data"
    }
   ],
   "source": [
    "wc = count(df['stems'])\n",
    "\n",
    "wc_top20 = wc[wc['rank'] <= 20]\n",
    "\n",
    "squarify.plot(sizes=wc_top20['pct_total'], label=wc_top20['word'], alpha=.8 )\n",
    "plt.axis('off')\n",
    "plt.show()"
   ]
  },
  {
   "cell_type": "markdown",
   "metadata": {
    "toc-hr-collapsed": false
   },
   "source": [
    "### Lemmatization\n",
    "\n",
    "You notice immediately that results are kinda funky - words just oddly chopped off. The Porter algorithm did exactly what it knows to do: chop off endings. Stemming works well in applications where humans don't have to worry about reading the results. Search engines and more broadly information retrival algorithms use stemming. Why? Becuase it's fast. \n",
    "\n",
    "Lemmatization on the other hand is more methodical. The goal is to transform a word into's base form called a lemma. Plural nouns with funky spellings get transformed to singular tense. Verbs are all transformed to the transitive. Nice tidy data for a visualization. :) However, this tidy data can come at computational cost. Spacy does a pretty freaking good job of it though. Let's take a look:"
   ]
  },
  {
   "cell_type": "code",
   "execution_count": 41,
   "metadata": {
    "pycharm": {
     "is_executing": false
    }
   },
   "outputs": [],
   "source": [
    "sent = \"This is the start of our NLP adventure. We started here with Spacy.\"\n",
    "\n",
    "doc = nlp(sent)\n",
    "\n",
    "# Lemma Attributes\n",
    "for token in doc: \n",
    "    print(token.lemma_)"
   ]
  },
  {
   "cell_type": "code",
   "execution_count": 42,
   "metadata": {
    "pycharm": {
     "is_executing": false
    }
   },
   "outputs": [],
   "source": [
    "# Wrap it all in a function\n",
    "def get_lemmas(text):\n",
<<<<<<< HEAD
    "    lemmas = []\n",
    "    \n",
    "    for doc in nlp.pipe(text.lower().split()):\n",
    "    \n",
    "        for token in doc:\n",
    "            if not token.is_stop and not token.is_punct and token.pos_ != 'PRON':\n",
    "                lemmas.append(token.lemma_)\n",
    "\n",
=======
    "\n",
    "    lemmas = []\n",
    "    \n",
    "    doc = nlp(text)\n",
    "    \n",
    "    # Something goes here :P \n",
    "    \n",
>>>>>>> 98c7a82f2df191841871eff71c81743b5d7051d3
    "    return lemmas"
   ]
  },
  {
   "cell_type": "code",
   "execution_count": 43,
   "outputs": [
    {
     "data": {
      "text/plain": "['friend', 'roman', 'countryman', 'lend', 'ear']"
     },
     "metadata": {},
     "output_type": "execute_result",
     "execution_count": 43
    }
   ],
   "source": [
    "get_lemmas(sample)"
   ],
   "metadata": {
    "collapsed": false,
    "pycharm": {
     "name": "#%%\n",
     "is_executing": false
    }
   }
  },
  {
   "cell_type": "code",
   "execution_count": 44,
   "outputs": [],
   "source": [
    "df['lemmas'] = df['reviews.text'].apply(get_lemmas)"
   ],
   "metadata": {
    "collapsed": false,
    "pycharm": {
     "name": "#%%\n",
     "is_executing": false
    }
   }
  },
  {
   "cell_type": "code",
   "execution_count": 45,
   "metadata": {
    "pycharm": {
     "is_executing": false
    }
   },
   "outputs": [
    {
     "data": {
      "text/plain": "0    [order, 3, item, bad, quality, miss, backup, s...\n1                [bulk, expensive, way, product, like]\n2                             [duracell, price, happy]\n3                [work, brand, battery, better, price]\n4                  [battery, long, last, price, great]\nName: lemmas, dtype: object"
     },
     "metadata": {},
     "output_type": "execute_result",
     "execution_count": 45
    }
   ],
   "source": [
    "df['lemmas'].head()"
   ]
  },
  {
   "cell_type": "code",
   "execution_count": 46,
   "metadata": {
    "pycharm": {
     "is_executing": false
    }
   },
   "outputs": [
    {
     "data": {
      "text/plain": "<Figure size 432x288 with 1 Axes>",
      "image/png": "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\n"
     },
     "metadata": {
      "needs_background": "light"
     },
     "output_type": "display_data"
    }
   ],
   "source": [
    "wc = count(df['lemmas'])\n",
    "wc_top20 = wc[wc['rank'] <= 20]\n",
    "\n",
    "squarify.plot(sizes=wc_top20['pct_total'], label=wc_top20['word'], alpha=.8 )\n",
    "plt.axis('off')\n",
    "plt.show()"
   ]
  },
  {
   "cell_type": "markdown",
   "metadata": {
    "toc-hr-collapsed": true
   },
   "source": [
    "### What else should I know? \n",
    "- NER\n",
    "- Dependcy Trees \n",
    "- Generators\n",
    "- the major libraries (NLTK, Spacy, Gensim)"
   ]
  }
 ],
 "metadata": {
  "kernelspec": {
   "display_name": "unit4 (Python 3.7)",
   "language": "python",
   "name": "unit4"
  },
  "language_info": {
   "codemirror_mode": {
    "name": "ipython",
    "version": 3
   },
   "file_extension": ".py",
   "mimetype": "text/x-python",
   "name": "python",
   "nbconvert_exporter": "python",
   "pygments_lexer": "ipython3",
   "version": "3.7.3"
  },
  "toc-autonumbering": true,
  "toc-showcode": false,
  "toc-showmarkdowntxt": false,
  "pycharm": {
   "stem_cell": {
    "cell_type": "raw",
    "source": [],
    "metadata": {
     "collapsed": false
    }
   }
  }
 },
 "nbformat": 4,
 "nbformat_minor": 4
}