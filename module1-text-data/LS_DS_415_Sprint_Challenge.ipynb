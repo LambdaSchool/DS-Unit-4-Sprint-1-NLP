{
 "cells": [
  {
   "cell_type": "markdown",
   "metadata": {},
   "source": [
    "<img align=\"left\" src=\"https://lever-client-logos.s3.amazonaws.com/864372b1-534c-480e-acd5-9711f850815c-1524247202159.png\" width=200>\n",
    "<br></br>\n",
    "<br></br>\n",
    "\n",
    "# Sprint Challenge\n",
    "## *Data Science Unit 4 Sprint 1*\n",
    "\n",
    "After a week of Natural Language Processing, you've learned some cool new stuff: how to process text, how turn text into vectors, and how to model topics from documents. Apply your newly acquired skills to one of the most famous NLP datasets out there: [Yelp](https://www.yelp.com/dataset/challenge). As part of the job selection process, some of my friends have been asked to create analysis of this dataset, so I want to empower you to have a head start.  \n",
    "\n",
    "The real dataset is massive (almost 8 gigs uncompressed). I've sampled the data for you to something more managable for the Sprint Challenge. You can analyze the full dataset as a stretch goal or after the sprint challenge. As you work on the challenge, I suggest adding notes about your findings and things you want to analyze in the future.\n",
    "\n",
    "## Challenge Objectives\n",
    "*Successfully complete these all these objectives to earn a 2. There are more details on each objective further down in the notebook.*\n",
    "* <a href=\"#p1\">Part 1</a>: Write a function to tokenize the yelp reviews\n",
    "* <a href=\"#p2\">Part 2</a>: Create a vector representation of those tokens\n",
    "* <a href=\"#p3\">Part 3</a>: Use your tokens in a classification model on yelp rating\n",
    "* <a href=\"#p4\">Part 4</a>: Estimate & Interpret a topic model of the Yelp reviews"
   ]
  },
  {
   "cell_type": "code",
   "execution_count": 1,
   "metadata": {},
   "outputs": [],
   "source": [
    "import pandas as pd\n",
    "\n",
    "yelp = pd.read_json('./data/review_sample.json', lines=True)"
   ]
  },
  {
   "cell_type": "code",
   "execution_count": 2,
   "metadata": {},
   "outputs": [
    {
     "data": {
      "text/html": [
       "<div>\n",
       "<style scoped>\n",
       "    .dataframe tbody tr th:only-of-type {\n",
       "        vertical-align: middle;\n",
       "    }\n",
       "\n",
       "    .dataframe tbody tr th {\n",
       "        vertical-align: top;\n",
       "    }\n",
       "\n",
       "    .dataframe thead th {\n",
       "        text-align: right;\n",
       "    }\n",
       "</style>\n",
       "<table border=\"1\" class=\"dataframe\">\n",
       "  <thead>\n",
       "    <tr style=\"text-align: right;\">\n",
       "      <th></th>\n",
       "      <th>business_id</th>\n",
       "      <th>cool</th>\n",
       "      <th>date</th>\n",
       "      <th>funny</th>\n",
       "      <th>review_id</th>\n",
       "      <th>stars</th>\n",
       "      <th>text</th>\n",
       "      <th>useful</th>\n",
       "      <th>user_id</th>\n",
       "    </tr>\n",
       "  </thead>\n",
       "  <tbody>\n",
       "    <tr>\n",
       "      <th>0</th>\n",
       "      <td>nDuEqIyRc8YKS1q1fX0CZg</td>\n",
       "      <td>1</td>\n",
       "      <td>2015-03-31 16:50:30</td>\n",
       "      <td>0</td>\n",
       "      <td>eZs2tpEJtXPwawvHnHZIgQ</td>\n",
       "      <td>1</td>\n",
       "      <td>BEWARE!!! FAKE, FAKE, FAKE....We also own a sm...</td>\n",
       "      <td>10</td>\n",
       "      <td>n1LM36qNg4rqGXIcvVXv8w</td>\n",
       "    </tr>\n",
       "    <tr>\n",
       "      <th>1</th>\n",
       "      <td>eMYeEapscbKNqUDCx705hg</td>\n",
       "      <td>0</td>\n",
       "      <td>2015-12-16 05:31:03</td>\n",
       "      <td>0</td>\n",
       "      <td>DoQDWJsNbU0KL1O29l_Xug</td>\n",
       "      <td>4</td>\n",
       "      <td>Came here for lunch Togo. Service was quick. S...</td>\n",
       "      <td>0</td>\n",
       "      <td>5CgjjDAic2-FAvCtiHpytA</td>\n",
       "    </tr>\n",
       "    <tr>\n",
       "      <th>2</th>\n",
       "      <td>6Q7-wkCPc1KF75jZLOTcMw</td>\n",
       "      <td>1</td>\n",
       "      <td>2010-06-20 19:14:48</td>\n",
       "      <td>1</td>\n",
       "      <td>DDOdGU7zh56yQHmUnL1idQ</td>\n",
       "      <td>3</td>\n",
       "      <td>I've been to Vegas dozens of times and had nev...</td>\n",
       "      <td>2</td>\n",
       "      <td>BdV-cf3LScmb8kZ7iiBcMA</td>\n",
       "    </tr>\n",
       "    <tr>\n",
       "      <th>3</th>\n",
       "      <td>k3zrItO4l9hwfLRwHBDc9w</td>\n",
       "      <td>3</td>\n",
       "      <td>2010-07-13 00:33:45</td>\n",
       "      <td>4</td>\n",
       "      <td>LfTMUWnfGFMOfOIyJcwLVA</td>\n",
       "      <td>1</td>\n",
       "      <td>We went here on a night where they closed off ...</td>\n",
       "      <td>5</td>\n",
       "      <td>cZZnBqh4gAEy4CdNvJailQ</td>\n",
       "    </tr>\n",
       "    <tr>\n",
       "      <th>4</th>\n",
       "      <td>6hpfRwGlOzbNv7k5eP9rsQ</td>\n",
       "      <td>1</td>\n",
       "      <td>2018-06-30 02:30:01</td>\n",
       "      <td>0</td>\n",
       "      <td>zJSUdI7bJ8PNJAg4lnl_Gg</td>\n",
       "      <td>4</td>\n",
       "      <td>3.5 to 4 stars\\n\\nNot bad for the price, $12.9...</td>\n",
       "      <td>5</td>\n",
       "      <td>n9QO4ClYAS7h9fpQwa5bhA</td>\n",
       "    </tr>\n",
       "  </tbody>\n",
       "</table>\n",
       "</div>"
      ],
      "text/plain": [
       "              business_id  cool                date  funny  \\\n",
       "0  nDuEqIyRc8YKS1q1fX0CZg     1 2015-03-31 16:50:30      0   \n",
       "1  eMYeEapscbKNqUDCx705hg     0 2015-12-16 05:31:03      0   \n",
       "2  6Q7-wkCPc1KF75jZLOTcMw     1 2010-06-20 19:14:48      1   \n",
       "3  k3zrItO4l9hwfLRwHBDc9w     3 2010-07-13 00:33:45      4   \n",
       "4  6hpfRwGlOzbNv7k5eP9rsQ     1 2018-06-30 02:30:01      0   \n",
       "\n",
       "                review_id  stars  \\\n",
       "0  eZs2tpEJtXPwawvHnHZIgQ      1   \n",
       "1  DoQDWJsNbU0KL1O29l_Xug      4   \n",
       "2  DDOdGU7zh56yQHmUnL1idQ      3   \n",
       "3  LfTMUWnfGFMOfOIyJcwLVA      1   \n",
       "4  zJSUdI7bJ8PNJAg4lnl_Gg      4   \n",
       "\n",
       "                                                text  useful  \\\n",
       "0  BEWARE!!! FAKE, FAKE, FAKE....We also own a sm...      10   \n",
       "1  Came here for lunch Togo. Service was quick. S...       0   \n",
       "2  I've been to Vegas dozens of times and had nev...       2   \n",
       "3  We went here on a night where they closed off ...       5   \n",
       "4  3.5 to 4 stars\\n\\nNot bad for the price, $12.9...       5   \n",
       "\n",
       "                  user_id  \n",
       "0  n1LM36qNg4rqGXIcvVXv8w  \n",
       "1  5CgjjDAic2-FAvCtiHpytA  \n",
       "2  BdV-cf3LScmb8kZ7iiBcMA  \n",
       "3  cZZnBqh4gAEy4CdNvJailQ  \n",
       "4  n9QO4ClYAS7h9fpQwa5bhA  "
      ]
     },
     "execution_count": 2,
     "metadata": {},
     "output_type": "execute_result"
    }
   ],
   "source": [
    "yelp.head()"
   ]
  },
  {
   "cell_type": "markdown",
   "metadata": {},
   "source": [
    "## Part 1: Tokenize Function\n",
    "<a id=\"#p1\"></a>\n",
    "\n",
    "Complete the function `tokenize`. Your function should\n",
    "- accept one document at a time\n",
    "- return a list of tokens\n",
    "\n",
    "You are free to use any method you have learned this week."
   ]
  },
  {
   "cell_type": "code",
   "execution_count": 6,
   "metadata": {},
   "outputs": [],
   "source": [
    "import re\n",
    "\n",
    "def tokenize(doc):\n",
    "    sample = re.sub(r'[^a-zA-Z ^0-9]', '', doc)\n",
    "    tokens = sample.lower().split()\n",
    "    return tokens"
   ]
  },
  {
   "cell_type": "code",
   "execution_count": 7,
   "metadata": {},
   "outputs": [
    {
     "data": {
      "text/plain": [
       "0    BEWARE!!! FAKE, FAKE, FAKE....We also own a sm...\n",
       "1    Came here for lunch Togo. Service was quick. S...\n",
       "2    I've been to Vegas dozens of times and had nev...\n",
       "3    We went here on a night where they closed off ...\n",
       "4    3.5 to 4 stars\\n\\nNot bad for the price, $12.9...\n",
       "Name: text, dtype: object"
      ]
     },
     "execution_count": 7,
     "metadata": {},
     "output_type": "execute_result"
    }
   ],
   "source": [
    "yelp['text'].head()"
   ]
  },
  {
   "cell_type": "code",
   "execution_count": 8,
   "metadata": {},
   "outputs": [],
   "source": [
    "yelp['tokens'] = yelp['text'].apply(tokenize)"
   ]
  },
  {
   "cell_type": "code",
   "execution_count": 9,
   "metadata": {},
   "outputs": [
    {
     "data": {
      "text/plain": [
       "0    [beware, fake, fake, fakewe, also, own, a, sma...\n",
       "1    [came, here, for, lunch, togo, service, was, q...\n",
       "2    [ive, been, to, vegas, dozens, of, times, and,...\n",
       "3    [we, went, here, on, a, night, where, they, cl...\n",
       "4    [35, to, 4, starsnot, bad, for, the, price, 12...\n",
       "Name: tokens, dtype: object"
      ]
     },
     "execution_count": 9,
     "metadata": {},
     "output_type": "execute_result"
    }
   ],
   "source": [
    "yelp['tokens'].head()"
   ]
  },
  {
   "cell_type": "code",
   "execution_count": 11,
   "metadata": {},
   "outputs": [],
   "source": [
    "data = yelp['tokens'].astype(str)"
   ]
  },
  {
   "cell_type": "markdown",
   "metadata": {},
   "source": [
    "## Part 2: Vector Representation\n",
    "<a id=\"#p2\"></a>\n",
    "1. Create a vector representation of the reviews\n",
    "2. Write a fake review and query for the 10 most similiar reviews, print the text of the reviews. Do you notice any patterns?\n",
    "    - Given the size of the dataset, it will probably be best to use a `NearestNeighbors` model for this. "
   ]
  },
  {
   "cell_type": "code",
   "execution_count": 13,
   "metadata": {},
   "outputs": [
    {
     "data": {
      "text/html": [
       "<div>\n",
       "<style scoped>\n",
       "    .dataframe tbody tr th:only-of-type {\n",
       "        vertical-align: middle;\n",
       "    }\n",
       "\n",
       "    .dataframe tbody tr th {\n",
       "        vertical-align: top;\n",
       "    }\n",
       "\n",
       "    .dataframe thead th {\n",
       "        text-align: right;\n",
       "    }\n",
       "</style>\n",
       "<table border=\"1\" class=\"dataframe\">\n",
       "  <thead>\n",
       "    <tr style=\"text-align: right;\">\n",
       "      <th></th>\n",
       "      <th>10</th>\n",
       "      <th>amazing</th>\n",
       "      <th>area</th>\n",
       "      <th>asked</th>\n",
       "      <th>away</th>\n",
       "      <th>awesome</th>\n",
       "      <th>bad</th>\n",
       "      <th>bar</th>\n",
       "      <th>best</th>\n",
       "      <th>better</th>\n",
       "      <th>...</th>\n",
       "      <th>vegas</th>\n",
       "      <th>wait</th>\n",
       "      <th>want</th>\n",
       "      <th>wanted</th>\n",
       "      <th>wasn</th>\n",
       "      <th>way</th>\n",
       "      <th>went</th>\n",
       "      <th>work</th>\n",
       "      <th>worth</th>\n",
       "      <th>years</th>\n",
       "    </tr>\n",
       "  </thead>\n",
       "  <tbody>\n",
       "    <tr>\n",
       "      <th>0</th>\n",
       "      <td>0.0</td>\n",
       "      <td>0.0</td>\n",
       "      <td>0.00000</td>\n",
       "      <td>0.0</td>\n",
       "      <td>0.0</td>\n",
       "      <td>0.0</td>\n",
       "      <td>0.00000</td>\n",
       "      <td>0.000000</td>\n",
       "      <td>0.000000</td>\n",
       "      <td>0.0</td>\n",
       "      <td>...</td>\n",
       "      <td>0.000000</td>\n",
       "      <td>0.392384</td>\n",
       "      <td>0.0</td>\n",
       "      <td>0.0</td>\n",
       "      <td>0.0</td>\n",
       "      <td>0.0</td>\n",
       "      <td>0.000000</td>\n",
       "      <td>0.0</td>\n",
       "      <td>0.0</td>\n",
       "      <td>0.0</td>\n",
       "    </tr>\n",
       "    <tr>\n",
       "      <th>1</th>\n",
       "      <td>0.0</td>\n",
       "      <td>0.0</td>\n",
       "      <td>0.00000</td>\n",
       "      <td>0.0</td>\n",
       "      <td>0.0</td>\n",
       "      <td>0.0</td>\n",
       "      <td>0.00000</td>\n",
       "      <td>0.000000</td>\n",
       "      <td>0.000000</td>\n",
       "      <td>0.0</td>\n",
       "      <td>...</td>\n",
       "      <td>0.000000</td>\n",
       "      <td>0.000000</td>\n",
       "      <td>0.0</td>\n",
       "      <td>0.0</td>\n",
       "      <td>0.0</td>\n",
       "      <td>0.0</td>\n",
       "      <td>0.000000</td>\n",
       "      <td>0.0</td>\n",
       "      <td>0.0</td>\n",
       "      <td>0.0</td>\n",
       "    </tr>\n",
       "    <tr>\n",
       "      <th>2</th>\n",
       "      <td>0.0</td>\n",
       "      <td>0.0</td>\n",
       "      <td>0.14922</td>\n",
       "      <td>0.0</td>\n",
       "      <td>0.0</td>\n",
       "      <td>0.0</td>\n",
       "      <td>0.00000</td>\n",
       "      <td>0.000000</td>\n",
       "      <td>0.000000</td>\n",
       "      <td>0.0</td>\n",
       "      <td>...</td>\n",
       "      <td>0.292434</td>\n",
       "      <td>0.000000</td>\n",
       "      <td>0.0</td>\n",
       "      <td>0.0</td>\n",
       "      <td>0.0</td>\n",
       "      <td>0.0</td>\n",
       "      <td>0.123145</td>\n",
       "      <td>0.0</td>\n",
       "      <td>0.0</td>\n",
       "      <td>0.0</td>\n",
       "    </tr>\n",
       "    <tr>\n",
       "      <th>3</th>\n",
       "      <td>0.0</td>\n",
       "      <td>0.0</td>\n",
       "      <td>0.00000</td>\n",
       "      <td>0.0</td>\n",
       "      <td>0.0</td>\n",
       "      <td>0.0</td>\n",
       "      <td>0.00000</td>\n",
       "      <td>0.000000</td>\n",
       "      <td>0.360664</td>\n",
       "      <td>0.0</td>\n",
       "      <td>...</td>\n",
       "      <td>0.000000</td>\n",
       "      <td>0.000000</td>\n",
       "      <td>0.0</td>\n",
       "      <td>0.0</td>\n",
       "      <td>0.0</td>\n",
       "      <td>0.0</td>\n",
       "      <td>0.381265</td>\n",
       "      <td>0.0</td>\n",
       "      <td>0.0</td>\n",
       "      <td>0.0</td>\n",
       "    </tr>\n",
       "    <tr>\n",
       "      <th>4</th>\n",
       "      <td>0.0</td>\n",
       "      <td>0.0</td>\n",
       "      <td>0.00000</td>\n",
       "      <td>0.0</td>\n",
       "      <td>0.0</td>\n",
       "      <td>0.0</td>\n",
       "      <td>0.23316</td>\n",
       "      <td>0.466138</td>\n",
       "      <td>0.000000</td>\n",
       "      <td>0.0</td>\n",
       "      <td>...</td>\n",
       "      <td>0.000000</td>\n",
       "      <td>0.000000</td>\n",
       "      <td>0.0</td>\n",
       "      <td>0.0</td>\n",
       "      <td>0.0</td>\n",
       "      <td>0.0</td>\n",
       "      <td>0.000000</td>\n",
       "      <td>0.0</td>\n",
       "      <td>0.0</td>\n",
       "      <td>0.0</td>\n",
       "    </tr>\n",
       "  </tbody>\n",
       "</table>\n",
       "<p>5 rows × 116 columns</p>\n",
       "</div>"
      ],
      "text/plain": [
       "    10  amazing     area  asked  away  awesome      bad       bar      best  \\\n",
       "0  0.0      0.0  0.00000    0.0   0.0      0.0  0.00000  0.000000  0.000000   \n",
       "1  0.0      0.0  0.00000    0.0   0.0      0.0  0.00000  0.000000  0.000000   \n",
       "2  0.0      0.0  0.14922    0.0   0.0      0.0  0.00000  0.000000  0.000000   \n",
       "3  0.0      0.0  0.00000    0.0   0.0      0.0  0.00000  0.000000  0.360664   \n",
       "4  0.0      0.0  0.00000    0.0   0.0      0.0  0.23316  0.466138  0.000000   \n",
       "\n",
       "   better  ...     vegas      wait  want  wanted  wasn  way      went  work  \\\n",
       "0     0.0  ...  0.000000  0.392384   0.0     0.0   0.0  0.0  0.000000   0.0   \n",
       "1     0.0  ...  0.000000  0.000000   0.0     0.0   0.0  0.0  0.000000   0.0   \n",
       "2     0.0  ...  0.292434  0.000000   0.0     0.0   0.0  0.0  0.123145   0.0   \n",
       "3     0.0  ...  0.000000  0.000000   0.0     0.0   0.0  0.0  0.381265   0.0   \n",
       "4     0.0  ...  0.000000  0.000000   0.0     0.0   0.0  0.0  0.000000   0.0   \n",
       "\n",
       "   worth  years  \n",
       "0    0.0    0.0  \n",
       "1    0.0    0.0  \n",
       "2    0.0    0.0  \n",
       "3    0.0    0.0  \n",
       "4    0.0    0.0  \n",
       "\n",
       "[5 rows x 116 columns]"
      ]
     },
     "execution_count": 13,
     "metadata": {},
     "output_type": "execute_result"
    }
   ],
   "source": [
    "from sklearn.feature_extraction.text import TfidfVectorizer\n",
    "\n",
    "tfidf = TfidfVectorizer(stop_words='english', max_features=5000, min_df=0.05)\n",
    "\n",
    "dtm = tfidf.fit_transform(yelp['text'])\n",
    "\n",
    "docs = pd.DataFrame(dtm.todense(), columns = tfidf.get_feature_names())\n",
    "\n",
    "docs.head()"
   ]
  },
  {
   "cell_type": "code",
   "execution_count": 14,
   "metadata": {},
   "outputs": [
    {
     "data": {
      "text/plain": [
       "NearestNeighbors(algorithm='ball_tree', leaf_size=30, metric='minkowski',\n",
       "                 metric_params=None, n_jobs=None, n_neighbors=5, p=2,\n",
       "                 radius=1.0)"
      ]
     },
     "execution_count": 14,
     "metadata": {},
     "output_type": "execute_result"
    }
   ],
   "source": [
    "#NN model\n",
    "\n",
    "from sklearn.neighbors import NearestNeighbors\n",
    "\n",
    "nn = NearestNeighbors(n_neighbors=5, algorithm='ball_tree')\n",
    "\n",
    "nn.fit(dtm.todense())"
   ]
  },
  {
   "cell_type": "code",
   "execution_count": 15,
   "metadata": {},
   "outputs": [
    {
     "data": {
      "text/plain": [
       "(array([[0.        , 0.7312096 , 0.87220709, 0.92845172, 0.9491656 ]]),\n",
       " array([[   0, 3133, 3428, 5025, 8619]], dtype=int64))"
      ]
     },
     "execution_count": 15,
     "metadata": {},
     "output_type": "execute_result"
    }
   ],
   "source": [
    "nn.kneighbors(dtm.todense()[0])"
   ]
  },
  {
   "cell_type": "code",
   "execution_count": 63,
   "metadata": {},
   "outputs": [],
   "source": [
    "new_review = \"the batteries were just awful. they didn't last a day. Asked to get a refund but the supplier never replied. Never buying from them again. Worst customer service\""
   ]
  },
  {
   "cell_type": "code",
   "execution_count": 17,
   "metadata": {},
   "outputs": [],
   "source": [
    "new  =tfidf.transform(new_review)"
   ]
  },
  {
   "cell_type": "code",
   "execution_count": 18,
   "metadata": {},
   "outputs": [
    {
     "data": {
      "text/plain": [
       "(array([[0.78478358, 0.86129508, 0.87307391, 0.89558364, 0.9114545 ]]),\n",
       " array([[5944, 4375, 2397, 4879, 3923]], dtype=int64))"
      ]
     },
     "execution_count": 18,
     "metadata": {},
     "output_type": "execute_result"
    }
   ],
   "source": [
    "nn.kneighbors(new.todense())"
   ]
  },
  {
   "cell_type": "code",
   "execution_count": 20,
   "metadata": {},
   "outputs": [
    {
     "name": "stdout",
     "output_type": "stream",
     "text": [
      "I needed a few parts to assemble a cat scratching tree. The parts were missing from the package. I asked an employee to help me, and he helped me find what I needed.  Very good customer service!\n",
      "I didn't enjoy my visit at all. I asked the waiter for chicken with vegetables and they brought me the chicken with vegetables which had zucchini which I'm allergic to. I was so hungry but couldn't eat it so I asked to talk to the manager to let him know to be more specific on the menu. As far as I know the customer is always right; he didn't really even care about my comment. Very poor customer service from the manager. I only gave it one star because there wasn't a zero which is what they deserve.\n",
      "They should have offered either to cut my bill or give me some kind of incentive to come back. I won't be back!\n"
     ]
    }
   ],
   "source": [
    "print(yelp['text'][5944][:200])\n",
    "\n",
    "print(yelp['text'][3923])"
   ]
  },
  {
   "cell_type": "code",
   "execution_count": null,
   "metadata": {},
   "outputs": [],
   "source": []
  },
  {
   "cell_type": "code",
   "execution_count": null,
   "metadata": {},
   "outputs": [],
   "source": []
  },
  {
   "cell_type": "code",
   "execution_count": null,
   "metadata": {},
   "outputs": [],
   "source": []
  },
  {
   "cell_type": "code",
   "execution_count": null,
   "metadata": {},
   "outputs": [],
   "source": []
  },
  {
   "cell_type": "markdown",
   "metadata": {},
   "source": [
    "## Part 3: Classification\n",
    "<a id=\"#p3\"></a>\n",
    "Your goal in this section will be to predict `stars` from the review dataset. \n",
    "\n",
    "1. Create a piepline object with a sklearn `CountVectorizer` or `TfidfVector` and any sklearn classifier. Use that pipeline to estimate a model to predict `stars`. Use the Pipeline to predict a star rating for your fake review from Part 2. \n",
    "2. Tune the entire pipeline with a GridSearch"
   ]
  },
  {
   "cell_type": "code",
   "execution_count": 40,
   "metadata": {},
   "outputs": [],
   "source": [
    "from sklearn.ensemble import GradientBoostingClassifier\n",
    "from sklearn.pipeline import Pipeline\n",
    "from sklearn.model_selection import GridSearchCV\n",
    "from sklearn.decomposition import TruncatedSVD"
   ]
  },
  {
   "cell_type": "code",
   "execution_count": 41,
   "metadata": {},
   "outputs": [],
   "source": [
    "vectorizor = TfidfVectorizer(stop_words='english', lowercase=True, min_df=0.1, max_df=0.90)\n",
    "\n",
    "classifier = GradientBoostingClassifier(n_estimators=100)\n",
    "\n",
    "svd = TruncatedSVD(n_iter=100, algorithm='randomized')"
   ]
  },
  {
   "cell_type": "code",
   "execution_count": 42,
   "metadata": {},
   "outputs": [],
   "source": [
    "lsi = Pipeline([('vect', vectorizor), ('svd', svd)])\n",
    "pipe = Pipeline([('lsi', lsi), ('clf', classifier)])\n",
    "\n",
    "params = {'lsi__svd__n_components': (10,15,20),\n",
    "          'lsi__vect__max_features': ( 500, 650, 800)\n",
    "}"
   ]
  },
  {
   "cell_type": "code",
   "execution_count": 44,
   "metadata": {},
   "outputs": [
    {
     "name": "stdout",
     "output_type": "stream",
     "text": [
      "best Score:  0.5047\n"
     ]
    },
    {
     "data": {
      "text/plain": [
       "{'lsi__svd__n_components': 15, 'lsi__vect__max_features': 800}"
      ]
     },
     "execution_count": 44,
     "metadata": {},
     "output_type": "execute_result"
    }
   ],
   "source": [
    "grid_search = GridSearchCV(pipe, params, cv=5, n_jobs=-1)\n",
    "grid_search.fit(yelp['text'], yelp['stars'])\n",
    "print('best Score: ', grid_search.best_score_)\n",
    "grid_search.best_params_"
   ]
  },
  {
   "cell_type": "code",
   "execution_count": 61,
   "metadata": {},
   "outputs": [],
   "source": [
    "#new_review = 'the batteries were just awful. they didnt last a day. Asked to get a refund but the supplier never replied'"
   ]
  },
  {
   "cell_type": "code",
   "execution_count": 64,
   "metadata": {},
   "outputs": [
    {
     "name": "stdout",
     "output_type": "stream",
     "text": [
      "My fake review was predicted to give a 1 star rating.\n"
     ]
    }
   ],
   "source": [
    "mod = grid_search.best_estimator_\n",
    "prediction_rating = mod.predict([new_review])[0]\n",
    "print(f'My fake review was predicted to give a {prediction_rating} star rating.')"
   ]
  },
  {
   "cell_type": "code",
   "execution_count": null,
   "metadata": {},
   "outputs": [],
   "source": []
  },
  {
   "cell_type": "code",
   "execution_count": null,
   "metadata": {},
   "outputs": [],
   "source": []
  },
  {
   "cell_type": "code",
   "execution_count": null,
   "metadata": {},
   "outputs": [],
   "source": []
  },
  {
   "cell_type": "markdown",
   "metadata": {},
   "source": [
    "## Part 4: Topic Modeling\n",
    "\n",
    "Let's find out what those yelp reviews are saying! :D\n",
    "\n",
    "1. Estimate a LDA topic model of the review text\n",
    "    - Keep the `iterations` parameter at or below 5 to reduce run time\n",
    "    - The `workers` parameter should match the number of physical cores on your machine.\n",
    "2. Create 1-2 visualizations of the results\n",
    "    - You can use the most important 3 words of a topic in relevant visualizations. Refer to yesterday's notebook to extract. \n",
    "3. In markdown, write 1-2 paragraphs of analysis on the results of your topic model\n",
    "\n",
    "__*Note*__: You can pass the DataFrame column of text reviews to gensim. You do not have to use a generator."
   ]
  },
  {
   "cell_type": "code",
   "execution_count": 65,
   "metadata": {
    "collapsed": false,
    "inputHidden": false,
    "jupyter": {
     "outputs_hidden": false
    },
    "outputHidden": false
   },
   "outputs": [],
   "source": [
    "from gensim.models import LdaMulticore\n",
    "from gensim.corpora import Dictionary\n",
    "from gensim.utils import simple_preprocess"
   ]
  },
  {
   "cell_type": "code",
   "execution_count": 68,
   "metadata": {},
   "outputs": [],
   "source": [
    "import spacy\n",
    "nlp = spacy.load('en_core_web_lg')\n",
    "STOPWORDS = nlp.Defaults.stop_words.union({' ', ''})"
   ]
  },
  {
   "cell_type": "code",
   "execution_count": 69,
   "metadata": {},
   "outputs": [],
   "source": [
    "def gensim_tokenize(text):\n",
    "    '''\n",
    "    error when using dictionary on spacy tokens, using this function instead for this section\n",
    "    '''\n",
    "    return [token for token in simple_preprocess(text) if token not in STOPWORDS]\n",
    "\n",
    "yelp['gen_tokens'] = yelp['text'].apply(gensim_tokenize)"
   ]
  },
  {
   "cell_type": "code",
   "execution_count": null,
   "metadata": {},
   "outputs": [],
   "source": []
  },
  {
   "cell_type": "markdown",
   "metadata": {},
   "source": []
  },
  {
   "cell_type": "code",
   "execution_count": 72,
   "metadata": {},
   "outputs": [],
   "source": [
    "id2word = Dictionary(yelp['gen_tokens'])"
   ]
  },
  {
   "cell_type": "markdown",
   "metadata": {},
   "source": [
    "Create a bag of words representation of the entire corpus"
   ]
  },
  {
   "cell_type": "code",
   "execution_count": 73,
   "metadata": {
    "collapsed": false,
    "inputHidden": false,
    "jupyter": {
     "outputs_hidden": false
    },
    "outputHidden": false
   },
   "outputs": [],
   "source": [
    "corpus = [id2word.doc2bow(tok) for tok in yelp['gen_tokens']]"
   ]
  },
  {
   "cell_type": "markdown",
   "metadata": {},
   "source": [
    "Your LDA model should be ready for estimation: "
   ]
  },
  {
   "cell_type": "code",
   "execution_count": 74,
   "metadata": {
    "collapsed": false,
    "inputHidden": false,
    "jupyter": {
     "outputs_hidden": false
    },
    "outputHidden": false
   },
   "outputs": [],
   "source": [
    "lda = LdaMulticore(corpus=corpus,\n",
    "                   id2word=id2word,\n",
    "                   iterations=5,\n",
    "                   workers=4,\n",
    "                   num_topics = 10 # You can change this parameter\n",
    "                  )"
   ]
  },
  {
   "cell_type": "markdown",
   "metadata": {},
   "source": [
    "Create 1-2 visualizations of the results"
   ]
  },
  {
   "cell_type": "code",
   "execution_count": 75,
   "metadata": {
    "collapsed": false,
    "inputHidden": false,
    "jupyter": {
     "outputs_hidden": false
    },
    "outputHidden": false
   },
   "outputs": [
    {
     "data": {
      "text/html": [
       "<div>\n",
       "<style scoped>\n",
       "    .dataframe tbody tr th:only-of-type {\n",
       "        vertical-align: middle;\n",
       "    }\n",
       "\n",
       "    .dataframe tbody tr th {\n",
       "        vertical-align: top;\n",
       "    }\n",
       "\n",
       "    .dataframe thead th {\n",
       "        text-align: right;\n",
       "    }\n",
       "</style>\n",
       "<table border=\"1\" class=\"dataframe\">\n",
       "  <thead>\n",
       "    <tr style=\"text-align: right;\">\n",
       "      <th></th>\n",
       "      <th>great food good</th>\n",
       "      <th>food good place</th>\n",
       "      <th>food place great</th>\n",
       "      <th>good food like</th>\n",
       "      <th>great time food</th>\n",
       "      <th>food time good</th>\n",
       "      <th>food service good</th>\n",
       "      <th>place good food</th>\n",
       "      <th>place good great</th>\n",
       "      <th>place great good</th>\n",
       "    </tr>\n",
       "  </thead>\n",
       "  <tbody>\n",
       "    <tr>\n",
       "      <th>0</th>\n",
       "      <td>0.082419</td>\n",
       "      <td>0.060100</td>\n",
       "      <td>0.152478</td>\n",
       "      <td>0.069284</td>\n",
       "      <td>0.097583</td>\n",
       "      <td>0.093502</td>\n",
       "      <td>0.157975</td>\n",
       "      <td>0.151406</td>\n",
       "      <td>0.086917</td>\n",
       "      <td>0.048336</td>\n",
       "    </tr>\n",
       "    <tr>\n",
       "      <th>1</th>\n",
       "      <td>0.016838</td>\n",
       "      <td>0.166948</td>\n",
       "      <td>0.076757</td>\n",
       "      <td>0.084862</td>\n",
       "      <td>0.110309</td>\n",
       "      <td>0.013450</td>\n",
       "      <td>0.103563</td>\n",
       "      <td>0.088261</td>\n",
       "      <td>0.196498</td>\n",
       "      <td>0.142514</td>\n",
       "    </tr>\n",
       "    <tr>\n",
       "      <th>2</th>\n",
       "      <td>0.119552</td>\n",
       "      <td>0.106227</td>\n",
       "      <td>0.092183</td>\n",
       "      <td>0.065990</td>\n",
       "      <td>0.150121</td>\n",
       "      <td>0.098344</td>\n",
       "      <td>0.083706</td>\n",
       "      <td>0.127507</td>\n",
       "      <td>0.073191</td>\n",
       "      <td>0.083179</td>\n",
       "    </tr>\n",
       "    <tr>\n",
       "      <th>3</th>\n",
       "      <td>0.110690</td>\n",
       "      <td>0.093226</td>\n",
       "      <td>0.134477</td>\n",
       "      <td>0.064395</td>\n",
       "      <td>0.097595</td>\n",
       "      <td>0.129838</td>\n",
       "      <td>0.107135</td>\n",
       "      <td>0.116751</td>\n",
       "      <td>0.031190</td>\n",
       "      <td>0.114704</td>\n",
       "    </tr>\n",
       "    <tr>\n",
       "      <th>4</th>\n",
       "      <td>0.131039</td>\n",
       "      <td>0.147062</td>\n",
       "      <td>0.076974</td>\n",
       "      <td>0.103983</td>\n",
       "      <td>0.057077</td>\n",
       "      <td>0.101181</td>\n",
       "      <td>0.090996</td>\n",
       "      <td>0.064718</td>\n",
       "      <td>0.124423</td>\n",
       "      <td>0.102547</td>\n",
       "    </tr>\n",
       "  </tbody>\n",
       "</table>\n",
       "</div>"
      ],
      "text/plain": [
       "   great food good  food good place  food place great  good food like  \\\n",
       "0         0.082419         0.060100          0.152478        0.069284   \n",
       "1         0.016838         0.166948          0.076757        0.084862   \n",
       "2         0.119552         0.106227          0.092183        0.065990   \n",
       "3         0.110690         0.093226          0.134477        0.064395   \n",
       "4         0.131039         0.147062          0.076974        0.103983   \n",
       "\n",
       "   great time food  food time good  food service good  place good food  \\\n",
       "0         0.097583        0.093502           0.157975         0.151406   \n",
       "1         0.110309        0.013450           0.103563         0.088261   \n",
       "2         0.150121        0.098344           0.083706         0.127507   \n",
       "3         0.097595        0.129838           0.107135         0.116751   \n",
       "4         0.057077        0.101181           0.090996         0.064718   \n",
       "\n",
       "   place good great  place great good  \n",
       "0          0.086917          0.048336  \n",
       "1          0.196498          0.142514  \n",
       "2          0.073191          0.083179  \n",
       "3          0.031190          0.114704  \n",
       "4          0.124423          0.102547  "
      ]
     },
     "execution_count": 75,
     "metadata": {},
     "output_type": "execute_result"
    }
   ],
   "source": [
    "lda_values = [lda[x] for x in corpus]\n",
    "\n",
    "word_list = [re.findall(r'\"([^\"]*)\"',t[1])[:3] for t in lda.print_topics()]\n",
    "\n",
    "topics = []\n",
    "for words in word_list:\n",
    "    topic = ' '.join(words)\n",
    "    topics.append(topic)   \n",
    "\n",
    "def update(doc):\n",
    "        d_dist = {k:0 for k in range(0,6)}\n",
    "        for t in doc:\n",
    "            d_dist[t[0]] = t[1]\n",
    "        return d_dist\n",
    "    \n",
    "new_distro = [update(d) for d in lda_values]\n",
    "\n",
    "df2 = pd.DataFrame(new_distro)\n",
    "df2.columns = topics\n",
    "df2.head()"
   ]
  },
  {
   "cell_type": "code",
   "execution_count": 76,
   "metadata": {},
   "outputs": [
    {
     "data": {
      "text/html": [
       "\n",
       "<link rel=\"stylesheet\" type=\"text/css\" href=\"https://cdn.rawgit.com/bmabey/pyLDAvis/files/ldavis.v1.0.0.css\">\n",
       "\n",
       "\n",
       "<div id=\"ldavis_el1563215169907644001866373080\"></div>\n",
       "<script type=\"text/javascript\">\n",
       "\n",
       "var ldavis_el1563215169907644001866373080_data = {\"mdsDat\": {\"x\": [-0.0033443858564670033, -0.0029052708185915823, -0.0022881321396960768, -0.000962690237640001, -0.0016930873593409873, 0.0035648527139258345, 0.0007179469014261321, 0.003993982435980468, 0.0013531750842365815, 0.0015636092761666396], \"y\": [-0.004476774558081441, 0.0027421571377982735, 0.0017280100358844093, -0.002744101836143324, 0.0013250184421302257, -0.0011272461855471455, 0.0009001052856610675, -0.0008003133588406325, 0.0034066193456096876, -0.0009534743084711197], \"topics\": [1, 2, 3, 4, 5, 6, 7, 8, 9, 10], \"cluster\": [1, 1, 1, 1, 1, 1, 1, 1, 1, 1], \"Freq\": [10.510519981384277, 10.488924026489258, 10.457858085632324, 10.283225059509277, 10.216318130493164, 9.907981872558594, 9.804205894470215, 9.75728988647461, 9.492879867553711, 9.080802917480469]}, \"tinfo\": {\"Term\": [\"time\", \"service\", \"place\", \"like\", \"food\", \"great\", \"chicken\", \"got\", \"nice\", \"know\", \"try\", \"menu\", \"experience\", \"good\", \"love\", \"didn\", \"order\", \"minutes\", \"new\", \"don\", \"delicious\", \"said\", \"better\", \"ordered\", \"ve\", \"eat\", \"clean\", \"find\", \"pizza\", \"recommend\", \"yuk\", \"chauffeured\", \"kashi\", \"saj\", \"noel\", \"tikki\", \"yik\", \"campbells\", \"romper\", \"diesel\", \"mcqueen\", \"cheesetart\", \"jina\", \"dillion\", \"corbin\", \"muffler\", \"steroids\", \"lad\", \"frys\", \"smog\", \"bariatric\", \"amann\", \"yummers\", \"hog\", \"erika\", \"pimpin\", \"propre\", \"pototes\", \"heal\", \"kouign\", \"reflexology\", \"menu\", \"fish\", \"neighbor\", \"tilapia\", \"kabab\", \"rice\", \"tasted\", \"tasty\", \"special\", \"like\", \"extremely\", \"coffee\", \"area\", \"service\", \"day\", \"star\", \"order\", \"gave\", \"good\", \"town\", \"bread\", \"super\", \"definitely\", \"car\", \"try\", \"amazing\", \"didn\", \"ordered\", \"fried\", \"especially\", \"great\", \"food\", \"ve\", \"better\", \"best\", \"went\", \"price\", \"place\", \"time\", \"restaurant\", \"think\", \"delicious\", \"recommend\", \"don\", \"staff\", \"got\", \"love\", \"new\", \"way\", \"came\", \"going\", \"nice\", \"come\", \"darlene\", \"ev\", \"suitemates\", \"sills\", \"krung\", \"golfweek\", \"tisk\", \"excepts\", \"fungus\", \"fingernail\", \"dane\", \"bello\", \"photographers\", \"ch\\u00e8re\", \"demonic\", \"merest\", \"meilleurs\", \"garbanzo\", \"tans\", \"dinned\", \"piri\", \"garments\", \"cwru\", \"slymans\", \"erik\", \"janet\", \"melinda\", \"coffeeshop\", \"operative\", \"propre\", \"styled\", \"fabulously\", \"victorian\", \"job\", \"perfect\", \"try\", \"hot\", \"place\", \"grill\", \"tea\", \"cool\", \"patio\", \"friend\", \"great\", \"bit\", \"neighborhood\", \"looking\", \"taste\", \"hair\", \"manicure\", \"better\", \"didn\", \"experience\", \"restaurant\", \"definitely\", \"professional\", \"new\", \"good\", \"leave\", \"friends\", \"service\", \"came\", \"time\", \"happy\", \"friendly\", \"food\", \"come\", \"love\", \"price\", \"little\", \"way\", \"fresh\", \"best\", \"people\", \"said\", \"nice\", \"like\", \"ve\", \"staff\", \"got\", \"amazing\", \"right\", \"don\", \"ordered\", \"bap\", \"bim\", \"pruitt\", \"cos\", \"parmesean\", \"luxuriously\", \"liaw\", \"pottery\", \"donair\", \"forgetful\", \"nipples\", \"tsoynami\", \"hairstylist\", \"topper\", \"pierogies\", \"exams\", \"daaayyuuummm\", \"dances\", \"bommmmmmb\", \"bi\", \"tahey\", \"meesed\", \"linda\", \"cola\", \"truvyjones\", \"calculate\", \"ana\", \"yc\", \"jitb\", \"katz\", \"taffy\", \"lines\", \"margaritas\", \"shitty\", \"said\", \"week\", \"trip\", \"personable\", \"got\", \"tonight\", \"place\", \"service\", \"went\", \"bar\", \"attentive\", \"delicious\", \"great\", \"beautiful\", \"love\", \"dishes\", \"good\", \"don\", \"ve\", \"little\", \"perfectly\", \"chicken\", \"roll\", \"best\", \"loved\", \"come\", \"house\", \"wanted\", \"friendly\", \"meal\", \"prices\", \"feel\", \"came\", \"customer\", \"try\", \"food\", \"ordered\", \"better\", \"time\", \"didn\", \"like\", \"definitely\", \"people\", \"amazing\", \"nice\", \"order\", \"imcomplete\", \"unite\", \"shipper\", \"astors\", \"gastropub\", \"squished\", \"guacamolie\", \"sevice\", \"swarma\", \"elva\", \"aweful\", \"accepts\", \"pnw\", \"ingridients\", \"tastey\", \"talia\", \"losses\", \"julio\", \"reese\", \"dtphx\", \"pediatric\", \"waistline\", \"locatoon\", \"pavers\", \"pennies\", \"bikini\", \"buzz\", \"ridgeville\", \"butmstill\", \"rains\", \"basa\", \"pepper\", \"bowling\", \"fixed\", \"food\", \"tacos\", \"miss\", \"broth\", \"window\", \"today\", \"house\", \"cream\", \"restaurant\", \"strip\", \"love\", \"left\", \"perfection\", \"nice\", \"good\", \"inside\", \"drinks\", \"like\", \"delicious\", \"felt\", \"cooked\", \"come\", \"don\", \"came\", \"day\", \"time\", \"cheese\", \"staff\", \"going\", \"great\", \"place\", \"eat\", \"better\", \"amazing\", \"order\", \"night\", \"service\", \"got\", \"definitely\", \"way\", \"ordered\", \"wait\", \"recommend\", \"best\", \"ve\", \"little\", \"went\", \"menu\", \"friendly\", \"people\", \"booster\", \"labove\", \"delivary\", \"shoooz\", \"openers\", \"squishies\", \"grossman\", \"accepting\", \"chapli\", \"rancheras\", \"tentative\", \"damp\", \"condensation\", \"reared\", \"ceux\", \"ghetto\", \"suxs\", \"kang\", \"sevice\", \"shawn\", \"exausting\", \"yc\", \"outfit\", \"embarrassment\", \"italians\", \"sandbar\", \"prepay\", \"frumpy\", \"blower\", \"stretch\", \"ins\", \"chop\", \"separately\", \"ignoring\", \"experience\", \"place\", \"find\", \"gym\", \"poke\", \"recommend\", \"sushi\", \"cat\", \"good\", \"high\", \"years\", \"got\", \"oh\", \"want\", \"asked\", \"use\", \"away\", \"thank\", \"minutes\", \"great\", \"phone\", \"like\", \"food\", \"door\", \"doesn\", \"order\", \"said\", \"people\", \"service\", \"delicious\", \"restaurant\", \"sweet\", \"sauce\", \"day\", \"staff\", \"went\", \"friendly\", \"best\", \"right\", \"know\", \"came\", \"don\", \"didn\", \"ve\", \"going\", \"time\", \"definitely\", \"nice\", \"come\", \"ordered\", \"\\u63a2\\u3057\\u305f\\u304a\\u5e97\\u3067\\u3057\\u305f\", \"\\u3068\\u3066\\u3082\\u6c17\\u306b\\u5165\\u308a\\u307e\\u3057\\u305f\", \"kiki\", \"butterflies\", \"sri\", \"estrada\", \"beause\", \"walkthrough\", \"ricketts\", \"badder\", \"conchas\", \"breadsticks\", \"kendel\", \"yeahhhhhhh\", \"coffeeshop\", \"inspiring\", \"carted\", \"vein\", \"lankan\", \"weapons\", \"stabbed\", \"aweseome\", \"booster\", \"danniell\", \"growers\", \"charing\", \"beaten\", \"picante\", \"worthwhile\", \"vinny\", \"baseboards\", \"amanda\", \"membership\", \"time\", \"nice\", \"worth\", \"style\", \"free\", \"know\", \"fried\", \"ve\", \"server\", \"excellent\", \"went\", \"pizza\", \"local\", \"food\", \"clean\", \"new\", \"beef\", \"cheese\", \"salad\", \"burger\", \"didn\", \"dishes\", \"good\", \"chicken\", \"ordered\", \"find\", \"thought\", \"order\", \"price\", \"eat\", \"try\", \"told\", \"place\", \"best\", \"come\", \"restaurant\", \"service\", \"don\", \"friendly\", \"like\", \"people\", \"definitely\", \"great\", \"little\", \"got\", \"staff\", \"love\", \"experience\", \"pretty\", \"everrrrr\", \"richardson\", \"tellers\", \"spineless\", \"goddess\", \"everrr\", \"whoopers\", \"produxt\", \"filipino\", \"harlow\", \"aims\", \"gustav\", \"makets\", \"environmental\", \"globe\", \"inspections\", \"blitzer\", \"jdt\", \"occur\", \"aveda\", \"gowns\", \"torture\", \"anton\", \"infiniti\", \"krung\", \"hog\", \"suffers\", \"melinda\", \"fufill\", \"raise\", \"talks\", \"horton\", \"feel\", \"feta\", \"look\", \"cancel\", \"started\", \"grill\", \"fries\", \"ones\", \"break\", \"money\", \"pizza\", \"ordered\", \"friendly\", \"desserts\", \"lot\", \"salad\", \"nails\", \"stars\", \"door\", \"book\", \"order\", \"time\", \"don\", \"style\", \"fresh\", \"people\", \"let\", \"hard\", \"open\", \"didn\", \"think\", \"like\", \"staff\", \"place\", \"told\", \"food\", \"minutes\", \"great\", \"eat\", \"service\", \"going\", \"came\", \"got\", \"good\", \"day\", \"ve\", \"restaurant\", \"chicken\", \"nice\", \"said\", \"best\", \"love\", \"little\", \"right\", \"experience\", \"went\", \"amazing\", \"fridendly\", \"pittsburg\", \"beause\", \"tiniest\", \"jina\", \"stubborn\", \"tasha\", \"complexly\", \"rows\", \"luis\", \"posoleshawwty\", \"nadine\", \"barhopping\", \"paints\", \"ishpm\", \"dq\", \"blowdry\", \"scraps\", \"inspiring\", \"delmonicos\", \"martial\", \"sw\", \"angelica\", \"accounting\", \"atms\", \"shelepak\", \"jeannette\", \"tonnue\", \"dentures\", \"medallions\", \"approachable\", \"matthew\", \"userid\", \"poor\", \"yelp\", \"gyros\", \"office\", \"jennifer\", \"thin\", \"quality\", \"email\", \"college\", \"got\", \"took\", \"time\", \"beer\", \"vegas\", \"tried\", \"free\", \"night\", \"nice\", \"like\", \"favorite\", \"charge\", \"recommend\", \"great\", \"little\", \"chicken\", \"left\", \"new\", \"job\", \"staff\", \"eat\", \"fries\", \"way\", \"didn\", \"actually\", \"think\", \"come\", \"work\", \"service\", \"place\", \"food\", \"good\", \"told\", \"amazing\", \"don\", \"cheese\", \"know\", \"went\", \"ve\", \"said\", \"order\", \"love\", \"best\", \"definitely\", \"ordered\", \"shimp\", \"kristy\", \"prima\", \"cranny\", \"neil\", \"jeffery\", \"devin\", \"janet\", \"aptive\", \"alam\", \"smokies\", \"worsed\", \"veranda\", \"garments\", \"browbeaten\", \"clinical\", \"puzzlemaster\", \"environmental\", \"elotes\", \"reclined\", \"noddle\", \"demonic\", \"discontinue\", \"keen\", \"lochiel\", \"solving\", \"calabash\", \"cosmetically\", \"zombies\", \"donovan\", \"stadium\", \"ppl\", \"lees\", \"greatest\", \"wheelchair\", \"state\", \"donuts\", \"works\", \"breakfast\", \"minutes\", \"thank\", \"table\", \"know\", \"sure\", \"best\", \"love\", \"great\", \"looking\", \"care\", \"wasn\", \"manager\", \"hours\", \"early\", \"ll\", \"coffee\", \"spicy\", \"room\", \"fix\", \"vegas\", \"like\", \"ve\", \"times\", \"experience\", \"perfect\", \"store\", \"good\", \"ago\", \"menu\", \"food\", \"pizza\", \"right\", \"place\", \"new\", \"came\", \"day\", \"staff\", \"chicken\", \"people\", \"time\", \"amazing\", \"nice\", \"don\", \"service\", \"went\", \"definitely\", \"got\", \"try\", \"friendly\", \"bb\", \"donair\", \"dahl\", \"roomtastic\", \"vadai\", \"caliente\", \"cary\", \"aryon\", \"turon\", \"samantha\", \"luxuriously\", \"greulich\", \"intelligently\", \"tonite\", \"verdi\", \"sono\", \"bello\", \"intelligent\", \"singapore\", \"momma\", \"\\u4f50\\u6599\\u885b\\u751f\", \"lining\", \"\\u4eca\\u5929\\u6211\\u9ede\\u4e86\\u4e00\\u500b\\u97d3\\u570b\\u51b7\\u9762\\u6e6f\", \"\\u51b0\\u6c99\\u7cfb\\u5217\\u4e0d\\u6703\\u592a\\u751c\\u81a9\", \"\\u670d\\u52d9\\u4eba\\u54e1\\u4e5f\\u5f88\\u656c\\u696d\", \"\\u9910\\u5f8c\\u9ede\\u4e86\\u751c\\u9ede\", \"ernie\", \"naga\", \"klavon\", \"\\u9019\\u662f\\u4e00\\u500b\\u4e0d\\u932f\\u7684\\u9078\\u64c7\", \"speakeasy\", \"splits\", \"reef\", \"drools\", \"trying\", \"lunch\", \"unique\", \"service\", \"chicken\", \"screwed\", \"food\", \"ordering\", \"cream\", \"customer\", \"future\", \"easily\", \"know\", \"ready\", \"pretty\", \"store\", \"customers\", \"quickly\", \"right\", \"need\", \"better\", \"like\", \"try\", \"find\", \"time\", \"told\", \"bit\", \"long\", \"wait\", \"sauce\", \"big\", \"coming\", \"came\", \"don\", \"ordered\", \"best\", \"experience\", \"good\", \"delicious\", \"little\", \"people\", \"definitely\", \"great\", \"place\", \"amazing\", \"ve\", \"menu\", \"want\", \"got\", \"love\", \"order\", \"nice\", \"friendly\", \"went\"], \"Freq\": [3305.0, 3507.0, 4564.0, 3333.0, 4762.0, 4133.0, 1344.0, 1988.0, 1690.0, 1176.0, 1400.0, 1195.0, 1251.0, 4459.0, 1589.0, 1468.0, 1450.0, 879.0, 1119.0, 1792.0, 1195.0, 1162.0, 1117.0, 1489.0, 1858.0, 832.0, 698.0, 786.0, 763.0, 1123.0, 14.98311710357666, 1.0195724964141846, 0.4460083842277527, 0.4258810579776764, 0.5982218980789185, 0.8982993364334106, 0.4006359875202179, 0.3805941939353943, 0.7239965200424194, 1.0123993158340454, 0.8565027117729187, 2.164000988006592, 0.6889715790748596, 0.6823986768722534, 0.356668084859848, 0.6670094728469849, 0.3436409533023834, 0.33984655141830444, 1.3052968978881836, 3.092935800552368, 0.33426433801651, 0.470182329416275, 0.6363533735275269, 0.6327536106109619, 0.6261512041091919, 0.6248378753662109, 0.6229526996612549, 0.622978925704956, 0.7558810114860535, 0.4578337073326111, 1.9813708066940308, 215.1139373779297, 67.59532165527344, 3.8839564323425293, 1.9480326175689697, 1.661759614944458, 85.9892578125, 63.5175895690918, 76.56484985351562, 73.90880584716797, 477.7625732421875, 58.97034454345703, 93.20612335205078, 108.7496566772461, 465.4129333496094, 165.99618530273438, 57.3674201965332, 196.83090209960938, 68.42134094238281, 536.7656860351562, 62.16973876953125, 62.2005615234375, 92.29635620117188, 180.63070678710938, 83.85792541503906, 179.30679321289062, 169.15725708007812, 185.846435546875, 186.30752563476562, 68.94276428222656, 54.20034408569336, 446.2267150878906, 501.9678955078125, 216.5292510986328, 138.6884307861328, 200.91619873046875, 166.695556640625, 111.97340393066406, 412.23895263671875, 301.2040710449219, 152.37669372558594, 108.84493255615234, 137.7286834716797, 132.0107879638672, 178.6151885986328, 157.65692138671875, 187.0990753173828, 161.61387634277344, 130.58441162109375, 126.8248519897461, 147.33615112304688, 127.21519470214844, 140.01614379882812, 131.28268432617188, 1.057373046875, 1.1837564706802368, 0.8704835176467896, 0.4398517608642578, 0.8365089297294617, 0.814137876033783, 1.3303998708724976, 0.39674586057662964, 1.2704660892486572, 1.0648269653320312, 1.410465121269226, 0.7398636937141418, 1.5671441555023193, 0.7240198850631714, 0.876154363155365, 0.7171550989151001, 1.0258691310882568, 0.37587618827819824, 0.679397463798523, 0.7072007060050964, 0.8212116956710815, 0.8512944579124451, 0.6979124546051025, 1.1775634288787842, 0.51235431432724, 0.6530887484550476, 0.5035252571105957, 0.5018249154090881, 0.6715501546859741, 0.6690830588340759, 2.2631866931915283, 1.129686951637268, 1.1158945560455322, 81.27497100830078, 88.71964263916016, 217.57574462890625, 90.8642578125, 626.100341796875, 17.140092849731445, 51.2255973815918, 57.45827865600586, 36.4868278503418, 77.40394592285156, 518.586669921875, 115.6380615234375, 18.796911239624023, 95.58594512939453, 84.96279907226562, 56.75331115722656, 10.390830039978027, 148.21371459960938, 188.88731384277344, 163.54486083984375, 172.38662719726562, 177.48426818847656, 50.58653259277344, 144.83506774902344, 482.34271240234375, 44.6861572265625, 76.11994171142578, 378.4232482910156, 175.14735412597656, 354.5101318359375, 92.91879272460938, 159.7307586669922, 458.49090576171875, 165.98744201660156, 183.02488708496094, 111.2170639038086, 159.12771606445312, 130.1539306640625, 113.42485809326172, 177.56883239746094, 150.01097106933594, 132.2528533935547, 164.2800750732422, 238.59280395507812, 170.87547302246094, 148.39320373535156, 166.25424194335938, 133.15103149414062, 117.69351959228516, 131.31199645996094, 124.15471649169922, 1.7908881902694702, 1.5297704935073853, 0.46566876769065857, 0.8043302297592163, 0.4075731635093689, 0.4048549234867096, 0.39296668767929077, 0.8674911260604858, 1.4009679555892944, 0.8936769962310791, 0.3804219365119934, 0.7097371816635132, 0.7085497975349426, 0.8597702980041504, 1.0913327932357788, 0.8132218718528748, 0.6651097536087036, 1.9706424474716187, 0.34525352716445923, 2.302515983581543, 0.6557223200798035, 0.6548295617103577, 1.234549880027771, 2.3860220909118652, 0.6412873864173889, 0.7747632265090942, 0.6038963198661804, 0.3295172154903412, 0.32969507575035095, 0.32624948024749756, 1.4493510723114014, 14.478102684020996, 11.673918724060059, 3.260516405105591, 179.03099060058594, 68.1271743774414, 39.7359733581543, 10.605630874633789, 286.36932373046875, 17.28327751159668, 596.6632080078125, 462.44512939453125, 199.06918334960938, 140.5536346435547, 41.0571403503418, 165.84373474121094, 510.3713073730469, 42.93283462524414, 211.85028076171875, 62.35861587524414, 536.0449829101562, 234.16188049316406, 240.63571166992188, 183.1271514892578, 36.2174186706543, 173.01898193359375, 40.73390197753906, 213.7209014892578, 66.50859832763672, 171.06260681152344, 67.93412017822266, 84.04930877685547, 159.6011505126953, 92.75503540039062, 84.74388885498047, 84.33448791503906, 162.42723083496094, 99.98146057128906, 155.9586181640625, 404.35003662109375, 162.913818359375, 129.58522033691406, 289.83428955078125, 156.52952575683594, 282.8744812011719, 145.9165496826172, 145.01829528808594, 137.49412536621094, 158.69227600097656, 143.05145263671875, 1.3505609035491943, 0.5025466084480286, 0.9356008768081665, 0.6133649349212646, 0.7982607483863831, 0.9197325706481934, 0.38935211300849915, 0.387098103761673, 0.38725072145462036, 0.5408094525337219, 0.3839970529079437, 0.8530659675598145, 0.37498655915260315, 0.714866578578949, 1.319393515586853, 0.7114182114601135, 1.010382890701294, 0.7007955312728882, 0.3605576455593109, 0.3542334735393524, 1.0986534357070923, 0.4930107891559601, 0.6581376791000366, 1.247327208518982, 0.7901757955551147, 2.106236457824707, 1.3024221658706665, 0.6447410583496094, 0.6370299458503723, 0.3300181031227112, 1.0531641244888306, 15.771614074707031, 5.953047275543213, 19.13871955871582, 657.7727661132812, 50.96045684814453, 25.752695083618164, 22.00105094909668, 25.54730796813965, 61.01158142089844, 72.59607696533203, 78.15919494628906, 178.1063232421875, 46.96891403198242, 207.42315673828125, 84.86407470703125, 17.876127243041992, 218.26611328125, 524.2923583984375, 62.668819427490234, 98.05506134033203, 387.2395324707031, 154.89749145507812, 48.44648742675781, 56.574188232421875, 174.42445373535156, 216.0052490234375, 176.3404083251953, 145.08596801757812, 357.81500244140625, 103.46269989013672, 178.95066833496094, 137.3135986328125, 414.1661682128906, 449.0118713378906, 106.28621673583984, 135.22105407714844, 154.4089813232422, 166.4000244140625, 115.93131256103516, 324.29840087890625, 204.70127868652344, 154.4730682373047, 125.12586212158203, 156.59632873535156, 111.55181884765625, 120.55453491210938, 153.52755737304688, 155.88803100585938, 132.30577087402344, 131.57850646972656, 121.3326187133789, 122.05525970458984, 121.95073699951172, 1.1363248825073242, 0.577434778213501, 1.0136085748672485, 0.4678623676300049, 0.6236825585365295, 1.4105125665664673, 0.5906130075454712, 1.9779466390609741, 0.7678412199020386, 0.38792791962623596, 1.0456005334854126, 0.5298218131065369, 0.8608388304710388, 0.5206121802330017, 1.1711419820785522, 1.724014401435852, 0.6911971569061279, 0.9731144905090332, 0.3539438843727112, 1.5557762384414673, 0.347308874130249, 0.3369525074958801, 1.0456912517547607, 0.3331024944782257, 0.33305594325065613, 0.7695266008377075, 0.33230817317962646, 0.33208373188972473, 0.7625166773796082, 3.267146587371826, 4.346404552459717, 4.473525047302246, 2.2933576107025146, 2.729665994644165, 190.63906860351562, 631.3268432617188, 119.38265228271484, 17.735322952270508, 7.8283281326293945, 162.479248046875, 79.81591796875, 6.562963485717773, 542.4850463867188, 59.09895706176758, 88.44911193847656, 252.66783142089844, 43.62921905517578, 132.51174926757812, 108.27085876464844, 66.26753234863281, 83.4814224243164, 51.44586181640625, 114.39738464355469, 439.0672302246094, 47.84636688232422, 359.1029357910156, 490.2457580566406, 43.67206954956055, 49.49449920654297, 166.95831298828125, 137.8089599609375, 158.80825805664062, 349.34674072265625, 139.08580017089844, 151.7146453857422, 75.79853820800781, 95.91999816894531, 132.1231231689453, 160.6868133544922, 154.1474151611328, 145.14242553710938, 177.7538299560547, 119.59626007080078, 129.3328399658203, 149.63446044921875, 173.8211669921875, 145.796142578125, 167.8871612548828, 122.09757995605469, 215.8878936767578, 133.5146026611328, 136.7355499267578, 129.900390625, 131.90310668945312, 0.6052902340888977, 0.5565268397331238, 0.4604373276233673, 0.8048462271690369, 0.39704951643943787, 1.2542425394058228, 0.7204257845878601, 0.7125929594039917, 0.7132074236869812, 0.6994367241859436, 0.6985554695129395, 1.2588168382644653, 0.6943631172180176, 0.6927515864372253, 0.5106853246688843, 0.9757655262947083, 0.3576626181602478, 0.3550125062465668, 0.3516792058944702, 0.6588134765625, 0.3420272767543793, 0.645129919052124, 0.6403748989105225, 0.3342376947402954, 0.6372493505477905, 0.46875348687171936, 1.4479057788848877, 0.6352728009223938, 1.881467580795288, 2.357116222381592, 1.1870278120040894, 2.606675863265991, 8.148316383361816, 458.0765686035156, 243.6017608642578, 94.32727813720703, 45.97356414794922, 83.01060485839844, 158.95285034179688, 69.52532196044922, 231.6267852783203, 88.47039794921875, 86.60372161865234, 176.59988403320312, 99.87519073486328, 43.339256286621094, 510.3433532714844, 91.67292785644531, 138.5726318359375, 61.95538330078125, 100.1148910522461, 82.20603942871094, 67.7961654663086, 167.47227478027344, 54.57442092895508, 439.8890686035156, 153.5184783935547, 162.7103271484375, 93.71817016601562, 60.49666213989258, 154.4335174560547, 101.01129150390625, 97.0320053100586, 148.14065551757812, 105.89785766601562, 373.89984130859375, 173.89820861816406, 145.71591186523438, 139.37362670898438, 280.88189697265625, 167.98434448242188, 135.86036682128906, 243.88575744628906, 136.83706665039062, 137.5703887939453, 267.82122802734375, 133.22950744628906, 163.2303466796875, 133.35293579101562, 133.92593383789062, 117.48553466796875, 108.8151626586914, 0.5335248708724976, 1.0158827304840088, 0.39018717408180237, 0.7449528574943542, 1.3911172151565552, 0.8719721436500549, 0.3674648106098175, 0.3544715940952301, 2.508646249771118, 0.8056576251983643, 0.6615728139877319, 0.656056821346283, 0.3362046778202057, 0.7768266797065735, 0.466342955827713, 1.0271602869033813, 0.3273930847644806, 1.0487911701202393, 1.267426609992981, 1.0283704996109009, 0.8636205196380615, 0.5658885836601257, 1.1328736543655396, 1.41658616065979, 0.5891419649124146, 0.5893459320068359, 0.5570787191390991, 0.431665301322937, 0.306816428899765, 2.0160233974456787, 1.0750672817230225, 1.4630019664764404, 106.24784088134766, 4.330936908721924, 91.02375030517578, 7.445026397705078, 53.71337890625, 15.811540603637695, 86.13941955566406, 28.555633544921875, 16.10747718811035, 67.02364349365234, 104.70466613769531, 191.00161743164062, 172.86648559570312, 24.72730255126953, 103.27255249023438, 85.46265411376953, 26.96821403503418, 79.46348571777344, 43.01424789428711, 17.299083709716797, 176.7027587890625, 370.0338134765625, 211.50656127929688, 41.38827896118164, 113.70907592773438, 164.77899169921875, 66.95535278320312, 56.681495666503906, 55.10409927368164, 168.1579132080078, 102.7442626953125, 332.12969970703125, 167.21348571777344, 428.63739013671875, 109.67597961425781, 439.1736755371094, 104.18672943115234, 374.8874816894531, 99.14945983886719, 308.143310546875, 119.94711303710938, 146.59881591796875, 185.62867736816406, 326.8808288574219, 123.87938690185547, 168.30152893066406, 133.91021728515625, 133.48556518554688, 150.7086181640625, 121.37200164794922, 146.36251831054688, 139.0396728515625, 126.6533203125, 113.89032745361328, 117.04261016845703, 116.55316925048828, 114.15472412109375, 1.0364243984222412, 1.2307584285736084, 0.8445515632629395, 0.8264351487159729, 0.8171960115432739, 1.8295178413391113, 0.40915340185165405, 0.7661435604095459, 2.6668715476989746, 0.6681164503097534, 0.7010176181793213, 0.669918417930603, 0.6691574454307556, 0.48208168148994446, 0.6451684832572937, 0.3320019543170929, 0.766739547252655, 0.33018985390663147, 0.8914105296134949, 0.3266260027885437, 1.3022905588150024, 1.301525354385376, 0.6143301725387573, 0.6061961650848389, 0.44324028491973877, 0.5986524224281311, 0.31245696544647217, 0.312203586101532, 1.8273462057113647, 0.8454458117485046, 1.4858381748199463, 0.7149470448493958, 1.5981858968734741, 32.384037017822266, 46.976768493652344, 4.552544593811035, 47.38713455200195, 4.546281337738037, 17.558696746826172, 94.08939361572266, 13.684965133666992, 8.283607482910156, 255.60374450683594, 120.15191650390625, 401.6841735839844, 67.03356170654297, 116.8753890991211, 92.0044937133789, 77.27660369873047, 120.6231460571289, 203.3850860595703, 373.1974792480469, 69.81883239746094, 35.479286193847656, 136.7056884765625, 434.41046142578125, 161.4176788330078, 158.379638671875, 76.48584747314453, 132.21435546875, 62.49287414550781, 168.69212341308594, 100.32923889160156, 72.79142761230469, 123.07701873779297, 159.64027404785156, 62.495361328125, 99.78494262695312, 149.6398162841797, 104.89714050292969, 308.6295471191406, 375.9099426269531, 379.65936279296875, 338.7964172363281, 105.54315948486328, 132.9783172607422, 163.0540313720703, 94.0157699584961, 120.70008087158203, 136.50852966308594, 158.10765075683594, 118.69537353515625, 132.9535675048828, 138.1520233154297, 133.9136962890625, 119.74883270263672, 120.23513793945312, 0.8224607110023499, 0.4266875982284546, 0.9802283048629761, 0.9792875647544861, 0.41611212491989136, 0.396992951631546, 0.9111813306808472, 0.7017660140991211, 0.7253676652908325, 0.37369322776794434, 0.8262931108474731, 0.7021503448486328, 0.5103216171264648, 0.8391603827476501, 0.683866024017334, 0.6834611296653748, 0.6808952689170837, 0.8240854740142822, 0.34894225001335144, 0.3477686047554016, 0.4867854714393616, 0.7959011197090149, 0.6553606390953064, 0.7567089796066284, 0.4789205491542816, 1.0605279207229614, 0.644149899482727, 0.6394728422164917, 0.9087325930595398, 1.3017947673797607, 2.70340633392334, 3.1279966831207275, 2.2660775184631348, 5.573298931121826, 1.4298042058944702, 11.785122871398926, 18.88095474243164, 17.452165603637695, 64.48890686035156, 117.00148010253906, 51.438045501708984, 103.16456604003906, 148.29110717773438, 118.59581756591797, 211.304443359375, 190.59295654296875, 448.5283508300781, 88.00359344482422, 69.21775817871094, 96.34546661376953, 58.54850769042969, 54.5648078918457, 29.92204475402832, 92.64012145996094, 78.22660827636719, 49.09131622314453, 111.58306121826172, 30.987232208251953, 103.69178009033203, 329.2881164550781, 198.3716583251953, 97.36001586914062, 138.80511474609375, 66.13765716552734, 80.89476776123047, 397.0222473144531, 40.71133041381836, 129.508056640625, 407.22418212890625, 88.83218383789062, 115.46269226074219, 378.7721252441406, 120.92524719238281, 147.54701232910156, 124.67572021484375, 151.46966552734375, 137.9716796875, 140.85926818847656, 256.482421875, 132.474609375, 149.91128540039062, 147.8257293701172, 204.7307586669922, 128.7232208251953, 127.05567169189453, 140.21292114257812, 122.42046356201172, 114.90811157226562, 1.0386056900024414, 1.8304132223129272, 0.940007209777832, 0.9150562286376953, 0.9031127691268921, 1.416155219078064, 0.829430878162384, 0.8017728924751282, 0.380959153175354, 1.832399606704712, 0.36714911460876465, 0.6853969097137451, 0.6711571216583252, 0.6563780903816223, 0.3414185345172882, 0.6519431471824646, 0.6497693061828613, 1.2229543924331665, 1.527239203453064, 0.6391447186470032, 0.3318105936050415, 1.1652523279190063, 0.32747724652290344, 0.3258870542049408, 0.32514816522598267, 0.32445159554481506, 0.6163135766983032, 0.3223173916339874, 0.6147242188453674, 0.3193103075027466, 1.945887565612793, 0.6077356338500977, 1.1331984996795654, 0.7228609323501587, 51.83002853393555, 100.40420532226562, 26.394926071166992, 424.7958068847656, 170.86729431152344, 3.57059907913208, 513.3954467773438, 26.878122329711914, 69.63195037841797, 99.89543151855469, 24.546497344970703, 15.198485374450684, 133.05308532714844, 31.741029739379883, 116.10223388671875, 79.3091049194336, 38.66862869262695, 34.79346466064453, 116.09613037109375, 72.1198959350586, 120.82929992675781, 308.93994140625, 145.44590759277344, 88.20376586914062, 300.4517517089844, 101.81063079833984, 89.35470581054688, 81.79167175292969, 100.83106994628906, 87.10053253173828, 71.82752227783203, 66.58465576171875, 141.1549530029297, 168.2540283203125, 144.177978515625, 164.16517639160156, 124.85592651367188, 335.0465087890625, 118.7487564086914, 132.0465087890625, 132.3821258544922, 130.71153259277344, 279.26190185546875, 291.53582763671875, 121.89511108398438, 150.68760681152344, 112.5416259765625, 101.13540649414062, 146.93177795410156, 126.3013916015625, 120.16287231445312, 124.47842407226562, 115.40640258789062, 115.38141632080078], \"Total\": [3305.0, 3507.0, 4564.0, 3333.0, 4762.0, 4133.0, 1344.0, 1988.0, 1690.0, 1176.0, 1400.0, 1195.0, 1251.0, 4459.0, 1589.0, 1468.0, 1450.0, 879.0, 1119.0, 1792.0, 1195.0, 1162.0, 1117.0, 1489.0, 1858.0, 832.0, 698.0, 786.0, 763.0, 1123.0, 30.705869674682617, 3.0977962017059326, 1.6200393438339233, 1.6211802959442139, 2.2788705825805664, 3.596410036087036, 1.6216108798980713, 1.6212730407714844, 3.101367950439453, 4.412093639373779, 3.754603385925293, 9.512899398803711, 3.0928874015808105, 3.0941648483276367, 1.6213947534561157, 3.098641872406006, 1.621152639389038, 1.6216331720352173, 6.237651348114014, 14.915022850036621, 1.622281789779663, 2.282921075820923, 3.098630428314209, 3.099759340286255, 3.0916337966918945, 3.0991978645324707, 3.0945067405700684, 3.0957727432250977, 3.756336212158203, 2.2822017669677734, 10.006400108337402, 1195.1505126953125, 380.209228515625, 20.533599853515625, 10.012858390808105, 8.531133651733398, 528.7213134765625, 384.9810791015625, 469.5131530761719, 455.4232482910156, 3333.01318359375, 368.56927490234375, 614.5362548828125, 729.2814331054688, 3507.107666015625, 1168.316650390625, 378.3935241699219, 1450.8270263671875, 461.4987487792969, 4459.56591796875, 420.48919677734375, 424.9576110839844, 656.9005737304688, 1396.35107421875, 596.3323974609375, 1400.6671142578125, 1314.3433837890625, 1468.7943115234375, 1489.0172119140625, 484.7055969238281, 373.4246520996094, 4133.3271484375, 4762.62353515625, 1858.910888671875, 1117.683349609375, 1753.1314697265625, 1432.4530029296875, 873.5501098632812, 4564.09619140625, 3305.97998046875, 1333.442138671875, 844.6021118164062, 1195.7059326171875, 1123.2921142578125, 1792.5401611328125, 1507.6005859375, 1988.69921875, 1589.3143310546875, 1119.224609375, 1072.0594482421875, 1442.761474609375, 1109.5330810546875, 1690.0753173828125, 1403.7142333984375, 3.089354991912842, 3.74861478805542, 3.0912089347839355, 1.619200587272644, 3.0869765281677246, 3.0901012420654297, 5.233290195465088, 1.6190866231918335, 5.2269673347473145, 4.408293724060059, 5.892563343048096, 3.0916171073913574, 6.549012184143066, 3.09386944770813, 3.75327467918396, 3.0840914249420166, 4.413198947906494, 1.619358777999878, 2.938791275024414, 3.09555721282959, 3.5956943035125732, 3.7551751136779785, 3.0920259952545166, 5.227088451385498, 2.2796378135681152, 2.9391119480133057, 2.278954267501831, 2.277109146118164, 3.090769052505493, 3.0945067405700684, 10.50316047668457, 5.23166036605835, 5.23150634765625, 474.80560302734375, 532.91845703125, 1400.6671142578125, 564.7740478515625, 4564.09619140625, 95.81251525878906, 319.827392578125, 362.71173095703125, 221.9678955078125, 503.319580078125, 4133.3271484375, 804.0224609375, 110.16513061523438, 677.5497436523438, 597.2070922851562, 382.31280517578125, 58.09838104248047, 1117.683349609375, 1468.7943115234375, 1251.0255126953125, 1333.442138671875, 1396.35107421875, 338.25238037109375, 1119.224609375, 4459.56591796875, 296.2229309082031, 547.5650024414062, 3507.107666015625, 1442.761474609375, 3305.97998046875, 697.3580932617188, 1337.709228515625, 4762.62353515625, 1403.7142333984375, 1589.3143310546875, 873.5501098632812, 1373.5762939453125, 1072.0594482421875, 905.8790283203125, 1753.1314697265625, 1384.597412109375, 1162.1412353515625, 1690.0753173828125, 3333.01318359375, 1858.910888671875, 1507.6005859375, 1988.69921875, 1314.3433837890625, 1057.3775634765625, 1792.5401611328125, 1489.0172119140625, 5.882126808166504, 5.222245216369629, 1.6191729307174683, 3.089743137359619, 1.619131088256836, 1.616758942604065, 1.618224024772644, 3.5986483097076416, 5.877431869506836, 3.7524526119232178, 1.6189868450164795, 3.0935800075531006, 3.093790054321289, 3.754939556121826, 4.916512489318848, 3.750674247741699, 3.0901010036468506, 9.18210220336914, 1.6198934316635132, 10.811210632324219, 3.0930728912353516, 3.0935020446777344, 5.889237403869629, 11.477523803710938, 3.0943820476531982, 3.7538485527038574, 2.9369194507598877, 1.6175209283828735, 1.618840217590332, 1.6181414127349854, 7.193856239318848, 76.02445220947266, 62.14829635620117, 17.059412002563477, 1162.1412353515625, 422.69830322265625, 238.79873657226562, 59.53861999511719, 1988.69921875, 101.0526351928711, 4564.09619140625, 3507.107666015625, 1432.4530029296875, 983.606689453125, 261.05975341796875, 1195.7059326171875, 4133.3271484375, 274.4048767089844, 1589.3143310546875, 414.9704895019531, 4459.56591796875, 1792.5401611328125, 1858.910888671875, 1373.5762939453125, 229.65638732910156, 1344.7923583984375, 268.24554443359375, 1753.1314697265625, 473.4764404296875, 1403.7142333984375, 490.6297607421875, 628.5369262695312, 1337.709228515625, 709.34912109375, 638.8298950195312, 644.0245361328125, 1442.761474609375, 799.6513061523438, 1400.6671142578125, 4762.62353515625, 1489.0172119140625, 1117.683349609375, 3305.97998046875, 1468.7943115234375, 3333.01318359375, 1396.35107421875, 1384.597412109375, 1314.3433837890625, 1690.0753173828125, 1450.8270263671875, 3.1021127700805664, 1.623442530632019, 3.098311185836792, 2.2824251651763916, 3.098257541656494, 3.7596256732940674, 1.6207540035247803, 1.6225301027297974, 1.6237541437149048, 2.2830820083618164, 1.6216273307800293, 3.6049180030822754, 1.6203022003173828, 3.100795269012451, 5.739659786224365, 3.1021459102630615, 4.417202472686768, 3.1008551120758057, 1.6222056150436401, 1.6229115724563599, 5.073054313659668, 2.2809414863586426, 3.0994982719421387, 5.895870685577393, 3.75494384765625, 10.021906852722168, 6.24457311630249, 3.0965166091918945, 3.0996549129486084, 1.6218147277832031, 5.235804080963135, 84.35627746582031, 31.60052490234375, 109.52239990234375, 4762.62353515625, 322.28009033203125, 154.7264862060547, 131.86317443847656, 155.10748291015625, 397.42083740234375, 490.6297607421875, 537.5762329101562, 1333.442138671875, 309.0710144042969, 1589.3143310546875, 595.6096801757812, 108.01028442382812, 1690.0753173828125, 4459.56591796875, 433.06280517578125, 716.0399169921875, 3333.01318359375, 1195.7059326171875, 327.7039489746094, 392.90625, 1403.7142333984375, 1792.5401611328125, 1442.761474609375, 1168.316650390625, 3305.97998046875, 796.2379150390625, 1507.6005859375, 1109.5330810546875, 4133.3271484375, 4564.09619140625, 832.5341186523438, 1117.683349609375, 1314.3433837890625, 1450.8270263671875, 941.366943359375, 3507.107666015625, 1988.69921875, 1396.35107421875, 1072.0594482421875, 1489.0172119140625, 941.732177734375, 1123.2921142578125, 1753.1314697265625, 1858.910888671875, 1373.5762939453125, 1432.4530029296875, 1195.1505126953125, 1337.709228515625, 1384.597412109375, 3.0930681228637695, 1.6199822425842285, 3.090510606765747, 1.6162710189819336, 2.278367519378662, 5.224822044372559, 2.279742479324341, 7.860909938812256, 3.096468925476074, 1.6204944849014282, 4.414762020111084, 2.2808852195739746, 3.7544684410095215, 2.281564474105835, 5.231642246246338, 7.713296890258789, 3.0958776473999023, 4.407881259918213, 1.6225301027297974, 7.211350917816162, 1.6197880506515503, 1.6175209283828735, 5.077486991882324, 1.6191699504852295, 1.621110439300537, 3.7498996257781982, 1.6212072372436523, 1.6202179193496704, 3.7545955181121826, 16.097272872924805, 22.04275131225586, 22.86284637451172, 11.676604270935059, 14.121384620666504, 1251.0255126953125, 4564.09619140625, 786.094482421875, 103.5496597290039, 43.6533317565918, 1123.2921142578125, 529.0366821289062, 36.20362854003906, 4459.56591796875, 398.73907470703125, 623.9358520507812, 1988.69921875, 289.3156433105469, 997.694580078125, 808.6181640625, 471.0699157714844, 611.5245361328125, 357.5601501464844, 879.8584594726562, 4133.3271484375, 336.6964416503906, 3333.01318359375, 4762.62353515625, 305.79010009765625, 353.4356384277344, 1450.8270263671875, 1162.1412353515625, 1384.597412109375, 3507.107666015625, 1195.7059326171875, 1333.442138671875, 584.621337890625, 790.1224975585938, 1168.316650390625, 1507.6005859375, 1432.4530029296875, 1337.709228515625, 1753.1314697265625, 1057.3775634765625, 1176.4007568359375, 1442.761474609375, 1792.5401611328125, 1468.7943115234375, 1858.910888671875, 1109.5330810546875, 3305.97998046875, 1396.35107421875, 1690.0753173828125, 1403.7142333984375, 1489.0172119140625, 1.6142733097076416, 1.615182638168335, 1.6169865131378174, 3.087175130844116, 1.6185963153839111, 5.228968143463135, 3.0839385986328125, 3.084977865219116, 3.089646339416504, 3.091193914413452, 3.0878748893737793, 5.574517726898193, 3.0898056030273438, 3.08880877494812, 2.277109146118164, 4.4055891036987305, 1.6156973838806152, 1.6182193756103516, 1.618341326713562, 3.0926873683929443, 1.6181079149246216, 3.093700647354126, 3.0930681228637695, 1.6189730167388916, 3.0953054428100586, 2.2776708602905273, 7.041589736938477, 3.089953899383545, 9.185358047485352, 11.630779266357422, 5.8866119384765625, 13.285406112670898, 43.2818717956543, 3305.97998046875, 1690.0753173828125, 622.6673583984375, 294.25335693359375, 568.373046875, 1176.4007568359375, 484.7055969238281, 1858.910888671875, 656.7486572265625, 643.9111328125, 1432.4530029296875, 763.0712280273438, 302.2608947753906, 4762.62353515625, 698.814208984375, 1119.224609375, 464.2317199707031, 796.2379150390625, 639.7025756835938, 517.2467041015625, 1468.7943115234375, 414.9704895019531, 4459.56591796875, 1344.7923583984375, 1489.0172119140625, 786.094482421875, 472.7853088378906, 1450.8270263671875, 873.5501098632812, 832.5341186523438, 1400.6671142578125, 930.6409301757812, 4564.09619140625, 1753.1314697265625, 1403.7142333984375, 1333.442138671875, 3507.107666015625, 1792.5401611328125, 1337.709228515625, 3333.01318359375, 1384.597412109375, 1396.35107421875, 4133.3271484375, 1373.5762939453125, 1988.69921875, 1507.6005859375, 1589.3143310546875, 1251.0255126953125, 1021.78125, 1.619608998298645, 3.7654287815093994, 1.619747519493103, 3.096728563308716, 5.8942766189575195, 3.7517311573028564, 1.621794581413269, 1.6218043565750122, 11.677077293395996, 3.7536120414733887, 3.095776081085205, 3.0968689918518066, 1.6214627027511597, 3.758730173110962, 2.283963680267334, 5.07582950592041, 1.6191105842590332, 5.230124473571777, 6.400259494781494, 5.229241371154785, 4.4167561531066895, 2.94006609916687, 5.8923797607421875, 7.374727725982666, 3.0869765281677246, 3.099759340286255, 2.9405839443206787, 2.278954267501831, 1.620358943939209, 10.673912048339844, 5.738725662231445, 7.877895832061768, 644.0245361328125, 24.181467056274414, 577.1756591796875, 42.65288162231445, 341.23321533203125, 95.81251525878906, 574.64013671875, 180.64833068847656, 101.39640808105469, 469.9288330078125, 763.0712280273438, 1489.0172119140625, 1337.709228515625, 162.22723388671875, 774.9853515625, 639.7025756835938, 180.25393676757812, 598.611328125, 305.79010009765625, 112.74401092529297, 1450.8270263671875, 3305.97998046875, 1792.5401611328125, 294.25335693359375, 905.8790283203125, 1384.597412109375, 503.7913513183594, 421.1772155761719, 409.5612487792969, 1468.7943115234375, 844.6021118164062, 3333.01318359375, 1507.6005859375, 4564.09619140625, 930.6409301757812, 4762.62353515625, 879.8584594726562, 4133.3271484375, 832.5341186523438, 3507.107666015625, 1109.5330810546875, 1442.761474609375, 1988.69921875, 4459.56591796875, 1168.316650390625, 1858.910888671875, 1333.442138671875, 1344.7923583984375, 1690.0753173828125, 1162.1412353515625, 1753.1314697265625, 1589.3143310546875, 1373.5762939453125, 1057.3775634765625, 1251.0255126953125, 1432.4530029296875, 1314.3433837890625, 3.0913589000701904, 4.414142608642578, 3.0839385986328125, 3.0938451290130615, 3.0928874015808105, 7.21423864364624, 1.6193245649337769, 3.0932981967926025, 11.320173263549805, 2.9394195079803467, 3.087233781814575, 3.0905683040618896, 3.0939199924468994, 2.2784383296966553, 3.093642234802246, 1.6192874908447266, 3.7513961791992188, 1.619030237197876, 4.4055891036987305, 1.6202614307403564, 6.539826393127441, 6.550220966339111, 3.0986275672912598, 3.092770576477051, 2.278008222579956, 3.0876035690307617, 1.6201415061950684, 1.6191188097000122, 9.503230094909668, 4.410791397094727, 7.86260461807251, 3.7433009147644043, 8.53442096710205, 190.40863037109375, 281.168701171875, 25.156463623046875, 299.1330871582031, 25.485044479370117, 107.65352630615234, 646.4651489257812, 83.7879409790039, 49.70342254638672, 1988.69921875, 883.9739990234375, 3305.97998046875, 474.5194091796875, 879.8590087890625, 684.7166137695312, 568.373046875, 941.366943359375, 1690.0753173828125, 3333.01318359375, 525.2467651367188, 248.27101135253906, 1123.2921142578125, 4133.3271484375, 1373.5762939453125, 1344.7923583984375, 595.6096801757812, 1119.224609375, 474.80560302734375, 1507.6005859375, 832.5341186523438, 574.64013671875, 1072.0594482421875, 1468.7943115234375, 481.30963134765625, 844.6021118164062, 1403.7142333984375, 907.7158203125, 3507.107666015625, 4564.09619140625, 4762.62353515625, 4459.56591796875, 930.6409301757812, 1314.3433837890625, 1792.5401611328125, 796.2379150390625, 1176.4007568359375, 1432.4530029296875, 1858.910888671875, 1162.1412353515625, 1450.8270263671875, 1589.3143310546875, 1753.1314697265625, 1396.35107421875, 1489.0172119140625, 3.094144105911255, 1.6232585906982422, 3.7588746547698975, 3.7558791637420654, 1.6200462579727173, 1.6228841543197632, 3.7539920806884766, 2.9391119480133057, 3.095196485519409, 1.6233311891555786, 3.6021292209625244, 3.0995290279388428, 2.282081127166748, 3.7551751136779785, 3.097393274307251, 3.0986745357513428, 3.0965492725372314, 3.758730173110962, 1.6218788623809814, 1.619699478149414, 2.2825140953063965, 3.75327467918396, 3.09138822555542, 3.6025280952453613, 2.2822892665863037, 5.085609436035156, 3.0928754806518555, 3.096839427947998, 4.418381690979004, 6.393848419189453, 13.313301086425781, 15.94936466217041, 11.648242950439453, 30.577407836914062, 7.214329719543457, 69.02404022216797, 117.49020385742188, 109.03433227539062, 452.7653503417969, 879.8584594726562, 357.5601501464844, 779.1583862304688, 1176.4007568359375, 922.0294189453125, 1753.1314697265625, 1589.3143310546875, 4133.3271484375, 677.5497436523438, 520.1118774414062, 757.993896484375, 437.64910888671875, 406.88238525390625, 207.55142211914062, 740.5020751953125, 614.5362548828125, 363.0394287109375, 924.6631469726562, 217.8623504638672, 879.8590087890625, 3333.01318359375, 1858.910888671875, 827.5012817382812, 1251.0255126953125, 532.91845703125, 675.6341552734375, 4459.56591796875, 301.3664245605469, 1195.1505126953125, 4762.62353515625, 763.0712280273438, 1057.3775634765625, 4564.09619140625, 1119.224609375, 1442.761474609375, 1168.316650390625, 1507.6005859375, 1344.7923583984375, 1384.597412109375, 3305.97998046875, 1314.3433837890625, 1690.0753173828125, 1792.5401611328125, 3507.107666015625, 1432.4530029296875, 1396.35107421875, 1988.69921875, 1400.6671142578125, 1337.709228515625, 3.0871434211730957, 5.877431869506836, 3.087815999984741, 3.0898544788360596, 3.0910725593566895, 5.232414722442627, 3.0891079902648926, 3.0922746658325195, 1.619008183479309, 8.021141052246094, 1.616758942604065, 3.092653751373291, 3.0883495807647705, 3.097940444946289, 1.6192611455917358, 3.092353105545044, 3.0916171073913574, 5.8897271156311035, 7.3577704429626465, 3.0872247219085693, 1.620811104774475, 5.729972839355469, 1.6203181743621826, 1.6208728551864624, 1.6207036972045898, 1.620665192604065, 3.093743324279785, 1.6198331117630005, 3.094921350479126, 1.6209417581558228, 10.013328552246094, 3.095418691635132, 5.886134147644043, 3.7551469802856445, 362.79327392578125, 740.5799560546875, 176.5564422607422, 3507.107666015625, 1344.7923583984375, 20.873653411865234, 4762.62353515625, 187.76272583007812, 537.5762329101562, 799.6513061523438, 171.124755859375, 102.25631713867188, 1176.4007568359375, 236.78793334960938, 1021.78125, 675.6341552734375, 299.20233154296875, 268.5145263671875, 1057.3775634765625, 616.63427734375, 1117.683349609375, 3333.01318359375, 1400.6671142578125, 786.094482421875, 3305.97998046875, 930.6409301757812, 804.0224609375, 724.992431640625, 941.732177734375, 790.1224975585938, 629.2085571289062, 574.1802368164062, 1442.761474609375, 1792.5401611328125, 1489.0172119140625, 1753.1314697265625, 1251.0255126953125, 4459.56591796875, 1195.7059326171875, 1373.5762939453125, 1384.597412109375, 1396.35107421875, 4133.3271484375, 4564.09619140625, 1314.3433837890625, 1858.910888671875, 1195.1505126953125, 997.694580078125, 1988.69921875, 1589.3143310546875, 1450.8270263671875, 1690.0753173828125, 1337.709228515625, 1432.4530029296875], \"Category\": [\"Default\", \"Default\", \"Default\", \"Default\", \"Default\", \"Default\", \"Default\", \"Default\", \"Default\", \"Default\", \"Default\", \"Default\", \"Default\", \"Default\", \"Default\", \"Default\", \"Default\", \"Default\", \"Default\", \"Default\", \"Default\", \"Default\", \"Default\", \"Default\", \"Default\", \"Default\", \"Default\", \"Default\", \"Default\", \"Default\", \"Topic1\", \"Topic1\", \"Topic1\", \"Topic1\", \"Topic1\", \"Topic1\", \"Topic1\", \"Topic1\", \"Topic1\", \"Topic1\", \"Topic1\", \"Topic1\", \"Topic1\", \"Topic1\", \"Topic1\", \"Topic1\", \"Topic1\", \"Topic1\", \"Topic1\", \"Topic1\", \"Topic1\", \"Topic1\", \"Topic1\", \"Topic1\", \"Topic1\", \"Topic1\", \"Topic1\", \"Topic1\", \"Topic1\", \"Topic1\", \"Topic1\", \"Topic1\", \"Topic1\", \"Topic1\", \"Topic1\", \"Topic1\", \"Topic1\", \"Topic1\", \"Topic1\", \"Topic1\", \"Topic1\", \"Topic1\", \"Topic1\", \"Topic1\", \"Topic1\", \"Topic1\", \"Topic1\", \"Topic1\", \"Topic1\", \"Topic1\", \"Topic1\", \"Topic1\", \"Topic1\", \"Topic1\", \"Topic1\", \"Topic1\", \"Topic1\", \"Topic1\", \"Topic1\", \"Topic1\", \"Topic1\", \"Topic1\", \"Topic1\", \"Topic1\", \"Topic1\", \"Topic1\", \"Topic1\", \"Topic1\", \"Topic1\", \"Topic1\", \"Topic1\", \"Topic1\", \"Topic1\", \"Topic1\", \"Topic1\", \"Topic1\", \"Topic1\", \"Topic1\", \"Topic1\", \"Topic1\", \"Topic1\", \"Topic1\", \"Topic1\", \"Topic1\", \"Topic2\", \"Topic2\", \"Topic2\", \"Topic2\", \"Topic2\", \"Topic2\", \"Topic2\", \"Topic2\", \"Topic2\", \"Topic2\", \"Topic2\", \"Topic2\", \"Topic2\", \"Topic2\", \"Topic2\", \"Topic2\", \"Topic2\", \"Topic2\", \"Topic2\", \"Topic2\", \"Topic2\", \"Topic2\", \"Topic2\", \"Topic2\", \"Topic2\", \"Topic2\", \"Topic2\", \"Topic2\", \"Topic2\", \"Topic2\", \"Topic2\", \"Topic2\", \"Topic2\", \"Topic2\", \"Topic2\", \"Topic2\", \"Topic2\", \"Topic2\", \"Topic2\", \"Topic2\", \"Topic2\", \"Topic2\", \"Topic2\", \"Topic2\", \"Topic2\", \"Topic2\", \"Topic2\", \"Topic2\", \"Topic2\", \"Topic2\", \"Topic2\", \"Topic2\", \"Topic2\", \"Topic2\", \"Topic2\", \"Topic2\", \"Topic2\", \"Topic2\", \"Topic2\", \"Topic2\", \"Topic2\", \"Topic2\", \"Topic2\", \"Topic2\", \"Topic2\", \"Topic2\", \"Topic2\", \"Topic2\", \"Topic2\", \"Topic2\", \"Topic2\", \"Topic2\", \"Topic2\", \"Topic2\", \"Topic2\", \"Topic2\", \"Topic2\", \"Topic2\", \"Topic2\", \"Topic2\", \"Topic2\", \"Topic2\", \"Topic2\", \"Topic2\", \"Topic3\", \"Topic3\", \"Topic3\", \"Topic3\", \"Topic3\", \"Topic3\", \"Topic3\", \"Topic3\", \"Topic3\", \"Topic3\", \"Topic3\", \"Topic3\", \"Topic3\", \"Topic3\", \"Topic3\", \"Topic3\", \"Topic3\", \"Topic3\", \"Topic3\", \"Topic3\", \"Topic3\", \"Topic3\", \"Topic3\", \"Topic3\", \"Topic3\", \"Topic3\", \"Topic3\", \"Topic3\", \"Topic3\", \"Topic3\", \"Topic3\", \"Topic3\", \"Topic3\", \"Topic3\", \"Topic3\", \"Topic3\", \"Topic3\", \"Topic3\", \"Topic3\", \"Topic3\", \"Topic3\", \"Topic3\", \"Topic3\", \"Topic3\", \"Topic3\", \"Topic3\", \"Topic3\", \"Topic3\", \"Topic3\", \"Topic3\", \"Topic3\", \"Topic3\", \"Topic3\", \"Topic3\", \"Topic3\", \"Topic3\", \"Topic3\", \"Topic3\", \"Topic3\", \"Topic3\", \"Topic3\", \"Topic3\", \"Topic3\", \"Topic3\", \"Topic3\", \"Topic3\", \"Topic3\", \"Topic3\", \"Topic3\", \"Topic3\", \"Topic3\", \"Topic3\", \"Topic3\", \"Topic3\", \"Topic3\", \"Topic3\", \"Topic3\", \"Topic3\", \"Topic3\", \"Topic3\", \"Topic4\", \"Topic4\", \"Topic4\", \"Topic4\", \"Topic4\", \"Topic4\", \"Topic4\", \"Topic4\", \"Topic4\", \"Topic4\", \"Topic4\", \"Topic4\", \"Topic4\", \"Topic4\", \"Topic4\", \"Topic4\", \"Topic4\", \"Topic4\", \"Topic4\", \"Topic4\", \"Topic4\", \"Topic4\", \"Topic4\", \"Topic4\", \"Topic4\", \"Topic4\", \"Topic4\", \"Topic4\", \"Topic4\", \"Topic4\", \"Topic4\", \"Topic4\", \"Topic4\", \"Topic4\", \"Topic4\", \"Topic4\", \"Topic4\", \"Topic4\", \"Topic4\", \"Topic4\", \"Topic4\", \"Topic4\", \"Topic4\", \"Topic4\", \"Topic4\", \"Topic4\", \"Topic4\", \"Topic4\", \"Topic4\", \"Topic4\", \"Topic4\", \"Topic4\", \"Topic4\", \"Topic4\", \"Topic4\", \"Topic4\", \"Topic4\", \"Topic4\", \"Topic4\", \"Topic4\", \"Topic4\", \"Topic4\", \"Topic4\", \"Topic4\", \"Topic4\", \"Topic4\", \"Topic4\", \"Topic4\", \"Topic4\", \"Topic4\", \"Topic4\", \"Topic4\", \"Topic4\", \"Topic4\", \"Topic4\", \"Topic4\", \"Topic4\", \"Topic4\", \"Topic4\", \"Topic4\", \"Topic4\", \"Topic4\", \"Topic4\", \"Topic4\", \"Topic5\", \"Topic5\", \"Topic5\", \"Topic5\", \"Topic5\", \"Topic5\", \"Topic5\", \"Topic5\", \"Topic5\", \"Topic5\", \"Topic5\", \"Topic5\", \"Topic5\", \"Topic5\", \"Topic5\", \"Topic5\", \"Topic5\", \"Topic5\", \"Topic5\", \"Topic5\", \"Topic5\", \"Topic5\", \"Topic5\", \"Topic5\", \"Topic5\", \"Topic5\", \"Topic5\", \"Topic5\", \"Topic5\", \"Topic5\", \"Topic5\", \"Topic5\", \"Topic5\", \"Topic5\", \"Topic5\", \"Topic5\", \"Topic5\", \"Topic5\", \"Topic5\", \"Topic5\", \"Topic5\", \"Topic5\", \"Topic5\", \"Topic5\", \"Topic5\", \"Topic5\", \"Topic5\", \"Topic5\", \"Topic5\", \"Topic5\", \"Topic5\", \"Topic5\", \"Topic5\", \"Topic5\", \"Topic5\", \"Topic5\", \"Topic5\", \"Topic5\", \"Topic5\", \"Topic5\", \"Topic5\", \"Topic5\", \"Topic5\", \"Topic5\", \"Topic5\", \"Topic5\", \"Topic5\", \"Topic5\", \"Topic5\", \"Topic5\", \"Topic5\", \"Topic5\", \"Topic5\", \"Topic5\", \"Topic5\", \"Topic5\", \"Topic5\", \"Topic5\", \"Topic5\", \"Topic5\", \"Topic5\", \"Topic5\", \"Topic5\", \"Topic5\", \"Topic6\", \"Topic6\", \"Topic6\", \"Topic6\", \"Topic6\", \"Topic6\", \"Topic6\", \"Topic6\", \"Topic6\", \"Topic6\", \"Topic6\", \"Topic6\", \"Topic6\", \"Topic6\", \"Topic6\", \"Topic6\", \"Topic6\", \"Topic6\", \"Topic6\", \"Topic6\", \"Topic6\", \"Topic6\", \"Topic6\", \"Topic6\", \"Topic6\", \"Topic6\", \"Topic6\", \"Topic6\", \"Topic6\", \"Topic6\", \"Topic6\", \"Topic6\", \"Topic6\", \"Topic6\", \"Topic6\", \"Topic6\", \"Topic6\", \"Topic6\", \"Topic6\", \"Topic6\", \"Topic6\", \"Topic6\", \"Topic6\", \"Topic6\", \"Topic6\", \"Topic6\", \"Topic6\", \"Topic6\", \"Topic6\", \"Topic6\", \"Topic6\", \"Topic6\", \"Topic6\", \"Topic6\", \"Topic6\", \"Topic6\", \"Topic6\", \"Topic6\", \"Topic6\", \"Topic6\", \"Topic6\", \"Topic6\", \"Topic6\", \"Topic6\", \"Topic6\", \"Topic6\", \"Topic6\", \"Topic6\", \"Topic6\", \"Topic6\", \"Topic6\", \"Topic6\", \"Topic6\", \"Topic6\", \"Topic6\", \"Topic6\", \"Topic6\", \"Topic6\", \"Topic6\", \"Topic6\", \"Topic6\", \"Topic6\", \"Topic7\", \"Topic7\", \"Topic7\", \"Topic7\", \"Topic7\", \"Topic7\", \"Topic7\", \"Topic7\", \"Topic7\", \"Topic7\", \"Topic7\", \"Topic7\", \"Topic7\", \"Topic7\", \"Topic7\", \"Topic7\", \"Topic7\", \"Topic7\", \"Topic7\", \"Topic7\", \"Topic7\", \"Topic7\", \"Topic7\", \"Topic7\", \"Topic7\", \"Topic7\", \"Topic7\", \"Topic7\", \"Topic7\", \"Topic7\", \"Topic7\", \"Topic7\", \"Topic7\", \"Topic7\", \"Topic7\", \"Topic7\", \"Topic7\", \"Topic7\", \"Topic7\", \"Topic7\", \"Topic7\", \"Topic7\", \"Topic7\", \"Topic7\", \"Topic7\", \"Topic7\", \"Topic7\", \"Topic7\", \"Topic7\", \"Topic7\", \"Topic7\", \"Topic7\", \"Topic7\", \"Topic7\", \"Topic7\", \"Topic7\", \"Topic7\", \"Topic7\", \"Topic7\", \"Topic7\", \"Topic7\", \"Topic7\", \"Topic7\", \"Topic7\", \"Topic7\", \"Topic7\", \"Topic7\", \"Topic7\", \"Topic7\", \"Topic7\", \"Topic7\", \"Topic7\", \"Topic7\", \"Topic7\", \"Topic7\", \"Topic7\", \"Topic7\", \"Topic7\", \"Topic7\", \"Topic7\", \"Topic7\", \"Topic7\", \"Topic7\", \"Topic7\", \"Topic7\", \"Topic7\", \"Topic7\", \"Topic7\", \"Topic7\", \"Topic8\", \"Topic8\", \"Topic8\", \"Topic8\", \"Topic8\", \"Topic8\", \"Topic8\", \"Topic8\", \"Topic8\", \"Topic8\", \"Topic8\", \"Topic8\", \"Topic8\", \"Topic8\", \"Topic8\", \"Topic8\", \"Topic8\", \"Topic8\", \"Topic8\", \"Topic8\", \"Topic8\", \"Topic8\", \"Topic8\", \"Topic8\", \"Topic8\", \"Topic8\", \"Topic8\", \"Topic8\", \"Topic8\", \"Topic8\", \"Topic8\", \"Topic8\", \"Topic8\", \"Topic8\", \"Topic8\", \"Topic8\", \"Topic8\", \"Topic8\", \"Topic8\", \"Topic8\", \"Topic8\", \"Topic8\", \"Topic8\", \"Topic8\", \"Topic8\", \"Topic8\", \"Topic8\", \"Topic8\", \"Topic8\", \"Topic8\", \"Topic8\", \"Topic8\", \"Topic8\", \"Topic8\", \"Topic8\", \"Topic8\", \"Topic8\", \"Topic8\", \"Topic8\", \"Topic8\", \"Topic8\", \"Topic8\", \"Topic8\", \"Topic8\", \"Topic8\", \"Topic8\", \"Topic8\", \"Topic8\", \"Topic8\", \"Topic8\", \"Topic8\", \"Topic8\", \"Topic8\", \"Topic8\", \"Topic8\", \"Topic8\", \"Topic8\", \"Topic8\", \"Topic8\", \"Topic8\", \"Topic8\", \"Topic8\", \"Topic8\", \"Topic8\", \"Topic8\", \"Topic8\", \"Topic8\", \"Topic9\", \"Topic9\", \"Topic9\", \"Topic9\", \"Topic9\", \"Topic9\", \"Topic9\", \"Topic9\", \"Topic9\", \"Topic9\", \"Topic9\", \"Topic9\", \"Topic9\", \"Topic9\", \"Topic9\", \"Topic9\", \"Topic9\", \"Topic9\", \"Topic9\", \"Topic9\", \"Topic9\", \"Topic9\", \"Topic9\", \"Topic9\", \"Topic9\", \"Topic9\", \"Topic9\", \"Topic9\", \"Topic9\", \"Topic9\", \"Topic9\", \"Topic9\", \"Topic9\", \"Topic9\", \"Topic9\", \"Topic9\", \"Topic9\", \"Topic9\", \"Topic9\", \"Topic9\", \"Topic9\", \"Topic9\", \"Topic9\", \"Topic9\", \"Topic9\", \"Topic9\", \"Topic9\", \"Topic9\", \"Topic9\", \"Topic9\", \"Topic9\", \"Topic9\", \"Topic9\", \"Topic9\", \"Topic9\", \"Topic9\", \"Topic9\", \"Topic9\", \"Topic9\", \"Topic9\", \"Topic9\", \"Topic9\", \"Topic9\", \"Topic9\", \"Topic9\", \"Topic9\", \"Topic9\", \"Topic9\", \"Topic9\", \"Topic9\", \"Topic9\", \"Topic9\", \"Topic9\", \"Topic9\", \"Topic9\", \"Topic9\", \"Topic9\", \"Topic9\", \"Topic9\", \"Topic9\", \"Topic9\", \"Topic9\", \"Topic9\", \"Topic9\", \"Topic9\", \"Topic9\", \"Topic9\", \"Topic9\", \"Topic10\", \"Topic10\", \"Topic10\", \"Topic10\", \"Topic10\", \"Topic10\", \"Topic10\", \"Topic10\", \"Topic10\", \"Topic10\", \"Topic10\", \"Topic10\", \"Topic10\", \"Topic10\", \"Topic10\", \"Topic10\", \"Topic10\", \"Topic10\", \"Topic10\", \"Topic10\", \"Topic10\", \"Topic10\", \"Topic10\", \"Topic10\", \"Topic10\", \"Topic10\", \"Topic10\", \"Topic10\", \"Topic10\", \"Topic10\", \"Topic10\", \"Topic10\", \"Topic10\", \"Topic10\", \"Topic10\", \"Topic10\", \"Topic10\", \"Topic10\", \"Topic10\", \"Topic10\", \"Topic10\", \"Topic10\", \"Topic10\", \"Topic10\", \"Topic10\", \"Topic10\", \"Topic10\", \"Topic10\", \"Topic10\", \"Topic10\", \"Topic10\", \"Topic10\", \"Topic10\", \"Topic10\", \"Topic10\", \"Topic10\", \"Topic10\", \"Topic10\", \"Topic10\", \"Topic10\", \"Topic10\", \"Topic10\", \"Topic10\", \"Topic10\", \"Topic10\", \"Topic10\", \"Topic10\", \"Topic10\", \"Topic10\", \"Topic10\", \"Topic10\", \"Topic10\", \"Topic10\", \"Topic10\", \"Topic10\", \"Topic10\", \"Topic10\", \"Topic10\", \"Topic10\", \"Topic10\", \"Topic10\", \"Topic10\", \"Topic10\", \"Topic10\", \"Topic10\", \"Topic10\", \"Topic10\", \"Topic10\"], \"logprob\": [30.0, 29.0, 28.0, 27.0, 26.0, 25.0, 24.0, 23.0, 22.0, 21.0, 20.0, 19.0, 18.0, 17.0, 16.0, 15.0, 14.0, 13.0, 12.0, 11.0, 10.0, 9.0, 8.0, 7.0, 6.0, 5.0, 4.0, 3.0, 2.0, 1.0, -8.13700008392334, -10.82450008392334, -11.651300430297852, -11.697500228881836, -11.35770034790039, -10.951199531555176, -11.758600234985352, -11.809900283813477, -11.166899681091309, -10.831600189208984, -10.998800277709961, -10.071999549865723, -11.216500282287598, -11.226099967956543, -11.874899864196777, -11.248900413513184, -11.912099838256836, -11.923199653625488, -10.577500343322754, -9.714799880981445, -11.93970012664795, -11.598600387573242, -11.295900344848633, -11.301600456237793, -11.312100410461426, -11.314200401306152, -11.31719970703125, -11.31719970703125, -11.123800277709961, -11.625200271606445, -10.160099983215332, -5.472799777984619, -6.63040018081665, -9.487099647521973, -10.17710018157959, -10.336000442504883, -6.389699935913086, -6.692599773406982, -6.505799770355225, -6.541100025177002, -4.674799919128418, -6.766900062561035, -6.309100151062012, -6.154900074005127, -4.701000213623047, -5.73199987411499, -6.794400215148926, -5.561600208282471, -6.618199825286865, -4.5584001541137695, -6.714099884033203, -6.713600158691406, -6.318900108337402, -5.647500038146973, -6.41480016708374, -5.654799938201904, -5.713099956512451, -5.61899995803833, -5.616499900817871, -6.610599994659424, -6.851200103759766, -4.743100166320801, -4.625400066375732, -5.46619987487793, -5.9116997718811035, -5.540999889373779, -5.727799892425537, -6.125699996948242, -4.822299957275391, -5.136099815368652, -5.817599773406982, -6.1539998054504395, -5.918600082397461, -5.960999965667725, -5.658699989318848, -5.7835001945495605, -5.612299919128418, -5.758699893951416, -5.97189998626709, -6.001100063323975, -5.851200103759766, -5.998000144958496, -5.902200222015381, -5.966599941253662, -10.786100387573242, -10.673199653625488, -10.980600357055664, -11.663200378417969, -11.020400047302246, -11.047499656677246, -10.556400299072266, -11.766300201416016, -10.602499961853027, -10.77910041809082, -10.497900009155273, -11.143199920654297, -10.392600059509277, -11.164799690246582, -10.974100112915039, -11.174300193786621, -10.816300392150879, -11.82040023803711, -11.228400230407715, -11.188300132751465, -11.038800239562988, -11.002900123596191, -11.201499938964844, -10.678400039672852, -11.510600090026855, -11.267900466918945, -11.527999877929688, -11.531399726867676, -11.239999771118164, -11.24370002746582, -10.025099754333496, -10.719900131225586, -10.732199668884277, -6.443999767303467, -6.356400012969971, -5.4593000411987305, -6.332499980926514, -4.402400016784668, -8.000399589538574, -6.905600070953369, -6.790800094604492, -7.244900226593018, -6.492800235748291, -4.590799808502197, -6.091400146484375, -7.908199787139893, -6.281799793243408, -6.399600028991699, -6.803100109100342, -8.500900268554688, -5.843200206756592, -5.6006999015808105, -5.744800090789795, -5.6921000480651855, -5.663000106811523, -6.9182000160217285, -5.866300106048584, -4.6631999015808105, -7.042200088500977, -6.5096001625061035, -4.905799865722656, -5.676199913024902, -4.971099853515625, -6.310100078582764, -5.768400192260742, -4.713900089263916, -5.730000019073486, -5.632199764251709, -6.13040018081665, -5.772200107574463, -5.973100185394287, -6.1107001304626465, -5.662499904632568, -5.831200122833252, -5.957099914550781, -5.740300178527832, -5.367099761962891, -5.700900077819824, -5.8420000076293945, -5.728300094604492, -5.950399875640869, -6.073800086975098, -5.964300155639648, -6.020299911499023, -10.256199836730957, -10.413800239562988, -11.60319995880127, -11.056599617004395, -11.73639965057373, -11.7431001663208, -11.772899627685547, -10.980999946594238, -10.501700401306152, -10.951299667358398, -11.805399894714355, -11.18179988861084, -11.18340015411377, -10.989999771118164, -10.751500129699707, -11.045599937438965, -11.246700286865234, -10.160499572753906, -11.902400016784668, -10.004899978637695, -11.260899543762207, -11.262299537658691, -10.628199577331543, -9.969300270080566, -11.28320026397705, -11.094099998474121, -11.343199729919434, -11.949000358581543, -11.94849967956543, -11.958999633789062, -10.46780014038086, -8.166299819946289, -8.381500244140625, -9.656999588012695, -5.651299953460693, -6.617499828338623, -7.156599998474121, -8.477499961853027, -5.181600093841553, -7.989200115203857, -4.447500228881836, -4.702400207519531, -5.545199871063232, -5.8933000564575195, -7.123899936676025, -5.72790002822876, -4.603799819946289, -7.0792999267578125, -5.482999801635742, -6.705999851226807, -4.554699897766113, -5.382900238037109, -5.355599880218506, -5.628699779510498, -7.2494001388549805, -5.685500144958496, -7.131800174713135, -5.4741997718811035, -6.641600131988525, -5.696899890899658, -6.6203999519348145, -6.40749979019165, -5.766200065612793, -6.308899879455566, -6.3993000984191895, -6.404099941253662, -5.748700141906738, -6.23390007019043, -5.789299964904785, -4.836599826812744, -5.745699882507324, -5.974599838256836, -5.169600009918213, -5.785699844360352, -5.193900108337402, -5.855899810791016, -5.861999988555908, -5.915299892425537, -5.771900177001953, -5.875699996948242, -10.521499633789062, -11.510100364685059, -10.88860034942627, -11.31089973449707, -11.04740047454834, -10.905699729919434, -11.765299797058105, -11.771100044250488, -11.770700454711914, -11.436699867248535, -11.779199600219727, -10.980999946594238, -11.802900314331055, -11.157699584960938, -10.544899940490723, -11.162599563598633, -10.811699867248535, -11.177599906921387, -11.84220027923584, -11.85990047454834, -10.727999687194824, -11.52929973602295, -11.240400314331055, -10.601099967956543, -11.057600021362305, -10.077199935913086, -10.55780029296875, -11.26099967956543, -11.27299976348877, -11.930700302124023, -10.770299911499023, -8.063799858093262, -9.038200378417969, -7.870299816131592, -4.333199977874756, -6.890999794006348, -7.573500156402588, -7.730999946594238, -7.581500053405762, -6.710999965667725, -6.537099838256836, -6.4633002281188965, -5.639699935913086, -6.972599983215332, -5.487299919128418, -6.38100004196167, -7.938600063323975, -5.436299800872803, -4.559999942779541, -6.684199810028076, -6.236499786376953, -4.86299991607666, -5.779300212860107, -6.9415998458862305, -6.786499977111816, -5.660600185394287, -5.446800231933594, -5.649600028991699, -5.844699859619141, -4.941999912261963, -6.182799816131592, -5.634900093078613, -5.899799823760986, -4.79580020904541, -4.715000152587891, -6.155900001525879, -5.91510009765625, -5.78249979019165, -5.707699775695801, -6.0690999031066895, -5.04040002822876, -5.500500202178955, -5.7820000648498535, -5.992700099945068, -5.768400192260742, -6.107600212097168, -6.03000020980835, -5.7881999015808105, -5.772900104522705, -5.9369001388549805, -5.942500114440918, -6.023499965667725, -6.017600059509277, -6.018400192260742, -10.687700271606445, -11.364700317382812, -10.802000045776367, -11.57509994506836, -11.287599563598633, -10.471599578857422, -11.342100143432617, -10.133500099182129, -11.079700469970703, -11.762499809265137, -10.770899772644043, -11.450699806213379, -10.965399742126465, -11.468299865722656, -10.657600402832031, -10.270899772644043, -11.184900283813477, -10.84280014038086, -11.854100227355957, -10.373600006103516, -11.873100280761719, -11.903300285339355, -10.770899772644043, -11.914799690246582, -11.914999961853027, -11.077500343322754, -11.917200088500977, -11.917900085449219, -11.086700439453125, -9.631600379943848, -9.346199989318848, -9.317399978637695, -9.98550033569336, -9.811400413513184, -5.565100193023682, -4.367700099945068, -6.033199787139893, -7.940000057220459, -8.757800102233887, -5.724999904632568, -6.435800075531006, -8.934100151062012, -4.519400119781494, -6.736299991607666, -6.333099842071533, -5.2835001945495605, -7.03980016708374, -5.928899765014648, -6.130899906158447, -6.621799945831299, -6.390900135040283, -6.875, -6.075900077819824, -4.730899810791016, -6.947500228881836, -4.9319000244140625, -4.62060022354126, -7.03879976272583, -6.913700103759766, -5.697800159454346, -5.889699935913086, -5.747799873352051, -4.959499835968018, -5.88040018081665, -5.793499946594238, -6.487500190734863, -6.251999855041504, -5.93179988861084, -5.736100196838379, -5.777599811553955, -5.837800025939941, -5.6350998878479, -6.031400203704834, -5.953100204467773, -5.807300090789795, -5.65749979019165, -5.8333001136779785, -5.692200183868408, -6.010700225830078, -5.440800189971924, -5.921299934387207, -5.897500038146973, -5.948800086975098, -5.933499813079834, -11.28689956665039, -11.37090015411377, -11.560500144958496, -11.001999855041504, -11.708600044250488, -10.55840015411377, -11.112799644470215, -11.123700141906738, -11.122900009155273, -11.142399787902832, -11.143600463867188, -10.554699897766113, -11.1496000289917, -11.152000427246094, -11.456899642944336, -10.809399604797363, -11.812999725341797, -11.820500373840332, -11.829899787902832, -11.202199935913086, -11.85770034790039, -11.223199844360352, -11.230600357055664, -11.880800247192383, -11.23550033569336, -11.54259967803955, -10.414799690246582, -11.23859977722168, -10.152799606323242, -9.927399635314941, -10.61340045928955, -9.826800346374512, -8.687100410461426, -4.657800197601318, -5.289299964904785, -6.238100051879883, -6.9567999839782715, -6.365900039672852, -5.716300010681152, -6.5432000160217285, -5.339799880981445, -6.302199840545654, -6.323500156402588, -5.611000061035156, -6.181000232696533, -7.0157999992370605, -4.549799919128418, -6.26669979095459, -5.853499889373779, -6.6585001945495605, -6.178599834442139, -6.375699996948242, -6.568399906158447, -5.664100170135498, -6.785299777984619, -4.698400020599365, -5.751100063323975, -5.69290018081665, -6.24459981918335, -6.682300090789795, -5.745100021362305, -6.1697001457214355, -6.209799766540527, -5.7866997718811035, -6.122399806976318, -4.860899925231934, -5.626399993896484, -5.803199768066406, -5.847700119018555, -5.146900177001953, -5.660999774932861, -5.873300075531006, -5.2881999015808105, -5.866099834442139, -5.8607001304626465, -5.1946001052856445, -5.8927998542785645, -5.689700126647949, -5.891900062561035, -5.887599945068359, -6.018599987030029, -6.095200061798096, -11.402600288391113, -10.758600234985352, -11.715499877929688, -11.06879997253418, -10.444199562072754, -10.911399841308594, -11.775500297546387, -11.81149959564209, -9.854599952697754, -10.990500450134277, -11.1875, -11.195899963378906, -11.864399909973145, -11.026900291442871, -11.537199974060059, -10.747599601745605, -11.890899658203125, -10.726699829101562, -10.537400245666504, -10.746399879455566, -10.920999526977539, -11.343700408935547, -10.6496000289917, -10.42609977722168, -11.303400039672852, -11.303099632263184, -11.359399795532227, -11.614500045776367, -11.955900192260742, -10.073200225830078, -10.70199966430664, -10.393899917602539, -6.10860013961792, -9.308600425720215, -6.263199806213379, -8.766799926757812, -6.7906999588012695, -8.01360034942627, -6.318399906158447, -7.422500133514404, -7.995100021362305, -6.569300174713135, -6.123199939727783, -5.52209997177124, -5.621799945831299, -7.566400051116943, -6.13700008392334, -6.326300144195557, -7.479700088500977, -6.399099826812744, -7.012800216674805, -7.923699855804443, -5.599899768829346, -4.860799789428711, -5.420100212097168, -7.051400184631348, -6.0406999588012695, -5.6697001457214355, -6.570300102233887, -6.7368998527526855, -6.765100002288818, -5.649499893188477, -6.142099857330322, -4.968800067901611, -5.655099868774414, -4.713699817657471, -6.0767998695373535, -4.689499855041504, -6.128200054168701, -4.847700119018555, -6.177700042724609, -5.043799877166748, -5.987299919128418, -5.7866997718811035, -5.550600051879883, -4.984799861907959, -5.954999923706055, -5.648600101470947, -5.877200126647949, -5.88040018081665, -5.758999824523926, -5.975500106811523, -5.788300037384033, -5.839600086212158, -5.9328999519348145, -6.039100170135498, -6.0117998123168945, -6.015999794006348, -6.036799907684326, -10.733799934387207, -10.56190013885498, -10.93850040435791, -10.960200309753418, -10.971400260925293, -10.165499687194824, -11.663200378417969, -11.035900115966797, -9.788700103759766, -11.172900199890137, -11.124799728393555, -11.17020034790039, -11.171299934387207, -11.499199867248535, -11.207799911499023, -11.872200012207031, -11.035200119018555, -11.877599716186523, -10.884499549865723, -11.888500213623047, -10.505399703979492, -10.505999565124512, -11.256799697875977, -11.270099639892578, -11.583200454711914, -11.282600402832031, -11.93280029296875, -11.933699607849121, -10.16670036315918, -10.937399864196777, -10.373600006103516, -11.10509967803955, -10.300700187683105, -7.291900157928467, -6.919899940490723, -9.253899574279785, -6.911200046539307, -9.255200386047363, -7.9039998054504395, -6.225299835205078, -8.153300285339355, -8.65530014038086, -5.225900173187256, -5.980800151824951, -4.773900032043457, -6.5644001960754395, -6.008399963378906, -6.247700214385986, -6.4222002029418945, -5.976900100708008, -5.454500198364258, -4.847499847412109, -6.52370023727417, -7.2006001472473145, -5.8516998291015625, -4.6956000328063965, -5.6855998039245605, -5.704599857330322, -6.432499885559082, -5.8850998878479, -6.634500026702881, -5.641499996185303, -6.161099910736084, -6.48199987411499, -5.956699848175049, -5.696599960327148, -6.634500026702881, -6.166500091552734, -5.761300086975098, -6.116600036621094, -5.037399768829346, -4.840199947357178, -4.8302998542785645, -4.944200038909912, -6.110400199890137, -5.87939977645874, -5.67549991607666, -6.226099967956543, -5.976200103759766, -5.8531999588012695, -5.706299781799316, -5.993000030517578, -5.8796000480651855, -5.84119987487793, -5.872399806976318, -5.9842000007629395, -5.980100154876709, -10.9375, -11.593799591064453, -10.762100219726562, -10.762999534606934, -11.618900299072266, -11.665900230407715, -10.835100173950195, -11.096199989318848, -11.063199996948242, -11.726400375366211, -10.932900428771973, -11.09570026397705, -11.414799690246582, -10.917400360107422, -11.122099876403809, -11.122699737548828, -11.126399993896484, -10.935600280761719, -11.794899940490723, -11.798299789428711, -11.461999893188477, -10.970399856567383, -11.16469955444336, -11.020899772644043, -11.478300094604492, -10.683300018310547, -11.181900024414062, -11.189200401306152, -10.837800025939941, -10.478300094604492, -9.747599601745605, -9.601699829101562, -9.923999786376953, -9.024100303649902, -10.384499549865723, -8.275199890136719, -7.803899765014648, -7.882599830627441, -6.5756001472473145, -5.979899883270264, -6.801700115203857, -6.105800151824951, -5.7428998947143555, -5.966400146484375, -5.388800144195557, -5.4918999671936035, -4.636099815368652, -6.264699935913086, -6.504799842834473, -6.174099922180176, -6.6722002029418945, -6.742700099945068, -7.343500137329102, -6.213399887084961, -6.382500171661377, -6.848400115966797, -6.027299880981445, -7.308499813079834, -6.1006999015808105, -4.945199966430664, -5.451900005340576, -6.163700103759766, -5.809000015258789, -6.550300121307373, -6.348899841308594, -4.7581000328063965, -7.035600185394287, -5.878300189971924, -4.732699871063232, -6.255300045013428, -5.993100166320801, -4.805200099945068, -5.946899890899658, -5.747900009155273, -5.916399955749512, -5.721700191497803, -5.815000057220459, -5.794300079345703, -5.195000171661377, -5.8557000160217285, -5.73199987411499, -5.746099948883057, -5.420400142669678, -5.884399890899658, -5.897500038146973, -5.798900127410889, -5.934599876403809, -5.998000144958496, -10.659799575805664, -10.093199729919434, -10.759599685668945, -10.786499977111816, -10.799599647521973, -10.349800109863281, -10.884699821472168, -10.918600082397461, -11.662799835205078, -10.092100143432617, -11.699700355529785, -11.075499534606934, -11.096500396728516, -11.11870002746582, -11.77239990234375, -11.125499725341797, -11.128800392150879, -10.496399879455566, -10.274200439453125, -11.145299911499023, -11.80090045928955, -10.5447998046875, -11.814000129699707, -11.818900108337402, -11.821200370788574, -11.8233003616333, -11.181699752807617, -11.829899787902832, -11.184300422668457, -11.839300155639648, -10.031999588012695, -11.195699691772461, -10.572699546813965, -11.022199630737305, -6.74970006942749, -6.088500022888184, -7.424499988555908, -4.646100044250488, -5.55679988861084, -9.425000190734863, -4.456699848175049, -7.406400203704834, -6.454500198364258, -6.093599796295166, -7.497099876403809, -7.976500034332275, -5.807000160217285, -7.240099906921387, -5.94320011138916, -6.324399948120117, -7.042699813842773, -7.1483001708984375, -5.943299770355225, -6.419400215148926, -5.903299808502197, -4.964600086212158, -5.717899799346924, -6.218100070953369, -4.992400169372559, -6.0746002197265625, -6.205100059509277, -6.293499946594238, -6.0843000411987305, -6.230599880218506, -6.423399925231934, -6.499199867248535, -5.747799873352051, -5.572199821472168, -5.7266998291015625, -5.596799850463867, -5.870500087738037, -4.883399963378906, -5.9207000732421875, -5.814599990844727, -5.811999797821045, -5.824699878692627, -5.0655999183654785, -5.022500038146973, -5.894499778747559, -5.682499885559082, -5.974400043487549, -6.081200122833252, -5.707699775695801, -5.859000205993652, -5.908899784088135, -5.873600006103516, -5.94920015335083, -5.94950008392334], \"loglift\": [30.0, 29.0, 28.0, 27.0, 26.0, 25.0, 24.0, 23.0, 22.0, 21.0, 20.0, 19.0, 18.0, 17.0, 16.0, 15.0, 14.0, 13.0, 12.0, 11.0, 10.0, 9.0, 8.0, 7.0, 6.0, 5.0, 4.0, 3.0, 2.0, 1.0, 1.5353000164031982, 1.1414999961853027, 0.9628999829292297, 0.9160000085830688, 0.9153000116348267, 0.8655999898910522, 0.8547000288963318, 0.803600013256073, 0.7979999780654907, 0.7807999849319458, 0.7749000191688538, 0.7720999717712402, 0.7511000037193298, 0.741100013256073, 0.7386000156402588, 0.7168999910354614, 0.7014999985694885, 0.6901000142097473, 0.6886000037193298, 0.6794999837875366, 0.6730999946594238, 0.6726999878883362, 0.6697999835014343, 0.6638000011444092, 0.6559000015258789, 0.6514000296592712, 0.6499000191688538, 0.6495000123977661, 0.6495000123977661, 0.646399974822998, 0.633400022983551, 0.5378999710083008, 0.525600016117096, 0.5875999927520752, 0.6157000064849854, 0.6169000267982483, 0.436599999666214, 0.45089998841285706, 0.4392000138759613, 0.4343999922275543, 0.31029999256134033, 0.420199990272522, 0.3666999936103821, 0.3497999906539917, 0.23319999873638153, 0.30140000581741333, 0.36629998683929443, 0.25519999861717224, 0.3440000116825104, 0.1354999989271164, 0.34119999408721924, 0.3312000036239624, 0.29030001163482666, 0.20759999752044678, 0.29109999537467957, 0.1972000002861023, 0.20250000059604645, 0.18549999594688416, 0.17430000007152557, 0.30250000953674316, 0.32280001044273376, 0.026799999177455902, 0.00279999990016222, 0.10279999673366547, 0.16599999368190765, 0.08649999648332596, 0.10180000215768814, 0.19850000739097595, -0.15160000324249268, -0.1429000049829483, 0.0835999995470047, 0.20389999449253082, 0.09160000085830688, 0.11169999837875366, -0.05339999869465828, -0.005100000184029341, -0.11079999804496765, -0.03310000151395798, 0.10440000146627426, 0.11829999834299088, -0.02879999950528145, 0.08699999749660492, -0.23800000548362732, -0.11670000106096268, 1.1827000379562378, 1.1022000312805176, 0.9876000285148621, 0.9516000151634216, 0.9491000175476074, 0.9210000038146973, 0.8852999806404114, 0.8485000133514404, 0.840399980545044, 0.8342000246047974, 0.8251000046730042, 0.8248999714851379, 0.8248000144958496, 0.8025000095367432, 0.800000011920929, 0.7961000204086304, 0.795799970626831, 0.7943000197410583, 0.7903000116348267, 0.7784000039100647, 0.7781000137329102, 0.7706999778747559, 0.7663999795913696, 0.7644000053405762, 0.7620999813079834, 0.7506999969482422, 0.7450000047683716, 0.7423999905586243, 0.7282999753952026, 0.7233999967575073, 0.7199000120162964, 0.722100019454956, 0.7098000049591064, 0.48980000615119934, 0.4620000123977661, 0.3926999866962433, 0.4277999997138977, 0.26840001344680786, 0.5339000225067139, 0.42329999804496765, 0.4122999906539917, 0.44929999113082886, 0.38269999623298645, 0.17910000681877136, 0.3156999945640564, 0.48660001158714294, 0.2964000105857849, 0.30480000376701355, 0.3472999930381775, 0.5335999727249146, 0.2345000058412552, 0.2037999927997589, 0.22020000219345093, 0.20909999310970306, 0.19210000336170197, 0.3546999990940094, 0.210099995136261, 0.030700000002980232, 0.36340001225471497, 0.2816999852657318, 0.028300000354647636, 0.1462000012397766, 0.022099999710917473, 0.23929999768733978, 0.12960000336170197, -0.08579999953508377, 0.11990000307559967, 0.0934000015258789, 0.19380000233650208, 0.09939999878406525, 0.1462000012397766, 0.17710000276565552, -0.03500000014901161, 0.03240000084042549, 0.08150000125169754, -0.07609999924898148, -0.38199999928474426, -0.13199999928474426, -0.06360000371932983, -0.22689999639987946, -0.03480000048875809, 0.05939999967813492, -0.35899999737739563, -0.22949999570846558, 1.068600058555603, 1.0299999713897705, 1.0116000175476074, 0.9120000004768372, 0.8784000277519226, 0.873199999332428, 0.8424999713897705, 0.835099995136261, 0.8238999843597412, 0.8230000138282776, 0.809499979019165, 0.7856000065803528, 0.7839000225067139, 0.7836999893188477, 0.7526000142097473, 0.7290999889373779, 0.7218000292778015, 0.7189000248908997, 0.7120000123977661, 0.7111999988555908, 0.70660001039505, 0.7050999999046326, 0.6953999996185303, 0.6870999932289124, 0.6840000152587891, 0.6797999739646912, 0.6761000156402588, 0.6668000221252441, 0.6664999723434448, 0.6564000248908997, 0.6557000279426575, 0.599399983882904, 0.5856999754905701, 0.6029999852180481, 0.3874000012874603, 0.4325000047683716, 0.4645000100135803, 0.5325999855995178, 0.3199000060558319, 0.4918999969959259, 0.2231999933719635, 0.23180000483989716, 0.2842999994754791, 0.31220000982284546, 0.40799999237060547, 0.2824000120162964, 0.16609999537467957, 0.4027999937534332, 0.2425999939441681, 0.36250001192092896, 0.13920000195503235, 0.2223999947309494, 0.2134000062942505, 0.24279999732971191, 0.4108000099658966, 0.20720000565052032, 0.37299999594688416, 0.15330000221729279, 0.29499998688697815, 0.15299999713897705, 0.2806999981403351, 0.24580000340938568, 0.13179999589920044, 0.22339999675750732, 0.2378000020980835, 0.2249000072479248, 0.07370000332593918, 0.1785999983549118, 0.06270000338554382, -0.2084999978542328, 0.04520000144839287, 0.1031000018119812, -0.17640000581741333, 0.01889999955892563, -0.20880000293254852, -0.0007999999797903001, 0.001500000013038516, 0.0003000000142492354, -0.10769999772310257, -0.05889999866485596, 1.4430999755859375, 1.1019999980926514, 1.0772000551223755, 0.9606000185012817, 0.9185000061988831, 0.8666999936103821, 0.8485000133514404, 0.8416000008583069, 0.8411999940872192, 0.8343999981880188, 0.8341000080108643, 0.8334000110626221, 0.8112000226974487, 0.8072999715805054, 0.8044000267982483, 0.8021000027656555, 0.7994999885559082, 0.7874000072479248, 0.770799994468689, 0.7526000142097473, 0.7447999715805054, 0.7427999973297119, 0.7250999808311462, 0.7214000225067139, 0.7160999774932861, 0.7148000001907349, 0.7071999907493591, 0.7055000066757202, 0.6923999786376953, 0.6825000047683716, 0.6708999872207642, 0.5978000164031982, 0.605400025844574, 0.5302000045776367, 0.29499998688697815, 0.4302999973297119, 0.4814999997615814, 0.48399999737739563, 0.47110000252723694, 0.40070000290870667, 0.36390000581741333, 0.34630000591278076, 0.2615000009536743, 0.3905999958515167, 0.23839999735355377, 0.3260999917984009, 0.47589999437332153, 0.22779999673366547, 0.1339000016450882, 0.3416000008583069, 0.2863999903202057, 0.12210000306367874, 0.23090000450611115, 0.3630000054836273, 0.33660000562667847, 0.18930000066757202, 0.15860000252723694, 0.1728000044822693, 0.18870000541210175, 0.05119999870657921, 0.23399999737739563, 0.14350000023841858, 0.18520000576972961, -0.02590000070631504, -0.04430000111460686, 0.21629999577999115, 0.16259999573230743, 0.133200004696846, 0.10920000076293945, 0.18029999732971191, -0.10620000213384628, 0.0010000000474974513, 0.0731000006198883, 0.1265999972820282, 0.02250000089406967, 0.14139999449253082, 0.04270000010728836, -0.16060000658035278, -0.20399999618530273, -0.06539999693632126, -0.11289999634027481, -0.012799999676644802, -0.11959999799728394, -0.15489999949932098, 1.2798000574111938, 1.2496000528335571, 1.1663999557495117, 1.0414999723434448, 0.9855999946594238, 0.9717000126838684, 0.9304999709129333, 0.9013000130653381, 0.8866999745368958, 0.8514999747276306, 0.8407999873161316, 0.821399986743927, 0.8083999752998352, 0.803600013256073, 0.7843999862670898, 0.7828999757766724, 0.7817999720573425, 0.7705000042915344, 0.7585999965667725, 0.7475000023841858, 0.7412999868392944, 0.7124999761581421, 0.7009999752044678, 0.699999988079071, 0.6985999941825867, 0.6974999904632568, 0.6963000297546387, 0.6963000297546387, 0.6870999932289124, 0.6865000128746033, 0.6575000286102295, 0.6498000025749207, 0.6535999774932861, 0.6377000212669373, 0.39980000257492065, 0.30300000309944153, 0.39640000462532043, 0.516700029373169, 0.5626999735832214, 0.34769999980926514, 0.3898000121116638, 0.5734999775886536, 0.1745000034570694, 0.37209999561309814, 0.32760000228881836, 0.21799999475479126, 0.38940000534057617, 0.2624000012874603, 0.2705000042915344, 0.3199000060558319, 0.289900004863739, 0.3424000144004822, 0.2410999983549118, 0.039000000804662704, 0.33000001311302185, 0.053199999034404755, 0.007499999832361937, 0.33500000834465027, 0.31529998779296875, 0.11900000274181366, 0.14900000393390656, 0.11569999903440475, -0.025299999862909317, 0.1298000067472458, 0.10769999772310257, 0.23829999566078186, 0.17249999940395355, 0.10159999877214432, 0.042399998754262924, 0.051899999380111694, 0.06019999831914902, -0.007600000128149986, 0.10180000215768814, 0.07339999824762344, 0.01510000042617321, -0.05220000073313713, -0.02879999950528145, -0.12330000102519989, 0.07429999858140945, -0.44749999046325684, -0.06620000302791595, -0.23330000042915344, -0.09889999777078629, -0.14259999990463257, 1.330899953842163, 1.2462999820709229, 1.0556999444961548, 0.9674999713897705, 0.9065999984741211, 0.8841000199317932, 0.857699990272522, 0.8464000225067139, 0.84579998254776, 0.8258000016212463, 0.8256000280380249, 0.8238000273704529, 0.8190000057220459, 0.8169999718666077, 0.8169000148773193, 0.8044000267982483, 0.8039000034332275, 0.7949000000953674, 0.7853999733924866, 0.765500009059906, 0.7577000260353088, 0.7441999912261963, 0.7369999885559082, 0.7340999841690063, 0.7312999963760376, 0.7310000061988831, 0.7300999760627747, 0.7300000190734863, 0.7263000011444092, 0.7156000137329102, 0.7106000185012817, 0.6832000017166138, 0.6419000029563904, 0.3353999853134155, 0.3747999966144562, 0.4246000051498413, 0.4555000066757202, 0.3880000114440918, 0.3102000057697296, 0.3700000047683716, 0.22920000553131104, 0.30720001459121704, 0.30559998750686646, 0.21860000491142273, 0.2784000039100647, 0.36959999799728394, 0.07840000092983246, 0.2806999981403351, 0.22280000150203705, 0.29789999127388, 0.23819999396800995, 0.26010000705718994, 0.2797999978065491, 0.1404999941587448, 0.2831999957561493, -0.0044999998062849045, 0.14169999957084656, 0.09790000319480896, 0.1850000023841858, 0.2558000087738037, 0.07169999927282333, 0.15449999272823334, 0.1624000072479248, 0.06530000269412994, 0.13840000331401825, -0.19020000100135803, 0.0010999999940395355, 0.04659999907016754, 0.05350000038743019, -0.21279999613761902, -0.05570000037550926, 0.024700000882148743, -0.30309998989105225, -0.0024999999441206455, -0.00570000009611249, -0.424699991941452, -0.021299999207258224, -0.1881999969482422, -0.11339999735355377, -0.16189999878406525, -0.053599998354911804, 0.0722000002861023, 1.211899995803833, 1.0123000144958496, 0.8989999890327454, 0.897599995136261, 0.8784999847412109, 0.863099992275238, 0.8377000093460083, 0.8016999959945679, 0.784500002861023, 0.7835000157356262, 0.77920001745224, 0.7705000042915344, 0.7490000128746033, 0.7457000017166138, 0.7336000204086304, 0.7246999740600586, 0.7239000201225281, 0.7156000137329102, 0.703000009059906, 0.6960999965667725, 0.6902999877929688, 0.6746000051498413, 0.6735000014305115, 0.6725000143051147, 0.666100025177002, 0.6622999906539917, 0.6586999893188477, 0.6585000157356262, 0.6582000255584717, 0.6557000279426575, 0.6474999785423279, 0.6388000249862671, 0.5203999876976013, 0.6025999784469604, 0.47530001401901245, 0.5767999887466431, 0.47350001335144043, 0.5206999778747559, 0.4246000051498413, 0.47769999504089355, 0.48260000348091125, 0.3747999966144562, 0.3361999988555908, 0.2687999904155731, 0.27619999647140503, 0.44130000472068787, 0.3068999946117401, 0.3093999922275543, 0.4226999878883362, 0.30300000309944153, 0.3610000014305115, 0.4478999972343445, 0.21690000593662262, 0.13249999284744263, 0.18520000576972961, 0.36090001463890076, 0.24709999561309814, 0.19380000233650208, 0.3041999936103821, 0.31679999828338623, 0.3165000081062317, 0.1551000028848648, 0.21570000052452087, 0.016300000250339508, 0.1234000027179718, -0.0430000014603138, 0.18400000035762787, -0.06129999831318855, 0.18880000710487366, -0.0778999999165535, 0.19449999928474426, -0.1096000000834465, 0.09769999980926514, 0.0357000008225441, -0.04910000041127205, -0.29089999198913574, 0.07829999923706055, -0.07959999889135361, 0.024000000208616257, 0.012400000356137753, -0.09480000287294388, 0.06319999694824219, -0.1606999933719635, -0.11389999836683273, -0.061400000005960464, 0.09399999678134918, -0.046799998730421066, -0.18639999628067017, -0.12120000272989273, 1.2343000173568726, 1.0499999523162842, 1.031999945640564, 1.007099986076355, 0.9962000250816345, 0.9552000164985657, 0.9514999985694885, 0.9315000176429749, 0.8815000057220459, 0.8457000255584717, 0.8446999788284302, 0.7982000112533569, 0.7960000038146973, 0.7739999890327454, 0.7595999836921692, 0.7426000237464905, 0.7394000291824341, 0.7372000217437744, 0.7293000221252441, 0.725600004196167, 0.7134000062942505, 0.7111999988555908, 0.7089999914169312, 0.6974999904632568, 0.6901999711990356, 0.6866999864578247, 0.6814000010490417, 0.6812000274658203, 0.6783999800682068, 0.6751999855041504, 0.6610000133514404, 0.6715999841690063, 0.6518999934196472, 0.5555999875068665, 0.5378999710083008, 0.6176999807357788, 0.4846000075340271, 0.6033999919891357, 0.5138000249862671, 0.39989998936653137, 0.5152000188827515, 0.5353999733924866, 0.27549999952316284, 0.33149999380111694, 0.21930000185966492, 0.3700000047683716, 0.3084999918937683, 0.3199999928474426, 0.33180001378059387, 0.27250000834465027, 0.20970000326633453, 0.13760000467300415, 0.3091999888420105, 0.3815999925136566, 0.22100000083446503, 0.07429999858140945, 0.1860000044107437, 0.1881999969482422, 0.27469998598098755, 0.19120000302791595, 0.2992999851703644, 0.13699999451637268, 0.2110999971628189, 0.26100000739097595, 0.16259999573230743, 0.10790000110864639, 0.2856999933719635, 0.19130000472068787, 0.0885000005364418, 0.16920000314712524, -0.10320000350475311, -0.16949999332427979, -0.2020999938249588, -0.25029999017715454, 0.15039999783039093, 0.03620000183582306, -0.07020000368356705, 0.1906999945640564, 0.050200000405311584, -0.023600000888109207, -0.13729999959468842, 0.04569999873638153, -0.06270000338554382, -0.11550000309944153, -0.24480000138282776, -0.1290999948978424, -0.18930000066757202, 1.0297000408172607, 1.0184999704360962, 1.0104999542236328, 1.0104000568389893, 0.9954000115394592, 0.9466000199317932, 0.9387999773025513, 0.9223999977111816, 0.9036999940872192, 0.8858000040054321, 0.8823000192642212, 0.8697999715805054, 0.8568000197410583, 0.8561000227928162, 0.8440999984741211, 0.8431000113487244, 0.8399999737739563, 0.8371000289916992, 0.8181999921798706, 0.8162000179290771, 0.8094000220298767, 0.8036999702453613, 0.8033999800682068, 0.7942000031471252, 0.7932000160217285, 0.7870000004768372, 0.7857000231742859, 0.7771000266075134, 0.7731999754905701, 0.7630000114440918, 0.7603999972343445, 0.725600004196167, 0.7174999713897705, 0.652400016784668, 0.7361000180244446, 0.5870000123977661, 0.5264000296592712, 0.5224000215530396, 0.4056999981403351, 0.33709999918937683, 0.4156999886035919, 0.3327000141143799, 0.28360000252723694, 0.30379998683929443, 0.23880000412464142, 0.2337000072002411, 0.13379999995231628, 0.31349998712539673, 0.337799996137619, 0.29190000891685486, 0.34310001134872437, 0.34549999237060547, 0.41780000925064087, 0.2759999930858612, 0.29339998960494995, 0.3537999987602234, 0.23999999463558197, 0.4043000042438507, 0.21629999577999115, 0.039900001138448715, 0.11699999868869781, 0.21459999680519104, 0.15600000321865082, 0.2680000066757202, 0.2320999950170517, -0.06419999897480011, 0.35280001163482666, 0.13230000436306, -0.10459999740123749, 0.20399999618530273, 0.14000000059604645, -0.13439999520778656, 0.12939999997615814, 0.07450000196695328, 0.11699999868869781, 0.056699998676776886, 0.07769999653100967, 0.06920000165700912, -0.20180000364780426, 0.05990000069141388, -0.06790000200271606, -0.14069999754428864, -0.4862000048160553, -0.05490000173449516, -0.042399998754262924, -0.29739999771118164, -0.08259999752044678, -0.10000000149011612, 1.3095999956130981, 1.2323999404907227, 1.2096999883651733, 1.1821000576019287, 1.1685999631881714, 1.0921000242233276, 1.0841000080108643, 1.0492000579833984, 0.9520999789237976, 0.9225999712944031, 0.9165999889373779, 0.8921999931335449, 0.8726000189781189, 0.8472999930381775, 0.8424000144004822, 0.8422999978065491, 0.8392000198364258, 0.8270999789237976, 0.82669997215271, 0.8241000175476074, 0.8129000067710876, 0.8062000274658203, 0.800000011920929, 0.7947999835014343, 0.7926999926567078, 0.7906000018119812, 0.7856000065803528, 0.784500002861023, 0.7827000021934509, 0.774399995803833, 0.7608000040054321, 0.7710999846458435, 0.7515000104904175, 0.7512999773025513, 0.4530999958515167, 0.4007999897003174, 0.4984999895095825, 0.288100004196167, 0.3359000086784363, 0.6333000063896179, 0.17149999737739563, 0.45509999990463257, 0.35519999265670776, 0.3190000057220459, 0.45719999074935913, 0.4927000105381012, 0.21950000524520874, 0.3894999921321869, 0.22419999539852142, 0.2567000091075897, 0.3528999984264374, 0.3555000126361847, 0.1898999959230423, 0.2531000077724457, 0.17440000176429749, 0.020500000566244125, 0.13410000503063202, 0.21160000562667847, 0.0007999999797903001, 0.18619999289512634, 0.20200000703334808, 0.21699999272823334, 0.1647000014781952, 0.193900004029274, 0.2287999987602234, 0.24449999630451202, 0.07460000365972519, 0.03310000151395798, 0.06419999897480011, 0.030700000002980232, 0.09440000355243683, -0.18950000405311584, 0.08950000256299973, 0.05700000002980232, 0.051500000059604645, 0.030400000512599945, -0.2957000136375427, -0.35179999470710754, 0.0210999995470047, -0.11349999904632568, 0.03629999980330467, 0.10999999940395355, -0.20630000531673431, -0.13339999318122864, -0.09200000017881393, -0.2093999981880188, -0.05119999870657921, -0.11990000307559967]}, \"token.table\": {\"Topic\": [2, 3, 4, 5, 6, 7, 8, 9, 10, 4, 2, 8, 1, 2, 3, 4, 5, 6, 7, 8, 9, 10, 1, 2, 3, 4, 5, 6, 7, 8, 9, 10, 7, 1, 2, 3, 4, 5, 6, 7, 8, 9, 10, 1, 2, 3, 4, 5, 6, 7, 8, 9, 10, 3, 4, 8, 10, 1, 3, 5, 6, 7, 8, 9, 1, 2, 3, 4, 5, 6, 7, 8, 9, 10, 3, 7, 9, 1, 2, 3, 4, 5, 6, 7, 8, 9, 10, 5, 10, 1, 2, 3, 4, 5, 6, 7, 8, 9, 10, 4, 1, 2, 3, 4, 5, 6, 7, 8, 9, 10, 1, 2, 3, 7, 1, 2, 3, 4, 5, 6, 7, 8, 9, 10, 6, 6, 2, 3, 8, 9, 10, 1, 2, 3, 4, 5, 6, 7, 8, 9, 10, 2, 8, 2, 4, 7, 9, 2, 3, 4, 5, 6, 7, 10, 10, 1, 2, 3, 4, 6, 7, 8, 9, 10, 6, 8, 1, 2, 3, 4, 5, 6, 7, 8, 9, 10, 1, 2, 3, 4, 5, 6, 7, 8, 9, 10, 1, 2, 3, 4, 5, 6, 7, 8, 9, 10, 2, 5, 10, 1, 2, 3, 4, 5, 6, 7, 8, 9, 10, 1, 2, 3, 4, 5, 6, 7, 8, 9, 10, 1, 2, 3, 4, 5, 6, 7, 8, 9, 10, 1, 2, 3, 4, 5, 6, 7, 8, 9, 10, 1, 2, 3, 4, 5, 6, 7, 8, 9, 10, 2, 3, 7, 9, 1, 2, 3, 4, 5, 6, 7, 8, 9, 10, 8, 1, 5, 1, 2, 3, 4, 5, 6, 7, 8, 9, 10, 5, 6, 1, 2, 3, 4, 5, 6, 7, 8, 9, 10, 1, 2, 3, 4, 5, 6, 7, 8, 9, 10, 2, 3, 5, 6, 8, 9, 1, 2, 3, 4, 5, 6, 7, 8, 9, 10, 1, 2, 3, 4, 5, 6, 7, 8, 9, 10, 1, 2, 3, 4, 5, 6, 7, 8, 9, 10, 9, 1, 2, 3, 4, 5, 6, 7, 8, 9, 10, 4, 4, 6, 1, 2, 3, 4, 5, 6, 7, 8, 9, 9, 3, 3, 4, 7, 10, 1, 2, 3, 4, 5, 6, 7, 8, 9, 10, 1, 2, 3, 4, 5, 6, 7, 8, 9, 10, 1, 2, 3, 4, 5, 6, 7, 8, 9, 10, 1, 2, 3, 4, 5, 6, 7, 8, 9, 10, 1, 10, 1, 2, 3, 4, 5, 6, 7, 8, 9, 10, 3, 4, 5, 10, 5, 1, 2, 3, 4, 5, 6, 7, 8, 9, 10, 1, 4, 1, 2, 3, 4, 5, 6, 7, 8, 9, 10, 1, 3, 4, 5, 6, 7, 8, 9, 10, 1, 2, 3, 4, 5, 6, 7, 8, 9, 10, 1, 2, 3, 4, 5, 6, 7, 8, 9, 10, 2, 5, 1, 2, 3, 4, 5, 6, 7, 8, 9, 10, 9, 1, 2, 3, 4, 5, 6, 7, 8, 9, 10, 2, 6, 1, 2, 3, 4, 5, 6, 7, 8, 9, 10, 1, 2, 3, 4, 5, 6, 7, 8, 9, 10, 1, 2, 3, 4, 5, 6, 7, 8, 9, 10, 1, 2, 3, 4, 5, 6, 7, 8, 9, 10, 8, 6, 1, 5, 1, 2, 3, 4, 5, 6, 7, 8, 9, 10, 1, 2, 3, 4, 5, 6, 7, 8, 9, 10, 3, 9, 3, 9, 1, 2, 3, 4, 5, 6, 7, 8, 9, 10, 1, 2, 3, 4, 5, 6, 7, 8, 9, 10, 1, 2, 3, 4, 5, 6, 7, 8, 9, 10, 2, 3, 4, 10, 10, 5, 1, 2, 3, 4, 5, 7, 8, 9, 10, 1, 2, 4, 7, 2, 1, 2, 3, 4, 5, 6, 7, 8, 9, 10, 1, 2, 3, 4, 5, 6, 7, 8, 9, 10, 1, 2, 3, 4, 5, 6, 7, 8, 9, 10, 1, 5, 2, 9, 10, 1, 2, 3, 5, 6, 7, 8, 9, 10, 1, 2, 3, 4, 5, 6, 7, 8, 9, 10, 3, 7, 9, 1, 2, 3, 4, 5, 6, 7, 8, 9, 10, 1, 3, 5, 1, 3, 2, 6, 9, 1, 2, 3, 4, 5, 6, 7, 8, 9, 10, 1, 2, 3, 4, 5, 6, 7, 8, 9, 10, 1, 2, 3, 4, 5, 6, 7, 8, 9, 10, 1, 2, 3, 6, 10, 2, 3, 6, 7, 8, 9, 10, 1, 2, 3, 4, 5, 6, 7, 8, 9, 10, 1, 2, 3, 4, 5, 6, 7, 8, 9, 10, 1, 2, 3, 4, 5, 6, 7, 8, 9, 10, 10, 1, 2, 3, 4, 5, 6, 7, 8, 9, 10, 1, 2, 3, 4, 5, 6, 7, 8, 9, 10, 1, 2, 3, 4, 5, 6, 7, 8, 9, 10, 4, 1, 2, 3, 4, 5, 6, 7, 8, 9, 10, 3, 7, 9, 2, 1, 6, 8, 10, 1, 2, 3, 4, 5, 6, 7, 8, 9, 10, 1, 5, 6, 9, 10, 2, 7, 7, 3, 10, 1, 2, 3, 4, 5, 6, 7, 8, 9, 10, 1, 2, 3, 4, 5, 6, 7, 8, 9, 10, 1, 2, 3, 4, 5, 6, 7, 8, 9, 10, 2, 5, 8, 9, 1, 2, 3, 4, 5, 6, 7, 8, 9, 10, 1, 2, 3, 4, 5, 6, 7, 8, 9, 10, 1, 2, 3, 4, 5, 6, 7, 8, 9, 10, 1, 2, 3, 4, 5, 6, 7, 8, 9, 10, 1, 2, 3, 4, 5, 6, 7, 8, 9, 10, 1, 2, 3, 4, 5, 6, 7, 8, 9, 10, 1, 2, 3, 1, 2, 3, 4, 5, 6, 7, 8, 9, 10, 1, 2, 3, 4, 5, 6, 7, 8, 9, 10, 1, 2, 3, 4, 5, 6, 7, 8, 9, 10, 1, 2, 3, 4, 5, 6, 7, 8, 9, 10, 3, 8, 1, 2, 3, 4, 5, 6, 7, 8, 9, 10, 1, 2, 3, 4, 5, 6, 7, 8, 9, 10, 8, 1, 2, 3, 4, 5, 6, 7, 8, 9, 10, 1, 2, 3, 4, 5, 6, 7, 8, 9, 10, 1, 2, 3, 4, 5, 6, 7, 8, 9, 10, 1, 2, 3, 4, 5, 6, 7, 8, 9, 10, 1, 2, 3, 4, 5, 6, 7, 8, 9, 10, 1, 2, 3, 7, 8, 9, 10, 1, 2, 3, 4, 1, 2, 3, 4, 5, 6, 7, 8, 9, 10, 2, 8, 9, 4, 1, 2, 3, 4, 5, 6, 7, 8, 9, 10, 1, 3, 4, 5, 6, 7, 8, 10, 1, 3, 4, 5, 7, 10, 1, 2, 3, 4, 5, 6, 7, 8, 9, 10, 2, 1, 2, 3, 4, 5, 6, 7, 8, 9, 10, 1, 2, 3, 4, 5, 6, 7, 8, 9, 10, 2, 7, 1, 2, 3, 4, 5, 6, 7, 8, 9, 10, 1, 2, 3, 4, 5, 6, 7, 8, 9, 10, 10, 1, 2, 3, 4, 5, 6, 7, 8, 9, 10, 5, 6, 7, 1, 2, 3, 4, 5, 6, 7, 8, 9, 10, 1, 2, 3, 4, 5, 6, 7, 8, 9, 10, 1, 2, 3, 4, 5, 6, 7, 8, 9, 10, 3, 1, 2, 3, 4, 5, 6, 7, 8, 9, 10, 1, 2, 3, 4, 5, 6, 7, 8, 9, 10, 3, 5, 7, 1, 4, 8, 1, 2, 3, 4, 5, 6, 7, 8, 9, 10, 1, 7, 1, 2, 3, 4, 5, 6, 7, 8, 9, 1, 2, 3, 4, 5, 6, 7, 8, 9, 10, 1, 2, 3, 4, 5, 6, 7, 8, 9, 10, 1, 2, 3, 4, 5, 6, 7, 8, 9, 10, 1, 2, 3, 4, 5, 6, 7, 8, 9, 10, 4, 1, 2, 3, 4, 5, 6, 7, 8, 9, 4, 1, 2, 3, 4, 5, 6, 7, 8, 9, 10, 1, 2, 3, 4, 5, 6, 7, 8, 9, 10, 2, 4, 5, 7, 6, 8, 1, 2, 3, 5, 9, 10, 5, 10, 5, 8, 2, 9, 2, 4, 6, 7, 1, 2, 3, 4, 5, 6, 7, 8, 9, 10, 1, 8, 1, 2, 3, 4, 5, 6, 7, 8, 9, 10, 4, 1, 2, 4, 5, 6, 7, 8, 3, 5, 9, 6, 10, 1, 2, 3, 4, 5, 6, 7, 8, 9, 10, 2, 7, 5, 1, 2, 3, 4, 5, 6, 7, 8, 9, 10, 1, 2, 3, 4, 5, 6, 7, 8, 9, 10, 1, 2, 3, 4, 5, 6, 7, 8, 9, 10, 1, 2, 3, 4, 5, 6, 7, 8, 9, 10, 1, 2, 3, 4, 5, 6, 7, 8, 9, 10, 1, 2, 3, 4, 9, 1, 2, 3, 4, 5, 6, 7, 8, 9, 10, 3, 5, 7, 10, 1, 2, 3, 4, 5, 6, 7, 8, 9, 10, 1, 2, 3, 4, 5, 6, 7, 8, 9, 10, 1, 2, 3, 4, 5, 6, 7, 8, 9, 10, 4, 1, 2, 3, 4, 5, 6, 7, 8, 9, 10, 1, 2, 3, 4, 5, 6, 7, 8, 9, 10, 1, 2, 3, 4, 5, 6, 7, 8, 9, 10, 4, 6, 1, 2, 3, 4, 5, 6, 7, 8, 9, 10, 1, 2, 3, 4, 5, 6, 7, 8, 9, 10, 1, 2, 3, 4, 5, 6, 7, 8, 9, 10, 8, 1, 2, 3, 4, 5, 6, 7, 8, 9, 10, 1, 2, 3, 4, 5, 6, 7, 8, 9, 10, 1, 2, 3, 4, 5, 6, 7, 8, 9, 10, 1, 2, 3, 4, 5, 6, 7, 8, 9, 10, 1, 2, 3, 5, 6, 7, 8, 9, 1, 8, 9, 1, 9, 1, 2, 3, 4, 5, 6, 7, 8, 9, 10, 1, 5, 8, 3, 2, 5, 2, 1, 2, 3, 4, 5, 6, 7, 8, 9, 10, 1, 2, 3, 4, 5, 6, 7, 8, 9, 10, 2, 8, 1, 2, 3, 4, 5, 6, 7, 8, 9, 10, 1, 2, 3, 4, 5, 6, 7, 8, 9, 10, 3, 8, 10, 1, 2, 3, 4, 5, 6, 7, 8, 9, 10, 1, 8, 1, 2, 3, 4, 5, 6, 7, 8, 9, 10, 1, 2, 3, 4, 5, 6, 7, 8, 9, 10, 1, 2, 3, 4, 5, 6, 7, 8, 9, 10, 1, 2, 3, 4, 5, 6, 7, 8, 9, 10, 1, 2, 3, 4, 5, 6, 7, 8, 9, 10, 1, 2, 3, 4, 5, 6, 7, 8, 9, 10, 1, 2, 3, 4, 5, 6, 7, 8, 9, 10, 1, 2, 3, 4, 5, 7, 9, 1, 2, 3, 4, 5, 6, 7, 8, 9, 10, 1, 2, 3, 4, 5, 6, 7, 8, 9, 10, 1, 2, 3, 4, 5, 6, 7, 8, 9, 10, 1, 2, 3, 4, 5, 6, 7, 8, 9, 10, 5, 2, 5, 10, 1, 2, 3, 4, 5, 6, 7, 8, 9, 10, 1, 2, 3, 4, 5, 6, 7, 8, 9, 10, 1, 2, 3, 4, 5, 6, 7, 8, 9, 10, 1, 5, 7, 9, 10, 1, 2, 3, 4, 5, 6, 7, 8, 9, 10, 4, 7, 8, 9, 10, 3, 4, 6, 4, 1, 2, 3, 4, 5, 6, 7, 8, 9, 10, 1, 2, 3, 4, 5, 6, 7, 8, 9, 10, 1, 2, 3, 4, 5, 6, 7, 8, 9, 10, 1, 2, 3, 4, 5, 6, 7, 8, 9, 10, 1, 2, 3, 4, 5, 6, 7, 8, 9, 10, 1, 2, 3, 4, 5, 6, 7, 8, 9, 10, 1, 2, 3, 4, 5, 6, 7, 8, 9, 10, 2, 4, 5, 6, 7, 8, 6, 1, 3, 8, 1, 2, 2, 4, 8, 1, 2, 3, 4, 5, 6, 7, 8, 9, 10, 1, 2, 3, 4, 5, 6, 7, 8, 9, 10, 1, 2, 3, 4, 5, 6, 7, 8, 9, 10, 1, 2, 3, 4, 5, 6, 7, 8, 9, 10, 8, 10, 1, 3, 1, 2, 3, 4, 5, 6, 7, 8, 9, 10, 1, 2, 3, 4, 5, 6, 7, 8, 9, 10, 1, 2, 3, 4, 5, 6, 7, 8, 9, 10, 1, 2, 3, 4, 5, 6, 7, 8, 9, 10, 1, 9, 1, 2, 3, 4, 5, 6, 7, 8, 9, 10, 1, 2, 9, 1, 2, 3, 4, 5, 6, 7, 8, 9, 10, 1, 2, 3, 4, 5, 6, 7, 8, 9, 10, 1, 2, 3, 4, 5, 6, 7, 8, 9, 10, 1, 2, 3, 4, 5, 6, 7, 8, 9, 10, 5, 1, 2, 3, 4, 5, 6, 7, 8, 9, 10, 1, 6, 8, 9, 10, 1, 2, 3, 4, 5, 6, 7, 8, 9, 10, 1, 2, 3, 4, 5, 6, 7, 8, 9, 10, 1, 2, 3, 4, 5, 6, 7, 8, 9, 10, 1, 7, 9, 1, 6, 4, 1, 2, 3, 4, 5, 6, 7, 8, 9, 10, 1, 2, 3, 4, 5, 6, 7, 8, 9, 10, 1, 4, 1, 2, 3, 4, 5, 6, 7, 8, 9, 10, 5, 10, 1, 2, 3, 4, 5, 6, 7, 8, 9, 10, 1, 2, 3, 4, 5, 6, 7, 8, 9, 10, 1, 2, 3, 4, 5, 6, 7, 8, 9, 10, 1, 2, 3, 8, 10, 5, 8, 1, 2, 3, 4, 5, 6, 7, 8, 9, 10, 1, 2, 3, 4, 5, 6, 7, 8, 9, 10, 1, 2, 3, 4, 5, 6, 7, 8, 9, 10, 1, 2, 3, 4, 5, 6, 7, 8, 9, 10, 1, 2, 3, 4, 5, 6, 7, 8, 9, 10, 2, 3, 4, 5, 7, 8, 9, 8, 6, 9, 4, 1, 2, 3, 4, 5, 6, 7, 8, 9, 10, 3, 5, 6, 7, 8, 10, 2, 4, 7, 1, 2, 3, 4, 5, 6, 7, 8, 9, 10, 9, 4, 7, 9, 10, 2, 5, 10, 1, 2, 3, 4, 5, 6, 7, 8, 9, 10, 1, 2, 3, 4, 5, 6, 7, 8, 9, 10, 1, 2, 3, 4, 5, 6, 7, 8, 9, 10, 7, 4, 10, 4, 1, 2, 4, 5, 1, 2, 3, 4, 5, 6, 7, 8, 9, 10, 1, 2, 3, 4, 5, 6, 7, 8, 9, 10, 1, 2, 3, 4, 5, 6, 7, 8, 9, 10, 1, 2, 3, 4, 5, 6, 7, 8, 9, 10, 1, 2, 3, 4, 5, 6, 7, 8, 9, 10, 1, 2, 3, 4, 5, 6, 7, 8, 9, 10, 1, 2, 3, 4, 5, 6, 7, 8, 9, 10, 1, 2, 3, 4, 5, 6, 7, 8, 9, 10, 1, 2, 3, 4, 5, 6, 7, 8, 9, 10, 1, 2, 3, 4, 7, 8, 1, 2, 3, 4, 5, 6, 7, 8, 9, 10, 1, 2, 3, 4, 5, 6, 7, 8, 9, 10, 7, 2, 1, 2, 3, 4, 5, 6, 7, 8, 9, 10, 1, 2, 3, 4, 5, 6, 7, 8, 9, 10, 1, 2, 3, 4, 5, 6, 7, 8, 9, 10, 1, 5, 1, 5, 6, 8, 9, 1, 2, 3, 4, 5, 6, 7, 8, 9, 10, 1, 2, 3, 4, 5, 6, 7, 8, 9, 10, 1, 2, 3, 4, 5, 6, 7, 8, 9, 10, 1, 2, 3, 5, 6, 7, 8, 3, 1, 4, 1, 2, 3, 4, 7, 2, 1, 2, 3, 4, 5, 6, 7, 8, 9, 10, 1, 2, 3, 4, 5, 6, 7, 8, 9, 10, 1, 4, 5, 6, 8, 1, 2, 3, 4, 5, 6, 7, 8, 9, 10, 1, 2, 3, 4, 5, 6, 7, 8, 9, 10, 5, 8, 1, 2, 3, 4, 5, 6, 7, 8, 9, 10, 1, 2, 3, 4, 5, 6, 7, 8, 9, 10, 1, 2, 3, 4, 5, 6, 7, 8, 9, 10, 1, 2, 3, 4, 5, 6, 7, 8, 9, 10, 1, 1, 2, 3, 4, 5, 6, 7, 8, 9, 10, 1, 2, 3, 4, 5, 6, 7, 8, 9, 10, 1, 2, 3, 4, 5, 6, 7, 8, 9, 10, 8, 2, 4, 7, 10, 1, 2, 3, 4, 5, 6, 7, 8, 9, 10, 1, 2, 3, 4, 5, 6, 7, 8, 9, 10, 1, 2, 3, 4, 5, 6, 7, 8, 9, 10, 10, 1, 2, 3, 4, 5, 6, 7, 8, 9, 10, 3, 4, 7, 1, 2, 3, 4, 5, 6, 7, 8, 9, 10, 1, 2, 3, 4, 5, 6, 7, 8, 9, 10, 1, 2, 3, 4, 5, 6, 7, 8, 9, 10, 3, 1, 2, 3, 4, 5, 6, 7, 8, 9, 10, 1, 2, 3, 4, 5, 6, 7, 8, 9, 10, 3, 1, 2, 3, 4, 5, 6, 7, 8, 9, 10, 4, 1, 2, 3, 4, 5, 6, 7, 8, 9, 10, 1, 2, 3, 4, 5, 6, 7, 8, 9, 10, 10, 1, 2, 3, 4, 5, 6, 7, 8, 9, 10, 1, 2, 3, 4, 5, 6, 7, 8, 9, 10, 9, 2, 7, 1, 2, 3, 4, 5, 6, 7, 8, 9, 10, 1, 2, 3, 4, 5, 6, 7, 8, 9, 10, 6, 1, 2, 3, 4, 5, 6, 7, 8, 9, 10, 1, 2, 3, 4, 5, 6, 7, 8, 9, 10, 1, 2, 3, 4, 5, 6, 7, 8, 9, 10, 1, 2, 3, 4, 5, 6, 7, 8, 9, 10, 6, 1, 2, 3, 4, 5, 6, 7, 8, 9, 10, 1, 2, 3, 4, 5, 6, 7, 8, 9, 10, 1, 2, 3, 4, 6, 8, 9, 1, 2, 3, 4, 5, 6, 7, 8, 9, 10, 1, 2, 3, 4, 5, 6, 7, 8, 9, 10, 1, 2, 3, 4, 5, 6, 7, 8, 9, 10, 2, 9, 1, 2, 3, 4, 5, 6, 7, 8, 9, 10, 1, 2, 3, 4, 5, 6, 7, 8, 9, 10, 6, 8, 1, 2, 3, 4, 5, 6, 7, 8, 9, 10, 1, 2, 3, 4, 5, 6, 7, 8, 9, 10, 1, 2, 3, 6, 7, 8, 9, 10, 1, 1, 5, 7, 9, 6, 6], \"Freq\": [0.12721173465251923, 0.12721173465251923, 0.12721173465251923, 0.25442346930503845, 0.12721173465251923, 0.12721173465251923, 0.12721173465251923, 0.12721173465251923, 0.12721173465251923, 0.27739882469177246, 0.3233346939086914, 0.3233346939086914, 0.08726191520690918, 0.0955725759267807, 0.10388322919607162, 0.11427155137062073, 0.10180556774139404, 0.11219388991594315, 0.0851842537522316, 0.1288152039051056, 0.09972789883613586, 0.07064060121774673, 0.1028648093342781, 0.08959192782640457, 0.12277413159608841, 0.07300083339214325, 0.09622836858034134, 0.1028648093342781, 0.0829554945230484, 0.07300083339214325, 0.13604700565338135, 0.12277413159608841, 0.3230207860469818, 0.07527056336402893, 0.07527056336402893, 0.07527056336402893, 0.07527056336402893, 0.07527056336402893, 0.2258116900920868, 0.07527056336402893, 0.15054112672805786, 0.15054112672805786, 0.07527056336402893, 0.12858131527900696, 0.1011912152171135, 0.10423455387353897, 0.11716876924037933, 0.09662619233131409, 0.06999693065881729, 0.0867353230714798, 0.1011912152171135, 0.10043037682771683, 0.09282201528549194, 0.3404928147792816, 0.32272350788116455, 0.32272350788116455, 0.32272350788116455, 0.16971071064472198, 0.16971071064472198, 0.16971071064472198, 0.16971071064472198, 0.16971071064472198, 0.16971071064472198, 0.16971071064472198, 0.12718431651592255, 0.12718431651592255, 0.12718431651592255, 0.12718431651592255, 0.12718431651592255, 0.12718431651592255, 0.12718431651592255, 0.12718431651592255, 0.12718431651592255, 0.12718431651592255, 0.32308125495910645, 0.32308125495910645, 0.32308125495910645, 0.14946219325065613, 0.0850151926279068, 0.08227276802062988, 0.12340914458036423, 0.07267427444458008, 0.09461367875337601, 0.1014697402715683, 0.11243944615125656, 0.10284096002578735, 0.075416699051857, 0.323386549949646, 0.323386549949646, 0.10140756517648697, 0.12614111602306366, 0.10759095102548599, 0.07172730565071106, 0.1335611790418625, 0.11377434432506561, 0.10511759668588638, 0.09522417932748795, 0.0840940773487091, 0.061833880841732025, 0.4381304681301117, 0.08427189290523529, 0.12257730215787888, 0.1570521742105484, 0.09193297475576401, 0.10725513845682144, 0.11874675750732422, 0.06128865107893944, 0.09959405660629272, 0.07278027385473251, 0.08044135570526123, 0.1912323236465454, 0.1912323236465454, 0.1912323236465454, 0.1912323236465454, 0.08830390125513077, 0.09811544418334961, 0.07195132225751877, 0.08339812606573105, 0.13572636246681213, 0.08666864037513733, 0.10956224054098129, 0.10792698711156845, 0.10792698711156845, 0.10792698711156845, 0.32323747873306274, 0.3234995901584625, 0.17000652849674225, 0.3400130569934845, 0.17000652849674225, 0.17000652849674225, 0.17000652849674225, 0.09658332169055939, 0.11488331854343414, 0.14334997534751892, 0.10369998961687088, 0.10674998909235, 0.0823499858379364, 0.09861665219068527, 0.08641665428876877, 0.09149998426437378, 0.07624998688697815, 0.3232145607471466, 0.3232145607471466, 0.19099263846874237, 0.19099263846874237, 0.19099263846874237, 0.19099263846874237, 0.16987700760364532, 0.16987700760364532, 0.16987700760364532, 0.16987700760364532, 0.16987700760364532, 0.16987700760364532, 0.16987700760364532, 0.32392406463623047, 0.14201338589191437, 0.14201338589191437, 0.14201338589191437, 0.14201338589191437, 0.14201338589191437, 0.14201338589191437, 0.14201338589191437, 0.14201338589191437, 0.14201338589191437, 0.3242606818675995, 0.3242606818675995, 0.08746200054883957, 0.10203900188207626, 0.15670275688171387, 0.10568325221538544, 0.10568325221538544, 0.10203900188207626, 0.09839475154876709, 0.06195225194096565, 0.09110625088214874, 0.0838177502155304, 0.10770483314990997, 0.13139989972114563, 0.08831796050071716, 0.08616386353969574, 0.09262615442276001, 0.13355399668216705, 0.1012425422668457, 0.06677699834108353, 0.1012425422668457, 0.09047205746173859, 0.08640320599079132, 0.08640320599079132, 0.10115497559309006, 0.10958455502986908, 0.10115497559309006, 0.10326237231492996, 0.09694018959999084, 0.14119549095630646, 0.10747716575860977, 0.06954404711723328, 0.3234553337097168, 0.3234553337097168, 0.3234553337097168, 0.11465198546648026, 0.10153260082006454, 0.12206728756427765, 0.08784281462430954, 0.10153260082006454, 0.09925097227096558, 0.083279550075531, 0.0764346569776535, 0.12035606056451797, 0.09354688972234726, 0.12436438351869583, 0.1324167549610138, 0.11631201207637787, 0.12078554928302765, 0.0653136670589447, 0.07247132807970047, 0.0867866575717926, 0.08499723672866821, 0.0885760709643364, 0.1082596406340599, 0.09249658137559891, 0.09249658137559891, 0.18499316275119781, 0.09249658137559891, 0.09249658137559891, 0.09249658137559891, 0.09249658137559891, 0.09249658137559891, 0.09249658137559891, 0.09249658137559891, 0.10807227343320847, 0.1112508699297905, 0.10012578219175339, 0.0905899927020073, 0.11919736117124557, 0.1017150804400444, 0.08582209795713425, 0.09853648394346237, 0.06992911547422409, 0.11442946642637253, 0.09978140890598297, 0.09978140890598297, 0.09978140890598297, 0.19956281781196594, 0.09978140890598297, 0.09978140890598297, 0.09978140890598297, 0.09978140890598297, 0.09978140890598297, 0.09978140890598297, 0.19148851931095123, 0.38297703862190247, 0.19148851931095123, 0.19148851931095123, 0.09949970990419388, 0.14427457749843597, 0.11442466080188751, 0.09328097850084305, 0.08084351569414139, 0.09079348295927048, 0.0708935409784317, 0.09825596213340759, 0.09825596213340759, 0.11069342494010925, 0.2665674090385437, 0.2663402855396271, 0.2663402855396271, 0.07982685416936874, 0.08869650959968567, 0.08869650959968567, 0.097566157579422, 0.097566157579422, 0.1330447643995285, 0.15078406035900116, 0.07982685416936874, 0.097566157579422, 0.08869650959968567, 0.32330358028411865, 0.32330358028411865, 0.09493513405323029, 0.12658017873764038, 0.09493513405323029, 0.18987026810646057, 0.12658017873764038, 0.06329008936882019, 0.09493513405323029, 0.06329008936882019, 0.06329008936882019, 0.06329008936882019, 0.14589691162109375, 0.11765879392623901, 0.09648021310567856, 0.10353973507881165, 0.09412703663110733, 0.07765480130910873, 0.08000797778367996, 0.12001197040081024, 0.08942068368196487, 0.07765480130910873, 0.17938771843910217, 0.17938771843910217, 0.17938771843910217, 0.17938771843910217, 0.17938771843910217, 0.17938771843910217, 0.09862282127141953, 0.1380719542503357, 0.11834738403558731, 0.06903597712516785, 0.09862282127141953, 0.07889825850725174, 0.15779651701450348, 0.06903597712516785, 0.09862282127141953, 0.06903597712516785, 0.0773027315735817, 0.070676788687706, 0.11043247580528259, 0.11043247580528259, 0.09938923269510269, 0.11043247580528259, 0.09938923269510269, 0.0861373320221901, 0.141353577375412, 0.09497193247079849, 0.1061706617474556, 0.1061706617474556, 0.09100341796875, 0.166839599609375, 0.1061706617474556, 0.0834197998046875, 0.0682525634765625, 0.0682525634765625, 0.1289215087890625, 0.075836181640625, 0.32285213470458984, 0.12953199446201324, 0.09279904514551163, 0.08506578952074051, 0.12953199446201324, 0.12953199446201324, 0.13146531581878662, 0.07733253389596939, 0.07153259962797165, 0.08506578952074051, 0.07153259962797165, 0.3226165473461151, 0.32392072677612305, 0.32392072677612305, 0.1601390540599823, 0.1601390540599823, 0.1601390540599823, 0.1601390540599823, 0.1601390540599823, 0.1601390540599823, 0.1601390540599823, 0.1601390540599823, 0.1601390540599823, 0.32332372665405273, 0.2663932740688324, 0.1911163479089737, 0.1911163479089737, 0.1911163479089737, 0.1911163479089737, 0.10188794136047363, 0.12129516899585724, 0.11228467524051666, 0.12198828905820847, 0.10396728664636612, 0.07069775462150574, 0.10188794136047363, 0.06584595143795013, 0.10258106142282486, 0.09772925078868866, 0.11722537130117416, 0.09378030151128769, 0.09378030151128769, 0.07033522427082062, 0.09378030151128769, 0.09378030151128769, 0.1641155183315277, 0.09378030151128769, 0.09378030151128769, 0.07033522427082062, 0.14086103439331055, 0.07210743427276611, 0.09893810749053955, 0.10564577579498291, 0.125768780708313, 0.11570727825164795, 0.11067652702331543, 0.07043051719665527, 0.07378435134887695, 0.08552277088165283, 0.12881843745708466, 0.0999784916639328, 0.07306120544672012, 0.08651984483003616, 0.10959180444478989, 0.08267451822757721, 0.11343713104724884, 0.0749838650226593, 0.1326637715101242, 0.0999784916639328, 0.32371804118156433, 0.32371804118156433, 0.13810770213603973, 0.05524308234453201, 0.08286461979150772, 0.08286461979150772, 0.19335079193115234, 0.11048616468906403, 0.08286461979150772, 0.08286461979150772, 0.11048616468906403, 0.08286461979150772, 0.19114457070827484, 0.19114457070827484, 0.19114457070827484, 0.19114457070827484, 0.32294851541519165, 0.08458498865365982, 0.07250141352415085, 0.08458498865365982, 0.12486355006694794, 0.10875212401151657, 0.0926406979560852, 0.10472426563501358, 0.1409749835729599, 0.08861283957958221, 0.10069641470909119, 0.3228101432323456, 0.3228101432323456, 0.07535436004400253, 0.08163389563560486, 0.10298429429531097, 0.12935832142829895, 0.08414570242166519, 0.12559060752391815, 0.10800791531801224, 0.11805516481399536, 0.076610267162323, 0.09796067327260971, 0.21024084091186523, 0.10512042045593262, 0.10512042045593262, 0.10512042045593262, 0.10512042045593262, 0.10512042045593262, 0.10512042045593262, 0.10512042045593262, 0.10512042045593262, 0.06766843795776367, 0.08774589002132416, 0.12864439189434052, 0.06692483276128769, 0.08923310786485672, 0.11451581865549088, 0.09890002757310867, 0.117490254342556, 0.10261807590723038, 0.12715718150138855, 0.0874781683087349, 0.0874781683087349, 0.13121725618839264, 0.0874781683087349, 0.1749563366174698, 0.0874781683087349, 0.0874781683087349, 0.0874781683087349, 0.0874781683087349, 0.0874781683087349, 0.32321983575820923, 0.32321983575820923, 0.10589367151260376, 0.10016968846321106, 0.08013574779033661, 0.06010181084275246, 0.08013574779033661, 0.13165158033370972, 0.11161764711141586, 0.11447963863611221, 0.11018665134906769, 0.10589367151260376, 0.32271862030029297, 0.15133363008499146, 0.0894983783364296, 0.08136216551065445, 0.076480433344841, 0.10739805549383163, 0.0829894095659256, 0.0862438976764679, 0.10577081143856049, 0.12692497670650482, 0.0894983783364296, 0.4391533136367798, 0.4391533136367798, 0.08712680637836456, 0.08712680637836456, 0.17425361275672913, 0.08712680637836456, 0.08712680637836456, 0.08712680637836456, 0.08712680637836456, 0.08712680637836456, 0.08712680637836456, 0.08712680637836456, 0.14083537459373474, 0.08047735691070557, 0.08047735691070557, 0.12071603536605835, 0.10059669613838196, 0.060358017683029175, 0.10059669613838196, 0.16095471382141113, 0.12071603536605835, 0.060358017683029175, 0.09332384169101715, 0.11825768649578094, 0.12181966751813889, 0.12395685166120529, 0.09261143952608109, 0.10400977730751038, 0.07978831976652145, 0.10685935616493225, 0.08121310919523239, 0.07836353033781052, 0.0801142156124115, 0.10101357847452164, 0.10449680685997009, 0.09753035008907318, 0.07837260514497757, 0.12191294133663177, 0.10972164571285248, 0.09753035008907318, 0.09404712170362473, 0.11668809503316879, 0.3232795298099518, 0.32384732365608215, 0.26634928584098816, 0.26634928584098816, 0.1196214109659195, 0.09926032274961472, 0.073808953166008, 0.14507277309894562, 0.11453113704919815, 0.1094408631324768, 0.10689572989940643, 0.0916249081492424, 0.09417004883289337, 0.0458124540746212, 0.0992523729801178, 0.15714958310127258, 0.12957948446273804, 0.10476639121770859, 0.0964953601360321, 0.08546732366085052, 0.0992523729801178, 0.07719629257917404, 0.06341123580932617, 0.08546732366085052, 0.3236514925956726, 0.3229098618030548, 0.26624923944473267, 0.26624923944473267, 0.1097518727183342, 0.0818488597869873, 0.0930100679397583, 0.14509570598602295, 0.09673046320676804, 0.09114986658096313, 0.07812845706939697, 0.10231106728315353, 0.07068765163421631, 0.13021409511566162, 0.095041424036026, 0.09629197418689728, 0.1250545084476471, 0.09879305958747864, 0.09754251688718796, 0.07878433912992477, 0.07878433912992477, 0.10754687339067459, 0.09754251688718796, 0.1250545084476471, 0.07687105983495712, 0.1203199177980423, 0.10360881686210632, 0.10360881686210632, 0.10026659816503525, 0.07018662244081497, 0.0935821607708931, 0.10026659816503525, 0.10026659816503525, 0.13034658133983612, 0.32341253757476807, 0.3236140310764313, 0.3236140310764313, 0.3236140310764313, 0.3238534927368164, 0.43842625617980957, 0.10890752077102661, 0.10890752077102661, 0.21781504154205322, 0.10890752077102661, 0.10890752077102661, 0.10890752077102661, 0.10890752077102661, 0.10890752077102661, 0.10890752077102661, 0.16970543563365936, 0.16970543563365936, 0.16970543563365936, 0.16970543563365936, 0.3236921727657318, 0.1420847624540329, 0.09757628291845322, 0.08131357282400131, 0.12411019206047058, 0.11298307031393051, 0.07532204687595367, 0.10613560676574707, 0.0796017050743103, 0.10699154436588287, 0.07275424897670746, 0.12962356209754944, 0.12675894796848297, 0.10455822944641113, 0.11028745025396347, 0.09596440196037292, 0.09882901608943939, 0.06373754888772964, 0.08593827486038208, 0.0909513384103775, 0.09381594508886337, 0.11541299521923065, 0.08614157885313034, 0.13883012533187866, 0.12963053584098816, 0.11624931544065475, 0.07359669357538223, 0.08697790652513504, 0.06439710408449173, 0.09032320976257324, 0.09952279925346375, 0.323571115732193, 0.323571115732193, 0.2664340138435364, 0.2664340138435364, 0.2664340138435364, 0.10522738099098206, 0.10522738099098206, 0.10522738099098206, 0.10522738099098206, 0.10522738099098206, 0.10522738099098206, 0.2104547619819641, 0.10522738099098206, 0.10522738099098206, 0.09246289730072021, 0.1171196699142456, 0.09862709045410156, 0.13561224937438965, 0.08629870414733887, 0.10479128360748291, 0.1541048288345337, 0.08013451099395752, 0.06780612468719482, 0.06780612468719482, 0.2663830816745758, 0.2663830816745758, 0.2663830816745758, 0.12663447856903076, 0.12867696583271027, 0.10689039528369904, 0.06944471597671509, 0.09940125793218613, 0.11369869858026505, 0.11437952518463135, 0.10893288254737854, 0.058551423251628876, 0.074210524559021, 0.22664976119995117, 0.22664976119995117, 0.22664976119995117, 0.32318899035453796, 0.32318899035453796, 0.3230436146259308, 0.3234792649745941, 0.3234792649745941, 0.07711391896009445, 0.12049049884080887, 0.149408221244812, 0.08916296809911728, 0.09398258477449417, 0.1325395405292511, 0.07711391896009445, 0.06265506148338318, 0.09157277643680573, 0.10844144970178604, 0.14146848022937775, 0.07639297842979431, 0.12166288495063782, 0.10751604288816452, 0.13863910734653473, 0.09336919337511063, 0.07922234386205673, 0.0735636055469513, 0.09619855880737305, 0.0735636055469513, 0.09985829144716263, 0.0730806514620781, 0.13054101169109344, 0.1204993948340416, 0.09706895798444748, 0.09372174739837646, 0.11826792359352112, 0.09093241393566132, 0.08256439864635468, 0.09372174739837646, 0.17014233767986298, 0.17014233767986298, 0.17014233767986298, 0.17014233767986298, 0.34028467535972595, 0.15640032291412354, 0.15640032291412354, 0.15640032291412354, 0.15640032291412354, 0.15640032291412354, 0.15640032291412354, 0.15640032291412354, 0.11915887147188187, 0.09362483024597168, 0.08511348068714142, 0.15320426225662231, 0.1361815631389618, 0.05106808617711067, 0.05106808617711067, 0.0680907815694809, 0.16171561181545258, 0.07660213112831116, 0.0948362946510315, 0.09156607836484909, 0.09156607836484909, 0.07848520576953888, 0.14388954639434814, 0.12099803239107132, 0.14061933755874634, 0.08829586207866669, 0.08829586207866669, 0.06213412433862686, 0.09077706187963486, 0.1228981763124466, 0.12010503560304642, 0.13686387240886688, 0.08658735454082489, 0.09496676921844482, 0.09077706187963486, 0.09496676921844482, 0.06843193620443344, 0.09217363595962524, 0.26630115509033203, 0.09154357761144638, 0.0963616594672203, 0.0963616594672203, 0.10599783062934875, 0.11081591248512268, 0.07227125018835068, 0.0963616594672203, 0.10117974877357483, 0.14454250037670135, 0.08190741389989853, 0.10757281631231308, 0.10757281631231308, 0.09779346734285355, 0.08801412582397461, 0.11735216528177261, 0.08801412582397461, 0.08801412582397461, 0.08801412582397461, 0.07823477685451508, 0.14669020473957062, 0.08167833089828491, 0.09008640050888062, 0.0780748799443245, 0.12732210755348206, 0.09248869866132736, 0.1165117397904396, 0.11891404539346695, 0.12011519819498062, 0.11290828883647919, 0.06005759909749031, 0.43800440430641174, 0.1193489134311676, 0.10741402208805084, 0.10741402208805084, 0.09547913074493408, 0.08354423940181732, 0.08354423940181732, 0.10741402208805084, 0.16708847880363464, 0.08354423940181732, 0.0596744567155838, 0.26604729890823364, 0.26604729890823364, 0.26604729890823364, 0.4386661648750305, 0.3234535753726959, 0.3234535753726959, 0.3232330083847046, 0.3232330083847046, 0.14460748434066772, 0.10176081955432892, 0.10443873703479767, 0.08301541209220886, 0.12050623446702957, 0.08301541209220886, 0.09908290952444077, 0.07765957713127136, 0.10176081955432892, 0.08569332212209702, 0.19124232232570648, 0.19124232232570648, 0.19124232232570648, 0.19124232232570648, 0.19124232232570648, 0.26676520705223083, 0.2665436267852783, 0.6174329519271851, 0.2666187286376953, 0.2666187286376953, 0.1056046336889267, 0.11647570133209229, 0.09473356604576111, 0.12579375505447388, 0.1009456068277359, 0.13511180877685547, 0.08852153271436691, 0.09007453918457031, 0.07609745860099792, 0.06522639095783234, 0.07274032384157181, 0.13109244406223297, 0.09592130780220032, 0.07673704624176025, 0.15267474949359894, 0.09352327138185501, 0.09352327138185501, 0.07274032384157181, 0.11110884696245193, 0.09991802275180817, 0.16007845103740692, 0.08682221174240112, 0.08139582723379135, 0.08139582723379135, 0.1275201290845871, 0.07054305076599121, 0.1085277646780014, 0.09224860370159149, 0.10038818418979645, 0.08953540772199631, 0.19114390015602112, 0.19114390015602112, 0.19114390015602112, 0.19114390015602112, 0.08948174864053726, 0.07234694808721542, 0.11423201858997345, 0.10280881822109222, 0.08757788687944412, 0.12375135719776154, 0.11232815682888031, 0.13327069580554962, 0.10280881822109222, 0.06473147869110107, 0.09471689164638519, 0.09316415339708328, 0.13042981922626495, 0.0822950005531311, 0.10092782974243164, 0.08540046960115433, 0.1645900011062622, 0.07763679325580597, 0.09161141514778137, 0.07918953150510788, 0.10680371522903442, 0.09154604375362396, 0.10680371522903442, 0.14647367596626282, 0.09459757804870605, 0.12206139415502548, 0.10985524952411652, 0.06408222764730453, 0.08849450945854187, 0.07018530368804932, 0.1240619495511055, 0.0827079713344574, 0.0827079713344574, 0.0827079713344574, 0.0827079713344574, 0.1240619495511055, 0.1654159426689148, 0.0827079713344574, 0.0827079713344574, 0.0827079713344574, 0.08563786745071411, 0.08563786745071411, 0.08563786745071411, 0.08563786745071411, 0.08563786745071411, 0.08563786745071411, 0.25691360235214233, 0.08563786745071411, 0.08563786745071411, 0.08563786745071411, 0.11576216667890549, 0.0954083800315857, 0.07632670551538467, 0.0954083800315857, 0.15138129889965057, 0.11957850307226181, 0.0852314829826355, 0.08268725872039795, 0.06614980846643448, 0.11194583028554916, 0.2268451452255249, 0.2268451452255249, 0.2268451452255249, 0.17884889245033264, 0.09731484204530716, 0.1052052304148674, 0.10257510095834732, 0.09994497150182724, 0.0657532662153244, 0.12361614406108856, 0.0920545756816864, 0.06312313675880432, 0.07627379149198532, 0.09639114141464233, 0.12852151691913605, 0.08721102774143219, 0.08721102774143219, 0.08721102774143219, 0.09180108457803726, 0.10557124763727188, 0.08262097835540771, 0.14229167997837067, 0.09180108457803726, 0.09130552411079407, 0.11869718134403229, 0.08217497169971466, 0.17348049581050873, 0.08217497169971466, 0.10043607652187347, 0.09130552411079407, 0.06391386687755585, 0.10956662893295288, 0.08217497169971466, 0.1054040864109993, 0.0961654856801033, 0.08482719957828522, 0.1381591409444809, 0.10288447141647339, 0.10708383470773697, 0.09217608720064163, 0.0797879546880722, 0.08545710146427155, 0.1077137440443039, 0.2664923667907715, 0.2664923667907715, 0.10204565525054932, 0.06861690431833267, 0.10028624534606934, 0.09324861317873001, 0.09500802308320999, 0.14603085815906525, 0.10204565525054932, 0.13547439873218536, 0.075654536485672, 0.08269216865301132, 0.11480561643838882, 0.12474071979522705, 0.10155881196260452, 0.10707831382751465, 0.08610421419143677, 0.09824711084365845, 0.12584461271762848, 0.08058471232652664, 0.07285740971565247, 0.08610421419143677, 0.32348233461380005, 0.14235445857048035, 0.08458742499351501, 0.09902918338775635, 0.0887136459350586, 0.06189323961734772, 0.14441755414009094, 0.10109229385852814, 0.08458742499351501, 0.0887136459350586, 0.10728161782026291, 0.09934046119451523, 0.15298430621623993, 0.09934046119451523, 0.08344598859548569, 0.08344598859548569, 0.09536684304475784, 0.10927450656890869, 0.08741960674524307, 0.08344598859548569, 0.1053008884191513, 0.09568596631288528, 0.11960745602846146, 0.11960745602846146, 0.09120068699121475, 0.10839425772428513, 0.10166633874177933, 0.12932556867599487, 0.06279391795396805, 0.08596786111593246, 0.08596786111593246, 0.11140229552984238, 0.13879629969596863, 0.08218202739953995, 0.08948709070682526, 0.10227096080780029, 0.10774976760149002, 0.11505483090877533, 0.0858345553278923, 0.09496589750051498, 0.07305068522691727, 0.0939718559384346, 0.11311426758766174, 0.08875119686126709, 0.10789360851049423, 0.07308921962976456, 0.07830987870693207, 0.14965888857841492, 0.12703602015972137, 0.08701097965240479, 0.07830987870693207, 0.16031675040721893, 0.16031675040721893, 0.16031675040721893, 0.16031675040721893, 0.16031675040721893, 0.16031675040721893, 0.16031675040721893, 0.19131553173065186, 0.19131553173065186, 0.19131553173065186, 0.19131553173065186, 0.08181165903806686, 0.12856118381023407, 0.12271748483181, 0.08765535056591034, 0.10518641769886017, 0.09349903464317322, 0.11103010922670364, 0.052593208849430084, 0.07596796751022339, 0.1460922509431839, 0.26629915833473206, 0.26629915833473206, 0.26629915833473206, 0.32276207208633423, 0.14734600484371185, 0.07150615006685257, 0.11917692422866821, 0.09317468106746674, 0.10184209793806076, 0.12351062893867493, 0.09317468106746674, 0.08667412400245667, 0.0996752455830574, 0.0650055930018425, 0.12964624166488647, 0.12964624166488647, 0.12964624166488647, 0.25929248332977295, 0.12964624166488647, 0.12964624166488647, 0.12964624166488647, 0.12964624166488647, 0.16965609788894653, 0.16965609788894653, 0.16965609788894653, 0.16965609788894653, 0.16965609788894653, 0.16965609788894653, 0.11446256190538406, 0.0919305607676506, 0.10544976592063904, 0.12347536534070969, 0.10995616018772125, 0.07931264489889145, 0.10815360397100449, 0.0919305607676506, 0.09914080053567886, 0.0766087993979454, 0.3236140012741089, 0.12041530758142471, 0.10808226466178894, 0.1201910674571991, 0.11750022321939468, 0.1215364933013916, 0.0986643135547638, 0.07332552224397659, 0.076016366481781, 0.08902211487293243, 0.07511942088603973, 0.09403131157159805, 0.08347164839506149, 0.14381259679794312, 0.10308245569467545, 0.1272188425064087, 0.08196312189102173, 0.09352847188711166, 0.12872736155986786, 0.0703977718949318, 0.07391766458749771, 0.22641050815582275, 0.22641050815582275, 0.1079033836722374, 0.12556470930576324, 0.12338728457689285, 0.10016144067049026, 0.10620983690023422, 0.06483880430459976, 0.09072594344615936, 0.10500016063451767, 0.10862919688224792, 0.06750009953975677, 0.06540776789188385, 0.1308155357837677, 0.09811165183782578, 0.09811165183782578, 0.06540776789188385, 0.06540776789188385, 0.09811165183782578, 0.09811165183782578, 0.19622330367565155, 0.09811165183782578, 0.32334691286087036, 0.0626223012804985, 0.17742985486984253, 0.07305935025215149, 0.09393344819545746, 0.08349639922380447, 0.09393344819545746, 0.16699279844760895, 0.09393344819545746, 0.07305935025215149, 0.0626223012804985, 0.4386460483074188, 0.32306990027427673, 0.3229067921638489, 0.10622922331094742, 0.05794321373105049, 0.07725761830806732, 0.11588642746210098, 0.17382964491844177, 0.07725761830806732, 0.10622922331094742, 0.08691482245922089, 0.10622922331094742, 0.09657201915979385, 0.07950243353843689, 0.039751216769218445, 0.07950243353843689, 0.11925364285707474, 0.039751216769218445, 0.07950243353843689, 0.15900486707687378, 0.19875606894493103, 0.07950243353843689, 0.07950243353843689, 0.09154807031154633, 0.14909256994724274, 0.09939505159854889, 0.09154807031154633, 0.07846977561712265, 0.10201070457696915, 0.10724202543497086, 0.10462636500597, 0.09416373074054718, 0.07846977561712265, 0.3232281506061554, 0.0932089239358902, 0.13336046040058136, 0.12045461684465408, 0.08317103981971741, 0.10754876583814621, 0.11471868306398392, 0.09607689827680588, 0.10468079894781113, 0.08030307292938232, 0.06883120536804199, 0.09972049295902252, 0.08310040831565857, 0.09734619408845901, 0.1258377730846405, 0.0925976037979126, 0.09734619408845901, 0.13533495366573334, 0.0617317333817482, 0.10446909070014954, 0.10209479182958603, 0.26641005277633667, 0.26641005277633667, 0.26641005277633667, 0.26621684432029724, 0.26621684432029724, 0.26621684432029724, 0.10031622648239136, 0.09028460830450058, 0.08777669817209244, 0.09279251098632812, 0.1479664295911789, 0.11034785211086273, 0.08526879549026489, 0.10783994197845459, 0.09279251098632812, 0.08526879549026489, 0.322605699300766, 0.322605699300766, 0.12693744897842407, 0.12693744897842407, 0.12693744897842407, 0.12693744897842407, 0.12693744897842407, 0.12693744897842407, 0.12693744897842407, 0.12693744897842407, 0.12693744897842407, 0.09738408029079437, 0.16112639009952545, 0.07082478702068329, 0.10623717308044434, 0.11154903471469879, 0.07082478702068329, 0.1221727505326271, 0.08853098005056381, 0.08321911841630936, 0.09030160307884216, 0.0983085110783577, 0.0909353718161583, 0.08601994067430496, 0.08601994067430496, 0.1278010606765747, 0.1204279214143753, 0.0909353718161583, 0.09585079550743103, 0.1351741999387741, 0.06881595402956009, 0.10802442580461502, 0.06929869204759598, 0.13859738409519196, 0.14878836274147034, 0.07745147496461868, 0.08152787387371063, 0.09375705569982529, 0.08560426533222198, 0.08968065679073334, 0.10802442580461502, 0.0708145871758461, 0.1416291743516922, 0.1416291743516922, 0.0708145871758461, 0.2124437540769577, 0.0708145871758461, 0.0708145871758461, 0.0708145871758461, 0.1416291743516922, 0.0708145871758461, 0.32236093282699585, 0.13559822738170624, 0.13559822738170624, 0.13559822738170624, 0.13559822738170624, 0.13559822738170624, 0.13559822738170624, 0.13559822738170624, 0.13559822738170624, 0.13559822738170624, 0.3224979043006897, 0.09073277562856674, 0.09073277562856674, 0.09073277562856674, 0.09073277562856674, 0.18146555125713348, 0.09073277562856674, 0.09073277562856674, 0.09073277562856674, 0.04536638781428337, 0.09073277562856674, 0.13623890280723572, 0.10852929204702377, 0.08774708956480026, 0.14547543227672577, 0.10391102731227875, 0.10852929204702377, 0.08543795347213745, 0.0946744903922081, 0.06465575098991394, 0.06696487963199615, 0.19701212644577026, 0.19701212644577026, 0.19701212644577026, 0.19701212644577026, 0.2269843965768814, 0.2269843965768814, 0.16978715360164642, 0.16978715360164642, 0.16978715360164642, 0.16978715360164642, 0.16978715360164642, 0.16978715360164642, 0.3237975537776947, 0.3237975537776947, 0.3232435882091522, 0.3232435882091522, 0.3402388393878937, 0.3402388393878937, 0.19120003283023834, 0.19120003283023834, 0.19120003283023834, 0.19120003283023834, 0.0784773975610733, 0.0784773975610733, 0.0784773975610733, 0.0784773975610733, 0.11771609634160995, 0.11771609634160995, 0.11771609634160995, 0.19619350135326385, 0.0784773975610733, 0.0784773975610733, 0.32332247495651245, 0.32332247495651245, 0.07582050561904907, 0.1705961376428604, 0.0779266282916069, 0.09266950190067291, 0.11373075842857361, 0.07160825282335281, 0.09477563202381134, 0.13057975471019745, 0.07582050561904907, 0.09477563202381134, 0.32249167561531067, 0.23443542420864105, 0.11721771210432053, 0.11721771210432053, 0.23443542420864105, 0.11721771210432053, 0.11721771210432053, 0.11721771210432053, 0.22686636447906494, 0.22686636447906494, 0.2775828540325165, 0.3236449658870697, 0.3231099843978882, 0.09265550225973129, 0.07650454342365265, 0.07480444014072418, 0.09095539897680283, 0.10965650528669357, 0.1351580172777176, 0.07735459506511688, 0.1028561070561409, 0.12580746412277222, 0.1130567118525505, 0.32394155859947205, 0.32394155859947205, 0.617290735244751, 0.11477842181921005, 0.1519126147031784, 0.08439590036869049, 0.06751671433448792, 0.12828175723552704, 0.11140258610248566, 0.0742683857679367, 0.11140258610248566, 0.08777173608541489, 0.07089255005121231, 0.08584985882043839, 0.08584985882043839, 0.08584985882043839, 0.08584985882043839, 0.08584985882043839, 0.08584985882043839, 0.17169971764087677, 0.08584985882043839, 0.17169971764087677, 0.08584985882043839, 0.08898445218801498, 0.11081082373857498, 0.07891073822975159, 0.14271090924739838, 0.10241606831550598, 0.08058968931436539, 0.08898445218801498, 0.12760034203529358, 0.08730550110340118, 0.09066340327262878, 0.10321733355522156, 0.11909691989421844, 0.11711197346448898, 0.0754280537366867, 0.09726248681545258, 0.07145815342664719, 0.13299156725406647, 0.08535279333591461, 0.08535279333591461, 0.11115712672472, 0.14341376721858978, 0.07170688360929489, 0.08490815758705139, 0.1161111518740654, 0.1077103465795517, 0.07320702821016312, 0.09960956871509552, 0.11191074550151825, 0.09870947897434235, 0.09270890057086945, 0.169801265001297, 0.169801265001297, 0.169801265001297, 0.169801265001297, 0.169801265001297, 0.05261465162038803, 0.10522930324077606, 0.1841512769460678, 0.0920756384730339, 0.0920756384730339, 0.10522930324077606, 0.07892197370529175, 0.10522930324077606, 0.10522930324077606, 0.07892197370529175, 0.17452089488506317, 0.17452089488506317, 0.17452089488506317, 0.17452089488506317, 0.08226700127124786, 0.11575622111558914, 0.1332288533449173, 0.09609950333833694, 0.09027528762817383, 0.09682752937078476, 0.09245937317609787, 0.11721227318048477, 0.07862686365842819, 0.09609950333833694, 0.0810261070728302, 0.0958808958530426, 0.09453045576810837, 0.11073567718267441, 0.09723132848739624, 0.08642784506082535, 0.1066843718290329, 0.11208611726760864, 0.1255904585123062, 0.09182959049940109, 0.09263520687818527, 0.08271000534296036, 0.1290276050567627, 0.07609320431947708, 0.08271000534296036, 0.14226120710372925, 0.08271000534296036, 0.11579400300979614, 0.11910240352153778, 0.07940160483121872, 0.3226328492164612, 0.09517340362071991, 0.1103459820151329, 0.11724260449409485, 0.12000124901533127, 0.11172530055046082, 0.1103459820151329, 0.08413881063461304, 0.06896623969078064, 0.07172488421201706, 0.11310462653636932, 0.11781508475542068, 0.10915221273899078, 0.12474538385868073, 0.07969844341278076, 0.07623329013586044, 0.07969844341278076, 0.15766429901123047, 0.06410526484251022, 0.1126173585653305, 0.07450071722269058, 0.12102432548999786, 0.14168702065944672, 0.11069297790527344, 0.09740982204675674, 0.061988066881895065, 0.11659660190343857, 0.07822304219007492, 0.06641578674316406, 0.12987975776195526, 0.07822304219007492, 0.2263876348733902, 0.2263876348733902, 0.08258220553398132, 0.10967949032783508, 0.1045181080698967, 0.08129186183214188, 0.09677602350711823, 0.10064706206321716, 0.1329057365655899, 0.11096984148025513, 0.08516290038824081, 0.09677602350711823, 0.10193075239658356, 0.11514399200677872, 0.1333908587694168, 0.13024485111236572, 0.06103260815143585, 0.08431308716535568, 0.08745910227298737, 0.08682990074157715, 0.12017761170864105, 0.07927947491407394, 0.1119379848241806, 0.11405002325773239, 0.14150650799274445, 0.09715372323989868, 0.10771391540765762, 0.08870557695627213, 0.09081761538982391, 0.08870557695627213, 0.0950416848063469, 0.06336112320423126, 0.3402032256126404, 0.10262227803468704, 0.11882579326629639, 0.09046963602304459, 0.09992168843746185, 0.0864187553524971, 0.09181992709636688, 0.10802344977855682, 0.07291582971811295, 0.09452051669359207, 0.13502931594848633, 0.08454261720180511, 0.10510703176259995, 0.12567146122455597, 0.08911248296499252, 0.10510703176259995, 0.08682755380868912, 0.10282210260629654, 0.08454261720180511, 0.1348111927509308, 0.07997274398803711, 0.08606091886758804, 0.1721218377351761, 0.06884873658418655, 0.08606091886758804, 0.10327310115098953, 0.10327310115098953, 0.10327310115098953, 0.08606091886758804, 0.10327310115098953, 0.08606091886758804, 0.11263381689786911, 0.06436218321323395, 0.19308654963970184, 0.08045272529125214, 0.1287243664264679, 0.11263381689786911, 0.08045272529125214, 0.06436218321323395, 0.09654327481985092, 0.06436218321323395, 0.1529092639684677, 0.1529092639684677, 0.1529092639684677, 0.1529092639684677, 0.1529092639684677, 0.1529092639684677, 0.1529092639684677, 0.1529092639684677, 0.2671439051628113, 0.2671439051628113, 0.2671439051628113, 0.2663397192955017, 0.2663397192955017, 0.08881381154060364, 0.11136969923973083, 0.13110610842704773, 0.07471638172864914, 0.11700867116451263, 0.10714047402143478, 0.07612612843513489, 0.10432098805904388, 0.10291124135255814, 0.08740407228469849, 0.22671668231487274, 0.22671668231487274, 0.22671668231487274, 0.3232582211494446, 0.2265930026769638, 0.2265930026769638, 0.4387977421283722, 0.09241744130849838, 0.09241744130849838, 0.09241744130849838, 0.06931308656930923, 0.09241744130849838, 0.18483488261699677, 0.06931308656930923, 0.09241744130849838, 0.11552180349826813, 0.06931308656930923, 0.17989365756511688, 0.09287533164024353, 0.10458933562040329, 0.10124247521162033, 0.07028403133153915, 0.07697775214910507, 0.09120190143585205, 0.08032461255788803, 0.10877291113138199, 0.09454876184463501, 0.32424458861351013, 0.32424458861351013, 0.09887953847646713, 0.09092371165752411, 0.10456227511167526, 0.07387551665306091, 0.12956629693508148, 0.09660644829273224, 0.11820083111524582, 0.05682732164859772, 0.13297593593597412, 0.09774299710988998, 0.07755620777606964, 0.11633431911468506, 0.09048224240541458, 0.16803845763206482, 0.05816715955734253, 0.10987129807472229, 0.08401922881603241, 0.08401922881603241, 0.10340828448534012, 0.10987129807472229, 0.3239155113697052, 0.3239155113697052, 0.3239155113697052, 0.09575918316841125, 0.12767890095710754, 0.08724725246429443, 0.10852707177400589, 0.08086330443620682, 0.10639908909797668, 0.14257478713989258, 0.09150321781635284, 0.07873532921075821, 0.08086330443620682, 0.32272201776504517, 0.3235650956630707, 0.1331454962491989, 0.10540685057640076, 0.10540685057640076, 0.06657274812459946, 0.08876366168260574, 0.0776682049036026, 0.14978867769241333, 0.09985912591218948, 0.0776682049036026, 0.09985912591218948, 0.11189776659011841, 0.10054582357406616, 0.07622022181749344, 0.07297680526971817, 0.11514118313789368, 0.11027606576681137, 0.10541094094514847, 0.11351947486400604, 0.07784192264080048, 0.11676289141178131, 0.1948026716709137, 0.09740133583545685, 0.14610199630260468, 0.09740133583545685, 0.09740133583545685, 0.048700667917728424, 0.09740133583545685, 0.09740133583545685, 0.09740133583545685, 0.048700667917728424, 0.127081960439682, 0.172468364238739, 0.09077282249927521, 0.0816955417394638, 0.09077282249927521, 0.0726182609796524, 0.09077282249927521, 0.10892739146947861, 0.09985010325908661, 0.0726182609796524, 0.1170453205704689, 0.12955397367477417, 0.0786258652806282, 0.10006927698850632, 0.06969110667705536, 0.12419312447309494, 0.07058458030223846, 0.11793879419565201, 0.10811056196689606, 0.08577366918325424, 0.08283654600381851, 0.09703709185123444, 0.09407864511013031, 0.1289883404970169, 0.0810614749789238, 0.14437226951122284, 0.08934512734413147, 0.12011299282312393, 0.08875343948602676, 0.07336951047182083, 0.08498280495405197, 0.0881696566939354, 0.10516621917486191, 0.12322506308555603, 0.10091707855463028, 0.10516621917486191, 0.09348107874393463, 0.12853649258613586, 0.1041039302945137, 0.06692395359277725, 0.43881386518478394, 0.15624366700649261, 0.15624366700649261, 0.15624366700649261, 0.15624366700649261, 0.15624366700649261, 0.15624366700649261, 0.10363280028104782, 0.08357483893632889, 0.09360381960868835, 0.10697579383850098, 0.0902608260512352, 0.11031878739595413, 0.08691783249378204, 0.1571207046508789, 0.10697579383850098, 0.06351687759160995, 0.08295437693595886, 0.08295437693595886, 0.11751870810985565, 0.10369297862052917, 0.15208302438259125, 0.10369297862052917, 0.09332367777824402, 0.08295437693595886, 0.11751870810985565, 0.06912864744663239, 0.1383904218673706, 0.08303425461053848, 0.12731920182704926, 0.12178357690572739, 0.08303425461053848, 0.07196301966905594, 0.1605328917503357, 0.08856987208127975, 0.07749863713979721, 0.05535617098212242, 0.07324911653995514, 0.09522385150194168, 0.11475694924592972, 0.1025487631559372, 0.09034057706594467, 0.12208186089992523, 0.13429005444049835, 0.09766548871994019, 0.10987367480993271, 0.061040930449962616, 0.43891075253486633, 0.32354408502578735, 0.32354408502578735, 0.32354408502578735, 0.13578462600708008, 0.06547989696264267, 0.09856447577476501, 0.11441750079393387, 0.11510676145553589, 0.10614635795354843, 0.12199938297271729, 0.09167185425758362, 0.06754767894744873, 0.08271144330501556, 0.12491460889577866, 0.0832764059305191, 0.10946817696094513, 0.10543867200613022, 0.08864907920360565, 0.10946817696094513, 0.12827253341674805, 0.08059006929397583, 0.07320264726877213, 0.09670808166265488, 0.09053980559110641, 0.10651741176843643, 0.0745621919631958, 0.1118432879447937, 0.12249502539634705, 0.09586567431688309, 0.09586567431688309, 0.08521392941474915, 0.07988806068897247, 0.14379851520061493, 0.1969478279352188, 0.1969478279352188, 0.1969478279352188, 0.1969478279352188, 0.1969478279352188, 0.10361859202384949, 0.16218560934066772, 0.11262889951467514, 0.11262889951467514, 0.07658765465021133, 0.10812374204397202, 0.10361859202384949, 0.09911343455314636, 0.06757733970880508, 0.045051559805870056, 0.16961023211479187, 0.16961023211479187, 0.16961023211479187, 0.16961023211479187, 0.16961023211479187, 0.19711990654468536, 0.19711990654468536, 0.19711990654468536, 0.2663155794143677, 0.08594556152820587, 0.1083347424864769, 0.10472358018159866, 0.0881122574210167, 0.11483482271432877, 0.0989457294344902, 0.11916821449995041, 0.08305663615465164, 0.10183465480804443, 0.09533456712961197, 0.08298137784004211, 0.11854482442140579, 0.08298137784004211, 0.18967171013355255, 0.07112689316272736, 0.09483585506677628, 0.08298137784004211, 0.08298137784004211, 0.08298137784004211, 0.10669033974409103, 0.07881131023168564, 0.16700491309165955, 0.08819360285997391, 0.09569944441318512, 0.10132881999015808, 0.08068776875734329, 0.12384633719921112, 0.08819360285997391, 0.12384633719921112, 0.05441733077168465, 0.07406701892614365, 0.09258377552032471, 0.11110053211450577, 0.16665080189704895, 0.07406701892614365, 0.10184215009212494, 0.10184215009212494, 0.06480864435434341, 0.10184215009212494, 0.11110053211450577, 0.10014962404966354, 0.12627561390399933, 0.15675592422485352, 0.11756694316864014, 0.06966929882764816, 0.08708662539720535, 0.07837796211242676, 0.07402363419532776, 0.10014962404966354, 0.08273229748010635, 0.06718328595161438, 0.11757074296474457, 0.18475402891635895, 0.10077492892742157, 0.10077492892742157, 0.08397910743951797, 0.06718328595161438, 0.08397910743951797, 0.08397910743951797, 0.08397910743951797, 0.10098116844892502, 0.06831078976392746, 0.10989127308130264, 0.09801113605499268, 0.1425616443157196, 0.10989127308130264, 0.12177141010761261, 0.11286130547523499, 0.08019092679023743, 0.05346061661839485, 0.30538955330848694, 0.15269477665424347, 0.15269477665424347, 0.15269477665424347, 0.15269477665424347, 0.15269477665424347, 0.3236294090747833, 0.20339621603488922, 0.20339621603488922, 0.20339621603488922, 0.32266414165496826, 0.27811041474342346, 0.2265445590019226, 0.2265445590019226, 0.2265445590019226, 0.07207714766263962, 0.10483948886394501, 0.09828702360391617, 0.10483948886394501, 0.09173455834388733, 0.13104936480522156, 0.137601837515831, 0.07338764518499374, 0.11663393676280975, 0.07207714766263962, 0.0902697890996933, 0.13715749979019165, 0.13080355525016785, 0.09837654232978821, 0.13825300335884094, 0.08194393664598465, 0.09399451315402985, 0.08238213509321213, 0.08303944021463394, 0.06397761404514313, 0.06872327625751495, 0.09163103252649307, 0.1374465525150299, 0.06872327625751495, 0.18326206505298615, 0.11453879624605179, 0.09163103252649307, 0.09163103252649307, 0.06872327625751495, 0.06872327625751495, 0.11554098129272461, 0.10503725707530975, 0.05251862853765488, 0.06302235275506973, 0.12079284340143204, 0.07352607697248459, 0.0945335328578949, 0.1680596023797989, 0.11554098129272461, 0.0945335328578949, 0.3239145576953888, 0.3239145576953888, 0.3230211138725281, 0.27788209915161133, 0.06269842386245728, 0.12539684772491455, 0.06269842386245728, 0.12539684772491455, 0.12539684772491455, 0.06269842386245728, 0.06269842386245728, 0.12539684772491455, 0.18809527158737183, 0.06269842386245728, 0.0841667428612709, 0.10276172310113907, 0.11059118807315826, 0.11059118807315826, 0.11352723836898804, 0.10667645186185837, 0.08906015753746033, 0.08612410724163055, 0.08318805694580078, 0.11352723836898804, 0.12821245193481445, 0.1270677000284195, 0.11104114353656769, 0.10417261719703674, 0.09959360212087631, 0.11562015861272812, 0.06868524104356766, 0.06868524104356766, 0.10302786529064178, 0.07211950421333313, 0.0939217135310173, 0.13305576145648956, 0.13305576145648956, 0.095487080514431, 0.10487925261259079, 0.07670273631811142, 0.095487080514431, 0.0939217135310173, 0.07200665026903152, 0.1033138856291771, 0.26603707671165466, 0.26603707671165466, 0.10938578099012375, 0.1507749855518341, 0.1005166620016098, 0.07686568051576614, 0.07390931248664856, 0.1005166620016098, 0.11234214901924133, 0.10347303748130798, 0.10347303748130798, 0.0679965615272522, 0.3231532871723175, 0.3231532871723175, 0.3229401111602783, 0.1268436461687088, 0.09590617567300797, 0.09590617567300797, 0.0974530503153801, 0.0881718099117279, 0.08662493526935577, 0.08353118598461151, 0.14540614187717438, 0.08971867710351944, 0.08971867710351944, 0.07448386400938034, 0.10427740961313248, 0.12289837747812271, 0.0670354813337326, 0.12289837747812271, 0.08565644919872284, 0.08938063681125641, 0.08938063681125641, 0.11917418241500854, 0.13034676015377045, 0.09368636459112167, 0.09368636459112167, 0.09368636459112167, 0.09368636459112167, 0.09368636459112167, 0.09368636459112167, 0.18737272918224335, 0.09368636459112167, 0.09368636459112167, 0.09368636459112167, 0.12247245758771896, 0.07601738721132278, 0.08868695050477982, 0.11402607709169388, 0.11402607709169388, 0.0675710141658783, 0.12247245758771896, 0.08868695050477982, 0.07179419696331024, 0.1351420283317566, 0.43829575181007385, 0.11751172691583633, 0.08635331690311432, 0.08190211653709412, 0.10771908611059189, 0.14421893656253815, 0.09614595770835876, 0.0747801885008812, 0.12196293473243713, 0.09080451726913452, 0.079231396317482, 0.16989079117774963, 0.16989079117774963, 0.16989079117774963, 0.16989079117774963, 0.16989079117774963, 0.19987207651138306, 0.09993603825569153, 0.09993603825569153, 0.09993603825569153, 0.09993603825569153, 0.09993603825569153, 0.09993603825569153, 0.09993603825569153, 0.09993603825569153, 0.09993603825569153, 0.11399069428443909, 0.12898947298526764, 0.08249326795339584, 0.13348910212516785, 0.11399069428443909, 0.10424149036407471, 0.10049179941415787, 0.078743577003479, 0.06374479830265045, 0.08024345338344574, 0.16265657544136047, 0.1229381114244461, 0.07754557579755783, 0.08700235933065414, 0.10780726373195648, 0.08889371156692505, 0.07943693548440933, 0.10780726373195648, 0.0605233795940876, 0.10213319957256317, 0.26557400822639465, 0.26557400822639465, 0.26557400822639465, 0.3236616253852844, 0.3236616253852844, 0.3229435384273529, 0.08322476595640182, 0.11159684509038925, 0.10403095930814743, 0.0926821231842041, 0.11348831653594971, 0.07944182306528091, 0.10781390219926834, 0.08984491974115372, 0.10875963419675827, 0.1097053736448288, 0.09692612290382385, 0.08574233949184418, 0.15284503996372223, 0.09692612290382385, 0.14166125655174255, 0.07083062827587128, 0.09319819509983063, 0.0894702672958374, 0.08201441168785095, 0.0894702672958374, 0.3224383592605591, 0.3224383592605591, 0.12112519145011902, 0.10274011641740799, 0.09084389358758926, 0.10490306466817856, 0.10274011641740799, 0.08759947121143341, 0.08543651551008224, 0.09625126421451569, 0.12112519145011902, 0.0886809453368187, 0.323639839887619, 0.323639839887619, 0.08833786845207214, 0.08833786845207214, 0.08833786845207214, 0.08833786845207214, 0.08833786845207214, 0.08833786845207214, 0.08833786845207214, 0.26501360535621643, 0.08833786845207214, 0.08833786845207214, 0.07228036969900131, 0.11358343809843063, 0.15402603149414062, 0.09207142889499664, 0.1187463253736496, 0.07572229206562042, 0.10411815345287323, 0.10239719599485397, 0.08862950652837753, 0.07916421443223953, 0.12662135064601898, 0.08441422879695892, 0.09535681456327438, 0.093793585896492, 0.08441422879695892, 0.12818457186222076, 0.1328742504119873, 0.10473617166280746, 0.054712925106287, 0.093793585896492, 0.12467054277658463, 0.12467054277658463, 0.12467054277658463, 0.12467054277658463, 0.24934108555316925, 0.2666738033294678, 0.2666738033294678, 0.09871886670589447, 0.11517201364040375, 0.09745324403047562, 0.11264076083898544, 0.12150014936923981, 0.07846884429454803, 0.08606260269880295, 0.10631263256072998, 0.07467196881771088, 0.11010950803756714, 0.14372184872627258, 0.09581456333398819, 0.09581456333398819, 0.047907281666994095, 0.09581456333398819, 0.14372184872627258, 0.14372184872627258, 0.047907281666994095, 0.09581456333398819, 0.19162912666797638, 0.08564133942127228, 0.08564133942127228, 0.08564133942127228, 0.08564133942127228, 0.17128267884254456, 0.08564133942127228, 0.08564133942127228, 0.08564133942127228, 0.08564133942127228, 0.08564133942127228, 0.12638016045093536, 0.07917793095111847, 0.09744976460933685, 0.09592711180448532, 0.07460997253656387, 0.13399341702461243, 0.10354036837816238, 0.10354036837816238, 0.09440445899963379, 0.09135915338993073, 0.13258789479732513, 0.10778111964464188, 0.13173247873783112, 0.09238381683826447, 0.09951219707727432, 0.08012299984693527, 0.08782165497541428, 0.08810678869485855, 0.058452725410461426, 0.12118247896432877, 0.13867026567459106, 0.13867026567459106, 0.13867026567459106, 0.27734053134918213, 0.13867026567459106, 0.13867026567459106, 0.13867026567459106, 0.3238757848739624, 0.32319116592407227, 0.32319116592407227, 0.32275646924972534, 0.05861866846680641, 0.05861866846680641, 0.17585600912570953, 0.11723733693361282, 0.11723733693361282, 0.11723733693361282, 0.05861866846680641, 0.11723733693361282, 0.11723733693361282, 0.05861866846680641, 0.1359107345342636, 0.1359107345342636, 0.1359107345342636, 0.1359107345342636, 0.1359107345342636, 0.2718214690685272, 0.1913110911846161, 0.1913110911846161, 0.1913110911846161, 0.20113947987556458, 0.06704649329185486, 0.20113947987556458, 0.06704649329185486, 0.13409298658370972, 0.13409298658370972, 0.06704649329185486, 0.06704649329185486, 0.06704649329185486, 0.06704649329185486, 0.2776135802268982, 0.1966332644224167, 0.1966332644224167, 0.1966332644224167, 0.1966332644224167, 0.323378324508667, 0.323378324508667, 0.323378324508667, 0.09986688941717148, 0.09986688941717148, 0.09986688941717148, 0.09986688941717148, 0.09986688941717148, 0.09986688941717148, 0.09986688941717148, 0.09986688941717148, 0.09986688941717148, 0.19973377883434296, 0.1624862104654312, 0.09880918264389038, 0.1010049432516098, 0.08783038705587387, 0.07904734462499619, 0.09880918264389038, 0.10539646446704865, 0.120766781270504, 0.07246007025241852, 0.07246007025241852, 0.11568991094827652, 0.09089921414852142, 0.09640826284885406, 0.10191730409860611, 0.12395347654819489, 0.07712660729885101, 0.10191730409860611, 0.08263565599918365, 0.13497155904769897, 0.07437209039926529, 0.32292142510414124, 0.3230580687522888, 0.3230580687522888, 0.2659839391708374, 0.19139407575130463, 0.19139407575130463, 0.19139407575130463, 0.19139407575130463, 0.1502256989479065, 0.07511284947395325, 0.07511284947395325, 0.07511284947395325, 0.07511284947395325, 0.07511284947395325, 0.07511284947395325, 0.07511284947395325, 0.22533854842185974, 0.07511284947395325, 0.10480229556560516, 0.0981692373752594, 0.08490312099456787, 0.11873171478509903, 0.10679221153259277, 0.08821965008974075, 0.110772043466568, 0.11209865659475327, 0.10015915334224701, 0.07495354115962982, 0.15063682198524475, 0.11628106236457825, 0.08985354751348495, 0.08456804603338242, 0.11892381310462952, 0.1294948160648346, 0.07399703562259674, 0.08985354751348495, 0.07928253710269928, 0.0687115341424942, 0.09354984760284424, 0.09354984760284424, 0.10357304662466049, 0.10691411793231964, 0.11526677757501602, 0.08018558472394943, 0.13197210431098938, 0.1102551817893982, 0.09020878374576569, 0.07350345700979233, 0.0908469557762146, 0.11136078834533691, 0.09670805186033249, 0.12015242874622345, 0.08498586714267731, 0.0908469557762146, 0.15824954211711884, 0.08498586714267731, 0.08205531537532806, 0.07912477105855942, 0.08692623674869537, 0.1159016489982605, 0.10141394287347794, 0.10141394287347794, 0.08692623674869537, 0.10141394287347794, 0.08692623674869537, 0.07243853062391281, 0.17385247349739075, 0.07243853062391281, 0.08880545943975449, 0.07104436308145523, 0.08584527671337128, 0.08732536435127258, 0.10360636562108994, 0.11840727925300598, 0.09028554707765579, 0.11840727925300598, 0.11988736689090729, 0.11692718416452408, 0.12424464523792267, 0.062122322618961334, 0.062122322618961334, 0.12424464523792267, 0.1863669753074646, 0.12424464523792267, 0.062122322618961334, 0.062122322618961334, 0.062122322618961334, 0.062122322618961334, 0.09382957220077515, 0.09706506878137589, 0.1164780855178833, 0.1520686149597168, 0.0711810514330864, 0.07441655546426773, 0.08735856413841248, 0.0808875560760498, 0.10353607684373856, 0.1261845976114273, 0.13861475884914398, 0.13861475884914398, 0.13861475884914398, 0.13861475884914398, 0.13861475884914398, 0.27722951769828796, 0.08496079593896866, 0.12574197351932526, 0.10195295512676239, 0.09515609592199326, 0.07816393673419952, 0.15632787346839905, 0.13933570683002472, 0.06796863675117493, 0.09855452924966812, 0.050976477563381195, 0.09520943462848663, 0.19041886925697327, 0.09520943462848663, 0.09520943462848663, 0.09520943462848663, 0.09520943462848663, 0.09520943462848663, 0.09520943462848663, 0.09520943462848663, 0.09520943462848663, 0.340068519115448, 0.32349804043769836, 0.14005163311958313, 0.08829342573881149, 0.09286032617092133, 0.11721713095903397, 0.10656102746725082, 0.10351642966270447, 0.09133802354335785, 0.07763732224702835, 0.1080833300948143, 0.07307042181491852, 0.09218794852495193, 0.08893425762653351, 0.0997798964381218, 0.08242686837911606, 0.09435707330703735, 0.08893425762653351, 0.11171010136604309, 0.10954097658395767, 0.12906312942504883, 0.10303358733654022, 0.09451140463352203, 0.10585277527570724, 0.11341368407011032, 0.07938957959413528, 0.1512182503938675, 0.0907309502363205, 0.12286482751369476, 0.11152345687150955, 0.07182867079973221, 0.05859706923365593, 0.3230101764202118, 0.3230101764202118, 0.1526665985584259, 0.1526665985584259, 0.1526665985584259, 0.1526665985584259, 0.1526665985584259, 0.10947257280349731, 0.11460409313440323, 0.09236747771501541, 0.11802511662244797, 0.12999866902828217, 0.11118307709693909, 0.09578850120306015, 0.0752623900771141, 0.07355188578367233, 0.07697290182113647, 0.10010801255702972, 0.09240739792585373, 0.11807612329721451, 0.09240739792585373, 0.07828960567712784, 0.11550924926996231, 0.10139144957065582, 0.08727365732192993, 0.132193922996521, 0.08085647225379944, 0.09618961811065674, 0.11790985614061356, 0.09618961811065674, 0.1582474410533905, 0.09308673441410065, 0.08688095211982727, 0.09308673441410065, 0.08998384326696396, 0.0806751698255539, 0.08688095211982727, 0.13900750875473022, 0.13900750875473022, 0.13900750875473022, 0.13900750875473022, 0.13900750875473022, 0.13900750875473022, 0.13900750875473022, 0.32330307364463806, 0.32235750555992126, 0.32235750555992126, 0.17425471544265747, 0.17425471544265747, 0.17425471544265747, 0.17425471544265747, 0.17425471544265747, 0.34027594327926636, 0.11888673156499863, 0.14232918620109558, 0.1272590309381485, 0.10046765953302383, 0.07869967073202133, 0.11051442474126816, 0.06865290552377701, 0.08204858750104904, 0.07869967073202133, 0.09209535270929337, 0.16624192893505096, 0.08052343875169754, 0.12468145042657852, 0.09610862284898758, 0.09870614856481552, 0.08831603080034256, 0.08831603080034256, 0.0909135565161705, 0.077925905585289, 0.08831603080034256, 0.17422635853290558, 0.17422635853290558, 0.17422635853290558, 0.17422635853290558, 0.17422635853290558, 0.16399966180324554, 0.07880503684282303, 0.10649328678846359, 0.10010369122028351, 0.10223355889320374, 0.09371409565210342, 0.10862315446138382, 0.08093489706516266, 0.07880503684282303, 0.08519463241100311, 0.09692728519439697, 0.15946100652217865, 0.12506745755672455, 0.11881408840417862, 0.07816716283559799, 0.07504047453403473, 0.06566041707992554, 0.10943403095006943, 0.08129385113716125, 0.08754722028970718, 0.22651277482509613, 0.22651277482509613, 0.0922921672463417, 0.0922921672463417, 0.0922921672463417, 0.08949543535709381, 0.1426333487033844, 0.08949543535709381, 0.08669869601726532, 0.10907255858182907, 0.1426333487033844, 0.06152810901403427, 0.10217965394258499, 0.11146871000528336, 0.0743124783039093, 0.11146871000528336, 0.12075777351856232, 0.08360153436660767, 0.0743124783039093, 0.16720306873321533, 0.0743124783039093, 0.0743124783039093, 0.12905484437942505, 0.11129500716924667, 0.09590314328670502, 0.079327292740345, 0.10300708562135696, 0.07695931196212769, 0.1219509169459343, 0.11839894950389862, 0.08761522173881531, 0.07814330607652664, 0.1057562455534935, 0.11210162192583084, 0.08037474751472473, 0.13325287401676178, 0.13325287401676178, 0.12690749764442444, 0.08460500091314316, 0.07825962454080582, 0.07191424816846848, 0.07402937114238739, 0.2780550718307495, 0.19974316656589508, 0.09987158328294754, 0.09987158328294754, 0.09987158328294754, 0.09987158328294754, 0.09987158328294754, 0.09987158328294754, 0.09987158328294754, 0.09987158328294754, 0.09987158328294754, 0.09104713052511215, 0.107381172478199, 0.08771982789039612, 0.10828861594200134, 0.06533614546060562, 0.13853684067726135, 0.11191840469837189, 0.12159783393144608, 0.0774354338645935, 0.09074465185403824, 0.10271887481212616, 0.11238653212785721, 0.09184275567531586, 0.09546813368797302, 0.10271887481212616, 0.11601190268993378, 0.0906343013048172, 0.07250744104385376, 0.11722036451101303, 0.10030195862054825, 0.32322239875793457, 0.1910843849182129, 0.1910843849182129, 0.1910843849182129, 0.1910843849182129, 0.07800295948982239, 0.08555162698030472, 0.11826254427433014, 0.15348969399929047, 0.11071386933326721, 0.0805191770195961, 0.07045428454875946, 0.12329499423503876, 0.10568142682313919, 0.07297050952911377, 0.09993112832307816, 0.0967075452208519, 0.10315471142530441, 0.08596226572990417, 0.08381320536136627, 0.11389999836683273, 0.11819811165332794, 0.11389999836683273, 0.0762915089726448, 0.10960188508033752, 0.0989583283662796, 0.07916666567325592, 0.16822916269302368, 0.0989583283662796, 0.0989583283662796, 0.0989583283662796, 0.08906249701976776, 0.0989583283662796, 0.08906249701976776, 0.07916666567325592, 0.3227950930595398, 0.07126906514167786, 0.10746922343969345, 0.10633797198534012, 0.09050039947032928, 0.11312549561262131, 0.1018129512667656, 0.09502542018890381, 0.13575059175491333, 0.10068169236183167, 0.07918784767389297, 0.26631587743759155, 0.26631587743759155, 0.34012842178344727, 0.14744730293750763, 0.07372365146875381, 0.10701820999383926, 0.10226184129714966, 0.09037093073129654, 0.09512729197740555, 0.08323638141155243, 0.08323638141155243, 0.11177457123994827, 0.10701820999383926, 0.12413895130157471, 0.09346932172775269, 0.09200886636972427, 0.12559939920902252, 0.11537619680166245, 0.0949297845363617, 0.07302290946245193, 0.13436216115951538, 0.08032520115375519, 0.06718108057975769, 0.10469067096710205, 0.10050304234027863, 0.16750507056713104, 0.0963154211640358, 0.10469067096710205, 0.08794016391038895, 0.1130659282207489, 0.06700202822685242, 0.0795649066567421, 0.0795649066567421, 0.3231663107872009, 0.1277962476015091, 0.1556401252746582, 0.11137550324201584, 0.05997142195701599, 0.08638740330934525, 0.10566393285989761, 0.0778200626373291, 0.08424557000398636, 0.08710135519504547, 0.10352209955453873, 0.11301201581954956, 0.09647367149591446, 0.0826917216181755, 0.10474284738302231, 0.09371728450059891, 0.09923006594181061, 0.09647367149591446, 0.08820450305938721, 0.08544810861349106, 0.1433323174715042, 0.32325008511543274, 0.07363084703683853, 0.12460604310035706, 0.09062258154153824, 0.11327822506427765, 0.06796693056821823, 0.07929475605487823, 0.09628649055957794, 0.10761430859565735, 0.09062258154153824, 0.14726169407367706, 0.6159749627113342, 0.1125098392367363, 0.10401853173971176, 0.09552722424268723, 0.11675549298524857, 0.14010658860206604, 0.11463266611099243, 0.09128157049417496, 0.06368481367826462, 0.06793046742677689, 0.09340439736843109, 0.11717256903648376, 0.11717256903648376, 0.11717256903648376, 0.11717256903648376, 0.11717256903648376, 0.11717256903648376, 0.11717256903648376, 0.23434513807296753, 0.11717256903648376, 0.11717256903648376, 0.32351231575012207, 0.11673501878976822, 0.09198934584856033, 0.12964580953121185, 0.08392010629177094, 0.09037549793720245, 0.12480425834655762, 0.09037549793720245, 0.08499600738286972, 0.10651398450136185, 0.08123035728931427, 0.10569874942302704, 0.09433329850435257, 0.11592766642570496, 0.10115256905555725, 0.07387547194957733, 0.11479111760854721, 0.06705620139837265, 0.13297584652900696, 0.11820075660943985, 0.07501202076673508, 0.4381965100765228, 0.1911495327949524, 0.1911495327949524, 0.08597876131534576, 0.08597876131534576, 0.08597876131534576, 0.08597876131534576, 0.08597876131534576, 0.17195752263069153, 0.08597876131534576, 0.08597876131534576, 0.08597876131534576, 0.17195752263069153, 0.08707358688116074, 0.09981606155633926, 0.11574415862560272, 0.11892978101968765, 0.11149666458368301, 0.09875418990850449, 0.09769231826066971, 0.10831104964017868, 0.05521739646792412, 0.1072491779923439, 0.3241514265537262, 0.09321489930152893, 0.09922876209020615, 0.08920565992593765, 0.10223569720983505, 0.1333073228597641, 0.10023107379674911, 0.09822645038366318, 0.08419410139322281, 0.09922876209020615, 0.10123338550329208, 0.09545978158712387, 0.10023277252912521, 0.13364370167255402, 0.07159484177827835, 0.10818775743246078, 0.10659676045179367, 0.09705077856779099, 0.10023277252912521, 0.09386879205703735, 0.09545978158712387, 0.10158392786979675, 0.11213810741901398, 0.11609592288732529, 0.0791563093662262, 0.08971048146486282, 0.10554174333810806, 0.0778370350599289, 0.09498757123947144, 0.12665009498596191, 0.09630684554576874, 0.11846358329057693, 0.12126193195581436, 0.11100130528211594, 0.11659801006317139, 0.10727017372846603, 0.0746227279305458, 0.08395057171583176, 0.11473244428634644, 0.0746227279305458, 0.07742107659578323, 0.3233433961868286, 0.09463014453649521, 0.09463014453649521, 0.1608712375164032, 0.1277506947517395, 0.08989863097667694, 0.0804356187582016, 0.10172740370035172, 0.07806986570358276, 0.10882466286420822, 0.06387534737586975, 0.11658322811126709, 0.07469704002141953, 0.1389225274324417, 0.09214962273836136, 0.10750789195299149, 0.12356426566839218, 0.08167807012796402, 0.0956401377916336, 0.09005530923604965, 0.08028186857700348, 0.1386130154132843, 0.1386130154132843, 0.1386130154132843, 0.1386130154132843, 0.1386130154132843, 0.1386130154132843, 0.1386130154132843, 0.08381284773349762, 0.07091856747865677, 0.12249570339918137, 0.16762569546699524, 0.09025999158620834, 0.09670713543891907, 0.1031542718410492, 0.09670713543891907, 0.07091856747865677, 0.1031542718410492, 0.10575997084379196, 0.10686163604259491, 0.11567497253417969, 0.10135331004858017, 0.08923497796058655, 0.09694664180278778, 0.09914997220039368, 0.11567497253417969, 0.07270997762680054, 0.09694664180278778, 0.10088565200567245, 0.10088565200567245, 0.09171423316001892, 0.08254280686378479, 0.10088565200567245, 0.11922850459814072, 0.08254280686378479, 0.07337138801813126, 0.15591418743133545, 0.09171423316001892, 0.3226296603679657, 0.3226296603679657, 0.10920758545398712, 0.11563156545162201, 0.09796562790870667, 0.0931476503610611, 0.08029969781637192, 0.1509634256362915, 0.08832966536283493, 0.09957162290811539, 0.08832966536283493, 0.07708770781755447, 0.10886891931295395, 0.10886891931295395, 0.10886891931295395, 0.10886891931295395, 0.10886891931295395, 0.2177378386259079, 0.10886891931295395, 0.10886891931295395, 0.10886891931295395, 0.10886891931295395, 0.3237493932247162, 0.3237493932247162, 0.06891734153032303, 0.10417737811803818, 0.1137937530875206, 0.10898556560277939, 0.1410401463508606, 0.09936919063329697, 0.09616373479366302, 0.08815008401870728, 0.07693098485469818, 0.10257464647293091, 0.08891458809375763, 0.09602776169776917, 0.0924711748957634, 0.0924711748957634, 0.10669750720262527, 0.12448042631149292, 0.07113166898488998, 0.16715942323207855, 0.09602776169776917, 0.06757508963346481, 0.4885059595108032, 0.09770119190216064, 0.06513412296772003, 0.09770119190216064, 0.13026824593544006, 0.06513412296772003, 0.032567061483860016, 0.032567061483860016, 0.3227232098579407, 0.22632721066474915, 0.22632721066474915, 0.22632721066474915, 0.22632721066474915, 0.6191250085830688, 0.6194738149642944], \"Term\": [\"accepting\", \"accepting\", \"accepting\", \"accepting\", \"accepting\", \"accepting\", \"accepting\", \"accepting\", \"accepting\", \"accepts\", \"accounting\", \"accounting\", \"actually\", \"actually\", \"actually\", \"actually\", \"actually\", \"actually\", \"actually\", \"actually\", \"actually\", \"actually\", \"ago\", \"ago\", \"ago\", \"ago\", \"ago\", \"ago\", \"ago\", \"ago\", \"ago\", \"ago\", \"aims\", \"amanda\", \"amanda\", \"amanda\", \"amanda\", \"amanda\", \"amanda\", \"amanda\", \"amanda\", \"amanda\", \"amanda\", \"amazing\", \"amazing\", \"amazing\", \"amazing\", \"amazing\", \"amazing\", \"amazing\", \"amazing\", \"amazing\", \"amazing\", \"ana\", \"angelica\", \"angelica\", \"angelica\", \"anton\", \"anton\", \"anton\", \"anton\", \"anton\", \"anton\", \"anton\", \"approachable\", \"approachable\", \"approachable\", \"approachable\", \"approachable\", \"approachable\", \"approachable\", \"approachable\", \"approachable\", \"approachable\", \"aptive\", \"aptive\", \"aptive\", \"area\", \"area\", \"area\", \"area\", \"area\", \"area\", \"area\", \"area\", \"area\", \"area\", \"aryon\", \"aryon\", \"asked\", \"asked\", \"asked\", \"asked\", \"asked\", \"asked\", \"asked\", \"asked\", \"asked\", \"asked\", \"astors\", \"attentive\", \"attentive\", \"attentive\", \"attentive\", \"attentive\", \"attentive\", \"attentive\", \"attentive\", \"attentive\", \"attentive\", \"aveda\", \"aveda\", \"aveda\", \"aveda\", \"away\", \"away\", \"away\", \"away\", \"away\", \"away\", \"away\", \"away\", \"away\", \"away\", \"aweseome\", \"badder\", \"bap\", \"bap\", \"bap\", \"bap\", \"bap\", \"bar\", \"bar\", \"bar\", \"bar\", \"bar\", \"bar\", \"bar\", \"bar\", \"bar\", \"bar\", \"barhopping\", \"barhopping\", \"basa\", \"basa\", \"basa\", \"basa\", \"baseboards\", \"baseboards\", \"baseboards\", \"baseboards\", \"baseboards\", \"baseboards\", \"baseboards\", \"bb\", \"beaten\", \"beaten\", \"beaten\", \"beaten\", \"beaten\", \"beaten\", \"beaten\", \"beaten\", \"beaten\", \"beause\", \"beause\", \"beautiful\", \"beautiful\", \"beautiful\", \"beautiful\", \"beautiful\", \"beautiful\", \"beautiful\", \"beautiful\", \"beautiful\", \"beautiful\", \"beef\", \"beef\", \"beef\", \"beef\", \"beef\", \"beef\", \"beef\", \"beef\", \"beef\", \"beef\", \"beer\", \"beer\", \"beer\", \"beer\", \"beer\", \"beer\", \"beer\", \"beer\", \"beer\", \"beer\", \"bello\", \"bello\", \"bello\", \"best\", \"best\", \"best\", \"best\", \"best\", \"best\", \"best\", \"best\", \"best\", \"best\", \"better\", \"better\", \"better\", \"better\", \"better\", \"better\", \"better\", \"better\", \"better\", \"better\", \"bi\", \"bi\", \"bi\", \"bi\", \"bi\", \"bi\", \"bi\", \"bi\", \"bi\", \"bi\", \"big\", \"big\", \"big\", \"big\", \"big\", \"big\", \"big\", \"big\", \"big\", \"big\", \"bikini\", \"bikini\", \"bikini\", \"bikini\", \"bikini\", \"bikini\", \"bikini\", \"bikini\", \"bikini\", \"bikini\", \"bim\", \"bim\", \"bim\", \"bim\", \"bit\", \"bit\", \"bit\", \"bit\", \"bit\", \"bit\", \"bit\", \"bit\", \"bit\", \"bit\", \"blowdry\", \"blower\", \"blower\", \"book\", \"book\", \"book\", \"book\", \"book\", \"book\", \"book\", \"book\", \"book\", \"book\", \"booster\", \"booster\", \"bowling\", \"bowling\", \"bowling\", \"bowling\", \"bowling\", \"bowling\", \"bowling\", \"bowling\", \"bowling\", \"bowling\", \"bread\", \"bread\", \"bread\", \"bread\", \"bread\", \"bread\", \"bread\", \"bread\", \"bread\", \"bread\", \"breadsticks\", \"breadsticks\", \"breadsticks\", \"breadsticks\", \"breadsticks\", \"breadsticks\", \"break\", \"break\", \"break\", \"break\", \"break\", \"break\", \"break\", \"break\", \"break\", \"break\", \"breakfast\", \"breakfast\", \"breakfast\", \"breakfast\", \"breakfast\", \"breakfast\", \"breakfast\", \"breakfast\", \"breakfast\", \"breakfast\", \"broth\", \"broth\", \"broth\", \"broth\", \"broth\", \"broth\", \"broth\", \"broth\", \"broth\", \"broth\", \"browbeaten\", \"burger\", \"burger\", \"burger\", \"burger\", \"burger\", \"burger\", \"burger\", \"burger\", \"burger\", \"burger\", \"butmstill\", \"butterflies\", \"butterflies\", \"buzz\", \"buzz\", \"buzz\", \"buzz\", \"buzz\", \"buzz\", \"buzz\", \"buzz\", \"buzz\", \"calabash\", \"calculate\", \"caliente\", \"caliente\", \"caliente\", \"caliente\", \"came\", \"came\", \"came\", \"came\", \"came\", \"came\", \"came\", \"came\", \"came\", \"came\", \"cancel\", \"cancel\", \"cancel\", \"cancel\", \"cancel\", \"cancel\", \"cancel\", \"cancel\", \"cancel\", \"cancel\", \"car\", \"car\", \"car\", \"car\", \"car\", \"car\", \"car\", \"car\", \"car\", \"car\", \"care\", \"care\", \"care\", \"care\", \"care\", \"care\", \"care\", \"care\", \"care\", \"care\", \"cary\", \"cary\", \"cat\", \"cat\", \"cat\", \"cat\", \"cat\", \"cat\", \"cat\", \"cat\", \"cat\", \"cat\", \"ceux\", \"ceux\", \"ceux\", \"ceux\", \"chapli\", \"charge\", \"charge\", \"charge\", \"charge\", \"charge\", \"charge\", \"charge\", \"charge\", \"charge\", \"charge\", \"chauffeured\", \"chauffeured\", \"cheese\", \"cheese\", \"cheese\", \"cheese\", \"cheese\", \"cheese\", \"cheese\", \"cheese\", \"cheese\", \"cheese\", \"cheesetart\", \"cheesetart\", \"cheesetart\", \"cheesetart\", \"cheesetart\", \"cheesetart\", \"cheesetart\", \"cheesetart\", \"cheesetart\", \"chicken\", \"chicken\", \"chicken\", \"chicken\", \"chicken\", \"chicken\", \"chicken\", \"chicken\", \"chicken\", \"chicken\", \"chop\", \"chop\", \"chop\", \"chop\", \"chop\", \"chop\", \"chop\", \"chop\", \"chop\", \"chop\", \"ch\\u00e8re\", \"ch\\u00e8re\", \"clean\", \"clean\", \"clean\", \"clean\", \"clean\", \"clean\", \"clean\", \"clean\", \"clean\", \"clean\", \"clinical\", \"coffee\", \"coffee\", \"coffee\", \"coffee\", \"coffee\", \"coffee\", \"coffee\", \"coffee\", \"coffee\", \"coffee\", \"coffeeshop\", \"coffeeshop\", \"cola\", \"cola\", \"cola\", \"cola\", \"cola\", \"cola\", \"cola\", \"cola\", \"cola\", \"cola\", \"college\", \"college\", \"college\", \"college\", \"college\", \"college\", \"college\", \"college\", \"college\", \"college\", \"come\", \"come\", \"come\", \"come\", \"come\", \"come\", \"come\", \"come\", \"come\", \"come\", \"coming\", \"coming\", \"coming\", \"coming\", \"coming\", \"coming\", \"coming\", \"coming\", \"coming\", \"coming\", \"complexly\", \"conchas\", \"condensation\", \"condensation\", \"cooked\", \"cooked\", \"cooked\", \"cooked\", \"cooked\", \"cooked\", \"cooked\", \"cooked\", \"cooked\", \"cooked\", \"cool\", \"cool\", \"cool\", \"cool\", \"cool\", \"cool\", \"cool\", \"cool\", \"cool\", \"cool\", \"cos\", \"cosmetically\", \"cranny\", \"cranny\", \"cream\", \"cream\", \"cream\", \"cream\", \"cream\", \"cream\", \"cream\", \"cream\", \"cream\", \"cream\", \"customer\", \"customer\", \"customer\", \"customer\", \"customer\", \"customer\", \"customer\", \"customer\", \"customer\", \"customer\", \"customers\", \"customers\", \"customers\", \"customers\", \"customers\", \"customers\", \"customers\", \"customers\", \"customers\", \"customers\", \"cwru\", \"daaayyuuummm\", \"daaayyuuummm\", \"daaayyuuummm\", \"dahl\", \"damp\", \"dances\", \"dances\", \"dances\", \"dances\", \"dances\", \"dances\", \"dances\", \"dances\", \"dances\", \"dane\", \"dane\", \"dane\", \"dane\", \"darlene\", \"day\", \"day\", \"day\", \"day\", \"day\", \"day\", \"day\", \"day\", \"day\", \"day\", \"definitely\", \"definitely\", \"definitely\", \"definitely\", \"definitely\", \"definitely\", \"definitely\", \"definitely\", \"definitely\", \"definitely\", \"delicious\", \"delicious\", \"delicious\", \"delicious\", \"delicious\", \"delicious\", \"delicious\", \"delicious\", \"delicious\", \"delicious\", \"delivary\", \"delivary\", \"demonic\", \"demonic\", \"demonic\", \"dentures\", \"dentures\", \"dentures\", \"dentures\", \"dentures\", \"dentures\", \"dentures\", \"dentures\", \"dentures\", \"desserts\", \"desserts\", \"desserts\", \"desserts\", \"desserts\", \"desserts\", \"desserts\", \"desserts\", \"desserts\", \"desserts\", \"devin\", \"devin\", \"devin\", \"didn\", \"didn\", \"didn\", \"didn\", \"didn\", \"didn\", \"didn\", \"didn\", \"didn\", \"didn\", \"diesel\", \"diesel\", \"diesel\", \"dillion\", \"dillion\", \"dinned\", \"discontinue\", \"discontinue\", \"dishes\", \"dishes\", \"dishes\", \"dishes\", \"dishes\", \"dishes\", \"dishes\", \"dishes\", \"dishes\", \"dishes\", \"doesn\", \"doesn\", \"doesn\", \"doesn\", \"doesn\", \"doesn\", \"doesn\", \"doesn\", \"doesn\", \"doesn\", \"don\", \"don\", \"don\", \"don\", \"don\", \"don\", \"don\", \"don\", \"don\", \"don\", \"donair\", \"donair\", \"donair\", \"donair\", \"donair\", \"donovan\", \"donovan\", \"donovan\", \"donovan\", \"donovan\", \"donovan\", \"donovan\", \"donuts\", \"donuts\", \"donuts\", \"donuts\", \"donuts\", \"donuts\", \"donuts\", \"donuts\", \"donuts\", \"donuts\", \"door\", \"door\", \"door\", \"door\", \"door\", \"door\", \"door\", \"door\", \"door\", \"door\", \"drinks\", \"drinks\", \"drinks\", \"drinks\", \"drinks\", \"drinks\", \"drinks\", \"drinks\", \"drinks\", \"drinks\", \"drools\", \"early\", \"early\", \"early\", \"early\", \"early\", \"early\", \"early\", \"early\", \"early\", \"early\", \"easily\", \"easily\", \"easily\", \"easily\", \"easily\", \"easily\", \"easily\", \"easily\", \"easily\", \"easily\", \"eat\", \"eat\", \"eat\", \"eat\", \"eat\", \"eat\", \"eat\", \"eat\", \"eat\", \"eat\", \"elva\", \"email\", \"email\", \"email\", \"email\", \"email\", \"email\", \"email\", \"email\", \"email\", \"email\", \"environmental\", \"environmental\", \"environmental\", \"erik\", \"erika\", \"erika\", \"ernie\", \"ernie\", \"especially\", \"especially\", \"especially\", \"especially\", \"especially\", \"especially\", \"especially\", \"especially\", \"especially\", \"especially\", \"estrada\", \"estrada\", \"estrada\", \"estrada\", \"estrada\", \"ev\", \"everrr\", \"everrrrr\", \"exams\", \"exams\", \"excellent\", \"excellent\", \"excellent\", \"excellent\", \"excellent\", \"excellent\", \"excellent\", \"excellent\", \"excellent\", \"excellent\", \"experience\", \"experience\", \"experience\", \"experience\", \"experience\", \"experience\", \"experience\", \"experience\", \"experience\", \"experience\", \"extremely\", \"extremely\", \"extremely\", \"extremely\", \"extremely\", \"extremely\", \"extremely\", \"extremely\", \"extremely\", \"extremely\", \"fabulously\", \"fabulously\", \"fabulously\", \"fabulously\", \"favorite\", \"favorite\", \"favorite\", \"favorite\", \"favorite\", \"favorite\", \"favorite\", \"favorite\", \"favorite\", \"favorite\", \"feel\", \"feel\", \"feel\", \"feel\", \"feel\", \"feel\", \"feel\", \"feel\", \"feel\", \"feel\", \"felt\", \"felt\", \"felt\", \"felt\", \"felt\", \"felt\", \"felt\", \"felt\", \"felt\", \"felt\", \"feta\", \"feta\", \"feta\", \"feta\", \"feta\", \"feta\", \"feta\", \"feta\", \"feta\", \"feta\", \"filipino\", \"filipino\", \"filipino\", \"filipino\", \"filipino\", \"filipino\", \"filipino\", \"filipino\", \"filipino\", \"filipino\", \"find\", \"find\", \"find\", \"find\", \"find\", \"find\", \"find\", \"find\", \"find\", \"find\", \"fingernail\", \"fingernail\", \"fingernail\", \"fish\", \"fish\", \"fish\", \"fish\", \"fish\", \"fish\", \"fish\", \"fish\", \"fish\", \"fish\", \"fix\", \"fix\", \"fix\", \"fix\", \"fix\", \"fix\", \"fix\", \"fix\", \"fix\", \"fix\", \"fixed\", \"fixed\", \"fixed\", \"fixed\", \"fixed\", \"fixed\", \"fixed\", \"fixed\", \"fixed\", \"fixed\", \"food\", \"food\", \"food\", \"food\", \"food\", \"food\", \"food\", \"food\", \"food\", \"food\", \"forgetful\", \"forgetful\", \"free\", \"free\", \"free\", \"free\", \"free\", \"free\", \"free\", \"free\", \"free\", \"free\", \"fresh\", \"fresh\", \"fresh\", \"fresh\", \"fresh\", \"fresh\", \"fresh\", \"fresh\", \"fresh\", \"fresh\", \"fridendly\", \"fried\", \"fried\", \"fried\", \"fried\", \"fried\", \"fried\", \"fried\", \"fried\", \"fried\", \"fried\", \"friend\", \"friend\", \"friend\", \"friend\", \"friend\", \"friend\", \"friend\", \"friend\", \"friend\", \"friend\", \"friendly\", \"friendly\", \"friendly\", \"friendly\", \"friendly\", \"friendly\", \"friendly\", \"friendly\", \"friendly\", \"friendly\", \"friends\", \"friends\", \"friends\", \"friends\", \"friends\", \"friends\", \"friends\", \"friends\", \"friends\", \"friends\", \"fries\", \"fries\", \"fries\", \"fries\", \"fries\", \"fries\", \"fries\", \"fries\", \"fries\", \"fries\", \"frys\", \"frys\", \"frys\", \"frys\", \"frys\", \"frys\", \"frys\", \"fungus\", \"fungus\", \"fungus\", \"fungus\", \"future\", \"future\", \"future\", \"future\", \"future\", \"future\", \"future\", \"future\", \"future\", \"future\", \"garments\", \"garments\", \"garments\", \"gastropub\", \"gave\", \"gave\", \"gave\", \"gave\", \"gave\", \"gave\", \"gave\", \"gave\", \"gave\", \"gave\", \"ghetto\", \"ghetto\", \"ghetto\", \"ghetto\", \"ghetto\", \"ghetto\", \"ghetto\", \"ghetto\", \"goddess\", \"goddess\", \"goddess\", \"goddess\", \"goddess\", \"goddess\", \"going\", \"going\", \"going\", \"going\", \"going\", \"going\", \"going\", \"going\", \"going\", \"going\", \"golfweek\", \"good\", \"good\", \"good\", \"good\", \"good\", \"good\", \"good\", \"good\", \"good\", \"good\", \"got\", \"got\", \"got\", \"got\", \"got\", \"got\", \"got\", \"got\", \"got\", \"got\", \"gowns\", \"gowns\", \"great\", \"great\", \"great\", \"great\", \"great\", \"great\", \"great\", \"great\", \"great\", \"great\", \"greatest\", \"greatest\", \"greatest\", \"greatest\", \"greatest\", \"greatest\", \"greatest\", \"greatest\", \"greatest\", \"greatest\", \"greulich\", \"grill\", \"grill\", \"grill\", \"grill\", \"grill\", \"grill\", \"grill\", \"grill\", \"grill\", \"grill\", \"grossman\", \"growers\", \"gustav\", \"gym\", \"gym\", \"gym\", \"gym\", \"gym\", \"gym\", \"gym\", \"gym\", \"gym\", \"gym\", \"gyros\", \"gyros\", \"gyros\", \"gyros\", \"gyros\", \"gyros\", \"gyros\", \"gyros\", \"gyros\", \"gyros\", \"hair\", \"hair\", \"hair\", \"hair\", \"hair\", \"hair\", \"hair\", \"hair\", \"hair\", \"hair\", \"hairstylist\", \"happy\", \"happy\", \"happy\", \"happy\", \"happy\", \"happy\", \"happy\", \"happy\", \"happy\", \"happy\", \"hard\", \"hard\", \"hard\", \"hard\", \"hard\", \"hard\", \"hard\", \"hard\", \"hard\", \"hard\", \"harlow\", \"harlow\", \"harlow\", \"heal\", \"heal\", \"heal\", \"high\", \"high\", \"high\", \"high\", \"high\", \"high\", \"high\", \"high\", \"high\", \"high\", \"hog\", \"hog\", \"horton\", \"horton\", \"horton\", \"horton\", \"horton\", \"horton\", \"horton\", \"horton\", \"horton\", \"hot\", \"hot\", \"hot\", \"hot\", \"hot\", \"hot\", \"hot\", \"hot\", \"hot\", \"hot\", \"hours\", \"hours\", \"hours\", \"hours\", \"hours\", \"hours\", \"hours\", \"hours\", \"hours\", \"hours\", \"house\", \"house\", \"house\", \"house\", \"house\", \"house\", \"house\", \"house\", \"house\", \"house\", \"ignoring\", \"ignoring\", \"ignoring\", \"ignoring\", \"ignoring\", \"ignoring\", \"ignoring\", \"ignoring\", \"ignoring\", \"ignoring\", \"imcomplete\", \"infiniti\", \"infiniti\", \"infiniti\", \"infiniti\", \"infiniti\", \"infiniti\", \"infiniti\", \"infiniti\", \"infiniti\", \"ingridients\", \"ins\", \"ins\", \"ins\", \"ins\", \"ins\", \"ins\", \"ins\", \"ins\", \"ins\", \"ins\", \"inside\", \"inside\", \"inside\", \"inside\", \"inside\", \"inside\", \"inside\", \"inside\", \"inside\", \"inside\", \"inspections\", \"inspections\", \"inspections\", \"inspections\", \"inspiring\", \"inspiring\", \"intelligent\", \"intelligent\", \"intelligent\", \"intelligent\", \"intelligent\", \"intelligent\", \"intelligently\", \"intelligently\", \"ishpm\", \"ishpm\", \"janet\", \"janet\", \"jdt\", \"jdt\", \"jdt\", \"jdt\", \"jennifer\", \"jennifer\", \"jennifer\", \"jennifer\", \"jennifer\", \"jennifer\", \"jennifer\", \"jennifer\", \"jennifer\", \"jennifer\", \"jina\", \"jina\", \"job\", \"job\", \"job\", \"job\", \"job\", \"job\", \"job\", \"job\", \"job\", \"job\", \"julio\", \"kabab\", \"kabab\", \"kabab\", \"kabab\", \"kabab\", \"kabab\", \"kabab\", \"kang\", \"kang\", \"keen\", \"kendel\", \"klavon\", \"know\", \"know\", \"know\", \"know\", \"know\", \"know\", \"know\", \"know\", \"know\", \"know\", \"krung\", \"krung\", \"labove\", \"leave\", \"leave\", \"leave\", \"leave\", \"leave\", \"leave\", \"leave\", \"leave\", \"leave\", \"leave\", \"lees\", \"lees\", \"lees\", \"lees\", \"lees\", \"lees\", \"lees\", \"lees\", \"lees\", \"lees\", \"left\", \"left\", \"left\", \"left\", \"left\", \"left\", \"left\", \"left\", \"left\", \"left\", \"let\", \"let\", \"let\", \"let\", \"let\", \"let\", \"let\", \"let\", \"let\", \"let\", \"like\", \"like\", \"like\", \"like\", \"like\", \"like\", \"like\", \"like\", \"like\", \"like\", \"linda\", \"linda\", \"linda\", \"linda\", \"linda\", \"lines\", \"lines\", \"lines\", \"lines\", \"lines\", \"lines\", \"lines\", \"lines\", \"lines\", \"lines\", \"lining\", \"lining\", \"lining\", \"lining\", \"little\", \"little\", \"little\", \"little\", \"little\", \"little\", \"little\", \"little\", \"little\", \"little\", \"ll\", \"ll\", \"ll\", \"ll\", \"ll\", \"ll\", \"ll\", \"ll\", \"ll\", \"ll\", \"local\", \"local\", \"local\", \"local\", \"local\", \"local\", \"local\", \"local\", \"local\", \"local\", \"locatoon\", \"long\", \"long\", \"long\", \"long\", \"long\", \"long\", \"long\", \"long\", \"long\", \"long\", \"look\", \"look\", \"look\", \"look\", \"look\", \"look\", \"look\", \"look\", \"look\", \"look\", \"looking\", \"looking\", \"looking\", \"looking\", \"looking\", \"looking\", \"looking\", \"looking\", \"looking\", \"looking\", \"losses\", \"losses\", \"lot\", \"lot\", \"lot\", \"lot\", \"lot\", \"lot\", \"lot\", \"lot\", \"lot\", \"lot\", \"love\", \"love\", \"love\", \"love\", \"love\", \"love\", \"love\", \"love\", \"love\", \"love\", \"loved\", \"loved\", \"loved\", \"loved\", \"loved\", \"loved\", \"loved\", \"loved\", \"loved\", \"loved\", \"luis\", \"lunch\", \"lunch\", \"lunch\", \"lunch\", \"lunch\", \"lunch\", \"lunch\", \"lunch\", \"lunch\", \"lunch\", \"manager\", \"manager\", \"manager\", \"manager\", \"manager\", \"manager\", \"manager\", \"manager\", \"manager\", \"manager\", \"manicure\", \"manicure\", \"manicure\", \"manicure\", \"manicure\", \"manicure\", \"manicure\", \"manicure\", \"manicure\", \"manicure\", \"margaritas\", \"margaritas\", \"margaritas\", \"margaritas\", \"margaritas\", \"margaritas\", \"margaritas\", \"margaritas\", \"margaritas\", \"margaritas\", \"martial\", \"martial\", \"martial\", \"martial\", \"martial\", \"martial\", \"martial\", \"martial\", \"matthew\", \"matthew\", \"matthew\", \"mcqueen\", \"mcqueen\", \"meal\", \"meal\", \"meal\", \"meal\", \"meal\", \"meal\", \"meal\", \"meal\", \"meal\", \"meal\", \"medallions\", \"medallions\", \"medallions\", \"meesed\", \"meilleurs\", \"meilleurs\", \"melinda\", \"membership\", \"membership\", \"membership\", \"membership\", \"membership\", \"membership\", \"membership\", \"membership\", \"membership\", \"membership\", \"menu\", \"menu\", \"menu\", \"menu\", \"menu\", \"menu\", \"menu\", \"menu\", \"menu\", \"menu\", \"merest\", \"merest\", \"minutes\", \"minutes\", \"minutes\", \"minutes\", \"minutes\", \"minutes\", \"minutes\", \"minutes\", \"minutes\", \"minutes\", \"miss\", \"miss\", \"miss\", \"miss\", \"miss\", \"miss\", \"miss\", \"miss\", \"miss\", \"miss\", \"momma\", \"momma\", \"momma\", \"money\", \"money\", \"money\", \"money\", \"money\", \"money\", \"money\", \"money\", \"money\", \"money\", \"muffler\", \"nadine\", \"nails\", \"nails\", \"nails\", \"nails\", \"nails\", \"nails\", \"nails\", \"nails\", \"nails\", \"nails\", \"need\", \"need\", \"need\", \"need\", \"need\", \"need\", \"need\", \"need\", \"need\", \"need\", \"neighbor\", \"neighbor\", \"neighbor\", \"neighbor\", \"neighbor\", \"neighbor\", \"neighbor\", \"neighbor\", \"neighbor\", \"neighbor\", \"neighborhood\", \"neighborhood\", \"neighborhood\", \"neighborhood\", \"neighborhood\", \"neighborhood\", \"neighborhood\", \"neighborhood\", \"neighborhood\", \"neighborhood\", \"new\", \"new\", \"new\", \"new\", \"new\", \"new\", \"new\", \"new\", \"new\", \"new\", \"nice\", \"nice\", \"nice\", \"nice\", \"nice\", \"nice\", \"nice\", \"nice\", \"nice\", \"nice\", \"night\", \"night\", \"night\", \"night\", \"night\", \"night\", \"night\", \"night\", \"night\", \"night\", \"noel\", \"occur\", \"occur\", \"occur\", \"occur\", \"occur\", \"occur\", \"office\", \"office\", \"office\", \"office\", \"office\", \"office\", \"office\", \"office\", \"office\", \"office\", \"oh\", \"oh\", \"oh\", \"oh\", \"oh\", \"oh\", \"oh\", \"oh\", \"oh\", \"oh\", \"ones\", \"ones\", \"ones\", \"ones\", \"ones\", \"ones\", \"ones\", \"ones\", \"ones\", \"ones\", \"open\", \"open\", \"open\", \"open\", \"open\", \"open\", \"open\", \"open\", \"open\", \"open\", \"openers\", \"operative\", \"operative\", \"operative\", \"order\", \"order\", \"order\", \"order\", \"order\", \"order\", \"order\", \"order\", \"order\", \"order\", \"ordered\", \"ordered\", \"ordered\", \"ordered\", \"ordered\", \"ordered\", \"ordered\", \"ordered\", \"ordered\", \"ordered\", \"ordering\", \"ordering\", \"ordering\", \"ordering\", \"ordering\", \"ordering\", \"ordering\", \"ordering\", \"ordering\", \"ordering\", \"outfit\", \"outfit\", \"outfit\", \"outfit\", \"outfit\", \"patio\", \"patio\", \"patio\", \"patio\", \"patio\", \"patio\", \"patio\", \"patio\", \"patio\", \"patio\", \"pavers\", \"pavers\", \"pavers\", \"pavers\", \"pavers\", \"pediatric\", \"pediatric\", \"pediatric\", \"pennies\", \"people\", \"people\", \"people\", \"people\", \"people\", \"people\", \"people\", \"people\", \"people\", \"people\", \"pepper\", \"pepper\", \"pepper\", \"pepper\", \"pepper\", \"pepper\", \"pepper\", \"pepper\", \"pepper\", \"pepper\", \"perfect\", \"perfect\", \"perfect\", \"perfect\", \"perfect\", \"perfect\", \"perfect\", \"perfect\", \"perfect\", \"perfect\", \"perfection\", \"perfection\", \"perfection\", \"perfection\", \"perfection\", \"perfection\", \"perfection\", \"perfection\", \"perfection\", \"perfection\", \"perfectly\", \"perfectly\", \"perfectly\", \"perfectly\", \"perfectly\", \"perfectly\", \"perfectly\", \"perfectly\", \"perfectly\", \"perfectly\", \"personable\", \"personable\", \"personable\", \"personable\", \"personable\", \"personable\", \"personable\", \"personable\", \"personable\", \"personable\", \"phone\", \"phone\", \"phone\", \"phone\", \"phone\", \"phone\", \"phone\", \"phone\", \"phone\", \"phone\", \"photographers\", \"photographers\", \"photographers\", \"photographers\", \"photographers\", \"photographers\", \"picante\", \"pierogies\", \"pierogies\", \"pierogies\", \"pimpin\", \"piri\", \"pittsburg\", \"pittsburg\", \"pittsburg\", \"pizza\", \"pizza\", \"pizza\", \"pizza\", \"pizza\", \"pizza\", \"pizza\", \"pizza\", \"pizza\", \"pizza\", \"place\", \"place\", \"place\", \"place\", \"place\", \"place\", \"place\", \"place\", \"place\", \"place\", \"poke\", \"poke\", \"poke\", \"poke\", \"poke\", \"poke\", \"poke\", \"poke\", \"poke\", \"poke\", \"poor\", \"poor\", \"poor\", \"poor\", \"poor\", \"poor\", \"poor\", \"poor\", \"poor\", \"poor\", \"posoleshawwty\", \"posoleshawwty\", \"pototes\", \"pottery\", \"ppl\", \"ppl\", \"ppl\", \"ppl\", \"ppl\", \"ppl\", \"ppl\", \"ppl\", \"ppl\", \"ppl\", \"pretty\", \"pretty\", \"pretty\", \"pretty\", \"pretty\", \"pretty\", \"pretty\", \"pretty\", \"pretty\", \"pretty\", \"price\", \"price\", \"price\", \"price\", \"price\", \"price\", \"price\", \"price\", \"price\", \"price\", \"prices\", \"prices\", \"prices\", \"prices\", \"prices\", \"prices\", \"prices\", \"prices\", \"prices\", \"prices\", \"prima\", \"prima\", \"professional\", \"professional\", \"professional\", \"professional\", \"professional\", \"professional\", \"professional\", \"professional\", \"professional\", \"professional\", \"propre\", \"propre\", \"puzzlemaster\", \"quality\", \"quality\", \"quality\", \"quality\", \"quality\", \"quality\", \"quality\", \"quality\", \"quality\", \"quality\", \"quickly\", \"quickly\", \"quickly\", \"quickly\", \"quickly\", \"quickly\", \"quickly\", \"quickly\", \"quickly\", \"quickly\", \"raise\", \"raise\", \"raise\", \"raise\", \"raise\", \"raise\", \"raise\", \"raise\", \"raise\", \"raise\", \"ready\", \"ready\", \"ready\", \"ready\", \"ready\", \"ready\", \"ready\", \"ready\", \"ready\", \"ready\", \"reared\", \"recommend\", \"recommend\", \"recommend\", \"recommend\", \"recommend\", \"recommend\", \"recommend\", \"recommend\", \"recommend\", \"recommend\", \"reef\", \"reef\", \"reef\", \"reef\", \"reef\", \"reflexology\", \"reflexology\", \"reflexology\", \"reflexology\", \"reflexology\", \"reflexology\", \"reflexology\", \"reflexology\", \"reflexology\", \"reflexology\", \"restaurant\", \"restaurant\", \"restaurant\", \"restaurant\", \"restaurant\", \"restaurant\", \"restaurant\", \"restaurant\", \"restaurant\", \"restaurant\", \"rice\", \"rice\", \"rice\", \"rice\", \"rice\", \"rice\", \"rice\", \"rice\", \"rice\", \"rice\", \"richardson\", \"richardson\", \"richardson\", \"ricketts\", \"ricketts\", \"ridgeville\", \"right\", \"right\", \"right\", \"right\", \"right\", \"right\", \"right\", \"right\", \"right\", \"right\", \"roll\", \"roll\", \"roll\", \"roll\", \"roll\", \"roll\", \"roll\", \"roll\", \"roll\", \"roll\", \"romper\", \"romper\", \"room\", \"room\", \"room\", \"room\", \"room\", \"room\", \"room\", \"room\", \"room\", \"room\", \"roomtastic\", \"roomtastic\", \"rows\", \"rows\", \"rows\", \"rows\", \"rows\", \"rows\", \"rows\", \"rows\", \"rows\", \"rows\", \"said\", \"said\", \"said\", \"said\", \"said\", \"said\", \"said\", \"said\", \"said\", \"said\", \"salad\", \"salad\", \"salad\", \"salad\", \"salad\", \"salad\", \"salad\", \"salad\", \"salad\", \"salad\", \"samantha\", \"samantha\", \"samantha\", \"samantha\", \"samantha\", \"sandbar\", \"sandbar\", \"sauce\", \"sauce\", \"sauce\", \"sauce\", \"sauce\", \"sauce\", \"sauce\", \"sauce\", \"sauce\", \"sauce\", \"screwed\", \"screwed\", \"screwed\", \"screwed\", \"screwed\", \"screwed\", \"screwed\", \"screwed\", \"screwed\", \"screwed\", \"separately\", \"separately\", \"separately\", \"separately\", \"separately\", \"separately\", \"separately\", \"separately\", \"separately\", \"separately\", \"server\", \"server\", \"server\", \"server\", \"server\", \"server\", \"server\", \"server\", \"server\", \"server\", \"service\", \"service\", \"service\", \"service\", \"service\", \"service\", \"service\", \"service\", \"service\", \"service\", \"shawn\", \"shawn\", \"shawn\", \"shawn\", \"shawn\", \"shawn\", \"shawn\", \"shelepak\", \"shimp\", \"shimp\", \"shipper\", \"shitty\", \"shitty\", \"shitty\", \"shitty\", \"shitty\", \"shitty\", \"shitty\", \"shitty\", \"shitty\", \"shitty\", \"singapore\", \"singapore\", \"singapore\", \"singapore\", \"singapore\", \"singapore\", \"slymans\", \"slymans\", \"slymans\", \"smog\", \"smog\", \"smog\", \"smog\", \"smog\", \"smog\", \"smog\", \"smog\", \"smog\", \"smog\", \"smokies\", \"solving\", \"solving\", \"solving\", \"solving\", \"sono\", \"sono\", \"sono\", \"speakeasy\", \"speakeasy\", \"speakeasy\", \"speakeasy\", \"speakeasy\", \"speakeasy\", \"speakeasy\", \"speakeasy\", \"speakeasy\", \"speakeasy\", \"special\", \"special\", \"special\", \"special\", \"special\", \"special\", \"special\", \"special\", \"special\", \"special\", \"spicy\", \"spicy\", \"spicy\", \"spicy\", \"spicy\", \"spicy\", \"spicy\", \"spicy\", \"spicy\", \"spicy\", \"spineless\", \"splits\", \"splits\", \"squished\", \"squishies\", \"squishies\", \"squishies\", \"squishies\", \"stadium\", \"stadium\", \"stadium\", \"stadium\", \"stadium\", \"stadium\", \"stadium\", \"stadium\", \"stadium\", \"stadium\", \"staff\", \"staff\", \"staff\", \"staff\", \"staff\", \"staff\", \"staff\", \"staff\", \"staff\", \"staff\", \"star\", \"star\", \"star\", \"star\", \"star\", \"star\", \"star\", \"star\", \"star\", \"star\", \"stars\", \"stars\", \"stars\", \"stars\", \"stars\", \"stars\", \"stars\", \"stars\", \"stars\", \"stars\", \"started\", \"started\", \"started\", \"started\", \"started\", \"started\", \"started\", \"started\", \"started\", \"started\", \"state\", \"state\", \"state\", \"state\", \"state\", \"state\", \"state\", \"state\", \"state\", \"state\", \"store\", \"store\", \"store\", \"store\", \"store\", \"store\", \"store\", \"store\", \"store\", \"store\", \"stretch\", \"stretch\", \"stretch\", \"stretch\", \"stretch\", \"stretch\", \"stretch\", \"stretch\", \"stretch\", \"stretch\", \"strip\", \"strip\", \"strip\", \"strip\", \"strip\", \"strip\", \"strip\", \"strip\", \"strip\", \"strip\", \"stubborn\", \"stubborn\", \"stubborn\", \"stubborn\", \"stubborn\", \"stubborn\", \"style\", \"style\", \"style\", \"style\", \"style\", \"style\", \"style\", \"style\", \"style\", \"style\", \"styled\", \"styled\", \"styled\", \"styled\", \"styled\", \"styled\", \"styled\", \"styled\", \"styled\", \"styled\", \"suffers\", \"suitemates\", \"super\", \"super\", \"super\", \"super\", \"super\", \"super\", \"super\", \"super\", \"super\", \"super\", \"sure\", \"sure\", \"sure\", \"sure\", \"sure\", \"sure\", \"sure\", \"sure\", \"sure\", \"sure\", \"sushi\", \"sushi\", \"sushi\", \"sushi\", \"sushi\", \"sushi\", \"sushi\", \"sushi\", \"sushi\", \"sushi\", \"suxs\", \"suxs\", \"sw\", \"sw\", \"sw\", \"sw\", \"sw\", \"sweet\", \"sweet\", \"sweet\", \"sweet\", \"sweet\", \"sweet\", \"sweet\", \"sweet\", \"sweet\", \"sweet\", \"table\", \"table\", \"table\", \"table\", \"table\", \"table\", \"table\", \"table\", \"table\", \"table\", \"tacos\", \"tacos\", \"tacos\", \"tacos\", \"tacos\", \"tacos\", \"tacos\", \"tacos\", \"tacos\", \"tacos\", \"taffy\", \"taffy\", \"taffy\", \"taffy\", \"taffy\", \"taffy\", \"taffy\", \"tahey\", \"talia\", \"talia\", \"talks\", \"talks\", \"talks\", \"talks\", \"talks\", \"tans\", \"taste\", \"taste\", \"taste\", \"taste\", \"taste\", \"taste\", \"taste\", \"taste\", \"taste\", \"taste\", \"tasted\", \"tasted\", \"tasted\", \"tasted\", \"tasted\", \"tasted\", \"tasted\", \"tasted\", \"tasted\", \"tasted\", \"tastey\", \"tastey\", \"tastey\", \"tastey\", \"tastey\", \"tasty\", \"tasty\", \"tasty\", \"tasty\", \"tasty\", \"tasty\", \"tasty\", \"tasty\", \"tasty\", \"tasty\", \"tea\", \"tea\", \"tea\", \"tea\", \"tea\", \"tea\", \"tea\", \"tea\", \"tea\", \"tea\", \"tentative\", \"tentative\", \"thank\", \"thank\", \"thank\", \"thank\", \"thank\", \"thank\", \"thank\", \"thank\", \"thank\", \"thank\", \"thin\", \"thin\", \"thin\", \"thin\", \"thin\", \"thin\", \"thin\", \"thin\", \"thin\", \"thin\", \"think\", \"think\", \"think\", \"think\", \"think\", \"think\", \"think\", \"think\", \"think\", \"think\", \"thought\", \"thought\", \"thought\", \"thought\", \"thought\", \"thought\", \"thought\", \"thought\", \"thought\", \"thought\", \"tikki\", \"tilapia\", \"tilapia\", \"tilapia\", \"tilapia\", \"tilapia\", \"tilapia\", \"tilapia\", \"tilapia\", \"tilapia\", \"tilapia\", \"time\", \"time\", \"time\", \"time\", \"time\", \"time\", \"time\", \"time\", \"time\", \"time\", \"times\", \"times\", \"times\", \"times\", \"times\", \"times\", \"times\", \"times\", \"times\", \"times\", \"tiniest\", \"tisk\", \"tisk\", \"tisk\", \"tisk\", \"today\", \"today\", \"today\", \"today\", \"today\", \"today\", \"today\", \"today\", \"today\", \"today\", \"told\", \"told\", \"told\", \"told\", \"told\", \"told\", \"told\", \"told\", \"told\", \"told\", \"tonight\", \"tonight\", \"tonight\", \"tonight\", \"tonight\", \"tonight\", \"tonight\", \"tonight\", \"tonight\", \"tonight\", \"tonite\", \"took\", \"took\", \"took\", \"took\", \"took\", \"took\", \"took\", \"took\", \"took\", \"took\", \"topper\", \"topper\", \"torture\", \"town\", \"town\", \"town\", \"town\", \"town\", \"town\", \"town\", \"town\", \"town\", \"town\", \"tried\", \"tried\", \"tried\", \"tried\", \"tried\", \"tried\", \"tried\", \"tried\", \"tried\", \"tried\", \"trip\", \"trip\", \"trip\", \"trip\", \"trip\", \"trip\", \"trip\", \"trip\", \"trip\", \"trip\", \"truvyjones\", \"try\", \"try\", \"try\", \"try\", \"try\", \"try\", \"try\", \"try\", \"try\", \"try\", \"trying\", \"trying\", \"trying\", \"trying\", \"trying\", \"trying\", \"trying\", \"trying\", \"trying\", \"trying\", \"tsoynami\", \"unique\", \"unique\", \"unique\", \"unique\", \"unique\", \"unique\", \"unique\", \"unique\", \"unique\", \"unique\", \"unite\", \"use\", \"use\", \"use\", \"use\", \"use\", \"use\", \"use\", \"use\", \"use\", \"use\", \"userid\", \"userid\", \"userid\", \"userid\", \"userid\", \"userid\", \"userid\", \"userid\", \"userid\", \"userid\", \"vadai\", \"ve\", \"ve\", \"ve\", \"ve\", \"ve\", \"ve\", \"ve\", \"ve\", \"ve\", \"ve\", \"vegas\", \"vegas\", \"vegas\", \"vegas\", \"vegas\", \"vegas\", \"vegas\", \"vegas\", \"vegas\", \"vegas\", \"veranda\", \"victorian\", \"victorian\", \"vinny\", \"vinny\", \"vinny\", \"vinny\", \"vinny\", \"vinny\", \"vinny\", \"vinny\", \"vinny\", \"vinny\", \"wait\", \"wait\", \"wait\", \"wait\", \"wait\", \"wait\", \"wait\", \"wait\", \"wait\", \"wait\", \"walkthrough\", \"want\", \"want\", \"want\", \"want\", \"want\", \"want\", \"want\", \"want\", \"want\", \"want\", \"wanted\", \"wanted\", \"wanted\", \"wanted\", \"wanted\", \"wanted\", \"wanted\", \"wanted\", \"wanted\", \"wanted\", \"wasn\", \"wasn\", \"wasn\", \"wasn\", \"wasn\", \"wasn\", \"wasn\", \"wasn\", \"wasn\", \"wasn\", \"way\", \"way\", \"way\", \"way\", \"way\", \"way\", \"way\", \"way\", \"way\", \"way\", \"weapons\", \"week\", \"week\", \"week\", \"week\", \"week\", \"week\", \"week\", \"week\", \"week\", \"week\", \"went\", \"went\", \"went\", \"went\", \"went\", \"went\", \"went\", \"went\", \"went\", \"went\", \"wheelchair\", \"wheelchair\", \"wheelchair\", \"wheelchair\", \"wheelchair\", \"wheelchair\", \"wheelchair\", \"window\", \"window\", \"window\", \"window\", \"window\", \"window\", \"window\", \"window\", \"window\", \"window\", \"work\", \"work\", \"work\", \"work\", \"work\", \"work\", \"work\", \"work\", \"work\", \"work\", \"works\", \"works\", \"works\", \"works\", \"works\", \"works\", \"works\", \"works\", \"works\", \"works\", \"worsed\", \"worsed\", \"worth\", \"worth\", \"worth\", \"worth\", \"worth\", \"worth\", \"worth\", \"worth\", \"worth\", \"worth\", \"worthwhile\", \"worthwhile\", \"worthwhile\", \"worthwhile\", \"worthwhile\", \"worthwhile\", \"worthwhile\", \"worthwhile\", \"worthwhile\", \"worthwhile\", \"yeahhhhhhh\", \"yeahhhhhhh\", \"years\", \"years\", \"years\", \"years\", \"years\", \"years\", \"years\", \"years\", \"years\", \"years\", \"yelp\", \"yelp\", \"yelp\", \"yelp\", \"yelp\", \"yelp\", \"yelp\", \"yelp\", \"yelp\", \"yelp\", \"yuk\", \"yuk\", \"yuk\", \"yuk\", \"yuk\", \"yuk\", \"yuk\", \"yuk\", \"yummers\", \"zombies\", \"zombies\", \"zombies\", \"zombies\", \"\\u3068\\u3066\\u3082\\u6c17\\u306b\\u5165\\u308a\\u307e\\u3057\\u305f\", \"\\u63a2\\u3057\\u305f\\u304a\\u5e97\\u3067\\u3057\\u305f\"]}, \"R\": 30, \"lambda.step\": 0.01, \"plot.opts\": {\"xlab\": \"PC1\", \"ylab\": \"PC2\"}, \"topic.order\": [4, 10, 9, 2, 8, 6, 3, 5, 1, 7]};\n",
       "\n",
       "function LDAvis_load_lib(url, callback){\n",
       "  var s = document.createElement('script');\n",
       "  s.src = url;\n",
       "  s.async = true;\n",
       "  s.onreadystatechange = s.onload = callback;\n",
       "  s.onerror = function(){console.warn(\"failed to load library \" + url);};\n",
       "  document.getElementsByTagName(\"head\")[0].appendChild(s);\n",
       "}\n",
       "\n",
       "if(typeof(LDAvis) !== \"undefined\"){\n",
       "   // already loaded: just create the visualization\n",
       "   !function(LDAvis){\n",
       "       new LDAvis(\"#\" + \"ldavis_el1563215169907644001866373080\", ldavis_el1563215169907644001866373080_data);\n",
       "   }(LDAvis);\n",
       "}else if(typeof define === \"function\" && define.amd){\n",
       "   // require.js is available: use it to load d3/LDAvis\n",
       "   require.config({paths: {d3: \"https://cdnjs.cloudflare.com/ajax/libs/d3/3.5.5/d3.min\"}});\n",
       "   require([\"d3\"], function(d3){\n",
       "      window.d3 = d3;\n",
       "      LDAvis_load_lib(\"https://cdn.rawgit.com/bmabey/pyLDAvis/files/ldavis.v1.0.0.js\", function(){\n",
       "        new LDAvis(\"#\" + \"ldavis_el1563215169907644001866373080\", ldavis_el1563215169907644001866373080_data);\n",
       "      });\n",
       "    });\n",
       "}else{\n",
       "    // require.js not available: dynamically load d3 & LDAvis\n",
       "    LDAvis_load_lib(\"https://cdnjs.cloudflare.com/ajax/libs/d3/3.5.5/d3.min.js\", function(){\n",
       "         LDAvis_load_lib(\"https://cdn.rawgit.com/bmabey/pyLDAvis/files/ldavis.v1.0.0.js\", function(){\n",
       "                 new LDAvis(\"#\" + \"ldavis_el1563215169907644001866373080\", ldavis_el1563215169907644001866373080_data);\n",
       "            })\n",
       "         });\n",
       "}\n",
       "</script>"
      ],
      "text/plain": [
       "PreparedData(topic_coordinates=              x         y  topics  cluster       Freq\n",
       "topic                                                \n",
       "3     -0.003344 -0.004477       1        1  10.510520\n",
       "9     -0.002905  0.002742       2        1  10.488924\n",
       "8     -0.002288  0.001728       3        1  10.457858\n",
       "1     -0.000963 -0.002744       4        1  10.283225\n",
       "7     -0.001693  0.001325       5        1  10.216318\n",
       "5      0.003565 -0.001127       6        1   9.907982\n",
       "2      0.000718  0.000900       7        1   9.804206\n",
       "4      0.003994 -0.000800       8        1   9.757290\n",
       "0      0.001353  0.003407       9        1   9.492880\n",
       "6      0.001564 -0.000953      10        1   9.080803, topic_info=         Term         Freq        Total Category  logprob  loglift\n",
       "34       time  3305.000000  3305.000000  Default  30.0000  30.0000\n",
       "45    service  3507.000000  3507.000000  Default  29.0000  29.0000\n",
       "133     place  4564.000000  4564.000000  Default  28.0000  28.0000\n",
       "18       like  3333.000000  3333.000000  Default  27.0000  27.0000\n",
       "145      food  4762.000000  4762.000000  Default  26.0000  26.0000\n",
       "..        ...          ...          ...      ...      ...      ...\n",
       "743      love   126.301392  1589.314331  Topic10  -5.8590  -0.1334\n",
       "391     order   120.162872  1450.827026  Topic10  -5.9089  -0.0920\n",
       "92       nice   124.478424  1690.075317  Topic10  -5.8736  -0.2094\n",
       "39   friendly   115.406403  1337.709229  Topic10  -5.9492  -0.0512\n",
       "117      went   115.381416  1432.453003  Topic10  -5.9495  -0.1199\n",
       "\n",
       "[880 rows x 6 columns], token_table=       Topic      Freq        Term\n",
       "term                              \n",
       "2940       2  0.127212   accepting\n",
       "2940       3  0.127212   accepting\n",
       "2940       4  0.127212   accepting\n",
       "2940       5  0.254423   accepting\n",
       "2940       6  0.127212   accepting\n",
       "...      ...       ...         ...\n",
       "13575      5  0.226327     zombies\n",
       "13575      7  0.226327     zombies\n",
       "13575      9  0.226327     zombies\n",
       "21334      6  0.619125  とても気に入りました\n",
       "21335      6  0.619474    探したお店でした\n",
       "\n",
       "[2977 rows x 3 columns], R=30, lambda_step=0.01, plot_opts={'xlab': 'PC1', 'ylab': 'PC2'}, topic_order=[4, 10, 9, 2, 8, 6, 3, 5, 1, 7])"
      ]
     },
     "execution_count": 76,
     "metadata": {},
     "output_type": "execute_result"
    }
   ],
   "source": [
    "import warnings\n",
    "warnings.filterwarnings('ignore')\n",
    "\n",
    "import pyLDAvis.gensim\n",
    "pyLDAvis.enable_notebook()\n",
    "\n",
    "pyLDAvis.gensim.prepare(lda, corpus, id2word)"
   ]
  },
  {
   "cell_type": "code",
   "execution_count": 79,
   "metadata": {},
   "outputs": [
    {
     "data": {
      "text/plain": [
       "[(34, 1), (45, 1), (46, 1), (136, 3), (145, 1), (391, 1), (1021, 1)]"
      ]
     },
     "execution_count": 79,
     "metadata": {},
     "output_type": "execute_result"
    }
   ],
   "source": [
    "id2word.doc2bow(tokenize(fake_review))"
   ]
  },
  {
   "cell_type": "code",
   "execution_count": null,
   "metadata": {},
   "outputs": [],
   "source": []
  },
  {
   "cell_type": "code",
   "execution_count": null,
   "metadata": {},
   "outputs": [],
   "source": []
  },
  {
   "cell_type": "markdown",
   "metadata": {},
   "source": [
    "## Stretch Goals\n",
    "\n",
    "Complete one of more of these to push your score towards a three: \n",
    "* Incorporate named entity recognition into your analysis\n",
    "* Compare vectorization methods in the classification section\n",
    "* Analyze more (or all) of the yelp dataset - this one is v. hard. \n",
    "* Use a generator object on the reviews file - this would help you with the analyzing the whole dataset.\n",
    "* Incorporate any of the other yelp dataset entities in your analysis (business, users, etc.)"
   ]
  }
 ],
 "metadata": {
  "kernel_info": {
   "name": "u4-s1-nlp"
  },
  "kernelspec": {
   "display_name": "U4-S1-NLP(Python3",
   "language": "python",
   "name": "u4-s1-nlp"
  },
  "language_info": {
   "codemirror_mode": {
    "name": "ipython",
    "version": 3
   },
   "file_extension": ".py",
   "mimetype": "text/x-python",
   "name": "python",
   "nbconvert_exporter": "python",
   "pygments_lexer": "ipython3",
   "version": "3.7.0"
  },
  "nteract": {
   "version": "0.14.5"
  },
  "toc-autonumbering": false
 },
 "nbformat": 4,
 "nbformat_minor": 4
}
