{
 "cells": [
  {
   "cell_type": "markdown",
   "metadata": {},
   "source": [
    "## Kaggle Competition"
   ]
  },
  {
   "cell_type": "code",
   "execution_count": 1,
   "metadata": {
    "ExecuteTime": {
     "end_time": "2019-10-03T00:53:34.776717Z",
     "start_time": "2019-10-03T00:53:13.431902Z"
    }
   },
   "outputs": [],
   "source": [
    "import pandas as pd\n",
    "import numpy as np\n",
    "from datetime import datetime\n",
    "import seaborn as sns\n",
    "import matplotlib.pyplot as plt\n",
    "# ---------------- Pandas settings --------------- #\n",
    "# Removes rows and columns truncation of '...'\n",
    "pd.set_option('display.max_rows', 200)\n",
    "pd.set_option('display.max_columns', 200)\n",
    "\n",
    "\n",
    "from sklearn.pipeline import Pipeline\n",
    "from sklearn.ensemble import RandomForestClassifier\n",
    "from sklearn.feature_extraction.text import TfidfVectorizer\n",
    "\n",
    "from sklearn.model_selection import GridSearchCV\n",
    "from sklearn.model_selection import RandomizedSearchCV\n",
    "from sklearn.model_selection import cross_val_score\n",
    "from sklearn.model_selection import cross_validate\n",
    "\n",
    "from sklearn.feature_extraction.text import CountVectorizer\n",
    "from sklearn.linear_model import SGDClassifier\n",
    "from sklearn.decomposition import TruncatedSVD\n",
    "\n",
    "from joblib import dump, load\n",
    "\n",
    "import xgboost as xgb\n",
    "import spacy\n",
    "\n",
    "\n",
    "nlp = spacy.load(\"en_core_web_lg\")"
   ]
  },
  {
   "cell_type": "markdown",
   "metadata": {},
   "source": [
    "## Load data"
   ]
  },
  {
   "cell_type": "code",
   "execution_count": 2,
   "metadata": {
    "ExecuteTime": {
     "end_time": "2019-10-03T00:05:43.344545Z",
     "start_time": "2019-10-03T00:05:43.307385Z"
    }
   },
   "outputs": [],
   "source": [
    "test = pd.read_csv('./data/test.csv')\n",
    "train = pd.read_csv('./data/train.csv')"
   ]
  },
  {
   "cell_type": "markdown",
   "metadata": {},
   "source": [
    "## Quick EDA"
   ]
  },
  {
   "cell_type": "code",
   "execution_count": 3,
   "metadata": {
    "ExecuteTime": {
     "end_time": "2019-10-03T00:05:43.371964Z",
     "start_time": "2019-10-03T00:05:43.347041Z"
    }
   },
   "outputs": [
    {
     "name": "stdout",
     "output_type": "stream",
     "text": [
      "<class 'pandas.core.frame.DataFrame'>\n",
      "RangeIndex: 2586 entries, 0 to 2585\n",
      "Data columns (total 3 columns):\n",
      "id             2586 non-null int64\n",
      "description    2586 non-null object\n",
      "category       2586 non-null int64\n",
      "dtypes: int64(2), object(1)\n",
      "memory usage: 60.7+ KB\n"
     ]
    }
   ],
   "source": [
    "train.info()"
   ]
  },
  {
   "cell_type": "code",
   "execution_count": 4,
   "metadata": {
    "ExecuteTime": {
     "end_time": "2019-10-03T00:05:43.439030Z",
     "start_time": "2019-10-03T00:05:43.374702Z"
    }
   },
   "outputs": [
    {
     "data": {
      "text/html": [
       "<div>\n",
       "<style scoped>\n",
       "    .dataframe tbody tr th:only-of-type {\n",
       "        vertical-align: middle;\n",
       "    }\n",
       "\n",
       "    .dataframe tbody tr th {\n",
       "        vertical-align: top;\n",
       "    }\n",
       "\n",
       "    .dataframe thead th {\n",
       "        text-align: right;\n",
       "    }\n",
       "</style>\n",
       "<table border=\"1\" class=\"dataframe\">\n",
       "  <thead>\n",
       "    <tr style=\"text-align: right;\">\n",
       "      <th></th>\n",
       "      <th>id</th>\n",
       "      <th>description</th>\n",
       "      <th>category</th>\n",
       "    </tr>\n",
       "  </thead>\n",
       "  <tbody>\n",
       "  </tbody>\n",
       "</table>\n",
       "</div>"
      ],
      "text/plain": [
       "Empty DataFrame\n",
       "Columns: [id, description, category]\n",
       "Index: []"
      ]
     },
     "execution_count": 4,
     "metadata": {},
     "output_type": "execute_result"
    }
   ],
   "source": [
    "train[train.duplicated()]"
   ]
  },
  {
   "cell_type": "code",
   "execution_count": 5,
   "metadata": {
    "ExecuteTime": {
     "end_time": "2019-10-03T00:05:43.467452Z",
     "start_time": "2019-10-03T00:05:43.447268Z"
    }
   },
   "outputs": [
    {
     "data": {
      "text/plain": [
       "id             0\n",
       "description    0\n",
       "category       0\n",
       "dtype: int64"
      ]
     },
     "execution_count": 5,
     "metadata": {},
     "output_type": "execute_result"
    }
   ],
   "source": [
    "train.isnull().sum()"
   ]
  },
  {
   "cell_type": "code",
   "execution_count": 6,
   "metadata": {
    "ExecuteTime": {
     "end_time": "2019-10-03T00:05:43.518998Z",
     "start_time": "2019-10-03T00:05:43.470986Z"
    }
   },
   "outputs": [
    {
     "data": {
      "text/html": [
       "<div>\n",
       "<style scoped>\n",
       "    .dataframe tbody tr th:only-of-type {\n",
       "        vertical-align: middle;\n",
       "    }\n",
       "\n",
       "    .dataframe tbody tr th {\n",
       "        vertical-align: top;\n",
       "    }\n",
       "\n",
       "    .dataframe thead th {\n",
       "        text-align: right;\n",
       "    }\n",
       "</style>\n",
       "<table border=\"1\" class=\"dataframe\">\n",
       "  <thead>\n",
       "    <tr style=\"text-align: right;\">\n",
       "      <th></th>\n",
       "      <th>id</th>\n",
       "      <th>description</th>\n",
       "      <th>category</th>\n",
       "    </tr>\n",
       "  </thead>\n",
       "  <tbody>\n",
       "    <tr>\n",
       "      <th>0</th>\n",
       "      <td>1</td>\n",
       "      <td>A marriage of 13 and 18 year old bourbons. A m...</td>\n",
       "      <td>2</td>\n",
       "    </tr>\n",
       "    <tr>\n",
       "      <th>1</th>\n",
       "      <td>2</td>\n",
       "      <td>There have been some legendary Bowmores from t...</td>\n",
       "      <td>1</td>\n",
       "    </tr>\n",
       "    <tr>\n",
       "      <th>2</th>\n",
       "      <td>3</td>\n",
       "      <td>This bottling celebrates master distiller Park...</td>\n",
       "      <td>2</td>\n",
       "    </tr>\n",
       "    <tr>\n",
       "      <th>3</th>\n",
       "      <td>4</td>\n",
       "      <td>What impresses me most is how this whisky evol...</td>\n",
       "      <td>1</td>\n",
       "    </tr>\n",
       "    <tr>\n",
       "      <th>4</th>\n",
       "      <td>9</td>\n",
       "      <td>A caramel-laden fruit bouquet, followed by une...</td>\n",
       "      <td>2</td>\n",
       "    </tr>\n",
       "  </tbody>\n",
       "</table>\n",
       "</div>"
      ],
      "text/plain": [
       "   id                                        description  category\n",
       "0   1  A marriage of 13 and 18 year old bourbons. A m...         2\n",
       "1   2  There have been some legendary Bowmores from t...         1\n",
       "2   3  This bottling celebrates master distiller Park...         2\n",
       "3   4  What impresses me most is how this whisky evol...         1\n",
       "4   9  A caramel-laden fruit bouquet, followed by une...         2"
      ]
     },
     "execution_count": 6,
     "metadata": {},
     "output_type": "execute_result"
    }
   ],
   "source": [
    "train.head()"
   ]
  },
  {
   "cell_type": "code",
   "execution_count": 7,
   "metadata": {
    "ExecuteTime": {
     "end_time": "2019-10-03T00:05:43.564566Z",
     "start_time": "2019-10-03T00:05:43.523300Z"
    }
   },
   "outputs": [],
   "source": [
    "def wrangle(df):\n",
    "    df = df.copy()\n",
    "    df['description'] = df['description'].str.lower().str.strip().str.replace(r\"’\", \"'\")\n",
    "    return df"
   ]
  },
  {
   "cell_type": "code",
   "execution_count": 8,
   "metadata": {
    "ExecuteTime": {
     "end_time": "2019-10-03T00:05:43.632519Z",
     "start_time": "2019-10-03T00:05:43.569218Z"
    }
   },
   "outputs": [],
   "source": [
    "train = wrangle(train)\n",
    "test = wrangle(test)"
   ]
  },
  {
   "cell_type": "code",
   "execution_count": 9,
   "metadata": {
    "ExecuteTime": {
     "end_time": "2019-10-03T00:05:43.674533Z",
     "start_time": "2019-10-03T00:05:43.635624Z"
    }
   },
   "outputs": [
    {
     "data": {
      "text/plain": [
       "'a marriage of 13 and 18 year old bourbons. a mature yet very elegant whiskey, with a silky texture and so easy to embrace with a splash of water. balanced notes of honeyed vanilla, soft caramel, a basket of complex orchard fruit, blackberry, papaya, and a dusting of cocoa and nutmeg; smooth finish. sophisticated, stylish, with well-defined flavors. a classic!'"
      ]
     },
     "execution_count": 9,
     "metadata": {},
     "output_type": "execute_result"
    }
   ],
   "source": [
    "train.loc[0, 'description']"
   ]
  },
  {
   "cell_type": "code",
   "execution_count": 10,
   "metadata": {
    "ExecuteTime": {
     "end_time": "2019-10-03T00:05:43.715612Z",
     "start_time": "2019-10-03T00:05:43.676993Z"
    }
   },
   "outputs": [
    {
     "data": {
      "text/plain": [
       "\"another excellent stagg, and considering its alcohol level, it's also a good value if you can get it at this price. notes of toffee, pot still rum, nougat, dates, tobacco, roasted nuts, polished oak, and leather. great depth and nicely balanced. a masculine bourbon of character and structure.\""
      ]
     },
     "execution_count": 10,
     "metadata": {},
     "output_type": "execute_result"
    }
   ],
   "source": [
    "train.loc[10, 'description']"
   ]
  },
  {
   "cell_type": "code",
   "execution_count": 11,
   "metadata": {
    "ExecuteTime": {
     "end_time": "2019-10-03T00:05:43.762654Z",
     "start_time": "2019-10-03T00:05:43.717750Z"
    }
   },
   "outputs": [],
   "source": [
    "import string\n",
    "from spacy.lang.en.stop_words import STOP_WORDS\n",
    "\n",
    "def tokenize(text):\n",
    "    tokens = []\n",
    "    doc = nlp(text)\n",
    "    for token in doc:\n",
    "        if (token.is_stop == False) and (token.is_punct == False or token.text not in string.punctuation):\n",
    "            tokens.append(token.text)\n",
    "    return tokens"
   ]
  },
  {
   "cell_type": "code",
   "execution_count": 12,
   "metadata": {
    "ExecuteTime": {
     "end_time": "2019-10-03T00:05:43.823536Z",
     "start_time": "2019-10-03T00:05:43.764526Z"
    }
   },
   "outputs": [
    {
     "data": {
      "text/plain": [
       "['another',\n",
       " 'excellent',\n",
       " 'stagg',\n",
       " 'and',\n",
       " 'considering',\n",
       " 'its',\n",
       " 'alcohol',\n",
       " 'level',\n",
       " 'it',\n",
       " \"'s\",\n",
       " 'also',\n",
       " 'a',\n",
       " 'good',\n",
       " 'value',\n",
       " 'if',\n",
       " 'you',\n",
       " 'can',\n",
       " 'get',\n",
       " 'it',\n",
       " 'at',\n",
       " 'this',\n",
       " 'price',\n",
       " 'notes',\n",
       " 'of',\n",
       " 'toffee',\n",
       " 'pot',\n",
       " 'still',\n",
       " 'rum',\n",
       " 'nougat',\n",
       " 'dates',\n",
       " 'tobacco',\n",
       " 'roasted',\n",
       " 'nuts',\n",
       " 'polished',\n",
       " 'oak',\n",
       " 'and',\n",
       " 'leather',\n",
       " 'great',\n",
       " 'depth',\n",
       " 'and',\n",
       " 'nicely',\n",
       " 'balanced',\n",
       " 'a',\n",
       " 'masculine',\n",
       " 'bourbon',\n",
       " 'of',\n",
       " 'character',\n",
       " 'and',\n",
       " 'structure']"
      ]
     },
     "execution_count": 12,
     "metadata": {},
     "output_type": "execute_result"
    }
   ],
   "source": [
    "text = train.loc[10, 'description']\n",
    "tokenize(text)"
   ]
  },
  {
   "cell_type": "markdown",
   "metadata": {},
   "source": [
    "#### Submission"
   ]
  },
  {
   "cell_type": "code",
   "execution_count": 13,
   "metadata": {
    "ExecuteTime": {
     "end_time": "2019-10-03T00:05:43.851576Z",
     "start_time": "2019-10-03T00:05:43.825504Z"
    }
   },
   "outputs": [],
   "source": [
    "def submission(model, file_name_suffix):\n",
    "    # Predictions on test sample\n",
    "    preds = model.predict(test['description'])\n",
    "    \n",
    "    # Convert predictions to dataframe\n",
    "    submission = pd.DataFrame({'id': test['id'], 'category':preds})\n",
    "    submission['category'] = submission['category'].astype(int)\n",
    "    \n",
    "    # Save your Submission File\n",
    "    file_path = f'./data/submission_{file_name_suffix}.csv'\n",
    "    submission.to_csv(file_path, index=False)\n",
    "    print(f'File saved at: {file_path}')\n",
    "    print(submission.head())"
   ]
  },
  {
   "cell_type": "markdown",
   "metadata": {},
   "source": [
    "#### Pickle 🥒 Functions"
   ]
  },
  {
   "cell_type": "code",
   "execution_count": 14,
   "metadata": {},
   "outputs": [],
   "source": [
    "def pickle_model(model, file_name_suffix):\n",
    "    model_path = f'./model/{file_name_suffix}.joblib'\n",
    "    dump(model, model_path)\n",
    "    print(f'Dumped model at: {model_path}')"
   ]
  },
  {
   "cell_type": "code",
   "execution_count": 15,
   "metadata": {},
   "outputs": [],
   "source": [
    "def load_model(file_name_suffix):\n",
    "    model_path = f'./model/{file_name_suffix}.joblib'\n",
    "    model = load(model_path)\n",
    "    return model"
   ]
  },
  {
   "cell_type": "markdown",
   "metadata": {},
   "source": [
    "#### Timer"
   ]
  },
  {
   "cell_type": "code",
   "execution_count": 16,
   "metadata": {
    "ExecuteTime": {
     "end_time": "2019-10-03T00:05:43.892125Z",
     "start_time": "2019-10-03T00:05:43.854587Z"
    }
   },
   "outputs": [],
   "source": [
    "def timer(start_time=None):\n",
    "    if not start_time:\n",
    "        start_time = datetime.now()\n",
    "        return start_time\n",
    "    elif start_time:\n",
    "        thour, temp_sec = divmod((datetime.now() - start_time).total_seconds(), 3600)\n",
    "        tmin, tsec = divmod(temp_sec, 60)\n",
    "        print('\\n Time taken: %i hours %i minutes and %s seconds.' % (thour, tmin, round(tsec, 2)))"
   ]
  },
  {
   "cell_type": "markdown",
   "metadata": {},
   "source": [
    "### TFID + RF"
   ]
  },
  {
   "cell_type": "markdown",
   "metadata": {},
   "source": [
    "#### Load Model"
   ]
  },
  {
   "cell_type": "code",
   "execution_count": null,
   "metadata": {},
   "outputs": [],
   "source": [
    "# grid_search1 = load_model('TFIDF_RF')"
   ]
  },
  {
   "cell_type": "code",
   "execution_count": null,
   "metadata": {
    "ExecuteTime": {
     "end_time": "2019-10-03T00:21:36.810789Z",
     "start_time": "2019-10-03T00:05:43.894088Z"
    }
   },
   "outputs": [
    {
     "name": "stdout",
     "output_type": "stream",
     "text": [
      "Fitting 5 folds for each of 300 candidates, totalling 1500 fits\n"
     ]
    },
    {
     "name": "stderr",
     "output_type": "stream",
     "text": [
      "[Parallel(n_jobs=-1)]: Using backend LokyBackend with 4 concurrent workers.\n",
      "[Parallel(n_jobs=-1)]: Done   5 tasks      | elapsed:    4.6s\n",
      "[Parallel(n_jobs=-1)]: Done  10 tasks      | elapsed:    6.4s\n",
      "[Parallel(n_jobs=-1)]: Done  17 tasks      | elapsed:    9.5s\n",
      "[Parallel(n_jobs=-1)]: Done  24 tasks      | elapsed:   11.5s\n",
      "[Parallel(n_jobs=-1)]: Done  33 tasks      | elapsed:   16.3s\n",
      "[Parallel(n_jobs=-1)]: Done  42 tasks      | elapsed:   19.6s\n",
      "[Parallel(n_jobs=-1)]: Done  53 tasks      | elapsed:   24.6s\n",
      "[Parallel(n_jobs=-1)]: Done  64 tasks      | elapsed:   28.1s\n",
      "[Parallel(n_jobs=-1)]: Done  77 tasks      | elapsed:   34.7s\n",
      "[Parallel(n_jobs=-1)]: Done  90 tasks      | elapsed:   40.0s\n",
      "[Parallel(n_jobs=-1)]: Done 105 tasks      | elapsed:   47.0s\n",
      "[Parallel(n_jobs=-1)]: Done 120 tasks      | elapsed:   52.1s\n",
      "[Parallel(n_jobs=-1)]: Done 137 tasks      | elapsed:  1.0min\n",
      "[Parallel(n_jobs=-1)]: Done 154 tasks      | elapsed:  1.1min\n",
      "[Parallel(n_jobs=-1)]: Done 173 tasks      | elapsed:  1.3min\n",
      "[Parallel(n_jobs=-1)]: Done 192 tasks      | elapsed:  1.4min\n",
      "[Parallel(n_jobs=-1)]: Done 213 tasks      | elapsed:  1.6min\n",
      "[Parallel(n_jobs=-1)]: Done 234 tasks      | elapsed:  1.7min\n",
      "[Parallel(n_jobs=-1)]: Done 257 tasks      | elapsed:  1.9min\n",
      "[Parallel(n_jobs=-1)]: Done 280 tasks      | elapsed:  2.0min\n",
      "[Parallel(n_jobs=-1)]: Done 305 tasks      | elapsed:  2.3min\n",
      "[Parallel(n_jobs=-1)]: Done 330 tasks      | elapsed:  2.5min\n",
      "[Parallel(n_jobs=-1)]: Done 357 tasks      | elapsed:  2.9min\n",
      "[Parallel(n_jobs=-1)]: Done 384 tasks      | elapsed:  3.1min\n",
      "[Parallel(n_jobs=-1)]: Done 413 tasks      | elapsed:  3.5min\n",
      "[Parallel(n_jobs=-1)]: Done 442 tasks      | elapsed:  3.9min\n",
      "[Parallel(n_jobs=-1)]: Done 473 tasks      | elapsed:  4.3min\n",
      "[Parallel(n_jobs=-1)]: Done 504 tasks      | elapsed:  4.6min\n",
      "[Parallel(n_jobs=-1)]: Done 537 tasks      | elapsed:  5.0min\n",
      "[Parallel(n_jobs=-1)]: Done 570 tasks      | elapsed:  5.4min\n",
      "[Parallel(n_jobs=-1)]: Done 605 tasks      | elapsed:  5.9min\n",
      "[Parallel(n_jobs=-1)]: Done 640 tasks      | elapsed:  6.4min\n",
      "[Parallel(n_jobs=-1)]: Done 677 tasks      | elapsed:  7.0min\n",
      "[Parallel(n_jobs=-1)]: Done 714 tasks      | elapsed:  7.7min\n",
      "[Parallel(n_jobs=-1)]: Done 753 tasks      | elapsed:  8.3min\n",
      "[Parallel(n_jobs=-1)]: Done 792 tasks      | elapsed:  9.0min\n",
      "[Parallel(n_jobs=-1)]: Done 833 tasks      | elapsed:  9.7min\n",
      "[Parallel(n_jobs=-1)]: Done 874 tasks      | elapsed: 10.4min\n",
      "[Parallel(n_jobs=-1)]: Done 917 tasks      | elapsed: 11.2min\n",
      "[Parallel(n_jobs=-1)]: Done 960 tasks      | elapsed: 12.0min\n",
      "[Parallel(n_jobs=-1)]: Done 1005 tasks      | elapsed: 13.1min\n",
      "[Parallel(n_jobs=-1)]: Done 1050 tasks      | elapsed: 14.0min\n",
      "[Parallel(n_jobs=-1)]: Done 1097 tasks      | elapsed: 15.1min\n",
      "[Parallel(n_jobs=-1)]: Done 1144 tasks      | elapsed: 16.0min\n",
      "[Parallel(n_jobs=-1)]: Done 1193 tasks      | elapsed: 17.2min\n",
      "[Parallel(n_jobs=-1)]: Done 1242 tasks      | elapsed: 18.4min\n",
      "[Parallel(n_jobs=-1)]: Done 1293 tasks      | elapsed: 19.7min\n",
      "[Parallel(n_jobs=-1)]: Done 1344 tasks      | elapsed: 21.0min\n"
     ]
    }
   ],
   "source": [
    "rfc = RandomForestClassifier()\n",
    "vect = TfidfVectorizer(stop_words='english')\n",
    "\n",
    "pipe1 = Pipeline([('vect', vect), ('rfc', rfc)])\n",
    "\n",
    "parameters1 = {\n",
    "    'vect__max_df': (0.5, 0.75, 0.9, 0.95, 0.99),\n",
    "    'vect__min_df': (0.02, 0.05, 0.1, 0.15),\n",
    "    'vect__max_features': (100, 500, 1000),\n",
    "    'rfc__n_estimators': (100, 200, 300, 400, 500),\n",
    "}\n",
    "\n",
    "start_time = timer(None) # timing starts from this point for \"start_time\" variable\n",
    "grid_search1 = GridSearchCV(pipe1, parameters1, cv=5, n_jobs=-1, verbose=10)\n",
    "grid_search1.fit(train['description'], train['category'])\n",
    "timer(start_time) # timing ends here for \"start_time\" variable"
   ]
  },
  {
   "cell_type": "code",
   "execution_count": null,
   "metadata": {
    "ExecuteTime": {
     "end_time": "2019-10-03T00:21:36.819045Z",
     "start_time": "2019-10-03T00:21:36.813767Z"
    }
   },
   "outputs": [],
   "source": [
    "grid_search1.best_estimator_"
   ]
  },
  {
   "cell_type": "code",
   "execution_count": null,
   "metadata": {
    "ExecuteTime": {
     "end_time": "2019-10-03T00:21:36.880643Z",
     "start_time": "2019-10-03T00:21:36.821157Z"
    }
   },
   "outputs": [],
   "source": [
    "grid_search1.best_params_"
   ]
  },
  {
   "cell_type": "code",
   "execution_count": null,
   "metadata": {
    "ExecuteTime": {
     "end_time": "2019-10-03T00:21:36.925587Z",
     "start_time": "2019-10-03T00:21:36.883168Z"
    }
   },
   "outputs": [],
   "source": [
    "grid_search1.best_score_"
   ]
  },
  {
   "cell_type": "markdown",
   "metadata": {},
   "source": [
    "#### Save `submission.csv`"
   ]
  },
  {
   "cell_type": "code",
   "execution_count": null,
   "metadata": {
    "ExecuteTime": {
     "end_time": "2019-10-03T00:21:37.057541Z",
     "start_time": "2019-10-03T00:21:36.928037Z"
    }
   },
   "outputs": [],
   "source": [
    "submission(grid_search1, 'TFIDF_RF')"
   ]
  },
  {
   "cell_type": "markdown",
   "metadata": {},
   "source": [
    "#### Pickle Model 🥒"
   ]
  },
  {
   "cell_type": "code",
   "execution_count": null,
   "metadata": {},
   "outputs": [],
   "source": [
    "pickle_model(grid_search1, 'TFIDF_RF')"
   ]
  },
  {
   "cell_type": "markdown",
   "metadata": {},
   "source": [
    "### TFIDF + SGDC"
   ]
  },
  {
   "cell_type": "markdown",
   "metadata": {},
   "source": [
    "#### Load Model"
   ]
  },
  {
   "cell_type": "code",
   "execution_count": null,
   "metadata": {},
   "outputs": [],
   "source": [
    "# grid_search2 = load_model('TFIDF_SGDC')"
   ]
  },
  {
   "cell_type": "code",
   "execution_count": null,
   "metadata": {
    "ExecuteTime": {
     "end_time": "2019-10-03T00:25:22.473668Z",
     "start_time": "2019-10-03T00:21:37.060281Z"
    }
   },
   "outputs": [],
   "source": [
    "%%time\n",
    "\n",
    "sgdc = SGDClassifier()\n",
    "vect = TfidfVectorizer(stop_words='english')\n",
    "\n",
    "pipe2 = Pipeline([('vect', vect), \n",
    "                  ('sgdc', sgdc)])\n",
    "\n",
    "parameters2 = {\n",
    "    'vect__max_df': (0.5, 0.75, 0.9, 0.95, 0.99),\n",
    "    'vect__min_df': (0.02, 0.05, 0.1, 0.15),\n",
    "    'vect__max_features': (100, 500, 1000),\n",
    "    'sgdc__max_iter': (300, 1000),\n",
    "}\n",
    "\n",
    "grid_search2 = GridSearchCV(pipe2, parameters2, cv=5, n_jobs=-1, verbose=10)\n",
    "grid_search2.fit(train['description'], train['category'])"
   ]
  },
  {
   "cell_type": "code",
   "execution_count": null,
   "metadata": {
    "ExecuteTime": {
     "end_time": "2019-10-03T00:25:22.482194Z",
     "start_time": "2019-10-03T00:25:22.476448Z"
    }
   },
   "outputs": [],
   "source": [
    "grid_search2.best_estimator_"
   ]
  },
  {
   "cell_type": "code",
   "execution_count": null,
   "metadata": {
    "ExecuteTime": {
     "end_time": "2019-10-03T00:25:22.528729Z",
     "start_time": "2019-10-03T00:25:22.485081Z"
    }
   },
   "outputs": [],
   "source": [
    "grid_search2.best_params_"
   ]
  },
  {
   "cell_type": "code",
   "execution_count": null,
   "metadata": {
    "ExecuteTime": {
     "end_time": "2019-10-03T00:25:22.574214Z",
     "start_time": "2019-10-03T00:25:22.530858Z"
    }
   },
   "outputs": [],
   "source": [
    "grid_search2.best_score_"
   ]
  },
  {
   "cell_type": "code",
   "execution_count": null,
   "metadata": {
    "ExecuteTime": {
     "end_time": "2019-10-03T00:25:22.643303Z",
     "start_time": "2019-10-03T00:25:22.576240Z"
    }
   },
   "outputs": [],
   "source": [
    "submission(grid_search2, 'TFIDF_SGDC')"
   ]
  },
  {
   "cell_type": "markdown",
   "metadata": {},
   "source": [
    "#### Pickle Model 🥒"
   ]
  },
  {
   "cell_type": "code",
   "execution_count": null,
   "metadata": {},
   "outputs": [],
   "source": [
    "pickle_model(grid_search2, 'TFIDF_SGDC')"
   ]
  },
  {
   "cell_type": "markdown",
   "metadata": {},
   "source": [
    "### TFID + XGBC"
   ]
  },
  {
   "cell_type": "markdown",
   "metadata": {},
   "source": [
    "#### Load Model"
   ]
  },
  {
   "cell_type": "code",
   "execution_count": null,
   "metadata": {},
   "outputs": [],
   "source": [
    "# grid_search3 = load_model('TFIDF_XGBC')"
   ]
  },
  {
   "cell_type": "code",
   "execution_count": null,
   "metadata": {
    "ExecuteTime": {
     "end_time": "2019-10-03T00:32:26.909633Z",
     "start_time": "2019-10-03T00:28:55.578123Z"
    },
    "scrolled": false
   },
   "outputs": [],
   "source": [
    "%%time \n",
    "\n",
    "xgbc = xgb.XGBClassifier()\n",
    "vect = TfidfVectorizer(stop_words='english')\n",
    "pipe3 = Pipeline([('vect', vect), \n",
    "                  ('xgbc', xgbc)])\n",
    "\n",
    "# parameters3 = {\n",
    "#         'vect__max_df': (0.5, 0.75, 0.95, 0.99, 1),\n",
    "#         'vect__min_df': (.02,),\n",
    "#         'xgbc__learning_rate': (0.01, 0.05, 0.1),\n",
    "#         'xgbc__n_estimators': (100, 500, 800, 1000),\n",
    "#         'xgbc__min_child_weight': [1, 5, 10],\n",
    "#         'xgbc__gamma': [0.5, 1, 1.5, 2, 5],\n",
    "#         'xgbc__subsample': [0.6, 0.8, 1.0],\n",
    "#         'xgbc__colsample_bytree': [0.6, 0.8, 1.0],\n",
    "#         'xgbc__max_depth': [3, 5, 10, 15, 20],\n",
    "#         'xgbc__booster':['booster', 'gblinear', 'gbtree']\n",
    "# }\n",
    "\n",
    "# parameters3 = {\n",
    "#         'vect__max_df': (0.5, 0.75, 0.95, 0.99, 1), \n",
    "#         'vect__min_df': (.02,), \n",
    "#         'xgbc__learning_rate': (0.01, 0.05, 0.1),\n",
    "#         'xgbc__n_estimators': (100, 500, 800, 1000),\n",
    "#         'xgbc__max_depth': [3, 5, 10, 15, 20]\n",
    "# }\n",
    "\n",
    "parameters3 = {\n",
    "        'vect__max_df': (0.7,), \n",
    "        'vect__min_df': (.02,), \n",
    "        'xgbc__n_estimators': (100, 400, 800),\n",
    "}\n",
    "\n",
    "grid_search3 = GridSearchCV(pipe3, parameters3, cv=5, n_jobs=-1, verbose=10)\n",
    "grid_search3.fit(train['description'], train['category'])"
   ]
  },
  {
   "cell_type": "code",
   "execution_count": null,
   "metadata": {
    "ExecuteTime": {
     "end_time": "2019-10-03T00:32:26.923410Z",
     "start_time": "2019-10-03T00:32:26.914563Z"
    }
   },
   "outputs": [],
   "source": [
    "grid_search3.best_estimator_"
   ]
  },
  {
   "cell_type": "code",
   "execution_count": null,
   "metadata": {
    "ExecuteTime": {
     "end_time": "2019-10-03T00:32:26.960437Z",
     "start_time": "2019-10-03T00:32:26.926460Z"
    }
   },
   "outputs": [],
   "source": [
    "grid_search3.best_params_"
   ]
  },
  {
   "cell_type": "code",
   "execution_count": null,
   "metadata": {
    "ExecuteTime": {
     "end_time": "2019-10-03T00:32:27.001300Z",
     "start_time": "2019-10-03T00:32:26.966849Z"
    }
   },
   "outputs": [],
   "source": [
    "grid_search3.best_score_"
   ]
  },
  {
   "cell_type": "code",
   "execution_count": null,
   "metadata": {
    "ExecuteTime": {
     "end_time": "2019-10-03T00:32:27.365898Z",
     "start_time": "2019-10-03T00:32:27.003554Z"
    }
   },
   "outputs": [],
   "source": [
    "submission(grid_search3, 'TFIDF_XGBC')"
   ]
  },
  {
   "cell_type": "markdown",
   "metadata": {},
   "source": [
    "#### Pickle Model 🥒"
   ]
  },
  {
   "cell_type": "code",
   "execution_count": null,
   "metadata": {},
   "outputs": [],
   "source": [
    "pickle_model(grid_search3, 'TFIDF_XGBC')"
   ]
  },
  {
   "cell_type": "markdown",
   "metadata": {},
   "source": [
    "### TFID + SVD + SGDC"
   ]
  },
  {
   "cell_type": "code",
   "execution_count": null,
   "metadata": {
    "ExecuteTime": {
     "end_time": "2019-10-03T00:55:42.093247Z",
     "start_time": "2019-10-03T00:55:41.146335Z"
    }
   },
   "outputs": [],
   "source": [
    "vect = TfidfVectorizer(stop_words='english', ngram_range=(1, 3), min_df=0.08)\n",
    "\n",
    "sparse = vect.fit_transform(train['description'])\n",
    "\n",
    "dtm = pd.DataFrame(sparse.todense(), columns=vect.get_feature_names())\n",
    "print(dtm.shape)\n",
    "dtm.head()"
   ]
  },
  {
   "cell_type": "markdown",
   "metadata": {},
   "source": [
    "#### Load Model"
   ]
  },
  {
   "cell_type": "code",
   "execution_count": null,
   "metadata": {},
   "outputs": [],
   "source": [
    "# grid_search4 = load_model('TFIDF_SVD_SGDC')"
   ]
  },
  {
   "cell_type": "code",
   "execution_count": null,
   "metadata": {
    "ExecuteTime": {
     "end_time": "2019-10-03T01:18:15.932314Z",
     "start_time": "2019-10-03T01:06:23.885181Z"
    },
    "scrolled": false
   },
   "outputs": [],
   "source": [
    "%%time\n",
    "\n",
    "vect = TfidfVectorizer(stop_words='english', ngram_range=(1, 3))\n",
    "\n",
    "svd = TruncatedSVD(algorithm='randomized')\n",
    "\n",
    "sgdc = SGDClassifier(early_stopping=True)\n",
    "\n",
    "pipe4 = Pipeline([('vect', vect), ('svd', svd), ('sgdc', sgdc)])\n",
    "\n",
    "parameters4 = { \n",
    "    'svd__n_iter': (10, 15, 20),\n",
    "    'svd__n_components': (100, 300, 500, 1000),\n",
    "    'sgdc__max_iter': (1000,)\n",
    "}\n",
    "\n",
    "\n",
    "grid_search4 = GridSearchCV(pipe4, parameters4, cv=5, n_jobs=-1, verbose=10)\n",
    "grid_search4.fit(train['description'], train['category'])"
   ]
  },
  {
   "cell_type": "code",
   "execution_count": null,
   "metadata": {
    "ExecuteTime": {
     "end_time": "2019-10-03T01:18:15.949584Z",
     "start_time": "2019-10-03T01:18:15.935339Z"
    }
   },
   "outputs": [],
   "source": [
    "grid_search4.best_estimator_"
   ]
  },
  {
   "cell_type": "code",
   "execution_count": null,
   "metadata": {
    "ExecuteTime": {
     "end_time": "2019-10-03T01:18:15.992427Z",
     "start_time": "2019-10-03T01:18:15.952101Z"
    }
   },
   "outputs": [],
   "source": [
    "grid_search4.best_params_"
   ]
  },
  {
   "cell_type": "code",
   "execution_count": null,
   "metadata": {
    "ExecuteTime": {
     "end_time": "2019-10-03T01:18:16.032549Z",
     "start_time": "2019-10-03T01:18:15.995213Z"
    }
   },
   "outputs": [],
   "source": [
    "grid_search4.best_score_"
   ]
  },
  {
   "cell_type": "markdown",
   "metadata": {},
   "source": [
    "#### Save submission"
   ]
  },
  {
   "cell_type": "code",
   "execution_count": null,
   "metadata": {
    "ExecuteTime": {
     "end_time": "2019-10-03T01:18:16.137584Z",
     "start_time": "2019-10-03T01:18:16.034721Z"
    }
   },
   "outputs": [],
   "source": [
    "submission(grid_search4, 'TFIDF_SVD_SGDC')"
   ]
  },
  {
   "cell_type": "markdown",
   "metadata": {},
   "source": [
    "#### Pickle Model 🥒"
   ]
  },
  {
   "cell_type": "code",
   "execution_count": null,
   "metadata": {},
   "outputs": [],
   "source": [
    "pickle_model(grid_search4, 'TFIDF_SVD_SGDC')"
   ]
  },
  {
   "cell_type": "markdown",
   "metadata": {},
   "source": [
    "### TFID + ASVD + SGDC"
   ]
  },
  {
   "cell_type": "markdown",
   "metadata": {},
   "source": [
    "#### Load Model"
   ]
  },
  {
   "cell_type": "code",
   "execution_count": null,
   "metadata": {},
   "outputs": [],
   "source": [
    "grid_search5 = load_model('TFIDF_ASVD_SGDC')"
   ]
  },
  {
   "cell_type": "code",
   "execution_count": null,
   "metadata": {},
   "outputs": [],
   "source": [
    "%%time\n",
    "\n",
    "vect = TfidfVectorizer(stop_words='english', ngram_range=(1, 3))\n",
    "\n",
    "svd = TruncatedSVD(algorithm='randomized')\n",
    "\n",
    "sgdc = SGDClassifier(average=True)\n",
    "\n",
    "pipe5 = Pipeline([('vect', vect), ('svd', svd), ('sgdc', sgdc)])\n",
    "\n",
    "parameters5 = { \n",
    "    'svd__n_iter': (20,),\n",
    "    'svd__n_components': (1000,)\n",
    "}\n",
    "\n",
    "grid_search5 = GridSearchCV(pipe5, parameters5, cv=5, n_jobs=-1, verbose=10)\n",
    "grid_search5.fit(train['description'], train['category'])"
   ]
  },
  {
   "cell_type": "code",
   "execution_count": null,
   "metadata": {
    "ExecuteTime": {
     "end_time": "2019-10-03T01:18:15.949584Z",
     "start_time": "2019-10-03T01:18:15.935339Z"
    }
   },
   "outputs": [],
   "source": [
    "grid_search5.best_estimator_"
   ]
  },
  {
   "cell_type": "code",
   "execution_count": null,
   "metadata": {
    "ExecuteTime": {
     "end_time": "2019-10-03T01:18:15.992427Z",
     "start_time": "2019-10-03T01:18:15.952101Z"
    }
   },
   "outputs": [],
   "source": [
    "grid_search5.best_params_"
   ]
  },
  {
   "cell_type": "code",
   "execution_count": null,
   "metadata": {
    "ExecuteTime": {
     "end_time": "2019-10-03T01:18:16.032549Z",
     "start_time": "2019-10-03T01:18:15.995213Z"
    }
   },
   "outputs": [],
   "source": [
    "grid_search5.best_score_"
   ]
  },
  {
   "cell_type": "markdown",
   "metadata": {},
   "source": [
    "#### Save submission"
   ]
  },
  {
   "cell_type": "code",
   "execution_count": null,
   "metadata": {
    "ExecuteTime": {
     "end_time": "2019-10-03T01:18:16.137584Z",
     "start_time": "2019-10-03T01:18:16.034721Z"
    }
   },
   "outputs": [],
   "source": [
    "submission(grid_search5, 'TFIDF_ASVD_SGDC')"
   ]
  },
  {
   "cell_type": "markdown",
   "metadata": {},
   "source": [
    "#### Pickle Model 🥒"
   ]
  },
  {
   "cell_type": "code",
   "execution_count": null,
   "metadata": {},
   "outputs": [],
   "source": [
    "pickle_model(grid_search5, 'TFIDF_ASVD_SGDC')"
   ]
  },
  {
   "cell_type": "markdown",
   "metadata": {},
   "source": [
    "### TFIDF W/ STOPWORDS + SVD + SGDC"
   ]
  },
  {
   "cell_type": "code",
   "execution_count": null,
   "metadata": {},
   "outputs": [],
   "source": [
    "vect = TfidfVectorizer()\n",
    "\n",
    "sparse = vect.fit_transform(train['description'].sample(50))\n",
    "\n",
    "dtm = pd.DataFrame(sparse.todense(), columns=vect.get_feature_names())\n",
    "print(dtm.shape)\n",
    "dtm.head()"
   ]
  },
  {
   "cell_type": "markdown",
   "metadata": {},
   "source": [
    "#### Load Model"
   ]
  },
  {
   "cell_type": "code",
   "execution_count": null,
   "metadata": {},
   "outputs": [],
   "source": [
    "grid_search6 = load_model('TFIDF_W_STOPWORDS_SVD_SGDC')"
   ]
  },
  {
   "cell_type": "code",
   "execution_count": 99,
   "metadata": {
    "ExecuteTime": {
     "end_time": "2019-10-03T02:32:17.797368Z",
     "start_time": "2019-10-03T02:32:14.278141Z"
    }
   },
   "outputs": [
    {
     "name": "stdout",
     "output_type": "stream",
     "text": [
      "Fitting 5 folds for each of 16 candidates, totalling 80 fits\n"
     ]
    },
    {
     "name": "stderr",
     "output_type": "stream",
     "text": [
      "[Parallel(n_jobs=-1)]: Using backend LokyBackend with 8 concurrent workers.\n",
      "[Parallel(n_jobs=-1)]: Done   2 tasks      | elapsed:   11.9s\n",
      "[Parallel(n_jobs=-1)]: Done   9 tasks      | elapsed:   22.6s\n",
      "[Parallel(n_jobs=-1)]: Done  16 tasks      | elapsed:   24.5s\n",
      "[Parallel(n_jobs=-1)]: Done  25 tasks      | elapsed:   58.6s\n",
      "[Parallel(n_jobs=-1)]: Done  34 tasks      | elapsed:  1.5min\n",
      "[Parallel(n_jobs=-1)]: Done  45 tasks      | elapsed:  2.4min\n",
      "[Parallel(n_jobs=-1)]: Done  56 tasks      | elapsed:  3.5min\n",
      "[Parallel(n_jobs=-1)]: Done  74 out of  80 | elapsed:  7.2min remaining:   35.2s\n",
      "[Parallel(n_jobs=-1)]: Done  80 out of  80 | elapsed:  8.3min finished\n",
      "/home/ubuntu/.conda/envs/U4-S1-NLP/lib/python3.7/site-packages/sklearn/linear_model/stochastic_gradient.py:183: FutureWarning: max_iter and tol parameters have been added in SGDClassifier in 0.19. If max_iter is set but tol is left unset, the default value for tol in 0.19 and 0.20 will be None (which is equivalent to -infinity, so it has no effect) but will change in 0.21 to 1e-3. Specify tol to silence this warning.\n",
      "  FutureWarning)\n"
     ]
    },
    {
     "name": "stdout",
     "output_type": "stream",
     "text": [
      "\n",
      " Time taken: 0 hours 9 minutes and 6.94 seconds.\n"
     ]
    }
   ],
   "source": [
    "# vect = TfidfVectorizer()\n",
    "\n",
    "# svd = TruncatedSVD(algorithm='randomized')\n",
    "\n",
    "# sgdc = SGDClassifier(early_stopping=True)\n",
    "\n",
    "# pipe6 = Pipeline([('vect', vect), ('svd', svd), ('sgdc', sgdc)])\n",
    "\n",
    "# parameters6 = { \n",
    "#     'svd__n_iter': (5, 10, 15, 20),\n",
    "#     'svd__n_components': (100, 300, 500, 1000),\n",
    "#     'sgdc__max_iter': (1000,),\n",
    "# }\n",
    "\n",
    "# grid_search6 = GridSearchCV(pipe6, parameters6, cv=5, n_jobs=-1, verbose=10)\n",
    "# start_time = timer(None)\n",
    "# grid_search6.fit(train['description'], train['category'])\n",
    "# timer(start_time)"
   ]
  },
  {
   "cell_type": "code",
   "execution_count": 100,
   "metadata": {
    "ExecuteTime": {
     "end_time": "2019-10-03T02:30:05.378029Z",
     "start_time": "2019-10-03T02:28:56.356Z"
    }
   },
   "outputs": [
    {
     "data": {
      "text/plain": [
       "Pipeline(memory=None,\n",
       "     steps=[('vect', TfidfVectorizer(analyzer='word', binary=False, decode_error='strict',\n",
       "        dtype=<class 'numpy.float64'>, encoding='utf-8', input='content',\n",
       "        lowercase=True, max_df=1.0, max_features=None, min_df=1,\n",
       "        ngram_range=(1, 1), norm='l2', preprocessor=None, smooth_idf=True,\n",
       "...m_state=None, shuffle=True, tol=None,\n",
       "       validation_fraction=0.1, verbose=0, warm_start=False))])"
      ]
     },
     "execution_count": 100,
     "metadata": {},
     "output_type": "execute_result"
    }
   ],
   "source": [
    "grid_search6.best_estimator_"
   ]
  },
  {
   "cell_type": "code",
   "execution_count": 101,
   "metadata": {
    "ExecuteTime": {
     "end_time": "2019-10-03T02:30:05.379827Z",
     "start_time": "2019-10-03T02:28:56.780Z"
    }
   },
   "outputs": [
    {
     "data": {
      "text/plain": [
       "{'sgdc__max_iter': 1000, 'svd__n_components': 1000, 'svd__n_iter': 10}"
      ]
     },
     "execution_count": 101,
     "metadata": {},
     "output_type": "execute_result"
    }
   ],
   "source": [
    "grid_search6.best_params_"
   ]
  },
  {
   "cell_type": "code",
   "execution_count": 102,
   "metadata": {
    "ExecuteTime": {
     "end_time": "2019-10-03T02:30:05.381189Z",
     "start_time": "2019-10-03T02:28:57.771Z"
    }
   },
   "outputs": [
    {
     "data": {
      "text/plain": [
       "0.9319412219644239"
      ]
     },
     "execution_count": 102,
     "metadata": {},
     "output_type": "execute_result"
    }
   ],
   "source": [
    "grid_search6.best_score_"
   ]
  },
  {
   "cell_type": "markdown",
   "metadata": {},
   "source": [
    "#### Save submission"
   ]
  },
  {
   "cell_type": "code",
   "execution_count": 106,
   "metadata": {
    "ExecuteTime": {
     "end_time": "2019-10-03T01:18:16.137584Z",
     "start_time": "2019-10-03T01:18:16.034721Z"
    }
   },
   "outputs": [
    {
     "name": "stdout",
     "output_type": "stream",
     "text": [
      "File saved at: ./data/submission_TFIDF_W_STOPWORDS_SVD_SGDC.csv\n",
      "     id  category\n",
      "0   955         2\n",
      "1  3532         2\n",
      "2  1390         4\n",
      "3  1024         1\n",
      "4  1902         1\n"
     ]
    }
   ],
   "source": [
    "submission(grid_search6, 'TFIDF_W_STOPWORDS_SVD_SGDC')"
   ]
  },
  {
   "cell_type": "markdown",
   "metadata": {},
   "source": [
    "#### Pickle Model 🥒"
   ]
  },
  {
   "cell_type": "code",
   "execution_count": 105,
   "metadata": {},
   "outputs": [
    {
     "name": "stdout",
     "output_type": "stream",
     "text": [
      "Dumped model at: ./model/TFIDF_W_STOPWORDS_SVD_SGDC.joblib\n"
     ]
    }
   ],
   "source": [
    "pickle_model(grid_search6, 'TFIDF_W_STOPWORDS_SVD_SGDC')"
   ]
  },
  {
   "cell_type": "markdown",
   "metadata": {},
   "source": [
    "### Custom Tokenizer (nouns) + TFIDF + SVD + SGDC"
   ]
  },
  {
   "cell_type": "code",
   "execution_count": 107,
   "metadata": {},
   "outputs": [],
   "source": [
    "def tokenize(text):\n",
    "    tokens = []\n",
    "    doc = nlp(text)\n",
    "    for chunk in doc.noun_chunks:\n",
    "        tokens.append(chunk.lemma_)\n",
    "    return tokens"
   ]
  },
  {
   "cell_type": "code",
   "execution_count": 108,
   "metadata": {},
   "outputs": [
    {
     "data": {
      "text/plain": [
       "['another excellent stagg',\n",
       " '-PRON- alcohol level',\n",
       " '-PRON-',\n",
       " 'a good value',\n",
       " '-PRON-',\n",
       " '-PRON-',\n",
       " 'this price',\n",
       " 'note',\n",
       " 'toffee',\n",
       " 'pot',\n",
       " 'nougat',\n",
       " 'date',\n",
       " 'tobacco',\n",
       " 'roasted nut',\n",
       " 'polished oak',\n",
       " 'leather',\n",
       " 'great depth',\n",
       " 'a masculine bourbon',\n",
       " 'character',\n",
       " 'structure']"
      ]
     },
     "execution_count": 108,
     "metadata": {},
     "output_type": "execute_result"
    }
   ],
   "source": [
    "text = train.loc[10, 'description']\n",
    "tokenize(text)"
   ]
  },
  {
   "cell_type": "code",
   "execution_count": 117,
   "metadata": {},
   "outputs": [
    {
     "name": "stdout",
     "output_type": "stream",
     "text": [
      "(100, 171)\n"
     ]
    },
    {
     "data": {
      "text/html": [
       "<div>\n",
       "<style scoped>\n",
       "    .dataframe tbody tr th:only-of-type {\n",
       "        vertical-align: middle;\n",
       "    }\n",
       "\n",
       "    .dataframe tbody tr th {\n",
       "        vertical-align: top;\n",
       "    }\n",
       "\n",
       "    .dataframe thead th {\n",
       "        text-align: right;\n",
       "    }\n",
       "</style>\n",
       "<table border=\"1\" class=\"dataframe\">\n",
       "  <thead>\n",
       "    <tr style=\"text-align: right;\">\n",
       "      <th></th>\n",
       "      <th>( u.s</th>\n",
       "      <th>-PRON-</th>\n",
       "      <th>-PRON- aroma</th>\n",
       "      <th>-PRON- way</th>\n",
       "      <th>375 ml</th>\n",
       "      <th>50 %</th>\n",
       "      <th>a bit</th>\n",
       "      <th>a dry finish</th>\n",
       "      <th>a hint</th>\n",
       "      <th>a lovely example</th>\n",
       "      <th>a mix</th>\n",
       "      <th>a nice whisky</th>\n",
       "      <th>a nose</th>\n",
       "      <th>a secondary period</th>\n",
       "      <th>a suggestion</th>\n",
       "      <th>a touch</th>\n",
       "      <th>a whisky</th>\n",
       "      <th>almond</th>\n",
       "      <th>anise</th>\n",
       "      <th>aniseed</th>\n",
       "      <th>banana</th>\n",
       "      <th>black cherry</th>\n",
       "      <th>black currant</th>\n",
       "      <th>black pepper</th>\n",
       "      <th>black raspberry</th>\n",
       "      <th>bourbon</th>\n",
       "      <th>bourbon cask</th>\n",
       "      <th>bramble</th>\n",
       "      <th>brazil nut</th>\n",
       "      <th>bright fruit</th>\n",
       "      <th>brine</th>\n",
       "      <th>brown sugar</th>\n",
       "      <th>buffalo trace</th>\n",
       "      <th>butterscotch</th>\n",
       "      <th>caramel</th>\n",
       "      <th>cask</th>\n",
       "      <th>cask strength</th>\n",
       "      <th>char</th>\n",
       "      <th>chewy toffee</th>\n",
       "      <th>chili</th>\n",
       "      <th>chocolate fudge</th>\n",
       "      <th>cinnamon</th>\n",
       "      <th>citrus</th>\n",
       "      <th>citrus fruit</th>\n",
       "      <th>clove</th>\n",
       "      <th>cocktail cherry</th>\n",
       "      <th>cocoa</th>\n",
       "      <th>cocoa powder</th>\n",
       "      <th>coconut</th>\n",
       "      <th>coconut cream</th>\n",
       "      <th>corn</th>\n",
       "      <th>crème brûlée</th>\n",
       "      <th>currant</th>\n",
       "      <th>dark chocolate</th>\n",
       "      <th>date</th>\n",
       "      <th>dry spice</th>\n",
       "      <th>earth</th>\n",
       "      <th>editor 's choice</th>\n",
       "      <th>espresso</th>\n",
       "      <th>everything</th>\n",
       "      <th>fig</th>\n",
       "      <th>flavor</th>\n",
       "      <th>fresh fruit</th>\n",
       "      <th>fruit</th>\n",
       "      <th>ginger</th>\n",
       "      <th>golden raisin</th>\n",
       "      <th>gooseberry</th>\n",
       "      <th>grain</th>\n",
       "      <th>grass</th>\n",
       "      <th>hazelnut</th>\n",
       "      <th>heather honey</th>\n",
       "      <th>hint</th>\n",
       "      <th>honey</th>\n",
       "      <th>honeyed vanilla</th>\n",
       "      <th>i</th>\n",
       "      <th>just the hint</th>\n",
       "      <th>leather</th>\n",
       "      <th>length</th>\n",
       "      <th>licorice</th>\n",
       "      <th>licorice root</th>\n",
       "      <th>light</th>\n",
       "      <th>linseed</th>\n",
       "      <th>lot</th>\n",
       "      <th>malt</th>\n",
       "      <th>maple syrup</th>\n",
       "      <th>marshmallow</th>\n",
       "      <th>marzipan</th>\n",
       "      <th>mass</th>\n",
       "      <th>maturation</th>\n",
       "      <th>milk chocolate</th>\n",
       "      <th>milky coffee</th>\n",
       "      <th>nectarine</th>\n",
       "      <th>none</th>\n",
       "      <th>note</th>\n",
       "      <th>nougat</th>\n",
       "      <th>nutmeg</th>\n",
       "      <th>nutty toffee</th>\n",
       "      <th>oak</th>\n",
       "      <th>orange</th>\n",
       "      <th>orchard fruit</th>\n",
       "      <th>other</th>\n",
       "      <th>palate</th>\n",
       "      <th>part</th>\n",
       "      <th>peach</th>\n",
       "      <th>peat</th>\n",
       "      <th>pepper</th>\n",
       "      <th>pineapple</th>\n",
       "      <th>plain chocolate</th>\n",
       "      <th>plenty</th>\n",
       "      <th>plum</th>\n",
       "      <th>polished leather</th>\n",
       "      <th>polished oak</th>\n",
       "      <th>price</th>\n",
       "      <th>raisin</th>\n",
       "      <th>raspberry</th>\n",
       "      <th>ripe berry</th>\n",
       "      <th>rum</th>\n",
       "      <th>salt</th>\n",
       "      <th>seaweed</th>\n",
       "      <th>sherry</th>\n",
       "      <th>sherry cask</th>\n",
       "      <th>smoke</th>\n",
       "      <th>solvent</th>\n",
       "      <th>something</th>\n",
       "      <th>spice</th>\n",
       "      <th>strawberry</th>\n",
       "      <th>sultana</th>\n",
       "      <th>sweet fruit</th>\n",
       "      <th>sweet sherry</th>\n",
       "      <th>sweetness</th>\n",
       "      <th>syrup</th>\n",
       "      <th>tangerine</th>\n",
       "      <th>texture</th>\n",
       "      <th>the barrel</th>\n",
       "      <th>the bunch</th>\n",
       "      <th>the cask</th>\n",
       "      <th>the finish</th>\n",
       "      <th>the flavor</th>\n",
       "      <th>the heat</th>\n",
       "      <th>the impression</th>\n",
       "      <th>the long finish</th>\n",
       "      <th>the medium - length finish</th>\n",
       "      <th>the middle</th>\n",
       "      <th>the mouth</th>\n",
       "      <th>the nose</th>\n",
       "      <th>the palate</th>\n",
       "      <th>the same time</th>\n",
       "      <th>the second release</th>\n",
       "      <th>the series</th>\n",
       "      <th>the smoke</th>\n",
       "      <th>the tongue</th>\n",
       "      <th>the u.s</th>\n",
       "      <th>the whisky</th>\n",
       "      <th>the wood</th>\n",
       "      <th>this bourbon</th>\n",
       "      <th>this expression</th>\n",
       "      <th>this one</th>\n",
       "      <th>this whiskey</th>\n",
       "      <th>this whisky</th>\n",
       "      <th>time</th>\n",
       "      <th>tinned peach</th>\n",
       "      <th>tobacco</th>\n",
       "      <th>toffee</th>\n",
       "      <th>vanilla</th>\n",
       "      <th>vanilla fudge</th>\n",
       "      <th>virginia</th>\n",
       "      <th>walnut</th>\n",
       "      <th>water</th>\n",
       "      <th>what</th>\n",
       "      <th>whisky</th>\n",
       "      <th>white pepper</th>\n",
       "    </tr>\n",
       "  </thead>\n",
       "  <tbody>\n",
       "    <tr>\n",
       "      <th>0</th>\n",
       "      <td>0.0</td>\n",
       "      <td>0.000000</td>\n",
       "      <td>0.0</td>\n",
       "      <td>0.0</td>\n",
       "      <td>0.0</td>\n",
       "      <td>0.0</td>\n",
       "      <td>0.0</td>\n",
       "      <td>0.0</td>\n",
       "      <td>0.0</td>\n",
       "      <td>0.0</td>\n",
       "      <td>0.0</td>\n",
       "      <td>0.0</td>\n",
       "      <td>0.000000</td>\n",
       "      <td>0.0</td>\n",
       "      <td>0.0</td>\n",
       "      <td>0.0</td>\n",
       "      <td>0.0</td>\n",
       "      <td>0.0</td>\n",
       "      <td>0.000000</td>\n",
       "      <td>0.0</td>\n",
       "      <td>0.000000</td>\n",
       "      <td>0.0</td>\n",
       "      <td>0.0</td>\n",
       "      <td>0.0</td>\n",
       "      <td>0.0</td>\n",
       "      <td>0.0</td>\n",
       "      <td>0.0</td>\n",
       "      <td>0.0</td>\n",
       "      <td>0.0</td>\n",
       "      <td>0.0</td>\n",
       "      <td>0.0</td>\n",
       "      <td>0.0</td>\n",
       "      <td>0.0</td>\n",
       "      <td>0.0</td>\n",
       "      <td>0.0</td>\n",
       "      <td>0.0</td>\n",
       "      <td>0.0</td>\n",
       "      <td>0.0</td>\n",
       "      <td>0.0</td>\n",
       "      <td>0.0</td>\n",
       "      <td>0.0</td>\n",
       "      <td>0.289048</td>\n",
       "      <td>0.0</td>\n",
       "      <td>0.0</td>\n",
       "      <td>0.0</td>\n",
       "      <td>0.0</td>\n",
       "      <td>0.0</td>\n",
       "      <td>0.0</td>\n",
       "      <td>0.0</td>\n",
       "      <td>0.0</td>\n",
       "      <td>0.0</td>\n",
       "      <td>0.0</td>\n",
       "      <td>0.0</td>\n",
       "      <td>0.42047</td>\n",
       "      <td>0.0</td>\n",
       "      <td>0.0</td>\n",
       "      <td>0.0</td>\n",
       "      <td>0.0</td>\n",
       "      <td>0.000000</td>\n",
       "      <td>0.0</td>\n",
       "      <td>0.0</td>\n",
       "      <td>0.0</td>\n",
       "      <td>0.0</td>\n",
       "      <td>0.000000</td>\n",
       "      <td>0.0</td>\n",
       "      <td>0.0</td>\n",
       "      <td>0.000000</td>\n",
       "      <td>0.0</td>\n",
       "      <td>0.0</td>\n",
       "      <td>0.0</td>\n",
       "      <td>0.0</td>\n",
       "      <td>0.0</td>\n",
       "      <td>0.0</td>\n",
       "      <td>0.0</td>\n",
       "      <td>0.0</td>\n",
       "      <td>0.0</td>\n",
       "      <td>0.0</td>\n",
       "      <td>0.0</td>\n",
       "      <td>0.364828</td>\n",
       "      <td>0.0</td>\n",
       "      <td>0.0</td>\n",
       "      <td>0.0</td>\n",
       "      <td>0.0</td>\n",
       "      <td>0.364828</td>\n",
       "      <td>0.0</td>\n",
       "      <td>0.0</td>\n",
       "      <td>0.0</td>\n",
       "      <td>0.0000</td>\n",
       "      <td>0.0</td>\n",
       "      <td>0.0</td>\n",
       "      <td>0.0</td>\n",
       "      <td>0.0</td>\n",
       "      <td>0.000000</td>\n",
       "      <td>0.0</td>\n",
       "      <td>0.0</td>\n",
       "      <td>0.0</td>\n",
       "      <td>0.0</td>\n",
       "      <td>0.000000</td>\n",
       "      <td>0.0</td>\n",
       "      <td>0.0</td>\n",
       "      <td>0.0</td>\n",
       "      <td>0.0</td>\n",
       "      <td>0.0</td>\n",
       "      <td>0.0</td>\n",
       "      <td>0.000000</td>\n",
       "      <td>0.0</td>\n",
       "      <td>0.0</td>\n",
       "      <td>0.0</td>\n",
       "      <td>0.0</td>\n",
       "      <td>0.000000</td>\n",
       "      <td>0.0</td>\n",
       "      <td>0.0</td>\n",
       "      <td>0.0</td>\n",
       "      <td>0.000000</td>\n",
       "      <td>0.0</td>\n",
       "      <td>0.0</td>\n",
       "      <td>0.0</td>\n",
       "      <td>0.0</td>\n",
       "      <td>0.000000</td>\n",
       "      <td>0.449074</td>\n",
       "      <td>0.0</td>\n",
       "      <td>0.0</td>\n",
       "      <td>0.0</td>\n",
       "      <td>0.0</td>\n",
       "      <td>0.0</td>\n",
       "      <td>0.0</td>\n",
       "      <td>0.0</td>\n",
       "      <td>0.000000</td>\n",
       "      <td>0.0</td>\n",
       "      <td>0.0</td>\n",
       "      <td>0.0</td>\n",
       "      <td>0.0</td>\n",
       "      <td>0.0</td>\n",
       "      <td>0.0</td>\n",
       "      <td>0.0</td>\n",
       "      <td>0.000000</td>\n",
       "      <td>0.202001</td>\n",
       "      <td>0.0</td>\n",
       "      <td>0.000000</td>\n",
       "      <td>0.0</td>\n",
       "      <td>0.0</td>\n",
       "      <td>0.0</td>\n",
       "      <td>0.000000</td>\n",
       "      <td>0.000000</td>\n",
       "      <td>0.202001</td>\n",
       "      <td>0.177629</td>\n",
       "      <td>0.0</td>\n",
       "      <td>0.0</td>\n",
       "      <td>0.0</td>\n",
       "      <td>0.0</td>\n",
       "      <td>0.0</td>\n",
       "      <td>0.0</td>\n",
       "      <td>0.398283</td>\n",
       "      <td>0.0</td>\n",
       "      <td>0.0</td>\n",
       "      <td>0.0</td>\n",
       "      <td>0.000000</td>\n",
       "      <td>0.0</td>\n",
       "      <td>0.0</td>\n",
       "      <td>0.0</td>\n",
       "      <td>0.0</td>\n",
       "      <td>0.0</td>\n",
       "      <td>0.0</td>\n",
       "      <td>0.0</td>\n",
       "      <td>0.0</td>\n",
       "      <td>0.0</td>\n",
       "      <td>0.0</td>\n",
       "      <td>0.000000</td>\n",
       "      <td>0.0</td>\n",
       "      <td>0.0</td>\n",
       "      <td>0.0</td>\n",
       "    </tr>\n",
       "    <tr>\n",
       "      <th>1</th>\n",
       "      <td>0.0</td>\n",
       "      <td>0.000000</td>\n",
       "      <td>0.0</td>\n",
       "      <td>0.0</td>\n",
       "      <td>0.0</td>\n",
       "      <td>0.0</td>\n",
       "      <td>0.0</td>\n",
       "      <td>0.0</td>\n",
       "      <td>0.0</td>\n",
       "      <td>0.0</td>\n",
       "      <td>0.0</td>\n",
       "      <td>0.0</td>\n",
       "      <td>0.000000</td>\n",
       "      <td>0.0</td>\n",
       "      <td>0.0</td>\n",
       "      <td>0.0</td>\n",
       "      <td>0.0</td>\n",
       "      <td>0.0</td>\n",
       "      <td>0.000000</td>\n",
       "      <td>0.0</td>\n",
       "      <td>0.000000</td>\n",
       "      <td>0.0</td>\n",
       "      <td>0.0</td>\n",
       "      <td>0.0</td>\n",
       "      <td>0.0</td>\n",
       "      <td>0.0</td>\n",
       "      <td>0.0</td>\n",
       "      <td>0.0</td>\n",
       "      <td>0.0</td>\n",
       "      <td>0.0</td>\n",
       "      <td>0.0</td>\n",
       "      <td>0.0</td>\n",
       "      <td>0.0</td>\n",
       "      <td>0.0</td>\n",
       "      <td>0.0</td>\n",
       "      <td>0.0</td>\n",
       "      <td>0.0</td>\n",
       "      <td>0.0</td>\n",
       "      <td>0.0</td>\n",
       "      <td>0.0</td>\n",
       "      <td>0.0</td>\n",
       "      <td>0.000000</td>\n",
       "      <td>0.0</td>\n",
       "      <td>0.0</td>\n",
       "      <td>0.0</td>\n",
       "      <td>0.0</td>\n",
       "      <td>0.0</td>\n",
       "      <td>0.0</td>\n",
       "      <td>0.0</td>\n",
       "      <td>0.0</td>\n",
       "      <td>0.0</td>\n",
       "      <td>0.0</td>\n",
       "      <td>0.0</td>\n",
       "      <td>0.00000</td>\n",
       "      <td>0.0</td>\n",
       "      <td>0.0</td>\n",
       "      <td>0.0</td>\n",
       "      <td>0.0</td>\n",
       "      <td>0.000000</td>\n",
       "      <td>0.0</td>\n",
       "      <td>0.0</td>\n",
       "      <td>0.0</td>\n",
       "      <td>0.0</td>\n",
       "      <td>0.000000</td>\n",
       "      <td>0.0</td>\n",
       "      <td>0.0</td>\n",
       "      <td>0.000000</td>\n",
       "      <td>0.0</td>\n",
       "      <td>0.0</td>\n",
       "      <td>0.0</td>\n",
       "      <td>0.0</td>\n",
       "      <td>0.0</td>\n",
       "      <td>0.0</td>\n",
       "      <td>0.0</td>\n",
       "      <td>0.0</td>\n",
       "      <td>0.0</td>\n",
       "      <td>0.0</td>\n",
       "      <td>0.0</td>\n",
       "      <td>0.000000</td>\n",
       "      <td>0.0</td>\n",
       "      <td>0.0</td>\n",
       "      <td>0.0</td>\n",
       "      <td>0.0</td>\n",
       "      <td>0.000000</td>\n",
       "      <td>0.0</td>\n",
       "      <td>0.0</td>\n",
       "      <td>0.0</td>\n",
       "      <td>0.0000</td>\n",
       "      <td>0.0</td>\n",
       "      <td>0.0</td>\n",
       "      <td>0.0</td>\n",
       "      <td>0.0</td>\n",
       "      <td>0.000000</td>\n",
       "      <td>0.0</td>\n",
       "      <td>0.0</td>\n",
       "      <td>0.0</td>\n",
       "      <td>0.0</td>\n",
       "      <td>0.000000</td>\n",
       "      <td>0.0</td>\n",
       "      <td>0.0</td>\n",
       "      <td>0.0</td>\n",
       "      <td>0.0</td>\n",
       "      <td>0.0</td>\n",
       "      <td>0.0</td>\n",
       "      <td>0.680973</td>\n",
       "      <td>0.0</td>\n",
       "      <td>0.0</td>\n",
       "      <td>0.0</td>\n",
       "      <td>0.0</td>\n",
       "      <td>0.000000</td>\n",
       "      <td>0.0</td>\n",
       "      <td>0.0</td>\n",
       "      <td>0.0</td>\n",
       "      <td>0.000000</td>\n",
       "      <td>0.0</td>\n",
       "      <td>0.0</td>\n",
       "      <td>0.0</td>\n",
       "      <td>0.0</td>\n",
       "      <td>0.000000</td>\n",
       "      <td>0.000000</td>\n",
       "      <td>0.0</td>\n",
       "      <td>0.0</td>\n",
       "      <td>0.0</td>\n",
       "      <td>0.0</td>\n",
       "      <td>0.0</td>\n",
       "      <td>0.0</td>\n",
       "      <td>0.0</td>\n",
       "      <td>0.000000</td>\n",
       "      <td>0.0</td>\n",
       "      <td>0.0</td>\n",
       "      <td>0.0</td>\n",
       "      <td>0.0</td>\n",
       "      <td>0.0</td>\n",
       "      <td>0.0</td>\n",
       "      <td>0.0</td>\n",
       "      <td>0.680973</td>\n",
       "      <td>0.000000</td>\n",
       "      <td>0.0</td>\n",
       "      <td>0.000000</td>\n",
       "      <td>0.0</td>\n",
       "      <td>0.0</td>\n",
       "      <td>0.0</td>\n",
       "      <td>0.000000</td>\n",
       "      <td>0.000000</td>\n",
       "      <td>0.000000</td>\n",
       "      <td>0.269355</td>\n",
       "      <td>0.0</td>\n",
       "      <td>0.0</td>\n",
       "      <td>0.0</td>\n",
       "      <td>0.0</td>\n",
       "      <td>0.0</td>\n",
       "      <td>0.0</td>\n",
       "      <td>0.000000</td>\n",
       "      <td>0.0</td>\n",
       "      <td>0.0</td>\n",
       "      <td>0.0</td>\n",
       "      <td>0.000000</td>\n",
       "      <td>0.0</td>\n",
       "      <td>0.0</td>\n",
       "      <td>0.0</td>\n",
       "      <td>0.0</td>\n",
       "      <td>0.0</td>\n",
       "      <td>0.0</td>\n",
       "      <td>0.0</td>\n",
       "      <td>0.0</td>\n",
       "      <td>0.0</td>\n",
       "      <td>0.0</td>\n",
       "      <td>0.000000</td>\n",
       "      <td>0.0</td>\n",
       "      <td>0.0</td>\n",
       "      <td>0.0</td>\n",
       "    </tr>\n",
       "    <tr>\n",
       "      <th>2</th>\n",
       "      <td>0.0</td>\n",
       "      <td>0.137628</td>\n",
       "      <td>0.0</td>\n",
       "      <td>0.0</td>\n",
       "      <td>0.0</td>\n",
       "      <td>0.0</td>\n",
       "      <td>0.0</td>\n",
       "      <td>0.0</td>\n",
       "      <td>0.0</td>\n",
       "      <td>0.0</td>\n",
       "      <td>0.0</td>\n",
       "      <td>0.0</td>\n",
       "      <td>0.386616</td>\n",
       "      <td>0.0</td>\n",
       "      <td>0.0</td>\n",
       "      <td>0.0</td>\n",
       "      <td>0.0</td>\n",
       "      <td>0.0</td>\n",
       "      <td>0.000000</td>\n",
       "      <td>0.0</td>\n",
       "      <td>0.000000</td>\n",
       "      <td>0.0</td>\n",
       "      <td>0.0</td>\n",
       "      <td>0.0</td>\n",
       "      <td>0.0</td>\n",
       "      <td>0.0</td>\n",
       "      <td>0.0</td>\n",
       "      <td>0.0</td>\n",
       "      <td>0.0</td>\n",
       "      <td>0.0</td>\n",
       "      <td>0.0</td>\n",
       "      <td>0.0</td>\n",
       "      <td>0.0</td>\n",
       "      <td>0.0</td>\n",
       "      <td>0.0</td>\n",
       "      <td>0.0</td>\n",
       "      <td>0.0</td>\n",
       "      <td>0.0</td>\n",
       "      <td>0.0</td>\n",
       "      <td>0.0</td>\n",
       "      <td>0.0</td>\n",
       "      <td>0.000000</td>\n",
       "      <td>0.0</td>\n",
       "      <td>0.0</td>\n",
       "      <td>0.0</td>\n",
       "      <td>0.0</td>\n",
       "      <td>0.0</td>\n",
       "      <td>0.0</td>\n",
       "      <td>0.0</td>\n",
       "      <td>0.0</td>\n",
       "      <td>0.0</td>\n",
       "      <td>0.0</td>\n",
       "      <td>0.0</td>\n",
       "      <td>0.00000</td>\n",
       "      <td>0.0</td>\n",
       "      <td>0.0</td>\n",
       "      <td>0.0</td>\n",
       "      <td>0.0</td>\n",
       "      <td>0.000000</td>\n",
       "      <td>0.0</td>\n",
       "      <td>0.0</td>\n",
       "      <td>0.0</td>\n",
       "      <td>0.0</td>\n",
       "      <td>0.000000</td>\n",
       "      <td>0.0</td>\n",
       "      <td>0.0</td>\n",
       "      <td>0.386616</td>\n",
       "      <td>0.0</td>\n",
       "      <td>0.0</td>\n",
       "      <td>0.0</td>\n",
       "      <td>0.0</td>\n",
       "      <td>0.0</td>\n",
       "      <td>0.0</td>\n",
       "      <td>0.0</td>\n",
       "      <td>0.0</td>\n",
       "      <td>0.0</td>\n",
       "      <td>0.0</td>\n",
       "      <td>0.0</td>\n",
       "      <td>0.000000</td>\n",
       "      <td>0.0</td>\n",
       "      <td>0.0</td>\n",
       "      <td>0.0</td>\n",
       "      <td>0.0</td>\n",
       "      <td>0.000000</td>\n",
       "      <td>0.0</td>\n",
       "      <td>0.0</td>\n",
       "      <td>0.0</td>\n",
       "      <td>0.0000</td>\n",
       "      <td>0.0</td>\n",
       "      <td>0.0</td>\n",
       "      <td>0.0</td>\n",
       "      <td>0.0</td>\n",
       "      <td>0.386616</td>\n",
       "      <td>0.0</td>\n",
       "      <td>0.0</td>\n",
       "      <td>0.0</td>\n",
       "      <td>0.0</td>\n",
       "      <td>0.243322</td>\n",
       "      <td>0.0</td>\n",
       "      <td>0.0</td>\n",
       "      <td>0.0</td>\n",
       "      <td>0.0</td>\n",
       "      <td>0.0</td>\n",
       "      <td>0.0</td>\n",
       "      <td>0.000000</td>\n",
       "      <td>0.0</td>\n",
       "      <td>0.0</td>\n",
       "      <td>0.0</td>\n",
       "      <td>0.0</td>\n",
       "      <td>0.000000</td>\n",
       "      <td>0.0</td>\n",
       "      <td>0.0</td>\n",
       "      <td>0.0</td>\n",
       "      <td>0.000000</td>\n",
       "      <td>0.0</td>\n",
       "      <td>0.0</td>\n",
       "      <td>0.0</td>\n",
       "      <td>0.0</td>\n",
       "      <td>0.000000</td>\n",
       "      <td>0.000000</td>\n",
       "      <td>0.0</td>\n",
       "      <td>0.0</td>\n",
       "      <td>0.0</td>\n",
       "      <td>0.0</td>\n",
       "      <td>0.0</td>\n",
       "      <td>0.0</td>\n",
       "      <td>0.0</td>\n",
       "      <td>0.386616</td>\n",
       "      <td>0.0</td>\n",
       "      <td>0.0</td>\n",
       "      <td>0.0</td>\n",
       "      <td>0.0</td>\n",
       "      <td>0.0</td>\n",
       "      <td>0.0</td>\n",
       "      <td>0.0</td>\n",
       "      <td>0.000000</td>\n",
       "      <td>0.000000</td>\n",
       "      <td>0.0</td>\n",
       "      <td>0.386616</td>\n",
       "      <td>0.0</td>\n",
       "      <td>0.0</td>\n",
       "      <td>0.0</td>\n",
       "      <td>0.000000</td>\n",
       "      <td>0.314087</td>\n",
       "      <td>0.000000</td>\n",
       "      <td>0.000000</td>\n",
       "      <td>0.0</td>\n",
       "      <td>0.0</td>\n",
       "      <td>0.0</td>\n",
       "      <td>0.0</td>\n",
       "      <td>0.0</td>\n",
       "      <td>0.0</td>\n",
       "      <td>0.000000</td>\n",
       "      <td>0.0</td>\n",
       "      <td>0.0</td>\n",
       "      <td>0.0</td>\n",
       "      <td>0.000000</td>\n",
       "      <td>0.0</td>\n",
       "      <td>0.0</td>\n",
       "      <td>0.0</td>\n",
       "      <td>0.0</td>\n",
       "      <td>0.0</td>\n",
       "      <td>0.0</td>\n",
       "      <td>0.0</td>\n",
       "      <td>0.0</td>\n",
       "      <td>0.0</td>\n",
       "      <td>0.0</td>\n",
       "      <td>0.275396</td>\n",
       "      <td>0.0</td>\n",
       "      <td>0.0</td>\n",
       "      <td>0.0</td>\n",
       "    </tr>\n",
       "    <tr>\n",
       "      <th>3</th>\n",
       "      <td>0.0</td>\n",
       "      <td>0.161160</td>\n",
       "      <td>0.0</td>\n",
       "      <td>0.0</td>\n",
       "      <td>0.0</td>\n",
       "      <td>0.0</td>\n",
       "      <td>0.0</td>\n",
       "      <td>0.0</td>\n",
       "      <td>0.0</td>\n",
       "      <td>0.0</td>\n",
       "      <td>0.0</td>\n",
       "      <td>0.0</td>\n",
       "      <td>0.000000</td>\n",
       "      <td>0.0</td>\n",
       "      <td>0.0</td>\n",
       "      <td>0.0</td>\n",
       "      <td>0.0</td>\n",
       "      <td>0.0</td>\n",
       "      <td>0.423885</td>\n",
       "      <td>0.0</td>\n",
       "      <td>0.000000</td>\n",
       "      <td>0.0</td>\n",
       "      <td>0.0</td>\n",
       "      <td>0.0</td>\n",
       "      <td>0.0</td>\n",
       "      <td>0.0</td>\n",
       "      <td>0.0</td>\n",
       "      <td>0.0</td>\n",
       "      <td>0.0</td>\n",
       "      <td>0.0</td>\n",
       "      <td>0.0</td>\n",
       "      <td>0.0</td>\n",
       "      <td>0.0</td>\n",
       "      <td>0.0</td>\n",
       "      <td>0.0</td>\n",
       "      <td>0.0</td>\n",
       "      <td>0.0</td>\n",
       "      <td>0.0</td>\n",
       "      <td>0.0</td>\n",
       "      <td>0.0</td>\n",
       "      <td>0.0</td>\n",
       "      <td>0.000000</td>\n",
       "      <td>0.0</td>\n",
       "      <td>0.0</td>\n",
       "      <td>0.0</td>\n",
       "      <td>0.0</td>\n",
       "      <td>0.0</td>\n",
       "      <td>0.0</td>\n",
       "      <td>0.0</td>\n",
       "      <td>0.0</td>\n",
       "      <td>0.0</td>\n",
       "      <td>0.0</td>\n",
       "      <td>0.0</td>\n",
       "      <td>0.00000</td>\n",
       "      <td>0.0</td>\n",
       "      <td>0.0</td>\n",
       "      <td>0.0</td>\n",
       "      <td>0.0</td>\n",
       "      <td>0.423885</td>\n",
       "      <td>0.0</td>\n",
       "      <td>0.0</td>\n",
       "      <td>0.0</td>\n",
       "      <td>0.0</td>\n",
       "      <td>0.322485</td>\n",
       "      <td>0.0</td>\n",
       "      <td>0.0</td>\n",
       "      <td>0.000000</td>\n",
       "      <td>0.0</td>\n",
       "      <td>0.0</td>\n",
       "      <td>0.0</td>\n",
       "      <td>0.0</td>\n",
       "      <td>0.0</td>\n",
       "      <td>0.0</td>\n",
       "      <td>0.0</td>\n",
       "      <td>0.0</td>\n",
       "      <td>0.0</td>\n",
       "      <td>0.0</td>\n",
       "      <td>0.0</td>\n",
       "      <td>0.000000</td>\n",
       "      <td>0.0</td>\n",
       "      <td>0.0</td>\n",
       "      <td>0.0</td>\n",
       "      <td>0.0</td>\n",
       "      <td>0.000000</td>\n",
       "      <td>0.0</td>\n",
       "      <td>0.0</td>\n",
       "      <td>0.0</td>\n",
       "      <td>0.0000</td>\n",
       "      <td>0.0</td>\n",
       "      <td>0.0</td>\n",
       "      <td>0.0</td>\n",
       "      <td>0.0</td>\n",
       "      <td>0.000000</td>\n",
       "      <td>0.0</td>\n",
       "      <td>0.0</td>\n",
       "      <td>0.0</td>\n",
       "      <td>0.0</td>\n",
       "      <td>0.000000</td>\n",
       "      <td>0.0</td>\n",
       "      <td>0.0</td>\n",
       "      <td>0.0</td>\n",
       "      <td>0.0</td>\n",
       "      <td>0.0</td>\n",
       "      <td>0.0</td>\n",
       "      <td>0.000000</td>\n",
       "      <td>0.0</td>\n",
       "      <td>0.0</td>\n",
       "      <td>0.0</td>\n",
       "      <td>0.0</td>\n",
       "      <td>0.000000</td>\n",
       "      <td>0.0</td>\n",
       "      <td>0.0</td>\n",
       "      <td>0.0</td>\n",
       "      <td>0.000000</td>\n",
       "      <td>0.0</td>\n",
       "      <td>0.0</td>\n",
       "      <td>0.0</td>\n",
       "      <td>0.0</td>\n",
       "      <td>0.383242</td>\n",
       "      <td>0.000000</td>\n",
       "      <td>0.0</td>\n",
       "      <td>0.0</td>\n",
       "      <td>0.0</td>\n",
       "      <td>0.0</td>\n",
       "      <td>0.0</td>\n",
       "      <td>0.0</td>\n",
       "      <td>0.0</td>\n",
       "      <td>0.000000</td>\n",
       "      <td>0.0</td>\n",
       "      <td>0.0</td>\n",
       "      <td>0.0</td>\n",
       "      <td>0.0</td>\n",
       "      <td>0.0</td>\n",
       "      <td>0.0</td>\n",
       "      <td>0.0</td>\n",
       "      <td>0.000000</td>\n",
       "      <td>0.203642</td>\n",
       "      <td>0.0</td>\n",
       "      <td>0.000000</td>\n",
       "      <td>0.0</td>\n",
       "      <td>0.0</td>\n",
       "      <td>0.0</td>\n",
       "      <td>0.452721</td>\n",
       "      <td>0.000000</td>\n",
       "      <td>0.000000</td>\n",
       "      <td>0.000000</td>\n",
       "      <td>0.0</td>\n",
       "      <td>0.0</td>\n",
       "      <td>0.0</td>\n",
       "      <td>0.0</td>\n",
       "      <td>0.0</td>\n",
       "      <td>0.0</td>\n",
       "      <td>0.000000</td>\n",
       "      <td>0.0</td>\n",
       "      <td>0.0</td>\n",
       "      <td>0.0</td>\n",
       "      <td>0.342599</td>\n",
       "      <td>0.0</td>\n",
       "      <td>0.0</td>\n",
       "      <td>0.0</td>\n",
       "      <td>0.0</td>\n",
       "      <td>0.0</td>\n",
       "      <td>0.0</td>\n",
       "      <td>0.0</td>\n",
       "      <td>0.0</td>\n",
       "      <td>0.0</td>\n",
       "      <td>0.0</td>\n",
       "      <td>0.000000</td>\n",
       "      <td>0.0</td>\n",
       "      <td>0.0</td>\n",
       "      <td>0.0</td>\n",
       "    </tr>\n",
       "    <tr>\n",
       "      <th>4</th>\n",
       "      <td>0.0</td>\n",
       "      <td>0.353915</td>\n",
       "      <td>0.0</td>\n",
       "      <td>0.0</td>\n",
       "      <td>0.0</td>\n",
       "      <td>0.0</td>\n",
       "      <td>0.0</td>\n",
       "      <td>0.0</td>\n",
       "      <td>0.0</td>\n",
       "      <td>0.0</td>\n",
       "      <td>0.0</td>\n",
       "      <td>0.0</td>\n",
       "      <td>0.000000</td>\n",
       "      <td>0.0</td>\n",
       "      <td>0.0</td>\n",
       "      <td>0.0</td>\n",
       "      <td>0.0</td>\n",
       "      <td>0.0</td>\n",
       "      <td>0.000000</td>\n",
       "      <td>0.0</td>\n",
       "      <td>0.465437</td>\n",
       "      <td>0.0</td>\n",
       "      <td>0.0</td>\n",
       "      <td>0.0</td>\n",
       "      <td>0.0</td>\n",
       "      <td>0.0</td>\n",
       "      <td>0.0</td>\n",
       "      <td>0.0</td>\n",
       "      <td>0.0</td>\n",
       "      <td>0.0</td>\n",
       "      <td>0.0</td>\n",
       "      <td>0.0</td>\n",
       "      <td>0.0</td>\n",
       "      <td>0.0</td>\n",
       "      <td>0.0</td>\n",
       "      <td>0.0</td>\n",
       "      <td>0.0</td>\n",
       "      <td>0.0</td>\n",
       "      <td>0.0</td>\n",
       "      <td>0.0</td>\n",
       "      <td>0.0</td>\n",
       "      <td>0.000000</td>\n",
       "      <td>0.0</td>\n",
       "      <td>0.0</td>\n",
       "      <td>0.0</td>\n",
       "      <td>0.0</td>\n",
       "      <td>0.0</td>\n",
       "      <td>0.0</td>\n",
       "      <td>0.0</td>\n",
       "      <td>0.0</td>\n",
       "      <td>0.0</td>\n",
       "      <td>0.0</td>\n",
       "      <td>0.0</td>\n",
       "      <td>0.00000</td>\n",
       "      <td>0.0</td>\n",
       "      <td>0.0</td>\n",
       "      <td>0.0</td>\n",
       "      <td>0.0</td>\n",
       "      <td>0.000000</td>\n",
       "      <td>0.0</td>\n",
       "      <td>0.0</td>\n",
       "      <td>0.0</td>\n",
       "      <td>0.0</td>\n",
       "      <td>0.000000</td>\n",
       "      <td>0.0</td>\n",
       "      <td>0.0</td>\n",
       "      <td>0.000000</td>\n",
       "      <td>0.0</td>\n",
       "      <td>0.0</td>\n",
       "      <td>0.0</td>\n",
       "      <td>0.0</td>\n",
       "      <td>0.0</td>\n",
       "      <td>0.0</td>\n",
       "      <td>0.0</td>\n",
       "      <td>0.0</td>\n",
       "      <td>0.0</td>\n",
       "      <td>0.0</td>\n",
       "      <td>0.0</td>\n",
       "      <td>0.000000</td>\n",
       "      <td>0.0</td>\n",
       "      <td>0.0</td>\n",
       "      <td>0.0</td>\n",
       "      <td>0.0</td>\n",
       "      <td>0.000000</td>\n",
       "      <td>0.0</td>\n",
       "      <td>0.0</td>\n",
       "      <td>0.0</td>\n",
       "      <td>0.4971</td>\n",
       "      <td>0.0</td>\n",
       "      <td>0.0</td>\n",
       "      <td>0.0</td>\n",
       "      <td>0.0</td>\n",
       "      <td>0.000000</td>\n",
       "      <td>0.0</td>\n",
       "      <td>0.0</td>\n",
       "      <td>0.0</td>\n",
       "      <td>0.0</td>\n",
       "      <td>0.000000</td>\n",
       "      <td>0.0</td>\n",
       "      <td>0.0</td>\n",
       "      <td>0.0</td>\n",
       "      <td>0.0</td>\n",
       "      <td>0.0</td>\n",
       "      <td>0.0</td>\n",
       "      <td>0.000000</td>\n",
       "      <td>0.0</td>\n",
       "      <td>0.0</td>\n",
       "      <td>0.0</td>\n",
       "      <td>0.0</td>\n",
       "      <td>0.465437</td>\n",
       "      <td>0.0</td>\n",
       "      <td>0.0</td>\n",
       "      <td>0.0</td>\n",
       "      <td>0.440877</td>\n",
       "      <td>0.0</td>\n",
       "      <td>0.0</td>\n",
       "      <td>0.0</td>\n",
       "      <td>0.0</td>\n",
       "      <td>0.000000</td>\n",
       "      <td>0.000000</td>\n",
       "      <td>0.0</td>\n",
       "      <td>0.0</td>\n",
       "      <td>0.0</td>\n",
       "      <td>0.0</td>\n",
       "      <td>0.0</td>\n",
       "      <td>0.0</td>\n",
       "      <td>0.0</td>\n",
       "      <td>0.000000</td>\n",
       "      <td>0.0</td>\n",
       "      <td>0.0</td>\n",
       "      <td>0.0</td>\n",
       "      <td>0.0</td>\n",
       "      <td>0.0</td>\n",
       "      <td>0.0</td>\n",
       "      <td>0.0</td>\n",
       "      <td>0.000000</td>\n",
       "      <td>0.000000</td>\n",
       "      <td>0.0</td>\n",
       "      <td>0.000000</td>\n",
       "      <td>0.0</td>\n",
       "      <td>0.0</td>\n",
       "      <td>0.0</td>\n",
       "      <td>0.000000</td>\n",
       "      <td>0.000000</td>\n",
       "      <td>0.000000</td>\n",
       "      <td>0.000000</td>\n",
       "      <td>0.0</td>\n",
       "      <td>0.0</td>\n",
       "      <td>0.0</td>\n",
       "      <td>0.0</td>\n",
       "      <td>0.0</td>\n",
       "      <td>0.0</td>\n",
       "      <td>0.000000</td>\n",
       "      <td>0.0</td>\n",
       "      <td>0.0</td>\n",
       "      <td>0.0</td>\n",
       "      <td>0.000000</td>\n",
       "      <td>0.0</td>\n",
       "      <td>0.0</td>\n",
       "      <td>0.0</td>\n",
       "      <td>0.0</td>\n",
       "      <td>0.0</td>\n",
       "      <td>0.0</td>\n",
       "      <td>0.0</td>\n",
       "      <td>0.0</td>\n",
       "      <td>0.0</td>\n",
       "      <td>0.0</td>\n",
       "      <td>0.000000</td>\n",
       "      <td>0.0</td>\n",
       "      <td>0.0</td>\n",
       "      <td>0.0</td>\n",
       "    </tr>\n",
       "  </tbody>\n",
       "</table>\n",
       "</div>"
      ],
      "text/plain": [
       "   ( u.s    -PRON-  -PRON- aroma  -PRON- way  375 ml  50 %  a bit  \\\n",
       "0    0.0  0.000000           0.0         0.0     0.0   0.0    0.0   \n",
       "1    0.0  0.000000           0.0         0.0     0.0   0.0    0.0   \n",
       "2    0.0  0.137628           0.0         0.0     0.0   0.0    0.0   \n",
       "3    0.0  0.161160           0.0         0.0     0.0   0.0    0.0   \n",
       "4    0.0  0.353915           0.0         0.0     0.0   0.0    0.0   \n",
       "\n",
       "   a dry finish  a hint  a lovely example  a mix  a nice whisky    a nose  \\\n",
       "0           0.0     0.0               0.0    0.0            0.0  0.000000   \n",
       "1           0.0     0.0               0.0    0.0            0.0  0.000000   \n",
       "2           0.0     0.0               0.0    0.0            0.0  0.386616   \n",
       "3           0.0     0.0               0.0    0.0            0.0  0.000000   \n",
       "4           0.0     0.0               0.0    0.0            0.0  0.000000   \n",
       "\n",
       "   a secondary period  a suggestion  a touch  a whisky  almond     anise  \\\n",
       "0                 0.0           0.0      0.0       0.0     0.0  0.000000   \n",
       "1                 0.0           0.0      0.0       0.0     0.0  0.000000   \n",
       "2                 0.0           0.0      0.0       0.0     0.0  0.000000   \n",
       "3                 0.0           0.0      0.0       0.0     0.0  0.423885   \n",
       "4                 0.0           0.0      0.0       0.0     0.0  0.000000   \n",
       "\n",
       "   aniseed    banana  black cherry  black currant  black pepper  \\\n",
       "0      0.0  0.000000           0.0            0.0           0.0   \n",
       "1      0.0  0.000000           0.0            0.0           0.0   \n",
       "2      0.0  0.000000           0.0            0.0           0.0   \n",
       "3      0.0  0.000000           0.0            0.0           0.0   \n",
       "4      0.0  0.465437           0.0            0.0           0.0   \n",
       "\n",
       "   black raspberry  bourbon  bourbon cask  bramble  brazil nut  bright fruit  \\\n",
       "0              0.0      0.0           0.0      0.0         0.0           0.0   \n",
       "1              0.0      0.0           0.0      0.0         0.0           0.0   \n",
       "2              0.0      0.0           0.0      0.0         0.0           0.0   \n",
       "3              0.0      0.0           0.0      0.0         0.0           0.0   \n",
       "4              0.0      0.0           0.0      0.0         0.0           0.0   \n",
       "\n",
       "   brine  brown sugar  buffalo trace  butterscotch  caramel  cask  \\\n",
       "0    0.0          0.0            0.0           0.0      0.0   0.0   \n",
       "1    0.0          0.0            0.0           0.0      0.0   0.0   \n",
       "2    0.0          0.0            0.0           0.0      0.0   0.0   \n",
       "3    0.0          0.0            0.0           0.0      0.0   0.0   \n",
       "4    0.0          0.0            0.0           0.0      0.0   0.0   \n",
       "\n",
       "   cask strength  char  chewy toffee  chili  chocolate fudge  cinnamon  \\\n",
       "0            0.0   0.0           0.0    0.0              0.0  0.289048   \n",
       "1            0.0   0.0           0.0    0.0              0.0  0.000000   \n",
       "2            0.0   0.0           0.0    0.0              0.0  0.000000   \n",
       "3            0.0   0.0           0.0    0.0              0.0  0.000000   \n",
       "4            0.0   0.0           0.0    0.0              0.0  0.000000   \n",
       "\n",
       "   citrus  citrus fruit  clove  cocktail cherry  cocoa  cocoa powder  coconut  \\\n",
       "0     0.0           0.0    0.0              0.0    0.0           0.0      0.0   \n",
       "1     0.0           0.0    0.0              0.0    0.0           0.0      0.0   \n",
       "2     0.0           0.0    0.0              0.0    0.0           0.0      0.0   \n",
       "3     0.0           0.0    0.0              0.0    0.0           0.0      0.0   \n",
       "4     0.0           0.0    0.0              0.0    0.0           0.0      0.0   \n",
       "\n",
       "   coconut cream  corn  crème brûlée  currant  dark chocolate  date  \\\n",
       "0            0.0   0.0           0.0      0.0         0.42047   0.0   \n",
       "1            0.0   0.0           0.0      0.0         0.00000   0.0   \n",
       "2            0.0   0.0           0.0      0.0         0.00000   0.0   \n",
       "3            0.0   0.0           0.0      0.0         0.00000   0.0   \n",
       "4            0.0   0.0           0.0      0.0         0.00000   0.0   \n",
       "\n",
       "   dry spice  earth  editor 's choice  espresso  everything  fig  flavor  \\\n",
       "0        0.0    0.0               0.0  0.000000         0.0  0.0     0.0   \n",
       "1        0.0    0.0               0.0  0.000000         0.0  0.0     0.0   \n",
       "2        0.0    0.0               0.0  0.000000         0.0  0.0     0.0   \n",
       "3        0.0    0.0               0.0  0.423885         0.0  0.0     0.0   \n",
       "4        0.0    0.0               0.0  0.000000         0.0  0.0     0.0   \n",
       "\n",
       "   fresh fruit     fruit  ginger  golden raisin  gooseberry  grain  grass  \\\n",
       "0          0.0  0.000000     0.0            0.0    0.000000    0.0    0.0   \n",
       "1          0.0  0.000000     0.0            0.0    0.000000    0.0    0.0   \n",
       "2          0.0  0.000000     0.0            0.0    0.386616    0.0    0.0   \n",
       "3          0.0  0.322485     0.0            0.0    0.000000    0.0    0.0   \n",
       "4          0.0  0.000000     0.0            0.0    0.000000    0.0    0.0   \n",
       "\n",
       "   hazelnut  heather honey  hint  honey  honeyed vanilla    i  just the hint  \\\n",
       "0       0.0            0.0   0.0    0.0              0.0  0.0            0.0   \n",
       "1       0.0            0.0   0.0    0.0              0.0  0.0            0.0   \n",
       "2       0.0            0.0   0.0    0.0              0.0  0.0            0.0   \n",
       "3       0.0            0.0   0.0    0.0              0.0  0.0            0.0   \n",
       "4       0.0            0.0   0.0    0.0              0.0  0.0            0.0   \n",
       "\n",
       "   leather  length  licorice  licorice root  light  linseed  lot      malt  \\\n",
       "0      0.0     0.0  0.364828            0.0    0.0      0.0  0.0  0.364828   \n",
       "1      0.0     0.0  0.000000            0.0    0.0      0.0  0.0  0.000000   \n",
       "2      0.0     0.0  0.000000            0.0    0.0      0.0  0.0  0.000000   \n",
       "3      0.0     0.0  0.000000            0.0    0.0      0.0  0.0  0.000000   \n",
       "4      0.0     0.0  0.000000            0.0    0.0      0.0  0.0  0.000000   \n",
       "\n",
       "   maple syrup  marshmallow  marzipan    mass  maturation  milk chocolate  \\\n",
       "0          0.0          0.0       0.0  0.0000         0.0             0.0   \n",
       "1          0.0          0.0       0.0  0.0000         0.0             0.0   \n",
       "2          0.0          0.0       0.0  0.0000         0.0             0.0   \n",
       "3          0.0          0.0       0.0  0.0000         0.0             0.0   \n",
       "4          0.0          0.0       0.0  0.4971         0.0             0.0   \n",
       "\n",
       "   milky coffee  nectarine      none  note  nougat  nutmeg  nutty toffee  \\\n",
       "0           0.0        0.0  0.000000   0.0     0.0     0.0           0.0   \n",
       "1           0.0        0.0  0.000000   0.0     0.0     0.0           0.0   \n",
       "2           0.0        0.0  0.386616   0.0     0.0     0.0           0.0   \n",
       "3           0.0        0.0  0.000000   0.0     0.0     0.0           0.0   \n",
       "4           0.0        0.0  0.000000   0.0     0.0     0.0           0.0   \n",
       "\n",
       "        oak  orange  orchard fruit  other  palate  part  peach      peat  \\\n",
       "0  0.000000     0.0            0.0    0.0     0.0   0.0    0.0  0.000000   \n",
       "1  0.000000     0.0            0.0    0.0     0.0   0.0    0.0  0.680973   \n",
       "2  0.243322     0.0            0.0    0.0     0.0   0.0    0.0  0.000000   \n",
       "3  0.000000     0.0            0.0    0.0     0.0   0.0    0.0  0.000000   \n",
       "4  0.000000     0.0            0.0    0.0     0.0   0.0    0.0  0.000000   \n",
       "\n",
       "   pepper  pineapple  plain chocolate  plenty      plum  polished leather  \\\n",
       "0     0.0        0.0              0.0     0.0  0.000000               0.0   \n",
       "1     0.0        0.0              0.0     0.0  0.000000               0.0   \n",
       "2     0.0        0.0              0.0     0.0  0.000000               0.0   \n",
       "3     0.0        0.0              0.0     0.0  0.000000               0.0   \n",
       "4     0.0        0.0              0.0     0.0  0.465437               0.0   \n",
       "\n",
       "   polished oak  price    raisin  raspberry  ripe berry  rum  salt   seaweed  \\\n",
       "0           0.0    0.0  0.000000        0.0         0.0  0.0   0.0  0.000000   \n",
       "1           0.0    0.0  0.000000        0.0         0.0  0.0   0.0  0.000000   \n",
       "2           0.0    0.0  0.000000        0.0         0.0  0.0   0.0  0.000000   \n",
       "3           0.0    0.0  0.000000        0.0         0.0  0.0   0.0  0.383242   \n",
       "4           0.0    0.0  0.440877        0.0         0.0  0.0   0.0  0.000000   \n",
       "\n",
       "     sherry  sherry cask  smoke  solvent  something  spice  strawberry  \\\n",
       "0  0.449074          0.0    0.0      0.0        0.0    0.0         0.0   \n",
       "1  0.000000          0.0    0.0      0.0        0.0    0.0         0.0   \n",
       "2  0.000000          0.0    0.0      0.0        0.0    0.0         0.0   \n",
       "3  0.000000          0.0    0.0      0.0        0.0    0.0         0.0   \n",
       "4  0.000000          0.0    0.0      0.0        0.0    0.0         0.0   \n",
       "\n",
       "   sultana  sweet fruit  sweet sherry  sweetness  syrup  tangerine  texture  \\\n",
       "0      0.0     0.000000           0.0        0.0    0.0        0.0      0.0   \n",
       "1      0.0     0.000000           0.0        0.0    0.0        0.0      0.0   \n",
       "2      0.0     0.386616           0.0        0.0    0.0        0.0      0.0   \n",
       "3      0.0     0.000000           0.0        0.0    0.0        0.0      0.0   \n",
       "4      0.0     0.000000           0.0        0.0    0.0        0.0      0.0   \n",
       "\n",
       "   the barrel  the bunch  the cask  the finish  the flavor  the heat  \\\n",
       "0         0.0        0.0  0.000000    0.202001         0.0  0.000000   \n",
       "1         0.0        0.0  0.680973    0.000000         0.0  0.000000   \n",
       "2         0.0        0.0  0.000000    0.000000         0.0  0.386616   \n",
       "3         0.0        0.0  0.000000    0.203642         0.0  0.000000   \n",
       "4         0.0        0.0  0.000000    0.000000         0.0  0.000000   \n",
       "\n",
       "   the impression  the long finish  the medium - length finish  the middle  \\\n",
       "0             0.0              0.0                         0.0    0.000000   \n",
       "1             0.0              0.0                         0.0    0.000000   \n",
       "2             0.0              0.0                         0.0    0.000000   \n",
       "3             0.0              0.0                         0.0    0.452721   \n",
       "4             0.0              0.0                         0.0    0.000000   \n",
       "\n",
       "   the mouth  the nose  the palate  the same time  the second release  \\\n",
       "0   0.000000  0.202001    0.177629            0.0                 0.0   \n",
       "1   0.000000  0.000000    0.269355            0.0                 0.0   \n",
       "2   0.314087  0.000000    0.000000            0.0                 0.0   \n",
       "3   0.000000  0.000000    0.000000            0.0                 0.0   \n",
       "4   0.000000  0.000000    0.000000            0.0                 0.0   \n",
       "\n",
       "   the series  the smoke  the tongue  the u.s  the whisky  the wood  \\\n",
       "0         0.0        0.0         0.0      0.0    0.398283       0.0   \n",
       "1         0.0        0.0         0.0      0.0    0.000000       0.0   \n",
       "2         0.0        0.0         0.0      0.0    0.000000       0.0   \n",
       "3         0.0        0.0         0.0      0.0    0.000000       0.0   \n",
       "4         0.0        0.0         0.0      0.0    0.000000       0.0   \n",
       "\n",
       "   this bourbon  this expression  this one  this whiskey  this whisky  time  \\\n",
       "0           0.0              0.0  0.000000           0.0          0.0   0.0   \n",
       "1           0.0              0.0  0.000000           0.0          0.0   0.0   \n",
       "2           0.0              0.0  0.000000           0.0          0.0   0.0   \n",
       "3           0.0              0.0  0.342599           0.0          0.0   0.0   \n",
       "4           0.0              0.0  0.000000           0.0          0.0   0.0   \n",
       "\n",
       "   tinned peach  tobacco  toffee  vanilla  vanilla fudge  virginia  walnut  \\\n",
       "0           0.0      0.0     0.0      0.0            0.0       0.0     0.0   \n",
       "1           0.0      0.0     0.0      0.0            0.0       0.0     0.0   \n",
       "2           0.0      0.0     0.0      0.0            0.0       0.0     0.0   \n",
       "3           0.0      0.0     0.0      0.0            0.0       0.0     0.0   \n",
       "4           0.0      0.0     0.0      0.0            0.0       0.0     0.0   \n",
       "\n",
       "      water  what  whisky  white pepper  \n",
       "0  0.000000   0.0     0.0           0.0  \n",
       "1  0.000000   0.0     0.0           0.0  \n",
       "2  0.275396   0.0     0.0           0.0  \n",
       "3  0.000000   0.0     0.0           0.0  \n",
       "4  0.000000   0.0     0.0           0.0  "
      ]
     },
     "execution_count": 117,
     "metadata": {},
     "output_type": "execute_result"
    }
   ],
   "source": [
    "vect = TfidfVectorizer(tokenizer=tokenize, min_df=.02, max_df=.9)\n",
    "\n",
    "sparse = vect.fit_transform(train['description'].sample(100))\n",
    "\n",
    "dtm = pd.DataFrame(sparse.todense(), columns=vect.get_feature_names())\n",
    "print(dtm.shape)\n",
    "dtm.head()"
   ]
  },
  {
   "cell_type": "code",
   "execution_count": null,
   "metadata": {},
   "outputs": [],
   "source": [
    "vect = TfidfVectorizer(tokenizer=tokenize, min_df=.02, max_df=.9)\n",
    "\n",
    "svd = TruncatedSVD(algorithm='randomized')\n",
    "\n",
    "sgdc = SGDClassifier(early_stopping=True)\n",
    "\n",
    "pipe7 = Pipeline([('vect', vect), ('svd', svd), ('sgdc', sgdc)])\n",
    "\n",
    "parameters7 = { \n",
    "    'svd__n_iter': (5, 10, 15),\n",
    "    'svd__n_components': (30, 50, 70, 80, 90, 100, 150)\n",
    "}\n",
    "\n",
    "grid_search7 = GridSearchCV(pipe7, parameters7, cv=5, n_jobs=-1, verbose=10)\n",
    "grid_search7.fit(train['description'], train['category'])"
   ]
  },
  {
   "cell_type": "markdown",
   "metadata": {},
   "source": [
    "#### Load Model"
   ]
  },
  {
   "cell_type": "code",
   "execution_count": null,
   "metadata": {},
   "outputs": [],
   "source": [
    "# model = load_model('TFIDF_RF')"
   ]
  },
  {
   "cell_type": "code",
   "execution_count": null,
   "metadata": {
    "ExecuteTime": {
     "end_time": "2019-10-03T02:30:05.378029Z",
     "start_time": "2019-10-03T02:28:56.356Z"
    }
   },
   "outputs": [],
   "source": [
    "grid_search7.best_estimator_"
   ]
  },
  {
   "cell_type": "code",
   "execution_count": null,
   "metadata": {
    "ExecuteTime": {
     "end_time": "2019-10-03T02:30:05.379827Z",
     "start_time": "2019-10-03T02:28:56.780Z"
    }
   },
   "outputs": [],
   "source": [
    "grid_search7.best_params_"
   ]
  },
  {
   "cell_type": "code",
   "execution_count": null,
   "metadata": {
    "ExecuteTime": {
     "end_time": "2019-10-03T02:30:05.381189Z",
     "start_time": "2019-10-03T02:28:57.771Z"
    }
   },
   "outputs": [],
   "source": [
    "grid_search7.best_score_"
   ]
  },
  {
   "cell_type": "markdown",
   "metadata": {},
   "source": [
    "#### Save submission"
   ]
  },
  {
   "cell_type": "code",
   "execution_count": null,
   "metadata": {
    "ExecuteTime": {
     "end_time": "2019-10-03T01:18:16.137584Z",
     "start_time": "2019-10-03T01:18:16.034721Z"
    }
   },
   "outputs": [],
   "source": [
    "submission(grid_search7, 'CUSTOM_TOKENIZER_NOUNS_TFIDF_SVD_SGDC')"
   ]
  },
  {
   "cell_type": "markdown",
   "metadata": {},
   "source": [
    "#### Pickle Model 🥒"
   ]
  },
  {
   "cell_type": "code",
   "execution_count": null,
   "metadata": {},
   "outputs": [],
   "source": [
    "pickle(grid_search7, 'CUSTOM_TOKENIZER_NOUNS_TFIDF_SVD_SGDC')"
   ]
  },
  {
   "cell_type": "markdown",
   "metadata": {},
   "source": [
    "### Spacy Embeddings + SGDC"
   ]
  },
  {
   "cell_type": "code",
   "execution_count": null,
   "metadata": {},
   "outputs": [],
   "source": [
    "def get_word_vectors(docs):\n",
    "    return [nlp(doc).vector for doc in docs]\n",
    "\n",
    "train_desc_embeddings = get_word_vectors(train['description']) \n",
    "test_desc_embeddings = get_word_vectors(test['description']) "
   ]
  },
  {
   "cell_type": "code",
   "execution_count": null,
   "metadata": {},
   "outputs": [],
   "source": [
    "sgdc = SGDClassifier(early_stopping=True)"
   ]
  },
  {
   "cell_type": "code",
   "execution_count": null,
   "metadata": {
    "ExecuteTime": {
     "end_time": "2019-10-03T02:30:05.382266Z",
     "start_time": "2019-10-03T02:28:58.212Z"
    }
   },
   "outputs": [],
   "source": [
    "submission(, 'CUSTOM_TOKENIZER_TFIDF_SVD_SGDC')"
   ]
  },
  {
   "cell_type": "markdown",
   "metadata": {},
   "source": [
    "#### Save submission"
   ]
  },
  {
   "cell_type": "code",
   "execution_count": null,
   "metadata": {
    "ExecuteTime": {
     "end_time": "2019-10-03T01:18:16.137584Z",
     "start_time": "2019-10-03T01:18:16.034721Z"
    }
   },
   "outputs": [],
   "source": [
    "submission(, 'CUSTOM_TOKENIZER_LEMMAS_TFIDF_SVD_SGDC')"
   ]
  },
  {
   "cell_type": "markdown",
   "metadata": {},
   "source": [
    "#### Pickle Model 🥒"
   ]
  },
  {
   "cell_type": "code",
   "execution_count": null,
   "metadata": {},
   "outputs": [],
   "source": [
    "pickle(, 'CUSTOM_TOKENIZER_LEMMAS_TFIDF_SVD_SGDC')"
   ]
  },
  {
   "cell_type": "markdown",
   "metadata": {},
   "source": [
    "### Majority Vote"
   ]
  },
  {
   "cell_type": "code",
   "execution_count": null,
   "metadata": {
    "ExecuteTime": {
     "end_time": "2019-10-02T03:15:18.336713Z",
     "start_time": "2019-10-02T03:15:18.333686Z"
    }
   },
   "outputs": [],
   "source": [
    "# import pandas as pd\n",
    "\n",
    "# # Filenames of your submissions you want to ensemble\n",
    "# files = ['submission-01.csv', 'submission-02.csv', 'submission-03.csv']\n",
    "\n",
    "# target = 'status_group'\n",
    "# submissions = (pd.read_csv(file)[[target]] for file in files)\n",
    "# ensemble = pd.concat(submissions, axis='columns')\n",
    "# majority_vote = ensemble.mode(axis='columns')[0]\n",
    "\n",
    "# sample_submission = pd.read_csv('sample_submission.csv')\n",
    "# submission = sample_submission.copy()\n",
    "# submission[target] = majority_vote\n",
    "# submission.to_csv('my-ultimate-ensemble-submission.csv', index=False)"
   ]
  },
  {
   "cell_type": "markdown",
   "metadata": {},
   "source": [
    "## Bayesian Optimization"
   ]
  },
  {
   "cell_type": "code",
   "execution_count": 82,
   "metadata": {},
   "outputs": [],
   "source": [
    "# from bayes_opt import BayesianOptimization\n",
    "\n",
    "\n",
    "# def sgdc_pipe(n_iter, n_components, max_iter):\n",
    "    \n",
    "#     vect = TfidfVectorizer(tokenizer=tokenize, ngram_range=(1, 3))\n",
    "#     svd = TruncatedSVD(algorithm='randomized')\n",
    "#     sgdc = SGDClassifier(early_stopping=True)\n",
    "\n",
    "#     pipeline = Pipeline([('vect', vect), ('svd', svd), ('sgdc', sgdc)])\n",
    "    \n",
    "#     return pipeline\n",
    "\n",
    "\n",
    "# def sgdc_cv():\n",
    "#     scores = cross_val_score(pipeline, data, targets, scoring='auc')\n",
    "# pbounds = { \n",
    "#     'svd__n_iter': (10, 20),\n",
    "#     'svd__n_components': (100, 1000),\n",
    "#     'sgdc__max_iter': (1000, 1500)\n",
    "# }\n",
    "\n"
   ]
  },
  {
   "cell_type": "code",
   "execution_count": null,
   "metadata": {},
   "outputs": [],
   "source": []
  }
 ],
 "metadata": {
  "kernelspec": {
   "display_name": "U4-S1-NLP (Python3)",
   "language": "python",
   "name": "u4-s1-nlp"
  },
  "language_info": {
   "codemirror_mode": {
    "name": "ipython",
    "version": 3
   },
   "file_extension": ".py",
   "mimetype": "text/x-python",
   "name": "python",
   "nbconvert_exporter": "python",
   "pygments_lexer": "ipython3",
   "version": "3.7.3"
  }
 },
 "nbformat": 4,
 "nbformat_minor": 2
}
