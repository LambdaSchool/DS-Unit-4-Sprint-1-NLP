{
 "cells": [
  {
   "cell_type": "code",
   "execution_count": 1,
   "metadata": {},
   "outputs": [],
   "source": [
    "# !kaggle competitions download -c ds3-which-whisky"
   ]
  },
  {
   "cell_type": "code",
   "execution_count": 2,
   "metadata": {},
   "outputs": [
    {
     "data": {
      "text/html": [
       "<div>\n",
       "<style scoped>\n",
       "    .dataframe tbody tr th:only-of-type {\n",
       "        vertical-align: middle;\n",
       "    }\n",
       "\n",
       "    .dataframe tbody tr th {\n",
       "        vertical-align: top;\n",
       "    }\n",
       "\n",
       "    .dataframe thead th {\n",
       "        text-align: right;\n",
       "    }\n",
       "</style>\n",
       "<table border=\"1\" class=\"dataframe\">\n",
       "  <thead>\n",
       "    <tr style=\"text-align: right;\">\n",
       "      <th></th>\n",
       "      <th>id</th>\n",
       "      <th>author</th>\n",
       "      <th>description</th>\n",
       "      <th>price</th>\n",
       "      <th>ratingValue</th>\n",
       "      <th>pert_alcohol</th>\n",
       "      <th>category</th>\n",
       "    </tr>\n",
       "  </thead>\n",
       "  <tbody>\n",
       "    <tr>\n",
       "      <th>0</th>\n",
       "      <td>1</td>\n",
       "      <td>John Hansell</td>\n",
       "      <td>A marriage of 13 and 18 year old bourbons. A m...</td>\n",
       "      <td>85.0</td>\n",
       "      <td>97</td>\n",
       "      <td>51.5</td>\n",
       "      <td>2.0</td>\n",
       "    </tr>\n",
       "    <tr>\n",
       "      <th>1</th>\n",
       "      <td>2</td>\n",
       "      <td>Dave Broom</td>\n",
       "      <td>There have been some legendary Bowmores from t...</td>\n",
       "      <td>13500.0</td>\n",
       "      <td>97</td>\n",
       "      <td>42.9</td>\n",
       "      <td>1.0</td>\n",
       "    </tr>\n",
       "    <tr>\n",
       "      <th>2</th>\n",
       "      <td>3</td>\n",
       "      <td>John Hansell</td>\n",
       "      <td>This bottling celebrates master distiller Park...</td>\n",
       "      <td>150.0</td>\n",
       "      <td>97</td>\n",
       "      <td>50.0</td>\n",
       "      <td>2.0</td>\n",
       "    </tr>\n",
       "    <tr>\n",
       "      <th>3</th>\n",
       "      <td>4</td>\n",
       "      <td>John Hansell</td>\n",
       "      <td>What impresses me most is how this whisky evol...</td>\n",
       "      <td>4500.0</td>\n",
       "      <td>97</td>\n",
       "      <td>40.5</td>\n",
       "      <td>1.0</td>\n",
       "    </tr>\n",
       "    <tr>\n",
       "      <th>4</th>\n",
       "      <td>6</td>\n",
       "      <td>Davin de Kergommeaux</td>\n",
       "      <td>After 40 years in barrels, the trademark Canad...</td>\n",
       "      <td>199.0</td>\n",
       "      <td>96</td>\n",
       "      <td>45.0</td>\n",
       "      <td>NaN</td>\n",
       "    </tr>\n",
       "  </tbody>\n",
       "</table>\n",
       "</div>"
      ],
      "text/plain": [
       "   id                author  \\\n",
       "0   1          John Hansell   \n",
       "1   2            Dave Broom   \n",
       "2   3          John Hansell   \n",
       "3   4          John Hansell   \n",
       "4   6  Davin de Kergommeaux   \n",
       "\n",
       "                                         description    price  ratingValue  \\\n",
       "0  A marriage of 13 and 18 year old bourbons. A m...     85.0           97   \n",
       "1  There have been some legendary Bowmores from t...  13500.0           97   \n",
       "2  This bottling celebrates master distiller Park...    150.0           97   \n",
       "3  What impresses me most is how this whisky evol...   4500.0           97   \n",
       "4  After 40 years in barrels, the trademark Canad...    199.0           96   \n",
       "\n",
       "   pert_alcohol  category  \n",
       "0          51.5       2.0  \n",
       "1          42.9       1.0  \n",
       "2          50.0       2.0  \n",
       "3          40.5       1.0  \n",
       "4          45.0       NaN  "
      ]
     },
     "execution_count": 2,
     "metadata": {},
     "output_type": "execute_result"
    }
   ],
   "source": [
    "import pandas as pd\n",
    "train_features = pd.read_csv('train.csv.zip')\n",
    "\n",
    "train_features.head()"
   ]
  },
  {
   "cell_type": "code",
   "execution_count": 3,
   "metadata": {},
   "outputs": [
    {
     "data": {
      "text/plain": [
       "(2874, 7)"
      ]
     },
     "execution_count": 3,
     "metadata": {},
     "output_type": "execute_result"
    }
   ],
   "source": [
    "train_features.shape"
   ]
  },
  {
   "cell_type": "code",
   "execution_count": 4,
   "metadata": {},
   "outputs": [],
   "source": [
    "train_features = train_features.dropna()"
   ]
  },
  {
   "cell_type": "code",
   "execution_count": 5,
   "metadata": {},
   "outputs": [
    {
     "data": {
      "text/plain": [
       "0    2\n",
       "1    1\n",
       "2    2\n",
       "3    1\n",
       "5    2\n",
       "Name: category, dtype: int64"
      ]
     },
     "execution_count": 5,
     "metadata": {},
     "output_type": "execute_result"
    }
   ],
   "source": [
    "train_labels = train_features['category'].astype(int)\n",
    "\n",
    "train_labels.head()"
   ]
  },
  {
   "cell_type": "code",
   "execution_count": 6,
   "metadata": {},
   "outputs": [],
   "source": [
    "\n",
    "\n",
    "train_features = train_features.drop(columns=['id', 'author','price', 'ratingValue', 'pert_alcohol', 'category'])"
   ]
  },
  {
   "cell_type": "code",
   "execution_count": 7,
   "metadata": {},
   "outputs": [
    {
     "data": {
      "text/html": [
       "<div>\n",
       "<style scoped>\n",
       "    .dataframe tbody tr th:only-of-type {\n",
       "        vertical-align: middle;\n",
       "    }\n",
       "\n",
       "    .dataframe tbody tr th {\n",
       "        vertical-align: top;\n",
       "    }\n",
       "\n",
       "    .dataframe thead th {\n",
       "        text-align: right;\n",
       "    }\n",
       "</style>\n",
       "<table border=\"1\" class=\"dataframe\">\n",
       "  <thead>\n",
       "    <tr style=\"text-align: right;\">\n",
       "      <th></th>\n",
       "      <th>description</th>\n",
       "    </tr>\n",
       "  </thead>\n",
       "  <tbody>\n",
       "    <tr>\n",
       "      <th>0</th>\n",
       "      <td>A marriage of 13 and 18 year old bourbons. A m...</td>\n",
       "    </tr>\n",
       "    <tr>\n",
       "      <th>1</th>\n",
       "      <td>There have been some legendary Bowmores from t...</td>\n",
       "    </tr>\n",
       "    <tr>\n",
       "      <th>2</th>\n",
       "      <td>This bottling celebrates master distiller Park...</td>\n",
       "    </tr>\n",
       "    <tr>\n",
       "      <th>3</th>\n",
       "      <td>What impresses me most is how this whisky evol...</td>\n",
       "    </tr>\n",
       "    <tr>\n",
       "      <th>5</th>\n",
       "      <td>A caramel-laden fruit bouquet, followed by une...</td>\n",
       "    </tr>\n",
       "  </tbody>\n",
       "</table>\n",
       "</div>"
      ],
      "text/plain": [
       "                                         description\n",
       "0  A marriage of 13 and 18 year old bourbons. A m...\n",
       "1  There have been some legendary Bowmores from t...\n",
       "2  This bottling celebrates master distiller Park...\n",
       "3  What impresses me most is how this whisky evol...\n",
       "5  A caramel-laden fruit bouquet, followed by une..."
      ]
     },
     "execution_count": 7,
     "metadata": {},
     "output_type": "execute_result"
    }
   ],
   "source": [
    "train_features.head()"
   ]
  },
  {
   "cell_type": "code",
   "execution_count": 8,
   "metadata": {},
   "outputs": [
    {
     "data": {
      "text/plain": [
       "(2476,)"
      ]
     },
     "execution_count": 8,
     "metadata": {},
     "output_type": "execute_result"
    }
   ],
   "source": [
    "train_labels.shape"
   ]
  },
  {
   "cell_type": "code",
   "execution_count": 9,
   "metadata": {},
   "outputs": [
    {
     "data": {
      "text/html": [
       "<div>\n",
       "<style scoped>\n",
       "    .dataframe tbody tr th:only-of-type {\n",
       "        vertical-align: middle;\n",
       "    }\n",
       "\n",
       "    .dataframe tbody tr th {\n",
       "        vertical-align: top;\n",
       "    }\n",
       "\n",
       "    .dataframe thead th {\n",
       "        text-align: right;\n",
       "    }\n",
       "</style>\n",
       "<table border=\"1\" class=\"dataframe\">\n",
       "  <thead>\n",
       "    <tr style=\"text-align: right;\">\n",
       "      <th></th>\n",
       "      <th>id</th>\n",
       "      <th>author</th>\n",
       "      <th>description</th>\n",
       "      <th>price</th>\n",
       "      <th>ratingValue</th>\n",
       "      <th>pert_alcohol</th>\n",
       "    </tr>\n",
       "  </thead>\n",
       "  <tbody>\n",
       "    <tr>\n",
       "      <th>0</th>\n",
       "      <td>955</td>\n",
       "      <td>Fred Minnick</td>\n",
       "      <td>Think carnival aromas—the good ones, anyway—me...</td>\n",
       "      <td>36.0</td>\n",
       "      <td>90</td>\n",
       "      <td>50.0</td>\n",
       "    </tr>\n",
       "    <tr>\n",
       "      <th>1</th>\n",
       "      <td>3532</td>\n",
       "      <td>Lew Bryson</td>\n",
       "      <td>A blend of three bourbons, between 6 and 12 ye...</td>\n",
       "      <td>90.0</td>\n",
       "      <td>82</td>\n",
       "      <td>49.3</td>\n",
       "    </tr>\n",
       "    <tr>\n",
       "      <th>2</th>\n",
       "      <td>1390</td>\n",
       "      <td>Davin de Kergommeaux</td>\n",
       "      <td>The nose is focused on cereal, hints of fresh ...</td>\n",
       "      <td>48.0</td>\n",
       "      <td>89</td>\n",
       "      <td>45.0</td>\n",
       "    </tr>\n",
       "    <tr>\n",
       "      <th>3</th>\n",
       "      <td>1024</td>\n",
       "      <td>Gavin Smith</td>\n",
       "      <td>Swiss-based Chapter 7 released this 19 year ol...</td>\n",
       "      <td>180.0</td>\n",
       "      <td>90</td>\n",
       "      <td>55.8</td>\n",
       "    </tr>\n",
       "    <tr>\n",
       "      <th>4</th>\n",
       "      <td>1902</td>\n",
       "      <td>Gavin Smith</td>\n",
       "      <td>Valkyrie replaces the current Dark Origins exp...</td>\n",
       "      <td>71.0</td>\n",
       "      <td>87</td>\n",
       "      <td>45.9</td>\n",
       "    </tr>\n",
       "  </tbody>\n",
       "</table>\n",
       "</div>"
      ],
      "text/plain": [
       "     id                author  \\\n",
       "0   955          Fred Minnick   \n",
       "1  3532            Lew Bryson   \n",
       "2  1390  Davin de Kergommeaux   \n",
       "3  1024           Gavin Smith   \n",
       "4  1902           Gavin Smith   \n",
       "\n",
       "                                         description  price  ratingValue  \\\n",
       "0  Think carnival aromas—the good ones, anyway—me...   36.0           90   \n",
       "1  A blend of three bourbons, between 6 and 12 ye...   90.0           82   \n",
       "2  The nose is focused on cereal, hints of fresh ...   48.0           89   \n",
       "3  Swiss-based Chapter 7 released this 19 year ol...  180.0           90   \n",
       "4  Valkyrie replaces the current Dark Origins exp...   71.0           87   \n",
       "\n",
       "   pert_alcohol  \n",
       "0          50.0  \n",
       "1          49.3  \n",
       "2          45.0  \n",
       "3          55.8  \n",
       "4          45.9  "
      ]
     },
     "execution_count": 9,
     "metadata": {},
     "output_type": "execute_result"
    }
   ],
   "source": [
    "test_features = pd.read_csv('test.csv')\n",
    "\n",
    "test_features.head()"
   ]
  },
  {
   "cell_type": "code",
   "execution_count": 10,
   "metadata": {},
   "outputs": [
    {
     "data": {
      "text/plain": [
       "(288, 6)"
      ]
     },
     "execution_count": 10,
     "metadata": {},
     "output_type": "execute_result"
    }
   ],
   "source": [
    "test_features.shape"
   ]
  },
  {
   "cell_type": "code",
   "execution_count": 57,
   "metadata": {},
   "outputs": [],
   "source": [
    "# Import Statements\n",
    "from sklearn.pipeline import Pipeline\n",
    "from sklearn.model_selection import train_test_split\n",
    "from sklearn.linear_model import SGDClassifier\n",
    "from sklearn.feature_extraction.text import TfidfVectorizer"
   ]
  },
  {
   "cell_type": "code",
   "execution_count": 58,
   "metadata": {},
   "outputs": [],
   "source": [
    "# Create Pipeline\n",
    "\n",
    "vect = TfidfVectorizer(stop_words='english')\n",
    "sgdc = SGDClassifier()\n",
    "\n",
    "pipe = Pipeline([('vect', vect), ('clf', sgdc)])"
   ]
  },
  {
   "cell_type": "code",
   "execution_count": 44,
   "metadata": {},
   "outputs": [],
   "source": [
    "X = train_features['description']\n",
    "y = train_labels"
   ]
  },
  {
   "cell_type": "code",
   "execution_count": 68,
   "metadata": {},
   "outputs": [],
   "source": [
    "# initail Split\n",
    "X_train, X_test, y_train, y_test = train_test_split(\n",
    "    X, y, test_size=len(, random_state=42)"
   ]
  },
  {
   "cell_type": "code",
   "execution_count": 69,
   "metadata": {},
   "outputs": [],
   "source": [
    "X_val, X_test, y_val, y_test = train_test_split(\n",
    "    X_test, y_test, test_size=.3, random_state=42)"
   ]
  },
  {
   "cell_type": "code",
   "execution_count": 70,
   "metadata": {},
   "outputs": [
    {
     "data": {
      "text/plain": [
       "Pipeline(memory=None,\n",
       "     steps=[('vect', TfidfVectorizer(analyzer='word', binary=False, decode_error='strict',\n",
       "        dtype=<class 'numpy.float64'>, encoding='utf-8', input='content',\n",
       "        lowercase=True, max_df=1.0, max_features=None, min_df=1,\n",
       "        ngram_range=(1, 1), norm='l2', preprocessor=None, smooth_idf=True,\n",
       "...m_state=None, shuffle=True, tol=None,\n",
       "       validation_fraction=0.1, verbose=0, warm_start=False))])"
      ]
     },
     "execution_count": 70,
     "metadata": {},
     "output_type": "execute_result"
    }
   ],
   "source": [
    "# Fit Pipeline\n",
    "pipe.fit(X_train, y_train)"
   ]
  },
  {
   "cell_type": "code",
   "execution_count": 71,
   "metadata": {},
   "outputs": [
    {
     "data": {
      "text/plain": [
       "0.9365384615384615"
      ]
     },
     "execution_count": 71,
     "metadata": {},
     "output_type": "execute_result"
    }
   ],
   "source": [
    "score = pipe.score(X_val, y_val)\n",
    "\n",
    "score"
   ]
  },
  {
   "cell_type": "code",
   "execution_count": 81,
   "metadata": {},
   "outputs": [],
   "source": [
    "y_pred = pipe.predict(test_features['description'])"
   ]
  },
  {
   "cell_type": "code",
   "execution_count": 82,
   "metadata": {},
   "outputs": [
    {
     "data": {
      "text/plain": [
       "(288, (288, 6))"
      ]
     },
     "execution_count": 82,
     "metadata": {},
     "output_type": "execute_result"
    }
   ],
   "source": [
    "len(y_pred), submission.shape"
   ]
  },
  {
   "cell_type": "code",
   "execution_count": 83,
   "metadata": {},
   "outputs": [
    {
     "data": {
      "text/html": [
       "<div>\n",
       "<style scoped>\n",
       "    .dataframe tbody tr th:only-of-type {\n",
       "        vertical-align: middle;\n",
       "    }\n",
       "\n",
       "    .dataframe tbody tr th {\n",
       "        vertical-align: top;\n",
       "    }\n",
       "\n",
       "    .dataframe thead th {\n",
       "        text-align: right;\n",
       "    }\n",
       "</style>\n",
       "<table border=\"1\" class=\"dataframe\">\n",
       "  <thead>\n",
       "    <tr style=\"text-align: right;\">\n",
       "      <th></th>\n",
       "      <th>id</th>\n",
       "      <th>author</th>\n",
       "      <th>description</th>\n",
       "      <th>price</th>\n",
       "      <th>ratingValue</th>\n",
       "      <th>pert_alcohol</th>\n",
       "    </tr>\n",
       "  </thead>\n",
       "  <tbody>\n",
       "    <tr>\n",
       "      <th>0</th>\n",
       "      <td>955</td>\n",
       "      <td>Fred Minnick</td>\n",
       "      <td>Think carnival aromas—the good ones, anyway—me...</td>\n",
       "      <td>36.0</td>\n",
       "      <td>90</td>\n",
       "      <td>50.00</td>\n",
       "    </tr>\n",
       "    <tr>\n",
       "      <th>1</th>\n",
       "      <td>3532</td>\n",
       "      <td>Lew Bryson</td>\n",
       "      <td>A blend of three bourbons, between 6 and 12 ye...</td>\n",
       "      <td>90.0</td>\n",
       "      <td>82</td>\n",
       "      <td>49.30</td>\n",
       "    </tr>\n",
       "    <tr>\n",
       "      <th>2</th>\n",
       "      <td>1390</td>\n",
       "      <td>Davin de Kergommeaux</td>\n",
       "      <td>The nose is focused on cereal, hints of fresh ...</td>\n",
       "      <td>48.0</td>\n",
       "      <td>89</td>\n",
       "      <td>45.00</td>\n",
       "    </tr>\n",
       "    <tr>\n",
       "      <th>3</th>\n",
       "      <td>1024</td>\n",
       "      <td>Gavin Smith</td>\n",
       "      <td>Swiss-based Chapter 7 released this 19 year ol...</td>\n",
       "      <td>180.0</td>\n",
       "      <td>90</td>\n",
       "      <td>55.80</td>\n",
       "    </tr>\n",
       "    <tr>\n",
       "      <th>4</th>\n",
       "      <td>1902</td>\n",
       "      <td>Gavin Smith</td>\n",
       "      <td>Valkyrie replaces the current Dark Origins exp...</td>\n",
       "      <td>71.0</td>\n",
       "      <td>87</td>\n",
       "      <td>45.90</td>\n",
       "    </tr>\n",
       "    <tr>\n",
       "      <th>5</th>\n",
       "      <td>1156</td>\n",
       "      <td>Gavin Smith</td>\n",
       "      <td>The oldest of Bablair’s current core bottlings...</td>\n",
       "      <td>150.0</td>\n",
       "      <td>89</td>\n",
       "      <td>46.00</td>\n",
       "    </tr>\n",
       "    <tr>\n",
       "      <th>6</th>\n",
       "      <td>2205</td>\n",
       "      <td>Dave Broom</td>\n",
       "      <td>A sherry butt this time, which has allowed the...</td>\n",
       "      <td>803.0</td>\n",
       "      <td>86</td>\n",
       "      <td>48.50</td>\n",
       "    </tr>\n",
       "    <tr>\n",
       "      <th>7</th>\n",
       "      <td>885</td>\n",
       "      <td>Dave Broom</td>\n",
       "      <td>This is one of a trio from Chivas Bros., who e...</td>\n",
       "      <td>59.0</td>\n",
       "      <td>90</td>\n",
       "      <td>55.30</td>\n",
       "    </tr>\n",
       "    <tr>\n",
       "      <th>8</th>\n",
       "      <td>1116</td>\n",
       "      <td>Fred Minnick</td>\n",
       "      <td>Toasted oak, coffee, cola, molasses, and campf...</td>\n",
       "      <td>NaN</td>\n",
       "      <td>89</td>\n",
       "      <td>45.20</td>\n",
       "    </tr>\n",
       "    <tr>\n",
       "      <th>9</th>\n",
       "      <td>3739</td>\n",
       "      <td>Dave Broom</td>\n",
       "      <td>One of a trio from Chivas Bros., who every yea...</td>\n",
       "      <td>54.0</td>\n",
       "      <td>80</td>\n",
       "      <td>54.50</td>\n",
       "    </tr>\n",
       "    <tr>\n",
       "      <th>10</th>\n",
       "      <td>4003</td>\n",
       "      <td>John Hansell</td>\n",
       "      <td>Not exactly black. (More like russet, but Crow...</td>\n",
       "      <td>30.0</td>\n",
       "      <td>78</td>\n",
       "      <td>45.00</td>\n",
       "    </tr>\n",
       "    <tr>\n",
       "      <th>11</th>\n",
       "      <td>152</td>\n",
       "      <td>Davin de Kergommeaux</td>\n",
       "      <td>The first expression of the Crown Royal Noble ...</td>\n",
       "      <td>60.0</td>\n",
       "      <td>94</td>\n",
       "      <td>40.50</td>\n",
       "    </tr>\n",
       "    <tr>\n",
       "      <th>12</th>\n",
       "      <td>930</td>\n",
       "      <td>Dave Broom</td>\n",
       "      <td>Using barley grown on Rockside Farm, this is f...</td>\n",
       "      <td>72.0</td>\n",
       "      <td>90</td>\n",
       "      <td>50.00</td>\n",
       "    </tr>\n",
       "    <tr>\n",
       "      <th>13</th>\n",
       "      <td>2840</td>\n",
       "      <td>Dave Broom</td>\n",
       "      <td>What you look for in a finished whisky is for ...</td>\n",
       "      <td>101.0</td>\n",
       "      <td>84</td>\n",
       "      <td>52.90</td>\n",
       "    </tr>\n",
       "    <tr>\n",
       "      <th>14</th>\n",
       "      <td>2902</td>\n",
       "      <td>Gavin Smith</td>\n",
       "      <td>Cadenhead is responsible for this veteran cask...</td>\n",
       "      <td>282.0</td>\n",
       "      <td>84</td>\n",
       "      <td>40.20</td>\n",
       "    </tr>\n",
       "    <tr>\n",
       "      <th>15</th>\n",
       "      <td>2622</td>\n",
       "      <td>John Hansell</td>\n",
       "      <td>Richer, thicker, and more lush than the 1975 v...</td>\n",
       "      <td>80.0</td>\n",
       "      <td>85</td>\n",
       "      <td>43.00</td>\n",
       "    </tr>\n",
       "    <tr>\n",
       "      <th>16</th>\n",
       "      <td>3158</td>\n",
       "      <td>Dave Broom</td>\n",
       "      <td>Very chewy. Think of melting Mars bars, with a...</td>\n",
       "      <td>84.0</td>\n",
       "      <td>83</td>\n",
       "      <td>56.90</td>\n",
       "    </tr>\n",
       "    <tr>\n",
       "      <th>17</th>\n",
       "      <td>1290</td>\n",
       "      <td>Gavin Smith</td>\n",
       "      <td>A U.S.-exclusive variant of this popular Islay...</td>\n",
       "      <td>75.0</td>\n",
       "      <td>89</td>\n",
       "      <td>55.00</td>\n",
       "    </tr>\n",
       "    <tr>\n",
       "      <th>18</th>\n",
       "      <td>1731</td>\n",
       "      <td>Lew Bryson</td>\n",
       "      <td>“Tennessee bourbon” at 8 years, 3 months, and ...</td>\n",
       "      <td>90.0</td>\n",
       "      <td>88</td>\n",
       "      <td>62.35</td>\n",
       "    </tr>\n",
       "    <tr>\n",
       "      <th>19</th>\n",
       "      <td>1537</td>\n",
       "      <td>Gavin Smith</td>\n",
       "      <td>Artein is the third release in Glenmorangie’s ...</td>\n",
       "      <td>80.0</td>\n",
       "      <td>88</td>\n",
       "      <td>46.00</td>\n",
       "    </tr>\n",
       "    <tr>\n",
       "      <th>20</th>\n",
       "      <td>1897</td>\n",
       "      <td>John Hansell</td>\n",
       "      <td>The only sherry cask-aged Rarest of the Rare w...</td>\n",
       "      <td>215.0</td>\n",
       "      <td>87</td>\n",
       "      <td>58.00</td>\n",
       "    </tr>\n",
       "    <tr>\n",
       "      <th>21</th>\n",
       "      <td>752</td>\n",
       "      <td>Gavin Smith</td>\n",
       "      <td>Matured in a mixture of oloroso sherry, bourbo...</td>\n",
       "      <td>550.0</td>\n",
       "      <td>90</td>\n",
       "      <td>46.80</td>\n",
       "    </tr>\n",
       "    <tr>\n",
       "      <th>22</th>\n",
       "      <td>343</td>\n",
       "      <td>John Hansell</td>\n",
       "      <td>This gem is soft and seductive in personality....</td>\n",
       "      <td>430.0</td>\n",
       "      <td>93</td>\n",
       "      <td>40.70</td>\n",
       "    </tr>\n",
       "    <tr>\n",
       "      <th>23</th>\n",
       "      <td>4004</td>\n",
       "      <td>John Hansell</td>\n",
       "      <td>A sherry cask-matured Bowmore. Introduced as \"...</td>\n",
       "      <td>85.0</td>\n",
       "      <td>78</td>\n",
       "      <td>53.80</td>\n",
       "    </tr>\n",
       "    <tr>\n",
       "      <th>24</th>\n",
       "      <td>3021</td>\n",
       "      <td>Davin de Kergommeaux</td>\n",
       "      <td>Luscious sweet maltiness underlies a breadth o...</td>\n",
       "      <td>70.0</td>\n",
       "      <td>84</td>\n",
       "      <td>46.00</td>\n",
       "    </tr>\n",
       "    <tr>\n",
       "      <th>25</th>\n",
       "      <td>2162</td>\n",
       "      <td>John Hansell</td>\n",
       "      <td>Gold color (as its name suggests) with a hint ...</td>\n",
       "      <td>62.0</td>\n",
       "      <td>86</td>\n",
       "      <td>47.50</td>\n",
       "    </tr>\n",
       "    <tr>\n",
       "      <th>26</th>\n",
       "      <td>112</td>\n",
       "      <td>Gavin Smith</td>\n",
       "      <td>The third and most exclusive release in Bowmor...</td>\n",
       "      <td>NaN</td>\n",
       "      <td>94</td>\n",
       "      <td>41.50</td>\n",
       "    </tr>\n",
       "    <tr>\n",
       "      <th>27</th>\n",
       "      <td>2538</td>\n",
       "      <td>Gavin Smith</td>\n",
       "      <td>Distilled on June 20, 1999 and bottled in Nove...</td>\n",
       "      <td>118.0</td>\n",
       "      <td>85</td>\n",
       "      <td>58.40</td>\n",
       "    </tr>\n",
       "    <tr>\n",
       "      <th>28</th>\n",
       "      <td>3862</td>\n",
       "      <td>Lew Bryson</td>\n",
       "      <td>The name is a reference to the “whisk(e)y” con...</td>\n",
       "      <td>50.0</td>\n",
       "      <td>80</td>\n",
       "      <td>50.00</td>\n",
       "    </tr>\n",
       "    <tr>\n",
       "      <th>29</th>\n",
       "      <td>2498</td>\n",
       "      <td>Gavin Smith</td>\n",
       "      <td>Auchentoshan Valinch is essentially a cask str...</td>\n",
       "      <td>60.0</td>\n",
       "      <td>85</td>\n",
       "      <td>57.50</td>\n",
       "    </tr>\n",
       "    <tr>\n",
       "      <th>...</th>\n",
       "      <td>...</td>\n",
       "      <td>...</td>\n",
       "      <td>...</td>\n",
       "      <td>...</td>\n",
       "      <td>...</td>\n",
       "      <td>...</td>\n",
       "    </tr>\n",
       "    <tr>\n",
       "      <th>258</th>\n",
       "      <td>1913</td>\n",
       "      <td>Gavin Smith</td>\n",
       "      <td>Along with Auchroisk, Mannochmore is one of Di...</td>\n",
       "      <td>400.0</td>\n",
       "      <td>87</td>\n",
       "      <td>53.40</td>\n",
       "    </tr>\n",
       "    <tr>\n",
       "      <th>259</th>\n",
       "      <td>1148</td>\n",
       "      <td>Gavin Smith</td>\n",
       "      <td>As Arran continues on its trajectory toward in...</td>\n",
       "      <td>120.0</td>\n",
       "      <td>89</td>\n",
       "      <td>46.00</td>\n",
       "    </tr>\n",
       "    <tr>\n",
       "      <th>260</th>\n",
       "      <td>1842</td>\n",
       "      <td>John Hansell</td>\n",
       "      <td>Bright fruit throughout (red raspberry, strawb...</td>\n",
       "      <td>70.0</td>\n",
       "      <td>87</td>\n",
       "      <td>46.00</td>\n",
       "    </tr>\n",
       "    <tr>\n",
       "      <th>261</th>\n",
       "      <td>1745</td>\n",
       "      <td>Gavin Smith</td>\n",
       "      <td>Heavily peated Bunnahabhain spirit, referred t...</td>\n",
       "      <td>45.0</td>\n",
       "      <td>88</td>\n",
       "      <td>43.00</td>\n",
       "    </tr>\n",
       "    <tr>\n",
       "      <th>262</th>\n",
       "      <td>2866</td>\n",
       "      <td>Gavin Smith</td>\n",
       "      <td>Distilled between October and March, matured i...</td>\n",
       "      <td>58.0</td>\n",
       "      <td>84</td>\n",
       "      <td>43.00</td>\n",
       "    </tr>\n",
       "    <tr>\n",
       "      <th>263</th>\n",
       "      <td>3208</td>\n",
       "      <td>Dave Broom</td>\n",
       "      <td>One in a trio from Chivas Bros., who every yea...</td>\n",
       "      <td>63.0</td>\n",
       "      <td>83</td>\n",
       "      <td>51.30</td>\n",
       "    </tr>\n",
       "    <tr>\n",
       "      <th>264</th>\n",
       "      <td>460</td>\n",
       "      <td>Gavin Smith</td>\n",
       "      <td>The nose is complex, with almonds, coconut, so...</td>\n",
       "      <td>130.0</td>\n",
       "      <td>92</td>\n",
       "      <td>46.00</td>\n",
       "    </tr>\n",
       "    <tr>\n",
       "      <th>265</th>\n",
       "      <td>16</td>\n",
       "      <td>Dave Broom</td>\n",
       "      <td>A rich amber color and elegantly oxidized note...</td>\n",
       "      <td>3360.0</td>\n",
       "      <td>96</td>\n",
       "      <td>47.20</td>\n",
       "    </tr>\n",
       "    <tr>\n",
       "      <th>266</th>\n",
       "      <td>3053</td>\n",
       "      <td>Lew Bryson</td>\n",
       "      <td>Nose of sweet dried grass and cinnamon, echoed...</td>\n",
       "      <td>50.0</td>\n",
       "      <td>84</td>\n",
       "      <td>47.50</td>\n",
       "    </tr>\n",
       "    <tr>\n",
       "      <th>267</th>\n",
       "      <td>249</td>\n",
       "      <td>Gavin Smith</td>\n",
       "      <td>Part of the core range from GlenDronach, Parli...</td>\n",
       "      <td>262.0</td>\n",
       "      <td>93</td>\n",
       "      <td>48.00</td>\n",
       "    </tr>\n",
       "    <tr>\n",
       "      <th>268</th>\n",
       "      <td>2338</td>\n",
       "      <td>Lew Bryson</td>\n",
       "      <td>Certified organic, “aged under four years.” Oa...</td>\n",
       "      <td>50.0</td>\n",
       "      <td>86</td>\n",
       "      <td>47.00</td>\n",
       "    </tr>\n",
       "    <tr>\n",
       "      <th>269</th>\n",
       "      <td>409</td>\n",
       "      <td>John Hansell</td>\n",
       "      <td>Buffalo Trace distilled a wheated bourbon and ...</td>\n",
       "      <td>47.0</td>\n",
       "      <td>92</td>\n",
       "      <td>45.00</td>\n",
       "    </tr>\n",
       "    <tr>\n",
       "      <th>270</th>\n",
       "      <td>2852</td>\n",
       "      <td>John Hansell</td>\n",
       "      <td>Aged in refill sherry casks. One taste bears t...</td>\n",
       "      <td>75.0</td>\n",
       "      <td>84</td>\n",
       "      <td>NaN</td>\n",
       "    </tr>\n",
       "    <tr>\n",
       "      <th>271</th>\n",
       "      <td>304</td>\n",
       "      <td>Gavin Smith</td>\n",
       "      <td>This 1978 vintage release from The Dalmore has...</td>\n",
       "      <td>750.0</td>\n",
       "      <td>93</td>\n",
       "      <td>46.00</td>\n",
       "    </tr>\n",
       "    <tr>\n",
       "      <th>272</th>\n",
       "      <td>1524</td>\n",
       "      <td>Gavin Smith</td>\n",
       "      <td>Glenglassaugh initially imported Massandra win...</td>\n",
       "      <td>665.0</td>\n",
       "      <td>88</td>\n",
       "      <td>41.70</td>\n",
       "    </tr>\n",
       "    <tr>\n",
       "      <th>273</th>\n",
       "      <td>3226</td>\n",
       "      <td>Dave Broom</td>\n",
       "      <td>Yes, it’s another 1991 Bunna from Wemyss, so c...</td>\n",
       "      <td>164.0</td>\n",
       "      <td>83</td>\n",
       "      <td>46.00</td>\n",
       "    </tr>\n",
       "    <tr>\n",
       "      <th>274</th>\n",
       "      <td>2402</td>\n",
       "      <td>Gavin Smith</td>\n",
       "      <td>A 1996 expression is the latest Clynelish to t...</td>\n",
       "      <td>101.0</td>\n",
       "      <td>86</td>\n",
       "      <td>46.00</td>\n",
       "    </tr>\n",
       "    <tr>\n",
       "      <th>275</th>\n",
       "      <td>798</td>\n",
       "      <td>John Hansell</td>\n",
       "      <td>The aromas are tightly bound, but a little wat...</td>\n",
       "      <td>75.0</td>\n",
       "      <td>90</td>\n",
       "      <td>57.90</td>\n",
       "    </tr>\n",
       "    <tr>\n",
       "      <th>276</th>\n",
       "      <td>3573</td>\n",
       "      <td>John Hansell</td>\n",
       "      <td>A fruity-sweet whisky (but still quite light a...</td>\n",
       "      <td>45.0</td>\n",
       "      <td>81</td>\n",
       "      <td>46.00</td>\n",
       "    </tr>\n",
       "    <tr>\n",
       "      <th>277</th>\n",
       "      <td>2562</td>\n",
       "      <td>Gavin Smith</td>\n",
       "      <td>Named in honor of the copper teapot from which...</td>\n",
       "      <td>92.0</td>\n",
       "      <td>85</td>\n",
       "      <td>59.40</td>\n",
       "    </tr>\n",
       "    <tr>\n",
       "      <th>278</th>\n",
       "      <td>3132</td>\n",
       "      <td>John Hansell</td>\n",
       "      <td>A very hearty Birthday Bourbon. Richly texture...</td>\n",
       "      <td>40.0</td>\n",
       "      <td>83</td>\n",
       "      <td>47.00</td>\n",
       "    </tr>\n",
       "    <tr>\n",
       "      <th>279</th>\n",
       "      <td>1241</td>\n",
       "      <td>John Hansell</td>\n",
       "      <td>Deep gold color. Fragrant, floral aroma, with ...</td>\n",
       "      <td>230.0</td>\n",
       "      <td>89</td>\n",
       "      <td>50.90</td>\n",
       "    </tr>\n",
       "    <tr>\n",
       "      <th>280</th>\n",
       "      <td>1783</td>\n",
       "      <td>John Hansell</td>\n",
       "      <td>A set of two 100% rye whiskeys, triple distill...</td>\n",
       "      <td>100.0</td>\n",
       "      <td>87</td>\n",
       "      <td>46.20</td>\n",
       "    </tr>\n",
       "    <tr>\n",
       "      <th>281</th>\n",
       "      <td>844</td>\n",
       "      <td>Davin de Kergommeaux</td>\n",
       "      <td>Each batch is a little bit different, this one...</td>\n",
       "      <td>50.0</td>\n",
       "      <td>90</td>\n",
       "      <td>40.00</td>\n",
       "    </tr>\n",
       "    <tr>\n",
       "      <th>282</th>\n",
       "      <td>2262</td>\n",
       "      <td>Gavin Smith</td>\n",
       "      <td>The Old Malt Cask ‘Royal Jubilee Commemorative...</td>\n",
       "      <td>79.0</td>\n",
       "      <td>86</td>\n",
       "      <td>50.00</td>\n",
       "    </tr>\n",
       "    <tr>\n",
       "      <th>283</th>\n",
       "      <td>1834</td>\n",
       "      <td>John Hansell</td>\n",
       "      <td>Aged in a sherry cask, and the sherry is clean...</td>\n",
       "      <td>80.0</td>\n",
       "      <td>87</td>\n",
       "      <td>55.50</td>\n",
       "    </tr>\n",
       "    <tr>\n",
       "      <th>284</th>\n",
       "      <td>2848</td>\n",
       "      <td>Dave Broom</td>\n",
       "      <td>There have been some legendary Hart Brothers b...</td>\n",
       "      <td>78.0</td>\n",
       "      <td>84</td>\n",
       "      <td>55.50</td>\n",
       "    </tr>\n",
       "    <tr>\n",
       "      <th>285</th>\n",
       "      <td>3874</td>\n",
       "      <td>Jeffery Lindenmuth</td>\n",
       "      <td>Aromas hint at a bitterly astringent, almost b...</td>\n",
       "      <td>85.0</td>\n",
       "      <td>79</td>\n",
       "      <td>50.00</td>\n",
       "    </tr>\n",
       "    <tr>\n",
       "      <th>286</th>\n",
       "      <td>2377</td>\n",
       "      <td>Fred Minnick</td>\n",
       "      <td>Think corn: roasted, canned, creamed, mashed, ...</td>\n",
       "      <td>75.0</td>\n",
       "      <td>86</td>\n",
       "      <td>63.70</td>\n",
       "    </tr>\n",
       "    <tr>\n",
       "      <th>287</th>\n",
       "      <td>2243</td>\n",
       "      <td>John Hansell</td>\n",
       "      <td>Amber gold color. Medium bodied and slightly o...</td>\n",
       "      <td>35.0</td>\n",
       "      <td>86</td>\n",
       "      <td>45.00</td>\n",
       "    </tr>\n",
       "  </tbody>\n",
       "</table>\n",
       "<p>288 rows × 6 columns</p>\n",
       "</div>"
      ],
      "text/plain": [
       "       id                author  \\\n",
       "0     955          Fred Minnick   \n",
       "1    3532            Lew Bryson   \n",
       "2    1390  Davin de Kergommeaux   \n",
       "3    1024           Gavin Smith   \n",
       "4    1902           Gavin Smith   \n",
       "5    1156           Gavin Smith   \n",
       "6    2205            Dave Broom   \n",
       "7     885            Dave Broom   \n",
       "8    1116          Fred Minnick   \n",
       "9    3739            Dave Broom   \n",
       "10   4003          John Hansell   \n",
       "11    152  Davin de Kergommeaux   \n",
       "12    930            Dave Broom   \n",
       "13   2840            Dave Broom   \n",
       "14   2902           Gavin Smith   \n",
       "15   2622          John Hansell   \n",
       "16   3158            Dave Broom   \n",
       "17   1290           Gavin Smith   \n",
       "18   1731            Lew Bryson   \n",
       "19   1537           Gavin Smith   \n",
       "20   1897          John Hansell   \n",
       "21    752           Gavin Smith   \n",
       "22    343          John Hansell   \n",
       "23   4004          John Hansell   \n",
       "24   3021  Davin de Kergommeaux   \n",
       "25   2162          John Hansell   \n",
       "26    112           Gavin Smith   \n",
       "27   2538           Gavin Smith   \n",
       "28   3862            Lew Bryson   \n",
       "29   2498           Gavin Smith   \n",
       "..    ...                   ...   \n",
       "258  1913           Gavin Smith   \n",
       "259  1148           Gavin Smith   \n",
       "260  1842          John Hansell   \n",
       "261  1745           Gavin Smith   \n",
       "262  2866           Gavin Smith   \n",
       "263  3208            Dave Broom   \n",
       "264   460           Gavin Smith   \n",
       "265    16            Dave Broom   \n",
       "266  3053            Lew Bryson   \n",
       "267   249           Gavin Smith   \n",
       "268  2338            Lew Bryson   \n",
       "269   409          John Hansell   \n",
       "270  2852          John Hansell   \n",
       "271   304           Gavin Smith   \n",
       "272  1524           Gavin Smith   \n",
       "273  3226            Dave Broom   \n",
       "274  2402           Gavin Smith   \n",
       "275   798          John Hansell   \n",
       "276  3573          John Hansell   \n",
       "277  2562           Gavin Smith   \n",
       "278  3132          John Hansell   \n",
       "279  1241          John Hansell   \n",
       "280  1783          John Hansell   \n",
       "281   844  Davin de Kergommeaux   \n",
       "282  2262           Gavin Smith   \n",
       "283  1834          John Hansell   \n",
       "284  2848            Dave Broom   \n",
       "285  3874    Jeffery Lindenmuth   \n",
       "286  2377          Fred Minnick   \n",
       "287  2243          John Hansell   \n",
       "\n",
       "                                           description   price  ratingValue  \\\n",
       "0    Think carnival aromas—the good ones, anyway—me...    36.0           90   \n",
       "1    A blend of three bourbons, between 6 and 12 ye...    90.0           82   \n",
       "2    The nose is focused on cereal, hints of fresh ...    48.0           89   \n",
       "3    Swiss-based Chapter 7 released this 19 year ol...   180.0           90   \n",
       "4    Valkyrie replaces the current Dark Origins exp...    71.0           87   \n",
       "5    The oldest of Bablair’s current core bottlings...   150.0           89   \n",
       "6    A sherry butt this time, which has allowed the...   803.0           86   \n",
       "7    This is one of a trio from Chivas Bros., who e...    59.0           90   \n",
       "8    Toasted oak, coffee, cola, molasses, and campf...     NaN           89   \n",
       "9    One of a trio from Chivas Bros., who every yea...    54.0           80   \n",
       "10   Not exactly black. (More like russet, but Crow...    30.0           78   \n",
       "11   The first expression of the Crown Royal Noble ...    60.0           94   \n",
       "12   Using barley grown on Rockside Farm, this is f...    72.0           90   \n",
       "13   What you look for in a finished whisky is for ...   101.0           84   \n",
       "14   Cadenhead is responsible for this veteran cask...   282.0           84   \n",
       "15   Richer, thicker, and more lush than the 1975 v...    80.0           85   \n",
       "16   Very chewy. Think of melting Mars bars, with a...    84.0           83   \n",
       "17   A U.S.-exclusive variant of this popular Islay...    75.0           89   \n",
       "18   “Tennessee bourbon” at 8 years, 3 months, and ...    90.0           88   \n",
       "19   Artein is the third release in Glenmorangie’s ...    80.0           88   \n",
       "20   The only sherry cask-aged Rarest of the Rare w...   215.0           87   \n",
       "21   Matured in a mixture of oloroso sherry, bourbo...   550.0           90   \n",
       "22   This gem is soft and seductive in personality....   430.0           93   \n",
       "23   A sherry cask-matured Bowmore. Introduced as \"...    85.0           78   \n",
       "24   Luscious sweet maltiness underlies a breadth o...    70.0           84   \n",
       "25   Gold color (as its name suggests) with a hint ...    62.0           86   \n",
       "26   The third and most exclusive release in Bowmor...     NaN           94   \n",
       "27   Distilled on June 20, 1999 and bottled in Nove...   118.0           85   \n",
       "28   The name is a reference to the “whisk(e)y” con...    50.0           80   \n",
       "29   Auchentoshan Valinch is essentially a cask str...    60.0           85   \n",
       "..                                                 ...     ...          ...   \n",
       "258  Along with Auchroisk, Mannochmore is one of Di...   400.0           87   \n",
       "259  As Arran continues on its trajectory toward in...   120.0           89   \n",
       "260  Bright fruit throughout (red raspberry, strawb...    70.0           87   \n",
       "261  Heavily peated Bunnahabhain spirit, referred t...    45.0           88   \n",
       "262  Distilled between October and March, matured i...    58.0           84   \n",
       "263  One in a trio from Chivas Bros., who every yea...    63.0           83   \n",
       "264  The nose is complex, with almonds, coconut, so...   130.0           92   \n",
       "265  A rich amber color and elegantly oxidized note...  3360.0           96   \n",
       "266  Nose of sweet dried grass and cinnamon, echoed...    50.0           84   \n",
       "267  Part of the core range from GlenDronach, Parli...   262.0           93   \n",
       "268  Certified organic, “aged under four years.” Oa...    50.0           86   \n",
       "269  Buffalo Trace distilled a wheated bourbon and ...    47.0           92   \n",
       "270  Aged in refill sherry casks. One taste bears t...    75.0           84   \n",
       "271  This 1978 vintage release from The Dalmore has...   750.0           93   \n",
       "272  Glenglassaugh initially imported Massandra win...   665.0           88   \n",
       "273  Yes, it’s another 1991 Bunna from Wemyss, so c...   164.0           83   \n",
       "274  A 1996 expression is the latest Clynelish to t...   101.0           86   \n",
       "275  The aromas are tightly bound, but a little wat...    75.0           90   \n",
       "276  A fruity-sweet whisky (but still quite light a...    45.0           81   \n",
       "277  Named in honor of the copper teapot from which...    92.0           85   \n",
       "278  A very hearty Birthday Bourbon. Richly texture...    40.0           83   \n",
       "279  Deep gold color. Fragrant, floral aroma, with ...   230.0           89   \n",
       "280  A set of two 100% rye whiskeys, triple distill...   100.0           87   \n",
       "281  Each batch is a little bit different, this one...    50.0           90   \n",
       "282  The Old Malt Cask ‘Royal Jubilee Commemorative...    79.0           86   \n",
       "283  Aged in a sherry cask, and the sherry is clean...    80.0           87   \n",
       "284  There have been some legendary Hart Brothers b...    78.0           84   \n",
       "285  Aromas hint at a bitterly astringent, almost b...    85.0           79   \n",
       "286  Think corn: roasted, canned, creamed, mashed, ...    75.0           86   \n",
       "287  Amber gold color. Medium bodied and slightly o...    35.0           86   \n",
       "\n",
       "     pert_alcohol  \n",
       "0           50.00  \n",
       "1           49.30  \n",
       "2           45.00  \n",
       "3           55.80  \n",
       "4           45.90  \n",
       "5           46.00  \n",
       "6           48.50  \n",
       "7           55.30  \n",
       "8           45.20  \n",
       "9           54.50  \n",
       "10          45.00  \n",
       "11          40.50  \n",
       "12          50.00  \n",
       "13          52.90  \n",
       "14          40.20  \n",
       "15          43.00  \n",
       "16          56.90  \n",
       "17          55.00  \n",
       "18          62.35  \n",
       "19          46.00  \n",
       "20          58.00  \n",
       "21          46.80  \n",
       "22          40.70  \n",
       "23          53.80  \n",
       "24          46.00  \n",
       "25          47.50  \n",
       "26          41.50  \n",
       "27          58.40  \n",
       "28          50.00  \n",
       "29          57.50  \n",
       "..            ...  \n",
       "258         53.40  \n",
       "259         46.00  \n",
       "260         46.00  \n",
       "261         43.00  \n",
       "262         43.00  \n",
       "263         51.30  \n",
       "264         46.00  \n",
       "265         47.20  \n",
       "266         47.50  \n",
       "267         48.00  \n",
       "268         47.00  \n",
       "269         45.00  \n",
       "270           NaN  \n",
       "271         46.00  \n",
       "272         41.70  \n",
       "273         46.00  \n",
       "274         46.00  \n",
       "275         57.90  \n",
       "276         46.00  \n",
       "277         59.40  \n",
       "278         47.00  \n",
       "279         50.90  \n",
       "280         46.20  \n",
       "281         40.00  \n",
       "282         50.00  \n",
       "283         55.50  \n",
       "284         55.50  \n",
       "285         50.00  \n",
       "286         63.70  \n",
       "287         45.00  \n",
       "\n",
       "[288 rows x 6 columns]"
      ]
     },
     "execution_count": 83,
     "metadata": {},
     "output_type": "execute_result"
    }
   ],
   "source": [
    "submission"
   ]
  },
  {
   "cell_type": "code",
   "execution_count": 86,
   "metadata": {},
   "outputs": [],
   "source": [
    "submission = pd.read_csv('./sample_submission.csv')\n",
    "submission = submission.copy()\n",
    "submission['category'] = y_pred\n",
    "submission.to_csv('submission.csv', index=False)"
   ]
  },
  {
   "cell_type": "code",
   "execution_count": 87,
   "metadata": {},
   "outputs": [
    {
     "data": {
      "text/plain": [
       "(288, (288, 2))"
      ]
     },
     "execution_count": 87,
     "metadata": {},
     "output_type": "execute_result"
    }
   ],
   "source": [
    "len(y_pred), submission.shape"
   ]
  },
  {
   "cell_type": "code",
   "execution_count": 88,
   "metadata": {},
   "outputs": [
    {
     "name": "stdout",
     "output_type": "stream",
     "text": [
      "100%|██████████████████████████████████████| 1.91k/1.91k [00:00<00:00, 2.12kB/s]\n",
      "Successfully submitted to DS3 Which Whisky"
     ]
    }
   ],
   "source": [
    "!kaggle  competitions  submit -c ds3-which-whisky -f submission.csv -m \"SVD Prediction submission\""
   ]
  },
  {
   "cell_type": "code",
   "execution_count": 21,
   "metadata": {},
   "outputs": [],
   "source": [
    "# Experiment Management\n",
    "from sklearn.model_selection import GridSearchCV"
   ]
  },
  {
   "cell_type": "code",
   "execution_count": 22,
   "metadata": {},
   "outputs": [],
   "source": [
    "parameters = {\n",
    "    'vect__max_df': (0.5, 0.75, 1.0),\n",
    "    'clf__max_iter':(20, 10, 100)\n",
    "}"
   ]
  },
  {
   "cell_type": "code",
   "execution_count": 23,
   "metadata": {},
   "outputs": [],
   "source": [
    "grid_search = GridSearchCV(pipe,parameters, cv=5, n_jobs=-1, verbose=1)"
   ]
  },
  {
   "cell_type": "code",
   "execution_count": 24,
   "metadata": {},
   "outputs": [
    {
     "name": "stdout",
     "output_type": "stream",
     "text": [
      "Fitting 5 folds for each of 9 candidates, totalling 45 fits\n"
     ]
    },
    {
     "name": "stderr",
     "output_type": "stream",
     "text": [
      "[Parallel(n_jobs=-1)]: Using backend LokyBackend with 12 concurrent workers.\n",
      "[Parallel(n_jobs=-1)]: Done  45 out of  45 | elapsed:    2.4s finished\n",
      "/home/seek/anaconda3/envs/U4-S1-NLP/lib/python3.7/site-packages/sklearn/linear_model/stochastic_gradient.py:183: FutureWarning: max_iter and tol parameters have been added in SGDClassifier in 0.19. If max_iter is set but tol is left unset, the default value for tol in 0.19 and 0.20 will be None (which is equivalent to -infinity, so it has no effect) but will change in 0.21 to 1e-3. Specify tol to silence this warning.\n",
      "  FutureWarning)\n"
     ]
    },
    {
     "data": {
      "text/plain": [
       "GridSearchCV(cv=5, error_score='raise-deprecating',\n",
       "       estimator=Pipeline(memory=None,\n",
       "     steps=[('vect', TfidfVectorizer(analyzer='word', binary=False, decode_error='strict',\n",
       "        dtype=<class 'numpy.float64'>, encoding='utf-8', input='content',\n",
       "        lowercase=True, max_df=1.0, max_features=None, min_df=1,\n",
       "        ngram_range=(1, 1), norm='l2', preprocessor=None, smooth_idf=True,\n",
       "...m_state=None, shuffle=True, tol=None,\n",
       "       validation_fraction=0.1, verbose=0, warm_start=False))]),\n",
       "       fit_params=None, iid='warn', n_jobs=-1,\n",
       "       param_grid={'vect__max_df': (0.5, 0.75, 1.0), 'clf__max_iter': (20, 10, 100)},\n",
       "       pre_dispatch='2*n_jobs', refit=True, return_train_score='warn',\n",
       "       scoring=None, verbose=1)"
      ]
     },
     "execution_count": 24,
     "metadata": {},
     "output_type": "execute_result"
    }
   ],
   "source": [
    "grid_search.fit(X_train, y_train)"
   ]
  },
  {
   "cell_type": "code",
   "execution_count": 25,
   "metadata": {},
   "outputs": [
    {
     "data": {
      "text/plain": [
       "0.9419561243144424"
      ]
     },
     "execution_count": 25,
     "metadata": {},
     "output_type": "execute_result"
    }
   ],
   "source": [
    "grid_search.best_score_"
   ]
  },
  {
   "cell_type": "code",
   "execution_count": 26,
   "metadata": {},
   "outputs": [],
   "source": [
    "y_pred = grid_search.predict(X_test)"
   ]
  },
  {
   "cell_type": "code",
   "execution_count": 27,
   "metadata": {},
   "outputs": [],
   "source": [
    "submission = pd.read_csv('./sample_submission.csv')\n",
    "submission = submission.copy()\n",
    "submission['category'] = y_pred\n",
    "submission.to_csv('submission.csv', index=False)"
   ]
  },
  {
   "cell_type": "code",
   "execution_count": 28,
   "metadata": {},
   "outputs": [
    {
     "name": "stdout",
     "output_type": "stream",
     "text": [
      "100%|██████████████████████████████████████| 1.91k/1.91k [00:00<00:00, 2.60kB/s]\n",
      "Successfully submitted to DS3 Which Whisky"
     ]
    }
   ],
   "source": [
    "!kaggle  competitions  submit -c ds3-which-whisky -f submission.csv -m \"GridSearch Prediction submission\""
   ]
  },
  {
   "cell_type": "code",
   "execution_count": 29,
   "metadata": {},
   "outputs": [],
   "source": [
    "# Import\n",
    "\n",
    "from sklearn.decomposition import TruncatedSVD\n",
    "\n",
    "svd = TruncatedSVD(n_components=100, \n",
    "                   algorithm='randomized',\n",
    "                   n_iter=10)"
   ]
  },
  {
   "cell_type": "code",
   "execution_count": 30,
   "metadata": {},
   "outputs": [],
   "source": [
    "# LSI\n",
    "\n",
    "lsi = Pipeline([('vect', vect), ('svd', svd)])"
   ]
  },
  {
   "cell_type": "code",
   "execution_count": 31,
   "metadata": {},
   "outputs": [],
   "source": [
    "# Pipe\n",
    "\n",
    "pipe = Pipeline([('lsi', lsi), ('clf', sgdc)])\n",
    "\n",
    "params = {\n",
    "    'lsi__vect__max_df': (0.5, 0.75, 1)\n",
    "}"
   ]
  },
  {
   "cell_type": "code",
   "execution_count": 33,
   "metadata": {},
   "outputs": [
    {
     "name": "stderr",
     "output_type": "stream",
     "text": [
      "/home/seek/anaconda3/envs/U4-S1-NLP/lib/python3.7/site-packages/sklearn/linear_model/stochastic_gradient.py:166: FutureWarning: max_iter and tol parameters have been added in SGDClassifier in 0.19. If both are left unset, they default to max_iter=5 and tol=None. If tol is not None, max_iter defaults to max_iter=1000. From 0.21, default max_iter will be 1000, and default tol will be 1e-3.\n",
      "  FutureWarning)\n"
     ]
    },
    {
     "data": {
      "text/plain": [
       "Pipeline(memory=None,\n",
       "     steps=[('lsi', Pipeline(memory=None,\n",
       "     steps=[('vect', TfidfVectorizer(analyzer='word', binary=False, decode_error='strict',\n",
       "        dtype=<class 'numpy.float64'>, encoding='utf-8', input='content',\n",
       "        lowercase=True, max_df=1.0, max_features=None, min_df=1,\n",
       "        ngram_range=(1, 1), norm=...m_state=None, shuffle=True, tol=None,\n",
       "       validation_fraction=0.1, verbose=0, warm_start=False))])"
      ]
     },
     "execution_count": 33,
     "metadata": {},
     "output_type": "execute_result"
    }
   ],
   "source": [
    "# Fit\n",
    "pipe.fit(X_train, y_train)"
   ]
  },
  {
   "cell_type": "code",
   "execution_count": 35,
   "metadata": {},
   "outputs": [
    {
     "data": {
      "text/plain": [
       "0.9510968921389397"
      ]
     },
     "execution_count": 35,
     "metadata": {},
     "output_type": "execute_result"
    }
   ],
   "source": [
    "pipe.score(X_train, y_train)"
   ]
  },
  {
   "cell_type": "code",
   "execution_count": 37,
   "metadata": {},
   "outputs": [
    {
     "data": {
      "text/plain": [
       "array([1, 2, 2, 1, 1, 1, 2, 4, 1, 3, 1, 1, 3, 1, 1, 1, 1, 1, 1, 2, 1, 1,\n",
       "       1, 2, 1, 1, 1, 1, 1, 1, 2, 1, 2, 3, 1, 1, 1, 1, 1, 3, 4, 1, 1, 1,\n",
       "       1, 4, 1, 3, 1, 4, 1, 2, 1, 1, 1, 1, 2, 1, 3, 3, 1, 2, 1, 1, 1, 1,\n",
       "       3, 3, 4, 3, 1, 1, 1, 1, 3, 1, 2, 1, 1, 1, 1, 1, 1, 1, 4, 1, 1, 3,\n",
       "       4, 1, 3, 1, 1, 1, 3, 1, 2, 1, 1, 1, 1, 2, 2, 1, 2, 1, 1, 2, 1, 2,\n",
       "       1, 3, 2, 1, 1, 1, 2, 1, 1, 1, 3, 3, 1, 1, 2, 3, 2, 1, 1, 2, 1, 1,\n",
       "       1, 1, 1, 1, 1, 1, 3, 1, 1, 1, 1, 2, 1, 1, 1, 1, 1, 1, 1, 1, 1, 1,\n",
       "       4, 3, 1, 2, 2, 3, 1, 1, 1, 1, 1, 1, 1, 1, 1, 1, 1, 1, 2, 3, 1, 1,\n",
       "       3, 1, 2, 1, 1, 1, 2, 1, 1, 1, 1, 1, 1, 2, 4, 4, 2, 1, 1, 1, 1, 4,\n",
       "       1, 2, 1, 3, 1, 3, 3, 1, 1, 1, 1, 4, 1, 1, 1, 2, 3, 1, 1, 1, 3, 3,\n",
       "       2, 1, 1, 1, 1, 1, 1, 1, 1, 1, 1, 4, 1, 4, 2, 1, 1, 1, 1, 2, 1, 1,\n",
       "       1, 3, 3, 1, 3, 1, 1, 1, 1, 2, 1, 1, 1, 1, 1, 2, 2, 1, 1, 1, 2, 2,\n",
       "       1, 1, 1, 2, 1, 3, 1, 1, 1, 1, 1, 4, 1, 1, 1, 3, 2, 3, 3, 3, 1, 1,\n",
       "       3, 3])"
      ]
     },
     "execution_count": 37,
     "metadata": {},
     "output_type": "execute_result"
    }
   ],
   "source": [
    "pipe.predict(X_test)"
   ]
  },
  {
   "cell_type": "code",
   "execution_count": 38,
   "metadata": {},
   "outputs": [],
   "source": [
    "y_pred = pipe.predict(X_test)"
   ]
  },
  {
   "cell_type": "code",
   "execution_count": 39,
   "metadata": {},
   "outputs": [
    {
     "data": {
      "text/plain": [
       "(288,)"
      ]
     },
     "execution_count": 39,
     "metadata": {},
     "output_type": "execute_result"
    }
   ],
   "source": [
    "y_pred.shape"
   ]
  },
  {
   "cell_type": "code",
   "execution_count": 40,
   "metadata": {},
   "outputs": [],
   "source": [
    "submission = pd.read_csv('./sample_submission.csv')\n",
    "submission = submission.copy()\n",
    "submission['category'] = y_pred\n",
    "submission.to_csv('submission.csv', index=False)"
   ]
  },
  {
   "cell_type": "code",
   "execution_count": 41,
   "metadata": {},
   "outputs": [
    {
     "name": "stdout",
     "output_type": "stream",
     "text": [
      "100%|██████████████████████████████████████| 1.91k/1.91k [00:01<00:00, 1.92kB/s]\n",
      "Successfully submitted to DS3 Which Whisky"
     ]
    }
   ],
   "source": [
    "!kaggle  competitions  submit -c ds3-which-whisky -f submission.csv -m \"SVD Prediction submission\""
   ]
  },
  {
   "cell_type": "code",
   "execution_count": null,
   "metadata": {},
   "outputs": [],
   "source": [
    "import spacy\n",
    "nlp = spacy.load(\"en_core_web_lg\")"
   ]
  },
  {
   "cell_type": "code",
   "execution_count": null,
   "metadata": {},
   "outputs": [],
   "source": [
    "# doc = nlp(\"Two bananas in pyjamas\")"
   ]
  }
 ],
 "metadata": {
  "kernelspec": {
   "display_name": "U4-S1-NLP (Python 3)",
   "language": "python",
   "name": "u4-s1-nlp"
  },
  "language_info": {
   "codemirror_mode": {
    "name": "ipython",
    "version": 3
   },
   "file_extension": ".py",
   "mimetype": "text/x-python",
   "name": "python",
   "nbconvert_exporter": "python",
   "pygments_lexer": "ipython3",
   "version": "3.7.3"
  }
 },
 "nbformat": 4,
 "nbformat_minor": 2
}
