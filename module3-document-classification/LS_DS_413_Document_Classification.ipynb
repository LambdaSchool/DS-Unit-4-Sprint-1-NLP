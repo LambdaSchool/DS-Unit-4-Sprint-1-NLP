{
 "cells": [
  {
   "cell_type": "markdown",
   "metadata": {},
   "source": [
    "Lambda School Data Science\n",
    "\n",
    "*Unit 4, Sprint 1, Module 3*\n",
    "\n",
    "---"
   ]
  },
  {
   "cell_type": "markdown",
   "metadata": {},
   "source": [
    "# Document Classification (Prepare)\n",
    "\n",
    "Today's guided module project will be different. You already know how to do classification. You ready know how to extract features from documents. So? That means you're ready to combine and practice those skills in a kaggle competition. We we will open with a five minute sprint explaining the competition, and then give you 25 minutes to work. After those twenty five minutes are up, I will give a 5-minute demo an NLP technique that will help you with document classification (*and **maybe** the competition*).\n",
    "\n",
    "Today's all about having fun and practicing your skills. The competition will begin\n",
    "\n",
    "## Learning Objectives\n",
    "* <a href=\"#p0\">Part 0</a>: Kaggle Competition\n",
    "* <a href=\"#p1\">Part 1</a>: Text Feature Extraction & Classification Pipelines\n",
    "* <a href=\"#p2\">Part 2</a>: Latent Semantic Indexing\n",
    "* <a href=\"#p3\">Part 3</a>: Word Embeddings with Spacy"
   ]
  },
  {
   "cell_type": "markdown",
   "metadata": {},
   "source": [
    "# Text Feature Extraction & Classification Pieplines (Learn)\n",
    "<a id=\"p1\"></a>"
   ]
  },
  {
   "cell_type": "markdown",
   "metadata": {},
   "source": [
    "## Overview\n",
    "\n",
    "Sklearn pipelines allow you to stitch together multiple components of a machine learning process. The idea is that you can pass you raw data and get predictions out of the pipeline. This ability to pass raw input and receive a prediction from a singular class makes pipelines well suited for production, because you can pickle a a pipeline without worry about other data preprocessing steps. \n",
    "\n",
    "*Note:* Each time we call the pipeline during grid search, each component is fit again. The vectorizer (tf-idf) is transforming our entire vocabulary during each cross-validation fold. That transformation adds significant run time to our grid search. There *might* be interactions between the vectorizer and our classifier, so we estimate their performance together in the code below. However, if your goal is to reduce run time. Train your vectorizer separately (ie out of the grid-searched pipeline). "
   ]
  },
  {
   "cell_type": "code",
   "execution_count": 1,
   "metadata": {},
   "outputs": [],
   "source": [
    "# Import Statements\n",
    "from sklearn.pipeline import Pipeline\n",
    "from sklearn.datasets import fetch_20newsgroups\n",
    "from sklearn.ensemble import RandomForestClassifier\n",
    "from sklearn.model_selection import GridSearchCV\n",
    "from sklearn.feature_extraction.text import TfidfVectorizer"
   ]
  },
  {
   "cell_type": "code",
   "execution_count": 2,
   "metadata": {},
   "outputs": [
    {
     "name": "stderr",
     "output_type": "stream",
     "text": "Downloading 20news dataset. This may take a few minutes.\nDownloading dataset from https://ndownloader.figshare.com/files/5975967 (14 MB)\n"
    }
   ],
   "source": [
    "# # Dataset\n",
    "# from sklearn.datasets import fetch_20newsgroups\n",
    "\n",
    "categories = ['alt.atheism',\n",
    "              'talk.religion.misc']\n",
    "\n",
    "data = fetch_20newsgroups(subset='train', categories=categories)"
   ]
  },
  {
   "cell_type": "code",
   "execution_count": 4,
   "metadata": {},
   "outputs": [
    {
     "data": {
      "text/plain": "sklearn.utils.Bunch"
     },
     "execution_count": 4,
     "metadata": {},
     "output_type": "execute_result"
    }
   ],
   "source": [
    "#print out data sample\n",
    "type(data)"
   ]
  },
  {
   "cell_type": "code",
   "execution_count": 11,
   "metadata": {},
   "outputs": [],
   "source": [
    "# Create Pipeline Components\n",
    "\n",
    "vect = TfidfVectorizer(stop_words='english', ngram_range=(1,2))\n",
    "rfc = RandomForestClassifier()"
   ]
  },
  {
   "cell_type": "code",
   "execution_count": 6,
   "metadata": {},
   "outputs": [],
   "source": [
    "# If you call pipe.fit, all parts of the pipeline are expected to have a fit method as well as a transform method!\n",
    "# The end of the pipeline is expected to be a predict method!\n",
    "\n",
    "# Define the Pipeline as list of tuples\n",
    "pipe = Pipeline([\n",
    "                 #Vectorizer\n",
    "                 ('vect', vect),\n",
    "                 # Classifier\n",
    "                 ('clf', rfc)\n",
    "                ])\n",
    "\n"
   ]
  },
  {
   "cell_type": "code",
   "execution_count": 17,
   "metadata": {},
   "outputs": [
    {
     "name": "stdout",
     "output_type": "stream",
     "text": "Fitting 10 folds for each of 32 candidates, totalling 320 fits\n[Parallel(n_jobs=-1)]: Using backend LokyBackend with 8 concurrent workers.\n[Parallel(n_jobs=-1)]: Done  34 tasks      | elapsed:    5.1s\n[Parallel(n_jobs=-1)]: Done 184 tasks      | elapsed:   27.4s\n[Parallel(n_jobs=-1)]: Done 320 out of 320 | elapsed:   48.3s finished\nC:\\Users\\RevL\\.conda\\envs\\U4-S1-NLP\\lib\\site-packages\\sklearn\\model_selection\\_search.py:841: DeprecationWarning: The default of the `iid` parameter will change from True to False in version 0.22 and will be removed in 0.24. This will change numeric results when test-set sizes are unequal.\n  DeprecationWarning)\n"
    },
    {
     "data": {
      "text/plain": "GridSearchCV(cv=10, error_score='raise-deprecating',\n       estimator=Pipeline(memory=None,\n     steps=[('vect', TfidfVectorizer(analyzer='word', binary=False, decode_error='strict',\n        dtype=<class 'numpy.float64'>, encoding='utf-8', input='content',\n        lowercase=True, max_df=1.0, max_features=None, min_df=1,\n        ngram_range=(1, 1), norm='l2', preprocessor=None, smooth_idf=True,\n...obs=None,\n            oob_score=False, random_state=None, verbose=0,\n            warm_start=False))]),\n       fit_params=None, iid='warn', n_jobs=-1,\n       param_grid={'vect__max_df': (0.75, 1.0), 'vect__min_df': (0.02, 0.05), 'vect__max_features': (500, 1000), 'clf__n_estimators': (5, 10), 'clf__max_depth': (15, 20)},\n       pre_dispatch='2*n_jobs', refit=True, return_train_score='warn',\n       scoring=None, verbose=1)"
     },
     "execution_count": 17,
     "metadata": {},
     "output_type": "execute_result"
    }
   ],
   "source": [
    "# When calling the pipeline, use '(nameOfComponent)__(hyperparameter)': ()\n",
    "parameters = {\n",
    "    'vect__max_df': ( 0.75, 1.0),\n",
    "    'vect__min_df': (.02, .05),\n",
    "    'vect__max_features': (500,1000),\n",
    "    'clf__n_estimators':(5, 10,),\n",
    "    'clf__max_depth':(15,20)\n",
    "}\n",
    "\n",
    "grid_search = GridSearchCV(pipe, parameters, cv=10, n_jobs=-1, verbose=1)\n",
    "grid_search.fit(data.data, data.target)"
   ]
  },
  {
   "cell_type": "code",
   "execution_count": 16,
   "metadata": {},
   "outputs": [
    {
     "data": {
      "text/plain": "0.8938156359393232"
     },
     "execution_count": 16,
     "metadata": {},
     "output_type": "execute_result"
    }
   ],
   "source": [
    "grid_search.best_score_"
   ]
  },
  {
   "cell_type": "code",
   "execution_count": 14,
   "metadata": {},
   "outputs": [
    {
     "data": {
      "text/plain": "array([1, 1], dtype=int64)"
     },
     "execution_count": 14,
     "metadata": {},
     "output_type": "execute_result"
    }
   ],
   "source": [
    "grid_search.predict(['Send me lots of money now', 'you won the lottery in Nigeria'])"
   ]
  },
  {
   "cell_type": "markdown",
   "metadata": {
    "toc-hr-collapsed": true
   },
   "source": [
    "## Follow Along \n",
    "\n",
    "What you should be doing now:\n",
    "1. Join the Kaggle Competition\n",
    "2. Download the data\n",
    "3. Train a model (try using the pipe method I just demoed)"
   ]
  },
  {
   "cell_type": "markdown",
   "metadata": {},
   "source": [
    "### Load Competition Data"
   ]
  },
  {
   "cell_type": "code",
   "execution_count": 18,
   "metadata": {},
   "outputs": [],
   "source": [
    "import pandas as pd\n",
    "train = pd.read_csv('./train.csv')\n",
    "test = pd.read_csv('./test.csv')"
   ]
  },
  {
   "cell_type": "code",
   "execution_count": 19,
   "metadata": {},
   "outputs": [
    {
     "data": {
      "text/html": "<div>\n<style scoped>\n    .dataframe tbody tr th:only-of-type {\n        vertical-align: middle;\n    }\n\n    .dataframe tbody tr th {\n        vertical-align: top;\n    }\n\n    .dataframe thead th {\n        text-align: right;\n    }\n</style>\n<table border=\"1\" class=\"dataframe\">\n  <thead>\n    <tr style=\"text-align: right;\">\n      <th></th>\n      <th>id</th>\n      <th>description</th>\n      <th>category</th>\n    </tr>\n  </thead>\n  <tbody>\n    <tr>\n      <th>0</th>\n      <td>1</td>\n      <td>A marriage of 13 and 18 year old bourbons. A m...</td>\n      <td>2</td>\n    </tr>\n    <tr>\n      <th>1</th>\n      <td>2</td>\n      <td>There have been some legendary Bowmores from t...</td>\n      <td>1</td>\n    </tr>\n    <tr>\n      <th>2</th>\n      <td>3</td>\n      <td>This bottling celebrates master distiller Park...</td>\n      <td>2</td>\n    </tr>\n    <tr>\n      <th>3</th>\n      <td>4</td>\n      <td>What impresses me most is how this whisky evol...</td>\n      <td>1</td>\n    </tr>\n    <tr>\n      <th>4</th>\n      <td>9</td>\n      <td>A caramel-laden fruit bouquet, followed by une...</td>\n      <td>2</td>\n    </tr>\n  </tbody>\n</table>\n</div>",
      "text/plain": "   id                                        description  category\n0   1  A marriage of 13 and 18 year old bourbons. A m...         2\n1   2  There have been some legendary Bowmores from t...         1\n2   3  This bottling celebrates master distiller Park...         2\n3   4  What impresses me most is how this whisky evol...         1\n4   9  A caramel-laden fruit bouquet, followed by une...         2"
     },
     "execution_count": 19,
     "metadata": {},
     "output_type": "execute_result"
    }
   ],
   "source": [
    "train.head()"
   ]
  },
  {
   "cell_type": "markdown",
   "metadata": {},
   "source": [
    "### Define Pipeline Components"
   ]
  },
  {
   "cell_type": "code",
   "execution_count": 30,
   "metadata": {},
   "outputs": [],
   "source": [
    "vect = TfidfVectorizer(stop_words='english', ngram_range=(1,3))\n",
    "rfc = RandomForestClassifier()"
   ]
  },
  {
   "cell_type": "code",
   "execution_count": 31,
   "metadata": {},
   "outputs": [],
   "source": [
    "pipe = Pipeline([\n",
    "                 #Vectorizer\n",
    "                 ('vect', vect),\n",
    "                 # Classifier\n",
    "                 ('clf', rfc)\n",
    "                ])"
   ]
  },
  {
   "cell_type": "code",
   "execution_count": 32,
   "metadata": {},
   "outputs": [],
   "source": [
    "parameters = {\n",
    "    'vect__max_df': ( 0.75, 1.0),\n",
    "    'vect__min_df': (.02, .05),\n",
    "    'vect__max_features': (500,1000),\n",
    "    'clf__n_estimators':(5, 10,),\n",
    "    'clf__max_depth':(15,20)\n",
    "}\n",
    "\n",
    "grid_search = GridSearchCV(pipe, parameters, cv=10, n_jobs=-1, verbose=1)"
   ]
  },
  {
   "cell_type": "code",
   "execution_count": 33,
   "metadata": {},
   "outputs": [
    {
     "name": "stdout",
     "output_type": "stream",
     "text": "Fitting 10 folds for each of 32 candidates, totalling 320 fits\n[Parallel(n_jobs=-1)]: Using backend LokyBackend with 8 concurrent workers.\n[Parallel(n_jobs=-1)]: Done  34 tasks      | elapsed:   18.9s\n[Parallel(n_jobs=-1)]: Done 184 tasks      | elapsed:  1.3min\n[Parallel(n_jobs=-1)]: Done 320 out of 320 | elapsed:  2.3min finished\n"
    },
    {
     "data": {
      "text/plain": "GridSearchCV(cv=10, error_score='raise-deprecating',\n       estimator=Pipeline(memory=None,\n     steps=[('vect', TfidfVectorizer(analyzer='word', binary=False, decode_error='strict',\n        dtype=<class 'numpy.float64'>, encoding='utf-8', input='content',\n        lowercase=True, max_df=1.0, max_features=None, min_df=1,\n        ngram_range=(1, 3), norm='l2', preprocessor=None, smooth_idf=True,\n...obs=None,\n            oob_score=False, random_state=None, verbose=0,\n            warm_start=False))]),\n       fit_params=None, iid='warn', n_jobs=-1,\n       param_grid={'vect__max_df': (0.75, 1.0), 'vect__min_df': (0.02, 0.05), 'vect__max_features': (500, 1000), 'clf__n_estimators': (5, 10), 'clf__max_depth': (15, 20)},\n       pre_dispatch='2*n_jobs', refit=True, return_train_score='warn',\n       scoring=None, verbose=1)"
     },
     "execution_count": 33,
     "metadata": {},
     "output_type": "execute_result"
    }
   ],
   "source": [
    "desc_data = train.description\n",
    "desc_target = train.category\n",
    "\n",
    "grid_search.fit(desc_data, desc_target)"
   ]
  },
  {
   "cell_type": "code",
   "execution_count": 34,
   "metadata": {},
   "outputs": [
    {
     "data": {
      "text/plain": "0.8638824439288476"
     },
     "execution_count": 34,
     "metadata": {},
     "output_type": "execute_result"
    }
   ],
   "source": [
    "grid_search.best_score_"
   ]
  },
  {
   "cell_type": "code",
   "execution_count": 28,
   "metadata": {},
   "outputs": [
    {
     "name": "stdout",
     "output_type": "stream",
     "text": "Parameters\n |  ----------\n |  estimator : estimator object.\n |      This is assumed to implement the scikit-learn estimator interface.\n |      Either estimator needs to provide a ``score`` function,\n |      or ``scoring`` must be passed.\n |  \n |  param_grid : dict or list of dictionaries\n |      Dictionary with parameters names (string) as keys and lists of\n |      parameter settings to try as values, or a list of such\n |      dictionaries, in which case the grids spanned by each dictionary\n |      in the list are explored. This enables searching over any sequence\n |      of parameter settings.\n |  \n |  scoring : string, callable, list/tuple, dict or None, default: None\n |      A single string (see :ref:`scoring_parameter`) or a callable\n |      (see :ref:`scoring`) to evaluate the predictions on the test set.\n |  \n |      For evaluating multiple metrics, either give a list of (unique) strings\n |      or a dict with names as keys and callables as values.\n |  \n |      NOTE that when using custom scorers, each scorer should return a single\n |      value. Metric functions returning a list/array of values can be wrapped\n |      into multiple scorers that return one value each.\n |  \n |      See :ref:`multimetric_grid_search` for an example.\n |  \n |      If None, the estimator's default scorer (if available) is used.\n |  \n |  fit_params : dict, optional\n |      Parameters to pass to the fit method.\n |  \n |      .. deprecated:: 0.19\n |         ``fit_params`` as a constructor argument was deprecated in version\n |         0.19 and will be removed in version 0.21. Pass fit parameters to\n |         the ``fit`` method instead.\n |  \n |  n_jobs : int or None, optional (default=None)\n |      Number of jobs to run in parallel.\n |      ``None`` means 1 unless in a :obj:`joblib.parallel_backend` context.\n |      ``-1`` means using all processors. See :term:`Glossary <n_jobs>`\n |      for more details.\n |  \n |  pre_dispatch : int, or string, optional\n |      Controls the number of jobs that get dispatched during parallel\n |      execution. Reducing this number can be useful to avoid an\n |      explosion of memory consumption when more jobs get dispatched\n |      than CPUs can process. This parameter can be:\n |  \n |          - None, in which case all the jobs are immediately\n |            created and spawned. Use this for lightweight and\n |            fast-running jobs, to avoid delays due to on-demand\n |            spawning of the jobs\n |  \n |          - An int, giving the exact number of total jobs that are\n |            spawned\n |  \n |          - A string, giving an expression as a function of n_jobs,\n |            as in '2*n_jobs'\n |  \n |  iid : boolean, default='warn'\n |      If True, return the average score across folds, weighted by the number\n |      of samples in each test set. In this case, the data is assumed to be\n |      identically distributed across the folds, and the loss minimized is\n |      the total loss per sample, and not the mean loss across the folds. If\n |      False, return the average score across folds. Default is True, but\n |      will change to False in version 0.21, to correspond to the standard\n |      definition of cross-validation.\n |  \n |      .. versionchanged:: 0.20\n |          Parameter ``iid`` will change from True to False by default in\n |          version 0.22, and will be removed in 0.24.\n |  \n |  cv : int, cross-validation generator or an iterable, optional\n |      Determines the cross-validation splitting strategy.\n |      Possible inputs for cv are:\n |  \n |      - None, to use the default 3-fold cross validation,\n |      - integer, to specify the number of folds in a `(Stratified)KFold`,\n |      - :term:`CV splitter`,\n |      - An iterable yielding (train, test) splits as arrays of indices.\n |  \n |      For integer/None inputs, if the estimator is a classifier and ``y`` is\n |      either binary or multiclass, :class:`StratifiedKFold` is used. In all\n |      other cases, :class:`KFold` is used.\n |  \n |      Refer :ref:`User Guide <cross_validation>` for the various\n |      cross-validation strategies that can be used here.\n |  \n |      .. versionchanged:: 0.20\n |          ``cv`` default value if None will change from 3-fold to 5-fold\n |          in v0.22.\n |  \n |  refit : boolean, or string, default=True\n |      Refit an estimator using the best found parameters on the whole\n |      dataset.\n |  \n |      For multiple metric evaluation, this needs to be a string denoting the\n |      scorer is used to find the best parameters for refitting the estimator\n |      at the end.\n |  \n |      The refitted estimator is made available at the ``best_estimator_``\n |      attribute and permits using ``predict`` directly on this\n |      ``GridSearchCV`` instance.\n |  \n |      Also for multiple metric evaluation, the attributes ``best_index_``,\n |      ``best_score_`` and ``best_params_`` will only be available if\n |      ``refit`` is set and all of them will be determined w.r.t this specific\n |      scorer.\n |  \n |      See ``scoring`` parameter to know more about multiple metric\n |      evaluation.\n |  \n |  verbose : integer\n |      Controls the verbosity: the higher, the more messages.\n |  \n |  error_score : 'raise' or numeric\n |      Value to assign to the score if an error occurs in estimator fitting.\n |      If set to 'raise', the error is raised. If a numeric value is given,\n |      FitFailedWarning is raised. This parameter does not affect the refit\n |      step, which will always raise the error. Default is 'raise' but from\n |      version 0.22 it will change to np.nan.\n |  \n |  return_train_score : boolean, optional\n |      If ``False``, the ``cv_results_`` attribute will not include training\n |      scores.\n |  \n |      Current default is ``'warn'``, which behaves as ``True`` in addition\n |      to raising a warning when a training score is looked up.\n |      That default will be changed to ``False`` in 0.21.\n |      Computing training scores is used to get insights on how different\n |      parameter settings impact the overfitting/underfitting trade-off.\n |      However computing the scores on the training set can be computationally\n |      expensive and is not strictly required to select the parameters that\n |      yield the best generalization performance.\n |  \n |  \n |  Examples\n |  --------\n |  >>> from sklearn import svm, datasets\n |  >>> from sklearn.model_selection import GridSearchCV\n |  >>> iris = datasets.load_iris()\n |  >>> parameters = {'kernel':('linear', 'rbf'), 'C':[1, 10]}\n |  >>> svc = svm.SVC(gamma=\"scale\")\n |  >>> clf = GridSearchCV(svc, parameters, cv=5)\n |  >>> clf.fit(iris.data, iris.target)\n |  ...                             # doctest: +NORMALIZE_WHITESPACE +ELLIPSIS\n |  GridSearchCV(cv=5, error_score=...,\n |         estimator=SVC(C=1.0, cache_size=..., class_weight=..., coef0=...,\n |                       decision_function_shape='ovr', degree=..., gamma=...,\n |                       kernel='rbf', max_iter=-1, probability=False,\n |                       random_state=None, shrinking=True, tol=...,\n |                       verbose=False),\n |         fit_params=None, iid=..., n_jobs=None,\n |         param_grid=..., pre_dispatch=..., refit=..., return_train_score=...,\n |         scoring=..., verbose=...)\n |  >>> sorted(clf.cv_results_.keys())\n |  ...                             # doctest: +NORMALIZE_WHITESPACE +ELLIPSIS\n |  ['mean_fit_time', 'mean_score_time', 'mean_test_score',...\n |   'mean_train_score', 'param_C', 'param_kernel', 'params',...\n |   'rank_test_score', 'split0_test_score',...\n |   'split0_train_score', 'split1_test_score', 'split1_train_score',...\n |   'split2_test_score', 'split2_train_score',...\n |   'std_fit_time', 'std_score_time', 'std_test_score', 'std_train_score'...]\n |  \n |  Attributes\n |  ----------\n |  cv_results_ : dict of numpy (masked) ndarrays\n |      A dict with keys as column headers and values as columns, that can be\n |      imported into a pandas ``DataFrame``.\n |  \n |      For instance the below given table\n |  \n |      +------------+-----------+------------+-----------------+---+---------+\n |      |param_kernel|param_gamma|param_degree|split0_test_score|...|rank_t...|\n |      +============+===========+============+=================+===+=========+\n |      |  'poly'    |     --    |      2     |       0.80      |...|    2    |\n |      +------------+-----------+------------+-----------------+---+---------+\n |      |  'poly'    |     --    |      3     |       0.70      |...|    4    |\n |      +------------+-----------+------------+-----------------+---+---------+\n |      |  'rbf'     |     0.1   |     --     |       0.80      |...|    3    |\n |      +------------+-----------+------------+-----------------+---+---------+\n |      |  'rbf'     |     0.2   |     --     |       0.93      |...|    1    |\n |      +------------+-----------+------------+-----------------+---+---------+\n |  \n |      will be represented by a ``cv_results_`` dict of::\n |  \n |          {\n |          'param_kernel': masked_array(data = ['poly', 'poly', 'rbf', 'rbf'],\n |                                       mask = [False False False False]...)\n |          'param_gamma': masked_array(data = [-- -- 0.1 0.2],\n |                                      mask = [ True  True False False]...),\n |          'param_degree': masked_array(data = [2.0 3.0 -- --],\n |                                       mask = [False False  True  True]...),\n |          'split0_test_score'  : [0.80, 0.70, 0.80, 0.93],\n |          'split1_test_score'  : [0.82, 0.50, 0.70, 0.78],\n |          'mean_test_score'    : [0.81, 0.60, 0.75, 0.85],\n |          'std_test_score'     : [0.01, 0.10, 0.05, 0.08],\n |          'rank_test_score'    : [2, 4, 3, 1],\n |          'split0_train_score' : [0.80, 0.92, 0.70, 0.93],\n |          'split1_train_score' : [0.82, 0.55, 0.70, 0.87],\n |          'mean_train_score'   : [0.81, 0.74, 0.70, 0.90],\n |          'std_train_score'    : [0.01, 0.19, 0.00, 0.03],\n |          'mean_fit_time'      : [0.73, 0.63, 0.43, 0.49],\n |          'std_fit_time'       : [0.01, 0.02, 0.01, 0.01],\n |          'mean_score_time'    : [0.01, 0.06, 0.04, 0.04],\n |          'std_score_time'     : [0.00, 0.00, 0.00, 0.01],\n |          'params'             : [{'kernel': 'poly', 'degree': 2}, ...],\n |          }\n |  \n |      NOTE\n |  \n |      The key ``'params'`` is used to store a list of parameter\n |      settings dicts for all the parameter candidates.\n |  \n |      The ``mean_fit_time``, ``std_fit_time``, ``mean_score_time`` and\n |      ``std_score_time`` are all in seconds.\n |  \n |      For multi-metric evaluation, the scores for all the scorers are\n |      available in the ``cv_results_`` dict at the keys ending with that\n |      scorer's name (``'_<scorer_name>'``) instead of ``'_score'`` shown\n |      above. ('split0_test_precision', 'mean_train_precision' etc.)\n |  \n |  best_estimator_ : estimator or dict\n |      Estimator that was chosen by the search, i.e. estimator\n |      which gave highest score (or smallest loss if specified)\n |      on the left out data. Not available if ``refit=False``.\n |  \n |      See ``refit`` parameter for more information on allowed values.\n |  \n |  best_score_ : float\n |      Mean cross-validated score of the best_estimator\n |  \n |      For multi-metric evaluation, this is present only if ``refit`` is\n |      specified.\n |  \n |  best_params_ : dict\n |      Parameter setting that gave the best results on the hold out data.\n |  \n |      For multi-metric evaluation, this is present only if ``refit`` is\n |      specified.\n |  \n |  best_index_ : int\n |      The index (of the ``cv_results_`` arrays) which corresponds to the best\n |      candidate parameter setting.\n |  \n |      The dict at ``search.cv_results_['params'][search.best_index_]`` gives\n |      the parameter setting for the best model, that gives the highest\n |      mean score (``search.best_score_``).\n |  \n |      For multi-metric evaluation, this is present only if ``refit`` is\n |      specified.\n |  \n |  scorer_ : function or a dict\n |      Scorer function used on the held out data to choose the best\n |      parameters for the model.\n |  \n |      For multi-metric evaluation, this attribute holds the validated\n |      ``scoring`` dict which maps the scorer key to the scorer callable.\n |  \n |  n_splits_ : int\n |      The number of cross-validation splits (folds/iterations).\n |  \n |  refit_time_ : float\n |      Seconds used for refitting the best model on the whole dataset.\n |  \n |      This is present only if ``refit`` is not False.\n |  \n |  Notes\n |  ------\n |  The parameters selected are those that maximize the score of the left out\n |  data, unless an explicit score is passed in which case it is used instead.\n |  \n |  If `n_jobs` was set to a value higher than one, the data is copied for each\n |  point in the grid (and not `n_jobs` times). This is done for efficiency\n |  reasons if individual jobs take very little time, but may raise errors if\n |  the dataset is large and not enough memory is available.  A workaround in\n |  this case is to set `pre_dispatch`. Then, the memory is copied only\n |  `pre_dispatch` many times. A reasonable value for `pre_dispatch` is `2 *\n |  n_jobs`.\n |  \n |  See Also\n |  ---------\n |  :class:`ParameterGrid`:\n |      generates all the combinations of a hyperparameter grid.\n |  \n |  :func:`sklearn.model_selection.train_test_split`:\n |      utility function to split the data into a development set usable\n |      for fitting a GridSearchCV instance and an evaluation set for\n |      its final evaluation.\n |  \n |  :func:`sklearn.metrics.make_scorer`:\n |      Make a scorer from a performance metric or loss function.\n |  \n |  Method resolution order:\n |      GridSearchCV\n |      BaseSearchCV\n |      abc.NewBase\n |      sklearn.base.BaseEstimator\n |      sklearn.base.MetaEstimatorMixin\n |      builtins.object\n |  \n |  Methods defined here:\n |  \n |  __init__(self, estimator, param_grid, scoring=None, fit_params=None, n_jobs=None, iid='warn', refit=True, cv='warn', verbose=0, pre_dispatch='2*n_jobs', error_score='raise-deprecating', return_train_score='warn')\n |      Initialize self.  See help(type(self)) for accurate signature.\n |  \n |  ----------------------------------------------------------------------\n |  Data and other attributes defined here:\n |  \n |  __abstractmethods__ = frozenset()\n |  \n |  ----------------------------------------------------------------------\n |  Methods inherited from BaseSearchCV:\n |  \n |  decision_function(self, X)\n |      Call decision_function on the estimator with the best found parameters.\n |      \n |      Only available if ``refit=True`` and the underlying estimator supports\n |      ``decision_function``.\n |      \n |      Parameters\n |      -----------\n |      X : indexable, length n_samples\n |          Must fulfill the input assumptions of the\n |          underlying estimator.\n |  \n |  fit(self, X, y=None, groups=None, **fit_params)\n |      Run fit with all sets of parameters.\n |      \n |      Parameters\n |      ----------\n |      \n |      X : array-like, shape = [n_samples, n_features]\n |          Training vector, where n_samples is the number of samples and\n |          n_features is the number of features.\n |      \n |      y : array-like, shape = [n_samples] or [n_samples, n_output], optional\n |          Target relative to X for classification or regression;\n |          None for unsupervised learning.\n |      \n |      groups : array-like, with shape (n_samples,), optional\n |          Group labels for the samples used while splitting the dataset into\n |          train/test set.\n |      \n |      **fit_params : dict of string -> object\n |          Parameters passed to the ``fit`` method of the estimator\n |  \n |  inverse_transform(self, Xt)\n |      Call inverse_transform on the estimator with the best found params.\n |      \n |      Only available if the underlying estimator implements\n |      ``inverse_transform`` and ``refit=True``.\n |      \n |      Parameters\n |      -----------\n |      Xt : indexable, length n_samples\n |          Must fulfill the input assumptions of the\n |          underlying estimator.\n |  \n |  predict(self, X)\n |      Call predict on the estimator with the best found parameters.\n |      \n |      Only available if ``refit=True`` and the underlying estimator supports\n |      ``predict``.\n |      \n |      Parameters\n |      -----------\n |      X : indexable, length n_samples\n |          Must fulfill the input assumptions of the\n |          underlying estimator.\n |  \n |  predict_log_proba(self, X)\n |      Call predict_log_proba on the estimator with the best found parameters.\n |      \n |      Only available if ``refit=True`` and the underlying estimator supports\n |      ``predict_log_proba``.\n |      \n |      Parameters\n |      -----------\n |      X : indexable, length n_samples\n |          Must fulfill the input assumptions of the\n |          underlying estimator.\n |  \n |  predict_proba(self, X)\n |      Call predict_proba on the estimator with the best found parameters.\n |      \n |      Only available if ``refit=True`` and the underlying estimator supports\n |      ``predict_proba``.\n |      \n |      Parameters\n |      -----------\n |      X : indexable, length n_samples\n |          Must fulfill the input assumptions of the\n |          underlying estimator.\n |  \n |  score(self, X, y=None)\n |      Returns the score on the given data, if the estimator has been refit.\n |      \n |      This uses the score defined by ``scoring`` where provided, and the\n |      ``best_estimator_.score`` method otherwise.\n |      \n |      Parameters\n |      ----------\n |      X : array-like, shape = [n_samples, n_features]\n |          Input data, where n_samples is the number of samples and\n |          n_features is the number of features.\n |      \n |      y : array-like, shape = [n_samples] or [n_samples, n_output], optional\n |          Target relative to X for classification or regression;\n |          None for unsupervised learning.\n |      \n |      Returns\n |      -------\n |      score : float\n |  \n |  transform(self, X)\n |      Call transform on the estimator with the best found parameters.\n |      \n |      Only available if the underlying estimator supports ``transform`` and\n |      ``refit=True``.\n |      \n |      Parameters\n |      -----------\n |      X : indexable, length n_samples\n |          Must fulfill the input assumptions of the\n |          underlying estimator.\n |  \n |  ----------------------------------------------------------------------\n |  Data descriptors inherited from BaseSearchCV:\n |  \n |  classes_\n |  \n |  ----------------------------------------------------------------------\n |  Methods inherited from sklearn.base.BaseEstimator:\n |  \n |  __getstate__(self)\n |  \n |  __repr__(self)\n |      Return repr(self).\n |  \n |  __setstate__(self, state)\n |  \n |  get_params(self, deep=True)\n |      Get parameters for this estimator.\n |      \n |      Parameters\n |      ----------\n |      deep : boolean, optional\n |          If True, will return the parameters for this estimator and\n |          contained subobjects that are estimators.\n |      \n |      Returns\n |      -------\n |      params : mapping of string to any\n |          Parameter names mapped to their values.\n |  \n |  set_params(self, **params)\n |      Set the parameters of this estimator.\n |      \n |      The method works on simple estimators as well as on nested objects\n |      (such as pipelines). The latter have parameters of the form\n |      ``<component>__<parameter>`` so that it's possible to update each\n |      component of a nested object.\n |      \n |      Returns\n |      -------\n |      self\n |  \n |  ----------------------------------------------------------------------\n |  Data descriptors inherited from sklearn.base.BaseEstimator:\n |  \n |  __dict__\n |      dictionary for instance variables (if defined)\n |  \n |  __weakref__\n |      list of weak references to the object (if defined)\n\n"
    }
   ],
   "source": [
    "help(grid_search)"
   ]
  },
  {
   "cell_type": "code",
   "execution_count": 27,
   "metadata": {},
   "outputs": [
    {
     "data": {
      "text/html": "<div>\n<style scoped>\n    .dataframe tbody tr th:only-of-type {\n        vertical-align: middle;\n    }\n\n    .dataframe tbody tr th {\n        vertical-align: top;\n    }\n\n    .dataframe thead th {\n        text-align: right;\n    }\n</style>\n<table border=\"1\" class=\"dataframe\">\n  <thead>\n    <tr style=\"text-align: right;\">\n      <th></th>\n      <th>id</th>\n      <th>description</th>\n    </tr>\n  </thead>\n  <tbody>\n    <tr>\n      <th>0</th>\n      <td>955</td>\n      <td>Think carnival aromas—the good ones, anyway—me...</td>\n    </tr>\n    <tr>\n      <th>1</th>\n      <td>3532</td>\n      <td>A blend of three bourbons, between 6 and 12 ye...</td>\n    </tr>\n    <tr>\n      <th>2</th>\n      <td>1390</td>\n      <td>The nose is focused on cereal, hints of fresh ...</td>\n    </tr>\n    <tr>\n      <th>3</th>\n      <td>1024</td>\n      <td>Swiss-based Chapter 7 released this 19 year ol...</td>\n    </tr>\n    <tr>\n      <th>4</th>\n      <td>1902</td>\n      <td>Valkyrie replaces the current Dark Origins exp...</td>\n    </tr>\n  </tbody>\n</table>\n</div>",
      "text/plain": "     id                                        description\n0   955  Think carnival aromas—the good ones, anyway—me...\n1  3532  A blend of three bourbons, between 6 and 12 ye...\n2  1390  The nose is focused on cereal, hints of fresh ...\n3  1024  Swiss-based Chapter 7 released this 19 year ol...\n4  1902  Valkyrie replaces the current Dark Origins exp..."
     },
     "execution_count": 27,
     "metadata": {},
     "output_type": "execute_result"
    }
   ],
   "source": [
    "test.head()"
   ]
  },
  {
   "cell_type": "code",
   "execution_count": null,
   "metadata": {},
   "outputs": [],
   "source": [
    "test_data = test.description"
   ]
  },
  {
   "cell_type": "markdown",
   "metadata": {},
   "source": [
    "### Make a Submission File\n",
    "*Note:* In a typical Kaggle competition, you are only allowed two submissions a day, so you only submit if you feel you cannot achieve higher test accuracy. For this compeition the max daily submissions are capped at **20**. Submit for each demo and for your assignment. "
   ]
  },
  {
   "cell_type": "code",
   "execution_count": null,
   "metadata": {},
   "outputs": [],
   "source": [
    "# Predictions on test sample\n",
    "pred = grid_search.predict(test['description'])"
   ]
  },
  {
   "cell_type": "code",
   "execution_count": null,
   "metadata": {},
   "outputs": [],
   "source": [
    "submission = pd.DataFrame({'id': test['id'], 'category':pred})\n",
    "submission['category'] = submission['category'].astype('int64')"
   ]
  },
  {
   "cell_type": "code",
   "execution_count": null,
   "metadata": {},
   "outputs": [],
   "source": [
    "# Make Sure the Category is an Integer\n",
    "submission.head()"
   ]
  },
  {
   "cell_type": "code",
   "execution_count": null,
   "metadata": {},
   "outputs": [],
   "source": [
    "# Save your Submission File\n",
    "# Best to Use an Integer or Timestamp for different versions of your model\n",
    "submission.to_csv('./data/submission1.csv', index=False)"
   ]
  },
  {
   "cell_type": "markdown",
   "metadata": {},
   "source": [
    "## Challenge\n",
    "\n",
    "You're trying to achienve 90% Accuracy on your model."
   ]
  },
  {
   "cell_type": "markdown",
   "metadata": {},
   "source": [
    "## Latent Semantic Indexing (Learn)\n",
    "<a id=\"p2\"></a>"
   ]
  },
  {
   "cell_type": "markdown",
   "metadata": {},
   "source": [
    "## Overview"
   ]
  },
  {
   "cell_type": "code",
   "execution_count": null,
   "metadata": {},
   "outputs": [],
   "source": []
  },
  {
   "cell_type": "code",
   "execution_count": 13,
   "metadata": {},
   "outputs": [],
   "source": [
    "# Import\n",
    "\n",
    "from sklearn.decomposition import TruncatedSVD\n",
    "\n",
    "svd = TruncatedSVD(n_components=100, # Just here for demo. \n",
    "                   algorithm='randomized',\n",
    "                   n_iter=10)"
   ]
  },
  {
   "cell_type": "code",
   "execution_count": 17,
   "metadata": {},
   "outputs": [],
   "source": [
    "params = { \n",
    "    'lsi__svd__n_components': [10,100,250],\n",
    "    'lsi__vect__max_df':[.9, .95, 1.0],\n",
    "    'clf__n_estimators':[5,10,20]\n",
    "}"
   ]
  },
  {
   "cell_type": "code",
   "execution_count": 15,
   "metadata": {},
   "outputs": [],
   "source": [
    "# LSI\n",
    "lsi = Pipeline([('vect', vect), ('svd', svd)])\n",
    "\n",
    "\n",
    "# Pipe\n",
    "pipe = Pipeline([('lsi', lsi), ('clf', rfc)])"
   ]
  },
  {
   "cell_type": "code",
   "execution_count": 29,
   "metadata": {},
   "outputs": [
    {
     "name": "stdout",
     "output_type": "stream",
     "text": [
      "Pipeline(memory=None,\n",
      "     steps=[('lsi', Pipeline(memory=None,\n",
      "     steps=[('vect', TfidfVectorizer(analyzer='word', binary=False, decode_error='strict',\n",
      "        dtype=<class 'numpy.float64'>, encoding='utf-8', input='content',\n",
      "        lowercase=True, max_df=1.0, max_features=None, min_df=1,\n",
      "        ngram_range=(1, 2), norm=...obs=None,\n",
      "            oob_score=False, random_state=None, verbose=0,\n",
      "            warm_start=False))])\n"
     ]
    }
   ],
   "source": [
    "print(pipe)"
   ]
  },
  {
   "cell_type": "code",
   "execution_count": 18,
   "metadata": {},
   "outputs": [
    {
     "name": "stdout",
     "output_type": "stream",
     "text": [
      "Fitting 5 folds for each of 27 candidates, totalling 135 fits\n"
     ]
    },
    {
     "name": "stderr",
     "output_type": "stream",
     "text": [
      "[Parallel(n_jobs=4)]: Using backend LokyBackend with 4 concurrent workers.\n",
      "[Parallel(n_jobs=4)]: Done  42 tasks      | elapsed:  2.4min\n",
      "[Parallel(n_jobs=4)]: Done 135 out of 135 | elapsed:  8.2min finished\n"
     ]
    },
    {
     "data": {
      "text/plain": [
       "GridSearchCV(cv=5, error_score='raise-deprecating',\n",
       "       estimator=Pipeline(memory=None,\n",
       "     steps=[('lsi', Pipeline(memory=None,\n",
       "     steps=[('vect', TfidfVectorizer(analyzer='word', binary=False, decode_error='strict',\n",
       "        dtype=<class 'numpy.float64'>, encoding='utf-8', input='content',\n",
       "        lowercase=True, max_df=1.0, max_features=None, min_df=1,\n",
       "        ngram_range=(1, 2), norm=...obs=None,\n",
       "            oob_score=False, random_state=None, verbose=0,\n",
       "            warm_start=False))]),\n",
       "       fit_params=None, iid='warn', n_jobs=4,\n",
       "       param_grid={'lsi__svd__n_components': [10, 100, 250], 'lsi__vect__max_df': [0.9, 0.95, 1.0], 'clf__n_estimators': (5, 10, 20)},\n",
       "       pre_dispatch='2*n_jobs', refit=True, return_train_score='warn',\n",
       "       scoring=None, verbose=1)"
      ]
     },
     "execution_count": 18,
     "metadata": {},
     "output_type": "execute_result"
    }
   ],
   "source": [
    "# Fit\n",
    "grid_search = GridSearchCV(pipe,params, cv=5, n_jobs=-1, verbose=1)\n",
    "grid_search.fit(data.data, data.target)"
   ]
  },
  {
   "cell_type": "code",
   "execution_count": 15,
   "metadata": {},
   "outputs": [
    {
     "data": {
      "text/plain": [
       "0.8844807467911319"
      ]
     },
     "execution_count": 15,
     "metadata": {},
     "output_type": "execute_result"
    }
   ],
   "source": [
    "grid_search.best_score_"
   ]
  },
  {
   "cell_type": "markdown",
   "metadata": {
    "toc-hr-collapsed": true
   },
   "source": [
    "## Follow Along\n",
    "1. Join the Kaggle Competition\n",
    "2. Download the data\n",
    "3. Train a model & try: \n",
    "    - Creating a Text Extraction & Classification Pipeline\n",
    "    - Tune the pipeline with a `GridSearchCV` or `RandomizedSearchCV`\n",
    "    - Add some Latent Semantic Indexing (lsi) into your pipeline. *Note:* You can grid search a nested pipeline, but you have to use double underscores ie `lsi__svd__n_components`\n",
    "4. Make a submission to Kaggle \n"
   ]
  },
  {
   "cell_type": "markdown",
   "metadata": {},
   "source": [
    "### Define Pipeline Components"
   ]
  },
  {
   "cell_type": "code",
   "execution_count": null,
   "metadata": {},
   "outputs": [],
   "source": [
    "lsi = ...\n",
    "vect = ...\n",
    "clf = ...\n",
    "\n",
    "pipe = Pipeline([('lsi', lsi), ('clf', clf)])"
   ]
  },
  {
   "cell_type": "markdown",
   "metadata": {},
   "source": [
    "### Define Your Search Space\n",
    "You're looking for both the best hyperparameters of your vectorizer and your classification model. "
   ]
  },
  {
   "cell_type": "code",
   "execution_count": null,
   "metadata": {},
   "outputs": [],
   "source": [
    "parameters = {\n",
    "    'lsi__svd__n_components': [10,100,250],\n",
    "    'vect__max_df': (0.75, 1.0),\n",
    "    'clf__max_depth':(5,10,15,20)\n",
    "}\n",
    "\n",
    "grid_search = GridSearchCV(pipe,parameters, cv=5, n_jobs=4, verbose=1)\n",
    "grid_search.fit(..., ...)"
   ]
  },
  {
   "cell_type": "markdown",
   "metadata": {},
   "source": [
    "### Make a Submission File\n",
    "*Note:* You are only allowed two submissions a day. Only submit if you feel you cannot achieve higher test accuracy. "
   ]
  },
  {
   "cell_type": "code",
   "execution_count": null,
   "metadata": {},
   "outputs": [],
   "source": [
    "# Predictions on test sample\n",
    "pred = grid_search.predict(test['description'])"
   ]
  },
  {
   "cell_type": "code",
   "execution_count": null,
   "metadata": {},
   "outputs": [],
   "source": [
    "submission = pd.DataFrame({'id': test['id'], 'category':pred})\n",
    "submission['category'] = submission['category'].astype('int64')"
   ]
  },
  {
   "cell_type": "code",
   "execution_count": null,
   "metadata": {},
   "outputs": [],
   "source": [
    "# Make Sure the Category is an Integer\n",
    "submission.head()"
   ]
  },
  {
   "cell_type": "code",
   "execution_count": null,
   "metadata": {},
   "outputs": [],
   "source": [
    "subNumber = 0"
   ]
  },
  {
   "cell_type": "code",
   "execution_count": null,
   "metadata": {},
   "outputs": [],
   "source": [
    "# Save your Submission File\n",
    "# Best to Use an Integer or Timestamp for different versions of your model\n",
    "\n",
    "submission.to_csv(f'./data/submission{subNumber}.csv', index=False)\n",
    "subNumber += 1"
   ]
  },
  {
   "cell_type": "markdown",
   "metadata": {},
   "source": [
    "## Challenge\n",
    "\n",
    "Continue to apply Latent Semantic Indexing (LSI) to various datasets. "
   ]
  },
  {
   "cell_type": "markdown",
   "metadata": {},
   "source": [
    "# Word Embeddings with Spacy (Learn)\n",
    "<a id=\"p3\"></a>"
   ]
  },
  {
   "cell_type": "markdown",
   "metadata": {},
   "source": [
    "# Overview"
   ]
  },
  {
   "cell_type": "code",
   "execution_count": 19,
   "metadata": {},
   "outputs": [],
   "source": [
    "import spacy\n",
    "nlp = spacy.load(\"en_core_web_lg\")"
   ]
  },
  {
   "cell_type": "code",
   "execution_count": 20,
   "metadata": {},
   "outputs": [],
   "source": [
    "doc = nlp(\"Two bananas in pyjamas\")"
   ]
  },
  {
   "cell_type": "code",
   "execution_count": 21,
   "metadata": {},
   "outputs": [
    {
     "name": "stdout",
     "output_type": "stream",
     "text": [
      "300\n"
     ]
    }
   ],
   "source": [
    "bananas_vector = doc.vector\n",
    "print(len(bananas_vector))"
   ]
  },
  {
   "cell_type": "code",
   "execution_count": 22,
   "metadata": {},
   "outputs": [],
   "source": [
    "def get_word_vectors(docs):\n",
    "    return [nlp(doc).vector for doc in docs]"
   ]
  },
  {
   "cell_type": "code",
   "execution_count": 23,
   "metadata": {},
   "outputs": [
    {
     "data": {
      "text/plain": [
       "True"
      ]
     },
     "execution_count": 23,
     "metadata": {},
     "output_type": "execute_result"
    }
   ],
   "source": [
    "X = get_word_vectors(data.data)\n",
    "\n",
    "len(X) == len(data.data)"
   ]
  },
  {
   "cell_type": "code",
   "execution_count": 25,
   "metadata": {},
   "outputs": [
    {
     "data": {
      "text/plain": [
       "857"
      ]
     },
     "execution_count": 25,
     "metadata": {},
     "output_type": "execute_result"
    }
   ],
   "source": []
  },
  {
   "cell_type": "code",
   "execution_count": 26,
   "metadata": {},
   "outputs": [
    {
     "name": "stderr",
     "output_type": "stream",
     "text": [
      "/Users/jonathansokoll/anaconda3/envs/U4-S1-NLP-DS6/lib/python3.7/site-packages/sklearn/ensemble/forest.py:246: FutureWarning: The default value of n_estimators will change from 10 in version 0.20 to 100 in 0.22.\n",
      "  \"10 in version 0.20 to 100 in 0.22.\", FutureWarning)\n"
     ]
    },
    {
     "data": {
      "text/plain": [
       "RandomForestClassifier(bootstrap=True, class_weight=None, criterion='gini',\n",
       "            max_depth=None, max_features='auto', max_leaf_nodes=None,\n",
       "            min_impurity_decrease=0.0, min_impurity_split=None,\n",
       "            min_samples_leaf=1, min_samples_split=2,\n",
       "            min_weight_fraction_leaf=0.0, n_estimators=10, n_jobs=None,\n",
       "            oob_score=False, random_state=None, verbose=0,\n",
       "            warm_start=False)"
      ]
     },
     "execution_count": 26,
     "metadata": {},
     "output_type": "execute_result"
    }
   ],
   "source": [
    "rfc.fit(X, data.target)"
   ]
  },
  {
   "cell_type": "code",
   "execution_count": 27,
   "metadata": {},
   "outputs": [
    {
     "data": {
      "text/plain": [
       "0.9883313885647608"
      ]
     },
     "execution_count": 27,
     "metadata": {},
     "output_type": "execute_result"
    }
   ],
   "source": [
    "rfc.score(X, data.target)"
   ]
  },
  {
   "cell_type": "markdown",
   "metadata": {},
   "source": [
    "## Follow Along"
   ]
  },
  {
   "cell_type": "code",
   "execution_count": null,
   "metadata": {},
   "outputs": [],
   "source": [
    "# Apply to your Dataset"
   ]
  },
  {
   "cell_type": "markdown",
   "metadata": {},
   "source": [
    "## Challenge\n",
    "\n",
    "What you should be doing now:\n",
    "1. Join the Kaggle Competition\n",
    "2. Download the data\n",
    "3. Train a model & try: \n",
    "    - Creating a Text Extraction & Classification Pipeline\n",
    "    - Tune the pipeline with a `GridSearchCV` or `RandomizedSearchCV`\n",
    "    - Add some Latent Semantic Indexing (lsi) into your pipeline. *Note:* You can grid search a nested pipeline, but you have to use double underscores ie `lsi__svd__n_components`\n",
    "    - Try to extract word embeddings with Spacy and use those embeddings as your features for a classification model.\n",
    "4. Make a submission to Kaggle "
   ]
  },
  {
   "cell_type": "markdown",
   "metadata": {},
   "source": [
    "# Review\n",
    "\n",
    "To review this module: \n",
    "* Continue working on the Kaggle comeptition\n",
    "* Find another text classification task to work on"
   ]
  }
 ],
 "metadata": {
  "kernelspec": {
   "display_name": "Python 3.7.0 64-bit ('U4-S1-NLP': conda)",
   "language": "python",
   "name": "python37064bitu4s1nlpconda6603a0491ba848e59f1c0014d7f762b2"
  },
  "language_info": {
   "codemirror_mode": {
    "name": "ipython",
    "version": 3
   },
   "file_extension": ".py",
   "mimetype": "text/x-python",
   "name": "python",
   "nbconvert_exporter": "python",
   "pygments_lexer": "ipython3",
   "version": "3.7.0-final"
  }
 },
 "nbformat": 4,
 "nbformat_minor": 4
}