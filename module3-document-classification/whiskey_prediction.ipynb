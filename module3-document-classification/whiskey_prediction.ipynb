{
 "cells": [
  {
   "cell_type": "code",
   "execution_count": 56,
   "outputs": [],
   "source": [
    "# Import Statements\n",
    "import pandas as pd\n",
    "import spacy\n",
    "from sklearn.linear_model import SGDClassifier, LogisticRegression, RidgeClassifier\n",
    "from sklearn.pipeline import Pipeline\n",
    "\n",
    "from sklearn.feature_extraction.text import TfidfVectorizer, CountVectorizer\n",
    "from sklearn.decomposition import TruncatedSVD"
   ],
   "metadata": {
    "collapsed": false,
    "pycharm": {
     "name": "#%%\n",
     "is_executing": false
    }
   }
  },
  {
   "cell_type": "code",
   "execution_count": 57,
   "outputs": [],
   "source": [
    "nlp = spacy.load(\"en_core_web_lg\")\n",
    "# nlp.Defaults.stop_words.union({'whiskey', 'canadian', 'scotch', 'bourbon', 'barrel', 'mash', 'corn', 'barley', 'peat'})"
   ],
   "metadata": {
    "collapsed": false,
    "pycharm": {
     "name": "#%%\n",
     "is_executing": false
    }
   }
  },
  {
   "cell_type": "code",
   "execution_count": 58,
   "outputs": [],
   "source": [
    "def tokenize(string):\n",
    "    tokens = []\n",
    "    for doc in nlp.pipe(string.lower().split()):\n",
    "        for token in doc:\n",
    "            if not token.is_stop and not token.is_punct and token.pos_ != 'PRON':\n",
    "                tokens.append(token.lemma_)\n",
    "    return \" \".join(tokens)"
   ],
   "metadata": {
    "collapsed": false,
    "pycharm": {
     "name": "#%%\n",
     "is_executing": false
    }
   }
  },
  {
   "cell_type": "code",
   "execution_count": 59,
   "outputs": [],
   "source": [
    "# def vectorizor(strings):\n",
    "#     return [nlp(string).vector for string in strings]\n",
    "    # return nlp(strings).vector"
   ],
   "metadata": {
    "collapsed": false,
    "pycharm": {
     "name": "#%%\n",
     "is_executing": false
    }
   }
  },
  {
   "cell_type": "code",
   "execution_count": 60,
   "outputs": [],
   "source": [
    "# string = 'I am a simple string. What do I mean? It is a mystery'\n",
    "# tokens = tokenize(string)\n",
    "# vectorizor(tokens)"
   ],
   "metadata": {
    "collapsed": false,
    "pycharm": {
     "name": "#%%\n",
     "is_executing": false
    }
   }
  },
  {
   "cell_type": "code",
   "execution_count": 61,
   "outputs": [
    {
     "data": {
      "text/plain": "   id                author  \\\n0   1          John Hansell   \n1   2            Dave Broom   \n2   3          John Hansell   \n3   4          John Hansell   \n4   6  Davin de Kergommeaux   \n\n                                         description    price  ratingValue  \\\n0  A marriage of 13 and 18 year old bourbons. A m...     85.0           97   \n1  There have been some legendary Bowmores from t...  13500.0           97   \n2  This bottling celebrates master distiller Park...    150.0           97   \n3  What impresses me most is how this whisky evol...   4500.0           97   \n4  After 40 years in barrels, the trademark Canad...    199.0           96   \n\n   pert_alcohol  category  \n0          51.5       2.0  \n1          42.9       1.0  \n2          50.0       2.0  \n3          40.5       1.0  \n4          45.0       NaN  ",
      "text/html": "<div>\n<style scoped>\n    .dataframe tbody tr th:only-of-type {\n        vertical-align: middle;\n    }\n\n    .dataframe tbody tr th {\n        vertical-align: top;\n    }\n\n    .dataframe thead th {\n        text-align: right;\n    }\n</style>\n<table border=\"1\" class=\"dataframe\">\n  <thead>\n    <tr style=\"text-align: right;\">\n      <th></th>\n      <th>id</th>\n      <th>author</th>\n      <th>description</th>\n      <th>price</th>\n      <th>ratingValue</th>\n      <th>pert_alcohol</th>\n      <th>category</th>\n    </tr>\n  </thead>\n  <tbody>\n    <tr>\n      <th>0</th>\n      <td>1</td>\n      <td>John Hansell</td>\n      <td>A marriage of 13 and 18 year old bourbons. A m...</td>\n      <td>85.0</td>\n      <td>97</td>\n      <td>51.5</td>\n      <td>2.0</td>\n    </tr>\n    <tr>\n      <th>1</th>\n      <td>2</td>\n      <td>Dave Broom</td>\n      <td>There have been some legendary Bowmores from t...</td>\n      <td>13500.0</td>\n      <td>97</td>\n      <td>42.9</td>\n      <td>1.0</td>\n    </tr>\n    <tr>\n      <th>2</th>\n      <td>3</td>\n      <td>John Hansell</td>\n      <td>This bottling celebrates master distiller Park...</td>\n      <td>150.0</td>\n      <td>97</td>\n      <td>50.0</td>\n      <td>2.0</td>\n    </tr>\n    <tr>\n      <th>3</th>\n      <td>4</td>\n      <td>John Hansell</td>\n      <td>What impresses me most is how this whisky evol...</td>\n      <td>4500.0</td>\n      <td>97</td>\n      <td>40.5</td>\n      <td>1.0</td>\n    </tr>\n    <tr>\n      <th>4</th>\n      <td>6</td>\n      <td>Davin de Kergommeaux</td>\n      <td>After 40 years in barrels, the trademark Canad...</td>\n      <td>199.0</td>\n      <td>96</td>\n      <td>45.0</td>\n      <td>NaN</td>\n    </tr>\n  </tbody>\n</table>\n</div>"
     },
     "metadata": {},
     "output_type": "execute_result",
     "execution_count": 61
    }
   ],
   "source": [
    "# Get data.\n",
    "\n",
    "train = pd.read_csv('train.csv')\n",
    "train.head()"
   ],
   "metadata": {
    "collapsed": false,
    "pycharm": {
     "name": "#%%\n",
     "is_executing": false
    }
   }
  },
  {
   "cell_type": "code",
   "execution_count": 62,
   "outputs": [],
   "source": [
    "train1 = train[~train['category'].isna()]"
   ],
   "metadata": {
    "collapsed": false,
    "pycharm": {
     "name": "#%%\n",
     "is_executing": false
    }
   }
  },
  {
   "cell_type": "code",
   "execution_count": 63,
   "outputs": [],
   "source": [
    "y = train1['category']\n",
    "X_train = train1['description'].apply(tokenize)\n",
    "# vectors = vectorizor(train1['tokens'])\n",
    "# X_train = pd.DataFrame({'vectors': vectors})"
   ],
   "metadata": {
    "collapsed": false,
    "pycharm": {
     "name": "#%%\n",
     "is_executing": false
    }
   }
  },
  {
   "cell_type": "code",
   "execution_count": 64,
   "outputs": [],
   "source": [
    "test = pd.read_csv('test.csv')\n",
    "X_test = test['description'].apply(tokenize)\n",
    "# test_vectors = vectorizor(test['tokens'])\n",
    "# X_test = pd.DataFrame({'vectors': test_vectors})"
   ],
   "metadata": {
    "collapsed": false,
    "pycharm": {
     "name": "#%%\n",
     "is_executing": false
    }
   }
  },
  {
   "cell_type": "code",
   "execution_count": 73,
   "metadata": {
    "collapsed": true,
    "pycharm": {
     "is_executing": false
    }
   },
   "outputs": [
    {
     "traceback": [
      "\u001b[0;31m---------------------------------------------------------------------------\u001b[0m",
      "\u001b[0;31mNameError\u001b[0m                                 Traceback (most recent call last)",
      "\u001b[0;32m<ipython-input-73-0e1509abf95b>\u001b[0m in \u001b[0;36m<module>\u001b[0;34m\u001b[0m\n\u001b[1;32m      1\u001b[0m \u001b[0;34m\u001b[0m\u001b[0m\n\u001b[0;32m----> 2\u001b[0;31m \u001b[0msgd\u001b[0m \u001b[0;34m=\u001b[0m \u001b[0mRidgeClassifier\u001b[0m\u001b[0;34m(\u001b[0m\u001b[0;34m)\u001b[0m\u001b[0;34m\u001b[0m\u001b[0;34m\u001b[0m\u001b[0m\n\u001b[0m\u001b[1;32m      3\u001b[0m vect = TfidfVectorizer(ngram_range=(1, 2),\n\u001b[1;32m      4\u001b[0m                        max_features=100)\n\u001b[1;32m      5\u001b[0m \u001b[0;34m\u001b[0m\u001b[0m\n",
      "\u001b[0;31mNameError\u001b[0m: name 'RidgeClassifier' is not defined"
     ],
     "ename": "NameError",
     "evalue": "name 'RidgeClassifier' is not defined",
     "output_type": "error"
    }
   ],
   "source": [
    "sgd = RidgeClassifier()\n",
    "vect = TfidfVectorizer(ngram_range=(1, 2),\n",
    "                       max_features=100)\n",
    "\n",
    "svd = TruncatedSVD(n_components=50,\n",
    "                   algorithm='randomized',\n",
    "                   n_iter=100)"
   ]
  },
  {
   "cell_type": "code",
   "execution_count": 74,
   "outputs": [],
   "source": [
    "# LSI\n",
    "\n",
    "lsi = Pipeline([('vect', vect), ('svd', svd)])"
   ],
   "metadata": {
    "collapsed": false,
    "pycharm": {
     "name": "#%%\n",
     "is_executing": false
    }
   }
  },
  {
   "cell_type": "code",
   "execution_count": 75,
   "outputs": [],
   "source": [
    "# Pipe\n",
    "\n",
    "pipe = Pipeline([('lsi', lsi), ('clf', sgd)])\n"
   ],
   "metadata": {
    "collapsed": false,
    "pycharm": {
     "name": "#%%\n",
     "is_executing": false
    }
   }
  },
  {
   "cell_type": "code",
   "execution_count": 76,
   "outputs": [],
   "source": [
    "# Fit\n",
    "\n",
    "pipe.fit(X_train, y)\n",
    "pred = pipe.predict(X_test)"
   ],
   "metadata": {
    "collapsed": false,
    "pycharm": {
     "name": "#%%\n",
     "is_executing": false
    }
   }
  },
  {
   "cell_type": "code",
   "execution_count": 77,
   "outputs": [],
   "source": [
    "# model = LogisticRegression()\n",
    "# model.fit(vectors, y)\n",
    "# pred = model.predict(test_vectors)"
   ],
   "metadata": {
    "collapsed": false,
    "pycharm": {
     "name": "#%%\n",
     "is_executing": false
    }
   }
  },
  {
   "cell_type": "code",
   "execution_count": 78,
   "outputs": [
    {
     "data": {
      "text/plain": "     id  category\n0   955         1\n1  3532         3\n2  1390         2\n3  1024         4\n4  1902         2",
      "text/html": "<div>\n<style scoped>\n    .dataframe tbody tr th:only-of-type {\n        vertical-align: middle;\n    }\n\n    .dataframe tbody tr th {\n        vertical-align: top;\n    }\n\n    .dataframe thead th {\n        text-align: right;\n    }\n</style>\n<table border=\"1\" class=\"dataframe\">\n  <thead>\n    <tr style=\"text-align: right;\">\n      <th></th>\n      <th>id</th>\n      <th>category</th>\n    </tr>\n  </thead>\n  <tbody>\n    <tr>\n      <th>0</th>\n      <td>955</td>\n      <td>1</td>\n    </tr>\n    <tr>\n      <th>1</th>\n      <td>3532</td>\n      <td>3</td>\n    </tr>\n    <tr>\n      <th>2</th>\n      <td>1390</td>\n      <td>2</td>\n    </tr>\n    <tr>\n      <th>3</th>\n      <td>1024</td>\n      <td>4</td>\n    </tr>\n    <tr>\n      <th>4</th>\n      <td>1902</td>\n      <td>2</td>\n    </tr>\n  </tbody>\n</table>\n</div>"
     },
     "metadata": {},
     "output_type": "execute_result",
     "execution_count": 78
    }
   ],
   "source": [
    "submission = pd.read_csv('sample_submission.csv')\n",
    "submission.head()"
   ],
   "metadata": {
    "collapsed": false,
    "pycharm": {
     "name": "#%%\n",
     "is_executing": false
    }
   }
  },
  {
   "cell_type": "code",
   "execution_count": 79,
   "outputs": [
    {
     "data": {
      "text/plain": "     id  category\n0   955         2\n1  3532         3\n2  1390         1\n3  1024         1\n4  1902         1",
      "text/html": "<div>\n<style scoped>\n    .dataframe tbody tr th:only-of-type {\n        vertical-align: middle;\n    }\n\n    .dataframe tbody tr th {\n        vertical-align: top;\n    }\n\n    .dataframe thead th {\n        text-align: right;\n    }\n</style>\n<table border=\"1\" class=\"dataframe\">\n  <thead>\n    <tr style=\"text-align: right;\">\n      <th></th>\n      <th>id</th>\n      <th>category</th>\n    </tr>\n  </thead>\n  <tbody>\n    <tr>\n      <th>0</th>\n      <td>955</td>\n      <td>2</td>\n    </tr>\n    <tr>\n      <th>1</th>\n      <td>3532</td>\n      <td>3</td>\n    </tr>\n    <tr>\n      <th>2</th>\n      <td>1390</td>\n      <td>1</td>\n    </tr>\n    <tr>\n      <th>3</th>\n      <td>1024</td>\n      <td>1</td>\n    </tr>\n    <tr>\n      <th>4</th>\n      <td>1902</td>\n      <td>1</td>\n    </tr>\n  </tbody>\n</table>\n</div>"
     },
     "metadata": {},
     "output_type": "execute_result",
     "execution_count": 79
    }
   ],
   "source": [
    "submission['category'] = pred.astype(int)\n",
    "submission.head()"
   ],
   "metadata": {
    "collapsed": false,
    "pycharm": {
     "name": "#%%\n",
     "is_executing": false
    }
   }
  },
  {
   "cell_type": "code",
   "execution_count": 80,
   "outputs": [],
   "source": [
    "submission.to_csv('submission.csv', index=False)"
   ],
   "metadata": {
    "collapsed": false,
    "pycharm": {
     "name": "#%%\n",
     "is_executing": false
    }
   }
  },
  {
   "cell_type": "code",
   "execution_count": 72,
   "outputs": [],
   "source": [
    "\n"
   ],
   "metadata": {
    "collapsed": false,
    "pycharm": {
     "name": "#%%\n",
     "is_executing": false
    }
   }
  }
 ],
 "metadata": {
  "language_info": {
   "codemirror_mode": {
    "name": "ipython",
    "version": 2
   },
   "file_extension": ".py",
   "mimetype": "text/x-python",
   "name": "python",
   "nbconvert_exporter": "python",
   "pygments_lexer": "ipython2",
   "version": "2.7.6"
  },
  "kernelspec": {
   "name": "python3",
   "language": "python",
   "display_name": "Python 3"
  },
  "pycharm": {
   "stem_cell": {
    "cell_type": "raw",
    "source": [],
    "metadata": {
     "collapsed": false
    }
   }
  }
 },
 "nbformat": 4,
 "nbformat_minor": 0
}