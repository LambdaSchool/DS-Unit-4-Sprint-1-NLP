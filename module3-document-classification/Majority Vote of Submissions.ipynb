{
 "cells": [
  {
   "cell_type": "markdown",
   "metadata": {},
   "source": [
    "### Majority Vote"
   ]
  },
  {
   "cell_type": "code",
   "execution_count": 1,
   "metadata": {
    "ExecuteTime": {
     "end_time": "2019-10-04T07:46:33.981304Z",
     "start_time": "2019-10-04T07:46:31.754550Z"
    }
   },
   "outputs": [
    {
     "name": "stdout",
     "output_type": "stream",
     "text": [
      "***** Submission Ensembled *****\n"
     ]
    }
   ],
   "source": [
    "# Ensemble your submissions\n",
    "\n",
    "import pandas as pd\n",
    "import os\n",
    "\n",
    "\n",
    "def ensemble_submissions(target, submission_folder, file_name_suffix):\n",
    "    if not os.path.isdir(submission_folder):\n",
    "        raise FileNotFoundError(\"Check the submission folder path, either it's a Typo or doesn't exist\")\n",
    "    \n",
    "    files = os.listdir(submission_folder)\n",
    "    files = [os.path.join(submission_folder, file) for file in files if file.startswith(file_name_suffix) and file.endswith('.csv')]\n",
    "    submissions = (pd.read_csv(file)[[target]] for file in files)\n",
    "    \n",
    "    # Convert submissions to dataframe\n",
    "    ensemble = pd.concat(submissions, axis='columns') \n",
    "    # Get majority vote / mode on them\n",
    "    majority_vote = ensemble.mode(axis='columns')[0].astype(int)\n",
    "    \n",
    "    if not os.path.exists(os.path.join(submission_folder, 'sample_submission.csv')):\n",
    "        raise FileNotFoundError(\"Check the submission folder has `sample_submission.csv` file\")\n",
    "    \n",
    "    # Use sample submission to save it back\n",
    "    sample_submission = pd.read_csv(os.path.join(submission_folder, 'sample_submission.csv'))\n",
    "    submission = sample_submission.copy()\n",
    "    submission[target] = majority_vote\n",
    "    ultimate_ensemble_file_name = 'my-ultimate-ensemble-submission.csv'\n",
    "    submission.to_csv(os.path.join(submission_folder, ultimate_ensemble_file_name), index=False)\n",
    "    print('***** Submission Ensembled *****')\n",
    "    \n",
    "target = 'category'\n",
    "submission_folder = './data'\n",
    "file_name_suffix = 'submission_'\n",
    "ensemble_submissions(target, submission_folder, file_name_suffix)"
   ]
  }
 ],
 "metadata": {
  "kernelspec": {
   "display_name": "U4-S1-NLP-DS6 (Python 3.7)",
   "language": "python",
   "name": "u4-s1-nlp-ds6"
  },
  "language_info": {
   "codemirror_mode": {
    "name": "ipython",
    "version": 3
   },
   "file_extension": ".py",
   "mimetype": "text/x-python",
   "name": "python",
   "nbconvert_exporter": "python",
   "pygments_lexer": "ipython3",
   "version": "3.7.3"
  }
 },
 "nbformat": 4,
 "nbformat_minor": 2
}
