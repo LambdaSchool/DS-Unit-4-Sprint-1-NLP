{
  "nbformat": 4,
  "nbformat_minor": 0,
  "metadata": {
    "colab": {
      "name": "Aaron_Huizenga_Temp Tracker - OOP Practice.ipynb",
      "provenance": [],
      "include_colab_link": true
    },
    "kernelspec": {
      "name": "python3",
      "display_name": "Python 3"
    }
  },
  "cells": [
    {
      "cell_type": "markdown",
      "metadata": {
        "id": "view-in-github",
        "colab_type": "text"
      },
      "source": [
        "<a href=\"https://colab.research.google.com/github/nusc2016/DS-Unit-4-Sprint-1-NLP/blob/main/Aaron_Huizenga_Temp_Tracker_OOP_Practice.ipynb\" target=\"_parent\"><img src=\"https://colab.research.google.com/assets/colab-badge.svg\" alt=\"Open In Colab\"/></a>"
      ]
    },
    {
      "cell_type": "markdown",
      "metadata": {
        "id": "3WyYgiyc79jc",
        "colab_type": "text"
      },
      "source": [
        "# Problem\n",
        "Write a class TempTracker that tracks the max, min, mean, and mode of temperature values as they are inserted into the TempTracker. This class should have the following methods:\n",
        "\n",
        "     insert() - records a new temperature.\n",
        "     get_max() - returns the highest temperature we've seen so far.\n",
        "     get_min() - returns the lowest temperature we've seen so far.\n",
        "     get_mean() - returns the mean of all temperatures we've seen so far.\n",
        "     get_mode() - returns a mode of all temperatures we've seen so far.\n",
        "\n",
        "\n",
        "Favor speeding up the get methods over the insert method. Aim to get each of the get methods down to constant runtime. \n",
        "\n",
        "get_mean() should return a float. The rest of the methods can return integers. Temperatures should be recorded in Fahrenheit, so we can assume a range of 0 to 140.\n",
        "\n",
        "If there is more than one mode, return any of the modes. "
      ]
    },
    {
      "cell_type": "markdown",
      "metadata": {
        "id": "6f5D5sWy8VYN",
        "colab_type": "text"
      },
      "source": [
        "# Resources\n",
        "[Python Classes Documentation](https://docs.python.org/3/tutorial/classes.html)\n",
        "\n",
        "[Class Customization via Dunder Methods Documentation](https://docs.python.org/3/reference/datamodel.html#basic-customization)\n",
        "\n",
        "[Dunder Methods Tutorial](https://dbader.org/blog/python-dunder-methods)"
      ]
    },
    {
      "cell_type": "markdown",
      "metadata": {
        "id": "zEzk52Ui86C3",
        "colab_type": "text"
      },
      "source": [
        "# Solution"
      ]
    },
    {
      "cell_type": "code",
      "metadata": {
        "id": "COwBRvNi89FX",
        "colab_type": "code",
        "colab": {}
      },
      "source": [
        "class TemperatureTracker:\n",
        "  def __init__(self):\n",
        "    pass\n",
        "\n",
        "  def insert(self, temp):\n",
        "    pass\n",
        "\n",
        "  def get_max(self):\n",
        "    pass\n",
        "\n",
        "  def get_min(self):\n",
        "    pass\n",
        "\n",
        "  def get_mean(self):\n",
        "    pass\n",
        "\n",
        "  def get_mode(self):\n",
        "    pass"
      ],
      "execution_count": null,
      "outputs": []
    },
    {
      "cell_type": "code",
      "metadata": {
        "id": "09F-JfbR74b4",
        "colab_type": "code",
        "colab": {}
      },
      "source": [
        "class TemperatureTracker:\n",
        "\n",
        "  def __init__(self):\n",
        "    # For mode\n",
        "    self.occurrences = [0] * 140   # list of all 0s at indices 0..140\n",
        "    self.max_occurrences = 0\n",
        "    self.mode = None\n",
        "\n",
        "    # For mean\n",
        "    self.number_of_readings = 0 \n",
        "    self.total_sum = 0\n",
        "    self.mean = None \n",
        "\n",
        "    # For min and max \n",
        "    self.min_temp = float('inf')\n",
        "    self.max_temp = float('-inf')\n",
        "\n",
        "  def insert(self, temp):\n",
        "    # For mode \n",
        "    self.occurrences[temp] += 1 \n",
        "    if self.occurrences[temp] > self.max_occurrences:\n",
        "      self.mode = temp\n",
        "      self.max_occurrences = self.occurrences[temp]\n",
        "\n",
        "    # For mean \n",
        "    self.number_of_readings += 1 \n",
        "    self.total_sum += temp \n",
        "    self.mean = self.total_sum / self.number_of_readings \n",
        "\n",
        "    # For min and max \n",
        "    if temp > self.max_temp:\n",
        "      self.max_temp = temp \n",
        "    elif temp < self.min_temp:\n",
        "      self.min_temp = temp \n",
        "\n",
        "  def get_max(self):\n",
        "    return self.max_temp \n",
        "  \n",
        "  def get_min(self):\n",
        "    return self.min_temp \n",
        "  \n",
        "  def get_mean(self):\n",
        "    return self.mean \n",
        "  \n",
        "  def get_mode(self):\n",
        "    return self.mode "
      ],
      "execution_count": null,
      "outputs": []
    },
    {
      "cell_type": "markdown",
      "metadata": {
        "id": "WcI4saGv2oAF",
        "colab_type": "text"
      },
      "source": [
        "# BEGIN HERE"
      ]
    },
    {
      "cell_type": "code",
      "metadata": {
        "id": "J4gXtEkB2neU",
        "colab_type": "code",
        "colab": {}
      },
      "source": [
        "import unittest"
      ],
      "execution_count": 1,
      "outputs": []
    },
    {
      "cell_type": "code",
      "metadata": {
        "id": "p6CfEwyk2upU",
        "colab_type": "code",
        "colab": {}
      },
      "source": [
        "class TempTracker:\n",
        "    \"\"\"Temperature Tracker\"\"\"\n",
        "\n",
        "    def __init__(self):\n",
        "        self.temps = [0] * 111\n",
        "        self.num_temps = 0\n",
        "        self.min = 111\n",
        "        self.max = -1\n",
        "        self.total = 0\n",
        "        self.mean = None\n",
        "        self.max_freq = 0\n",
        "        self.mode = None"
      ],
      "execution_count": 2,
      "outputs": []
    },
    {
      "cell_type": "code",
      "metadata": {
        "id": "-8g-Xsd83j9h",
        "colab_type": "code",
        "colab": {}
      },
      "source": [
        "def insert(self, temp):\n",
        "        if temp < 0 or temp > 110:\n",
        "            raise Exception\n",
        "        self.temps[temp] += 1\n",
        "        self.num_temps += 1\n",
        "        if temp < self.min:\n",
        "            self.min = temp\n",
        "        if temp > self.max:\n",
        "            self.max = temp\n",
        "        self.total += temp\n",
        "        self.mean = self.total / float(self.num_temps)\n",
        "        if self.temps[temp] > self.max_freq:\n",
        "            self.max_freq = self.temps[temp]\n",
        "            self.mode = temp"
      ],
      "execution_count": 3,
      "outputs": []
    },
    {
      "cell_type": "code",
      "metadata": {
        "id": "zAQhr6Zd3oXU",
        "colab_type": "code",
        "colab": {}
      },
      "source": [
        "def get_max(self):\n",
        "        max = self.max\n",
        "        if max == -1:\n",
        "            max = None\n",
        "        return max"
      ],
      "execution_count": 4,
      "outputs": []
    },
    {
      "cell_type": "code",
      "metadata": {
        "id": "KAz_g92y3uUD",
        "colab_type": "code",
        "colab": {}
      },
      "source": [
        "def get_min(self):\n",
        "        min = self.min\n",
        "        if min == 111:\n",
        "            min = None\n",
        "        return min"
      ],
      "execution_count": 5,
      "outputs": []
    },
    {
      "cell_type": "code",
      "metadata": {
        "id": "LQH42fc73y4s",
        "colab_type": "code",
        "colab": {}
      },
      "source": [
        "def get_min(self):\n",
        "        min = self.min\n",
        "        if min == 111:\n",
        "            min = None\n",
        "        return min"
      ],
      "execution_count": 6,
      "outputs": []
    },
    {
      "cell_type": "code",
      "metadata": {
        "id": "KvjRHbnr33XR",
        "colab_type": "code",
        "colab": {}
      },
      "source": [
        "def get_mode(self):\n",
        "        return self.mode"
      ],
      "execution_count": 7,
      "outputs": []
    },
    {
      "cell_type": "code",
      "metadata": {
        "id": "ctxr9Uck37R5",
        "colab_type": "code",
        "colab": {}
      },
      "source": [
        "class TestTempTracker(unittest.TestCase):\n",
        "\n",
        "    def _test_tracker(self, temps, min, max, mean, modes):\n",
        "        tracker = TempTracker()\n",
        "        for temp in temps:\n",
        "            tracker.insert(temp)\n",
        "        print(\"\")\n",
        "        print(\"Test: temps = %s\" % temps)\n",
        "        print(\" min %s max %s\" % (tracker.get_min(), tracker.get_max()))\n",
        "        self.assertTrue(tracker.get_min() == min)\n",
        "        self.assertTrue(tracker.get_max() == max)\n",
        "        print(\" mean %s mode %s\" % (tracker.get_mean(), tracker.get_mode()))\n",
        "        self.assertTrue(tracker.get_mean() == mean)\n",
        "        self.assertTrue(tracker.get_mode() in modes)"
      ],
      "execution_count": 8,
      "outputs": []
    },
    {
      "cell_type": "code",
      "metadata": {
        "id": "yDEif7bL4ABf",
        "colab_type": "code",
        "colab": {}
      },
      "source": [
        "def test_null(self):\n",
        "        self._test_tracker([], None, None, None, [None])"
      ],
      "execution_count": 9,
      "outputs": []
    },
    {
      "cell_type": "code",
      "metadata": {
        "id": "l53Kzbtl4HbR",
        "colab_type": "code",
        "colab": {}
      },
      "source": [
        "def test_0(self):\n",
        "  self._test_tracker([0], 0, 0, 0, [0])"
      ],
      "execution_count": 10,
      "outputs": []
    },
    {
      "cell_type": "code",
      "metadata": {
        "id": "M-qXdi1z4rAS",
        "colab_type": "code",
        "colab": {}
      },
      "source": [
        "def test_1(self):\n",
        "  self._test_tracker([0, 1], 0, 1, 0.5, [0, 1])"
      ],
      "execution_count": 11,
      "outputs": []
    },
    {
      "cell_type": "code",
      "metadata": {
        "id": "U9EJQwsd4528",
        "colab_type": "code",
        "colab": {}
      },
      "source": [
        "def test_011(self):\n",
        "  self._test_tracker([0, 1, 1], 0, 1, 2 / 3.0, [1])"
      ],
      "execution_count": 12,
      "outputs": []
    },
    {
      "cell_type": "code",
      "metadata": {
        "id": "0qzA-a0V5Phi",
        "colab_type": "code",
        "colab": {}
      },
      "source": [
        "def test_0112(self):\n",
        "  self._test_tracker([0, 1, 1, 2], 0, 2, 4 / 4.0, [1])"
      ],
      "execution_count": 13,
      "outputs": []
    },
    {
      "cell_type": "code",
      "metadata": {
        "id": "UJXJF2Ql5cgK",
        "colab_type": "code",
        "colab": {}
      },
      "source": [
        "def test_0111225(self):\n",
        "  self._test_tracker([0, 1, 1, 2, 2, 5], 0, 5, 11 / 6.0, [1, 2])"
      ],
      "execution_count": 14,
      "outputs": []
    },
    {
      "cell_type": "code",
      "metadata": {
        "id": "Bh6NJ86t5tX3",
        "colab_type": "code",
        "colab": {}
      },
      "source": [
        "def test_011122555(self):\n",
        "  self._test_tracker([0, 1, 1, 2, 2, 5, 5, 5], 0, 5, 21 / 8.0, [5])"
      ],
      "execution_count": 15,
      "outputs": []
    },
    {
      "cell_type": "code",
      "metadata": {
        "id": "-46_k_H259qO",
        "colab_type": "code",
        "colab": {}
      },
      "source": [
        "def test_extremes(self):\n",
        "        tracker = TempTracker()\n",
        "        self.assertRaises(Exception, tracker.insert, -1)\n",
        "        self.assertRaises(Exception, tracker.insert, 111)"
      ],
      "execution_count": 16,
      "outputs": []
    },
    {
      "cell_type": "code",
      "metadata": {
        "id": "4xX991rR6Bng",
        "colab_type": "code",
        "colab": {
          "base_uri": "https://localhost:8080/",
          "height": 104
        },
        "outputId": "03c85fec-2c83-436c-9cc3-c103e0c6644f"
      },
      "source": [
        "if __name__ == \"__main__\":\n",
        "    # unittest.main()\n",
        "    suite = unittest.TestLoader().loadTestsFromTestCase(TestTempTracker)\n",
        "    unittest.TextTestRunner(verbosity=2).run(suite)"
      ],
      "execution_count": 17,
      "outputs": [
        {
          "output_type": "stream",
          "text": [
            "\n",
            "----------------------------------------------------------------------\n",
            "Ran 0 tests in 0.000s\n",
            "\n",
            "OK\n"
          ],
          "name": "stderr"
        }
      ]
    },
    {
      "cell_type": "code",
      "metadata": {
        "id": "41v9QpBb6Fix",
        "colab_type": "code",
        "colab": {}
      },
      "source": [
        ""
      ],
      "execution_count": null,
      "outputs": []
    }
  ]
}