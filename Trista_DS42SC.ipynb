{
  "nbformat": 4,
  "nbformat_minor": 0,
  "metadata": {
    "colab": {
      "name": "Trista DS42SC.ipynb",
      "version": "0.3.2",
      "provenance": [],
      "collapsed_sections": [
        "s4Q0dgoe_uBW",
        "Q764vszGqiUh",
        "3iUeBKtG_uEK",
        "sorF95UO_uGx"
      ],
      "include_colab_link": true
    },
    "language_info": {
      "codemirror_mode": {
        "name": "ipython",
        "version": 3
      },
      "file_extension": ".py",
      "mimetype": "text/x-python",
      "name": "python",
      "nbconvert_exporter": "python",
      "pygments_lexer": "ipython3",
      "version": "3.7.1"
    },
    "kernelspec": {
      "display_name": "Python 3",
      "language": "python",
      "name": "python3"
    }
  },
  "cells": [
    {
      "cell_type": "markdown",
      "metadata": {
        "id": "view-in-github",
        "colab_type": "text"
      },
      "source": [
        "<a href=\"https://colab.research.google.com/github/trista-paul/DS-Unit-4-Sprint-2-NLP/blob/master/Trista_DS42SC.ipynb\" target=\"_parent\"><img src=\"https://colab.research.google.com/assets/colab-badge.svg\" alt=\"Open In Colab\"/></a>"
      ]
    },
    {
      "cell_type": "markdown",
      "metadata": {
        "colab_type": "text",
        "id": "QpPcbYew_ttN"
      },
      "source": [
        "<img align=\"left\" src=\"https://lever-client-logos.s3.amazonaws.com/864372b1-534c-480e-acd5-9711f850815c-1524247202159.png\" width=200>\n",
        "<br></br>\n",
        "<br></br>\n",
        "\n",
        "## *Data Science Unit 4 Sprint 2 Sprint Challenge*\n",
        "\n",
        "# Natural Language Processing\n",
        "\n",
        "**Part 1 - Working with Text Data**\n",
        "Use Python string methods remove irregular whitespace from the following string:"
      ]
    },
    {
      "cell_type": "code",
      "metadata": {
        "colab_type": "code",
        "id": "dtotEnsStY5o",
        "outputId": "f56fec03-c383-4ae2-87c6-a8ec3a6eea67",
        "colab": {
          "base_uri": "https://localhost:8080/",
          "height": 34
        }
      },
      "source": [
        "whitespace_string = \"\\n\\n  This is a    string   that has  \\n a lot of  extra \\n   whitespace.   \"\n",
        "whitespace_string = whitespace_string.split(\" \")\n",
        "whitespace_string = filter(None, whitespace_string)\n",
        "whitespace_string = \" \".join(whitespace_string)\n",
        "whitespace_string = whitespace_string.split('\\n')\n",
        "newlist = []\n",
        "for word in whitespace_string:\n",
        "  word = word.lstrip()\n",
        "  newlist.append(word)\n",
        "whitespace_string = filter(None, newlist)\n",
        "whitespace_string = \"\".join(whitespace_string)\n",
        "\n",
        "print(whitespace_string)"
      ],
      "execution_count": 102,
      "outputs": [
        {
          "output_type": "stream",
          "text": [
            "This is a string that has a lot of extra whitespace.\n"
          ],
          "name": "stdout"
        }
      ]
    },
    {
      "cell_type": "code",
      "metadata": {
        "colab_type": "code",
        "id": "G9-MkBwasXx8",
        "colab": {}
      },
      "source": [
        " ##### Your Code Here #####"
      ],
      "execution_count": 0,
      "outputs": []
    },
    {
      "cell_type": "markdown",
      "metadata": {
        "colab_type": "text",
        "id": "Vg1-d2aAsXLn"
      },
      "source": [
        "### Use Regular Expressions to take the dates in the following .txt file and put them into a dataframe with columns for:\n",
        "\n",
        "[RegEx dates.txt](https://raw.githubusercontent.com/ryanleeallred/datasets/master/dates.txt)\n",
        "\n",
        "- Day\n",
        "- Month\n",
        "- Year\n"
      ]
    },
    {
      "cell_type": "code",
      "metadata": {
        "colab_type": "code",
        "id": "KWDiN4C9_0sq",
        "colab": {
          "base_uri": "https://localhost:8080/",
          "height": 639
        },
        "outputId": "671155f6-0e7a-48f2-834d-8fac81472f36"
      },
      "source": [
        "import pandas as pd\n",
        "dates = pd.read_csv('https://raw.githubusercontent.com/ryanleeallred/datasets/master/dates.txt', header=None)\n",
        "dates\n",
        "\n",
        "dates['year'] = dates[1]\n",
        "dates['month'] = dates[0].str.extract('(^\\w+)', expand=True)\n",
        "dates['day'] = dates[0].str.extract('(\\w+$)', expand = True)\n",
        "\n",
        "dates = dates.drop(columns=[0, 1])\n",
        "\n",
        "dates"
      ],
      "execution_count": 23,
      "outputs": [
        {
          "output_type": "execute_result",
          "data": {
            "text/html": [
              "<div>\n",
              "<style scoped>\n",
              "    .dataframe tbody tr th:only-of-type {\n",
              "        vertical-align: middle;\n",
              "    }\n",
              "\n",
              "    .dataframe tbody tr th {\n",
              "        vertical-align: top;\n",
              "    }\n",
              "\n",
              "    .dataframe thead th {\n",
              "        text-align: right;\n",
              "    }\n",
              "</style>\n",
              "<table border=\"1\" class=\"dataframe\">\n",
              "  <thead>\n",
              "    <tr style=\"text-align: right;\">\n",
              "      <th></th>\n",
              "      <th>year</th>\n",
              "      <th>month</th>\n",
              "      <th>day</th>\n",
              "    </tr>\n",
              "  </thead>\n",
              "  <tbody>\n",
              "    <tr>\n",
              "      <th>0</th>\n",
              "      <td>2015</td>\n",
              "      <td>March</td>\n",
              "      <td>8</td>\n",
              "    </tr>\n",
              "    <tr>\n",
              "      <th>1</th>\n",
              "      <td>2015</td>\n",
              "      <td>March</td>\n",
              "      <td>15</td>\n",
              "    </tr>\n",
              "    <tr>\n",
              "      <th>2</th>\n",
              "      <td>2015</td>\n",
              "      <td>March</td>\n",
              "      <td>22</td>\n",
              "    </tr>\n",
              "    <tr>\n",
              "      <th>3</th>\n",
              "      <td>2015</td>\n",
              "      <td>March</td>\n",
              "      <td>29</td>\n",
              "    </tr>\n",
              "    <tr>\n",
              "      <th>4</th>\n",
              "      <td>2015</td>\n",
              "      <td>April</td>\n",
              "      <td>5</td>\n",
              "    </tr>\n",
              "    <tr>\n",
              "      <th>5</th>\n",
              "      <td>2015</td>\n",
              "      <td>April</td>\n",
              "      <td>12</td>\n",
              "    </tr>\n",
              "    <tr>\n",
              "      <th>6</th>\n",
              "      <td>2015</td>\n",
              "      <td>April</td>\n",
              "      <td>19</td>\n",
              "    </tr>\n",
              "    <tr>\n",
              "      <th>7</th>\n",
              "      <td>2015</td>\n",
              "      <td>April</td>\n",
              "      <td>26</td>\n",
              "    </tr>\n",
              "    <tr>\n",
              "      <th>8</th>\n",
              "      <td>2015</td>\n",
              "      <td>May</td>\n",
              "      <td>3</td>\n",
              "    </tr>\n",
              "    <tr>\n",
              "      <th>9</th>\n",
              "      <td>2015</td>\n",
              "      <td>May</td>\n",
              "      <td>10</td>\n",
              "    </tr>\n",
              "    <tr>\n",
              "      <th>10</th>\n",
              "      <td>2015</td>\n",
              "      <td>May</td>\n",
              "      <td>17</td>\n",
              "    </tr>\n",
              "    <tr>\n",
              "      <th>11</th>\n",
              "      <td>2015</td>\n",
              "      <td>May</td>\n",
              "      <td>24</td>\n",
              "    </tr>\n",
              "    <tr>\n",
              "      <th>12</th>\n",
              "      <td>2015</td>\n",
              "      <td>May</td>\n",
              "      <td>31</td>\n",
              "    </tr>\n",
              "    <tr>\n",
              "      <th>13</th>\n",
              "      <td>2015</td>\n",
              "      <td>June</td>\n",
              "      <td>7</td>\n",
              "    </tr>\n",
              "    <tr>\n",
              "      <th>14</th>\n",
              "      <td>2015</td>\n",
              "      <td>June</td>\n",
              "      <td>14</td>\n",
              "    </tr>\n",
              "    <tr>\n",
              "      <th>15</th>\n",
              "      <td>2015</td>\n",
              "      <td>June</td>\n",
              "      <td>21</td>\n",
              "    </tr>\n",
              "    <tr>\n",
              "      <th>16</th>\n",
              "      <td>2015</td>\n",
              "      <td>June</td>\n",
              "      <td>28</td>\n",
              "    </tr>\n",
              "    <tr>\n",
              "      <th>17</th>\n",
              "      <td>2015</td>\n",
              "      <td>July</td>\n",
              "      <td>5</td>\n",
              "    </tr>\n",
              "    <tr>\n",
              "      <th>18</th>\n",
              "      <td>2015</td>\n",
              "      <td>July</td>\n",
              "      <td>12</td>\n",
              "    </tr>\n",
              "    <tr>\n",
              "      <th>19</th>\n",
              "      <td>2015</td>\n",
              "      <td>July</td>\n",
              "      <td>19</td>\n",
              "    </tr>\n",
              "  </tbody>\n",
              "</table>\n",
              "</div>"
            ],
            "text/plain": [
              "    year  month day\n",
              "0   2015  March   8\n",
              "1   2015  March  15\n",
              "2   2015  March  22\n",
              "3   2015  March  29\n",
              "4   2015  April   5\n",
              "5   2015  April  12\n",
              "6   2015  April  19\n",
              "7   2015  April  26\n",
              "8   2015    May   3\n",
              "9   2015    May  10\n",
              "10  2015    May  17\n",
              "11  2015    May  24\n",
              "12  2015    May  31\n",
              "13  2015   June   7\n",
              "14  2015   June  14\n",
              "15  2015   June  21\n",
              "16  2015   June  28\n",
              "17  2015   July   5\n",
              "18  2015   July  12\n",
              "19  2015   July  19"
            ]
          },
          "metadata": {
            "tags": []
          },
          "execution_count": 23
        }
      ]
    },
    {
      "cell_type": "markdown",
      "metadata": {
        "colab_type": "text",
        "id": "s4Q0dgoe_uBW"
      },
      "source": [
        "# Part 2 - Bag of Words \n",
        "\n",
        "### Use the twitter sentiment analysis dataset found at this link for the remainder of the Sprint Challenge:\n",
        "\n",
        "[Twitter Sentiment Analysis Dataset](https://raw.githubusercontent.com/ryanleeallred/datasets/master/twitter_sentiment_binary.csv)\n",
        "\n",
        " ### Clean and tokenize the documents ensuring the following properties of the text:\n",
        "\n",
        "1) Text should be lowercase.\n",
        "\n",
        "2) Stopwords should be removed.\n",
        "\n",
        "3) Punctuation should be removed.\n",
        "\n",
        "4) Tweets should be tokenized at the word level. \n",
        "\n",
        "(The above don't necessarily need to be completed in that specific order.)\n",
        "\n",
        "### Output some cleaned tweets so that we can see that you made all of the above changes.\n"
      ]
    },
    {
      "cell_type": "code",
      "metadata": {
        "colab_type": "code",
        "id": "1xzdhyTS_3F9",
        "colab": {
          "base_uri": "https://localhost:8080/",
          "height": 195
        },
        "outputId": "f4eb59ca-007b-4c65-89e7-3d7085a30433"
      },
      "source": [
        "tweets = pd.read_csv('https://raw.githubusercontent.com/ryanleeallred/datasets/master/twitter_sentiment_binary.csv')\n",
        "tweets.head()"
      ],
      "execution_count": 63,
      "outputs": [
        {
          "output_type": "execute_result",
          "data": {
            "text/html": [
              "<div>\n",
              "<style scoped>\n",
              "    .dataframe tbody tr th:only-of-type {\n",
              "        vertical-align: middle;\n",
              "    }\n",
              "\n",
              "    .dataframe tbody tr th {\n",
              "        vertical-align: top;\n",
              "    }\n",
              "\n",
              "    .dataframe thead th {\n",
              "        text-align: right;\n",
              "    }\n",
              "</style>\n",
              "<table border=\"1\" class=\"dataframe\">\n",
              "  <thead>\n",
              "    <tr style=\"text-align: right;\">\n",
              "      <th></th>\n",
              "      <th>Sentiment</th>\n",
              "      <th>SentimentText</th>\n",
              "    </tr>\n",
              "  </thead>\n",
              "  <tbody>\n",
              "    <tr>\n",
              "      <th>0</th>\n",
              "      <td>0</td>\n",
              "      <td>is so sad for my APL frie...</td>\n",
              "    </tr>\n",
              "    <tr>\n",
              "      <th>1</th>\n",
              "      <td>0</td>\n",
              "      <td>I missed the New Moon trail...</td>\n",
              "    </tr>\n",
              "    <tr>\n",
              "      <th>2</th>\n",
              "      <td>1</td>\n",
              "      <td>omg its already 7:30 :O</td>\n",
              "    </tr>\n",
              "    <tr>\n",
              "      <th>3</th>\n",
              "      <td>0</td>\n",
              "      <td>.. Omgaga. Im sooo  im gunna CRy. I'...</td>\n",
              "    </tr>\n",
              "    <tr>\n",
              "      <th>4</th>\n",
              "      <td>0</td>\n",
              "      <td>i think mi bf is cheating on me!!!   ...</td>\n",
              "    </tr>\n",
              "  </tbody>\n",
              "</table>\n",
              "</div>"
            ],
            "text/plain": [
              "   Sentiment                                      SentimentText\n",
              "0          0                       is so sad for my APL frie...\n",
              "1          0                     I missed the New Moon trail...\n",
              "2          1                            omg its already 7:30 :O\n",
              "3          0            .. Omgaga. Im sooo  im gunna CRy. I'...\n",
              "4          0           i think mi bf is cheating on me!!!   ..."
            ]
          },
          "metadata": {
            "tags": []
          },
          "execution_count": 63
        }
      ]
    },
    {
      "cell_type": "code",
      "metadata": {
        "id": "aUCvxlomTmtX",
        "colab_type": "code",
        "colab": {
          "base_uri": "https://localhost:8080/",
          "height": 118
        },
        "outputId": "32737330-264e-4f3b-8591-88dfe211c9f4"
      },
      "source": [
        "import nltk\n",
        "nltk.download('stopwords')\n",
        "nltk.download('punkt')\n",
        "nltk.download('wordnet')\n",
        "from nltk.corpus import stopwords\n",
        "from nltk.tokenize import word_tokenize\n",
        "from nltk.stem.wordnet import WordNetLemmatizer\n",
        "\n",
        "import string\n",
        "from string import punctuation\n",
        "table = str.maketrans('', '', punctuation)\n",
        "stop_words = stopwords.words('english')"
      ],
      "execution_count": 26,
      "outputs": [
        {
          "output_type": "stream",
          "text": [
            "[nltk_data] Downloading package stopwords to /root/nltk_data...\n",
            "[nltk_data]   Unzipping corpora/stopwords.zip.\n",
            "[nltk_data] Downloading package punkt to /root/nltk_data...\n",
            "[nltk_data]   Unzipping tokenizers/punkt.zip.\n",
            "[nltk_data] Downloading package wordnet to /root/nltk_data...\n",
            "[nltk_data]   Unzipping corpora/wordnet.zip.\n"
          ],
          "name": "stdout"
        }
      ]
    },
    {
      "cell_type": "code",
      "metadata": {
        "id": "EjFhkLuVT527",
        "colab_type": "code",
        "colab": {}
      },
      "source": [
        "def process_text(text):\n",
        "    #sep by word\n",
        "    words = word_tokenize(text)\n",
        "\n",
        "    #lowercase\n",
        "    words = [word.lower() for word in words]\n",
        "\n",
        "    #remove non alphanumeric characters\n",
        "    words = [word.translate(table) for word in words]\n",
        "    words = [word for word in words if word.isalpha()]\n",
        "    \n",
        "    #remove stopwords\n",
        "    words = [word for word in words if not word in stop_words]\n",
        "    \n",
        "    #lemmatize (remove prefixes and suffixes)\n",
        "    lemmatizer = WordNetLemmatizer()\n",
        "    words = [lemmatizer.lemmatize(word) for word in words]\n",
        "    \n",
        "    #final reformat\n",
        "    words = \" \".join(words)\n",
        "    \n",
        "    return words\n",
        "\n",
        "tweets['SentimentText'] = tweets['SentimentText'].apply(process_text)"
      ],
      "execution_count": 0,
      "outputs": []
    },
    {
      "cell_type": "code",
      "metadata": {
        "id": "YwUgl4UwUeYW",
        "colab_type": "code",
        "colab": {
          "base_uri": "https://localhost:8080/",
          "height": 195
        },
        "outputId": "0db4a884-f510-4147-dad2-25f6905e35c0"
      },
      "source": [
        "tweets.head()"
      ],
      "execution_count": 57,
      "outputs": [
        {
          "output_type": "execute_result",
          "data": {
            "text/html": [
              "<div>\n",
              "<style scoped>\n",
              "    .dataframe tbody tr th:only-of-type {\n",
              "        vertical-align: middle;\n",
              "    }\n",
              "\n",
              "    .dataframe tbody tr th {\n",
              "        vertical-align: top;\n",
              "    }\n",
              "\n",
              "    .dataframe thead th {\n",
              "        text-align: right;\n",
              "    }\n",
              "</style>\n",
              "<table border=\"1\" class=\"dataframe\">\n",
              "  <thead>\n",
              "    <tr style=\"text-align: right;\">\n",
              "      <th></th>\n",
              "      <th>Sentiment</th>\n",
              "      <th>SentimentText</th>\n",
              "    </tr>\n",
              "  </thead>\n",
              "  <tbody>\n",
              "    <tr>\n",
              "      <th>0</th>\n",
              "      <td>0</td>\n",
              "      <td>sad apl friend</td>\n",
              "    </tr>\n",
              "    <tr>\n",
              "      <th>1</th>\n",
              "      <td>0</td>\n",
              "      <td>missed new moon trailer</td>\n",
              "    </tr>\n",
              "    <tr>\n",
              "      <th>2</th>\n",
              "      <td>1</td>\n",
              "      <td>omg already</td>\n",
              "    </tr>\n",
              "    <tr>\n",
              "      <th>3</th>\n",
              "      <td>0</td>\n",
              "      <td>omgaga im sooo im gunna cry dentist since supo...</td>\n",
              "    </tr>\n",
              "    <tr>\n",
              "      <th>4</th>\n",
              "      <td>0</td>\n",
              "      <td>think mi bf cheating tt</td>\n",
              "    </tr>\n",
              "  </tbody>\n",
              "</table>\n",
              "</div>"
            ],
            "text/plain": [
              "   Sentiment                                      SentimentText\n",
              "0          0                                     sad apl friend\n",
              "1          0                            missed new moon trailer\n",
              "2          1                                        omg already\n",
              "3          0  omgaga im sooo im gunna cry dentist since supo...\n",
              "4          0                            think mi bf cheating tt"
            ]
          },
          "metadata": {
            "tags": []
          },
          "execution_count": 57
        }
      ]
    },
    {
      "cell_type": "markdown",
      "metadata": {
        "colab_type": "text",
        "id": "Q764vszGqiUh"
      },
      "source": [
        "### How should TF-IDF scores be interpreted? How are they calculated?"
      ]
    },
    {
      "cell_type": "markdown",
      "metadata": {
        "colab_type": "text",
        "id": "e2Ji7BMhqs3M"
      },
      "source": [
        "**Tf-Idf stands for term frequency - inverse document frequency**, and its formula multiplies these two named variables. In the context of a dataframe, a 'document' is an individual row of text.\n",
        "\n",
        "**Term frequency** divides the number of times a selected word appears to the total words in the selected row.\n",
        "\n",
        "**Inverse document frequency** divides (and then logs) the total number of rows with the number of rows where the word appears. \n",
        "\n",
        "Making a dataframe of words and their tf-idf score per row is a powerful way to **evaluate unique and unusual words in the data**. The largest tf-idfs appear frequently in the selected row but infrequently across all rows."
      ]
    },
    {
      "cell_type": "markdown",
      "metadata": {
        "colab_type": "text",
        "id": "3iUeBKtG_uEK"
      },
      "source": [
        "# Part 3 - Document Classification\n",
        "\n",
        "1) Use Train_Test_Split to create train and test datasets.\n",
        "\n",
        "2) Vectorize the tokenized documents using your choice of vectorization method. \n",
        "\n",
        " - Stretch goal: Use both of the methods that we talked about in class.\n",
        "\n",
        "3) Create a vocabulary using the X_train dataset and transform both your X_train and X_test data using that vocabulary.\n",
        "\n",
        "4) Use your choice of binary classification algorithm to train and evaluate your model's accuracy. Report both train and test accuracies.\n",
        "\n",
        " - Stretch goal: Use an error metric other than accuracy and implement/evaluate multiple classifiers.\n",
        " - Stretch goal: Track your results in a DataFrmae and produce a visualization of the results\n",
        "\n"
      ]
    },
    {
      "cell_type": "code",
      "metadata": {
        "colab_type": "code",
        "id": "TX8OEgUP_3ee",
        "colab": {}
      },
      "source": [
        "from sklearn.model_selection import train_test_split\n",
        "from sklearn.metrics import accuracy_score, roc_auc_score\n",
        "from sklearn.naive_bayes import MultinomialNB\n",
        "from xgboost.sklearn import XGBClassifier\n",
        "\n",
        "from sklearn.feature_extraction.text import TfidfVectorizer, CountVectorizer"
      ],
      "execution_count": 0,
      "outputs": []
    },
    {
      "cell_type": "code",
      "metadata": {
        "id": "GSxfS-LWdgSV",
        "colab_type": "code",
        "colab": {}
      },
      "source": [
        "X = tweets['SentimentText']\n",
        "y = tweets['Sentiment']\n",
        "\n",
        "X_train, X_test, y_train, y_test = train_test_split(X, y, test_size=0.3, random_state=0)"
      ],
      "execution_count": 0,
      "outputs": []
    },
    {
      "cell_type": "code",
      "metadata": {
        "id": "NKHI6betc_P1",
        "colab_type": "code",
        "colab": {}
      },
      "source": [
        "vectorizer = TfidfVectorizer(max_features=2000, ngram_range=(1,2),\n",
        "                             min_df = 5, max_df = .80,\n",
        "                             stop_words = 'english')\n",
        "vectorizer.fit(X_train)\n",
        "train_word_counts = vectorizer.transform(X_train)\n",
        "X_train_vectorized = pd.DataFrame(train_word_counts.toarray(),\n",
        "                                  columns=vectorizer.get_feature_names())"
      ],
      "execution_count": 0,
      "outputs": []
    },
    {
      "cell_type": "code",
      "metadata": {
        "id": "AmH1lHOTgVK5",
        "colab_type": "code",
        "colab": {
          "base_uri": "https://localhost:8080/",
          "height": 50
        },
        "outputId": "d9d6020f-90fd-4795-96c4-956dd0f1b121"
      },
      "source": [
        "model = XGBClassifier(max_depth = 2,\n",
        "                      learning_rate = 0.1,\n",
        "                      verbosity = 0,\n",
        "                      n_jobs = -1,\n",
        "                      random_state = 0)\n",
        "\n",
        "model.fit(X_train_vectorized, y_train)\n",
        "\n",
        "train_predict = model.predict(X_train_vectorized)\n",
        "train_accuracy = accuracy_score(y_train, train_predict)\n",
        "print(train_accuracy)\n",
        "\n",
        "train_predict_proba = model.predict_proba(X_train_vectorized)[:, 1]\n",
        "train_roc_auc = roc_auc_score(y_train, train_predict_proba)\n",
        "print(train_roc_auc)"
      ],
      "execution_count": 67,
      "outputs": [
        {
          "output_type": "stream",
          "text": [
            "0.6692050520059435\n",
            "0.7294788788632267\n"
          ],
          "name": "stdout"
        }
      ]
    },
    {
      "cell_type": "code",
      "metadata": {
        "id": "88BHB_hNjfr3",
        "colab_type": "code",
        "colab": {
          "base_uri": "https://localhost:8080/",
          "height": 50
        },
        "outputId": "8ae97100-8f48-4350-fccb-bbbf04102e30"
      },
      "source": [
        "vectorizer.fit(X_test)\n",
        "test_word_counts = vectorizer.transform(X_test)\n",
        "X_test_vectorized = pd.DataFrame(test_word_counts.toarray(), columns=vectorizer.get_feature_names())\n",
        "\n",
        "model.fit(X_test_vectorized, y_test)\n",
        "\n",
        "test_predict = model.predict(X_test_vectorized)\n",
        "test_accuracy = accuracy_score(y_test, test_predict)\n",
        "print(test_accuracy)\n",
        "\n",
        "test_predict_proba = model.predict_proba(X_test_vectorized)[:, 1]\n",
        "test_roc_auc = roc_auc_score(y_test, test_predict_proba)\n",
        "print(test_roc_auc)"
      ],
      "execution_count": 68,
      "outputs": [
        {
          "output_type": "stream",
          "text": [
            "0.6698669866986698\n",
            "0.7406497269636835\n"
          ],
          "name": "stdout"
        }
      ]
    },
    {
      "cell_type": "code",
      "metadata": {
        "id": "hPZW-iWrq-_1",
        "colab_type": "code",
        "colab": {
          "base_uri": "https://localhost:8080/",
          "height": 50
        },
        "outputId": "701a72b5-951b-4d68-c0e4-6f864ab05741"
      },
      "source": [
        "bayes = MultinomialNB()\n",
        "bayes.fit(X_train_vectorized, y_train)\n",
        "\n",
        "train_predict = bayes.predict(X_train_vectorized)\n",
        "train_accuracy2 = accuracy_score(y_train, train_predict)\n",
        "print(train_accuracy2)\n",
        "\n",
        "train_predict_proba = bayes.predict_proba(X_train_vectorized)[:, 1]\n",
        "train_roc_auc2 = roc_auc_score(y_train, train_predict_proba)\n",
        "print(train_roc_auc2)"
      ],
      "execution_count": 73,
      "outputs": [
        {
          "output_type": "stream",
          "text": [
            "0.7474997142530575\n",
            "0.8255992540055059\n"
          ],
          "name": "stdout"
        }
      ]
    },
    {
      "cell_type": "code",
      "metadata": {
        "id": "nVq8sRobsjoY",
        "colab_type": "code",
        "colab": {
          "base_uri": "https://localhost:8080/",
          "height": 50
        },
        "outputId": "c0f9386d-10b7-4feb-e2a2-b2cdfe231ea7"
      },
      "source": [
        "bayes.fit(X_test_vectorized, y_test)\n",
        "\n",
        "test_predict = bayes.predict(X_test_vectorized)\n",
        "test_accuracy2 = accuracy_score(y_test, test_predict)\n",
        "print(test_accuracy2)\n",
        "\n",
        "test_predict_proba = bayes.predict_proba(X_test_vectorized)[:, 1]\n",
        "test_roc_auc2 = roc_auc_score(y_test, test_predict_proba)\n",
        "print(test_roc_auc2)"
      ],
      "execution_count": 74,
      "outputs": [
        {
          "output_type": "stream",
          "text": [
            "0.759042570923759\n",
            "0.8406857373569174\n"
          ],
          "name": "stdout"
        }
      ]
    },
    {
      "cell_type": "code",
      "metadata": {
        "id": "TBbPDdEAqObQ",
        "colab_type": "code",
        "colab": {}
      },
      "source": [
        "count = CountVectorizer(max_features=2000, ngram_range=(1,2),\n",
        "                             min_df = 5, max_df = .80,\n",
        "                             stop_words = 'english')\n",
        "vectorizer.fit(X_train)\n",
        "train_word_counts = vectorizer.transform(X_train)\n",
        "X_train_vectorized = pd.DataFrame(train_word_counts.toarray(), columns=vectorizer.get_feature_names())\n",
        "\n",
        "vectorizer.fit(X_test)\n",
        "test_word_counts = vectorizer.transform(X_test)\n",
        "X_test_vectorized = pd.DataFrame(test_word_counts.toarray(), columns=vectorizer.get_feature_names())"
      ],
      "execution_count": 0,
      "outputs": []
    },
    {
      "cell_type": "code",
      "metadata": {
        "id": "leupkuKGuBeY",
        "colab_type": "code",
        "colab": {
          "base_uri": "https://localhost:8080/",
          "height": 84
        },
        "outputId": "541fd2e8-f5dc-423e-8699-25eee3e94581"
      },
      "source": [
        "model.fit(X_train_vectorized, y_train)\n",
        "\n",
        "train_predict = model.predict(X_train_vectorized)\n",
        "train_accuracy3 = accuracy_score(y_train, train_predict)\n",
        "print(train_accuracy3)\n",
        "\n",
        "train_predict_proba = model.predict_proba(X_train_vectorized)[:, 1]\n",
        "train_roc_auc3 = roc_auc_score(y_train, train_predict_proba)\n",
        "print(train_roc_auc3)\n",
        "\n",
        "model.fit(X_test_vectorized, y_test)\n",
        "\n",
        "test_predict = model.predict(X_test_vectorized)\n",
        "test_accuracy3 = accuracy_score(y_test, test_predict)\n",
        "print(test_accuracy3)\n",
        "\n",
        "test_predict_proba = model.predict_proba(X_test_vectorized)[:, 1]\n",
        "test_roc_auc3 = roc_auc_score(y_test, test_predict_proba)\n",
        "print(test_roc_auc3)"
      ],
      "execution_count": 76,
      "outputs": [
        {
          "output_type": "stream",
          "text": [
            "0.6692050520059435\n",
            "0.7294788788632267\n",
            "0.6698669866986698\n",
            "0.7406497269636835\n"
          ],
          "name": "stdout"
        }
      ]
    },
    {
      "cell_type": "code",
      "metadata": {
        "id": "SCMmol3wvmEM",
        "colab_type": "code",
        "colab": {
          "base_uri": "https://localhost:8080/",
          "height": 84
        },
        "outputId": "59376c27-970c-46d0-d346-902aa87263c2"
      },
      "source": [
        "bayes.fit(X_train_vectorized, y_train)\n",
        "\n",
        "train_predict = bayes.predict(X_train_vectorized)\n",
        "train_accuracy4 = accuracy_score(y_train, train_predict)\n",
        "print(train_accuracy4)\n",
        "\n",
        "train_predict_proba = bayes.predict_proba(X_train_vectorized)[:, 1]\n",
        "train_roc_auc4 = roc_auc_score(y_train, train_predict_proba)\n",
        "print(train_roc_auc4)\n",
        "\n",
        "bayes.fit(X_test_vectorized, y_test)\n",
        "\n",
        "test_predict = bayes.predict(X_test_vectorized)\n",
        "test_accuracy4 = accuracy_score(y_test, test_predict)\n",
        "print(test_accuracy4)\n",
        "\n",
        "test_predict_proba = bayes.predict_proba(X_test_vectorized)[:, 1]\n",
        "test_roc_auc4 = roc_auc_score(y_test, test_predict_proba)\n",
        "print(test_roc_auc4)"
      ],
      "execution_count": 77,
      "outputs": [
        {
          "output_type": "stream",
          "text": [
            "0.7474997142530575\n",
            "0.8255992540055059\n",
            "0.759042570923759\n",
            "0.8406857373569174\n"
          ],
          "name": "stdout"
        }
      ]
    },
    {
      "cell_type": "code",
      "metadata": {
        "id": "_IAclW2IktxP",
        "colab_type": "code",
        "colab": {
          "base_uri": "https://localhost:8080/",
          "height": 186
        },
        "outputId": "edaf2a54-feea-4450-f0ab-48e0d4d89b8b"
      },
      "source": [
        "row1 = ['tfidf', 'xgboost', train_accuracy, test_accuracy, train_roc_auc, test_roc_auc]\n",
        "row2 = ['tfidf', 'bayes', train_accuracy2, test_accuracy2, train_roc_auc2, test_roc_auc2]\n",
        "row3 = ['count', 'xgboost', train_accuracy3, test_accuracy3, train_roc_auc3, test_roc_auc3]\n",
        "row4 = ['count', 'bayes', train_accuracy4, test_accuracy4, train_roc_auc4, test_roc_auc4]\n",
        "\n",
        "data = [row1, row2, row3, row4]\n",
        "model_comp = pd.DataFrame(data, columns = ['vectorizer', 'model',\n",
        "                                           'train_accuracy', 'test_accuracy',\n",
        "                                           'train_roc_auc', 'test_roc_auc'])\n",
        "\n",
        "model_comp"
      ],
      "execution_count": 79,
      "outputs": [
        {
          "output_type": "execute_result",
          "data": {
            "text/html": [
              "<div>\n",
              "<style scoped>\n",
              "    .dataframe tbody tr th:only-of-type {\n",
              "        vertical-align: middle;\n",
              "    }\n",
              "\n",
              "    .dataframe tbody tr th {\n",
              "        vertical-align: top;\n",
              "    }\n",
              "\n",
              "    .dataframe thead th {\n",
              "        text-align: right;\n",
              "    }\n",
              "</style>\n",
              "<table border=\"1\" class=\"dataframe\">\n",
              "  <thead>\n",
              "    <tr style=\"text-align: right;\">\n",
              "      <th></th>\n",
              "      <th>vectorizer</th>\n",
              "      <th>model</th>\n",
              "      <th>train_accuracy</th>\n",
              "      <th>test_accuracy</th>\n",
              "      <th>train_roc_auc</th>\n",
              "      <th>test_roc_auc</th>\n",
              "    </tr>\n",
              "  </thead>\n",
              "  <tbody>\n",
              "    <tr>\n",
              "      <th>0</th>\n",
              "      <td>tfidf</td>\n",
              "      <td>xgboost</td>\n",
              "      <td>0.669205</td>\n",
              "      <td>0.669867</td>\n",
              "      <td>0.729479</td>\n",
              "      <td>0.740650</td>\n",
              "    </tr>\n",
              "    <tr>\n",
              "      <th>1</th>\n",
              "      <td>tfidf</td>\n",
              "      <td>bayes</td>\n",
              "      <td>0.747500</td>\n",
              "      <td>0.759043</td>\n",
              "      <td>0.825599</td>\n",
              "      <td>0.840686</td>\n",
              "    </tr>\n",
              "    <tr>\n",
              "      <th>2</th>\n",
              "      <td>count</td>\n",
              "      <td>xgboost</td>\n",
              "      <td>0.669205</td>\n",
              "      <td>0.669867</td>\n",
              "      <td>0.729479</td>\n",
              "      <td>0.740650</td>\n",
              "    </tr>\n",
              "    <tr>\n",
              "      <th>3</th>\n",
              "      <td>count</td>\n",
              "      <td>bayes</td>\n",
              "      <td>0.747500</td>\n",
              "      <td>0.759043</td>\n",
              "      <td>0.825599</td>\n",
              "      <td>0.840686</td>\n",
              "    </tr>\n",
              "  </tbody>\n",
              "</table>\n",
              "</div>"
            ],
            "text/plain": [
              "  vectorizer    model  train_accuracy  test_accuracy  train_roc_auc  \\\n",
              "0      tfidf  xgboost        0.669205       0.669867       0.729479   \n",
              "1      tfidf    bayes        0.747500       0.759043       0.825599   \n",
              "2      count  xgboost        0.669205       0.669867       0.729479   \n",
              "3      count    bayes        0.747500       0.759043       0.825599   \n",
              "\n",
              "   test_roc_auc  \n",
              "0      0.740650  \n",
              "1      0.840686  \n",
              "2      0.740650  \n",
              "3      0.840686  "
            ]
          },
          "metadata": {
            "tags": []
          },
          "execution_count": 79
        }
      ]
    },
    {
      "cell_type": "markdown",
      "metadata": {
        "colab_type": "text",
        "id": "sorF95UO_uGx"
      },
      "source": [
        "# Part 4 -  Word2Vec\n",
        "\n",
        "1) Fit a Word2Vec model on your cleaned/tokenized twitter dataset. \n",
        "\n",
        "2) Display the 10 words that are most similar to the word \"twitter\""
      ]
    },
    {
      "cell_type": "code",
      "metadata": {
        "colab_type": "code",
        "id": "DYno4d4N-LHR",
        "colab": {}
      },
      "source": [
        "import gensim\n",
        "from gensim.models.word2vec import Word2Vec"
      ],
      "execution_count": 0,
      "outputs": []
    },
    {
      "cell_type": "code",
      "metadata": {
        "id": "6rrtu6xko1lL",
        "colab_type": "code",
        "colab": {}
      },
      "source": [
        "#retokenize\n",
        "tweets['SentimentText'] = tweets['SentimentText'].apply(word_tokenize)"
      ],
      "execution_count": 0,
      "outputs": []
    },
    {
      "cell_type": "code",
      "metadata": {
        "id": "Ft-JEIAQpI3f",
        "colab_type": "code",
        "colab": {
          "base_uri": "https://localhost:8080/",
          "height": 195
        },
        "outputId": "3d79fbfe-4969-4df3-c486-05ba21ba6d58"
      },
      "source": [
        "tweets.head()"
      ],
      "execution_count": 59,
      "outputs": [
        {
          "output_type": "execute_result",
          "data": {
            "text/html": [
              "<div>\n",
              "<style scoped>\n",
              "    .dataframe tbody tr th:only-of-type {\n",
              "        vertical-align: middle;\n",
              "    }\n",
              "\n",
              "    .dataframe tbody tr th {\n",
              "        vertical-align: top;\n",
              "    }\n",
              "\n",
              "    .dataframe thead th {\n",
              "        text-align: right;\n",
              "    }\n",
              "</style>\n",
              "<table border=\"1\" class=\"dataframe\">\n",
              "  <thead>\n",
              "    <tr style=\"text-align: right;\">\n",
              "      <th></th>\n",
              "      <th>Sentiment</th>\n",
              "      <th>SentimentText</th>\n",
              "    </tr>\n",
              "  </thead>\n",
              "  <tbody>\n",
              "    <tr>\n",
              "      <th>0</th>\n",
              "      <td>0</td>\n",
              "      <td>[sad, apl, friend]</td>\n",
              "    </tr>\n",
              "    <tr>\n",
              "      <th>1</th>\n",
              "      <td>0</td>\n",
              "      <td>[missed, new, moon, trailer]</td>\n",
              "    </tr>\n",
              "    <tr>\n",
              "      <th>2</th>\n",
              "      <td>1</td>\n",
              "      <td>[omg, already]</td>\n",
              "    </tr>\n",
              "    <tr>\n",
              "      <th>3</th>\n",
              "      <td>0</td>\n",
              "      <td>[omgaga, im, sooo, im, gunna, cry, dentist, si...</td>\n",
              "    </tr>\n",
              "    <tr>\n",
              "      <th>4</th>\n",
              "      <td>0</td>\n",
              "      <td>[think, mi, bf, cheating, tt]</td>\n",
              "    </tr>\n",
              "  </tbody>\n",
              "</table>\n",
              "</div>"
            ],
            "text/plain": [
              "   Sentiment                                      SentimentText\n",
              "0          0                                 [sad, apl, friend]\n",
              "1          0                       [missed, new, moon, trailer]\n",
              "2          1                                     [omg, already]\n",
              "3          0  [omgaga, im, sooo, im, gunna, cry, dentist, si...\n",
              "4          0                      [think, mi, bf, cheating, tt]"
            ]
          },
          "metadata": {
            "tags": []
          },
          "execution_count": 59
        }
      ]
    },
    {
      "cell_type": "code",
      "metadata": {
        "id": "gaWDur8LiBXG",
        "colab_type": "code",
        "colab": {}
      },
      "source": [
        "word = Word2Vec(tweets['SentimentText'])"
      ],
      "execution_count": 0,
      "outputs": []
    },
    {
      "cell_type": "code",
      "metadata": {
        "id": "jnL4fkC2mF3A",
        "colab_type": "code",
        "colab": {
          "base_uri": "https://localhost:8080/",
          "height": 54
        },
        "outputId": "716dd0ee-6c5f-4758-fb4d-f548633d6581"
      },
      "source": [
        "word.wv.vocab.keys()"
      ],
      "execution_count": 61,
      "outputs": [
        {
          "output_type": "execute_result",
          "data": {
            "text/plain": [
              "dict_keys(['sad', 'friend', 'missed', 'new', 'moon', 'trailer', 'omg', 'already', 'im', 'sooo', 'gunna', 'cry', 'dentist', 'since', 'get', 'crown', 'put', 'think', 'mi', 'bf', 'cheating', 'tt', 'worry', 'much', 'chillin', 'sunny', 'work', 'tomorrow', 'tv', 'tonight', 'handed', 'uniform', 'today', 'miss', 'hmmmm', 'wonder', 'number', 'must', 'positive', 'thanks', 'hater', 'face', 'day', 'weekend', 'sucked', 'far', 'jb', 'isnt', 'showing', 'australia', 'ok', 'thats', 'win', 'lt', 'way', 'feel', 'right', 'man', 'completely', 'useless', 'rt', 'funny', 'twitter', 'http', 'feeling', 'strangely', 'fine', 'gon', 'na', 'go', 'listen', 'celebrate', 'huge', 'roll', 'thunder', 'scary', 'cut', 'beard', 'growing', 'well', 'year', 'start', 'happy', 'meantime', 'iran', 'one', 'see', 'cause', 'else', 'following', 'pretty', 'awesome', 'level', 'writing', 'massive', 'blog', 'tweet', 'myspace', 'comp', 'shut', 'lost', 'lay', 'position', 'headed', 'pull', 'golf', 'place', 'something', 'yeah', 'boring', 'whats', 'wrong', 'please', 'tell', 'ca', 'nt', 'bothered', 'wish', 'could', 'spend', 'rest', 'life', 'sat', 'going', 'gig', 'seriously', 'like', 'shit', 'really', 'want', 'sleep', 'nooo', 'hour', 'dancing', 'art', 'assignment', 'finish', 'goodbye', 'exam', 'hello', 'alcohol', 'realize', 'deep', 'geez', 'give', 'girl', 'warning', 'atleast', 'hate', 'appears', 'tear', 'live', 'television', 'guy', 'wearing', 'skinny', 'jean', 'cute', 'sweater', 'heel', 'sure', 'meet', 'meat', 'moving', 'saturday', 'morning', 'need', 'week', 'dont', 'room', 'sick', 'wardrobe', 'cant', 'till', 'walk', 'yay', 'sox', 'great', 'time', 'million', 'uploading', 'picture', 'type', 'spaz', 'downloads', 'virus', 'brother', 'msn', 'fucked', 'forever', 'amp', 'babe', 'wrote', 'last', 'got', 'call', 'someone', 'york', 'office', 'enough', 'said', 'even', 'say', 'anyways', 'chris', 'cornell', 'chicago', 'health', 'class', 'joke', 'show', 'make', 'look', 'reality', 'low', 'shall', 'motivation', 'entertainment', 'complained', 'properly', 'experiment', 'melody', 'another', 'lakers', 'neither', 'magic', 'fun', 'bathroom', 'clean', 'enjoyable', 'task', 'boom', 'pow', 'proud', 'congrats', 'though', 'david', 'five', 'end', 'july', 'probably', 'never', 'katie', 'concert', 'leaving', 'stupid', 'love', 'ur', 'mom', 'hug', 'harry', 'sunday', 'happiness', 'hand', 'u', 'always', 'bend', 'backwards', 'sooooon', 'cody', 'booo', 'seen', 'allergy', 'hair', 'taking', 'public', 'poll', 'hurt', 'earl', 'jersey', 'first', 'sytycd', 'night', 'find', 'online', 'fix', 'thought', 'become', 'second', 'choice', 'may', 'friendly', 'lol', 'basil', 'plant', 'wan', 'home', 'church', 'wht', 'pizza', 'inch', 'guitar', 'generous', 'p', 'x', 'miley', 'tour', 'wanted', 'mean', 'kid', 'stick', 'head', 'fly', 'away', 'squirrel', 'slow', 'tix', 'send', 'sunshine', 'northern', 'ireland', 'swimming', 'beach', 'would', 'happier', 'wall', 'bedroom', 'painted', 'white', 'idk', 'wat', 'trust', 'sorry', 'da', 'pain', 'caused', 'ima', 'take', 'dis', 'straighten', 'luv', 'yall', 'finding', 'banging', 'brain', 'come', 'save', 'bed', 'cough', 'cab', 'airport', 'christy', 'gt', 'case', 'emo', 'camp', 'wee', 'bit', 'alr', 'bringing', 'human', 'watch', 'world', 'report', 'jonas', 'almost', 'jus', 'fr', 'funeral', 'cried', 'grandpa', 'quot', 'smile', 'cuz', 'graduated', 'longest', 'ever', 'ugh', 'wo', 'let', 'bball', 'game', 'grrr', 'phone', 'immediately', 'tmobile', 'paying', 'car', 'stolen', 'mother', 'pose', 'hang', 'hope', 'movie', 'rat', 'plan', 'guess', 'two', 'presentation', 'cool', 'oh', 'thank', 'pleased', 'guna', 'soon', 'talkin', 'lose', 'rip', 'eddings', 'rose', 'back', 'xmas', 'special', 'damn', 'half', 'aww', 'neighbor', 'status', 'next', 'ex', 'husband', 'daily', 'dose', 'definition', 'editor', 'reviewed', 'entry', 'decided', 'publish', 'help', 'explains', 'alot', 'heather', 'sequel', 'better', 'fuck', 'told', 'drink', 'wmy', 'gave', 'bb', 'ob', 'brought', 'v', 'sweet', 'bought', 'suit', 'true', 'highly', 'actually', 'favorite', 'character', 'book', 'knw', 'whyy', 'getting', 'hub', 'standing', 'pouring', 'rain', 'sitting', 'top', 'summer', 'suck', 'went', 'dog', 'vet', 'theyve', 'ear', 'charged', 'still', 'everytime', 'move', 'naked', 'train', 'manchester', 'jonasbrothers', 'people', 'picky', 'dice', 'wide', 'awake', 'awful', 'weather', 'stink', 'comin', 'moe', 'hi', 'stranger', 'frank', 'urself', 'gay', 'asylm', 'panel', 'normal', 'started', 'squarespace', 'brighten', 'bad', 'anything', 'susan', 'boyle', 'didnt', 'diversity', 'good', 'congratz', 'believe', 'goooood', 'graduate', 'paint', 'author', 'lesbian', 'story', 'news', 'unknown', 'error', 'uh', 'iphone', 'o', 'fail', 'expert', 'homer', 'predict', 'eagle', 'giant', 'b', 'know', 'hungry', 'outside', 'balcony', 'eat', 'driving', 'mad', 'men', 'uk', 'female', 'internet', 'starting', 'business', 'woman', 'truth', 'hiding', 'eye', 'paramore', 'decode', 'try', 'turn', 'inside', 'admit', 'literally', 'coldplay', 'break', 'dad', 'sigh', 'unsure', 'annoyed', 'via', 'designed', 'gallery', 'exhibition', 'nyt', 'potter', 'vietnam', 'money', 'mouth', 'headin', 'cheer', 'stalker', 'divorce', 'lookin', 'around', 'reason', 'atm', 'little', 'atl', 'ily', 'dy', 'laughter', 'soo', 'watching', 'shopping', 'w', 'trent', 'hopefully', 'best', 'weird', 'encounter', 'many', 'rained', 'truck', 'race', 'worse', 'f', 'confusing', 'hot', 'choco', 'shirt', 'panty', 'north', 'due', 'body', 'line', 'missing', 'design', 'council', 'tech', 'transfer', 'event', 'everything', 'hard', 'bueno', 'bye', 'ya', 'amazing', 'twit', 'national', 'production', 'department', 'priority', 'beat', 'reach', 'enjoy', 'venue', 'shine', 'everywhere', 'everyone', 'crash', 'dc', 'child', 'nancy', 'adbert', 'video', 'barber', 'wishing', 'ch', 'staying', 'fabulous', 'university', 'happened', 'angel', 'demon', 'lion', 'tiger', 'bear', 'americanwomannn', 'impact', 'arm', 'leg', 'wait', 'manner', 'saw', 'mum', 'fat', 'ass', 'codinghorror', 'three', 'external', 'monitor', 'laptop', 'maybe', 'later', 'c', 'making', 'garlic', 'bread', 'bday', 'pant', 'job', 'fml', 'sweep', 'haha', 'r', 'science', 'cartoon', 'edinburgh', 'fringe', 'monies', 'btw', 'angryfeet', 'blame', 'school', 'done', 'short', 'stack', 'thing', 'latter', 'store', 'comic', 'thinking', 'le', 'chance', 'stay', 'orlando', 'wud', 'beautiful', 'server', 'backup', 'experience', 'problem', 'delay', 'yes', 'jk', 'gentle', 'breeze', 'blown', 'se', 'joseph', 'future', 'nyc', 'holler', 'cheese', 'burger', 'nothing', 'kind', 'sort', 'pick', 'flower', 'teacher', 'jealous', 'without', 'hospital', 'ma', 'security', 'chain', 'strong', 'link', 'youtube', 'account', 'suspended', 'single', 'lady', 'dance', 'sold', 'k', 'hoping', 'nervous', 'aim', 'talk', 'follower', 'grocery', 'oldie', 'sugar', 'ray', 'convo', 'keep', 'roomy', 'catholic', 'pork', 'fridge', 'bitch', 'wake', 'early', 'la', 'opera', 'kay', 'drill', 'etc', 'bother', 'gum', 'lift', 'surgery', 'tho', 'eek', 'tonite', 'app', 'bhai', 'used', 'ka', 'chilling', 'blackberry', 'unlimited', 'every', 'pop', 'quite', 'active', 'shame', 'mamma', 'mia', 'horny', 'island', 'letting', 'check', 'knowledge', 'referring', 'hey', 'thx', 'ttyl', 'sowwy', 'knew', 'sharepoint', 'written', 'intern', 'jamie', 'bowling', 'ball', 'heart', 'badly', 'crashing', 'load', 'plane', 'current', 'mood', 'currently', 'blah', 'parking', 'lot', 'fed', 'matter', 'worst', 'super', 'nasty', 'rainy', 'yuck', 'aiden', 'davis', 'bummed', 'dia', 'para', 'drawing', 'fake', 'stayin', 'lawn', 'tanning', 'play', 'camera', 'settle', 'playing', 'iv', 'drive', 'display', 'upside', 'photo', 'bluetooth', 'computer', 'effort', 'bring', 'content', 'added', 'lease', 'release', 'digital', 'tight', 'response', 'j', 'kinda', 'moment', 'silence', 'childhood', 'sadly', 'replaced', 'robotpickuplines', 'hilarious', 'punch', 'n', 'crew', 'worth', 'storm', 'satisfying', 'god', 'friday', 'ti', 'connection', 'died', 'mobile', 'thrilled', 'ringtone', 'song', 'trackle', 'apple', 'card', 'huh', 'forgot', 'hassle', 'music', 'exhausted', 'ben', 'jerry', 'cake', 'batter', 'somebody', 'ish', 'tlk', 'long', 'pacific', 'ocean', 'open', 'door', 'throw', 'pc', 'hell', 'bbc', 'canuck', 'huhuhu', 'made', 'nice', 'twice', 'brilliant', 'xd', 'lonely', 'blue', 'summertime', 'ill', 'fuckin', 'goin', 'portugal', 'drop', 'ye', 'eh', 'leave', 'mexico', 'math', 'sound', 'leadership', 'considering', 'library', 'tax', 'increase', 'sake', 'town', 'netball', 'match', 'baby', 'member', 'family', 'bedtime', 'battle', 'cold', 'chill', 'result', 'poor', 'lil', 'enjoying', 'big', 'dbl', 'standard', 'yep', 'epic', 'magazine', 'broke', 'wood', 'wifey', 'sux', 'wondering', 'lata', 'gather', 'hay', 'found', 'boy', 'master', 'holy', 'iranelection', 'realizes', 'air', 'france', 'whole', 'bunch', 'noooooooooo', 'follow', 'hear', 'asking', 'hardest', 'working', 'chica', 'mii', 'bos', 'condition', 'series', 'phoenix', 'boston', 'cleveland', 'team', 'played', 'terrible', 'soccer', 'basketball', 'mustache', 'desperate', 'bout', 'ahmier', 'marco', 'muah', 'angry', 'praise', 'sry', 'matt', 'couldnt', 'fairytale', 'near', 'cell', 'screen', 'dead', 'text', 'calling', 'sickness', 'strike', 'ohhhh', 'nobody', 'review', 'read', 'disappointed', 'expecting', 'old', 'gone', 'minute', 'ring', 'bling', 'boo', 'dvd', 'suggestion', 'awwwww', 'ticket', 'sale', 'globe', 'monday', 'peace', 'losing', 'pressure', 'bless', 'mic', 'bra', 'goodnight', 'grandma', 'emergency', 'wonderful', 'gd', 'shed', 'cavs', 'soooo', 'point', 'jonathan', 'passed', 'douchebag', 'write', 'use', 'value', 'pi', 'rule', 'exception', 'creativity', 'tease', 'track', 'answering', 'student', 'safety', 'father', 'picked', 'yet', 'ta', 'blipfm', 'john', 'mayer', 'trio', 'california', 'heard', 'conan', 'profile', 'pic', 'longer', 'heartbroken', 'understatement', 'luck', 'ian', 'clubbing', 'sometime', 'party', 'conference', 'conf', 'avatar', 'figure', 'either', 'album', 'anyway', 'hollywood', 'rough', 'yelled', 'picking', 'food', 'whoop', 'credit', 'rb', 'exit', 'cat', 'kitten', 'palm', 'pre', 'temp', 'contact', 'fb', 'chicken', 'double', 'cheeseburger', 'large', 'fry', 'lemonade', 'dinner', 'ask', 'hr', 'dude', 'breakfast', 'bagel', 'toasted', 'iced', 'cap', 'delish', 'gb', 'upload', 'dam', 'sony', 'vega', 'document', 'spider', 'crawling', 'floor', 'blessed', 'couple', 'riding', 'bicycle', 'landed', 'green', 'chile', 'killing', 'bug', 'asshole', 'asked', 'appetite', 'shared', 'buck', 'meeting', 'vibe', 'sharon', 'alice', 'beating', 'scooby', 'doo', 'board', 'tired', 'wwe', 'anyone', 'advice', 'cope', 'communication', 'temporarily', 'ready', 'studio', 'understand', 'cost', 'dollar', 'e', 'everythings', 'exercise', 'build', 'muscle', 'mass', 'speed', 'metabolism', 'yey', 'dying', 'horrible', 'nite', 'visit', 'dream', 'hungover', 'craving', 'chocolate', 'pub', 'sister', 'wed', 'jordan', 'cereal', 'distraught', 'sucking', 'dirty', 'freaking', 'puppy', 'black', 'yorkshire', 'terrier', 'glad', 'stavros', 'yummy', 'hunt', 'blender', 'nutella', 'rlly', 'tht', 'serious', 'abt', 'thru', 'listenin', 'fav', 'band', 'environmental', 'study', 'mental', 'piece', 'sooooo', 'paradise', 'bone', 'nugget', 'fucking', 'complain', 'aunty', 'he', 'aswell', 'explode', 'mmm', 'image', 'mess', 'meee', 'name', 'amy', 'swollen', 'kris', 'comment', 'â', 'confirmed', 'flight', 'crashed', 'hacked', 'onto', 'kept', 'others', 'delete', 'swim', 'source', 'reading', 'til', 'crap', 'looking', 'forward', 'cheered', 'mind', 'ah', 'postman', 'package', 'ahh', 'ahhh', 'mr', 'rogers', 'indeed', 'express', 'rock', 'allow', 'wireless', 'scanning', 'canon', 'otherwise', 'goodness', 'alistair', 'kitchen', 'pjs', 'cup', 'tea', 'dammit', 'dressed', 'ride', 'ky', 'haley', 'paris', 'aunt', 'bored', 'nighter', 'nightmare', 'coming', 'small', 'post', 'word', 'allison', 'sleepy', 'psych', 'quiz', 'gosh', 'typical', 'lame', 'teenager', 'lmao', 'nap', 'excited', 'feelin', 'feeding', 'pig', 'min', 'daisy', 'somehow', 'mail', 'alarm', 'clock', 'device', 'waking', 'broken', 'felt', 'depressed', 'stress', 'chest', 'confident', 'torn', 'anticipating', 'tough', 'ahead', 'ghostbusters', 'region', 'free', 'copy', 'britain', 'difference', 'came', 'believing', 'wit', 'nose', 'itchy', 'burning', 'xox', 'expensive', 'trip', 'hella', 'seems', 'busy', 'chilli', 'prawn', 'daughter', 'beloved', 'dwarf', 'hamster', 'creature', 'worthy', 'dd', 'farrah', 'fawcett', 'cancer', 'abc', 'hopeless', 'lunch', 'general', 'motor', 'gooood', 'prepare', 'idea', 'hmm', 'location', 'closed', 'em', 'edition', 'patrol', 'sore', 'throat', 'unless', 'julian', 'iowa', 'yea', 'sink', 'ive', 'rollin', 'empty', 'funniest', 'person', 'parent', 'left', 'nadal', 'french', 'andy', 'roddick', 'as', 'checked', 'baltimore', 'rested', 'boyfriend', 'stuff', 'real', 'wooo', 'hehe', 'doodle', 'xxxx', 'pie', 'change', 'hosting', 'provider', 'shake', 'shock', 'loss', 'spark', 'bummer', 'injury', 'season', 'hold', 'email', 'signed', 'spam', 'ughhhh', 'non', 'stop', 'least', 'nowhere', 'answer', 'ja', 'space', 'nhl', 'penguin', 'red', 'wing', 'final', 'lead', 'stats', 'star', 'germany', 'cyrus', 'shoot', 'young', 'ashamed', 'faith', 'charles', 'fellow', 'bachelorette', 'hotel', 'owning', 'judge', 'nerd', 'anime', 'whose', 'tlc', 'laying', 'house', 'maggie', 'confused', 'booze', 'talking', 'australian', 'date', 'g', 'andyhurleyday', 'necklace', 'rather', 'usual', 'followfriday', 'byronrode', 'imisscath', 'mcflyforgermany', 'signal', 'garden', 'expression', 'freelance', 'writer', 'porn', 'model', 'liquid', 'care', 'elf', 'raining', 'insist', 'politics', 'alone', 'apparently', 'gm', 'meaning', 'likely', 'issue', 'archie', 'annoying', 'shower', 'kettle', 'self', 'argh', 'speaker', 'macbook', 'screwing', 'slowly', 'simple', 'brown', 'honestly', 'rihanna', 'nd', 'saying', 'goodnite', 'crazy', 'imagined', 'yr', 'ago', 'ended', 'sleeping', 'shift', 'tmrw', 'grr', 'random', 'mention', 'core', 'deal', 'sense', 'tied', 'xxx', 'attempting', 'failing', 'aw', 'toy', 'lived', 'oddly', 'icecream', 'lolz', 'coffee', 'burn', 'gota', 'homework', 'borrowed', 'telling', 'awww', 'derek', 'towards', 'gpa', 'upset', 'sewing', 'finally', 'eating', 'dessert', 'cali', 'basic', 'glass', 'pen', 'timing', 'mommy', 'called', 'fit', 'schedule', 'bahahaha', 'jodie', 'burst', 'kevin', 'bank', 'negative', 'ba', 'update', 'baseball', 'bullshit', 'straight', 'afraid', 'disorder', 'doesnt', 'tummy', 'besides', 'graduation', 'highschool', 'chapter', 'close', 'pushing', 'foward', 'bukas', 'pa', 'raw', 'afternoon', 'survived', 'destiny', 'dj', 'jazzy', 'jeff', 'fresh', 'prince', 'third', 'fourth', 'death', 'sane', 'brave', 'prayer', 'twilight', 'wont', 'reply', 'hoo', 'ughhh', 'water', 'deleted', 'canadian', 'testing', 'thursday', 'sf', 'woop', 'shortstack', 'tokiohotel', 'giveaway', 'smiling', 'asleep', 'dark', 'finger', 'map', 'climate', 'forecast', 'giving', 'chilly', 'finland', 'nintendo', 'dsi', 'portable', 'system', 'promote', 'site', 'front', 'page', 'social', 'medium', 'universe', 'living', 'conscious', 'share', 'feature', 'mixed', 'motion', 'frustrated', 'exited', 'oreo', 'sends', 'someday', 'might', 'treat', 'doctor', 'duo', 'sob', 'jam', 'idc', 'faithful', 'moi', 'ughh', 'anybody', 'cook', 'leavin', 'aint', 'dem', 'hoe', 'spanish', 'complicated', 'cast', 'opportunity', 'ground', 'wet', 'looked', 'fall', 'wtf', 'bill', 'paid', 'gadget', 'tweetdeck', 'holiday', 'lastfm', 'paul', 'theater', 'fl', 'alexjreid', 'earlier', 'tragic', 'alittlebit', 'temperature', 'antibiotic', 'kick', 'anyamanda', 'grin', 'warm', 'fast', 'birthday', 'shot', 'billbeckett', 'bracelet', 'plenty', 'autograph', 'arrested', 'replacement', 'pay', 'seeing', 'banana', 'totally', 'symbol', 'ftw', 'coz', 'england', 'wednesday', 'ruin', 'blush', 'buy', 'sims', 'apologize', 'ugly', 'selfish', 'rid', 'seem', 'wats', 'prob', 'roommate', 'givin', 'frown', 'becuz', 'shallow', 'breath', 'squeeze', 'past', 'pound', 'stone', 'laid', 'sniffle', 'power', 'contest', 'popularity', 'vote', 'also', 'realy', 'noooo', 'spelt', 'thy', 'butterfly', 'jfk', 'international', 'bein', 'court', 'traffic', 'begin', 'praying', 'skunk', 'yard', 'ariaajaeger', 'created', 'light', 'pure', 'command', 'fold', 'speak', 'quiet', 'frozen', 'belllareow', 'disappeared', 'billyraycyrus', 'oi', 'lower', 'price', 'afford', 'london', 'fan', 'speaking', 'buzz', 'upper', 'middle', 'cnnbrk', 'charlie', 'suggested', 'ought', 'celebrity', 'dear', 'hyper', 'together', 'washington', 'capital', 'myweakness', 'fwd', 'twitpic', 'add', 'daytona', 'butterflywheel', 'bae', 'kno', 'swear', 'needa', 'construction', 'paper', 'hehehe', 'yw', 'violent', 'covered', 'tks', 'unfortunately', 'nj', 'path', 'cancelled', 'temporary', 'trying', 'fluffy', 'realizing', 'especially', 'google', 'nooooooooo', 'joint', 'thanx', 'youu', 'miracle', 'modern', 'bruce', 'danny', 'stopped', 'stalk', 'comfy', 'bag', 'sex', 'bing', 'safe', 'search', 'lea', 'laker', 'slept', 'late', 'hype', 'country', 'ahhhhhh', 'bloody', 'sky', 'subscription', 'lord', 'gud', 'thigh', 'cloud', 'scaring', 'nambu', 'sending', 'although', 'selected', 'leslie', 'tweeting', 'absolute', 'fave', 'koolaid', 'bleh', 'okay', 'shy', 'sara', 'voice', 'recital', 'talent', 'comcast', 'chat', 'responsibility', 'burnt', 'tongue', 'downside', 'popcorn', 'aaron', 'suddenly', 'happens', 'portuguese', 'mtv', 'award', 'join', 'served', 'hottest', 'watched', 'motivated', 'club', 'auckland', 'suppose', 'log', 'ack', 'guru', 'label', 'sell', 'soap', 'grrrr', 'egg', 'bacon', 'miserable', 'hill', 'finale', 'carrie', 'infection', 'waiting', 'cba', 'revising', 'oral', 'test', 'background', 'dylan', 'delicious', 'strawberry', 'city', 'mae', 'cnt', 'despite', 'heater', 'weirdly', 'barakatday', 'id', 'l', 'xx', 'stretch', 'jm', 'fic', 'al', 'newest', 'state', 'democrat', 'mark', 'pac', 'cooky', 'cramp', 'drug', 'tat', 'ow', 'wallet', 'thu', 'forth', 'gettin', 'border', 'drove', 'side', 'sniff', 'dan', 'darn', 'def', 'lyric', 'shrug', 'definately', 'smh', 'depressing', 'silly', 'jailbreak', 'apps', 'bridget', 'co', 'flippin', 'neighbour', 'complete', 'fell', 'updating', 'clothes', 'bbq', 'roland', 'bath', 'workout', 'run', 'wife', 'expect', 'remember', 'older', 'dissapointed', 'statistic', 'fir', 'tattoo', 'forget', 'ignore', 'smell', 'skin', 'sun', 'ending', 'arguing', 'improvement', 'dictionary', 'tram', 'metro', 'customer', 'service', 'lack', 'road', 'fact', 'population', 'tumblr', 'h', 'visiting', 'aussie', 'land', 'affair', 'bananasmel', 'evening', 'anymore', 'maintenance', 'listening', 'txt', 'lovely', 'compliment', 'thankyou', 'sb', 'st', 'correction', 'yo', 'handle', 'brian', 'kstew', 'kristen', 'full', 'control', 'charge', 'fortune', 'contract', 'april', 'dat', 'jst', 'quarter', 'messing', 'opposite', 'genuinely', 'grateful', 'candy', 'floss', 'machine', 'interesting', 'ny', 'amigo', 'hangin', 'chip', 'downloaded', 'yesterday', 'thnk', 'deserve', 'lizzie', 'dt', 'beauty', 'shocked', 'lesson', 'learned', 'outta', 'electricity', 'eaten', 'steak', 'organic', 'chemistry', 'eff', 'dunkin', 'donut', 'shiz', 'ellie', 'theyre', 'gona', 'mcfly', 'emotional', 'everton', 'fc', 'fa', 'offline', 'able', 'often', 'catch', 'reflection', 'msg', 'everyones', 'drunk', 'svu', 'repair', 'explore', 'ing', 'failed', 'pas', 'michigan', 'bookstore', 'bck', 'fedex', 'kicked', 'mumbai', 'setting', 'beyond', 'scared', 'ferret', 'cooler', 'fish', 'field', 'college', 'managed', 'frequent', 'cancel', 'cheap', 'lisa', 'rosiecakes', 'xo', 'reduce', 'q', 'pls', 'ppl', 'crab', 'bittenbybooks', 'francisco', 'gin', 'mexican', 'seemed', 'apt', 'rn', 'sg', 'loses', 'religion', 'bow', 'raid', 'inn', 'speedy', 'recovery', 'mate', 'flat', 'nominated', 'shes', 'crush', 'grandfather', 'none', 'alive', 'nkotb', 'carried', 'gossip', 'note', 'birdie', 'koala', 'xoxo', 'tommcfly', 'mk', 'liam', 'group', 'reported', 'killed', 'clash', 'flickr', 'mac', 'install', 'lvatt', 'comming', 'regret', 'popping', 'pill', 'month', 'stubborn', 'jon', 'kate', 'steer', 'clear', 'softball', 'champion', 'item', 'arrive', 'web', 'finished', 'fone', 'marcus', 'mosquito', 'bite', 'tend', 'distracting', 'caffeine', 'private', 'woot', 'four', 'sexiest', 'vegetarian', 'running', 'morn', 'regardless', 'happend', 'behind', 'gah', 'clearly', 'chelsea', 'scored', 'mani', 'webcam', 'spring', 'tn', 'sprint', 'concrete', 'monster', 'mile', 'tire', 'fight', 'gnight', 'tweeties', 'migraine', 'welcome', 'personal', 'hayley', 'mix', 'sorrow', 'backed', 'expo', 'jesse', 'mccartney', 'stream', 'kiss', 'babysit', 'wow', 'ff', 'tommy', 'chi', 'manhattan', 'owww', 'blogging', 'ooh', 'sheet', 'woo', 'pj', 'liked', 'crud', 'lazy', 'bum', 'interval', 'turned', 'fascinating', 'shade', 'wondered', 'oxygen', 'bookmarked', 'sam', 'anywho', 'um', 'turkey', 'removing', 'bot', 'weeding', 'eventually', 'hubby', 'army', 'darkness', 'evil', 'tooth', 'fairy', 'checking', 'perfectly', 'dedicated', 'audience', 'twenty', 'thirty', 'leah', 'cooking', 'ncis', 'milan', 'holland', 'twittering', 'skool', 'specially', 'mel', 'lb', 'feb', 'lunchtime', 'arrived', 'bp', 'length', 'easy', 'gooooood', 'burned', 'constantly', 'sunscreen', 'photoshop', 'cd', 'stuck', 'sunburnt', 'ship', 'pool', 'correct', 'total', 'tweetup', 'berkeley', 'bro', 'title', 'theme', 'prepared', 'traveling', 'locked', 'tights', 'outfit', 'explaining', 'operating', 'viewed', 'driven', 'application', 'rosie', 'overdue', 'sadness', 'changed', 'momo', 'grrrrr', 'pack', 'june', 'gutted', 'prick', 'teh', 'sir', 'bud', 'stoked', 'pair', 'denial', 'download', 'ran', 'hah', 'listened', 'loud', 'rod', 'incomplete', 'relief', 'performed', 'internship', 'photography', 'stressful', 'newcastle', 'apart', 'seein', 'attack', 'tissue', 'blow', 'stressed', 'ahhhhh', 'happen', 'supernatural', 'cmon', 'alex', 'shop', 'mock', 'ice', 'cream', 'bird', 'certain', 'completed', 'passing', 'carpet', 'cleaning', 'cleaner', 'message', 'saved', 'voicemail', 'box', 'alright', 'loner', 'barely', 'hit', 'blip', 'dunno', 'dress', 'canceled', 'website', 'bookmark', 'minimal', 'possibly', 'panda', 'spent', 'gold', 'farm', 'playin', 'tommorow', 'pakcricket', 'musical', 'high', 'davidarchie', 'local', 'cloudy', 'goodmorning', 'cha', 'hack', 'perfect', 'pony', 'brooklyn', 'cop', 'adam', 'anywhere', 'tried', 'followin', 'exist', 'dp', 'foto', 'snuggle', 'lilly', 'turning', 'india', 'definitely', 'legally', 'bah', 'supposed', 'ala', 'foot', 'trek', 'pun', 'intended', 'alexa', 'daddy', 'heading', 'hampton', 'fairly', 'snow', 'electric', 'wasnt', 'painting', 'marley', 'roast', 'espresso', 'volunteer', 'teach', 'invisible', 'followed', 'yum', 'gym', 'tower', 'immature', 'ninja', 'laugh', 'ryan', 'ross', 'dorky', 'score', 'hanging', 'steven', 'hangover', 'falling', 'bike', 'carson', 'knowing', 'spending', 'harsh', 'facebook', 'inbox', 'sim', 'charlotte', 'instead', 'cousin', 'equally', 'hunting', 'headache', 'mechanic', 'havent', 'updated', 'havin', 'biggest', 'pulled', 'bright', 'solved', 'hammered', 'hmmm', 'healthy', 'exclusive', 'sexy', 'beer', 'sparkly', 'wine', 'tango', 'belly', 'pandora', 'hee', 'shiver', 'hero', 'investment', 'winter', 'hurry', 'history', 'hm', 'nut', 'hmph', 'relaxing', 'thai', 'michelle', 'awkward', 'latest', 'released', 'duran', 'ap', 'alternative', 'medicine', 'counting', 'delayed', 'bbl', 'selena', 'taylor', 'lautner', 'ruined', 'photograph', 'successful', 'shooting', 'sq', 'tehran', 'threat', 'attitude', 'athens', 'georgia', 'fire', 'woke', 'teddy', 'soul', 'native', 'therapy', 'sch', 'tmr', 'ipod', 'touch', 'yah', 'sometimes', 'police', 'cw', 'whining', 'spoiled', 'rotten', 'fruit', 'basket', 'battery', 'daynight', 'lucky', 'formal', 'meal', 'med', 'horse', 'possible', 'demand', 'stand', 'loved', 'drowning', 'whilst', 'doin', 'nat', 'bridge', 'agree', 'ew', 'insect', 'river', 'witty', 'wise', 'meow', 'nashville', 'stomach', 'ate', 'shadow', 'badge', 'tb', 'singing', 'phantom', 'stephen', 'holly', 'stayed', 'beth', 'rachel', 'dislike', 'letter', 'anthem', 'rate', 'wherever', 'loving', 'skype', 'mcrchat', 'subway', 'animal', 'crossing', 'silver', 'everyday', 'ha', 'mo', 'ant', 'password', 'question', 'arizona', 'estate', 'specialist', 'view', 'fear', 'comfort', 'zone', 'trance', 'scene', 'mcdonalds', 'frosty', 'katy', 'perry', 'birmingham', 'nearly', 'taxi', 'waitin', 'manila', 'tiffany', 'nxt', 'episode', 'somethin', 'watchin', 'kim', 'lightning', 'wind', 'brief', 'blackout', 'wild', 'oil', 'rub', 'freakin', 'havnt', 'bull', 'grounded', 'ache', 'sike', 'invited', 'bethenny', 'part', 'dm', 'blonde', 'booked', 'remains', 'mirror', 'tag', 'boooo', 'easter', 'ramen', 'brb', 'sucky', 'bak', 'ct', 'err', 'makin', 'tent', 'brokeback', 'heal', 'bron', 'swine', 'flu', 'reached', 'bus', 'dnt', 'rely', 'caught', 'bullet', 'pete', 'gun', 'stole', 'hung', 'backstage', 'roller', 'trippin', 'fault', 'karen', 'acting', 'impressed', 'youre', 'step', 'hawaii', 'byee', 'shuld', 'revenge', 'starbucks', 'wer', 'worried', 'papi', 'meant', 'borrow', 'cash', 'cover', 'session', 'die', 'stair', 'officially', 'appointment', 'flying', 'solo', 'banned', 'cp', 'sport', 'collapse', 'disappointment', 'bash', 'drake', 'rofl', 'breakup', 'instructor', 'confidence', 'slightly', 'duty', 'lightening', 'wimbledon', 'careful', 'risk', 'bay', 'soak', 'loove', 'wel', 'eddie', 'whocangetit', 'ego', 'damaged', 'harlem', 'becca', 'stressing', 'revision', 'bubble', 'crappy', 'forced', 'niley', 'putting', 'dock', 'colder', 'bio', 'physic', 'filipino', 'english', 'election', 'feedback', 'sheesh', 'pile', 'boob', 'somewhere', 'coursework', 'steal', 'puff', 'atlanta', 'nba', 'mall', 'brandon', 'breaking', 'waited', 'british', 'days', 'bryan', 'meeeeee', 'there', 'peterfacinelli', 'billyburke', 'san', 'diego', 'convention', 'surface', 'area', 'square', 'pyramid', 'geographic', 'learn', 'motorbike', 'sit', 'corner', 'outt', 'net', 'dumb', 'itch', 'met', 'champ', 'phillies', 'lebron', 'supposedly', 'tested', 'performance', 'charging', 'pickle', 'sandwich', 'urgh', 'chinese', 'template', 'chop', 'advil', 'rolling', 'coco', 'viva', 'hole', 'amazon', 'sync', 'within', 'budget', 'mentally', 'scream', 'ouch', 'cu', 'brace', 'file', 'lately', 'beginning', 'editing', 'jay', 'insomnia', 'midnight', 'sing', 'piss', 'tuesday', 'bestfriend', 'sushi', 'memorial', 'disease', 'nurse', 'justice', 'rape', 'ghost', 'trouser', 'busted', 'wearin', 'dumped', 'prize', 'sidebar', 'gots', 'bottle', 'scratched', 'cheek', 'principal', 'payment', 'loan', 'realized', 'monthly', 'interest', 'buddy', 'goose', 'feather', 'pillow', 'opened', 'posted', 'curl', 'lap', 'lane', 'taken', 'haircut', 'avoiding', 'spoiler', 'tunnel', 'royal', 'eric', 'catching', 'grey', 'tribe', 'yankee', 'easily', 'chili', 'reminded', 'click', 'progress', 'mit', 'warming', 'sunburned', 'clumsy', 'ol', 'scratch', 'scar', 'adjust', 'cocoa', 'cleared', 'uni', 'columbus', 'appstore', 'approval', 'dire', 'company', 'offering', 'round', 'bell', 'coolness', 'ashley', 'senior', 'project', 'fing', 'cracker', 'cinema', 'craig', 'ballet', 'hahaa', 'freezing', 'sum', 'wedding', 'decide', 'freak', 'fox', 'lash', 'frankie', 'bee', 'set', 'rejected', 'bebe', 'richard', 'dang', 'influence', 'commercial', 'grind', 'gear', 'daniel', 'guessing', 'fork', 'salad', 'gotten', 'dating', 'saving', 'tall', 'romance', 'restore', 'grew', 'nigga', 'violence', 'demi', 'lovato', 'mee', 'itunes', 'teeth', 'plate', 'designing', 'homepage', 'league', 'table', 'preview', 'airplane', 'valuable', 'skill', 'manager', 'recognized', 'soup', 'filled', 'quest', 'proper', 'diet', 'ankle', 'eyebrow', 'charger', 'youth', 'frequently', 'momma', 'shaun', 'bradie', 'gorgeous', 'fest', 'calf', 'nonsense', 'spell', 'engagement', 'switch', 'fair', 'bc', 'sparkle', 'bby', 'direct', 'guild', 'war', 'touched', 'recent', 'desk', 'action', 'bound', 'guyz', 'missin', 'rite', 'satellite', 'fixed', 'illusion', 'paige', 'neva', 'fails', 'disneyland', 'kitty', 'dodger', 'out', 'chem', 'button', 'dreaming', 'mighty', 'booking', 'portal', 'nearest', 'justin', 'texting', 'kyle', 'eatin', 'hahaha', 'eeep', 'startin', 'cord', 'drain', 'equal', 'bet', 'eurgh', 'winning', 'son', 'bbm', 'pin', 'everybody', 'philly', 'canada', 'mileycyrus', 'mitchelmusso', 'row', 'skint', 'shitty', 'scotland', 'tom', 'faster', 'cuddle', 'messy', 'compose', 'preparation', 'pour', 'excitement', 'fifa', 'film', 'wendy', 'showtime', 'replay', 'robin', 'flick', 'dancin', 'lush', 'wale', 'unfair', 'brings', 'delivery', 'farmer', 'pity', 'apartment', 'complex', 'wished', 'humor', 'escape', 'key', 'megan', 'favourite', 'detroit', 'soldier', 'determined', 'tornado', 'ohh', 'angst', 'blood', 'discussing', 'ed', 'firework', 'fame', 'gaga', 'addictive', 'avoid', 'wasting', 'wut', 'exact', 'procedure', 'd', 'whether', 'sensitive', 'concerned', 'housework', 'dropping', 'museum', 'hopping', 'tomo', 'exciting', 'm', 'janet', 'jackson', 'remembering', 'jose', 'peter', 'truffle', 'bob', 'rescue', 'sista', 'songzyuuup', 'gain', 'bang', 'rich', 'infected', 'nope', 'crawl', 'united', 'ep', 'course', 'mike', 'odd', 'toast', 'ham', 'pokemon', 'hw', 'tweetsg', 'enter', 'sm', 'teen', 'memory', 'eden', 'sarah', 'eliminated', 'ako', 'king', 'flop', 'th', 'ng', 'huhu', 'nest', 'cricket', 'tampa', 'europe', 'cruise', 'mite', 'officialy', 'married', 'communicate', 'presence', 'deserves', 'forgiven', 'wknd', 'planned', 'chilled', 'ooo', 'excellent', 'purchasing', 'pro', 'psychology', 'semester', 'fallen', 'leaf', 'messaging', 'connecting', 'terrorist', 'golden', 'gate', 'stealing', 'noodle', 'acct', 'bn', 'expired', 'edit', 'calorie', 'destination', 'august', 'linked', 'colorful', 'crossed', 'finishing', 'midterm', 'publishing', 'dump', 'poisoning', 'essay', 'secret', 'agent', 'rubbish', 'plus', 'naturally', 'nicer', 'radio', 'emailed', 'list', 'sign', 'aged', 'relate', 'incl', 'becoming', 'murder', 'highest', 'korean', 'overtime', 'dev', 'sharing', 'taste', 'er', 'print', 'fancy', 'stuffy', 'revise', 'git', 'version', 'gnome', 'shell', 'effect', 'depending', 'defense', 'loosing', 'wasted', 'oc', 'christmas', 'collecting', 'dust', 'ahhhh', 'famous', 'easier', 'guilty', 'ii', 'deff', 'slurpee', 'damnit', 'offer', 'raise', 'rental', 'weekly', 'expense', 'portrait', 'draw', 'andrew', 'bisante', 'seeya', 'attacked', 'moth', 'developing', 'carrot', 'punk', 'bar', 'possibility', 'crushed', 'vinci', 'code', 'exactly', 'pasta', 'greatness', 'society', 'rad', 'firefox', 'wikipedia', 'fishing', 'wiv', 'flash', 'roof', 'pray', 'folk', 'twitterrific', 'sa', 'ko', 'arrow', 'tbh', 'icon', 'entire', 'fashion', 'cheering', 'sod', 'wana', 'quick', 'ebay', 'gim', 'girlfriend', 'gloomy', 'gmail', 'exotic', 'indonesia', 'elvis', 'grumpy', 'peep', 'allnighter', 'mocha', 'bk', 'joe', 'mah', 'global', 'section', 'mt', 'lauren', 'mariah', 'carey', 'dora', 'explorer', 'mouse', 'transformer', 'tweetin', 'rhyme', 'instantly', 'downer', 'telstra', 'tweeps', 'different', 'pissed', 'relationship', 'pm', 'ofcourse', 'sadd', 'law', 'neda', 'tune', 'gutter', 'houston', 'stroll', 'nooooo', 'somewhat', 'uncle', 'village', 'mama', 'scare', 'partying', 'jolly', 'fantastic', 'color', 'street', 'steph', 'uggh', 'blessing', 'laundry', 'luvs', 'tu', 'monkey', 'goood', 'extremely', 'doll', 'accident', 'faint', 'govt', 'peed', 'sleeeep', 'dallas', 'spoon', 'handsome', 'pt', 'webcast', 'loveee', 'yous', 'xoxox', 'whatever', 'twitterer', 'woooo', 'earache', 'period', 'interview', 'addon', 'twitterfox', 'shoe', 'manny', 'toe', 'que', 'un', 'grace', 'gross', 'curly', 'mop', 'prom', 'inaperfectworld', 'fuzzy', 'block', 'wicked', 'sunburn', 'xp', 'nick', 'surfing', 'furniture', 'chair', 'sadface', 'enemy', 'weak', 'subject', 'chick', 'txts', 'speechless', 'terrified', 'passenger', 'gf', 'curious', 'structure', 'rated', 'lee', 'vids', 'wanting', 'signing', 'ikea', 'hav', 'bin', 'carry', 'offered', 'emotionally', 'split', 'lmfao', 'nina', 'visa', 'advance', 'aol', 'abi', 'intrigued', 'announcement', 'success', 'tool', 'ordered', 'activation', 'available', 'coach', 'lols', 'lori', 'quality', 'bowl', 'tesco', 'rag', 'fam', 'community', 'hide', 'seek', 'dw', 'trouble', 'dragon', 'hahah', 'target', 'hotdog', 'crave', 'anniversary', 'barry', 'olivia', 'juice', 'closer', 'harley', 'nov', 'heat', 'rash', 'hardcore', 'tan', 'dish', 'smoothie', 'extravaganza', 'downtown', 'heavy', 'derby', 'lou', 'tonightt', 'lovee', 'happily', 'extreme', 'musicmonday', 'sans', 'flip', 'indy', 'research', 'begun', 'bella', 'prescription', 'transport', 'stood', 'luckily', 'safely', 'ticketmaster', 'acdc', 'twittered', 'fever', 'ick', 'psh', 'devil', 'kill', 'sol', 'headphone', 'gibson', 'ledge', 'addicted', 'papa', 'withdrawal', 'symptom', 'attached', 'ellen', 'awe', 'harder', 'upsetting', 'wink', 'user', 'thier', 'sent', 'request', 'appear', 'garmin', 'data', 'connect', 'ditched', 'jeremy', 'return', 'frog', 'queen', 'ost', 'castiel', 'angle', 'except', 'honour', 'bitten', 'dealing', 'neighborhood', 'america', 'leno', 'toronto', 'jeep', 'jive', 'homeless', 'excuse', 'hannah', 'runaway', 'leader', 'took', 'tension', 'baking', 'puffy', 'eyed', 'solve', 'duck', 'hardly', 'support', 'peak', 'hotness', 'ram', 'habit', 'bobby', 'accidentally', 'bleed', 'adore', 'leather', 'besties', 'amo', 'hoped', 'certified', 'poorly', 'drained', 'uber', 'lab', 'wu', 'thoroughly', 'penny', 'sentence', 'imaginary', 'dr', 'laughing', 'summery', 'wear', 'pink', 'jacket', 'keeper', 'boi', 'smilin', 'gran', 'unhappy', 'aha', 'mafia', 'parade', 'tim', 'picnic', 'grab', 'tearing', 'crisp', 'developed', 'sayin', 'loop', 'ubuntu', 'samsung', 'printer', 'december', 'stella', 'disney', 'tempting', 'forbidden', 'josh', 'received', 'dated', 'chillen', 'homies', 'west', 'pet', 'mini', 'dropped', 'william', 'watson', 'notebook', 'similar', 'moleskine', 'hong', 'kong', 'minded', 'jerk', 'depends', 'sock', 'ftl', 'si', 'soaked', 'walked', 'weighed', 'ruby', 'former', 'killer', 'intl', 'virginia', 'lincoln', 'center', 'locker', 'spymaster', 'loading', 'spain', 'badass', 'record', 'vine', 'couldve', 'tony', 'dare', 'awakened', 'masterchef', 'wth', 'decent', 'mine', 'dork', 'gut', 'pancake', 'waist', 'itt', 'outa', 'layout', 'lk', 'ym', 'typing', 'screwed', 'moreee', 'produce', 'italy', 'output', 'thunderstorm', 'livejournal', 'idiot', 'noooooooo', 'unlucky', 'mystery', 'annielicious', 'flipflops', 'foundation', 'extension', 'sweetheart', 'loser', 'disconnected', 'manage', 'quickly', 'messed', 'fortunately', 'operation', 'storage', 'solution', 'helping', 'anytime', 'holla', 'vip', 'freaky', 'photoshoot', 'wisconsin', 'grad', 'fab', 'sausage', 'decision', 'fighting', 'osx', 'nowww', 'differently', 'jason', 'joined', 'doom', 'gummy', 'octopus', 'veggie', 'tooo', 'pepper', 'packing', 'scale', 'station', 'pitt', 'artist', 'aly', 'boredom', 'africa', 'appt', 'pal', 'beyonce', 'buffy', 'greatest', 'given', 'florida', 'seattle', 'survive', 'bliss', 'upgraded', 'suite', 'blast', 'cease', 'amuse', 'wouldnt', 'trey', 'kanye', 'remix', 'ddlovato', 'lola', 'spot', 'bikini', 'refreshing', 'gurl', 'insane', 'beatiful', 'aah', 'curled', 'couch', 'tuna', 'pf', 'chang', 'heartburn', 'sauce', 'abbey', 'thingy', 'rehearsal', 'tomoro', 'studying', 'jinxed', 'juss', 'worked', 'cage', 'form', 'thumb', 'lullaby', 'thee', 'infamous', 'matthew', 'original', 'hat', 'cologne', 'grease', 'blunt', 'wrist', 'january', 'lololol', 'affordable', 'kirk', 'spock', 'named', 'gerard', 'mikey', 'bust', 'shouted', 'forgetting', 'apprentice', 'posting', 'listens', 'jeez', 'coding', 'needle', 'nosey', 'archuleta', 'style', 'pattern', 'detail', 'bff', 'marie', 'evans', 'whew', 'shld', 'hv', 'combo', 'cave', 'remind', 'managing', 'lappy', 'aahh', 'el', 'de', 'kook', 'meebo', 'yoga', 'mega', 'coaster', 'meh', 'grape', 'thomas', 'scholarship', 'michael', 'actress', 'mm', 'mon', 'usually', 'cougar', 'noon', 'heck', 'werent', 'fund', 'present', 'worn', 'aching', 'reduced', 'asap', 'noise', 'upon', 'wordcamp', 'happening', 'disappointing', 'recieved', 'ups', 'quit', 'bunny', 'dry', 'promoted', 'belt', 'sip', 'lifted', 'mmmm', 'feed', 'womp', 'hated', 'along', 'whore', 'purpose', 'yearbook', 'colour', 'bebo', 'bold', 'upgrade', 'bigtime', 'diner', 'smelling', 'scent', 'bastard', 'nation', 'remain', 'abby', 'count', 'esp', 'edward', 'wire', 'bleeding', 'earring', 'rawr', 'girlies', 'grandmother', 'hoodie', 'cleaned', 'sens', 'deer', 'toddler', 'mario', 'tshirt', 'friendship', 'technology', 'clue', 'oklahoma', 'wallpaper', 'based', 'lighting', 'rib', 'erased', 'awhile', 'farewell', 'ik', 'shoulder', 'south', 'wrap', 'milk', 'ohhh', 'misunderstand', 'practically', 'slap', 'loll', 'fyi', 'python', 'opinion', 'jack', 'nm', 'sh', 'youuu', 'moan', 'trophy', 'shelf', 'dread', 'plz', 'thnx', 'settling', 'waffle', 'randomly', 'cracking', 'grizzly', 'suspense', 'monica', 'annual', 'zombie', 'complaining', 'usb', 'backing', 'handy', 'dandy', 'bigger', 'role', 'marathon', 'coke', 'cheesecake', 'brownie', 'script', 'tiny', 'football', 'max', 'guessed', 'rocked', 'dot', 'curve', 'chuck', 'victim', 'lj', 'bottom', 'lawyer', 'gawd', 'teary', 'fiance', 'chu', 'iraq', 'cutting', 'no', 'turtle', 'starving', 'promise', 'uploaded', 'chuckmemondays', 'stake', 'mode', 'ea', 'shorter', 'sandal', 'blocked', 'bonfire', 'comedy', 'sean', 'dishwasher', 'apply', 'hardware', 'limit', 'jailbroken', 'iphones', 'development', 'naptime', 'dragged', 'responded', 'meetup', 'jr', 'otalia', 'leaking', 'figured', 'cavity', 'nerve', 'bd', 'fob', 'tee', 'regular', 'ho', 'notification', 'puke', 'shiny', 'allll', 'interested', 'port', 'java', 'mentality', 'hint', 'conversation', 'tablet', 'cable', 'titanic', 'offically', 'eyeliner', 'filing', 'todo', 'hott', 'swineflu', 'tweeter', 'sang', 'personally', 'worrying', 'spoke', 'nao', 'handwriting', 'anger', 'nooooooo', 'imma', 'skating', 'term', 'bucket', 'input', 'jimmy', 'recieve', 'material', 'swimsuit', 'noone', 'nowadays', 'attended', 'webinar', 'relax', 'alll', 'client', 'claim', 'owe', 'lie', 'whateva', 'nuffin', 'beside', 'disrespect', 'fer', 'nvm', 'vodka', 'dreamer', 'mitchel', 'musso', 'dosent', 'degree', 'tidy', 'cure', 'fishy', 'soph', 'drumming', 'imy', 'omfg', 'boat', 'filling', 'restaurant', 'noe', 'kenny', 'sinus', 'crank', 'mob', 'whatev', 'bros', 'superman', 'ih', 'heyyy', 'drinking', 'rob', 'brat', 'hacking', 'ere', 'meeee', 'sorta', 'amazin', 'attend', 'bumped', 'ae', 'gna', 'bloke', 'cheque', 'joy', 'plain', 'pathetic', 'ton', 'trivia', 'buying', 'tad', 'cosplay', 'definite', 'asian', 'junior', 'catherine', 'mary', 'van', 'continue', 'domain', 'ovum', 'fist', 'sac', 'alabama', 'address', 'ping', 'deadly', 'injection', 'slipped', 'disc', 'experiencing', 'cigarette', 'paranoid', 'vacation', 'bestie', 'patrick', 'wolf', 'introduce', 'cooked', 'expected', 'gooo', 'effing', 'threw', 'poker', 'aidan', 'james', 'positivity', 'inspiration', 'preordered', 'makeup', 'liking', 'premiere', 'collect', 'orange', 'tree', 'greg', 'imagine', 'jump', 'wrk', 'bothering', 'thousand', 'clothdiapers', 'across', 'sadie', 'pitched', 'il', 'struggling', 'surprisingly', 'rumour', 'obviously', 'elementary', 'smoked', 'nana', 'pleasure', 'reallly', 'trampoline', 'extend', 'republic', 'mistake', 'inner', 'tie', 'loose', 'create', 'internal', 'reinstalling', 'relay', 'rerun', 'revised', 'deserved', 'march', 'reunion', 'jess', 'info', 'jazz', 'cafe', 'however', 'october', 'ale', 'sunset', 'ash', 'aahhh', 'alien', 'secretly', 'flirting', 'hun', 'aaahh', 'pronounced', 'dealer', 'hurty', 'cutie', 'temple', 'ina', 'dere', 'smoke', 'contribute', 'format', 'tighter', 'prefer', 'whereas', 'terribly', 'autumn', 'screaming', 'shutup', 'announced', 'stint', 'abit', 'awesomeness', 'simon', 'cider', 'ohhhhhh', 'arent', 'vampire', 'shining', 'smiley', 'snl', 'princess', 'bride', 'wrapped', 'shoulda', 'edge', 'clutch', 'lewis', 'meanie', 'earphone', 'latin', 'tomato', 'suspect', 'raccoon', 'drag', 'tricky', 'iam', 'forgotten', 'crib', 'runnin', 'planet', 'ihop', 'garage', 'belief', 'grade', 'toilet', 'nail', 'irritated', 'brittany', 'willing', 'ahaha', 'act', 'pretend', 'hurting', 'emily', 'smoking', 'remaining', 'freedom', 'unable', 'twat', 'complaint', 'painful', 'ten', 'urban', 'srsly', 'understood', 'repeating', 'shrimp', 'resort', 'minor', 'patiently', 'goal', 'attempt', 'stray', 'glorious', 'ther', 'cred', 'sunrise', 'bloated', 'dun', 'bathing', 'allowed', 'dye', 'ginger', 'whyyy', 'weave', 'unbearable', 'training', 'unbelievable', 'strange', 'stuffed', 'distracted', 'jet', 'miami', 'admire', 'init', 'introducing', 'obsession', 'dizzy', 'contagious', 'cal', 'opening', 'va', 'gene', 'kelly', 'rent', 'remote', 'render', 'banner', 'producing', 'poh', 'market', 'lasted', 'breathing', 'alike', 'ted', 'telly', 'caring', 'notice', 'snooze', 'stadium', 'nighty', 'stacy', 'rice', 'io', 'bean', 'resolve', 'raped', 'kindle', 'japanese', 'exchange', 'cutest', 'pocket', 'stitch', 'radiohead', 'undone', 'ultimate', 'chaos', 'rainbow', 'sucker', 'toss', 'doggy', 'sleepin', 'iranian', 'incredibly', 'attractive', 'bailing', 'yu', 'curse', 'amanda', 'cycle', 'primary', 'seven', 'hasnt', 'gen', 'jury', 'figuring', 'festival', 'chatting', 'breast', 'pam', 'curry', 'stain', 'ac', 'celeb', 'potato', 'bake', 'leak', 'stage', 'kidney', 'failure', 'wichita', 'owner', 'grown', 'nicole', 'kami', 'tank', 'woohoo', 'tweeted', 'jenny', 'kicking', 'genesis', 'dramatic', 'entertaining', 'choose', 'originally', 'lalala', 'rewarding', 'recently', 'jen', 'rick', 'jo', 'wah', 'iplayer', 'lounge', 'slide', 'dumbass', 'gg', 'mann', 'host', 'buff', 'kita', 'penis', 'shortened', 'noticed', 'andd', 'brook', 'hearing', 'keeping', 'berlin', 'mei', 'discover', 'fitness', 'major', 'journal', 'connor', 'tournament', 'tgif', 'shite', 'refuse', 'knee', 'bitter', 'mak', 'noooooo', 'truly', 'shout', 'wout', 'occurred', 'sooner', 'popped', 'including', 'scott', 'hurray', 'windy', 'laura', 'swell', 'scarf', 'leo', 'energy', 'utter', 'poem', 'lex', 'maan', 'bnp', 'seat', 'belong', 'maria', 'nada', 'pea', 'goto', 'grand', 'exceeded', 'silent', 'toooooo', 'toothache', 'extra', 'strength', 'painkiller', 'ripped', 'tip', 'towed', 'ingredient', 'desktop', 'window', 'iz', 'dick', 'age', 'hangout', 'struggle', 'skipped', 'exec', 'venture', 'virgin', 'boarding', 'mag', 'ang', 'oz', 'ditch', 'november', 'poo', 'nearby', 'remembered', 'darling', 'knocked', 'meeks', 'joining', 'bribe', 'salon', 'climb', 'granny', 'toooo', 'pearl', 'ani', 'rush', 'hunny', 'muffin', 'soda', 'powder', 'noo', 'ag', 'injured', 'allergic', 'gma', 'circumstance', 'blind', 'sea', 'pace', 'minus', 'jaime', 'unemployed', 'calvin', 'triple', 'promised', 'arghhh', 'indie', 'pakistan', 'basis', 'waste', 'harold', 'brad', 'six', 'appeal', 'dashboard', 'wisdom', 'wheres', 'murdered', 'mainly', 'browser', 'activated', 'privacy', 'con', 'module', 'chorus', 'spiritual', 'clip', 'adopted', 'asthma', 'eva', 'driver', 'blew', 'size', 'jenn', 'diabetes', 'heartbreaking', 'wanker', 'sticker', 'choc', 'maker', 'kudos', 'rider', 'whooo', 'heartless', 'invite', 'eps', 'corey', 'smith', 'hire', 'stoopid', 'official', 'tokyo', 'congratulation', 'heidi', 'blanket', 'wishh', 'confirm', 'deny', 'earth', 'soooooo', 'wna', 'acoustic', 'string', 'woe', 'sight', 'wash', 'wilson', 'visited', 'philippine', 'rockin', 'cole', 'charmed', 'hve', 'practice', 'order', 'yeps', 'hamilton', 'wolverine', 'ironing', 'karma', 'knackered', 'yup', 'frm', 'artwork', 'swiss', 'graphic', 'brand', 'brake', 'insurance', 'julie', 'sunglass', 'shouting', 'heap', 'vector', 'vanished', 'provided', 'cracked', 'neck', 'moved', 'landlord', 'bsb', 'drama', 'en', 'jackie', 'margaret', 'absolutely', 'cookie', 'dough', 'fuse', 'dmb', 'theatre', 'vid', 'washing', 'viewing', 'perform', 'vicariously', 'rocker', 'liberal', 'mountain', 'mission', 'impossible', 'pretending', 'goth', 'twist', 'cow', 'fanfic', 'perk', 'aaah', 'younger', 'runny', 'origin', 'queensland', 'turk', 'louis', 'baaad', 'pat', 'worm', 'skate', 'nh', 'rly', 'championship', 'irony', 'according', 'higher', 'taller', 'focus', 'poke', 'christina', 'lolol', 'lu', 'distance', 'learning', 'program', 'relative', 'popular', 'headline', 'yahoo', 'male', 'republican', 'crack', 'altho', 'trail', 'pleaseeee', 'marsiscoming', 'vegan', 'eurovision', 'eso', 'mami', 'genius', 'greedy', 'fck', 'lick', 'balloon', 'oops', 'rug', 'american', 'joey', 'centered', 'fill', 'appreciation', 'using', 'filter', 'plastic', 'hahahaha', 'per', 'snoring', 'tiring', 'swift', 'glasgow', 'florence', 'fifteen', 'gokey', 'doubt', 'ability', 'lecture', 'finance', 'shipped', 'aka', 'looong', 'awsome', 'owen', 'wk', 'pff', 'article', 'throwing', 'park', 'playoff', 'retweet', 'knock', 'bradiewebbstack', 'witness', 'booooo', 'addictedto', 'deliver', 'bollywood', 'misha', 'awfully', 'enuf', 'aion', 'beta', 'wa', 'player', 'force', 'frickin', 'alltimelow', 'trending', 'andyclemmensen', 'shaundiviney', 'bradiewebb', 'shaunjumpnow', 'embarrassed', 'alan', 'willy', 'wonka', 'arsenal', 'che', 'diff', 'obvious', 'goodie', 'asot', 'ai', 'audio', 'hurrah', 'lovin', 'sly', 'dig', 'rocky', 'maryland', 'zoo', 'tcot', 'phil', 'ken', 'foul', 'quote', 'casting', 'foggy', 'actual', 'practical', 'broadband', 'renew', 'dooo', 'realised', 'pixie', 'reminds', 'resident', 'mcmahon', 'stopping', 'pumping', 'cnn', 'dave', 'presume', 'fabby', 'zoe', 'robert', 'bump', 'froze', 'virtual', 'greeting', 'jensen', 'jared', 'attention', 'auto', 'wheel', 'nascar', 'remotely', 'ole', 'bamboo', 'sophie', 'brill', 'drank', 'woken', 'stiff', 'beijing', 'massage', 'swallow', 'prof', 'tit', 'bgt', 'matey', 'winner', 'jungle', 'halfway', 'flawless', 'shaheen', 'career', 'christ', 'newspaper', 'ron', 'podcast', 'ipl', 'tj', 'dey', 'assist', 'known', 'weight', 'aimee', 'incident', 'auction', 'breathe', 'semi', 'upstairs', 'thinkin', 'hatton', 'shitting', 'shuck', 'physically', 'flatley', 'holding', 'example', 'closeup', 'stephanie', 'translator', 'netbook', 'smaller', 'bachelor', 'register', 'export', 'html', 'xml', 'metric', 'slice', 'wheat', 'milkshake', 'bts', 'camper', 'damage', 'indian', 'celiac', 'recipe', 'charitytuesday', 'scenario', 'charliecuntskies', 'trend', 'nc', 'chesterday', 'topic', 'commute', 'executive', 'bea', 'lifting', 'skirt', 'himher', 'confession', 'misunderstood', 'believed', 'direction', 'commented', 'texas', 'classic', 'hulk', 'lad', 'fo', 'central', 'cho', 'delongeday', 'ignoring', 'adding', 'brunch', 'hen', 'performing', 'anyhow', 'elevator', 'kilt', 'software', 'programming', 'geek', 'soggy', 'grow', 'screw', 'gaming', 'goodnights', 'nothin', 'garbage', 'apparent', 'japan', 'panic', 'bruise', 'zune', 'alaska', 'prep', 'spongebob', 'fence', 'boss', 'todayy', 'peek', 'subscribe', 'austria', 'sunbathing', 'switching', 'oven', 'glow', 'sydney', 'fluid', 'belle', 'isle', 'digg', 'producer', 'channel', 'repeat', 'booth', 'dozen', 'building', 'hooray', 'discussion', 'dontyouhate', 'fk', 'lg', 'bomb', 'range', 'woulda', 'stewart', 'amd', 'chuckle', 'wave', 'dip', 'branch', 'gas', 'blasting', 'miranda', 'imac', 'closest', 'reminder', 'debut', 'foolish', 'leon', 'selling', 'alison', 'candymaize', 'entertained', 'fart', 'faced', 'iron', 'doyourememberwhen', 'heaven', 'deaf', 'jail', 'danced', 'obama', 'pee', 'changing', 'dubai', 'polar', 'seal', 'whale', 'erm', 'competitive', 'advantage', 'milo', 'knight', 'luke', 'bid', 'los', 'singer', 'voted', 'ban', 'learnt', 'russian', 'realise', 'precious', 'component', 'vettel', 'german', 'gp', 'bollock', 'tweetie', 'sharp', 'jumping', 'andor', 'sluggish', 'facup', 'gu', 'streaming', 'aber', 'continues', 'moody', 'tracking', 'physical', 'yogurt', 'nicely', 'gues', 'girly', 'heavily', 'creepy', 'thankful', 'stinky', 'postponed', 'angeles', 'connected', 'plug', 'route', 'travel', 'sorted', 'audition', 'xbox', 'adventure', 'entertain', 'alsharptongue', 'custom', 'geography', 'ty', 'bible', 'stepped', 'yellow', 'ridiculous', 'streak', 'september', 'extraordinary', 'eeee', 'wade', 'bald', 'shave', 'yeahi', 'ontario', 'mill', 'afterwards', 'vacay', 'sp', 'nicky', 'gift', 'hihihi', 'shhh', 'noice', 'critter', 'algebraoverdose', 'byebye', 'loverly', 'chopped', 'andydick', 'required', 'jar', 'holder', 'disappear', 'factory', 'cotton', 'invented', 'xxxxxxx', 'ohhhhh', 'betty', 'kidnapped', 'sudden', 'adult', 'contemplating', 'skipping', 'jtv', 'blink', 'surprise', 'pointless', 'copypaste', 'coupon', 'addict', 'cod', 'kissed', 'subscriber', 'saint', 'beast', 'maam', 'alway', 'britney', 'trash', 'sweaty', 'nude', 'yuh', 'focused', 'renewed', 'austin', 'tx', 'concern', 'gap', 'legal', 'wen', 'attraction', 'ck', 'nephew', 'needed', 'registration', 'supper', 'poster', 'yaaaay', 'filtering', 'related', 'liz', 'rating', 'appreciate', 'pastry', 'raised', 'teaching', 'strip', 'doughnut', 'krispy', 'kreme', 'vi', 'hiya', 't', 'iii', 'xmen', 'newbie', 'jaljeera', 'jai', 'smart', 'mc', 'blaming', 'airline', 'mourning', 'hiring', 'domestic', 'overall', 'draft', 'jake', 'lookn', 'gary', 'reset', 'average', 'yeahh', 'amaze', 'gentleman', 'common', 'rusty', 'treatment', 'reporter', 'innocence', 'carnival', 'johnson', 'williams', 'poet', 'desperately', 'jp', 'aionliv', 'eu', 'property', 'repost', 'sanity', 'certificate', 'understanding', 'gathering', 'shuttle', 'android', 'metal', 'accurate', 'prove', 'conservative', 'cared', 'homie', 'tweeple', 'lover', 'supportive', 'talked', 'microsoft', 'barbie', 'shape', 'inspired', 'gal', 'fella', 'cyber', 'sassy', 'actionchick', 'firstrecord', 'spice', 'hanson', 'access', 'flylady', 'clearing', 'towel', 'dh', 'downloading', 'organising', 'newo', 'archive', 'timer', 'closet', 'snack', 'packed', 'consumed', 'mow', 'lasagna', 'knitting', 'lr', 'hurricane', 'paperwork', 'purchased', 'oj', 'dirt', 'lo', 'intelligent', 'alicejam', 'annjj', 'cherry', 'cola', 'bersheba', 'observation', 'wildlife', 'catawu', 'diamond', 'upcoming', 'creattica', 'andybeard', 'treasure', 'humour', 'intelligence', 'unique', 'diva', 'authentic', 'skip', 'spectacular', 'dojie', 'anzrocks', 'cmoz', 'groovy', 'russia', 'fiction', 'worldwide', 'talented', 'dew', 'grass', 'abp', 'mostly', 'bub', 'born', 'industry', 'favs', 'informed', 'lake', 'improve', 'useful', 'information', 'nikkeedee', 'bass', 'whoa', 'consider', 'rustyrockets', 'hoot', 'beverleyknight', 'anderson', 'pug', 'cesarmillan', 'arancinibaby', 'brendonuriesays', 'amandaholden', 'follows', 'variety', 'ceggs', 'annhesketh', 'moochergirl', 'converse', 'azlen', 'competition', 'movement', 'buenos', 'honor', 'tomorow', 'paycheck', 'speaks', 'process', 'sweden', 'babygirlsomajor', 'pleasant', 'interact', 'emotion', 'friggin', 'sleeve', 'tryin', 'recover', 'retard', 'prank', 'hysterical', 'spray', 'whenever', 'herd', 'liar', 'kok', 'yoo', 'packet', 'cah', 'cher', 'elizabeth', 'cruel', 'adopt', 'nature', 'transplant', 'peru', 'wid', 'thirsty', 'sissy', 'inspirational', 'stock', 'mahalo', 'technical', 'demo', 'homemade', 'biscuit', 'gravy', 'maple', 'lmfaoo', 'destroy', 'afterall', 'preorder', 'collector', 'instant', 'economic', 'east', 'coast', 'mimi', 'yn', 'spirit', 'casey', 'southern', 'md', 'flea', 'freeze', 'jonaskevin', 'betta', 'effin', 'blond', 'darker', 'earn', 'denied', 'considered', 'pot', 'intake', 'christopher', 'gordon', 'armin', 'aire', 'argentina', 'celebration', 'melted', 'hahahah', 'laser', 'op', 'remembers', 'adorable', 'guest', 'mp', 'sht', 'voting', 'adn', 'income', 'spencer', 'proxy', 'unfollow', 'par', 'slower', 'renee', 'thread', 'carenl', 'violin', 'causing', 'qo', 'lahat', 'coworker', 'aureliom', 'spelling', 'barrysnedden', 'nicest', 'amandapalmer', 'bellaclara', 'tomfelton', 'followsaturday', 'artmaker', 'ano', 'kfc', 'forourhero', 'frenchiebday', 'explained', 'installed', 'deciding', 'fuqtwitter', 'anoop', 'prop', 'nic', 'slot', 'gonzpiration', 'grave', 'goodsex', 'nine', 'ñ', 'butt', 'involves', 'intentional', 'cum', 'thrown', 'anal', 'partner', 'yooo', 'booty', 'badsex', 'shaking', 'plugins', 'niece', 'happybdaykrisallen', 'hashtag', 'haveyouever', 'clicking', 'racist', 'hamburger', 'sth', 'freaked', 'eg', 'ranch', 'roflmao', 'accept', 'cinnamon', 'ittt', 'earthquake', 'blowing', 'intention', 'anotha', 'dublin', 'djing', 'deck', 'deg', 'chin', 'peach', 'tart', 'flavor', 'root', 'float', 'nokia', 'rural', 'nom', 'shush', 'hitting', 'tyler', 'batman', 'postcard', 'melissa', 'soft', 'ooooh', 'apology', 'george', 'su', 'bo', 'preferred', 'routine', 'keyboard', 'sally', 'stylish', 'theory', 'probs', 'johnny', 'ceremony', 'gracious', 'harper', 'dangit', 'knoww', 'tick', 'tennis', 'gem', 'insight', 'brazilwillmissmcfly', 'intense', 'discus', 'wooden', 'bashing', 'backstreet', 'carlisle', 'bsg', 'cc', 'dutch', 'helen', 'eminem', 'cheated', 'stripper', 'staring', 'danity', 'kane', 'situation', 'revolution', 'progressive', 'henry', 'ford', 'mayo', 'strap', 'reception', 'particularly', 'capped', 'modem', 'hoppusday', 'horoscope', 'virgo', 'howarewe', 'alicia', 'main', 'muse', 'belgium', 'orientation', 'netprophet', 'haa', 'judgement', 'overly', 'overseas', 'stickam', 'heehee', 'logging', 'whimper', 'christian', 'fallon', 'xxxxxxxxxxx', 'mitch', 'tryna', 'pregnant', 'charity', 'vision', 'bullyinguk', 'chaser', 'chester', 'creation', 'surprised', 'bugging', 'dollhouse', 'feliciaday', 'csi', 'walking', 'cs', 'chrispirillo', 'cycling', 'gi', 'ki', 'push', 'wc', 'verse', 'lan', 'bon', 'gel', 'ahem', 'tyra', 'iconfess', 'sub', 'reader', 'option', 'mushroom', 'yuk', 'canal', 'ihate', 'knit', 'ilove', 'honesty', 'ariesvenusstarr', 'hbo', 'biggie', 'gaining', 'tequila', 'statement', 'pe', 'natural', 'indoor', 'forbid', 'invent', 'pulling', 'carrying', 'gallon', 'dinosaur', 'hood', 'cross', 'category', 'aid', 'funn', 'aired', 'pilot', 'tipsy', 'wii', 'cud', 'muh', 'lyk', 'inappropriatemovies', 'clothing', 'lying', 'petition', 'benefit', 'spotify', 'recognise', 'unlock', 'purchase', 'cn', 'mornin', 'shannon', 'lip', 'scrub', 'yas', 'sober', 'seller', 'kevinjonas', 'forum', 'doc', 'graffiti', 'jacob', 'carolina', 'pr', 'warrior', 'billion', 'robot', 'aware', 'khamenei', 'speech', 'scheduled', 'twittercom', 'iremember', 'fog', 'mousavi', 'twugs', 'deeply', 'peaceful', 'resolution', 'foreign', 'porch', 'cont', 'pussy', 'granted', 'zero', 'oscar', 'meyer', 'goooo', 'sensor', 'pixel', 'youngest', 'whisper', 'broad', 'daylight', 'drivin', 'yaa', 'flow', 'funk', 'slip', 'auntie', 'babysitting', 'babysitter', 'lmaoo', 'jquery', 'downtime', 'carradine', 'hd', 'important', 'ie', 'whereabouts', 'receive', 'heh', 'faux', 'spammer', 'woofwednesday', 'steve', 'hotspot', 'numb', 'database', 'menu', 'tab', 'argument', 'usage', 'trilogy', 'natal', 'incredible', 'snail', 'ecomonday', 'etsy', 'batch', 'labour', 'tory', 'ironic', 'coverage', 'boot', 'spin', 'fuel', 'sized', 'sega', 'sonic', 'fighter', 'captain', 'twitts', 'rabbit', 'hahahahaha', 'tin', 'romeo', 'held', 'vitamin', 'grows', 'smashed', 'clueless', 'singin', 'rolled', 'suitcase', 'cabbage', 'patch', 'ashton', 'damned', 'impressive', 'mutual', 'fearless', 'citizen', 'kingdom', 'jewelry', 'tha', 'fool', 'itsucks', 'prison', 'dee', 'divorced', 'jonasparanoid', 'solar', 'thts', 'eww', 'ahahahah', 'boxing', 'pod', 'respond', 'faves', 'appreciated', 'spare', 'costa', 'nickname', 'writes', 'chef', 'ffs', 'compare', 'stupidly', 'daft', 'vinyl', 'beatles', 'aswel', 'fixreplies', 'catering', 'du', 'cultural', 'stil', 'addiction', 'straightening', 'stroke', 'sup', 'jacksonville', 'anxiety', 'takin', 'viral', 'specie', 'keith', 'explosion', 'outcome', 'sacrifice', 'occasional', 'constant', 'invitation', 'reminding', 'roger', 'ferris', 'afterparty', 'obv', 'kiwi', 'agreeing', 'listeningto', 'ay', 'hosted', 'warned', 'fin', 'debate', 'upgrading', 'config', 'tethering', 'psyched', 'lurking', 'alert', 'china', 'controller', 'mileymonday', 'militarymon', 'ft', 'blogged', 'crunch', 'errand', 'wipe', 'napping', 'brewing', 'kit', 'idol', 'ciara', 'arleigh', 'chatted', 'participant', 'select', 'gps', 'moviemisquotes', 'badger', 'mrtweet', 'recommend', 'several', 'borat', 'mummy', 'murphy', 'paula', 'powerful', 'wizard', 'jones', 'bubbly', 'bakeanddestroy', 'astromike', 'adventuregirl', 'babyrabies', 'colleenlindsay', 'kindness', 'licking', 'terrific', 'techie', 'disagree', 'yank', 'adii', 'chrisspooner', 'promotion', 'encouraging', 'helpful', 'warped', 'ashleyltmsyf', 'inspiring', 'mellow', 'crowded', 'yellowcard', 'shane', 'owl', 'com', 'boa', 'bahaha', 'keri', 'neyo', 'mgmt', 'gifted', 'magical', 'discount', 'sweetie', 'marginatasnaily', 'seo', 'et', 'interviewed', 'tasty', 'cupcake', 'fjkinnit', 'goddess', 'amongst', 'interior', 'crowd', 'stunning', 'became', 'lacking', 'mentioned', 'paparazzo', 'poison', 'ivy', 'rise', 'shin', 'upbeat', 'featuring', 'hymn', 'musicmondays', 'platform', 'sneak', 'releasing', 'multiplayer', 'congratulate', 'noob', 'tube', 'polish', 'moo', 'cranberry', 'taught', 'callin', 'birth', 'poppin', 'weakness', 'respect', 'sheep', 'skillz', 'listed', 'grit', 'intro', 'spy', 'audnumber', 'atomicpoet', 'ahmnohere', 'professional', 'italian', 'recommendation', 'recruit', 'thick', 'anthony', 'fantasy', 'fictional', 'genuine', 'pattinson', 'promoting', 'srry', 'creo', 'chad', 'sweat', 'pout', 'songz', 'zac', 'efron', 'dover', 'workshop', 'gloria', 'lock', 'basement', 'joel', 'ohnotheydidnt', 'responding', 'hash', 'geekcamp', 'thks', 'brainstorming', 'giro', 'moaning', 'gno', 'montreal', 'represent', 'doug', 'shyt', 'shameless', 'cocktail', 'convinced', 'nothingpersonal', 'banking', 'fee', 'wassup', 'participate', 'ohyeswedid', 'ontd', 'walmart', 'den', 'county', 'multiple', 'honey', 'gratitude', 'envy', 'conspiracy', 'simply', 'challenge', 'mam', 'minister', 'culture', 'cowboy', 'jesus', 'hb', 'overworked', 'bcoz', 'unfollowed', 'yap', 'function', 'joking', 'chief', 'mai', 'hyped', 'vocal', 'eastern', 'equation', 'posse', 'photographer', 'combination', 'twas', 'reference', 'pman', 'planning', 'poop', 'filmed', 'productivity', 'whoot', 'pudding', 'pune', 'reaching', 'invalid', 'underrated', 'exposure', 'instrument', 'piano', 'transition', 'ranger', 'hobbit', 'whatchu', 'reddit', 'espn', 'redwing', 'hawk', 'cub', 'dina', 'disk', 'arrangement', 'dining', 'rove', 'madonna', 'rugby', 'highlight', 'forest', 'savannah', 'desert', 'tropical', 'samesexsunday', 'sanctuarysunday', 'sanctuary', 'aquarium', 'studied', 'sandy', 'utah', 'fri', 'marc', 'martin', 'corny', 'hundred', 'heshe', 'replied', 'texted', 'teehee', 'mixing', 'peanut', 'butter', 'junk', 'sack', 'motherfucker', 'imagination', 'hayfever', 'height', 'aloud', 'pissing', 'saveearl', 'anyhoo', 'who', 'sebday', 'european', 'meanwhile', 'abomination', 'mush', 'worker', 'sway', 'shoutout', 'amazingly', 'flexible', 'designer', 'opt', 'ar', 'enuff', 'wifi', 'sketch', 'ozzy', 'hugh', 'laurie', 'medical', 'flex', 'delhi', 'syrup', 'shady', 'arrogant', 'assistant', 'gmailcom', 'computing', 'vodafone', 'braid', 'description', 'urge', 'diaper', 'halloween', 'pan', 'juno', 'usa', 'commodore', 'entered', 'creative', 'kidding', 'larry', 'brick', 'drool', 'dept', 'skittle', 'convenient', 'employer', 'dragging', 'ichat', 'suffer', 'exists', 'liverpool', 'bac', 'forgive', 'starstrukk', 'vaca', 'startrek', 'satisfied', 'stuffwotimadeup', 'grammar', 'mermaid', 'vic', 'singapore', 'lust', 'dancer', 'meme', 'charicemaniacs', 'tetri', 'thailand', 'mango', 'salsa', 'chosen', 'dental', 'illegal', 'sings', 'span', 'fade', 'activate', 'amount', 'cashback', 'eligible', 'paste', 'firmware', 'thingsmummysaid', 'threadless', 'cliche', 'tonys', 'elton', 'oak', 'thus', 'smack', 'trueblood', 'horror', 'refresh', 'twitterfon', 'showed', 'column', 'api', 'announce', 'protest', 'guard', 'rally', 'tape', 'sounded', 'ghetto', 'improving', 'twin', 'ehh', 'oo', 'microwave', 'freshman', 'kar', 'dial', 'caller', 'epicfail', 'lloyd', 'spinning', 'tres', 'treated', 'advertising', 'strategy', 'gw', 'ufc', 'amir', 'forrest', 'rampage', 'brawl', 'unfollowdiddy', 'destroyed', 'spreading', 'holdin', 'usawantsmcfly', 'debbie', 'jenna', 'lawrence', 'votemcfly', 'warcraft', 'hunter', 'hush', 'spec', 'rear', 'torture', 'trial', 'humidity', 'diary', 'uno', 'mj', 'deadline', 'recession', 'lego', 'grilled', 'among', 'kobe', 'riot', 'analytics', 'cellphone', 'whyitweet', 'workin', 'pinch', 'azz', 'eight', 'rc', 'previous', 'wolframalpha', 'wordpress', 'reject', 'plugin', 'writechat', 'wwdc', 'booster', 'pst', 'mistaken', 'adel', 'jelly', 'amazed', 'rude', 'javaone', 'suggest', 'woah', 'grove', 'over', 'recovering', 'ace', 'yorly', 'zomg', 'perf', 'amsterdam', 'trading', 'syntax', 'duh', 'donate', 'scooter', 'dell', 'practicing', 'technique', 'ot', 'lax', 'luggage', 'lool', 'eve', 'liesgirlstell', 'bench', 'lofnotc', 'tragedy', 'superstar', 'wftb', 'carl', 'agency', 'printing', 'network', 'mariner', 'removed', 'reinstall', 'jayz', 'obnoxious', 'outing', 'sting', 'ull', 'umbrella', 'soothing', 'lighter', 'eeek', 'regent', 'rebecca', 'insanely', 'marvelous', 'ip', 'dummy', 'goddamn', 'elsewhere', 'ist', 'sweetest', 'pad', 'jt', 'lid', 'irish', 'crow', 'korn', 'feat', 'led', 'breaker', 'marilyn', 'manson', 'soulja', 'february', 'spread', 'theyll', 'playlist', 'metallica', 'behalf', 'remove', 'mw', 'forehead', 'jamba', 'smoothy', 'charlieskies', 'personality', 'beef', 'goody', 'dimple', 'existence', 'unfortunate', 'accent', 'denim', 'psp', 'explain', 'meeeeeee', 'candle', 'lit', 'sippin', 'patron', 'frame', 'aye', 'yur', 'concentrate', 'thn', 'drift', 'molly', 'austinheap', 'recon', 'gladiator', 'installing', 'scan', 'anatomy', 'domino', 'begging', 'bouncy', 'tail', 'cheesy', 'ad', 'mint', 'techno', 'importantly', 'sin', 'flavour', 'nasa', 'launch', 'engineer', 'dale', 'racing', 'survivor', 'approved', 'false', 'cullen', 'hippie', 'affect', 'ubertwitter', 'giggle', 'ease', 'firewall', 'browse', 'oracle', 'agrees', 'yeh', 'sl', 'ignorant', 'phish', 'management', 'gtalk', 'tl', 'unexpected', 'pit', 'gusta', 'portland', 'pdx', 'lens', 'rebel', 'projectnahal', 'extended', 'clinic', 'pollution', 'asset', 'popup', 'z', 'rox', 'dwn', 'nz', 'exp', 'imo', 'pronto', 'spose', 'discovered', 'resource', 'silverstone', 'cheaper', 'quicker', 'lvl', 'chrisabad', 'selection', 'legit', 'twitterific', 'helped', 'wha', 'redo', 'brow', 'pitch', 'memoir', 'teenage', 'nah', 'url', 'dope', 'woow', 'becuase', 'juz', 'yawn', 'replace', 'rp', 'burrito', 'ignored', 'thurs', 'waving', 'entering', 'choosing', 'infinity', 'htc', 'leeds', 'gorilla', 'drum', 'reg', 'attendee', 'terminator', 'slacking', 'condom', 'pepsi', 'surely', 'tokio', 'cursed', 'traveler', 'rap', 'familiar', 'mixtape', 'marker', 'vista', 'closing', 'restart', 'hip', 'pooh', 'trick', 'lemon', 'rome', 'mbp', 'coconut', 'brooke', 'enjoyin', 'elbow', 'jill', 'object', 'php', 'swearing', 'bailey', 'twpp', 'pole', 'ui', 'ness', 'index', 'grilling', 'olive', 'parallel', 'spree', 'gray', 'traumatic', 'je', 'te', 'abuse', 'twitting', 'blipping', 'glory', 'tide', 'edited', 'dull', 'screamed', 'chan', 'requested', 'pinky', 'downstairs', 'volume', 'funding', 'pencil', 'employee', 'featured', 'warner', 'pmsl', 'jumped', 'cursing', 'solid', 'becomes', 'beaten', 'wore', 'hooker', 'prostitute', 'razor', 'bestest', 'trade', 'arena', 'difficult', 'organization', 'loooong', 'costume', 'noww', 'donkey', 'multi', 'shortcut', 'converted', 'license', 'endorsement', 'trump', 'uhhh', 'logical', 'comeback', 'bbrriittttyy', 'alexajordan', 'heartbeat', 'vol', 'shortly', 'dec', 'blogger', 'ranking', 'unavailable', 'rsvp', 'horrid', 'programme', 'scottish', 'balance', 'kat', 'barcelona', 'beam', 'assassin', 'closure', 'bingo', 'raising', 'velvet', 'raven', 'cliff', 'sibling', 'div', 'drown', 'jennifer', 'suprise', 'hidden', 'webpage', 'helmet', 'gluten', 'guide', 'shipping', 'quietly', 'cent', 'whoo', 'productive', 'drew', 'pong', 'requesting', 'basically', 'housewife', 'tai', 'crook', 'hating', 'eachother', 'babycakes', 'journey', 'monsoon', 'mayb', 'bcuz', 'troll', 'mug', 'vintage', 'loooove', 'divine', 'lindsay', 'optimistic', 'looove', 'prolly', 'thingie', 'lifetime', 'mandy', 'tutorial', 'typo', 'uhh', 'actor', 'comedian', 'ahmadinejad', 'uhm', 'uhoh', 'umm', 'tattooed', 'baba', 'retarded', 'victoria', 'claire', 'exploring', 'ronnie', 'impatient', 'ajax', 'calm', 'stevie', 'gabe', 'heeey', 'marry', 'sayang', 'chasing', 'cheat', 'yer', 'whine', 'desire', 'swing', 'indication', 'conditioner', 'depression', 'horizon', 'hotter', 'cobra', 'advert', 'elephant', 'threatening', 'officer', 'arrest', 'violet', 'brady', 'brett', 'satan', 'frustration', 'appearance', 'amen', 'enjoyed', 'rang', 'pounding', 'agentm', 'dreary', 'dreading', 'lamb', 'norway', 'lining', 'donniewahlberg', 'ddub', 'hottie', 'haired', 'ringing', 'buh', 'press', 'yelling', 'queue', 'empire', 'eternal', 'sangria', 'product', 'dangerous', 'fallout', 'checkin', 'visual', 'gnite', 'showered', 'shampoo', 'completly', 'jog', 'decade', 'thrillbilly', 'blair', 'horribly', 'yumm', 'fried', 'aawww', 'neat', 'identica', 'severe', 'concerning', 'gateway', 'default', 'portion', 'hols', 'driveway', 'poland', 'perfection', 'suitable', 'substitute', 'campus', 'equipment', 'nin', 'directly', 'builder', 'calendar', 'rockband', 'recorded', 'accountant', 'survival', 'spicy', 'fitting', 'palin', 'yee', 'itouch', 'evolve', 'berry', 'breakdown', 'breakthrough', 'bat', 'yaaay', 'reunited', 'font', 'purple', 'paypal', 'xfactor', 'trained', 'router', 'brazil', 'disappoint', 'gracias', 'mare', 'fired', 'flashing', 'groove', 'unicorn', 'roman', 'hence', 'spaghetti', 'carbs', 'rage', 'elmo', 'patience', 'depp', 'errrr', 'juliette', 'gravity', 'reveal', 'thin', 'innocent', 'nemo', 'pixar', 'answered', 'laughed', 'anima', 'sana', 'ã', 'nam', 'overrated', 'har', 'hai', 'ek', 'attending', 'scrabble', 'beamed', 'shia', 'baker', 'tale', 'ollie', 'polite', 'moron', 'behavior', 'triangle', 'strictly', 'benny', 'precisely', 'pfft', 'twitterverse', 'weep', 'allah', 'clarkson', 'tshirts', 'asia', 'corn', 'chart', 'milestone', 'cabin', 'atlantic', 'concept', 'ally', 'trendy', 'begining', 'rocket', 'duno', 'kelsey', 'involved', 'kissing', 'arrange', 'louise', 'crutch', 'blur', 'jessica', 'fully', 'battlefield', 'jordin', 'tisdale', 'rio', 'bravo', 'sincerely', 'amusing', 'parked', 'intend', 'stronger', 'translate', 'innovation', 'implement', 'spoiling', 'mmmmm', 'danger', 'viewer', 'likey', 'porno', 'tuned', 'buyer', 'dissapointing', 'flag', 'chunk', 'education', 'engine', 'limited', 'nerdy', 'euro', 'est', 'britneyspears', 'comfortable', 'elle', 'pushed', 'soundtrack', 'maine', 'chitown', 'blister', 'wnt', 'facing', 'stare', 'fatal', 'wound', 'hop', 'screening', 'pronounce', 'pause', 'backstreetboys', 'bandwidth', 'mu', 'unfinished', 'firm', 'hp', 'pass', 'illness', 'yeaaaah', 'taco', 'boost', 'owned', 'polka', 'stripe', 'patty', 'opps', 'entrance', 'ridiculously', 'tone', 'creating', 'tia', 'washed', 'dried', 'dfizzy', 'dialogue', 'timeout', 'dove', 'salt', 'cucumber', 'bare', 'absent', 'placed', 'lucas', 'crotch', 'developer', 'accounting', 'tutor', 'marine', 'kidnap', 'baked', 'disaster', 'marketing', 'petewentz', 'howard', 'kinky', 'stalking', 'saddest', 'swamped', 'listing', 'douche', 'dl', 'mere', 'passion', 'coat', 'boburnham', 'ð', 'weapon', 'union', 'terry', 'hallelujah', 'concur', 'sc', 'perhaps', 'heath', 'rhubarb', 'raspberry', 'language', 'chk', 'amous', 'bacieabbracci', 'blazinglily', 'punishment', 'bizarre', 'wierd', 'twitterworld', 'hairy', 'abraham', 'dawn', 'erica', 'rare', 'vou', 'ali', 'ele', 'journalist', 'ðµ', 'anne', 'dean', 'reaper', 'oyster', 'cult', 'doh', 'weirdo', 'bleumuze', 'scifi', 'countdown', 'teaser', 'columbia', 'decides', 'pom', 'emailing', 'oldest', 'magnificent', 'motorcycle', 'bw', 'conclusion', 'kung', 'fu', 'damnn', 'flipping', 'vancouver', 'marriage', 'poof', 'angelina', 'jolie', 'charice', 'abroad', 'magnet', 'doggie', 'lean', 'expand', 'compatible', 'gusto', 'lov', 'anythin', 'absence', 'linda', 'approach', 'oclock', 'crime', 'angie', 'benjamincook', 'chrisblake', 'beatlestweets', 'abduzeedo', 'flik', 'addersop', 'warmth', 'sas', 'lung', 'generation', 'swedish', 'pride', 'louisiana', 'melt', 'spill', 'awh', 'lem', 'requires', 'chase', 'sand', 'novel', 'bore', 'mir', 'puzzle', 'misery', 'craziness', 'spotted', 'steel', 'pressed', 'puerto', 'rico', 'savvy', 'brentspiner', 'networking', 'aloha', 'jackalltimelow', 'political', 'ashleyemma', 'adellecharles', 'buttercupd', 'gh', 'atcha', 'gamer', 'poetry', 'jim', 'mister', 'gill', 'spelled', 'linux', 'folder', 'allen', 'rapper', 'choke', 'dawson', 'hahahahah', 'therefore', 'majority', 'reco', 'breagrant', 'cathybaron', 'alydenisof', 'brew', 'tagged', 'cezzab', 'legend', 'blowhornoz', 'animated', 'mraz', 'erin', 'kindly', 'witch', 'functional', 'salvation', 'skank', 'frustrating', 'comma', 'appropriate', 'sexual', 'relation', 'kaya', 'di', 'bitchin', 'sesame', 'optimism', 'spear', 'glue', 'loveyou', 'helicopter', 'aar', 'vain', 'tender', 'bark', 'reread', 'charm', 'sword', 'ut', 'colin', 'cinderella', 'submission', 'director', 'dwight', 'montana', 'thou', 'phrase', 'protective', 'giggling', 'jedi', 'underwear', 'hall', 'valley', 'casino', 'uve', 'cookbook', 'brazilian', 'dougie', 'existed', 'frenzy', 'whoever', 'blank', 'returning', 'detective', 'rope', 'discovery', 'meditation', 'pint', 'romantic', 'mandatory', 'cathy', 'goat', 'awesomely', 'potential', 'korea', 'algebra', 'larger', 'flare', 'scotty', 'dunk', 'recording', 'fiddle', 'ralph', 'buzzedition', 'bassyc', 'codyk', 'twitt', 'disco', 'keywords', 'multitasking', 'glasto', 'glee', 'hittin', 'replacing', 'organize', 'submitted', 'synced', 'spoken', 'kite', 'serial', 'manual', 'labor', 'chrome', 'hahahahahaha', 'hitler', 'circle', 'lollll', 'alyssa', 'reaction', 'himym', 'ohoh', 'hook', 'yayyyy', 'landing', 'scone', 'halo', 'sincere', 'contribution', 'deepest', 'naughty', 'eep', 'shuffle', 'pokerface', 'bard', 'bane', 'au', 'bung', 'smash', 'federer', 'saddened', 'bi', 'query', 'includes', 'biting', 'jaja', 'suffering', 'maiden', 'pineapple', 'needing', 'midget', 'nevermind', 'shore', 'permit', 'dre', 'smokin', 'defend', 'sophia', 'soz', 'relevant', 'barney', 'neil', 'harris', 'lambert', 'instance', 'journalism', 'tripped', 'hershey', 'sponsor', 'hiccup', 'yaay', 'nikon', 'pix', 'describe', 'oxford', 'ink', 'translation', 'broadcast', 'ou', 'vanessa', 'selenagomez', 'achieve', 'candid', 'sec', 'finalist', 'rank', 'paranormal', 'username', 'charlene', 'jade', 'bffs', 'insert', 'burden', 'guilt', 'yeahhh', 'hq', 'mastered', 'hump', 'plugged', 'confusion', 'glance', 'changeforiran', 'century', 'us', 'timeline', 'particular', 'twitterville', 'broadway', 'spit', 'simpson', 'prime', 'tp', 'pirate', 'recommended', 'tracker', 'hooo', 'scam', 'mashable', 'timed', 'starring', 'brandi', 'por', 'sprinkle', 'ancient', 'scroll', 'snort', 'refer', 'ci', 'anonymous', 'smooth', 'ä', 'nu', 'melbourne', 'shove', 'vamp', 'mullet', 'nvr', 'brush', 'stunned', 'wld', 'straw', 'oregon', 'charming', 'billy', 'cape', 'dint', 'buried', 'lesser', 'parker', 'awaits', 'bonjour', 'guten', 'morgen', 'hola', 'ciao', 'jbyoutubesuspended', 'rewrite', 'sneezing', 'monk', 'ricky', 'rom', 'maddie', 'maximum', 'regularly', 'lahore', 'lancaster', 'campaign', 'camping', 'yayy', 'buster', 'recovered', 'endless', 'juan', 'bonding', 'hormone', 'tnx', 'fixing', 'yeaaah', 'brenda', 'snowflake', 'frnds', 'awwwwww', 'heyyyyy', 'delivered', 'decline', 'leading', 'growth', 'andre', 'cranky', 'founder', 'navy', 'sample', 'itz', 'clever', 'alltime', 'denver', 'slumber', 'ide', 'fetish', 'capacity', 'und', 'resist', 'mannequin', 'brighter', 'thur', 'paulo', 'understands', 'oohh', 'underneath', 'anberlin', 'catchy', 'castle', 'chess', 'dyed', 'expectation', 'successfully', 'adobe', 'zebra', 'trashy', 'wayne', 'healing', 'hmmmmm', 'priceless', 'bun', 'obsessed', 'coulda', 'lily', 'tuning', 'sacred', 'advertise', 'passionate', 'interface', 'itching', 'zit', 'lang', 'offended', 'pcd', 'moore', 'vanilla', 'purse', 'weed', 'boxer', 'spine', 'chipotle', 'dome', 'geeky', 'sweatpants', 'phils', 'wiped', 'zach', 'coaching', 'rehab', 'overwhelming', 'odds', 'mmmmmm', 'donnie', 'snap', 'whit', 'brandy', 'amylaree', 'amylovesoliver', 'dana', 'lotion', 'wiki', 'spamming', 'combine', 'twirl', 'llama', 'netflix', 'convince', 'ohhushfornewmoon', 'nsw', 'supporter', 'impression', 'buggy', 'tribute', 'ab', 'pacman', 'pb', 'hockey', 'monty', 'ich', 'fi', 'rail', 'cuban', 'hive', 'rpattz', 'nikki', 'baneen', 'shure', 'capture', 'broooooke', 'cupboard', 'fiber', 'fred', 'ì', 'sailor', 'santa', 'directing', 'loaded', 'buffalo', 'coin', 'included', 'morrow', 'rushed', 'consequence', 'pleasee', 'missy', 'reward', 'fifth', 'premier', 'obsessive', 'spur', 'maaan', 'roadtrip', 'lotta', 'lottery', 'letdown', 'phew', 'lotto', 'unreal', 'cart', 'golfing', 'nicola', 'dressing', 'surf', 'sw', 'correctly', 'wi', 'carlos', 'sgp', 'basedmagazine', 'combustiblesong', 'icky', 'tooooo', 'vagina', 'truely', 'tempted', 'redbull', 'yayyy', 'cock', 'yeaaa', 'gina', 'ordinary', 'cliffhanger', 'logic', 'whatta', 'latte', 'detox', 'ngl', 'mid', 'shaving', 'shaved', 'highland', 'calvinharris', 'tivo', 'blazer', 'gucci', 'mucho', 'trainer', 'retweets', 'binkieer', 'searched', 'cube', 'dairy', 'rosa', 'zoom', 'safari', 'sucha', 'yao', 'funky', 'welcomed', 'twhirl', 'lag', 'twitpics', 'mount', 'admin', 'outdoor', 'venezuela', 'nw', 'abba', 'outlet', 'wif', 'deed', 'tickle', 'blake', 'twitterberry', 'asks', 'bashywah', 'amyxx', 'resume', 'carmen', 'boohoo', 'unlike', 'asostamara', 'radar', 'sneeze', 'topping', 'rec', 'president', 'transferred', 'beverly', 'votediversity', 'base', 'summa', 'gardening', 'redirect', 'proof', 'chriscuzzy', 'jizz', 'bfast', 'blade', 'haze', 'liquor', 'peel', 'cunt', 'lousy', 'pressing', 'brit', 'published', 'identity', 'addition', 'audrey', 'leaked', 'bounce', 'kimmel', 'payday', 'belive', 'fabric', 'madness', 'alpha', 'brianmcnugget', 'jeje', 'submit', 'cheerleader', 'mitchell', 'nate', 'sarcasm', 'continued', 'wkend', 'saver', 'pump', 'foil', 'miller', 'lite', 'cheapest', 'setup', 'bond', 'placement', 'soy', 'behave', 'ooc', 'clone', 'weigh', 'ike', 'simpler', 'alam', 'boiling', 'wayyyy', 'deprived', 'depth', 'dilemma', 'tanya', 'morgan', 'bam', 'sr', 'lied', 'fundraiser', 'graham', 'retrorewind', 'blockbuster', 'initial', 'genie', 'arch', 'whatcha', 'betting', 'untill', 'andrea', 'tagging', 'dumber', 'fort', 'rocking', 'coughing', 'container', 'stove', 'sipping', 'pleeeease', 'gasp', 'agreed', 'puppet', 'nomore', 'yucky', 'gulp', 'applied', 'dada', 'gak', 'stored', 'hammer', 'groan', 'irl', 'backpack', 'huff', 'giddy', 'poppy', 'seed', 'bt', 'aloe', 'om', 'tweople', 'mwah', 'classical', 'mba', 'adoption', 'digging', 'necessary', 'bellelulu', 'blockhead', 'malaysia', 'dane', 'knife', 'frost', 'sweeter', 'pero', 'casa', 'graduating', 'didi', 'saddens', 'bulb', 'brody', 'anoopdoggdesai', 'nod', 'shorty', 'sits', 'diploma', 'myy', 'israel', 'vegetable', 'ahaa', 'margarita', 'splendid', 'flew', 'shudder', 'touching', 'delight', 'cuzz', 'grandparent', 'mcdonald', 'goofy', 'aisle', 'legendary', 'amber', 'twisted', 'ge', 'collaboration', 'vulcan', 'summit', 'recharge', 'cooling', 'blueberry', 'iwade', 'hhrs', 'poured', 'sumthin', 'spite', 'ashleytisdale', 'slight', 'underground', 'tru', 'stormy', 'header', 'somethings', 'greek', 'kimi', 'biology', 'logo', 'appeared', 'angus', 'thong', 'jaw', 'approve', 'ouchie', 'bugger', 'perverted', 'reminiscing', 'boomstone', 'permanent', 'gta', 'brutal', 'viel', 'alexis', 'awwww', 'der', 'nevertheless', 'blushing', 'extent', 'fucken', 'searching', 'built', 'duet', 'von', 'accepted', 'amateur', 'ewww', 'sen', 'replying', 'crummy', 'terminal', 'punched', 'jc', 'kc', 'government', 'azaxacavabanama', 'colleague', 'glowing', 'bamboozle', 'yell', 'ooohhh', 'humid', 'overcome', 'surrounded', 'hippy', 'hehehehe', 'eager', 'gahh', 'pouting', 'sleepover', 'friendfeed', 'bathtub', 'throughout', 'rach', 'hh', 'yupp', 'premium', 'essential', 'tap', 'rebuild', 'toni', 'beautifully', 'bumper', 'annoys', 'clay', 'gag', 'academy', 'echelon', 'babyyy', 'cheerio', 'caramel', 'automatic', 'economy', 'hid', 'slave', 'linkedin', 'ugg', 'bookshelf', 'emma', 'np', 'renting', 'deleting', 'del', 'midday', 'serving', 'tm', 'hoop', 'goo', 'forcing', 'cardboard', 'chalk', 'assumption', 'ankitagaba', 'financial', 'remake', 'explanation', 'craft', 'spike', 'feast', 'carmel', 'publicity', 'youll', 'aaa', 'interrupted', 'aja', 'guarantee', 'hunger', 'cya', 'meltdown', 'binge', 'comparison', 'squee', 'foster', 'electronic', 'crisis', 'celebrated', 'rooting', 'mayor', 'nk', 'fatty', 'jakarta', 'membership', 'permission', 'gang', 'phase', 'commitment', 'voodoo', 'valid', 'meg', 'greater', 'mb', 'philosophy', 'nosy', 'wil', 'auch', 'pleaseee', 'db', 'worthless', 'martini', 'gilmore', 'counted', 'blurry', 'blob', 'procrastinating', 'glimpse', 'classmate', 'chased', 'knocking', 'lala', 'argue', 'compassion', 'luxury', 'humanity', 'lama', 'dar', 'att', 'uu', 'sue', 'fraud', 'scheme', 'cld', 'perm', 'switched', 'centre', 'tc', 'naming', 'alternate', 'arriving', 'phoned', 'offense', 'insult', 'homo', 'embarrassing', 'pimp', 'introduced', 'mor', 'chose', 'whatevs', 'travelling', 'noble', 'raleigh', 'arg', 'tile', 'sealed', 'baha', 'judging', 'underage', 'lifestyle', 'favor', 'oatmeal', 'rubber', 'oooo', 'pointed', 'tylenol', 'ahah', 'forreal', 'fudge', 'normally', 'hairdresser', 'swoon', 'netherlands', 'muchly', 'midwest', 'oww', 'shouldve', 'gloss', 'effective', 'factor', 'matrix', 'sem', 'meditate', 'partay', 'beirut', 'opener', 'jealousy', 'maui', 'honest', 'thesis', 'spiderman', 'sticking', 'vazut', 'livin', 'ce', 'yang', 'determine', 'requirement', 'alto', 'relaxin', 'drinkin', 'mortgage', 'gahhh', 'nites', 'chunky', 'literature', 'separate', 'principle', 'runner', 'sonny', 'fulltime', 'returned', 'cherish', 'wthe', 'inning', 'shark', 'erase', 'layer', 'copyright', 'restriction', 'bom', 'psychological', 'preference', 'underdog', 'psycho', 'frankly', 'appealing', 'dive', 'victory', 'volleyball', 'speeding', 'catchup', 'natalie', 'smelly', 'lolll', 'aj', 'chemical', 'festivity', 'cr', 'easiest', 'nan', 'km', 'brandyinboise', 'maintain', 'typed', 'organizing', 'staff', 'pine', 'indiana', 'hamburg', 'counter', 'howdy', 'wp', 'crazier', 'feck', 'soooooooooo', 'singalong', 'annie', 'biotch', 'cone', 'frosting', 'scoop', 'blogtv', 'jamming', 'preparing', 'dancefloor', 'yepp', 'nathan', 'involve', 'alley', 'ga', 'succeed', 'lucy', 'acceptance', 'thas', 'kiddo', 'awaiting', 'killin', 'bruised', 'rescued', 'dash', 'onion', 'supported', 'samantha', 'whn', 'hulu', 'muppet', 'applies', 'tasted', 'phd', 'nursing', 'clown', 'ann', 'cabinet', 'flooded', 'td', 'policy', 'tut', 'serf', 'humble', 'brightside', 'oooh', 'sorting', 'bumping', 'inspire', 'neon', 'lime', 'performer', 'watering', 'amissle', 'unlikely', 'meatball', 'rep', 'mcr', 'dodgy', 'harmless', 'coworkers', 'sho', 'confirmation', 'gained', 'vice', 'versa', 'clicked', 'ocd', 'hike', 'accomplished', 'newsletter', 'perspective', 'hafta', 'unfortunatly', 'likin', 'nuthin', 'rarely', 'randy', 'chromasia', 'hu', 'lingo', 'yummmy', 'balmeras', 'providing', 'tay', 'snapped', 'wot', 'mature', 'northeast', 'raincheck', 'fucker', 'bethany', 'oth', 'distraction', 'atheist', 'sour', 'grip', 'rumor', 'verizon', 'thang', 'corbin', 'blu', 'ne', 'ahahah', 'buffet', 'ashsoprecious', 'filming', 'hawaiian', 'logged', 'glove', 'cj', 'cottage', 'tomm', 'bonkers', 'boiled', 'atwossybookclub', 'bhaddad', 'sed', 'poolside', 'yg', 'udah', 'noundiessunday', 'boddingtons', 'reckon', 'bj', 'courageousone', 'assumed', 'generally', 'missxmarisa', 'chatty', 'honored', 'goodluck', 'gov', 'tub', 'gday', 'flock', 'bristol', 'checker', 'angelajames', 'splash', 'improved', 'wrestler', 'lownleeeynjul', 'haw', 'reasonable', 'district', 'slut', 'naa', 'cory', 'fran', 'rant', 'caitlin', 'collinwolfboy', 'blipfish', 'mod', 'planner', 'germ', 'shhhh', 'activity', 'jammin', 'adamlambert', 'phenomenal', 'lobster', 'sorryyy', 'babeee', 'nazi', 'inlaws', 'fro', 'lotsa', 'suicide', 'fakerparis', 'occasionally', 'hail', 'reporting', 'locally', 'piercing', 'purdy', 'arrives', 'caroline', 'fare', 'democracy', 'settled', 'ketchup', 'leaning', 'ava', 'geoff', 'acmephoto', 'akelaa', 'applecored', 'aussiecynic', 'bobbyllew', 'regarding', 'ru', 'boykillboy', 'bg', 'hon', 'worship', 'investigate', 'religious', 'ditto', 'lone', 'innit', 'grabe', 'ni', 'arthur', 'include', 'skiing', 'gmornin', 'chai', 'collection', 'welp', 'dedication', 'encourage', 'genre', 'belated', 'yday', 'tweep', 'cheeky', 'cept', 's', 'amelie', 'kl', 'ly', 'documentary', 'haz', 'croconaw', 'aside', 'serve', 'bakery', 'eclipse', 'pimpin', 'icarly', 'glitter', 'dedicate', 'scrap', 'wei', 'realistic', 'decadent', 'funnier', 'blocking', 'plurk', 'aree', 'diggin', 'alitherunner', 'cara', 'uncomfortable', 'lipstick', 'launching', 'touring', 'protection', 'wack', 'millionaire', 'ummm', 'wage', 'squad', 'pastor', 'thinner', 'okayy', 'omj', 'xdd', 'responsible', 'feeel', 'secondary', 'gabriel', 'patio', 'pumped', 'pup', 'tr', 'ph', 'administration', 'bonus', 'errr', 'nausea', 'innout', 'apercheddove', 'wig', 'kewl', 'comet', 'atebits', 'bev', 'xtra', 'chore', 'fx', 'relaxed', 'lovey', 'biz', 'sooon', 'zip', 'pierced', 'oakland', 'sidenote', 'outdoors', 'fangirl', 'moral', 'chic', 'damit', 'anotherjulia', 'climbing', 'partial', 'retail', 'badminton', 'prior', 'tomoz', 'heyy', 'slacker', 'planted', 'pala', 'yikes', 'flame', 'sakit', 'compared', 'perez', 'hilton', 'aaronrenfree', 'blahh', 'outlook', 'whitney', 'resto', 'amirk', 'aku', 'pake', 'midway', 'summary', 'rapping', 'jg', 'harm', 'nando', 'hihi', 'alissa', 'ke', 'helloooo', 'beverage', 'cheryl', 'fm', 'stalked', 'bri', 'moar', 'fond', 'cest', 'nova', 'sung', 'rot', 'tehe', 'minnesota', 'mole', 'maxwell', 'hows', 'creek', 'juicy', 'certainly', 'lotus', 'dmv', 'omgg', 'elderly', 'bourbon', 'char', 'plaza', 'antonio', 'kool', 'mein', 'trace', 'achievement', 'unpacking', 'aspect', 'pigeon', 'pear', 'din', 'thankfully', 'drawer', 'struck', 'emmy', 'crystal', 'sistah', 'ahhhhhhh', 'keen', 'allisonnazarian', 'blore', 'jasmine', 'ahhaha', 'peer', 'caved', 'disgusting', 'carla', 'dani', 'whipped', 'radioactivex', 'yor', 'tito', 'debating', 'dearangelx', 'manicure', 'eng', 'deb', 'yarn', 'greer', 'caro', 'kizzle', 'thrill', 'missb', 'mash', 'parasite', 'knowwww', 'sasha', 'liberty', 'duvet', 'shattered', 'coolest', 'norwegian', 'nudge', 'acey', 'adri', 'aislinntighee', 'cooool', 'alectrona', 'alii', 'nahhh', 'amberlovely', 'whistle', 'barbara', 'billie', 'uda', 'resting', 'bz', 'cebu', 'ana', 'ritual', 'sept', 'tues', 'hopeful', 'tedious', 'flyer', 'mowing', 'andrewg', 'anea', 'angeline', 'anh', 'annee', 'qld', 'annella', 'tote', 'anshul', 'embrace', 'thrilling', 'coool', 'apricottea', 'arf', 'stylist', 'watermelon', 'buttercup', 'motto', 'beck', 'widget', 'naw', 'thanking', 'washer', 'dryer', 'bryony', 'callmecourt', 'chelseamarie', 'tomorro', 'chickie', 'chloe', 'roomie', 'spank', 'wired', 'regard', 'treating', 'yaya', 'colorado', 'cici', 'corruptedangel', 'sweety', 'cv', 'booted', 'crc', 'dvr', 'hooked', 'panama', 'het', 'deffo', 'greet', 'hurtful', 'chorale', 'atmosphere', 'brisbane', 'commentary', 'registered', 'bouncing', 'grill', 'becabear', 'login', 'canageek', 'rus', 'ceruleanbreeze', 'agreement', 'provide', 'memphis', 'camden', 'pittsburgh', 'messenger', 'yummm', 'danielle', 'greece', 'dappy', 'upto', 'designprincess', 'diana', 'avail', 'pond', 'wouldve', 'gospel', 'dznr', 'elizaclaire', 'elj', 'elliee', 'angelashushan', 'elphaba', 'emmajane', 'preferably', 'enigma', 'dodging', 'bandit', 'cambridge', 'intimidating', 'tiff', 'esmecullen', 'ccullenmd', 'esquiva', 'everaldo', 'egypt', 'promo', 'fatdad', 'protein', 'ding', 'proved', 'tricked', 'element', 'freya', 'glenn', 'unfollowing', 'gore', 'gregatron', 'po', 'harrykim', 'hbu', 'hayles', 'girlie', 'arse', 'heya', 'keynote', 'psst', 'perth', 'reinstalled', 'swan', 'bush', 'unlocked', 'doomed', 'fierce', 'shud', 'youl', 'huny', 'ianne', 'ireneadler', 'slightest', 'jane', 'dx', 'rotate', 'pdf', 'enthusiasm', 'method', 'haiku', 'vent', 'quoting', 'agh', 'rode', 'zurich', 'stamp', 'passport', 'tradition', 'sesh', 'ikr', 'alexx', 'sticky', 'wala', 'becky', 'classy', 'sooooooo', 'wayyy', 'supporting', 'suggests', 'laters', 'kk', 'circus', 'weekday', 'attacking', 'nostalgic', 'earned', 'jadelakeasha', 'uhmm', 'jamieleecurtis', 'coolio', 'jayytee', 'surprising', 'torrent', 'yeaah', 'jupiter', 'justmitch', 'tink', 'ting', 'abb', 'wonderfully', 'alp', 'googling', 'brainstuck', 'defeat', 'looool', 'lv', 'animation', 'hut', 'ari', 'hiiii', 'kathi', 'economics', 'western', 'ure', 'loool', 'ahahha', 'wwwtweeteraddercom', 'arnt', 'flooding', 'dakota', 'ashlee', 'imax', 'thankyouu', 'jobros', 'recommending', 'bali', 'viking', 'listener', 'cuddly', 'coollike', 'thanku', 'ashthebeliever', 'mandarin', 'kya', 'wwwtweeterfollowcom', 'laertesgirl', 'laurenmallory', 'mikenewton', 'lenchen', 'connie', 'sowwie', 'irvine', 'drummer', 'bytera', 'alancarr', 'alyssamilano', 'anna', 'maisy', 'mattie', 'specific', 'kristin', 'barb', 'couture', 'indeedy', 'hospitality', 'bec', 'waved', 'baylee', 'yan', 'melb', 'micster', 'mikal', 'ooooo', 'zillion', 'misshannah', 'celebrating', 'ach', 'crunchy', 'moisesarias', 'mojo', 'previously', 'nanu', 'natearchibald', 'romania', 'assistance', 'nicolereyes', 'aaw', 'banksyart', 'bulk', 'promotionitaggcom', 'ophelia', 'engaged', 'youuuu', 'quilateara', 'rachaelll', 'rachelx', 'meeeee', 'carol', 'acc', 'okey', 'ahahaha', 'robinsharma', 'robpattinson', 'donno', 'jonathanrknight', 'technically', 'nahh', 'jelous', 'aug', 'hideous', 'imho', 'saffron', 'santi', 'socal', 'scenequeen', 'sdo', 'secretgarden', 'shakehands', 'commenting', 'gee', 'backyard', 'slamma', 'smay', 'brandystrippers', 'loyal', 'defo', 'kasi', 'sophielouise', 'leftover', 'xcited', 'polo', 'clarify', 'looooove', 'huni', 'ud', 'heatherbailey', 'champagne', 'patient', 'gotcha', 'squeekss', 'trim', 'stephhh', 'shown', 'smut', 'kayla', 'kev', 'hobby', 'tranquilize', 'twee', 'veritas', 'welll', 'wendyr', 'eli', 'heyyyyyy', 'murray', 'carter', 'naman', 'wren', 'writersblock', 'luckyy', 'xbianca', 'xotashhh', 'noted', 'fashioned', 'assume', 'zafrina', 'rl', 'ia', 'african', 'flood', 'footy', 'ashliewins', 'hiii', 'luvin', 'yessir', 'addy', 'dong', 'haunted', 'roy', 'subscribed', 'fur', 'indoors', 'actualy', 'highway', 'yeap', 'heey', 'disturbing', 'omgosh', 'percent', 'perv', 'hawt', 'madison', 'mat', 'adrian', 'offend', 'knooow', 'chum', 'unusual', 'swore', 'unite', 'yaar', 'relieved', 'av', 'syndrome', 'li', 'wooow', 'naah', 'omggg', 'whiskey', 'nathy', 'orgy', 'hisher', 'dexter', 'snake', 'angela', 'tak', 'discussed', 'secure', 'hellooo', 'lill', 'kansa', 'nuff', 'wbu', 'yknow', 'utterly', 'refund', 'retired', 'gorge', 'captured', 'dearest', 'kyte', 'persuade', 'cooperating', 'parmesan', 'cancellation', 'craziest', 'terrifying', 'twitterland', 'mar', 'strict', 'quantity', 'sandbox', 'lastnight', 'pounce', 'twitterbones', 'azeleen', 'agentbooth', 'addicting', 'lolly', 'ra', 'aleenia', 'seee', 'rewatch', 'asylum', 'mailbox', 'stat', 'redesign', 'browsing', 'entirely', 'overcast', 'promising', 'colorblindfish', 'yehh', 'stirling', 'affected', 'ooops', 'traded', 'jj', 'it', 'sorrry', 'oooooh', 'zealand', 'refrain', 'partake', 'creep', 'cindy', 'tyvm', 'silk', 'overload', 'aaww', 'aight', 'linking', 'ic', 'stupidity', 'rascal', 'mask', 'kiddos', 'lawl', 'nbc', 'twitterholic', 'celebs', 'unit', 'schneider', 'pp', 'laughhave', 'timefollow', 'meits', 'lc', 'moscow', 'timezones', 'bran', 'christine', 'craigslist', 'twinkle', 'ahold', 'az', 'lend', 'knowi', 'bem', 'commnsensemoney', 'spoilt', 'okayyy', 'upp', 'installment', 'closely', 'bully', 'howz', 'meter', 'footage', 'immortal', 'abused', 'inspires', 'overnight', 'copied', 'veg', 'whip', 'console', 'wreck', 'ruining', 'tester', 'creme', 'wwwyoutubecomchineselearn', 'keepin', 'paso', 'quid', 'aguy', 'yt', 'thnks', 'ms', 'spoil', 'asimplegirl', 'ewwwww', 'aspastictiger', 'tsk', 'awebdesigner', 'awillow', 'iim', 'mailing', 'aaaamerah', 'sooooooooo', 'aafreen', 'condolence', 'niiice', 'pipe', 'br', 'mysterious', 'aalaap', 'twitterbongs', 'aaliyon', 'aalmiray', 'sammy', 'xxxxx', 'declaring', 'awwh', 'agooaustralia', 'darlin', 'aamelia', 'aamwilliams', 'aamyfish', 'aamyhaanson', 'alllllll', 'lamenting', 'omgggg', 'wks', 'collectible', 'mofo', 'yeees', 'huggles', 'aaronaiken', 'aaroncorby', 'cadbury', 'tym', 'trap', 'pier', 'soooooon', 'hatin', 'carpool', 'retire', 'stinkin', 'gloom', 'muggy', 'aaronfuller', 'aaronob', 'isp', 'rum', 'aaronrgillespie', 'aaronrothe', 'caleb', 'chico', 'allowing', 'recognize', 'occasion', 'abbaks', 'printed', 'abbiefletcher', 'abbsound', 'ðµñ', 'glitch', 'abbybradz', 'parang', 'abbyharenberg', 'heheh', 'ktbspa', 'oliver', 'abbyyyy', 'abcdefglynis', 'abcdude', 'abcmsaj', 'ù', 'abeeliever', 'adese', 'danke', 'abiban', 'abideedles', 'abiface', 'abigaelettuce', 'understandable', 'musta', 'messin', 'hometown', 'abigaill', 'automatically', 'abirtmo', 'abisignorelli', 'abiteofsanity', 'bmore', 'ableandgame', 'sci', 'hallo', 'aboveallfabric', 'gl', 'lantern', 'abramsandbettes', 'cuter', 'marketplace', 'prog', 'dawg', 'mcd', 'warmer', 'cleaninggirl', 'crepe', 'marina', 'abrowngirl', 'hiatus', 'outage', 'absolutelytrue', 'absolution', 'wording', 'assuming', 'clapping', 'absolutraia', 'absolutspacegrl', 'abstractg', 'absturbation', 'abtony', 'int', 'aboard', 'woof', 'youve', 'kiddin', 'fanclub', 'bonnie', 'heyyyy', 'acatinatree', 'accessoriesuk', 'directed', 'toward', 'aceblack', 'kan', 'aceconcierge', 'wuv', 'lor', 'acepower', 'aceybongos', 'ee', 'yesh', 'binding', 'taurus', 'agenda', 'toledo', 'banter', 'nga', 'achillesmama', 'breed', 'achitnis', 'qualify', 'infact', 'achtungmusic', 'acidicice', 'ata', 'siya', 'hahha', 'aclockworktoad', 'acmhatre', 'cloth', 'acowboyswife', 'britt', 'lls', 'ak', 'orig', 'define', 'anxious', 'hum', 'grats', 'purely', 'vocab', 'tmw', 'attempted', 'hha', 'compete', 'samee', 'combined', 'acread', 'acryfromthesoul', 'filthy', 'acrylicana', 'sd', 'acummings', 'beforehand', 'lain', 'pumpkin', 'sittin', 'tourist', 'ada', 'adamd', 'planting', 'brenden', 'multiply', 'aiming', 'unemployment', 'adambusch', 'adamcoomes', 'adamcurry', 'adamfyre', 'ratio', 'beg', 'adamgoldston', 'adamhoban', 'definitly', 'adamjackson', 'adamlambertnews', 'cameron', 'echelonday', 'danish', 'adammshankman', 'freudian', 'betcha', 'choreography', 'adamparnell', 'polaroid', 'adamrphoto', 'adamschwabe', 'adamsconsulting', 'adamsevani', 'pg', 'adamtherealidol', 'adamtylerx', 'adamwc', 'nott', 'qualifying', 'kuya', 'mga', 'andywatt', 'iloveyou', 'adarlingxo', 'babyjew', 'taiwan', 'adccfighter', 'adcharlie', 'addamh', 'haah', 'justify', 'greatly', 'addiec', 'addieking', 'addiiee', 'aa', 'addoralive', 'sounding', 'manually', 'adeshayne', 'adelate', 'rhythm', 'adelgabot', 'ademwithane', 'ze', 'alrighty', 'supermarket', 'lefty', 'adesto', 'chickfila', 'adiejonas', 'affiliate', 'adiktusnine', 'exercising', 'verb', 'tina', 'aditya', 'adityab', 'abandoned', 'wb', 'portfolio', 'poser', 'adlyman', 'adnamay', 'hugz', 'grownup', 'analogy', 'plea', 'instruction', 'specifically', 'wooooo', 'flown', 'yahhh', 'adorkablemellie', 'swap', 'methinks', 'adrenalynntoao', 'adrence', 'owh', 'adriana', 'hardy', 'plot', 'wkd', 'sideways', 'adrimane', 'adrianhiggs', 'adrianlynch', 'adrianna', 'pricey', 'bitlyvotetom', 'munich', 'adriannecurry', 'adrianpesebre', 'threaded', 'adrianspencer', 'adriarichards', 'adrielhampton', 'adriennebailon', 'sporting', 'applying', 'wuz', 'ryt', 'berlyanne', 'awwwwwww', 'wellll', 'military', 'adriennevh', 'adrigonzo', 'lei', 'skull', 'adriolivera', 'thatt', 'unwell', 'appreciates', 'adriwadri', 'okie', 'kylie', 'abis', 'cincy', 'fountain', 'dyou', 'wt', 'retweeting', 'roasted', 'referral', 'adychou', 'ady', 'adzada', 'aefpix', 'icy', 'bitching', 'rented', 'ignorance', 'ethic', 'fewer', 'aeoth', 'aeriagames', 'aerocles', 'cassie', 'aerynblack', 'likewise', 'mansion', 'honeymoon', 'thankies', 'hahhaa', 'afficionadoshh', 'affirmationspot', 'authenticstyle', 'affirmingspirit', 'afinefrenzy', 'probly', 'aflow', 'afranks', 'afreshmusic', 'africanabc', 'africanewtonxx', 'waaaay', 'africanoboi', 'yeaa', 'afrobella', 'afsoon', 'knowww', 'aftashok', 'aftershock', 'alrite', 'agstout', 'anti', 'lah', 'detailed', 'agentx', 'ribbon', 'agentnoir', 'remedy', 'agentsullivan', 'agesthegreat', 'agingbackwards', 'flake', 'agnesnutter', 'shouldnt', 'agthekid', 'groupie', 'pale', 'agustinap', 'envious', 'ahacom', 'tot', 'messaged', 'ahcomeonnowted', 'aheartofstars', 'aheram', 'ahhphotography', 'ahisme', 'ahj', 'ahmaeya', 'loooool', 'ahmednaguib', 'itttt', 'wwwiamsoannoyedcom', 'relieve', 'sympathy', 'coincidence', 'ahmedzainal', 'ahockley', 'ahoova', 'matching', 'cuppa', 'manly', 'noah', 'ahsan', 'ahsatanseesmcr', 'ahseyam', 'armando', 'aidaa', 'aidadoll', 'lmaooo', 'oprah', 'ewwww', 'caldjr', 'startup', 'meaningful', 'nonetheless', 'aidalusion', 'aidandisney', 'horn', 'aiiisoniraheta', 'waaay', 'crystalchappell', 'dq', 'whatsup', 'visible', 'aikku', 'era', 'aimecain', 'aimeelady', 'amused', 'jasper', 'gooey', 'sidekick', 'uuu', 'flashback', 'bleach', 'celtic', 'fasho', 'aimizubouken', 'aimyleigh', 'aini', 'ainojonas', 'ainow', 'chrissie', 'cheerful', 'pointing', 'aionayase', 'aipchristina', 'airbase', 'cam', 'capability', 'avid', 'airlanggatwerp', 'airrun', 'napa', 'aishstar', 'thenewbnb', 'rubbing', 'lookout', 'jan', 'recommends', 'buat', 'apa', 'substance', 'aiyerchitra', 'aiysha', 'ajaedandridge', 'abstheoreo', 'aravindkumar', 'cornwall', 'abzquine', 'ajaymohanreddy', 'ajibahajibah', 'slash', 'welsh', 'ajmcleanteam', 'occupied', 'ajrafael', 'andiraa', 'asher', 'devo', 'drunken', 'comical', 'herb', 'kanina', 'restricted', 'hhaha', 'freezer', 'accordingtonina', 'slang', 'inc', 'acedtect', 'lobby', 'deh', 'chucknerd', 'processing', 'julia', 'ajsouthern', 'ajuonline', 'hammock', 'contacting', 'yeay', 'iya', 'saya', 'fios', 'acornslamppost', 'down', 'proposal', 'akarra', 'akashathekitty', 'akavirtualpa', 'convert', 'sarcastic', 'akgovsarahpalin', 'resemble', 'akianastasiou', 'akiralove', 'thoughtful', 'akirarhymes', 'corrected', 'relive', 'shareholder', 'dividend', 'carly', 'sentiment', 'ir', 'adamwr', 'marrying', 'akojen', 'akomuzikera', 'kathy', 'griffin', 'ahha', 'helluva', 'satisfaction', 'segment', 'significant', 'alabamawhirly', 'alaero', 'alaerys', 'alaina', 'alainafrederick', 'alaksir', 'inactive', 'distinct', 'chord', 'alanajoy', 'alanbleiweiss', 'alancfrancis', 'alancostello', 'granola', 'alandistro', 'cashier', 'alanjlee', 'separated', 'adapaavi', 'alannaaaa', 'alannahjc', 'ave', 'alanrenouf', 'alansheppard', 'alanstevens', 'adamleber', 'shocking', 'alauderdale', 'ceiling', 'initiative', 'clare', 'claude', 'hectic', 'ape', 'thr', 'juga', 'environment', 'gitu', 'admance', 'context', 'sailing', 'btwi', 'albeitludicrous', 'albynomonk', 'alcarlton', 'alchemission', 'daw', 'alcoholharmony', 'bmw', 'aldenpolicar', 'sakin', 'alderina', 'aldorisolvo', 'alegrillita', 'xoxoxo', 'ref', 'alecialouise', 'alecmonty', 'expressing', 'alegrya', 'cgft', 'jobless', 'edible', 'presenting', 'awhh', 'aleshabell', 'aleskywalker', 'gmorning', 'attic', 'alethe', 'alexmauricio', 'knoow', 'adrunkreaper', 'alexachung', 'remeber', 'usd', 'alexalbrecht', 'alexalltimelow', 'eats', 'arabic', 'parliament', 'candidate', 'riandawson', 'zackalltimelow', 'gk', 'gue', 'naww', 'alexanderrybak', 'pardon', 'alexandrakor', 'alexandramusic', 'alexandrastack', 'avoided', 'alexarpd', 'od', 'afrikanboy', 'custard', 'vaguely', 'alexcashcash', 'alexdxo', 'alexderossi', 'alexdscott', 'alexiaaa', 'russell', 'airing', 'alexisamore', 'liek', 'alexiskn', 'corporate', 'alexislovesjb', 'wrapper', 'poodle', 'alexistai', 'alexjmackey', 'alexkillby', 'showin', 'alexlj', 'alexmcelroy', 'alexrk', 'mrscjbaran', 'alexroots', 'alexsheppard', 'nottingham', 'tranny', 'advanced', 'jacked', 'alextrafford', 'alextrup', 'yip', 'alexwtrugs', 'glastonbury', 'yaaa', 'wich', 'aleyrose', 'alfinahawaii', 'nawww', 'algore', 'alisweeney', 'watcher', 'alixxxxxx', 'zack', 'aliadler', 'continent', 'aliasgrace', 'alibalijeweller', 'supply', 'ami', 'theree', 'spammed', 'alicam', 'aliceinnyc', 'alicephilippa', 'amberbenson', 'dom', 'professor', 'boooooo', 'tabby', 'ini', 'dollface', 'slam', 'aliciavintage', 'aliciabellelite', 'aliciadunaway', 'aliciamalone', 'aliciawag', 'nevr', 'fret', 'nearer', 'aliciiajonesjk', 'aligraysanatomy', 'karaoke', 'suggesting', 'awwwwwwwww', 'woops', 'alipaly', 'blooper', 'shet', 'hotmailcom', 'ahw', 'ainante', 'aristeia', 'alisonhaislip', 'aots', 'aileenburns', 'bethanpie', 'whaaaat', 'yun', 'gangster', 'itu', 'sih', 'alithealien', 'hollie', 'alpew', 'tasting', 'alittletrendy', 'alivicwil', 'alixsays', 'aliyoopah', 'aimellow', 'cache', 'efficient', 'hahahha', 'aintnuthinneo', 'ment', 'established', 'cianmm', 'distract', 'youuuuu', 'asfaq', 'writting', 'allaboutenergy', 'crackin', 'brittanybosco', 'eagerly', 'arrival', 'allahpundit', 'allanasaur', 'allangoesdmb', 'blindcripple', 'bluenscottish', 'allconsoffun', 'allergist', 'i', 'watcha', 'ohio', 'jd', 'heeeey', 'creativewolf', 'alliflowers', 'knoooow', 'allieandra', 'photobucket', 'alliecine', 'alliecobra', 'allie', 'allieloves', 'paw', 'alliewayfilms', 'dah', 'slack', 'colocelt', 'allikatetor', 'allisoncds', 'allisonmack', 'billt', 'bloom', 'disappearing', 'alllacqueredup', 'dim', 'allmywonders', 'ajvampie', 'helloo', 'irc', 'allstaralice', 'allstarninja', 'basherlock', 'allstationsdown', 'allthesausages', 'disabled', 'alltimelove', 'alltimeasian', 'alltimecassie', 'encouragement', 'allyayr', 'allybingham', 'allycupcake', 'allyeatscat', 'allyeezy', 'allyeska', 'allyheartsbb', 'allyheman', 'chicbuds', 'allymcfly', 'rin', 'nia', 'unnecessary', 'allyrockstar', 'allysheehan', 'allysonalfonso', 'allyxwebb', 'almalacubana', 'waiter', 'chibialfa', 'almienova', 'almightykey', 'almostlikesushi', 'aloemilk', 'alohaarleen', 'mild', 'misunderstanding', 'arleen', 'alohabruce', 'aloliver', 'profit', 'alonis', 'alpacafarmgirl', 'alpcoterie', 'alphamares', 'alphaproofing', 'alreadyused', 'alrighttit', 'alroker', 'annoy', 'chattyman', 'foo', 'priest', 'altimet', 'basketkace', 'alwaysloveuci', 'alwaysmiley', 'chap', 'alyandaj', 'alyankovic', 'alyb', 'alyciaaa', 'phx', 'alyscharles', 'nih', 'alysheeapm', 'wishful', 'aaaah', 'biking', 'analysis', 'swimmer', 'novice', 'spontaneous', 'handful', 'mau', 'rack', 'cst', 'alyssaavant', 'alyssalovesm', 'alyssanoelled', 'dokie', 'antsmoove', 'chuffed', 'diy', 'clap', 'located', 'mn', 'goof', 'reserve', 'bu', 'hindi', 'ver', 'hopin', 'loli', 'reid', 'gladly', 'milwaukee', 'hahahaa', 'podcasts', 'toll', 'incase', 'quitting', 'retreat', 'antique', 'yew', 'alyxxdione', 'amabaie', 'donald', 'cdig', 'amalari', 'hk', 'amalinaaa', 'sermon', 'amandafd', 'amandanan', 'parrot', 'yh', 'alissadoan', 'amandabynes', 'amandacolbert', 'amandadiva', 'amandafclark', 'amandafortier', 'palette', 'amandahqtpie', 'amandalaur', 'campbell', 'amandanoyes', 'amandaodt', 'calgary', 'consolation', 'salmon', 'amandasena', 'amandaseyfried', 'noticing', 'sweetness', 'wme', 'amaram', 'amazingcircus', 'amazingphil', 'amazingphoebe', 'amazondotjon', 'ambduckett', 'omd', 'amberausten', 'amberback', 'memo', 'ambercadabra', 'alliworthington', 'richmond', 'amberlily', 'amberlinam', 'ambermatson', 'amberwhiting', 'ambienteer', 'ambitiousenergy', 'amblass', 'ambrosechong', 'talaga', 'amcunningham', 'ameeface', 'ameerabh', 'ameliagrace', 'ameliacaye', 'amelia', 'allybitches', 'ideal', 'tara', 'suga', 'amieewhitney', 'amiemccarron', 'muy', 'amiesc', 'amiestuart', 'amigastu', 'amileegrant', 'amilya', 'amineb', 'aminorjourney', 'aneezd', 'ammarvellous', 'ammaryasir', 'ammiisaurusrexx', 'explicit', 'alojane', 'amoir', 'rockstar', 'amomtwoboys', 'amongststars', 'comforting', 'amoyal', 'amprgroup', 'amrosario', 'amymayna', 'amywright', 'hii', 'altepper', 'amyalltimelow', 'amydouk', 'amyelectro', 'amygrant', 'amygumenick', 'amyjade', 'amykachurak', 'amykant', 'bailed', 'amykate', 'seesmic', 'amykayodt', 'amyknapp', 'amylovegrove', 'amyob', 'amypaffrath', 'amypalko', 'amypredsfan', 'amyriadfthings', 'alwaysrecycle', 'alwaysshoutalex', 'udh', 'amysbusticket', 'amysfinerthings', 'amyshell', 'ustream', 'ooooooh', 'joomla', 'amyypee', 'alysiabeard', 'amyyvee', 'dno', 'teasing', 'anaxo', 'anaalove', 'entitled', 'sweeet', 'anaggh', 'sig', 'advise', 'dense', 'anaizz', 'temptation', 'analystalterego', 'anamariecox', 'anambanana', 'anamolly', 'ananyah', 'anastaciakayray', 'alyssabarlow', 'anastasialoxley', 'anbudanbala', 'ancafoster', 'ancillatilia', 'ancmowat', 'anddh', 'andersoncooper', 'pita', 'anditisliz', 'bittersweet', 'heavenly', 'andrear', 'bel', 'andreakoeln', 'andreaonfod', 'andreaschoice', 'bethofalltrades', 'anuheajams', 'andreatunes', 'andreaurbanfox', 'andreawongnz', 'andreayager', 'andreeaberghea', 'spying', 'nuttin', 'donation', 'arikhanson', 'deets', 'ambermaishment', 'ameliebc', 'showcase', 'ammadz', 'andrevr', 'andrewhogsten', 'andrewjohnson', 'andrewaesthetic', 'awee', 'ampersandrea', 'resolved', 'dood', 'spa', 'await', 'andrewbadera', 'andrewbarnett', 'andrewbravener', 'andrewdearling', 'amylong', 'andrewghayes', 'andrewgoldstein', 'omaha', 'investigating', 'andrewhuntre', 'andrewhyde', 'dreadful', 'adelaide', 'andrewpycroft', 'andrewratcliffe', 'andrewsayer', 'andrewschof', 'androidtomato', 'andybloch', 'andylamb', 'andymurray', 'facial', 'storyline', 'ox', 'association', 'croissant', 'excluded', 'andrewdisley', 'gravel', 'andygoulding', 'andygriffwozere', 'andykemp', 'charltonbrooker', 'andypiper', 'andyprovidence', 'andyqsmith', 'andyroddick', 'whens', 'canberra', 'andysandimas', 'andysc', 'andysowards', 'bead', 'andytaylorsonic', 'awesomee', 'interpretation', 'aned', 'aneehan', 'anefallarme', 'ane', 'andycrash', 'angedoubleyou', 're', 'angelawebber', 'angelakeen', 'angelapanagacos', 'angelastra', 'angelaxjonas', 'angelayang', 'angelayee', 'angeleyedgodess', 'courtney', 'angelibarra', 'arsenalsarah', 'rafa', 'angelicvampira', 'doubtful', 'angelistic', 'amiga', 'angelivxxx', 'angelneptustar', 'angelonfire', 'angelsharum', 'angelsmind', 'angesbiz', 'yung', 'angiebeyince', 'angiecas', 'angiegriffin', 'angielala', 'angiemartinez', 'angieodt', 'angiewarren', 'angiezherself', 'angmogirl', 'angpang', 'angryangmo', 'angryaussie', 'angrybritain', 'angryfaggot', 'angstmann', 'anhhoang', 'evidence', 'anhhung', 'anhicaluvsjonas', 'anieszkaa', 'anikainlondon', 'anikoheartsjon', 'aniko', 'rev', 'animealmanac', 'animoenzo', 'aniqax', 'anisalovesu', 'anissamayhew', 'anitafiander', 'anitasetio', 'anjeebaby', 'cravenjade', 'evan', 'denmark', 'ankita', 'ankurb', 'angielim', 'claramiss', 'angliaexecs', 'annaguirre', 'anndonnelly', 'annaantell', 'annaaralar', 'annabadtzmaru', 'annabdavid', 'annabellamalone', 'annabethblue', 'annadestefano', 'aniekie', 'annaliesesarah', 'annalynnemc', 'annamalgorzata', 'annamariapdt', 'annanomaly', 'animadi', 'annapires', 'embed', 'annaresa', 'annasaccone', 'annatl', 'delightful', 'collingsa', 'anncurry', 'anneaam', 'loveeee', 'annejulieart', 'annekinla', 'annemul', 'chanel', 'annettedubow', 'annettestatus', 'annhamilton', 'annhawkins', 'anniesilly', 'anniedafg', 'anniemacdj', 'anniepooh', 'annieqpr', 'audit', 'bree', 'anndouglas', 'creeper', 'annijb', 'annkur', 'annlinny', 'anneftw', 'annreywil', 'anntrs', 'annwhit', 'annzoo', 'anointedpromise', 'anomit', 'anoopan', 'anothera', 'allows', 'anotorias', 'battleborne', 'antdeshawn', 'dawsy', 'antheia', 'anthonyytony', 'annieweasley', 'superb', 'anthonycallea', 'anthonyfloyd', 'anthonyjohnston', 'anthonyraneri', 'merch', 'anticlimatic', 'grant', 'antipov', 'antiquebasket', 'bottled', 'wayy', 'antiuse', 'antoniablue', 'antoniamoreno', 'anomdesign', 'thanxx', 'accidently', 'selective', 'independent', 'antimileyhaters', 'antonycotton', 'antrix', 'forwarding', 'antsrants', 'antzpantz', 'require', 'antoneellap', 'anyabast', 'anyamarina', 'anyidiot', 'aparajuli', 'aparthotel', 'soooooooo', 'aphalloides', 'aphrodaisy', 'aplusk', 'barackobama', 'homesick', 'equivalent', 'swag', 'alt', 'apostlethatroks', 'apothecaryjeri', 'unloved', 'appletartlet', 'applexlove', 'appstoremod', 'aprilmiss', 'aprilfilms', 'bail', 'aprilknob', 'aprilllllx', 'aprilshotyou', 'aprilyim', 'aptronym', 'aquaruby', 'gauge', 'aquietmadness', 'dug', 'chreeesdunn', 'distant', 'appleey', 'cozy', 'arabidopsis', 'arabsodmg', 'aral', 'dk', 'appleinvestor', 'aravindjose', 'arbonneteam', 'arcania', 'arcayae', 'archangelmaggie', 'crucifire', 'archism', 'squid', 'archukat', 'archuphils', 'foe', 'arcticpenguin', 'ardeming', 'ardenkhan', 'areonlee', 'areucrazy', 'arhum', 'arianaa', 'arianesherine', 'ariannaskye', 'arianneross', 'lng', 'arielemoonfire', 'ariellegore', 'ariellekristina', 'ariestotle', 'ariherzog', 'ariixarii', 'arikasato', 'arisaja', 'arjbarker', 'muack', 'armano', 'arminvanbuuren', 'arnaudjacobs', 'arncyn', 'arnehulstein', 'arnteriksen', 'arosefull', 'aroundharlem', 'arrens', 'artnews', 'artagnon', 'artbychrysti', 'artbynemo', 'rochester', 'artedeb', 'artemisrex', 'artfaerie', 'artfire', 'artfirejohn', 'circasurvive', 'favour', 'oct', 'artistiquemeg', 'artmind', 'artoni', 'artrox', 'val', 'arturclancy', 'artyjill', 'artythecat', 'artytypes', 'artywah', 'arunbasillal', 'arwatts', 'asaakira', 'asbforever', 'aschernathan', 'asexiness', 'ashriot', 'ashalynd', 'ashatl', 'chrisluvssixxam', 'ashbenzo', 'ashbo', 'ashcoates', 'ashemischief', 'argentbeauquest', 'ariannypilarte', 'chelseaparadiso', 'asherbook', 'asherroth', 'ashesborn', 'ashestree', 'ashfoo', 'ashhhx', 'ashieldsss', 'ashjolliffe', 'ashlarr', 'ashleeadams', 'ashleegaston', 'ashleenino', 'ashleighstack', 'ashleyeastwest', 'ashleynk', 'ashleybella', 'bealove', 'ashleydanger', 'ashleygofficial', 'arjunghosh', 'arkatechbeatz', 'ashleyluvsjbvfc', 'vfc', 'boygenius', 'grief', 'ashleyrwatts', 'surviving', 'brasil', 'ashleyymiller', 'ashleyyosaurus', 'hebrew', 'ashpash', 'ashsimpsonwentz', 'awwwh', 'ashumittal', 'ashwinpande', 'ashyjonas', 'ashymon', 'asiabrands', 'asilverdream', 'asinclairharris', 'asinisterduck', 'askaaronlee', 'askajanything', 'brotha', 'okies', 'ashalinggg', 'maccas', 'askcarrielee', 'askdayton', 'askelf', 'askseesmic', 'aslanwrp', 'asos', 'asosefe', 'asosjulia', 'asoulpsy', 'aspaphoto', 'aspieteach', 'yearly', 'astheniarocks', 'astridaml', 'astridcallista', 'astroboy', 'astroboyisgay', 'astrowebgirl', 'astynes', 'atbandre', 'atchoo', 'ateyaaa', 'atg', 'atheistium', 'athenachristine', 'athugspassion', 'ashleycandyland', 'atlantisjackson', 'atlprincess', 'atrak', 'atraz', 'atslady', 'atubanos', 'aubreyanne', 'aubreyoday', 'aubrey', 'aubs', 'auchentrae', 'audaciousaudrey', 'audaciousgloop', 'audiorush', 'guinness', 'hsm', 'immense', 'auditiondanny', 'audreyo', 'audreygiselle', 'audreypanda', 'aulia', 'auntieflo', 'aurik', 'aurorajo', 'ausaudriel', 'aussiechick', 'aussieali', 'aussieatheart', 'aussiematelc', 'aussieboby', 'aussiemcflyfan', 'aussienick', 'austinirl', 'austinbello', 'austincarlile', 'austinslide', 'austinwilde', 'ashmrx', 'authorsaoirser', 'autumnconfusion', 'ashwinn', 'autumneffect', 'autumnkaine', 'avaiiable', 'avalanchelynn', 'pinkberry', 'asickpuppy', 'averybrandon', 'averygoodyear', 'meany', 'avidbookreader', 'avidjon', 'askegg', 'avinio', 'avrilchan', 'awaisnaseer', 'awalliewall', 'awaltzforanight', 'awdawno', 'aweekes', 'awesometie', 'awesomefrank', 'awfy', 'nonstop', 'awilddog', 'axelsrose', 'develop', 'axon', 'ayatoshirosan', 'aydsman', 'ayeashleigh', 'ayebloodyright', 'ayende', 'ayeshabilqis', 'ayeuplaura', 'aylaf', 'ayliya', 'foreal', 'yuu', 'ayubella', 'ayudevina', 'ayumirollan', 'ayvii', 'ayyaya', 'ayyodaph', 'azandiamjbb', 'azblueeyes', 'acronym', 'atexasattitude', 'azizijones', 'azizshalan', 'azmomofmanyhats', 'aznbean', 'azrillunatic', 'azuritetalk', 'azzi', 'azzmonkey', 'bclub', 'bcoll', 'bjizzle', 'babblingbrookie', 'babenatasha', 'babylexie', 'mmwanted', 'babybebe', 'babydollniki', 'babygirlparis', 'hiphop', 'babyharoldk', 'babyitssel', 'audrimurder', 'refused', 'babymakinmachin', 'babypatches', 'babyphat', 'babystray', 'babyvtec', 'backpackingdad', 'backseatgoodbye', 'backstory', 'jamaica', 'navigation', 'indonesian', 'badhousewife', 'badandykitykat', 'austinbutler', 'peta', 'autismfamily', 'badastronomer', 'baddestnla', 'badmummy', 'badpony', 'badsuperhero', 'bagussoo', 'avi', 'bagwaa', 'bahhoward', 'baileemarshall', 'awesomeful', 'awesomekong', 'slipping', 'bairdduvessa', 'baldeggie', 'balderkongen', 'balkanbeat', 'bamaisme', 'bamaloo', 'britneezy', 'bambiblue', 'motivate', 'werd', 'bambosh', 'bananasgoround', 'bananchips', 'bananza', 'freshly', 'criticism', 'banillaface', 'bannedagain', 'bannersrus', 'azizansari', 'banolka', 'itd', 'barbarajwalters', 'azzyheartsw', 'barbsaka', 'barbsrad', 'barefootexec', 'barelyblind', 'barelyseeatall', 'barkerg', 'barneybaby', 'barrie', 'barryzito', 'bartelme', 'basantam', 'baseballmommy', 'basseyworld', 'bassreybass', 'bastetasshur', 'batmannn', 'batteredhaggis', 'battslm', 'batyasmusic', 'bawldguy', 'baxiabhishek', 'baxters', 'bazilahali', 'bbnation', 'babyscratch', 'badassyella', 'bbbaumgartner', 'cherrythegreat', 'bbgeekchic', 'bbismybb', 'bblane', 'mdear', 'balajidutt', 'bbrathwaite', 'bbum', 'bbunderground', 'bbyowls', 'bcberrie', 'bcmystery', 'bcuban', 'bdeugenio', 'pshh', 'beadinpath', 'beaker', 'beamarqz', 'whatsmysection', 'beaniebanks', 'barbiebibiana', 'beardoctor', 'beartwinsmom', 'beatbutcha', 'beatccr', 'beateveronica', 'beauche', 'beaugiles', 'beauknows', 'beautifulwaste', 'beautiifulgirl', 'beautyschooled', 'beawise', 'bebeld', 'bebezed', 'bebiv', 'beccajoybower', 'beckieillson', 'beckinelson', 'wembley', 'beckybootsx', 'beckybuckwild', 'beckyhope', 'wnbaopeningday', 'caption', 'beckykingston', 'beckymccray', 'bbrannan', 'recall', 'becomingbella', 'beejiveim', 'beelaarg', 'beepiratehooker', 'chaz', 'beezan', 'googled', 'beilaqsodmq', 'beingbeatrice', 'beingmyself', 'beingnobody', 'bekasaur', 'belannatorres', 'wes', 'belindaaaa', 'belindaang', 'neglecting', 'bellabellini', 'bellacullenrpg', 'bellanicola', 'bellasguardian', 'bemeaningful', 'sha', 'bengrubb', 'boulder', 'benjarelbo', 'benmayer', 'benstiller', 'bendels', 'bendyystrawz', 'mcnugget', 'bengeeb', 'heating', 'benjaminellis', 'bidding', 'benjaminreid', 'benjibrum', 'benkepes', 'benlawsonphoto', 'benlimphoto', 'benshephard', 'bentoset', 'bentriderro', 'ro', 'lmk', 'bermudaonion', 'bernmorley', 'berryadict', 'bertawooster', 'bessemerprocess', 'besz', 'bethanie', 'bethanydillon', 'bethanyinfl', 'bethanymcflyx', 'bethbrittbrand', 'bethfishreads', 'bethharte', 'bethmcgrath', 'betsymaebartlet', 'betsyweber', 'betterislittle', 'bevclement', 'beverleycuddy', 'bevysmith', 'bews', 'bexiclepop', 'bfheroes', 'bgirlshorty', 'bhbaddest', 'bhooshan', 'tacky', 'benhall', 'biancaduhh', 'biffgriff', 'bigbluewolf', 'bigtone', 'bigwhite', 'bigassbadger', 'chrisagriffin', 'bigbelbess', 'bigdaddymerk', 'bigdaws', 'commit', 'bigenya', 'biggc', 'bigkelleh', 'coloring', 'drinker', 'apron', 'bigredintejas', 'bexmith', 'bigvixxen', 'bigwormy', 'billarchie', 'billharper', 'billingtonart', 'ilu', 'billpalmer', 'cocabeenslinky', 'billyscallywag', 'billythekid', 'billzucker', 'bimbler', 'binarylife', 'binmugahid', 'binncheol', 'binnsy', 'binnyva', 'bioncaaa', 'legacy', 'bisforbecca', 'bishimmastar', 'bitchnotaperson', 'bitchville', 'bittenbefore', 'bizziefan', 'bjblyth', 'bkbap', 'bkgirlfriday', 'bkmacdaddy', 'bkzzang', 'breedimetria', 'blackmetalkitty', 'blacknightbk', 'blackoutsbox', 'blacksocialite', 'blairxx', 'blakedan', 'blakehealy', 'blakelewis', 'sitter', 'blasha', 'blatzliquor', 'blcsfo', 'bleakey', 'blickbuster', 'blingylixious', 'blobyblo', 'bloggingchick', 'blogyourworld', 'blokeslib', 'blondeblogger', 'blondebydesign', 'blondeyy', 'bloodyironist', 'bloodzillabilly', 'blottedcopybook', 'blowdart', 'bluecupcakes', 'bluerose', 'bluefinch', 'bluefur', 'bluegrassit', 'blueholly', 'iti', 'bluntnate', 'blwbyrd', 'bmolko', 'bmthofficial', 'bndesign', 'bngr', 'boagworld', 'bobbiandmike', 'bobbibillard', 'bobbinrob', 'bobbryar', 'bobbyedner', 'bobtheostrich', 'bodylikemind', 'bodywisdominc', 'bograma', 'bogwhoppit', 'boltclock', 'bombduh', 'bonbbyjess', 'bonedwarf', 'bonesfans', 'bonesinoz', 'bonniebrown', 'bonniestwit', 'boogiesworld', 'bookfoolery', 'sag', 'beatwittyparty', 'bookwhore', 'boomboombetty', 'boomdelirium', 'boomkack', 'boringboo', 'bosintobin', 'bosstycoonlz', 'bostonmarketer', 'bourach', 'bowlthebunny', 'boxofjuice', 'boxtech', 'boyceavenue', 'boyislost', 'boysnoize', 'bpdinokc', 'bradhart', 'bradhfh', 'bradsabbath', 'bradthegleek', 'brajana', 'brampitoyo', 'brandiheyy', 'brandondaballa', 'brandonleblanc', 'brandyandice', 'brandywandlover', 'brantanamo', 'brianlittrell', 'brawngpfanblog', 'brazenone', 'breakingnews', 'breathein', 'breatheheavycom', 'breeawnuhh', 'brendasong', 'brendadada', 'brendajos', 'brendamantz', 'brendyn', 'cookleta', 'brennacedria', 'brentbolthouse', 'brent', 'brentlauren', 'brento', 'paragraph', 'brewstermax', 'breyeschow', 'celiaistall', 'bry', 'bombed', 'brianneudorff', 'briannippon', 'brianspaeth', 'brianwelburn', 'bridgetd', 'bridgetayers', 'briethehippo', 'brightondoll', 'brigittepicot', 'brigwyn', 'brinshannara', 'britl', 'britruxpin', 'brittmxgirl', 'brittanitaylor', 'brittanyasnow', 'brittanytastic', 'brittdeezy', 'brittgastineau', 'brittgoosie', 'brittkay', 'brittoncampbell', 'britttnicole', 'brknglassstudio', 'brodydalle', 'brodyjenner', 'brokensadly', 'brokenstruggle', 'brokepimpstyles', 'brontesaurus', 'bobtheskutter', 'brookandthecity', 'brookebanx', 'brookeburke', 'brookefraser', 'brookehaskins', 'brookeiloveyou', 'brookejasmyn', 'onwards', 'crazytwism', 'fossiloflife', 'browntowers', 'brucehoult', 'brucel', 'brumgpa', 'brunoleandrooo', 'booshtukka', 'brunty', 'bryancheung', 'bryangreenberg', 'bryangwin', 'bryankdawson', 'bryanricard', 'bryantma', 'bryceavary', 'brygidapoland', 'brypie', 'bsbsavedmylife', 'bsimi', 'btcare', 'btgg', 'bla', 'bubblegumxox', 'bubblegarm', 'bubzbeauty', 'buckhollywood', 'buddalunch', 'buddinggenius', 'bradjward', 'budjette', 'buffyc', 'buffywoo', 'buge', 'buhrayaaan', 'buildsblog', 'bunnybridget', 'bunnynut', 'burbleon', 'burbujaspy', 'bustyrockets', 'busybeeblogger', 'busymom', 'busymommaval', 'butadream', 'jonny', 'chrissy', 'butchtastickyle', 'butterflykate', 'butterflyxdream', 'bythekilowatt', 'cjoy', 'snowing', 'cacaubrazil', 'dannygokeyislove', 'cadistra', 'caffeinebomb', 'caffeinesparks', 'caige', 'caitlinaudrey', 'caitliness', 'caitypineapple', 'cakey', 'cakiiebakiie', 'calbo', 'cdhinton', 'calebftsk', 'caliblondie', 'calilewis', 'calisummer', 'caliszfinest', 'calypsominerals', 'cambie', 'cameraobscura', 'cameronmstewart', 'cameronolivier', 'cameronreilly', 'camerontdf', 'camiknickers', 'camilleisleta', 'camilleprats', 'camilleramos', 'canadasmichelle', 'canadiandiva', 'candicejo', 'candice', 'candicekei', 'candiceshane', 'wuts', 'candicotton', 'candydoodles', 'candykid', 'candysnap', 'cannongod', 'capetown', 'capitaln', 'captainkazz', 'caraandclo', 'carambelle', 'caramelflavored', 'carece', 'carepathways', 'caritx', 'carinak', 'carissagrace', 'carissarogers', 'carlacharisse', 'carlamedina', 'carlichick', 'carliecarrcrash', 'carlislecullen', 'carlkr', 'carlmayer', 'carlohilton', 'carlonicora', 'carlosteran', 'carlottap', 'carlsalazar', 'carlysialevert', 'carlysmum', 'carmr', 'carocat', 'carolines', 'carolinejjordan', 'caroljs', 'carousella', 'carpathiab', 'carpesomediem', 'carrieaway', 'carriehartford', 'carsonjdaly', 'carterronson', 'cartoono', 'cartphotography', 'casanovajsandy', 'cascandar', 'encore', 'caseyore', 'caseysevenfold', 'cashstwit', 'casiestewart', 'casndra', 'cassiduncan', 'cassiefx', 'cassieventura', 'cassowaryjewel', 'casualintruder', 'catatoniccat', 'catherineld', 'cognoscento', 'cabbiepat', 'cathrynmarie', 'cathrynr', 'catiams', 'catirah', 'cauld', 'cauldron', 'cavallicali', 'cavorting', 'cazashton', 'cazling', 'cazob', 'cocoy', 'ccstarr', 'ccarquette', 'cchiron', 'ccmaine', 'ccmatthews', 'cdlowell', 'cecenewnew', 'ceetee', 'celebritymound', 'celinehlbk', 'celsbels', 'centerpet', 'ceslsu', 'cessii', 'cfsam', 'cgigandet', 'cglade', 'chactingnyc', 'chadlad', 'chadengle', 'chadfu', 'chadmichmurray', 'challyzatb', 'chamillionaire', 'champagnerdub', 'changibedsheets', 'chantalclaret', 'chantelleaustin', 'chantellepaige', 'chantellmarie', 'chantiparnell', 'chaoticbarb', 'charsos', 'charavel', 'charchaos', 'chargerjenn', 'charissacowart', 'charlenebx', 'charleneortiz', 'charlestrippy', 'charleypearson', 'charliebrand', 'charlotteis', 'charmmydoll', 'chasejarvis', 'chaselisbon', 'chasepino', 'chathuraw', 'chazdrums', 'carnalis', 'cheeaun', 'cheeptweeter', 'chefpatrick', 'chefvanda', 'chells', 'chellybelle', 'chelseaplayboy', 'chelseachan', 'chelseashake', 'chelseasms', 'chelzmae', 'chemerf', 'chemicalbullets', 'chemicalzombie', 'cherrichiodo', 'cherrim', 'cherrybear', 'cherrybumbum', 'cherrybun', 'cherrytreerec', 'cherylanncole', 'cherylelapitan', 'cherylfehlberg', 'cherylharrison', 'cheryltheartist', 'cheryltiu', 'chesterbe', 'chesterpdexter', 'chet', 'chetcannon', 'cheth', 'chevale', 'chiacy', 'chiaraf', 'chibadgirl', 'chicajones', 'chickenstudios', 'chicmom', 'chicogarcia', 'chicrunner', 'chictopia', 'childrensjewell', 'chillybreck', 'chilvia', 'chinacat', 'chiniehdiaz', 'chioma', 'chipcoffey', 'chipmunkartist', 'chloevictoriaxo', 'chloevincent', 'chocolatedip', 'chocolatesuze', 'choebe', 'chokewho', 'choley', 'cathyjh', 'choochoobear', 'choochootheband', 'chrisdaughtry', 'chrisgorham', 'chrisaffair', 'chrisandcal', 'chrisaxe', 'chrisbharrison', 'chrisbosh', 'chrisboudy', 'chrisbrogan', 'chriscanal', 'chriscornell', 'chriscuomo', 'chrisdejabet', 'chrisdjmoyles', 'chrisefs', 'chriseyb', 'chrisgarrett', 'chrishangsleben', 'chrishasboobs', 'chrishiter', 'chrisilluminati', 'chrisjsimon', 'chrismibacache', 'chrisryanmusic', 'chrissinicole', 'chrissyisms', 'christabelsmm', 'christelmcr', 'christft', 'christianaty', 'christinaluvzjk', 'christinaponi', 'christinawrites', 'christinaxobaby', 'christinefarmer', 'christinehitt', 'christinerose', 'christophermoy', 'christywise', 'christyxcore', 'chriswallace', 'chriswalts', 'chrystalljane', 'chubbygayman', 'chuckwicksmusic', 'chunkofplastic', 'ciaoamalfi', 'ciararenee', 'ciararyandreams', 'cidermaker', 'cientifiq', 'cimmermanis', 'cimota', 'cincauhangus', 'cinderellahhhh', 'cindicupcaking', 'chefashbabe', 'cindyoyo', 'cindypon', 'cindyscottday', 'cinebo', 'cinemabizarre', 'cinnamoncloud', 'cjjc', 'cjmgrafx', 'ckcyn', 'clairecordon', 'claireboyles', 'claireyjonesy', 'clarasdiary', 'homepartyger', 'clarissasays', 'claudekelly', 'claudiagmodel', 'claudiajordan', 'claudiamcfly', 'claymuse', 'claytonkennedy', 'clicktokill', 'cliffysmom', 'clintonskakun', 'clintonsparks', 'clocsen', 'cloudconnected', 'clouddancefest', 'cloudsteph', 'cloverdash', 'clrzqstn', 'clumsyclover', 'clumsyflic', 'clumsyxheart', 'cminzzz', 'coachcharrise', 'coachdeb', 'cobaltcow', 'cocotteloup', 'cocoward', 'codelust', 'coderedg', 'codsta', 'cokoclemons', 'colbertobsessed', 'colbsi', 'coledavid', 'colinkelly', 'colinudelewis', 'coliwilso', 'collectivesoul', 'collectormaniac', 'colleencoplick', 'comedydave', 'comcastbonnie', 'comcastcares', 'comeagainjen', 'comedyqueen', 'comfypaws', 'companywoman', 'complexity', 'compsolutions', 'conawillvlog', 'connoraa', 'connorjack', 'contactnaveen', 'contendo', 'contentedraine', 'contentwhore', 'controversie', 'iluu', 'cookiiemonstaar', 'cookinggranny', 'coolsex', 'coolcatteacher', 'coonassdotcom', 'corbthfrog', 'coriemichele', 'coriluvnthedon', 'corinabecker', 'corinh', 'coryfroomkin', 'corykennedy', 'corybooker', 'cosmicgirlie', 'cosmicmother', 'costavidafred', 'costus', 'cotieno', 'couchsurfingori', 'counternotions', 'countingcrows', 'countroshculla', 'courseofhistory', 'courtcosmetics', 'courtneys', 'courtneycummz', 'courtneysit', 'cowgrrrl', 'cowboyjdanos', 'coyotetoo', 'cpauwels', 'crackedknuckles', 'craftymaddie', 'craigbucknall', 'craigavp', 'craigballantyne', 'craigeryowens', 'craigyd', 'crazeegeekchick', 'craziixlovee', 'crazymoon', 'crazyballerina', 'crazycatladie', 'crazylabel', 'creativesoul', 'clairehearty', 'creaturecomfort', 'crimpomatic', 'crisangwich', 'crisbrown', 'crisilouise', 'crispynoodles', 'crisr', 'crissangel', 'cristalthegreat', 'crixlee', 'crochetgal', 'cronogenesis', 'crossstitcher', 'crowderband', 'crozfromoz', 'crucifybrett', 'crunchyk', 'crunkstella', 'crustydolphin', 'cruzteng', 'crypticfragment', 'crysttrueblue', 'crystalbutterfl', 'crystalchain', 'crystalgmurphy', 'crystaljordan', 'crystalposey', 'crystalthediva', 'cryswinchester', 'cmcadams', 'csinews', 'csiprintchick', 'csiriano', 'csquaredsmiles', 'csuryan', 'ctham', 'cuddlyalex', 'corbsilverthorn'])"
            ]
          },
          "metadata": {
            "tags": []
          },
          "execution_count": 61
        }
      ]
    },
    {
      "cell_type": "code",
      "metadata": {
        "id": "rKhFC0OKlhLA",
        "colab_type": "code",
        "colab": {
          "base_uri": "https://localhost:8080/",
          "height": 238
        },
        "outputId": "b91ab805-b06e-48ce-84a9-92973364729d"
      },
      "source": [
        "word.wv.most_similar('twitter')"
      ],
      "execution_count": 62,
      "outputs": [
        {
          "output_type": "stream",
          "text": [
            "/usr/local/lib/python3.6/dist-packages/gensim/matutils.py:737: FutureWarning: Conversion of the second argument of issubdtype from `int` to `np.signedinteger` is deprecated. In future, it will be treated as `np.int64 == np.dtype(int).type`.\n",
            "  if np.issubdtype(vec.dtype, np.int):\n"
          ],
          "name": "stderr"
        },
        {
          "output_type": "execute_result",
          "data": {
            "text/plain": [
              "[('message', 0.8484869003295898),\n",
              " ('sent', 0.8384042382240295),\n",
              " ('facebook', 0.834929347038269),\n",
              " ('dm', 0.8238285779953003),\n",
              " ('email', 0.8222038745880127),\n",
              " ('following', 0.8173774480819702),\n",
              " ('page', 0.8148053884506226),\n",
              " ('reply', 0.80271977186203),\n",
              " ('account', 0.8025115728378296),\n",
              " ('update', 0.7990567684173584)]"
            ]
          },
          "metadata": {
            "tags": []
          },
          "execution_count": 62
        }
      ]
    }
  ]
}