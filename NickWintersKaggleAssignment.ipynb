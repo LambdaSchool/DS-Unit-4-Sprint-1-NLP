{
  "nbformat": 4,
  "nbformat_minor": 0,
  "metadata": {
    "colab": {
      "name": "NickWintersKaggleAssignment.ipynb",
      "version": "0.3.2",
      "provenance": [],
      "include_colab_link": true
    },
    "kernelspec": {
      "name": "python3",
      "display_name": "Python 3"
    }
  },
  "cells": [
    {
      "cell_type": "markdown",
      "metadata": {
        "id": "view-in-github",
        "colab_type": "text"
      },
      "source": [
        "<a href=\"https://colab.research.google.com/github/nickwinters1/DS-Unit-4-Sprint-1-NLP/blob/master/NickWintersKaggleAssignment.ipynb\" target=\"_parent\"><img src=\"https://colab.research.google.com/assets/colab-badge.svg\" alt=\"Open In Colab\"/></a>"
      ]
    },
    {
      "cell_type": "code",
      "metadata": {
        "id": "yPH77Ax_pk_Z",
        "colab_type": "code",
        "outputId": "4a72455a-f42a-49ac-a7b8-d5ea66a0f635",
        "colab": {
          "base_uri": "https://localhost:8080/",
          "height": 170
        }
      },
      "source": [
        "import os\n",
        "os.environ['KAGGLE_USERNAME'] = \"nickwinters1\" \n",
        "os.environ['KAGGLE_KEY'] = \"b45322b5d97e37bf445d2d8c978b40d2\" # key from the json file\n",
        "!kaggle competitions download -c ds3-which-whisky"
      ],
      "execution_count": 1,
      "outputs": [
        {
          "output_type": "stream",
          "text": [
            "Downloading test.csv to /content\n",
            "\r  0% 0.00/128k [00:00<?, ?B/s]\n",
            "100% 128k/128k [00:00<00:00, 39.0MB/s]\n",
            "Downloading sample_submission.csv to /content\n",
            "  0% 0.00/1.91k [00:00<?, ?B/s]\n",
            "100% 1.91k/1.91k [00:00<00:00, 1.97MB/s]\n",
            "Downloading train.csv.zip to /content\n",
            "  0% 0.00/463k [00:00<?, ?B/s]\n",
            "100% 463k/463k [00:00<00:00, 63.9MB/s]\n"
          ],
          "name": "stdout"
        }
      ]
    },
    {
      "cell_type": "code",
      "metadata": {
        "id": "7UUZwbn5poXY",
        "colab_type": "code",
        "outputId": "c0a13b4d-a4f4-46ec-ed9a-78b9298aeb3c",
        "colab": {
          "base_uri": "https://localhost:8080/",
          "height": 51
        }
      },
      "source": [
        "!unzip train.csv.zip"
      ],
      "execution_count": 2,
      "outputs": [
        {
          "output_type": "stream",
          "text": [
            "Archive:  train.csv.zip\n",
            "  inflating: train.csv               \n"
          ],
          "name": "stdout"
        }
      ]
    },
    {
      "cell_type": "code",
      "metadata": {
        "id": "ktK-2DX6rFJ5",
        "colab_type": "code",
        "colab": {}
      },
      "source": [
        "import pandas as pd"
      ],
      "execution_count": 0,
      "outputs": []
    },
    {
      "cell_type": "code",
      "metadata": {
        "id": "fOiYSIcqrSr-",
        "colab_type": "code",
        "colab": {}
      },
      "source": [
        "train=pd.read_csv('train.csv')"
      ],
      "execution_count": 0,
      "outputs": []
    },
    {
      "cell_type": "code",
      "metadata": {
        "id": "hTYrjn93rXqM",
        "colab_type": "code",
        "outputId": "47efb60d-a351-4ecc-ee38-d25a0e623a4e",
        "colab": {
          "base_uri": "https://localhost:8080/",
          "height": 221
        }
      },
      "source": [
        "train.info()"
      ],
      "execution_count": 5,
      "outputs": [
        {
          "output_type": "stream",
          "text": [
            "<class 'pandas.core.frame.DataFrame'>\n",
            "RangeIndex: 2874 entries, 0 to 2873\n",
            "Data columns (total 7 columns):\n",
            "id              2874 non-null int64\n",
            "author          2874 non-null object\n",
            "description     2874 non-null object\n",
            "price           2811 non-null float64\n",
            "ratingValue     2874 non-null int64\n",
            "pert_alcohol    2814 non-null float64\n",
            "category        2586 non-null float64\n",
            "dtypes: float64(3), int64(2), object(2)\n",
            "memory usage: 157.2+ KB\n"
          ],
          "name": "stdout"
        }
      ]
    },
    {
      "cell_type": "code",
      "metadata": {
        "id": "9BR7R9F-tMjH",
        "colab_type": "code",
        "outputId": "00898373-7e9d-4ed9-b798-5d06d49e2b48",
        "colab": {
          "base_uri": "https://localhost:8080/",
          "height": 204
        }
      },
      "source": [
        "train.head()"
      ],
      "execution_count": 6,
      "outputs": [
        {
          "output_type": "execute_result",
          "data": {
            "text/html": [
              "<div>\n",
              "<style scoped>\n",
              "    .dataframe tbody tr th:only-of-type {\n",
              "        vertical-align: middle;\n",
              "    }\n",
              "\n",
              "    .dataframe tbody tr th {\n",
              "        vertical-align: top;\n",
              "    }\n",
              "\n",
              "    .dataframe thead th {\n",
              "        text-align: right;\n",
              "    }\n",
              "</style>\n",
              "<table border=\"1\" class=\"dataframe\">\n",
              "  <thead>\n",
              "    <tr style=\"text-align: right;\">\n",
              "      <th></th>\n",
              "      <th>id</th>\n",
              "      <th>author</th>\n",
              "      <th>description</th>\n",
              "      <th>price</th>\n",
              "      <th>ratingValue</th>\n",
              "      <th>pert_alcohol</th>\n",
              "      <th>category</th>\n",
              "    </tr>\n",
              "  </thead>\n",
              "  <tbody>\n",
              "    <tr>\n",
              "      <th>0</th>\n",
              "      <td>1</td>\n",
              "      <td>John Hansell</td>\n",
              "      <td>A marriage of 13 and 18 year old bourbons. A m...</td>\n",
              "      <td>85.0</td>\n",
              "      <td>97</td>\n",
              "      <td>51.5</td>\n",
              "      <td>2.0</td>\n",
              "    </tr>\n",
              "    <tr>\n",
              "      <th>1</th>\n",
              "      <td>2</td>\n",
              "      <td>Dave Broom</td>\n",
              "      <td>There have been some legendary Bowmores from t...</td>\n",
              "      <td>13500.0</td>\n",
              "      <td>97</td>\n",
              "      <td>42.9</td>\n",
              "      <td>1.0</td>\n",
              "    </tr>\n",
              "    <tr>\n",
              "      <th>2</th>\n",
              "      <td>3</td>\n",
              "      <td>John Hansell</td>\n",
              "      <td>This bottling celebrates master distiller Park...</td>\n",
              "      <td>150.0</td>\n",
              "      <td>97</td>\n",
              "      <td>50.0</td>\n",
              "      <td>2.0</td>\n",
              "    </tr>\n",
              "    <tr>\n",
              "      <th>3</th>\n",
              "      <td>4</td>\n",
              "      <td>John Hansell</td>\n",
              "      <td>What impresses me most is how this whisky evol...</td>\n",
              "      <td>4500.0</td>\n",
              "      <td>97</td>\n",
              "      <td>40.5</td>\n",
              "      <td>1.0</td>\n",
              "    </tr>\n",
              "    <tr>\n",
              "      <th>4</th>\n",
              "      <td>6</td>\n",
              "      <td>Davin de Kergommeaux</td>\n",
              "      <td>After 40 years in barrels, the trademark Canad...</td>\n",
              "      <td>199.0</td>\n",
              "      <td>96</td>\n",
              "      <td>45.0</td>\n",
              "      <td>NaN</td>\n",
              "    </tr>\n",
              "  </tbody>\n",
              "</table>\n",
              "</div>"
            ],
            "text/plain": [
              "   id                author  ... pert_alcohol  category\n",
              "0   1          John Hansell  ...         51.5       2.0\n",
              "1   2            Dave Broom  ...         42.9       1.0\n",
              "2   3          John Hansell  ...         50.0       2.0\n",
              "3   4          John Hansell  ...         40.5       1.0\n",
              "4   6  Davin de Kergommeaux  ...         45.0       NaN\n",
              "\n",
              "[5 rows x 7 columns]"
            ]
          },
          "metadata": {
            "tags": []
          },
          "execution_count": 6
        }
      ]
    },
    {
      "cell_type": "code",
      "metadata": {
        "id": "XCJUBE4OtaRK",
        "colab_type": "code",
        "outputId": "39aa89ef-ddb9-48db-9b9b-61356c7daa50",
        "colab": {
          "base_uri": "https://localhost:8080/",
          "height": 297
        }
      },
      "source": [
        "train.describe(include='number')"
      ],
      "execution_count": 7,
      "outputs": [
        {
          "output_type": "execute_result",
          "data": {
            "text/html": [
              "<div>\n",
              "<style scoped>\n",
              "    .dataframe tbody tr th:only-of-type {\n",
              "        vertical-align: middle;\n",
              "    }\n",
              "\n",
              "    .dataframe tbody tr th {\n",
              "        vertical-align: top;\n",
              "    }\n",
              "\n",
              "    .dataframe thead th {\n",
              "        text-align: right;\n",
              "    }\n",
              "</style>\n",
              "<table border=\"1\" class=\"dataframe\">\n",
              "  <thead>\n",
              "    <tr style=\"text-align: right;\">\n",
              "      <th></th>\n",
              "      <th>id</th>\n",
              "      <th>price</th>\n",
              "      <th>ratingValue</th>\n",
              "      <th>pert_alcohol</th>\n",
              "      <th>category</th>\n",
              "    </tr>\n",
              "  </thead>\n",
              "  <tbody>\n",
              "    <tr>\n",
              "      <th>count</th>\n",
              "      <td>2874.000000</td>\n",
              "      <td>2811.000000</td>\n",
              "      <td>2874.000000</td>\n",
              "      <td>2814.000000</td>\n",
              "      <td>2586.000000</td>\n",
              "    </tr>\n",
              "    <tr>\n",
              "      <th>mean</th>\n",
              "      <td>2075.814544</td>\n",
              "      <td>225.297937</td>\n",
              "      <td>86.361517</td>\n",
              "      <td>48.043019</td>\n",
              "      <td>1.637664</td>\n",
              "    </tr>\n",
              "    <tr>\n",
              "      <th>std</th>\n",
              "      <td>1177.805945</td>\n",
              "      <td>990.619608</td>\n",
              "      <td>4.511554</td>\n",
              "      <td>6.298527</td>\n",
              "      <td>0.963049</td>\n",
              "    </tr>\n",
              "    <tr>\n",
              "      <th>min</th>\n",
              "      <td>1.000000</td>\n",
              "      <td>7.500000</td>\n",
              "      <td>60.000000</td>\n",
              "      <td>33.000000</td>\n",
              "      <td>1.000000</td>\n",
              "    </tr>\n",
              "    <tr>\n",
              "      <th>25%</th>\n",
              "      <td>1087.250000</td>\n",
              "      <td>50.000000</td>\n",
              "      <td>84.000000</td>\n",
              "      <td>43.300000</td>\n",
              "      <td>1.000000</td>\n",
              "    </tr>\n",
              "    <tr>\n",
              "      <th>50%</th>\n",
              "      <td>2109.500000</td>\n",
              "      <td>80.000000</td>\n",
              "      <td>87.000000</td>\n",
              "      <td>46.000000</td>\n",
              "      <td>1.000000</td>\n",
              "    </tr>\n",
              "    <tr>\n",
              "      <th>75%</th>\n",
              "      <td>3102.000000</td>\n",
              "      <td>140.000000</td>\n",
              "      <td>90.000000</td>\n",
              "      <td>51.375000</td>\n",
              "      <td>2.000000</td>\n",
              "    </tr>\n",
              "    <tr>\n",
              "      <th>max</th>\n",
              "      <td>4157.000000</td>\n",
              "      <td>26650.000000</td>\n",
              "      <td>97.000000</td>\n",
              "      <td>98.600000</td>\n",
              "      <td>4.000000</td>\n",
              "    </tr>\n",
              "  </tbody>\n",
              "</table>\n",
              "</div>"
            ],
            "text/plain": [
              "                id         price  ratingValue  pert_alcohol     category\n",
              "count  2874.000000   2811.000000  2874.000000   2814.000000  2586.000000\n",
              "mean   2075.814544    225.297937    86.361517     48.043019     1.637664\n",
              "std    1177.805945    990.619608     4.511554      6.298527     0.963049\n",
              "min       1.000000      7.500000    60.000000     33.000000     1.000000\n",
              "25%    1087.250000     50.000000    84.000000     43.300000     1.000000\n",
              "50%    2109.500000     80.000000    87.000000     46.000000     1.000000\n",
              "75%    3102.000000    140.000000    90.000000     51.375000     2.000000\n",
              "max    4157.000000  26650.000000    97.000000     98.600000     4.000000"
            ]
          },
          "metadata": {
            "tags": []
          },
          "execution_count": 7
        }
      ]
    },
    {
      "cell_type": "code",
      "metadata": {
        "id": "FduXfoCIuMKz",
        "colab_type": "code",
        "outputId": "d7cb4186-4fcb-43f4-b527-7dd26f32ad1f",
        "colab": {
          "base_uri": "https://localhost:8080/",
          "height": 173
        }
      },
      "source": [
        "train.describe(exclude='number')"
      ],
      "execution_count": 8,
      "outputs": [
        {
          "output_type": "execute_result",
          "data": {
            "text/html": [
              "<div>\n",
              "<style scoped>\n",
              "    .dataframe tbody tr th:only-of-type {\n",
              "        vertical-align: middle;\n",
              "    }\n",
              "\n",
              "    .dataframe tbody tr th {\n",
              "        vertical-align: top;\n",
              "    }\n",
              "\n",
              "    .dataframe thead th {\n",
              "        text-align: right;\n",
              "    }\n",
              "</style>\n",
              "<table border=\"1\" class=\"dataframe\">\n",
              "  <thead>\n",
              "    <tr style=\"text-align: right;\">\n",
              "      <th></th>\n",
              "      <th>author</th>\n",
              "      <th>description</th>\n",
              "    </tr>\n",
              "  </thead>\n",
              "  <tbody>\n",
              "    <tr>\n",
              "      <th>count</th>\n",
              "      <td>2874</td>\n",
              "      <td>2874</td>\n",
              "    </tr>\n",
              "    <tr>\n",
              "      <th>unique</th>\n",
              "      <td>12</td>\n",
              "      <td>2871</td>\n",
              "    </tr>\n",
              "    <tr>\n",
              "      <th>top</th>\n",
              "      <td>John Hansell</td>\n",
              "      <td>Swiss-based Chapter 7 released this 19 year ol...</td>\n",
              "    </tr>\n",
              "    <tr>\n",
              "      <th>freq</th>\n",
              "      <td>992</td>\n",
              "      <td>2</td>\n",
              "    </tr>\n",
              "  </tbody>\n",
              "</table>\n",
              "</div>"
            ],
            "text/plain": [
              "              author                                        description\n",
              "count           2874                                               2874\n",
              "unique            12                                               2871\n",
              "top     John Hansell  Swiss-based Chapter 7 released this 19 year ol...\n",
              "freq             992                                                  2"
            ]
          },
          "metadata": {
            "tags": []
          },
          "execution_count": 8
        }
      ]
    },
    {
      "cell_type": "code",
      "metadata": {
        "id": "C4C9FxnPuSQC",
        "colab_type": "code",
        "colab": {}
      },
      "source": [
        "train['category']=train['category'].dropna()"
      ],
      "execution_count": 0,
      "outputs": []
    },
    {
      "cell_type": "code",
      "metadata": {
        "id": "-P6EfZ26wy_4",
        "colab_type": "code",
        "colab": {}
      },
      "source": [
        "train=train.dropna()"
      ],
      "execution_count": 0,
      "outputs": []
    },
    {
      "cell_type": "code",
      "metadata": {
        "id": "z_pSoknbH5D8",
        "colab_type": "code",
        "colab": {
          "base_uri": "https://localhost:8080/",
          "height": 85
        },
        "outputId": "6cc56fdd-dbe3-4e4c-b01e-0635f60a517a"
      },
      "source": [
        "pip install -U scikit-learn"
      ],
      "execution_count": 11,
      "outputs": [
        {
          "output_type": "stream",
          "text": [
            "Requirement already up-to-date: scikit-learn in /usr/local/lib/python3.6/dist-packages (0.21.2)\n",
            "Requirement already satisfied, skipping upgrade: numpy>=1.11.0 in /usr/local/lib/python3.6/dist-packages (from scikit-learn) (1.16.4)\n",
            "Requirement already satisfied, skipping upgrade: scipy>=0.17.0 in /usr/local/lib/python3.6/dist-packages (from scikit-learn) (1.3.0)\n",
            "Requirement already satisfied, skipping upgrade: joblib>=0.11 in /usr/local/lib/python3.6/dist-packages (from scikit-learn) (0.13.2)\n"
          ],
          "name": "stdout"
        }
      ]
    },
    {
      "cell_type": "code",
      "metadata": {
        "id": "RoxNld7xu6is",
        "colab_type": "code",
        "colab": {}
      },
      "source": [
        "from pprint import pprint\n",
        "from time import time\n",
        "import logging\n",
        "\n",
        "from sklearn.datasets import fetch_20newsgroups\n",
        "from sklearn.feature_extraction.text import CountVectorizer\n",
        "from sklearn.feature_extraction.text import TfidfVectorizer\n",
        "from sklearn.linear_model import SGDClassifier\n",
        "from sklearn.model_selection import GridSearchCV\n",
        "from sklearn.pipeline import Pipeline\n"
      ],
      "execution_count": 0,
      "outputs": []
    },
    {
      "cell_type": "code",
      "metadata": {
        "id": "NlheogofvjZc",
        "colab_type": "code",
        "colab": {}
      },
      "source": [
        " vect=TfidfVectorizer(stop_words='english')\n",
        "pipeline = Pipeline([\n",
        "    ('vect',vect),\n",
        "    ('clf', SGDClassifier())\n",
        "])"
      ],
      "execution_count": 0,
      "outputs": []
    },
    {
      "cell_type": "code",
      "metadata": {
        "id": "JJogZ1XSwQ1N",
        "colab_type": "code",
        "colab": {}
      },
      "source": [
        "parameters = {\n",
        "    'vect__max_df': (0.5, 0.75, 1.0),\n",
        "    #'vect__max_features': (None, 5000, 10000, 50000),\n",
        "    'vect__ngram_range': ((1, 1), (1, 2)),  # unigrams or bigrams\n",
        "    #'tfidf__use_idf': (True, False),\n",
        "    #'tfidf__norm': ('l1', 'l2'),\n",
        "    'clf__max_iter': (20,),\n",
        "    'clf__alpha': (0.00001, 0.000001),\n",
        "    'clf__penalty': ('l2', 'elasticnet'),\n",
        "    'clf__max_iter': (10, 50, 80),\n",
        "}"
      ],
      "execution_count": 0,
      "outputs": []
    },
    {
      "cell_type": "code",
      "metadata": {
        "id": "j1hJzFSyxRED",
        "colab_type": "code",
        "colab": {}
      },
      "source": [
        "features = ['id', 'author', 'description', 'price', 'ratingValue', 'pert_alcohol']\n",
        "target = 'category'"
      ],
      "execution_count": 0,
      "outputs": []
    },
    {
      "cell_type": "code",
      "metadata": {
        "id": "CGMAuKZewbaE",
        "colab_type": "code",
        "outputId": "b00de922-419a-42e0-f6ab-da43ce68c004",
        "colab": {
          "base_uri": "https://localhost:8080/",
          "height": 221
        }
      },
      "source": [
        "grid_search = GridSearchCV(pipeline, parameters, cv=5,\n",
        "                          n_jobs=-1,verbose=1)\n",
        "\n",
        "\n",
        "\n",
        "grid_search.fit(train['description'],train[target])\n",
        "print('best score: %0.3f'% grid_search.best_score_)\n",
        "print('Best parameters set:')\n",
        "best_parameters = grid_search.best_estimator_.get_params()\n",
        "for param_name in sorted(parameters.keys()):\n",
        "    print(\"\\t%s: %r\" % (param_name, best_parameters[param_name]))"
      ],
      "execution_count": 16,
      "outputs": [
        {
          "output_type": "stream",
          "text": [
            "Fitting 5 folds for each of 72 candidates, totalling 360 fits\n"
          ],
          "name": "stdout"
        },
        {
          "output_type": "stream",
          "text": [
            "[Parallel(n_jobs=-1)]: Using backend LokyBackend with 2 concurrent workers.\n",
            "[Parallel(n_jobs=-1)]: Done  46 tasks      | elapsed:   13.9s\n",
            "[Parallel(n_jobs=-1)]: Done 196 tasks      | elapsed:   56.3s\n",
            "[Parallel(n_jobs=-1)]: Done 360 out of 360 | elapsed:  1.7min finished\n"
          ],
          "name": "stderr"
        },
        {
          "output_type": "stream",
          "text": [
            "best score: 0.945\n",
            "Best parameters set:\n",
            "\tclf__alpha: 1e-05\n",
            "\tclf__max_iter: 80\n",
            "\tclf__penalty: 'elasticnet'\n",
            "\tvect__max_df: 0.75\n",
            "\tvect__ngram_range: (1, 2)\n"
          ],
          "name": "stdout"
        }
      ]
    },
    {
      "cell_type": "code",
      "metadata": {
        "id": "UCz2QMW11fiO",
        "colab_type": "code",
        "colab": {}
      },
      "source": [
        "test=pd.read_csv('test.csv')"
      ],
      "execution_count": 0,
      "outputs": []
    },
    {
      "cell_type": "code",
      "metadata": {
        "id": "ueQhZrujz7Wi",
        "colab_type": "code",
        "colab": {}
      },
      "source": [
        "predict=grid_search.predict(test['description'])"
      ],
      "execution_count": 0,
      "outputs": []
    },
    {
      "cell_type": "code",
      "metadata": {
        "id": "C9T2u0tO13Jd",
        "colab_type": "code",
        "outputId": "7c88abed-063a-4f76-b7e7-f1ad21909935",
        "colab": {
          "base_uri": "https://localhost:8080/",
          "height": 204
        }
      },
      "source": [
        "test['category']=predict\n",
        "test.head()"
      ],
      "execution_count": 19,
      "outputs": [
        {
          "output_type": "execute_result",
          "data": {
            "text/html": [
              "<div>\n",
              "<style scoped>\n",
              "    .dataframe tbody tr th:only-of-type {\n",
              "        vertical-align: middle;\n",
              "    }\n",
              "\n",
              "    .dataframe tbody tr th {\n",
              "        vertical-align: top;\n",
              "    }\n",
              "\n",
              "    .dataframe thead th {\n",
              "        text-align: right;\n",
              "    }\n",
              "</style>\n",
              "<table border=\"1\" class=\"dataframe\">\n",
              "  <thead>\n",
              "    <tr style=\"text-align: right;\">\n",
              "      <th></th>\n",
              "      <th>id</th>\n",
              "      <th>author</th>\n",
              "      <th>description</th>\n",
              "      <th>price</th>\n",
              "      <th>ratingValue</th>\n",
              "      <th>pert_alcohol</th>\n",
              "      <th>category</th>\n",
              "    </tr>\n",
              "  </thead>\n",
              "  <tbody>\n",
              "    <tr>\n",
              "      <th>0</th>\n",
              "      <td>955</td>\n",
              "      <td>Fred Minnick</td>\n",
              "      <td>Think carnival aromas—the good ones, anyway—me...</td>\n",
              "      <td>36.0</td>\n",
              "      <td>90</td>\n",
              "      <td>50.0</td>\n",
              "      <td>2.0</td>\n",
              "    </tr>\n",
              "    <tr>\n",
              "      <th>1</th>\n",
              "      <td>3532</td>\n",
              "      <td>Lew Bryson</td>\n",
              "      <td>A blend of three bourbons, between 6 and 12 ye...</td>\n",
              "      <td>90.0</td>\n",
              "      <td>82</td>\n",
              "      <td>49.3</td>\n",
              "      <td>2.0</td>\n",
              "    </tr>\n",
              "    <tr>\n",
              "      <th>2</th>\n",
              "      <td>1390</td>\n",
              "      <td>Davin de Kergommeaux</td>\n",
              "      <td>The nose is focused on cereal, hints of fresh ...</td>\n",
              "      <td>48.0</td>\n",
              "      <td>89</td>\n",
              "      <td>45.0</td>\n",
              "      <td>4.0</td>\n",
              "    </tr>\n",
              "    <tr>\n",
              "      <th>3</th>\n",
              "      <td>1024</td>\n",
              "      <td>Gavin Smith</td>\n",
              "      <td>Swiss-based Chapter 7 released this 19 year ol...</td>\n",
              "      <td>180.0</td>\n",
              "      <td>90</td>\n",
              "      <td>55.8</td>\n",
              "      <td>1.0</td>\n",
              "    </tr>\n",
              "    <tr>\n",
              "      <th>4</th>\n",
              "      <td>1902</td>\n",
              "      <td>Gavin Smith</td>\n",
              "      <td>Valkyrie replaces the current Dark Origins exp...</td>\n",
              "      <td>71.0</td>\n",
              "      <td>87</td>\n",
              "      <td>45.9</td>\n",
              "      <td>1.0</td>\n",
              "    </tr>\n",
              "  </tbody>\n",
              "</table>\n",
              "</div>"
            ],
            "text/plain": [
              "     id                author  ... pert_alcohol  category\n",
              "0   955          Fred Minnick  ...         50.0       2.0\n",
              "1  3532            Lew Bryson  ...         49.3       2.0\n",
              "2  1390  Davin de Kergommeaux  ...         45.0       4.0\n",
              "3  1024           Gavin Smith  ...         55.8       1.0\n",
              "4  1902           Gavin Smith  ...         45.9       1.0\n",
              "\n",
              "[5 rows x 7 columns]"
            ]
          },
          "metadata": {
            "tags": []
          },
          "execution_count": 19
        }
      ]
    },
    {
      "cell_type": "code",
      "metadata": {
        "id": "7Z39k3sP2Tm4",
        "colab_type": "code",
        "outputId": "867b42c9-d8e2-400f-e751-a5107330bf0e",
        "colab": {
          "base_uri": "https://localhost:8080/",
          "height": 204
        }
      },
      "source": [
        "submission=test.drop(columns=['author','description','price','ratingValue','pert_alcohol'])\n",
        "submission['category']=submission['category'].astype('int')\n",
        "submission.head()"
      ],
      "execution_count": 20,
      "outputs": [
        {
          "output_type": "execute_result",
          "data": {
            "text/html": [
              "<div>\n",
              "<style scoped>\n",
              "    .dataframe tbody tr th:only-of-type {\n",
              "        vertical-align: middle;\n",
              "    }\n",
              "\n",
              "    .dataframe tbody tr th {\n",
              "        vertical-align: top;\n",
              "    }\n",
              "\n",
              "    .dataframe thead th {\n",
              "        text-align: right;\n",
              "    }\n",
              "</style>\n",
              "<table border=\"1\" class=\"dataframe\">\n",
              "  <thead>\n",
              "    <tr style=\"text-align: right;\">\n",
              "      <th></th>\n",
              "      <th>id</th>\n",
              "      <th>category</th>\n",
              "    </tr>\n",
              "  </thead>\n",
              "  <tbody>\n",
              "    <tr>\n",
              "      <th>0</th>\n",
              "      <td>955</td>\n",
              "      <td>2</td>\n",
              "    </tr>\n",
              "    <tr>\n",
              "      <th>1</th>\n",
              "      <td>3532</td>\n",
              "      <td>2</td>\n",
              "    </tr>\n",
              "    <tr>\n",
              "      <th>2</th>\n",
              "      <td>1390</td>\n",
              "      <td>4</td>\n",
              "    </tr>\n",
              "    <tr>\n",
              "      <th>3</th>\n",
              "      <td>1024</td>\n",
              "      <td>1</td>\n",
              "    </tr>\n",
              "    <tr>\n",
              "      <th>4</th>\n",
              "      <td>1902</td>\n",
              "      <td>1</td>\n",
              "    </tr>\n",
              "  </tbody>\n",
              "</table>\n",
              "</div>"
            ],
            "text/plain": [
              "     id  category\n",
              "0   955         2\n",
              "1  3532         2\n",
              "2  1390         4\n",
              "3  1024         1\n",
              "4  1902         1"
            ]
          },
          "metadata": {
            "tags": []
          },
          "execution_count": 20
        }
      ]
    },
    {
      "cell_type": "code",
      "metadata": {
        "id": "sg5_yXlw4ftu",
        "colab_type": "code",
        "colab": {}
      },
      "source": [
        "submission.to_csv('submission.csv',index=False)"
      ],
      "execution_count": 0,
      "outputs": []
    },
    {
      "cell_type": "code",
      "metadata": {
        "id": "-54LBFfZKnH4",
        "colab_type": "code",
        "colab": {
          "base_uri": "https://localhost:8080/",
          "height": 51
        },
        "outputId": "bcbfe7d4-1b94-41cb-e70e-33ee3979fa71"
      },
      "source": [
        "!kaggle competitions submit -c ds3-which-whisky -f submission.csv -m \"Submission 1\""
      ],
      "execution_count": 24,
      "outputs": [
        {
          "output_type": "stream",
          "text": [
            "100% 1.91k/1.91k [00:02<00:00, 882B/s]\n",
            "Successfully submitted to DS3 Which Whisky"
          ],
          "name": "stdout"
        }
      ]
    },
    {
      "cell_type": "code",
      "metadata": {
        "id": "flU2mPvs49ke",
        "colab_type": "code",
        "colab": {}
      },
      "source": [
        "from sklearn.decomposition import TruncatedSVD\n",
        "\n",
        "svd = TruncatedSVD(n_components=500,\n",
        "                   algorithm='randomized',\n",
        "                   n_iter=10)"
      ],
      "execution_count": 0,
      "outputs": []
    },
    {
      "cell_type": "code",
      "metadata": {
        "id": "AcZQ1jVS5yGe",
        "colab_type": "code",
        "colab": {}
      },
      "source": [
        "\n",
        "\n",
        "lsi = Pipeline([('vect', vect),('svd', svd)])\n",
        "\n",
        "pipe = Pipeline([('lsi', lsi), ('clf', SGDClassifier())])\n",
        "\n",
        "parameters = {\n",
        "    'lsi__vect__max_df': (0.5, 0.75, 1.0),\n",
        "    #'vect__max_features': (None, 5000, 10000, 50000),\n",
        "    'lsi__vect__ngram_range': ((1, 1), (1, 2)),  # unigrams or bigrams\n",
        "    #'tfidf__use_idf': (True, False),\n",
        "    #'tfidf__norm': ('l1', 'l2'),\n",
        "    'clf__max_iter': (20,),\n",
        "    'clf__alpha': (0.00001, 0.000001),\n",
        "    'clf__penalty': ('l2', 'elasticnet'),\n",
        "    #'clf__max_iter': (10, 50, 80),\n",
        "}\n",
        "\n",
        "\n"
      ],
      "execution_count": 0,
      "outputs": []
    },
    {
      "cell_type": "code",
      "metadata": {
        "id": "4Zss32Euqk-I",
        "colab_type": "code",
        "outputId": "76e55ca6-40c9-43af-d8eb-963c5cd9d675",
        "colab": {
          "base_uri": "https://localhost:8080/",
          "height": 445
        }
      },
      "source": [
        "grid_search = GridSearchCV(pipe, parameters, cv=3,\n",
        "                          n_jobs=-1,verbose=10)\n",
        "\n",
        "\n",
        "\n",
        "grid_search.fit(train['description'],train[target])\n",
        "print('best score: %0.3f'% grid_search.best_score_)\n",
        "print('Best parameters set:')\n",
        "best_parameters = grid_search.best_estimator_.get_params()\n",
        "for param_name in sorted(parameters.keys()):\n",
        "    print(\"\\t%s: %r\" % (param_name, best_parameters[param_name]))"
      ],
      "execution_count": 28,
      "outputs": [
        {
          "output_type": "stream",
          "text": [
            "Fitting 3 folds for each of 24 candidates, totalling 72 fits\n"
          ],
          "name": "stdout"
        },
        {
          "output_type": "stream",
          "text": [
            "[Parallel(n_jobs=-1)]: Using backend LokyBackend with 2 concurrent workers.\n",
            "[Parallel(n_jobs=-1)]: Done   1 tasks      | elapsed:   10.8s\n",
            "[Parallel(n_jobs=-1)]: Done   4 tasks      | elapsed:   56.2s\n",
            "/usr/local/lib/python3.6/dist-packages/joblib/externals/loky/process_executor.py:706: UserWarning: A worker stopped while some jobs were given to the executor. This can be caused by a too short worker timeout or by a memory leak.\n",
            "  \"timeout or by a memory leak.\", UserWarning\n",
            "[Parallel(n_jobs=-1)]: Done   9 tasks      | elapsed:  1.8min\n",
            "[Parallel(n_jobs=-1)]: Done  14 tasks      | elapsed:  3.0min\n",
            "[Parallel(n_jobs=-1)]: Done  21 tasks      | elapsed:  4.4min\n",
            "[Parallel(n_jobs=-1)]: Done  28 tasks      | elapsed:  6.5min\n",
            "[Parallel(n_jobs=-1)]: Done  37 tasks      | elapsed:  8.4min\n",
            "[Parallel(n_jobs=-1)]: Done  46 tasks      | elapsed: 10.7min\n",
            "[Parallel(n_jobs=-1)]: Done  57 tasks      | elapsed: 12.8min\n",
            "[Parallel(n_jobs=-1)]: Done  68 tasks      | elapsed: 15.4min\n",
            "[Parallel(n_jobs=-1)]: Done  72 out of  72 | elapsed: 16.7min finished\n"
          ],
          "name": "stderr"
        },
        {
          "output_type": "stream",
          "text": [
            "best score: 0.929\n",
            "Best parameters set:\n",
            "\tclf__alpha: 1e-06\n",
            "\tclf__max_iter: 20\n",
            "\tclf__penalty: 'l2'\n",
            "\tlsi__vect__max_df: 1.0\n",
            "\tlsi__vect__ngram_range: (1, 2)\n"
          ],
          "name": "stdout"
        },
        {
          "output_type": "stream",
          "text": [
            "/usr/local/lib/python3.6/dist-packages/sklearn/linear_model/stochastic_gradient.py:561: ConvergenceWarning: Maximum number of iteration reached before convergence. Consider increasing max_iter to improve the fit.\n",
            "  ConvergenceWarning)\n"
          ],
          "name": "stderr"
        }
      ]
    },
    {
      "cell_type": "code",
      "metadata": {
        "id": "8afyTMa9rzHn",
        "colab_type": "code",
        "colab": {}
      },
      "source": [
        "predict=grid_search.predict(test['description'])\n",
        "test['category']=predict\n",
        "submission=test.drop(columns=['author','description','price','ratingValue','pert_alcohol'])\n",
        "submission['category']=submission['category'].astype('int')\n",
        "submission.to_csv('submission1.csv',index=False)"
      ],
      "execution_count": 0,
      "outputs": []
    },
    {
      "cell_type": "code",
      "metadata": {
        "id": "NxpMC_g3u29D",
        "colab_type": "code",
        "outputId": "e6abe87d-82ec-43ee-f5d6-bd60ebf56c45",
        "colab": {
          "base_uri": "https://localhost:8080/",
          "height": 257
        }
      },
      "source": [
        "import spacy\n",
        "!python -m spacy download en_core_web_lg"
      ],
      "execution_count": 0,
      "outputs": [
        {
          "output_type": "stream",
          "text": [
            "Collecting en_core_web_lg==2.1.0 from https://github.com/explosion/spacy-models/releases/download/en_core_web_lg-2.1.0/en_core_web_lg-2.1.0.tar.gz#egg=en_core_web_lg==2.1.0\n",
            "\u001b[?25l  Downloading https://github.com/explosion/spacy-models/releases/download/en_core_web_lg-2.1.0/en_core_web_lg-2.1.0.tar.gz (826.9MB)\n",
            "\u001b[K     |████████████████████████████████| 826.9MB 1.2MB/s \n",
            "\u001b[?25hBuilding wheels for collected packages: en-core-web-lg\n",
            "y\n",
            "  Building wheel for en-core-web-lg (setup.py) ... \u001b[?25l\u001b[?25hdone\n",
            "  Stored in directory: /tmp/pip-ephem-wheel-cache-n7u9c7cx/wheels/b4/d7/70/426d313a459f82ed5e06cc36a50e2bb2f0ec5cb31d8e0bdf09\n",
            "Successfully built en-core-web-lg\n",
            "Installing collected packages: en-core-web-lg\n",
            "Successfully installed en-core-web-lg-2.1.0\n",
            "\u001b[38;5;2m✔ Download and installation successful\u001b[0m\n",
            "You can now load the model via spacy.load('en_core_web_lg')\n"
          ],
          "name": "stdout"
        }
      ]
    },
    {
      "cell_type": "code",
      "metadata": {
        "id": "RIxcEK7o84t-",
        "colab_type": "code",
        "colab": {}
      },
      "source": [
        "import en_core_web_lg\n",
        "nlp=en_core_web_lg.load()"
      ],
      "execution_count": 0,
      "outputs": []
    },
    {
      "cell_type": "code",
      "metadata": {
        "id": "cKFfxFKxvEVD",
        "colab_type": "code",
        "colab": {}
      },
      "source": [
        "def word_vector(docs):\n",
        "  return[nlp(doc).vector for doc in docs]\n",
        " "
      ],
      "execution_count": 0,
      "outputs": []
    },
    {
      "cell_type": "code",
      "metadata": {
        "id": "XtqLlYfZ0sSo",
        "colab_type": "code",
        "colab": {}
      },
      "source": [
        "x=word_vector(train['description'])\n"
      ],
      "execution_count": 0,
      "outputs": []
    },
    {
      "cell_type": "code",
      "metadata": {
        "id": "i6z04xLS08AC",
        "colab_type": "code",
        "colab": {}
      },
      "source": [
        "train['vector']=x"
      ],
      "execution_count": 0,
      "outputs": []
    },
    {
      "cell_type": "code",
      "metadata": {
        "id": "IEm3uTLrEQIs",
        "colab_type": "code",
        "outputId": "450e67e4-5bcf-4b25-fc2f-4f9b840cbdd1",
        "colab": {
          "base_uri": "https://localhost:8080/",
          "height": 206
        }
      },
      "source": [
        "train.head()"
      ],
      "execution_count": 0,
      "outputs": [
        {
          "output_type": "execute_result",
          "data": {
            "text/html": [
              "<div>\n",
              "<style scoped>\n",
              "    .dataframe tbody tr th:only-of-type {\n",
              "        vertical-align: middle;\n",
              "    }\n",
              "\n",
              "    .dataframe tbody tr th {\n",
              "        vertical-align: top;\n",
              "    }\n",
              "\n",
              "    .dataframe thead th {\n",
              "        text-align: right;\n",
              "    }\n",
              "</style>\n",
              "<table border=\"1\" class=\"dataframe\">\n",
              "  <thead>\n",
              "    <tr style=\"text-align: right;\">\n",
              "      <th></th>\n",
              "      <th>id</th>\n",
              "      <th>author</th>\n",
              "      <th>description</th>\n",
              "      <th>price</th>\n",
              "      <th>ratingValue</th>\n",
              "      <th>pert_alcohol</th>\n",
              "      <th>category</th>\n",
              "      <th>vector</th>\n",
              "    </tr>\n",
              "  </thead>\n",
              "  <tbody>\n",
              "    <tr>\n",
              "      <th>0</th>\n",
              "      <td>1</td>\n",
              "      <td>John Hansell</td>\n",
              "      <td>A marriage of 13 and 18 year old bourbons. A m...</td>\n",
              "      <td>85.0</td>\n",
              "      <td>97</td>\n",
              "      <td>51.50</td>\n",
              "      <td>2.0</td>\n",
              "      <td>[-0.02859438, 0.20648584, -0.08717509, -0.1194...</td>\n",
              "    </tr>\n",
              "    <tr>\n",
              "      <th>1</th>\n",
              "      <td>2</td>\n",
              "      <td>Dave Broom</td>\n",
              "      <td>There have been some legendary Bowmores from t...</td>\n",
              "      <td>13500.0</td>\n",
              "      <td>97</td>\n",
              "      <td>42.90</td>\n",
              "      <td>1.0</td>\n",
              "      <td>[-0.010728728, 0.22426474, -0.030888626, -0.06...</td>\n",
              "    </tr>\n",
              "    <tr>\n",
              "      <th>2</th>\n",
              "      <td>3</td>\n",
              "      <td>John Hansell</td>\n",
              "      <td>This bottling celebrates master distiller Park...</td>\n",
              "      <td>150.0</td>\n",
              "      <td>97</td>\n",
              "      <td>50.00</td>\n",
              "      <td>2.0</td>\n",
              "      <td>[-0.0014092241, 0.17896245, -0.06267574, -0.05...</td>\n",
              "    </tr>\n",
              "    <tr>\n",
              "      <th>3</th>\n",
              "      <td>4</td>\n",
              "      <td>John Hansell</td>\n",
              "      <td>What impresses me most is how this whisky evol...</td>\n",
              "      <td>4500.0</td>\n",
              "      <td>97</td>\n",
              "      <td>40.50</td>\n",
              "      <td>1.0</td>\n",
              "      <td>[-0.038889475, 0.20561711, -0.10034756, -0.071...</td>\n",
              "    </tr>\n",
              "    <tr>\n",
              "      <th>5</th>\n",
              "      <td>9</td>\n",
              "      <td>Fred Minnick</td>\n",
              "      <td>A caramel-laden fruit bouquet, followed by une...</td>\n",
              "      <td>150.0</td>\n",
              "      <td>96</td>\n",
              "      <td>54.49</td>\n",
              "      <td>2.0</td>\n",
              "      <td>[-0.10290412, 0.25401792, -0.08515398, -0.0901...</td>\n",
              "    </tr>\n",
              "  </tbody>\n",
              "</table>\n",
              "</div>"
            ],
            "text/plain": [
              "   id  ...                                             vector\n",
              "0   1  ...  [-0.02859438, 0.20648584, -0.08717509, -0.1194...\n",
              "1   2  ...  [-0.010728728, 0.22426474, -0.030888626, -0.06...\n",
              "2   3  ...  [-0.0014092241, 0.17896245, -0.06267574, -0.05...\n",
              "3   4  ...  [-0.038889475, 0.20561711, -0.10034756, -0.071...\n",
              "5   9  ...  [-0.10290412, 0.25401792, -0.08515398, -0.0901...\n",
              "\n",
              "[5 rows x 8 columns]"
            ]
          },
          "metadata": {
            "tags": []
          },
          "execution_count": 68
        }
      ]
    },
    {
      "cell_type": "code",
      "metadata": {
        "id": "BxTotSnJ1AVq",
        "colab_type": "code",
        "outputId": "4507d725-9873-431f-a6bf-017a06227acc",
        "colab": {
          "base_uri": "https://localhost:8080/",
          "height": 127
        }
      },
      "source": [
        "sgdc=SGDClassifier()\n",
        "sgdc.fit(x,train['category'])"
      ],
      "execution_count": 0,
      "outputs": [
        {
          "output_type": "execute_result",
          "data": {
            "text/plain": [
              "SGDClassifier(alpha=0.0001, average=False, class_weight=None,\n",
              "              early_stopping=False, epsilon=0.1, eta0=0.0, fit_intercept=True,\n",
              "              l1_ratio=0.15, learning_rate='optimal', loss='hinge',\n",
              "              max_iter=1000, n_iter_no_change=5, n_jobs=None, penalty='l2',\n",
              "              power_t=0.5, random_state=None, shuffle=True, tol=0.001,\n",
              "              validation_fraction=0.1, verbose=0, warm_start=False)"
            ]
          },
          "metadata": {
            "tags": []
          },
          "execution_count": 69
        }
      ]
    },
    {
      "cell_type": "code",
      "metadata": {
        "id": "z_FMSD_bDW2a",
        "colab_type": "code",
        "colab": {}
      },
      "source": [
        "\n",
        "predict=sgdc.predict(word_vector(test['description']))\n",
        "test['category']=predict\n",
        "submission=test.drop(columns=['author','description','price','ratingValue','pert_alcohol'])\n",
        "submission['category']=submission['category'].astype('int')\n",
        "submission.to_csv('submission2.csv',index=False)\n",
        "#80% ish"
      ],
      "execution_count": 0,
      "outputs": []
    }
  ]
}