{
 "cells": [
  {
   "cell_type": "code",
   "execution_count": null,
   "metadata": {},
   "outputs": [],
   "source": [
    "import pandas as pd\n",
    "\n",
    "url = \"https://raw.githubusercontent.com/LambdaSchool/DS-Unit-4-Sprint-1-NLP/master/module1-text-data/data/yelp_coffeeshop_review_data.csv\"\n",
    "\n",
    "shops = pd.read_csv(url)\n",
    "shops.head()"
   ]
  },
  {
   "cell_type": "code",
   "execution_count": null,
   "metadata": {},
   "outputs": [],
   "source": [
    "def wrangle(df):\n",
    "    df = df.copy()\n",
    "    \n",
    "    df['star_rating'] = df['star_rating'].str.replace('star rating', '').astype(float)\n",
    "    \n",
    "    df['date'] = df['full_review_text'].str.extract(r\"(\\d{1,2}[/. ](?:\\d{1,2}|January|Jan)[/. ]\\d{2}(?:\\d{2})?)\")\n",
    "    df['date'] = pd.to_datetime(df['date'])\n",
    "    \n",
    "    df['full_review_text'] = df['full_review_text'].str.replace('(\\d{1,2}[/. ](?:\\d{1,2}|January|Jan)[/. ]\\d{2}(?:\\d{2})?)', '')\n",
    "    df['full_review_text'] = df['full_review_text'].str.replace('(\\d*)', '').str.strip().str.lstrip('check-in ')\n",
    "#     df['full_review_text'] = df['full_review_text'].apply(lambda x: x.lower())\n",
    "    \n",
    "#     df['coffee_shop_name'] = df['coffee_shop_name'].str.strip()\n",
    "    \n",
    "    df['positive_review'] = df['star_rating'] >= 4.0\n",
    "    \n",
    "    return df"
   ]
  },
  {
   "cell_type": "code",
   "execution_count": null,
   "metadata": {},
   "outputs": [],
   "source": [
    "df = wrangle(shops)\n",
    "df.head()"
   ]
  },
  {
   "cell_type": "code",
   "execution_count": null,
   "metadata": {},
   "outputs": [],
   "source": [
    "# first need to filter for Third Way Cafe\n",
    "\n",
    "gj_df = df[df['coffee_shop_name'] == 'Third Way Cafe']\n",
    "gj_df.head()"
   ]
  },
  {
   "cell_type": "code",
   "execution_count": null,
   "metadata": {},
   "outputs": [],
   "source": []
  },
  {
   "cell_type": "code",
   "execution_count": null,
   "metadata": {},
   "outputs": [],
   "source": [
    "# https://learn.co/lessons/python-api-intro-yelp"
   ]
  },
  {
   "cell_type": "code",
   "execution_count": null,
   "metadata": {},
   "outputs": [],
   "source": [
    "import requests"
   ]
  },
  {
   "cell_type": "code",
   "execution_count": null,
   "metadata": {},
   "outputs": [],
   "source": [
    "response = requests.get('https://flatironschool.com')\n",
    "print('Type:', type(response), '\\n')\n",
    "print('Response:', response, '\\n')\n",
    "print('Response text:\\n', response.text)"
   ]
  },
  {
   "cell_type": "code",
   "execution_count": null,
   "metadata": {},
   "outputs": [],
   "source": [
    "client_id = 'hl_nLnocBvabc607rPQKtg'\n",
    "api_key = '4WPAIityQYb6AolJrhLxeiUjiViDX7RW9Y63iYkzh4aUC_zGsRxGiHxw0a6X2sRN7W-VpW5N6ySE935_0DNmpBdNzZQgRnpEjq3EzsJmCG3ygr3tdHEmzyxlu3SWXXYx'"
   ]
  },
  {
   "cell_type": "code",
   "execution_count": 25,
   "metadata": {},
   "outputs": [
    {
     "name": "stdout",
     "output_type": "stream",
     "text": [
      "<Response [200]>\n",
      "<class 'str'>\n",
      "{\"businesses\": [{\"id\": \"Zo4y2zbF_KskGYfYEMeP3w\", \"alias\": \"third-way-cafe-columbus\", \"name\": \"Third Way Cafe\", \"image_url\": \"https://s3-media3.fl.yelpcdn.com/bphoto/4p8-Vq8MKrT885XPfeg5WQ/o.jpg\", \"is_closed\": false, \"url\": \"https://www.yelp.com/biz/third-way-cafe-columbus?adjust_creative=hl_nLnocBvabc607rPQKtg&utm_campaign=yelp_api_v3&utm_medium=api_v3_business_search&utm_source=hl_nLnocBvabc607rPQKtg\", \"review_count\": 24, \"categories\": [{\"alias\": \"coffee\", \"title\": \"Coffee & Tea\"}], \"rating\": 5.0, \"coordinates\": {\"latitude\": 39.954702, \"longitude\": -83.0821473}, \"transactions\": [], \"price\": \"$\", \"location\": {\"address1\": \"3058 W Broad St\", \"address2\": \"\", \"address3\": null, \"city\": \"Columbus\", \"zip_code\": \"43204\", \"country\": \"US\", \"state\": \"OH\", \"display_address\": [\"3058 W Broad St\", \"Columbus, OH 43204\"]}, \"phone\": \"+16147473475\", \"display_phone\": \"(614) 747-3475\", \"distance\": 9504.710541836119}, {\"id\": \"UdJ452gSkPVyf55zsWFfGw\", \"alias\": \"one-line-coffee-short-north-columbus\", \"name\": \n"
     ]
    }
   ],
   "source": [
    "term = 'Third Way Cafe'\n",
    "location = 'Columbus OH'\n",
    "SEARCH_LIMIT = 50\n",
    "\n",
    "# GET https://api.yelp.com/v3/businesses/Zo4y2zbF_KskGYfYEMeP3w/reviews\n",
    "\n",
    "url = 'https://api.yelp.com/v3/businesses/search'\n",
    "\n",
    "headers = {\n",
    "        'Authorization': 'Bearer {}'.format(api_key),\n",
    "    }\n",
    "\n",
    "url_params = {\n",
    "                'term': term.replace(' ', '+'),\n",
    "                'location': location.replace(' ', '+'),\n",
    "                'limit': SEARCH_LIMIT\n",
    "            }\n",
    "response = requests.get(url, headers=headers, params=url_params)\n",
    "print(response)\n",
    "print(type(response.text))\n",
    "print(response.text[:1000])"
   ]
  },
  {
   "cell_type": "code",
   "execution_count": 22,
   "metadata": {},
   "outputs": [
    {
     "data": {
      "text/plain": [
       "dict_keys(['businesses', 'total', 'region'])"
      ]
     },
     "execution_count": 22,
     "metadata": {},
     "output_type": "execute_result"
    }
   ],
   "source": [
    "response.json().keys()"
   ]
  },
  {
   "cell_type": "code",
   "execution_count": 23,
   "metadata": {},
   "outputs": [
    {
     "name": "stdout",
     "output_type": "stream",
     "text": [
      "businesses\n",
      "<class 'list'>\n",
      "\n",
      "\n",
      "\n",
      "total\n",
      "<class 'int'>\n",
      "\n",
      "\n",
      "\n",
      "region\n",
      "<class 'dict'>\n",
      "\n",
      "\n",
      "\n"
     ]
    }
   ],
   "source": [
    "for key in response.json().keys():\n",
    "    print(key)\n",
    "    value = response.json()[key] #Use standard dictionary formatting\n",
    "    print(type(value)) #What type is it?\n",
    "    print('\\n\\n') #Seperate out data"
   ]
  },
  {
   "cell_type": "code",
   "execution_count": null,
   "metadata": {},
   "outputs": [],
   "source": [
    "response.json()['businesses'][:2]"
   ]
  },
  {
   "cell_type": "code",
   "execution_count": null,
   "metadata": {},
   "outputs": [],
   "source": [
    "response.json()['total']"
   ]
  },
  {
   "cell_type": "code",
   "execution_count": null,
   "metadata": {},
   "outputs": [],
   "source": [
    "response.json()['region']"
   ]
  },
  {
   "cell_type": "code",
   "execution_count": null,
   "metadata": {},
   "outputs": [],
   "source": [
    "df = pd.DataFrame.from_dict(response.json()['businesses'])"
   ]
  },
  {
   "cell_type": "code",
   "execution_count": null,
   "metadata": {},
   "outputs": [],
   "source": [
    "df.describe"
   ]
  },
  {
   "cell_type": "code",
   "execution_count": 21,
   "metadata": {},
   "outputs": [
    {
     "data": {
      "text/html": [
       "<div>\n",
       "<style scoped>\n",
       "    .dataframe tbody tr th:only-of-type {\n",
       "        vertical-align: middle;\n",
       "    }\n",
       "\n",
       "    .dataframe tbody tr th {\n",
       "        vertical-align: top;\n",
       "    }\n",
       "\n",
       "    .dataframe thead th {\n",
       "        text-align: right;\n",
       "    }\n",
       "</style>\n",
       "<table border=\"1\" class=\"dataframe\">\n",
       "  <thead>\n",
       "    <tr style=\"text-align: right;\">\n",
       "      <th></th>\n",
       "      <th>alias</th>\n",
       "      <th>categories</th>\n",
       "      <th>coordinates</th>\n",
       "      <th>display_phone</th>\n",
       "      <th>distance</th>\n",
       "      <th>id</th>\n",
       "      <th>image_url</th>\n",
       "      <th>is_closed</th>\n",
       "      <th>location</th>\n",
       "      <th>name</th>\n",
       "      <th>phone</th>\n",
       "      <th>price</th>\n",
       "      <th>rating</th>\n",
       "      <th>review_count</th>\n",
       "      <th>transactions</th>\n",
       "      <th>url</th>\n",
       "    </tr>\n",
       "  </thead>\n",
       "  <tbody>\n",
       "    <tr>\n",
       "      <th>0</th>\n",
       "      <td>one-line-coffee-short-north-columbus</td>\n",
       "      <td>[{'alias': 'coffee', 'title': 'Coffee &amp; Tea'}]</td>\n",
       "      <td>{'latitude': 39.9775933, 'longitude': -83.0038...</td>\n",
       "      <td>(614) 564-9852</td>\n",
       "      <td>3810.300036</td>\n",
       "      <td>UdJ452gSkPVyf55zsWFfGw</td>\n",
       "      <td>https://s3-media1.fl.yelpcdn.com/bphoto/Xqwo2p...</td>\n",
       "      <td>False</td>\n",
       "      <td>{'address1': '745 N High St', 'address2': '', ...</td>\n",
       "      <td>One Line Coffee - Short North</td>\n",
       "      <td>+16145649852</td>\n",
       "      <td>$</td>\n",
       "      <td>4.5</td>\n",
       "      <td>250</td>\n",
       "      <td>[]</td>\n",
       "      <td>https://www.yelp.com/biz/one-line-coffee-short...</td>\n",
       "    </tr>\n",
       "    <tr>\n",
       "      <th>1</th>\n",
       "      <td>mission-coffee-columbus</td>\n",
       "      <td>[{'alias': 'coffeeroasteries', 'title': 'Coffe...</td>\n",
       "      <td>{'latitude': 39.98068, 'longitude': -83.0047}</td>\n",
       "      <td>(614) 300-0648</td>\n",
       "      <td>3482.656427</td>\n",
       "      <td>HeXUeRmksk3_BRYKPgWVVw</td>\n",
       "      <td>https://s3-media4.fl.yelpcdn.com/bphoto/D0ElM2...</td>\n",
       "      <td>False</td>\n",
       "      <td>{'address1': '11 Price Ave', 'address2': '', '...</td>\n",
       "      <td>Mission Coffee</td>\n",
       "      <td>+16143000648</td>\n",
       "      <td>$</td>\n",
       "      <td>4.5</td>\n",
       "      <td>202</td>\n",
       "      <td>[]</td>\n",
       "      <td>https://www.yelp.com/biz/mission-coffee-columb...</td>\n",
       "    </tr>\n",
       "  </tbody>\n",
       "</table>\n",
       "</div>"
      ],
      "text/plain": [
       "                                  alias  \\\n",
       "0  one-line-coffee-short-north-columbus   \n",
       "1               mission-coffee-columbus   \n",
       "\n",
       "                                          categories  \\\n",
       "0     [{'alias': 'coffee', 'title': 'Coffee & Tea'}]   \n",
       "1  [{'alias': 'coffeeroasteries', 'title': 'Coffe...   \n",
       "\n",
       "                                         coordinates   display_phone  \\\n",
       "0  {'latitude': 39.9775933, 'longitude': -83.0038...  (614) 564-9852   \n",
       "1      {'latitude': 39.98068, 'longitude': -83.0047}  (614) 300-0648   \n",
       "\n",
       "      distance                      id  \\\n",
       "0  3810.300036  UdJ452gSkPVyf55zsWFfGw   \n",
       "1  3482.656427  HeXUeRmksk3_BRYKPgWVVw   \n",
       "\n",
       "                                           image_url  is_closed  \\\n",
       "0  https://s3-media1.fl.yelpcdn.com/bphoto/Xqwo2p...      False   \n",
       "1  https://s3-media4.fl.yelpcdn.com/bphoto/D0ElM2...      False   \n",
       "\n",
       "                                            location  \\\n",
       "0  {'address1': '745 N High St', 'address2': '', ...   \n",
       "1  {'address1': '11 Price Ave', 'address2': '', '...   \n",
       "\n",
       "                            name         phone price  rating  review_count  \\\n",
       "0  One Line Coffee - Short North  +16145649852     $     4.5           250   \n",
       "1                 Mission Coffee  +16143000648     $     4.5           202   \n",
       "\n",
       "  transactions                                                url  \n",
       "0           []  https://www.yelp.com/biz/one-line-coffee-short...  \n",
       "1           []  https://www.yelp.com/biz/mission-coffee-columb...  "
      ]
     },
     "execution_count": 21,
     "metadata": {},
     "output_type": "execute_result"
    }
   ],
   "source": [
    "df.head(2)"
   ]
  },
  {
   "cell_type": "code",
   "execution_count": null,
   "metadata": {},
   "outputs": [],
   "source": []
  },
  {
   "cell_type": "code",
   "execution_count": null,
   "metadata": {},
   "outputs": [],
   "source": []
  },
  {
   "cell_type": "code",
   "execution_count": 46,
   "metadata": {},
   "outputs": [
    {
     "name": "stdout",
     "output_type": "stream",
     "text": [
      "<Response [200]>\n",
      "<class 'str'>\n",
      "{\"reviews\": [{\"id\": \"C0eAjpDUN1E8GXbutGEjwg\", \"url\": \"https://www.yelp.com/biz/third-way-cafe-columbus?adjust_creative=hl_nLnocBvabc607rPQKtg&hrid=C0eAjpDUN1E8GXbutGEjwg&utm_campaign=yelp_api_v3&utm_medium=api_v3_business_reviews&utm_source=hl_nLnocBvabc607rPQKtg\", \"text\": \"MISSION AND CULTURE RULE!\\n\\nWhen Third Way opened, I was living on the far side of town and now I'm in Westgate only a few blocks away and in walking...\", \"rating\": 5, \"time_created\": \"2019-08-06 09:53:34\", \"user\": {\"id\": \"ALj8pXYG9MKtd4CoU6WNfw\", \"profile_url\": \"https://www.yelp.com/user_details?userid=ALj8pXYG9MKtd4CoU6WNfw\", \"image_url\": \"https://s3-media4.fl.yelpcdn.com/photo/gE2h9yYemTadpX7c3SwrHg/o.jpg\", \"name\": \"Mark W.\"}}, {\"id\": \"qC4OXdR_irg82B17g21Q5A\", \"url\": \"https://www.yelp.com/biz/third-way-cafe-columbus?adjust_creative=hl_nLnocBvabc607rPQKtg&hrid=qC4OXdR_irg82B17g21Q5A&utm_campaign=yelp_api_v3&utm_medium=api_v3_business_reviews&utm_source=hl_nLnocBvabc607rPQKtg\", \"text\": \"This is my favorite coffee \n"
     ]
    }
   ],
   "source": [
    "# term = 'Third Way Cafe'\n",
    "# location = 'Columbus OH'\n",
    "# SEARCH_LIMIT = 50\n",
    "\n",
    "url =' https://api.yelp.com/v3/businesses/Zo4y2zbF_KskGYfYEMeP3w/reviews'\n",
    "\n",
    "# url = 'https://api.yelp.com/v3/businesses/search'\n",
    "\n",
    "headers = {\n",
    "        'Authorization': 'Bearer {}'.format(api_key),\n",
    "    }\n",
    "\n",
    "url_params = {\n",
    "#                 'term': term.replace(' ', '+'),\n",
    "#                 'location': location.replace(' ', '+'),\n",
    "#                 'limit': SEARCH_LIMIT\n",
    "            }\n",
    "response = requests.get(url, headers=headers)#, params=url_params)\n",
    "print(response)\n",
    "print(type(response.text))\n",
    "print(response.text[:1000])"
   ]
  },
  {
   "cell_type": "code",
   "execution_count": 47,
   "metadata": {},
   "outputs": [
    {
     "data": {
      "text/plain": [
       "dict_keys(['reviews', 'total', 'possible_languages'])"
      ]
     },
     "execution_count": 47,
     "metadata": {},
     "output_type": "execute_result"
    }
   ],
   "source": [
    "response.json().keys()"
   ]
  },
  {
   "cell_type": "code",
   "execution_count": 48,
   "metadata": {},
   "outputs": [
    {
     "name": "stdout",
     "output_type": "stream",
     "text": [
      "reviews\n",
      "<class 'list'>\n",
      "\n",
      "\n",
      "total\n",
      "<class 'int'>\n",
      "\n",
      "\n",
      "possible_languages\n",
      "<class 'list'>\n",
      "\n",
      "\n"
     ]
    }
   ],
   "source": [
    "for key in response.json().keys():\n",
    "    print(key)\n",
    "    value = response.json()[key] #Use standard dictionary formatting\n",
    "    print(type(value)) #What type is it?\n",
    "    print('\\n') #Seperate out data"
   ]
  },
  {
   "cell_type": "code",
   "execution_count": 49,
   "metadata": {},
   "outputs": [
    {
     "data": {
      "text/plain": [
       "[{'id': 'C0eAjpDUN1E8GXbutGEjwg',\n",
       "  'url': 'https://www.yelp.com/biz/third-way-cafe-columbus?adjust_creative=hl_nLnocBvabc607rPQKtg&hrid=C0eAjpDUN1E8GXbutGEjwg&utm_campaign=yelp_api_v3&utm_medium=api_v3_business_reviews&utm_source=hl_nLnocBvabc607rPQKtg',\n",
       "  'text': \"MISSION AND CULTURE RULE!\\n\\nWhen Third Way opened, I was living on the far side of town and now I'm in Westgate only a few blocks away and in walking...\",\n",
       "  'rating': 5,\n",
       "  'time_created': '2019-08-06 09:53:34',\n",
       "  'user': {'id': 'ALj8pXYG9MKtd4CoU6WNfw',\n",
       "   'profile_url': 'https://www.yelp.com/user_details?userid=ALj8pXYG9MKtd4CoU6WNfw',\n",
       "   'image_url': 'https://s3-media4.fl.yelpcdn.com/photo/gE2h9yYemTadpX7c3SwrHg/o.jpg',\n",
       "   'name': 'Mark W.'}},\n",
       " {'id': 'qC4OXdR_irg82B17g21Q5A',\n",
       "  'url': 'https://www.yelp.com/biz/third-way-cafe-columbus?adjust_creative=hl_nLnocBvabc607rPQKtg&hrid=qC4OXdR_irg82B17g21Q5A&utm_campaign=yelp_api_v3&utm_medium=api_v3_business_reviews&utm_source=hl_nLnocBvabc607rPQKtg',\n",
       "  'text': 'This is my favorite coffee shop. Not only because of the close proximity to my home but because of the mission of the shop. \\n\\n\"Coffee, books, and community...',\n",
       "  'rating': 5,\n",
       "  'time_created': '2019-06-28 16:11:15',\n",
       "  'user': {'id': 'bkIATQiG0c6erj_4oj0tiw',\n",
       "   'profile_url': 'https://www.yelp.com/user_details?userid=bkIATQiG0c6erj_4oj0tiw',\n",
       "   'image_url': 'https://s3-media4.fl.yelpcdn.com/photo/m6MfoF7xvCUKLf4TaQXY2w/o.jpg',\n",
       "   'name': 'Tracy S.'}},\n",
       " {'id': '82giIDDdEMv3ZxvR60sQKg',\n",
       "  'url': 'https://www.yelp.com/biz/third-way-cafe-columbus?adjust_creative=hl_nLnocBvabc607rPQKtg&hrid=82giIDDdEMv3ZxvR60sQKg&utm_campaign=yelp_api_v3&utm_medium=api_v3_business_reviews&utm_source=hl_nLnocBvabc607rPQKtg',\n",
       "  'text': \"I've been meaning to check this place out for a while now, and I'm so glad I finally made it! Kind of an unexpected business in the area, but I'm so glad...\",\n",
       "  'rating': 5,\n",
       "  'time_created': '2019-06-17 15:48:12',\n",
       "  'user': {'id': 'ffGGc-X7ViyU1ZS22DEaMg',\n",
       "   'profile_url': 'https://www.yelp.com/user_details?userid=ffGGc-X7ViyU1ZS22DEaMg',\n",
       "   'image_url': 'https://s3-media2.fl.yelpcdn.com/photo/hStj47ZPIOd0a3TfthCS2Q/o.jpg',\n",
       "   'name': 'Roza M.'}}]"
      ]
     },
     "execution_count": 49,
     "metadata": {},
     "output_type": "execute_result"
    }
   ],
   "source": [
    "response.json()['reviews']"
   ]
  },
  {
   "cell_type": "code",
   "execution_count": 50,
   "metadata": {},
   "outputs": [],
   "source": [
    "df = pd.DataFrame.from_dict(response.json()['reviews'])"
   ]
  },
  {
   "cell_type": "code",
   "execution_count": 51,
   "metadata": {},
   "outputs": [
    {
     "data": {
      "text/plain": [
       "(3, 6)"
      ]
     },
     "execution_count": 51,
     "metadata": {},
     "output_type": "execute_result"
    }
   ],
   "source": [
    "df.shape"
   ]
  },
  {
   "cell_type": "code",
   "execution_count": 52,
   "metadata": {},
   "outputs": [
    {
     "data": {
      "text/html": [
       "<div>\n",
       "<style scoped>\n",
       "    .dataframe tbody tr th:only-of-type {\n",
       "        vertical-align: middle;\n",
       "    }\n",
       "\n",
       "    .dataframe tbody tr th {\n",
       "        vertical-align: top;\n",
       "    }\n",
       "\n",
       "    .dataframe thead th {\n",
       "        text-align: right;\n",
       "    }\n",
       "</style>\n",
       "<table border=\"1\" class=\"dataframe\">\n",
       "  <thead>\n",
       "    <tr style=\"text-align: right;\">\n",
       "      <th></th>\n",
       "      <th>id</th>\n",
       "      <th>rating</th>\n",
       "      <th>text</th>\n",
       "      <th>time_created</th>\n",
       "      <th>url</th>\n",
       "      <th>user</th>\n",
       "    </tr>\n",
       "  </thead>\n",
       "  <tbody>\n",
       "    <tr>\n",
       "      <th>0</th>\n",
       "      <td>C0eAjpDUN1E8GXbutGEjwg</td>\n",
       "      <td>5</td>\n",
       "      <td>MISSION AND CULTURE RULE!\\n\\nWhen Third Way op...</td>\n",
       "      <td>2019-08-06 09:53:34</td>\n",
       "      <td>https://www.yelp.com/biz/third-way-cafe-columb...</td>\n",
       "      <td>{'id': 'ALj8pXYG9MKtd4CoU6WNfw', 'profile_url'...</td>\n",
       "    </tr>\n",
       "    <tr>\n",
       "      <th>1</th>\n",
       "      <td>qC4OXdR_irg82B17g21Q5A</td>\n",
       "      <td>5</td>\n",
       "      <td>This is my favorite coffee shop. Not only beca...</td>\n",
       "      <td>2019-06-28 16:11:15</td>\n",
       "      <td>https://www.yelp.com/biz/third-way-cafe-columb...</td>\n",
       "      <td>{'id': 'bkIATQiG0c6erj_4oj0tiw', 'profile_url'...</td>\n",
       "    </tr>\n",
       "    <tr>\n",
       "      <th>2</th>\n",
       "      <td>82giIDDdEMv3ZxvR60sQKg</td>\n",
       "      <td>5</td>\n",
       "      <td>I've been meaning to check this place out for ...</td>\n",
       "      <td>2019-06-17 15:48:12</td>\n",
       "      <td>https://www.yelp.com/biz/third-way-cafe-columb...</td>\n",
       "      <td>{'id': 'ffGGc-X7ViyU1ZS22DEaMg', 'profile_url'...</td>\n",
       "    </tr>\n",
       "  </tbody>\n",
       "</table>\n",
       "</div>"
      ],
      "text/plain": [
       "                       id  rating  \\\n",
       "0  C0eAjpDUN1E8GXbutGEjwg       5   \n",
       "1  qC4OXdR_irg82B17g21Q5A       5   \n",
       "2  82giIDDdEMv3ZxvR60sQKg       5   \n",
       "\n",
       "                                                text         time_created  \\\n",
       "0  MISSION AND CULTURE RULE!\\n\\nWhen Third Way op...  2019-08-06 09:53:34   \n",
       "1  This is my favorite coffee shop. Not only beca...  2019-06-28 16:11:15   \n",
       "2  I've been meaning to check this place out for ...  2019-06-17 15:48:12   \n",
       "\n",
       "                                                 url  \\\n",
       "0  https://www.yelp.com/biz/third-way-cafe-columb...   \n",
       "1  https://www.yelp.com/biz/third-way-cafe-columb...   \n",
       "2  https://www.yelp.com/biz/third-way-cafe-columb...   \n",
       "\n",
       "                                                user  \n",
       "0  {'id': 'ALj8pXYG9MKtd4CoU6WNfw', 'profile_url'...  \n",
       "1  {'id': 'bkIATQiG0c6erj_4oj0tiw', 'profile_url'...  \n",
       "2  {'id': 'ffGGc-X7ViyU1ZS22DEaMg', 'profile_url'...  "
      ]
     },
     "execution_count": 52,
     "metadata": {},
     "output_type": "execute_result"
    }
   ],
   "source": [
    "df"
   ]
  },
  {
   "cell_type": "code",
   "execution_count": null,
   "metadata": {},
   "outputs": [],
   "source": []
  },
  {
   "cell_type": "code",
   "execution_count": null,
   "metadata": {},
   "outputs": [],
   "source": [
    "#Create a dataframe\n",
    "df = pd.DataFrame.from_dict(response.json())"
   ]
  }
 ],
 "metadata": {
  "kernelspec": {
   "display_name": "U4-S1-NLP",
   "language": "python",
   "name": "u4-s1-nlp"
  },
  "language_info": {
   "codemirror_mode": {
    "name": "ipython",
    "version": 3
   },
   "file_extension": ".py",
   "mimetype": "text/x-python",
   "name": "python",
   "nbconvert_exporter": "python",
   "pygments_lexer": "ipython3",
   "version": "3.7.3"
  }
 },
 "nbformat": 4,
 "nbformat_minor": 4
}
