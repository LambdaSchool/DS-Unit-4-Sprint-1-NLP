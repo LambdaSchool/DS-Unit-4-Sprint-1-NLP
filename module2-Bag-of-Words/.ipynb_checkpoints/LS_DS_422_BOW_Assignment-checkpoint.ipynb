{
 "cells": [
  {
   "cell_type": "code",
   "execution_count": 1,
   "metadata": {
    "colab": {
     "base_uri": "https://localhost:8080/",
     "height": 159
    },
    "colab_type": "code",
    "id": "hyj-f9FDcVFp",
    "outputId": "5dd045fe-6e4c-458c-e2fc-253c3da9c805"
   },
   "outputs": [],
   "source": [
    "import datetime as dt\n",
    "import pandas as pd\n",
    "\n",
    "import nltk\n",
    "import re\n",
    "import requests\n",
    "import string\n",
    "\n",
    "from bs4 import BeautifulSoup, Comment, NavigableString, SoupStrainer\n",
    "from nltk.tokenize import sent_tokenize # Sentence Tokenizer\n",
    "from nltk.tokenize import word_tokenize # Word Tokenizer\n",
    "from nltk.corpus import stopwords\n",
    "from nltk.stem.porter import PorterStemmer\n",
    "from nltk.stem.wordnet import WordNetLemmatizer\n",
    "from nltk.probability import FreqDist\n",
    "\n",
    "from sklearn.feature_extraction.text import CountVectorizer\n",
    "from sklearn.feature_extraction.text import TfidfVectorizer\n",
    "import matplotlib.pyplot as plt\n",
    "import pandas as pd\n",
    "import numpy as np"
   ]
  },
  {
   "cell_type": "markdown",
   "metadata": {
    "colab_type": "text",
    "id": "M7bcmqfGXrFG"
   },
   "source": [
    "# 1) (optional) Scrape 100 Job Listings that contain the title \"Data Scientist\" from indeed.com\n",
    "\n",
    "At a minimum your final dataframe of job listings should contain\n",
    "- Job Title\n",
    "- Job Description"
   ]
  },
  {
   "cell_type": "code",
   "execution_count": 2,
   "metadata": {
    "colab": {},
    "colab_type": "code",
    "id": "KcYlc1URXhlC"
   },
   "outputs": [],
   "source": [
    "class IndeedScraper:\n",
    "    \"\"\" Class meant for scraping Indeed.com for specified job keywords and job locations\"\"\"\n",
    "\n",
    "    def query_generator(self, keyword, location):\n",
    "        \"\"\"A function that takes a search keyword (or keywords) and a city and returns the resulting query url\"\"\"\n",
    "\n",
    "        string1 = f\"https://www.indeed.com/jobs?as_and={keyword}&as_phr=&as_any=&as_not=&as_ttl=&as_cmp=&jt=all&st=&\"\n",
    "        string2 = f\"sr=directhire&as_src=&salary=&radius=50&l={location}&fromage=any&sort=&psf=advsrch\"\n",
    "        query = string1 + string2\n",
    "\n",
    "        return query\n",
    "\n",
    "    def search_results_numeric(self, query):\n",
    "        '''A function that takes a search query url and returns the number of search results'''\n",
    "\n",
    "        search_count = SoupStrainer(id=\"searchCount\")\n",
    "        page = requests.get(query)\n",
    "        soup = BeautifulSoup(page.text, \"html.parser\", parse_only=search_count)\n",
    "        s = soup.get_text()\n",
    "        num_search_results = [int(item) for item in s.split(' ') if item.isdigit()][-1]\n",
    "        result = \"Number of job results:\" + str(num_search_results)\n",
    "        return num_search_results\n",
    "\n",
    "\n",
    "    def search_page_generator(self, query, num_search_results, limit=50):\n",
    "        '''A function that takes a query url and the number of search results corresponding that query, \n",
    "        and returns a list of urls to be scraped.'''\n",
    "\n",
    "        urls_to_scrape = []\n",
    "        converted_search_results = int(num_search_results)\n",
    "        i = int(converted_search_results / 50)\n",
    "        \n",
    "        for page_number in range(i + 1):\n",
    "            \n",
    "            url_suffix = f'&limit={limit}&start={str(page_number * 50)}'\n",
    "            url = f'{query}{url_suffix}'\n",
    "            urls_to_scrape.append(url)\n",
    "            \n",
    "        return urls_to_scrape\n",
    "\n",
    "    def make_soup(self, query, parser='html.parser'):\n",
    "\n",
    "        '''A function that takes a query url and returns a BeautifulSoup object. html.parser is passed in as default parser'''\n",
    "\n",
    "        page = requests.get(query)\n",
    "        soup = BeautifulSoup(page.text, parser)\n",
    "\n",
    "        return soup\n",
    "    \n",
    "\n",
    "    # Map iterables in urls_to_scrape into soup_generator()\n",
    "    def extract_job_postings(self, url_list):\n",
    "        \"\"\"A function that takes a list of urls from search_page_generator() \n",
    "         and returns a list of BeautifulSoup objects corresponding to each job posting in the list of urls\"\"\"\n",
    "    \n",
    "        job_postings = []\n",
    "        \n",
    "        for url in url_list:\n",
    "            \n",
    "            soup = scraper.make_soup(url)\n",
    "            for result in soup.find_all('div', attrs={'data-tn-component': 'organicJob'}):\n",
    "                job_postings.append(result)\n",
    "            \n",
    "        return job_postings\n",
    "    \n",
    "    def process_job_posting(self, job):\n",
    "        \"\"\"\n",
    "        Function that parses through html elements of indeed job postings and prints them in a prettified string output\n",
    "        \"\"\"\n",
    "        \n",
    "        # job id\n",
    "        \n",
    "        \n",
    "        try:\n",
    "            job_id = job.find('h2', attrs={\"class\": \"jobtitle\"})['id']\n",
    "            #print(\"Job ID:\", job_id)\n",
    "        except AttributeError:\n",
    "            job_id = 'NA'\n",
    "        \n",
    "\n",
    "        # job title\n",
    "        \n",
    "        job_title = job.find('a', attrs={'data-tn-element':\"jobTitle\"}).text.strip().capitalize()\n",
    "\n",
    "        #print(\"Job Title:\", job_title)\n",
    "\n",
    "        # * company\n",
    "\n",
    "        company = job.find('span', class_='company').text.strip()\n",
    "\n",
    "        #print(\"Company:\", company)\n",
    "\n",
    "        # location\n",
    "\n",
    "        location = job.find('span', class_='location').get_text()\n",
    "        #print(\"Location:\", location)\n",
    "        \n",
    "        # date_posting\n",
    "\n",
    "        post_date = job.find('span', class_='date').get_text()\n",
    "        #print(\"Date Posted:\", post_date)\n",
    "        \n",
    "        \n",
    "        # salary_range\n",
    "\n",
    "        try:\n",
    "            salary = job.find('span', class_='salary no-wrap').text.strip()\n",
    "            #print(\"Salary:\" , salary)\n",
    "        except AttributeError:\n",
    "            salary = 'NA'\n",
    "\n",
    "        # job_summary\n",
    "\n",
    "        summary = job.find('span', class_='summary').text.strip()\n",
    "        #print(\"Job Summary:\", summary)\n",
    "\n",
    "        # job_link\n",
    "\n",
    "        job_link = \"https://www.indeed.com\" + job.find('h2', attrs={\"class\": \"jobtitle\"}).find('a')['href']\n",
    "        #print(\"Job_link:\", job_link)\n",
    "        \n",
    "        # full description\n",
    "        \n",
    "        request = requests.get(job_link)\n",
    "        request_soup = BeautifulSoup(request.text, \"html.parser\")\n",
    "        description = request_soup.find('div', attrs={\"class\": \"jobsearch-JobComponent-description\"})\n",
    "        description = description.text.strip()\n",
    "        \n",
    "        #print(description)\n",
    "        return [job_id, job_title, company, location, post_date, salary, summary, job_link, description]"
   ]
  },
  {
   "cell_type": "markdown",
   "metadata": {
    "colab_type": "text",
    "id": "5C4xFZNtX1m2"
   },
   "source": [
    "## 2) Use NLTK to tokenize / clean the listings "
   ]
  },
  {
   "cell_type": "code",
   "execution_count": 4,
   "metadata": {
    "colab": {},
    "colab_type": "code",
    "id": "dhUHuMr-X-II"
   },
   "outputs": [
    {
     "name": "stdout",
     "output_type": "stream",
     "text": [
      "['jl_732503f6ca0d3e17', 'Data science engineer', 'Apple', 'Santa Clara Valley, CA', '3 hours ago', 'NA', 'Summary\\nPosted: Mar 26, 2019\\nWeekly Hours: 40\\nRole Number: 200047069\\nThe System Quality team is seeking a data science engineer to help us improve software qual...', 'https://www.indeed.com/rc/clk?jk=732503f6ca0d3e17&fccid=c1099851e9794854&vjs=3', \"Summary\\nPosted: Mar 26, 2019\\nWeekly Hours: 40\\nRole Number: 200047069\\nThe System Quality team is seeking a data science engineer to help us improve software quality for iOS and macOS. We're looking for critical thinkers who would like to play a key role in developing new tools and processes for the SWE Program group.\\nKey Qualifications\\n2+ years working in data science theory and engineering\\nCreative thinker and strong problem solver with meticulous attention to detail\\nAbility to gracefully deal with ambiguity\\nAt ease and adaptable in a dynamic and informal environment\\nHighly organized, creative, motivated, and passionate about achieving results\\nExcellent written and verbal communication skills are needed to facilitate close interaction with development teams, management, and other organizations within Apple\\nEnthusiasm for user-focused design & high-quality technology\\nDescription\\nOn the System Quality team, we are responsible for performing ad hoc data analysis, development and maintenance of distributed data pipelines, and creation of analysis tools. You will need to be familiar with the software development lifecycle of large projects like operating systems.\\nEducation & Experience\\nBS in Computer Science or equivalent experience\"]\n"
     ]
    }
   ],
   "source": [
    "# =========================== EXAMPLE USAGE ==============================================\n",
    "# init class object\n",
    "scraper = IndeedScraper()\n",
    "# define query with keyword/keywords and location\n",
    "test_query = scraper.query_generator(\"Data Science\", \"95136\")\n",
    "# store the amount of search results\n",
    "num_search_results = scraper.search_results_numeric(test_query)\n",
    "# create urls from query and associated number of jobs\n",
    "urls = scraper.search_page_generator(test_query, num_search_results)\n",
    "\n",
    "# you can skip this step, it's built into IndeedScraper.extract_job_postings(), just testing functionality\n",
    "#soup = scraper.make_soup(test_query) \n",
    "\n",
    "# this opens all the links from the pages and stores their full text description for later use\n",
    "job_postings = scraper.extract_job_postings(urls)\n",
    "\n",
    "#============================================== debug ==============================================\n",
    "#print(test_query)\n",
    "#print(number_of_jobs)\n",
    "#print(urls)\n",
    "#print(soup)\n",
    "#print(len(job_postings))\n",
    "#============================================== debug ==============================================\n",
    "\n",
    "# verifying all is working\n",
    "test = scraper.process_job_posting(job_postings[0])\n",
    "print(test)"
   ]
  },
  {
   "cell_type": "markdown",
   "metadata": {},
   "source": [
    "## DF"
   ]
  },
  {
   "cell_type": "code",
   "execution_count": 5,
   "metadata": {},
   "outputs": [],
   "source": [
    "columns = ['ID', 'Title', 'Company', 'Location', 'Date', 'Salary', 'Summary', 'Link', 'FullText']\n",
    "dataframe = pd.DataFrame(columns=columns)"
   ]
  },
  {
   "cell_type": "code",
   "execution_count": 8,
   "metadata": {},
   "outputs": [],
   "source": [
    "for job_number in range(0, 50 - 1):\n",
    "    dataframe.loc[len(dataframe)] = (scraper.process_job_posting(job_postings[job_number]))"
   ]
  },
  {
   "cell_type": "code",
   "execution_count": 9,
   "metadata": {},
   "outputs": [
    {
     "data": {
      "text/html": [
       "<div>\n",
       "<style scoped>\n",
       "    .dataframe tbody tr th:only-of-type {\n",
       "        vertical-align: middle;\n",
       "    }\n",
       "\n",
       "    .dataframe tbody tr th {\n",
       "        vertical-align: top;\n",
       "    }\n",
       "\n",
       "    .dataframe thead th {\n",
       "        text-align: right;\n",
       "    }\n",
       "</style>\n",
       "<table border=\"1\" class=\"dataframe\">\n",
       "  <thead>\n",
       "    <tr style=\"text-align: right;\">\n",
       "      <th></th>\n",
       "      <th>ID</th>\n",
       "      <th>Title</th>\n",
       "      <th>Company</th>\n",
       "      <th>Location</th>\n",
       "      <th>Date</th>\n",
       "      <th>Salary</th>\n",
       "      <th>Summary</th>\n",
       "      <th>Link</th>\n",
       "      <th>FullText</th>\n",
       "    </tr>\n",
       "  </thead>\n",
       "  <tbody>\n",
       "    <tr>\n",
       "      <th>0</th>\n",
       "      <td>jl_732503f6ca0d3e17</td>\n",
       "      <td>Data science engineer</td>\n",
       "      <td>Apple</td>\n",
       "      <td>Santa Clara Valley, CA</td>\n",
       "      <td>3 hours ago</td>\n",
       "      <td>NA</td>\n",
       "      <td>Summary\\nPosted: Mar 26, 2019\\nWeekly Hours: 4...</td>\n",
       "      <td>https://www.indeed.com/rc/clk?jk=732503f6ca0d3...</td>\n",
       "      <td>Summary\\nPosted: Mar 26, 2019\\nWeekly Hours: 4...</td>\n",
       "    </tr>\n",
       "    <tr>\n",
       "      <th>1</th>\n",
       "      <td>jl_13ab629704a47a61</td>\n",
       "      <td>Data engineer</td>\n",
       "      <td>Progressive Staffing</td>\n",
       "      <td>San Francisco, CA</td>\n",
       "      <td>7 hours ago</td>\n",
       "      <td>NA</td>\n",
       "      <td>*Job Description*: \\n Job Title : Data Enginee...</td>\n",
       "      <td>https://www.indeed.com/company/Progressive-Sta...</td>\n",
       "      <td>ContractJob Description: Job Title : Data Engi...</td>\n",
       "    </tr>\n",
       "    <tr>\n",
       "      <th>2</th>\n",
       "      <td>jl_6d374577a3aedec9</td>\n",
       "      <td>Data scientist (multiple levels)</td>\n",
       "      <td>Oracle</td>\n",
       "      <td>San Francisco, CA 94109 (Nob Hill area)</td>\n",
       "      <td>8 hours ago</td>\n",
       "      <td>NA</td>\n",
       "      <td>Data Scientist (Multiple Levels)-19000D7E\\n\\nP...</td>\n",
       "      <td>https://www.indeed.com/rc/clk?jk=6d374577a3aed...</td>\n",
       "      <td>Data Scientist (Multiple Levels)-19000D7E\\n\\n\\...</td>\n",
       "    </tr>\n",
       "    <tr>\n",
       "      <th>3</th>\n",
       "      <td>jl_4ec02868f55b0531</td>\n",
       "      <td>Data science intern</td>\n",
       "      <td>Unity Technologies</td>\n",
       "      <td>San Francisco, CA 94107 (South Of Market area)</td>\n",
       "      <td>10 hours ago</td>\n",
       "      <td>NA</td>\n",
       "      <td>The Unity Monetization Data Science team helps...</td>\n",
       "      <td>https://www.indeed.com/rc/clk?jk=4ec02868f55b0...</td>\n",
       "      <td>InternshipThe Unity Monetization Data Science ...</td>\n",
       "    </tr>\n",
       "    <tr>\n",
       "      <th>4</th>\n",
       "      <td>jl_c2ed3e2929985836</td>\n",
       "      <td>Data scientist, lifecyle</td>\n",
       "      <td>Slack</td>\n",
       "      <td>San Francisco, CA</td>\n",
       "      <td>4 days ago</td>\n",
       "      <td>NA</td>\n",
       "      <td>Slack is hiring experienced data scientists to...</td>\n",
       "      <td>https://www.indeed.com/rc/clk?jk=c2ed3e2929985...</td>\n",
       "      <td>Slack is hiring experienced data scientists to...</td>\n",
       "    </tr>\n",
       "  </tbody>\n",
       "</table>\n",
       "</div>"
      ],
      "text/plain": [
       "                    ID                             Title  \\\n",
       "0  jl_732503f6ca0d3e17             Data science engineer   \n",
       "1  jl_13ab629704a47a61                     Data engineer   \n",
       "2  jl_6d374577a3aedec9  Data scientist (multiple levels)   \n",
       "3  jl_4ec02868f55b0531               Data science intern   \n",
       "4  jl_c2ed3e2929985836          Data scientist, lifecyle   \n",
       "\n",
       "                Company                                        Location  \\\n",
       "0                 Apple                          Santa Clara Valley, CA   \n",
       "1  Progressive Staffing                               San Francisco, CA   \n",
       "2                Oracle         San Francisco, CA 94109 (Nob Hill area)   \n",
       "3    Unity Technologies  San Francisco, CA 94107 (South Of Market area)   \n",
       "4                 Slack                               San Francisco, CA   \n",
       "\n",
       "           Date Salary                                            Summary  \\\n",
       "0   3 hours ago     NA  Summary\\nPosted: Mar 26, 2019\\nWeekly Hours: 4...   \n",
       "1   7 hours ago     NA  *Job Description*: \\n Job Title : Data Enginee...   \n",
       "2   8 hours ago     NA  Data Scientist (Multiple Levels)-19000D7E\\n\\nP...   \n",
       "3  10 hours ago     NA  The Unity Monetization Data Science team helps...   \n",
       "4    4 days ago     NA  Slack is hiring experienced data scientists to...   \n",
       "\n",
       "                                                Link  \\\n",
       "0  https://www.indeed.com/rc/clk?jk=732503f6ca0d3...   \n",
       "1  https://www.indeed.com/company/Progressive-Sta...   \n",
       "2  https://www.indeed.com/rc/clk?jk=6d374577a3aed...   \n",
       "3  https://www.indeed.com/rc/clk?jk=4ec02868f55b0...   \n",
       "4  https://www.indeed.com/rc/clk?jk=c2ed3e2929985...   \n",
       "\n",
       "                                            FullText  \n",
       "0  Summary\\nPosted: Mar 26, 2019\\nWeekly Hours: 4...  \n",
       "1  ContractJob Description: Job Title : Data Engi...  \n",
       "2  Data Scientist (Multiple Levels)-19000D7E\\n\\n\\...  \n",
       "3  InternshipThe Unity Monetization Data Science ...  \n",
       "4  Slack is hiring experienced data scientists to...  "
      ]
     },
     "execution_count": 9,
     "metadata": {},
     "output_type": "execute_result"
    }
   ],
   "source": [
    "dataframe.head()"
   ]
  },
  {
   "cell_type": "code",
   "execution_count": 24,
   "metadata": {},
   "outputs": [
    {
     "data": {
      "text/plain": [
       "\"Summary\\nPosted: Mar 26, 2019\\nWeekly Hours: 40\\nRole Number: 200047069\\nThe System Quality team is seeking a data science engineer to help us improve software quality for iOS and macOS. We're looking for critical thinkers who would like to play a key role in developing new tools and processes for the SWE Program group.\\nKey Qualifications\\n2+ years working in data science theory and engineering\\nCreative thinker and strong problem solver with meticulous attention to detail\\nAbility to gracefully deal with ambiguity\\nAt ease and adaptable in a dynamic and informal environment\\nHighly organized, creative, motivated, and passionate about achieving results\\nExcellent written and verbal communication skills are needed to facilitate close interaction with development teams, management, and other organizations within Apple\\nEnthusiasm for user-focused design & high-quality technology\\nDescription\\nOn the System Quality team, we are responsible for performing ad hoc data analysis, development and maintenance of distributed data pipelines, and creation of analysis tools. You will need to be familiar with the software development lifecycle of large projects like operating systems.\\nEducation & Experience\\nBS in Computer Science or equivalent experience\""
      ]
     },
     "execution_count": 24,
     "metadata": {},
     "output_type": "execute_result"
    }
   ],
   "source": []
  },
  {
   "cell_type": "markdown",
   "metadata": {
    "colab_type": "text",
    "id": "-lgCZNL_YycP"
   },
   "source": [
    "# 3) Use Scikit-Learn's CountVectorizer to get word counts for each listing."
   ]
  },
  {
   "cell_type": "code",
   "execution_count": 25,
   "metadata": {
    "colab": {},
    "colab_type": "code",
    "id": "X2PZ8Pj_YxcF"
   },
   "outputs": [
    {
     "name": "stdout",
     "output_type": "stream",
     "text": [
      "99\n"
     ]
    }
   ],
   "source": [
    "#Extract listing text\n",
    "\n",
    "tokenized_listings = []\n",
    "for listing in dataframe['FullText']:\n",
    "    split_listing = listing.split(\" \")\n",
    "    table = str.maketrans('', '', string.punctuation)\n",
    "    stripped = [l.translate(table) for l in split_listing]\n",
    "    lowercase = [x.lower() for x in stripped]\n",
    "\n",
    "    tokenized_listings.append(lowercase)\n",
    "\n",
    "print(len(tokenized_listings))\n",
    "#print(tokenized_listings)"
   ]
  },
  {
   "cell_type": "code",
   "execution_count": 30,
   "metadata": {},
   "outputs": [],
   "source": [
    "import string\n",
    "table = str.maketrans('','', string.punctuation)\n",
    "stop_words = set(stopwords.words('english'))\n",
    "\n",
    "cleaned_listings = []\n",
    "\n",
    "for listing in dataframe['FullText']:\n",
    "  # Tokenize by word\n",
    "  tokens = word_tokenize(listing)\n",
    "  #print(\"Tokens:\", tokens)\n",
    "  # Make all words lowercase\n",
    "  lowercase_tokens = [w.lower() for w in tokens]\n",
    "  #print(\"Lowercase:\", lowercase_tokens)\n",
    "  # Strip punctuation from within words\n",
    "  no_punctuation = [x.translate(table) for x in lowercase_tokens]\n",
    "  #print(\"No Punctuation:\", no_punctuation)\n",
    "  # Remove words that aren't alphabetic\n",
    "  alphabetic = [word for word in no_punctuation if word.isalpha()]\n",
    "  #print(\"Alphabetic:\", alphabetic)\n",
    "  # Remove stopwords\n",
    "  words = [w for w in alphabetic if not w in stop_words]\n",
    "  #print(\"Cleaned Words:\", words)\n",
    "  #print(\"--------------------------------\")\n",
    "  # Append to list\n",
    "  cleaned_listings.append(words)\n",
    " "
   ]
  },
  {
   "cell_type": "code",
   "execution_count": 16,
   "metadata": {},
   "outputs": [
    {
     "name": "stderr",
     "output_type": "stream",
     "text": [
      "[nltk_data] Downloading package punkt to /home/xailus/nltk_data...\n",
      "[nltk_data]   Unzipping tokenizers/punkt.zip.\n",
      "[nltk_data] Downloading package stopwords to /home/xailus/nltk_data...\n",
      "[nltk_data]   Unzipping corpora/stopwords.zip.\n"
     ]
    },
    {
     "data": {
      "text/plain": [
       "True"
      ]
     },
     "execution_count": 16,
     "metadata": {},
     "output_type": "execute_result"
    }
   ],
   "source": [
    "nltk.download('punkt')\n",
    "nltk.download('stopwords')"
   ]
  },
  {
   "cell_type": "code",
   "execution_count": 17,
   "metadata": {},
   "outputs": [],
   "source": [
    "from nltk.tokenize import sent_tokenize # Sentence Tokenizer\n",
    "from nltk.tokenize import word_tokenize # Word Tokenizer"
   ]
  },
  {
   "cell_type": "code",
   "execution_count": 18,
   "metadata": {},
   "outputs": [
    {
     "name": "stderr",
     "output_type": "stream",
     "text": [
      "[nltk_data] Downloading package wordnet to /home/xailus/nltk_data...\n",
      "[nltk_data]   Unzipping corpora/wordnet.zip.\n"
     ]
    }
   ],
   "source": [
    "nltk.download('wordnet')\n",
    "from nltk.stem.wordnet import WordNetLemmatizer"
   ]
  },
  {
   "cell_type": "code",
   "execution_count": 31,
   "metadata": {},
   "outputs": [
    {
     "name": "stdout",
     "output_type": "stream",
     "text": [
      "99\n"
     ]
    }
   ],
   "source": [
    "lemmatizer = WordNetLemmatizer()\n",
    "\n",
    "lemmatized_listings = []\n",
    "\n",
    "for listing in cleaned_listings:\n",
    "  lemmas = [lemmatizer.lemmatize(word) for word in listing]\n",
    "  lemmatized_listings.append(lemmas)\n",
    "  \n",
    "print(len(lemmatized_listings))"
   ]
  },
  {
   "cell_type": "code",
   "execution_count": 32,
   "metadata": {},
   "outputs": [
    {
     "name": "stdout",
     "output_type": "stream",
     "text": [
      "25768\n"
     ]
    }
   ],
   "source": [
    "all_the_words = []\n",
    "for listing in lemmatized_listings:\n",
    "  for word in listing:\n",
    "    all_the_words.append(word)\n",
    "    \n",
    "print(len(all_the_words))"
   ]
  },
  {
   "cell_type": "code",
   "execution_count": 33,
   "metadata": {},
   "outputs": [
    {
     "name": "stdout",
     "output_type": "stream",
     "text": [
      "<FreqDist with 2741 samples and 25768 outcomes>\n"
     ]
    },
    {
     "data": {
      "text/plain": [
       "[('data', 803),\n",
       " ('experience', 368),\n",
       " ('team', 272),\n",
       " ('work', 250),\n",
       " ('business', 235),\n",
       " ('science', 200),\n",
       " ('product', 191),\n",
       " ('learning', 184),\n",
       " ('skill', 165),\n",
       " ('engineering', 130),\n",
       " ('analysis', 124),\n",
       " ('machine', 124),\n",
       " ('opportunity', 121),\n",
       " ('help', 110),\n",
       " ('technology', 110),\n",
       " ('problem', 108),\n",
       " ('customer', 107),\n",
       " ('insight', 103),\n",
       " ('company', 102),\n",
       " ('model', 98),\n",
       " ('analytics', 98),\n",
       " ('world', 98),\n",
       " ('tool', 96),\n",
       " ('python', 96),\n",
       " ('solution', 92),\n",
       " ('ability', 90),\n",
       " ('platform', 90),\n",
       " ('u', 86),\n",
       " ('build', 80),\n",
       " ('people', 80),\n",
       " ('working', 78),\n",
       " ('large', 78),\n",
       " ('scientist', 78),\n",
       " ('environment', 76),\n",
       " ('understanding', 76),\n",
       " ('make', 75),\n",
       " ('role', 74),\n",
       " ('knowledge', 74),\n",
       " ('etc', 73),\n",
       " ('design', 72),\n",
       " ('research', 70),\n",
       " ('user', 69),\n",
       " ('strong', 68),\n",
       " ('using', 68),\n",
       " ('like', 66),\n",
       " ('sql', 66),\n",
       " ('partner', 66),\n",
       " ('year', 65),\n",
       " ('development', 64),\n",
       " ('degree', 63)]"
      ]
     },
     "execution_count": 33,
     "metadata": {},
     "output_type": "execute_result"
    }
   ],
   "source": [
    "fdist = FreqDist(all_the_words)\n",
    "print(fdist)\n",
    "\n",
    "fdist.most_common(50)"
   ]
  },
  {
   "cell_type": "code",
   "execution_count": 35,
   "metadata": {},
   "outputs": [],
   "source": [
    "lemmatized_job_listings = []\n",
    "for listing in lemmatized_listings:\n",
    "  new_listing = \" \".join(listing)\n",
    "  lemmatized_job_listings.append(new_listing)\n",
    "  \n",
    "#print(lemmatized_job_listings)"
   ]
  },
  {
   "cell_type": "code",
   "execution_count": 36,
   "metadata": {},
   "outputs": [
    {
     "name": "stdout",
     "output_type": "stream",
     "text": [
      "[[0 1 0 ... 0 0 0]\n",
      " [0 1 0 ... 0 0 0]\n",
      " [0 1 0 ... 0 0 0]\n",
      " ...\n",
      " [0 0 0 ... 0 0 0]\n",
      " [0 1 0 ... 0 0 0]\n",
      " [0 1 0 ... 0 0 0]]\n"
     ]
    }
   ],
   "source": [
    "# List of document strings as text\n",
    "text = lemmatized_job_listings\n",
    "# Instantiate vectorizer object\n",
    "vectorizer = CountVectorizer()\n",
    "# Create a vocabulary and get word counts per document\n",
    "bag_of_words = vectorizer.fit_transform(lemmatized_job_listings)\n",
    "# Print word counts\n",
    "print(bag_of_words.toarray())\n",
    "\n",
    "# Get feature names to use as dataframe column headers\n",
    "feature_names = vectorizer.get_feature_names()"
   ]
  },
  {
   "cell_type": "code",
   "execution_count": 40,
   "metadata": {},
   "outputs": [
    {
     "data": {
      "text/html": [
       "<div>\n",
       "<style scoped>\n",
       "    .dataframe tbody tr th:only-of-type {\n",
       "        vertical-align: middle;\n",
       "    }\n",
       "\n",
       "    .dataframe tbody tr th {\n",
       "        vertical-align: top;\n",
       "    }\n",
       "\n",
       "    .dataframe thead th {\n",
       "        text-align: right;\n",
       "    }\n",
       "</style>\n",
       "<table border=\"1\" class=\"dataframe\">\n",
       "  <thead>\n",
       "    <tr style=\"text-align: right;\">\n",
       "      <th></th>\n",
       "      <th>ab</th>\n",
       "      <th>ability</th>\n",
       "      <th>able</th>\n",
       "      <th>abm</th>\n",
       "      <th>absence</th>\n",
       "      <th>abstract</th>\n",
       "      <th>abuse</th>\n",
       "      <th>abusive</th>\n",
       "      <th>academia</th>\n",
       "      <th>academic</th>\n",
       "      <th>...</th>\n",
       "      <th>wwwparkericiorg</th>\n",
       "      <th>wwwparkericiorgoverview</th>\n",
       "      <th>xml</th>\n",
       "      <th>xr</th>\n",
       "      <th>yahoo</th>\n",
       "      <th>year</th>\n",
       "      <th>yelp</th>\n",
       "      <th>yet</th>\n",
       "      <th>york</th>\n",
       "      <th>zeppelin</th>\n",
       "    </tr>\n",
       "  </thead>\n",
       "  <tbody>\n",
       "    <tr>\n",
       "      <th>0</th>\n",
       "      <td>0</td>\n",
       "      <td>1</td>\n",
       "      <td>0</td>\n",
       "      <td>0</td>\n",
       "      <td>0</td>\n",
       "      <td>0</td>\n",
       "      <td>0</td>\n",
       "      <td>0</td>\n",
       "      <td>0</td>\n",
       "      <td>0</td>\n",
       "      <td>...</td>\n",
       "      <td>0</td>\n",
       "      <td>0</td>\n",
       "      <td>0</td>\n",
       "      <td>0</td>\n",
       "      <td>0</td>\n",
       "      <td>1</td>\n",
       "      <td>0</td>\n",
       "      <td>0</td>\n",
       "      <td>0</td>\n",
       "      <td>0</td>\n",
       "    </tr>\n",
       "    <tr>\n",
       "      <th>1</th>\n",
       "      <td>0</td>\n",
       "      <td>1</td>\n",
       "      <td>0</td>\n",
       "      <td>0</td>\n",
       "      <td>0</td>\n",
       "      <td>0</td>\n",
       "      <td>0</td>\n",
       "      <td>0</td>\n",
       "      <td>0</td>\n",
       "      <td>0</td>\n",
       "      <td>...</td>\n",
       "      <td>0</td>\n",
       "      <td>0</td>\n",
       "      <td>0</td>\n",
       "      <td>0</td>\n",
       "      <td>0</td>\n",
       "      <td>2</td>\n",
       "      <td>0</td>\n",
       "      <td>0</td>\n",
       "      <td>0</td>\n",
       "      <td>0</td>\n",
       "    </tr>\n",
       "    <tr>\n",
       "      <th>2</th>\n",
       "      <td>0</td>\n",
       "      <td>1</td>\n",
       "      <td>0</td>\n",
       "      <td>0</td>\n",
       "      <td>0</td>\n",
       "      <td>0</td>\n",
       "      <td>0</td>\n",
       "      <td>0</td>\n",
       "      <td>0</td>\n",
       "      <td>2</td>\n",
       "      <td>...</td>\n",
       "      <td>0</td>\n",
       "      <td>0</td>\n",
       "      <td>0</td>\n",
       "      <td>0</td>\n",
       "      <td>0</td>\n",
       "      <td>2</td>\n",
       "      <td>0</td>\n",
       "      <td>0</td>\n",
       "      <td>0</td>\n",
       "      <td>0</td>\n",
       "    </tr>\n",
       "    <tr>\n",
       "      <th>3</th>\n",
       "      <td>0</td>\n",
       "      <td>0</td>\n",
       "      <td>0</td>\n",
       "      <td>0</td>\n",
       "      <td>0</td>\n",
       "      <td>0</td>\n",
       "      <td>0</td>\n",
       "      <td>0</td>\n",
       "      <td>0</td>\n",
       "      <td>0</td>\n",
       "      <td>...</td>\n",
       "      <td>0</td>\n",
       "      <td>0</td>\n",
       "      <td>0</td>\n",
       "      <td>0</td>\n",
       "      <td>0</td>\n",
       "      <td>0</td>\n",
       "      <td>0</td>\n",
       "      <td>0</td>\n",
       "      <td>0</td>\n",
       "      <td>0</td>\n",
       "    </tr>\n",
       "    <tr>\n",
       "      <th>4</th>\n",
       "      <td>0</td>\n",
       "      <td>3</td>\n",
       "      <td>0</td>\n",
       "      <td>0</td>\n",
       "      <td>0</td>\n",
       "      <td>0</td>\n",
       "      <td>0</td>\n",
       "      <td>0</td>\n",
       "      <td>0</td>\n",
       "      <td>0</td>\n",
       "      <td>...</td>\n",
       "      <td>0</td>\n",
       "      <td>0</td>\n",
       "      <td>0</td>\n",
       "      <td>0</td>\n",
       "      <td>0</td>\n",
       "      <td>1</td>\n",
       "      <td>0</td>\n",
       "      <td>0</td>\n",
       "      <td>0</td>\n",
       "      <td>0</td>\n",
       "    </tr>\n",
       "  </tbody>\n",
       "</table>\n",
       "<p>5 rows × 2733 columns</p>\n",
       "</div>"
      ],
      "text/plain": [
       "   ab  ability  able  abm  absence  abstract  abuse  abusive  academia  \\\n",
       "0   0        1     0    0        0         0      0        0         0   \n",
       "1   0        1     0    0        0         0      0        0         0   \n",
       "2   0        1     0    0        0         0      0        0         0   \n",
       "3   0        0     0    0        0         0      0        0         0   \n",
       "4   0        3     0    0        0         0      0        0         0   \n",
       "\n",
       "   academic    ...     wwwparkericiorg  wwwparkericiorgoverview  xml  xr  \\\n",
       "0         0    ...                   0                        0    0   0   \n",
       "1         0    ...                   0                        0    0   0   \n",
       "2         2    ...                   0                        0    0   0   \n",
       "3         0    ...                   0                        0    0   0   \n",
       "4         0    ...                   0                        0    0   0   \n",
       "\n",
       "   yahoo  year  yelp  yet  york  zeppelin  \n",
       "0      0     1     0    0     0         0  \n",
       "1      0     2     0    0     0         0  \n",
       "2      0     2     0    0     0         0  \n",
       "3      0     0     0    0     0         0  \n",
       "4      0     1     0    0     0         0  \n",
       "\n",
       "[5 rows x 2733 columns]"
      ]
     },
     "execution_count": 40,
     "metadata": {},
     "output_type": "execute_result"
    }
   ],
   "source": [
    "words_df = pd.DataFrame(bag_of_words.toarray(), columns=feature_names)\n",
    "words_df.head(5)"
   ]
  },
  {
   "cell_type": "code",
   "execution_count": 41,
   "metadata": {},
   "outputs": [
    {
     "data": {
      "text/plain": [
       "(99, 2733)"
      ]
     },
     "execution_count": 41,
     "metadata": {},
     "output_type": "execute_result"
    }
   ],
   "source": [
    "words_df.shape"
   ]
  },
  {
   "cell_type": "markdown",
   "metadata": {
    "colab_type": "text",
    "id": "Zo1iH_UeY7_n"
   },
   "source": [
    "# 4) Visualize the most common word counts"
   ]
  },
  {
   "cell_type": "code",
   "execution_count": 38,
   "metadata": {
    "colab": {},
    "colab_type": "code",
    "id": "M5LB00uyZKV5"
   },
   "outputs": [
    {
     "data": {
      "image/png": "[encoded data removed]",
      "text/plain": [
       "<Figure size 432x288 with 1 Axes>"
      ]
     },
     "metadata": {
      "needs_background": "light"
     },
     "output_type": "display_data"
    }
   ],
   "source": [
    "fdist.plot(50,cumulative=False)\n",
    "plt.show()"
   ]
  },
  {
   "cell_type": "markdown",
   "metadata": {
    "colab_type": "text",
    "id": "bwFsTqrVZMYi"
   },
   "source": [
    " # 5) Use Scikit-Learn's tfidfVectorizer to get a TF-IDF feature matrix"
   ]
  },
  {
   "cell_type": "code",
   "execution_count": 43,
   "metadata": {
    "colab": {},
    "colab_type": "code",
    "id": "-gx2gZCbl5Np"
   },
   "outputs": [
    {
     "name": "stdout",
     "output_type": "stream",
     "text": [
      "[[0.37544592 0.         0.         ... 0.4500903  0.18772296 0.        ]\n",
      " [0.         0.         0.         ... 0.         0.18118183 0.        ]\n",
      " [0.18274603 0.05912622 0.16919533 ... 0.29210497 0.09137301 0.17525246]\n",
      " ...\n",
      " [0.09750944 0.         0.         ... 0.38965269 0.19501888 0.22442647]\n",
      " [0.16607328 0.         0.23063831 ... 0.06636373 0.16607328 0.25482142]\n",
      " [0.09706041 0.12561291 0.         ... 0.         0.         0.22339299]]\n"
     ]
    },
    {
     "data": {
      "text/html": [
       "<div>\n",
       "<style scoped>\n",
       "    .dataframe tbody tr th:only-of-type {\n",
       "        vertical-align: middle;\n",
       "    }\n",
       "\n",
       "    .dataframe tbody tr th {\n",
       "        vertical-align: top;\n",
       "    }\n",
       "\n",
       "    .dataframe thead th {\n",
       "        text-align: right;\n",
       "    }\n",
       "</style>\n",
       "<table border=\"1\" class=\"dataframe\">\n",
       "  <thead>\n",
       "    <tr style=\"text-align: right;\">\n",
       "      <th></th>\n",
       "      <th>analysis</th>\n",
       "      <th>analytics</th>\n",
       "      <th>business</th>\n",
       "      <th>company</th>\n",
       "      <th>customer</th>\n",
       "      <th>data</th>\n",
       "      <th>engineering</th>\n",
       "      <th>experience</th>\n",
       "      <th>help</th>\n",
       "      <th>insight</th>\n",
       "      <th>learning</th>\n",
       "      <th>machine</th>\n",
       "      <th>opportunity</th>\n",
       "      <th>problem</th>\n",
       "      <th>product</th>\n",
       "      <th>science</th>\n",
       "      <th>skill</th>\n",
       "      <th>team</th>\n",
       "      <th>technology</th>\n",
       "      <th>work</th>\n",
       "    </tr>\n",
       "  </thead>\n",
       "  <tbody>\n",
       "    <tr>\n",
       "      <th>0</th>\n",
       "      <td>0.375446</td>\n",
       "      <td>0.000000</td>\n",
       "      <td>0.000000</td>\n",
       "      <td>0.000000</td>\n",
       "      <td>0.0</td>\n",
       "      <td>0.500311</td>\n",
       "      <td>0.175696</td>\n",
       "      <td>0.255215</td>\n",
       "      <td>0.187723</td>\n",
       "      <td>0.000000</td>\n",
       "      <td>0.000000</td>\n",
       "      <td>0.000000</td>\n",
       "      <td>0.000000</td>\n",
       "      <td>0.179573</td>\n",
       "      <td>0.000000</td>\n",
       "      <td>0.432061</td>\n",
       "      <td>0.144020</td>\n",
       "      <td>0.450090</td>\n",
       "      <td>0.187723</td>\n",
       "      <td>0.000000</td>\n",
       "    </tr>\n",
       "    <tr>\n",
       "      <th>1</th>\n",
       "      <td>0.000000</td>\n",
       "      <td>0.000000</td>\n",
       "      <td>0.000000</td>\n",
       "      <td>0.000000</td>\n",
       "      <td>0.0</td>\n",
       "      <td>0.965755</td>\n",
       "      <td>0.000000</td>\n",
       "      <td>0.123161</td>\n",
       "      <td>0.000000</td>\n",
       "      <td>0.000000</td>\n",
       "      <td>0.000000</td>\n",
       "      <td>0.000000</td>\n",
       "      <td>0.000000</td>\n",
       "      <td>0.000000</td>\n",
       "      <td>0.000000</td>\n",
       "      <td>0.000000</td>\n",
       "      <td>0.139002</td>\n",
       "      <td>0.000000</td>\n",
       "      <td>0.181182</td>\n",
       "      <td>0.000000</td>\n",
       "    </tr>\n",
       "    <tr>\n",
       "      <th>2</th>\n",
       "      <td>0.182746</td>\n",
       "      <td>0.059126</td>\n",
       "      <td>0.169195</td>\n",
       "      <td>0.051328</td>\n",
       "      <td>0.0</td>\n",
       "      <td>0.426166</td>\n",
       "      <td>0.171038</td>\n",
       "      <td>0.310561</td>\n",
       "      <td>0.045687</td>\n",
       "      <td>0.148556</td>\n",
       "      <td>0.368632</td>\n",
       "      <td>0.274119</td>\n",
       "      <td>0.243155</td>\n",
       "      <td>0.305921</td>\n",
       "      <td>0.296092</td>\n",
       "      <td>0.140202</td>\n",
       "      <td>0.070101</td>\n",
       "      <td>0.292105</td>\n",
       "      <td>0.091373</td>\n",
       "      <td>0.175252</td>\n",
       "    </tr>\n",
       "    <tr>\n",
       "      <th>3</th>\n",
       "      <td>0.000000</td>\n",
       "      <td>0.000000</td>\n",
       "      <td>0.107857</td>\n",
       "      <td>0.130881</td>\n",
       "      <td>0.0</td>\n",
       "      <td>0.194049</td>\n",
       "      <td>0.109032</td>\n",
       "      <td>0.237569</td>\n",
       "      <td>0.174743</td>\n",
       "      <td>0.000000</td>\n",
       "      <td>0.731087</td>\n",
       "      <td>0.291239</td>\n",
       "      <td>0.206672</td>\n",
       "      <td>0.055719</td>\n",
       "      <td>0.000000</td>\n",
       "      <td>0.044687</td>\n",
       "      <td>0.044687</td>\n",
       "      <td>0.232761</td>\n",
       "      <td>0.116495</td>\n",
       "      <td>0.312812</td>\n",
       "    </tr>\n",
       "    <tr>\n",
       "      <th>4</th>\n",
       "      <td>0.215947</td>\n",
       "      <td>0.000000</td>\n",
       "      <td>0.399869</td>\n",
       "      <td>0.161743</td>\n",
       "      <td>0.0</td>\n",
       "      <td>0.431649</td>\n",
       "      <td>0.000000</td>\n",
       "      <td>0.195725</td>\n",
       "      <td>0.143965</td>\n",
       "      <td>0.000000</td>\n",
       "      <td>0.000000</td>\n",
       "      <td>0.000000</td>\n",
       "      <td>0.191554</td>\n",
       "      <td>0.068857</td>\n",
       "      <td>0.333224</td>\n",
       "      <td>0.055225</td>\n",
       "      <td>0.000000</td>\n",
       "      <td>0.460232</td>\n",
       "      <td>0.071982</td>\n",
       "      <td>0.386572</td>\n",
       "    </tr>\n",
       "  </tbody>\n",
       "</table>\n",
       "</div>"
      ],
      "text/plain": [
       "   analysis  analytics  business   company  customer      data  engineering  \\\n",
       "0  0.375446   0.000000  0.000000  0.000000       0.0  0.500311     0.175696   \n",
       "1  0.000000   0.000000  0.000000  0.000000       0.0  0.965755     0.000000   \n",
       "2  0.182746   0.059126  0.169195  0.051328       0.0  0.426166     0.171038   \n",
       "3  0.000000   0.000000  0.107857  0.130881       0.0  0.194049     0.109032   \n",
       "4  0.215947   0.000000  0.399869  0.161743       0.0  0.431649     0.000000   \n",
       "\n",
       "   experience      help   insight  learning   machine  opportunity   problem  \\\n",
       "0    0.255215  0.187723  0.000000  0.000000  0.000000     0.000000  0.179573   \n",
       "1    0.123161  0.000000  0.000000  0.000000  0.000000     0.000000  0.000000   \n",
       "2    0.310561  0.045687  0.148556  0.368632  0.274119     0.243155  0.305921   \n",
       "3    0.237569  0.174743  0.000000  0.731087  0.291239     0.206672  0.055719   \n",
       "4    0.195725  0.143965  0.000000  0.000000  0.000000     0.191554  0.068857   \n",
       "\n",
       "    product   science     skill      team  technology      work  \n",
       "0  0.000000  0.432061  0.144020  0.450090    0.187723  0.000000  \n",
       "1  0.000000  0.000000  0.139002  0.000000    0.181182  0.000000  \n",
       "2  0.296092  0.140202  0.070101  0.292105    0.091373  0.175252  \n",
       "3  0.000000  0.044687  0.044687  0.232761    0.116495  0.312812  \n",
       "4  0.333224  0.055225  0.000000  0.460232    0.071982  0.386572  "
      ]
     },
     "execution_count": 43,
     "metadata": {},
     "output_type": "execute_result"
    }
   ],
   "source": [
    "from sklearn.feature_extraction.text import TfidfVectorizer\n",
    "\n",
    "# List of document strings as text\n",
    "text = lemmatized_job_listings\n",
    "# Instantiate vectorizer object\n",
    "tfidf = TfidfVectorizer(max_features = 20)\n",
    "# Create a vocabulary and get word counts per document\n",
    "feature_matrix = tfidf.fit_transform(text)\n",
    "# Print word counts\n",
    "print(feature_matrix.toarray())\n",
    "\n",
    "# Get feature names to use as dataframe column headers\n",
    "feature_names = tfidf.get_feature_names()\n",
    "\n",
    "# View Feature Matrix as DataFrame\n",
    "df = pd.DataFrame(feature_matrix.toarray(), columns=feature_names)\n",
    "df.head()"
   ]
  },
  {
   "cell_type": "markdown",
   "metadata": {
    "colab_type": "text",
    "id": "FiDfTWceoRkH"
   },
   "source": [
    "## Stretch Goals\n",
    "\n",
    " - Scrape Job Listings for the job title \"Data Analyst\". How do these differ from Data Scientist Job Listings\n",
    " - Try and identify requirements for experience specific technologies that are asked for in the job listings. How are those distributed among the job listings?\n",
    " - Use a clustering algorithm to cluster documents by their most important terms. Do the clusters reveal any common themes?\n",
    "  - **Hint:** K-means might not be the best algorithm for this. Do a little bit of research to see what might be good for this. Also, remember that algorithms that depend on Euclidean distance break down with high dimensional data."
   ]
  }
 ],
 "metadata": {
  "colab": {
   "collapsed_sections": [],
   "name": "LS_DS_422_BOW_Assignment.ipynb",
   "provenance": [],
   "version": "0.3.2"
  },
  "kernelspec": {
   "display_name": "Python 3",
   "language": "python",
   "name": "python3"
  },
  "language_info": {
   "codemirror_mode": {
    "name": "ipython",
    "version": 3
   },
   "file_extension": ".py",
   "mimetype": "text/x-python",
   "name": "python",
   "nbconvert_exporter": "python",
   "pygments_lexer": "ipython3",
   "version": "3.7.1"
  }
 },
 "nbformat": 4,
 "nbformat_minor": 2
}
