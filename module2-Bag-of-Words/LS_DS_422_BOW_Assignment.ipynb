{
  "nbformat": 4,
  "nbformat_minor": 0,
  "metadata": {
    "colab": {
      "name": "LS_DS_422_BOW_Assignment.ipynb",
      "version": "0.3.2",
      "provenance": [],
      "collapsed_sections": []
    },
    "kernelspec": {
      "name": "python3",
      "display_name": "Python 3"
    }
  },
  "cells": [
    {
      "metadata": {
        "id": "hyj-f9FDcVFp",
        "colab_type": "code",
        "outputId": "611c43d5-3a63-4db4-d51b-3303a438024e",
        "colab": {
          "base_uri": "https://localhost:8080/",
          "height": 363
        }
      },
      "cell_type": "code",
      "source": [
        "import re\n",
        "import string\n",
        "\n",
        "!pip install -U nltk\n",
        "\n",
        "import nltk\n",
        "nltk.download('punkt')\n",
        "nltk.download('stopwords')\n",
        "from nltk.tokenize import sent_tokenize # Sentence Tokenizer\n",
        "from nltk.tokenize import word_tokenize # Word Tokenizer\n",
        "from nltk.corpus import stopwords\n",
        "from nltk.stem.porter import PorterStemmer\n",
        "from nltk.stem.wordnet import WordNetLemmatizer\n",
        "from nltk.probability import FreqDist\n",
        "\n",
        "from sklearn.feature_extraction.text import CountVectorizer\n",
        "from sklearn.feature_extraction.text import TfidfVectorizer\n",
        "import matplotlib.pyplot as plt\n",
        "import pandas as pd\n",
        "import numpy as np"
      ],
      "execution_count": 1,
      "outputs": [
        {
          "output_type": "stream",
          "text": [
            "Collecting nltk\n",
            "\u001b[?25l  Downloading https://files.pythonhosted.org/packages/6f/ed/9c755d357d33bc1931e157f537721efb5b88d2c583fe593cc09603076cc3/nltk-3.4.zip (1.4MB)\n",
            "\r\u001b[K    0% |▎                               | 10kB 14.6MB/s eta 0:00:01\r\u001b[K    1% |▌                               | 20kB 3.4MB/s eta 0:00:01\r\u001b[K    2% |▊                               | 30kB 4.9MB/s eta 0:00:01\r\u001b[K    2% |█                               | 40kB 3.1MB/s eta 0:00:01\r\u001b[K    3% |█▏                              | 51kB 3.8MB/s eta 0:00:01\r\u001b[K    4% |█▍                              | 61kB 4.5MB/s eta 0:00:01\r\u001b[K    5% |█▋                              | 71kB 5.1MB/s eta 0:00:01\r\u001b[K    5% |█▉                              | 81kB 5.8MB/s eta 0:00:01\r\u001b[K    6% |██                              | 92kB 4.5MB/s eta 0:00:01\r\u001b[K    7% |██▎                             | 102kB 4.9MB/s eta 0:00:01\r\u001b[K    7% |██▌                             | 112kB 5.0MB/s eta 0:00:01\r\u001b[K    8% |██▊                             | 122kB 6.7MB/s eta 0:00:01\r\u001b[K    9% |███                             | 133kB 6.6MB/s eta 0:00:01\r\u001b[K    10% |███▏                            | 143kB 11.9MB/s eta 0:00:01\r\u001b[K    10% |███▍                            | 153kB 12.1MB/s eta 0:00:01\r\u001b[K    11% |███▋                            | 163kB 12.1MB/s eta 0:00:01\r\u001b[K    12% |████                            | 174kB 11.8MB/s eta 0:00:01\r\u001b[K    12% |████▏                           | 184kB 11.8MB/s eta 0:00:01\r\u001b[K    13% |████▍                           | 194kB 44.9MB/s eta 0:00:01\r\u001b[K    14% |████▋                           | 204kB 42.2MB/s eta 0:00:01\r\u001b[K    15% |████▉                           | 215kB 14.8MB/s eta 0:00:01\r\u001b[K    15% |█████                           | 225kB 14.7MB/s eta 0:00:01\r\u001b[K    16% |█████▎                          | 235kB 14.8MB/s eta 0:00:01\r\u001b[K    17% |█████▌                          | 245kB 14.8MB/s eta 0:00:01\r\u001b[K    17% |█████▊                          | 256kB 14.8MB/s eta 0:00:01\r\u001b[K    18% |██████                          | 266kB 14.3MB/s eta 0:00:01\r\u001b[K    19% |██████▏                         | 276kB 14.9MB/s eta 0:00:01\r\u001b[K    20% |██████▍                         | 286kB 15.0MB/s eta 0:00:01\r\u001b[K    20% |██████▋                         | 296kB 14.9MB/s eta 0:00:01\r\u001b[K    21% |██████▉                         | 307kB 15.5MB/s eta 0:00:01\r\u001b[K    22% |███████                         | 317kB 50.6MB/s eta 0:00:01\r\u001b[K    22% |███████▎                        | 327kB 52.6MB/s eta 0:00:01\r\u001b[K    23% |███████▌                        | 337kB 54.7MB/s eta 0:00:01\r\u001b[K    24% |███████▉                        | 348kB 47.9MB/s eta 0:00:01\r\u001b[K    25% |████████                        | 358kB 47.7MB/s eta 0:00:01\r\u001b[K    25% |████████▎                       | 368kB 53.4MB/s eta 0:00:01\r\u001b[K    26% |████████▌                       | 378kB 54.3MB/s eta 0:00:01\r\u001b[K    27% |████████▊                       | 389kB 54.1MB/s eta 0:00:01\r\u001b[K    27% |█████████                       | 399kB 18.0MB/s eta 0:00:01\r\u001b[K    28% |█████████▏                      | 409kB 17.7MB/s eta 0:00:01\r\u001b[K    29% |█████████▍                      | 419kB 17.6MB/s eta 0:00:01\r\u001b[K    30% |█████████▋                      | 430kB 17.4MB/s eta 0:00:01\r\u001b[K    30% |█████████▉                      | 440kB 17.5MB/s eta 0:00:01\r\u001b[K    31% |██████████                      | 450kB 17.8MB/s eta 0:00:01\r\u001b[K    32% |██████████▎                     | 460kB 17.7MB/s eta 0:00:01\r\u001b[K    32% |██████████▌                     | 471kB 17.9MB/s eta 0:00:01\r\u001b[K    33% |██████████▊                     | 481kB 17.8MB/s eta 0:00:01\r\u001b[K    34% |███████████                     | 491kB 17.8MB/s eta 0:00:01\r\u001b[K    35% |███████████▏                    | 501kB 52.5MB/s eta 0:00:01\r\u001b[K    35% |███████████▍                    | 512kB 47.8MB/s eta 0:00:01\r\u001b[K    36% |███████████▊                    | 522kB 48.8MB/s eta 0:00:01\r\u001b[K    37% |████████████                    | 532kB 50.7MB/s eta 0:00:01\r\u001b[K    37% |████████████▏                   | 542kB 50.5MB/s eta 0:00:01\r\u001b[K    38% |████████████▍                   | 552kB 56.2MB/s eta 0:00:01\r\u001b[K    39% |████████████▋                   | 563kB 56.7MB/s eta 0:00:01\r\u001b[K    40% |████████████▉                   | 573kB 55.4MB/s eta 0:00:01\r\u001b[K    40% |█████████████                   | 583kB 55.2MB/s eta 0:00:01\r\u001b[K    41% |█████████████▎                  | 593kB 54.2MB/s eta 0:00:01\r\u001b[K    42% |█████████████▌                  | 604kB 54.1MB/s eta 0:00:01\r\u001b[K    42% |█████████████▊                  | 614kB 62.1MB/s eta 0:00:01\r\u001b[K    43% |██████████████                  | 624kB 61.1MB/s eta 0:00:01\r\u001b[K    44% |██████████████▏                 | 634kB 60.9MB/s eta 0:00:01\r\u001b[K    45% |██████████████▍                 | 645kB 22.3MB/s eta 0:00:01\r\u001b[K    45% |██████████████▋                 | 655kB 21.8MB/s eta 0:00:01\r\u001b[K    46% |██████████████▉                 | 665kB 19.4MB/s eta 0:00:01\r\u001b[K    47% |███████████████                 | 675kB 18.9MB/s eta 0:00:01\r\u001b[K    47% |███████████████▎                | 686kB 18.9MB/s eta 0:00:01\r\u001b[K    48% |███████████████▋                | 696kB 19.0MB/s eta 0:00:01\r\u001b[K    49% |███████████████▉                | 706kB 19.0MB/s eta 0:00:01\r\u001b[K    50% |████████████████                | 716kB 19.2MB/s eta 0:00:01\r\u001b[K    50% |████████████████▎               | 727kB 19.3MB/s eta 0:00:01\r\u001b[K    51% |████████████████▌               | 737kB 19.3MB/s eta 0:00:01\r\u001b[K    52% |████████████████▊               | 747kB 42.5MB/s eta 0:00:01\r\u001b[K    52% |█████████████████               | 757kB 43.4MB/s eta 0:00:01\r\u001b[K    53% |█████████████████▏              | 768kB 57.9MB/s eta 0:00:01\r\u001b[K    54% |█████████████████▍              | 778kB 62.5MB/s eta 0:00:01\r\u001b[K    55% |█████████████████▋              | 788kB 62.2MB/s eta 0:00:01\r\u001b[K    55% |█████████████████▉              | 798kB 62.0MB/s eta 0:00:01\r\u001b[K    56% |██████████████████              | 808kB 60.3MB/s eta 0:00:01\r\u001b[K    57% |██████████████████▎             | 819kB 59.6MB/s eta 0:00:01\r\u001b[K    57% |██████████████████▌             | 829kB 59.5MB/s eta 0:00:01\r\u001b[K    58% |██████████████████▊             | 839kB 59.4MB/s eta 0:00:01\r\u001b[K    59% |███████████████████             | 849kB 60.2MB/s eta 0:00:01\r\u001b[K    60% |███████████████████▏            | 860kB 51.9MB/s eta 0:00:01\r\u001b[K    60% |███████████████████▌            | 870kB 51.9MB/s eta 0:00:01\r\u001b[K    61% |███████████████████▊            | 880kB 52.7MB/s eta 0:00:01\r\u001b[K    62% |████████████████████            | 890kB 53.1MB/s eta 0:00:01\r\u001b[K    62% |████████████████████▏           | 901kB 54.5MB/s eta 0:00:01\r\u001b[K    63% |████████████████████▍           | 911kB 54.7MB/s eta 0:00:01\r\u001b[K    64% |████████████████████▋           | 921kB 54.7MB/s eta 0:00:01\r\u001b[K    65% |████████████████████▉           | 931kB 54.5MB/s eta 0:00:01\r\u001b[K    65% |█████████████████████           | 942kB 54.8MB/s eta 0:00:01\r\u001b[K    66% |█████████████████████▎          | 952kB 54.8MB/s eta 0:00:01\r\u001b[K    67% |█████████████████████▌          | 962kB 66.4MB/s eta 0:00:01\r\u001b[K    67% |█████████████████████▊          | 972kB 65.4MB/s eta 0:00:01\r\u001b[K    68% |██████████████████████          | 983kB 65.0MB/s eta 0:00:01\r\u001b[K    69% |██████████████████████▏         | 993kB 63.8MB/s eta 0:00:01\r\u001b[K    70% |██████████████████████▍         | 1.0MB 62.1MB/s eta 0:00:01\r\u001b[K    70% |██████████████████████▋         | 1.0MB 63.2MB/s eta 0:00:01\r\u001b[K    71% |██████████████████████▉         | 1.0MB 60.2MB/s eta 0:00:01\r\u001b[K    72% |███████████████████████▏        | 1.0MB 58.9MB/s eta 0:00:01\r\u001b[K    72% |███████████████████████▍        | 1.0MB 56.8MB/s eta 0:00:01\r\u001b[K    73% |███████████████████████▋        | 1.1MB 56.6MB/s eta 0:00:01\r\u001b[K    74% |███████████████████████▉        | 1.1MB 57.6MB/s eta 0:00:01\r\u001b[K    75% |████████████████████████        | 1.1MB 58.7MB/s eta 0:00:01\r\u001b[K    75% |████████████████████████▎       | 1.1MB 11.6MB/s eta 0:00:01\r\u001b[K    76% |████████████████████████▌       | 1.1MB 10.7MB/s eta 0:00:01\r\u001b[K    77% |████████████████████████▊       | 1.1MB 10.7MB/s eta 0:00:01\r\u001b[K    77% |█████████████████████████       | 1.1MB 10.6MB/s eta 0:00:01\r\u001b[K    78% |█████████████████████████▏      | 1.1MB 10.7MB/s eta 0:00:01\r\u001b[K    79% |█████████████████████████▍      | 1.1MB 10.8MB/s eta 0:00:01\r\u001b[K    80% |█████████████████████████▋      | 1.1MB 10.9MB/s eta 0:00:01\r\u001b[K    80% |█████████████████████████▉      | 1.2MB 10.8MB/s eta 0:00:01\r\u001b[K    81% |██████████████████████████      | 1.2MB 10.8MB/s eta 0:00:01\r\u001b[K    82% |██████████████████████████▎     | 1.2MB 10.7MB/s eta 0:00:01\r\u001b[K    82% |██████████████████████████▌     | 1.2MB 41.4MB/s eta 0:00:01\r\u001b[K    83% |██████████████████████████▊     | 1.2MB 58.5MB/s eta 0:00:01\r\u001b[K    84% |███████████████████████████     | 1.2MB 60.0MB/s eta 0:00:01\r\u001b[K    85% |███████████████████████████▎    | 1.2MB 59.8MB/s eta 0:00:01\r\u001b[K    85% |███████████████████████████▌    | 1.2MB 59.7MB/s eta 0:00:01\r\u001b[K    86% |███████████████████████████▊    | 1.2MB 58.8MB/s eta 0:00:01\r\u001b[K    87% |████████████████████████████    | 1.2MB 58.1MB/s eta 0:00:01\r\u001b[K    87% |████████████████████████████▏   | 1.3MB 59.2MB/s eta 0:00:01\r\u001b[K    88% |████████████████████████████▍   | 1.3MB 59.7MB/s eta 0:00:01\r\u001b[K    89% |████████████████████████████▋   | 1.3MB 60.2MB/s eta 0:00:01\r\u001b[K    90% |████████████████████████████▉   | 1.3MB 61.1MB/s eta 0:00:01\r\u001b[K    90% |█████████████████████████████   | 1.3MB 60.0MB/s eta 0:00:01\r\u001b[K    91% |█████████████████████████████▎  | 1.3MB 60.5MB/s eta 0:00:01\r\u001b[K    92% |█████████████████████████████▌  | 1.3MB 61.3MB/s eta 0:00:01\r\u001b[K    92% |█████████████████████████████▊  | 1.3MB 60.7MB/s eta 0:00:01\r\u001b[K    93% |██████████████████████████████  | 1.3MB 61.4MB/s eta 0:00:01\r\u001b[K    94% |██████████████████████████████▏ | 1.4MB 61.5MB/s eta 0:00:01\r\u001b[K    95% |██████████████████████████████▍ | 1.4MB 60.7MB/s eta 0:00:01\r\u001b[K    95% |██████████████████████████████▋ | 1.4MB 60.7MB/s eta 0:00:01\r\u001b[K    96% |███████████████████████████████ | 1.4MB 60.6MB/s eta 0:00:01\r\u001b[K    97% |███████████████████████████████▏| 1.4MB 61.4MB/s eta 0:00:01\r\u001b[K    97% |███████████████████████████████▍| 1.4MB 38.3MB/s eta 0:00:01\r\u001b[K    98% |███████████████████████████████▋| 1.4MB 37.3MB/s eta 0:00:01\r\u001b[K    99% |███████████████████████████████▉| 1.4MB 37.6MB/s eta 0:00:01\r\u001b[K    100% |████████████████████████████████| 1.4MB 15.1MB/s \n",
            "\u001b[?25hRequirement already satisfied, skipping upgrade: six in /usr/local/lib/python3.6/dist-packages (from nltk) (1.11.0)\n",
            "Collecting singledispatch (from nltk)\n",
            "  Downloading https://files.pythonhosted.org/packages/c5/10/369f50bcd4621b263927b0a1519987a04383d4a98fb10438042ad410cf88/singledispatch-3.4.0.3-py2.py3-none-any.whl\n",
            "Building wheels for collected packages: nltk\n",
            "  Building wheel for nltk (setup.py) ... \u001b[?25ldone\n",
            "\u001b[?25h  Stored in directory: /root/.cache/pip/wheels/4b/c8/24/b2343664bcceb7147efeb21c0b23703a05b23fcfeaceaa2a1e\n",
            "Successfully built nltk\n",
            "Installing collected packages: singledispatch, nltk\n",
            "  Found existing installation: nltk 3.2.5\n",
            "    Uninstalling nltk-3.2.5:\n",
            "      Successfully uninstalled nltk-3.2.5\n",
            "Successfully installed nltk-3.4 singledispatch-3.4.0.3\n"
          ],
          "name": "stdout"
        },
        {
          "output_type": "stream",
          "text": [
            "[nltk_data] Downloading package punkt to /root/nltk_data...\n",
            "[nltk_data]   Unzipping tokenizers/punkt.zip.\n",
            "[nltk_data] Downloading package stopwords to /root/nltk_data...\n",
            "[nltk_data]   Unzipping corpora/stopwords.zip.\n"
          ],
          "name": "stderr"
        }
      ]
    },
    {
      "metadata": {
        "id": "M7bcmqfGXrFG",
        "colab_type": "text"
      },
      "cell_type": "markdown",
      "source": [
        "# 1) (optional) Scrape 100 Job Listings that contain the title \"Data Scientist\" from indeed.com\n",
        "\n",
        "At a minimum your final dataframe of job listings should contain\n",
        "- Job Title\n",
        "- Job Description"
      ]
    },
    {
      "metadata": {
        "id": "KcYlc1URXhlC",
        "colab_type": "code",
        "colab": {}
      },
      "cell_type": "code",
      "source": [
        "##### Your Code Here #####"
      ],
      "execution_count": 0,
      "outputs": []
    },
    {
      "metadata": {
        "id": "5C4xFZNtX1m2",
        "colab_type": "text"
      },
      "cell_type": "markdown",
      "source": [
        "## 2) Use NLTK to tokenize / clean the listings "
      ]
    },
    {
      "metadata": {
        "id": "dhUHuMr-X-II",
        "colab_type": "code",
        "colab": {
          "base_uri": "https://localhost:8080/",
          "height": 253
        },
        "outputId": "3e285aa4-54d8-430d-9e22-b940c0e4fb5b"
      },
      "cell_type": "code",
      "source": [
        "url='https://raw.githubusercontent.com/LambdaSchool/DS-Unit-4-Sprint-2-NLP/master/module2-Bag-of-Words/job_listings.csv'\n",
        "\n",
        "with open(url, 'r', encoding='utf-8') as f:\n",
        "  contents = f.read()\n",
        "  \n",
        "contents"
      ],
      "execution_count": 2,
      "outputs": [
        {
          "output_type": "error",
          "ename": "FileNotFoundError",
          "evalue": "ignored",
          "traceback": [
            "\u001b[0;31m---------------------------------------------------------------------------\u001b[0m",
            "\u001b[0;31mFileNotFoundError\u001b[0m                         Traceback (most recent call last)",
            "\u001b[0;32m<ipython-input-2-1f23b883e21b>\u001b[0m in \u001b[0;36m<module>\u001b[0;34m()\u001b[0m\n\u001b[1;32m      1\u001b[0m \u001b[0murl\u001b[0m\u001b[0;34m=\u001b[0m\u001b[0;34m'https://raw.githubusercontent.com/LambdaSchool/DS-Unit-4-Sprint-2-NLP/master/module2-Bag-of-Words/job_listings.csv'\u001b[0m\u001b[0;34m\u001b[0m\u001b[0;34m\u001b[0m\u001b[0m\n\u001b[1;32m      2\u001b[0m \u001b[0;34m\u001b[0m\u001b[0m\n\u001b[0;32m----> 3\u001b[0;31m \u001b[0;32mwith\u001b[0m \u001b[0mopen\u001b[0m\u001b[0;34m(\u001b[0m\u001b[0murl\u001b[0m\u001b[0;34m,\u001b[0m \u001b[0;34m'r'\u001b[0m\u001b[0;34m,\u001b[0m \u001b[0mencoding\u001b[0m\u001b[0;34m=\u001b[0m\u001b[0;34m'utf-8'\u001b[0m\u001b[0;34m)\u001b[0m \u001b[0;32mas\u001b[0m \u001b[0mf\u001b[0m\u001b[0;34m:\u001b[0m\u001b[0;34m\u001b[0m\u001b[0;34m\u001b[0m\u001b[0m\n\u001b[0m\u001b[1;32m      4\u001b[0m   \u001b[0mcontents\u001b[0m \u001b[0;34m=\u001b[0m \u001b[0mf\u001b[0m\u001b[0;34m.\u001b[0m\u001b[0mread\u001b[0m\u001b[0;34m(\u001b[0m\u001b[0;34m)\u001b[0m\u001b[0;34m\u001b[0m\u001b[0;34m\u001b[0m\u001b[0m\n\u001b[1;32m      5\u001b[0m \u001b[0;34m\u001b[0m\u001b[0m\n",
            "\u001b[0;31mFileNotFoundError\u001b[0m: [Errno 2] No such file or directory: 'https://raw.githubusercontent.com/LambdaSchool/DS-Unit-4-Sprint-2-NLP/master/module2-Bag-of-Words/job_listings.csv'"
          ]
        }
      ]
    },
    {
      "metadata": {
        "id": "-lgCZNL_YycP",
        "colab_type": "text"
      },
      "cell_type": "markdown",
      "source": [
        "# 3) Use Scikit-Learn's CountVectorizer to get word counts for each listing."
      ]
    },
    {
      "metadata": {
        "id": "X2PZ8Pj_YxcF",
        "colab_type": "code",
        "colab": {}
      },
      "cell_type": "code",
      "source": [
        "##### Your Code Here #####"
      ],
      "execution_count": 0,
      "outputs": []
    },
    {
      "metadata": {
        "id": "Zo1iH_UeY7_n",
        "colab_type": "text"
      },
      "cell_type": "markdown",
      "source": [
        "# 4) Visualize the most common word counts"
      ]
    },
    {
      "metadata": {
        "id": "M5LB00uyZKV5",
        "colab_type": "code",
        "colab": {}
      },
      "cell_type": "code",
      "source": [
        "##### Your Code Here #####"
      ],
      "execution_count": 0,
      "outputs": []
    },
    {
      "metadata": {
        "id": "bwFsTqrVZMYi",
        "colab_type": "text"
      },
      "cell_type": "markdown",
      "source": [
        " # 5) Use Scikit-Learn's tfidfVectorizer to get a TF-IDF feature matrix"
      ]
    },
    {
      "metadata": {
        "id": "-gx2gZCbl5Np",
        "colab_type": "code",
        "colab": {}
      },
      "cell_type": "code",
      "source": [
        "##### Your Code Here #####"
      ],
      "execution_count": 0,
      "outputs": []
    },
    {
      "metadata": {
        "id": "FiDfTWceoRkH",
        "colab_type": "text"
      },
      "cell_type": "markdown",
      "source": [
        "## Stretch Goals\n",
        "\n",
        " - Scrape Job Listings for the job title \"Data Analyst\". How do these differ from Data Scientist Job Listings\n",
        " - Try and identify requirements for experience specific technologies that are asked for in the job listings. How are those distributed among the job listings?\n",
        " - Use a clustering algorithm to cluster documents by their most important terms. Do the clusters reveal any common themes?\n",
        "  - **Hint:** K-means might not be the best algorithm for this. Do a little bit of research to see what might be good for this. Also, remember that algorithms that depend on Euclidean distance break down with high dimensional data."
      ]
    }
  ]
}