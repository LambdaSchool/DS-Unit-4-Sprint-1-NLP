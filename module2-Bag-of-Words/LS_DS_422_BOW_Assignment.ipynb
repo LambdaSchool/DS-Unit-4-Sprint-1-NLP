{
 "cells": [
  {
   "cell_type": "code",
   "execution_count": 1,
   "metadata": {
    "colab": {
     "base_uri": "https://localhost:8080/",
     "height": 159
    },
    "colab_type": "code",
    "id": "hyj-f9FDcVFp",
    "outputId": "5dd045fe-6e4c-458c-e2fc-253c3da9c805"
   },
   "outputs": [
    {
     "name": "stdout",
     "output_type": "stream",
     "text": [
      "Requirement already up-to-date: nltk in /anaconda3/lib/python3.7/site-packages (3.4)\r\n",
      "Requirement already satisfied, skipping upgrade: six in /anaconda3/lib/python3.7/site-packages (from nltk) (1.12.0)\r\n",
      "Requirement already satisfied, skipping upgrade: singledispatch in /anaconda3/lib/python3.7/site-packages (from nltk) (3.4.0.3)\r\n"
     ]
    },
    {
     "name": "stderr",
     "output_type": "stream",
     "text": [
      "[nltk_data] Downloading package punkt to\n",
      "[nltk_data]     /Users/samirgadkari/nltk_data...\n",
      "[nltk_data]   Package punkt is already up-to-date!\n",
      "[nltk_data] Downloading package stopwords to\n",
      "[nltk_data]     /Users/samirgadkari/nltk_data...\n",
      "[nltk_data]   Package stopwords is already up-to-date!\n"
     ]
    }
   ],
   "source": [
    "import re\n",
    "import string\n",
    "\n",
    "!pip install -U nltk\n",
    "\n",
    "import nltk\n",
    "nltk.download('punkt')\n",
    "nltk.download('stopwords')\n",
    "from nltk.tokenize import sent_tokenize # Sentence Tokenizer\n",
    "from nltk.tokenize import word_tokenize # Word Tokenizer\n",
    "from nltk.corpus import stopwords\n",
    "from nltk.stem.porter import PorterStemmer\n",
    "from nltk.stem.wordnet import WordNetLemmatizer\n",
    "from nltk.probability import FreqDist\n",
    "\n",
    "from sklearn.feature_extraction.text import CountVectorizer\n",
    "from sklearn.feature_extraction.text import TfidfVectorizer\n",
    "import matplotlib.pyplot as plt\n",
    "import pandas as pd\n",
    "import numpy as np"
   ]
  },
  {
   "cell_type": "markdown",
   "metadata": {
    "colab_type": "text",
    "id": "M7bcmqfGXrFG"
   },
   "source": [
    "# 1) (optional) Scrape 100 Job Listings that contain the title \"Data Scientist\" from indeed.com\n",
    "\n",
    "At a minimum your final dataframe of job listings should contain\n",
    "- Job Title\n",
    "- Job Description"
   ]
  },
  {
   "cell_type": "code",
   "execution_count": 68,
   "metadata": {
    "colab": {},
    "colab_type": "code",
    "id": "KcYlc1URXhlC"
   },
   "outputs": [],
   "source": [
    "import requests\n",
    "from bs4 import BeautifulSoup, SoupStrainer\n",
    "import time\n",
    "\n",
    "HTML_OK = 200\n",
    "NUM_RETRIES = 5\n",
    "TIMEOUT = 5       # timeout in seconds\n",
    "\n",
    "def get_listing(link):\n",
    "    print('link:', link)\n",
    "    r = requests.get(link)\n",
    "    print('status:', r.status_code)\n",
    "    # print(r.content)\n",
    "    soup = BeautifulSoup(r.content)\n",
    " \n",
    "    title = soup.find(attrs={'class': 'jobsearch-JobInfoHeader-title'}) \\\n",
    "                .get_text()\n",
    "    description = soup.find(attrs={'class': 'jobsearch-JobComponent-description'}) \\\n",
    "                    .get_text()\n",
    "        \n",
    "    return {'title': title, 'description': description}\n",
    "\n",
    "def process_page(r):\n",
    "    strainer = SoupStrainer('a')\n",
    "    soup = BeautifulSoup(r.content, parse_only=strainer)\n",
    "    \n",
    "    urls = soup.find_all(attrs={'data-tn-element': 'jobTitle'})\n",
    "    res = []\n",
    "    for url in urls:\n",
    "        if url['href'].startswith('/rc'):\n",
    "            res.append(get_listing('https://www.indeed.com/' + url['href']))\n",
    "\n",
    "    return res\n",
    "\n",
    "def get_page(docs_required = 100, docs_completed = 0, start = 0,\n",
    "             current = 'https://www.indeed.com/' \\\n",
    "                       'jobs?q=data%20scientist&l=San%20Jose%20CA'):\n",
    "    \n",
    "    if (current == None):\n",
    "        if start == 0:\n",
    "            current = 'https://www.indeed.com/jobs?' \\\n",
    "                      'q=data%20scientist&l=San%20Jose%20CA'\n",
    "        else:\n",
    "            current = 'https://www.indeed.com/jobs?' \\\n",
    "                      'q=data%20scientist&l=San%20Jose%20CA&start=' \\\n",
    "                        + str(start)\n",
    "\n",
    "    try:\n",
    "        for i in range(NUM_RETRIES):\n",
    "            r = requests.get(current)\n",
    "            if r.status_code != HTML_OK:\n",
    "                print('Error: Status code:', r.status_code)\n",
    "                print('  Error getting data from:', current)\n",
    "            else:\n",
    "                res = process_page(r)\n",
    "                break\n",
    "            time.sleep(TIMEOUT)\n",
    "    except:\n",
    "        print(\"Unexpected error:\", sys.exc_info()[0])\n",
    "        raise\n",
    "    \n",
    "    # print(res)"
   ]
  },
  {
   "cell_type": "markdown",
   "metadata": {},
   "source": [
    "## One thing left here is to paging to get the next set of 10 links, until we got all the data we need."
   ]
  },
  {
   "cell_type": "code",
   "execution_count": 69,
   "metadata": {
    "scrolled": false
   },
   "outputs": [
    {
     "name": "stdout",
     "output_type": "stream",
     "text": [
      "link: https://www.indeed.com//rc/clk?jk=c2ad1b6e76be77f9&fccid=804a47dd3ecffda7&vjs=3\n",
      "status: 200\n",
      "link: https://www.indeed.com//rc/clk?jk=96853b13c30b8e92&fccid=ec7026b814653f27&vjs=3\n",
      "status: 200\n",
      "link: https://www.indeed.com//rc/clk?jk=0c47ce0f5049af94&fccid=ab1f45b81c4d4c99&vjs=3\n",
      "status: 200\n",
      "link: https://www.indeed.com//rc/clk?jk=97bf07d813384394&fccid=f89deb5a97c7738a&vjs=3\n",
      "status: 200\n",
      "link: https://www.indeed.com//rc/clk?jk=163fa32794357a19&fccid=a5b4499d9e91a5c6&vjs=3\n",
      "status: 200\n",
      "link: https://www.indeed.com//rc/clk?jk=fe876a266c538841&fccid=f89deb5a97c7738a&vjs=3\n",
      "status: 200\n",
      "link: https://www.indeed.com//rc/clk?jk=9ce4ee2aad5534c3&fccid=b868f07d84101767&vjs=3\n",
      "status: 200\n",
      "link: https://www.indeed.com//rc/clk?jk=9d601b6d2be4f99c&fccid=1b866506aec22461&vjs=3\n",
      "status: 200\n",
      "link: https://www.indeed.com//rc/clk?jk=418ed43b663ecac5&fccid=69c7d55b78dc7424&vjs=3\n",
      "status: 200\n",
      "link: https://www.indeed.com//rc/clk?jk=e56c15ad5daa0a8a&fccid=1503f9b2e8718009&vjs=3\n",
      "status: 200\n"
     ]
    }
   ],
   "source": [
    "get_page(100, 0, 0)"
   ]
  },
  {
   "cell_type": "markdown",
   "metadata": {
    "colab_type": "text",
    "id": "5C4xFZNtX1m2"
   },
   "source": [
    "## 2) Use NLTK to tokenize / clean the listings "
   ]
  },
  {
   "cell_type": "code",
   "execution_count": 31,
   "metadata": {
    "colab": {},
    "colab_type": "code",
    "id": "dhUHuMr-X-II"
   },
   "outputs": [
    {
     "name": "stdout",
     "output_type": "stream",
     "text": [
      "words_per_listing: ['job', 'requirements', 'understanding', 'machine', 'learning', 'models', 'like', 'bayes', 'svm', 'apriori', 'logistic', 'regression', 'neural', 'random', 'forests', 'decision', 'trees', 'along', 'experience', 'least', 'intermediate', 'expert', 'level', 'coding', 'skills', 'ability', 'write', 'functions', 'clean', 'efficient', 'data', 'manipulation', 'mandatory', 'role', 'exposure', 'packages', 'like', 'numpy', 'scipy', 'pandas', 'matplotlib', 'etc', 'python', 'dplyr', 'tidyr', 'r', 'ability', 'communicate', 'model', 'findings', 'technical', 'stake', 'holders', 'hands', 'experience', 'similar', 'programming', 'language', 'must', 'show', 'past', 'work', 'via', 'github', 'kaggle', 'published', 'article', 'master', 'degree', 'science', 'quant', 'specific', 'field', 'master', 'degree', 'science', 'quant', 'specific', 'field']\n"
     ]
    }
   ],
   "source": [
    "from nltk.tokenize import word_tokenize\n",
    "from bs4 import BeautifulSoup\n",
    "\n",
    "\n",
    "def get_content(l):\n",
    "    soup = BeautifulSoup(l, 'html.parser')\n",
    "    res = []\n",
    "    for tag in soup.find_all(True):\n",
    "        if tag.string != None:\n",
    "            res.append(tag.string)\n",
    "    return ' '.join(res)\n",
    "\n",
    "\n",
    "def remove_stopwords(l):\n",
    "    from nltk.corpus import stopwords\n",
    "    stop_words = stopwords.words('english')    # NLTK has a list of stopwords you can use.\n",
    "    \n",
    "    return [w for w in l if w not in stop_words]\n",
    "\n",
    "with open('job_listings.csv', 'r') as f:\n",
    "    listings = f.readlines()\n",
    "\n",
    "words_per_listing = []\n",
    "for l in listings:\n",
    "    content = get_content(l)\n",
    "    lowercase = content.lower()                # Lowercase before removing stopwords.\n",
    "    tokens = word_tokenize(lowercase)\n",
    "\n",
    "    words = [w for w in tokens if w.isalpha()] # Keep only words with alphabet characters.\n",
    "                                               # isalpha() is True if all characters\n",
    "                                               # are alphabetic.\n",
    "    \n",
    "    # words = get_words(l)\n",
    "    words = remove_stopwords(words)\n",
    "    words_per_listing.append(words)\n",
    "\n",
    "# print('stopwords:', stopwords.words('english'))\n",
    "print('words_per_listing:', words_per_listing[1])"
   ]
  },
  {
   "cell_type": "markdown",
   "metadata": {
    "colab_type": "text",
    "id": "-lgCZNL_YycP"
   },
   "source": [
    "# 3) Use Scikit-Learn's CountVectorizer to get word counts for each listing."
   ]
  },
  {
   "cell_type": "code",
   "execution_count": 39,
   "metadata": {},
   "outputs": [
    {
     "name": "stdout",
     "output_type": "stream",
     "text": [
      "427\n",
      "7889\n"
     ]
    }
   ],
   "source": [
    "from sklearn.feature_extraction.text import CountVectorizer\n",
    "\n",
    "vectorizer = CountVectorizer()\n",
    "\n",
    "# Let's get the words into a single string per document.\n",
    "# This is what the CountVectorizer expects.\n",
    "all_content = []\n",
    "for l in listings:\n",
    "    content = get_content(l)\n",
    "    all_content.append(content)\n",
    "\n",
    "# print(content)\n",
    "before_cleaning_bag_of_words = vectorizer.fit_transform(all_content)\n",
    "print(before_cleaning_bag_of_words.shape[0])\n",
    "names = vectorizer.get_feature_names()\n",
    "print(len(names))"
   ]
  },
  {
   "cell_type": "code",
   "execution_count": 43,
   "metadata": {},
   "outputs": [
    {
     "name": "stdout",
     "output_type": "stream",
     "text": [
      "427\n",
      "6426\n"
     ]
    }
   ],
   "source": [
    "vectorizer = CountVectorizer()\n",
    "\n",
    "# CountVectorizer requires a sentence of words per document.\n",
    "sentences = []\n",
    "for words in words_per_listing:\n",
    "    sentences.append(' '.join(words))\n",
    "\n",
    "after_cleaning_bag_of_words = vectorizer.fit_transform(sentences)    \n",
    "print(after_cleaning_bag_of_words.shape[0])\n",
    "names = vectorizer.get_feature_names()\n",
    "print(len(names))"
   ]
  },
  {
   "cell_type": "markdown",
   "metadata": {},
   "source": [
    "### Notice that the number of features is reduced a lot (20%) if we clean the data before using the CountVectorizer"
   ]
  },
  {
   "cell_type": "code",
   "execution_count": 56,
   "metadata": {
    "colab": {},
    "colab_type": "code",
    "id": "X2PZ8Pj_YxcF"
   },
   "outputs": [
    {
     "name": "stdout",
     "output_type": "stream",
     "text": [
      "['job', 'requir', 'understand', 'machin', 'learn', 'model', 'like', 'bay', 'svm', 'apriori', 'logist', 'regress', 'neural', 'random', 'forest', 'decis', 'tree', 'along', 'experi', 'least', 'intermedi', 'expert', 'level', 'code', 'skill', 'abil', 'write', 'function', 'clean', 'effici', 'data', 'manipul', 'mandatori', 'role', 'exposur', 'packag', 'like', 'numpi', 'scipi', 'panda', 'matplotlib', 'etc', 'python', 'dplyr', 'tidyr', 'r', 'abil', 'commun', 'model', 'find', 'technic', 'stake', 'holder', 'hand', 'experi', 'similar', 'program', 'languag', 'must', 'show', 'past', 'work', 'via', 'github', 'kaggl', 'publish', 'articl', 'master', 'degre', 'scienc', 'quant', 'specif', 'field', 'master', 'degre', 'scienc', 'quant', 'specif', 'field']\n"
     ]
    }
   ],
   "source": [
    "from nltk.stem.porter import PorterStemmer\n",
    "stemmer = PorterStemmer()\n",
    "\n",
    "stemmed = []\n",
    "for l in words_per_listing:\n",
    "    stemmed.append([stemmer.stem(w) for w in l])\n",
    "print(stemmed[1])"
   ]
  },
  {
   "cell_type": "markdown",
   "metadata": {
    "colab_type": "text",
    "id": "Zo1iH_UeY7_n"
   },
   "source": [
    "# 4) Visualize the most common word counts"
   ]
  },
  {
   "cell_type": "code",
   "execution_count": 57,
   "metadata": {},
   "outputs": [
    {
     "name": "stderr",
     "output_type": "stream",
     "text": [
      "[nltk_data] Downloading package wordnet to\n",
      "[nltk_data]     /Users/samirgadkari/nltk_data...\n",
      "[nltk_data]   Package wordnet is already up-to-date!\n"
     ]
    },
    {
     "name": "stdout",
     "output_type": "stream",
     "text": [
      "['job', 'requirement', 'understanding', 'machine', 'learning', 'model', 'like', 'bayes', 'svm', 'apriori', 'logistic', 'regression', 'neural', 'random', 'forest', 'decision', 'tree', 'along', 'experience', 'least', 'intermediate', 'expert', 'level', 'coding', 'skill', 'ability', 'write', 'function', 'clean', 'efficient', 'data', 'manipulation', 'mandatory', 'role', 'exposure', 'package', 'like', 'numpy', 'scipy', 'panda', 'matplotlib', 'etc', 'python', 'dplyr', 'tidyr', 'r', 'ability', 'communicate', 'model', 'finding', 'technical', 'stake', 'holder', 'hand', 'experience', 'similar', 'programming', 'language', 'must', 'show', 'past', 'work', 'via', 'github', 'kaggle', 'published', 'article', 'master', 'degree', 'science', 'quant', 'specific', 'field', 'master', 'degree', 'science', 'quant', 'specific', 'field']\n"
     ]
    }
   ],
   "source": [
    "nltk.download('wordnet')\n",
    "from nltk.stem.wordnet import WordNetLemmatizer\n",
    "\n",
    "lemmatizer = WordNetLemmatizer()\n",
    "\n",
    "lemmatized = []\n",
    "for l in words_per_listing:\n",
    "    lemmatized.append([lemmatizer.lemmatize(w) for w in l])\n",
    "print(lemmatized[1])"
   ]
  },
  {
   "cell_type": "code",
   "execution_count": 52,
   "metadata": {
    "colab": {},
    "colab_type": "code",
    "id": "M5LB00uyZKV5"
   },
   "outputs": [
    {
     "data": {
      "text/plain": [
       "[('model', 2),\n",
       " ('like', 2),\n",
       " ('experience', 2),\n",
       " ('ability', 2),\n",
       " ('master', 2),\n",
       " ('degree', 2),\n",
       " ('science', 2),\n",
       " ('quant', 2),\n",
       " ('specific', 2),\n",
       " ('field', 2),\n",
       " ('job', 1),\n",
       " ('requirement', 1),\n",
       " ('understanding', 1),\n",
       " ('machine', 1),\n",
       " ('learning', 1),\n",
       " ('bayes', 1),\n",
       " ('svm', 1),\n",
       " ('apriori', 1),\n",
       " ('logistic', 1),\n",
       " ('regression', 1)]"
      ]
     },
     "execution_count": 52,
     "metadata": {},
     "output_type": "execute_result"
    }
   ],
   "source": [
    "from nltk.probability import FreqDist\n",
    "\n",
    "fdist = FreqDist(lemmatized[1])\n",
    "fdist.most_common(20)"
   ]
  },
  {
   "cell_type": "code",
   "execution_count": 53,
   "metadata": {},
   "outputs": [
    {
     "data": {
      "image/png": "[encoded data removed]",
      "text/plain": [
       "<Figure size 432x288 with 1 Axes>"
      ]
     },
     "metadata": {
      "needs_background": "light"
     },
     "output_type": "display_data"
    }
   ],
   "source": [
    "import matplotlib.pyplot as plt\n",
    "\n",
    "fdist.plot(20, cumulative=False)"
   ]
  },
  {
   "cell_type": "markdown",
   "metadata": {
    "colab_type": "text",
    "id": "bwFsTqrVZMYi"
   },
   "source": [
    " # 5) Use Scikit-Learn's tfidfVectorizer to get a TF-IDF feature matrix"
   ]
  },
  {
   "cell_type": "code",
   "execution_count": 65,
   "metadata": {
    "colab": {},
    "colab_type": "code",
    "id": "-gx2gZCbl5Np"
   },
   "outputs": [
    {
     "data": {
      "text/html": [
       "<div>\n",
       "<style scoped>\n",
       "    .dataframe tbody tr th:only-of-type {\n",
       "        vertical-align: middle;\n",
       "    }\n",
       "\n",
       "    .dataframe tbody tr th {\n",
       "        vertical-align: top;\n",
       "    }\n",
       "\n",
       "    .dataframe thead th {\n",
       "        text-align: right;\n",
       "    }\n",
       "</style>\n",
       "<table border=\"1\" class=\"dataframe\">\n",
       "  <thead>\n",
       "    <tr style=\"text-align: right;\">\n",
       "      <th></th>\n",
       "      <th>ability</th>\n",
       "      <th>analysis</th>\n",
       "      <th>analytics</th>\n",
       "      <th>business</th>\n",
       "      <th>data</th>\n",
       "      <th>experience</th>\n",
       "      <th>learning</th>\n",
       "      <th>machine</th>\n",
       "      <th>model</th>\n",
       "      <th>new</th>\n",
       "      <th>opportunity</th>\n",
       "      <th>product</th>\n",
       "      <th>science</th>\n",
       "      <th>scientist</th>\n",
       "      <th>skill</th>\n",
       "      <th>solution</th>\n",
       "      <th>statistical</th>\n",
       "      <th>team</th>\n",
       "      <th>work</th>\n",
       "      <th>year</th>\n",
       "    </tr>\n",
       "  </thead>\n",
       "  <tbody>\n",
       "    <tr>\n",
       "      <th>0</th>\n",
       "      <td>0.000000</td>\n",
       "      <td>0.000000</td>\n",
       "      <td>0.000000</td>\n",
       "      <td>0.000000</td>\n",
       "      <td>0.000000</td>\n",
       "      <td>0.000000</td>\n",
       "      <td>0.000000</td>\n",
       "      <td>0.000000</td>\n",
       "      <td>0.000000</td>\n",
       "      <td>0.000000</td>\n",
       "      <td>0.0</td>\n",
       "      <td>0.000000</td>\n",
       "      <td>0.000000</td>\n",
       "      <td>0.000000</td>\n",
       "      <td>0.000000</td>\n",
       "      <td>0.0</td>\n",
       "      <td>0.000000</td>\n",
       "      <td>0.000000</td>\n",
       "      <td>0.000000</td>\n",
       "      <td>0.000000</td>\n",
       "    </tr>\n",
       "    <tr>\n",
       "      <th>1</th>\n",
       "      <td>0.519169</td>\n",
       "      <td>0.000000</td>\n",
       "      <td>0.000000</td>\n",
       "      <td>0.000000</td>\n",
       "      <td>0.164715</td>\n",
       "      <td>0.343731</td>\n",
       "      <td>0.219589</td>\n",
       "      <td>0.233182</td>\n",
       "      <td>0.481620</td>\n",
       "      <td>0.000000</td>\n",
       "      <td>0.0</td>\n",
       "      <td>0.000000</td>\n",
       "      <td>0.404119</td>\n",
       "      <td>0.000000</td>\n",
       "      <td>0.215143</td>\n",
       "      <td>0.0</td>\n",
       "      <td>0.000000</td>\n",
       "      <td>0.000000</td>\n",
       "      <td>0.202561</td>\n",
       "      <td>0.000000</td>\n",
       "    </tr>\n",
       "    <tr>\n",
       "      <th>2</th>\n",
       "      <td>0.124021</td>\n",
       "      <td>0.100981</td>\n",
       "      <td>0.000000</td>\n",
       "      <td>0.100981</td>\n",
       "      <td>0.314782</td>\n",
       "      <td>0.410560</td>\n",
       "      <td>0.314738</td>\n",
       "      <td>0.334221</td>\n",
       "      <td>0.115051</td>\n",
       "      <td>0.250186</td>\n",
       "      <td>0.0</td>\n",
       "      <td>0.231986</td>\n",
       "      <td>0.193075</td>\n",
       "      <td>0.112903</td>\n",
       "      <td>0.205577</td>\n",
       "      <td>0.0</td>\n",
       "      <td>0.000000</td>\n",
       "      <td>0.464061</td>\n",
       "      <td>0.193554</td>\n",
       "      <td>0.105183</td>\n",
       "    </tr>\n",
       "    <tr>\n",
       "      <th>3</th>\n",
       "      <td>0.000000</td>\n",
       "      <td>0.000000</td>\n",
       "      <td>0.208257</td>\n",
       "      <td>0.508704</td>\n",
       "      <td>0.396438</td>\n",
       "      <td>0.000000</td>\n",
       "      <td>0.176170</td>\n",
       "      <td>0.187076</td>\n",
       "      <td>0.386391</td>\n",
       "      <td>0.000000</td>\n",
       "      <td>0.0</td>\n",
       "      <td>0.000000</td>\n",
       "      <td>0.162107</td>\n",
       "      <td>0.379174</td>\n",
       "      <td>0.345206</td>\n",
       "      <td>0.0</td>\n",
       "      <td>0.190096</td>\n",
       "      <td>0.000000</td>\n",
       "      <td>0.000000</td>\n",
       "      <td>0.000000</td>\n",
       "    </tr>\n",
       "    <tr>\n",
       "      <th>4</th>\n",
       "      <td>0.000000</td>\n",
       "      <td>0.000000</td>\n",
       "      <td>0.000000</td>\n",
       "      <td>0.000000</td>\n",
       "      <td>0.000000</td>\n",
       "      <td>0.000000</td>\n",
       "      <td>0.000000</td>\n",
       "      <td>0.000000</td>\n",
       "      <td>0.000000</td>\n",
       "      <td>0.000000</td>\n",
       "      <td>0.0</td>\n",
       "      <td>0.000000</td>\n",
       "      <td>0.000000</td>\n",
       "      <td>0.000000</td>\n",
       "      <td>0.000000</td>\n",
       "      <td>0.0</td>\n",
       "      <td>0.000000</td>\n",
       "      <td>0.000000</td>\n",
       "      <td>0.000000</td>\n",
       "      <td>0.000000</td>\n",
       "    </tr>\n",
       "  </tbody>\n",
       "</table>\n",
       "</div>"
      ],
      "text/plain": [
       "    ability  analysis  analytics  business      data  experience  learning  \\\n",
       "0  0.000000  0.000000   0.000000  0.000000  0.000000    0.000000  0.000000   \n",
       "1  0.519169  0.000000   0.000000  0.000000  0.164715    0.343731  0.219589   \n",
       "2  0.124021  0.100981   0.000000  0.100981  0.314782    0.410560  0.314738   \n",
       "3  0.000000  0.000000   0.208257  0.508704  0.396438    0.000000  0.176170   \n",
       "4  0.000000  0.000000   0.000000  0.000000  0.000000    0.000000  0.000000   \n",
       "\n",
       "    machine     model       new  opportunity   product   science  scientist  \\\n",
       "0  0.000000  0.000000  0.000000          0.0  0.000000  0.000000   0.000000   \n",
       "1  0.233182  0.481620  0.000000          0.0  0.000000  0.404119   0.000000   \n",
       "2  0.334221  0.115051  0.250186          0.0  0.231986  0.193075   0.112903   \n",
       "3  0.187076  0.386391  0.000000          0.0  0.000000  0.162107   0.379174   \n",
       "4  0.000000  0.000000  0.000000          0.0  0.000000  0.000000   0.000000   \n",
       "\n",
       "      skill  solution  statistical      team      work      year  \n",
       "0  0.000000       0.0     0.000000  0.000000  0.000000  0.000000  \n",
       "1  0.215143       0.0     0.000000  0.000000  0.202561  0.000000  \n",
       "2  0.205577       0.0     0.000000  0.464061  0.193554  0.105183  \n",
       "3  0.345206       0.0     0.190096  0.000000  0.000000  0.000000  \n",
       "4  0.000000       0.0     0.000000  0.000000  0.000000  0.000000  "
      ]
     },
     "execution_count": 65,
     "metadata": {},
     "output_type": "execute_result"
    }
   ],
   "source": [
    "from sklearn.feature_extraction.text import TfidfVectorizer\n",
    "\n",
    "# Tfidf vectorizer needs a string per document, so convert it.\n",
    "lemmatized_str_per_doc = []\n",
    "for l in lemmatized:\n",
    "    lemmatized_str_per_doc.append(' '.join(l))\n",
    "    \n",
    "tfidf = TfidfVectorizer(max_features=20)\n",
    "feature_matrix = tfidf.fit_transform(lemmatized_str_per_doc)\n",
    "\n",
    "feature_names = tfidf.get_feature_names()\n",
    "df = pd.DataFrame(data=feature_matrix.toarray(), columns=feature_names)\n",
    "df.head()"
   ]
  },
  {
   "cell_type": "markdown",
   "metadata": {
    "colab_type": "text",
    "id": "FiDfTWceoRkH"
   },
   "source": [
    "## Stretch Goals\n",
    "\n",
    " - Scrape Job Listings for the job title \"Data Analyst\". How do these differ from Data Scientist Job Listings\n",
    " - Try and identify requirements for experience specific technologies that are asked for in the job listings. How are those distributed among the job listings?\n",
    " - Use a clustering algorithm to cluster documents by their most important terms. Do the clusters reveal any common themes?\n",
    "  - **Hint:** K-means might not be the best algorithm for this. Do a little bit of research to see what might be good for this. Also, remember that algorithms that depend on Euclidean distance break down with high dimensional data."
   ]
  }
 ],
 "metadata": {
  "colab": {
   "collapsed_sections": [],
   "name": "LS_DS_422_BOW_Assignment.ipynb",
   "provenance": [],
   "version": "0.3.2"
  },
  "kernelspec": {
   "display_name": "Python 3",
   "language": "python",
   "name": "python3"
  },
  "language_info": {
   "codemirror_mode": {
    "name": "ipython",
    "version": 3
   },
   "file_extension": ".py",
   "mimetype": "text/x-python",
   "name": "python",
   "nbconvert_exporter": "python",
   "pygments_lexer": "ipython3",
   "version": "3.7.1"
  }
 },
 "nbformat": 4,
 "nbformat_minor": 1
}
