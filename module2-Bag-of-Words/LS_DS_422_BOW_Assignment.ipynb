{
  "nbformat": 4,
  "nbformat_minor": 0,
  "metadata": {
    "colab": {
      "name": "LS_DS_422_BOW_Assignment.ipynb",
      "version": "0.3.2",
      "provenance": [],
      "collapsed_sections": [],
      "include_colab_link": true
    },
    "kernelspec": {
      "name": "python3",
      "display_name": "Python 3"
    }
  },
  "cells": [
    {
      "cell_type": "markdown",
      "metadata": {
        "id": "view-in-github",
        "colab_type": "text"
      },
      "source": [
        "<a href=\"https://colab.research.google.com/github/cocoisland/DS-Unit-4-Sprint-2-NLP/blob/master/module2-Bag-of-Words/LS_DS_422_BOW_Assignment.ipynb\" target=\"_parent\"><img src=\"https://colab.research.google.com/assets/colab-badge.svg\" alt=\"Open In Colab\"/></a>"
      ]
    },
    {
      "metadata": {
        "id": "hyj-f9FDcVFp",
        "colab_type": "code",
        "outputId": "611c43d5-3a63-4db4-d51b-3303a438024e",
        "colab": {
          "base_uri": "https://localhost:8080/",
          "height": 363
        }
      },
      "cell_type": "code",
      "source": [
        "import re\n",
        "import string\n",
        "\n",
        "!pip install -U nltk\n",
        "\n",
        "import nltk\n",
        "nltk.download('punkt')\n",
        "nltk.download('stopwords')\n",
        "from nltk.tokenize import sent_tokenize # Sentence Tokenizer\n",
        "from nltk.tokenize import word_tokenize # Word Tokenizer\n",
        "from nltk.corpus import stopwords\n",
        "from nltk.stem.porter import PorterStemmer\n",
        "from nltk.stem.wordnet import WordNetLemmatizer\n",
        "from nltk.probability import FreqDist\n",
        "\n",
        "from sklearn.feature_extraction.text import CountVectorizer\n",
        "from sklearn.feature_extraction.text import TfidfVectorizer\n",
        "import matplotlib.pyplot as plt\n",
        "import pandas as pd\n",
        "import numpy as np"
      ],
      "execution_count": 1,
      "outputs": [
        {
          "output_type": "stream",
          "text": [
            "Collecting nltk\n",
            "\u001b[?25l  Downloading https://files.pythonhosted.org/packages/6f/ed/9c755d357d33bc1931e157f537721efb5b88d2c583fe593cc09603076cc3/nltk-3.4.zip (1.4MB)\n",
            "\r\u001b[K    0% |▎                               | 10kB 14.6MB/s eta 0:00:01\r\u001b[K    1% |▌                               | 20kB 3.4MB/s eta 0:00:01\r\u001b[K    2% |▊                               | 30kB 4.9MB/s eta 0:00:01\r\u001b[K    2% |█                               | 40kB 3.1MB/s eta 0:00:01\r\u001b[K    3% |█▏                              | 51kB 3.8MB/s eta 0:00:01\r\u001b[K    4% |█▍                              | 61kB 4.5MB/s eta 0:00:01\r\u001b[K    5% |█▋                              | 71kB 5.1MB/s eta 0:00:01\r\u001b[K    5% |█▉                              | 81kB 5.8MB/s eta 0:00:01\r\u001b[K    6% |██                              | 92kB 4.5MB/s eta 0:00:01\r\u001b[K    7% |██▎                             | 102kB 4.9MB/s eta 0:00:01\r\u001b[K    7% |██▌                             | 112kB 5.0MB/s eta 0:00:01\r\u001b[K    8% |██▊                             | 122kB 6.7MB/s eta 0:00:01\r\u001b[K    9% |███                             | 133kB 6.6MB/s eta 0:00:01\r\u001b[K    10% |███▏                            | 143kB 11.9MB/s eta 0:00:01\r\u001b[K    10% |███▍                            | 153kB 12.1MB/s eta 0:00:01\r\u001b[K    11% |███▋                            | 163kB 12.1MB/s eta 0:00:01\r\u001b[K    12% |████                            | 174kB 11.8MB/s eta 0:00:01\r\u001b[K    12% |████▏                           | 184kB 11.8MB/s eta 0:00:01\r\u001b[K    13% |████▍                           | 194kB 44.9MB/s eta 0:00:01\r\u001b[K    14% |████▋                           | 204kB 42.2MB/s eta 0:00:01\r\u001b[K    15% |████▉                           | 215kB 14.8MB/s eta 0:00:01\r\u001b[K    15% |█████                           | 225kB 14.7MB/s eta 0:00:01\r\u001b[K    16% |█████▎                          | 235kB 14.8MB/s eta 0:00:01\r\u001b[K    17% |█████▌                          | 245kB 14.8MB/s eta 0:00:01\r\u001b[K    17% |█████▊                          | 256kB 14.8MB/s eta 0:00:01\r\u001b[K    18% |██████                          | 266kB 14.3MB/s eta 0:00:01\r\u001b[K    19% |██████▏                         | 276kB 14.9MB/s eta 0:00:01\r\u001b[K    20% |██████▍                         | 286kB 15.0MB/s eta 0:00:01\r\u001b[K    20% |██████▋                         | 296kB 14.9MB/s eta 0:00:01\r\u001b[K    21% |██████▉                         | 307kB 15.5MB/s eta 0:00:01\r\u001b[K    22% |███████                         | 317kB 50.6MB/s eta 0:00:01\r\u001b[K    22% |███████▎                        | 327kB 52.6MB/s eta 0:00:01\r\u001b[K    23% |███████▌                        | 337kB 54.7MB/s eta 0:00:01\r\u001b[K    24% |███████▉                        | 348kB 47.9MB/s eta 0:00:01\r\u001b[K    25% |████████                        | 358kB 47.7MB/s eta 0:00:01\r\u001b[K    25% |████████▎                       | 368kB 53.4MB/s eta 0:00:01\r\u001b[K    26% |████████▌                       | 378kB 54.3MB/s eta 0:00:01\r\u001b[K    27% |████████▊                       | 389kB 54.1MB/s eta 0:00:01\r\u001b[K    27% |█████████                       | 399kB 18.0MB/s eta 0:00:01\r\u001b[K    28% |█████████▏                      | 409kB 17.7MB/s eta 0:00:01\r\u001b[K    29% |█████████▍                      | 419kB 17.6MB/s eta 0:00:01\r\u001b[K    30% |█████████▋                      | 430kB 17.4MB/s eta 0:00:01\r\u001b[K    30% |█████████▉                      | 440kB 17.5MB/s eta 0:00:01\r\u001b[K    31% |██████████                      | 450kB 17.8MB/s eta 0:00:01\r\u001b[K    32% |██████████▎                     | 460kB 17.7MB/s eta 0:00:01\r\u001b[K    32% |██████████▌                     | 471kB 17.9MB/s eta 0:00:01\r\u001b[K    33% |██████████▊                     | 481kB 17.8MB/s eta 0:00:01\r\u001b[K    34% |███████████                     | 491kB 17.8MB/s eta 0:00:01\r\u001b[K    35% |███████████▏                    | 501kB 52.5MB/s eta 0:00:01\r\u001b[K    35% |███████████▍                    | 512kB 47.8MB/s eta 0:00:01\r\u001b[K    36% |███████████▊                    | 522kB 48.8MB/s eta 0:00:01\r\u001b[K    37% |████████████                    | 532kB 50.7MB/s eta 0:00:01\r\u001b[K    37% |████████████▏                   | 542kB 50.5MB/s eta 0:00:01\r\u001b[K    38% |████████████▍                   | 552kB 56.2MB/s eta 0:00:01\r\u001b[K    39% |████████████▋                   | 563kB 56.7MB/s eta 0:00:01\r\u001b[K    40% |████████████▉                   | 573kB 55.4MB/s eta 0:00:01\r\u001b[K    40% |█████████████                   | 583kB 55.2MB/s eta 0:00:01\r\u001b[K    41% |█████████████▎                  | 593kB 54.2MB/s eta 0:00:01\r\u001b[K    42% |█████████████▌                  | 604kB 54.1MB/s eta 0:00:01\r\u001b[K    42% |█████████████▊                  | 614kB 62.1MB/s eta 0:00:01\r\u001b[K    43% |██████████████                  | 624kB 61.1MB/s eta 0:00:01\r\u001b[K    44% |██████████████▏                 | 634kB 60.9MB/s eta 0:00:01\r\u001b[K    45% |██████████████▍                 | 645kB 22.3MB/s eta 0:00:01\r\u001b[K    45% |██████████████▋                 | 655kB 21.8MB/s eta 0:00:01\r\u001b[K    46% |██████████████▉                 | 665kB 19.4MB/s eta 0:00:01\r\u001b[K    47% |███████████████                 | 675kB 18.9MB/s eta 0:00:01\r\u001b[K    47% |███████████████▎                | 686kB 18.9MB/s eta 0:00:01\r\u001b[K    48% |███████████████▋                | 696kB 19.0MB/s eta 0:00:01\r\u001b[K    49% |███████████████▉                | 706kB 19.0MB/s eta 0:00:01\r\u001b[K    50% |████████████████                | 716kB 19.2MB/s eta 0:00:01\r\u001b[K    50% |████████████████▎               | 727kB 19.3MB/s eta 0:00:01\r\u001b[K    51% |████████████████▌               | 737kB 19.3MB/s eta 0:00:01\r\u001b[K    52% |████████████████▊               | 747kB 42.5MB/s eta 0:00:01\r\u001b[K    52% |█████████████████               | 757kB 43.4MB/s eta 0:00:01\r\u001b[K    53% |█████████████████▏              | 768kB 57.9MB/s eta 0:00:01\r\u001b[K    54% |█████████████████▍              | 778kB 62.5MB/s eta 0:00:01\r\u001b[K    55% |█████████████████▋              | 788kB 62.2MB/s eta 0:00:01\r\u001b[K    55% |█████████████████▉              | 798kB 62.0MB/s eta 0:00:01\r\u001b[K    56% |██████████████████              | 808kB 60.3MB/s eta 0:00:01\r\u001b[K    57% |██████████████████▎             | 819kB 59.6MB/s eta 0:00:01\r\u001b[K    57% |██████████████████▌             | 829kB 59.5MB/s eta 0:00:01\r\u001b[K    58% |██████████████████▊             | 839kB 59.4MB/s eta 0:00:01\r\u001b[K    59% |███████████████████             | 849kB 60.2MB/s eta 0:00:01\r\u001b[K    60% |███████████████████▏            | 860kB 51.9MB/s eta 0:00:01\r\u001b[K    60% |███████████████████▌            | 870kB 51.9MB/s eta 0:00:01\r\u001b[K    61% |███████████████████▊            | 880kB 52.7MB/s eta 0:00:01\r\u001b[K    62% |████████████████████            | 890kB 53.1MB/s eta 0:00:01\r\u001b[K    62% |████████████████████▏           | 901kB 54.5MB/s eta 0:00:01\r\u001b[K    63% |████████████████████▍           | 911kB 54.7MB/s eta 0:00:01\r\u001b[K    64% |████████████████████▋           | 921kB 54.7MB/s eta 0:00:01\r\u001b[K    65% |████████████████████▉           | 931kB 54.5MB/s eta 0:00:01\r\u001b[K    65% |█████████████████████           | 942kB 54.8MB/s eta 0:00:01\r\u001b[K    66% |█████████████████████▎          | 952kB 54.8MB/s eta 0:00:01\r\u001b[K    67% |█████████████████████▌          | 962kB 66.4MB/s eta 0:00:01\r\u001b[K    67% |█████████████████████▊          | 972kB 65.4MB/s eta 0:00:01\r\u001b[K    68% |██████████████████████          | 983kB 65.0MB/s eta 0:00:01\r\u001b[K    69% |██████████████████████▏         | 993kB 63.8MB/s eta 0:00:01\r\u001b[K    70% |██████████████████████▍         | 1.0MB 62.1MB/s eta 0:00:01\r\u001b[K    70% |██████████████████████▋         | 1.0MB 63.2MB/s eta 0:00:01\r\u001b[K    71% |██████████████████████▉         | 1.0MB 60.2MB/s eta 0:00:01\r\u001b[K    72% |███████████████████████▏        | 1.0MB 58.9MB/s eta 0:00:01\r\u001b[K    72% |███████████████████████▍        | 1.0MB 56.8MB/s eta 0:00:01\r\u001b[K    73% |███████████████████████▋        | 1.1MB 56.6MB/s eta 0:00:01\r\u001b[K    74% |███████████████████████▉        | 1.1MB 57.6MB/s eta 0:00:01\r\u001b[K    75% |████████████████████████        | 1.1MB 58.7MB/s eta 0:00:01\r\u001b[K    75% |████████████████████████▎       | 1.1MB 11.6MB/s eta 0:00:01\r\u001b[K    76% |████████████████████████▌       | 1.1MB 10.7MB/s eta 0:00:01\r\u001b[K    77% |████████████████████████▊       | 1.1MB 10.7MB/s eta 0:00:01\r\u001b[K    77% |█████████████████████████       | 1.1MB 10.6MB/s eta 0:00:01\r\u001b[K    78% |█████████████████████████▏      | 1.1MB 10.7MB/s eta 0:00:01\r\u001b[K    79% |█████████████████████████▍      | 1.1MB 10.8MB/s eta 0:00:01\r\u001b[K    80% |█████████████████████████▋      | 1.1MB 10.9MB/s eta 0:00:01\r\u001b[K    80% |█████████████████████████▉      | 1.2MB 10.8MB/s eta 0:00:01\r\u001b[K    81% |██████████████████████████      | 1.2MB 10.8MB/s eta 0:00:01\r\u001b[K    82% |██████████████████████████▎     | 1.2MB 10.7MB/s eta 0:00:01\r\u001b[K    82% |██████████████████████████▌     | 1.2MB 41.4MB/s eta 0:00:01\r\u001b[K    83% |██████████████████████████▊     | 1.2MB 58.5MB/s eta 0:00:01\r\u001b[K    84% |███████████████████████████     | 1.2MB 60.0MB/s eta 0:00:01\r\u001b[K    85% |███████████████████████████▎    | 1.2MB 59.8MB/s eta 0:00:01\r\u001b[K    85% |███████████████████████████▌    | 1.2MB 59.7MB/s eta 0:00:01\r\u001b[K    86% |███████████████████████████▊    | 1.2MB 58.8MB/s eta 0:00:01\r\u001b[K    87% |████████████████████████████    | 1.2MB 58.1MB/s eta 0:00:01\r\u001b[K    87% |████████████████████████████▏   | 1.3MB 59.2MB/s eta 0:00:01\r\u001b[K    88% |████████████████████████████▍   | 1.3MB 59.7MB/s eta 0:00:01\r\u001b[K    89% |████████████████████████████▋   | 1.3MB 60.2MB/s eta 0:00:01\r\u001b[K    90% |████████████████████████████▉   | 1.3MB 61.1MB/s eta 0:00:01\r\u001b[K    90% |█████████████████████████████   | 1.3MB 60.0MB/s eta 0:00:01\r\u001b[K    91% |█████████████████████████████▎  | 1.3MB 60.5MB/s eta 0:00:01\r\u001b[K    92% |█████████████████████████████▌  | 1.3MB 61.3MB/s eta 0:00:01\r\u001b[K    92% |█████████████████████████████▊  | 1.3MB 60.7MB/s eta 0:00:01\r\u001b[K    93% |██████████████████████████████  | 1.3MB 61.4MB/s eta 0:00:01\r\u001b[K    94% |██████████████████████████████▏ | 1.4MB 61.5MB/s eta 0:00:01\r\u001b[K    95% |██████████████████████████████▍ | 1.4MB 60.7MB/s eta 0:00:01\r\u001b[K    95% |██████████████████████████████▋ | 1.4MB 60.7MB/s eta 0:00:01\r\u001b[K    96% |███████████████████████████████ | 1.4MB 60.6MB/s eta 0:00:01\r\u001b[K    97% |███████████████████████████████▏| 1.4MB 61.4MB/s eta 0:00:01\r\u001b[K    97% |███████████████████████████████▍| 1.4MB 38.3MB/s eta 0:00:01\r\u001b[K    98% |███████████████████████████████▋| 1.4MB 37.3MB/s eta 0:00:01\r\u001b[K    99% |███████████████████████████████▉| 1.4MB 37.6MB/s eta 0:00:01\r\u001b[K    100% |████████████████████████████████| 1.4MB 15.1MB/s \n",
            "\u001b[?25hRequirement already satisfied, skipping upgrade: six in /usr/local/lib/python3.6/dist-packages (from nltk) (1.11.0)\n",
            "Collecting singledispatch (from nltk)\n",
            "  Downloading https://files.pythonhosted.org/packages/c5/10/369f50bcd4621b263927b0a1519987a04383d4a98fb10438042ad410cf88/singledispatch-3.4.0.3-py2.py3-none-any.whl\n",
            "Building wheels for collected packages: nltk\n",
            "  Building wheel for nltk (setup.py) ... \u001b[?25ldone\n",
            "\u001b[?25h  Stored in directory: /root/.cache/pip/wheels/4b/c8/24/b2343664bcceb7147efeb21c0b23703a05b23fcfeaceaa2a1e\n",
            "Successfully built nltk\n",
            "Installing collected packages: singledispatch, nltk\n",
            "  Found existing installation: nltk 3.2.5\n",
            "    Uninstalling nltk-3.2.5:\n",
            "      Successfully uninstalled nltk-3.2.5\n",
            "Successfully installed nltk-3.4 singledispatch-3.4.0.3\n"
          ],
          "name": "stdout"
        },
        {
          "output_type": "stream",
          "text": [
            "[nltk_data] Downloading package punkt to /root/nltk_data...\n",
            "[nltk_data]   Unzipping tokenizers/punkt.zip.\n",
            "[nltk_data] Downloading package stopwords to /root/nltk_data...\n",
            "[nltk_data]   Unzipping corpora/stopwords.zip.\n"
          ],
          "name": "stderr"
        }
      ]
    },
    {
      "metadata": {
        "id": "M7bcmqfGXrFG",
        "colab_type": "text"
      },
      "cell_type": "markdown",
      "source": [
        "# 1) (optional) Scrape 100 Job Listings that contain the title \"Data Scientist\" from indeed.com\n",
        "\n",
        "At a minimum your final dataframe of job listings should contain\n",
        "- Job Title\n",
        "- Job Description"
      ]
    },
    {
      "metadata": {
        "id": "KcYlc1URXhlC",
        "colab_type": "code",
        "colab": {
          "base_uri": "https://localhost:8080/",
          "height": 54
        },
        "outputId": "3ef0560b-3864-4fbb-c2a4-0098d753dbc4"
      },
      "cell_type": "code",
      "source": [
        "# Based on Edward Barnett's query_generator \n",
        "def query_generator(keyword, location, radius=10, age=30):\n",
        "    '''\n",
        "    Generates query URLs for Indeed.com. Shows 50 results,\n",
        "    finds only jobs on employer site,\n",
        "    sorts by relevance, shows only full-time jobs\n",
        "    \n",
        "    Inputs:\n",
        "    -------\n",
        "    keyword (string) : keyword for the job title\n",
        "    location (string) : city or zip code\n",
        "    radius (int) : Miles from the place noted above\n",
        "    age : How many days since job was posted\n",
        "\n",
        "    Outputs:\n",
        "    --------\n",
        "    The query url\n",
        "    '''\n",
        "\n",
        "    keyword = keyword.replace(' ', '+')\n",
        "    location = location.replace(' ', '+')\n",
        "    \n",
        "    string1 = f\"https://www.indeed.com/jobs?as_and={keyword}&as_phr=&as_any=&as_not=&as_ttl=&as_cmp=&jt=fulltime&st=employer\"\n",
        "    string2 = f\"sr=directhire&as_src=&salary=&radius={radius}&l={location}&fromage={age}&limit=50&sort=&psf=advsrch\"\n",
        "    query = string1+string2\n",
        "\n",
        "    return query\n",
        "\n",
        "test_query = query_generator(\"data scientist\", \"San Francisco, CA\")\n",
        "print(test_query)"
      ],
      "execution_count": 38,
      "outputs": [
        {
          "output_type": "stream",
          "text": [
            "https://www.indeed.com/jobs?as_and=data+scientist&as_phr=&as_any=&as_not=&as_ttl=&as_cmp=&jt=fulltime&st=employersr=directhire&as_src=&salary=&radius=10&l=San+Francisco,+CA&fromage=30&limit=50&sort=&psf=advsrch\n"
          ],
          "name": "stdout"
        }
      ]
    },
    {
      "metadata": {
        "id": "JXgGHMFCPvFP",
        "colab_type": "code",
        "colab": {}
      },
      "cell_type": "code",
      "source": [
        "from bs4 import BeautifulSoup\n",
        "import requests\n",
        "url = 'https://www.indeed.com/jobs?q=data+scientist&l=San+Francisco,+CA&radius=15&rbl=San+Francisco,+CA&jlid=6cf5e6d389fd6d6b&jt=fulltime&limit=50&fromage=15'\n",
        "page = requests.get(url)\n",
        "soup = BeautifulSoup(page.text, 'html.parser')"
      ],
      "execution_count": 0,
      "outputs": []
    },
    {
      "metadata": {
        "id": "FYcTOU_EP0wh",
        "colab_type": "code",
        "colab": {}
      },
      "cell_type": "code",
      "source": [
        "soup.find(td=\"resultsCol\") #jobsearch-SerpJobCard"
      ],
      "execution_count": 0,
      "outputs": []
    },
    {
      "metadata": {
        "id": "5C4xFZNtX1m2",
        "colab_type": "text"
      },
      "cell_type": "markdown",
      "source": [
        "## 2) Use NLTK to tokenize / clean the listings "
      ]
    },
    {
      "metadata": {
        "id": "dhUHuMr-X-II",
        "colab_type": "code",
        "colab": {}
      },
      "cell_type": "code",
      "source": [
        "from urllib.request import urlopen\n",
        "import re\n",
        "from bs4 import BeautifulSoup\n",
        "\n",
        "\n",
        "scraped_url = 'https://raw.githubusercontent.com/LambdaSchool/DS-Unit-4-Sprint-2-NLP/master/module2-Bag-of-Words/job_listings.csv'\n",
        "\n",
        "t = []\n",
        "data = urlopen(scraped_url)\n",
        "for line in data:\n",
        "  html_doc = line\n",
        "  soup = BeautifulSoup(html_doc, 'html.parser')\n",
        "  \n",
        "  #t.append(soup.get_text())\n",
        " \n",
        "  #print(soup.get_text('', strip=True))"
      ],
      "execution_count": 0,
      "outputs": []
    },
    {
      "metadata": {
        "id": "O3CQam9xJ6a6",
        "colab_type": "code",
        "colab": {
          "base_uri": "https://localhost:8080/",
          "height": 215
        },
        "outputId": "3c8baba3-2968-4ffb-8704-a96115406ddc"
      },
      "cell_type": "code",
      "source": [
        "import pandas as pd\n",
        "\n",
        "url = 'https://raw.githubusercontent.com/LambdaSchool/DS-Unit-4-Sprint-2-NLP/master/module2-Bag-of-Words/job_listings.csv'\n",
        "df = pd.read_csv(url, index_col=0)\n",
        "print(df.shape)\n",
        "df.head()"
      ],
      "execution_count": 17,
      "outputs": [
        {
          "output_type": "stream",
          "text": [
            "(426, 2)\n"
          ],
          "name": "stdout"
        },
        {
          "output_type": "execute_result",
          "data": {
            "text/html": [
              "<div>\n",
              "<style scoped>\n",
              "    .dataframe tbody tr th:only-of-type {\n",
              "        vertical-align: middle;\n",
              "    }\n",
              "\n",
              "    .dataframe tbody tr th {\n",
              "        vertical-align: top;\n",
              "    }\n",
              "\n",
              "    .dataframe thead th {\n",
              "        text-align: right;\n",
              "    }\n",
              "</style>\n",
              "<table border=\"1\" class=\"dataframe\">\n",
              "  <thead>\n",
              "    <tr style=\"text-align: right;\">\n",
              "      <th></th>\n",
              "      <th>description</th>\n",
              "      <th>title</th>\n",
              "    </tr>\n",
              "  </thead>\n",
              "  <tbody>\n",
              "    <tr>\n",
              "      <th>0</th>\n",
              "      <td>b\"&lt;div&gt;&lt;div&gt;Job Requirements:&lt;/div&gt;&lt;ul&gt;&lt;li&gt;&lt;p&gt;...</td>\n",
              "      <td>Data scientist</td>\n",
              "    </tr>\n",
              "    <tr>\n",
              "      <th>1</th>\n",
              "      <td>b'&lt;div&gt;Job Description&lt;br/&gt;\\n&lt;br/&gt;\\n&lt;p&gt;As a Da...</td>\n",
              "      <td>Data Scientist I</td>\n",
              "    </tr>\n",
              "    <tr>\n",
              "      <th>2</th>\n",
              "      <td>b'&lt;div&gt;&lt;p&gt;As a Data Scientist you will be work...</td>\n",
              "      <td>Data Scientist - Entry Level</td>\n",
              "    </tr>\n",
              "    <tr>\n",
              "      <th>3</th>\n",
              "      <td>b'&lt;div class=\"jobsearch-JobMetadataHeader icl-...</td>\n",
              "      <td>Data Scientist</td>\n",
              "    </tr>\n",
              "    <tr>\n",
              "      <th>4</th>\n",
              "      <td>b'&lt;ul&gt;&lt;li&gt;Location: USA \\xe2\\x80\\x93 multiple ...</td>\n",
              "      <td>Data Scientist</td>\n",
              "    </tr>\n",
              "  </tbody>\n",
              "</table>\n",
              "</div>"
            ],
            "text/plain": [
              "                                         description  \\\n",
              "0  b\"<div><div>Job Requirements:</div><ul><li><p>...   \n",
              "1  b'<div>Job Description<br/>\\n<br/>\\n<p>As a Da...   \n",
              "2  b'<div><p>As a Data Scientist you will be work...   \n",
              "3  b'<div class=\"jobsearch-JobMetadataHeader icl-...   \n",
              "4  b'<ul><li>Location: USA \\xe2\\x80\\x93 multiple ...   \n",
              "\n",
              "                          title  \n",
              "0               Data scientist   \n",
              "1              Data Scientist I  \n",
              "2  Data Scientist - Entry Level  \n",
              "3                Data Scientist  \n",
              "4                Data Scientist  "
            ]
          },
          "metadata": {
            "tags": []
          },
          "execution_count": 17
        }
      ]
    },
    {
      "metadata": {
        "id": "aXD_zBQ3KV7C",
        "colab_type": "code",
        "colab": {
          "base_uri": "https://localhost:8080/",
          "height": 54
        },
        "outputId": "3addecf2-9a06-43ef-866f-5d83a2c178e2"
      },
      "cell_type": "code",
      "source": [
        "df.description[0]"
      ],
      "execution_count": 18,
      "outputs": [
        {
          "output_type": "execute_result",
          "data": {
            "text/plain": [
              "'b\"<div><div>Job Requirements:</div><ul><li><p>\\\\nConceptual understanding in Machine Learning models like Nai\\\\xc2\\\\xa8ve Bayes, K-Means, SVM, Apriori, Linear/ Logistic Regression, Neural, Random Forests, Decision Trees, K-NN along with hands-on experience in at least 2 of them</p>\\\\n</li><li><p>Intermediate to expert level coding skills in Python/R. (Ability to write functions, clean and efficient data manipulation are mandatory for this role)</p>\\\\n</li><li><p>Exposure to packages like NumPy, SciPy, Pandas, Matplotlib etc in Python or GGPlot2, dplyr, tidyR in R</p>\\\\n</li><li><p>Ability to communicate Model findings to both Technical and Non-Technical stake holders</p>\\\\n</li><li><p>Hands on experience in SQL/Hive or similar programming language</p>\\\\n</li><li><p>Must show past work via GitHub, Kaggle or any other published article</p>\\\\n</li><li><p>Master\\'s degree in Statistics/Mathematics/Computer Science or any other quant specific field.</p></li></ul><div><div><div><div><div><div>\\\\nApply Now</div></div></div></div></div></div></div><div></div>\"'"
            ]
          },
          "metadata": {
            "tags": []
          },
          "execution_count": 18
        }
      ]
    },
    {
      "metadata": {
        "id": "Ll6WIQdzOEPO",
        "colab_type": "code",
        "colab": {
          "base_uri": "https://localhost:8080/",
          "height": 68
        },
        "outputId": "e2f2f0b8-0ed1-4af5-9f57-b8d965356d66"
      },
      "cell_type": "code",
      "source": [
        "!pip install -U nltk\n",
        "\n",
        "import nltk\n",
        "nltk.download('punkt')\n",
        "nltk.download('stopwords')\n",
        "nltk.download('wordnet')"
      ],
      "execution_count": 29,
      "outputs": [
        {
          "output_type": "stream",
          "text": [
            "[nltk_data] Downloading package wordnet to /root/nltk_data...\n",
            "[nltk_data]   Unzipping corpora/wordnet.zip.\n"
          ],
          "name": "stderr"
        },
        {
          "output_type": "execute_result",
          "data": {
            "text/plain": [
              "True"
            ]
          },
          "metadata": {
            "tags": []
          },
          "execution_count": 29
        }
      ]
    },
    {
      "metadata": {
        "id": "tC1Tl3u8K3hy",
        "colab_type": "code",
        "colab": {}
      },
      "cell_type": "code",
      "source": [
        "import string\n",
        "from nltk.corpus import stopwords\n",
        "from nltk.tokenize import sent_tokenize # Sentence Tokenizer\n",
        "from nltk.tokenize import word_tokenize # Word Tokenizer\n",
        "from nltk.stem.wordnet import WordNetLemmatizer\n",
        "\n",
        "# Remove extra quatation marks and a leading b from each string\n",
        "job_listings = [x[2:-1] for x in df.description.tolist()]\n",
        "\n",
        "#table = str.maketrans(string.punctuation,' '*32)\n",
        "table = str.maketrans('', '', string.punctuation)\n",
        "stop_words = set(stopwords.words('english'))\n",
        "lemmatizer = WordNetLemmatizer()\n",
        "cleaned_listings = []\n",
        "\n",
        "for listing in job_listings:\n",
        "    # Remove HTML tags and paragraph breaks (\\\\n)\n",
        "    listing = re.sub(pattern=r'\\\\n|<[\\w/]+>', repl='', string=listing)\n",
        "   \n",
        "#     print(listing)\n",
        "    # Strip punctuation everywhere,\n",
        "    # replacing it with spaces so that words separated only\n",
        "    # by punctuation don't get smooshed together\n",
        "    no_punctuation = listing.translate(table)\n",
        "#     print(\"No Punctuation:\", no_punctuation)\n",
        "#     print('------------------------------------------')\n",
        "    \n",
        "    # Tokenize by word\n",
        "    tokens = word_tokenize(no_punctuation)\n",
        "#     print(\"Tokens:\", tokens)\n",
        "#     print('------------------------------------------')\n",
        "    \n",
        "    # Make all words lowercase\n",
        "    lowercase_tokens = [w.lower() for w in tokens]\n",
        "#     print(\"Lowercase:\", lowercase_tokens)\n",
        "#     print('------------------------------------------')\n",
        "    \n",
        "      # Remove words that aren't alphabetic\n",
        "    alphabetic = [w for w in lowercase_tokens if w.isalpha()]\n",
        "#     print(\"Alphabetic:\", alphabetic)\n",
        "#     print('------------------------------------------')\n",
        "    \n",
        "    # Remove stopwords\n",
        "    words = [w for w in alphabetic if not w in stop_words]\n",
        "#     print(\"Cleaned Words:\", words)\n",
        "#     print(\"--------------------------------\")\n",
        "    \n",
        "    # lemmatize!\n",
        "    lemmas = [lemmatizer.lemmatize(w) for w in words]\n",
        "    # Append to list\n",
        "    cleaned_listings.append(words)\n",
        "    "
      ],
      "execution_count": 0,
      "outputs": []
    },
    {
      "metadata": {
        "id": "o7MiwmJ0Oap3",
        "colab_type": "code",
        "colab": {
          "base_uri": "https://localhost:8080/",
          "height": 34
        },
        "outputId": "64875d84-0d96-4788-c6d0-9aca9239f4f3"
      },
      "cell_type": "code",
      "source": [
        "len(cleaned_listings)"
      ],
      "execution_count": 33,
      "outputs": [
        {
          "output_type": "execute_result",
          "data": {
            "text/plain": [
              "426"
            ]
          },
          "metadata": {
            "tags": []
          },
          "execution_count": 33
        }
      ]
    },
    {
      "metadata": {
        "id": "-lgCZNL_YycP",
        "colab_type": "text"
      },
      "cell_type": "markdown",
      "source": [
        "# 3) Use Scikit-Learn's CountVectorizer to get word counts for each listing."
      ]
    },
    {
      "metadata": {
        "id": "X2PZ8Pj_YxcF",
        "colab_type": "code",
        "colab": {}
      },
      "cell_type": "code",
      "source": [
        "from sklearn.feature_extraction.text import CountVectorizer\n",
        "\n",
        "# Get it into form [\"word word word\", \"word word word\"]\n",
        "cleaned_as_strings = [\" \".join(x) for x in cleaned_listings]\n",
        "\n",
        "# Instantiate vectorizer object\n",
        "vectorizer = CountVectorizer()\n",
        "# Create a vocabulary and get word counts per document\n",
        "bag_of_words = vectorizer.fit_transform(cleaned_as_strings)\n",
        "# Get feature names to use as dataframe column headers\n",
        "feature_names = vectorizer.get_feature_names()"
      ],
      "execution_count": 0,
      "outputs": []
    },
    {
      "metadata": {
        "id": "LHdYqQ0dO4Ts",
        "colab_type": "code",
        "colab": {
          "base_uri": "https://localhost:8080/",
          "height": 247
        },
        "outputId": "1995f755-0e6d-489f-c6b6-dfb4fba5e3ec"
      },
      "cell_type": "code",
      "source": [
        "bow_df = pd.DataFrame(bag_of_words.toarray(), columns=feature_names)\n",
        "bow_df.head()"
      ],
      "execution_count": 35,
      "outputs": [
        {
          "output_type": "execute_result",
          "data": {
            "text/html": [
              "<div>\n",
              "<style scoped>\n",
              "    .dataframe tbody tr th:only-of-type {\n",
              "        vertical-align: middle;\n",
              "    }\n",
              "\n",
              "    .dataframe tbody tr th {\n",
              "        vertical-align: top;\n",
              "    }\n",
              "\n",
              "    .dataframe thead th {\n",
              "        text-align: right;\n",
              "    }\n",
              "</style>\n",
              "<table border=\"1\" class=\"dataframe\">\n",
              "  <thead>\n",
              "    <tr style=\"text-align: right;\">\n",
              "      <th></th>\n",
              "      <th>aaai</th>\n",
              "      <th>aaeeo</th>\n",
              "      <th>aampa</th>\n",
              "      <th>aampas</th>\n",
              "      <th>ab</th>\n",
              "      <th>abernathy</th>\n",
              "      <th>abilities</th>\n",
              "      <th>abilitiesability</th>\n",
              "      <th>abilitiesdevelops</th>\n",
              "      <th>abilitiesexperience</th>\n",
              "      <th>...</th>\n",
              "      <th>zero</th>\n",
              "      <th>zeus</th>\n",
              "      <th>zf</th>\n",
              "      <th>zheng</th>\n",
              "      <th>zillow</th>\n",
              "      <th>zillows</th>\n",
              "      <th>zonesability</th>\n",
              "      <th>zoom</th>\n",
              "      <th>zuckerberg</th>\n",
              "      <th>zurich</th>\n",
              "    </tr>\n",
              "  </thead>\n",
              "  <tbody>\n",
              "    <tr>\n",
              "      <th>0</th>\n",
              "      <td>0</td>\n",
              "      <td>0</td>\n",
              "      <td>0</td>\n",
              "      <td>0</td>\n",
              "      <td>0</td>\n",
              "      <td>0</td>\n",
              "      <td>0</td>\n",
              "      <td>0</td>\n",
              "      <td>0</td>\n",
              "      <td>0</td>\n",
              "      <td>...</td>\n",
              "      <td>0</td>\n",
              "      <td>0</td>\n",
              "      <td>0</td>\n",
              "      <td>0</td>\n",
              "      <td>0</td>\n",
              "      <td>0</td>\n",
              "      <td>0</td>\n",
              "      <td>0</td>\n",
              "      <td>0</td>\n",
              "      <td>0</td>\n",
              "    </tr>\n",
              "    <tr>\n",
              "      <th>1</th>\n",
              "      <td>0</td>\n",
              "      <td>0</td>\n",
              "      <td>0</td>\n",
              "      <td>0</td>\n",
              "      <td>0</td>\n",
              "      <td>0</td>\n",
              "      <td>0</td>\n",
              "      <td>0</td>\n",
              "      <td>0</td>\n",
              "      <td>0</td>\n",
              "      <td>...</td>\n",
              "      <td>0</td>\n",
              "      <td>0</td>\n",
              "      <td>0</td>\n",
              "      <td>0</td>\n",
              "      <td>0</td>\n",
              "      <td>0</td>\n",
              "      <td>0</td>\n",
              "      <td>0</td>\n",
              "      <td>0</td>\n",
              "      <td>0</td>\n",
              "    </tr>\n",
              "    <tr>\n",
              "      <th>2</th>\n",
              "      <td>0</td>\n",
              "      <td>0</td>\n",
              "      <td>0</td>\n",
              "      <td>0</td>\n",
              "      <td>0</td>\n",
              "      <td>0</td>\n",
              "      <td>0</td>\n",
              "      <td>0</td>\n",
              "      <td>0</td>\n",
              "      <td>0</td>\n",
              "      <td>...</td>\n",
              "      <td>0</td>\n",
              "      <td>0</td>\n",
              "      <td>0</td>\n",
              "      <td>0</td>\n",
              "      <td>0</td>\n",
              "      <td>0</td>\n",
              "      <td>0</td>\n",
              "      <td>0</td>\n",
              "      <td>0</td>\n",
              "      <td>0</td>\n",
              "    </tr>\n",
              "    <tr>\n",
              "      <th>3</th>\n",
              "      <td>0</td>\n",
              "      <td>0</td>\n",
              "      <td>0</td>\n",
              "      <td>0</td>\n",
              "      <td>0</td>\n",
              "      <td>0</td>\n",
              "      <td>0</td>\n",
              "      <td>0</td>\n",
              "      <td>0</td>\n",
              "      <td>0</td>\n",
              "      <td>...</td>\n",
              "      <td>0</td>\n",
              "      <td>0</td>\n",
              "      <td>0</td>\n",
              "      <td>1</td>\n",
              "      <td>0</td>\n",
              "      <td>0</td>\n",
              "      <td>0</td>\n",
              "      <td>0</td>\n",
              "      <td>0</td>\n",
              "      <td>0</td>\n",
              "    </tr>\n",
              "    <tr>\n",
              "      <th>4</th>\n",
              "      <td>0</td>\n",
              "      <td>0</td>\n",
              "      <td>0</td>\n",
              "      <td>0</td>\n",
              "      <td>0</td>\n",
              "      <td>0</td>\n",
              "      <td>0</td>\n",
              "      <td>0</td>\n",
              "      <td>0</td>\n",
              "      <td>0</td>\n",
              "      <td>...</td>\n",
              "      <td>0</td>\n",
              "      <td>0</td>\n",
              "      <td>0</td>\n",
              "      <td>0</td>\n",
              "      <td>0</td>\n",
              "      <td>0</td>\n",
              "      <td>0</td>\n",
              "      <td>0</td>\n",
              "      <td>0</td>\n",
              "      <td>0</td>\n",
              "    </tr>\n",
              "  </tbody>\n",
              "</table>\n",
              "<p>5 rows × 14946 columns</p>\n",
              "</div>"
            ],
            "text/plain": [
              "   aaai  aaeeo  aampa  aampas  ab  abernathy  abilities  abilitiesability  \\\n",
              "0     0      0      0       0   0          0          0                 0   \n",
              "1     0      0      0       0   0          0          0                 0   \n",
              "2     0      0      0       0   0          0          0                 0   \n",
              "3     0      0      0       0   0          0          0                 0   \n",
              "4     0      0      0       0   0          0          0                 0   \n",
              "\n",
              "   abilitiesdevelops  abilitiesexperience   ...    zero  zeus  zf  zheng  \\\n",
              "0                  0                    0   ...       0     0   0      0   \n",
              "1                  0                    0   ...       0     0   0      0   \n",
              "2                  0                    0   ...       0     0   0      0   \n",
              "3                  0                    0   ...       0     0   0      1   \n",
              "4                  0                    0   ...       0     0   0      0   \n",
              "\n",
              "   zillow  zillows  zonesability  zoom  zuckerberg  zurich  \n",
              "0       0        0             0     0           0       0  \n",
              "1       0        0             0     0           0       0  \n",
              "2       0        0             0     0           0       0  \n",
              "3       0        0             0     0           0       0  \n",
              "4       0        0             0     0           0       0  \n",
              "\n",
              "[5 rows x 14946 columns]"
            ]
          },
          "metadata": {
            "tags": []
          },
          "execution_count": 35
        }
      ]
    },
    {
      "metadata": {
        "id": "Zo1iH_UeY7_n",
        "colab_type": "text"
      },
      "cell_type": "markdown",
      "source": [
        "# 4) Visualize the most common word counts"
      ]
    },
    {
      "metadata": {
        "id": "M5LB00uyZKV5",
        "colab_type": "code",
        "colab": {
          "base_uri": "https://localhost:8080/",
          "height": 408
        },
        "outputId": "36390d2a-304f-4992-bb0b-879910bd34c9"
      },
      "cell_type": "code",
      "source": [
        "from nltk.probability import FreqDist\n",
        "from itertools import chain\n",
        "import matplotlib.pyplot as plt\n",
        "\n",
        "# Flatten cleaned_listings into a list of words, rather than\n",
        "# a list of lists of words\n",
        "all_the_words = list(chain(*cleaned_listings))\n",
        "\n",
        "fdist = FreqDist(all_the_words)\n",
        "\n",
        "fdist.plot(30,cumulative=False)\n",
        "plt.show()\n"
      ],
      "execution_count": 36,
      "outputs": [
        {
          "output_type": "display_data",
          "data": {
            "image/png": "[encoded data removed]",
            "text/plain": [
              "<Figure size 576x396 with 1 Axes>"
            ]
          },
          "metadata": {
            "tags": []
          }
        }
      ]
    },
    {
      "metadata": {
        "id": "bwFsTqrVZMYi",
        "colab_type": "text"
      },
      "cell_type": "markdown",
      "source": [
        " # 5) Use Scikit-Learn's tfidfVectorizer to get a TF-IDF feature matrix"
      ]
    },
    {
      "metadata": {
        "id": "-gx2gZCbl5Np",
        "colab_type": "code",
        "colab": {
          "base_uri": "https://localhost:8080/",
          "height": 247
        },
        "outputId": "59b4c991-a0bc-4394-d343-a6e311d5179e"
      },
      "cell_type": "code",
      "source": [
        "from sklearn.feature_extraction.text import TfidfVectorizer\n",
        "\n",
        "# List of document strings as text\n",
        "text = cleaned_as_strings\n",
        "# Instantiate vectorizer object\n",
        "tfidf = TfidfVectorizer(max_features = 30)\n",
        "# Create a vocabulary and get word counts per document\n",
        "feature_matrix = tfidf.fit_transform(text)\n",
        "# Get feature names to use as dataframe column headers\n",
        "feature_names = tfidf.get_feature_names()\n",
        "\n",
        "# View Feature Matrix as DataFrame\n",
        "df = pd.DataFrame(feature_matrix.toarray(), columns=feature_names)\n",
        "df.head()"
      ],
      "execution_count": 37,
      "outputs": [
        {
          "output_type": "execute_result",
          "data": {
            "text/html": [
              "<div>\n",
              "<style scoped>\n",
              "    .dataframe tbody tr th:only-of-type {\n",
              "        vertical-align: middle;\n",
              "    }\n",
              "\n",
              "    .dataframe tbody tr th {\n",
              "        vertical-align: top;\n",
              "    }\n",
              "\n",
              "    .dataframe thead th {\n",
              "        text-align: right;\n",
              "    }\n",
              "</style>\n",
              "<table border=\"1\" class=\"dataframe\">\n",
              "  <thead>\n",
              "    <tr style=\"text-align: right;\">\n",
              "      <th></th>\n",
              "      <th>analysis</th>\n",
              "      <th>analytics</th>\n",
              "      <th>business</th>\n",
              "      <th>data</th>\n",
              "      <th>development</th>\n",
              "      <th>engineering</th>\n",
              "      <th>experience</th>\n",
              "      <th>help</th>\n",
              "      <th>including</th>\n",
              "      <th>insights</th>\n",
              "      <th>...</th>\n",
              "      <th>solutions</th>\n",
              "      <th>statistical</th>\n",
              "      <th>statistics</th>\n",
              "      <th>team</th>\n",
              "      <th>technical</th>\n",
              "      <th>tools</th>\n",
              "      <th>using</th>\n",
              "      <th>work</th>\n",
              "      <th>working</th>\n",
              "      <th>years</th>\n",
              "    </tr>\n",
              "  </thead>\n",
              "  <tbody>\n",
              "    <tr>\n",
              "      <th>0</th>\n",
              "      <td>0.0</td>\n",
              "      <td>0.00000</td>\n",
              "      <td>0.000000</td>\n",
              "      <td>0.208445</td>\n",
              "      <td>0.000000</td>\n",
              "      <td>0.000000</td>\n",
              "      <td>0.482362</td>\n",
              "      <td>0.00000</td>\n",
              "      <td>0.0</td>\n",
              "      <td>0.0</td>\n",
              "      <td>...</td>\n",
              "      <td>0.0</td>\n",
              "      <td>0.000000</td>\n",
              "      <td>0.000000</td>\n",
              "      <td>0.000000</td>\n",
              "      <td>0.354196</td>\n",
              "      <td>0.0</td>\n",
              "      <td>0.0</td>\n",
              "      <td>0.259107</td>\n",
              "      <td>0.000000</td>\n",
              "      <td>0.000000</td>\n",
              "    </tr>\n",
              "    <tr>\n",
              "      <th>1</th>\n",
              "      <td>0.0</td>\n",
              "      <td>0.00000</td>\n",
              "      <td>0.086087</td>\n",
              "      <td>0.268440</td>\n",
              "      <td>0.448596</td>\n",
              "      <td>0.000000</td>\n",
              "      <td>0.232949</td>\n",
              "      <td>0.31782</td>\n",
              "      <td>0.0</td>\n",
              "      <td>0.0</td>\n",
              "      <td>...</td>\n",
              "      <td>0.0</td>\n",
              "      <td>0.000000</td>\n",
              "      <td>0.000000</td>\n",
              "      <td>0.252080</td>\n",
              "      <td>0.342106</td>\n",
              "      <td>0.0</td>\n",
              "      <td>0.0</td>\n",
              "      <td>0.166842</td>\n",
              "      <td>0.214733</td>\n",
              "      <td>0.000000</td>\n",
              "    </tr>\n",
              "    <tr>\n",
              "      <th>2</th>\n",
              "      <td>0.0</td>\n",
              "      <td>0.00000</td>\n",
              "      <td>0.478137</td>\n",
              "      <td>0.372737</td>\n",
              "      <td>0.000000</td>\n",
              "      <td>0.206487</td>\n",
              "      <td>0.000000</td>\n",
              "      <td>0.00000</td>\n",
              "      <td>0.0</td>\n",
              "      <td>0.0</td>\n",
              "      <td>...</td>\n",
              "      <td>0.0</td>\n",
              "      <td>0.183249</td>\n",
              "      <td>0.193039</td>\n",
              "      <td>0.000000</td>\n",
              "      <td>0.000000</td>\n",
              "      <td>0.0</td>\n",
              "      <td>0.0</td>\n",
              "      <td>0.000000</td>\n",
              "      <td>0.198776</td>\n",
              "      <td>0.000000</td>\n",
              "    </tr>\n",
              "    <tr>\n",
              "      <th>3</th>\n",
              "      <td>0.0</td>\n",
              "      <td>0.00000</td>\n",
              "      <td>0.000000</td>\n",
              "      <td>0.387483</td>\n",
              "      <td>0.000000</td>\n",
              "      <td>0.000000</td>\n",
              "      <td>0.000000</td>\n",
              "      <td>0.00000</td>\n",
              "      <td>0.0</td>\n",
              "      <td>0.0</td>\n",
              "      <td>...</td>\n",
              "      <td>0.0</td>\n",
              "      <td>0.000000</td>\n",
              "      <td>0.000000</td>\n",
              "      <td>0.727738</td>\n",
              "      <td>0.000000</td>\n",
              "      <td>0.0</td>\n",
              "      <td>0.0</td>\n",
              "      <td>0.481661</td>\n",
              "      <td>0.000000</td>\n",
              "      <td>0.000000</td>\n",
              "    </tr>\n",
              "    <tr>\n",
              "      <th>4</th>\n",
              "      <td>0.0</td>\n",
              "      <td>0.40147</td>\n",
              "      <td>0.322765</td>\n",
              "      <td>0.503230</td>\n",
              "      <td>0.000000</td>\n",
              "      <td>0.000000</td>\n",
              "      <td>0.000000</td>\n",
              "      <td>0.00000</td>\n",
              "      <td>0.0</td>\n",
              "      <td>0.0</td>\n",
              "      <td>...</td>\n",
              "      <td>0.0</td>\n",
              "      <td>0.000000</td>\n",
              "      <td>0.000000</td>\n",
              "      <td>0.000000</td>\n",
              "      <td>0.427552</td>\n",
              "      <td>0.0</td>\n",
              "      <td>0.0</td>\n",
              "      <td>0.000000</td>\n",
              "      <td>0.000000</td>\n",
              "      <td>0.373018</td>\n",
              "    </tr>\n",
              "  </tbody>\n",
              "</table>\n",
              "<p>5 rows × 30 columns</p>\n",
              "</div>"
            ],
            "text/plain": [
              "   analysis  analytics  business      data  development  engineering  \\\n",
              "0       0.0    0.00000  0.000000  0.208445     0.000000     0.000000   \n",
              "1       0.0    0.00000  0.086087  0.268440     0.448596     0.000000   \n",
              "2       0.0    0.00000  0.478137  0.372737     0.000000     0.206487   \n",
              "3       0.0    0.00000  0.000000  0.387483     0.000000     0.000000   \n",
              "4       0.0    0.40147  0.322765  0.503230     0.000000     0.000000   \n",
              "\n",
              "   experience     help  including  insights    ...     solutions  statistical  \\\n",
              "0    0.482362  0.00000        0.0       0.0    ...           0.0     0.000000   \n",
              "1    0.232949  0.31782        0.0       0.0    ...           0.0     0.000000   \n",
              "2    0.000000  0.00000        0.0       0.0    ...           0.0     0.183249   \n",
              "3    0.000000  0.00000        0.0       0.0    ...           0.0     0.000000   \n",
              "4    0.000000  0.00000        0.0       0.0    ...           0.0     0.000000   \n",
              "\n",
              "   statistics      team  technical  tools  using      work   working     years  \n",
              "0    0.000000  0.000000   0.354196    0.0    0.0  0.259107  0.000000  0.000000  \n",
              "1    0.000000  0.252080   0.342106    0.0    0.0  0.166842  0.214733  0.000000  \n",
              "2    0.193039  0.000000   0.000000    0.0    0.0  0.000000  0.198776  0.000000  \n",
              "3    0.000000  0.727738   0.000000    0.0    0.0  0.481661  0.000000  0.000000  \n",
              "4    0.000000  0.000000   0.427552    0.0    0.0  0.000000  0.000000  0.373018  \n",
              "\n",
              "[5 rows x 30 columns]"
            ]
          },
          "metadata": {
            "tags": []
          },
          "execution_count": 37
        }
      ]
    },
    {
      "metadata": {
        "id": "FiDfTWceoRkH",
        "colab_type": "text"
      },
      "cell_type": "markdown",
      "source": [
        "## Stretch Goals\n",
        "\n",
        " - Scrape Job Listings for the job title \"Data Analyst\". How do these differ from Data Scientist Job Listings\n",
        " - Try and identify requirements for experience specific technologies that are asked for in the job listings. How are those distributed among the job listings?\n",
        " - Use a clustering algorithm to cluster documents by their most important terms. Do the clusters reveal any common themes?\n",
        "  - **Hint:** K-means might not be the best algorithm for this. Do a little bit of research to see what might be good for this. Also, remember that algorithms that depend on Euclidean distance break down with high dimensional data."
      ]
    }
  ]
}