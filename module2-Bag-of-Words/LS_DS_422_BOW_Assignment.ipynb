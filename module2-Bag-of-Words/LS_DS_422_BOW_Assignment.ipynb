{
 "cells": [
  {
   "cell_type": "code",
   "execution_count": 4,
   "metadata": {
    "colab": {
     "base_uri": "https://localhost:8080/",
     "height": 159
    },
    "colab_type": "code",
    "id": "hyj-f9FDcVFp",
    "outputId": "5dd045fe-6e4c-458c-e2fc-253c3da9c805"
   },
   "outputs": [],
   "source": [
    "import datetime as dt\n",
    "import pandas as pd\n",
    "\n",
    "import nltk\n",
    "import re\n",
    "import requests\n",
    "import string\n",
    "\n",
    "from bs4 import BeautifulSoup, Comment, NavigableString, SoupStrainer\n",
    "from nltk.tokenize import sent_tokenize # Sentence Tokenizer\n",
    "from nltk.tokenize import word_tokenize # Word Tokenizer\n",
    "from nltk.corpus import stopwords, wordnet\n",
    "from nltk.stem.porter import PorterStemmer\n",
    "from nltk.stem.wordnet import WordNetLemmatizer\n",
    "from nltk.probability import FreqDist\n",
    "\n",
    "from sklearn.feature_extraction.text import CountVectorizer\n",
    "from sklearn.feature_extraction.text import TfidfVectorizer\n",
    "import matplotlib.pyplot as plt\n",
    "import pandas as pd\n",
    "import numpy as np"
   ]
  },
  {
   "cell_type": "markdown",
   "metadata": {
    "colab_type": "text",
    "id": "M7bcmqfGXrFG"
   },
   "source": [
    "# 1) (optional) Scrape 100 Job Listings that contain the title \"Data Scientist\" from indeed.com\n",
    "\n",
    "At a minimum your final dataframe of job listings should contain\n",
    "- Job Title\n",
    "- Job Description"
   ]
  },
  {
   "cell_type": "code",
   "execution_count": 5,
   "metadata": {
    "colab": {},
    "colab_type": "code",
    "id": "KcYlc1URXhlC"
   },
   "outputs": [],
   "source": [
    "class IndeedScraper:\n",
    "    \"\"\" Class meant for scraping Indeed.com for specified job keywords and job locations\"\"\"\n",
    "\n",
    "    def query_generator(self, keyword, location):\n",
    "        \"\"\"A function that takes a search keyword (or keywords) and a city and returns the resulting query url\"\"\"\n",
    "\n",
    "        string1 = f\"https://www.indeed.com/jobs?as_and={keyword}&as_phr=&as_any=&as_not=&as_ttl=&as_cmp=&jt=all&st=&\"\n",
    "        string2 = f\"sr=directhire&as_src=&salary=&radius=50&l={location}&fromage=any&sort=&psf=advsrch\"\n",
    "        query = string1 + string2\n",
    "\n",
    "        return query\n",
    "\n",
    "    def search_results_numeric(self, query):\n",
    "        '''A function that takes a search query url and returns the number of search results'''\n",
    "\n",
    "        search_count = SoupStrainer(id=\"searchCount\")\n",
    "        page = requests.get(query)\n",
    "        soup = BeautifulSoup(page.text, \"html.parser\", parse_only=search_count)\n",
    "        s = soup.get_text()\n",
    "        num_search_results = [int(item) for item in s.split(' ') if item.isdigit()][-1]\n",
    "        result = \"Number of job results:\" + str(num_search_results)\n",
    "        return num_search_results\n",
    "\n",
    "\n",
    "    def search_page_generator(self, query, num_search_results, limit=50):\n",
    "        '''A function that takes a query url and the number of search results corresponding that query, \n",
    "        and returns a list of urls to be scraped.'''\n",
    "\n",
    "        urls_to_scrape = []\n",
    "        converted_search_results = int(num_search_results)\n",
    "        i = int(converted_search_results / 50)\n",
    "        \n",
    "        for page_number in range(i + 1):\n",
    "            \n",
    "            url_suffix = f'&limit={limit}&start={str(page_number * 50)}'\n",
    "            url = f'{query}{url_suffix}'\n",
    "            urls_to_scrape.append(url)\n",
    "            \n",
    "        return urls_to_scrape\n",
    "\n",
    "    def make_soup(self, query, parser='html.parser'):\n",
    "\n",
    "        '''A function that takes a query url and returns a BeautifulSoup object. html.parser is passed in as default parser'''\n",
    "\n",
    "        page = requests.get(query)\n",
    "        soup = BeautifulSoup(page.text, parser)\n",
    "\n",
    "        return soup\n",
    "    \n",
    "\n",
    "    # Map iterables in urls_to_scrape into soup_generator()\n",
    "    def extract_job_postings(self, url_list):\n",
    "        \"\"\"A function that takes a list of urls from search_page_generator() \n",
    "         and returns a list of BeautifulSoup objects corresponding to each job posting in the list of urls\"\"\"\n",
    "    \n",
    "        job_postings = []\n",
    "        \n",
    "        for url in url_list:\n",
    "            \n",
    "            soup = scraper.make_soup(url)\n",
    "            for result in soup.find_all('div', attrs={'data-tn-component': 'organicJob'}):\n",
    "                job_postings.append(result)\n",
    "            \n",
    "        return job_postings\n",
    "    \n",
    "    def process_job_posting(self, job):\n",
    "        \"\"\"\n",
    "        Function that parses through html elements of indeed job postings and prints them in a prettified string output\n",
    "        \"\"\"\n",
    "        \n",
    "        # job id\n",
    "        \n",
    "        \n",
    "        try:\n",
    "            job_id = job.find('h2', attrs={\"class\": \"jobtitle\"})['id']\n",
    "            #print(\"Job ID:\", job_id)\n",
    "        except AttributeError:\n",
    "            job_id = 'NA'\n",
    "        \n",
    "\n",
    "        # job title\n",
    "        try:\n",
    "            job_title = job.find('a', attrs={'data-tn-element':\"jobTitle\"}).text.strip().capitalize()\n",
    "        except AttributeError:\n",
    "            job_title = 'NA'\n",
    "        #print(\"Job Title:\", job_title)\n",
    "\n",
    "        # * company\n",
    "        try:\n",
    "            company = job.find('span', class_='company').text.strip()\n",
    "        except AttributeError:\n",
    "            company = 'NA'\n",
    "        #print(\"Company:\", company)\n",
    "\n",
    "        # location\n",
    "        try:\n",
    "            location = job.find('span', class_='location').get_text()\n",
    "        except AttributeError:\n",
    "            location = 'NA'\n",
    "        #print(\"Location:\", location)\n",
    "        \n",
    "        # date_posting\n",
    "        try:\n",
    "            post_date = job.find('span', class_='date').get_text()\n",
    "        except AttributeError:\n",
    "            post_date = 'NA'\n",
    "        #print(\"Date Posted:\", post_date)\n",
    "        \n",
    "        \n",
    "        # salary_range\n",
    "\n",
    "        try:\n",
    "            salary = job.find('span', class_='salary no-wrap').text.strip()\n",
    "            #print(\"Salary:\" , salary)\n",
    "        except AttributeError:\n",
    "            salary = 'NA'\n",
    "\n",
    "        # job_summary\n",
    "\n",
    "        summary = job.find('span', class_='summary').text.strip()\n",
    "        #print(\"Job Summary:\", summary)\n",
    "\n",
    "        # job_link\n",
    "\n",
    "        job_link = \"https://www.indeed.com\" + job.find('h2', attrs={\"class\": \"jobtitle\"}).find('a')['href']\n",
    "        #print(\"Job_link:\", job_link)\n",
    "        \n",
    "        # full description\n",
    "        \n",
    "        request = requests.get(job_link)\n",
    "        request_soup = BeautifulSoup(request.text, \"html.parser\")\n",
    "        description = request_soup.find('div', attrs={\"class\": \"jobsearch-JobComponent-description\"})\n",
    "        description = description.text.strip()\n",
    "        \n",
    "        #print(description)\n",
    "        return [job_id, job_title, company, location, post_date, salary, summary, job_link, description]"
   ]
  },
  {
   "cell_type": "code",
   "execution_count": 6,
   "metadata": {},
   "outputs": [
    {
     "name": "stdout",
     "output_type": "stream",
     "text": [
      "235\n",
      "['jl_562d33167e34080f', 'Research scientist ii', 'Parsons', 'Aberdeen, MD', '30+ days ago', 'NA', 'Experience with machine learning, such as the Tensorflow framework, a plus. < h1 style=\"FONT-FAMILY:....', 'https://www.indeed.com/rc/clk?jk=562d33167e34080f&fccid=e8f998ddd15bac9c&vjs=3', '< h1 style=\"FONT-FAMILY: Arial; WHITE-SPACE: normal; WORD-SPACING: 0px; TEXT-TRANSFORM: none; COLOR: rgb(0,0,0); FONT-STYLE: normal; ORPHANS: 2; WIDOWS: 2; LETTER-SPACING: normal; BACKGROUND-COLOR: rgb(255,255,255); TEXT-INDENT: 0px; font-variant-ligatures: normal; font-variant-caps: normal; -webkit-text-stroke-width: 0px; text-decoration-style: initial; text-decoration-color: initial\" align=\"center\">Research Scientist II\\nAberdeen Proving Ground, MD\\n\\nAre you an experienced Researcher who thrives in a fast-paced environment working with teams in a support role? Imagine yourself working on top level critical network defense missions alongside other seasoned professionals. Parsons is now hiring top Research Scientists with a passion for innovation and solving mission critical challenges.\\n\\nParsons\\' extensive experience in this field, combined with your technical knowledge, will propel your career forward. Training, mentorship and the opportunity for advancement will keep you engaged and challenged. We need our researchers to be versatile, display leadership qualities and be enthusiastic to tackle new challenges.\\n\\nIf you are passionate about science and engineering, this is your chance to join in Parsons\\' team supporting the Army Research Laboratory at Aberdeen Proving Ground, MD.\\n\\nCandidate will work with a team to investigate programmable networks in the context of tactical mobile computing platforms. Study programmable networks, classical and quantum, as an enabler for adaptive computing, especially using simulations to analyze network performance, understand algorithms, understand hardware performance, and to understand the effects of computational complexity on algorithm and network performance. Examples of network simulation environments that may be used are the open source Network Simulator 3 (NS-3), the Army tool EMANE, and Mininet. Conduct algorithm testing in MATLAB in its virtual network environment before deploying algorithms in a more realistic simulation environment using higher fidelity network and environment representations. (Experience with NS-3, EMANE or Mininet is not required.)\\n\\n\\nResponsibilities:\\n\\n\\nImplement and test algorithms in MATLAB\\nIncorporate algorithms in a generalized code and optimize algorithm performance\\nConduct network simulations to assess algorithm performance in a more physically realistic environment\\nRun hardware simulations to understand performance impact on a network\\nConduct compiler simulations to understand computational complexity\\nAssess the limitations of the MATLAB network environment\\nCustomize software solutions to meet research and analysis objectives\\nPerform basic analytics on simulation data\\nPrepare and present\\n\\nQualifications:\\n\\nBachelors\\' degree in Engineering, Computer Science, Mathematics or related field; Master’s degree preferred\\nAt least 2 years of related professional experience with one or more of C++, Java, Python programming languages required\\nExperience with MATLAB a plus\\nExperience with machine learning, such as the Tensorflow framework, a plus\\nGood written and verbal communication skills\\nDue to the sensitivity of customer related requirements, U.S. Citizenship is required.\\nApplicants selected for employment will be subject to a federal background investigation and may need to meet additional eligibility requirements for access to classified information or materials.\\n\\n\\nReady for action? We’re looking for the kind of people who see this opportunity and don’t hesitate to act. Parsons is a leader in the world of technical services. We hire people with a broad set of technical skills who have proven experience tackling some of the greatest challenges. Take your next step and apply today.\\n\\n\\nParsons Referral Plan\\n\\nMaybe this opportunity isn’t the right fit for you, but you know someone who is? Why not join our Parsons external referral program? When you refer other top professionals and they are hired, you are rewarded with an incredible financial incentive. Help us find top talent!']\n"
     ]
    }
   ],
   "source": [
    "\n",
    "# =========================== EXAMPLE USAGE ==============================================\n",
    "# init class object\n",
    "scraper = IndeedScraper()\n",
    "# define query with keyword/keywords and location\n",
    "test_query = scraper.query_generator('tensorflow', \"21044\")\n",
    "# store the amount of search results\n",
    "num_search_results = scraper.search_results_numeric(test_query)\n",
    "# create urls from query and associated number of jobs\n",
    "urls = scraper.search_page_generator(test_query, num_search_results)\n",
    "\n",
    "# you can skip this step, it's built into IndeedScraper.extract_job_postings(), just testing functionality\n",
    "#soup = scraper.make_soup(test_query) \n",
    "\n",
    "# this opens all the links from the pages and stores their full text description for later use\n",
    "job_postings = scraper.extract_job_postings(urls)\n",
    "\n",
    "#============================================== debug ==============================================\n",
    "#print(test_query)\n",
    "print(num_search_results)\n",
    "#print(urls)\n",
    "#print(soup)\n",
    "#print(len(job_postings))\n",
    "#============================================== debug ==============================================\n",
    "\n",
    "# verifying all is working\n",
    "test = scraper.process_job_posting(job_postings[0])\n",
    "print(test)"
   ]
  },
  {
   "cell_type": "markdown",
   "metadata": {
    "colab_type": "text",
    "id": "5C4xFZNtX1m2"
   },
   "source": [
    "## 2) Use NLTK to tokenize / clean the listings "
   ]
  },
  {
   "cell_type": "code",
   "execution_count": 7,
   "metadata": {
    "colab": {},
    "colab_type": "code",
    "id": "dhUHuMr-X-II"
   },
   "outputs": [],
   "source": [
    "columns = ['ID', 'Title', 'Company', 'Location', 'Date', 'Salary', 'Summary', 'Link', 'FullText']\n",
    "dataframe = pd.DataFrame(columns=columns)"
   ]
  },
  {
   "cell_type": "code",
   "execution_count": 8,
   "metadata": {},
   "outputs": [
    {
     "ename": "TypeError",
     "evalue": "'NoneType' object is not subscriptable",
     "output_type": "error",
     "traceback": [
      "\u001b[0;31m---------------------------------------------------------------------------\u001b[0m",
      "\u001b[0;31mTypeError\u001b[0m                                 Traceback (most recent call last)",
      "\u001b[0;32m<ipython-input-8-cada7be10bcf>\u001b[0m in \u001b[0;36m<module>\u001b[0;34m()\u001b[0m\n\u001b[1;32m      1\u001b[0m \u001b[0;32mfor\u001b[0m \u001b[0mjob_number\u001b[0m \u001b[0;32min\u001b[0m \u001b[0mrange\u001b[0m\u001b[0;34m(\u001b[0m\u001b[0;36m0\u001b[0m\u001b[0;34m,\u001b[0m \u001b[0mnum_search_results\u001b[0m \u001b[0;34m-\u001b[0m \u001b[0;36m1\u001b[0m\u001b[0;34m)\u001b[0m\u001b[0;34m:\u001b[0m\u001b[0;34m\u001b[0m\u001b[0;34m\u001b[0m\u001b[0m\n\u001b[0;32m----> 2\u001b[0;31m     \u001b[0mdataframe\u001b[0m\u001b[0;34m.\u001b[0m\u001b[0mloc\u001b[0m\u001b[0;34m[\u001b[0m\u001b[0mlen\u001b[0m\u001b[0;34m(\u001b[0m\u001b[0mdataframe\u001b[0m\u001b[0;34m)\u001b[0m\u001b[0;34m]\u001b[0m \u001b[0;34m=\u001b[0m \u001b[0;34m(\u001b[0m\u001b[0mscraper\u001b[0m\u001b[0;34m.\u001b[0m\u001b[0mprocess_job_posting\u001b[0m\u001b[0;34m(\u001b[0m\u001b[0mjob_postings\u001b[0m\u001b[0;34m[\u001b[0m\u001b[0mjob_number\u001b[0m\u001b[0;34m]\u001b[0m\u001b[0;34m)\u001b[0m\u001b[0;34m)\u001b[0m\u001b[0;34m\u001b[0m\u001b[0;34m\u001b[0m\u001b[0m\n\u001b[0m",
      "\u001b[0;32m<ipython-input-5-34c267fc7ddd>\u001b[0m in \u001b[0;36mprocess_job_posting\u001b[0;34m(self, job)\u001b[0m\n\u001b[1;32m     73\u001b[0m \u001b[0;34m\u001b[0m\u001b[0m\n\u001b[1;32m     74\u001b[0m         \u001b[0;32mtry\u001b[0m\u001b[0;34m:\u001b[0m\u001b[0;34m\u001b[0m\u001b[0;34m\u001b[0m\u001b[0m\n\u001b[0;32m---> 75\u001b[0;31m             \u001b[0mjob_id\u001b[0m \u001b[0;34m=\u001b[0m \u001b[0mjob\u001b[0m\u001b[0;34m.\u001b[0m\u001b[0mfind\u001b[0m\u001b[0;34m(\u001b[0m\u001b[0;34m'h2'\u001b[0m\u001b[0;34m,\u001b[0m \u001b[0mattrs\u001b[0m\u001b[0;34m=\u001b[0m\u001b[0;34m{\u001b[0m\u001b[0;34m\"class\"\u001b[0m\u001b[0;34m:\u001b[0m \u001b[0;34m\"jobtitle\"\u001b[0m\u001b[0;34m}\u001b[0m\u001b[0;34m)\u001b[0m\u001b[0;34m[\u001b[0m\u001b[0;34m'id'\u001b[0m\u001b[0;34m]\u001b[0m\u001b[0;34m\u001b[0m\u001b[0;34m\u001b[0m\u001b[0m\n\u001b[0m\u001b[1;32m     76\u001b[0m             \u001b[0;31m#print(\"Job ID:\", job_id)\u001b[0m\u001b[0;34m\u001b[0m\u001b[0;34m\u001b[0m\u001b[0;34m\u001b[0m\u001b[0m\n\u001b[1;32m     77\u001b[0m         \u001b[0;32mexcept\u001b[0m \u001b[0mAttributeError\u001b[0m\u001b[0;34m:\u001b[0m\u001b[0;34m\u001b[0m\u001b[0;34m\u001b[0m\u001b[0m\n",
      "\u001b[0;31mTypeError\u001b[0m: 'NoneType' object is not subscriptable"
     ]
    }
   ],
   "source": [
    "for job_number in range(0, num_search_results - 1):\n",
    "    dataframe.loc[len(dataframe)] = (scraper.process_job_posting(job_postings[job_number]))"
   ]
  },
  {
   "cell_type": "code",
   "execution_count": 9,
   "metadata": {},
   "outputs": [
    {
     "data": {
      "text/html": [
       "<div>\n",
       "<style scoped>\n",
       "    .dataframe tbody tr th:only-of-type {\n",
       "        vertical-align: middle;\n",
       "    }\n",
       "\n",
       "    .dataframe tbody tr th {\n",
       "        vertical-align: top;\n",
       "    }\n",
       "\n",
       "    .dataframe thead th {\n",
       "        text-align: right;\n",
       "    }\n",
       "</style>\n",
       "<table border=\"1\" class=\"dataframe\">\n",
       "  <thead>\n",
       "    <tr style=\"text-align: right;\">\n",
       "      <th></th>\n",
       "      <th>ID</th>\n",
       "      <th>Title</th>\n",
       "      <th>Company</th>\n",
       "      <th>Location</th>\n",
       "      <th>Date</th>\n",
       "      <th>Salary</th>\n",
       "      <th>Summary</th>\n",
       "      <th>Link</th>\n",
       "      <th>FullText</th>\n",
       "    </tr>\n",
       "  </thead>\n",
       "  <tbody>\n",
       "    <tr>\n",
       "      <th>0</th>\n",
       "      <td>jl_562d33167e34080f</td>\n",
       "      <td>Research scientist ii</td>\n",
       "      <td>Parsons</td>\n",
       "      <td>Aberdeen, MD</td>\n",
       "      <td>30+ days ago</td>\n",
       "      <td>NA</td>\n",
       "      <td>Experience with machine learning, such as the ...</td>\n",
       "      <td>https://www.indeed.com/rc/clk?jk=562d33167e340...</td>\n",
       "      <td>&lt; h1 style=\"FONT-FAMILY: Arial; WHITE-SPACE: n...</td>\n",
       "    </tr>\n",
       "    <tr>\n",
       "      <th>1</th>\n",
       "      <td>jl_a276ea2539679009</td>\n",
       "      <td>Yolo developer</td>\n",
       "      <td>K&amp;M Systems</td>\n",
       "      <td>Tysons Corner, VA</td>\n",
       "      <td>2 days ago</td>\n",
       "      <td>NA</td>\n",
       "      <td>Job Description K&amp;M Systems, Inc. is looking f...</td>\n",
       "      <td>https://www.indeed.com/rc/clk?jk=a276ea2539679...</td>\n",
       "      <td>ContractJob Description\\nK&amp;M Systems, Inc. is ...</td>\n",
       "    </tr>\n",
       "    <tr>\n",
       "      <th>2</th>\n",
       "      <td>jl_d250438a9ddba27f</td>\n",
       "      <td>Summer intern - robotics group</td>\n",
       "      <td>Intelligent Automation</td>\n",
       "      <td>Rockville, MD 20855</td>\n",
       "      <td>30+ days ago</td>\n",
       "      <td>NA</td>\n",
       "      <td>Summer Intern -Robotics Group The Robotics and...</td>\n",
       "      <td>https://www.indeed.com/rc/clk?jk=d250438a9ddba...</td>\n",
       "      <td>Temporary, InternshipSummer Intern -Robotics G...</td>\n",
       "    </tr>\n",
       "    <tr>\n",
       "      <th>3</th>\n",
       "      <td>jl_52ad992137a033cf</td>\n",
       "      <td>Intern - artificial intelligence</td>\n",
       "      <td>Alion Science and Technology</td>\n",
       "      <td>Annapolis Junction, MD 20701</td>\n",
       "      <td>30+ days ago</td>\n",
       "      <td>NA</td>\n",
       "      <td>Experience with deep learning frameworks and l...</td>\n",
       "      <td>https://www.indeed.com/rc/clk?jk=52ad992137a03...</td>\n",
       "      <td>Part-time, Temporary, InternshipResponsibiliti...</td>\n",
       "    </tr>\n",
       "    <tr>\n",
       "      <th>4</th>\n",
       "      <td>jl_bf5e7b9c2fa68d9c</td>\n",
       "      <td>Machine learning (ml) researcher</td>\n",
       "      <td>Johns Hopkins Applied Physics Laboratory (APL)</td>\n",
       "      <td>Laurel, MD 20708</td>\n",
       "      <td>9 hours ago</td>\n",
       "      <td>NA</td>\n",
       "      <td>Keras, TensorFlow, CAFFE 2; Would you like to ...</td>\n",
       "      <td>https://www.indeed.com/rc/clk?jk=bf5e7b9c2fa68...</td>\n",
       "      <td>Introduction:\\nWould you like to be a part of ...</td>\n",
       "    </tr>\n",
       "  </tbody>\n",
       "</table>\n",
       "</div>"
      ],
      "text/plain": [
       "                    ID                             Title  \\\n",
       "0  jl_562d33167e34080f             Research scientist ii   \n",
       "1  jl_a276ea2539679009                    Yolo developer   \n",
       "2  jl_d250438a9ddba27f    Summer intern - robotics group   \n",
       "3  jl_52ad992137a033cf  Intern - artificial intelligence   \n",
       "4  jl_bf5e7b9c2fa68d9c  Machine learning (ml) researcher   \n",
       "\n",
       "                                          Company  \\\n",
       "0                                         Parsons   \n",
       "1                                     K&M Systems   \n",
       "2                          Intelligent Automation   \n",
       "3                    Alion Science and Technology   \n",
       "4  Johns Hopkins Applied Physics Laboratory (APL)   \n",
       "\n",
       "                       Location          Date Salary  \\\n",
       "0                  Aberdeen, MD  30+ days ago     NA   \n",
       "1             Tysons Corner, VA    2 days ago     NA   \n",
       "2           Rockville, MD 20855  30+ days ago     NA   \n",
       "3  Annapolis Junction, MD 20701  30+ days ago     NA   \n",
       "4              Laurel, MD 20708   9 hours ago     NA   \n",
       "\n",
       "                                             Summary  \\\n",
       "0  Experience with machine learning, such as the ...   \n",
       "1  Job Description K&M Systems, Inc. is looking f...   \n",
       "2  Summer Intern -Robotics Group The Robotics and...   \n",
       "3  Experience with deep learning frameworks and l...   \n",
       "4  Keras, TensorFlow, CAFFE 2; Would you like to ...   \n",
       "\n",
       "                                                Link  \\\n",
       "0  https://www.indeed.com/rc/clk?jk=562d33167e340...   \n",
       "1  https://www.indeed.com/rc/clk?jk=a276ea2539679...   \n",
       "2  https://www.indeed.com/rc/clk?jk=d250438a9ddba...   \n",
       "3  https://www.indeed.com/rc/clk?jk=52ad992137a03...   \n",
       "4  https://www.indeed.com/rc/clk?jk=bf5e7b9c2fa68...   \n",
       "\n",
       "                                            FullText  \n",
       "0  < h1 style=\"FONT-FAMILY: Arial; WHITE-SPACE: n...  \n",
       "1  ContractJob Description\\nK&M Systems, Inc. is ...  \n",
       "2  Temporary, InternshipSummer Intern -Robotics G...  \n",
       "3  Part-time, Temporary, InternshipResponsibiliti...  \n",
       "4  Introduction:\\nWould you like to be a part of ...  "
      ]
     },
     "execution_count": 9,
     "metadata": {},
     "output_type": "execute_result"
    }
   ],
   "source": [
    "dataframe = dataframe.applymap(str)\n",
    "dataframe.head()"
   ]
  },
  {
   "cell_type": "code",
   "execution_count": 10,
   "metadata": {
    "colab": {},
    "colab_type": "code",
    "id": "X2PZ8Pj_YxcF"
   },
   "outputs": [],
   "source": [
    "df_copy = dataframe.copy()\n",
    "df_copy['FullText'] = df_copy['FullText'].str.replace('[^A-Za-z\\s]+', ' ')\n",
    "df_copy['FullText'] = df_copy['FullText'].str.replace('\\n', ' ')"
   ]
  },
  {
   "cell_type": "code",
   "execution_count": 11,
   "metadata": {},
   "outputs": [
    {
     "name": "stdout",
     "output_type": "stream",
     "text": [
      "Descriptions to move to string: 100\n",
      "\n",
      "Example description:\n",
      "   h  style FONT FAMILY  Arial  WHITE SPACE  normal  WORD SPACING   px  TEXT TRANSFORM  none  COLOR  rgb  FONT STYLE  normal  ORPHANS    WIDOWS    LETTER SPACING  normal  BACKGROUND COLOR  rgb  TEXT INDENT   px  font variant ligatures  normal  font variant caps  normal   webkit text stroke width   px  text decoration style  initial  text decoration color  initial  align center Research Scientist II Aberdeen Proving Ground  MD  Are you an experienced Researcher who thrives in a fast paced environment working with teams in a support role  Imagine yourself working on top level critical network defense missions alongside other seasoned professionals  Parsons is now hiring top Research Scientists with a passion for innovation and solving mission critical challenges   Parsons  extensive experience in this field  combined with your technical knowledge  will propel your career forward  Training  mentorship and the opportunity for advancement will keep you engaged and challenged  We need our researchers to be versatile  display leadership qualities and be enthusiastic to tackle new challenges   If you are passionate about science and engineering  this is your chance to join in Parsons  team supporting the Army Research Laboratory at Aberdeen Proving Ground  MD   Candidate will work with a team to investigate programmable networks in the context of tactical mobile computing platforms  Study programmable networks  classical and quantum  as an enabler for adaptive computing  especially using simulations to analyze network performance  understand algorithms  understand hardware performance  and to understand the effects of computational complexity on algorithm and network performance  Examples of network simulation environments that may be used are the open source Network Simulator    NS  the Army tool EMANE  and Mininet  Conduct algorithm testing in MATLAB in its virtual network environment before deploying algorithms in a more realistic simulation environment using higher fidelity network and environment representations   Experience with NS  EMANE or Mininet is not required    Responsibilities    Implement and test algorithms in MATLAB Incorporate algorithms in a generalized code and optimize algorithm performance Conduct network simulations to assess algorithm performance in a more physically realistic environment Run hardware simulations to understand performance impact on a network Conduct compiler simulations to understand computational complexity Assess the limitations of the MATLAB network environment Customize software solutions to meet research and analysis objectives Perform basic analytics on simulation data Prepare and present  Qualifications   Bachelors  degree in Engineering  Computer Science  Mathematics or related field  Master s degree preferred At least   years of related professional experience with one or more of C  Java  Python programming languages required Experience with MATLAB a plus Experience with machine learning  such as the Tensorflow framework  a plus Good written and verbal communication skills Due to the sensitivity of customer related requirements  U S  Citizenship is required  Applicants selected for employment will be subject to a federal background investigation and may need to meet additional eligibility requirements for access to classified information or materials    Ready for action  We re looking for the kind of people who see this opportunity and don t hesitate to act  Parsons is a leader in the world of technical services  We hire people with a broad set of technical skills who have proven experience tackling some of the greatest challenges  Take your next step and apply today    Parsons Referral Plan  Maybe this opportunity isn t the right fit for you  but you know someone who is  Why not join our Parsons external referral program  When you refer other top professionals and they are hired  you are rewarded with an incredible financial incentive  Help us find top talent \n"
     ]
    }
   ],
   "source": [
    "# pull job desc to series\n",
    "words = df_copy['FullText']\n",
    "print(\"Descriptions to move to string:\" ,len(words))\n",
    "\n",
    "print(\"\\nExample description:\\n\", words[0])"
   ]
  },
  {
   "cell_type": "code",
   "execution_count": 12,
   "metadata": {},
   "outputs": [],
   "source": [
    "# series to string\n",
    "words = words.astype(str)\n",
    "words = ''.join(words)"
   ]
  },
  {
   "cell_type": "code",
   "execution_count": 13,
   "metadata": {},
   "outputs": [
    {
     "name": "stdout",
     "output_type": "stream",
     "text": [
      "372094\n"
     ]
    }
   ],
   "source": [
    "print(len(words))"
   ]
  },
  {
   "cell_type": "code",
   "execution_count": 15,
   "metadata": {},
   "outputs": [
    {
     "name": "stderr",
     "output_type": "stream",
     "text": [
      "[nltk_data] Downloading package averaged_perceptron_tagger to\n",
      "[nltk_data]     /Users/ksmith/nltk_data...\n",
      "[nltk_data]   Unzipping taggers/averaged_perceptron_tagger.zip.\n"
     ]
    },
    {
     "name": "stdout",
     "output_type": "stream",
     "text": [
      "Sum of words with valid parts of speech tags: 53410\n"
     ]
    }
   ],
   "source": [
    "nltk.download('averaged_perceptron_tagger')\n",
    "word_tokens = nltk.pos_tag(word_tokenize(words))\n",
    "print(\"Sum of words with valid parts of speech tags:\", len(word_tokens))"
   ]
  },
  {
   "cell_type": "code",
   "execution_count": 17,
   "metadata": {},
   "outputs": [],
   "source": [
    "\n",
    "# code from https://www.machinelearningplus.com/nlp/lemmatization-examples-python/\n",
    "def wordnet_part_of_speech(word):\n",
    "    \"\"\"Map POS tag to first character lemmatize() accepts\"\"\"\n",
    "    \n",
    "    # access list index, tuple index, map value\n",
    "    tag = nltk.pos_tag([word])[0][1][0].upper()\n",
    "    tag_dict = {\"J\": wordnet.ADJ,\n",
    "                \"N\": wordnet.NOUN,\n",
    "                \"V\": wordnet.VERB,\n",
    "                \"R\": wordnet.ADV}\n",
    "\n",
    "    return tag_dict.get(tag, wordnet.NOUN)"
   ]
  },
  {
   "cell_type": "code",
   "execution_count": 19,
   "metadata": {},
   "outputs": [
    {
     "name": "stderr",
     "output_type": "stream",
     "text": [
      "[nltk_data] Downloading package wordnet to /Users/ksmith/nltk_data...\n",
      "[nltk_data]   Unzipping corpora/wordnet.zip.\n"
     ]
    }
   ],
   "source": [
    "nltk.download('wordnet')\n",
    "lemmatizer = WordNetLemmatizer()\n",
    "pos_parsed_words = [lemmatizer.lemmatize(w, wordnet_part_of_speech(w)) for w in nltk.word_tokenize(words)]\n",
    "pos_parsed_words = [word for word in pos_parsed_words if word.isalpha()]"
   ]
  },
  {
   "cell_type": "code",
   "execution_count": 20,
   "metadata": {},
   "outputs": [],
   "source": [
    "stop_words = set(stopwords.words('english'))\n",
    "pos_parsed_words = [word for word in pos_parsed_words if word not in stop_words]\n",
    "pos_parsed_words = [word.upper() for word in pos_parsed_words]"
   ]
  },
  {
   "cell_type": "code",
   "execution_count": 21,
   "metadata": {},
   "outputs": [
    {
     "name": "stdout",
     "output_type": "stream",
     "text": [
      "Words post parts of speech processing: 37129\n"
     ]
    }
   ],
   "source": [
    "print(\"Words post parts of speech processing:\", len(pos_parsed_words))"
   ]
  },
  {
   "cell_type": "code",
   "execution_count": 22,
   "metadata": {},
   "outputs": [
    {
     "data": {
      "text/plain": [
       "[('DATA', 657),\n",
       " ('EXPERIENCE', 566),\n",
       " ('LEARN', 434),\n",
       " ('WORK', 391),\n",
       " ('MACHINE', 331),\n",
       " ('SCIENCE', 258),\n",
       " ('TEAM', 256),\n",
       " ('DEVELOPMENT', 244),\n",
       " ('USE', 223),\n",
       " ('SOFTWARE', 209),\n",
       " ('RESEARCH', 205),\n",
       " ('WE', 205),\n",
       " ('INCLUDE', 191),\n",
       " ('SOLUTION', 188),\n",
       " ('MODEL', 180),\n",
       " ('DEVELOP', 171),\n",
       " ('YEAR', 162),\n",
       " ('TECHNOLOGY', 161),\n",
       " ('DEEP', 159),\n",
       " ('BUSINESS', 156),\n",
       " ('SKILL', 153),\n",
       " ('OPPORTUNITY', 149),\n",
       " ('COMPUTER', 149),\n",
       " ('PROCESSING', 148),\n",
       " ('THE', 140),\n",
       " ('ENGINEERING', 139),\n",
       " ('ALGORITHM', 139),\n",
       " ('TECHNICAL', 138),\n",
       " ('ABILITY', 135),\n",
       " ('KNOWLEDGE', 131)]"
      ]
     },
     "execution_count": 22,
     "metadata": {},
     "output_type": "execute_result"
    }
   ],
   "source": [
    "fdist = FreqDist(pos_parsed_words)\n",
    "fdist.most_common(30)"
   ]
  },
  {
   "cell_type": "code",
   "execution_count": 23,
   "metadata": {},
   "outputs": [
    {
     "data": {
      "image/png": "[encoded data removed]",
      "text/plain": [
       "<Figure size 432x288 with 1 Axes>"
      ]
     },
     "metadata": {
      "needs_background": "light"
     },
     "output_type": "display_data"
    }
   ],
   "source": [
    "fdist.plot(30, cumulative=False)\n",
    "plt.show()"
   ]
  },
  {
   "cell_type": "markdown",
   "metadata": {
    "colab_type": "text",
    "id": "-lgCZNL_YycP"
   },
   "source": [
    "# 3) Use Scikit-Learn's CountVectorizer to get word counts for each listing."
   ]
  },
  {
   "cell_type": "code",
   "execution_count": 24,
   "metadata": {},
   "outputs": [
    {
     "name": "stdout",
     "output_type": "stream",
     "text": [
      "{'style': 3211, 'font': 1339, 'family': 1277, 'arial': 232, 'white': 3585, 'space': 3109, 'normal': 2214, 'word': 3605, 'spacing': 3111, 'px': 2646, 'text': 3315, 'transform': 3381, 'color': 598, 'rgb': 2865, 'orphans': 2321, 'widows': 3593, 'letter': 1881, 'background': 323, 'indent': 1639, 'variant': 3507, 'ligature': 1898, 'cap': 449, 'webkit': 3571, 'stroke': 3203, 'width': 3594, 'decoration': 865, 'initial': 1665, 'align': 129, 'center': 484, 'research': 2816, 'scientist': 2946, 'ii': 1598, 'aberdeen': 1, 'proving': 2624, 'ground': 1478, 'md': 2020, 'experienced': 1231, 'researcher': 2817, 'thrives': 3336, 'fast': 1282, 'pace': 2343, 'environment': 1149, 'work': 3606, 'team': 3276, 'support': 3241, 'role': 2888, 'imagine': 1603, 'level': 1882, 'critical': 800, 'network': 2185, 'defense': 871, 'mission': 2086, 'alongside': 136, 'season': 2966, 'professional': 2573, 'parsons': 2363, 'hire': 1544, 'scientists': 2947, 'passion': 2375, 'innovation': 1671, 'solve': 3099, 'challenge': 496, 'extensive': 1253, 'experience': 1230, 'field': 1303, 'combine': 603, 'technical': 3281, 'knowledge': 1829, 'propel': 2598, 'career': 460, 'forward': 1355, 'training': 3375, 'mentorship': 2046, 'opportunity': 2293, 'advancement': 77, 'engage': 1123, 'challenged': 497, 'need': 2174, 'versatile': 3525, 'display': 982, 'leadership': 1867, 'quality': 2663, 'enthusiastic': 1143, 'tackle': 3264, 'new': 2191, 'passionate': 2376, 'science': 2943, 'engineering': 1127, 'chance': 501, 'join': 1786, 'army': 234, 'laboratory': 1839, 'candidate': 447, 'investigate': 1744, 'programmable': 2579, 'context': 725, 'tactical': 3265, 'mobile': 2099, 'compute': 665, 'platform': 2454, 'study': 3210, 'classical': 545, 'quantum': 2669, 'enabler': 1107, 'adaptive': 60, 'especially': 1173, 'use': 3480, 'simulation': 3056, 'analyze': 162, 'performance': 2401, 'understand': 3439, 'algorithm': 123, 'hardware': 1513, 'effect': 1057, 'computational': 664, 'complexity': 651, 'examples': 1201, 'open': 2276, 'source': 3108, 'simulator': 3058, 'ns': 2231, 'tool': 3355, 'emane': 1084, 'mininet': 2080, 'conduct': 679, 'test': 3309, 'matlab': 2005, 'virtual': 3538, 'deploy': 897, 'realistic': 2710, 'high': 1539, 'fidelity': 1302, 'representation': 2803, 'require': 2808, 'responsibilities': 2835, 'implement': 1616, 'incorporate': 1630, 'generalize': 1421, 'code': 579, 'optimize': 2298, 'ass': 252, 'physically': 2433, 'run': 2902, 'impact': 1611, 'compiler': 643, 'assess': 254, 'limitation': 1906, 'customize': 828, 'software': 3090, 'solution': 3096, 'meet': 2037, 'analysis': 150, 'objective': 2247, 'perform': 2400, 'basic': 340, 'analytics': 160, 'data': 841, 'prepare': 2521, 'present': 2529, 'qualifications': 2658, 'bachelors': 321, 'degree': 875, 'computer': 666, 'mathematics': 2004, 'related': 2773, 'master': 1996, 'prefer': 2513, 'year': 3627, 'java': 1769, 'python': 2651, 'program': 2578, 'language': 1846, 'plus': 2462, 'machine': 1954, 'learn': 1869, 'tensorflow': 3301, 'framework': 1364, 'good': 1453, 'write': 3618, 'verbal': 3519, 'communication': 622, 'skill': 3066, 'sensitivity': 3000, 'customer': 827, 'requirement': 2812, 'citizenship': 532, 'applicants': 194, 'select': 2984, 'employment': 1099, 'subject': 3213, 'federal': 1292, 'investigation': 1745, 'additional': 63, 'eligibility': 1078, 'access': 15, 'classify': 548, 'information': 1660, 'material': 1999, 'ready': 2708, 'action': 43, 'look': 1942, 'kind': 1823, 'people': 2394, 'hesitate': 1536, 'act': 42, 'leader': 1866, 'world': 3617, 'service': 3011, 'broad': 417, 'set': 3016, 'proven': 2617, 'great': 1475, 'step': 3183, 'apply': 203, 'today': 3351, 'referral': 2752, 'plan': 2450, 'maybe': 2018, 'right': 2870, 'fit': 1323, 'know': 1828, 'external': 1255, 'refer': 2750, 'reward': 2863, 'incredible': 1633, 'financial': 1313, 'incentive': 1624, 'help': 1530, 'talent': 3268, 'contractjob': 735, 'description': 907, 'systems': 3260, 'yolo': 3639, 'developer': 931, 'object': 2246, 'detection': 924, 'model': 2103, 'long': 1941, 'term': 3306, 'contract': 734, 'tysons': 3421, 'corner': 763, 'va': 3495, 'remote': 2793, 'department': 891, 'specializes': 3125, 'delivery': 880, 'advanced': 76, 'real': 2709, 'time': 3340, 'rf': 2864, 'spectrum': 3132, 'monitoring': 2123, 'transportation': 3392, 'utilities': 3487, 'public': 2630, 'safety': 2909, 'telecoms': 3293, 'market': 1988, 'models': 2107, 'google': 1454, 'radio': 2685, 'frequency': 1372, 'telecommunication': 3292, 'desire': 915, 'stay': 3181, 'update': 3469, 'current': 823, 'technology': 3289, 'ability': 4, 'multitask': 2145, 'strong': 3204, 'management': 1969, 'organizational': 2311, 'education': 1052, 'bachelor': 320, 'industry': 1649, 'pay': 2384, 'negotiation': 2178, 'ask': 248, 'benefit': 352, 'temporary': 3299, 'internshipsummer': 1729, 'intern': 1719, 'robotics': 2883, 'group': 1480, 'electromechanical': 1075, 'rems': 2794, 'intelligent': 1707, 'automation': 299, 'multiple': 2143, 'position': 2478, 'summer': 3228, 'interns': 1725, 'self': 2990, 'motivate': 2130, 'individual': 1644, 'develop': 929, 'custom': 826, 'autonomy': 302, 'human': 1572, 'interface': 1717, 'vision': 3540, 'learning': 1871, 'design': 908, 'numerous': 2238, 'active': 47, 'development': 934, 'project': 2587, 'integrate': 1698, 'range': 2691, 'application': 195, 'include': 1627, 'aircraft': 115, 'inspection': 1679, 'isr': 1759, 'intelligence': 1706, 'surveillance': 3247, 'reconnaissance': 2730, 'utility': 3488, 'construction': 709, 'medical': 2034, 'ied': 1596, 'eod': 1159, 'operation': 2285, 'add': 61, 'expertise': 1238, 'multi': 2138, 'disciplinary': 964, 'continue': 730, 'achieve': 34, 'success': 3221, 'area': 227, 'rockville': 2886, 'immigration': 1607, 'status': 3180, 'citizen': 530, 'permanent': 2410, 'resident': 2822, 'green': 1476, 'card': 458, 'job': 1784, 'duties': 1026, 'variety': 3509, 'duty': 1027, 'vary': 3511, 'follow': 1338, 'engineer': 1126, 'manager': 1970, 'survey': 3248, 'trade': 3369, 'comparative': 632, 'assist': 259, 'electrical': 1072, 'mechanical': 2029, 'robotic': 2882, 'mechatronic': 2032, 'prototype': 2613, 'library': 1892, 'sensor': 3001, 'utilize': 3490, 'modify': 2116, 'exist': 1220, 'base': 337, 'create': 786, 'shape': 3028, 'functionality': 1388, 'evaluation': 1190, 'component': 656, 'product': 2568, 'required': 2809, 'school': 2941, 'graduate': 1465, 'currently': 824, 'enrol': 1138, 'post': 2487, 'secondary': 2969, 'pursue': 2640, 'planning': 2452, 'skills': 3069, 'math': 2002, 'physic': 2431, 'proficient': 2575, 'cleanly': 551, 'clearly': 556, 'conclusion': 675, 'past': 2377, 'participation': 2367, 'extracurricular': 1258, 'student': 3208, 'competition': 640, 'strongly': 3205, 'desired': 916, 'cad': 437, 'pcb': 2389, 'layout': 1860, 'ecad': 1040, 'embedded': 1086, 'microcontrollers': 2059, 'msp': 2137, 'arduino': 226, 'orient': 2314, 'clean': 549, 'document': 1000, 'opencv': 2278, 'deep': 867, 'pytorch': 2653, 'parallel': 2355, 'computing': 667, 'jetson': 1776, 'tegra': 3290, 'ros': 2893, 'unity': 3454, 'excel': 1203, 'qualify': 2662, 'applicant': 193, 'receive': 2720, 'consideration': 699, 'regard': 2759, 'race': 2682, 'religion': 2788, 'sex': 3022, 'sexual': 3023, 'orientation': 2315, 'gender': 1417, 'identity': 1594, 'national': 2160, 'origin': 2318, 'disability': 962, 'veteran': 3530, 'internshipresponsibilities': 1728, 'qualification': 2657, 'alion': 130, 'seek': 2978, 'artificial': 245, 'ai': 109, 'wide': 3589, 'array': 236, 'augmentation': 289, 'opponent': 2291, 'military': 2072, 'natural': 2164, 'processing': 2564, 'cyberdefense': 832, 'cybersecurity': 833, 'command': 611, 'decision': 862, 'undergraduate': 3435, 'abilities': 3, 'state': 3170, 'art': 240, 'particularly': 2369, 'identify': 1593, 'viable': 3532, 'approach': 211, 'significant': 3048, 'unsolved': 3465, 'client': 559, 'connect': 690, 'concrete': 676, 'case': 468, 'efficacy': 1062, 'efficiency': 1063, 'production': 2569, 'appropriate': 212, 'specific': 3126, 'collaboration': 590, 'relevant': 2785, 'diploma': 955, 'ged': 1415, 'grant': 1469, 'accredit': 29, 'private': 2551, 'college': 597, 'university': 3455, 'proficiency': 2574, 'modern': 2112, 'prototyping': 2615, 'javascript': 1770, 'demonstrate': 884, 'necessary': 2173, 'underlie': 3436, 'linear': 1909, 'algebra': 122, 'multivariate': 2147, 'calculus': 441, 'structure': 3206, 'method': 2052, 'problem': 2558, 'determine': 927, 'efficient': 1064, 'task': 3271, 'communicate': 619, 'topic': 3361, 'effectively': 1059, 'nontechnical': 2211, 'audience': 286, 'read': 2705, 'paper': 2353, 'article': 241, 'journal': 1790, 'independently': 1642, 'collaborate': 587, 'proactive': 2553, 'curious': 821, 'successful': 3222, 'demonstrates': 886, 'train': 3373, 'end': 1115, 'preparation': 2520, 'useful': 3481, 'output': 2328, 'caffe': 438, 'torch': 3362, 'jupyter': 1802, 'notebook': 2220, 'nvidia': 2241, 'digits': 953, 'familiarity': 1276, 'probability': 2556, 'theory': 3323, 'optimization': 2297, 'gpus': 1461, 'cudnn': 813, 'cloud': 568, 'storage': 3188, 'amazon': 139, 'web': 3570, 'services': 3012, 'aws': 312, 'microsoft': 2064, 'azure': 315, 'capability': 451, 'containerization': 720, 'docker': 999, 'kubernetes': 1834, 'low': 1947, 'embed': 1085, 'diversity': 993, 'statement': 3171, 'women': 3604, 'minority': 2085, 'encourage': 1112, 'provide': 2619, 'reasonable': 2715, 'accommodation': 18, 'disabled': 963, 'assistance': 260, 'visit': 3542, 'careers': 461, 'site': 3062, 'introduction': 1738, 'like': 1902, 'organization': 2310, 'value': 3502, 'think': 3327, 'outside': 2330, 'box': 395, 'johns': 1785, 'hopkins': 1560, 'applied': 200, 'physics': 2434, 'apl': 187, 'scientific': 2945, 'locate': 1933, 'midway': 2069, 'baltimore': 331, 'washington': 3560, 'dc': 854, 'summary': 3227, 'analytic': 157, 'capabilities': 450, 'asymmetric': 271, 'operations': 2289, 'sector': 2974, 'ml': 2093, 'inventive': 1742, 'cut': 829, 'edge': 1050, 'operate': 2283, 'listed': 1918, 'order': 2306, 'importance': 1619, 'estimate': 1180, 'spent': 3136, 'mining': 2081, 'large': 1851, 'collect': 594, 'operational': 2286, 'robust': 2884, 'situation': 3063, 'assessment': 255, 'awareness': 310, 'predictive': 2511, 'potential': 2494, 'future': 1399, 'threat': 3332, 'implementation': 1617, 'developed': 930, 'size': 3065, 'weight': 3577, 'power': 2495, 'swap': 3254, 'graphical': 1472, 'unit': 3451, 'tensor': 3300, 'units': 3453, 'tpus': 3367, 'gate': 1407, 'fpgas': 1362, 'neuromometic': 2189, 'chip': 521, 'ibm': 1583, 'truenorth': 3404, 'share': 3029, 'articulate': 242, 'idea': 1588, 'presentation': 2530, 'staff': 3158, 'government': 1458, 'maker': 1966, 'publish': 2633, 'finding': 1314, 'peer': 2392, 'review': 2861, 'literature': 1923, 'office': 2262, 'reporting': 2800, 'accomplishment': 21, 'deliverable': 878, 'sponsor': 3142, 'concept': 669, 'relevance': 2784, 'note': 2219, 'listing': 1920, 'purpose': 2638, 'essential': 1176, 'function': 1386, 'change': 502, 'emphasis': 1091, 'deal': 858, 'pattern': 2382, 'recognition': 2723, 'statistical': 3177, 'fluent': 1334, 'hand': 1500, 'excellent': 1205, 'analytical': 159, 'obtain': 2253, 'secret': 2970, 'clearance': 555, 'track': 3368, 'record': 2731, 'interdisciplinary': 1715, 'driven': 1019, 'unstructured': 3466, 'anomaly': 178, 'novelty': 2226, 'keras': 1812, 'tx': 3415, 'gpu': 1460, 'raspberry': 2696, 'pi': 2435, 'special': 3122, 'working': 3610, 'conditions': 678, 'limited': 1907, 'travel': 3393, 'occasional': 2256, 'weekend': 3575, 'hour': 1563, 'handle': 1502, 'complete': 647, 'business': 434, 'security': 2977, 'benefits': 353, 'offer': 2260, 'comprehensive': 660, 'package': 2345, 'liberal': 1889, 'vacation': 3497, 'match': 1998, 'retirement': 2854, 'educational': 1053, 'scholarship': 2940, 'tuition': 3410, 'dependent': 895, 'competitive': 641, 'salary': 2912, 'commensurate': 612, 'www': 3621, 'jhuapl': 1778, 'edu': 1051, 'equal': 1162, 'affirmative': 96, 'employer': 1096, 'complies': 654, 'title': 3349, 'ix': 1766, 'amendments': 143, 'acts': 52, 'applicable': 192, 'law': 1857, 'protect': 2609, 'excite': 1209, 'prospect': 2608, 'unlock': 3460, 'held': 1529, 'fascinate': 1280, 'possibility': 2484, 'iot': 1755, 'advance': 75, 'increasingly': 1632, 'massive': 1994, 'turn': 3413, 'complex': 650, 'global': 1448, 'fraud': 1369, 'cancer': 446, 'answer': 180, 'modernization': 2113, 'closely': 565, 'question': 2673, 'dig': 950, 'rich': 2867, 'piece': 2438, 'puzzle': 2643, 'script': 2957, 'build': 429, 'combination': 602, 'disparate': 981, 'point': 2464, 'make': 1965, 'inform': 1658, 'mean': 2022, 'empower': 1101, 'booz': 388, 'allen': 131, 'dedicate': 866, 'grow': 1481, 'expect': 1227, 'online': 2271, 'onsite': 2272, 'methodology': 2054, 'hortonworks': 1561, 'tableau': 3263, 'splunk': 3140, 'bowl': 394, 'premier': 2518, 'social': 3086, 'partnership': 2372, 'deliver': 877, 'institute': 1686, 'dli': 996, 'wealth': 3567, 'resource': 2827, 'portal': 2475, 'specifically': 3127, 'gear': 1414, 'functional': 1387, 'course': 778, 'certification': 488, 'book': 385, 'late': 1852, 'tech': 3280, 'house': 1564, 'expert': 1237, 'pursuing': 2641, 'advantage': 78, 'boot': 387, 'camp': 444, 'academic': 11, 'vendor': 3517, 'relationship': 2778, 'helpful': 1531, 'tip': 3346, 'want': 3558, 'chart': 509, 'technique': 3283, 'elasticsearch': 1070, 'scale': 2933, 'distributable': 989, 'hadoop': 1496, 'mapreduce': 1981, 'mongodb': 2121, 'ba': 317, 'bs': 423, 'nice': 2197, 'ts': 3408, 'sci': 2942, 'ma': 1952, 'ms': 2135, 'eoe': 1160, 'empowers': 1102, 'matter': 2008, 'characteristic': 506, 'fearlessly': 1289, 'drive': 1018, 'cj': 535, 'visionist': 3541, 'responsible': 2838, 'evaluate': 1187, 'trend': 3399, 'movement': 2132, 'relation': 2775, 'core': 761, 'maintain': 1960, 'enhance': 1131, 'collection': 595, 'refinement': 2754, 'datasets': 848, 'distribute': 990, 'spark': 3114, 'quantitative': 2666, 'clear': 553, 'precise': 2506, 'actionable': 44, 'manner': 1975, 'conceptual': 671, 'knowledgeable': 1830, 'physical': 2432, 'produce': 2566, 'innovative': 1673, 'creative': 790, 'statistics': 3179, 'economics': 1045, 'practical': 2499, 'scala': 2930, 'julia': 1796, 'association': 265, 'graph': 1470, 'cluster': 571, 'classification': 546, 'regression': 2763, 'logistic': 1939, 'static': 3174, 'dynamic': 1028, 'visualization': 3545, 'similar': 3049, 'comfortable': 607, 'various': 3510, 'common': 618, 'transformation': 3382, 'neural': 2188, 'scikit': 2950, 'previous': 2537, 'stream': 3195, 'streaming': 3196, 'flink': 1330, 'nlp': 2202, 'member': 2039, 'oral': 2303, 'interested': 1716, 'send': 2995, 'resume': 2847, 'commit': 616, 'principle': 2545, 'employee': 1093, 'free': 1370, 'discrimination': 975, 'harassment': 1509, 'pregnancy': 2517, 'parental': 2360, 'age': 100, 'history': 1548, 'genetic': 1428, 'political': 2467, 'affiliation': 95, 'non': 2207, 'merit': 2048, 'factor': 1270, 'protection': 2611, 'extend': 1251, 'practice': 2501, 'recruitment': 2735, 'appraisal': 207, 'promotion': 2594, 'tolerate': 3352, 'yearduties': 3631, 'discipline': 965, 'photogrammetry': 2428, 'geodesy': 1432, 'image': 1601, 'terrain': 3307, 'geospatial': 1440, 'agency': 101, 'tradecraft': 3370, 'novel': 2225, 'facilitate': 1266, 'far': 1279, 'inquiry': 1676, 'provid': 2618, 'nga': 2196, 'serve': 3006, 'principal': 2544, 'investigator': 1746, 'diverse': 992, 'domain': 1011, 'guidance': 1487, 'oversight': 2336, 'report': 2799, 'result': 2846, 'advise': 84, 'evolve': 1196, 'primary': 2542, 'goal': 1452, 'discover': 971, 'powerful': 2498, 'focus': 1337, 'hard': 1510, 'emerge': 1089, 'globally': 1449, 'academia': 10, 'execute': 1212, 'bring': 414, 'bear': 346, 'leverage': 1883, 'investment': 1747, 'darpa': 840, 'iarpa': 1582, 'nsa': 2232, 'accelerate': 12, 'rigorous': 2872, 'independent': 1641, 'prior': 2546, 'transition': 3384, 'user': 3483, 'community': 626, 'dod': 1003, 'supervisory': 3237, 'series': 3004, 'general': 1420, 'requirements': 2813, 'designated': 909, 'random': 2690, 'drug': 1023, 'testing': 3312, 'info': 1657, 'condition': 677, 'person': 2412, 'consider': 698, 'fitness': 1324, 'standard': 3164, 'sensitive': 2999, 'compartmented': 633, 'polygraph': 2470, 'probationary': 2557, 'period': 2404, 'direct': 956, 'deposit': 901, 'able': 5, 'retain': 2849, 'addition': 62, 'counterintelligence': 773, 'examination': 1198, 'periodic': 2405, 'basis': 341, 'continued': 731, 'refusal': 2758, 'denial': 888, 'sap': 2916, 'unescorted': 3445, 'scifs': 2949, 'employees': 1094, 'cognizance': 584, 'submit': 3214, 'disclosure': 966, 'sf': 3025, 'annual': 175, 'failure': 1271, 'comply': 655, 'negatively': 2176, 'utilizes': 3491, 'process': 2561, 'procedure': 2560, 'civilian': 534, 'personnel': 2416, 'dcips': 855, 'executive': 1214, 'assign': 257, 'distinct': 987, 'band': 333, 'type': 3416, 'scope': 2952, 'establish': 1178, 'unique': 3449, 'increase': 1631, 'bonus': 384, 'key': 1816, 'appointment': 206, 'eligible': 1079, 'internal': 1720, 'assignment': 258, 'notice': 2222, 'excepted': 1207, 'components': 657, 'veterans': 3531, 'preference': 2515, 'define': 873, 'section': 2973, 'usc': 3476, 'accordance': 23, 'instruction': 1689, 'volume': 3551, 'placement': 2449, 'claim': 538, 'erecruit': 1167, 'mandatory': 1972, 'criteria': 798, 'particular': 2368, 'competency': 639, 'reflect': 2756, 'example': 1200, 'associate': 263, 'response': 2834, 'announcement': 174, 'criterion': 799, 'specify': 3130, 'vacancy': 3496, 'demonstrated': 885, 'programming': 2581, 'supercomputer': 3231, 'deployment': 900, 'varied': 3508, 'briefing': 409, 'semester': 2993, 'quarter': 2670, 'coursework': 779, 'astronomy': 269, 'cartography': 467, 'chemistry': 515, 'dynamics': 1029, 'geography': 1433, 'geology': 1437, 'geophysics': 1438, 'orbital': 2304, 'mechanics': 2030, 'sensing': 2998, 'surveying': 3249, 'differential': 947, 'integral': 1697, 'minimum': 2079, 'list': 1917, 'option': 2300, 'successfully': 3223, 'rule': 2900, 'equivalent': 1166, 'candidates': 448, 'total': 3364, 'desirable': 914, 'ph': 2419, 'theoretical': 3322, 'evidence': 1195, 'effort': 1066, 'citation': 529, 'publication': 2631, 'receipt': 2719, 'patent': 2378, 'award': 307, 'stem': 3182, 'coordinate': 757, 'detector': 925, 'classifier': 547, 'detect': 923, 'imagery': 1602, 'multidisciplinary': 2140, 'partner': 2370, 'ic': 1584, 'policy': 2466, 'proposal': 2602, 'significance': 3047, 'sound': 3107, 'evaluated': 1188, 'cover': 780, 'entire': 1145, 'exceed': 1202, 'limit': 1905, 'character': 505, 'pages': 2348, 'recommended': 2728, 'stage': 3161, 'qualified': 2661, 'panel': 2352, 'best': 357, 'interview': 1737, 'carefully': 462, 'provided': 2620, 'selecting': 2986, 'official': 2264, 'construct': 708, 'highlight': 1541, 'reference': 2751, 'institution': 1688, 'recognize': 2724, 'secretary': 2971, 'accepted': 14, 'united': 3452, 'states': 3173, 'annuitant': 176, 'reemployed': 2746, 'shall': 3027, 'annuity': 177, 'contribution': 741, 'thrift': 3333, 'savings': 2924, 'supplemental': 3239, 'redetermine': 2739, 'reemployment': 2747, 'discontinued': 967, 'retire': 2853, 'appoint': 205, 'elect': 1071, 'provision': 2625, 'http': 1569, 'dtic': 1025, 'mil': 2070, 'whs': 3588, 'directive': 958, 'marital': 1985, 'applications': 197, 'notify': 2224, 'check': 513, 'yes': 3636, 'documents': 1002, 'rely': 2790, 'credit': 793, 'attendance': 280, 'ineligible': 1650, 'rating': 2698, 'affect': 94, 'overall': 2332, 'benefitstitle': 356, 'generate': 1423, 'net': 2183, 'poorly': 2472, 'come': 605, 'nets': 2184, 'gradient': 1463, 'boosting': 386, 'behavior': 349, 'ultimately': 3427, 'improve': 1622, 'number': 2236, 'different': 946, 'preprocess': 2525, 'validation': 3500, 'xgboost': 3622, 'contribute': 739, 'collective': 596, 'headquarters': 1521, 'annapolis': 171, 'junction': 1797, 'surround': 3246, 'cyber': 831, 'stack': 3157, 'overflow': 2333, 'reason': 2714, 'flexible': 1329, 'collaborative': 591, 'encourages': 1113, 'feed': 1294, 'brown': 420, 'bag': 327, 'session': 3015, 'sooner': 3105, 'later': 1854, 'vested': 3529, 'day': 851, 'life': 1895, 'balance': 329, 'week': 3574, 'pto': 2628, 'enjoy': 1134, 'quite': 2678, 'connected': 691, 'reach': 2703, 'recruiting': 2734, 'com': 599, 'formal': 1346, 'relates': 2774, 'contact': 717, 'yearcontractdevops': 3629, 'server': 3007, 'programmingprogrammer': 2582, 'analyst': 155, 'invite': 1749, 'hackathons': 1494, 'bio': 364, 'github': 1447, 'io': 1753, 'play': 2459, 'intensive': 1710, 'landscape': 1845, 'cohort': 586, 'qualificationsthese': 2660, 'explore': 1244, 'consumer': 716, 'face': 1261, 'intersection': 1736, 'execution': 1213, 'faas': 1260, 'progressive': 2585, 'pwa': 2644, 'favor': 1286, 'selection': 2987, 'devops': 940, 'nodejs': 2206, 'generically': 1426, 'cs': 806, 'cse': 807, 'bioinformatics': 365, 'taught': 3272, 'welcome': 3579, 'familiar': 1275, 'biomedical': 368, 'types': 3417, 'contractsalary': 737, 'yearexperience': 3632, 'preferred': 2516, 'figure': 1306, 'technically': 3282, 'gift': 1444, 'enterprise': 1142, 'analytica': 158, 'ideal': 1589, 'commercial': 614, 'crm': 801, 'sharepoint': 3030, 'flow': 1332, 'forms': 1349, 'powerbi': 2497, 'powerapps': 2496, 'atlassian': 275, 'jira': 1779, 'confluence': 689, 'bitbucket': 374, 'crucible': 805, 'jenkins': 1774, 'eclipse': 1041, 'git': 1446, 'corporate': 765, 'rapidly': 2694, 'contractor': 736, 'designs': 913, 'develops': 937, 'installs': 1683, 'spend': 3134, 'gain': 1401, 'appreciation': 210, 'examine': 1199, 'identifies': 1592, 'streamline': 3197, 'entry': 1148, 'accuracy': 31, 'reduce': 2743, 'configuration': 685, 'detailed': 920, 'scenario': 2935, 'upgrade': 3470, 'feature': 1291, 'enhancement': 1132, 'feedback': 1295, 'observation': 2251, 'documentation': 1001, 'specification': 3128, 'epics': 1161, 'stories': 3190, 'diagram': 943, 'analyzes': 163, 'recommend': 2726, 'serves': 3010, 'lead': 1865, 'involve': 1750, 'consultant': 713, 'manage': 1968, 'rd': 2700, 'party': 2373, 'infrastructure': 1661, 'growth': 1482, 'responsibility': 2837, 'priority': 2549, 'interpersonal': 1731, 'consult': 711, 'provider': 2621, 'health': 1522, 'founded': 1358, 'headquarter': 1519, 'company': 629, 'sba': 2927, 'certify': 493, 'hubzone': 1570, 'small': 3077, 'magazine': 1956, 'agile': 105, 'appraise': 208, 'sei': 2982, 'cmmi': 572, 'maturity': 2010, 'iso': 1757, 'building': 430, 'host': 1562, 'tune': 3411, 'inference': 1653, 'strategic': 3193, 'early': 1032, 'pioneer': 2443, 'recommendation': 2727, 'engine': 1125, 'search': 2965, 'ecommerce': 1043, 'fulfillment': 1383, 'innovate': 1669, 'contributes': 740, 'game': 1403, 'deployed': 898, 'device': 938, 'architect': 220, 'surprise': 3245, 'delight': 876, 'terabyte': 3304, 'capable': 452, 'evangelize': 1192, 'sagemaker': 2910, 'simple': 3052, 'servcie': 3005, 'scalable': 2932, 'label': 1838, 'modelscollaborate': 2109, 'problemsinteract': 2559, 'directly': 959, 'aid': 110, 'ecosystemanalyze': 1048, 'extract': 1256, 'historical': 1547, 'automate': 296, 'processeswork': 2563, 'account': 24, 'masters': 1997, 'phd': 2422, 'fieldstrong': 1305, 'statistic': 3176, 'hands': 1503, 'mxnet': 2153, 'theano': 3318, 'cnn': 573, 'rnn': 2877, 'lstm': 1948, 'softwarestrong': 3091, 'skillsthe': 3074, 'motivation': 2131, 'learningstrong': 1873, 'attention': 282, 'detailcomfortable': 919, 'highly': 1542, 'environmentability': 1150, 'creatively': 791, 'female': 1298, 'mentor': 2045, 'junior': 1799, 'comkey': 610, 'elite': 1081, 'fusion': 1398, 'biometric': 369, 'gap': 1405, 'withstand': 3602, 'defend': 869, 'address': 65, 'senior': 2996, 'signal': 3045, 'dlib': 997, 'cuda': 812, 'biometrics': 370, 'possession': 2483, 'entrepreneurial': 1147, 'yearfind': 3633, 'meaning': 2023, 'strategy': 3194, 'blue': 382, 'compass': 634, 'llc': 1927, 'blend': 376, 'insight': 1678, 'colleague': 593, 'curiosity': 820, 'culture': 816, 'trust': 3406, 'advisory': 87, 'thought': 3329, 'location': 1934, 'vastatus': 3513, 'timeclearance': 3342, 'secretdescription': 2972, 'country': 776, 'kinesis': 1825, 'friend': 1377, 'stand': 3163, 'website': 3573, 'bucket': 426, 'challenges': 498, 'hackathon': 1493, 'responder': 2833, 'combat': 601, 'traffic': 3372, 'food': 1340, 'starter': 3168, 'responsive': 2839, 'embody': 1087, 'attitude': 283, 'certifications': 490, 'awsproficiency': 313, 'inkinesislambdaelasticsearchapi': 1667, 'gatewaytensorflowec': 1408, 'certificationssagemakerwhy': 491, 'companywork': 630, 'clientscontribute': 561, 'packageflexible': 2346, 'schedule': 2936, 'depend': 892, 'regular': 2765, 'activitiescollaborative': 49, 'inclusive': 1629, 'fun': 1385, 'environmentjob': 1152, 'timesalary': 3344, 'license': 1893, 'authorization': 293, 'paid': 2349, 'offparental': 2265, 'leavehealth': 1876, 'insurancedental': 1693, 'insurancehealthcare': 1694, 'spending': 3135, 'reimbursement': 2768, 'hsas': 1567, 'fsasother': 1380, 'insuranceretirement': 1695, 'accountseducation': 28, 'reimbursementchild': 2769, 'care': 459, 'benefitsgym': 355, 'membership': 2040, 'discountscommuting': 970, 'assistanceflexible': 261, 'schedulesworkplace': 2938, 'perk': 2407, 'coffee': 582, 'schedulesthis': 2937, 'pas': 2374, 'yesmust': 3638, 'poly': 2469, 'sr': 3153, 'sw': 3252, 'idiq': 1595, 'seven': 3021, 'operating': 2284, 'jvm': 1804, 'linux': 1914, 'nsys': 2234, 'sprint': 3147, 'cycle': 834, 'mesosphere': 2049, 'marathon': 1984, 'video': 3534, 'yeardescription': 3630, 'chesapeake': 516, 'conservancy': 695, 'nonprofit': 2210, 'maryland': 1992, 'environmental': 1151, 'profit': 2577, 'ensure': 1141, 'healthier': 1524, 'bay': 343, 'watershed': 3562, 'fish': 1322, 'wildlife': 3596, 'thrive': 3335, 'healthy': 1525, 'water': 3561, 'abundant': 9, 'forest': 1344, 'wetland': 3581, 'shoreline': 3040, 'population': 2473, 'million': 2073, 'thousand': 3330, 'acre': 41, 'vanish': 3504, 'conserve': 697, 'river': 2875, 'restore': 2845, 'region': 2761, 'close': 564, 'park': 2361, 'local': 1931, 'foundation': 1357, 'corporation': 766, 'conservation': 696, 'cic': 526, 'precision': 2507, 'restoration': 2844, 'esri': 1175, 'generation': 1424, 'sure': 3244, 'dramatically': 1014, 'pilot': 2442, 'inside': 1677, 'big': 362, 'director': 960, 'aspect': 249, 'scoping': 2953, 'portfolio': 2476, 'workflow': 3608, 'issue': 1760, 'quantity': 2668, 'ecosystem': 1047, 'habitat': 1492, 'land': 1844, 'employ': 1092, 'uncover': 3433, 'outcome': 2327, 'acquisition': 40, 'governance': 1457, 'compliance': 652, 'availability': 303, 'represent': 2802, 'offering': 2261, 'conference': 680, 'meeting': 2038, 'overseeing': 2335, 'supervisor': 3236, 'constructive': 710, 'participate': 2365, 'brainstorming': 399, 'discussion': 977, 'obtaining': 2254, 'organize': 2313, 'scientistwill': 2948, 'spatial': 3119, 'satellite': 2919, 'aerial': 90, 'lidar': 1894, 'vector': 3515, 'ecological': 1042, 'error': 1169, 'involves': 1752, 'errors': 1170, 'unknown': 3457, 'encounter': 1111, 'devise': 939, 'available': 304, 'compiling': 644, 'map': 1979, 'memo': 2041, 'short': 3041, 'slide': 3076, 'deck': 864, 'concisely': 674, 'impactful': 1612, 'progress': 2584, 'funders': 1394, 'dependable': 893, 'stewardship': 3185, 'convention': 747, 'relaxed': 2781, 'adaptability': 58, 'independence': 1640, 'teach': 3275, 'supervise': 3233, 'pca': 2387, 'numerical': 2237, 'numpy': 2239, 'scipy': 2951, 'sql': 3148, 'bayesian': 344, 'causal': 476, 'finite': 1316, 'mixture': 2092, 'joint': 1788, 'nonlinear': 2208, 'mixed': 2091, 'comfort': 606, 'manipulate': 1973, 'dimensionality': 954, 'difficult': 948, 'frame': 1363, 'measure': 2027, 'translate': 3385, 'player': 2460, 'efficiently': 1065, 'prioritize': 2547, 'demand': 882, 'deadline': 857, 'cntk': 575, 'architecture': 223, 'dental': 890, 'insurance': 1692, 'sick': 3043, 'leave': 1875, 'saving': 2923, 'opportunities': 2292, 'arrive': 238, 'anticipate': 181, 'start': 3167, 'date': 850, 'june': 1798, 'gaithersburg': 1402, 'astrazeneca': 268, 'biopharmaceutical': 371, 'discovery': 972, 'commercialization': 615, 'prescription': 2527, 'medicine': 2035, 'disease': 979, 'pharmaceutical': 2420, 'proud': 2616, 'workplace': 3613, 'inspires': 1681, 'express': 1249, 'perspective': 2417, 'feel': 1297, 'energize': 1118, 'creativity': 792, 'rank': 2692, 'sentiment': 3002, 'prediction': 2510, 'deeply': 868, 'knit': 1827, 'healthcare': 1523, 'patient': 2381, 'globe': 1450, 'faster': 1283, 'choose': 523, 'treatment': 3396, 'safer': 2908, 'clinical': 562, 'trial': 3402, 'catalyst': 472, 'adoption': 74, 'whilst': 3584, 'practically': 2500, 'invent': 1741, 'enable': 1105, 'productivity': 2571, 'envision': 1158, 'accountabilities': 25, 'adapt': 57, 'exploit': 1241, 'multicore': 2139, 'smp': 3081, 'deploying': 899, 'optimizing': 2299, 'scalability': 2931, 'database': 842, 'backend': 322, 'pipeline': 2444, 'implementing': 1618, 'explain': 1239, 'liaise': 1887, 'technological': 3285, 'expand': 1225, 'bank': 334, 'likely': 1904, 'coach': 576, 'demonstrable': 883, 'dl': 995, 'modelling': 2106, 'tools': 3358, 'sas': 2918, 'notebooks': 2221, 'filesystems': 1308, 'steps': 3184, 'convenience': 745, 'way': 3566, 'recruiter': 2733, 'hiring': 1545, 'maternity': 2001, 'ethnic': 1184, 'belief': 350, 'civil': 533, 'advertisedapplication': 81, 'instructions': 1690, 'temp': 3296, 'built': 432, 'chatbots': 512, 'recommender': 2729, 'clojure': 563, 'postgres': 2491, 'apis': 186, 'monetization': 2118, 'advertising': 82, 'subscription': 3215, 'performant': 2402, 'cod': 578, 'frequent': 1373, 'releasestitle': 2782, 'culpeper': 814, 'aria': 230, 'applies': 202, 'acoustic': 36, 'cognitive': 583, 'partnering': 2371, 'solves': 3100, 'effective': 1058, 'mutually': 2150, 'difference': 945, 'cio': 528, 'air': 113, 'force': 1341, 'acquires': 39, 'navy': 2169, 'sailor': 2911, 'sonar': 3103, 'tm': 3350, 'ariacoustics': 231, 'coordination': 759, 'supporting': 3242, 'preparing': 2524, 'summarize': 3226, 'assisting': 262, 'integration': 1701, 'sample': 2914, 'using': 3485, 'scatter': 2934, 'remediate': 2792, 'underwater': 3443, 'contaminate': 723, 'unexploded': 3446, 'ordnance': 2308, 'developing': 933, 'retrieval': 2856, 'allows': 135, 'query': 2671, 'legal': 1877, 'regulation': 2767, 'unsupervised': 3467, 'kernel': 1814, 'latent': 1853, 'semantic': 2992, 'facility': 1268, 'completion': 649, 'sizable': 3064, 'exceptional': 1208, 'acquire': 38, 'collaboratively': 592, 'gpgpu': 1459, 'digital': 952, 'exposure': 1248, 'radar': 2683, 'beamforming': 345, 'filter': 1309, 'spectral': 3131, 'estimation': 1181, 'wave': 3563, 'propagation': 2597, 'partial': 2364, 'equation': 1163, 'cv': 830, 'hr': 1565, 'direction': 957, 'comassociate': 600, 'nation': 2159, 'mitre': 2089, 'toughest': 3365, 'charter': 510, 'conflict': 688, 'influence': 1654, 'aviation': 306, 'secure': 2975, 'gratify': 1474, 'embrace': 1088, 'inclusion': 1628, 'flexibility': 1328, 'cross': 802, 'translates': 3386, 'meaningful': 2024, 'strength': 3199, 'synthetic': 3259, 'mclean': 2019, 'functions': 1390, 'backpropagation': 325, 'hyperparameter': 1579, 'tuningsemantic': 3412, 'segmentation': 2981, 'transfer': 3380, 'adversarial': 79, 'depth': 902, 'mnist': 2098, 'resnet': 2823, 'retinanet': 2852, 'clearable': 554, 'virginia': 3537, 'eng': 1122, 'comp': 628, 'requisition': 2815, 'posting': 2493, 'mar': 1983, 'pmnextgen': 2463, 'nextgen': 2194, 'morgantown': 2125, 'wv': 3620, 'dayton': 853, 'oh': 2269, 'phase': 2421, 'engineers': 1128, 'derive': 904, 'maintainable': 1961, 'selected': 2985, 'autonomous': 301, 'path': 2379, 'peripheral': 2406, 'communicator': 624, 'robot': 2881, 'drone': 1022, 'understanding': 3440, 'protocol': 2612, 'spi': 3137, 'uart': 3422, 'pwm': 2645, 'ethernet': 1182, 'mavlink': 2013, 'rtos': 2898, 'continuous': 732, 'version': 3526, 'control': 743, 'scrum': 2959, 'kanban': 1808, 'personal': 2413, 'specialize': 3124, 'truly': 3405, 'measurably': 2026, 'protected': 2610, 'individuals': 1645, 'disabilitiestitle': 961, 'formulation': 1351, 'original': 2319, 'experimental': 1235, 'reinforcement': 2770, 'convolutional': 754, 'shot': 3042, 'acoustics': 37, 'waveform': 3564, 'superior': 3232, 'preeminence': 2512, 'st': 3155, 'century': 486, 'actively': 48, 'isg': 1756, 'exploratory': 1243, 'redd': 2737, 'neuroscience': 2190, 'skilled': 3067, 'perception': 2397, 'iterative': 1764, 'activity': 50, 'appropriately': 214, 'setting': 3019, 'kera': 1811, 'nac': 2155, 'lac': 1841, 'workforce': 3609, 'overview': 2339, 'msc': 2136, 'distinguish': 988, 'institutes': 1687, 'nih': 2200, 'upbeat': 3468, 'attract': 284, 'coverage': 781, 'holiday': 1555, 'accounts': 27, 'pre': 2505, 'tax': 3273, 'transit': 3383, 'bethesda': 358, 'branch': 400, 'chief': 517, 'revamping': 2858, 'nlm': 2201, 'scrubber': 2958, 'perl': 2409, 'cython': 835, 'integrating': 1700, 'effectiveness': 1061, 'daily': 837, 'template': 3297, 'incl': 1626, 'attending': 281, 'weekly': 3576, 'min': 2074, 'interpret': 1732, 'gui': 1486, 'windows': 3599, 'multithreaded': 2146, 'memory': 2042, 'transcript': 3378, 'certificate': 487, 'relational': 2776, 'oracle': 2302, 'mysql': 2154, 'encryption': 1114, 'blockchains': 379, 'ssl': 3154, 'adhere': 67, 'pressure': 2534, 'heavy': 1528, 'newwave': 2193, 'modernize': 2114, 'begin': 347, 'mark': 1987, 'americans': 146, 'ahead': 108, 'live': 1924, 'positive': 2479, 'valuable': 3501, 'undertake': 3442, 'preprocessing': 2526, 'ensemble': 1140, 'propose': 2603, 'pandas': 2351, 'apache': 182, 'matplotlib': 2007, 'seaborn': 2963, 'mllib': 2095, 'zeppelin': 3642, 'databricks': 844, 'microstrategy': 2065, 'looker': 1943, 'hive': 1550, 'hbase': 1516, 'mind': 2075, 'acumen': 54, 'aptitude': 218, 'huge': 1571, 'bsc': 424, 'residency': 2821, 'fluently': 1335, 'english': 1130, 'verbally': 3521, 'extremely': 1259, 'fact': 1269, 'closure': 567, 'persuasion': 2418, 'facilitation': 1267, 'creed': 795, 'class': 544, 'friendly': 1378, 'aret': 228, 'associates': 264, 'firm': 1319, 'supply': 3240, 'arlington': 233, 'immediate': 1605, 'opening': 2279, 'talented': 3269, 'intellectually': 1705, 'important': 1620, 'signature': 3046, 'exploitation': 1242, 'exempt': 1216, 'researches': 2818, 'verifies': 3523, 'defines': 874, 'dissemination': 986, 'integrates': 1699, 'capture': 457, 'extraction': 1257, 'utilization': 3489, 'cpu': 782, 'minimal': 2078, 'supervision': 3234, 'sbir': 2929, 'sttr': 3207, 'fund': 1391, 'burlap': 433, 'opencl': 2277, 'compensation': 637, 'screen': 2955, 'line': 1908, 'arete': 229, 'request': 2806, 'unable': 3428, 'resources': 2828, 'representative': 2805, 'criminal': 797, 'consistent': 700, 'los': 1944, 'angeles': 169, 'fair': 1272, 'initiative': 1666, 'nowoverview': 2229, 'categorize': 473, 'interpretation': 1733, 'multiplex': 2144, 'immunofluorescent': 1609, 'tissue': 3347, 'mainly': 1959, 'phenotype': 2425, 'localization': 1932, 'immune': 1608, 'cell': 483, 'biopsy': 372, 'resection': 2819, 'immunotherapy': 1610, 'imaging': 1604, 'cat': 471, 'facile': 1265, 'raw': 2699, 'paramount': 2358, 'substantial': 3218, 'spoken': 3141, 'crucial': 804, 'optimal': 2296, 'indicate': 1643, 'willingness': 3598, 'biological': 366, 'described': 906, 'microscopy': 2061, 'internshipthe': 1730, 'underrepresented': 3437, 'outreach': 2329, 'internship': 1726, 'reston': 2843, 'august': 291, 'typical': 3419, 'algorithmic': 124, 'react': 2704, 'redux': 2745, 'html': 1568, 'css': 808, 'postgresql': 2492, 'nosql': 2218, 'solid': 3093, 'ood': 2274, 'feasible': 1290, 'sparq': 3117, 'nifi': 2199, 'major': 1964, 'love': 1946, 'pointy': 2465, 'spear': 3121, 'reverse': 2860, 'sponsors': 3143, 'postdoctoral': 2488, 'attacks': 277, 'soft': 3089, 'target': 3270, 'convoy': 755, 'bad': 326, 'actor': 51, 'sense': 2997, 'conceal': 668, 'borne': 389, 'firearm': 1317, 'explosive': 1245, 'publications': 2632, 'holography': 1557, 'compressive': 661, 'sparse': 3118, 'super': 3230, 'resolution': 2824, 'measurement': 2028, 'electromagnetic': 1074, 'microwave': 2066, 'gnu': 1451, 'electronics': 1076, 'modeling': 2105, 'wavelet': 3565, 'aperture': 183, 'conus': 744, 'xometry': 3624, 'startup': 3169, 'american': 145, 'manufacturing': 1978, 'proprietary': 2605, 'instant': 1685, 'quote': 2680, 'nationwide': 2162, 'manufacturer': 1977, 'unparalleled': 3462, 'billion': 363, 'fortune': 1353, 'defensible': 872, 'predict': 2508, 'likelihood': 1903, 'multilayer': 2141, 'perceptron': 2398, 'writing': 3619, 'logic': 1938, 'relentlessly': 2783, 'iterate': 1762, 'ambiguity': 140, 'norm': 2213, 'solving': 3101, 'uncharted': 3431, 'continual': 728, 'fitting': 1325, 'fluency': 1333, 'panda': 2350, 'sklearn': 3075, 'restful': 2842, 'compliant': 653, 'debug': 859, 'versioning': 3527, 'commuter': 627, 'stock': 3187, 'options': 2301, 'perfect': 2399, 'link': 1911, 'participates': 2366, 'verify': 3524, 'form': 1345, 'confirm': 687, 'authorize': 294, 'prioritizes': 2548, 'immersive': 1606, 'render': 2795, 'graphic': 1471, 'shaders': 3026, 'crafting': 784, 'performing': 2403, 'api': 184, 'augment': 288, 'reality': 2711, 'agent': 102, 'collaborating': 589, 'primarily': 2541, 'promising': 2592, 'possess': 2482, 'willing': 3597, 'constraint': 707, 'translation': 3387, 'hold': 1554, 'unreal': 3464, 'blender': 377, 'maya': 2017, 'augmented': 290, 'computation': 663, 'brings': 415, 'promotes': 2593, 'generous': 1427, 'campus': 445, 'metro': 2057, 'nt': 2235, 'concepts': 670, 'thing': 3325, 'heard': 1527, 'hardest': 1511, 'clients': 560, 'experiment': 1234, 'hang': 1506, 'humble': 1574, 'opinion': 2290, 'developers': 932, 'picture': 2437, 'sprinkle': 3146, 'really': 2713, 'cool': 756, 'toolkit': 3356, 'dream': 1015, 'happen': 1507, 'say': 2926, 'kick': 1822, 'ball': 330, 'giant': 1443, 'jenga': 1773, 'awesome': 311, 'profession': 2572, 'micro': 2058, 'freedom': 1371, 'try': 3407, 'tell': 3295, 'console': 701, 'pretty': 2535, 'throughput': 3337, 'ingestion': 1664, 'forecasting': 1342, 'realize': 2712, 'breed': 407, 'hear': 1526, 'internshipintelligent': 1727, 'iai': 1581, 'eager': 1031, 'recent': 2721, 'month': 2124, 'mid': 2067, 'undersea': 3438, 'motion': 2128, 'depending': 896, 'medium': 2036, 'analyticsdesign': 161, 'datadesign': 845, 'applicationsdesign': 198, 'applicationssupport': 199, 'libraries': 1890, 'matlabcloud': 2006, 'kafka': 1806, 'solr': 3095, 'stormframeworks': 3191, 'grails': 1467, 'spring': 3145, 'jetty': 1777, 'pyramid': 2648, 'flaskprogramming': 1327, 'jdk': 1772, 'influxdb': 1656, 'prometheus': 2590, 'accumuloconfiguration': 30, 'maven': 2011, 'gradle': 1464, 'junitlogging': 1801, 'elk': 1082, 'grafana': 1466, 'log': 1937, 'joperating': 1789, 'android': 168, 'ios': 1754, 'ldap': 1862, 'kerberos': 1813, 'enrolled': 1139, 'recently': 2722, 'internationally': 1723, 'leveraging': 1884, 'intellectual': 1704, 'property': 2601, 'excels': 1206, 'media': 2033, 'technologies': 3287, 'networks': 2187, 'communications': 623, 'radiant': 2684, 'solutions': 3097, 'evangelist': 1191, 'earth': 1034, 'economy': 1046, 'enormous': 1136, 'corpus': 767, 'bake': 328, 'offs': 2266, 'incremental': 1635, 'quantitatively': 2667, 'additionally': 64, 'rapid': 2693, 'parse': 2362, 'visualize': 3546, 'cjpost': 536, 'maxar': 2014, 'choice': 522, 'towers': 3366, 'crescent': 796, 'america': 144, 'vienna': 3535, 'capital': 454, 'founder': 1359, 'chairman': 495, 'officer': 2263, 'richard': 2868, 'fairbank': 1273, 'succeed': 3220, 'ingenuity': 1662, 'simplicity': 3053, 'humanity': 1573, 'banking': 335, 'advocacy': 88, 'exhibit': 1219, 'guided': 1489, 'openness': 2280, 'believe': 351, 'teamwork': 3279, 'respect': 2830, 'elevate': 1077, 'ob': 2245, 'humility': 1575, 'quest': 2672, 'vibrant': 3533, 'innovates': 1670, 'breakthrough': 406, 'native': 2163, 'apps': 217, 'sdks': 2961, 'launch': 1856, 'foursquare': 1360, 'pilgrim': 2440, 'sdk': 2960, 'contactless': 718, 'payment': 2385, 'rat': 2697, 'finance': 1312, 'app': 189, 'kotlin': 1832, 'flutter': 1336, 'dagger': 836, 'lifecycle': 1896, 'rx': 2904, 'espresso': 1174, 'coroutines': 764, 'aim': 112, 'mvvm': 2152, 'mvi': 2151, 'repository': 2801, 'enjoys': 1135, 'wider': 3590, 'half': 1498, 'droidcon': 1021, 'nyc': 2242, 'cake': 440, 'eat': 1038, 'mocking': 2101, 'wiremock': 3601, 'guide': 1488, 'streams': 3198, 'dckotlin': 856, 'boston': 390, 'andevcon': 167, 'summit': 3229, 'easy': 1037, 'screenshots': 2956, 'instrumentation': 1691, 'tests': 3313, 'blogging': 381, 'handstandsam': 1504, 'daj': 838, 'manuelvicnt': 1976, 'zaktaccardi': 3641, 'pribble': 2539, 'nickcapurso': 2198, 'breaker': 404, 'doer': 1006, 'disruptors': 985, 'counterpart': 774, 'roadmap': 2880, 'inner': 1668, 'store': 3189, 'facet': 1263, 'disrupt': 983, 'advisor': 86, 'allow': 133, 'previously': 2538, 'wealthy': 3568, 'mass': 1993, 'affluent': 97, 'advice': 83, 'redefine': 2738, 'stimulate': 3186, 'promise': 2591, 'rockstars': 2885, 'wins': 3600, 'fault': 1285, 'integrity': 1702, 'helping': 1532, 'money': 2120, 'lightly': 1901, 'voice': 3549, 'listen': 1919, 'improvement': 1623, 'yr': 3640, 'consume': 715, 'orm': 2320, 'layer': 1858, 'dynamodb': 1030, 'qa': 2654, 'microservices': 2063, 'queue': 2674, 'lambda': 1843, 'sqs': 3152, 'oriented': 2317, 'oo': 2273, 'paradigm': 2354, 'perks': 2408, 'equity': 1164, 'unlimited': 3459, 'planner': 2451, 'fan': 1278, 'credo': 794, 'livesjob': 1926, 'synectics': 3257, 'decisions': 863, 'smdi': 3079, 'warehouse': 3559, 'edw': 1054, 'alexandria': 121, 'desktop': 917, 'svn': 3251, 'setup': 3020, 'preferably': 2514, 'php': 2429, 'gsa': 1484, 'nsf': 2233, 'fundamental': 1392, 'possibly': 2486, 'interact': 1711, 'stakeholder': 3162, 'asset': 256, 'objectivesexperience': 2249, 'applicationexperience': 196, 'architecturesworking': 225, 'emr': 1103, 'redshift': 2742, 'essentialexcellent': 1177, 'skillsability': 3070, 'staffdemonstrate': 3159, 'advocate': 89, 'view': 3536, 'appropriateability': 213, 'skillsbachelor': 3071, 'axle': 314, 'informatics': 1659, 'translational': 3388, 'trainee': 3374, 'portion': 2477, 'projects': 2588, 'interactive': 1714, 'mathematical': 2003, 'exemplary': 1215, 'cleaning': 550, 'internally': 1721, 'craft': 783, 'story': 3192, 'weka': 3578, 'baccalaureate': 319, 'undergrad': 3434, 'tremendous': 3398, 'firmly': 1320, 'illegal': 1599, 'deter': 926, 'abet': 2, 'induce': 1646, 'coerce': 581, 'discriminate': 974, 'yearb': 3628, 'influenced': 1655, 'completely': 648, 'remarkable': 2791, 'brightest': 411, 'attribute': 285, 'complement': 646, 'proper': 2599, 'challengesworking': 499, 'lite': 1921, 'learnhands': 1870, 'numpysomeone': 2240, 'gcp': 1412, 'azuresomeone': 316, 'pythonsomeone': 2652, 'analysisas': 152, 'lot': 1945, 'prepared': 2522, 'discussionsomeone': 978, 'environmentssomeone': 1155, 'contextexperience': 726, 'projectswillingness': 2589, 'quickly': 2676, 'effectivelyin': 1060, 'aggressive': 104, 'respective': 2831, 'weworkflexible': 3582, 'cubicle': 810, 'allotment': 132, 'macbook': 1953, 'pros': 2606, 'alienware': 128, 'laptopsencouraged': 1850, 'networking': 2186, 'event': 1193, 'convenient': 746, 'walk': 3557, 'gym': 1491, 'forensics': 1343, 'nationally': 2161, 'currency': 822, 'attend': 279, 'symposium': 3255, 'conventional': 748, 'interactions': 1713, 'readiness': 2706, 'equiv': 1165, 'container': 719, 'orchestration': 2305, 'requiredthe': 2811, 'teammate': 3278, 'toolkits': 3357, 'stanford': 3165, 'corenlp': 762, 'opennlp': 2281, 'nltk': 2203, 'gram': 1468, 'economic': 1044, 'roundtable': 2895, 'ramboll': 2688, 'uav': 3423, 'rethink': 2851, 'conveys': 751, 'vegetation': 3516, 'germany': 1441, 'consultancy': 712, 'denmark': 889, 'nordics': 2212, 'uk': 3426, 'north': 2216, 'continental': 727, 'europe': 1186, 'middle': 2068, 'east': 1036, 'asia': 247, 'pacific': 2344, 'knowledgebase': 1831, 'constantly': 704, 'strive': 3202, 'inspire': 1680, 'exact': 1197, 'genuine': 1430, 'society': 3087, 'buildings': 431, 'transport': 3391, 'urban': 3473, 'energy': 1120, 'consulting': 714, 'applydo': 204, 'brand': 401, 'eminence': 1090, 'marketplace': 1989, 'deloitte': 881, 'place': 2448, 'pragmatic': 2504, 'mindset': 2076, 'content': 724, 'formulate': 1350, 'provides': 2622, 'manages': 1971, 'expansion': 1226, 'transparency': 3389, 'sustainability': 3250, 'hallmark': 1499, 'carrying': 465, 'fresh': 1374, 'breadth': 402, 'aspiration': 250, 'tailor': 3267, 'seize': 2983, 'maximize': 2015, 'providing': 2623, 'administrative': 70, 'correctness': 768, 'adherence': 68, 'coordinating': 758, 'satisfaction': 2920, 'making': 1967, 'approval': 215, 'installation': 1682, 'creation': 789, 'massively': 1995, 'node': 2205, 'dozen': 1013, 'transaction': 3376, 'bright': 410, 'titan': 3348, 'neo': 2180, 'room': 2890, 'sharpen': 3033, 'supportive': 3243, 'celebrate': 482, 'uniqueness': 3450, 'confident': 683, 'aware': 309, 'continuously': 733, 'happy': 1508, 'extends': 1252, 'volunteerism': 3554, 'seeker': 2979, 'suggest': 3224, 'blacksky': 375, 'division': 994, 'spaceflight': 3110, 'industries': 1648, 'enables': 1108, 'capitalize': 455, 'exponential': 1246, 'geoint': 1434, 'labs': 1840, 'disruptive': 984, 'posse': 2481, 'curation': 819, 'cleanse': 552, 'asynchronous': 272, 'ec': 1039, 'pixel': 2446, 'solo': 3094, 'mapping': 1980, 'probabilistic': 2555, 'entity': 1146, 'dependency': 894, 'parametric': 2357, 'gaussian': 1411, 'processes': 2562, 'auto': 295, 'encoders': 1109, 'generative': 1425, 'eeo': 1055, 'aap': 0, 'statements': 3172, 'dol': 1010, 'gov': 1456, 'ofccp': 2259, 'regs': 2764, 'poster': 2489, 'pdf': 2390, 'eeopost': 1056, 'supplement': 3238, 'final': 1310, 'jrf': 1794, 'pdfgenedx': 2391, 'genedx': 1419, 'clia': 557, 'diagnostic': 942, 'molecular': 2117, 'genetics': 1429, 'historic': 1546, 'exome': 1223, 'sequence': 3003, 'rare': 2695, 'hereditary': 1533, 'disorder': 980, 'gene': 1418, 'assay': 253, 'ad': 55, 'hoc': 1553, 'biostatistics': 373, 'shell': 3034, 'personality': 2414, 'biology': 367, 'lt': 1949, 'fsa': 1379, 'hsa': 1566, 'discounts': 969, 'casual': 470, 'dress': 1016, 'codeare': 580, 'break': 403, 'creating': 788, 'designing': 911, 'timesynectics': 3345, 'runtime': 2903, 'reliability': 2786, 'pillar': 2441, 'spl': 3139, 'sdlc': 2962, 'jmp': 1781, 'minitab': 2082, 'correlation': 769, 'causation': 477, 'workload': 3611, 'resolve': 2826, 'unify': 3448, 'kit': 1826, 'unix': 3456, 'links': 1913, 'linkedin': 1912, 'page': 2347, 'mindshare': 2077, 'convincingly': 753, 'speak': 3120, 'invest': 1743, 'pick': 2436, 'route': 2896, 'chain': 494, 'capacity': 453, 'alexa': 120, 'fuel': 1382, 'automated': 297, 'speech': 3133, 'prime': 2543, 'retail': 2848, 'heritage': 1534, 'frameworks': 1367, 'platforms': 2456, 'lex': 1885, 'polly': 2468, 'transcribe': 3377, 'comprehend': 658, 'rekognition': 2772, 'sa': 2905, 'sme': 3080, 'americas': 147, 'tier': 3339, 'architects': 222, 'sales': 2913, 'revenue': 2859, 'attainment': 278, 'blog': 380, 'lab': 1837, 'forum': 1354, 'whitepapers': 3586, 'liaison': 1888, 'architecting': 221, 'solutionsexperience': 3098, 'semi': 2994, 'dataexperience': 846, 'grade': 1462, 'platformsdata': 2457, 'greengrass': 1477, 'morphological': 2126, 'tag': 3266, 'ner': 2182, 'keyword': 1820, 'summarization': 3225, 'multilingual': 2142, 'continually': 729, 'single': 3060, 'subset': 3216, 'spacy': 3112, 'fasttext': 1284, 'vec': 3514, 'syntaxnet': 3258, 'serving': 3014, 'scrap': 2954, 'munging': 2148, 'annotation': 173, 'lexicon': 1886, 'curating': 818, 'flask': 1326, 'buffers': 428, 'grpc': 1483, 'clarabridge': 539, 'purely': 2637, 'timecard': 3341, 'arrangement': 235, 'soda': 3088, 'snack': 3082, 'pool': 2471, 'table': 3262, 'waffle': 3556, 'fridays': 1376, 'proximity': 2626, 'wiehle': 3595, 'avenue': 305, 'station': 3175, 'finally': 1311, 'livesa': 1925, 'experienceexperience': 1233, 'modelsthis': 2111, 'excited': 1210, 'adopt': 73, 'thrilled': 3334, 'decade': 860, 'pride': 2540, 'obsess': 2252, 'enablement': 1106, 'dive': 991, 'root': 2891, 'cause': 478, 'instances': 1684, 'aggregate': 103, 'validate': 3499, 'means': 2025, 'lda': 1861, 'normalize': 2215, 'operationalize': 2287, 'drift': 1017, 'retrain': 2855, 'fpga': 1361, 'analysisgood': 153, 'baseline': 338, 'accurately': 33, 'relationshipspublications': 2780, 'conferencesexperience': 682, 'rknowledge': 2876, 'sparkmlable': 3116, 'explainableexperience': 1240, 'caret': 463, 'mlr': 2097, 'mllibexperience': 2096, 'modelsexperience': 2110, 'datasetstrack': 849, 'hidden': 1538, 'patternsfamiliarity': 2383, 'toolsknowledge': 3360, 'sqlpast': 3150, 'simplify': 3054, 'formatexperience': 1348, 'presentationsstrong': 2532, 'skillsexperience': 3073, 'occasionally': 2257, 'specifications': 3129, 'energetic': 1117, 'energized': 1119, 'appreciate': 209, 'brain': 397, 'ideation': 1591, 'daon': 839, 'head': 1518, 'met': 2051, 'gather': 1409, 'input': 1675, 'jquery': 1793, 'ajax': 117, 'json': 1795, 'employerbe': 1097, 'safe': 2907, 'home': 1558, 'abroad': 7, 'keyw': 1818, 'botnets': 392, 'automatically': 298, 'botnet': 391, 'infect': 1652, 'producing': 2567, 'prototyped': 2614, 'communicating': 621, 'dev': 928, 'ops': 2294, 'thirteen': 3328, 'proof': 2596, 'convey': 750, 'ggplot': 1442, 'tb': 3274, 'pb': 2386, 'sbi': 2928, 'favorable': 1287, 'click': 558, 'phyllis': 2430, 'kerr': 1815, 'pkerr': 2447, 'keywcorp': 1819, 'regardless': 2760, 'pure': 2636, 'counterterrorism': 775, 'communities': 625, 'prevent': 2536, 'terrorism': 3308, 'analysisprevious': 154, 'presentationsextended': 2531, 'sparkml': 3115, 'aml': 148, 'relationsconsulting': 2777, 'needspublications': 2175, 'emrcombination': 1104, 'savvy': 2925, 'organizationdemonstrable': 2312, 'environmentthis': 1157, 'eventually': 1194, 'pursuant': 2639, 'san': 2915, 'francisco': 1368, 'ordinance': 2307, 'arrest': 237, 'conviction': 752, 'proserv': 2607, 'naour': 2156, 'contributor': 742, 'northern': 2217, 'sharp': 3032, 'statistically': 3178, 'joining': 1787, 'rii': 2873, 'positively': 2480, 'homeland': 1559, 'doing': 1008, 'captivate': 456, 'astrophysics': 270, 'uncertainty': 3430, 'quantification': 2664, 'enrich': 1137, 'annotate': 172, 'crowdsourcing': 803, 'better': 359, 'mlib': 2094, 'etl': 1185, 'methodologies': 2053, 'profile': 2576, 'innovations': 1672, 'comprehension': 659, 'sig': 3044, 'brillient': 412, 'charge': 507, 'block': 378, 'xslt': 3626, 'administration': 69, 'cohesively': 585, 'nlu': 2204, 'requests': 2807, 'alternative': 137, 'press': 2533, 'respond': 2832, 'promptly': 2595, 'phone': 2427, 'minorities': 2084, 'females': 1299, 'established': 1179, 'philosophy': 2426, 'maximum': 2016, 'return': 2857, 'roi': 2887, 'cost': 770, 'responsiveness': 2840, 'workmanship': 3612, 'imperative': 1615, 'headquartered': 1520, 'zone': 3643, 'atlantic': 274, 'missouri': 2087, 'california': 443, 'texas': 3314, 'pennsylvania': 2393, 'alabama': 118, 'comprise': 662, 'records': 2732, 'reengineering': 2748, 'bpr': 396, 'dhs': 941, 'tsa': 3409, 'uscis': 3478, 'coast': 577, 'guard': 1485, 'uscg': 3477, 'treasury': 3395, 'treas': 3394, 'justice': 1803, 'doj': 1009, 'interior': 1718, 'doi': 1007, 'commerce': 613, 'doc': 998, 'doed': 1005, 'doe': 1004, 'teaming': 3277, 'outstanding': 2331, 'caliber': 442, 'brillientall': 413, 'locations': 1935, 'chantilly': 503, 'aerospace': 92, 'existence': 1221, 'span': 3113, 'literally': 1922, 'innovator': 1674, 'specialist': 3123, 'programmer': 2580, 'af': 93, 'nro': 2230, 'nasa': 2157, 'mda': 2021, 'architectures': 224, 'recurrent': 2736, 'functionally': 1389, 'champion': 500, 'foster': 1356, 'routine': 2897, 'typically': 3420, 'near': 2170, 'neighbor': 2179, 'expose': 1247, 'xml': 3623, 'kaggle': 1807, 'transcripts': 3379, 'details': 921, 'relocation': 2789, 'federally': 1293, 'ffrdc': 1300, 'technologically': 3286, 'shipping': 3038, 'enforcement': 1121, 'inception': 1625, 'staffed': 3160, 'commitment': 617, 'creates': 787, 'differ': 944, 'childbirth': 519, 'expression': 1250, 'ancestry': 165, 'mental': 2044, 'email': 1083, 'ieo': 1597, 'mailbox': 1958, 'aero': 91, 'org': 2309, 'nearest': 2171, 'segment': 2980, 'yearthe': 3635, 'analysts': 156, 'responsibilitieswork': 2836, 'assurance': 267, 'reviews': 2862, 'monitor': 2122, 'refine': 2753, 'requiredexperience': 2810, 'developmentexperience': 936, 'platformexperience': 2455, 'languagesjava': 1849, 'laterspring': 1855, 'frameworkgradle': 1366, 'mavenreactjs': 2012, 'angular': 170, 'frameworkes': 1365, 'typescriptnpm': 3418, 'babel': 318, 'webpack': 3572, 'toolse': 3359, 'jmeter': 1780, 'cucumber': 811, 'jasmine': 1768, 'selenium': 2989, 'deque': 903, 'fireeyes': 1318, 'junit': 1800, 'locust': 1936, 'soapui': 3085, 'sonarqube': 3104, 'fortify': 1352, 'artifactory': 244, 'tfs': 3316, 'developmente': 935, 'cassandra': 469, 'liquibase': 1915, 'practicesability': 2502, 'timeline': 3343, 'supervisionstrong': 3235, 'skillsexcellent': 3072, 'trouble': 3403, 'shoot': 3039, 'possible': 2485, 'resolutionsexperience': 2825, 'quicklypositive': 2677, 'environmentstrong': 1156, 'verbalamazon': 3520, 'certified': 492, 'certificationpreferred': 489, 'containers': 721, 'ecs': 1049, 'openshift': 2282, 'message': 2050, 'usage': 3475, 'push': 2642, 'notificationexperience': 2223, 'cloudformation': 569, 'ansible': 179, 'chef': 514, 'bambooexperience': 332, 'feedsexperience': 1296, 'invision': 1748, 'ui': 3425, 'uxexperience': 3494, 'ruby': 2899, 'languagesexperience': 1847, 'apigee': 185, 'relic': 2787, 'appdynamics': 190, 'vert': 3528, 'xpyramid': 3625, 'yearlocation': 3634, 'fairfax': 1274, 'inundate': 1740, 'news': 2192, 'audio': 287, 'triage': 3401, 'ocr': 2258, 'bti': 425, 'raise': 2687, 'bar': 336, 'bash': 339, 'jms': 1782, 'sns': 3084, 'works': 3614, 'airflow': 116, 'oozie': 2275, 'eks': 1068, 'rds': 2702, 'cloudwatch': 570, 'mahout': 1957, 'alert': 119, 'mechanism': 2031, 'lucene': 1950, 'chris': 524, 'widmann': 3591, 'widmannc': 3592, 'relationshipsconsulting': 2779, 'environmentoverview': 1154, 'practitioner': 2503, 'encompass': 1110, 'geo': 1431, 'format': 1347, 'reduction': 2744, 'tree': 3397, 'cart': 466, 'manipulation': 1974, 'adaptation': 59, 'highcharts': 1540, 'pcap': 2388, 'elastic': 1069, 'hdfs': 1517, 'os': 2322, 'compile': 642, 'shiny': 3037, 'studio': 3209, 'pythin': 2650, 'pig': 2439, 'impala': 1613, 'pyspark': 2649, 'permit': 2411, 'retaliation': 2850, 'obligation': 2250, 'presence': 2528, 'overtime': 2338, 'cds': 481, 'prohibit': 2586, 'complaint': 645, 'reasonably': 2716, 'accommodate': 17, 'unless': 3458, 'eliminate': 1080, 'undue': 3444, 'hardship': 1512, 'appeal': 191, 'novetta': 2227, 'favorite': 1288, 'chat': 511, 'configure': 686, 'lightgbm': 1899, 'snowball': 3083, 'visually': 3547, 'illustrate': 1600, 'navigate': 2167, 'int': 1696, 'vast': 3512, 'clarity': 543, 'bridge': 408, 'aspire': 251, 'values': 3503, 'accountable': 26, 'ethic': 1183, 'expectation': 1228, 'contractual': 738, 'amaze': 138, 'earn': 1033, 'reinventing': 2771, 'rgi': 2866, 'soldier': 3092, 'intuitive': 1739, 'quantify': 2665, 'compete': 638, 'mature': 2009, 'plugin': 2461, 'jnlp': 1783, 'databases': 843, 'postgis': 2490, 'sqlite': 3149, 'servers': 3008, 'geoserver': 1439, 'mapserver': 1982, 'gdal': 1413, 'ogr': 2268, 'mocha': 2100, 'qunit': 2679, 'stability': 3156, 'simply': 3055, 'escalating': 1171, 'beverage': 360, 'catered': 475, 'breakfast': 405, 'friday': 1375, 'expedition': 1229, 'demystify': 887, 'afford': 98, 'nature': 2165, 'replicate': 2798, 'usefulness': 3482, 'brainstorm': 398, 'smart': 3078, 'brownbag': 421, 'abreast': 6, 'constant': 703, 'boundary': 393, 'loan': 1930, 'repayment': 2796, 'allowance': 134, 'importantly': 1621, 'risk': 2874, 'let': 1880, 'exp': 1224, 'category': 474, 'ft': 1381, 'pt': 2627, 'shift': 3035, 'telework': 3294, 'leidos': 1879, 'traditional': 3371, 'stress': 3201, 'roles': 2889, 'satisfy': 2922, 'evaluates': 1189, 'uses': 3484, 'collaborates': 588, 'administrators': 72, 'consolidate': 702, 'facial': 1264, 'similarity': 3050, 'temporal': 3298, 'keyframe': 1817, 'hypothesis': 1580, 'connectivity': 692, 'interprets': 1734, 'communicates': 620, 'maintains': 1962, 'accompany': 20, 'negotiate': 2177, 'predictable': 2509, 'utmost': 3492, 'concern': 672, 'logstash': 1940, 'sqoop': 3151, 'kibana': 1821, 'neoj': 2181, 'qlik': 2655, 'requires': 2814, 'generally': 1422, 'vital': 3548, 'approximately': 216, 'fiscal': 1321, 'december': 861, 'nyse': 2243, 'ldos': 1863, 'hawkeye': 1515, 'constellation': 705, 'geolocate': 1435, 'fuse': 1397, 'maritime': 1986, 'international': 1722, 'derived': 905, 'mix': 2090, 'convert': 749, 'geolocation': 1436, 'procure': 2565, 'wholly': 3587, 'centric': 485, 'adeptness': 66, 'gis': 1445, 'arcgis': 219, 'oss': 2324, 'cultural': 815, 'humor': 1576, 'proactively': 2554, 'actual': 53, 'perceive': 2395, 'alienage': 127, 'handicap': 1501, 'comcomputer': 604, 'citizens': 531, 'electro': 1073, 'optic': 2295, 'thermal': 3324, 'sar': 2917, 'modification': 2115, 'milestone': 2071, 'algorithms': 125, 'airborne': 114, 'yeschild': 3637, 'trends': 3400, 'furthermore': 1396, 'setsbuild': 3017, 'modelsassist': 2108, 'metric': 2056, 'sciencedevelops': 2944, 'phenomenon': 2424, 'simulationdesigns': 3057, 'valid': 3498, 'analysesbuild': 149, 'seamlessly': 2964, 'productiondevelops': 2570, 'analysisapply': 151, 'experiencedemonstrated': 1232, 'algorithmsexperience': 126, 'methodsbackground': 2055, 'languageshands': 1848, 'theanomust': 3319, 'setsexperience': 3018, 'serverstrong': 3009, 'detailself': 922, 'oversightexperience': 2337, 'upload': 3471, 'materials': 2000, 'difficulty': 949, 'childtrends': 520, 'child': 518, 'nonpartisan': 2209, 'minneapolis': 2083, 'chapel': 504, 'hill': 1543, 'carolina': 464, 'maintenance': 1963, 'file': 1307, 'datamining': 847, 'intel': 1703, 'programs': 2583, 'por': 2474, 'udig': 3424, 'owner': 2340, 'leaflet': 1868, 'layers': 1859, 'rest': 2841, 'ogc': 2267, 'wfs': 3583, 'wms': 3603, 'gartner': 1406, 'bold': 383, 'courage': 777, 'compelling': 636, 'interaction': 1712, 'double': 1012, 'digit': 951, 'unbiased': 3429, 'worker': 3607, 'guideline': 1490, 'linguistics': 1910, 'bias': 361, 'variance': 3506, 'curve': 825, 'hyper': 1578, 'parameter': 2356, 'fine': 1315, 'adaboost': 56, 'cnns': 574, 'rnns': 2878, 'gans': 1404, 'hacker': 1495, 'hunger': 1577, 'enigma': 1133, 'riddle': 2869, 'uncommon': 3432, 'lisp': 1916, 'scheme': 2939, 'erlang': 1168, 'caffee': 439, 'id': 1587, 'agree': 107, 'regional': 2762, 'residence': 2820, 'privacy': 2550, 'navigation': 2168, 'button': 435, 'arrow': 239, 'browser': 422, 'reboot': 2718, 'tel': 3291, 'adversary': 80, 'defender': 870, 'nascent': 2158, 'enthusiastically': 1144, 'usable': 3474, 'comparable': 631, 'concise': 673, 'satisfactorily': 2921, 'nowjob': 2228, 'cubic': 809, 'motiondsp': 2129, 'teralogics': 3305, 'subsidiary': 3217, 'understands': 3441, 'isolate': 1758, 'obvious': 2255, 'incumbents': 1638, 'regularly': 2766, 'exercise': 1217, 'discretionary': 973, 'authority': 292, 'advises': 85, 'harness': 1514, 'curates': 817, 'prepares': 2523, 'delivers': 879, 'keeps': 1809, 'funding': 1395, 'resourcing': 2829, 'abstract': 8, 'ambiguous': 142, 'driver': 1020, 'repeatable': 2797, 'fashion': 1281, 'incumbent': 1637, 'simultaneously': 3059, 'accord': 22, 'budget': 427, 'ideally': 1590, 'ashburn': 246, 'intend': 1709, 'exhaustive': 1218, 'employeeworking': 1095, 'icf': 1585, 'rigor': 2871, 'compassionate': 635, 'unprecedented': 3463, 'mutual': 2149, 'tomorrow': 3354, 'cdc': 480, 'atlanta': 273, 'ci': 525, 'cd': 479, 'tester': 3310, 'incrementally': 1636, 'increment': 1634, 'microservice': 2062, 'ux': 3493, 'designers': 910, 'fully': 1384, 'swagger': 3253, 'artifact': 243, 'redhat': 2740, 'owners': 2341, 'testers': 3311, 'refining': 2755, 'acceptance': 13, 'hibernate': 1537, 'jpa': 1792, 'consensus': 694, 'jersey': 1775, 'jboss': 1771, 'tomcat': 3353, 'oauth': 2244, 'volmetric': 3550, 'transparent': 3390, 'redis': 2741, 'couchdb': 771, 'jws': 1805, 'mq': 2133, 'broker': 419, 'brms': 416, 'rules': 2901, 'rails': 2686, 'zookeeper': 3644, 'rabbitmq': 2681, 'microreact': 2060, 'hl': 1551, 'fhir': 1301, 'accommodations': 19, 'icfcareercenter': 1586, 'kept': 1810, 'confidential': 684, 'extent': 1254, 'wa': 3555, 'usdata': 3479, 'designminimum': 912, 'gothis': 1455, 'internet': 1724, 'things': 3326, 'load': 1929, 'easily': 1035, 'verification': 3522, 'cache': 436, 'sync': 3256, 'securely': 2976, 'nexus': 2195, 'endless': 1116, 'unlocked': 3461, 'wearable': 3569, 'automobile': 300, 'industrial': 1647, 'technologist': 3288, 'ownership': 2342, 'operationally': 2288, 'similarly': 3051, 'sit': 3061, 'herndon': 1535, 'seattle': 2968, 'systemscomfortable': 3261, 'ambiguityfamiliarity': 141, 'esp': 1172, 'mqtt': 2134, 'pub': 2629, 'sub': 3212, 'servicesknowledge': 3013, 'tensorflows': 3303, 'orientationtitle': 2316, 'comhobsons': 608, 'connects': 693, 'lifetime': 1897, 'nearly': 2172, 'despite': 918, 'employers': 1098, 'properly': 2600, 'journey': 1791, 'hobsons': 1552, 'pathway': 2380, 'naviance': 2166, 'intersect': 1735, 'starfish': 3166, 'behalf': 348, 'counselor': 772, 'administrator': 71, 'parent': 2359, 'kindergarten': 1824, 'seasonal': 2967, 'clarendon': 540, 'cincinnati': 527, 'sharonville': 3031, 'proposition': 2604, 'saas': 2906, 'kylin': 1835, 'kylo': 1836, 'marshal': 1990, 'tie': 3338, 'item': 1761, 'analyzing': 164, 'strengthen': 3200, 'lake': 1842, 'mart': 1991, 'batch': 342, 'puppet': 2635, 'recognizes': 2725, 'affordable': 99, 'plans': 2453, 'floating': 1331, 'holidays': 1556, 'premium': 2519, 'days': 852, 'volunteering': 3553, 'wellness': 3580, 'conferences': 681, 'visits': 3543, 'voluntary': 3552, 'theft': 3321, 'closes': 566, 'th': 3317, 'january': 1767, 'achievement': 35, 'awards': 308, 'funded': 1393, 'charity': 508, 'involvement': 1751, 'discount': 968, 'facebook': 1262, 'twitter': 3414, 'reform': 2757, 'impartial': 1614, 'legally': 1878, 'hitachi': 1549, 'vantara': 3505, 'intelligently': 1708, 'ot': 2325, 'activate': 46, 'monetize': 2119, 'substantially': 3219, 'fieldexperience': 1304, 'environmentknowledge': 1153, 'platformsknowledge': 2458, 'learnknowledge': 1874, 'ds': 1024, 'aiknowledge': 111, 'rdbms': 2701, 'librariesability': 1891, 'handworks': 1505, 'cl': 537, 'hadoopfamiliarity': 1497, 'tensorflowexperience': 3302, 'techniquesexperience': 3284, 'representationsexperience': 2804, 'pipelinesexperience': 2445, 'craftingcreative': 785, 'groundbreaking': 1479, 'andcreative': 166, 'someonelike': 3102, 'machinelearning': 1955, 'toreality': 3363, 'ongroundbreaking': 2270, 'skilledand': 3068, 'learningresearcher': 1872, 'broader': 418, 'reasoning': 2717, 'gen': 1416, 'qualificationsif': 2659, 'appliedphysics': 201, 'mostcritical': 2127, 'selectionof': 2988, 'aplpromotes': 188, 'benefitsand': 354, 'thebaltimore': 3320, 'actionemployer': 45, 'employmentwithout': 1100, 'sexualorientation': 3024, 'othercharacteristic': 2326, 'clarifai': 541, 'visual': 3544, 'sell': 2991, 'futuristic': 1400, 'quick': 2675, 'inexpensive': 1651, 'accessible': 16, 'personalize': 2415, 'accurate': 32, 'round': 2894, 'menlo': 2043, 'ventures': 3518, 'usv': 3486, 'qualcomm': 2656, 'osage': 2323, 'lux': 1951, 'ldv': 1864, 'corazon': 760, 'existent': 1222, 'iteration': 1763, 'reading': 2707, 'mode': 2102, 'experimentation': 1236, 'excitement': 1211, 'published': 2634, 'pycuda': 2647, 'objectives': 2248, 'rope': 2892, 'ramp': 2689, 'road': 2879, 'unfamiliar': 3447, 'phenomenal': 2423, 'ups': 3472, 'clarifaiinnovate': 542, 'shine': 3036, 'lighthouse': 1900, 'kpmg': 1833, 'excellence': 1204, 'sophisticated': 3106, 'agility': 106, 'backing': 324, 'spirit': 3138, 'workshop': 3615, 'engagement': 1124, 'merger': 2047, 'workstreams': 3616, 'ingest': 1663, 'engines': 1129, 'graphs': 1473, 'mitigate': 2088, 'assumption': 266, 'refactor': 2749, 'iteratively': 1765, 'thread': 3331, 'gathering': 1410, 'discus': 976, 'eighty': 1067, 'percent': 2396, 'visa': 3539, 'sponsorship': 3144, 'llp': 1928, 'attach': 276, 'contains': 722, 'cominnovate': 609, 'modeler': 2104, 'oversee': 2334, 'constrains': 706, 'pro': 2552}\n"
     ]
    }
   ],
   "source": [
    "vectorizer = CountVectorizer(max_features=None, ngram_range=(1,1), stop_words='english')\n",
    "\n",
    "vectorizer.fit(pos_parsed_words)\n",
    "print(vectorizer.vocabulary_)"
   ]
  },
  {
   "cell_type": "code",
   "execution_count": 25,
   "metadata": {},
   "outputs": [],
   "source": [
    "vector_word_counts = vectorizer.transform(pos_parsed_words)\n",
    "\n",
    "pos_vectorized = pd.DataFrame(vector_word_counts.toarray(), columns=vectorizer.get_feature_names())"
   ]
  },
  {
   "cell_type": "code",
   "execution_count": 26,
   "metadata": {},
   "outputs": [
    {
     "data": {
      "text/plain": [
       "(37129, 3645)"
      ]
     },
     "execution_count": 26,
     "metadata": {},
     "output_type": "execute_result"
    }
   ],
   "source": [
    "pos_vectorized.shape"
   ]
  },
  {
   "cell_type": "code",
   "execution_count": 27,
   "metadata": {},
   "outputs": [
    {
     "data": {
      "text/html": [
       "<div>\n",
       "<style scoped>\n",
       "    .dataframe tbody tr th:only-of-type {\n",
       "        vertical-align: middle;\n",
       "    }\n",
       "\n",
       "    .dataframe tbody tr th {\n",
       "        vertical-align: top;\n",
       "    }\n",
       "\n",
       "    .dataframe thead th {\n",
       "        text-align: right;\n",
       "    }\n",
       "</style>\n",
       "<table border=\"1\" class=\"dataframe\">\n",
       "  <thead>\n",
       "    <tr style=\"text-align: right;\">\n",
       "      <th></th>\n",
       "      <th>aap</th>\n",
       "      <th>aberdeen</th>\n",
       "      <th>abet</th>\n",
       "      <th>abilities</th>\n",
       "      <th>ability</th>\n",
       "      <th>able</th>\n",
       "      <th>abreast</th>\n",
       "      <th>abroad</th>\n",
       "      <th>abstract</th>\n",
       "      <th>abundant</th>\n",
       "      <th>...</th>\n",
       "      <th>yearthe</th>\n",
       "      <th>yes</th>\n",
       "      <th>yeschild</th>\n",
       "      <th>yesmust</th>\n",
       "      <th>yolo</th>\n",
       "      <th>yr</th>\n",
       "      <th>zaktaccardi</th>\n",
       "      <th>zeppelin</th>\n",
       "      <th>zone</th>\n",
       "      <th>zookeeper</th>\n",
       "    </tr>\n",
       "  </thead>\n",
       "  <tbody>\n",
       "    <tr>\n",
       "      <th>0</th>\n",
       "      <td>0</td>\n",
       "      <td>0</td>\n",
       "      <td>0</td>\n",
       "      <td>0</td>\n",
       "      <td>0</td>\n",
       "      <td>0</td>\n",
       "      <td>0</td>\n",
       "      <td>0</td>\n",
       "      <td>0</td>\n",
       "      <td>0</td>\n",
       "      <td>...</td>\n",
       "      <td>0</td>\n",
       "      <td>0</td>\n",
       "      <td>0</td>\n",
       "      <td>0</td>\n",
       "      <td>0</td>\n",
       "      <td>0</td>\n",
       "      <td>0</td>\n",
       "      <td>0</td>\n",
       "      <td>0</td>\n",
       "      <td>0</td>\n",
       "    </tr>\n",
       "    <tr>\n",
       "      <th>1</th>\n",
       "      <td>0</td>\n",
       "      <td>0</td>\n",
       "      <td>0</td>\n",
       "      <td>0</td>\n",
       "      <td>0</td>\n",
       "      <td>0</td>\n",
       "      <td>0</td>\n",
       "      <td>0</td>\n",
       "      <td>0</td>\n",
       "      <td>0</td>\n",
       "      <td>...</td>\n",
       "      <td>0</td>\n",
       "      <td>0</td>\n",
       "      <td>0</td>\n",
       "      <td>0</td>\n",
       "      <td>0</td>\n",
       "      <td>0</td>\n",
       "      <td>0</td>\n",
       "      <td>0</td>\n",
       "      <td>0</td>\n",
       "      <td>0</td>\n",
       "    </tr>\n",
       "    <tr>\n",
       "      <th>2</th>\n",
       "      <td>0</td>\n",
       "      <td>0</td>\n",
       "      <td>0</td>\n",
       "      <td>0</td>\n",
       "      <td>0</td>\n",
       "      <td>0</td>\n",
       "      <td>0</td>\n",
       "      <td>0</td>\n",
       "      <td>0</td>\n",
       "      <td>0</td>\n",
       "      <td>...</td>\n",
       "      <td>0</td>\n",
       "      <td>0</td>\n",
       "      <td>0</td>\n",
       "      <td>0</td>\n",
       "      <td>0</td>\n",
       "      <td>0</td>\n",
       "      <td>0</td>\n",
       "      <td>0</td>\n",
       "      <td>0</td>\n",
       "      <td>0</td>\n",
       "    </tr>\n",
       "    <tr>\n",
       "      <th>3</th>\n",
       "      <td>0</td>\n",
       "      <td>0</td>\n",
       "      <td>0</td>\n",
       "      <td>0</td>\n",
       "      <td>0</td>\n",
       "      <td>0</td>\n",
       "      <td>0</td>\n",
       "      <td>0</td>\n",
       "      <td>0</td>\n",
       "      <td>0</td>\n",
       "      <td>...</td>\n",
       "      <td>0</td>\n",
       "      <td>0</td>\n",
       "      <td>0</td>\n",
       "      <td>0</td>\n",
       "      <td>0</td>\n",
       "      <td>0</td>\n",
       "      <td>0</td>\n",
       "      <td>0</td>\n",
       "      <td>0</td>\n",
       "      <td>0</td>\n",
       "    </tr>\n",
       "    <tr>\n",
       "      <th>4</th>\n",
       "      <td>0</td>\n",
       "      <td>0</td>\n",
       "      <td>0</td>\n",
       "      <td>0</td>\n",
       "      <td>0</td>\n",
       "      <td>0</td>\n",
       "      <td>0</td>\n",
       "      <td>0</td>\n",
       "      <td>0</td>\n",
       "      <td>0</td>\n",
       "      <td>...</td>\n",
       "      <td>0</td>\n",
       "      <td>0</td>\n",
       "      <td>0</td>\n",
       "      <td>0</td>\n",
       "      <td>0</td>\n",
       "      <td>0</td>\n",
       "      <td>0</td>\n",
       "      <td>0</td>\n",
       "      <td>0</td>\n",
       "      <td>0</td>\n",
       "    </tr>\n",
       "  </tbody>\n",
       "</table>\n",
       "<p>5 rows × 3645 columns</p>\n",
       "</div>"
      ],
      "text/plain": [
       "   aap  aberdeen  abet  abilities  ability  able  abreast  abroad  abstract  \\\n",
       "0    0         0     0          0        0     0        0       0         0   \n",
       "1    0         0     0          0        0     0        0       0         0   \n",
       "2    0         0     0          0        0     0        0       0         0   \n",
       "3    0         0     0          0        0     0        0       0         0   \n",
       "4    0         0     0          0        0     0        0       0         0   \n",
       "\n",
       "   abundant    ...      yearthe  yes  yeschild  yesmust  yolo  yr  \\\n",
       "0         0    ...            0    0         0        0     0   0   \n",
       "1         0    ...            0    0         0        0     0   0   \n",
       "2         0    ...            0    0         0        0     0   0   \n",
       "3         0    ...            0    0         0        0     0   0   \n",
       "4         0    ...            0    0         0        0     0   0   \n",
       "\n",
       "   zaktaccardi  zeppelin  zone  zookeeper  \n",
       "0            0         0     0          0  \n",
       "1            0         0     0          0  \n",
       "2            0         0     0          0  \n",
       "3            0         0     0          0  \n",
       "4            0         0     0          0  \n",
       "\n",
       "[5 rows x 3645 columns]"
      ]
     },
     "execution_count": 27,
     "metadata": {},
     "output_type": "execute_result"
    }
   ],
   "source": [
    "pos_vectorized.head()"
   ]
  },
  {
   "cell_type": "markdown",
   "metadata": {
    "colab_type": "text",
    "id": "Zo1iH_UeY7_n"
   },
   "source": [
    "# 4) Visualize the most common word counts"
   ]
  },
  {
   "cell_type": "code",
   "execution_count": 0,
   "metadata": {
    "colab": {},
    "colab_type": "code",
    "id": "M5LB00uyZKV5"
   },
   "outputs": [],
   "source": [
    "##### Your Code Here #####"
   ]
  },
  {
   "cell_type": "markdown",
   "metadata": {
    "colab_type": "text",
    "id": "bwFsTqrVZMYi"
   },
   "source": [
    " # 5) Use Scikit-Learn's tfidfVectorizer to get a TF-IDF feature matrix"
   ]
  },
  {
   "cell_type": "code",
   "execution_count": 0,
   "metadata": {
    "colab": {},
    "colab_type": "code",
    "id": "-gx2gZCbl5Np"
   },
   "outputs": [],
   "source": [
    "##### Your Code Here #####"
   ]
  },
  {
   "cell_type": "markdown",
   "metadata": {
    "colab_type": "text",
    "id": "FiDfTWceoRkH"
   },
   "source": [
    "## Stretch Goals\n",
    "\n",
    " - Scrape Job Listings for the job title \"Data Analyst\". How do these differ from Data Scientist Job Listings\n",
    " - Try and identify requirements for experience specific technologies that are asked for in the job listings. How are those distributed among the job listings?\n",
    " - Use a clustering algorithm to cluster documents by their most important terms. Do the clusters reveal any common themes?\n",
    "  - **Hint:** K-means might not be the best algorithm for this. Do a little bit of research to see what might be good for this. Also, remember that algorithms that depend on Euclidean distance break down with high dimensional data."
   ]
  }
 ],
 "metadata": {
  "colab": {
   "collapsed_sections": [],
   "name": "LS_DS_422_BOW_Assignment.ipynb",
   "provenance": [],
   "version": "0.3.2"
  },
  "kernelspec": {
   "display_name": "Python 3",
   "language": "python",
   "name": "python3"
  },
  "language_info": {
   "codemirror_mode": {
    "name": "ipython",
    "version": 3
   },
   "file_extension": ".py",
   "mimetype": "text/x-python",
   "name": "python",
   "nbconvert_exporter": "python",
   "pygments_lexer": "ipython3",
   "version": "3.7.2"
  }
 },
 "nbformat": 4,
 "nbformat_minor": 1
}
