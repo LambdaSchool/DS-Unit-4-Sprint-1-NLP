{
 "cells": [
  {
   "cell_type": "code",
   "execution_count": 8,
   "metadata": {},
   "outputs": [],
   "source": [
    "import requests\n",
    "from bs4 import BeautifulSoup\n",
    "import pandas as pd\n",
    "import time\n",
    "import re\n",
    "import matplotlib.pyplot as plt\n",
    "import nltk"
   ]
  },
  {
   "cell_type": "code",
   "execution_count": 23,
   "metadata": {},
   "outputs": [
    {
     "data": {
      "text/plain": [
       "['https://www.indeed.com/jobs?q=\"Data+Scientist\"&1=United+States',\n",
       " 'https://www.indeed.com/jobs?q=\"Data+Scientist\"&1=United+States&start10',\n",
       " 'https://www.indeed.com/jobs?q=\"Data+Scientist\"&1=United+States&start20',\n",
       " 'https://www.indeed.com/jobs?q=\"Data+Scientist\"&1=United+States&start30',\n",
       " 'https://www.indeed.com/jobs?q=\"Data+Scientist\"&1=United+States&start40',\n",
       " 'https://www.indeed.com/jobs?q=\"Data+Scientist\"&1=United+States&start50',\n",
       " 'https://www.indeed.com/jobs?q=\"Data+Scientist\"&1=United+States&start60',\n",
       " 'https://www.indeed.com/jobs?q=\"Data+Scientist\"&1=United+States&start70',\n",
       " 'https://www.indeed.com/jobs?q=\"Data+Scientist\"&1=United+States&start80',\n",
       " 'https://www.indeed.com/jobs?q=\"Data+Scientist\"&1=United+States&start90',\n",
       " 'https://www.indeed.com/jobs?q=\"Data+Scientist\"&1=United+States&start100',\n",
       " 'https://www.indeed.com/jobs?q=\"Data+Scientist\"&1=United+States&start110',\n",
       " 'https://www.indeed.com/jobs?q=\"Data+Scientist\"&1=United+States&start120',\n",
       " 'https://www.indeed.com/jobs?q=\"Data+Scientist\"&1=United+States&start130',\n",
       " 'https://www.indeed.com/jobs?q=\"Data+Scientist\"&1=United+States&start140',\n",
       " 'https://www.indeed.com/jobs?q=\"Data+Scientist\"&1=United+States&start150',\n",
       " 'https://www.indeed.com/jobs?q=\"Data+Scientist\"&1=United+States&start160',\n",
       " 'https://www.indeed.com/jobs?q=\"Data+Scientist\"&1=United+States&start170',\n",
       " 'https://www.indeed.com/jobs?q=\"Data+Scientist\"&1=United+States&start180',\n",
       " 'https://www.indeed.com/jobs?q=\"Data+Scientist\"&1=United+States&start190']"
      ]
     },
     "execution_count": 23,
     "metadata": {},
     "output_type": "execute_result"
    }
   ],
   "source": [
    "max_jobs = 200\n",
    "title='\"Data Scientist\"'\n",
    "location = 'United States'\n",
    "def make_urls(job_title=title, location=location, maxjobs=max_jobs): \n",
    "    num_pages = maxjobs // 10\n",
    "    \n",
    "    root = 'https://www.indeed.com/jobs?q='\n",
    "    \n",
    "    job_title = job_title.replace(' ', '+')\n",
    "    location = location.replace(' ', '+')\n",
    "    \n",
    "    urls = []\n",
    "    \n",
    "    page_num = 0\n",
    "    for page in range(num_pages): \n",
    "        if page_num==0: \n",
    "            seedURL = root + job_title + '&1=' + location\n",
    "        else: \n",
    "            job_num = page_num*10\n",
    "            job_num = str(job_num)\n",
    "            seedURL = root + job_title + '&1=' + location + '&start' + job_num\n",
    "        \n",
    "        page_num += 1\n",
    "        urls.append(seedURL)\n",
    "        \n",
    "    return urls\n",
    "\n",
    "make_urls()"
   ]
  },
  {
   "cell_type": "code",
   "execution_count": null,
   "metadata": {},
   "outputs": [],
   "source": []
  },
  {
   "cell_type": "code",
   "execution_count": null,
   "metadata": {},
   "outputs": [],
   "source": []
  }
 ],
 "metadata": {
  "kernelspec": {
   "display_name": "Python 3",
   "language": "python",
   "name": "python3"
  },
  "language_info": {
   "codemirror_mode": {
    "name": "ipython",
    "version": 3
   },
   "file_extension": ".py",
   "mimetype": "text/x-python",
   "name": "python",
   "nbconvert_exporter": "python",
   "pygments_lexer": "ipython3",
   "version": "3.6.6"
  }
 },
 "nbformat": 4,
 "nbformat_minor": 2
}
