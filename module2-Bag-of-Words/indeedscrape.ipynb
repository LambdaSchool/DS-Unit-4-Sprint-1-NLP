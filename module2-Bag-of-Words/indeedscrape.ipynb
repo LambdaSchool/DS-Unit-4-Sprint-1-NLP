{
 "cells": [
  {
   "cell_type": "code",
   "execution_count": null,
   "metadata": {},
   "outputs": [],
   "source": [
    "import requests\n",
    "from bs4 import BeautifulSoup\n",
    "import pandas as pd\n",
    "import time\n",
    "import re\n",
    "import matplotlib.pyplot as plt\n",
    "import nltk"
   ]
  },
  {
   "cell_type": "code",
   "execution_count": null,
   "metadata": {},
   "outputs": [],
   "source": [
    "max_jobs = 200\n",
    "title='\"Data Scientist\"'\n",
    "location = 'United States'\n",
    "def make_urls(job_title=title, location=location, maxjobs=max_jobs): \n",
    "    numPages = maxjobs // 10\n",
    "    \n",
    "    root = 'https://www.indeed.com/jobs?q='\n",
    "    \n",
    "    job_title = job_title.replace(' ', '+')\n",
    "    location = location.replace(' ', '+')\n",
    "    \n",
    "    urls = []\n",
    "    \n",
    "    pageNum = 0\n",
    "    for page in range(num_pages): \n",
    "        if pageNum==0: \n",
    "            seedURL = root + job_title + '&1=' + location\n",
    "        else: \n",
    "            jobNum = pageNum*10\n",
    "            jobNum = str(jobNum)\n",
    "            seedURL = root + job_title + '&1=' + location + '&start' + jobNum\n",
    "        \n",
    "        pageNum += 1\n",
    "        urls.append(seedURL)\n",
    "        \n",
    "    return urls\n",
    "\n"
   ]
  }
 ],
 "metadata": {
  "kernelspec": {
   "display_name": "Python 3",
   "language": "python",
   "name": "python3"
  },
  "language_info": {
   "codemirror_mode": {
    "name": "ipython",
    "version": 3
   },
   "file_extension": ".py",
   "mimetype": "text/x-python",
   "name": "python",
   "nbconvert_exporter": "python",
   "pygments_lexer": "ipython3",
   "version": "3.6.6"
  }
 },
 "nbformat": 4,
 "nbformat_minor": 2
}
