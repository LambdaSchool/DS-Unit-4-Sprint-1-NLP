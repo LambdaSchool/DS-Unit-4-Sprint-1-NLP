{
 "cells": [
  {
   "cell_type": "markdown",
   "metadata": {},
   "source": [
    "<img align=\"left\" src=\"https://lever-client-logos.s3.amazonaws.com/864372b1-534c-480e-acd5-9711f850815c-1524247202159.png\" width=200>\n",
    "<br></br>\n",
    "<br></br>\n",
    "\n",
    "# Sprint Challenge\n",
    "## *Data Science Unit 4 Sprint 1*\n",
    "\n",
    "After a week of Natural Language Processing, you've learned some cool new stuff: how to process text, how turn text into vectors, and how to model topics from documents. Apply your newly acquired skills to one of the most famous NLP datasets out there: [Yelp](https://www.yelp.com/dataset/challenge). As part of the job selection process, some of my friends have been asked to create analysis of this dataset, so I want to empower you to have a head start.  \n",
    "\n",
    "The real dataset is massive (almost 8 gigs uncompressed). I've sampled the data for you to something more managable for the Sprint Challenge. You can analyze the full dataset as a stretch goal or after the sprint challenge. As you work on the challenge, I suggest adding notes about your findings and things you want to analyze in the future.\n",
    "\n",
    "## Challenge Objectives\n",
    "*Successfully complete these all these objectives to earn a 2. There are more details on each objective further down in the notebook.*\n",
    "* <a href=\"#p1\">Part 1</a>: Write a function to tokenize the yelp reviews\n",
    "* <a href=\"#p2\">Part 2</a>: Create a vector representation of those tokens\n",
    "* <a href=\"#p3\">Part 3</a>: Use your tokens in a classification model on yelp rating\n",
    "* <a href=\"#p4\">Part 4</a>: Estimate & Interpret a topic model of the Yelp reviews"
   ]
  },
  {
   "cell_type": "code",
   "execution_count": 1,
   "metadata": {},
   "outputs": [],
   "source": [
    "import pandas as pd\n",
    "\n",
    "yelp = pd.read_json('./data/review_sample.json', lines=True)"
   ]
  },
  {
   "cell_type": "code",
   "execution_count": 2,
   "metadata": {},
   "outputs": [
    {
     "data": {
      "text/html": [
       "<div>\n",
       "<style scoped>\n",
       "    .dataframe tbody tr th:only-of-type {\n",
       "        vertical-align: middle;\n",
       "    }\n",
       "\n",
       "    .dataframe tbody tr th {\n",
       "        vertical-align: top;\n",
       "    }\n",
       "\n",
       "    .dataframe thead th {\n",
       "        text-align: right;\n",
       "    }\n",
       "</style>\n",
       "<table border=\"1\" class=\"dataframe\">\n",
       "  <thead>\n",
       "    <tr style=\"text-align: right;\">\n",
       "      <th></th>\n",
       "      <th>business_id</th>\n",
       "      <th>cool</th>\n",
       "      <th>date</th>\n",
       "      <th>funny</th>\n",
       "      <th>review_id</th>\n",
       "      <th>stars</th>\n",
       "      <th>text</th>\n",
       "      <th>useful</th>\n",
       "      <th>user_id</th>\n",
       "    </tr>\n",
       "  </thead>\n",
       "  <tbody>\n",
       "    <tr>\n",
       "      <th>0</th>\n",
       "      <td>nDuEqIyRc8YKS1q1fX0CZg</td>\n",
       "      <td>1</td>\n",
       "      <td>2015-03-31 16:50:30</td>\n",
       "      <td>0</td>\n",
       "      <td>eZs2tpEJtXPwawvHnHZIgQ</td>\n",
       "      <td>1</td>\n",
       "      <td>BEWARE!!! FAKE, FAKE, FAKE....We also own a sm...</td>\n",
       "      <td>10</td>\n",
       "      <td>n1LM36qNg4rqGXIcvVXv8w</td>\n",
       "    </tr>\n",
       "    <tr>\n",
       "      <th>1</th>\n",
       "      <td>eMYeEapscbKNqUDCx705hg</td>\n",
       "      <td>0</td>\n",
       "      <td>2015-12-16 05:31:03</td>\n",
       "      <td>0</td>\n",
       "      <td>DoQDWJsNbU0KL1O29l_Xug</td>\n",
       "      <td>4</td>\n",
       "      <td>Came here for lunch Togo. Service was quick. S...</td>\n",
       "      <td>0</td>\n",
       "      <td>5CgjjDAic2-FAvCtiHpytA</td>\n",
       "    </tr>\n",
       "    <tr>\n",
       "      <th>2</th>\n",
       "      <td>6Q7-wkCPc1KF75jZLOTcMw</td>\n",
       "      <td>1</td>\n",
       "      <td>2010-06-20 19:14:48</td>\n",
       "      <td>1</td>\n",
       "      <td>DDOdGU7zh56yQHmUnL1idQ</td>\n",
       "      <td>3</td>\n",
       "      <td>I've been to Vegas dozens of times and had nev...</td>\n",
       "      <td>2</td>\n",
       "      <td>BdV-cf3LScmb8kZ7iiBcMA</td>\n",
       "    </tr>\n",
       "    <tr>\n",
       "      <th>3</th>\n",
       "      <td>k3zrItO4l9hwfLRwHBDc9w</td>\n",
       "      <td>3</td>\n",
       "      <td>2010-07-13 00:33:45</td>\n",
       "      <td>4</td>\n",
       "      <td>LfTMUWnfGFMOfOIyJcwLVA</td>\n",
       "      <td>1</td>\n",
       "      <td>We went here on a night where they closed off ...</td>\n",
       "      <td>5</td>\n",
       "      <td>cZZnBqh4gAEy4CdNvJailQ</td>\n",
       "    </tr>\n",
       "    <tr>\n",
       "      <th>4</th>\n",
       "      <td>6hpfRwGlOzbNv7k5eP9rsQ</td>\n",
       "      <td>1</td>\n",
       "      <td>2018-06-30 02:30:01</td>\n",
       "      <td>0</td>\n",
       "      <td>zJSUdI7bJ8PNJAg4lnl_Gg</td>\n",
       "      <td>4</td>\n",
       "      <td>3.5 to 4 stars\\n\\nNot bad for the price, $12.9...</td>\n",
       "      <td>5</td>\n",
       "      <td>n9QO4ClYAS7h9fpQwa5bhA</td>\n",
       "    </tr>\n",
       "  </tbody>\n",
       "</table>\n",
       "</div>"
      ],
      "text/plain": [
       "              business_id  cool                date  funny  \\\n",
       "0  nDuEqIyRc8YKS1q1fX0CZg     1 2015-03-31 16:50:30      0   \n",
       "1  eMYeEapscbKNqUDCx705hg     0 2015-12-16 05:31:03      0   \n",
       "2  6Q7-wkCPc1KF75jZLOTcMw     1 2010-06-20 19:14:48      1   \n",
       "3  k3zrItO4l9hwfLRwHBDc9w     3 2010-07-13 00:33:45      4   \n",
       "4  6hpfRwGlOzbNv7k5eP9rsQ     1 2018-06-30 02:30:01      0   \n",
       "\n",
       "                review_id  stars  \\\n",
       "0  eZs2tpEJtXPwawvHnHZIgQ      1   \n",
       "1  DoQDWJsNbU0KL1O29l_Xug      4   \n",
       "2  DDOdGU7zh56yQHmUnL1idQ      3   \n",
       "3  LfTMUWnfGFMOfOIyJcwLVA      1   \n",
       "4  zJSUdI7bJ8PNJAg4lnl_Gg      4   \n",
       "\n",
       "                                                text  useful  \\\n",
       "0  BEWARE!!! FAKE, FAKE, FAKE....We also own a sm...      10   \n",
       "1  Came here for lunch Togo. Service was quick. S...       0   \n",
       "2  I've been to Vegas dozens of times and had nev...       2   \n",
       "3  We went here on a night where they closed off ...       5   \n",
       "4  3.5 to 4 stars\\n\\nNot bad for the price, $12.9...       5   \n",
       "\n",
       "                  user_id  \n",
       "0  n1LM36qNg4rqGXIcvVXv8w  \n",
       "1  5CgjjDAic2-FAvCtiHpytA  \n",
       "2  BdV-cf3LScmb8kZ7iiBcMA  \n",
       "3  cZZnBqh4gAEy4CdNvJailQ  \n",
       "4  n9QO4ClYAS7h9fpQwa5bhA  "
      ]
     },
     "execution_count": 2,
     "metadata": {},
     "output_type": "execute_result"
    }
   ],
   "source": [
    "yelp.head()"
   ]
  },
  {
   "cell_type": "code",
   "execution_count": 8,
   "metadata": {},
   "outputs": [
    {
     "data": {
      "text/plain": [
       "(10000, 10)"
      ]
     },
     "execution_count": 8,
     "metadata": {},
     "output_type": "execute_result"
    }
   ],
   "source": [
    "yelp.shape"
   ]
  },
  {
   "cell_type": "markdown",
   "metadata": {},
   "source": [
    "## Part 1: Tokenize Function\n",
    "<a id=\"#p1\"></a>\n",
    "\n",
    "Complete the function `tokenize`. Your function should\n",
    "- accept one document at a time\n",
    "- return a list of tokens\n",
    "\n",
    "You are free to use any method you have learned this week."
   ]
  },
  {
   "cell_type": "code",
   "execution_count": 3,
   "metadata": {},
   "outputs": [
    {
     "name": "stderr",
     "output_type": "stream",
     "text": [
      "C:\\Users\\Michael\\Anaconda3\\envs\\U4-S1-NLP\\lib\\site-packages\\gensim\\utils.py:1197: UserWarning: detected Windows; aliasing chunkize to chunkize_serial\n",
      "  warnings.warn(\"detected Windows; aliasing chunkize to chunkize_serial\")\n"
     ]
    }
   ],
   "source": [
    "import numpy as np\n",
    "import gensim\n",
    "import os\n",
    "import re\n",
    "\n",
    "from gensim.utils import simple_preprocess\n",
    "from gensim.parsing.preprocessing import STOPWORDS\n",
    "from gensim import corpora\n",
    "\n",
    "from gensim.models.ldamulticore import LdaMulticore\n",
    "\n",
    "import pandas as pd"
   ]
  },
  {
   "cell_type": "code",
   "execution_count": 25,
   "metadata": {},
   "outputs": [],
   "source": [
    "# def tokenize(doc):\n",
    "    \n",
    "#     return ..."
   ]
  },
  {
   "cell_type": "code",
   "execution_count": 5,
   "metadata": {},
   "outputs": [],
   "source": [
    "# Tokenizer function\n",
    "\n",
    "def tokenize(text):\n",
    "    tokens = []\n",
    "    for token in simple_preprocess(text):\n",
    "        if token not in STOPWORDS and len(token) > 3:\n",
    "            tokens.append(token)\n",
    "    return tokens"
   ]
  },
  {
   "cell_type": "code",
   "execution_count": 7,
   "metadata": {},
   "outputs": [],
   "source": [
    "yelp['tokens'] = yelp['text'].apply(tokenize)"
   ]
  },
  {
   "cell_type": "code",
   "execution_count": 9,
   "metadata": {},
   "outputs": [
    {
     "data": {
      "text/plain": [
       "0    [beware, fake, fake, fake, small, business, al...\n",
       "1    [came, lunch, togo, service, quick, staff, fri...\n",
       "2    [vegas, dozens, times, stepped, foot, circus, ...\n",
       "3    [went, night, closed, street, party, best, act...\n",
       "4    [stars, price, lunch, seniors, eating, food, s...\n",
       "Name: tokens, dtype: object"
      ]
     },
     "execution_count": 9,
     "metadata": {},
     "output_type": "execute_result"
    }
   ],
   "source": [
    "yelp['tokens'].head()"
   ]
  },
  {
   "cell_type": "markdown",
   "metadata": {},
   "source": [
    "## Part 2: Vector Representation\n",
    "<a id=\"#p2\"></a>\n",
    "1. Create a vector representation of the reviews\n",
    "2. Write a fake review and query for the 10 most similiar reviews, print the text of the reviews. Do you notice any patterns?\n",
    "    - Given the size of the dataset, it will probably be best to use a `NearestNeighbors` model for this. "
   ]
  },
  {
   "cell_type": "code",
   "execution_count": 10,
   "metadata": {},
   "outputs": [
    {
     "data": {
      "text/html": [
       "<div>\n",
       "<style scoped>\n",
       "    .dataframe tbody tr th:only-of-type {\n",
       "        vertical-align: middle;\n",
       "    }\n",
       "\n",
       "    .dataframe tbody tr th {\n",
       "        vertical-align: top;\n",
       "    }\n",
       "\n",
       "    .dataframe thead th {\n",
       "        text-align: right;\n",
       "    }\n",
       "</style>\n",
       "<table border=\"1\" class=\"dataframe\">\n",
       "  <thead>\n",
       "    <tr style=\"text-align: right;\">\n",
       "      <th></th>\n",
       "      <th>able</th>\n",
       "      <th>absolutely</th>\n",
       "      <th>actually</th>\n",
       "      <th>amazing</th>\n",
       "      <th>area</th>\n",
       "      <th>arrived</th>\n",
       "      <th>asked</th>\n",
       "      <th>atmosphere</th>\n",
       "      <th>attentive</th>\n",
       "      <th>away</th>\n",
       "      <th>...</th>\n",
       "      <th>wonderful</th>\n",
       "      <th>work</th>\n",
       "      <th>working</th>\n",
       "      <th>worst</th>\n",
       "      <th>worth</th>\n",
       "      <th>wouldn</th>\n",
       "      <th>wrong</th>\n",
       "      <th>year</th>\n",
       "      <th>years</th>\n",
       "      <th>yelp</th>\n",
       "    </tr>\n",
       "  </thead>\n",
       "  <tbody>\n",
       "    <tr>\n",
       "      <th>0</th>\n",
       "      <td>0.0</td>\n",
       "      <td>0.0</td>\n",
       "      <td>0.000000</td>\n",
       "      <td>0.0</td>\n",
       "      <td>0.000000</td>\n",
       "      <td>0.0</td>\n",
       "      <td>0.0</td>\n",
       "      <td>0.0</td>\n",
       "      <td>0.0</td>\n",
       "      <td>0.0</td>\n",
       "      <td>...</td>\n",
       "      <td>0.0</td>\n",
       "      <td>0.0</td>\n",
       "      <td>0.0</td>\n",
       "      <td>0.0</td>\n",
       "      <td>0.0</td>\n",
       "      <td>0.0</td>\n",
       "      <td>0.0</td>\n",
       "      <td>0.000000</td>\n",
       "      <td>0.0</td>\n",
       "      <td>0.0</td>\n",
       "    </tr>\n",
       "    <tr>\n",
       "      <th>1</th>\n",
       "      <td>0.0</td>\n",
       "      <td>0.0</td>\n",
       "      <td>0.000000</td>\n",
       "      <td>0.0</td>\n",
       "      <td>0.000000</td>\n",
       "      <td>0.0</td>\n",
       "      <td>0.0</td>\n",
       "      <td>0.0</td>\n",
       "      <td>0.0</td>\n",
       "      <td>0.0</td>\n",
       "      <td>...</td>\n",
       "      <td>0.0</td>\n",
       "      <td>0.0</td>\n",
       "      <td>0.0</td>\n",
       "      <td>0.0</td>\n",
       "      <td>0.0</td>\n",
       "      <td>0.0</td>\n",
       "      <td>0.0</td>\n",
       "      <td>0.000000</td>\n",
       "      <td>0.0</td>\n",
       "      <td>0.0</td>\n",
       "    </tr>\n",
       "    <tr>\n",
       "      <th>2</th>\n",
       "      <td>0.0</td>\n",
       "      <td>0.0</td>\n",
       "      <td>0.000000</td>\n",
       "      <td>0.0</td>\n",
       "      <td>0.130355</td>\n",
       "      <td>0.0</td>\n",
       "      <td>0.0</td>\n",
       "      <td>0.0</td>\n",
       "      <td>0.0</td>\n",
       "      <td>0.0</td>\n",
       "      <td>...</td>\n",
       "      <td>0.0</td>\n",
       "      <td>0.0</td>\n",
       "      <td>0.0</td>\n",
       "      <td>0.0</td>\n",
       "      <td>0.0</td>\n",
       "      <td>0.0</td>\n",
       "      <td>0.0</td>\n",
       "      <td>0.154235</td>\n",
       "      <td>0.0</td>\n",
       "      <td>0.0</td>\n",
       "    </tr>\n",
       "    <tr>\n",
       "      <th>3</th>\n",
       "      <td>0.0</td>\n",
       "      <td>0.0</td>\n",
       "      <td>0.302932</td>\n",
       "      <td>0.0</td>\n",
       "      <td>0.000000</td>\n",
       "      <td>0.0</td>\n",
       "      <td>0.0</td>\n",
       "      <td>0.0</td>\n",
       "      <td>0.0</td>\n",
       "      <td>0.0</td>\n",
       "      <td>...</td>\n",
       "      <td>0.0</td>\n",
       "      <td>0.0</td>\n",
       "      <td>0.0</td>\n",
       "      <td>0.0</td>\n",
       "      <td>0.0</td>\n",
       "      <td>0.0</td>\n",
       "      <td>0.0</td>\n",
       "      <td>0.000000</td>\n",
       "      <td>0.0</td>\n",
       "      <td>0.0</td>\n",
       "    </tr>\n",
       "    <tr>\n",
       "      <th>4</th>\n",
       "      <td>0.0</td>\n",
       "      <td>0.0</td>\n",
       "      <td>0.000000</td>\n",
       "      <td>0.0</td>\n",
       "      <td>0.000000</td>\n",
       "      <td>0.0</td>\n",
       "      <td>0.0</td>\n",
       "      <td>0.0</td>\n",
       "      <td>0.0</td>\n",
       "      <td>0.0</td>\n",
       "      <td>...</td>\n",
       "      <td>0.0</td>\n",
       "      <td>0.0</td>\n",
       "      <td>0.0</td>\n",
       "      <td>0.0</td>\n",
       "      <td>0.0</td>\n",
       "      <td>0.0</td>\n",
       "      <td>0.0</td>\n",
       "      <td>0.000000</td>\n",
       "      <td>0.0</td>\n",
       "      <td>0.0</td>\n",
       "    </tr>\n",
       "  </tbody>\n",
       "</table>\n",
       "<p>5 rows × 275 columns</p>\n",
       "</div>"
      ],
      "text/plain": [
       "   able  absolutely  actually  amazing      area  arrived  asked  atmosphere  \\\n",
       "0   0.0         0.0  0.000000      0.0  0.000000      0.0    0.0         0.0   \n",
       "1   0.0         0.0  0.000000      0.0  0.000000      0.0    0.0         0.0   \n",
       "2   0.0         0.0  0.000000      0.0  0.130355      0.0    0.0         0.0   \n",
       "3   0.0         0.0  0.302932      0.0  0.000000      0.0    0.0         0.0   \n",
       "4   0.0         0.0  0.000000      0.0  0.000000      0.0    0.0         0.0   \n",
       "\n",
       "   attentive  away  ...  wonderful  work  working  worst  worth  wouldn  \\\n",
       "0        0.0   0.0  ...        0.0   0.0      0.0    0.0    0.0     0.0   \n",
       "1        0.0   0.0  ...        0.0   0.0      0.0    0.0    0.0     0.0   \n",
       "2        0.0   0.0  ...        0.0   0.0      0.0    0.0    0.0     0.0   \n",
       "3        0.0   0.0  ...        0.0   0.0      0.0    0.0    0.0     0.0   \n",
       "4        0.0   0.0  ...        0.0   0.0      0.0    0.0    0.0     0.0   \n",
       "\n",
       "   wrong      year  years  yelp  \n",
       "0    0.0  0.000000    0.0   0.0  \n",
       "1    0.0  0.000000    0.0   0.0  \n",
       "2    0.0  0.154235    0.0   0.0  \n",
       "3    0.0  0.000000    0.0   0.0  \n",
       "4    0.0  0.000000    0.0   0.0  \n",
       "\n",
       "[5 rows x 275 columns]"
      ]
     },
     "execution_count": 10,
     "metadata": {},
     "output_type": "execute_result"
    }
   ],
   "source": [
    "from sklearn.feature_extraction.text import TfidfVectorizer\n",
    "\n",
    "# Instantiate vectorizer object -- also setting max and min on df etc...\n",
    "tfidf = TfidfVectorizer(tokenizer=tokenize, min_df=0.025, max_df=.95, ngram_range=(1,2))\n",
    "\n",
    "# Learn vocab and transform data into form we want\n",
    "sparse = tfidf.fit_transform(yelp['text'])\n",
    "\n",
    "# Get feature names to use as dataframe column headers\n",
    "dtm = pd.DataFrame(sparse.todense(), columns=tfidf.get_feature_names())\n",
    "\n",
    "# View Feature Matrix as DataFrame\n",
    "dtm.head()"
   ]
  },
  {
   "cell_type": "code",
   "execution_count": 11,
   "metadata": {},
   "outputs": [
    {
     "data": {
      "text/plain": [
       "(10000, 275)"
      ]
     },
     "execution_count": 11,
     "metadata": {},
     "output_type": "execute_result"
    }
   ],
   "source": [
    "dtm.shape"
   ]
  },
  {
   "cell_type": "code",
   "execution_count": 12,
   "metadata": {},
   "outputs": [
    {
     "data": {
      "text/plain": [
       "NearestNeighbors(algorithm='ball_tree', leaf_size=30, metric='minkowski',\n",
       "         metric_params=None, n_jobs=None, n_neighbors=5, p=2, radius=1.0)"
      ]
     },
     "execution_count": 12,
     "metadata": {},
     "output_type": "execute_result"
    }
   ],
   "source": [
    "# import / Instantiate / fit NN\n",
    "from sklearn.neighbors import NearestNeighbors\n",
    "\n",
    "# Fit on TF-IDF Vectors\n",
    "nn  = NearestNeighbors(n_neighbors=5, algorithm='ball_tree')\n",
    "nn.fit(dtm)"
   ]
  },
  {
   "cell_type": "code",
   "execution_count": 14,
   "metadata": {},
   "outputs": [],
   "source": [
    "bad_review = [\"\"\"\n",
    "Service was just terrible. Horrible! I couldn't eat the food. \n",
    "The slimy young hoodlum that took my order told me I had something between my teeth. \n",
    "She had tattoos on her arms and she was chewing gum. I got diarrhea the next day. \n",
    "I’ll never leave my house again.\n",
    "\"\"\"]"
   ]
  },
  {
   "cell_type": "code",
   "execution_count": 15,
   "metadata": {},
   "outputs": [
    {
     "data": {
      "text/plain": [
       "(array([[1., 1., 1., 1., 1.]]),\n",
       " array([[ 897, 6311,  469, 3543, 4839]], dtype=int64))"
      ]
     },
     "execution_count": 15,
     "metadata": {},
     "output_type": "execute_result"
    }
   ],
   "source": [
    "# Query for simular reveiews\n",
    "new = tfidf.transform(bad_review)\n",
    "\n",
    "nn.kneighbors(new.todense())"
   ]
  },
  {
   "cell_type": "code",
   "execution_count": 16,
   "metadata": {},
   "outputs": [
    {
     "data": {
      "text/plain": [
       "'The guy asks teenage girls to take scandalous pictures for his Snapchat. Always an uncomfortable environment.'"
      ]
     },
     "execution_count": 16,
     "metadata": {},
     "output_type": "execute_result"
    }
   ],
   "source": [
    "yelp['text'][897]"
   ]
  },
  {
   "cell_type": "code",
   "execution_count": 17,
   "metadata": {},
   "outputs": [
    {
     "data": {
      "text/plain": [
       "'天氣很熱吃不下東西，今天我點了一個韓國冷面湯、餐後點了甜點，冰沙系列不會太甜膩，覺得店家很用心製作，包含擺盤精緻、佐料衛生，夏日想開胃，這是一個不錯的選擇，服務人員也很敬業，以後會常常來'"
      ]
     },
     "execution_count": 17,
     "metadata": {},
     "output_type": "execute_result"
    }
   ],
   "source": [
    "yelp['text'][6311]\n",
    "\n",
    "# translation:\n",
    "\"\"\"\n",
    "\n",
    "The weather is very hot and I can't eat anything. Today I ordered a \n",
    "Korean cold noodle soup, and after the meal, I ordered the dessert. \n",
    "The smoothie series will not be too sweet. I think the store is very \n",
    "careful, including the delicate dish, the condiment hygiene, and the \n",
    "summer. Appetizing, this is a good choice, the service staff is also \n",
    "very dedicated and will come often in the future.\n",
    "\"\"\""
   ]
  },
  {
   "cell_type": "code",
   "execution_count": 18,
   "metadata": {},
   "outputs": [
    {
     "data": {
      "text/plain": [
       "'O  o  thenk 6nnn  .b  cgv  xx TV cvg  9 nvehxcfvvv3c nb b  c  y4  nb and the vghvhridd h 0d  c       v   3,  vv  4  ruddy'"
      ]
     },
     "execution_count": 18,
     "metadata": {},
     "output_type": "execute_result"
    }
   ],
   "source": [
    "yelp['text'][469]"
   ]
  },
  {
   "cell_type": "code",
   "execution_count": 19,
   "metadata": {},
   "outputs": [
    {
     "data": {
      "text/plain": [
       "'$25 for 2 weeks'"
      ]
     },
     "execution_count": 19,
     "metadata": {},
     "output_type": "execute_result"
    }
   ],
   "source": [
    "yelp['text'][3543]"
   ]
  },
  {
   "cell_type": "code",
   "execution_count": 20,
   "metadata": {},
   "outputs": [
    {
     "data": {
      "text/plain": [
       "\"Une superbe sélection de bières de microbrasserie québécoise avec sélection de fromages et charcuteries. Le personnel est très sympathique. La sélection de bières evolue constamment. Bravo à l'équipe.\""
      ]
     },
     "execution_count": 20,
     "metadata": {},
     "output_type": "execute_result"
    }
   ],
   "source": [
    "yelp['text'][4839]\n",
    "\n",
    "# translation: \n",
    "\"\"\"\n",
    "A superb selection of Québec microbrewery beers with a selection of \n",
    "cheeses and charcuteries. The staff is very friendly. The beer \n",
    "selection is constantly evolving. Congratulations to the team.\n",
    "\"\"\""
   ]
  },
  {
   "cell_type": "markdown",
   "metadata": {},
   "source": [
    "## Part 3: Classification\n",
    "<a id=\"#p3\"></a>\n",
    "Your goal in this section will be to predict `stars` from the review dataset. \n",
    "\n",
    "1. Create a piepline object with a sklearn `CountVectorizer` or `TfidfVector` and any sklearn classifier. Use that pipeline to estimate a model to predict `stars`. Use the Pipeline to predict a star rating for your fake review from Part 2. \n",
    "2. Tune the entire pipeline with a GridSearch"
   ]
  },
  {
   "cell_type": "code",
   "execution_count": 23,
   "metadata": {},
   "outputs": [],
   "source": [
    "# Import Statements\n",
    "from sklearn.pipeline import Pipeline\n",
    "# from sklearn.ensemble import RandomForestClassifier\n",
    "# from sklearn.model_selection import GridSearchCV\n",
    "from sklearn.feature_extraction.text import TfidfVectorizer\n",
    "from sklearn.model_selection import RandomizedSearchCV\n",
    "from sklearn.linear_model import SGDClassifier\n",
    "from sklearn.decomposition import TruncatedSVD"
   ]
  },
  {
   "cell_type": "code",
   "execution_count": 25,
   "metadata": {},
   "outputs": [
    {
     "data": {
      "text/plain": [
       "dtype('int64')"
      ]
     },
     "execution_count": 25,
     "metadata": {},
     "output_type": "execute_result"
    }
   ],
   "source": [
    "# checking...\n",
    "yelp['stars'].dtypes"
   ]
  },
  {
   "cell_type": "code",
   "execution_count": null,
   "metadata": {},
   "outputs": [],
   "source": []
  },
  {
   "cell_type": "code",
   "execution_count": null,
   "metadata": {},
   "outputs": [],
   "source": []
  },
  {
   "cell_type": "code",
   "execution_count": 26,
   "metadata": {},
   "outputs": [],
   "source": [
    "# all at once: vectorizer, classifier, pipeline\n",
    "\n",
    "vect = TfidfVectorizer()\n",
    "#                        stop_words='english', max_features=1000, ngram_range=(1,2), \n",
    "#                        min_df=0.02, max_df=.70)\n",
    "# rfc = RandomForestClassifier()\n",
    "svd = TruncatedSVD(random_state=5)\n",
    "sgd = SGDClassifier()\n",
    "\n",
    "pipe = Pipeline([('vect', vect), ('svd', svd), ('sgd', sgd)])"
   ]
  },
  {
   "cell_type": "code",
   "execution_count": 27,
   "metadata": {},
   "outputs": [
    {
     "name": "stderr",
     "output_type": "stream",
     "text": [
      "C:\\Users\\Michael\\Anaconda3\\envs\\U4-S1-NLP\\lib\\site-packages\\sklearn\\model_selection\\_split.py:2053: FutureWarning: You should specify a value for 'cv' instead of relying on the default value. The default value will change from 3 to 5 in version 0.22.\n",
      "  warnings.warn(CV_WARNING, FutureWarning)\n",
      "[Parallel(n_jobs=4)]: Using backend LokyBackend with 4 concurrent workers.\n"
     ]
    },
    {
     "name": "stdout",
     "output_type": "stream",
     "text": [
      "Fitting 3 folds for each of 10 candidates, totalling 30 fits\n"
     ]
    },
    {
     "name": "stderr",
     "output_type": "stream",
     "text": [
      "[Parallel(n_jobs=4)]: Done  30 out of  30 | elapsed:   39.2s finished\n",
      "C:\\Users\\Michael\\Anaconda3\\envs\\U4-S1-NLP\\lib\\site-packages\\sklearn\\linear_model\\stochastic_gradient.py:183: FutureWarning: max_iter and tol parameters have been added in SGDClassifier in 0.19. If max_iter is set but tol is left unset, the default value for tol in 0.19 and 0.20 will be None (which is equivalent to -infinity, so it has no effect) but will change in 0.21 to 1e-3. Specify tol to silence this warning.\n",
      "  FutureWarning)\n"
     ]
    },
    {
     "data": {
      "text/plain": [
       "RandomizedSearchCV(cv='warn', error_score='raise-deprecating',\n",
       "          estimator=Pipeline(memory=None,\n",
       "     steps=[('vect', TfidfVectorizer(analyzer='word', binary=False, decode_error='strict',\n",
       "        dtype=<class 'numpy.float64'>, encoding='utf-8', input='content',\n",
       "        lowercase=True, max_df=1.0, max_features=None, min_df=1,\n",
       "        ngram_range=(1, 1), norm='l2', preprocessor=None, smooth_idf=True,\n",
       "...m_state=None, shuffle=True, tol=None,\n",
       "       validation_fraction=0.1, verbose=0, warm_start=False))]),\n",
       "          fit_params=None, iid='warn', n_iter=10, n_jobs=4,\n",
       "          param_distributions={'vect__max_df': (0.4, 0.5, 0.7), 'vect__min_df': (0.01, 0.02, 0.03), 'vect__max_features': (600, 800, 1000), 'sgd__max_iter': (10, 20, 50), 'svd__n_components': (50, 100, 200), 'svd__n_iter': (2, 5, 10, 20)},\n",
       "          pre_dispatch='2*n_jobs', random_state=None, refit=True,\n",
       "          return_train_score='warn', scoring=None, verbose=1)"
      ]
     },
     "execution_count": 27,
     "metadata": {},
     "output_type": "execute_result"
    }
   ],
   "source": [
    "# tune SGDClassifier ... hopefully not too much at once... XD\n",
    "\n",
    "parameters = {\n",
    "     'vect__max_df': (.4, 0.5, 0.7),\n",
    "     'vect__min_df': (.01, .02, .03),\n",
    "     'vect__max_features': (600, 800, 1000),\n",
    "#     'clf__n_estimators':(100, 200, 300),\n",
    "#     'clf__max_depth':(80, 100)\n",
    "      'sgd__max_iter': (10, 20, 50),\n",
    "      'svd__n_components' : (50, 100, 200),\n",
    "      'svd__n_iter' : (2, 5, 10, 20)\n",
    "}\n",
    "\n",
    "sgd_search = RandomizedSearchCV(pipe, parameters, n_jobs=4, verbose=1)\n",
    "# grid_search.fit(data.data, data.target)\n",
    "sgd_search.fit(yelp['text'], yelp['stars'])"
   ]
  },
  {
   "cell_type": "code",
   "execution_count": 28,
   "metadata": {},
   "outputs": [
    {
     "data": {
      "text/plain": [
       "0.6112"
      ]
     },
     "execution_count": 28,
     "metadata": {},
     "output_type": "execute_result"
    }
   ],
   "source": [
    "sgd_search.best_score_\n",
    "\n",
    "# LMFAO!"
   ]
  },
  {
   "cell_type": "code",
   "execution_count": 29,
   "metadata": {},
   "outputs": [
    {
     "data": {
      "text/plain": [
       "{'vect__min_df': 0.01,\n",
       " 'vect__max_features': 1000,\n",
       " 'vect__max_df': 0.7,\n",
       " 'svd__n_iter': 5,\n",
       " 'svd__n_components': 200,\n",
       " 'sgd__max_iter': 20}"
      ]
     },
     "execution_count": 29,
     "metadata": {},
     "output_type": "execute_result"
    }
   ],
   "source": [
    "sgd_search.best_params_\n",
    "\n",
    "#  .okay.  .sure."
   ]
  },
  {
   "cell_type": "code",
   "execution_count": 30,
   "metadata": {},
   "outputs": [],
   "source": [
    "pred = sgd_search.predict(bad_review)"
   ]
  },
  {
   "cell_type": "code",
   "execution_count": 31,
   "metadata": {},
   "outputs": [
    {
     "name": "stdout",
     "output_type": "stream",
     "text": [
      "[1]\n"
     ]
    }
   ],
   "source": [
    "print(pred)\n",
    "\n",
    "# Yes!!!"
   ]
  },
  {
   "cell_type": "markdown",
   "metadata": {},
   "source": [
    "## Part 4: Topic Modeling\n",
    "\n",
    "Let's find out what those yelp reviews are saying! :D\n",
    "\n",
    "1. Estimate a LDA topic model of the review text\n",
    "    - Keep the `iterations` parameter at or below 5 to reduce run time\n",
    "    - The `workers` parameter should match the number of physical cores on your machine.\n",
    "2. Create 1-2 visualizations of the results\n",
    "    - You can use the most important 3 words of a topic in relevant visualizations. Refer to yesterday's notebook to extract. \n",
    "3. In markdown, write 1-2 paragraphs of analysis on the results of your topic model\n",
    "\n",
    "__*Note*__: You can pass the DataFrame column of text reviews to gensim. You do not have to use a generator."
   ]
  },
  {
   "cell_type": "code",
   "execution_count": 32,
   "metadata": {
    "collapsed": false,
    "inputHidden": false,
    "jupyter": {
     "outputs_hidden": false
    },
    "outputHidden": false
   },
   "outputs": [],
   "source": [
    "from gensim.models import LdaMulticore\n",
    "from gensim.corpora import Dictionary"
   ]
  },
  {
   "cell_type": "markdown",
   "metadata": {},
   "source": [
    "Learn the vocubalary of the yelp data:"
   ]
  },
  {
   "cell_type": "code",
   "execution_count": 35,
   "metadata": {},
   "outputs": [],
   "source": [
    "# just calling the tokens column instead of that stream from the engine etc...\n",
    "\n",
    "id2word = corpora.Dictionary(yelp['tokens'])"
   ]
  },
  {
   "cell_type": "code",
   "execution_count": 36,
   "metadata": {},
   "outputs": [
    {
     "data": {
      "text/plain": [
       "4271"
      ]
     },
     "execution_count": 36,
     "metadata": {},
     "output_type": "execute_result"
    }
   ],
   "source": [
    "# CHecking to see if it worked...\n",
    "id2word.token2id['shoe']"
   ]
  },
  {
   "cell_type": "code",
   "execution_count": null,
   "metadata": {},
   "outputs": [],
   "source": [
    "# cool"
   ]
  },
  {
   "cell_type": "markdown",
   "metadata": {},
   "source": [
    "Create a bag of words representation of the entire corpus"
   ]
  },
  {
   "cell_type": "code",
   "execution_count": 37,
   "metadata": {
    "collapsed": false,
    "inputHidden": false,
    "jupyter": {
     "outputs_hidden": false
    },
    "outputHidden": false
   },
   "outputs": [],
   "source": [
    "# Need a \"Bag of Words\"\n",
    "\n",
    "corpus = [id2word.doc2bow(text) for text in yelp['tokens']]"
   ]
  },
  {
   "cell_type": "markdown",
   "metadata": {},
   "source": [
    "Your LDA model should be ready for estimation: "
   ]
  },
  {
   "cell_type": "code",
   "execution_count": 38,
   "metadata": {
    "collapsed": false,
    "inputHidden": false,
    "jupyter": {
     "outputs_hidden": false
    },
    "outputHidden": false
   },
   "outputs": [],
   "source": [
    "lda = LdaMulticore(corpus=corpus,\n",
    "                   id2word=id2word,\n",
    "                   iterations=5,\n",
    "                   workers=4,\n",
    "                   num_topics = 10 # You can change this parameter\n",
    "                  )"
   ]
  },
  {
   "cell_type": "code",
   "execution_count": 39,
   "metadata": {},
   "outputs": [
    {
     "data": {
      "text/plain": [
       "[(0,\n",
       "  '0.013*\"food\" + 0.012*\"great\" + 0.011*\"good\" + 0.011*\"place\" + 0.008*\"service\" + 0.007*\"like\" + 0.007*\"time\" + 0.004*\"chicken\" + 0.004*\"nice\" + 0.004*\"amazing\"'),\n",
       " (1,\n",
       "  '0.010*\"food\" + 0.009*\"place\" + 0.008*\"time\" + 0.008*\"great\" + 0.007*\"service\" + 0.007*\"good\" + 0.006*\"like\" + 0.005*\"staff\" + 0.004*\"chicken\" + 0.004*\"friendly\"'),\n",
       " (2,\n",
       "  '0.014*\"food\" + 0.013*\"great\" + 0.012*\"good\" + 0.011*\"place\" + 0.009*\"time\" + 0.008*\"like\" + 0.008*\"service\" + 0.005*\"nice\" + 0.004*\"order\" + 0.004*\"chicken\"'),\n",
       " (3,\n",
       "  '0.013*\"good\" + 0.011*\"food\" + 0.011*\"great\" + 0.011*\"place\" + 0.010*\"like\" + 0.009*\"service\" + 0.009*\"time\" + 0.004*\"nice\" + 0.004*\"best\" + 0.004*\"experience\"'),\n",
       " (4,\n",
       "  '0.012*\"food\" + 0.011*\"great\" + 0.011*\"place\" + 0.010*\"service\" + 0.009*\"good\" + 0.007*\"like\" + 0.006*\"time\" + 0.005*\"nice\" + 0.005*\"best\" + 0.004*\"come\"'),\n",
       " (5,\n",
       "  '0.013*\"food\" + 0.010*\"like\" + 0.008*\"service\" + 0.008*\"place\" + 0.008*\"great\" + 0.007*\"good\" + 0.006*\"time\" + 0.005*\"came\" + 0.004*\"best\" + 0.004*\"went\"'),\n",
       " (6,\n",
       "  '0.014*\"place\" + 0.012*\"good\" + 0.008*\"time\" + 0.008*\"service\" + 0.008*\"great\" + 0.007*\"food\" + 0.007*\"like\" + 0.005*\"love\" + 0.005*\"best\" + 0.004*\"experience\"'),\n",
       " (7,\n",
       "  '0.011*\"place\" + 0.010*\"food\" + 0.009*\"good\" + 0.009*\"great\" + 0.009*\"like\" + 0.007*\"service\" + 0.006*\"time\" + 0.004*\"ordered\" + 0.004*\"went\" + 0.004*\"best\"'),\n",
       " (8,\n",
       "  '0.011*\"good\" + 0.011*\"time\" + 0.010*\"place\" + 0.010*\"food\" + 0.009*\"service\" + 0.009*\"great\" + 0.006*\"like\" + 0.005*\"love\" + 0.004*\"nice\" + 0.004*\"order\"'),\n",
       " (9,\n",
       "  '0.010*\"good\" + 0.009*\"food\" + 0.009*\"place\" + 0.007*\"service\" + 0.007*\"great\" + 0.006*\"like\" + 0.006*\"time\" + 0.005*\"best\" + 0.004*\"friendly\" + 0.004*\"amazing\"')]"
      ]
     },
     "execution_count": 39,
     "metadata": {},
     "output_type": "execute_result"
    }
   ],
   "source": [
    "# Oooooo \"topics\"\n",
    "lda.print_topics()"
   ]
  },
  {
   "cell_type": "code",
   "execution_count": 40,
   "metadata": {},
   "outputs": [
    {
     "name": "stdout",
     "output_type": "stream",
     "text": [
      "------ Topic 0 ------\n",
      "food great good place service\n",
      "\n",
      "------ Topic 1 ------\n",
      "food place time great service\n",
      "\n",
      "------ Topic 2 ------\n",
      "food great good place time\n",
      "\n",
      "------ Topic 3 ------\n",
      "good food great place like\n",
      "\n",
      "------ Topic 4 ------\n",
      "food great place service good\n",
      "\n",
      "------ Topic 5 ------\n",
      "food like service place great\n",
      "\n",
      "------ Topic 6 ------\n",
      "place good time service great\n",
      "\n",
      "------ Topic 7 ------\n",
      "place food good great like\n",
      "\n",
      "------ Topic 8 ------\n",
      "good time place food service\n",
      "\n",
      "------ Topic 9 ------\n",
      "good food place service great\n",
      "\n"
     ]
    }
   ],
   "source": [
    "# RegEx away all the extra silliness from the above output\n",
    "\n",
    "words = [re.findall(r'\"([^\"]*)\"',t[1]) for t in lda.print_topics()]\n",
    "\n",
    "topics = [' '.join(t[0:5]) for t in words]\n",
    "\n",
    "\n",
    "# Pretty print-job of topics without all the silly extra stuff\n",
    "for id, t in enumerate(topics): \n",
    "    print(f\"------ Topic {id} ------\")\n",
    "    print(t, end=\"\\n\\n\")"
   ]
  },
  {
   "cell_type": "code",
   "execution_count": null,
   "metadata": {},
   "outputs": [],
   "source": [
    "# hmmm.... looks like there is probably a lot of overlap..."
   ]
  },
  {
   "cell_type": "code",
   "execution_count": null,
   "metadata": {},
   "outputs": [],
   "source": []
  },
  {
   "cell_type": "markdown",
   "metadata": {},
   "source": [
    "Create 1-2 visualizations of the results"
   ]
  },
  {
   "cell_type": "code",
   "execution_count": 41,
   "metadata": {
    "collapsed": false,
    "inputHidden": false,
    "jupyter": {
     "outputs_hidden": false
    },
    "outputHidden": false
   },
   "outputs": [
    {
     "name": "stderr",
     "output_type": "stream",
     "text": [
      "C:\\Users\\Michael\\Anaconda3\\envs\\U4-S1-NLP\\lib\\site-packages\\past\\types\\oldstr.py:5: DeprecationWarning: Using or importing the ABCs from 'collections' instead of from 'collections.abc' is deprecated, and in 3.8 it will stop working\n",
      "  from collections import Iterable\n"
     ]
    }
   ],
   "source": [
    "import pyLDAvis.gensim\n",
    "\n",
    "pyLDAvis.enable_notebook()"
   ]
  },
  {
   "cell_type": "code",
   "execution_count": 42,
   "metadata": {},
   "outputs": [
    {
     "name": "stderr",
     "output_type": "stream",
     "text": [
      "C:\\Users\\Michael\\Anaconda3\\envs\\U4-S1-NLP\\lib\\site-packages\\pyLDAvis\\_prepare.py:257: FutureWarning: Sorting because non-concatenation axis is not aligned. A future version\n",
      "of pandas will change to not sort by default.\n",
      "\n",
      "To accept the future behavior, pass 'sort=False'.\n",
      "\n",
      "To retain the current behavior and silence the warning, pass 'sort=True'.\n",
      "\n",
      "  return pd.concat([default_term_info] + list(topic_dfs))\n"
     ]
    },
    {
     "data": {
      "text/html": [
       "\n",
       "<link rel=\"stylesheet\" type=\"text/css\" href=\"https://cdn.rawgit.com/bmabey/pyLDAvis/files/ldavis.v1.0.0.css\">\n",
       "\n",
       "\n",
       "<div id=\"ldavis_el1484419397146043922631500627\"></div>\n",
       "<script type=\"text/javascript\">\n",
       "\n",
       "var ldavis_el1484419397146043922631500627_data = {\"mdsDat\": {\"x\": [-0.0033195148619778554, -0.004125572486687285, 0.002117340082284158, -0.002804869311862335, 0.0010306764995057119, -0.001431084690669326, 0.00043095260148703554, -0.0001643559350822184, 0.004840653141972571, 0.00342577496102952], \"y\": [0.000913519629839431, -0.001051256231208665, 0.006475275561894286, 0.0006385792489322228, 0.0017104204374276306, -3.5744032016788304e-05, -0.0023769450421598625, -0.0023142468031160904, -0.0005860330379815891, -0.003373569731610564], \"topics\": [1, 2, 3, 4, 5, 6, 7, 8, 9, 10], \"cluster\": [1, 1, 1, 1, 1, 1, 1, 1, 1, 1], \"Freq\": [11.130379676818848, 10.813838005065918, 10.44558048248291, 10.347219467163086, 10.041167259216309, 9.92485237121582, 9.519441604614258, 9.393468856811523, 9.361945152282715, 9.022102355957031]}, \"tinfo\": {\"Category\": [\"Default\", \"Default\", \"Default\", \"Default\", \"Default\", \"Default\", \"Default\", \"Default\", \"Default\", \"Default\", \"Default\", \"Default\", \"Default\", \"Default\", \"Default\", \"Default\", \"Default\", \"Default\", \"Default\", \"Default\", \"Default\", \"Default\", \"Default\", \"Default\", \"Default\", \"Default\", \"Default\", \"Default\", \"Default\", \"Default\", \"Topic1\", \"Topic1\", \"Topic1\", \"Topic1\", \"Topic1\", \"Topic1\", \"Topic1\", \"Topic1\", \"Topic1\", \"Topic1\", \"Topic1\", \"Topic1\", \"Topic1\", \"Topic1\", \"Topic1\", \"Topic1\", \"Topic1\", \"Topic1\", \"Topic1\", \"Topic1\", \"Topic1\", \"Topic1\", \"Topic1\", \"Topic1\", \"Topic1\", \"Topic1\", \"Topic1\", \"Topic1\", \"Topic1\", \"Topic1\", \"Topic1\", \"Topic1\", \"Topic1\", \"Topic1\", \"Topic1\", \"Topic1\", \"Topic1\", \"Topic1\", \"Topic1\", \"Topic1\", \"Topic1\", \"Topic1\", \"Topic1\", \"Topic1\", \"Topic1\", \"Topic1\", \"Topic1\", \"Topic1\", \"Topic1\", \"Topic1\", \"Topic1\", \"Topic1\", \"Topic1\", \"Topic1\", \"Topic1\", \"Topic1\", \"Topic1\", \"Topic1\", \"Topic1\", \"Topic1\", \"Topic1\", \"Topic1\", \"Topic1\", \"Topic1\", \"Topic1\", \"Topic1\", \"Topic1\", \"Topic1\", \"Topic1\", \"Topic1\", \"Topic1\", \"Topic1\", \"Topic1\", \"Topic1\", \"Topic1\", \"Topic1\", \"Topic1\", \"Topic2\", \"Topic2\", \"Topic2\", \"Topic2\", \"Topic2\", \"Topic2\", \"Topic2\", \"Topic2\", \"Topic2\", \"Topic2\", \"Topic2\", \"Topic2\", \"Topic2\", \"Topic2\", \"Topic2\", \"Topic2\", \"Topic2\", \"Topic2\", \"Topic2\", \"Topic2\", \"Topic2\", \"Topic2\", \"Topic2\", \"Topic2\", \"Topic2\", \"Topic2\", \"Topic2\", \"Topic2\", \"Topic2\", \"Topic2\", \"Topic2\", \"Topic2\", \"Topic2\", \"Topic2\", \"Topic2\", \"Topic2\", \"Topic2\", \"Topic2\", \"Topic2\", \"Topic2\", \"Topic2\", \"Topic2\", \"Topic2\", \"Topic2\", \"Topic2\", \"Topic2\", \"Topic2\", \"Topic2\", \"Topic2\", \"Topic2\", \"Topic2\", \"Topic2\", \"Topic2\", \"Topic2\", \"Topic2\", \"Topic2\", \"Topic2\", \"Topic2\", \"Topic2\", \"Topic2\", \"Topic2\", \"Topic2\", \"Topic2\", \"Topic2\", \"Topic2\", \"Topic2\", \"Topic2\", \"Topic2\", \"Topic2\", \"Topic2\", \"Topic2\", \"Topic2\", \"Topic2\", \"Topic2\", \"Topic2\", \"Topic2\", \"Topic2\", \"Topic2\", \"Topic3\", \"Topic3\", \"Topic3\", \"Topic3\", \"Topic3\", \"Topic3\", \"Topic3\", \"Topic3\", \"Topic3\", \"Topic3\", \"Topic3\", \"Topic3\", \"Topic3\", \"Topic3\", \"Topic3\", \"Topic3\", \"Topic3\", \"Topic3\", \"Topic3\", \"Topic3\", \"Topic3\", \"Topic3\", \"Topic3\", \"Topic3\", \"Topic3\", \"Topic3\", \"Topic3\", \"Topic3\", \"Topic3\", \"Topic3\", \"Topic3\", \"Topic3\", \"Topic3\", \"Topic3\", \"Topic3\", \"Topic3\", \"Topic3\", \"Topic3\", \"Topic3\", \"Topic3\", \"Topic3\", \"Topic3\", \"Topic3\", \"Topic3\", \"Topic3\", \"Topic3\", \"Topic3\", \"Topic3\", \"Topic3\", \"Topic3\", \"Topic3\", \"Topic3\", \"Topic3\", \"Topic3\", \"Topic3\", \"Topic3\", \"Topic3\", \"Topic3\", \"Topic3\", \"Topic3\", \"Topic3\", \"Topic3\", \"Topic3\", \"Topic3\", \"Topic3\", \"Topic3\", \"Topic3\", \"Topic3\", \"Topic3\", \"Topic3\", \"Topic3\", \"Topic3\", \"Topic3\", \"Topic3\", \"Topic3\", \"Topic3\", \"Topic3\", \"Topic3\", \"Topic3\", \"Topic3\", \"Topic3\", \"Topic3\", \"Topic3\", \"Topic4\", \"Topic4\", \"Topic4\", \"Topic4\", \"Topic4\", \"Topic4\", \"Topic4\", \"Topic4\", \"Topic4\", \"Topic4\", \"Topic4\", \"Topic4\", \"Topic4\", \"Topic4\", \"Topic4\", \"Topic4\", \"Topic4\", \"Topic4\", \"Topic4\", \"Topic4\", \"Topic4\", \"Topic4\", \"Topic4\", \"Topic4\", \"Topic4\", \"Topic4\", \"Topic4\", \"Topic4\", \"Topic4\", \"Topic4\", \"Topic4\", \"Topic4\", \"Topic4\", \"Topic4\", \"Topic4\", \"Topic4\", \"Topic4\", \"Topic4\", \"Topic4\", \"Topic4\", \"Topic4\", \"Topic4\", \"Topic4\", \"Topic4\", \"Topic4\", \"Topic4\", \"Topic4\", \"Topic4\", \"Topic4\", \"Topic4\", \"Topic4\", \"Topic4\", \"Topic4\", \"Topic4\", \"Topic4\", \"Topic4\", \"Topic4\", \"Topic4\", \"Topic4\", \"Topic4\", \"Topic4\", \"Topic4\", \"Topic4\", \"Topic4\", \"Topic4\", \"Topic4\", \"Topic4\", \"Topic4\", \"Topic4\", \"Topic4\", \"Topic4\", \"Topic4\", \"Topic4\", \"Topic4\", \"Topic4\", \"Topic4\", \"Topic4\", \"Topic4\", \"Topic5\", \"Topic5\", \"Topic5\", \"Topic5\", \"Topic5\", \"Topic5\", \"Topic5\", \"Topic5\", \"Topic5\", \"Topic5\", \"Topic5\", \"Topic5\", \"Topic5\", \"Topic5\", \"Topic5\", \"Topic5\", \"Topic5\", \"Topic5\", \"Topic5\", \"Topic5\", \"Topic5\", \"Topic5\", \"Topic5\", \"Topic5\", \"Topic5\", \"Topic5\", \"Topic5\", \"Topic5\", \"Topic5\", \"Topic5\", \"Topic5\", \"Topic5\", \"Topic5\", \"Topic5\", \"Topic5\", \"Topic5\", \"Topic5\", \"Topic5\", \"Topic5\", \"Topic5\", \"Topic5\", \"Topic5\", \"Topic5\", \"Topic5\", \"Topic5\", \"Topic5\", \"Topic5\", \"Topic5\", \"Topic5\", \"Topic5\", \"Topic5\", \"Topic5\", \"Topic5\", \"Topic5\", \"Topic5\", \"Topic5\", \"Topic5\", \"Topic5\", \"Topic5\", \"Topic5\", \"Topic5\", \"Topic5\", \"Topic5\", \"Topic5\", \"Topic5\", \"Topic5\", \"Topic5\", \"Topic5\", \"Topic5\", \"Topic5\", \"Topic5\", \"Topic5\", \"Topic5\", \"Topic5\", \"Topic5\", \"Topic5\", \"Topic5\", \"Topic5\", \"Topic5\", \"Topic5\", \"Topic5\", \"Topic5\", \"Topic5\", \"Topic5\", \"Topic5\", \"Topic5\", \"Topic5\", \"Topic6\", \"Topic6\", \"Topic6\", \"Topic6\", \"Topic6\", \"Topic6\", \"Topic6\", \"Topic6\", \"Topic6\", \"Topic6\", \"Topic6\", \"Topic6\", \"Topic6\", \"Topic6\", \"Topic6\", \"Topic6\", \"Topic6\", \"Topic6\", \"Topic6\", \"Topic6\", \"Topic6\", \"Topic6\", \"Topic6\", \"Topic6\", \"Topic6\", \"Topic6\", \"Topic6\", \"Topic6\", \"Topic6\", \"Topic6\", \"Topic6\", \"Topic6\", \"Topic6\", \"Topic6\", \"Topic6\", \"Topic6\", \"Topic6\", \"Topic6\", \"Topic6\", \"Topic6\", \"Topic6\", \"Topic6\", \"Topic6\", \"Topic6\", \"Topic6\", \"Topic6\", \"Topic6\", \"Topic6\", \"Topic6\", \"Topic6\", \"Topic6\", \"Topic6\", \"Topic6\", \"Topic6\", \"Topic6\", \"Topic6\", \"Topic6\", \"Topic6\", \"Topic6\", \"Topic6\", \"Topic6\", \"Topic6\", \"Topic6\", \"Topic6\", \"Topic6\", \"Topic6\", \"Topic6\", \"Topic6\", \"Topic6\", \"Topic6\", \"Topic6\", \"Topic6\", \"Topic6\", \"Topic6\", \"Topic6\", \"Topic6\", \"Topic6\", \"Topic6\", \"Topic6\", \"Topic6\", \"Topic6\", \"Topic6\", \"Topic6\", \"Topic6\", \"Topic6\", \"Topic7\", \"Topic7\", \"Topic7\", \"Topic7\", \"Topic7\", \"Topic7\", \"Topic7\", \"Topic7\", \"Topic7\", \"Topic7\", \"Topic7\", \"Topic7\", \"Topic7\", \"Topic7\", \"Topic7\", \"Topic7\", \"Topic7\", \"Topic7\", \"Topic7\", \"Topic7\", \"Topic7\", \"Topic7\", \"Topic7\", \"Topic7\", \"Topic7\", \"Topic7\", \"Topic7\", \"Topic7\", \"Topic7\", \"Topic7\", \"Topic7\", \"Topic7\", \"Topic7\", \"Topic7\", \"Topic7\", \"Topic7\", \"Topic7\", \"Topic7\", \"Topic7\", \"Topic7\", \"Topic7\", \"Topic7\", \"Topic7\", \"Topic7\", \"Topic7\", \"Topic7\", \"Topic7\", \"Topic7\", \"Topic7\", \"Topic7\", \"Topic7\", \"Topic7\", \"Topic7\", \"Topic7\", \"Topic7\", \"Topic7\", \"Topic7\", \"Topic7\", \"Topic7\", \"Topic7\", \"Topic7\", \"Topic7\", \"Topic7\", \"Topic7\", \"Topic7\", \"Topic7\", \"Topic7\", \"Topic7\", \"Topic7\", \"Topic7\", \"Topic7\", \"Topic7\", \"Topic7\", \"Topic7\", \"Topic7\", \"Topic7\", \"Topic7\", \"Topic7\", \"Topic7\", \"Topic7\", \"Topic7\", \"Topic7\", \"Topic7\", \"Topic7\", \"Topic7\", \"Topic7\", \"Topic7\", \"Topic7\", \"Topic7\", \"Topic8\", \"Topic8\", \"Topic8\", \"Topic8\", \"Topic8\", \"Topic8\", \"Topic8\", \"Topic8\", \"Topic8\", \"Topic8\", \"Topic8\", \"Topic8\", \"Topic8\", \"Topic8\", \"Topic8\", \"Topic8\", \"Topic8\", \"Topic8\", \"Topic8\", \"Topic8\", \"Topic8\", \"Topic8\", \"Topic8\", \"Topic8\", \"Topic8\", \"Topic8\", \"Topic8\", \"Topic8\", \"Topic8\", \"Topic8\", \"Topic8\", \"Topic8\", \"Topic8\", \"Topic8\", \"Topic8\", \"Topic8\", \"Topic8\", \"Topic8\", \"Topic8\", \"Topic8\", \"Topic8\", \"Topic8\", \"Topic8\", \"Topic8\", \"Topic8\", \"Topic8\", \"Topic8\", \"Topic8\", \"Topic8\", \"Topic8\", \"Topic8\", \"Topic8\", \"Topic8\", \"Topic8\", \"Topic8\", \"Topic8\", \"Topic8\", \"Topic8\", \"Topic8\", \"Topic8\", \"Topic8\", \"Topic8\", \"Topic8\", \"Topic8\", \"Topic8\", \"Topic8\", \"Topic8\", \"Topic8\", \"Topic8\", \"Topic8\", \"Topic8\", \"Topic8\", \"Topic8\", \"Topic8\", \"Topic8\", \"Topic8\", \"Topic8\", \"Topic8\", \"Topic8\", \"Topic8\", \"Topic8\", \"Topic9\", \"Topic9\", \"Topic9\", \"Topic9\", \"Topic9\", \"Topic9\", \"Topic9\", \"Topic9\", \"Topic9\", \"Topic9\", \"Topic9\", \"Topic9\", \"Topic9\", \"Topic9\", \"Topic9\", \"Topic9\", \"Topic9\", \"Topic9\", \"Topic9\", \"Topic9\", \"Topic9\", \"Topic9\", \"Topic9\", \"Topic9\", \"Topic9\", \"Topic9\", \"Topic9\", \"Topic9\", \"Topic9\", \"Topic9\", \"Topic9\", \"Topic9\", \"Topic9\", \"Topic9\", \"Topic9\", \"Topic9\", \"Topic9\", \"Topic9\", \"Topic9\", \"Topic9\", \"Topic9\", \"Topic9\", \"Topic9\", \"Topic9\", \"Topic9\", \"Topic9\", \"Topic9\", \"Topic9\", \"Topic9\", \"Topic9\", \"Topic9\", \"Topic9\", \"Topic9\", \"Topic9\", \"Topic9\", \"Topic9\", \"Topic9\", \"Topic9\", \"Topic9\", \"Topic9\", \"Topic9\", \"Topic9\", \"Topic9\", \"Topic9\", \"Topic9\", \"Topic9\", \"Topic9\", \"Topic9\", \"Topic9\", \"Topic9\", \"Topic9\", \"Topic9\", \"Topic9\", \"Topic9\", \"Topic9\", \"Topic9\", \"Topic9\", \"Topic9\", \"Topic9\", \"Topic9\", \"Topic9\", \"Topic9\", \"Topic10\", \"Topic10\", \"Topic10\", \"Topic10\", \"Topic10\", \"Topic10\", \"Topic10\", \"Topic10\", \"Topic10\", \"Topic10\", \"Topic10\", \"Topic10\", \"Topic10\", \"Topic10\", \"Topic10\", \"Topic10\", \"Topic10\", \"Topic10\", \"Topic10\", \"Topic10\", \"Topic10\", \"Topic10\", \"Topic10\", \"Topic10\", \"Topic10\", \"Topic10\", \"Topic10\", \"Topic10\", \"Topic10\", \"Topic10\", \"Topic10\", \"Topic10\", \"Topic10\", \"Topic10\", \"Topic10\", \"Topic10\", \"Topic10\", \"Topic10\", \"Topic10\", \"Topic10\", \"Topic10\", \"Topic10\", \"Topic10\", \"Topic10\", \"Topic10\", \"Topic10\", \"Topic10\", \"Topic10\", \"Topic10\", \"Topic10\", \"Topic10\", \"Topic10\", \"Topic10\", \"Topic10\", \"Topic10\", \"Topic10\", \"Topic10\", \"Topic10\", \"Topic10\", \"Topic10\", \"Topic10\", \"Topic10\", \"Topic10\", \"Topic10\", \"Topic10\", \"Topic10\", \"Topic10\", \"Topic10\", \"Topic10\", \"Topic10\", \"Topic10\", \"Topic10\", \"Topic10\", \"Topic10\", \"Topic10\", \"Topic10\", \"Topic10\", \"Topic10\", \"Topic10\", \"Topic10\", \"Topic10\", \"Topic10\"], \"Freq\": [4745.0, 4121.0, 1502.0, 3321.0, 3298.0, 4453.0, 1436.0, 4555.0, 1193.0, 1310.0, 1248.0, 675.0, 1334.0, 842.0, 1172.0, 1341.0, 906.0, 938.0, 872.0, 877.0, 919.0, 928.0, 1685.0, 1329.0, 1587.0, 824.0, 1159.0, 610.0, 1381.0, 1399.0, 1.165245771408081, 1.1104941368103027, 1.0372042655944824, 1.2105653285980225, 0.5170506238937378, 1.8216551542282104, 1.2898067235946655, 1.037774682044983, 0.6280667781829834, 0.8469263315200806, 0.7906653881072998, 0.42234286665916443, 1.8382216691970825, 0.7938303351402283, 0.7835620045661926, 0.7692610025405884, 0.39918309450149536, 0.7640522718429565, 0.7605749368667603, 0.7565445303916931, 0.7343338131904602, 0.38287150859832764, 0.8900355100631714, 2.3584697246551514, 0.6875670552253723, 0.533129096031189, 0.721630334854126, 0.3767778277397156, 0.7202256917953491, 0.8316965699195862, 24.5426025390625, 1.7384860515594482, 88.41399383544922, 2.332834005355835, 199.1160888671875, 99.52477264404297, 22.51948356628418, 98.27957916259766, 483.15655517578125, 607.4256591796875, 102.56570434570312, 68.0392074584961, 74.62847900390625, 74.8650131225586, 429.9375915527344, 513.3968505859375, 441.888916015625, 81.71707916259766, 79.47842407226562, 69.70329284667969, 182.90733337402344, 194.89735412597656, 188.39642333984375, 155.1118621826172, 509.73834228515625, 214.76611328125, 516.8233642578125, 101.00421905517578, 177.47479248046875, 176.64468383789062, 122.32791900634766, 124.83902740478516, 182.7973175048828, 202.03089904785156, 167.345947265625, 174.1563720703125, 135.7006378173828, 156.41310119628906, 139.46620178222656, 110.05194091796875, 139.74075317382812, 139.88075256347656, 126.79573822021484, 139.13414001464844, 122.78010559082031, 118.91692352294922, 125.40287780761719, 0.5531193017959595, 0.5177121758460999, 0.9119834303855896, 0.4760485589504242, 0.423373818397522, 0.9804587960243225, 0.7754707932472229, 1.474745512008667, 0.3846878111362457, 0.733825147151947, 2.3313169479370117, 0.37602248787879944, 0.5282162427902222, 0.7165915966033936, 0.3713739812374115, 0.5138133764266968, 0.36335739493370056, 0.3632524311542511, 0.6551302075386047, 0.68453449010849, 0.6774474382400513, 0.6437528133392334, 1.1406538486480713, 0.6735015511512756, 0.6677632927894592, 0.34890663623809814, 0.6646019220352173, 1.0890012979507446, 0.3462264835834503, 0.3448055684566498, 1.6558383703231812, 4.284111022949219, 19.10968017578125, 105.41644287109375, 7.507415771484375, 608.6702270507812, 80.95843505859375, 135.40786743164062, 109.03450775146484, 639.195556640625, 51.8554801940918, 174.3841552734375, 191.7620849609375, 111.13145446777344, 20.45494842529297, 33.73399353027344, 198.76144409179688, 550.11328125, 54.67202377319336, 188.2698211669922, 92.22130584716797, 411.14508056640625, 176.89260864257812, 135.2996368408203, 182.99717712402344, 58.105106353759766, 109.37796783447266, 214.36123657226562, 127.75328063964844, 507.5103759765625, 383.7013244628906, 75.90547180175781, 186.8228302001953, 178.54638671875, 377.1199035644531, 81.1675033569336, 79.62338256835938, 142.77362060546875, 159.43759155273438, 176.9632568359375, 167.437744140625, 125.09540557861328, 175.01678466796875, 152.05531311035156, 140.40391540527344, 123.72708892822266, 121.69356536865234, 120.2489242553711, 1.278213620185852, 0.9609399437904358, 0.9513790011405945, 0.9174575209617615, 0.8839412331581116, 0.45313745737075806, 1.3592681884765625, 0.4187796115875244, 0.790856659412384, 0.408912718296051, 0.5758376121520996, 0.4009805917739868, 1.8207131624221802, 0.39791133999824524, 0.9025479555130005, 1.0483911037445068, 0.7335816025733948, 1.8212577104568481, 0.3731563985347748, 1.1540780067443848, 0.7011374831199646, 0.6655921339988708, 0.8489748239517212, 0.6993281245231628, 1.628467321395874, 0.6969558000564575, 0.696323037147522, 0.6937685012817383, 0.9820224046707153, 0.8321373462677002, 10.20392894744873, 12.209864616394043, 3.1827824115753174, 1.5397725105285645, 1.6652915477752686, 1.4231956005096436, 1.147619366645813, 657.1473388671875, 78.8410873413086, 186.70184326171875, 140.3946533203125, 229.5159912109375, 67.35669708251953, 82.53654479980469, 50.787628173828125, 551.486083984375, 51.60981750488281, 69.2935791015625, 183.79345703125, 109.30774688720703, 158.87942504882812, 41.5678825378418, 54.1577033996582, 86.64885711669922, 144.1416473388672, 108.65585327148438, 69.0003433227539, 209.16954040527344, 360.07421875, 139.660400390625, 163.8228302001953, 118.56137084960938, 57.716068267822266, 142.87049865722656, 350.98162841796875, 323.5329895019531, 167.4665985107422, 87.4586181640625, 132.01145935058594, 150.0339813232422, 350.23541259765625, 152.4816131591797, 107.5628662109375, 339.7001647949219, 140.55374145507812, 136.1002197265625, 133.2264404296875, 131.4503173828125, 103.89541625976562, 104.95074462890625, 117.78296661376953, 124.34959411621094, 110.39033508300781, 0.6177595853805542, 0.6022213697433472, 1.6571096181869507, 0.4972117841243744, 0.843906044960022, 0.8855380415916443, 0.8640573620796204, 0.848427951335907, 1.3498929738998413, 0.7979556918144226, 0.7790475487709045, 0.3891390562057495, 0.7270330190658569, 0.37688547372817993, 0.7018588185310364, 2.3031463623046875, 1.4734667539596558, 0.6931751370429993, 0.6860701441764832, 0.3572686016559601, 0.3540501892566681, 0.667471170425415, 1.2733052968978882, 1.2680553197860718, 0.7732125520706177, 0.8054303526878357, 0.3451097011566162, 4.6954874992370605, 2.1513783931732178, 0.7933081984519958, 1.2451399564743042, 7.682023048400879, 2.2146048545837402, 170.63833618164062, 108.67005920410156, 21.957651138305664, 99.1202621459961, 5.864677906036377, 230.71514892578125, 74.84732818603516, 110.43074798583984, 119.94696044921875, 27.711233139038086, 434.02459716796875, 103.75342559814453, 493.68756103515625, 558.7033081054688, 46.46434020996094, 94.49356842041016, 157.97593688964844, 181.0742950439453, 171.77572631835938, 131.94387817382812, 493.4854431152344, 123.89572143554688, 71.56184387207031, 204.03639221191406, 140.9058380126953, 110.61477661132812, 87.92304229736328, 156.74990844726562, 101.07611846923828, 420.65032958984375, 90.26982116699219, 99.06739044189453, 151.68716430664062, 301.4034423828125, 157.15451049804688, 159.02732849121094, 273.8254089355469, 147.95985412597656, 125.38522338867188, 139.71975708007812, 148.7938995361328, 136.73013305664062, 132.92007446289062, 119.73966979980469, 120.1786880493164, 0.9484055638313293, 1.1076403856277466, 0.6617113947868347, 1.152598261833191, 1.9111078977584839, 0.7895210981369019, 1.8222917318344116, 0.7260643839836121, 0.8686095476150513, 0.8699349164962769, 0.7133182287216187, 0.36730632185935974, 0.6979254484176636, 0.3511580228805542, 1.2117133140563965, 1.2082747220993042, 2.2730233669281006, 0.3435293734073639, 0.9383640885353088, 0.7620728015899658, 0.930421769618988, 0.4702793061733246, 1.8830825090408325, 0.32808560132980347, 0.7302184700965881, 0.7613473534584045, 0.32583755254745483, 0.5884459614753723, 0.4520009756088257, 0.6124301552772522, 1.0194514989852905, 2.0046889781951904, 1.142653465270996, 11.59249210357666, 461.7252502441406, 127.08577728271484, 22.27921485900879, 6.442019462585449, 19.476469039916992, 28.4859561920166, 53.25559616088867, 54.117820739746094, 20.9613037109375, 199.23236083984375, 14.091057777404785, 39.99055480957031, 150.2324981689453, 57.43697738647461, 490.8164367675781, 50.03586959838867, 118.26869201660156, 63.41073226928711, 385.6292419433594, 55.87895202636719, 113.49494171142578, 52.09282684326172, 165.85411071777344, 152.19854736328125, 98.99446105957031, 73.877685546875, 430.4963684082031, 77.39836120605469, 178.5643768310547, 102.55848693847656, 56.39799880981445, 424.76849365234375, 373.0732421875, 128.65274047851562, 79.44810485839844, 92.09852600097656, 76.74656677246094, 144.44361877441406, 127.97772216796875, 139.30274963378906, 270.1037902832031, 107.5190658569336, 85.95338439941406, 130.57095336914062, 129.40994262695312, 125.44137573242188, 126.08578491210938, 113.44727325439453, 139.4613037109375, 125.83145904541016, 114.449462890625, 111.7059555053711, 106.67304992675781, 1.8307348489761353, 1.0646101236343384, 0.9709277749061584, 1.1502145528793335, 0.9279528260231018, 1.244801640510559, 0.8619341254234314, 0.7535718679428101, 2.054750919342041, 0.4114006459712982, 0.7350154519081116, 1.5289372205734253, 1.0271611213684082, 0.7176715731620789, 0.69362473487854, 0.5102391839027405, 0.35930362343788147, 0.6756955981254578, 0.788145124912262, 0.33764293789863586, 0.47092801332473755, 1.310775876045227, 1.7792587280273438, 0.6174910664558411, 0.32251784205436707, 0.32249194383621216, 0.7068416476249695, 0.44718626141548157, 1.024068832397461, 0.315767765045166, 0.6016771197319031, 0.9471064805984497, 4.451657772064209, 20.7103214263916, 46.93352127075195, 2.645564079284668, 15.43364143371582, 524.2703247070312, 77.47683715820312, 128.6087188720703, 9.7162446975708, 583.6892700195312, 69.66899871826172, 88.75012969970703, 20.870134353637695, 46.966758728027344, 169.05337524414062, 496.4671325683594, 163.8982696533203, 32.08030319213867, 141.44578552246094, 56.5695915222168, 54.34656524658203, 467.1923522949219, 52.55248260498047, 162.44308471679688, 163.1571807861328, 57.102806091308594, 131.03590393066406, 136.01275634765625, 330.87066650390625, 157.22743225097656, 75.34927368164062, 92.12481689453125, 60.53546142578125, 148.32183837890625, 297.53369140625, 154.42840576171875, 150.35694885253906, 90.29844665527344, 282.3570556640625, 81.8064193725586, 165.09506225585938, 148.38397216796875, 138.43350219726562, 112.50189971923828, 100.78450012207031, 141.9053192138672, 140.96058654785156, 108.45285034179688, 110.72984313964844, 115.16805267333984, 113.88062286376953, 111.04790496826172, 111.51292419433594, 1.0813413858413696, 0.5498235821723938, 0.8884308934211731, 0.8444849252700806, 0.7954955697059631, 0.7933644652366638, 0.5773501992225647, 1.1091525554656982, 0.7563585042953491, 0.378802090883255, 0.3672269880771637, 0.6900596022605896, 0.6831707954406738, 0.3546901047229767, 1.8986234664916992, 0.6636958122253418, 0.6604963541030884, 0.33474844694137573, 0.6374539136886597, 0.6361590027809143, 1.204278826713562, 1.205409288406372, 0.32930710911750793, 0.6227667927742004, 1.685824990272522, 2.6735289096832275, 5.450860500335693, 0.31851792335510254, 0.8669813275337219, 1.656198501586914, 1.9169992208480835, 3.020448923110962, 4.341517925262451, 203.31101989746094, 428.5735168457031, 22.332246780395508, 34.33761215209961, 30.01641273498535, 21.72041893005371, 31.831161499023438, 22.110836029052734, 520.8072509765625, 34.81441879272461, 31.409347534179688, 28.496856689453125, 62.61170959472656, 20.160118103027344, 94.54034423828125, 67.28980255126953, 30.768678665161133, 151.17660522460938, 335.8659973144531, 155.06430053710938, 74.49109649658203, 44.44740295410156, 102.48687744140625, 155.01324462890625, 68.20535278320312, 174.09925842285156, 80.1155014038086, 49.08877182006836, 41.53107833862305, 90.70989990234375, 87.44481658935547, 103.16175079345703, 321.73614501953125, 128.2086181640625, 112.5313949584961, 93.131591796875, 260.7912902832031, 131.8750762939453, 116.94287109375, 323.29168701171875, 111.04920196533203, 131.37310791015625, 109.85191345214844, 300.3897399902344, 96.42922973632812, 132.0610809326172, 104.2904281616211, 94.49259948730469, 134.74447631835938, 112.33712005615234, 121.29398345947266, 105.99468994140625, 109.42996215820312, 109.24992370605469, 110.02643585205078, 103.36811065673828, 1.3722643852233887, 1.2354934215545654, 0.9460417032241821, 0.8979118466377258, 0.8804511427879333, 0.4140426218509674, 0.7861237525939941, 0.7791857719421387, 1.0378366708755493, 0.719222903251648, 0.7140839695930481, 0.8646611571311951, 0.37040403485298157, 0.7066574692726135, 0.7063274383544922, 4.623501777648926, 1.1551687717437744, 0.6781066656112671, 0.35259535908699036, 0.962658166885376, 0.6669730544090271, 0.3470214605331421, 0.6558371186256409, 0.7805295586585999, 0.6430789232254028, 0.6406537294387817, 0.6406114101409912, 0.6375776529312134, 0.8956044912338257, 1.3297059535980225, 9.219037055969238, 1.555006980895996, 131.5034637451172, 2.239575147628784, 37.407737731933594, 55.283966064453125, 15.054723739624023, 19.708850860595703, 61.41152572631836, 47.80085372924805, 118.96491241455078, 86.8517837524414, 89.24107360839844, 112.43923950195312, 69.42850494384766, 142.95079040527344, 114.89339447021484, 353.162841796875, 167.08299255371094, 51.839176177978516, 169.4744873046875, 81.06629180908203, 71.26195526123047, 432.2970886230469, 51.870567321777344, 55.44270324707031, 157.57139587402344, 388.3194580078125, 62.6297721862793, 356.4116516113281, 74.36853790283203, 393.27777099609375, 72.11174774169922, 116.86018371582031, 281.7903137207031, 164.1724395751953, 111.03639221191406, 139.68630981445312, 245.46461486816406, 127.06590270996094, 133.83499145507812, 115.51005554199219, 119.78981018066406, 130.3980255126953, 93.34539794921875, 104.03560638427734, 113.3423080444336, 119.12779235839844, 108.56501770019531, 107.4516372680664, 107.7789306640625, 1.2283170223236084, 2.5587172508239746, 0.6242993474006653, 1.2095905542373657, 0.8403923511505127, 0.8320037722587585, 0.8309245109558105, 1.0014863014221191, 1.7473036050796509, 0.7420750260353088, 0.741642415523529, 0.7156352400779724, 0.7138482332229614, 0.7123473882675171, 0.5171326398849487, 0.3629620671272278, 0.6569939851760864, 0.6880084872245789, 0.9756852388381958, 0.9682128429412842, 1.1389087438583374, 1.7099789381027222, 0.6592091917991638, 0.6564534902572632, 1.0729212760925293, 0.33913174271583557, 0.9243630170822144, 0.46761998534202576, 0.330537885427475, 9.908803939819336, 1.0585262775421143, 1.2934972047805786, 1.6113851070404053, 109.73371124267578, 136.7960662841797, 20.277772903442383, 41.2409553527832, 180.71212768554688, 3.756945848464966, 175.74867248535156, 155.52418518066406, 54.50000762939453, 50.46916580200195, 147.95681762695312, 106.63805389404297, 50.60826873779297, 66.17890930175781, 76.9778060913086, 193.05088806152344, 30.777318954467773, 61.918914794921875, 26.769577026367188, 71.94353485107422, 24.028888702392578, 88.55986022949219, 104.53087615966797, 388.2093811035156, 90.59661865234375, 93.43803405761719, 59.47974395751953, 82.34930419921875, 165.82208251953125, 375.76495361328125, 299.5515441894531, 383.95306396484375, 133.8716583251953, 135.6787872314453, 136.1326141357422, 137.00636291503906, 258.2039794921875, 134.07891845703125, 250.8055419921875, 140.68594360351562, 135.64224243164062, 273.7748107910156, 94.20298767089844, 126.93549346923828, 132.71763610839844, 98.43709564208984, 101.88260650634766, 102.94547271728516, 95.40983581542969, 0.6519483923912048, 0.651461660861969, 0.44304585456848145, 0.8292849659919739, 0.4324958622455597, 0.4173482060432434, 0.9237716794013977, 1.045643925666809, 0.6827158331871033, 0.37048131227493286, 0.6855949759483337, 1.077805757522583, 0.6460981369018555, 0.3356451690196991, 0.3317784070968628, 1.6462817192077637, 0.32620975375175476, 0.6215547919273376, 1.1473069190979004, 4.117856502532959, 1.169728398323059, 0.743158757686615, 1.1648762226104736, 0.4448557198047638, 3.758680582046509, 0.5719771385192871, 23.02771759033203, 0.5987877249717712, 1.2453656196594238, 0.9948434829711914, 7.82682466506958, 1.1180107593536377, 214.5165557861328, 43.03190994262695, 2.936488151550293, 82.03512573242188, 108.10399627685547, 24.12575340270996, 11.377744674682617, 57.884769439697266, 91.6009292602539, 16.730918884277344, 81.62297821044922, 72.7178726196289, 55.665016174316406, 94.91726684570312, 45.16374588012695, 42.459110260009766, 138.95648193359375, 322.51165771484375, 147.34278869628906, 146.0632781982422, 51.4896240234375, 117.19317626953125, 99.11174774169922, 90.3876953125, 45.49323272705078, 55.64420700073242, 118.37969207763672, 102.29071044921875, 85.14879608154297, 384.1541442871094, 358.47064208984375, 130.1488037109375, 86.88008880615234, 74.16874694824219, 306.4799499511719, 117.92813873291016, 114.69002532958984, 259.95880126953125, 143.29315185546875, 132.77120971679688, 127.78182983398438, 145.95729064941406, 222.5749969482422, 259.2524108886719, 120.12889099121094, 138.1341552734375, 121.942138671875, 122.81574249267578, 109.07186126708984, 102.53742980957031], \"Term\": [\"food\", \"great\", \"staff\", \"like\", \"time\", \"good\", \"came\", \"place\", \"delicious\", \"amazing\", \"experience\", \"looking\", \"friendly\", \"think\", \"know\", \"chicken\", \"work\", \"night\", \"price\", \"minutes\", \"sure\", \"told\", \"nice\", \"restaurant\", \"love\", \"times\", \"said\", \"away\", \"people\", \"come\", \"vadai\", \"dahl\", \"fridendly\", \"demonic\", \"kristy\", \"linda\", \"diesel\", \"everrr\", \"mixer\", \"samoa\", \"durian\", \"jeffery\", \"guns\", \"darlene\", \"falcon\", \"pimpin\", \"aknowledgement\", \"yeahhhhhhh\", \"beause\", \"calabash\", \"yummers\", \"lgbtq\", \"bathing\", \"bobbie\", \"swift\", \"woop\", \"brookstone\", \"hinds\", \"metros\", \"luci\", \"donuts\", \"reclining\", \"money\", \"nite\", \"experience\", \"check\", \"mall\", \"drink\", \"like\", \"good\", \"super\", \"water\", \"review\", \"flavor\", \"time\", \"great\", \"service\", \"things\", \"favorite\", \"kind\", \"little\", \"ordered\", \"came\", \"said\", \"place\", \"nice\", \"food\", \"meal\", \"people\", \"come\", \"fresh\", \"wait\", \"staff\", \"best\", \"order\", \"love\", \"recommend\", \"definitely\", \"menu\", \"location\", \"amazing\", \"friendly\", \"going\", \"went\", \"better\", \"right\", \"chicken\", \"thenk\", \"nvehxcfvvv\", \"delivary\", \"vghvhridd\", \"bods\", \"thread\", \"discontinue\", \"pavers\", \"dieing\", \"kendel\", \"stole\", \"ktown\", \"ruddy\", \"erika\", \"disrespected\", \"waved\", \"homesick\", \"boooo\", \"curl\", \"picante\", \"truvyjones\", \"swamped\", \"caliente\", \"hairstylist\", \"calabash\", \"penetrated\", \"barro\", \"fresher\", \"scraps\", \"directs\", \"accepting\", \"screwed\", \"avoid\", \"away\", \"protein\", \"great\", \"house\", \"price\", \"happy\", \"food\", \"point\", \"menu\", \"chicken\", \"wasn\", \"serving\", \"bite\", \"order\", \"good\", \"days\", \"definitely\", \"salad\", \"time\", \"restaurant\", \"want\", \"come\", \"finally\", \"sauce\", \"nice\", \"wait\", \"place\", \"like\", \"rice\", \"staff\", \"came\", \"service\", \"hour\", \"meat\", \"said\", \"little\", \"love\", \"ordered\", \"right\", \"best\", \"went\", \"amazing\", \"going\", \"experience\", \"friendly\", \"shimp\", \"luddite\", \"stance\", \"personnels\", \"organis\\u00e9\", \"whoopers\", \"fetish\", \"unite\", \"chintzy\", \"\\u4eca\\u5929\\u6211\\u9ede\\u4e86\\u4e00\\u500b\\u97d3\\u570b\\u51b7\\u9762\\u6e6f\", \"pok\\u00e9\", \"stabbed\", \"diana\", \"carted\", \"megaphone\", \"alway\", \"merest\", \"bail\", \"fluffiest\", \"blink\", \"cwru\", \"tans\", \"condensation\", \"ridgeville\", \"woot\", \"respectueux\", \"erika\", \"tumi\", \"annoyance\", \"stationnement\", \"mussels\", \"joke\", \"unorganized\", \"beatles\", \"ghetto\", \"paced\", \"aveda\", \"place\", \"beer\", \"experience\", \"told\", \"love\", \"week\", \"sushi\", \"return\", \"good\", \"tables\", \"beef\", \"people\", \"table\", \"delicious\", \"music\", \"spicy\", \"need\", \"going\", \"asked\", \"huge\", \"best\", \"time\", \"better\", \"little\", \"night\", \"items\", \"menu\", \"service\", \"like\", \"ordered\", \"dinner\", \"recommend\", \"friendly\", \"great\", \"definitely\", \"took\", \"food\", \"chicken\", \"amazing\", \"went\", \"order\", \"vegas\", \"work\", \"restaurant\", \"nice\", \"come\", \"everrrrr\", \"neil\", \"squishies\", \"stagette\", \"chaufa\", \"posta\", \"cary\", \"gnocci\", \"yasmin\", \"poms\", \"intelligently\", \"leguizamo\", \"daaayyuuummm\", \"outbacks\", \"deptartment\", \"grubhub\", \"delta\", \"metros\", \"insectarium\", \"incred\", \"cowabunga\", \"aptive\", \"botanical\", \"reef\", \"motorcycle\", \"tide\", \"definiately\", \"sunny\", \"erica\", \"matthew\", \"donair\", \"fountain\", \"definately\", \"pretty\", \"store\", \"toronto\", \"worth\", \"aged\", \"nice\", \"family\", \"pizza\", \"location\", \"counter\", \"service\", \"area\", \"great\", \"food\", \"waited\", \"dinner\", \"menu\", \"come\", \"restaurant\", \"want\", \"place\", \"night\", \"friend\", \"best\", \"said\", \"price\", \"different\", \"chicken\", \"customer\", \"good\", \"happy\", \"cheese\", \"little\", \"like\", \"order\", \"ordered\", \"time\", \"definitely\", \"better\", \"people\", \"love\", \"went\", \"came\", \"recommend\", \"friendly\", \"booster\", \"satisfyingly\", \"melinda\", \"cartridge\", \"keri\", \"conchas\", \"swedish\", \"jina\", \"matthew\", \"chock\", \"propre\", \"toonlomg\", \"respectueux\", \"shortening\", \"holly\", \"fines\", \"trainers\", \"equiptment\", \"producer\", \"tikki\", \"adovada\", \"bregman\", \"dances\", \"serval\", \"pottery\", \"sheldon\", \"rancheras\", \"violent\", \"competitions\", \"nacs\", \"keylime\", \"reduced\", \"progressing\", \"haircut\", \"time\", \"think\", \"massage\", \"omelette\", \"visited\", \"haven\", \"cool\", \"decent\", \"waste\", \"love\", \"loves\", \"beautiful\", \"know\", \"husband\", \"good\", \"stop\", \"sure\", \"large\", \"service\", \"absolutely\", \"fresh\", \"hair\", \"order\", \"restaurant\", \"asked\", \"look\", \"place\", \"years\", \"nice\", \"price\", \"dish\", \"food\", \"great\", \"said\", \"quality\", \"table\", \"worth\", \"people\", \"delicious\", \"friendly\", \"like\", \"want\", \"lunch\", \"went\", \"came\", \"little\", \"definitely\", \"menu\", \"best\", \"staff\", \"chicken\", \"ordered\", \"come\", \"squishies\", \"poms\", \"roomtastic\", \"purolator\", \"daaayyuuummm\", \"medallions\", \"disinfecting\", \"hunan\", \"jackpot\", \"sevice\", \"livraison\", \"photographers\", \"kang\", \"sone\", \"ch\\u00e8re\", \"satified\", \"elotes\", \"momma\", \"growling\", \"tadka\", \"globe\", \"belgian\", \"dawn\", \"noncommunitive\", \"minh\", \"brewski\", \"s\\u00e9lection\", \"coffeeshop\", \"dgfwco\", \"efrain\", \"posoleshawwty\", \"jake\", \"backyard\", \"treated\", \"leave\", \"coins\", \"rare\", \"great\", \"highly\", \"room\", \"hadn\", \"food\", \"busy\", \"excellent\", \"attitude\", \"rude\", \"chicken\", \"good\", \"amazing\", \"salmon\", \"recommend\", \"shop\", \"fantastic\", \"place\", \"wine\", \"people\", \"come\", \"bread\", \"better\", \"delicious\", \"service\", \"went\", \"taste\", \"small\", \"beef\", \"definitely\", \"like\", \"ordered\", \"came\", \"pizza\", \"time\", \"store\", \"nice\", \"staff\", \"little\", \"right\", \"sure\", \"love\", \"best\", \"going\", \"know\", \"friendly\", \"restaurant\", \"experience\", \"order\", \"lomax\", \"luxuriously\", \"momma\", \"posoleshawwty\", \"krung\", \"browbeaten\", \"scraping\", \"waxes\", \"wrestlemania\", \"blowingly\", \"fetta\", \"darlene\", \"huervos\", \"mila\", \"kathleen\", \"vasil\", \"karate\", \"aweful\", \"orellana\", \"amature\", \"maternity\", \"believer\", \"shoooz\", \"clinical\", \"carbonara\", \"stadium\", \"bitter\", \"decollibus\", \"atmospheres\", \"crumbs\", \"bikini\", \"communicate\", \"successful\", \"came\", \"like\", \"market\", \"past\", \"cute\", \"case\", \"salon\", \"casino\", \"food\", \"street\", \"mexican\", \"girl\", \"actually\", \"cafe\", \"home\", \"things\", \"patio\", \"little\", \"service\", \"went\", \"called\", \"started\", \"room\", \"staff\", \"coming\", \"best\", \"happy\", \"high\", \"wife\", \"think\", \"asked\", \"want\", \"great\", \"amazing\", \"better\", \"vegas\", \"time\", \"people\", \"delicious\", \"place\", \"recommend\", \"come\", \"going\", \"good\", \"night\", \"ordered\", \"right\", \"sure\", \"nice\", \"experience\", \"order\", \"menu\", \"restaurant\", \"definitely\", \"love\", \"friendly\", \"brookline\", \"palmas\", \"cary\", \"gutters\", \"golfweek\", \"tellers\", \"blode\", \"flyest\", \"coldest\", \"julio\", \"arturo\", \"blower\", \"labove\", \"irrigation\", \"greulich\", \"screwed\", \"yasmin\", \"rougher\", \"difinitly\", \"disposable\", \"sensei\", \"cages\", \"laziness\", \"stupidity\", \"engages\", \"culturally\", \"aims\", \"scowled\", \"limits\", \"paced\", \"dentist\", \"cure\", \"minutes\", \"washing\", \"taking\", \"couldn\", \"paper\", \"outstanding\", \"looked\", \"professional\", \"told\", \"awesome\", \"tried\", \"took\", \"care\", \"said\", \"sure\", \"like\", \"went\", \"able\", \"ordered\", \"server\", \"free\", \"place\", \"today\", \"usually\", \"order\", \"good\", \"family\", \"great\", \"years\", \"food\", \"check\", \"recommend\", \"service\", \"best\", \"right\", \"staff\", \"time\", \"restaurant\", \"came\", \"know\", \"friendly\", \"love\", \"room\", \"better\", \"chicken\", \"nice\", \"definitely\", \"people\", \"come\", \"chauffeured\", \"halo\", \"atms\", \"fingernail\", \"barley\", \"mikes\", \"peggy\", \"costumers\", \"plut\\u00f4t\", \"butterflies\", \"chintzy\", \"backpack\", \"froide\", \"imcomplete\", \"coffeeshop\", \"steroids\", \"stacy\", \"laguna\", \"accueil\", \"deter\", \"fungus\", \"sophia\", \"servis\", \"finie\", \"potstickers\", \"convent\", \"chaleureux\", \"grate\", \"bariatric\", \"mashed\", \"viateur\", \"donovan\", \"vanessa\", \"looking\", \"work\", \"hostess\", \"size\", \"friendly\", \"sont\", \"amazing\", \"know\", \"maybe\", \"thank\", \"delicious\", \"think\", \"person\", \"decided\", \"coffee\", \"best\", \"expensive\", \"house\", \"glass\", \"stars\", \"sign\", \"small\", \"wait\", \"good\", \"cheese\", \"times\", \"fried\", \"drinks\", \"nice\", \"place\", \"service\", \"food\", \"restaurant\", \"little\", \"people\", \"come\", \"like\", \"definitely\", \"time\", \"staff\", \"went\", \"great\", \"vegas\", \"order\", \"love\", \"want\", \"going\", \"came\", \"ordered\", \"\\u63a2\\u3057\\u305f\\u304a\\u5e97\\u3067\\u3057\\u305f\", \"\\u3068\\u3066\\u3082\\u6c17\\u306b\\u5165\\u308a\\u307e\\u3057\\u305f\", \"lankan\", \"irrigation\", \"preseptal\", \"cellulitis\", \"matthew\", \"bind\", \"gratitude\", \"monsieur\", \"arturo\", \"capped\", \"brookstone\", \"sevice\", \"ailment\", \"samantha\", \"greektown\", \"walkthrough\", \"saves\", \"frosting\", \"intelligent\", \"stomp\", \"licensed\", \"registry\", \"lifetime\", \"contracted\", \"repair\", \"accounting\", \"diagnostic\", \"jekyll\", \"procedure\", \"linda\", \"staff\", \"lots\", \"leaking\", \"thing\", \"times\", \"reservation\", \"banana\", \"manager\", \"long\", \"happened\", \"feel\", \"coming\", \"dish\", \"sauce\", \"comes\", \"wrong\", \"experience\", \"time\", \"chicken\", \"friendly\", \"sandwich\", \"right\", \"price\", \"customer\", \"pork\", \"breakfast\", \"going\", \"night\", \"home\", \"food\", \"place\", \"amazing\", \"cheese\", \"super\", \"great\", \"delicious\", \"know\", \"service\", \"love\", \"ordered\", \"came\", \"best\", \"like\", \"good\", \"restaurant\", \"nice\", \"definitely\", \"went\", \"order\", \"come\"], \"Total\": [4745.0, 4121.0, 1502.0, 3321.0, 3298.0, 4453.0, 1436.0, 4555.0, 1193.0, 1310.0, 1248.0, 675.0, 1334.0, 842.0, 1172.0, 1341.0, 906.0, 938.0, 872.0, 877.0, 919.0, 928.0, 1685.0, 1329.0, 1587.0, 824.0, 1159.0, 610.0, 1381.0, 1399.0, 3.0904877185821533, 3.0908405780792236, 3.08193302154541, 3.7440004348754883, 1.6113165616989136, 5.866206169128418, 4.401840686798096, 3.740461826324463, 2.268806219100952, 3.0807623863220215, 2.9265007972717285, 1.6118879318237305, 7.034392356872559, 3.076982259750366, 3.080235719680786, 3.0792226791381836, 1.6086866855621338, 3.084526300430298, 3.0815834999084473, 3.0814952850341797, 3.0807151794433594, 1.610107183456421, 3.747514009475708, 9.967154502868652, 2.9263103008270264, 2.269536018371582, 3.078289270401001, 1.6115015745162964, 3.0831358432769775, 3.5826802253723145, 117.02437591552734, 7.688477516174316, 468.6667785644531, 10.632505416870117, 1248.288330078125, 600.0532836914062, 121.50666046142578, 597.9324951171875, 3321.947021484375, 4453.1298828125, 654.41064453125, 418.0232849121094, 464.66162109375, 476.921142578125, 3298.6376953125, 4121.73583984375, 3497.681640625, 536.7542114257812, 523.6883544921875, 457.6146240234375, 1371.2386474609375, 1484.679931640625, 1436.7838134765625, 1159.1390380859375, 4555.39453125, 1685.6800537109375, 4745.07275390625, 708.144287109375, 1381.000732421875, 1399.632568359375, 903.9736938476562, 939.4169311523438, 1502.4656982421875, 1747.9554443359375, 1446.9521484375, 1587.00244140625, 1120.673583984375, 1393.3681640625, 1191.6116943359375, 840.21142578125, 1310.9515380859375, 1334.746337890625, 1105.6243896484375, 1429.5496826171875, 1114.533935546875, 1053.60400390625, 1341.820068359375, 1.6105104684829712, 1.610314130783081, 3.082667827606201, 1.609750509262085, 1.6108081340789795, 3.7474350929260254, 3.086371898651123, 5.87456750869751, 1.6117361783981323, 3.0868444442749023, 9.816859245300293, 1.6104283332824707, 2.2681000232696533, 3.088433027267456, 1.6099631786346436, 2.2690627574920654, 1.6106889247894287, 1.6111483573913574, 2.927724599838257, 3.0865225791931152, 3.0798912048339844, 2.9280240535736084, 5.2093658447265625, 3.0800602436065674, 3.0814952850341797, 1.6105440855026245, 3.0846476554870605, 5.058197021484375, 1.6111137866973877, 1.6111681461334229, 7.83771276473999, 20.8057861328125, 99.23377990722656, 610.0556030273438, 39.083106994628906, 4121.73583984375, 489.1136474609375, 872.0297241210938, 695.964599609375, 4745.07275390625, 319.5126647949219, 1191.6116943359375, 1341.820068359375, 755.9428100585938, 120.88037872314453, 209.21878051757812, 1446.9521484375, 4453.1298828125, 354.4200744628906, 1393.3681640625, 637.98583984375, 3298.6376953125, 1329.4229736328125, 994.1641235351562, 1399.632568359375, 385.69287109375, 788.7403564453125, 1685.6800537109375, 939.4169311523438, 4555.39453125, 3321.947021484375, 527.539306640625, 1502.4656982421875, 1436.7838134765625, 3497.681640625, 574.165283203125, 562.022705078125, 1159.1390380859375, 1371.2386474609375, 1587.00244140625, 1484.679931640625, 1053.60400390625, 1747.9554443359375, 1429.5496826171875, 1310.9515380859375, 1105.6243896484375, 1248.288330078125, 1334.746337890625, 3.098430633544922, 3.0939722061157227, 3.093398332595825, 3.092759609222412, 3.0921683311462402, 1.6152862310409546, 5.22787618637085, 1.615051031112671, 3.0907459259033203, 1.6150891780853271, 2.274826765060425, 1.6137645244598389, 7.356975078582764, 1.6151790618896484, 3.749762535095215, 4.408749580383301, 3.087991714477539, 7.703052043914795, 1.6139237880706787, 5.067700386047363, 3.088787317276001, 2.932957887649536, 3.7471888065338135, 3.0881052017211914, 7.199804782867432, 3.0902068614959717, 3.088433027267456, 3.0904014110565186, 4.407833576202393, 3.7479264736175537, 48.491050720214844, 59.00935745239258, 14.763166427612305, 7.0413031578063965, 7.7046685218811035, 6.535768032073975, 5.225564479827881, 4555.39453125, 473.8775634765625, 1248.288330078125, 928.733154296875, 1587.00244140625, 421.77874755859375, 527.9600830078125, 323.5194396972656, 4453.1298828125, 330.1936950683594, 463.5272216796875, 1381.000732421875, 777.6828002929688, 1193.0113525390625, 268.9707946777344, 362.1637878417969, 615.66748046875, 1105.6243896484375, 807.1349487304688, 486.73699951171875, 1747.9554443359375, 3298.6376953125, 1114.533935546875, 1371.2386474609375, 938.8221435546875, 404.5837707519531, 1191.6116943359375, 3497.681640625, 3321.947021484375, 1484.679931640625, 668.2651977539062, 1120.673583984375, 1334.746337890625, 4121.73583984375, 1393.3681640625, 882.0952758789062, 4745.07275390625, 1341.820068359375, 1310.9515380859375, 1429.5496826171875, 1446.9521484375, 877.9202270507812, 906.002685546875, 1329.4229736328125, 1685.6800537109375, 1399.632568359375, 1.6117616891860962, 1.6101394891738892, 5.211587905883789, 1.6093204021453857, 2.927117109298706, 3.080693006515503, 3.0761826038360596, 3.0808329582214355, 5.212234020233154, 3.0815577507019043, 3.0833230018615723, 1.61058509349823, 3.079688549041748, 1.6113641262054443, 3.0836071968078613, 10.126350402832031, 6.525069713592529, 3.0831358432769775, 3.0845985412597656, 1.6104156970977783, 1.61189603805542, 3.0763213634490967, 5.872340202331543, 5.871095180511475, 3.585531711578369, 3.7374744415283203, 1.6103904247283936, 21.98605728149414, 10.125887870788574, 3.7375104427337646, 5.873019218444824, 36.919490814208984, 10.63188362121582, 1019.673095703125, 674.1328125, 124.065673828125, 621.6737060546875, 30.990001678466797, 1685.6800537109375, 498.51702880859375, 761.13916015625, 840.21142578125, 169.9528350830078, 3497.681640625, 727.0451049804688, 4121.73583984375, 4745.07275390625, 302.5765380859375, 668.2651977539062, 1191.6116943359375, 1399.632568359375, 1329.4229736328125, 994.1641235351562, 4555.39453125, 938.8221435546875, 502.4761047363281, 1747.9554443359375, 1159.1390380859375, 872.0297241210938, 672.5594482421875, 1341.820068359375, 797.4859619140625, 4453.1298828125, 695.964599609375, 794.7815551757812, 1371.2386474609375, 3321.947021484375, 1446.9521484375, 1484.679931640625, 3298.6376953125, 1393.3681640625, 1114.533935546875, 1381.000732421875, 1587.00244140625, 1429.5496826171875, 1436.7838134765625, 1120.673583984375, 1334.746337890625, 3.087939739227295, 3.7451071739196777, 2.2725002765655518, 4.403214931488037, 7.351602554321289, 3.0870351791381836, 7.19402551651001, 3.084461212158203, 3.7375104427337646, 3.7449495792388916, 3.0902457237243652, 1.6117541790008545, 3.0902068614959717, 1.6100409030914307, 5.563069820404053, 5.561067581176758, 10.486469268798828, 1.6109933853149414, 4.402807235717773, 3.589238166809082, 4.403289794921875, 2.267275333404541, 9.169302940368652, 1.611114740371704, 3.5867176055908203, 3.7418196201324463, 1.610830545425415, 2.927501916885376, 2.271962881088257, 3.082156181335449, 5.219865798950195, 10.482643127441406, 5.87561559677124, 67.70535278320312, 3298.6376953125, 842.3148193359375, 136.5875701904297, 36.790531158447266, 121.67193603515625, 183.97576904296875, 362.158203125, 370.3384704589844, 133.2730712890625, 1587.00244140625, 86.72882080078125, 273.91156005859375, 1172.9295654296875, 409.0115051269531, 4453.1298828125, 352.7008972167969, 919.3270263671875, 459.23590087890625, 3497.681640625, 407.2060241699219, 903.9736938476562, 381.29180908203125, 1446.9521484375, 1329.4229736328125, 807.1349487304688, 575.6409912109375, 4555.39453125, 622.3712768554688, 1685.6800537109375, 872.0297241210938, 428.0137023925781, 4745.07275390625, 4121.73583984375, 1159.1390380859375, 645.2192993164062, 777.6828002929688, 621.6737060546875, 1381.000732421875, 1193.0113525390625, 1334.746337890625, 3321.947021484375, 994.1641235351562, 738.66162109375, 1429.5496826171875, 1436.7838134765625, 1371.2386474609375, 1393.3681640625, 1191.6116943359375, 1747.9554443359375, 1502.4656982421875, 1341.820068359375, 1484.679931640625, 1399.632568359375, 5.211587905883789, 3.0815577507019043, 3.078385353088379, 3.7472305297851562, 3.079688549041748, 4.396653652191162, 3.079965353012085, 2.9274861812591553, 7.998997211456299, 1.6080758571624756, 3.085784673690796, 6.528907299041748, 4.394827842712402, 3.080470085144043, 3.0866026878356934, 2.2719080448150635, 1.6100573539733887, 3.074474334716797, 3.7426466941833496, 1.610121726989746, 2.267287492752075, 6.369887828826904, 8.669187545776367, 3.0806517601013184, 1.6093237400054932, 1.6107509136199951, 3.5855627059936523, 2.2699697017669678, 5.2111310958862305, 1.6097947359085083, 3.0747857093811035, 4.901368141174316, 24.289541244506836, 122.42047119140625, 295.86083984375, 14.398561477661133, 93.894287109375, 4121.73583984375, 528.072265625, 921.1187744140625, 57.94552993774414, 4745.07275390625, 492.1665344238281, 642.718505859375, 133.09458923339844, 324.8802490234375, 1341.820068359375, 4453.1298828125, 1310.9515380859375, 214.79737854003906, 1120.673583984375, 404.9203186035156, 390.4678955078125, 4555.39453125, 380.6111755371094, 1381.000732421875, 1399.632568359375, 423.78045654296875, 1114.533935546875, 1193.0113525390625, 3497.681640625, 1429.5496826171875, 595.9371337890625, 769.4053344726562, 463.5272216796875, 1393.3681640625, 3321.947021484375, 1484.679931640625, 1436.7838134765625, 761.13916015625, 3298.6376953125, 674.1328125, 1685.6800537109375, 1502.4656982421875, 1371.2386474609375, 1053.60400390625, 919.3270263671875, 1587.00244140625, 1747.9554443359375, 1105.6243896484375, 1172.9295654296875, 1334.746337890625, 1329.4229736328125, 1248.288330078125, 1446.9521484375, 3.0748093128204346, 1.6064668893814087, 3.074474334716797, 3.0747857093811035, 3.0749285221099854, 3.073833465576172, 2.2649078369140625, 4.395275115966797, 3.077335834503174, 1.6081665754318237, 1.6080348491668701, 3.076982259750366, 3.0804402828216553, 1.6096128225326538, 8.65082836151123, 3.078847885131836, 3.0815060138702393, 1.608652114868164, 3.0785140991210938, 3.0807652473449707, 5.858661651611328, 5.866312503814697, 1.6095370054244995, 3.0750458240509033, 8.339509963989258, 13.257667541503906, 27.515785217285156, 1.6079421043395996, 4.394618034362793, 8.494153022766113, 9.969966888427734, 16.04021644592285, 23.576173782348633, 1436.7838134765625, 3321.947021484375, 139.74485778808594, 222.99847412109375, 193.81410217285156, 141.6230926513672, 216.94769287109375, 145.42190551757812, 4745.07275390625, 239.9202880859375, 218.17196655273438, 196.69825744628906, 480.01123046875, 135.51417541503906, 772.4506225585938, 536.7542114257812, 221.3531036376953, 1371.2386474609375, 3497.681640625, 1429.5496826171875, 612.246337890625, 339.8592224121094, 921.1187744140625, 1502.4656982421875, 572.3843994140625, 1747.9554443359375, 695.964599609375, 397.7458190917969, 324.4827575683594, 842.3148193359375, 807.1349487304688, 994.1641235351562, 4121.73583984375, 1310.9515380859375, 1114.533935546875, 877.9202270507812, 3298.6376953125, 1381.000732421875, 1193.0113525390625, 4555.39453125, 1120.673583984375, 1399.632568359375, 1105.6243896484375, 4453.1298828125, 938.8221435546875, 1484.679931640625, 1053.60400390625, 919.3270263671875, 1685.6800537109375, 1248.288330078125, 1446.9521484375, 1191.6116943359375, 1329.4229736328125, 1393.3681640625, 1587.00244140625, 1334.746337890625, 3.072828531265259, 3.0730321407318115, 3.0761826038360596, 3.076089859008789, 3.077744483947754, 1.6079169511795044, 3.0833258628845215, 3.0766685009002686, 4.3905839920043945, 3.0770835876464844, 3.0719242095947266, 3.7343857288360596, 1.6089788675308228, 3.071563243865967, 3.082980155944824, 20.8057861328125, 5.212234020233154, 3.079524040222168, 1.6084938049316406, 4.395763874053955, 3.0811119079589844, 1.6085774898529053, 3.0790209770202637, 3.7364253997802734, 3.0817043781280518, 3.0809733867645264, 3.082868814468384, 3.078340530395508, 4.395726680755615, 6.535768032073975, 47.76596450805664, 7.835028648376465, 877.255126953125, 11.62567138671875, 235.09071350097656, 367.76263427734375, 90.90238189697266, 123.2707748413086, 444.08209228515625, 337.6180419921875, 928.733154296875, 656.5838623046875, 682.3556518554688, 882.0952758789062, 518.341796875, 1159.1390380859375, 919.3270263671875, 3321.947021484375, 1429.5496826171875, 385.169189453125, 1484.679931640625, 655.171875, 566.941162109375, 4555.39453125, 396.1016845703125, 428.5877685546875, 1446.9521484375, 4453.1298828125, 498.51702880859375, 4121.73583984375, 622.3712768554688, 4745.07275390625, 600.0532836914062, 1120.673583984375, 3497.681640625, 1747.9554443359375, 1053.60400390625, 1502.4656982421875, 3298.6376953125, 1329.4229736328125, 1436.7838134765625, 1172.9295654296875, 1334.746337890625, 1587.00244140625, 921.1187744140625, 1114.533935546875, 1341.820068359375, 1685.6800537109375, 1393.3681640625, 1381.000732421875, 1399.632568359375, 3.082331895828247, 9.002884864807129, 2.2706353664398193, 4.406557083129883, 3.0892162322998047, 3.0877187252044678, 3.0862808227539062, 3.738988161087036, 7.1922712326049805, 3.078251361846924, 3.0907459259033203, 3.087941884994507, 3.0864734649658203, 3.0902411937713623, 2.2699697017669678, 1.6100311279296875, 2.928468704223633, 3.0833332538604736, 4.403685569763184, 4.398946762084961, 5.221049785614014, 7.849850177764893, 3.0834293365478516, 3.08335542678833, 5.060516357421875, 1.6104624271392822, 4.4028849601745605, 2.2690632343292236, 1.6115481853485107, 48.33002853393555, 5.210777759552002, 6.384784698486328, 7.993068695068359, 675.1539306640625, 906.002685546875, 120.99412536621094, 261.83026123046875, 1334.746337890625, 20.01848793029785, 1310.9515380859375, 1172.9295654296875, 386.4091491699219, 356.3420715332031, 1193.0113525390625, 842.3148193359375, 369.1240539550781, 499.7746887207031, 613.1707153320312, 1747.9554443359375, 218.95301818847656, 489.1136474609375, 189.91555786132812, 597.0779418945312, 168.2468719482422, 769.4053344726562, 939.4169311523438, 4453.1298828125, 794.7815551757812, 824.8465576171875, 483.94464111328125, 713.9547729492188, 1685.6800537109375, 4555.39453125, 3497.681640625, 4745.07275390625, 1329.4229736328125, 1371.2386474609375, 1381.000732421875, 1399.632568359375, 3321.947021484375, 1393.3681640625, 3298.6376953125, 1502.4656982421875, 1429.5496826171875, 4121.73583984375, 877.9202270507812, 1446.9521484375, 1587.00244140625, 994.1641235351562, 1105.6243896484375, 1436.7838134765625, 1484.679931640625, 1.6066279411315918, 1.6066346168518066, 1.6085208654403687, 3.071563243865967, 1.6075732707977295, 1.6079216003417969, 3.7375104427337646, 4.394378185272217, 2.923905611038208, 1.6079120635986328, 3.0719242095947266, 5.046989440917969, 3.078289270401001, 1.6080758571624756, 1.6084907054901123, 7.995143413543701, 1.6085160970687866, 3.076991081237793, 5.703708648681641, 20.479833602905273, 5.856700420379639, 3.7384722232818604, 5.865997314453125, 2.2656140327453613, 19.18094253540039, 2.923739433288574, 118.03436279296875, 3.0769712924957275, 6.515477657318115, 5.207698822021484, 42.27556228637695, 5.866206169128418, 1502.4656982421875, 291.41656494140625, 16.684072494506836, 603.4786376953125, 824.8465576171875, 164.61705017089844, 72.83367919921875, 436.5836486816406, 723.0911254882812, 112.04839324951172, 641.7267456054688, 572.3843994140625, 428.0137023925781, 788.7403564453125, 343.4256896972656, 321.162841796875, 1248.288330078125, 3298.6376953125, 1341.820068359375, 1334.746337890625, 405.6078796386719, 1053.60400390625, 872.0297241210938, 797.4859619140625, 355.9156494140625, 451.7928161621094, 1105.6243896484375, 938.8221435546875, 772.4506225585938, 4745.07275390625, 4555.39453125, 1310.9515380859375, 794.7815551757812, 654.41064453125, 4121.73583984375, 1193.0113525390625, 1172.9295654296875, 3497.681640625, 1587.00244140625, 1484.679931640625, 1436.7838134765625, 1747.9554443359375, 3321.947021484375, 4453.1298828125, 1329.4229736328125, 1685.6800537109375, 1393.3681640625, 1429.5496826171875, 1446.9521484375, 1399.632568359375], \"loglift\": [30.0, 29.0, 28.0, 27.0, 26.0, 25.0, 24.0, 23.0, 22.0, 21.0, 20.0, 19.0, 18.0, 17.0, 16.0, 15.0, 14.0, 13.0, 12.0, 11.0, 10.0, 9.0, 8.0, 7.0, 6.0, 5.0, 4.0, 3.0, 2.0, 1.0, 1.2201000452041626, 1.1719000339508057, 1.1065000295639038, 1.0664000511169434, 1.0587999820709229, 1.0260000228881836, 0.9679999947547913, 0.9133999943733215, 0.9110999703407288, 0.90420001745224, 0.8867999911308289, 0.8561000227928162, 0.8535000085830688, 0.8406999707221985, 0.8266000151634216, 0.8084999918937683, 0.8016999959945679, 0.800000011920929, 0.7964000105857849, 0.791100025177002, 0.7615000009536743, 0.7591000199317932, 0.7578999996185303, 0.7541999816894531, 0.7472000122070312, 0.7469000220298767, 0.7448999881744385, 0.7422000169754028, 0.7414000034332275, 0.7350999712944031, 0.6334999799728394, 0.7088000178337097, 0.5275999903678894, 0.6786999702453613, 0.35989999771118164, 0.39890000224113464, 0.5098999738693237, 0.3898000121116638, 0.26750001311302185, 0.20340000092983246, 0.3422999978065491, 0.3799999952316284, 0.3666999936103821, 0.34380000829696655, 0.15790000557899475, 0.11249999701976776, 0.1266999989748001, 0.3131999969482422, 0.3100999891757965, 0.31369999051094055, 0.1809999942779541, 0.16500000655651093, 0.1639000028371811, 0.1842000037431717, 0.0052999998442828655, 0.13510000705718994, -0.021700000390410423, 0.24799999594688416, 0.14380000531673431, 0.1256999969482422, 0.19539999961853027, 0.17730000615119934, 0.08900000154972076, 0.037700001150369644, 0.03830000013113022, -0.0142000000923872, 0.08429999649524689, 0.008500000461935997, 0.0502999983727932, 0.16279999911785126, -0.04320000112056732, -0.06019999831914902, 0.029899999499320984, -0.13420000672340393, -0.010300000198185444, 0.013899999670684338, -0.17479999363422394, 1.1555999517440796, 1.0895999670028687, 1.0063999891281128, 1.00600004196167, 0.8881000280380249, 0.8834999799728394, 0.8431000113487244, 0.842199981212616, 0.791700005531311, 0.7876999974250793, 0.7867000102996826, 0.7696999907493591, 0.7671999931335449, 0.7634000182151794, 0.7576000094413757, 0.7390999794006348, 0.7353000044822693, 0.7347000241279602, 0.7271999716758728, 0.7182999849319458, 0.7099999785423279, 0.7095999717712402, 0.7055000066757202, 0.7041000127792358, 0.6951000094413757, 0.6948000192642212, 0.689300000667572, 0.6886000037193298, 0.6868000030517578, 0.6826000213623047, 0.669700026512146, 0.6439999938011169, 0.5770999789237976, 0.46869999170303345, 0.5745000243186951, 0.311599999666214, 0.42570000886917114, 0.3617999851703644, 0.37070000171661377, 0.21969999372959137, 0.4059999883174896, 0.30250000953674316, 0.27880001068115234, 0.30709999799728394, 0.44780001044273376, 0.3995000123977661, 0.23919999599456787, 0.1331000030040741, 0.35519999265670776, 0.22269999980926514, 0.29019999504089355, 0.1420000046491623, 0.20739999413490295, 0.22990000247955322, 0.18979999423027039, 0.33160001039505005, 0.24869999289512634, 0.16210000216960907, 0.22920000553131104, 0.02979999966919422, 0.06589999794960022, 0.2856000065803528, 0.1395999938249588, 0.13899999856948853, -0.002899999963119626, 0.2678999900817871, 0.2700999975204468, 0.13019999861717224, 0.07249999791383743, 0.030700000002980232, 0.041999999433755875, 0.0934000015258789, -0.07699999958276749, -0.016499999910593033, -0.009600000455975533, 0.034299999475479126, -0.10369999706745148, -0.1826000064611435, 1.3736000061035156, 1.0896999835968018, 1.0799000263214111, 1.0437999963760376, 1.0068000555038452, 0.9879000186920166, 0.911899983882904, 0.9092000126838684, 0.8959000110626221, 0.8852999806404114, 0.885200023651123, 0.866599977016449, 0.8626000285148621, 0.8579999804496765, 0.8348000049591064, 0.822700023651123, 0.8216999769210815, 0.8169000148773193, 0.7946000099182129, 0.7793999910354614, 0.776199996471405, 0.7759000062942505, 0.7742999792098999, 0.7738000154495239, 0.772599995136261, 0.7696999907493591, 0.7694000005722046, 0.7651000022888184, 0.7574999928474426, 0.7540000081062317, 0.7003999948501587, 0.6834999918937683, 0.7246000170707703, 0.7387999892234802, 0.7271999716758728, 0.7346000075340271, 0.7430999875068665, 0.32280001044273376, 0.46549999713897705, 0.35899999737739563, 0.36959999799728394, 0.3253999948501587, 0.4244999885559082, 0.4032000005245209, 0.4074000120162964, 0.17020000517368317, 0.40299999713897705, 0.35850000381469727, 0.24220000207424164, 0.29679998755455017, 0.24289999902248383, 0.39169999957084656, 0.3587999939918518, 0.29809999465942383, 0.2215999960899353, 0.25369998812675476, 0.305400013923645, 0.13590000569820404, 0.04399999976158142, 0.18199999630451202, 0.13429999351501465, 0.18979999423027039, 0.3116999864578247, 0.1378999948501587, -0.04010000079870224, -0.07000000029802322, 0.07680000364780426, 0.22550000250339508, 0.12020000070333481, 0.07339999824762344, -0.20640000700950623, 0.04659999907016754, 0.15479999780654907, -0.37779998779296875, 0.00279999990016222, -0.006099999882280827, -0.11410000175237656, -0.1395999938249588, 0.12479999661445618, 0.10339999943971634, -0.1647000014781952, -0.34779998660087585, -0.2809999883174896, 1.309499979019165, 1.284999966621399, 1.1225999593734741, 1.0938999652862549, 1.0247000455856323, 1.0217000246047974, 0.9986000061035156, 0.9789000153541565, 0.9175000190734863, 0.9172999858856201, 0.892799973487854, 0.8479999899864197, 0.8248000144958496, 0.8155999779701233, 0.7882999777793884, 0.7875999808311462, 0.7803999781608582, 0.7760000228881836, 0.7652999758720398, 0.7627000212669373, 0.7526999711990356, 0.7404999732971191, 0.739799976348877, 0.7358999848365784, 0.7343000173568726, 0.7336999773979187, 0.7281000018119812, 0.7246000170707703, 0.7195000052452087, 0.718500018119812, 0.7172999978065491, 0.6985999941825867, 0.6996999979019165, 0.48080000281333923, 0.4433000087738037, 0.5368000268936157, 0.4323999881744385, 0.6036999821662903, 0.27970001101493835, 0.37229999899864197, 0.33799999952316284, 0.32179999351501465, 0.454800009727478, 0.18170000612735748, 0.3215000033378601, 0.14630000293254852, 0.12919999659061432, 0.39480000734329224, 0.3122999966144562, 0.24779999256134033, 0.22339999675750732, 0.22210000455379486, 0.24889999628067017, 0.045899998396635056, 0.24330000579357147, 0.31949999928474426, 0.12049999833106995, 0.16110000014305115, 0.2037000060081482, 0.2337999939918518, 0.12129999697208405, 0.2029000073671341, -0.09109999984502792, 0.22599999606609344, 0.18619999289512634, 0.06679999828338623, -0.131400004029274, 0.048500001430511475, 0.03460000082850456, -0.22030000388622284, 0.02590000070631504, 0.08370000123977661, -0.02250000089406967, -0.09860000014305115, -0.0786999985575676, -0.1120000034570694, 0.032099999487400055, -0.13910000026226044, 1.1180000305175781, 1.080299973487854, 1.0647000074386597, 0.9581999778747559, 0.951200008392334, 0.9348999857902527, 0.9253000020980835, 0.8519999980926514, 0.8392000198364258, 0.838699996471405, 0.8324000239372253, 0.819599986076355, 0.8105999827384949, 0.7756999731063843, 0.774399995803833, 0.7718999981880188, 0.7695000171661377, 0.7530999779701233, 0.7526000142097473, 0.7487999796867371, 0.7440000176429749, 0.7254999876022339, 0.715499997138977, 0.707099974155426, 0.7067999839782715, 0.7062000036239624, 0.7003999948501587, 0.694100022315979, 0.6837999820709229, 0.6825000047683716, 0.6653000116348267, 0.6442000269889832, 0.6610000133514404, 0.5336999893188477, 0.33219999074935913, 0.40720000863075256, 0.4851999878883362, 0.5561000108718872, 0.46639999747276306, 0.43309998512268066, 0.3815000057220459, 0.3752000033855438, 0.4487999975681305, 0.2232999950647354, 0.4812000095844269, 0.3743000030517578, 0.2433999925851822, 0.3353999853134155, 0.09319999814033508, 0.3456000089645386, 0.24779999256134033, 0.31850001215934753, 0.09350000321865082, 0.3122999966144562, 0.22339999675750732, 0.30790001153945923, 0.1324000060558319, 0.13120000064373016, 0.20000000298023224, 0.24539999663829803, -0.06069999933242798, 0.21389999985694885, 0.05350000038743019, 0.15809999406337738, 0.2718000113964081, -0.11479999870061874, -0.10379999876022339, 0.10019999742507935, 0.20399999618530273, 0.16500000655651093, 0.20659999549388885, 0.040800001472234726, 0.06610000133514404, 0.038600001484155655, -0.210999995470047, 0.07419999688863754, 0.14740000665187836, -0.09470000118017197, -0.10869999974966049, -0.09319999814033508, -0.10400000214576721, -0.053199999034404755, -0.22990000247955322, -0.18140000104904175, -0.1632000058889389, -0.28859999775886536, -0.27570000290870667, 1.2640000581741333, 1.2473000288009644, 1.1562000513076782, 1.12909996509552, 1.1104999780654907, 1.04830002784729, 1.0365999937057495, 0.9531000256538391, 0.9509999752044678, 0.9469000101089478, 0.8755000233650208, 0.8585000038146973, 0.8565000295639038, 0.8532999753952026, 0.8172000050544739, 0.8166000247001648, 0.8102999925613403, 0.7950000166893005, 0.7523000240325928, 0.7480999827384949, 0.7384999990463257, 0.729200005531311, 0.7264999747276306, 0.7028999924659729, 0.7027000188827515, 0.7017999887466431, 0.6862999796867371, 0.6855999827384949, 0.6830999851226807, 0.6812999844551086, 0.6789000034332275, 0.6662999987602234, 0.6133999824523926, 0.53329998254776, 0.4690000116825104, 0.6158999800682068, 0.5044999718666077, 0.24809999763965607, 0.39089998602867126, 0.34130001068115234, 0.524399995803833, 0.21459999680519104, 0.35510000586509705, 0.3301999866962433, 0.45739999413490295, 0.37610000371932983, 0.2386000007390976, 0.11630000174045563, 0.23090000450611115, 0.40869998931884766, 0.24040000140666962, 0.3418999910354614, 0.33820000290870667, 0.03280000016093254, 0.3301999866962433, 0.16990000009536743, 0.16089999675750732, 0.3057999908924103, 0.16940000653266907, 0.13860000669956207, -0.04800000041723251, 0.10270000249147415, 0.24210000038146973, 0.18770000338554382, 0.2745000123977661, 0.07000000029802322, -0.10270000249147415, 0.04690000042319298, 0.05299999937415123, 0.17839999496936798, -0.14800000190734863, 0.20110000669956207, -0.013299999758601189, -0.004900000058114529, 0.017000000923871994, 0.0731000006198883, 0.09950000047683716, -0.10429999977350235, -0.20759999752044678, -0.011699999682605267, -0.05000000074505806, -0.14000000059604645, -0.14720000326633453, -0.10939999669790268, -0.25290000438690186, 1.3068000078201294, 1.2796000242233276, 1.1103999614715576, 1.0595999956130981, 0.9998000264167786, 0.9973999857902527, 0.9850000143051147, 0.9749000072479248, 0.9484999775886536, 0.906000018119812, 0.875, 0.8568999767303467, 0.84579998254776, 0.8392999768257141, 0.8353000283241272, 0.817300021648407, 0.8116999864578247, 0.7821000218391418, 0.7771000266075134, 0.7742999792098999, 0.7698000073432922, 0.7694000005722046, 0.7651000022888184, 0.7548999786376953, 0.7530999779701233, 0.7506999969482422, 0.7328000068664551, 0.7328000068664551, 0.7286999821662903, 0.7170000076293945, 0.703000009059906, 0.6820999979972839, 0.6597999930381775, 0.39640000462532043, 0.30399999022483826, 0.5180000066757202, 0.48089998960494995, 0.48669999837875366, 0.47690001130104065, 0.4325999915599823, 0.4683000147342682, 0.14239999651908875, 0.42160001397132874, 0.41370001435279846, 0.41999998688697815, 0.3149999976158142, 0.4465000033378601, 0.25130000710487366, 0.275299996137619, 0.37860000133514404, 0.1467999964952469, 0.008700000122189522, 0.1306000053882599, 0.24539999663829803, 0.3176000118255615, 0.15600000321865082, 0.08049999922513962, 0.22450000047683716, 0.04529999941587448, 0.1899999976158142, 0.2597000002861023, 0.29600000381469727, 0.12330000102519989, 0.12939999997615814, 0.08619999885559082, -0.19850000739097595, 0.027000000700354576, 0.05889999866485596, 0.10830000042915344, -0.18569999933242798, 0.003100000089034438, 0.02930000051856041, -0.2937000095844269, 0.04010000079870224, -0.014100000262260437, 0.04280000180006027, -0.34439998865127563, 0.07599999755620956, -0.06790000200271606, 0.039000000804662704, 0.07670000195503235, -0.17470000684261322, -0.05620000138878822, -0.12720000743865967, -0.06780000030994415, -0.1454000025987625, -0.1940000057220459, -0.31700000166893005, -0.20640000700950623, 1.559000015258789, 1.4539999961853027, 1.1859999895095825, 1.1338000297546387, 1.1136000156402588, 1.0083999633789062, 0.9984999895095825, 0.9918000102043152, 0.9228000044822693, 0.9115999937057495, 0.9060999751091003, 0.9021999835968018, 0.896399974822998, 0.895799994468689, 0.8916000127792358, 0.8611000180244446, 0.8583999872207642, 0.8518999814987183, 0.8474000096321106, 0.8464999794960022, 0.8349000215530396, 0.8313999772071838, 0.8187000155448914, 0.7991999983787537, 0.7982000112533569, 0.7946000099182129, 0.7940000295639038, 0.7907000184059143, 0.7742999792098999, 0.7728000283241272, 0.7200999855995178, 0.7480000257492065, 0.4674000144004822, 0.7182000279426575, 0.5271000266075134, 0.4702000021934509, 0.5670999884605408, 0.5317999720573425, 0.38670000433921814, 0.41029998660087585, 0.3102000057697296, 0.3422999978065491, 0.33090001344680786, 0.3052999973297119, 0.3547999858856201, 0.27219998836517334, 0.2854999899864197, 0.12380000203847885, 0.21850000321865082, 0.3596000075340271, 0.1949000060558319, 0.27549999952316284, 0.2912999987602234, 0.010200000368058681, 0.33219999074935913, 0.3199999928474426, 0.1477999985218048, -0.07440000027418137, 0.290800005197525, -0.0828000009059906, 0.24070000648498535, -0.12520000338554382, 0.24639999866485596, 0.10440000146627426, -0.1535000056028366, -9.999999747378752e-05, 0.11500000208616257, -0.010300000198185444, -0.2329999953508377, 0.017400000244379044, -0.00839999970048666, 0.04729999974370003, -0.04560000076889992, -0.1339000016450882, 0.07590000331401825, -0.006300000008195639, -0.10620000213384628, -0.28459998965263367, -0.18700000643730164, -0.188400000333786, -0.19869999587535858, 1.4485000371932983, 1.1104999780654907, 1.077299952507019, 1.075700044631958, 1.0666999816894531, 1.0571999549865723, 1.0563000440597534, 1.051200032234192, 0.9535999894142151, 0.945900022983551, 0.9412000179290771, 0.9064000248908997, 0.9043999910354614, 0.9010999798774719, 0.8892999887466431, 0.8787999749183655, 0.8740000128746033, 0.8686000108718872, 0.8615000247955322, 0.8547999858856201, 0.8458999991416931, 0.8445000052452087, 0.8258000016212463, 0.8216000199317932, 0.8173999786376953, 0.8105999827384949, 0.8076000213623047, 0.7890999913215637, 0.7843000292778015, 0.7839000225067139, 0.7746999859809875, 0.7718999981880188, 0.7670000195503235, 0.5515999794006348, 0.4779999852180481, 0.5823000073432922, 0.5202999711036682, 0.36890000104904175, 0.6955000162124634, 0.35910001397132874, 0.3481000065803528, 0.4097999930381775, 0.414000004529953, 0.28119999170303345, 0.301800012588501, 0.3815000057220459, 0.3467000126838684, 0.29339998960494995, 0.16529999673366547, 0.40639999508857727, 0.30169999599456787, 0.4092000126838684, 0.2524000108242035, 0.4223000109195709, 0.20659999549388885, 0.17270000278949738, -0.07129999995231628, 0.19689999520778656, 0.19059999287128448, 0.27219998836517334, 0.2087000012397766, 0.0494999997317791, -0.1265999972820282, -0.08910000324249268, -0.14579999446868896, 0.07289999723434448, 0.05530000105500221, 0.051600001752376556, 0.044599998742341995, -0.1860000044107437, 0.027499999850988388, -0.20810000598430634, 0.00019999999494757503, 0.013399999588727951, -0.3431999981403351, 0.1363999992609024, -0.06499999761581421, -0.11289999634027481, 0.0560000017285347, -0.015799999237060547, -0.26739999651908875, -0.37630000710487366, 1.503600001335144, 1.5027999877929688, 1.1160999536514282, 1.0960999727249146, 1.0925999879837036, 1.0566999912261963, 1.0077999830245972, 0.9697999954223633, 0.9509000182151794, 0.9376000165939331, 0.9057000279426575, 0.8615999817848206, 0.8442999720573425, 0.8388000130653381, 0.8269000053405762, 0.8252000212669373, 0.8100000023841858, 0.8059999942779541, 0.801800012588501, 0.8014000058174133, 0.794700026512146, 0.7900000214576721, 0.7889000177383423, 0.7775999903678894, 0.775600016117096, 0.7739999890327454, 0.7712000012397766, 0.7687000036239624, 0.7506999969482422, 0.7501999735832214, 0.7188000082969666, 0.7477999925613403, 0.45899999141693115, 0.4927000105381012, 0.6682999730110168, 0.4099000096321106, 0.3734000027179718, 0.4851999878883362, 0.5490000247955322, 0.38499999046325684, 0.3393999934196472, 0.5037999749183655, 0.3434000015258789, 0.3422999978065491, 0.36570000648498535, 0.288100004196167, 0.376800000667572, 0.382099986076355, 0.210099995136261, 0.0803999975323677, 0.1965000033378601, 0.19300000369548798, 0.34150001406669617, 0.2092999964952469, 0.23090000450611115, 0.2281000018119812, 0.3483999967575073, 0.31119999289512634, 0.1712000072002411, 0.18870000541210175, 0.20029999315738678, -0.10830000042915344, -0.13670000433921814, 0.09570000320672989, 0.19200000166893005, 0.2281000018119812, -0.19339999556541443, 0.09130000323057175, 0.08049999922513962, -0.19380000233650208, 0.0007999999797903001, -0.008799999952316284, -0.014299999922513962, -0.07739999890327454, -0.29750001430511475, -0.43810001015663147, 0.0015999999595806003, -0.09619999676942825, -0.030400000512599945, -0.048900000751018524, -0.17970000207424164, -0.20819999277591705], \"logprob\": [30.0, 29.0, 28.0, 27.0, 26.0, 25.0, 24.0, 23.0, 22.0, 21.0, 20.0, 19.0, 18.0, 17.0, 16.0, 15.0, 14.0, 13.0, 12.0, 11.0, 10.0, 9.0, 8.0, 7.0, 6.0, 5.0, 4.0, 3.0, 2.0, 1.0, -10.636300086975098, -10.684399604797363, -10.752699851989746, -10.598099708557129, -11.448800086975098, -10.189499855041504, -10.534700393676758, -10.752099990844727, -11.254300117492676, -10.955400466918945, -11.024100303649902, -11.651200294494629, -10.180399894714355, -11.020099639892578, -11.033100128173828, -11.05150032043457, -11.707599639892578, -11.058300018310547, -11.062899589538574, -11.06820011138916, -11.097999572753906, -11.749300003051758, -10.905699729919434, -9.93120002746582, -11.163800239562988, -11.41819953918457, -11.115500450134277, -11.765299797058105, -11.117400169372559, -10.97350025177002, -7.588799953460693, -10.236200332641602, -6.307199954986572, -9.942099571228027, -5.495299816131592, -6.188799858093262, -7.674799919128418, -6.201399803161621, -4.60890007019043, -4.380000114440918, -6.158699989318848, -6.5690999031066895, -6.4766998291015625, -6.473499774932861, -4.725599765777588, -4.5482001304626465, -4.698200225830078, -6.386000156402588, -6.413700103759766, -6.545000076293945, -5.5802001953125, -5.51669979095459, -5.5507001876831055, -5.745100021362305, -4.555300235748291, -5.4197001457214355, -4.541500091552734, -6.174099922180176, -5.610400199890137, -5.615099906921387, -5.982500076293945, -5.962200164794922, -5.5808000564575195, -5.480800151824951, -5.6691999435424805, -5.629300117492676, -5.878799915313721, -5.736700057983398, -5.851399898529053, -6.0883002281188965, -5.849400043487549, -5.848400115966797, -5.946599960327148, -5.853799819946289, -5.978799819946289, -6.010799884796143, -5.957699775695801, -11.352499961853027, -11.418700218200684, -10.852499961853027, -11.502599716186523, -11.61989974975586, -10.780099868774414, -11.014699935913086, -10.371899604797363, -11.715700149536133, -11.069899559020996, -9.913900375366211, -11.738499641418457, -11.398599624633789, -11.093600273132324, -11.750900268554688, -11.426300048828125, -11.772700309753418, -11.77299976348877, -11.183300018310547, -11.139399528503418, -11.149800300598145, -11.200799942016602, -10.628800392150879, -11.155599594116211, -11.164199829101562, -11.813300132751465, -11.168899536132812, -10.675100326538086, -11.821000099182129, -11.82509994506836, -10.256099700927734, -9.305500030517578, -7.810200214385986, -6.102399826049805, -8.744500160217285, -4.349100112915039, -6.366399765014648, -5.852099895477295, -6.068699836730957, -4.30019998550415, -6.8119001388549805, -5.599100112915039, -5.5040998458862305, -6.049699783325195, -7.742099761962891, -7.2418999671936035, -5.468299865722656, -4.450200080871582, -6.758999824523926, -5.522500038146973, -6.236199855804443, -4.741399765014648, -5.584799766540527, -5.85290002822876, -5.550899982452393, -6.6981000900268555, -6.0655999183654785, -5.3927001953125, -5.910299777984619, -4.530900001525879, -4.810500144958496, -6.4309000968933105, -5.530200004577637, -5.575500011444092, -4.8277997970581055, -6.363900184631348, -6.3831000328063965, -5.799099922180176, -5.688700199127197, -5.584400177001953, -5.639800071716309, -5.931300163269043, -5.5954999923706055, -5.736100196838379, -5.815800189971924, -5.942299842834473, -5.958899974822998, -5.970799922943115, -10.480299949645996, -10.765600204467773, -10.77560043334961, -10.81190013885498, -10.849100112915039, -11.51729965209961, -10.418800354003906, -11.596099853515625, -10.960399627685547, -11.619999885559082, -11.277600288391113, -11.639599800109863, -10.126500129699707, -11.647199630737305, -10.828300476074219, -10.678500175476074, -11.035499572753906, -10.126199722290039, -11.71150016784668, -10.58240032196045, -11.08080005645752, -11.132800102233887, -10.889399528503418, -11.083399772644043, -10.238100051879883, -11.086799621582031, -11.087699890136719, -11.091300010681152, -10.743900299072266, -10.909500122070312, -8.402899742126465, -8.22350025177002, -9.567999839782715, -10.294099807739258, -10.215700149536133, -10.37279987335205, -10.588000297546387, -4.237800121307373, -6.35830020904541, -5.496200084686279, -5.781300067901611, -5.289700031280518, -6.515699863433838, -6.3125, -6.798099994659424, -4.413099765777588, -6.7820000648498535, -6.487400054931641, -5.511899948120117, -6.031599998474121, -5.657599925994873, -6.9984002113342285, -6.733799934387207, -6.263899803161621, -5.754899978637695, -6.037499904632568, -6.491600036621094, -5.382599830627441, -4.839399814605713, -5.786499977111816, -5.6269001960754395, -5.950300216674805, -6.670199871063232, -5.763800144195557, -4.864999771118164, -4.946400165557861, -5.604899883270264, -6.2546000480651855, -5.842800140380859, -5.714900016784668, -4.867099761962891, -5.698699951171875, -6.047599792480469, -4.89769983291626, -5.780099868774414, -5.812300205230713, -5.833700180053711, -5.847099781036377, -6.082300186157227, -6.072199821472168, -5.956900119781494, -5.902599811553955, -6.021699905395508, -11.19789981842041, -11.223400115966797, -10.211199760437012, -11.414999961853027, -10.88599967956543, -10.837800025939941, -10.86240005493164, -10.880599975585938, -10.416199684143066, -10.942000389099121, -10.965900421142578, -11.660099983215332, -11.03499984741211, -11.692099571228027, -11.070300102233887, -9.881999969482422, -10.32859992980957, -11.0826997756958, -11.093000411987305, -11.745499610900879, -11.754599571228027, -11.120499610900879, -10.474599838256836, -10.478799819946289, -10.97350025177002, -10.932600021362305, -11.780200004577637, -9.169699668884277, -9.950200080871582, -10.947799682617188, -10.496999740600586, -8.677399635314941, -9.921199798583984, -5.576700210571289, -6.027900218963623, -7.627099990844727, -6.119900226593018, -8.94729995727539, -5.275100231170654, -6.4008002281188965, -6.011899948120117, -5.929200172424316, -7.394400119781494, -4.643199920654297, -6.07420015335083, -4.514400005340576, -4.390600204467773, -6.877600193023682, -6.167699813842773, -5.653800010681152, -5.517399787902832, -5.570099830627441, -5.833899974822998, -4.514800071716309, -5.8968000411987305, -6.445700168609619, -5.3979997634887695, -5.768199920654297, -6.010200023651123, -6.239799976348877, -5.661600112915039, -6.100399971008301, -4.674499988555908, -6.213500022888184, -6.120500087738037, -5.694399833679199, -5.007800102233887, -5.658999919891357, -5.647200107574463, -5.103799819946289, -5.719299793243408, -5.884900093078613, -5.776599884033203, -5.713699817657471, -5.798299789428711, -5.826499938964844, -5.9309000968933105, -5.927299976348877, -10.7391996383667, -10.583999633789062, -11.099200248718262, -10.54419994354248, -10.038599967956543, -10.922599792480469, -10.086099624633789, -11.006400108337402, -10.827099800109863, -10.825599670410156, -11.024100303649902, -11.687800407409668, -11.045900344848633, -11.732799530029297, -10.494199752807617, -10.496999740600586, -9.865099906921387, -11.75469970703125, -10.749899864196777, -10.957900047302246, -10.758399963378906, -11.440699577331543, -10.053299903869629, -11.800700187683105, -11.00059986114502, -10.958900451660156, -11.807600021362305, -11.216500282287598, -11.480299949645996, -11.176600456237793, -10.666999816894531, -9.990699768066406, -10.552900314331055, -8.235899925231934, -4.551300048828125, -5.841400146484375, -7.582600116729736, -8.823399543762207, -7.7170000076293945, -7.3368000984191895, -6.711100101470947, -6.695099830627441, -7.643599987030029, -5.3917999267578125, -8.04069995880127, -6.997600078582764, -5.674099922180176, -6.635499954223633, -4.490200042724609, -6.773499965667725, -5.913300037384033, -6.536600112915039, -4.731400012969971, -6.663000106811523, -5.954500198364258, -6.7332000732421875, -5.575099945068359, -5.660999774932861, -6.09119987487793, -6.383800029754639, -4.621300220489502, -6.337299823760986, -5.501299858093262, -6.055799961090088, -6.653800010681152, -4.634699821472168, -4.764500141143799, -5.829100131988525, -6.311100006103516, -6.163400173187256, -6.345699787139893, -5.7133002281188965, -5.834400177001953, -5.749599933624268, -5.087399959564209, -6.008600234985352, -6.232399940490723, -5.814300060272217, -5.823200225830078, -5.854400157928467, -5.849299907684326, -5.954899787902832, -5.7484002113342285, -5.85129976272583, -5.946100234985352, -5.970399856567383, -6.016499996185303, -10.069899559020996, -10.612000465393066, -10.704099655151367, -10.534600257873535, -10.74940013885498, -10.455599784851074, -10.823200225830078, -10.957500457763672, -9.954400062561035, -11.562800407409668, -10.982399940490723, -10.25, -10.64780044555664, -11.00629997253418, -11.040399551391602, -11.34749984741211, -11.698200225830078, -11.06659984588623, -10.912699699401855, -11.760299682617188, -11.427599906921387, -10.404000282287598, -10.098400115966797, -11.156700134277344, -11.80620002746582, -11.806300163269043, -11.021499633789062, -11.479399681091309, -10.650799751281738, -11.827300071716309, -11.182600021362305, -10.728899955749512, -9.181300163269043, -7.644000053405762, -6.825900077819824, -9.701700210571289, -7.938000202178955, -4.412600040435791, -6.3246002197265625, -5.817800045013428, -8.400799751281738, -4.305200099945068, -6.430799961090088, -6.188799858093262, -7.636300086975098, -6.825099945068359, -5.544400215148926, -4.467100143432617, -5.575300216674805, -7.206299781799316, -5.722700119018555, -6.639100074768066, -6.679200172424316, -4.5278000831604, -6.712800025939941, -5.5843000411987305, -5.579899787902832, -6.629700183868408, -5.799099922180176, -5.7617998123168945, -4.872900009155273, -5.6168999671936035, -6.352399826049805, -6.151400089263916, -6.571400165557861, -5.67519998550415, -4.979100227355957, -5.634900093078613, -5.661600112915039, -6.171500205993652, -5.031400203704834, -6.270199775695801, -5.5680999755859375, -5.674799919128418, -5.744200229644775, -5.951600074768066, -6.061600208282471, -5.719399929046631, -5.726099967956543, -5.98829984664917, -5.96750020980835, -5.928199768066406, -5.9394001960754395, -5.964600086212158, -5.960400104522705, -10.554699897766113, -11.230999946594238, -10.751199722290039, -10.801899909973145, -10.861700057983398, -10.864399909973145, -11.18220043182373, -10.52929973602295, -10.912099838256836, -11.603599548339844, -11.634699821472168, -11.003899574279785, -11.013899803161621, -11.669400215148926, -9.991700172424316, -11.042799949645996, -11.047599792480469, -11.727299690246582, -11.083200454711914, -11.085200309753418, -10.446999549865723, -10.446100234985352, -11.743599891662598, -11.106499671936035, -10.110600471496582, -9.649499893188477, -8.937100410461426, -11.777000427246094, -10.77560043334961, -10.128399848937988, -9.982099533081055, -9.52750015258789, -9.16469955444336, -5.3180999755859375, -4.572400093078613, -7.526800155639648, -7.09660005569458, -7.231100082397461, -7.554599761962891, -7.172399997711182, -7.536799907684326, -4.377500057220459, -7.082799911499023, -7.185800075531006, -7.283100128173828, -6.4959001541137695, -7.629199981689453, -6.083899974822998, -6.423900127410889, -7.206399917602539, -5.6143999099731445, -4.816199779510498, -5.589000225067139, -6.322199821472168, -6.838600158691406, -6.0030999183654785, -5.589399814605713, -6.410399913787842, -5.473299980163574, -6.2494001388549805, -6.739200115203857, -6.906400203704834, -6.125199794769287, -6.161900043487549, -5.996600151062012, -4.859099864959717, -5.779200077056885, -5.909599781036377, -6.098899841308594, -5.069200038909912, -5.750999927520752, -5.871200084686279, -4.854300022125244, -5.922900199890137, -5.754799842834473, -5.933700084686279, -4.927800178527832, -6.0640997886657715, -5.749599933624268, -5.9857001304626465, -6.084400177001953, -5.729499816894531, -5.911399841308594, -5.834700107574463, -5.9695000648498535, -5.937600135803223, -5.939199924468994, -5.932199954986572, -5.99459981918335, -10.303099632263184, -10.408100128173828, -10.675000190734863, -10.72719955444336, -10.746899604797363, -11.501299858093262, -10.860199928283691, -10.869099617004395, -10.58240032196045, -10.94909954071045, -10.956299781799316, -10.765000343322754, -11.612700462341309, -10.96679973602295, -10.96720027923584, -9.088399887084961, -10.475299835205078, -11.008000373840332, -11.661999702453613, -10.657600402832031, -11.0246000289917, -11.677900314331055, -11.041399955749512, -10.867300033569336, -11.060999870300293, -11.064800262451172, -11.064900398254395, -11.069600105285645, -10.7298002243042, -10.334600448608398, -8.398300170898438, -10.178099632263184, -5.740499973297119, -9.813300132751465, -6.997700214385986, -6.607100009918213, -7.907899856567383, -7.638500213623047, -6.501999855041504, -6.752500057220459, -5.840700149536133, -6.155399799346924, -6.128200054168701, -5.89709997177124, -6.379300117492676, -5.657100200653076, -5.8755998611450195, -4.752600193023682, -5.501100063323975, -6.67140007019043, -5.4868998527526855, -6.224299907684326, -6.3531999588012695, -4.5503997802734375, -6.67080020904541, -6.6041998863220215, -5.559700012207031, -4.657700061798096, -6.4822998046875, -4.743500232696533, -6.310500144958496, -4.644999980926514, -6.341300010681152, -5.85860013961792, -4.978400230407715, -5.518599987030029, -5.9096999168396, -5.680200099945068, -5.116399765014648, -5.774799823760986, -5.722899913787842, -5.870200157165527, -5.833799839019775, -5.749000072479248, -6.083199977874756, -5.974800109863281, -5.889100074768066, -5.839399814605713, -5.932199954986572, -5.942500114440918, -5.939499855041504, -10.410499572753906, -9.6766996383667, -11.087300300598145, -10.42590045928955, -10.79010009765625, -10.800100326538086, -10.801400184631348, -10.614700317382812, -10.058099746704102, -10.91450023651123, -10.91510009765625, -10.950799942016602, -10.953300476074219, -10.955400466918945, -11.27560043334961, -11.62969970703125, -11.036299705505371, -10.990099906921387, -10.640800476074219, -10.648500442504883, -10.486100196838379, -10.079700469970703, -11.032899856567383, -11.037099838256836, -10.54580020904541, -11.697600364685059, -10.69480037689209, -11.376299858093262, -11.723199844360352, -8.322799682617188, -10.559300422668457, -10.358799934387207, -10.139100074768066, -5.918099880218506, -5.697700023651123, -7.6066999435424805, -6.8968000411987305, -5.419300079345703, -9.29259967803955, -5.4471001625061035, -5.569399833679199, -6.618000030517578, -6.694799900054932, -5.61929988861084, -5.946800231933594, -6.6921000480651855, -6.423799991607666, -6.27269983291626, -5.3531999588012695, -7.1894001960754395, -6.4903998374938965, -7.32889986038208, -6.3403000831604, -7.4369001388549805, -6.132500171661377, -5.966700077056885, -4.654600143432617, -6.109799861907959, -6.07889986038208, -6.530600070953369, -6.2052001953125, -5.505300045013428, -4.68720006942749, -4.913899898529053, -4.6656999588012695, -5.719299793243408, -5.705900192260742, -5.702600002288818, -5.696199893951416, -5.062399864196777, -5.717800140380859, -5.0914998054504395, -5.6697001457214355, -5.706200122833252, -5.003900051116943, -6.070700168609619, -5.772500038146973, -5.728000164031982, -6.026800155639648, -5.992400169372559, -5.98199987411499, -6.058000087738037, -11.006999969482422, -11.007800102233887, -11.39330005645752, -10.766400337219238, -11.417400360107422, -11.453100204467773, -10.658499717712402, -10.534600257873535, -10.96090030670166, -11.572199821472168, -10.956700325012207, -10.504300117492676, -11.015999794006348, -11.670900344848633, -11.682499885559082, -10.080699920654297, -11.699399948120117, -11.054699897766113, -10.441800117492676, -9.163900375366211, -10.42240047454834, -10.876099586486816, -10.426600456237793, -11.389200210571289, -9.255200386047363, -11.137900352478027, -7.442500114440918, -11.092100143432617, -10.359800338745117, -10.584400177001953, -8.521699905395508, -10.467700004577637, -5.2108001708984375, -6.817299842834473, -9.501999855041504, -6.172100067138672, -5.896100044250488, -7.395899772644043, -8.147600173950195, -6.5208001136779785, -6.061800003051758, -7.76200008392334, -6.17710018157959, -6.292600154876709, -6.559899806976318, -6.026199817657471, -6.768899917602539, -6.830699920654297, -5.645100116729736, -4.803100109100342, -5.58650016784668, -5.595200061798096, -6.637800216674805, -5.815400123596191, -5.982999801635742, -6.075099945068359, -6.76170015335083, -6.560200214385986, -5.805300235748291, -5.951399803161621, -6.134799957275391, -4.628200054168701, -4.697400093078613, -5.7104997634887695, -6.114699840545654, -6.272900104522705, -4.854100227355957, -5.809100151062012, -5.836999893188477, -5.018700122833252, -5.614299774169922, -5.6905999183654785, -5.728899955749512, -5.595900058746338, -5.173999786376953, -5.021399974822998, -5.7906999588012695, -5.651000022888184, -5.775700092315674, -5.768499851226807, -5.887199878692627, -5.948999881744385]}, \"token.table\": {\"Topic\": [1, 2, 3, 4, 5, 6, 7, 8, 9, 10, 1, 2, 3, 4, 5, 6, 7, 8, 9, 10, 1, 2, 4, 6, 7, 8, 10, 10, 3, 5, 9, 1, 2, 3, 4, 5, 6, 7, 8, 9, 10, 1, 5, 1, 2, 3, 4, 5, 6, 7, 8, 9, 10, 8, 2, 3, 6, 7, 1, 2, 3, 4, 5, 6, 7, 8, 9, 10, 3, 4, 5, 4, 8, 9, 1, 2, 3, 4, 5, 6, 7, 8, 9, 10, 8, 10, 1, 2, 3, 4, 5, 6, 7, 8, 9, 10, 4, 7, 9, 1, 2, 3, 4, 5, 6, 7, 8, 9, 10, 2, 3, 5, 6, 1, 2, 3, 4, 5, 6, 7, 8, 9, 10, 1, 2, 3, 4, 5, 6, 7, 8, 9, 10, 1, 2, 3, 4, 5, 6, 7, 8, 9, 10, 9, 1, 2, 3, 4, 5, 6, 7, 8, 9, 10, 1, 2, 3, 4, 6, 7, 8, 10, 1, 2, 3, 4, 5, 6, 7, 8, 9, 10, 3, 9, 2, 1, 2, 3, 1, 2, 3, 4, 6, 8, 10, 1, 1, 2, 3, 4, 5, 6, 7, 8, 9, 10, 1, 2, 3, 4, 5, 6, 7, 8, 9, 10, 1, 2, 3, 4, 5, 6, 7, 8, 9, 10, 2, 4, 5, 6, 8, 10, 1, 2, 7, 1, 2, 3, 4, 5, 6, 7, 8, 9, 10, 1, 2, 3, 4, 5, 6, 7, 8, 9, 10, 1, 2, 3, 4, 5, 6, 7, 8, 9, 10, 1, 9, 10, 1, 2, 3, 4, 5, 6, 7, 8, 9, 10, 1, 2, 3, 4, 5, 6, 7, 8, 9, 10, 1, 2, 3, 10, 8, 6, 7, 8, 1, 2, 4, 5, 6, 7, 8, 10, 5, 2, 3, 4, 6, 8, 1, 2, 3, 4, 5, 6, 7, 8, 9, 10, 1, 2, 3, 4, 5, 6, 7, 8, 9, 10, 8, 1, 10, 7, 8, 1, 2, 3, 4, 5, 6, 7, 8, 9, 10, 5, 9, 10, 1, 2, 3, 4, 5, 6, 7, 8, 9, 10, 1, 2, 1, 2, 4, 7, 8, 1, 2, 3, 4, 5, 6, 7, 8, 9, 10, 1, 2, 3, 4, 5, 6, 7, 8, 9, 10, 8, 9, 10, 1, 2, 3, 4, 5, 6, 7, 8, 9, 10, 1, 2, 3, 4, 5, 6, 7, 8, 9, 10, 5, 4, 8, 1, 2, 3, 4, 5, 6, 7, 8, 9, 10, 1, 2, 3, 4, 5, 6, 7, 8, 9, 10, 3, 5, 7, 9, 4, 9, 1, 2, 3, 4, 5, 6, 7, 8, 9, 10, 1, 2, 3, 4, 5, 6, 7, 8, 9, 10, 1, 2, 3, 4, 5, 6, 7, 8, 9, 10, 3, 9, 5, 6, 2, 7, 8, 1, 2, 3, 4, 5, 6, 7, 8, 9, 10, 9, 1, 2, 3, 4, 5, 6, 7, 8, 9, 10, 4, 6, 8, 1, 2, 3, 4, 5, 6, 7, 8, 9, 10, 1, 2, 3, 4, 5, 6, 7, 8, 9, 10, 1, 2, 3, 4, 5, 6, 7, 8, 9, 10, 1, 2, 3, 4, 5, 6, 7, 8, 9, 10, 5, 3, 10, 1, 2, 3, 4, 5, 6, 7, 8, 9, 10, 1, 4, 9, 1, 2, 3, 4, 5, 6, 7, 8, 9, 10, 1, 2, 3, 4, 5, 6, 7, 8, 9, 10, 1, 2, 3, 4, 5, 6, 7, 8, 9, 10, 8, 1, 2, 3, 4, 5, 6, 7, 8, 10, 2, 1, 2, 3, 4, 5, 6, 7, 8, 9, 10, 1, 2, 3, 4, 5, 6, 7, 8, 9, 10, 3, 9, 4, 6, 1, 3, 1, 2, 3, 4, 5, 6, 7, 8, 10, 1, 7, 1, 2, 3, 4, 5, 6, 8, 9, 10, 1, 2, 3, 4, 5, 6, 7, 8, 9, 10, 1, 2, 3, 4, 5, 6, 7, 8, 9, 10, 1, 2, 3, 4, 5, 6, 7, 8, 9, 10, 1, 2, 3, 4, 5, 6, 7, 8, 9, 10, 1, 2, 3, 4, 5, 6, 7, 8, 9, 10, 1, 2, 3, 4, 5, 6, 7, 8, 9, 10, 2, 6, 1, 2, 3, 4, 5, 7, 10, 1, 3, 10, 1, 2, 3, 4, 5, 6, 7, 8, 9, 10, 4, 5, 1, 2, 9, 1, 2, 4, 6, 4, 6, 8, 9, 10, 1, 2, 3, 4, 5, 7, 8, 9, 10, 1, 3, 1, 2, 3, 4, 5, 6, 7, 8, 9, 10, 1, 2, 3, 4, 5, 6, 7, 8, 9, 10, 2, 1, 2, 3, 4, 5, 6, 7, 8, 9, 10, 6, 8, 9, 1, 2, 3, 4, 6, 7, 3, 5, 6, 7, 9, 10, 1, 2, 3, 4, 5, 6, 7, 8, 9, 10, 1, 2, 3, 4, 5, 6, 7, 8, 9, 10, 1, 2, 3, 4, 5, 6, 7, 8, 9, 10, 1, 8, 1, 2, 3, 4, 5, 7, 9, 10, 2, 3, 1, 2, 4, 4, 1, 2, 3, 4, 5, 6, 7, 8, 9, 10, 1, 2, 3, 4, 5, 6, 7, 8, 9, 10, 1, 2, 3, 4, 5, 6, 7, 8, 9, 10, 1, 4, 1, 2, 3, 4, 5, 6, 7, 8, 9, 10, 1, 2, 3, 4, 5, 6, 7, 8, 9, 10, 1, 2, 3, 4, 5, 6, 7, 8, 9, 10, 1, 2, 3, 4, 5, 6, 7, 8, 9, 10, 1, 2, 3, 1, 2, 3, 4, 5, 6, 7, 8, 9, 10, 4, 5, 6, 8, 3, 9, 9, 1, 2, 3, 4, 5, 6, 7, 8, 9, 10, 8, 1, 2, 3, 4, 5, 6, 7, 8, 9, 10, 1, 2, 3, 4, 5, 6, 7, 8, 9, 10, 1, 2, 3, 4, 5, 6, 7, 8, 9, 10, 1, 2, 3, 4, 5, 6, 7, 8, 9, 10, 2, 4, 6, 1, 6, 1, 2, 3, 4, 5, 6, 7, 8, 9, 10, 1, 2, 3, 4, 5, 6, 7, 8, 9, 10, 1, 2, 3, 4, 5, 6, 7, 8, 9, 10, 5, 9, 1, 2, 3, 4, 5, 6, 7, 8, 9, 10, 1, 2, 3, 9, 1, 2, 3, 4, 6, 8, 9, 10, 1, 2, 3, 4, 5, 6, 7, 8, 9, 10, 1, 2, 3, 4, 5, 6, 7, 8, 9, 10, 4, 1, 2, 3, 4, 5, 6, 7, 8, 9, 10, 8, 1, 2, 3, 4, 5, 6, 7, 8, 9, 10, 10, 1, 2, 3, 4, 5, 6, 7, 8, 9, 10, 8, 3, 6, 3, 4, 5, 6, 7, 8, 9, 10, 1, 2, 3, 4, 6, 7, 8, 8, 1, 2, 3, 4, 5, 6, 7, 8, 9, 10, 1, 2, 3, 4, 5, 6, 7, 8, 9, 10, 1, 2, 3, 4, 5, 6, 7, 8, 9, 10, 2, 7, 1, 2, 4, 5, 6, 7, 8, 9, 10, 1, 2, 3, 4, 5, 6, 7, 8, 9, 10, 1, 2, 3, 4, 5, 6, 7, 8, 9, 10, 1, 2, 3, 4, 5, 6, 7, 8, 9, 10, 1, 2, 3, 4, 5, 6, 7, 8, 9, 10, 1, 2, 3, 4, 5, 6, 7, 8, 9, 10, 1, 3, 5, 7, 8, 9, 1, 2, 3, 4, 5, 6, 7, 8, 9, 10, 1, 2, 3, 4, 5, 6, 7, 8, 9, 10, 1, 2, 3, 4, 5, 6, 7, 8, 9, 10, 1, 2, 3, 4, 5, 6, 7, 8, 9, 10, 7, 1, 2, 3, 4, 5, 6, 7, 8, 9, 10, 6, 1, 2, 3, 4, 5, 6, 7, 8, 9, 10, 2, 3, 9, 4, 1, 4, 7, 8, 10, 1, 4, 8, 10, 1, 2, 3, 4, 5, 6, 7, 8, 9, 10, 1, 2, 3, 4, 5, 6, 7, 8, 9, 1, 4, 5, 6, 2, 5, 9, 10, 1, 5, 1, 2, 3, 4, 5, 6, 7, 8, 9, 10, 8, 6, 7, 8, 9, 7, 1, 2, 3, 4, 5, 6, 7, 8, 9, 10, 2, 3, 8, 1, 2, 3, 4, 5, 6, 8, 9, 2, 3, 5, 7, 9, 1, 2, 3, 4, 5, 6, 7, 8, 9, 10, 1, 2, 3, 4, 5, 6, 7, 8, 9, 10, 1, 4, 7, 9, 1, 2, 3, 4, 5, 6, 7, 8, 9, 10, 8, 1, 2, 3, 4, 5, 6, 7, 8, 9, 10, 1, 2, 3, 4, 5, 6, 7, 8, 9, 10, 1, 2, 5, 9, 10, 1, 2, 3, 4, 5, 6, 7, 8, 9, 10, 1, 2, 3, 4, 5, 6, 7, 8, 9, 10, 1, 3, 8, 1, 2, 10, 1, 2, 3, 4, 5, 6, 7, 8, 9, 10, 6, 1, 2, 3, 4, 5, 6, 7, 8, 9, 10, 7, 1, 2, 3, 4, 5, 6, 7, 8, 9, 10, 1, 2, 3, 4, 5, 6, 7, 8, 9, 10, 1, 2, 3, 4, 5, 6, 7, 8, 9, 10, 1, 2, 3, 4, 5, 6, 7, 8, 9, 10, 1, 2, 3, 4, 5, 6, 7, 8, 9, 10, 1, 2, 3, 4, 5, 6, 7, 8, 9, 10, 1, 2, 3, 4, 5, 6, 7, 8, 9, 10, 1, 9, 3, 1, 2, 3, 4, 5, 6, 7, 8, 9, 10, 7, 1, 2, 3, 4, 5, 6, 7, 8, 9, 10, 1, 2, 3, 4, 5, 6, 7, 8, 9, 10, 1, 2, 3, 4, 5, 6, 7, 8, 9, 10, 1, 2, 3, 4, 5, 6, 7, 8, 9, 10, 1, 2, 3, 4, 5, 6, 7, 8, 9, 10, 1, 6, 7, 9, 10, 4, 5, 10, 1, 2, 3, 4, 5, 6, 7, 8, 9, 10, 1, 2, 3, 4, 5, 6, 7, 8, 9, 10, 1, 2, 3, 4, 5, 6, 7, 8, 9, 10, 4, 6, 3, 4, 5, 1, 2, 3, 4, 5, 6, 7, 8, 9, 10, 1, 3, 7, 1, 4, 1, 2, 3, 4, 5, 6, 7, 8, 9, 10, 3, 9, 1, 2, 3, 4, 5, 6, 7, 8, 9, 10, 1, 6, 7, 1, 2, 3, 4, 5, 6, 7, 8, 9, 10, 4, 1, 2, 3, 4, 5, 6, 7, 8, 9, 10, 1, 2, 3, 4, 5, 6, 7, 8, 9, 10, 5, 1, 2, 3, 4, 5, 6, 7, 8, 9, 10, 4, 1, 2, 3, 4, 5, 6, 7, 8, 9, 10, 1, 2, 3, 4, 5, 6, 7, 8, 9, 10, 1, 2, 3, 4, 5, 6, 7, 8, 9, 10, 6, 2, 1, 2, 3, 4, 5, 6, 7, 8, 9, 10, 1, 2, 3, 4, 5, 6, 7, 8, 9, 10, 1, 2, 3, 4, 5, 6, 7, 8, 9, 10, 7, 3, 5, 1, 2, 3, 4, 5, 6, 7, 8, 9, 10, 1, 3, 7, 8, 8, 1, 2, 3, 4, 5, 6, 7, 8, 9, 10, 1, 2, 3, 4, 5, 6, 7, 8, 9, 10, 1, 2, 3, 4, 5, 6, 7, 8, 9, 10, 2, 3, 6, 8, 9, 10, 9, 1, 2, 3, 4, 5, 6, 7, 8, 9, 10, 1, 2, 3, 4, 5, 6, 7, 8, 9, 10, 3, 5, 1, 3, 6, 7, 9, 10, 2, 3, 8, 1, 1, 2, 3, 4, 5, 6, 7, 8, 9, 10, 1, 2, 3, 4, 5, 6, 7, 8, 9, 10, 1, 2, 3, 4, 5, 7, 8, 9, 1, 2, 3, 4, 5, 6, 7, 8, 9, 10, 3, 4, 6, 1, 2, 3, 4, 5, 6, 7, 8, 9, 10, 2, 6, 7, 4, 1, 3, 9, 1, 5, 1, 2, 3, 4, 5, 6, 7, 8, 9, 10, 1, 2, 3, 4, 5, 6, 7, 8, 9, 10, 1, 2, 3, 4, 5, 6, 7, 8, 9, 10, 5, 1, 2, 3, 4, 5, 6, 7, 8, 9, 10, 2, 3, 5, 6, 8, 9, 3, 5, 1, 2, 3, 4, 5, 6, 7, 8, 9, 10, 3, 6, 1, 2, 3, 4, 5, 6, 7, 8, 9, 10, 1, 2, 3, 4, 5, 6, 7, 8, 9, 10, 1, 2, 3, 4, 5, 6, 7, 10, 1, 2, 3, 4, 5, 6, 7, 8, 9, 10, 1, 2, 3, 4, 5, 6, 7, 8, 9, 10, 1, 4, 5, 6, 9, 1, 2, 3, 4, 5, 6, 7, 8, 9, 10, 1, 2, 3, 4, 5, 6, 7, 8, 9, 10, 3, 5, 1, 2, 3, 4, 5, 6, 7, 8, 9, 10, 1, 2, 3, 4, 5, 6, 7, 8, 9, 10, 1, 2, 3, 4, 5, 6, 7, 8, 9, 10, 1, 2, 3, 4, 5, 6, 7, 8, 9, 10, 3, 1, 2, 3, 4, 5, 6, 7, 8, 9, 10, 1, 2, 3, 4, 5, 6, 7, 8, 9, 10, 1, 6, 8, 2, 1, 2, 3, 4, 5, 6, 7, 8, 9, 10, 1, 2, 3, 4, 5, 6, 7, 8, 9, 10, 1, 2, 3, 4, 5, 6, 7, 8, 9, 10, 1, 2, 3, 4, 5, 6, 7, 8, 9, 10, 1, 2, 3, 4, 5, 6, 7, 8, 9, 10, 1, 2, 3, 4, 5, 6, 7, 9, 10, 1, 1, 2, 3, 4, 5, 6, 7, 8, 9, 10, 6, 5, 1, 2, 3, 4, 5, 6, 7, 8, 9, 10, 7, 8, 10, 8, 7, 1, 2, 3, 4, 5, 6, 7, 8, 9, 10, 8, 1, 2, 3, 4, 5, 6, 7, 8, 9, 10, 1, 2, 3, 4, 5, 6, 7, 8, 9, 10, 1, 2, 3, 4, 5, 6, 7, 8, 9, 10, 9, 5, 6, 8, 3, 1, 2, 3, 4, 5, 6, 7, 8, 9, 10, 1, 2, 3, 4, 5, 6, 7, 8, 9, 10, 1, 2, 3, 4, 5, 6, 7, 8, 9, 10, 1, 2, 3, 4, 5, 6, 7, 8, 9, 10, 6, 1, 2, 3, 4, 5, 6, 7, 8, 9, 10, 1, 2, 3, 4, 5, 6, 7, 8, 9, 10, 1, 2, 3, 4, 5, 6, 7, 8, 9, 10, 4, 6, 4, 9, 1, 2, 3, 4, 5, 6, 7, 8, 9, 10, 1, 2, 3, 4, 5, 6, 7, 8, 9, 10, 3, 1, 2, 3, 4, 5, 6, 7, 8, 9, 10, 1, 2, 3, 4, 5, 6, 7, 8, 9, 10, 3, 5, 7, 1, 2, 3, 4, 5, 6, 7, 8, 9, 10, 10, 1, 2, 3, 4, 5, 6, 7, 8, 9, 10, 1, 2, 3, 4, 5, 6, 7, 8, 9, 10, 1, 2, 3, 4, 5, 6, 7, 8, 9, 10, 8, 1, 2, 3, 4, 5, 6, 7, 8, 9, 10, 1, 2, 3, 4, 5, 6, 7, 8, 9, 10, 1, 2, 3, 4, 5, 6, 7, 8, 9, 10, 1, 2, 3, 4, 5, 6, 7, 8, 9, 10, 1, 2, 3, 4, 5, 6, 7, 8, 9, 10, 2, 1, 2, 5, 6, 7, 9, 1, 6, 1, 2, 3, 4, 5, 6, 7, 8, 9, 10, 1, 2, 3, 4, 5, 6, 7, 8, 9, 10, 1, 2, 3, 4, 5, 6, 7, 8, 9, 10, 3, 1, 2, 3, 4, 5, 6, 7, 8, 9, 10, 1, 2, 3, 4, 5, 6, 7, 8, 9, 10, 2, 1, 2, 3, 4, 5, 6, 7, 8, 9, 10, 1, 2, 3, 4, 5, 6, 7, 8, 9, 10, 1, 2, 3, 4, 5, 6, 7, 8, 9, 10, 2, 3, 1, 4, 2, 5, 1, 2, 3, 4, 5, 6, 7, 8, 9, 10, 1, 2, 3, 4, 5, 6, 7, 8, 9, 10, 1, 2, 3, 4, 5, 6, 7, 8, 9, 10, 1, 2, 3, 4, 5, 6, 7, 8, 9, 10, 1, 2, 3, 4, 5, 6, 7, 8, 9, 10, 1, 2, 3, 4, 5, 6, 7, 8, 9, 10, 1, 2, 3, 4, 5, 6, 7, 8, 9, 10, 1, 2, 3, 4, 5, 6, 7, 8, 9, 10, 1, 2, 3, 4, 5, 6, 7, 8, 9, 10, 2, 7, 3, 1, 2, 3, 4, 5, 6, 7, 8, 9, 10, 1, 2, 3, 4, 5, 6, 7, 8, 9, 10, 1, 3, 1, 3, 4, 5, 6, 7, 8, 9, 10, 7, 1, 2, 3, 4, 5, 6, 7, 8, 9, 10, 3, 9, 10, 5, 1, 2, 3, 4, 5, 6, 7, 8, 9, 10, 1, 2, 3, 4, 5, 6, 7, 8, 9, 10, 1, 2, 3, 4, 5, 6, 7, 8, 9, 10, 5, 7, 9, 10, 1, 2, 3, 4, 5, 6, 7, 8, 9, 10, 1, 2, 3, 4, 5, 6, 7, 8, 9, 10, 1, 2, 3, 4, 5, 6, 7, 8, 9, 10, 1, 2, 3, 4, 5, 6, 7, 8, 9, 10, 1, 2, 3, 4, 5, 6, 7, 8, 9, 10, 2, 1, 3, 7, 1, 2, 3, 4, 5, 6, 7, 8, 9, 10, 1, 2, 3, 4, 5, 6, 7, 8, 9, 10, 1, 2, 3, 4, 5, 6, 7, 8, 9, 10, 1, 2, 3, 4, 5, 6, 7, 8, 9, 10, 1, 2, 3, 5, 8, 10, 1, 2, 3, 4, 5, 6, 7, 8, 9, 10, 1, 2, 3, 4, 5, 6, 7, 8, 9, 10, 7, 1, 2, 3, 4, 5, 6, 7, 8, 9, 10, 3, 4, 8, 1, 1, 2, 3, 4, 5, 6, 7, 8, 9, 10, 1, 10, 10], \"Freq\": [0.10904298722743988, 0.10125420242547989, 0.0934654176235199, 0.11683177202939987, 0.10125420242547989, 0.07529158890247345, 0.09606168419122696, 0.13500560820102692, 0.10125420242547989, 0.07269532978534698, 0.112964928150177, 0.09331885725259781, 0.1326110064983368, 0.08840733766555786, 0.13752251863479614, 0.10068613290786743, 0.11050917208194733, 0.09331885725259781, 0.07121702283620834, 0.06139398366212845, 0.12758824229240417, 0.25517648458480835, 0.12758824229240417, 0.12758824229240417, 0.12758824229240417, 0.12758824229240417, 0.12758824229240417, 0.32499492168426514, 0.2270825207233429, 0.2270825207233429, 0.2270825207233429, 0.0937478095293045, 0.12708036601543427, 0.13958007097244263, 0.07916481792926788, 0.08958123624324799, 0.09166452288627625, 0.1312469244003296, 0.07916481792926788, 0.07916481792926788, 0.08958123624324799, 0.22710292041301727, 0.22710292041301727, 0.0645369440317154, 0.0645369440317154, 0.09680541604757309, 0.19361083209514618, 0.0645369440317154, 0.09680541604757309, 0.0645369440317154, 0.1290738880634308, 0.09680541604757309, 0.09680541604757309, 0.32437318563461304, 0.2268216758966446, 0.2268216758966446, 0.2268216758966446, 0.3245946764945984, 0.10679265856742859, 0.10679265856742859, 0.10374143719673157, 0.08314571529626846, 0.07933168858289719, 0.12509997189044952, 0.09763900190591812, 0.06407559663057327, 0.1342536211013794, 0.09916461259126663, 0.22686882317066193, 0.22686882317066193, 0.22686882317066193, 0.325063556432724, 0.325063556432724, 0.325063556432724, 0.11140987277030945, 0.09490470588207245, 0.11691159009933472, 0.14304476976394653, 0.0990309938788414, 0.0990309938788414, 0.10453271865844727, 0.08390125632286072, 0.0742732435464859, 0.07289781421422958, 0.3255288600921631, 0.3255288600921631, 0.0768149122595787, 0.10531076788902283, 0.13504557311534882, 0.0916823148727417, 0.12265606969594955, 0.07433701306581497, 0.10778866708278656, 0.08672651648521423, 0.09416021406650543, 0.10531076788902283, 0.22755105793476105, 0.22755105793476105, 0.44040536880493164, 0.10518834739923477, 0.12772871553897858, 0.07513453811407089, 0.09016144275665283, 0.06762108206748962, 0.15778252482414246, 0.09016144275665283, 0.0976748913526535, 0.0976748913526535, 0.08264798671007156, 0.19136688113212585, 0.19136688113212585, 0.19136688113212585, 0.19136688113212585, 0.07054049521684647, 0.1914670616388321, 0.12092656642198563, 0.08061771094799042, 0.08061771094799042, 0.11084935069084167, 0.09069491922855377, 0.09069491922855377, 0.06046328321099281, 0.10077213495969772, 0.07048537582159042, 0.17211546003818512, 0.10818686336278915, 0.09343410283327103, 0.07704215496778488, 0.10818686336278915, 0.1016300767660141, 0.11146525293588638, 0.06884618103504181, 0.08687732368707657, 0.09290511906147003, 0.13250401616096497, 0.10813546180725098, 0.10508939623832703, 0.07919780164957047, 0.094428151845932, 0.08681298047304153, 0.13250401616096497, 0.08072084188461304, 0.08528994023799896, 0.32384029030799866, 0.08233996480703354, 0.16467992961406708, 0.16467992961406708, 0.08233996480703354, 0.04116998240351677, 0.16467992961406708, 0.08233996480703354, 0.08233996480703354, 0.08233996480703354, 0.04116998240351677, 0.12981867790222168, 0.12981867790222168, 0.25963735580444336, 0.12981867790222168, 0.12981867790222168, 0.12981867790222168, 0.12981867790222168, 0.12981867790222168, 0.09610938280820847, 0.12356920540332794, 0.08237946778535843, 0.1098392978310585, 0.12356920540332794, 0.09610938280820847, 0.08237946778535843, 0.05491964891552925, 0.06864956021308899, 0.15102903544902802, 0.323706716299057, 0.323706716299057, 0.32418614625930786, 0.2668435573577881, 0.2668435573577881, 0.2668435573577881, 0.14201916754245758, 0.14201916754245758, 0.28403833508491516, 0.14201916754245758, 0.14201916754245758, 0.14201916754245758, 0.14201916754245758, 0.3245084881782532, 0.12777847051620483, 0.12412765622138977, 0.11317521333694458, 0.09857196360826492, 0.14603254199028015, 0.07301627099514008, 0.10587359219789505, 0.0912703350186348, 0.062063828110694885, 0.05476219952106476, 0.10786852985620499, 0.11218327283859253, 0.14885857701301575, 0.0992390438914299, 0.07766534388065338, 0.13159960508346558, 0.09276693314313889, 0.10355378687381744, 0.05393426492810249, 0.07550796866416931, 0.07385873794555664, 0.10762273520231247, 0.16670973598957062, 0.10340223461389542, 0.0780792385339737, 0.11184323579072952, 0.0949612408876419, 0.08863049000501633, 0.109732985496521, 0.06752799451351166, 0.15698863565921783, 0.15698863565921783, 0.15698863565921783, 0.15698863565921783, 0.15698863565921783, 0.15698863565921783, 0.17046484351158142, 0.17046484351158142, 0.17046484351158142, 0.11556358635425568, 0.10011696815490723, 0.11956826597452164, 0.11670777946710587, 0.07952147722244263, 0.08066567033529282, 0.09954486787319183, 0.09382390230894089, 0.11041471362113953, 0.08352615684270859, 0.1103600338101387, 0.09869596362113953, 0.1256130486726761, 0.1121545061469078, 0.09062083810567856, 0.11753792315721512, 0.10138767212629318, 0.09331254661083221, 0.07088164240121841, 0.07985400408506393, 0.10030123591423035, 0.10030123591423035, 0.10030123591423035, 0.10030123591423035, 0.10030123591423035, 0.10030123591423035, 0.2006024718284607, 0.10030123591423035, 0.10030123591423035, 0.10030123591423035, 0.22756348550319672, 0.22756348550319672, 0.22756348550319672, 0.10515308380126953, 0.16250930726528168, 0.09559371322393417, 0.09559371322393417, 0.08603434264659882, 0.0908140242099762, 0.08125465363264084, 0.09559371322393417, 0.10037339478731155, 0.0908140242099762, 0.07268554717302322, 0.10902832448482513, 0.07268554717302322, 0.07268554717302322, 0.07268554717302322, 0.07268554717302322, 0.18171387910842896, 0.10902832448482513, 0.10902832448482513, 0.10902832448482513, 0.19732816517353058, 0.19732816517353058, 0.19732816517353058, 0.19732816517353058, 0.3243251144886017, 0.26778164505958557, 0.26778164505958557, 0.26778164505958557, 0.20065908133983612, 0.20065908133983612, 0.10032954066991806, 0.10032954066991806, 0.10032954066991806, 0.10032954066991806, 0.10032954066991806, 0.10032954066991806, 0.32384052872657776, 0.17028985917568207, 0.17028985917568207, 0.17028985917568207, 0.17028985917568207, 0.17028985917568207, 0.13450360298156738, 0.07551079988479614, 0.10854677110910416, 0.09438849985599518, 0.12270504236221313, 0.13450360298156738, 0.07787051051855087, 0.07787051051855087, 0.09438849985599518, 0.08258993178606033, 0.1438712626695633, 0.10845679044723511, 0.11509700864553452, 0.11067019402980804, 0.10845679044723511, 0.09517636895179749, 0.06640211492776871, 0.05754850432276726, 0.07525573670864105, 0.12395062297582626, 0.32543307542800903, 0.324855774641037, 0.324855774641037, 0.32532668113708496, 0.32532668113708496, 0.10565529763698578, 0.09549613296985626, 0.10362346470355988, 0.09955979883670807, 0.09955979883670807, 0.14222827553749084, 0.08940063416957855, 0.08127330243587494, 0.08533696830272675, 0.09752796590328217, 0.32485976815223694, 0.32485976815223694, 0.32485976815223694, 0.103310227394104, 0.11068952828645706, 0.103310227394104, 0.103310227394104, 0.06641371548175812, 0.08117231726646423, 0.14758603274822235, 0.103310227394104, 0.08117231726646423, 0.11068952828645706, 0.32451778650283813, 0.32451778650283813, 0.19196194410324097, 0.19196194410324097, 0.19196194410324097, 0.19196194410324097, 0.19196194410324097, 0.10126642882823944, 0.08983312547206879, 0.10453309118747711, 0.10289976000785828, 0.07023316621780396, 0.11106640845537186, 0.12086638063192368, 0.11433306336402893, 0.08656646311283112, 0.09636644273996353, 0.13084779679775238, 0.12458381056785583, 0.0619439035654068, 0.09256786108016968, 0.08978386223316193, 0.10439983755350113, 0.14128778874874115, 0.09326385706663132, 0.07168789207935333, 0.08908786624670029, 0.19813792407512665, 0.19813792407512665, 0.19813792407512665, 0.11991111934185028, 0.11991111934185028, 0.11991111934185028, 0.11991111934185028, 0.11991111934185028, 0.11991111934185028, 0.23982223868370056, 0.11991111934185028, 0.11991111934185028, 0.11991111934185028, 0.13504602015018463, 0.08295684307813644, 0.09453222155570984, 0.10417836159467697, 0.07909838855266571, 0.12347064912319183, 0.07331070303916931, 0.13311679661273956, 0.09646144509315491, 0.07716915756464005, 0.22710679471492767, 0.32507821917533875, 0.32507821917533875, 0.08473194390535355, 0.11297592520713806, 0.08473194390535355, 0.08473194390535355, 0.09179294109344482, 0.11297592520713806, 0.15534189343452454, 0.07060995697975159, 0.11297592520713806, 0.08473194390535355, 0.1375308632850647, 0.11690123379230499, 0.07564197480678558, 0.10314814746379852, 0.07564197480678558, 0.11002469062805176, 0.15128394961357117, 0.061888888478279114, 0.10314814746379852, 0.061888888478279114, 0.22712381184101105, 0.22712381184101105, 0.22712381184101105, 0.22712381184101105, 0.3416330814361572, 0.3244296908378601, 0.1666518598794937, 0.09332504868507385, 0.09999112039804459, 0.10832371562719345, 0.09832460433244705, 0.06999378651380539, 0.06666074693202972, 0.11998934298753738, 0.07332681864500046, 0.10332415997982025, 0.10191479325294495, 0.0981401726603508, 0.10443121194839478, 0.12456253170967102, 0.09688196331262589, 0.10946404188871384, 0.07549244165420532, 0.06416857242584229, 0.1144968718290329, 0.10946404188871384, 0.09315705299377441, 0.14308923482894897, 0.10508115589618683, 0.11700525879859924, 0.0849592313170433, 0.12594833970069885, 0.06632781773805618, 0.0842139720916748, 0.07005409896373749, 0.10955268889665604, 0.32354649901390076, 0.32354649901390076, 0.26702630519866943, 0.32398080825805664, 0.3251984119415283, 0.3251984119415283, 0.3251984119415283, 0.1141607016324997, 0.11579156666994095, 0.11089897155761719, 0.09295942634344101, 0.08806683123111725, 0.11252983659505844, 0.0896976962685585, 0.08480509370565414, 0.12557677924633026, 0.06360381841659546, 0.4405345022678375, 0.13890276849269867, 0.06945138424634933, 0.13890276849269867, 0.06945138424634933, 0.13890276849269867, 0.2083541452884674, 0.06945138424634933, 0.06945138424634933, 0.06945138424634933, 0.06945138424634933, 0.22776013612747192, 0.22776013612747192, 0.22776013612747192, 0.12646175920963287, 0.13074859976768494, 0.07859205454587936, 0.12931965291500092, 0.07644863426685333, 0.11645913869142532, 0.09359599649906158, 0.07716310769319534, 0.09788282960653305, 0.07359074056148529, 0.10191433131694794, 0.11938536167144775, 0.10191433131694794, 0.08444330096244812, 0.08153146505355835, 0.08735514432191849, 0.0960906594991684, 0.08444330096244812, 0.11647352576255798, 0.13103272020816803, 0.11181297153234482, 0.10133050382137299, 0.08910096436738968, 0.06988310813903809, 0.09958342462778091, 0.07861849665641785, 0.11880128085613251, 0.11880128085613251, 0.08385972678661346, 0.12753666937351227, 0.124686598777771, 0.0623432993888855, 0.124686598777771, 0.0623432993888855, 0.0623432993888855, 0.0623432993888855, 0.1870298981666565, 0.0623432993888855, 0.0623432993888855, 0.124686598777771, 0.3239354193210602, 0.2668667137622833, 0.3420277535915375, 0.1270163208246231, 0.06350816041231155, 0.11597141623497009, 0.10768774151802063, 0.1463448852300644, 0.08007550239562988, 0.08835917711257935, 0.09664284437894821, 0.10492651909589767, 0.06903060525655746, 0.26745203137397766, 0.26745203137397766, 0.26745203137397766, 0.1359572559595108, 0.09788922965526581, 0.106046661734581, 0.08973179012537003, 0.11148495227098465, 0.07613606750965118, 0.07069777697324753, 0.14955298602581024, 0.0870126485824585, 0.07341691851615906, 0.1059117391705513, 0.06472384184598923, 0.08237579464912415, 0.1647515892982483, 0.12356369197368622, 0.08825977891683578, 0.11179572343826294, 0.08237579464912415, 0.10002775490283966, 0.07060782611370087, 0.11772803962230682, 0.11772803962230682, 0.11772803962230682, 0.11772803962230682, 0.11772803962230682, 0.11772803962230682, 0.23545607924461365, 0.11772803962230682, 0.11772803962230682, 0.11772803962230682, 0.32457274198532104, 0.12763194739818573, 0.12763194739818573, 0.12763194739818573, 0.12763194739818573, 0.12763194739818573, 0.12763194739818573, 0.12763194739818573, 0.25526389479637146, 0.12763194739818573, 0.3415621817111969, 0.09529948234558105, 0.10031524300575256, 0.08652190119028091, 0.12664799392223358, 0.11034677177667618, 0.11410859227180481, 0.08025219291448593, 0.08401402086019516, 0.08902978152036667, 0.11285465210676193, 0.13930875062942505, 0.09803207963705063, 0.08771291375160217, 0.128989577293396, 0.08255333453416824, 0.09803207963705063, 0.15478749573230743, 0.08255333453416824, 0.06191499903798103, 0.06707458198070526, 0.32375165820121765, 0.32375165820121765, 0.32470816373825073, 0.32470816373825073, 0.32353657484054565, 0.32353657484054565, 0.10905954241752625, 0.2181190848350525, 0.10905954241752625, 0.10905954241752625, 0.2181190848350525, 0.10905954241752625, 0.10905954241752625, 0.10905954241752625, 0.10905954241752625, 0.324993759393692, 0.324993759393692, 0.11535106599330902, 0.11535106599330902, 0.11535106599330902, 0.11535106599330902, 0.11535106599330902, 0.23070213198661804, 0.11535106599330902, 0.11535106599330902, 0.11535106599330902, 0.06771625578403473, 0.1551830768585205, 0.14107553660869598, 0.07900229841470718, 0.09593135863542557, 0.08464531600475311, 0.10721740126609802, 0.09593135863542557, 0.0931098535656929, 0.07900229841470718, 0.11340976506471634, 0.1404120922088623, 0.12421070039272308, 0.051304418593645096, 0.14581255614757538, 0.07830674201250076, 0.07020604610443115, 0.09450814127922058, 0.09990860521793365, 0.08370721340179443, 0.13005860149860382, 0.1080486923456192, 0.08203696459531784, 0.08203696459531784, 0.10604778677225113, 0.08603876829147339, 0.1160522922873497, 0.07203245908021927, 0.1320595145225525, 0.08603876829147339, 0.09405671060085297, 0.09405671060085297, 0.09405671060085297, 0.18811342120170593, 0.09405671060085297, 0.09405671060085297, 0.09405671060085297, 0.09405671060085297, 0.09405671060085297, 0.09405671060085297, 0.11195892095565796, 0.13492485880851746, 0.10908818244934082, 0.10621744394302368, 0.09042835980653763, 0.10621744394302368, 0.0782277062535286, 0.0782277062535286, 0.0961698442697525, 0.08755762130022049, 0.06454255431890488, 0.09136543422937393, 0.13327617943286896, 0.08717435598373413, 0.10729151964187622, 0.11399723589420319, 0.0980711504817009, 0.0821450725197792, 0.12405581772327423, 0.09890937060117722, 0.3243943452835083, 0.3243943452835083, 0.15325506031513214, 0.15325506031513214, 0.15325506031513214, 0.15325506031513214, 0.15325506031513214, 0.15325506031513214, 0.15325506031513214, 0.2670939862728119, 0.2670939862728119, 0.2670939862728119, 0.06280622631311417, 0.08374163508415222, 0.06280622631311417, 0.08374163508415222, 0.12561245262622833, 0.10467704385519028, 0.08374163508415222, 0.1884186863899231, 0.10467704385519028, 0.08374163508415222, 0.3242955207824707, 0.3242955207824707, 0.2273271381855011, 0.2273271381855011, 0.2273271381855011, 0.19189691543579102, 0.19189691543579102, 0.19189691543579102, 0.19189691543579102, 0.15348069369792938, 0.15348069369792938, 0.15348069369792938, 0.15348069369792938, 0.15348069369792938, 0.13592542707920074, 0.13592542707920074, 0.2718508541584015, 0.13592542707920074, 0.13592542707920074, 0.13592542707920074, 0.13592542707920074, 0.13592542707920074, 0.13592542707920074, 0.227177694439888, 0.227177694439888, 0.1070537343621254, 0.1070537343621254, 0.11300116032361984, 0.13084344565868378, 0.08623772859573364, 0.08475087583065033, 0.09961944818496704, 0.10110630095005035, 0.08326401561498642, 0.08772458881139755, 0.12569859623908997, 0.10923806577920914, 0.13018783926963806, 0.14066271483898163, 0.08679188787937164, 0.07033135741949081, 0.061352889984846115, 0.10774165391921997, 0.08230265229940414, 0.08379906415939331, 0.32400503754615784, 0.09345494955778122, 0.08644583076238632, 0.11448231339454651, 0.10046407580375671, 0.13083693385124207, 0.06541846692562103, 0.10280044376850128, 0.08878220617771149, 0.09111858159303665, 0.13083693385124207, 0.3246789872646332, 0.22749175131320953, 0.22749175131320953, 0.170270174741745, 0.170270174741745, 0.170270174741745, 0.170270174741745, 0.170270174741745, 0.170270174741745, 0.15662235021591187, 0.15662235021591187, 0.15662235021591187, 0.15662235021591187, 0.15662235021591187, 0.15662235021591187, 0.21363070607185364, 0.10254273563623428, 0.06836182624101639, 0.14526887238025665, 0.06836182624101639, 0.09399750828742981, 0.10254273563623428, 0.06836182624101639, 0.07690705358982086, 0.07690705358982086, 0.16389809548854828, 0.09700091928243637, 0.10034577548503876, 0.09198363125324249, 0.11539763957262039, 0.11038035154342651, 0.07191447168588638, 0.07693175971508026, 0.10034577548503876, 0.07525933533906937, 0.1246577575802803, 0.10364802181720734, 0.11065126955509186, 0.08964153379201889, 0.08403893560171127, 0.08403893560171127, 0.08964153379201889, 0.10364802181720734, 0.11485321074724197, 0.0938434824347496, 0.3417050242424011, 0.32449576258659363, 0.19751355051994324, 0.09875677525997162, 0.09875677525997162, 0.19751355051994324, 0.09875677525997162, 0.09875677525997162, 0.09875677525997162, 0.09875677525997162, 0.3237887918949127, 0.3237887918949127, 0.26734668016433716, 0.26734668016433716, 0.26734668016433716, 0.6204391121864319, 0.09646524488925934, 0.10424470156431198, 0.12291539460420609, 0.10268881171941757, 0.0902416855096817, 0.13847430050373077, 0.08246222883462906, 0.10424470156431198, 0.07779455184936523, 0.08246222883462906, 0.15071725845336914, 0.09134379774332047, 0.08677660673856735, 0.10047817975282669, 0.09134379774332047, 0.08677660673856735, 0.07307503372430801, 0.10961255431175232, 0.1415828913450241, 0.0685078501701355, 0.15941829979419708, 0.09773383289575577, 0.14980512857437134, 0.08091079443693161, 0.06969543546438217, 0.08892176300287247, 0.08972286432981491, 0.08010970056056976, 0.07209872454404831, 0.11135248094797134, 0.32465046644210815, 0.32465046644210815, 0.09829152375459671, 0.13439862430095673, 0.06218443438410759, 0.15044622123241425, 0.08826177567243576, 0.10230342298746109, 0.09227367490530014, 0.12637482583522797, 0.07020823657512665, 0.07422013580799103, 0.09219708293676376, 0.11780738085508347, 0.1024411991238594, 0.09731914103031158, 0.09475810825824738, 0.13829562067985535, 0.09731914103031158, 0.07939193397760391, 0.08963605016469955, 0.09219708293676376, 0.15085308253765106, 0.1145719587802887, 0.10120522975921631, 0.08210990577936172, 0.10120522975921631, 0.1107528954744339, 0.09929569810628891, 0.08974803239107132, 0.08020036667585373, 0.07065270841121674, 0.12154705822467804, 0.07635648548603058, 0.09661433100700378, 0.10284751653671265, 0.07479818910360336, 0.10908069461584091, 0.09349773824214935, 0.11375558376312256, 0.08258967101573944, 0.1277802437543869, 0.1912822723388672, 0.1912822723388672, 0.1912822723388672, 0.10111672431230545, 0.15037871897220612, 0.09852398931980133, 0.13741503655910492, 0.09074577689170837, 0.0933385118842125, 0.10111672431230545, 0.08296757191419601, 0.07259662449359894, 0.07000388950109482, 0.17982158064842224, 0.17982158064842224, 0.17982158064842224, 0.17982158064842224, 0.2269345372915268, 0.2269345372915268, 0.32432201504707336, 0.15725870430469513, 0.10693591833114624, 0.10903269797563553, 0.09435521811246872, 0.10274235159158707, 0.08387130498886108, 0.07967774569988251, 0.08596809208393097, 0.09225843846797943, 0.08387130498886108, 0.32502689957618713, 0.10895512253046036, 0.13466601073741913, 0.07165327668190002, 0.11780641227960587, 0.08956659585237503, 0.12307503819465637, 0.10979810357093811, 0.0828227549791336, 0.08092605322599411, 0.08092605322599411, 0.10834385454654694, 0.10834385454654694, 0.0812578946352005, 0.21668770909309387, 0.10834385454654694, 0.10834385454654694, 0.0812578946352005, 0.05417192727327347, 0.0812578946352005, 0.0812578946352005, 0.125233456492424, 0.132288858294487, 0.11112264543771744, 0.07231791317462921, 0.08642872422933578, 0.07760946452617645, 0.11465034633874893, 0.125233456492424, 0.0758456140756607, 0.07760946452617645, 0.13495968282222748, 0.10066664963960648, 0.1061977818608284, 0.09734796732664108, 0.1250036358833313, 0.102879099547863, 0.07632965594530106, 0.08407324552536011, 0.08849815279245377, 0.08186078816652298, 0.1976989060640335, 0.1976989060640335, 0.1976989060640335, 0.32447168231010437, 0.32447168231010437, 0.07852137833833694, 0.11158300936222076, 0.13018018007278442, 0.09091948717832565, 0.09091948717832565, 0.11571571230888367, 0.10331760346889496, 0.08265408128499985, 0.12191477417945862, 0.07232232391834259, 0.12139880657196045, 0.08557620644569397, 0.1273692399263382, 0.14329040050506592, 0.09552693367004395, 0.08756635338068008, 0.0895565003156662, 0.09154663980007172, 0.09154663980007172, 0.06567476689815521, 0.10488884150981903, 0.08990472555160522, 0.11238090693950653, 0.08990472555160522, 0.10413964092731476, 0.08615869283676147, 0.07716821879148483, 0.08990472555160522, 0.1356062889099121, 0.10938408225774765, 0.32399436831474304, 0.32399436831474304, 0.09765703976154327, 0.09765703976154327, 0.04882851988077164, 0.1464855670928955, 0.09765703976154327, 0.09765703976154327, 0.09765703976154327, 0.04882851988077164, 0.09765703976154327, 0.19531407952308655, 0.19153235852718353, 0.19153235852718353, 0.19153235852718353, 0.19153235852718353, 0.12979143857955933, 0.12979143857955933, 0.25958287715911865, 0.12979143857955933, 0.12979143857955933, 0.12979143857955933, 0.12979143857955933, 0.12979143857955933, 0.08134286850690842, 0.08642679452896118, 0.08134286850690842, 0.13218215107917786, 0.1118464395403862, 0.09151072055101395, 0.14235001802444458, 0.14235001802444458, 0.07625893503427505, 0.0559232197701931, 0.10004446655511856, 0.09477896243333817, 0.10004446655511856, 0.09477896243333817, 0.10530996322631836, 0.11057545989751816, 0.08424796909093857, 0.10530996322631836, 0.14216844737529755, 0.06318597495555878, 0.32458755373954773, 0.11486721783876419, 0.11215382069349289, 0.13024315237998962, 0.08321090042591095, 0.08501983433961868, 0.09768235683441162, 0.09949129074811935, 0.07778409868478775, 0.09225556254386902, 0.10672702640295029, 0.32491326332092285, 0.13630862534046173, 0.12350863963365555, 0.12373320013284683, 0.09454024583101273, 0.1102595254778862, 0.11138233542442322, 0.06736834347248077, 0.08712972700595856, 0.08712972700595856, 0.05816134065389633, 0.3420082926750183, 0.12446212768554688, 0.1477532833814621, 0.08491568267345428, 0.11985241621732712, 0.09049585461616516, 0.1271308958530426, 0.07812242209911346, 0.08637137711048126, 0.06647684425115585, 0.07424056529998779, 0.3243614733219147, 0.2671906054019928, 0.2671906054019928, 0.09875226020812988, 0.19750452041625977, 0.09875226020812988, 0.19750452041625977, 0.09875226020812988, 0.09875226020812988, 0.09875226020812988, 0.09875226020812988, 0.28431737422943115, 0.14215868711471558, 0.14215868711471558, 0.14215868711471558, 0.14215868711471558, 0.14215868711471558, 0.14215868711471558, 0.3250880241394043, 0.10354551672935486, 0.06903034448623657, 0.08628793060779572, 0.10354551672935486, 0.10354551672935486, 0.17257586121559143, 0.06903034448623657, 0.10354551672935486, 0.08628793060779572, 0.08628793060779572, 0.10228386521339417, 0.09703853726387024, 0.08917055279016495, 0.13113315403461456, 0.1363784819841385, 0.07081190496683121, 0.11277452111244202, 0.09179320931434631, 0.08130256086587906, 0.08392522484064102, 0.0738494023680687, 0.08861928433179855, 0.08861928433179855, 0.08861928433179855, 0.1772385686635971, 0.1476988047361374, 0.0738494023680687, 0.08861928433179855, 0.11815904825925827, 0.059079524129629135, 0.3246689736843109, 0.3246689736843109, 0.1110755056142807, 0.1110755056142807, 0.1110755056142807, 0.1110755056142807, 0.1110755056142807, 0.1110755056142807, 0.1110755056142807, 0.3332265317440033, 0.1110755056142807, 0.08924715220928192, 0.09817186743021011, 0.07139772176742554, 0.1070965826511383, 0.08032243698835373, 0.09817186743021011, 0.08032243698835373, 0.1160212978720665, 0.12494601309299469, 0.15172015130519867, 0.08908499032258987, 0.1566171646118164, 0.0948324128985405, 0.12931692600250244, 0.08621127903461456, 0.08764813840389252, 0.11494837701320648, 0.0948324128985405, 0.07759015262126923, 0.06896902620792389, 0.10870996862649918, 0.07066147774457932, 0.09783896803855896, 0.130451962351799, 0.15219394862651825, 0.09240347146987915, 0.09783896803855896, 0.07066147774457932, 0.09240347146987915, 0.08696797490119934, 0.06788254529237747, 0.08548172563314438, 0.11816591769456863, 0.11816591769456863, 0.1081092432141304, 0.0905100628733635, 0.12319425493478775, 0.11565174907445908, 0.09805256873369217, 0.07542505115270615, 0.12308921664953232, 0.09657768905162811, 0.07574720680713654, 0.09847137331962585, 0.08332192897796631, 0.14581337571144104, 0.09468401223421097, 0.09279032796621323, 0.07574720680713654, 0.1136208102107048, 0.17975686490535736, 0.17975686490535736, 0.17975686490535736, 0.17975686490535736, 0.17975686490535736, 0.17975686490535736, 0.12557436525821686, 0.08544235676527023, 0.08414777368307114, 0.1022719070315361, 0.08414777368307114, 0.0996827483177185, 0.12298520654439926, 0.08803151547908783, 0.09838816523551941, 0.11003939807415009, 0.09091350436210632, 0.09091350436210632, 0.10744323581457138, 0.10744323581457138, 0.09917836636304855, 0.09917836636304855, 0.08264864236116409, 0.057854048907756805, 0.16529728472232819, 0.09917836636304855, 0.10624118149280548, 0.14107435941696167, 0.08359961956739426, 0.11669113487005234, 0.07663298398256302, 0.10624118149280548, 0.08708293735980988, 0.1097244992852211, 0.0923079177737236, 0.08011630177497864, 0.09200315922498703, 0.16560567915439606, 0.07769155502319336, 0.1001812145113945, 0.0940476730465889, 0.07769155502319336, 0.07973606884479523, 0.11040379106998444, 0.12675990164279938, 0.07769155502319336, 0.32462891936302185, 0.10272487998008728, 0.13765133917331696, 0.14176033437252045, 0.11094287037849426, 0.11094287037849426, 0.08423440158367157, 0.06985291838645935, 0.09861588478088379, 0.08628889918327332, 0.05547143518924713, 0.3415899872779846, 0.09779676049947739, 0.09290692210197449, 0.11980102956295013, 0.11491119116544724, 0.13936038315296173, 0.09290692210197449, 0.07334756851196289, 0.11246627569198608, 0.08312724530696869, 0.07090265303850174, 0.32359933853149414, 0.32359933853149414, 0.32359933853149414, 0.32419130206108093, 0.17074459791183472, 0.17074459791183472, 0.17074459791183472, 0.17074459791183472, 0.17074459791183472, 0.32432541251182556, 0.32432541251182556, 0.3255671262741089, 0.3255671262741089, 0.1136970967054367, 0.1136970967054367, 0.14335720241069794, 0.1013387143611908, 0.09392368793487549, 0.07415027916431427, 0.08650866150856018, 0.06673525273799896, 0.1112254187464714, 0.09392368793487549, 0.12501567602157593, 0.12501567602157593, 0.12501567602157593, 0.12501567602157593, 0.12501567602157593, 0.25003135204315186, 0.12501567602157593, 0.12501567602157593, 0.12501567602157593, 0.20402467250823975, 0.20402467250823975, 0.20402467250823975, 0.20402467250823975, 0.1920233964920044, 0.1920233964920044, 0.1920233964920044, 0.1920233964920044, 0.3242057263851166, 0.3242057263851166, 0.10167878866195679, 0.06778585910797119, 0.20335757732391357, 0.08473232388496399, 0.10167878866195679, 0.08473232388496399, 0.08473232388496399, 0.06778585910797119, 0.10167878866195679, 0.08473232388496399, 0.32498306035995483, 0.22754019498825073, 0.22754019498825073, 0.22754019498825073, 0.22754019498825073, 0.3245166540145874, 0.11559586971998215, 0.11559586971998215, 0.11559586971998215, 0.11559586971998215, 0.11559586971998215, 0.11559586971998215, 0.2311917394399643, 0.11559586971998215, 0.11559586971998215, 0.11559586971998215, 0.3239554166793823, 0.3239554166793823, 0.3239554166793823, 0.13602475821971893, 0.13602475821971893, 0.13602475821971893, 0.13602475821971893, 0.27204951643943787, 0.13602475821971893, 0.13602475821971893, 0.13602475821971893, 0.1915758103132248, 0.1915758103132248, 0.1915758103132248, 0.1915758103132248, 0.1915758103132248, 0.15296714007854462, 0.10926224291324615, 0.11363273113965988, 0.09178028255701065, 0.10926224291324615, 0.08085405826568604, 0.09396553039550781, 0.06992783397436142, 0.08085405826568604, 0.09833601862192154, 0.09719253331422806, 0.09719253331422806, 0.0886668786406517, 0.08099377900362015, 0.1278849095106125, 0.09463483840227127, 0.08440404385328293, 0.09889766573905945, 0.13300031423568726, 0.09804510325193405, 0.6206105351448059, 0.3252108097076416, 0.3252108097076416, 0.3243243396282196, 0.10887650400400162, 0.0718584954738617, 0.08492367714643478, 0.10452144593000412, 0.13718439638614655, 0.10016638785600662, 0.09145626425743103, 0.10887650400400162, 0.08927873522043228, 0.09798885136842728, 0.32477855682373047, 0.11987480521202087, 0.05993740260601044, 0.05993740260601044, 0.05993740260601044, 0.05993740260601044, 0.11987480521202087, 0.05993740260601044, 0.1798122078180313, 0.05993740260601044, 0.1798122078180313, 0.0675993487238884, 0.10477899014949799, 0.1351986974477768, 0.08787915110588074, 0.1013990193605423, 0.15885846316814423, 0.0980190560221672, 0.07435928285121918, 0.08787915110588074, 0.08787915110588074, 0.17047399282455444, 0.17047399282455444, 0.17047399282455444, 0.17047399282455444, 0.17047399282455444, 0.10427016019821167, 0.10427016019821167, 0.10427016019821167, 0.10427016019821167, 0.10427016019821167, 0.052135080099105835, 0.10427016019821167, 0.052135080099105835, 0.10427016019821167, 0.20854032039642334, 0.1453966647386551, 0.11559485644102097, 0.09753316640853882, 0.09060951322317123, 0.08127763867378235, 0.0897064283490181, 0.12914113700389862, 0.10626298189163208, 0.0776652991771698, 0.06712930649518967, 0.22749367356300354, 0.22749367356300354, 0.22749367356300354, 0.3409358561038971, 0.17046792805194855, 0.17046792805194855, 0.13345597684383392, 0.11595355719327927, 0.11959989368915558, 0.11084868758916855, 0.09115845710039139, 0.10063893347978592, 0.11011941730976105, 0.058341413736343384, 0.09918040037155151, 0.06052921712398529, 0.3240666687488556, 0.1309194266796112, 0.11306677758693695, 0.11663731187582016, 0.14282119274139404, 0.09997483342885971, 0.08807306736707687, 0.07260077446699142, 0.07974183559417725, 0.07617130130529404, 0.07974183559417725, 0.3252234160900116, 0.11893383413553238, 0.0968066081404686, 0.08989185094833374, 0.12446563690900803, 0.11478497833013535, 0.09818956255912781, 0.07467938214540482, 0.06499872356653214, 0.09127480536699295, 0.12723153829574585, 0.09554566442966461, 0.09554566442966461, 0.11118040978908539, 0.10770601779222488, 0.12855234742164612, 0.1216035708785057, 0.10249444097280502, 0.07296214252710342, 0.09902004897594452, 0.06601336598396301, 0.12835465371608734, 0.12385097146034241, 0.0878216028213501, 0.09232527017593384, 0.07431058585643768, 0.12385097146034241, 0.10583628714084625, 0.13736198842525482, 0.06079956889152527, 0.06305140256881714, 0.07850061357021332, 0.11997263878583908, 0.06665146350860596, 0.1140480637550354, 0.07701947540044785, 0.1140480637550354, 0.09627433866262436, 0.08738747984170914, 0.1629258096218109, 0.084425188601017, 0.0892193615436554, 0.0892193615436554, 0.09608238935470581, 0.10294541716575623, 0.12696601450443268, 0.09951390326023102, 0.07549330592155457, 0.09951390326023102, 0.07206179201602936, 0.14755509793758392, 0.10964066535234451, 0.11153101921081543, 0.14492730796337128, 0.09388769418001175, 0.12539362907409668, 0.08947686105966568, 0.06931306421756744, 0.08191543817520142, 0.08380579203367233, 0.09010697901248932, 0.09224154055118561, 0.08071134984493256, 0.09224154055118561, 0.14989250898361206, 0.1614226996898651, 0.10377173125743866, 0.057650960981845856, 0.09224154055118561, 0.11530192196369171, 0.057650960981845856, 0.27912065386772156, 0.27912065386772156, 0.32320910692214966, 0.12996478378772736, 0.1313185840845108, 0.08122798800468445, 0.10965778678655624, 0.11642678827047348, 0.08935078978538513, 0.09476599097251892, 0.09882739186286926, 0.06904379278421402, 0.0798741951584816, 0.622484028339386, 0.18929003179073334, 0.1069900169968605, 0.1069900169968605, 0.09876001626253128, 0.07407001405954361, 0.1069900169968605, 0.09053001552820206, 0.07407001405954361, 0.07407001405954361, 0.08230001479387283, 0.08245842158794403, 0.11681610345840454, 0.12826865911483765, 0.10307303071022034, 0.08703944832086563, 0.08703944832086563, 0.07329637557268143, 0.09162047505378723, 0.09849200397729874, 0.13284967839717865, 0.12165027111768723, 0.08587078005075455, 0.07871488481760025, 0.07871488481760025, 0.10018257796764374, 0.11449437588453293, 0.1574297696352005, 0.10733847320079803, 0.07871488481760025, 0.07871488481760025, 0.08276428282260895, 0.10345534980297089, 0.10345534980297089, 0.08276428282260895, 0.10345534980297089, 0.08276428282260895, 0.06207320839166641, 0.08276428282260895, 0.20691069960594177, 0.08276428282260895, 0.09517703205347061, 0.10981965810060501, 0.12446227669715881, 0.10981965810060501, 0.16106882691383362, 0.07321310043334961, 0.11714096367359161, 0.07321310043334961, 0.08785572648048401, 0.05857048183679581, 0.1706874519586563, 0.1706874519586563, 0.1706874519586563, 0.1706874519586563, 0.1706874519586563, 0.2675577700138092, 0.2675577700138092, 0.2675577700138092, 0.10869307816028595, 0.08798963576555252, 0.13198445737361908, 0.07763791084289551, 0.12422066181898117, 0.08540170639753342, 0.06469826400279999, 0.09575342386960983, 0.1423361748456955, 0.08281377702951431, 0.1426263004541397, 0.11579561233520508, 0.1186198964715004, 0.07766778767108917, 0.09178920090198517, 0.07907992601394653, 0.09461348503828049, 0.06354637444019318, 0.1115591824054718, 0.10308633744716644, 0.1263294219970703, 0.14234299957752228, 0.11031582951545715, 0.08362651616334915, 0.10497796535491943, 0.06761292368173599, 0.094302237033844, 0.08184722810983658, 0.09608152508735657, 0.09252294898033142, 0.22744570672512054, 0.22744570672512054, 0.26668354868888855, 0.26668354868888855, 0.44004395604133606, 0.11664874106645584, 0.14602072536945343, 0.1200055330991745, 0.1325935274362564, 0.09482955187559128, 0.07133196294307709, 0.08895514905452728, 0.07552795857191086, 0.07636716216802597, 0.07636716216802597, 0.3238350749015808, 0.3238350749015808, 0.3238350749015808, 0.32434511184692383, 0.32434511184692383, 0.14208975434303284, 0.10083788633346558, 0.1100049689412117, 0.0733366459608078, 0.12375558912754059, 0.06416956335306168, 0.14208975434303284, 0.09625434875488281, 0.08708726614713669, 0.05500248447060585, 0.323863685131073, 0.323863685131073, 0.11627176403999329, 0.11969152092933655, 0.10259272903203964, 0.10145281255245209, 0.0889137014746666, 0.07751450687646866, 0.06497539579868317, 0.1504693329334259, 0.08777378499507904, 0.0911935418844223, 0.44076043367385864, 0.32525885105133057, 0.32525885105133057, 0.1877666711807251, 0.07041250169277191, 0.10241818428039551, 0.07681363821029663, 0.10241818428039551, 0.07894735038280487, 0.10455189645290375, 0.09601704776287079, 0.10028447210788727, 0.07894735038280487, 0.2788986563682556, 0.10781839489936829, 0.12640777230262756, 0.15615078806877136, 0.09294689446687698, 0.08551114052534103, 0.09666477143764496, 0.08922901749610901, 0.059486012905836105, 0.08179326355457306, 0.10781839489936829, 0.12373416870832443, 0.10311181098222733, 0.20622362196445465, 0.061867084354162216, 0.12373416870832443, 0.061867084354162216, 0.061867084354162216, 0.08248944580554962, 0.08248944580554962, 0.08248944580554962, 0.32444819808006287, 0.11207348108291626, 0.1072007268667221, 0.14131005108356476, 0.09095819294452667, 0.12181900441646576, 0.06984289735555649, 0.07633990794420242, 0.09583094716072083, 0.10070370882749557, 0.08608543127775192, 0.6210641860961914, 0.12754496932029724, 0.12695172429084778, 0.07356081902980804, 0.13703668117523193, 0.10618859529495239, 0.09788334369659424, 0.0800863727927208, 0.0705946534872055, 0.09847657382488251, 0.0818660706281662, 0.07136601954698563, 0.11823325604200363, 0.12675456702709198, 0.13208039104938507, 0.06817052513360977, 0.10438612103462219, 0.10225579142570496, 0.07669184356927872, 0.09053897857666016, 0.10864678025245667, 0.18810242414474487, 0.09405121207237244, 0.09405121207237244, 0.09405121207237244, 0.09405121207237244, 0.09405121207237244, 0.09405121207237244, 0.09405121207237244, 0.09405121207237244, 0.09405121207237244, 0.32460662722587585, 0.6209968328475952, 0.0815427228808403, 0.13590453565120697, 0.10872362554073334, 0.0815427228808403, 0.1630854457616806, 0.0815427228808403, 0.10872362554073334, 0.0815427228808403, 0.10872362554073334, 0.0815427228808403, 0.11541501432657242, 0.13753046095371246, 0.09053512662649155, 0.10850393027067184, 0.11472390592098236, 0.07740408182144165, 0.08362405002117157, 0.1091950386762619, 0.08777070045471191, 0.07533075660467148, 0.13134144246578217, 0.11248215287923813, 0.11248215287923813, 0.10709378868341446, 0.07543713599443436, 0.10372605919837952, 0.08890805393457413, 0.11382924765348434, 0.06398685276508331, 0.08958159387111664, 0.324832022190094, 0.3233976662158966, 0.3233976662158966, 0.08923444896936417, 0.10545890033245087, 0.09734667092561722, 0.08112222701311111, 0.06489778310060501, 0.14602001011371613, 0.10545890033245087, 0.16224445402622223, 0.06489778310060501, 0.07301000505685806, 0.15300419926643372, 0.15300419926643372, 0.15300419926643372, 0.15300419926643372, 0.32541149854660034, 0.09900730848312378, 0.08800649642944336, 0.07700568437576294, 0.09900730848312378, 0.1100081205368042, 0.0550040602684021, 0.13200974464416504, 0.1650121808052063, 0.08800649642944336, 0.06600487232208252, 0.10762405395507812, 0.07174936681985855, 0.11659272760152817, 0.10762405395507812, 0.09865538030862808, 0.07623370736837387, 0.15246741473674774, 0.08968671411275864, 0.09865538030862808, 0.07623370736837387, 0.10390637814998627, 0.10842405259609222, 0.09035337716341019, 0.07680036872625351, 0.10390637814998627, 0.09938871115446091, 0.14004772901535034, 0.07680036872625351, 0.10842405259609222, 0.08583570271730423, 0.17022529244422913, 0.17022529244422913, 0.17022529244422913, 0.17022529244422913, 0.17022529244422913, 0.17022529244422913, 0.3240145742893219, 0.12816792726516724, 0.08037649840116501, 0.13323672115802765, 0.1013757586479187, 0.10427220910787582, 0.11730623990297318, 0.09558285772800446, 0.07748004794120789, 0.09847930818796158, 0.06299779564142227, 0.10294642299413681, 0.10294642299413681, 0.10023730248212814, 0.09752818942070007, 0.10294642299413681, 0.09210995584726334, 0.09210995584726334, 0.09210995584726334, 0.1381649374961853, 0.08127348870038986, 0.32333582639694214, 0.32333582639694214, 0.15316498279571533, 0.15316498279571533, 0.30632996559143066, 0.15316498279571533, 0.15316498279571533, 0.15316498279571533, 0.32398921251296997, 0.32398921251296997, 0.32398921251296997, 0.32475727796554565, 0.10247797518968582, 0.12087145447731018, 0.08539831638336182, 0.14452022314071655, 0.08145685493946075, 0.11824382096529007, 0.09065359085798264, 0.10904707759618759, 0.09065359085798264, 0.05649426952004433, 0.1119551733136177, 0.11151614040136337, 0.144224613904953, 0.1082233339548111, 0.09439358115196228, 0.1025158166885376, 0.07090494781732559, 0.09483262151479721, 0.08253950625658035, 0.07858814299106598, 0.13903813064098358, 0.13903813064098358, 0.13903813064098358, 0.13903813064098358, 0.13903813064098358, 0.13903813064098358, 0.13903813064098358, 0.27807626128196716, 0.09076322615146637, 0.1627478450536728, 0.10641206055879593, 0.12519066035747528, 0.08763346076011658, 0.06885486096143723, 0.07198462635278702, 0.09076322615146637, 0.08763346076011658, 0.10954182595014572, 0.4395939111709595, 0.32451120018959045, 0.32451120018959045, 0.09833790361881256, 0.11238618195056915, 0.11238618195056915, 0.11800549179315567, 0.08990894258022308, 0.08990894258022308, 0.08709929138422012, 0.07305101305246353, 0.09271860122680664, 0.12643444538116455, 0.32522591948509216, 0.32522591948509216, 0.32522591948509216, 0.32460227608680725, 0.19760829210281372, 0.19760829210281372, 0.19760829210281372, 0.2788064479827881, 0.2788064479827881, 0.11278124153614044, 0.10493559390306473, 0.09708993881940842, 0.16770081222057343, 0.08630216866731644, 0.0892442911863327, 0.08434075862169266, 0.08139863610267639, 0.08434075862169266, 0.09120570123195648, 0.09976723790168762, 0.15481123328208923, 0.10435424000024796, 0.12728923559188843, 0.11811523884534836, 0.06765824556350708, 0.07568549364805222, 0.06765824556350708, 0.07109849154949188, 0.11352823674678802, 0.07096298038959503, 0.11827164143323898, 0.09461730718612671, 0.09461730718612671, 0.07096298038959503, 0.07096298038959503, 0.09461730718612671, 0.09461730718612671, 0.07096298038959503, 0.18923461437225342, 0.2271278202533722, 0.11551515012979507, 0.10366744548082352, 0.1095912978053093, 0.07108625024557114, 0.10070551931858063, 0.08589588105678558, 0.08885780721902847, 0.14217250049114227, 0.11847708374261856, 0.06220046803355217, 0.17019493877887726, 0.17019493877887726, 0.17019493877887726, 0.17019493877887726, 0.17019493877887726, 0.17019493877887726, 0.32359886169433594, 0.32359886169433594, 0.07675950974225998, 0.2046920210123062, 0.12793250381946564, 0.1023460105061531, 0.1023460105061531, 0.07675950974225998, 0.07675950974225998, 0.07675950974225998, 0.07675950974225998, 0.1023460105061531, 0.26686376333236694, 0.26686376333236694, 0.11778941005468369, 0.12243898957967758, 0.1053905263543129, 0.08989191800355911, 0.12243898957967758, 0.08989191800355911, 0.08214261382818222, 0.08059275150299072, 0.11158996820449829, 0.07749303430318832, 0.09585247933864594, 0.06390164792537689, 0.10650274902582169, 0.08520220220088959, 0.08520220220088959, 0.15975412726402283, 0.07455192506313324, 0.09585247933864594, 0.08520220220088959, 0.12780329585075378, 0.26012951135635376, 0.13006475567817688, 0.13006475567817688, 0.13006475567817688, 0.13006475567817688, 0.13006475567817688, 0.13006475567817688, 0.13006475567817688, 0.1213555857539177, 0.09637061506509781, 0.11778630316257477, 0.10707845538854599, 0.08477044850587845, 0.1258171945810318, 0.09904757142066956, 0.10440149903297424, 0.07941652089357376, 0.06424707174301147, 0.09539578855037689, 0.09539578855037689, 0.09539578855037689, 0.09539578855037689, 0.19079157710075378, 0.09539578855037689, 0.09539578855037689, 0.09539578855037689, 0.09539578855037689, 0.09539578855037689, 0.17032597959041595, 0.17032597959041595, 0.17032597959041595, 0.17032597959041595, 0.17032597959041595, 0.10166531056165695, 0.08472108840942383, 0.10166531056165695, 0.08472108840942383, 0.05930476263165474, 0.08472108840942383, 0.10166531056165695, 0.09319320321083069, 0.10166531056165695, 0.19485850632190704, 0.1214940994977951, 0.07289645820856094, 0.1336435079574585, 0.08504586666822433, 0.09719527512788773, 0.09719527512788773, 0.07897116243839264, 0.07289645820856094, 0.09112057089805603, 0.1457929164171219, 0.32360294461250305, 0.32360294461250305, 0.07973384112119675, 0.1331404745578766, 0.08876031637191772, 0.12937943637371063, 0.1143353208899498, 0.0857514888048172, 0.08199045807123184, 0.09553016722202301, 0.10079561173915863, 0.09026472270488739, 0.12364017218351364, 0.12054917216300964, 0.1576412171125412, 0.07109309732913971, 0.12982217967510223, 0.09582113474607468, 0.0772751122713089, 0.08345711976289749, 0.0803661122918129, 0.06491108983755112, 0.16140778362751007, 0.11406149715185165, 0.07747573405504227, 0.11190938949584961, 0.08177994191646576, 0.08608414977788925, 0.11190938949584961, 0.07747573405504227, 0.10330098122358322, 0.07532362639904022, 0.11563119292259216, 0.14406509697437286, 0.11942238360643387, 0.1099444106221199, 0.08340610563755035, 0.09098847955465317, 0.08340610563755035, 0.08719729632139206, 0.07582373172044754, 0.08909288793802261, 0.32382315397262573, 0.11294566094875336, 0.11864040046930313, 0.09396319836378098, 0.09586144238710403, 0.09301407635211945, 0.10725092142820358, 0.09870881587266922, 0.10535267740488052, 0.06359125673770905, 0.1110474169254303, 0.11399181187152863, 0.10747799277305603, 0.08467963337898254, 0.10747799277305603, 0.08033708482980728, 0.140047088265419, 0.11073490232229233, 0.10096418112516403, 0.07490890473127365, 0.07816581428050995, 0.3248456120491028, 0.3248456120491028, 0.32472550868988037, 0.440897673368454, 0.14466868340969086, 0.06463920325040817, 0.1415906399488449, 0.06156114488840103, 0.1262003481388092, 0.14466868340969086, 0.0892636626958847, 0.07695142924785614, 0.07695142924785614, 0.073873370885849, 0.13371993601322174, 0.12336742877960205, 0.07850654423236847, 0.12164200842380524, 0.11128949373960495, 0.07591841369867325, 0.08627092838287354, 0.12336742877960205, 0.06901673972606659, 0.07678112387657166, 0.1269620656967163, 0.14420382678508759, 0.10188313573598862, 0.0830739438533783, 0.11442260444164276, 0.08777624368667603, 0.09874827414751053, 0.09874827414751053, 0.07053448259830475, 0.07523678243160248, 0.09311100840568542, 0.11173320561647415, 0.08379990607500076, 0.10707765817642212, 0.11638876050710678, 0.1489776074886322, 0.10707765817642212, 0.04655550420284271, 0.11173320561647415, 0.06983325630426407, 0.06914108991622925, 0.10601633787155151, 0.11984455585479736, 0.11984455585479736, 0.07375049591064453, 0.12445396184921265, 0.14750099182128906, 0.07375049591064453, 0.0829693078994751, 0.0829693078994751, 0.12507593631744385, 0.12507593631744385, 0.12507593631744385, 0.12507593631744385, 0.12507593631744385, 0.12507593631744385, 0.12507593631744385, 0.12507593631744385, 0.2501518726348877, 0.32459497451782227, 0.12327176332473755, 0.10108284652233124, 0.07396306097507477, 0.11341002583503723, 0.09615197777748108, 0.09122110903263092, 0.07889392971992493, 0.10108284652233124, 0.08875567466020584, 0.12573720514774323, 0.4401586651802063, 0.2670150697231293, 0.11283814907073975, 0.13819503784179688, 0.10903461277484894, 0.09001694619655609, 0.09889186173677444, 0.09255263954401016, 0.06339221447706223, 0.09001694619655609, 0.08367772400379181, 0.12044521421194077, 0.17532452940940857, 0.17532452940940857, 0.17532452940940857, 0.3248503506183624, 0.4415190815925598, 0.09612710773944855, 0.1922542154788971, 0.048063553869724274, 0.09612710773944855, 0.09612710773944855, 0.09612710773944855, 0.048063553869724274, 0.24031776189804077, 0.048063553869724274, 0.048063553869724274, 0.32455816864967346, 0.10531587898731232, 0.08547375351190567, 0.08394743502140045, 0.09463165700435638, 0.1114211454987526, 0.09768429398536682, 0.09768429398536682, 0.12363167852163315, 0.10836850851774216, 0.09157902002334595, 0.1263694167137146, 0.1077856793999672, 0.10035218298435211, 0.12408219277858734, 0.1103588119149208, 0.09463411569595337, 0.09606362879276276, 0.08062483370304108, 0.0857710987329483, 0.07433494925498962, 0.10754433274269104, 0.16545282304286957, 0.09927169233560562, 0.07445377111434937, 0.0909990519285202, 0.09927169233560562, 0.09927169233560562, 0.05790848657488823, 0.1323622614145279, 0.08272641152143478, 0.3243142366409302, 0.2672496438026428, 0.2672496438026428, 0.2672496438026428, 0.3227440416812897, 0.12595070898532867, 0.07408864796161652, 0.10125448554754257, 0.08643675595521927, 0.08643675595521927, 0.14076843857765198, 0.09878486394882202, 0.09631524235010147, 0.10372410714626312, 0.08396713435649872, 0.0950983539223671, 0.07132375985383987, 0.12481658160686493, 0.1010419949889183, 0.11887294054031372, 0.08321105688810349, 0.07726740837097168, 0.0950983539223671, 0.14264751970767975, 0.08915470540523529, 0.08402390033006668, 0.12985512614250183, 0.08020463585853577, 0.09930097311735153, 0.08402390033006668, 0.09548170864582062, 0.07638536393642426, 0.10693950951099396, 0.15658999979496002, 0.08402390033006668, 0.11697345227003098, 0.09097935259342194, 0.09617817401885986, 0.12087257206439972, 0.07148377597332001, 0.11957286298274994, 0.0935787633061409, 0.08318112045526505, 0.11567375063896179, 0.0935787633061409, 0.32462579011917114, 0.09990764409303665, 0.09990764409303665, 0.09990764409303665, 0.09990764409303665, 0.09990764409303665, 0.049953822046518326, 0.049953822046518326, 0.049953822046518326, 0.1998152881860733, 0.09990764409303665, 0.12739096581935883, 0.12739096581935883, 0.12739096581935883, 0.12739096581935883, 0.12739096581935883, 0.12739096581935883, 0.12739096581935883, 0.12739096581935883, 0.25478193163871765, 0.12739096581935883, 0.09388017654418945, 0.09388017654418945, 0.1491038054227829, 0.0994025394320488, 0.09388017654418945, 0.10216371715068817, 0.07731308788061142, 0.11044726520776749, 0.09388017654418945, 0.08559662848711014, 0.3837601840496063, 0.3837601840496063, 0.34147539734840393, 0.34147539734840393, 0.07542804628610611, 0.15085609257221222, 0.07542804628610611, 0.15085609257221222, 0.15085609257221222, 0.07542804628610611, 0.22628414630889893, 0.07542804628610611, 0.07542804628610611, 0.07542804628610611, 0.12179978936910629, 0.1244620755314827, 0.06655725836753845, 0.07254741340875626, 0.08386214822530746, 0.09850474447011948, 0.10316375643014908, 0.09318016469478607, 0.09384573996067047, 0.1430981159210205, 0.3232690691947937, 0.10551386326551437, 0.08039151132106781, 0.10551386326551437, 0.115562804043293, 0.115562804043293, 0.10718868672847748, 0.10216421633958817, 0.09379009902477264, 0.12058727443218231, 0.05359434336423874, 0.10592620819807053, 0.09121423959732056, 0.0882718414068222, 0.12946537137031555, 0.07061747461557388, 0.1265229731798172, 0.12946537137031555, 0.10298381745815277, 0.0823870524764061, 0.07061747461557388, 0.2668142020702362, 0.2668142020702362, 0.2668142020702362, 0.10186557471752167, 0.20373114943504333, 0.10186557471752167, 0.10186557471752167, 0.10186557471752167, 0.10186557471752167, 0.10186557471752167, 0.10186557471752167, 0.10186557471752167, 0.10186557471752167, 0.267488956451416, 0.11341053992509842, 0.07371684908866882, 0.10490474849939346, 0.12191633135080338, 0.14176318049430847, 0.08222264051437378, 0.10206948965787888, 0.07371684908866882, 0.1162458062171936, 0.07371684908866882, 0.09642016887664795, 0.07713613659143448, 0.11718758940696716, 0.16168920695781708, 0.09197000414133072, 0.1216377541422844, 0.09938694536685944, 0.07861952483654022, 0.09197000414133072, 0.06378564983606339, 0.13337762653827667, 0.08752907067537308, 0.08336102217435837, 0.10836932808160782, 0.07919296622276306, 0.07919296622276306, 0.145881786942482, 0.08752907067537308, 0.11670542508363724, 0.07919296622276306, 0.2676354646682739, 0.12724711000919342, 0.08483140915632248, 0.08483140915632248, 0.08483140915632248, 0.12724711000919342, 0.08483140915632248, 0.16966281831264496, 0.08483140915632248, 0.04241570457816124, 0.12724711000919342, 0.09096673876047134, 0.09096673876047134, 0.09096673876047134, 0.22741685807704926, 0.09096673876047134, 0.09096673876047134, 0.04548336938023567, 0.09096673876047134, 0.13645011186599731, 0.04548336938023567, 0.15739353001117706, 0.1314159482717514, 0.08557318150997162, 0.08404508978128433, 0.07793271541595459, 0.07946080714464188, 0.09932601451873779, 0.08251699805259705, 0.09015745669603348, 0.11307884752750397, 0.10116095840930939, 0.07396715134382248, 0.10224870592355728, 0.08919568359851837, 0.1283547580242157, 0.10986297577619553, 0.10224870592355728, 0.12509150803089142, 0.07396715134382248, 0.09245894104242325, 0.1420561969280243, 0.11743312329053879, 0.1572088599205017, 0.10417453944683075, 0.08902188390493393, 0.08712779730558395, 0.1003863736987114, 0.058716561645269394, 0.05492839589715004, 0.09091596305370331, 0.3415272533893585, 0.13900423049926758, 0.13900423049926758, 0.27800846099853516, 0.13900423049926758, 0.13900423049926758, 0.13900423049926758, 0.34172725677490234, 0.2788962423801422, 0.11315667629241943, 0.09772621840238571, 0.1401599794626236, 0.10929906368255615, 0.11830016225576401, 0.07458053529262543, 0.10415557771921158, 0.08743924647569656, 0.08486750721931458, 0.06815117597579956, 0.09388428926467896, 0.09994133561849594, 0.1574833244085312, 0.1150839626789093, 0.08177018910646439, 0.10296986252069473, 0.09691281616687775, 0.07268460839986801, 0.09994133561849594, 0.08479870855808258, 0.10634192824363708, 0.0765661895275116, 0.08081986755132675, 0.09358089417219162, 0.07231251150369644, 0.1148492842912674, 0.09358089417219162, 0.15738604962825775, 0.10634192824363708, 0.09783457219600677, 0.34095272421836853, 0.1124279648065567, 0.1392764300107956, 0.08557949960231781, 0.09396964311599731, 0.11410599201917648, 0.12585219740867615, 0.08893555402755737, 0.0687992051243782, 0.09061358124017715, 0.08054541051387787, 0.09822022914886475, 0.10383281111717224, 0.07857618480920792, 0.10383281111717224, 0.07576989382505417, 0.08699505776166916, 0.1010265201330185, 0.1010265201330185, 0.14031460881233215, 0.10944540053606033, 0.6209211349487305, 0.10108062624931335, 0.10108062624931335, 0.10770886391401291, 0.08948121219873428, 0.07788179814815521, 0.10936592519283295, 0.09279533475637436, 0.06959649920463562, 0.11268004775047302, 0.13587887585163116, 0.15277011692523956, 0.10060470551252365, 0.059617605060338974, 0.08942640572786331, 0.10433080792427063, 0.07079590111970901, 0.12482436001300812, 0.12109825760126114, 0.07824810594320297, 0.09687860310077667, 0.07123227417469025, 0.09853798151016235, 0.0926019549369812, 0.10209959000349045, 0.1507749855518341, 0.08191711455583572, 0.1080356165766716, 0.08310431987047195, 0.1270308941602707, 0.08547873049974442, 0.26684918999671936, 0.26684918999671936, 0.26756036281585693, 0.26756036281585693, 0.2786106467247009, 0.2786106467247009, 0.13035684823989868, 0.12459689378738403, 0.10913596302270889, 0.08306459337472916, 0.14005781710147858, 0.08548983931541443, 0.07912357151508331, 0.07427308708429337, 0.07609201967716217, 0.09791921079158783, 0.09698773920536041, 0.10426181554794312, 0.09092599898576736, 0.08850131183862686, 0.09577538818120956, 0.08607661724090576, 0.09577538818120956, 0.09820008277893066, 0.11274824291467667, 0.13093344867229462, 0.10603337734937668, 0.11613179743289948, 0.10603337734937668, 0.09341035783290863, 0.08583654463291168, 0.07826273143291473, 0.11613179743289948, 0.13127942383289337, 0.08078733831644058, 0.08583654463291168, 0.0947527289390564, 0.09044578671455383, 0.15074297785758972, 0.08398537337779999, 0.1001364067196846, 0.08829231560230255, 0.09798293560743332, 0.12813152372837067, 0.08936905115842819, 0.0764482244849205, 0.11336643993854523, 0.10089612752199173, 0.12243575602769852, 0.09636147320270538, 0.09296047687530518, 0.09296047687530518, 0.0748218521475792, 0.12697041034698486, 0.09976246953010559, 0.07935650646686554, 0.08866272121667862, 0.08060247451066971, 0.08866272121667862, 0.17732544243335724, 0.09672296792268753, 0.08866272121667862, 0.08866272121667862, 0.11284346133470535, 0.0725422278046608, 0.09672296792268753, 0.09536097943782806, 0.09536097943782806, 0.09536097943782806, 0.09536097943782806, 0.19072195887565613, 0.09536097943782806, 0.09536097943782806, 0.09536097943782806, 0.09536097943782806, 0.09536097943782806, 0.08168568462133408, 0.138865664601326, 0.09802281856536865, 0.11435995995998383, 0.10619138926267624, 0.17153993248939514, 0.0653485506772995, 0.049011409282684326, 0.08168568462133408, 0.08168568462133408, 0.1025857999920845, 0.1201719343662262, 0.07034454494714737, 0.10991335660219193, 0.10551682114601135, 0.08793068677186966, 0.08793068677186966, 0.13043051958084106, 0.08793068677186966, 0.09818926453590393, 0.32468679547309875, 0.32468679547309875, 0.32358255982398987, 0.13547229766845703, 0.06773614883422852, 0.20320843160152435, 0.06773614883422852, 0.06773614883422852, 0.06773614883422852, 0.06773614883422852, 0.06773614883422852, 0.06773614883422852, 0.06773614883422852, 0.08633004128932953, 0.08633004128932953, 0.10499599575996399, 0.11199572682380676, 0.13066168129444122, 0.0933297723531723, 0.08866328746080399, 0.12832844257354736, 0.09566301852464676, 0.07466381788253784, 0.3235735297203064, 0.3235735297203064, 0.12510839104652405, 0.12510839104652405, 0.12510839104652405, 0.12510839104652405, 0.12510839104652405, 0.12510839104652405, 0.12510839104652405, 0.2502167820930481, 0.12510839104652405, 0.3247968256473541, 0.12415706366300583, 0.0774557814002037, 0.11846178770065308, 0.11504462361335754, 0.099097840487957, 0.099097840487957, 0.10593217611312866, 0.05923089385032654, 0.10707122832536697, 0.09454161673784256, 0.19190992414951324, 0.19190992414951324, 0.19190992414951324, 0.34158816933631897, 0.09862586855888367, 0.08218821883201599, 0.08218821883201599, 0.10684468597173691, 0.15615762770175934, 0.07396940141916275, 0.09862586855888367, 0.09862586855888367, 0.09862586855888367, 0.09862586855888367, 0.1330612599849701, 0.13625472784042358, 0.08515920490026474, 0.08728818595409393, 0.09473961591720581, 0.07983675599098206, 0.09367512911558151, 0.08303022384643555, 0.11177145689725876, 0.0958041101694107, 0.09584351629018784, 0.13219796121120453, 0.11567321419715881, 0.1520276516675949, 0.08923362195491791, 0.056184131652116776, 0.08592867106199265, 0.10575836151838303, 0.08923362195491791, 0.07931877672672272, 0.3249928057193756, 0.3249928057193756, 0.3249928057193756, 0.3249928057193756, 0.09756940603256226, 0.13579246401786804, 0.08952244371175766, 0.13277485966682434, 0.10863397270441055, 0.07644613087177277, 0.10360462218523026, 0.06839916855096817, 0.09857527166604996, 0.08952244371175766, 0.08601653575897217, 0.08601653575897217, 0.08601653575897217, 0.08601653575897217, 0.08601653575897217, 0.17203307151794434, 0.17203307151794434, 0.17203307151794434, 0.08601653575897217, 0.08601653575897217, 0.12170232832431793, 0.14683650434017181, 0.09259960055351257, 0.10185955464839935, 0.09127674251794815, 0.09789100289344788, 0.0886310413479805, 0.08466248959302902, 0.08466248959302902, 0.08730819076299667, 0.12005425989627838, 0.06753052026033401, 0.10504747927188873, 0.08253730088472366, 0.1575712114572525, 0.07503391057252884, 0.1275576502084732, 0.08253730088472366, 0.09004069864749908, 0.08253730088472366, 0.16267035901546478, 0.08133517950773239, 0.06698191165924072, 0.1267872005701065, 0.10764950513839722, 0.08611960709095001, 0.0837273970246315, 0.11243392527103424, 0.1052572950720787, 0.06458970159292221, 0.4407106041908264, 0.2275170385837555, 0.2275170385837555, 0.2275170385837555, 0.12091647833585739, 0.059272781014442444, 0.15885105729103088, 0.10432009398937225, 0.09483645111322403, 0.10669101029634476, 0.09720735996961594, 0.07824007421731949, 0.0853528082370758, 0.09483645111322403, 0.09723341464996338, 0.10632719099521637, 0.09303629398345947, 0.09583437442779541, 0.09163724631071091, 0.10982479155063629, 0.10842575132846832, 0.11682000756263733, 0.09513485431671143, 0.08604107797145844, 0.09861849248409271, 0.13251860439777374, 0.10478214919567108, 0.10478214919567108, 0.11710945516824722, 0.10478214919567108, 0.12943677604198456, 0.07396386563777924, 0.06471838802099228, 0.07088203728199005, 0.09458471834659576, 0.10509412735700607, 0.08670265972614288, 0.11034883558750153, 0.11297618597745895, 0.13924972712993622, 0.09458471834659576, 0.08144795149564743, 0.07619324326515198, 0.10246677696704865, 0.44061869382858276, 0.13889265060424805, 0.2777853012084961, 0.13889265060424805, 0.13889265060424805, 0.13889265060424805, 0.11920494586229324, 0.105959951877594, 0.11589369922876358, 0.08278121054172516, 0.07505496591329575, 0.088299959897995, 0.070639967918396, 0.10044120252132416, 0.15121367573738098, 0.09161120653152466, 0.128684863448143, 0.08525372296571732, 0.1158163845539093, 0.1592475324869156, 0.12385918945074081, 0.09812221676111221, 0.06112531200051308, 0.09329652786254883, 0.06112531200051308, 0.07560236006975174, 0.32495641708374023, 0.1276610940694809, 0.1183200404047966, 0.09341055899858475, 0.05293264985084534, 0.09963792562484741, 0.08718318492174149, 0.07472844421863556, 0.1276610940694809, 0.08718318492174149, 0.13077478110790253, 0.19185630977153778, 0.19185630977153778, 0.19185630977153778, 0.3241989016532898, 0.10925953835248947, 0.09640547633171082, 0.07873114198446274, 0.10122574865818024, 0.12372036278247833, 0.08997844904661179, 0.10765278339385986, 0.11890009045600891, 0.07712437957525253, 0.09479872137308121, 0.324599951505661, 0.6224190592765808, 0.6224216222763062], \"Term\": [\"able\", \"able\", \"able\", \"able\", \"able\", \"able\", \"able\", \"able\", \"able\", \"able\", \"absolutely\", \"absolutely\", \"absolutely\", \"absolutely\", \"absolutely\", \"absolutely\", \"absolutely\", \"absolutely\", \"absolutely\", \"absolutely\", \"accepting\", \"accepting\", \"accepting\", \"accepting\", \"accepting\", \"accepting\", \"accepting\", \"accounting\", \"accueil\", \"accueil\", \"accueil\", \"actually\", \"actually\", \"actually\", \"actually\", \"actually\", \"actually\", \"actually\", \"actually\", \"actually\", \"actually\", \"adovada\", \"adovada\", \"aged\", \"aged\", \"aged\", \"aged\", \"aged\", \"aged\", \"aged\", \"aged\", \"aged\", \"aged\", \"aims\", \"alway\", \"alway\", \"alway\", \"amature\", \"amazing\", \"amazing\", \"amazing\", \"amazing\", \"amazing\", \"amazing\", \"amazing\", \"amazing\", \"amazing\", \"amazing\", \"annoyance\", \"annoyance\", \"annoyance\", \"aptive\", \"aptive\", \"aptive\", \"area\", \"area\", \"area\", \"area\", \"area\", \"area\", \"area\", \"area\", \"area\", \"area\", \"arturo\", \"arturo\", \"asked\", \"asked\", \"asked\", \"asked\", \"asked\", \"asked\", \"asked\", \"asked\", \"asked\", \"asked\", \"atmospheres\", \"atmospheres\", \"atms\", \"attitude\", \"attitude\", \"attitude\", \"attitude\", \"attitude\", \"attitude\", \"attitude\", \"attitude\", \"attitude\", \"attitude\", \"aveda\", \"aveda\", \"aveda\", \"aveda\", \"avoid\", \"avoid\", \"avoid\", \"avoid\", \"avoid\", \"avoid\", \"avoid\", \"avoid\", \"avoid\", \"avoid\", \"away\", \"away\", \"away\", \"away\", \"away\", \"away\", \"away\", \"away\", \"away\", \"away\", \"awesome\", \"awesome\", \"awesome\", \"awesome\", \"awesome\", \"awesome\", \"awesome\", \"awesome\", \"awesome\", \"awesome\", \"backpack\", \"backyard\", \"backyard\", \"backyard\", \"backyard\", \"backyard\", \"backyard\", \"backyard\", \"backyard\", \"backyard\", \"backyard\", \"bail\", \"bail\", \"bail\", \"bail\", \"bail\", \"bail\", \"bail\", \"bail\", \"banana\", \"banana\", \"banana\", \"banana\", \"banana\", \"banana\", \"banana\", \"banana\", \"banana\", \"banana\", \"barley\", \"barley\", \"barro\", \"bathing\", \"bathing\", \"bathing\", \"beatles\", \"beatles\", \"beatles\", \"beatles\", \"beatles\", \"beatles\", \"beatles\", \"beause\", \"beautiful\", \"beautiful\", \"beautiful\", \"beautiful\", \"beautiful\", \"beautiful\", \"beautiful\", \"beautiful\", \"beautiful\", \"beautiful\", \"beef\", \"beef\", \"beef\", \"beef\", \"beef\", \"beef\", \"beef\", \"beef\", \"beef\", \"beef\", \"beer\", \"beer\", \"beer\", \"beer\", \"beer\", \"beer\", \"beer\", \"beer\", \"beer\", \"beer\", \"belgian\", \"belgian\", \"belgian\", \"belgian\", \"belgian\", \"belgian\", \"believer\", \"believer\", \"believer\", \"best\", \"best\", \"best\", \"best\", \"best\", \"best\", \"best\", \"best\", \"best\", \"best\", \"better\", \"better\", \"better\", \"better\", \"better\", \"better\", \"better\", \"better\", \"better\", \"better\", \"bikini\", \"bikini\", \"bikini\", \"bikini\", \"bikini\", \"bikini\", \"bikini\", \"bikini\", \"bikini\", \"bikini\", \"bind\", \"bind\", \"bind\", \"bite\", \"bite\", \"bite\", \"bite\", \"bite\", \"bite\", \"bite\", \"bite\", \"bite\", \"bite\", \"bitter\", \"bitter\", \"bitter\", \"bitter\", \"bitter\", \"bitter\", \"bitter\", \"bitter\", \"bitter\", \"bitter\", \"blink\", \"blink\", \"blink\", \"blink\", \"blode\", \"blower\", \"blower\", \"blower\", \"bobbie\", \"bobbie\", \"bobbie\", \"bobbie\", \"bobbie\", \"bobbie\", \"bobbie\", \"bobbie\", \"booster\", \"botanical\", \"botanical\", \"botanical\", \"botanical\", \"botanical\", \"bread\", \"bread\", \"bread\", \"bread\", \"bread\", \"bread\", \"bread\", \"bread\", \"bread\", \"bread\", \"breakfast\", \"breakfast\", \"breakfast\", \"breakfast\", \"breakfast\", \"breakfast\", \"breakfast\", \"breakfast\", \"breakfast\", \"breakfast\", \"brookline\", \"brookstone\", \"brookstone\", \"browbeaten\", \"browbeaten\", \"busy\", \"busy\", \"busy\", \"busy\", \"busy\", \"busy\", \"busy\", \"busy\", \"busy\", \"busy\", \"butterflies\", \"butterflies\", \"butterflies\", \"cafe\", \"cafe\", \"cafe\", \"cafe\", \"cafe\", \"cafe\", \"cafe\", \"cafe\", \"cafe\", \"cafe\", \"calabash\", \"calabash\", \"caliente\", \"caliente\", \"caliente\", \"caliente\", \"caliente\", \"called\", \"called\", \"called\", \"called\", \"called\", \"called\", \"called\", \"called\", \"called\", \"called\", \"came\", \"came\", \"came\", \"came\", \"came\", \"came\", \"came\", \"came\", \"came\", \"came\", \"capped\", \"capped\", \"capped\", \"carbonara\", \"carbonara\", \"carbonara\", \"carbonara\", \"carbonara\", \"carbonara\", \"carbonara\", \"carbonara\", \"carbonara\", \"carbonara\", \"care\", \"care\", \"care\", \"care\", \"care\", \"care\", \"care\", \"care\", \"care\", \"care\", \"cartridge\", \"cary\", \"cary\", \"case\", \"case\", \"case\", \"case\", \"case\", \"case\", \"case\", \"case\", \"case\", \"case\", \"casino\", \"casino\", \"casino\", \"casino\", \"casino\", \"casino\", \"casino\", \"casino\", \"casino\", \"casino\", \"chaleureux\", \"chaleureux\", \"chaleureux\", \"chaleureux\", \"chaufa\", \"chauffeured\", \"check\", \"check\", \"check\", \"check\", \"check\", \"check\", \"check\", \"check\", \"check\", \"check\", \"cheese\", \"cheese\", \"cheese\", \"cheese\", \"cheese\", \"cheese\", \"cheese\", \"cheese\", \"cheese\", \"cheese\", \"chicken\", \"chicken\", \"chicken\", \"chicken\", \"chicken\", \"chicken\", \"chicken\", \"chicken\", \"chicken\", \"chicken\", \"chintzy\", \"chintzy\", \"chock\", \"ch\\u00e8re\", \"clinical\", \"clinical\", \"clinical\", \"coffee\", \"coffee\", \"coffee\", \"coffee\", \"coffee\", \"coffee\", \"coffee\", \"coffee\", \"coffee\", \"coffee\", \"coffeeshop\", \"coins\", \"coins\", \"coins\", \"coins\", \"coins\", \"coins\", \"coins\", \"coins\", \"coins\", \"coins\", \"coldest\", \"coldest\", \"coldest\", \"come\", \"come\", \"come\", \"come\", \"come\", \"come\", \"come\", \"come\", \"come\", \"come\", \"comes\", \"comes\", \"comes\", \"comes\", \"comes\", \"comes\", \"comes\", \"comes\", \"comes\", \"comes\", \"coming\", \"coming\", \"coming\", \"coming\", \"coming\", \"coming\", \"coming\", \"coming\", \"coming\", \"coming\", \"communicate\", \"communicate\", \"communicate\", \"communicate\", \"communicate\", \"communicate\", \"communicate\", \"communicate\", \"communicate\", \"communicate\", \"conchas\", \"condensation\", \"contracted\", \"cool\", \"cool\", \"cool\", \"cool\", \"cool\", \"cool\", \"cool\", \"cool\", \"cool\", \"cool\", \"costumers\", \"costumers\", \"costumers\", \"couldn\", \"couldn\", \"couldn\", \"couldn\", \"couldn\", \"couldn\", \"couldn\", \"couldn\", \"couldn\", \"couldn\", \"counter\", \"counter\", \"counter\", \"counter\", \"counter\", \"counter\", \"counter\", \"counter\", \"counter\", \"counter\", \"crumbs\", \"crumbs\", \"crumbs\", \"crumbs\", \"crumbs\", \"crumbs\", \"crumbs\", \"crumbs\", \"crumbs\", \"crumbs\", \"culturally\", \"cure\", \"cure\", \"cure\", \"cure\", \"cure\", \"cure\", \"cure\", \"cure\", \"cure\", \"curl\", \"customer\", \"customer\", \"customer\", \"customer\", \"customer\", \"customer\", \"customer\", \"customer\", \"customer\", \"customer\", \"cute\", \"cute\", \"cute\", \"cute\", \"cute\", \"cute\", \"cute\", \"cute\", \"cute\", \"cute\", \"cwru\", \"cwru\", \"daaayyuuummm\", \"daaayyuuummm\", \"dahl\", \"dahl\", \"dances\", \"dances\", \"dances\", \"dances\", \"dances\", \"dances\", \"dances\", \"dances\", \"dances\", \"darlene\", \"darlene\", \"dawn\", \"dawn\", \"dawn\", \"dawn\", \"dawn\", \"dawn\", \"dawn\", \"dawn\", \"dawn\", \"days\", \"days\", \"days\", \"days\", \"days\", \"days\", \"days\", \"days\", \"days\", \"days\", \"decent\", \"decent\", \"decent\", \"decent\", \"decent\", \"decent\", \"decent\", \"decent\", \"decent\", \"decent\", \"decided\", \"decided\", \"decided\", \"decided\", \"decided\", \"decided\", \"decided\", \"decided\", \"decided\", \"decided\", \"definately\", \"definately\", \"definately\", \"definately\", \"definately\", \"definately\", \"definately\", \"definately\", \"definately\", \"definately\", \"definitely\", \"definitely\", \"definitely\", \"definitely\", \"definitely\", \"definitely\", \"definitely\", \"definitely\", \"definitely\", \"definitely\", \"delicious\", \"delicious\", \"delicious\", \"delicious\", \"delicious\", \"delicious\", \"delicious\", \"delicious\", \"delicious\", \"delicious\", \"delivary\", \"delivary\", \"delta\", \"delta\", \"delta\", \"delta\", \"delta\", \"delta\", \"delta\", \"demonic\", \"demonic\", \"demonic\", \"dentist\", \"dentist\", \"dentist\", \"dentist\", \"dentist\", \"dentist\", \"dentist\", \"dentist\", \"dentist\", \"dentist\", \"deptartment\", \"deptartment\", \"deter\", \"deter\", \"deter\", \"dgfwco\", \"dgfwco\", \"dgfwco\", \"dgfwco\", \"diagnostic\", \"diagnostic\", \"diagnostic\", \"diagnostic\", \"diagnostic\", \"diana\", \"diana\", \"diana\", \"diana\", \"diana\", \"diana\", \"diana\", \"diana\", \"diana\", \"diesel\", \"diesel\", \"different\", \"different\", \"different\", \"different\", \"different\", \"different\", \"different\", \"different\", \"different\", \"different\", \"dinner\", \"dinner\", \"dinner\", \"dinner\", \"dinner\", \"dinner\", \"dinner\", \"dinner\", \"dinner\", \"dinner\", \"discontinue\", \"dish\", \"dish\", \"dish\", \"dish\", \"dish\", \"dish\", \"dish\", \"dish\", \"dish\", \"dish\", \"disinfecting\", \"disposable\", \"disposable\", \"donair\", \"donair\", \"donair\", \"donair\", \"donair\", \"donair\", \"donovan\", \"donovan\", \"donovan\", \"donovan\", \"donovan\", \"donovan\", \"donuts\", \"donuts\", \"donuts\", \"donuts\", \"donuts\", \"donuts\", \"donuts\", \"donuts\", \"donuts\", \"donuts\", \"drink\", \"drink\", \"drink\", \"drink\", \"drink\", \"drink\", \"drink\", \"drink\", \"drink\", \"drink\", \"drinks\", \"drinks\", \"drinks\", \"drinks\", \"drinks\", \"drinks\", \"drinks\", \"drinks\", \"drinks\", \"drinks\", \"durian\", \"engages\", \"erica\", \"erica\", \"erica\", \"erica\", \"erica\", \"erica\", \"erica\", \"erica\", \"erika\", \"erika\", \"everrr\", \"everrr\", \"everrr\", \"everrrrr\", \"excellent\", \"excellent\", \"excellent\", \"excellent\", \"excellent\", \"excellent\", \"excellent\", \"excellent\", \"excellent\", \"excellent\", \"expensive\", \"expensive\", \"expensive\", \"expensive\", \"expensive\", \"expensive\", \"expensive\", \"expensive\", \"expensive\", \"expensive\", \"experience\", \"experience\", \"experience\", \"experience\", \"experience\", \"experience\", \"experience\", \"experience\", \"experience\", \"experience\", \"falcon\", \"falcon\", \"family\", \"family\", \"family\", \"family\", \"family\", \"family\", \"family\", \"family\", \"family\", \"family\", \"fantastic\", \"fantastic\", \"fantastic\", \"fantastic\", \"fantastic\", \"fantastic\", \"fantastic\", \"fantastic\", \"fantastic\", \"fantastic\", \"favorite\", \"favorite\", \"favorite\", \"favorite\", \"favorite\", \"favorite\", \"favorite\", \"favorite\", \"favorite\", \"favorite\", \"feel\", \"feel\", \"feel\", \"feel\", \"feel\", \"feel\", \"feel\", \"feel\", \"feel\", \"feel\", \"fetish\", \"fetish\", \"fetish\", \"finally\", \"finally\", \"finally\", \"finally\", \"finally\", \"finally\", \"finally\", \"finally\", \"finally\", \"finally\", \"fines\", \"fines\", \"fines\", \"fines\", \"fingernail\", \"fingernail\", \"finie\", \"flavor\", \"flavor\", \"flavor\", \"flavor\", \"flavor\", \"flavor\", \"flavor\", \"flavor\", \"flavor\", \"flavor\", \"flyest\", \"food\", \"food\", \"food\", \"food\", \"food\", \"food\", \"food\", \"food\", \"food\", \"food\", \"fountain\", \"fountain\", \"fountain\", \"fountain\", \"fountain\", \"fountain\", \"fountain\", \"fountain\", \"fountain\", \"fountain\", \"free\", \"free\", \"free\", \"free\", \"free\", \"free\", \"free\", \"free\", \"free\", \"free\", \"fresh\", \"fresh\", \"fresh\", \"fresh\", \"fresh\", \"fresh\", \"fresh\", \"fresh\", \"fresh\", \"fresh\", \"fresher\", \"fresher\", \"fresher\", \"fridendly\", \"fridendly\", \"fried\", \"fried\", \"fried\", \"fried\", \"fried\", \"fried\", \"fried\", \"fried\", \"fried\", \"fried\", \"friend\", \"friend\", \"friend\", \"friend\", \"friend\", \"friend\", \"friend\", \"friend\", \"friend\", \"friend\", \"friendly\", \"friendly\", \"friendly\", \"friendly\", \"friendly\", \"friendly\", \"friendly\", \"friendly\", \"friendly\", \"friendly\", \"froide\", \"froide\", \"frosting\", \"frosting\", \"frosting\", \"frosting\", \"frosting\", \"frosting\", \"frosting\", \"frosting\", \"frosting\", \"frosting\", \"fungus\", \"fungus\", \"fungus\", \"fungus\", \"ghetto\", \"ghetto\", \"ghetto\", \"ghetto\", \"ghetto\", \"ghetto\", \"ghetto\", \"ghetto\", \"girl\", \"girl\", \"girl\", \"girl\", \"girl\", \"girl\", \"girl\", \"girl\", \"girl\", \"girl\", \"glass\", \"glass\", \"glass\", \"glass\", \"glass\", \"glass\", \"glass\", \"glass\", \"glass\", \"glass\", \"gnocci\", \"going\", \"going\", \"going\", \"going\", \"going\", \"going\", \"going\", \"going\", \"going\", \"going\", \"golfweek\", \"good\", \"good\", \"good\", \"good\", \"good\", \"good\", \"good\", \"good\", \"good\", \"good\", \"gratitude\", \"great\", \"great\", \"great\", \"great\", \"great\", \"great\", \"great\", \"great\", \"great\", \"great\", \"greulich\", \"growling\", \"growling\", \"grubhub\", \"grubhub\", \"grubhub\", \"grubhub\", \"grubhub\", \"grubhub\", \"grubhub\", \"grubhub\", \"guns\", \"guns\", \"guns\", \"guns\", \"guns\", \"guns\", \"guns\", \"gutters\", \"hadn\", \"hadn\", \"hadn\", \"hadn\", \"hadn\", \"hadn\", \"hadn\", \"hadn\", \"hadn\", \"hadn\", \"hair\", \"hair\", \"hair\", \"hair\", \"hair\", \"hair\", \"hair\", \"hair\", \"hair\", \"hair\", \"haircut\", \"haircut\", \"haircut\", \"haircut\", \"haircut\", \"haircut\", \"haircut\", \"haircut\", \"haircut\", \"haircut\", \"hairstylist\", \"hairstylist\", \"halo\", \"halo\", \"halo\", \"halo\", \"halo\", \"halo\", \"halo\", \"halo\", \"halo\", \"happened\", \"happened\", \"happened\", \"happened\", \"happened\", \"happened\", \"happened\", \"happened\", \"happened\", \"happened\", \"happy\", \"happy\", \"happy\", \"happy\", \"happy\", \"happy\", \"happy\", \"happy\", \"happy\", \"happy\", \"haven\", \"haven\", \"haven\", \"haven\", \"haven\", \"haven\", \"haven\", \"haven\", \"haven\", \"haven\", \"high\", \"high\", \"high\", \"high\", \"high\", \"high\", \"high\", \"high\", \"high\", \"high\", \"highly\", \"highly\", \"highly\", \"highly\", \"highly\", \"highly\", \"highly\", \"highly\", \"highly\", \"highly\", \"holly\", \"holly\", \"holly\", \"holly\", \"holly\", \"holly\", \"home\", \"home\", \"home\", \"home\", \"home\", \"home\", \"home\", \"home\", \"home\", \"home\", \"hostess\", \"hostess\", \"hostess\", \"hostess\", \"hostess\", \"hostess\", \"hostess\", \"hostess\", \"hostess\", \"hostess\", \"hour\", \"hour\", \"hour\", \"hour\", \"hour\", \"hour\", \"hour\", \"hour\", \"hour\", \"hour\", \"house\", \"house\", \"house\", \"house\", \"house\", \"house\", \"house\", \"house\", \"house\", \"house\", \"huervos\", \"huge\", \"huge\", \"huge\", \"huge\", \"huge\", \"huge\", \"huge\", \"huge\", \"huge\", \"huge\", \"hunan\", \"husband\", \"husband\", \"husband\", \"husband\", \"husband\", \"husband\", \"husband\", \"husband\", \"husband\", \"husband\", \"imcomplete\", \"imcomplete\", \"imcomplete\", \"insectarium\", \"intelligent\", \"intelligent\", \"intelligent\", \"intelligent\", \"intelligent\", \"intelligently\", \"intelligently\", \"irrigation\", \"irrigation\", \"items\", \"items\", \"items\", \"items\", \"items\", \"items\", \"items\", \"items\", \"items\", \"items\", \"jackpot\", \"jackpot\", \"jackpot\", \"jackpot\", \"jackpot\", \"jackpot\", \"jackpot\", \"jackpot\", \"jackpot\", \"jake\", \"jake\", \"jake\", \"jake\", \"jekyll\", \"jekyll\", \"jekyll\", \"jekyll\", \"jina\", \"jina\", \"joke\", \"joke\", \"joke\", \"joke\", \"joke\", \"joke\", \"joke\", \"joke\", \"joke\", \"joke\", \"julio\", \"kang\", \"kang\", \"kang\", \"kang\", \"karate\", \"kathleen\", \"kathleen\", \"kathleen\", \"kathleen\", \"kathleen\", \"kathleen\", \"kathleen\", \"kathleen\", \"kathleen\", \"kathleen\", \"kendel\", \"kendel\", \"kendel\", \"keri\", \"keri\", \"keri\", \"keri\", \"keri\", \"keri\", \"keri\", \"keri\", \"keylime\", \"keylime\", \"keylime\", \"keylime\", \"keylime\", \"kind\", \"kind\", \"kind\", \"kind\", \"kind\", \"kind\", \"kind\", \"kind\", \"kind\", \"kind\", \"know\", \"know\", \"know\", \"know\", \"know\", \"know\", \"know\", \"know\", \"know\", \"know\", \"kristy\", \"krung\", \"krung\", \"laguna\", \"large\", \"large\", \"large\", \"large\", \"large\", \"large\", \"large\", \"large\", \"large\", \"large\", \"laziness\", \"leaking\", \"leaking\", \"leaking\", \"leaking\", \"leaking\", \"leaking\", \"leaking\", \"leaking\", \"leaking\", \"leaking\", \"leave\", \"leave\", \"leave\", \"leave\", \"leave\", \"leave\", \"leave\", \"leave\", \"leave\", \"leave\", \"licensed\", \"licensed\", \"licensed\", \"licensed\", \"licensed\", \"lifetime\", \"lifetime\", \"lifetime\", \"lifetime\", \"lifetime\", \"lifetime\", \"lifetime\", \"lifetime\", \"lifetime\", \"lifetime\", \"like\", \"like\", \"like\", \"like\", \"like\", \"like\", \"like\", \"like\", \"like\", \"like\", \"limits\", \"limits\", \"limits\", \"linda\", \"linda\", \"linda\", \"little\", \"little\", \"little\", \"little\", \"little\", \"little\", \"little\", \"little\", \"little\", \"little\", \"livraison\", \"location\", \"location\", \"location\", \"location\", \"location\", \"location\", \"location\", \"location\", \"location\", \"location\", \"lomax\", \"long\", \"long\", \"long\", \"long\", \"long\", \"long\", \"long\", \"long\", \"long\", \"long\", \"look\", \"look\", \"look\", \"look\", \"look\", \"look\", \"look\", \"look\", \"look\", \"look\", \"looked\", \"looked\", \"looked\", \"looked\", \"looked\", \"looked\", \"looked\", \"looked\", \"looked\", \"looked\", \"looking\", \"looking\", \"looking\", \"looking\", \"looking\", \"looking\", \"looking\", \"looking\", \"looking\", \"looking\", \"lots\", \"lots\", \"lots\", \"lots\", \"lots\", \"lots\", \"lots\", \"lots\", \"lots\", \"lots\", \"love\", \"love\", \"love\", \"love\", \"love\", \"love\", \"love\", \"love\", \"love\", \"love\", \"loves\", \"loves\", \"loves\", \"loves\", \"loves\", \"loves\", \"loves\", \"loves\", \"loves\", \"loves\", \"luci\", \"luci\", \"luddite\", \"lunch\", \"lunch\", \"lunch\", \"lunch\", \"lunch\", \"lunch\", \"lunch\", \"lunch\", \"lunch\", \"lunch\", \"luxuriously\", \"mall\", \"mall\", \"mall\", \"mall\", \"mall\", \"mall\", \"mall\", \"mall\", \"mall\", \"mall\", \"manager\", \"manager\", \"manager\", \"manager\", \"manager\", \"manager\", \"manager\", \"manager\", \"manager\", \"manager\", \"market\", \"market\", \"market\", \"market\", \"market\", \"market\", \"market\", \"market\", \"market\", \"market\", \"mashed\", \"mashed\", \"mashed\", \"mashed\", \"mashed\", \"mashed\", \"mashed\", \"mashed\", \"mashed\", \"mashed\", \"massage\", \"massage\", \"massage\", \"massage\", \"massage\", \"massage\", \"massage\", \"massage\", \"massage\", \"massage\", \"maternity\", \"maternity\", \"maternity\", \"maternity\", \"maternity\", \"matthew\", \"matthew\", \"matthew\", \"maybe\", \"maybe\", \"maybe\", \"maybe\", \"maybe\", \"maybe\", \"maybe\", \"maybe\", \"maybe\", \"maybe\", \"meal\", \"meal\", \"meal\", \"meal\", \"meal\", \"meal\", \"meal\", \"meal\", \"meal\", \"meal\", \"meat\", \"meat\", \"meat\", \"meat\", \"meat\", \"meat\", \"meat\", \"meat\", \"meat\", \"meat\", \"medallions\", \"medallions\", \"megaphone\", \"megaphone\", \"melinda\", \"menu\", \"menu\", \"menu\", \"menu\", \"menu\", \"menu\", \"menu\", \"menu\", \"menu\", \"menu\", \"merest\", \"merest\", \"merest\", \"metros\", \"metros\", \"mexican\", \"mexican\", \"mexican\", \"mexican\", \"mexican\", \"mexican\", \"mexican\", \"mexican\", \"mexican\", \"mexican\", \"mikes\", \"mikes\", \"minutes\", \"minutes\", \"minutes\", \"minutes\", \"minutes\", \"minutes\", \"minutes\", \"minutes\", \"minutes\", \"minutes\", \"mixer\", \"momma\", \"momma\", \"money\", \"money\", \"money\", \"money\", \"money\", \"money\", \"money\", \"money\", \"money\", \"money\", \"motorcycle\", \"music\", \"music\", \"music\", \"music\", \"music\", \"music\", \"music\", \"music\", \"music\", \"music\", \"mussels\", \"mussels\", \"mussels\", \"mussels\", \"mussels\", \"mussels\", \"mussels\", \"mussels\", \"mussels\", \"mussels\", \"nacs\", \"need\", \"need\", \"need\", \"need\", \"need\", \"need\", \"need\", \"need\", \"need\", \"need\", \"neil\", \"nice\", \"nice\", \"nice\", \"nice\", \"nice\", \"nice\", \"nice\", \"nice\", \"nice\", \"nice\", \"night\", \"night\", \"night\", \"night\", \"night\", \"night\", \"night\", \"night\", \"night\", \"night\", \"nite\", \"nite\", \"nite\", \"nite\", \"nite\", \"nite\", \"nite\", \"nite\", \"nite\", \"nite\", \"noncommunitive\", \"nvehxcfvvv\", \"omelette\", \"omelette\", \"omelette\", \"omelette\", \"omelette\", \"omelette\", \"omelette\", \"omelette\", \"omelette\", \"omelette\", \"order\", \"order\", \"order\", \"order\", \"order\", \"order\", \"order\", \"order\", \"order\", \"order\", \"ordered\", \"ordered\", \"ordered\", \"ordered\", \"ordered\", \"ordered\", \"ordered\", \"ordered\", \"ordered\", \"ordered\", \"orellana\", \"organis\\u00e9\", \"organis\\u00e9\", \"outstanding\", \"outstanding\", \"outstanding\", \"outstanding\", \"outstanding\", \"outstanding\", \"outstanding\", \"outstanding\", \"outstanding\", \"outstanding\", \"paced\", \"paced\", \"paced\", \"paced\", \"palmas\", \"paper\", \"paper\", \"paper\", \"paper\", \"paper\", \"paper\", \"paper\", \"paper\", \"paper\", \"paper\", \"past\", \"past\", \"past\", \"past\", \"past\", \"past\", \"past\", \"past\", \"past\", \"past\", \"patio\", \"patio\", \"patio\", \"patio\", \"patio\", \"patio\", \"patio\", \"patio\", \"patio\", \"patio\", \"pavers\", \"pavers\", \"pavers\", \"pavers\", \"pavers\", \"pavers\", \"peggy\", \"people\", \"people\", \"people\", \"people\", \"people\", \"people\", \"people\", \"people\", \"people\", \"people\", \"person\", \"person\", \"person\", \"person\", \"person\", \"person\", \"person\", \"person\", \"person\", \"person\", \"personnels\", \"personnels\", \"photographers\", \"photographers\", \"photographers\", \"photographers\", \"photographers\", \"photographers\", \"picante\", \"picante\", \"picante\", \"pimpin\", \"pizza\", \"pizza\", \"pizza\", \"pizza\", \"pizza\", \"pizza\", \"pizza\", \"pizza\", \"pizza\", \"pizza\", \"place\", \"place\", \"place\", \"place\", \"place\", \"place\", \"place\", \"place\", \"place\", \"place\", \"plut\\u00f4t\", \"plut\\u00f4t\", \"plut\\u00f4t\", \"plut\\u00f4t\", \"plut\\u00f4t\", \"plut\\u00f4t\", \"plut\\u00f4t\", \"plut\\u00f4t\", \"point\", \"point\", \"point\", \"point\", \"point\", \"point\", \"point\", \"point\", \"point\", \"point\", \"pok\\u00e9\", \"poms\", \"poms\", \"pork\", \"pork\", \"pork\", \"pork\", \"pork\", \"pork\", \"pork\", \"pork\", \"pork\", \"pork\", \"posoleshawwty\", \"posoleshawwty\", \"posoleshawwty\", \"posta\", \"potstickers\", \"potstickers\", \"potstickers\", \"pottery\", \"pottery\", \"pretty\", \"pretty\", \"pretty\", \"pretty\", \"pretty\", \"pretty\", \"pretty\", \"pretty\", \"pretty\", \"pretty\", \"price\", \"price\", \"price\", \"price\", \"price\", \"price\", \"price\", \"price\", \"price\", \"price\", \"procedure\", \"procedure\", \"procedure\", \"procedure\", \"procedure\", \"procedure\", \"procedure\", \"procedure\", \"procedure\", \"procedure\", \"producer\", \"professional\", \"professional\", \"professional\", \"professional\", \"professional\", \"professional\", \"professional\", \"professional\", \"professional\", \"professional\", \"progressing\", \"progressing\", \"progressing\", \"progressing\", \"progressing\", \"progressing\", \"propre\", \"propre\", \"protein\", \"protein\", \"protein\", \"protein\", \"protein\", \"protein\", \"protein\", \"protein\", \"protein\", \"protein\", \"purolator\", \"purolator\", \"quality\", \"quality\", \"quality\", \"quality\", \"quality\", \"quality\", \"quality\", \"quality\", \"quality\", \"quality\", \"rare\", \"rare\", \"rare\", \"rare\", \"rare\", \"rare\", \"rare\", \"rare\", \"rare\", \"rare\", \"reclining\", \"reclining\", \"reclining\", \"reclining\", \"reclining\", \"reclining\", \"reclining\", \"reclining\", \"recommend\", \"recommend\", \"recommend\", \"recommend\", \"recommend\", \"recommend\", \"recommend\", \"recommend\", \"recommend\", \"recommend\", \"reduced\", \"reduced\", \"reduced\", \"reduced\", \"reduced\", \"reduced\", \"reduced\", \"reduced\", \"reduced\", \"reduced\", \"reef\", \"reef\", \"reef\", \"reef\", \"reef\", \"repair\", \"repair\", \"repair\", \"repair\", \"repair\", \"repair\", \"repair\", \"repair\", \"repair\", \"repair\", \"reservation\", \"reservation\", \"reservation\", \"reservation\", \"reservation\", \"reservation\", \"reservation\", \"reservation\", \"reservation\", \"reservation\", \"respectueux\", \"respectueux\", \"restaurant\", \"restaurant\", \"restaurant\", \"restaurant\", \"restaurant\", \"restaurant\", \"restaurant\", \"restaurant\", \"restaurant\", \"restaurant\", \"return\", \"return\", \"return\", \"return\", \"return\", \"return\", \"return\", \"return\", \"return\", \"return\", \"review\", \"review\", \"review\", \"review\", \"review\", \"review\", \"review\", \"review\", \"review\", \"review\", \"rice\", \"rice\", \"rice\", \"rice\", \"rice\", \"rice\", \"rice\", \"rice\", \"rice\", \"rice\", \"ridgeville\", \"right\", \"right\", \"right\", \"right\", \"right\", \"right\", \"right\", \"right\", \"right\", \"right\", \"room\", \"room\", \"room\", \"room\", \"room\", \"room\", \"room\", \"room\", \"room\", \"room\", \"roomtastic\", \"roomtastic\", \"rougher\", \"ruddy\", \"rude\", \"rude\", \"rude\", \"rude\", \"rude\", \"rude\", \"rude\", \"rude\", \"rude\", \"rude\", \"said\", \"said\", \"said\", \"said\", \"said\", \"said\", \"said\", \"said\", \"said\", \"said\", \"salad\", \"salad\", \"salad\", \"salad\", \"salad\", \"salad\", \"salad\", \"salad\", \"salad\", \"salad\", \"salmon\", \"salmon\", \"salmon\", \"salmon\", \"salmon\", \"salmon\", \"salmon\", \"salmon\", \"salmon\", \"salmon\", \"salon\", \"salon\", \"salon\", \"salon\", \"salon\", \"salon\", \"salon\", \"salon\", \"salon\", \"salon\", \"samantha\", \"samantha\", \"samantha\", \"samantha\", \"samantha\", \"samantha\", \"samantha\", \"samantha\", \"samantha\", \"samoa\", \"sandwich\", \"sandwich\", \"sandwich\", \"sandwich\", \"sandwich\", \"sandwich\", \"sandwich\", \"sandwich\", \"sandwich\", \"sandwich\", \"satified\", \"satisfyingly\", \"sauce\", \"sauce\", \"sauce\", \"sauce\", \"sauce\", \"sauce\", \"sauce\", \"sauce\", \"sauce\", \"sauce\", \"saves\", \"saves\", \"saves\", \"scowled\", \"scraping\", \"screwed\", \"screwed\", \"screwed\", \"screwed\", \"screwed\", \"screwed\", \"screwed\", \"screwed\", \"screwed\", \"screwed\", \"sensei\", \"server\", \"server\", \"server\", \"server\", \"server\", \"server\", \"server\", \"server\", \"server\", \"server\", \"service\", \"service\", \"service\", \"service\", \"service\", \"service\", \"service\", \"service\", \"service\", \"service\", \"serving\", \"serving\", \"serving\", \"serving\", \"serving\", \"serving\", \"serving\", \"serving\", \"serving\", \"serving\", \"servis\", \"sheldon\", \"sheldon\", \"sheldon\", \"shimp\", \"shop\", \"shop\", \"shop\", \"shop\", \"shop\", \"shop\", \"shop\", \"shop\", \"shop\", \"shop\", \"sign\", \"sign\", \"sign\", \"sign\", \"sign\", \"sign\", \"sign\", \"sign\", \"sign\", \"sign\", \"size\", \"size\", \"size\", \"size\", \"size\", \"size\", \"size\", \"size\", \"size\", \"size\", \"small\", \"small\", \"small\", \"small\", \"small\", \"small\", \"small\", \"small\", \"small\", \"small\", \"sone\", \"sont\", \"sont\", \"sont\", \"sont\", \"sont\", \"sont\", \"sont\", \"sont\", \"sont\", \"sont\", \"sophia\", \"sophia\", \"sophia\", \"sophia\", \"sophia\", \"sophia\", \"sophia\", \"sophia\", \"sophia\", \"sophia\", \"spicy\", \"spicy\", \"spicy\", \"spicy\", \"spicy\", \"spicy\", \"spicy\", \"spicy\", \"spicy\", \"spicy\", \"squishies\", \"squishies\", \"stacy\", \"stacy\", \"stadium\", \"stadium\", \"stadium\", \"stadium\", \"stadium\", \"stadium\", \"stadium\", \"stadium\", \"stadium\", \"stadium\", \"staff\", \"staff\", \"staff\", \"staff\", \"staff\", \"staff\", \"staff\", \"staff\", \"staff\", \"staff\", \"stance\", \"stars\", \"stars\", \"stars\", \"stars\", \"stars\", \"stars\", \"stars\", \"stars\", \"stars\", \"stars\", \"started\", \"started\", \"started\", \"started\", \"started\", \"started\", \"started\", \"started\", \"started\", \"started\", \"stationnement\", \"stationnement\", \"stationnement\", \"stole\", \"stole\", \"stole\", \"stole\", \"stole\", \"stole\", \"stole\", \"stole\", \"stole\", \"stole\", \"stomp\", \"stop\", \"stop\", \"stop\", \"stop\", \"stop\", \"stop\", \"stop\", \"stop\", \"stop\", \"stop\", \"store\", \"store\", \"store\", \"store\", \"store\", \"store\", \"store\", \"store\", \"store\", \"store\", \"street\", \"street\", \"street\", \"street\", \"street\", \"street\", \"street\", \"street\", \"street\", \"street\", \"stupidity\", \"successful\", \"successful\", \"successful\", \"successful\", \"successful\", \"successful\", \"successful\", \"successful\", \"successful\", \"successful\", \"sunny\", \"sunny\", \"sunny\", \"sunny\", \"sunny\", \"sunny\", \"sunny\", \"sunny\", \"sunny\", \"sunny\", \"super\", \"super\", \"super\", \"super\", \"super\", \"super\", \"super\", \"super\", \"super\", \"super\", \"sure\", \"sure\", \"sure\", \"sure\", \"sure\", \"sure\", \"sure\", \"sure\", \"sure\", \"sure\", \"sushi\", \"sushi\", \"sushi\", \"sushi\", \"sushi\", \"sushi\", \"sushi\", \"sushi\", \"sushi\", \"sushi\", \"swamped\", \"swedish\", \"swedish\", \"swedish\", \"swedish\", \"swedish\", \"swedish\", \"swift\", \"s\\u00e9lection\", \"table\", \"table\", \"table\", \"table\", \"table\", \"table\", \"table\", \"table\", \"table\", \"table\", \"tables\", \"tables\", \"tables\", \"tables\", \"tables\", \"tables\", \"tables\", \"tables\", \"tables\", \"tables\", \"taking\", \"taking\", \"taking\", \"taking\", \"taking\", \"taking\", \"taking\", \"taking\", \"taking\", \"taking\", \"tans\", \"taste\", \"taste\", \"taste\", \"taste\", \"taste\", \"taste\", \"taste\", \"taste\", \"taste\", \"taste\", \"thank\", \"thank\", \"thank\", \"thank\", \"thank\", \"thank\", \"thank\", \"thank\", \"thank\", \"thank\", \"thenk\", \"thing\", \"thing\", \"thing\", \"thing\", \"thing\", \"thing\", \"thing\", \"thing\", \"thing\", \"thing\", \"things\", \"things\", \"things\", \"things\", \"things\", \"things\", \"things\", \"things\", \"things\", \"things\", \"think\", \"think\", \"think\", \"think\", \"think\", \"think\", \"think\", \"think\", \"think\", \"think\", \"thread\", \"thread\", \"tide\", \"tide\", \"tikki\", \"tikki\", \"time\", \"time\", \"time\", \"time\", \"time\", \"time\", \"time\", \"time\", \"time\", \"time\", \"times\", \"times\", \"times\", \"times\", \"times\", \"times\", \"times\", \"times\", \"times\", \"times\", \"today\", \"today\", \"today\", \"today\", \"today\", \"today\", \"today\", \"today\", \"today\", \"today\", \"told\", \"told\", \"told\", \"told\", \"told\", \"told\", \"told\", \"told\", \"told\", \"told\", \"took\", \"took\", \"took\", \"took\", \"took\", \"took\", \"took\", \"took\", \"took\", \"took\", \"toronto\", \"toronto\", \"toronto\", \"toronto\", \"toronto\", \"toronto\", \"toronto\", \"toronto\", \"toronto\", \"toronto\", \"trainers\", \"trainers\", \"trainers\", \"trainers\", \"trainers\", \"trainers\", \"trainers\", \"trainers\", \"trainers\", \"trainers\", \"treated\", \"treated\", \"treated\", \"treated\", \"treated\", \"treated\", \"treated\", \"treated\", \"treated\", \"treated\", \"tried\", \"tried\", \"tried\", \"tried\", \"tried\", \"tried\", \"tried\", \"tried\", \"tried\", \"tried\", \"truvyjones\", \"truvyjones\", \"tumi\", \"unorganized\", \"unorganized\", \"unorganized\", \"unorganized\", \"unorganized\", \"unorganized\", \"unorganized\", \"unorganized\", \"unorganized\", \"unorganized\", \"usually\", \"usually\", \"usually\", \"usually\", \"usually\", \"usually\", \"usually\", \"usually\", \"usually\", \"usually\", \"vadai\", \"vadai\", \"vanessa\", \"vanessa\", \"vanessa\", \"vanessa\", \"vanessa\", \"vanessa\", \"vanessa\", \"vanessa\", \"vanessa\", \"vasil\", \"vegas\", \"vegas\", \"vegas\", \"vegas\", \"vegas\", \"vegas\", \"vegas\", \"vegas\", \"vegas\", \"vegas\", \"viateur\", \"viateur\", \"viateur\", \"violent\", \"visited\", \"visited\", \"visited\", \"visited\", \"visited\", \"visited\", \"visited\", \"visited\", \"visited\", \"visited\", \"wait\", \"wait\", \"wait\", \"wait\", \"wait\", \"wait\", \"wait\", \"wait\", \"wait\", \"wait\", \"waited\", \"waited\", \"waited\", \"waited\", \"waited\", \"waited\", \"waited\", \"waited\", \"waited\", \"waited\", \"walkthrough\", \"walkthrough\", \"walkthrough\", \"walkthrough\", \"want\", \"want\", \"want\", \"want\", \"want\", \"want\", \"want\", \"want\", \"want\", \"want\", \"washing\", \"washing\", \"washing\", \"washing\", \"washing\", \"washing\", \"washing\", \"washing\", \"washing\", \"washing\", \"wasn\", \"wasn\", \"wasn\", \"wasn\", \"wasn\", \"wasn\", \"wasn\", \"wasn\", \"wasn\", \"wasn\", \"waste\", \"waste\", \"waste\", \"waste\", \"waste\", \"waste\", \"waste\", \"waste\", \"waste\", \"waste\", \"water\", \"water\", \"water\", \"water\", \"water\", \"water\", \"water\", \"water\", \"water\", \"water\", \"waved\", \"waxes\", \"waxes\", \"waxes\", \"week\", \"week\", \"week\", \"week\", \"week\", \"week\", \"week\", \"week\", \"week\", \"week\", \"went\", \"went\", \"went\", \"went\", \"went\", \"went\", \"went\", \"went\", \"went\", \"went\", \"wife\", \"wife\", \"wife\", \"wife\", \"wife\", \"wife\", \"wife\", \"wife\", \"wife\", \"wife\", \"wine\", \"wine\", \"wine\", \"wine\", \"wine\", \"wine\", \"wine\", \"wine\", \"wine\", \"wine\", \"woop\", \"woot\", \"woot\", \"woot\", \"woot\", \"woot\", \"work\", \"work\", \"work\", \"work\", \"work\", \"work\", \"work\", \"work\", \"work\", \"work\", \"worth\", \"worth\", \"worth\", \"worth\", \"worth\", \"worth\", \"worth\", \"worth\", \"worth\", \"worth\", \"wrestlemania\", \"wrong\", \"wrong\", \"wrong\", \"wrong\", \"wrong\", \"wrong\", \"wrong\", \"wrong\", \"wrong\", \"wrong\", \"yasmin\", \"yasmin\", \"yasmin\", \"yeahhhhhhh\", \"years\", \"years\", \"years\", \"years\", \"years\", \"years\", \"years\", \"years\", \"years\", \"years\", \"yummers\", \"\\u3068\\u3066\\u3082\\u6c17\\u306b\\u5165\\u308a\\u307e\\u3057\\u305f\", \"\\u63a2\\u3057\\u305f\\u304a\\u5e97\\u3067\\u3057\\u305f\"]}, \"R\": 30, \"lambda.step\": 0.01, \"plot.opts\": {\"xlab\": \"PC1\", \"ylab\": \"PC2\"}, \"topic.order\": [4, 3, 7, 5, 9, 1, 6, 8, 10, 2]};\n",
       "\n",
       "function LDAvis_load_lib(url, callback){\n",
       "  var s = document.createElement('script');\n",
       "  s.src = url;\n",
       "  s.async = true;\n",
       "  s.onreadystatechange = s.onload = callback;\n",
       "  s.onerror = function(){console.warn(\"failed to load library \" + url);};\n",
       "  document.getElementsByTagName(\"head\")[0].appendChild(s);\n",
       "}\n",
       "\n",
       "if(typeof(LDAvis) !== \"undefined\"){\n",
       "   // already loaded: just create the visualization\n",
       "   !function(LDAvis){\n",
       "       new LDAvis(\"#\" + \"ldavis_el1484419397146043922631500627\", ldavis_el1484419397146043922631500627_data);\n",
       "   }(LDAvis);\n",
       "}else if(typeof define === \"function\" && define.amd){\n",
       "   // require.js is available: use it to load d3/LDAvis\n",
       "   require.config({paths: {d3: \"https://cdnjs.cloudflare.com/ajax/libs/d3/3.5.5/d3.min\"}});\n",
       "   require([\"d3\"], function(d3){\n",
       "      window.d3 = d3;\n",
       "      LDAvis_load_lib(\"https://cdn.rawgit.com/bmabey/pyLDAvis/files/ldavis.v1.0.0.js\", function(){\n",
       "        new LDAvis(\"#\" + \"ldavis_el1484419397146043922631500627\", ldavis_el1484419397146043922631500627_data);\n",
       "      });\n",
       "    });\n",
       "}else{\n",
       "    // require.js not available: dynamically load d3 & LDAvis\n",
       "    LDAvis_load_lib(\"https://cdnjs.cloudflare.com/ajax/libs/d3/3.5.5/d3.min.js\", function(){\n",
       "         LDAvis_load_lib(\"https://cdn.rawgit.com/bmabey/pyLDAvis/files/ldavis.v1.0.0.js\", function(){\n",
       "                 new LDAvis(\"#\" + \"ldavis_el1484419397146043922631500627\", ldavis_el1484419397146043922631500627_data);\n",
       "            })\n",
       "         });\n",
       "}\n",
       "</script>"
      ],
      "text/plain": [
       "PreparedData(topic_coordinates=              x         y  topics  cluster       Freq\n",
       "topic                                                \n",
       "3     -0.003320  0.000914       1        1  11.130380\n",
       "2     -0.004126 -0.001051       2        1  10.813838\n",
       "6      0.002117  0.006475       3        1  10.445580\n",
       "4     -0.002805  0.000639       4        1  10.347219\n",
       "8      0.001031  0.001710       5        1  10.041167\n",
       "0     -0.001431 -0.000036       6        1   9.924852\n",
       "5      0.000431 -0.002377       7        1   9.519442\n",
       "7     -0.000164 -0.002314       8        1   9.393469\n",
       "9      0.004841 -0.000586       9        1   9.361945\n",
       "1      0.003426 -0.003374      10        1   9.022102, topic_info=     Category         Freq        Term        Total  loglift  logprob\n",
       "130   Default  4745.000000        food  4745.000000  30.0000  30.0000\n",
       "191   Default  4121.000000       great  4121.000000  29.0000  29.0000\n",
       "43    Default  1502.000000       staff  1502.000000  28.0000  28.0000\n",
       "16    Default  3321.000000        like  3321.000000  27.0000  27.0000\n",
       "31    Default  3298.000000        time  3298.000000  26.0000  26.0000\n",
       "37    Default  4453.000000        good  4453.000000  25.0000  25.0000\n",
       "34    Default  1436.000000        came  1436.000000  24.0000  24.0000\n",
       "122   Default  4555.000000       place  4555.000000  23.0000  23.0000\n",
       "327   Default  1193.000000   delicious  1193.000000  22.0000  22.0000\n",
       "176   Default  1310.000000     amazing  1310.000000  21.0000  21.0000\n",
       "241   Default  1248.000000  experience  1248.000000  20.0000  20.0000\n",
       "920   Default   675.000000     looking   675.000000  19.0000  19.0000\n",
       "36    Default  1334.000000    friendly  1334.000000  18.0000  18.0000\n",
       "149   Default   842.000000       think   842.000000  17.0000  17.0000\n",
       "434   Default  1172.000000        know  1172.000000  16.0000  16.0000\n",
       "1174  Default  1341.000000     chicken  1341.000000  15.0000  15.0000\n",
       "482   Default   906.000000        work   906.000000  14.0000  14.0000\n",
       "85    Default   938.000000       night   938.000000  13.0000  13.0000\n",
       "141   Default   872.000000       price   872.000000  12.0000  12.0000\n",
       "22    Default   877.000000     minutes   877.000000  11.0000  11.0000\n",
       "98    Default   919.000000        sure   919.000000  10.0000  10.0000\n",
       "473   Default   928.000000        told   928.000000   9.0000   9.0000\n",
       "83    Default  1685.000000        nice  1685.000000   8.0000   8.0000\n",
       "589   Default  1329.000000  restaurant  1329.000000   7.0000   7.0000\n",
       "667   Default  1587.000000        love  1587.000000   6.0000   6.0000\n",
       "101   Default   824.000000       times   824.000000   5.0000   5.0000\n",
       "27    Default  1159.000000        said  1159.000000   4.0000   4.0000\n",
       "219   Default   610.000000        away   610.000000   3.0000   3.0000\n",
       "120   Default  1381.000000      people  1381.000000   2.0000   2.0000\n",
       "320   Default  1399.000000        come  1399.000000   1.0000   1.0000\n",
       "...       ...          ...         ...          ...      ...      ...\n",
       "902   Topic10    51.489624    sandwich   405.607880   0.3415  -6.6378\n",
       "225   Topic10   117.193176       right  1053.604004   0.2093  -5.8154\n",
       "141   Topic10    99.111748       price   872.029724   0.2309  -5.9830\n",
       "401   Topic10    90.387695    customer   797.485962   0.2281  -6.0751\n",
       "1185  Topic10    45.493233        pork   355.915649   0.3484  -6.7617\n",
       "1304  Topic10    55.644207   breakfast   451.792816   0.3112  -6.5602\n",
       "190   Topic10   118.379692       going  1105.624390   0.1712  -5.8053\n",
       "85    Topic10   102.290710       night   938.822144   0.1887  -5.9514\n",
       "663   Topic10    85.148796        home   772.450623   0.2003  -6.1348\n",
       "130   Topic10   384.154144        food  4745.072754  -0.1083  -4.6282\n",
       "122   Topic10   358.470642       place  4555.394531  -0.1367  -4.6974\n",
       "176   Topic10   130.148804     amazing  1310.951538   0.0957  -5.7105\n",
       "318   Topic10    86.880089      cheese   794.781555   0.1920  -6.1147\n",
       "504   Topic10    74.168747       super   654.410645   0.2281  -6.2729\n",
       "191   Topic10   306.479950       great  4121.735840  -0.1934  -4.8541\n",
       "327   Topic10   117.928139   delicious  1193.011353   0.0913  -5.8091\n",
       "434   Topic10   114.690025        know  1172.929565   0.0805  -5.8370\n",
       "42    Topic10   259.958801     service  3497.681641  -0.1938  -5.0187\n",
       "667   Topic10   143.293152        love  1587.002441   0.0008  -5.6143\n",
       "1163  Topic10   132.771210     ordered  1484.679932  -0.0088  -5.6906\n",
       "34    Topic10   127.781830        came  1436.783813  -0.0143  -5.7289\n",
       "111   Topic10   145.957291        best  1747.955444  -0.0774  -5.5959\n",
       "16    Topic10   222.574997        like  3321.947021  -0.2975  -5.1740\n",
       "37    Topic10   259.252411        good  4453.129883  -0.4381  -5.0214\n",
       "589   Topic10   120.128891  restaurant  1329.422974   0.0016  -5.7907\n",
       "83    Topic10   138.134155        nice  1685.680054  -0.0962  -5.6510\n",
       "326   Topic10   121.942139  definitely  1393.368164  -0.0304  -5.7757\n",
       "106   Topic10   122.815742        went  1429.549683  -0.0489  -5.7685\n",
       "355   Topic10   109.071861       order  1446.952148  -0.1797  -5.8872\n",
       "320   Topic10   102.537430        come  1399.632568  -0.2082  -5.9490\n",
       "\n",
       "[852 rows x 6 columns], token_table=       Topic      Freq          Term\n",
       "term                                \n",
       "1558       1  0.109043          able\n",
       "1558       2  0.101254          able\n",
       "1558       3  0.093465          able\n",
       "1558       4  0.116832          able\n",
       "1558       5  0.101254          able\n",
       "1558       6  0.075292          able\n",
       "1558       7  0.096062          able\n",
       "1558       8  0.135006          able\n",
       "1558       9  0.101254          able\n",
       "1558      10  0.072695          able\n",
       "174        1  0.112965    absolutely\n",
       "174        2  0.093319    absolutely\n",
       "174        3  0.132611    absolutely\n",
       "174        4  0.088407    absolutely\n",
       "174        5  0.137523    absolutely\n",
       "174        6  0.100686    absolutely\n",
       "174        7  0.110509    absolutely\n",
       "174        8  0.093319    absolutely\n",
       "174        9  0.071217    absolutely\n",
       "174       10  0.061394    absolutely\n",
       "2718       1  0.127588     accepting\n",
       "2718       2  0.255176     accepting\n",
       "2718       4  0.127588     accepting\n",
       "2718       6  0.127588     accepting\n",
       "2718       7  0.127588     accepting\n",
       "2718       8  0.127588     accepting\n",
       "2718      10  0.127588     accepting\n",
       "24379     10  0.324995    accounting\n",
       "17137      3  0.227083       accueil\n",
       "17137      5  0.227083       accueil\n",
       "...      ...       ...           ...\n",
       "691        9  0.061125         worth\n",
       "691       10  0.075602         worth\n",
       "24457      7  0.324956  wrestlemania\n",
       "742        1  0.127661         wrong\n",
       "742        2  0.118320         wrong\n",
       "742        3  0.093411         wrong\n",
       "742        4  0.052933         wrong\n",
       "742        5  0.099638         wrong\n",
       "742        6  0.087183         wrong\n",
       "742        7  0.074728         wrong\n",
       "742        8  0.127661         wrong\n",
       "742        9  0.087183         wrong\n",
       "742       10  0.130775         wrong\n",
       "23695      3  0.191856        yasmin\n",
       "23695      4  0.191856        yasmin\n",
       "23695      8  0.191856        yasmin\n",
       "24823      1  0.324199    yeahhhhhhh\n",
       "693        1  0.109260         years\n",
       "693        2  0.096405         years\n",
       "693        3  0.078731         years\n",
       "693        4  0.101226         years\n",
       "693        5  0.123720         years\n",
       "693        6  0.089978         years\n",
       "693        7  0.107653         years\n",
       "693        8  0.118900         years\n",
       "693        9  0.077124         years\n",
       "693       10  0.094799         years\n",
       "22983      1  0.324600       yummers\n",
       "20090     10  0.622419    とても気に入りました\n",
       "20091     10  0.622422      探したお店でした\n",
       "\n",
       "[2887 rows x 3 columns], R=30, lambda_step=0.01, plot_opts={'xlab': 'PC1', 'ylab': 'PC2'}, topic_order=[4, 3, 7, 5, 9, 1, 6, 8, 10, 2])"
      ]
     },
     "execution_count": 42,
     "metadata": {},
     "output_type": "execute_result"
    }
   ],
   "source": [
    "# This is going to become our visualizer ... eventually...\n",
    "pyLDAvis.gensim.prepare(lda, corpus, id2word)"
   ]
  },
  {
   "cell_type": "code",
   "execution_count": null,
   "metadata": {},
   "outputs": [],
   "source": [
    "# Yep. Lots of overlap. k. whatev."
   ]
  },
  {
   "cell_type": "code",
   "execution_count": null,
   "metadata": {},
   "outputs": [],
   "source": []
  },
  {
   "cell_type": "code",
   "execution_count": 46,
   "metadata": {},
   "outputs": [],
   "source": [
    "# stream = doc_stream(path) ... but so far that's been = to df['tokens']... so\n",
    "stream = yelp['tokens']"
   ]
  },
  {
   "cell_type": "code",
   "execution_count": 47,
   "metadata": {},
   "outputs": [],
   "source": [
    "from gensim.models.coherencemodel import CoherenceModel"
   ]
  },
  {
   "cell_type": "code",
   "execution_count": 48,
   "metadata": {},
   "outputs": [],
   "source": [
    "def compute_coherence_values(dictionary, corpus, stream, limit, start=2, step=3, passes=5):\n",
    "    \"\"\"\n",
    "    Compute c_v coherence for various number of topics\n",
    "\n",
    "    Parameters:\n",
    "    ----------\n",
    "    dictionary : Gensim dictionary\n",
    "    corpus : Gensim corpus\n",
    "    stream: replaces --> path : path to input texts\n",
    "    limit : Max num of topics\n",
    "    passes: the number of times the entire lda model & coherence values are calculated\n",
    "\n",
    "    Returns:\n",
    "    -------\n",
    "    coherence_values : Coherence values corresponding to the LDA model with respective number of topics\n",
    "    \"\"\"\n",
    "    \n",
    "    coherence_values = []\n",
    "    \n",
    "    tokens = list(stream)\n",
    "    \n",
    "    for iter_ in range(passes):\n",
    "        for num_topics in range(start, limit, step):\n",
    "            stream = stream\n",
    "            model = LdaMulticore(corpus=corpus, num_topics=num_topics, id2word=dictionary, workers=4)\n",
    "            coherencemodel = CoherenceModel(model=model,dictionary=dictionary,corpus=corpus, coherence='u_mass')\n",
    "            coherence_values.append({'pass': iter_, \n",
    "                                     'num_topics': num_topics, \n",
    "                                     'coherence_score': coherencemodel.get_coherence()\n",
    "                                    })\n",
    "\n",
    "    return coherence_values"
   ]
  },
  {
   "cell_type": "code",
   "execution_count": null,
   "metadata": {},
   "outputs": [],
   "source": [
    "# Can take a long time to run.\n",
    "coherence_values = compute_coherence_values(dictionary=id2word, \n",
    "                                                        corpus=corpus, \n",
    "                                                        start=2, \n",
    "                                                        limit=20,\n",
    "                                                        stream=stream,\n",
    "                                                        step=3,\n",
    "                                                        passes=10)"
   ]
  },
  {
   "cell_type": "code",
   "execution_count": 50,
   "metadata": {},
   "outputs": [],
   "source": [
    "topic_coherence = pd.DataFrame.from_records(coherence_values)"
   ]
  },
  {
   "cell_type": "code",
   "execution_count": 51,
   "metadata": {},
   "outputs": [
    {
     "data": {
      "text/html": [
       "<div>\n",
       "<style scoped>\n",
       "    .dataframe tbody tr th:only-of-type {\n",
       "        vertical-align: middle;\n",
       "    }\n",
       "\n",
       "    .dataframe tbody tr th {\n",
       "        vertical-align: top;\n",
       "    }\n",
       "\n",
       "    .dataframe thead th {\n",
       "        text-align: right;\n",
       "    }\n",
       "</style>\n",
       "<table border=\"1\" class=\"dataframe\">\n",
       "  <thead>\n",
       "    <tr style=\"text-align: right;\">\n",
       "      <th></th>\n",
       "      <th>coherence_score</th>\n",
       "      <th>num_topics</th>\n",
       "      <th>pass</th>\n",
       "    </tr>\n",
       "  </thead>\n",
       "  <tbody>\n",
       "    <tr>\n",
       "      <th>0</th>\n",
       "      <td>-1.807317</td>\n",
       "      <td>2</td>\n",
       "      <td>0</td>\n",
       "    </tr>\n",
       "    <tr>\n",
       "      <th>1</th>\n",
       "      <td>-1.875837</td>\n",
       "      <td>5</td>\n",
       "      <td>0</td>\n",
       "    </tr>\n",
       "    <tr>\n",
       "      <th>2</th>\n",
       "      <td>-1.933182</td>\n",
       "      <td>8</td>\n",
       "      <td>0</td>\n",
       "    </tr>\n",
       "    <tr>\n",
       "      <th>3</th>\n",
       "      <td>-1.892797</td>\n",
       "      <td>11</td>\n",
       "      <td>0</td>\n",
       "    </tr>\n",
       "    <tr>\n",
       "      <th>4</th>\n",
       "      <td>-1.926338</td>\n",
       "      <td>14</td>\n",
       "      <td>0</td>\n",
       "    </tr>\n",
       "  </tbody>\n",
       "</table>\n",
       "</div>"
      ],
      "text/plain": [
       "   coherence_score  num_topics  pass\n",
       "0        -1.807317           2     0\n",
       "1        -1.875837           5     0\n",
       "2        -1.933182           8     0\n",
       "3        -1.892797          11     0\n",
       "4        -1.926338          14     0"
      ]
     },
     "execution_count": 51,
     "metadata": {},
     "output_type": "execute_result"
    }
   ],
   "source": [
    "topic_coherence.head()"
   ]
  },
  {
   "cell_type": "code",
   "execution_count": 53,
   "metadata": {},
   "outputs": [
    {
     "data": {
      "image/png": "[encoded data removed]",
      "text/plain": [
       "<Figure size 432x288 with 1 Axes>"
      ]
     },
     "metadata": {
      "needs_background": "light"
     },
     "output_type": "display_data"
    }
   ],
   "source": [
    "import seaborn as sns\n",
    "\n",
    "ax = sns.lineplot(x=\"num_topics\", y=\"coherence_score\", data=topic_coherence);"
   ]
  },
  {
   "cell_type": "code",
   "execution_count": null,
   "metadata": {},
   "outputs": [],
   "source": [
    "#:O"
   ]
  },
  {
   "cell_type": "markdown",
   "metadata": {},
   "source": [
    "## Stretch Goals\n",
    "\n",
    "Complete one of more of these to push your score towards a three: \n",
    "* Incorporate named entity recognition into your analysis\n",
    "* Compare vectorization methods in the classification section\n",
    "* Analyze more (or all) of the yelp dataset - this one is v. hard. \n",
    "* Use a generator object on the reviews file - this would help you with the analyzing the whole dataset.\n",
    "* Incorporate any of the other yelp dataset entities in your analysis (business, users, etc.)"
   ]
  }
 ],
 "metadata": {
  "kernel_info": {
   "name": "u4-s1-nlp"
  },
  "kernelspec": {
   "display_name": "U4-S1-NLP",
   "language": "python",
   "name": "u4-s1-nlp"
  },
  "language_info": {
   "codemirror_mode": {
    "name": "ipython",
    "version": 3
   },
   "file_extension": ".py",
   "mimetype": "text/x-python",
   "name": "python",
   "nbconvert_exporter": "python",
   "pygments_lexer": "ipython3",
   "version": "3.7.3"
  },
  "nteract": {
   "version": "0.14.5"
  },
  "toc-autonumbering": false
 },
 "nbformat": 4,
 "nbformat_minor": 4
}
