{
 "cells": [
  {
   "cell_type": "markdown",
   "metadata": {},
   "source": [
    "<img align=\"left\" src=\"https://lever-client-logos.s3.amazonaws.com/864372b1-534c-480e-acd5-9711f850815c-1524247202159.png\" width=200>\n",
    "<br></br>\n",
    "<br></br>\n",
    "\n",
    "# Sprint Challenge\n",
    "## *Data Science Unit 4 Sprint 1*\n",
    "\n",
    "After a week of Natural Language Processing, you've learned some cool new stuff: how to process text, how turn text into vectors, and how to model topics from documents. Apply your newly acquired skills to one of the most famous NLP datasets out there: [Yelp](https://www.yelp.com/dataset/challenge). As part of the job selection process, some of my friends have been asked to create analysis of this dataset, so I want to empower you to have a head start.  \n",
    "\n",
    "The real dataset is massive (almost 8 gigs uncompressed). I've sampled the data for you to something more managable for the Sprint Challenge. You can analyze the full dataset as a stretch goal or after the sprint challenge. As you work on the challenge, I suggest adding notes about your findings and things you want to analyze in the future.\n",
    "\n",
    "## Challenge Objectives\n",
    "*Successfully complete these all these objectives to earn a 2. There are more details on each objective further down in the notebook.*\n",
    "* <a href=\"#p1\">Part 1</a>: Write a function to tokenize the yelp reviews\n",
    "* <a href=\"#p2\">Part 2</a>: Create a vector representation of those tokens\n",
    "* <a href=\"#p3\">Part 3</a>: Use your tokens in a classification model on yelp rating\n",
    "* <a href=\"#p4\">Part 4</a>: Estimate & Interpret a topic model of the Yelp reviews"
   ]
  },
  {
   "cell_type": "code",
   "execution_count": 1,
   "metadata": {},
   "outputs": [],
   "source": [
    "import pandas as pd\n",
    "\n",
    "yelp = pd.read_json('./data/review_sample.json', lines=True)"
   ]
  },
  {
   "cell_type": "code",
   "execution_count": 2,
   "metadata": {},
   "outputs": [
    {
     "data": {
      "text/html": [
       "<div>\n",
       "<style scoped>\n",
       "    .dataframe tbody tr th:only-of-type {\n",
       "        vertical-align: middle;\n",
       "    }\n",
       "\n",
       "    .dataframe tbody tr th {\n",
       "        vertical-align: top;\n",
       "    }\n",
       "\n",
       "    .dataframe thead th {\n",
       "        text-align: right;\n",
       "    }\n",
       "</style>\n",
       "<table border=\"1\" class=\"dataframe\">\n",
       "  <thead>\n",
       "    <tr style=\"text-align: right;\">\n",
       "      <th></th>\n",
       "      <th>business_id</th>\n",
       "      <th>cool</th>\n",
       "      <th>date</th>\n",
       "      <th>funny</th>\n",
       "      <th>review_id</th>\n",
       "      <th>stars</th>\n",
       "      <th>text</th>\n",
       "      <th>useful</th>\n",
       "      <th>user_id</th>\n",
       "    </tr>\n",
       "  </thead>\n",
       "  <tbody>\n",
       "    <tr>\n",
       "      <th>0</th>\n",
       "      <td>nDuEqIyRc8YKS1q1fX0CZg</td>\n",
       "      <td>1</td>\n",
       "      <td>2015-03-31 16:50:30</td>\n",
       "      <td>0</td>\n",
       "      <td>eZs2tpEJtXPwawvHnHZIgQ</td>\n",
       "      <td>1</td>\n",
       "      <td>BEWARE!!! FAKE, FAKE, FAKE....We also own a sm...</td>\n",
       "      <td>10</td>\n",
       "      <td>n1LM36qNg4rqGXIcvVXv8w</td>\n",
       "    </tr>\n",
       "    <tr>\n",
       "      <th>1</th>\n",
       "      <td>eMYeEapscbKNqUDCx705hg</td>\n",
       "      <td>0</td>\n",
       "      <td>2015-12-16 05:31:03</td>\n",
       "      <td>0</td>\n",
       "      <td>DoQDWJsNbU0KL1O29l_Xug</td>\n",
       "      <td>4</td>\n",
       "      <td>Came here for lunch Togo. Service was quick. S...</td>\n",
       "      <td>0</td>\n",
       "      <td>5CgjjDAic2-FAvCtiHpytA</td>\n",
       "    </tr>\n",
       "    <tr>\n",
       "      <th>2</th>\n",
       "      <td>6Q7-wkCPc1KF75jZLOTcMw</td>\n",
       "      <td>1</td>\n",
       "      <td>2010-06-20 19:14:48</td>\n",
       "      <td>1</td>\n",
       "      <td>DDOdGU7zh56yQHmUnL1idQ</td>\n",
       "      <td>3</td>\n",
       "      <td>I've been to Vegas dozens of times and had nev...</td>\n",
       "      <td>2</td>\n",
       "      <td>BdV-cf3LScmb8kZ7iiBcMA</td>\n",
       "    </tr>\n",
       "    <tr>\n",
       "      <th>3</th>\n",
       "      <td>k3zrItO4l9hwfLRwHBDc9w</td>\n",
       "      <td>3</td>\n",
       "      <td>2010-07-13 00:33:45</td>\n",
       "      <td>4</td>\n",
       "      <td>LfTMUWnfGFMOfOIyJcwLVA</td>\n",
       "      <td>1</td>\n",
       "      <td>We went here on a night where they closed off ...</td>\n",
       "      <td>5</td>\n",
       "      <td>cZZnBqh4gAEy4CdNvJailQ</td>\n",
       "    </tr>\n",
       "    <tr>\n",
       "      <th>4</th>\n",
       "      <td>6hpfRwGlOzbNv7k5eP9rsQ</td>\n",
       "      <td>1</td>\n",
       "      <td>2018-06-30 02:30:01</td>\n",
       "      <td>0</td>\n",
       "      <td>zJSUdI7bJ8PNJAg4lnl_Gg</td>\n",
       "      <td>4</td>\n",
       "      <td>3.5 to 4 stars\\n\\nNot bad for the price, $12.9...</td>\n",
       "      <td>5</td>\n",
       "      <td>n9QO4ClYAS7h9fpQwa5bhA</td>\n",
       "    </tr>\n",
       "  </tbody>\n",
       "</table>\n",
       "</div>"
      ],
      "text/plain": [
       "              business_id  cool                date  funny  \\\n",
       "0  nDuEqIyRc8YKS1q1fX0CZg     1 2015-03-31 16:50:30      0   \n",
       "1  eMYeEapscbKNqUDCx705hg     0 2015-12-16 05:31:03      0   \n",
       "2  6Q7-wkCPc1KF75jZLOTcMw     1 2010-06-20 19:14:48      1   \n",
       "3  k3zrItO4l9hwfLRwHBDc9w     3 2010-07-13 00:33:45      4   \n",
       "4  6hpfRwGlOzbNv7k5eP9rsQ     1 2018-06-30 02:30:01      0   \n",
       "\n",
       "                review_id  stars  \\\n",
       "0  eZs2tpEJtXPwawvHnHZIgQ      1   \n",
       "1  DoQDWJsNbU0KL1O29l_Xug      4   \n",
       "2  DDOdGU7zh56yQHmUnL1idQ      3   \n",
       "3  LfTMUWnfGFMOfOIyJcwLVA      1   \n",
       "4  zJSUdI7bJ8PNJAg4lnl_Gg      4   \n",
       "\n",
       "                                                text  useful  \\\n",
       "0  BEWARE!!! FAKE, FAKE, FAKE....We also own a sm...      10   \n",
       "1  Came here for lunch Togo. Service was quick. S...       0   \n",
       "2  I've been to Vegas dozens of times and had nev...       2   \n",
       "3  We went here on a night where they closed off ...       5   \n",
       "4  3.5 to 4 stars\\n\\nNot bad for the price, $12.9...       5   \n",
       "\n",
       "                  user_id  \n",
       "0  n1LM36qNg4rqGXIcvVXv8w  \n",
       "1  5CgjjDAic2-FAvCtiHpytA  \n",
       "2  BdV-cf3LScmb8kZ7iiBcMA  \n",
       "3  cZZnBqh4gAEy4CdNvJailQ  \n",
       "4  n9QO4ClYAS7h9fpQwa5bhA  "
      ]
     },
     "execution_count": 2,
     "metadata": {},
     "output_type": "execute_result"
    }
   ],
   "source": [
    "yelp.head()"
   ]
  },
  {
   "cell_type": "markdown",
   "metadata": {},
   "source": [
    "## Part 1: Tokenize Function\n",
    "<a id=\"#p1\"></a>\n",
    "\n",
    "Complete the function `tokenize`. Your function should\n",
    "- accept one document at a time\n",
    "- return a list of tokens\n",
    "\n",
    "You are free to use any method you have learned this week."
   ]
  },
  {
   "cell_type": "code",
   "execution_count": 11,
   "metadata": {},
   "outputs": [],
   "source": [
    "import spacy\n",
    "from spacy.lang.en.stop_words import STOP_WORDS\n",
    "from gensim.parsing.preprocessing import STOPWORDS\n",
    "from gensim.utils import simple_preprocess\n",
    "nlp = spacy.load('en_core_web_lg')"
   ]
  },
  {
   "cell_type": "code",
   "execution_count": 12,
   "metadata": {},
   "outputs": [],
   "source": [
    "# Function to tokenize text less stopwords\n",
    "def tokenize(doc):\n",
    "    tokenized = [token for token in simple_preprocess(doc) if token not in STOPWORDS]\n",
    "    return tokenized"
   ]
  },
  {
   "cell_type": "code",
   "execution_count": 13,
   "metadata": {},
   "outputs": [
    {
     "data": {
      "text/plain": [
       "0    [beware, fake, fake, fake, small, business, lo...\n",
       "1    [came, lunch, togo, service, quick, staff, fri...\n",
       "2    [ve, vegas, dozens, times, stepped, foot, circ...\n",
       "3    [went, night, closed, street, party, best, act...\n",
       "4    [stars, bad, price, lunch, seniors, pay, eatin...\n",
       "Name: tokenized, dtype: object"
      ]
     },
     "execution_count": 13,
     "metadata": {},
     "output_type": "execute_result"
    }
   ],
   "source": [
    "# Create tokenized column using the tokenize function\n",
    "yelp['tokenized'] = yelp['text'].apply(lambda x: tokenize(x))\n",
    "yelp['tokenized'].head()"
   ]
  },
  {
   "cell_type": "markdown",
   "metadata": {},
   "source": [
    "## Part 2: Vector Representation\n",
    "<a id=\"#p2\"></a>\n",
    "1. Create a vector representation of the reviews\n",
    "2. Write a fake review and query for the 10 most similiar reviews, print the text of the reviews. Do you notice any patterns?\n",
    "    - Given the size of the dataset, it will probably be best to use a `NearestNeighbors` model for this. "
   ]
  },
  {
   "cell_type": "code",
   "execution_count": 15,
   "metadata": {},
   "outputs": [],
   "source": [
    "from sklearn.feature_extraction.text import CountVectorizer, TfidfVectorizer"
   ]
  },
  {
   "cell_type": "code",
   "execution_count": 57,
   "metadata": {},
   "outputs": [
    {
     "data": {
      "text/html": [
       "<div>\n",
       "<style scoped>\n",
       "    .dataframe tbody tr th:only-of-type {\n",
       "        vertical-align: middle;\n",
       "    }\n",
       "\n",
       "    .dataframe tbody tr th {\n",
       "        vertical-align: top;\n",
       "    }\n",
       "\n",
       "    .dataframe thead th {\n",
       "        text-align: right;\n",
       "    }\n",
       "</style>\n",
       "<table border=\"1\" class=\"dataframe\">\n",
       "  <thead>\n",
       "    <tr style=\"text-align: right;\">\n",
       "      <th></th>\n",
       "      <th>00</th>\n",
       "      <th>000</th>\n",
       "      <th>001695</th>\n",
       "      <th>007</th>\n",
       "      <th>00a</th>\n",
       "      <th>00am</th>\n",
       "      <th>00ish</th>\n",
       "      <th>00pm</th>\n",
       "      <th>01</th>\n",
       "      <th>011802</th>\n",
       "      <th>...</th>\n",
       "      <th>誰も乗車しなくても</th>\n",
       "      <th>豆腐花</th>\n",
       "      <th>質問にも丁寧に答えてくれましたし</th>\n",
       "      <th>車好きさんには</th>\n",
       "      <th>這是一個不錯的選擇</th>\n",
       "      <th>運転しない</th>\n",
       "      <th>運転中も英語で指導があります</th>\n",
       "      <th>食べ物はうまい</th>\n",
       "      <th>餐後點了甜點</th>\n",
       "      <th>３時間後の便</th>\n",
       "    </tr>\n",
       "  </thead>\n",
       "  <tbody>\n",
       "    <tr>\n",
       "      <th>0</th>\n",
       "      <td>0.0</td>\n",
       "      <td>0.0</td>\n",
       "      <td>0.0</td>\n",
       "      <td>0.0</td>\n",
       "      <td>0.0</td>\n",
       "      <td>0.0</td>\n",
       "      <td>0.0</td>\n",
       "      <td>0.0</td>\n",
       "      <td>0.0</td>\n",
       "      <td>0.0</td>\n",
       "      <td>...</td>\n",
       "      <td>0.0</td>\n",
       "      <td>0.0</td>\n",
       "      <td>0.0</td>\n",
       "      <td>0.0</td>\n",
       "      <td>0.0</td>\n",
       "      <td>0.0</td>\n",
       "      <td>0.0</td>\n",
       "      <td>0.0</td>\n",
       "      <td>0.0</td>\n",
       "      <td>0.0</td>\n",
       "    </tr>\n",
       "    <tr>\n",
       "      <th>1</th>\n",
       "      <td>0.0</td>\n",
       "      <td>0.0</td>\n",
       "      <td>0.0</td>\n",
       "      <td>0.0</td>\n",
       "      <td>0.0</td>\n",
       "      <td>0.0</td>\n",
       "      <td>0.0</td>\n",
       "      <td>0.0</td>\n",
       "      <td>0.0</td>\n",
       "      <td>0.0</td>\n",
       "      <td>...</td>\n",
       "      <td>0.0</td>\n",
       "      <td>0.0</td>\n",
       "      <td>0.0</td>\n",
       "      <td>0.0</td>\n",
       "      <td>0.0</td>\n",
       "      <td>0.0</td>\n",
       "      <td>0.0</td>\n",
       "      <td>0.0</td>\n",
       "      <td>0.0</td>\n",
       "      <td>0.0</td>\n",
       "    </tr>\n",
       "    <tr>\n",
       "      <th>2</th>\n",
       "      <td>0.0</td>\n",
       "      <td>0.0</td>\n",
       "      <td>0.0</td>\n",
       "      <td>0.0</td>\n",
       "      <td>0.0</td>\n",
       "      <td>0.0</td>\n",
       "      <td>0.0</td>\n",
       "      <td>0.0</td>\n",
       "      <td>0.0</td>\n",
       "      <td>0.0</td>\n",
       "      <td>...</td>\n",
       "      <td>0.0</td>\n",
       "      <td>0.0</td>\n",
       "      <td>0.0</td>\n",
       "      <td>0.0</td>\n",
       "      <td>0.0</td>\n",
       "      <td>0.0</td>\n",
       "      <td>0.0</td>\n",
       "      <td>0.0</td>\n",
       "      <td>0.0</td>\n",
       "      <td>0.0</td>\n",
       "    </tr>\n",
       "    <tr>\n",
       "      <th>3</th>\n",
       "      <td>0.0</td>\n",
       "      <td>0.0</td>\n",
       "      <td>0.0</td>\n",
       "      <td>0.0</td>\n",
       "      <td>0.0</td>\n",
       "      <td>0.0</td>\n",
       "      <td>0.0</td>\n",
       "      <td>0.0</td>\n",
       "      <td>0.0</td>\n",
       "      <td>0.0</td>\n",
       "      <td>...</td>\n",
       "      <td>0.0</td>\n",
       "      <td>0.0</td>\n",
       "      <td>0.0</td>\n",
       "      <td>0.0</td>\n",
       "      <td>0.0</td>\n",
       "      <td>0.0</td>\n",
       "      <td>0.0</td>\n",
       "      <td>0.0</td>\n",
       "      <td>0.0</td>\n",
       "      <td>0.0</td>\n",
       "    </tr>\n",
       "    <tr>\n",
       "      <th>4</th>\n",
       "      <td>0.0</td>\n",
       "      <td>0.0</td>\n",
       "      <td>0.0</td>\n",
       "      <td>0.0</td>\n",
       "      <td>0.0</td>\n",
       "      <td>0.0</td>\n",
       "      <td>0.0</td>\n",
       "      <td>0.0</td>\n",
       "      <td>0.0</td>\n",
       "      <td>0.0</td>\n",
       "      <td>...</td>\n",
       "      <td>0.0</td>\n",
       "      <td>0.0</td>\n",
       "      <td>0.0</td>\n",
       "      <td>0.0</td>\n",
       "      <td>0.0</td>\n",
       "      <td>0.0</td>\n",
       "      <td>0.0</td>\n",
       "      <td>0.0</td>\n",
       "      <td>0.0</td>\n",
       "      <td>0.0</td>\n",
       "    </tr>\n",
       "  </tbody>\n",
       "</table>\n",
       "<p>5 rows × 27289 columns</p>\n",
       "</div>"
      ],
      "text/plain": [
       "    00  000  001695  007  00a  00am  00ish  00pm   01  011802  ...  誰も乗車しなくても  \\\n",
       "0  0.0  0.0     0.0  0.0  0.0   0.0    0.0   0.0  0.0     0.0  ...        0.0   \n",
       "1  0.0  0.0     0.0  0.0  0.0   0.0    0.0   0.0  0.0     0.0  ...        0.0   \n",
       "2  0.0  0.0     0.0  0.0  0.0   0.0    0.0   0.0  0.0     0.0  ...        0.0   \n",
       "3  0.0  0.0     0.0  0.0  0.0   0.0    0.0   0.0  0.0     0.0  ...        0.0   \n",
       "4  0.0  0.0     0.0  0.0  0.0   0.0    0.0   0.0  0.0     0.0  ...        0.0   \n",
       "\n",
       "   豆腐花  質問にも丁寧に答えてくれましたし  車好きさんには  這是一個不錯的選擇  運転しない  運転中も英語で指導があります  食べ物はうまい  \\\n",
       "0  0.0               0.0      0.0        0.0    0.0             0.0      0.0   \n",
       "1  0.0               0.0      0.0        0.0    0.0             0.0      0.0   \n",
       "2  0.0               0.0      0.0        0.0    0.0             0.0      0.0   \n",
       "3  0.0               0.0      0.0        0.0    0.0             0.0      0.0   \n",
       "4  0.0               0.0      0.0        0.0    0.0             0.0      0.0   \n",
       "\n",
       "   餐後點了甜點  ３時間後の便  \n",
       "0     0.0     0.0  \n",
       "1     0.0     0.0  \n",
       "2     0.0     0.0  \n",
       "3     0.0     0.0  \n",
       "4     0.0     0.0  \n",
       "\n",
       "[5 rows x 27289 columns]"
      ]
     },
     "execution_count": 57,
     "metadata": {},
     "output_type": "execute_result"
    }
   ],
   "source": [
    "# Instantiate vectorizer object\n",
    "vect = TfidfVectorizer(stop_words = 'english')\n",
    "\n",
    "# fit transform and convert values into a dataframe\n",
    "sparse = vect.fit_transform(yelp['text'].values)\n",
    "dtm = pd.DataFrame(sparse.todense(),columns=vect.get_feature_names())\n",
    "dtm.head()"
   ]
  },
  {
   "cell_type": "code",
   "execution_count": 17,
   "metadata": {},
   "outputs": [],
   "source": [
    "from sklearn.neighbors import NearestNeighbors"
   ]
  },
  {
   "cell_type": "code",
   "execution_count": 58,
   "metadata": {},
   "outputs": [
    {
     "data": {
      "text/plain": [
       "NearestNeighbors(algorithm='ball_tree', leaf_size=30, metric='minkowski',\n",
       "         metric_params=None, n_jobs=None, n_neighbors=10, p=2, radius=1.0)"
      ]
     },
     "execution_count": 58,
     "metadata": {},
     "output_type": "execute_result"
    }
   ],
   "source": [
    "# fit nearest neighbors model with the dataframe\n",
    "nn  = NearestNeighbors(n_neighbors=10, algorithm='ball_tree')\n",
    "nn.fit(dtm)"
   ]
  },
  {
   "cell_type": "code",
   "execution_count": 40,
   "metadata": {},
   "outputs": [
    {
     "name": "stdout",
     "output_type": "stream",
     "text": [
      "  (0, 24488)\t0.22658871258089072\n",
      "  (0, 21583)\t0.2982444743360554\n",
      "  (0, 20255)\t0.4360727982935584\n",
      "  (0, 16607)\t0.2648178764773089\n",
      "  (0, 12935)\t0.41320445414093515\n",
      "  (0, 10732)\t0.28776736945578174\n",
      "  (0, 9804)\t0.2822753146109736\n",
      "  (0, 2293)\t0.49349846961714594\n",
      "  (0, 1500)\t0.15050489409590942\n"
     ]
    }
   ],
   "source": [
    "# create fake review\n",
    "fake_review = [\"This restaurant is not good, food and service is bad\"]\n",
    "\n",
    "# transform fake review text\n",
    "transformed_text = vect.transform(fake_review)\n",
    "\n",
    "# apply model to the fake review text\n",
    "_, indices = nn.kneighbors(transformed_text.todense())\n",
    "print(transformed_text)"
   ]
  },
  {
   "cell_type": "code",
   "execution_count": 41,
   "metadata": {},
   "outputs": [
    {
     "name": "stdout",
     "output_type": "stream",
     "text": [
      "[9776    The food here is not very good.  The service i...\n",
      "4599    only 1 word describes this place............. ...\n",
      "151     Great authentic chinese food. Service is not t...\n",
      "6570    This is the best place for Mexican food late a...\n",
      "2518    Don't waste your money. Bad management!!!  Bad...\n",
      "5608    I have been to this place a few times, and it ...\n",
      "8614    Worst food in Tempe and Phoenix. Every dish ha...\n",
      "8134    Been eating here since they opened and I give ...\n",
      "3129    This is a very nice restaurant. I was treated ...\n",
      "9352    A good find. My cousin treated my wife and mys...\n",
      "Name: text, dtype: object]\n"
     ]
    }
   ],
   "source": [
    "# print out similar reviews to the fake review created above\n",
    "similar_topics = [yelp.text[t] for t in indices]\n",
    "print(similar_topics, sep=\"\\n\\n\")"
   ]
  },
  {
   "cell_type": "markdown",
   "metadata": {},
   "source": [
    "## Part 3: Classification\n",
    "<a id=\"#p3\"></a>\n",
    "Your goal in this section will be to predict `stars` from the review dataset. \n",
    "\n",
    "1. Create a piepline object with a sklearn `CountVectorizer` or `TfidfVector` and any sklearn classifier. Use that pipeline to estimate a model to predict `stars`. Use the Pipeline to predict a star rating for your fake review from Part 2. \n",
    "2. Tune the entire pipeline with a GridSearch"
   ]
  },
  {
   "cell_type": "code",
   "execution_count": 59,
   "metadata": {},
   "outputs": [],
   "source": [
    "from sklearn.linear_model import SGDClassifier\n",
    "from sklearn.model_selection import GridSearchCV\n",
    "from sklearn.pipeline import Pipeline"
   ]
  },
  {
   "cell_type": "code",
   "execution_count": 69,
   "metadata": {},
   "outputs": [
    {
     "name": "stdout",
     "output_type": "stream",
     "text": [
      "Predicted star review from fake review:  [1]\n"
     ]
    }
   ],
   "source": [
    "# instantiate vectorizer and classifier\n",
    "vect1 = TfidfVectorizer()\n",
    "sgdc = SGDClassifier()\n",
    "\n",
    "# create pipeline\n",
    "pipe = Pipeline([('vect', vect1),\n",
    "                  ('sgdc', sgdc)])\n",
    "\n",
    "# fit pipeline with data\n",
    "pipe.fit(yelp['text'], yelp['stars'])\n",
    "\n",
    "# predict number of stars of te fake review created\n",
    "print('Predicted star review from fake review: ', pipe.predict(fake_review))"
   ]
  },
  {
   "cell_type": "code",
   "execution_count": 61,
   "metadata": {},
   "outputs": [
    {
     "name": "stderr",
     "output_type": "stream",
     "text": [
      "C:\\Users\\showi\\Anaconda3\\envs\\U4-S1-NLP\\lib\\site-packages\\sklearn\\linear_model\\stochastic_gradient.py:183: FutureWarning: max_iter and tol parameters have been added in SGDClassifier in 0.19. If max_iter is set but tol is left unset, the default value for tol in 0.19 and 0.20 will be None (which is equivalent to -infinity, so it has no effect) but will change in 0.21 to 1e-3. Specify tol to silence this warning.\n",
      "  FutureWarning)\n"
     ]
    },
    {
     "data": {
      "text/plain": [
       "GridSearchCV(cv=5, error_score='raise-deprecating',\n",
       "       estimator=Pipeline(memory=None,\n",
       "     steps=[('vect', TfidfVectorizer(analyzer='word', binary=False, decode_error='strict',\n",
       "        dtype=<class 'numpy.float64'>, encoding='utf-8', input='content',\n",
       "        lowercase=True, max_df=1.0, max_features=None, min_df=1,\n",
       "        ngram_range=(1, 1), norm='l2', preprocessor=None, smooth_idf=True,\n",
       "...m_state=None, shuffle=True, tol=None,\n",
       "       validation_fraction=0.1, verbose=0, warm_start=False))]),\n",
       "       fit_params=None, iid='warn', n_jobs=7,\n",
       "       param_grid={'vect__max_df': (0.5, 0.75), 'vect__min_df': (0.02, 0.05), 'vect__max_features': (100, 500, 1000), 'sgdc__max_iter': (300, 1000)},\n",
       "       pre_dispatch='2*n_jobs', refit=True, return_train_score='warn',\n",
       "       scoring=None, verbose=0)"
      ]
     },
     "execution_count": 61,
     "metadata": {},
     "output_type": "execute_result"
    }
   ],
   "source": [
    "# fine tune model with grid search\n",
    "parameters = {\n",
    "    'vect__max_df': (0.5, 0.75),\n",
    "    'vect__min_df': (.02, .05),\n",
    "    'vect__max_features': ( 100, 500, 1000),\n",
    "    'sgdc__max_iter': (300, 1000),\n",
    "}\n",
    "grid_search = GridSearchCV(pipe, parameters, cv=5, n_jobs=7)\n",
    "grid_search.fit(yelp['text'], yelp['stars'])"
   ]
  },
  {
   "cell_type": "code",
   "execution_count": 67,
   "metadata": {},
   "outputs": [
    {
     "name": "stdout",
     "output_type": "stream",
     "text": [
      "Grid Search best score: 0.6085\n"
     ]
    },
    {
     "data": {
      "text/plain": [
       "array([1], dtype=int64)"
      ]
     },
     "execution_count": 67,
     "metadata": {},
     "output_type": "execute_result"
    }
   ],
   "source": [
    "# print out grid search score\n",
    "print(f'Grid Search best score: {grid_search.best_score_}')\n",
    "grid_search.predict(fake_review)"
   ]
  },
  {
   "cell_type": "code",
   "execution_count": 70,
   "metadata": {},
   "outputs": [
    {
     "name": "stderr",
     "output_type": "stream",
     "text": [
      "C:\\Users\\showi\\Anaconda3\\envs\\U4-S1-NLP\\lib\\site-packages\\sklearn\\linear_model\\stochastic_gradient.py:183: FutureWarning: max_iter and tol parameters have been added in SGDClassifier in 0.19. If max_iter is set but tol is left unset, the default value for tol in 0.19 and 0.20 will be None (which is equivalent to -infinity, so it has no effect) but will change in 0.21 to 1e-3. Specify tol to silence this warning.\n",
      "  FutureWarning)\n"
     ]
    },
    {
     "data": {
      "text/plain": [
       "GridSearchCV(cv=5, error_score='raise-deprecating',\n",
       "       estimator=Pipeline(memory=None,\n",
       "     steps=[('vect', CountVectorizer(analyzer='word', binary=False, decode_error='strict',\n",
       "        dtype=<class 'numpy.int64'>, encoding='utf-8', input='content',\n",
       "        lowercase=True, max_df=1.0, max_features=None, min_df=1,\n",
       "        ngram_range=(1, 1), preprocessor=None, stop_words=None,\n",
       "        strip...m_state=None, shuffle=True, tol=None,\n",
       "       validation_fraction=0.1, verbose=0, warm_start=False))]),\n",
       "       fit_params=None, iid='warn', n_jobs=7,\n",
       "       param_grid={'vect__max_df': (0.5, 0.75), 'vect__min_df': (0.02, 0.05), 'vect__max_features': (100, 500, 1000), 'sgdc__max_iter': (300, 1000)},\n",
       "       pre_dispatch='2*n_jobs', refit=True, return_train_score='warn',\n",
       "       scoring=None, verbose=0)"
      ]
     },
     "execution_count": 70,
     "metadata": {},
     "output_type": "execute_result"
    }
   ],
   "source": [
    "# Stretch Goal\n",
    "\n",
    "vect2 = CountVectorizer()\n",
    "sgdc2 = SGDClassifier()\n",
    "pipe2 = Pipeline([('vect', vect2),\n",
    "                  ('sgdc', sgdc2)])\n",
    "\n",
    "parameters2 = {\n",
    "    'vect__max_df': (0.5, 0.75),\n",
    "    'vect__min_df': (.02, .05),\n",
    "    'vect__max_features': ( 100, 500, 1000),\n",
    "    'sgdc__max_iter': (300, 1000),\n",
    "}\n",
    "grid_search2 = GridSearchCV(pipe2, parameters2, cv=5, n_jobs=7)\n",
    "\n",
    "grid_search2.fit(yelp['text'], yelp['stars'])"
   ]
  },
  {
   "cell_type": "code",
   "execution_count": 71,
   "metadata": {},
   "outputs": [
    {
     "name": "stdout",
     "output_type": "stream",
     "text": [
      "Best score with TF/IDF vectorizer is 0.6085\n",
      "Best score with Count vectorizer is 0.601\n"
     ]
    }
   ],
   "source": [
    "# compare scores of both vectorization methods\n",
    "print(f'Best score with TF/IDF vectorizer is {grid_search.best_score_}')\n",
    "print(f'Best score with Count vectorizer is {grid_search2.best_score_}')"
   ]
  },
  {
   "cell_type": "markdown",
   "metadata": {},
   "source": [
    "## Part 4: Topic Modeling\n",
    "\n",
    "Let's find out what those yelp reviews are saying! :D\n",
    "\n",
    "1. Estimate a LDA topic model of the review text\n",
    "    - Keep the `iterations` parameter at or below 5 to reduce run time\n",
    "    - The `workers` parameter should match the number of physical cores on your machine.\n",
    "2. Create 1-2 visualizations of the results\n",
    "    - You can use the most important 3 words of a topic in relevant visualizations. Refer to yesterday's notebook to extract. \n",
    "3. In markdown, write 1-2 paragraphs of analysis on the results of your topic model\n",
    "\n",
    "__*Note*__: You can pass the DataFrame column of text reviews to gensim. You do not have to use a generator."
   ]
  },
  {
   "cell_type": "code",
   "execution_count": 82,
   "metadata": {
    "collapsed": false,
    "inputHidden": false,
    "jupyter": {
     "outputs_hidden": false
    },
    "outputHidden": false
   },
   "outputs": [],
   "source": [
    "import gensim\n",
    "from gensim.models import LdaMulticore\n",
    "from gensim.corpora import Dictionary\n",
    "from gensim import corpora\n",
    "import os, sys, re"
   ]
  },
  {
   "cell_type": "code",
   "execution_count": 75,
   "metadata": {},
   "outputs": [],
   "source": [
    "def review(df, tokens):\n",
    "    \"\"\"\n",
    "    Generator function that takes a dataframe with a tokenized column and yields a tokenized \n",
    "    row for processing\n",
    "    \"\"\"\n",
    "    assert tokens in df.columns, f\"{tokens} does not exist!\"\n",
    "    \n",
    "    for index, row in df.iterrows():\n",
    "        token = row[tokens]\n",
    "        yield token"
   ]
  },
  {
   "cell_type": "markdown",
   "metadata": {},
   "source": [
    "Learn the vocubalary of the yelp data:"
   ]
  },
  {
   "cell_type": "code",
   "execution_count": 77,
   "metadata": {},
   "outputs": [],
   "source": [
    "id2word = corpora.Dictionary(review(yelp, 'tokenized'))"
   ]
  },
  {
   "cell_type": "markdown",
   "metadata": {},
   "source": [
    "Create a bag of words representation of the entire corpus"
   ]
  },
  {
   "cell_type": "code",
   "execution_count": 79,
   "metadata": {
    "collapsed": false,
    "inputHidden": false,
    "jupyter": {
     "outputs_hidden": false
    },
    "outputHidden": false
   },
   "outputs": [],
   "source": [
    "corpus = [id2word.doc2bow(rev) for rev in review(yelp, 'tokenized')]"
   ]
  },
  {
   "cell_type": "markdown",
   "metadata": {},
   "source": [
    "Your LDA model should be ready for estimation: "
   ]
  },
  {
   "cell_type": "code",
   "execution_count": 80,
   "metadata": {
    "collapsed": false,
    "inputHidden": false,
    "jupyter": {
     "outputs_hidden": false
    },
    "outputHidden": false
   },
   "outputs": [],
   "source": [
    "lda = LdaMulticore(corpus=corpus,\n",
    "                   id2word=id2word,\n",
    "                   iterations=5,\n",
    "                   workers=4,\n",
    "                   num_topics = 10 # You can change this parameter\n",
    "                  )"
   ]
  },
  {
   "cell_type": "markdown",
   "metadata": {},
   "source": [
    "Create 1-2 visualizations of the results"
   ]
  },
  {
   "cell_type": "code",
   "execution_count": null,
   "metadata": {
    "collapsed": false,
    "inputHidden": false,
    "jupyter": {
     "outputs_hidden": false
    },
    "outputHidden": false
   },
   "outputs": [],
   "source": [
    "topics = [' '.join(re.findall(r'\"([^\"]*)\"',t[1])) for t in lda.print_topics()]\n",
    "print(*topics, sep = \"\\n\\n\")"
   ]
  },
  {
   "cell_type": "code",
   "execution_count": 87,
   "metadata": {},
   "outputs": [
    {
     "name": "stderr",
     "output_type": "stream",
     "text": [
      "C:\\Users\\showi\\Anaconda3\\envs\\U4-S1-NLP\\lib\\site-packages\\pyLDAvis\\_prepare.py:257: FutureWarning: Sorting because non-concatenation axis is not aligned. A future version\n",
      "of pandas will change to not sort by default.\n",
      "\n",
      "To accept the future behavior, pass 'sort=False'.\n",
      "\n",
      "To retain the current behavior and silence the warning, pass 'sort=True'.\n",
      "\n",
      "  return pd.concat([default_term_info] + list(topic_dfs))\n"
     ]
    },
    {
     "data": {
      "text/html": [
       "\n",
       "<link rel=\"stylesheet\" type=\"text/css\" href=\"https://cdn.rawgit.com/bmabey/pyLDAvis/files/ldavis.v1.0.0.css\">\n",
       "\n",
       "\n",
       "<div id=\"ldavis_el3286822794497854726250846790\"></div>\n",
       "<script type=\"text/javascript\">\n",
       "\n",
       "var ldavis_el3286822794497854726250846790_data = {\"mdsDat\": {\"x\": [-0.00033012352980482017, -0.00392219225952094, -0.0005409797884117943, 0.0028425535382961653, -0.004645336564120191, -0.0009547831657468837, 0.003875103150978528, 0.002722394853729473, -0.00013120430058805667, 0.0010845680651885086], \"y\": [4.710727234886459e-05, 0.00012052370773545478, 0.002994570568501763, 0.002152636578076331, 0.0007172519124742851, 0.0015935753235192438, -0.00035097683643916806, 0.0021075976705379235, -0.005462180090281879, -0.003920106106472821], \"topics\": [1, 2, 3, 4, 5, 6, 7, 8, 9, 10], \"cluster\": [1, 1, 1, 1, 1, 1, 1, 1, 1, 1], \"Freq\": [10.493795394897461, 10.461906433105469, 10.302477836608887, 10.214583396911621, 10.125676155090332, 10.11327075958252, 10.06267261505127, 9.797048568725586, 9.343364715576172, 9.085204124450684]}, \"tinfo\": {\"Category\": [\"Default\", \"Default\", \"Default\", \"Default\", \"Default\", \"Default\", \"Default\", \"Default\", \"Default\", \"Default\", \"Default\", \"Default\", \"Default\", \"Default\", \"Default\", \"Default\", \"Default\", \"Default\", \"Default\", \"Default\", \"Default\", \"Default\", \"Default\", \"Default\", \"Default\", \"Default\", \"Default\", \"Default\", \"Default\", \"Default\", \"Topic1\", \"Topic1\", \"Topic1\", \"Topic1\", \"Topic1\", \"Topic1\", \"Topic1\", \"Topic1\", \"Topic1\", \"Topic1\", \"Topic1\", \"Topic1\", \"Topic1\", \"Topic1\", \"Topic1\", \"Topic1\", \"Topic1\", \"Topic1\", \"Topic1\", \"Topic1\", \"Topic1\", \"Topic1\", \"Topic1\", \"Topic1\", \"Topic1\", \"Topic1\", \"Topic1\", \"Topic1\", \"Topic1\", \"Topic1\", \"Topic1\", \"Topic1\", \"Topic1\", \"Topic1\", \"Topic1\", \"Topic1\", \"Topic1\", \"Topic1\", \"Topic1\", \"Topic1\", \"Topic1\", \"Topic1\", \"Topic1\", \"Topic1\", \"Topic1\", \"Topic1\", \"Topic1\", \"Topic1\", \"Topic1\", \"Topic1\", \"Topic1\", \"Topic1\", \"Topic1\", \"Topic1\", \"Topic1\", \"Topic1\", \"Topic1\", \"Topic1\", \"Topic1\", \"Topic1\", \"Topic1\", \"Topic1\", \"Topic1\", \"Topic1\", \"Topic1\", \"Topic1\", \"Topic1\", \"Topic1\", \"Topic1\", \"Topic1\", \"Topic1\", \"Topic1\", \"Topic1\", \"Topic1\", \"Topic1\", \"Topic1\", \"Topic1\", \"Topic1\", \"Topic2\", \"Topic2\", \"Topic2\", \"Topic2\", \"Topic2\", \"Topic2\", \"Topic2\", \"Topic2\", \"Topic2\", \"Topic2\", \"Topic2\", \"Topic2\", \"Topic2\", \"Topic2\", \"Topic2\", \"Topic2\", \"Topic2\", \"Topic2\", \"Topic2\", \"Topic2\", \"Topic2\", \"Topic2\", \"Topic2\", \"Topic2\", \"Topic2\", \"Topic2\", \"Topic2\", \"Topic2\", \"Topic2\", \"Topic2\", \"Topic2\", \"Topic2\", \"Topic2\", \"Topic2\", \"Topic2\", \"Topic2\", \"Topic2\", \"Topic2\", \"Topic2\", \"Topic2\", \"Topic2\", \"Topic2\", \"Topic2\", \"Topic2\", \"Topic2\", \"Topic2\", \"Topic2\", \"Topic2\", \"Topic2\", \"Topic2\", \"Topic2\", \"Topic2\", \"Topic2\", \"Topic2\", \"Topic2\", \"Topic2\", \"Topic2\", \"Topic2\", \"Topic2\", \"Topic2\", \"Topic2\", \"Topic2\", \"Topic2\", \"Topic2\", \"Topic2\", \"Topic2\", \"Topic2\", \"Topic2\", \"Topic2\", \"Topic2\", \"Topic2\", \"Topic2\", \"Topic2\", \"Topic2\", \"Topic2\", \"Topic2\", \"Topic2\", \"Topic2\", \"Topic2\", \"Topic2\", \"Topic2\", \"Topic2\", \"Topic3\", \"Topic3\", \"Topic3\", \"Topic3\", \"Topic3\", \"Topic3\", \"Topic3\", \"Topic3\", \"Topic3\", \"Topic3\", \"Topic3\", \"Topic3\", \"Topic3\", \"Topic3\", \"Topic3\", \"Topic3\", \"Topic3\", \"Topic3\", \"Topic3\", \"Topic3\", \"Topic3\", \"Topic3\", \"Topic3\", \"Topic3\", \"Topic3\", \"Topic3\", \"Topic3\", \"Topic3\", \"Topic3\", \"Topic3\", \"Topic3\", \"Topic3\", \"Topic3\", \"Topic3\", \"Topic3\", \"Topic3\", \"Topic3\", \"Topic3\", \"Topic3\", \"Topic3\", \"Topic3\", \"Topic3\", \"Topic3\", \"Topic3\", \"Topic3\", \"Topic3\", \"Topic3\", \"Topic3\", \"Topic3\", \"Topic3\", \"Topic3\", \"Topic3\", \"Topic3\", \"Topic3\", \"Topic3\", \"Topic3\", \"Topic3\", \"Topic3\", \"Topic3\", \"Topic3\", \"Topic3\", \"Topic3\", \"Topic3\", \"Topic3\", \"Topic3\", \"Topic3\", \"Topic3\", \"Topic3\", \"Topic3\", \"Topic3\", \"Topic3\", \"Topic3\", \"Topic3\", \"Topic3\", \"Topic3\", \"Topic3\", \"Topic3\", \"Topic3\", \"Topic4\", \"Topic4\", \"Topic4\", \"Topic4\", \"Topic4\", \"Topic4\", \"Topic4\", \"Topic4\", \"Topic4\", \"Topic4\", \"Topic4\", \"Topic4\", \"Topic4\", \"Topic4\", \"Topic4\", \"Topic4\", \"Topic4\", \"Topic4\", \"Topic4\", \"Topic4\", \"Topic4\", \"Topic4\", \"Topic4\", \"Topic4\", \"Topic4\", \"Topic4\", \"Topic4\", \"Topic4\", \"Topic4\", \"Topic4\", \"Topic4\", \"Topic4\", \"Topic4\", \"Topic4\", \"Topic4\", \"Topic4\", \"Topic4\", \"Topic4\", \"Topic4\", \"Topic4\", \"Topic4\", \"Topic4\", \"Topic4\", \"Topic4\", \"Topic4\", \"Topic4\", \"Topic4\", \"Topic4\", \"Topic4\", \"Topic4\", \"Topic4\", \"Topic4\", \"Topic4\", \"Topic4\", \"Topic4\", \"Topic4\", \"Topic4\", \"Topic4\", \"Topic4\", \"Topic4\", \"Topic4\", \"Topic4\", \"Topic4\", \"Topic4\", \"Topic4\", \"Topic4\", \"Topic4\", \"Topic4\", \"Topic4\", \"Topic4\", \"Topic4\", \"Topic4\", \"Topic4\", \"Topic4\", \"Topic4\", \"Topic4\", \"Topic4\", \"Topic4\", \"Topic4\", \"Topic5\", \"Topic5\", \"Topic5\", \"Topic5\", \"Topic5\", \"Topic5\", \"Topic5\", \"Topic5\", \"Topic5\", \"Topic5\", \"Topic5\", \"Topic5\", \"Topic5\", \"Topic5\", \"Topic5\", \"Topic5\", \"Topic5\", \"Topic5\", \"Topic5\", \"Topic5\", \"Topic5\", \"Topic5\", \"Topic5\", \"Topic5\", \"Topic5\", \"Topic5\", \"Topic5\", \"Topic5\", \"Topic5\", \"Topic5\", \"Topic5\", \"Topic5\", \"Topic5\", \"Topic5\", \"Topic5\", \"Topic5\", \"Topic5\", \"Topic5\", \"Topic5\", \"Topic5\", \"Topic5\", \"Topic5\", \"Topic5\", \"Topic5\", \"Topic5\", \"Topic5\", \"Topic5\", \"Topic5\", \"Topic5\", \"Topic5\", \"Topic5\", \"Topic5\", \"Topic5\", \"Topic5\", \"Topic5\", \"Topic5\", \"Topic5\", \"Topic5\", \"Topic5\", \"Topic5\", \"Topic5\", \"Topic5\", \"Topic5\", \"Topic5\", \"Topic5\", \"Topic5\", \"Topic5\", \"Topic5\", \"Topic5\", \"Topic5\", \"Topic5\", \"Topic5\", \"Topic5\", \"Topic5\", \"Topic5\", \"Topic5\", \"Topic5\", \"Topic5\", \"Topic5\", \"Topic5\", \"Topic5\", \"Topic5\", \"Topic5\", \"Topic5\", \"Topic6\", \"Topic6\", \"Topic6\", \"Topic6\", \"Topic6\", \"Topic6\", \"Topic6\", \"Topic6\", \"Topic6\", \"Topic6\", \"Topic6\", \"Topic6\", \"Topic6\", \"Topic6\", \"Topic6\", \"Topic6\", \"Topic6\", \"Topic6\", \"Topic6\", \"Topic6\", \"Topic6\", \"Topic6\", \"Topic6\", \"Topic6\", \"Topic6\", \"Topic6\", \"Topic6\", \"Topic6\", \"Topic6\", \"Topic6\", \"Topic6\", \"Topic6\", \"Topic6\", \"Topic6\", \"Topic6\", \"Topic6\", \"Topic6\", \"Topic6\", \"Topic6\", \"Topic6\", \"Topic6\", \"Topic6\", \"Topic6\", \"Topic6\", \"Topic6\", \"Topic6\", \"Topic6\", \"Topic6\", \"Topic6\", \"Topic6\", \"Topic6\", \"Topic6\", \"Topic6\", \"Topic6\", \"Topic6\", \"Topic6\", \"Topic6\", \"Topic6\", \"Topic6\", \"Topic6\", \"Topic6\", \"Topic6\", \"Topic6\", \"Topic6\", \"Topic6\", \"Topic6\", \"Topic6\", \"Topic6\", \"Topic6\", \"Topic6\", \"Topic6\", \"Topic6\", \"Topic6\", \"Topic6\", \"Topic6\", \"Topic6\", \"Topic6\", \"Topic6\", \"Topic6\", \"Topic6\", \"Topic6\", \"Topic7\", \"Topic7\", \"Topic7\", \"Topic7\", \"Topic7\", \"Topic7\", \"Topic7\", \"Topic7\", \"Topic7\", \"Topic7\", \"Topic7\", \"Topic7\", \"Topic7\", \"Topic7\", \"Topic7\", \"Topic7\", \"Topic7\", \"Topic7\", \"Topic7\", \"Topic7\", \"Topic7\", \"Topic7\", \"Topic7\", \"Topic7\", \"Topic7\", \"Topic7\", \"Topic7\", \"Topic7\", \"Topic7\", \"Topic7\", \"Topic7\", \"Topic7\", \"Topic7\", \"Topic7\", \"Topic7\", \"Topic7\", \"Topic7\", \"Topic7\", \"Topic7\", \"Topic7\", \"Topic7\", \"Topic7\", \"Topic7\", \"Topic7\", \"Topic7\", \"Topic7\", \"Topic7\", \"Topic7\", \"Topic7\", \"Topic7\", \"Topic7\", \"Topic7\", \"Topic7\", \"Topic7\", \"Topic7\", \"Topic7\", \"Topic7\", \"Topic7\", \"Topic7\", \"Topic7\", \"Topic7\", \"Topic7\", \"Topic7\", \"Topic7\", \"Topic7\", \"Topic7\", \"Topic7\", \"Topic7\", \"Topic7\", \"Topic7\", \"Topic7\", \"Topic7\", \"Topic7\", \"Topic7\", \"Topic7\", \"Topic7\", \"Topic7\", \"Topic7\", \"Topic7\", \"Topic7\", \"Topic7\", \"Topic7\", \"Topic7\", \"Topic7\", \"Topic7\", \"Topic7\", \"Topic8\", \"Topic8\", \"Topic8\", \"Topic8\", \"Topic8\", \"Topic8\", \"Topic8\", \"Topic8\", \"Topic8\", \"Topic8\", \"Topic8\", \"Topic8\", \"Topic8\", \"Topic8\", \"Topic8\", \"Topic8\", \"Topic8\", \"Topic8\", \"Topic8\", \"Topic8\", \"Topic8\", \"Topic8\", \"Topic8\", \"Topic8\", \"Topic8\", \"Topic8\", \"Topic8\", \"Topic8\", \"Topic8\", \"Topic8\", \"Topic8\", \"Topic8\", \"Topic8\", \"Topic8\", \"Topic8\", \"Topic8\", \"Topic8\", \"Topic8\", \"Topic8\", \"Topic8\", \"Topic8\", \"Topic8\", \"Topic8\", \"Topic8\", \"Topic8\", \"Topic8\", \"Topic8\", \"Topic8\", \"Topic8\", \"Topic8\", \"Topic8\", \"Topic8\", \"Topic8\", \"Topic8\", \"Topic8\", \"Topic8\", \"Topic8\", \"Topic8\", \"Topic8\", \"Topic8\", \"Topic8\", \"Topic8\", \"Topic8\", \"Topic8\", \"Topic8\", \"Topic8\", \"Topic8\", \"Topic8\", \"Topic8\", \"Topic8\", \"Topic8\", \"Topic8\", \"Topic8\", \"Topic8\", \"Topic8\", \"Topic8\", \"Topic8\", \"Topic8\", \"Topic8\", \"Topic8\", \"Topic8\", \"Topic8\", \"Topic8\", \"Topic8\", \"Topic8\", \"Topic8\", \"Topic9\", \"Topic9\", \"Topic9\", \"Topic9\", \"Topic9\", \"Topic9\", \"Topic9\", \"Topic9\", \"Topic9\", \"Topic9\", \"Topic9\", \"Topic9\", \"Topic9\", \"Topic9\", \"Topic9\", \"Topic9\", \"Topic9\", \"Topic9\", \"Topic9\", \"Topic9\", \"Topic9\", \"Topic9\", \"Topic9\", \"Topic9\", \"Topic9\", \"Topic9\", \"Topic9\", \"Topic9\", \"Topic9\", \"Topic9\", \"Topic9\", \"Topic9\", \"Topic9\", \"Topic9\", \"Topic9\", \"Topic9\", \"Topic9\", \"Topic9\", \"Topic9\", \"Topic9\", \"Topic9\", \"Topic9\", \"Topic9\", \"Topic9\", \"Topic9\", \"Topic9\", \"Topic9\", \"Topic9\", \"Topic9\", \"Topic9\", \"Topic9\", \"Topic9\", \"Topic9\", \"Topic9\", \"Topic9\", \"Topic9\", \"Topic9\", \"Topic9\", \"Topic9\", \"Topic9\", \"Topic9\", \"Topic9\", \"Topic9\", \"Topic9\", \"Topic9\", \"Topic9\", \"Topic9\", \"Topic9\", \"Topic9\", \"Topic9\", \"Topic9\", \"Topic9\", \"Topic9\", \"Topic9\", \"Topic9\", \"Topic9\", \"Topic9\", \"Topic9\", \"Topic9\", \"Topic9\", \"Topic9\", \"Topic9\", \"Topic10\", \"Topic10\", \"Topic10\", \"Topic10\", \"Topic10\", \"Topic10\", \"Topic10\", \"Topic10\", \"Topic10\", \"Topic10\", \"Topic10\", \"Topic10\", \"Topic10\", \"Topic10\", \"Topic10\", \"Topic10\", \"Topic10\", \"Topic10\", \"Topic10\", \"Topic10\", \"Topic10\", \"Topic10\", \"Topic10\", \"Topic10\", \"Topic10\", \"Topic10\", \"Topic10\", \"Topic10\", \"Topic10\", \"Topic10\", \"Topic10\", \"Topic10\", \"Topic10\", \"Topic10\", \"Topic10\", \"Topic10\", \"Topic10\", \"Topic10\", \"Topic10\", \"Topic10\", \"Topic10\", \"Topic10\", \"Topic10\", \"Topic10\", \"Topic10\", \"Topic10\", \"Topic10\", \"Topic10\", \"Topic10\", \"Topic10\", \"Topic10\", \"Topic10\", \"Topic10\", \"Topic10\", \"Topic10\", \"Topic10\", \"Topic10\", \"Topic10\", \"Topic10\", \"Topic10\", \"Topic10\", \"Topic10\", \"Topic10\", \"Topic10\", \"Topic10\", \"Topic10\", \"Topic10\", \"Topic10\", \"Topic10\", \"Topic10\", \"Topic10\", \"Topic10\", \"Topic10\", \"Topic10\", \"Topic10\", \"Topic10\", \"Topic10\", \"Topic10\", \"Topic10\", \"Topic10\", \"Topic10\", \"Topic10\", \"Topic10\", \"Topic10\", \"Topic10\", \"Topic10\", \"Topic10\", \"Topic10\", \"Topic10\", \"Topic10\", \"Topic10\", \"Topic10\"], \"Freq\": [4460.0, 4133.0, 4561.0, 4755.0, 1751.0, 3330.0, 1988.0, 3304.0, 1395.0, 1441.0, 3504.0, 1688.0, 1373.0, 1055.0, 843.0, 995.0, 1589.0, 1116.0, 740.0, 831.0, 1449.0, 771.0, 841.0, 1337.0, 1403.0, 1122.0, 1382.0, 643.0, 598.0, 645.0, 1.3991010189056396, 1.3460147380828857, 1.344721794128418, 0.6796444654464722, 1.8940716981887817, 2.2483327388763428, 0.49857401847839355, 0.9309176206588745, 0.9054107069969177, 0.850054144859314, 1.0240908861160278, 1.19752836227417, 2.837010145187378, 0.5667160749435425, 0.7682146430015564, 0.9346442222595215, 1.0828945636749268, 1.078513503074646, 0.7515782713890076, 0.7374243140220642, 0.8870919346809387, 0.7294413447380066, 0.7241163849830627, 0.7226449251174927, 0.6814219355583191, 0.5270220637321472, 0.3592865467071533, 1.2899473905563354, 0.816024661064148, 0.6583551168441772, 1.5003896951675415, 2.534836769104004, 4.214570999145508, 57.44929885864258, 101.98983764648438, 597.9392700195312, 39.368385314941406, 170.02137756347656, 140.51870727539062, 270.1622009277344, 113.53141784667969, 427.1490173339844, 129.70765686035156, 111.17274475097656, 91.78463745117188, 77.31813049316406, 207.38302612304688, 409.97509765625, 185.03684997558594, 45.84305953979492, 46.156898498535156, 169.21762084960938, 107.55418395996094, 470.04339599609375, 489.7607116699219, 114.66896057128906, 154.32151794433594, 101.59944152832031, 147.59706115722656, 176.55555725097656, 163.20742797851562, 95.24842071533203, 159.6418914794922, 158.84417724609375, 151.0055694580078, 149.8956756591797, 161.40957641601562, 345.32818603515625, 267.5508117675781, 117.99991607666016, 122.11681365966797, 157.12718200683594, 151.4586639404297, 136.7996826171875, 134.319580078125, 123.6312484741211, 120.35555267333984, 123.3156967163086, 1.1379207372665405, 1.1167800426483154, 1.5229839086532593, 1.133760690689087, 1.0833280086517334, 0.43766748905181885, 1.5897732973098755, 0.426305890083313, 0.8067909479141235, 0.7995144128799438, 0.7947742342948914, 1.103145718574524, 0.8698744177818298, 0.5268429517745972, 1.0096664428710938, 0.8276231288909912, 0.670062243938446, 0.6697962284088135, 0.663634717464447, 1.1195176839828491, 0.6590638756752014, 1.0867928266525269, 1.0832877159118652, 0.9072331786155701, 1.0726897716522217, 0.6302749514579773, 0.4592758119106293, 1.0390383005142212, 0.8722503185272217, 1.0287524461746216, 1.798984408378601, 1.9101585149765015, 54.583106994628906, 79.61104583740234, 91.71876525878906, 19.328369140625, 104.55274200439453, 681.20947265625, 116.1844711303711, 214.26693725585938, 206.03440856933594, 14.075034141540527, 96.70785522460938, 53.397377014160156, 22.11327362060547, 420.3381042480469, 117.2089614868164, 69.40681457519531, 73.2562255859375, 75.98054504394531, 236.66909790039062, 119.83149719238281, 77.601806640625, 155.48985290527344, 92.5658950805664, 139.1754608154297, 64.27667999267578, 101.37913513183594, 377.6390686035156, 207.2609100341797, 119.93048858642578, 188.96002197265625, 169.62677001953125, 163.941650390625, 136.72616577148438, 157.00265502929688, 327.1970520019531, 412.2082824707031, 377.37353515625, 162.2538604736328, 122.22686767578125, 175.12486267089844, 159.71072387695312, 124.76477813720703, 146.4024200439453, 146.6401824951172, 143.50962829589844, 260.5492248535156, 165.03790283203125, 141.97885131835938, 123.75762176513672, 121.83052062988281, 1.4537007808685303, 1.2119122743606567, 0.5884032249450684, 2.5458016395568848, 1.4596282243728638, 0.4908849895000458, 1.4341731071472168, 0.4273946285247803, 0.9730092287063599, 0.7926860451698303, 1.5083107948303223, 0.9496013522148132, 0.7469142079353333, 1.3704179525375366, 0.715941846370697, 4.028609752655029, 0.6985469460487366, 0.36450108885765076, 0.5068230628967285, 0.3549228012561798, 0.49928516149520874, 0.8158816695213318, 0.35034728050231934, 0.6604921817779541, 0.6598213911056519, 0.33573848009109497, 0.7728481888771057, 0.33128416538238525, 0.6302809715270996, 0.5961046814918518, 2.2757229804992676, 1.4148391485214233, 2.4751832485198975, 272.500244140625, 106.47147369384766, 24.041873931884766, 59.67926025390625, 33.25187683105469, 147.4622039794922, 16.509044647216797, 452.7522277832031, 198.86424255371094, 119.26054382324219, 129.43397521972656, 107.46272277832031, 53.4276123046875, 81.17459106445312, 539.989013671875, 133.65321350097656, 164.24456787109375, 506.8073425292969, 80.81817626953125, 133.1988525390625, 512.0239868164062, 170.71185302734375, 66.76163482666016, 148.83734130859375, 82.36869812011719, 48.6389274597168, 86.76847076416016, 221.93209838867188, 91.26422119140625, 196.39804077148438, 301.632080078125, 132.93919372558594, 147.43109130859375, 292.3927307128906, 141.97549438476562, 317.98712158203125, 150.1988067626953, 144.33221435546875, 144.44378662109375, 137.1294403076172, 138.39414978027344, 147.75119018554688, 155.83694458007812, 127.29258728027344, 121.51239013671875, 0.8169489502906799, 0.8068368434906006, 0.7726422548294067, 0.7584070563316345, 0.7347532510757446, 1.3766430616378784, 1.0183498859405518, 0.851704478263855, 0.3571414053440094, 0.6817746758460999, 1.1483217477798462, 1.4294617176055908, 1.2643903493881226, 0.659454882144928, 0.33782750368118286, 0.3370959460735321, 0.47187405824661255, 1.625239610671997, 0.4697473645210266, 1.7245081663131714, 0.4681582748889923, 0.3277350962162018, 0.6257909536361694, 1.5758519172668457, 0.45367005467414856, 0.4535694122314453, 1.8569530248641968, 1.1349079608917236, 0.7365131974220276, 10.681462287902832, 44.10386276245117, 676.7955322265625, 2.4235193729400635, 65.52084350585938, 26.92926597595215, 40.973793029785156, 34.420711517333984, 197.78887939453125, 57.881324768066406, 152.4535369873047, 175.81011962890625, 182.39727783203125, 112.6905746459961, 388.9292907714844, 58.45679473876953, 400.673828125, 67.23651885986328, 85.35316467285156, 83.3720932006836, 96.73087310791016, 85.28933715820312, 143.32281494140625, 53.35081100463867, 202.57847595214844, 38.1324462890625, 165.90518188476562, 53.26831817626953, 86.95216369628906, 462.6387023925781, 133.53318786621094, 186.4684600830078, 155.84933471679688, 165.47735595703125, 155.29896545410156, 415.6865539550781, 380.3147888183594, 147.47117614746094, 292.5272521972656, 132.592529296875, 117.67736053466797, 183.8730010986328, 136.3228302001953, 142.0635986328125, 182.64817810058594, 137.5376434326172, 141.31431579589844, 134.19093322753906, 137.02090454101562, 128.97439575195312, 0.9289432764053345, 0.8883095383644104, 0.6497234106063843, 0.4575173258781433, 0.6413192749023438, 1.4034221172332764, 8.34609603881836, 0.4317644536495209, 0.4308718740940094, 1.6048582792282104, 1.6383379697799683, 0.752610981464386, 0.7520686388015747, 0.3750683665275574, 0.3720531463623047, 1.4397649765014648, 1.1431454420089722, 0.6678626537322998, 1.1271460056304932, 0.6306215524673462, 0.3442055284976959, 0.657431960105896, 0.341336727142334, 0.755361020565033, 0.33869248628616333, 1.6376608610153198, 0.6411439180374146, 1.4608749151229858, 1.0506055355072021, 0.7757987976074219, 1.8953909873962402, 5.598812580108643, 1.0698192119598389, 296.9296875, 111.08018493652344, 8.295944213867188, 48.31801986694336, 32.10808563232422, 115.50234985351562, 6.577865123748779, 158.06089782714844, 101.8716812133789, 190.4871826171875, 92.61417388916016, 31.759925842285156, 66.69078063964844, 414.043212890625, 61.16358947753906, 520.3692626953125, 80.09599304199219, 123.22322845458984, 48.82343292236328, 135.58370971679688, 119.76531982421875, 58.36479187011719, 365.3625183105469, 494.5299072265625, 159.03590393066406, 226.67620849609375, 87.5246810913086, 100.06839752197266, 70.51568603515625, 107.9559326171875, 169.2443389892578, 119.22541046142578, 132.56875610351562, 148.03041076660156, 108.3947982788086, 282.9031982421875, 183.14930725097656, 169.71438598632812, 142.2938232421875, 339.1350402832031, 299.97052001953125, 112.06623840332031, 120.62074279785156, 135.99952697753906, 121.1827621459961, 127.70294952392578, 130.41636657714844, 129.7716522216797, 129.63160705566406, 127.72885131835938, 119.86223602294922, 1.6313469409942627, 1.267518401145935, 1.2004510164260864, 0.4780563712120056, 2.4040398597717285, 0.41399192810058594, 0.4092448353767395, 1.3055280447006226, 1.0992594957351685, 0.7611050605773926, 1.2006607055664062, 0.703380823135376, 0.3610374331474304, 0.8371878862380981, 0.6856321096420288, 0.6769543886184692, 0.6714926958084106, 0.35014957189559937, 0.9511570930480957, 1.1100478172302246, 0.34193047881126404, 0.7925381064414978, 0.6516043543815613, 1.51792311668396, 0.8961299061775208, 0.3386014997959137, 0.4758555293083191, 0.475870281457901, 0.6122334003448486, 0.334867000579834, 0.7723617553710938, 1.0653518438339233, 6.277008056640625, 210.41909790039062, 163.72103881835938, 126.10132598876953, 23.594324111938477, 633.8863525390625, 62.0875244140625, 71.23184967041016, 164.10118103027344, 20.322797775268555, 8.453782081604004, 19.981441497802734, 121.69241333007812, 149.1964111328125, 176.78436279296875, 33.89463806152344, 124.86043548583984, 90.35327911376953, 132.9989471435547, 475.78350830078125, 200.9818878173828, 169.72630310058594, 55.206295013427734, 85.80828094482422, 144.85508728027344, 166.1581268310547, 448.07025146484375, 135.2614288330078, 98.50666809082031, 105.12472534179688, 337.01251220703125, 97.58781433105469, 309.3563537597656, 150.62928771972656, 373.8719482421875, 185.95733642578125, 108.86238098144531, 270.21337890625, 132.6321258544922, 119.54435729980469, 141.8499298095703, 147.18177795410156, 147.0722198486328, 140.92681884765625, 134.1241912841797, 134.84552001953125, 139.14212036132812, 143.2555694580078, 140.54556274414062, 0.7163887023925781, 0.5374219417572021, 0.9210910201072693, 0.47106266021728516, 0.8847028017044067, 1.1908785104751587, 0.826683759689331, 1.1616096496582031, 0.7925215363502502, 0.4017951488494873, 1.248755931854248, 1.7047823667526245, 1.5133516788482666, 0.3723278045654297, 0.7015711069107056, 0.8490949869155884, 0.6906622052192688, 0.5064550638198853, 0.35396644473075867, 0.8198342323303223, 0.8128944039344788, 0.3493529260158539, 0.34425848722457886, 0.3424856960773468, 0.34038183093070984, 0.3386554718017578, 1.0452866554260254, 0.6367623209953308, 0.6326667666435242, 0.4642111659049988, 1.2477619647979736, 609.8864135742188, 219.93179321289062, 13.844966888427734, 653.3372192382812, 2.668691635131836, 71.55961608886719, 4.724429607391357, 8.320662498474121, 253.869384765625, 51.39499282836914, 124.88092803955078, 533.034423828125, 115.03693389892578, 73.5508804321289, 20.401609420776367, 60.34339904785156, 50.38313674926758, 29.416872024536133, 66.34004974365234, 49.661598205566406, 53.25935363769531, 350.8297119140625, 172.27882385253906, 79.68490600585938, 110.78551483154297, 349.1404113769531, 90.0106430053711, 93.30086517333984, 104.79930114746094, 147.3141326904297, 83.01136016845703, 124.28134155273438, 58.904056549072266, 79.43397521972656, 73.71919250488281, 88.93783569335938, 146.95948791503906, 144.44247436523438, 373.9527587890625, 125.69210815429688, 144.6287384033203, 136.2179718017578, 266.8833923339844, 128.22329711914062, 134.26988220214844, 134.69920349121094, 148.54251098632812, 157.2140655517578, 137.06654357910156, 128.56884765625, 111.5136489868164, 121.00269317626953, 113.1203842163086, 122.65352630615234, 112.76412963867188, 0.4747169315814972, 0.8358335494995117, 0.8179367184638977, 0.7461415529251099, 0.7171928286552429, 0.6947349309921265, 0.6765052080154419, 0.6736693978309631, 0.4877287447452545, 0.6619628071784973, 0.8007336854934692, 0.7984455823898315, 0.6570277810096741, 1.5189121961593628, 1.4838519096374512, 1.9852858781814575, 0.7641127705574036, 1.1574130058288574, 0.8528656363487244, 1.0378382205963135, 0.6086492538452148, 0.31665441393852234, 0.8627694249153137, 0.31324270367622375, 0.31296607851982117, 0.5947573781013489, 0.5648574233055115, 0.5942719578742981, 0.43761852383613586, 0.30735358595848083, 0.9923709630966187, 0.8372300267219543, 1.466790795326233, 1.4571744203567505, 469.57708740234375, 44.036285400390625, 604.868408203125, 194.2598419189453, 108.86831665039062, 70.88213348388672, 99.874267578125, 76.15763092041016, 15.412432670593262, 18.10071563720703, 173.47190856933594, 53.57859420776367, 35.85944366455078, 32.693180084228516, 162.97390747070312, 139.86019897460938, 59.93408203125, 487.497802734375, 32.602935791015625, 362.2055358886719, 81.03239440917969, 56.307411193847656, 62.747955322265625, 156.1953582763672, 167.36036682128906, 96.64703369140625, 136.38009643554688, 192.6947021484375, 47.04537582397461, 115.19141387939453, 43.32687759399414, 96.50911712646484, 367.9404296875, 320.349609375, 129.3715362548828, 78.84729766845703, 396.5188293457031, 153.75527954101562, 142.27833557128906, 139.17788696289062, 95.5670166015625, 89.40032196044922, 154.0069580078125, 99.1314926147461, 134.49560546875, 161.30014038085938, 153.9761505126953, 134.1563262939453, 126.94009399414062, 112.78886413574219, 108.97811889648438, 115.84327697753906, 0.673409104347229, 0.628611147403717, 0.9859620332717896, 2.0644805431365967, 0.8612252473831177, 0.8449063301086426, 1.1983566284179688, 0.9986938834190369, 0.7986671328544617, 0.911126434803009, 1.9301704168319702, 0.9208322763442993, 0.3897989094257355, 0.7444103956222534, 0.6874845027923584, 0.5265337228775024, 0.7153305411338806, 0.8510786294937134, 0.3651958703994751, 3.140850067138672, 0.9786331653594971, 0.6699220538139343, 0.8014217615127563, 6.503600597381592, 0.3428790867328644, 0.9312744140625, 0.33703967928886414, 0.33329689502716064, 0.7691434621810913, 0.3311206102371216, 0.9031416773796082, 0.7623389959335327, 14.140195846557617, 106.54283142089844, 6.4766364097595215, 97.77031707763672, 6.212978839874268, 61.326080322265625, 194.05218505859375, 82.08383178710938, 236.21197509765625, 54.482154846191406, 354.7976379394531, 102.20484161376953, 419.77044677734375, 99.37789916992188, 56.085262298583984, 450.6465148925781, 105.13182830810547, 151.87521362304688, 156.00404357910156, 89.18474578857422, 95.12515258789062, 77.88336944580078, 148.7980499267578, 80.19125366210938, 53.41569519042969, 91.39564514160156, 123.70359802246094, 168.2002716064453, 42.5968132019043, 60.94771194458008, 70.2894058227539, 269.2867431640625, 354.8577575683594, 336.8959045410156, 132.71409606933594, 123.01045227050781, 153.8183135986328, 139.07298278808594, 158.5401611328125, 107.14532470703125, 111.94712829589844, 210.04443359375, 116.7525634765625, 121.0953598022461, 121.08589172363281, 110.39389038085938, 118.78258514404297, 114.62116241455078, 111.91195678710938, 106.71780395507812, 1.0217247009277344, 0.520300567150116, 0.9048179388046265, 1.009604573249817, 0.7060137987136841, 0.34926843643188477, 0.34068602323532104, 0.6149507761001587, 0.6096099019050598, 1.439125895500183, 0.31479424238204956, 0.6980230212211609, 0.30978667736053467, 1.1029729843139648, 0.9748895168304443, 0.5696374177932739, 0.2970053255558014, 0.559572160243988, 1.0573513507843018, 0.7829272150993347, 0.286150187253952, 3.5827887058258057, 1.343271255493164, 0.27957454323768616, 0.2793685793876648, 0.27918291091918945, 0.761592447757721, 0.276980996131897, 0.3889175355434418, 1.0049426555633545, 1.2532516717910767, 0.8882750868797302, 4.530328750610352, 3.5080671310424805, 0.7480087876319885, 4.317172050476074, 10.020771026611328, 119.68722534179688, 3.277374267578125, 2.3043229579925537, 25.614063262939453, 82.58629608154297, 67.02310180664062, 145.31346130371094, 98.18380737304688, 26.07335090637207, 13.572020530700684, 173.7855682373047, 45.803951263427734, 22.230009078979492, 226.89813232421875, 132.27520751953125, 59.1729850769043, 167.08432006835938, 72.29060363769531, 29.2261905670166, 54.64909744262695, 132.5986328125, 151.1115264892578, 46.97954559326172, 33.154911041259766, 314.27752685546875, 51.76621627807617, 301.19342041015625, 53.84983444213867, 162.07627868652344, 98.9393539428711, 362.7281494140625, 142.5753173828125, 85.96604919433594, 117.85441589355469, 132.11300659179688, 356.2618713378906, 90.93140411376953, 69.93595886230469, 92.71138763427734, 286.2628173828125, 90.65181732177734, 92.5526123046875, 284.3162841796875, 232.4134979248047, 148.838134765625, 130.72621154785156, 106.4061279296875, 118.80821990966797, 114.76984405517578, 111.104736328125, 121.95092010498047, 110.45530700683594, 101.23976135253906, 106.76691436767578, 102.82891082763672], \"Term\": [\"good\", \"great\", \"place\", \"food\", \"best\", \"like\", \"got\", \"time\", \"definitely\", \"came\", \"service\", \"nice\", \"little\", \"right\", \"think\", \"want\", \"love\", \"better\", \"lunch\", \"eat\", \"order\", \"small\", \"location\", \"friendly\", \"come\", \"recommend\", \"people\", \"feel\", \"stars\", \"quality\", \"operative\", \"bello\", \"sono\", \"yc\", \"intelligent\", \"resource\", \"labove\", \"aptive\", \"poms\", \"cary\", \"devin\", \"pittsburg\", \"nancy\", \"openers\", \"discontinue\", \"environmental\", \"nook\", \"pesky\", \"atv\", \"beause\", \"huckleberry\", \"wona\", \"shimp\", \"radiance\", \"durian\", \"trevi\", \"rom\", \"spraying\", \"cranny\", \"cwru\", \"groomed\", \"cobbler\", \"exceeded\", \"return\", \"stars\", \"great\", \"thanks\", \"new\", \"told\", \"got\", \"lot\", \"like\", \"work\", \"home\", \"wanted\", \"care\", \"love\", \"service\", \"order\", \"customers\", \"ago\", \"chicken\", \"customer\", \"good\", \"food\", \"price\", \"experience\", \"pizza\", \"delicious\", \"staff\", \"come\", \"area\", \"definitely\", \"try\", \"amazing\", \"restaurant\", \"ordered\", \"place\", \"time\", \"bar\", \"right\", \"ve\", \"best\", \"people\", \"went\", \"said\", \"recommend\", \"nice\", \"fridendly\", \"imcomplete\", \"medallions\", \"mcqueen\", \"matthew\", \"mila\", \"linda\", \"carted\", \"colleen\", \"shipper\", \"barhopping\", \"losses\", \"pennies\", \"atms\", \"kang\", \"prima\", \"flannery\", \"complexly\", \"blode\", \"reassuring\", \"existant\", \"fungus\", \"mistreated\", \"reassured\", \"yasmin\", \"aumon\", \"elva\", \"caliente\", \"glassware\", \"jdt\", \"blueberries\", \"michelle\", \"tacos\", \"fried\", \"meat\", \"cook\", \"awesome\", \"food\", \"ll\", \"ordered\", \"order\", \"smaller\", \"server\", \"stay\", \"changed\", \"time\", \"eat\", \"soup\", \"line\", \"favorite\", \"ve\", \"minutes\", \"visit\", \"menu\", \"dinner\", \"way\", \"fun\", \"pizza\", \"service\", \"best\", \"told\", \"love\", \"came\", \"definitely\", \"recommend\", \"friendly\", \"like\", \"place\", \"great\", \"went\", \"bar\", \"nice\", \"staff\", \"right\", \"little\", \"people\", \"chicken\", \"good\", \"got\", \"try\", \"going\", \"restaurant\", \"walkthrough\", \"butterflies\", \"stabbed\", \"swedish\", \"greenhouse\", \"tellers\", \"caliente\", \"outbacks\", \"demonic\", \"roomtastic\", \"whimsical\", \"auxiliary\", \"personnels\", \"tso\", \"negated\", \"billing\", \"propre\", \"donny\", \"reared\", \"barros\", \"ditched\", \"condensation\", \"abiance\", \"karen\", \"organis\\u00e9\", \"fufill\", \"stationnement\", \"bods\", \"salutations\", \"parsanko\", \"pakora\", \"tattoos\", \"addicted\", \"nice\", \"prices\", \"massage\", \"kids\", \"noodles\", \"want\", \"notch\", \"service\", \"order\", \"location\", \"room\", \"wasn\", \"close\", \"hot\", \"place\", \"bar\", \"experience\", \"good\", \"hour\", \"pretty\", \"food\", \"little\", \"tasty\", \"menu\", \"check\", \"walk\", \"quality\", \"got\", \"happy\", \"ve\", \"like\", \"day\", \"restaurant\", \"time\", \"chicken\", \"great\", \"ordered\", \"went\", \"came\", \"friendly\", \"definitely\", \"love\", \"best\", \"come\", \"amazing\", \"darlene\", \"suitemates\", \"cos\", \"cwru\", \"peggy\", \"peru\", \"greenway\", \"slimey\", \"karl\", \"conchas\", \"motorsports\", \"delta\", \"calipers\", \"daaayyuuummm\", \"picard\", \"agian\", \"editing\", \"instruments\", \"aesthetics\", \"rugs\", \"pok\\u00e9\", \"greentea\", \"dippin\", \"accepting\", \"flatscreen\", \"cruffin\", \"nirvana\", \"saloon\", \"kheer\", \"changes\", \"reasonable\", \"good\", \"ttc\", \"steak\", \"specials\", \"size\", \"mexican\", \"came\", \"cooked\", \"better\", \"friendly\", \"definitely\", \"eat\", \"time\", \"owner\", \"service\", \"ask\", \"prices\", \"years\", \"lunch\", \"excellent\", \"said\", \"enjoyed\", \"best\", \"liked\", \"come\", \"maybe\", \"tried\", \"food\", \"recommend\", \"nice\", \"little\", \"ordered\", \"people\", \"place\", \"great\", \"amazing\", \"like\", \"menu\", \"pretty\", \"ve\", \"experience\", \"chicken\", \"got\", \"restaurant\", \"went\", \"staff\", \"love\", \"try\", \"krung\", \"chauffeured\", \"thi\", \"fetta\", \"croquetas\", \"inspections\", \"yuk\", \"luxuriously\", \"guacamolie\", \"frys\", \"occur\", \"carina\", \"kelsea\", \"disciplines\", \"neil\", \"donovan\", \"lassaine\", \"saddest\", \"slymans\", \"ana\", \"campbells\", \"dodgy\", \"footwork\", \"danielle\", \"outbacks\", \"horton\", \"nadine\", \"siam\", \"solving\", \"puzzle\", \"dances\", \"yard\", \"brooker\", \"best\", \"feel\", \"membership\", \"beautiful\", \"haven\", \"lunch\", \"clerk\", \"better\", \"clean\", \"come\", \"excellent\", \"terrible\", \"large\", \"service\", \"quick\", \"place\", \"coming\", \"night\", \"restaurants\", \"right\", \"sure\", \"husband\", \"like\", \"food\", \"amazing\", \"got\", \"awesome\", \"cheese\", \"highly\", \"vegas\", \"staff\", \"want\", \"said\", \"friendly\", \"room\", \"time\", \"ve\", \"nice\", \"restaurant\", \"good\", \"great\", \"bar\", \"new\", \"try\", \"know\", \"little\", \"order\", \"went\", \"love\", \"ordered\", \"people\", \"bb\", \"roomtastic\", \"ev\", \"verdi\", \"dank\", \"reese\", \"dieing\", \"magnolia\", \"waxes\", \"brookline\", \"paperjoy\", \"orellana\", \"lgbtq\", \"invitations\", \"spineless\", \"daaayyuuummm\", \"gustav\", \"shoooz\", \"fingernail\", \"founder\", \"bai\", \"lydia\", \"picante\", \"shawn\", \"unbeatable\", \"julius\", \"gr\", \"matthews\", \"gardein\", \"marci\", \"axle\", \"bim\", \"chris\", \"little\", \"right\", \"location\", \"mac\", \"food\", \"high\", \"job\", \"know\", \"outstanding\", \"stale\", \"lol\", \"took\", \"going\", \"friendly\", \"portion\", \"sure\", \"quality\", \"want\", \"great\", \"love\", \"restaurant\", \"wonderful\", \"salad\", \"said\", \"try\", \"good\", \"recommend\", \"table\", \"think\", \"service\", \"sauce\", \"like\", \"people\", \"place\", \"ve\", \"wait\", \"time\", \"experience\", \"way\", \"definitely\", \"ordered\", \"staff\", \"went\", \"amazing\", \"chicken\", \"order\", \"nice\", \"got\", \"everrrrr\", \"diwali\", \"aims\", \"jeannette\", \"conchas\", \"inspiring\", \"beause\", \"roles\", \"merest\", \"yoself\", \"squishies\", \"kitsch\", \"martial\", \"nca\", \"calabash\", \"huckleberry\", \"intelligently\", \"unreachable\", \"mexicanos\", \"accidents\", \"harlow\", \"beckwith\", \"caterpillars\", \"mtb\", \"albacora\", \"vein\", \"blink\", \"poms\", \"noncommunitive\", \"alwys\", \"buttered\", \"great\", \"went\", \"screen\", \"place\", \"vinyl\", \"breakfast\", \"pricy\", \"famous\", \"ve\", \"shrimp\", \"fresh\", \"good\", \"eat\", \"rice\", \"team\", \"manager\", \"year\", \"girl\", \"busy\", \"thank\", \"maybe\", \"time\", \"staff\", \"worth\", \"sure\", \"service\", \"long\", \"pizza\", \"minutes\", \"chicken\", \"tried\", \"going\", \"kind\", \"awesome\", \"check\", \"wasn\", \"try\", \"come\", \"food\", \"delicious\", \"came\", \"friendly\", \"like\", \"experience\", \"people\", \"definitely\", \"nice\", \"got\", \"love\", \"order\", \"better\", \"restaurant\", \"said\", \"best\", \"little\", \"stagette\", \"gustav\", \"orellana\", \"delivary\", \"sunglass\", \"possess\", \"bikers\", \"spineless\", \"nb\", \"riaz\", \"dots\", \"nationwide\", \"hoodlums\", \"thoroughness\", \"gems\", \"carpaccio\", \"eyeglass\", \"recomend\", \"zinho\", \"katrina\", \"dippin\", \"stinkin\", \"intentions\", \"zo\", \"cheesed\", \"curveball\", \"jumpy\", \"estimating\", \"arse\", \"hoods\", \"cuon\", \"accueil\", \"dependable\", \"dull\", \"like\", \"offer\", \"good\", \"people\", \"small\", \"ask\", \"drinks\", \"cream\", \"sales\", \"eye\", \"definitely\", \"tasted\", \"mind\", \"change\", \"amazing\", \"better\", \"far\", \"place\", \"bowl\", \"time\", \"big\", \"town\", \"getting\", \"restaurant\", \"came\", \"sauce\", \"know\", \"best\", \"walked\", \"want\", \"point\", \"times\", \"great\", \"service\", \"delicious\", \"super\", \"food\", \"staff\", \"try\", \"little\", \"think\", \"home\", \"nice\", \"fresh\", \"order\", \"got\", \"ve\", \"ordered\", \"went\", \"menu\", \"said\", \"love\", \"\\u3068\\u3066\\u3082\\u6c17\\u306b\\u5165\\u308a\\u307e\\u3057\\u305f\", \"\\u63a2\\u3057\\u305f\\u304a\\u5e97\\u3067\\u3057\\u305f\", \"delivary\", \"flush\", \"shimp\", \"sensei\", \"aaron\", \"prima\", \"shittt\", \"jellyfish\", \"machaca\", \"environmental\", \"swarma\", \"dojo\", \"koko\", \"waistline\", \"beleive\", \"lexus\", \"unexplainable\", \"fluid\", \"builds\", \"jina\", \"cranny\", \"yuk\", \"disrespected\", \"pesky\", \"shami\", \"kristy\", \"mcqueen\", \"garbanzo\", \"dmv\", \"recomment\", \"lobby\", \"area\", \"fountain\", \"meal\", \"mike\", \"probably\", \"love\", \"away\", \"got\", \"couple\", \"time\", \"times\", \"great\", \"asked\", \"bread\", \"place\", \"price\", \"chicken\", \"come\", \"ll\", \"bad\", \"salad\", \"try\", \"store\", \"end\", \"bit\", \"day\", \"best\", \"wrong\", \"line\", \"check\", \"like\", \"food\", \"good\", \"little\", \"experience\", \"nice\", \"ordered\", \"ve\", \"way\", \"know\", \"service\", \"amazing\", \"came\", \"order\", \"delicious\", \"staff\", \"went\", \"friendly\", \"menu\", \"momma\", \"convent\", \"posoleshawwty\", \"unimpressive\", \"hog\", \"sills\", \"minh\", \"cary\", \"gasping\", \"wilkes\", \"pnw\", \"s\\u00e9lection\", \"cigarets\", \"perfume\", \"encourages\", \"golfweek\", \"whoopers\", \"barley\", \"adobo\", \"musubi\", \"penetrated\", \"frosting\", \"reccomend\", \"pieology\", \"gita\", \"rancheras\", \"resources\", \"karl\", \"jazmyn\", \"dane\", \"hiram\", \"alfajores\", \"cupcakes\", \"brows\", \"moco\", \"balloons\", \"training\", \"think\", \"brownie\", \"carbs\", \"italian\", \"worth\", \"let\", \"day\", \"small\", \"questions\", \"happen\", \"came\", \"help\", \"downtown\", \"got\", \"recommend\", \"loved\", \"staff\", \"car\", \"expensive\", \"needed\", \"delicious\", \"definitely\", \"wonderful\", \"easy\", \"time\", \"inside\", \"like\", \"special\", \"nice\", \"night\", \"place\", \"ordered\", \"asked\", \"menu\", \"people\", \"food\", \"vegas\", \"quality\", \"told\", \"great\", \"fresh\", \"wait\", \"good\", \"service\", \"ve\", \"love\", \"know\", \"went\", \"come\", \"chicken\", \"best\", \"try\", \"said\", \"order\", \"friendly\"], \"Total\": [4460.0, 4133.0, 4561.0, 4755.0, 1751.0, 3330.0, 1988.0, 3304.0, 1395.0, 1441.0, 3504.0, 1688.0, 1373.0, 1055.0, 843.0, 995.0, 1589.0, 1116.0, 740.0, 831.0, 1449.0, 771.0, 841.0, 1337.0, 1403.0, 1122.0, 1382.0, 643.0, 598.0, 645.0, 3.0938429832458496, 3.0934417247772217, 3.093334436416626, 1.6174511909484863, 5.888973236083984, 7.210491180419922, 1.6158579587936401, 3.096282482147217, 3.095669746398926, 3.0905656814575195, 3.757089138031006, 4.412656307220459, 10.508624076843262, 2.2756950855255127, 3.088700532913208, 3.758578062057495, 4.416184902191162, 4.417796611785889, 3.091610908508301, 3.0924506187438965, 3.754042863845825, 3.092053174972534, 3.0977792739868164, 3.093517541885376, 2.935187816619873, 2.276045083999634, 1.6156086921691895, 5.890781402587891, 3.757025957107544, 3.0931265354156494, 7.0519304275512695, 12.13957405090332, 20.718957901000977, 324.014892578125, 598.1295776367188, 4133.22900390625, 224.61697387695312, 1118.83203125, 930.5281982421875, 1988.62646484375, 774.50732421875, 3330.1650390625, 907.7920532226562, 774.9209594726562, 628.6853637695312, 519.7481689453125, 1589.4168701171875, 3504.0439453125, 1449.646240234375, 299.1569519042969, 301.4875793457031, 1345.152587890625, 799.5706176757812, 4460.51611328125, 4755.6396484375, 874.0217895507812, 1250.8050537109375, 763.0525512695312, 1195.1429443359375, 1507.060302734375, 1403.49169921875, 729.087158203125, 1395.6761474609375, 1401.6905517578125, 1313.912353515625, 1332.0635986328125, 1487.8369140625, 4561.66259765625, 3304.43798828125, 982.6876831054688, 1055.949951171875, 1858.3978271484375, 1751.277587890625, 1382.8177490234375, 1433.2197265625, 1162.032470703125, 1122.63037109375, 1688.8233642578125, 3.0834310054779053, 3.0856547355651855, 4.403554439544678, 3.751081943511963, 3.743966579437256, 1.612635612487793, 5.886765003204346, 1.6134570837020874, 3.0902600288391113, 3.088470935821533, 3.087815761566162, 4.40641450881958, 3.7486119270324707, 2.273111581802368, 4.40498161315918, 3.754770040512085, 3.087937355041504, 3.0892281532287598, 3.089296340942383, 5.219027042388916, 3.0873682498931885, 5.2212347984313965, 5.224395751953125, 4.407094955444336, 5.223569393157959, 3.0880348682403564, 2.2738051414489746, 5.22098970413208, 4.404963493347168, 5.225047588348389, 9.179154396057129, 9.840095520019531, 321.9457702636719, 484.67681884765625, 562.8897094726562, 109.75492095947266, 657.7918701171875, 4755.6396484375, 739.9139404296875, 1487.8369140625, 1449.646240234375, 80.96760559082031, 656.7418212890625, 345.69451904296875, 133.898681640625, 3304.43798828125, 831.5020751953125, 472.6385498046875, 502.5782165527344, 524.5806884765625, 1858.3978271484375, 879.187744140625, 540.185546875, 1193.3524169921875, 669.1989135742188, 1071.561279296875, 447.6181945800781, 763.0525512695312, 3504.0439453125, 1751.277587890625, 930.5281982421875, 1589.4168701171875, 1441.1424560546875, 1395.6761474609375, 1122.63037109375, 1337.0732421875, 3330.1650390625, 4561.66259765625, 4133.22900390625, 1433.2197265625, 982.6876831054688, 1688.8233642578125, 1507.060302734375, 1055.949951171875, 1373.3277587890625, 1382.8177490234375, 1345.152587890625, 4460.51611328125, 1988.62646484375, 1401.6905517578125, 1107.3704833984375, 1332.0635986328125, 3.0850868225097656, 3.0863447189331055, 1.612721562385559, 7.19775915145874, 4.404609203338623, 1.6123136281967163, 5.22098970413208, 1.612619161605835, 3.7477495670318604, 3.0841004848480225, 5.878485679626465, 3.750091791152954, 3.0887815952301025, 5.8809709548950195, 3.0865838527679443, 17.70366668701172, 3.089164972305298, 1.6130667924880981, 2.2724592685699463, 1.6143982410430908, 2.2737233638763428, 3.7481212615966797, 1.614199161529541, 3.0872151851654053, 3.0892934799194336, 1.6147241592407227, 3.7486696243286133, 1.6142834424972534, 3.086634397506714, 2.9322736263275146, 11.306171417236328, 7.0494160652160645, 12.477470397949219, 1688.8233642578125, 639.130859375, 136.7784423828125, 364.0733337402344, 197.59243774414062, 995.6904296875, 95.34922790527344, 3504.0439453125, 1449.646240234375, 841.3552856445312, 923.2280883789062, 757.449462890625, 353.778076171875, 564.3236083984375, 4561.66259765625, 982.6876831054688, 1250.8050537109375, 4460.51611328125, 575.49072265625, 1021.9011840820312, 4755.6396484375, 1373.3277587890625, 469.6214904785156, 1193.3524169921875, 601.6373291015625, 326.4200134277344, 645.9672241210938, 1988.62646484375, 697.3304443359375, 1858.3978271484375, 3330.1650390625, 1166.55029296875, 1332.0635986328125, 3304.43798828125, 1345.152587890625, 4133.22900390625, 1487.8369140625, 1433.2197265625, 1441.1424560546875, 1337.0732421875, 1395.6761474609375, 1589.4168701171875, 1751.277587890625, 1403.49169921875, 1313.912353515625, 3.0922861099243164, 3.0924344062805176, 3.0911407470703125, 3.0931265354156494, 3.092470169067383, 5.883307456970215, 4.409892559051514, 3.748828172683716, 1.614245891571045, 3.0924606323242188, 5.2242231369018555, 6.543216705322266, 5.885812282562256, 3.0875773429870605, 1.6144685745239258, 1.615140438079834, 2.2742793560028076, 7.862396240234375, 2.2747135162353516, 8.36973762512207, 2.275801658630371, 1.614806056022644, 3.091245412826538, 7.862410545349121, 2.274275064468384, 2.275207042694092, 9.339118957519531, 5.729583263397217, 3.7479817867279053, 54.46828079223633, 253.42941284179688, 4460.51611328125, 12.797850608825684, 406.116943359375, 167.724853515625, 262.42144775390625, 218.6537322998047, 1441.1424560546875, 392.5980529785156, 1116.7177734375, 1337.0732421875, 1395.6761474609375, 831.5020751953125, 3304.43798828125, 416.8282165527344, 3504.0439453125, 488.56634521484375, 639.130859375, 624.0996704101562, 740.1648559570312, 643.7536010742188, 1162.032470703125, 384.1600341796875, 1751.277587890625, 263.54974365234375, 1403.49169921875, 387.0058288574219, 684.4642944335938, 4755.6396484375, 1122.63037109375, 1688.8233642578125, 1373.3277587890625, 1487.8369140625, 1382.8177490234375, 4561.66259765625, 4133.22900390625, 1313.912353515625, 3330.1650390625, 1193.3524169921875, 1021.9011840820312, 1858.3978271484375, 1250.8050537109375, 1345.152587890625, 1988.62646484375, 1332.0635986328125, 1433.2197265625, 1507.060302734375, 1589.4168701171875, 1401.6905517578125, 3.0885331630706787, 3.0856683254241943, 2.271712064743042, 1.613850474357605, 2.271918535232544, 5.068305969238281, 30.61939239501953, 1.614134430885315, 1.6141518354415894, 6.227456569671631, 6.387801647186279, 3.0869455337524414, 3.0871422290802, 1.6129502058029175, 1.6141945123672485, 6.38726282119751, 5.223596572875977, 3.085726022720337, 5.227108001708984, 2.932858467102051, 1.612764596939087, 3.088247299194336, 1.6130386590957642, 3.5901074409484863, 1.612619161605835, 7.858182907104492, 3.0889554023742676, 7.0449934005737305, 5.068268775939941, 3.747730255126953, 9.17531967163086, 28.60894775390625, 5.2206926345825195, 1751.277587890625, 643.5550537109375, 43.278656005859375, 274.37109375, 184.34559631347656, 740.1648559570312, 35.638519287109375, 1116.7177734375, 698.8192749023438, 1403.49169921875, 643.7536010742188, 203.6427001953125, 460.208740234375, 3504.0439453125, 421.54669189453125, 4561.66259765625, 574.1979370117188, 940.5527954101562, 334.48248291015625, 1055.949951171875, 921.0750122070312, 409.6658935546875, 3330.1650390625, 4755.6396484375, 1313.912353515625, 1988.62646484375, 657.7918701171875, 796.4603881835938, 529.6260375976562, 879.459228515625, 1507.060302734375, 995.6904296875, 1162.032470703125, 1337.0732421875, 923.2280883789062, 3304.43798828125, 1858.3978271484375, 1688.8233642578125, 1332.0635986328125, 4460.51611328125, 4133.22900390625, 982.6876831054688, 1118.83203125, 1401.6905517578125, 1175.2294921875, 1373.3277587890625, 1449.646240234375, 1433.2197265625, 1589.4168701171875, 1487.8369140625, 1382.8177490234375, 3.08396053314209, 3.0841004848480225, 3.7457242012023926, 1.612934947013855, 8.675435066223145, 1.6124491691589355, 1.6144073009490967, 5.221090316772461, 4.406656265258789, 3.0873684883117676, 5.219749927520752, 3.086935043334961, 1.6128807067871094, 3.7461190223693848, 3.087068557739258, 3.0875773429870605, 3.087023973464966, 1.6131198406219482, 4.405214786529541, 5.224875450134277, 1.6137977838516235, 3.7450311183929443, 3.089716672897339, 7.199861526489258, 4.253065586090088, 1.6135993003845215, 2.2726850509643555, 2.2747013568878174, 2.933824062347412, 1.6140632629394531, 3.7477164268493652, 5.226302146911621, 33.354705810546875, 1373.3277587890625, 1055.949951171875, 841.3552856445312, 141.56903076171875, 4755.6396484375, 398.518310546875, 475.01837158203125, 1175.2294921875, 123.59329223632812, 48.141746520996094, 123.04582977294922, 883.4999389648438, 1107.3704833984375, 1337.0732421875, 218.74684143066406, 921.0750122070312, 645.9672241210938, 995.6904296875, 4133.22900390625, 1589.4168701171875, 1332.0635986328125, 379.9938659667969, 639.3410034179688, 1162.032470703125, 1401.6905517578125, 4460.51611328125, 1122.63037109375, 778.9678344726562, 843.7989501953125, 3504.0439453125, 790.1074829101562, 3330.1650390625, 1382.8177490234375, 4561.66259765625, 1858.3978271484375, 941.4910888671875, 3304.43798828125, 1250.8050537109375, 1071.561279296875, 1395.6761474609375, 1487.8369140625, 1507.060302734375, 1433.2197265625, 1313.912353515625, 1345.152587890625, 1449.646240234375, 1688.8233642578125, 1988.62646484375, 1.615638017654419, 1.6153604984283447, 3.0911405086517334, 1.6141544580459595, 3.0924606323242188, 4.412250995635986, 3.0924506187438965, 4.409026622772217, 3.0908021926879883, 1.6152303218841553, 5.230759620666504, 7.203977108001709, 6.549735069274902, 1.6155123710632324, 3.0895955562591553, 3.754042863845825, 3.0884408950805664, 2.2745418548583984, 1.6151305437088013, 3.7514641284942627, 3.7514595985412598, 1.6146858930587769, 1.6151278018951416, 1.6150054931640625, 1.6154035329818726, 1.6159477233886719, 5.071937084197998, 3.095669746398926, 3.089700222015381, 2.274813652038574, 6.235466480255127, 4133.22900390625, 1433.2197265625, 78.42974853515625, 4561.66259765625, 13.959114074707031, 452.86572265625, 25.492351531982422, 46.87886428833008, 1858.3978271484375, 341.3326416015625, 905.697021484375, 4460.51611328125, 831.5020751953125, 528.6622314453125, 130.67242431640625, 437.42828369140625, 359.2616271972656, 197.3519287109375, 493.235595703125, 357.4285888671875, 387.0058288574219, 3304.43798828125, 1507.060302734375, 622.790771484375, 921.0750122070312, 3504.0439453125, 724.8145751953125, 763.0525512695312, 879.187744140625, 1345.152587890625, 684.4642944335938, 1107.3704833984375, 458.47869873046875, 657.7918701171875, 601.6373291015625, 757.449462890625, 1401.6905517578125, 1403.49169921875, 4755.6396484375, 1195.1429443359375, 1441.1424560546875, 1337.0732421875, 3330.1650390625, 1250.8050537109375, 1382.8177490234375, 1395.6761474609375, 1688.8233642578125, 1988.62646484375, 1589.4168701171875, 1449.646240234375, 1116.7177734375, 1332.0635986328125, 1162.032470703125, 1751.277587890625, 1373.3277587890625, 1.6136406660079956, 3.087023973464966, 3.086935043334961, 3.095461130142212, 3.085733652114868, 3.0877411365509033, 3.0897719860076904, 3.087068557739258, 2.2756595611572266, 3.089076042175293, 3.7503409385681152, 3.745598793029785, 3.0896239280700684, 7.356125831604004, 7.200506687164307, 9.685943603515625, 3.74482798576355, 5.730185031890869, 4.251137733459473, 5.222557067871094, 3.091245412826538, 1.613870620727539, 4.405636310577393, 1.613815426826477, 1.6145522594451904, 3.0886735916137695, 2.9337716102600098, 3.0882580280303955, 2.274585723876953, 1.6136066913604736, 5.224666118621826, 4.406915187835693, 7.86211633682251, 7.857792854309082, 3330.1650390625, 282.3255920410156, 4460.51611328125, 1382.8177490234375, 771.070068359375, 488.56634521484375, 715.7850952148438, 536.8299560546875, 96.69629669189453, 116.50282287597656, 1395.6761474609375, 384.6300964355469, 247.5931396484375, 224.43441772460938, 1313.912353515625, 1116.7177734375, 441.79888916015625, 4561.66259765625, 226.03152465820312, 3304.43798828125, 629.49462890625, 420.1765441894531, 475.7565612792969, 1332.0635986328125, 1441.1424560546875, 790.1074829101562, 1175.2294921875, 1751.277587890625, 351.3294982910156, 995.6904296875, 320.07464599609375, 827.1752319335938, 4133.22900390625, 3504.0439453125, 1195.1429443359375, 656.0548706054688, 4755.6396484375, 1507.060302734375, 1401.6905517578125, 1373.3277587890625, 843.7989501953125, 774.9209594726562, 1688.8233642578125, 905.697021484375, 1449.646240234375, 1988.62646484375, 1858.3978271484375, 1487.8369140625, 1433.2197265625, 1193.3524169921875, 1162.032470703125, 1589.4168701171875, 1.6190886497497559, 1.6185466051101685, 3.095461130142212, 6.556542873382568, 3.0977792739868164, 3.0954360961914062, 4.414186954498291, 3.754770040512085, 3.093797445297241, 3.599231243133545, 7.717069625854492, 3.758578062057495, 1.6170909404754639, 3.0948524475097656, 2.9379518032073975, 2.277310609817505, 3.093878746032715, 3.7534537315368652, 1.616205096244812, 13.97498893737793, 4.414648532867432, 3.092890501022339, 3.757025957107544, 30.61939239501953, 1.6154005527496338, 4.417796611785889, 1.6157559156417847, 1.6157313585281372, 3.751081943511963, 1.616159439086914, 4.414037227630615, 3.751908540725708, 82.94078826904297, 729.087158203125, 37.0427131652832, 709.7950439453125, 35.74340057373047, 441.1446228027344, 1589.4168701171875, 611.7310180664062, 1988.62646484375, 401.8392028808594, 3304.43798828125, 827.1752319335938, 4133.22900390625, 808.7169189453125, 424.775390625, 4561.66259765625, 874.0217895507812, 1345.152587890625, 1403.49169921875, 739.9139404296875, 801.4920654296875, 639.3410034179688, 1401.6905517578125, 675.363037109375, 416.6319885253906, 804.510498046875, 1166.55029296875, 1751.277587890625, 322.09100341796875, 502.5782165527344, 601.6373291015625, 3330.1650390625, 4755.6396484375, 4460.51611328125, 1373.3277587890625, 1250.8050537109375, 1688.8233642578125, 1487.8369140625, 1858.3978271484375, 1071.561279296875, 1175.2294921875, 3504.0439453125, 1313.912353515625, 1441.1424560546875, 1449.646240234375, 1195.1429443359375, 1507.060302734375, 1433.2197265625, 1337.0732421875, 1193.3524169921875, 3.0826802253723145, 1.612565517425537, 3.08309268951416, 3.7450575828552246, 3.086583137512207, 1.6146252155303955, 1.6130115985870361, 3.0905656814575195, 3.088777780532837, 7.354820728302002, 1.61334228515625, 3.591704845428467, 1.6144249439239502, 5.88039493560791, 5.216951370239258, 3.0906853675842285, 1.6141339540481567, 3.0844826698303223, 5.880949974060059, 4.405783176422119, 1.6146092414855957, 20.544069290161133, 7.702629089355469, 1.6142114400863647, 1.6134374141693115, 1.6131983995437622, 4.406672954559326, 1.614245891571045, 2.272284984588623, 5.8802900314331055, 7.352155685424805, 5.221162796020508, 27.489234924316406, 21.207637786865234, 4.405708312988281, 26.412517547607422, 63.1116943359375, 843.7989501953125, 20.043935775756836, 13.945693016052246, 179.08152770996094, 622.790771484375, 503.3551940917969, 1166.55029296875, 771.070068359375, 185.68496704101562, 92.78746032714844, 1441.1424560546875, 345.6007995605469, 158.2248077392578, 1988.62646484375, 1122.63037109375, 473.83990478515625, 1507.060302734375, 596.1505126953125, 219.30279541015625, 440.29937744140625, 1195.1429443359375, 1395.6761474609375, 379.9938659667969, 257.1690368652344, 3304.43798828125, 432.66802978515625, 3330.1650390625, 455.0550231933594, 1688.8233642578125, 940.5527954101562, 4561.66259765625, 1487.8369140625, 808.7169189453125, 1193.3524169921875, 1382.8177490234375, 4755.6396484375, 879.459228515625, 645.9672241210938, 930.5281982421875, 4133.22900390625, 905.697021484375, 941.4910888671875, 4460.51611328125, 3504.0439453125, 1858.3978271484375, 1589.4168701171875, 1175.2294921875, 1433.2197265625, 1403.49169921875, 1345.152587890625, 1751.277587890625, 1401.6905517578125, 1162.032470703125, 1449.646240234375, 1337.0732421875], \"loglift\": [30.0, 29.0, 28.0, 27.0, 26.0, 25.0, 24.0, 23.0, 22.0, 21.0, 20.0, 19.0, 18.0, 17.0, 16.0, 15.0, 14.0, 13.0, 12.0, 11.0, 10.0, 9.0, 8.0, 7.0, 6.0, 5.0, 4.0, 3.0, 2.0, 1.0, 1.460800051689148, 1.4221999645233154, 1.4213000535964966, 1.3873000144958496, 1.1200000047683716, 1.0889999866485596, 1.0785000324249268, 1.0526000261306763, 1.024999976158142, 0.9635999798774719, 0.9545000195503235, 0.9502000212669373, 0.9448999762535095, 0.8641999959945679, 0.8629000186920166, 0.8628000020980835, 0.8486999869346619, 0.8442999720573425, 0.8400999903678894, 0.8208000063896179, 0.8116999864578247, 0.8101000189781189, 0.8008999824523926, 0.8001999855041504, 0.7940000295639038, 0.7914000153541565, 0.7509999871253967, 0.7355999946594238, 0.727400004863739, 0.7071999907493591, 0.7067999839782715, 0.6880000233650208, 0.661899983882904, 0.5245000123977661, 0.4855000078678131, 0.32109999656677246, 0.5130000114440918, 0.3702999949455261, 0.36399999260902405, 0.2581999897956848, 0.334199994802475, 0.20069999992847443, 0.30869999527931213, 0.3127000033855438, 0.3301999866962433, 0.3490000069141388, 0.21780000627040863, 0.1088000014424324, 0.19589999318122864, 0.37860000133514404, 0.37770000100135803, 0.18129999935626984, 0.2483000010251999, 0.00419999985024333, -0.018799999728798866, 0.2232999950647354, 0.16189999878406525, 0.23810000717639923, 0.16290000081062317, 0.11010000109672546, 0.10270000249147415, 0.2190999984741211, 0.08619999885559082, 0.07689999788999557, 0.0908999964594841, 0.0697999969124794, 0.0333000011742115, -0.32659998536109924, -0.25929999351501465, 0.1348000019788742, 0.09719999879598618, -0.2160000056028366, -0.19339999556541443, -0.05900000035762787, -0.11309999972581863, 0.013799999840557575, 0.021400000900030136, -0.3626999855041504, 1.260599970817566, 1.2410999536514282, 1.1957000494003296, 1.0608999729156494, 1.017300009727478, 0.9532999992370605, 0.9483000040054321, 0.9265000224113464, 0.9144999980926514, 0.906000018119812, 0.9003000259399414, 0.8725000023841858, 0.7965999841690063, 0.7954000234603882, 0.7843000292778015, 0.745199978351593, 0.7294999957084656, 0.7286999821662903, 0.7195000052452087, 0.7179999947547913, 0.7131999731063843, 0.6879000067710876, 0.6840999722480774, 0.6769000291824341, 0.6743999719619751, 0.6682999730110168, 0.6578999757766724, 0.6430000066757202, 0.6380000114440918, 0.6323000192642212, 0.6276999711990356, 0.6182000041007996, 0.4828000068664551, 0.4510999917984009, 0.4431000053882599, 0.520799994468689, 0.41819998621940613, 0.3142000138759613, 0.40610000491142273, 0.319599986076355, 0.30640000104904175, 0.5077999830245972, 0.3418000042438507, 0.38960000872612, 0.45649999380111694, 0.19550000131130219, 0.29820001125335693, 0.3391000032424927, 0.33160001039505005, 0.325300008058548, 0.19660000503063202, 0.2644999921321869, 0.31709998846054077, 0.21950000524520874, 0.2793000042438507, 0.21629999577999115, 0.3167000114917755, 0.23899999260902405, 0.02969999983906746, 0.12330000102519989, 0.2085999995470047, 0.12780000269412994, 0.11779999732971191, 0.11580000072717667, 0.15199999511241913, 0.11550000309944153, -0.06279999762773514, -0.14650000631809235, -0.13609999418258667, 0.07890000194311142, 0.17299999296665192, -0.008899999782443047, 0.012900000438094139, 0.1216999962925911, 0.018799999728798866, 0.013500000350177288, 0.019600000232458115, -0.5827999711036682, -0.23160000145435333, -0.03229999914765358, 0.06599999964237213, -0.13439999520778656, 1.520300030708313, 1.3380000591278076, 1.2645000219345093, 1.2335000038146973, 1.1683000326156616, 1.0836000442504883, 0.9807000160217285, 0.9448999762535095, 0.9243000149726868, 0.9142000079154968, 0.9125000238418579, 0.8992999792098999, 0.8532000184059143, 0.8162000179290771, 0.8116000294685364, 0.7924000024795532, 0.7860999703407288, 0.7853999733924866, 0.7723000049591064, 0.7580000162124634, 0.7567999958992004, 0.7480000257492065, 0.7451000213623047, 0.7307000160217285, 0.7290999889373779, 0.7021999955177307, 0.6937000155448914, 0.6891000270843506, 0.6840999722480774, 0.6797000169754028, 0.669700026512146, 0.6668999791145325, 0.6552000045776367, 0.44859999418258667, 0.4805999994277954, 0.5342000126838684, 0.4643999934196472, 0.49070000648498535, 0.3628999888896942, 0.51910001039505, 0.226500004529953, 0.28630000352859497, 0.3190999925136566, 0.30809998512268066, 0.3199999928474426, 0.3824000060558319, 0.33379998803138733, 0.1388999968767166, 0.2777000069618225, 0.2425999939441681, 0.09790000319480896, 0.30979999899864197, 0.23520000278949738, 0.04410000145435333, 0.18780000507831573, 0.32199999690055847, 0.19110000133514404, 0.2842999994754791, 0.36899998784065247, 0.2653000056743622, 0.07999999821186066, 0.23929999768733978, 0.025499999523162842, -0.12880000472068787, 0.10090000182390213, 0.07169999927282333, -0.15209999680519104, 0.02419999986886978, -0.2919999957084656, -0.0203000009059906, -0.02280000038444996, -0.027499999850988388, -0.0044999998062849045, -0.03819999843835831, -0.10279999673366547, -0.14650000631809235, -0.1273999959230423, -0.1080000028014183, 0.9502999782562256, 0.9377999901771545, 0.8949000239372253, 0.8755999803543091, 0.8442000150680542, 0.8288999795913696, 0.8156999945640564, 0.7993999719619751, 0.7728999853134155, 0.7692999839782715, 0.7663000226020813, 0.760200023651123, 0.743399977684021, 0.7376000285148621, 0.7171000242233276, 0.7145000100135803, 0.7085999846458435, 0.7049000263214111, 0.7038999795913696, 0.70169997215271, 0.7001000046730042, 0.6866000294685364, 0.6840000152587891, 0.6740999817848206, 0.6693000197410583, 0.6686999797821045, 0.666100025177002, 0.6622999906539917, 0.6542999744415283, 0.6521999835968018, 0.532800018787384, 0.39570000767707825, 0.6172999739646912, 0.4571000039577484, 0.4521999955177307, 0.4242999851703644, 0.4325000047683716, 0.2953999936580658, 0.367000013589859, 0.29010000824928284, 0.2524999976158142, 0.24639999866485596, 0.28279998898506165, 0.14169999957084656, 0.31700000166893005, 0.1128000020980835, 0.29809999465942383, 0.2680000066757202, 0.26840001344680786, 0.24639999866485596, 0.26010000705718994, 0.18850000202655792, 0.30720001459121704, 0.12439999729394913, 0.3481999933719635, 0.1460999995470047, 0.29829999804496765, 0.21809999644756317, -0.04879999905824661, 0.15230000019073486, 0.07779999822378159, 0.10530000180006027, 0.08510000258684158, 0.09480000287294388, -0.11420000344514847, -0.10450000315904617, 0.094200000166893, -0.1509000062942505, 0.08410000056028366, 0.11990000307559967, -0.03189999982714653, 0.06480000168085098, 0.033399999141693115, -0.1062999963760376, 0.01080000028014183, -0.03530000150203705, -0.13729999959468842, -0.1695999950170517, -0.10450000315904617, 1.0887000560760498, 1.0448999404907227, 1.0384000539779663, 1.0295000076293945, 1.0252000093460083, 1.00600004196167, 0.9902999997138977, 0.9714000225067139, 0.9692999720573425, 0.9341999888420105, 0.9294000267982483, 0.8787000179290771, 0.8779000043869019, 0.8313999772071838, 0.8224999904632568, 0.8003000020980835, 0.7706999778747559, 0.7595999836921692, 0.7559000253677368, 0.7530999779701233, 0.7455999851226807, 0.7430999875068665, 0.7371000051498413, 0.7314000129699707, 0.7296000123023987, 0.7218000292778015, 0.7178000211715698, 0.7167999744415283, 0.7164999842643738, 0.7150999903678894, 0.7129999995231628, 0.6589000225067139, 0.7049999833106995, 0.515500009059906, 0.53329998254776, 0.6381999850273132, 0.5533999800682068, 0.5424000024795532, 0.4325000047683716, 0.6003999710083008, 0.33489999175071716, 0.3643999993801117, 0.2930000126361847, 0.35120001435279846, 0.4318999946117401, 0.35850000381469727, 0.15440000593662262, 0.3596999943256378, 0.11919999867677689, 0.32030001282691956, 0.25760000944137573, 0.36570000648498535, 0.23749999701976776, 0.2500999867916107, 0.34150001406669617, 0.08020000159740448, 0.026599999517202377, 0.1784999966621399, 0.11840000003576279, 0.27309998869895935, 0.21580000221729279, 0.27379998564720154, 0.19249999523162842, 0.10350000113248825, 0.16769999265670776, 0.1193000003695488, 0.0892999991774559, 0.14800000190734863, -0.16779999434947968, -0.02710000053048134, -0.007600000128149986, 0.05350000038743019, -0.2865000069141388, -0.3330000042915344, 0.11890000104904175, 0.06270000338554382, -0.04270000010728836, 0.018200000748038292, -0.0851999968290329, -0.11819999665021896, -0.11180000007152557, -0.21629999577999115, -0.16509999334812164, -0.15539999306201935, 1.6545000076293945, 1.4020999670028687, 1.15339994430542, 1.0751999616622925, 1.0080000162124634, 0.9316999912261963, 0.9189000129699707, 0.9052000045776367, 0.9028000235557556, 0.890999972820282, 0.8216999769210815, 0.8123000264167786, 0.7944999933242798, 0.792900025844574, 0.7867000102996826, 0.7738000154495239, 0.7659000158309937, 0.7638000249862671, 0.7584999799728394, 0.7422999739646912, 0.7396000027656555, 0.7383999824523926, 0.7348999977111816, 0.7346000075340271, 0.734000027179718, 0.7299000024795532, 0.7276999950408936, 0.7268999814987183, 0.724399983882904, 0.718500018119812, 0.711899995803833, 0.7009000182151794, 0.6209999918937683, 0.4153999984264374, 0.42730000615119934, 0.39340001344680786, 0.49950000643730164, 0.2761000096797943, 0.43209999799728394, 0.3939000070095062, 0.32260000705718994, 0.4860999882221222, 0.551800012588501, 0.47360000014305115, 0.30889999866485596, 0.28679999709129333, 0.2680000066757202, 0.42669999599456787, 0.2930000126361847, 0.32429999113082886, 0.2782000005245209, 0.12950000166893005, 0.22339999675750732, 0.23100000619888306, 0.362199991941452, 0.28299999237060547, 0.20909999310970306, 0.15880000591278076, -0.0066999997943639755, 0.17509999871253967, 0.22349999845027924, 0.2085999995470047, -0.050200000405311584, 0.19990000128746033, -0.08500000089406967, 0.07429999858140945, -0.2101999968290329, -0.010599999688565731, 0.1339000016450882, -0.21250000596046448, 0.04740000143647194, 0.09809999912977219, 0.004999999888241291, -0.022099999710917473, -0.0357000008225441, -0.02810000069439411, 0.00930000003427267, -0.008799999952316284, -0.052299998700618744, -0.17579999566078186, -0.35830000042915344, 1.4831000566482544, 1.1957999467849731, 1.0856000185012817, 1.0648000240325928, 1.0448999404907227, 0.9865999817848206, 0.9769999980926514, 0.9624999761581421, 0.9354000091552734, 0.9049999713897705, 0.8639000058174133, 0.8550999760627747, 0.8312000036239624, 0.8287000060081482, 0.8138999938964844, 0.8098999857902527, 0.7986000180244446, 0.7942000031471252, 0.7784000039100647, 0.7754999995231628, 0.7670000195503235, 0.765500009059906, 0.7505999803543091, 0.7455000281333923, 0.7390999794006348, 0.7336000204086304, 0.7168999910354614, 0.7149999737739563, 0.7105000019073486, 0.7070000171661377, 0.6873999834060669, 0.38280001282691956, 0.421999990940094, 0.5620999932289124, 0.3529999852180481, 0.6417999863624573, 0.4512999951839447, 0.6107000112533569, 0.5674999952316284, 0.30570000410079956, 0.40299999713897705, 0.3149999976158142, 0.17190000414848328, 0.31839999556541443, 0.3240000009536743, 0.439300000667572, 0.3154999911785126, 0.3319000005722046, 0.3928999900817871, 0.29010000824928284, 0.32260000705718994, 0.31310001015663147, 0.053599998354911804, 0.1274999976158142, 0.2401999980211258, 0.17839999496936798, -0.00989999994635582, 0.2102999985218048, 0.19480000436306, 0.16940000653266907, 0.08460000157356262, 0.1867000013589859, 0.10909999907016754, 0.2442999929189682, 0.18240000307559967, 0.19689999520778656, 0.1543000042438507, 0.041099999099969864, 0.02250000089406967, -0.24660000205039978, 0.044199999421834946, -0.0027000000700354576, 0.012400000356137753, -0.22759999334812164, 0.01860000006854534, -0.0357000008225441, -0.04179999977350235, -0.13459999859333038, -0.24130000174045563, -0.1543000042438507, -0.12630000710487366, -0.007699999958276749, -0.1023000031709671, -0.03310000151395798, -0.36239999532699585, -0.20340000092983246, 1.0995999574661255, 1.0166000127792358, 0.9948999881744385, 0.9003000259399414, 0.8639000058174133, 0.8313999772071838, 0.8041999936103821, 0.8008999824523926, 0.782800018787384, 0.7827000021934509, 0.7789999842643738, 0.777400016784668, 0.7749999761581421, 0.7455999851226807, 0.7436000108718872, 0.7382000088691711, 0.7336999773979187, 0.7235000133514404, 0.71670001745224, 0.7071999907493591, 0.6980000138282776, 0.6945000290870667, 0.6926000118255615, 0.6837000250816345, 0.6823999881744385, 0.6757000088691711, 0.675599992275238, 0.6751000285148621, 0.6748999953269958, 0.664900004863739, 0.6620000004768372, 0.6622999906539917, 0.64410001039505, 0.6381000280380249, 0.36410000920295715, 0.4650000035762787, 0.32510000467300415, 0.36039999127388, 0.3653999865055084, 0.39259999990463257, 0.35359999537467957, 0.3702000081539154, 0.48669999837875366, 0.4611000120639801, 0.23800000548362732, 0.35199999809265137, 0.39089998602867126, 0.396699994802475, 0.23589999973773956, 0.24560000002384186, 0.3255000114440918, 0.0869000032544136, 0.38679999113082886, 0.11230000108480453, 0.27300000190734863, 0.3131999969482422, 0.2973000109195709, 0.17970000207424164, 0.17000000178813934, 0.22200000286102295, 0.16930000483989716, 0.1160999983549118, 0.3125, 0.16619999706745148, 0.32330000400543213, 0.17470000684261322, -0.0957999974489212, -0.06920000165700912, 0.0997999981045723, 0.20440000295639038, -0.16130000352859497, 0.04050000011920929, 0.03539999946951866, 0.033799998462200165, 0.14499999582767487, 0.16349999606609344, -0.07169999927282333, 0.11079999804496765, -0.054499998688697815, -0.18880000710487366, -0.16760000586509705, -0.08299999684095383, -0.10090000182390213, -0.03590000048279762, -0.043699998408555984, -0.29580000042915344, 1.4931999444961548, 1.4247000217437744, 1.2264000177383423, 1.214900016784668, 1.090399980545044, 1.0720000267028809, 1.06659996509552, 1.0462000370025635, 1.0162999629974365, 0.9966999888420105, 0.9847000241279602, 0.9639999866485596, 0.9477999806404114, 0.9455999732017517, 0.9180999994277954, 0.9060999751091003, 0.9060999751091003, 0.8866000175476074, 0.8830999732017517, 0.8776999711990356, 0.8640000224113464, 0.8407999873161316, 0.8255000114440918, 0.8212000131607056, 0.8205000162124634, 0.8137000203132629, 0.8030999898910522, 0.7919999957084656, 0.7860000133514404, 0.7851999998092651, 0.7838000059127808, 0.7768999934196472, 0.6014000177383423, 0.447299987077713, 0.6266000270843506, 0.3880999982357025, 0.6208000183105469, 0.39730000495910645, 0.26750001311302185, 0.3619999885559082, 0.23999999463558197, 0.37229999899864197, 0.13899999856948853, 0.27950000762939453, 0.08340000361204147, 0.27399998903274536, 0.3458000123500824, 0.05570000037550926, 0.2526000142097473, 0.18930000066757202, 0.1737000048160553, 0.2547000050544739, 0.23919999599456787, 0.2653000056743622, 0.12770000100135803, 0.23970000445842743, 0.3163999915122986, 0.19550000131130219, 0.1265999972820282, 0.02759999968111515, 0.3474000096321106, 0.26080000400543213, 0.22349999845027924, -0.1445000022649765, -0.2249000072479248, -0.2126999944448471, 0.03370000049471855, 0.05119999870657921, -0.025499999523162842, 0.00039999998989515007, -0.09099999815225601, 0.06780000030994415, 0.019300000742077827, -0.4438999891281128, -0.050200000405311584, -0.10610000044107437, -0.11209999769926071, -0.011500000022351742, -0.17010000348091125, -0.15549999475479126, -0.10999999940395355, -0.043800000101327896, 1.2941999435424805, 1.267300009727478, 1.1726000308990479, 1.0875999927520752, 0.92330002784729, 0.8675000071525574, 0.8435999751091003, 0.7839999794960022, 0.7757999897003174, 0.7671999931335449, 0.7644000053405762, 0.7603999972343445, 0.7476999759674072, 0.7249000072479248, 0.7211999893188477, 0.7074000239372253, 0.7056999802589417, 0.6916000247001648, 0.6826000213623047, 0.6708999872207642, 0.6682000160217285, 0.6521000266075134, 0.6521000266075134, 0.6452000141143799, 0.6449000239372253, 0.6444000005722046, 0.6431000232696533, 0.6358000040054321, 0.6333000063896179, 0.6317999958992004, 0.6292999982833862, 0.6273000240325928, 0.5954999923706055, 0.5992000102996826, 0.6252999901771545, 0.5873000025749207, 0.5583000183105469, 0.445499986410141, 0.5875999927520752, 0.5981000065803528, 0.4537999927997589, 0.3781999945640564, 0.3822999894618988, 0.3156000077724457, 0.3375999927520752, 0.43540000915527344, 0.47620001435279846, 0.2831999957561493, 0.3776000142097473, 0.4359000027179718, 0.22779999673366547, 0.25999999046325684, 0.3181000053882599, 0.19910000264644623, 0.28870001435279846, 0.3831000030040741, 0.31200000643730164, 0.19979999959468842, 0.1754000037908554, 0.30809998512268066, 0.3499999940395355, 0.04580000042915344, 0.275299996137619, -0.0044999998062849045, 0.26429998874664307, 0.05480000004172325, 0.14659999310970306, -0.13330000638961792, 0.053300000727176666, 0.15700000524520874, 0.08349999785423279, 0.0502999983727932, -0.19290000200271606, 0.12929999828338623, 0.1754000037908554, 0.09229999780654907, -0.27140000462532043, 0.09679999947547913, 0.07880000025033951, -0.35440000891685486, -0.31459999084472656, -0.12610000371932983, -0.09950000047683716, -0.0034000000450760126, -0.09160000085830688, -0.10530000180006027, -0.09529999643564224, -0.26600000262260437, -0.14229999482631683, -0.04190000146627426, -0.20990000665187836, -0.16660000383853912], \"logprob\": [30.0, 29.0, 28.0, 27.0, 26.0, 25.0, 24.0, 23.0, 22.0, 21.0, 20.0, 19.0, 18.0, 17.0, 16.0, 15.0, 14.0, 13.0, 12.0, 11.0, 10.0, 9.0, 8.0, 7.0, 6.0, 5.0, 4.0, 3.0, 2.0, 1.0, -10.492400169372559, -10.531100273132324, -10.531999588012695, -11.214400291442871, -10.189499855041504, -10.017999649047852, -11.524200439453125, -10.899800300598145, -10.927599906921387, -10.990699768066406, -10.804400444030762, -10.64799976348877, -9.785499572753906, -11.396100044250488, -11.091899871826172, -10.89579963684082, -10.748600006103516, -10.752599716186523, -11.113800048828125, -11.132800102233887, -10.947999954223633, -11.143699645996094, -11.151000022888184, -11.15310001373291, -11.211799621582031, -11.468700408935547, -11.851900100708008, -10.573599815368652, -11.031499862670898, -11.246199607849121, -10.422499656677246, -9.898099899291992, -9.389699935913086, -6.777299880981445, -6.2032999992370605, -4.434700012207031, -7.155300140380859, -5.692299842834473, -5.882900238037109, -5.2291998863220215, -6.096099853515625, -4.771100044250488, -5.962900161743164, -6.117099761962891, -6.308800220489502, -6.480299949645996, -5.493599891662598, -4.812099933624268, -5.607699871063232, -7.002999782562256, -6.996200084686279, -5.697000026702881, -6.150199890136719, -4.6753997802734375, -4.634300231933594, -6.08620023727417, -5.7891998291015625, -6.207200050354004, -5.833700180053711, -5.654600143432617, -5.7332000732421875, -6.271699905395508, -5.755300045013428, -5.760300159454346, -5.8109002113342285, -5.818299770355225, -5.74429988861084, -4.983699798583984, -5.238900184631348, -6.057499885559082, -6.023200035095215, -5.771200180053711, -5.8078999519348145, -5.9096999168396, -5.927999973297119, -6.010900020599365, -6.037799835205078, -6.013500213623047, -10.696000099182129, -10.714699745178223, -10.404500007629395, -10.699600219726562, -10.745100021362305, -11.65149974822998, -10.361599922180176, -11.677800178527832, -11.039899826049805, -11.04889965057373, -11.054900169372559, -10.72700023651123, -10.964599609375, -11.465999603271484, -10.815600395202637, -11.014399528503418, -11.225600242614746, -11.22599983215332, -11.235199928283691, -10.712300300598145, -11.24209976196289, -10.741900444030762, -10.745200157165527, -10.922499656677246, -10.755000114440918, -11.286800384521484, -11.603300094604492, -10.78689956665039, -10.961899757385254, -10.796799659729004, -10.23799991607666, -10.178000450134277, -6.825399875640869, -6.447999954223633, -6.306399822235107, -7.86359977722168, -6.17549991607666, -4.301300048828125, -6.070000171661377, -5.458000183105469, -5.497099876403809, -8.180800437927246, -6.253499984741211, -6.847400188446045, -7.729000091552734, -4.78410005569458, -6.061200141906738, -6.58519983291626, -6.531199932098389, -6.494699954986572, -5.358500003814697, -6.039100170135498, -6.473599910736084, -5.778600215911865, -6.297299861907959, -5.889400005340576, -6.6620001792907715, -6.206299781799316, -4.891200065612793, -5.491199970245361, -6.038300037384033, -5.583600044250488, -5.6915998458862305, -5.7256999015808105, -5.907199859619141, -5.768899917602539, -5.034599781036377, -4.803599834442139, -4.891900062561035, -5.736000061035156, -6.0192999839782715, -5.6596999168396, -5.751800060272217, -5.998700141906738, -5.838799953460693, -5.837200164794922, -5.858799934387207, -5.262400150299072, -5.718999862670898, -5.869500160217285, -6.006800174713135, -6.022500038146973, -10.435700416564941, -10.617600440979004, -11.340200424194336, -9.875399589538574, -10.431599617004395, -11.521400451660156, -10.449199676513672, -11.659899711608887, -10.837200164794922, -11.042099952697754, -10.398799896240234, -10.861499786376953, -11.10159969329834, -10.49470043182373, -11.144000053405762, -9.416399955749512, -11.168600082397461, -11.819000244140625, -11.489399909973145, -11.84570026397705, -11.504400253295898, -11.013299942016602, -11.858599662780762, -11.224599838256836, -11.225600242614746, -11.901200294494629, -11.067500114440918, -11.914600372314453, -11.271400451660156, -11.327199935913086, -9.987500190734863, -10.462800025939941, -9.903499603271484, -5.202199935913086, -6.141900062561035, -7.630000114440918, -6.720799922943115, -7.305699825286865, -5.816199779510498, -8.005900382995605, -4.694499969482422, -5.517199993133545, -6.028500080108643, -5.946599960327148, -6.132699966430664, -6.831500053405762, -6.4131999015808105, -4.5183000564575195, -5.914599895477295, -5.708499908447266, -4.581699848175049, -6.417600154876709, -5.918000221252441, -4.571400165557861, -5.6697998046875, -6.608699798583984, -5.807000160217285, -6.398600101470947, -6.9253997802734375, -6.34660005569458, -5.407400131225586, -6.29610013961792, -5.529699802398682, -5.100599765777588, -5.919899940490723, -5.816500186920166, -5.131700038909912, -5.8541998863220215, -5.047800064086914, -5.797900199890137, -5.837699890136719, -5.836900234222412, -5.888899803161621, -5.879700183868408, -5.814300060272217, -5.761000156402588, -5.9633002281188965, -6.009799957275391, -11.003399848937988, -11.015899658203125, -11.059200286865234, -11.077799797058105, -11.10949993133545, -10.481599807739258, -10.783100128173828, -10.961799621582031, -11.830900192260742, -11.184300422668457, -10.6628999710083, -10.444000244140625, -10.566699981689453, -11.217599868774414, -11.886500358581543, -11.88860034942627, -11.552300453186035, -10.315600395202637, -11.55679988861084, -10.25629997253418, -11.560199737548828, -11.916799545288086, -11.270000457763672, -10.346500396728516, -11.59160041809082, -11.591899871826172, -10.182299613952637, -10.674699783325195, -11.107099533081055, -8.432700157165527, -7.014699935913086, -4.283899784088135, -9.916000366210938, -6.618899822235107, -7.507999897003174, -7.0883002281188965, -7.262599945068359, -5.513999938964844, -6.7428998947143555, -5.774400234222412, -5.631800174713135, -5.595099925994873, -6.076600074768066, -4.837900161743164, -6.732999801635742, -4.80810022354126, -6.5929999351501465, -6.354499816894531, -6.377900123596191, -6.229300022125244, -6.355199813842773, -5.836100101470947, -6.824399948120117, -5.490099906921387, -7.160200119018555, -5.689799785614014, -6.825900077819824, -6.335899829864502, -4.664299964904785, -5.906899929046631, -5.572999954223633, -5.752399921417236, -5.692399978637695, -5.755899906158447, -4.771299839019775, -4.860199928283691, -5.807600021362305, -5.122700214385986, -5.914000034332275, -6.033299922943115, -5.586999893188477, -5.886199951171875, -5.84499979019165, -5.593699932098389, -5.877399921417236, -5.850299835205078, -5.9019999504089355, -5.881100177764893, -5.9415998458862305, -10.86620044708252, -10.910900115966797, -11.223699569702148, -11.574399948120117, -11.236700057983398, -10.45359992980957, -8.670700073242188, -11.632399559020996, -11.634499549865723, -10.319499969482422, -10.298800468444824, -11.076700210571289, -11.077400207519531, -11.773200035095215, -11.781200408935547, -10.428000450134277, -10.658699989318848, -11.196200370788574, -10.672800064086914, -11.253600120544434, -11.859000205993652, -11.211899757385254, -11.867400169372559, -11.073100090026855, -11.875200271606445, -10.299200057983398, -11.237000465393066, -10.41349983215332, -10.7431001663208, -11.04640007019043, -10.15310001373291, -9.069999694824219, -10.725000381469727, -5.098999977111816, -6.082300186157227, -8.6766996383667, -6.914700031280518, -7.323400020599365, -6.0432000160217285, -8.90880012512207, -5.729499816894531, -6.168799877166748, -5.542900085449219, -6.264100074768066, -7.3343000411987305, -6.592400074005127, -4.766499996185303, -6.678999900817871, -4.538000106811523, -6.409299850463867, -5.978499889373779, -6.904300212860107, -5.882900238037109, -6.006999969482422, -6.725800037384033, -4.891600131988525, -4.588900089263916, -5.723400115966797, -5.36899995803833, -6.3206000328063965, -6.186699867248535, -6.5366997718811035, -6.110799789428711, -5.661200046539307, -6.011499881744385, -5.905399799346924, -5.795100212097168, -6.1066999435424805, -5.14739990234375, -5.582200050354004, -5.658400058746338, -5.83459997177124, -4.966100215911865, -5.088799953460693, -6.073400020599365, -5.999899864196777, -5.879899978637695, -5.995200157165527, -5.942800045013428, -5.921800136566162, -5.926700115203857, -5.927800178527832, -5.942599773406982, -6.006199836730957, -10.301899909973145, -10.554200172424316, -10.608599662780762, -11.52929973602295, -9.91409969329834, -11.673199653625488, -11.684700012207031, -10.524700164794922, -10.696599960327148, -11.064299583435059, -10.608400344848633, -11.143099784851074, -11.810099601745605, -10.968999862670898, -11.168700218200684, -11.181400299072266, -11.189499855041504, -11.840700149536133, -10.841400146484375, -10.68690013885498, -11.864399909973145, -11.023799896240234, -11.219599723815918, -10.373900413513184, -10.901000022888184, -11.874199867248535, -11.533900260925293, -11.533900260925293, -11.281900405883789, -11.885299682617188, -11.049599647521973, -10.727999687194824, -8.954400062561035, -5.442200183868408, -5.6930999755859375, -5.95419979095459, -7.630300045013428, -4.339399814605713, -6.662700176239014, -6.525300025939941, -5.690800189971924, -7.7795000076293945, -8.656700134277344, -7.796500205993652, -5.989799976348877, -5.785999774932861, -5.616399765014648, -7.26800012588501, -5.964099884033203, -6.287600040435791, -5.900899887084961, -4.626299858093262, -5.488100051879883, -5.657100200653076, -6.780200004577637, -6.339200019836426, -5.815499782562256, -5.678299903869629, -4.686299800872803, -5.884099960327148, -6.201200008392334, -6.136099815368652, -4.971199989318848, -6.2104997634887695, -5.05679988861084, -5.776500225067139, -4.867400169372559, -5.565800189971924, -6.101200103759766, -5.1921000480651855, -5.90369987487793, -6.007599830627441, -5.83650016784668, -5.799600124359131, -5.8003997802734375, -5.8429999351501465, -5.892499923706055, -5.887199878692627, -5.855800151824951, -5.826700210571289, -5.845699787139893, -11.119799613952637, -11.40719985961914, -10.868499755859375, -11.538999557495117, -10.90880012512207, -10.611599922180176, -10.97659969329834, -10.636500358581543, -11.018799781799316, -11.698100090026855, -10.56410026550293, -10.252799987792969, -10.371899604797363, -11.774200439453125, -11.140700340270996, -10.949799537658691, -11.156399726867676, -11.46660041809082, -11.824799537658691, -10.98490047454834, -10.993399620056152, -11.837900161743164, -11.85260009765625, -11.857799530029297, -11.86400032043457, -11.869000434875488, -10.741999626159668, -11.237600326538086, -11.244099617004395, -11.55370044708252, -10.564900398254395, -4.373000144958496, -5.392899990081787, -8.158300399780273, -4.304200172424316, -9.804699897766113, -6.515699863433838, -9.233499526977539, -8.667499542236328, -5.2494001388549805, -6.846700191497803, -5.958899974822998, -4.507699966430664, -6.040999889373779, -6.48829984664917, -7.770699977874756, -6.686200141906738, -6.866600036621094, -7.404699802398682, -6.5914998054504395, -6.88100004196167, -6.811100006103516, -4.926000118255615, -5.637199878692627, -6.408199787139893, -6.078700065612793, -4.930799961090088, -6.286300182342529, -6.250400066375732, -6.134200096130371, -5.793700218200684, -6.367300033569336, -5.963699817657471, -6.710400104522705, -6.411300182342529, -6.486000061035156, -6.298299789428711, -5.79610013961792, -5.813399791717529, -4.862100124359131, -5.952400207519531, -5.812099933624268, -5.872000217437744, -5.19950008392334, -5.932499885559082, -5.88640022277832, -5.883200168609619, -5.785399913787842, -5.728700160980225, -5.865799903869629, -5.929800033569336, -6.0721001625061035, -5.990499973297119, -6.057799816131592, -5.976900100708008, -6.060999870300293, -11.504599571228027, -10.938799858093262, -10.96049976348877, -11.052399635314941, -11.091899871826172, -11.123700141906738, -11.150300025939941, -11.154500007629395, -11.477499961853027, -11.172100067138672, -10.98169994354248, -10.984600067138672, -11.179499626159668, -10.341500282287598, -10.364899635314941, -10.073800086975098, -11.028599739074707, -10.613300323486328, -10.918700218200684, -10.722399711608887, -11.255999565124512, -11.909500122070312, -10.907099723815918, -11.920299530029297, -11.921199798583984, -11.27910041809082, -11.330699920654297, -11.279899597167969, -11.58590030670166, -11.939299583435059, -10.767200469970703, -10.937199592590332, -10.376399993896484, -10.383000373840332, -4.607699871063232, -6.9745001792907715, -4.354499816894531, -5.490300178527832, -6.069399833679199, -6.498499870300293, -6.155600070953369, -6.426700115203857, -8.024299621582031, -7.86359977722168, -5.603499889373779, -6.77839994430542, -7.179900169372559, -7.272299766540527, -5.665900230407715, -5.818900108337402, -6.666299819946289, -4.570199966430664, -7.275100231170654, -4.867300033569336, -6.364699840545654, -6.728700160980225, -6.6203999519348145, -5.708399772644043, -5.639400005340576, -6.188399791717529, -5.844099998474121, -5.4984002113342285, -6.908400058746338, -6.012899875640869, -6.990699768066406, -6.189899921417236, -4.851600170135498, -4.990099906921387, -5.8968000411987305, -6.392000198364258, -4.776800155639648, -5.7241997718811035, -5.801700115203857, -5.823800086975098, -6.199699878692627, -6.26639986038208, -5.722499847412109, -6.163099765777588, -5.857999801635742, -5.676199913024902, -5.722700119018555, -5.860499858856201, -5.915800094604492, -6.033999919891357, -6.068399906158447, -6.007299900054932, -11.107500076293945, -11.176300048828125, -10.726200103759766, -9.987199783325195, -10.861499786376953, -10.880599975585938, -10.531100273132324, -10.713399887084961, -10.93690013885498, -10.80519962310791, -10.054499626159668, -10.794599533081055, -11.654199600219727, -11.00730037689209, -11.086799621582031, -11.353500366210938, -11.047100067138672, -10.87339973449707, -11.719400405883789, -9.56760025024414, -10.733699798583984, -11.112700462341309, -10.933500289916992, -8.839699745178223, -11.782500267028809, -10.783300399780273, -11.799699783325195, -11.810799598693848, -10.974599838256836, -11.817399978637695, -10.814000129699707, -10.983499526977539, -8.06309986114502, -6.043600082397461, -8.843899726867676, -6.129499912261963, -8.885499954223633, -6.595900058746338, -5.443999767303467, -6.3043999671936035, -5.247399806976318, -6.714200019836426, -4.84060001373291, -6.085100173950195, -4.672399997711182, -6.1132001876831055, -6.685200214385986, -4.601399898529053, -6.0569000244140625, -5.689000129699707, -5.662199974060059, -6.221399784088135, -6.156899929046631, -6.356900215148926, -5.709499835968018, -6.327700138092041, -6.734000205993652, -6.196899890899658, -5.894199848175049, -5.586900234222412, -6.960299968719482, -6.602099895477295, -6.459499835968018, -5.116300106048584, -4.840400218963623, -4.892300128936768, -5.82390022277832, -5.899799823760986, -5.676300048828125, -5.777100086212158, -5.646100044250488, -6.037899971008301, -5.994100093841553, -5.364799976348877, -5.952000141143799, -5.915500164031982, -5.915599822998047, -6.007999897003174, -5.934800148010254, -5.9704999923706055, -5.9944000244140625, -6.041900157928467, -10.662599563598633, -11.337400436401367, -10.784099578857422, -10.674500465393066, -11.03219985961914, -11.736000061035156, -11.760899543762207, -11.170299530029297, -11.178999900817871, -10.319999694824219, -11.839900016784668, -11.043600082397461, -11.855999946594238, -10.586099624633789, -10.709500312805176, -11.246800422668457, -11.898099899291992, -11.264699935913086, -10.628299713134766, -10.928799629211426, -11.93529987335205, -9.407899856567383, -10.388999938964844, -11.958600044250488, -11.95930004119873, -11.960000038146973, -10.956399917602539, -11.967900276184082, -11.628499984741211, -10.679200172424316, -10.45829963684082, -10.802599906921387, -9.173299789428711, -9.428999900817871, -10.97439956665039, -9.221500396728516, -8.379400253295898, -5.899199962615967, -9.496999740600586, -9.849300384521484, -7.440899848937988, -6.270199775695801, -6.479000091552734, -5.7052001953125, -6.0971999168396, -7.4232001304626465, -8.07610034942627, -5.526299953460693, -6.8597002029418945, -7.582600116729736, -5.2596001625061035, -5.799200057983398, -6.603600025177002, -5.5655999183654785, -6.40339994430542, -7.309000015258789, -6.68310022354126, -5.796800136566162, -5.666100025177002, -6.834400177001953, -7.1828999519348145, -4.933800220489502, -6.737299919128418, -4.97629976272583, -6.69789981842041, -5.5960001945495605, -6.089600086212158, -4.79040002822876, -5.7241997718811035, -6.230100154876709, -5.914599895477295, -5.8003997802734375, -4.8084001541137695, -6.173999786376953, -6.436500072479248, -6.154600143432617, -5.027200222015381, -6.17710018157959, -6.156300067901611, -5.033999919891357, -5.235599994659424, -5.68120002746582, -5.810999870300293, -6.0167999267578125, -5.906599998474121, -5.941199779510498, -5.973599910736084, -5.880499839782715, -5.979499816894531, -6.0665998458862305, -6.013400077819824, -6.051000118255615]}, \"token.table\": {\"Topic\": [8, 9, 3, 4, 5, 6, 8, 9, 10, 7, 5, 6, 8, 1, 2, 3, 4, 5, 6, 7, 8, 9, 10, 1, 2, 5, 9, 10, 1, 2, 3, 4, 5, 6, 7, 8, 9, 10, 7, 1, 2, 3, 6, 9, 10, 1, 2, 3, 4, 5, 6, 7, 8, 9, 10, 5, 1, 9, 1, 2, 3, 4, 5, 6, 7, 8, 9, 10, 1, 2, 3, 4, 5, 6, 7, 8, 9, 10, 1, 2, 3, 4, 5, 6, 7, 8, 9, 10, 2, 1, 7, 2, 1, 3, 1, 2, 3, 4, 5, 6, 7, 8, 9, 10, 1, 2, 3, 4, 5, 6, 7, 8, 9, 10, 2, 6, 9, 1, 2, 3, 4, 5, 6, 7, 8, 9, 10, 1, 2, 3, 4, 5, 6, 7, 8, 9, 10, 1, 2, 3, 4, 5, 6, 7, 8, 9, 10, 2, 2, 10, 6, 1, 7, 1, 2, 3, 4, 5, 6, 7, 8, 9, 10, 4, 9, 1, 1, 2, 3, 4, 5, 6, 7, 8, 9, 10, 1, 2, 3, 4, 5, 6, 7, 8, 9, 10, 1, 2, 3, 4, 5, 6, 7, 8, 9, 10, 3, 8, 1, 2, 3, 4, 5, 6, 7, 8, 9, 10, 1, 2, 6, 8, 9, 1, 2, 3, 4, 5, 6, 7, 8, 9, 10, 3, 4, 6, 7, 9, 1, 2, 1, 2, 3, 4, 5, 6, 7, 8, 9, 10, 1, 2, 3, 4, 5, 6, 7, 8, 9, 10, 1, 2, 3, 4, 5, 6, 7, 8, 9, 10, 1, 2, 3, 4, 5, 6, 7, 8, 9, 10, 5, 6, 8, 6, 1, 2, 3, 4, 5, 6, 7, 8, 9, 10, 1, 2, 3, 4, 5, 6, 7, 8, 9, 10, 7, 9, 1, 2, 3, 4, 5, 6, 7, 8, 9, 10, 1, 2, 5, 7, 8, 9, 3, 7, 1, 2, 3, 1, 4, 5, 6, 9, 10, 1, 2, 3, 4, 5, 6, 7, 8, 9, 10, 1, 2, 3, 4, 5, 6, 7, 8, 9, 10, 1, 2, 3, 4, 5, 6, 7, 8, 9, 10, 1, 2, 3, 4, 5, 6, 7, 8, 9, 10, 5, 1, 2, 3, 4, 5, 6, 7, 8, 9, 10, 1, 10, 1, 2, 3, 4, 5, 6, 7, 8, 9, 10, 1, 2, 3, 4, 5, 6, 7, 8, 9, 10, 1, 2, 3, 4, 5, 6, 7, 8, 9, 10, 5, 6, 8, 1, 2, 3, 4, 5, 6, 7, 8, 9, 10, 1, 2, 3, 4, 5, 6, 7, 8, 9, 10, 1, 2, 3, 4, 5, 6, 7, 8, 9, 10, 1, 2, 3, 4, 5, 6, 7, 8, 9, 10, 1, 2, 3, 4, 5, 6, 7, 8, 9, 10, 1, 2, 3, 4, 5, 6, 7, 8, 9, 10, 1, 2, 3, 4, 5, 6, 7, 8, 9, 10, 1, 2, 3, 4, 5, 6, 7, 9, 10, 2, 1, 2, 3, 4, 5, 6, 7, 8, 9, 10, 1, 2, 3, 4, 5, 6, 7, 8, 9, 10, 2, 4, 7, 3, 4, 10, 1, 2, 3, 4, 5, 6, 7, 8, 9, 10, 1, 2, 3, 4, 5, 6, 7, 8, 9, 10, 4, 1, 2, 3, 4, 5, 6, 7, 8, 9, 10, 1, 9, 1, 2, 3, 4, 5, 6, 7, 8, 9, 10, 5, 1, 4, 5, 6, 8, 1, 2, 3, 4, 5, 6, 7, 8, 9, 10, 8, 1, 2, 3, 4, 5, 6, 7, 8, 9, 10, 1, 2, 3, 4, 5, 6, 7, 8, 9, 10, 1, 4, 4, 6, 1, 2, 3, 4, 5, 6, 7, 8, 9, 10, 2, 3, 5, 7, 9, 10, 3, 5, 1, 2, 3, 4, 6, 7, 8, 9, 4, 1, 2, 3, 4, 5, 6, 7, 8, 9, 10, 1, 2, 3, 4, 5, 6, 7, 8, 9, 10, 1, 2, 3, 4, 5, 6, 7, 8, 9, 10, 8, 9, 2, 3, 4, 5, 6, 8, 9, 10, 3, 6, 8, 1, 2, 3, 4, 5, 6, 7, 8, 9, 10, 1, 9, 1, 2, 3, 4, 5, 6, 7, 8, 9, 10, 4, 8, 1, 5, 7, 7, 9, 5, 9, 2, 3, 4, 5, 6, 8, 9, 4, 8, 1, 2, 3, 4, 5, 6, 7, 8, 9, 10, 1, 2, 3, 4, 5, 6, 7, 8, 9, 10, 1, 2, 3, 4, 5, 6, 7, 8, 9, 10, 1, 1, 2, 3, 4, 5, 6, 7, 8, 9, 10, 1, 2, 3, 4, 5, 6, 7, 8, 9, 10, 2, 5, 6, 10, 1, 2, 3, 4, 5, 6, 7, 8, 9, 10, 1, 2, 3, 4, 5, 6, 7, 8, 9, 10, 1, 9, 8, 6, 7, 7, 1, 2, 3, 4, 5, 6, 7, 8, 9, 10, 1, 2, 3, 4, 5, 6, 7, 8, 9, 10, 2, 1, 2, 3, 4, 5, 6, 7, 8, 9, 10, 1, 2, 3, 4, 5, 6, 7, 8, 9, 10, 1, 2, 3, 4, 5, 6, 7, 8, 9, 10, 2, 8, 1, 2, 3, 4, 5, 6, 7, 8, 9, 10, 1, 2, 3, 4, 5, 6, 7, 8, 9, 10, 1, 2, 3, 4, 5, 6, 7, 8, 9, 10, 1, 2, 3, 4, 5, 6, 7, 8, 9, 10, 2, 6, 2, 1, 2, 3, 4, 5, 6, 7, 8, 9, 10, 3, 6, 7, 9, 1, 2, 3, 4, 5, 6, 7, 8, 9, 10, 4, 5, 6, 1, 2, 3, 4, 5, 6, 7, 8, 9, 10, 1, 2, 3, 4, 5, 6, 7, 8, 9, 10, 2, 1, 2, 3, 4, 5, 6, 7, 8, 9, 10, 1, 2, 3, 4, 5, 6, 7, 8, 9, 10, 1, 2, 3, 4, 5, 6, 7, 8, 9, 10, 2, 3, 5, 6, 1, 2, 3, 4, 5, 6, 7, 8, 9, 10, 2, 6, 9, 6, 10, 2, 3, 5, 6, 8, 9, 10, 1, 2, 3, 4, 5, 6, 7, 8, 9, 10, 1, 2, 3, 4, 5, 6, 7, 8, 9, 10, 2, 5, 8, 1, 2, 3, 4, 5, 6, 7, 8, 9, 10, 1, 10, 1, 2, 3, 4, 5, 6, 7, 8, 9, 10, 1, 2, 3, 4, 5, 6, 7, 8, 9, 10, 1, 2, 3, 4, 5, 6, 7, 8, 9, 10, 3, 1, 4, 5, 6, 1, 2, 4, 5, 6, 7, 8, 9, 6, 8, 1, 2, 3, 4, 5, 6, 7, 8, 9, 10, 1, 2, 3, 4, 5, 6, 7, 8, 9, 10, 7, 9, 1, 2, 3, 4, 5, 6, 7, 8, 9, 10, 1, 2, 3, 4, 5, 6, 7, 8, 9, 10, 1, 2, 3, 4, 5, 6, 7, 8, 9, 10, 1, 2, 3, 4, 5, 6, 7, 8, 9, 10, 2, 3, 4, 5, 6, 7, 8, 9, 10, 6, 10, 1, 2, 3, 4, 5, 6, 7, 8, 9, 10, 3, 8, 1, 2, 3, 4, 5, 6, 7, 8, 9, 10, 1, 2, 3, 4, 5, 6, 7, 8, 9, 10, 1, 2, 3, 4, 5, 6, 7, 8, 9, 10, 1, 7, 1, 2, 3, 4, 5, 6, 7, 8, 9, 10, 2, 1, 2, 3, 4, 5, 6, 7, 8, 9, 10, 1, 5, 8, 9, 1, 7, 1, 2, 3, 4, 5, 6, 8, 1, 2, 3, 5, 10, 5, 7, 6, 8, 6, 1, 2, 3, 4, 5, 6, 7, 8, 9, 10, 2, 6, 7, 8, 9, 6, 9, 9, 1, 2, 3, 4, 5, 6, 7, 8, 9, 10, 8, 2, 4, 10, 3, 1, 3, 4, 8, 5, 2, 4, 1, 2, 3, 4, 5, 6, 7, 8, 9, 10, 1, 2, 3, 4, 5, 6, 7, 8, 9, 10, 1, 2, 3, 4, 5, 6, 7, 8, 9, 10, 1, 2, 3, 4, 5, 6, 7, 8, 9, 10, 9, 5, 1, 2, 3, 4, 5, 6, 7, 8, 9, 10, 4, 5, 7, 1, 2, 3, 4, 5, 6, 7, 8, 9, 10, 3, 6, 9, 1, 2, 3, 4, 5, 6, 7, 8, 9, 10, 1, 2, 3, 4, 5, 6, 7, 8, 9, 10, 1, 2, 9, 1, 2, 3, 4, 5, 6, 7, 8, 9, 10, 1, 2, 3, 4, 5, 6, 7, 8, 9, 10, 1, 2, 3, 4, 5, 6, 7, 8, 9, 10, 1, 2, 3, 4, 5, 6, 7, 8, 9, 10, 1, 2, 3, 4, 5, 6, 7, 8, 9, 10, 1, 2, 3, 4, 5, 6, 7, 8, 9, 10, 1, 2, 3, 4, 5, 6, 7, 8, 9, 10, 2, 1, 2, 3, 4, 5, 6, 7, 8, 9, 10, 1, 2, 3, 4, 5, 6, 7, 8, 9, 10, 1, 2, 3, 4, 5, 6, 7, 8, 9, 10, 1, 2, 3, 4, 5, 6, 7, 8, 9, 10, 3, 6, 10, 1, 2, 3, 4, 5, 6, 7, 8, 9, 10, 2, 3, 4, 5, 6, 7, 8, 9, 10, 1, 3, 6, 1, 2, 3, 4, 5, 6, 7, 8, 9, 10, 1, 3, 6, 7, 9, 10, 1, 2, 3, 4, 5, 6, 7, 8, 9, 10, 2, 7, 1, 2, 3, 4, 5, 6, 7, 8, 9, 10, 2, 9, 1, 2, 3, 4, 5, 6, 7, 8, 9, 10, 1, 2, 3, 4, 5, 6, 7, 8, 9, 10, 2, 3, 1, 2, 3, 4, 5, 6, 7, 8, 9, 10, 1, 2, 3, 4, 5, 6, 7, 8, 9, 10, 3, 7, 1, 2, 3, 4, 5, 6, 7, 8, 9, 10, 1, 2, 3, 4, 5, 6, 7, 8, 9, 10, 1, 2, 3, 4, 5, 6, 7, 8, 9, 10, 1, 2, 3, 4, 5, 6, 7, 8, 9, 10, 1, 2, 3, 4, 5, 6, 7, 8, 9, 10, 1, 2, 5, 2, 10, 10, 2, 3, 4, 6, 1, 2, 10, 5, 1, 2, 3, 4, 5, 6, 7, 8, 9, 10, 8, 10, 1, 2, 3, 4, 5, 6, 7, 8, 9, 10, 3, 1, 2, 3, 4, 5, 6, 7, 8, 9, 10, 1, 2, 3, 4, 5, 6, 7, 8, 9, 10, 1, 2, 3, 4, 5, 6, 7, 8, 9, 10, 1, 2, 3, 4, 5, 6, 7, 8, 9, 10, 7, 1, 2, 3, 4, 5, 6, 7, 8, 9, 10, 1, 9, 10, 1, 2, 3, 4, 5, 6, 7, 8, 9, 10, 1, 4, 5, 6, 8, 9, 1, 2, 3, 4, 5, 6, 7, 8, 9, 10, 1, 1, 6, 1, 2, 3, 4, 5, 6, 7, 8, 9, 10, 1, 2, 3, 4, 5, 6, 7, 8, 9, 10, 6, 8, 3, 1, 2, 3, 4, 5, 6, 7, 8, 9, 10, 1, 2, 3, 4, 5, 6, 7, 8, 9, 10, 1, 2, 3, 4, 5, 6, 7, 8, 9, 10, 3, 6, 7, 10, 3, 4, 2, 1, 2, 3, 4, 5, 6, 7, 8, 9, 10, 1, 2, 9, 10, 3, 1, 3, 4, 5, 10, 1, 9, 10, 6, 8, 1, 4, 1, 2, 3, 4, 5, 6, 7, 8, 9, 10, 1, 2, 3, 4, 5, 6, 7, 8, 9, 10, 1, 2, 3, 4, 5, 6, 7, 8, 9, 10, 1, 7, 1, 2, 3, 4, 5, 6, 7, 8, 9, 10, 5, 10, 8, 1, 2, 3, 4, 5, 6, 7, 8, 9, 10, 1, 2, 3, 4, 5, 6, 7, 8, 9, 10, 1, 2, 3, 4, 5, 6, 7, 8, 9, 10, 1, 2, 3, 4, 5, 6, 7, 8, 9, 10, 2, 9, 1, 2, 3, 4, 5, 6, 7, 8, 9, 10, 3, 5, 1, 2, 3, 4, 5, 6, 7, 8, 9, 10, 1, 2, 3, 4, 5, 6, 7, 8, 9, 10, 1, 2, 3, 4, 5, 6, 7, 8, 9, 10, 1, 3, 1, 2, 3, 4, 5, 6, 7, 8, 9, 10, 1, 2, 3, 2, 3, 5, 1, 2, 3, 4, 5, 7, 8, 10, 1, 5, 7, 8, 9, 1, 2, 3, 4, 5, 6, 7, 8, 9, 10, 9, 1, 2, 5, 6, 8, 9, 10, 1, 2, 3, 4, 5, 6, 7, 8, 9, 10, 1, 2, 3, 4, 5, 6, 7, 8, 9, 10, 1, 2, 3, 4, 5, 6, 7, 8, 9, 10, 3, 8, 1, 2, 3, 4, 5, 6, 7, 8, 9, 10, 1, 2, 3, 4, 5, 6, 7, 8, 9, 10, 5, 7, 10, 1, 2, 3, 4, 5, 6, 7, 8, 9, 10, 3, 6, 1, 2, 3, 4, 5, 7, 8, 9, 10, 5, 1, 2, 3, 4, 5, 6, 7, 8, 9, 10, 1, 2, 3, 4, 5, 6, 7, 8, 9, 10, 1, 2, 3, 4, 5, 6, 7, 8, 9, 10, 4, 5, 6, 7, 3, 1, 2, 3, 4, 5, 6, 7, 8, 9, 10, 1, 2, 3, 4, 5, 6, 7, 8, 9, 10, 9, 1, 2, 3, 4, 5, 6, 7, 8, 9, 10, 1, 2, 3, 4, 5, 6, 7, 8, 9, 10, 1, 3, 5, 6, 7, 10, 1, 9, 2, 9, 1, 2, 3, 4, 5, 6, 7, 8, 9, 10, 1, 3, 5, 6, 7, 8, 9, 10, 1, 2, 3, 4, 5, 6, 7, 8, 9, 10, 4, 1, 2, 5, 7, 9, 1, 2, 3, 4, 5, 6, 7, 8, 9, 10, 1, 2, 3, 4, 5, 6, 7, 8, 9, 10, 1, 2, 5, 6, 1, 6, 1, 2, 3, 4, 5, 6, 7, 8, 9, 10, 1, 2, 3, 4, 5, 6, 7, 8, 9, 10, 1, 2, 3, 4, 5, 6, 7, 8, 9, 10, 6, 8, 1, 7, 8, 9, 10, 1, 5, 7, 9, 10, 3, 1, 2, 3, 4, 5, 6, 7, 8, 9, 10, 1, 2, 3, 4, 5, 6, 7, 8, 9, 10, 1, 2, 3, 4, 5, 6, 7, 8, 9, 10, 3, 1, 2, 3, 4, 5, 6, 7, 8, 9, 10, 1, 2, 3, 4, 5, 6, 7, 8, 9, 10, 1, 2, 3, 4, 5, 6, 7, 8, 9, 10, 1, 4, 8, 1, 2, 3, 4, 5, 6, 7, 8, 9, 10, 1, 2, 3, 4, 5, 6, 7, 8, 9, 10, 3, 4, 5, 6, 8, 9, 10, 1, 2, 3, 4, 5, 6, 7, 8, 9, 10, 1, 2, 3, 4, 5, 6, 7, 8, 9, 10, 1, 2, 3, 4, 5, 6, 7, 8, 9, 10, 1, 2, 3, 4, 5, 6, 7, 8, 9, 10, 1, 3, 4, 5, 8, 9, 1, 2, 3, 4, 5, 6, 7, 8, 9, 10, 1, 2, 3, 4, 5, 6, 7, 8, 9, 10, 1, 2, 3, 4, 5, 6, 7, 8, 9, 10, 1, 2, 3, 4, 5, 6, 7, 8, 9, 10, 5, 1, 2, 3, 4, 5, 6, 7, 8, 9, 10, 1, 2, 3, 5, 6, 7, 8, 9, 10, 1, 2, 3, 4, 5, 6, 7, 8, 9, 10, 1, 2, 3, 4, 5, 6, 7, 8, 9, 10, 1, 2, 3, 4, 5, 6, 7, 8, 9, 10, 1, 2, 3, 4, 5, 6, 7, 8, 9, 10, 1, 2, 3, 4, 5, 6, 7, 8, 9, 10, 1, 2, 3, 4, 5, 6, 7, 8, 9, 10, 1, 1, 2, 3, 4, 5, 6, 7, 8, 9, 10, 1, 2, 3, 4, 5, 6, 7, 8, 9, 10, 3, 6, 8, 9, 1, 2, 3, 4, 5, 6, 7, 8, 9, 10, 1, 6, 10, 7, 1, 2, 3, 4, 5, 6, 7, 8, 9, 10, 1, 2, 3, 4, 5, 6, 7, 8, 9, 10, 1, 2, 3, 4, 5, 6, 7, 8, 9, 10, 1, 2, 3, 4, 5, 6, 7, 8, 9, 10, 9, 1, 2, 3, 4, 5, 6, 7, 8, 9, 10, 1, 2, 3, 4, 5, 6, 7, 8, 9, 10, 1, 2, 3, 4, 5, 6, 7, 8, 9, 10, 3, 1, 2, 3, 4, 5, 6, 7, 8, 9, 10, 1, 2, 3, 4, 5, 6, 7, 8, 9, 10, 1, 2, 3, 4, 5, 6, 7, 8, 9, 10, 1, 5, 6, 1, 2, 3, 4, 5, 6, 7, 8, 9, 10, 1, 2, 3, 4, 5, 6, 7, 8, 9, 10, 1, 2, 3, 4, 8, 1, 3, 4, 5, 6, 8, 9, 10, 1, 1, 2, 3, 4, 5, 6, 7, 8, 9, 10, 1, 2, 3, 4, 5, 6, 7, 8, 9, 10, 1, 2, 3, 4, 5, 6, 7, 8, 9, 10, 1, 2, 3, 4, 5, 6, 7, 8, 9, 10, 1, 2, 3, 4, 5, 6, 7, 8, 9, 10, 1, 2, 3, 5, 7, 9, 1, 1, 2, 3, 4, 5, 6, 7, 8, 9, 10, 1, 2, 3, 4, 5, 6, 7, 8, 9, 10, 1, 2, 3, 5, 7, 9, 10, 8, 9, 9], \"Freq\": [0.22654227912425995, 0.22654227912425995, 0.12718746066093445, 0.2543749213218689, 0.12718746066093445, 0.12718746066093445, 0.12718746066093445, 0.12718746066093445, 0.12718746066093445, 0.2665625810623169, 0.22691610455513, 0.22691610455513, 0.22691610455513, 0.08014445006847382, 0.08014445006847382, 0.16028890013694763, 0.08014445006847382, 0.08014445006847382, 0.08014445006847382, 0.16028890013694763, 0.16028890013694763, 0.08014445006847382, 0.08014445006847382, 0.170040562748909, 0.170040562748909, 0.170040562748909, 0.170040562748909, 0.170040562748909, 0.1525767594575882, 0.11940790712833405, 0.11277413368225098, 0.0961897000670433, 0.10282347351312637, 0.0862390398979187, 0.08292215317487717, 0.0961897000670433, 0.07297150045633316, 0.0762883797287941, 0.3235051929950714, 0.19152821600437164, 0.19152821600437164, 0.19152821600437164, 0.19152821600437164, 0.19152821600437164, 0.19152821600437164, 0.11492395401000977, 0.09056920558214188, 0.09285246580839157, 0.1118796095252037, 0.12101263552904129, 0.10198549181222916, 0.08067509531974792, 0.12405698001384735, 0.08904703706502914, 0.07306423783302307, 0.34096428751945496, 0.3229679465293884, 0.3229679465293884, 0.13029992580413818, 0.08640941977500916, 0.09052415937185287, 0.09052415937185287, 0.10149677842855453, 0.08366626501083374, 0.10012520104646683, 0.0960104689002037, 0.14675885438919067, 0.0754368007183075, 0.10643385350704193, 0.09619983285665512, 0.09210622310638428, 0.13713592290878296, 0.07777858525514603, 0.07368497550487518, 0.09619983285665512, 0.14532314240932465, 0.07163817435503006, 0.10438705235719681, 0.10634128749370575, 0.09892213344573975, 0.09521254897117615, 0.08037423342466354, 0.10510475933551788, 0.10015865415334702, 0.09644907712936401, 0.08902991563081741, 0.12241613864898682, 0.10634128749370575, 0.4399256110191345, 0.32345595955848694, 0.32345595955848694, 0.3238305449485779, 0.2666601538658142, 0.2666601538658142, 0.12096820026636124, 0.10952526330947876, 0.09154350310564041, 0.09481291472911835, 0.08990879356861115, 0.08010056614875793, 0.10298644006252289, 0.08827409148216248, 0.13404583930969238, 0.0866393893957138, 0.07145117223262787, 0.15962496399879456, 0.0942547395825386, 0.09577497839927673, 0.13378091156482697, 0.08817378431558609, 0.120098777115345, 0.08665354549884796, 0.07905235886573792, 0.072971411049366, 0.26682916283607483, 0.26682916283607483, 0.26682916283607483, 0.12601497769355774, 0.1097952201962471, 0.06862201541662216, 0.10355685651302338, 0.11728125810623169, 0.09482314437627792, 0.08109874278306961, 0.09607081860303879, 0.11852893233299255, 0.0848417654633522, 0.07572167366743088, 0.07572167366743088, 0.07572167366743088, 0.15144334733486176, 0.07572167366743088, 0.07572167366743088, 0.15144334733486176, 0.07572167366743088, 0.07572167366743088, 0.15144334733486176, 0.12007883936166763, 0.12414931505918503, 0.13636071979999542, 0.09362079203128815, 0.11397314071655273, 0.0864974707365036, 0.08751508593559265, 0.09769126027822495, 0.06818035989999771, 0.07225082814693451, 0.3238535225391388, 0.3242034614086151, 0.3242034614086151, 0.6485167145729065, 0.3233681321144104, 0.3233681321144104, 0.13120914995670319, 0.09840686619281769, 0.09840686619281769, 0.10205156356096268, 0.17494554817676544, 0.08382806926965714, 0.07289397716522217, 0.07653867453336716, 0.0947621688246727, 0.06560457497835159, 0.3232188820838928, 0.3232188820838928, 0.32326453924179077, 0.08622276782989502, 0.118199422955513, 0.08907782286405563, 0.11591537296772003, 0.16959047317504883, 0.07537354528903961, 0.07023444026708603, 0.1102052554488182, 0.09592996537685394, 0.06966342777013779, 0.08417525142431259, 0.0761159211397171, 0.08238428831100464, 0.13611316680908203, 0.1414860635995865, 0.08327977359294891, 0.10029391944408417, 0.1253674030303955, 0.08327977359294891, 0.0877571776509285, 0.09849170595407486, 0.10961173474788666, 0.11596604436635971, 0.10008028149604797, 0.10643458366394043, 0.11278888583183289, 0.07784021645784378, 0.12867464125156403, 0.07784021645784378, 0.07307448983192444, 0.32364848256111145, 0.32364848256111145, 0.11297094821929932, 0.11297094821929932, 0.22594189643859863, 0.05648547410964966, 0.11297094821929932, 0.05648547410964966, 0.11297094821929932, 0.11297094821929932, 0.05648547410964966, 0.05648547410964966, 0.1913398802280426, 0.1913398802280426, 0.1913398802280426, 0.1913398802280426, 0.1913398802280426, 0.11186926811933517, 0.09446737915277481, 0.10565430670976639, 0.10565430670976639, 0.0981963574886322, 0.11062627285718918, 0.08203746378421783, 0.09322439134120941, 0.11311225593090057, 0.08328045159578323, 0.19716332852840424, 0.19716332852840424, 0.19716332852840424, 0.19716332852840424, 0.19716332852840424, 0.3236983120441437, 0.3236983120441437, 0.10894249379634857, 0.21788498759269714, 0.10894249379634857, 0.10894249379634857, 0.10894249379634857, 0.10894249379634857, 0.10894249379634857, 0.10894249379634857, 0.10894249379634857, 0.10894249379634857, 0.11060404032468796, 0.10617987811565399, 0.11060404032468796, 0.11945236474275589, 0.08405907452106476, 0.10617987811565399, 0.08848322927951813, 0.1459973305463791, 0.04866577684879303, 0.08405907452106476, 0.12948019802570343, 0.10593833774328232, 0.09416741132736206, 0.07533393055200577, 0.07768811285495758, 0.12948019802570343, 0.09652160108089447, 0.08475067466497421, 0.13183437287807465, 0.07297974824905396, 0.1104080006480217, 0.09715904295444489, 0.12144879996776581, 0.08611824363470078, 0.07507744431495667, 0.1148243248462677, 0.15898752212524414, 0.06624480336904526, 0.1170324832201004, 0.05520400032401085, 0.19154547154903412, 0.19154547154903412, 0.19154547154903412, 0.323900431394577, 0.09978080540895462, 0.09978080540895462, 0.04989040270447731, 0.14967119693756104, 0.09978080540895462, 0.14967119693756104, 0.04989040270447731, 0.09978080540895462, 0.09978080540895462, 0.14967119693756104, 0.04715282469987869, 0.09430564939975739, 0.04715282469987869, 0.04715282469987869, 0.09430564939975739, 0.09430564939975739, 0.14145846664905548, 0.09430564939975739, 0.09430564939975739, 0.18861129879951477, 0.22651860117912292, 0.22651860117912292, 0.11353600770235062, 0.08717943727970123, 0.10542628914117813, 0.08515200763940811, 0.1115085780620575, 0.08312457799911499, 0.13381029665470123, 0.09934400767087936, 0.07906971871852875, 0.10137143731117249, 0.16037292778491974, 0.16037292778491974, 0.16037292778491974, 0.16037292778491974, 0.16037292778491974, 0.16037292778491974, 0.32400786876678467, 0.3236669600009918, 0.19153456389904022, 0.19153456389904022, 0.19153456389904022, 0.1699000895023346, 0.1699000895023346, 0.1699000895023346, 0.1699000895023346, 0.1699000895023346, 0.1699000895023346, 0.08118558675050735, 0.11796196550130844, 0.09992072731256485, 0.13739100098609924, 0.057593196630477905, 0.08465506136417389, 0.10061462223529816, 0.11588028818368912, 0.08396116644144058, 0.12073754519224167, 0.0939360111951828, 0.11909744143486023, 0.10903286933898926, 0.12748458981513977, 0.0704520046710968, 0.08890372514724731, 0.0939360111951828, 0.06541971862316132, 0.11238772422075272, 0.12077486515045166, 0.07170672714710236, 0.1434134542942047, 0.07170672714710236, 0.1434134542942047, 0.07170672714710236, 0.07170672714710236, 0.07170672714710236, 0.07170672714710236, 0.07170672714710236, 0.1434134542942047, 0.14814867079257965, 0.11351651698350906, 0.05772026255726814, 0.08273237198591232, 0.10582047700881958, 0.0981244444847107, 0.10582047700881958, 0.0981244444847107, 0.09427642822265625, 0.09427642822265625, 0.3239448070526123, 0.10324238985776901, 0.10324238985776901, 0.10324238985776901, 0.10324238985776901, 0.10324238985776901, 0.10324238985776901, 0.10324238985776901, 0.20648477971553802, 0.10324238985776901, 0.10324238985776901, 0.32356536388397217, 0.32356536388397217, 0.07574595510959625, 0.08465724438428879, 0.1113911122083664, 0.09356853365898132, 0.10247982293367386, 0.10247982293367386, 0.08911289274692535, 0.14703626930713654, 0.1113911122083664, 0.08465724438428879, 0.08962000161409378, 0.16430333256721497, 0.08962000161409378, 0.08962000161409378, 0.12696166336536407, 0.09708833694458008, 0.09708833694458008, 0.08215166628360748, 0.08215166628360748, 0.07468333095312119, 0.07343723624944687, 0.09179654717445374, 0.11015585064888, 0.20195239782333374, 0.07343723624944687, 0.09179654717445374, 0.11015585064888, 0.09179654717445374, 0.07343723624944687, 0.09179654717445374, 0.32407888770103455, 0.32407888770103455, 0.32407888770103455, 0.08476867526769638, 0.0964035913348198, 0.13629473745822906, 0.1080385074019432, 0.0781201496720314, 0.08809293806552887, 0.12299768626689911, 0.10305211693048477, 0.11634916067123413, 0.06648523360490799, 0.11676663905382156, 0.0841222032904625, 0.10421108454465866, 0.11299996823072433, 0.12555551528930664, 0.10672219097614288, 0.11425552517175674, 0.0853777527809143, 0.07658886909484863, 0.072822205722332, 0.12563630938529968, 0.1070510521531105, 0.10556422919034958, 0.10556422919034958, 0.0728541910648346, 0.10036036372184753, 0.1092812791466713, 0.07805805653333664, 0.11299833655357361, 0.08251851797103882, 0.14990387856960297, 0.0899423286318779, 0.11992310732603073, 0.059961553663015366, 0.059961553663015366, 0.1798846572637558, 0.11992310732603073, 0.059961553663015366, 0.0899423286318779, 0.0899423286318779, 0.09873797744512558, 0.08442812412977219, 0.09587600827217102, 0.08156615495681763, 0.1459604799747467, 0.11304782330989838, 0.08872108161449432, 0.11018585413694382, 0.08013516664505005, 0.10159994661808014, 0.11223810911178589, 0.11223810911178589, 0.08417858183383942, 0.11223810911178589, 0.1964166909456253, 0.11223810911178589, 0.08417858183383942, 0.08417858183383942, 0.08417858183383942, 0.08417858183383942, 0.09327881783246994, 0.11306522786617279, 0.14981143176555634, 0.08762555569410324, 0.11871849000453949, 0.09893207997083664, 0.09045218676328659, 0.08479892462491989, 0.09327881783246994, 0.06501250714063644, 0.24712564051151276, 0.08237521350383759, 0.08237521350383759, 0.08237521350383759, 0.08237521350383759, 0.08237521350383759, 0.08237521350383759, 0.08237521350383759, 0.08237521350383759, 0.32359737157821655, 0.11613891273736954, 0.08336351066827774, 0.09048859775066376, 0.1182764396071434, 0.13537664711475372, 0.08835107833147049, 0.10260124504566193, 0.07196337729692459, 0.11115135252475739, 0.0819384977221489, 0.11320137977600098, 0.09752734750509262, 0.11842606216669083, 0.09230266511440277, 0.13932478427886963, 0.07662862539291382, 0.10101046413183212, 0.09926890581846237, 0.10275202244520187, 0.05921303108334541, 0.3237054646015167, 0.32336708903312683, 0.32336708903312683, 0.2668003439903259, 0.2668003439903259, 0.6201298236846924, 0.08200088143348694, 0.17311297357082367, 0.10022329539060593, 0.08200088143348694, 0.11844571679830551, 0.09111208468675613, 0.08200088143348694, 0.10022329539060593, 0.11844571679830551, 0.05466725304722786, 0.10952677577733994, 0.0916968360543251, 0.11207391321659088, 0.14773379266262054, 0.07386689633131027, 0.08914970606565475, 0.08914970606565475, 0.12226244807243347, 0.09933824092149734, 0.06877262890338898, 0.323505163192749, 0.07216817140579224, 0.11198509484529495, 0.10700797289609909, 0.09954230487346649, 0.12940499186515808, 0.0696796104311943, 0.10451941937208176, 0.0920766294002533, 0.13438211381435394, 0.0771452859044075, 0.2661679685115814, 0.2661679685115814, 0.12108117341995239, 0.10431608557701111, 0.08009985089302063, 0.09127657860517502, 0.10617887228727341, 0.09127657860517502, 0.09313936531543732, 0.14157183468341827, 0.06519755721092224, 0.10431608557701111, 0.44015663862228394, 0.19139979779720306, 0.19139979779720306, 0.19139979779720306, 0.19139979779720306, 0.19139979779720306, 0.07275575399398804, 0.07275575399398804, 0.14551150798797607, 0.10913363099098206, 0.07275575399398804, 0.10913363099098206, 0.10913363099098206, 0.07275575399398804, 0.10913363099098206, 0.1818893849849701, 0.32376357913017273, 0.1350724995136261, 0.09630168974399567, 0.09129900485277176, 0.09505101293325424, 0.1213151142001152, 0.10880839824676514, 0.1025550439953804, 0.09880302846431732, 0.08629631996154785, 0.06628558039665222, 0.15376543998718262, 0.09359635412693024, 0.14039452373981476, 0.0969390794634819, 0.09359635412693024, 0.08356817066669464, 0.09359635412693024, 0.09025362879037857, 0.08022544533014297, 0.07688271999359131, 0.3232974708080292, 0.3232974708080292, 0.32387852668762207, 0.32387852668762207, 0.10898803174495697, 0.10898803174495697, 0.10898803174495697, 0.10898803174495697, 0.21797606348991394, 0.10898803174495697, 0.10898803174495697, 0.10898803174495697, 0.10898803174495697, 0.10898803174495697, 0.17005963623523712, 0.17005963623523712, 0.17005963623523712, 0.17005963623523712, 0.17005963623523712, 0.17005963623523712, 0.2785432040691376, 0.2785432040691376, 0.11526799201965332, 0.11526799201965332, 0.11526799201965332, 0.11526799201965332, 0.23053598403930664, 0.11526799201965332, 0.11526799201965332, 0.11526799201965332, 0.3233853280544281, 0.08743729442358017, 0.10201017558574677, 0.11401136964559555, 0.095152348279953, 0.09258066117763519, 0.09258066117763519, 0.095152348279953, 0.09000898152589798, 0.10629631578922272, 0.1242981106042862, 0.1146397739648819, 0.1175057664513588, 0.09887680411338806, 0.13040274381637573, 0.048721905797719955, 0.10174280405044556, 0.09672731161117554, 0.12395425885915756, 0.0587528832256794, 0.10819128900766373, 0.12383455783128738, 0.10124311596155167, 0.08116184175014496, 0.0819985568523407, 0.09789624065160751, 0.09705951809883118, 0.10542672127485275, 0.10793688148260117, 0.09203919768333435, 0.11128375679254532, 0.32305365800857544, 0.32305365800857544, 0.15283003449440002, 0.15283003449440002, 0.15283003449440002, 0.15283003449440002, 0.15283003449440002, 0.15283003449440002, 0.15283003449440002, 0.15283003449440002, 0.2668267786502838, 0.2668267786502838, 0.2668267786502838, 0.12719221413135529, 0.12719221413135529, 0.12719221413135529, 0.12719221413135529, 0.12719221413135529, 0.12719221413135529, 0.12719221413135529, 0.12719221413135529, 0.12719221413135529, 0.12719221413135529, 0.26616349816322327, 0.26616349816322327, 0.09713105857372284, 0.13897213339805603, 0.11655727028846741, 0.10460267961025238, 0.09563673287630081, 0.08517646789550781, 0.10310835391283035, 0.09862538427114487, 0.07770484685897827, 0.08368214219808578, 0.32349422574043274, 0.32349422574043274, 0.3237607479095459, 0.3237607479095459, 0.6190568804740906, 0.22654996812343597, 0.22654996812343597, 0.3238082528114319, 0.3231171667575836, 0.15656158328056335, 0.15656158328056335, 0.15656158328056335, 0.15656158328056335, 0.15656158328056335, 0.15656158328056335, 0.15656158328056335, 0.26664242148399353, 0.26664242148399353, 0.11376218497753143, 0.07584145665168762, 0.1011219397187233, 0.06952133774757385, 0.1011219397187233, 0.08848170191049576, 0.1200823038816452, 0.08848170191049576, 0.09480182081460953, 0.1390426754951477, 0.11595658957958221, 0.09500057995319366, 0.09360351413488388, 0.11176539212465286, 0.09360351413488388, 0.0754416361451149, 0.10617712140083313, 0.13970673084259033, 0.09919178485870361, 0.06985336542129517, 0.1272622048854828, 0.1272622048854828, 0.1272622048854828, 0.1272622048854828, 0.1272622048854828, 0.1272622048854828, 0.1272622048854828, 0.1272622048854828, 0.1272622048854828, 0.1272622048854828, 0.34069371223449707, 0.08943533897399902, 0.09332383424043655, 0.09332383424043655, 0.08554684370756149, 0.08554684370756149, 0.10498931258916855, 0.12443177402019501, 0.10887780040502548, 0.08554684370756149, 0.12832026183605194, 0.08177971094846725, 0.14070920646190643, 0.07817178219556808, 0.1358986347913742, 0.06253742426633835, 0.10222464054822922, 0.13830392062664032, 0.09741406887769699, 0.07095592468976974, 0.09260349720716476, 0.191682830452919, 0.191682830452919, 0.191682830452919, 0.191682830452919, 0.1296107918024063, 0.1080089882016182, 0.07920659333467484, 0.0912075936794281, 0.08400699496269226, 0.11760979145765305, 0.0912075936794281, 0.09360779076814651, 0.1272105872631073, 0.07920659333467484, 0.09371094405651093, 0.08850478380918503, 0.08850478380918503, 0.13796333968639374, 0.09110786020755768, 0.10932943969964981, 0.08329861611127853, 0.10932943969964981, 0.11193251609802246, 0.08590169996023178, 0.2660580575466156, 0.2660580575466156, 0.32380715012550354, 0.26697108149528503, 0.26697108149528503, 0.6189505457878113, 0.19305990636348724, 0.09652995318174362, 0.09652995318174362, 0.09652995318174362, 0.09652995318174362, 0.09652995318174362, 0.09652995318174362, 0.09652995318174362, 0.09652995318174362, 0.04826497659087181, 0.08698980510234833, 0.09786353260278702, 0.09475675225257874, 0.13203810155391693, 0.14446520805358887, 0.08077624440193176, 0.0745626911520958, 0.1118440330028534, 0.07766947150230408, 0.09786353260278702, 0.3239004611968994, 0.07295848429203033, 0.09119810909032822, 0.12767735123634338, 0.10031791776418686, 0.08207830041646957, 0.12311744689941406, 0.11399763822555542, 0.0866382047533989, 0.07295848429203033, 0.1322372555732727, 0.12312070280313492, 0.0783495381474495, 0.13111555576324463, 0.10872997343540192, 0.09433924406766891, 0.10633151978254318, 0.10233408957719803, 0.07755005359649658, 0.09833666682243347, 0.0791490226984024, 0.10300179570913315, 0.10300179570913315, 0.06866786628961563, 0.10300179570913315, 0.11158528178930283, 0.07725134491920471, 0.07725134491920471, 0.15450268983840942, 0.10300179570913315, 0.08583483099937439, 0.26703494787216187, 0.26703494787216187, 0.08532629907131195, 0.08532629907131195, 0.08532629907131195, 0.12798945605754852, 0.06399472802877426, 0.06399472802877426, 0.1706525981426239, 0.10665787756443024, 0.08532629907131195, 0.08532629907131195, 0.13128145039081573, 0.08374851197004318, 0.07469461858272552, 0.09053893387317657, 0.10411977022886276, 0.10864672064781189, 0.09732935577630997, 0.13580839335918427, 0.07469461858272552, 0.09959282726049423, 0.10484564304351807, 0.1448776125907898, 0.12200220674276352, 0.06481367349624634, 0.09150165319442749, 0.1258147656917572, 0.08768908679485321, 0.09150165319442749, 0.08959536999464035, 0.07625138014554977, 0.09789372235536575, 0.1103246733546257, 0.08390890806913376, 0.07303182780742645, 0.17247942090034485, 0.1103246733546257, 0.08701664209365845, 0.0854627713561058, 0.11343240737915039, 0.06681635230779648, 0.22700369358062744, 0.22700369358062744, 0.32384076714515686, 0.07155640423297882, 0.07155640423297882, 0.07155640423297882, 0.07155640423297882, 0.07155640423297882, 0.07155640423297882, 0.14311280846595764, 0.14311280846595764, 0.21466922760009766, 0.07155640423297882, 0.15251940488815308, 0.15251940488815308, 0.15251940488815308, 0.30503880977630615, 0.10303556174039841, 0.1431984007358551, 0.1076616495847702, 0.0973580926656723, 0.10408694297075272, 0.13331539928913116, 0.07864347100257874, 0.08347982913255692, 0.07464821636676788, 0.07485848665237427, 0.19139212369918823, 0.19139212369918823, 0.19139212369918823, 0.10798344761133194, 0.0809875875711441, 0.0809875875711441, 0.10798344761133194, 0.10798344761133194, 0.0809875875711441, 0.10798344761133194, 0.0809875875711441, 0.1619751751422882, 0.0809875875711441, 0.11262044310569763, 0.1082039549946785, 0.08832976222038269, 0.09605861455202103, 0.0949544906616211, 0.06624732166528702, 0.1380152553319931, 0.10930807888507843, 0.08612151443958282, 0.10047510266304016, 0.32431405782699585, 0.10522475838661194, 0.165058434009552, 0.1031615287065506, 0.08665568381547928, 0.082529217004776, 0.10728798806667328, 0.09490860253572464, 0.08046598732471466, 0.09490860253572464, 0.08046598732471466, 0.0703028067946434, 0.11742064356803894, 0.10246259719133377, 0.1316307783126831, 0.11068952083587646, 0.1323786824941635, 0.10171470046043396, 0.07329441606998444, 0.08376504480838776, 0.07703392207622528, 0.04867585003376007, 0.09735170006752014, 0.09735170006752014, 0.1460275501012802, 0.04867585003376007, 0.09735170006752014, 0.09735170006752014, 0.09735170006752014, 0.09735170006752014, 0.19470340013504028, 0.16057920455932617, 0.16057920455932617, 0.32115840911865234, 0.16057920455932617, 0.10276615619659424, 0.1429789960384369, 0.11617043614387512, 0.1117023378610611, 0.09382996708154678, 0.08489377796649933, 0.08489377796649933, 0.10276615619659424, 0.07148949801921844, 0.08936186879873276, 0.19152557849884033, 0.19152557849884033, 0.19152557849884033, 0.3408520817756653, 0.32375264167785645, 0.13887912034988403, 0.13887912034988403, 0.13887912034988403, 0.13887912034988403, 0.13887912034988403, 0.13887912034988403, 0.13887912034988403, 0.08407661318778992, 0.09038235992193222, 0.12191108614206314, 0.09038235992193222, 0.10089193284511566, 0.10929959267377853, 0.10719767957925797, 0.13242065906524658, 0.09458618611097336, 0.07146511971950531, 0.13681143522262573, 0.13174434006214142, 0.08614052832126617, 0.07600635290145874, 0.08107344061136246, 0.09120762348175049, 0.14694561064243317, 0.07093925774097443, 0.0962747111916542, 0.08107344061136246, 0.2270166426897049, 0.2270166426897049, 0.2270166426897049, 0.09843137860298157, 0.1119769811630249, 0.10294657945632935, 0.0957222580909729, 0.10475265979766846, 0.1345529854297638, 0.1119769811630249, 0.09120705723762512, 0.06682497262954712, 0.08217665553092957, 0.32355281710624695, 0.32355281710624695, 0.105368971824646, 0.05851340666413307, 0.11366397887468338, 0.15177616477012634, 0.07600017637014389, 0.10043680667877197, 0.11949289590120316, 0.13563452661037445, 0.07555179297924042, 0.06366976350545883, 0.13577210903167725, 0.08297184109687805, 0.11163484305143356, 0.09202331304550171, 0.11414913833141327, 0.07090321183204651, 0.0789489671587944, 0.08096040040254593, 0.1186748743057251, 0.11414913833141327, 0.14468106627464294, 0.09121198207139969, 0.07693742215633392, 0.09193780273199081, 0.07258247584104538, 0.11516419798135757, 0.14758436381816864, 0.08903450518846512, 0.10161546617746353, 0.06919529289007187, 0.22703489661216736, 0.22676289081573486, 0.22676289081573486, 0.22676289081573486, 0.22676289081573486, 0.2836102843284607, 0.14180514216423035, 0.14180514216423035, 0.14180514216423035, 0.14180514216423035, 0.14180514216423035, 0.14180514216423035, 0.14180514216423035, 0.3239365816116333, 0.3239365816116333, 0.06466390937566757, 0.07544122636318207, 0.09699586778879166, 0.09699586778879166, 0.10777318477630615, 0.09699586778879166, 0.11855050176382065, 0.09699586778879166, 0.10777318477630615, 0.15088245272636414, 0.09177858382463455, 0.12332747131586075, 0.13049767911434174, 0.05305949226021767, 0.11615727096796036, 0.09177858382463455, 0.1032509058713913, 0.10468494892120361, 0.10181686282157898, 0.08460838347673416, 0.26656290888786316, 0.26656290888786316, 0.10306728631258011, 0.13019025325775146, 0.07051972299814224, 0.09221809357404709, 0.17358700931072235, 0.07594431191682816, 0.08679350465536118, 0.0976426899433136, 0.0976426899433136, 0.07051972299814224, 0.10127291083335876, 0.11284696310758591, 0.08391184359788895, 0.08391184359788895, 0.09837940335273743, 0.08680535107851028, 0.10995344817638397, 0.08391184359788895, 0.1041664257645607, 0.13310153782367706, 0.09786250442266464, 0.12546475231647491, 0.0928439125418663, 0.08029744029045105, 0.08280673623085022, 0.15557628870010376, 0.07778814435005188, 0.0928439125418663, 0.09786250442266464, 0.09786250442266464, 0.12650436162948608, 0.08307748287916183, 0.08685373514890671, 0.09818248450756073, 0.13405685126781464, 0.10384685546159744, 0.09440623223781586, 0.07930123805999756, 0.09062998741865158, 0.10573498159646988, 0.13601453602313995, 0.13601453602313995, 0.13601453602313995, 0.13601453602313995, 0.13601453602313995, 0.13601453602313995, 0.13601453602313995, 0.13601453602313995, 0.13601453602313995, 0.323982834815979, 0.323982834815979, 0.14324042201042175, 0.08646043390035629, 0.10065542906522751, 0.10323633253574371, 0.0903317928314209, 0.0942031592130661, 0.10839815437793732, 0.11485042423009872, 0.07742725312709808, 0.08258906751871109, 0.32366397976875305, 0.32366397976875305, 0.1272558867931366, 0.1272558867931366, 0.1272558867931366, 0.1272558867931366, 0.2545117735862732, 0.1272558867931366, 0.1272558867931366, 0.1272558867931366, 0.1272558867931366, 0.1272558867931366, 0.09923384338617325, 0.10809400677680969, 0.14353466033935547, 0.10100587457418442, 0.11518213897943497, 0.062021151185035706, 0.08860164135694504, 0.07619741559028625, 0.10100587457418442, 0.10632197558879852, 0.08514472842216492, 0.1268482655286789, 0.14074943959712982, 0.10425885021686554, 0.10773414373397827, 0.0660306066274643, 0.08166943490505219, 0.10947179049253464, 0.10252120345830917, 0.07471884042024612, 0.2663794755935669, 0.2663794755935669, 0.10008155554533005, 0.11228662729263306, 0.090317502617836, 0.09519952535629272, 0.1415787935256958, 0.0707893967628479, 0.1220506802201271, 0.08299446105957031, 0.09519952535629272, 0.090317502617836, 0.32408031821250916, 0.1040058359503746, 0.11556203663349152, 0.08089342713356018, 0.10631707310676575, 0.11325079947710037, 0.08551590889692307, 0.09707210958003998, 0.07164846360683441, 0.10169459134340286, 0.1201845183968544, 0.19730457663536072, 0.19730457663536072, 0.19730457663536072, 0.19730457663536072, 0.2266416847705841, 0.2266416847705841, 0.12718768417835236, 0.12718768417835236, 0.12718768417835236, 0.2543753683567047, 0.12718768417835236, 0.12718768417835236, 0.12718768417835236, 0.3396177887916565, 0.16980889439582825, 0.16980889439582825, 0.16980889439582825, 0.16980889439582825, 0.32378795742988586, 0.32378795742988586, 0.2269819676876068, 0.2269819676876068, 0.26694294810295105, 0.07817668467760086, 0.12284907698631287, 0.08376073092222214, 0.06700858473777771, 0.09492883086204529, 0.10051287710666656, 0.1396012157201767, 0.09492883086204529, 0.07259263843297958, 0.14518527686595917, 0.19138582050800323, 0.19138582050800323, 0.19138582050800323, 0.19138582050800323, 0.19138582050800323, 0.2778370976448059, 0.2778370976448059, 0.3233221471309662, 0.11789017915725708, 0.06105026975274086, 0.05894508957862854, 0.09894353896379471, 0.09894353896379471, 0.14946790039539337, 0.1199953556060791, 0.0757865458726883, 0.1199953556060791, 0.09473317861557007, 0.3408581614494324, 0.22701570391654968, 0.22701570391654968, 0.22701570391654968, 0.3239165246486664, 0.19147709012031555, 0.19147709012031555, 0.19147709012031555, 0.19147709012031555, 0.32392418384552, 0.26681026816368103, 0.26681026816368103, 0.10986797511577606, 0.09338778257369995, 0.1648019701242447, 0.11536137759685516, 0.05768068879842758, 0.0961344763636589, 0.09338778257369995, 0.08240098506212234, 0.10986797511577606, 0.0796542838215828, 0.10687519609928131, 0.09160730987787247, 0.09160730987787247, 0.09378843754529953, 0.10905632376670837, 0.09378843754529953, 0.12868645787239075, 0.10469406843185425, 0.08288280665874481, 0.10033181309700012, 0.13881221413612366, 0.13881221413612366, 0.13881221413612366, 0.13881221413612366, 0.13881221413612366, 0.13881221413612366, 0.2776244282722473, 0.13881221413612366, 0.13881221413612366, 0.13881221413612366, 0.08764245361089706, 0.09530053287744522, 0.10210771858692169, 0.09019514918327332, 0.10295861214399338, 0.1395472139120102, 0.07998437434434891, 0.11572208255529404, 0.09530053287744522, 0.09019514918327332, 0.3403731882572174, 0.32377830147743225, 0.06736073642969131, 0.11951098591089249, 0.09560878574848175, 0.09995464235544205, 0.14558610320091248, 0.1021275669336319, 0.1064734235405922, 0.09126293659210205, 0.0890900045633316, 0.08257122337818146, 0.1914389729499817, 0.1914389729499817, 0.1914389729499817, 0.07549341022968292, 0.10330677032470703, 0.09138675779104233, 0.10132010281085968, 0.09337342530488968, 0.08741342276334763, 0.11522678285837173, 0.10330677032470703, 0.09734676778316498, 0.1331067979335785, 0.26642128825187683, 0.26642128825187683, 0.26642128825187683, 0.12822186946868896, 0.09819333255290985, 0.09068619459867477, 0.0879836305975914, 0.10960417985916138, 0.0927881971001625, 0.0801762044429779, 0.1411341428756714, 0.08077678084373474, 0.09038591384887695, 0.09865310043096542, 0.09106440097093582, 0.09485875070095062, 0.14418530464172363, 0.09106440097093582, 0.10624179989099503, 0.07968135178089142, 0.08727005124092102, 0.11003614962100983, 0.09865310043096542, 0.16987258195877075, 0.3397451639175415, 0.16987258195877075, 0.1014767438173294, 0.14525102078914642, 0.10346648097038269, 0.09351778030395508, 0.08555882424116135, 0.06168194115161896, 0.09351778030395508, 0.09948699921369553, 0.12137414515018463, 0.09351778030395508, 0.0735439881682396, 0.10631111264228821, 0.12451507151126862, 0.11359269171953201, 0.09320425987243652, 0.15291324257850647, 0.08228188753128052, 0.10121400654315948, 0.09684505313634872, 0.055340029299259186, 0.11487822234630585, 0.15677498281002045, 0.09190257638692856, 0.08109050989151001, 0.10001163184642792, 0.09730861335992813, 0.07162994891405106, 0.07973900437355042, 0.12028425931930542, 0.08514503389596939, 0.0843975618481636, 0.07234076410531998, 0.09645435214042664, 0.09645435214042664, 0.0843975618481636, 0.0843975618481636, 0.09645435214042664, 0.10851114988327026, 0.1687951236963272, 0.09645435214042664, 0.1010274738073349, 0.11172450333833694, 0.14143846929073334, 0.06774783879518509, 0.10697026550769806, 0.14975836873054504, 0.08082198351621628, 0.09627324342727661, 0.08914189040660858, 0.0546736940741539, 0.1137787476181984, 0.1137787476181984, 0.10565169155597687, 0.06501642614603043, 0.08127053081989288, 0.16254106163978577, 0.08127053081989288, 0.08127053081989288, 0.09752463549375534, 0.09752463549375534, 0.10623406618833542, 0.08415945619344711, 0.08277979493141174, 0.07450181245803833, 0.12141036242246628, 0.10761372745037079, 0.12416968494653702, 0.10485440492630005, 0.0979560911655426, 0.0938170999288559, 0.22694188356399536, 0.14719034731388092, 0.0994180366396904, 0.08779774606227875, 0.10587375611066818, 0.09812689572572708, 0.1149117574095726, 0.09683575481176376, 0.0916711762547493, 0.055519163608551025, 0.10329146683216095, 0.1302364468574524, 0.11891153454780579, 0.0931159108877182, 0.08619513362646103, 0.08179100602865219, 0.1264614760875702, 0.08619513362646103, 0.07298274338245392, 0.12205734103918076, 0.08242016285657883, 0.10130003839731216, 0.08863753080368042, 0.08652711659669876, 0.12240421026945114, 0.07597503066062927, 0.10130003839731216, 0.09285836666822433, 0.09074795246124268, 0.11396253854036331, 0.1245146319270134, 0.0702546164393425, 0.12024348229169846, 0.10403087735176086, 0.13105188310146332, 0.15672184526920319, 0.10267982631921768, 0.06349936872720718, 0.062148317694664, 0.10403087735176086, 0.08646722137928009, 0.26702046394348145, 0.26702046394348145, 0.26702046394348145, 0.10595537722110748, 0.09889168292284012, 0.06357322633266449, 0.09889168292284012, 0.08476430177688599, 0.16952860355377197, 0.08476430177688599, 0.09182799607515335, 0.09889168292284012, 0.11301907151937485, 0.12958286702632904, 0.12958286702632904, 0.12958286702632904, 0.12958286702632904, 0.12958286702632904, 0.12958286702632904, 0.12958286702632904, 0.2591657340526581, 0.12958286702632904, 0.19153086841106415, 0.19153086841106415, 0.19153086841106415, 0.07772702723741531, 0.07772702723741531, 0.13945142924785614, 0.12573489546775818, 0.08229920268058777, 0.08915746957063675, 0.13716533780097961, 0.10516009479761124, 0.07772702723741531, 0.08687138557434082, 0.15267793834209442, 0.15267793834209442, 0.15267793834209442, 0.30535587668418884, 0.15267793834209442, 0.15267793834209442, 0.10966640710830688, 0.07311093807220459, 0.17546625435352325, 0.08042202889919281, 0.06579983979463577, 0.08773312717676163, 0.12428858876228333, 0.10235530883073807, 0.08773312717676163, 0.08773312717676163, 0.2670964002609253, 0.2670964002609253, 0.08527003228664398, 0.07751820981502533, 0.09043791145086288, 0.1369488388299942, 0.09818973392248154, 0.09043791145086288, 0.1369488388299942, 0.10852549970149994, 0.08527003228664398, 0.08785397559404373, 0.2665897607803345, 0.2665897607803345, 0.11693516373634338, 0.1267971694469452, 0.07185173034667969, 0.07607830315828323, 0.10848201811313629, 0.07748715579509735, 0.1000288724899292, 0.1000288724899292, 0.13806802034378052, 0.08312258869409561, 0.10126317292451859, 0.16344231367111206, 0.1083693653345108, 0.09238044172525406, 0.09948662668466568, 0.09948662668466568, 0.08705080300569534, 0.09771008044481277, 0.08172115683555603, 0.0728384256362915, 0.4541785418987274, 0.2270892709493637, 0.11553038656711578, 0.06931823492050171, 0.09242431074380875, 0.06931823492050171, 0.1848486214876175, 0.06931823492050171, 0.11553038656711578, 0.11553038656711578, 0.06931823492050171, 0.09242431074380875, 0.09888110309839249, 0.129886195063591, 0.12485834211111069, 0.11145073175430298, 0.07625576108694077, 0.08966337144374847, 0.08714944124221802, 0.09469122439622879, 0.08966337144374847, 0.09888110309839249, 0.323540598154068, 0.323540598154068, 0.06402818113565445, 0.1143360286951065, 0.10061571002006531, 0.1554969996213913, 0.09146882593631744, 0.1143360286951065, 0.08232194185256958, 0.08232194185256958, 0.1143360286951065, 0.07317505776882172, 0.10162503272294998, 0.20325006544589996, 0.10162503272294998, 0.10162503272294998, 0.10162503272294998, 0.10162503272294998, 0.10162503272294998, 0.20325006544589996, 0.10162503272294998, 0.10162503272294998, 0.0839315801858902, 0.11190877109766006, 0.0839315801858902, 0.0839315801858902, 0.0839315801858902, 0.11190877109766006, 0.0839315801858902, 0.0839315801858902, 0.1678631603717804, 0.11190877109766006, 0.10904987156391144, 0.08481656759977341, 0.06462214887142181, 0.09693321585655212, 0.10904987156391144, 0.07673879712820053, 0.12924429774284363, 0.14539982378482819, 0.10097210109233856, 0.08077768236398697, 0.09099307656288147, 0.1364896148443222, 0.08871825039386749, 0.11032910645008087, 0.11260393261909485, 0.1069168671965599, 0.11942841857671738, 0.09326790273189545, 0.08303118497133255, 0.059145502746105194, 0.19140969216823578, 0.19140969216823578, 0.19140969216823578, 0.22697825729846954, 0.22697825729846954, 0.32439303398132324, 0.19141602516174316, 0.19141602516174316, 0.19141602516174316, 0.19141602516174316, 0.22697439789772034, 0.22697439789772034, 0.22697439789772034, 0.3237340450286865, 0.2854798138141632, 0.09515993297100067, 0.09515993297100067, 0.09515993297100067, 0.09515993297100067, 0.09515993297100067, 0.09515993297100067, 0.09515993297100067, 0.09515993297100067, 0.09515993297100067, 0.26698002219200134, 0.26698002219200134, 0.11583027988672256, 0.09766082465648651, 0.10447437316179276, 0.11355909705162048, 0.09538964182138443, 0.0863049179315567, 0.1112879142165184, 0.0749490037560463, 0.07267782092094421, 0.12491500377655029, 0.32398277521133423, 0.15194416046142578, 0.108148492872715, 0.08669755607843399, 0.09563544392585754, 0.108148492872715, 0.1009981781244278, 0.08580376207828522, 0.08312239497900009, 0.09384787082672119, 0.08669755607843399, 0.07283177226781845, 0.1036224439740181, 0.16165101528167725, 0.11013585329055786, 0.10066179931163788, 0.08467433601617813, 0.08822710812091827, 0.0911877453327179, 0.0911877453327179, 0.09592477232217789, 0.10632045567035675, 0.08399315923452377, 0.10632045567035675, 0.07548752427101135, 0.13077415525913239, 0.11269968003034592, 0.10100442916154861, 0.0924987941980362, 0.0850563645362854, 0.10525725036859512, 0.1070764809846878, 0.1070764809846878, 0.1070764809846878, 0.2141529619693756, 0.1070764809846878, 0.1070764809846878, 0.1070764809846878, 0.1070764809846878, 0.1070764809846878, 0.1070764809846878, 0.32365599274635315, 0.09109660238027573, 0.1214621365070343, 0.16701044142246246, 0.10627937316894531, 0.07591383904218674, 0.12652306258678436, 0.05567014589905739, 0.09615752846002579, 0.0809747576713562, 0.07085291296243668, 0.22643978893756866, 0.22643978893756866, 0.22643978893756866, 0.12585313618183136, 0.08390209823846817, 0.1782919466495514, 0.11536537855863571, 0.08390209823846817, 0.08390209823846817, 0.10487762093544006, 0.06292656809091568, 0.06292656809091568, 0.11536537855863571, 0.1565483808517456, 0.1565483808517456, 0.3130967617034912, 0.1565483808517456, 0.1565483808517456, 0.1565483808517456, 0.09209225326776505, 0.12042833119630814, 0.08855024725198746, 0.07084019482135773, 0.102718286216259, 0.102718286216259, 0.09917627274990082, 0.155848428606987, 0.10980230569839478, 0.05667215585708618, 0.4394261837005615, 0.3232226073741913, 0.3232226073741913, 0.12761734426021576, 0.1421036422252655, 0.1372748762369156, 0.0682925209403038, 0.08967705070972443, 0.09588546305894852, 0.08898723125457764, 0.09243634343147278, 0.08346863836050034, 0.0738111138343811, 0.10821078717708588, 0.1438329666852951, 0.10081750154495239, 0.11089925467967987, 0.08603093773126602, 0.0988011509180069, 0.07124436646699905, 0.09006363153457642, 0.09342421591281891, 0.0961126834154129, 0.32394590973854065, 0.32394590973854065, 0.32369861006736755, 0.0970926508307457, 0.11327475309371948, 0.0890015959739685, 0.0970926508307457, 0.06472843140363693, 0.16182108223438263, 0.10518369823694229, 0.0970926508307457, 0.08091054111719131, 0.0890015959739685, 0.10316000133752823, 0.10076092928647995, 0.10795814543962479, 0.13914604485034943, 0.09116465598344803, 0.10795814543962479, 0.08396744728088379, 0.07197209447622299, 0.10076092928647995, 0.09596279263496399, 0.08844727277755737, 0.17689454555511475, 0.17689454555511475, 0.08844727277755737, 0.08844727277755737, 0.08844727277755737, 0.08844727277755737, 0.08844727277755737, 0.08844727277755737, 0.08844727277755737, 0.19158005714416504, 0.19158005714416504, 0.19158005714416504, 0.19158005714416504, 0.3410322964191437, 0.32336610555648804, 0.26676541566848755, 0.09907306730747223, 0.10630468279123306, 0.08750249445438385, 0.11208996921777725, 0.08677933365106583, 0.10919732600450516, 0.09690358489751816, 0.14029325544834137, 0.06653082370758057, 0.09545726329088211, 0.17005661129951477, 0.17005661129951477, 0.17005661129951477, 0.17005661129951477, 0.3237522542476654, 0.16997241973876953, 0.16997241973876953, 0.16997241973876953, 0.16997241973876953, 0.16997241973876953, 0.22635717689990997, 0.22635717689990997, 0.22635717689990997, 0.32365426421165466, 0.32365426421165466, 0.2266208678483963, 0.2266208678483963, 0.13367362320423126, 0.13236309587955475, 0.11532626301050186, 0.11270521581172943, 0.09435785561800003, 0.07469996809959412, 0.12187889218330383, 0.07207891345024109, 0.07601049542427063, 0.06552628427743912, 0.075630322098732, 0.09031794965267181, 0.11837789416313171, 0.09119482338428497, 0.11399352550506592, 0.0819876492023468, 0.14314955472946167, 0.10675931721925735, 0.09886746108531952, 0.07957624644041061, 0.09997668117284775, 0.10934948921203613, 0.10934948921203613, 0.11872230470180511, 0.0874795913696289, 0.08435532450675964, 0.07498250901699066, 0.13434366881847382, 0.08123105019330978, 0.10310094803571701, 0.32303187251091003, 0.32303187251091003, 0.10514437407255173, 0.09600138664245605, 0.07314391434192657, 0.11885885894298553, 0.08685839921236038, 0.15543080866336823, 0.08228690177202225, 0.11885885894298553, 0.08685839921236038, 0.07771540433168411, 0.32434964179992676, 0.32434964179992676, 0.32386136054992676, 0.09687825292348862, 0.10568536818027496, 0.13014957308769226, 0.11547105014324188, 0.08807113766670227, 0.09981395304203033, 0.09198541194200516, 0.09785681962966919, 0.08904970437288284, 0.08611400425434113, 0.13157567381858826, 0.08466608077287674, 0.11212535202503204, 0.08809848874807358, 0.0812336727976799, 0.09839571267366409, 0.09725157916545868, 0.09725157916545868, 0.12013430148363113, 0.08924262970685959, 0.11891148239374161, 0.08292511850595474, 0.16585023701190948, 0.13299310207366943, 0.07353736460208893, 0.09231286495923996, 0.08136048913002014, 0.09074823558330536, 0.06884349137544632, 0.09231286495923996, 0.07845490425825119, 0.07845490425825119, 0.11768236011266708, 0.11768236011266708, 0.07845490425825119, 0.07845490425825119, 0.19613726437091827, 0.07845490425825119, 0.11768236011266708, 0.07845490425825119, 0.2663278877735138, 0.2663278877735138, 0.08160588890314102, 0.1042741909623146, 0.0838727205991745, 0.12920932471752167, 0.1042741909623146, 0.07933905720710754, 0.1156083419919014, 0.07480540126562119, 0.13827665150165558, 0.08840638399124146, 0.3237120807170868, 0.26682817935943604, 0.08514364063739777, 0.11455689370632172, 0.13468176126480103, 0.061922647058963776, 0.08978784084320068, 0.13932596147060394, 0.07121104001998901, 0.09288396686315536, 0.1021723672747612, 0.10836463421583176, 0.08616744726896286, 0.10232384502887726, 0.11848024278879166, 0.09155291318893433, 0.129251167178154, 0.09155291318893433, 0.07539651542901993, 0.07001104950904846, 0.09155291318893433, 0.14002209901809692, 0.0925164446234703, 0.11623860895633698, 0.10200531035661697, 0.09726087749004364, 0.14470520615577698, 0.09488865733146667, 0.11149417608976364, 0.09963309019804001, 0.07591092586517334, 0.06879428029060364, 0.32325661182403564, 0.4400518834590912, 0.10259266942739487, 0.08286330848932266, 0.09864679723978043, 0.1736183613538742, 0.10259266942739487, 0.0868091806769371, 0.055242206901311874, 0.10259266942739487, 0.10653854161500931, 0.09470092505216599, 0.22690683603286743, 0.22690683603286743, 0.22690683603286743, 0.19160659611225128, 0.19160659611225128, 0.19160659611225128, 0.12982580065727234, 0.12982580065727234, 0.12982580065727234, 0.12982580065727234, 0.12982580065727234, 0.12982580065727234, 0.12982580065727234, 0.12982580065727234, 0.17451442778110504, 0.17451442778110504, 0.17451442778110504, 0.17451442778110504, 0.17451442778110504, 0.10689181834459305, 0.12203482538461685, 0.07571503520011902, 0.11936252564191818, 0.10421951860189438, 0.1202532947063446, 0.0712612122297287, 0.08016886562108994, 0.08195039629936218, 0.11758099496364594, 0.2665310204029083, 0.27737361192703247, 0.13868680596351624, 0.13868680596351624, 0.13868680596351624, 0.13868680596351624, 0.13868680596351624, 0.22692857682704926, 0.11260723322629929, 0.09158721566200256, 0.11035509407520294, 0.10359865427017212, 0.10660151392221451, 0.12762153148651123, 0.09083650261163712, 0.11711152642965317, 0.0698164850473404, 0.0698164850473404, 0.08072171360254288, 0.08969079703092575, 0.11061865091323853, 0.09268049150705338, 0.14649496972560883, 0.08670110255479813, 0.0956701785326004, 0.10463926196098328, 0.10164956748485565, 0.09268049150705338, 0.1759178340435028, 0.08332950621843338, 0.10184717178344727, 0.09258833527565002, 0.12036483734846115, 0.09876089543104172, 0.08332950621843338, 0.06789811700582504, 0.11419228464365005, 0.0586392804980278, 0.32372137904167175, 0.32372137904167175, 0.10025304555892944, 0.09079521149396896, 0.08890364319086075, 0.12484341859817505, 0.0832289457321167, 0.0945783481001854, 0.13997595012187958, 0.08701208233833313, 0.09646991640329361, 0.0945783481001854, 0.11553578078746796, 0.11837682127952576, 0.10322459042072296, 0.10417160391807556, 0.12879398465156555, 0.15531039237976074, 0.06723803281784058, 0.09091340005397797, 0.06344997882843018, 0.05492684617638588, 0.22680743038654327, 0.22680743038654327, 0.22680743038654327, 0.07907038182020187, 0.10723243653774261, 0.13972711563110352, 0.09206825494766235, 0.11698084324598312, 0.10723243653774261, 0.1083155944943428, 0.09965034574270248, 0.07798723131418228, 0.07148829102516174, 0.3242436647415161, 0.3242436647415161, 0.11947806179523468, 0.11947806179523468, 0.11947806179523468, 0.23895612359046936, 0.11947806179523468, 0.11947806179523468, 0.11947806179523468, 0.11947806179523468, 0.11947806179523468, 0.32407283782958984, 0.10670958459377289, 0.08863779902458191, 0.07831106334924698, 0.12306024134159088, 0.11445463448762894, 0.12478137016296387, 0.09724341332912445, 0.09380116313695908, 0.08605611324310303, 0.08691667765378952, 0.09541074186563492, 0.1251288503408432, 0.08759018778800964, 0.10166718810796738, 0.10948773473501205, 0.1345135122537613, 0.09228251874446869, 0.06412853300571442, 0.12200061976909637, 0.07038497179746628, 0.09307491779327393, 0.09307491779327393, 0.09307491779327393, 0.09307491779327393, 0.08273325860500336, 0.09307491779327393, 0.09307491779327393, 0.15512485802173615, 0.1034165769815445, 0.09307491779327393, 0.17453275620937347, 0.17453275620937347, 0.17453275620937347, 0.17453275620937347, 0.3239774703979492, 0.11011160165071487, 0.08353293687105179, 0.09998639672994614, 0.1050489991903305, 0.09112684428691864, 0.12403375655412674, 0.10631465166807175, 0.1227681040763855, 0.06328252702951431, 0.09492379426956177, 0.08925184607505798, 0.08925184607505798, 0.08925184607505798, 0.08925184607505798, 0.14025290310382843, 0.07650158554315567, 0.17850369215011597, 0.1020021140575409, 0.05100105702877045, 0.1020021140575409, 0.32305625081062317, 0.1248588040471077, 0.14769883453845978, 0.09288276731967926, 0.08526942878961563, 0.11724546551704407, 0.0837467610836029, 0.10658678412437439, 0.09592811018228531, 0.06395207345485687, 0.08070142567157745, 0.11700766533613205, 0.10787536203861237, 0.12927919626235962, 0.11443920433521271, 0.11814920604228973, 0.09617459028959274, 0.0995992049574852, 0.09132305532693863, 0.05993075668811798, 0.06620921194553375, 0.1388915628194809, 0.1388915628194809, 0.1388915628194809, 0.2777831256389618, 0.1388915628194809, 0.1388915628194809, 0.32281190156936646, 0.32281190156936646, 0.32378482818603516, 0.3232273757457733, 0.07031264156103134, 0.11132834851741791, 0.1230471208691597, 0.1230471208691597, 0.11132834851741791, 0.08789080381393433, 0.14941436052322388, 0.07031264156103134, 0.09667988121509552, 0.05859386920928955, 0.1419447809457779, 0.1419447809457779, 0.1419447809457779, 0.1419447809457779, 0.1419447809457779, 0.1419447809457779, 0.1419447809457779, 0.1419447809457779, 0.10288792848587036, 0.0876452773809433, 0.0990772694349289, 0.15623722970485687, 0.09145593643188477, 0.10669859498739243, 0.0876452773809433, 0.09526660293340683, 0.07240261882543564, 0.0990772694349289, 0.2667500078678131, 0.19131037592887878, 0.19131037592887878, 0.19131037592887878, 0.19131037592887878, 0.19131037592887878, 0.0894860327243805, 0.07781393826007843, 0.11672090739011765, 0.1089395135641098, 0.07262634485960007, 0.0894860327243805, 0.10504882037639618, 0.1413619965314865, 0.07132944464683533, 0.12709610164165497, 0.08645433187484741, 0.17290866374969482, 0.08645433187484741, 0.09880495071411133, 0.0741037130355835, 0.11115556210279465, 0.08645433187484741, 0.09880495071411133, 0.11115556210279465, 0.0741037130355835, 0.19730603694915771, 0.19730603694915771, 0.19730603694915771, 0.19730603694915771, 0.32327574491500854, 0.32327574491500854, 0.11002065241336823, 0.14598894119262695, 0.11425220966339111, 0.07193657755851746, 0.12059956043958664, 0.09097861498594284, 0.11213643103837967, 0.07616814225912094, 0.08674705028533936, 0.06982079893350601, 0.07911131531000137, 0.11646943539381027, 0.11427189409732819, 0.11427189409732819, 0.12086450308561325, 0.09888914227485657, 0.08570392429828644, 0.08350638300180435, 0.06592608988285065, 0.11866696923971176, 0.13712935149669647, 0.07750789076089859, 0.11924291402101517, 0.16097792983055115, 0.08347003906965256, 0.10135647654533386, 0.08943218737840652, 0.059621457010507584, 0.08347003906965256, 0.08943218737840652, 0.32393190264701843, 0.32393190264701843, 0.16975677013397217, 0.16975677013397217, 0.16975677013397217, 0.16975677013397217, 0.16975677013397217, 0.19117681682109833, 0.19117681682109833, 0.19117681682109833, 0.19117681682109833, 0.19117681682109833, 0.6200698614120483, 0.11744718998670578, 0.10616695135831833, 0.07166269421577454, 0.08891482651233673, 0.11213884502649307, 0.09754088521003723, 0.11412947624921799, 0.1021856889128685, 0.07896167039871216, 0.1108117550611496, 0.12463195621967316, 0.0830879732966423, 0.12463195621967316, 0.0830879732966423, 0.06231597810983658, 0.1661759465932846, 0.10385996103286743, 0.10385996103286743, 0.06231597810983658, 0.06231597810983658, 0.17053161561489105, 0.12371901422739029, 0.09028144180774689, 0.060187626630067825, 0.12204713374376297, 0.12204713374376297, 0.0919533222913742, 0.0919533222913742, 0.055171992629766464, 0.06854701787233353, 0.26676130294799805, 0.09546000510454178, 0.15331454575061798, 0.10413818806409836, 0.06074727326631546, 0.09546000510454178, 0.09256727248430252, 0.09835273027420044, 0.0723181813955307, 0.11860182136297226, 0.10703091323375702, 0.12804193794727325, 0.09603144973516464, 0.08864441514015198, 0.16251476109027863, 0.12804193794727325, 0.08371973037719727, 0.06402096897363663, 0.09110676497220993, 0.08125738054513931, 0.0763326957821846, 0.09032179415225983, 0.13030028343200684, 0.11993549764156342, 0.0695922002196312, 0.11253207176923752, 0.09772522002458572, 0.08736041933298111, 0.08884111046791077, 0.11845480650663376, 0.08736041933298111, 0.3233698308467865, 0.3233698308467865, 0.3240720331668854, 0.12041676044464111, 0.0838344544172287, 0.0975528135895729, 0.09907707571983337, 0.10517413169145584, 0.11736822873353958, 0.09450428932905197, 0.12041676044464111, 0.07316461205482483, 0.08993150293827057, 0.08685503154993057, 0.09988328814506531, 0.0901120975613594, 0.09988328814506531, 0.13028255105018616, 0.13571098446846008, 0.12051136046648026, 0.0825122818350792, 0.057541459798812866, 0.09771191328763962, 0.41679638624191284, 0.13893212378025055, 0.13893212378025055, 0.13893212378025055, 0.13893212378025055, 0.13893212378025055, 0.2784193158149719, 0.11425375193357468, 0.11810500174760818, 0.08344375342130661, 0.1219562515616417, 0.0757412537932396, 0.12709125876426697, 0.10398375242948532, 0.07445750385522842, 0.09371375292539597, 0.08857875317335129, 0.09939562529325485, 0.17083622515201569, 0.07454671710729599, 0.10560784488916397, 0.07454671710729599, 0.12735064327716827, 0.09318339824676514, 0.07454671710729599, 0.09318339824676514, 0.09318339824676514, 0.07019731402397156, 0.10919582098722458, 0.12219532579183578, 0.11179572343826294, 0.08839661628007889, 0.09099651873111725, 0.1013961210846901, 0.14039462804794312, 0.07799701392650604, 0.08839661628007889, 0.12137434631586075, 0.0766574814915657, 0.14266808331012726, 0.09582185000181198, 0.1256330907344818, 0.09156309813261032, 0.09582185000181198, 0.09582185000181198, 0.09156309813261032, 0.06388123333454132, 0.14185571670532227, 0.14185571670532227, 0.14185571670532227, 0.14185571670532227, 0.14185571670532227, 0.14185571670532227, 0.09948541224002838, 0.07652723789215088, 0.09183268994092941, 0.09183268994092941, 0.07652723789215088, 0.10713813453912735, 0.15305447578430176, 0.09948541224002838, 0.11479085683822632, 0.09183268994092941, 0.15222740173339844, 0.1031217947602272, 0.09330067038536072, 0.11294291168451309, 0.15713796019554138, 0.0687478631734848, 0.09821122884750366, 0.08839010447263718, 0.08347954601049423, 0.04419505223631859, 0.09232613444328308, 0.08393284678459167, 0.1091127023100853, 0.10351718217134476, 0.09232613444328308, 0.10071942210197449, 0.13988807797431946, 0.07553956657648087, 0.1091127023100853, 0.09512389451265335, 0.17362891137599945, 0.12910868227481842, 0.1202046275138855, 0.08013641834259033, 0.06678035110235214, 0.11130058020353317, 0.11575260758399963, 0.06232832744717598, 0.08904046565294266, 0.05787630379199982, 0.4401966333389282, 0.10192001610994339, 0.09599442780017853, 0.08769861608743668, 0.07110698521137238, 0.06518140435218811, 0.12443722784519196, 0.11258605867624283, 0.11377117782831192, 0.08532838523387909, 0.14221397042274475, 0.13594111800193787, 0.13594111800193787, 0.13594111800193787, 0.13594111800193787, 0.13594111800193787, 0.13594111800193787, 0.27188223600387573, 0.13594111800193787, 0.13594111800193787, 0.08110304921865463, 0.12710179388523102, 0.08836600929498672, 0.11772046983242035, 0.08564239740371704, 0.08170829713344574, 0.1062207892537117, 0.1095496416091919, 0.10743127763271332, 0.09502372145652771, 0.07374495267868042, 0.09067002683877945, 0.08583429455757141, 0.10517723113298416, 0.1160576343536377, 0.09187895804643631, 0.09671469777822495, 0.11726656556129456, 0.12331123650074005, 0.10034149885177612, 0.15152683854103088, 0.12895901501178741, 0.09349528700113297, 0.11391379684209824, 0.08274870365858078, 0.0698527991771698, 0.09456994384527206, 0.07522609084844589, 0.09027130901813507, 0.09994323551654816, 0.10526316612958908, 0.11092247813940048, 0.08149406313896179, 0.11318619549274445, 0.11884550750255585, 0.1380871683359146, 0.09734012931585312, 0.06791172176599503, 0.07130730897188187, 0.09620826691389084, 0.12137755006551743, 0.08091836422681808, 0.1332773119211197, 0.0975780338048935, 0.07139855623245239, 0.0880582258105278, 0.10233793407678604, 0.1332773119211197, 0.08091836422681808, 0.0880582258105278, 0.11091446876525879, 0.09506954252719879, 0.0792246162891388, 0.09506954252719879, 0.0633796975016594, 0.09506954252719879, 0.09506954252719879, 0.09506954252719879, 0.09506954252719879, 0.1584492325782776, 0.4393586218357086, 0.10665275156497955, 0.07451082766056061, 0.0891207903623581, 0.1271066963672638, 0.11834072321653366, 0.09058178961277008, 0.12126271426677704, 0.0876597985625267, 0.09642577171325684, 0.09058178961277008, 0.11343444883823395, 0.1013062372803688, 0.08632433414459229, 0.09203172475099564, 0.09702569246292114, 0.11842842400074005, 0.10487335920333862, 0.1013062372803688, 0.10630021244287491, 0.0784766674041748, 0.17003995180130005, 0.17003995180130005, 0.17003995180130005, 0.17003995180130005, 0.15627624094486237, 0.07813812047243118, 0.07813812047243118, 0.15627624094486237, 0.07813812047243118, 0.07813812047243118, 0.07813812047243118, 0.07813812047243118, 0.07813812047243118, 0.07813812047243118, 0.23512451350688934, 0.23512451350688934, 0.267018586397171, 0.43964898586273193, 0.0844813734292984, 0.12752920389175415, 0.10546719282865524, 0.09901001304388046, 0.09847191721200943, 0.10008621215820312, 0.1366768777370453, 0.0828670784831047, 0.08555757254362106, 0.08017659187316895, 0.0818684920668602, 0.10688386112451553, 0.1023356169462204, 0.10006149113178253, 0.122802734375, 0.1057467982172966, 0.08300555497407913, 0.09323911368846893, 0.10006149113178253, 0.10347267985343933, 0.07163778692483902, 0.07163778692483902, 0.07163778692483902, 0.07163778692483902, 0.07163778692483902, 0.14327557384967804, 0.21491335332393646, 0.07163778692483902, 0.14327557384967804, 0.07163778692483902, 0.12958510220050812, 0.14439482986927032, 0.08330471068620682, 0.12773388624191284, 0.08330471068620682, 0.07960227876901627, 0.11847780644893646, 0.08145349472761154, 0.06664376705884933, 0.0851559266448021, 0.43911445140838623, 0.10515234619379044, 0.11258736252784729, 0.09240660816431046, 0.1094009280204773, 0.09134446829557419, 0.11577379703521729, 0.09453090280294418, 0.09453090280294418, 0.08709588646888733, 0.09877947717905045, 0.1010967418551445, 0.08884259313344955, 0.15011334419250488, 0.1347956508398056, 0.07658844441175461, 0.07658844441175461, 0.12866857647895813, 0.07658844441175461, 0.07965198159217834, 0.08884259313344955, 0.10816057026386261, 0.1252385526895523, 0.09962157905101776, 0.08538992702960968, 0.09108258783817291, 0.09677524864673615, 0.08254359662532806, 0.13377755880355835, 0.09108258783817291, 0.0882362574338913, 0.3241399824619293, 0.1054544597864151, 0.0913938656449318, 0.14763624966144562, 0.06427700817584991, 0.119515061378479, 0.1335756480693817, 0.08737655729055405, 0.11549774557352066, 0.05724670737981796, 0.07632894814014435, 0.1463371068239212, 0.11293407529592514, 0.1256590485572815, 0.11611531674861908, 0.06998731195926666, 0.10339035093784332, 0.10816220939159393, 0.05249048396945, 0.08748414367437363, 0.07634979486465454, 0.1016569435596466, 0.08185364305973053, 0.14126354455947876, 0.10033673048019409, 0.10297716408967972, 0.10561760514974594, 0.11749958992004395, 0.08581430464982986, 0.0792132019996643, 0.08449408411979675, 0.2269294261932373, 0.2269294261932373, 0.2269294261932373, 0.10545360296964645, 0.12971726059913635, 0.09892108291387558, 0.08772246539592743, 0.08678925037384033, 0.11198613047599792, 0.09798786044120789, 0.09612143039703369, 0.09985429793596268, 0.08492281287908554, 0.09349578619003296, 0.11303221434354782, 0.1004730761051178, 0.09837988764047623, 0.09070486575365067, 0.09837988764047623, 0.1535005420446396, 0.0886116772890091, 0.08023891597986221, 0.0830298364162445, 0.17011183500289917, 0.17011183500289917, 0.34022367000579834, 0.17011183500289917, 0.17011183500289917, 0.1359652429819107, 0.1359652429819107, 0.1359652429819107, 0.1359652429819107, 0.1359652429819107, 0.1359652429819107, 0.1359652429819107, 0.1359652429819107, 0.32340970635414124, 0.07894863933324814, 0.07631701976060867, 0.09210675209760666, 0.1263178288936615, 0.09210675209760666, 0.14473918080329895, 0.10263323783874512, 0.06842215359210968, 0.09473837167024612, 0.12368620932102203, 0.14320459961891174, 0.11125896126031876, 0.09804007411003113, 0.107954241335392, 0.11346210539340973, 0.10685266554355621, 0.07600859552621841, 0.07600859552621841, 0.08592276275157928, 0.08261804282665253, 0.11721432209014893, 0.07707243412733078, 0.1043689176440239, 0.11882000416517258, 0.083495132625103, 0.06743837893009186, 0.1284540593624115, 0.08510081470012665, 0.08510081470012665, 0.13327108323574066, 0.10556022822856903, 0.10556022822856903, 0.11797907948493958, 0.08693195134401321, 0.1024555191397667, 0.05898953974246979, 0.11487436294555664, 0.06519896537065506, 0.13350264728069305, 0.11487436294555664, 0.10486229509115219, 0.06990820169448853, 0.10486229509115219, 0.06990820169448853, 0.20972459018230438, 0.10486229509115219, 0.06990820169448853, 0.10486229509115219, 0.06990820169448853, 0.10486229509115219, 0.19143997132778168, 0.19143997132778168, 0.19143997132778168, 0.19143997132778168, 0.19143997132778168, 0.19143997132778168, 0.618256688117981, 0.11690644919872284, 0.08628809452056885, 0.05845322459936142, 0.10855598747730255, 0.1280403882265091, 0.10855598747730255, 0.13917434215545654, 0.08907157927751541, 0.06123670935630798, 0.10577249526977539, 0.08812694996595383, 0.09133156388998032, 0.1089569553732872, 0.13299158215522766, 0.1089569553732872, 0.09133156388998032, 0.07370617240667343, 0.11055926233530045, 0.10094541311264038, 0.08972925692796707, 0.03265904262661934, 0.13063617050647736, 0.13063617050647736, 0.2612723410129547, 0.03265904262661934, 0.22861328721046448, 0.13063617050647736, 0.23523114621639252, 0.6176314353942871, 0.6178382635116577], \"Term\": [\"aaron\", \"aaron\", \"accepting\", \"accepting\", \"accepting\", \"accepting\", \"accepting\", \"accepting\", \"accepting\", \"accidents\", \"accueil\", \"accueil\", \"accueil\", \"addicted\", \"addicted\", \"addicted\", \"addicted\", \"addicted\", \"addicted\", \"addicted\", \"addicted\", \"addicted\", \"addicted\", \"adobo\", \"adobo\", \"adobo\", \"adobo\", \"adobo\", \"ago\", \"ago\", \"ago\", \"ago\", \"ago\", \"ago\", \"ago\", \"ago\", \"ago\", \"ago\", \"aims\", \"alfajores\", \"alfajores\", \"alfajores\", \"alfajores\", \"alfajores\", \"alfajores\", \"amazing\", \"amazing\", \"amazing\", \"amazing\", \"amazing\", \"amazing\", \"amazing\", \"amazing\", \"amazing\", \"amazing\", \"ana\", \"aptive\", \"aptive\", \"area\", \"area\", \"area\", \"area\", \"area\", \"area\", \"area\", \"area\", \"area\", \"area\", \"ask\", \"ask\", \"ask\", \"ask\", \"ask\", \"ask\", \"ask\", \"ask\", \"ask\", \"ask\", \"asked\", \"asked\", \"asked\", \"asked\", \"asked\", \"asked\", \"asked\", \"asked\", \"asked\", \"asked\", \"atms\", \"atv\", \"atv\", \"aumon\", \"auxiliary\", \"auxiliary\", \"away\", \"away\", \"away\", \"away\", \"away\", \"away\", \"away\", \"away\", \"away\", \"away\", \"awesome\", \"awesome\", \"awesome\", \"awesome\", \"awesome\", \"awesome\", \"awesome\", \"awesome\", \"awesome\", \"awesome\", \"axle\", \"axle\", \"axle\", \"bad\", \"bad\", \"bad\", \"bad\", \"bad\", \"bad\", \"bad\", \"bad\", \"bad\", \"bad\", \"balloons\", \"balloons\", \"balloons\", \"balloons\", \"balloons\", \"balloons\", \"balloons\", \"balloons\", \"balloons\", \"balloons\", \"bar\", \"bar\", \"bar\", \"bar\", \"bar\", \"bar\", \"bar\", \"bar\", \"bar\", \"bar\", \"barhopping\", \"barley\", \"barley\", \"bb\", \"beause\", \"beause\", \"beautiful\", \"beautiful\", \"beautiful\", \"beautiful\", \"beautiful\", \"beautiful\", \"beautiful\", \"beautiful\", \"beautiful\", \"beautiful\", \"beleive\", \"beleive\", \"bello\", \"best\", \"best\", \"best\", \"best\", \"best\", \"best\", \"best\", \"best\", \"best\", \"best\", \"better\", \"better\", \"better\", \"better\", \"better\", \"better\", \"better\", \"better\", \"better\", \"better\", \"big\", \"big\", \"big\", \"big\", \"big\", \"big\", \"big\", \"big\", \"big\", \"big\", \"bikers\", \"bikers\", \"billing\", \"billing\", \"billing\", \"billing\", \"billing\", \"billing\", \"billing\", \"billing\", \"billing\", \"billing\", \"bim\", \"bim\", \"bim\", \"bim\", \"bim\", \"bit\", \"bit\", \"bit\", \"bit\", \"bit\", \"bit\", \"bit\", \"bit\", \"bit\", \"bit\", \"blink\", \"blink\", \"blink\", \"blink\", \"blink\", \"blode\", \"blode\", \"blueberries\", \"blueberries\", \"blueberries\", \"blueberries\", \"blueberries\", \"blueberries\", \"blueberries\", \"blueberries\", \"blueberries\", \"blueberries\", \"bowl\", \"bowl\", \"bowl\", \"bowl\", \"bowl\", \"bowl\", \"bowl\", \"bowl\", \"bowl\", \"bowl\", \"bread\", \"bread\", \"bread\", \"bread\", \"bread\", \"bread\", \"bread\", \"bread\", \"bread\", \"bread\", \"breakfast\", \"breakfast\", \"breakfast\", \"breakfast\", \"breakfast\", \"breakfast\", \"breakfast\", \"breakfast\", \"breakfast\", \"breakfast\", \"brooker\", \"brooker\", \"brooker\", \"brookline\", \"brownie\", \"brownie\", \"brownie\", \"brownie\", \"brownie\", \"brownie\", \"brownie\", \"brownie\", \"brownie\", \"brownie\", \"brows\", \"brows\", \"brows\", \"brows\", \"brows\", \"brows\", \"brows\", \"brows\", \"brows\", \"brows\", \"builds\", \"builds\", \"busy\", \"busy\", \"busy\", \"busy\", \"busy\", \"busy\", \"busy\", \"busy\", \"busy\", \"busy\", \"buttered\", \"buttered\", \"buttered\", \"buttered\", \"buttered\", \"buttered\", \"butterflies\", \"calabash\", \"caliente\", \"caliente\", \"caliente\", \"calipers\", \"calipers\", \"calipers\", \"calipers\", \"calipers\", \"calipers\", \"came\", \"came\", \"came\", \"came\", \"came\", \"came\", \"came\", \"came\", \"came\", \"came\", \"car\", \"car\", \"car\", \"car\", \"car\", \"car\", \"car\", \"car\", \"car\", \"car\", \"carbs\", \"carbs\", \"carbs\", \"carbs\", \"carbs\", \"carbs\", \"carbs\", \"carbs\", \"carbs\", \"carbs\", \"care\", \"care\", \"care\", \"care\", \"care\", \"care\", \"care\", \"care\", \"care\", \"care\", \"carina\", \"carpaccio\", \"carpaccio\", \"carpaccio\", \"carpaccio\", \"carpaccio\", \"carpaccio\", \"carpaccio\", \"carpaccio\", \"carpaccio\", \"carpaccio\", \"cary\", \"cary\", \"change\", \"change\", \"change\", \"change\", \"change\", \"change\", \"change\", \"change\", \"change\", \"change\", \"changed\", \"changed\", \"changed\", \"changed\", \"changed\", \"changed\", \"changed\", \"changed\", \"changed\", \"changed\", \"changes\", \"changes\", \"changes\", \"changes\", \"changes\", \"changes\", \"changes\", \"changes\", \"changes\", \"changes\", \"chauffeured\", \"chauffeured\", \"chauffeured\", \"check\", \"check\", \"check\", \"check\", \"check\", \"check\", \"check\", \"check\", \"check\", \"check\", \"cheese\", \"cheese\", \"cheese\", \"cheese\", \"cheese\", \"cheese\", \"cheese\", \"cheese\", \"cheese\", \"cheese\", \"chicken\", \"chicken\", \"chicken\", \"chicken\", \"chicken\", \"chicken\", \"chicken\", \"chicken\", \"chicken\", \"chicken\", \"chris\", \"chris\", \"chris\", \"chris\", \"chris\", \"chris\", \"chris\", \"chris\", \"chris\", \"chris\", \"clean\", \"clean\", \"clean\", \"clean\", \"clean\", \"clean\", \"clean\", \"clean\", \"clean\", \"clean\", \"clerk\", \"clerk\", \"clerk\", \"clerk\", \"clerk\", \"clerk\", \"clerk\", \"clerk\", \"clerk\", \"clerk\", \"close\", \"close\", \"close\", \"close\", \"close\", \"close\", \"close\", \"close\", \"close\", \"close\", \"cobbler\", \"cobbler\", \"cobbler\", \"cobbler\", \"cobbler\", \"cobbler\", \"cobbler\", \"cobbler\", \"cobbler\", \"colleen\", \"come\", \"come\", \"come\", \"come\", \"come\", \"come\", \"come\", \"come\", \"come\", \"come\", \"coming\", \"coming\", \"coming\", \"coming\", \"coming\", \"coming\", \"coming\", \"coming\", \"coming\", \"coming\", \"complexly\", \"conchas\", \"conchas\", \"condensation\", \"condensation\", \"convent\", \"cook\", \"cook\", \"cook\", \"cook\", \"cook\", \"cook\", \"cook\", \"cook\", \"cook\", \"cook\", \"cooked\", \"cooked\", \"cooked\", \"cooked\", \"cooked\", \"cooked\", \"cooked\", \"cooked\", \"cooked\", \"cooked\", \"cos\", \"couple\", \"couple\", \"couple\", \"couple\", \"couple\", \"couple\", \"couple\", \"couple\", \"couple\", \"couple\", \"cranny\", \"cranny\", \"cream\", \"cream\", \"cream\", \"cream\", \"cream\", \"cream\", \"cream\", \"cream\", \"cream\", \"cream\", \"croquetas\", \"cuon\", \"cuon\", \"cuon\", \"cuon\", \"cuon\", \"cupcakes\", \"cupcakes\", \"cupcakes\", \"cupcakes\", \"cupcakes\", \"cupcakes\", \"cupcakes\", \"cupcakes\", \"cupcakes\", \"cupcakes\", \"curveball\", \"customer\", \"customer\", \"customer\", \"customer\", \"customer\", \"customer\", \"customer\", \"customer\", \"customer\", \"customer\", \"customers\", \"customers\", \"customers\", \"customers\", \"customers\", \"customers\", \"customers\", \"customers\", \"customers\", \"customers\", \"cwru\", \"cwru\", \"daaayyuuummm\", \"daaayyuuummm\", \"dances\", \"dances\", \"dances\", \"dances\", \"dances\", \"dances\", \"dances\", \"dances\", \"dances\", \"dances\", \"dane\", \"dane\", \"dane\", \"dane\", \"dane\", \"dane\", \"danielle\", \"danielle\", \"dank\", \"dank\", \"dank\", \"dank\", \"dank\", \"dank\", \"dank\", \"dank\", \"darlene\", \"day\", \"day\", \"day\", \"day\", \"day\", \"day\", \"day\", \"day\", \"day\", \"day\", \"definitely\", \"definitely\", \"definitely\", \"definitely\", \"definitely\", \"definitely\", \"definitely\", \"definitely\", \"definitely\", \"definitely\", \"delicious\", \"delicious\", \"delicious\", \"delicious\", \"delicious\", \"delicious\", \"delicious\", \"delicious\", \"delicious\", \"delicious\", \"delivary\", \"delivary\", \"delta\", \"delta\", \"delta\", \"delta\", \"delta\", \"delta\", \"delta\", \"delta\", \"demonic\", \"demonic\", \"demonic\", \"dependable\", \"dependable\", \"dependable\", \"dependable\", \"dependable\", \"dependable\", \"dependable\", \"dependable\", \"dependable\", \"dependable\", \"devin\", \"devin\", \"dinner\", \"dinner\", \"dinner\", \"dinner\", \"dinner\", \"dinner\", \"dinner\", \"dinner\", \"dinner\", \"dinner\", \"dippin\", \"dippin\", \"discontinue\", \"discontinue\", \"diwali\", \"dmv\", \"dmv\", \"dodgy\", \"dojo\", \"donovan\", \"donovan\", \"donovan\", \"donovan\", \"donovan\", \"donovan\", \"donovan\", \"dots\", \"dots\", \"downtown\", \"downtown\", \"downtown\", \"downtown\", \"downtown\", \"downtown\", \"downtown\", \"downtown\", \"downtown\", \"downtown\", \"drinks\", \"drinks\", \"drinks\", \"drinks\", \"drinks\", \"drinks\", \"drinks\", \"drinks\", \"drinks\", \"drinks\", \"dull\", \"dull\", \"dull\", \"dull\", \"dull\", \"dull\", \"dull\", \"dull\", \"dull\", \"dull\", \"durian\", \"easy\", \"easy\", \"easy\", \"easy\", \"easy\", \"easy\", \"easy\", \"easy\", \"easy\", \"easy\", \"eat\", \"eat\", \"eat\", \"eat\", \"eat\", \"eat\", \"eat\", \"eat\", \"eat\", \"eat\", \"encourages\", \"encourages\", \"encourages\", \"encourages\", \"end\", \"end\", \"end\", \"end\", \"end\", \"end\", \"end\", \"end\", \"end\", \"end\", \"enjoyed\", \"enjoyed\", \"enjoyed\", \"enjoyed\", \"enjoyed\", \"enjoyed\", \"enjoyed\", \"enjoyed\", \"enjoyed\", \"enjoyed\", \"environmental\", \"environmental\", \"estimating\", \"ev\", \"ev\", \"everrrrr\", \"exceeded\", \"exceeded\", \"exceeded\", \"exceeded\", \"exceeded\", \"exceeded\", \"exceeded\", \"exceeded\", \"exceeded\", \"exceeded\", \"excellent\", \"excellent\", \"excellent\", \"excellent\", \"excellent\", \"excellent\", \"excellent\", \"excellent\", \"excellent\", \"excellent\", \"existant\", \"expensive\", \"expensive\", \"expensive\", \"expensive\", \"expensive\", \"expensive\", \"expensive\", \"expensive\", \"expensive\", \"expensive\", \"experience\", \"experience\", \"experience\", \"experience\", \"experience\", \"experience\", \"experience\", \"experience\", \"experience\", \"experience\", \"eye\", \"eye\", \"eye\", \"eye\", \"eye\", \"eye\", \"eye\", \"eye\", \"eye\", \"eye\", \"eyeglass\", \"eyeglass\", \"famous\", \"famous\", \"famous\", \"famous\", \"famous\", \"famous\", \"famous\", \"famous\", \"famous\", \"famous\", \"far\", \"far\", \"far\", \"far\", \"far\", \"far\", \"far\", \"far\", \"far\", \"far\", \"favorite\", \"favorite\", \"favorite\", \"favorite\", \"favorite\", \"favorite\", \"favorite\", \"favorite\", \"favorite\", \"favorite\", \"feel\", \"feel\", \"feel\", \"feel\", \"feel\", \"feel\", \"feel\", \"feel\", \"feel\", \"feel\", \"fingernail\", \"fingernail\", \"flannery\", \"fluid\", \"fluid\", \"fluid\", \"fluid\", \"fluid\", \"fluid\", \"fluid\", \"fluid\", \"fluid\", \"fluid\", \"flush\", \"flush\", \"flush\", \"flush\", \"food\", \"food\", \"food\", \"food\", \"food\", \"food\", \"food\", \"food\", \"food\", \"food\", \"founder\", \"founder\", \"founder\", \"fountain\", \"fountain\", \"fountain\", \"fountain\", \"fountain\", \"fountain\", \"fountain\", \"fountain\", \"fountain\", \"fountain\", \"fresh\", \"fresh\", \"fresh\", \"fresh\", \"fresh\", \"fresh\", \"fresh\", \"fresh\", \"fresh\", \"fresh\", \"fridendly\", \"fried\", \"fried\", \"fried\", \"fried\", \"fried\", \"fried\", \"fried\", \"fried\", \"fried\", \"fried\", \"friendly\", \"friendly\", \"friendly\", \"friendly\", \"friendly\", \"friendly\", \"friendly\", \"friendly\", \"friendly\", \"friendly\", \"frosting\", \"frosting\", \"frosting\", \"frosting\", \"frosting\", \"frosting\", \"frosting\", \"frosting\", \"frosting\", \"frosting\", \"frys\", \"frys\", \"frys\", \"frys\", \"fun\", \"fun\", \"fun\", \"fun\", \"fun\", \"fun\", \"fun\", \"fun\", \"fun\", \"fun\", \"fungus\", \"fungus\", \"fungus\", \"gardein\", \"gasping\", \"gems\", \"gems\", \"gems\", \"gems\", \"gems\", \"gems\", \"gems\", \"getting\", \"getting\", \"getting\", \"getting\", \"getting\", \"getting\", \"getting\", \"getting\", \"getting\", \"getting\", \"girl\", \"girl\", \"girl\", \"girl\", \"girl\", \"girl\", \"girl\", \"girl\", \"girl\", \"girl\", \"glassware\", \"glassware\", \"glassware\", \"going\", \"going\", \"going\", \"going\", \"going\", \"going\", \"going\", \"going\", \"going\", \"going\", \"golfweek\", \"golfweek\", \"good\", \"good\", \"good\", \"good\", \"good\", \"good\", \"good\", \"good\", \"good\", \"good\", \"got\", \"got\", \"got\", \"got\", \"got\", \"got\", \"got\", \"got\", \"got\", \"got\", \"great\", \"great\", \"great\", \"great\", \"great\", \"great\", \"great\", \"great\", \"great\", \"great\", \"greenhouse\", \"greenway\", \"greenway\", \"greenway\", \"greenway\", \"groomed\", \"groomed\", \"groomed\", \"groomed\", \"groomed\", \"groomed\", \"groomed\", \"groomed\", \"gustav\", \"gustav\", \"happen\", \"happen\", \"happen\", \"happen\", \"happen\", \"happen\", \"happen\", \"happen\", \"happen\", \"happen\", \"happy\", \"happy\", \"happy\", \"happy\", \"happy\", \"happy\", \"happy\", \"happy\", \"happy\", \"happy\", \"harlow\", \"harlow\", \"haven\", \"haven\", \"haven\", \"haven\", \"haven\", \"haven\", \"haven\", \"haven\", \"haven\", \"haven\", \"help\", \"help\", \"help\", \"help\", \"help\", \"help\", \"help\", \"help\", \"help\", \"help\", \"high\", \"high\", \"high\", \"high\", \"high\", \"high\", \"high\", \"high\", \"high\", \"high\", \"highly\", \"highly\", \"highly\", \"highly\", \"highly\", \"highly\", \"highly\", \"highly\", \"highly\", \"highly\", \"hiram\", \"hiram\", \"hiram\", \"hiram\", \"hiram\", \"hiram\", \"hiram\", \"hiram\", \"hiram\", \"hog\", \"hog\", \"home\", \"home\", \"home\", \"home\", \"home\", \"home\", \"home\", \"home\", \"home\", \"home\", \"hoodlums\", \"hoodlums\", \"horton\", \"horton\", \"horton\", \"horton\", \"horton\", \"horton\", \"horton\", \"horton\", \"horton\", \"horton\", \"hot\", \"hot\", \"hot\", \"hot\", \"hot\", \"hot\", \"hot\", \"hot\", \"hot\", \"hot\", \"hour\", \"hour\", \"hour\", \"hour\", \"hour\", \"hour\", \"hour\", \"hour\", \"hour\", \"hour\", \"huckleberry\", \"huckleberry\", \"husband\", \"husband\", \"husband\", \"husband\", \"husband\", \"husband\", \"husband\", \"husband\", \"husband\", \"husband\", \"imcomplete\", \"inside\", \"inside\", \"inside\", \"inside\", \"inside\", \"inside\", \"inside\", \"inside\", \"inside\", \"inside\", \"inspections\", \"inspections\", \"inspections\", \"inspections\", \"inspiring\", \"inspiring\", \"instruments\", \"instruments\", \"instruments\", \"instruments\", \"instruments\", \"instruments\", \"instruments\", \"intelligent\", \"intelligent\", \"intelligent\", \"intelligent\", \"intelligent\", \"intelligently\", \"intelligently\", \"intentions\", \"intentions\", \"invitations\", \"italian\", \"italian\", \"italian\", \"italian\", \"italian\", \"italian\", \"italian\", \"italian\", \"italian\", \"italian\", \"jdt\", \"jdt\", \"jdt\", \"jdt\", \"jdt\", \"jellyfish\", \"jellyfish\", \"jina\", \"job\", \"job\", \"job\", \"job\", \"job\", \"job\", \"job\", \"job\", \"job\", \"job\", \"jumpy\", \"kang\", \"kang\", \"kang\", \"karen\", \"katrina\", \"katrina\", \"katrina\", \"katrina\", \"kelsea\", \"kheer\", \"kheer\", \"kids\", \"kids\", \"kids\", \"kids\", \"kids\", \"kids\", \"kids\", \"kids\", \"kids\", \"kids\", \"kind\", \"kind\", \"kind\", \"kind\", \"kind\", \"kind\", \"kind\", \"kind\", \"kind\", \"kind\", \"kitsch\", \"kitsch\", \"kitsch\", \"kitsch\", \"kitsch\", \"kitsch\", \"kitsch\", \"kitsch\", \"kitsch\", \"kitsch\", \"know\", \"know\", \"know\", \"know\", \"know\", \"know\", \"know\", \"know\", \"know\", \"know\", \"koko\", \"krung\", \"large\", \"large\", \"large\", \"large\", \"large\", \"large\", \"large\", \"large\", \"large\", \"large\", \"lassaine\", \"lassaine\", \"lassaine\", \"let\", \"let\", \"let\", \"let\", \"let\", \"let\", \"let\", \"let\", \"let\", \"let\", \"lexus\", \"lexus\", \"lexus\", \"like\", \"like\", \"like\", \"like\", \"like\", \"like\", \"like\", \"like\", \"like\", \"like\", \"liked\", \"liked\", \"liked\", \"liked\", \"liked\", \"liked\", \"liked\", \"liked\", \"liked\", \"liked\", \"linda\", \"linda\", \"linda\", \"line\", \"line\", \"line\", \"line\", \"line\", \"line\", \"line\", \"line\", \"line\", \"line\", \"little\", \"little\", \"little\", \"little\", \"little\", \"little\", \"little\", \"little\", \"little\", \"little\", \"ll\", \"ll\", \"ll\", \"ll\", \"ll\", \"ll\", \"ll\", \"ll\", \"ll\", \"ll\", \"lobby\", \"lobby\", \"lobby\", \"lobby\", \"lobby\", \"lobby\", \"lobby\", \"lobby\", \"lobby\", \"lobby\", \"location\", \"location\", \"location\", \"location\", \"location\", \"location\", \"location\", \"location\", \"location\", \"location\", \"lol\", \"lol\", \"lol\", \"lol\", \"lol\", \"lol\", \"lol\", \"lol\", \"lol\", \"lol\", \"long\", \"long\", \"long\", \"long\", \"long\", \"long\", \"long\", \"long\", \"long\", \"long\", \"losses\", \"lot\", \"lot\", \"lot\", \"lot\", \"lot\", \"lot\", \"lot\", \"lot\", \"lot\", \"lot\", \"love\", \"love\", \"love\", \"love\", \"love\", \"love\", \"love\", \"love\", \"love\", \"love\", \"loved\", \"loved\", \"loved\", \"loved\", \"loved\", \"loved\", \"loved\", \"loved\", \"loved\", \"loved\", \"lunch\", \"lunch\", \"lunch\", \"lunch\", \"lunch\", \"lunch\", \"lunch\", \"lunch\", \"lunch\", \"lunch\", \"lydia\", \"lydia\", \"lydia\", \"mac\", \"mac\", \"mac\", \"mac\", \"mac\", \"mac\", \"mac\", \"mac\", \"mac\", \"mac\", \"machaca\", \"machaca\", \"machaca\", \"machaca\", \"machaca\", \"machaca\", \"machaca\", \"machaca\", \"machaca\", \"magnolia\", \"magnolia\", \"magnolia\", \"manager\", \"manager\", \"manager\", \"manager\", \"manager\", \"manager\", \"manager\", \"manager\", \"manager\", \"manager\", \"martial\", \"martial\", \"martial\", \"martial\", \"martial\", \"martial\", \"massage\", \"massage\", \"massage\", \"massage\", \"massage\", \"massage\", \"massage\", \"massage\", \"massage\", \"massage\", \"matthew\", \"matthew\", \"maybe\", \"maybe\", \"maybe\", \"maybe\", \"maybe\", \"maybe\", \"maybe\", \"maybe\", \"maybe\", \"maybe\", \"mcqueen\", \"mcqueen\", \"meal\", \"meal\", \"meal\", \"meal\", \"meal\", \"meal\", \"meal\", \"meal\", \"meal\", \"meal\", \"meat\", \"meat\", \"meat\", \"meat\", \"meat\", \"meat\", \"meat\", \"meat\", \"meat\", \"meat\", \"medallions\", \"medallions\", \"membership\", \"membership\", \"membership\", \"membership\", \"membership\", \"membership\", \"membership\", \"membership\", \"membership\", \"membership\", \"menu\", \"menu\", \"menu\", \"menu\", \"menu\", \"menu\", \"menu\", \"menu\", \"menu\", \"menu\", \"merest\", \"merest\", \"mexican\", \"mexican\", \"mexican\", \"mexican\", \"mexican\", \"mexican\", \"mexican\", \"mexican\", \"mexican\", \"mexican\", \"michelle\", \"michelle\", \"michelle\", \"michelle\", \"michelle\", \"michelle\", \"michelle\", \"michelle\", \"michelle\", \"michelle\", \"mike\", \"mike\", \"mike\", \"mike\", \"mike\", \"mike\", \"mike\", \"mike\", \"mike\", \"mike\", \"mind\", \"mind\", \"mind\", \"mind\", \"mind\", \"mind\", \"mind\", \"mind\", \"mind\", \"mind\", \"minutes\", \"minutes\", \"minutes\", \"minutes\", \"minutes\", \"minutes\", \"minutes\", \"minutes\", \"minutes\", \"minutes\", \"mistreated\", \"mistreated\", \"mistreated\", \"moco\", \"moco\", \"momma\", \"motorsports\", \"motorsports\", \"motorsports\", \"motorsports\", \"musubi\", \"musubi\", \"musubi\", \"nadine\", \"nancy\", \"nancy\", \"nancy\", \"nancy\", \"nancy\", \"nancy\", \"nancy\", \"nancy\", \"nancy\", \"nancy\", \"nationwide\", \"nationwide\", \"needed\", \"needed\", \"needed\", \"needed\", \"needed\", \"needed\", \"needed\", \"needed\", \"needed\", \"needed\", \"negated\", \"new\", \"new\", \"new\", \"new\", \"new\", \"new\", \"new\", \"new\", \"new\", \"new\", \"nice\", \"nice\", \"nice\", \"nice\", \"nice\", \"nice\", \"nice\", \"nice\", \"nice\", \"nice\", \"night\", \"night\", \"night\", \"night\", \"night\", \"night\", \"night\", \"night\", \"night\", \"night\", \"nirvana\", \"nirvana\", \"nirvana\", \"nirvana\", \"nirvana\", \"nirvana\", \"nirvana\", \"nirvana\", \"nirvana\", \"nirvana\", \"noncommunitive\", \"noodles\", \"noodles\", \"noodles\", \"noodles\", \"noodles\", \"noodles\", \"noodles\", \"noodles\", \"noodles\", \"noodles\", \"nook\", \"nook\", \"nook\", \"notch\", \"notch\", \"notch\", \"notch\", \"notch\", \"notch\", \"notch\", \"notch\", \"notch\", \"notch\", \"occur\", \"occur\", \"occur\", \"occur\", \"occur\", \"occur\", \"offer\", \"offer\", \"offer\", \"offer\", \"offer\", \"offer\", \"offer\", \"offer\", \"offer\", \"offer\", \"openers\", \"operative\", \"operative\", \"order\", \"order\", \"order\", \"order\", \"order\", \"order\", \"order\", \"order\", \"order\", \"order\", \"ordered\", \"ordered\", \"ordered\", \"ordered\", \"ordered\", \"ordered\", \"ordered\", \"ordered\", \"ordered\", \"ordered\", \"orellana\", \"orellana\", \"organis\\u00e9\", \"outstanding\", \"outstanding\", \"outstanding\", \"outstanding\", \"outstanding\", \"outstanding\", \"outstanding\", \"outstanding\", \"outstanding\", \"outstanding\", \"owner\", \"owner\", \"owner\", \"owner\", \"owner\", \"owner\", \"owner\", \"owner\", \"owner\", \"owner\", \"pakora\", \"pakora\", \"pakora\", \"pakora\", \"pakora\", \"pakora\", \"pakora\", \"pakora\", \"pakora\", \"pakora\", \"paperjoy\", \"paperjoy\", \"paperjoy\", \"paperjoy\", \"parsanko\", \"peggy\", \"pennies\", \"people\", \"people\", \"people\", \"people\", \"people\", \"people\", \"people\", \"people\", \"people\", \"people\", \"perfume\", \"perfume\", \"perfume\", \"perfume\", \"personnels\", \"peru\", \"peru\", \"peru\", \"peru\", \"peru\", \"pesky\", \"pesky\", \"pesky\", \"picante\", \"picante\", \"pittsburg\", \"pittsburg\", \"pizza\", \"pizza\", \"pizza\", \"pizza\", \"pizza\", \"pizza\", \"pizza\", \"pizza\", \"pizza\", \"pizza\", \"place\", \"place\", \"place\", \"place\", \"place\", \"place\", \"place\", \"place\", \"place\", \"place\", \"point\", \"point\", \"point\", \"point\", \"point\", \"point\", \"point\", \"point\", \"point\", \"point\", \"poms\", \"poms\", \"portion\", \"portion\", \"portion\", \"portion\", \"portion\", \"portion\", \"portion\", \"portion\", \"portion\", \"portion\", \"posoleshawwty\", \"posoleshawwty\", \"possess\", \"pretty\", \"pretty\", \"pretty\", \"pretty\", \"pretty\", \"pretty\", \"pretty\", \"pretty\", \"pretty\", \"pretty\", \"price\", \"price\", \"price\", \"price\", \"price\", \"price\", \"price\", \"price\", \"price\", \"price\", \"prices\", \"prices\", \"prices\", \"prices\", \"prices\", \"prices\", \"prices\", \"prices\", \"prices\", \"prices\", \"pricy\", \"pricy\", \"pricy\", \"pricy\", \"pricy\", \"pricy\", \"pricy\", \"pricy\", \"pricy\", \"pricy\", \"prima\", \"prima\", \"probably\", \"probably\", \"probably\", \"probably\", \"probably\", \"probably\", \"probably\", \"probably\", \"probably\", \"probably\", \"propre\", \"puzzle\", \"quality\", \"quality\", \"quality\", \"quality\", \"quality\", \"quality\", \"quality\", \"quality\", \"quality\", \"quality\", \"questions\", \"questions\", \"questions\", \"questions\", \"questions\", \"questions\", \"questions\", \"questions\", \"questions\", \"questions\", \"quick\", \"quick\", \"quick\", \"quick\", \"quick\", \"quick\", \"quick\", \"quick\", \"quick\", \"quick\", \"radiance\", \"reared\", \"reasonable\", \"reasonable\", \"reasonable\", \"reasonable\", \"reasonable\", \"reasonable\", \"reasonable\", \"reasonable\", \"reasonable\", \"reasonable\", \"reassured\", \"reassured\", \"reassured\", \"reassuring\", \"reassuring\", \"reassuring\", \"reccomend\", \"reccomend\", \"reccomend\", \"reccomend\", \"reccomend\", \"reccomend\", \"reccomend\", \"reccomend\", \"recomend\", \"recomend\", \"recomend\", \"recomend\", \"recomend\", \"recommend\", \"recommend\", \"recommend\", \"recommend\", \"recommend\", \"recommend\", \"recommend\", \"recommend\", \"recommend\", \"recommend\", \"recomment\", \"resource\", \"resource\", \"resource\", \"resource\", \"resource\", \"resource\", \"resources\", \"restaurant\", \"restaurant\", \"restaurant\", \"restaurant\", \"restaurant\", \"restaurant\", \"restaurant\", \"restaurant\", \"restaurant\", \"restaurant\", \"restaurants\", \"restaurants\", \"restaurants\", \"restaurants\", \"restaurants\", \"restaurants\", \"restaurants\", \"restaurants\", \"restaurants\", \"restaurants\", \"return\", \"return\", \"return\", \"return\", \"return\", \"return\", \"return\", \"return\", \"return\", \"return\", \"riaz\", \"riaz\", \"rice\", \"rice\", \"rice\", \"rice\", \"rice\", \"rice\", \"rice\", \"rice\", \"rice\", \"rice\", \"right\", \"right\", \"right\", \"right\", \"right\", \"right\", \"right\", \"right\", \"right\", \"right\", \"roles\", \"roles\", \"roles\", \"room\", \"room\", \"room\", \"room\", \"room\", \"room\", \"room\", \"room\", \"room\", \"room\", \"roomtastic\", \"roomtastic\", \"rugs\", \"rugs\", \"rugs\", \"rugs\", \"rugs\", \"rugs\", \"rugs\", \"rugs\", \"rugs\", \"saddest\", \"said\", \"said\", \"said\", \"said\", \"said\", \"said\", \"said\", \"said\", \"said\", \"said\", \"salad\", \"salad\", \"salad\", \"salad\", \"salad\", \"salad\", \"salad\", \"salad\", \"salad\", \"salad\", \"sales\", \"sales\", \"sales\", \"sales\", \"sales\", \"sales\", \"sales\", \"sales\", \"sales\", \"sales\", \"saloon\", \"saloon\", \"saloon\", \"saloon\", \"salutations\", \"sauce\", \"sauce\", \"sauce\", \"sauce\", \"sauce\", \"sauce\", \"sauce\", \"sauce\", \"sauce\", \"sauce\", \"screen\", \"screen\", \"screen\", \"screen\", \"screen\", \"screen\", \"screen\", \"screen\", \"screen\", \"screen\", \"sensei\", \"server\", \"server\", \"server\", \"server\", \"server\", \"server\", \"server\", \"server\", \"server\", \"server\", \"service\", \"service\", \"service\", \"service\", \"service\", \"service\", \"service\", \"service\", \"service\", \"service\", \"shawn\", \"shawn\", \"shawn\", \"shawn\", \"shawn\", \"shawn\", \"shimp\", \"shimp\", \"shipper\", \"shittt\", \"shrimp\", \"shrimp\", \"shrimp\", \"shrimp\", \"shrimp\", \"shrimp\", \"shrimp\", \"shrimp\", \"shrimp\", \"shrimp\", \"siam\", \"siam\", \"siam\", \"siam\", \"siam\", \"siam\", \"siam\", \"siam\", \"size\", \"size\", \"size\", \"size\", \"size\", \"size\", \"size\", \"size\", \"size\", \"size\", \"slimey\", \"slymans\", \"slymans\", \"slymans\", \"slymans\", \"slymans\", \"small\", \"small\", \"small\", \"small\", \"small\", \"small\", \"small\", \"small\", \"small\", \"small\", \"smaller\", \"smaller\", \"smaller\", \"smaller\", \"smaller\", \"smaller\", \"smaller\", \"smaller\", \"smaller\", \"smaller\", \"solving\", \"solving\", \"solving\", \"solving\", \"sono\", \"sono\", \"soup\", \"soup\", \"soup\", \"soup\", \"soup\", \"soup\", \"soup\", \"soup\", \"soup\", \"soup\", \"special\", \"special\", \"special\", \"special\", \"special\", \"special\", \"special\", \"special\", \"special\", \"special\", \"specials\", \"specials\", \"specials\", \"specials\", \"specials\", \"specials\", \"specials\", \"specials\", \"specials\", \"specials\", \"spineless\", \"spineless\", \"spraying\", \"spraying\", \"spraying\", \"spraying\", \"spraying\", \"squishies\", \"squishies\", \"squishies\", \"squishies\", \"squishies\", \"stabbed\", \"staff\", \"staff\", \"staff\", \"staff\", \"staff\", \"staff\", \"staff\", \"staff\", \"staff\", \"staff\", \"stale\", \"stale\", \"stale\", \"stale\", \"stale\", \"stale\", \"stale\", \"stale\", \"stale\", \"stale\", \"stars\", \"stars\", \"stars\", \"stars\", \"stars\", \"stars\", \"stars\", \"stars\", \"stars\", \"stars\", \"stationnement\", \"stay\", \"stay\", \"stay\", \"stay\", \"stay\", \"stay\", \"stay\", \"stay\", \"stay\", \"stay\", \"steak\", \"steak\", \"steak\", \"steak\", \"steak\", \"steak\", \"steak\", \"steak\", \"steak\", \"steak\", \"store\", \"store\", \"store\", \"store\", \"store\", \"store\", \"store\", \"store\", \"store\", \"store\", \"suitemates\", \"suitemates\", \"sunglass\", \"super\", \"super\", \"super\", \"super\", \"super\", \"super\", \"super\", \"super\", \"super\", \"super\", \"sure\", \"sure\", \"sure\", \"sure\", \"sure\", \"sure\", \"sure\", \"sure\", \"sure\", \"sure\", \"swedish\", \"swedish\", \"swedish\", \"swedish\", \"swedish\", \"swedish\", \"s\\u00e9lection\", \"table\", \"table\", \"table\", \"table\", \"table\", \"table\", \"table\", \"table\", \"table\", \"table\", \"tacos\", \"tacos\", \"tacos\", \"tacos\", \"tacos\", \"tacos\", \"tacos\", \"tacos\", \"tacos\", \"tacos\", \"tasted\", \"tasted\", \"tasted\", \"tasted\", \"tasted\", \"tasted\", \"tasted\", \"tasted\", \"tasted\", \"tasted\", \"tasty\", \"tasty\", \"tasty\", \"tasty\", \"tasty\", \"tasty\", \"tasty\", \"tasty\", \"tasty\", \"tasty\", \"tattoos\", \"tattoos\", \"tattoos\", \"tattoos\", \"tattoos\", \"tattoos\", \"team\", \"team\", \"team\", \"team\", \"team\", \"team\", \"team\", \"team\", \"team\", \"team\", \"terrible\", \"terrible\", \"terrible\", \"terrible\", \"terrible\", \"terrible\", \"terrible\", \"terrible\", \"terrible\", \"terrible\", \"thank\", \"thank\", \"thank\", \"thank\", \"thank\", \"thank\", \"thank\", \"thank\", \"thank\", \"thank\", \"thanks\", \"thanks\", \"thanks\", \"thanks\", \"thanks\", \"thanks\", \"thanks\", \"thanks\", \"thanks\", \"thanks\", \"thi\", \"think\", \"think\", \"think\", \"think\", \"think\", \"think\", \"think\", \"think\", \"think\", \"think\", \"thoroughness\", \"thoroughness\", \"thoroughness\", \"thoroughness\", \"thoroughness\", \"thoroughness\", \"thoroughness\", \"thoroughness\", \"thoroughness\", \"time\", \"time\", \"time\", \"time\", \"time\", \"time\", \"time\", \"time\", \"time\", \"time\", \"times\", \"times\", \"times\", \"times\", \"times\", \"times\", \"times\", \"times\", \"times\", \"times\", \"told\", \"told\", \"told\", \"told\", \"told\", \"told\", \"told\", \"told\", \"told\", \"told\", \"took\", \"took\", \"took\", \"took\", \"took\", \"took\", \"took\", \"took\", \"took\", \"took\", \"town\", \"town\", \"town\", \"town\", \"town\", \"town\", \"town\", \"town\", \"town\", \"town\", \"training\", \"training\", \"training\", \"training\", \"training\", \"training\", \"training\", \"training\", \"training\", \"training\", \"trevi\", \"tried\", \"tried\", \"tried\", \"tried\", \"tried\", \"tried\", \"tried\", \"tried\", \"tried\", \"tried\", \"try\", \"try\", \"try\", \"try\", \"try\", \"try\", \"try\", \"try\", \"try\", \"try\", \"tso\", \"tso\", \"tso\", \"tso\", \"ttc\", \"ttc\", \"ttc\", \"ttc\", \"ttc\", \"ttc\", \"ttc\", \"ttc\", \"ttc\", \"ttc\", \"unbeatable\", \"unbeatable\", \"unimpressive\", \"unreachable\", \"ve\", \"ve\", \"ve\", \"ve\", \"ve\", \"ve\", \"ve\", \"ve\", \"ve\", \"ve\", \"vegas\", \"vegas\", \"vegas\", \"vegas\", \"vegas\", \"vegas\", \"vegas\", \"vegas\", \"vegas\", \"vegas\", \"vinyl\", \"vinyl\", \"vinyl\", \"vinyl\", \"vinyl\", \"vinyl\", \"vinyl\", \"vinyl\", \"vinyl\", \"vinyl\", \"visit\", \"visit\", \"visit\", \"visit\", \"visit\", \"visit\", \"visit\", \"visit\", \"visit\", \"visit\", \"waistline\", \"wait\", \"wait\", \"wait\", \"wait\", \"wait\", \"wait\", \"wait\", \"wait\", \"wait\", \"wait\", \"walk\", \"walk\", \"walk\", \"walk\", \"walk\", \"walk\", \"walk\", \"walk\", \"walk\", \"walk\", \"walked\", \"walked\", \"walked\", \"walked\", \"walked\", \"walked\", \"walked\", \"walked\", \"walked\", \"walked\", \"walkthrough\", \"want\", \"want\", \"want\", \"want\", \"want\", \"want\", \"want\", \"want\", \"want\", \"want\", \"wanted\", \"wanted\", \"wanted\", \"wanted\", \"wanted\", \"wanted\", \"wanted\", \"wanted\", \"wanted\", \"wanted\", \"wasn\", \"wasn\", \"wasn\", \"wasn\", \"wasn\", \"wasn\", \"wasn\", \"wasn\", \"wasn\", \"wasn\", \"waxes\", \"waxes\", \"waxes\", \"way\", \"way\", \"way\", \"way\", \"way\", \"way\", \"way\", \"way\", \"way\", \"way\", \"went\", \"went\", \"went\", \"went\", \"went\", \"went\", \"went\", \"went\", \"went\", \"went\", \"whimsical\", \"whimsical\", \"whimsical\", \"whimsical\", \"whimsical\", \"wilkes\", \"wilkes\", \"wilkes\", \"wilkes\", \"wilkes\", \"wilkes\", \"wilkes\", \"wilkes\", \"wona\", \"wonderful\", \"wonderful\", \"wonderful\", \"wonderful\", \"wonderful\", \"wonderful\", \"wonderful\", \"wonderful\", \"wonderful\", \"wonderful\", \"work\", \"work\", \"work\", \"work\", \"work\", \"work\", \"work\", \"work\", \"work\", \"work\", \"worth\", \"worth\", \"worth\", \"worth\", \"worth\", \"worth\", \"worth\", \"worth\", \"worth\", \"worth\", \"wrong\", \"wrong\", \"wrong\", \"wrong\", \"wrong\", \"wrong\", \"wrong\", \"wrong\", \"wrong\", \"wrong\", \"yard\", \"yard\", \"yard\", \"yard\", \"yard\", \"yard\", \"yard\", \"yard\", \"yard\", \"yard\", \"yasmin\", \"yasmin\", \"yasmin\", \"yasmin\", \"yasmin\", \"yasmin\", \"yc\", \"year\", \"year\", \"year\", \"year\", \"year\", \"year\", \"year\", \"year\", \"year\", \"year\", \"years\", \"years\", \"years\", \"years\", \"years\", \"years\", \"years\", \"years\", \"years\", \"years\", \"yuk\", \"yuk\", \"yuk\", \"yuk\", \"yuk\", \"yuk\", \"yuk\", \"zinho\", \"\\u3068\\u3066\\u3082\\u6c17\\u306b\\u5165\\u308a\\u307e\\u3057\\u305f\", \"\\u63a2\\u3057\\u305f\\u304a\\u5e97\\u3067\\u3057\\u305f\"]}, \"R\": 30, \"lambda.step\": 0.01, \"plot.opts\": {\"xlab\": \"PC1\", \"ylab\": \"PC2\"}, \"topic.order\": [7, 9, 3, 1, 10, 4, 5, 2, 8, 6]};\n",
       "\n",
       "function LDAvis_load_lib(url, callback){\n",
       "  var s = document.createElement('script');\n",
       "  s.src = url;\n",
       "  s.async = true;\n",
       "  s.onreadystatechange = s.onload = callback;\n",
       "  s.onerror = function(){console.warn(\"failed to load library \" + url);};\n",
       "  document.getElementsByTagName(\"head\")[0].appendChild(s);\n",
       "}\n",
       "\n",
       "if(typeof(LDAvis) !== \"undefined\"){\n",
       "   // already loaded: just create the visualization\n",
       "   !function(LDAvis){\n",
       "       new LDAvis(\"#\" + \"ldavis_el3286822794497854726250846790\", ldavis_el3286822794497854726250846790_data);\n",
       "   }(LDAvis);\n",
       "}else if(typeof define === \"function\" && define.amd){\n",
       "   // require.js is available: use it to load d3/LDAvis\n",
       "   require.config({paths: {d3: \"https://cdnjs.cloudflare.com/ajax/libs/d3/3.5.5/d3.min\"}});\n",
       "   require([\"d3\"], function(d3){\n",
       "      window.d3 = d3;\n",
       "      LDAvis_load_lib(\"https://cdn.rawgit.com/bmabey/pyLDAvis/files/ldavis.v1.0.0.js\", function(){\n",
       "        new LDAvis(\"#\" + \"ldavis_el3286822794497854726250846790\", ldavis_el3286822794497854726250846790_data);\n",
       "      });\n",
       "    });\n",
       "}else{\n",
       "    // require.js not available: dynamically load d3 & LDAvis\n",
       "    LDAvis_load_lib(\"https://cdnjs.cloudflare.com/ajax/libs/d3/3.5.5/d3.min.js\", function(){\n",
       "         LDAvis_load_lib(\"https://cdn.rawgit.com/bmabey/pyLDAvis/files/ldavis.v1.0.0.js\", function(){\n",
       "                 new LDAvis(\"#\" + \"ldavis_el3286822794497854726250846790\", ldavis_el3286822794497854726250846790_data);\n",
       "            })\n",
       "         });\n",
       "}\n",
       "</script>"
      ],
      "text/plain": [
       "PreparedData(topic_coordinates=              x         y  topics  cluster       Freq\n",
       "topic                                                \n",
       "6     -0.000330  0.000047       1        1  10.493795\n",
       "8     -0.003922  0.000121       2        1  10.461906\n",
       "2     -0.000541  0.002995       3        1  10.302478\n",
       "0      0.002843  0.002153       4        1  10.214583\n",
       "9     -0.004645  0.000717       5        1  10.125676\n",
       "3     -0.000955  0.001594       6        1  10.113271\n",
       "4      0.003875 -0.000351       7        1  10.062673\n",
       "1      0.002722  0.002108       8        1   9.797049\n",
       "7     -0.000131 -0.005462       9        1   9.343365\n",
       "5      0.001085 -0.003920      10        1   9.085204, topic_info=     Category         Freq        Term        Total  loglift  logprob\n",
       "40    Default  4460.000000        good  4460.000000  30.0000  30.0000\n",
       "208   Default  4133.000000       great  4133.000000  29.0000  29.0000\n",
       "133   Default  4561.000000       place  4561.000000  28.0000  28.0000\n",
       "144   Default  4755.000000        food  4755.000000  27.0000  27.0000\n",
       "122   Default  1751.000000        best  1751.000000  26.0000  26.0000\n",
       "18    Default  3330.000000        like  3330.000000  25.0000  25.0000\n",
       "75    Default  1988.000000         got  1988.000000  24.0000  24.0000\n",
       "34    Default  3304.000000        time  3304.000000  23.0000  23.0000\n",
       "358   Default  1395.000000  definitely  1395.000000  22.0000  22.0000\n",
       "37    Default  1441.000000        came  1441.000000  21.0000  21.0000\n",
       "45    Default  3504.000000     service  3504.000000  20.0000  20.0000\n",
       "92    Default  1688.000000        nice  1688.000000  19.0000  19.0000\n",
       "381   Default  1373.000000      little  1373.000000  18.0000  18.0000\n",
       "246   Default  1055.000000       right  1055.000000  17.0000  17.0000\n",
       "165   Default   843.000000       think   843.000000  16.0000  16.0000\n",
       "313   Default   995.000000        want   995.000000  15.0000  15.0000\n",
       "735   Default  1589.000000        love  1589.000000  14.0000  14.0000\n",
       "426   Default  1116.000000      better  1116.000000  13.0000  13.0000\n",
       "41    Default   740.000000       lunch   740.000000  12.0000  12.0000\n",
       "448   Default   831.000000         eat   831.000000  11.0000  11.0000\n",
       "387   Default  1449.000000       order  1449.000000  10.0000  10.0000\n",
       "33    Default   771.000000       small   771.000000   9.0000   9.0000\n",
       "1143  Default   841.000000    location   841.000000   8.0000   8.0000\n",
       "39    Default  1337.000000    friendly  1337.000000   7.0000   7.0000\n",
       "351   Default  1403.000000        come  1403.000000   6.0000   6.0000\n",
       "184   Default  1122.000000   recommend  1122.000000   5.0000   5.0000\n",
       "131   Default  1382.000000      people  1382.000000   4.0000   4.0000\n",
       "726   Default   643.000000        feel   643.000000   3.0000   3.0000\n",
       "164   Default   598.000000       stars   598.000000   2.0000   2.0000\n",
       "546   Default   645.000000     quality   645.000000   1.0000   1.0000\n",
       "...       ...          ...         ...          ...      ...      ...\n",
       "376   Topic10    51.766216      inside   432.668030   0.2753  -6.7373\n",
       "18    Topic10   301.193420        like  3330.165039  -0.0045  -4.9763\n",
       "751   Topic10    53.849834     special   455.055023   0.2643  -6.6979\n",
       "92    Topic10   162.076279        nice  1688.823364   0.0548  -5.5960\n",
       "94    Topic10    98.939354       night   940.552795   0.1466  -6.0896\n",
       "133   Topic10   362.728149       place  4561.662598  -0.1333  -4.7904\n",
       "1266  Topic10   142.575317     ordered  1487.836914   0.0533  -5.7242\n",
       "421   Topic10    85.966049       asked   808.716919   0.1570  -6.2301\n",
       "180   Topic10   117.854416        menu  1193.352417   0.0835  -5.9146\n",
       "131   Topic10   132.113007      people  1382.817749   0.0503  -5.8004\n",
       "144   Topic10   356.261871        food  4755.639648  -0.1929  -4.8084\n",
       "116   Topic10    90.931404       vegas   879.459229   0.1293  -6.1740\n",
       "546   Topic10    69.935959     quality   645.967224   0.1754  -6.4365\n",
       "526   Topic10    92.711388        told   930.528198   0.0923  -6.1546\n",
       "208   Topic10   286.262817       great  4133.229004  -0.2714  -5.0272\n",
       "371   Topic10    90.651817       fresh   905.697021   0.0968  -6.1771\n",
       "36    Topic10    92.552612        wait   941.491089   0.0788  -6.1563\n",
       "40    Topic10   284.316284        good  4460.516113  -0.3544  -5.0340\n",
       "45    Topic10   232.413498     service  3504.043945  -0.3146  -5.2356\n",
       "115   Topic10   148.838135          ve  1858.397827  -0.1261  -5.6812\n",
       "735   Topic10   130.726212        love  1589.416870  -0.0995  -5.8110\n",
       "478   Topic10   106.406128        know  1175.229492  -0.0034  -6.0168\n",
       "117   Topic10   118.808220        went  1433.219727  -0.0916  -5.9066\n",
       "351   Topic10   114.769844        come  1403.491699  -0.1053  -5.9412\n",
       "1277  Topic10   111.104736     chicken  1345.152588  -0.0953  -5.9736\n",
       "122   Topic10   121.950920        best  1751.277588  -0.2660  -5.8805\n",
       "310   Topic10   110.455307         try  1401.690552  -0.1423  -5.9795\n",
       "30    Topic10   101.239761        said  1162.032471  -0.0419  -6.0666\n",
       "387   Topic10   106.766914       order  1449.646240  -0.2099  -6.0134\n",
       "39    Topic10   102.828911    friendly  1337.073242  -0.1666  -6.0510\n",
       "\n",
       "[858 rows x 6 columns], token_table=       Topic      Freq        Term\n",
       "term                              \n",
       "11957      8  0.226542       aaron\n",
       "11957      9  0.226542       aaron\n",
       "2925       3  0.127187   accepting\n",
       "2925       4  0.254375   accepting\n",
       "2925       5  0.127187   accepting\n",
       "2925       6  0.127187   accepting\n",
       "2925       8  0.127187   accepting\n",
       "2925       9  0.127187   accepting\n",
       "2925      10  0.127187   accepting\n",
       "23231      7  0.266563   accidents\n",
       "18187      5  0.226916     accueil\n",
       "18187      6  0.226916     accueil\n",
       "18187      8  0.226916     accueil\n",
       "3156       1  0.080144    addicted\n",
       "3156       2  0.080144    addicted\n",
       "3156       3  0.160289    addicted\n",
       "3156       4  0.080144    addicted\n",
       "3156       5  0.080144    addicted\n",
       "3156       6  0.080144    addicted\n",
       "3156       7  0.160289    addicted\n",
       "3156       8  0.160289    addicted\n",
       "3156       9  0.080144    addicted\n",
       "3156      10  0.080144    addicted\n",
       "20505      1  0.170041       adobo\n",
       "20505      2  0.170041       adobo\n",
       "20505      5  0.170041       adobo\n",
       "20505      9  0.170041       adobo\n",
       "20505     10  0.170041       adobo\n",
       "1680       1  0.152577         ago\n",
       "1680       2  0.119408         ago\n",
       "...      ...       ...         ...\n",
       "119        1  0.116906        year\n",
       "119        2  0.086288        year\n",
       "119        3  0.058453        year\n",
       "119        4  0.108556        year\n",
       "119        5  0.128040        year\n",
       "119        6  0.108556        year\n",
       "119        7  0.139174        year\n",
       "119        8  0.089072        year\n",
       "119        9  0.061237        year\n",
       "119       10  0.105772        year\n",
       "766        1  0.088127       years\n",
       "766        2  0.091332       years\n",
       "766        3  0.108957       years\n",
       "766        4  0.132992       years\n",
       "766        5  0.108957       years\n",
       "766        6  0.091332       years\n",
       "766        7  0.073706       years\n",
       "766        8  0.110559       years\n",
       "766        9  0.100945       years\n",
       "766       10  0.089729       years\n",
       "13098      1  0.032659         yuk\n",
       "13098      2  0.130636         yuk\n",
       "13098      3  0.130636         yuk\n",
       "13098      5  0.261272         yuk\n",
       "13098      7  0.032659         yuk\n",
       "13098      9  0.228613         yuk\n",
       "13098     10  0.130636         yuk\n",
       "13259      8  0.235231       zinho\n",
       "21304      9  0.617631  とても気に入りました\n",
       "21305      9  0.617838    探したお店でした\n",
       "\n",
       "[2805 rows x 3 columns], R=30, lambda_step=0.01, plot_opts={'xlab': 'PC1', 'ylab': 'PC2'}, topic_order=[7, 9, 3, 1, 10, 4, 5, 2, 8, 6])"
      ]
     },
     "execution_count": 87,
     "metadata": {},
     "output_type": "execute_result"
    }
   ],
   "source": [
    "import pyLDAvis.gensim\n",
    "\n",
    "pyLDAvis.enable_notebook()\n",
    "pyLDAvis.gensim.prepare(lda, corpus, id2word)"
   ]
  },
  {
   "cell_type": "markdown",
   "metadata": {},
   "source": [
    "Based on the visualization above, people are generally satisfied with the place, using words such as \"good, great, food, best, like.\" It appears that people are providing more positive reviews than negative reviews just from the eye test. For further analysis, we could remove these top positive words and dig further for more neutral or negative reviews to get an idea of what people may not like. Generally the topics are pretty spread out, with only a couple overlapping."
   ]
  },
  {
   "cell_type": "markdown",
   "metadata": {},
   "source": [
    "## Stretch Goals\n",
    "\n",
    "Complete one of more of these to push your score towards a three: \n",
    "* Incorporate named entity recognition into your analysis\n",
    "* Compare vectorization methods in the classification section\n",
    "* Analyze more (or all) of the yelp dataset - this one is v. hard. \n",
    "* Use a generator object on the reviews file - this would help you with the analyzing the whole dataset.\n",
    "* Incorporate any of the other yelp dataset entities in your analysis (business, users, etc.)"
   ]
  }
 ],
 "metadata": {
  "kernel_info": {
   "name": "u4-s1-nlp"
  },
  "kernelspec": {
   "display_name": "U4-S1-NLP",
   "language": "python",
   "name": "u4-s1-nlp"
  },
  "language_info": {
   "codemirror_mode": {
    "name": "ipython",
    "version": 3
   },
   "file_extension": ".py",
   "mimetype": "text/x-python",
   "name": "python",
   "nbconvert_exporter": "python",
   "pygments_lexer": "ipython3",
   "version": "3.7.3"
  },
  "nteract": {
   "version": "0.14.5"
  },
  "toc-autonumbering": false
 },
 "nbformat": 4,
 "nbformat_minor": 4
}
