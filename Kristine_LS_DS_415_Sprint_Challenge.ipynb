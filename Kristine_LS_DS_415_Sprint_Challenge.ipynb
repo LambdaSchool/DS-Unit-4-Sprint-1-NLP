{
 "cells": [
  {
   "cell_type": "markdown",
   "metadata": {},
   "source": [
    "<img align=\"left\" src=\"https://lever-client-logos.s3.amazonaws.com/864372b1-534c-480e-acd5-9711f850815c-1524247202159.png\" width=200>\n",
    "<br></br>\n",
    "<br></br>\n",
    "\n",
    "# Sprint Challenge\n",
    "## *Data Science Unit 4 Sprint 1*\n",
    "\n",
    "After a week of Natural Language Processing, you've learned some cool new stuff: how to process text, how turn text into vectors, and how to model topics from documents. Apply your newly acquired skills to one of the most famous NLP datasets out there: [Yelp](https://www.yelp.com/dataset/challenge). As part of the job selection process, some of my friends have been asked to create analysis of this dataset, so I want to empower you to have a head start.  \n",
    "\n",
    "The real dataset is massive (almost 8 gigs uncompressed). I've sampled the data for you to something more managable for the Sprint Challenge. You can analyze the full dataset as a stretch goal or after the sprint challenge. As you work on the challenge, I suggest adding notes about your findings and things you want to analyze in the future.\n",
    "\n",
    "## Challenge Objectives\n",
    "*Successfully complete these all these objectives to earn a 2. There are more details on each objective further down in the notebook.*\n",
    "* <a href=\"#p1\">Part 1</a>: Write a function to tokenize the yelp reviews\n",
    "* <a href=\"#p2\">Part 2</a>: Create a vector representation of those tokens\n",
    "* <a href=\"#p3\">Part 3</a>: Use your tokens in a classification model on yelp rating\n",
    "* <a href=\"#p4\">Part 4</a>: Estimate & Interpret a topic model of the Yelp reviews"
   ]
  },
  {
   "cell_type": "code",
   "execution_count": 2,
   "metadata": {},
   "outputs": [],
   "source": [
    "import pandas as pd\n",
    "\n",
    "yelp = pd.read_json('./data/review_sample.json', lines=True)"
   ]
  },
  {
   "cell_type": "code",
   "execution_count": 3,
   "metadata": {},
   "outputs": [
    {
     "data": {
      "text/html": [
       "<div>\n",
       "<style scoped>\n",
       "    .dataframe tbody tr th:only-of-type {\n",
       "        vertical-align: middle;\n",
       "    }\n",
       "\n",
       "    .dataframe tbody tr th {\n",
       "        vertical-align: top;\n",
       "    }\n",
       "\n",
       "    .dataframe thead th {\n",
       "        text-align: right;\n",
       "    }\n",
       "</style>\n",
       "<table border=\"1\" class=\"dataframe\">\n",
       "  <thead>\n",
       "    <tr style=\"text-align: right;\">\n",
       "      <th></th>\n",
       "      <th>business_id</th>\n",
       "      <th>cool</th>\n",
       "      <th>date</th>\n",
       "      <th>funny</th>\n",
       "      <th>review_id</th>\n",
       "      <th>stars</th>\n",
       "      <th>text</th>\n",
       "      <th>useful</th>\n",
       "      <th>user_id</th>\n",
       "    </tr>\n",
       "  </thead>\n",
       "  <tbody>\n",
       "    <tr>\n",
       "      <th>0</th>\n",
       "      <td>nDuEqIyRc8YKS1q1fX0CZg</td>\n",
       "      <td>1</td>\n",
       "      <td>2015-03-31 16:50:30</td>\n",
       "      <td>0</td>\n",
       "      <td>eZs2tpEJtXPwawvHnHZIgQ</td>\n",
       "      <td>1</td>\n",
       "      <td>BEWARE!!! FAKE, FAKE, FAKE....We also own a sm...</td>\n",
       "      <td>10</td>\n",
       "      <td>n1LM36qNg4rqGXIcvVXv8w</td>\n",
       "    </tr>\n",
       "    <tr>\n",
       "      <th>1</th>\n",
       "      <td>eMYeEapscbKNqUDCx705hg</td>\n",
       "      <td>0</td>\n",
       "      <td>2015-12-16 05:31:03</td>\n",
       "      <td>0</td>\n",
       "      <td>DoQDWJsNbU0KL1O29l_Xug</td>\n",
       "      <td>4</td>\n",
       "      <td>Came here for lunch Togo. Service was quick. S...</td>\n",
       "      <td>0</td>\n",
       "      <td>5CgjjDAic2-FAvCtiHpytA</td>\n",
       "    </tr>\n",
       "    <tr>\n",
       "      <th>2</th>\n",
       "      <td>6Q7-wkCPc1KF75jZLOTcMw</td>\n",
       "      <td>1</td>\n",
       "      <td>2010-06-20 19:14:48</td>\n",
       "      <td>1</td>\n",
       "      <td>DDOdGU7zh56yQHmUnL1idQ</td>\n",
       "      <td>3</td>\n",
       "      <td>I've been to Vegas dozens of times and had nev...</td>\n",
       "      <td>2</td>\n",
       "      <td>BdV-cf3LScmb8kZ7iiBcMA</td>\n",
       "    </tr>\n",
       "    <tr>\n",
       "      <th>3</th>\n",
       "      <td>k3zrItO4l9hwfLRwHBDc9w</td>\n",
       "      <td>3</td>\n",
       "      <td>2010-07-13 00:33:45</td>\n",
       "      <td>4</td>\n",
       "      <td>LfTMUWnfGFMOfOIyJcwLVA</td>\n",
       "      <td>1</td>\n",
       "      <td>We went here on a night where they closed off ...</td>\n",
       "      <td>5</td>\n",
       "      <td>cZZnBqh4gAEy4CdNvJailQ</td>\n",
       "    </tr>\n",
       "    <tr>\n",
       "      <th>4</th>\n",
       "      <td>6hpfRwGlOzbNv7k5eP9rsQ</td>\n",
       "      <td>1</td>\n",
       "      <td>2018-06-30 02:30:01</td>\n",
       "      <td>0</td>\n",
       "      <td>zJSUdI7bJ8PNJAg4lnl_Gg</td>\n",
       "      <td>4</td>\n",
       "      <td>3.5 to 4 stars\\n\\nNot bad for the price, $12.9...</td>\n",
       "      <td>5</td>\n",
       "      <td>n9QO4ClYAS7h9fpQwa5bhA</td>\n",
       "    </tr>\n",
       "    <tr>\n",
       "      <th>5</th>\n",
       "      <td>Db3CfZWrtG33UZSs8Tdlsg</td>\n",
       "      <td>1</td>\n",
       "      <td>2016-10-23 22:43:56</td>\n",
       "      <td>1</td>\n",
       "      <td>nXYV_0joQEMXYAfNyOPsRw</td>\n",
       "      <td>4</td>\n",
       "      <td>Tasty, fast casual Latin street food.  The men...</td>\n",
       "      <td>1</td>\n",
       "      <td>Gjz2PCbLZ6midk1n_0LaUg</td>\n",
       "    </tr>\n",
       "    <tr>\n",
       "      <th>6</th>\n",
       "      <td>gJhMeq2nVH27tz8LqbD3eQ</td>\n",
       "      <td>0</td>\n",
       "      <td>2013-05-20 19:09:43</td>\n",
       "      <td>0</td>\n",
       "      <td>ZA7SRi6fTRWwpo-B9O72qQ</td>\n",
       "      <td>5</td>\n",
       "      <td>This show is absolutely amazing!! What an incr...</td>\n",
       "      <td>0</td>\n",
       "      <td>BeKPVuqX-2at4izqVwUFEg</td>\n",
       "    </tr>\n",
       "    <tr>\n",
       "      <th>7</th>\n",
       "      <td>Yt5gK4E9NqVa14WNiQdBlQ</td>\n",
       "      <td>0</td>\n",
       "      <td>2018-07-12 01:19:53</td>\n",
       "      <td>0</td>\n",
       "      <td>4_GnHPkyTirzK6onIKO4jw</td>\n",
       "      <td>4</td>\n",
       "      <td>Came for the Pho and really enjoyed it!  We go...</td>\n",
       "      <td>0</td>\n",
       "      <td>PuXpIJzTBQejeBZh9hwynQ</td>\n",
       "    </tr>\n",
       "    <tr>\n",
       "      <th>8</th>\n",
       "      <td>c7WsC8SbUcLyZkREzx9dGA</td>\n",
       "      <td>1</td>\n",
       "      <td>2017-09-27 22:10:26</td>\n",
       "      <td>0</td>\n",
       "      <td>XGGHc7pYgOm5s6SWr8NMXA</td>\n",
       "      <td>5</td>\n",
       "      <td>Absolutely the most Unique experience in a nai...</td>\n",
       "      <td>0</td>\n",
       "      <td>NVVknS1I51z8wY5NNrJ6vQ</td>\n",
       "    </tr>\n",
       "    <tr>\n",
       "      <th>9</th>\n",
       "      <td>NSifXpsCRvnsBRqrHF9CJA</td>\n",
       "      <td>0</td>\n",
       "      <td>2015-01-25 08:43:15</td>\n",
       "      <td>0</td>\n",
       "      <td>--e66tyhwCE6eoRmcK2w8g</td>\n",
       "      <td>1</td>\n",
       "      <td>Wow. I walked in and sat at the bar for 10 min...</td>\n",
       "      <td>2</td>\n",
       "      <td>J7MsJKJDSA5OGo2-Hn7MbA</td>\n",
       "    </tr>\n",
       "  </tbody>\n",
       "</table>\n",
       "</div>"
      ],
      "text/plain": [
       "              business_id  cool                date  funny  \\\n",
       "0  nDuEqIyRc8YKS1q1fX0CZg     1 2015-03-31 16:50:30      0   \n",
       "1  eMYeEapscbKNqUDCx705hg     0 2015-12-16 05:31:03      0   \n",
       "2  6Q7-wkCPc1KF75jZLOTcMw     1 2010-06-20 19:14:48      1   \n",
       "3  k3zrItO4l9hwfLRwHBDc9w     3 2010-07-13 00:33:45      4   \n",
       "4  6hpfRwGlOzbNv7k5eP9rsQ     1 2018-06-30 02:30:01      0   \n",
       "5  Db3CfZWrtG33UZSs8Tdlsg     1 2016-10-23 22:43:56      1   \n",
       "6  gJhMeq2nVH27tz8LqbD3eQ     0 2013-05-20 19:09:43      0   \n",
       "7  Yt5gK4E9NqVa14WNiQdBlQ     0 2018-07-12 01:19:53      0   \n",
       "8  c7WsC8SbUcLyZkREzx9dGA     1 2017-09-27 22:10:26      0   \n",
       "9  NSifXpsCRvnsBRqrHF9CJA     0 2015-01-25 08:43:15      0   \n",
       "\n",
       "                review_id  stars  \\\n",
       "0  eZs2tpEJtXPwawvHnHZIgQ      1   \n",
       "1  DoQDWJsNbU0KL1O29l_Xug      4   \n",
       "2  DDOdGU7zh56yQHmUnL1idQ      3   \n",
       "3  LfTMUWnfGFMOfOIyJcwLVA      1   \n",
       "4  zJSUdI7bJ8PNJAg4lnl_Gg      4   \n",
       "5  nXYV_0joQEMXYAfNyOPsRw      4   \n",
       "6  ZA7SRi6fTRWwpo-B9O72qQ      5   \n",
       "7  4_GnHPkyTirzK6onIKO4jw      4   \n",
       "8  XGGHc7pYgOm5s6SWr8NMXA      5   \n",
       "9  --e66tyhwCE6eoRmcK2w8g      1   \n",
       "\n",
       "                                                text  useful  \\\n",
       "0  BEWARE!!! FAKE, FAKE, FAKE....We also own a sm...      10   \n",
       "1  Came here for lunch Togo. Service was quick. S...       0   \n",
       "2  I've been to Vegas dozens of times and had nev...       2   \n",
       "3  We went here on a night where they closed off ...       5   \n",
       "4  3.5 to 4 stars\\n\\nNot bad for the price, $12.9...       5   \n",
       "5  Tasty, fast casual Latin street food.  The men...       1   \n",
       "6  This show is absolutely amazing!! What an incr...       0   \n",
       "7  Came for the Pho and really enjoyed it!  We go...       0   \n",
       "8  Absolutely the most Unique experience in a nai...       0   \n",
       "9  Wow. I walked in and sat at the bar for 10 min...       2   \n",
       "\n",
       "                  user_id  \n",
       "0  n1LM36qNg4rqGXIcvVXv8w  \n",
       "1  5CgjjDAic2-FAvCtiHpytA  \n",
       "2  BdV-cf3LScmb8kZ7iiBcMA  \n",
       "3  cZZnBqh4gAEy4CdNvJailQ  \n",
       "4  n9QO4ClYAS7h9fpQwa5bhA  \n",
       "5  Gjz2PCbLZ6midk1n_0LaUg  \n",
       "6  BeKPVuqX-2at4izqVwUFEg  \n",
       "7  PuXpIJzTBQejeBZh9hwynQ  \n",
       "8  NVVknS1I51z8wY5NNrJ6vQ  \n",
       "9  J7MsJKJDSA5OGo2-Hn7MbA  "
      ]
     },
     "execution_count": 3,
     "metadata": {},
     "output_type": "execute_result"
    }
   ],
   "source": [
    "yelp.head(10)"
   ]
  },
  {
   "cell_type": "markdown",
   "metadata": {},
   "source": [
    "## Part 1: Tokenize Function\n",
    "<a id=\"#p1\"></a>\n",
    "\n",
    "Complete the function `tokenize`. Your function should\n",
    "- accept one document at a time\n",
    "- return a list of tokens\n",
    "\n",
    "You are free to use any method you have learned this week."
   ]
  },
  {
   "cell_type": "code",
   "execution_count": 5,
   "metadata": {},
   "outputs": [],
   "source": [
    "import spacy\n",
    "import re\n",
    "\n",
    "nlp = spacy.load('en_core_web_lg') \n",
    "\n",
    "{(ent.text.strip(), ent.label_) for ent in sp_lg(document).ents}\n",
    "\n",
    "stop_words = nlp.Defaults.stop_words.union(['food', 'place', 'restaurant'])\n",
    "\n",
    "def tokenize(doc):\n",
    "    \n",
    "    lemmas = []\n",
    "    \n",
    "    \n",
    "    \n",
    "    doc = doc.lower()\n",
    "    doc = re.sub('[^a-zA-Z 0-9]', '', doc)\n",
    "    doc = nlp(doc)\n",
    "    \n",
    "    for token in doc:\n",
    "        conditions = (token.text.lower() not in stop_words) and (token.is_punct == False) and (token.pos_ != 'PRON') \n",
    "        if conditions:\n",
    "            lemmas.append(token.lemma_)\n",
    "    \n",
    "    return lemmas\n",
    "\n"
   ]
  },
  {
   "cell_type": "code",
   "execution_count": 6,
   "metadata": {},
   "outputs": [],
   "source": [
    "yelp['tokens'] = yelp['text'].apply(tokenize)"
   ]
  },
  {
   "cell_type": "code",
   "execution_count": 7,
   "metadata": {},
   "outputs": [
    {
     "data": {
      "text/html": [
       "<div>\n",
       "<style scoped>\n",
       "    .dataframe tbody tr th:only-of-type {\n",
       "        vertical-align: middle;\n",
       "    }\n",
       "\n",
       "    .dataframe tbody tr th {\n",
       "        vertical-align: top;\n",
       "    }\n",
       "\n",
       "    .dataframe thead th {\n",
       "        text-align: right;\n",
       "    }\n",
       "</style>\n",
       "<table border=\"1\" class=\"dataframe\">\n",
       "  <thead>\n",
       "    <tr style=\"text-align: right;\">\n",
       "      <th></th>\n",
       "      <th>business_id</th>\n",
       "      <th>cool</th>\n",
       "      <th>date</th>\n",
       "      <th>funny</th>\n",
       "      <th>review_id</th>\n",
       "      <th>stars</th>\n",
       "      <th>text</th>\n",
       "      <th>useful</th>\n",
       "      <th>user_id</th>\n",
       "      <th>tokens</th>\n",
       "    </tr>\n",
       "  </thead>\n",
       "  <tbody>\n",
       "    <tr>\n",
       "      <th>0</th>\n",
       "      <td>nDuEqIyRc8YKS1q1fX0CZg</td>\n",
       "      <td>1</td>\n",
       "      <td>2015-03-31 16:50:30</td>\n",
       "      <td>0</td>\n",
       "      <td>eZs2tpEJtXPwawvHnHZIgQ</td>\n",
       "      <td>1</td>\n",
       "      <td>BEWARE!!! FAKE, FAKE, FAKE....We also own a sm...</td>\n",
       "      <td>10</td>\n",
       "      <td>n1LM36qNg4rqGXIcvVXv8w</td>\n",
       "      <td>[beware, fake, fake, fakewe, small, business, ...</td>\n",
       "    </tr>\n",
       "    <tr>\n",
       "      <th>1</th>\n",
       "      <td>eMYeEapscbKNqUDCx705hg</td>\n",
       "      <td>0</td>\n",
       "      <td>2015-12-16 05:31:03</td>\n",
       "      <td>0</td>\n",
       "      <td>DoQDWJsNbU0KL1O29l_Xug</td>\n",
       "      <td>4</td>\n",
       "      <td>Came here for lunch Togo. Service was quick. S...</td>\n",
       "      <td>0</td>\n",
       "      <td>5CgjjDAic2-FAvCtiHpytA</td>\n",
       "      <td>[come, lunch, togo, service, quick, staff, fri...</td>\n",
       "    </tr>\n",
       "    <tr>\n",
       "      <th>2</th>\n",
       "      <td>6Q7-wkCPc1KF75jZLOTcMw</td>\n",
       "      <td>1</td>\n",
       "      <td>2010-06-20 19:14:48</td>\n",
       "      <td>1</td>\n",
       "      <td>DDOdGU7zh56yQHmUnL1idQ</td>\n",
       "      <td>3</td>\n",
       "      <td>I've been to Vegas dozens of times and had nev...</td>\n",
       "      <td>2</td>\n",
       "      <td>BdV-cf3LScmb8kZ7iiBcMA</td>\n",
       "      <td>[have, vegas, dozen, time, step, foot, circus,...</td>\n",
       "    </tr>\n",
       "    <tr>\n",
       "      <th>3</th>\n",
       "      <td>k3zrItO4l9hwfLRwHBDc9w</td>\n",
       "      <td>3</td>\n",
       "      <td>2010-07-13 00:33:45</td>\n",
       "      <td>4</td>\n",
       "      <td>LfTMUWnfGFMOfOIyJcwLVA</td>\n",
       "      <td>1</td>\n",
       "      <td>We went here on a night where they closed off ...</td>\n",
       "      <td>5</td>\n",
       "      <td>cZZnBqh4gAEy4CdNvJailQ</td>\n",
       "      <td>[go, night, close, street, party, good, actual...</td>\n",
       "    </tr>\n",
       "    <tr>\n",
       "      <th>4</th>\n",
       "      <td>6hpfRwGlOzbNv7k5eP9rsQ</td>\n",
       "      <td>1</td>\n",
       "      <td>2018-06-30 02:30:01</td>\n",
       "      <td>0</td>\n",
       "      <td>zJSUdI7bJ8PNJAg4lnl_Gg</td>\n",
       "      <td>4</td>\n",
       "      <td>3.5 to 4 stars\\n\\nNot bad for the price, $12.9...</td>\n",
       "      <td>5</td>\n",
       "      <td>n9QO4ClYAS7h9fpQwa5bhA</td>\n",
       "      <td>[35, 4, starsnot, bad, price, 1299, lunch, sen...</td>\n",
       "    </tr>\n",
       "    <tr>\n",
       "      <th>5</th>\n",
       "      <td>Db3CfZWrtG33UZSs8Tdlsg</td>\n",
       "      <td>1</td>\n",
       "      <td>2016-10-23 22:43:56</td>\n",
       "      <td>1</td>\n",
       "      <td>nXYV_0joQEMXYAfNyOPsRw</td>\n",
       "      <td>4</td>\n",
       "      <td>Tasty, fast casual Latin street food.  The men...</td>\n",
       "      <td>1</td>\n",
       "      <td>Gjz2PCbLZ6midk1n_0LaUg</td>\n",
       "      <td>[tasty, fast, casual, latin, street,  , menu, ...</td>\n",
       "    </tr>\n",
       "    <tr>\n",
       "      <th>6</th>\n",
       "      <td>gJhMeq2nVH27tz8LqbD3eQ</td>\n",
       "      <td>0</td>\n",
       "      <td>2013-05-20 19:09:43</td>\n",
       "      <td>0</td>\n",
       "      <td>ZA7SRi6fTRWwpo-B9O72qQ</td>\n",
       "      <td>5</td>\n",
       "      <td>This show is absolutely amazing!! What an incr...</td>\n",
       "      <td>0</td>\n",
       "      <td>BeKPVuqX-2at4izqVwUFEg</td>\n",
       "      <td>[absolutely, amazing, incredible, production, ...</td>\n",
       "    </tr>\n",
       "    <tr>\n",
       "      <th>7</th>\n",
       "      <td>Yt5gK4E9NqVa14WNiQdBlQ</td>\n",
       "      <td>0</td>\n",
       "      <td>2018-07-12 01:19:53</td>\n",
       "      <td>0</td>\n",
       "      <td>4_GnHPkyTirzK6onIKO4jw</td>\n",
       "      <td>4</td>\n",
       "      <td>Came for the Pho and really enjoyed it!  We go...</td>\n",
       "      <td>0</td>\n",
       "      <td>PuXpIJzTBQejeBZh9hwynQ</td>\n",
       "      <td>[come, pho, enjoy,  , get, 900pm, busy, get, s...</td>\n",
       "    </tr>\n",
       "    <tr>\n",
       "      <th>8</th>\n",
       "      <td>c7WsC8SbUcLyZkREzx9dGA</td>\n",
       "      <td>1</td>\n",
       "      <td>2017-09-27 22:10:26</td>\n",
       "      <td>0</td>\n",
       "      <td>XGGHc7pYgOm5s6SWr8NMXA</td>\n",
       "      <td>5</td>\n",
       "      <td>Absolutely the most Unique experience in a nai...</td>\n",
       "      <td>0</td>\n",
       "      <td>NVVknS1I51z8wY5NNrJ6vQ</td>\n",
       "      <td>[absolutely, unique, experience, nail, shop, f...</td>\n",
       "    </tr>\n",
       "    <tr>\n",
       "      <th>9</th>\n",
       "      <td>NSifXpsCRvnsBRqrHF9CJA</td>\n",
       "      <td>0</td>\n",
       "      <td>2015-01-25 08:43:15</td>\n",
       "      <td>0</td>\n",
       "      <td>--e66tyhwCE6eoRmcK2w8g</td>\n",
       "      <td>1</td>\n",
       "      <td>Wow. I walked in and sat at the bar for 10 min...</td>\n",
       "      <td>2</td>\n",
       "      <td>J7MsJKJDSA5OGo2-Hn7MbA</td>\n",
       "      <td>[wow, walk, sit, bar, 10, minute, bartender, w...</td>\n",
       "    </tr>\n",
       "  </tbody>\n",
       "</table>\n",
       "</div>"
      ],
      "text/plain": [
       "              business_id  cool                date  funny  \\\n",
       "0  nDuEqIyRc8YKS1q1fX0CZg     1 2015-03-31 16:50:30      0   \n",
       "1  eMYeEapscbKNqUDCx705hg     0 2015-12-16 05:31:03      0   \n",
       "2  6Q7-wkCPc1KF75jZLOTcMw     1 2010-06-20 19:14:48      1   \n",
       "3  k3zrItO4l9hwfLRwHBDc9w     3 2010-07-13 00:33:45      4   \n",
       "4  6hpfRwGlOzbNv7k5eP9rsQ     1 2018-06-30 02:30:01      0   \n",
       "5  Db3CfZWrtG33UZSs8Tdlsg     1 2016-10-23 22:43:56      1   \n",
       "6  gJhMeq2nVH27tz8LqbD3eQ     0 2013-05-20 19:09:43      0   \n",
       "7  Yt5gK4E9NqVa14WNiQdBlQ     0 2018-07-12 01:19:53      0   \n",
       "8  c7WsC8SbUcLyZkREzx9dGA     1 2017-09-27 22:10:26      0   \n",
       "9  NSifXpsCRvnsBRqrHF9CJA     0 2015-01-25 08:43:15      0   \n",
       "\n",
       "                review_id  stars  \\\n",
       "0  eZs2tpEJtXPwawvHnHZIgQ      1   \n",
       "1  DoQDWJsNbU0KL1O29l_Xug      4   \n",
       "2  DDOdGU7zh56yQHmUnL1idQ      3   \n",
       "3  LfTMUWnfGFMOfOIyJcwLVA      1   \n",
       "4  zJSUdI7bJ8PNJAg4lnl_Gg      4   \n",
       "5  nXYV_0joQEMXYAfNyOPsRw      4   \n",
       "6  ZA7SRi6fTRWwpo-B9O72qQ      5   \n",
       "7  4_GnHPkyTirzK6onIKO4jw      4   \n",
       "8  XGGHc7pYgOm5s6SWr8NMXA      5   \n",
       "9  --e66tyhwCE6eoRmcK2w8g      1   \n",
       "\n",
       "                                                text  useful  \\\n",
       "0  BEWARE!!! FAKE, FAKE, FAKE....We also own a sm...      10   \n",
       "1  Came here for lunch Togo. Service was quick. S...       0   \n",
       "2  I've been to Vegas dozens of times and had nev...       2   \n",
       "3  We went here on a night where they closed off ...       5   \n",
       "4  3.5 to 4 stars\\n\\nNot bad for the price, $12.9...       5   \n",
       "5  Tasty, fast casual Latin street food.  The men...       1   \n",
       "6  This show is absolutely amazing!! What an incr...       0   \n",
       "7  Came for the Pho and really enjoyed it!  We go...       0   \n",
       "8  Absolutely the most Unique experience in a nai...       0   \n",
       "9  Wow. I walked in and sat at the bar for 10 min...       2   \n",
       "\n",
       "                  user_id                                             tokens  \n",
       "0  n1LM36qNg4rqGXIcvVXv8w  [beware, fake, fake, fakewe, small, business, ...  \n",
       "1  5CgjjDAic2-FAvCtiHpytA  [come, lunch, togo, service, quick, staff, fri...  \n",
       "2  BdV-cf3LScmb8kZ7iiBcMA  [have, vegas, dozen, time, step, foot, circus,...  \n",
       "3  cZZnBqh4gAEy4CdNvJailQ  [go, night, close, street, party, good, actual...  \n",
       "4  n9QO4ClYAS7h9fpQwa5bhA  [35, 4, starsnot, bad, price, 1299, lunch, sen...  \n",
       "5  Gjz2PCbLZ6midk1n_0LaUg  [tasty, fast, casual, latin, street,  , menu, ...  \n",
       "6  BeKPVuqX-2at4izqVwUFEg  [absolutely, amazing, incredible, production, ...  \n",
       "7  PuXpIJzTBQejeBZh9hwynQ  [come, pho, enjoy,  , get, 900pm, busy, get, s...  \n",
       "8  NVVknS1I51z8wY5NNrJ6vQ  [absolutely, unique, experience, nail, shop, f...  \n",
       "9  J7MsJKJDSA5OGo2-Hn7MbA  [wow, walk, sit, bar, 10, minute, bartender, w...  "
      ]
     },
     "execution_count": 7,
     "metadata": {},
     "output_type": "execute_result"
    }
   ],
   "source": [
    "yelp.head(10)"
   ]
  },
  {
   "cell_type": "markdown",
   "metadata": {},
   "source": [
    "## Part 2: Vector Representation\n",
    "<a id=\"#p2\"></a>\n",
    "1. Create a vector representation of the reviews\n",
    "2. Write a fake review and query for the 10 most similiar reviews, print the text of the reviews. Do you notice any patterns?\n",
    "    - Given the size of the dataset, it will probably be best to use a `NearestNeighbors` model for this. "
   ]
  },
  {
   "cell_type": "code",
   "execution_count": 8,
   "metadata": {},
   "outputs": [],
   "source": [
    "from sklearn.feature_extraction.text import CountVectorizer\n",
    "from sklearn.feature_extraction.text import TfidfVectorizer"
   ]
  },
  {
   "cell_type": "code",
   "execution_count": 10,
   "metadata": {},
   "outputs": [],
   "source": [
    "tfidf = TfidfVectorizer(stop_words=stop_words,  \n",
    "                        ngram_range=(1,2),\n",
    "                        max_features = 8000,\n",
    "                        tokenizer=tokenize)"
   ]
  },
  {
   "cell_type": "code",
   "execution_count": 11,
   "metadata": {},
   "outputs": [
    {
     "name": "stderr",
     "output_type": "stream",
     "text": [
      "/opt/anaconda3/envs/U4-S1-NLP/lib/python3.7/site-packages/sklearn/feature_extraction/text.py:507: UserWarning: The parameter 'token_pattern' will not be used since 'tokenizer' is not None'\n",
      "  warnings.warn(\"The parameter 'token_pattern' will not be used\"\n",
      "/opt/anaconda3/envs/U4-S1-NLP/lib/python3.7/site-packages/sklearn/feature_extraction/text.py:385: UserWarning: Your stop_words may be inconsistent with your preprocessing. Tokenizing the stop words generated tokens ['d', 'm', 'nt', 's', 've'] not in stop_words.\n",
      "  'stop_words.' % sorted(inconsistent))\n"
     ]
    },
    {
     "data": {
      "text/plain": [
       "TfidfVectorizer(analyzer='word', binary=False, decode_error='strict',\n",
       "                dtype=<class 'numpy.float64'>, encoding='utf-8',\n",
       "                input='content', lowercase=True, max_df=1.0, max_features=8000,\n",
       "                min_df=1, ngram_range=(1, 2), norm='l2', preprocessor=None,\n",
       "                smooth_idf=True,\n",
       "                stop_words={\"'d\", \"'ll\", \"'m\", \"'re\", \"'s\", \"'ve\", 'a', 'about',\n",
       "                            'above', 'across', 'after', 'afterwards', 'again',\n",
       "                            'against', 'all', 'almost', 'alone', 'along',\n",
       "                            'already', 'also', 'although', 'always', 'am',\n",
       "                            'among', 'amongst', 'amount', 'an', 'and',\n",
       "                            'another', 'any', ...},\n",
       "                strip_accents=None, sublinear_tf=False,\n",
       "                token_pattern='(?u)\\\\b\\\\w\\\\w+\\\\b',\n",
       "                tokenizer=<function tokenize at 0x11ba03e18>, use_idf=True,\n",
       "                vocabulary=None)"
      ]
     },
     "execution_count": 11,
     "metadata": {},
     "output_type": "execute_result"
    }
   ],
   "source": [
    "tfidf.fit(yelp['text'])"
   ]
  },
  {
   "cell_type": "code",
   "execution_count": 12,
   "metadata": {},
   "outputs": [],
   "source": [
    "dtm = tfidf.transform(yelp['text'])"
   ]
  },
  {
   "cell_type": "code",
   "execution_count": 13,
   "metadata": {},
   "outputs": [],
   "source": [
    "dtm = pd.DataFrame(dtm.todense(), columns=tfidf.get_feature_names())"
   ]
  },
  {
   "cell_type": "code",
   "execution_count": 14,
   "metadata": {},
   "outputs": [
    {
     "data": {
      "text/html": [
       "<div>\n",
       "<style scoped>\n",
       "    .dataframe tbody tr th:only-of-type {\n",
       "        vertical-align: middle;\n",
       "    }\n",
       "\n",
       "    .dataframe tbody tr th {\n",
       "        vertical-align: top;\n",
       "    }\n",
       "\n",
       "    .dataframe thead th {\n",
       "        text-align: right;\n",
       "    }\n",
       "</style>\n",
       "<table border=\"1\" class=\"dataframe\">\n",
       "  <thead>\n",
       "    <tr style=\"text-align: right;\">\n",
       "      <th></th>\n",
       "      <th></th>\n",
       "      <th></th>\n",
       "      <th></th>\n",
       "      <th></th>\n",
       "      <th></th>\n",
       "      <th>good</th>\n",
       "      <th>great</th>\n",
       "      <th>1</th>\n",
       "      <th>10</th>\n",
       "      <th>12</th>\n",
       "      <th>...</th>\n",
       "      <th>yum</th>\n",
       "      <th>yummy</th>\n",
       "      <th>yummy</th>\n",
       "      <th>yup</th>\n",
       "      <th>z</th>\n",
       "      <th>zero</th>\n",
       "      <th>zero star</th>\n",
       "      <th>zone</th>\n",
       "      <th>zoo</th>\n",
       "      <th>zucchini</th>\n",
       "    </tr>\n",
       "  </thead>\n",
       "  <tbody>\n",
       "    <tr>\n",
       "      <th>0</th>\n",
       "      <td>0.159334</td>\n",
       "      <td>0.0</td>\n",
       "      <td>0.0</td>\n",
       "      <td>0.0</td>\n",
       "      <td>0.0</td>\n",
       "      <td>0.0</td>\n",
       "      <td>0.0</td>\n",
       "      <td>0.0</td>\n",
       "      <td>0.0</td>\n",
       "      <td>0.0</td>\n",
       "      <td>...</td>\n",
       "      <td>0.0</td>\n",
       "      <td>0.0</td>\n",
       "      <td>0.0</td>\n",
       "      <td>0.0</td>\n",
       "      <td>0.0</td>\n",
       "      <td>0.0</td>\n",
       "      <td>0.0</td>\n",
       "      <td>0.0</td>\n",
       "      <td>0.0</td>\n",
       "      <td>0.0</td>\n",
       "    </tr>\n",
       "    <tr>\n",
       "      <th>1</th>\n",
       "      <td>0.000000</td>\n",
       "      <td>0.0</td>\n",
       "      <td>0.0</td>\n",
       "      <td>0.0</td>\n",
       "      <td>0.0</td>\n",
       "      <td>0.0</td>\n",
       "      <td>0.0</td>\n",
       "      <td>0.0</td>\n",
       "      <td>0.0</td>\n",
       "      <td>0.0</td>\n",
       "      <td>...</td>\n",
       "      <td>0.0</td>\n",
       "      <td>0.0</td>\n",
       "      <td>0.0</td>\n",
       "      <td>0.0</td>\n",
       "      <td>0.0</td>\n",
       "      <td>0.0</td>\n",
       "      <td>0.0</td>\n",
       "      <td>0.0</td>\n",
       "      <td>0.0</td>\n",
       "      <td>0.0</td>\n",
       "    </tr>\n",
       "    <tr>\n",
       "      <th>2</th>\n",
       "      <td>0.049609</td>\n",
       "      <td>0.0</td>\n",
       "      <td>0.0</td>\n",
       "      <td>0.0</td>\n",
       "      <td>0.0</td>\n",
       "      <td>0.0</td>\n",
       "      <td>0.0</td>\n",
       "      <td>0.0</td>\n",
       "      <td>0.0</td>\n",
       "      <td>0.0</td>\n",
       "      <td>...</td>\n",
       "      <td>0.0</td>\n",
       "      <td>0.0</td>\n",
       "      <td>0.0</td>\n",
       "      <td>0.0</td>\n",
       "      <td>0.0</td>\n",
       "      <td>0.0</td>\n",
       "      <td>0.0</td>\n",
       "      <td>0.0</td>\n",
       "      <td>0.0</td>\n",
       "      <td>0.0</td>\n",
       "    </tr>\n",
       "    <tr>\n",
       "      <th>3</th>\n",
       "      <td>0.000000</td>\n",
       "      <td>0.0</td>\n",
       "      <td>0.0</td>\n",
       "      <td>0.0</td>\n",
       "      <td>0.0</td>\n",
       "      <td>0.0</td>\n",
       "      <td>0.0</td>\n",
       "      <td>0.0</td>\n",
       "      <td>0.0</td>\n",
       "      <td>0.0</td>\n",
       "      <td>...</td>\n",
       "      <td>0.0</td>\n",
       "      <td>0.0</td>\n",
       "      <td>0.0</td>\n",
       "      <td>0.0</td>\n",
       "      <td>0.0</td>\n",
       "      <td>0.0</td>\n",
       "      <td>0.0</td>\n",
       "      <td>0.0</td>\n",
       "      <td>0.0</td>\n",
       "      <td>0.0</td>\n",
       "    </tr>\n",
       "    <tr>\n",
       "      <th>4</th>\n",
       "      <td>0.098148</td>\n",
       "      <td>0.0</td>\n",
       "      <td>0.0</td>\n",
       "      <td>0.0</td>\n",
       "      <td>0.0</td>\n",
       "      <td>0.0</td>\n",
       "      <td>0.0</td>\n",
       "      <td>0.0</td>\n",
       "      <td>0.0</td>\n",
       "      <td>0.0</td>\n",
       "      <td>...</td>\n",
       "      <td>0.0</td>\n",
       "      <td>0.0</td>\n",
       "      <td>0.0</td>\n",
       "      <td>0.0</td>\n",
       "      <td>0.0</td>\n",
       "      <td>0.0</td>\n",
       "      <td>0.0</td>\n",
       "      <td>0.0</td>\n",
       "      <td>0.0</td>\n",
       "      <td>0.0</td>\n",
       "    </tr>\n",
       "    <tr>\n",
       "      <th>5</th>\n",
       "      <td>0.251470</td>\n",
       "      <td>0.0</td>\n",
       "      <td>0.0</td>\n",
       "      <td>0.0</td>\n",
       "      <td>0.0</td>\n",
       "      <td>0.0</td>\n",
       "      <td>0.0</td>\n",
       "      <td>0.0</td>\n",
       "      <td>0.0</td>\n",
       "      <td>0.0</td>\n",
       "      <td>...</td>\n",
       "      <td>0.0</td>\n",
       "      <td>0.0</td>\n",
       "      <td>0.0</td>\n",
       "      <td>0.0</td>\n",
       "      <td>0.0</td>\n",
       "      <td>0.0</td>\n",
       "      <td>0.0</td>\n",
       "      <td>0.0</td>\n",
       "      <td>0.0</td>\n",
       "      <td>0.0</td>\n",
       "    </tr>\n",
       "    <tr>\n",
       "      <th>6</th>\n",
       "      <td>0.405652</td>\n",
       "      <td>0.0</td>\n",
       "      <td>0.0</td>\n",
       "      <td>0.0</td>\n",
       "      <td>0.0</td>\n",
       "      <td>0.0</td>\n",
       "      <td>0.0</td>\n",
       "      <td>0.0</td>\n",
       "      <td>0.0</td>\n",
       "      <td>0.0</td>\n",
       "      <td>...</td>\n",
       "      <td>0.0</td>\n",
       "      <td>0.0</td>\n",
       "      <td>0.0</td>\n",
       "      <td>0.0</td>\n",
       "      <td>0.0</td>\n",
       "      <td>0.0</td>\n",
       "      <td>0.0</td>\n",
       "      <td>0.0</td>\n",
       "      <td>0.0</td>\n",
       "      <td>0.0</td>\n",
       "    </tr>\n",
       "    <tr>\n",
       "      <th>7</th>\n",
       "      <td>0.072213</td>\n",
       "      <td>0.0</td>\n",
       "      <td>0.0</td>\n",
       "      <td>0.0</td>\n",
       "      <td>0.0</td>\n",
       "      <td>0.0</td>\n",
       "      <td>0.0</td>\n",
       "      <td>0.0</td>\n",
       "      <td>0.0</td>\n",
       "      <td>0.0</td>\n",
       "      <td>...</td>\n",
       "      <td>0.0</td>\n",
       "      <td>0.0</td>\n",
       "      <td>0.0</td>\n",
       "      <td>0.0</td>\n",
       "      <td>0.0</td>\n",
       "      <td>0.0</td>\n",
       "      <td>0.0</td>\n",
       "      <td>0.0</td>\n",
       "      <td>0.0</td>\n",
       "      <td>0.0</td>\n",
       "    </tr>\n",
       "    <tr>\n",
       "      <th>8</th>\n",
       "      <td>0.000000</td>\n",
       "      <td>0.0</td>\n",
       "      <td>0.0</td>\n",
       "      <td>0.0</td>\n",
       "      <td>0.0</td>\n",
       "      <td>0.0</td>\n",
       "      <td>0.0</td>\n",
       "      <td>0.0</td>\n",
       "      <td>0.0</td>\n",
       "      <td>0.0</td>\n",
       "      <td>...</td>\n",
       "      <td>0.0</td>\n",
       "      <td>0.0</td>\n",
       "      <td>0.0</td>\n",
       "      <td>0.0</td>\n",
       "      <td>0.0</td>\n",
       "      <td>0.0</td>\n",
       "      <td>0.0</td>\n",
       "      <td>0.0</td>\n",
       "      <td>0.0</td>\n",
       "      <td>0.0</td>\n",
       "    </tr>\n",
       "    <tr>\n",
       "      <th>9</th>\n",
       "      <td>0.000000</td>\n",
       "      <td>0.0</td>\n",
       "      <td>0.0</td>\n",
       "      <td>0.0</td>\n",
       "      <td>0.0</td>\n",
       "      <td>0.0</td>\n",
       "      <td>0.0</td>\n",
       "      <td>0.0</td>\n",
       "      <td>0.0</td>\n",
       "      <td>0.0</td>\n",
       "      <td>...</td>\n",
       "      <td>0.0</td>\n",
       "      <td>0.0</td>\n",
       "      <td>0.0</td>\n",
       "      <td>0.0</td>\n",
       "      <td>0.0</td>\n",
       "      <td>0.0</td>\n",
       "      <td>0.0</td>\n",
       "      <td>0.0</td>\n",
       "      <td>0.0</td>\n",
       "      <td>0.0</td>\n",
       "    </tr>\n",
       "  </tbody>\n",
       "</table>\n",
       "<p>10 rows × 8000 columns</p>\n",
       "</div>"
      ],
      "text/plain": [
       "                                       good     great    1    10    12  ...  \\\n",
       "0  0.159334  0.0  0.0   0.0    0.0      0.0       0.0  0.0   0.0   0.0  ...   \n",
       "1  0.000000  0.0  0.0   0.0    0.0      0.0       0.0  0.0   0.0   0.0  ...   \n",
       "2  0.049609  0.0  0.0   0.0    0.0      0.0       0.0  0.0   0.0   0.0  ...   \n",
       "3  0.000000  0.0  0.0   0.0    0.0      0.0       0.0  0.0   0.0   0.0  ...   \n",
       "4  0.098148  0.0  0.0   0.0    0.0      0.0       0.0  0.0   0.0   0.0  ...   \n",
       "5  0.251470  0.0  0.0   0.0    0.0      0.0       0.0  0.0   0.0   0.0  ...   \n",
       "6  0.405652  0.0  0.0   0.0    0.0      0.0       0.0  0.0   0.0   0.0  ...   \n",
       "7  0.072213  0.0  0.0   0.0    0.0      0.0       0.0  0.0   0.0   0.0  ...   \n",
       "8  0.000000  0.0  0.0   0.0    0.0      0.0       0.0  0.0   0.0   0.0  ...   \n",
       "9  0.000000  0.0  0.0   0.0    0.0      0.0       0.0  0.0   0.0   0.0  ...   \n",
       "\n",
       "   yum    yummy  yummy    yup    z  zero  zero star  zone  zoo  zucchini  \n",
       "0    0.0    0.0      0.0  0.0  0.0   0.0        0.0   0.0  0.0       0.0  \n",
       "1    0.0    0.0      0.0  0.0  0.0   0.0        0.0   0.0  0.0       0.0  \n",
       "2    0.0    0.0      0.0  0.0  0.0   0.0        0.0   0.0  0.0       0.0  \n",
       "3    0.0    0.0      0.0  0.0  0.0   0.0        0.0   0.0  0.0       0.0  \n",
       "4    0.0    0.0      0.0  0.0  0.0   0.0        0.0   0.0  0.0       0.0  \n",
       "5    0.0    0.0      0.0  0.0  0.0   0.0        0.0   0.0  0.0       0.0  \n",
       "6    0.0    0.0      0.0  0.0  0.0   0.0        0.0   0.0  0.0       0.0  \n",
       "7    0.0    0.0      0.0  0.0  0.0   0.0        0.0   0.0  0.0       0.0  \n",
       "8    0.0    0.0      0.0  0.0  0.0   0.0        0.0   0.0  0.0       0.0  \n",
       "9    0.0    0.0      0.0  0.0  0.0   0.0        0.0   0.0  0.0       0.0  \n",
       "\n",
       "[10 rows x 8000 columns]"
      ]
     },
     "execution_count": 14,
     "metadata": {},
     "output_type": "execute_result"
    }
   ],
   "source": [
    "dtm.head(10)"
   ]
  },
  {
   "cell_type": "code",
   "execution_count": 15,
   "metadata": {},
   "outputs": [
    {
     "data": {
      "text/plain": [
       "NearestNeighbors(algorithm='kd_tree', leaf_size=30, metric='minkowski',\n",
       "                 metric_params=None, n_jobs=None, n_neighbors=10, p=2,\n",
       "                 radius=1.0)"
      ]
     },
     "execution_count": 15,
     "metadata": {},
     "output_type": "execute_result"
    }
   ],
   "source": [
    "from sklearn.neighbors import NearestNeighbors\n",
    "\n",
    "knn = NearestNeighbors(n_neighbors=10, algorithm='kd_tree')\n",
    "\n",
    "knn.fit(dtm)"
   ]
  },
  {
   "cell_type": "code",
   "execution_count": 16,
   "metadata": {},
   "outputs": [],
   "source": [
    "fake = [\"\"\"\n",
    "        This place is great! The food, atmosphere, and music were all amazing!\n",
    "        \"\"\"]"
   ]
  },
  {
   "cell_type": "code",
   "execution_count": 17,
   "metadata": {},
   "outputs": [],
   "source": [
    "new = tfidf.transform(fake)"
   ]
  },
  {
   "cell_type": "code",
   "execution_count": 18,
   "metadata": {},
   "outputs": [
    {
     "data": {
      "text/plain": [
       "(array([[0.98209434, 1.        , 1.00717032, 1.03172176, 1.03971097,\n",
       "         1.04798491, 1.084598  , 1.09170357, 1.09967636, 1.10207121]]),\n",
       " array([[2412, 6311, 1192, 7594, 4466, 5621, 6211, 2803, 7898, 4545]]))"
      ]
     },
     "execution_count": 18,
     "metadata": {},
     "output_type": "execute_result"
    }
   ],
   "source": [
    "knn.kneighbors(new.todense())"
   ]
  },
  {
   "cell_type": "code",
   "execution_count": 19,
   "metadata": {},
   "outputs": [
    {
     "data": {
      "text/plain": [
       "\"Loving the vibe here. Live music, local ingredients, everything is made from scratch and it's got a great atmosphere.\""
      ]
     },
     "execution_count": 19,
     "metadata": {},
     "output_type": "execute_result"
    }
   ],
   "source": [
    "yelp.iloc[2412]['text']"
   ]
  },
  {
   "cell_type": "code",
   "execution_count": 20,
   "metadata": {},
   "outputs": [
    {
     "data": {
      "text/plain": [
       "'天氣很熱吃不下東西，今天我點了一個韓國冷面湯、餐後點了甜點，冰沙系列不會太甜膩，覺得店家很用心製作，包含擺盤精緻、佐料衛生，夏日想開胃，這是一個不錯的選擇，服務人員也很敬業，以後會常常來'"
      ]
     },
     "execution_count": 20,
     "metadata": {},
     "output_type": "execute_result"
    }
   ],
   "source": [
    "yelp.iloc[6311]['text']"
   ]
  },
  {
   "cell_type": "code",
   "execution_count": 21,
   "metadata": {},
   "outputs": [
    {
     "data": {
      "text/plain": [
       "'This place is so cute! It has a great atmosphere, the staff is really friendly and the food is great!'"
      ]
     },
     "execution_count": 21,
     "metadata": {},
     "output_type": "execute_result"
    }
   ],
   "source": [
    "yelp.iloc[1192]['text']"
   ]
  },
  {
   "cell_type": "code",
   "execution_count": 22,
   "metadata": {},
   "outputs": [
    {
     "data": {
      "text/plain": [
       "'Great place to hang out SteveO is awesome and makes you feel very welcomed....been here before and will be back more often. Great music and a great atmosphere. Food was great and the drinks were even better. Good times!'"
      ]
     },
     "execution_count": 22,
     "metadata": {},
     "output_type": "execute_result"
    }
   ],
   "source": [
    "yelp.iloc[7594]['text']"
   ]
  },
  {
   "cell_type": "code",
   "execution_count": 23,
   "metadata": {},
   "outputs": [
    {
     "data": {
      "text/plain": [
       "'Great atmosphere and Dr. Murphy is really good with kids! He is working on my 2nd daughter now!'"
      ]
     },
     "execution_count": 23,
     "metadata": {},
     "output_type": "execute_result"
    }
   ],
   "source": [
    "yelp.iloc[4466]['text']"
   ]
  },
  {
   "cell_type": "code",
   "execution_count": 24,
   "metadata": {},
   "outputs": [
    {
     "data": {
      "text/plain": [
       "\"First time here! Great atmosphere, great music, delicious cocktails! Expanding at the moment, can't wait until it's done! Kitchen coming!\""
      ]
     },
     "execution_count": 24,
     "metadata": {},
     "output_type": "execute_result"
    }
   ],
   "source": [
    "yelp.iloc[5621]['text']"
   ]
  },
  {
   "cell_type": "code",
   "execution_count": 25,
   "metadata": {},
   "outputs": [
    {
     "data": {
      "text/plain": [
       "'Great food, atmosphere and staff except for the host. He was so rude! Loved our waiter and all the other servers!  The food was great! The patio was also great and well lit and heated.'"
      ]
     },
     "execution_count": 25,
     "metadata": {},
     "output_type": "execute_result"
    }
   ],
   "source": [
    "yelp.iloc[6211]['text']"
   ]
  },
  {
   "cell_type": "code",
   "execution_count": 26,
   "metadata": {},
   "outputs": [
    {
     "data": {
      "text/plain": [
       "'. Great atmosphere. Cool people! Always have exactly what we need and never have to deal with huddle od taking to long to get produxt'"
      ]
     },
     "execution_count": 26,
     "metadata": {},
     "output_type": "execute_result"
    }
   ],
   "source": [
    "yelp.iloc[2803]['text']"
   ]
  },
  {
   "cell_type": "code",
   "execution_count": 27,
   "metadata": {},
   "outputs": [
    {
     "data": {
      "text/plain": [
       "'First time eating here. I was impressed. Great Atmosphere, great food and our server Jeannette was fantastic.'"
      ]
     },
     "execution_count": 27,
     "metadata": {},
     "output_type": "execute_result"
    }
   ],
   "source": [
    "yelp.iloc[7898]['text']"
   ]
  },
  {
   "cell_type": "code",
   "execution_count": 28,
   "metadata": {},
   "outputs": [
    {
     "data": {
      "text/plain": [
       "\"Amazing food with a great atmosphere.  \\nOur favorite is sitting outside enjoying the patio.  \\n\\nWe siggest ordering different dishes and sharing.  That way you get to try different dishes, because they're all great.   \\n\\nThey had live music during the day Sunday.  Really enjoyed that.  \\n\\nI definitely recommend it.  Especially because Mesa seems to be lacking in restaurants with great atmosphere and food.\""
      ]
     },
     "execution_count": 28,
     "metadata": {},
     "output_type": "execute_result"
    }
   ],
   "source": [
    "yelp.iloc[4545]['text']"
   ]
  },
  {
   "cell_type": "markdown",
   "metadata": {},
   "source": [
    "## Part 3: Classification\n",
    "<a id=\"#p3\"></a>\n",
    "Your goal in this section will be to predict `stars` from the review dataset. \n",
    "\n",
    "1. Create a piepline object with a sklearn `CountVectorizer` or `TfidfVector` and any sklearn classifier. Use that pipeline to estimate a model to predict `stars`. Use the Pipeline to predict a star rating for your fake review from Part 2. \n",
    "2. Tune the entire pipeline with a GridSearch"
   ]
  },
  {
   "cell_type": "code",
   "execution_count": 29,
   "metadata": {},
   "outputs": [],
   "source": [
    "from sklearn.ensemble import RandomForestClassifier\n",
    "from sklearn.pipeline import Pipeline\n",
    "\n",
    "clf = RandomForestClassifier()\n",
    "\n",
    "pipe = Pipeline([('tfidf', tfidf), ('clf', clf)])"
   ]
  },
  {
   "cell_type": "code",
   "execution_count": 30,
   "metadata": {},
   "outputs": [
    {
     "data": {
      "text/plain": [
       "dtype('int64')"
      ]
     },
     "execution_count": 30,
     "metadata": {},
     "output_type": "execute_result"
    }
   ],
   "source": [
    "yelp['stars'].dtype"
   ]
  },
  {
   "cell_type": "code",
   "execution_count": 31,
   "metadata": {},
   "outputs": [
    {
     "data": {
      "text/plain": [
       "5    0.4462\n",
       "4    0.2185\n",
       "1    0.1496\n",
       "3    0.1098\n",
       "2    0.0759\n",
       "Name: stars, dtype: float64"
      ]
     },
     "execution_count": 31,
     "metadata": {},
     "output_type": "execute_result"
    }
   ],
   "source": [
    "yelp['stars'].value_counts(normalize=True)"
   ]
  },
  {
   "cell_type": "code",
   "execution_count": 32,
   "metadata": {},
   "outputs": [
    {
     "data": {
      "image/png": "[encoded data removed]",
      "text/plain": [
       "<Figure size 432x288 with 1 Axes>"
      ]
     },
     "metadata": {
      "needs_background": "light"
     },
     "output_type": "display_data"
    }
   ],
   "source": [
    "import seaborn as sns\n",
    "\n",
    "sns.countplot(yelp['stars']);"
   ]
  },
  {
   "cell_type": "code",
   "execution_count": 47,
   "metadata": {},
   "outputs": [
    {
     "name": "stdout",
     "output_type": "stream",
     "text": [
      "Fitting 2 folds for each of 2 candidates, totalling 4 fits\n"
     ]
    },
    {
     "name": "stderr",
     "output_type": "stream",
     "text": [
      "[Parallel(n_jobs=-1)]: Using backend LokyBackend with 8 concurrent workers.\n",
      "[Parallel(n_jobs=-1)]: Done   4 out of   4 | elapsed:  2.2min remaining:    0.0s\n",
      "[Parallel(n_jobs=-1)]: Done   4 out of   4 | elapsed:  2.2min finished\n",
      "/opt/anaconda3/envs/U4-S1-NLP/lib/python3.7/site-packages/sklearn/feature_extraction/text.py:385: UserWarning: Your stop_words may be inconsistent with your preprocessing. Tokenizing the stop words generated tokens ['d', 'm', 'nt', 's', 've'] not in stop_words.\n",
      "  'stop_words.' % sorted(inconsistent))\n"
     ]
    },
    {
     "data": {
      "text/plain": [
       "GridSearchCV(cv=2, error_score=nan,\n",
       "             estimator=Pipeline(memory=None,\n",
       "                                steps=[('tfidf',\n",
       "                                        TfidfVectorizer(analyzer='word',\n",
       "                                                        binary=False,\n",
       "                                                        decode_error='strict',\n",
       "                                                        dtype=<class 'numpy.float64'>,\n",
       "                                                        encoding='utf-8',\n",
       "                                                        input='content',\n",
       "                                                        lowercase=True,\n",
       "                                                        max_df=1.0,\n",
       "                                                        max_features=8000,\n",
       "                                                        min_df=1,\n",
       "                                                        ngram_range=(1, 2),\n",
       "                                                        norm='l2',\n",
       "                                                        preprocessor=None,\n",
       "                                                        smooth_idf=True,\n",
       "                                                        stop_words={\"'d\", \"'ll\",\n",
       "                                                                    \"'...\n",
       "                                                               min_impurity_split=None,\n",
       "                                                               min_samples_leaf=1,\n",
       "                                                               min_samples_split=2,\n",
       "                                                               min_weight_fraction_leaf=0.0,\n",
       "                                                               n_estimators=100,\n",
       "                                                               n_jobs=None,\n",
       "                                                               oob_score=False,\n",
       "                                                               random_state=None,\n",
       "                                                               verbose=0,\n",
       "                                                               warm_start=False))],\n",
       "                                verbose=False),\n",
       "             iid='deprecated', n_jobs=-1,\n",
       "             param_grid={'tfidf__max_features': (500, 1000)},\n",
       "             pre_dispatch='2*n_jobs', refit=True, return_train_score=False,\n",
       "             scoring=None, verbose=1)"
      ]
     },
     "execution_count": 47,
     "metadata": {},
     "output_type": "execute_result"
    }
   ],
   "source": [
    "from sklearn.model_selection import GridSearchCV\n",
    "\n",
    "parameters = {\n",
    "    'tfidf__max_features': (500, 1000)\n",
    "}\n",
    "\n",
    "grid_search = GridSearchCV(pipe, parameters, cv=2, n_jobs=-1, verbose=1)\n",
    "\n",
    "grid_search.fit(yelp['text'], yelp['stars'])"
   ]
  },
  {
   "cell_type": "code",
   "execution_count": 48,
   "metadata": {},
   "outputs": [
    {
     "name": "stdout",
     "output_type": "stream",
     "text": [
      "[5]\n"
     ]
    }
   ],
   "source": [
    "print(grid_search.predict(fake))"
   ]
  },
  {
   "cell_type": "markdown",
   "metadata": {},
   "source": [
    "## Part 4: Topic Modeling\n",
    "\n",
    "Let's find out what those yelp reviews are saying! :D\n",
    "\n",
    "1. Estimate a LDA topic model of the review text\n",
    "    - Keep the `iterations` parameter at or below 5 to reduce run time\n",
    "    - The `workers` parameter should match the number of physical cores on your machine.\n",
    "2. Create 1-2 visualizations of the results\n",
    "    - You can use the most important 3 words of a topic in relevant visualizations. Refer to yesterday's notebook to extract. \n",
    "3. In markdown, write 1-2 paragraphs of analysis on the results of your topic model\n",
    "\n",
    "__*Note*__: You can pass the DataFrame column of text reviews to gensim. You do not have to use a generator."
   ]
  },
  {
   "cell_type": "code",
   "execution_count": 49,
   "metadata": {
    "collapsed": false,
    "inputHidden": false,
    "jupyter": {
     "outputs_hidden": false
    },
    "outputHidden": false
   },
   "outputs": [],
   "source": [
    "import gensim\n",
    "from gensim import corpora\n",
    "from gensim.models.ldamulticore import LdaMulticore\n",
    "from gensim.models import LdaMulticore\n",
    "from gensim.corpora import Dictionary"
   ]
  },
  {
   "cell_type": "markdown",
   "metadata": {},
   "source": [
    "Learn the vocubalary of the yelp data:"
   ]
  },
  {
   "cell_type": "code",
   "execution_count": 50,
   "metadata": {},
   "outputs": [],
   "source": [
    "id2word = corpora.Dictionary(yelp['tokens'])"
   ]
  },
  {
   "cell_type": "markdown",
   "metadata": {},
   "source": [
    "Create a bag of words representation of the entire corpus"
   ]
  },
  {
   "cell_type": "code",
   "execution_count": 51,
   "metadata": {
    "collapsed": false,
    "inputHidden": false,
    "jupyter": {
     "outputs_hidden": false
    },
    "outputHidden": false
   },
   "outputs": [],
   "source": [
    "corpus = [id2word.doc2bow(doc) for doc in yelp['tokens']]"
   ]
  },
  {
   "cell_type": "markdown",
   "metadata": {},
   "source": [
    "Your LDA model should be ready for estimation: "
   ]
  },
  {
   "cell_type": "code",
   "execution_count": 52,
   "metadata": {
    "collapsed": false,
    "inputHidden": false,
    "jupyter": {
     "outputs_hidden": false
    },
    "outputHidden": false
   },
   "outputs": [],
   "source": [
    "lda = LdaMulticore(corpus=corpus,\n",
    "                   id2word=id2word,\n",
    "                   iterations=5,\n",
    "                   workers=8,\n",
    "                   num_topics = 5\n",
    "                  )"
   ]
  },
  {
   "cell_type": "code",
   "execution_count": null,
   "metadata": {},
   "outputs": [],
   "source": [
    "import re\n",
    "\n",
    "words = [re.findall(r'\"([^\"]*)\"',t[1]) for t in lda.print_topics()]\n",
    "\n",
    "topics = [' '.join(t[0:3]) for t in words]\n",
    "\n",
    "for id, t in enumerate(topics): \n",
    "    print(f\"------ Topic {id} ------\")\n",
    "    print(t, end=\"\\n\\n\")"
   ]
  },
  {
   "cell_type": "markdown",
   "metadata": {},
   "source": [
    "In the intertopic distance map, it looks like topics 3 and 4 of my top five topics overlapped a little bit. This was probably due to poor modeling, or a lack of variation in the actual texts of the reviews. Many of the top 30 most relevant terms for each topic are very similar. I also noticed a blank value for the most common term. For all the topics, the first two actual words were interchanged in commonality: good and not. This is actually quite interesting, since good carries a positive connotation and not carries a negative one. It would be interesting to see the full set of results to figure out how frequently \"good,\" \"not,\" and \"not good\" correlate.\n",
    "\n",
    "At this point, in order to improve the results of the lda model, it would be necessary to dive deeper into the most relevant terms being extracted, and determine which of those are actually salient in determining the rating. The parameters can also use a good hypertuning (jk it's clearly tuning hyperparameters, if any professional ends up reading this for any reason whatsoever).\n",
    "\n"
   ]
  },
  {
   "cell_type": "markdown",
   "metadata": {},
   "source": [
    "Create 1-2 visualizations of the results"
   ]
  },
  {
   "cell_type": "code",
   "execution_count": 54,
   "metadata": {
    "collapsed": false,
    "inputHidden": false,
    "jupyter": {
     "outputs_hidden": false
    },
    "outputHidden": false
   },
   "outputs": [],
   "source": [
    "import pyLDAvis.gensim\n",
    "\n",
    "\n",
    "pyLDAvis.enable_notebook()"
   ]
  },
  {
   "cell_type": "code",
   "execution_count": 55,
   "metadata": {},
   "outputs": [
    {
     "data": {
      "text/html": [
       "\n",
       "<link rel=\"stylesheet\" type=\"text/css\" href=\"https://cdn.rawgit.com/bmabey/pyLDAvis/files/ldavis.v1.0.0.css\">\n",
       "\n",
       "\n",
       "<div id=\"ldavis_el1908953388877767832197284\"></div>\n",
       "<script type=\"text/javascript\">\n",
       "\n",
       "var ldavis_el1908953388877767832197284_data = {\"mdsDat\": {\"x\": [-0.005323599747164005, 0.00027515117889362063, 0.00238040922810573, 0.0027351566463191795, -6.711730615452507e-05], \"y\": [-0.0013619113049118034, -0.0017337600511843883, -0.0008235333100333054, -0.0016236213458556473, 0.0055428260119851445], \"topics\": [1, 2, 3, 4, 5], \"cluster\": [1, 1, 1, 1, 1], \"Freq\": [20.733125686645508, 19.85859489440918, 19.85675811767578, 19.804996490478516, 19.746524810791016]}, \"tinfo\": {\"Term\": [\" \", \"great\", \"time\", \"like\", \"little\", \"be\", \"have\", \"come\", \"good\", \"not\", \"go\", \"people\", \"get\", \"room\", \"think\", \"drink\", \"love\", \"order\", \"price\", \"say\", \"eat\", \"lunch\", \"amazing\", \"open\", \"taste\", \"service\", \"look\", \"clean\", \"beer\", \"dish\", \"herelas\", \"everrrrr\", \"bubbleheade\", \"loser\", \"elaine\", \"starbuckswell\", \"unit\", \"grazie\", \"piri\", \"explode\", \"royale\", \"friedservice\", \"forfollowuphave\", \"croissant\", \"katzs\", \"toonlomg\", \"ronnie\", \"property\", \"embarrassment\", \"backfood\", \"hotbox\", \"chapman\", \"flancake\", \"garbanzo\", \"assembly\", \"november\", \"yasmin\", \"elephant\", \"kronut\", \"dressimg\", \"1\", \"live\", \"huge\", \"protein\", \"rip\", \"resort\", \"salesman\", \"bathroom\", \"time\", \"say\", \"ingredient\", \"sale\", \"unfortunately\", \"finish\", \"close\", \"server\", \" \", \"definitely\", \"large\", \"old\", \"yummy\", \"try\", \"thick\", \"variety\", \"play\", \"need\", \"go\", \"pull\", \"not\", \"love\", \"find\", \"will\", \"5\", \"come\", \"tell\", \"want\", \"menu\", \"delicious\", \"think\", \"selection\", \"s\", \"good\", \"minute\", \"know\", \"get\", \"feel\", \"order\", \"wait\", \"like\", \"hour\", \"service\", \"work\", \"look\", \"have\", \"take\", \"nice\", \"great\", \"price\", \"196lp55053451458italia5445i151520exit25sloani15ipadlp550545579usbpc05800m99212thank\", \"fantabulous\", \"zcafe\", \"peopleare\", \"httpthingsthatareawesomecom20130327voodoochildcafe\", \"hinds\", \"worldfor\", \"cookbook\", \"edgars\", \"vibe\", \"servicemaybe\", \"manny\", \"daddywent\", \"fucking\", \"backstaff\", \"fowl\", \"appetizersentreesgo\", \"outcant\", \"grump\", \"tamale\", \"carlos\", \"ana\", \"meilleurs\", \"compel\", \"lauto\", \"eglinton\", \"ethan\", \"rendevouz\", \"ari\", \"111\", \"die\", \"authentic\", \"start\", \"possible\", \"chip\", \"originally\", \"little\", \"frequent\", \"absolutely\", \"glass\", \"dish\", \"able\", \"watch\", \"atmosphere\", \"brunch\", \"parking\", \" \", \"great\", \"care\", \"point\", \"lunch\", \"  \", \"lobster\", \"customer\", \"salad\", \"day\", \"taste\", \"order\", \"enjoy\", \"table\", \"staff\", \"fresh\", \"ask\", \"service\", \"feel\", \"nice\", \"lot\", \"get\", \"price\", \"want\", \"good\", \"try\", \"not\", \"know\", \"bit\", \"like\", \"come\", \"have\", \"time\", \"go\", \"work\", \"eat\", \"wait\", \"tell\", \"friendly\", \"love\", \"look\", \"cheesetart\", \"breakfastwtf\", \"headset\", \"mesaid\", \"abruptly\", \"aptive\", \"forman\", \"imcomplete\", \"packer\", \"flyest\", \"accounting\", \"servicesfound\", \"nca\", \"efrain\", \"6ishpm\", \"european\", \"boots\", \"berelowitz\", \"resturants\", \"devin\", \"peopleed\", \"rudys\", \"speakeasy\", \"asians\", \"bass\", \"idlywada\", \"organis\", \"instruction\", \"booming\", \"globe\", \"hard\", \"personnel\", \"stress\", \"drivethrough\", \"carne\", \"grant\", \"clean\", \"spray\", \"happy\", \"cool\", \"park\", \"hair\", \"little\", \"choice\", \"contain\", \"give\", \"short\", \"thing\", \"serve\", \"stuff\", \"yelp\", \"seat\", \"move\", \"offer\", \"coffee\", \"come\", \"like\", \"good\", \"not\", \"fast\", \"think\", \"well\", \"leave\", \"taste\", \"sure\", \"service\", \"order\", \"great\", \"go\", \"look\", \" \", \"experience\", \"ask\", \"drink\", \"chicken\", \"menu\", \"get\", \"time\", \"wait\", \"staff\", \"love\", \"find\", \"try\", \"say\", \"have\", \"know\", \"want\", \"nice\", \"be\", \"yuk\", \"yik\", \"yukyuk\", \"roomtastic\", \"deltai\", \"bombsooo\", \"dankbbs\", \"julep\", \"startup\", \"puppet\", \"wwwfacebookcomcastleshannonsweetstop\", \"disheswhat\", \"slection\", \"shisha\", \"xiao\", \"cuticle\", \"12liquor\", \"proscuitto\", \"dcor\", \"perrys\", \"related\", \"aburi\", \"sconefacebookhttps\", \"sizzorhands\", \"northern\", \"lemony\", \"uninviting\", \"huntington\", \"ehhhh\", \"shimp\", \"potato\", \"consistency\", \"oxtail\", \"sharing\", \"room\", \"open\", \"de\", \"beer\", \"shred\", \"eat\", \"meat\", \"station\", \"salon\", \"fry\", \"ok\", \"opinion\", \"star\", \"pricing\", \"texture\", \"love\", \"good\", \"time\", \"look\", \"rice\", \"price\", \"worth\", \"nail\", \"home\", \"go\", \"wing\", \"bite\", \"think\", \"show\", \"flavor\", \"kind\", \"change\", \"friend\", \"recommend\", \"great\", \"bad\", \"service\", \"staff\", \"take\", \"not\", \"order\", \" \", \"find\", \"have\", \"wait\", \"new\", \"definitely\", \"try\", \"drink\", \"come\", \"know\", \"like\", \"get\", \"ask\", \"nice\", \"say\", \"india\", \"kupcake\", \"tn\", \"getgo\", \"humorromance\", \"inspiring\", \"wedding\", \"explosive\", \"hakka\", \"gymit\", \"restorative\", \"chelsea\", \"sandwichfood\", \"kristina\", \"acrobaticsreally\", \"restauran\", \"termite\", \"datescan\", \"lgbtq\", \"speechless\", \"deanna\", \"restaurateur\", \"showyou\", \"fake\", \"be\", \"orizabas\", \"aloe\", \"urgency\", \"vegan\", \"beause\", \"accurate\", \"aaa\", \"people\", \"ambiance\", \"have\", \"talk\", \"like\", \"fan\", \"tasty\", \"get\", \"cheap\", \"quick\", \"budget\", \"drink\", \"family\", \"thank\", \"chinese\", \"lack\", \"salsa\", \"amazing\", \"sit\", \"work\", \"pizza\", \"rude\", \"stay\", \"town\", \"come\", \"bring\", \"soup\", \"set\", \"not\", \"s\", \" \", \"chicken\", \"nice\", \"great\", \"price\", \"want\", \"item\", \"2\", \"good\", \"try\", \"need\", \"service\", \"time\", \"love\", \"take\", \"lot\", \"recommend\", \"order\", \"day\", \"eat\", \"look\", \"go\", \"wait\"], \"Freq\": [18190.0, 4005.0, 3932.0, 3602.0, 1326.0, 1502.0, 2221.0, 3672.0, 5966.0, 7264.0, 2852.0, 1311.0, 2734.0, 1036.0, 1422.0, 1331.0, 2129.0, 3224.0, 1639.0, 1446.0, 1472.0, 722.0, 1192.0, 631.0, 1080.0, 3450.0, 1851.0, 806.0, 558.0, 839.0, 0.7125293612480164, 0.6790552139282227, 0.6773685812950134, 0.9816079139709473, 0.9755063652992249, 0.6497008204460144, 15.197052955627441, 1.288135051727295, 0.9628912210464478, 2.2106130123138428, 3.709942579269409, 0.6197469234466553, 0.6115725636482239, 18.1867618560791, 0.6072896718978882, 0.6040388345718384, 1.805503487586975, 30.36153793334961, 0.6000321507453918, 0.5984991192817688, 1.1929116249084473, 1.7817332744598389, 0.5948934555053711, 0.5925157070159912, 2.3616034984588623, 6.790180683135986, 0.8847920894622803, 2.06398606300354, 0.5890367031097412, 0.5875155329704285, 132.3695068359375, 134.03887939453125, 138.2103271484375, 13.142538070678711, 17.763120651245117, 22.37788963317871, 11.647205352783203, 48.64895248413086, 1135.7926025390625, 424.05316162109375, 46.86503601074219, 49.10197448730469, 49.46406173706055, 89.78204345703125, 167.3676300048828, 220.10581970214844, 4577.10302734375, 368.1631164550781, 148.88841247558594, 153.39112854003906, 57.54531478881836, 613.1517944335938, 29.072769165039062, 82.12438201904297, 72.89859771728516, 338.0886535644531, 695.9658203125, 46.76039505004883, 1657.5618896484375, 523.6029052734375, 376.1097412109375, 164.10011291503906, 171.73570251464844, 805.5913696289062, 344.1969909667969, 412.3022766113281, 298.2155456542969, 275.3279724121094, 335.3821105957031, 135.73509216308594, 286.6795654296875, 1167.6678466796875, 234.5494842529297, 352.6403503417969, 561.8682250976562, 264.5710144042969, 617.0363159179688, 351.90753173828125, 629.1432495117188, 236.90675354003906, 591.2613525390625, 306.1346435546875, 361.014892578125, 398.68310546875, 298.8110046386719, 325.276611328125, 494.4648742675781, 278.1672668457031, 0.8580142259597778, 0.7955248951911926, 0.6977093815803528, 0.6649071574211121, 0.6510372161865234, 0.6495721936225891, 0.642936110496521, 0.9521166682243347, 0.6346258521080017, 43.849205017089844, 0.6306619048118591, 2.5082242488861084, 0.6208769679069519, 1.8576945066452026, 0.6192737221717834, 1.8472509384155273, 0.6146365404129028, 0.6133267283439636, 0.6141098141670227, 9.446581840515137, 2.410142421722412, 1.2047531604766846, 1.2065938711166382, 1.8042092323303223, 0.6010541319847107, 2.398632287979126, 0.8898977637290955, 0.5925217270851135, 0.5921002626419067, 1.182094693183899, 35.6235466003418, 48.9381217956543, 207.43699645996094, 30.319412231445312, 89.9236831665039, 19.304197311401367, 365.25830078125, 19.83749008178711, 112.57490539550781, 76.80874633789062, 228.14524841308594, 105.46597290039062, 75.60236358642578, 123.38821411132812, 50.494598388671875, 95.19709014892578, 4232.84814453125, 988.0514526367188, 158.53790283203125, 106.17967224121094, 189.672607421875, 152.52398681640625, 46.204566955566406, 282.3352355957031, 188.23886108398438, 348.8306884765625, 269.52972412109375, 732.944091796875, 211.2161865234375, 261.41607666015625, 350.2839660644531, 216.8140106201172, 339.53704833984375, 729.9951782226562, 263.224609375, 372.61883544921875, 242.28599548339844, 566.8222045898438, 364.5113525390625, 382.19586181640625, 1058.99072265625, 489.6771545410156, 1195.56689453125, 334.4989929199219, 197.19224548339844, 628.717529296875, 606.9942016601562, 402.7891845703125, 588.3603515625, 463.5313415527344, 294.190185546875, 290.422607421875, 303.8349914550781, 282.6361083984375, 268.4700012207031, 315.27264404296875, 289.601806640625, 2.7659504413604736, 0.7013123631477356, 0.6784776449203491, 0.6394279599189758, 1.5941619873046875, 0.6372620463371277, 0.9545053839683533, 0.6311788558959961, 0.6276003122329712, 0.6271608471870422, 0.6256636381149292, 0.6168768405914307, 0.6183802485466003, 0.6170815229415894, 0.616767942905426, 3.67158579826355, 0.6116917133331299, 1.828002691268921, 0.6103491187095642, 0.9123285412788391, 0.6071001291275024, 1.5107406377792358, 2.7140891551971436, 1.4965366125106812, 8.332594871520996, 0.5958341956138611, 0.5940496325492859, 9.476380348205566, 1.1794352531433105, 0.885016143321991, 124.27326965332031, 3.8247122764587402, 11.260770797729492, 2.3483994007110596, 18.789461135864258, 6.931955814361572, 226.68115234375, 11.904516220092773, 195.7561492919922, 108.7590103149414, 59.1185302734375, 105.22683715820312, 347.8920593261719, 100.53729248046875, 9.5985746383667, 246.42831420898438, 71.86639404296875, 296.2413635253906, 173.31045532226562, 92.8987808227539, 68.3074722290039, 143.4237060546875, 75.42825317382812, 159.78427124023438, 153.96141052246094, 866.6822509765625, 849.9114990234375, 1365.1357421875, 1625.294189453125, 112.22152709960938, 347.25445556640625, 219.7985076904297, 243.21861267089844, 266.7224426269531, 225.40408325195312, 780.138671875, 731.354248046875, 885.4229736328125, 633.7835083007812, 426.67669677734375, 3288.013671875, 309.0384216308594, 323.8739318847656, 279.671875, 271.6485290527344, 261.67413330078125, 468.9486083984375, 595.2210693359375, 315.6339111328125, 296.5597229003906, 368.3091735839844, 291.295166015625, 367.6710205078125, 281.1494445800781, 339.87872314453125, 283.56451416015625, 294.35107421875, 278.35687255859375, 270.258544921875, 26.042770385742188, 0.7253579497337341, 0.7240949273109436, 0.6918927431106567, 0.6894276142120361, 0.6546391844749451, 0.647778332233429, 1.291617751121521, 0.6449089646339417, 0.9433862566947937, 0.6231722831726074, 0.6198370456695557, 1.5406380891799927, 1.2322404384613037, 1.2308037281036377, 4.576629161834717, 0.6120786070823669, 0.606499195098877, 6.621171951293945, 0.6012113690376282, 2.0970380306243896, 2.394036293029785, 0.5962815880775452, 0.5968402624130249, 4.750236511230469, 2.0784108638763428, 0.5948172211647034, 1.1846603155136108, 0.8884939551353455, 0.5912145376205444, 108.59640502929688, 10.017638206481934, 5.879582405090332, 5.0032734870910645, 307.687255859375, 184.5440216064453, 51.41138458251953, 155.70938110351562, 13.181699752807617, 394.0575866699219, 172.58807373046875, 29.92332649230957, 58.35501480102539, 271.28192138671875, 110.3389892578125, 33.84559631347656, 226.16329956054688, 24.34490966796875, 30.811389923095703, 511.8041687011719, 1345.5826416015625, 909.1396484375, 446.60845947265625, 130.0572967529297, 391.1548156738281, 157.98062133789062, 88.95176696777344, 176.80311584472656, 639.3157958984375, 62.98925018310547, 71.411376953125, 331.4002990722656, 76.70831298828125, 175.85345458984375, 120.82252502441406, 109.23030090332031, 240.71189880371094, 299.5177001953125, 817.710693359375, 260.4460144042969, 706.1292114257812, 333.166259765625, 317.7149353027344, 1303.69189453125, 637.3195190429688, 2791.002197265625, 324.8371887207031, 440.93731689453125, 337.0962829589844, 252.8669891357422, 290.48663330078125, 445.80596923828125, 285.31158447265625, 561.2667236328125, 309.8111877441406, 523.5278930664062, 432.91021728515625, 293.3739318847656, 305.9461364746094, 285.6623229980469, 7.0318217277526855, 0.7107870578765869, 0.687122106552124, 0.6600837707519531, 0.6573185920715332, 0.9712839126586914, 38.189842224121094, 0.9572890400886536, 4.450286388397217, 0.9509808421134949, 1.262315034866333, 0.6290290355682373, 0.6289235353469849, 0.6249675750732422, 0.6238477826118469, 0.6249924898147583, 2.4714837074279785, 0.6174196004867554, 0.6158933639526367, 1.5331881046295166, 2.750246047973633, 0.6123613715171814, 0.6106863021850586, 9.423369407653809, 484.58258056640625, 0.6091011762619019, 1.8193427324295044, 1.511465072631836, 31.372779846191406, 0.6039959192276001, 7.769822120666504, 2.395833730697632, 392.4500732421875, 45.72364044189453, 639.2117309570312, 110.7001953125, 970.8433227539062, 75.10572814941406, 137.58065795898438, 704.3062744140625, 86.58322143554688, 115.20799255371094, 17.940383911132812, 343.5558166503906, 136.43057250976562, 150.55677795410156, 49.919044494628906, 52.81527328491211, 57.9050407409668, 299.1695861816406, 187.9580535888672, 352.845947265625, 206.66598510742188, 85.30094909667969, 160.4978485107422, 102.7011947631836, 831.4939575195312, 173.8078155517578, 117.99349212646484, 77.99396514892578, 1482.638916015625, 285.0651550292969, 3301.7041015625, 300.8021545410156, 376.4569091796875, 819.5933837890625, 359.07891845703125, 376.12384033203125, 140.76841735839844, 209.65786743164062, 1028.7237548828125, 477.9421691894531, 287.8680419921875, 643.0560913085938, 704.3970336914062, 410.2592468261719, 298.2869873046875, 231.78897094726562, 276.022705078125, 505.8058166503906, 286.04400634765625, 288.82586669921875, 327.7274475097656, 420.0419006347656, 301.43035888671875], \"Total\": [18190.0, 4005.0, 3932.0, 3602.0, 1326.0, 1502.0, 2221.0, 3672.0, 5966.0, 7264.0, 2852.0, 1311.0, 2734.0, 1036.0, 1422.0, 1331.0, 2129.0, 3224.0, 1639.0, 1446.0, 1472.0, 722.0, 1192.0, 631.0, 1080.0, 3450.0, 1851.0, 806.0, 558.0, 839.0, 1.872585654258728, 1.8673138618469238, 1.8750090599060059, 2.8106679916381836, 2.810333251953125, 1.8761324882507324, 43.92566680908203, 3.7486143112182617, 2.8093514442443848, 6.543272018432617, 11.22326374053955, 1.876501202583313, 1.8771156072616577, 56.177833557128906, 1.8769196271896362, 1.8765480518341064, 5.614439010620117, 94.49292755126953, 1.877897024154663, 1.878046989440918, 3.747652530670166, 5.615593910217285, 1.8761537075042725, 1.8774852752685547, 7.48646879196167, 21.536922454833984, 2.811239242553711, 6.559592247009277, 1.878739356994629, 1.878223180770874, 425.7031555175781, 437.281982421875, 452.14599609375, 42.09968948364258, 57.082733154296875, 72.0838851928711, 37.447608947753906, 159.1620330810547, 3932.91064453125, 1446.698486328125, 153.50125122070312, 161.11404418945312, 163.84860229492188, 303.59307861328125, 577.057861328125, 776.5760498046875, 18190.671875, 1345.468505859375, 524.6243896484375, 543.0555419921875, 197.65396118164062, 2394.248046875, 97.43014526367188, 291.57843017578125, 257.7489013671875, 1299.841796875, 2852.638671875, 161.84703063964844, 7264.75390625, 2129.248046875, 1497.5489501953125, 615.5369873046875, 658.9867553710938, 3672.028564453125, 1427.88525390625, 1748.63330078125, 1228.459716796875, 1129.5843505859375, 1422.469482421875, 512.3338012695312, 1199.650390625, 5966.1005859375, 962.8110961914062, 1547.7266845703125, 2734.85546875, 1113.7557373046875, 3224.460205078125, 1609.903076171875, 3602.1435546875, 975.1885986328125, 3450.58056640625, 1422.4683837890625, 1851.6292724609375, 2221.5, 1418.4427490234375, 1658.6553955078125, 4005.24365234375, 1639.1728515625, 1.8899385929107666, 1.8909049034118652, 1.887893795967102, 1.8870811462402344, 1.889427661895752, 1.8889130353927612, 1.8877886533737183, 2.833141803741455, 1.889559268951416, 130.83499145507812, 1.8879172801971436, 7.523064136505127, 1.8870832920074463, 5.648442268371582, 1.8899801969528198, 5.64595890045166, 1.8874350786209106, 1.8847720623016357, 1.8894258737564087, 29.172565460205078, 7.531193256378174, 3.7646408081054688, 3.7727131843566895, 5.656508445739746, 1.885674238204956, 7.536558151245117, 2.826385736465454, 1.8867192268371582, 1.88631272315979, 3.7689552307128906, 116.4414291381836, 162.89932250976562, 714.703857421875, 100.58006286621094, 305.6479797363281, 63.90779495239258, 1326.0906982421875, 65.94984436035156, 398.8070373535156, 271.8162841796875, 839.700439453125, 378.8022155761719, 268.9628601074219, 450.8348388671875, 177.88169860839844, 347.7320251464844, 18190.671875, 4005.24365234375, 592.2030639648438, 390.51513671875, 722.7752685546875, 582.3275146484375, 166.2303466796875, 1118.470703125, 730.39208984375, 1413.2294921875, 1080.410400390625, 3224.460205078125, 842.6475830078125, 1069.6956787109375, 1487.9407958984375, 889.267333984375, 1472.27001953125, 3450.58056640625, 1113.7557373046875, 1658.6553955078125, 1020.678955078125, 2734.85546875, 1639.1728515625, 1748.63330078125, 5966.1005859375, 2394.248046875, 7264.75390625, 1547.7266845703125, 809.7429809570312, 3602.1435546875, 3672.028564453125, 2221.5, 3932.91064453125, 2852.638671875, 1422.4683837890625, 1472.47705078125, 1609.903076171875, 1427.88525390625, 1288.1845703125, 2129.248046875, 1851.6292724609375, 6.601226806640625, 1.8897271156311035, 1.8879249095916748, 1.8853164911270142, 4.704326152801514, 1.8842248916625977, 2.8277382850646973, 1.8885278701782227, 1.8871148824691772, 1.8874555826187134, 1.887597918510437, 1.8841278553009033, 1.8895659446716309, 1.88738214969635, 1.888179063796997, 11.263336181640625, 1.8876440525054932, 5.648134231567383, 1.8890422582626343, 2.824958324432373, 1.8882412910461426, 4.706176280975342, 8.472816467285156, 4.710934162139893, 26.36374282836914, 1.887134313583374, 1.8848600387573242, 30.119104385375977, 3.7595582008361816, 2.826690435409546, 410.7619323730469, 12.237045288085938, 36.6337776184082, 7.521701335906982, 61.90107345581055, 22.53007698059082, 806.8649291992188, 39.3878173828125, 711.567626953125, 389.780517578125, 208.25245666503906, 378.93023681640625, 1326.0906982421875, 368.9383239746094, 31.98560333251953, 945.215087890625, 262.27825927734375, 1155.859619140625, 660.32958984375, 344.08148193359375, 249.92422485351562, 546.2318725585938, 277.9079895019531, 612.9873657226562, 592.2305297851562, 3672.028564453125, 3602.1435546875, 5966.1005859375, 7264.75390625, 426.12994384765625, 1422.469482421875, 875.7064208984375, 976.556884765625, 1080.410400390625, 905.7219848632812, 3450.58056640625, 3224.460205078125, 4005.24365234375, 2852.638671875, 1851.6292724609375, 18190.671875, 1333.302734375, 1472.27001953125, 1331.33056640625, 1285.320556640625, 1228.459716796875, 2734.85546875, 3932.91064453125, 1609.903076171875, 1487.9407958984375, 2129.248046875, 1497.5489501953125, 2394.248046875, 1446.698486328125, 2221.5, 1547.7266845703125, 1748.63330078125, 1658.6553955078125, 1502.1004638671875, 40.55207061767578, 1.8884284496307373, 1.8895621299743652, 1.8832764625549316, 1.879694938659668, 1.8883366584777832, 1.8830195665359497, 3.763298988342285, 1.886828899383545, 2.828357696533203, 1.8842355012893677, 1.887413501739502, 4.70213508605957, 3.7652907371520996, 3.763439655303955, 14.120712280273438, 1.8897348642349243, 1.8883658647537231, 20.66840362548828, 1.8847904205322266, 6.584675312042236, 7.523441791534424, 1.8833720684051514, 1.8889334201812744, 15.04615306854248, 6.586513519287109, 1.8880776166915894, 3.766026496887207, 2.8256583213806152, 1.8852051496505737, 346.4773254394531, 31.962665557861328, 18.814964294433594, 16.00189208984375, 1036.298828125, 631.8980712890625, 175.04385375976562, 558.7916870117188, 44.164306640625, 1472.47705078125, 629.6123046875, 103.53636932373047, 207.73663330078125, 1030.3206787109375, 416.1914978027344, 120.09864044189453, 888.19287109375, 85.53981018066406, 110.08280944824219, 2129.248046875, 5966.1005859375, 3932.91064453125, 1851.6292724609375, 503.1313171386719, 1639.1728515625, 626.072021484375, 340.72723388671875, 714.7283935546875, 2852.638671875, 236.19195556640625, 270.8319396972656, 1422.469482421875, 292.50567626953125, 721.0997314453125, 480.79925537109375, 430.4120178222656, 1030.4639892578125, 1310.340087890625, 4005.24365234375, 1125.5799560546875, 3450.58056640625, 1487.9407958984375, 1418.4427490234375, 7264.75390625, 3224.460205078125, 18190.671875, 1497.5489501953125, 2221.5, 1609.903076171875, 1124.208740234375, 1345.468505859375, 2394.248046875, 1331.33056640625, 3672.028564453125, 1547.7266845703125, 3602.1435546875, 2734.85546875, 1472.27001953125, 1658.6553955078125, 1446.698486328125, 17.86931800842285, 1.887929081916809, 1.8867988586425781, 1.8868651390075684, 1.885705828666687, 2.829328775405884, 112.9617691040039, 2.83235764503479, 13.177453994750977, 2.828434467315674, 3.7761313915252686, 1.8881947994232178, 1.8891966342926025, 1.8881183862686157, 1.886962890625, 1.8905164003372192, 7.546311855316162, 1.8886184692382812, 1.8885202407836914, 4.714483737945557, 8.481653213500977, 1.8892500400543213, 1.8847728967666626, 29.15920639038086, 1502.1004638671875, 1.8902114629745483, 5.648200988769531, 4.70737361907959, 97.89961242675781, 1.8869785070419312, 24.45904541015625, 7.528670310974121, 1311.68603515625, 149.61328125, 2221.5, 383.9465026855469, 3602.1435546875, 259.93572998046875, 487.82373046875, 2734.85546875, 310.0484619140625, 418.0633544921875, 61.11406707763672, 1331.33056640625, 511.2321472167969, 567.3966064453125, 179.62741088867188, 190.69754028320312, 210.23329162597656, 1192.434814453125, 727.8662109375, 1422.4683837890625, 810.997314453125, 317.347900390625, 622.6075439453125, 387.2127990722656, 3672.028564453125, 684.7804565429688, 453.2798767089844, 290.388427734375, 7264.75390625, 1199.650390625, 18190.671875, 1285.320556640625, 1658.6553955078125, 4005.24365234375, 1639.1728515625, 1748.63330078125, 557.378173828125, 890.7861328125, 5966.1005859375, 2394.248046875, 1299.841796875, 3450.58056640625, 3932.91064453125, 2129.248046875, 1418.4427490234375, 1020.678955078125, 1310.340087890625, 3224.460205078125, 1413.2294921875, 1472.47705078125, 1851.6292724609375, 2852.638671875, 1609.903076171875], \"Category\": [\"Default\", \"Default\", \"Default\", \"Default\", \"Default\", \"Default\", \"Default\", \"Default\", \"Default\", \"Default\", \"Default\", \"Default\", \"Default\", \"Default\", \"Default\", \"Default\", \"Default\", \"Default\", \"Default\", \"Default\", \"Default\", \"Default\", \"Default\", \"Default\", \"Default\", \"Default\", \"Default\", \"Default\", \"Default\", \"Default\", \"Topic1\", \"Topic1\", \"Topic1\", \"Topic1\", \"Topic1\", \"Topic1\", \"Topic1\", \"Topic1\", \"Topic1\", \"Topic1\", \"Topic1\", \"Topic1\", \"Topic1\", \"Topic1\", \"Topic1\", \"Topic1\", \"Topic1\", \"Topic1\", \"Topic1\", \"Topic1\", \"Topic1\", \"Topic1\", \"Topic1\", \"Topic1\", \"Topic1\", \"Topic1\", \"Topic1\", \"Topic1\", \"Topic1\", \"Topic1\", \"Topic1\", \"Topic1\", \"Topic1\", \"Topic1\", \"Topic1\", \"Topic1\", \"Topic1\", \"Topic1\", \"Topic1\", \"Topic1\", \"Topic1\", \"Topic1\", \"Topic1\", \"Topic1\", \"Topic1\", \"Topic1\", \"Topic1\", \"Topic1\", \"Topic1\", \"Topic1\", \"Topic1\", \"Topic1\", \"Topic1\", \"Topic1\", \"Topic1\", \"Topic1\", \"Topic1\", \"Topic1\", \"Topic1\", \"Topic1\", \"Topic1\", \"Topic1\", \"Topic1\", \"Topic1\", \"Topic1\", \"Topic1\", \"Topic1\", \"Topic1\", \"Topic1\", \"Topic1\", \"Topic1\", \"Topic1\", \"Topic1\", \"Topic1\", \"Topic1\", \"Topic1\", \"Topic1\", \"Topic1\", \"Topic1\", \"Topic1\", \"Topic1\", \"Topic1\", \"Topic1\", \"Topic1\", \"Topic1\", \"Topic1\", \"Topic1\", \"Topic1\", \"Topic2\", \"Topic2\", \"Topic2\", \"Topic2\", \"Topic2\", \"Topic2\", \"Topic2\", \"Topic2\", \"Topic2\", \"Topic2\", \"Topic2\", \"Topic2\", \"Topic2\", \"Topic2\", \"Topic2\", \"Topic2\", \"Topic2\", \"Topic2\", \"Topic2\", \"Topic2\", \"Topic2\", \"Topic2\", \"Topic2\", \"Topic2\", \"Topic2\", \"Topic2\", \"Topic2\", \"Topic2\", \"Topic2\", \"Topic2\", \"Topic2\", \"Topic2\", \"Topic2\", \"Topic2\", \"Topic2\", \"Topic2\", \"Topic2\", \"Topic2\", \"Topic2\", \"Topic2\", \"Topic2\", \"Topic2\", \"Topic2\", \"Topic2\", \"Topic2\", \"Topic2\", \"Topic2\", \"Topic2\", \"Topic2\", \"Topic2\", \"Topic2\", \"Topic2\", \"Topic2\", \"Topic2\", \"Topic2\", \"Topic2\", \"Topic2\", \"Topic2\", \"Topic2\", \"Topic2\", \"Topic2\", \"Topic2\", \"Topic2\", \"Topic2\", \"Topic2\", \"Topic2\", \"Topic2\", \"Topic2\", \"Topic2\", \"Topic2\", \"Topic2\", \"Topic2\", \"Topic2\", \"Topic2\", \"Topic2\", \"Topic2\", \"Topic2\", \"Topic2\", \"Topic2\", \"Topic2\", \"Topic2\", \"Topic2\", \"Topic2\", \"Topic2\", \"Topic2\", \"Topic2\", \"Topic2\", \"Topic3\", \"Topic3\", \"Topic3\", \"Topic3\", \"Topic3\", \"Topic3\", \"Topic3\", \"Topic3\", \"Topic3\", \"Topic3\", \"Topic3\", \"Topic3\", \"Topic3\", \"Topic3\", \"Topic3\", \"Topic3\", \"Topic3\", \"Topic3\", \"Topic3\", \"Topic3\", \"Topic3\", \"Topic3\", \"Topic3\", \"Topic3\", \"Topic3\", \"Topic3\", \"Topic3\", \"Topic3\", \"Topic3\", \"Topic3\", \"Topic3\", \"Topic3\", \"Topic3\", \"Topic3\", \"Topic3\", \"Topic3\", \"Topic3\", \"Topic3\", \"Topic3\", \"Topic3\", \"Topic3\", \"Topic3\", \"Topic3\", \"Topic3\", \"Topic3\", \"Topic3\", \"Topic3\", \"Topic3\", \"Topic3\", \"Topic3\", \"Topic3\", \"Topic3\", \"Topic3\", \"Topic3\", \"Topic3\", \"Topic3\", \"Topic3\", \"Topic3\", \"Topic3\", \"Topic3\", \"Topic3\", \"Topic3\", \"Topic3\", \"Topic3\", \"Topic3\", \"Topic3\", \"Topic3\", \"Topic3\", \"Topic3\", \"Topic3\", \"Topic3\", \"Topic3\", \"Topic3\", \"Topic3\", \"Topic3\", \"Topic3\", \"Topic3\", \"Topic3\", \"Topic3\", \"Topic3\", \"Topic3\", \"Topic3\", \"Topic3\", \"Topic3\", \"Topic3\", \"Topic3\", \"Topic3\", \"Topic3\", \"Topic3\", \"Topic4\", \"Topic4\", \"Topic4\", \"Topic4\", \"Topic4\", \"Topic4\", \"Topic4\", \"Topic4\", \"Topic4\", \"Topic4\", \"Topic4\", \"Topic4\", \"Topic4\", \"Topic4\", \"Topic4\", \"Topic4\", \"Topic4\", \"Topic4\", \"Topic4\", \"Topic4\", \"Topic4\", \"Topic4\", \"Topic4\", \"Topic4\", \"Topic4\", \"Topic4\", \"Topic4\", \"Topic4\", \"Topic4\", \"Topic4\", \"Topic4\", \"Topic4\", \"Topic4\", \"Topic4\", \"Topic4\", \"Topic4\", \"Topic4\", \"Topic4\", \"Topic4\", \"Topic4\", \"Topic4\", \"Topic4\", \"Topic4\", \"Topic4\", \"Topic4\", \"Topic4\", \"Topic4\", \"Topic4\", \"Topic4\", \"Topic4\", \"Topic4\", \"Topic4\", \"Topic4\", \"Topic4\", \"Topic4\", \"Topic4\", \"Topic4\", \"Topic4\", \"Topic4\", \"Topic4\", \"Topic4\", \"Topic4\", \"Topic4\", \"Topic4\", \"Topic4\", \"Topic4\", \"Topic4\", \"Topic4\", \"Topic4\", \"Topic4\", \"Topic4\", \"Topic4\", \"Topic4\", \"Topic4\", \"Topic4\", \"Topic4\", \"Topic4\", \"Topic4\", \"Topic4\", \"Topic4\", \"Topic4\", \"Topic4\", \"Topic4\", \"Topic4\", \"Topic4\", \"Topic4\", \"Topic4\", \"Topic4\", \"Topic4\", \"Topic4\", \"Topic5\", \"Topic5\", \"Topic5\", \"Topic5\", \"Topic5\", \"Topic5\", \"Topic5\", \"Topic5\", \"Topic5\", \"Topic5\", \"Topic5\", \"Topic5\", \"Topic5\", \"Topic5\", \"Topic5\", \"Topic5\", \"Topic5\", \"Topic5\", \"Topic5\", \"Topic5\", \"Topic5\", \"Topic5\", \"Topic5\", \"Topic5\", \"Topic5\", \"Topic5\", \"Topic5\", \"Topic5\", \"Topic5\", \"Topic5\", \"Topic5\", \"Topic5\", \"Topic5\", \"Topic5\", \"Topic5\", \"Topic5\", \"Topic5\", \"Topic5\", \"Topic5\", \"Topic5\", \"Topic5\", \"Topic5\", \"Topic5\", \"Topic5\", \"Topic5\", \"Topic5\", \"Topic5\", \"Topic5\", \"Topic5\", \"Topic5\", \"Topic5\", \"Topic5\", \"Topic5\", \"Topic5\", \"Topic5\", \"Topic5\", \"Topic5\", \"Topic5\", \"Topic5\", \"Topic5\", \"Topic5\", \"Topic5\", \"Topic5\", \"Topic5\", \"Topic5\", \"Topic5\", \"Topic5\", \"Topic5\", \"Topic5\", \"Topic5\", \"Topic5\", \"Topic5\", \"Topic5\", \"Topic5\", \"Topic5\", \"Topic5\", \"Topic5\", \"Topic5\", \"Topic5\", \"Topic5\", \"Topic5\", \"Topic5\", \"Topic5\", \"Topic5\", \"Topic5\"], \"logprob\": [30.0, 29.0, 28.0, 27.0, 26.0, 25.0, 24.0, 23.0, 22.0, 21.0, 20.0, 19.0, 18.0, 17.0, 16.0, 15.0, 14.0, 13.0, 12.0, 11.0, 10.0, 9.0, 8.0, 7.0, 6.0, 5.0, 4.0, 3.0, 2.0, 1.0, -11.903800010681152, -11.951899528503418, -11.954400062561035, -11.583399772644043, -11.589599609375, -11.996100425720215, -8.843700408935547, -11.311599731445312, -11.602700233459473, -10.771599769592285, -10.253800392150879, -12.043299674987793, -12.056599617004395, -8.66409969329834, -12.063599586486816, -12.069000244140625, -10.973999977111816, -8.151700019836426, -12.075599670410156, -12.078200340270996, -11.388400077819824, -10.987299919128418, -12.084199905395508, -12.088199615478516, -10.705499649047852, -9.649399757385254, -11.687199592590332, -10.840200424194336, -12.094099998474121, -12.096699714660645, -6.679200172424316, -6.6666998863220215, -6.636099815368652, -8.98900032043457, -8.687700271606445, -8.45680046081543, -9.109800338745117, -7.680200099945068, -4.529799938201904, -5.514999866485596, -7.717599868774414, -7.670899868011475, -7.663599967956543, -7.067500114440918, -6.4446001052856445, -6.1707000732421875, -3.135999917984009, -5.656300067901611, -6.561600208282471, -6.531799793243408, -7.51230001449585, -5.146200180053711, -8.194999694824219, -7.156599998474121, -7.2758002281188965, -5.741499900817871, -5.019499778747559, -7.719799995422363, -4.151700019836426, -5.304100036621094, -5.635000228881836, -6.464399814605713, -6.418900012969971, -4.873300075531006, -5.723599910736084, -5.543099880218506, -5.867000102996826, -5.946899890899658, -5.749599933624268, -6.654099941253662, -5.906499862670898, -4.502099990844727, -6.1072001457214355, -5.699399948120117, -5.23360013961792, -5.986700057983398, -5.139900207519531, -5.701499938964844, -5.120500087738037, -6.0971999168396, -5.182600021362305, -5.840799808502197, -5.675899982452393, -5.576700210571289, -5.864999771118164, -5.780200004577637, -5.361400127410889, -5.936600208282471, -11.67490005493164, -11.750499725341797, -11.881699562072754, -11.929900169372559, -11.950900077819824, -11.953200340270996, -11.963500022888184, -11.570799827575684, -11.976499557495117, -7.741000175476074, -11.98270034790039, -10.60219955444336, -11.99839973449707, -10.902400016784668, -12.00100040435791, -10.907999992370605, -12.008500099182129, -12.010600090026855, -12.009300231933594, -9.276100158691406, -10.64210033416748, -11.33549976348877, -11.333900451660156, -10.931599617004395, -12.030799865722656, -10.64680004119873, -11.638400077819824, -12.045100212097168, -12.04580020904541, -11.354499816894531, -7.948699951171875, -7.631199836730957, -6.1869001388549805, -8.109999656677246, -7.022799968719482, -8.561400413513184, -5.621099948883057, -8.534199714660645, -6.798099994659424, -7.1803998947143555, -6.091800212860107, -6.863399982452393, -7.196300029754639, -6.706399917602539, -7.599899768829346, -6.965799808502197, -3.171099901199341, -4.625999927520752, -6.455699920654297, -6.856599807739258, -6.276400089263916, -6.4944000244140625, -7.688700199127197, -5.878600120544434, -6.283999919891357, -5.667200088500977, -5.925099849700928, -4.924699783325195, -6.168900012969971, -5.955599784851074, -5.663000106811523, -6.1427001953125, -5.694200038909912, -4.928699970245361, -5.948699951171875, -5.601200103759766, -6.031599998474121, -5.181700229644775, -5.623199939727783, -5.575799942016602, -4.556700229644775, -5.328000068664551, -4.435400009155273, -5.709099769592285, -6.237599849700928, -5.078100204467773, -5.1132001876831055, -5.5233001708984375, -5.144400119781494, -5.382900238037109, -5.837500095367432, -5.850399971008301, -5.805300235748291, -5.877600193023682, -5.928999900817871, -5.7683000564575195, -5.8531999588012695, -10.504300117492676, -11.876500129699707, -11.909600257873535, -11.968799591064453, -11.055299758911133, -11.972200393676758, -11.56820011138916, -11.981800079345703, -11.987500190734863, -11.988200187683105, -11.990599632263184, -12.00469970703125, -12.002300262451172, -12.004400253295898, -12.004899978637695, -10.220999717712402, -12.013199806213379, -10.918399810791016, -12.015399932861328, -11.61340045928955, -12.020700454711914, -11.109100341796875, -10.523200035095215, -11.118499755859375, -9.40149974822998, -12.039400100708008, -12.042400360107422, -9.27280044555664, -11.356599807739258, -11.643799781799316, -6.69920015335083, -10.18019962310791, -9.100299835205078, -10.667900085449219, -8.588399887084961, -9.58549976348877, -6.098100185394287, -9.044699668884277, -6.244800090789795, -6.832499980926514, -7.4421000480651855, -6.865499973297119, -5.6697998046875, -6.911099910736084, -9.260000228881836, -6.014599800109863, -7.246799945831299, -5.83050012588501, -6.366600036621094, -6.990099906921387, -7.297599792480469, -6.555799961090088, -7.198500156402588, -6.447800159454346, -6.484899997711182, -4.756999969482422, -4.776500225067139, -4.302599906921387, -4.128200054168701, -6.801199913024902, -5.671599864959717, -6.128900051116943, -6.027699947357178, -5.935400009155273, -6.103799819946289, -4.862199783325195, -4.926799774169922, -4.735599994659424, -5.069900035858154, -5.46560001373291, -3.4235999584198, -5.7881999015808105, -5.741300106048584, -5.888000011444092, -5.917099952697754, -5.954599857330322, -5.371200084686279, -5.132699966430664, -5.767099857330322, -5.829400062561035, -5.61269998550415, -5.847300052642822, -5.614500045776367, -5.882800102233887, -5.6930999755859375, -5.874199867248535, -5.836900234222412, -5.8927001953125, -5.922299861907959, -8.259300231933594, -11.840100288391113, -11.841899871826172, -11.887399673461914, -11.890899658203125, -11.942700386047363, -11.953200340270996, -11.263099670410156, -11.9576997756958, -11.577300071716309, -11.991999626159668, -11.997300148010254, -11.086799621582031, -11.310199737548828, -11.311400413513184, -9.998100280761719, -12.009900093078613, -12.019100189208984, -9.628800392150879, -12.027799606323242, -10.778499603271484, -10.646100044250488, -12.036100387573242, -12.035099983215332, -9.960800170898438, -10.787400245666504, -12.03849983215332, -11.349599838256836, -11.637299537658691, -12.044599533081055, -6.831399917602539, -9.214699745178223, -9.747599601745605, -9.908900260925293, -5.789999961853027, -6.301199913024902, -7.57919979095459, -6.4710001945495605, -8.940199851989746, -5.542500019073486, -6.368100166320801, -8.120400428771973, -7.452499866485596, -5.915900230407715, -6.815499782562256, -7.997200012207031, -6.097799777984619, -8.326700210571289, -8.09119987487793, -5.281099796295166, -4.314499855041504, -4.706500053405762, -5.417399883270264, -6.651100158691406, -5.549900054931641, -6.456600189208984, -7.030900001525879, -6.343999862670898, -5.058599948883057, -7.376100063323975, -7.2505998611450195, -5.715700149536133, -7.178999900817871, -6.349400043487549, -6.724699974060059, -6.8256001472473145, -6.035399913787842, -5.81689977645874, -4.8125, -5.956600189208984, -4.959199905395508, -5.710400104522705, -5.757900238037109, -4.346099853515625, -5.061800003051758, -3.58489990234375, -5.7357001304626465, -5.430099964141846, -5.698699951171875, -5.986199855804443, -5.847499847412109, -5.4191999435424805, -5.865499973297119, -5.188799858093262, -5.783100128173828, -5.258500099182129, -5.448500156402588, -5.837600231170654, -5.795599937438965, -5.864200115203857, -9.565600395202637, -11.857500076293945, -11.891300201416016, -11.931500434875488, -11.935700416564941, -11.54520034790039, -7.873499870300293, -11.559700012207031, -10.023099899291992, -11.566300392150879, -11.283100128173828, -11.979700088500977, -11.9798002243042, -11.986100196838379, -11.987899780273438, -11.986100196838379, -10.611300468444824, -11.998299598693848, -12.000800132751465, -11.088700294494629, -10.504400253295898, -12.006500244140625, -12.009300231933594, -9.272899627685547, -5.332799911499023, -12.011899948120117, -10.91759967803955, -11.102999687194824, -8.070099830627441, -12.020299911499023, -9.465800285339355, -10.642399787902832, -5.543700218200684, -7.69350004196167, -5.055799961090088, -6.809299945831299, -4.637899875640869, -7.197199821472168, -6.591899871826172, -4.958899974822998, -7.054999828338623, -6.7692999839782715, -8.628999710083008, -5.676700115203857, -6.600299835205078, -6.501699924468994, -7.6057000160217285, -7.549300193786621, -7.457300186157227, -5.815100193023682, -6.279900074005127, -5.650100231170654, -6.184999942779541, -7.069900035858154, -6.43779993057251, -6.884300231933594, -4.792900085449219, -6.358099937438965, -6.745500087738037, -7.1595001220703125, -4.2144999504089355, -5.863399982452393, -3.4138998985290527, -5.809599876403809, -5.585299968719482, -4.807300090789795, -5.632500171661377, -5.58620023727417, -6.568999767303467, -6.170599937438965, -4.579999923706055, -5.34660005569458, -5.853600025177002, -5.049900054931641, -4.958700180053711, -5.499300003051758, -5.817999839782715, -6.070300102233887, -5.895599842071533, -5.289899826049805, -5.859899997711182, -5.850299835205078, -5.723899841308594, -5.4756999015808105, -5.807499885559082], \"loglift\": [30.0, 29.0, 28.0, 27.0, 26.0, 25.0, 24.0, 23.0, 22.0, 21.0, 20.0, 19.0, 18.0, 17.0, 16.0, 15.0, 14.0, 13.0, 12.0, 11.0, 10.0, 9.0, 8.0, 7.0, 6.0, 5.0, 4.0, 3.0, 2.0, 1.0, 0.607200026512146, 0.5619000196456909, 0.5552999973297119, 0.5214999914169312, 0.5152999758720398, 0.5130000114440918, 0.5120000243186951, 0.5052000284194946, 0.5026999711990356, 0.48829999566078186, 0.46650001406669617, 0.46560001373291016, 0.4519999921321869, 0.4456000030040741, 0.44510000944137573, 0.4399000108242035, 0.4388999938964844, 0.43810001015663147, 0.4325000047683716, 0.42989999055862427, 0.4287000000476837, 0.4255000054836273, 0.42480000853538513, 0.42010000348091125, 0.4196999967098236, 0.41909998655319214, 0.4174000024795532, 0.4171000123023987, 0.41359999775886536, 0.41130000352859497, 0.40529999136924744, 0.39100000262260437, 0.3882000148296356, 0.4092999994754791, 0.40610000491142273, 0.40369999408721924, 0.40560001134872437, 0.3880999982357025, 0.3314000070095062, 0.34630000591278076, 0.3869999945163727, 0.38519999384880066, 0.3756999969482422, 0.35510000586509705, 0.33570000529289246, 0.3127000033855438, 0.19359999895095825, 0.2775000035762787, 0.3140000104904175, 0.3091999888420105, 0.3395000100135803, 0.21119999885559082, 0.36410000920295715, 0.30640000104904175, 0.31049999594688416, 0.22669999301433563, 0.16269999742507935, 0.33180001378059387, 0.0957999974489212, 0.17059999704360962, 0.19169999659061432, 0.2513999938964844, 0.22869999706745148, 0.05649999901652336, 0.15070000290870667, 0.12860000133514404, 0.15770000219345093, 0.16179999709129333, 0.12860000133514404, 0.2451999932527542, 0.1420000046491623, -0.0575999990105629, 0.16120000183582306, 0.09430000185966492, -0.009100000374019146, 0.13609999418258667, -0.08020000159740448, 0.05290000140666962, -0.17149999737739563, 0.15850000083446503, -0.19059999287128448, 0.037300001829862595, -0.061500001698732376, -0.14429999887943268, 0.01590000092983246, -0.05559999868273735, -0.5184000134468079, -0.20029999315738678, 0.8269000053405762, 0.7506999969482422, 0.6211000084877014, 0.5734000205993652, 0.5511000156402588, 0.5490999817848206, 0.5393999814987183, 0.5260999798774719, 0.5254999995231628, 0.5234000086784363, 0.5200999975204468, 0.5181000232696533, 0.5048999786376953, 0.5044999718666077, 0.5008000135421753, 0.4993000030517578, 0.49459999799728394, 0.49390000104904175, 0.4927000105381012, 0.48899999260902405, 0.4772000014781952, 0.4772000014781952, 0.476500004529953, 0.47380000352859497, 0.4731999933719635, 0.4717000126838684, 0.4609000086784363, 0.45829999446868896, 0.4578000009059906, 0.4569999873638153, 0.43220001459121704, 0.414000004529953, 0.37950000166893005, 0.4174000024795532, 0.39309999346733093, 0.41940000653266907, 0.32710000872612, 0.41519999504089355, 0.3517000079154968, 0.35269999504089355, 0.31349998712539673, 0.3379000127315521, 0.3474000096321106, 0.3208000063896179, 0.3573000133037567, 0.32109999656677246, 0.15850000083446503, 0.21690000593662262, 0.2987000048160553, 0.3142000138759613, 0.27869999408721924, 0.2768000066280365, 0.3361999988555908, 0.23989999294281006, 0.260699987411499, 0.2175000011920929, 0.2281000018119812, 0.13510000705718994, 0.2328999936580658, 0.20749999582767487, 0.17010000348091125, 0.20520000159740448, 0.14959999918937683, 0.0632999986410141, 0.17399999499320984, 0.12330000102519989, 0.17839999496936798, 0.04270000010728836, 0.11309999972581863, 0.09589999914169312, -0.11219999939203262, 0.029500000178813934, -0.18790000677108765, 0.08460000157356262, 0.20399999618530273, -0.1290999948978424, -0.1834000051021576, -0.09099999815225601, -0.2833000123500824, -0.20059999823570251, 0.0406000018119812, -0.006800000090152025, -0.05090000107884407, -0.0032999999821186066, 0.04830000177025795, -0.2935999929904938, -0.23880000412464142, 0.7468000054359436, 0.6254000067710876, 0.5932000279426575, 0.5353000164031982, 0.534500002861023, 0.5325000286102295, 0.5306000113487244, 0.5206999778747559, 0.5156999826431274, 0.5148000121116638, 0.5123999714851379, 0.5001000165939331, 0.49959999322891235, 0.49869999289512634, 0.49779999256134033, 0.49570000171661377, 0.48980000615119934, 0.4884999990463257, 0.4867999851703644, 0.4864000082015991, 0.48190000653266907, 0.4803999960422516, 0.4781999886035919, 0.4699000120162964, 0.46480000019073486, 0.46380001306533813, 0.4620000123977661, 0.4602999985218048, 0.45739999413490295, 0.4553999900817871, 0.421099990606308, 0.4535999894142151, 0.43700000643730164, 0.45260000228881836, 0.4244000017642975, 0.43790000677108765, 0.34700000286102295, 0.42010000348091125, 0.32600000500679016, 0.3402000069618225, 0.35740000009536743, 0.3353999853134155, 0.2784999907016754, 0.3165000081062317, 0.4129999876022339, 0.27230000495910645, 0.32199999690055847, 0.25519999861717224, 0.27900001406669617, 0.30730000138282776, 0.31949999928474426, 0.2793999910354614, 0.3125, 0.2721000015735626, 0.2694000005722046, 0.1728000044822693, 0.17249999940395355, 0.14180000126361847, 0.1193000003695488, 0.2824000120162964, 0.20649999380111694, 0.23430000245571136, 0.22660000622272491, 0.21770000457763672, 0.22579999268054962, 0.1298000067472458, 0.13300000131130219, 0.10729999840259552, 0.11230000108480453, 0.14880000054836273, -0.09399999678134918, 0.15469999611377716, 0.10239999741315842, 0.056299999356269836, 0.06239999830722809, 0.07020000368356705, -0.14669999480247498, -0.27160000801086426, -0.01269999984651804, 0.003700000001117587, -0.1379999965429306, -0.020600000396370888, -0.25699999928474426, -0.0215000007301569, -0.260699987411499, -0.08049999922513962, -0.16519999504089355, -0.16820000112056732, -0.09860000014305115, 1.1763999462127686, 0.6624000072479248, 0.660099983215332, 0.617900013923645, 0.6161999702453613, 0.5598999857902527, 0.5522000193595886, 0.5497999787330627, 0.5457000136375427, 0.5213000178337097, 0.5127999782562256, 0.5056999921798706, 0.5034000277519226, 0.5022000074386597, 0.5016000270843506, 0.4925999939441681, 0.4918999969959259, 0.48350000381469727, 0.48089998960494995, 0.4765999913215637, 0.4749999940395355, 0.4742000102996826, 0.4690999984741211, 0.46709999442100525, 0.46630001068115234, 0.4657999873161316, 0.4641999900341034, 0.4627000093460083, 0.46230000257492065, 0.4596000015735626, 0.45910000801086426, 0.45899999141693115, 0.4560999870300293, 0.45660001039505005, 0.4049000144004822, 0.38839998841285706, 0.39410001039505005, 0.34150001406669617, 0.4101000130176544, 0.3009999990463257, 0.32499998807907104, 0.3779999911785126, 0.34950000047683716, 0.2847999930381775, 0.29159998893737793, 0.35269999504089355, 0.25130000710487366, 0.3625999987125397, 0.3458999991416931, 0.19370000064373016, 0.12999999523162842, 0.15459999442100525, 0.19709999859333038, 0.266400009393692, 0.18639999628067017, 0.24220000207424164, 0.27619999647140503, 0.2223999947309494, 0.12359999865293503, 0.29760000109672546, 0.28619998693466187, 0.1624000072479248, 0.2808000147342682, 0.20810000598430634, 0.23810000717639923, 0.24799999594688416, 0.16509999334812164, 0.14339999854564667, 0.030400000512599945, 0.15559999644756317, 0.03269999846816063, 0.12269999831914902, 0.12309999763965607, -0.09860000014305115, -0.0020000000949949026, -0.25529998540878296, 0.09099999815225601, 0.002199999988079071, 0.05570000037550926, 0.12729999423027039, 0.08630000054836273, -0.0617000013589859, 0.07890000194311142, -0.2590999901294708, 0.010700000450015068, -0.3095000088214874, -0.2240999937057495, 0.006099999882280827, -0.07109999656677246, -0.003000000026077032, 0.6895999908447266, 0.6452999711036682, 0.6121000051498413, 0.5719000101089478, 0.5683000087738037, 0.5529999732971191, 0.5376999974250793, 0.5374000072479248, 0.5367000102996826, 0.5321999788284302, 0.5264000296592712, 0.5230000019073486, 0.5223000049591064, 0.5166000127792358, 0.5153999924659729, 0.5152999758720398, 0.5059999823570251, 0.5041000247001648, 0.5016999840736389, 0.49889999628067017, 0.4959999918937683, 0.49559998512268066, 0.4952000081539154, 0.4925999939441681, 0.4909000098705292, 0.48969998955726624, 0.489300012588501, 0.4860999882221222, 0.48420000076293945, 0.4830000102519989, 0.47540000081062317, 0.4772000014781952, 0.4154999852180481, 0.4368000030517578, 0.3765000104904175, 0.3785000145435333, 0.3111000061035156, 0.3806999921798706, 0.3564000129699707, 0.2655999958515167, 0.3465999960899353, 0.33329999446868896, 0.39649999141693115, 0.26759999990463257, 0.3012000024318695, 0.2955000102519989, 0.3416999876499176, 0.3382999897003174, 0.3328000009059906, 0.2395000010728836, 0.26829999685287476, 0.2281000018119812, 0.2549999952316284, 0.3084000051021576, 0.26660001277923584, 0.29499998688697815, 0.13689999282360077, 0.25099998712539673, 0.27630001306533813, 0.3075999915599823, 0.032999999821186066, 0.1851000040769577, -0.08429999649524689, 0.16990000009536743, 0.13920000195503235, 0.035599999129772186, 0.10379999876022339, 0.08550000190734863, 0.24609999358654022, 0.17560000717639923, -0.1356000006198883, 0.010900000110268593, 0.11469999700784683, -0.05790000036358833, -0.09759999811649323, -0.02449999935925007, 0.06289999932050705, 0.13979999721050262, 0.06459999829530716, -0.23019999265670776, 0.024700000882148743, -0.0066999997943639755, -0.10939999669790268, -0.29350000619888306, -0.053199999034404755]}, \"token.table\": {\"Topic\": [1, 2, 3, 4, 5, 1, 2, 3, 4, 5, 1, 2, 3, 4, 5, 1, 2, 3, 5, 4, 2, 1, 2, 3, 4, 5, 1, 2, 3, 4, 5, 3, 1, 2, 3, 4, 5, 1, 2, 3, 4, 5, 1, 2, 3, 4, 5, 1, 2, 3, 4, 5, 1, 2, 3, 4, 5, 3, 1, 2, 3, 4, 5, 5, 1, 2, 3, 4, 5, 1, 2, 3, 4, 5, 1, 2, 3, 4, 5, 1, 2, 3, 5, 2, 3, 2, 1, 2, 3, 4, 5, 1, 2, 3, 4, 5, 1, 2, 3, 4, 5, 1, 2, 3, 4, 5, 1, 2, 3, 4, 5, 1, 2, 1, 2, 3, 4, 5, 1, 2, 3, 4, 5, 1, 2, 3, 4, 5, 1, 2, 3, 4, 5, 5, 1, 2, 3, 4, 5, 1, 2, 3, 4, 5, 1, 2, 3, 4, 5, 1, 2, 3, 4, 5, 4, 1, 2, 3, 4, 5, 3, 3, 1, 2, 3, 4, 5, 1, 2, 3, 4, 5, 1, 1, 2, 3, 4, 5, 1, 2, 3, 4, 5, 1, 2, 3, 4, 5, 1, 2, 3, 4, 5, 1, 2, 3, 4, 5, 1, 2, 3, 4, 5, 1, 2, 3, 4, 5, 1, 2, 3, 4, 5, 5, 1, 2, 3, 4, 5, 1, 2, 3, 4, 5, 1, 2, 3, 4, 5, 1, 2, 3, 4, 5, 1, 2, 3, 4, 5, 1, 2, 3, 4, 5, 1, 2, 3, 4, 5, 1, 2, 3, 4, 5, 1, 2, 3, 4, 5, 1, 2, 3, 4, 5, 1, 2, 3, 4, 5, 2, 3, 4, 1, 2, 3, 4, 5, 1, 2, 3, 4, 5, 1, 2, 3, 4, 5, 1, 2, 3, 4, 5, 2, 4, 5, 1, 2, 3, 4, 5, 1, 2, 3, 4, 5, 1, 2, 3, 4, 5, 1, 2, 3, 4, 5, 1, 2, 3, 4, 5, 1, 2, 3, 4, 5, 4, 1, 3, 1, 2, 3, 4, 5, 1, 2, 3, 4, 5, 4, 1, 1, 2, 3, 4, 5, 1, 2, 3, 4, 5, 1, 2, 3, 4, 5, 2, 3, 1, 2, 3, 4, 5, 1, 2, 4, 1, 2, 5, 1, 2, 3, 4, 5, 1, 1, 2, 3, 4, 5, 2, 3, 1, 2, 3, 4, 5, 1, 1, 2, 3, 4, 5, 1, 2, 3, 4, 5, 3, 5, 1, 2, 3, 4, 5, 1, 2, 3, 4, 5, 1, 2, 3, 4, 5, 2, 1, 2, 3, 4, 5, 1, 2, 3, 4, 5, 1, 2, 3, 4, 5, 1, 2, 3, 4, 5, 1, 1, 2, 3, 4, 5, 3, 1, 1, 2, 3, 1, 2, 3, 4, 5, 1, 2, 3, 4, 5, 1, 2, 3, 4, 5, 1, 1, 2, 3, 4, 5, 1, 2, 3, 4, 5, 1, 2, 3, 4, 5, 1, 2, 3, 4, 5, 1, 1, 2, 3, 4, 5, 5, 1, 2, 3, 4, 5, 1, 2, 3, 4, 5, 1, 3, 5, 1, 2, 3, 4, 5, 1, 2, 3, 4, 5, 1, 2, 3, 4, 5, 1, 2, 3, 4, 5, 1, 2, 3, 4, 5, 2, 3, 5, 1, 2, 3, 4, 5, 1, 2, 3, 4, 5, 1, 2, 3, 4, 5, 1, 2, 3, 4, 5, 1, 2, 3, 4, 5, 3, 1, 2, 1, 2, 3, 4, 5, 1, 2, 3, 4, 5, 1, 2, 3, 4, 5, 2, 1, 2, 3, 4, 5, 5, 1, 2, 3, 4, 5, 3, 3, 1, 2, 3, 4, 5, 1, 2, 3, 4, 5, 2, 4, 5, 1, 2, 3, 4, 5, 1, 2, 3, 4, 5, 1, 2, 3, 4, 5, 1, 1, 2, 3, 4, 5, 1, 2, 3, 4, 5, 5, 1, 5, 1, 2, 3, 4, 5, 1, 2, 3, 4, 5, 2, 1, 2, 3, 4, 5, 1, 2, 3, 4, 5, 5, 1, 2, 3, 4, 5, 1, 2, 3, 4, 5, 1, 2, 3, 4, 5, 1, 2, 3, 4, 5, 1, 2, 3, 4, 5, 1, 4, 1, 2, 3, 4, 5, 1, 2, 3, 4, 5, 1, 2, 3, 4, 5, 1, 2, 3, 4, 5, 1, 2, 3, 4, 5, 1, 2, 3, 4, 5, 1, 2, 3, 4, 5, 3, 1, 2, 3, 4, 5, 1, 2, 3, 4, 5, 1, 2, 3, 4, 5, 3, 1, 2, 3, 4, 5, 1, 2, 3, 4, 5, 1, 2, 3, 4, 5, 1, 2, 3, 4, 5, 1, 2, 3, 4, 5, 1, 2, 3, 4, 5, 1, 2, 3, 4, 5, 1, 2, 3, 4, 5, 1, 2, 3, 4, 5, 1, 2, 3, 4, 5, 1, 2, 3, 4, 5, 1, 2, 3, 4, 5, 3, 1, 2, 3, 4, 5, 5, 2, 1, 2, 3, 4, 5, 3, 1, 2, 3, 4, 5, 1, 2, 3, 4, 5, 1, 2, 3, 4, 5, 2, 3, 4, 1, 2, 3, 4, 5, 1, 2, 4, 1, 2, 3, 4, 5, 1, 2, 3, 4, 5, 1, 2, 3, 4, 5, 1, 2, 3, 4, 5, 1, 2, 3, 4, 5, 1, 2, 3, 4, 5, 1, 2, 3, 4, 5, 1, 2, 3, 4, 5, 4, 1, 2, 3, 4, 5, 1, 2, 3, 4, 5, 2, 4, 5, 1, 2, 3, 4, 5, 1, 2, 3, 4, 5, 1, 2, 3, 4, 5, 2, 1, 2, 3, 4, 5, 5, 5, 1, 3, 4, 5, 3, 1, 2, 3, 4, 5, 1, 2, 3, 4, 5, 1, 2, 3, 4, 5, 1, 2, 3, 4, 5, 4, 1, 2, 3, 4, 5, 1, 2, 3, 4, 5, 1, 2, 3, 4, 5, 1, 2, 3, 4, 5, 1, 2, 3, 4, 5, 1, 2, 3, 4, 5, 1, 2, 3, 4, 5, 1, 2, 3, 4, 5, 1, 2, 3, 4, 5, 5, 1, 2, 3, 4, 5, 4, 1, 2, 3, 4, 5, 1, 2, 3, 4, 5, 1, 2, 3, 4, 5, 1, 2, 3, 4, 5, 1, 2, 3, 4, 5, 2, 3, 1, 2, 3, 4, 5, 1, 2, 3, 4, 5, 4, 1, 2, 3, 4, 5, 1, 2, 3, 4, 5, 1, 2, 3, 4, 5, 5, 1, 2, 3, 4, 5, 1, 2, 3, 4, 5, 4, 1, 2, 3, 4, 5, 1, 2, 3, 4, 5, 1, 2, 3, 4, 5, 1, 2, 3, 4, 5, 1, 2, 3, 4, 5, 1, 2, 3, 4, 5, 1, 2, 3, 4, 5, 1, 1, 2, 3, 4, 5, 4, 1, 2, 3, 4, 5, 1, 2, 3, 4, 5, 1, 2, 3, 4, 5, 1, 2, 3, 4, 5, 1, 2, 3, 4, 5, 1, 2, 3, 4, 5, 1, 2, 3, 4, 5, 1, 2, 3, 4, 5, 1, 2, 3, 4, 5, 1, 2, 3, 4, 5, 1, 2, 3, 4, 5, 1, 2, 3, 4, 5, 1, 2, 3, 4, 5, 1, 2, 3, 4, 5, 1, 2, 3, 4, 5, 1, 2, 3, 4, 5, 1, 2, 3, 4, 5, 1, 2, 3, 4, 5, 1, 2, 3, 4, 5, 5, 1, 1, 2, 3, 4, 5, 1, 2, 3, 4, 5, 1, 2, 3, 4, 5, 4, 1, 2, 3, 4, 5, 1, 2, 3, 4, 5, 1, 2, 3, 4, 5, 1, 2, 3, 4, 5, 1, 2, 3, 4, 5, 1, 2, 3, 4, 5, 1, 2, 3, 4, 5, 1, 2, 3, 4, 5, 1, 2, 3, 4, 5, 1, 2, 3, 4, 5, 1, 2, 3, 4, 5, 1, 2, 3, 4, 5, 1, 2, 3, 4, 5, 2, 1, 2, 3, 4, 5, 4, 1, 2, 3, 4, 5, 1, 3, 4, 1, 2, 3, 4, 5, 4, 1, 2, 3, 4, 5, 4, 1, 2, 3, 4, 5, 2], \"Freq\": [0.25161248445510864, 0.23270168900489807, 0.1807519793510437, 0.1534302830696106, 0.18152160942554474, 0.23869729042053223, 0.26273873448371887, 0.1356624960899353, 0.17859365046024323, 0.18546263873577118, 0.31007522344589233, 0.1808772087097168, 0.14329233765602112, 0.21141491830348969, 0.15503761172294617, 0.26532551646232605, 0.26532551646232605, 0.26532551646232605, 0.26532551646232605, 0.5291747450828552, 0.5291177034378052, 0.20880432426929474, 0.16839058697223663, 0.18522964417934418, 0.20206870138645172, 0.2357468158006668, 0.26100677251815796, 0.2033424824476242, 0.19272011518478394, 0.17299285531044006, 0.16995789110660553, 0.529610812664032, 0.1328255832195282, 0.1328255832195282, 0.1328255832195282, 0.1328255832195282, 0.2656511664390564, 0.16103389859199524, 0.2771895229816437, 0.23759101331233978, 0.16895361244678497, 0.1531141996383667, 0.21257029473781586, 0.21257029473781586, 0.4251405894756317, 0.21257029473781586, 0.21257029473781586, 0.1855534017086029, 0.2833450436592102, 0.13038887083530426, 0.16800104081630707, 0.23570296168327332, 0.13291789591312408, 0.13291789591312408, 0.13291789591312408, 0.26583579182624817, 0.13291789591312408, 0.5297738313674927, 0.16353867948055267, 0.16353867948055267, 0.20442335307598114, 0.1226540133357048, 0.32707735896110535, 0.5299521088600159, 0.1770475208759308, 0.1770475208759308, 0.1770475208759308, 0.1770475208759308, 0.3540950417518616, 0.21217092871665955, 0.21384817361831665, 0.1970757693052292, 0.12663166224956512, 0.2507474720478058, 0.1737813651561737, 0.16709746420383453, 0.19383305311203003, 0.16041356325149536, 0.3074593245983124, 0.2656295895576477, 0.2656295895576477, 0.2656295895576477, 0.2656295895576477, 0.5298195481300354, 0.5307222008705139, 0.5301347970962524, 0.21227212250232697, 0.21227212250232697, 0.21227212250232697, 0.21227212250232697, 0.21227212250232697, 0.16165512800216675, 0.23093590140342712, 0.2200683206319809, 0.1990124136209488, 0.18882405757904053, 0.2671486437320709, 0.2671486437320709, 0.13357432186603546, 0.2671486437320709, 0.13357432186603546, 0.15083128213882446, 0.2728271782398224, 0.21293829381465912, 0.19297532737255096, 0.16857615113258362, 0.14733026921749115, 0.30079928040504456, 0.15960778295993805, 0.19644035398960114, 0.19644035398960114, 0.5324680209159851, 0.529106080532074, 0.2283267378807068, 0.19723165035247803, 0.1563638299703598, 0.23099203407764435, 0.18657048046588898, 0.11379264295101166, 0.1896544098854065, 0.30344703793525696, 0.1896544098854065, 0.15172351896762848, 0.30786237120628357, 0.15707263350486755, 0.16963844001293182, 0.19477006793022156, 0.17592135071754456, 0.1637706756591797, 0.17109374701976776, 0.1797482967376709, 0.16310493648052216, 0.32288119196891785, 0.5299477577209473, 0.11632242053747177, 0.2290656864643097, 0.17895756661891937, 0.2791737914085388, 0.19685332477092743, 0.17704962193965912, 0.17704962193965912, 0.35409924387931824, 0.17704962193965912, 0.17704962193965912, 0.20747323334217072, 0.2432870715856552, 0.19265371561050415, 0.21982283890247345, 0.13708053529262543, 0.25107821822166443, 0.16246236860752106, 0.11815445125102997, 0.2621552050113678, 0.20307797193527222, 0.5295665860176086, 0.26598870754241943, 0.26598870754241943, 0.26598870754241943, 0.26598870754241943, 0.26598870754241943, 0.5297608971595764, 0.5291769504547119, 0.2073657363653183, 0.22342927753925323, 0.14749252796173096, 0.1679370403289795, 0.25409603118896484, 0.134921133518219, 0.28108569979667664, 0.1574079841375351, 0.25859883427619934, 0.16865141689777374, 0.5333307385444641, 0.17999128997325897, 0.1309027522802353, 0.19635413587093353, 0.19635413587093353, 0.2945311963558197, 0.2364054024219513, 0.26848897337913513, 0.16379517316818237, 0.1671723872423172, 0.1654837727546692, 0.13278108835220337, 0.26556217670440674, 0.13278108835220337, 0.26556217670440674, 0.13278108835220337, 0.22616732120513916, 0.2100125104188919, 0.30694136023521423, 0.12923847138881683, 0.12923847138881683, 0.16728156805038452, 0.2532457113265991, 0.18586841225624084, 0.2532457113265991, 0.14172466099262238, 0.35615110397338867, 0.17807555198669434, 0.17807555198669434, 0.17807555198669434, 0.17807555198669434, 0.196743443608284, 0.13868799805641174, 0.196743443608284, 0.1902928352355957, 0.28060129284858704, 0.15148699283599854, 0.15148699283599854, 0.4544609785079956, 0.15148699283599854, 0.15148699283599854, 0.5296064019203186, 0.18361178040504456, 0.16805146634578705, 0.21162036061286926, 0.20306219160556793, 0.23418281972408295, 0.17814652621746063, 0.1892806887626648, 0.16701237857341766, 0.17814652621746063, 0.2783539593219757, 0.1734021008014679, 0.2944563925266266, 0.15049992501735687, 0.20284773409366608, 0.17994557321071625, 0.1978650540113449, 0.11384016275405884, 0.27375850081443787, 0.1897336095571518, 0.22496984899044037, 0.14252695441246033, 0.1735110729932785, 0.2813358008861542, 0.20945265889167786, 0.19334091246128082, 0.28939905762672424, 0.23741120100021362, 0.14556598663330078, 0.15076477825641632, 0.17502577602863312, 0.2397715002298355, 0.15872198343276978, 0.26003387570381165, 0.17391875386238098, 0.1671646386384964, 0.2194972038269043, 0.16530372202396393, 0.23610927164554596, 0.1527765840291977, 0.22630542516708374, 0.17678749561309814, 0.3535749912261963, 0.17678749561309814, 0.17678749561309814, 0.17678749561309814, 0.15643250942230225, 0.18771901726722717, 0.18771901726722717, 0.3128650188446045, 0.18771901726722717, 0.15632033348083496, 0.18758440017700195, 0.3126406669616699, 0.18758440017700195, 0.18758440017700195, 0.35296502709388733, 0.35296502709388733, 0.35296502709388733, 0.25142353773117065, 0.11544958502054214, 0.27964454889297485, 0.15906387567520142, 0.1924159824848175, 0.3204110860824585, 0.19580677151679993, 0.1424049288034439, 0.1780061572790146, 0.16020554304122925, 0.18328598141670227, 0.2521299719810486, 0.1806037425994873, 0.22173133492469788, 0.16093403100967407, 0.14163590967655182, 0.14163590967655182, 0.21245387196540833, 0.35408979654312134, 0.14163590967655182, 0.5299183130264282, 0.5310619473457336, 0.5294875502586365, 0.16911619901657104, 0.2469521015882492, 0.18185298144817352, 0.2002505660057068, 0.20237335562705994, 0.19353212416172028, 0.19353212416172028, 0.1451490968465805, 0.3386812210083008, 0.1451490968465805, 0.15424706041812897, 0.17709848284721375, 0.14853420853614807, 0.29135555028915405, 0.228514164686203, 0.11790154129266739, 0.11790154129266739, 0.11790154129266739, 0.23580308258533478, 0.35370463132858276, 0.2735106647014618, 0.19026829302310944, 0.1813494712114334, 0.21553830802440643, 0.1389850378036499, 0.24345238506793976, 0.1894502192735672, 0.18502381443977356, 0.21689394116401672, 0.16377705335617065, 0.5320011973381042, 0.35398751497268677, 0.35398751497268677, 0.20611220598220825, 0.3091683089733124, 0.1545841544866562, 0.21470022201538086, 0.12023212015628815, 0.1762533336877823, 0.27152541279792786, 0.1774442344903946, 0.23460747301578522, 0.13933540880680084, 0.5298256278038025, 0.5324180722236633, 0.1382075995206833, 0.1795196533203125, 0.21031591296195984, 0.21407155692577362, 0.25838813185691833, 0.13294865190982819, 0.13294865190982819, 0.26589730381965637, 0.13294865190982819, 0.13294865190982819, 0.18404361605644226, 0.19694703817367554, 0.1548411250114441, 0.26757633686065674, 0.19626791775226593, 0.5292239189147949, 0.5298343896865845, 0.1326865702867508, 0.2653731405735016, 0.1326865702867508, 0.2653731405735016, 0.1326865702867508, 0.35389983654022217, 0.35389983654022217, 0.35389983654022217, 0.3558296859264374, 0.3558296859264374, 0.3558296859264374, 0.3048970103263855, 0.15244850516319275, 0.15244850516319275, 0.15244850516319275, 0.15244850516319275, 0.5325105786323547, 0.17919710278511047, 0.25040122866630554, 0.16258279979228973, 0.22666652500629425, 0.1803838312625885, 0.35380876064300537, 0.35380876064300537, 0.2663509249687195, 0.0887836441397667, 0.3551345765590668, 0.1775672882795334, 0.1775672882795334, 0.5355286002159119, 0.2040046751499176, 0.18525424599647522, 0.2317553162574768, 0.18525424599647522, 0.1935044378042221, 0.3056574761867523, 0.15282873809337616, 0.15282873809337616, 0.15282873809337616, 0.15282873809337616, 0.3530627489089966, 0.3530627489089966, 0.171472430229187, 0.1371779441833496, 0.20576691627502441, 0.1371779441833496, 0.3086503744125366, 0.15452861785888672, 0.1232316866517067, 0.23277096450328827, 0.22299067676067352, 0.2660239636898041, 0.14618998765945435, 0.19235524535179138, 0.16157840192317963, 0.21159076690673828, 0.2885328531265259, 0.528847336769104, 0.16426913440227509, 0.23232349753379822, 0.26283061504364014, 0.15018892288208008, 0.1900828629732132, 0.2379336804151535, 0.23613795638084412, 0.13019011914730072, 0.19573411345481873, 0.2002234309911728, 0.25107693672180176, 0.16360066831111908, 0.1943175196647644, 0.21702128648757935, 0.17361703515052795, 0.2964494526386261, 0.1844574362039566, 0.15810637176036835, 0.12846142053604126, 0.2338656783103943, 0.5330053567886353, 0.20246852934360504, 0.20940238237380981, 0.15809185802936554, 0.24407164752483368, 0.18582728505134583, 0.5298137664794922, 0.5327322483062744, 0.35363951325416565, 0.35363951325416565, 0.35363951325416565, 0.17711782455444336, 0.3542356491088867, 0.17711782455444336, 0.17711782455444336, 0.17711782455444336, 0.1364673376083374, 0.30326077342033386, 0.19711948931217194, 0.15163038671016693, 0.19711948931217194, 0.18217243254184723, 0.24402110278606415, 0.21253451704978943, 0.17542530596256256, 0.18554601073265076, 0.5329066514968872, 0.14556549489498138, 0.1989395022392273, 0.20767344534397125, 0.23387522995471954, 0.2154369354248047, 0.20649215579032898, 0.20804472267627716, 0.20338700711727142, 0.20804472267627716, 0.17388813197612762, 0.21449632942676544, 0.16790889203548431, 0.1426740288734436, 0.2630248963832855, 0.2125551849603653, 0.1770399659872055, 0.354079931974411, 0.1770399659872055, 0.1770399659872055, 0.1770399659872055, 0.5326273441314697, 0.20549531280994415, 0.2073235660791397, 0.1714898645877838, 0.15832646191120148, 0.25741761922836304, 0.5299795866012573, 0.17033159732818604, 0.21053409576416016, 0.2602582275867462, 0.17985324561595917, 0.17879527807235718, 0.15083716809749603, 0.28327956795692444, 0.22441628575325012, 0.18026882410049438, 0.1655529886484146, 0.3537706136703491, 0.3537706136703491, 0.3537706136703491, 0.2439846396446228, 0.16265642642974854, 0.22225037217140198, 0.2240031361579895, 0.14723210036754608, 0.19577276706695557, 0.17750287055969238, 0.22879265248775482, 0.2256079912185669, 0.1724744588136673, 0.2219255566596985, 0.17754045128822327, 0.3106957972049713, 0.17754045128822327, 0.13315533101558685, 0.2667652368545532, 0.2667652368545532, 0.2667652368545532, 0.2667652368545532, 0.2667652368545532, 0.12333831191062927, 0.24667662382125854, 0.220960333943367, 0.20423227548599243, 0.20473161339759827, 0.5292612910270691, 0.3535524606704712, 0.3535524606704712, 0.22431570291519165, 0.176813542842865, 0.27709585428237915, 0.16625751554965973, 0.15570148825645447, 0.15177439153194427, 0.22766157984733582, 0.07588719576597214, 0.15177439153194427, 0.30354878306388855, 0.2136128693819046, 0.174263134598732, 0.27544817328453064, 0.1503722220659256, 0.18831659853458405, 0.17771852016448975, 0.12415950745344162, 0.30187803506851196, 0.21667051315307617, 0.1801530122756958, 0.17960837483406067, 0.18140895664691925, 0.15304973721504211, 0.19851452112197876, 0.2876434922218323, 0.5296820998191833, 0.5340209603309631, 0.5294049978256226, 0.128720223903656, 0.20707166194915771, 0.18188726902008057, 0.2476465255022049, 0.23505432903766632, 0.26683369278907776, 0.26683369278907776, 0.26683369278907776, 0.26683369278907776, 0.26683369278907776, 0.2430299073457718, 0.21124118566513062, 0.22354650497436523, 0.1722743660211563, 0.15074007213115692, 0.5292608141899109, 0.3052111566066742, 0.25434261560440063, 0.15924060344696045, 0.11721877753734589, 0.16366395354270935, 0.5303053855895996, 0.26553186774253845, 0.26553186774253845, 0.26553186774253845, 0.26553186774253845, 0.26553186774253845, 0.5299040079116821, 0.5295129418373108, 0.16788552701473236, 0.1119236871600151, 0.16788552701473236, 0.16788552701473236, 0.3917329013347626, 0.3061864376068115, 0.1563505232334137, 0.1758943349123001, 0.18240894377231598, 0.1758943349123001, 0.3534407317638397, 0.3534407317638397, 0.3534407317638397, 0.16600759327411652, 0.2656121551990509, 0.29881367087364197, 0.13280607759952545, 0.16600759327411652, 0.24041128158569336, 0.1901760846376419, 0.15967614948749542, 0.15788203477859497, 0.2529700696468353, 0.2657243013381958, 0.2657243013381958, 0.2657243013381958, 0.2657243013381958, 0.2657243013381958, 0.5327878594398499, 0.19758765399456024, 0.1871883124113083, 0.18926818668842316, 0.25166428089141846, 0.1726292222738266, 0.22807644307613373, 0.21580037474632263, 0.1834949254989624, 0.20029376447200775, 0.17251108586788177, 0.529627799987793, 0.5322718024253845, 0.5296809077262878, 0.1992684304714203, 0.17304889857769012, 0.15207327902317047, 0.19402453303337097, 0.2779270112514496, 0.28401273488998413, 0.21539220213890076, 0.1563023030757904, 0.17345742881298065, 0.17155130207538605, 0.5303142666816711, 0.16793696582317352, 0.208897203207016, 0.24883343279361725, 0.18124903738498688, 0.19353711605072021, 0.15182539820671082, 0.15182539820671082, 0.15182539820671082, 0.30365079641342163, 0.15182539820671082, 0.5295150876045227, 0.17461824417114258, 0.17461824417114258, 0.235970601439476, 0.14546893537044525, 0.2695617079734802, 0.15232743322849274, 0.27524513006210327, 0.2624254822731018, 0.2020977884531021, 0.10783576220273972, 0.3064384162425995, 0.21496427059173584, 0.19209572672843933, 0.16236662864685059, 0.1257769614458084, 0.2105512022972107, 0.2767244279384613, 0.1804724633693695, 0.17445671558380127, 0.1624252200126648, 0.19496344029903412, 0.15661881864070892, 0.23060771822929382, 0.24140901863574982, 0.17714129388332367, 0.3557873070240021, 0.3557873070240021, 0.18419112265110016, 0.23709708452224731, 0.15381917357444763, 0.1969277411699295, 0.22729967534542084, 0.24609626829624176, 0.1479395478963852, 0.1728309690952301, 0.24046047031879425, 0.1925562471151352, 0.2393551766872406, 0.26287561655044556, 0.11068447679281235, 0.16741026937961578, 0.21998539566993713, 0.13292455673217773, 0.3987736701965332, 0.13292455673217773, 0.26584911346435547, 0.13292455673217773, 0.1874169260263443, 0.2048879861831665, 0.1921817660331726, 0.2747722566127777, 0.1397685557603836, 0.26506122946739197, 0.26506122946739197, 0.26506122946739197, 0.26506122946739197, 0.26506122946739197, 0.24258019030094147, 0.20594896376132965, 0.21327520906925201, 0.1408267617225647, 0.19699466228485107, 0.5304149389266968, 0.2440769523382187, 0.14748479425907135, 0.20253193378448486, 0.20357055962085724, 0.20357055962085724, 0.21949711441993713, 0.14753083884716034, 0.2698734998703003, 0.15112915635108948, 0.20870216190814972, 0.21131272614002228, 0.15554964542388916, 0.1878335326910019, 0.2612060010433197, 0.1819637417793274, 0.5292220711708069, 0.26003164052963257, 0.13924771547317505, 0.19386973977088928, 0.18540717661380768, 0.22156542539596558, 0.22771571576595306, 0.1529964953660965, 0.20547784864902496, 0.22504717111587524, 0.1885770857334137, 0.19594185054302216, 0.22488094866275787, 0.16760563850402832, 0.18448679149150848, 0.2266896367073059, 0.19938650727272034, 0.13292434811592102, 0.19938650727272034, 0.33231085538864136, 0.19938650727272034, 0.2282252162694931, 0.1646304875612259, 0.2236827313899994, 0.17949679493904114, 0.20413629710674286, 0.32502323389053345, 0.1857275515794754, 0.1857275515794754, 0.0928637757897377, 0.1857275515794754, 0.19576260447502136, 0.1239829808473587, 0.2610167860984802, 0.19576260447502136, 0.22349563241004944, 0.17780277132987976, 0.2162466049194336, 0.15858083963394165, 0.2643014192581177, 0.1826082468032837, 0.28173914551734924, 0.17125320434570312, 0.18966752290725708, 0.19887468218803406, 0.156521737575531, 0.21205951273441315, 0.14242804050445557, 0.13451535999774933, 0.2927687466144562, 0.21997219324111938, 0.21648871898651123, 0.19150924682617188, 0.16652977466583252, 0.2831006348133087, 0.14155031740665436, 0.19134986400604248, 0.22732487320899963, 0.22670461237430573, 0.19755244255065918, 0.1569254845380783, 0.5305433869361877, 0.1877705156803131, 0.29730331897735596, 0.15647543966770172, 0.172122985124588, 0.172122985124588, 0.5290413498878479, 0.5305681228637695, 0.1594475507736206, 0.21259672939777374, 0.10629836469888687, 0.3188951015472412, 0.21259672939777374, 0.5299094319343567, 0.22568760812282562, 0.1536596566438675, 0.2833099961280823, 0.15846151113510132, 0.18247084319591522, 0.1639193296432495, 0.2731988728046417, 0.1639193296432495, 0.24156533181667328, 0.15529198944568634, 0.2027924358844757, 0.16543592512607574, 0.17077256739139557, 0.16162404417991638, 0.29885199666023254, 0.529918909072876, 0.5295933485031128, 0.5305629968643188, 0.16343814134597778, 0.16343814134597778, 0.32687628269195557, 0.16343814134597778, 0.16343814134597778, 0.35595405101776123, 0.35595405101776123, 0.35595405101776123, 0.2071523517370224, 0.17509305477142334, 0.1491990089416504, 0.21455064415931702, 0.2552412748336792, 0.28322139382362366, 0.19398725032806396, 0.13967081904411316, 0.20950622856616974, 0.17458851635456085, 0.1613253802061081, 0.27143633365631104, 0.17156825959682465, 0.2022968977689743, 0.1946147382259369, 0.16901957988739014, 0.2982698380947113, 0.16901957988739014, 0.18890424072742462, 0.16901957988739014, 0.1327648162841797, 0.19626103341579437, 0.18471626937389374, 0.31459489464759827, 0.1731715053319931, 0.16959773004055023, 0.22267328202724457, 0.15007568895816803, 0.23853494226932526, 0.21901290118694305, 0.17535695433616638, 0.14028555154800415, 0.19873787462711334, 0.2805711030960083, 0.21042834222316742, 0.3174840807914734, 0.1799076497554779, 0.1587420403957367, 0.19049043953418732, 0.1587420403957367, 0.5295584201812744, 0.3087908625602722, 0.2137783020734787, 0.16627201437950134, 0.19002515077590942, 0.11876571923494339, 0.29039767384529114, 0.1606455147266388, 0.1977175623178482, 0.17300286889076233, 0.1791815459728241, 0.35356205701828003, 0.35356205701828003, 0.35356205701828003, 0.21049441397190094, 0.2320222556591034, 0.14591090381145477, 0.13873495161533356, 0.2750779390335083, 0.19231648743152618, 0.1755269467830658, 0.1930796504020691, 0.2289481908082962, 0.2106323391199112, 0.15186777710914612, 0.15186777710914612, 0.15186777710914612, 0.30373555421829224, 0.15186777710914612, 0.5300205945968628, 0.3051999807357788, 0.1525999903678894, 0.1525999903678894, 0.2080908864736557, 0.16647271811962128, 0.5289559960365295, 0.5293105840682983, 0.26482129096984863, 0.26482129096984863, 0.26482129096984863, 0.26482129096984863, 0.5293687582015991, 0.1371411383152008, 0.23254366219043732, 0.14509133994579315, 0.25838184356689453, 0.22459346055984497, 0.3153317868709564, 0.1576658934354782, 0.1927027553319931, 0.17518432438373566, 0.1576658934354782, 0.3562243580818176, 0.1781121790409088, 0.1781121790409088, 0.1781121790409088, 0.1781121790409088, 0.21711884438991547, 0.13509616255760193, 0.2016792744398117, 0.29721155762672424, 0.1505357325077057, 0.5309894680976868, 0.35640257596969604, 0.17820128798484802, 0.17820128798484802, 0.17820128798484802, 0.17820128798484802, 0.17331136763095856, 0.13549798727035522, 0.20482252538204193, 0.21427588164806366, 0.2678448557853699, 0.21248672902584076, 0.21248672902584076, 0.4249734580516815, 0.21248672902584076, 0.21248672902584076, 0.23923636972904205, 0.2050597369670868, 0.14337509870529175, 0.17421741783618927, 0.23756921291351318, 0.21906042098999023, 0.25739598274230957, 0.19030874967575073, 0.20536914467811584, 0.12732887268066406, 0.3041324019432068, 0.15516959130764008, 0.19861707091331482, 0.1675831526517868, 0.17378993332386017, 0.3204476833343506, 0.13351987302303314, 0.13351987302303314, 0.18692782521247864, 0.2136317938566208, 0.17811013758182526, 0.23106180131435394, 0.14922741055488586, 0.27919965982437134, 0.16366876661777496, 0.13318537175655365, 0.20453467965126038, 0.18550820648670197, 0.20453467965126038, 0.2758840024471283, 0.529325544834137, 0.2930811047554016, 0.16174758970737457, 0.19423535466194153, 0.19769150018692017, 0.15345284342765808, 0.5309625267982483, 0.23433272540569305, 0.18490315973758698, 0.2617935836315155, 0.15011939406394958, 0.16842664778232574, 0.26545193791389465, 0.18932968378067017, 0.17957042157649994, 0.22641488909721375, 0.14053337275981903, 0.1756698489189148, 0.17415545880794525, 0.26199036836624146, 0.21050094068050385, 0.1756698489189148, 0.2832948565483093, 0.18671706318855286, 0.1815662533044815, 0.20860803127288818, 0.1390720158815384, 0.1712755262851715, 0.21155859529972076, 0.22604891657829285, 0.20460325479507446, 0.18634545803070068, 0.5296842455863953, 0.5307495594024658, 0.17907050251960754, 0.17907050251960754, 0.17562682926654816, 0.1962888091802597, 0.2686057388782501, 0.1249852180480957, 0.18747782707214355, 0.18747782707214355, 0.31246304512023926, 0.18747782707214355, 0.5304462313652039, 0.26558375358581543, 0.26558375358581543, 0.26558375358581543, 0.26558375358581543, 0.26558375358581543, 0.1868244856595993, 0.21732643246650696, 0.27451759576797485, 0.1791989952325821, 0.14107154309749603, 0.16751812398433685, 0.19144926965236664, 0.2358928620815277, 0.2632427513599396, 0.14358696341514587, 0.5305678844451904, 0.18114174902439117, 0.18114174902439117, 0.18114174902439117, 0.2943553626537323, 0.13585631549358368, 0.21982061862945557, 0.18135200440883636, 0.16211770474910736, 0.17860424518585205, 0.2582892179489136, 0.5293992757797241, 0.21266934275627136, 0.21266934275627136, 0.21266934275627136, 0.4253386855125427, 0.21266934275627136, 0.15442997217178345, 0.19414053857326508, 0.1632545441389084, 0.22943882644176483, 0.2603248059749603, 0.11802450567483902, 0.23604901134967804, 0.35407352447509766, 0.11802450567483902, 0.11802450567483902, 0.21211230754852295, 0.21211230754852295, 0.21211230754852295, 0.21211230754852295, 0.4242246150970459, 0.22849704325199127, 0.1523313671350479, 0.3046627342700958, 0.1523313671350479, 0.1523313671350479, 0.16734537482261658, 0.2352244108915329, 0.19960471987724304, 0.2237992286682129, 0.17406606674194336, 0.15311989188194275, 0.20378457009792328, 0.20603632926940918, 0.2544492483139038, 0.18239282071590424, 0.5330113768577576, 0.18888942897319794, 0.2896304428577423, 0.16510334610939026, 0.16650253534317017, 0.19028860330581665, 0.5299897789955139, 0.144876629114151, 0.1641935110092163, 0.20282727479934692, 0.289753258228302, 0.20282727479934692, 0.2055869698524475, 0.1750701516866684, 0.22325460612773895, 0.1397348940372467, 0.2569837272167206, 0.1910804808139801, 0.1637832671403885, 0.30026933550834656, 0.21837769448757172, 0.13648605346679688, 0.15403328835964203, 0.18309617042541504, 0.2702848017215729, 0.19762760400772095, 0.19472132623195648, 0.1457400918006897, 0.1865914762020111, 0.2484205961227417, 0.22854694724082947, 0.18990375101566315, 0.23464617133140564, 0.24399462342262268, 0.17294637858867645, 0.19164329767227173, 0.15705400705337524, 0.21079455316066742, 0.1882345974445343, 0.16708464920520782, 0.22418951988220215, 0.2100895494222641, 0.22138500213623047, 0.15366724133491516, 0.17450347542762756, 0.16408535838127136, 0.2891027629375458, 0.17139390110969543, 0.3085090219974518, 0.20567269623279572, 0.17139390110969543, 0.13711512088775635, 0.19159385561943054, 0.2499050348997116, 0.24712830781936646, 0.17585909366607666, 0.13698498904705048, 0.15784390270709991, 0.18244294822216034, 0.15989382565021515, 0.21729160845279694, 0.28288906812667847, 0.2409157156944275, 0.1981952041387558, 0.18418847024440765, 0.19329284131526947, 0.183488130569458, 0.1325150579214096, 0.1325150579214096, 0.2650301158428192, 0.1325150579214096, 0.2650301158428192, 0.17259733378887177, 0.14534512162208557, 0.16351327300071716, 0.28160619735717773, 0.24526990950107574, 0.20796740055084229, 0.16038164496421814, 0.22206689417362213, 0.14451971650123596, 0.2661277949810028, 0.2976491451263428, 0.21553903818130493, 0.15395645797252655, 0.16422021389007568, 0.174483984708786, 0.17735718190670013, 0.20071642100811005, 0.25608646869659424, 0.21023313701152802, 0.15486308932304382, 0.23550593852996826, 0.13849154114723206, 0.24394196271896362, 0.23269392549991608, 0.1483335793018341, 0.28884458541870117, 0.14950759708881378, 0.15128745138645172, 0.23112653195858002, 0.1790022850036621, 0.5299981832504272, 0.5328933596611023, 0.18077914416790009, 0.18852682411670685, 0.18077914416790009, 0.18594427406787872, 0.2660036087036133, 0.25603029131889343, 0.2046571522951126, 0.15370170772075653, 0.1862797737121582, 0.19964514672756195, 0.2990565598011017, 0.23802460730075836, 0.19530224800109863, 0.10985751450061798, 0.15868307650089264, 0.5296392440795898, 0.34148600697517395, 0.18212586641311646, 0.18212586641311646, 0.1593601256608963, 0.13659439980983734, 0.21243268251419067, 0.21243268251419067, 0.21243268251419067, 0.21243268251419067, 0.42486536502838135, 0.2812279462814331, 0.13718435168266296, 0.16119162738323212, 0.19891731441020966, 0.21949496865272522, 0.15321817994117737, 0.20429089665412903, 0.18386180698871613, 0.13278909027576447, 0.3166508972644806, 0.1375778764486313, 0.3363014757633209, 0.15286430716514587, 0.16050751507282257, 0.22165323793888092, 0.21864670515060425, 0.18883123993873596, 0.19628511369228363, 0.20932936668395996, 0.18696777522563934, 0.23561257123947144, 0.21845632791519165, 0.16813130676746368, 0.16241255402565002, 0.21502506732940674, 0.15615539252758026, 0.2825669050216675, 0.23051509261131287, 0.15615539252758026, 0.1747453212738037, 0.15049339830875397, 0.17705105245113373, 0.16819849610328674, 0.16819849610328674, 0.3363969922065735, 0.16215479373931885, 0.21582575142383575, 0.2512257397174835, 0.2123999446630478, 0.1598709374666214, 0.26643404364585876, 0.1689581722021103, 0.18682874739170074, 0.22906827926635742, 0.1494629979133606, 0.2582645118236542, 0.1820553094148636, 0.11431380361318588, 0.26673218607902527, 0.17782147228717804, 0.21511901915073395, 0.2066829800605774, 0.18067185580730438, 0.149036705493927, 0.24816016852855682, 0.5297203063964844, 0.2491726130247116, 0.15333698689937592, 0.1469479501247406, 0.25236713886260986, 0.1980602741241455, 0.5307192206382751, 0.2657143771648407, 0.2657143771648407, 0.2657143771648407, 0.2657143771648407, 0.2657143771648407, 0.3557150065898895, 0.3557150065898895, 0.3557150065898895, 0.16805092990398407, 0.19205820560455322, 0.27208247780799866, 0.20006063580513, 0.16404972970485687, 0.5295408368110657, 0.0493193082511425, 0.1232982650399208, 0.098638616502285, 0.6411510109901428, 0.098638616502285, 0.5292231440544128, 0.29344213008880615, 0.20743323862552643, 0.22261127829551697, 0.16189910471439362, 0.12142433226108551, 0.5296908020973206], \"Term\": [\" \", \" \", \" \", \" \", \" \", \"  \", \"  \", \"  \", \"  \", \"  \", \"1\", \"1\", \"1\", \"1\", \"1\", \"111\", \"111\", \"111\", \"111\", \"12liquor\", \"196lp55053451458italia5445i151520exit25sloani15ipadlp550545579usbpc05800m99212thank\", \"2\", \"2\", \"2\", \"2\", \"2\", \"5\", \"5\", \"5\", \"5\", \"5\", \"6ishpm\", \"aaa\", \"aaa\", \"aaa\", \"aaa\", \"aaa\", \"able\", \"able\", \"able\", \"able\", \"able\", \"abruptly\", \"abruptly\", \"abruptly\", \"abruptly\", \"abruptly\", \"absolutely\", \"absolutely\", \"absolutely\", \"absolutely\", \"absolutely\", \"aburi\", \"aburi\", \"aburi\", \"aburi\", \"aburi\", \"accounting\", \"accurate\", \"accurate\", \"accurate\", \"accurate\", \"accurate\", \"acrobaticsreally\", \"aloe\", \"aloe\", \"aloe\", \"aloe\", \"aloe\", \"amazing\", \"amazing\", \"amazing\", \"amazing\", \"amazing\", \"ambiance\", \"ambiance\", \"ambiance\", \"ambiance\", \"ambiance\", \"ana\", \"ana\", \"ana\", \"ana\", \"appetizersentreesgo\", \"aptive\", \"ari\", \"asians\", \"asians\", \"asians\", \"asians\", \"asians\", \"ask\", \"ask\", \"ask\", \"ask\", \"ask\", \"assembly\", \"assembly\", \"assembly\", \"assembly\", \"assembly\", \"atmosphere\", \"atmosphere\", \"atmosphere\", \"atmosphere\", \"atmosphere\", \"authentic\", \"authentic\", \"authentic\", \"authentic\", \"authentic\", \"backfood\", \"backstaff\", \"bad\", \"bad\", \"bad\", \"bad\", \"bad\", \"bass\", \"bass\", \"bass\", \"bass\", \"bass\", \"bathroom\", \"bathroom\", \"bathroom\", \"bathroom\", \"bathroom\", \"be\", \"be\", \"be\", \"be\", \"be\", \"beause\", \"beer\", \"beer\", \"beer\", \"beer\", \"beer\", \"berelowitz\", \"berelowitz\", \"berelowitz\", \"berelowitz\", \"berelowitz\", \"bit\", \"bit\", \"bit\", \"bit\", \"bit\", \"bite\", \"bite\", \"bite\", \"bite\", \"bite\", \"bombsooo\", \"booming\", \"booming\", \"booming\", \"booming\", \"booming\", \"boots\", \"breakfastwtf\", \"bring\", \"bring\", \"bring\", \"bring\", \"bring\", \"brunch\", \"brunch\", \"brunch\", \"brunch\", \"brunch\", \"bubbleheade\", \"budget\", \"budget\", \"budget\", \"budget\", \"budget\", \"care\", \"care\", \"care\", \"care\", \"care\", \"carlos\", \"carlos\", \"carlos\", \"carlos\", \"carlos\", \"carne\", \"carne\", \"carne\", \"carne\", \"carne\", \"change\", \"change\", \"change\", \"change\", \"change\", \"chapman\", \"chapman\", \"chapman\", \"chapman\", \"chapman\", \"cheap\", \"cheap\", \"cheap\", \"cheap\", \"cheap\", \"cheesetart\", \"cheesetart\", \"cheesetart\", \"cheesetart\", \"cheesetart\", \"chelsea\", \"chicken\", \"chicken\", \"chicken\", \"chicken\", \"chicken\", \"chinese\", \"chinese\", \"chinese\", \"chinese\", \"chinese\", \"chip\", \"chip\", \"chip\", \"chip\", \"chip\", \"choice\", \"choice\", \"choice\", \"choice\", \"choice\", \"clean\", \"clean\", \"clean\", \"clean\", \"clean\", \"close\", \"close\", \"close\", \"close\", \"close\", \"coffee\", \"coffee\", \"coffee\", \"coffee\", \"coffee\", \"come\", \"come\", \"come\", \"come\", \"come\", \"compel\", \"compel\", \"compel\", \"compel\", \"compel\", \"consistency\", \"consistency\", \"consistency\", \"consistency\", \"consistency\", \"contain\", \"contain\", \"contain\", \"contain\", \"contain\", \"cookbook\", \"cookbook\", \"cookbook\", \"cool\", \"cool\", \"cool\", \"cool\", \"cool\", \"croissant\", \"croissant\", \"croissant\", \"croissant\", \"croissant\", \"customer\", \"customer\", \"customer\", \"customer\", \"customer\", \"cuticle\", \"cuticle\", \"cuticle\", \"cuticle\", \"cuticle\", \"daddywent\", \"dankbbs\", \"datescan\", \"day\", \"day\", \"day\", \"day\", \"day\", \"dcor\", \"dcor\", \"dcor\", \"dcor\", \"dcor\", \"de\", \"de\", \"de\", \"de\", \"de\", \"deanna\", \"deanna\", \"deanna\", \"deanna\", \"deanna\", \"definitely\", \"definitely\", \"definitely\", \"definitely\", \"definitely\", \"delicious\", \"delicious\", \"delicious\", \"delicious\", \"delicious\", \"deltai\", \"devin\", \"devin\", \"die\", \"die\", \"die\", \"die\", \"die\", \"dish\", \"dish\", \"dish\", \"dish\", \"dish\", \"disheswhat\", \"dressimg\", \"drink\", \"drink\", \"drink\", \"drink\", \"drink\", \"drivethrough\", \"drivethrough\", \"drivethrough\", \"drivethrough\", \"drivethrough\", \"eat\", \"eat\", \"eat\", \"eat\", \"eat\", \"edgars\", \"efrain\", \"eglinton\", \"eglinton\", \"eglinton\", \"eglinton\", \"eglinton\", \"ehhhh\", \"ehhhh\", \"ehhhh\", \"elaine\", \"elaine\", \"elaine\", \"elephant\", \"elephant\", \"elephant\", \"elephant\", \"elephant\", \"embarrassment\", \"enjoy\", \"enjoy\", \"enjoy\", \"enjoy\", \"enjoy\", \"ethan\", \"ethan\", \"european\", \"european\", \"european\", \"european\", \"european\", \"everrrrr\", \"experience\", \"experience\", \"experience\", \"experience\", \"experience\", \"explode\", \"explode\", \"explode\", \"explode\", \"explode\", \"explosive\", \"explosive\", \"fake\", \"fake\", \"fake\", \"fake\", \"fake\", \"family\", \"family\", \"family\", \"family\", \"family\", \"fan\", \"fan\", \"fan\", \"fan\", \"fan\", \"fantabulous\", \"fast\", \"fast\", \"fast\", \"fast\", \"fast\", \"feel\", \"feel\", \"feel\", \"feel\", \"feel\", \"find\", \"find\", \"find\", \"find\", \"find\", \"finish\", \"finish\", \"finish\", \"finish\", \"finish\", \"flancake\", \"flavor\", \"flavor\", \"flavor\", \"flavor\", \"flavor\", \"flyest\", \"forfollowuphave\", \"forman\", \"forman\", \"forman\", \"fowl\", \"fowl\", \"fowl\", \"fowl\", \"fowl\", \"frequent\", \"frequent\", \"frequent\", \"frequent\", \"frequent\", \"fresh\", \"fresh\", \"fresh\", \"fresh\", \"fresh\", \"friedservice\", \"friend\", \"friend\", \"friend\", \"friend\", \"friend\", \"friendly\", \"friendly\", \"friendly\", \"friendly\", \"friendly\", \"fry\", \"fry\", \"fry\", \"fry\", \"fry\", \"fucking\", \"fucking\", \"fucking\", \"fucking\", \"fucking\", \"garbanzo\", \"get\", \"get\", \"get\", \"get\", \"get\", \"getgo\", \"give\", \"give\", \"give\", \"give\", \"give\", \"glass\", \"glass\", \"glass\", \"glass\", \"glass\", \"globe\", \"globe\", \"globe\", \"go\", \"go\", \"go\", \"go\", \"go\", \"good\", \"good\", \"good\", \"good\", \"good\", \"grant\", \"grant\", \"grant\", \"grant\", \"grant\", \"grazie\", \"grazie\", \"grazie\", \"grazie\", \"grazie\", \"great\", \"great\", \"great\", \"great\", \"great\", \"grump\", \"gymit\", \"gymit\", \"hair\", \"hair\", \"hair\", \"hair\", \"hair\", \"hakka\", \"hakka\", \"hakka\", \"hakka\", \"hakka\", \"happy\", \"happy\", \"happy\", \"happy\", \"happy\", \"hard\", \"hard\", \"hard\", \"hard\", \"hard\", \"have\", \"have\", \"have\", \"have\", \"have\", \"headset\", \"herelas\", \"hinds\", \"home\", \"home\", \"home\", \"home\", \"home\", \"hotbox\", \"hotbox\", \"hotbox\", \"hotbox\", \"hotbox\", \"hour\", \"hour\", \"hour\", \"hour\", \"hour\", \"httpthingsthatareawesomecom20130327voodoochildcafe\", \"huge\", \"huge\", \"huge\", \"huge\", \"huge\", \"humorromance\", \"huntington\", \"huntington\", \"huntington\", \"huntington\", \"huntington\", \"idlywada\", \"imcomplete\", \"india\", \"india\", \"india\", \"india\", \"india\", \"ingredient\", \"ingredient\", \"ingredient\", \"ingredient\", \"ingredient\", \"inspiring\", \"inspiring\", \"inspiring\", \"instruction\", \"instruction\", \"instruction\", \"instruction\", \"instruction\", \"item\", \"item\", \"item\", \"item\", \"item\", \"julep\", \"julep\", \"julep\", \"julep\", \"julep\", \"katzs\", \"kind\", \"kind\", \"kind\", \"kind\", \"kind\", \"know\", \"know\", \"know\", \"know\", \"know\", \"kristina\", \"kronut\", \"kupcake\", \"lack\", \"lack\", \"lack\", \"lack\", \"lack\", \"large\", \"large\", \"large\", \"large\", \"large\", \"lauto\", \"leave\", \"leave\", \"leave\", \"leave\", \"leave\", \"lemony\", \"lemony\", \"lemony\", \"lemony\", \"lemony\", \"lgbtq\", \"like\", \"like\", \"like\", \"like\", \"like\", \"little\", \"little\", \"little\", \"little\", \"little\", \"live\", \"live\", \"live\", \"live\", \"live\", \"lobster\", \"lobster\", \"lobster\", \"lobster\", \"lobster\", \"look\", \"look\", \"look\", \"look\", \"look\", \"loser\", \"loser\", \"lot\", \"lot\", \"lot\", \"lot\", \"lot\", \"love\", \"love\", \"love\", \"love\", \"love\", \"lunch\", \"lunch\", \"lunch\", \"lunch\", \"lunch\", \"manny\", \"manny\", \"manny\", \"manny\", \"manny\", \"meat\", \"meat\", \"meat\", \"meat\", \"meat\", \"meilleurs\", \"meilleurs\", \"meilleurs\", \"meilleurs\", \"meilleurs\", \"menu\", \"menu\", \"menu\", \"menu\", \"menu\", \"mesaid\", \"minute\", \"minute\", \"minute\", \"minute\", \"minute\", \"move\", \"move\", \"move\", \"move\", \"move\", \"nail\", \"nail\", \"nail\", \"nail\", \"nail\", \"nca\", \"need\", \"need\", \"need\", \"need\", \"need\", \"new\", \"new\", \"new\", \"new\", \"new\", \"nice\", \"nice\", \"nice\", \"nice\", \"nice\", \"northern\", \"northern\", \"northern\", \"northern\", \"northern\", \"not\", \"not\", \"not\", \"not\", \"not\", \"november\", \"november\", \"november\", \"november\", \"november\", \"offer\", \"offer\", \"offer\", \"offer\", \"offer\", \"ok\", \"ok\", \"ok\", \"ok\", \"ok\", \"old\", \"old\", \"old\", \"old\", \"old\", \"open\", \"open\", \"open\", \"open\", \"open\", \"opinion\", \"opinion\", \"opinion\", \"opinion\", \"opinion\", \"order\", \"order\", \"order\", \"order\", \"order\", \"organis\", \"originally\", \"originally\", \"originally\", \"originally\", \"originally\", \"orizabas\", \"outcant\", \"oxtail\", \"oxtail\", \"oxtail\", \"oxtail\", \"oxtail\", \"packer\", \"park\", \"park\", \"park\", \"park\", \"park\", \"parking\", \"parking\", \"parking\", \"parking\", \"parking\", \"people\", \"people\", \"people\", \"people\", \"people\", \"peopleare\", \"peopleed\", \"perrys\", \"personnel\", \"personnel\", \"personnel\", \"personnel\", \"personnel\", \"piri\", \"piri\", \"piri\", \"pizza\", \"pizza\", \"pizza\", \"pizza\", \"pizza\", \"play\", \"play\", \"play\", \"play\", \"play\", \"point\", \"point\", \"point\", \"point\", \"point\", \"possible\", \"possible\", \"possible\", \"possible\", \"possible\", \"potato\", \"potato\", \"potato\", \"potato\", \"potato\", \"price\", \"price\", \"price\", \"price\", \"price\", \"pricing\", \"pricing\", \"pricing\", \"pricing\", \"pricing\", \"property\", \"property\", \"property\", \"property\", \"property\", \"proscuitto\", \"protein\", \"protein\", \"protein\", \"protein\", \"protein\", \"pull\", \"pull\", \"pull\", \"pull\", \"pull\", \"puppet\", \"puppet\", \"puppet\", \"quick\", \"quick\", \"quick\", \"quick\", \"quick\", \"recommend\", \"recommend\", \"recommend\", \"recommend\", \"recommend\", \"related\", \"related\", \"related\", \"related\", \"related\", \"rendevouz\", \"resort\", \"resort\", \"resort\", \"resort\", \"resort\", \"restauran\", \"restaurateur\", \"restorative\", \"restorative\", \"restorative\", \"restorative\", \"resturants\", \"rice\", \"rice\", \"rice\", \"rice\", \"rice\", \"rip\", \"rip\", \"rip\", \"rip\", \"rip\", \"ronnie\", \"ronnie\", \"ronnie\", \"ronnie\", \"ronnie\", \"room\", \"room\", \"room\", \"room\", \"room\", \"roomtastic\", \"royale\", \"royale\", \"royale\", \"royale\", \"royale\", \"rude\", \"rude\", \"rude\", \"rude\", \"rude\", \"rudys\", \"rudys\", \"rudys\", \"rudys\", \"rudys\", \"s\", \"s\", \"s\", \"s\", \"s\", \"salad\", \"salad\", \"salad\", \"salad\", \"salad\", \"sale\", \"sale\", \"sale\", \"sale\", \"sale\", \"salesman\", \"salesman\", \"salesman\", \"salesman\", \"salesman\", \"salon\", \"salon\", \"salon\", \"salon\", \"salon\", \"salsa\", \"salsa\", \"salsa\", \"salsa\", \"salsa\", \"sandwichfood\", \"say\", \"say\", \"say\", \"say\", \"say\", \"sconefacebookhttps\", \"seat\", \"seat\", \"seat\", \"seat\", \"seat\", \"selection\", \"selection\", \"selection\", \"selection\", \"selection\", \"serve\", \"serve\", \"serve\", \"serve\", \"serve\", \"server\", \"server\", \"server\", \"server\", \"server\", \"service\", \"service\", \"service\", \"service\", \"service\", \"servicemaybe\", \"servicesfound\", \"set\", \"set\", \"set\", \"set\", \"set\", \"sharing\", \"sharing\", \"sharing\", \"sharing\", \"sharing\", \"shimp\", \"shisha\", \"shisha\", \"shisha\", \"shisha\", \"shisha\", \"short\", \"short\", \"short\", \"short\", \"short\", \"show\", \"show\", \"show\", \"show\", \"show\", \"showyou\", \"shred\", \"shred\", \"shred\", \"shred\", \"shred\", \"sit\", \"sit\", \"sit\", \"sit\", \"sit\", \"sizzorhands\", \"slection\", \"slection\", \"slection\", \"slection\", \"slection\", \"soup\", \"soup\", \"soup\", \"soup\", \"soup\", \"speakeasy\", \"speakeasy\", \"speakeasy\", \"speakeasy\", \"speakeasy\", \"speechless\", \"speechless\", \"speechless\", \"speechless\", \"speechless\", \"spray\", \"spray\", \"spray\", \"spray\", \"spray\", \"staff\", \"staff\", \"staff\", \"staff\", \"staff\", \"star\", \"star\", \"star\", \"star\", \"star\", \"starbuckswell\", \"start\", \"start\", \"start\", \"start\", \"start\", \"startup\", \"station\", \"station\", \"station\", \"station\", \"station\", \"stay\", \"stay\", \"stay\", \"stay\", \"stay\", \"stress\", \"stress\", \"stress\", \"stress\", \"stress\", \"stuff\", \"stuff\", \"stuff\", \"stuff\", \"stuff\", \"sure\", \"sure\", \"sure\", \"sure\", \"sure\", \"table\", \"table\", \"table\", \"table\", \"table\", \"take\", \"take\", \"take\", \"take\", \"take\", \"talk\", \"talk\", \"talk\", \"talk\", \"talk\", \"tamale\", \"tamale\", \"tamale\", \"tamale\", \"tamale\", \"taste\", \"taste\", \"taste\", \"taste\", \"taste\", \"tasty\", \"tasty\", \"tasty\", \"tasty\", \"tasty\", \"tell\", \"tell\", \"tell\", \"tell\", \"tell\", \"termite\", \"termite\", \"termite\", \"termite\", \"termite\", \"texture\", \"texture\", \"texture\", \"texture\", \"texture\", \"thank\", \"thank\", \"thank\", \"thank\", \"thank\", \"thick\", \"thick\", \"thick\", \"thick\", \"thick\", \"thing\", \"thing\", \"thing\", \"thing\", \"thing\", \"think\", \"think\", \"think\", \"think\", \"think\", \"time\", \"time\", \"time\", \"time\", \"time\", \"tn\", \"toonlomg\", \"town\", \"town\", \"town\", \"town\", \"town\", \"try\", \"try\", \"try\", \"try\", \"try\", \"unfortunately\", \"unfortunately\", \"unfortunately\", \"unfortunately\", \"unfortunately\", \"uninviting\", \"unit\", \"unit\", \"unit\", \"unit\", \"unit\", \"urgency\", \"urgency\", \"urgency\", \"urgency\", \"urgency\", \"variety\", \"variety\", \"variety\", \"variety\", \"variety\", \"vegan\", \"vegan\", \"vegan\", \"vegan\", \"vegan\", \"vibe\", \"vibe\", \"vibe\", \"vibe\", \"vibe\", \"wait\", \"wait\", \"wait\", \"wait\", \"wait\", \"want\", \"want\", \"want\", \"want\", \"want\", \"watch\", \"watch\", \"watch\", \"watch\", \"watch\", \"wedding\", \"wedding\", \"wedding\", \"wedding\", \"wedding\", \"well\", \"well\", \"well\", \"well\", \"well\", \"will\", \"will\", \"will\", \"will\", \"will\", \"wing\", \"wing\", \"wing\", \"wing\", \"wing\", \"work\", \"work\", \"work\", \"work\", \"work\", \"worldfor\", \"worth\", \"worth\", \"worth\", \"worth\", \"worth\", \"wwwfacebookcomcastleshannonsweetstop\", \"xiao\", \"xiao\", \"xiao\", \"xiao\", \"xiao\", \"yasmin\", \"yasmin\", \"yasmin\", \"yelp\", \"yelp\", \"yelp\", \"yelp\", \"yelp\", \"yik\", \"yuk\", \"yuk\", \"yuk\", \"yuk\", \"yuk\", \"yukyuk\", \"yummy\", \"yummy\", \"yummy\", \"yummy\", \"yummy\", \"zcafe\"]}, \"R\": 30, \"lambda.step\": 0.01, \"plot.opts\": {\"xlab\": \"PC1\", \"ylab\": \"PC2\"}, \"topic.order\": [3, 5, 2, 1, 4]};\n",
       "\n",
       "function LDAvis_load_lib(url, callback){\n",
       "  var s = document.createElement('script');\n",
       "  s.src = url;\n",
       "  s.async = true;\n",
       "  s.onreadystatechange = s.onload = callback;\n",
       "  s.onerror = function(){console.warn(\"failed to load library \" + url);};\n",
       "  document.getElementsByTagName(\"head\")[0].appendChild(s);\n",
       "}\n",
       "\n",
       "if(typeof(LDAvis) !== \"undefined\"){\n",
       "   // already loaded: just create the visualization\n",
       "   !function(LDAvis){\n",
       "       new LDAvis(\"#\" + \"ldavis_el1908953388877767832197284\", ldavis_el1908953388877767832197284_data);\n",
       "   }(LDAvis);\n",
       "}else if(typeof define === \"function\" && define.amd){\n",
       "   // require.js is available: use it to load d3/LDAvis\n",
       "   require.config({paths: {d3: \"https://cdnjs.cloudflare.com/ajax/libs/d3/3.5.5/d3.min\"}});\n",
       "   require([\"d3\"], function(d3){\n",
       "      window.d3 = d3;\n",
       "      LDAvis_load_lib(\"https://cdn.rawgit.com/bmabey/pyLDAvis/files/ldavis.v1.0.0.js\", function(){\n",
       "        new LDAvis(\"#\" + \"ldavis_el1908953388877767832197284\", ldavis_el1908953388877767832197284_data);\n",
       "      });\n",
       "    });\n",
       "}else{\n",
       "    // require.js not available: dynamically load d3 & LDAvis\n",
       "    LDAvis_load_lib(\"https://cdnjs.cloudflare.com/ajax/libs/d3/3.5.5/d3.min.js\", function(){\n",
       "         LDAvis_load_lib(\"https://cdn.rawgit.com/bmabey/pyLDAvis/files/ldavis.v1.0.0.js\", function(){\n",
       "                 new LDAvis(\"#\" + \"ldavis_el1908953388877767832197284\", ldavis_el1908953388877767832197284_data);\n",
       "            })\n",
       "         });\n",
       "}\n",
       "</script>"
      ],
      "text/plain": [
       "PreparedData(topic_coordinates=              x         y  topics  cluster       Freq\n",
       "topic                                                \n",
       "2     -0.005324 -0.001362       1        1  20.733126\n",
       "4      0.000275 -0.001734       2        1  19.858595\n",
       "1      0.002380 -0.000824       3        1  19.856758\n",
       "0      0.002735 -0.001624       4        1  19.804996\n",
       "3     -0.000067  0.005543       5        1  19.746525, topic_info=       Term          Freq         Total Category  logprob  loglift\n",
       "0            18190.000000  18190.000000  Default  30.0000  30.0000\n",
       "205   great   4005.000000   4005.000000  Default  29.0000  29.0000\n",
       "38     time   3932.000000   3932.000000  Default  28.0000  28.0000\n",
       "22     like   3602.000000   3602.000000  Default  27.0000  27.0000\n",
       "361  little   1326.000000   1326.000000  Default  26.0000  26.0000\n",
       "..      ...           ...           ...      ...      ...      ...\n",
       "424     day    286.044006   1413.229492   Topic5  -5.8599   0.0247\n",
       "145     eat    288.825867   1472.477051   Topic5  -5.8503  -0.0067\n",
       "25     look    327.727448   1851.629272   Topic5  -5.7239  -0.1094\n",
       "80       go    420.041901   2852.638672   Topic5  -5.4757  -0.2935\n",
       "40     wait    301.430359   1609.903076   Topic5  -5.8075  -0.0532\n",
       "\n",
       "[469 rows x 6 columns], token_table=       Topic      Freq   Term\n",
       "term                         \n",
       "0          1  0.251612       \n",
       "0          2  0.232702       \n",
       "0          3  0.180752       \n",
       "0          4  0.153430       \n",
       "0          5  0.181522       \n",
       "...      ...       ...    ...\n",
       "2334       2  0.207433  yummy\n",
       "2334       3  0.222611  yummy\n",
       "2334       4  0.161899  yummy\n",
       "2334       5  0.121424  yummy\n",
       "12351      2  0.529691  zcafe\n",
       "\n",
       "[1303 rows x 3 columns], R=30, lambda_step=0.01, plot_opts={'xlab': 'PC1', 'ylab': 'PC2'}, topic_order=[3, 5, 2, 1, 4])"
      ]
     },
     "execution_count": 55,
     "metadata": {},
     "output_type": "execute_result"
    }
   ],
   "source": [
    "pyLDAvis.gensim.prepare(lda, corpus, id2word)"
   ]
  },
  {
   "cell_type": "markdown",
   "metadata": {},
   "source": [
    "## Stretch Goals\n",
    "\n",
    "Complete one of more of these to push your score towards a three: \n",
    "* Create more visualizations of the LDA results and provide written analysis\n",
    "* Incorporate RandomizedSearchCV into docoument classification pipeline\n",
    "* Incorporate named entity recognition into your analysis\n",
    "* Compare vectorization methods in the classification section\n",
    "* Analyze more (or all) of the yelp dataset - this one is v. hard. \n",
    "* Use a generator object on the reviews file - this would help you with the analyzing the whole dataset.\n",
    "* Incorporate any of the other yelp dataset entities in your analysis (business, users, etc.)"
   ]
  },
  {
   "cell_type": "markdown",
   "metadata": {},
   "source": [
    "## Create more visualizations of the LDA results and provide written analysis"
   ]
  },
  {
   "cell_type": "code",
   "execution_count": 56,
   "metadata": {},
   "outputs": [],
   "source": [
    "from gensim.models.coherencemodel import CoherenceModel\n",
    "\n",
    "def compute_coherence_values(dictionary, corpus, limit, start=2, step=3, passes=5):\n",
    "    \"\"\"\n",
    "    Compute c_v coherence for various number of topics\n",
    "\n",
    "    Parameters:\n",
    "    ----------\n",
    "    dictionary : Gensim dictionary\n",
    "    corpus : Gensim corpus\n",
    "    path : path to input texts\n",
    "    limit : Max num of topics\n",
    "\n",
    "    Returns:\n",
    "    -------\n",
    "    model_list : List of LDA topic models\n",
    "    coherence_values : Coherence values corresponding to the LDA model with respective number of topics\n",
    "    \"\"\"\n",
    "    coherence_values = []\n",
    "    \n",
    "    for iter_ in range(passes):\n",
    "        for num_topics in range(start, limit, step):\n",
    "            model = LdaMulticore(corpus=corpus, num_topics=num_topics, passes=3, id2word=id2word, workers=12)\n",
    "            coherencemodel = CoherenceModel(model=model, dictionary=dictionary, corpus=corpus, coherence='u_mass')\n",
    "            coherence_values.append({'pass': iter_,\n",
    "                                    'num_topics': num_topics,\n",
    "                                    'coherence_score':coherencemodel.get_coherence()})\n",
    "\n",
    "    return coherence_values"
   ]
  },
  {
   "cell_type": "code",
   "execution_count": 57,
   "metadata": {},
   "outputs": [],
   "source": [
    "coherence_values = compute_coherence_values(dictionary=id2word, \n",
    "                                            corpus=corpus,  \n",
    "                                            start=5, \n",
    "                                            limit=50, \n",
    "                                            step=15,\n",
    "                                            passes=5)"
   ]
  },
  {
   "cell_type": "code",
   "execution_count": 61,
   "metadata": {},
   "outputs": [
    {
     "data": {
      "text/html": [
       "<div>\n",
       "<style scoped>\n",
       "    .dataframe tbody tr th:only-of-type {\n",
       "        vertical-align: middle;\n",
       "    }\n",
       "\n",
       "    .dataframe tbody tr th {\n",
       "        vertical-align: top;\n",
       "    }\n",
       "\n",
       "    .dataframe thead th {\n",
       "        text-align: right;\n",
       "    }\n",
       "</style>\n",
       "<table border=\"1\" class=\"dataframe\">\n",
       "  <thead>\n",
       "    <tr style=\"text-align: right;\">\n",
       "      <th></th>\n",
       "      <th>pass</th>\n",
       "      <th>num_topics</th>\n",
       "      <th>coherence_score</th>\n",
       "    </tr>\n",
       "  </thead>\n",
       "  <tbody>\n",
       "    <tr>\n",
       "      <th>0</th>\n",
       "      <td>0</td>\n",
       "      <td>5</td>\n",
       "      <td>-1.586320</td>\n",
       "    </tr>\n",
       "    <tr>\n",
       "      <th>1</th>\n",
       "      <td>0</td>\n",
       "      <td>20</td>\n",
       "      <td>-1.736040</td>\n",
       "    </tr>\n",
       "    <tr>\n",
       "      <th>2</th>\n",
       "      <td>0</td>\n",
       "      <td>35</td>\n",
       "      <td>-1.852129</td>\n",
       "    </tr>\n",
       "    <tr>\n",
       "      <th>3</th>\n",
       "      <td>1</td>\n",
       "      <td>5</td>\n",
       "      <td>-1.597990</td>\n",
       "    </tr>\n",
       "    <tr>\n",
       "      <th>4</th>\n",
       "      <td>1</td>\n",
       "      <td>20</td>\n",
       "      <td>-1.752481</td>\n",
       "    </tr>\n",
       "    <tr>\n",
       "      <th>5</th>\n",
       "      <td>1</td>\n",
       "      <td>35</td>\n",
       "      <td>-1.695787</td>\n",
       "    </tr>\n",
       "    <tr>\n",
       "      <th>6</th>\n",
       "      <td>2</td>\n",
       "      <td>5</td>\n",
       "      <td>-1.586768</td>\n",
       "    </tr>\n",
       "    <tr>\n",
       "      <th>7</th>\n",
       "      <td>2</td>\n",
       "      <td>20</td>\n",
       "      <td>-1.708857</td>\n",
       "    </tr>\n",
       "    <tr>\n",
       "      <th>8</th>\n",
       "      <td>2</td>\n",
       "      <td>35</td>\n",
       "      <td>-1.803827</td>\n",
       "    </tr>\n",
       "    <tr>\n",
       "      <th>9</th>\n",
       "      <td>3</td>\n",
       "      <td>5</td>\n",
       "      <td>-1.563298</td>\n",
       "    </tr>\n",
       "  </tbody>\n",
       "</table>\n",
       "</div>"
      ],
      "text/plain": [
       "   pass  num_topics  coherence_score\n",
       "0     0           5        -1.586320\n",
       "1     0          20        -1.736040\n",
       "2     0          35        -1.852129\n",
       "3     1           5        -1.597990\n",
       "4     1          20        -1.752481\n",
       "5     1          35        -1.695787\n",
       "6     2           5        -1.586768\n",
       "7     2          20        -1.708857\n",
       "8     2          35        -1.803827\n",
       "9     3           5        -1.563298"
      ]
     },
     "execution_count": 61,
     "metadata": {},
     "output_type": "execute_result"
    }
   ],
   "source": [
    "import seaborn as sns\n",
    "\n",
    "topic_coherence = pd.DataFrame.from_records(coherence_values)\n",
    "\n",
    "topic_coherence.head(10)"
   ]
  },
  {
   "cell_type": "code",
   "execution_count": 62,
   "metadata": {},
   "outputs": [
    {
     "data": {
      "image/png": "[encoded data removed]",
      "text/plain": [
       "<Figure size 432x288 with 1 Axes>"
      ]
     },
     "metadata": {
      "needs_background": "light"
     },
     "output_type": "display_data"
    }
   ],
   "source": [
    "import seaborn as sns\n",
    "\n",
    "ax = sns.lineplot(x='num_topics', y='coherence_score', data=topic_coherence)"
   ]
  },
  {
   "cell_type": "markdown",
   "metadata": {},
   "source": [
    "Although this is not necessarily an LDA \"result,\" coherence modeling is quite useful (when your model is good) in determining how many topics to include in your LDA topic model. Here, the highest value is the lowest number, which started at 5. At this point, it would probably be worth it to run the coherence model again with an even smaller number for the start of the iteration. "
   ]
  },
  {
   "cell_type": "code",
   "execution_count": 64,
   "metadata": {},
   "outputs": [
    {
     "data": {
      "text/html": [
       "<div>\n",
       "<style scoped>\n",
       "    .dataframe tbody tr th:only-of-type {\n",
       "        vertical-align: middle;\n",
       "    }\n",
       "\n",
       "    .dataframe tbody tr th {\n",
       "        vertical-align: top;\n",
       "    }\n",
       "\n",
       "    .dataframe thead th {\n",
       "        text-align: right;\n",
       "    }\n",
       "</style>\n",
       "<table border=\"1\" class=\"dataframe\">\n",
       "  <thead>\n",
       "    <tr style=\"text-align: right;\">\n",
       "      <th></th>\n",
       "      <th>business_id</th>\n",
       "      <th>cool</th>\n",
       "      <th>date</th>\n",
       "      <th>funny</th>\n",
       "      <th>review_id</th>\n",
       "      <th>stars</th>\n",
       "      <th>text</th>\n",
       "      <th>useful</th>\n",
       "      <th>user_id</th>\n",
       "      <th>tokens</th>\n",
       "      <th>sentiment</th>\n",
       "    </tr>\n",
       "  </thead>\n",
       "  <tbody>\n",
       "    <tr>\n",
       "      <th>0</th>\n",
       "      <td>nDuEqIyRc8YKS1q1fX0CZg</td>\n",
       "      <td>1</td>\n",
       "      <td>2015-03-31 16:50:30</td>\n",
       "      <td>0</td>\n",
       "      <td>eZs2tpEJtXPwawvHnHZIgQ</td>\n",
       "      <td>1</td>\n",
       "      <td>BEWARE!!! FAKE, FAKE, FAKE....We also own a sm...</td>\n",
       "      <td>10</td>\n",
       "      <td>n1LM36qNg4rqGXIcvVXv8w</td>\n",
       "      <td>[beware, fake, fake, fakewe, small, business, ...</td>\n",
       "      <td>negative</td>\n",
       "    </tr>\n",
       "    <tr>\n",
       "      <th>1</th>\n",
       "      <td>eMYeEapscbKNqUDCx705hg</td>\n",
       "      <td>0</td>\n",
       "      <td>2015-12-16 05:31:03</td>\n",
       "      <td>0</td>\n",
       "      <td>DoQDWJsNbU0KL1O29l_Xug</td>\n",
       "      <td>4</td>\n",
       "      <td>Came here for lunch Togo. Service was quick. S...</td>\n",
       "      <td>0</td>\n",
       "      <td>5CgjjDAic2-FAvCtiHpytA</td>\n",
       "      <td>[come, lunch, togo, service, quick, staff, fri...</td>\n",
       "      <td>positive</td>\n",
       "    </tr>\n",
       "    <tr>\n",
       "      <th>2</th>\n",
       "      <td>6Q7-wkCPc1KF75jZLOTcMw</td>\n",
       "      <td>1</td>\n",
       "      <td>2010-06-20 19:14:48</td>\n",
       "      <td>1</td>\n",
       "      <td>DDOdGU7zh56yQHmUnL1idQ</td>\n",
       "      <td>3</td>\n",
       "      <td>I've been to Vegas dozens of times and had nev...</td>\n",
       "      <td>2</td>\n",
       "      <td>BdV-cf3LScmb8kZ7iiBcMA</td>\n",
       "      <td>[have, vegas, dozen, time, step, foot, circus,...</td>\n",
       "      <td>neutral</td>\n",
       "    </tr>\n",
       "    <tr>\n",
       "      <th>3</th>\n",
       "      <td>k3zrItO4l9hwfLRwHBDc9w</td>\n",
       "      <td>3</td>\n",
       "      <td>2010-07-13 00:33:45</td>\n",
       "      <td>4</td>\n",
       "      <td>LfTMUWnfGFMOfOIyJcwLVA</td>\n",
       "      <td>1</td>\n",
       "      <td>We went here on a night where they closed off ...</td>\n",
       "      <td>5</td>\n",
       "      <td>cZZnBqh4gAEy4CdNvJailQ</td>\n",
       "      <td>[go, night, close, street, party, good, actual...</td>\n",
       "      <td>negative</td>\n",
       "    </tr>\n",
       "    <tr>\n",
       "      <th>4</th>\n",
       "      <td>6hpfRwGlOzbNv7k5eP9rsQ</td>\n",
       "      <td>1</td>\n",
       "      <td>2018-06-30 02:30:01</td>\n",
       "      <td>0</td>\n",
       "      <td>zJSUdI7bJ8PNJAg4lnl_Gg</td>\n",
       "      <td>4</td>\n",
       "      <td>3.5 to 4 stars\\n\\nNot bad for the price, $12.9...</td>\n",
       "      <td>5</td>\n",
       "      <td>n9QO4ClYAS7h9fpQwa5bhA</td>\n",
       "      <td>[35, 4, starsnot, bad, price, 1299, lunch, sen...</td>\n",
       "      <td>positive</td>\n",
       "    </tr>\n",
       "  </tbody>\n",
       "</table>\n",
       "</div>"
      ],
      "text/plain": [
       "              business_id  cool                date  funny  \\\n",
       "0  nDuEqIyRc8YKS1q1fX0CZg     1 2015-03-31 16:50:30      0   \n",
       "1  eMYeEapscbKNqUDCx705hg     0 2015-12-16 05:31:03      0   \n",
       "2  6Q7-wkCPc1KF75jZLOTcMw     1 2010-06-20 19:14:48      1   \n",
       "3  k3zrItO4l9hwfLRwHBDc9w     3 2010-07-13 00:33:45      4   \n",
       "4  6hpfRwGlOzbNv7k5eP9rsQ     1 2018-06-30 02:30:01      0   \n",
       "\n",
       "                review_id  stars  \\\n",
       "0  eZs2tpEJtXPwawvHnHZIgQ      1   \n",
       "1  DoQDWJsNbU0KL1O29l_Xug      4   \n",
       "2  DDOdGU7zh56yQHmUnL1idQ      3   \n",
       "3  LfTMUWnfGFMOfOIyJcwLVA      1   \n",
       "4  zJSUdI7bJ8PNJAg4lnl_Gg      4   \n",
       "\n",
       "                                                text  useful  \\\n",
       "0  BEWARE!!! FAKE, FAKE, FAKE....We also own a sm...      10   \n",
       "1  Came here for lunch Togo. Service was quick. S...       0   \n",
       "2  I've been to Vegas dozens of times and had nev...       2   \n",
       "3  We went here on a night where they closed off ...       5   \n",
       "4  3.5 to 4 stars\\n\\nNot bad for the price, $12.9...       5   \n",
       "\n",
       "                  user_id                                             tokens  \\\n",
       "0  n1LM36qNg4rqGXIcvVXv8w  [beware, fake, fake, fakewe, small, business, ...   \n",
       "1  5CgjjDAic2-FAvCtiHpytA  [come, lunch, togo, service, quick, staff, fri...   \n",
       "2  BdV-cf3LScmb8kZ7iiBcMA  [have, vegas, dozen, time, step, foot, circus,...   \n",
       "3  cZZnBqh4gAEy4CdNvJailQ  [go, night, close, street, party, good, actual...   \n",
       "4  n9QO4ClYAS7h9fpQwa5bhA  [35, 4, starsnot, bad, price, 1299, lunch, sen...   \n",
       "\n",
       "  sentiment  \n",
       "0  negative  \n",
       "1  positive  \n",
       "2   neutral  \n",
       "3  negative  \n",
       "4  positive  "
      ]
     },
     "execution_count": 64,
     "metadata": {},
     "output_type": "execute_result"
    }
   ],
   "source": [
    "def sentimentalize(stars):\n",
    "    if stars == 3:\n",
    "        return \"neutral\"\n",
    "    elif stars > 3:\n",
    "        return \"positive\"\n",
    "    else: \n",
    "        return \"negative\"\n",
    "    \n",
    "yelp['sentiment'] = yelp['stars'].apply(sentimentalize)\n",
    "\n",
    "yelp.head()"
   ]
  },
  {
   "cell_type": "code",
   "execution_count": 66,
   "metadata": {},
   "outputs": [],
   "source": [
    "doc_topics = [lda[doc] for doc in corpus]"
   ]
  },
  {
   "cell_type": "code",
   "execution_count": 67,
   "metadata": {},
   "outputs": [],
   "source": [
    "def update(doc):\n",
    "        d_dist = {k:0 for k in range(0,5)}\n",
    "        for t in doc:\n",
    "            d_dist[t[0]] = t[1]\n",
    "        return d_dist\n",
    "    \n",
    "new_distro = [update(d) for d in doc_topics]"
   ]
  },
  {
   "cell_type": "code",
   "execution_count": 68,
   "metadata": {},
   "outputs": [],
   "source": [
    "dft = pd.DataFrame.from_records(new_distro)\n",
    "dft.columns = topics"
   ]
  },
  {
   "cell_type": "code",
   "execution_count": 70,
   "metadata": {},
   "outputs": [],
   "source": [
    "yelp['primary_topic'] = dft.idxmax(axis=1)"
   ]
  },
  {
   "cell_type": "code",
   "execution_count": 72,
   "metadata": {},
   "outputs": [
    {
     "data": {
      "text/plain": [
       "(array([0, 1, 2, 3, 4]), <a list of 5 Text major ticklabel objects>)"
      ]
     },
     "execution_count": 72,
     "metadata": {},
     "output_type": "execute_result"
    },
    {
     "data": {
      "image/png": "[encoded data removed]",
      "text/plain": [
       "<Figure size 432x288 with 1 Axes>"
      ]
     },
     "metadata": {
      "needs_background": "light"
     },
     "output_type": "display_data"
    }
   ],
   "source": [
    "import seaborn as sns\n",
    "import matplotlib.pyplot as plt\n",
    "\n",
    "ax = sns.countplot(x=\"primary_topic\", hue=\"sentiment\", data=yelp)\n",
    "plt.xticks(rotation=90)"
   ]
  },
  {
   "cell_type": "markdown",
   "metadata": {},
   "source": [
    "I created a sentiment analysis of the LSA results to show how the sentiments range between the different top 5 topics. As expected, since my model's parameters were not hyptertuned well, the distribution of sentiment aligns closely with the general distribution of ratings; that is to say, since most of the ratings were positive to begin with, and neutral ratings of 3 were the least frequent, the sentiment between the models showed the same distribution. I think yelp reviews are particularly difficult to find good topics for, since the range of descriptors are so few that the same words repeat. It would be beneficial in the future to lower the max_df parameter of the vectorizer so that it doesn't pull words that show up in the vast majority of the reviews. This would increase the salience of specific words.  "
   ]
  },
  {
   "cell_type": "markdown",
   "metadata": {},
   "source": [
    "## Compare vectorization methods in the classification section"
   ]
  },
  {
   "cell_type": "markdown",
   "metadata": {},
   "source": [
    "## Incorporate RandomizedSearchCV into document classification pipeline"
   ]
  },
  {
   "cell_type": "code",
   "execution_count": null,
   "metadata": {},
   "outputs": [],
   "source": [
    "from sklearn.feature_extraction.text import CountVectorizer"
   ]
  },
  {
   "cell_type": "code",
   "execution_count": 76,
   "metadata": {},
   "outputs": [],
   "source": [
    "vect = CountVectorizer(stop_words=stop_words, max_features=1000)"
   ]
  },
  {
   "cell_type": "code",
   "execution_count": 77,
   "metadata": {},
   "outputs": [
    {
     "name": "stdout",
     "output_type": "stream",
     "text": [
      "Fitting 5 folds for each of 4 candidates, totalling 20 fits\n"
     ]
    },
    {
     "name": "stderr",
     "output_type": "stream",
     "text": [
      "/opt/anaconda3/envs/U4-S1-NLP/lib/python3.7/site-packages/sklearn/model_selection/_search.py:281: UserWarning: The total space of parameters 4 is smaller than n_iter=10. Running 4 iterations. For exhaustive searches, use GridSearchCV.\n",
      "  % (grid_size, self.n_iter, grid_size), UserWarning)\n",
      "[Parallel(n_jobs=-1)]: Using backend LokyBackend with 8 concurrent workers.\n",
      "[Parallel(n_jobs=-1)]: Done  20 out of  20 | elapsed:   46.6s finished\n",
      "/opt/anaconda3/envs/U4-S1-NLP/lib/python3.7/site-packages/sklearn/feature_extraction/text.py:385: UserWarning: Your stop_words may be inconsistent with your preprocessing. Tokenizing the stop words generated tokens ['ll', 've'] not in stop_words.\n",
      "  'stop_words.' % sorted(inconsistent))\n"
     ]
    },
    {
     "data": {
      "text/plain": [
       "RandomizedSearchCV(cv=5, error_score=nan,\n",
       "                   estimator=Pipeline(memory=None,\n",
       "                                      steps=[('vect',\n",
       "                                              CountVectorizer(analyzer='word',\n",
       "                                                              binary=False,\n",
       "                                                              decode_error='strict',\n",
       "                                                              dtype=<class 'numpy.int64'>,\n",
       "                                                              encoding='utf-8',\n",
       "                                                              input='content',\n",
       "                                                              lowercase=True,\n",
       "                                                              max_df=1.0,\n",
       "                                                              max_features=1000,\n",
       "                                                              min_df=1,\n",
       "                                                              ngram_range=(1,\n",
       "                                                                           1),\n",
       "                                                              preprocessor=None,\n",
       "                                                              stop_words={\"'d\",\n",
       "                                                                          \"'ll\",\n",
       "                                                                          \"'m\",\n",
       "                                                                          \"'re\",\n",
       "                                                                          \"'s\",\n",
       "                                                                          \"'ve\",\n",
       "                                                                          'a'...\n",
       "                                                                     min_weight_fraction_leaf=0.0,\n",
       "                                                                     n_estimators=100,\n",
       "                                                                     n_jobs=None,\n",
       "                                                                     oob_score=False,\n",
       "                                                                     random_state=None,\n",
       "                                                                     verbose=0,\n",
       "                                                                     warm_start=False))],\n",
       "                                      verbose=False),\n",
       "                   iid='deprecated', n_iter=10, n_jobs=-1,\n",
       "                   param_distributions={'vect__max_df': (0.9, 0.95),\n",
       "                                        'vect__min_df': (0.01, 0.02)},\n",
       "                   pre_dispatch='2*n_jobs', random_state=None, refit=True,\n",
       "                   return_train_score=False, scoring=None, verbose=1)"
      ]
     },
     "execution_count": 77,
     "metadata": {},
     "output_type": "execute_result"
    }
   ],
   "source": [
    "from sklearn.model_selection import RandomizedSearchCV\n",
    "\n",
    "pipe = Pipeline([('vect', vect), ('clf', clf)])\n",
    "\n",
    "parameters = {\n",
    "    'vect__max_df': (0.90, 0.95),\n",
    "    'vect__min_df': (.01, 0.02),\n",
    "\n",
    "}\n",
    "\n",
    "random_search = RandomizedSearchCV(pipe, parameters, cv=5, n_jobs=-1, verbose=1)\n",
    "random_search.fit(yelp['text'], yelp['stars'])"
   ]
  },
  {
   "cell_type": "code",
   "execution_count": 78,
   "metadata": {},
   "outputs": [
    {
     "name": "stderr",
     "output_type": "stream",
     "text": [
      "/opt/anaconda3/envs/U4-S1-NLP/lib/python3.7/site-packages/sklearn/feature_extraction/text.py:385: UserWarning: Your stop_words may be inconsistent with your preprocessing. Tokenizing the stop words generated tokens ['ll', 've'] not in stop_words.\n",
      "  'stop_words.' % sorted(inconsistent))\n"
     ]
    },
    {
     "data": {
      "text/plain": [
       "CountVectorizer(analyzer='word', binary=False, decode_error='strict',\n",
       "                dtype=<class 'numpy.int64'>, encoding='utf-8', input='content',\n",
       "                lowercase=True, max_df=1.0, max_features=1000, min_df=1,\n",
       "                ngram_range=(1, 1), preprocessor=None,\n",
       "                stop_words={\"'d\", \"'ll\", \"'m\", \"'re\", \"'s\", \"'ve\", 'a', 'about',\n",
       "                            'above', 'across', 'after', 'afterwards', 'again',\n",
       "                            'against', 'all', 'almost', 'alone', 'along',\n",
       "                            'already', 'also', 'although', 'always', 'am',\n",
       "                            'among', 'amongst', 'amount', 'an', 'and',\n",
       "                            'another', 'any', ...},\n",
       "                strip_accents=None, token_pattern='(?u)\\\\b\\\\w\\\\w+\\\\b',\n",
       "                tokenizer=None, vocabulary=None)"
      ]
     },
     "execution_count": 78,
     "metadata": {},
     "output_type": "execute_result"
    }
   ],
   "source": [
    "vect.fit(yelp['text'])"
   ]
  },
  {
   "cell_type": "code",
   "execution_count": 79,
   "metadata": {},
   "outputs": [],
   "source": [
    "dtm2 = vect.transform(yelp['text'])"
   ]
  },
  {
   "cell_type": "code",
   "execution_count": 80,
   "metadata": {},
   "outputs": [],
   "source": [
    "new = vect.transform(fake)"
   ]
  },
  {
   "cell_type": "code",
   "execution_count": 82,
   "metadata": {},
   "outputs": [
    {
     "name": "stdout",
     "output_type": "stream",
     "text": [
      "[5]\n"
     ]
    }
   ],
   "source": [
    "rand_pred = random_search.predict(fake)\n",
    "\n",
    "print(rand_pred)"
   ]
  },
  {
   "cell_type": "code",
   "execution_count": 86,
   "metadata": {},
   "outputs": [],
   "source": [
    "dtm2 = pd.DataFrame(dtm2.todense(), columns=vect.get_feature_names())"
   ]
  },
  {
   "cell_type": "code",
   "execution_count": 88,
   "metadata": {},
   "outputs": [
    {
     "data": {
      "text/html": [
       "<div>\n",
       "<style scoped>\n",
       "    .dataframe tbody tr th:only-of-type {\n",
       "        vertical-align: middle;\n",
       "    }\n",
       "\n",
       "    .dataframe tbody tr th {\n",
       "        vertical-align: top;\n",
       "    }\n",
       "\n",
       "    .dataframe thead th {\n",
       "        text-align: right;\n",
       "    }\n",
       "</style>\n",
       "<table border=\"1\" class=\"dataframe\">\n",
       "  <thead>\n",
       "    <tr style=\"text-align: right;\">\n",
       "      <th></th>\n",
       "      <th>00</th>\n",
       "      <th>10</th>\n",
       "      <th>100</th>\n",
       "      <th>11</th>\n",
       "      <th>12</th>\n",
       "      <th>15</th>\n",
       "      <th>20</th>\n",
       "      <th>24</th>\n",
       "      <th>25</th>\n",
       "      <th>30</th>\n",
       "      <th>...</th>\n",
       "      <th>wow</th>\n",
       "      <th>write</th>\n",
       "      <th>wrong</th>\n",
       "      <th>year</th>\n",
       "      <th>years</th>\n",
       "      <th>yelp</th>\n",
       "      <th>yes</th>\n",
       "      <th>young</th>\n",
       "      <th>yum</th>\n",
       "      <th>yummy</th>\n",
       "    </tr>\n",
       "  </thead>\n",
       "  <tbody>\n",
       "    <tr>\n",
       "      <th>0</th>\n",
       "      <td>0</td>\n",
       "      <td>0</td>\n",
       "      <td>0</td>\n",
       "      <td>0</td>\n",
       "      <td>0</td>\n",
       "      <td>0</td>\n",
       "      <td>1</td>\n",
       "      <td>0</td>\n",
       "      <td>0</td>\n",
       "      <td>0</td>\n",
       "      <td>...</td>\n",
       "      <td>0</td>\n",
       "      <td>0</td>\n",
       "      <td>0</td>\n",
       "      <td>0</td>\n",
       "      <td>0</td>\n",
       "      <td>0</td>\n",
       "      <td>0</td>\n",
       "      <td>0</td>\n",
       "      <td>0</td>\n",
       "      <td>0</td>\n",
       "    </tr>\n",
       "    <tr>\n",
       "      <th>1</th>\n",
       "      <td>0</td>\n",
       "      <td>0</td>\n",
       "      <td>0</td>\n",
       "      <td>0</td>\n",
       "      <td>0</td>\n",
       "      <td>0</td>\n",
       "      <td>0</td>\n",
       "      <td>0</td>\n",
       "      <td>0</td>\n",
       "      <td>0</td>\n",
       "      <td>...</td>\n",
       "      <td>0</td>\n",
       "      <td>0</td>\n",
       "      <td>0</td>\n",
       "      <td>0</td>\n",
       "      <td>0</td>\n",
       "      <td>0</td>\n",
       "      <td>0</td>\n",
       "      <td>0</td>\n",
       "      <td>0</td>\n",
       "      <td>0</td>\n",
       "    </tr>\n",
       "    <tr>\n",
       "      <th>2</th>\n",
       "      <td>0</td>\n",
       "      <td>0</td>\n",
       "      <td>0</td>\n",
       "      <td>0</td>\n",
       "      <td>0</td>\n",
       "      <td>0</td>\n",
       "      <td>0</td>\n",
       "      <td>1</td>\n",
       "      <td>1</td>\n",
       "      <td>0</td>\n",
       "      <td>...</td>\n",
       "      <td>0</td>\n",
       "      <td>0</td>\n",
       "      <td>0</td>\n",
       "      <td>1</td>\n",
       "      <td>0</td>\n",
       "      <td>0</td>\n",
       "      <td>0</td>\n",
       "      <td>1</td>\n",
       "      <td>0</td>\n",
       "      <td>0</td>\n",
       "    </tr>\n",
       "    <tr>\n",
       "      <th>3</th>\n",
       "      <td>0</td>\n",
       "      <td>0</td>\n",
       "      <td>0</td>\n",
       "      <td>0</td>\n",
       "      <td>0</td>\n",
       "      <td>0</td>\n",
       "      <td>0</td>\n",
       "      <td>0</td>\n",
       "      <td>0</td>\n",
       "      <td>0</td>\n",
       "      <td>...</td>\n",
       "      <td>0</td>\n",
       "      <td>0</td>\n",
       "      <td>0</td>\n",
       "      <td>0</td>\n",
       "      <td>0</td>\n",
       "      <td>0</td>\n",
       "      <td>0</td>\n",
       "      <td>0</td>\n",
       "      <td>0</td>\n",
       "      <td>0</td>\n",
       "    </tr>\n",
       "    <tr>\n",
       "      <th>4</th>\n",
       "      <td>0</td>\n",
       "      <td>0</td>\n",
       "      <td>0</td>\n",
       "      <td>0</td>\n",
       "      <td>1</td>\n",
       "      <td>1</td>\n",
       "      <td>0</td>\n",
       "      <td>0</td>\n",
       "      <td>0</td>\n",
       "      <td>0</td>\n",
       "      <td>...</td>\n",
       "      <td>0</td>\n",
       "      <td>0</td>\n",
       "      <td>0</td>\n",
       "      <td>0</td>\n",
       "      <td>0</td>\n",
       "      <td>0</td>\n",
       "      <td>0</td>\n",
       "      <td>0</td>\n",
       "      <td>0</td>\n",
       "      <td>0</td>\n",
       "    </tr>\n",
       "    <tr>\n",
       "      <th>5</th>\n",
       "      <td>0</td>\n",
       "      <td>0</td>\n",
       "      <td>0</td>\n",
       "      <td>0</td>\n",
       "      <td>0</td>\n",
       "      <td>0</td>\n",
       "      <td>0</td>\n",
       "      <td>0</td>\n",
       "      <td>0</td>\n",
       "      <td>0</td>\n",
       "      <td>...</td>\n",
       "      <td>0</td>\n",
       "      <td>0</td>\n",
       "      <td>0</td>\n",
       "      <td>0</td>\n",
       "      <td>0</td>\n",
       "      <td>0</td>\n",
       "      <td>0</td>\n",
       "      <td>0</td>\n",
       "      <td>0</td>\n",
       "      <td>0</td>\n",
       "    </tr>\n",
       "    <tr>\n",
       "      <th>6</th>\n",
       "      <td>0</td>\n",
       "      <td>0</td>\n",
       "      <td>0</td>\n",
       "      <td>0</td>\n",
       "      <td>0</td>\n",
       "      <td>0</td>\n",
       "      <td>0</td>\n",
       "      <td>0</td>\n",
       "      <td>0</td>\n",
       "      <td>0</td>\n",
       "      <td>...</td>\n",
       "      <td>0</td>\n",
       "      <td>0</td>\n",
       "      <td>0</td>\n",
       "      <td>0</td>\n",
       "      <td>0</td>\n",
       "      <td>0</td>\n",
       "      <td>0</td>\n",
       "      <td>0</td>\n",
       "      <td>0</td>\n",
       "      <td>0</td>\n",
       "    </tr>\n",
       "    <tr>\n",
       "      <th>7</th>\n",
       "      <td>0</td>\n",
       "      <td>0</td>\n",
       "      <td>0</td>\n",
       "      <td>0</td>\n",
       "      <td>0</td>\n",
       "      <td>0</td>\n",
       "      <td>0</td>\n",
       "      <td>0</td>\n",
       "      <td>0</td>\n",
       "      <td>0</td>\n",
       "      <td>...</td>\n",
       "      <td>0</td>\n",
       "      <td>0</td>\n",
       "      <td>0</td>\n",
       "      <td>0</td>\n",
       "      <td>0</td>\n",
       "      <td>0</td>\n",
       "      <td>0</td>\n",
       "      <td>0</td>\n",
       "      <td>0</td>\n",
       "      <td>0</td>\n",
       "    </tr>\n",
       "    <tr>\n",
       "      <th>8</th>\n",
       "      <td>0</td>\n",
       "      <td>0</td>\n",
       "      <td>0</td>\n",
       "      <td>0</td>\n",
       "      <td>0</td>\n",
       "      <td>0</td>\n",
       "      <td>0</td>\n",
       "      <td>0</td>\n",
       "      <td>1</td>\n",
       "      <td>0</td>\n",
       "      <td>...</td>\n",
       "      <td>0</td>\n",
       "      <td>0</td>\n",
       "      <td>0</td>\n",
       "      <td>0</td>\n",
       "      <td>0</td>\n",
       "      <td>0</td>\n",
       "      <td>0</td>\n",
       "      <td>1</td>\n",
       "      <td>0</td>\n",
       "      <td>0</td>\n",
       "    </tr>\n",
       "    <tr>\n",
       "      <th>9</th>\n",
       "      <td>0</td>\n",
       "      <td>1</td>\n",
       "      <td>0</td>\n",
       "      <td>0</td>\n",
       "      <td>0</td>\n",
       "      <td>1</td>\n",
       "      <td>0</td>\n",
       "      <td>0</td>\n",
       "      <td>0</td>\n",
       "      <td>0</td>\n",
       "      <td>...</td>\n",
       "      <td>1</td>\n",
       "      <td>0</td>\n",
       "      <td>0</td>\n",
       "      <td>0</td>\n",
       "      <td>0</td>\n",
       "      <td>0</td>\n",
       "      <td>0</td>\n",
       "      <td>0</td>\n",
       "      <td>0</td>\n",
       "      <td>0</td>\n",
       "    </tr>\n",
       "  </tbody>\n",
       "</table>\n",
       "<p>10 rows × 1000 columns</p>\n",
       "</div>"
      ],
      "text/plain": [
       "   00  10  100  11  12  15  20  24  25  30  ...  wow  write  wrong  year  \\\n",
       "0   0   0    0   0   0   0   1   0   0   0  ...    0      0      0     0   \n",
       "1   0   0    0   0   0   0   0   0   0   0  ...    0      0      0     0   \n",
       "2   0   0    0   0   0   0   0   1   1   0  ...    0      0      0     1   \n",
       "3   0   0    0   0   0   0   0   0   0   0  ...    0      0      0     0   \n",
       "4   0   0    0   0   1   1   0   0   0   0  ...    0      0      0     0   \n",
       "5   0   0    0   0   0   0   0   0   0   0  ...    0      0      0     0   \n",
       "6   0   0    0   0   0   0   0   0   0   0  ...    0      0      0     0   \n",
       "7   0   0    0   0   0   0   0   0   0   0  ...    0      0      0     0   \n",
       "8   0   0    0   0   0   0   0   0   1   0  ...    0      0      0     0   \n",
       "9   0   1    0   0   0   1   0   0   0   0  ...    1      0      0     0   \n",
       "\n",
       "   years  yelp  yes  young  yum  yummy  \n",
       "0      0     0    0      0    0      0  \n",
       "1      0     0    0      0    0      0  \n",
       "2      0     0    0      1    0      0  \n",
       "3      0     0    0      0    0      0  \n",
       "4      0     0    0      0    0      0  \n",
       "5      0     0    0      0    0      0  \n",
       "6      0     0    0      0    0      0  \n",
       "7      0     0    0      0    0      0  \n",
       "8      0     0    0      1    0      0  \n",
       "9      0     0    0      0    0      0  \n",
       "\n",
       "[10 rows x 1000 columns]"
      ]
     },
     "execution_count": 88,
     "metadata": {},
     "output_type": "execute_result"
    }
   ],
   "source": [
    "dtm2.head(10)"
   ]
  },
  {
   "cell_type": "markdown",
   "metadata": {},
   "source": [
    "## Incorporate named entity recognition into your analysis"
   ]
  },
  {
   "cell_type": "code",
   "execution_count": null,
   "metadata": {},
   "outputs": [],
   "source": [
    "from spacy import displacy\n",
    "\n",
    "nlp = spacy.load('en_core_web_lg') \n",
    "\n",
    "def ner(doc):\n",
    "\n",
    "    doc = nlp(doc)\n",
    "\n",
    "    return displacy.serve(doc, style='ent')"
   ]
  },
  {
   "cell_type": "code",
   "execution_count": null,
   "metadata": {},
   "outputs": [],
   "source": [
    "yelp['ner'] = yelp['text'].apply(ner)\n",
    "\n",
    "yelp.head()"
   ]
  }
 ],
 "metadata": {
  "kernel_info": {
   "name": "u4-s1-nlp"
  },
  "kernelspec": {
   "display_name": "U4-S1-NLP (Python3)",
   "language": "python",
   "name": "u4-s1-nlp"
  },
  "language_info": {
   "codemirror_mode": {
    "name": "ipython",
    "version": 3
   },
   "file_extension": ".py",
   "mimetype": "text/x-python",
   "name": "python",
   "nbconvert_exporter": "python",
   "pygments_lexer": "ipython3",
   "version": "3.7.0"
  },
  "nteract": {
   "version": "0.22.4"
  },
  "toc-autonumbering": false
 },
 "nbformat": 4,
 "nbformat_minor": 4
}
