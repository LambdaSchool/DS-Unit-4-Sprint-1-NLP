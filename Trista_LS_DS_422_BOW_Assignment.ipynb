{
  "nbformat": 4,
  "nbformat_minor": 0,
  "metadata": {
    "colab": {
      "name": "Trista LS_DS_422_BOW_Assignment.ipynb",
      "version": "0.3.2",
      "provenance": [],
      "collapsed_sections": [],
      "include_colab_link": true
    },
    "kernelspec": {
      "name": "python3",
      "display_name": "Python 3"
    }
  },
  "cells": [
    {
      "cell_type": "markdown",
      "metadata": {
        "id": "view-in-github",
        "colab_type": "text"
      },
      "source": [
        "<a href=\"https://colab.research.google.com/github/trista-paul/DS-Unit-4-Sprint-2-NLP/blob/master/Trista_LS_DS_422_BOW_Assignment.ipynb\" target=\"_parent\"><img src=\"https://colab.research.google.com/assets/colab-badge.svg\" alt=\"Open In Colab\"/></a>"
      ]
    },
    {
      "metadata": {
        "id": "hyj-f9FDcVFp",
        "colab_type": "code",
        "outputId": "6b191520-641c-4a90-a509-d85e0533b27c",
        "colab": {
          "base_uri": "https://localhost:8080/",
          "height": 138
        }
      },
      "cell_type": "code",
      "source": [
        "import re\n",
        "import string\n",
        "\n",
        "!pip install -U nltk\n",
        "\n",
        "import nltk\n",
        "nltk.download('punkt')\n",
        "nltk.download('stopwords')\n",
        "from nltk.tokenize import sent_tokenize # Sentence Tokenizer\n",
        "from nltk.tokenize import word_tokenize # Word Tokenizer\n",
        "from nltk.corpus import stopwords\n",
        "from nltk.stem.porter import PorterStemmer\n",
        "from nltk.stem.wordnet import WordNetLemmatizer\n",
        "from nltk.probability import FreqDist\n",
        "\n",
        "from sklearn.feature_extraction.text import CountVectorizer\n",
        "from sklearn.feature_extraction.text import TfidfVectorizer\n",
        "import matplotlib.pyplot as plt\n",
        "import pandas as pd\n",
        "import numpy as np"
      ],
      "execution_count": 1,
      "outputs": [
        {
          "output_type": "stream",
          "text": [
            "Requirement already up-to-date: nltk in /usr/local/lib/python3.6/dist-packages (3.4.1)\n",
            "Requirement already satisfied, skipping upgrade: six in /usr/local/lib/python3.6/dist-packages (from nltk) (1.12.0)\n"
          ],
          "name": "stdout"
        },
        {
          "output_type": "stream",
          "text": [
            "[nltk_data] Downloading package punkt to /root/nltk_data...\n",
            "[nltk_data]   Package punkt is already up-to-date!\n",
            "[nltk_data] Downloading package stopwords to /root/nltk_data...\n",
            "[nltk_data]   Package stopwords is already up-to-date!\n"
          ],
          "name": "stderr"
        }
      ]
    },
    {
      "metadata": {
        "id": "QvWvuvZ7E-Wo",
        "colab_type": "code",
        "outputId": "d6d3e605-cff1-47b5-81ce-e31c0f9acf3f",
        "colab": {
          "base_uri": "https://localhost:8080/",
          "height": 67
        }
      },
      "cell_type": "code",
      "source": [
        "nltk.download('wordnet')"
      ],
      "execution_count": 0,
      "outputs": [
        {
          "output_type": "stream",
          "text": [
            "[nltk_data] Downloading package wordnet to /root/nltk_data...\n",
            "[nltk_data]   Unzipping corpora/wordnet.zip.\n"
          ],
          "name": "stderr"
        },
        {
          "output_type": "execute_result",
          "data": {
            "text/plain": [
              "True"
            ]
          },
          "metadata": {
            "tags": []
          },
          "execution_count": 4
        }
      ]
    },
    {
      "metadata": {
        "id": "M7bcmqfGXrFG",
        "colab_type": "text"
      },
      "cell_type": "markdown",
      "source": [
        "# 1) (optional) Scrape 100 Job Listings that contain the title \"Data Scientist\" from indeed.com\n",
        "\n",
        "At a minimum your final dataframe of job listings should contain\n",
        "- Job Title\n",
        "- Job Description"
      ]
    },
    {
      "metadata": {
        "id": "KcYlc1URXhlC",
        "colab_type": "code",
        "colab": {
          "base_uri": "https://localhost:8080/",
          "height": 195
        },
        "outputId": "c85fde12-4e22-4e44-b338-6c1ce7e6b9c3"
      },
      "cell_type": "code",
      "source": [
        "job_listings = pd.read_csv('https://raw.githubusercontent.com/trista-paul/DS-Unit-4-Sprint-2-NLP/master/module2-Bag-of-Words/job_listings.csv')\n",
        "job_listings = job_listings.drop(columns=['Unnamed: 0'])\n",
        "job_listings.head()"
      ],
      "execution_count": 16,
      "outputs": [
        {
          "output_type": "execute_result",
          "data": {
            "text/html": [
              "<div>\n",
              "<style scoped>\n",
              "    .dataframe tbody tr th:only-of-type {\n",
              "        vertical-align: middle;\n",
              "    }\n",
              "\n",
              "    .dataframe tbody tr th {\n",
              "        vertical-align: top;\n",
              "    }\n",
              "\n",
              "    .dataframe thead th {\n",
              "        text-align: right;\n",
              "    }\n",
              "</style>\n",
              "<table border=\"1\" class=\"dataframe\">\n",
              "  <thead>\n",
              "    <tr style=\"text-align: right;\">\n",
              "      <th></th>\n",
              "      <th>description</th>\n",
              "      <th>title</th>\n",
              "    </tr>\n",
              "  </thead>\n",
              "  <tbody>\n",
              "    <tr>\n",
              "      <th>0</th>\n",
              "      <td>b\"&lt;div&gt;&lt;div&gt;Job Requirements:&lt;/div&gt;&lt;ul&gt;&lt;li&gt;&lt;p&gt;...</td>\n",
              "      <td>Data scientist</td>\n",
              "    </tr>\n",
              "    <tr>\n",
              "      <th>1</th>\n",
              "      <td>b'&lt;div&gt;Job Description&lt;br/&gt;\\n&lt;br/&gt;\\n&lt;p&gt;As a Da...</td>\n",
              "      <td>Data Scientist I</td>\n",
              "    </tr>\n",
              "    <tr>\n",
              "      <th>2</th>\n",
              "      <td>b'&lt;div&gt;&lt;p&gt;As a Data Scientist you will be work...</td>\n",
              "      <td>Data Scientist - Entry Level</td>\n",
              "    </tr>\n",
              "    <tr>\n",
              "      <th>3</th>\n",
              "      <td>b'&lt;div class=\"jobsearch-JobMetadataHeader icl-...</td>\n",
              "      <td>Data Scientist</td>\n",
              "    </tr>\n",
              "    <tr>\n",
              "      <th>4</th>\n",
              "      <td>b'&lt;ul&gt;&lt;li&gt;Location: USA \\xe2\\x80\\x93 multiple ...</td>\n",
              "      <td>Data Scientist</td>\n",
              "    </tr>\n",
              "  </tbody>\n",
              "</table>\n",
              "</div>"
            ],
            "text/plain": [
              "                                         description  \\\n",
              "0  b\"<div><div>Job Requirements:</div><ul><li><p>...   \n",
              "1  b'<div>Job Description<br/>\\n<br/>\\n<p>As a Da...   \n",
              "2  b'<div><p>As a Data Scientist you will be work...   \n",
              "3  b'<div class=\"jobsearch-JobMetadataHeader icl-...   \n",
              "4  b'<ul><li>Location: USA \\xe2\\x80\\x93 multiple ...   \n",
              "\n",
              "                          title  \n",
              "0               Data scientist   \n",
              "1              Data Scientist I  \n",
              "2  Data Scientist - Entry Level  \n",
              "3                Data Scientist  \n",
              "4                Data Scientist  "
            ]
          },
          "metadata": {
            "tags": []
          },
          "execution_count": 16
        }
      ]
    },
    {
      "metadata": {
        "id": "fs3Y3y_Yd76_",
        "colab_type": "code",
        "colab": {}
      },
      "cell_type": "code",
      "source": [
        "job_listings['description'] = job_listings['description'].str.strip(\"b'\")"
      ],
      "execution_count": 0,
      "outputs": []
    },
    {
      "metadata": {
        "id": "kBX9gBa7dkdW",
        "colab_type": "code",
        "colab": {
          "base_uri": "https://localhost:8080/",
          "height": 34
        },
        "outputId": "6131c6ec-c0e2-4e0e-9c65-c02540d57cae"
      },
      "cell_type": "code",
      "source": [
        "dlist = job_listings['description'].tolist()\n",
        "len(dlist)"
      ],
      "execution_count": 39,
      "outputs": [
        {
          "output_type": "execute_result",
          "data": {
            "text/plain": [
              "426"
            ]
          },
          "metadata": {
            "tags": []
          },
          "execution_count": 39
        }
      ]
    },
    {
      "metadata": {
        "id": "gD2RFGczWFOn",
        "colab_type": "code",
        "colab": {}
      },
      "cell_type": "code",
      "source": [
        "dlist_nohtml = []\n",
        "\n",
        "def cleanhtml(raw_html):\n",
        "  cleanr = re.compile('<.*?>')\n",
        "  cleantext = re.sub(cleanr, '', raw_html)\n",
        "  cleantext = cleantext.replace(r\"\\n\", \" \")\n",
        "  return cleantext\n",
        "\n",
        "for desc in dlist:\n",
        "    desc = cleanhtml(desc)\n",
        "    dlist_nohtml.append(desc)"
      ],
      "execution_count": 0,
      "outputs": []
    },
    {
      "metadata": {
        "id": "c-VoVfM0ep5-",
        "colab_type": "code",
        "colab": {
          "base_uri": "https://localhost:8080/",
          "height": 87
        },
        "outputId": "7e69b3d6-45e6-4e3f-deed-e2330a342544"
      },
      "cell_type": "code",
      "source": [
        "print(dlist_nohtml[0])\n",
        "print(dlist_nohtml[1])\n",
        "len(dlist_nohtml)"
      ],
      "execution_count": 45,
      "outputs": [
        {
          "output_type": "stream",
          "text": [
            "\"Job Requirements: Conceptual understanding in Machine Learning models like Nai\\xc2\\xa8ve Bayes, K-Means, SVM, Apriori, Linear/ Logistic Regression, Neural, Random Forests, Decision Trees, K-NN along with hands-on experience in at least 2 of them Intermediate to expert level coding skills in Python/R. (Ability to write functions, clean and efficient data manipulation are mandatory for this role) Exposure to packages like NumPy, SciPy, Pandas, Matplotlib etc in Python or GGPlot2, dplyr, tidyR in R Ability to communicate Model findings to both Technical and Non-Technical stake holders Hands on experience in SQL/Hive or similar programming language Must show past work via GitHub, Kaggle or any other published article Master's degree in Statistics/Mathematics/Computer Science or any other quant specific field. Apply Now\"\n",
            "Job Description  As a Data Scientist 1, you will help us build machine learning models, data pipelines, and micro-services to help our clients navigate their healthcare journey. You will do so by empowering and improving the next generation of Accolade Applications and user experiences. A day in the life\\xe2\\x80\\xa6 Work with a small agile team to design and develop mobile applications in an iterative fashion. Work with a tight-knit group of development team members in Seattle. Contribute to best practices and help guide the future of our applications. Operates effectively as a collaborative member of the development team. Operates effectively as an individual for quick turnaround of enhancements and fixes. Responsible for meeting expectations and deliverables on time with high quality. Drive and implement new features within our mobile applications. Perform thorough manual testing and writing test cases that cover all areas. Identify new development tools/approaches that will increase code quality, efficiency, and best practices. Develop and champion the the development processes, coding style guidelines, and architectural designs necessary to innovate and maintain great product quality. Effectively turns design documents and graphics into performant, usable UI. Demonstrates creative, technical, and analytical skills. Demonstrates ability to communicate effectively in both technical and business environments  Qualifications  What we are looking for\\xe2\\x80\\xa6 Master\\xe2\\x80\\x99s Degree in Computer Science, Math, or related field. Computer Science fundamentals, as illustrated through algorithm design, problem solving, and complexity analysis. Must have 1+ year real-world experience developing and deploying micro-services or data pipelines Must have a fundamental understanding of key machine learning concepts, such as accuracy measures, cross-validation, and open source machine learning libraries Fluent in Python and SQL Proficient with writing unit/functional tests and familiar with automation frameworks Experience with cloud infrastructure, such as AWS or Azure, is a plus. Experience with distributed data pipelines, such as a Spark, is a plus. Strong written and oral communication skills. Desire and willingness to work in an Agile, collaborative, innovative, flexible, and team-oriented environment Hands-on, detail-oriented, methodical &amp; inquisitive A motivated self-starter with a solid level of experience that quickly grasps complex challenges A skillful communicator with experience working with technical management teams  A service oriented person who thinks \"Customer First\" Fast fail entrepreneurial spirit Thrives in a fast-paced environment where continuous improvement is the norm and the bar for quality is extremely high Excited by the challenges of working in a product team undergoing rapid, international growth Additional Information  What is important to us Creating an enduring company that is hyper-focused on our culture and making a meaningful impact in the lives of our employees, members and customers. The secret to our success is: We find joy and purpose in serving others Making a difference in our members\\xe2\\x80\\x99 and customers\\xe2\\x80\\x99 lives is what we do. Even when it\\xe2\\x80\\x99s hard, we do the right thing for the right reasons. We are strong individually and together, we\\xe2\\x80\\x99re powerful Trusting in our colleagues and embracing their different backgrounds and experiences enable us to solve tough problems in creative ways, having fun along the way. We roll up our sleeves and get stuff done Results motivate us. And we aren\\'t afraid of the hard work or tough decisions needed to get us there. We\\xe2\\x80\\x99re boldly and relentlessly reinventing healthcare We\\'re curious and act big - not afraid to knock down barriers or take calculated risks to change the world, one person at a time. All your information will be kept confidential according to EEO guidelines.\n"
          ],
          "name": "stdout"
        },
        {
          "output_type": "execute_result",
          "data": {
            "text/plain": [
              "426"
            ]
          },
          "metadata": {
            "tags": []
          },
          "execution_count": 45
        }
      ]
    },
    {
      "metadata": {
        "id": "5C4xFZNtX1m2",
        "colab_type": "text"
      },
      "cell_type": "markdown",
      "source": [
        "## 2) Use NLTK to tokenize / clean the listings "
      ]
    },
    {
      "metadata": {
        "id": "vnk_6TymfnGi",
        "colab_type": "code",
        "colab": {
          "base_uri": "https://localhost:8080/",
          "height": 34
        },
        "outputId": "43736205-8fad-41d0-9a18-c5a40afff687"
      },
      "cell_type": "code",
      "source": [
        "cleaned_description = []\n",
        "from string import punctuation\n",
        "table = str.maketrans('', '', punctuation)\n",
        "stop_words = stopwords.words('english')\n",
        "\n",
        "for description in dlist_nohtml:\n",
        "    #sep by word\n",
        "    words = word_tokenize(description)\n",
        "\n",
        "    #lowercase\n",
        "    words = [word.lower() for word in words]\n",
        "\n",
        "    #remove non alphanumeric characters\n",
        "    words = [word.translate(table) for word in words]\n",
        "    words = [word for word in words if word.isalpha()]\n",
        "\n",
        "    #remove stopwords\n",
        "    words = [word for word in words if not word in stop_words]\n",
        "    \n",
        "    #lemmatize (remove prefixes and suffixes)\n",
        "    lemmatizer = WordNetLemmatizer()\n",
        "    words = [lemmatizer.lemmatize(word) for word in words]\n",
        "    \n",
        "    #make listing\n",
        "    cleaned_description.append(words)\n",
        "\n",
        "len(cleaned_description)"
      ],
      "execution_count": 46,
      "outputs": [
        {
          "output_type": "execute_result",
          "data": {
            "text/plain": [
              "426"
            ]
          },
          "metadata": {
            "tags": []
          },
          "execution_count": 46
        }
      ]
    },
    {
      "metadata": {
        "id": "PUz8pUfSgVOc",
        "colab_type": "code",
        "colab": {
          "base_uri": "https://localhost:8080/",
          "height": 1411
        },
        "outputId": "7c666864-1e3a-40eb-d762-15d94ace8f86"
      },
      "cell_type": "code",
      "source": [
        "cleaned_description[0]"
      ],
      "execution_count": 47,
      "outputs": [
        {
          "output_type": "execute_result",
          "data": {
            "text/plain": [
              "['job',\n",
              " 'requirement',\n",
              " 'conceptual',\n",
              " 'understanding',\n",
              " 'machine',\n",
              " 'learning',\n",
              " 'model',\n",
              " 'like',\n",
              " 'bayes',\n",
              " 'kmeans',\n",
              " 'svm',\n",
              " 'apriori',\n",
              " 'linear',\n",
              " 'logistic',\n",
              " 'regression',\n",
              " 'neural',\n",
              " 'random',\n",
              " 'forest',\n",
              " 'decision',\n",
              " 'tree',\n",
              " 'knn',\n",
              " 'along',\n",
              " 'handson',\n",
              " 'experience',\n",
              " 'least',\n",
              " 'intermediate',\n",
              " 'expert',\n",
              " 'level',\n",
              " 'coding',\n",
              " 'skill',\n",
              " 'pythonr',\n",
              " 'ability',\n",
              " 'write',\n",
              " 'function',\n",
              " 'clean',\n",
              " 'efficient',\n",
              " 'data',\n",
              " 'manipulation',\n",
              " 'mandatory',\n",
              " 'role',\n",
              " 'exposure',\n",
              " 'package',\n",
              " 'like',\n",
              " 'numpy',\n",
              " 'scipy',\n",
              " 'panda',\n",
              " 'matplotlib',\n",
              " 'etc',\n",
              " 'python',\n",
              " 'dplyr',\n",
              " 'tidyr',\n",
              " 'r',\n",
              " 'ability',\n",
              " 'communicate',\n",
              " 'model',\n",
              " 'finding',\n",
              " 'technical',\n",
              " 'nontechnical',\n",
              " 'stake',\n",
              " 'holder',\n",
              " 'hand',\n",
              " 'experience',\n",
              " 'sqlhive',\n",
              " 'similar',\n",
              " 'programming',\n",
              " 'language',\n",
              " 'must',\n",
              " 'show',\n",
              " 'past',\n",
              " 'work',\n",
              " 'via',\n",
              " 'github',\n",
              " 'kaggle',\n",
              " 'published',\n",
              " 'article',\n",
              " 'master',\n",
              " 'degree',\n",
              " 'statisticsmathematicscomputer',\n",
              " 'science',\n",
              " 'quant',\n",
              " 'specific',\n",
              " 'field',\n",
              " 'apply']"
            ]
          },
          "metadata": {
            "tags": []
          },
          "execution_count": 47
        }
      ]
    },
    {
      "metadata": {
        "id": "p7ruQ8NiiavV",
        "colab_type": "code",
        "colab": {}
      },
      "cell_type": "code",
      "source": [
        "job_listings = cleaned_description"
      ],
      "execution_count": 0,
      "outputs": []
    },
    {
      "metadata": {
        "id": "-lgCZNL_YycP",
        "colab_type": "text"
      },
      "cell_type": "markdown",
      "source": [
        "# 3) Use Scikit-Learn's CountVectorizer to get word counts for each listing."
      ]
    },
    {
      "metadata": {
        "id": "X2PZ8Pj_YxcF",
        "colab_type": "code",
        "colab": {}
      },
      "cell_type": "code",
      "source": [
        "job_listings_scikit = []\n",
        "for listing in job_listings:\n",
        "  joined_listing = \" \".join(listing)\n",
        "  job_listings_scikit.append(joined_listing)"
      ],
      "execution_count": 0,
      "outputs": []
    },
    {
      "metadata": {
        "id": "8C4hLTzeHYNz",
        "colab_type": "code",
        "outputId": "f9758493-0574-49d9-9ae7-85a3d413d40a",
        "colab": {
          "base_uri": "https://localhost:8080/",
          "height": 244
        }
      },
      "cell_type": "code",
      "source": [
        "#vocabulary for vectorizer\n",
        "text = job_listings_scikit\n",
        "#bag of words\n",
        "vectorizer = CountVectorizer()\n",
        "bag_of_words = vectorizer.fit_transform(job_listings_scikit)\n",
        "\n",
        "#cooresponding strings to counts\n",
        "feature_names = vectorizer.get_feature_names()\n",
        "\n",
        "#visualize count by listing in df\n",
        "wordcounts = pd.DataFrame(bag_of_words.toarray(), columns=feature_names)\n",
        "wordcounts.head()"
      ],
      "execution_count": 50,
      "outputs": [
        {
          "output_type": "execute_result",
          "data": {
            "text/html": [
              "<div>\n",
              "<style scoped>\n",
              "    .dataframe tbody tr th:only-of-type {\n",
              "        vertical-align: middle;\n",
              "    }\n",
              "\n",
              "    .dataframe tbody tr th {\n",
              "        vertical-align: top;\n",
              "    }\n",
              "\n",
              "    .dataframe thead th {\n",
              "        text-align: right;\n",
              "    }\n",
              "</style>\n",
              "<table border=\"1\" class=\"dataframe\">\n",
              "  <thead>\n",
              "    <tr style=\"text-align: right;\">\n",
              "      <th></th>\n",
              "      <th>aaai</th>\n",
              "      <th>aaeeo</th>\n",
              "      <th>ab</th>\n",
              "      <th>abernathy</th>\n",
              "      <th>ability</th>\n",
              "      <th>able</th>\n",
              "      <th>abmultivariate</th>\n",
              "      <th>abounds</th>\n",
              "      <th>abroad</th>\n",
              "      <th>absence</th>\n",
              "      <th>...</th>\n",
              "      <th>zero</th>\n",
              "      <th>zeus</th>\n",
              "      <th>zf</th>\n",
              "      <th>zheng</th>\n",
              "      <th>zillow</th>\n",
              "      <th>zogsports</th>\n",
              "      <th>zone</th>\n",
              "      <th>zoom</th>\n",
              "      <th>zuckerberg</th>\n",
              "      <th>zurich</th>\n",
              "    </tr>\n",
              "  </thead>\n",
              "  <tbody>\n",
              "    <tr>\n",
              "      <th>0</th>\n",
              "      <td>0</td>\n",
              "      <td>0</td>\n",
              "      <td>0</td>\n",
              "      <td>0</td>\n",
              "      <td>2</td>\n",
              "      <td>0</td>\n",
              "      <td>0</td>\n",
              "      <td>0</td>\n",
              "      <td>0</td>\n",
              "      <td>0</td>\n",
              "      <td>...</td>\n",
              "      <td>0</td>\n",
              "      <td>0</td>\n",
              "      <td>0</td>\n",
              "      <td>0</td>\n",
              "      <td>0</td>\n",
              "      <td>0</td>\n",
              "      <td>0</td>\n",
              "      <td>0</td>\n",
              "      <td>0</td>\n",
              "      <td>0</td>\n",
              "    </tr>\n",
              "    <tr>\n",
              "      <th>1</th>\n",
              "      <td>0</td>\n",
              "      <td>0</td>\n",
              "      <td>0</td>\n",
              "      <td>0</td>\n",
              "      <td>1</td>\n",
              "      <td>0</td>\n",
              "      <td>0</td>\n",
              "      <td>0</td>\n",
              "      <td>0</td>\n",
              "      <td>0</td>\n",
              "      <td>...</td>\n",
              "      <td>0</td>\n",
              "      <td>0</td>\n",
              "      <td>0</td>\n",
              "      <td>0</td>\n",
              "      <td>0</td>\n",
              "      <td>0</td>\n",
              "      <td>0</td>\n",
              "      <td>0</td>\n",
              "      <td>0</td>\n",
              "      <td>0</td>\n",
              "    </tr>\n",
              "    <tr>\n",
              "      <th>2</th>\n",
              "      <td>0</td>\n",
              "      <td>0</td>\n",
              "      <td>0</td>\n",
              "      <td>0</td>\n",
              "      <td>1</td>\n",
              "      <td>0</td>\n",
              "      <td>0</td>\n",
              "      <td>0</td>\n",
              "      <td>0</td>\n",
              "      <td>0</td>\n",
              "      <td>...</td>\n",
              "      <td>0</td>\n",
              "      <td>0</td>\n",
              "      <td>0</td>\n",
              "      <td>0</td>\n",
              "      <td>0</td>\n",
              "      <td>0</td>\n",
              "      <td>0</td>\n",
              "      <td>0</td>\n",
              "      <td>0</td>\n",
              "      <td>0</td>\n",
              "    </tr>\n",
              "    <tr>\n",
              "      <th>3</th>\n",
              "      <td>0</td>\n",
              "      <td>0</td>\n",
              "      <td>0</td>\n",
              "      <td>0</td>\n",
              "      <td>0</td>\n",
              "      <td>0</td>\n",
              "      <td>0</td>\n",
              "      <td>0</td>\n",
              "      <td>0</td>\n",
              "      <td>0</td>\n",
              "      <td>...</td>\n",
              "      <td>0</td>\n",
              "      <td>0</td>\n",
              "      <td>0</td>\n",
              "      <td>1</td>\n",
              "      <td>0</td>\n",
              "      <td>0</td>\n",
              "      <td>0</td>\n",
              "      <td>0</td>\n",
              "      <td>0</td>\n",
              "      <td>0</td>\n",
              "    </tr>\n",
              "    <tr>\n",
              "      <th>4</th>\n",
              "      <td>0</td>\n",
              "      <td>0</td>\n",
              "      <td>0</td>\n",
              "      <td>0</td>\n",
              "      <td>0</td>\n",
              "      <td>0</td>\n",
              "      <td>0</td>\n",
              "      <td>0</td>\n",
              "      <td>0</td>\n",
              "      <td>0</td>\n",
              "      <td>...</td>\n",
              "      <td>0</td>\n",
              "      <td>0</td>\n",
              "      <td>0</td>\n",
              "      <td>0</td>\n",
              "      <td>0</td>\n",
              "      <td>0</td>\n",
              "      <td>0</td>\n",
              "      <td>0</td>\n",
              "      <td>0</td>\n",
              "      <td>0</td>\n",
              "    </tr>\n",
              "  </tbody>\n",
              "</table>\n",
              "<p>5 rows × 8240 columns</p>\n",
              "</div>"
            ],
            "text/plain": [
              "   aaai  aaeeo  ab  abernathy  ability  able  abmultivariate  abounds  abroad  \\\n",
              "0     0      0   0          0        2     0               0        0       0   \n",
              "1     0      0   0          0        1     0               0        0       0   \n",
              "2     0      0   0          0        1     0               0        0       0   \n",
              "3     0      0   0          0        0     0               0        0       0   \n",
              "4     0      0   0          0        0     0               0        0       0   \n",
              "\n",
              "   absence  ...  zero  zeus  zf  zheng  zillow  zogsports  zone  zoom  \\\n",
              "0        0  ...     0     0   0      0       0          0     0     0   \n",
              "1        0  ...     0     0   0      0       0          0     0     0   \n",
              "2        0  ...     0     0   0      0       0          0     0     0   \n",
              "3        0  ...     0     0   0      1       0          0     0     0   \n",
              "4        0  ...     0     0   0      0       0          0     0     0   \n",
              "\n",
              "   zuckerberg  zurich  \n",
              "0           0       0  \n",
              "1           0       0  \n",
              "2           0       0  \n",
              "3           0       0  \n",
              "4           0       0  \n",
              "\n",
              "[5 rows x 8240 columns]"
            ]
          },
          "metadata": {
            "tags": []
          },
          "execution_count": 50
        }
      ]
    },
    {
      "metadata": {
        "id": "Zo1iH_UeY7_n",
        "colab_type": "text"
      },
      "cell_type": "markdown",
      "source": [
        "# 4) Visualize the most common word counts"
      ]
    },
    {
      "metadata": {
        "id": "8_pmjIjeF3g6",
        "colab_type": "code",
        "colab": {}
      },
      "cell_type": "code",
      "source": [
        "words_total = []\n",
        "for listing in job_listings:\n",
        "  for word in listing:\n",
        "    words_total.append(word)"
      ],
      "execution_count": 0,
      "outputs": []
    },
    {
      "metadata": {
        "id": "M5LB00uyZKV5",
        "colab_type": "code",
        "outputId": "6aba01f5-4b7e-4133-fb13-446fdaa4d555",
        "colab": {
          "base_uri": "https://localhost:8080/",
          "height": 348
        }
      },
      "cell_type": "code",
      "source": [
        "fdist = FreqDist(words_total)\n",
        "print(fdist)\n",
        "fdist.plot(30, cumulative=False)\n",
        "plt.show()"
      ],
      "execution_count": 52,
      "outputs": [
        {
          "output_type": "stream",
          "text": [
            "<FreqDist with 8257 samples and 134299 outcomes>\n"
          ],
          "name": "stdout"
        },
        {
          "output_type": "display_data",
          "data": {
            "image/png": "[encoded data removed]",
            "text/plain": [
              "<Figure size 432x288 with 1 Axes>"
            ]
          },
          "metadata": {
            "tags": []
          }
        }
      ]
    },
    {
      "metadata": {
        "id": "bwFsTqrVZMYi",
        "colab_type": "text"
      },
      "cell_type": "markdown",
      "source": [
        " # 5) Use Scikit-Learn's tfidfVectorizer to get a TF-IDF feature matrix"
      ]
    },
    {
      "metadata": {
        "id": "-gx2gZCbl5Np",
        "colab_type": "code",
        "outputId": "0dfc32e8-ca49-47e3-8c43-716708ae86a2",
        "colab": {
          "base_uri": "https://localhost:8080/",
          "height": 215
        }
      },
      "cell_type": "code",
      "source": [
        "#fit a feature matrix\n",
        "tfidf = TfidfVectorizer(max_features = 20)\n",
        "feature_matrix = tfidf.fit_transform(text)\n",
        "\n",
        "#cooresponding strings to frequency\n",
        "feature_names = tfidf.get_feature_names()\n",
        "\n",
        "#visualize frequency by listing in df\n",
        "df = pd.DataFrame(feature_matrix.toarray(), columns=feature_names)\n",
        "df.head()"
      ],
      "execution_count": 53,
      "outputs": [
        {
          "output_type": "execute_result",
          "data": {
            "text/html": [
              "<div>\n",
              "<style scoped>\n",
              "    .dataframe tbody tr th:only-of-type {\n",
              "        vertical-align: middle;\n",
              "    }\n",
              "\n",
              "    .dataframe tbody tr th {\n",
              "        vertical-align: top;\n",
              "    }\n",
              "\n",
              "    .dataframe thead th {\n",
              "        text-align: right;\n",
              "    }\n",
              "</style>\n",
              "<table border=\"1\" class=\"dataframe\">\n",
              "  <thead>\n",
              "    <tr style=\"text-align: right;\">\n",
              "      <th></th>\n",
              "      <th>ability</th>\n",
              "      <th>analysis</th>\n",
              "      <th>analytics</th>\n",
              "      <th>business</th>\n",
              "      <th>customer</th>\n",
              "      <th>data</th>\n",
              "      <th>experience</th>\n",
              "      <th>learning</th>\n",
              "      <th>machine</th>\n",
              "      <th>model</th>\n",
              "      <th>opportunity</th>\n",
              "      <th>product</th>\n",
              "      <th>science</th>\n",
              "      <th>scientist</th>\n",
              "      <th>skill</th>\n",
              "      <th>solution</th>\n",
              "      <th>statistical</th>\n",
              "      <th>team</th>\n",
              "      <th>technology</th>\n",
              "      <th>work</th>\n",
              "    </tr>\n",
              "  </thead>\n",
              "  <tbody>\n",
              "    <tr>\n",
              "      <th>0</th>\n",
              "      <td>0.540207</td>\n",
              "      <td>0.000000</td>\n",
              "      <td>0.000000</td>\n",
              "      <td>0.000000</td>\n",
              "      <td>0.000000</td>\n",
              "      <td>0.179437</td>\n",
              "      <td>0.372583</td>\n",
              "      <td>0.234686</td>\n",
              "      <td>0.255337</td>\n",
              "      <td>0.521131</td>\n",
              "      <td>0.000000</td>\n",
              "      <td>0.000000</td>\n",
              "      <td>0.219314</td>\n",
              "      <td>0.000000</td>\n",
              "      <td>0.231278</td>\n",
              "      <td>0.0</td>\n",
              "      <td>0.000000</td>\n",
              "      <td>0.000000</td>\n",
              "      <td>0.0</td>\n",
              "      <td>0.209095</td>\n",
              "    </tr>\n",
              "    <tr>\n",
              "      <th>1</th>\n",
              "      <td>0.107020</td>\n",
              "      <td>0.091192</td>\n",
              "      <td>0.000000</td>\n",
              "      <td>0.089876</td>\n",
              "      <td>0.242864</td>\n",
              "      <td>0.284385</td>\n",
              "      <td>0.516685</td>\n",
              "      <td>0.278961</td>\n",
              "      <td>0.303508</td>\n",
              "      <td>0.103241</td>\n",
              "      <td>0.000000</td>\n",
              "      <td>0.203363</td>\n",
              "      <td>0.173793</td>\n",
              "      <td>0.087524</td>\n",
              "      <td>0.183274</td>\n",
              "      <td>0.0</td>\n",
              "      <td>0.000000</td>\n",
              "      <td>0.402626</td>\n",
              "      <td>0.0</td>\n",
              "      <td>0.331389</td>\n",
              "    </tr>\n",
              "    <tr>\n",
              "      <th>2</th>\n",
              "      <td>0.198400</td>\n",
              "      <td>0.000000</td>\n",
              "      <td>0.200996</td>\n",
              "      <td>0.499851</td>\n",
              "      <td>0.000000</td>\n",
              "      <td>0.395407</td>\n",
              "      <td>0.136837</td>\n",
              "      <td>0.172385</td>\n",
              "      <td>0.187553</td>\n",
              "      <td>0.382788</td>\n",
              "      <td>0.000000</td>\n",
              "      <td>0.000000</td>\n",
              "      <td>0.161093</td>\n",
              "      <td>0.324515</td>\n",
              "      <td>0.339763</td>\n",
              "      <td>0.0</td>\n",
              "      <td>0.192864</td>\n",
              "      <td>0.000000</td>\n",
              "      <td>0.0</td>\n",
              "      <td>0.000000</td>\n",
              "    </tr>\n",
              "    <tr>\n",
              "      <th>3</th>\n",
              "      <td>0.000000</td>\n",
              "      <td>0.000000</td>\n",
              "      <td>0.000000</td>\n",
              "      <td>0.000000</td>\n",
              "      <td>0.000000</td>\n",
              "      <td>0.417647</td>\n",
              "      <td>0.000000</td>\n",
              "      <td>0.000000</td>\n",
              "      <td>0.000000</td>\n",
              "      <td>0.000000</td>\n",
              "      <td>0.291973</td>\n",
              "      <td>0.000000</td>\n",
              "      <td>0.000000</td>\n",
              "      <td>0.000000</td>\n",
              "      <td>0.000000</td>\n",
              "      <td>0.0</td>\n",
              "      <td>0.000000</td>\n",
              "      <td>0.709554</td>\n",
              "      <td>0.0</td>\n",
              "      <td>0.486678</td>\n",
              "    </tr>\n",
              "    <tr>\n",
              "      <th>4</th>\n",
              "      <td>0.000000</td>\n",
              "      <td>0.000000</td>\n",
              "      <td>0.457513</td>\n",
              "      <td>0.379259</td>\n",
              "      <td>0.000000</td>\n",
              "      <td>0.600026</td>\n",
              "      <td>0.311473</td>\n",
              "      <td>0.000000</td>\n",
              "      <td>0.000000</td>\n",
              "      <td>0.435658</td>\n",
              "      <td>0.000000</td>\n",
              "      <td>0.000000</td>\n",
              "      <td>0.000000</td>\n",
              "      <td>0.000000</td>\n",
              "      <td>0.000000</td>\n",
              "      <td>0.0</td>\n",
              "      <td>0.000000</td>\n",
              "      <td>0.000000</td>\n",
              "      <td>0.0</td>\n",
              "      <td>0.000000</td>\n",
              "    </tr>\n",
              "  </tbody>\n",
              "</table>\n",
              "</div>"
            ],
            "text/plain": [
              "    ability  analysis  analytics  business  customer      data  experience  \\\n",
              "0  0.540207  0.000000   0.000000  0.000000  0.000000  0.179437    0.372583   \n",
              "1  0.107020  0.091192   0.000000  0.089876  0.242864  0.284385    0.516685   \n",
              "2  0.198400  0.000000   0.200996  0.499851  0.000000  0.395407    0.136837   \n",
              "3  0.000000  0.000000   0.000000  0.000000  0.000000  0.417647    0.000000   \n",
              "4  0.000000  0.000000   0.457513  0.379259  0.000000  0.600026    0.311473   \n",
              "\n",
              "   learning   machine     model  opportunity   product   science  scientist  \\\n",
              "0  0.234686  0.255337  0.521131     0.000000  0.000000  0.219314   0.000000   \n",
              "1  0.278961  0.303508  0.103241     0.000000  0.203363  0.173793   0.087524   \n",
              "2  0.172385  0.187553  0.382788     0.000000  0.000000  0.161093   0.324515   \n",
              "3  0.000000  0.000000  0.000000     0.291973  0.000000  0.000000   0.000000   \n",
              "4  0.000000  0.000000  0.435658     0.000000  0.000000  0.000000   0.000000   \n",
              "\n",
              "      skill  solution  statistical      team  technology      work  \n",
              "0  0.231278       0.0     0.000000  0.000000         0.0  0.209095  \n",
              "1  0.183274       0.0     0.000000  0.402626         0.0  0.331389  \n",
              "2  0.339763       0.0     0.192864  0.000000         0.0  0.000000  \n",
              "3  0.000000       0.0     0.000000  0.709554         0.0  0.486678  \n",
              "4  0.000000       0.0     0.000000  0.000000         0.0  0.000000  "
            ]
          },
          "metadata": {
            "tags": []
          },
          "execution_count": 53
        }
      ]
    },
    {
      "metadata": {
        "id": "FiDfTWceoRkH",
        "colab_type": "text"
      },
      "cell_type": "markdown",
      "source": [
        "## Stretch Goals\n",
        "\n",
        " - Scrape Job Listings for the job title \"Data Analyst\". How do these differ from Data Scientist Job Listings\n",
        " - Try and identify requirements for experience specific technologies that are asked for in the job listings. How are those distributed among the job listings?\n",
        " - Use a clustering algorithm to cluster documents by their most important terms. Do the clusters reveal any common themes?\n",
        "  - **Hint:** K-means might not be the best algorithm for this. Do a little bit of research to see what might be good for this. Also, remember that algorithms that depend on Euclidean distance break down with high dimensional data."
      ]
    }
  ]
}