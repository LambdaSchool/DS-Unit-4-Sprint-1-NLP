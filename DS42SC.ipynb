{
  "nbformat": 4,
  "nbformat_minor": 0,
  "metadata": {
    "colab": {
      "name": "DS42SC.ipynb",
      "version": "0.3.2",
      "provenance": [],
      "collapsed_sections": [],
      "include_colab_link": true
    },
    "kernelspec": {
      "name": "python3",
      "display_name": "Python 3"
    }
  },
  "cells": [
    {
      "cell_type": "markdown",
      "metadata": {
        "id": "view-in-github",
        "colab_type": "text"
      },
      "source": [
        "<a href=\"https://colab.research.google.com/github/cocoisland/DS-Unit-4-Sprint-2-NLP/blob/master/DS42SC.ipynb\" target=\"_parent\"><img src=\"https://colab.research.google.com/assets/colab-badge.svg\" alt=\"Open In Colab\"/></a>"
      ]
    },
    {
      "metadata": {
        "id": "QpPcbYew_ttN",
        "colab_type": "text"
      },
      "cell_type": "markdown",
      "source": [
        "# Part 1 - Working with Text Data\n",
        "\n",
        "### Use Python string methods remove irregular whitespace from the following string:"
      ]
    },
    {
      "metadata": {
        "id": "dtotEnsStY5o",
        "colab_type": "code",
        "outputId": "677b2d72-3881-4193-cb0b-de9bee3ffabb",
        "colab": {
          "base_uri": "https://localhost:8080/",
          "height": 103
        }
      },
      "cell_type": "code",
      "source": [
        "whitespace_string = \"\\n\\n  This is a    string   that has  \\n a lot of  extra \\n   whitespace.   \"\n",
        "\n",
        "print(whitespace_string)"
      ],
      "execution_count": 1,
      "outputs": [
        {
          "output_type": "stream",
          "text": [
            "\n",
            "\n",
            "  This is a    string   that has  \n",
            " a lot of  extra \n",
            "   whitespace.   \n"
          ],
          "name": "stdout"
        }
      ]
    },
    {
      "metadata": {
        "id": "G9-MkBwasXx8",
        "colab_type": "code",
        "colab": {
          "base_uri": "https://localhost:8080/",
          "height": 34
        },
        "outputId": "9042d002-86d5-4e21-fe2a-040f6fdbf476"
      },
      "cell_type": "code",
      "source": [
        "import re\n",
        " \n",
        "re.sub(\"\\s+\", ' ', whitespace_string).strip()\n"
      ],
      "execution_count": 19,
      "outputs": [
        {
          "output_type": "execute_result",
          "data": {
            "text/plain": [
              "'This is a string that has a lot of extra whitespace.'"
            ]
          },
          "metadata": {
            "tags": []
          },
          "execution_count": 19
        }
      ]
    },
    {
      "metadata": {
        "id": "Vg1-d2aAsXLn",
        "colab_type": "text"
      },
      "cell_type": "markdown",
      "source": [
        "### Use Regular Expressions to take the dates in the following .txt file and put them into a dataframe with columns for:\n",
        "\n",
        "[RegEx dates.txt](https://github.com/ryanleeallred/datasets/blob/master/dates.txt)\n",
        "\n",
        "- Day\n",
        "- Month\n",
        "- Year\n"
      ]
    },
    {
      "metadata": {
        "id": "KWDiN4C9_0sq",
        "colab_type": "code",
        "colab": {
          "base_uri": "https://localhost:8080/",
          "height": 648
        },
        "outputId": "41f8f7f9-9e87-4147-f535-6eb0fc7e4e8d"
      },
      "cell_type": "code",
      "source": [
        "import pandas as pd\n",
        "\n",
        "url='https://raw.githubusercontent.com/ryanleeallred/datasets/master/dates.txt'\n",
        "\n",
        "#df = pd.read_csv(url, header=None, sep = \"[^\\w\\s]\") # Month_day Year\n",
        "df = pd.read_csv(url, header=None, sep = \"\\s+\")\n",
        "df.columns = [\"Month\", \"Day\", \"Year\"]\n",
        "df['Day'] = df['Day'].str.replace('[^\\w\\s]','') # remove non word/whitespace\n",
        "df\n"
      ],
      "execution_count": 42,
      "outputs": [
        {
          "output_type": "execute_result",
          "data": {
            "text/html": [
              "<div>\n",
              "<style scoped>\n",
              "    .dataframe tbody tr th:only-of-type {\n",
              "        vertical-align: middle;\n",
              "    }\n",
              "\n",
              "    .dataframe tbody tr th {\n",
              "        vertical-align: top;\n",
              "    }\n",
              "\n",
              "    .dataframe thead th {\n",
              "        text-align: right;\n",
              "    }\n",
              "</style>\n",
              "<table border=\"1\" class=\"dataframe\">\n",
              "  <thead>\n",
              "    <tr style=\"text-align: right;\">\n",
              "      <th></th>\n",
              "      <th>Month</th>\n",
              "      <th>Day</th>\n",
              "      <th>Year</th>\n",
              "    </tr>\n",
              "  </thead>\n",
              "  <tbody>\n",
              "    <tr>\n",
              "      <th>0</th>\n",
              "      <td>March</td>\n",
              "      <td>8</td>\n",
              "      <td>2015</td>\n",
              "    </tr>\n",
              "    <tr>\n",
              "      <th>1</th>\n",
              "      <td>March</td>\n",
              "      <td>15</td>\n",
              "      <td>2015</td>\n",
              "    </tr>\n",
              "    <tr>\n",
              "      <th>2</th>\n",
              "      <td>March</td>\n",
              "      <td>22</td>\n",
              "      <td>2015</td>\n",
              "    </tr>\n",
              "    <tr>\n",
              "      <th>3</th>\n",
              "      <td>March</td>\n",
              "      <td>29</td>\n",
              "      <td>2015</td>\n",
              "    </tr>\n",
              "    <tr>\n",
              "      <th>4</th>\n",
              "      <td>April</td>\n",
              "      <td>5</td>\n",
              "      <td>2015</td>\n",
              "    </tr>\n",
              "    <tr>\n",
              "      <th>5</th>\n",
              "      <td>April</td>\n",
              "      <td>12</td>\n",
              "      <td>2015</td>\n",
              "    </tr>\n",
              "    <tr>\n",
              "      <th>6</th>\n",
              "      <td>April</td>\n",
              "      <td>19</td>\n",
              "      <td>2015</td>\n",
              "    </tr>\n",
              "    <tr>\n",
              "      <th>7</th>\n",
              "      <td>April</td>\n",
              "      <td>26</td>\n",
              "      <td>2015</td>\n",
              "    </tr>\n",
              "    <tr>\n",
              "      <th>8</th>\n",
              "      <td>May</td>\n",
              "      <td>3</td>\n",
              "      <td>2015</td>\n",
              "    </tr>\n",
              "    <tr>\n",
              "      <th>9</th>\n",
              "      <td>May</td>\n",
              "      <td>10</td>\n",
              "      <td>2015</td>\n",
              "    </tr>\n",
              "    <tr>\n",
              "      <th>10</th>\n",
              "      <td>May</td>\n",
              "      <td>17</td>\n",
              "      <td>2015</td>\n",
              "    </tr>\n",
              "    <tr>\n",
              "      <th>11</th>\n",
              "      <td>May</td>\n",
              "      <td>24</td>\n",
              "      <td>2015</td>\n",
              "    </tr>\n",
              "    <tr>\n",
              "      <th>12</th>\n",
              "      <td>May</td>\n",
              "      <td>31</td>\n",
              "      <td>2015</td>\n",
              "    </tr>\n",
              "    <tr>\n",
              "      <th>13</th>\n",
              "      <td>June</td>\n",
              "      <td>7</td>\n",
              "      <td>2015</td>\n",
              "    </tr>\n",
              "    <tr>\n",
              "      <th>14</th>\n",
              "      <td>June</td>\n",
              "      <td>14</td>\n",
              "      <td>2015</td>\n",
              "    </tr>\n",
              "    <tr>\n",
              "      <th>15</th>\n",
              "      <td>June</td>\n",
              "      <td>21</td>\n",
              "      <td>2015</td>\n",
              "    </tr>\n",
              "    <tr>\n",
              "      <th>16</th>\n",
              "      <td>June</td>\n",
              "      <td>28</td>\n",
              "      <td>2015</td>\n",
              "    </tr>\n",
              "    <tr>\n",
              "      <th>17</th>\n",
              "      <td>July</td>\n",
              "      <td>5</td>\n",
              "      <td>2015</td>\n",
              "    </tr>\n",
              "    <tr>\n",
              "      <th>18</th>\n",
              "      <td>July</td>\n",
              "      <td>12</td>\n",
              "      <td>2015</td>\n",
              "    </tr>\n",
              "    <tr>\n",
              "      <th>19</th>\n",
              "      <td>July</td>\n",
              "      <td>19</td>\n",
              "      <td>2015</td>\n",
              "    </tr>\n",
              "  </tbody>\n",
              "</table>\n",
              "</div>"
            ],
            "text/plain": [
              "    Month Day  Year\n",
              "0   March   8  2015\n",
              "1   March  15  2015\n",
              "2   March  22  2015\n",
              "3   March  29  2015\n",
              "4   April   5  2015\n",
              "5   April  12  2015\n",
              "6   April  19  2015\n",
              "7   April  26  2015\n",
              "8     May   3  2015\n",
              "9     May  10  2015\n",
              "10    May  17  2015\n",
              "11    May  24  2015\n",
              "12    May  31  2015\n",
              "13   June   7  2015\n",
              "14   June  14  2015\n",
              "15   June  21  2015\n",
              "16   June  28  2015\n",
              "17   July   5  2015\n",
              "18   July  12  2015\n",
              "19   July  19  2015"
            ]
          },
          "metadata": {
            "tags": []
          },
          "execution_count": 42
        }
      ]
    },
    {
      "metadata": {
        "id": "s4Q0dgoe_uBW",
        "colab_type": "text"
      },
      "cell_type": "markdown",
      "source": [
        "# Part 2 - Bag of Words \n",
        "\n",
        "### Use the twitter sentiment analysis dataset found at this link for the remainder of the Sprint Challenge:\n",
        "\n",
        "[Twitter Sentiment Analysis Dataset](https://raw.githubusercontent.com/ryanleeallred/datasets/master/twitter_sentiment_binary.csv)\n",
        "\n",
        " ### Clean and tokenize the documents ensuring the following properties of the text:\n",
        "\n",
        "1) Text should be lowercase.\n",
        "\n",
        "2) Stopwords should be removed.\n",
        "\n",
        "3) Punctuation should be removed.\n",
        "\n",
        "4) Tweets should be tokenized at the word level. \n",
        "\n",
        "(The above don't necessarily need to be completed in that specific order.)\n",
        "\n",
        "### Output some cleaned tweets so that we can see that you made all of the above changes.\n"
      ]
    },
    {
      "metadata": {
        "id": "1xzdhyTS_3F9",
        "colab_type": "code",
        "colab": {
          "base_uri": "https://localhost:8080/",
          "height": 215
        },
        "outputId": "99fe83e1-bd70-42ee-ec52-b0933f1f4990"
      },
      "cell_type": "code",
      "source": [
        "import pandas as pd\n",
        "\n",
        "url = 'https://raw.githubusercontent.com/ryanleeallred/datasets/master/twitter_sentiment_binary.csv'\n",
        "df = pd.read_csv(url)\n",
        "print(df.shape)\n",
        "df.head()"
      ],
      "execution_count": 1,
      "outputs": [
        {
          "output_type": "stream",
          "text": [
            "(99989, 2)\n"
          ],
          "name": "stdout"
        },
        {
          "output_type": "execute_result",
          "data": {
            "text/html": [
              "<div>\n",
              "<style scoped>\n",
              "    .dataframe tbody tr th:only-of-type {\n",
              "        vertical-align: middle;\n",
              "    }\n",
              "\n",
              "    .dataframe tbody tr th {\n",
              "        vertical-align: top;\n",
              "    }\n",
              "\n",
              "    .dataframe thead th {\n",
              "        text-align: right;\n",
              "    }\n",
              "</style>\n",
              "<table border=\"1\" class=\"dataframe\">\n",
              "  <thead>\n",
              "    <tr style=\"text-align: right;\">\n",
              "      <th></th>\n",
              "      <th>Sentiment</th>\n",
              "      <th>SentimentText</th>\n",
              "    </tr>\n",
              "  </thead>\n",
              "  <tbody>\n",
              "    <tr>\n",
              "      <th>0</th>\n",
              "      <td>0</td>\n",
              "      <td>is so sad for my APL frie...</td>\n",
              "    </tr>\n",
              "    <tr>\n",
              "      <th>1</th>\n",
              "      <td>0</td>\n",
              "      <td>I missed the New Moon trail...</td>\n",
              "    </tr>\n",
              "    <tr>\n",
              "      <th>2</th>\n",
              "      <td>1</td>\n",
              "      <td>omg its already 7:30 :O</td>\n",
              "    </tr>\n",
              "    <tr>\n",
              "      <th>3</th>\n",
              "      <td>0</td>\n",
              "      <td>.. Omgaga. Im sooo  im gunna CRy. I'...</td>\n",
              "    </tr>\n",
              "    <tr>\n",
              "      <th>4</th>\n",
              "      <td>0</td>\n",
              "      <td>i think mi bf is cheating on me!!!   ...</td>\n",
              "    </tr>\n",
              "  </tbody>\n",
              "</table>\n",
              "</div>"
            ],
            "text/plain": [
              "   Sentiment                                      SentimentText\n",
              "0          0                       is so sad for my APL frie...\n",
              "1          0                     I missed the New Moon trail...\n",
              "2          1                            omg its already 7:30 :O\n",
              "3          0            .. Omgaga. Im sooo  im gunna CRy. I'...\n",
              "4          0           i think mi bf is cheating on me!!!   ..."
            ]
          },
          "metadata": {
            "tags": []
          },
          "execution_count": 1
        }
      ]
    },
    {
      "metadata": {
        "id": "LJSFnDd-NEwx",
        "colab_type": "code",
        "colab": {
          "base_uri": "https://localhost:8080/",
          "height": 68
        },
        "outputId": "7b9b8baa-d008-4943-bb10-c45580dcdffe"
      },
      "cell_type": "code",
      "source": [
        "df.Sentiment.value_counts()"
      ],
      "execution_count": 46,
      "outputs": [
        {
          "output_type": "execute_result",
          "data": {
            "text/plain": [
              "1    56457\n",
              "0    43532\n",
              "Name: Sentiment, dtype: int64"
            ]
          },
          "metadata": {
            "tags": []
          },
          "execution_count": 46
        }
      ]
    },
    {
      "metadata": {
        "id": "mk0fB10ANEV4",
        "colab_type": "code",
        "colab": {
          "base_uri": "https://localhost:8080/",
          "height": 68
        },
        "outputId": "0d714b5d-7dd2-445b-9871-bf600e1f7613"
      },
      "cell_type": "code",
      "source": [
        "!pip install -U nltk"
      ],
      "execution_count": 50,
      "outputs": [
        {
          "output_type": "stream",
          "text": [
            "Requirement already up-to-date: nltk in /usr/local/lib/python3.6/dist-packages (3.4)\n",
            "Requirement already satisfied, skipping upgrade: six in /usr/local/lib/python3.6/dist-packages (from nltk) (1.11.0)\n",
            "Requirement already satisfied, skipping upgrade: singledispatch in /usr/local/lib/python3.6/dist-packages (from nltk) (3.4.0.3)\n"
          ],
          "name": "stdout"
        }
      ]
    },
    {
      "metadata": {
        "id": "Rkk7myQVPWRD",
        "colab_type": "code",
        "colab": {
          "base_uri": "https://localhost:8080/",
          "height": 103
        },
        "outputId": "bc8cdac3-bf1f-41c3-f12b-230882f6e41b"
      },
      "cell_type": "code",
      "source": [
        "import nltk\n",
        "nltk.download('stopwords')\n",
        "nltk.download('punkt')"
      ],
      "execution_count": 2,
      "outputs": [
        {
          "output_type": "stream",
          "text": [
            "[nltk_data] Downloading package stopwords to /root/nltk_data...\n",
            "[nltk_data]   Package stopwords is already up-to-date!\n",
            "[nltk_data] Downloading package punkt to /root/nltk_data...\n",
            "[nltk_data]   Package punkt is already up-to-date!\n"
          ],
          "name": "stderr"
        },
        {
          "output_type": "execute_result",
          "data": {
            "text/plain": [
              "True"
            ]
          },
          "metadata": {
            "tags": []
          },
          "execution_count": 2
        }
      ]
    },
    {
      "metadata": {
        "id": "-RzWvSTWNkpZ",
        "colab_type": "code",
        "colab": {
          "base_uri": "https://localhost:8080/",
          "height": 34
        },
        "outputId": "0bc2ca4f-3dc9-4306-fb8a-66767cc38327"
      },
      "cell_type": "code",
      "source": [
        "import string\n",
        "from nltk.corpus import stopwords\n",
        "from nltk.tokenize import sent_tokenize # Sentence Tokenizer\n",
        "from nltk.tokenize import word_tokenize # Word Tokenizer\n",
        "from nltk.stem.wordnet import WordNetLemmatizer\n",
        "\n",
        "\n",
        "s_text = df.SentimentText\n",
        "\n",
        "\n",
        "table = str.maketrans('', '', string.punctuation)\n",
        "stop_words = set(stopwords.words('english'))\n",
        "lemmatizer = WordNetLemmatizer()\n",
        "cleaned_listings = []\n",
        "\n",
        "for listing in s_text:\n",
        "\n",
        "    no_punctuation = listing.translate(table)\n",
        "\n",
        "    tokens = word_tokenize(no_punctuation)\n",
        "\n",
        "    lowercase_tokens = [w.lower() for w in tokens]\n",
        "    \n",
        "    #lowercase_tokens = [w.lower() for w in no_punctuation]\n",
        "    alphabetic = [w for w in lowercase_tokens if w.isalpha()]\n",
        "\n",
        "    words = [w for w in alphabetic if not w in stop_words]\n",
        "\n",
        "    #lemmas = [lemmatizer.lemmatize(w) for w in words]\n",
        "\n",
        "    cleaned_listings.append(words)\n",
        "\n",
        "len(cleaned_listings)"
      ],
      "execution_count": 3,
      "outputs": [
        {
          "output_type": "execute_result",
          "data": {
            "text/plain": [
              "99989"
            ]
          },
          "metadata": {
            "tags": []
          },
          "execution_count": 3
        }
      ]
    },
    {
      "metadata": {
        "id": "cjVBiEZqPnQW",
        "colab_type": "code",
        "colab": {
          "base_uri": "https://localhost:8080/",
          "height": 308
        },
        "outputId": "48d34994-f4a2-4f2a-fde6-cc641e32b558"
      },
      "cell_type": "code",
      "source": [
        "cleaned_listings[0:5]"
      ],
      "execution_count": 76,
      "outputs": [
        {
          "output_type": "execute_result",
          "data": {
            "text/plain": [
              "[['sad', 'apl', 'friend'],\n",
              " ['missed', 'new', 'moon', 'trailer'],\n",
              " ['omg', 'already'],\n",
              " ['omgaga',\n",
              "  'im',\n",
              "  'sooo',\n",
              "  'im',\n",
              "  'gunna',\n",
              "  'cry',\n",
              "  'ive',\n",
              "  'dentist',\n",
              "  'since',\n",
              "  'suposed',\n",
              "  'get',\n",
              "  'crown',\n",
              "  'put'],\n",
              " ['think', 'mi', 'bf', 'cheating', 'tt']]"
            ]
          },
          "metadata": {
            "tags": []
          },
          "execution_count": 76
        }
      ]
    },
    {
      "metadata": {
        "id": "Q764vszGqiUh",
        "colab_type": "text"
      },
      "cell_type": "markdown",
      "source": [
        "### How should TF-IDF scores be interpreted? How are they calculated?"
      ]
    },
    {
      "metadata": {
        "id": "e2Ji7BMhqs3M",
        "colab_type": "text"
      },
      "cell_type": "markdown",
      "source": [
        "TF-IDF focus more on term frequency rather than on counting keywords.\n",
        "\n",
        "TF-IDF is an information retrieval technique that weighs a term’s frequency (TF) and its inverse document frequency (IDF). Each word or term has its respective TF and IDF score. The product of the TF and IDF scores of a term is called the TF-IDF weight of that term.\n",
        "\n",
        "Hence a higher term frequency will incur higher penalty than lower term frequency.\n"
      ]
    },
    {
      "metadata": {
        "id": "3iUeBKtG_uEK",
        "colab_type": "text"
      },
      "cell_type": "markdown",
      "source": [
        "# Part 3 - Document Classification\n",
        "\n",
        "1) Use Train_Test_Split to create train and test datasets.\n",
        "\n",
        "2) Vectorize the tokenized documents using your choice of vectorization method. \n",
        "\n",
        " - Stretch goal: Use both of the methods that we talked about in class.\n",
        "\n",
        "3) Create a vocabulary using the X_train dataset and transform both your X_train and X_test data using that vocabulary.\n",
        "\n",
        "4) Use your choice of binary classification algorithm to train and evaluate your model's accuracy. Report both train and test accuracies.\n",
        "\n",
        " - Stretch goal: Use an error metric other than accuracy and implement/evaluate multiple classifiers.\n",
        "\n"
      ]
    },
    {
      "metadata": {
        "id": "A7pYgQ37SiRe",
        "colab_type": "code",
        "colab": {}
      },
      "cell_type": "code",
      "source": [
        "from sklearn.model_selection import train_test_split\n",
        "\n",
        "X = df.SentimentText[:1000]\n",
        "y = df.Sentiment[:1000]\n",
        "\n",
        "X_train, X_test, y_train, y_test = train_test_split(X, y, test_size=0.2, random_state=42)"
      ],
      "execution_count": 0,
      "outputs": []
    },
    {
      "metadata": {
        "id": "8zi4GmmHTUZn",
        "colab_type": "code",
        "colab": {
          "base_uri": "https://localhost:8080/",
          "height": 54
        },
        "outputId": "0e59231c-87d7-4bc7-aac2-de82fd9382f9"
      },
      "cell_type": "code",
      "source": [
        "from sklearn.feature_extraction.text import CountVectorizer\n",
        "\n",
        "vectorizer = CountVectorizer(max_features=None, ngram_range=(1,1), stop_words='english')\n",
        "\n",
        "vectorizer.fit(X_train)\n",
        "\n",
        "print(vectorizer.vocabulary_)"
      ],
      "execution_count": 4,
      "outputs": [
        {
          "output_type": "stream",
          "text": [
            "{'didn': 763, 'realize': 2041, 'deep': 729, 'geez': 1060, 'girl': 1078, 'warning': 2630, 'atleast': 231, 'ass': 222, 'beatings': 312, 'checked': 533, 'playhouse': 1933, 'baltimore': 279, 'weekend': 2651, 'feeling': 957, 'quite': 2014, 'rested': 2068, 'bit': 346, 'sorts': 2278, 'achaoticbeauty': 118, 'thelovelybones': 2444, 'plan': 1928, 'owning': 1853, 'donâ': 801, 'judge': 1375, 'http': 1253, 'tumblr': 2535, 'com': 586, 'xr0238tmq': 2733, 'crap': 652, 'day': 713, 'tat': 2404, 'craper': 653, 'awake': 245, 'finally': 973, 'random': 2027, 'dream': 808, 'penguin': 1892, 'lived': 1504, 'jersey': 1345, 'oddly': 1814, 'icecream': 1275, 'store': 2333, 'lolz': 1520, 'hot': 1244, 'choco': 556, 'best': 332, 'elise': 858, 'melanie': 1614, 'shiz': 2206, 'anticipating': 188, 'tough': 2508, 'ahead': 133, 'cold': 584, 'despite': 752, 'heater': 1190, 'weirdly': 2656, 'actually': 121, 'today': 2493, 'love': 1541, 'guys': 1143, 'hurts': 1264, 'xkh1z19us': 2727, 'quot': 2018, 'unknown': 2569, 'error': 888, 'occured': 1813, 'uh': 2560, 'oh': 1818, 'iphone': 1315, 'os': 1845, 'fail': 930, 'far': 941, 'catch': 498, 'reflection': 2053, 'amp': 174, 'think': 2453, 'cool': 628, 'son': 2266, 'tch': 2410, 'days': 715, 'come': 588, 'manchester': 1580, 'england': 875, 'id': 1277, 'meet': 1611, 'did': 762, 'fun': 1040, 'germany': 1068, 'beautiful': 314, 'xx': 2738, 'giving': 1081, 'don': 798, 'care': 488, 'mess': 1624, 'life': 1480, 'gt': 1132, 'bodies': 375, 'air': 146, 'france': 1014, 'crash': 654, 'twurl': 2551, 'nl': 1784, 'dvu8be': 834, 'paisano': 1864, 'exited': 908, 'just': 1381, 'bought': 397, 'oreos': 1841, 'hope': 1234, 'likes': 1486, 'went': 2659, 'home': 1228, 'cmf': 579, 'lt': 1548, 'dont': 799, 'wanna': 2622, 'leave': 1466, 'ny': 1806, 'alllllan': 161, 'ruins': 2111, 'lifeeee': 1481, 'ughhhhhhhhhhhhhhhhhhhhhhhhhhhhh': 2558, 'does': 791, 'means': 1606, '__cheer': 108, 'emo': 867, 'kid': 1405, 'year': 2751, 'lakers': 1445, 'magic': 1567, 'littlecharva': 1502, 'voice': 2611, 'control': 625, 'making': 1573, 'want': 2623, '3gs': 64, '02': 1, 'charge': 522, 'fortune': 1008, '3g': 63, 'contract': 624, 'til': 2478, 'april': 202, 'omg': 1828, '30': 54, 'myspace': 1730, 'people': 1895, 'really': 2043, 'angry': 180, 'answer': 184, 'right': 2080, 'away': 248, 'ja': 1335, 'll': 1510, 'working': 2700, 'pottercast': 1968, 'lupins': 1552, 'willows': 2672, 'near': 1751, 'phillmason': 1901, 'philoscribe': 1902, 'thank': 2434, 'genuinely': 1066, 'grateful': 1122, 'french': 1019, 'lost': 1537, 'fb': 949, 'excited': 902, 'expression': 921, 'watching': 2636, 'tinyurl': 2483, 'eqbwe': 885, 'horsie': 1241, 'moving': 1707, 'saturday': 2136, 'morning': 1691, 'miss': 1656, 'wearing': 2643, 'skinny': 2240, 'jeans': 1342, 'cute': 676, 'sweater': 2382, 'heels': 1193, 'sure': 2374, 'doing': 796, 'msnovember': 1714, 'shame': 2190, 'women': 2685, 'mamma': 1577, 'mia': 1633, 'horny': 1238, 'men': 1620, 'island': 1324, 'tr': 2512, 'im': 1288, 'kmet': 1416, 'taylorswift13': 2408, 'didnt': 764, 'win': 2674, 'award': 246, 'nominated': 1789, 'shes': 2201, 'tied': 2473, 'nominations': 1790, 'dandelionas': 695, 'fettucini': 966, 'garlic': 1051, 'bread': 412, 'noooooooooo': 1794, 'friends': 1026, 'twitter': 2549, 'makes': 1572, 'sad': 2120, 'follow': 995, 'omgaga': 1829, 'sooo': 2272, 'gunna': 1139, 've': 2598, 'dentist': 741, '11': 10, 'suposed': 2372, 'crown': 667, '30mins': 56, 'hawaiibuzz': 1179, 'yes': 2756, 'lol': 1518, 'luv': 1555, 'djdolcevita': 787, 'like': 1484, 'gentle': 1065, 'breeze': 417, 'blown': 370, 'throug': 2462, 'blip': 367, 'fm': 992, '7s7mn': 104, 'great': 1123, 'bored': 388, 'moment': 1677, 'idea': 1279, 'missing': 1658, 'boyfie': 401, 'damn': 690, 'iâ': 1332, 'xzp224xgj': 2743, 'boyfriend': 402, 'summer': 2363, 'battleground': 298, 'whats': 2662, 'status': 2316, 'good': 1098, 'nite': 1780, 'grandma': 1120, 'visits': 2610, 'dreams': 811, 'tonight': 2501, 'night': 1776, 'uplifting': 2576, 'miley': 1643, 'tour': 2509, 'australia': 239, 'finding': 976, 'intercept': 1309, 'slope': 2250, 'banging': 284, 'head': 1181, 'wall': 2620, 'math': 1592, 'brain': 410, 'heads': 1184, 'save': 2138, 'lazzzzyyyy': 1459, 'happier': 1162, 'walls': 2621, 'bedroom': 322, 'painted': 1862, 'white': 2664, 'way': 2640, 'make': 1571, 'private': 1991, 'woot': 2695, 'okay': 1823, 'pretty': 1987, 'shy': 2221, 'libraritarian59': 1479, 'donutspy': 800, 'isn': 1325, 'link': 1491, 'exit': 907, 'cessna': 512, '206': 37, 'skydiving': 2243, 'ly': 1559, '16zzj7': 27, 'poor': 1949, 'lil': 1487, 'mousey': 1702, 'enjoying': 878, 'sunny': 2368, 'feel': 955, 'bad': 267, 'big': 340, 'gnarly': 1087, 'rat': 2030, 'dbl': 717, 'standard': 2303, 'yep': 2755, 'crying': 669, 'sore': 2275, 'throat': 2461, 'ecl': 847, 'try': 2533, 'cram': 649, 'organic': 1842, 'chemistry': 540, 'final': 971, 'tomorrow': 2499, 'ugh': 2556, 'everton': 895, 'worry': 2705, 'noooo': 1793, 'things': 2452, 'complicated': 604, 'spelt': 2292, 'wrong': 2714, 'idc': 1278, 'ah': 132, 'postman': 1964, 'package': 1858, 'goon': 1105, 'rest': 2067, 'new': 1765, 'car': 486, 'stolen': 2329, 'mother': 1695, 'wanted': 2624, 'pose': 1960, 'church': 560, 'guyssss': 1144, 'rings': 2082, 'mmmyeahh': 1669, 'bling': 365, 'blingg': 366, 'ignore': 1283, 'smell': 2254, 'sizzling': 2238, 'skin': 2239, 'sitting': 2237, 'sun': 2366, 'eatting': 846, 'popcorn': 1951, 'getting': 1071, 'better': 335, 'sirkenrobinson': 2233, 'creativity': 659, 'hvths': 1269, 'lot': 1539, 'slashhudson': 2244, 'tease': 2417, 'hear': 1186, 'tracks': 2515, 'anoron': 183, 'reedcourty': 2050, 'operaunite': 1836, 'webserver': 2646, 'content': 622, 'sch': 2147, 'alternatã': 165, 'va': 2593, 'knw': 1422, 'whyy': 2668, 'netfart': 1764, 'opposite': 1839, 'fed': 951, 'julian': 1376, 'hmmmm': 1220, 'wonder': 2689, 'number': 1804, 'dreamingspires': 810, 'gr8': 1113, 'science': 2150, 'cartoons': 494, '6ew4q': 89, 'gxh3q': 1146, '18sjxi': 30, 'keay2': 1397, 'genetics': 1064, '75': 96, 'gpa': 1112, 'sucks': 2359, 'got': 1109, '79': 99, 'class': 567, '80': 105, 'wish': 2679, 't4': 2393, 'beach': 306, 'shontelle_layne': 2209, 'danmerriweather': 697, 'nambu': 1740, 'sending': 2167, 'tweets': 2544, 'account': 117, 'selected': 2162, 'chris': 558, 'brown': 431, 'honestly': 1233, 'rihanna': 2081, 'anyways': 194, 'nd': 1749, 'burnt': 450, 'tongue': 2500, 'chocolate': 557, 'downside': 807, 'practising': 1978, 'hell': 1196, 'bbc': 301, 'joaoqalves': 1352, 'talvez': 2401, 'seja': 2161, 'ãªnfase': 2781, 'na': 1737, 'cifra': 562, 'mas': 1589, 'atenã': 228, 'security': 2158, 'chain': 514, 'strong': 2345, 'weakest': 2642, 'wide': 2669, 'school': 2149, 'xxx': 2740, 'standing_stones': 2305, 'dvd': 832, 'suggestion': 2361, 'nice': 1774, 'looks': 1529, 'bone': 378, 'chicken': 544, 'nugget': 1803, 'mgph3nom': 1629, 'chilling': 553, 'spanking': 2285, 'blackberry': 354, 'unlimited': 2571, 'internet': 1312, 'mzvc': 1733, 'hollywood': 1225, 'video': 2605, 'frequent': 1020, 'model': 1671, 'ing': 1302, 'fact': 929, 'closed': 574, 'cancels': 476, 'super': 2370, 'cheap': 530, 'dvds': 833, 'ferrets': 965, 'cooler': 629, 'fishes': 980, 'bummed': 445, 'bb': 299, 'kris': 1429, 'comcast': 587, 'chat': 528, 'stupid': 2353, 'responsibilities': 2066, 'coming': 593, 'xox': 2730, 'looking': 1528, 'forward': 1010, 'cheered': 534, 'mind': 1647, '311': 57, 'kind': 1410, 'ticket': 2471, 'sale': 2129, 'airport': 147, 'express': 920, 'doesn': 792, 'rock': 2094, 'allow': 162, 'wireless': 2678, 'scanning': 2143, 'canon': 480, 'pixma': 1923, 'mx310': 1725, 'goodness': 1101, 'famed': 937, 'michigan': 1637, 'bookstore': 381, 'close': 573, 'doors': 804, 'mavrev': 1597, 'bc7v': 303, 'dying': 838, 'horrible': 1240, 'work': 2699, 'tv': 2539, 'sigh': 2224, 'stalker': 2302, 'divorce': 785, 'trinity': 2526, 'shock': 2207, 'loss': 1536, 'sparks': 2287, 'bummer': 446, 'tmmcwilliams': 2491, 'game': 1049, 'injuries': 1303, 'start': 2309, 'season': 2157, 'rematch': 2060, 'monday': 1679, 'irissa': 1319, 'xpn1wrj48': 2732, 'feelin': 956, 'happy': 1164, 'cars': 493, 'inspected': 1307, 'gonna': 1097, 'cost': 639, '600': 84, 'dollars': 797, 'mizz_bliz': 1663, 'slept': 2249, 'late': 1454, 'mhmm': 1631, 'hype': 1270, 'country': 642, 'weeks': 2653, 'managed': 1579, 'check': 532, 'euromillions': 892, 'results': 2069, '½89': 2777, 'million': 1644, 'afraid': 130, 'gotta': 1111, 'guess': 1135, 'asking': 218, 'ball': 278, 'cheezburger': 539, 'tw': 2540, 'v7': 2592, '20659': 38, 'failing': 932, 'betseyjohnson': 334, 'necklace': 1753, '150': 25, 'usual': 2588, '50': 78, '60': 83, 'twitpic': 2547, '6ioi8': 91, 'attempting': 233, 'cate': 499, 'talk': 2398, 'carole29': 490, 'coz': 646, 'wednesday': 2648, 'paradise': 1873, 'feels': 958, 'going': 1092, 'explode': 918, 'mmm': 1667, 'horrendous': 1239, 'image': 1290, 'michaelsarver': 1636, 'inch': 1298, 'sickness': 2223, 'strike': 2344, 'say': 2140, 'ohhhh': 1819, 'nother': 1802, 'sniffles': 2259, 'fucking': 1038, 'house': 1249, 'aw': 244, 'power': 1972, 'gone': 1096, 'dark': 703, 'puurfect': 2009, 'jonasbrothers': 1368, 'youtube': 2763, 'suspended': 2377, 'single': 2232, 'ladies': 1439, 'dance': 693, 'need': 1755, 'watch': 2634, 'slow': 2251, 'tix': 2486, 'truth': 2532, 'coldplay': 585, 'computer': 606, 'ill': 1284, 'fuckin': 1037, 'goin': 1091, 'portugal': 1959, 'summertime': 2365, 'dj': 786, 'jazzy': 1340, 'jeff': 1343, 'fresh': 1021, 'prince': 1989, 'misterdjin': 1662, 'saw': 2139, 'dd': 720, 'pinkeye': 1921, 'face': 927, 'zoro': 2774, 'forgot': 1006, 'mail': 1568, 'typical': 2554, 'buy': 458, 'sims': 2231, 'sold': 2264, 'wtf': 2716, 'haha': 1149, 'poemsunder140': 1941, 'started': 2310, 'shannonelyse1': 2192, 'blackswan2': 355, '7d1qo': 100, 'maths': 1594, 'knew': 1418, 'becuz': 320, 'exam': 899, 'commission': 598, 'apl': 195, 'friend': 1024, 'know': 1420, 'canuckgrrrl': 482, 'seeing': 2159, 'guy': 1142, 'dressed': 812, 'banana': 280, 'totally': 2507, 'phallic': 1900, 'symbol': 2391, 'ftw': 1033, 'mvtm': 1723, 'tickets': 2472, 'cyrus': 679, 'dayngr': 714, 'tweetwrath': 2545, 'coined': 583, 'word': 2697, 'dictionary': 761, 'nyyv': 1809, 'mom': 1675, 'funniest': 1042, 'person': 1897, 'allison': 160, 'gb': 1057, 'upload': 2577, 'utube': 2589, 'dam': 687, 'sony': 2269, 'vegas': 2599, 'picky': 1913, 'mean': 1604, 'hours': 1248, 'dice': 760, 'whatï': 2663, '½s': 2779, 'xsg1m3ufn': 2734, 'xxkirahxx': 2739, 'fulfilling': 1039, 'ambition': 170, 'jonas': 1367, 'brothers': 429, 'concert': 608, 'hmv': 1221, 'album': 151, 'nasty': 1745, 'studio': 2350, 'woman': 2684, 'sleepies': 2247, 'amazing': 168, 'bjork': 352, 'bachelorette': 263, '4lfyi': 75, 'pan1f': 1868, 'oregonmjw': 1840, 'difference': 767, 'long': 1522, 'time': 2480, 'njoo': 1782, 'fedex': 952, 'kicked': 1404, 'open': 1835, 'adbert': 123, 'woody': 2692, 'woodpecker': 2690, 'barber': 288, 'seville': 2180, 'klitoria': 1415, 'wishing': 2681, 'ch': 513, '7g6r0': 102, 'storms': 2334, 'scary': 2146, 'wasn': 2632, 'black': 353, 'sleek': 2245, 'u2': 2555, 'fix': 981, 'canucks': 483, '3turnoffwords': 68, 'shit': 2205, 'pain': 1860, 'everythings': 897, 'tiger': 2474, 'woods': 2691, '2at': 48, '18': 29, 'nascar': 1744, 'racebuddy': 2022, 'driving': 818, 'mad': 1564, 'insist': 1306, 'talking': 2400, 'politics': 1945, 'comments': 594, 'bubblegum': 437, 'pop': 1950, 'song': 2267, 'sorry': 2276, 'ljgec2': 1508, 'susan': 2376, 'boyle': 404, 'mh': 1630, 'diversity': 784, 'congratz': 617, 'said': 2127, 'complain': 600, 'oneâ': 1832, 'business': 453, 'x6n25amd5': 2720, 'happiness': 1163, 'confusing': 615, 'goodbye': 1100, 'exams': 900, 'hello': 1198, 'alcohol': 152, 'lushone': 1554, 'toolio': 2504, 'court': 644, '24th': 43, 'danregal': 700, 'tell': 2420, 'pfont': 1899, 'bday': 305, 'thediamondcoach': 2441, 'devstateddd': 755, 'silly': 2229, 'deleted': 736, 'jailbreak': 1336, 'stuff': 2351, 'thats': 2437, '25': 44, 'apps': 201, 'bueno': 439, 'bye': 461, 'breegeek': 416, 'replacement': 2064, '4me': 76, 'pay': 1889, 'won': 2688, 'let': 1475, 'hang': 1157, 'vandals': 2597, 'paint': 1861, 'swastikas': 2380, 'author': 241, 'gay': 1056, 'lesbian': 1472, 'story': 2335, 'naples': 1743, 'daily': 683, 'news': 1767, '11zyzl': 15, 'hi': 1205, 'twits': 2548, 'juuuuuuuuuuuuuuuuussssst': 1382, 'chillin': 552, 'billyraycyrus': 342, 'oi': 1820, 'daughter': 708, 'lower': 1546, 'prices': 1988, 'afford': 128, 'london': 1521, 'sister': 2235, 'cried': 665, 'wht': 2667, 'downloaded': 806, 'movie': 1705, 'yesterday': 2757, 'having': 1178, 'problem': 1993, 'thnk': 2457, 'deserve': 747, 'wait': 2616, 'hills': 1213, 'finale': 972, '10': 4, 'uk': 2561, 'female': 962, 'entrepreneur': 880, 'starting': 2311, 'growing': 1129, 'boro': 391, 'tight': 2477, 'plmusic22': 1937, 'leloz': 1470, 'sozi1': 2282, 'althani96': 166, 'alergic': 153, 'nose': 1800, 'itchy': 1328, 'eyes': 925, 'burning': 448, 'soon': 2271, 'asylm': 227, 'j2': 1334, 'panel': 1869, 'normal': 1796, 'mosquito': 1694, 'bite': 349, 'tend': 2427, 'swollen': 2389, 'red': 2048, 'distracting': 783, 'caffeine': 465, 'mgapmp': 1628, 'johncmayer': 1360, 'laker': 1444, 'fans': 940, 'ange_black': 177, 'sween': 2383, 'dibs': 759, 'voltron': 2612, 'arm': 208, 'leg': 1469, 'manners': 1582, 'baileygenine': 275, 'oery': 1815, 'wrote': 2715, 'week': 2650, 'york': 2762, 'office': 1816, 'xcn21w6o7': 2724, 'aimee_b_loved': 143, 'connection': 618, 'paul': 1887, 'reubens': 2070, 'reason': 2046, 'theater': 2440, 'fl': 983, 'nfko': 1768, 'sannesias': 2133, 'aww': 252, 'neighbor': 1760, 'girls': 1079, 'xv31s2pi8': 2735, 'leaving': 1467, 'cause': 502, 'zoxzc': 2775, 'footwear': 1003, 'labeling': 1437, 'norm': 1795, 'definitions': 733, 'referred': 2051, 'document': 790, 'ya': 2744, 'yummy': 2767, 'decided': 727, 'hunt': 1263, 'blender': 362, 'drinks': 816, 'ones': 1830, 'fontenot619': 1001, 'hey': 1204, 'poisongirl10': 1944, 'summerblonde83': 2364, 'thx': 2468, 'nic0pic0': 1773, 'hehehe': 1195, 'yw': 2769, 'sevgli': 2179, 'yeah': 2749, 'fuck': 1036, 'money': 1681, 'running': 2114, 'jobs': 1354, 'headed': 1182, 'hospitol': 1242, 'pull': 2005, 'golf': 1093, 'tourny': 2510, '3rd': 66, 'place': 1926, 'ripped': 2085, 'ahhh': 135, 'drizzy': 820, 'mr': 1710, 'rogers': 2095, 'server': 2175, 'problems': 1994, 'motivating': 1698, 'change': 518, 'hosting': 1243, 'providers': 2001, 'camera': 473, 'broke': 425, 'bcd': 304, 'nodaji': 1786, 'aaronxnow': 112, 'room': 2100, 'bubu': 438, 'msg': 1713, 'hapnin': 1160, 'universe': 2567, 'mxit': 1726, 'rinitis': 2083, 'bathroom': 295, 'clean': 568, 'enjoyable': 877, 'tasks': 2403, 'farrah': 942, 'fawcett': 948, 'dies': 766, 'cancer': 477, '62': 85, 'abc': 113, 'akqld': 148, 'turner': 2538, 'emotional': 868, 'mp3jackson': 1709, 'upset': 2581, 'effort': 853, 'bring': 421, 'added': 125, 'lease': 1465, 'release': 2057, 'digital': 769, 'rapture': 2029, 'certification': 511, 'test': 2430, 'byyeee': 463, 'ily2': 1286, 'jamarcusssssss': 1338, 'suzumiya': 2378, 'haruhi': 1169, 'yuuutsu': 2768, 'cookies': 627, '18xobk': 31, 'locations': 1514, 'visit': 2608, 'em': 864, 'inside': 1305, 'edition': 850, 'patrol': 1886, 'dcist': 719, 'seen': 2160, 'bits': 350, 'pieces': 1917, 'shottas': 2213, 'ends': 874, 'sooooo': 2274, 'huge': 1255, 'roll': 2097, 'thunder': 2466, 'rid': 2077, 'feeding': 953, 'pig': 1918, 'followfriday': 997, 'n3rin3': 1735, 'jurgenphoto': 1379, 'shaneaddinall': 2191, 'robi27': 2091, 'dannyvan': 699, 'byronrode': 462, 'tattood1': 2405, 'hungover': 1261, 'craving': 656, 'funny': 1043, 'pub': 2002, 'idk': 1280, 'wat': 2633, 'trust': 2531, 'da': 680, 'caused': 503, 'nebody': 1752, 'ima': 1289, 'dis': 776, 'straighten': 2338, 'yall': 2745, 'ughhh': 2557, 'man': 1578, 'worth': 2708, 'tears': 2416, 'ben': 329, 'jerrys': 1344, 'cake': 467, 'batter': 297, 'awwwww': 254, 'hate': 1172, 'picture': 1914, 'karmada': 1390, 'forever': 1005, 'mysapce': 1729, 'xzg1wy4jj': 2742, 'batt': 296, 'died': 765, 'mobile': 1670, 'sucked': 2357, 'alexrauchman': 154, 'staying': 2320, 'drexel': 813, 'fabulous': 926, 'university': 2568, 'proud': 2000, 'kn': 1417, 'hannahradford': 1159, 'taking': 2396, 'lunch': 1551, 'bank': 285, 'negative': 1758, '118': 12, 'lolife4life': 1519, 'tonite': 2502, 'trackle': 2514, 'tommcfly': 2498, 'ur': 2583, 'mk': 1665, 'gona': 1095, 'hugs': 1256, 'liam': 1478, 'ok': 1822, 'asleep': 219, 'gathered': 1054, 'burns': 449, 'fingers': 978, 'left': 1468, 'spark': 2286, 'photo': 1906, 'space': 2283, 'apparently': 198, 'build': 442, 'gm': 1085, 'meaning': 1605, 'likely': 1485, 'minute': 1651, 'issues': 1327, 'mlia': 1666, 'death': 724, 'awesome': 249, 'comic': 591, 'certifiably': 510, 'sane': 2132, 'taylorrhicks': 2407, 'enjoy': 876, 'chicago': 543, 'venue': 2601, 'shine': 2202, 'ignorantsheep': 1282, 'babbbbbbbbyy': 260, 'missed': 1657, 'argh': 206, 'speakers': 2290, 'macbook': 1562, 'screwing': 2154, 'slowly': 2252, 'demonicturtle': 739, 'text': 2432, 'quizzage': 2016, 'weselec': 2660, 'avatar': 243, 'figure': 970, 'jj70': 1350, 'worse': 2706, 'family': 938, 'sis': 2234, 'brave': 411, 'prayers': 1981, 'jessdelight': 1346, 'lmao': 1511, 'liveguy': 1505, 'doctors': 789, 'duo': 829, 'hasn': 1170, 'breakfast': 414, 'passed': 1882, '70': 95, '542': 79, 'a_': 111, 'handshake': 1156, 'meeting': 1612, 'vibe': 2604, 'pizza': 1924, 'explains': 917, 'alot': 163, 'coffee': 582, 'sylvanus': 2390, 'boss': 393, 'spazzing': 2288, 'shoot': 2210, 'flat': 984, 'theiancrawford': 2443, 'longer': 1523, 'cab': 464, 'heartbroken': 1189, 'understatement': 2563, 'luck': 1549, 'ian': 1274, 'probably': 1992, 'guna': 1138, 'talkin': 2399, 'heathers': 1191, 'sequel': 2170, 'winona4ever': 2677, 'advice': 127, 'cope': 631, 'break': 413, 'jus': 1380, 'confirmed': 613, 'flight': 986, '447': 71, 'crashed': 655, 'atlanticâ': 230, 'bxdvl': 460, 'dog': 794, 'riding': 2079, 'bicycle': 338, 'gvmzd': 1145, 'smile': 2257, 'cuz': 677, 'expensive': 912, 'repairs': 2062, 'jin': 1349, 'really2': 2044, 'condition': 609, 'sucksssssss': 2360, 'beat': 310, 'finals': 974, 'cup': 671, 'chealea': 529, 'played': 1932, 'failed': 931, 'inspection': 1308, 'pass': 1881, 'wo': 2683, 'oven': 1850, 'anti': 186, 'tip': 2484, 'bracket': 408, 'taxes': 2406, 'baby': 262, 'sewing': 2181, '10pm': 9, 'eating': 845, 'little': 1501, 'dinner': 772, 'loads': 1513, 'b4': 259, 'toodles': 2503, 'lufflies': 1550, '2day': 49, 'broken': 426, 'glasses': 1084, 'rainy': 2026, 'weather': 2644, 'uof': 2573, 'longest': 1524, 'xwp1yxhi6': 2737, 'thanks': 2435, 'haters': 1174, '112': 11, '102': 7, 'zochula': 2772, 'yelled': 2754, 'picking': 1912, 'apple': 200, 'food': 1002, 'parents': 1876, 'cornell': 636, 'yippeeeee': 2760, 'yay': 2747, 'lets': 1476, 'gather': 1053, 'hay': 1180, 'boy': 400, 'stay': 2318, 'master': 1591, 'holy': 1226, 'turn': 2537, 'north': 1798, 'body': 376, 'line': 1488, 'design': 748, 'council': 641, 'tech': 2418, 'transfer': 2521, 'event': 894, 'pxrzv': 2010, 'help': 1200, 'believe': 325, 'came': 472, 'believing': 326, 'god': 1088, 'elysianfieldz': 862, 'elysianfieldzaj': 863, 'ron_no4lyfe': 2098, '_etj': 109, 'road': 2089, 'plusisaplus': 1940, 'nola': 1788, 'hungry': 1262, 'no1': 1785, 'eat': 844, '6ikhd': 90, 'eightythreekid': 854, 'bae': 271, 'kno': 1419, 'grindin': 1126, 'swear': 2381, 'needa': 1756, 'artbook': 215, 'construction': 620, 'paper': 1872, 'pavel': 1888, 'tigersfan': 2476, 'thestreetforce': 2447, 'rlly': 2087, 'tht': 2464, 'abt': 115, 'fonebook': 1000, 'tired': 2485, 'till': 2479, 'wwe': 2718, 'burswood': 452, 'ending': 873, 'arguing': 207, 'huz': 1268, 'smf': 2255, 'improvement': 1295, 'i_am_delo': 1272, 'spanish': 2284, 'book': 380, 'train': 2518, 'dc': 718, 'yhf': 2759, 'happened': 1161, 'movies': 1706, 'rough': 2104, 'times': 2481, 'public': 2003, 'wants': 2625, 'mz8l': 1732, 'lizzie': 1507, 'bosco': 392, 'graduation': 1117, 'sara': 2134, 'recital': 2047, 'stevijean': 2325, 'yeahuhh': 2750, 'cast': 496, 'opportunities': 1837, 'exercise': 904, 'soultravelers3': 2280, 'h9nqe': 1147, '15': 24, 'traveltips': 2523, 'student': 2347, 'safety': 2124, 'roughplaces': 2105, 'sf_giants': 2185, 'bullpen': 443, 'loses': 1534, 'lead': 1462, 'danawalker': 692, 'washington': 2631, 'capitals': 485, 'myweakness': 1731, 'fake': 935, 'pie': 1916, 'appetite': 199, 'hardest': 1167, 'chica': 542, 'mii': 1641, 'lady': 1440, 'moneyaceweather': 1682, 'look': 1525, 'seriously': 2173, 'epic': 883, 'gigia': 1074, 'mama_k': 1575, 'told': 2496, 'violent': 2607, 'femmes': 963, 'covered': 645, 'gnarls': 1086, 'barkley': 289, 'tks': 2487, 'dude': 828, '6svjq': 92, 'immune': 1294, 'dentists': 742, 'drills': 814, 'bother': 395, 'gum': 1137, 'lift': 1482, 'surgery': 2375, 'tho': 2458, 'eek': 852, '3sixty5days': 67, '2009': 36, 'ncaa': 1747, 'national': 1746, 'softball': 2263, 'champions': 516, 'uw': 2591, 'huskies': 1266, 'following': 998, '13': 21, 'minutes': 1652, 'sends': 2168, 'bath': 294, 'workout': 2702, 'run': 2113, 'terrible': 2429, 'soccer': 2261, 'basketball': 293, 'goodbassplayer': 1099, 'oilipo': 1821, 'early': 843, 'rsl': 2107, 'paley': 1865, 'depressed': 744, 'couldn': 640, 'wells': 2658, 'haugern': 1176, 'servers': 2176, 'backup': 265, 'experience': 913, 'delay': 734, 'lushhh': 1553, 'zahra': 2770, 'haven': 1177, 'graduated': 1116, 'children': 548, 'hunger': 1260, 'related': 2056, 'causes': 504, 'gd': 1058, '17eo4': 28, 'hour': 1247, 'sytycd': 2392, 'online': 1834, 'straight': 2337, 'sleep': 2246, 'exhausted': 905, 'followers': 996, 'cries': 666, 'harry': 1168, 'potter': 1967, 'comes': 589, 'vietnam': 2606, 'july': 1377, '11th': 14, '120gb': 17, 'harddrive': 1166, '37': 61, 'guitar': 1136, 'anyonefeeling': 193, 'generous': 1063, 'contest': 623, 'popularity': 1953, 'votes': 2614, 'realy': 2045, 'environmental': 882, 'studies': 2349, 'mental': 1622, 'codinghorror': 581, 'external': 922, 'monitors': 1685, 'laptop': 1452, 'www': 2719, '6e3zp': 88, 'win7rc': 2675, '1920x1080': 33, '1280x1024': 19, 'weeknd': 2652, 'aiigght': 141, 'coop': 630, 'crew': 663, 'rappublicist': 2028, 'mothers': 1696, 'mend': 1621, 'heart': 1188, '8k7kl': 106, 'true': 2530, 'highly': 1208, 'subjective': 2354, 'tombre': 2497, 'favorite': 947, 'character': 521, '13be0': 22, 'rishabh': 2086, 'reality': 2040, 'setting': 2178, 'point': 1942, 'scared': 2144, 'goodnight': 1102, 'bitchesss': 348, 'barakatday': 287, 'mention': 1623, 'core': 635, 'deals': 722, 'twice': 2546, 'sense': 2169, 'obsolete': 1812, 'imediaconnection': 1291, '23465': 41, 'asp': 221, 'trae': 2516, 'sweet': 2385, 'baithing': 276, 'suit': 2362, 'wove': 2710, 'haley': 1151, 'katie': 1393, 'camp': 474, 'paris': 1877, 'moms': 1678, 'landin': 1451, 'ayonna': 256, 'aunts': 236, 'hug': 1254, 'azfwv': 257, 'dissapointed': 782, 'dt': 827, 'beauty': 316, 'silence': 2228, 'childhood': 547, 'homes': 1231, 'sadly': 2121, 'replaced': 2063, 'spiral_galaxy': 2295, 'ymptweet': 2761, 'muslims': 1721, 'fairytale': 933, 'dirtyrose17': 775, 'sweep': 2384, 'rur': 2116, 'bein': 324, 'photos': 1907, 'phone': 1905, 'bluetooth': 371, 'nutella': 1805, 'gon': 1094, 'stop': 2331, 'faithful': 934, 'points': 1943, 'moi': 1674, 'mustache': 1722, 'desperate': 751, 'the_prodigy': 2439, 'nkotb': 1783, 'boston': 394, 'boo': 379, 'kids': 1406, 'dads': 682, 'sighs': 2225, 'plurk': 1939, 'x8j86': 2721, 'aren': 205, 'trains': 2519, 'sunday': 2367, 'bleh': 361, 'qqing': 2011, 'baddest': 269, 'eveer': 893, 'reviews': 2072, 'read': 2036, 'disappointed': 778, 'maybe': 1598, 'expecting': 911, 'everyones': 896, 'drunk': 824, 'experts': 916, 'homers': 1230, 'predict': 1985, 'eagles': 841, '12': 16, 'giants': 1073, 'bs': 434, 'dailysportspages': 684, 'forums': 1009, 'showthread': 2218, 'php': 1908, '49343': 73, 'play': 1931, 'cats': 501, 'kittens': 1413, 'old': 1824, 'rip': 2084, 'ming': 1648, 'finaly': 975, 'highschool': 1209, 'graduate': 1115, 'chapter': 520, 'pushing': 2008, 'foward': 1012, 'cut': 675, 'beard': 308, 'shaunamanu': 2197, 'meantime': 1607, 'log': 1515, 'ack': 119, 'lots': 1540, 'guru': 1140, 'boredddd': 389, 'powerpoint': 1973, 'auckland': 234, 'jb': 1341, '3d': 62, 'soo': 2270, 'gutterd': 1141, 'suppose': 2373, 'blessed': 364, 'boyfriends': 403, 'real': 2039, 'wooo': 2693, 'hehe': 1194, 'ilysfm': 1287, 'doodle': 803, 'xxxx': 2741, 'bed': 321, 'uploading': 2578, 'pictures': 1915, 'friendster': 1027, 'progressing': 1997, 'production': 1995, 'department': 743, 'uprizing': 2580, 'priority': 1990, 'nodding': 1787, 'beats': 313, 'reach': 2035, 'current': 672, 'headset': 1185, 'deathbed': 725, 'dad': 681, 'gave': 1055, 'stretch': 2343, 'fic': 968, 'tear': 2415, 'dustincary': 831, 'yea': 2748, 'daytona': 716, 'netball': 1763, 'raining': 2025, 'manee': 1581, 'annoyed': 182, 'hummin': 1259, 'shut': 2220, 'mouth': 1703, 'headin': 1183, 'cheers': 535, 'world': 2704, 'ella': 859, 'somebody': 2265, 'awww': 253, 'derek': 746, 'kandie': 1386, 'imisscath': 1292, 'beckobviously': 319, 'strangely': 2339, 'fine': 977, 'listen': 1498, 'semisonic': 2164, 'celebrate': 507, 'shopping': 2211, 'nintendo': 1779, 'dsi': 826, 'portable': 1957, 'b3yobq': 258, 'tellman': 2422, 'says': 2142, 'crush': 668, 'commies': 596, 'grandfather': 1119, 'commie': 595, 'crewislife': 664, 'later': 1455, 'californians': 470, 'drink': 815, 'rx': 2118, 'porter': 1958, 'obs': 1811, 'stout': 2336, 'brought': 430, 'neighbors': 1761, 'bas': 290, 'update': 2574, 'rue': 2110, '21': 39, 'adamisacson': 122, 'child': 546, '00': 0, 'nancy': 1741, 'grac': 1114, 'khkw': 1402, 'daley': 686, 'hitzproductions': 1218, 'unfortunately': 2565, 'nj': 1781, 'boonies': 383, 'drive': 817, 'path': 1884, 'aint': 144, 'apologize': 196, 'ugly': 2559, 'frustrated': 1032, 'ground': 1127, 'wet': 2661, 'looked': 1526, 'drops': 821, 'fall': 936, 'drizzle': 819, 'dinger': 771, 'regret': 2055, 'popping': 1952, 'pill': 1919, 'hmm': 1219, '2nd': 51, 'item': 1329, 'arrive': 212, 'waiting': 2617, 'aramex': 204, 'web': 2645, 'page': 1859, 'ginaaa': 1077, '3k': 65, 'chips': 554, 'aiqht': 145, 'goodniqht': 1103, 'tri': 2525, 'neena': 1757, 'malcolm': 1574, 'chaise': 515, 'jlew': 1351, 'atl': 229, '333': 59, 'depressing': 745, '6tfp6': 93, 'awhhe': 251, 'completely': 603, 'useless': 2587, 'rt': 2108, 'myloc': 1727, '27hx': 45, 'entertainment': 879, 'complained': 601, 'properly': 1999, 'rupturerapture': 2115, 'experimental': 915, 'experiment': 914, 'melody': 1617, 'tweetdeck': 2542, 'groups': 1128, 'thing': 2451, '23k': 42, 'pessimistic': 1898, 'luvly': 1556, 'ckbmkc': 565, 'richietachie': 2075, 'imma': 1293, 'reduce': 2049, 'qs': 2012, 'pls': 1938, 'phobia': 1903, 'wake': 2618, 'gosh': 1107, 'lame': 1446, 'overanalyzing': 1851, 'teenager': 2419, 'nap': 1742, 'unsure': 2572, 'hassle': 1171, 'music': 1719, 'yq08l': 2765, 'essentially_me': 889, '3x': 69, 'town': 2511, 'population': 1954, 'lcel': 1460, 'masareus': 1590, 'dhempe': 757, 'congrats': 616, 'bhai': 337, 'oldies': 1826, 'used': 2586, 'arre': 210, 'kuch': 1433, 'kam': 1385, 'ka': 1383, 'ox5g': 1854, 'bothered': 396, 'spend': 2293, 'sat': 2135, 'gigs': 1075, 'sandyu': 2131, 'mightyboognish': 1639, 'kittyireland': 1414, 'light': 1483, 'punch': 2006, 'mission': 1659, 'san': 2130, 'francisco': 1015, 'gin': 1076, 'mexican': 1626, 'liqueur': 1493, 'apt': 203, 'purplehazeyobi': 2007, 'lisa': 1495, 'jillian': 1348, 'busy': 454, '_rosiecakes': 110, 'xo': 2729, 'ma': 1561, 'peace': 1891, 'mimbles': 1645, 'wparenthetical': 2711, 'tendaijoe': 2428, 'alive': 158, 'killing': 1409, 'alistair': 156, 'kitchen': 1412, 'pjs': 1925, 'tea': 2412, 'dammit': 689, 'therealglambert': 2445, 'carried': 492, 'gossip': 1108, 'note': 1801, 'hippo': 1214, 'birdie': 344, 'koala': 1423, 'xoxo': 2731, 'definately': 731, 'smh': 2256, 'blondediva11': 368, 'anybody': 191, 'arrested': 211, 'kofz': 1424, 'gettin': 1070, 'sleeping': 2248, 'texts': 2433, 'darcy_lussier': 702, 'lkrammes': 1509, 'pants': 1871, 'ironically': 1320, 'job': 1353, 'fml': 993, 'cos': 638, 'flippin': 987, 'neighbours': 1762, 'grr': 1130, 'statistics': 2314, 'homework': 1232, 'answering': 185, 'emails': 866, 'parties': 1879, 'hella': 1197, 'lammmmeee': 1447, 'thischicsflava': 2456, 'daprbmchild': 701, 'al': 149, 'newest': 1766, 'state': 2312, 'senator': 2165, 'elect': 855, 'democrat': 738, 'mark': 1586, 'keahey': 1396, 'mrr3': 1712, 'alpolitics': 164, 'supertramp': 2371, 'thesmartmama': 2446, 'hard': 1165, 'employ': 869, 'rained': 2024, 'truck': 2529, 'race': 2021, 'amigos': 172, 'hangin': 1158, 'beautifulylost': 315, 'telling': 2421, 'duper': 830, 'beautyful': 317, 'frank': 1016, 'iero': 1281, 'sexiest': 2183, 'vegetarian': 2600, 'dwo34': 836, 'butterflywheel': 456, 'debraward': 726, 'chastity_1111': 527, 'cortnee4christ': 637, 'darrensproat': 705, 'sharboubou': 2193, 'mikehanes': 1642, 'definition': 732, 'throwbie': 2463, 'editors': 851, 'reviewed': 2071, 'entry': 881, 'publish': 2004, 'melodychase': 1618, 'gadget': 1047, 'pd4wyp': 1890, 'geek_and_poke': 1059, 'pleased': 1935, 'understand': 2562, 'ready': 2038, 'cranberryperson': 651, 'dear': 723, 'hyper': 1271, 'chihuahua': 545, '45': 72, 'laj6': 1443, 'simple': 2230, 'gets': 1069, 'moogyboobles': 1689, 'ahhhhhh': 136, 'bloody': 369, 'sky': 2242, 'subscription': 2355, 'grrr': 1131, 'mood': 1687, 'teachers': 2413, 'designrelated': 750, 'designed': 749, 'gallery': 1048, 'exhibition': 906, 'postcards': 1962, 'mailers': 1569, 'extinct': 923, 'nyt': 1808, 'ow': 1852, 'fhjc': 967, '400th': 70, 'tweet': 2541, 'bagel': 273, 'toasted': 2492, 'cream': 658, 'cheese': 536, 'iced': 1276, 'cap': 484, 'delish': 737, 'tortured': 2506, 'mbmanohara': 1600, 'hijack_king7': 1211, 'burgers': 447, 'snubbmatic': 2260, 'lmbo': 1512, 'promote': 1998, 'site': 2236, 'places': 1927, 'social': 2262, 'media': 1609, 'dflzg4': 756, 'border': 387, 'drove': 822, 'hr': 1251, 'toher': 2494, 'ti': 2470, 'mexico': 1627, 'sniff': 2258, 'infobotz': 1301, 'google': 1104, 'twitterpated': 2550, 'oropl7': 1844, 'handed': 1154, 'uniform': 2566, 'motivated': 1697, 'club': 577, 'sox': 2281, 'floyd': 990, 'relievers': 2058, 'scolding': 2151, 'aunties': 235, 'hes': 1203, 'dogs': 795, 'brother': 428, 'aswell': 226, 'free': 1017, 'beansummer': 307, 'brooklyn_belle': 427, 'cat': 497, 'fan': 939, 'hold': 1222, 'p1wimax': 1856, 'signal': 2226, 'detected': 754, 'gardens': 1050, 'disorder': 780, 'thy': 2469, 'ksymmonds': 1432, 'thankyou': 2436, 'display': 781, 'upside': 2582, 'voltrons': 2613, 'basics': 292, 'jonah': 1366, 'sharon': 2195, '1230lz': 18, 'water': 2637, 'works': 2703, 'kerry350': 1399, 'angeloys': 178, 'plans': 1929, 'opportunity': 1838, 'charles': 524, 'fellow': 960, 'joeschmitt': 1357, 'maintenance': 1570, 'friday': 1022, 'listening': 1499, 'ndkq': 1750, 'felt': 961, 'sick': 2222, 'stress': 2342, 'glad': 1082, 'chest': 541, 'admit': 126, 'literally': 1500, 'hiding': 1206, 'patita': 1885, 'missmarian': 1661, 'paramore': 1875, 'decode': 728, 'daninho502': 696, '5ytke': 81, 'givin': 1080, 'frown': 1030, 'explore': 919, 'ahugeproduction': 138, 'praying': 1982, 'skunk': 2241, 'sprayed': 2296, 'yard': 2746, 'n8ai': 1736, 'living': 1506, 'conscious': 619, 'cares': 489, 'ways': 2641, 'drunvalo': 825, 'melchizedek': 1616, 'afi': 129, 'reading': 2037, 'magazine': 1565, 'ngbq2c': 1769, 'charlottegc': 526, 'mum': 1717, 'naked': 1739, 'ended': 872, 'blase': 359, 'bridget': 418, 'cali': 468, 'itttttt': 1330, 'outside': 1847, 'balcony': 277, 'religion': 2059, 'em91': 865, 'edinburgh': 849, 'fringe': 1029, 'monies': 1684, 'btw': 436, 'elliott': 861, 'angryfeet': 181, 'blame': 357, 'howliet': 1250, 'intrusion': 1313, 'thrilled': 2460, 'palm': 1866, 'pre': 1984, 'centro': 509, 'temp': 2423, 'contacts': 621, 'transfered': 2522, 'sadpanda': 2122, 'vets': 2603, 'theyve': 2449, 'stitched': 2328, 'ear': 842, 'charged': 523, 'bleeds': 360, 'waterfall': 2638, 'everytime': 898, 'moves': 1704, 'alvinkschneider': 167, 'angels': 179, 'demons': 740, 'lions': 1492, 'tigers': 2475, 'bears': 309, 'hatermagazine': 1173, 'damienrandle': 688, 'outer': 1846, 'fat': 944, 'nectar': 1754, 'sucking': 2358, 'dirty': 774, 'currently': 673, 'blah': 356, 'parking': 1878, 'alice': 155, 'beating': 311, 'scooby': 2153, 'doo': 802, 'board': 374, 'wings': 2676, 'joint': 1364, 'songs': 2268, 'ago': 131, 'prblog': 1983, 'steverubel': 2324, 'posterous': 1963, 'interesting': 1310, 'fold': 994, 'nhcv': 1770, 'cramps': 650, 'drugs': 823, 'johnmaeda': 1361, 'exe': 903, 'er': 886, 'ppt': 1976, 'txt': 2552, 'leafy': 1463, 'potted': 1966, 'plant': 1930, 'obof': 1810, 'stranger': 2340, 'lampard': 1448, 'urself': 2584, 'xaj24dkly': 2723, 'hrs': 1252, 'hilarious': 1212, 'oliveshoot': 1827, 'leslie': 1473, 'tweeting': 2543, 'absolute': 114, 'fave': 946, 'lisad': 1497, 'stopped': 2332, 'stalk': 2301, 'jfk': 1347, 'international': 1311, 'loopt': 1530, 'ppyztq': 1977, 'shocked': 2208, 'lesson': 1474, 'learned': 1464, 'outta': 1848, 'shower': 2215, 'electricity': 856, 'kvetchingeditor': 1434, 'kashrut': 1391, 'convo': 626, 'kosher': 1426, 'roomies': 2101, 'catholic': 500, 'pork': 1955, 'loin': 1517, 'fridge': 1023, 'kosherfail': 1427, 'missive': 1660, 'post': 1961, 'x9c238auy': 2722, 'wizz': 2682, 'fizz': 982, 'daveena': 709, 'fwd': 1046, 'selma': 2163, 'add': 124, 'end': 871, 'tok': 2495, 'ra': 2020, 'watched': 2635, 'lvbu': 1558, 'ellie': 860, 'saying': 2141, 'theyre': 2448, 'speak': 2289, 'mcfly': 1601, 'doesnt': 793, 'tummy': 2536, 'djwillgates': 788, 'iamfauxpas': 1273, 'cancelled': 475, 'temporary': 2426, 'trying': 2534, 'sweetlilmzmia': 2386, 'john': 1359, 'mayer': 1599, 'trio': 2527, 'california': 469, 'dreamin': 809, 'heard': 1187, 'conan': 607, '06': 3, '04': 2, '7qdf0': 103, 'weelaura': 2654, 'guardian': 1133, 'students': 2348, 'reported': 2065, 'killed': 1408, 'crackdown': 648, 'clashes': 566, 'iran': 1316, 'whlbv': 2665, 'kinda': 1411, 'niggahz': 1775, 'dylan': 839, 'stavros': 2317, 'ghostbusters': 1072, 'region': 2054, '360': 60, 'copy': 634, 'britain': 422, 'nibaq': 1772, 'letting': 1477, 'eureka': 891, 'knowledge': 1421, 'dessert': 753, '4eva': 74, 'wishes': 2680, 'jam': 1337, 'soooo': 2273, 'cuddling': 670, 'jonathan': 1369, 'years': 2752, 'tlkd': 2490, 'mi': 1632, 'amor': 173, 'stubborn': 2346, 'bf': 336, 'bugaboo': 440, 'type': 2553, 'royalty': 2106, 'city': 564, 'oneshine': 1831, 'referring': 2052, 'kool': 1425, 'aid': 139, 'paraguay': 1874, 'member': 1619, 'live': 1503, '6bo0t': 87, '5am': 80, 'woop': 2694, 'fly': 991, 'landed': 1450, 'green': 1124, 'chile': 549, 'stew': 2326, 'bugs': 441, 'asshole': 224, 'asked': 217, 'goes': 1089, 'melbournevixens': 1615, '4th': 77, 'quarter': 2013, 'blushes': 372, 'perfektnchance': 1896, 'chance': 517, '29': 47, 'stayin': 2319, 'steezy': 2323, 'mowin': 1708, 'lawn': 1457, 'loviie': 1544, 'goiing': 1090, 'tanning': 2402, 'belllareow': 327, 'disappeared': 777, 'date': 707, 'fourth': 1011, 'squarespace': 2298, 'card': 487, 'helps': 1201, 'huh': 1257, 'fathers': 945, 'picked': 1911, 'incessantly': 1297, 'lorinimus': 1532, 'hates': 1175, 'bebot': 318, 'app': 197, 'rickswift': 2076, 'ppl': 1975, 'crabs': 647, 'karlkleese': 1389, 'lpjdesign': 1547, 'lostzombies': 1538, 'pinkraygun': 1922, 'bittenbybooks': 351, 'hippojuicefilm': 1215, 'zazzle': 2771, 'bmth': 373, 'arms': 209, 'fucccckkkkkkkkkk': 1035, 'beloved': 328, 'diabetic': 758, 'dwarf': 835, 'hamster': 1152, 'hands': 1155, 'creatures': 660, 'worthy': 2709, 'uva': 2590, 'baseball': 291, 'boys': 405, 'fone': 999, 'imu': 1296, 'marcus': 1585, 'bordeirlne': 386, 'svu': 2379, 'pinkelephant73': 1920, 'candy': 478, 'floss': 989, 'machine': 1563, 'bullshit': 444, 'scheming': 2148, 'mosh': 1693, 'complete': 602, 'bogan': 377, 'woots': 2696, 'mtv': 1715, 'awards': 247, 'thursday': 2467, 'jubii': 1374, 'dan': 691, 'birthday': 345, 'hotel': 1245, 'poopie': 1948, 'shawnashameless': 2198, 'killavilla': 1407, 'freelance': 1018, 'writer': 2713, 'braille': 409, 'porn': 1956, 'stunt': 2352, 'double': 805, 'hand': 1153, 'palmolive': 1867, 'dishwashing': 779, 'liquid': 1494, 'shinyhappyhead': 2203, 'britains': 423, 'talent': 2397, 'bowling': 399, 'alittlebit': 157, 'temperature': 2424, 'hoping': 1237, 'antibiotics': 187, 'kick': 1403, 'wantt': 2626, 'hiim': 1210, 'badd': 268, 'iowa': 1314, 'boring': 390, 'wardrobe': 2628, 'waiit': 2615, 'walk': 2619, 'shakes': 2187, 'scoobs': 2152, 'maps': 1583, 'climate': 571, 'forecasts': 1004, 'paints': 1863, 'alarming': 150, '69ays': 86, 'krystynchong': 1431, 'lovely': 1542, 'compliment': 605, 'updating': 2575, 'clothes': 575, 'bbq': 302, 'darn': 704, 'butterfly': 455, 'jun': 1378, '19': 32, 'holiday': 1223, 'momacita': 1676, 'bball': 300, 'rb2': 2033, 'australian': 240, 'jamie': 1339, 'bananarchy_atx': 281, 'frozen': 1031, 'bananas': 282, 'mypict': 1728, '2qim': 52, 'pic': 1910, '6vsv8': 94, 'ius': 1331, 'chill': 550, 'innnnn': 1304, 'joseke': 1371, 'trent': 2524, 'reznor': 2073, 'quits': 2015, 'migre': 1640, '281e': 46, 'trabalhosujo': 2513, 'hidingesther': 1207, 'linininiooh': 1490, 'future': 1044, 'rooooooooomies': 2103, 'nyc': 1807, 'holler': 1224, 'warbo': 2627, 'clubbing': 578, 'sheffield': 2200, 'party': 1880, 'shouldn': 2214, 'atm': 232, 'conference': 611, 'conf': 610, 'zoeboe': 2773, 'whoops': 2666, 'credit': 661, 'rb': 2032, 'musicismysunshine': 1720, '7d4pk': 101, 'jonswerens': 1370, 'def': 730, 'lyrics': 1560, 'shrug': 2219, 'exoticbella_': 909, 'kcome': 1395, '1000': 6, 'mwkn': 1724, 'cheating': 531, 't_t': 2394, 'latuacatante17': 1456, 'youu': 2764, 'welcomee': 2657, 'pens': 1894, 'weeeekend': 2649, 'begin': 323, 'nhl': 1771, 'penguins': 1893, 'series': 2172, 'stats': 2315, 'stars': 2308, 'buu': 457, 'huu': 1267, '2moro': 50, 'join': 1363, 'karenwild': 1387, 'spider': 2294, 'crawling': 657, 'blankeys': 358, 'flicked': 985, 'floor': 988, 'trip': 2528, 'vet': 2602, 'low': 1545, 'shall': 2188, 'motivation': 1699, 'meat': 1608, '15ssci': 26, 'mizzwalker': 1664, 'caio': 466, 'georgediaz': 1067, 'thinking': 2454, 'hedo': 1192, 'stays': 2321, 'orlando': 1843, 'brighten': 419, 'feeeling': 954, 'nooo': 1792, 'dancing': 694, 'art': 214, 'assignment': 225, 'finish': 979, 'grahamapalooza': 1118, 'ronibryantmusic': 2099, 'rob_in_grantham': 2090, 'bananasmel': 283, 'joetech': 1358, 'joecopas2671': 1356, 'britespark': 424, 'r0ckrulez': 2019, 'johnnybeane': 1362, 'bsideofsoccer': 435, 'minghao': 1649, 'starhubcares': 2307, 'active': 120, 'confident': 612, 'torn': 2505, 'loic': 1516, 'sex': 2182, 'bing': 343, 'deactivate': 721, 'safe': 2123, 'search': 2156, 'lea': 1461, 'n18y': 1734, 'write': 2712, 'ish': 1323, 'tlk': 2489, 'arrrrrrrgggggggghhhhhhhh': 213, 'lines': 1489, 'communications': 599, 'temporarily': 2425, 'va_songstress': 2594, 'ove': 1849, '33': 58, 'goooood': 1106, 'timessss': 2482, 'bend': 331, 'backwards': 266, 'bicyclist': 339, 'ride': 2078, 'henderson': 1202, 'ky': 1435, '10h4ne': 8, 'star': 2306, 'testing': 2431, '11am': 13, 'sf': 2184, 'xvq1mln1l': 2736, 'awful': 250, 'stinks': 2327, 'kristis': 1430, 'comin': 592, 'moe': 1673, 'mmmaybe': 1668, 'lvatt': 1557, 'comming': 597, 'irresponsible': 1321, 'sort': 2277, 'marshmallows': 1588, 'unless': 2570, 'stated': 2313, 'gelatin': 1061, 'xl21pafgm': 2728, 'anyer': 192, 'thu': 2465, 'forth': 1007, 'banten': 286, 'tahninial': 2395, 'called': 471, 'cheeseburglar': 538, 'allergies': 159, 'hair': 1150, 'poll': 1946, 'miserable': 1655, 'lookin': 1527, 'fightiin': 969, 'wiit': 2671, 'babes': 261, 'serialseb': 2171, 'thought': 2459, 'estimates': 890, 'use': 2585, 'value': 2596, 'pi': 1909, 'rule': 2112, '14': 23, 'exception': 901, 'squared': 2297, 'chloelunn': 555, 'meganmcdowell': 1613, 'asses': 223, 'nai': 1738, 'isak': 1322, 'katiedontcry': 1394, 'aim': 142, 'boom': 382, 'pow': 1971, 'fernandofelman': 964, 'visiting': 2609, 'aussie': 238, 'land': 1449, 'phoenix': 1904, 'cleveland': 570, 'teams': 2414, 'cnnbrk': 580, 'charlie': 525, 'roommate': 2102, 'shallow': 2189, 'breath': 415, 'squeezes': 2299, 'past': 1883, 'pounds': 1969, 'stone': 2330, 'laid': 1442, 'loves': 1543, 'brilliant': 420, 'xd': 2725, 'benboychuk': 330, 'shots': 2212, 'fuuuuck': 1045, 'swim': 2387, 'amy': 175, 'iï': 1333, '½m': 2778, 'xfj1uain0': 2726, 'carrie': 491, 'eye': 924, 'infection': 1300, 'diplomatic': 773, 'husband': 1265, 'wife': 2670, 'expect': 910, 'remember': 2061, 'older': 1825, 'normaltusker': 1797, 'nehabagoria': 1759, 'robotpickuplines': 2092, 'glamicole': 1083, 'wud': 2717, 'plc': 1934, 'weird': 2655, 'encounters': 870, 'homeless': 1229, 'creeps': 662, 'kyauphie': 1436, '20': 34, 'mcnuggets': 1603, 'cheeseburgers': 537, 'large': 1453, 'fries': 1028, 'lemonade': 1471, 'ask': 216, 'billbeckett': 341, 'signature': 2227, '100': 5, 'rubbed': 2109, 'mondayeyes': 1680, 'bracelet': 407, 'plenty': 1936, 'autographs': 242, 'non': 1791, 'robsten': 2093, 'posts': 1965, 'words': 2698, 'matt': 1595, 'churchgirl': 561, 'comfy': 590, 'bag': 272, 'safina': 2125, 'lose': 1533, 'andyhurleyday': 176, 'theenglishmuse': 2442, 'karl': 1388, 'lagerfeld': 1441, 'profile': 1996, 'cbl6tm': 506, 'moon': 1690, 'trailer': 2517, 'onhyd': 1833, 'jon': 1365, 'kate': 1392, 'couples': 643, 'steer': 2322, 'clear': 569, 'shows': 2217, 'laying': 1458, 'undies': 2564, 'send': 2166, 'sunshine': 2369, 'northern': 1799, 'ireland': 1318, 'swimming': 2388, 'kezbat': 1401, 'hellopnsdear': 1199, 'se': 2155, 'morrea': 1692, 'joseph': 1372, 'vale': 2595, 'michael_castro': 1635, '902': 107, 'hopeless': 1236, 'yey': 2758, 'meee': 1610, 'bless': 363, 'mic': 1634, 'bra': 406, 'ericeonthebeat': 887, 'moneybagzfam1st': 1683, 'circustk': 563, 'hom': 1227, 'fr': 1013, 'tda': 2411, 'funeral': 1041, 'grandpa': 1121, 'bestttttttttttttttttttt': 333, 'dawg': 712, 'mamii_thickness': 1576, 'dat': 706, 'jst': 1373, 'suck': 2356, 'dyck': 837, 'thinks': 2455, 'praise': 1979, 'minxlj': 1653, 'isnt': 1326, 'showing': 2216, 'gota': 1110, 'thatsrightnate': 2438, 'case': 495, '12np1h': 20, 'rain': 2023, 'shirt': 2204, 'panties': 1870, 'celulite': 508, 'changin': 519, 'ambergirl66': 169, 'mathces': 1593, 'background': 264, 'losing': 1535, 'tc': 2409, 'min': 1646, 'fu2': 1034, '2see': 53, 'candygirls': 479, 'daisy': 685, 'iluvterricka': 1285, 'month': 1686, '30am': 55, 'chilli': 551, 'prawns': 1980, 'pac': 1857, 'badly': 270, 'asot400': 220, 'electrograffiti': 857, 'bitch': 347, 'brussels': 433, 'trams': 2520, 'metro': 1625, 'customer': 674, 'service': 2177, 'lack': 1438, 'quorn': 2017, 'maggie': 1566, 'reaallly': 2034, 'confused': 614, 'booze': 385, 'sharpie': 2196, 'booo': 384, 'copicmarker': 633, 'facebook': 928, 'copic': 632, 'marker': 1587, 'oyt7': 1855, 'mrjoecool': 1711, 'lord': 1531, 'gud': 1134, 'moods': 1688, 'workn': 2701, 'thighs': 2450, 'clouds': 576, 'scaring': 2145, 'anyamanda': 190, 'small': 2253, 'general': 1062, 'motors': 1700, 'hummer': 1258, 'nighter': 1777, 'yeeeeeeeeeeeessshhhh': 2753, 'nightmare': 1778, 'tlc': 2488, 'waterfalls': 2639, '5zi9g': 82, 'fell': 959, 'canuckflack': 481, 'speaking': 2291, 'historian': 1216, 'incorporate': 1299, 'buzz': 459, 'upper': 2579, 'middle': 1638, 'ame': 171, 'ofls': 1817, 'matters': 1596, 'worst': 2707, 'yuck': 2766, 'wompppp': 2687, 'wompp': 2686, 'sake': 2128, 'stres': 2341, 'hopefully': 1235, 'clocking': 572, 'savage_death55': 2137, 'rn': 2088, 'sg': 2186, 'cybervenus': 678, '75kwb': 98, '75hsg': 97, 'any1': 189, 'mumfh': 1718, 'srenaenae': 2300, 'powershot': 1974, 's400': 2119, 'served': 2174, 'hottest': 1246, 'mourn': 1701, '¹à¹': 2776, 'à¹': 2780, 'hitech': 1217, 'mins': 1650, 'riceuniversiity': 2074, 'kouture85': 1428, 'bout': 398, 'ahmier': 137, 'marco': 1584, 'muah': 1716, 'lisabarone': 1496, 'miracle': 1654, 'modern': 1672, 'bruce': 432, 'danny': 698, 'awwwwwh': 255, 'aiden': 140, 'davis': 711, 'diggâ': 768, 'share': 2194, 'feature': 950, 'pollute': 1947, 'ncqkm5': 1748, '23': 40, '2007': 35, 'rats': 2031, 'presentations': 1986, 'shed': 2199, 'cavs': 505, 'christy': 559, 'hacked': 1148, 'wills': 2673, 'kept': 1398, 'abusing': 116, 'delete': 735, 'iranelection': 1317, 'realizes': 2042, 'kaitymarine': 1384, 'e3': 840, 'mcmudkips': 1602, 'ahh': 134, 'standing': 2304, 'pouring': 1970, 'bahahaha': 274, 'jodie': 1355, 'burst': 451, 'kevin': 1400, 'sos': 2279, 'epiccc': 884, 'auroralee': 237, 'grin': 1125, 'warm': 2629, 'fast': 943, 'friendly': 1025, 'david': 710, 'eddings': 848, 'dinara': 770, 'roland': 2096, 'garros': 1052, 'safins': 2126, 'wed': 2647, 'rushing': 2117}\n"
          ],
          "name": "stdout"
        }
      ]
    },
    {
      "metadata": {
        "id": "sgPu-c3vVPEv",
        "colab_type": "code",
        "colab": {
          "base_uri": "https://localhost:8080/",
          "height": 244
        },
        "outputId": "f112536b-0838-48e5-d3e3-d67ca6764b10"
      },
      "cell_type": "code",
      "source": [
        "test_word_counts = vectorizer.transform(X_test)\n",
        "\n",
        "X_test_vectorized = pd.DataFrame(test_word_counts.toarray(), columns=vectorizer.get_feature_names())\n",
        "\n",
        "print(X_test_vectorized.shape)\n",
        "X_test_vectorized.head()"
      ],
      "execution_count": 5,
      "outputs": [
        {
          "output_type": "stream",
          "text": [
            "(200, 2782)\n"
          ],
          "name": "stdout"
        },
        {
          "output_type": "execute_result",
          "data": {
            "text/html": [
              "<div>\n",
              "<style scoped>\n",
              "    .dataframe tbody tr th:only-of-type {\n",
              "        vertical-align: middle;\n",
              "    }\n",
              "\n",
              "    .dataframe tbody tr th {\n",
              "        vertical-align: top;\n",
              "    }\n",
              "\n",
              "    .dataframe thead th {\n",
              "        text-align: right;\n",
              "    }\n",
              "</style>\n",
              "<table border=\"1\" class=\"dataframe\">\n",
              "  <thead>\n",
              "    <tr style=\"text-align: right;\">\n",
              "      <th></th>\n",
              "      <th>00</th>\n",
              "      <th>02</th>\n",
              "      <th>04</th>\n",
              "      <th>06</th>\n",
              "      <th>10</th>\n",
              "      <th>100</th>\n",
              "      <th>1000</th>\n",
              "      <th>102</th>\n",
              "      <th>10h4ne</th>\n",
              "      <th>10pm</th>\n",
              "      <th>...</th>\n",
              "      <th>zochula</th>\n",
              "      <th>zoeboe</th>\n",
              "      <th>zoro</th>\n",
              "      <th>zoxzc</th>\n",
              "      <th>¹à¹</th>\n",
              "      <th>½89</th>\n",
              "      <th>½m</th>\n",
              "      <th>½s</th>\n",
              "      <th>à¹</th>\n",
              "      <th>ãªnfase</th>\n",
              "    </tr>\n",
              "  </thead>\n",
              "  <tbody>\n",
              "    <tr>\n",
              "      <th>0</th>\n",
              "      <td>0</td>\n",
              "      <td>0</td>\n",
              "      <td>0</td>\n",
              "      <td>0</td>\n",
              "      <td>0</td>\n",
              "      <td>0</td>\n",
              "      <td>0</td>\n",
              "      <td>0</td>\n",
              "      <td>0</td>\n",
              "      <td>0</td>\n",
              "      <td>...</td>\n",
              "      <td>0</td>\n",
              "      <td>0</td>\n",
              "      <td>0</td>\n",
              "      <td>0</td>\n",
              "      <td>0</td>\n",
              "      <td>0</td>\n",
              "      <td>0</td>\n",
              "      <td>0</td>\n",
              "      <td>0</td>\n",
              "      <td>0</td>\n",
              "    </tr>\n",
              "    <tr>\n",
              "      <th>1</th>\n",
              "      <td>0</td>\n",
              "      <td>0</td>\n",
              "      <td>0</td>\n",
              "      <td>0</td>\n",
              "      <td>0</td>\n",
              "      <td>0</td>\n",
              "      <td>0</td>\n",
              "      <td>0</td>\n",
              "      <td>0</td>\n",
              "      <td>0</td>\n",
              "      <td>...</td>\n",
              "      <td>0</td>\n",
              "      <td>0</td>\n",
              "      <td>0</td>\n",
              "      <td>0</td>\n",
              "      <td>0</td>\n",
              "      <td>0</td>\n",
              "      <td>0</td>\n",
              "      <td>0</td>\n",
              "      <td>0</td>\n",
              "      <td>0</td>\n",
              "    </tr>\n",
              "    <tr>\n",
              "      <th>2</th>\n",
              "      <td>0</td>\n",
              "      <td>0</td>\n",
              "      <td>0</td>\n",
              "      <td>0</td>\n",
              "      <td>0</td>\n",
              "      <td>0</td>\n",
              "      <td>0</td>\n",
              "      <td>0</td>\n",
              "      <td>0</td>\n",
              "      <td>0</td>\n",
              "      <td>...</td>\n",
              "      <td>0</td>\n",
              "      <td>0</td>\n",
              "      <td>0</td>\n",
              "      <td>0</td>\n",
              "      <td>0</td>\n",
              "      <td>0</td>\n",
              "      <td>0</td>\n",
              "      <td>0</td>\n",
              "      <td>0</td>\n",
              "      <td>0</td>\n",
              "    </tr>\n",
              "    <tr>\n",
              "      <th>3</th>\n",
              "      <td>0</td>\n",
              "      <td>0</td>\n",
              "      <td>0</td>\n",
              "      <td>0</td>\n",
              "      <td>0</td>\n",
              "      <td>0</td>\n",
              "      <td>0</td>\n",
              "      <td>0</td>\n",
              "      <td>0</td>\n",
              "      <td>0</td>\n",
              "      <td>...</td>\n",
              "      <td>0</td>\n",
              "      <td>0</td>\n",
              "      <td>0</td>\n",
              "      <td>0</td>\n",
              "      <td>0</td>\n",
              "      <td>0</td>\n",
              "      <td>0</td>\n",
              "      <td>0</td>\n",
              "      <td>0</td>\n",
              "      <td>0</td>\n",
              "    </tr>\n",
              "    <tr>\n",
              "      <th>4</th>\n",
              "      <td>0</td>\n",
              "      <td>0</td>\n",
              "      <td>0</td>\n",
              "      <td>0</td>\n",
              "      <td>0</td>\n",
              "      <td>0</td>\n",
              "      <td>0</td>\n",
              "      <td>0</td>\n",
              "      <td>0</td>\n",
              "      <td>0</td>\n",
              "      <td>...</td>\n",
              "      <td>0</td>\n",
              "      <td>0</td>\n",
              "      <td>0</td>\n",
              "      <td>0</td>\n",
              "      <td>0</td>\n",
              "      <td>0</td>\n",
              "      <td>0</td>\n",
              "      <td>0</td>\n",
              "      <td>0</td>\n",
              "      <td>0</td>\n",
              "    </tr>\n",
              "  </tbody>\n",
              "</table>\n",
              "<p>5 rows × 2782 columns</p>\n",
              "</div>"
            ],
            "text/plain": [
              "   00  02  04  06  10  100  1000  102  10h4ne  10pm   ...     zochula  zoeboe  \\\n",
              "0   0   0   0   0   0    0     0    0       0     0   ...           0       0   \n",
              "1   0   0   0   0   0    0     0    0       0     0   ...           0       0   \n",
              "2   0   0   0   0   0    0     0    0       0     0   ...           0       0   \n",
              "3   0   0   0   0   0    0     0    0       0     0   ...           0       0   \n",
              "4   0   0   0   0   0    0     0    0       0     0   ...           0       0   \n",
              "\n",
              "   zoro  zoxzc  ¹à¹  ½89  ½m  ½s  à¹  ãªnfase  \n",
              "0     0      0    0    0   0   0   0        0  \n",
              "1     0      0    0    0   0   0   0        0  \n",
              "2     0      0    0    0   0   0   0        0  \n",
              "3     0      0    0    0   0   0   0        0  \n",
              "4     0      0    0    0   0   0   0        0  \n",
              "\n",
              "[5 rows x 2782 columns]"
            ]
          },
          "metadata": {
            "tags": []
          },
          "execution_count": 5
        }
      ]
    },
    {
      "metadata": {
        "id": "DxgNL9MIWq8O",
        "colab_type": "code",
        "colab": {}
      },
      "cell_type": "code",
      "source": [
        ""
      ],
      "execution_count": 0,
      "outputs": []
    },
    {
      "metadata": {
        "id": "JQYHPqK1R6FZ",
        "colab_type": "code",
        "colab": {}
      },
      "cell_type": "code",
      "source": [
        "from sklearn.feature_extraction.text import TfidfVectorizer\n",
        "\n",
        "# List of document strings as text\n",
        "text = cleaned_as_strings\n",
        "# Instantiate vectorizer object\n",
        "tfidf = TfidfVectorizer(max_features = 30)\n",
        "# Create a vocabulary and get word counts per document\n",
        "feature_matrix = tfidf.fit_transform(text)\n",
        "# Get feature names to use as dataframe column headers\n",
        "feature_names = tfidf.get_feature_names()\n",
        "\n",
        "# View Feature Matrix as DataFrame\n",
        "df = pd.DataFrame(feature_matrix.toarray(), columns=feature_names)\n",
        "df.head()"
      ],
      "execution_count": 0,
      "outputs": []
    },
    {
      "metadata": {
        "id": "TX8OEgUP_3ee",
        "colab_type": "code",
        "colab": {}
      },
      "cell_type": "code",
      "source": [
        "from sklearn.feature_extraction.text import CountVectorizer\n",
        "\n",
        "# Get it into form [\"word word word\", \"word word word\"]\n",
        "cleaned_as_strings = [\" \".join(x) for x in cleaned_listings]\n",
        "\n",
        "# Instantiate vectorizer object\n",
        "vectorizer = CountVectorizer()\n",
        "# Create a vocabulary and get word counts per document\n",
        "bag_of_words = vectorizer.fit_transform(cleaned_as_strings)\n",
        "# Get feature names to use as dataframe column headers\n",
        "feature_names = vectorizer.get_feature_names()"
      ],
      "execution_count": 0,
      "outputs": []
    },
    {
      "metadata": {
        "id": "sorF95UO_uGx",
        "colab_type": "text"
      },
      "cell_type": "markdown",
      "source": [
        "# Part 4 -  Word2Vec\n",
        "\n",
        "1) Fit a Word2Vec model on your cleaned/tokenized twitter dataset. \n",
        "\n",
        "2) Display the 10 words that are most similar to the word \"twitter\""
      ]
    },
    {
      "metadata": {
        "id": "DYno4d4N-LHR",
        "colab_type": "code",
        "colab": {}
      },
      "cell_type": "code",
      "source": [
        "##### Your Code Here #####"
      ],
      "execution_count": 0,
      "outputs": []
    }
  ]
}