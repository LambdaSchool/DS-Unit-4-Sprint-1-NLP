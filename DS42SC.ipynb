{
 "cells": [
  {
   "cell_type": "markdown",
   "metadata": {
    "colab_type": "text",
    "id": "QpPcbYew_ttN"
   },
   "source": [
    "# Part 1 - Working with Text Data\n",
    "\n",
    "### Use Python string methods remove irregular whitespace from the following string:"
   ]
  },
  {
   "cell_type": "code",
   "execution_count": 2,
   "metadata": {},
   "outputs": [],
   "source": [
    "import pandas as pd\n",
    "import re\n",
    "import numpy as np\n",
    "import gensim\n",
    "import nltk\n",
    "from gensim.models.word2vec import Word2Vec\n",
    "import string\n",
    "from nltk.tokenize import sent_tokenize # Sentence Tokenizer\n",
    "from nltk.tokenize import word_tokenize # Word Tokenizer\n",
    "from nltk.corpus import stopwords\n"
   ]
  },
  {
   "cell_type": "code",
   "execution_count": 3,
   "metadata": {
    "colab": {
     "base_uri": "https://localhost:8080/",
     "height": 101
    },
    "colab_type": "code",
    "id": "dtotEnsStY5o",
    "outputId": "c4e8a355-5366-4b7a-ddf8-740e9f1fbc8d"
   },
   "outputs": [
    {
     "name": "stdout",
     "output_type": "stream",
     "text": [
      "\n",
      "\n",
      "  This is a    string   that has  \n",
      " a lot of  extra \n",
      "   whitespace.   \n"
     ]
    }
   ],
   "source": [
    "whitespace_string = \"\\n\\n  This is a    string   that has  \\n a lot of  extra \\n   whitespace.   \"\n",
    "\n",
    "print(whitespace_string)"
   ]
  },
  {
   "cell_type": "code",
   "execution_count": 4,
   "metadata": {
    "colab": {},
    "colab_type": "code",
    "id": "G9-MkBwasXx8"
   },
   "outputs": [
    {
     "name": "stdout",
     "output_type": "stream",
     "text": [
      "This is a string that has a lot of extra whitespace.\n"
     ]
    }
   ],
   "source": [
    "print(\" \".join(whitespace_string.split()))\n",
    "    "
   ]
  },
  {
   "cell_type": "markdown",
   "metadata": {
    "colab_type": "text",
    "id": "Vg1-d2aAsXLn"
   },
   "source": [
    "### Use Regular Expressions to take the dates in the following .txt file and put them into a dataframe with columns for:\n",
    "\n",
    "[RegEx dates.txt](https://github.com/ryanleeallred/datasets/blob/master/dates.txt)\n",
    "\n",
    "- Day\n",
    "- Month\n",
    "- Year\n"
   ]
  },
  {
   "cell_type": "code",
   "execution_count": 5,
   "metadata": {
    "colab": {},
    "colab_type": "code",
    "id": "KWDiN4C9_0sq"
   },
   "outputs": [
    {
     "data": {
      "text/plain": [
       "'March 8, 2015\\nMarch 15, 2015\\nMarch 22, 2015\\nMarch 29, 2015\\nApril 5, 2015\\nApril 12, 2015\\nApril 19, 2015\\nApril 26, 2015\\nMay 3, 2015\\nMay 10, 2015\\nMay 17, 2015\\nMay 24, 2015\\nMay 31, 2015\\nJune 7, 2015\\nJune 14, 2015\\nJune 21, 2015\\nJune 28, 2015\\nJuly 5, 2015\\nJuly 12, 2015\\nJuly 19, 2015'"
      ]
     },
     "execution_count": 5,
     "metadata": {},
     "output_type": "execute_result"
    }
   ],
   "source": [
    "with open('dates.txt', 'r', encoding='utf-8') as f:\n",
    "  contents = f.read()\n",
    "  \n",
    "contents"
   ]
  },
  {
   "cell_type": "code",
   "execution_count": 6,
   "metadata": {},
   "outputs": [
    {
     "name": "stdout",
     "output_type": "stream",
     "text": [
      "('March', '8', '2015')\n",
      "('March', '15', '2015')\n",
      "('March', '22', '2015')\n",
      "('March', '29', '2015')\n",
      "('April', '5', '2015')\n",
      "('April', '12', '2015')\n",
      "('April', '19', '2015')\n",
      "('April', '26', '2015')\n",
      "('May', '3', '2015')\n",
      "('May', '10', '2015')\n",
      "('May', '17', '2015')\n",
      "('May', '24', '2015')\n",
      "('May', '31', '2015')\n",
      "('June', '7', '2015')\n",
      "('June', '14', '2015')\n",
      "('June', '21', '2015')\n",
      "('June', '28', '2015')\n",
      "('July', '5', '2015')\n",
      "('July', '12', '2015')\n",
      "('July', '19', '2015')\n"
     ]
    }
   ],
   "source": [
    "regex = r\"([a-zA-Z]+) (\\d+), (\\d\\d\\d\\d)\" \n",
    "\n",
    "search_result = re.findall(regex, contents)\n",
    "\n",
    "for match in search_result:\n",
    "  print(match)"
   ]
  },
  {
   "cell_type": "code",
   "execution_count": 7,
   "metadata": {},
   "outputs": [
    {
     "data": {
      "text/html": [
       "<div>\n",
       "<style scoped>\n",
       "    .dataframe tbody tr th:only-of-type {\n",
       "        vertical-align: middle;\n",
       "    }\n",
       "\n",
       "    .dataframe tbody tr th {\n",
       "        vertical-align: top;\n",
       "    }\n",
       "\n",
       "    .dataframe thead th {\n",
       "        text-align: right;\n",
       "    }\n",
       "</style>\n",
       "<table border=\"1\" class=\"dataframe\">\n",
       "  <thead>\n",
       "    <tr style=\"text-align: right;\">\n",
       "      <th></th>\n",
       "      <th>Month</th>\n",
       "      <th>Day</th>\n",
       "      <th>Year</th>\n",
       "    </tr>\n",
       "  </thead>\n",
       "  <tbody>\n",
       "    <tr>\n",
       "      <th>0</th>\n",
       "      <td>March</td>\n",
       "      <td>8</td>\n",
       "      <td>2015</td>\n",
       "    </tr>\n",
       "    <tr>\n",
       "      <th>1</th>\n",
       "      <td>March</td>\n",
       "      <td>15</td>\n",
       "      <td>2015</td>\n",
       "    </tr>\n",
       "    <tr>\n",
       "      <th>2</th>\n",
       "      <td>March</td>\n",
       "      <td>22</td>\n",
       "      <td>2015</td>\n",
       "    </tr>\n",
       "    <tr>\n",
       "      <th>3</th>\n",
       "      <td>March</td>\n",
       "      <td>29</td>\n",
       "      <td>2015</td>\n",
       "    </tr>\n",
       "    <tr>\n",
       "      <th>4</th>\n",
       "      <td>April</td>\n",
       "      <td>5</td>\n",
       "      <td>2015</td>\n",
       "    </tr>\n",
       "    <tr>\n",
       "      <th>5</th>\n",
       "      <td>April</td>\n",
       "      <td>12</td>\n",
       "      <td>2015</td>\n",
       "    </tr>\n",
       "    <tr>\n",
       "      <th>6</th>\n",
       "      <td>April</td>\n",
       "      <td>19</td>\n",
       "      <td>2015</td>\n",
       "    </tr>\n",
       "    <tr>\n",
       "      <th>7</th>\n",
       "      <td>April</td>\n",
       "      <td>26</td>\n",
       "      <td>2015</td>\n",
       "    </tr>\n",
       "    <tr>\n",
       "      <th>8</th>\n",
       "      <td>May</td>\n",
       "      <td>3</td>\n",
       "      <td>2015</td>\n",
       "    </tr>\n",
       "    <tr>\n",
       "      <th>9</th>\n",
       "      <td>May</td>\n",
       "      <td>10</td>\n",
       "      <td>2015</td>\n",
       "    </tr>\n",
       "    <tr>\n",
       "      <th>10</th>\n",
       "      <td>May</td>\n",
       "      <td>17</td>\n",
       "      <td>2015</td>\n",
       "    </tr>\n",
       "    <tr>\n",
       "      <th>11</th>\n",
       "      <td>May</td>\n",
       "      <td>24</td>\n",
       "      <td>2015</td>\n",
       "    </tr>\n",
       "    <tr>\n",
       "      <th>12</th>\n",
       "      <td>May</td>\n",
       "      <td>31</td>\n",
       "      <td>2015</td>\n",
       "    </tr>\n",
       "    <tr>\n",
       "      <th>13</th>\n",
       "      <td>June</td>\n",
       "      <td>7</td>\n",
       "      <td>2015</td>\n",
       "    </tr>\n",
       "    <tr>\n",
       "      <th>14</th>\n",
       "      <td>June</td>\n",
       "      <td>14</td>\n",
       "      <td>2015</td>\n",
       "    </tr>\n",
       "    <tr>\n",
       "      <th>15</th>\n",
       "      <td>June</td>\n",
       "      <td>21</td>\n",
       "      <td>2015</td>\n",
       "    </tr>\n",
       "    <tr>\n",
       "      <th>16</th>\n",
       "      <td>June</td>\n",
       "      <td>28</td>\n",
       "      <td>2015</td>\n",
       "    </tr>\n",
       "    <tr>\n",
       "      <th>17</th>\n",
       "      <td>July</td>\n",
       "      <td>5</td>\n",
       "      <td>2015</td>\n",
       "    </tr>\n",
       "    <tr>\n",
       "      <th>18</th>\n",
       "      <td>July</td>\n",
       "      <td>12</td>\n",
       "      <td>2015</td>\n",
       "    </tr>\n",
       "    <tr>\n",
       "      <th>19</th>\n",
       "      <td>July</td>\n",
       "      <td>19</td>\n",
       "      <td>2015</td>\n",
       "    </tr>\n",
       "  </tbody>\n",
       "</table>\n",
       "</div>"
      ],
      "text/plain": [
       "    Month Day  Year\n",
       "0   March   8  2015\n",
       "1   March  15  2015\n",
       "2   March  22  2015\n",
       "3   March  29  2015\n",
       "4   April   5  2015\n",
       "5   April  12  2015\n",
       "6   April  19  2015\n",
       "7   April  26  2015\n",
       "8     May   3  2015\n",
       "9     May  10  2015\n",
       "10    May  17  2015\n",
       "11    May  24  2015\n",
       "12    May  31  2015\n",
       "13   June   7  2015\n",
       "14   June  14  2015\n",
       "15   June  21  2015\n",
       "16   June  28  2015\n",
       "17   July   5  2015\n",
       "18   July  12  2015\n",
       "19   July  19  2015"
      ]
     },
     "execution_count": 7,
     "metadata": {},
     "output_type": "execute_result"
    }
   ],
   "source": [
    "dfDate = pd.DataFrame(search_result, columns=['Month', 'Day','Year'])\n",
    "dfDate.head(100)"
   ]
  },
  {
   "cell_type": "markdown",
   "metadata": {
    "colab_type": "text",
    "id": "s4Q0dgoe_uBW"
   },
   "source": [
    "# Part 2 - Bag of Words \n",
    "\n",
    "### Use the twitter sentiment analysis dataset found at this link for the remainder of the Sprint Challenge:\n",
    "\n",
    "[Twitter Sentiment Analysis Dataset](https://raw.githubusercontent.com/ryanleeallred/datasets/master/twitter_sentiment_binary.csv)\n",
    "\n",
    " ### Clean and tokenize the documents ensuring the following properties of the text:\n",
    "\n",
    "1) Text should be lowercase.\n",
    "\n",
    "2) Stopwords should be removed.\n",
    "\n",
    "3) Punctuation should be removed.\n",
    "\n",
    "4) Tweets should be tokenized at the word level. \n",
    "\n",
    "(The above don't necessarily need to be completed in that specific order.)\n",
    "\n",
    "### Output some cleaned tweets so that we can see that you made all of the above changes.\n"
   ]
  },
  {
   "cell_type": "markdown",
   "metadata": {},
   "source": [
    "#### Load data"
   ]
  },
  {
   "cell_type": "code",
   "execution_count": 8,
   "metadata": {
    "colab": {},
    "colab_type": "code",
    "id": "1xzdhyTS_3F9"
   },
   "outputs": [],
   "source": [
    "#  \n",
    "url='https://raw.githubusercontent.com/ryanleeallred/datasets/master/twitter_sentiment_binary.csv'\n",
    "df=pd.read_csv(url)\n",
    "df.head()\n",
    "df2=df.copy()"
   ]
  },
  {
   "cell_type": "code",
   "execution_count": 9,
   "metadata": {},
   "outputs": [],
   "source": [
    "df['SentimentText'] = df['SentimentText'].str.lower()\n",
    "df.head()\n",
    "df2=df.copy()"
   ]
  },
  {
   "cell_type": "code",
   "execution_count": 10,
   "metadata": {},
   "outputs": [],
   "source": [
    "stop_words = stopwords.words('english')\n",
    "table = str.maketrans('','', string.punctuation)\n",
    "stop_words = set(stopwords.words('english'))"
   ]
  },
  {
   "cell_type": "code",
   "execution_count": 11,
   "metadata": {},
   "outputs": [
    {
     "data": {
      "text/html": [
       "<div>\n",
       "<style scoped>\n",
       "    .dataframe tbody tr th:only-of-type {\n",
       "        vertical-align: middle;\n",
       "    }\n",
       "\n",
       "    .dataframe tbody tr th {\n",
       "        vertical-align: top;\n",
       "    }\n",
       "\n",
       "    .dataframe thead th {\n",
       "        text-align: right;\n",
       "    }\n",
       "</style>\n",
       "<table border=\"1\" class=\"dataframe\">\n",
       "  <thead>\n",
       "    <tr style=\"text-align: right;\">\n",
       "      <th></th>\n",
       "      <th>Sentiment</th>\n",
       "      <th>SentimentText</th>\n",
       "    </tr>\n",
       "  </thead>\n",
       "  <tbody>\n",
       "    <tr>\n",
       "      <th>0</th>\n",
       "      <td>0</td>\n",
       "      <td>is so sad for my apl frie...</td>\n",
       "    </tr>\n",
       "    <tr>\n",
       "      <th>1</th>\n",
       "      <td>0</td>\n",
       "      <td>i missed the new moon trail...</td>\n",
       "    </tr>\n",
       "    <tr>\n",
       "      <th>2</th>\n",
       "      <td>1</td>\n",
       "      <td>omg its already 7:30 :o</td>\n",
       "    </tr>\n",
       "    <tr>\n",
       "      <th>3</th>\n",
       "      <td>0</td>\n",
       "      <td>.. omgaga. im sooo  im gunna cry. i'...</td>\n",
       "    </tr>\n",
       "    <tr>\n",
       "      <th>4</th>\n",
       "      <td>0</td>\n",
       "      <td>i think mi bf is cheating on me!!!   ...</td>\n",
       "    </tr>\n",
       "  </tbody>\n",
       "</table>\n",
       "</div>"
      ],
      "text/plain": [
       "   Sentiment                                      SentimentText\n",
       "0          0                       is so sad for my apl frie...\n",
       "1          0                     i missed the new moon trail...\n",
       "2          1                            omg its already 7:30 :o\n",
       "3          0            .. omgaga. im sooo  im gunna cry. i'...\n",
       "4          0           i think mi bf is cheating on me!!!   ..."
      ]
     },
     "execution_count": 11,
     "metadata": {},
     "output_type": "execute_result"
    }
   ],
   "source": [
    "df.head()"
   ]
  },
  {
   "cell_type": "code",
   "execution_count": 12,
   "metadata": {},
   "outputs": [],
   "source": [
    "df=df2.copy()\n",
    "def clean_doc(doc):\n",
    "\t# split into tokens by white space\n",
    "\t#tokens = str(doc).split(' ')\n",
    "    tokens = word_tokenize(doc)\n",
    "    #  lowercase\n",
    "    lowercase_tokens = [w.lower() for w in tokens]\n",
    "    # remove punctuation from each token\n",
    "    no_punctuation = [w.translate(table) for w in lowercase_tokens]\n",
    "    # Remove words that aren't alphabetic\n",
    "    alphabetic = [word for word in no_punctuation if word.isalpha()]\n",
    "    # filter out stop words\n",
    "    words = [w for w in alphabetic if not w in stop_words]\n",
    "\t# filter out short tokens\n",
    "\t#tokens = [word for word in words if len(word)>1]\n",
    "    return words\n",
    "\n",
    "df['SentimentText'] = df['SentimentText'].apply(clean_doc)\n",
    "df2=df.copy()"
   ]
  },
  {
   "cell_type": "code",
   "execution_count": 13,
   "metadata": {},
   "outputs": [],
   "source": [
    "df['SentimentText'] = df.SentimentText.apply(' '.join)"
   ]
  },
  {
   "cell_type": "code",
   "execution_count": 14,
   "metadata": {},
   "outputs": [
    {
     "data": {
      "text/html": [
       "<div>\n",
       "<style scoped>\n",
       "    .dataframe tbody tr th:only-of-type {\n",
       "        vertical-align: middle;\n",
       "    }\n",
       "\n",
       "    .dataframe tbody tr th {\n",
       "        vertical-align: top;\n",
       "    }\n",
       "\n",
       "    .dataframe thead th {\n",
       "        text-align: right;\n",
       "    }\n",
       "</style>\n",
       "<table border=\"1\" class=\"dataframe\">\n",
       "  <thead>\n",
       "    <tr style=\"text-align: right;\">\n",
       "      <th></th>\n",
       "      <th>Sentiment</th>\n",
       "      <th>SentimentText</th>\n",
       "    </tr>\n",
       "  </thead>\n",
       "  <tbody>\n",
       "    <tr>\n",
       "      <th>0</th>\n",
       "      <td>0</td>\n",
       "      <td>sad apl friend</td>\n",
       "    </tr>\n",
       "    <tr>\n",
       "      <th>1</th>\n",
       "      <td>0</td>\n",
       "      <td>missed new moon trailer</td>\n",
       "    </tr>\n",
       "    <tr>\n",
       "      <th>2</th>\n",
       "      <td>1</td>\n",
       "      <td>omg already</td>\n",
       "    </tr>\n",
       "    <tr>\n",
       "      <th>3</th>\n",
       "      <td>0</td>\n",
       "      <td>omgaga im sooo im gunna cry dentist since supo...</td>\n",
       "    </tr>\n",
       "    <tr>\n",
       "      <th>4</th>\n",
       "      <td>0</td>\n",
       "      <td>think mi bf cheating tt</td>\n",
       "    </tr>\n",
       "  </tbody>\n",
       "</table>\n",
       "</div>"
      ],
      "text/plain": [
       "   Sentiment                                      SentimentText\n",
       "0          0                                     sad apl friend\n",
       "1          0                            missed new moon trailer\n",
       "2          1                                        omg already\n",
       "3          0  omgaga im sooo im gunna cry dentist since supo...\n",
       "4          0                            think mi bf cheating tt"
      ]
     },
     "execution_count": 14,
     "metadata": {},
     "output_type": "execute_result"
    }
   ],
   "source": [
    "df.head()"
   ]
  },
  {
   "cell_type": "markdown",
   "metadata": {
    "colab_type": "text",
    "id": "Q764vszGqiUh"
   },
   "source": [
    "### How should TF-IDF scores be interpreted? How are they calculated?"
   ]
  },
  {
   "cell_type": "markdown",
   "metadata": {
    "colab_type": "text",
    "id": "e2Ji7BMhqs3M"
   },
   "source": [
    "#### Term Frequency / Inverse Document Frequency  #####\n",
    "\n",
    "Term Frequency: Percentage of words in document for each word\n",
    "  TF = num of times word occurs (frequency) divided by the total num of word in   the document\n",
    "\n",
    "Inverse Document Frequency: A penalty for the word existing in a high number of documents.\n",
    "    IDF = log2(total-#-documents/ #-documents-including-word )\n",
    "\n",
    "TF-IDF weighs a keyword in any content and assigns the importance to that keyword based on the number of times it appears in the document. It also checks how relevant the keyword is. Each word has its respective TF and IDF score. The product of the TF and IDF scores of a term is called the TF-IDF weight of that term.\n",
    "\n",
    "Put simply, the higher the TF-IDF score (weight), the rarer the term and vice versa.\n"
   ]
  },
  {
   "cell_type": "markdown",
   "metadata": {
    "colab_type": "text",
    "id": "3iUeBKtG_uEK"
   },
   "source": [
    "# Part 3 - Document Classification\n",
    "\n",
    "1) Use Train_Test_Split to create train and test datasets.\n",
    "\n",
    "2) Vectorize the tokenized documents using your choice of vectorization method. \n",
    "\n",
    " - Stretch goal: Use both of the methods that we talked about in class.\n",
    "\n",
    "3) Create a vocabulary using the X_train dataset and transform both your X_train and X_test data using that vocabulary.\n",
    "\n",
    "4) Use your choice of binary classification algorithm to train and evaluate your model's accuracy. Report both train and test accuracies.\n",
    "\n",
    " - Stretch goal: Use an error metric other than accuracy and implement/evaluate multiple classifiers.\n",
    "\n"
   ]
  },
  {
   "cell_type": "code",
   "execution_count": 15,
   "metadata": {
    "colab": {},
    "colab_type": "code",
    "id": "TX8OEgUP_3ee"
   },
   "outputs": [],
   "source": [
    "from sklearn.model_selection import train_test_split\n",
    "\n",
    "X = df.SentimentText.tolist()\n",
    "y = df.Sentiment\n",
    "\n",
    "X_train, X_test, y_train, y_test = train_test_split(X, y, test_size=0.2, random_state=42)\n"
   ]
  },
  {
   "cell_type": "code",
   "execution_count": 23,
   "metadata": {},
   "outputs": [
    {
     "name": "stdout",
     "output_type": "stream",
     "text": [
      "{'ca': 1929, 'nt': 5783, 'sleep': 7419, 'suggest': 7840, 'watching': 8645, 'quot': 6578, 'girlfriend': 3940, 'experience': 3497, 'ii': 4512, 'school': 7096, 'haha': 4140, 'reminding': 6757, 'case': 2083, 'forgot': 3763, 'la': 4929, 'love': 5193, 'country': 2731, 'music': 5597, 'abeeliever': 29, 'little': 5114, 'cake': 1947, 'got': 4018, 'ta': 7941, 'dont': 3176, 'know': 4901, 'coffee': 2529, 'changes': 2200, 'colour': 2555, 'lt': 5209, 'gt': 4099, 'everybody': 3457, 'dancing': 2903, 'pop': 6332, 'twitpic': 8359, 'working': 8823, 'photo': 6177, 'alas': 318, 'wan': 8617, 'na': 5606, 'hear': 4248, 'brian': 1728, 'bet': 1368, 'cute': 2869, 'like': 5075, 'voice': 8577, 'friend': 3809, 'told': 8179, 'youtube': 8963, 'video': 8546, 'tay': 7988, 'download': 3195, 'testing': 8053, 'finished': 3667, 'maaan': 5227, 'noticed': 5771, 'replied': 6777, 'week': 8676, 'ago': 235, 'edit': 3326, 'rooms': 6938, 'speed': 7588, 'http': 4437, 'time': 8144, 'long': 5157, 'wikipedia': 8739, 'failed': 3537, 'guten': 4125, 'party': 6057, 'dinner': 3086, 'kinda': 4868, 'thing': 8089, 'sign': 7341, 'good': 3994, 'night': 5713, 'sun': 7857, 'rise': 6880, 'way': 8651, 'terrible': 8044, 'warning': 8629, 'address': 146, 'sniff': 7474, 'sunny': 7864, 'today': 8172, 'ooooh': 5890, 'yes': 8937, 'dammit': 2892, 'filming': 3651, 'sigh': 7338, 'cool': 2687, 'things': 8090, 'happening': 4184, 'heyy': 4296, 'greece': 4065, 'hot': 4411, 'day': 2934, 'event': 3452, 'balls': 1170, 'fly': 3721, 'wide': 8732, 'right': 6870, 'doctor': 3152, 'lol': 5144, 'new': 5688, 'nice': 5702, 'meet': 5359, 'happy': 4189, 'mother': 5545, 'sad': 6997, 'step': 7711, 'come': 2566, 'mommy': 5511, 'makes': 5256, 'mad': 5234, 'yeah': 8921, 'remember': 6750, 'hoping': 4398, 'cody': 2527, 'fell': 3617, 'laps': 4956, 'amy': 516, 'chat': 2251, 'hon': 4375, 'soz': 7557, 'xxx': 8890, 'yep': 8934, 'think': 8093, 'old': 5861, 'far': 3564, 'eh': 3348, 'exams': 3472, 'im': 4524, 'leaving': 5018, 'punk': 6533, 'group': 4089, 'car': 2020, 'club': 2497, 'traffic': 8241, 'drinking': 3234, 'wine': 8754, 'buying': 1919, 'iphone': 4645, 'ahhh': 250, 'really': 6660, 'want': 8619, 'pictures': 6203, 'badly': 1144, 'bums': 1879, 'cancel': 1995, 'shows': 7316, 'bringing': 1748, 'bad': 1137, 'ones': 5876, 'rip': 6878, 'miss': 5465, 'favorite': 3585, 'teacher': 7997, 'important': 4541, 'person': 6144, 'wo': 8787, 'volunteer': 8581, 'help': 4282, 'lose': 5175, 'following': 3738, 'amp': 509, 'woot': 8812, 'tummy': 8324, 'hurts': 4474, 'goodnight': 4001, 'twitter': 8363, 'looks': 5164, 'gon': 3989, 'trade': 8239, 'wont': 8803, 'let': 5045, 'bc': 1255, 'original': 5931, 'owner': 5972, 'thinking': 8095, 'theory': 8082, 'homework': 4371, 'building': 1864, 'assignment': 946, 'risk': 6881, 'management': 5269, 'oh': 5840, 'son': 7515, 'gun': 4118, 'realize': 6656, 'sry': 7657, 'congrats': 2638, 'graduation': 4037, 'sweetie': 7919, 'loved': 5194, 'high': 4308, 'cdig': 2137, 'ok': 5853, 'stunning': 7808, 'beautiful': 1285, 'woman': 8794, 'rock': 6903, 'thanks': 8071, 'sharing': 7238, 'xo': 8882, 'said': 7011, 'blue': 1534, 'work': 8819, 'goin': 3984, 'amberbenson': 479, 'afford': 209, 'year': 8925, 'gunna': 4120, 'drops': 3247, 'read': 6646, 'talk': 7960, 'yous': 8961, 'tomorrow': 8188, 'abp': 44, 'awww': 1083, 'poor': 6330, 'hope': 4392, 'feel': 3610, 'better': 1381, 'soon': 7522, 'blondeyy': 1521, 'captain': 2017, 'planet': 6253, 'used': 8492, 'phone': 6175, 'cell': 2154, 'booo': 1604, 'calvinharris': 1970, 'funniest': 3849, 'met': 5402, 'pleasure': 6277, 'hi': 4301, 'huge': 4443, 'fan': 3558, 'amazing': 470, 'actor': 102, 'respond': 6809, 'make': 5254, 'incredibly': 4560, 'going': 3985, 'camping': 1987, 'fantastic': 3562, 'start': 7682, 'sunday': 7861, 'confirm': 2632, 'larry': 4961, 'king': 4873, 'gone': 3991, 'probably': 6450, 'preparing': 6411, 'attack': 979, 'expect': 3491, 'follow': 3732, 'feels': 3614, 'left': 5024, 'lonely': 5155, 'getting': 3919, 'hang': 4173, 'nonsense': 5741, 'song': 7516, 'tlc': 8163, 'favourite': 3588, 'groups': 4090, 'crazy': 2783, 'gooood': 4010, 'bit': 1442, 'weird': 8683, 'different': 3072, 'aus': 1017, 'men': 5384, 'tries': 8288, 'sell': 7163, 'hair': 4155, 'yoga': 8951, 'moisesarias': 5504, 'use': 8491, 'need': 5656, 'free': 3792, 'stock': 7738, 'great': 4060, 'looking': 5163, 'footage': 3749, 'fixed': 3687, 'grand': 4040, 'bits': 1449, 'appreciate': 776, 'amandafortier': 462, 'rain': 6596, 'wanted': 8620, 'amyriadfthings': 528, 'ya': 8893, 'anxious': 730, 'morning': 5541, 'wednesday': 8671, 'food': 3744, 'french': 3797, 'chased': 2247, 'rainbow': 6597, 'ended': 3384, 'field': 3634, 'walk': 8608, 'end': 3383, 'send': 7171, 'pm': 6289, 'ask': 931, 'bones': 1583, 'people': 6122, 'invite': 4637, 'yum': 8976, 'worth': 8839, 'ceetee': 2141, 'dude': 3268, 'capture': 2019, 'moments': 5509, 'craigbucknall': 2764, 'mr': 5565, 'craig': 2763, 'gday': 3891, 'sir': 7374, 'heehee': 4267, 'coming': 2581, 'waiting': 8601, 'beta': 1369, 'post': 6359, 'wait': 8598, 'longer': 5158, 'doin': 3165, 'xbox': 8875, 'play': 6264, 'cheering': 2276, 'finally': 3657, 'asleep': 938, 'wow': 8847, 'nosey': 5763, 'amieewhitney': 492, 'speak': 7573, 'truth': 8306, 'dear': 2947, 'thank': 8067, 'welcome': 8686, 'fix': 3686, 'face': 3528, 'bass': 1225, 'whats': 8702, 'ur': 8478, 'buddy': 1849, 'slept': 7426, 'father': 3577, 'eat': 3313, 'brunch': 1811, 'birthday': 1437, 'celebrity': 2150, 'nowww': 5781, 'followers': 3735, 'thats': 8076, 'life': 5065, 'plan': 6250, 'agenda': 226, 'weekly': 8679, 'nights': 5716, 'awe': 1066, 'sees': 7153, 'yess': 8938, 'andrewhuntre': 565, 'able': 40, 'perform': 6131, 'thrown': 8119, 'big': 1400, 'house': 4420, 'loads': 5132, 'fun': 3840, 'officially': 5838, 'dress': 3225, 'alexandramusic': 339, 'singing': 7367, 'moment': 5508, 'annalynnemc': 660, 'white': 8714, 'cars': 2074, 'bmw': 1548, 'amaram': 466, 'usually': 8502, 'prefer': 6399, 'fic': 3632, 'hooked': 4387, 'alexalltimelow': 337, 'signing': 7344, 'stuff': 7804, 'awkward': 1080, 'shorts': 7295, 'sorry': 7534, 'convince': 2676, 'lovely': 5198, 'job': 4751, 'site': 7382, 'look': 5160, 'geoff': 3910, 'articles': 880, 'split': 7612, 'seo': 7181, 'research': 6796, 'christian': 2398, 'coaching': 2511, 'thai': 8064, 'seriously': 7189, 'hours': 4419, 'friday': 3805, 'fair': 3541, 'aprilyim': 797, 'sore': 7532, 'feet': 3616, 'arms': 853, 'loose': 5171, 'angst': 625, 'jimmy': 4747, 'carey': 2034, 'lion': 5098, 'damnit': 2895, 'lady': 4937, 'tired': 8153, 'playing': 6269, 'sister': 7379, 'hahahaha': 4146, 'understand': 8422, 'trying': 8309, 'achieve': 82, 'followfriday': 3736, 'blottedcopybook': 1527, 'guys': 4128, 'girl': 3939, 'gave': 3887, 'bands': 1184, 'hahaha': 4143, 'hugs': 4446, 'wish': 8770, 'el': 3350, 'puerto': 6521, 'startup': 7688, 'fail': 3536, 'worry': 8834, 'friends': 3811, 'expert': 3500, 'aww': 1082, 'iloveyou': 4522, 'nervous': 5676, 'andyclemmensen': 575, 'close': 2480, 'eyes': 3523, 'andrear': 553, 'talking': 7963, 'jacob': 4691, 'doll': 3167, 'consolation': 2653, 'conservative': 2649, 'interested': 4617, 'filthy': 3654, 'azzyheartsw': 1103, 'mm': 5487, 'later': 4971, 'tonight': 8195, 'brentspiner': 1723, 'smile': 7452, 'care': 2028, 'tell': 8024, 'archukat': 815, 'yung': 8981, 'game': 3871, 'sa': 6995, 'stupid': 7809, 'boys': 1656, 'pic': 6193, 'home': 4363, 'july': 4797, 'bout': 1640, 'buy': 1918, 'ticket': 8133, 'cutest': 2870, 'baby': 1112, 'seen': 7152, 'movie': 5560, 'yall': 8902, 'laughed': 4976, 'lunch': 5217, 'nd': 5645, 'massage': 5311, 'sounds': 7545, 'lifestyle': 5067, 'ashleytisdale': 918, 'pa': 5983, 'bring': 1747, 'soup': 7547, 'add': 130, 'milk': 5437, 'slightly': 7432, 'terrifying': 8049, 'unfortunately': 8436, 'local': 5134, 'size': 7389, 'overseas': 5965, 'order': 5919, 'exploring': 3509, 'options': 5914, 'spend': 7596, 'scared': 7083, 'uni': 8439, 'ton': 8192, 'fans': 3561, 'nuts': 5794, 'came': 1974, 'sooo': 7524, 'jealous': 4719, 'hiding': 4307, 'times': 8147, 'amiemccarron': 493, 'puppies': 6535, 'clean': 2456, 'smokin': 7460, 'early': 3300, 'bday': 1260, 'check': 2263, 'ass': 943, 'forward': 3775, 'ship': 7266, 'dock': 3150, 'stand': 7672, 'link': 5094, 'feelings': 3613, 'thought': 8107, 'lie': 5061, 'yea': 8915, 'oooo': 5889, 'kitties': 4885, 'instead': 4606, 'musicmonday': 5599, 'nope': 5755, 'project': 6478, 'meetings': 5361, 'bug': 1857, 'stuck': 7796, 'babysitting': 1123, 'knows': 4906, 'bed': 1308, 'lookin': 5162, 'reason': 6663, 'awake': 1058, 'atm': 972, 'omg': 5872, 'saw': 7068, 'batyasmusic': 1238, 'ooops': 5893, 'ha': 4132, 'certainly': 2168, 'myweakness': 5605, 'tall': 7965, 'heels': 4268, 'ohhhh': 5843, 'awesome': 1070, 'damn': 2893, 'sooner': 7523, 'monday': 5514, 'cause': 2118, 'freaking': 3788, 'jam': 4699, 'courtneysit': 2745, 'actually': 107, 'aplusk': 749, 'makeup': 5257, 'say': 7069, 'nina': 5724, 'blogging': 1512, 'thoughts': 8108, 'lying': 5224, 'id': 4497, 'mcfly': 5337, 'mcr': 5339, 'reply': 6779, 'sounded': 7543, 'cheers': 2278, 'lot': 5182, 'bloody': 1523, 'duty': 3282, 'keeping': 4832, 'till': 8142, 'ex': 3467, 'drummer': 3254, 'drums': 3256, 'band': 1183, 'le': 4997, 'meeting': 5360, 'cheer': 2273, 'hey': 4294, 'chuck': 2407, 'bb': 1242, 'england': 3393, 'real': 6651, 'truly': 8304, 'opening': 5898, 'sing': 7362, 'climb': 2474, 'lost': 5181, 'camera': 1975, 'pics': 6201, 'tried': 8287, 'luck': 5211, 'fresh': 3801, 'da': 2880, 'called': 1961, 'chocolate': 2362, 'works': 8825, 'known': 4905, 'antzpantz': 727, 'crappy': 2771, 'piano': 6192, 'beginning': 1320, 'en': 3380, 'middle': 5421, 'proper': 6493, 'tumblr': 8323, 'stop': 7747, 'retweeting': 6836, 'forgive': 3761, 'lame': 4947, 'ebay': 3318, 'dollars': 3169, 'coz': 2754, 'drunk': 3257, 'visit': 8568, 'fall': 3546, 'rest': 6816, 'took': 8200, 'social': 7492, 'media': 5352, 'friendly': 3810, 'cash': 2088, 'monies': 5519, 'didnt': 3064, 'brother': 1797, 'dad': 2881, 'likes': 5078, 'nick': 5706, 'says': 7073, 'useless': 8494, 'head': 4234, 'prize': 6447, 'patrol': 6081, 'sure': 7885, 'away': 1064, 'trashy': 8261, 'anymore': 737, 'hard': 4191, 'ppl': 6385, 'watch': 8642, 'wines': 8755, 'red': 6699, 'dat': 2921, 'tn': 8169, 'visible': 8566, 'updated': 8464, 'images': 4528, 'forgetting': 3760, 'previous': 6428, 'areas': 821, 'peeps': 6113, 'recognized': 6683, 'male': 5261, 'aw': 1055, 'seeing': 7150, 'brain': 1669, 'finger': 3664, 'bigdaws': 1402, 'hm': 4337, 'fart': 3569, 'bum': 1874, 'valley': 8514, 'best': 1363, 'breakfast': 1701, 'open': 5896, 'window': 8751, 'roof': 6934, 'radio': 6591, 'gf': 3920, 'iremember': 4653, 'havin': 4220, 'yesterday': 8942, 'twilight': 8354, 'lucky': 5213, 'ran': 6612, 'solo': 7505, 'mothers': 5546, 'rained': 6600, 'comin': 2580, 'dwn': 3288, 'blessed': 1488, 'moon': 5535, 'bogwhoppit': 1568, 'prob': 6449, 'bbq': 1250, 'means': 5347, 'bought': 1635, 'alot': 434, 'owe': 5968, 'shirt': 7269, 'weeks': 8680, 'weekend': 8677, 'somewhat': 7514, 'aceybongos': 78, 'guitar': 4115, 'demo': 3000, 'join': 4759, 'nooooo': 5749, 'xd': 8877, 'past': 6068, 'sarah': 7048, 'connor': 2647, 'studio': 7801, 'dang': 2904, 'yay': 8909, 'danny': 2910, 'hate': 4208, 'screw': 7119, 'tail': 7950, 'spot': 7630, 'blast': 1478, 'brought': 1799, 'definitely': 2976, 'museum': 5595, 'crap': 2770, 'season': 7133, 'went': 8692, 'walked': 8609, 'feast': 3596, 'arianesherine': 835, 'funny': 3850, 'comeback': 2568, 'speechless': 7587, 'adelgabot': 151, 'sat': 7054, 'london': 5154, 'rach': 6584, 'ff': 3630, 'ohh': 5841, 'meant': 5348, 'message': 5394, 'asia': 925, 'gooo': 4007, 'computer': 2613, 'angelakeen': 595, 'jazz': 4715, 'update': 8463, 'dog': 3160, 'joining': 4761, 'road': 6889, 'god': 3980, 'awful': 1075, 'sneezing': 7473, 'ugh': 8394, 'build': 1863, 'dunno': 3277, 'broke': 1780, 'yard': 8906, 'lived': 5116, 'apt': 798, 'ps': 6504, 'guy': 4127, 'sent': 7178, 'super': 7871, 'junior': 4803, 'catherine': 2108, 'mary': 5305, 'anjeebaby': 646, 'page': 5993, 'cider': 2418, 'cat': 2100, 'bclub': 1256, 'shoot': 7285, 'distance': 3127, 'jokes': 4764, 'resist': 6802, 'quoting': 6581, 'dave': 2929, 'keeps': 4833, 'hurt': 4472, 'tcot': 7992, 'giving': 3953, 'crc': 2787, 'tacos': 7946, 'huh': 4447, 'leave': 5016, 'bathroom': 1231, 'managed': 5268, 'literally': 5113, 'threw': 8113, 'air': 278, 'shattered': 7242, 'small': 7443, 'glass': 3957, 'ohhh': 5842, 'prices': 6430, 'dropped': 3245, 'booked': 1596, 'flights': 3705, 'days': 2935, 'ms': 5569, 'jumped': 4799, 'bluenscottish': 1539, 'wear': 8658, 'nite': 5727, 'evening': 3451, 'dm': 3145, 'skype': 7410, 'info': 4577, 'hehe': 4271, 'confused': 2635, 'especially': 3438, 'apple': 763, 'brill': 1745, 'goat': 3979, 'die': 3065, 'cartphotography': 2080, 'boohoo': 1594, 'disappointed': 3103, 'voting': 8588, 'slower': 7436, 'constant': 2655, 'kidding': 4853, 'alcarlton': 324, 'usual': 8501, 'suitcase': 7848, 'shoes': 7284, 'clothes': 2489, 'kizzle': 4887, 'guess': 4107, 'save': 7063, 'anotha': 703, 'twin': 8355, 'brains': 1670, 'sth': 7722, 'catchy': 2105, 'title': 8158, 'newspaper': 5694, 'mag': 5237, 'alexderossi': 343, 'knew': 4894, 'po': 6292, 'ng': 5696, 'version': 8535, 'mo': 5494, 'cold': 2534, 'email': 3364, 'shut': 7326, 'stay': 7700, 'earn': 3301, 'money': 5516, 'live': 5115, 'maybe': 5332, 'tht': 8121, 'listening': 5110, 'sex': 7210, 'hospital': 4407, 'sporting': 7627, 'wasnt': 8636, 'informed': 4579, 'berry': 1360, 'attacked': 980, 'blog': 1508, 'comment': 2582, 'comeagainjen': 2567, 'fucking': 3837, 'tweeting': 8349, 'recipe': 6677, 'coolness': 2691, 'felt': 3621, 'happened': 4183, 'tv': 8337, 'fine': 3662, 'chilly': 2347, 'angeline': 604, 'kill': 4859, 'mouse': 5555, 'glad': 3954, 'andrewbarnett': 558, 'try': 8307, 'unless': 8450, 'placed': 6247, 'special': 7580, 'priority': 6443, 'second': 7140, 'documentary': 3155, 'particularly': 6052, 'fascinating': 3570, 'cricket': 2803, 'mate': 5319, 'story': 7758, 'sticking': 7727, 'aye': 1089, 'brampitoyo': 1673, 'web': 8663, 'listen': 5107, 'todays': 8173, 'alex': 332, 'boo': 1591, 'hug': 4442, 'kiss': 4876, 'hanging': 4175, 'xoxox': 8886, 'hmmm': 4339, 'welll': 8687, 'missed': 5467, 'bored': 1618, 'drink': 3232, 'tax': 7986, 'checking': 2267, 'asylum': 960, 'google': 4006, 'rocks': 6909, 'max': 5329, 'remix': 6760, 'acoustic': 90, 'shit': 7271, 'safe': 7007, 'trip': 8290, 'ready': 6650, 'hill': 4320, 'run': 6982, 'happiness': 4188, 'ultimate': 8407, 'summer': 7852, 'rainbows': 6598, 'sky': 7409, 'goodbye': 3995, 'catirah': 2114, 'rite': 6882, 'sweet': 7916, 'dreams': 3224, 'dc': 2937, 'yummy': 8979, 'trivia': 8294, 'lake': 4941, 'btw': 1832, 'blakedan': 1470, 'woooo': 8810, 'totally': 8220, 'adam': 111, 'tour': 8225, 'videos': 8547, 'break': 1698, 'ice': 4488, 'brit': 1752, 'heart': 4251, 'church': 2413, 'physically': 6189, 'bradiewebbstack': 1666, 'fight': 3637, 'forget': 3759, 'alright': 439, 'feeling': 3612, 'minute': 5456, 'ate': 962, 'burger': 1888, 'miles': 5432, 'gigs': 3934, 'filled': 3647, 'tunes': 8328, 'drive': 3236, 'crashed': 2773, 'saved': 7064, 'drain': 3210, 'lmfao': 5127, 'draw': 3215, 'wash': 8632, 'ashsimpsonwentz': 920, 'wana': 8618, 'blame': 1473, 'family': 3556, 'xx': 8889, 'response': 6812, 'basedmagazine': 1216, 'dead': 2940, 'charger': 2222, 'rich': 6857, 'pick': 6194, 'mail': 5245, 'tweet': 8342, 'dying': 3291, 'horrible': 4401, 'liked': 5076, 'absolutely': 52, 'started': 7683, 'using': 8499, 'lines': 5092, 'forever': 3758, 'lets': 5046, 'dnt': 3148, 'babe': 1108, 'messed': 5397, 'kid': 4851, 'type': 8382, 'write': 8852, 'cousins': 2747, 'younger': 8958, 'cousin': 2746, 'pleased': 6275, 'rachel': 6586, 'fav': 3581, 'gahhh': 3864, 'youuuu': 8966, 'peace': 6102, 'twittering': 8370, 'carsonjdaly': 2076, 'tweetie': 8347, 'congratulations': 2641, 'heard': 4249, 'noooo': 5748, 'clearly': 2464, 'boyceavenue': 1650, 'wondered': 8798, 'philippines': 6169, 'barefootexec': 1205, 'beg': 1317, 'orange': 5917, 'book': 1595, 'pose': 6352, 'hmm': 4338, 'publicity': 6517, 'ke': 4828, 'se': 7125, 'question': 6566, 'flowers': 3717, 'performing': 6135, 'ru': 6965, 'gee': 3893, 'yo': 8950, 'picture': 6202, 'ugly': 8398, 'layout': 4993, 'needs': 5661, 'improvement': 4547, 'logo': 5143, 'adbert': 128, 'enjoyed': 3398, 'betty': 1382, 'tuning': 8329, 'broadcast': 1775, 'honor': 4381, 'greg': 4074, 'reading': 6648, 'svu': 7902, 'fanfic': 3560, 'soccer': 7491, 'team': 8000, 'yellow': 8933, 'auckland': 996, 'jb': 4716, 'soo': 7521, 'suppose': 7881, 'dvd': 3283, 'release': 6739, 'commercial': 2587, 'david': 2930, 'arch': 811, 'gma': 3970, 'sis': 7375, 'showed': 7310, 'couple': 2734, 'cam': 1971, 'bealove': 1264, 'winter': 8764, 'pain': 5997, 'idea': 4499, 'sings': 7370, 'youuu': 8965, 'craving': 2777, 'glasses': 3958, 'photoshoot': 6183, 'pissed': 6231, 'happen': 4181, 'plz': 6288, 'eye': 3520, 'comes': 2572, 'piss': 6230, 'loving': 5204, 'hahah': 4142, 'char': 2215, 'word': 8814, 'habit': 4134, 'included': 4555, 'longest': 5159, 'poem': 6297, 'world': 8827, 'hour': 4418, 'age': 223, 'talks': 7964, 'loves': 5201, 'texas': 8056, 'cincy': 2422, 'havent': 4218, 'saving': 7067, 'america': 488, 'plus': 6287, 'backstreet': 1132, 'currently': 2860, 'rocking': 6908, 'alohaarleen': 430, 'hello': 4278, 'pay': 6088, 'tx': 8377, 'choley': 2369, 'smells': 7449, 'gross': 4086, 'decided': 2959, 'andygoulding': 577, 'apprentice': 780, 'photos': 6182, 'sanctuarysunday': 7035, 'mission': 5471, 'sanctuary': 7034, 'trending': 8276, 'topic': 8209, 'lots': 5184, 'board': 1553, 'whyitweet': 8726, 'ipod': 4647, 'ftw': 3832, 'buckhollywood': 1843, 'room': 6935, 'arjbarker': 847, 'staying': 7703, 'melbourne': 5371, 'turned': 8332, 'laptop': 4957, 'headache': 4235, 'alauderdale': 320, 'innocent': 4588, 'skittles': 7406, 'streaming': 7773, 'weather': 8662, 'lolz': 5153, 'intend': 4612, 'nyc': 5800, 'flags': 3692, 'half': 4159, 'staff': 7663, 'memory': 5382, 'fried': 3808, 'burned': 1891, 'blakelewis': 1472, 'chrishasboobs': 2388, 'theres': 8085, 'alive': 378, 'catching': 2104, 'attention': 987, 'blasha': 1477, 'believe': 1331, 'ive': 4681, 'month': 5527, 'annijb': 681, 'um': 8408, 'waaaay': 8591, 'creative': 2793, 'energy': 3388, 'amandapalmer': 465, 'cocotteloup': 2518, 'appreciated': 777, 'sound': 7542, 'airport': 281, 'china': 2350, 'backpack': 1128, 'falling': 3548, 'apart': 745, 'dell': 2995, 'mini': 5450, 'ubuntu': 8391, 'delicious': 2989, 'sugar': 7839, 'purple': 6542, 'uhh': 8400, 'died': 3066, 'worst': 8838, 'pretty': 6425, 'easy': 3312, 'scary': 7086, 'movies': 5561, 'xbianca': 8874, 'short': 7291, 'profile': 6470, 'comments': 2586, 'newest': 5691, 'wrk': 8859, 'gettin': 3918, 'company': 2597, 'picnic': 6200, 'wit': 8775, 'babes': 1110, 'chance': 2195, 'thunderstorms': 8126, 'amandafd': 461, 'living': 5120, 'mama': 5264, 'mind': 5447, 'downloaded': 3196, 'neon': 5670, 'cover': 2748, 'universe': 8447, 'sucks': 7833, 'planning': 6255, 'alyankovic': 448, 'hacked': 4137, 'website': 8666, 'waaay': 8592, 'words': 8817, 'ashley': 912, 'tisdale': 8156, 'suits': 7850, 'cuz': 2874, 'throwing': 8118, 'soooo': 7525, 'excited': 3476, 'tweets': 8350, 'worrying': 8835, 'sick': 7332, 'girlie': 3942, 'husband': 4475, 'daily': 2884, 'dose': 3187, 'strike': 7783, 'fast': 3572, 'ttyl': 8316, 'raining': 6601, 'amylovesoliver': 525, 'dana': 2897, 'body': 1566, 'lotion': 5183, 'crack': 2756, 'responsible': 6815, 'mornings': 5542, 'quick': 6569, 'infamous': 4572, 'code': 2522, 'hell': 4276, 'anntrs': 693, 'zack': 8988, 'deserve': 3022, 'signed': 7343, 'pizza': 6243, 'claudekelly': 2451, 'park': 6043, 'fairly': 3542, 'regular': 6723, 'updates': 8465, 'guns': 4121, 'maps': 5281, 'baxiabhishek': 1240, 'treat': 8267, 'win': 8749, 'hbo': 4231, 'request': 6785, 'hammer': 4166, 'heavy': 4261, 'hav': 4217, 'twittered': 8365, 'anuheajams': 728, 'partying': 6058, 'wolverine': 8793, 'ty': 8379, 'wishes': 8772, 'pt': 6513, 'helped': 4283, 'serving': 7196, 'archism': 814, 'wondering': 8801, 'cakes': 1948, 'years': 8926, 'eager': 3296, 'learn': 5010, 'wtf': 8862, 'agentbooth': 228, 'worried': 8832, 'nap': 5622, 'bebiv': 1293, 'course': 2738, 'def': 2971, 'practice': 6389, 'stressed': 7778, 'power': 6381, 'prayer': 6393, 'allison': 397, 'digital': 3079, 'basic': 1220, 'level': 5050, 'florida': 3714, 'women': 8795, 'wet': 8697, 'tshirts': 8313, 'brinshannara': 1750, 'viewing': 8550, 'japan': 4706, 'including': 4557, 'hotel': 4412, 'round': 6950, 'dream': 3222, 'change': 2197, 'outdoor': 5945, 'concert': 2620, 'wee': 8673, 'darling': 2916, 'waving': 8650, 'andrewdearling': 560, 'bless': 1487, 'beijing': 1325, 'sexy': 7213, 'drawing': 3216, 'wall': 8612, 'europe': 3445, 'green': 4068, 'unfollow': 8431, 'considering': 2652, 'kyle': 4927, 'mmmm': 5489, 'beans': 1268, 'places': 6248, 'spose': 7629, 'adobe': 165, 'huggles': 4444, 'list': 5105, 'fishy': 3680, 'fish': 3678, 'cambridge': 1972, 'mall': 5262, 'ears': 3304, 'pierced': 6208, 'yikes': 8947, 'coollike': 2690, 'pub': 6515, 'magic': 5241, 'tough': 8224, 'note': 5764, 'self': 7161, 'masters': 5316, 'hardcore': 4192, 'pull': 6524, 'iron': 4656, 'twice': 8353, 'gym': 4131, 'unbelievable': 8414, 'depends': 3011, 'cartoons': 2079, 'brendonuriesays': 1720, 'wild': 8741, 'wings': 8757, 'near': 5647, 'apartment': 746, 'closed': 2481, 'goddamn': 3981, 'mango': 5273, 'unlike': 8451, 'crying': 2826, 'shame': 7228, 'honest': 4376, 'stack': 7660, 'bodies': 1565, 'tragic': 8243, 'france': 3782, 'flight': 3704, 'lovee': 5195, 'fully': 3839, 'supposedly': 7883, 'saddest': 7001, 'sen': 7170, 'babygirlparis': 1114, 'joe': 4753, 'kno': 4897, 'dance': 2898, 'speech': 7586, 'senior': 7174, 'farewell': 3566, 'goes': 3983, 'mrs': 5566, 'broken': 1782, 'stopped': 7748, 'machine': 5231, 'pocket': 6293, 'bye': 1924, 'bucks': 1844, 'tea': 7995, 'alexarpd': 341, 'awwww': 1084, 'sweets': 7921, 'bubblegarm': 1837, 'wrong': 8860, 'breagrant': 1697, 'upload': 8468, 'error': 3433, 'jumping': 4800, 'scholarship': 7095, 'mom': 5507, 'cut': 2868, 'workout': 8824, 'running': 6985, 'late': 4969, 'billpalmer': 1418, 'surprised': 7891, 'shot': 7298, 'conference': 2628, 'manage': 5267, 'tie': 8137, 'affair': 202, 'bro': 1773, 'trouble': 8297, 'nearly': 5650, 'apparently': 756, 'showing': 7314, 'guilt': 4113, 'pass': 6060, 'blink': 1495, 'light': 5070, 'bulb': 1866, 'tears': 8003, 'caige': 1943, 'plans': 6256, 'norway': 5761, 'snap': 7470, 'revise': 6844, 'fuck': 3834, 'wwwtweeterfollowcom': 8873, 'train': 8247, 'vip': 8559, 'bizziefan': 1456, 'doc': 3149, 'silly': 7351, 'grumpy': 4098, 'bradiewebb': 1665, 'shaundiviney': 7244, 'gold': 3986, 'squarespace': 7649, 'odds': 5825, 'worse': 8836, 'winning': 8762, 'wonder': 8797, 'gives': 3951, 'dry': 3259, 'mouth': 5556, 'colorblindfish': 2553, 'mean': 5343, 'inaperfectworld': 4550, 'hq': 4431, 'mix': 5481, 'mastered': 5315, 'reminded': 6755, 'transfer': 8254, 'kan': 4812, 'joy': 4782, 'children': 2339, 'ampersandrea': 510, 'jp': 4784, 'seat': 7135, 'gay': 3888, 'smelly': 7450, 'secretly': 7143, 'ear': 3297, 'headphones': 4241, 'pricks': 6431, 'shite': 7272, 'speaker': 7574, 'songs': 7517, 'ditto': 3136, 'min': 5446, 'realized': 6657, 'kind': 4867, 'baking': 1161, 'mood': 5532, 'fridge': 3807, 'bake': 1159, 'accounts': 71, 'deleted': 2986, 'foods': 3745, 'collapse': 2540, 'excuse': 3480, 'sox': 7555, 'span': 7568, 'minutes': 5457, 'suck': 7829, 'disconnected': 3109, 'austinirl': 1028, 'alegrya': 328, 'sydney': 7934, 'iranelection': 4650, 'british': 1755, 'steven': 7719, 'soothing': 7530, 'ceremony': 2166, 'adriannecurry': 177, 'slowly': 7437, 'store': 7752, 'holy': 4362, 'making': 5259, 'legit': 5030, 'slow': 7435, 'connection': 2645, 'dogs': 3163, 'scare': 7082, 'creepy': 2800, 'disgusting': 3117, 'nightmares': 5715, 'teeth': 8019, 'darn': 2917, 'blank': 1475, 'downtime': 3201, 'telling': 8025, 'chrisbrogan': 2379, 'respect': 6808, 'garbage': 3878, 'ed': 3323, 'hardy': 4197, 'thks': 8098, 'impact': 4539, 'dozen': 3204, 'buck': 1841, 'article': 879, 'caught': 2116, 'nasty': 5627, 'stomach': 7743, 'flu': 3718, 'gets': 3917, 'nooooooooo': 5753, 'reg': 6714, 'australia': 1030, 'til': 8141, 'juss': 4807, 'joined': 4760, 'authenticstyle': 1034, 'thx': 8129, 'encouraging': 3382, 'allisonmack': 398, 'brianlittrell': 1729, 'quite': 6575, 'mess': 5393, 'caused': 2119, 'aubreyoday': 993, 'easier': 3307, 'texted': 8058, 'office': 5834, 'collect': 2541, 'characters': 2217, 'saturday': 7058, 'angels': 608, 'demons': 3001, 'doggy': 3162, 'box': 1644, 'toys': 8232, 'supposed': 7882, 'camp': 1984, 'mares': 5285, 'ashamed': 901, 'wedding': 8669, 'concerts': 2621, 'ruin': 6973, 'arent': 824, 'aim': 270, 'charlie': 2235, 'challenge': 2187, 'streets': 7775, 'dressed': 3226, 'accident': 67, 'swear': 7908, 'bamaisme': 1174, 'gud': 4104, 'gots': 4022, 'carlislecullen': 2041, 'irl': 4655, 'myspace': 5603, 'carlisle': 2040, 'character': 2216, 'blokeslib': 1516, 'recovered': 6696, 'quickly': 6571, 'copy': 2698, 'low': 5205, 'shaun': 7243, 'corrected': 2706, 'spelt': 7594, 'andy': 572, 'daddy': 2882, 'boot': 1609, 'discuss': 3114, 'lil': 5082, 'incredible': 4559, 'clothing': 2490, 'fl': 3690, 'black': 1463, 'paid': 5995, 'problem': 6451, 'area': 820, 'woke': 8789, 'morn': 5539, 'looked': 5161, 'replies': 6778, 'shall': 7226, 'released': 6740, 'anniversary': 682, 'mmmmm': 5490, 'delish': 2991, 'catch': 2103, 'goooo': 4009, 'boston': 1626, 'drowning': 3250, 'nj': 5728, 'ducks': 3267, 'alarm': 317, 'abcdefglynis': 26, 'anastaciakayray': 541, 'star': 7677, 'trek': 8274, 'point': 6302, 'mu': 5575, 'indonesia': 4567, 'squad': 7647, 'deep': 2968, 'cost': 2714, 'tommy': 8185, 'beats': 1281, 'fed': 3602, 'alike': 368, 'mum': 5587, 'andrew': 556, 'rumor': 6979, 'accurate': 73, 'adorable': 168, 'caseysevenfold': 2087, 'anyways': 739, 'bunny': 1883, 'ripped': 6879, 'pieces': 6206, 'vet': 8537, 'puts': 6549, 'gate': 3885, 'contest': 2664, 'popularity': 6340, 'votes': 8587, 'realy': 6662, 'cancer': 1998, 'mint': 5454, 'windows': 8752, 'sucky': 7834, 'prince': 6436, 'amandacolbert': 459, 'sleeping': 7421, 'ariherzog': 841, 'track': 8235, 'regardless': 6716, 'tracking': 8236, 'alittlebit': 376, 'threatening': 8112, 'suspect': 7899, 'student': 7797, 'untill': 8459, 'card': 2025, 'bobbyllew': 1563, 'vanished': 8523, 'eatin': 3315, 'sour': 7548, 'enjoying': 3399, 'talented': 7958, 'artist': 881, 'changing': 2202, 'lighting': 5072, 'episode': 3418, 'raw': 6636, 'particular': 6051, 'axelsrose': 1087, 'likely': 5077, 'lifetime': 5068, 'spoon': 7624, 'bus': 1897, 'edition': 3328, 'difficult': 3074, 'million': 5439, 'celebration': 2148, 'chrisdjmoyles': 2384, 'bexiclepop': 1387, 'newcastle': 5690, 'rubbish': 6969, 'turn': 8331, 'pix': 6239, 'puppy': 6536, 'hatin': 4213, 'state': 7691, 'sold': 7503, 'shirts': 7270, 'jared': 4708, 'thankyou': 8073, 'gang': 3875, 'cone': 2626, 'chips': 2356, 'pier': 6207, 'followed': 3733, 'cream': 2788, 'aneehan': 588, 'finals': 3658, 'wooo': 8809, 'wants': 8622, 'needed': 5658, 'amsterdam': 512, 'vegas': 8526, 'angiemartinez': 615, 'isnt': 4664, 'news': 5692, 'date': 2923, 'applied': 771, 'fingers': 3665, 'crossed': 2814, 'hunting': 4467, 'pairs': 6005, 'socks': 7495, 'spiders': 7602, 'paranoid': 6037, 'thanx': 8074, 'sales': 7019, 'opportunities': 5906, 'hidden': 4304, 'britneyspears': 1759, 'bummed': 1875, 'seats': 7136, 'gig': 3930, 'chantiparnell': 2209, 'agree': 236, 'holly': 4359, 'chicken': 2329, 'enjoy': 3396, 'anyabast': 731, 'stubborn': 7795, 'caring': 2036, 'cupcakes': 2852, 'roomie': 6936, 'scratch': 7111, 'door': 3182, 'goto': 4021, 'large': 4959, 'machines': 5232, 'cares': 2033, 'fighting': 3638, 'walking': 8610, 'hunger': 4461, 'starving': 7689, 'limit': 5086, 'ch': 2177, 'annoying': 691, 'wwwiamsoannoyedcom': 8871, 'price': 6429, 'national': 5633, 'bnp': 1550, 'learned': 5011, 'affirmingspirit': 208, 'nancy': 5619, 'beverly': 1385, 'authentic': 1033, 'bimbler': 1426, 'ignoring': 4508, 'honored': 4382, 'miserable': 5462, 'man': 5266, 'coursework': 2740, 'finish': 3666, 'cheating': 2262, 'harry': 4203, 'potter': 6372, 'candicotton': 2002, 'loli': 5146, 'exactly': 3469, 'posted': 6361, 'hook': 4386, 'hit': 4332, 'eachother': 3295, 'city': 2434, 'walks': 8611, 'afrobella': 219, 'bgirlshorty': 1393, 'booooo': 1606, 'csiprintchick': 2832, 'yrs': 8970, 'whyy': 8727, 'okayy': 5855, 'poster': 6362, 'boy': 1649, 'sadly': 7004, 'okay': 5854, 'thinks': 8096, 'sinus': 7372, 'infection': 4574, 'marginatasnaily': 5288, 'pool': 6328, 'cherry': 2302, 'nude': 5785, 'alancarr': 312, 'alan': 309, 'present': 6414, 'extremely': 3519, 'evil': 3463, 'lmao': 5125, 'grad': 4031, 'moving': 5562, 'chrisdaughtry': 2383, 'information': 4578, 'kobe': 4912, 'lebron': 5019, 'commercials': 2588, 'monica': 5518, 'born': 1621, 'death': 2950, 'responses': 6813, 'offered': 5831, 'allieloves': 394, 'chem': 2294, 'exam': 3470, 'ho': 4343, 'brittoncampbell': 1770, 'blackberry': 1464, 'er': 3424, 'lotsa': 5185, 'mee': 5356, 'proud': 6499, 'battery': 1235, 'banksyart': 1193, 'posting': 6364, 'probs': 6454, 'account': 70, 'beartwinsmom': 1273, 'awwwww': 1085, 'apology': 752, 'accepted': 65, 'syntax': 7937, 'knowwww': 4909, 'porn': 6343, 'stars': 7681, 'tanks': 7970, 'sweat': 7910, 'tat': 7982, 'dilemma': 3080, 'sit': 7381, 'jk': 4749, 'icky': 4493, 'font': 3742, 'bigger': 1405, 'tho': 8103, 'fab': 3525, 'cuppa': 2853, 'alyssamilano': 452, 'alyssa': 451, 'germany': 3915, 'unit': 8444, 'fuel': 3838, 'apercheddove': 747, 'spell': 7591, 'published': 6519, 'prolly': 6481, 'jake': 4698, 'hes': 4292, 'suprise': 7884, 'wouldnt': 8843, 'brandywandlover': 1684, 'earlier': 3299, 'mowing': 5564, 'cook': 2679, 'youu': 8964, 'kids': 4858, 'upbeat': 8461, 'retweet': 6835, 'bag': 1147, 'san': 7032, 'antonio': 725, 'place': 6246, 'clue': 2499, 'figure': 3640, 'wearing': 8660, 'sniffs': 7477, 'items': 4674, 'line': 5091, 'walmart': 8616, 'den': 3002, 'nerd': 5672, 'books': 1598, 'dvds': 3284, 'amazon': 475, 'spending': 7597, 'solid': 7504, 'base': 1213, 'improve': 4546, 'chester': 2314, 'shade': 7217, 'ancillatilia': 546, 'ds': 3261, 'mario': 5292, 'racing': 6588, 'smh': 7451, 'beating': 1279, 'crucifire': 2818, 'steph': 7712, 'closest': 2484, 'paul': 6085, 'chest': 2313, 'expensive': 3496, 'english': 3394, 'beat': 1275, 'rage': 6593, 'relax': 6735, 'steps': 7717, 'promise': 6483, 'talked': 7961, 'ages': 231, 'sum': 7851, 'busy': 1905, 'mondays': 5515, 'comedy': 2569, 'action': 96, 'bt': 1829, 'supernatural': 7874, 'cries': 2805, 'thankful': 8068, 'andrewghayes': 563, 'sleepy': 7424, 'ben': 1346, 'ashleyltmsyf': 916, 'cookie': 2681, 'extra': 3516, 'kris': 4919, 'allen': 386, 'disney': 3123, 'missing': 5470, 'ooh': 5884, 'tweeted': 8344, 'jim': 4746, 'sadface': 7002, 'follower': 3734, 'mtv': 5574, 'woohoo': 8808, 'sweetness': 7920, 'straight': 7761, 'hows': 4428, 'status': 7698, 'hearing': 4250, 'click': 2467, 'yr': 8969, 'tricked': 8284, 'fake': 3545, 'sarcasm': 7049, 'bebe': 1290, 'annettestatus': 673, 'facebook': 3529, 'farrah': 3568, 'fawcett': 3591, 'condolences': 2625, 'ryan': 6993, 'arthur': 878, 'wisdom': 8768, 'chris': 2375, 'calling': 1963, 'asking': 936, 'disturbing': 3133, 'wins': 8763, 'kate': 4821, 'bets': 1378, 'wake': 8603, 'shoulders': 7302, 'burnt': 1894, 'bby': 1254, 'row': 6955, 'singer': 7365, 'taylor': 7989, 'coldplay': 2536, 'kisses': 4878, 'handsome': 4171, 'player': 6266, 'anthonyjohnston': 715, 'nurse': 5790, 'arrived': 865, 'remembered': 6751, 'arm': 850, 'worked': 8820, 'workin': 8822, 'txt': 8378, 'reception': 6674, 'graduate': 4034, 'exercise': 3483, 'shopping': 7289, 'aunt': 1012, 'similar': 7354, 'cici': 2417, 'boyfriend': 1651, 'queens': 6562, 'ah': 241, 'gutted': 4126, 'impressive': 4545, 'ka': 4811, 'eating': 3316, 'snacks': 7468, 'grown': 4093, 'brandyinboise': 1682, 'swing': 7928, 'major': 5252, 'companies': 2596, 'ahh': 249, 'ring': 6873, 'exact': 3468, 'insomnia': 4595, 'substitute': 7824, 'determined': 3042, 'essay': 3439, 'class': 2446, 'girls': 3944, 'style': 7812, 'stylist': 7813, 'ab': 15, 'possible': 6357, 'eggs': 3346, 'bacon': 1136, 'jobs': 4752, 'swim': 7925, 'ad': 109, 'perth': 6150, 'nascar': 5625, 'brad': 1661, 'jr': 4785, 'true': 8302, 'wanting': 8621, 'messy': 5401, 'interesting': 4618, 'ill': 4518, 'wood': 8805, 'upgrade': 8467, 'bottles': 1634, 'water': 8646, 'amandalaur': 464, 'phones': 6176, 'planned': 6254, 'apps': 786, 'pro': 6448, 'subscription': 7823, 'haircut': 4156, 'sitting': 7386, 'mark': 5293, 'choc': 2360, 'stamp': 7671, 'relative': 6733, 'hero': 4290, 'wrote': 8861, 'northeast': 5759, 'badhousewife': 1143, 'term': 8041, 'basket': 1223, 'fruit': 3823, 'herd': 4289, 'flock': 3710, 'sheep': 7250, 'dumbass': 3273, 'asked': 935, 'beef': 1312, 'asosjulia': 939, 'saying': 7072, 'lately': 4970, 'idiot': 4501, 'umm': 8410, 'explain': 3502, 'candy': 2005, 'personal': 6145, 'number': 5788, 'select': 7156, 'cup': 2849, 'devil': 3050, 'speaking': 7576, 'form': 3765, 'imagine': 4530, 'tender': 8037, 'driving': 3242, 'vegetarian': 8528, 'jane': 4703, 'amypaffrath': 526, 'omfg': 5871, 'suit': 7846, 'rofl': 6915, 'months': 5529, 'sayin': 7071, 'grrr': 4095, 'lunchtime': 5218, 'review': 6841, 'desire': 3030, 'smaller': 7444, 'amberlovely': 482, 'dougie': 3194, 'ace': 75, 'sighs': 7339, 'purchase': 6537, 'bold': 1571, 'volleyball': 8579, 'combustiblesong': 2563, 'sam': 7026, 'ashes': 907, 'em': 3363, 'bottle': 1633, 'charchaos': 2219, 'babypatches': 1118, 'tryin': 8308, 'shy': 7329, 'pbs': 6095, 'beard': 1270, 'holiday': 4354, 'goal': 3977, 'set': 7199, 'reasonable': 6664, 'goals': 3978, 'dw': 3286, 'tt': 8315, 'concerned': 2619, 'itunes': 4678, 'uh': 8399, 'expecting': 3494, 'hun': 4458, 'shop': 7288, 'ocean': 5817, 'seattle': 7137, 'artbynemo': 874, 'slacker': 7412, 'mush': 5596, 'quiet': 6572, 'awillow': 1079, 'wonderful': 8799, 'mention': 5387, 'ull': 8406, 'fathers': 3578, 'anyamarina': 733, 'stolen': 7742, 'jason': 4709, 'ariannaskye': 836, 'higher': 4309, 'maintenance': 5251, 'boring': 1620, 'concern': 2618, 'location': 5135, 'app': 754, 'uncomfortable': 8416, 'fri': 3803, 'changed': 2198, 'angrybritain': 623, 'young': 8957, 'nowadays': 5780, 'calls': 1965, 'sl': 7411, 'eurovision': 3447, 'ways': 8653, 'cd': 2135, 'notebook': 5765, 'study': 7802, 'bio': 1430, 'test': 8051, 'tommorow': 8184, 'mornin': 5540, 'laugh': 4975, 'mac': 5229, 'mines': 5449, 'tuesday': 8321, 'liars': 5057, 'okies': 5858, 'ai': 261, 'writing': 8857, 'netprophet': 5683, 'wid': 8731, 'nxt': 5798, 'blow': 1528, 'ballet': 1168, 'meee': 5357, 'whilst': 8708, 'brittanytastic': 1765, 'tips': 8151, 'noooooooooo': 5754, 'anna': 653, 'phantom': 6164, 'opera': 5900, 'anneaam': 667, 'ze': 8989, 'thang': 8066, 'town': 8230, 'crash': 2772, 'tmrw': 8167, 'referring': 6708, 'cancelled': 1997, 'sg': 7215, 'au': 991, 'alyssanoelled': 453, 'mel': 5370, 'sized': 7390, 'bethbrittbrand': 1374, 'chill': 2342, 'aint': 276, 'create': 2789, 'costume': 2716, 'halloween': 4163, 'tweetdeck': 8343, 'launch': 4981, 'member': 5377, 'ba': 1104, 'members': 5378, 'tree': 8272, 'aka': 295, 'tyler': 8380, 'hilton': 4322, 'stephen': 7714, 'james': 4700, 'act': 94, 'lyk': 5225, 'auto': 1036, 'dms': 3147, 'influence': 4576, 'fallen': 3547, 'wk': 8781, 'ball': 1167, 'laundry': 4982, 'cleaning': 2459, 'atebits': 963, 'hah': 4139, 'writer': 8854, 'magical': 5242, 'swift': 7924, 'backstreetboys': 1133, 'brazil': 1692, 'possibly': 6358, 'india': 4563, 'claire': 2438, 'repeat': 6770, 'playlist': 6270, 'averygoodyear': 1048, 'pp': 6384, 'report': 6781, 'brittmxgirl': 1769, 'advance': 188, 'bree': 1710, 'tune': 8326, 'gift': 3928, 'tip': 8150, 'stick': 7723, 'firefox': 3673, 'rides': 6866, 'cheaper': 2259, 'chilled': 2343, 'canberra': 1994, 'autumn': 1039, 'sunshine': 7869, 'brandyandice': 1681, 'chinese': 2351, 'michael': 5415, 'topics': 8210, 'lotus': 5188, 'artytypes': 891, 'borrow': 1622, 'optimistic': 5912, 'hay': 4225, 'fever': 3628, 'older': 5862, 'brazilian': 1693, 'stole': 7741, 'tmr': 8166, 'killed': 4860, 'answer': 707, 'service': 7194, 'scares': 7084, 'nah': 5610, 'blues': 1541, 'court': 2741, 'awaiting': 1057, 'ooc': 5883, 'acidicice': 87, 'bliss': 1500, 'replacement': 6774, 'chelseasms': 2293, 'parents': 6041, 'tooooo': 8205, 'delivery': 2994, 'metal': 5403, 'metallica': 5404, 'indian': 4564, 'premiere': 6404, 'league': 5004, 'impression': 4544, 'south': 7551, 'changeforiran': 2199, 'iran': 4649, 'masterchef': 5314, 'caffeinesparks': 1940, 'ima': 4525, 'everyday': 3458, 'stalker': 7668, 'texting': 8059, 'allconsoffun': 385, 'boat': 1555, 'fb': 3592, 'scene': 7087, 'kills': 4864, 'library': 5058, 'cried': 2804, 'tshirt': 8312, 'reckon': 6680, 'madness': 5235, 'lies': 5063, 'bmolko': 1546, 'mmm': 5488, 'ideas': 4500, 'sassy': 7053, 'spaghetti': 7562, 'obama': 5805, 'scroll': 7122, 'wheel': 8704, 'annekinla': 670, 'prayers': 6394, 'pmsl': 6291, 'race': 6583, 'badass': 1138, 'chick': 2328, 'psp': 6507, 'completed': 2607, 'grandma': 4042, 'tokiohotel': 8177, 'background': 1126, 'reminds': 6758, 'wizards': 8780, 'linked': 5095, 'sf': 7214, 'frozen': 3822, 'yogurt': 8952, 'udah': 8393, 'props': 6496, 'surfing': 7888, 'muscles': 5593, 'purpose': 6543, 'stickam': 7724, 'series': 7188, 'crucifybrett': 2819, 'plug': 6282, 'interviews': 4628, 'input': 4590, 'checked': 2264, 'rate': 6630, 'annual': 694, 'confirmed': 2634, 'exciting': 3478, 'shift': 7260, 'humans': 4452, 'constantly': 2656, 'sucker': 7831, 'fairy': 3543, 'stories': 7754, 'sensitive': 7177, 'mistake': 5474, 'latest': 4973, 'abt': 57, 'players': 6267, 'skills': 7397, 'aree': 822, 'baileemarshall': 1156, 'idk': 4503, 'dads': 2883, 'handed': 4168, 'brilliant': 1746, 'uploaded': 8469, 'tickets': 8134, 'alien': 366, 'appealing': 757, 'messaged': 5395, 'jump': 4798, 'mental': 5385, 'monkey': 5522, 'noticing': 5772, 'hebrew': 4262, 'brooks': 1793, 'doo': 3180, 'xoxoxo': 8887, 'bracelet': 1660, 'afinefrenzy': 211, 'schedule': 7091, 'appears': 761, 'wil': 8740, 'stressful': 7779, 'teaching': 7999, 'medicine': 5353, 'basantam': 1212, 'daughter': 2927, 'afternoon': 222, 'standards': 7674, 'generally': 3902, 'north': 5758, 'west': 8695, 'passed': 6061, 'wind': 8750, 'internet': 4623, 'stayed': 7701, 'pity': 6238, 'dedicated': 2966, 'pleasant': 6274, 'thnx': 8102, 'laertesgirl': 4938, 'specific': 7583, 'strength': 7776, 'somebody': 7509, 'annhawkins': 674, 'corner': 2704, 'allows': 406, 'singapore': 7364, 'opposite': 5908, 'york': 8954, 'convention': 2671, 'et': 3441, 'al': 305, 'knowing': 4903, 'th': 8062, 'tks': 8162, 'wore': 8818, 'rockets': 6906, 'latin': 4974, 'random': 6614, 'hooray': 4389, 'jon': 4767, 'teasing': 8006, 'northern': 5760, 'exposure': 3511, 'mos': 5543, 'genre': 3906, 'escape': 3436, 'harder': 4193, 'hilarious': 4319, 'bizarre': 1455, 'wierd': 8733, 'plenty': 6279, 'hand': 4167, 'bull': 1868, 'bobbryar': 1560, 'bob': 1556, 'babysit': 1121, 'takin': 7954, 'eng': 3389, 'weak': 8657, 'terrified': 8048, 'healthy': 4246, 'absolute': 51, 'fear': 3595, 'quit': 6574, 'normal': 5756, 'clock': 2479, 'akojen': 302, 'hungover': 4462, 'exist': 3485, 'jack': 4686, 'cleaninggirl': 2460, 'sandwich': 7038, 'bread': 1696, 'wheels': 8705, 'turning': 8333, 'bonesfans': 1584, 'hated': 4209, 'storyline': 7759, 'hands': 4170, 'obviously': 5810, 'june': 4801, 'buddies': 1847, 'bar': 1197, 'hayles': 4227, 'wud': 8866, 'thurs': 8127, 'mega': 5364, 'billyburke': 1422, 'famous': 3557, 'agrees': 239, 'eminem': 3372, 'takes': 7953, 'irish': 4654, 'ireland': 4652, 'abroad': 47, 'wife': 8735, 'correct': 2705, 'loss': 5180, 'voodoo': 8582, 'efforts': 3343, 'locked': 5137, 'truck': 8300, 'feelin': 3611, 'bitch': 1443, 'macbook': 5230, 'prove': 6500, 'hysterical': 4484, 'visits': 8571, 'brknglassstudio': 1772, 'addy': 149, 'pls': 6281, 'paper': 6027, 'public': 6516, 'ahahaha': 246, 'bam': 1173, 'woah': 8788, 'rush': 6987, 'luv': 5221, 'cramps': 2767, 'heat': 4255, 'celebs': 2151, 'disappoint': 3102, 'surprise': 7890, 'boobs': 1593, 'natural': 5635, 'wat': 8641, 'imma': 4535, 'jus': 4806, 'gasp': 3884, 'tomoz': 8190, 'thou': 8106, 'chelseaplayboy': 2291, 'dumped': 3275, 'wb': 8655, 'strong': 7790, 'document': 3154, 'paste': 6070, 'tool': 8201, 'bummer': 1876, 'moody': 5534, 'pulling': 6526, 'jordan': 4775, 'john': 4756, 'amydouk': 518, 'kansas': 4814, 'leader': 5000, 'farm': 3567, 'bonbbyjess': 1579, 'apply': 773, 'approved': 785, 'schools': 7097, 'students': 7798, 'program': 6473, 'tru': 8299, 'showered': 7312, 'lungs': 5219, 'argentina': 827, 'lover': 5199, 'kitten': 4883, 'tom': 8180, 'tut': 8335, 'heey': 4269, 'glasgow': 3956, 'wicked': 8730, 'blogger': 1510, 'reserve': 6798, 'position': 6353, 'toy': 8231, 'greatness': 4064, 'rumors': 6980, 'ikea': 4515, 'howdy': 4427, 'bsb': 1827, 'codelust': 2523, 'stalking': 7670, 'championship': 2193, 'toast': 8171, 'buzz': 1921, 'phrase': 6186, 'ashbo': 904, 'meow': 5391, 'pillow': 6215, 'tues': 8320, 'spain': 7563, 'bobby': 1561, 'praying': 6395, 'mainly': 5249, 'lasagna': 4963, 'hack': 4136, 'blogtv': 1514, 'yell': 8930, 'whining': 8710, 'eyebrows': 3521, 'chicago': 2327, 'cuddles': 2843, 'states': 7694, 'qld': 6553, 'editor': 3329, 'miranda': 5459, 'jones': 4774, 'yey': 8944, 'waitin': 8600, 'uk': 8405, 'reference': 6707, 'network': 5684, 'private': 6446, 'pcd': 6097, 'nicole': 5709, 'marcus': 5284, 'recommend': 6684, 'pink': 6225, 'anndonnelly': 665, 'continues': 2666, 'grow': 4091, 'hairy': 4158, 'bush': 1899, 'coconut': 2517, 'tropical': 8296, 'bend': 1347, 'leaves': 5017, 'value': 8516, 'spymaster': 7645, 'loading': 5131, 'ends': 3387, 'whale': 8698, 'wars': 8631, 'thumbs': 8124, 'bash': 1218, 'envy': 3414, 'bf': 1389, 'count': 2725, 'bgt': 1394, 'trendy': 8278, 'brb': 1695, 'artagnon': 873, 'pressing': 6420, 'links': 5096, 'channel': 2203, 'choose': 2370, 'carlohilton': 2043, 'pathetic': 6075, 'brat': 1687, 'wer': 8693, 'outside': 5953, 'photograph': 6178, 'nicely': 5703, 'thirsty': 8097, 'drown': 3249, 'budget': 1850, 'negative': 5662, 'grace': 4029, 'touch': 8221, 'meal': 5342, 'posts': 6367, 'billyraycyrus': 1423, 'billy': 1421, 'georgia': 3913, 'yan': 8903, 'effect': 3337, 'lang': 4951, 'tons': 8198, 'apa': 743, 'semi': 7169, 'figured': 3641, 'support': 7878, 'lift': 5069, 'ground': 4087, 'spin': 7605, 'crazier': 2781, 'lyrics': 5226, 'jensen': 4732, 'cos': 2711, 'recently': 6673, 'hungry': 4463, 'lala': 4944, 'hahahahaha': 4148, 'abbybradz': 22, 'decision': 2962, 'reminder': 6756, 'hiii': 4316, 'steve': 7718, 'cha': 2178, 'cooler': 2688, 'compared': 2599, 'manila': 5276, 'hometown': 4370, 'text': 8057, 'watched': 8643, 'spoiler': 7616, 'sponsor': 7622, 'survived': 7895, 'travel': 8262, 'session': 7197, 'format': 3767, 'wishing': 8774, 'user': 8495, 'bother': 1629, 'sausages': 7062, 'marsiscoming': 5302, 'atrak': 975, 'avrilchan': 1054, 'brianmcnugget': 1730, 'matters': 5326, 'final': 3655, 'chiniehdiaz': 2352, 'difference': 3071, 'deh': 2981, 'kay': 4825, 'alexistai': 349, 'gw': 4130, 'sakit': 7016, 'yaaa': 8895, 'lo': 5128, 'wolframalpha': 8792, 'dark': 2913, 'matter': 5325, 'album': 322, 'tony': 8199, 'alivicwil': 379, 'visual': 8573, 'image': 4527, 'issue': 4666, 'steel': 7709, 'scrubs': 7123, 'complete': 2606, 'ache': 80, 'huny': 4468, 'pre': 6396, 'zoo': 8996, 'keeper': 4830, 'animals': 637, 'angstmann': 626, 'apologies': 750, 'gorgeous': 4015, 'runs': 6986, 'legal': 5026, 'demand': 2998, 'samantha': 7027, 'simple': 7356, 'ut': 8503, 'revenge': 6840, 'revolution': 6848, 'picked': 6195, 'triangle': 8282, 'besties': 1366, 'obvious': 5809, 'cmoz': 2504, 'wishful': 8773, 'tricky': 8286, 'directly': 3093, 'fits': 3684, 'shits': 7273, 'everaldo': 3455, 'net': 5679, 'spam': 7564, 'brittanyasnow': 1763, 'st': 7659, 'revision': 6847, 'earned': 3302, 'cross': 2813, 'eyed': 3522, 'starting': 7685, 'comedyqueen': 2571, 'gd': 3890, 'tim': 8143, 'everytime': 3461, 'rings': 6875, 'hahahahahaha': 4149, 'taken': 7952, 'cats': 2115, 'quotes': 6580, 'dearest': 2949, 'alexalbrecht': 336, 'canon': 2009, 'shure': 7325, 'bff': 1390, 'direct': 3089, 'messages': 5396, 'played': 6265, 'ghostbusters': 3925, 'lack': 4933, 'aalaap': 7, 'drives': 3240, 'doesnt': 3159, 'chin': 2349, 'hd': 4233, 'luckily': 5212, 'lab': 4930, 'ayumirollan': 1094, 'section': 7146, 'allow': 403, 'claim': 2436, 'username': 8496, 'owning': 5974, 'caitlinaudrey': 1945, 'freakin': 3787, 'soul': 7540, 'contract': 2667, 'jeez': 4724, 'shoulda': 7300, 'bein': 1326, 'missin': 5469, 'pun': 6529, 'innit': 4587, 'pregnant': 6402, 'boykillboy': 1654, 'govt': 4025, 'strictly': 7782, 'monitors': 5521, 'usage': 8487, 'sympathy': 7935, 'floor': 3712, 'electricity': 3352, 'momma': 5510, 'bird': 1433, 'dentist': 3006, 'startrek': 7686, 'asfaq': 898, 'astynes': 957, 'duck': 3266, 'ughhhh': 8397, 'painting': 6003, 'mcdonalds': 5336, 'cu': 2837, 'waffles': 8595, 'si': 7331, 'cum': 2848, 'secs': 7145, 'games': 3873, 'bright': 1738, 'record': 6691, 'beaten': 1277, 'sushi': 7898, 'memorial': 5380, 'imo': 4538, 'salad': 7017, 'colours': 2556, 'server': 7191, 'amyelectro': 519, 'dick': 3062, 'rubbing': 6968, 'kk': 4888, 'grocery': 4083, 'melt': 5375, 'singin': 7366, 'abcmsaj': 27, 'xxxxx': 8892, 'pixar': 6240, 'tiger': 8139, 'conversations': 2673, 'lolll': 5148, 'knock': 4898, 'guide': 4112, 'ahead': 247, 'miley': 5433, 'cyrus': 2879, 'sony': 7520, 'connections': 2646, 'buddinggenius': 1848, 'bothered': 1630, 'yesssss': 8941, 'wayy': 8654, 'missb': 5466, 'deserved': 3023, 'taste': 7977, 'azlen': 1100, 'primary': 6434, 'reasons': 6665, 'output': 5951, 'beaniebanks': 1267, 'knitting': 4896, 'dontyouhate': 3177, 'jolly': 4766, 'boss': 1625, 'excellent': 3473, 'ye': 8914, 'business': 1900, 'bay': 1241, 'messin': 5399, 'refresh': 6709, 'kicks': 4850, 'share': 7233, 'ceggs': 2142, 'icon': 4494, 'string': 7785, 'asian': 927, 'americanwomannn': 491, 'fer': 3624, 'breed': 1712, 'helpful': 4284, 'unfollowing': 8434, 'starbucks': 7678, 'orders': 5921, 'double': 3190, 'chip': 2353, 'xox': 8884, 'unicorn': 8440, 'twitterberry': 8364, 'balmeras': 1171, 'leather': 5015, 'portfolio': 6347, 'notes': 5767, 'mikenewton': 5428, 'laurenmallory': 4985, 'tells': 8026, 'hates': 4212, 'tmobile': 8165, 'britttnicole': 1771, 'yeahh': 8922, 'contact': 2660, 'mandy': 5272, 'zach': 8987, 'ahaha': 245, 'goood': 4008, 'cheryl': 2308, 'amazed': 468, 'kick': 4847, 'grrrr': 4096, 'rant': 6621, 'shouldnt': 7303, 'backed': 1125, 'data': 2922, 'biggest': 1406, 'midwest': 5423, 'dishes': 3119, 'chillin': 2344, 'angie': 611, 'aussiecynic': 1022, 'basically': 1221, 'surgery': 7889, 'total': 8219, 'robinsharma': 6897, 'robin': 6896, 'completely': 2608, 'spanish': 7569, 'oyster': 5980, 'peanut': 6107, 'butter': 1910, 'cookies': 2682, 'adrence': 172, 'smiling': 7455, 'xoxo': 8885, 'struggle': 7793, 'recommended': 6687, 'vegetables': 8527, 'oracle': 5915, 'dmb': 3146, 'adding': 142, 'jan': 4702, 'chantelleaustin': 2206, 'earth': 3305, 'wave': 8648, 'sissy': 7376, 'community': 2593, 'inspirational': 4597, 'application': 770, 'aliyoopah': 381, 'remove': 6762, 'compliment': 2611, 'choice': 2366, 'twit': 8358, 'paying': 6090, 'spamming': 7567, 'coliwilso': 2539, 'blipping': 1499, 'lush': 5220, 'beers': 1314, 'cruel': 2820, 'tournament': 8227, 'organizing': 5929, 'jeff': 4725, 'sub': 7815, 'outfit': 5947, 'followin': 3737, 'recommendation': 6685, 'sort': 7535, 'art': 872, 'chad': 2180, 'rule': 6976, 'allowed': 404, 'naughty': 5638, 'easily': 3309, 'distracted': 3129, 'yawn': 8907, 'impossible': 4542, 'quiz': 6577, 'woo': 8804, 'hoo': 4383, 'royal': 6959, 'dumb': 3272, 'hbu': 4232, 'camilleisleta': 1982, 'roddick': 6913, 'ia': 4485, 'td': 7993, 'nephew': 5671, 'uncle': 8415, 'candicejo': 1999, 'admire': 162, 'cj': 2435, 'corruptedangel': 2709, 'wink': 8758, 'ot': 5937, 'ahhhh': 251, 'lend': 5036, 'closer': 2482, 'tastes': 7979, 'ingredients': 4581, 'properly': 6494, 'cglade': 2176, 'secret': 7142, 'clarissasays': 2445, 'hahaa': 4141, 'belated': 1329, 'hahhaa': 4152, 'cheque': 2298, 'tehran': 8022, 'lakers': 4943, 'blood': 1522, 'content': 2663, 'howz': 4429, 'delhi': 2988, 'beauty': 1289, 'sms': 7465, 'oldies': 5864, 'festival': 3626, 'burbujaspy': 1886, 'adds': 148, 'defo': 2978, 'gona': 3990, 'jacket': 4688, 'highlight': 4311, 'agesthegreat': 232, 'bonniebrown': 1589, 'hangin': 4174, 'slave': 7417, 'degrees': 2980, 'yankees': 8905, 'curious': 2856, 'details': 3041, 'np': 5782, 'drool': 3243, 'quote': 6579, 'tornado': 8213, 'sin': 7361, 'ahmedzainal': 257, 'dong': 3174, 'beach': 1262, 'allstaralice': 407, 'tan': 7967, 'quality': 6557, 'quantity': 6558, 'bears': 1272, 'jersey': 4737, 'ladies': 4936, 'azz': 1102, 'doctors': 3153, 'hating': 4214, 'becky': 1301, 'annamariapdt': 661, 'annaantell': 654, 'runnin': 6984, 'nkotb': 5730, 'bk': 1459, 'luggage': 5215, 'cal': 1950, 'thunder': 8125, 'lightning': 5073, 'twpp': 8376, 'amykate': 522, 'alsharptongue': 442, 'married': 5299, 'allyeska': 417, 'realised': 6653, 'angry': 621, 'burns': 1893, 'matt': 5324, 'dating': 2925, 'hollywood': 4360, 'lips': 5101, 'color': 2551, 'decide': 2958, 'attacking': 981, 'accept': 64, 'language': 4952, 'greatly': 4063, 'wassup': 8637, 'cn': 2505, 'ther': 8083, 'provided': 6502, 'atleast': 971, 'feedback': 3607, 'credit': 2797, 'ou': 5940, 'lick': 5060, 'adamgoldston': 115, 'kim': 4865, 'eu': 3443, 'tiring': 8154, 'flying': 3722, 'cameras': 1976, 'polish': 6317, 'search': 7130, 'deer': 2970, 'moods': 5533, 'aimyleigh': 275, 'horse': 4405, 'saturdays': 7059, 'strawberry': 7770, 'picking': 6196, 'discovery': 3113, 'purse': 6544, 'sandwiches': 7039, 'maam': 5228, 'howarewe': 4426, 'douchebag': 3193, 'com': 2559, 'shorter': 7293, 'antimileyhaters': 720, 'adiejonas': 154, 'spelling': 7593, 'josh': 4778, 'twitterer': 8366, 'lisa': 5104, 'gas': 3883, 'zero': 8991, 'fat': 3574, 'reviews': 6843, 'chipotle': 2355, 'soft': 7498, 'choco': 2361, 'mileycyrus': 5434, 'admit': 163, 'human': 4451, 'packing': 5990, 'vintage': 8555, 'ads': 185, 'dj': 3142, 'hee': 4264, 'oops': 5894, 'rly': 6886, 'helps': 4286, 'frm': 3816, 'sed': 7148, 'cable': 1933, 'named': 5616, 'angiezherself': 617, 'awwwwww': 1086, 'official': 5837, 'forums': 3774, 'deal': 2943, 'timeline': 8146, 'shelf': 7254, 'raise': 6604, 'stream': 7772, 'vote': 8583, 'trips': 8293, 'conan': 2615, 'musical': 5598, 'ridiculously': 6868, 'usa': 8486, 'alanjlee': 315, 'css': 2834, 'communicate': 2591, 'presence': 6413, 'arsenal': 870, 'match': 5317, 'trust': 8305, 'adrianlynch': 175, 'option': 5913, 'happens': 4185, 'caroline': 2057, 'yew': 8943, 'fabulous': 3527, 'points': 6306, 'terminator': 8042, 'studying': 7803, 'ish': 4661, 'ending': 3385, 'arguing': 831, 'spare': 7570, 'bust': 1901, 'moves': 5559, 'bike': 1409, 'charging': 2225, 'bowl': 1642, 'agreed': 237, 'equipment': 3423, 'carlos': 2044, 'katy': 4824, 'perry': 6143, 'whoop': 8720, 'advert': 194, 'bell': 1336, 'alert': 329, 'positive': 6354, 'mann': 5278, 'mcflyforgermany': 5338, 'celebrate': 2145, 'partay': 6048, 'carterronson': 2077, 'papa': 6025, 'recipes': 6678, 'misunderstanding': 5477, 'spicy': 7599, 'rejected': 6727, 'jonas': 4768, 'brothers': 1798, 'moore': 5536, 'brooklyn': 1792, 'smell': 7447, 'cheth': 2320, 'golf': 3988, 'lazy': 4994, 'poems': 6298, 'mimi': 5445, 'baseball': 1214, 'anefallarme': 590, 'ane': 586, 'screen': 7117, 'switching': 7931, 'nerves': 5675, 'names': 5617, 'kicking': 4849, 'speedy': 7590, 'lah': 4939, 'yang': 8904, 'pake': 6007, 'whispers': 8713, 'grade': 4032, 'offers': 5833, 'dallas': 2888, 'nicky': 5708, 'devo': 3051, 'scheduled': 7092, 'swap': 7906, 'suffering': 7838, 'erased': 3426, 'files': 3645, 'awhile': 1078, 'questions': 6567, 'services': 7195, 'benshephard': 1356, 'addicted': 135, 'acct': 72, 'metro': 5407, 'trains': 8251, 'christ': 2396, 'thnk': 8100, 'shares': 7237, 'rally': 6608, 'tooth': 8207, 'chaselisbon': 2248, 'dis': 3097, 'andrewhyde': 566, 'ft': 3830, 'ihop': 4511, 'julian': 4795, 'mice': 5414, 'alll': 400, 'jewelry': 4743, 'bonfire': 1585, 'overall': 5958, 'maine': 5248, 'meg': 5363, 'dia': 3057, 'main': 5247, 'street': 7774, 'philly': 6171, 'ancafoster': 545, 'fit': 3682, 'pops': 6338, 'teary': 8004, 'awh': 1076, 'oregon': 5923, 'lead': 4999, 'batter': 1234, 'plugged': 6283, 'showtime': 7317, 'busted': 1902, 'entire': 3408, 'replying': 6780, 'sports': 7628, 'sheesh': 7251, 'trailers': 8246, 'force': 3752, 'christmas': 2401, 'cc': 2130, 'sumthin': 7856, 'fired': 3672, 'economy': 3322, 'theme': 8080, 'kuya': 4924, 'badpony': 1145, 'definately': 2975, 'failing': 3538, 'rusty': 6992, 'danke': 2909, 'attempting': 984, 'agentx': 230, 'adammshankman': 118, 'judge': 4789, 'saddens': 7000, 'relate': 6729, 'browsing': 1806, 'resting': 6820, 'training': 8250, 'removing': 6764, 'potatoes': 6370, 'career': 2030, 'health': 4245, 'hiring': 4330, 'ink': 4585, 'thier': 8088, 'oooooh': 5892, 'dope': 3184, 'cardboard': 2026, 'fashion': 3571, 'design': 3025, 'memo': 5379, 'squee': 7650, 'spent': 7598, 'sooooooo': 7529, 'ure': 8480, 'rough': 6949, 'lobster': 5133, 'replace': 6772, 'wordcamp': 8815, 'golden': 3987, 'bridge': 1735, 'tis': 8155, 'leads': 5003, 'reality': 6655, 'texts': 8060, 'hurry': 4471, 'hold': 4349, 'vacations': 8511, 'owl': 5970, 'single': 7368, 'amalinaaa': 456, 'awsome': 1081, 'heads': 4242, 'shocked': 7281, 'film': 3649, 'pe': 6101, 'expand': 3490, 'compatible': 2601, 'related': 6730, 'japanese': 4707, 'ich': 4491, 'auch': 994, 'angelneptustar': 606, 'brightondoll': 1741, 'blushes': 1543, 'toe': 8174, 'survive': 7894, 'culture': 2847, 'shock': 7280, 'toss': 8217, 'brittany': 1762, 'created': 2790, 'general': 3901, 'annaguirre': 659, 'wht': 8725, 'kicked': 4848, 'vid': 8545, 'chelseamarie': 2289, 'comming': 2589, 'shell': 7255, 'impressed': 4543, 'gnome': 3976, 'products': 6467, 'sooooo': 7526, 'ping': 6224, 'laura': 4983, 'winks': 8759, 'aloliver': 432, 'table': 7943, 'dessert': 3036, 'taught': 7985, 'learning': 5012, 'acdc': 74, 'pleaseee': 6276, 'yeh': 8928, 'gnight': 3974, 'chica': 2326, 'andre': 551, 'remind': 6754, 'simon': 7355, 'adamtylerx': 124, 'hrs': 4433, 'witty': 8778, 'inside': 4594, 'thy': 8130, 'micster': 5419, 'press': 6419, 'designing': 3028, 'abc': 25, 'twas': 8338, 'amypalko': 527, 'monsters': 5525, 'vs': 8589, 'trees': 8273, 'gravy': 4057, 'sauce': 7060, 'blatzliquor': 1480, 'suggestions': 7844, 'beer': 1313, 'cap': 2010, 'andyqsmith': 581, 'sorted': 7537, 'telly': 8027, 'apothecaryjeri': 753, 'sending': 7172, 'chriscornell': 2380, 'birds': 1434, 'grey': 4076, 'breaking': 1702, 'films': 3652, 'entertain': 3403, 'stupidity': 7810, 'despite': 3035, 'anomdesign': 698, 'dd': 2938, 'chelsea': 2288, 'teh': 8020, 'clumsy': 2500, 'goodluck': 3998, 'simpler': 7357, 'unhappy': 8438, 'diff': 3070, 'favs': 3590, 'trick': 8283, 'finding': 3660, 'griffin': 4078, 'led': 5021, 'realise': 6652, 'aleshabell': 330, 'brush': 1813, 'offer': 5830, 'hawaii': 4222, 'cchiron': 2131, 'gosh': 4016, 'wallpaper': 8614, 'vancouver': 8520, 'ride': 6864, 'anotorias': 706, 'begin': 1319, 'slam': 7413, 'customer': 2866, 'temporary': 8032, 'bills': 1419, 'echelon': 3319, 'beverleyknight': 1384, 'urself': 8485, 'colocelt': 2549, 'sink': 7371, 'bubbles': 1839, 'soap': 7486, 'gravity': 4056, 'yaa': 8894, 'tone': 8193, 'sundays': 7862, 'chriscuomo': 2381, 'ccmatthews': 2132, 'salvation': 7025, 'neighbor': 5663, 'chu': 2405, 'banks': 1192, 'brookeburke': 1788, 'jenny': 4731, 'period': 6136, 'dean': 2946, 'lee': 5022, 'joke': 4763, 'frankie': 3785, 'aceconcierge': 76, 'connect': 2642, 'ahmier': 258, 'canada': 1989, 'bashing': 1219, 'offended': 5828, 'simpsons': 7359, 'online': 5878, 'donnie': 3175, 'joey': 4755, 'trace': 8234, 'dina': 3082, 'dublin': 3265, 'turns': 8334, 'interview': 4626, 'ambercadabra': 480, 'audrey': 1006, 'strange': 7764, 'asap': 894, 'emails': 3367, 'gmail': 3971, 'inbox': 4551, 'easiest': 3308, 'blessing': 1489, 'coulda': 2722, 'hung': 4460, 'aha': 242, 'mae': 5236, 'crisilouise': 2807, 'babies': 1111, 'lord': 5173, 'annatl': 663, 'fellow': 3620, 'hater': 4210, 'pastor': 6071, 'dollar': 3168, 'joys': 4783, 'photographer': 6179, 'flip': 3707, 'nikkeedee': 5719, 'heaps': 4247, 'worries': 8833, 'searched': 7131, 'sheet': 7252, 'fort': 3770, 'ontario': 5879, 'skies': 7394, 'hoppusday': 4399, 'putting': 6550, 'spread': 7635, 'tight': 8140, 'shutup': 7328, 'cough': 2720, 'hottest': 4416, 'lens': 5039, 'zoom': 8997, 'participate': 6050, 'summit': 7855, 'nature': 5637, 'plugins': 6285, 'requests': 6787, 'toilet': 8176, 'daughters': 2928, 'faster': 3573, 'hahahah': 4145, 'hannah': 4179, 'abandoned': 16, 'current': 2859, 'emotions': 3377, 'ahoova': 260, 'pronounced': 6491, 'oscar': 5935, 'twitting': 8374, 'screwed': 7120, 'chamillionaire': 2189, 'dats': 2926, 'yah': 8900, 'cutie': 2871, 'nails': 5613, 'stormy': 7757, 'louis': 5190, 'alliewayfilms': 395, 'abby': 21, 'greet': 4071, 'bigassbadger': 1401, 'perfect': 6128, 'moms': 5512, 'applecored': 764, 'mwah': 5602, 'amberlinam': 481, 'thursday': 8128, 'sux': 7901, 'msn': 5572, 'holidays': 4355, 'posters': 6363, 'giveaway': 3948, 'archuphils': 817, 'archie': 813, 'byronrode': 1926, 'refreshing': 6710, 'passionate': 6065, 'sport': 7626, 'astromike': 955, 'vacation': 8510, 'jeep': 4723, 'key': 4841, 'lime': 5085, 'pie': 6204, 'faves': 3583, 'pen': 6115, 'adamwc': 125, 'mobile': 5496, 'sista': 7377, 'dances': 2901, 'perfection': 6129, 'whoa': 8717, 'roll': 6921, 'studies': 7800, 'lesson': 5043, 'crashing': 2775, 'blows': 1533, 'forgiven': 3762, 'loser': 5176, 'sowwy': 7554, 'cali': 1956, 'chicks': 2333, 'oreos': 5925, 'east': 3310, 'thread': 8111, 'stephanie': 7713, 'lvatt': 5222, 'aswell': 958, 'naw': 5639, 'designed': 3026, 'freezing': 3796, 'regret': 6722, 'unable': 8412, 'amandabynes': 458, 'amanda': 457, 'wii': 8738, 'virgin': 8561, 'pumped': 6528, 'pixels': 6241, 'memories': 5381, 'packed': 5988, 'bags': 1150, 'touring': 8226, 'problems': 6452, 'gear': 3892, 'addieking': 140, 'ughh': 8395, 'crew': 2801, 'clear': 2461, 'brajana': 1672, 'yup': 8982, 'gaga': 3861, 'rainy': 6603, 'windy': 8753, 'coincidence': 2530, 'swell': 7923, 'dirty': 3096, 'debating': 2953, 'handle': 4169, 'lit': 5112, 'oj': 5852, 'plays': 6272, 'chilling': 2345, 'curry': 2861, 'shout': 7305, 'bing': 1428, 'disaster': 3106, 'chadmichmurray': 2183, 'nooo': 5747, 'brandi': 1676, 'wonders': 8802, 'angpang': 620, 'indy': 4571, 'eats': 3317, 'promote': 6487, 'groove': 4084, 'atraz': 976, 'appointment': 775, 'clinic': 2476, 'dairy': 2885, 'bananas': 1180, 'amazingphil': 473, 'shown': 7315, 'growing': 4092, 'politics': 6319, 'vampire': 8517, 'laughing': 4978, 'babygirlsomajor': 1115, 'ridiculous': 6867, 'fest': 3625, 'kissed': 4877, 'blah': 1467, 'gals': 3870, 'spontaneous': 7623, 'bubble': 1836, 'buster': 1903, 'nigga': 5712, 'skinny': 7399, 'heaven': 4259, 'sonny': 7519, 'moved': 5557, 'rockin': 6907, 'rollin': 6924, 'roads': 6890, 'settle': 7203, 'achtungmusic': 86, 'department': 3009, 'charleneortiz': 2231, 'mic': 5413, 'charge': 2220, 'clouds': 2492, 'gah': 3862, 'amazingphoebe': 474, 'war': 8623, 'pants': 6024, 'ordinary': 5922, 'society': 7493, 'fails': 3539, 'instrument': 4607, 'learnt': 5013, 'security': 7147, 'kitty': 4886, 'software': 7500, 'pc': 6096, 'switch': 7929, 'computers': 2614, 'cashstwit': 2090, 'homesick': 4369, 'pray': 6392, 'receive': 6670, 'mms': 5492, 'promotionitaggcom': 6489, 'miami': 5412, 'hmph': 4342, 'insert': 4593, 'pouting': 6378, 'dislike': 3122, 'oc': 5811, 'diet': 3069, 'ding': 3084, 'ditch': 3134, 'atl': 967, 'cooks': 2686, 'urs': 8484, 'alaksir': 308, 'rude': 6971, 'tad': 7947, 'nicer': 5704, 'ordered': 5920, 'aid': 262, 'creep': 2799, 'brypie': 1825, 'jesus': 4741, 'homie': 4372, 'rico': 6862, 'vibe': 8540, 'tuned': 8327, 'hat': 4207, 'hardly': 4195, 'rub': 6966, 'sand': 7036, 'sandy': 7040, 'common': 2590, 'knowledge': 4904, 'role': 6920, 'model': 5499, 'sch': 7090, 'trend': 8275, 'plane': 6251, 'depressing': 3013, 'amomtwoboys': 505, 'hype': 4481, 'spotted': 7633, 'load': 5129, 'parang': 6036, 'meeee': 5358, 'toooo': 8204, 'smart': 7445, 'casino': 2092, 'gary': 3882, 'hs': 4434, 'forced': 3753, 'aylaf': 1091, 'fatty': 3579, 'adriennebailon': 180, 'episodes': 3419, 'nott': 5774, 'killing': 4863, 'beauknows': 1284, 'inspiration': 4596, 'sites': 7383, 'broooooke': 1794, 'tasty': 7981, 'tech': 8007, 'uploading': 8470, 'balance': 1162, 'kat': 4820, 'waking': 8605, 'plastic': 6261, 'barcelona': 1203, 'jesse': 4739, 'hayfever': 4226, 'aussiemcflyfan': 1023, 'havnt': 4221, 'murder': 5590, 'professional': 6469, 'killers': 4862, 'bookstore': 1599, 'gordon': 4014, 'actual': 106, 'skip': 7402, 'mermaid': 5392, 'allyheartsbb': 418, 'reminiscing': 6759, 'jessica': 4740, 'chrisgarrett': 2386, 'teen': 8016, 'held': 4275, 'thankfully': 8069, 'blocked': 1504, 'multiply': 5585, 'yaay': 8899, 'dznr': 3293, 'experiencing': 3498, 'ness': 5677, 'aweekes': 1069, 'blonde': 1518, 'german': 3914, 'youre': 8960, 'actors': 103, 'changibedsheets': 2201, 'writers': 8855, 'ep': 3415, 'smoke': 7457, 'chemistry': 2297, 'pasta': 6069, 'brodydalle': 1778, 'montreal': 5530, 'alexcashcash': 342, 'chrisefs': 2385, 'bkmacdaddy': 1462, 'maxwell': 5330, 'flat': 3695, 'stinks': 7734, 'armano': 851, 'noodles': 5745, 'upset': 8473, 'blew': 1491, 'jay': 4714, 'leno': 5038, 'pet': 6153, 'alanbleiweiss': 311, 'gamer': 3872, 'redbull': 6700, 'arrives': 866, 'fing': 3663, 'hacking': 4138, 'vista': 8572, 'linux': 5097, 'fo': 3725, 'sho': 7279, 'netflix': 5681, 'bak': 1158, 'ankurb': 651, 'queen': 6561, 'pages': 5994, 'url': 8483, 'religion': 6745, 'view': 8549, 'sc': 7076, 'candymaize': 2008, 'stoked': 7740, 'cheese': 2279, 'fave': 3582, 'ahmednaguib': 256, 'emily': 3371, 'conversation': 2672, 'nanu': 5620, 'disagree': 3099, 'rap': 6622, 'talents': 7959, 'soulja': 7541, 'que': 6560, 'watchin': 8644, 'tha': 8063, 'ki': 4846, 'par': 6031, 'oliver': 5867, 'browntowers': 1802, 'ako': 301, 'nga': 5697, 'ahah': 244, 'lily': 5084, 'wp': 8848, 'plugin': 6284, 'freak': 3786, 'stunned': 7807, 'poke': 6309, 'smoothie': 7463, 'understands': 8424, 'bothers': 1631, 'breaks': 1704, 'scan': 7079, 'crystalposey': 2830, 'annemul': 671, 'ali': 359, 'asylm': 959, 'vids': 8548, 'seconds': 7141, 'screaming': 7115, 'written': 8858, 'va': 8508, 'january': 4705, 'april': 791, 'lololol': 5151, 'nevermind': 5687, 'ustream': 8500, 'bow': 1641, 'available': 1043, 'neck': 5653, 'woods': 8806, 'bunch': 1881, 'overcome': 5960, 'rental': 6766, 'chores': 2373, 'stranger': 7766, 'fiction': 3633, 'photoshop': 6184, 'combination': 2560, 'travels': 8265, 'destination': 3037, 'nw': 5797, 'believes': 1332, 'romance': 6929, 'potential': 6371, 'customers': 2867, 'deck': 2964, 'jail': 4693, 'inspiring': 4600, 'spirits': 7609, 'bersheba': 1361, 'mentions': 5389, 'reader': 6647, 'reads': 6649, 'pdf': 6099, 'dare': 2912, 'sidenote': 7336, 'blowing': 1531, 'stepped': 7716, 'shades': 7218, 'offices': 5836, 'shooting': 7286, 'spoke': 7619, 'brucel': 1809, 'androidtomato': 571, 'azandiamjbb': 1097, 'wellll': 8688, 'amykant': 521, 'someday': 7510, 'lucy': 5214, 'mins': 5453, 'claireyjonesy': 2442, 'usb': 8489, 'agingbackwards': 234, 'electric': 3351, 'letting': 5049, 'sleeeep': 7418, 'yu': 8972, 'yur': 8984, 'adii': 155, 'counting': 2728, 'bugger': 1858, 'control': 2669, 'pb': 6094, 'sense': 7175, 'chase': 2246, 'misses': 5468, 'tetris': 8055, 'gotten': 4023, 'brantanamo': 1685, 'hunt': 4465, 'deleting': 2987, 'intern': 4621, 'afficionadoshh': 205, 'anaggh': 535, 'answering': 709, 'bah': 1151, 'upper': 8471, 'hurting': 4473, 'abs': 49, 'caitypineapple': 1946, 'knw': 4910, 'duh': 3270, 'chose': 2374, 'developing': 3047, 'swine': 7927, 'ananyah': 540, 'scotland': 7107, 'piece': 6205, 'rolls': 6926, 'grab': 4027, 'washing': 8634, 'dancin': 2902, 'taiwan': 7951, 'republic': 6784, 'alydenisof': 449, 'guessing': 4109, 'billyscallywag': 1424, 'costs': 2715, 'fortune': 3772, 'aristeia': 845, 'racist': 6589, 'awebdesigner': 1067, 'destroyed': 3040, 'selenagomez': 7160, 'ehh': 3349, 'ddlovato': 2939, 'selena': 7159, 'demi': 2999, 'appletartlet': 768, 'rat': 6629, 'cooking': 2684, 'oil': 5851, 'storm': 7755, 'catawu': 2102, 'bride': 1734, 'sneak': 7472, 'om': 5869, 'task': 7975, 'loool': 5166, 'honey': 4379, 'intense': 4614, 'jasper': 4710, 'kevin': 4838, 'chatting': 2253, 'tweeter': 8345, 'child': 2337, 'talkin': 7962, 'roots': 6941, 'ir': 4648, 'desperately': 3034, 'delayed': 2984, 'yuck': 8973, 'kiddos': 4855, 'pressure': 6421, 'etsy': 3442, 'aimizubouken': 274, 'formal': 3766, 'epic': 3416, 'wuz': 8869, 'carnival': 2052, 'explanation': 3505, 'limited': 5087, 'hubby': 4440, 'mikal': 5426, 'jerry': 4736, 'pickle': 6197, 'caritx': 2037, 'provide': 6501, 'websites': 8667, 'august': 1010, 'codes': 2524, 'finishing': 3669, 'continue': 2665, 'sake': 7014, 'butadream': 1907, 'ee': 3332, 'fluffy': 3719, 'din': 3081, 'pony': 6325, 'erin': 3429, 'pinky': 6226, 'scored': 7105, 'tweeps': 8341, 'thousand': 8109, 'booth': 1610, 'afraid': 213, 'folks': 3731, 'dq': 3206, 'engagement': 3391, 'goose': 4013, 'blahh': 1468, 'sleeve': 7425, 'heather': 4258, 'arncyn': 856, 'cutting': 2873, 'dies': 3068, 'artfire': 877, 'scaring': 7085, 'return': 6831, 'minus': 5455, 'sac': 6996, 'cassiefx': 2095, 'colors': 2554, 'shape': 7232, 'unfortunate': 8435, 'sue': 7836, 'xcited': 8876, 'legs': 5032, 'outdoors': 5946, 'wireless': 8767, 'stretch': 7781, 'tricks': 8285, 'rent': 6765, 'solar': 7502, 'ikr': 4516, 'vampires': 8518, 'hotter': 4415, 'charicemaniacs': 2227, 'abduzeedo': 28, 'ac': 60, 'winner': 8760, 'dwight': 3287, 'cosmicmother': 2712, 'shouts': 7309, 'greetings': 4073, 'target': 7974, 'employee': 3379, 'commenting': 2585, 'colin': 2537, 'eff': 3336, 'jerks': 4735, 'seasons': 7134, 'lj': 5122, 'beezan': 1316, 'warm': 8625, 'opens': 5899, 'jst': 4786, 'harper': 4201, 'island': 4662, 'crunchyk': 2823, 'dr': 3207, 'brand': 1675, 'shower': 7311, 'tested': 8052, 'anniedafg': 677, 'ayudevina': 1093, 'tools': 8202, 'chuckmemondays': 2409, 'tango': 7968, 'fights': 3639, 'pilot': 6217, 'engine': 3392, 'failure': 3540, 'agent': 227, 'finale': 3656, 'bittersweet': 1453, 'alison': 369, 'shld': 7278, 'block': 1502, 'publish': 6518, 'someones': 7511, 'hole': 4352, 'typo': 8387, 'clip': 2477, 'albums': 323, 'phoenix': 6174, 'pepsi': 6125, 'caffeine': 1938, 'gates': 3886, 'produce': 6459, 'chapters': 2214, 'adamlambert': 117, 'shed': 7249, 'erm': 3430, 'safari': 7006, 'maui': 5328, 'alabama': 306, 'mummy': 5588, 'gahh': 3863, 'charity': 2228, 'elizabeth': 3359, 'satisfying': 7057, 'circle': 2429, 'oo': 5882, 'paris': 6042, 'audreygiselle': 1007, 'junk': 4804, 'throat': 8115, 'mi': 5410, 'casa': 2081, 'jerk': 4734, 'beamarqz': 1265, 'andyroddick': 582, 'lem': 5033, 'anoopdoggdesai': 702, 'damage': 2890, 'presume': 6422, 'goodsex': 4004, 'wen': 8690, 'angieodt': 616, 'brigwyn': 1744, 'carry': 2072, 'auntie': 1013, 'skool': 7407, 'future': 3853, 'jakarta': 4697, 'chemicalbullets': 2295, 'shark': 7239, 'yesss': 8939, 'anoopan': 701, 'roast': 6892, 'fault': 3580, 'bagel': 1148, 'del': 2982, 'obsessed': 5807, 'twits': 8361, 'folk': 3730, 'canceled': 1996, 'infinity': 4575, 'csi': 2831, 'ily': 4523, 'cleared': 2462, 'rank': 6620, 'britruxpin': 1760, 'waves': 8649, 'activated': 99, 'adamfyre': 114, 'careful': 2031, 'egg': 3345, 'abramsandbettes': 46, 'differently': 3073, 'layer': 4991, 'muchly': 5578, 'cornell': 2703, 'aimeelady': 272, 'aionayase': 277, 'preordered': 6407, 'copies': 2696, 'keys': 4843, 'answers': 710, 'cocabeenslinky': 2514, 'twitterfon': 8368, 'twitterrific': 8371, 'bradsabbath': 1667, 'annwhit': 695, 'letters': 5048, 'sims': 7360, 'nashville': 5626, 'ky': 4925, 'prepared': 6410, 'boxes': 1646, 'cocoward': 2519, 'african': 217, 'shes': 7256, 'taking': 7955, 'beautiifulgirl': 1288, 'butterflywheel': 1915, 'arrive': 864, 'champagnerdub': 2191, 'courtneycummz': 2743, 'insane': 4591, 'wing': 8756, 'dust': 3279, 'cds': 2139, 'annasaccone': 662, 'howard': 4425, 'crossing': 2815, 'annoyed': 690, 'tix': 8161, 'belong': 1342, 'rn': 6887, 'ronnie': 6933, 'deserves': 3024, 'waffle': 8594, 'american': 489, 'accent': 62, 'doomed': 3181, 'views': 8551, 'journey': 4781, 'dvr': 3285, 'tape': 7973, 'sucked': 7830, 'couch': 2718, 'roses': 6944, 'november': 5779, 'ciao': 2414, 'awards': 1062, 'keen': 4829, 'jill': 4745, 'jungle': 4802, 'cared': 2029, 'charitytuesday': 2229, 'illness': 4520, 'wives': 8779, 'tanning': 7971, 'crazytwism': 2786, 'federer': 3603, 'unfollowdiddy': 8432, 'ayubella': 1092, 'nba': 5642, 'verizon': 8534, 'panda': 6018, 'express': 3512, 'cazob': 2128, 'cola': 2532, 'allyxwebb': 424, 'insanely': 4592, 'xxxx': 8891, 'almostlikesushi': 426, 'givin': 3952, 'upside': 8475, 'animal': 636, 'haa': 4133, 'patience': 6076, 'calm': 1966, 'gps': 4026, 'shoots': 7287, 'contribute': 2668, 'allysonalfonso': 423, 'grr': 4094, 'projects': 6480, 'je': 4718, 'te': 7994, 'themes': 8081, 'generous': 3904, 'honestly': 4377, 'excitement': 3477, 'purchasing': 6539, 'brew': 1725, 'loveeee': 5197, 'andrewschof': 569, 'neat': 5651, 'yeaaa': 8917, 'bitches': 1444, 'temptation': 8033, 'relaxed': 6736, 'angela': 593, 'wi': 8729, 'dey': 3054, 'sm': 7441, 'squeekss': 7651, 'strangely': 7765, 'silent': 7349, 'ham': 4165, 'invites': 4639, 'built': 1865, 'active': 100, 'kept': 4836, 'aside': 928, 'heshe': 4293, 'cards': 2027, 'somethin': 7512, 'muah': 5577, 'decisions': 2963, 'retire': 6828, 'fck': 3594, 'cuddle': 2842, 'anthonyytony': 717, 'compare': 2598, 'chances': 2196, 'screamed': 7114, 'trailer': 8245, 'cept': 2164, 'goodness': 4000, 'cherrytreerec': 2307, 'shoulder': 7301, 'butterfly': 1913, 'buzzedition': 1922, 'maths': 5323, 'tests': 8054, 'nearest': 5649, 'nooooooo': 5751, 'otalia': 5938, 'center': 2158, 'cezzab': 2173, 'simply': 7358, 'panic': 6022, 'animated': 638, 'female': 3622, 'custom': 2865, 'bangs': 1188, 'atlanta': 968, 'visited': 8569, 'bots': 1632, 'amous': 508, 'cakey': 1949, 'altho': 445, 'classes': 2447, 'explode': 3506, 'horror': 4404, 'pandora': 6020, 'popping': 6336, 'belly': 1341, 'aware': 1063, 'omggg': 5873, 'shet': 7257, 'score': 7104, 'julia': 4794, 'planes': 6252, 'unique': 8443, 'snowflake': 7482, 'suggested': 7841, 'spotify': 7631, 'spoiled': 7615, 'carolina': 2056, 'adjust': 158, 'graduated': 4035, 'charsos': 2244, 'tattoo': 7983, 'nose': 5762, 'lip': 5100, 'languages': 4953, 'programming': 6475, 'suggesting': 7842, 'coverage': 2749, 'bitter': 1452, 'sike': 7347, 'history': 4331, 'absolutelytrue': 53, 'chars': 2243, 'teddy': 8013, 'bear': 1269, 'sale': 7018, 'auction': 997, 'rec': 6669, 'browser': 1804, 'xotashhh': 8883, 'united': 8446, 'effing': 3341, 'schneider': 7094, 'allergic': 387, 'onions': 5877, 'knee': 4892, 'yawns': 8908, 'stations': 7696, 'alexandrastack': 340, 'bu': 1834, 'bs': 1826, 'ashleeadams': 910, 'smiles': 7453, 'typical': 8385, 'thomas': 8104, 'eric': 3427, 'christft': 2397, 'rare': 6626, 'fact': 3532, 'path': 6074, 'hiiii': 4317, 'caliblondie': 1957, 'shivers': 7276, 'spring': 7638, 'tempting': 8035, 'alaska': 319, 'october': 5820, 'ciararyandreams': 2416, 'hopefully': 4395, 'lives': 5118, 'whos': 8724, 'jelly': 4726, 'kings': 4875, 'audiorush': 1001, 'aschernathan': 896, 'baldeggie': 1165, 'elephant': 3355, 'palm': 6013, 'acummings': 108, 'australian': 1031, 'submission': 7817, 'okey': 5856, 'updating': 8466, 'favorites': 3586, 'ahj': 255, 'jo': 4750, 'muffin': 5580, 'cupcake': 2851, 'billbeckett': 1414, 'perv': 6152, 'hen': 4287, 'avalanchelynn': 1044, 'range': 6618, 'depending': 3010, 'material': 5320, 'invitation': 4636, 'travelling': 8264, 'billarchie': 1413, 'practicing': 6390, 'alcohol': 325, 'superstar': 7875, 'heading': 4238, 'central': 2160, 'station': 7695, 'disneyland': 3124, 'bare': 1204, 'recon': 6690, 'semester': 7168, 'beckinelson': 1300, 'heal': 4243, 'issues': 4667, 'snort': 7480, 'supper': 7876, 'hella': 4277, 'california': 1958, 'sprint': 7641, 'insurance': 4608, 'mmmmmm': 5491, 'oct': 5819, 'sowwie': 7553, 'starts': 7687, 'thousands': 8110, 'passes': 6062, 'rogers': 6918, 'sd': 7124, 'java': 4711, 'consider': 2650, 'bombduh': 1576, 'ankitagaba': 648, 'marry': 5300, 'twat': 8339, 'ivy': 4682, 'cloudy': 2493, 'mosquitos': 5544, 'brown': 1800, 'carrot': 2070, 'ginger': 3938, 'tiny': 8149, 'bite': 1446, 'aiysha': 287, 'switched': 7930, 'aj': 288, 'ui': 8404, 'bella': 1337, 'roma': 6927, 'coolest': 2689, 'painful': 5998, 'promising': 6485, 'programme': 6474, 'knooow': 4900, 'tampa': 7966, 'coriemichele': 2701, 'pointed': 6303, 'gain': 3865, 'access': 66, 'decent': 2957, 'space': 7560, 'artmind': 884, 'hurrah': 4469, 'tooo': 8203, 'chickenstudios': 2331, 'classic': 2448, 'tempted': 8034, 'routine': 6953, 'george': 3912, 'scratched': 7112, 'monty': 5531, 'hosting': 4410, 'artwork': 888, 'joint': 4762, 'fella': 3618, 'besz': 1367, 'dan': 2896, 'diego': 3067, 'definition': 2977, 'das': 2918, 'bkgirlfriday': 1461, 'servers': 7192, 'bandwidth': 1185, 'peak': 6106, 'bobbiandmike': 1557, 'destroy': 3039, 'thinkin': 8094, 'mucho': 5579, 'midnight': 5422, 'idc': 4498, 'slip': 7433, 'slide': 7428, 'aral': 807, 'fuckin': 3836, 'breath': 1706, 'subject': 7816, 'president': 6418, 'equal': 3421, 'ts': 8311, 'applies': 772, 'pan': 6015, 'gifts': 3929, 'item': 4673, 'aah': 5, 'resident': 6800, 'drinks': 3235, 'aamyfish': 8, 'peter': 6156, 'wimbledon': 8748, 'angmogirl': 619, 'heartbroken': 4253, 'tidy': 8136, 'bbc': 1245, 'andreaurbanfox': 554, 'theater': 8077, 'ughhh': 8396, 'robots': 6900, 'networking': 5685, 'brandy': 1680, 'carl': 2038, 'rachelx': 6587, 'looove': 5169, 'hangover': 4177, 'stove': 7760, 'rice': 6856, 'pudding': 6520, 'perfectly': 6130, 'jelous': 4727, 'restaurant': 6818, 'blindcripple': 1493, 'loses': 5178, 'situation': 7387, 'pitch': 6235, 'ashleyluvsjbvfc': 917, 'birmingham': 1435, 'massive': 5312, 'buttercup': 1911, 'streak': 7771, 'amber': 477, 'guyz': 4129, 'countries': 2730, 'silver': 7352, 'alexmauricio': 351, 'martin': 5303, 'astroboyisgay': 954, 'ryt': 6994, 'kc': 4827, 'tonite': 8197, 'gna': 3973, 'arabidopsis': 805, 'cindy': 2424, 'ja': 4685, 'wwwtweeteraddercom': 8872, 'eva': 3448, 'driver': 3238, 'suffer': 7837, 'index': 4562, 'hahahahah': 4147, 'log': 5139, 'shyt': 7330, 'ariannypilarte': 838, 'answered': 708, 'flylady': 3723, 'banana': 1179, 'oven': 5957, 'raised': 6605, 'buffalo': 1854, 'cameronreilly': 1979, 'host': 4408, 'eww': 3465, 'oooh': 5887, 'gg': 3921, 'anytime': 738, 'wished': 8771, 'module': 5502, 'becabear': 1296, 'joking': 4765, 'torture': 8216, 'downtown': 3202, 'courtneys': 2744, 'turkey': 8330, 'speakers': 7575, 'angryaussie': 622, 'heck': 4263, 'notice': 5770, 'germs': 3916, 'virus': 8564, 'disappear': 3100, 'liking': 5081, 'meds': 5355, 'recession': 6675, 'equally': 3422, 'garden': 3879, 'asexiness': 897, 'converse': 2674, 'sidebar': 7334, 'bobbyedner': 1562, 'aparajuli': 744, 'kinds': 4872, 'yeaa': 8916, 'surf': 7887, 'aug': 1009, 'sharepoint': 7236, 'holla': 4356, 'noon': 5746, 'peed': 6111, 'yip': 8948, 'andysowards': 583, 'angelibarra': 601, 'cheap': 2258, 'avatar': 1045, 'bcuz': 1259, 'yahoo': 8901, 'microsoft': 5418, 'lasts': 4968, 'brookeiloveyou': 1791, 'nada': 5608, 'ouch': 5941, 'sytycd': 7940, 'results': 6823, 'pale': 6011, 'scanning': 7080, 'cookleta': 2685, 'heyyy': 4297, 'thingy': 8092, 'rob': 6894, 'heroes': 4291, 'crazyballerina': 2784, 'license': 5059, 'aches': 81, 'chills': 2346, 'feed': 3606, 'eventually': 3454, 'ashton': 921, 'stage': 7664, 'doors': 3183, 'emmajane': 3374, 'product': 6463, 'pup': 6534, 'artemisrex': 876, 'bestest': 1364, 'touched': 8222, 'market': 5294, 'rooting': 6940, 'roger': 6917, 'greatest': 4062, 'era': 3425, 'adrianspencer': 179, 'collinwolfboy': 2548, 'whew': 8707, 'lights': 5074, 'pair': 6004, 'peek': 6112, 'lovin': 5203, 'haveyouever': 4219, 'paint': 6001, 'obv': 5808, 'activity': 101, 'given': 3950, 'barry': 1209, 'bigenya': 1403, 'snow': 7481, 'goodie': 3996, 'xmen': 8880, 'gloom': 3963, 'plain': 6249, 'ol': 5860, 'revised': 6845, 'holding': 4350, 'codyk': 2528, 'rlly': 6885, 'mode': 5498, 'heya': 4295, 'entirely': 3409, 'wise': 8769, 'fee': 3605, 'eligible': 3357, 'confirmation': 2633, 'alexa': 333, 'banner': 1196, 'chopped': 2371, 'pancakes': 6017, 'apples': 767, 'clowns': 2496, 'frickin': 3804, 'spoilers': 7617, 'neda': 5655, 'fam': 3552, 'chili': 2341, 'phil': 6168, 'anima': 634, 'function': 3841, 'spreading': 7636, 'auditiondanny': 1003, 'van': 8519, 'numbers': 5789, 'coke': 2531, 'trash': 8260, 'losers': 5177, 'announcement': 688, 'avaiiable': 1041, 'poetry': 6300, 'rhyme': 6851, 'popular': 6339, 'torn': 8212, 'richard': 6858, 'twitters': 8372, 'adore': 169, 'queensland': 6563, 'mk': 5486, 'treating': 8269, 'chefvanda': 2285, 'treated': 8268, 'international': 4622, 'graduating': 4036, 'kit': 4880, 'shrug': 7319, 'hehehe': 4273, 'amusing': 515, 'ref': 6705, 'underwear': 8427, 'loop': 5170, 'waste': 8638, 'aunts': 1015, 'edward': 3331, 'blown': 1532, 'storage': 7751, 'msg': 5570, 'suggestion': 7843, 'borrowed': 1623, 'anderson': 547, 'opinions': 5905, 'follows': 3739, 'versions': 8536, 'install': 4601, 'hoped': 4393, 'gotcha': 4020, 'blessings': 1490, 'aerocles': 201, 'skint': 7401, 'candydoodles': 2006, 'shiny': 7265, 'fa': 3524, 'ableandgame': 41, 'boom': 1601, 'typing': 8386, 'millionaire': 5440, 'ajrafael': 292, 'hii': 4315, 'marvelous': 5304, 'tweeple': 8340, 'fridays': 3806, 'awesometie': 1074, 'alithealien': 374, 'coonassdotcom': 2692, 'wren': 8850, 'praise': 6391, 'shining': 7264, 'helmet': 4281, 'intended': 4613, 'ash': 899, 'hush': 4476, 'fir': 3671, 'disease': 3116, 'exchange': 3475, 'utterly': 8505, 'harm': 4199, 'lemonade': 5035, 'attempt': 983, 'vinci': 8553, 'carolines': 2059, 'everythings': 3460, 'ashleygofficial': 915, 'toronto': 8214, 'odd': 5823, 'mitchel': 5478, 'musso': 5600, 'dosent': 3188, 'outs': 5952, 'silence': 7348, 'dem': 2997, 'neva': 5686, 'barely': 1206, 'jeans': 4722, 'anastasialoxley': 542, 'votemcfly': 8586, 'dolls': 3171, 'reunion': 6838, 'urgh': 8482, 'childhood': 2338, 'homes': 4368, 'replaced': 6773, 'scores': 7106, 'volume': 8580, 'manchester': 5271, 'drop': 3244, 'lbs': 4996, 'weight': 8682, 'unexpected': 8429, 'tease': 8005, 'suite': 7849, 'trial': 8281, 'delete': 2985, 'amandaholden': 463, 'wheres': 8706, 'relieve': 6743, 'stress': 7777, 'theyre': 8087, 'askajanything': 933, 'cavs': 2126, 'brings': 1749, 'heheh': 4272, 'macs': 5233, 'br': 1658, 'cauld': 2117, 'science': 7099, 'mt': 5573, 'blip': 1496, 'carinak': 2035, 'arrangements': 862, 'awaisnaseer': 1056, 'rt': 6964, 'blogs': 1513, 'raleigh': 6607, 'nokia': 5737, 'dew': 3052, 'grass': 4051, 'fool': 3746, 'disk': 3121, 'cubs': 2839, 'android': 570, 'bugs': 1860, 'bostonmarketer': 1627, 'superb': 7872, 'monster': 5524, 'abrowngirl': 48, 'mystery': 5604, 'choebe': 2365, 'marriage': 5298, 'divorce': 3140, 'cdlowell': 2138, 'pong': 6324, 'pyramids': 6551, 'hahahha': 4150, 'alrighty': 440, 'teens': 8018, 'bbrriittttyy': 1252, 'knees': 4893, 'invited': 4638, 'forecast': 3754, 'pointing': 6304, 'andrewgoldstein': 564, 'giant': 3926, 'breaker': 1700, 'features': 3600, 'sq': 7646, 'fries': 3813, 'auntieflo': 1014, 'loooove': 5168, 'carpesomediem': 2063, 'amen': 487, 'milkshake': 5438, 'exhausted': 3484, 'mistakes': 5475, 'woop': 8811, 'rabbit': 6582, 'emo': 3375, 'blocks': 1507, 'katie': 4823, 'frank': 3784, 'struck': 7792, 'drama': 3212, 'geez': 3897, 'margaret': 5286, 'chevale': 2321, 'print': 6438, 'kasi': 4819, 'goooood': 4011, 'gmailcom': 3972, 'segment': 7155, 'queue': 6568, 'sadness': 7005, 'paula': 6086, 'lls': 5124, 'debate': 2952, 'arnaudjacobs': 855, 'gonzpiration': 3992, 'dre': 3218, 'colorado': 2552, 'marathon': 5282, 'limits': 5088, 'embarrassed': 3368, 'hashtag': 4205, 'success': 7827, 'positivity': 6355, 'ajuonline': 293, 'sunburn': 7858, 'inspired': 4599, 'opened': 5897, 'yelled': 8931, 'victims': 8543, 'downstairs': 3200, 'asiabrands': 926, 'ariaajaeger': 834, 'sept': 7183, 'bitten': 1450, 'bloke': 1515, 'refer': 6706, 'smiley': 7454, 'blind': 1492, 'fucked': 3835, 'hardest': 4194, 'swedish': 7914, 'woof': 8807, 'uber': 8389, 'nothin': 5768, 'closes': 2483, 'flow': 3715, 'successful': 7828, 'selfish': 7162, 'km': 4890, 'aja': 289, 'carbs': 2024, 'non': 5739, 'automatically': 1038, 'wiped': 8765, 'ip': 4644, 'bot': 1628, 'appear': 758, 'pork': 6342, 'snuggle': 7483, 'lilly': 5083, 'cracking': 2760, 'trackle': 8237, 'blakehealy': 1471, 'wasted': 8639, 'sync': 7936, 'amateur': 467, 'bisante': 1439, 'jt': 4787, 'cherrim': 2301, 'reward': 6849, 'chai': 2184, 'sickness': 7333, 'gen': 3899, 'straighten': 7762, 'wallet': 8613, 'adriwadri': 183, 'splendid': 7611, 'hire': 4329, 'sunset': 7868, 'slash': 7416, 'aliens': 367, 'gossip': 4017, 'lauren': 4984, 'fu': 3833, 'creaturecomfort': 2795, 'hardware': 4196, 'liar': 5056, 'whatcha': 8699, 'wearin': 8659, 'technically': 8009, 'legally': 5027, 'required': 6789, 'refund': 6711, 'laker': 4942, 'brief': 1737, 'britney': 1758, 'spears': 7578, 'talent': 7957, 'dot': 3189, 'grilled': 4080, 'corn': 2702, 'expected': 3493, 'enthusiasm': 3407, 'alto': 446, 'sketch': 7393, 'clever': 2466, 'brookebanx': 1787, 'shhh': 7258, 'thee': 8079, 'buh': 1861, 'imac': 4526, 'maker': 5255, 'psycho': 6511, 'doubt': 3191, 'faith': 3544, 'garage': 3877, 'degree': 2979, 'television': 8023, 'bradie': 1664, 'err': 3431, 'milo': 5443, 'cereal': 2165, 'angelayang': 598, 'rarely': 6627, 'ross': 6946, 'iv': 4680, 'tasting': 7980, 'hv': 4478, 'ashleyeastwest': 914, 'brownies': 1801, 'soooooo': 7528, 'cld': 2455, 'hide': 4305, 'megan': 5365, 'chactingnyc': 2179, 'bowling': 1643, 'necessary': 5652, 'dearangelx': 2948, 'beautifulwaste': 1287, 'meanie': 5344, 'homepage': 4366, 'whoo': 8719, 'productive': 6465, 'unsure': 8458, 'virtual': 8563, 'errors': 3434, 'backpackingdad': 1129, 'sock': 7494, 'slap': 7415, 'abstractg': 55, 'gods': 3982, 'instant': 4604, 'gal': 3868, 'avinio': 1051, 'opinion': 5904, 'aiyerchitra': 286, 'connected': 2643, 'halfway': 4160, 'resources': 6807, 'bore': 1617, 'keyboard': 4842, 'avidbookreader': 1050, 'pointless': 6305, 'campaign': 1985, 'mountains': 5554, 'sailor': 7012, 'youuuuu': 8967, 'appreciation': 779, 'sunburnt': 7860, 'closure': 2487, 'twitterific': 8369, 'homeless': 4364, 'arrested': 863, 'excuses': 3481, 'geeky': 3896, 'pretend': 6423, 'backup': 1134, 'scott': 7108, 'announce': 686, 'attacks': 982, 'ko': 4911, 'mj': 5485, 'ahhhhh': 252, 'stacy': 7661, 'traveling': 8263, 'forth': 3771, 'rape': 6623, 'touching': 8223, 'laid': 4940, 'buenos': 1853, 'complex': 2609, 'ohhhhhh': 5845, 'houston': 4424, 'land': 4948, 'aafreen': 4, 'stopping': 7749, 'picky': 6199, 'reds': 6701, 'loaded': 5130, 'hills': 4321, 'winners': 8761, 'crib': 2802, 'stroll': 7789, 'addiiee': 141, 'spectacular': 7585, 'caps': 2016, 'affirmationspot': 207, 'indie': 4566, 'angel': 592, 'whine': 8709, 'kitchen': 4882, 'truffles': 8303, 'chocolates': 2364, 'aprilllllx': 794, 'delongeday': 2996, 'lmaoo': 5126, 'puke': 6523, 'boob': 1592, 'pjs': 6245, 'coughing': 2721, 'bsbsavedmylife': 1828, 'highest': 4310, 'increase': 4558, 'vodka': 8576, 'nickname': 5707, 'plate': 6262, 'boltclock': 1573, 'lego': 5031, 'awesomeness': 1073, 'abigaelettuce': 34, 'davidarchie': 2931, 'overtime': 5966, 'bisforbecca': 1441, 'analystalterego': 536, 'rid': 6863, 'meh': 5366, 'phase': 6165, 'approval': 783, 'taxes': 7987, 'depressed': 3012, 'forgotten': 3764, 'source': 7549, 'village': 8552, 'explore': 3507, 'embarrassing': 3369, 'annabdavid': 656, 'losing': 5179, 'gloss': 3967, 'aditya': 156, 'mask': 5309, 'sweetheart': 7918, 'storms': 7756, 'gentle': 3907, 'stella': 7710, 'vets': 8538, 'wire': 8766, 'leg': 5025, 'blueberry': 1535, 'cheesecake': 2280, 'techno': 8010, 'reduce': 6702, 'college': 2547, 'annaaralar': 655, 'charmed': 2241, 'actress': 104, 'earl': 3298, 'subway': 7825, 'boredom': 1619, 'scenes': 7089, 'bomb': 1575, 'complain': 2604, 'heeey': 4266, 'freedom': 3793, 'arizona': 846, 'carradine': 2066, 'advice': 197, 'allymcfly': 420, 'ally': 411, 'allangoesdmb': 384, 'naman': 5615, 'tokyo': 8178, 'producing': 6462, 'transformers': 8255, 'ow': 5967, 'bleh': 1485, 'laying': 4992, 'damaged': 2891, 'tub': 8318, 'bucket': 1842, 'annlinny': 685, 'cosplay': 2713, 'letter': 5047, 'ny': 5799, 'uhmm': 8403, 'reached': 6644, 'editing': 3327, 'viva': 8575, 'painkillers': 5999, 'tweeters': 8346, 'laughhave': 4977, 'timefollow': 8145, 'meits': 5369, 'ignore': 4506, 'chocolatedip': 2363, 'funn': 3848, 'circus': 2432, 'girlies': 3943, 'karma': 4818, 'chet': 2318, 'blair': 1469, 'lower': 5206, 'der': 3015, 'bee': 1311, 'flew': 3700, 'zombies': 8994, 'luke': 5216, 'incident': 4553, 'bath': 1230, 'ew': 3464, 'esp': 3437, 'solution': 7506, 'curse': 2862, 'entertainment': 3406, 'laughs': 4979, 'brianwelburn': 1732, 'considered': 2651, 'setting': 7201, 'flickr': 3702, 'ups': 8472, 'crowd': 2816, 'desperate': 3033, 'dictionary': 3063, 'anditisliz': 549, 'arunbasillal': 893, 'ak': 294, 'client': 2470, 'brick': 1733, 'agthekid': 240, 'autograph': 1037, 'underage': 8418, 'foo': 3743, 'effort': 3342, 'sana': 7033, 'btcare': 1830, 'activate': 98, 'shipping': 7268, 'wif': 8734, 'steals': 7708, 'anothera': 704, 'edge': 3324, 'dreading': 3221, 'standing': 7675, 'river': 6883, 'muack': 5576, 'pills': 6216, 'phew': 6167, 'submitted': 7819, 'glorious': 3965, 'contacts': 2661, 'hols': 4361, 'lastfm': 4966, 'magazine': 5238, 'portable': 6345, 'aprilknob': 793, 'thnks': 8101, 'thn': 8099, 'stone': 7744, 'existed': 3486, 'bestie': 1365, 'squirrel': 7654, 'dee': 2967, 'sophie': 7531, 'enjoyable': 3397, 'alysheeapm': 450, 'ammarvellous': 501, 'pixie': 6242, 'shortly': 7294, 'spots': 7632, 'abigaill': 35, 'alternative': 444, 'zombie': 8993, 'ewww': 3466, 'figuring': 3643, 'dudes': 3269, 'intelligent': 4611, 'startin': 7684, 'involved': 4641, 'convo': 2678, 'podcast': 6296, 'clients': 2471, 'convenient': 2670, 'boyislost': 1653, 'uu': 8506, 'animoenzo': 642, 'fml': 3724, 'arf': 825, 'mates': 5321, 'wel': 8685, 'pleeeease': 6278, 'andrewpycroft': 567, 'cherrybun': 2305, 'vitamin': 8574, 'expression': 3513, 'jen': 4728, 'ohio': 5847, 'michigan': 5417, 'romantic': 6930, 'montana': 5526, 'paramore': 6035, 'trim': 8289, 'hairs': 4157, 'caroljs': 2060, 'helping': 4285, 'bryancheung': 1816, 'oxygen': 5979, 'confusing': 2636, 'distractions': 3132, 'productivity': 6466, 'pulled': 6525, 'grandpa': 4044, 'berlin': 1358, 'desk': 3031, 'brentlauren': 1721, 'hips': 4328, 'xp': 8888, 'brookehaskins': 1790, 'becomingbella': 1306, 'pete': 6155, 'comfort': 2574, 'laptops': 4958, 'admin': 161, 'solve': 7507, 'teenage': 8017, 'ninja': 5725, 'mike': 5427, 'producer': 6460, 'religious': 6746, 'alexiaaa': 345, 'goofy': 4005, 'edinburgh': 3325, 'pour': 6375, 'arianneross': 837, 'received': 6671, 'aquarium': 800, 'av': 1040, 'fitting': 3685, 'remaining': 6749, 'oohh': 5885, 'tattoos': 7984, 'cascandar': 2082, 'annoy': 689, 'pushing': 6547, 'apologize': 751, 'downloading': 3197, 'mass': 5310, 'oral': 5916, 'length': 5037, 'property': 6495, 'abis': 38, 'giro': 3946, 'preview': 6426, 'sea': 7126, 'neil': 5668, 'caldjr': 1952, 'alliflowers': 396, 'stores': 7753, 'genuine': 3908, 'courageousone': 2737, 'suddenly': 7835, 'comp': 2595, 'anniemacdj': 678, 'scam': 7078, 'shoutout': 7308, 'wed': 8668, 'drake': 3211, 'chetcannon': 2319, 'physical': 6188, 'therapy': 8084, 'goodmorning': 3999, 'scale': 7077, 'sequel': 7185, 'prior': 6442, 'router': 6952, 'chunky': 2412, 'webcam': 8664, 'granny': 4045, 'hmmmm': 4340, 'technology': 8011, 'september': 7184, 'focus': 3727, 'goodies': 3997, 'parking': 6046, 'folder': 3729, 'safely': 7008, 'presentation': 6415, 'poison': 6307, 'visiting': 8570, 'loud': 5189, 'highly': 4312, 'recommends': 6689, 'shareholder': 7235, 'dividends': 3139, 'adrunkreaper': 184, 'unlocked': 8453, 'dreaming': 3223, 'designs': 3029, 'crystalbutterfl': 2828, 'asot': 940, 'rochester': 6902, 'drove': 3248, 'european': 3446, 'cya': 2876, 'photographers': 6180, 'frustrated': 3825, 'hola': 4348, 'charltonbrooker': 2239, 'wa': 8590, 'graphics': 4050, 'clown': 2495, 'passion': 6064, 'stressing': 7780, 'weekends': 8678, 'amberwhiting': 484, 'aimee': 271, 'lastnight': 4967, 'industry': 4570, 'aclockworktoad': 89, 'yh': 8946, 'susan': 7897, 'performed': 6133, 'basseyworld': 1226, 'pretending': 6424, 'appropriate': 782, 'airrun': 283, 'awalliewall': 1059, 'toooooo': 8206, 'occasion': 5812, 'calendar': 1955, 'terribly': 8045, 'attitude': 988, 'arts': 886, 'lamb': 4945, 'expo': 3510, 'ann': 652, 'youth': 8962, 'nation': 5632, 'leadership': 5001, 'forum': 3773, 'sobs': 7489, 'abideedles': 32, 'emailing': 3366, 'dread': 3219, 'alexlj': 350, 'handy': 4172, 'trends': 8277, 'ooo': 5886, 'alisweeney': 373, 'fone': 3741, 'cheat': 2260, 'awhh': 1077, 'dubai': 3264, 'technical': 8008, 'recording': 6693, 'ellen': 3360, 'script': 7121, 'mah': 5243, 'craigyd': 2766, 'twist': 8357, 'foot': 3748, 'orlando': 5933, 'banillaface': 1189, 'uhm': 8402, 'arg': 826, 'gnite': 3975, 'kool': 4914, 'iz': 4684, 'bluecupcakes': 1536, 'grabs': 4028, 'triple': 8291, 'shaking': 7225, 'wasting': 8640, 'commented': 2584, 'alps': 438, 'brainstuck': 1671, 'yehh': 8929, 'denver': 3007, 'mixing': 5483, 'result': 6822, 'hall': 4161, 'square': 7648, 'nyt': 5801, 'unemployed': 8428, 'law': 4987, 'zealand': 8990, 'sleepin': 7420, 'airports': 282, 'cellphone': 2155, 'dealing': 2944, 'lay': 4990, 'frustrating': 3826, 'surrounded': 7893, 'alannahjc': 316, 'feature': 3598, 'flawless': 3699, 'selling': 7165, 'niece': 5711, 'salmon': 7021, 'courtney': 2742, 'combine': 2561, 'kindness': 4871, 'chantalclaret': 2205, 'taco': 7945, 'behavior': 1324, 'disappointing': 3104, 'cont': 2659, 'chair': 2186, 'idol': 4504, 'worker': 8821, 'gum': 4116, 'fyi': 3857, 'spencer': 7595, 'liz': 5121, 'rejects': 6728, 'roman': 6928, 'lifes': 5066, 'venue': 8533, 'christina': 2399, 'sht': 7320, 'swore': 7933, 'according': 69, 'oz': 5981, 'funky': 3847, 'alice': 361, 'noo': 5743, 'bw': 1923, 'capital': 2014, 'potato': 6369, 'cranky': 2769, 'multiple': 5584, 'nc': 5643, 'envious': 3412, 'youngest': 8959, 'avoid': 1052, 'achitnis': 85, 'alexwtrugs': 355, 'fwd': 3855, 'happend': 4182, 'parties': 6053, 'ahem': 248, 'shifts': 7261, 'bank': 1190, 'nm': 5731, 'hockey': 4345, 'babysitter': 1122, 'crystalchappell': 2829, 'adamschwabe': 120, 'sbs': 7075, 'aussieboby': 1021, 'liverpool': 5117, 'legend': 5028, 'aboveallfabric': 43, 'hells': 4280, 'ole': 5865, 'usd': 8490, 'rates': 6632, 'author': 1035, 'hopes': 4397, 'boooo': 1605, 'seven': 7207, 'detroit': 3043, 'amyshell': 530, 'distract': 3128, 'ashumittal': 922, 'wala': 8606, 'fewer': 3629, 'pets': 6159, 'shaving': 7248, 'shaved': 7247, 'razor': 6640, 'caseyore': 2086, 'zone': 8995, 'claireboyles': 2439, 'appeared': 760, 'refuse': 6712, 'saint': 7013, 'soda': 7497, 'yucky': 8974, 'drew': 3229, 'nz': 5802, 'wout': 8846, 'noes': 5735, 'mutual': 5601, 'funds': 3844, 'entry': 3410, 'charges': 2224, 'canadian': 1991, 'wordpress': 8816, 'yun': 8980, 'experiment': 3499, 'fireworks': 3674, 'blanket': 1476, 'tube': 8319, 'prime': 6435, 'tied': 8138, 'epicfail': 3417, 'parent': 6040, 'zip': 8992, 'file': 3644, 'acc': 61, 'gina': 3937, 'twins': 8356, 'stat': 7690, 'pita': 6234, 'recital': 6679, 'sisters': 7380, 'button': 1916, 'girly': 3945, 'spark': 7571, 'addict': 134, 'classmates': 2450, 'comedydave': 2570, 'ahmnohere': 259, 'genius': 3905, 'concept': 2617, 'useful': 8493, 'celiaistall': 2152, 'srsly': 7656, 'banned': 1194, 'gooooood': 4012, 'allergies': 388, 'riding': 6869, 'horses': 4406, 'signal': 7342, 'compliments': 2612, 'cop': 2694, 'parts': 6056, 'previews': 6427, 'artists': 883, 'discover': 3111, 'os': 5934, 'shaheen': 7221, 'flatley': 3696, 'canal': 1993, 'es': 3435, 'intro': 4629, 'bahaha': 1153, 'healing': 4244, 'throw': 8117, 'az': 1096, 'indiana': 4565, 'gloomy': 3964, 'bahahaha': 1154, 'foreign': 3756, 'writechat': 8853, 'vanessa': 8521, 'archuleta': 816, 'pirate': 6228, 'crawl': 2778, 'aravindkumar': 809, 'aprilmiss': 795, 'gardening': 3880, 'sticks': 7728, 'realizing': 6658, 'drinkin': 3233, 'bassyc': 1227, 'kong': 4913, 'cheerful': 2275, 'waits': 8602, 'washed': 8633, 'pushed': 6546, 'financial': 3659, 'argue': 830, 'wrap': 8849, 'honesty': 4378, 'rhymes': 6852, 'eep': 3335, 'organize': 5928, 'dresses': 3227, 'sharp': 7241, 'wifey': 8736, 'firstrecord': 3677, 'wears': 8661, 'ambermatson': 483, 'hottie': 4417, 'tweetin': 8348, 'downside': 3199, 'basketball': 1224, 'juice': 4792, 'southern': 7552, 'mountain': 5553, 'nearby': 5648, 'spinning': 7606, 'amoir': 504, 'adarlingxo': 127, 'kewl': 4840, 'neighbors': 5665, 'tweetup': 8352, 'kya': 4926, 'hai': 4153, 'audio': 1000, 'listened': 5108, 'pad': 5992, 'randomly': 6615, 'rocked': 6904, 'blondebydesign': 1520, 'added': 132, 'lease': 5014, 'chrome': 2404, 'addon': 144, 'lesbian': 5041, 'spammers': 7566, 'fc': 3593, 'ang': 591, 'caraandclo': 2022, 'congratulation': 2640, 'anthony': 713, 'stats': 7697, 'ale': 326, 'artedeb': 875, 'bruised': 1810, 'brave': 1689, 'honeymoon': 4380, 'hh': 4299, 'willing': 8745, 'melted': 5376, 'sticky': 7729, 'blacksocialite': 1466, 'closet': 2485, 'bambiblue': 1176, 'fancy': 3559, 'wah': 8596, 'skin': 7398, 'tag': 7948, 'removed': 6763, 'replacing': 6775, 'charles': 2232, 'crush': 2824, 'shud': 7322, 'du': 3263, 'personality': 6146, 'killer': 4861, 'introduced': 4631, 'crushed': 2825, 'stands': 7676, 'expenses': 3495, 'cp': 2755, 'pee': 6110, 'translation': 8258, 'bhai': 1395, 'argh': 828, 'condition': 2624, 'occurred': 5815, 'alonis': 433, 'yeaah': 8920, 'tgif': 8061, 'danger': 2905, 'amazingly': 472, 'designer': 3027, 'sim': 7353, 'carrie': 2067, 'fx': 3856, 'bites': 1447, 'delay': 2983, 'clumsyxheart': 2501, 'lindsay': 5090, 'toms': 8191, 'candid': 2003, 'process': 6456, 'bythekilowatt': 1928, 'boxers': 1645, 'rawr': 6637, 'julie': 4796, 'leslie': 5042, 'geek': 3894, 'aprilshotyou': 796, 'steak': 7705, 'cinemabizarre': 2426, 'models': 5500, 'owned': 5971, 'baha': 1152, 'pig': 6210, 'bang': 1187, 'adese': 153, 'sweater': 7911, 'notifications': 5773, 'kyte': 4928, 'booze': 1613, 'babenatasha': 1109, 'clearing': 2463, 'unavailable': 8413, 'globe': 3962, 'dollhouse': 3170, 'seek': 7151, 'suns': 7866, 'conf': 2627, 'beloved': 1343, 'yeahhh': 8923, 'thrilled': 8114, 'bernmorley': 1359, 'rosiecakes': 6945, 'scheme': 7093, 'oranges': 5918, 'battle': 1236, 'aged': 224, 'cleaner': 2458, 'heh': 4270, 'guests': 4111, 'humor': 4455, 'charged': 2221, 'bollocks': 1572, 'nu': 5784, 'muscle': 5592, 'sh': 7216, 'addictive': 138, 'pouts': 6379, 'normally': 5757, 'habits': 4135, 'resume': 6824, 'whoot': 8722, 'ariestotle': 840, 'yeap': 8924, 'talaga': 7956, 'december': 2956, 'murphy': 5591, 'chriscuzzy': 2382, 'weigh': 8681, 'betsyweber': 1379, 'princess': 6437, 'attached': 978, 'stil': 7731, 'pockets': 6294, 'smoothies': 7464, 'perspective': 6149, 'crunch': 2822, 'rome': 6931, 'tehe': 8021, 'britl': 1756, 'promo': 6486, 'planting': 6259, 'enter': 3400, 'imy': 4549, 'tommcfly': 8183, 'liam': 5055, 'hehehehe': 4274, 'hub': 4439, 'beckybuckwild': 1302, 'grounded': 4088, 'bullyinguk': 1873, 'kiddin': 4852, 'solved': 7508, 'coco': 2516, 'competitive': 2603, 'uno': 8456, 'teehee': 8015, 'hangout': 4176, 'asshole': 944, 'nicolereyes': 5710, 'cathybaron': 2113, 'bioncaaa': 1432, 'amazingcircus': 471, 'banking': 1191, 'aleenia': 327, 'hail': 4154, 'ghost': 3924, 'plant': 6257, 'dh': 3055, 'weeds': 8675, 'castle': 2098, 'recovering': 6697, 'deff': 2974, 'astrowebgirl': 956, 'italian': 4669, 'sistah': 7378, 'hearts': 4254, 'nawww': 5641, 'tragedy': 8242, 'silk': 7350, 'pr': 6386, 'tomorow': 8187, 'aaron': 9, 'friendship': 3812, 'terrific': 8047, 'partner': 6054, 'chef': 2282, 'bloodzillabilly': 1525, 'eaten': 3314, 'amalari': 455, 'loosing': 5172, 'remote': 6761, 'channels': 2204, 'estate': 3440, 'specialist': 7581, 'sends': 7173, 'rose': 6943, 'chrisluvssixxam': 2391, 'spoilt': 7618, 'responded': 6810, 'cycle': 2877, 'britain': 1753, 'ignored': 4507, 'recent': 6672, 'accidentally': 68, 'belle': 1338, 'isle': 4663, 'siya': 7388, 'feeding': 3608, 'blipfish': 1497, 'sw': 7903, 'promised': 6484, 'joel': 4754, 'keywords': 4844, 'effective': 3338, 'misery': 5463, 'bonjour': 1586, 'tbh': 7990, 'popped': 6334, 'alaina': 307, 'acting': 95, 'rove': 6954, 'alissa': 371, 'beast': 1274, 'italy': 4670, 'effects': 3339, 'holland': 4357, 'steal': 7706, 'police': 6315, 'novel': 5778, 'anitafiander': 644, 'affiliate': 206, 'lessons': 5044, 'anamariecox': 537, 'sec': 7139, 'rubber': 6967, 'frame': 3781, 'dump': 3274, 'stuffs': 7806, 'behalf': 1323, 'math': 5322, 'unfortunatly': 8437, 'shots': 7299, 'ardenkhan': 819, 'agency': 225, 'heater': 4256, 'asinisterduck': 930, 'cv': 2875, 'cheerleader': 2277, 'ik': 4513, 'hut': 4477, 'serves': 7193, 'serve': 7190, 'kfc': 4845, 'grin': 4081, 'rats': 6635, 'housework': 4423, 'amberausten': 478, 'extended': 3514, 'alliecine': 392, 'ct': 2835, 'unfair': 8430, 'blore': 1526, 'pune': 6531, 'gag': 3860, 'butt': 1909, 'hood': 4384, 'hop': 4391, 'ne': 5646, 'pas': 6059, 'mikey': 5429, 'erica': 3428, 'interviewed': 4627, 'boyle': 1655, 'diversity': 3138, 'loveee': 5196, 'lasted': 4965, 'rachaelll': 6585, 'tend': 8036, 'statement': 7692, 'chucknerd': 2410, 'bjblyth': 1458, 'exclusive': 3479, 'premium': 6405, 'pride': 6432, 'factor': 3533, 'anne': 666, 'bethofalltrades': 1377, 'poo': 6326, 'dev': 3044, 'teams': 8001, 'horny': 4400, 'ashwinn': 923, 'irritated': 4660, 'hellooo': 4279, 'burn': 1890, 'dora': 3185, 'explorer': 3508, 'conclusion': 2622, 'brighter': 1740, 'certain': 2167, 'calories': 1968, 'bg': 1392, 'candiceshane': 2001, 'arleigh': 849, 'crystal': 2827, 'landing': 4950, 'awaltzforanight': 1060, 'acread': 92, 'intelligence': 4610, 'poll': 6321, 'avail': 1042, 'yorkshire': 8955, 'terrier': 8046, 'loll': 5147, 'assignments': 947, 'backstage': 1130, 'football': 3750, 'puffy': 6522, 'roadtrip': 6891, 'cope': 2695, 'default': 2972, 'wifi': 8737, 'curl': 2857, 'beaugiles': 1283, 'comic': 2578, 'od': 5822, 'yoo': 8953, 'smashed': 7446, 'cops': 2697, 'warped': 8630, 'drill': 3231, 'aa': 0, 'addiec': 139, 'addersop': 133, 'ambienteer': 485, 'graphic': 4049, 'philosophy': 6172, 'prof': 6468, 'shine': 7263, 'grammar': 4039, 'strawberries': 7769, 'whip': 8711, 'robert': 6895, 'harris': 4202, 'crashes': 2774, 'buys': 1920, 'patrick': 6080, 'belindaang': 1334, 'csiriano': 2833, 'unpacking': 8457, 'carlamedina': 2039, 'washington': 8635, 'mexico': 5409, 'sweetest': 7917, 'counter': 2727, 'boi': 1569, 'torrent': 8215, 'anime': 640, 'bri': 1727, 'blobyblo': 1501, 'holds': 4351, 'angelajames': 594, 'noooooooo': 5752, 'naa': 5607, 'pounds': 6374, 'shitty': 7275, 'whyyy': 8728, 'jose': 4776, 'hideous': 4306, 'andrewsayer': 568, 'scream': 7113, 'bevysmith': 1386, 'grades': 4033, 'ahacom': 243, 'checkin': 2266, 'ummm': 8411, 'cazashton': 2127, 'artythecat': 890, 'noooooo': 5750, 'arrow': 868, 'twitterers': 8367, 'betta': 1380, 'heartbreaking': 4252, 'worship': 8837, 'acts': 105, 'allanasaur': 383, 'greek': 4067, 'bfheroes': 1391, 'almienova': 425, 'ly': 5223, 'earthquake': 3306, 'filling': 3648, 'bryan': 1815, 'brett': 1724, 'picks': 6198, 'fare': 3565, 'angesbiz': 610, 'lock': 5136, 'bin': 1427, 'wildlife': 8742, 'hallo': 4162, 'nk': 5729, 'clubs': 2498, 'powers': 6383, 'pj': 6244, 'playin': 6268, 'featured': 3599, 'rescue': 6795, 'manly': 5277, 'prom': 6482, 'omgosh': 5875, 'cure': 2855, 'temporarily': 8031, 'strategy': 7768, 'brisbane': 1751, 'award': 1061, 'bemeaningful': 1345, 'journal': 4779, 'vacay': 8512, 'pi': 6191, 'ni': 5700, 'permanent': 6139, 'beyonce': 1388, 'bo': 1551, 'creek': 2798, 'acepower': 77, 'weddings': 8670, 'harold': 4200, 'fees': 3615, 'cock': 2515, 'withdrawal': 8776, 'brittgoosie': 1767, 'backwards': 1135, 'grats': 4054, 'aboard': 42, 'peterfacinelli': 6157, 'reach': 6643, 'andytaylorsonic': 584, 'alllacqueredup': 401, 'sheets': 7253, 'maria': 5289, 'monitor': 5520, 'lofnotc': 5138, 'cookiiemonstaar': 2683, 'meat': 5350, 'migraine': 5425, 'htc': 4435, 'lea': 4998, 'mis': 5461, 'broadway': 1776, 'tops': 8211, 'complaining': 2605, 'performance': 6132, 'pokerface': 6312, 'relatives': 6734, 'sandals': 7037, 'bastard': 1228, 'amounts': 507, 'description': 3020, 'bustyrockets': 1904, 'emailed': 3365, 'introducing': 4632, 'judging': 4791, 'outcome': 5944, 'director': 3094, 'mars': 5301, 'retweets': 6837, 'ramen': 6611, 'laughter': 4980, 'knowww': 4908, 'appt': 789, 'belt': 1344, 'nvm': 5795, 'salsa': 7023, 'amiestuart': 495, 'reruns': 6794, 'caro': 2053, 'paranormal': 6038, 'priest': 6433, 'headed': 4237, 'baltimore': 1172, 'psyched': 6510, 'kittens': 4884, 'blondeblogger': 1519, 'anea': 587, 'fluid': 3720, 'perks': 6137, 'flower': 3716, 'crank': 2768, 'appetite': 762, 'amazondotjon': 476, 'afranks': 214, 'blushing': 1544, 'achillesmama': 83, 'bonnie': 1588, 'aiming': 273, 'portion': 6348, 'challenges': 2188, 'outing': 5948, 'diner': 3083, 'temple': 8030, 'fade': 3535, 'shouting': 7307, 'aleyrose': 356, 'nuggets': 5787, 'lounge': 5191, 'interface': 4620, 'wendy': 8691, 'anthem': 712, 'audaciousgloop': 998, 'psychology': 6512, 'heath': 4257, 'bikini': 1412, 'warned': 8628, 'assuming': 950, 'kita': 4881, 'atubanos': 990, 'awdawno': 1065, 'kreme': 4918, 'sits': 7384, 'aaw': 12, 'quitting': 6576, 'smoking': 7461, 'exception': 3474, 'hubs': 4441, 'aussie': 1018, 'exists': 3488, 'dawn': 2933, 'antiquebasket': 723, 'noe': 5734, 'gue': 4105, 'becca': 1297, 'chart': 2245, 'slice': 7427, 'acowboyswife': 91, 'selected': 7157, 'akavirtualpa': 297, 'di': 3056, 'angielala': 613, 'boots': 1611, 'bid': 1398, 'thanking': 8070, 'ctham': 2836, 'alley': 389, 'hindi': 4324, 'certified': 2170, 'parked': 6044, 'qualify': 6556, 'allieandra': 391, 'prints': 6441, 'causing': 2121, 'jackalltimelow': 4687, 'chasing': 2250, 'tee': 8014, 'adventures': 193, 'alexis': 346, 'fs': 3829, 'haz': 4229, 'laters': 4972, 'stealing': 7707, 'temp': 8029, 'abraham': 45, 'approach': 781, 'yer': 8936, 'somethings': 7513, 'saffron': 7010, 'sounding': 7544, 'cow': 2752, 'weds': 8672, 'buttercupd': 1912, 'chloe': 2358, 'gb': 3889, 'superman': 7873, 'ick': 4492, 'whore': 8723, 'beckykingston': 1304, 'disappeared': 3101, 'claramiss': 2443, 'sweety': 7922, 'carrying': 2073, 'relief': 6742, 'drawings': 3217, 'drank': 3214, 'oreo': 5924, 'recommendations': 6686, 'int': 4609, 'nighty': 5717, 'doggie': 3161, 'yessss': 8940, 'cups': 2854, 'atcha': 961, 'kristen': 4921, 'fry': 3828, 'dramatic': 3213, 'beccajoybower': 1298, 'foster': 3776, 'writes': 8856, 'crown': 2817, 'allaboutenergy': 382, 'category': 2106, 'christopher': 2402, 'vent': 8532, 'poh': 6301, 'braids': 1668, 'ozzy': 5982, 'penny': 6120, 'ban': 1178, 'stink': 7733, 'rehearsal': 6725, 'dropping': 3246, 'hmmmmm': 4341, 'coat': 2513, 'victory': 8544, 'alancostello': 313, 'annhesketh': 675, 'tryna': 8310, 'wats': 8647, 'saveearl': 7065, 'regularly': 6724, 'robot': 6898, 'sorting': 7538, 'squeeze': 7652, 'pero': 6142, 'unnecessary': 8455, 'angelayee': 599, 'precious': 6397, 'affect': 203, 'virginia': 8562, 'broadband': 1774, 'gurl': 4122, 'aflow': 212, 'stairs': 7666, 'kayla': 4826, 'nonstop': 5742, 'pissing': 6232, 'tissues': 8157, 'celtics': 2157, 'sniffle': 7475, 'innout': 4589, 'abiface': 33, 'loooong': 5167, 'cristalthegreat': 2810, 'gaining': 3867, 'nuthin': 5793, 'ph': 6163, 'psh': 6505, 'manager': 5270, 'unknown': 8449, 'smooth': 7462, 'regents': 6718, 'boddingtons': 1564, 'badastronomer': 1139, 'casualintruder': 2099, 'quarter': 6559, 'trail': 8244, 'mailing': 5246, 'missy': 5473, 'tracks': 8238, 'delivered': 2993, 'hid': 4303, 'shuffle': 7323, 'voted': 8584, 'airbase': 279, 'ano': 696, 'pure': 6541, 'bark': 1207, 'breathe': 1707, 'fred': 3791, 'yelling': 8932, 'arisaja': 844, 'nightmare': 5714, 'alpew': 436, 'coach': 2508, 'chipmunkartist': 2354, 'adult': 186, 'tear': 8002, 'anotherjulia': 705, 'improving': 4548, 'woow': 8813, 'santi': 7046, 'smack': 7442, 'wut': 8867, 'bamaloo': 1175, 'ashalynd': 900, 'russian': 6991, 'noise': 5736, 'bedroom': 1309, 'abirtmo': 37, 'butterflykate': 1914, 'carol': 2055, 'discount': 3110, 'direction': 3091, 'chickie': 2332, 'sang': 7042, 'eve': 3450, 'believing': 1333, 'carrieaway': 2068, 'annee': 668, 'survivors': 7896, 'mentally': 5386, 'waited': 8599, 'cents': 2162, 'argument': 832, 'diva': 3137, 'skins': 7400, 'pala': 6010, 'ack': 88, 'guru': 4123, 'messing': 5400, 'chargerjenn': 2223, 'adnamay': 164, 'hiya': 4336, 'chiacy': 2323, 'nom': 5738, 'poop': 6329, 'violence': 8557, 'angielim': 614, 'aspieteach': 942, 'meaning': 5345, 'forourhero': 3769, 'mills': 5442, 'standard': 7673, 'mixtape': 5484, 'hittin': 4334, 'bobbinrob': 1559, 'collectormaniac': 2545, 'fixing': 3688, 'thailand': 8065, 'allyrockstar': 421, 'personally': 6147, 'korean': 4916, 'elevator': 3356, 'comforting': 2576, 'disco': 3108, 'tnx': 8170, 'austinslide': 1029, 'likey': 5080, 'abit': 39, 'caitlin': 1944, 'aliciiajonesjk': 365, 'alyxxdione': 454, 'derby': 3016, 'wna': 8786, 'softball': 7499, 'ankle': 649, 'swollen': 7932, 'festivities': 3627, 'leak': 5006, 'icecream': 4489, 'belive': 1335, 'residents': 6801, 'callin': 1962, 'chaos': 2210, 'digging': 3078, 'pond': 6323, 'bananza': 1182, 'sweaty': 7912, 'ay': 1088, 'pod': 6295, 'poker': 6311, 'parade': 6033, 'wks': 8784, 'angelistic': 605, 'pakistan': 6008, 'army': 854, 'chief': 2336, 'mai': 5244, 'cupboard': 2850, 'cdhinton': 2136, 'britt': 1761, 'srry': 7655, 'outta': 5955, 'batman': 1232, 'danced': 2899, 'figures': 3642, 'immediately': 4536, 'skill': 7396, 'chap': 2212, 'cherrybear': 2303, 'babblingbrookie': 1107, 'boyfriends': 1652, 'nail': 5612, 'biting': 1448, 'calebftsk': 1954, 'rains': 6602, 'weed': 8674, 'imagination': 4529, 'proof': 6492, 'hahha': 4151, 'akarra': 296, 'init': 4582, 'unfollowed': 8433, 'abuse': 59, 'digg': 3076, 'includes': 4556, 'rumours': 6981, 'evidence': 3462, 'panties': 6023, 'browse': 1803, 'brandystrippers': 1683, 'happier': 4186, 'teachers': 7998, 'alexisamore': 347, 'cathy': 2112, 'competition': 2602, 'ammadz': 500, 'relieved': 6744, 'wwdc': 8870, 'carpet': 2064, 'tonightt': 8196, 'funk': 3846, 'samples': 7031, 'sane': 7041, 'internets': 4624, 'pint': 6227, 'sidekick': 7335, 'drag': 3208, 'mashable': 5308, 'los': 5174, 'angeles': 600, 'brokeback': 1781, 'push': 6545, 'benjarelbo': 1353, 'config': 2631, 'stays': 7704, 'bubblegumxox': 1838, 'congratulate': 2639, 'packet': 5989, 'sunglasses': 7863, 'anikoheartsjon': 633, 'shared': 7234, 'shuld': 7324, 'blocking': 1506, 'bible': 1396, 'playoffs': 6271, 'lemon': 5034, 'nova': 5777, 'chrissinicole': 2394, 'imagined': 4531, 'based': 1215, 'suspended': 7900, 'rules': 6977, 'nahh': 5611, 'cathrynmarie': 2111, 'outa': 5943, 'africa': 216, 'keri': 4837, 'kanye': 4815, 'neyo': 5695, 'overcast': 5959, 'hump': 4457, 'robpattinson': 6901, 'thas': 8075, 'alexsheppard': 354, 'sentences': 7180, 'brendamantz': 1718, 'allysheehan': 422, 'combo': 2562, 'brento': 1722, 'hitting': 4335, 'greys': 4077, 'false': 3551, 'afreshmusic': 215, 'ribs': 6855, 'progress': 6477, 'include': 4554, 'wu': 8865, 'vegan': 8525, 'appstoremod': 788, 'century': 2163, 'recovery': 6698, 'bloggers': 1511, 'drunken': 3258, 'aroundharlem': 860, 'astridcallista': 953, 'speaks': 7577, 'artywah': 892, 'cruise': 2821, 'guest': 4110, 'houses': 4421, 'wkend': 8782, 'melody': 5374, 'cory': 2710, 'upcoming': 8462, 'bananasmel': 1181, 'xmas': 8879, 'flippin': 3708, 'dangerous': 2906, 'comparison': 2600, 'agentm': 229, 'birthdays': 1438, 'lap': 4954, 'oklahoma': 5859, 'pat': 6072, 'marketing': 5295, 'multitasking': 5586, 'grapes': 4048, 'yaya': 8910, 'yupp': 8983, 'eliminated': 3358, 'aptronym': 799, 'terms': 8043, 'teach': 7996, 'aprilfilms': 792, 'justice': 4808, 'hayley': 4228, 'absence': 50, 'explains': 3504, 'menu': 5390, 'celebrities': 2149, 'hihi': 4314, 'flag': 3691, 'harlem': 4198, 'planted': 6258, 'landed': 4949, 'amyxx': 531, 'pinch': 6221, 'familiar': 3554, 'password': 6067, 'caleb': 1953, 'diggin': 3077, 'amysfinerthings': 529, 'cmcadams': 2502, 'correctly': 2708, 'cacaubrazil': 1934, 'cassieventura': 2096, 'shocking': 7282, 'ammiisaurusrexx': 503, 'bean': 1266, 'amazin': 469, 'azeleen': 1099, 'favour': 3587, 'pam': 6014, 'spock': 7613, 'funeral': 3845, 'advertising': 196, 'ruined': 6974, 'sewing': 7209, 'crime': 2806, 'carried': 2069, 'cologne': 2550, 'benjaminellis': 1352, 'euro': 3444, 'ea': 3294, 'cessii': 2172, 'levels': 5051, 'fuzzy': 3854, 'paypal': 6092, 'carpool': 2065, 'casey': 2085, 'rebecca': 6666, 'pile': 6213, 'alexdscott': 344, 'poppy': 6337, 'collection': 2543, 'ringing': 6874, 'belllareow': 1340, 'brittdeezy': 1766, 'lighter': 5071, 'onwards': 5881, 'stinky': 7735, 'yeaaah': 8919, 'lied': 5062, 'breakdown': 1699, 'stadium': 7662, 'gladly': 3955, 'chefpatrick': 2284, 'regarding': 6715, 'requested': 6786, 'listed': 5106, 'batmannn': 1233, 'jess': 4738, 'buddalunch': 1846, 'jonathanrknight': 4773, 'nov': 5776, 'thesis': 8086, 'charlieskies': 2236, 'minds': 5448, 'yaaay': 8897, 'rugby': 6972, 'airplane': 280, 'breatheheavycom': 1708, 'crawling': 2779, 'covers': 2751, 'ofcourse': 5826, 'shhhh': 7259, 'hott': 4414, 'relaxing': 6737, 'aidadoll': 264, 'sweden': 7913, 'passport': 6066, 'las': 4962, 'addition': 143, 'drug': 3251, 'scottish': 7109, 'dash': 2919, 'heeeey': 4265, 'justin': 4809, 'chantellmarie': 2208, 'sleeps': 7423, 'unusual': 8460, 'families': 3555, 'rolled': 6922, 'swimming': 7926, 'unlimited': 8452, 'rang': 6617, 'bullet': 1869, 'itt': 4676, 'auditions': 1004, 'aight': 268, 'bros': 1795, 'baked': 1160, 'goods': 4003, 'registered': 6721, 'violin': 8558, 'chicogarcia': 2335, 'chico': 2334, 'cracks': 2761, 'sentence': 7179, 'ayende': 1090, 'belgium': 1330, 'dreadful': 3220, 'cage': 1941, 'swallow': 7904, 'liquid': 5102, 'penguins': 6118, 'iraq': 4651, 'basement': 1217, 'pause': 6087, 'anthonyraneri': 716, 'recorded': 6692, 'dodgy': 3158, 'clips': 2478, 'knoww': 4907, 'crackers': 2758, 'hunter': 4466, 'asherbook': 905, 'patient': 6077, 'damned': 2894, 'sooooon': 7527, 'camerontdf': 1980, 'printer': 6440, 'adrianhiggs': 174, 'bedtime': 1310, 'prepare': 6409, 'spying': 7644, 'mirror': 5460, 'panama': 6016, 'iam': 4486, 'affected': 204, 'alfinahawaii': 357, 'offense': 5829, 'relationships': 6732, 'complicated': 2610, 'shitting': 7274, 'hp': 4430, 'cultural': 2846, 'visa': 8565, 'cave': 2123, 'shortstack': 7296, 'russ': 6988, 'git': 3947, 'guard': 4102, 'overnight': 5962, 'knight': 4895, 'askcarrielee': 934, 'ashriot': 919, 'bertawooster': 1362, 'abbiefletcher': 19, 'mitchell': 5479, 'wouldve': 8844, 'spoken': 7620, 'sitter': 7385, 'tai': 7949, 'maggie': 5240, 'shake': 7222, 'badsuperhero': 1146, 'ocd': 5816, 'highschool': 4313, 'chapter': 2213, 'foward': 3778, 'awesomefrank': 1071, 'cus': 2864, 'empire': 3378, 'hulu': 4450, 'leaning': 5009, 'barbara': 1200, 'practically': 6388, 'dec': 2955, 'jonathan': 4772, 'pine': 6222, 'telstra': 8028, 'supporting': 7880, 'celeb': 2144, 'sean': 7129, 'zac': 8986, 'efron': 3344, 'calvin': 1969, 'olivia': 5868, 'messenger': 5398, 'reset': 6799, 'sunburned': 7859, 'dexter': 3053, 'barbarajwalters': 1201, 'rebuild': 6668, 'desktop': 3032, 'caved': 2124, 'camilleramos': 1983, 'annabellamalone': 657, 'sob': 7487, 'borders': 1616, 'deciding': 2961, 'spurs': 7642, 'bbl': 1247, 'addamh': 131, 'peru': 6151, 'overdue': 5961, 'restart': 6817, 'maryland': 5306, 'lad': 4935, 'asthma': 952, 'cities': 2433, 'cavorting': 2125, 'poet': 6299, 'codinghorror': 2526, 'domain': 3172, 'andrewaesthetic': 557, 'favor': 3584, 'gucci': 4103, 'andygriffwozere': 578, 'werent': 8694, 'molly': 5506, 'greedy': 4066, 'oi': 5850, 'andor': 550, 'deny': 3008, 'aliceinnyc': 362, 'portland': 6349, 'ilove': 4521, 'ihate': 4510, 'phrases': 6187, 'benny': 1355, 'smelling': 7448, 'ghetto': 3923, 'beth': 1372, 'juices': 4793, 'upstairs': 8476, 'partial': 6049, 'retail': 6825, 'closing': 2486, 'resolve': 6804, 'nursing': 5791, 'womp': 8796, 'dl': 3144, 'adventure': 191, 'falls': 3550, 'lolol': 5150, 'develop': 3045, 'discussion': 3115, 'coding': 2525, 'anambanana': 538, 'tuna': 8325, 'coast': 2512, 'sunscreen': 7867, 'package': 5987, 'pound': 6373, 'cecenewnew': 2140, 'ti': 8131, 'nh': 5698, 'ym': 8949, 'thts': 8122, 'hw': 4480, 'makin': 5258, 'sucking': 7832, 'tits': 8159, 'ashleybella': 913, 'adamsevani': 122, 'inspire': 4598, 'carlosteran': 2045, 'ada': 110, 'bbm': 1249, 'gained': 3866, 'border': 1615, 'janet': 4704, 'ray': 6638, 'djing': 3143, 'beaches': 1263, 'hint': 4325, 'abi': 30, 'malaysia': 5260, 'annettedubow': 672, 'redwings': 6704, 'dork': 3186, 'arghhh': 829, 'homemade': 4365, 'decides': 2960, 'appearance': 759, 'birth': 1436, 'sarcastic': 7050, 'mayb': 5331, 'smut': 7466, 'candykid': 2007, 'naww': 5640, 'adults': 187, 'tables': 7944, 'retreat': 6830, 'staring': 7680, 'kung': 4923, 'mitchelmusso': 5480, 'radioactivex': 6592, 'bars': 1211, 'camiknickers': 1981, 'sakin': 7015, 'biology': 1431, 'crazymoon': 2785, 'audition': 1002, 'dutch': 3280, 'doh': 3164, 'alltimelove': 409, 'gin': 3936, 'expectations': 3492, 'freaks': 3789, 'events': 3453, 'sizes': 7391, 'finland': 3670, 'roland': 6919, 'stoopid': 7746, 'oww': 5975, 'pattinson': 6084, 'ditched': 3135, 'weirdo': 8684, 'jupiter': 4805, 'rss': 6962, 'nut': 5792, 'askaaronlee': 932, 'youve': 8968, 'aniqax': 643, 'att': 977, 'jonasbrothers': 4769, 'bloodyironist': 1524, 'mon': 5513, 'cherylelapitan': 2309, 'collectivesoul': 2544, 'alyandaj': 447, 'mbp': 5334, 'idiots': 4502, 'hundreds': 4459, 'kindle': 4869, 'amiga': 496, 'sadd': 6998, 'interests': 4619, 'cud': 2841, 'deals': 2945, 'itches': 4671, 'babyrabies': 1120, 'bud': 1845, 'sway': 7907, 'ringtone': 6876, 'ani': 629, 'frustration': 3827, 'pcs': 6098, 'hoe': 4346, 'average': 1047, 'cinema': 2425, 'shannon': 7231, 'cadistra': 1936, 'greeting': 4072, 'leon': 5040, 'asimplegirl': 929, 'motto': 5552, 'hanson': 4180, 'addiction': 137, 'trippin': 8292, 'spaces': 7561, 'liesgirlstell': 5064, 'blond': 1517, 'kl': 4889, 'cons': 2648, 'producers': 6461, 'permission': 6140, 'horrid': 4403, 'deeply': 2969, 'chattyman': 2255, 'xdd': 8878, 'nadal': 5609, 'vision': 8567, 'netherlands': 5682, 'announced': 687, 'russell': 6989, 'byee': 1925, 'adityab': 157, 'tivo': 8160, 'preorder': 6406, 'feeds': 3609, 'covered': 2750, 'su': 7814, 'worn': 8831, 'anonymous': 699, 'barackobama': 1198, 'involve': 4640, 'arbonneteam': 810, 'randy': 6616, 'wolf': 8791, 'understood': 8426, 'scenequeen': 7088, 'noodle': 5744, 'flavour': 3698, 'entertained': 3404, 'bkbap': 1460, 'deaf': 2942, 'presenting': 6416, 'toes': 8175, 'confident': 2630, 'cafe': 1937, 'remembers': 6753, 'celebrated': 2146, 'veggies': 8530, 'benefits': 1350, 'booster': 1608, 'chefashbabe': 2283, 'breathing': 1709, 'homo': 4374, 'coool': 2693, 'und': 8417, 'penguin': 6117, 'dice': 3061, 'adrian': 173, 'laws': 4989, 'comcastbonnie': 2565, 'filing': 3646, 'optimism': 5911, 'bookwhore': 1600, 'brandon': 1678, 'hawt': 4224, 'brucehoult': 1808, 'brokensadly': 1783, 'francisco': 3783, 'cleveland': 2465, 'certificate': 2169, 'dar': 2911, 'cred': 2796, 'audience': 999, 'cimota': 2421, 'scooter': 7103, 'anyidiot': 736, 'liquor': 5103, 'easter': 3311, 'retarded': 6827, 'chess': 2312, 'arminvanbuuren': 852, 'ova': 5956, 'shipped': 7267, 'duties': 3281, 'mia': 5411, 'countdown': 2726, 'carrots': 2071, 'permit': 6141, 'procrastinating': 6458, 'adcharlie': 129, 'clairecordon': 2440, 'mas': 5307, 'cherrythegreat': 2306, 'eclipse': 3320, 'adorkablemellie': 170, 'circles': 2430, 'uve': 8507, 'adamjackson': 116, 'naps': 5623, 'sih': 7346, 'ga': 3858, 'alistair': 372, 'pens': 6121, 'calilewis': 1959, 'subscribe': 7821, 'groovy': 4085, 'columbus': 2557, 'mister': 5476, 'kidney': 4857, 'cast': 2097, 'transition': 8256, 'sp': 7558, 'uhhh': 8401, 'patron': 6082, 'tequila': 8040, 'carepathways': 2032, 'query': 6564, 'capes': 2013, 'faces': 3530, 'pole': 6314, 'alandistro': 314, 'oldest': 5863, 'rsvp': 6963, 'pg': 6162, 'production': 6464, 'appleinvestor': 766, 'rows': 6956, 'sorta': 7536, 'beatbutcha': 1276, 'twitterverse': 8373, 'column': 2558, 'thankss': 8072, 'anthonycallea': 714, 'directed': 3090, 'atexasattitude': 964, 'spirit': 7608, 'md': 5341, 'li': 5054, 'nat': 5628, 'salt': 7024, 'rerun': 6793, 'poured': 6376, 'purchased': 6538, 'atlantisjackson': 970, 'chops': 2372, 'dressing': 3228, 'pit': 6233, 'trey': 8280, 'powerful': 6382, 'lappy': 4955, 'roller': 6923, 'aussieatheart': 1020, 'crackin': 2759, 'poisoning': 6308, 'lool': 5165, 'moi': 5503, 'alohabruce': 431, 'gratitude': 4053, 'tm': 8164, 'beingnobody': 1327, 'humid': 4453, 'html': 4436, 'fox': 3779, 'pst': 6509, 'twitpics': 8360, 'chubbygayman': 2406, 'offline': 5839, 'pepper': 6124, 'gene': 3900, 'brendajos': 1717, 'hits': 4333, 'strings': 7786, 'towel': 8228, 'addoralive': 145, 'immense': 4537, 'knowi': 4902, 'arena': 823, 'dint': 3087, 'gm': 3969, 'ave': 1046, 'frequently': 3800, 'rated': 6631, 'grew': 4075, 'krispy': 4920, 'andydick': 576, 'sober': 7488, 'babyphat': 1119, 'alexachung': 334, 'tap': 7972, 'roommate': 6937, 'huhu': 4448, 'blwbyrd': 1545, 'vibes': 8541, 'barryzito': 1210, 'audreyo': 1008, 'owww': 5976, 'attend': 986, 'adelaide': 150, 'chrishiter': 2389, 'octopus': 5821, 'aidandisney': 266, 'directions': 3092, 'map': 5280, 'humour': 4456, 'recognize': 6682, 'ability': 36, 'brooke': 1786, 'sasha': 7051, 'entertaining': 3405, 'ayvii': 1095, 'worldwide': 8829, 'antipov': 721, 'government': 4024, 'hugh': 4445, 'ajmcleanteam': 291, 'oth': 5939, 'alittletrendy': 377, 'beckymccray': 1305, 'bball': 1243, 'grill': 4079, 'atmosphere': 973, 'acryfromthesoul': 93, 'circumstances': 2431, 'michelle': 5416, 'branch': 1674, 'cycling': 2878, 'yeaaaah': 8918, 'graffiti': 4038, 'understatement': 8425, 'regards': 6717, 'cidermaker': 2419, 'sally': 7020, 'bcuban': 1258, 'recognise': 6681, 'nikon': 5721, 'alisonhaislip': 370, 'spray': 7634, 'dryer': 3260, 'kathy': 4822, 'akelaa': 298, 'hassle': 4206, 'arriving': 867, 'surely': 7886, 'dizzy': 3141, 'exited': 3489, 'celinehlbk': 2153, 'remain': 6748, 'lovers': 5200, 'aching': 84, 'giggles': 3932, 'university': 8448, 'veggie': 8529, 'itouch': 4675, 'sexual': 7212, 'example': 3471, 'angryfeet': 624, 'occasional': 5813, 'stuffed': 7805, 'gim': 3935, 'bounce': 1636, 'jackson': 4690, 'impatient': 4540, 'saddened': 6999, 'spill': 7604, 'sorts': 7539, 'sans': 7044, 'cherrybumbum': 2304, 'donuts': 3179, 'alitherunner': 375, 'sayang': 7070, 'colinkelly': 2538, 'understanding': 8423, 'pirates': 6229, 'valuable': 8515, 'carocat': 2054, 'ap': 742, 'roy': 6958, 'guna': 4119, 'creating': 2791, 'passing': 6063, 'cmon': 2503, 'upsetting': 8474, 'unite': 8445, 'hippie': 4327, 'sem': 7167, 'hangs': 4178, 'emma': 3373, 'prison': 6444, 'alexrk': 352, 'mrscjbaran': 5567, 'oddly': 5824, 'bruce': 1807, 'printed': 6439, 'yg': 8945, 'nemo': 5669, 'yaar': 8898, 'jai': 4692, 'dates': 2924, 'hoot': 4390, 'shouted': 7306, 'ing': 4580, 'preferred': 6401, 'revising': 6846, 'vicariously': 8542, 'yayyy': 8912, 'reallly': 6659, 'processing': 6457, 'brenda': 1715, 'amongststars': 506, 'ant': 711, 'cache': 1935, 'aspaphoto': 941, 'rpattz': 6960, 'adrianpesebre': 178, 'sara': 7047, 'pakcricket': 6006, 'aulia': 1011, 'phenomenal': 6166, 'sealed': 7128, 'bigwormy': 1408, 'warming': 8627, 'wthe': 8864, 'master': 5313, 'breedimetria': 1713, 'bbrathwaite': 1251, 'arcticpenguin': 818, 'ropes': 6942, 'comfy': 2577, 'artistiquemeg': 882, 'rad': 6590, 'specially': 7582, 'oclock': 5818, 'carmen': 2050, 'quicker': 6570, 'btwi': 1833, 'stephhh': 7715, 'countingcrows': 2729, 'reread': 6792, 'knackered': 4891, 'trampoline': 8252, 'captainkazz': 2018, 'guilty': 4114, 'sweeet': 7915, 'diary': 3060, 'shucks': 7321, 'relevant': 6741, 'frogs': 3818, 'larger': 4960, 'headaches': 4236, 'cinnamon': 2427, 'syrup': 7938, 'tsk': 8314, 'balderkongen': 1166, 'yday': 8913, 'msgs': 5571, 'annie': 676, 'frosting': 3820, 'soggy': 7501, 'alexiskn': 348, 'types': 8384, 'tutorial': 8336, 'ankita': 647, 'sprinkles': 7640, 'developers': 3046, 'amyyvee': 533, 'goo': 3993, 'explaining': 3503, 'sb': 7074, 'smith': 7456, 'battleborne': 1237, 'anyamanda': 732, 'greater': 4061, 'benefit': 1349, 'bees': 1315, 'upto': 8477, 'alexajordan': 335, 'abbsound': 20, 'claudiajordan': 2452, 'abbyyyy': 24, 'cindicupcaking': 2423, 'aureliom': 1016, 'alltimecassie': 408, 'il': 4517, 'cheesy': 2281, 'biscuits': 1440, 'tc': 7991, 'comics': 2579, 'purdy': 6540, 'pigs': 6212, 'austria': 1032, 'portuguese': 6351, 'appstore': 787, 'marley': 5297, 'bambosh': 1177, 'annieqpr': 680, 'reports': 6782, 'biking': 1411, 'opportunity': 5907, 'bryceavary': 1822, 'shouldve': 7304, 'cameronolivier': 1978, 'wardrobe': 8624, 'willy': 8746, 'noah': 5732, 'march': 5283, 'recommending': 6688, 'rc': 6642, 'icons': 4496, 'allyeatscat': 416, 'settings': 7202, 'burning': 1892, 'register': 6720, 'desert': 3021, 'inch': 4552, 'fishing': 3679, 'pitched': 6236, 'underrated': 8421, 'spelled': 7592, 'ss': 7658, 'punch': 6530, 'arse': 869, 'illegal': 4519, 'construction': 2657, 'milwaukee': 5444, 'mentioned': 5388, 'dancer': 2900, 'bcoz': 1257, 'hunny': 4464, 'slightest': 7431, 'favourites': 3589, 'bngr': 1549, 'ram': 6610, 'ken': 4835, 'extreme': 3518, 'spa': 7559, 'blasting': 1479, 'hyper': 4483, 'tongue': 8194, 'everyones': 3459, 'ego': 3347, 'rapper': 6625, 'timing': 8148, 'setup': 7206, 'sunrise': 7865, 'amykachurak': 520, 'wack': 8593, 'fitness': 3683, 'mixed': 5482, 'mile': 5431, 'chillybreck': 2348, 'daisies': 2886, 'flash': 3694, 'assistant': 948, 'celebrating': 2147, 'cgft': 2174, 'israel': 4665, 'clicked': 2468, 'stevie': 7720, 'rotten': 6948, 'happily': 4187, 'snl': 7478, 'biz': 1454, 'stronger': 7791, 'capacity': 2011, 'fr': 3780, 'azmomofmanyhats': 1101, 'beautifully': 1286, 'returned': 6832, 'spy': 7643, 'burden': 1887, 'bethmcgrath': 1376, 'alexanderrybak': 338, 'blowhornoz': 1530, 'studied': 7799, 'tia': 8132, 'scar': 7081, 'dig': 3075, 'papers': 6028, 'stops': 7750, 'chickens': 2330, 'tweetsg': 8351, 'camper': 1986, 'aislinntighee': 285, 'bald': 1164, 'physics': 6190, 'advantage': 190, 'ranch': 6613, 'cocoy': 2520, 'chrisbosh': 2378, 'spiderman': 7601, 'bluerose': 1540, 'babyjew': 1116, 'spongebob': 7621, 'showers': 7313, 'stupidly': 7811, 'tp': 8233, 'needing': 5659, 'pin': 6220, 'signs': 7345, 'wot': 8841, 'chibialfa': 2324, 'bev': 1383, 'ana': 534, 'viral': 8560, 'nana': 5618, 'filmed': 3650, 'doyourememberwhen': 3203, 'strikes': 7784, 'springs': 7639, 'margarita': 5287, 'magazines': 5239, 'riandawson': 6854, 'worlds': 8828, 'phillies': 6170, 'fallon': 3549, 'tent': 8039, 'jean': 4721, 'candicekei': 2000, 'shakes': 7224, 'walls': 8615, 'ceiling': 2143, 'discovered': 3112, 'shampoo': 7229, 'rocket': 6905, 'postcards': 6360, 'lotta': 5186, 'flik': 3706, 'spider': 7600, 'anzrocks': 741, 'cnt': 2507, 'saves': 7066, 'workshop': 8826, 'supported': 7879, 'memphis': 5383, 'muse': 5594, 'kelly': 4834, 'ubertwitter': 8390, 'iya': 4683, 'bleakey': 1482, 'leeds': 5023, 'pigeon': 6211, 'remembering': 6752, 'allyayr': 412, 'neighborhood': 5664, 'raincheck': 6599, 'chrisgorham': 2387, 'inner': 4586, 'systems': 7939, 'assume': 949, 'enuf': 3411, 'chazdrums': 2257, 'dishwasher': 3120, 'hats': 4215, 'chrissyisms': 2395, 'occasionally': 5814, 'delightful': 2990, 'chantellepaige': 2207, 'boagworld': 1552, 'sluggish': 7438, 'bonedwarf': 1582, 'champagne': 2190, 'chelseaparadiso': 2290, 'squid': 7653, 'kiddo': 4854, 'austin': 1025, 'monkeys': 5523, 'listenin': 5109, 'adriennevh': 181, 'frost': 3819, 'giggle': 3931, 'billie': 1416, 'forest': 3757, 'burst': 1896, 'danity': 2908, 'kane': 4813, 'pts': 6514, 'charlotte': 2237, 'arturclancy': 887, 'speeding': 7589, 'females': 3623, 'anoop': 700, 'itz': 4679, 'advanced': 189, 'foul': 3777, 'naturally': 5636, 'theatre': 8078, 'docs': 3151, 'translate': 8257, 'development': 3048, 'netball': 5680, 'adrenalynntoao': 171, 'holler': 4358, 'ccullenmd': 2134, 'installed': 4602, 'antiuse': 724, 'bpdinokc': 1657, 'responding': 6811, 'encourage': 3381, 'cuts': 2872, 'geeks': 3895, 'livin': 5119, 'suicide': 7845, 'wales': 8607, 'amilya': 498, 'brenden': 1719, 'horribly': 4402, 'amuse': 513, 'angle': 618, 'punishment': 6532, 'stavros': 7699, 'attractive': 989, 'logged': 5140, 'postman': 6365, 'allowing': 405, 'mexican': 5408, 'lions': 5099, 'bulls': 1870, 'skiing': 7395, 'tesco': 8050, 'correction': 2707, 'adrianna': 176, 'umbrella': 8409, 'dam': 2889, 'underneath': 8420, 'wayne': 8652, 'bleed': 1483, 'beatles': 1280, 'natal': 5629, 'tower': 8229, 'greer': 4070, 'fruits': 3824, 'bra': 1659, 'salon': 7022, 'convinced': 2677, 'stocks': 7739, 'collecting': 2542, 'dp': 3205, 'stood': 7745, 'treats': 8271, 'dull': 3271, 'screams': 7116, 'drum': 3253, 'johnny': 4757, 'brunty': 1812, 'africanabc': 218, 'poppin': 6335, 'adellecharles': 152, 'medium': 5354, 'greens': 4069, 'woken': 8790, 'moneys': 5517, 'ahisme': 254, 'chile': 2340, 'addresses': 147, 'askseesmic': 937, 'bluefinch': 1537, 'genuinely': 3909, 'grateful': 4052, 'florence': 3713, 'db': 2936, 'chats': 2252, 'hr': 4432, 'display': 3125, 'ophelia': 5903, 'mums': 5589, 'straightening': 7763, 'comcast': 2564, 'conspiracy': 2654, 'daniel': 2907, 'label': 4931, 'bombed': 1577, 'pokemon': 6310, 'repost': 6783, 'sanity': 7043, 'uses': 8498, 'petition': 6158, 'whatchu': 8700, 'clarasdiary': 2444, 'dx': 3289, 'pshh': 6506, 'wakes': 8604, 'claudiamcfly': 2453, 'mb': 5333, 'fob': 3726, 'infected': 4573, 'worm': 8830, 'betcha': 1371, 'throats': 8116, 'runaway': 6983, 'des': 3019, 'sources': 7550, 'hosted': 4409, 'tennis': 8038, 'offend': 5827, 'balloon': 1169, 'reviewed': 6842, 'balcony': 1163, 'soundtrack': 7546, 'tuesdays': 8322, 'allycupcake': 415, 'rode': 6914, 'cheek': 2269, 'baneen': 1186, 'admance': 160, 'trained': 8248, 'aku': 304, 'marks': 5296, 'owners': 5973, 'programs': 6476, 'boomdelirium': 1602, 'aloha': 429, 'glory': 3966, 'ashfoo': 909, 'minor': 5452, 'imho': 4533, 'bagels': 1149, 'reduced': 6703, 'ari': 833, 'whn': 8716, 'heyyyy': 4298, 'kingdom': 4874, 'bubzbeauty': 1840, 'oatmeal': 5804, 'raped': 6624, 'cooked': 2680, 'anberlin': 544, 'motorbike': 5550, 'beckyhope': 1303, 'hooo': 4388, 'brendadada': 1716, 'lining': 5093, 'political': 6318, 'searching': 7132, 'nao': 5621, 'cucumber': 2840, 'anyhoo': 735, 'secrets': 7144, 'mariah': 5290, 'flame': 3693, 'furniture': 3852, 'caliszfinest': 1960, 'chrisandcal': 2376, 'alexroots': 353, 'enigma': 3395, 'henry': 4288, 'aniko': 632, 'recover': 6695, 'juan': 4788, 'brightside': 1742, 'aloe': 427, 'treatment': 8270, 'causes': 2120, 'capitaln': 2015, 'arancinibaby': 808, 'stirling': 7736, 'blackoutsbox': 1465, 'andybloch': 574, 'aidaa': 263, 'cassiduncan': 2093, 'leaked': 5007, 'tasted': 7978, 'hoodie': 4385, 'barbie': 1202, 'bourach': 1639, 'adlyman': 159, 'pineapple': 6223, 'shoe': 7283, 'nic': 5701, 'approve': 784, 'noted': 5766, 'anybody': 734, 'backing': 1127, 'alethe': 331, 'homepartyger': 4367, 'grind': 4082, 'william': 8743, 'fi': 3631, 'global': 3961, 'alanajoy': 310, 'users': 8497, 'bea': 1261, 'sparks': 7572, 'disappointment': 3105, 'glue': 3968, 'yw': 8985, 'photography': 6181, 'donate': 3173, 'factory': 3534, 'ro': 6888, 'grandmother': 4043, 'cabbage': 1931, 'patch': 6073, 'concentrate': 2616, 'motivation': 5549, 'stalk': 7667, 'carmr': 2051, 'cougar': 2719, 'anikainlondon': 631, 'variety': 8524, 'phils': 6173, 'presents': 6417, 'crazeegeekchick': 2780, 'mc': 5335, 'azaxacavabanama': 1098, 'aeoth': 199, 'cassie': 2094, 'paige': 5996, 'chrissie': 2393, 'paparazzi': 6026, 'bmthofficial': 1547, 'adopted': 167, 'seein': 7149, 'brats': 1688, 'disc': 3107, 'fantasy': 3563, 'drivers': 3239, 'leading': 5002, 'oxford': 5978, 'iced': 4490, 'soy': 7556, 'eps': 3420, 'kudos': 4922, 'brittanybosco': 1764, 'brodyjenner': 1779, 'drugs': 3252, 'retired': 6829, 'votediversity': 8585, 'bbum': 1253, 'pattern': 6083, 'involves': 4642, 'bound': 1638, 'deadline': 2941, 'motion': 5547, 'blcsfo': 1481, 'tomm': 8182, 'burgers': 1889, 'sides': 7337, 'stitches': 7737, 'ih': 4509, 'atheist': 965, 'carousella': 2061, 'cartoon': 2078, 'clicking': 2469, 'serial': 7187, 'andybeard': 573, 'bobbibillard': 1558, 'velvet': 8531, 'bunnybridget': 1884, 'bridget': 1736, 'provider': 6503, 'creation': 2792, 'adopt': 166, 'require': 6788, 'boiled': 1570, 'imax': 4532, 'abbey': 18, 'begins': 1321, 'neighbour': 5666, 'camden': 1973, 'alicia': 363, 'mid': 5420, 'raising': 6606, 'mami': 5265, 'millions': 5441, 'cabbiepat': 1932, 'croissant': 2812, 'snakes': 7469, 'charice': 2226, 'aneezd': 589, 'curve': 2863, 'moral': 5537, 'campus': 1988, 'slides': 7429, 'brighten': 1739, 'naked': 5614, 'patiently': 6078, 'rotate': 6947, 'gut': 4124, 'assholes': 945, 'aloemilk': 428, 'choices': 2367, 'americans': 490, 'ian': 4487, 'lashes': 4964, 'chic': 2325, 'denied': 3004, 'mojo': 5505, 'friggin': 3814, 'confidence': 2629, 'atheistium': 966, 'meetup': 5362, 'froze': 3821, 'shadow': 7219, 'bicycle': 1397, 'chi': 2322, 'manhattan': 5274, 'antonycotton': 726, 'youll': 8956, 'smokes': 7459, 'andywatt': 585, 'pouring': 6377, 'accents': 63, 'aishstar': 284, 'succeed': 7826, 'woulda': 8842, 'peoples': 6123, 'ruby': 6970, 'annejulieart': 669, 'melissa': 5372, 'flirting': 3709, 'commentary': 2583, 'vinyl': 8556, 'operation': 5902, 'spoons': 7625, 'region': 6719, 'separate': 7182, 'valid': 8513, 'linda': 5089, 'typed': 8383, 'originally': 5932, 'nvr': 5796, 'warmer': 8626, 'ar': 803, 'allisonnazarian': 399, 'slipping': 7434, 'fedex': 3604, 'root': 6939, 'bethanymcflyx': 1373, 'specifically': 7584, 'chk': 2357, 'buttons': 1917, 'billharper': 1415, 'aquaruby': 801, 'kevinjonas': 4839, 'modern': 5501, 'webcast': 8665, 'records': 6694, 'generation': 3903, 'blender': 1486, 'surprising': 7892, 'derek': 3018, 'plaza': 6273, 'animation': 639, 'mei': 5367, 'nathy': 5631, 'peach': 6104, 'pussy': 6548, 'urge': 8481, 'iconfess': 4495, 'sight': 7340, 'county': 2733, 'holes': 4353, 'pow': 6380, 'majority': 5253, 'ignorant': 4505, 'dun': 3276, 'morgan': 5538, 'brandiheyy': 1677, 'chelseashake': 2292, 'chadfu': 2181, 'coupon': 2736, 'jamie': 4701, 'ahhhhhh': 253, 'labor': 4932, 'sly': 7440, 'lists': 5111, 'andrea': 552, 'wbu': 8656, 'fifth': 3636, 'cba': 2129, 'offering': 5832, 'amyalltimelow': 517, 'hopeless': 4396, 'thoroughly': 8105, 'allyheman': 419, 'anxiety': 729, 'chesterpdexter': 2317, 'nin': 5723, 'dining': 3085, 'hurricane': 4470, 'cape': 2012, 'whitney': 8715, 'nonetheless': 5740, 'ted': 8012, 'defense': 2973, 'outlook': 5950, 'eek': 3334, 'annjj': 683, 'hve': 4479, 'gummy': 4117, 'feat': 3597, 'brotha': 1796, 'shane': 7230, 'rl': 6884, 'bblane': 1248, 'orig': 5930, 'elementary': 3354, 'tomo': 8186, 'ashleegaston': 911, 'rely': 6747, 'dt': 3262, 'aaahh': 3, 'haters': 4211, 'ammaryasir': 502, 'pains': 6000, 'route': 6951, 'resemble': 6797, 'chasepino': 2249, 'flavor': 3697, 'andylamb': 580, 'yaaaay': 8896, 'nest': 5678, 'alpacafarmgirl': 435, 'angiecas': 612, 'omaha': 5870, 'cherylharrison': 2310, 'shallow': 7227, 'ooooo': 5891, 'rio': 6877, 'prog': 6472, 'driveway': 3241, 'annkur': 684, 'korea': 4915, 'jackie': 4689, 'alliecobra': 393, 'harsh': 4204, 'denial': 3003, 'stayin': 7702, 'dragging': 3209, 'stewart': 7721, 'wknd': 8783, 'niley': 5722, 'noundiessunday': 5775, 'badger': 1142, 'johns': 4758, 'boost': 1607, 'dental': 3005, 'payment': 6091, 'seal': 7127, 'nih': 5718, 'throws': 8120, 'robotpickuplines': 6899, 'aawww': 14, 'akomuzikera': 303, 'granted': 4047, 'crissangel': 2809, 'aidan': 265, 'gadget': 3859, 'drumming': 3255, 'begging': 1318, 'cah': 1942, 'albeitludicrous': 321, 'piercing': 6209, 'tasks': 7976, 'overrated': 5963, 'algebraoverdose': 358, 'candles': 2004, 'caffeinebomb': 1939, 'arsenalsarah': 871, 'privacy': 6445, 'treasure': 8266, 'aftashok': 221, 'giveaways': 3949, 'dirt': 3095, 'misha': 5464, 'op': 5895, 'confusion': 2637, 'crochetgal': 2811, 'snack': 7467, 'ike': 4514, 'amineb': 499, 'allie': 390, 'allybitches': 414, 'cloverdash': 2494, 'likewise': 5079, 'anointedpromise': 697, 'practical': 6387, 'external': 3515, 'absturbation': 56, 'bonus': 1590, 'awesomely': 1072, 'distraction': 3131, 'ruins': 6975, 'diaper': 3059, 'settling': 7205, 'chrisblake': 2377, 'beardoctor': 1271, 'breeze': 1714, 'allybingham': 413, 'flies': 3703, 'rights': 6871, 'loner': 5156, 'bulk': 1867, 'operating': 5901, 'babymakinmachin': 1117, 'sorrry': 7533, 'paradise': 6034, 'logging': 5141, 'flooded': 3711, 'amylaree': 523, 'portal': 6346, 'tomorrows': 8189, 'trainer': 8249, 'jennifer': 4730, 'babybebe': 1113, 'cinnamoncloud': 2428, 'witness': 8777, 'naptime': 5624, 'patio': 6079, 'tank': 7969, 'stiff': 7730, 'organization': 5927, 'responsibility': 6814, 'yayy': 8911, 'settled': 7204, 'needle': 5660, 'recharge': 6676, 'profiles': 6471, 'austinbutler': 1026, 'daw': 2932, 'jaime': 4695, 'device': 3049, 'cara': 2021, 'lovato': 5192, 'adamd': 113, 'resort': 6806, 'strip': 7787, 'darlin': 2915, 'instantly': 4605, 'amused': 514, 'climate': 2473, 'aussieali': 1019, 'skirt': 7405, 'sass': 7052, 'suitable': 7847, 'har': 4190, 'chesterbe': 2315, 'canageek': 1992, 'relationship': 6731, 'breeawnuhh': 1711, 'javaone': 4712, 'osx': 5936, 'bethenny': 1375, 'bryony': 1824, 'ironic': 4657, 'unlucky': 8454, 'britains': 1754, 'gray': 4058, 'mighty': 5424, 'brody': 1777, 'rocky': 6911, 'mellow': 5373, 'socal': 7490, 'refused': 6713, 'avid': 1049, 'asherroth': 906, 'sup': 7870, 'sonic': 7518, 'cab': 1930, 'chloevictoriaxo': 2359, 'joseph': 4777, 'shakehands': 7223, 'pfft': 6161, 'arosefull': 859, 'addicting': 136, 'legendary': 5029, 'claims': 2437, 'finds': 3661, 'dodging': 3157, 'advertise': 195, 'peaches': 6105, 'astheniarocks': 951, 'aussies': 1024, 'firmware': 3676, 'ashatl': 902, 'sega': 7154, 'altepper': 443, 'keepin': 4831, 'boomstone': 1603, 'errands': 3432, 'andyhurleyday': 579, 'precisely': 6398, 'forms': 3768, 'summers': 7853, 'cavallicali': 2122, 'amandadiva': 460, 'fringe': 3815, 'hike': 4318, 'med': 5351, 'eeee': 3333, 'brutal': 1814, 'ratio': 6634, 'persons': 6148, 'attempts': 985, 'meaningful': 5346, 'bleeding': 1484, 'yt': 8971, 'begun': 1322, 'matches': 5318, 'andrewbravener': 559, 'shady': 7220, 'sessions': 7198, 'lols': 5152, 'brookefraser': 1789, 'interact': 4616, 'blockbuster': 1503, 'subs': 7820, 'rox': 6957, 'peas': 6109, 'colbsi': 2533, 'gues': 4106, 'dish': 3118, 'jailbreak': 4694, 'billt': 1420, 'meantime': 5349, 'donut': 3178, 'partake': 6047, 'ought': 5942, 'fierce': 3635, 'shrimp': 7318, 'hawaiian': 4223, 'creattica': 2794, 'repeating': 6771, 'sample': 7030, 'dip': 3088, 'aaronob': 10, 'expired': 3501, 'popcorn': 6333, 'indoor': 4568, 'yumm': 8977, 'irony': 4659, 'chadlad': 2182, 'bullshit': 1871, 'batch': 1229, 'skull': 7408, 'atomicpoet': 974, 'deliver': 2992, 'statements': 7693, 'pff': 6160, 'loveyou': 5202, 'debbie': 2954, 'wuv': 8868, 'premier': 6403, 'lex': 5052, 'avoiding': 1053, 'nods': 5733, 'reals': 6661, 'arikhanson': 843, 'tmw': 8168, 'counts': 2732, 'catatoniccat': 2101, 'transport': 8259, 'ccstarr': 2133, 'ratings': 6633, 'lacking': 4934, 'angelashushan': 596, 'lg': 5053, 'fabric': 3526, 'adapaavi': 126, 'freya': 3802, 'whoops': 8721, 'auchentrae': 995, 'platform': 6263, 'education': 3330, 'council': 2724, 'ralph': 6609, 'peaceful': 6103, 'interrupted': 4625, 'alroker': 441, 'champions': 2192, 'bengeeb': 1351, 'gracias': 4030, 'ohyeswedid': 5849, 'gota': 4019, 'psst': 6508, 'charlestrippy': 2233, 'dissapointed': 3126, 'method': 5406, 'whatevs': 8701, 'shortened': 7292, 'aliciawag': 364, 'bachelorette': 1124, 'geography': 3911, 'whatsmysection': 8703, 'colleenlindsay': 2546, 'sausage': 7061, 'rangers': 6619, 'facing': 3531, 'elphaba': 3362, 'gaming': 3874, 'bbgeekchic': 1246, 'jg': 4744, 'adamcurry': 112, 'benjibrum': 1354, 'urban': 8479, 'snuggles': 7484, 'bouncy': 1637, 'flick': 3701, 'intention': 4615, 'checkers': 2265, 'beateveronica': 1278, 'vaca': 8509, 'douche': 3192, 'pooh': 6327, 'underground': 8419, 'neighbours': 5667, 'rihanna': 6872, 'convert': 2675, 'dried': 3230, 'sexiest': 7211, 'supplies': 7877, 'hobby': 4344, 'nerve': 5674, 'buds': 1851, 'amileegrant': 497, 'qo': 6554, 'prep': 6408, 'vanilla': 8522, 'union': 8442, 'wld': 8785, 'rewrite': 6850, 'screens': 7118, 'requires': 6791, 'pacific': 5985, 'anti': 718, 'injury': 4584, 'charlotteis': 2238, 'mein': 5368, 'okie': 5857, 'dokie': 3166, 'couples': 2735, 'tu': 8317, 'girlfriends': 3941, 'cases': 2084, 'barakatday': 1199, 'archangelmaggie': 812, 'owen': 5969, 'struggling': 7794, 'billythekid': 1425, 'lb': 4995, 'sequence': 7186, 'spike': 7603, 'bodylikemind': 1567, 'bond': 1580, 'introduce': 4630, 'pac': 5984, 'copyright': 2699, 'manual': 5279, 'hotness': 4413, 'homies': 4373, 'santa': 7045, 'cheated': 2261, 'carly': 2047, 'whiskey': 8712, 'colder': 2535, 'ashesborn': 908, 'installing': 4603, 'richmond': 6859, 'nudge': 5786, 'korn': 4917, 'severe': 7208, 'jealousy': 4720, 'pack': 5986, 'tomato': 8181, 'carson': 2075, 'chrisilluminati': 2390, 'restore': 6821, 'giggling': 3933, 'tab': 7942, 'craigeryowens': 2765, 'clairehearty': 2441, 'chain': 2185, 'christophermoy': 2403, 'jj': 4748, 'andersoncooper': 548, 'curly': 2858, 'dere': 3017, 'bryantma': 1821, 'bradhfh': 1663, 'rolling': 6925, 'catherineld': 2109, 'driven': 3237, 'reunited': 6839, 'andrewdisley': 561, 'nothingpersonal': 5769, 'appreciates': 778, 'realistic': 6654, 'aaah': 2, 'classical': 2449, 'cigarettes': 2420, 'asbforever': 895, 'probly': 6453, 'firm': 3675, 'bikes': 1410, 'courses': 2739, 'bellelulu': 1339, 'iplayer': 4646, 'worthy': 8840, 'environment': 3413, 'php': 6185, 'clothdiapers': 2488, 'polka': 6320, 'ontd': 5880, 'minimal': 5451, 'shuttle': 7327, 'cleaned': 2457, 'crave': 2776, 'rays': 6639, 'destiny': 3038, 'sets': 7200, 'necklace': 5654, 'mug': 5582, 'craft': 2762, 'ariixarii': 842, 'arnehulstein': 857, 'sticker': 7725, 'bom': 1574, 'chemicalzombie': 2296, 'ajaedandridge': 290, 'shaunjumpnow': 7245, 'andrewg': 562, 'ox': 5977, 'native': 5634, 'bebezed': 1292, 'stroke': 7788, 'awee': 1068, 'fk': 3689, 'xml': 8881, 'kindly': 4870, 'lectures': 5020, 'backstory': 1131, 'sammy': 7029, 'itchy': 4672, 'wilson': 8747, 'wrist': 8851, 'preferably': 6400, 'ohhhhh': 5844, 'entering': 3402, 'indoors': 4569, 'performer': 6134, 'slight': 7430, 'everton': 3456, 'juz': 4810, 'judgement': 4790, 'tire': 8152, 'policy': 6316, 'grandfather': 4041, 'badge': 1141, 'brittkay': 1768, 'singalong': 7363, 'bon': 1578, 'audnumber': 1005, 'ironing': 4658, 'fame': 3553, 'python': 6552, 'natearchibald': 5630, 'earrings': 3303, 'anhicaluvsjonas': 628, 'casiestewart': 2091, 'bugging': 1859, 'angelonfire': 607, 'feb': 3601, 'hu': 4438, 'connecting': 2644, 'anncurry': 664, 'tym': 8381, 'ist': 4668, 'injured': 4583, 'baaad': 1105, 'mam': 5263, 'palin': 6012, 'blueholly': 1538, 'portugal': 6350, 'ðµ': 8999, 'hoes': 4347, 'bts': 1831, 'haunted': 4216, 'garlic': 3881, 'adventuregirl': 192, 'iowa': 4643, 'spoil': 7614, 'pal': 6009, 'brontesaurus': 1785, 'possibility': 6356, 'aahhh': 6, 'waist': 8597, 'huhuhu': 4449, 'absolutspacegrl': 54, 'coachdeb': 2510, 'cheered': 2274, 'resolved': 6805, 'himym': 4323, 'catering': 2107, 'polo': 6322, 'anatomy': 543, 'chaoticbarb': 2211, 'glimpse': 3960, 'crisis': 2808, 'pimp': 6218, 'blipfm': 1498, 'amylong': 524, 'apricottea': 790, 'scrabble': 7110, 'bump': 1877, 'annadestefano': 658, 'perf': 6127, 'ashyjonas': 924, 'christine': 2400, 'yummm': 8978, 'abiban': 31, 'utah': 8504, 'slang': 7414, 'karen': 4817, 'knocked': 4899, 'motorcycle': 5551, 'spec': 7579, 'perez': 6126, 'fund': 3843, 'wth': 8863, 'jaja': 4696, 'grrrrr': 4097, 'emotional': 3376, 'bailed': 1155, 'amprgroup': 511, 'booty': 1612, 'freelance': 3794, 'miracle': 5458, 'vines': 8554, 'ohnotheydidnt': 5848, 'fuqtwitter': 3851, 'halo': 4164, 'login': 5142, 'concur': 2623, 'pill': 6214, 'stickers': 7726, 'pays': 6093, 'rep': 6768, 'journalism': 4780, 'cracked': 2757, 'twitts': 8375, 'misss': 5472, 'cgigandet': 2175, 'frog': 3817, 'procedure': 6455, 'effin': 3340, 'coworkers': 2753, 'carlottap': 2046, 'rick': 6860, 'kimmel': 4866, 'perm': 6138, 'carolinejjordan': 2058, 'whocangetit': 8718, 'ricky': 6861, 'frequent': 3799, 'invalid': 4633, 'darkness': 2914, 'cottage': 2717, 'headline': 4239, 'chells': 2286, 'arielemoonfire': 839, 'anger': 609, 'selection': 7158, 'resolution': 6803, 'bully': 1872, 'military': 5436, 'renting': 6767, 'trance': 8253, 'port': 6344, 'disabled': 3098, 'buses': 1898, 'lola': 5145, 'plurk': 6286, 'prescription': 6412, 'yee': 8927, 'guarantee': 4101, 'grant': 4046, 'blaming': 1474, 'rockstar': 6910, 'filter': 3653, 'chrispirillo': 2392, 'freaky': 3790, 'oprah': 5910, 'mn': 5493, 'pot': 6368, 'kissing': 4879, 'methinks': 5405, 'shops': 7290, 'summertime': 7854, 'bittenbefore': 1451, 'agreement': 238, 'plants': 6260, 'skate': 7392, 'hopeful': 4394, 'headlines': 4240, 'returning': 6833, 'newsletter': 5693, 'chuffed': 2411, 'busybeeblogger': 1906, 'chuckle': 2408, 'mani': 5275, 'rb': 6641, 'gh': 3922, 'allll': 402, 'needa': 5657, 'giants': 3927, 'centerpet': 2159, 'anticipating': 719, 'sip': 7373, 'charm': 2240, 'brianneudorff': 1731, 'jonasparanoid': 4771, 'comfortable': 2575, 'papi': 6030, 'blingylixious': 1494, 'moar': 5495, 'glasto': 3959, 'existence': 3487, 'anieszkaa': 630, 'gallery': 3869, 'calorie': 1967, 'footy': 3751, 'forehead': 3755, 'biffgriff': 1399, 'polar': 6313, 'newbie': 5689, 'brigittepicot': 1743, 'contemplating': 2662, 'dye': 3290, 'nicest': 5705, 'adamsconsulting': 121, 'borat': 1614, 'amiesc': 494, 'mature': 5327, 'freeze': 3795, 'arabsodmg': 806, 'bigwhite': 1407, 'overs': 5964, 'jet': 4742, 'atlantic': 969, 'shin': 7262, 'anywho': 740, 'gta': 4100, 'deb': 2951, 'lawn': 4988, 'bryangwin': 1818, 'yuk': 8975, 'boards': 1554, 'zune': 8998, 'fog': 3728, 'wells': 8689, 'pearl': 6108, 'carmel': 2049, 'baba': 1106, 'buhrayaaan': 1862, 'austincarlile': 1027, 'bitchnotaperson': 1445, 'bebo': 1294, 'buns': 1885, 'tres': 8279, 'browsers': 1805, 'jenna': 4729, 'pandas': 6019, 'bailing': 1157, 'skipped': 7403, 'paperwork': 6029, 'hyped': 4482, 'checks': 2268, 'monthly': 5528, 'charlenebx': 2230, 'communication': 2592, 'aubrey': 992, 'bryanricard': 1820, 'skipping': 7404, 'bel': 1328, 'beck': 1299, 'buffywoo': 1856, 'bj': 1457, 'wound': 8845, 'akiralove': 300, 'economics': 3321, 'commute': 2594, 'leah': 5005, 'swamped': 7905, 'brasil': 1686, 'diamond': 3058, 'bbbaumgartner': 1244, 'ooohhh': 5888, 'aaronrgillespie': 11, 'pump': 6527, 'api': 748, 'abbaks': 17, 'alpha': 437, 'protective': 6497, 'cloud': 2491, 'couldve': 2723, 'fist': 3681, 'bron': 1784, 'adamtherealidol': 123, 'jeremy': 4733, 'satisfied': 7056, 'chesterday': 2316, 'ohhushfornewmoon': 5846, 'bookmarked': 1597, 'poorly': 6331, 'replay': 6776, 'rash': 6628, 'functional': 3842, 'cliffysmom': 2472, 'mow': 5563, 'carlysmum': 2048, 'usawantsmcfly': 8488, 'lottery': 5187, 'humidity': 4454, 'fellas': 3619, 'swearing': 7909, 'lollll': 5149, 'becuz': 1307, 'alixsays': 380, 'bun': 1880, 'sniffles': 7476, 'motivated': 5548, 'aaww': 13, 'outt': 5954, 'carlmayer': 2042, 'sharon': 7240, 'cashier': 2089, 'pdx': 6100, 'executive': 3482, 'charleypearson': 2234, 'rebel': 6667, 'bec': 1295, 'bueno': 1852, 'decode': 2965, 'protein': 6498, 'gel': 3898, 'duran': 3278, 'fond': 3740, 'rhythm': 6853, 'thumb': 8123, 'ceslsu': 2171, 'cullen': 2844, 'rum': 6978, 'postponed': 6366, 'sleepover': 7422, 'cameron': 1977, 'housewives': 4422, 'safety': 7009, 'grave': 4055, 'artyjill': 889, 'bone': 1581, 'roflmao': 6916, 'agh': 233, 'uniform': 8441, 'outlet': 5949, 'caramel': 2023, 'lautner': 4986, 'nintendo': 5726, 'panel': 6021, 'anniepooh': 679, 'spiritual': 7610, 'affordable': 210, 'penis': 6119, 'amyypee': 532, 'scifi': 7100, 'pittsburgh': 6237, 'hiatus': 4302, 'nerds': 5673, 'omgggg': 5874, 'kidnap': 4856, 'slurpee': 7439, 'partners': 6055, 'sod': 7496, 'andrevr': 555, 'breakingnews': 1703, 'biggc': 1404, 'mod': 5497, 'emergency': 3370, 'chatty': 2254, 'aliasgrace': 360, 'trophy': 8295, 'peer': 6114, 'twitt': 8362, 'maintain': 5250, 'aiiisoniraheta': 269, 'paycheck': 6089, 'bytera': 1927, 'bluetooth': 1542, 'buffy': 1855, 'qs': 6555, 'invented': 4634, 'promoting': 6488, 'celsbels': 2156, 'aeriagames': 200, 'aiden': 267, 'plot': 6280, 'spammed': 7565, 'ashbenzo': 903, 'raid': 6594, 'reaction': 6645, 'llama': 5123, 'brewing': 1726, 'goodnite': 4002, 'breast': 1705, 'calbo': 1951, 'tide': 8135, 'entered': 3401, 'ron': 6932, 'western': 8696, 'mcrchat': 5340, 'itu': 4677, 'brandondaballa': 1679, 'sebday': 7138, 'repair': 6769, 'bebeld': 1291, 'ftl': 3831, 'cnn': 2506, 'cheeks': 2270, 'bryankdawson': 1819, 'britneezy': 1757, 'senses': 7176, 'boxtech': 1648, 'artnews': 885, 'tyvm': 8388, 'quest': 6565, 'parker': 6045, 'craziixlovee': 2782, 'traded': 8240, 'finishes': 3668, 'brygidapoland': 1823, 'yepp': 8935, 'para': 6032, 'soaked': 7485, 'aquietmadness': 802, 'blogged': 1509, 'cheeptweeter': 2272, 'parasite': 6039, 'pimpin': 6219, 'quietly': 6573, 'abbyharenberg': 23, 'abtony': 58, 'animadi': 635, 'consumed': 2658, 'haze': 4230, 'strangers': 7767, 'boxing': 1647, 'scoop': 7102, 'submit': 7818, 'lucas': 5210, 'brawngpfanblog': 1691, 'clay': 2454, 'mrtweet': 5568, 'beatwittyparty': 1282, 'chellybelle': 2287, 'coachcharrise': 2509, 'carpathiab': 2062, 'evans': 3449, 'aaa': 1, 'downloads': 3198, 'sting': 7732, 'binnyva': 1429, 'lambert': 4946, 'guessed': 4108, 'bunnies': 1882, 'bradhart': 1662, 'applexlove': 769, 'painted': 6002, 'returns': 6834, 'hip': 4326, 'rider': 6865, 'arabic': 804, 'butchtastickyle': 1908, 'officer': 5835, 'dodgers': 3156, 'jonaskevin': 4770, 'pencil': 6116, 'lean': 5008, 'actionchick': 97, 'arrange': 861, 'charavel': 2218, 'distracting': 3130, 'lr': 5208, 'canadasmichelle': 1990, 'hahahaa': 4144, 'organic': 5926, 'reinstall': 6726, 'loyal': 5207, 'anitasetio': 645, 'singles': 7369, 'ameeface': 486, 'retard': 6826, 'ncis': 5644, 'thingsmummysaid': 8091, 'alltimelow': 410, 'blockheads': 1505, 'spins': 7607, 'muffins': 5581, 'basis': 1222, 'smoked': 7458, 'antique': 722, 'shorty': 7297, 'ach': 79, 'olive': 5866, 'nhl': 5699, 'shiz': 7277, 'multi': 5583, 'bravo': 1690, 'blowdart': 1529, 'annoys': 692, 'choke': 2368, 'dashboard': 2920, 'sadie': 7003, 'gap': 3876, 'angelawebber': 597, 'dakota': 2887, 'callmecourt': 1964, 'invisible': 4635, 'engaged': 3390, 'peta': 6154, 'arnteriksen': 858, 'rail': 6595, 'williams': 8744, 'arjunghosh': 848, 'angelicvampira': 602, 'cher': 2299, 'adamrphoto': 119, 'baddestnla': 1140, 'ud': 8392, 'electronic': 3353, 'jaw': 4713, 'ankles': 650, 'russia': 6990, 'cheryltheartist': 2311, 'wonderfully': 8800, 'requirements': 6790, 'adzada': 198, 'rs': 6961, 'bumper': 1878, 'trucks': 8301, 'grease': 4059, 'bannedagain': 1195, 'cube': 2838, 'bentriderro': 1357, 'relay': 6738, 'cherish': 2300, 'ciararenee': 2415, 'akgovsarahpalin': 299, 'voicemail': 8578, 'burrito': 1895, 'stain': 7665, 'heavenly': 4260, 'appleey': 765, 'adriolivera': 182, 'roasted': 6893, 'angus': 627, 'chan': 2194, 'troubles': 8298, 'shave': 7246, 'indeedy': 4561, 'snoring': 7479, 'popup': 6341, 'bosintobin': 1624, 'hhaha': 4300, 'cod': 2521, 'pms': 6290, 'barkerg': 1208, 'centre': 2161, 'bryangreenberg': 1817, 'apparent': 755, 'extraordinary': 3517, 'marina': 5291, 'core': 2700, 'movement': 5558, 'animealmanac': 641, 'toothache': 8208, 'fatdad': 3576, 'billingtonart': 1417, 'anamolly': 539, 'satellite': 7055, 'cheeky': 2271, 'pacman': 5991, 'charming': 2242, 'snapped': 7471, 'sci': 7098, 'chaz': 2256, 'vi': 8539, 'catholic': 2110, 'samee': 7028, 'rod': 6912, 'bonkers': 1587, 'oak': 5803, 'jbyoutubesuspended': 4717, 'depression': 3014, 'bawldguy': 1239, 'stalkers': 7669, 'comet': 2573, 'nikki': 5720, 'rested': 6819, 'fools': 3747, 'applying': 774, 'dylan': 3292, 'bendyystrawz': 1348, 'angelina': 603, 'observation': 5806, 'pronounce': 6490, 'opps': 5909, 'climbing': 2475, 'spree': 7637, 'sells': 7166, 'bub': 1835, 'endless': 3386, 'elmo': 3361, 'tot': 8218, 'projectnahal': 6479, 'afsoon': 220, 'mileymonday': 5435, 'seller': 7164, 'cult': 2845, 'scones': 7101, 'karaoke': 4816, 'stare': 7679, 'fatal': 3575, 'mild': 5430, 'subscribed': 7822, 'imisscath': 4534, 'frenchiebday': 3798, 'brazilwillmissmcfly': 1694, 'betas': 1370}\n"
     ]
    }
   ],
   "source": [
    "from sklearn.feature_extraction.text import CountVectorizer\n",
    "\n",
    "vectorizer = CountVectorizer(max_features=9000, ngram_range=(1,1), stop_words='english')\n",
    "\n",
    "vectorizer.fit(X_train)\n",
    "\n",
    "print(vectorizer.vocabulary_)"
   ]
  },
  {
   "cell_type": "code",
   "execution_count": 24,
   "metadata": {},
   "outputs": [
    {
     "name": "stdout",
     "output_type": "stream",
     "text": [
      "(79991, 9000)\n"
     ]
    },
    {
     "data": {
      "text/html": [
       "<div>\n",
       "<style scoped>\n",
       "    .dataframe tbody tr th:only-of-type {\n",
       "        vertical-align: middle;\n",
       "    }\n",
       "\n",
       "    .dataframe tbody tr th {\n",
       "        vertical-align: top;\n",
       "    }\n",
       "\n",
       "    .dataframe thead th {\n",
       "        text-align: right;\n",
       "    }\n",
       "</style>\n",
       "<table border=\"1\" class=\"dataframe\">\n",
       "  <thead>\n",
       "    <tr style=\"text-align: right;\">\n",
       "      <th></th>\n",
       "      <th>aa</th>\n",
       "      <th>aaa</th>\n",
       "      <th>aaah</th>\n",
       "      <th>aaahh</th>\n",
       "      <th>aafreen</th>\n",
       "      <th>aah</th>\n",
       "      <th>aahhh</th>\n",
       "      <th>aalaap</th>\n",
       "      <th>aamyfish</th>\n",
       "      <th>aaron</th>\n",
       "      <th>...</th>\n",
       "      <th>zealand</th>\n",
       "      <th>zero</th>\n",
       "      <th>zip</th>\n",
       "      <th>zombie</th>\n",
       "      <th>zombies</th>\n",
       "      <th>zone</th>\n",
       "      <th>zoo</th>\n",
       "      <th>zoom</th>\n",
       "      <th>zune</th>\n",
       "      <th>ðµ</th>\n",
       "    </tr>\n",
       "  </thead>\n",
       "  <tbody>\n",
       "    <tr>\n",
       "      <th>0</th>\n",
       "      <td>0</td>\n",
       "      <td>0</td>\n",
       "      <td>0</td>\n",
       "      <td>0</td>\n",
       "      <td>0</td>\n",
       "      <td>0</td>\n",
       "      <td>0</td>\n",
       "      <td>0</td>\n",
       "      <td>0</td>\n",
       "      <td>0</td>\n",
       "      <td>...</td>\n",
       "      <td>0</td>\n",
       "      <td>0</td>\n",
       "      <td>0</td>\n",
       "      <td>0</td>\n",
       "      <td>0</td>\n",
       "      <td>0</td>\n",
       "      <td>0</td>\n",
       "      <td>0</td>\n",
       "      <td>0</td>\n",
       "      <td>0</td>\n",
       "    </tr>\n",
       "    <tr>\n",
       "      <th>1</th>\n",
       "      <td>0</td>\n",
       "      <td>0</td>\n",
       "      <td>0</td>\n",
       "      <td>0</td>\n",
       "      <td>0</td>\n",
       "      <td>0</td>\n",
       "      <td>0</td>\n",
       "      <td>0</td>\n",
       "      <td>0</td>\n",
       "      <td>0</td>\n",
       "      <td>...</td>\n",
       "      <td>0</td>\n",
       "      <td>0</td>\n",
       "      <td>0</td>\n",
       "      <td>0</td>\n",
       "      <td>0</td>\n",
       "      <td>0</td>\n",
       "      <td>0</td>\n",
       "      <td>0</td>\n",
       "      <td>0</td>\n",
       "      <td>0</td>\n",
       "    </tr>\n",
       "    <tr>\n",
       "      <th>2</th>\n",
       "      <td>0</td>\n",
       "      <td>0</td>\n",
       "      <td>0</td>\n",
       "      <td>0</td>\n",
       "      <td>0</td>\n",
       "      <td>0</td>\n",
       "      <td>0</td>\n",
       "      <td>0</td>\n",
       "      <td>0</td>\n",
       "      <td>0</td>\n",
       "      <td>...</td>\n",
       "      <td>0</td>\n",
       "      <td>0</td>\n",
       "      <td>0</td>\n",
       "      <td>0</td>\n",
       "      <td>0</td>\n",
       "      <td>0</td>\n",
       "      <td>0</td>\n",
       "      <td>0</td>\n",
       "      <td>0</td>\n",
       "      <td>0</td>\n",
       "    </tr>\n",
       "    <tr>\n",
       "      <th>3</th>\n",
       "      <td>0</td>\n",
       "      <td>0</td>\n",
       "      <td>0</td>\n",
       "      <td>0</td>\n",
       "      <td>0</td>\n",
       "      <td>0</td>\n",
       "      <td>0</td>\n",
       "      <td>0</td>\n",
       "      <td>0</td>\n",
       "      <td>0</td>\n",
       "      <td>...</td>\n",
       "      <td>0</td>\n",
       "      <td>0</td>\n",
       "      <td>0</td>\n",
       "      <td>0</td>\n",
       "      <td>0</td>\n",
       "      <td>0</td>\n",
       "      <td>0</td>\n",
       "      <td>0</td>\n",
       "      <td>0</td>\n",
       "      <td>0</td>\n",
       "    </tr>\n",
       "    <tr>\n",
       "      <th>4</th>\n",
       "      <td>0</td>\n",
       "      <td>0</td>\n",
       "      <td>0</td>\n",
       "      <td>0</td>\n",
       "      <td>0</td>\n",
       "      <td>0</td>\n",
       "      <td>0</td>\n",
       "      <td>0</td>\n",
       "      <td>0</td>\n",
       "      <td>0</td>\n",
       "      <td>...</td>\n",
       "      <td>0</td>\n",
       "      <td>0</td>\n",
       "      <td>0</td>\n",
       "      <td>0</td>\n",
       "      <td>0</td>\n",
       "      <td>0</td>\n",
       "      <td>0</td>\n",
       "      <td>0</td>\n",
       "      <td>0</td>\n",
       "      <td>0</td>\n",
       "    </tr>\n",
       "  </tbody>\n",
       "</table>\n",
       "<p>5 rows × 9000 columns</p>\n",
       "</div>"
      ],
      "text/plain": [
       "   aa  aaa  aaah  aaahh  aafreen  aah  aahhh  aalaap  aamyfish  aaron  ...  \\\n",
       "0   0    0     0      0        0    0      0       0         0      0  ...   \n",
       "1   0    0     0      0        0    0      0       0         0      0  ...   \n",
       "2   0    0     0      0        0    0      0       0         0      0  ...   \n",
       "3   0    0     0      0        0    0      0       0         0      0  ...   \n",
       "4   0    0     0      0        0    0      0       0         0      0  ...   \n",
       "\n",
       "   zealand  zero  zip  zombie  zombies  zone  zoo  zoom  zune  ðµ  \n",
       "0        0     0    0       0        0     0    0     0     0   0  \n",
       "1        0     0    0       0        0     0    0     0     0   0  \n",
       "2        0     0    0       0        0     0    0     0     0   0  \n",
       "3        0     0    0       0        0     0    0     0     0   0  \n",
       "4        0     0    0       0        0     0    0     0     0   0  \n",
       "\n",
       "[5 rows x 9000 columns]"
      ]
     },
     "execution_count": 24,
     "metadata": {},
     "output_type": "execute_result"
    }
   ],
   "source": [
    "train_word_counts = vectorizer.transform(X_train)\n",
    "\n",
    "X_train_vectorized = pd.DataFrame(train_word_counts.toarray(), columns=vectorizer.get_feature_names())\n",
    "\n",
    "print(X_train_vectorized.shape)\n",
    "X_train_vectorized.head()"
   ]
  },
  {
   "cell_type": "code",
   "execution_count": 25,
   "metadata": {},
   "outputs": [
    {
     "name": "stdout",
     "output_type": "stream",
     "text": [
      "(19998, 9000)\n"
     ]
    },
    {
     "data": {
      "text/html": [
       "<div>\n",
       "<style scoped>\n",
       "    .dataframe tbody tr th:only-of-type {\n",
       "        vertical-align: middle;\n",
       "    }\n",
       "\n",
       "    .dataframe tbody tr th {\n",
       "        vertical-align: top;\n",
       "    }\n",
       "\n",
       "    .dataframe thead th {\n",
       "        text-align: right;\n",
       "    }\n",
       "</style>\n",
       "<table border=\"1\" class=\"dataframe\">\n",
       "  <thead>\n",
       "    <tr style=\"text-align: right;\">\n",
       "      <th></th>\n",
       "      <th>aa</th>\n",
       "      <th>aaa</th>\n",
       "      <th>aaah</th>\n",
       "      <th>aaahh</th>\n",
       "      <th>aafreen</th>\n",
       "      <th>aah</th>\n",
       "      <th>aahhh</th>\n",
       "      <th>aalaap</th>\n",
       "      <th>aamyfish</th>\n",
       "      <th>aaron</th>\n",
       "      <th>...</th>\n",
       "      <th>zealand</th>\n",
       "      <th>zero</th>\n",
       "      <th>zip</th>\n",
       "      <th>zombie</th>\n",
       "      <th>zombies</th>\n",
       "      <th>zone</th>\n",
       "      <th>zoo</th>\n",
       "      <th>zoom</th>\n",
       "      <th>zune</th>\n",
       "      <th>ðµ</th>\n",
       "    </tr>\n",
       "  </thead>\n",
       "  <tbody>\n",
       "    <tr>\n",
       "      <th>0</th>\n",
       "      <td>0</td>\n",
       "      <td>0</td>\n",
       "      <td>0</td>\n",
       "      <td>0</td>\n",
       "      <td>0</td>\n",
       "      <td>0</td>\n",
       "      <td>0</td>\n",
       "      <td>0</td>\n",
       "      <td>0</td>\n",
       "      <td>0</td>\n",
       "      <td>...</td>\n",
       "      <td>0</td>\n",
       "      <td>0</td>\n",
       "      <td>0</td>\n",
       "      <td>0</td>\n",
       "      <td>0</td>\n",
       "      <td>0</td>\n",
       "      <td>0</td>\n",
       "      <td>0</td>\n",
       "      <td>0</td>\n",
       "      <td>0</td>\n",
       "    </tr>\n",
       "    <tr>\n",
       "      <th>1</th>\n",
       "      <td>0</td>\n",
       "      <td>0</td>\n",
       "      <td>0</td>\n",
       "      <td>0</td>\n",
       "      <td>0</td>\n",
       "      <td>0</td>\n",
       "      <td>0</td>\n",
       "      <td>0</td>\n",
       "      <td>0</td>\n",
       "      <td>0</td>\n",
       "      <td>...</td>\n",
       "      <td>0</td>\n",
       "      <td>0</td>\n",
       "      <td>0</td>\n",
       "      <td>0</td>\n",
       "      <td>0</td>\n",
       "      <td>0</td>\n",
       "      <td>0</td>\n",
       "      <td>0</td>\n",
       "      <td>0</td>\n",
       "      <td>0</td>\n",
       "    </tr>\n",
       "    <tr>\n",
       "      <th>2</th>\n",
       "      <td>0</td>\n",
       "      <td>0</td>\n",
       "      <td>0</td>\n",
       "      <td>0</td>\n",
       "      <td>0</td>\n",
       "      <td>0</td>\n",
       "      <td>0</td>\n",
       "      <td>0</td>\n",
       "      <td>0</td>\n",
       "      <td>0</td>\n",
       "      <td>...</td>\n",
       "      <td>0</td>\n",
       "      <td>0</td>\n",
       "      <td>0</td>\n",
       "      <td>0</td>\n",
       "      <td>0</td>\n",
       "      <td>0</td>\n",
       "      <td>0</td>\n",
       "      <td>0</td>\n",
       "      <td>0</td>\n",
       "      <td>0</td>\n",
       "    </tr>\n",
       "    <tr>\n",
       "      <th>3</th>\n",
       "      <td>0</td>\n",
       "      <td>0</td>\n",
       "      <td>0</td>\n",
       "      <td>0</td>\n",
       "      <td>0</td>\n",
       "      <td>0</td>\n",
       "      <td>0</td>\n",
       "      <td>0</td>\n",
       "      <td>0</td>\n",
       "      <td>0</td>\n",
       "      <td>...</td>\n",
       "      <td>0</td>\n",
       "      <td>0</td>\n",
       "      <td>0</td>\n",
       "      <td>0</td>\n",
       "      <td>0</td>\n",
       "      <td>0</td>\n",
       "      <td>0</td>\n",
       "      <td>0</td>\n",
       "      <td>0</td>\n",
       "      <td>0</td>\n",
       "    </tr>\n",
       "    <tr>\n",
       "      <th>4</th>\n",
       "      <td>0</td>\n",
       "      <td>0</td>\n",
       "      <td>0</td>\n",
       "      <td>0</td>\n",
       "      <td>0</td>\n",
       "      <td>0</td>\n",
       "      <td>0</td>\n",
       "      <td>0</td>\n",
       "      <td>0</td>\n",
       "      <td>0</td>\n",
       "      <td>...</td>\n",
       "      <td>0</td>\n",
       "      <td>0</td>\n",
       "      <td>0</td>\n",
       "      <td>0</td>\n",
       "      <td>0</td>\n",
       "      <td>0</td>\n",
       "      <td>0</td>\n",
       "      <td>0</td>\n",
       "      <td>0</td>\n",
       "      <td>0</td>\n",
       "    </tr>\n",
       "  </tbody>\n",
       "</table>\n",
       "<p>5 rows × 9000 columns</p>\n",
       "</div>"
      ],
      "text/plain": [
       "   aa  aaa  aaah  aaahh  aafreen  aah  aahhh  aalaap  aamyfish  aaron  ...  \\\n",
       "0   0    0     0      0        0    0      0       0         0      0  ...   \n",
       "1   0    0     0      0        0    0      0       0         0      0  ...   \n",
       "2   0    0     0      0        0    0      0       0         0      0  ...   \n",
       "3   0    0     0      0        0    0      0       0         0      0  ...   \n",
       "4   0    0     0      0        0    0      0       0         0      0  ...   \n",
       "\n",
       "   zealand  zero  zip  zombie  zombies  zone  zoo  zoom  zune  ðµ  \n",
       "0        0     0    0       0        0     0    0     0     0   0  \n",
       "1        0     0    0       0        0     0    0     0     0   0  \n",
       "2        0     0    0       0        0     0    0     0     0   0  \n",
       "3        0     0    0       0        0     0    0     0     0   0  \n",
       "4        0     0    0       0        0     0    0     0     0   0  \n",
       "\n",
       "[5 rows x 9000 columns]"
      ]
     },
     "execution_count": 25,
     "metadata": {},
     "output_type": "execute_result"
    }
   ],
   "source": [
    " #vectorize  X_test, uses ame vocabulary as the training dataset so  just call .transform() on X_test\n",
    "test_word_counts = vectorizer.transform(X_test)\n",
    "\n",
    "X_test_vectorized = pd.DataFrame(test_word_counts.toarray(), columns=vectorizer.get_feature_names())\n",
    "\n",
    "print(X_test_vectorized.shape)\n",
    "X_test_vectorized.head()"
   ]
  },
  {
   "cell_type": "code",
   "execution_count": 26,
   "metadata": {},
   "outputs": [
    {
     "name": "stderr",
     "output_type": "stream",
     "text": [
      "C:\\Users\\EDC\\Anaconda3\\envs\\environ1\\lib\\site-packages\\sklearn\\ensemble\\forest.py:246: FutureWarning: The default value of n_estimators will change from 10 in version 0.20 to 100 in 0.22.\n",
      "  \"10 in version 0.20 to 100 in 0.22.\", FutureWarning)\n"
     ]
    },
    {
     "name": "stdout",
     "output_type": "stream",
     "text": [
      "Train Accuracy: 0.9659461689440062\n",
      "Test Accuracy: 0.711021102110211\n"
     ]
    }
   ],
   "source": [
    "from sklearn.ensemble import RandomForestClassifier\n",
    "from sklearn.metrics import accuracy_score\n",
    "\n",
    "RFC = RandomForestClassifier().fit(X_train_vectorized, y_train)\n",
    "\n",
    "train_predictions = RFC.predict(X_train_vectorized)\n",
    "test_predictions = RFC.predict(X_test_vectorized)\n",
    "\n",
    "print(f'Train Accuracy: {accuracy_score(y_train, train_predictions)}')\n",
    "print(f'Test Accuracy: {accuracy_score(y_test, test_predictions)}')"
   ]
  },
  {
   "cell_type": "markdown",
   "metadata": {
    "colab_type": "text",
    "id": "sorF95UO_uGx"
   },
   "source": [
    "# Part 4 -  Word2Vec\n",
    "\n",
    "1) Fit a Word2Vec model on your cleaned/tokenized twitter dataset. \n",
    "\n",
    "2) Display the 10 words that are most similar to the word \"twitter\""
   ]
  },
  {
   "cell_type": "code",
   "execution_count": 27,
   "metadata": {
    "colab": {},
    "colab_type": "code",
    "id": "DYno4d4N-LHR"
   },
   "outputs": [],
   "source": [
    "from gensim.models import Word2Vec\n",
    "w2v = Word2Vec(df2.SentimentText, min_count=20, window=3, size=300, negative=20)"
   ]
  },
  {
   "cell_type": "code",
   "execution_count": 31,
   "metadata": {},
   "outputs": [
    {
     "data": {
      "text/plain": [
       "[('message', 0.7595947980880737),\n",
       " ('included', 0.7340092658996582),\n",
       " ('reply', 0.7211431264877319),\n",
       " ('list', 0.7027485370635986),\n",
       " ('follow', 0.7008450031280518),\n",
       " ('longest', 0.6843441128730774),\n",
       " ('sent', 0.6731915473937988),\n",
       " ('tweets', 0.6729306578636169),\n",
       " ('direct', 0.6724131107330322),\n",
       " ('comment', 0.6710553765296936)]"
      ]
     },
     "execution_count": 31,
     "metadata": {},
     "output_type": "execute_result"
    }
   ],
   "source": [
    "w2v.wv.most_similar('tweet', topn=10)"
   ]
  },
  {
   "cell_type": "code",
   "execution_count": null,
   "metadata": {},
   "outputs": [],
   "source": []
  }
 ],
 "metadata": {
  "colab": {
   "collapsed_sections": [],
   "name": "DS42SC.ipynb",
   "provenance": [],
   "version": "0.3.2"
  },
  "kernelspec": {
   "display_name": "Python 3",
   "language": "python",
   "name": "python3"
  },
  "language_info": {
   "codemirror_mode": {
    "name": "ipython",
    "version": 3
   },
   "file_extension": ".py",
   "mimetype": "text/x-python",
   "name": "python",
   "nbconvert_exporter": "python",
   "pygments_lexer": "ipython3",
   "version": "3.7.2"
  }
 },
 "nbformat": 4,
 "nbformat_minor": 2
}
