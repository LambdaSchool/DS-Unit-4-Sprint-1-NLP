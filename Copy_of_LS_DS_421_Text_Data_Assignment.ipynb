{
  "nbformat": 4,
  "nbformat_minor": 0,
  "metadata": {
    "colab": {
      "name": "Copy of LS_DS_421_Text_Data_Assignment.ipynb",
      "version": "0.3.2",
      "provenance": [],
      "collapsed_sections": [],
      "include_colab_link": true
    },
    "language_info": {
      "codemirror_mode": {
        "name": "ipython",
        "version": 3
      },
      "file_extension": ".py",
      "mimetype": "text/x-python",
      "name": "python",
      "nbconvert_exporter": "python",
      "pygments_lexer": "ipython3",
      "version": "3.7.3"
    },
    "kernelspec": {
      "display_name": "Python 3",
      "language": "python",
      "name": "python3"
    }
  },
  "cells": [
    {
      "cell_type": "markdown",
      "metadata": {
        "id": "view-in-github",
        "colab_type": "text"
      },
      "source": [
        "<a href=\"https://colab.research.google.com/github/danhorsley/DS-Unit-4-Sprint-1-NLP/blob/master/Copy_of_LS_DS_421_Text_Data_Assignment.ipynb\" target=\"_parent\"><img src=\"https://colab.research.google.com/assets/colab-badge.svg\" alt=\"Open In Colab\"/></a>"
      ]
    },
    {
      "cell_type": "markdown",
      "metadata": {
        "id": "b5UIKNrI4Uac",
        "colab_type": "text"
      },
      "source": [
        "<img align=\"left\" src=\"https://lever-client-logos.s3.amazonaws.com/864372b1-534c-480e-acd5-9711f850815c-1524247202159.png\" width=200>\n",
        "<br></br>\n",
        "<br></br>\n",
        "\n",
        "# Natural Language Processing (NLP)\n",
        "## *Data Science Unit 4 Sprint 2 Assignment 1*\n",
        "\n",
        "Analyze a corpus of text using text visualization of token frequency. Try cleaning the data as much as possible. Try the following techniques: \n",
        "- Stemming\n",
        "- Lemmatization\n",
        "- Custom stopword removal\n",
        "- Using frequency based stopwrod removal\n",
        "\n",
        "You are free to use any dataset you are interested in. Kaggle is a great place to start. Feel free to sample the data if the dataset is too large to hanlde in memory. "
      ]
    },
    {
      "cell_type": "code",
      "metadata": {
        "id": "PpuYEi1N6QCc",
        "colab_type": "code",
        "colab": {
          "base_uri": "https://localhost:8080/",
          "height": 104
        },
        "outputId": "dcc75150-86b1-4b30-9aa4-b0b663885a25"
      },
      "source": [
        "!pip install squarify"
      ],
      "execution_count": 13,
      "outputs": [
        {
          "output_type": "stream",
          "text": [
            "Collecting squarify\n",
            "  Downloading https://files.pythonhosted.org/packages/0b/2b/2e77c35326efec19819cd1d729540d4d235e6c2a3f37658288a363a67da5/squarify-0.4.3-py3-none-any.whl\n",
            "Installing collected packages: squarify\n",
            "Successfully installed squarify-0.4.3\n"
          ],
          "name": "stdout"
        }
      ]
    },
    {
      "cell_type": "code",
      "metadata": {
        "id": "FzXNHds_4Uah",
        "colab_type": "code",
        "colab": {
          "base_uri": "https://localhost:8080/",
          "height": 70
        },
        "outputId": "9c695dfb-8636-4bec-e9b5-8ea395b1b2e3"
      },
      "source": [
        "import pandas as pd\n",
        "import numpy as np\n",
        "sw = pd.read_csv('https://storage.googleapis.com/kaggle-datasets/25491/32521/SW_EpisodeIV.txt?GoogleAccessId=web-data@kaggle-161607.iam.gserviceaccount.com&Expires=1562870394&Signature=X7rxF%2FEJmH2NOLqmr3TW8WchRkbppZXJngQmSZ%2Fa%2FIJcsF2xwLYJRPBVNB8Feh1NToRBMpSalUhNJ1%2Byz8uk%2BAz%2BuceJnDiagTFzcqIWPb%2BG8MJYKj8Wa0938fi7J0I9CdPAHDFnGP4k3gArJQRCnErDRzC1OUarIpjp8Z8ADh42tif9F3hqaQy%2BuoMh%2BHX8qrIR6NatWSslVzToxsXMBwQQId%2FHopyyOtfUnbr3kaqKqPESOymxOwWHnLMrESqrhGTZ6QUBuXXKBL3P2wLNHwpC4t3SnayHftJwaFYwJtjeW%2BIB8Rz3Y%2FlCq4MzQc8uPVckGw9EN7Jkm03uFM%2FhFw%3D%3D',sep='\" \"')"
      ],
      "execution_count": 60,
      "outputs": [
        {
          "output_type": "stream",
          "text": [
            "/usr/local/lib/python3.6/dist-packages/ipykernel_launcher.py:3: ParserWarning: Falling back to the 'python' engine because the 'c' engine does not support regex separators (separators > 1 char and different from '\\s+' are interpreted as regex); you can avoid this warning by specifying engine='python'.\n",
            "  This is separate from the ipykernel package so we can avoid doing imports until\n"
          ],
          "name": "stderr"
        }
      ]
    },
    {
      "cell_type": "code",
      "metadata": {
        "id": "daKdpjIL5mS-",
        "colab_type": "code",
        "colab": {
          "base_uri": "https://localhost:8080/",
          "height": 196
        },
        "outputId": "71c9663a-8472-4c04-cebd-4dc3653092aa"
      },
      "source": [
        "sw = sw.reset_index(drop=True)\n",
        "sw.columns = ['character','dialogue']\n",
        "sw['dialogue']=sw['dialogue'].str.replace('\"','')\n",
        "sw.head()"
      ],
      "execution_count": 61,
      "outputs": [
        {
          "output_type": "execute_result",
          "data": {
            "text/html": [
              "<div>\n",
              "<style scoped>\n",
              "    .dataframe tbody tr th:only-of-type {\n",
              "        vertical-align: middle;\n",
              "    }\n",
              "\n",
              "    .dataframe tbody tr th {\n",
              "        vertical-align: top;\n",
              "    }\n",
              "\n",
              "    .dataframe thead th {\n",
              "        text-align: right;\n",
              "    }\n",
              "</style>\n",
              "<table border=\"1\" class=\"dataframe\">\n",
              "  <thead>\n",
              "    <tr style=\"text-align: right;\">\n",
              "      <th></th>\n",
              "      <th>character</th>\n",
              "      <th>dialogue</th>\n",
              "    </tr>\n",
              "  </thead>\n",
              "  <tbody>\n",
              "    <tr>\n",
              "      <th>0</th>\n",
              "      <td>THREEPIO</td>\n",
              "      <td>Did you hear that?  They've shut down the main...</td>\n",
              "    </tr>\n",
              "    <tr>\n",
              "      <th>1</th>\n",
              "      <td>THREEPIO</td>\n",
              "      <td>We're doomed!</td>\n",
              "    </tr>\n",
              "    <tr>\n",
              "      <th>2</th>\n",
              "      <td>THREEPIO</td>\n",
              "      <td>There'll be no escape for the Princess this time.</td>\n",
              "    </tr>\n",
              "    <tr>\n",
              "      <th>3</th>\n",
              "      <td>THREEPIO</td>\n",
              "      <td>What's that?</td>\n",
              "    </tr>\n",
              "    <tr>\n",
              "      <th>4</th>\n",
              "      <td>THREEPIO</td>\n",
              "      <td>I should have known better than to trust the l...</td>\n",
              "    </tr>\n",
              "  </tbody>\n",
              "</table>\n",
              "</div>"
            ],
            "text/plain": [
              "  character                                           dialogue\n",
              "0  THREEPIO  Did you hear that?  They've shut down the main...\n",
              "1  THREEPIO                                      We're doomed!\n",
              "2  THREEPIO  There'll be no escape for the Princess this time.\n",
              "3  THREEPIO                                       What's that?\n",
              "4  THREEPIO  I should have known better than to trust the l..."
            ]
          },
          "metadata": {
            "tags": []
          },
          "execution_count": 61
        }
      ]
    },
    {
      "cell_type": "code",
      "metadata": {
        "id": "rny70ru96bDw",
        "colab_type": "code",
        "colab": {}
      },
      "source": [
        "def tokenize(text):\n",
        "    sample = re.sub(r'[^a-zA-Z ^0-9]', '', text)\n",
        "    tokens = sample.lower().split()\n",
        "    return tokens"
      ],
      "execution_count": 0,
      "outputs": []
    },
    {
      "cell_type": "code",
      "metadata": {
        "id": "PULNwcP96dyV",
        "colab_type": "code",
        "colab": {
          "base_uri": "https://localhost:8080/",
          "height": 196
        },
        "outputId": "f629c6d3-0fd0-489c-f800-cae72fed9db6"
      },
      "source": [
        "import re\n",
        "sw['tokens'] = sw['dialogue'].apply(tokenize)\n",
        "sw.head()"
      ],
      "execution_count": 63,
      "outputs": [
        {
          "output_type": "execute_result",
          "data": {
            "text/html": [
              "<div>\n",
              "<style scoped>\n",
              "    .dataframe tbody tr th:only-of-type {\n",
              "        vertical-align: middle;\n",
              "    }\n",
              "\n",
              "    .dataframe tbody tr th {\n",
              "        vertical-align: top;\n",
              "    }\n",
              "\n",
              "    .dataframe thead th {\n",
              "        text-align: right;\n",
              "    }\n",
              "</style>\n",
              "<table border=\"1\" class=\"dataframe\">\n",
              "  <thead>\n",
              "    <tr style=\"text-align: right;\">\n",
              "      <th></th>\n",
              "      <th>character</th>\n",
              "      <th>dialogue</th>\n",
              "      <th>tokens</th>\n",
              "    </tr>\n",
              "  </thead>\n",
              "  <tbody>\n",
              "    <tr>\n",
              "      <th>0</th>\n",
              "      <td>THREEPIO</td>\n",
              "      <td>Did you hear that?  They've shut down the main...</td>\n",
              "      <td>[did, you, hear, that, theyve, shut, down, the...</td>\n",
              "    </tr>\n",
              "    <tr>\n",
              "      <th>1</th>\n",
              "      <td>THREEPIO</td>\n",
              "      <td>We're doomed!</td>\n",
              "      <td>[were, doomed]</td>\n",
              "    </tr>\n",
              "    <tr>\n",
              "      <th>2</th>\n",
              "      <td>THREEPIO</td>\n",
              "      <td>There'll be no escape for the Princess this time.</td>\n",
              "      <td>[therell, be, no, escape, for, the, princess, ...</td>\n",
              "    </tr>\n",
              "    <tr>\n",
              "      <th>3</th>\n",
              "      <td>THREEPIO</td>\n",
              "      <td>What's that?</td>\n",
              "      <td>[whats, that]</td>\n",
              "    </tr>\n",
              "    <tr>\n",
              "      <th>4</th>\n",
              "      <td>THREEPIO</td>\n",
              "      <td>I should have known better than to trust the l...</td>\n",
              "      <td>[i, should, have, known, better, than, to, tru...</td>\n",
              "    </tr>\n",
              "  </tbody>\n",
              "</table>\n",
              "</div>"
            ],
            "text/plain": [
              "  character  ...                                             tokens\n",
              "0  THREEPIO  ...  [did, you, hear, that, theyve, shut, down, the...\n",
              "1  THREEPIO  ...                                     [were, doomed]\n",
              "2  THREEPIO  ...  [therell, be, no, escape, for, the, princess, ...\n",
              "3  THREEPIO  ...                                      [whats, that]\n",
              "4  THREEPIO  ...  [i, should, have, known, better, than, to, tru...\n",
              "\n",
              "[5 rows x 3 columns]"
            ]
          },
          "metadata": {
            "tags": []
          },
          "execution_count": 63
        }
      ]
    },
    {
      "cell_type": "code",
      "metadata": {
        "id": "ciV3zvwW60oQ",
        "colab_type": "code",
        "colab": {}
      },
      "source": [
        "#first experimenting with stems\n",
        "from nltk.stem import PorterStemmer\n",
        "\n",
        "ps = PorterStemmer()\n",
        "\n",
        "token_stems=[]\n",
        "for token in sw['tokens']:\n",
        "  mini_stems=[]\n",
        "  for word in token:\n",
        "    mini_stems.append(ps.stem(word))\n",
        "  token_stems.append(mini_stems)\n",
        "sw['stems'] = token_stems"
      ],
      "execution_count": 0,
      "outputs": []
    },
    {
      "cell_type": "code",
      "metadata": {
        "id": "QYTkm-e_7pr2",
        "colab_type": "code",
        "colab": {
          "base_uri": "https://localhost:8080/",
          "height": 246
        },
        "outputId": "634a88a3-8ba2-44ec-8f1f-8754eefdf0b0"
      },
      "source": [
        "sw.head()"
      ],
      "execution_count": 65,
      "outputs": [
        {
          "output_type": "execute_result",
          "data": {
            "text/html": [
              "<div>\n",
              "<style scoped>\n",
              "    .dataframe tbody tr th:only-of-type {\n",
              "        vertical-align: middle;\n",
              "    }\n",
              "\n",
              "    .dataframe tbody tr th {\n",
              "        vertical-align: top;\n",
              "    }\n",
              "\n",
              "    .dataframe thead th {\n",
              "        text-align: right;\n",
              "    }\n",
              "</style>\n",
              "<table border=\"1\" class=\"dataframe\">\n",
              "  <thead>\n",
              "    <tr style=\"text-align: right;\">\n",
              "      <th></th>\n",
              "      <th>character</th>\n",
              "      <th>dialogue</th>\n",
              "      <th>tokens</th>\n",
              "      <th>stems</th>\n",
              "    </tr>\n",
              "  </thead>\n",
              "  <tbody>\n",
              "    <tr>\n",
              "      <th>0</th>\n",
              "      <td>THREEPIO</td>\n",
              "      <td>Did you hear that?  They've shut down the main...</td>\n",
              "      <td>[did, you, hear, that, theyve, shut, down, the...</td>\n",
              "      <td>[did, you, hear, that, theyv, shut, down, the,...</td>\n",
              "    </tr>\n",
              "    <tr>\n",
              "      <th>1</th>\n",
              "      <td>THREEPIO</td>\n",
              "      <td>We're doomed!</td>\n",
              "      <td>[were, doomed]</td>\n",
              "      <td>[were, doom]</td>\n",
              "    </tr>\n",
              "    <tr>\n",
              "      <th>2</th>\n",
              "      <td>THREEPIO</td>\n",
              "      <td>There'll be no escape for the Princess this time.</td>\n",
              "      <td>[therell, be, no, escape, for, the, princess, ...</td>\n",
              "      <td>[therel, be, no, escap, for, the, princess, th...</td>\n",
              "    </tr>\n",
              "    <tr>\n",
              "      <th>3</th>\n",
              "      <td>THREEPIO</td>\n",
              "      <td>What's that?</td>\n",
              "      <td>[whats, that]</td>\n",
              "      <td>[what, that]</td>\n",
              "    </tr>\n",
              "    <tr>\n",
              "      <th>4</th>\n",
              "      <td>THREEPIO</td>\n",
              "      <td>I should have known better than to trust the l...</td>\n",
              "      <td>[i, should, have, known, better, than, to, tru...</td>\n",
              "      <td>[i, should, have, known, better, than, to, tru...</td>\n",
              "    </tr>\n",
              "  </tbody>\n",
              "</table>\n",
              "</div>"
            ],
            "text/plain": [
              "  character  ...                                              stems\n",
              "0  THREEPIO  ...  [did, you, hear, that, theyv, shut, down, the,...\n",
              "1  THREEPIO  ...                                       [were, doom]\n",
              "2  THREEPIO  ...  [therel, be, no, escap, for, the, princess, th...\n",
              "3  THREEPIO  ...                                       [what, that]\n",
              "4  THREEPIO  ...  [i, should, have, known, better, than, to, tru...\n",
              "\n",
              "[5 rows x 4 columns]"
            ]
          },
          "metadata": {
            "tags": []
          },
          "execution_count": 65
        }
      ]
    },
    {
      "cell_type": "code",
      "metadata": {
        "id": "ecjRETZY8DHg",
        "colab_type": "code",
        "colab": {}
      },
      "source": [
        "from collections import Counter\n",
        "def count(docs):\n",
        "\n",
        "        word_counts = Counter()\n",
        "        appears_in = Counter()\n",
        "        \n",
        "        total_docs = len(docs)\n",
        "\n",
        "        for doc in docs:\n",
        "            word_counts.update(doc)\n",
        "            appears_in.update(set(doc))\n",
        "\n",
        "        temp = zip(word_counts.keys(), word_counts.values())\n",
        "        \n",
        "        wc = pd.DataFrame(temp, columns = ['word', 'count'])\n",
        "\n",
        "        wc['rank'] = wc['count'].rank(method='first', ascending=False)\n",
        "        total = wc['count'].sum()\n",
        "\n",
        "        wc['pct_total'] = wc['count'].apply(lambda x: x / total)\n",
        "        \n",
        "        wc = wc.sort_values(by='rank')\n",
        "        wc['cul_pct_total'] = wc['pct_total'].cumsum()\n",
        "\n",
        "        t2 = zip(appears_in.keys(), appears_in.values())\n",
        "        ac = pd.DataFrame(t2, columns=['word', 'appears_in'])\n",
        "        wc = ac.merge(wc, on='word')\n",
        "\n",
        "        wc['appears_in_pct'] = wc['appears_in'].apply(lambda x: x / total_docs)\n",
        "        \n",
        "        return wc.sort_values(by='rank')"
      ],
      "execution_count": 0,
      "outputs": []
    },
    {
      "cell_type": "code",
      "metadata": {
        "id": "QG_ciS9p7y8z",
        "colab_type": "code",
        "colab": {
          "base_uri": "https://localhost:8080/",
          "height": 269
        },
        "outputId": "94bee79c-c7b3-4dec-f300-4c7fb54e9901"
      },
      "source": [
        "import squarify\n",
        "import matplotlib.pyplot as plt\n",
        "wc = count(sw['stems'])\n",
        "\n",
        "wc_top20 = wc[wc['rank'] <= 20]\n",
        "\n",
        "squarify.plot(sizes=wc_top20['pct_total'], label=wc_top20['word'], alpha=.8 )\n",
        "plt.axis('off')\n",
        "plt.show()"
      ],
      "execution_count": 67,
      "outputs": [
        {
          "output_type": "display_data",
          "data": {
            "image/png": "[encoded data removed]",
            "text/plain": [
              "<Figure size 432x288 with 1 Axes>"
            ]
          },
          "metadata": {
            "tags": []
          }
        }
      ]
    },
    {
      "cell_type": "code",
      "metadata": {
        "id": "_41HJ9cr87MW",
        "colab_type": "code",
        "colab": {}
      },
      "source": [
        "import spacy\n",
        "from spacy.tokenizer import Tokenizer\n",
        "\n",
        "nlp = spacy.load(\"en_core_web_sm\")\n",
        "\n",
        "# Tokenizer\n",
        "tokenizer = Tokenizer(nlp.vocab)"
      ],
      "execution_count": 0,
      "outputs": []
    },
    {
      "cell_type": "code",
      "metadata": {
        "id": "g3FXePe-9Qza",
        "colab_type": "code",
        "colab": {}
      },
      "source": [
        "#remaking tokens\n",
        "tokens = []\n",
        "\n",
        "for doc in tokenizer.pipe(sw['dialogue'], batch_size=500):\n",
        "    \n",
        "    doc_tokens = []\n",
        "    \n",
        "    for token in doc: \n",
        "      if (token.is_stop == False) and (token.is_punct==False) and (token.is_space==False):\n",
        "        doc_tokens.append(token.text.lower())\n",
        "   \n",
        "    tokens.append(doc_tokens)\n",
        "    \n",
        "sw['tokens'] = tokens"
      ],
      "execution_count": 0,
      "outputs": []
    },
    {
      "cell_type": "code",
      "metadata": {
        "id": "d395ec939aof",
        "colab_type": "code",
        "colab": {
          "base_uri": "https://localhost:8080/",
          "height": 246
        },
        "outputId": "d33aab57-e612-411f-f5b0-94110ebed36e"
      },
      "source": [
        "sw.head()"
      ],
      "execution_count": 74,
      "outputs": [
        {
          "output_type": "execute_result",
          "data": {
            "text/html": [
              "<div>\n",
              "<style scoped>\n",
              "    .dataframe tbody tr th:only-of-type {\n",
              "        vertical-align: middle;\n",
              "    }\n",
              "\n",
              "    .dataframe tbody tr th {\n",
              "        vertical-align: top;\n",
              "    }\n",
              "\n",
              "    .dataframe thead th {\n",
              "        text-align: right;\n",
              "    }\n",
              "</style>\n",
              "<table border=\"1\" class=\"dataframe\">\n",
              "  <thead>\n",
              "    <tr style=\"text-align: right;\">\n",
              "      <th></th>\n",
              "      <th>character</th>\n",
              "      <th>dialogue</th>\n",
              "      <th>tokens</th>\n",
              "      <th>stems</th>\n",
              "    </tr>\n",
              "  </thead>\n",
              "  <tbody>\n",
              "    <tr>\n",
              "      <th>0</th>\n",
              "      <td>THREEPIO</td>\n",
              "      <td>Did you hear that?  They've shut down the main...</td>\n",
              "      <td>[hear, that?, they've, shut, main, reactor., w...</td>\n",
              "      <td>[did, you, hear, that, theyv, shut, down, the,...</td>\n",
              "    </tr>\n",
              "    <tr>\n",
              "      <th>1</th>\n",
              "      <td>THREEPIO</td>\n",
              "      <td>We're doomed!</td>\n",
              "      <td>[we're, doomed!]</td>\n",
              "      <td>[were, doom]</td>\n",
              "    </tr>\n",
              "    <tr>\n",
              "      <th>2</th>\n",
              "      <td>THREEPIO</td>\n",
              "      <td>There'll be no escape for the Princess this time.</td>\n",
              "      <td>[there'll, escape, princess, time.]</td>\n",
              "      <td>[therel, be, no, escap, for, the, princess, th...</td>\n",
              "    </tr>\n",
              "    <tr>\n",
              "      <th>3</th>\n",
              "      <td>THREEPIO</td>\n",
              "      <td>What's that?</td>\n",
              "      <td>[what's, that?]</td>\n",
              "      <td>[what, that]</td>\n",
              "    </tr>\n",
              "    <tr>\n",
              "      <th>4</th>\n",
              "      <td>THREEPIO</td>\n",
              "      <td>I should have known better than to trust the l...</td>\n",
              "      <td>[known, better, trust, logic, half-sized, ther...</td>\n",
              "      <td>[i, should, have, known, better, than, to, tru...</td>\n",
              "    </tr>\n",
              "  </tbody>\n",
              "</table>\n",
              "</div>"
            ],
            "text/plain": [
              "  character  ...                                              stems\n",
              "0  THREEPIO  ...  [did, you, hear, that, theyv, shut, down, the,...\n",
              "1  THREEPIO  ...                                       [were, doom]\n",
              "2  THREEPIO  ...  [therel, be, no, escap, for, the, princess, th...\n",
              "3  THREEPIO  ...                                       [what, that]\n",
              "4  THREEPIO  ...  [i, should, have, known, better, than, to, tru...\n",
              "\n",
              "[5 rows x 4 columns]"
            ]
          },
          "metadata": {
            "tags": []
          },
          "execution_count": 74
        }
      ]
    },
    {
      "cell_type": "code",
      "metadata": {
        "id": "jYdaiGXe-h8O",
        "colab_type": "code",
        "colab": {}
      },
      "source": [
        "def get_lemmas(text):\n",
        "    lemmas = []\n",
        "    \n",
        "    doc = nlp(text)\n",
        "    for token in doc:\n",
        "        if ((token.is_stop ==False) and (token.is_punct==False) and (token.is_space==False)):\n",
        "            lemmas.append(token.lemma_)\n",
        "            \n",
        "    return lemmas"
      ],
      "execution_count": 0,
      "outputs": []
    },
    {
      "cell_type": "code",
      "metadata": {
        "id": "2ME5Pl2n8l2L",
        "colab_type": "code",
        "colab": {}
      },
      "source": [
        "#now experimenting with lemmas\n",
        "sw['lemmas'] = sw['dialogue'].apply(get_lemmas)"
      ],
      "execution_count": 0,
      "outputs": []
    },
    {
      "cell_type": "code",
      "metadata": {
        "id": "3XSZlL-m_U9L",
        "colab_type": "code",
        "colab": {
          "base_uri": "https://localhost:8080/",
          "height": 269
        },
        "outputId": "af8ed82c-fe36-4ea9-9ec8-e81b675415e7"
      },
      "source": [
        "wc = count(sw['lemmas'])\n",
        "wc_top20 = wc[wc['rank'] <= 20]\n",
        "\n",
        "squarify.plot(sizes=wc_top20['pct_total'], label=wc_top20['word'], alpha=.8 )\n",
        "plt.axis('off')\n",
        "plt.show()"
      ],
      "execution_count": 81,
      "outputs": [
        {
          "output_type": "display_data",
          "data": {
            "image/png": "[encoded data removed]",
            "text/plain": [
              "<Figure size 432x288 with 1 Axes>"
            ]
          },
          "metadata": {
            "tags": []
          }
        }
      ]
    },
    {
      "cell_type": "code",
      "metadata": {
        "id": "dSwIca47C4sq",
        "colab_type": "code",
        "colab": {}
      },
      "source": [
        "my_stops = set(['get','go','let','oh','know','come','want'])"
      ],
      "execution_count": 0,
      "outputs": []
    },
    {
      "cell_type": "code",
      "metadata": {
        "id": "Yw3ry4vdDAXM",
        "colab_type": "code",
        "colab": {}
      },
      "source": [
        " def new_get_lemmas(text):\n",
        "    lemmas = []\n",
        "    \n",
        "    doc = nlp(text)\n",
        "    for token in doc:\n",
        "        if ((token.is_stop ==False) and (token.is_punct==False) and (token.is_space==False) and token.lemma_ not in my_stops):\n",
        "            lemmas.append(token.lemma_)\n",
        "            \n",
        "    return lemmas"
      ],
      "execution_count": 0,
      "outputs": []
    },
    {
      "cell_type": "code",
      "metadata": {
        "id": "XW7NyXwdBSAR",
        "colab_type": "code",
        "colab": {}
      },
      "source": [
        "sw['lemmas_stops'] = sw['dialogue'].apply(new_get_lemmas)"
      ],
      "execution_count": 0,
      "outputs": []
    },
    {
      "cell_type": "code",
      "metadata": {
        "id": "7u0OtoESEesz",
        "colab_type": "code",
        "colab": {
          "base_uri": "https://localhost:8080/",
          "height": 269
        },
        "outputId": "80978080-8423-4476-c58a-a3727e395095"
      },
      "source": [
        "wc = count(sw['lemmas_stops'])\n",
        "wc_top30 = wc[wc['rank'] <= 30]\n",
        "\n",
        "squarify.plot(sizes=wc_top30['pct_total'], label=wc_top30['word'], alpha=.8 )\n",
        "plt.axis('off')\n",
        "plt.show()"
      ],
      "execution_count": 106,
      "outputs": [
        {
          "output_type": "display_data",
          "data": {
            "image/png": "[encoded data removed]",
            "text/plain": [
              "<Figure size 432x288 with 1 Axes>"
            ]
          },
          "metadata": {
            "tags": []
          }
        }
      ]
    },
    {
      "cell_type": "code",
      "metadata": {
        "id": "LRZUjs0fFczH",
        "colab_type": "code",
        "colab": {
          "base_uri": "https://localhost:8080/",
          "height": 283
        },
        "outputId": "33c9ab42-a775-427a-b779-bad53b891e45"
      },
      "source": [
        "#this plot seems much more gradual than the one from the lecture with more common idnetifyign words so \n",
        "#not much points in statistically trimming it\n",
        "import seaborn as sns\n",
        "sns.lineplot(x='rank', y='cul_pct_total', data=wc);"
      ],
      "execution_count": 101,
      "outputs": [
        {
          "output_type": "display_data",
          "data": {
            "image/png": "[encoded data removed]",
            "text/plain": [
              "<Figure size 432x288 with 1 Axes>"
            ]
          },
          "metadata": {
            "tags": []
          }
        }
      ]
    },
    {
      "cell_type": "code",
      "metadata": {
        "id": "o0VhZBqBFNB9",
        "colab_type": "code",
        "colab": {
          "base_uri": "https://localhost:8080/",
          "height": 644
        },
        "outputId": "251075d4-b5d1-4abc-bd86-959b0c008fa2"
      },
      "source": [
        "#now statistical trimming - let's try taking out the top 200 words and having a look\n",
        "wc_bottom = wc[wc['rank'] >= 200]\n",
        "\n",
        "wc_bottom.head(20)"
      ],
      "execution_count": 105,
      "outputs": [
        {
          "output_type": "execute_result",
          "data": {
            "text/html": [
              "<div>\n",
              "<style scoped>\n",
              "    .dataframe tbody tr th:only-of-type {\n",
              "        vertical-align: middle;\n",
              "    }\n",
              "\n",
              "    .dataframe tbody tr th {\n",
              "        vertical-align: top;\n",
              "    }\n",
              "\n",
              "    .dataframe thead th {\n",
              "        text-align: right;\n",
              "    }\n",
              "</style>\n",
              "<table border=\"1\" class=\"dataframe\">\n",
              "  <thead>\n",
              "    <tr style=\"text-align: right;\">\n",
              "      <th></th>\n",
              "      <th>word</th>\n",
              "      <th>appears_in</th>\n",
              "      <th>count</th>\n",
              "      <th>rank</th>\n",
              "      <th>pct_total</th>\n",
              "      <th>cul_pct_total</th>\n",
              "      <th>appears_in_pct</th>\n",
              "    </tr>\n",
              "  </thead>\n",
              "  <tbody>\n",
              "    <tr>\n",
              "      <th>761</th>\n",
              "      <td>ready</td>\n",
              "      <td>5</td>\n",
              "      <td>5</td>\n",
              "      <td>200.0</td>\n",
              "      <td>0.001216</td>\n",
              "      <td>0.557744</td>\n",
              "      <td>0.00495</td>\n",
              "    </tr>\n",
              "    <tr>\n",
              "      <th>809</th>\n",
              "      <td>money</td>\n",
              "      <td>5</td>\n",
              "      <td>5</td>\n",
              "      <td>201.0</td>\n",
              "      <td>0.001216</td>\n",
              "      <td>0.558959</td>\n",
              "      <td>0.00495</td>\n",
              "    </tr>\n",
              "    <tr>\n",
              "      <th>812</th>\n",
              "      <td>large</td>\n",
              "      <td>5</td>\n",
              "      <td>5</td>\n",
              "      <td>202.0</td>\n",
              "      <td>0.001216</td>\n",
              "      <td>0.560175</td>\n",
              "      <td>0.00495</td>\n",
              "    </tr>\n",
              "    <tr>\n",
              "      <th>822</th>\n",
              "      <td>idea</td>\n",
              "      <td>5</td>\n",
              "      <td>5</td>\n",
              "      <td>203.0</td>\n",
              "      <td>0.001216</td>\n",
              "      <td>0.561391</td>\n",
              "      <td>0.00495</td>\n",
              "    </tr>\n",
              "    <tr>\n",
              "      <th>868</th>\n",
              "      <td>deflector</td>\n",
              "      <td>5</td>\n",
              "      <td>5</td>\n",
              "      <td>204.0</td>\n",
              "      <td>0.001216</td>\n",
              "      <td>0.562606</td>\n",
              "      <td>0.00495</td>\n",
              "    </tr>\n",
              "    <tr>\n",
              "      <th>1008</th>\n",
              "      <td>tractor</td>\n",
              "      <td>5</td>\n",
              "      <td>5</td>\n",
              "      <td>205.0</td>\n",
              "      <td>0.001216</td>\n",
              "      <td>0.563822</td>\n",
              "      <td>0.00495</td>\n",
              "    </tr>\n",
              "    <tr>\n",
              "      <th>1011</th>\n",
              "      <td>seven</td>\n",
              "      <td>5</td>\n",
              "      <td>5</td>\n",
              "      <td>206.0</td>\n",
              "      <td>0.001216</td>\n",
              "      <td>0.565038</td>\n",
              "      <td>0.00495</td>\n",
              "    </tr>\n",
              "    <tr>\n",
              "      <th>1059</th>\n",
              "      <td>hang</td>\n",
              "      <td>5</td>\n",
              "      <td>5</td>\n",
              "      <td>207.0</td>\n",
              "      <td>0.001216</td>\n",
              "      <td>0.566253</td>\n",
              "      <td>0.00495</td>\n",
              "    </tr>\n",
              "    <tr>\n",
              "      <th>1074</th>\n",
              "      <td>rescue</td>\n",
              "      <td>5</td>\n",
              "      <td>5</td>\n",
              "      <td>208.0</td>\n",
              "      <td>0.001216</td>\n",
              "      <td>0.567469</td>\n",
              "      <td>0.00495</td>\n",
              "    </tr>\n",
              "    <tr>\n",
              "      <th>1087</th>\n",
              "      <td>clear</td>\n",
              "      <td>4</td>\n",
              "      <td>5</td>\n",
              "      <td>209.0</td>\n",
              "      <td>0.001216</td>\n",
              "      <td>0.568685</td>\n",
              "      <td>0.00396</td>\n",
              "    </tr>\n",
              "    <tr>\n",
              "      <th>1094</th>\n",
              "      <td>negative</td>\n",
              "      <td>4</td>\n",
              "      <td>5</td>\n",
              "      <td>210.0</td>\n",
              "      <td>0.001216</td>\n",
              "      <td>0.569900</td>\n",
              "      <td>0.00396</td>\n",
              "    </tr>\n",
              "    <tr>\n",
              "      <th>1105</th>\n",
              "      <td>alert</td>\n",
              "      <td>5</td>\n",
              "      <td>5</td>\n",
              "      <td>211.0</td>\n",
              "      <td>0.001216</td>\n",
              "      <td>0.571116</td>\n",
              "      <td>0.00495</td>\n",
              "    </tr>\n",
              "    <tr>\n",
              "      <th>1118</th>\n",
              "      <td>garbage</td>\n",
              "      <td>5</td>\n",
              "      <td>5</td>\n",
              "      <td>212.0</td>\n",
              "      <td>0.001216</td>\n",
              "      <td>0.572332</td>\n",
              "      <td>0.00495</td>\n",
              "    </tr>\n",
              "    <tr>\n",
              "      <th>1134</th>\n",
              "      <td>gun</td>\n",
              "      <td>5</td>\n",
              "      <td>5</td>\n",
              "      <td>213.0</td>\n",
              "      <td>0.001216</td>\n",
              "      <td>0.573547</td>\n",
              "      <td>0.00495</td>\n",
              "    </tr>\n",
              "    <tr>\n",
              "      <th>1262</th>\n",
              "      <td>tower</td>\n",
              "      <td>5</td>\n",
              "      <td>5</td>\n",
              "      <td>214.0</td>\n",
              "      <td>0.001216</td>\n",
              "      <td>0.574763</td>\n",
              "      <td>0.00495</td>\n",
              "    </tr>\n",
              "    <tr>\n",
              "      <th>1275</th>\n",
              "      <td>Wedge</td>\n",
              "      <td>5</td>\n",
              "      <td>5</td>\n",
              "      <td>215.0</td>\n",
              "      <td>0.001216</td>\n",
              "      <td>0.575979</td>\n",
              "      <td>0.00495</td>\n",
              "    </tr>\n",
              "    <tr>\n",
              "      <th>0</th>\n",
              "      <td>reactor</td>\n",
              "      <td>4</td>\n",
              "      <td>4</td>\n",
              "      <td>216.0</td>\n",
              "      <td>0.000973</td>\n",
              "      <td>0.576951</td>\n",
              "      <td>0.00396</td>\n",
              "    </tr>\n",
              "    <tr>\n",
              "      <th>15</th>\n",
              "      <td>half</td>\n",
              "      <td>4</td>\n",
              "      <td>4</td>\n",
              "      <td>217.0</td>\n",
              "      <td>0.000973</td>\n",
              "      <td>0.577924</td>\n",
              "      <td>0.00396</td>\n",
              "    </tr>\n",
              "    <tr>\n",
              "      <th>64</th>\n",
              "      <td>somebody</td>\n",
              "      <td>4</td>\n",
              "      <td>4</td>\n",
              "      <td>218.0</td>\n",
              "      <td>0.000973</td>\n",
              "      <td>0.578896</td>\n",
              "      <td>0.00396</td>\n",
              "    </tr>\n",
              "    <tr>\n",
              "      <th>71</th>\n",
              "      <td>circuit</td>\n",
              "      <td>4</td>\n",
              "      <td>4</td>\n",
              "      <td>219.0</td>\n",
              "      <td>0.000973</td>\n",
              "      <td>0.579869</td>\n",
              "      <td>0.00396</td>\n",
              "    </tr>\n",
              "  </tbody>\n",
              "</table>\n",
              "</div>"
            ],
            "text/plain": [
              "           word  appears_in  count  ...  pct_total  cul_pct_total  appears_in_pct\n",
              "761       ready           5      5  ...   0.001216       0.557744         0.00495\n",
              "809       money           5      5  ...   0.001216       0.558959         0.00495\n",
              "812       large           5      5  ...   0.001216       0.560175         0.00495\n",
              "822        idea           5      5  ...   0.001216       0.561391         0.00495\n",
              "868   deflector           5      5  ...   0.001216       0.562606         0.00495\n",
              "1008    tractor           5      5  ...   0.001216       0.563822         0.00495\n",
              "1011      seven           5      5  ...   0.001216       0.565038         0.00495\n",
              "1059       hang           5      5  ...   0.001216       0.566253         0.00495\n",
              "1074     rescue           5      5  ...   0.001216       0.567469         0.00495\n",
              "1087      clear           4      5  ...   0.001216       0.568685         0.00396\n",
              "1094   negative           4      5  ...   0.001216       0.569900         0.00396\n",
              "1105      alert           5      5  ...   0.001216       0.571116         0.00495\n",
              "1118    garbage           5      5  ...   0.001216       0.572332         0.00495\n",
              "1134        gun           5      5  ...   0.001216       0.573547         0.00495\n",
              "1262      tower           5      5  ...   0.001216       0.574763         0.00495\n",
              "1275      Wedge           5      5  ...   0.001216       0.575979         0.00495\n",
              "0       reactor           4      4  ...   0.000973       0.576951         0.00396\n",
              "15         half           4      4  ...   0.000973       0.577924         0.00396\n",
              "64     somebody           4      4  ...   0.000973       0.578896         0.00396\n",
              "71      circuit           4      4  ...   0.000973       0.579869         0.00396\n",
              "\n",
              "[20 rows x 7 columns]"
            ]
          },
          "metadata": {
            "tags": []
          },
          "execution_count": 105
        }
      ]
    },
    {
      "cell_type": "markdown",
      "metadata": {
        "colab_type": "text",
        "id": "1dCb1q8XphcP",
        "toc-hr-collapsed": true
      },
      "source": [
        "## Stretch Goals\n",
        "\n",
        "* Write a web scraper that can scrape \"Data Scientist\" job listings from indeed.com.\n",
        "* Look ahead to some of the topics from later this week:\n",
        " - Part of Speech Tagging\n",
        " - Named Entity Recognition\n",
        " - Document Classification\n",
        "* Try a different visualization techniques\n",
        "* Automate the process of retriving job listings. ;)"
      ]
    }
  ]
}