{
  "nbformat": 4,
  "nbformat_minor": 0,
  "metadata": {
    "colab": {
      "name": "Copy of LS_DS_421_Text_Data_Assignment.ipynb",
      "version": "0.3.2",
      "provenance": [],
      "collapsed_sections": [],
      "include_colab_link": true
    },
    "language_info": {
      "codemirror_mode": {
        "name": "ipython",
        "version": 3
      },
      "file_extension": ".py",
      "mimetype": "text/x-python",
      "name": "python",
      "nbconvert_exporter": "python",
      "pygments_lexer": "ipython3",
      "version": "3.7.3"
    },
    "kernelspec": {
      "display_name": "Python 3",
      "language": "python",
      "name": "python3"
    }
  },
  "cells": [
    {
      "cell_type": "markdown",
      "metadata": {
        "id": "view-in-github",
        "colab_type": "text"
      },
      "source": [
        "<a href=\"https://colab.research.google.com/github/derek-shing/DS-Unit-4-Sprint-2-NLP/blob/master/Copy_of_LS_DS_421_Text_Data_Assignment.ipynb\" target=\"_parent\"><img src=\"https://colab.research.google.com/assets/colab-badge.svg\" alt=\"Open In Colab\"/></a>"
      ]
    },
    {
      "metadata": {
        "id": "rJGSW9TKzi-w",
        "colab_type": "text"
      },
      "cell_type": "markdown",
      "source": [
        "<img align=\"left\" src=\"https://lever-client-logos.s3.amazonaws.com/864372b1-534c-480e-acd5-9711f850815c-1524247202159.png\" width=200>\n",
        "<br></br>\n",
        "<br></br>\n",
        "\n",
        "## *Data Science Unit 4 Sprint 2 Assignment 1*\n",
        "\n",
        "# Natural Language Processing (NLP)"
      ]
    },
    {
      "metadata": {
        "colab_type": "text",
        "id": "qGUBe2FXilzx"
      },
      "cell_type": "markdown",
      "source": [
        "# 1. String Basics"
      ]
    },
    {
      "metadata": {
        "colab_type": "text",
        "id": "UwLjaXPCqACb"
      },
      "cell_type": "markdown",
      "source": [
        "## 1.1 Count Characters\n",
        "\n",
        "Write a function to count the character frequency of any string, and return the counts as a dictionary.\n",
        "\n",
        "\"google.com\" -> {'o': 3, 'g': 2, '.': 1, 'e': 1, 'l': 1, 'm': 1, 'c': 1}"
      ]
    },
    {
      "metadata": {
        "colab_type": "code",
        "id": "9Kk5bS5ujbwH",
        "outputId": "34f99bc7-f9a1-4851-c4d5-bea1bf3f90e8",
        "colab": {
          "base_uri": "https://localhost:8080/",
          "height": 34
        }
      },
      "cell_type": "code",
      "source": [
        "##### YOUR CODE HERE #####\n",
        "from collections import Counter \n",
        "s = \"google.com\"\n",
        "print(Counter(s))\n",
        "#raise Exception(\"\\nThis task is not complete. \\nReplace this line with your code for the task.\")"
      ],
      "execution_count": 0,
      "outputs": [
        {
          "output_type": "stream",
          "text": [
            "Counter({'o': 3, 'g': 2, 'l': 1, 'e': 1, '.': 1, 'c': 1, 'm': 1})\n"
          ],
          "name": "stdout"
        }
      ]
    },
    {
      "metadata": {
        "colab_type": "text",
        "id": "mq2yhAciqH6w"
      },
      "cell_type": "markdown",
      "source": [
        "## 1.2 Replace Characters\n",
        "\n",
        "Write a function that takes in two parameters: 1) a string of text and 2) individual character. This function should return a new string of text where any of the specified character has been replaced with dollar signs: `$` "
      ]
    },
    {
      "metadata": {
        "id": "9OxdvSmGzjAW",
        "colab_type": "code",
        "outputId": "0e236c47-863a-45bc-eca6-ebffbb8422da",
        "colab": {
          "base_uri": "https://localhost:8080/",
          "height": 34
        }
      },
      "cell_type": "code",
      "source": [
        "def redact(document, redaction_char=\"$\"):\n",
        "    ##### YOUR CODE HERE #####\n",
        "    return document.replace(redaction_char,'$')\n",
        "    #raise Exception(\"\\nThis task is not complete. \\nReplace this line with your code for the task.\")\n",
        "    \n",
        "    \n",
        "redact(s,'l')"
      ],
      "execution_count": 0,
      "outputs": [
        {
          "output_type": "execute_result",
          "data": {
            "text/plain": [
              "'goog$e.com'"
            ]
          },
          "metadata": {
            "tags": []
          },
          "execution_count": 7
        }
      ]
    },
    {
      "metadata": {
        "colab_type": "text",
        "id": "v8iy3BKuq--f"
      },
      "cell_type": "markdown",
      "source": [
        "## 1.3 Slice Suffixes\n",
        "\n",
        "Write a function that removes common suffixes from the ends of words. As a minimum this function should remove the suffixes: \"ed\",  \"ing\", \"es\", \"tion\", \"ly\"\n",
        "\n",
        "\"The daring fox leaped through the air gracefully, his eyes fixated on the capitulation of his prey.\" -> \n",
        "\n",
        "\"The dar fox leap through the air graceful, his ey fixat on the capitula of his prey.\""
      ]
    },
    {
      "metadata": {
        "id": "uLn11wfozjAo",
        "colab_type": "code",
        "outputId": "279e3414-766b-4808-c11b-85f70ac62b03",
        "colab": {
          "base_uri": "https://localhost:8080/",
          "height": 34
        }
      },
      "cell_type": "code",
      "source": [
        "import string\n",
        "import re\n",
        "\n",
        "##### YOUR CODE HERE #####\n",
        "s='The daring fox leaped through the air gracefully, his eyes fixated on the capitulation of his prey.'\n",
        "word_list = s.split()\n",
        "new_word_list =[]\n",
        "p = tuple(string.punctuation)\n",
        "suffixes =(\"ed\", \"ing\", \"es\", \"tion\", \"ly\")\n",
        "for word in word_list:\n",
        "  if word.endswith(p):\n",
        "    word = word[:-1]\n",
        "  for suffix in suffixes:\n",
        "    if word.endswith(suffix):\n",
        "      word = word[:-len(suffix)]\n",
        "      break\n",
        "    \n",
        "  new_word_list.append(word)\n",
        "  \n",
        "\" \".join(new_word_list)\n",
        "\n",
        "#aise Exception(\"\\nThis task is not complete. \\nReplace this line with your code for the task.\")"
      ],
      "execution_count": 0,
      "outputs": [
        {
          "output_type": "execute_result",
          "data": {
            "text/plain": [
              "'The dar fox leap through the air graceful his ey fixat on the capitula of his prey'"
            ]
          },
          "metadata": {
            "tags": []
          },
          "execution_count": 26
        }
      ]
    },
    {
      "metadata": {
        "colab_type": "text",
        "id": "hAAJTIN_trH3"
      },
      "cell_type": "markdown",
      "source": [
        "## 1.4 Remove Stopwords\n",
        "\n",
        "Write a function that removes common \"stopwords\" from text. "
      ]
    },
    {
      "metadata": {
        "colab_type": "code",
        "id": "QbHQkte9t_gK",
        "colab": {}
      },
      "cell_type": "code",
      "source": [
        "stopwords = ['i','me','my','myself','we''our','ours','ourselves',\n",
        "'you','your','yours','yourself','yourselves','he','him','his','himself',\n",
        "'she','her','hers','herself','it','its','itself','they','them','their',\n",
        "'theirs','themselves','what','which','who','whom','this','that','these',\n",
        "'those','am','is','are','was','were','be','been','being','have','has',\n",
        "'had','having','do','does','did','doing','a','an','the','and','but',\n",
        "'if','or','because','as','until','while','of','at','by','for','with',\n",
        "'about','against','between','into','through','during','before','after',\n",
        "'above','below','to','from','up','down','in','out','on','off','over',\n",
        "'under','again','further','then','once','here','there','when','where',\n",
        "'why','how','all','any','both','each','few','more','most','other','some',\n",
        "'such','no','nor','not','only','own','same','so','than','too','very',\n",
        "'s','t','can','will','just','don','should','now']"
      ],
      "execution_count": 0,
      "outputs": []
    },
    {
      "metadata": {
        "id": "dSsdRf2ZzjFE",
        "colab_type": "code",
        "colab": {}
      },
      "cell_type": "code",
      "source": [
        "##### YOUR CODE HERE #####\n",
        "def remove_stopwords(text):\n",
        "#text =\"Below is a list of three strings. Each string is a job listing with the job title of 'data scientist' from indeed.com. Write a function that does two things\"\n",
        "  words = text.split()\n",
        "  new_words =[]\n",
        "  for word in words:\n",
        "    if not(word in stopwords):\n",
        "      new_words.append(word)\n",
        "\n",
        "  return \" \".join(new_words)\n",
        "#raise Exception(\"\\nThis task is not complete. \\nReplace this line with your code for the task.\")"
      ],
      "execution_count": 0,
      "outputs": []
    },
    {
      "metadata": {
        "colab_type": "text",
        "id": "EKEER1R3vyDM"
      },
      "cell_type": "markdown",
      "source": [
        "## 1.5 Vectorize Words\n",
        "\n",
        "Below is a list of three strings. Each string is a job listing with the job title of \"data scientist\" from indeed.com. Write a function that does two things:\n",
        "\n",
        "1) Removes stopwords from each listing (uses above function)\n",
        "\n",
        "2) Creates a dataframe where the header of each column is a particular word and each cell of the dataframe should be a 1 or 0 denoting whether that word is present or not in the job listing a body of text. The final dataframe should only have 3 rows, one for each of the three job listings.\n",
        "\n",
        "Your final dataframe should not include any of the stopwords."
      ]
    },
    {
      "metadata": {
        "colab_type": "code",
        "id": "BmEykH6byT5n",
        "colab": {}
      },
      "cell_type": "code",
      "source": [
        "job_listings = ['Part-time, Contract, Internship\\nSr. Machine Learning/Data Scientist\\n\\ndata245, Bannockburn, IL seeks data scientists.\\n\\nWe are open to all levels of experience (down to an intern) as we are building a team around new initiatives.\\n\\nYou will be developing state of the art algorithms to power various aspects of highly complex business models\\nYou can articulate and understand a business problem, identify challenges, formulate the machine learning problem or NLP problems and provide/prototype solutions\\nYou will provide technical leadership, identify and understand key business challenges and opportunities, and develop end-to-end software solutions using machine learning/NLP and optimization methods.\\n\\nYou will collaborate extensively with internal and external partners, program management, and, at a senior level, the engineering team to ensure that solution meet business needs, permit valid inferences and have functional feasibility\\nYou will collect and manipulate large volumes of data; build new and improved techniques and/or solutions for data collection, management, and usage\\nYou will communicate results in a comprehensible manner to all levels of the company (field teams up to Snr. Management) - this will require client facing in the future - but not initially\\nYou will brainstorm with other team members and leadership - who has 30 plus years experience in the industry that requires the solution.\\nRequirements:\\n\\nPHD or MS in Statistics, Machine Learning, or Computer Science (or technical degree with commensurate industry experience)\\nIdeally the Senior position will possess at least 3 years of relevant work - or academic academic experience, as a Data Scientist / Machine Learning professional.\\nExpertise in NLP a bonus\\nStrong algorithmic design skills\\nOther positions require less tenure, but the same relevant ML understanding.\\nPrevious hands on experience, or thesis dedicated to the same\\nDeep understanding of classic machine learning and deep learning theory, and extensive hands-on experience putting it into practice\\nExcellent understanding of machine learning algorithms, processes, tools and platforms including CNN, RNN, NLP, tensorflow, keras, etc.\\nPython proficiency is must\\nApplied experience with machine learning on large datasets\\\\sparse data with structured and unstructured data.\\nExperience with deep learning, and their optimizations for efficient implementation.\\nGreat communication skills, ability to explain predictive analytics to non-technical audience (not client facing yet, and no sales)\\nExperienced in predictive modelling.\\nExecute analytical experiments methodically while outputting reproducible research.\\nExcited to change an industry struggling to control costs.\\nGood to have – Familiar with one or more programming languages e.g. C++ / Java / Android / iOS\".\\nJob Types: Full-time, Part-time, Internship, Contract\\n\\nSalary: $75,000.00 to $125,000.00 /year\\n\\nEducation:\\n\\nMaster\\'s (Preferred)\\nWork authorization:\\n\\nUnited States (Preferred)\\nHours per week:\\n\\n30-39\\nOvertime often available:\\n\\nNo\\nContract Length:\\n\\nMore than 1 year\\nTypical end time:\\n\\n5PM', \"$96,970 - $148,967 a year\\nThe professionals at the National Security Agency (NSA) have one common goal: to protect our nation. The mission requires a strong offense and a steadfast defense. The offense collects, processes, and disseminates intelligence information derived from foreign signals for intelligence and counterintelligence purposes. The defense prevents adversaries from gaining access to sensitive classified national security information. NSA is the nation's leader in providing foreign signals intelligence while also protecting U.S. government information systems, forging the frontier of communications, and data analysis. We serve the American people by applying technical skills to meaningful work, keeping our friends and families safe for generations to come. You will make a lasting impact serving your country as a Data Scientist at the National Security Agency, using your curiosity to analyze large data sets to inform decision-making against foreign threats. We are looking for critical thinkers, problem solvers, and motivated individuals who are enthusiastic about data and believe that answers to hard questions lie in the yet-to-be-told story of diverse, complicated data sets. You will employ your mathematical science, computer science, and quantitative analysis skills to ensure solutions to complex data problems and take full advantage of the NSA's software and hardware capabilities in all areas of our enterprise, including analytic capabilities, research, and foreign intelligence operations. Data Scientists are hired into positions directly supporting a technical mission office or the Data Scientist Development Program (DSDP). The NSA/CSS Data Scientist Development Program is a three-year opportunity to build your data science talent, experience the breadth of data science at NSA through six- to nine-month assignments in a variety of diverse organizations, and collaborate with NSA's experts in the field of data science. You will have opportunities to attend technical conferences with experts from industry and academia. You will routinely discuss and share NSA's challenges and successes at weekly technical roundtables. We foster an environment where you will develop your data science skills, allowing you to quickly contribute to NSA's mission. As a member of a technical mission office or the DSDP, Data Scientists tackle challenging real-world problems leveraging big data, high-performance computing, machine learning, and a breadth of other methodologies. As a Data Scientist at NSA, responsibilities may include: - Collecting and combining data from multiple sources - Uncovering and exploring anomalous data (including metadata) - Applying the scientific process to data evaluation, performing statistical inference, and data mining - Developing analytic plans, engineer supporting algorithms, and design and implement solutions which execute analytic plans. - Designing and developing tools and techniques for analysis - Analyzing data using mathematical/statistical methods - Evaluating, documenting, and communicating research processes, analyses, and results to customers, peers, and leadership - Creating interpretable visualizations\\n\\nSkills\\n\\nThe ideal candidate is someone with a desire for continual learning and strong problem-solving, analytic and interpersonal skills. You might be a great fit for our team if any of the following describe you: - Completed a degree program in the fields of mathematics, statistics, computer science, computational sciences, or a passion for rigorous analysis of data - Tenacity, integrity, persistence, and willingness to learn - Ability to solve complex problems - Use critical thinking and reasoning to make analytic determinations - Works effectively in a collaborative environment - Strong communications skills to both technical and non-technical audiences - The desire to serve over 300 million fellow Americans and make a difference in world events\\n\\nPay, Benefits, & Work Schedule\\n\\nOn the job training, internal NSA courses, and external training will be made available based on the need and experience of the selectee. Monday - Friday, with basic 8 hr/day requirements between 0800 to 1800 (flexible)\\n\\nPosition Summary\\n\\nNSA is in search of Computer Science professionals to solve complex problems, test innovative approaches and research new solutions to storing, manipulating, and presenting information. We are looking for you to apply your computer science expertise to projects that seek to create new standards for the transformation of information. If you want to develop technologies and tools and be a part of cutting edge innovations ' join our team of experts! Help protect national security interests as part of the world's most advanced team of computer science professionals!\\n\\nMandatory Qualification Reqs\\n\\nCandidates for the NSA's Data Scientist roles are asked to complete a data science examination evaluating their knowledge of statistics, mathematics, and computer science topics that pertain to data science work. Passing this examination is a requirement in order to be considered for selection into a data scientist position. Salary Range: $69,545 - $86,659 (Entry Level/Developmental) *The qualifications listed are the minimum acceptable to be considered for the position. Salary offers are based on candidates' education level and years of experience relevant to the position and also take into account information provided by the hiring manager/organization regarding the work level for the position. Entry is with a Bachelor's degree and no experience. An Associate's degree plus 2 years of relevant experience may be considered for individuals with in-depth experience that is clearly related to the position. Degree must be in Mathematics, Applied Mathematics, Statistics, Applied Statistics, Machine Learning, Data Science, Operations Research, or Computer Science. A degree in a related field (e.g., Computer Information Systems, Engineering), a degree in the physical/hard sciences (e.g. physics, chemistry, biology, astronomy), or other science disciplines (i.e., behavioral, social, and life) may be considered if it includes a concentration of coursework (typically 5 or more courses) in advanced mathematics (typically 200 level or higher; such as calculus, differential equations, discrete mathematics) and/or computer science (e.g., algorithms, programming, data structures, data mining, artificial intelligence). College-level Algebra or other math courses intended to meet a basic college level requirement, or upper level math courses designated as elementary or basic do not count. Note: A broader range of degrees will be considered if accompanied by a Certificate in Data Science from an accredited college/university.\\n\\nRelevant experience must be in designing/implementing machine learning, data mining, advanced analytical algorithms, programming, data science, advanced statistical analysis, artificial intelligence, and/or software engineering. Experience in more than one area is strongly preferred. Salary Range: $80,445 - $107,140 (Full Performance) *The qualifications listed are the minimum acceptable to be considered for the position. Salary offers are based on candidates' education level and years of experience relevant to the position and also take into account information provided by the hiring manager/organization regarding the work level for the position. Entry is with a Bachelor's degree plus 3 years of relevant experience or a Master's degree plus 1 year of relevant experience or a Doctoral degree and no experience. An Associate's degree plus 5 years of relevant experience may be considered for individuals with in-depth experience that is clearly related to the position.\\nDegree must be in Mathematics, Applied Mathematics, Statistics, Applied Statistics, Machine Learning, Data Science, Operations Research, or Computer Science. A degree in a related field (e.g., Computer Information Systems, Engineering), a degree in the physical/hard sciences (e.g. physics, chemistry, biology, astronomy), or other science disciplines (i.e., behavioral, social, and life) may be considered if it includes a concentration of coursework (typically 5 or more courses) in advanced mathematics (typically 200 level or higher; such as calculus, differential equations, discrete mathematics) and/or computer science (e.g., algorithms, programming, data structures, data mining, artificial intelligence). College-level Algebra or other math courses intended to meet a basic college level requirement, or upper level math courses designated as elementary or basic do not count. Note: A broader range of degrees will be considered if accompanied by a Certificate in Data Science from an accredited college/university. Relevant experience must be in two or more of the following: designing/implementing machine learning, data mining, advanced analytical algorithms, programming, data science, advanced statistical analysis, artificial intelligence, or software engineering. Salary Range: $96,970 - $148,967 (Senior) *The qualifications listed are the minimum acceptable to be considered for the position. Salary offers are based on candidates' education level and years of experience relevant to the position and also take into account information provided by the hiring manager/organization regarding the work level for the position. Entry is with a Bachelor's degree plus 6 years of relevant experience or a Master's degree plus 4 years of relevant experience or a Doctoral degree plus 2 years of relevant experience. An Associate's degree plus 8 years of relevant experience may be considered for individuals with in-depth experience that is clearly related to the position. Degree must be in Mathematics, Applied Mathematics, Statistics, Applied Statistics, Machine Learning, Data Science, Operations Research, or Computer Science. A degree in a related field (e.g., Computer Information Systems, Engineering), a degree in the physical/hard sciences (e.g., physics, chemistry, biology, astronomy), or other science disciplines (i.e., behavioral, social, life) may be considered if it includes a concentration of coursework (typically 5 or more courses) in advanced mathematics (typically 200 level or higher; such as calculus, differential equations, discrete mathematics) and/or computer science (e.g., algorithms, programming, data structures, data mining, artificial intelligence). College-level Algebra or other math courses intended to meet a basic college level requirement, or upper level math courses designated as elementary or basic do not count. Note: A broader range of degrees will be considered if accompanied by a Certificate in Data Science from an accredited college/university. Relevant experience must be in two or more of the following: designing/implementing machine learning, data mining, advanced analytical algorithms, programming, data science, advanced statistical analysis, artificial intelligence, or software engineering. Salary Range: $134,789- $164,200 (Expert) *The qualifications listed are the minimum acceptable to be considered for the position. Salary offers are based on candidates' education level and years of experience relevant to the position and also take into account information provided by the hiring manager/organization regarding the work level for the position. Entry is with a Bachelor's degree plus 9 years of relevant experience or a Master's degree plus 7 years of relevant experience or a Doctoral degree plus 5 years of relevant experience. An Associate's degree plus 11 years of relevant experience may be considered for individuals with in-depth experience that is clearly related to the position. Degree must be in Mathematics, Applied Mathematics, Statistics, Applied Statistics, Machine Learning, Data Science, Operations Research, or Computer Science. A degree in a related field (e.g., Computer Information Systems, Engineering), a degree in the physical/hard sciences (e.g., physics, chemistry, biology, astronomy), or other science disciplines (i.e., behavioral, social, life) may be considered if it includes a concentration of coursework (typically 5 or more courses) in advanced mathematics (typically 200 level or higher; such as calculus, differential equations, discrete mathematics) and/or computer science (e.g., algorithms, programming, data structures, data mining, artificial intelligence). College-level Algebra or other math courses intended to meet a basic college level requirement, or upper level math courses designated as elementary or basic do not count. Note: A broader range of degrees will be considered if accompanied by a Certificate in Data Science from an accredited college/university. Relevant experience must be in two or more of the following: designing/implementing machine learning, data mining, advanced analytical algorithms, programming, data science, advanced statistical analysis, artificial intelligence, or software engineering.\\n\\nHow To Apply - External\\n\\nTo apply for this position, please click the 'Apply' button located at the top right of this posting. After completing the application for the first time, or reviewing previously entered information, and clicking the 'Submit' button, you will receive a confirmation email. Please ensure your spam filters are configured to accept emails from noreply@intelligencecareers.gov. ***PLEASE NOTE: U.S. Citizenship is required for all applicants. Reasonable accommodations provided to applicants with disabilities during the application and hiring process where appropriate. NSA is an equal opportunity employer and abides by applicable employment laws and regulations. All applicants and employees are subject to random drug testing in accordance with Executive Order 12564. Employment is contingent upon successful completion of a security background investigation and polygraph. This position is a Defense Civilian Intelligence Personnel System (DCIPS) position in the Excepted Service under 10 U.S.C. 1601. DoD Components with DCIPS positions apply Veterans' Preference to eligible candidates as defined by Section 2108 of Title 5 USC, in accordance with the procedures provided in DoD Instruction 1400.25, Volume 2005, DCIPS Employment and Placement. If you are a veteran claiming veterans' preference, as defined by Section 2108 of Title 5 U.S.C., you may be asked to submit documents verifying your eligibility. Please note that you may be asked a series of questions depending on the position you apply for. Your responses will be used as part of the screening process of your application and will assist in determining your eligibility for the position. Be sure to elaborate on experiences in your resume. Failure to provide the required information or providing inaccurate information will result in your application not being considered for this position. Only those applicants who meet the qualifications for the position will be contacted to begin employment processing. Please Note: Job Posting could close earlier than the closing date due to sufficient number of applicants or position no longer available. We encourage you to apply as soon as possible.\\n\\nDCIPS Disclaimer\\n\\nThe National Security Agency (NSA) is part of the DoD Intelligence Community Defense Civilian Intelligence Personnel System (DCIPS). All positions in the NSA are in the Excepted Services under 10 United States Codes (USC) 1601 appointment authority.\", '\\nMinneapolis, Providence or Framingham\\n\\nWho is Virgin Pulse?\\nVirgin Pulse, founded as part of Sir Richard Branson’s famed Virgin Group, helps organizations build employee health and wellbeing into the DNA of their corporate cultures. As the only company to deliver a powerful, mobile-first digital platform infused with live services, including coaching and biometric screenings, Virgin Pulse’s takes a high-tech-meets-high-touch-approach to engage employees in improving across all aspects of their health and wellbeing, every day – from prevention and building a healthy lifestyle to condition and disease management to condition reversal, all while engaging users daily in building and sustaining healthy habits and behaviors. A global leader in health and wellbeing, Virgin Pulse is committed to helping change lives and businesses around the world for good so that people and organizations can thrive, together. Today, more than 3100 organizations across the globe are using Virgin Pulse’s solutions to improve health, employee wellbeing and engagement, reduce costs and create strong workplace cultures.\\n\\nWho are our employees?\\nAt Virgin Pulse we’re passionate about changing lives for good. We want to make a difference in the world by helping people be healthy so they can perform at their best, every day, at work and home. Our award-winning solutions support leading employers in improving and simplifying the employee health and wellbeing journey and engaging people in all aspects of their health. But our world-class products and programs are nothing without our people – the employees who design, build, promote, sell, test and perfect the latest innovations in workplace health and wellbeing. Our people are our top priority and we invest in their health and happiness. At Virgin Pulse, we have so much more than a strong, supportive company culture – have a shared vision for a healthier, happier world.\\nWho you are.\\nYou are an experienced Data Scientist who is capable of providing support to our organization’s efforts to maintain an innovative leadership position in the employee engagement SaaS industry. The Data Scientist accesses datasets from various sources, conducts analysis, and presents the findings of each analytic and reporting project. The incumbent will be able to interpret the findings and clearly communicate results and recommendations to internal and external customers. Moreover, you are a professional who is self-directed and thrives working in a fast-paced, collaborative environment, in which expectations are high both for the quality and speed of work.\\nIn the role of a Data Scientist you will wear many hats and your skills will be crucial in the following:\\nWrite SQL, R, Python programs to access, clean, and transform required data prior to analysis and reporting\\nConsult to and collaborate with analytics and client reporting team members to ensure appropriate data is analyzed and that results are provided in a format consistent with standard and customized client reporting services\\nTroubleshoot and perform data audits to ensure and improve data integrity; investigate and resolve data discrepancies\\nPlan and manage data analytic and reporting process to ensure the projects remain on schedule\\nConduct ad hoc analysis as required using varied analytical tools and techniques\\nSupport Client Success, sales and Marketing staff with direct communication with Virgin Pulse clients and prospects regarding the results of the analysis\\nAchieve annual Key Performance Indicator objectives, which can include report volumes and scope, internal and external client satisfaction, introducing new areas of data and analysis, and influencing company product and process decisions\\n\\nWhat you bring to the team.\\nIn order to represent the best of what we have to offer, you come to us with a multitude of positive attributes including:\\nA bachelor’s degree in statistics, computer science, economics, or related field; Master’s degree is a plus\\nA minimum of four years of work experience in a similar position\\nExperience with data and analytic programming languages such as SQL, R, Python\\nExperience with data visualization tools and techniques preferred\\nExperience with producing and delivering results using varied media (i.e., multiple MS office formats, dashboards/visualization tools, and potentially other formats)\\nExperience in employee health management/health engagement industry preferred\\n\\nIn addition, you possess the following additional competencies and characteristics:\\nStrong analytical skills, with an emphasis on quantitative analysis, descriptive and inferential statistics\\nExpertise in statistical analytical software, or the ability to learn through prior experience tools such as SAS, Stata, R, SPSS or similar statistical software\\nStrong consulting, communication and presentation skills\\nAdvanced R, SQL and database programming skills, experience with MS SQL Server, RedShift, Postgres, and Cassandra/NOSQL databases\\nExperience working with large-scale datasets and multiple projects simultaneously\\nCreative energy, self-starter, works equally well independently and collaboratively']"
      ],
      "execution_count": 0,
      "outputs": []
    },
    {
      "metadata": {
        "id": "fRpADX7ezjFb",
        "colab_type": "code",
        "outputId": "30fe36b9-4f4e-41d8-ad3b-d0658be12835",
        "colab": {
          "base_uri": "https://localhost:8080/",
          "height": 34
        }
      },
      "cell_type": "code",
      "source": [
        "### YOUR CODE HERE\n",
        "#remove_stopwords(job_listings)\n",
        "len(job_listings)\n",
        "#raise Exception(\"\\nThis task is not complete. \\nReplace this line with your code for the task.\")"
      ],
      "execution_count": 0,
      "outputs": [
        {
          "output_type": "execute_result",
          "data": {
            "text/plain": [
              "3"
            ]
          },
          "metadata": {
            "tags": []
          },
          "execution_count": 40
        }
      ]
    },
    {
      "metadata": {
        "colab_type": "text",
        "id": "Ij27L9cPizzB"
      },
      "cell_type": "markdown",
      "source": [
        "# 2. Regex + Pandas Practice\n",
        "\n",
        "Load the contents of the following text file into your notebook:\n",
        "<https://raw.githubusercontent.com/CoreyMSchafer/code_snippets/master/Python-Regular-Expressions/data.txt>\n",
        "\n",
        "If you're using Google Colab then you will have to download the raw file from github and either upload to your google drive or upload it to the notebook like we have done with CSVs in the past."
      ]
    },
    {
      "metadata": {
        "colab_type": "text",
        "id": "F1CALmvAl0pQ"
      },
      "cell_type": "markdown",
      "source": [
        "## 2.1 Make sure your notebook has access to the .txt file"
      ]
    },
    {
      "metadata": {
        "colab_type": "code",
        "id": "EdByRNWgjcPx",
        "outputId": "ad449e58-b434-4cb6-eb21-1a9ef24a34b9",
        "colab": {
          "resources": {
            "http://localhost:8080/nbextensions/google.colab/files.js": {
              "data": "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",
              "ok": true,
              "headers": [
                [
                  "content-type",
                  "application/javascript"
                ]
              ],
              "status": 200,
              "status_text": ""
            }
          },
          "base_uri": "https://localhost:8080/",
          "height": 71
        }
      },
      "cell_type": "code",
      "source": [
        "from google.colab import files\n",
        "uploaded = files.upload()"
      ],
      "execution_count": 0,
      "outputs": [
        {
          "output_type": "display_data",
          "data": {
            "text/html": [
              "\n",
              "     <input type=\"file\" id=\"files-7ab4f83e-9693-4b31-bef1-8468e2a9830b\" name=\"files[]\" multiple disabled />\n",
              "     <output id=\"result-7ab4f83e-9693-4b31-bef1-8468e2a9830b\">\n",
              "      Upload widget is only available when the cell has been executed in the\n",
              "      current browser session. Please rerun this cell to enable.\n",
              "      </output>\n",
              "      <script src=\"/nbextensions/google.colab/files.js\"></script> "
            ],
            "text/plain": [
              "<IPython.core.display.HTML object>"
            ]
          },
          "metadata": {
            "tags": []
          }
        },
        {
          "output_type": "stream",
          "text": [
            "Saving data.txt to data.txt\n"
          ],
          "name": "stdout"
        }
      ]
    },
    {
      "metadata": {
        "colab_type": "text",
        "id": "TAR7mbJsl4hK",
        "toc-hr-collapsed": true
      },
      "cell_type": "markdown",
      "source": [
        "## 2.2 Read in the contents of the file"
      ]
    },
    {
      "metadata": {
        "colab_type": "code",
        "id": "3zutl-6Dkk0f",
        "outputId": "56d0b3ec-467b-49dd-b58b-07d676192068",
        "colab": {
          "base_uri": "https://localhost:8080/",
          "height": 54
        }
      },
      "cell_type": "code",
      "source": [
        "with open('data.txt', 'r', encoding='utf-8') as f:\n",
        "  contents = f.read()\n",
        "  \n",
        "contents"
      ],
      "execution_count": 60,
      "outputs": [
        {
          "output_type": "execute_result",
          "data": {
            "text/plain": [
              "\"Dave Martin\\n615-555-7164\\n173 Main St., Springfield RI 55924\\ndavemartin@bogusemail.com\\n\\nCharles Harris\\n800-555-5669\\n969 High St., Atlantis VA 34075\\ncharlesharris@bogusemail.com\\n\\nEric Williams\\n560-555-5153\\n806 1st St., Faketown AK 86847\\nlaurawilliams@bogusemail.com\\n\\nCorey Jefferson\\n900-555-9340\\n826 Elm St., Epicburg NE 10671\\ncoreyjefferson@bogusemail.com\\n\\nJennifer Martin-White\\n714-555-7405\\n212 Cedar St., Sunnydale CT 74983\\njenniferwhite@bogusemail.com\\n\\nErick Davis\\n800-555-6771\\n519 Washington St., Olympus TN 32425\\ntomdavis@bogusemail.com\\n\\nNeil Patterson\\n783-555-4799\\n625 Oak St., Dawnstar IL 61914\\nneilpatterson@bogusemail.com\\n\\nLaura Jefferson\\n516-555-4615\\n890 Main St., Pythonville LA 29947\\nlaurajefferson@bogusemail.com\\n\\nMaria Johnson\\n127-555-1867\\n884 High St., Braavos\\u200e ME 43597\\nmariajohnson@bogusemail.com\\n\\nMichael Arnold\\n608-555-4938\\n249 Elm St., Quahog OR 90938\\nmichaelarnold@bogusemail.com\\n\\nMichael Smith\\n568-555-6051\\n619 Park St., Winterfell VA 99000\\nmichaelsmith@bogusemail.com\\n\\nErik Stuart\\n292-555-1875\\n220 Cedar St., Lakeview NY 87282\\nrobertstuart@bogusemail.com\\n\\nLaura Martin\\n900-555-3205\\n391 High St., Smalltown WY 28362\\nlauramartin@bogusemail.com\\n\\nBarbara Martin\\n614-555-1166\\n121 Hill St., Braavos\\u200e UT 92474\\nbarbaramartin@bogusemail.com\\n\\nLinda Jackson\\n530-555-2676\\n433 Elm St., Westworld TX 61967\\nlindajackson@bogusemail.com\\n\\nEric Miller\\n470-555-2750\\n838 Main St., Balmora MT 56526\\nstevemiller@bogusemail.com\\n\\nDave Arnold\\n800-555-6089\\n732 High St., Valyria KY 97152\\ndavearnold@bogusemail.com\\n\\nJennifer Jacobs\\n880-555-8319\\n217 High St., Old-town IA 82767\\njenniferjacobs@bogusemail.com\\n\\nNeil Wilson\\n777-555-8378\\n191 Main St., Mordor IL 72160\\nneilwilson@bogusemail.com\\n\\nKurt Jackson\\n998-555-7385\\n607 Washington St., Blackwater NH 97183\\nkurtjackson@bogusemail.com\\n\\nMary Jacobs\\n800-555-7100\\n478 Oak St., Bedrock IA 58176\\nmaryjacobs@bogusemail.com\\n\\nMichael White\\n903-555-8277\\n906 Elm St., Mordor TX 89212\\nmichaelwhite@bogusemail.com\\n\\nJennifer Jenkins\\n196-555-5674\\n949 Main St., Smalltown SC 96962\\njenniferjenkins@bogusemail.com\\n\\nSam Wright\\n900-555-5118\\n835 Pearl St., Smalltown ND 77737\\nsamwright@bogusemail.com\\n\\nJohn Davis\\n905-555-1630\\n451 Lake St., Bedrock GA 34615\\njohndavis@bogusemail.com\\n\\nEric Davis\\n203-555-3475\\n419 Lake St., Balmora OR 30826\\nneildavis@bogusemail.com\\n\\nLaura Jackson\\n884-555-8444\\n443 Maple St., Quahog MS 29348\\nlaurajackson@bogusemail.com\\n\\nJohn Williams\\n904-555-8559\\n756 Hill St., Valyria KY 94854\\njohnwilliams@bogusemail.com\\n\\nMichael Martin\\n889-555-7393\\n216 High St., Olympus NV 21888\\nmichaelmartin@bogusemail.com\\n\\nMaggie Brown\\n195-555-2405\\n806 Lake St., Lakeview MD 59348\\nmaggiebrown@bogusemail.com\\n\\nErik Wilson\\n321-555-9053\\n354 Hill St., Mordor FL 74122\\nkurtwilson@bogusemail.com\\n\\nElizabeth Arnold\\n133-555-1711\\n805 Maple St., Winterfell NV 99431\\nelizabetharnold@bogusemail.com\\n\\nJane Martin\\n900-555-5428\\n418 Park St., Metropolis ID 16576\\njanemartin@bogusemail.com\\n\\nTravis Johnson\\n760-555-7147\\n749 Washington St., Braavos\\u200e SD 25668\\ntravisjohnson@bogusemail.com\\n\\nLaura Jefferson\\n391-555-6621\\n122 High St., Metropolis ME 29540\\nlaurajefferson@bogusemail.com\\n\\nTom Williams\\n932-555-7724\\n610 High St., Old-town FL 60758\\ntomwilliams@bogusemail.com\\n\\nJennifer Taylor\\n609-555-7908\\n332 Main St., Pythonville OH 78172\\njennifertaylor@bogusemail.com\\n\\nErick Wright\\n800-555-8810\\n858 Hill St., Blackwater NC 79714\\njenniferwright@bogusemail.com\\n\\nSteve Doe\\n149-555-7657\\n441 Elm St., Atlantis MS 87195\\nstevedoe@bogusemail.com\\n\\nKurt Davis\\n130-555-9709\\n404 Oak St., Atlantis ND 85386\\nkurtdavis@bogusemail.com\\n\\nCorey Harris\\n143-555-9295\\n286 Pearl St., Vice City TX 57112\\ncoreyharris@bogusemail.com\\n\\nNicole Taylor\\n903-555-9878\\n465 Hill St., Old-town LA 64102\\nnicoletaylor@bogusemail.com\\n\\nElizabeth Davis\\n574-555-3194\\n151 Lake St., Eerie SD 17880\\nelizabethdavis@bogusemail.com\\n\\nMaggie Jenkins\\n496-555-7533\\n504 Lake St., Gotham PA 46692\\nmaggiejenkins@bogusemail.com\\n\\nLinda Davis\\n210-555-3757\\n201 Pine St., Vice City AR 78455\\nlindadavis@bogusemail.com\\n\\nDave Moore\\n900-555-9598\\n251 Pine St., Old-town OK 29087\\ndavemoore@bogusemail.com\\n\\nLinda Jenkins\\n866-555-9844\\n117 High St., Bedrock NE 11899\\nlindajenkins@bogusemail.com\\n\\nEric White\\n669-555-7159\\n650 Oak St., Smalltown TN 43281\\nsamwhite@bogusemail.com\\n\\nLaura Robinson\\n152-555-7417\\n377 Pine St., Valyria NC 78036\\nlaurarobinson@bogusemail.com\\n\\nCharles Patterson\\n893-555-9832\\n416 Pearl St., Valyria AK 62260\\ncharlespatterson@bogusemail.com\\n\\nJoe Jackson\\n217-555-7123\\n683 Cedar St., South Park KS 66724\\njoejackson@bogusemail.com\\n\\nMichael Johnson\\n786-555-6544\\n288 Hill St., Smalltown AZ 18586\\nmichaeljohnson@bogusemail.com\\n\\nCorey Miller\\n780-555-2574\\n286 High St., Springfield IA 16272\\ncoreymiller@bogusemail.com\\n\\nJames Moore\\n926-555-8735\\n278 Main St., Gotham KY 89569\\njamesmoore@bogusemail.com\\n\\nJennifer Stuart\\n895-555-3539\\n766 Hill St., King's Landing GA 54999\\njenniferstuart@bogusemail.com\\n\\nCharles Martin\\n874-555-3949\\n775 High St., Faketown PA 89260\\ncharlesmartin@bogusemail.com\\n\\nEric Wilks\\n800-555-2420\\n885 Main St., Blackwater OH 61275\\njoewilks@bogusemail.com\\n\\nElizabeth Arnold\\n936-555-6340\\n528 Hill St., Atlantis NH 88289\\nelizabetharnold@bogusemail.com\\n\\nJohn Miller\\n372-555-9809\\n117 Cedar St., Thundera NM 75205\\njohnmiller@bogusemail.com\\n\\nCorey Jackson\\n890-555-5618\\n115 Oak St., Gotham UT 36433\\ncoreyjackson@bogusemail.com\\n\\nSam Thomas\\n670-555-3005\\n743 Lake St., Springfield MS 25473\\nsamthomas@bogusemail.com\\n\\nPatricia Thomas\\n509-555-5997\\n381 Hill St., Blackwater CT 30958\\npatriciathomas@bogusemail.com\\n\\nJennifer Davis\\n721-555-5632\\n125 Main St., Smalltown MT 62155\\njenniferdavis@bogusemail.com\\n\\nPatricia Brown\\n900-555-3567\\n292 Hill St., Gotham WV 57680\\npatriciabrown@bogusemail.com\\n\\nBarbara Williams\\n147-555-6830\\n514 Park St., Balmora NV 55462\\nbarbarawilliams@bogusemail.com\\n\\nJames Taylor\\n582-555-3426\\n776 Hill St., Dawnstar MA 51312\\njamestaylor@bogusemail.com\\n\\nEric Harris\\n400-555-1706\\n421 Elm St., Smalltown NV 72025\\nbarbaraharris@bogusemail.com\\n\\nTravis Anderson\\n525-555-1793\\n937 Cedar St., Thundera WA 78862\\ntravisanderson@bogusemail.com\\n\\nSam Robinson\\n317-555-6700\\n417 Pine St., Lakeview MD 13147\\nsamrobinson@bogusemail.com\\n\\nSteve Robinson\\n974-555-8301\\n478 Park St., Springfield NM 92369\\nsteverobinson@bogusemail.com\\n\\nMary Wilson\\n800-555-3216\\n708 Maple St., Braavos\\u200e UT 29551\\nmarywilson@bogusemail.com\\n\\nSam Wilson\\n746-555-4094\\n557 Pearl St., Westworld KS 23225\\nsamwilson@bogusemail.com\\n\\nCharles Jones\\n922-555-1773\\n855 Hill St., Olympus HI 81427\\ncharlesjones@bogusemail.com\\n\\nLaura Brown\\n711-555-4427\\n980 Maple St., Smalltown MO 96421\\nlaurabrown@bogusemail.com\\n\\nTom Harris\\n355-555-1872\\n676 Hill St., Blackwater AR 96698\\ntomharris@bogusemail.com\\n\\nPatricia Taylor\\n852-555-6521\\n588 Pine St., Olympus FL 98412\\npatriciataylor@bogusemail.com\\n\\nBarbara Williams\\n691-555-5773\\n351 Elm St., Sunnydale GA 26245\\nbarbarawilliams@bogusemail.com\\n\\nMaggie Johnson\\n332-555-5441\\n948 Cedar St., Quahog DE 56449\\nmaggiejohnson@bogusemail.com\\n\\nKurt Miller\\n900-555-7755\\n381 Hill St., Quahog AL 97503\\nkurtmiller@bogusemail.com\\n\\nNeil Stuart\\n379-555-3685\\n496 Cedar St., Sunnydale RI 49113\\nneilstuart@bogusemail.com\\n\\nLinda Patterson\\n127-555-9682\\n736 Cedar St., Lakeview KY 47472\\nlindapatterson@bogusemail.com\\n\\nCharles Davis\\n789-555-7032\\n678 Lake St., Mordor MN 11845\\ncharlesdavis@bogusemail.com\\n\\nJennifer Jefferson\\n783-555-5135\\n289 Park St., Sunnydale WA 74526\\njenniferjefferson@bogusemail.com\\n\\nErick Taylor\\n315-555-6507\\n245 Washington St., Bedrock IL 26941\\ncoreytaylor@bogusemail.com\\n\\nRobert Wilks\\n481-555-5835\\n573 Elm St., Sunnydale IL 47182\\nrobertwilks@bogusemail.com\\n\\nTravis Jackson\\n365-555-8287\\n851 Lake St., Metropolis PA 22772\\ntravisjackson@bogusemail.com\\n\\nTravis Jackson\\n911-555-7535\\n489 Oak St., Atlantis HI 73725\\ntravisjackson@bogusemail.com\\n\\nLaura Wilks\\n681-555-2460\\n371 Pearl St., Smalltown SC 47466\\nlaurawilks@bogusemail.com\\n\\nNeil Arnold\\n274-555-9800\\n504 Oak St., Faketown PA 73860\\nneilarnold@bogusemail.com\\n\\nLinda Johnson\\n800-555-1372\\n667 High St., Balmora IN 82473\\nlindajohnson@bogusemail.com\\n\\nJennifer Wilson\\n300-555-7821\\n266 Pine St., Westworld DC 58720\\njenniferwilson@bogusemail.com\\n\\nNicole White\\n133-555-3889\\n276 High St., Braavos\\u200e IL 57764\\nnicolewhite@bogusemail.com\\n\\nMaria Arnold\\n705-555-6863\\n491 Elm St., Metropolis PA 31836\\nmariaarnold@bogusemail.com\\n\\nJennifer Davis\\n215-555-9449\\n859 Cedar St., Old-town MT 31169\\njenniferdavis@bogusemail.com\\n\\nMary Patterson\\n988-555-6112\\n956 Park St., Valyria CT 81541\\nmarypatterson@bogusemail.com\\n\\nJane Stuart\\n623-555-3006\\n983 Oak St., Old-town RI 15445\\njanestuart@bogusemail.com\\n\\nRobert Davis\\n192-555-4977\\n789 Maple St., Mordor IN 22215\\nrobertdavis@bogusemail.com\\n\\nJames Taylor\\n178-555-4899\\n439 Hill St., Olympus NV 39308\\njamestaylor@bogusemail.com\\n\\nEric Stuart\\n952-555-3089\\n777 High St., King's Landing AZ 16547\\njohnstuart@bogusemail.com\\n\\nCharles Miller\\n900-555-6426\\n207 Washington St., Blackwater MA 24886\\ncharlesmiller@bogusemail.com\\n\""
            ]
          },
          "metadata": {
            "tags": []
          },
          "execution_count": 60
        }
      ]
    },
    {
      "metadata": {
        "colab_type": "text",
        "id": "Oxxpx8l0k-wP"
      },
      "cell_type": "markdown",
      "source": [
        "## 2.3 Turn the \"unstructured\" .txt file into a \"structured\" dataframe\n",
        "Once you have read in the file's contents your task is to get this unstructured text data into a dataframe with the following headers:\n",
        "\n",
        "- First Name\n",
        "- Last Name\n",
        "- Email\n",
        "- Phone Number\n",
        "- Street Address\n",
        "- City\n",
        "- State\n",
        "- Zipcode"
      ]
    },
    {
      "metadata": {
        "colab_type": "code",
        "id": "9Xqo-GPdk-OM",
        "colab": {}
      },
      "cell_type": "code",
      "source": [
        "##### Your Code Here #####\n",
        "import re\n",
        "import pandas as pd\n",
        "data =[]\n",
        "records = re.split(\"\\n\\n\",contents)\n",
        "for record in records:\n",
        "   data.append(re.split(\"\\n\",record))\n",
        "\n",
        "data\n",
        "df = pd.DataFrame(data)\n",
        "#raise Exception(\"\\nThis task is not complete. \\nReplace this line with your code for the task.\")"
      ],
      "execution_count": 0,
      "outputs": []
    },
    {
      "metadata": {
        "id": "Db1H7hRBBLyc",
        "colab_type": "code",
        "outputId": "f8211c40-ce19-4efc-b380-017f64fdedf7",
        "colab": {
          "base_uri": "https://localhost:8080/",
          "height": 1969
        }
      },
      "cell_type": "code",
      "source": [
        "df"
      ],
      "execution_count": 62,
      "outputs": [
        {
          "output_type": "execute_result",
          "data": {
            "text/html": [
              "<div>\n",
              "<style scoped>\n",
              "    .dataframe tbody tr th:only-of-type {\n",
              "        vertical-align: middle;\n",
              "    }\n",
              "\n",
              "    .dataframe tbody tr th {\n",
              "        vertical-align: top;\n",
              "    }\n",
              "\n",
              "    .dataframe thead th {\n",
              "        text-align: right;\n",
              "    }\n",
              "</style>\n",
              "<table border=\"1\" class=\"dataframe\">\n",
              "  <thead>\n",
              "    <tr style=\"text-align: right;\">\n",
              "      <th></th>\n",
              "      <th>0</th>\n",
              "      <th>1</th>\n",
              "      <th>2</th>\n",
              "      <th>3</th>\n",
              "      <th>4</th>\n",
              "    </tr>\n",
              "  </thead>\n",
              "  <tbody>\n",
              "    <tr>\n",
              "      <th>0</th>\n",
              "      <td>Dave Martin</td>\n",
              "      <td>615-555-7164</td>\n",
              "      <td>173 Main St., Springfield RI 55924</td>\n",
              "      <td>davemartin@bogusemail.com</td>\n",
              "      <td>None</td>\n",
              "    </tr>\n",
              "    <tr>\n",
              "      <th>1</th>\n",
              "      <td>Charles Harris</td>\n",
              "      <td>800-555-5669</td>\n",
              "      <td>969 High St., Atlantis VA 34075</td>\n",
              "      <td>charlesharris@bogusemail.com</td>\n",
              "      <td>None</td>\n",
              "    </tr>\n",
              "    <tr>\n",
              "      <th>2</th>\n",
              "      <td>Eric Williams</td>\n",
              "      <td>560-555-5153</td>\n",
              "      <td>806 1st St., Faketown AK 86847</td>\n",
              "      <td>laurawilliams@bogusemail.com</td>\n",
              "      <td>None</td>\n",
              "    </tr>\n",
              "    <tr>\n",
              "      <th>3</th>\n",
              "      <td>Corey Jefferson</td>\n",
              "      <td>900-555-9340</td>\n",
              "      <td>826 Elm St., Epicburg NE 10671</td>\n",
              "      <td>coreyjefferson@bogusemail.com</td>\n",
              "      <td>None</td>\n",
              "    </tr>\n",
              "    <tr>\n",
              "      <th>4</th>\n",
              "      <td>Jennifer Martin-White</td>\n",
              "      <td>714-555-7405</td>\n",
              "      <td>212 Cedar St., Sunnydale CT 74983</td>\n",
              "      <td>jenniferwhite@bogusemail.com</td>\n",
              "      <td>None</td>\n",
              "    </tr>\n",
              "    <tr>\n",
              "      <th>5</th>\n",
              "      <td>Erick Davis</td>\n",
              "      <td>800-555-6771</td>\n",
              "      <td>519 Washington St., Olympus TN 32425</td>\n",
              "      <td>tomdavis@bogusemail.com</td>\n",
              "      <td>None</td>\n",
              "    </tr>\n",
              "    <tr>\n",
              "      <th>6</th>\n",
              "      <td>Neil Patterson</td>\n",
              "      <td>783-555-4799</td>\n",
              "      <td>625 Oak St., Dawnstar IL 61914</td>\n",
              "      <td>neilpatterson@bogusemail.com</td>\n",
              "      <td>None</td>\n",
              "    </tr>\n",
              "    <tr>\n",
              "      <th>7</th>\n",
              "      <td>Laura Jefferson</td>\n",
              "      <td>516-555-4615</td>\n",
              "      <td>890 Main St., Pythonville LA 29947</td>\n",
              "      <td>laurajefferson@bogusemail.com</td>\n",
              "      <td>None</td>\n",
              "    </tr>\n",
              "    <tr>\n",
              "      <th>8</th>\n",
              "      <td>Maria Johnson</td>\n",
              "      <td>127-555-1867</td>\n",
              "      <td>884 High St., Braavos‎ ME 43597</td>\n",
              "      <td>mariajohnson@bogusemail.com</td>\n",
              "      <td>None</td>\n",
              "    </tr>\n",
              "    <tr>\n",
              "      <th>9</th>\n",
              "      <td>Michael Arnold</td>\n",
              "      <td>608-555-4938</td>\n",
              "      <td>249 Elm St., Quahog OR 90938</td>\n",
              "      <td>michaelarnold@bogusemail.com</td>\n",
              "      <td>None</td>\n",
              "    </tr>\n",
              "    <tr>\n",
              "      <th>10</th>\n",
              "      <td>Michael Smith</td>\n",
              "      <td>568-555-6051</td>\n",
              "      <td>619 Park St., Winterfell VA 99000</td>\n",
              "      <td>michaelsmith@bogusemail.com</td>\n",
              "      <td>None</td>\n",
              "    </tr>\n",
              "    <tr>\n",
              "      <th>11</th>\n",
              "      <td>Erik Stuart</td>\n",
              "      <td>292-555-1875</td>\n",
              "      <td>220 Cedar St., Lakeview NY 87282</td>\n",
              "      <td>robertstuart@bogusemail.com</td>\n",
              "      <td>None</td>\n",
              "    </tr>\n",
              "    <tr>\n",
              "      <th>12</th>\n",
              "      <td>Laura Martin</td>\n",
              "      <td>900-555-3205</td>\n",
              "      <td>391 High St., Smalltown WY 28362</td>\n",
              "      <td>lauramartin@bogusemail.com</td>\n",
              "      <td>None</td>\n",
              "    </tr>\n",
              "    <tr>\n",
              "      <th>13</th>\n",
              "      <td>Barbara Martin</td>\n",
              "      <td>614-555-1166</td>\n",
              "      <td>121 Hill St., Braavos‎ UT 92474</td>\n",
              "      <td>barbaramartin@bogusemail.com</td>\n",
              "      <td>None</td>\n",
              "    </tr>\n",
              "    <tr>\n",
              "      <th>14</th>\n",
              "      <td>Linda Jackson</td>\n",
              "      <td>530-555-2676</td>\n",
              "      <td>433 Elm St., Westworld TX 61967</td>\n",
              "      <td>lindajackson@bogusemail.com</td>\n",
              "      <td>None</td>\n",
              "    </tr>\n",
              "    <tr>\n",
              "      <th>15</th>\n",
              "      <td>Eric Miller</td>\n",
              "      <td>470-555-2750</td>\n",
              "      <td>838 Main St., Balmora MT 56526</td>\n",
              "      <td>stevemiller@bogusemail.com</td>\n",
              "      <td>None</td>\n",
              "    </tr>\n",
              "    <tr>\n",
              "      <th>16</th>\n",
              "      <td>Dave Arnold</td>\n",
              "      <td>800-555-6089</td>\n",
              "      <td>732 High St., Valyria KY 97152</td>\n",
              "      <td>davearnold@bogusemail.com</td>\n",
              "      <td>None</td>\n",
              "    </tr>\n",
              "    <tr>\n",
              "      <th>17</th>\n",
              "      <td>Jennifer Jacobs</td>\n",
              "      <td>880-555-8319</td>\n",
              "      <td>217 High St., Old-town IA 82767</td>\n",
              "      <td>jenniferjacobs@bogusemail.com</td>\n",
              "      <td>None</td>\n",
              "    </tr>\n",
              "    <tr>\n",
              "      <th>18</th>\n",
              "      <td>Neil Wilson</td>\n",
              "      <td>777-555-8378</td>\n",
              "      <td>191 Main St., Mordor IL 72160</td>\n",
              "      <td>neilwilson@bogusemail.com</td>\n",
              "      <td>None</td>\n",
              "    </tr>\n",
              "    <tr>\n",
              "      <th>19</th>\n",
              "      <td>Kurt Jackson</td>\n",
              "      <td>998-555-7385</td>\n",
              "      <td>607 Washington St., Blackwater NH 97183</td>\n",
              "      <td>kurtjackson@bogusemail.com</td>\n",
              "      <td>None</td>\n",
              "    </tr>\n",
              "    <tr>\n",
              "      <th>20</th>\n",
              "      <td>Mary Jacobs</td>\n",
              "      <td>800-555-7100</td>\n",
              "      <td>478 Oak St., Bedrock IA 58176</td>\n",
              "      <td>maryjacobs@bogusemail.com</td>\n",
              "      <td>None</td>\n",
              "    </tr>\n",
              "    <tr>\n",
              "      <th>21</th>\n",
              "      <td>Michael White</td>\n",
              "      <td>903-555-8277</td>\n",
              "      <td>906 Elm St., Mordor TX 89212</td>\n",
              "      <td>michaelwhite@bogusemail.com</td>\n",
              "      <td>None</td>\n",
              "    </tr>\n",
              "    <tr>\n",
              "      <th>22</th>\n",
              "      <td>Jennifer Jenkins</td>\n",
              "      <td>196-555-5674</td>\n",
              "      <td>949 Main St., Smalltown SC 96962</td>\n",
              "      <td>jenniferjenkins@bogusemail.com</td>\n",
              "      <td>None</td>\n",
              "    </tr>\n",
              "    <tr>\n",
              "      <th>23</th>\n",
              "      <td>Sam Wright</td>\n",
              "      <td>900-555-5118</td>\n",
              "      <td>835 Pearl St., Smalltown ND 77737</td>\n",
              "      <td>samwright@bogusemail.com</td>\n",
              "      <td>None</td>\n",
              "    </tr>\n",
              "    <tr>\n",
              "      <th>24</th>\n",
              "      <td>John Davis</td>\n",
              "      <td>905-555-1630</td>\n",
              "      <td>451 Lake St., Bedrock GA 34615</td>\n",
              "      <td>johndavis@bogusemail.com</td>\n",
              "      <td>None</td>\n",
              "    </tr>\n",
              "    <tr>\n",
              "      <th>25</th>\n",
              "      <td>Eric Davis</td>\n",
              "      <td>203-555-3475</td>\n",
              "      <td>419 Lake St., Balmora OR 30826</td>\n",
              "      <td>neildavis@bogusemail.com</td>\n",
              "      <td>None</td>\n",
              "    </tr>\n",
              "    <tr>\n",
              "      <th>26</th>\n",
              "      <td>Laura Jackson</td>\n",
              "      <td>884-555-8444</td>\n",
              "      <td>443 Maple St., Quahog MS 29348</td>\n",
              "      <td>laurajackson@bogusemail.com</td>\n",
              "      <td>None</td>\n",
              "    </tr>\n",
              "    <tr>\n",
              "      <th>27</th>\n",
              "      <td>John Williams</td>\n",
              "      <td>904-555-8559</td>\n",
              "      <td>756 Hill St., Valyria KY 94854</td>\n",
              "      <td>johnwilliams@bogusemail.com</td>\n",
              "      <td>None</td>\n",
              "    </tr>\n",
              "    <tr>\n",
              "      <th>28</th>\n",
              "      <td>Michael Martin</td>\n",
              "      <td>889-555-7393</td>\n",
              "      <td>216 High St., Olympus NV 21888</td>\n",
              "      <td>michaelmartin@bogusemail.com</td>\n",
              "      <td>None</td>\n",
              "    </tr>\n",
              "    <tr>\n",
              "      <th>29</th>\n",
              "      <td>Maggie Brown</td>\n",
              "      <td>195-555-2405</td>\n",
              "      <td>806 Lake St., Lakeview MD 59348</td>\n",
              "      <td>maggiebrown@bogusemail.com</td>\n",
              "      <td>None</td>\n",
              "    </tr>\n",
              "    <tr>\n",
              "      <th>...</th>\n",
              "      <td>...</td>\n",
              "      <td>...</td>\n",
              "      <td>...</td>\n",
              "      <td>...</td>\n",
              "      <td>...</td>\n",
              "    </tr>\n",
              "    <tr>\n",
              "      <th>70</th>\n",
              "      <td>Mary Wilson</td>\n",
              "      <td>800-555-3216</td>\n",
              "      <td>708 Maple St., Braavos‎ UT 29551</td>\n",
              "      <td>marywilson@bogusemail.com</td>\n",
              "      <td>None</td>\n",
              "    </tr>\n",
              "    <tr>\n",
              "      <th>71</th>\n",
              "      <td>Sam Wilson</td>\n",
              "      <td>746-555-4094</td>\n",
              "      <td>557 Pearl St., Westworld KS 23225</td>\n",
              "      <td>samwilson@bogusemail.com</td>\n",
              "      <td>None</td>\n",
              "    </tr>\n",
              "    <tr>\n",
              "      <th>72</th>\n",
              "      <td>Charles Jones</td>\n",
              "      <td>922-555-1773</td>\n",
              "      <td>855 Hill St., Olympus HI 81427</td>\n",
              "      <td>charlesjones@bogusemail.com</td>\n",
              "      <td>None</td>\n",
              "    </tr>\n",
              "    <tr>\n",
              "      <th>73</th>\n",
              "      <td>Laura Brown</td>\n",
              "      <td>711-555-4427</td>\n",
              "      <td>980 Maple St., Smalltown MO 96421</td>\n",
              "      <td>laurabrown@bogusemail.com</td>\n",
              "      <td>None</td>\n",
              "    </tr>\n",
              "    <tr>\n",
              "      <th>74</th>\n",
              "      <td>Tom Harris</td>\n",
              "      <td>355-555-1872</td>\n",
              "      <td>676 Hill St., Blackwater AR 96698</td>\n",
              "      <td>tomharris@bogusemail.com</td>\n",
              "      <td>None</td>\n",
              "    </tr>\n",
              "    <tr>\n",
              "      <th>75</th>\n",
              "      <td>Patricia Taylor</td>\n",
              "      <td>852-555-6521</td>\n",
              "      <td>588 Pine St., Olympus FL 98412</td>\n",
              "      <td>patriciataylor@bogusemail.com</td>\n",
              "      <td>None</td>\n",
              "    </tr>\n",
              "    <tr>\n",
              "      <th>76</th>\n",
              "      <td>Barbara Williams</td>\n",
              "      <td>691-555-5773</td>\n",
              "      <td>351 Elm St., Sunnydale GA 26245</td>\n",
              "      <td>barbarawilliams@bogusemail.com</td>\n",
              "      <td>None</td>\n",
              "    </tr>\n",
              "    <tr>\n",
              "      <th>77</th>\n",
              "      <td>Maggie Johnson</td>\n",
              "      <td>332-555-5441</td>\n",
              "      <td>948 Cedar St., Quahog DE 56449</td>\n",
              "      <td>maggiejohnson@bogusemail.com</td>\n",
              "      <td>None</td>\n",
              "    </tr>\n",
              "    <tr>\n",
              "      <th>78</th>\n",
              "      <td>Kurt Miller</td>\n",
              "      <td>900-555-7755</td>\n",
              "      <td>381 Hill St., Quahog AL 97503</td>\n",
              "      <td>kurtmiller@bogusemail.com</td>\n",
              "      <td>None</td>\n",
              "    </tr>\n",
              "    <tr>\n",
              "      <th>79</th>\n",
              "      <td>Neil Stuart</td>\n",
              "      <td>379-555-3685</td>\n",
              "      <td>496 Cedar St., Sunnydale RI 49113</td>\n",
              "      <td>neilstuart@bogusemail.com</td>\n",
              "      <td>None</td>\n",
              "    </tr>\n",
              "    <tr>\n",
              "      <th>80</th>\n",
              "      <td>Linda Patterson</td>\n",
              "      <td>127-555-9682</td>\n",
              "      <td>736 Cedar St., Lakeview KY 47472</td>\n",
              "      <td>lindapatterson@bogusemail.com</td>\n",
              "      <td>None</td>\n",
              "    </tr>\n",
              "    <tr>\n",
              "      <th>81</th>\n",
              "      <td>Charles Davis</td>\n",
              "      <td>789-555-7032</td>\n",
              "      <td>678 Lake St., Mordor MN 11845</td>\n",
              "      <td>charlesdavis@bogusemail.com</td>\n",
              "      <td>None</td>\n",
              "    </tr>\n",
              "    <tr>\n",
              "      <th>82</th>\n",
              "      <td>Jennifer Jefferson</td>\n",
              "      <td>783-555-5135</td>\n",
              "      <td>289 Park St., Sunnydale WA 74526</td>\n",
              "      <td>jenniferjefferson@bogusemail.com</td>\n",
              "      <td>None</td>\n",
              "    </tr>\n",
              "    <tr>\n",
              "      <th>83</th>\n",
              "      <td>Erick Taylor</td>\n",
              "      <td>315-555-6507</td>\n",
              "      <td>245 Washington St., Bedrock IL 26941</td>\n",
              "      <td>coreytaylor@bogusemail.com</td>\n",
              "      <td>None</td>\n",
              "    </tr>\n",
              "    <tr>\n",
              "      <th>84</th>\n",
              "      <td>Robert Wilks</td>\n",
              "      <td>481-555-5835</td>\n",
              "      <td>573 Elm St., Sunnydale IL 47182</td>\n",
              "      <td>robertwilks@bogusemail.com</td>\n",
              "      <td>None</td>\n",
              "    </tr>\n",
              "    <tr>\n",
              "      <th>85</th>\n",
              "      <td>Travis Jackson</td>\n",
              "      <td>365-555-8287</td>\n",
              "      <td>851 Lake St., Metropolis PA 22772</td>\n",
              "      <td>travisjackson@bogusemail.com</td>\n",
              "      <td>None</td>\n",
              "    </tr>\n",
              "    <tr>\n",
              "      <th>86</th>\n",
              "      <td>Travis Jackson</td>\n",
              "      <td>911-555-7535</td>\n",
              "      <td>489 Oak St., Atlantis HI 73725</td>\n",
              "      <td>travisjackson@bogusemail.com</td>\n",
              "      <td>None</td>\n",
              "    </tr>\n",
              "    <tr>\n",
              "      <th>87</th>\n",
              "      <td>Laura Wilks</td>\n",
              "      <td>681-555-2460</td>\n",
              "      <td>371 Pearl St., Smalltown SC 47466</td>\n",
              "      <td>laurawilks@bogusemail.com</td>\n",
              "      <td>None</td>\n",
              "    </tr>\n",
              "    <tr>\n",
              "      <th>88</th>\n",
              "      <td>Neil Arnold</td>\n",
              "      <td>274-555-9800</td>\n",
              "      <td>504 Oak St., Faketown PA 73860</td>\n",
              "      <td>neilarnold@bogusemail.com</td>\n",
              "      <td>None</td>\n",
              "    </tr>\n",
              "    <tr>\n",
              "      <th>89</th>\n",
              "      <td>Linda Johnson</td>\n",
              "      <td>800-555-1372</td>\n",
              "      <td>667 High St., Balmora IN 82473</td>\n",
              "      <td>lindajohnson@bogusemail.com</td>\n",
              "      <td>None</td>\n",
              "    </tr>\n",
              "    <tr>\n",
              "      <th>90</th>\n",
              "      <td>Jennifer Wilson</td>\n",
              "      <td>300-555-7821</td>\n",
              "      <td>266 Pine St., Westworld DC 58720</td>\n",
              "      <td>jenniferwilson@bogusemail.com</td>\n",
              "      <td>None</td>\n",
              "    </tr>\n",
              "    <tr>\n",
              "      <th>91</th>\n",
              "      <td>Nicole White</td>\n",
              "      <td>133-555-3889</td>\n",
              "      <td>276 High St., Braavos‎ IL 57764</td>\n",
              "      <td>nicolewhite@bogusemail.com</td>\n",
              "      <td>None</td>\n",
              "    </tr>\n",
              "    <tr>\n",
              "      <th>92</th>\n",
              "      <td>Maria Arnold</td>\n",
              "      <td>705-555-6863</td>\n",
              "      <td>491 Elm St., Metropolis PA 31836</td>\n",
              "      <td>mariaarnold@bogusemail.com</td>\n",
              "      <td>None</td>\n",
              "    </tr>\n",
              "    <tr>\n",
              "      <th>93</th>\n",
              "      <td>Jennifer Davis</td>\n",
              "      <td>215-555-9449</td>\n",
              "      <td>859 Cedar St., Old-town MT 31169</td>\n",
              "      <td>jenniferdavis@bogusemail.com</td>\n",
              "      <td>None</td>\n",
              "    </tr>\n",
              "    <tr>\n",
              "      <th>94</th>\n",
              "      <td>Mary Patterson</td>\n",
              "      <td>988-555-6112</td>\n",
              "      <td>956 Park St., Valyria CT 81541</td>\n",
              "      <td>marypatterson@bogusemail.com</td>\n",
              "      <td>None</td>\n",
              "    </tr>\n",
              "    <tr>\n",
              "      <th>95</th>\n",
              "      <td>Jane Stuart</td>\n",
              "      <td>623-555-3006</td>\n",
              "      <td>983 Oak St., Old-town RI 15445</td>\n",
              "      <td>janestuart@bogusemail.com</td>\n",
              "      <td>None</td>\n",
              "    </tr>\n",
              "    <tr>\n",
              "      <th>96</th>\n",
              "      <td>Robert Davis</td>\n",
              "      <td>192-555-4977</td>\n",
              "      <td>789 Maple St., Mordor IN 22215</td>\n",
              "      <td>robertdavis@bogusemail.com</td>\n",
              "      <td>None</td>\n",
              "    </tr>\n",
              "    <tr>\n",
              "      <th>97</th>\n",
              "      <td>James Taylor</td>\n",
              "      <td>178-555-4899</td>\n",
              "      <td>439 Hill St., Olympus NV 39308</td>\n",
              "      <td>jamestaylor@bogusemail.com</td>\n",
              "      <td>None</td>\n",
              "    </tr>\n",
              "    <tr>\n",
              "      <th>98</th>\n",
              "      <td>Eric Stuart</td>\n",
              "      <td>952-555-3089</td>\n",
              "      <td>777 High St., King's Landing AZ 16547</td>\n",
              "      <td>johnstuart@bogusemail.com</td>\n",
              "      <td>None</td>\n",
              "    </tr>\n",
              "    <tr>\n",
              "      <th>99</th>\n",
              "      <td>Charles Miller</td>\n",
              "      <td>900-555-6426</td>\n",
              "      <td>207 Washington St., Blackwater MA 24886</td>\n",
              "      <td>charlesmiller@bogusemail.com</td>\n",
              "      <td></td>\n",
              "    </tr>\n",
              "  </tbody>\n",
              "</table>\n",
              "<p>100 rows × 5 columns</p>\n",
              "</div>"
            ],
            "text/plain": [
              "                        0             1  \\\n",
              "0             Dave Martin  615-555-7164   \n",
              "1          Charles Harris  800-555-5669   \n",
              "2           Eric Williams  560-555-5153   \n",
              "3         Corey Jefferson  900-555-9340   \n",
              "4   Jennifer Martin-White  714-555-7405   \n",
              "5             Erick Davis  800-555-6771   \n",
              "6          Neil Patterson  783-555-4799   \n",
              "7         Laura Jefferson  516-555-4615   \n",
              "8           Maria Johnson  127-555-1867   \n",
              "9          Michael Arnold  608-555-4938   \n",
              "10          Michael Smith  568-555-6051   \n",
              "11            Erik Stuart  292-555-1875   \n",
              "12           Laura Martin  900-555-3205   \n",
              "13         Barbara Martin  614-555-1166   \n",
              "14          Linda Jackson  530-555-2676   \n",
              "15            Eric Miller  470-555-2750   \n",
              "16            Dave Arnold  800-555-6089   \n",
              "17        Jennifer Jacobs  880-555-8319   \n",
              "18            Neil Wilson  777-555-8378   \n",
              "19           Kurt Jackson  998-555-7385   \n",
              "20            Mary Jacobs  800-555-7100   \n",
              "21          Michael White  903-555-8277   \n",
              "22       Jennifer Jenkins  196-555-5674   \n",
              "23             Sam Wright  900-555-5118   \n",
              "24             John Davis  905-555-1630   \n",
              "25             Eric Davis  203-555-3475   \n",
              "26          Laura Jackson  884-555-8444   \n",
              "27          John Williams  904-555-8559   \n",
              "28         Michael Martin  889-555-7393   \n",
              "29           Maggie Brown  195-555-2405   \n",
              "..                    ...           ...   \n",
              "70            Mary Wilson  800-555-3216   \n",
              "71             Sam Wilson  746-555-4094   \n",
              "72          Charles Jones  922-555-1773   \n",
              "73            Laura Brown  711-555-4427   \n",
              "74             Tom Harris  355-555-1872   \n",
              "75        Patricia Taylor  852-555-6521   \n",
              "76       Barbara Williams  691-555-5773   \n",
              "77         Maggie Johnson  332-555-5441   \n",
              "78            Kurt Miller  900-555-7755   \n",
              "79            Neil Stuart  379-555-3685   \n",
              "80        Linda Patterson  127-555-9682   \n",
              "81          Charles Davis  789-555-7032   \n",
              "82     Jennifer Jefferson  783-555-5135   \n",
              "83           Erick Taylor  315-555-6507   \n",
              "84           Robert Wilks  481-555-5835   \n",
              "85         Travis Jackson  365-555-8287   \n",
              "86         Travis Jackson  911-555-7535   \n",
              "87            Laura Wilks  681-555-2460   \n",
              "88            Neil Arnold  274-555-9800   \n",
              "89          Linda Johnson  800-555-1372   \n",
              "90        Jennifer Wilson  300-555-7821   \n",
              "91           Nicole White  133-555-3889   \n",
              "92           Maria Arnold  705-555-6863   \n",
              "93         Jennifer Davis  215-555-9449   \n",
              "94         Mary Patterson  988-555-6112   \n",
              "95            Jane Stuart  623-555-3006   \n",
              "96           Robert Davis  192-555-4977   \n",
              "97           James Taylor  178-555-4899   \n",
              "98            Eric Stuart  952-555-3089   \n",
              "99         Charles Miller  900-555-6426   \n",
              "\n",
              "                                          2                                 3  \\\n",
              "0        173 Main St., Springfield RI 55924         davemartin@bogusemail.com   \n",
              "1           969 High St., Atlantis VA 34075      charlesharris@bogusemail.com   \n",
              "2            806 1st St., Faketown AK 86847      laurawilliams@bogusemail.com   \n",
              "3            826 Elm St., Epicburg NE 10671     coreyjefferson@bogusemail.com   \n",
              "4         212 Cedar St., Sunnydale CT 74983      jenniferwhite@bogusemail.com   \n",
              "5      519 Washington St., Olympus TN 32425           tomdavis@bogusemail.com   \n",
              "6            625 Oak St., Dawnstar IL 61914      neilpatterson@bogusemail.com   \n",
              "7        890 Main St., Pythonville LA 29947     laurajefferson@bogusemail.com   \n",
              "8           884 High St., Braavos‎ ME 43597       mariajohnson@bogusemail.com   \n",
              "9              249 Elm St., Quahog OR 90938      michaelarnold@bogusemail.com   \n",
              "10        619 Park St., Winterfell VA 99000       michaelsmith@bogusemail.com   \n",
              "11         220 Cedar St., Lakeview NY 87282       robertstuart@bogusemail.com   \n",
              "12         391 High St., Smalltown WY 28362        lauramartin@bogusemail.com   \n",
              "13          121 Hill St., Braavos‎ UT 92474      barbaramartin@bogusemail.com   \n",
              "14          433 Elm St., Westworld TX 61967       lindajackson@bogusemail.com   \n",
              "15           838 Main St., Balmora MT 56526        stevemiller@bogusemail.com   \n",
              "16           732 High St., Valyria KY 97152         davearnold@bogusemail.com   \n",
              "17          217 High St., Old-town IA 82767     jenniferjacobs@bogusemail.com   \n",
              "18            191 Main St., Mordor IL 72160         neilwilson@bogusemail.com   \n",
              "19  607 Washington St., Blackwater NH 97183        kurtjackson@bogusemail.com   \n",
              "20            478 Oak St., Bedrock IA 58176         maryjacobs@bogusemail.com   \n",
              "21             906 Elm St., Mordor TX 89212       michaelwhite@bogusemail.com   \n",
              "22         949 Main St., Smalltown SC 96962    jenniferjenkins@bogusemail.com   \n",
              "23        835 Pearl St., Smalltown ND 77737          samwright@bogusemail.com   \n",
              "24           451 Lake St., Bedrock GA 34615          johndavis@bogusemail.com   \n",
              "25           419 Lake St., Balmora OR 30826          neildavis@bogusemail.com   \n",
              "26           443 Maple St., Quahog MS 29348       laurajackson@bogusemail.com   \n",
              "27           756 Hill St., Valyria KY 94854       johnwilliams@bogusemail.com   \n",
              "28           216 High St., Olympus NV 21888      michaelmartin@bogusemail.com   \n",
              "29          806 Lake St., Lakeview MD 59348        maggiebrown@bogusemail.com   \n",
              "..                                      ...                               ...   \n",
              "70         708 Maple St., Braavos‎ UT 29551         marywilson@bogusemail.com   \n",
              "71        557 Pearl St., Westworld KS 23225          samwilson@bogusemail.com   \n",
              "72           855 Hill St., Olympus HI 81427       charlesjones@bogusemail.com   \n",
              "73        980 Maple St., Smalltown MO 96421         laurabrown@bogusemail.com   \n",
              "74        676 Hill St., Blackwater AR 96698          tomharris@bogusemail.com   \n",
              "75           588 Pine St., Olympus FL 98412     patriciataylor@bogusemail.com   \n",
              "76          351 Elm St., Sunnydale GA 26245    barbarawilliams@bogusemail.com   \n",
              "77           948 Cedar St., Quahog DE 56449      maggiejohnson@bogusemail.com   \n",
              "78            381 Hill St., Quahog AL 97503         kurtmiller@bogusemail.com   \n",
              "79        496 Cedar St., Sunnydale RI 49113         neilstuart@bogusemail.com   \n",
              "80         736 Cedar St., Lakeview KY 47472     lindapatterson@bogusemail.com   \n",
              "81            678 Lake St., Mordor MN 11845       charlesdavis@bogusemail.com   \n",
              "82         289 Park St., Sunnydale WA 74526  jenniferjefferson@bogusemail.com   \n",
              "83     245 Washington St., Bedrock IL 26941        coreytaylor@bogusemail.com   \n",
              "84          573 Elm St., Sunnydale IL 47182        robertwilks@bogusemail.com   \n",
              "85        851 Lake St., Metropolis PA 22772      travisjackson@bogusemail.com   \n",
              "86           489 Oak St., Atlantis HI 73725      travisjackson@bogusemail.com   \n",
              "87        371 Pearl St., Smalltown SC 47466         laurawilks@bogusemail.com   \n",
              "88           504 Oak St., Faketown PA 73860         neilarnold@bogusemail.com   \n",
              "89           667 High St., Balmora IN 82473       lindajohnson@bogusemail.com   \n",
              "90         266 Pine St., Westworld DC 58720     jenniferwilson@bogusemail.com   \n",
              "91          276 High St., Braavos‎ IL 57764        nicolewhite@bogusemail.com   \n",
              "92         491 Elm St., Metropolis PA 31836        mariaarnold@bogusemail.com   \n",
              "93         859 Cedar St., Old-town MT 31169      jenniferdavis@bogusemail.com   \n",
              "94           956 Park St., Valyria CT 81541      marypatterson@bogusemail.com   \n",
              "95           983 Oak St., Old-town RI 15445         janestuart@bogusemail.com   \n",
              "96           789 Maple St., Mordor IN 22215        robertdavis@bogusemail.com   \n",
              "97           439 Hill St., Olympus NV 39308        jamestaylor@bogusemail.com   \n",
              "98    777 High St., King's Landing AZ 16547         johnstuart@bogusemail.com   \n",
              "99  207 Washington St., Blackwater MA 24886      charlesmiller@bogusemail.com   \n",
              "\n",
              "       4  \n",
              "0   None  \n",
              "1   None  \n",
              "2   None  \n",
              "3   None  \n",
              "4   None  \n",
              "5   None  \n",
              "6   None  \n",
              "7   None  \n",
              "8   None  \n",
              "9   None  \n",
              "10  None  \n",
              "11  None  \n",
              "12  None  \n",
              "13  None  \n",
              "14  None  \n",
              "15  None  \n",
              "16  None  \n",
              "17  None  \n",
              "18  None  \n",
              "19  None  \n",
              "20  None  \n",
              "21  None  \n",
              "22  None  \n",
              "23  None  \n",
              "24  None  \n",
              "25  None  \n",
              "26  None  \n",
              "27  None  \n",
              "28  None  \n",
              "29  None  \n",
              "..   ...  \n",
              "70  None  \n",
              "71  None  \n",
              "72  None  \n",
              "73  None  \n",
              "74  None  \n",
              "75  None  \n",
              "76  None  \n",
              "77  None  \n",
              "78  None  \n",
              "79  None  \n",
              "80  None  \n",
              "81  None  \n",
              "82  None  \n",
              "83  None  \n",
              "84  None  \n",
              "85  None  \n",
              "86  None  \n",
              "87  None  \n",
              "88  None  \n",
              "89  None  \n",
              "90  None  \n",
              "91  None  \n",
              "92  None  \n",
              "93  None  \n",
              "94  None  \n",
              "95  None  \n",
              "96  None  \n",
              "97  None  \n",
              "98  None  \n",
              "99        \n",
              "\n",
              "[100 rows x 5 columns]"
            ]
          },
          "metadata": {
            "tags": []
          },
          "execution_count": 62
        }
      ]
    },
    {
      "metadata": {
        "colab_type": "text",
        "id": "udWbMfZdimhT"
      },
      "cell_type": "markdown",
      "source": [
        "# 3. Web Scraping + Pandas\n",
        "\n",
        "Scrape the unordered list of information about Ohio University President's salaries from this article: \n",
        "[Ohio Private University President's Salaries](https://www.cleveland.com/metro/2017/12/case_western_reserve_university_president_barbara_snyders_base_salary_and_bonus_pay_tops_among_private_colleges_in_ohio.html)\n",
        "\n",
        "Get the data from this webpage into a dataframe with the following headers:\n",
        "\n",
        "- First Name\n",
        "- Last Name\n",
        "- School\n",
        "- Salary\n",
        "\n",
        "Salary information should be stored as an integer and not have \"$\" or commas \",\"\n"
      ]
    },
    {
      "metadata": {
        "colab_type": "code",
        "id": "cRq2bzEfjdLY",
        "colab": {}
      },
      "cell_type": "code",
      "source": [
        "##### Your Code Here #####\n",
        "import requests\n",
        "from bs4 import BeautifulSoup\n",
        "\n",
        "url = \"https://www.cleveland.com/metro/2017/12/case_western_reserve_university_president_barbara_snyders_base_salary_and_bonus_pay_tops_among_private_colleges_in_ohio.html\"\n",
        "\n",
        "response = requests.get(url)\n",
        "soup = BeautifulSoup(response.text, 'html.parser')\n",
        "\n",
        "#raise Exception(\"\\nThis task is not complete. \\nReplace this line with your code for the task.\")"
      ],
      "execution_count": 0,
      "outputs": []
    },
    {
      "metadata": {
        "id": "mDQSnGTzH8kh",
        "colab_type": "code",
        "colab": {}
      },
      "cell_type": "code",
      "source": [
        ""
      ],
      "execution_count": 0,
      "outputs": []
    },
    {
      "metadata": {
        "id": "gqkuy1jyGkg8",
        "colab_type": "code",
        "colab": {}
      },
      "cell_type": "code",
      "source": [
        "l = soup.find(class_=\"article__unordered-list\")"
      ],
      "execution_count": 0,
      "outputs": []
    },
    {
      "metadata": {
        "id": "R3zsKUFfIO9i",
        "colab_type": "code",
        "colab": {}
      },
      "cell_type": "code",
      "source": [
        "l = l.find_all(class_=\"article__unordered-list-item\")"
      ],
      "execution_count": 0,
      "outputs": []
    },
    {
      "metadata": {
        "id": "a7VpezdcLKpY",
        "colab_type": "code",
        "colab": {}
      },
      "cell_type": "code",
      "source": [
        "import re"
      ],
      "execution_count": 0,
      "outputs": []
    },
    {
      "metadata": {
        "id": "-9T7EtWYIk91",
        "colab_type": "code",
        "colab": {
          "base_uri": "https://localhost:8080/",
          "height": 306
        },
        "outputId": "a132b95e-e4c9-4ae5-dd65-32ea77f17f8b"
      },
      "cell_type": "code",
      "source": [
        "data=[]\n",
        "for i in l:\n",
        "  data.append(i.text)\n",
        "  \n",
        "data"
      ],
      "execution_count": 12,
      "outputs": [
        {
          "output_type": "execute_result",
          "data": {
            "text/plain": [
              "['Grant Cornwell, College of Wooster (left in 2015): $911,651',\n",
              " 'Marvin Krislov, Oberlin College (left in 2016): \\xa0$829,913',\n",
              " 'Mark Roosevelt, Antioch College, (left in 2015): $507,672',\n",
              " 'Laurie Joyner, Wittenberg University (left in 2015): $463,504',\n",
              " 'Richard Giese, University of Mount Union (left in 2015): $453,800',\n",
              " 'Sean Decatur,Kenyon College: $451,698',\n",
              " 'Adam Weinberg, Denison University: $435,322',\n",
              " 'Daniel Dibiasio, Ohio Northern University: $414,716',\n",
              " 'Denvy Bowman, Capital University (left in 2016): $388,570',\n",
              " 'Anne Steele, Muskingum University (left in 2016): $384,233',\n",
              " 'Kathy Krendl, Otterbein University: \\xa0$378,035',\n",
              " 'Rockwell Jones, Ohio Wesleyan University: $366,625',\n",
              " 'Robert Helmer, Baldwin Wallace University: $365,616',\n",
              " 'Robert Huntington, Heidelberg University: $300,005',\n",
              " 'Lori Varlotta, Hiram College: $293,336',\n",
              " 'Joseph Bruno, Marietta College (left in 2016): $288,295',\n",
              " 'W. Richard Merriman Jr., University of Mount Union (started in June 2015): $221,761']"
            ]
          },
          "metadata": {
            "tags": []
          },
          "execution_count": 12
        }
      ]
    },
    {
      "metadata": {
        "id": "yTQl9KMmKuR0",
        "colab_type": "code",
        "colab": {}
      },
      "cell_type": "code",
      "source": [
        "row_list = []\n",
        "\n",
        "for i in data:\n",
        "  name = i[:re.search(\",\",i).start()]\n",
        "  school =i[re.search(\",\",i).start()+2:re.search(\":\",i).start()]\n",
        "  salary = i[re.search(\":\",i).start()+2:]\n",
        "  d={\"Name\":name,\"School\":school,\"Salary\":salary}\n",
        "  row_list.append(d)"
      ],
      "execution_count": 0,
      "outputs": []
    },
    {
      "metadata": {
        "id": "wOD70C_LOUJg",
        "colab_type": "code",
        "colab": {}
      },
      "cell_type": "code",
      "source": [
        "import pandas as pd"
      ],
      "execution_count": 0,
      "outputs": []
    },
    {
      "metadata": {
        "id": "AaW07w6hOPBO",
        "colab_type": "code",
        "colab": {}
      },
      "cell_type": "code",
      "source": [
        "df2 = pd.DataFrame(row_list)"
      ],
      "execution_count": 0,
      "outputs": []
    },
    {
      "metadata": {
        "id": "04qsmkY3Qsx7",
        "colab_type": "code",
        "colab": {}
      },
      "cell_type": "code",
      "source": [
        "df2['Salary']=df2.Salary.str.replace(\"$\",\"\")\n",
        "df2['Salary']=df2.Salary.str.replace(\",\",\"\")\n",
        "df2['Salary'] =df2['Salary'].astype(int)"
      ],
      "execution_count": 0,
      "outputs": []
    },
    {
      "metadata": {
        "id": "u4BKvu4cOkca",
        "colab_type": "code",
        "colab": {
          "base_uri": "https://localhost:8080/",
          "height": 153
        },
        "outputId": "811cb803-cf92-45d1-f029-081c2cc46b25"
      },
      "cell_type": "code",
      "source": [
        "df2.info()"
      ],
      "execution_count": 56,
      "outputs": [
        {
          "output_type": "stream",
          "text": [
            "<class 'pandas.core.frame.DataFrame'>\n",
            "RangeIndex: 17 entries, 0 to 16\n",
            "Data columns (total 3 columns):\n",
            "Name      17 non-null object\n",
            "Salary    17 non-null int64\n",
            "School    17 non-null object\n",
            "dtypes: int64(1), object(2)\n",
            "memory usage: 488.0+ bytes\n"
          ],
          "name": "stdout"
        }
      ]
    },
    {
      "metadata": {
        "id": "ZaEdnRAzSKcB",
        "colab_type": "code",
        "colab": {
          "base_uri": "https://localhost:8080/",
          "height": 576
        },
        "outputId": "61a51e7e-bff1-4b6d-ec98-7c5f7f44e474"
      },
      "cell_type": "code",
      "source": [
        "df2"
      ],
      "execution_count": 57,
      "outputs": [
        {
          "output_type": "execute_result",
          "data": {
            "text/html": [
              "<div>\n",
              "<style scoped>\n",
              "    .dataframe tbody tr th:only-of-type {\n",
              "        vertical-align: middle;\n",
              "    }\n",
              "\n",
              "    .dataframe tbody tr th {\n",
              "        vertical-align: top;\n",
              "    }\n",
              "\n",
              "    .dataframe thead th {\n",
              "        text-align: right;\n",
              "    }\n",
              "</style>\n",
              "<table border=\"1\" class=\"dataframe\">\n",
              "  <thead>\n",
              "    <tr style=\"text-align: right;\">\n",
              "      <th></th>\n",
              "      <th>Name</th>\n",
              "      <th>Salary</th>\n",
              "      <th>School</th>\n",
              "    </tr>\n",
              "  </thead>\n",
              "  <tbody>\n",
              "    <tr>\n",
              "      <th>0</th>\n",
              "      <td>Grant Cornwell</td>\n",
              "      <td>911651</td>\n",
              "      <td>College of Wooster (left in 2015)</td>\n",
              "    </tr>\n",
              "    <tr>\n",
              "      <th>1</th>\n",
              "      <td>Marvin Krislov</td>\n",
              "      <td>829913</td>\n",
              "      <td>Oberlin College (left in 2016)</td>\n",
              "    </tr>\n",
              "    <tr>\n",
              "      <th>2</th>\n",
              "      <td>Mark Roosevelt</td>\n",
              "      <td>507672</td>\n",
              "      <td>Antioch College, (left in 2015)</td>\n",
              "    </tr>\n",
              "    <tr>\n",
              "      <th>3</th>\n",
              "      <td>Laurie Joyner</td>\n",
              "      <td>463504</td>\n",
              "      <td>Wittenberg University (left in 2015)</td>\n",
              "    </tr>\n",
              "    <tr>\n",
              "      <th>4</th>\n",
              "      <td>Richard Giese</td>\n",
              "      <td>453800</td>\n",
              "      <td>University of Mount Union (left in 2015)</td>\n",
              "    </tr>\n",
              "    <tr>\n",
              "      <th>5</th>\n",
              "      <td>Sean Decatur</td>\n",
              "      <td>451698</td>\n",
              "      <td>enyon College</td>\n",
              "    </tr>\n",
              "    <tr>\n",
              "      <th>6</th>\n",
              "      <td>Adam Weinberg</td>\n",
              "      <td>435322</td>\n",
              "      <td>Denison University</td>\n",
              "    </tr>\n",
              "    <tr>\n",
              "      <th>7</th>\n",
              "      <td>Daniel Dibiasio</td>\n",
              "      <td>414716</td>\n",
              "      <td>Ohio Northern University</td>\n",
              "    </tr>\n",
              "    <tr>\n",
              "      <th>8</th>\n",
              "      <td>Denvy Bowman</td>\n",
              "      <td>388570</td>\n",
              "      <td>Capital University (left in 2016)</td>\n",
              "    </tr>\n",
              "    <tr>\n",
              "      <th>9</th>\n",
              "      <td>Anne Steele</td>\n",
              "      <td>384233</td>\n",
              "      <td>Muskingum University (left in 2016)</td>\n",
              "    </tr>\n",
              "    <tr>\n",
              "      <th>10</th>\n",
              "      <td>Kathy Krendl</td>\n",
              "      <td>378035</td>\n",
              "      <td>Otterbein University</td>\n",
              "    </tr>\n",
              "    <tr>\n",
              "      <th>11</th>\n",
              "      <td>Rockwell Jones</td>\n",
              "      <td>366625</td>\n",
              "      <td>Ohio Wesleyan University</td>\n",
              "    </tr>\n",
              "    <tr>\n",
              "      <th>12</th>\n",
              "      <td>Robert Helmer</td>\n",
              "      <td>365616</td>\n",
              "      <td>Baldwin Wallace University</td>\n",
              "    </tr>\n",
              "    <tr>\n",
              "      <th>13</th>\n",
              "      <td>Robert Huntington</td>\n",
              "      <td>300005</td>\n",
              "      <td>Heidelberg University</td>\n",
              "    </tr>\n",
              "    <tr>\n",
              "      <th>14</th>\n",
              "      <td>Lori Varlotta</td>\n",
              "      <td>293336</td>\n",
              "      <td>Hiram College</td>\n",
              "    </tr>\n",
              "    <tr>\n",
              "      <th>15</th>\n",
              "      <td>Joseph Bruno</td>\n",
              "      <td>288295</td>\n",
              "      <td>Marietta College (left in 2016)</td>\n",
              "    </tr>\n",
              "    <tr>\n",
              "      <th>16</th>\n",
              "      <td>W. Richard Merriman Jr.</td>\n",
              "      <td>221761</td>\n",
              "      <td>University of Mount Union (started in June 2015)</td>\n",
              "    </tr>\n",
              "  </tbody>\n",
              "</table>\n",
              "</div>"
            ],
            "text/plain": [
              "                       Name  Salary  \\\n",
              "0            Grant Cornwell  911651   \n",
              "1            Marvin Krislov  829913   \n",
              "2            Mark Roosevelt  507672   \n",
              "3             Laurie Joyner  463504   \n",
              "4             Richard Giese  453800   \n",
              "5              Sean Decatur  451698   \n",
              "6             Adam Weinberg  435322   \n",
              "7           Daniel Dibiasio  414716   \n",
              "8              Denvy Bowman  388570   \n",
              "9               Anne Steele  384233   \n",
              "10             Kathy Krendl  378035   \n",
              "11           Rockwell Jones  366625   \n",
              "12            Robert Helmer  365616   \n",
              "13        Robert Huntington  300005   \n",
              "14            Lori Varlotta  293336   \n",
              "15             Joseph Bruno  288295   \n",
              "16  W. Richard Merriman Jr.  221761   \n",
              "\n",
              "                                              School  \n",
              "0                  College of Wooster (left in 2015)  \n",
              "1                     Oberlin College (left in 2016)  \n",
              "2                    Antioch College, (left in 2015)  \n",
              "3               Wittenberg University (left in 2015)  \n",
              "4           University of Mount Union (left in 2015)  \n",
              "5                                      enyon College  \n",
              "6                                 Denison University  \n",
              "7                           Ohio Northern University  \n",
              "8                  Capital University (left in 2016)  \n",
              "9                Muskingum University (left in 2016)  \n",
              "10                              Otterbein University  \n",
              "11                          Ohio Wesleyan University  \n",
              "12                        Baldwin Wallace University  \n",
              "13                             Heidelberg University  \n",
              "14                                     Hiram College  \n",
              "15                   Marietta College (left in 2016)  \n",
              "16  University of Mount Union (started in June 2015)  "
            ]
          },
          "metadata": {
            "tags": []
          },
          "execution_count": 57
        }
      ]
    },
    {
      "metadata": {
        "colab_type": "text",
        "id": "1dCb1q8XphcP",
        "toc-hr-collapsed": true
      },
      "cell_type": "markdown",
      "source": [
        "# 4. Stretch Goals\n",
        "\n",
        "* Write a web scraper that can scrape \"Data Scientist\" job listings from indeed.com.\n",
        "* Look ahead to some of the topics from later this week:\n",
        " - Tokenization\n",
        " - Stemming\n",
        " - Lemmatization\n",
        " - Chunking\n",
        " - Part of Speech Tagging\n",
        " - Named Entity Recognition\n",
        " - Document Classification"
      ]
    }
  ]
}