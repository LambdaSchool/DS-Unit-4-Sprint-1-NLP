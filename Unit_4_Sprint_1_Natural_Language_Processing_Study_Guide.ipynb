{
 "cells": [
  {
   "cell_type": "markdown",
   "metadata": {
    "colab_type": "text",
    "id": "enodNfbMIxzN"
   },
   "source": [
    "This study guide should reinforce and provide practice for all of the concepts you have seen in the past week. There are a mix of written questions and coding exercises, both are equally important to prepare you for the sprint challenge as well as to be able to speak on these topics comfortably in interviews and on the job.\n",
    "\n",
    "If you get stuck or are unsure of something remember the 20 minute rule. If that doesn't help, then research a solution with google and stackoverflow. Only once you have exausted these methods should you turn to your Team Lead - they won't be there on your SC or during an interview. That being said, don't hesitate to ask for help if you truly are stuck.\n",
    "\n",
    "Have fun studying!"
   ]
  },
  {
   "cell_type": "code",
   "execution_count": 264,
   "metadata": {
    "colab": {},
    "colab_type": "code",
    "id": "mjVNoILlDD83"
   },
   "outputs": [],
   "source": [
    "import pandas as pd"
   ]
  },
  {
   "cell_type": "code",
   "execution_count": 321,
   "metadata": {
    "colab": {
     "base_uri": "https://localhost:8080/",
     "height": 242
    },
    "colab_type": "code",
    "id": "LMQBp_ddC9CX",
    "outputId": "688a6986-7a3c-4a90-9a7d-c93f36cf7bb0"
   },
   "outputs": [
    {
     "name": "stdout",
     "output_type": "stream",
     "text": [
      "Shape: (2351, 6) \n",
      "\n"
     ]
    },
    {
     "data": {
      "text/html": [
       "<div>\n",
       "<style scoped>\n",
       "    .dataframe tbody tr th:only-of-type {\n",
       "        vertical-align: middle;\n",
       "    }\n",
       "\n",
       "    .dataframe tbody tr th {\n",
       "        vertical-align: top;\n",
       "    }\n",
       "\n",
       "    .dataframe thead th {\n",
       "        text-align: right;\n",
       "    }\n",
       "</style>\n",
       "<table border=\"1\" class=\"dataframe\">\n",
       "  <thead>\n",
       "    <tr style=\"text-align: right;\">\n",
       "      <th></th>\n",
       "      <th>Strain</th>\n",
       "      <th>Type</th>\n",
       "      <th>Rating</th>\n",
       "      <th>Effects</th>\n",
       "      <th>Flavor</th>\n",
       "      <th>Description</th>\n",
       "    </tr>\n",
       "  </thead>\n",
       "  <tbody>\n",
       "    <tr>\n",
       "      <th>0</th>\n",
       "      <td>100-Og</td>\n",
       "      <td>hybrid</td>\n",
       "      <td>4.0</td>\n",
       "      <td>Creative,Energetic,Tingly,Euphoric,Relaxed</td>\n",
       "      <td>Earthy,Sweet,Citrus</td>\n",
       "      <td>$100 OG is a 50/50 hybrid strain that packs a ...</td>\n",
       "    </tr>\n",
       "    <tr>\n",
       "      <th>1</th>\n",
       "      <td>98-White-Widow</td>\n",
       "      <td>hybrid</td>\n",
       "      <td>4.7</td>\n",
       "      <td>Relaxed,Aroused,Creative,Happy,Energetic</td>\n",
       "      <td>Flowery,Violet,Diesel</td>\n",
       "      <td>The ‘98 Aloha White Widow is an especially pot...</td>\n",
       "    </tr>\n",
       "    <tr>\n",
       "      <th>2</th>\n",
       "      <td>1024</td>\n",
       "      <td>sativa</td>\n",
       "      <td>4.4</td>\n",
       "      <td>Uplifted,Happy,Relaxed,Energetic,Creative</td>\n",
       "      <td>Spicy/Herbal,Sage,Woody</td>\n",
       "      <td>1024 is a sativa-dominant hybrid bred in Spain...</td>\n",
       "    </tr>\n",
       "    <tr>\n",
       "      <th>3</th>\n",
       "      <td>13-Dawgs</td>\n",
       "      <td>hybrid</td>\n",
       "      <td>4.2</td>\n",
       "      <td>Tingly,Creative,Hungry,Relaxed,Uplifted</td>\n",
       "      <td>Apricot,Citrus,Grapefruit</td>\n",
       "      <td>13 Dawgs is a hybrid of G13 and Chemdawg genet...</td>\n",
       "    </tr>\n",
       "    <tr>\n",
       "      <th>4</th>\n",
       "      <td>24K-Gold</td>\n",
       "      <td>hybrid</td>\n",
       "      <td>4.6</td>\n",
       "      <td>Happy,Relaxed,Euphoric,Uplifted,Talkative</td>\n",
       "      <td>Citrus,Earthy,Orange</td>\n",
       "      <td>Also known as Kosher Tangie, 24k Gold is a 60%...</td>\n",
       "    </tr>\n",
       "  </tbody>\n",
       "</table>\n",
       "</div>"
      ],
      "text/plain": [
       "           Strain    Type  Rating                                     Effects  \\\n",
       "0          100-Og  hybrid     4.0  Creative,Energetic,Tingly,Euphoric,Relaxed   \n",
       "1  98-White-Widow  hybrid     4.7    Relaxed,Aroused,Creative,Happy,Energetic   \n",
       "2            1024  sativa     4.4   Uplifted,Happy,Relaxed,Energetic,Creative   \n",
       "3        13-Dawgs  hybrid     4.2     Tingly,Creative,Hungry,Relaxed,Uplifted   \n",
       "4        24K-Gold  hybrid     4.6   Happy,Relaxed,Euphoric,Uplifted,Talkative   \n",
       "\n",
       "                      Flavor  \\\n",
       "0        Earthy,Sweet,Citrus   \n",
       "1      Flowery,Violet,Diesel   \n",
       "2    Spicy/Herbal,Sage,Woody   \n",
       "3  Apricot,Citrus,Grapefruit   \n",
       "4       Citrus,Earthy,Orange   \n",
       "\n",
       "                                         Description  \n",
       "0  $100 OG is a 50/50 hybrid strain that packs a ...  \n",
       "1  The ‘98 Aloha White Widow is an especially pot...  \n",
       "2  1024 is a sativa-dominant hybrid bred in Spain...  \n",
       "3  13 Dawgs is a hybrid of G13 and Chemdawg genet...  \n",
       "4  Also known as Kosher Tangie, 24k Gold is a 60%...  "
      ]
     },
     "execution_count": 321,
     "metadata": {},
     "output_type": "execute_result"
    }
   ],
   "source": [
    "df = pd.read_csv('https://raw.githubusercontent.com/bundickm/Study-Guides/master/data/cannabis.csv')\n",
    "print('Shape:', df.shape, '\\n')\n",
    "df.head()"
   ]
  },
  {
   "cell_type": "code",
   "execution_count": 322,
   "metadata": {},
   "outputs": [
    {
     "name": "stdout",
     "output_type": "stream",
     "text": [
      "<class 'pandas.core.frame.DataFrame'>\n",
      "RangeIndex: 2351 entries, 0 to 2350\n",
      "Data columns (total 6 columns):\n",
      " #   Column       Non-Null Count  Dtype  \n",
      "---  ------       --------------  -----  \n",
      " 0   Strain       2351 non-null   object \n",
      " 1   Type         2351 non-null   object \n",
      " 2   Rating       2351 non-null   float64\n",
      " 3   Effects      2351 non-null   object \n",
      " 4   Flavor       2305 non-null   object \n",
      " 5   Description  2318 non-null   object \n",
      "dtypes: float64(1), object(5)\n",
      "memory usage: 110.3+ KB\n"
     ]
    }
   ],
   "source": [
    "df.info()"
   ]
  },
  {
   "cell_type": "markdown",
   "metadata": {
    "colab_type": "text",
    "id": "Zbpf-sf-DjRi"
   },
   "source": [
    "# Tokens"
   ]
  },
  {
   "cell_type": "markdown",
   "metadata": {
    "colab_type": "text",
    "id": "S8pe3aGUJUkI"
   },
   "source": [
    "## Definitions"
   ]
  },
  {
   "cell_type": "markdown",
   "metadata": {
    "colab_type": "text",
    "id": "C3GHPBZ4I3h5"
   },
   "source": [
    "Define the following terms in your own words, do not simply copy and paste a definition found elsewhere but reword it to be understandable and memorable to you. *Double click the markdown to add your definitions.*\n",
    "<br/><br/>\n",
    "\n",
    "**Natural Language Processing**: `Your Answer Here`Natural Language Processing, or NLP for short, is broadly defined as the automatic manipulation of natural language, like speech and text, by software.\n",
    "\n",
    "**Token**: `Your Answer Here` Token: how we process text to analyze it; it can be a sentence, paragraph, etc. What most people mean word. A token can mean anything useful semantic unit. What do we call a row in our data set.\n",
    "**Corpus**: `Your Answer Here`Corpus: collection of documents\n",
    "\\\n",
    "\n",
    "**Stopwords**: `Your Answer Here` Stop words are a set of commonly used words in any language. For example, in English, “the”, “is” and “and”, would easily qualify as stop words. In NLP and text mining applications, stop words are used to eliminate unimportant words, allowing applications to focus on the important words instead.'asdas'da\n",
    "\t- Unecessary words\n",
    "\n",
    "\n",
    "**Statistical Trimming**: `Your Answer Here` Preserve the words the give the most variation in the data.\n",
    "\n",
    "**Stemming**: `Your Answer Here` Stemming is just process for removing common ending to words\n",
    "\n",
    "**Lemmatization**: `Your Answer Here` Transform a word into its based form called lemma\n",
    "\n",
    "**Vectorization**: `Your Answer Here` The objective is to Convert a collection of text documents to into a matrix of features (word counts etc.)The process of converting words into numbers are called Vectorization; https://towardsdatascience.com/understanding-nlp-word-embeddings-text-vectorization-1a23744f7223#:~:text=Word%20Embeddings%20or%20Word%20vectorization,into%20numbers%20are%20called%20Vectorization."
   ]
  },
  {
   "cell_type": "markdown",
   "metadata": {
    "colab_type": "text",
    "id": "jbXlWbA3JWuU"
   },
   "source": [
    "## Questions of Understanding"
   ]
  },
  {
   "cell_type": "markdown",
   "metadata": {
    "colab_type": "text",
    "id": "yjm-Ab4sJaOs"
   },
   "source": [
    "1. What are at least 4 common cleaning tasks you need to do when creating tokens?\n",
    "remove whitespaces and escape sequences, punctuations, special characters, numbers, and stopwords.\n",
    " 1. `Your Answer Here` \n",
    " 2. `Your Answer Here`\n",
    " 3. `Your Answer Here`\n",
    " 4. `Your Answer Here`\n",
    "\n",
    "2. Why is it important to apply custom stopwords to our dataset in addition to the ones that come in a library like spaCy?\n",
    "```\n",
    "Your Answer Here\n",
    "\n",
    "```\n",
    "b/c we can have domain specific words that occur in abundace for example analyzubg amazon we could the word amazon be stop word.\n",
    "\n",
    "\n",
    "\n",
    "3. Explain the tradeoffs between statistical trimming, stemming, and lemmatizing.\n",
    "```\n",
    "Your Answer Here\n",
    "```\n",
    "Statistical stop word trimming parameters.. Ignore terms that are very frequent.in the case of min it does the oppposite ,minimum frequency to hit to be included in the vocabulary!\n",
    "\n",
    "4. Why do we need to vectorize our documents?\n",
    "```\n",
    "Your Answer Here\n",
    "```\n",
    "we vectorize documents for various reasons:we could vectorize to create a model that allows us to make preductions for a given text, based on a model that was train on a vectorized maxtrix; we could also vectorization to see how similar one document is to another;lastly we could use vecrtorization to help us construct and LDA which helps us find topics for a given document. \n"
   ]
  },
  {
   "cell_type": "markdown",
   "metadata": {
    "colab_type": "text",
    "id": "fn3Z587YMwnE"
   },
   "source": [
    "## Practice Problems"
   ]
  },
  {
   "cell_type": "markdown",
   "metadata": {
    "colab_type": "text",
    "id": "Ii_LYpeoDrTp"
   },
   "source": [
    "Write a function to tokenize the `Description` column. Make sure to include the following:\n",
    "- Return the tokens in an iterable structure\n",
    "- Normalize the case\n",
    "- Remove non-alphanumeric characters such as punctuation, whitespace, unicode, etc.\n",
    "- Apply stopwords and make sure to add stopwords specific to this dataset\n",
    "- Lemmatize the tokens before returning them"
   ]
  },
  {
   "cell_type": "code",
   "execution_count": 323,
   "metadata": {},
   "outputs": [],
   "source": [
    "#clean data frame\n",
    "# [^a-zA-Z 0-9] ; removes non-alpha-numeric characters\n",
    "#\\d+': '' ; removes all numbers\n",
    "#will make this all a function later\n",
    "df['Description'].replace({\"[^a-zA-Z 0-9]\":\"\"}, regex=True, inplace = True)\n",
    "#df['Description'] = df['Description'].str.lower()\n",
    "#df['Description'] = df['Description'].str.strip()\n",
    "df.dropna(inplace=True)\n"
   ]
  },
  {
   "cell_type": "code",
   "execution_count": 324,
   "metadata": {},
   "outputs": [
    {
     "name": "stdout",
     "output_type": "stream",
     "text": [
      "<class 'pandas.core.frame.DataFrame'>\n",
      "Int64Index: 2277 entries, 0 to 2350\n",
      "Data columns (total 6 columns):\n",
      " #   Column       Non-Null Count  Dtype  \n",
      "---  ------       --------------  -----  \n",
      " 0   Strain       2277 non-null   object \n",
      " 1   Type         2277 non-null   object \n",
      " 2   Rating       2277 non-null   float64\n",
      " 3   Effects      2277 non-null   object \n",
      " 4   Flavor       2277 non-null   object \n",
      " 5   Description  2277 non-null   object \n",
      "dtypes: float64(1), object(5)\n",
      "memory usage: 124.5+ KB\n"
     ]
    }
   ],
   "source": [
    "df.info()"
   ]
  },
  {
   "cell_type": "code",
   "execution_count": 325,
   "metadata": {},
   "outputs": [
    {
     "data": {
      "text/html": [
       "<div>\n",
       "<style scoped>\n",
       "    .dataframe tbody tr th:only-of-type {\n",
       "        vertical-align: middle;\n",
       "    }\n",
       "\n",
       "    .dataframe tbody tr th {\n",
       "        vertical-align: top;\n",
       "    }\n",
       "\n",
       "    .dataframe thead th {\n",
       "        text-align: right;\n",
       "    }\n",
       "</style>\n",
       "<table border=\"1\" class=\"dataframe\">\n",
       "  <thead>\n",
       "    <tr style=\"text-align: right;\">\n",
       "      <th></th>\n",
       "      <th>Strain</th>\n",
       "      <th>Type</th>\n",
       "      <th>Rating</th>\n",
       "      <th>Effects</th>\n",
       "      <th>Flavor</th>\n",
       "      <th>Description</th>\n",
       "    </tr>\n",
       "  </thead>\n",
       "  <tbody>\n",
       "    <tr>\n",
       "      <th>0</th>\n",
       "      <td>100-Og</td>\n",
       "      <td>hybrid</td>\n",
       "      <td>4.0</td>\n",
       "      <td>Creative,Energetic,Tingly,Euphoric,Relaxed</td>\n",
       "      <td>Earthy,Sweet,Citrus</td>\n",
       "      <td>100 OG is a 5050 hybrid strain that packs a st...</td>\n",
       "    </tr>\n",
       "    <tr>\n",
       "      <th>1</th>\n",
       "      <td>98-White-Widow</td>\n",
       "      <td>hybrid</td>\n",
       "      <td>4.7</td>\n",
       "      <td>Relaxed,Aroused,Creative,Happy,Energetic</td>\n",
       "      <td>Flowery,Violet,Diesel</td>\n",
       "      <td>The 98 Aloha White Widow is an especially pote...</td>\n",
       "    </tr>\n",
       "    <tr>\n",
       "      <th>2</th>\n",
       "      <td>1024</td>\n",
       "      <td>sativa</td>\n",
       "      <td>4.4</td>\n",
       "      <td>Uplifted,Happy,Relaxed,Energetic,Creative</td>\n",
       "      <td>Spicy/Herbal,Sage,Woody</td>\n",
       "      <td>1024 is a sativadominant hybrid bred in Spain ...</td>\n",
       "    </tr>\n",
       "    <tr>\n",
       "      <th>3</th>\n",
       "      <td>13-Dawgs</td>\n",
       "      <td>hybrid</td>\n",
       "      <td>4.2</td>\n",
       "      <td>Tingly,Creative,Hungry,Relaxed,Uplifted</td>\n",
       "      <td>Apricot,Citrus,Grapefruit</td>\n",
       "      <td>13 Dawgs is a hybrid of G13 and Chemdawg genet...</td>\n",
       "    </tr>\n",
       "    <tr>\n",
       "      <th>4</th>\n",
       "      <td>24K-Gold</td>\n",
       "      <td>hybrid</td>\n",
       "      <td>4.6</td>\n",
       "      <td>Happy,Relaxed,Euphoric,Uplifted,Talkative</td>\n",
       "      <td>Citrus,Earthy,Orange</td>\n",
       "      <td>Also known as Kosher Tangie 24k Gold is a 60 i...</td>\n",
       "    </tr>\n",
       "  </tbody>\n",
       "</table>\n",
       "</div>"
      ],
      "text/plain": [
       "           Strain    Type  Rating                                     Effects  \\\n",
       "0          100-Og  hybrid     4.0  Creative,Energetic,Tingly,Euphoric,Relaxed   \n",
       "1  98-White-Widow  hybrid     4.7    Relaxed,Aroused,Creative,Happy,Energetic   \n",
       "2            1024  sativa     4.4   Uplifted,Happy,Relaxed,Energetic,Creative   \n",
       "3        13-Dawgs  hybrid     4.2     Tingly,Creative,Hungry,Relaxed,Uplifted   \n",
       "4        24K-Gold  hybrid     4.6   Happy,Relaxed,Euphoric,Uplifted,Talkative   \n",
       "\n",
       "                      Flavor  \\\n",
       "0        Earthy,Sweet,Citrus   \n",
       "1      Flowery,Violet,Diesel   \n",
       "2    Spicy/Herbal,Sage,Woody   \n",
       "3  Apricot,Citrus,Grapefruit   \n",
       "4       Citrus,Earthy,Orange   \n",
       "\n",
       "                                         Description  \n",
       "0  100 OG is a 5050 hybrid strain that packs a st...  \n",
       "1  The 98 Aloha White Widow is an especially pote...  \n",
       "2  1024 is a sativadominant hybrid bred in Spain ...  \n",
       "3  13 Dawgs is a hybrid of G13 and Chemdawg genet...  \n",
       "4  Also known as Kosher Tangie 24k Gold is a 60 i...  "
      ]
     },
     "execution_count": 325,
     "metadata": {},
     "output_type": "execute_result"
    }
   ],
   "source": [
    "df.head()"
   ]
  },
  {
   "cell_type": "code",
   "execution_count": 326,
   "metadata": {},
   "outputs": [],
   "source": [
    "#import spacy, will be used t\n",
    "import spacy\n",
    "nlp = spacy.load(\"en_core_web_lg\")\n",
    "#added specific stopwords to the stop words found in nlp.Defaults.stop_words.\n",
    "stops = nlp.Defaults.stop_words.union(['known','strain','gold'])\n",
    "#Create tokenized functioned, which excludes stopwords, punction, whitespaces etc. and normalizes lowercasetoo\n",
    "\n",
    "def tokenize(document):\n",
    "    \n",
    "    doc = nlp(document)\n",
    "    \n",
    "    return [token.lemma_.lower() for token in doc if (token.is_stop != True) and (token.is_punct != True) and (token.is_space == False) and (token.pos_ != 'PRON')]\n",
    "\n"
   ]
  },
  {
   "cell_type": "code",
   "execution_count": 313,
   "metadata": {
    "colab": {},
    "colab_type": "code",
    "id": "rgt9aT-TDFcq"
   },
   "outputs": [],
   "source": [
    "# Wrap it all in a function\n",
    "import spacy\n",
    "def get_lemmas(text):\n",
    "\n",
    "    lemmas = []\n",
    "    \n",
    "    doc = nlp(text)\n",
    "    \n",
    "    # Something goes here :P\n",
    "    for token in doc: \n",
    "        condition = ((token.is_stop == False) and (token.is_punct == False)) and (token.pos_ != 'PRON') and (token.is_space == False)\n",
    "        if condition:\n",
    "            lemmas.append(token.lemma_.lower())\n",
    "    \n",
    "    return lemmas"
   ]
  },
  {
   "cell_type": "code",
   "execution_count": 327,
   "metadata": {},
   "outputs": [],
   "source": [
    "#create remove custom stop words from tokens\n",
    "def remove_stops(_list_):\n",
    "    \n",
    "    keywords = []\n",
    "    \n",
    "    for keyword in _list_:\n",
    "        \n",
    "        phrase = []\n",
    "        \n",
    "        words = keyword.split()\n",
    "        \n",
    "        for word in words:\n",
    "            if word in stops:\n",
    "                pass\n",
    "            else: \n",
    "                phrase.append(word)\n",
    "            \n",
    "        phrase = ' '.join(phrase)\n",
    "        \n",
    "        if len(phrase) > 0:\n",
    "            keywords.append(phrase)\n",
    "    \n",
    "    return keywords"
   ]
  },
  {
   "cell_type": "markdown",
   "metadata": {
    "colab_type": "text",
    "id": "pX8ZRE7fFqcw"
   },
   "source": [
    "Apply your function to `Description` and save the resulting tokens in a new column, `Tokens`"
   ]
  },
  {
   "cell_type": "code",
   "execution_count": 328,
   "metadata": {
    "colab": {},
    "colab_type": "code",
    "id": "S9pQJYfZFxd1"
   },
   "outputs": [],
   "source": [
    "df['tokens'] = df['Description'].apply(tokenize)"
   ]
  },
  {
   "cell_type": "code",
   "execution_count": 329,
   "metadata": {},
   "outputs": [
    {
     "data": {
      "text/html": [
       "<div>\n",
       "<style scoped>\n",
       "    .dataframe tbody tr th:only-of-type {\n",
       "        vertical-align: middle;\n",
       "    }\n",
       "\n",
       "    .dataframe tbody tr th {\n",
       "        vertical-align: top;\n",
       "    }\n",
       "\n",
       "    .dataframe thead th {\n",
       "        text-align: right;\n",
       "    }\n",
       "</style>\n",
       "<table border=\"1\" class=\"dataframe\">\n",
       "  <thead>\n",
       "    <tr style=\"text-align: right;\">\n",
       "      <th></th>\n",
       "      <th>Strain</th>\n",
       "      <th>Type</th>\n",
       "      <th>Rating</th>\n",
       "      <th>Effects</th>\n",
       "      <th>Flavor</th>\n",
       "      <th>Description</th>\n",
       "      <th>tokens</th>\n",
       "    </tr>\n",
       "  </thead>\n",
       "  <tbody>\n",
       "    <tr>\n",
       "      <th>0</th>\n",
       "      <td>100-Og</td>\n",
       "      <td>hybrid</td>\n",
       "      <td>4.0</td>\n",
       "      <td>Creative,Energetic,Tingly,Euphoric,Relaxed</td>\n",
       "      <td>Earthy,Sweet,Citrus</td>\n",
       "      <td>100 OG is a 5050 hybrid strain that packs a st...</td>\n",
       "      <td>[100, og, 5050, hybrid, strain, pack, strong, ...</td>\n",
       "    </tr>\n",
       "    <tr>\n",
       "      <th>1</th>\n",
       "      <td>98-White-Widow</td>\n",
       "      <td>hybrid</td>\n",
       "      <td>4.7</td>\n",
       "      <td>Relaxed,Aroused,Creative,Happy,Energetic</td>\n",
       "      <td>Flowery,Violet,Diesel</td>\n",
       "      <td>The 98 Aloha White Widow is an especially pote...</td>\n",
       "      <td>[98, aloha, white, widow, especially, potent, ...</td>\n",
       "    </tr>\n",
       "    <tr>\n",
       "      <th>2</th>\n",
       "      <td>1024</td>\n",
       "      <td>sativa</td>\n",
       "      <td>4.4</td>\n",
       "      <td>Uplifted,Happy,Relaxed,Energetic,Creative</td>\n",
       "      <td>Spicy/Herbal,Sage,Woody</td>\n",
       "      <td>1024 is a sativadominant hybrid bred in Spain ...</td>\n",
       "      <td>[1024, sativadominant, hybrid, breed, spain, m...</td>\n",
       "    </tr>\n",
       "    <tr>\n",
       "      <th>3</th>\n",
       "      <td>13-Dawgs</td>\n",
       "      <td>hybrid</td>\n",
       "      <td>4.2</td>\n",
       "      <td>Tingly,Creative,Hungry,Relaxed,Uplifted</td>\n",
       "      <td>Apricot,Citrus,Grapefruit</td>\n",
       "      <td>13 Dawgs is a hybrid of G13 and Chemdawg genet...</td>\n",
       "      <td>[13, dawgs, hybrid, g13, chemdawg, genetic, br...</td>\n",
       "    </tr>\n",
       "    <tr>\n",
       "      <th>4</th>\n",
       "      <td>24K-Gold</td>\n",
       "      <td>hybrid</td>\n",
       "      <td>4.6</td>\n",
       "      <td>Happy,Relaxed,Euphoric,Uplifted,Talkative</td>\n",
       "      <td>Citrus,Earthy,Orange</td>\n",
       "      <td>Also known as Kosher Tangie 24k Gold is a 60 i...</td>\n",
       "      <td>[know, kosher, tangie, 24k, gold, 60, indicado...</td>\n",
       "    </tr>\n",
       "  </tbody>\n",
       "</table>\n",
       "</div>"
      ],
      "text/plain": [
       "           Strain    Type  Rating                                     Effects  \\\n",
       "0          100-Og  hybrid     4.0  Creative,Energetic,Tingly,Euphoric,Relaxed   \n",
       "1  98-White-Widow  hybrid     4.7    Relaxed,Aroused,Creative,Happy,Energetic   \n",
       "2            1024  sativa     4.4   Uplifted,Happy,Relaxed,Energetic,Creative   \n",
       "3        13-Dawgs  hybrid     4.2     Tingly,Creative,Hungry,Relaxed,Uplifted   \n",
       "4        24K-Gold  hybrid     4.6   Happy,Relaxed,Euphoric,Uplifted,Talkative   \n",
       "\n",
       "                      Flavor  \\\n",
       "0        Earthy,Sweet,Citrus   \n",
       "1      Flowery,Violet,Diesel   \n",
       "2    Spicy/Herbal,Sage,Woody   \n",
       "3  Apricot,Citrus,Grapefruit   \n",
       "4       Citrus,Earthy,Orange   \n",
       "\n",
       "                                         Description  \\\n",
       "0  100 OG is a 5050 hybrid strain that packs a st...   \n",
       "1  The 98 Aloha White Widow is an especially pote...   \n",
       "2  1024 is a sativadominant hybrid bred in Spain ...   \n",
       "3  13 Dawgs is a hybrid of G13 and Chemdawg genet...   \n",
       "4  Also known as Kosher Tangie 24k Gold is a 60 i...   \n",
       "\n",
       "                                              tokens  \n",
       "0  [100, og, 5050, hybrid, strain, pack, strong, ...  \n",
       "1  [98, aloha, white, widow, especially, potent, ...  \n",
       "2  [1024, sativadominant, hybrid, breed, spain, m...  \n",
       "3  [13, dawgs, hybrid, g13, chemdawg, genetic, br...  \n",
       "4  [know, kosher, tangie, 24k, gold, 60, indicado...  "
      ]
     },
     "execution_count": 329,
     "metadata": {},
     "output_type": "execute_result"
    }
   ],
   "source": [
    "df.head()"
   ]
  },
  {
   "cell_type": "code",
   "execution_count": 330,
   "metadata": {},
   "outputs": [],
   "source": [
    "#further clean tokens\n",
    "df['tokens'] = df['tokens'].apply(remove_stops)"
   ]
  },
  {
   "cell_type": "markdown",
   "metadata": {
    "colab_type": "text",
    "id": "M4x9xuBVF4Nh"
   },
   "source": [
    "Use the function below to create a `word_count` dataframe based off the `df['Tokens']` column you created."
   ]
  },
  {
   "cell_type": "code",
   "execution_count": 331,
   "metadata": {},
   "outputs": [
    {
     "data": {
      "text/html": [
       "<div>\n",
       "<style scoped>\n",
       "    .dataframe tbody tr th:only-of-type {\n",
       "        vertical-align: middle;\n",
       "    }\n",
       "\n",
       "    .dataframe tbody tr th {\n",
       "        vertical-align: top;\n",
       "    }\n",
       "\n",
       "    .dataframe thead th {\n",
       "        text-align: right;\n",
       "    }\n",
       "</style>\n",
       "<table border=\"1\" class=\"dataframe\">\n",
       "  <thead>\n",
       "    <tr style=\"text-align: right;\">\n",
       "      <th></th>\n",
       "      <th>Strain</th>\n",
       "      <th>Type</th>\n",
       "      <th>Rating</th>\n",
       "      <th>Effects</th>\n",
       "      <th>Flavor</th>\n",
       "      <th>Description</th>\n",
       "      <th>tokens</th>\n",
       "    </tr>\n",
       "  </thead>\n",
       "  <tbody>\n",
       "    <tr>\n",
       "      <th>0</th>\n",
       "      <td>100-Og</td>\n",
       "      <td>hybrid</td>\n",
       "      <td>4.0</td>\n",
       "      <td>Creative,Energetic,Tingly,Euphoric,Relaxed</td>\n",
       "      <td>Earthy,Sweet,Citrus</td>\n",
       "      <td>100 OG is a 5050 hybrid strain that packs a st...</td>\n",
       "      <td>[100, og, 5050, hybrid, pack, strong, punch, s...</td>\n",
       "    </tr>\n",
       "    <tr>\n",
       "      <th>1</th>\n",
       "      <td>98-White-Widow</td>\n",
       "      <td>hybrid</td>\n",
       "      <td>4.7</td>\n",
       "      <td>Relaxed,Aroused,Creative,Happy,Energetic</td>\n",
       "      <td>Flowery,Violet,Diesel</td>\n",
       "      <td>The 98 Aloha White Widow is an especially pote...</td>\n",
       "      <td>[98, aloha, white, widow, especially, potent, ...</td>\n",
       "    </tr>\n",
       "    <tr>\n",
       "      <th>2</th>\n",
       "      <td>1024</td>\n",
       "      <td>sativa</td>\n",
       "      <td>4.4</td>\n",
       "      <td>Uplifted,Happy,Relaxed,Energetic,Creative</td>\n",
       "      <td>Spicy/Herbal,Sage,Woody</td>\n",
       "      <td>1024 is a sativadominant hybrid bred in Spain ...</td>\n",
       "      <td>[1024, sativadominant, hybrid, breed, spain, m...</td>\n",
       "    </tr>\n",
       "    <tr>\n",
       "      <th>3</th>\n",
       "      <td>13-Dawgs</td>\n",
       "      <td>hybrid</td>\n",
       "      <td>4.2</td>\n",
       "      <td>Tingly,Creative,Hungry,Relaxed,Uplifted</td>\n",
       "      <td>Apricot,Citrus,Grapefruit</td>\n",
       "      <td>13 Dawgs is a hybrid of G13 and Chemdawg genet...</td>\n",
       "      <td>[13, dawgs, hybrid, g13, chemdawg, genetic, br...</td>\n",
       "    </tr>\n",
       "    <tr>\n",
       "      <th>4</th>\n",
       "      <td>24K-Gold</td>\n",
       "      <td>hybrid</td>\n",
       "      <td>4.6</td>\n",
       "      <td>Happy,Relaxed,Euphoric,Uplifted,Talkative</td>\n",
       "      <td>Citrus,Earthy,Orange</td>\n",
       "      <td>Also known as Kosher Tangie 24k Gold is a 60 i...</td>\n",
       "      <td>[know, kosher, tangie, 24k, 60, indicadominant...</td>\n",
       "    </tr>\n",
       "  </tbody>\n",
       "</table>\n",
       "</div>"
      ],
      "text/plain": [
       "           Strain    Type  Rating                                     Effects  \\\n",
       "0          100-Og  hybrid     4.0  Creative,Energetic,Tingly,Euphoric,Relaxed   \n",
       "1  98-White-Widow  hybrid     4.7    Relaxed,Aroused,Creative,Happy,Energetic   \n",
       "2            1024  sativa     4.4   Uplifted,Happy,Relaxed,Energetic,Creative   \n",
       "3        13-Dawgs  hybrid     4.2     Tingly,Creative,Hungry,Relaxed,Uplifted   \n",
       "4        24K-Gold  hybrid     4.6   Happy,Relaxed,Euphoric,Uplifted,Talkative   \n",
       "\n",
       "                      Flavor  \\\n",
       "0        Earthy,Sweet,Citrus   \n",
       "1      Flowery,Violet,Diesel   \n",
       "2    Spicy/Herbal,Sage,Woody   \n",
       "3  Apricot,Citrus,Grapefruit   \n",
       "4       Citrus,Earthy,Orange   \n",
       "\n",
       "                                         Description  \\\n",
       "0  100 OG is a 5050 hybrid strain that packs a st...   \n",
       "1  The 98 Aloha White Widow is an especially pote...   \n",
       "2  1024 is a sativadominant hybrid bred in Spain ...   \n",
       "3  13 Dawgs is a hybrid of G13 and Chemdawg genet...   \n",
       "4  Also known as Kosher Tangie 24k Gold is a 60 i...   \n",
       "\n",
       "                                              tokens  \n",
       "0  [100, og, 5050, hybrid, pack, strong, punch, s...  \n",
       "1  [98, aloha, white, widow, especially, potent, ...  \n",
       "2  [1024, sativadominant, hybrid, breed, spain, m...  \n",
       "3  [13, dawgs, hybrid, g13, chemdawg, genetic, br...  \n",
       "4  [know, kosher, tangie, 24k, 60, indicadominant...  "
      ]
     },
     "execution_count": 331,
     "metadata": {},
     "output_type": "execute_result"
    }
   ],
   "source": [
    "df.head()"
   ]
  },
  {
   "cell_type": "code",
   "execution_count": 289,
   "metadata": {
    "colab": {},
    "colab_type": "code",
    "id": "6zu2dfbcGz2Y"
   },
   "outputs": [],
   "source": [
    "#construct count function\n",
    "from collections import Counter\n",
    "\n",
    "def count(docs):\n",
    "        word_counts = Counter()\n",
    "        appears_in = Counter()\n",
    "        total_docs = len(docs)\n",
    "\n",
    "        for doc in docs:\n",
    "            word_counts.update(doc)\n",
    "            appears_in.update(set(doc))\n",
    "\n",
    "        temp = zip(word_counts.keys(), word_counts.values())\n",
    "        wc = pd.DataFrame(temp, columns = ['word', 'count'])\n",
    "\n",
    "        wc['rank'] = wc['count'].rank(method='first', ascending=False)\n",
    "        total = wc['count'].sum()\n",
    "\n",
    "        wc['pct_total'] = wc['count'].apply(lambda x: x / total)\n",
    "        \n",
    "        wc = wc.sort_values(by='rank')\n",
    "        wc['cul_pct_total'] = wc['pct_total'].cumsum()\n",
    "\n",
    "        t2 = zip(appears_in.keys(), appears_in.values())\n",
    "        ac = pd.DataFrame(t2, columns=['word', 'appears_in'])\n",
    "        wc = ac.merge(wc, on='word')\n",
    "\n",
    "        wc['appears_in_pct'] = wc['appears_in'].apply(lambda x: x / total_docs)\n",
    "        \n",
    "        return wc.sort_values(by='rank')"
   ]
  },
  {
   "cell_type": "code",
   "execution_count": 290,
   "metadata": {
    "colab": {},
    "colab_type": "code",
    "id": "94lL-w_uGzzm"
   },
   "outputs": [],
   "source": [
    "#Get counts of tokenized listings\n",
    "word_count = count(df['tokens'])"
   ]
  },
  {
   "cell_type": "code",
   "execution_count": 291,
   "metadata": {},
   "outputs": [
    {
     "data": {
      "text/html": [
       "<div>\n",
       "<style scoped>\n",
       "    .dataframe tbody tr th:only-of-type {\n",
       "        vertical-align: middle;\n",
       "    }\n",
       "\n",
       "    .dataframe tbody tr th {\n",
       "        vertical-align: top;\n",
       "    }\n",
       "\n",
       "    .dataframe thead th {\n",
       "        text-align: right;\n",
       "    }\n",
       "</style>\n",
       "<table border=\"1\" class=\"dataframe\">\n",
       "  <thead>\n",
       "    <tr style=\"text-align: right;\">\n",
       "      <th></th>\n",
       "      <th>word</th>\n",
       "      <th>appears_in</th>\n",
       "      <th>count</th>\n",
       "      <th>rank</th>\n",
       "      <th>pct_total</th>\n",
       "      <th>cul_pct_total</th>\n",
       "      <th>appears_in_pct</th>\n",
       "    </tr>\n",
       "  </thead>\n",
       "  <tbody>\n",
       "    <tr>\n",
       "      <th>13</th>\n",
       "      <td>strain</td>\n",
       "      <td>1776</td>\n",
       "      <td>2892</td>\n",
       "      <td>1.0</td>\n",
       "      <td>0.028175</td>\n",
       "      <td>0.028175</td>\n",
       "      <td>0.779974</td>\n",
       "    </tr>\n",
       "    <tr>\n",
       "      <th>21</th>\n",
       "      <td>effect</td>\n",
       "      <td>1272</td>\n",
       "      <td>1551</td>\n",
       "      <td>2.0</td>\n",
       "      <td>0.015110</td>\n",
       "      <td>0.043285</td>\n",
       "      <td>0.558630</td>\n",
       "    </tr>\n",
       "    <tr>\n",
       "      <th>33</th>\n",
       "      <td>hybrid</td>\n",
       "      <td>1042</td>\n",
       "      <td>1231</td>\n",
       "      <td>3.0</td>\n",
       "      <td>0.011993</td>\n",
       "      <td>0.055278</td>\n",
       "      <td>0.457620</td>\n",
       "    </tr>\n",
       "    <tr>\n",
       "      <th>206</th>\n",
       "      <td>cross</td>\n",
       "      <td>1017</td>\n",
       "      <td>1090</td>\n",
       "      <td>4.0</td>\n",
       "      <td>0.010619</td>\n",
       "      <td>0.065897</td>\n",
       "      <td>0.446640</td>\n",
       "    </tr>\n",
       "    <tr>\n",
       "      <th>10</th>\n",
       "      <td>og</td>\n",
       "      <td>472</td>\n",
       "      <td>1025</td>\n",
       "      <td>5.0</td>\n",
       "      <td>0.009986</td>\n",
       "      <td>0.075883</td>\n",
       "      <td>0.207290</td>\n",
       "    </tr>\n",
       "    <tr>\n",
       "      <th>...</th>\n",
       "      <td>...</td>\n",
       "      <td>...</td>\n",
       "      <td>...</td>\n",
       "      <td>...</td>\n",
       "      <td>...</td>\n",
       "      <td>...</td>\n",
       "      <td>...</td>\n",
       "    </tr>\n",
       "    <tr>\n",
       "      <th>9220</th>\n",
       "      <td>presumably</td>\n",
       "      <td>1</td>\n",
       "      <td>1</td>\n",
       "      <td>9221.0</td>\n",
       "      <td>0.000010</td>\n",
       "      <td>0.999961</td>\n",
       "      <td>0.000439</td>\n",
       "    </tr>\n",
       "    <tr>\n",
       "      <th>9222</th>\n",
       "      <td>heavilythis</td>\n",
       "      <td>1</td>\n",
       "      <td>1</td>\n",
       "      <td>9222.0</td>\n",
       "      <td>0.000010</td>\n",
       "      <td>0.999971</td>\n",
       "      <td>0.000439</td>\n",
       "    </tr>\n",
       "    <tr>\n",
       "      <th>9218</th>\n",
       "      <td>tank</td>\n",
       "      <td>1</td>\n",
       "      <td>1</td>\n",
       "      <td>9223.0</td>\n",
       "      <td>0.000010</td>\n",
       "      <td>0.999981</td>\n",
       "      <td>0.000439</td>\n",
       "    </tr>\n",
       "    <tr>\n",
       "      <th>9219</th>\n",
       "      <td>gansettfin</td>\n",
       "      <td>1</td>\n",
       "      <td>1</td>\n",
       "      <td>9224.0</td>\n",
       "      <td>0.000010</td>\n",
       "      <td>0.999990</td>\n",
       "      <td>0.000439</td>\n",
       "    </tr>\n",
       "    <tr>\n",
       "      <th>9221</th>\n",
       "      <td>llc</td>\n",
       "      <td>1</td>\n",
       "      <td>1</td>\n",
       "      <td>9225.0</td>\n",
       "      <td>0.000010</td>\n",
       "      <td>1.000000</td>\n",
       "      <td>0.000439</td>\n",
       "    </tr>\n",
       "  </tbody>\n",
       "</table>\n",
       "<p>9225 rows × 7 columns</p>\n",
       "</div>"
      ],
      "text/plain": [
       "             word  appears_in  count    rank  pct_total  cul_pct_total  \\\n",
       "13         strain        1776   2892     1.0   0.028175       0.028175   \n",
       "21         effect        1272   1551     2.0   0.015110       0.043285   \n",
       "33         hybrid        1042   1231     3.0   0.011993       0.055278   \n",
       "206         cross        1017   1090     4.0   0.010619       0.065897   \n",
       "10             og         472   1025     5.0   0.009986       0.075883   \n",
       "...           ...         ...    ...     ...        ...            ...   \n",
       "9220   presumably           1      1  9221.0   0.000010       0.999961   \n",
       "9222  heavilythis           1      1  9222.0   0.000010       0.999971   \n",
       "9218         tank           1      1  9223.0   0.000010       0.999981   \n",
       "9219   gansettfin           1      1  9224.0   0.000010       0.999990   \n",
       "9221          llc           1      1  9225.0   0.000010       1.000000   \n",
       "\n",
       "      appears_in_pct  \n",
       "13          0.779974  \n",
       "21          0.558630  \n",
       "33          0.457620  \n",
       "206         0.446640  \n",
       "10          0.207290  \n",
       "...              ...  \n",
       "9220        0.000439  \n",
       "9222        0.000439  \n",
       "9218        0.000439  \n",
       "9219        0.000439  \n",
       "9221        0.000439  \n",
       "\n",
       "[9225 rows x 7 columns]"
      ]
     },
     "execution_count": 291,
     "metadata": {},
     "output_type": "execute_result"
    }
   ],
   "source": [
    "word_count"
   ]
  },
  {
   "cell_type": "code",
   "execution_count": 148,
   "metadata": {},
   "outputs": [],
   "source": [
    "#strain is the most popular word"
   ]
  },
  {
   "cell_type": "markdown",
   "metadata": {
    "colab_type": "text",
    "id": "JPPxVzGIHUF8"
   },
   "source": [
    "Run the line of code below, and then explain how to interpret the graph.\n",
    "\n",
    "```\n",
    "Your Answer Here\n",
    "```"
   ]
  },
  {
   "cell_type": "code",
   "execution_count": 149,
   "metadata": {
    "colab": {},
    "colab_type": "code",
    "id": "DWqbuy68Ib0S"
   },
   "outputs": [
    {
     "data": {
      "image/png": "[encoded data removed]",
      "text/plain": [
       "<Figure size 432x288 with 1 Axes>"
      ]
     },
     "metadata": {
      "needs_background": "light"
     },
     "output_type": "display_data"
    }
   ],
   "source": [
    "import seaborn as sns\n",
    "sns.lineplot(x='rank', y='cul_pct_total', data=word_count);"
   ]
  },
  {
   "cell_type": "markdown",
   "metadata": {
    "colab_type": "text",
    "id": "I-_e03NrMjIO"
   },
   "source": [
    "# Vectorization"
   ]
  },
  {
   "cell_type": "markdown",
   "metadata": {
    "colab_type": "text",
    "id": "tQRlWI7UM4ah"
   },
   "source": [
    "## Definitions"
   ]
  },
  {
   "cell_type": "markdown",
   "metadata": {
    "colab_type": "text",
    "id": "djODVPGjM4ao"
   },
   "source": [
    "Define the following terms in your own words, do not simply copy and paste a definition found elsewhere but reword it to be understandable and memorable to you. *Double click the markdown to add your definitions.*\n",
    "<br/><br/>\n",
    "\n",
    "**Vectorization**: `Your Answer Here`\n",
    "\n",
    "**Document Term Matrix (DTM)**: `Your Answer Here`\n",
    "\n",
    "**Latent Semantic Analysis**: `Your Answer Here`\n",
    "\n",
    "**Term Frequency - Inverse Document Frequency (TF-IDF)**: `Your Answer Here`\n",
    "\n",
    "**Word Embedding**: `Your Answer Here`\n",
    "\n",
    "**N-Gram**: `Your Answer Here`\n",
    "\n",
    "**Skip-Gram**: `Your Answer Here`"
   ]
  },
  {
   "cell_type": "markdown",
   "metadata": {
    "colab_type": "text",
    "id": "lOsi6xE4M-cS"
   },
   "source": [
    "## Questions of Understanding"
   ]
  },
  {
   "cell_type": "markdown",
   "metadata": {
    "colab_type": "text",
    "id": "3_Atsw1bM-cY"
   },
   "source": [
    "1. Why do we need to vectorize our documents?\n",
    "```\n",
    "Your Answer Here\n",
    "```\n",
    "\n",
    "2. How is TF-IDF different from simple word frequency? Why do we use TF-IDF over word frequency?\n",
    "```\n",
    "Your Answer Here\n",
    "```\n",
    "\n",
    "3. Why might we choose a word embedding approach over a bag-of-words approach when it comes to vectorization?\n",
    "```\n",
    "Your Answer Here\n",
    "```"
   ]
  },
  {
   "cell_type": "markdown",
   "metadata": {
    "colab_type": "text",
    "id": "SogHDgfhMTsc"
   },
   "source": [
    "## Practice Problems"
   ]
  },
  {
   "cell_type": "markdown",
   "metadata": {
    "colab_type": "text",
    "id": "a7QrjSwIMYzB"
   },
   "source": [
    "Use the dataframe `df` above to complete the following."
   ]
  },
  {
   "cell_type": "markdown",
   "metadata": {
    "colab_type": "text",
    "id": "1BTQbHxIMeQN"
   },
   "source": [
    "Vectorize the `Tokens` column."
   ]
  },
  {
   "cell_type": "code",
   "execution_count": 165,
   "metadata": {},
   "outputs": [
    {
     "data": {
      "text/html": [
       "<div>\n",
       "<style scoped>\n",
       "    .dataframe tbody tr th:only-of-type {\n",
       "        vertical-align: middle;\n",
       "    }\n",
       "\n",
       "    .dataframe tbody tr th {\n",
       "        vertical-align: top;\n",
       "    }\n",
       "\n",
       "    .dataframe thead th {\n",
       "        text-align: right;\n",
       "    }\n",
       "</style>\n",
       "<table border=\"1\" class=\"dataframe\">\n",
       "  <thead>\n",
       "    <tr style=\"text-align: right;\">\n",
       "      <th></th>\n",
       "      <th>Strain</th>\n",
       "      <th>Type</th>\n",
       "      <th>Rating</th>\n",
       "      <th>Effects</th>\n",
       "      <th>Flavor</th>\n",
       "      <th>Description</th>\n",
       "      <th>tokens</th>\n",
       "    </tr>\n",
       "  </thead>\n",
       "  <tbody>\n",
       "    <tr>\n",
       "      <th>0</th>\n",
       "      <td>100-Og</td>\n",
       "      <td>hybrid</td>\n",
       "      <td>4</td>\n",
       "      <td>Creative,Energetic,Tingly,Euphoric,Relaxed</td>\n",
       "      <td>Earthy,Sweet,Citrus</td>\n",
       "      <td>100 OG is a 5050 hybrid strain that packs a st...</td>\n",
       "      <td>[100, og, 5050, hybrid, strain, pack, strong, ...</td>\n",
       "    </tr>\n",
       "    <tr>\n",
       "      <th>1</th>\n",
       "      <td>98-White-Widow</td>\n",
       "      <td>hybrid</td>\n",
       "      <td>5</td>\n",
       "      <td>Relaxed,Aroused,Creative,Happy,Energetic</td>\n",
       "      <td>Flowery,Violet,Diesel</td>\n",
       "      <td>The 98 Aloha White Widow is an especially pote...</td>\n",
       "      <td>[98, aloha, white, widow, especially, potent, ...</td>\n",
       "    </tr>\n",
       "    <tr>\n",
       "      <th>2</th>\n",
       "      <td>1024</td>\n",
       "      <td>sativa</td>\n",
       "      <td>4</td>\n",
       "      <td>Uplifted,Happy,Relaxed,Energetic,Creative</td>\n",
       "      <td>Spicy/Herbal,Sage,Woody</td>\n",
       "      <td>1024 is a sativadominant hybrid bred in Spain ...</td>\n",
       "      <td>[1024, sativadominant, hybrid, breed, spain, m...</td>\n",
       "    </tr>\n",
       "    <tr>\n",
       "      <th>3</th>\n",
       "      <td>13-Dawgs</td>\n",
       "      <td>hybrid</td>\n",
       "      <td>4</td>\n",
       "      <td>Tingly,Creative,Hungry,Relaxed,Uplifted</td>\n",
       "      <td>Apricot,Citrus,Grapefruit</td>\n",
       "      <td>13 Dawgs is a hybrid of G13 and Chemdawg genet...</td>\n",
       "      <td>[13, dawgs, hybrid, g13, chemdawg, genetic, br...</td>\n",
       "    </tr>\n",
       "    <tr>\n",
       "      <th>4</th>\n",
       "      <td>24K-Gold</td>\n",
       "      <td>hybrid</td>\n",
       "      <td>5</td>\n",
       "      <td>Happy,Relaxed,Euphoric,Uplifted,Talkative</td>\n",
       "      <td>Citrus,Earthy,Orange</td>\n",
       "      <td>Also known as Kosher Tangie 24k Gold is a 60 i...</td>\n",
       "      <td>[know, kosher, tangie, 24k, gold, 60, indicado...</td>\n",
       "    </tr>\n",
       "    <tr>\n",
       "      <th>5</th>\n",
       "      <td>3-Bears-Og</td>\n",
       "      <td>indica</td>\n",
       "      <td>0</td>\n",
       "      <td>None</td>\n",
       "      <td>None</td>\n",
       "      <td>3 Bears OG by Mephisto Genetics is an autoflow...</td>\n",
       "      <td>[3, bears, og, mephisto, genetics, autofloweri...</td>\n",
       "    </tr>\n",
       "    <tr>\n",
       "      <th>6</th>\n",
       "      <td>3-Kings</td>\n",
       "      <td>hybrid</td>\n",
       "      <td>4</td>\n",
       "      <td>Relaxed,Euphoric,Happy,Uplifted,Hungry</td>\n",
       "      <td>Earthy,Sweet,Pungent</td>\n",
       "      <td>The 3 Kings marijuana strain a holy trinity of...</td>\n",
       "      <td>[3, king, marijuana, strain, holy, trinity, he...</td>\n",
       "    </tr>\n",
       "    <tr>\n",
       "      <th>7</th>\n",
       "      <td>303-Og</td>\n",
       "      <td>indica</td>\n",
       "      <td>4</td>\n",
       "      <td>Relaxed,Happy,Euphoric,Uplifted,Giggly</td>\n",
       "      <td>Citrus,Pungent,Earthy</td>\n",
       "      <td>The indicadominant 303 OG is a Colorado strain...</td>\n",
       "      <td>[indicadominant, 303, og, colorado, strain, br...</td>\n",
       "    </tr>\n",
       "    <tr>\n",
       "      <th>8</th>\n",
       "      <td>3D-Cbd</td>\n",
       "      <td>sativa</td>\n",
       "      <td>5</td>\n",
       "      <td>Uplifted,Focused,Happy,Talkative,Relaxed</td>\n",
       "      <td>Earthy,Woody,Flowery</td>\n",
       "      <td>3D CBD from Snoop Doggs branded line of cannab...</td>\n",
       "      <td>[3d, cbd, snoop, doggs, brand, line, cannabis,...</td>\n",
       "    </tr>\n",
       "    <tr>\n",
       "      <th>9</th>\n",
       "      <td>3X-Crazy</td>\n",
       "      <td>indica</td>\n",
       "      <td>4</td>\n",
       "      <td>Relaxed,Tingly,Happy,Euphoric,Uplifted</td>\n",
       "      <td>Earthy,Grape,Sweet</td>\n",
       "      <td>Also known as Optimus Prime the indicadominant...</td>\n",
       "      <td>[know, optimus, prime, indicadominant, 3x, cra...</td>\n",
       "    </tr>\n",
       "    <tr>\n",
       "      <th>10</th>\n",
       "      <td>3Rd-Coast-Panama-Chunk</td>\n",
       "      <td>hybrid</td>\n",
       "      <td>5</td>\n",
       "      <td>Energetic,Happy,Talkative,Uplifted</td>\n",
       "      <td>Pine,Diesel</td>\n",
       "      <td>3rd Coast Panama Chunk by Bedford Grow is a cr...</td>\n",
       "      <td>[3rd, coast, panama, chunk, bedford, grow, cro...</td>\n",
       "    </tr>\n",
       "    <tr>\n",
       "      <th>11</th>\n",
       "      <td>501St-Og</td>\n",
       "      <td>hybrid</td>\n",
       "      <td>4</td>\n",
       "      <td>Relaxed,Euphoric,Sleepy,Happy,Talkative</td>\n",
       "      <td>Earthy,Pine,Skunk</td>\n",
       "      <td>501st OG bred by Rare Dankness is an indicadom...</td>\n",
       "      <td>[501st, og, breed, rare, dankness, indicadomin...</td>\n",
       "    </tr>\n",
       "    <tr>\n",
       "      <th>12</th>\n",
       "      <td>5Th-Element</td>\n",
       "      <td>indica</td>\n",
       "      <td>4</td>\n",
       "      <td>Relaxed,Focused,Euphoric,Uplifted,Aroused</td>\n",
       "      <td>Earthy,Woody,Pine</td>\n",
       "      <td>Elemental Seeds crossed Blackberry with All Sp...</td>\n",
       "      <td>[elemental, seeds, cross, blackberry, spark, o...</td>\n",
       "    </tr>\n",
       "    <tr>\n",
       "      <th>13</th>\n",
       "      <td>707-Headband</td>\n",
       "      <td>hybrid</td>\n",
       "      <td>4</td>\n",
       "      <td>Euphoric,Happy,Uplifted,Talkative,Creative</td>\n",
       "      <td>Earthy,Woody,Pungent</td>\n",
       "      <td>This strain emerged from the Humboldt CountyCa...</td>\n",
       "      <td>[strain, emerge, humboldt, countycalifornia, a...</td>\n",
       "    </tr>\n",
       "    <tr>\n",
       "      <th>14</th>\n",
       "      <td>8-Ball-Kush</td>\n",
       "      <td>indica</td>\n",
       "      <td>4</td>\n",
       "      <td>Relaxed,Uplifted,Happy,Creative,Euphoric</td>\n",
       "      <td>Citrus,Earthy,Pine</td>\n",
       "      <td>Bred by Barneys Farm 8 Ball Kush is a pure ind...</td>\n",
       "      <td>[breed, barneys, farm, 8, ball, kush, pure, in...</td>\n",
       "    </tr>\n",
       "    <tr>\n",
       "      <th>15</th>\n",
       "      <td>818-Og</td>\n",
       "      <td>indica</td>\n",
       "      <td>5</td>\n",
       "      <td>Relaxed,Happy,Euphoric,Giggly,Sleepy</td>\n",
       "      <td>Earthy,Diesel,Flowery</td>\n",
       "      <td>Named after the telephone area code of the San...</td>\n",
       "      <td>[name, telephone, area, code, san, fernando, v...</td>\n",
       "    </tr>\n",
       "    <tr>\n",
       "      <th>16</th>\n",
       "      <td>831-Og</td>\n",
       "      <td>indica</td>\n",
       "      <td>5</td>\n",
       "      <td>None</td>\n",
       "      <td>None</td>\n",
       "      <td>831 OG aka Santa Cruz OG is an indicadominant ...</td>\n",
       "      <td>[831, og, aka, santa, cruz, og, indicadominant...</td>\n",
       "    </tr>\n",
       "    <tr>\n",
       "      <th>17</th>\n",
       "      <td>9-Pound-Hammer</td>\n",
       "      <td>indica</td>\n",
       "      <td>4</td>\n",
       "      <td>Relaxed,Sleepy,Euphoric,Happy,Hungry</td>\n",
       "      <td>Earthy,Sweet,Berry</td>\n",
       "      <td>9 Pound Hammer is an 80 indica strain that cro...</td>\n",
       "      <td>[9, pound, hammer, 80, indica, strain, crosses...</td>\n",
       "    </tr>\n",
       "    <tr>\n",
       "      <th>18</th>\n",
       "      <td>91-Krypt</td>\n",
       "      <td>indica</td>\n",
       "      <td>5</td>\n",
       "      <td>Relaxed,Euphoric,Happy,Hungry,Uplifted</td>\n",
       "      <td>Earthy,Pungent,Berry</td>\n",
       "      <td>91 Krypt by DNA Genetics is a potent strain by...</td>\n",
       "      <td>[91, krypt, dna, genetics, potent, strain, nam...</td>\n",
       "    </tr>\n",
       "    <tr>\n",
       "      <th>19</th>\n",
       "      <td>A-10</td>\n",
       "      <td>indica</td>\n",
       "      <td>4</td>\n",
       "      <td>Relaxed,Focused,Happy,Sleepy,Uplifted</td>\n",
       "      <td>Citrus,Pungent,Sweet</td>\n",
       "      <td>A10 has an earthy hashy taste that provides a ...</td>\n",
       "      <td>[a10, earthy, hashy, taste, provide, heavy, bo...</td>\n",
       "    </tr>\n",
       "  </tbody>\n",
       "</table>\n",
       "</div>"
      ],
      "text/plain": [
       "                    Strain    Type  Rating  \\\n",
       "0                   100-Og  hybrid       4   \n",
       "1           98-White-Widow  hybrid       5   \n",
       "2                     1024  sativa       4   \n",
       "3                 13-Dawgs  hybrid       4   \n",
       "4                 24K-Gold  hybrid       5   \n",
       "5               3-Bears-Og  indica       0   \n",
       "6                  3-Kings  hybrid       4   \n",
       "7                   303-Og  indica       4   \n",
       "8                   3D-Cbd  sativa       5   \n",
       "9                 3X-Crazy  indica       4   \n",
       "10  3Rd-Coast-Panama-Chunk  hybrid       5   \n",
       "11                501St-Og  hybrid       4   \n",
       "12             5Th-Element  indica       4   \n",
       "13            707-Headband  hybrid       4   \n",
       "14             8-Ball-Kush  indica       4   \n",
       "15                  818-Og  indica       5   \n",
       "16                  831-Og  indica       5   \n",
       "17          9-Pound-Hammer  indica       4   \n",
       "18                91-Krypt  indica       5   \n",
       "19                    A-10  indica       4   \n",
       "\n",
       "                                       Effects                     Flavor  \\\n",
       "0   Creative,Energetic,Tingly,Euphoric,Relaxed        Earthy,Sweet,Citrus   \n",
       "1     Relaxed,Aroused,Creative,Happy,Energetic      Flowery,Violet,Diesel   \n",
       "2    Uplifted,Happy,Relaxed,Energetic,Creative    Spicy/Herbal,Sage,Woody   \n",
       "3      Tingly,Creative,Hungry,Relaxed,Uplifted  Apricot,Citrus,Grapefruit   \n",
       "4    Happy,Relaxed,Euphoric,Uplifted,Talkative       Citrus,Earthy,Orange   \n",
       "5                                         None                       None   \n",
       "6       Relaxed,Euphoric,Happy,Uplifted,Hungry       Earthy,Sweet,Pungent   \n",
       "7       Relaxed,Happy,Euphoric,Uplifted,Giggly      Citrus,Pungent,Earthy   \n",
       "8     Uplifted,Focused,Happy,Talkative,Relaxed       Earthy,Woody,Flowery   \n",
       "9       Relaxed,Tingly,Happy,Euphoric,Uplifted         Earthy,Grape,Sweet   \n",
       "10          Energetic,Happy,Talkative,Uplifted                Pine,Diesel   \n",
       "11     Relaxed,Euphoric,Sleepy,Happy,Talkative          Earthy,Pine,Skunk   \n",
       "12   Relaxed,Focused,Euphoric,Uplifted,Aroused          Earthy,Woody,Pine   \n",
       "13  Euphoric,Happy,Uplifted,Talkative,Creative       Earthy,Woody,Pungent   \n",
       "14    Relaxed,Uplifted,Happy,Creative,Euphoric         Citrus,Earthy,Pine   \n",
       "15        Relaxed,Happy,Euphoric,Giggly,Sleepy      Earthy,Diesel,Flowery   \n",
       "16                                        None                       None   \n",
       "17        Relaxed,Sleepy,Euphoric,Happy,Hungry         Earthy,Sweet,Berry   \n",
       "18      Relaxed,Euphoric,Happy,Hungry,Uplifted       Earthy,Pungent,Berry   \n",
       "19       Relaxed,Focused,Happy,Sleepy,Uplifted       Citrus,Pungent,Sweet   \n",
       "\n",
       "                                          Description  \\\n",
       "0   100 OG is a 5050 hybrid strain that packs a st...   \n",
       "1   The 98 Aloha White Widow is an especially pote...   \n",
       "2   1024 is a sativadominant hybrid bred in Spain ...   \n",
       "3   13 Dawgs is a hybrid of G13 and Chemdawg genet...   \n",
       "4   Also known as Kosher Tangie 24k Gold is a 60 i...   \n",
       "5   3 Bears OG by Mephisto Genetics is an autoflow...   \n",
       "6   The 3 Kings marijuana strain a holy trinity of...   \n",
       "7   The indicadominant 303 OG is a Colorado strain...   \n",
       "8   3D CBD from Snoop Doggs branded line of cannab...   \n",
       "9   Also known as Optimus Prime the indicadominant...   \n",
       "10  3rd Coast Panama Chunk by Bedford Grow is a cr...   \n",
       "11  501st OG bred by Rare Dankness is an indicadom...   \n",
       "12  Elemental Seeds crossed Blackberry with All Sp...   \n",
       "13  This strain emerged from the Humboldt CountyCa...   \n",
       "14  Bred by Barneys Farm 8 Ball Kush is a pure ind...   \n",
       "15  Named after the telephone area code of the San...   \n",
       "16  831 OG aka Santa Cruz OG is an indicadominant ...   \n",
       "17  9 Pound Hammer is an 80 indica strain that cro...   \n",
       "18  91 Krypt by DNA Genetics is a potent strain by...   \n",
       "19  A10 has an earthy hashy taste that provides a ...   \n",
       "\n",
       "                                               tokens  \n",
       "0   [100, og, 5050, hybrid, strain, pack, strong, ...  \n",
       "1   [98, aloha, white, widow, especially, potent, ...  \n",
       "2   [1024, sativadominant, hybrid, breed, spain, m...  \n",
       "3   [13, dawgs, hybrid, g13, chemdawg, genetic, br...  \n",
       "4   [know, kosher, tangie, 24k, gold, 60, indicado...  \n",
       "5   [3, bears, og, mephisto, genetics, autofloweri...  \n",
       "6   [3, king, marijuana, strain, holy, trinity, he...  \n",
       "7   [indicadominant, 303, og, colorado, strain, br...  \n",
       "8   [3d, cbd, snoop, doggs, brand, line, cannabis,...  \n",
       "9   [know, optimus, prime, indicadominant, 3x, cra...  \n",
       "10  [3rd, coast, panama, chunk, bedford, grow, cro...  \n",
       "11  [501st, og, breed, rare, dankness, indicadomin...  \n",
       "12  [elemental, seeds, cross, blackberry, spark, o...  \n",
       "13  [strain, emerge, humboldt, countycalifornia, a...  \n",
       "14  [breed, barneys, farm, 8, ball, kush, pure, in...  \n",
       "15  [name, telephone, area, code, san, fernando, v...  \n",
       "16  [831, og, aka, santa, cruz, og, indicadominant...  \n",
       "17  [9, pound, hammer, 80, indica, strain, crosses...  \n",
       "18  [91, krypt, dna, genetics, potent, strain, nam...  \n",
       "19  [a10, earthy, hashy, taste, provide, heavy, bo...  "
      ]
     },
     "execution_count": 165,
     "metadata": {},
     "output_type": "execute_result"
    }
   ],
   "source": [
    "df.head(20)"
   ]
  },
  {
   "cell_type": "code",
   "execution_count": 179,
   "metadata": {
    "colab": {},
    "colab_type": "code",
    "id": "Ka0AywjNMBMI"
   },
   "outputs": [
    {
     "name": "stdout",
     "output_type": "stream",
     "text": [
      "  (0, 278)\t0.2539252349674857\n",
      "  (0, 40)\t0.22263754085692442\n",
      "  (0, 176)\t0.25897201205094644\n",
      "  (0, 201)\t0.1903236125816137\n",
      "  (0, 326)\t0.1389000964025146\n",
      "  (0, 59)\t0.1593690132741868\n",
      "  (0, 319)\t0.1846975647314755\n",
      "  (0, 277)\t0.1322403765279542\n",
      "  (0, 204)\t0.12514866630544064\n",
      "  (0, 122)\t0.0853623639572682\n",
      "  (0, 38)\t0.12815487677516274\n",
      "  (0, 415)\t0.23961970613531203\n",
      "  (0, 47)\t0.12105486035902667\n",
      "  (0, 175)\t0.16707805519235433\n",
      "  (0, 99)\t0.2221006091954103\n",
      "  (0, 226)\t0.20889674455370938\n",
      "  (0, 298)\t0.1653708805431215\n",
      "  (0, 392)\t0.22713691142942297\n",
      "  (0, 292)\t0.15366693114720748\n",
      "  (0, 192)\t0.14064280501925308\n",
      "  (0, 303)\t0.2633794555368817\n",
      "  (0, 378)\t0.3221320915927574\n",
      "  (0, 370)\t0.06733323981159581\n",
      "  (0, 198)\t0.09616724853000204\n",
      "  (0, 5)\t0.2600405853208592\n",
      "  :\t:\n",
      "  (2276, 187)\t0.17497699108781303\n",
      "  (2276, 428)\t0.13654598177818195\n",
      "  (2276, 35)\t0.30157629091112875\n",
      "  (2276, 286)\t0.135237375697936\n",
      "  (2276, 162)\t0.17969004013751702\n",
      "  (2276, 306)\t0.12812561625009938\n",
      "  (2276, 84)\t0.11904871813461734\n",
      "  (2276, 371)\t0.17184709411881227\n",
      "  (2276, 188)\t0.13303894292876148\n",
      "  (2276, 377)\t0.1242122734823025\n",
      "  (2276, 295)\t0.15568172366260322\n",
      "  (2276, 210)\t0.1696406049571509\n",
      "  (2276, 207)\t0.10903154866729935\n",
      "  (2276, 222)\t0.24718662323141016\n",
      "  (2276, 20)\t0.14788198920710793\n",
      "  (2276, 367)\t0.17299428497192265\n",
      "  (2276, 107)\t0.15594164655345322\n",
      "  (2276, 34)\t0.16270331570636692\n",
      "  (2276, 304)\t0.13621507931913915\n",
      "  (2276, 148)\t0.09696403540522068\n",
      "  (2276, 41)\t0.11100351135297681\n",
      "  (2276, 130)\t0.13755424139271974\n",
      "  (2276, 122)\t0.06804968926855691\n",
      "  (2276, 38)\t0.1021632852994283\n",
      "  (2276, 370)\t0.2147084890440963\n"
     ]
    },
    {
     "data": {
      "text/html": [
       "<div>\n",
       "<style scoped>\n",
       "    .dataframe tbody tr th:only-of-type {\n",
       "        vertical-align: middle;\n",
       "    }\n",
       "\n",
       "    .dataframe tbody tr th {\n",
       "        vertical-align: top;\n",
       "    }\n",
       "\n",
       "    .dataframe thead th {\n",
       "        text-align: right;\n",
       "    }\n",
       "</style>\n",
       "<table border=\"1\" class=\"dataframe\">\n",
       "  <thead>\n",
       "    <tr style=\"text-align: right;\">\n",
       "      <th></th>\n",
       "      <th>1</th>\n",
       "      <th>10</th>\n",
       "      <th>11</th>\n",
       "      <th>1st</th>\n",
       "      <th>20</th>\n",
       "      <th>5050</th>\n",
       "      <th>60</th>\n",
       "      <th>70</th>\n",
       "      <th>8</th>\n",
       "      <th>8 9</th>\n",
       "      <th>...</th>\n",
       "      <th>week</th>\n",
       "      <th>week flower</th>\n",
       "      <th>white</th>\n",
       "      <th>white widow</th>\n",
       "      <th>widow</th>\n",
       "      <th>win</th>\n",
       "      <th>work</th>\n",
       "      <th>world</th>\n",
       "      <th>x</th>\n",
       "      <th>yield</th>\n",
       "    </tr>\n",
       "  </thead>\n",
       "  <tbody>\n",
       "    <tr>\n",
       "      <th>0</th>\n",
       "      <td>0.0</td>\n",
       "      <td>0.0</td>\n",
       "      <td>0.0</td>\n",
       "      <td>0.000000</td>\n",
       "      <td>0.0</td>\n",
       "      <td>0.260041</td>\n",
       "      <td>0.000000</td>\n",
       "      <td>0.0</td>\n",
       "      <td>0.0</td>\n",
       "      <td>0.0</td>\n",
       "      <td>...</td>\n",
       "      <td>0.0</td>\n",
       "      <td>0.0</td>\n",
       "      <td>0.000000</td>\n",
       "      <td>0.00000</td>\n",
       "      <td>0.000000</td>\n",
       "      <td>0.0</td>\n",
       "      <td>0.0</td>\n",
       "      <td>0.0</td>\n",
       "      <td>0.0</td>\n",
       "      <td>0.0</td>\n",
       "    </tr>\n",
       "    <tr>\n",
       "      <th>1</th>\n",
       "      <td>0.0</td>\n",
       "      <td>0.0</td>\n",
       "      <td>0.0</td>\n",
       "      <td>0.136748</td>\n",
       "      <td>0.0</td>\n",
       "      <td>0.000000</td>\n",
       "      <td>0.000000</td>\n",
       "      <td>0.0</td>\n",
       "      <td>0.0</td>\n",
       "      <td>0.0</td>\n",
       "      <td>...</td>\n",
       "      <td>0.0</td>\n",
       "      <td>0.0</td>\n",
       "      <td>0.395585</td>\n",
       "      <td>0.50553</td>\n",
       "      <td>0.498483</td>\n",
       "      <td>0.0</td>\n",
       "      <td>0.0</td>\n",
       "      <td>0.0</td>\n",
       "      <td>0.0</td>\n",
       "      <td>0.0</td>\n",
       "    </tr>\n",
       "    <tr>\n",
       "      <th>2</th>\n",
       "      <td>0.0</td>\n",
       "      <td>0.0</td>\n",
       "      <td>0.0</td>\n",
       "      <td>0.000000</td>\n",
       "      <td>0.0</td>\n",
       "      <td>0.000000</td>\n",
       "      <td>0.000000</td>\n",
       "      <td>0.0</td>\n",
       "      <td>0.0</td>\n",
       "      <td>0.0</td>\n",
       "      <td>...</td>\n",
       "      <td>0.0</td>\n",
       "      <td>0.0</td>\n",
       "      <td>0.000000</td>\n",
       "      <td>0.00000</td>\n",
       "      <td>0.000000</td>\n",
       "      <td>0.0</td>\n",
       "      <td>0.0</td>\n",
       "      <td>0.0</td>\n",
       "      <td>0.0</td>\n",
       "      <td>0.0</td>\n",
       "    </tr>\n",
       "    <tr>\n",
       "      <th>3</th>\n",
       "      <td>0.0</td>\n",
       "      <td>0.0</td>\n",
       "      <td>0.0</td>\n",
       "      <td>0.000000</td>\n",
       "      <td>0.0</td>\n",
       "      <td>0.000000</td>\n",
       "      <td>0.000000</td>\n",
       "      <td>0.0</td>\n",
       "      <td>0.0</td>\n",
       "      <td>0.0</td>\n",
       "      <td>...</td>\n",
       "      <td>0.0</td>\n",
       "      <td>0.0</td>\n",
       "      <td>0.000000</td>\n",
       "      <td>0.00000</td>\n",
       "      <td>0.000000</td>\n",
       "      <td>0.0</td>\n",
       "      <td>0.0</td>\n",
       "      <td>0.0</td>\n",
       "      <td>0.0</td>\n",
       "      <td>0.0</td>\n",
       "    </tr>\n",
       "    <tr>\n",
       "      <th>4</th>\n",
       "      <td>0.0</td>\n",
       "      <td>0.0</td>\n",
       "      <td>0.0</td>\n",
       "      <td>0.000000</td>\n",
       "      <td>0.0</td>\n",
       "      <td>0.000000</td>\n",
       "      <td>0.208853</td>\n",
       "      <td>0.0</td>\n",
       "      <td>0.0</td>\n",
       "      <td>0.0</td>\n",
       "      <td>...</td>\n",
       "      <td>0.0</td>\n",
       "      <td>0.0</td>\n",
       "      <td>0.000000</td>\n",
       "      <td>0.00000</td>\n",
       "      <td>0.000000</td>\n",
       "      <td>0.0</td>\n",
       "      <td>0.0</td>\n",
       "      <td>0.0</td>\n",
       "      <td>0.0</td>\n",
       "      <td>0.0</td>\n",
       "    </tr>\n",
       "  </tbody>\n",
       "</table>\n",
       "<p>5 rows × 429 columns</p>\n",
       "</div>"
      ],
      "text/plain": [
       "     1   10   11       1st   20      5050        60   70    8  8 9  ...  week  \\\n",
       "0  0.0  0.0  0.0  0.000000  0.0  0.260041  0.000000  0.0  0.0  0.0  ...   0.0   \n",
       "1  0.0  0.0  0.0  0.136748  0.0  0.000000  0.000000  0.0  0.0  0.0  ...   0.0   \n",
       "2  0.0  0.0  0.0  0.000000  0.0  0.000000  0.000000  0.0  0.0  0.0  ...   0.0   \n",
       "3  0.0  0.0  0.0  0.000000  0.0  0.000000  0.000000  0.0  0.0  0.0  ...   0.0   \n",
       "4  0.0  0.0  0.0  0.000000  0.0  0.000000  0.208853  0.0  0.0  0.0  ...   0.0   \n",
       "\n",
       "   week flower     white  white widow     widow  win  work  world    x  yield  \n",
       "0          0.0  0.000000      0.00000  0.000000  0.0   0.0    0.0  0.0    0.0  \n",
       "1          0.0  0.395585      0.50553  0.498483  0.0   0.0    0.0  0.0    0.0  \n",
       "2          0.0  0.000000      0.00000  0.000000  0.0   0.0    0.0  0.0    0.0  \n",
       "3          0.0  0.000000      0.00000  0.000000  0.0   0.0    0.0  0.0    0.0  \n",
       "4          0.0  0.000000      0.00000  0.000000  0.0   0.0    0.0  0.0    0.0  \n",
       "\n",
       "[5 rows x 429 columns]"
      ]
     },
     "execution_count": 179,
     "metadata": {},
     "output_type": "execute_result"
    }
   ],
   "source": [
    "#import TfidfVectorizer, were going to use this to vectorizet the tokens column\n",
    "from sklearn.feature_extraction.text import TfidfVectorizer\n",
    "\n",
    "#We want to convert a collection of raw documents to a matrix of TF-IDF features\n",
    "#The goal is to vectorize our Description\n",
    "# Tunning Parameters\n",
    "# Instantiate vectorizer object\n",
    "tfidf = TfidfVectorizer(ngram_range=(1,2),\n",
    "                        max_df=.97,\n",
    "                        min_df=.02,\n",
    "                        tokenizer = tokenize\n",
    "                        )\n",
    "data = df\n",
    "# And create a vocabulary and get word counts per document\n",
    "\n",
    "# Similiar to fit_predict\n",
    "dtm= tfidf.fit_transform(data.Description)\n",
    "\n",
    "print(dtm)\n",
    "\n",
    "# Get feature names to use as dataframe column headers\n",
    "dtm = pd.DataFrame(dtm.todense(), columns=tfidf.get_feature_names())\n",
    "\n",
    "# View Feature Matrix as DataFrame\n",
    "dtm.head()"
   ]
  },
  {
   "cell_type": "markdown",
   "metadata": {
    "colab_type": "text",
    "id": "B26eq5wKMrF4"
   },
   "source": [
    "Build a Nearest Neighbors model from your dataframe and then find the 5 nearest neighbors to the strain \"100-OG\""
   ]
  },
  {
   "cell_type": "code",
   "execution_count": 180,
   "metadata": {},
   "outputs": [
    {
     "data": {
      "text/plain": [
       "NearestNeighbors(algorithm='kd_tree', leaf_size=30, metric='minkowski',\n",
       "                 metric_params=None, n_jobs=None, n_neighbors=5, p=2,\n",
       "                 radius=1.0)"
      ]
     },
     "execution_count": 180,
     "metadata": {},
     "output_type": "execute_result"
    }
   ],
   "source": [
    "#Build Nearest Neighbors Model\n",
    "from sklearn.neighbors import NearestNeighbors\n",
    "\n",
    "# instantiate neareast neighboors model, we want to find the 5 nearest neighboors to strain 100-OG\n",
    "nn = NearestNeighbors(n_neighbors=5, algorithm='kd_tree')\n",
    "#Fit on the document term matrix dtm\n",
    "nn.fit(dtm)"
   ]
  },
  {
   "cell_type": "code",
   "execution_count": 181,
   "metadata": {},
   "outputs": [],
   "source": [
    "#Make a query based on the 100-OG strain\n",
    "strain_100_OG= [\"\"\" 100-OG strain\"\"\"]\n",
    "query = tfidf.transform(strain_100_OG)"
   ]
  },
  {
   "cell_type": "code",
   "execution_count": 185,
   "metadata": {},
   "outputs": [
    {
     "data": {
      "text/plain": [
       "(array([[1.        , 1.        , 1.        , 1.        , 1.06187646]]),\n",
       " array([[1605, 1698, 1606, 1607, 1681]]))"
      ]
     },
     "execution_count": 185,
     "metadata": {},
     "output_type": "execute_result"
    }
   ],
   "source": [
    "#find the 5 nearest neighboors\n",
    "nn.kneighbors(query.todense())"
   ]
  },
  {
   "cell_type": "code",
   "execution_count": 186,
   "metadata": {},
   "outputs": [],
   "source": [
    "#The nearest neighboors are strains in rows 1605,1606,1607,1681"
   ]
  },
  {
   "cell_type": "code",
   "execution_count": 188,
   "metadata": {},
   "outputs": [
    {
     "data": {
      "text/plain": [
       "'Pineapple Super Silver Haze from Fire Bros is a sativa strain that modifies the widely cherished Super Silver Haze with a Pineapple hybrid strain This second parent is thought to be either Pineapple Express or Pineapple a phenotype of Ed Rosenthal Super Bud The Haze genetics in this strain come through in both flavor and effect as Pineapple Super Silver Haze delivers a highflying cerebral buzz alongside a spicy zesty flavor Its aroma is more of a tropical medley of candied mango pineapple and oranges Like a cup of coffee this sativa is a perfect pickmeup with motivating talkative and creative effects and minimal heaviness in the body'"
      ]
     },
     "execution_count": 188,
     "metadata": {},
     "output_type": "execute_result"
    }
   ],
   "source": [
    "# Inspect Most relevant result\n",
    "data.Description[1605]"
   ]
  },
  {
   "cell_type": "markdown",
   "metadata": {},
   "source": [
    "You will be putting together a classification model below, but before you do you'll need a baseline. Run the line of code below and then find the normalized value counts for the Rating column in df."
   ]
  },
  {
   "cell_type": "code",
   "execution_count": 189,
   "metadata": {
    "colab": {},
    "colab_type": "code",
    "id": "6zsEPQgRZKmH"
   },
   "outputs": [],
   "source": [
    "df['Rating'] = df['Rating'].round().astype(int)"
   ]
  },
  {
   "cell_type": "code",
   "execution_count": 190,
   "metadata": {
    "colab": {},
    "colab_type": "code",
    "id": "RCPof-7VZOMt"
   },
   "outputs": [
    {
     "data": {
      "text/html": [
       "<div>\n",
       "<style scoped>\n",
       "    .dataframe tbody tr th:only-of-type {\n",
       "        vertical-align: middle;\n",
       "    }\n",
       "\n",
       "    .dataframe tbody tr th {\n",
       "        vertical-align: top;\n",
       "    }\n",
       "\n",
       "    .dataframe thead th {\n",
       "        text-align: right;\n",
       "    }\n",
       "</style>\n",
       "<table border=\"1\" class=\"dataframe\">\n",
       "  <thead>\n",
       "    <tr style=\"text-align: right;\">\n",
       "      <th></th>\n",
       "      <th>Strain</th>\n",
       "      <th>Type</th>\n",
       "      <th>Rating</th>\n",
       "      <th>Effects</th>\n",
       "      <th>Flavor</th>\n",
       "      <th>Description</th>\n",
       "      <th>tokens</th>\n",
       "    </tr>\n",
       "  </thead>\n",
       "  <tbody>\n",
       "    <tr>\n",
       "      <th>0</th>\n",
       "      <td>100-Og</td>\n",
       "      <td>hybrid</td>\n",
       "      <td>4</td>\n",
       "      <td>Creative,Energetic,Tingly,Euphoric,Relaxed</td>\n",
       "      <td>Earthy,Sweet,Citrus</td>\n",
       "      <td>100 OG is a 5050 hybrid strain that packs a st...</td>\n",
       "      <td>[100, og, 5050, hybrid, strain, pack, strong, ...</td>\n",
       "    </tr>\n",
       "    <tr>\n",
       "      <th>1</th>\n",
       "      <td>98-White-Widow</td>\n",
       "      <td>hybrid</td>\n",
       "      <td>5</td>\n",
       "      <td>Relaxed,Aroused,Creative,Happy,Energetic</td>\n",
       "      <td>Flowery,Violet,Diesel</td>\n",
       "      <td>The 98 Aloha White Widow is an especially pote...</td>\n",
       "      <td>[98, aloha, white, widow, especially, potent, ...</td>\n",
       "    </tr>\n",
       "    <tr>\n",
       "      <th>2</th>\n",
       "      <td>1024</td>\n",
       "      <td>sativa</td>\n",
       "      <td>4</td>\n",
       "      <td>Uplifted,Happy,Relaxed,Energetic,Creative</td>\n",
       "      <td>Spicy/Herbal,Sage,Woody</td>\n",
       "      <td>1024 is a sativadominant hybrid bred in Spain ...</td>\n",
       "      <td>[1024, sativadominant, hybrid, breed, spain, m...</td>\n",
       "    </tr>\n",
       "    <tr>\n",
       "      <th>3</th>\n",
       "      <td>13-Dawgs</td>\n",
       "      <td>hybrid</td>\n",
       "      <td>4</td>\n",
       "      <td>Tingly,Creative,Hungry,Relaxed,Uplifted</td>\n",
       "      <td>Apricot,Citrus,Grapefruit</td>\n",
       "      <td>13 Dawgs is a hybrid of G13 and Chemdawg genet...</td>\n",
       "      <td>[13, dawgs, hybrid, g13, chemdawg, genetic, br...</td>\n",
       "    </tr>\n",
       "    <tr>\n",
       "      <th>4</th>\n",
       "      <td>24K-Gold</td>\n",
       "      <td>hybrid</td>\n",
       "      <td>5</td>\n",
       "      <td>Happy,Relaxed,Euphoric,Uplifted,Talkative</td>\n",
       "      <td>Citrus,Earthy,Orange</td>\n",
       "      <td>Also known as Kosher Tangie 24k Gold is a 60 i...</td>\n",
       "      <td>[know, kosher, tangie, 24k, gold, 60, indicado...</td>\n",
       "    </tr>\n",
       "  </tbody>\n",
       "</table>\n",
       "</div>"
      ],
      "text/plain": [
       "           Strain    Type  Rating                                     Effects  \\\n",
       "0          100-Og  hybrid       4  Creative,Energetic,Tingly,Euphoric,Relaxed   \n",
       "1  98-White-Widow  hybrid       5    Relaxed,Aroused,Creative,Happy,Energetic   \n",
       "2            1024  sativa       4   Uplifted,Happy,Relaxed,Energetic,Creative   \n",
       "3        13-Dawgs  hybrid       4     Tingly,Creative,Hungry,Relaxed,Uplifted   \n",
       "4        24K-Gold  hybrid       5   Happy,Relaxed,Euphoric,Uplifted,Talkative   \n",
       "\n",
       "                      Flavor  \\\n",
       "0        Earthy,Sweet,Citrus   \n",
       "1      Flowery,Violet,Diesel   \n",
       "2    Spicy/Herbal,Sage,Woody   \n",
       "3  Apricot,Citrus,Grapefruit   \n",
       "4       Citrus,Earthy,Orange   \n",
       "\n",
       "                                         Description  \\\n",
       "0  100 OG is a 5050 hybrid strain that packs a st...   \n",
       "1  The 98 Aloha White Widow is an especially pote...   \n",
       "2  1024 is a sativadominant hybrid bred in Spain ...   \n",
       "3  13 Dawgs is a hybrid of G13 and Chemdawg genet...   \n",
       "4  Also known as Kosher Tangie 24k Gold is a 60 i...   \n",
       "\n",
       "                                              tokens  \n",
       "0  [100, og, 5050, hybrid, strain, pack, strong, ...  \n",
       "1  [98, aloha, white, widow, especially, potent, ...  \n",
       "2  [1024, sativadominant, hybrid, breed, spain, m...  \n",
       "3  [13, dawgs, hybrid, g13, chemdawg, genetic, br...  \n",
       "4  [know, kosher, tangie, 24k, gold, 60, indicado...  "
      ]
     },
     "execution_count": 190,
     "metadata": {},
     "output_type": "execute_result"
    }
   ],
   "source": [
    "df.head()"
   ]
  },
  {
   "cell_type": "code",
   "execution_count": 191,
   "metadata": {},
   "outputs": [
    {
     "data": {
      "text/plain": [
       "4    0.601669\n",
       "5    0.357049\n",
       "0    0.028986\n",
       "3    0.010979\n",
       "2    0.000878\n",
       "1    0.000439\n",
       "Name: Rating, dtype: float64"
      ]
     },
     "execution_count": 191,
     "metadata": {},
     "output_type": "execute_result"
    }
   ],
   "source": [
    "#find the counts for ratings column\n",
    "df['Rating'].value_counts(normalize=True)"
   ]
  },
  {
   "cell_type": "markdown",
   "metadata": {
    "colab_type": "text",
    "id": "hboaEX03Z_w5"
   },
   "source": [
    "What is the baseline accuracy?\n",
    "```\n",
    "Your Answer Here\n",
    "```\n",
    "\n",
    "Visualize the rating counts from above"
   ]
  },
  {
   "cell_type": "code",
   "execution_count": 192,
   "metadata": {
    "colab": {},
    "colab_type": "code",
    "id": "9PGmJSMqZxo0"
   },
   "outputs": [
    {
     "data": {
      "text/plain": [
       "<AxesSubplot:xlabel='Rating', ylabel='count'>"
      ]
     },
     "execution_count": 192,
     "metadata": {},
     "output_type": "execute_result"
    },
    {
     "data": {
      "image/png": "[encoded data removed]",
      "text/plain": [
       "<Figure size 432x288 with 1 Axes>"
      ]
     },
     "metadata": {
      "needs_background": "light"
     },
     "output_type": "display_data"
    }
   ],
   "source": [
    "#Make value counts of Ratings Column\n",
    "sns.countplot(x='Rating', data=df)"
   ]
  },
  {
   "cell_type": "markdown",
   "metadata": {
    "colab_type": "text",
    "id": "WwPg1cpShKNA"
   },
   "source": [
    "# Use your vectorized tokens in the `df` dataframe to train a classification model"
   ]
  },
  {
   "cell_type": "code",
   "execution_count": 198,
   "metadata": {
    "colab": {},
    "colab_type": "code",
    "id": "awu-ujvvhips"
   },
   "outputs": [],
   "source": [
    "#import necessary models to make model\n",
    "from sklearn.ensemble import RandomForestClassifier\n",
    "from sklearn.model_selection import RandomizedSearchCV\n",
    "from sklearn.pipeline import Pipeline\n"
   ]
  },
  {
   "cell_type": "code",
   "execution_count": 216,
   "metadata": {},
   "outputs": [
    {
     "data": {
      "text/plain": [
       "0       100 OG is a 5050 hybrid strain that packs a st...\n",
       "1       The 98 Aloha White Widow is an especially pote...\n",
       "2       1024 is a sativadominant hybrid bred in Spain ...\n",
       "3       13 Dawgs is a hybrid of G13 and Chemdawg genet...\n",
       "4       Also known as Kosher Tangie 24k Gold is a 60 i...\n",
       "                              ...                        \n",
       "2346    Zeus OG is ahybrid cross between Pineapple OG ...\n",
       "2347    Zkittlez is an indicadominant mix of Grape Ape...\n",
       "2348    Zombie Kush by Ripper Seeds comes from two dif...\n",
       "2349    If youre looking to transform into a flesheati...\n",
       "2350    Zoom Pie also known as Zombie Pie is a heavy i...\n",
       "Name: Description, Length: 2277, dtype: object"
      ]
     },
     "execution_count": 216,
     "metadata": {},
     "output_type": "execute_result"
    }
   ],
   "source": [
    "data.Description"
   ]
  },
  {
   "cell_type": "code",
   "execution_count": 235,
   "metadata": {},
   "outputs": [],
   "source": [
    "# under the hood for what happens inside pipeline\n",
    "# # X = vect.fit_transform(data.Description)\n",
    "# # X_matrix = pd.DataFrame(X.todense(), columns=vect.get_feature_names())\n",
    "# # X_matrix\n",
    "# dummy_model = RandomForestClassifier().fit(X_matrix, data.Rating)"
   ]
  },
  {
   "cell_type": "code",
   "execution_count": 243,
   "metadata": {},
   "outputs": [],
   "source": [
    "# #Get word vectors for data\n",
    "# def get_word_vectors(docs):\n",
    "#     return [nlp(doc).vector for doc in docs]\n",
    "\n",
    "# #Apply grid search on train description(data) and use param from above\n",
    "# train_vectorized = get_word_vectors(data.Description)\n",
    "\n",
    "# train_vectorized[1]\n",
    "# array([ 1.51370736e-02,  1.12282842e-01, -2.74586733e-02, -3.14401165e-02,\n",
    "#         1.07745141e-01,  1.55786537e-02,  3.29349227e-02, -2.85603981e-02,\n",
    "#        -2.80274190e-02,  1.43373537e+00, -3.48883234e-02, -5.17732613e-02,\n",
    "#        -9.86212492e-02, -8.35122168e-02,  4.03370224e-02, -7.39314258e-02,"
   ]
  },
  {
   "cell_type": "code",
   "execution_count": 203,
   "metadata": {},
   "outputs": [],
   "source": [
    "# Define the Pipeline\n",
    "#Insert TfidVectorizer and RandomForestClassifier Into one Pipeline\n",
    "vect = TfidfVectorizer(stop_words='english', ngram_range=(1,2))\n",
    "rfc = RandomForestClassifier()\n",
    "# Define the Pipeline\n",
    "pipe = Pipeline([\n",
    "                 #Vectorizer\n",
    "                 ('vect', vect),\n",
    "                 #This will produce a document term matrix which will be used in the classifier to come up with a prediction\n",
    "                 # Classifier\n",
    "                 ('clf', rfc)\n",
    "                ])\n",
    "\n",
    "params= {\n",
    "    'vect__max_df': (0.75, 1.0),\n",
    "    'clf__max_depth':(5,10,15,20),\n",
    "    'clf__n_estimators':(100,)\n",
    "}"
   ]
  },
  {
   "cell_type": "code",
   "execution_count": 250,
   "metadata": {},
   "outputs": [
    {
     "name": "stderr",
     "output_type": "stream",
     "text": [
      "/Users/johnrivera/.virtualenvs/DS-Unit-4-Sprint-1-NLP-N2EbWurJ/lib/python3.8/site-packages/sklearn/model_selection/_search.py:277: UserWarning: The total space of parameters 8 is smaller than n_iter=10. Running 8 iterations. For exhaustive searches, use GridSearchCV.\n",
      "  warnings.warn(\n",
      "/Users/johnrivera/.virtualenvs/DS-Unit-4-Sprint-1-NLP-N2EbWurJ/lib/python3.8/site-packages/sklearn/model_selection/_split.py:665: UserWarning: The least populated class in y has only 1 members, which is less than n_splits=5.\n",
      "  warnings.warn((\"The least populated class in y has only %d\"\n",
      "[Parallel(n_jobs=-1)]: Using backend LokyBackend with 8 concurrent workers.\n"
     ]
    },
    {
     "name": "stdout",
     "output_type": "stream",
     "text": [
      "Fitting 5 folds for each of 8 candidates, totalling 40 fits\n"
     ]
    },
    {
     "name": "stderr",
     "output_type": "stream",
     "text": [
      "[Parallel(n_jobs=-1)]: Done  40 out of  40 | elapsed:    7.7s finished\n"
     ]
    },
    {
     "data": {
      "text/plain": [
       "RandomizedSearchCV(cv=5, error_score=nan,\n",
       "                   estimator=Pipeline(memory=None,\n",
       "                                      steps=[('vect',\n",
       "                                              TfidfVectorizer(analyzer='word',\n",
       "                                                              binary=False,\n",
       "                                                              decode_error='strict',\n",
       "                                                              dtype=<class 'numpy.float64'>,\n",
       "                                                              encoding='utf-8',\n",
       "                                                              input='content',\n",
       "                                                              lowercase=True,\n",
       "                                                              max_df=1.0,\n",
       "                                                              max_features=None,\n",
       "                                                              min_df=1,\n",
       "                                                              ngram_range=(1,\n",
       "                                                                           2),\n",
       "                                                              norm='l2',\n",
       "                                                              preprocessor=None,\n",
       "                                                              smooth_idf=True,\n",
       "                                                              stop_words='english'...\n",
       "                                                                     n_estimators=100,\n",
       "                                                                     n_jobs=None,\n",
       "                                                                     oob_score=False,\n",
       "                                                                     random_state=None,\n",
       "                                                                     verbose=0,\n",
       "                                                                     warm_start=False))],\n",
       "                                      verbose=False),\n",
       "                   iid='deprecated', n_iter=10, n_jobs=-1,\n",
       "                   param_distributions={'clf__max_depth': (5, 10, 15, 20),\n",
       "                                        'clf__n_estimators': (100,),\n",
       "                                        'vect__max_df': (0.75, 1.0)},\n",
       "                   pre_dispatch='2*n_jobs', random_state=None, refit=True,\n",
       "                   return_train_score=False, scoring=None, verbose=1)"
      ]
     },
     "execution_count": 250,
     "metadata": {},
     "output_type": "execute_result"
    }
   ],
   "source": [
    "#Perform a random search cv , based on Tfidf vectorize and randoforesstclassifier Pipeline\n",
    "random_search = RandomizedSearchCV(pipe,params, cv=5, n_jobs=-1, verbose=1)\n",
    "random_search.fit(data.Description, data.Rating)"
   ]
  },
  {
   "cell_type": "markdown",
   "metadata": {
    "colab_type": "text",
    "id": "kGhSLJ5Fhlg9"
   },
   "source": [
    "# Predict the score of the fake strain description below.\n",
    "\n",
    "```\n",
    "'Afgooey, also known as Afgoo, is a potent indica strain that is believed to descend from an Afghani indica and Maui Haze. \n",
    "Its sativa parent may lend Afgoo some uplifting, creative qualities, but this strain undoubtedly takes after its indica \n",
    "parent as it primarily delivers relaxing, sleepy effects alongside its earthy pine flavor. Growers hoping to cultivate Afgoo \n",
    "may have a better chance of success indoors, but this indica can also thrive in Mediterranean climates outdoors.'\n",
    "```"
   ]
  },
  {
   "cell_type": "code",
   "execution_count": 210,
   "metadata": {},
   "outputs": [
    {
     "data": {
      "text/plain": [
       "array([4])"
      ]
     },
     "execution_count": 210,
     "metadata": {},
     "output_type": "execute_result"
    }
   ],
   "source": [
    "random_search.predict([\"\"\" Afgooey, also known as Afgoo, is a potent indica strain that is believed to descend from an Afghani indica and Maui Haze. \n",
    "Its sativa parent may lend Afgoo some uplifting, creative qualities, but this strain undoubtedly takes after its indica \n",
    "parent as it primarily delivers relaxing, sleepy effects alongside its earthy pine flavor. Growers hoping to cultivate Afgoo \n",
    "may have a better chance of success indoors, but this indica can also thrive in Mediterranean climates outdoors.\"\"\"])\n"
   ]
  },
  {
   "cell_type": "markdown",
   "metadata": {
    "colab_type": "text",
    "id": "RGnLTUL8ik4V"
   },
   "source": [
    "# Topic Modeling"
   ]
  },
  {
   "cell_type": "markdown",
   "metadata": {
    "colab_type": "text",
    "id": "rfXxSZSDk-Sh"
   },
   "source": [
    "## Questions of Understanding"
   ]
  },
  {
   "cell_type": "markdown",
   "metadata": {
    "colab_type": "text",
    "id": "hlcEfmnyk-St"
   },
   "source": [
    "1. What is Latent Dirichlet Allocation? What is another name for LDA in NLP? (TOPIC MODELLING)\n",
    "```\n",
    "Your Answer Here\n",
    "What is topic modeling?\n",
    "Topic modeling is a method for unsupervised classification of documents, similar to clustering on numeric data, which finds some natural groups of items (topics) even when we’re not sure what we’re looking for.\n",
    "A document can be a part of multiple topics, kind of like in fuzzy clustering(soft clustering) in which each data point belongs to more than one cluster.\n",
    "\n",
    "\n",
    "LDA\n",
    "It is one of the most popular topic modeling methods. Each document is made up of various words, and each topic also has various words belonging to it. The aim of LDA is to find topics a document belongs to, based on the words in it. \n",
    "\n",
    "https://towardsdatascience.com/latent-dirichlet-allocation-lda-9d1cd064ffa2\n",
    "\n",
    "In natural language processing, the latent Dirichlet allocation (LDA) is a generative statistical model that allows sets of observations to be explained by unobserved groups that explain why some parts of the data are similar. For example, if observations are words collected into documents, it posits that each document is a mixture of a small number of topics and that each word's presence is attributable to one of the document's topics. LDA is an example of a topic model and belongs to the machine learning toolbox \n",
    "https://en.wikipedia.org/wiki/Latent_Dirichlet_allocation\n",
    "\n",
    "```\n",
    "\n",
    "2. How do interpret the results of a topic modeling output?\n",
    "```\n",
    "Your Answer Here\n",
    "\n",
    "We interpret the results using visualizatoins... by looking at how the bubbles produce in the visualizations circles interact with each other.\n",
    "\t- Were trying to see if the topics are overlapping\n",
    "\t- Can see the distances between topic,gives and understanding of how related the topics are to each other.\n",
    "    - Bubble size indicates the relative size in the corpus,  especially how many documents have this topic!\n",
    "    - The lambda value also gives us information of how important words or to the topic to the entire document or how important it is to the topic itself."
   ]
  },
  {
   "cell_type": "code",
   "execution_count": null,
   "metadata": {},
   "outputs": [],
   "source": []
  },
  {
   "cell_type": "markdown",
   "metadata": {
    "colab_type": "text",
    "id": "lAf8cmNFl_n5"
   },
   "source": [
    "## Practice Problems"
   ]
  },
  {
   "cell_type": "markdown",
   "metadata": {
    "colab_type": "text",
    "id": "RIeP8NyHmAU8"
   },
   "source": [
    "Find the top 5 topics of the `Description` column using LDA"
   ]
  },
  {
   "cell_type": "code",
   "execution_count": 251,
   "metadata": {
    "colab": {},
    "colab_type": "code",
    "id": "e-8zDKA_mAba"
   },
   "outputs": [],
   "source": [
    "#Import gensim, will be used to create LDA model\n",
    "import gensim\n",
    "from gensim import corpora\n",
    "from gensim.models.ldamulticore import LdaMulticore"
   ]
  },
  {
   "cell_type": "code",
   "execution_count": 253,
   "metadata": {},
   "outputs": [],
   "source": [
    "# Dict representation of all our keyword\n",
    "# This also represents the fit step\n",
    "id2word = corpora.Dictionary(df['tokens'])"
   ]
  },
  {
   "cell_type": "code",
   "execution_count": 254,
   "metadata": {},
   "outputs": [
    {
     "data": {
      "text/plain": [
       "9225"
      ]
     },
     "execution_count": 254,
     "metadata": {},
     "output_type": "execute_result"
    }
   ],
   "source": [
    "#number of keys\n",
    "len(id2word.keys())"
   ]
  },
  {
   "cell_type": "code",
   "execution_count": 255,
   "metadata": {},
   "outputs": [],
   "source": [
    "#fiiltering step (statistical triiming)\n",
    "#we don't want keys with frequency above 85 percent and we want a minimum frequency of 15 present\n",
    "id2word.filter_extremes(no_below=15, no_above=0.85)"
   ]
  },
  {
   "cell_type": "code",
   "execution_count": 257,
   "metadata": {},
   "outputs": [],
   "source": [
    "#This represents our transform statement\n",
    "corpus = [id2word.doc2bow(text) for text in df['tokens']]"
   ]
  },
  {
   "cell_type": "code",
   "execution_count": 258,
   "metadata": {},
   "outputs": [],
   "source": [
    "#create lda model\n",
    "lda = LdaMulticore(corpus=corpus,\n",
    "                   id2word=id2word,\n",
    "                   num_topics=5,\n",
    "                   passes=50, \n",
    "                   workers=4\n",
    "                  )"
   ]
  },
  {
   "cell_type": "code",
   "execution_count": 259,
   "metadata": {},
   "outputs": [
    {
     "data": {
      "text/plain": [
       "[(0,\n",
       "  '0.035*\"strain\" + 0.027*\"effect\" + 0.022*\"hybrid\" + 0.019*\"blue\" + 0.014*\"sweet\" + 0.014*\"blueberry\" + 0.014*\"aroma\" + 0.013*\"pain\" + 0.012*\"flavor\" + 0.011*\"sativadominant\"'),\n",
       " (1,\n",
       "  '0.039*\"strain\" + 0.023*\"effect\" + 0.022*\"cross\" + 0.015*\"consumer\" + 0.015*\"physical\" + 0.014*\"aroma\" + 0.013*\"body\" + 0.013*\"offer\" + 0.012*\"kush\" + 0.011*\"cookies\"'),\n",
       " (2,\n",
       "  '0.038*\"strain\" + 0.030*\"sativa\" + 0.026*\"sour\" + 0.024*\"diesel\" + 0.021*\"effect\" + 0.020*\"haze\" + 0.014*\"skunk\" + 0.012*\"cross\" + 0.012*\"hybrid\" + 0.011*\"aroma\"'),\n",
       " (3,\n",
       "  '0.057*\"og\" + 0.042*\"kush\" + 0.038*\"strain\" + 0.021*\"indica\" + 0.019*\"hybrid\" + 0.018*\"effect\" + 0.014*\"purple\" + 0.013*\"aroma\" + 0.012*\"body\" + 0.011*\"pain\"'),\n",
       " (4,\n",
       "  '0.029*\"strain\" + 0.026*\"flower\" + 0.025*\"bud\" + 0.022*\"plant\" + 0.018*\"high\" + 0.017*\"indica\" + 0.016*\"white\" + 0.015*\"week\" + 0.015*\"hybrid\" + 0.014*\"purple\"')]"
      ]
     },
     "execution_count": 259,
     "metadata": {},
     "output_type": "execute_result"
    }
   ],
   "source": [
    "#print topics of lda model\n",
    "lda.print_topics()"
   ]
  },
  {
   "cell_type": "markdown",
   "metadata": {
    "colab_type": "text",
    "id": "ADcqbM9FmiVg"
   },
   "source": [
    "In a short paragraph, explain how to interpret the first topic your model came up with. If your topic words are difficult to interpret, explain how you could clean up the descriptions to improve your topics\n",
    "\n",
    "```\n",
    "Your Answer Here\n",
    "```"
   ]
  },
  {
   "cell_type": "code",
   "execution_count": 260,
   "metadata": {},
   "outputs": [
    {
     "data": {
      "text/plain": [
       "[['\"strain\"',\n",
       "  '\"effect\"',\n",
       "  '\"hybrid\"',\n",
       "  '\"blue\"',\n",
       "  '\"sweet\"',\n",
       "  '\"blueberry\"',\n",
       "  '\"aroma\"',\n",
       "  '\"pain\"',\n",
       "  '\"flavor\"',\n",
       "  '\"sativadominant\"'],\n",
       " ['\"strain\"',\n",
       "  '\"effect\"',\n",
       "  '\"cross\"',\n",
       "  '\"consumer\"',\n",
       "  '\"physical\"',\n",
       "  '\"aroma\"',\n",
       "  '\"body\"',\n",
       "  '\"offer\"',\n",
       "  '\"kush\"',\n",
       "  '\"cookies\"'],\n",
       " ['\"strain\"',\n",
       "  '\"sativa\"',\n",
       "  '\"sour\"',\n",
       "  '\"diesel\"',\n",
       "  '\"effect\"',\n",
       "  '\"haze\"',\n",
       "  '\"skunk\"',\n",
       "  '\"cross\"',\n",
       "  '\"hybrid\"',\n",
       "  '\"aroma\"'],\n",
       " ['\"og\"',\n",
       "  '\"kush\"',\n",
       "  '\"strain\"',\n",
       "  '\"indica\"',\n",
       "  '\"hybrid\"',\n",
       "  '\"effect\"',\n",
       "  '\"purple\"',\n",
       "  '\"aroma\"',\n",
       "  '\"body\"',\n",
       "  '\"pain\"'],\n",
       " ['\"strain\"',\n",
       "  '\"flower\"',\n",
       "  '\"bud\"',\n",
       "  '\"plant\"',\n",
       "  '\"high\"',\n",
       "  '\"indica\"',\n",
       "  '\"white\"',\n",
       "  '\"week\"',\n",
       "  '\"hybrid\"',\n",
       "  '\"purple\"']]"
      ]
     },
     "execution_count": 260,
     "metadata": {},
     "output_type": "execute_result"
    }
   ],
   "source": [
    "\n",
    "#apply regular expression to see most important words associated with each topic in a more readble way\n",
    "import re\n",
    "\n",
    "words = [re.findall(r'\"[^\"]*\"', t[1]) for t in lda.print_topics(20)]\n",
    "words"
   ]
  },
  {
   "cell_type": "code",
   "execution_count": 261,
   "metadata": {},
   "outputs": [
    {
     "data": {
      "text/plain": [
       "['\"strain\", \"effect\", \"hybrid\", \"blue\", \"sweet\"',\n",
       " '\"strain\", \"effect\", \"cross\", \"consumer\", \"physical\"',\n",
       " '\"strain\", \"sativa\", \"sour\", \"diesel\", \"effect\"',\n",
       " '\"og\", \"kush\", \"strain\", \"indica\", \"hybrid\"',\n",
       " '\"strain\", \"flower\", \"bud\", \"plant\", \"high\"']"
      ]
     },
     "execution_count": 261,
     "metadata": {},
     "output_type": "execute_result"
    }
   ],
   "source": [
    "#convert topic labels from a list format to string format, pass string into topic labels\n",
    "#Pick top 5 word labels\n",
    "topic_labels= [', '.join(t[0:5]) for t in words]\n",
    "topic_labels"
   ]
  },
  {
   "cell_type": "code",
   "execution_count": 262,
   "metadata": {},
   "outputs": [
    {
     "name": "stdout",
     "output_type": "stream",
     "text": [
      "------ Topic 0 ------\n",
      "\"strain\", \"effect\", \"hybrid\", \"blue\", \"sweet\"\n",
      "\n",
      "------ Topic 1 ------\n",
      "\"strain\", \"effect\", \"cross\", \"consumer\", \"physical\"\n",
      "\n",
      "------ Topic 2 ------\n",
      "\"strain\", \"sativa\", \"sour\", \"diesel\", \"effect\"\n",
      "\n",
      "------ Topic 3 ------\n",
      "\"og\", \"kush\", \"strain\", \"indica\", \"hybrid\"\n",
      "\n",
      "------ Topic 4 ------\n",
      "\"strain\", \"flower\", \"bud\", \"plant\", \"high\"\n",
      "\n"
     ]
    }
   ],
   "source": [
    "#print topic labels in nice format\n",
    "for id, t in enumerate(topic_labels): \n",
    "    print(f\"------ Topic {id} ------\")\n",
    "    print(t, end=\"\\n\\n\")"
   ]
  },
  {
   "cell_type": "markdown",
   "metadata": {
    "colab_type": "text",
    "id": "suchG0sEm8lU"
   },
   "source": [
    "Use `pyLDAvis` to create a visualization to help you interpret your topic modeling results"
   ]
  },
  {
   "cell_type": "code",
   "execution_count": null,
   "metadata": {},
   "outputs": [],
   "source": [
    "import pyLDAvis.gensim\n",
    "\n",
    "pyLDAvis.enable_notebook()"
   ]
  },
  {
   "cell_type": "code",
   "execution_count": null,
   "metadata": {
    "colab": {},
    "colab_type": "code",
    "id": "3f5LbisKnRPV"
   },
   "outputs": [],
   "source": [
    "pyLDAvis.gensim.prepare(lda, corpus, id2word)"
   ]
  },
  {
   "cell_type": "markdown",
   "metadata": {
    "colab_type": "text",
    "id": "HafoLqwHnR5M"
   },
   "source": [
    "Explain how to interpret the results of `pyLDAvis`\n",
    "\n",
    "```\n",
    "Your Answer Here\n",
    "```"
   ]
  },
  {
   "cell_type": "markdown",
   "metadata": {
    "colab_type": "text",
    "id": "ANxVUGU2nYsB"
   },
   "source": [
    "Create at least 1 more visualization to help you interpret the results of your topic modeling"
   ]
  },
  {
   "cell_type": "code",
   "execution_count": null,
   "metadata": {
    "colab": {},
    "colab_type": "code",
    "id": "WEsF_ZMIm7mC"
   },
   "outputs": [],
   "source": [
    "#added specific stopwords to the stop words found in nlp.Defaults.stop_words.\n",
    "stops = nlp.Defaults.stop_words.union(['stars','review','price','time'])\n",
    "\n",
    "#create remove custom stop words, will help with further cleaning tokens\n",
    "def remove_stops(_list_):\n",
    "    \n",
    "    keywords = []\n",
    "    \n",
    "    for keyword in _list_:\n",
    "        \n",
    "        \n",
    "        words = keyword.split()\n",
    "        \n",
    "        for word in words:\n",
    "            if word in stops:\n",
    "                pass\n",
    "            else: \n",
    "                phrase.append(word)\n",
    "            \n",
    "        phrase = ' '.join(phrase)\n",
    "        \n",
    "        if len(phrase) > 0:\n",
    "            keywords.append(phrase)\n",
    "    \n",
    "    return keywords"
   ]
  }
 ],
 "metadata": {
  "colab": {
   "name": "Unit_4_Sprint_1_Natural_Language_Processing_Study_Guide.ipynb",
   "provenance": []
  },
  "kernelspec": {
   "display_name": "Python 3",
   "language": "python",
   "name": "python3"
  },
  "language_info": {
   "codemirror_mode": {
    "name": "ipython",
    "version": 3
   },
   "file_extension": ".py",
   "mimetype": "text/x-python",
   "name": "python",
   "nbconvert_exporter": "python",
   "pygments_lexer": "ipython3",
   "version": "3.8.5"
  }
 },
 "nbformat": 4,
 "nbformat_minor": 4
}
