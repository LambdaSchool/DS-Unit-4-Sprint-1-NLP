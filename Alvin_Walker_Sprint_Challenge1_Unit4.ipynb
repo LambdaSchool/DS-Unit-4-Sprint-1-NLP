{
 "cells": [
  {
   "cell_type": "markdown",
   "metadata": {},
   "source": [
    "<img align=\"left\" src=\"https://lever-client-logos.s3.amazonaws.com/864372b1-534c-480e-acd5-9711f850815c-1524247202159.png\" width=200>\n",
    "<br></br>\n",
    "<br></br>\n",
    "\n",
    "# Sprint Challenge\n",
    "## *Data Science Unit 4 Sprint 1*\n",
    "\n",
    "After a week of Natural Language Processing, you've learned some cool new stuff: how to process text, how turn text into vectors, and how to model topics from documents. Apply your newly acquired skills to one of the most famous NLP datasets out there: [Yelp](https://www.yelp.com/dataset/challenge). As part of the job selection process, some of my friends have been asked to create analysis of this dataset, so I want to empower you to have a head start.  \n",
    "\n",
    "The real dataset is massive (almost 8 gigs uncompressed). I've sampled the data for you to something more managable for the Sprint Challenge. You can analyze the full dataset as a stretch goal or after the sprint challenge. As you work on the challenge, I suggest adding notes about your findings and things you want to analyze in the future.\n",
    "\n",
    "## Challenge Objectives\n",
    "*Successfully complete these all these objectives to earn a 2. There are more details on each objective further down in the notebook.*\n",
    "* <a href=\"#p1\">Part 1</a>: Write a function to tokenize the yelp reviews\n",
    "* <a href=\"#p2\">Part 2</a>: Create a vector representation of those tokens\n",
    "* <a href=\"#p3\">Part 3</a>: Use your tokens in a classification model on yelp rating\n",
    "* <a href=\"#p4\">Part 4</a>: Estimate & Interpret a topic model of the Yelp reviews"
   ]
  },
  {
   "cell_type": "code",
   "execution_count": 183,
   "metadata": {},
   "outputs": [],
   "source": [
    "import pandas as pd\n",
    "import spacy\n",
    "from spacy.lang.en.stop_words import STOP_WORDS\n",
    "import numpy as np\n",
    "import re\n",
    "\n",
    "import seaborn as sns\n",
    "import matplotlib.pyplot as plt\n",
    "\n",
    "import spacy\n",
    "from spacy.lang.en.stop_words import STOP_WORDS\n",
    "from spacy.lang.en import English\n",
    "from spacy.tokenizer import Tokenizer\n",
    "\n",
    "from sklearn.feature_extraction.text import CountVectorizer, TfidfVectorizer\n",
    "from sklearn.pipeline import Pipeline\n",
    "from sklearn.metrics import classification_report, accuracy_score\n",
    "from sklearn.linear_model import SGDClassifier\n",
    "from sklearn.neighbors import NearestNeighbors\n",
    "from sklearn.model_selection import train_test_split, GridSearchCV\n",
    "\n",
    "import nltk\n",
    "from nltk.stem.porter import PorterStemmer\n",
    "\n",
    "import gensim\n",
    "from gensim.utils import simple_preprocess\n",
    "from gensim.parsing.preprocessing import STOPWORDS\n",
    "from gensim import corpora, models\n",
    "from gensim.models.coherencemodel import CoherenceModel"
   ]
  },
  {
   "cell_type": "code",
   "execution_count": 184,
   "metadata": {},
   "outputs": [
    {
     "name": "stdout",
     "output_type": "stream",
     "text": [
      "Collecting pyldavis.genism\n"
     ]
    },
    {
     "name": "stderr",
     "output_type": "stream",
     "text": [
      "  Could not find a version that satisfies the requirement pyldavis.genism (from versions: )\n",
      "No matching distribution found for pyldavis.genism\n"
     ]
    }
   ],
   "source": [
    "!pip install pyldavis.genism"
   ]
  },
  {
   "cell_type": "code",
   "execution_count": 18,
   "metadata": {},
   "outputs": [
    {
     "data": {
      "text/html": [
       "<div>\n",
       "<style scoped>\n",
       "    .dataframe tbody tr th:only-of-type {\n",
       "        vertical-align: middle;\n",
       "    }\n",
       "\n",
       "    .dataframe tbody tr th {\n",
       "        vertical-align: top;\n",
       "    }\n",
       "\n",
       "    .dataframe thead th {\n",
       "        text-align: right;\n",
       "    }\n",
       "</style>\n",
       "<table border=\"1\" class=\"dataframe\">\n",
       "  <thead>\n",
       "    <tr style=\"text-align: right;\">\n",
       "      <th></th>\n",
       "      <th>business_id</th>\n",
       "      <th>cool</th>\n",
       "      <th>date</th>\n",
       "      <th>funny</th>\n",
       "      <th>review_id</th>\n",
       "      <th>stars</th>\n",
       "      <th>text</th>\n",
       "      <th>useful</th>\n",
       "      <th>user_id</th>\n",
       "    </tr>\n",
       "  </thead>\n",
       "  <tbody>\n",
       "    <tr>\n",
       "      <th>0</th>\n",
       "      <td>nDuEqIyRc8YKS1q1fX0CZg</td>\n",
       "      <td>1</td>\n",
       "      <td>2015-03-31 16:50:30</td>\n",
       "      <td>0</td>\n",
       "      <td>eZs2tpEJtXPwawvHnHZIgQ</td>\n",
       "      <td>1</td>\n",
       "      <td>BEWARE!!! FAKE, FAKE, FAKE....We also own a sm...</td>\n",
       "      <td>10</td>\n",
       "      <td>n1LM36qNg4rqGXIcvVXv8w</td>\n",
       "    </tr>\n",
       "    <tr>\n",
       "      <th>1</th>\n",
       "      <td>eMYeEapscbKNqUDCx705hg</td>\n",
       "      <td>0</td>\n",
       "      <td>2015-12-16 05:31:03</td>\n",
       "      <td>0</td>\n",
       "      <td>DoQDWJsNbU0KL1O29l_Xug</td>\n",
       "      <td>4</td>\n",
       "      <td>Came here for lunch Togo. Service was quick. S...</td>\n",
       "      <td>0</td>\n",
       "      <td>5CgjjDAic2-FAvCtiHpytA</td>\n",
       "    </tr>\n",
       "    <tr>\n",
       "      <th>2</th>\n",
       "      <td>6Q7-wkCPc1KF75jZLOTcMw</td>\n",
       "      <td>1</td>\n",
       "      <td>2010-06-20 19:14:48</td>\n",
       "      <td>1</td>\n",
       "      <td>DDOdGU7zh56yQHmUnL1idQ</td>\n",
       "      <td>3</td>\n",
       "      <td>I've been to Vegas dozens of times and had nev...</td>\n",
       "      <td>2</td>\n",
       "      <td>BdV-cf3LScmb8kZ7iiBcMA</td>\n",
       "    </tr>\n",
       "    <tr>\n",
       "      <th>3</th>\n",
       "      <td>k3zrItO4l9hwfLRwHBDc9w</td>\n",
       "      <td>3</td>\n",
       "      <td>2010-07-13 00:33:45</td>\n",
       "      <td>4</td>\n",
       "      <td>LfTMUWnfGFMOfOIyJcwLVA</td>\n",
       "      <td>1</td>\n",
       "      <td>We went here on a night where they closed off ...</td>\n",
       "      <td>5</td>\n",
       "      <td>cZZnBqh4gAEy4CdNvJailQ</td>\n",
       "    </tr>\n",
       "    <tr>\n",
       "      <th>4</th>\n",
       "      <td>6hpfRwGlOzbNv7k5eP9rsQ</td>\n",
       "      <td>1</td>\n",
       "      <td>2018-06-30 02:30:01</td>\n",
       "      <td>0</td>\n",
       "      <td>zJSUdI7bJ8PNJAg4lnl_Gg</td>\n",
       "      <td>4</td>\n",
       "      <td>3.5 to 4 stars\\n\\nNot bad for the price, $12.9...</td>\n",
       "      <td>5</td>\n",
       "      <td>n9QO4ClYAS7h9fpQwa5bhA</td>\n",
       "    </tr>\n",
       "  </tbody>\n",
       "</table>\n",
       "</div>"
      ],
      "text/plain": [
       "              business_id  cool                date  funny  \\\n",
       "0  nDuEqIyRc8YKS1q1fX0CZg     1 2015-03-31 16:50:30      0   \n",
       "1  eMYeEapscbKNqUDCx705hg     0 2015-12-16 05:31:03      0   \n",
       "2  6Q7-wkCPc1KF75jZLOTcMw     1 2010-06-20 19:14:48      1   \n",
       "3  k3zrItO4l9hwfLRwHBDc9w     3 2010-07-13 00:33:45      4   \n",
       "4  6hpfRwGlOzbNv7k5eP9rsQ     1 2018-06-30 02:30:01      0   \n",
       "\n",
       "                review_id  stars  \\\n",
       "0  eZs2tpEJtXPwawvHnHZIgQ      1   \n",
       "1  DoQDWJsNbU0KL1O29l_Xug      4   \n",
       "2  DDOdGU7zh56yQHmUnL1idQ      3   \n",
       "3  LfTMUWnfGFMOfOIyJcwLVA      1   \n",
       "4  zJSUdI7bJ8PNJAg4lnl_Gg      4   \n",
       "\n",
       "                                                text  useful  \\\n",
       "0  BEWARE!!! FAKE, FAKE, FAKE....We also own a sm...      10   \n",
       "1  Came here for lunch Togo. Service was quick. S...       0   \n",
       "2  I've been to Vegas dozens of times and had nev...       2   \n",
       "3  We went here on a night where they closed off ...       5   \n",
       "4  3.5 to 4 stars\\n\\nNot bad for the price, $12.9...       5   \n",
       "\n",
       "                  user_id  \n",
       "0  n1LM36qNg4rqGXIcvVXv8w  \n",
       "1  5CgjjDAic2-FAvCtiHpytA  \n",
       "2  BdV-cf3LScmb8kZ7iiBcMA  \n",
       "3  cZZnBqh4gAEy4CdNvJailQ  \n",
       "4  n9QO4ClYAS7h9fpQwa5bhA  "
      ]
     },
     "execution_count": 18,
     "metadata": {},
     "output_type": "execute_result"
    }
   ],
   "source": [
    "yelp = pd.read_json('./data/review_sample.json', lines=True)\n",
    "yelp.head()"
   ]
  },
  {
   "cell_type": "markdown",
   "metadata": {},
   "source": [
    "## Part 1: Tokenize Function\n",
    "<a id=\"#p1\"></a>\n",
    "\n",
    "Complete the function `tokenize`. Your function should\n",
    "- accept one document at a time\n",
    "- return a list of tokens\n",
    "\n",
    "You are free to use any method you have learned this week."
   ]
  },
  {
   "cell_type": "code",
   "execution_count": 19,
   "metadata": {},
   "outputs": [],
   "source": [
    "nlp = spacy.load('en_core_web_lg')\n",
    "def tokenize(doc):\n",
    "    doc = [token for token in nlp(doc) if token.is_stop is False and len(token) > 3]\n",
    "    return doc"
   ]
  },
  {
   "cell_type": "code",
   "execution_count": 20,
   "metadata": {},
   "outputs": [],
   "source": [
    "yelp['tokens'] = yelp['text'].apply(tokenize)"
   ]
  },
  {
   "cell_type": "markdown",
   "metadata": {},
   "source": [
    "## Part 2: Vector Representation\n",
    "<a id=\"#p2\"></a>\n",
    "1. Create a vector representation of the reviews\n",
    "2. Write a fake review and query for the 10 most similiar reviews, print the text of the reviews. Do you notice any patterns?\n",
    "    - Given the size of the dataset, it will probably be best to use a `NearestNeighbors` model for this. "
   ]
  },
  {
   "cell_type": "code",
   "execution_count": 21,
   "metadata": {},
   "outputs": [],
   "source": [
    "vectorizer = TfidfVectorizer(min_df=1, stop_words='english')"
   ]
  },
  {
   "cell_type": "code",
   "execution_count": 22,
   "metadata": {},
   "outputs": [],
   "source": [
    "vectors = vectorizer.fit_transform(yelp['text'])"
   ]
  },
  {
   "cell_type": "code",
   "execution_count": 34,
   "metadata": {},
   "outputs": [],
   "source": [
    "nn = NearestNeighbors(n_neighbors = 10, algorithm= 'ball_tree')"
   ]
  },
  {
   "cell_type": "code",
   "execution_count": 35,
   "metadata": {},
   "outputs": [
    {
     "name": "stderr",
     "output_type": "stream",
     "text": [
      "C:\\Users\\supas\\Anaconda3\\lib\\site-packages\\sklearn\\neighbors\\base.py:217: UserWarning: cannot use tree with sparse input: using brute force\n",
      "  warnings.warn(\"cannot use tree with sparse input: \"\n"
     ]
    },
    {
     "data": {
      "text/plain": [
       "NearestNeighbors(algorithm='ball_tree', leaf_size=30, metric='minkowski',\n",
       "         metric_params=None, n_jobs=None, n_neighbors=10, p=2, radius=1.0)"
      ]
     },
     "execution_count": 35,
     "metadata": {},
     "output_type": "execute_result"
    }
   ],
   "source": [
    "nn.fit(vectors)"
   ]
  },
  {
   "cell_type": "code",
   "execution_count": 36,
   "metadata": {},
   "outputs": [
    {
     "data": {
      "text/plain": [
       "(array([[0.        , 1.28246091, 1.29625505, 1.30062127, 1.30515772,\n",
       "         1.31123683, 1.31277998, 1.31901052, 1.321382  , 1.33014107]]),\n",
       " array([[   0, 2131, 6019, 3276, 8470, 2943, 9036, 2621, 3714, 2207]],\n",
       "       dtype=int64))"
      ]
     },
     "execution_count": 36,
     "metadata": {},
     "output_type": "execute_result"
    }
   ],
   "source": [
    "nn.kneighbors(vectors[0])"
   ]
  },
  {
   "cell_type": "code",
   "execution_count": 37,
   "metadata": {},
   "outputs": [],
   "source": [
    "query_string= [\"This restaurant sucks! Don't come here ever!!!\"]\n",
    "query_vector = vectorizer.transform(query_string)"
   ]
  },
  {
   "cell_type": "code",
   "execution_count": 38,
   "metadata": {},
   "outputs": [
    {
     "data": {
      "text/plain": [
       "(array([[1.06323501, 1.14079392, 1.14193896, 1.19573231, 1.1963352 ,\n",
       "         1.22307989, 1.24492303, 1.25253679, 1.25665668, 1.25742222]]),\n",
       " array([[5423, 3411, 3230, 9035, 5105, 5796, 6167, 5420, 1993, 2720]],\n",
       "       dtype=int64))"
      ]
     },
     "execution_count": 38,
     "metadata": {},
     "output_type": "execute_result"
    }
   ],
   "source": [
    "nn.kneighbors(query_vector.todense())"
   ]
  },
  {
   "cell_type": "code",
   "execution_count": 41,
   "metadata": {},
   "outputs": [
    {
     "data": {
      "text/plain": [
       "5423          New owners took over.  The pizza sucks now!\n",
       "3411    NO RECOMMENDATION TO THIS PLACE AT ALL!!!! SO ...\n",
       "3230    This place just sucks. Food was terrible. Serv...\n",
       "9035    I am very disappointed with this place. Their ...\n",
       "5105    The quality of service here is great. The admi...\n",
       "5796    My friend and I had dinner here last night, an...\n",
       "6167    Buying a car sucks. Buying a car after bankrup...\n",
       "5420    I like small businesses like this. There price...\n",
       "1993    Amazing! I decided to come back here after see...\n",
       "2720    3.5\\nTo be honest, I thought the food and drin...\n",
       "Name: text, dtype: object"
      ]
     },
     "execution_count": 41,
     "metadata": {},
     "output_type": "execute_result"
    }
   ],
   "source": [
    "yelp['text'].iloc[[5423, 3411, 3230, 9035, 5105, 5796, 6167, 5420, 1993, 2720]]"
   ]
  },
  {
   "cell_type": "markdown",
   "metadata": {},
   "source": [
    "## Part 3: Classification\n",
    "<a id=\"#p3\"></a>\n",
    "Your goal in this section will be to predict `stars` from the review dataset. \n",
    "\n",
    "1. Create a piepline object with a sklearn `CountVectorizer` or `TfidfVector` and any sklearn classifier. Use that pipeline to estimate a model to predict `stars`. Use the Pipeline to predict a star rating for your fake review from Part 2. \n",
    "2. Tune the entire pipeline with a GridSearch"
   ]
  },
  {
   "cell_type": "code",
   "execution_count": 43,
   "metadata": {},
   "outputs": [],
   "source": [
    "features = 'text'\n",
    "target = 'stars'"
   ]
  },
  {
   "cell_type": "code",
   "execution_count": 45,
   "metadata": {},
   "outputs": [],
   "source": [
    "X = yelp[features]\n",
    "y = yelp[target]"
   ]
  },
  {
   "cell_type": "code",
   "execution_count": 46,
   "metadata": {},
   "outputs": [],
   "source": [
    "X_train, X_test, y_train, y_test = train_test_split(X, y, train_size = .8, test_size = .2)"
   ]
  },
  {
   "cell_type": "code",
   "execution_count": 56,
   "metadata": {},
   "outputs": [],
   "source": [
    "vect=TfidfVectorizer(max_df= .4, stop_words='english')\n",
    "\n",
    "sgdc = SGDClassifier(early_stopping= True, validation_fraction= .1, max_iter= 500, random_state= 42)\n",
    "\n",
    "pipeline = Pipeline([\n",
    "    ('vect',vect),\n",
    "    ('clf', sgdc)\n",
    "])"
   ]
  },
  {
   "cell_type": "code",
   "execution_count": 57,
   "metadata": {},
   "outputs": [
    {
     "name": "stderr",
     "output_type": "stream",
     "text": [
      "C:\\Users\\supas\\Anaconda3\\lib\\site-packages\\sklearn\\linear_model\\stochastic_gradient.py:183: FutureWarning: max_iter and tol parameters have been added in SGDClassifier in 0.19. If max_iter is set but tol is left unset, the default value for tol in 0.19 and 0.20 will be None (which is equivalent to -infinity, so it has no effect) but will change in 0.21 to 1e-3. Specify tol to silence this warning.\n",
      "  FutureWarning)\n"
     ]
    },
    {
     "data": {
      "text/plain": [
       "Pipeline(memory=None,\n",
       "     steps=[('vect', TfidfVectorizer(analyzer='word', binary=False, decode_error='strict',\n",
       "        dtype=<class 'numpy.float64'>, encoding='utf-8', input='content',\n",
       "        lowercase=True, max_df=0.4, max_features=None, min_df=1,\n",
       "        ngram_range=(1, 1), norm='l2', preprocessor=None, smooth_idf=True,\n",
       "...dom_state=42, shuffle=True, tol=None,\n",
       "       validation_fraction=0.1, verbose=0, warm_start=False))])"
      ]
     },
     "execution_count": 57,
     "metadata": {},
     "output_type": "execute_result"
    }
   ],
   "source": [
    "pipeline.fit(X_train, y_train)"
   ]
  },
  {
   "cell_type": "code",
   "execution_count": 58,
   "metadata": {},
   "outputs": [],
   "source": [
    "pred = pipeline.predict(X_test)"
   ]
  },
  {
   "cell_type": "code",
   "execution_count": 62,
   "metadata": {},
   "outputs": [
    {
     "data": {
      "text/plain": [
       "array([1], dtype=int64)"
      ]
     },
     "execution_count": 62,
     "metadata": {},
     "output_type": "execute_result"
    }
   ],
   "source": [
    "query_prediction = pipeline.predict(query_string)\n",
    "query_prediction"
   ]
  },
  {
   "cell_type": "code",
   "execution_count": 61,
   "metadata": {},
   "outputs": [
    {
     "name": "stdout",
     "output_type": "stream",
     "text": [
      "              precision    recall  f1-score   support\n",
      "\n",
      "           1       0.65      0.80      0.71       297\n",
      "           2       0.42      0.14      0.21       157\n",
      "           3       0.34      0.18      0.23       219\n",
      "           4       0.41      0.37      0.39       419\n",
      "           5       0.72      0.86      0.78       908\n",
      "\n",
      "   micro avg       0.62      0.62      0.62      2000\n",
      "   macro avg       0.51      0.47      0.47      2000\n",
      "weighted avg       0.58      0.62      0.58      2000\n",
      "\n"
     ]
    }
   ],
   "source": [
    "print(classification_report(y_test, pred))"
   ]
  },
  {
   "cell_type": "code",
   "execution_count": 54,
   "metadata": {},
   "outputs": [
    {
     "name": "stdout",
     "output_type": "stream",
     "text": [
      "Fitting 5 folds for each of 5 candidates, totalling 25 fits\n"
     ]
    },
    {
     "name": "stderr",
     "output_type": "stream",
     "text": [
      "[Parallel(n_jobs=-1)]: Using backend LokyBackend with 4 concurrent workers.\n",
      "[Parallel(n_jobs=-1)]: Done  25 out of  25 | elapsed:  1.9min finished\n",
      "C:\\Users\\supas\\Anaconda3\\lib\\site-packages\\sklearn\\linear_model\\stochastic_gradient.py:183: FutureWarning: max_iter and tol parameters have been added in SGDClassifier in 0.19. If max_iter is set but tol is left unset, the default value for tol in 0.19 and 0.20 will be None (which is equivalent to -infinity, so it has no effect) but will change in 0.21 to 1e-3. Specify tol to silence this warning.\n",
      "  FutureWarning)\n"
     ]
    },
    {
     "name": "stdout",
     "output_type": "stream",
     "text": [
      "best score: 0.598\n",
      "Best parameters set:\n",
      "('vect__max_df', 0.4)\n"
     ]
    }
   ],
   "source": [
    "parameters = {\n",
    "    'vect__max_df': (0.1, 0.2, 0.3, 0.4, 0.5)\n",
    "}\n",
    "\n",
    "grid_search = GridSearchCV(pipeline, parameters, cv=5,\n",
    "                          n_jobs=-1,verbose=1)\n",
    "\n",
    "grid_search.fit(X_train,y_train)\n",
    "\n",
    "print('best score:', grid_search.best_score_)\n",
    "print('Best parameters set:')\n",
    "\n",
    "best_parameters = grid_search.best_estimator_.get_params()\n",
    "\n",
    "for param_name in sorted(parameters.keys()):\n",
    "    print((param_name, best_parameters[param_name]))"
   ]
  },
  {
   "cell_type": "markdown",
   "metadata": {},
   "source": [
    "## Part 4: Topic Modeling\n",
    "\n",
    "Let's find out what those yelp reviews are saying! :D\n",
    "\n",
    "1. Estimate a LDA topic model of the review text\n",
    "2. Create 1-2 visualizations of the results\n",
    "    - You can use the most important 3 words of a topic in relevant visualizations. Refer to yesterday's notebook to extract. \n",
    "3. In markdown, write 1-2 paragraphs of analysis on the results of your topic model\n",
    "\n",
    "__*Note*__: You can pass the DataFrame column of text reviews to gensim. You do not have to use a generator."
   ]
  },
  {
   "cell_type": "code",
   "execution_count": 64,
   "metadata": {},
   "outputs": [],
   "source": [
    "def preprocess(df, column):\n",
    "    new_data = []\n",
    "    for sentence in df[column]:\n",
    "        tokens = [token.lemma_ for token in nlp(sentence) if token.is_stop is False and len(token) > 3]\n",
    "        new_data.append(tokens)\n",
    "    df['processed'] = new_data\n",
    "    return df"
   ]
  },
  {
   "cell_type": "code",
   "execution_count": 66,
   "metadata": {},
   "outputs": [],
   "source": [
    "yelp = preprocess(yelp, 'text')"
   ]
  },
  {
   "cell_type": "code",
   "execution_count": 223,
   "metadata": {},
   "outputs": [],
   "source": [
    "#dictionary = gensim.corpora.Dictionary(yelp['processed'])\n",
    "#dictionary.filter_extremes(no_below=10, no_above=0.75)\n",
    "id2word = corpora.Dictionary(yelp['processed'])"
   ]
  },
  {
   "cell_type": "code",
   "execution_count": 224,
   "metadata": {},
   "outputs": [],
   "source": [
    "#bow_corpus = [dictionary.doc2bow(doc) for doc in yelp['processed']]\n",
    "corpus = [id2word.doc2bow(text) for text in yelp['processed']]"
   ]
  },
  {
   "cell_type": "code",
   "execution_count": 115,
   "metadata": {},
   "outputs": [],
   "source": [
    "tfidf = models.TfidfModel(bow_corpus)\n",
    "\n",
    "corpus_tfidf = tfidf[bow_corpus]"
   ]
  },
  {
   "cell_type": "code",
   "execution_count": 226,
   "metadata": {},
   "outputs": [],
   "source": [
    "lda_model = gensim.models.LdaMulticore(corpus= corpus, num_topics=5, id2word=id2word)"
   ]
  },
  {
   "cell_type": "code",
   "execution_count": 227,
   "metadata": {},
   "outputs": [
    {
     "name": "stdout",
     "output_type": "stream",
     "text": [
      "Topic: 0 \n",
      "Words: 0.016*\"good\" + 0.015*\"place\" + 0.013*\"come\" + 0.012*\"food\" + 0.009*\"time\" + 0.009*\"like\" + 0.009*\"great\" + 0.009*\"service\" + 0.008*\"go\" + 0.006*\"order\"\n",
      "Topic: 1 \n",
      "Words: 0.012*\"great\" + 0.011*\"good\" + 0.010*\"go\" + 0.009*\"place\" + 0.008*\"time\" + 0.007*\"come\" + 0.007*\"food\" + 0.007*\"order\" + 0.006*\"look\" + 0.005*\"tell\"\n",
      "Topic: 2 \n",
      "Words: 0.016*\"good\" + 0.012*\"food\" + 0.010*\"great\" + 0.009*\"service\" + 0.008*\"time\" + 0.008*\"place\" + 0.008*\"like\" + 0.007*\"friendly\" + 0.007*\"price\" + 0.006*\"order\"\n",
      "Topic: 3 \n",
      "Words: 0.015*\"good\" + 0.015*\"time\" + 0.012*\"like\" + 0.009*\"order\" + 0.008*\"service\" + 0.008*\"food\" + 0.007*\"place\" + 0.006*\"love\" + 0.005*\"come\" + 0.005*\"great\"\n",
      "Topic: 4 \n",
      "Words: 0.015*\"food\" + 0.015*\"place\" + 0.013*\"order\" + 0.010*\"great\" + 0.008*\"come\" + 0.008*\"good\" + 0.008*\"like\" + 0.006*\"service\" + 0.006*\"work\" + 0.005*\"restaurant\"\n"
     ]
    }
   ],
   "source": [
    "for idx, topic in lda_model.print_topics():\n",
    "    print('Topic: {} \\nWords: {}'.format(idx, topic))"
   ]
  },
  {
   "cell_type": "code",
   "execution_count": 228,
   "metadata": {},
   "outputs": [],
   "source": [
    "clean_topics = [re.findall(r'\"([^\"]*)\"', t[1]) for t in lda_model.print_topics()]"
   ]
  },
  {
   "cell_type": "code",
   "execution_count": 229,
   "metadata": {},
   "outputs": [],
   "source": [
    "topics = [\" \".join(t[0:5]) for t in clean_topics]"
   ]
  },
  {
   "cell_type": "code",
   "execution_count": 230,
   "metadata": {},
   "outputs": [],
   "source": [
    "distributions = [lda_model[d] for d in bow_corpus]"
   ]
  },
  {
   "cell_type": "code",
   "execution_count": 231,
   "metadata": {},
   "outputs": [],
   "source": [
    "def update(doc):\n",
    "        d_dist = {k:0 for k in range(0,5)}\n",
    "        for t in doc:\n",
    "            d_dist[t[0]] = t[1]\n",
    "        return d_dist\n",
    "    \n",
    "new_distributions = [update(d) for d in distributions]"
   ]
  },
  {
   "cell_type": "code",
   "execution_count": 232,
   "metadata": {},
   "outputs": [
    {
     "data": {
      "text/plain": [
       "{0: 0, 1: 0, 2: 0, 3: 0.98048776, 4: 0}"
      ]
     },
     "execution_count": 232,
     "metadata": {},
     "output_type": "execute_result"
    }
   ],
   "source": [
    "new_distributions[0]"
   ]
  },
  {
   "cell_type": "code",
   "execution_count": 233,
   "metadata": {},
   "outputs": [],
   "source": [
    "df = pd.DataFrame.from_records(new_distributions)"
   ]
  },
  {
   "cell_type": "code",
   "execution_count": 234,
   "metadata": {},
   "outputs": [],
   "source": [
    "df.columns = topics\n",
    "df.index = yelp['review_id']"
   ]
  },
  {
   "cell_type": "code",
   "execution_count": 235,
   "metadata": {},
   "outputs": [
    {
     "data": {
      "text/html": [
       "<div>\n",
       "<style scoped>\n",
       "    .dataframe tbody tr th:only-of-type {\n",
       "        vertical-align: middle;\n",
       "    }\n",
       "\n",
       "    .dataframe tbody tr th {\n",
       "        vertical-align: top;\n",
       "    }\n",
       "\n",
       "    .dataframe thead th {\n",
       "        text-align: right;\n",
       "    }\n",
       "</style>\n",
       "<table border=\"1\" class=\"dataframe\">\n",
       "  <thead>\n",
       "    <tr style=\"text-align: right;\">\n",
       "      <th></th>\n",
       "      <th>good place come food time</th>\n",
       "      <th>great good go place time</th>\n",
       "      <th>good food great service time</th>\n",
       "      <th>good time like order service</th>\n",
       "      <th>food place order great come</th>\n",
       "    </tr>\n",
       "    <tr>\n",
       "      <th>review_id</th>\n",
       "      <th></th>\n",
       "      <th></th>\n",
       "      <th></th>\n",
       "      <th></th>\n",
       "      <th></th>\n",
       "    </tr>\n",
       "  </thead>\n",
       "  <tbody>\n",
       "    <tr>\n",
       "      <th>eZs2tpEJtXPwawvHnHZIgQ</th>\n",
       "      <td>0.000000</td>\n",
       "      <td>0.000000</td>\n",
       "      <td>0.000000</td>\n",
       "      <td>0.980488</td>\n",
       "      <td>0.000000</td>\n",
       "    </tr>\n",
       "    <tr>\n",
       "      <th>DoQDWJsNbU0KL1O29l_Xug</th>\n",
       "      <td>0.936705</td>\n",
       "      <td>0.015740</td>\n",
       "      <td>0.015974</td>\n",
       "      <td>0.015779</td>\n",
       "      <td>0.015803</td>\n",
       "    </tr>\n",
       "    <tr>\n",
       "      <th>DDOdGU7zh56yQHmUnL1idQ</th>\n",
       "      <td>0.817960</td>\n",
       "      <td>0.000000</td>\n",
       "      <td>0.049590</td>\n",
       "      <td>0.127306</td>\n",
       "      <td>0.000000</td>\n",
       "    </tr>\n",
       "    <tr>\n",
       "      <th>LfTMUWnfGFMOfOIyJcwLVA</th>\n",
       "      <td>0.956787</td>\n",
       "      <td>0.010850</td>\n",
       "      <td>0.010802</td>\n",
       "      <td>0.010804</td>\n",
       "      <td>0.010757</td>\n",
       "    </tr>\n",
       "    <tr>\n",
       "      <th>zJSUdI7bJ8PNJAg4lnl_Gg</th>\n",
       "      <td>0.342140</td>\n",
       "      <td>0.000000</td>\n",
       "      <td>0.641666</td>\n",
       "      <td>0.000000</td>\n",
       "      <td>0.000000</td>\n",
       "    </tr>\n",
       "    <tr>\n",
       "      <th>nXYV_0joQEMXYAfNyOPsRw</th>\n",
       "      <td>0.970650</td>\n",
       "      <td>0.000000</td>\n",
       "      <td>0.000000</td>\n",
       "      <td>0.000000</td>\n",
       "      <td>0.000000</td>\n",
       "    </tr>\n",
       "    <tr>\n",
       "      <th>ZA7SRi6fTRWwpo-B9O72qQ</th>\n",
       "      <td>0.000000</td>\n",
       "      <td>0.476714</td>\n",
       "      <td>0.000000</td>\n",
       "      <td>0.491470</td>\n",
       "      <td>0.024143</td>\n",
       "    </tr>\n",
       "    <tr>\n",
       "      <th>4_GnHPkyTirzK6onIKO4jw</th>\n",
       "      <td>0.010884</td>\n",
       "      <td>0.010766</td>\n",
       "      <td>0.010784</td>\n",
       "      <td>0.956748</td>\n",
       "      <td>0.010819</td>\n",
       "    </tr>\n",
       "    <tr>\n",
       "      <th>XGGHc7pYgOm5s6SWr8NMXA</th>\n",
       "      <td>0.922589</td>\n",
       "      <td>0.000000</td>\n",
       "      <td>0.069423</td>\n",
       "      <td>0.000000</td>\n",
       "      <td>0.000000</td>\n",
       "    </tr>\n",
       "    <tr>\n",
       "      <th>--e66tyhwCE6eoRmcK2w8g</th>\n",
       "      <td>0.000000</td>\n",
       "      <td>0.000000</td>\n",
       "      <td>0.000000</td>\n",
       "      <td>0.971576</td>\n",
       "      <td>0.000000</td>\n",
       "    </tr>\n",
       "    <tr>\n",
       "      <th>qQs5tLCVdkHCEATQh0ADxg</th>\n",
       "      <td>0.691619</td>\n",
       "      <td>0.000000</td>\n",
       "      <td>0.000000</td>\n",
       "      <td>0.044711</td>\n",
       "      <td>0.259655</td>\n",
       "    </tr>\n",
       "    <tr>\n",
       "      <th>ZIYbFbXG5PzowcZKk3K_VA</th>\n",
       "      <td>0.719741</td>\n",
       "      <td>0.251444</td>\n",
       "      <td>0.000000</td>\n",
       "      <td>0.026629</td>\n",
       "      <td>0.000000</td>\n",
       "    </tr>\n",
       "    <tr>\n",
       "      <th>woLYB2t3tXGHQFhPxLsLfA</th>\n",
       "      <td>0.428622</td>\n",
       "      <td>0.000000</td>\n",
       "      <td>0.000000</td>\n",
       "      <td>0.000000</td>\n",
       "      <td>0.542030</td>\n",
       "    </tr>\n",
       "    <tr>\n",
       "      <th>e1eUh7KpeZ3rgltZPshRbA</th>\n",
       "      <td>0.000000</td>\n",
       "      <td>0.720160</td>\n",
       "      <td>0.000000</td>\n",
       "      <td>0.000000</td>\n",
       "      <td>0.256134</td>\n",
       "    </tr>\n",
       "    <tr>\n",
       "      <th>WLOI3w3dAU4XQKqepo0-fQ</th>\n",
       "      <td>0.000000</td>\n",
       "      <td>0.535652</td>\n",
       "      <td>0.000000</td>\n",
       "      <td>0.000000</td>\n",
       "      <td>0.459124</td>\n",
       "    </tr>\n",
       "    <tr>\n",
       "      <th>OWumrhHjAwQO1Na1PnkxSw</th>\n",
       "      <td>0.116306</td>\n",
       "      <td>0.000000</td>\n",
       "      <td>0.202144</td>\n",
       "      <td>0.673472</td>\n",
       "      <td>0.000000</td>\n",
       "    </tr>\n",
       "    <tr>\n",
       "      <th>8GvF0f4MpWiGCtCJCHKFwg</th>\n",
       "      <td>0.000000</td>\n",
       "      <td>0.580128</td>\n",
       "      <td>0.403168</td>\n",
       "      <td>0.000000</td>\n",
       "      <td>0.000000</td>\n",
       "    </tr>\n",
       "    <tr>\n",
       "      <th>q-1rGYCZwRfoov8IR5Wo4A</th>\n",
       "      <td>0.596789</td>\n",
       "      <td>0.000000</td>\n",
       "      <td>0.000000</td>\n",
       "      <td>0.381220</td>\n",
       "      <td>0.000000</td>\n",
       "    </tr>\n",
       "    <tr>\n",
       "      <th>2ADkUuwZh7WxA3euGczl3w</th>\n",
       "      <td>0.000000</td>\n",
       "      <td>0.978888</td>\n",
       "      <td>0.000000</td>\n",
       "      <td>0.000000</td>\n",
       "      <td>0.000000</td>\n",
       "    </tr>\n",
       "    <tr>\n",
       "      <th>8ETtLpgiM4W1tVVh-T7wDg</th>\n",
       "      <td>0.990426</td>\n",
       "      <td>0.000000</td>\n",
       "      <td>0.000000</td>\n",
       "      <td>0.000000</td>\n",
       "      <td>0.000000</td>\n",
       "    </tr>\n",
       "    <tr>\n",
       "      <th>R0B-ZQF3VGITSuCXk1O4IA</th>\n",
       "      <td>0.527791</td>\n",
       "      <td>0.000000</td>\n",
       "      <td>0.000000</td>\n",
       "      <td>0.000000</td>\n",
       "      <td>0.456391</td>\n",
       "    </tr>\n",
       "    <tr>\n",
       "      <th>qXjRWTyneUpuQBLfgBrCRw</th>\n",
       "      <td>0.000000</td>\n",
       "      <td>0.036824</td>\n",
       "      <td>0.000000</td>\n",
       "      <td>0.000000</td>\n",
       "      <td>0.953207</td>\n",
       "    </tr>\n",
       "    <tr>\n",
       "      <th>GmXBlRwiwHSaq3ekhvIaXw</th>\n",
       "      <td>0.000000</td>\n",
       "      <td>0.000000</td>\n",
       "      <td>0.000000</td>\n",
       "      <td>0.995083</td>\n",
       "      <td>0.000000</td>\n",
       "    </tr>\n",
       "    <tr>\n",
       "      <th>Mb0QtmTMTLNahLpH-ORYtg</th>\n",
       "      <td>0.000000</td>\n",
       "      <td>0.000000</td>\n",
       "      <td>0.000000</td>\n",
       "      <td>0.000000</td>\n",
       "      <td>0.973472</td>\n",
       "    </tr>\n",
       "    <tr>\n",
       "      <th>kb31oghfzvTdKXA1xKmXdQ</th>\n",
       "      <td>0.019322</td>\n",
       "      <td>0.015791</td>\n",
       "      <td>0.933395</td>\n",
       "      <td>0.015735</td>\n",
       "      <td>0.015757</td>\n",
       "    </tr>\n",
       "    <tr>\n",
       "      <th>665jIau5H6eu0NU_lN9fNw</th>\n",
       "      <td>0.709037</td>\n",
       "      <td>0.000000</td>\n",
       "      <td>0.000000</td>\n",
       "      <td>0.000000</td>\n",
       "      <td>0.272802</td>\n",
       "    </tr>\n",
       "    <tr>\n",
       "      <th>WkKy7_eBMIOt-KzVkCgI9A</th>\n",
       "      <td>0.012855</td>\n",
       "      <td>0.948670</td>\n",
       "      <td>0.012829</td>\n",
       "      <td>0.012777</td>\n",
       "      <td>0.012868</td>\n",
       "    </tr>\n",
       "    <tr>\n",
       "      <th>BH0IWYTLvMGvkEPpX_DURQ</th>\n",
       "      <td>0.971591</td>\n",
       "      <td>0.000000</td>\n",
       "      <td>0.000000</td>\n",
       "      <td>0.000000</td>\n",
       "      <td>0.000000</td>\n",
       "    </tr>\n",
       "    <tr>\n",
       "      <th>KG1tP1Nk9h1eqGXCCgNr6w</th>\n",
       "      <td>0.964161</td>\n",
       "      <td>0.000000</td>\n",
       "      <td>0.000000</td>\n",
       "      <td>0.000000</td>\n",
       "      <td>0.000000</td>\n",
       "    </tr>\n",
       "    <tr>\n",
       "      <th>FYx47IVl9zONrdmqSXYy0w</th>\n",
       "      <td>0.796475</td>\n",
       "      <td>0.012771</td>\n",
       "      <td>0.165094</td>\n",
       "      <td>0.012886</td>\n",
       "      <td>0.012774</td>\n",
       "    </tr>\n",
       "    <tr>\n",
       "      <th>9CkQhl2Y88YkKJrjvoHYqA</th>\n",
       "      <td>0.988214</td>\n",
       "      <td>0.000000</td>\n",
       "      <td>0.000000</td>\n",
       "      <td>0.000000</td>\n",
       "      <td>0.000000</td>\n",
       "    </tr>\n",
       "    <tr>\n",
       "      <th>mUEArPwbHSwQFRVT8Nd6jg</th>\n",
       "      <td>0.020584</td>\n",
       "      <td>0.917835</td>\n",
       "      <td>0.020412</td>\n",
       "      <td>0.020507</td>\n",
       "      <td>0.020662</td>\n",
       "    </tr>\n",
       "    <tr>\n",
       "      <th>9J9PJtzO5hM6KX_bXWg5Pg</th>\n",
       "      <td>0.993394</td>\n",
       "      <td>0.000000</td>\n",
       "      <td>0.000000</td>\n",
       "      <td>0.000000</td>\n",
       "      <td>0.000000</td>\n",
       "    </tr>\n",
       "    <tr>\n",
       "      <th>RQ2kW-lo95ZlGtXmptL0kA</th>\n",
       "      <td>0.958717</td>\n",
       "      <td>0.010343</td>\n",
       "      <td>0.010301</td>\n",
       "      <td>0.010324</td>\n",
       "      <td>0.010315</td>\n",
       "    </tr>\n",
       "    <tr>\n",
       "      <th>tzQlSl6yooO-QgrYoLQX7g</th>\n",
       "      <td>0.000000</td>\n",
       "      <td>0.000000</td>\n",
       "      <td>0.000000</td>\n",
       "      <td>0.974280</td>\n",
       "      <td>0.000000</td>\n",
       "    </tr>\n",
       "    <tr>\n",
       "      <th>WyYyfOZVCoECdqjWt0IbXA</th>\n",
       "      <td>0.000000</td>\n",
       "      <td>0.985827</td>\n",
       "      <td>0.000000</td>\n",
       "      <td>0.000000</td>\n",
       "      <td>0.000000</td>\n",
       "    </tr>\n",
       "    <tr>\n",
       "      <th>AB9xQ22Tp0xlPjsvqo7A3g</th>\n",
       "      <td>0.430314</td>\n",
       "      <td>0.560491</td>\n",
       "      <td>0.000000</td>\n",
       "      <td>0.000000</td>\n",
       "      <td>0.000000</td>\n",
       "    </tr>\n",
       "    <tr>\n",
       "      <th>ynqTC3TwRdzKC8akbHkP3Q</th>\n",
       "      <td>0.972522</td>\n",
       "      <td>0.000000</td>\n",
       "      <td>0.000000</td>\n",
       "      <td>0.000000</td>\n",
       "      <td>0.000000</td>\n",
       "    </tr>\n",
       "    <tr>\n",
       "      <th>QntRoW2D-cd89KTbcCRc5w</th>\n",
       "      <td>0.448660</td>\n",
       "      <td>0.000000</td>\n",
       "      <td>0.000000</td>\n",
       "      <td>0.000000</td>\n",
       "      <td>0.529316</td>\n",
       "    </tr>\n",
       "    <tr>\n",
       "      <th>RGzuqTTgIY6sHh3HmhEMKA</th>\n",
       "      <td>0.823889</td>\n",
       "      <td>0.000000</td>\n",
       "      <td>0.000000</td>\n",
       "      <td>0.167901</td>\n",
       "      <td>0.000000</td>\n",
       "    </tr>\n",
       "    <tr>\n",
       "      <th>OmVOl6jDAJFrF6nMVALi4g</th>\n",
       "      <td>0.967075</td>\n",
       "      <td>0.000000</td>\n",
       "      <td>0.000000</td>\n",
       "      <td>0.000000</td>\n",
       "      <td>0.000000</td>\n",
       "    </tr>\n",
       "    <tr>\n",
       "      <th>hydcHMjlVCQpOTNWb-0E1w</th>\n",
       "      <td>0.268330</td>\n",
       "      <td>0.647371</td>\n",
       "      <td>0.000000</td>\n",
       "      <td>0.000000</td>\n",
       "      <td>0.077538</td>\n",
       "    </tr>\n",
       "    <tr>\n",
       "      <th>vyDuBJrBMAakzYA4tyCaCw</th>\n",
       "      <td>0.000000</td>\n",
       "      <td>0.000000</td>\n",
       "      <td>0.827683</td>\n",
       "      <td>0.157915</td>\n",
       "      <td>0.000000</td>\n",
       "    </tr>\n",
       "    <tr>\n",
       "      <th>AL1rOThDzMhxcVdjw20rLA</th>\n",
       "      <td>0.360643</td>\n",
       "      <td>0.000000</td>\n",
       "      <td>0.562648</td>\n",
       "      <td>0.068116</td>\n",
       "      <td>0.000000</td>\n",
       "    </tr>\n",
       "    <tr>\n",
       "      <th>SRC4ZY9SGGUiSe-BWJYRsQ</th>\n",
       "      <td>0.958867</td>\n",
       "      <td>0.010218</td>\n",
       "      <td>0.010361</td>\n",
       "      <td>0.010270</td>\n",
       "      <td>0.010283</td>\n",
       "    </tr>\n",
       "    <tr>\n",
       "      <th>Hboaer0AnQXZi6lnhtPl2A</th>\n",
       "      <td>0.992714</td>\n",
       "      <td>0.000000</td>\n",
       "      <td>0.000000</td>\n",
       "      <td>0.000000</td>\n",
       "      <td>0.000000</td>\n",
       "    </tr>\n",
       "    <tr>\n",
       "      <th>-JO5wxK49tfOY_g0nbtDHg</th>\n",
       "      <td>0.914325</td>\n",
       "      <td>0.077845</td>\n",
       "      <td>0.000000</td>\n",
       "      <td>0.000000</td>\n",
       "      <td>0.000000</td>\n",
       "    </tr>\n",
       "    <tr>\n",
       "      <th>KPWOFYY-uvsP5UxEBdPb_Q</th>\n",
       "      <td>0.017136</td>\n",
       "      <td>0.017197</td>\n",
       "      <td>0.483673</td>\n",
       "      <td>0.464789</td>\n",
       "      <td>0.017205</td>\n",
       "    </tr>\n",
       "    <tr>\n",
       "      <th>zhBZD3e7Onkd1QB03y-BQA</th>\n",
       "      <td>0.000000</td>\n",
       "      <td>0.000000</td>\n",
       "      <td>0.000000</td>\n",
       "      <td>0.980905</td>\n",
       "      <td>0.000000</td>\n",
       "    </tr>\n",
       "    <tr>\n",
       "      <th>0VSnneZ6FLTOjCrg-WVySw</th>\n",
       "      <td>0.956128</td>\n",
       "      <td>0.010780</td>\n",
       "      <td>0.011479</td>\n",
       "      <td>0.010814</td>\n",
       "      <td>0.010799</td>\n",
       "    </tr>\n",
       "  </tbody>\n",
       "</table>\n",
       "</div>"
      ],
      "text/plain": [
       "                        good place come food time  great good go place time  \\\n",
       "review_id                                                                     \n",
       "eZs2tpEJtXPwawvHnHZIgQ                   0.000000                  0.000000   \n",
       "DoQDWJsNbU0KL1O29l_Xug                   0.936705                  0.015740   \n",
       "DDOdGU7zh56yQHmUnL1idQ                   0.817960                  0.000000   \n",
       "LfTMUWnfGFMOfOIyJcwLVA                   0.956787                  0.010850   \n",
       "zJSUdI7bJ8PNJAg4lnl_Gg                   0.342140                  0.000000   \n",
       "nXYV_0joQEMXYAfNyOPsRw                   0.970650                  0.000000   \n",
       "ZA7SRi6fTRWwpo-B9O72qQ                   0.000000                  0.476714   \n",
       "4_GnHPkyTirzK6onIKO4jw                   0.010884                  0.010766   \n",
       "XGGHc7pYgOm5s6SWr8NMXA                   0.922589                  0.000000   \n",
       "--e66tyhwCE6eoRmcK2w8g                   0.000000                  0.000000   \n",
       "qQs5tLCVdkHCEATQh0ADxg                   0.691619                  0.000000   \n",
       "ZIYbFbXG5PzowcZKk3K_VA                   0.719741                  0.251444   \n",
       "woLYB2t3tXGHQFhPxLsLfA                   0.428622                  0.000000   \n",
       "e1eUh7KpeZ3rgltZPshRbA                   0.000000                  0.720160   \n",
       "WLOI3w3dAU4XQKqepo0-fQ                   0.000000                  0.535652   \n",
       "OWumrhHjAwQO1Na1PnkxSw                   0.116306                  0.000000   \n",
       "8GvF0f4MpWiGCtCJCHKFwg                   0.000000                  0.580128   \n",
       "q-1rGYCZwRfoov8IR5Wo4A                   0.596789                  0.000000   \n",
       "2ADkUuwZh7WxA3euGczl3w                   0.000000                  0.978888   \n",
       "8ETtLpgiM4W1tVVh-T7wDg                   0.990426                  0.000000   \n",
       "R0B-ZQF3VGITSuCXk1O4IA                   0.527791                  0.000000   \n",
       "qXjRWTyneUpuQBLfgBrCRw                   0.000000                  0.036824   \n",
       "GmXBlRwiwHSaq3ekhvIaXw                   0.000000                  0.000000   \n",
       "Mb0QtmTMTLNahLpH-ORYtg                   0.000000                  0.000000   \n",
       "kb31oghfzvTdKXA1xKmXdQ                   0.019322                  0.015791   \n",
       "665jIau5H6eu0NU_lN9fNw                   0.709037                  0.000000   \n",
       "WkKy7_eBMIOt-KzVkCgI9A                   0.012855                  0.948670   \n",
       "BH0IWYTLvMGvkEPpX_DURQ                   0.971591                  0.000000   \n",
       "KG1tP1Nk9h1eqGXCCgNr6w                   0.964161                  0.000000   \n",
       "FYx47IVl9zONrdmqSXYy0w                   0.796475                  0.012771   \n",
       "9CkQhl2Y88YkKJrjvoHYqA                   0.988214                  0.000000   \n",
       "mUEArPwbHSwQFRVT8Nd6jg                   0.020584                  0.917835   \n",
       "9J9PJtzO5hM6KX_bXWg5Pg                   0.993394                  0.000000   \n",
       "RQ2kW-lo95ZlGtXmptL0kA                   0.958717                  0.010343   \n",
       "tzQlSl6yooO-QgrYoLQX7g                   0.000000                  0.000000   \n",
       "WyYyfOZVCoECdqjWt0IbXA                   0.000000                  0.985827   \n",
       "AB9xQ22Tp0xlPjsvqo7A3g                   0.430314                  0.560491   \n",
       "ynqTC3TwRdzKC8akbHkP3Q                   0.972522                  0.000000   \n",
       "QntRoW2D-cd89KTbcCRc5w                   0.448660                  0.000000   \n",
       "RGzuqTTgIY6sHh3HmhEMKA                   0.823889                  0.000000   \n",
       "OmVOl6jDAJFrF6nMVALi4g                   0.967075                  0.000000   \n",
       "hydcHMjlVCQpOTNWb-0E1w                   0.268330                  0.647371   \n",
       "vyDuBJrBMAakzYA4tyCaCw                   0.000000                  0.000000   \n",
       "AL1rOThDzMhxcVdjw20rLA                   0.360643                  0.000000   \n",
       "SRC4ZY9SGGUiSe-BWJYRsQ                   0.958867                  0.010218   \n",
       "Hboaer0AnQXZi6lnhtPl2A                   0.992714                  0.000000   \n",
       "-JO5wxK49tfOY_g0nbtDHg                   0.914325                  0.077845   \n",
       "KPWOFYY-uvsP5UxEBdPb_Q                   0.017136                  0.017197   \n",
       "zhBZD3e7Onkd1QB03y-BQA                   0.000000                  0.000000   \n",
       "0VSnneZ6FLTOjCrg-WVySw                   0.956128                  0.010780   \n",
       "\n",
       "                        good food great service time  \\\n",
       "review_id                                              \n",
       "eZs2tpEJtXPwawvHnHZIgQ                      0.000000   \n",
       "DoQDWJsNbU0KL1O29l_Xug                      0.015974   \n",
       "DDOdGU7zh56yQHmUnL1idQ                      0.049590   \n",
       "LfTMUWnfGFMOfOIyJcwLVA                      0.010802   \n",
       "zJSUdI7bJ8PNJAg4lnl_Gg                      0.641666   \n",
       "nXYV_0joQEMXYAfNyOPsRw                      0.000000   \n",
       "ZA7SRi6fTRWwpo-B9O72qQ                      0.000000   \n",
       "4_GnHPkyTirzK6onIKO4jw                      0.010784   \n",
       "XGGHc7pYgOm5s6SWr8NMXA                      0.069423   \n",
       "--e66tyhwCE6eoRmcK2w8g                      0.000000   \n",
       "qQs5tLCVdkHCEATQh0ADxg                      0.000000   \n",
       "ZIYbFbXG5PzowcZKk3K_VA                      0.000000   \n",
       "woLYB2t3tXGHQFhPxLsLfA                      0.000000   \n",
       "e1eUh7KpeZ3rgltZPshRbA                      0.000000   \n",
       "WLOI3w3dAU4XQKqepo0-fQ                      0.000000   \n",
       "OWumrhHjAwQO1Na1PnkxSw                      0.202144   \n",
       "8GvF0f4MpWiGCtCJCHKFwg                      0.403168   \n",
       "q-1rGYCZwRfoov8IR5Wo4A                      0.000000   \n",
       "2ADkUuwZh7WxA3euGczl3w                      0.000000   \n",
       "8ETtLpgiM4W1tVVh-T7wDg                      0.000000   \n",
       "R0B-ZQF3VGITSuCXk1O4IA                      0.000000   \n",
       "qXjRWTyneUpuQBLfgBrCRw                      0.000000   \n",
       "GmXBlRwiwHSaq3ekhvIaXw                      0.000000   \n",
       "Mb0QtmTMTLNahLpH-ORYtg                      0.000000   \n",
       "kb31oghfzvTdKXA1xKmXdQ                      0.933395   \n",
       "665jIau5H6eu0NU_lN9fNw                      0.000000   \n",
       "WkKy7_eBMIOt-KzVkCgI9A                      0.012829   \n",
       "BH0IWYTLvMGvkEPpX_DURQ                      0.000000   \n",
       "KG1tP1Nk9h1eqGXCCgNr6w                      0.000000   \n",
       "FYx47IVl9zONrdmqSXYy0w                      0.165094   \n",
       "9CkQhl2Y88YkKJrjvoHYqA                      0.000000   \n",
       "mUEArPwbHSwQFRVT8Nd6jg                      0.020412   \n",
       "9J9PJtzO5hM6KX_bXWg5Pg                      0.000000   \n",
       "RQ2kW-lo95ZlGtXmptL0kA                      0.010301   \n",
       "tzQlSl6yooO-QgrYoLQX7g                      0.000000   \n",
       "WyYyfOZVCoECdqjWt0IbXA                      0.000000   \n",
       "AB9xQ22Tp0xlPjsvqo7A3g                      0.000000   \n",
       "ynqTC3TwRdzKC8akbHkP3Q                      0.000000   \n",
       "QntRoW2D-cd89KTbcCRc5w                      0.000000   \n",
       "RGzuqTTgIY6sHh3HmhEMKA                      0.000000   \n",
       "OmVOl6jDAJFrF6nMVALi4g                      0.000000   \n",
       "hydcHMjlVCQpOTNWb-0E1w                      0.000000   \n",
       "vyDuBJrBMAakzYA4tyCaCw                      0.827683   \n",
       "AL1rOThDzMhxcVdjw20rLA                      0.562648   \n",
       "SRC4ZY9SGGUiSe-BWJYRsQ                      0.010361   \n",
       "Hboaer0AnQXZi6lnhtPl2A                      0.000000   \n",
       "-JO5wxK49tfOY_g0nbtDHg                      0.000000   \n",
       "KPWOFYY-uvsP5UxEBdPb_Q                      0.483673   \n",
       "zhBZD3e7Onkd1QB03y-BQA                      0.000000   \n",
       "0VSnneZ6FLTOjCrg-WVySw                      0.011479   \n",
       "\n",
       "                        good time like order service  \\\n",
       "review_id                                              \n",
       "eZs2tpEJtXPwawvHnHZIgQ                      0.980488   \n",
       "DoQDWJsNbU0KL1O29l_Xug                      0.015779   \n",
       "DDOdGU7zh56yQHmUnL1idQ                      0.127306   \n",
       "LfTMUWnfGFMOfOIyJcwLVA                      0.010804   \n",
       "zJSUdI7bJ8PNJAg4lnl_Gg                      0.000000   \n",
       "nXYV_0joQEMXYAfNyOPsRw                      0.000000   \n",
       "ZA7SRi6fTRWwpo-B9O72qQ                      0.491470   \n",
       "4_GnHPkyTirzK6onIKO4jw                      0.956748   \n",
       "XGGHc7pYgOm5s6SWr8NMXA                      0.000000   \n",
       "--e66tyhwCE6eoRmcK2w8g                      0.971576   \n",
       "qQs5tLCVdkHCEATQh0ADxg                      0.044711   \n",
       "ZIYbFbXG5PzowcZKk3K_VA                      0.026629   \n",
       "woLYB2t3tXGHQFhPxLsLfA                      0.000000   \n",
       "e1eUh7KpeZ3rgltZPshRbA                      0.000000   \n",
       "WLOI3w3dAU4XQKqepo0-fQ                      0.000000   \n",
       "OWumrhHjAwQO1Na1PnkxSw                      0.673472   \n",
       "8GvF0f4MpWiGCtCJCHKFwg                      0.000000   \n",
       "q-1rGYCZwRfoov8IR5Wo4A                      0.381220   \n",
       "2ADkUuwZh7WxA3euGczl3w                      0.000000   \n",
       "8ETtLpgiM4W1tVVh-T7wDg                      0.000000   \n",
       "R0B-ZQF3VGITSuCXk1O4IA                      0.000000   \n",
       "qXjRWTyneUpuQBLfgBrCRw                      0.000000   \n",
       "GmXBlRwiwHSaq3ekhvIaXw                      0.995083   \n",
       "Mb0QtmTMTLNahLpH-ORYtg                      0.000000   \n",
       "kb31oghfzvTdKXA1xKmXdQ                      0.015735   \n",
       "665jIau5H6eu0NU_lN9fNw                      0.000000   \n",
       "WkKy7_eBMIOt-KzVkCgI9A                      0.012777   \n",
       "BH0IWYTLvMGvkEPpX_DURQ                      0.000000   \n",
       "KG1tP1Nk9h1eqGXCCgNr6w                      0.000000   \n",
       "FYx47IVl9zONrdmqSXYy0w                      0.012886   \n",
       "9CkQhl2Y88YkKJrjvoHYqA                      0.000000   \n",
       "mUEArPwbHSwQFRVT8Nd6jg                      0.020507   \n",
       "9J9PJtzO5hM6KX_bXWg5Pg                      0.000000   \n",
       "RQ2kW-lo95ZlGtXmptL0kA                      0.010324   \n",
       "tzQlSl6yooO-QgrYoLQX7g                      0.974280   \n",
       "WyYyfOZVCoECdqjWt0IbXA                      0.000000   \n",
       "AB9xQ22Tp0xlPjsvqo7A3g                      0.000000   \n",
       "ynqTC3TwRdzKC8akbHkP3Q                      0.000000   \n",
       "QntRoW2D-cd89KTbcCRc5w                      0.000000   \n",
       "RGzuqTTgIY6sHh3HmhEMKA                      0.167901   \n",
       "OmVOl6jDAJFrF6nMVALi4g                      0.000000   \n",
       "hydcHMjlVCQpOTNWb-0E1w                      0.000000   \n",
       "vyDuBJrBMAakzYA4tyCaCw                      0.157915   \n",
       "AL1rOThDzMhxcVdjw20rLA                      0.068116   \n",
       "SRC4ZY9SGGUiSe-BWJYRsQ                      0.010270   \n",
       "Hboaer0AnQXZi6lnhtPl2A                      0.000000   \n",
       "-JO5wxK49tfOY_g0nbtDHg                      0.000000   \n",
       "KPWOFYY-uvsP5UxEBdPb_Q                      0.464789   \n",
       "zhBZD3e7Onkd1QB03y-BQA                      0.980905   \n",
       "0VSnneZ6FLTOjCrg-WVySw                      0.010814   \n",
       "\n",
       "                        food place order great come  \n",
       "review_id                                            \n",
       "eZs2tpEJtXPwawvHnHZIgQ                     0.000000  \n",
       "DoQDWJsNbU0KL1O29l_Xug                     0.015803  \n",
       "DDOdGU7zh56yQHmUnL1idQ                     0.000000  \n",
       "LfTMUWnfGFMOfOIyJcwLVA                     0.010757  \n",
       "zJSUdI7bJ8PNJAg4lnl_Gg                     0.000000  \n",
       "nXYV_0joQEMXYAfNyOPsRw                     0.000000  \n",
       "ZA7SRi6fTRWwpo-B9O72qQ                     0.024143  \n",
       "4_GnHPkyTirzK6onIKO4jw                     0.010819  \n",
       "XGGHc7pYgOm5s6SWr8NMXA                     0.000000  \n",
       "--e66tyhwCE6eoRmcK2w8g                     0.000000  \n",
       "qQs5tLCVdkHCEATQh0ADxg                     0.259655  \n",
       "ZIYbFbXG5PzowcZKk3K_VA                     0.000000  \n",
       "woLYB2t3tXGHQFhPxLsLfA                     0.542030  \n",
       "e1eUh7KpeZ3rgltZPshRbA                     0.256134  \n",
       "WLOI3w3dAU4XQKqepo0-fQ                     0.459124  \n",
       "OWumrhHjAwQO1Na1PnkxSw                     0.000000  \n",
       "8GvF0f4MpWiGCtCJCHKFwg                     0.000000  \n",
       "q-1rGYCZwRfoov8IR5Wo4A                     0.000000  \n",
       "2ADkUuwZh7WxA3euGczl3w                     0.000000  \n",
       "8ETtLpgiM4W1tVVh-T7wDg                     0.000000  \n",
       "R0B-ZQF3VGITSuCXk1O4IA                     0.456391  \n",
       "qXjRWTyneUpuQBLfgBrCRw                     0.953207  \n",
       "GmXBlRwiwHSaq3ekhvIaXw                     0.000000  \n",
       "Mb0QtmTMTLNahLpH-ORYtg                     0.973472  \n",
       "kb31oghfzvTdKXA1xKmXdQ                     0.015757  \n",
       "665jIau5H6eu0NU_lN9fNw                     0.272802  \n",
       "WkKy7_eBMIOt-KzVkCgI9A                     0.012868  \n",
       "BH0IWYTLvMGvkEPpX_DURQ                     0.000000  \n",
       "KG1tP1Nk9h1eqGXCCgNr6w                     0.000000  \n",
       "FYx47IVl9zONrdmqSXYy0w                     0.012774  \n",
       "9CkQhl2Y88YkKJrjvoHYqA                     0.000000  \n",
       "mUEArPwbHSwQFRVT8Nd6jg                     0.020662  \n",
       "9J9PJtzO5hM6KX_bXWg5Pg                     0.000000  \n",
       "RQ2kW-lo95ZlGtXmptL0kA                     0.010315  \n",
       "tzQlSl6yooO-QgrYoLQX7g                     0.000000  \n",
       "WyYyfOZVCoECdqjWt0IbXA                     0.000000  \n",
       "AB9xQ22Tp0xlPjsvqo7A3g                     0.000000  \n",
       "ynqTC3TwRdzKC8akbHkP3Q                     0.000000  \n",
       "QntRoW2D-cd89KTbcCRc5w                     0.529316  \n",
       "RGzuqTTgIY6sHh3HmhEMKA                     0.000000  \n",
       "OmVOl6jDAJFrF6nMVALi4g                     0.000000  \n",
       "hydcHMjlVCQpOTNWb-0E1w                     0.077538  \n",
       "vyDuBJrBMAakzYA4tyCaCw                     0.000000  \n",
       "AL1rOThDzMhxcVdjw20rLA                     0.000000  \n",
       "SRC4ZY9SGGUiSe-BWJYRsQ                     0.010283  \n",
       "Hboaer0AnQXZi6lnhtPl2A                     0.000000  \n",
       "-JO5wxK49tfOY_g0nbtDHg                     0.000000  \n",
       "KPWOFYY-uvsP5UxEBdPb_Q                     0.017205  \n",
       "zhBZD3e7Onkd1QB03y-BQA                     0.000000  \n",
       "0VSnneZ6FLTOjCrg-WVySw                     0.010799  "
      ]
     },
     "execution_count": 235,
     "metadata": {},
     "output_type": "execute_result"
    }
   ],
   "source": [
    "df.head(50)"
   ]
  },
  {
   "cell_type": "code",
   "execution_count": 255,
   "metadata": {},
   "outputs": [],
   "source": [
    "#cm = CoherenceModel(model= lda_model,texts= yelp['processed'], corpus= bow_corpus, coherence='c_v') \n",
    "cm = CoherenceModel(model= lda_model, texts= yelp['processed'], corpus= corpus, coherence='c_v') "
   ]
  },
  {
   "cell_type": "code",
   "execution_count": 256,
   "metadata": {},
   "outputs": [],
   "source": [
    "coherence = cm.get_coherence()"
   ]
  },
  {
   "cell_type": "code",
   "execution_count": 257,
   "metadata": {},
   "outputs": [
    {
     "data": {
      "text/plain": [
       "0.3508020090958897"
      ]
     },
     "execution_count": 257,
     "metadata": {},
     "output_type": "execute_result"
    }
   ],
   "source": [
    "coherence"
   ]
  },
  {
   "cell_type": "code",
   "execution_count": 242,
   "metadata": {},
   "outputs": [],
   "source": [
    "def coherence_values(dictionary, corpus):\n",
    "    coherence_values = []\n",
    "    model_list = []\n",
    "    for topic in range(2,20,2):\n",
    "        model = gensim.models.LdaMulticore(corpus= corpus, num_topics=topic, id2word=id2word)\n",
    "        model_list.append(model)\n",
    "        cm = CoherenceModel(model= model,texts= yelp['processed'], corpus= corpus, coherence='c_v') \n",
    "        coherence_values.append(cm.get_coherence())\n",
    "    return model_list, coherence_values"
   ]
  },
  {
   "cell_type": "code",
   "execution_count": 243,
   "metadata": {},
   "outputs": [],
   "source": [
    "model_list, coherence_values = coherence_values(dictionary, bow_corpus)"
   ]
  },
  {
   "cell_type": "code",
   "execution_count": 244,
   "metadata": {},
   "outputs": [
    {
     "data": {
      "image/png": "[encoded data removed]",
      "text/plain": [
       "<Figure size 432x288 with 1 Axes>"
      ]
     },
     "metadata": {
      "needs_background": "light"
     },
     "output_type": "display_data"
    }
   ],
   "source": [
    "x = range(2, 20, 2)\n",
    "plt.plot(x, coherence_values)\n",
    "plt.xlabel(\"Num Topics\")\n",
    "plt.ylabel(\"Coherence Score\")\n",
    "plt.show()"
   ]
  },
  {
   "cell_type": "code",
   "execution_count": 250,
   "metadata": {},
   "outputs": [],
   "source": [
    "def coherence_values(dictionary, corpus):\n",
    "    coherence_values = []\n",
    "    model_list = []\n",
    "    for topic in range(5,50,5):\n",
    "        model = gensim.models.LdaMulticore(corpus= bow_corpus, num_topics=topic, id2word=dictionary)\n",
    "        model_list.append(model)\n",
    "        cm = CoherenceModel(model= model,texts= yelp['processed'], corpus= bow_corpus, coherence='c_v') \n",
    "        coherence_values.append(cm.get_coherence())\n",
    "    return model_list, coherence_values"
   ]
  },
  {
   "cell_type": "code",
   "execution_count": 251,
   "metadata": {},
   "outputs": [],
   "source": [
    "model_list, coherence_values = coherence_values(dictionary, bow_corpus)"
   ]
  },
  {
   "cell_type": "code",
   "execution_count": 252,
   "metadata": {},
   "outputs": [
    {
     "data": {
      "image/png": "[encoded data removed]",
      "text/plain": [
       "<Figure size 432x288 with 1 Axes>"
      ]
     },
     "metadata": {
      "needs_background": "light"
     },
     "output_type": "display_data"
    }
   ],
   "source": [
    "x = range(5, 50, 5)\n",
    "plt.plot(x, coherence_values)\n",
    "plt.xlabel(\"Num Topics\")\n",
    "plt.ylabel(\"Coherence Score\")\n",
    "plt.show()"
   ]
  },
  {
   "cell_type": "markdown",
   "metadata": {},
   "source": [
    "# The model benefits from having 20 topics, but drops in coherence with more(only accounting for up to 45 topics). "
   ]
  },
  {
   "cell_type": "markdown",
   "metadata": {},
   "source": [
    "## Stretch Goals\n",
    "\n",
    "Complete one of more of these to push your score towards a three: \n",
    "* Incorporate named entity recognition into your analysis\n",
    "* Compare vectorization methods in the classification section\n",
    "* Analyze more (or all) of the yelp dataset - this one is v. hard. \n",
    "* Use a generator object on the reviews file - this would help you with the analyzing the whole dataset.\n",
    "* Incorporate any of the other yelp dataset entities in your analysis (business, users, etc.)"
   ]
  }
 ],
 "metadata": {
  "kernelspec": {
   "display_name": "Python 3",
   "language": "python",
   "name": "python3"
  },
  "language_info": {
   "codemirror_mode": {
    "name": "ipython",
    "version": 3
   },
   "file_extension": ".py",
   "mimetype": "text/x-python",
   "name": "python",
   "nbconvert_exporter": "python",
   "pygments_lexer": "ipython3",
   "version": "3.7.3"
  },
  "toc-autonumbering": false
 },
 "nbformat": 4,
 "nbformat_minor": 2
}
