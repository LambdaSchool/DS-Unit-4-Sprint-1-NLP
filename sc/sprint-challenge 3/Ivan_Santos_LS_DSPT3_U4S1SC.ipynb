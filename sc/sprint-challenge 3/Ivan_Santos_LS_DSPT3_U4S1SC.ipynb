{
 "cells": [
  {
   "cell_type": "markdown",
   "metadata": {},
   "source": [
    "<img align=\"left\" src=\"https://lever-client-logos.s3.amazonaws.com/864372b1-534c-480e-acd5-9711f850815c-1524247202159.png\" width=200>\n",
    "<br></br>\n",
    "<br></br>\n",
    "\n",
    "# Sprint Challenge\n",
    "## *Data Science Unit 4 Sprint 1*\n",
    "\n",
    "After a week of Natural Language Processing, you've learned some cool new stuff: how to process text, how turn text into vectors, and how to model topics from documents. Apply your newly acquired skills to one of the most famous NLP datasets out there: [Yelp](https://www.yelp.com/dataset/challenge). As part of the job selection process, some of my friends have been asked to create analysis of this dataset, so I want to empower you to have a head start.  \n",
    "\n",
    "The real dataset is massive (almost 8 gigs uncompressed). I've sampled the data for you to something more managable for the Sprint Challenge. You can analyze the full dataset as a stretch goal or after the sprint challenge. As you work on the challenge, I suggest adding notes about your findings and things you want to analyze in the future.\n",
    "\n",
    "## Challenge Objectives\n",
    "*Successfully complete these all these objectives to earn a 2. There are more details on each objective further down in the notebook.*\n",
    "* <a href=\"#p1\">Part 1</a>: Write a function to tokenize the yelp reviews\n",
    "* <a href=\"#p2\">Part 2</a>: Create a vector representation of those tokens\n",
    "* <a href=\"#p3\">Part 3</a>: Use your tokens in a classification model on yelp rating\n",
    "* <a href=\"#p4\">Part 4</a>: Estimate & Interpret a topic model of the Yelp reviews"
   ]
  },
  {
   "cell_type": "code",
   "execution_count": 1,
   "metadata": {},
   "outputs": [],
   "source": [
    "import pandas as pd\n",
    "\n",
    "yelp = pd.read_json('./data/review_sample.json', lines=True)"
   ]
  },
  {
   "cell_type": "code",
   "execution_count": 2,
   "metadata": {},
   "outputs": [],
   "source": [
    "# Imports\n",
    "import numpy as np\n",
    "import matplotlib.pyplot as plt\n",
    "import seaborn as sns\n",
    "sns.set()\n",
    "\n",
    "\n",
    "# All NLP Imports\n",
    "\n",
    "import spacy\n",
    "nlp = spacy.load('en_core_web_lg')\n",
    "\n",
    "from sklearn.feature_extraction.text import CountVectorizer, TfidfVectorizer\n"
   ]
  },
  {
   "cell_type": "code",
   "execution_count": 3,
   "metadata": {},
   "outputs": [],
   "source": [
    "# get rid of whitespace and also make lowercase\n",
    "\n",
    "def wrangle(df):\n",
    "    df = df.copy()\n",
    "    df['text'] = df['text'].str.lower().str.strip()\n",
    "    df['text'] = df['text'].str.replace(r'[^a-zA-Z ^0-9]', '')\n",
    "    return df\n",
    "\n",
    "yelp = wrangle(yelp)"
   ]
  },
  {
   "cell_type": "code",
   "execution_count": 4,
   "metadata": {},
   "outputs": [
    {
     "data": {
      "text/html": [
       "<div>\n",
       "<style scoped>\n",
       "    .dataframe tbody tr th:only-of-type {\n",
       "        vertical-align: middle;\n",
       "    }\n",
       "\n",
       "    .dataframe tbody tr th {\n",
       "        vertical-align: top;\n",
       "    }\n",
       "\n",
       "    .dataframe thead th {\n",
       "        text-align: right;\n",
       "    }\n",
       "</style>\n",
       "<table border=\"1\" class=\"dataframe\">\n",
       "  <thead>\n",
       "    <tr style=\"text-align: right;\">\n",
       "      <th></th>\n",
       "      <th>business_id</th>\n",
       "      <th>cool</th>\n",
       "      <th>date</th>\n",
       "      <th>funny</th>\n",
       "      <th>review_id</th>\n",
       "      <th>stars</th>\n",
       "      <th>text</th>\n",
       "      <th>useful</th>\n",
       "      <th>user_id</th>\n",
       "    </tr>\n",
       "  </thead>\n",
       "  <tbody>\n",
       "    <tr>\n",
       "      <th>0</th>\n",
       "      <td>nDuEqIyRc8YKS1q1fX0CZg</td>\n",
       "      <td>1</td>\n",
       "      <td>2015-03-31 16:50:30</td>\n",
       "      <td>0</td>\n",
       "      <td>eZs2tpEJtXPwawvHnHZIgQ</td>\n",
       "      <td>1</td>\n",
       "      <td>beware fake fake fakewe also own a small busin...</td>\n",
       "      <td>10</td>\n",
       "      <td>n1LM36qNg4rqGXIcvVXv8w</td>\n",
       "    </tr>\n",
       "    <tr>\n",
       "      <th>1</th>\n",
       "      <td>eMYeEapscbKNqUDCx705hg</td>\n",
       "      <td>0</td>\n",
       "      <td>2015-12-16 05:31:03</td>\n",
       "      <td>0</td>\n",
       "      <td>DoQDWJsNbU0KL1O29l_Xug</td>\n",
       "      <td>4</td>\n",
       "      <td>came here for lunch togo service was quick sta...</td>\n",
       "      <td>0</td>\n",
       "      <td>5CgjjDAic2-FAvCtiHpytA</td>\n",
       "    </tr>\n",
       "    <tr>\n",
       "      <th>2</th>\n",
       "      <td>6Q7-wkCPc1KF75jZLOTcMw</td>\n",
       "      <td>1</td>\n",
       "      <td>2010-06-20 19:14:48</td>\n",
       "      <td>1</td>\n",
       "      <td>DDOdGU7zh56yQHmUnL1idQ</td>\n",
       "      <td>3</td>\n",
       "      <td>ive been to vegas dozens of times and had neve...</td>\n",
       "      <td>2</td>\n",
       "      <td>BdV-cf3LScmb8kZ7iiBcMA</td>\n",
       "    </tr>\n",
       "    <tr>\n",
       "      <th>3</th>\n",
       "      <td>k3zrItO4l9hwfLRwHBDc9w</td>\n",
       "      <td>3</td>\n",
       "      <td>2010-07-13 00:33:45</td>\n",
       "      <td>4</td>\n",
       "      <td>LfTMUWnfGFMOfOIyJcwLVA</td>\n",
       "      <td>1</td>\n",
       "      <td>we went here on a night where they closed off ...</td>\n",
       "      <td>5</td>\n",
       "      <td>cZZnBqh4gAEy4CdNvJailQ</td>\n",
       "    </tr>\n",
       "    <tr>\n",
       "      <th>4</th>\n",
       "      <td>6hpfRwGlOzbNv7k5eP9rsQ</td>\n",
       "      <td>1</td>\n",
       "      <td>2018-06-30 02:30:01</td>\n",
       "      <td>0</td>\n",
       "      <td>zJSUdI7bJ8PNJAg4lnl_Gg</td>\n",
       "      <td>4</td>\n",
       "      <td>35 to 4 starsnot bad for the price 1299 for lu...</td>\n",
       "      <td>5</td>\n",
       "      <td>n9QO4ClYAS7h9fpQwa5bhA</td>\n",
       "    </tr>\n",
       "  </tbody>\n",
       "</table>\n",
       "</div>"
      ],
      "text/plain": [
       "              business_id  cool                date  funny  \\\n",
       "0  nDuEqIyRc8YKS1q1fX0CZg     1 2015-03-31 16:50:30      0   \n",
       "1  eMYeEapscbKNqUDCx705hg     0 2015-12-16 05:31:03      0   \n",
       "2  6Q7-wkCPc1KF75jZLOTcMw     1 2010-06-20 19:14:48      1   \n",
       "3  k3zrItO4l9hwfLRwHBDc9w     3 2010-07-13 00:33:45      4   \n",
       "4  6hpfRwGlOzbNv7k5eP9rsQ     1 2018-06-30 02:30:01      0   \n",
       "\n",
       "                review_id  stars  \\\n",
       "0  eZs2tpEJtXPwawvHnHZIgQ      1   \n",
       "1  DoQDWJsNbU0KL1O29l_Xug      4   \n",
       "2  DDOdGU7zh56yQHmUnL1idQ      3   \n",
       "3  LfTMUWnfGFMOfOIyJcwLVA      1   \n",
       "4  zJSUdI7bJ8PNJAg4lnl_Gg      4   \n",
       "\n",
       "                                                text  useful  \\\n",
       "0  beware fake fake fakewe also own a small busin...      10   \n",
       "1  came here for lunch togo service was quick sta...       0   \n",
       "2  ive been to vegas dozens of times and had neve...       2   \n",
       "3  we went here on a night where they closed off ...       5   \n",
       "4  35 to 4 starsnot bad for the price 1299 for lu...       5   \n",
       "\n",
       "                  user_id  \n",
       "0  n1LM36qNg4rqGXIcvVXv8w  \n",
       "1  5CgjjDAic2-FAvCtiHpytA  \n",
       "2  BdV-cf3LScmb8kZ7iiBcMA  \n",
       "3  cZZnBqh4gAEy4CdNvJailQ  \n",
       "4  n9QO4ClYAS7h9fpQwa5bhA  "
      ]
     },
     "execution_count": 4,
     "metadata": {},
     "output_type": "execute_result"
    }
   ],
   "source": [
    "yelp.head()"
   ]
  },
  {
   "cell_type": "code",
   "execution_count": 5,
   "metadata": {},
   "outputs": [
    {
     "data": {
      "text/plain": [
       "(10000, 9)"
      ]
     },
     "execution_count": 5,
     "metadata": {},
     "output_type": "execute_result"
    }
   ],
   "source": [
    "yelp.shape"
   ]
  },
  {
   "cell_type": "markdown",
   "metadata": {},
   "source": [
    "## Part 1: Tokenize Function\n",
    "<a id=\"#p1\"></a>\n",
    "\n",
    "Complete the function `tokenize`. Your function should\n",
    "- accept one document at a time\n",
    "- return a list of tokens\n",
    "\n",
    "You are free to use any method you have learned this week."
   ]
  },
  {
   "cell_type": "code",
   "execution_count": 6,
   "metadata": {},
   "outputs": [],
   "source": [
    "# basic preprocess using generated stopwords\n",
    "\n",
    "import gensim\n",
    "from gensim.utils import simple_preprocess\n",
    "from gensim.parsing.preprocessing import STOPWORDS\n",
    "\n",
    "STOPWORDS = set(STOPWORDS).union(set([' ', '  ', '   ']))\n",
    "\n",
    "def tokenize(text):\n",
    "    return [token for token in simple_preprocess(text, deacc=True, min_len=4, max_len=20) \n",
    "            if token not in STOPWORDS]"
   ]
  },
  {
   "cell_type": "code",
   "execution_count": 7,
   "metadata": {},
   "outputs": [
    {
     "data": {
      "text/plain": [
       "0    [beware, fake, fake, fakewe, small, business, ...\n",
       "1    [came, lunch, togo, service, quick, staff, fri...\n",
       "2    [vegas, dozens, times, stepped, foot, circus, ...\n",
       "3    [went, night, closed, street, party, best, act...\n",
       "4    [starsnot, price, lunch, seniors, eating, food...\n",
       "Name: tokenized, dtype: object"
      ]
     },
     "execution_count": 7,
     "metadata": {},
     "output_type": "execute_result"
    }
   ],
   "source": [
    "yelp['tokenized'] = yelp['text'].apply(tokenize)\n",
    "yelp['tokenized'].head()"
   ]
  },
  {
   "cell_type": "markdown",
   "metadata": {},
   "source": [
    "## Part 2: Vector Representation\n",
    "<a id=\"#p2\"></a>\n",
    "1. Create a vector representation of the reviews\n",
    "2. Write a fake review and query for the 10 most similiar reviews, print the text of the reviews. Do you notice any patterns?\n",
    "    - Given the size of the dataset, it will probably be best to use a `NearestNeighbors` model for this. "
   ]
  },
  {
   "cell_type": "code",
   "execution_count": 8,
   "metadata": {},
   "outputs": [
    {
     "data": {
      "text/html": [
       "<div>\n",
       "<style scoped>\n",
       "    .dataframe tbody tr th:only-of-type {\n",
       "        vertical-align: middle;\n",
       "    }\n",
       "\n",
       "    .dataframe tbody tr th {\n",
       "        vertical-align: top;\n",
       "    }\n",
       "\n",
       "    .dataframe thead th {\n",
       "        text-align: right;\n",
       "    }\n",
       "</style>\n",
       "<table border=\"1\" class=\"dataframe\">\n",
       "  <thead>\n",
       "    <tr style=\"text-align: right;\">\n",
       "      <th></th>\n",
       "      <th>aaaahhhs</th>\n",
       "      <th>aaasssk</th>\n",
       "      <th>aabs</th>\n",
       "      <th>aamco</th>\n",
       "      <th>aand</th>\n",
       "      <th>aaron</th>\n",
       "      <th>aback</th>\n",
       "      <th>abandoned</th>\n",
       "      <th>abby</th>\n",
       "      <th>abdc</th>\n",
       "      <th>...</th>\n",
       "      <th>zumanity</th>\n",
       "      <th>zumba</th>\n",
       "      <th>zuni</th>\n",
       "      <th>zupas</th>\n",
       "      <th>zuzana</th>\n",
       "      <th>zuzu</th>\n",
       "      <th>zxkxko</th>\n",
       "      <th>zyrtec</th>\n",
       "      <th>zzaplon</th>\n",
       "      <th>zzzzzzzzzmy</th>\n",
       "    </tr>\n",
       "  </thead>\n",
       "  <tbody>\n",
       "    <tr>\n",
       "      <th>0</th>\n",
       "      <td>0.0</td>\n",
       "      <td>0.0</td>\n",
       "      <td>0.0</td>\n",
       "      <td>0.0</td>\n",
       "      <td>0.0</td>\n",
       "      <td>0.0</td>\n",
       "      <td>0.0</td>\n",
       "      <td>0.0</td>\n",
       "      <td>0.0</td>\n",
       "      <td>0.0</td>\n",
       "      <td>...</td>\n",
       "      <td>0.0</td>\n",
       "      <td>0.0</td>\n",
       "      <td>0.0</td>\n",
       "      <td>0.0</td>\n",
       "      <td>0.0</td>\n",
       "      <td>0.0</td>\n",
       "      <td>0.0</td>\n",
       "      <td>0.0</td>\n",
       "      <td>0.0</td>\n",
       "      <td>0.0</td>\n",
       "    </tr>\n",
       "    <tr>\n",
       "      <th>1</th>\n",
       "      <td>0.0</td>\n",
       "      <td>0.0</td>\n",
       "      <td>0.0</td>\n",
       "      <td>0.0</td>\n",
       "      <td>0.0</td>\n",
       "      <td>0.0</td>\n",
       "      <td>0.0</td>\n",
       "      <td>0.0</td>\n",
       "      <td>0.0</td>\n",
       "      <td>0.0</td>\n",
       "      <td>...</td>\n",
       "      <td>0.0</td>\n",
       "      <td>0.0</td>\n",
       "      <td>0.0</td>\n",
       "      <td>0.0</td>\n",
       "      <td>0.0</td>\n",
       "      <td>0.0</td>\n",
       "      <td>0.0</td>\n",
       "      <td>0.0</td>\n",
       "      <td>0.0</td>\n",
       "      <td>0.0</td>\n",
       "    </tr>\n",
       "    <tr>\n",
       "      <th>2</th>\n",
       "      <td>0.0</td>\n",
       "      <td>0.0</td>\n",
       "      <td>0.0</td>\n",
       "      <td>0.0</td>\n",
       "      <td>0.0</td>\n",
       "      <td>0.0</td>\n",
       "      <td>0.0</td>\n",
       "      <td>0.0</td>\n",
       "      <td>0.0</td>\n",
       "      <td>0.0</td>\n",
       "      <td>...</td>\n",
       "      <td>0.0</td>\n",
       "      <td>0.0</td>\n",
       "      <td>0.0</td>\n",
       "      <td>0.0</td>\n",
       "      <td>0.0</td>\n",
       "      <td>0.0</td>\n",
       "      <td>0.0</td>\n",
       "      <td>0.0</td>\n",
       "      <td>0.0</td>\n",
       "      <td>0.0</td>\n",
       "    </tr>\n",
       "    <tr>\n",
       "      <th>3</th>\n",
       "      <td>0.0</td>\n",
       "      <td>0.0</td>\n",
       "      <td>0.0</td>\n",
       "      <td>0.0</td>\n",
       "      <td>0.0</td>\n",
       "      <td>0.0</td>\n",
       "      <td>0.0</td>\n",
       "      <td>0.0</td>\n",
       "      <td>0.0</td>\n",
       "      <td>0.0</td>\n",
       "      <td>...</td>\n",
       "      <td>0.0</td>\n",
       "      <td>0.0</td>\n",
       "      <td>0.0</td>\n",
       "      <td>0.0</td>\n",
       "      <td>0.0</td>\n",
       "      <td>0.0</td>\n",
       "      <td>0.0</td>\n",
       "      <td>0.0</td>\n",
       "      <td>0.0</td>\n",
       "      <td>0.0</td>\n",
       "    </tr>\n",
       "    <tr>\n",
       "      <th>4</th>\n",
       "      <td>0.0</td>\n",
       "      <td>0.0</td>\n",
       "      <td>0.0</td>\n",
       "      <td>0.0</td>\n",
       "      <td>0.0</td>\n",
       "      <td>0.0</td>\n",
       "      <td>0.0</td>\n",
       "      <td>0.0</td>\n",
       "      <td>0.0</td>\n",
       "      <td>0.0</td>\n",
       "      <td>...</td>\n",
       "      <td>0.0</td>\n",
       "      <td>0.0</td>\n",
       "      <td>0.0</td>\n",
       "      <td>0.0</td>\n",
       "      <td>0.0</td>\n",
       "      <td>0.0</td>\n",
       "      <td>0.0</td>\n",
       "      <td>0.0</td>\n",
       "      <td>0.0</td>\n",
       "      <td>0.0</td>\n",
       "    </tr>\n",
       "  </tbody>\n",
       "</table>\n",
       "<p>5 rows × 34551 columns</p>\n",
       "</div>"
      ],
      "text/plain": [
       "   aaaahhhs  aaasssk  aabs  aamco  aand  aaron  aback  abandoned  abby  abdc  \\\n",
       "0       0.0      0.0   0.0    0.0   0.0    0.0    0.0        0.0   0.0   0.0   \n",
       "1       0.0      0.0   0.0    0.0   0.0    0.0    0.0        0.0   0.0   0.0   \n",
       "2       0.0      0.0   0.0    0.0   0.0    0.0    0.0        0.0   0.0   0.0   \n",
       "3       0.0      0.0   0.0    0.0   0.0    0.0    0.0        0.0   0.0   0.0   \n",
       "4       0.0      0.0   0.0    0.0   0.0    0.0    0.0        0.0   0.0   0.0   \n",
       "\n",
       "   ...  zumanity  zumba  zuni  zupas  zuzana  zuzu  zxkxko  zyrtec  zzaplon  \\\n",
       "0  ...       0.0    0.0   0.0    0.0     0.0   0.0     0.0     0.0      0.0   \n",
       "1  ...       0.0    0.0   0.0    0.0     0.0   0.0     0.0     0.0      0.0   \n",
       "2  ...       0.0    0.0   0.0    0.0     0.0   0.0     0.0     0.0      0.0   \n",
       "3  ...       0.0    0.0   0.0    0.0     0.0   0.0     0.0     0.0      0.0   \n",
       "4  ...       0.0    0.0   0.0    0.0     0.0   0.0     0.0     0.0      0.0   \n",
       "\n",
       "   zzzzzzzzzmy  \n",
       "0          0.0  \n",
       "1          0.0  \n",
       "2          0.0  \n",
       "3          0.0  \n",
       "4          0.0  \n",
       "\n",
       "[5 rows x 34551 columns]"
      ]
     },
     "execution_count": 8,
     "metadata": {},
     "output_type": "execute_result"
    }
   ],
   "source": [
    "# vector representation\n",
    "\n",
    "vect = TfidfVectorizer(tokenizer=tokenize)\n",
    "\n",
    "dtm = vect.fit_transform(yelp['text'])\n",
    "dtm_df = pd.DataFrame(dtm.todense(), columns=vect.get_feature_names())\n",
    "dtm_df.head()"
   ]
  },
  {
   "cell_type": "code",
   "execution_count": 9,
   "metadata": {},
   "outputs": [
    {
     "data": {
      "text/plain": [
       "NearestNeighbors(algorithm='kd_tree', leaf_size=30, metric='minkowski',\n",
       "                 metric_params=None, n_jobs=None, n_neighbors=5, p=2,\n",
       "                 radius=1.0)"
      ]
     },
     "execution_count": 9,
     "metadata": {},
     "output_type": "execute_result"
    }
   ],
   "source": [
    "# import nearest neighbors\n",
    "from sklearn.neighbors import NearestNeighbors\n",
    "\n",
    "# run model\n",
    "\n",
    "nn = NearestNeighbors(n_neighbors=5, algorithm='kd_tree')\n",
    "nn.fit(dtm_df)"
   ]
  },
  {
   "cell_type": "code",
   "execution_count": 10,
   "metadata": {},
   "outputs": [],
   "source": [
    "fake_review = [\"This is the worst restaurant I have ever been to. Who even likes asian fusion? I am not sure I will ever come back here. But the service was good.\"]\n",
    "\n",
    "fake_review_transform = vect.transform(fake_review)"
   ]
  },
  {
   "cell_type": "code",
   "execution_count": 11,
   "metadata": {},
   "outputs": [
    {
     "data": {
      "text/plain": [
       "(array([[1.        , 1.        , 1.15819679, 1.20227059, 1.22170597]]),\n",
       " array([[6311, 6204, 5474, 6099, 1522]]))"
      ]
     },
     "execution_count": 11,
     "metadata": {},
     "output_type": "execute_result"
    }
   ],
   "source": [
    "neighbors = nn.kneighbors(fake_review_transform.todense())\n",
    "neighbors"
   ]
  },
  {
   "cell_type": "code",
   "execution_count": 12,
   "metadata": {},
   "outputs": [
    {
     "data": {
      "text/plain": [
       "'asian fusion at its best it was amazing i wish the menu and or yelp had more pictures to see what the dishes looked like too hard to decide when you dont know the dishes service was great'"
      ]
     },
     "execution_count": 12,
     "metadata": {},
     "output_type": "execute_result"
    }
   ],
   "source": [
    "# look at some of them\n",
    "\n",
    "yelp['text'][5474]"
   ]
  },
  {
   "cell_type": "code",
   "execution_count": 13,
   "metadata": {},
   "outputs": [
    {
     "data": {
      "text/plain": [
       "'it was our first time trying out asian fusion i was delighted with the decoration on the walls the servers was good and really attentive the food was tasty and good portion there was a wide variety of cuisines on the menu so lots of choices we liked it a lot '"
      ]
     },
     "execution_count": 13,
     "metadata": {},
     "output_type": "execute_result"
    }
   ],
   "source": [
    "yelp['text'][6099]"
   ]
  },
  {
   "cell_type": "markdown",
   "metadata": {},
   "source": [
    "### Ok seems like its finding asian fusion from my fake review. Cool!"
   ]
  },
  {
   "cell_type": "markdown",
   "metadata": {},
   "source": [
    "## Part 3: Classification\n",
    "<a id=\"#p3\"></a>\n",
    "Your goal in this section will be to predict `stars` from the review dataset. \n",
    "\n",
    "1. Create a piepline object with a sklearn `CountVectorizer` or `TfidfVector` and any sklearn classifier. Use that pipeline to estimate a model to predict `stars`. Use the Pipeline to predict a star rating for your fake review from Part 2. \n",
    "2. Tune the entire pipeline with a GridSearch"
   ]
  },
  {
   "cell_type": "code",
   "execution_count": 14,
   "metadata": {},
   "outputs": [
    {
     "name": "stdout",
     "output_type": "stream",
     "text": [
      "Fitting 5 folds for each of 8 candidates, totalling 40 fits\n"
     ]
    },
    {
     "name": "stderr",
     "output_type": "stream",
     "text": [
      "[Parallel(n_jobs=4)]: Using backend LokyBackend with 4 concurrent workers.\n",
      "[Parallel(n_jobs=4)]: Done  40 out of  40 | elapsed:   59.6s finished\n"
     ]
    },
    {
     "data": {
      "text/plain": [
       "GridSearchCV(cv=5, error_score=nan,\n",
       "             estimator=Pipeline(memory=None,\n",
       "                                steps=[('vect',\n",
       "                                        TfidfVectorizer(analyzer='word',\n",
       "                                                        binary=False,\n",
       "                                                        decode_error='strict',\n",
       "                                                        dtype=<class 'numpy.float64'>,\n",
       "                                                        encoding='utf-8',\n",
       "                                                        input='content',\n",
       "                                                        lowercase=True,\n",
       "                                                        max_df=1.0,\n",
       "                                                        max_features=None,\n",
       "                                                        min_df=1,\n",
       "                                                        ngram_range=(1, 2),\n",
       "                                                        norm='l2',\n",
       "                                                        preprocessor=None,\n",
       "                                                        smooth_idf=True,\n",
       "                                                        stop_words='english',\n",
       "                                                        strip...\n",
       "                                                               min_samples_leaf=1,\n",
       "                                                               min_samples_split=2,\n",
       "                                                               min_weight_fraction_leaf=0.0,\n",
       "                                                               n_estimators=100,\n",
       "                                                               n_jobs=None,\n",
       "                                                               oob_score=False,\n",
       "                                                               random_state=None,\n",
       "                                                               verbose=0,\n",
       "                                                               warm_start=False))],\n",
       "                                verbose=False),\n",
       "             iid='deprecated', n_jobs=4,\n",
       "             param_grid={'clf__max_depth': (5, 10, 15, 20),\n",
       "                         'vect__max_df': (0.75, 1.0)},\n",
       "             pre_dispatch='2*n_jobs', refit=True, return_train_score=False,\n",
       "             scoring=None, verbose=1)"
      ]
     },
     "execution_count": 14,
     "metadata": {},
     "output_type": "execute_result"
    }
   ],
   "source": [
    "# imports for pipeline\n",
    "\n",
    "from sklearn.pipeline import Pipeline\n",
    "from sklearn.ensemble import RandomForestClassifier\n",
    "from sklearn.model_selection import GridSearchCV\n",
    "from sklearn.feature_extraction.text import TfidfVectorizer\n",
    "\n",
    "# variables\n",
    "\n",
    "vect = TfidfVectorizer(stop_words='english', ngram_range=(1,2))\n",
    "clf = RandomForestClassifier()\n",
    "\n",
    "# pipeline\n",
    "pipe = Pipeline([('vect', vect), ('clf', clf)])\n",
    "\n",
    "# params\n",
    "\n",
    "parameters = {\n",
    "    'vect__max_df': (0.75, 1.0),\n",
    "    'clf__max_depth':(5,10,15,20)\n",
    "}\n",
    "\n",
    "# search and fit\n",
    "\n",
    "grid_search = GridSearchCV(pipe,parameters, cv=5, n_jobs=4, verbose=1)\n",
    "grid_search.fit(yelp['text'], yelp['stars'])"
   ]
  },
  {
   "cell_type": "code",
   "execution_count": 16,
   "metadata": {},
   "outputs": [
    {
     "data": {
      "text/plain": [
       "{'clf__max_depth': 20, 'vect__max_df': 0.75}"
      ]
     },
     "execution_count": 16,
     "metadata": {},
     "output_type": "execute_result"
    }
   ],
   "source": [
    "# I had to use super simple params in order to get this to work, kernel kept crashing!! so frustrating\n",
    "grid_search.best_params_"
   ]
  },
  {
   "cell_type": "code",
   "execution_count": 18,
   "metadata": {},
   "outputs": [],
   "source": [
    "# prediction on fake review\n",
    "\n",
    "pred = grid_search.predict(fake_review)\n",
    "\n",
    "# blanking on how to get prediction out!"
   ]
  },
  {
   "cell_type": "markdown",
   "metadata": {},
   "source": [
    "## Part 4: Topic Modeling\n",
    "\n",
    "Let's find out what those yelp reviews are saying! :D\n",
    "\n",
    "1. Estimate a LDA topic model of the review text\n",
    "    - Keep the `iterations` parameter at or below 5 to reduce run time\n",
    "    - The `workers` parameter should match the number of physical cores on your machine.\n",
    "2. Create 1-2 visualizations of the results\n",
    "    - You can use the most important 3 words of a topic in relevant visualizations. Refer to yesterday's notebook to extract. \n",
    "3. In markdown, write 1-2 paragraphs of analysis on the results of your topic model\n",
    "\n",
    "__*Note*__: You can pass the DataFrame column of text reviews to gensim. You do not have to use a generator."
   ]
  },
  {
   "cell_type": "code",
   "execution_count": 19,
   "metadata": {
    "collapsed": false,
    "inputHidden": false,
    "jupyter": {
     "outputs_hidden": false
    },
    "outputHidden": false
   },
   "outputs": [],
   "source": [
    "from gensim import corpora\n",
    "from gensim.models import LdaMulticore\n",
    "from gensim.corpora import Dictionary"
   ]
  },
  {
   "cell_type": "code",
   "execution_count": 20,
   "metadata": {},
   "outputs": [],
   "source": [
    "# create generator\n",
    "def get_reviews(df, token_col):\n",
    "    assert token_col in df.columns, f\"{token_col} does not exist!\"\n",
    "    \n",
    "    for index, row in df.iterrows():\n",
    "        review_token = row[token_col]\n",
    "        yield review_token"
   ]
  },
  {
   "cell_type": "markdown",
   "metadata": {},
   "source": [
    "Learn the vocubalary of the yelp data:"
   ]
  },
  {
   "cell_type": "code",
   "execution_count": 21,
   "metadata": {},
   "outputs": [],
   "source": [
    "id2word = corpora.Dictionary(get_reviews(yelp, 'tokenized'))"
   ]
  },
  {
   "cell_type": "markdown",
   "metadata": {},
   "source": [
    "Create a bag of words representation of the entire corpus"
   ]
  },
  {
   "cell_type": "code",
   "execution_count": 22,
   "metadata": {
    "collapsed": false,
    "inputHidden": false,
    "jupyter": {
     "outputs_hidden": false
    },
    "outputHidden": false
   },
   "outputs": [],
   "source": [
    "corpus = [id2word.doc2bow(review) for review in get_reviews(yelp, 'tokenized')]"
   ]
  },
  {
   "cell_type": "markdown",
   "metadata": {},
   "source": [
    "Your LDA model should be ready for estimation: "
   ]
  },
  {
   "cell_type": "code",
   "execution_count": 23,
   "metadata": {
    "collapsed": false,
    "inputHidden": false,
    "jupyter": {
     "outputs_hidden": false
    },
    "outputHidden": false
   },
   "outputs": [],
   "source": [
    "lda = LdaMulticore(corpus=corpus,\n",
    "                   id2word=id2word,\n",
    "                   iterations=5,\n",
    "                   workers=4,\n",
    "                   num_topics = 5 # You can change this parameter\n",
    "                  )"
   ]
  },
  {
   "cell_type": "code",
   "execution_count": 25,
   "metadata": {},
   "outputs": [
    {
     "name": "stdout",
     "output_type": "stream",
     "text": [
      "------ Topic 0 ------\n",
      "food like great place good\n",
      "\n",
      "------ Topic 1 ------\n",
      "place service food great good\n",
      "\n",
      "------ Topic 2 ------\n",
      "good place food service time\n",
      "\n",
      "------ Topic 3 ------\n",
      "place good food great service\n",
      "\n",
      "------ Topic 4 ------\n",
      "great good place food like\n",
      "\n"
     ]
    }
   ],
   "source": [
    "import re\n",
    "\n",
    "def print_lda_topics(lda):\n",
    "    words = [re.findall(r'\"([^\"]*)\"',t[1]) for t in lda.print_topics()]\n",
    "    topics = [' '.join(t[0:5]) for t in words]\n",
    "    for id, t in enumerate(topics): \n",
    "        print(f\"------ Topic {id} ------\")\n",
    "        print(t, end=\"\\n\\n\")\n",
    "print_lda_topics(lda)"
   ]
  },
  {
   "cell_type": "markdown",
   "metadata": {},
   "source": [
    "Create 1-2 visualizations of the results"
   ]
  },
  {
   "cell_type": "code",
   "execution_count": 26,
   "metadata": {
    "collapsed": false,
    "inputHidden": false,
    "jupyter": {
     "outputs_hidden": false
    },
    "outputHidden": false
   },
   "outputs": [],
   "source": [
    "import pyLDAvis.gensim\n",
    "\n",
    "pyLDAvis.enable_notebook()"
   ]
  },
  {
   "cell_type": "code",
   "execution_count": 27,
   "metadata": {},
   "outputs": [
    {
     "data": {
      "text/html": [
       "\n",
       "<link rel=\"stylesheet\" type=\"text/css\" href=\"https://cdn.rawgit.com/bmabey/pyLDAvis/files/ldavis.v1.0.0.css\">\n",
       "\n",
       "\n",
       "<div id=\"ldavis_el36871399194792217287192352711\"></div>\n",
       "<script type=\"text/javascript\">\n",
       "\n",
       "var ldavis_el36871399194792217287192352711_data = {\"mdsDat\": {\"x\": [-0.001254797318223396, 0.004679043127239863, 0.0013791818464235722, -0.0003059165383962769, -0.004497511117043763], \"y\": [0.0032415351044984106, 0.0009854075962217163, -0.004465959602065704, 0.0015963033568414963, -0.0013572864554959188], \"topics\": [1, 2, 3, 4, 5], \"cluster\": [1, 1, 1, 1, 1], \"Freq\": [20.62464141845703, 20.368249893188477, 19.946626663208008, 19.654518127441406, 19.405973434448242]}, \"tinfo\": {\"Term\": [\"place\", \"good\", \"service\", \"definitely\", \"staff\", \"best\", \"great\", \"didnt\", \"came\", \"dont\", \"experience\", \"food\", \"friendly\", \"excellent\", \"come\", \"room\", \"told\", \"small\", \"prices\", \"ordered\", \"know\", \"want\", \"recommend\", \"nice\", \"menu\", \"asked\", \"amazing\", \"went\", \"coffee\", \"called\", \"pawn\", \"peopleare\", \"petsmart\", \"injections\", \"commands\", \"daddywent\", \"melinda\", \"bedside\", \"booster\", \"intelligently\", \"splurging\", \"sills\", \"musicit\", \"pimpin\", \"aryon\", \"livermush\", \"dennis\", \"journal\", \"underrated\", \"bookkeeping\", \"cheating\", \"gabe\", \"borders\", \"londres\", \"tomahawk\", \"techniciansthey\", \"cornish\", \"axle\", \"randal\", \"elseoverall\", \"kitsch\", \"coffee\", \"chewy\", \"rescue\", \"needed\", \"typical\", \"know\", \"recommend\", \"word\", \"hell\", \"relax\", \"highly\", \"great\", \"stars\", \"professional\", \"super\", \"case\", \"experience\", \"small\", \"restaurant\", \"think\", \"line\", \"work\", \"customer\", \"minutes\", \"definitely\", \"waiter\", \"fantastic\", \"stop\", \"guys\", \"room\", \"clean\", \"order\", \"mexican\", \"time\", \"like\", \"good\", \"prices\", \"ordered\", \"wait\", \"price\", \"love\", \"menu\", \"place\", \"food\", \"best\", \"going\", \"service\", \"little\", \"friendly\", \"came\", \"went\", \"said\", \"chicken\", \"dont\", \"people\", \"nice\", \"amazing\", \"didnt\", \"breakfastwtf\", \"mistreated\", \"specialit\", \"accounting\", \"oilybetter\", \"superdisappointed\", \"agian\", \"sawasdee\", \"molly\", \"healthyvegan\", \"perm\", \"smokies\", \"groomed\", \"shoppe\", \"dankbbs\", \"sandbar\", \"mmme\", \"everrrrr\", \"chore\", \"brag\", \"maria\", \"pleasantquiet\", \"betterrecommended\", \"pairing\", \"dajuan\", \"producer\", \"tasha\", \"christmasy\", \"grandes\", \"placea\", \"kensington\", \"patient\", \"menudo\", \"fried\", \"beer\", \"nachos\", \"business\", \"best\", \"office\", \"eggs\", \"chili\", \"place\", \"taco\", \"good\", \"questions\", \"friendly\", \"probably\", \"food\", \"appointment\", \"drinks\", \"dont\", \"working\", \"wish\", \"cook\", \"spot\", \"cool\", \"right\", \"wonderful\", \"staff\", \"said\", \"wait\", \"great\", \"order\", \"time\", \"like\", \"service\", \"come\", \"nice\", \"sure\", \"long\", \"delicious\", \"friends\", \"price\", \"told\", \"went\", \"took\", \"little\", \"didnt\", \"recommend\", \"restaurant\", \"people\", \"love\", \"amazing\", \"chicken\", \"ordered\", \"acrobatics\", \"beause\", \"birthdaythank\", \"inspiring\", \"inspections\", \"swedish\", \"chillers\", \"smiledouble\", \"likeoh\", \"donair\", \"dealsusually\", \"sicilian\", \"stubborn\", \"abordable\", \"underwear\", \"gemwholesale\", \"colonic\", \"righttowork\", \"vghvhridd\", \"froide\", \"deltai\", \"northwestawesome\", \"diagnosed\", \"atmospherecourteous\", \"charlie\", \"diana\", \"placeburgers\", \"chaleureux\", \"assez\", \"tires\", \"change\", \"berman\", \"mary\", \"buffalo\", \"rolls\", \"staff\", \"respond\", \"chose\", \"service\", \"didnt\", \"called\", \"pizza\", \"selection\", \"amazing\", \"kids\", \"tire\", \"told\", \"space\", \"visiting\", \"asked\", \"thank\", \"lunch\", \"gone\", \"pretty\", \"want\", \"chocolate\", \"small\", \"dont\", \"sauce\", \"size\", \"great\", \"place\", \"deal\", \"time\", \"drink\", \"food\", \"friendly\", \"love\", \"best\", \"area\", \"nice\", \"good\", \"like\", \"come\", \"chicken\", \"cheese\", \"people\", \"fresh\", \"ordered\", \"delicious\", \"came\", \"restaurant\", \"better\", \"menu\", \"definitely\", \"went\", \"order\", \"wilkes\", \"imcomplete\", \"meilleurs\", \"excellenteverything\", \"saybasic\", \"forand\", \"slection\", \"rancheras\", \"bikes\", \"casualchimis\", \"conchas\", \"deliciousinexpensive\", \"hereoh\", \"heather\", \"lahore\", \"kathleen\", \"fairmont\", \"aveda\", \"figures\", \"pickmeup\", \"texted\", \"serveur\", \"scottsdalefountain\", \"durants\", \"spineless\", \"constamment\", \"reservation\", \"perfume\", \"catalfano\", \"gooddecent\", \"host\", \"brake\", \"wings\", \"asking\", \"mention\", \"hands\", \"road\", \"trendy\", \"mexican\", \"seen\", \"club\", \"definitely\", \"buffet\", \"feel\", \"sunday\", \"shot\", \"restaurants\", \"soup\", \"room\", \"good\", \"ordered\", \"school\", \"little\", \"come\", \"decent\", \"came\", \"flavor\", \"service\", \"time\", \"place\", \"youre\", \"chicken\", \"food\", \"sure\", \"experience\", \"right\", \"going\", \"nice\", \"dont\", \"like\", \"looking\", \"night\", \"better\", \"great\", \"quality\", \"work\", \"went\", \"know\", \"delicious\", \"love\", \"people\", \"didnt\", \"said\", \"staff\", \"best\", \"order\", \"discontinue\", \"fooddefinitely\", \"sole\", \"tumi\", \"roastit\", \"puzzleplayed\", \"engages\", \"eventlove\", \"bombdifinitly\", \"frap\", \"allergen\", \"fridendly\", \"miniatures\", \"outsourced\", \"snail\", \"julio\", \"waterordered\", \"impersonal\", \"christina\", \"declared\", \"boil\", \"waitif\", \"toastcouldnt\", \"finger\", \"ooohhh\", \"ailment\", \"sweeping\", \"amusement\", \"saidcant\", \"grabbagreen\", \"female\", \"wagyu\", \"park\", \"aside\", \"lobster\", \"okay\", \"excellent\", \"usually\", \"exceptional\", \"assured\", \"shop\", \"visited\", \"charged\", \"brother\", \"curry\", \"went\", \"seated\", \"charge\", \"came\", \"vegas\", \"menu\", \"chips\", \"parking\", \"wanted\", \"gone\", \"things\", \"meat\", \"hours\", \"home\", \"like\", \"years\", \"people\", \"disappointed\", \"food\", \"absolutely\", \"hair\", \"better\", \"different\", \"didnt\", \"need\", \"decided\", \"nice\", \"order\", \"youre\", \"away\", \"love\", \"want\", \"salad\", \"great\", \"experience\", \"definitely\", \"time\", \"amazing\", \"going\", \"delicious\", \"ordered\", \"good\", \"place\", \"service\", \"chicken\", \"little\", \"come\", \"fresh\", \"restaurant\", \"dont\", \"know\", \"best\", \"staff\"], \"Freq\": [4379.0, 4217.0, 3269.0, 1335.0, 1439.0, 1684.0, 3954.0, 1499.0, 1396.0, 1787.0, 1177.0, 4477.0, 1258.0, 609.0, 1363.0, 880.0, 907.0, 739.0, 606.0, 1424.0, 1137.0, 967.0, 1087.0, 1622.0, 1138.0, 787.0, 1244.0, 1382.0, 563.0, 590.0, 2.695073366165161, 0.621519148349762, 1.5804591178894043, 1.1482763290405273, 4.300063610076904, 0.5951394438743591, 0.8340405821800232, 3.3995397090911865, 1.11345636844635, 1.0803821086883545, 1.5378868579864502, 0.563953161239624, 1.0775985717773438, 1.0744621753692627, 1.0742980241775513, 1.0730278491973877, 3.236814498901367, 1.7955387830734253, 1.2847976684570312, 1.783945918083191, 1.4865243434906006, 5.46373987197876, 1.4798822402954102, 1.0380563735961914, 1.9650108814239502, 0.5386618971824646, 1.9046783447265625, 1.247318148612976, 0.9755805730819702, 1.0156019926071167, 2.146812915802002, 176.63063049316406, 18.375932693481445, 4.308161735534668, 127.8902587890625, 32.238075256347656, 321.420166015625, 307.7876892089844, 22.67276954650879, 22.96158790588379, 15.750996589660645, 144.09132385253906, 1030.48876953125, 153.5191192626953, 95.39358520507812, 174.1034393310547, 40.3516845703125, 317.4093933105469, 203.0703125, 333.3255615234375, 222.4359893798828, 128.35888671875, 232.8937225341797, 206.3357391357422, 223.7924041748047, 345.62176513671875, 71.7842025756836, 102.31024169921875, 93.43396759033203, 80.26416778564453, 221.05348205566406, 170.75177001953125, 325.2775573730469, 60.09409713745117, 674.930419921875, 683.3961791992188, 855.1752319335938, 154.77801513671875, 324.6781311035156, 218.44110107421875, 201.13157653808594, 343.8389587402344, 266.46051025390625, 833.7294921875, 780.4227294921875, 347.4549865722656, 246.2686004638672, 559.4328002929688, 279.6395568847656, 265.7878112792969, 277.67626953125, 266.3720703125, 237.17242431640625, 248.180908203125, 279.1783447265625, 245.4053192138672, 247.0055389404297, 234.5236358642578, 235.25149536132812, 1.496917724609375, 2.1948647499084473, 0.6325217485427856, 1.1415733098983765, 0.5976624488830566, 1.1272894144058228, 0.5885471105575562, 1.1233264207839966, 1.2963781356811523, 1.109645128250122, 1.524697184562683, 1.287562370300293, 2.5062198638916016, 0.8093037605285645, 1.0829862356185913, 1.3131767511367798, 1.0698390007019043, 0.5594317317008972, 2.205922842025757, 2.750011682510376, 4.519642353057861, 1.0531030893325806, 1.0481972694396973, 4.727677345275879, 0.7727965116500854, 1.4928780794143677, 0.5437933206558228, 1.0319331884384155, 1.746280550956726, 1.2461470365524292, 4.808197498321533, 38.396751403808594, 1.8993871212005615, 141.43548583984375, 137.03099060058594, 23.871923446655273, 132.29441833496094, 480.0787048339844, 84.88825225830078, 59.39065170288086, 30.698930740356445, 1161.2486572265625, 55.49469757080078, 1087.890380859375, 52.92566680908203, 342.6675109863281, 119.39064025878906, 1083.2076416015625, 85.45314025878906, 176.88328552246094, 452.3849792480469, 79.88358306884766, 79.67835998535156, 30.887792587280273, 101.3222427368164, 93.5650863647461, 249.3650665283203, 96.83538818359375, 341.2757263183594, 273.3062744140625, 221.2340087890625, 826.86474609375, 324.12786865234375, 656.1941528320312, 648.07177734375, 656.3600463867188, 307.4147644042969, 355.7183837890625, 209.17820739746094, 168.37269592285156, 248.5919647216797, 140.42897033691406, 191.89271545410156, 207.62481689453125, 287.2474670410156, 197.597900390625, 277.0836181640625, 291.0318908691406, 230.8748321533203, 252.8107147216797, 258.1997985839844, 267.2675476074219, 223.72207641601562, 218.40689086914062, 209.9328155517578, 2.433969736099243, 1.4202889204025269, 1.2535991668701172, 1.4819380044937134, 1.945525884628296, 2.7424232959747314, 2.4544761180877686, 0.5761111974716187, 1.0646400451660156, 2.0165843963623047, 0.5548513531684875, 1.7315515279769897, 2.4567012786865234, 1.9961642026901245, 1.4932000637054443, 0.5424091219902039, 1.0370978116989136, 1.0340996980667114, 0.5374205112457275, 1.0260918140411377, 0.532094419002533, 0.5333630442619324, 4.374190330505371, 1.0137134790420532, 4.56356954574585, 2.3986501693725586, 1.0095552206039429, 1.4349391460418701, 2.290595531463623, 16.8978328704834, 67.31172943115234, 3.728193521499634, 10.549979209899902, 17.395414352416992, 76.56031036376953, 416.15484619140625, 10.621514320373535, 37.345909118652344, 870.6325073242188, 405.1483154296875, 163.28135681152344, 199.7230224609375, 120.48049926757812, 327.433349609375, 98.66826629638672, 21.98818588256836, 237.9420166015625, 61.929351806640625, 35.77912521362305, 203.66204833984375, 90.2624282836914, 176.2337188720703, 56.4378547668457, 245.45521545410156, 240.5447998046875, 80.01050567626953, 182.70513916015625, 405.302490234375, 184.60980224609375, 65.56832885742188, 805.8345947265625, 875.7833862304688, 86.57174682617188, 635.5531005859375, 141.11692810058594, 860.5272216796875, 281.87896728515625, 333.34765625, 359.2953186035156, 165.8566436767578, 335.8151550292969, 739.9951171875, 576.6275634765625, 286.74542236328125, 271.8002014160156, 173.81056213378906, 264.93231201171875, 193.79168701171875, 276.52056884765625, 231.1145782470703, 267.5533752441406, 245.32937622070312, 218.95025634765625, 221.27511596679688, 224.53086853027344, 224.09481811523438, 220.6574249267578, 2.9342541694641113, 1.2159061431884766, 1.6715223789215088, 1.164271593093872, 1.1583844423294067, 1.3828561305999756, 1.2828354835510254, 0.5686916708946228, 8.191802978515625, 1.0657373666763306, 1.0641939640045166, 1.050514578819275, 1.03874671459198, 2.1398165225982666, 1.7501968145370483, 2.169848680496216, 1.0259045362472534, 1.705431342124939, 3.1470248699188232, 1.0027371644973755, 4.55993127822876, 1.0006248950958252, 0.9977781772613525, 2.000548839569092, 0.9893805384635925, 0.517417311668396, 51.12807846069336, 1.869676947593689, 0.9746550917625427, 0.9729195833206177, 22.58729362487793, 6.408919811248779, 58.00395965576172, 42.23258590698242, 43.11185836791992, 40.44029998779297, 29.965242385864258, 11.859820365905762, 60.91722106933594, 61.02113723754883, 33.67393493652344, 342.0907287597656, 61.90159606933594, 163.65797424316406, 50.84361267089844, 22.426618576049805, 85.52190399169922, 116.25012969970703, 220.15737915039062, 937.2644653320312, 340.7454833984375, 40.056400299072266, 319.49908447265625, 322.6597595214844, 92.04478454589844, 323.1238708496094, 116.80573272705078, 699.197265625, 671.6852416992188, 902.5255737304688, 147.79725646972656, 291.0062255859375, 874.671630859375, 207.6619110107422, 264.82867431640625, 227.88145446777344, 241.55874633789062, 344.8775634765625, 374.6590576171875, 613.0594482421875, 155.4539031982422, 196.49392700195312, 229.79833984375, 653.6119384765625, 143.951171875, 186.6388397216797, 264.514892578125, 227.23463439941406, 218.4793701171875, 271.33685302734375, 240.0018310546875, 248.6732635498047, 212.55496215820312, 237.59011840820312, 254.52352905273438, 219.0304718017578, 1.3522284030914307, 1.190290093421936, 3.4326393604278564, 1.131584882736206, 0.586943507194519, 1.0903947353363037, 1.0813026428222656, 1.072186827659607, 0.5532747507095337, 1.4505232572555542, 1.0478475093841553, 1.0330923795700073, 1.0331765413284302, 1.6809566020965576, 2.864185094833374, 1.0184345245361328, 0.5318039059638977, 1.9304118156433105, 6.054640769958496, 3.028373956680298, 2.0651450157165527, 0.5219593644142151, 0.5213058590888977, 7.325140953063965, 0.9903462529182434, 0.5180143713951111, 1.829068660736084, 1.8241541385650635, 0.5144457817077637, 1.6562596559524536, 7.752355098724365, 7.422892093658447, 50.28417205810547, 17.897886276245117, 43.34637451171875, 75.3917007446289, 174.82473754882812, 117.70095825195312, 23.019145965576172, 11.399900436401367, 106.68450927734375, 34.88791275024414, 41.548004150390625, 10.562149047851562, 35.597328186035156, 340.6395568847656, 68.334716796875, 64.70526885986328, 335.8412780761719, 207.822509765625, 276.5374755859375, 63.123680114746094, 91.49688720703125, 152.9591064453125, 54.811256408691406, 130.96788024902344, 134.42477416992188, 99.7965316772461, 177.3854522705078, 681.7947387695312, 149.83349609375, 298.35626220703125, 93.48677062988281, 878.5028686523438, 99.79206085205078, 92.55430603027344, 238.29147338867188, 154.45877075195312, 319.32940673828125, 143.040283203125, 119.42891693115234, 338.79119873046875, 294.92388916015625, 142.4851531982422, 137.2040252685547, 314.11846923828125, 213.6703338623047, 144.39405822753906, 637.597900390625, 239.97503662109375, 264.4459228515625, 514.5285034179688, 249.71444702148438, 221.87599182128906, 227.703369140625, 272.9985046386719, 597.16552734375, 606.249267578125, 483.8350830078125, 247.5299072265625, 254.87835693359375, 252.13328552246094, 187.60540771484375, 230.9805145263672, 275.7547302246094, 215.25341796875, 242.75448608398438, 224.23182678222656], \"Total\": [4379.0, 4217.0, 3269.0, 1335.0, 1439.0, 1684.0, 3954.0, 1499.0, 1396.0, 1787.0, 1177.0, 4477.0, 1258.0, 609.0, 1363.0, 880.0, 907.0, 739.0, 606.0, 1424.0, 1137.0, 967.0, 1087.0, 1622.0, 1138.0, 787.0, 1244.0, 1382.0, 563.0, 590.0, 6.0676960945129395, 1.5770363807678223, 4.149890422821045, 3.0151307582855225, 11.34361743927002, 1.5787267684936523, 2.2189431190490723, 9.102981567382812, 3.015838861465454, 3.011430501937866, 4.303855895996094, 1.579735279083252, 3.0191051959991455, 3.0118520259857178, 3.0132322311401367, 3.01513934135437, 9.108198165893555, 5.09754753112793, 3.6589393615722656, 5.093812465667725, 4.303830146789551, 15.829351425170898, 4.297158241271973, 3.0234954357147217, 5.740619659423828, 1.5799895524978638, 5.593430995941162, 3.6670918464660645, 2.8710880279541016, 3.0189194679260254, 6.383894920349121, 563.49951171875, 56.413597106933594, 12.963375091552734, 420.9433898925781, 102.55546569824219, 1137.309326171875, 1087.78125, 71.93612670898438, 73.34273529052734, 49.85310363769531, 501.6647644042969, 3954.397705078125, 539.9222412109375, 327.54620361328125, 618.790771484375, 133.94097900390625, 1177.12646484375, 739.8745727539062, 1256.061279296875, 822.8458862304688, 459.3797607421875, 868.332275390625, 767.0386962890625, 836.7671508789062, 1335.0889892578125, 252.65737915039062, 371.542236328125, 337.0773620605469, 288.055908203125, 880.872802734375, 665.1871337890625, 1384.01708984375, 212.0065155029297, 3152.891357421875, 3202.94970703125, 4217.49072265625, 606.7915649414062, 1424.87548828125, 903.9892578125, 822.7864379882812, 1529.909423828125, 1138.048095703125, 4379.5361328125, 4477.33203125, 1684.1070556640625, 1073.8280029296875, 3269.45751953125, 1340.36376953125, 1258.568115234375, 1396.9892578125, 1382.8687744140625, 1133.6678466796875, 1276.9241943359375, 1787.2796630859375, 1306.8955078125, 1622.207763671875, 1244.9476318359375, 1499.434326171875, 3.0230813026428223, 5.110768795013428, 1.5836882591247559, 3.021705389022827, 1.5834171772003174, 3.02233624458313, 1.5846891403198242, 3.0278260707855225, 3.5164551734924316, 3.028256416320801, 4.1644134521484375, 3.523148536682129, 6.885571479797363, 2.231867790222168, 3.0166683197021484, 3.672001838684082, 3.0228776931762695, 1.5808236598968506, 6.253870487213135, 7.8405022621154785, 12.982515335083008, 3.0298399925231934, 3.0188770294189453, 13.635826110839844, 2.2309937477111816, 4.313199043273926, 1.584418773651123, 3.021939277648926, 5.121501445770264, 3.667839527130127, 14.290441513061523, 119.71617126464844, 5.606417179107666, 458.8511657714844, 449.0733337402344, 75.09327697753906, 439.2037048339844, 1684.1070556640625, 280.5447998046875, 194.4189453125, 98.94352722167969, 4379.5361328125, 183.66104125976562, 4217.49072265625, 176.14935302734375, 1258.568115234375, 425.60675048828125, 4477.33203125, 302.8631591796875, 657.4507446289062, 1787.2796630859375, 282.70013427734375, 283.8705139160156, 103.27753448486328, 372.2532958984375, 344.3519592285156, 1000.9641723632812, 361.1665954589844, 1439.0418701171875, 1133.6678466796875, 903.9892578125, 3954.397705078125, 1384.01708984375, 3152.891357421875, 3202.94970703125, 3269.45751953125, 1363.4371337890625, 1622.207763671875, 890.5889892578125, 688.5049438476562, 1112.702880859375, 560.9861450195312, 822.7864379882812, 907.6976318359375, 1382.8687744140625, 864.1298828125, 1340.36376953125, 1499.434326171875, 1087.78125, 1256.061279296875, 1306.8955078125, 1529.909423828125, 1244.9476318359375, 1276.9241943359375, 1424.87548828125, 4.967887878417969, 3.025799512863159, 3.023535966873169, 3.671881914138794, 4.967733860015869, 7.045363903045654, 6.750583648681641, 1.5861250162124634, 3.029674768447876, 5.757431507110596, 1.5859556198120117, 4.961853504180908, 7.055461883544922, 5.761008262634277, 4.31860876083374, 1.585742712020874, 3.0333964824676514, 3.0272345542907715, 1.5834839344024658, 3.0262036323547363, 1.579733967781067, 1.5854897499084473, 13.014488220214844, 3.0200984477996826, 13.650532722473145, 7.1934075355529785, 3.0290729999542236, 4.309074878692627, 6.891457557678223, 51.14500427246094, 216.2503662109375, 11.366511344909668, 32.978702545166016, 54.96955108642578, 250.3957977294922, 1439.0418701171875, 33.44725799560547, 122.74024963378906, 3269.45751953125, 1499.434326171875, 590.6522827148438, 731.3961181640625, 434.3242492675781, 1244.9476318359375, 355.5846862792969, 73.28351593017578, 907.6976318359375, 218.48577880859375, 122.54716491699219, 787.3916015625, 332.8391418457031, 690.9382934570312, 203.147705078125, 987.3443603515625, 967.7515869140625, 296.5554504394531, 739.8745727539062, 1787.2796630859375, 749.19189453125, 240.31402587890625, 3954.397705078125, 4379.5361328125, 328.1544189453125, 3152.891357421875, 570.9851684570312, 4477.33203125, 1258.568115234375, 1529.909423828125, 1684.1070556640625, 690.6491088867188, 1622.207763671875, 4217.49072265625, 3202.94970703125, 1363.4371337890625, 1276.9241943359375, 748.6011962890625, 1306.8955078125, 866.3543701171875, 1424.87548828125, 1112.702880859375, 1396.9892578125, 1256.061279296875, 1067.062744140625, 1138.048095703125, 1335.0889892578125, 1382.8687744140625, 1384.01708984375, 7.20789098739624, 3.0300209522247314, 4.319658279418945, 3.0340960025787354, 3.02864146232605, 3.6783089637756348, 3.533094882965088, 1.5879080295562744, 23.009517669677734, 3.0299761295318604, 3.0293688774108887, 3.0178098678588867, 3.030137538909912, 6.258947849273682, 5.120079040527344, 6.405526161193848, 3.0325379371643066, 5.111844062805176, 9.499968528747559, 3.030853748321533, 13.815266609191895, 3.032367467880249, 3.0286173820495605, 6.102293491363525, 3.0343968868255615, 1.5887119770050049, 157.33489990234375, 5.768890857696533, 3.0291221141815186, 3.025827407836914, 71.85554504394531, 20.22705078125, 187.40438842773438, 139.23260498046875, 142.7142791748047, 136.50201416015625, 100.35845184326172, 38.60734558105469, 212.0065155029297, 216.1074676513672, 116.23832702636719, 1335.0889892578125, 223.0883331298828, 628.8212890625, 182.27137756347656, 76.81523132324219, 319.099609375, 442.43341064453125, 880.872802734375, 4217.49072265625, 1424.87548828125, 142.735595703125, 1340.36376953125, 1363.4371337890625, 350.5683898925781, 1396.9892578125, 457.5047302246094, 3269.45751953125, 3152.891357421875, 4379.5361328125, 598.7598266601562, 1276.9241943359375, 4477.33203125, 890.5889892578125, 1177.12646484375, 1000.9641723632812, 1073.8280029296875, 1622.207763671875, 1787.2796630859375, 3202.94970703125, 649.225341796875, 879.4593505859375, 1067.062744140625, 3954.397705078125, 614.302490234375, 868.332275390625, 1382.8687744140625, 1137.309326171875, 1112.702880859375, 1529.909423828125, 1306.8955078125, 1499.434326171875, 1133.6678466796875, 1439.0418701171875, 1684.1070556640625, 1384.01708984375, 3.042603015899658, 3.0418479442596436, 9.158958435058594, 3.041712522506714, 1.5912460088729858, 3.0366883277893066, 3.035926342010498, 3.0410213470458984, 1.5893853902816772, 4.184037685394287, 3.03718900680542, 3.0332398414611816, 3.0353217124938965, 4.97300910949707, 8.5239839553833, 3.0353260040283203, 1.5903997421264648, 5.780712127685547, 18.16855812072754, 9.162036895751953, 6.274338722229004, 1.5890727043151855, 1.5908799171447754, 22.385299682617188, 3.0326554775238037, 1.5896942615509033, 5.62526798248291, 5.62754487991333, 1.5899569988250732, 5.125080108642578, 24.023948669433594, 23.388975143432617, 162.88693237304688, 56.93244171142578, 142.7606964111328, 251.50531005859375, 609.3798828125, 411.8751220703125, 76.72346496582031, 37.226951599121094, 386.4810485839844, 119.53948974609375, 146.15435791015625, 34.65636444091797, 125.0937271118164, 1382.8687744140625, 250.57635498046875, 237.20474243164062, 1396.9892578125, 836.1217041015625, 1138.048095703125, 233.07913208007812, 347.53533935546875, 608.3995361328125, 203.147705078125, 519.7056274414062, 535.3494873046875, 388.2239685058594, 728.244873046875, 3202.94970703125, 610.963623046875, 1306.8955078125, 365.6278076171875, 4477.33203125, 393.92236328125, 364.99688720703125, 1067.062744140625, 653.6620483398438, 1499.434326171875, 599.4456176757812, 488.538818359375, 1622.207763671875, 1384.01708984375, 598.7598266601562, 573.780029296875, 1529.909423828125, 967.7515869140625, 609.7251586914062, 3954.397705078125, 1177.12646484375, 1335.0889892578125, 3152.891357421875, 1244.9476318359375, 1073.8280029296875, 1112.702880859375, 1424.87548828125, 4217.49072265625, 4379.5361328125, 3269.45751953125, 1276.9241943359375, 1340.36376953125, 1363.4371337890625, 866.3543701171875, 1256.061279296875, 1787.2796630859375, 1137.309326171875, 1684.1070556640625, 1439.0418701171875], \"Category\": [\"Default\", \"Default\", \"Default\", \"Default\", \"Default\", \"Default\", \"Default\", \"Default\", \"Default\", \"Default\", \"Default\", \"Default\", \"Default\", \"Default\", \"Default\", \"Default\", \"Default\", \"Default\", \"Default\", \"Default\", \"Default\", \"Default\", \"Default\", \"Default\", \"Default\", \"Default\", \"Default\", \"Default\", \"Default\", \"Default\", \"Topic1\", \"Topic1\", \"Topic1\", \"Topic1\", \"Topic1\", \"Topic1\", \"Topic1\", \"Topic1\", \"Topic1\", \"Topic1\", \"Topic1\", \"Topic1\", \"Topic1\", \"Topic1\", \"Topic1\", \"Topic1\", \"Topic1\", \"Topic1\", \"Topic1\", \"Topic1\", \"Topic1\", \"Topic1\", \"Topic1\", \"Topic1\", \"Topic1\", \"Topic1\", \"Topic1\", \"Topic1\", \"Topic1\", \"Topic1\", \"Topic1\", \"Topic1\", \"Topic1\", \"Topic1\", \"Topic1\", \"Topic1\", \"Topic1\", \"Topic1\", \"Topic1\", \"Topic1\", \"Topic1\", \"Topic1\", \"Topic1\", \"Topic1\", \"Topic1\", \"Topic1\", \"Topic1\", \"Topic1\", \"Topic1\", \"Topic1\", \"Topic1\", \"Topic1\", \"Topic1\", \"Topic1\", \"Topic1\", \"Topic1\", \"Topic1\", \"Topic1\", \"Topic1\", \"Topic1\", \"Topic1\", \"Topic1\", \"Topic1\", \"Topic1\", \"Topic1\", \"Topic1\", \"Topic1\", \"Topic1\", \"Topic1\", \"Topic1\", \"Topic1\", \"Topic1\", \"Topic1\", \"Topic1\", \"Topic1\", \"Topic1\", \"Topic1\", \"Topic1\", \"Topic1\", \"Topic1\", \"Topic1\", \"Topic1\", \"Topic1\", \"Topic1\", \"Topic1\", \"Topic1\", \"Topic1\", \"Topic1\", \"Topic1\", \"Topic2\", \"Topic2\", \"Topic2\", \"Topic2\", \"Topic2\", \"Topic2\", \"Topic2\", \"Topic2\", \"Topic2\", \"Topic2\", \"Topic2\", \"Topic2\", \"Topic2\", \"Topic2\", \"Topic2\", \"Topic2\", \"Topic2\", \"Topic2\", \"Topic2\", \"Topic2\", \"Topic2\", \"Topic2\", \"Topic2\", \"Topic2\", \"Topic2\", \"Topic2\", \"Topic2\", \"Topic2\", \"Topic2\", \"Topic2\", \"Topic2\", \"Topic2\", \"Topic2\", \"Topic2\", \"Topic2\", \"Topic2\", \"Topic2\", \"Topic2\", \"Topic2\", \"Topic2\", \"Topic2\", \"Topic2\", \"Topic2\", \"Topic2\", \"Topic2\", \"Topic2\", \"Topic2\", \"Topic2\", \"Topic2\", \"Topic2\", \"Topic2\", \"Topic2\", \"Topic2\", \"Topic2\", \"Topic2\", \"Topic2\", \"Topic2\", \"Topic2\", \"Topic2\", \"Topic2\", \"Topic2\", \"Topic2\", \"Topic2\", \"Topic2\", \"Topic2\", \"Topic2\", \"Topic2\", \"Topic2\", \"Topic2\", \"Topic2\", \"Topic2\", \"Topic2\", \"Topic2\", \"Topic2\", \"Topic2\", \"Topic2\", \"Topic2\", \"Topic2\", \"Topic2\", \"Topic2\", \"Topic2\", \"Topic2\", \"Topic2\", \"Topic2\", \"Topic2\", \"Topic3\", \"Topic3\", \"Topic3\", \"Topic3\", \"Topic3\", \"Topic3\", \"Topic3\", \"Topic3\", \"Topic3\", \"Topic3\", \"Topic3\", \"Topic3\", \"Topic3\", \"Topic3\", \"Topic3\", \"Topic3\", \"Topic3\", \"Topic3\", \"Topic3\", \"Topic3\", \"Topic3\", \"Topic3\", \"Topic3\", \"Topic3\", \"Topic3\", \"Topic3\", \"Topic3\", \"Topic3\", \"Topic3\", \"Topic3\", \"Topic3\", \"Topic3\", \"Topic3\", \"Topic3\", \"Topic3\", \"Topic3\", \"Topic3\", \"Topic3\", \"Topic3\", \"Topic3\", \"Topic3\", \"Topic3\", \"Topic3\", \"Topic3\", \"Topic3\", \"Topic3\", \"Topic3\", \"Topic3\", \"Topic3\", \"Topic3\", \"Topic3\", \"Topic3\", \"Topic3\", \"Topic3\", \"Topic3\", \"Topic3\", \"Topic3\", \"Topic3\", \"Topic3\", \"Topic3\", \"Topic3\", \"Topic3\", \"Topic3\", \"Topic3\", \"Topic3\", \"Topic3\", \"Topic3\", \"Topic3\", \"Topic3\", \"Topic3\", \"Topic3\", \"Topic3\", \"Topic3\", \"Topic3\", \"Topic3\", \"Topic3\", \"Topic3\", \"Topic3\", \"Topic3\", \"Topic3\", \"Topic3\", \"Topic3\", \"Topic3\", \"Topic3\", \"Topic3\", \"Topic3\", \"Topic3\", \"Topic4\", \"Topic4\", \"Topic4\", \"Topic4\", \"Topic4\", \"Topic4\", \"Topic4\", \"Topic4\", \"Topic4\", \"Topic4\", \"Topic4\", \"Topic4\", \"Topic4\", \"Topic4\", \"Topic4\", \"Topic4\", \"Topic4\", \"Topic4\", \"Topic4\", \"Topic4\", \"Topic4\", \"Topic4\", \"Topic4\", \"Topic4\", \"Topic4\", \"Topic4\", \"Topic4\", \"Topic4\", \"Topic4\", \"Topic4\", \"Topic4\", \"Topic4\", \"Topic4\", \"Topic4\", \"Topic4\", \"Topic4\", \"Topic4\", \"Topic4\", \"Topic4\", \"Topic4\", \"Topic4\", \"Topic4\", \"Topic4\", \"Topic4\", \"Topic4\", \"Topic4\", \"Topic4\", \"Topic4\", \"Topic4\", \"Topic4\", \"Topic4\", \"Topic4\", \"Topic4\", \"Topic4\", \"Topic4\", \"Topic4\", \"Topic4\", \"Topic4\", \"Topic4\", \"Topic4\", \"Topic4\", \"Topic4\", \"Topic4\", \"Topic4\", \"Topic4\", \"Topic4\", \"Topic4\", \"Topic4\", \"Topic4\", \"Topic4\", \"Topic4\", \"Topic4\", \"Topic4\", \"Topic4\", \"Topic4\", \"Topic4\", \"Topic4\", \"Topic4\", \"Topic4\", \"Topic4\", \"Topic4\", \"Topic4\", \"Topic4\", \"Topic4\", \"Topic4\", \"Topic4\", \"Topic5\", \"Topic5\", \"Topic5\", \"Topic5\", \"Topic5\", \"Topic5\", \"Topic5\", \"Topic5\", \"Topic5\", \"Topic5\", \"Topic5\", \"Topic5\", \"Topic5\", \"Topic5\", \"Topic5\", \"Topic5\", \"Topic5\", \"Topic5\", \"Topic5\", \"Topic5\", \"Topic5\", \"Topic5\", \"Topic5\", \"Topic5\", \"Topic5\", \"Topic5\", \"Topic5\", \"Topic5\", \"Topic5\", \"Topic5\", \"Topic5\", \"Topic5\", \"Topic5\", \"Topic5\", \"Topic5\", \"Topic5\", \"Topic5\", \"Topic5\", \"Topic5\", \"Topic5\", \"Topic5\", \"Topic5\", \"Topic5\", \"Topic5\", \"Topic5\", \"Topic5\", \"Topic5\", \"Topic5\", \"Topic5\", \"Topic5\", \"Topic5\", \"Topic5\", \"Topic5\", \"Topic5\", \"Topic5\", \"Topic5\", \"Topic5\", \"Topic5\", \"Topic5\", \"Topic5\", \"Topic5\", \"Topic5\", \"Topic5\", \"Topic5\", \"Topic5\", \"Topic5\", \"Topic5\", \"Topic5\", \"Topic5\", \"Topic5\", \"Topic5\", \"Topic5\", \"Topic5\", \"Topic5\", \"Topic5\", \"Topic5\", \"Topic5\", \"Topic5\", \"Topic5\", \"Topic5\", \"Topic5\", \"Topic5\", \"Topic5\", \"Topic5\", \"Topic5\", \"Topic5\", \"Topic5\", \"Topic5\", \"Topic5\", \"Topic5\", \"Topic5\", \"Topic5\", \"Topic5\", \"Topic5\", \"Topic5\", \"Topic5\", \"Topic5\", \"Topic5\"], \"logprob\": [30.0, 29.0, 28.0, 27.0, 26.0, 25.0, 24.0, 23.0, 22.0, 21.0, 20.0, 19.0, 18.0, 17.0, 16.0, 15.0, 14.0, 13.0, 12.0, 11.0, 10.0, 9.0, 8.0, 7.0, 6.0, 5.0, 4.0, 3.0, 2.0, 1.0, -10.42770004272461, -11.894700050354004, -10.961400032043457, -11.280900001525879, -9.96049976348877, -11.93809986114502, -11.600600242614746, -10.195500373840332, -11.311699867248535, -11.34179973602295, -10.988699913024902, -11.991900444030762, -11.344400405883789, -11.347299575805664, -11.34749984741211, -11.348600387573242, -10.244500160217285, -10.833800315856934, -11.168499946594238, -10.840299606323242, -11.022700309753418, -9.720999717712402, -11.027199745178223, -11.381799697875977, -10.743599891662598, -12.037799835205078, -10.774800300598145, -11.198100090026855, -11.443900108337402, -11.40369987487793, -10.655099868774414, -6.245100021362305, -8.508099555969238, -9.958600044250488, -6.567999839782715, -7.946000099182129, -5.646399974822998, -5.689700126647949, -8.29800033569336, -8.285300254821777, -8.662199974060059, -6.448699951171875, -4.481299877166748, -6.385300159454346, -6.861100196838379, -6.259500026702881, -7.721499919891357, -5.658899784088135, -6.105599880218506, -5.610000133514404, -6.014500141143799, -6.564300060272217, -5.968599796295166, -6.089600086212158, -6.008399963378906, -5.573800086975098, -7.145500183105469, -6.791100025177002, -6.881899833679199, -7.03380012512207, -6.020699977874756, -6.278900146484375, -5.634500026702881, -7.323200225830078, -4.9045000076293945, -4.892099857330322, -4.667799949645996, -6.377099990844727, -5.636300086975098, -6.032599925994873, -6.115200042724609, -5.578999996185303, -5.833899974822998, -4.69320011138916, -4.759300231933594, -5.56850004196167, -5.912700176239014, -5.092199802398682, -5.785600185394287, -5.836400032043457, -5.792699813842773, -5.834199905395508, -5.950300216674805, -5.90500020980835, -5.787300109863281, -5.916200160980225, -5.9096999168396, -5.961599826812744, -5.958499908447266, -11.003199577331543, -10.620499610900879, -11.864700317382812, -11.274200439453125, -11.92140007019043, -11.286800384521484, -11.936699867248535, -11.290300369262695, -11.147100448608398, -11.302599906921387, -10.984800338745117, -11.153900146484375, -10.487799644470215, -11.618200302124023, -11.326899528503418, -11.134200096130371, -11.339099884033203, -11.987500190734863, -10.615500450134277, -10.395000457763672, -9.898200035095215, -11.354900360107422, -11.359600067138672, -9.85319995880127, -11.664400100708008, -11.005900382995605, -12.015800476074219, -11.375200271606445, -10.849100112915039, -11.186599731445312, -9.836299896240234, -7.758699893951416, -10.76509952545166, -6.454800128936768, -6.486400127410889, -8.23390007019043, -6.521599769592285, -5.232699871063232, -6.9653000831604, -7.322500228881836, -7.982399940490723, -4.349400043487549, -7.3902997970581055, -4.414599895477295, -7.437699794769287, -5.569900035858154, -6.624199867248535, -4.418900012969971, -6.958700180053711, -6.231100082397461, -5.292099952697754, -7.026100158691406, -7.028600215911865, -7.97629976272583, -6.788300037384033, -6.868000030517578, -5.887700080871582, -6.833600044250488, -5.57390022277832, -5.796000003814697, -6.007400035858154, -4.689000129699707, -5.625500202178955, -4.920199871063232, -4.932600021362305, -4.919899940490723, -5.678400039672852, -5.53249979019165, -6.063399791717529, -6.280399799346924, -5.8907999992370605, -6.461900234222412, -6.149700164794922, -6.070899963378906, -5.746300220489502, -6.1203999519348145, -5.782299995422363, -5.7332000732421875, -5.964700222015381, -5.874000072479248, -5.85290002822876, -5.818399906158447, -5.996200084686279, -6.020299911499023, -6.059800148010254, -10.496199607849121, -11.034799575805664, -11.159700393676758, -10.992400169372559, -10.720199584960938, -10.376899719238281, -10.487799644470215, -11.937199592590332, -11.323100090026855, -10.684300422668457, -11.974800109863281, -10.836700439453125, -10.486900329589844, -10.694499969482422, -10.984800338745117, -11.997400283813477, -11.349300384521484, -11.35219955444336, -12.006699562072754, -11.359999656677246, -12.016599655151367, -12.014300346374512, -9.90999984741211, -11.372099876403809, -9.867600440979004, -10.5108003616333, -11.376199722290039, -11.0246000289917, -10.556900024414062, -8.558500289916992, -7.176400184631348, -10.06980037689209, -9.029600143432617, -8.529500007629395, -7.047599792480469, -5.354599952697754, -9.02280044555664, -7.765500068664551, -4.616499900817871, -5.381499767303467, -6.290200233459473, -6.088799953460693, -6.594200134277344, -5.594399929046631, -6.793900012969971, -8.29520034790039, -5.913700103759766, -7.259699821472168, -7.808300018310547, -6.069200038909912, -6.882999897003174, -6.213900089263916, -7.35260009765625, -5.882599830627441, -5.9028000831604, -7.003499984741211, -6.177800178527832, -5.381100177764893, -6.167500019073486, -7.202600002288818, -4.69379997253418, -4.610599994659424, -6.924699783325195, -4.93120002746582, -6.436100006103516, -4.628200054168701, -5.744200229644775, -5.576499938964844, -5.5015997886657715, -6.274600028991699, -5.5690999031066895, -4.779099941253662, -5.028500080108643, -5.727099895477295, -5.780600070953369, -6.227700233459473, -5.80620002746582, -6.118899822235107, -5.763400077819824, -5.942800045013428, -5.79640007019043, -5.8831000328063965, -5.9969000816345215, -5.986299991607666, -5.971700191497803, -5.973599910736084, -5.989099979400635, -10.294500350952148, -11.17549991607666, -10.857199668884277, -11.218899726867676, -11.223899841308594, -11.046799659729004, -11.121899604797363, -11.935400009155273, -9.267800331115723, -11.307299613952637, -11.308699607849121, -11.321700096130371, -11.332900047302246, -10.610199928283691, -10.811200141906738, -10.59630012512207, -11.345399856567383, -10.8371000289917, -10.224499702453613, -11.368200302124023, -9.853599548339844, -11.37030029296875, -11.373200416564941, -10.677499771118164, -11.381600379943848, -12.029899597167969, -7.436600208282471, -10.745200157165527, -11.396599769592285, -11.39840030670166, -8.253600120544434, -9.513299942016602, -7.310400009155273, -7.627799987792969, -7.6072001457214355, -7.67110013961792, -7.970900058746338, -8.89780044555664, -7.26140022277832, -7.259699821472168, -7.8541998863220215, -5.535900115966797, -7.2453999519348145, -6.273200035095215, -7.442200183868408, -8.260700225830078, -6.9222002029418945, -6.615200042724609, -5.976600170135498, -4.5279998779296875, -5.53980016708374, -7.680699825286865, -5.6041998863220215, -5.594399929046631, -6.848700046539307, -5.592899799346924, -6.610400199890137, -4.821000099182129, -4.861199855804443, -4.565800189971924, -6.375100135803223, -5.6975998878479, -4.597099781036377, -6.034999847412109, -5.791900157928467, -5.9421000480651855, -5.883800029754639, -5.5278000831604, -5.444900035858154, -4.952499866485596, -6.3246002197265625, -6.0903000831604, -5.933800220489502, -4.888400077819824, -6.401500225067139, -6.1417999267578125, -5.793099880218506, -5.945000171661377, -5.984300136566162, -5.767600059509277, -5.8902997970581055, -5.854800224304199, -6.0117998123168945, -5.900400161743164, -5.831600189208984, -5.9816999435424805, -11.056500434875488, -11.184000015258789, -10.124899864196777, -11.234600067138672, -11.89109992980957, -11.271699905395508, -11.280099868774414, -11.28849983215332, -11.95009994506836, -10.986300468444824, -11.31149959564209, -11.325699806213379, -11.325599670410156, -10.838899612426758, -10.305899620056152, -11.34000015258789, -11.989700317382812, -10.700499534606934, -9.55739974975586, -10.250200271606445, -10.633000373840332, -12.008399963378906, -12.009599685668945, -9.366900444030762, -11.367899894714355, -12.015999794006348, -10.754400253295898, -10.757100105285645, -12.022899627685547, -10.853699684143066, -9.310199737548828, -9.353699684143066, -7.440499782562256, -8.47350025177002, -7.589000225067139, -7.0355000495910645, -6.194399833679199, -6.590099811553955, -8.22189998626709, -8.924599647521973, -6.688399791717529, -7.806099891662598, -7.631400108337402, -9.00100040435791, -7.785999774932861, -5.527400016784668, -7.133800029754639, -7.188399791717529, -5.541600227355957, -6.021500110626221, -5.735899925231934, -7.213099956512451, -6.841899871826172, -6.328100204467773, -7.354300022125244, -6.48330020904541, -6.457200050354004, -6.755099773406982, -6.179900169372559, -4.833499908447266, -6.348700046539307, -5.659900188446045, -6.820400238037109, -4.579999923706055, -6.755099773406982, -6.830399990081787, -5.884699821472168, -6.318299770355225, -5.5920000076293945, -6.395100116729736, -6.575500011444092, -5.532800197601318, -5.671500205993652, -6.39900016784668, -6.436800003051758, -5.608500003814697, -5.993800163269043, -6.385700225830078, -4.9004998207092285, -5.877699851989746, -5.780600070953369, -5.114999771118164, -5.837900161743164, -5.956099987030029, -5.930200099945068, -5.748799800872803, -4.966000080108643, -4.950900077819824, -5.176499843597412, -5.846700191497803, -5.817399978637695, -5.8282999992370605, -6.123899936676025, -5.915900230407715, -5.738699913024902, -5.986400127410889, -5.866199970245361, -5.945499897003174], \"loglift\": [30.0, 29.0, 28.0, 27.0, 26.0, 25.0, 24.0, 23.0, 22.0, 21.0, 20.0, 19.0, 18.0, 17.0, 16.0, 15.0, 14.0, 13.0, 12.0, 11.0, 10.0, 9.0, 8.0, 7.0, 6.0, 5.0, 4.0, 3.0, 2.0, 1.0, 0.7670999765396118, 0.6474999785423279, 0.6133000254631042, 0.6133000254631042, 0.6086999773979187, 0.6031000018119812, 0.6001999974250793, 0.5936999917030334, 0.5823000073432922, 0.553600013256073, 0.5496000051498413, 0.5486000180244446, 0.5485000014305115, 0.5479000210762024, 0.5472999811172485, 0.5454999804496765, 0.5440999865531921, 0.5351999998092651, 0.5321000218391418, 0.5295000076293945, 0.5156000256538391, 0.5149999856948853, 0.5127000212669373, 0.5095999836921692, 0.506600022315979, 0.5026000142097473, 0.5013999938964844, 0.5002999901771545, 0.4993000030517578, 0.489300012588501, 0.48890000581741333, 0.4185999929904938, 0.4569999873638153, 0.4771000146865845, 0.3874000012874603, 0.4214000105857849, 0.3149999976158142, 0.31619998812675476, 0.42410001158714294, 0.4174000024795532, 0.42649999260902405, 0.3312000036239624, 0.23389999568462372, 0.32109999656677246, 0.3450999855995178, 0.31060001254081726, 0.3788999915122986, 0.2680000066757202, 0.2858000099658966, 0.25209999084472656, 0.27059999108314514, 0.303600013256073, 0.26269999146461487, 0.26570001244544983, 0.2599000036716461, 0.2273000031709671, 0.32030001282691956, 0.289000004529953, 0.2955999970436096, 0.30090001225471497, 0.19619999825954437, 0.21879999339580536, 0.1306000053882599, 0.3179999887943268, 0.03720000013709068, 0.033900000154972076, -0.017000000923871994, 0.21250000596046448, 0.09969999641180038, 0.15839999914169312, 0.16990000009536743, 0.08590000122785568, 0.12680000066757202, -0.08009999990463257, -0.16830000281333923, 0.0003000000142492354, 0.10610000044107437, -0.1868000030517578, 0.011500000022351742, 0.02370000071823597, -0.03689999878406525, -0.06830000132322311, 0.014299999922513962, -0.05939999967813492, -0.27790001034736633, -0.09380000084638596, -0.3034000098705292, -0.09059999883174896, -0.273499995470047, 0.8883000016212463, 0.7459999918937683, 0.6733999848365784, 0.6177999973297119, 0.6169000267982483, 0.6050000190734863, 0.6007000207901001, 0.5996000170707703, 0.5932999849319458, 0.5871999859809875, 0.5863999724388123, 0.5845999717712402, 0.5805000066757202, 0.5767999887466431, 0.5667999982833862, 0.5629000067710876, 0.5525000095367432, 0.5523999929428101, 0.5490999817848206, 0.5435000061988831, 0.5360000133514404, 0.5343999862670898, 0.5333999991416931, 0.5318999886512756, 0.531000018119812, 0.5302000045776367, 0.5217999815940857, 0.516700029373169, 0.5152000188827515, 0.5116000175476074, 0.5019000172615051, 0.45399999618530273, 0.5088000297546387, 0.41429999470710754, 0.4041999876499176, 0.44519999623298645, 0.3912999927997589, 0.3361999988555908, 0.39579999446868896, 0.40529999136924744, 0.42089998722076416, 0.263700008392334, 0.3944000005722046, 0.2362000048160553, 0.388700008392334, 0.29019999504089355, 0.32010000944137573, 0.1720999926328659, 0.32589998841285706, 0.2782999873161316, 0.21729999780654907, 0.32739999890327454, 0.3206999897956848, 0.3840999901294708, 0.289900004863739, 0.2881999909877777, 0.2013999968767166, 0.27489998936653137, 0.15219999849796295, 0.16859999299049377, 0.18359999358654022, 0.02630000002682209, 0.1395999938249588, 0.02160000056028366, -0.006599999964237213, -0.014499999582767487, 0.10159999877214432, 0.0737999975681305, 0.14249999821186066, 0.18289999663829803, 0.0925000011920929, 0.2062000036239624, 0.13539999723434448, 0.11599999666213989, 0.019600000232458115, 0.11569999903440475, 0.014800000004470348, -0.04820000007748604, 0.041200000792741776, -0.011900000274181366, -0.030500000342726707, -0.1535000056028366, -0.12530000507831573, -0.17470000684261322, -0.3239000141620636, 0.8985999822616577, 0.8557999730110168, 0.7317000031471252, 0.704800009727478, 0.6747000217437744, 0.6686000227928162, 0.6003999710083008, 0.599399983882904, 0.5662999749183655, 0.5630000233650208, 0.5619000196456909, 0.5593000054359436, 0.5570999979972839, 0.5522000193595886, 0.5501000285148621, 0.5393000245094299, 0.5389000177383423, 0.5379999876022339, 0.531499981880188, 0.5306000113487244, 0.5238999724388123, 0.5227000117301941, 0.5217999815940857, 0.5203999876976013, 0.5163999795913696, 0.5138999819755554, 0.5134000182151794, 0.512499988079071, 0.5105999708175659, 0.5045999884605408, 0.4449999928474426, 0.4973999857902527, 0.4724000096321106, 0.46149998903274536, 0.4271000027656555, 0.37139999866485596, 0.4650000035762787, 0.4223000109195709, 0.289000004529953, 0.3034999966621399, 0.3264000117778778, 0.3140999972820282, 0.329800009727478, 0.27649998664855957, 0.33009999990463257, 0.4083000123500824, 0.27320000529289246, 0.3513999879360199, 0.38100001215934753, 0.259799987077713, 0.30720001459121704, 0.2459000051021576, 0.3312999904155731, 0.22020000219345093, 0.2199999988079071, 0.3019999861717224, 0.2134999930858612, 0.1282999962568283, 0.21140000224113464, 0.3133000135421753, 0.021400000900030136, 0.0024999999441206455, 0.27959999442100525, 0.010499999858438969, 0.2143000066280365, -0.03709999844431877, 0.11590000241994858, 0.08829999715089798, 0.06729999929666519, 0.18559999763965607, 0.03709999844431877, -0.1281999945640564, -0.10249999910593033, 0.05290000140666962, 0.06499999761581421, 0.15189999341964722, 0.016200000420212746, 0.11460000276565552, -0.027400000020861626, 0.04050000011920929, -0.0406000018119812, -0.020999999716877937, 0.028300000354647636, -0.025599999353289604, -0.17059999704360962, -0.2076999992132187, -0.2240000069141388, 0.7281000018119812, 0.7138000130653381, 0.6773999929428101, 0.6690000295639038, 0.6657999753952026, 0.6485999822616577, 0.6137999892234802, 0.6000000238418579, 0.5940999984741211, 0.5820000171661377, 0.5806999802589417, 0.5716000199317932, 0.5562999844551086, 0.553600013256073, 0.5533999800682068, 0.5443999767303467, 0.5429999828338623, 0.5291000008583069, 0.5220000147819519, 0.520799994468689, 0.5184000134468079, 0.5181000232696533, 0.5164999961853027, 0.5116000175476074, 0.5062000155448914, 0.5049999952316284, 0.5027999877929688, 0.5001000165939331, 0.492900013923645, 0.49219998717308044, 0.46959999203681946, 0.47749999165534973, 0.45410001277923584, 0.43389999866485596, 0.42980000376701355, 0.41040000319480896, 0.41819998621940613, 0.4465999901294708, 0.3797999918460846, 0.36230000853538513, 0.3878999948501587, 0.2651999890804291, 0.3447999954223633, 0.2808000147342682, 0.35010001063346863, 0.39570000767707825, 0.3100999891757965, 0.29030001163482666, 0.2402999997138977, 0.12280000001192093, 0.19619999825954437, 0.3562000095844269, 0.19290000200271606, 0.18569999933242798, 0.2896000146865845, 0.16279999911785126, 0.26159998774528503, 0.0843999981880188, 0.08060000091791153, 0.04740000143647194, 0.22779999673366547, 0.14800000190734863, -0.006099999882280827, 0.17090000212192535, 0.13510000705718994, 0.1469999998807907, 0.13500000536441803, 0.07850000262260437, 0.06440000236034393, -0.026499999687075615, 0.19740000367164612, 0.1281999945640564, 0.09139999747276306, -0.17319999635219574, 0.17579999566078186, 0.08950000256299973, -0.0272000003606081, 0.01640000008046627, -0.0010000000474974513, -0.10270000249147415, -0.06790000200271606, -0.16979999840259552, -0.0471000000834465, -0.17430000007152557, -0.26269999146461487, -0.2167000025510788, 0.8285999894142151, 0.7013000249862671, 0.6582000255584717, 0.6507999897003174, 0.6421999931335449, 0.6154000163078308, 0.607200026512146, 0.597100019454956, 0.5842999815940857, 0.5802000164985657, 0.5753999948501587, 0.5625, 0.5619000196456909, 0.5548999905586243, 0.5490000247955322, 0.5475000143051147, 0.5440999865531921, 0.5428000092506409, 0.5407000184059143, 0.5325000286102295, 0.5282999873161316, 0.5263000130653381, 0.5238999724388123, 0.5224999785423279, 0.5205000042915344, 0.5182999968528748, 0.5160999894142151, 0.5130000114440918, 0.5112000107765198, 0.5099999904632568, 0.5084999799728394, 0.4918999969959259, 0.4641999900341034, 0.48240000009536743, 0.44760000705718994, 0.43479999899864197, 0.39089998602867126, 0.3869999945163727, 0.435699999332428, 0.4562000036239624, 0.352400004863739, 0.4081000089645386, 0.38179999589920044, 0.4514000117778778, 0.38280001282691956, 0.23849999904632568, 0.3402000069618225, 0.34049999713897705, 0.2142000049352646, 0.2475000023841858, 0.2249000072479248, 0.33329999446868896, 0.3050000071525574, 0.258899986743927, 0.3296000063419342, 0.2612999975681305, 0.25769999623298645, 0.28110000491142273, 0.2273000031709671, 0.0925000011920929, 0.23409999907016754, 0.16249999403953552, 0.2757999897003174, 0.010999999940395355, 0.26649999618530273, 0.26750001311302185, 0.1404000073671341, 0.19689999520778656, 0.09300000220537186, 0.20669999718666077, 0.23090000450611115, 0.07339999824762344, 0.09359999746084213, 0.20399999618530273, 0.20880000293254852, 0.05640000104904175, 0.1289999932050705, 0.19910000264644623, -0.18529999256134033, 0.049300000071525574, 0.020500000566244125, -0.17319999635219574, 0.03310000151395798, 0.06270000338554382, 0.05310000106692314, -0.012799999676644802, -0.31520000100135803, -0.337799996137619, -0.2709999978542328, -0.0010999999940395355, -0.0203000009059906, -0.04820000007748604, 0.1096000000834465, -0.05380000174045563, -0.22930000722408295, -0.02500000037252903, -0.29739999771118164, -0.21950000524520874]}, \"token.table\": {\"Topic\": [1, 2, 3, 4, 5, 1, 2, 3, 4, 5, 1, 2, 4, 1, 2, 3, 4, 5, 2, 5, 2, 3, 5, 1, 2, 3, 4, 5, 1, 2, 3, 4, 5, 1, 2, 3, 4, 5, 1, 2, 3, 4, 5, 1, 2, 3, 1, 2, 3, 4, 5, 1, 2, 3, 4, 5, 1, 2, 3, 4, 5, 1, 2, 3, 4, 5, 1, 2, 3, 4, 5, 1, 2, 3, 1, 2, 3, 4, 5, 1, 2, 3, 4, 5, 1, 2, 5, 3, 1, 2, 3, 4, 5, 1, 2, 3, 4, 5, 1, 2, 3, 4, 5, 1, 2, 3, 4, 5, 1, 2, 3, 4, 5, 1, 2, 3, 1, 2, 3, 4, 5, 1, 3, 1, 2, 3, 4, 5, 5, 1, 2, 3, 4, 1, 3, 1, 2, 3, 4, 5, 1, 2, 3, 4, 5, 1, 2, 3, 4, 5, 2, 1, 2, 3, 4, 5, 1, 2, 3, 4, 5, 1, 2, 3, 4, 5, 1, 2, 3, 4, 5, 1, 2, 3, 4, 5, 1, 2, 3, 4, 5, 1, 2, 3, 4, 5, 3, 4, 1, 2, 3, 4, 1, 2, 3, 4, 5, 1, 2, 3, 4, 5, 1, 2, 3, 4, 5, 1, 2, 3, 4, 5, 1, 2, 3, 4, 5, 1, 2, 4, 5, 1, 2, 3, 4, 5, 1, 2, 3, 4, 5, 1, 2, 3, 4, 5, 1, 2, 3, 4, 5, 1, 2, 3, 4, 5, 1, 2, 3, 4, 5, 1, 2, 3, 4, 5, 1, 2, 3, 4, 5, 1, 2, 3, 4, 5, 1, 2, 3, 4, 5, 1, 2, 4, 5, 1, 2, 3, 4, 5, 1, 2, 3, 4, 5, 1, 2, 3, 4, 5, 2, 3, 5, 1, 2, 3, 4, 5, 1, 2, 3, 4, 5, 1, 4, 5, 4, 1, 2, 3, 4, 5, 1, 2, 3, 4, 5, 1, 2, 3, 4, 5, 1, 2, 3, 4, 5, 1, 2, 3, 4, 5, 1, 2, 1, 2, 1, 2, 3, 4, 5, 3, 1, 2, 3, 4, 5, 1, 2, 3, 4, 5, 1, 2, 3, 4, 5, 1, 2, 3, 4, 5, 1, 2, 3, 4, 5, 1, 2, 4, 3, 1, 2, 3, 4, 5, 1, 2, 3, 4, 5, 1, 2, 3, 4, 5, 1, 2, 3, 4, 5, 1, 2, 3, 4, 5, 1, 2, 3, 4, 5, 3, 5, 1, 2, 3, 4, 5, 1, 2, 3, 4, 5, 1, 2, 3, 4, 5, 1, 2, 3, 4, 5, 1, 2, 3, 4, 5, 1, 2, 3, 4, 5, 1, 2, 3, 5, 1, 2, 3, 5, 3, 4, 5, 2, 1, 2, 3, 4, 5, 2, 4, 1, 2, 3, 4, 5, 1, 2, 3, 4, 5, 2, 4, 5, 1, 2, 3, 4, 5, 1, 2, 3, 4, 5, 1, 2, 3, 4, 5, 1, 2, 3, 4, 5, 1, 2, 3, 4, 5, 1, 2, 3, 4, 5, 1, 2, 3, 4, 5, 3, 5, 1, 2, 4, 5, 1, 2, 3, 4, 5, 1, 2, 3, 4, 5, 3, 4, 5, 1, 2, 3, 4, 5, 1, 2, 3, 4, 5, 1, 2, 3, 4, 5, 2, 3, 4, 1, 2, 3, 4, 5, 3, 1, 2, 3, 4, 5, 1, 2, 3, 4, 5, 1, 2, 3, 4, 5, 3, 4, 1, 2, 3, 4, 5, 1, 2, 3, 4, 5, 1, 2, 3, 4, 5, 1, 2, 3, 4, 5, 1, 2, 3, 4, 5, 1, 2, 3, 4, 5, 1, 2, 3, 4, 5, 2, 3, 1, 2, 3, 4, 5, 1, 2, 3, 4, 5, 1, 3, 4, 1, 2, 3, 4, 5, 1, 2, 3, 4, 5, 1, 2, 3, 4, 5, 1, 2, 3, 4, 5, 4, 1, 2, 3, 4, 5, 1, 2, 1, 2, 3, 4, 5, 2, 3, 4, 1, 2, 3, 1, 2, 3, 4, 5, 1, 4, 5, 1, 2, 3, 4, 5, 1, 2, 3, 4, 5, 1, 2, 3, 4, 5, 1, 2, 3, 4, 5, 1, 2, 3, 4, 5, 1, 2, 3, 4, 5, 1, 2, 3, 4, 5, 2, 3, 4, 1, 2, 3, 4, 5, 1, 2, 3, 4, 5, 1, 3, 1, 2, 3, 4, 5, 1, 5, 1, 2, 3, 4, 5, 1, 2, 3, 4, 5, 1, 2, 3, 4, 5, 1, 2, 3, 4, 5, 1, 2, 3, 4, 5, 1, 2, 3, 4, 5, 1, 2, 3, 4, 5, 1, 3, 4, 5, 1, 2, 1, 2, 3, 4, 5, 1, 2, 3, 4, 5, 1, 2, 3, 4, 5, 1, 2, 3, 4, 5, 1, 4, 5, 1, 2, 3, 4, 5, 1, 2, 3, 4, 5, 1, 2, 1, 2, 3, 4, 1, 3, 1, 2, 3, 4, 5, 1, 2, 3, 4, 5, 1, 2, 3, 4, 5, 1, 2, 3, 4, 5, 1, 2, 3, 4, 5, 3, 1, 2, 3, 4, 5, 2, 1, 2, 3, 4, 5, 2, 4, 5, 1, 2, 3, 4, 5, 1, 2, 3, 4, 5, 1, 3, 4, 5, 1, 2, 3, 4, 5, 1, 2, 3, 4, 5, 1, 2, 3, 4, 5, 1, 2, 3, 4, 5, 1, 2, 3, 4, 5, 1, 2, 3, 4, 5, 1, 1, 2, 3, 4, 5, 1, 2, 3, 4, 5, 1, 2, 3, 4, 5, 2, 3, 4, 1, 3, 4, 1, 2, 3, 4, 5, 1, 2, 3, 4, 5, 1, 2, 3, 4, 5, 2, 3, 5, 2, 4, 5, 1, 2, 3, 4, 5, 1, 2, 3, 4, 5, 1, 2, 3, 4, 5, 1, 2, 3, 4, 5, 1, 2, 3, 4, 5, 1, 2, 3, 4, 5, 4, 5, 1, 2, 3, 4, 5, 1, 2, 3, 4, 5, 4, 1, 5, 1, 2, 3, 4, 5, 1, 2, 3, 4, 5, 1, 2, 3, 4, 5, 1, 2, 3, 4, 5, 1, 2, 3, 4, 5, 1, 2, 3, 4, 5, 1, 2, 3, 4, 5, 1, 2, 3, 4, 5, 2, 3, 1, 2, 3, 4, 5, 5, 1, 2, 3, 4, 5, 1, 2, 3, 4, 5, 1, 2, 3, 4, 5, 5, 1, 2, 3, 4, 5, 1, 2, 3, 4, 5, 1, 2, 3, 4, 5, 1, 2, 5, 3, 4, 1, 2, 3, 4, 5, 1, 2, 3, 4, 1, 2, 3, 4, 5, 1, 2, 3, 4, 5, 1, 2, 3, 4, 5, 2, 3, 4, 1, 2, 3, 4, 5, 1, 2, 3, 4, 5, 2, 1, 2, 3, 4, 5, 1, 2, 3, 4, 5, 1, 1, 2, 3, 4, 5, 3, 4, 5, 1, 2, 3, 4, 5, 3, 2, 3, 4, 5, 1, 2, 3, 4, 5, 1, 2, 3, 4, 5, 1, 2, 3, 4, 5, 1, 2, 3, 4, 5, 2, 2, 3, 4, 5, 1, 2, 3, 4, 5, 1, 2, 3, 4, 5, 1, 2, 3, 4, 5, 1, 2, 3, 4, 5, 1, 2, 3, 4, 5, 1, 2, 3, 4, 5, 1, 2, 3, 4, 5, 1, 2, 3, 4, 5, 2, 3, 1, 2, 3, 4, 5, 1, 2, 3, 4, 5, 1, 2, 3, 4, 5, 1, 2, 3, 4, 5, 2, 1, 1, 2, 3, 4, 5, 1, 2, 3, 4, 5, 1, 2, 3, 4, 5, 1, 2, 3, 4, 5, 1, 2, 3, 4, 5, 1, 2, 3, 4, 5, 1, 2, 3, 4, 5, 5, 1, 2, 3, 4, 5, 1, 2, 3, 4, 5, 1, 2, 3, 4, 5, 1, 2, 3, 4, 5, 4, 5, 1, 2, 3, 4, 5, 1, 2, 3, 5, 1, 2, 3, 4, 5, 1, 2, 3, 4, 5, 1, 2, 3, 4, 5, 3, 1, 2, 3, 4, 5, 1, 2, 3, 4, 5, 1, 2, 3, 4, 5, 1, 2, 3, 4, 5, 1, 2, 3, 4, 5, 5, 1, 2, 3, 4, 5, 1, 2, 3, 4, 5, 5, 1, 2, 3, 4, 5, 1, 2, 3, 4, 5, 1, 2, 3, 4, 5, 1, 2, 3, 4, 5, 1, 2, 3, 4, 5, 1, 2, 3, 4, 5, 1, 2, 3, 4, 5, 1, 2, 3, 4, 5, 1, 2, 3, 4, 5, 1, 2, 3, 4, 5], \"Freq\": [0.17358072102069855, 0.17358072102069855, 0.3471614420413971, 0.17358072102069855, 0.17358072102069855, 0.17262284457683563, 0.19800856709480286, 0.21577855944633484, 0.15992999076843262, 0.2538571357727051, 0.3309389352798462, 0.3309389352798462, 0.3309389352798462, 0.20129278302192688, 0.20129278302192688, 0.40258556604385376, 0.20129278302192688, 0.20129278302192688, 0.6310386061668396, 0.6290518045425415, 0.32925182580947876, 0.32925182580947876, 0.32925182580947876, 0.18876296281814575, 0.17992724478244781, 0.2626616358757019, 0.168681800365448, 0.20081165432929993, 0.17769739031791687, 0.17769739031791687, 0.17769739031791687, 0.17769739031791687, 0.35539478063583374, 0.13537466526031494, 0.28065478801727295, 0.2047129124403, 0.16509105265140533, 0.2113165557384491, 0.18533289432525635, 0.23890568315982819, 0.24035359919071198, 0.21284325420856476, 0.12307262420654297, 0.33186954259872437, 0.33186954259872437, 0.33186954259872437, 0.19321145117282867, 0.15808209776878357, 0.1405174285173416, 0.19321145117282867, 0.31616419553756714, 0.21844276785850525, 0.13208167254924774, 0.25908327102661133, 0.1943124681711197, 0.19558247923851013, 0.17237341403961182, 0.1436445116996765, 0.17955563962459564, 0.3016534745693207, 0.20828454196453094, 0.1451071798801422, 0.1451071798801422, 0.2902143597602844, 0.1451071798801422, 0.1451071798801422, 0.16117355227470398, 0.13431128859519958, 0.18803581595420837, 0.18803581595420837, 0.29548484086990356, 0.3311150372028351, 0.3311150372028351, 0.3311150372028351, 0.19562412798404694, 0.19562412798404694, 0.19562412798404694, 0.39124825596809387, 0.19562412798404694, 0.1969395875930786, 0.19171109795570374, 0.19345392286777496, 0.17951130867004395, 0.23876745998859406, 0.2726956605911255, 0.2726956605911255, 0.2726956605911255, 0.33049115538597107, 0.32956233620643616, 0.10985411703586578, 0.10985411703586578, 0.21970823407173157, 0.10985411703586578, 0.1625569760799408, 0.3050726652145386, 0.21377354860305786, 0.1558765470981598, 0.1625569760799408, 0.17595548927783966, 0.17595548927783966, 0.3519109785556793, 0.17595548927783966, 0.17595548927783966, 0.20604391396045685, 0.2850175201892853, 0.21316935122013092, 0.15141555666923523, 0.14429011940956116, 0.20336198806762695, 0.15275578200817108, 0.2052362859249115, 0.21554496884346008, 0.22304217517375946, 0.3312489986419678, 0.3312489986419678, 0.3312489986419678, 0.17384110391139984, 0.17384110391139984, 0.13038082420825958, 0.3476822078227997, 0.13038082420825958, 0.3307385742664337, 0.3307385742664337, 0.15937934815883636, 0.15937934815883636, 0.15937934815883636, 0.15937934815883636, 0.31875869631767273, 0.629173994064331, 0.39263322949409485, 0.19631661474704742, 0.19631661474704742, 0.19631661474704742, 0.3315826952457428, 0.3315826952457428, 0.23271192610263824, 0.23271192610263824, 0.23271192610263824, 0.23271192610263824, 0.23271192610263824, 0.12754285335540771, 0.38262856006622314, 0.12754285335540771, 0.12754285335540771, 0.12754285335540771, 0.24719372391700745, 0.19775497913360596, 0.09887748956680298, 0.29663246870040894, 0.14831623435020447, 0.3307883143424988, 0.20198310911655426, 0.20198310911655426, 0.14427363872528076, 0.14427363872528076, 0.3174020051956177, 0.2001107782125473, 0.2001107782125473, 0.30926212668418884, 0.14553511142730713, 0.14553511142730713, 0.2061963528394699, 0.1927487552165985, 0.17481864988803864, 0.277916818857193, 0.14792346954345703, 0.1775941252708435, 0.3005439043045044, 0.2094700038433075, 0.15710249543190002, 0.15254880487918854, 0.19808608293533325, 0.19977913796901703, 0.275966078042984, 0.12528522312641144, 0.2014721781015396, 0.19899939000606537, 0.13815425336360931, 0.19184112548828125, 0.23121151328086853, 0.2405172437429428, 0.2986389994621277, 0.19411535561084747, 0.20158132910728455, 0.1343875527381897, 0.164251446723938, 0.33003559708595276, 0.33003559708595276, 0.33012863993644714, 0.33012863993644714, 0.33012863993644714, 0.33012863993644714, 0.23206837475299835, 0.23206837475299835, 0.23206837475299835, 0.23206837475299835, 0.23206837475299835, 0.1803465187549591, 0.16647370159626007, 0.3098260760307312, 0.14797662198543549, 0.19421932101249695, 0.13068878650665283, 0.1770622283220291, 0.2276514321565628, 0.18970952928066254, 0.2740248739719391, 0.21210451424121857, 0.1505257934331894, 0.21210451424121857, 0.13684162497520447, 0.28736740350723267, 0.2197716385126114, 0.146514430642128, 0.3662860691547394, 0.146514430642128, 0.146514430642128, 0.2323511838912964, 0.2323511838912964, 0.2323511838912964, 0.2323511838912964, 0.2150677889585495, 0.1723213940858841, 0.2324334979057312, 0.17766469717025757, 0.2017095386981964, 0.31907200813293457, 0.17726223170757294, 0.1949884593486786, 0.15953600406646729, 0.14180977642536163, 0.19421669840812683, 0.17072273790836334, 0.21301186084747314, 0.22789137065410614, 0.19421669840812683, 0.20213550329208374, 0.31331002712249756, 0.1718151867389679, 0.14149485528469086, 0.18192195892333984, 0.14813533425331116, 0.14813533425331116, 0.2962706685066223, 0.14813533425331116, 0.14813533425331116, 0.17161554098129272, 0.17590592801570892, 0.17590592801570892, 0.20593863725662231, 0.2702944576740265, 0.22929944097995758, 0.14837022125720978, 0.2697640657424927, 0.18546278774738312, 0.16860252618789673, 0.1599009782075882, 0.3198019564151764, 0.1599009782075882, 0.1599009782075882, 0.1599009782075882, 0.23627130687236786, 0.1629457324743271, 0.30144959688186646, 0.14665116369724274, 0.14665116369724274, 0.2201605588197708, 0.1651204228401184, 0.1651204228401184, 0.1651204228401184, 0.3302408456802368, 0.33091333508491516, 0.33091333508491516, 0.33091333508491516, 0.33091333508491516, 0.25707051157951355, 0.2285071313381195, 0.14732696115970612, 0.1638636589050293, 0.2029504030942917, 0.16345727443695068, 0.1720602810382843, 0.15485425293445587, 0.2925024926662445, 0.2236783802509308, 0.3141085207462311, 0.15084308385849, 0.18633556365966797, 0.18633556365966797, 0.16326545178890228, 0.3296634554862976, 0.3296634554862976, 0.3296634554862976, 0.1422874480485916, 0.2251662313938141, 0.2104974240064621, 0.23690128326416016, 0.18482699990272522, 0.3526211977005005, 0.17631059885025024, 0.17631059885025024, 0.08815529942512512, 0.17631059885025024, 0.33010175824165344, 0.33010175824165344, 0.33010175824165344, 0.6294407248497009, 0.1936529576778412, 0.30016207695007324, 0.1452397108078003, 0.2130182534456253, 0.1452397108078003, 0.20618438720703125, 0.27297651767730713, 0.21489641070365906, 0.17714433372020721, 0.13068024814128876, 0.3575623035430908, 0.1787811517715454, 0.1787811517715454, 0.1787811517715454, 0.1787811517715454, 0.13589809834957123, 0.23182617127895355, 0.16787412762641907, 0.17586812376976013, 0.287784218788147, 0.2685653269290924, 0.21641671657562256, 0.15774953365325928, 0.16687554121017456, 0.1890387088060379, 0.6334218382835388, 0.4482307434082031, 0.33149152994155884, 0.33149152994155884, 0.19503013789653778, 0.11579914391040802, 0.2651190757751465, 0.2133142054080963, 0.2102668583393097, 0.6305346488952637, 0.11695292592048645, 0.17970815300941467, 0.22249580919742584, 0.26243096590042114, 0.2167907953262329, 0.2599588632583618, 0.1514720916748047, 0.18422281742095947, 0.16170670092105865, 0.24358351528644562, 0.21829207241535187, 0.21829207241535187, 0.10914603620767593, 0.21829207241535187, 0.3274381160736084, 0.25915876030921936, 0.11834417283535004, 0.16852809488773346, 0.25616270303726196, 0.1977396309375763, 0.16805924475193024, 0.22377941012382507, 0.2076025903224945, 0.19591931998729706, 0.20490644872188568, 0.3313661515712738, 0.3313661515712738, 0.3313661515712738, 0.6330179572105408, 0.3293735980987549, 0.10979119688272476, 0.21958239376544952, 0.10979119688272476, 0.10979119688272476, 0.1536748856306076, 0.1536748856306076, 0.3073497712612152, 0.1536748856306076, 0.1536748856306076, 0.2780323624610901, 0.13901618123054504, 0.2780323624610901, 0.13901618123054504, 0.13901618123054504, 0.15672576427459717, 0.19407318532466888, 0.2701018452644348, 0.1660626232624054, 0.21274690330028534, 0.21264810860157013, 0.1759318858385086, 0.18970046937465668, 0.185110941529274, 0.23559574782848358, 0.18598148226737976, 0.2543570101261139, 0.17504139244556427, 0.1312810480594635, 0.2543570101261139, 0.32866594195365906, 0.32866594195365906, 0.17368856072425842, 0.17368856072425842, 0.34737712144851685, 0.17368856072425842, 0.17368856072425842, 0.15610316395759583, 0.25289830565452576, 0.22660136222839355, 0.2098160684108734, 0.15442462265491486, 0.18564404547214508, 0.17338453233242035, 0.24694161117076874, 0.21366579830646515, 0.18038997054100037, 0.19469138979911804, 0.269221693277359, 0.18252317607402802, 0.19773344695568085, 0.15666572749614716, 0.16387280821800232, 0.16387280821800232, 0.16387280821800232, 0.32774561643600464, 0.16387280821800232, 0.15430594980716705, 0.30346837639808655, 0.15430594980716705, 0.26746365427970886, 0.11830122768878937, 0.3312443494796753, 0.3312443494796753, 0.3312443494796753, 0.3312443494796753, 0.3293887674808502, 0.3293887674808502, 0.3293887674808502, 0.3293887674808502, 0.3288368880748749, 0.3288368880748749, 0.3288368880748749, 0.6325816512107849, 0.1739473193883896, 0.24286985397338867, 0.13784505426883698, 0.15753719210624695, 0.287177175283432, 0.329587459564209, 0.329587459564209, 0.2085411548614502, 0.143372043967247, 0.19550733268260956, 0.15640586614608765, 0.29977792501449585, 0.26929986476898193, 0.16990527510643005, 0.131676584482193, 0.22512449324131012, 0.20388633012771606, 0.32975679636001587, 0.32975679636001587, 0.32975679636001587, 0.27453136444091797, 0.1937868446111679, 0.22877614200115204, 0.17225497961044312, 0.12919123470783234, 0.17174990475177765, 0.19560407102108002, 0.18606239557266235, 0.2608054280281067, 0.18765267729759216, 0.166500523686409, 0.166500523686409, 0.166500523686409, 0.166500523686409, 0.333001047372818, 0.10526350885629654, 0.10526350885629654, 0.21052701771259308, 0.3157905340194702, 0.21052701771259308, 0.17868869006633759, 0.13401652872562408, 0.17868869006633759, 0.17868869006633759, 0.31270521879196167, 0.19671927392482758, 0.19890505075454712, 0.13551773130893707, 0.2557350695133209, 0.2120196670293808, 0.17421089112758636, 0.24188512563705444, 0.19230201840400696, 0.19542887806892395, 0.1963222771883011, 0.32874754071235657, 0.32874754071235657, 0.27186405658721924, 0.27186405658721924, 0.27186405658721924, 0.27186405658721924, 0.23900358378887177, 0.23900358378887177, 0.23900358378887177, 0.23900358378887177, 0.23900358378887177, 0.217001274228096, 0.1766020953655243, 0.223926842212677, 0.1662137359380722, 0.217001274228096, 0.32968050241470337, 0.32968050241470337, 0.32968050241470337, 0.20703880488872528, 0.307289183139801, 0.18306589126586914, 0.13076135516166687, 0.16998976469039917, 0.21135129034519196, 0.2725319266319275, 0.2240641564130783, 0.1565270870923996, 0.13586868345737457, 0.201431006193161, 0.24956053495407104, 0.16934464871883392, 0.18360525369644165, 0.19608327746391296, 0.3304470181465149, 0.3304470181465149, 0.3304470181465149, 0.31586891412734985, 0.18952134251594543, 0.18952134251594543, 0.18952134251594543, 0.12634757161140442, 0.6306193470954895, 0.2290869653224945, 0.16203711926937103, 0.17693708837032318, 0.22536197304725647, 0.20673701167106628, 0.12798570096492767, 0.1673659086227417, 0.27566149830818176, 0.1525983214378357, 0.27073895931243896, 0.20272718369960785, 0.257973313331604, 0.17545978724956512, 0.22217002511024475, 0.1415533572435379, 0.3304881155490875, 0.3304881155490875, 0.19511890411376953, 0.19511890411376953, 0.19511890411376953, 0.19511890411376953, 0.39023780822753906, 0.19525523483753204, 0.3905104696750641, 0.19525523483753204, 0.19525523483753204, 0.19525523483753204, 0.2604694962501526, 0.20913425087928772, 0.20382370054721832, 0.16538548469543457, 0.16133935749530792, 0.145231232047081, 0.4356936812400818, 0.145231232047081, 0.145231232047081, 0.145231232047081, 0.27772387862205505, 0.18052050471305847, 0.2395368367433548, 0.15621967613697052, 0.14580503106117249, 0.20000170171260834, 0.1424669623374939, 0.2219197005033493, 0.1835632026195526, 0.25479668378829956, 0.17582158744335175, 0.17582158744335175, 0.18314747512340546, 0.29303595423698425, 0.16849568486213684, 0.330223023891449, 0.330223023891449, 0.15977126359939575, 0.15977126359939575, 0.15977126359939575, 0.3195425271987915, 0.15977126359939575, 0.3135961592197418, 0.1636153906583786, 0.19088461995124817, 0.1772499978542328, 0.14998076856136322, 0.330018013715744, 0.330018013715744, 0.330018013715744, 0.2870442867279053, 0.24717701971530914, 0.18338939547538757, 0.149502232670784, 0.13156196475028992, 0.19086986780166626, 0.23481112718582153, 0.15654075145721436, 0.17301872372627258, 0.24305011332035065, 0.18091852962970734, 0.12525129318237305, 0.18091852962970734, 0.32008662819862366, 0.1948353499174118, 0.19318746030330658, 0.21894578635692596, 0.19833911955356598, 0.13136747479438782, 0.25758326053619385, 0.3300307095050812, 0.17298907041549683, 0.17298907041549683, 0.17298907041549683, 0.17298907041549683, 0.34597814083099365, 0.33166056871414185, 0.33166056871414185, 0.2012990266084671, 0.2012990266084671, 0.4025980532169342, 0.2012990266084671, 0.2012990266084671, 0.27233991026878357, 0.27233991026878357, 0.27233991026878357, 0.3320680856704712, 0.3320680856704712, 0.3320680856704712, 0.39234551787376404, 0.19617275893688202, 0.19617275893688202, 0.19617275893688202, 0.19617275893688202, 0.3294539153575897, 0.3294539153575897, 0.3294539153575897, 0.15611520409584045, 0.15611520409584045, 0.15611520409584045, 0.3122304081916809, 0.15611520409584045, 0.20993053913116455, 0.3498842120170593, 0.13995368778705597, 0.13995368778705597, 0.13995368778705597, 0.2277938425540924, 0.17717298865318298, 0.27841469645500183, 0.17717298865318298, 0.14061348140239716, 0.3132883608341217, 0.15664418041706085, 0.3132883608341217, 0.15664418041706085, 0.15664418041706085, 0.28224509954452515, 0.16266462206840515, 0.16530244052410126, 0.1995939016342163, 0.18904267251491547, 0.19530948996543884, 0.19530948996543884, 0.19530948996543884, 0.3906189799308777, 0.19530948996543884, 0.21324093639850616, 0.20231351256370544, 0.18014644086360931, 0.19138608872890472, 0.21292872726917267, 0.330068439245224, 0.330068439245224, 0.330068439245224, 0.2786365747451782, 0.16544045507907867, 0.18067839741706848, 0.15890991687774658, 0.2176848202943802, 0.20889851450920105, 0.20666031539440155, 0.15592782199382782, 0.23799508810043335, 0.19024686515331268, 0.3316596448421478, 0.3316596448421478, 0.18212296068668365, 0.15410403907299042, 0.18912768363952637, 0.17511822283267975, 0.30120334029197693, 0.3307430148124695, 0.3307430148124695, 0.19752945005893707, 0.2440069615840912, 0.21641093492507935, 0.14088496565818787, 0.20043429732322693, 0.18791626393795013, 0.19099685549736023, 0.1740535944700241, 0.23874607682228088, 0.20794013142585754, 0.2248499095439911, 0.17452013492584229, 0.21765995025634766, 0.1771346628665924, 0.2052409052848816, 0.1577564924955368, 0.21420146524906158, 0.2547260820865631, 0.1867026388645172, 0.18525533378124237, 0.23108002543449402, 0.38513338565826416, 0.15405334532260895, 0.15405334532260895, 0.15405334532260895, 0.2122582048177719, 0.12129040062427521, 0.3335486054420471, 0.2122582048177719, 0.1516129970550537, 0.2092091292142868, 0.18119004368782043, 0.17558623850345612, 0.1830579936504364, 0.2503037750720978, 0.2314997911453247, 0.2314997911453247, 0.4629995822906494, 0.2314997911453247, 0.4506649971008301, 0.4506649971008301, 0.1821821928024292, 0.17517518997192383, 0.18918919563293457, 0.3013013005256653, 0.15415416657924652, 0.23373353481292725, 0.1546507626771927, 0.19419214129447937, 0.17310340702533722, 0.24339920282363892, 0.1783670336008072, 0.3567340672016144, 0.1783670336008072, 0.1783670336008072, 0.1783670336008072, 0.28301018476486206, 0.1367882490158081, 0.14150509238243103, 0.2877269983291626, 0.15093876421451569, 0.32945436239242554, 0.32945436239242554, 0.32945436239242554, 0.26769694685935974, 0.1959923952817917, 0.188821941614151, 0.1697007417678833, 0.17806626856327057, 0.19566528499126434, 0.3913305699825287, 0.19566528499126434, 0.19566528499126434, 0.19566528499126434, 0.3308106064796448, 0.3308106064796448, 0.2843773066997528, 0.2843773066997528, 0.2843773066997528, 0.2843773066997528, 0.3312239646911621, 0.3312239646911621, 0.17311802506446838, 0.31960251927375793, 0.1997515708208084, 0.15980125963687897, 0.14648447930812836, 0.17516183853149414, 0.19017571210861206, 0.21186241507530212, 0.18350288271903992, 0.2385537475347519, 0.3040789067745209, 0.18529807031154633, 0.15916629135608673, 0.20192739367485046, 0.15203945338726044, 0.1522616297006607, 0.21945400536060333, 0.20712512731552124, 0.2126731276512146, 0.2089744657278061, 0.19216351211071014, 0.180792897939682, 0.20353414118289948, 0.22286419570446014, 0.20012295246124268, 0.6307199597358704, 0.16040219366550446, 0.3029819130897522, 0.18178914487361908, 0.14970870316028595, 0.2031761109828949, 0.6315454840660095, 0.17892266809940338, 0.14711418747901917, 0.19880296289920807, 0.1749466061592102, 0.2982044517993927, 0.32974401116371155, 0.32974401116371155, 0.32974401116371155, 0.23482368886470795, 0.23410116136074066, 0.15968011319637299, 0.15823504328727722, 0.21314765512943268, 0.2280901074409485, 0.14738130569458008, 0.19440294802188873, 0.23931916058063507, 0.19159568846225739, 0.20108549296855927, 0.20108549296855927, 0.20108549296855927, 0.40217098593711853, 0.14667244255542755, 0.36668112874031067, 0.22000867128372192, 0.14667244255542755, 0.14667244255542755, 0.21487297117710114, 0.15961992740631104, 0.17189837992191315, 0.14734147489070892, 0.30696138739585876, 0.18990874290466309, 0.19278615713119507, 0.1438702642917633, 0.2100505828857422, 0.26184388995170593, 0.20882725715637207, 0.3174174427986145, 0.14200253784656525, 0.17541490495204926, 0.15035562217235565, 0.4944216012954712, 0.16480720043182373, 0.16480720043182373, 0.16480720043182373, 0.16480720043182373, 0.18746717274188995, 0.19741441309452057, 0.20277060568332672, 0.18364131450653076, 0.2280212938785553, 0.6341007947921753, 0.17334353923797607, 0.17334353923797607, 0.17334353923797607, 0.34668707847595215, 0.17334353923797607, 0.24012985825538635, 0.4802597165107727, 0.24012985825538635, 0.24012985825538635, 0.24012985825538635, 0.48194044828414917, 0.24097022414207458, 0.24097022414207458, 0.24097022414207458, 0.24097022414207458, 0.3299400508403778, 0.3299400508403778, 0.3299400508403778, 0.3320216238498688, 0.3320216238498688, 0.3320216238498688, 0.19414924085140228, 0.1886802464723587, 0.2734496295452118, 0.20508722960948944, 0.13945931196212769, 0.1904311329126358, 0.2650965750217438, 0.2000211775302887, 0.2061862200498581, 0.1383708119392395, 0.27264004945755005, 0.27264004945755005, 0.27264004945755005, 0.27264004945755005, 0.27264004945755005, 0.33013400435447693, 0.33013400435447693, 0.33013400435447693, 0.33005043864250183, 0.33005043864250183, 0.33005043864250183, 0.21775583922863007, 0.15901240706443787, 0.2481403797864914, 0.18534566462039948, 0.189396932721138, 0.24429182708263397, 0.233353391289711, 0.13126127421855927, 0.1981073021888733, 0.1932457685470581, 0.25544190406799316, 0.240609809756279, 0.10382477939128876, 0.21918565034866333, 0.1829293668270111, 0.24905620515346527, 0.2796008288860321, 0.1362760365009308, 0.14332479238510132, 0.19031652808189392, 0.23184648156166077, 0.23184648156166077, 0.23184648156166077, 0.23184648156166077, 0.23184648156166077, 0.2900354266166687, 0.19233927130699158, 0.14043819904327393, 0.1892862766981125, 0.1892862766981125, 0.32930609583854675, 0.32930609583854675, 0.19045992195606232, 0.192087784409523, 0.1953435093164444, 0.23441220819950104, 0.18720419704914093, 0.24411103129386902, 0.300881028175354, 0.11354001611471176, 0.15327902138233185, 0.18166401982307434, 0.6297593712806702, 0.3483000099658966, 0.3483000099658966, 0.28314515948295593, 0.21235887706279755, 0.1820218861103058, 0.18386049568653107, 0.13881467282772064, 0.3209429085254669, 0.16047145426273346, 0.22064824402332306, 0.16047145426273346, 0.14041252434253693, 0.30856162309646606, 0.15428081154823303, 0.15428081154823303, 0.15428081154823303, 0.15428081154823303, 0.16525259613990784, 0.18432019650936127, 0.15889672935009003, 0.32414931058883667, 0.16525259613990784, 0.11959126591682434, 0.2092847228050232, 0.32887598872184753, 0.1793868988752365, 0.1793868988752365, 0.2651144564151764, 0.2014232873916626, 0.19505417346954346, 0.15445105731487274, 0.18390822410583496, 0.22876869142055511, 0.17549379169940948, 0.15042324364185333, 0.26950833201408386, 0.17549379169940948, 0.1868198662996292, 0.2487601488828659, 0.1908160150051117, 0.22778038680553436, 0.14585936069488525, 0.33033448457717896, 0.33033448457717896, 0.14946424961090088, 0.19928565621376038, 0.1394999623298645, 0.29892849922180176, 0.20924994349479675, 0.6284383535385132, 0.2276396006345749, 0.16374076902866364, 0.30751314759254456, 0.17971546947956085, 0.1238039955496788, 0.25088751316070557, 0.20320755243301392, 0.17709708213806152, 0.24975228309631348, 0.1191999539732933, 0.20905594527721405, 0.2408112734556198, 0.18700362741947174, 0.18788571655750275, 0.17553642392158508, 0.6289478540420532, 0.2132108211517334, 0.1754889041185379, 0.19516989588737488, 0.18040914833545685, 0.23617199063301086, 0.27233102917671204, 0.27233102917671204, 0.27233102917671204, 0.27233102917671204, 0.27233102917671204, 0.22290684282779694, 0.23091547191143036, 0.2469327300786972, 0.1361466944217682, 0.16417689621448517, 0.3302699625492096, 0.3302699625492096, 0.3302699625492096, 0.3301810324192047, 0.3301810324192047, 0.15413114428520203, 0.22419074177742004, 0.16814306378364563, 0.28023844957351685, 0.17514902353286743, 0.33018365502357483, 0.33018365502357483, 0.33018365502357483, 0.33018365502357483, 0.15963198244571686, 0.25541117787361145, 0.13169638812541962, 0.17958597838878632, 0.271374374628067, 0.19434775412082672, 0.1712111085653305, 0.18046577274799347, 0.2822669744491577, 0.175838440656662, 0.2095208764076233, 0.22563786804676056, 0.27629128098487854, 0.15426263213157654, 0.1335407793521881, 0.329775333404541, 0.329775333404541, 0.329775333404541, 0.17097637057304382, 0.20064491033554077, 0.26640504598617554, 0.2137969434261322, 0.14803679287433624, 0.2199331670999527, 0.19664612412452698, 0.14489714801311493, 0.16300928592681885, 0.27685704827308655, 0.4480552077293396, 0.22131027281284332, 0.156219020485878, 0.16923727095127106, 0.28640154004096985, 0.156219020485878, 0.2015375941991806, 0.2015375941991806, 0.4030751883983612, 0.2015375941991806, 0.2015375941991806, 0.6330174803733826, 0.18309377133846283, 0.16644887626171112, 0.27464064955711365, 0.21638354659080505, 0.1622876524925232, 0.2830379605293274, 0.2830379605293274, 0.2830379605293274, 0.27437081933021545, 0.194627583026886, 0.24733921885490417, 0.12569698691368103, 0.15813490748405457, 0.6304673552513123, 0.2838370203971863, 0.2838370203971863, 0.2838370203971863, 0.2838370203971863, 0.11731603741645813, 0.11731603741645813, 0.11731603741645813, 0.23463207483291626, 0.3519481122493744, 0.21836544573307037, 0.10918272286653519, 0.10918272286653519, 0.10918272286653519, 0.32754817605018616, 0.18759885430335999, 0.21472157537937164, 0.17177726328372955, 0.26218634843826294, 0.16273635625839233, 0.18307827413082123, 0.18307827413082123, 0.2837713360786438, 0.1418856680393219, 0.2105400115251541, 0.6314374208450317, 0.3295547664165497, 0.3295547664165497, 0.3295547664165497, 0.3295547664165497, 0.46469956636428833, 0.23234978318214417, 0.23234978318214417, 0.23234978318214417, 0.23234978318214417, 0.16386692225933075, 0.271320641040802, 0.14774885773658752, 0.23639817535877228, 0.17998497188091278, 0.1528795063495636, 0.23696322739124298, 0.28908124566078186, 0.165387824177742, 0.15565912425518036, 0.2852262556552887, 0.14631736278533936, 0.1759512573480606, 0.20743727684020996, 0.18706397712230682, 0.27590104937553406, 0.16020061075687408, 0.2254675328731537, 0.13646718859672546, 0.2047007828950882, 0.14173416793346405, 0.14173416793346405, 0.2834683358669281, 0.14173416793346405, 0.14173416793346405, 0.19750769436359406, 0.17007607221603394, 0.1591034233570099, 0.2798025608062744, 0.19202136993408203, 0.2811935842037201, 0.20847110450267792, 0.172917902469635, 0.1939266175031662, 0.1422128528356552, 0.3308698832988739, 0.3308698832988739, 0.21558766067028046, 0.23467615246772766, 0.16169074177742004, 0.23355330526828766, 0.15383078157901764, 0.14193731546401978, 0.14193731546401978, 0.42581191658973694, 0.14193731546401978, 0.14193731546401978, 0.17776930332183838, 0.17776930332183838, 0.17776930332183838, 0.17776930332183838, 0.35553860664367676, 0.15245476365089417, 0.29946470260620117, 0.1470099538564682, 0.2069028913974762, 0.18512363731861115, 0.631146252155304, 0.6329155564308167, 0.21715107560157776, 0.1447673887014389, 0.1447673887014389, 0.36191844940185547, 0.1447673887014389, 0.20129844546318054, 0.15322716534137726, 0.27040088176727295, 0.19829398393630981, 0.17425835132598877, 0.2251274436712265, 0.2078099548816681, 0.20396161079406738, 0.10967747122049332, 0.2520657777786255, 0.26979535818099976, 0.21875299513339996, 0.15677297115325928, 0.17864827811717987, 0.17500239610671997, 0.21408919990062714, 0.20806299149990082, 0.20171961188316345, 0.2131377011537552, 0.16334213316440582, 0.20468449592590332, 0.15010197460651398, 0.30020394921302795, 0.19103886187076569, 0.15010197460651398, 0.17597027122974396, 0.17597027122974396, 0.3323882818222046, 0.17597027122974396, 0.15641801059246063, 0.6285829544067383, 0.16855832934379578, 0.22915120422840118, 0.26220184564590454, 0.13550767302513123, 0.20491404831409454, 0.3483944535255432, 0.1741972267627716, 0.1741972267627716, 0.1741972267627716, 0.1741972267627716, 0.21408818662166595, 0.22913222014904022, 0.18862904608249664, 0.2002013921737671, 0.16779884696006775, 0.1813126504421234, 0.25901806354522705, 0.15541084110736847, 0.31082168221473694, 0.12950903177261353, 0.3287621736526489, 0.3287621736526489, 0.3120262622833252, 0.13651148974895477, 0.17551478743553162, 0.20476724207401276, 0.1657639592885971, 0.27330324053764343, 0.27330324053764343, 0.27330324053764343, 0.27330324053764343, 0.23155605792999268, 0.23155605792999268, 0.23155605792999268, 0.23155605792999268, 0.23155605792999268, 0.19908946752548218, 0.2039453089237213, 0.15538690984249115, 0.15538690984249115, 0.2864946126937866, 0.19016370177268982, 0.20929966866970062, 0.1506957709789276, 0.20212368667125702, 0.24876761436462402, 0.6315189003944397, 0.1673087328672409, 0.175674170255661, 0.175674170255661, 0.20077046751976013, 0.2927902638912201, 0.17136259377002716, 0.1550423502922058, 0.2937644422054291, 0.1632024645805359, 0.21216320991516113, 0.1710207462310791, 0.1710207462310791, 0.1710207462310791, 0.1710207462310791, 0.2992863059043884, 0.2411533147096634, 0.244471937417984, 0.1604001373052597, 0.1924801617860794, 0.1604001373052597, 0.2849709093570709, 0.150401309132576, 0.2018543928861618, 0.20581232011318207, 0.16227509081363678, 0.6292978525161743, 0.20046466588974, 0.13949860632419586, 0.24903084337711334, 0.1911647617816925, 0.2211311310529709, 0.2021697759628296, 0.14464178681373596, 0.23833023011684418, 0.16272202134132385, 0.25147947669029236, 0.6287727355957031, 0.192353755235672, 0.20753957331180573, 0.16198210418224335, 0.19163061678409576, 0.2465888410806656, 0.13873684406280518, 0.13873684406280518, 0.13873684406280518, 0.41621050238609314, 0.13873684406280518, 0.2081061154603958, 0.13340136408805847, 0.15474557876586914, 0.3094911575317383, 0.1920979619026184, 0.19727304577827454, 0.2818186283111572, 0.13738659024238586, 0.21488671004772186, 0.16909117996692657, 0.16059070825576782, 0.2685741186141968, 0.14120906591415405, 0.2131980061531067, 0.2159668207168579, 0.3197280764579773, 0.13901221752166748, 0.1668146550655365, 0.1668146550655365, 0.22241953015327454, 0.268330454826355, 0.17504820227622986, 0.19232268631458282, 0.21535535156726837, 0.14971227943897247, 0.17332853376865387, 0.2829853594303131, 0.1945524364709854, 0.17332853376865387, 0.1768658459186554, 0.22914621233940125, 0.20623159408569336, 0.13912448287010193, 0.18004345893859863, 0.24551379680633545, 0.15532104671001434, 0.2037544846534729, 0.15532104671001434, 0.24717757105827332, 0.23715685307979584], \"Term\": [\"abordable\", \"abordable\", \"abordable\", \"abordable\", \"abordable\", \"absolutely\", \"absolutely\", \"absolutely\", \"absolutely\", \"absolutely\", \"accounting\", \"accounting\", \"accounting\", \"acrobatics\", \"acrobatics\", \"acrobatics\", \"acrobatics\", \"acrobatics\", \"agian\", \"ailment\", \"allergen\", \"allergen\", \"allergen\", \"amazing\", \"amazing\", \"amazing\", \"amazing\", \"amazing\", \"amusement\", \"amusement\", \"amusement\", \"amusement\", \"amusement\", \"appointment\", \"appointment\", \"appointment\", \"appointment\", \"appointment\", \"area\", \"area\", \"area\", \"area\", \"area\", \"aryon\", \"aryon\", \"aryon\", \"aside\", \"aside\", \"aside\", \"aside\", \"aside\", \"asked\", \"asked\", \"asked\", \"asked\", \"asked\", \"asking\", \"asking\", \"asking\", \"asking\", \"asking\", \"assez\", \"assez\", \"assez\", \"assez\", \"assez\", \"assured\", \"assured\", \"assured\", \"assured\", \"assured\", \"atmospherecourteous\", \"atmospherecourteous\", \"atmospherecourteous\", \"aveda\", \"aveda\", \"aveda\", \"aveda\", \"aveda\", \"away\", \"away\", \"away\", \"away\", \"away\", \"axle\", \"axle\", \"axle\", \"beause\", \"bedside\", \"bedside\", \"bedside\", \"bedside\", \"bedside\", \"beer\", \"beer\", \"beer\", \"beer\", \"beer\", \"berman\", \"berman\", \"berman\", \"berman\", \"berman\", \"best\", \"best\", \"best\", \"best\", \"best\", \"better\", \"better\", \"better\", \"better\", \"better\", \"betterrecommended\", \"betterrecommended\", \"betterrecommended\", \"bikes\", \"bikes\", \"bikes\", \"bikes\", \"bikes\", \"birthdaythank\", \"birthdaythank\", \"boil\", \"boil\", \"boil\", \"boil\", \"boil\", \"bombdifinitly\", \"bookkeeping\", \"bookkeeping\", \"bookkeeping\", \"bookkeeping\", \"booster\", \"booster\", \"borders\", \"borders\", \"borders\", \"borders\", \"borders\", \"brag\", \"brag\", \"brag\", \"brag\", \"brag\", \"brake\", \"brake\", \"brake\", \"brake\", \"brake\", \"breakfastwtf\", \"brother\", \"brother\", \"brother\", \"brother\", \"brother\", \"buffalo\", \"buffalo\", \"buffalo\", \"buffalo\", \"buffalo\", \"buffet\", \"buffet\", \"buffet\", \"buffet\", \"buffet\", \"business\", \"business\", \"business\", \"business\", \"business\", \"called\", \"called\", \"called\", \"called\", \"called\", \"came\", \"came\", \"came\", \"came\", \"came\", \"case\", \"case\", \"case\", \"case\", \"case\", \"casualchimis\", \"casualchimis\", \"catalfano\", \"catalfano\", \"catalfano\", \"catalfano\", \"chaleureux\", \"chaleureux\", \"chaleureux\", \"chaleureux\", \"chaleureux\", \"change\", \"change\", \"change\", \"change\", \"change\", \"charge\", \"charge\", \"charge\", \"charge\", \"charge\", \"charged\", \"charged\", \"charged\", \"charged\", \"charged\", \"charlie\", \"charlie\", \"charlie\", \"charlie\", \"charlie\", \"cheating\", \"cheating\", \"cheating\", \"cheating\", \"cheese\", \"cheese\", \"cheese\", \"cheese\", \"cheese\", \"chewy\", \"chewy\", \"chewy\", \"chewy\", \"chewy\", \"chicken\", \"chicken\", \"chicken\", \"chicken\", \"chicken\", \"chili\", \"chili\", \"chili\", \"chili\", \"chili\", \"chillers\", \"chillers\", \"chillers\", \"chillers\", \"chillers\", \"chips\", \"chips\", \"chips\", \"chips\", \"chips\", \"chocolate\", \"chocolate\", \"chocolate\", \"chocolate\", \"chocolate\", \"chore\", \"chore\", \"chore\", \"chore\", \"chore\", \"chose\", \"chose\", \"chose\", \"chose\", \"chose\", \"christina\", \"christina\", \"christina\", \"christina\", \"christina\", \"christmasy\", \"christmasy\", \"christmasy\", \"christmasy\", \"clean\", \"clean\", \"clean\", \"clean\", \"clean\", \"club\", \"club\", \"club\", \"club\", \"club\", \"coffee\", \"coffee\", \"coffee\", \"coffee\", \"coffee\", \"colonic\", \"colonic\", \"colonic\", \"come\", \"come\", \"come\", \"come\", \"come\", \"commands\", \"commands\", \"commands\", \"commands\", \"commands\", \"conchas\", \"conchas\", \"conchas\", \"constamment\", \"cook\", \"cook\", \"cook\", \"cook\", \"cook\", \"cool\", \"cool\", \"cool\", \"cool\", \"cool\", \"cornish\", \"cornish\", \"cornish\", \"cornish\", \"cornish\", \"curry\", \"curry\", \"curry\", \"curry\", \"curry\", \"customer\", \"customer\", \"customer\", \"customer\", \"customer\", \"daddywent\", \"dajuan\", \"dankbbs\", \"dankbbs\", \"deal\", \"deal\", \"deal\", \"deal\", \"deal\", \"dealsusually\", \"decent\", \"decent\", \"decent\", \"decent\", \"decent\", \"decided\", \"decided\", \"decided\", \"decided\", \"decided\", \"declared\", \"declared\", \"declared\", \"declared\", \"declared\", \"definitely\", \"definitely\", \"definitely\", \"definitely\", \"definitely\", \"delicious\", \"delicious\", \"delicious\", \"delicious\", \"delicious\", \"deliciousinexpensive\", \"deliciousinexpensive\", \"deliciousinexpensive\", \"deltai\", \"dennis\", \"dennis\", \"dennis\", \"dennis\", \"dennis\", \"diagnosed\", \"diagnosed\", \"diagnosed\", \"diagnosed\", \"diagnosed\", \"diana\", \"diana\", \"diana\", \"diana\", \"diana\", \"didnt\", \"didnt\", \"didnt\", \"didnt\", \"didnt\", \"different\", \"different\", \"different\", \"different\", \"different\", \"disappointed\", \"disappointed\", \"disappointed\", \"disappointed\", \"disappointed\", \"discontinue\", \"discontinue\", \"donair\", \"donair\", \"donair\", \"donair\", \"donair\", \"dont\", \"dont\", \"dont\", \"dont\", \"dont\", \"drink\", \"drink\", \"drink\", \"drink\", \"drink\", \"drinks\", \"drinks\", \"drinks\", \"drinks\", \"drinks\", \"durants\", \"durants\", \"durants\", \"durants\", \"durants\", \"eggs\", \"eggs\", \"eggs\", \"eggs\", \"eggs\", \"elseoverall\", \"elseoverall\", \"elseoverall\", \"elseoverall\", \"engages\", \"engages\", \"engages\", \"engages\", \"eventlove\", \"eventlove\", \"eventlove\", \"everrrrr\", \"excellent\", \"excellent\", \"excellent\", \"excellent\", \"excellent\", \"excellenteverything\", \"excellenteverything\", \"exceptional\", \"exceptional\", \"exceptional\", \"exceptional\", \"exceptional\", \"experience\", \"experience\", \"experience\", \"experience\", \"experience\", \"fairmont\", \"fairmont\", \"fairmont\", \"fantastic\", \"fantastic\", \"fantastic\", \"fantastic\", \"fantastic\", \"feel\", \"feel\", \"feel\", \"feel\", \"feel\", \"female\", \"female\", \"female\", \"female\", \"female\", \"figures\", \"figures\", \"figures\", \"figures\", \"figures\", \"finger\", \"finger\", \"finger\", \"finger\", \"finger\", \"flavor\", \"flavor\", \"flavor\", \"flavor\", \"flavor\", \"food\", \"food\", \"food\", \"food\", \"food\", \"fooddefinitely\", \"fooddefinitely\", \"forand\", \"forand\", \"forand\", \"forand\", \"frap\", \"frap\", \"frap\", \"frap\", \"frap\", \"fresh\", \"fresh\", \"fresh\", \"fresh\", \"fresh\", \"fridendly\", \"fridendly\", \"fridendly\", \"fried\", \"fried\", \"fried\", \"fried\", \"fried\", \"friendly\", \"friendly\", \"friendly\", \"friendly\", \"friendly\", \"friends\", \"friends\", \"friends\", \"friends\", \"friends\", \"froide\", \"froide\", \"froide\", \"gabe\", \"gabe\", \"gabe\", \"gabe\", \"gabe\", \"gemwholesale\", \"going\", \"going\", \"going\", \"going\", \"going\", \"gone\", \"gone\", \"gone\", \"gone\", \"gone\", \"good\", \"good\", \"good\", \"good\", \"good\", \"gooddecent\", \"gooddecent\", \"grabbagreen\", \"grabbagreen\", \"grabbagreen\", \"grabbagreen\", \"grabbagreen\", \"grandes\", \"grandes\", \"grandes\", \"grandes\", \"grandes\", \"great\", \"great\", \"great\", \"great\", \"great\", \"groomed\", \"groomed\", \"groomed\", \"groomed\", \"groomed\", \"guys\", \"guys\", \"guys\", \"guys\", \"guys\", \"hair\", \"hair\", \"hair\", \"hair\", \"hair\", \"hands\", \"hands\", \"hands\", \"hands\", \"hands\", \"healthyvegan\", \"healthyvegan\", \"heather\", \"heather\", \"heather\", \"heather\", \"heather\", \"hell\", \"hell\", \"hell\", \"hell\", \"hell\", \"hereoh\", \"hereoh\", \"hereoh\", \"highly\", \"highly\", \"highly\", \"highly\", \"highly\", \"home\", \"home\", \"home\", \"home\", \"home\", \"host\", \"host\", \"host\", \"host\", \"host\", \"hours\", \"hours\", \"hours\", \"hours\", \"hours\", \"imcomplete\", \"impersonal\", \"impersonal\", \"impersonal\", \"impersonal\", \"impersonal\", \"injections\", \"injections\", \"inspections\", \"inspections\", \"inspections\", \"inspections\", \"inspections\", \"inspiring\", \"inspiring\", \"inspiring\", \"intelligently\", \"intelligently\", \"intelligently\", \"journal\", \"journal\", \"journal\", \"journal\", \"journal\", \"julio\", \"julio\", \"julio\", \"kathleen\", \"kathleen\", \"kathleen\", \"kathleen\", \"kathleen\", \"kensington\", \"kensington\", \"kensington\", \"kensington\", \"kensington\", \"kids\", \"kids\", \"kids\", \"kids\", \"kids\", \"kitsch\", \"kitsch\", \"kitsch\", \"kitsch\", \"kitsch\", \"know\", \"know\", \"know\", \"know\", \"know\", \"lahore\", \"lahore\", \"lahore\", \"lahore\", \"lahore\", \"like\", \"like\", \"like\", \"like\", \"like\", \"likeoh\", \"likeoh\", \"likeoh\", \"line\", \"line\", \"line\", \"line\", \"line\", \"little\", \"little\", \"little\", \"little\", \"little\", \"livermush\", \"livermush\", \"lobster\", \"lobster\", \"lobster\", \"lobster\", \"lobster\", \"londres\", \"londres\", \"long\", \"long\", \"long\", \"long\", \"long\", \"looking\", \"looking\", \"looking\", \"looking\", \"looking\", \"love\", \"love\", \"love\", \"love\", \"love\", \"lunch\", \"lunch\", \"lunch\", \"lunch\", \"lunch\", \"maria\", \"maria\", \"maria\", \"maria\", \"maria\", \"mary\", \"mary\", \"mary\", \"mary\", \"mary\", \"meat\", \"meat\", \"meat\", \"meat\", \"meat\", \"meilleurs\", \"meilleurs\", \"meilleurs\", \"meilleurs\", \"melinda\", \"melinda\", \"mention\", \"mention\", \"mention\", \"mention\", \"mention\", \"menu\", \"menu\", \"menu\", \"menu\", \"menu\", \"menudo\", \"menudo\", \"menudo\", \"menudo\", \"menudo\", \"mexican\", \"mexican\", \"mexican\", \"mexican\", \"mexican\", \"miniatures\", \"miniatures\", \"miniatures\", \"minutes\", \"minutes\", \"minutes\", \"minutes\", \"minutes\", \"mistreated\", \"mistreated\", \"mistreated\", \"mistreated\", \"mistreated\", \"mmme\", \"mmme\", \"molly\", \"molly\", \"molly\", \"molly\", \"musicit\", \"musicit\", \"nachos\", \"nachos\", \"nachos\", \"nachos\", \"nachos\", \"need\", \"need\", \"need\", \"need\", \"need\", \"needed\", \"needed\", \"needed\", \"needed\", \"needed\", \"nice\", \"nice\", \"nice\", \"nice\", \"nice\", \"night\", \"night\", \"night\", \"night\", \"night\", \"northwestawesome\", \"office\", \"office\", \"office\", \"office\", \"office\", \"oilybetter\", \"okay\", \"okay\", \"okay\", \"okay\", \"okay\", \"ooohhh\", \"ooohhh\", \"ooohhh\", \"order\", \"order\", \"order\", \"order\", \"order\", \"ordered\", \"ordered\", \"ordered\", \"ordered\", \"ordered\", \"outsourced\", \"outsourced\", \"outsourced\", \"outsourced\", \"pairing\", \"pairing\", \"pairing\", \"pairing\", \"pairing\", \"park\", \"park\", \"park\", \"park\", \"park\", \"parking\", \"parking\", \"parking\", \"parking\", \"parking\", \"patient\", \"patient\", \"patient\", \"patient\", \"patient\", \"pawn\", \"pawn\", \"pawn\", \"pawn\", \"pawn\", \"people\", \"people\", \"people\", \"people\", \"people\", \"peopleare\", \"perfume\", \"perfume\", \"perfume\", \"perfume\", \"perfume\", \"perm\", \"perm\", \"perm\", \"perm\", \"perm\", \"petsmart\", \"petsmart\", \"petsmart\", \"petsmart\", \"petsmart\", \"pickmeup\", \"pickmeup\", \"pickmeup\", \"pimpin\", \"pimpin\", \"pimpin\", \"pizza\", \"pizza\", \"pizza\", \"pizza\", \"pizza\", \"place\", \"place\", \"place\", \"place\", \"place\", \"placea\", \"placea\", \"placea\", \"placea\", \"placea\", \"placeburgers\", \"placeburgers\", \"placeburgers\", \"pleasantquiet\", \"pleasantquiet\", \"pleasantquiet\", \"pretty\", \"pretty\", \"pretty\", \"pretty\", \"pretty\", \"price\", \"price\", \"price\", \"price\", \"price\", \"prices\", \"prices\", \"prices\", \"prices\", \"prices\", \"probably\", \"probably\", \"probably\", \"probably\", \"probably\", \"producer\", \"producer\", \"producer\", \"producer\", \"producer\", \"professional\", \"professional\", \"professional\", \"professional\", \"professional\", \"puzzleplayed\", \"puzzleplayed\", \"quality\", \"quality\", \"quality\", \"quality\", \"quality\", \"questions\", \"questions\", \"questions\", \"questions\", \"questions\", \"rancheras\", \"randal\", \"randal\", \"recommend\", \"recommend\", \"recommend\", \"recommend\", \"recommend\", \"relax\", \"relax\", \"relax\", \"relax\", \"relax\", \"rescue\", \"rescue\", \"rescue\", \"rescue\", \"rescue\", \"reservation\", \"reservation\", \"reservation\", \"reservation\", \"reservation\", \"respond\", \"respond\", \"respond\", \"respond\", \"respond\", \"restaurant\", \"restaurant\", \"restaurant\", \"restaurant\", \"restaurant\", \"restaurants\", \"restaurants\", \"restaurants\", \"restaurants\", \"restaurants\", \"right\", \"right\", \"right\", \"right\", \"right\", \"righttowork\", \"righttowork\", \"road\", \"road\", \"road\", \"road\", \"road\", \"roastit\", \"rolls\", \"rolls\", \"rolls\", \"rolls\", \"rolls\", \"room\", \"room\", \"room\", \"room\", \"room\", \"said\", \"said\", \"said\", \"said\", \"said\", \"saidcant\", \"salad\", \"salad\", \"salad\", \"salad\", \"salad\", \"sandbar\", \"sandbar\", \"sandbar\", \"sandbar\", \"sandbar\", \"sauce\", \"sauce\", \"sauce\", \"sauce\", \"sauce\", \"sawasdee\", \"sawasdee\", \"sawasdee\", \"saybasic\", \"saybasic\", \"school\", \"school\", \"school\", \"school\", \"school\", \"scottsdalefountain\", \"scottsdalefountain\", \"scottsdalefountain\", \"scottsdalefountain\", \"seated\", \"seated\", \"seated\", \"seated\", \"seated\", \"seen\", \"seen\", \"seen\", \"seen\", \"seen\", \"selection\", \"selection\", \"selection\", \"selection\", \"selection\", \"serveur\", \"serveur\", \"serveur\", \"service\", \"service\", \"service\", \"service\", \"service\", \"shop\", \"shop\", \"shop\", \"shop\", \"shop\", \"shoppe\", \"shot\", \"shot\", \"shot\", \"shot\", \"shot\", \"sicilian\", \"sicilian\", \"sicilian\", \"sicilian\", \"sicilian\", \"sills\", \"size\", \"size\", \"size\", \"size\", \"size\", \"slection\", \"slection\", \"slection\", \"small\", \"small\", \"small\", \"small\", \"small\", \"smiledouble\", \"smokies\", \"smokies\", \"smokies\", \"smokies\", \"snail\", \"snail\", \"snail\", \"snail\", \"snail\", \"sole\", \"sole\", \"sole\", \"sole\", \"sole\", \"soup\", \"soup\", \"soup\", \"soup\", \"soup\", \"space\", \"space\", \"space\", \"space\", \"space\", \"specialit\", \"spineless\", \"spineless\", \"spineless\", \"spineless\", \"splurging\", \"splurging\", \"splurging\", \"splurging\", \"splurging\", \"spot\", \"spot\", \"spot\", \"spot\", \"spot\", \"staff\", \"staff\", \"staff\", \"staff\", \"staff\", \"stars\", \"stars\", \"stars\", \"stars\", \"stars\", \"stop\", \"stop\", \"stop\", \"stop\", \"stop\", \"stubborn\", \"stubborn\", \"stubborn\", \"stubborn\", \"stubborn\", \"sunday\", \"sunday\", \"sunday\", \"sunday\", \"sunday\", \"super\", \"super\", \"super\", \"super\", \"super\", \"superdisappointed\", \"superdisappointed\", \"sure\", \"sure\", \"sure\", \"sure\", \"sure\", \"swedish\", \"swedish\", \"swedish\", \"swedish\", \"swedish\", \"sweeping\", \"sweeping\", \"sweeping\", \"sweeping\", \"sweeping\", \"taco\", \"taco\", \"taco\", \"taco\", \"taco\", \"tasha\", \"techniciansthey\", \"texted\", \"texted\", \"texted\", \"texted\", \"texted\", \"thank\", \"thank\", \"thank\", \"thank\", \"thank\", \"things\", \"things\", \"things\", \"things\", \"things\", \"think\", \"think\", \"think\", \"think\", \"think\", \"time\", \"time\", \"time\", \"time\", \"time\", \"tire\", \"tire\", \"tire\", \"tire\", \"tire\", \"tires\", \"tires\", \"tires\", \"tires\", \"tires\", \"toastcouldnt\", \"told\", \"told\", \"told\", \"told\", \"told\", \"tomahawk\", \"tomahawk\", \"tomahawk\", \"tomahawk\", \"tomahawk\", \"took\", \"took\", \"took\", \"took\", \"took\", \"trendy\", \"trendy\", \"trendy\", \"trendy\", \"trendy\", \"tumi\", \"tumi\", \"typical\", \"typical\", \"typical\", \"typical\", \"typical\", \"underrated\", \"underrated\", \"underrated\", \"underrated\", \"underwear\", \"underwear\", \"underwear\", \"underwear\", \"underwear\", \"usually\", \"usually\", \"usually\", \"usually\", \"usually\", \"vegas\", \"vegas\", \"vegas\", \"vegas\", \"vegas\", \"vghvhridd\", \"visited\", \"visited\", \"visited\", \"visited\", \"visited\", \"visiting\", \"visiting\", \"visiting\", \"visiting\", \"visiting\", \"wagyu\", \"wagyu\", \"wagyu\", \"wagyu\", \"wagyu\", \"wait\", \"wait\", \"wait\", \"wait\", \"wait\", \"waiter\", \"waiter\", \"waiter\", \"waiter\", \"waiter\", \"waitif\", \"want\", \"want\", \"want\", \"want\", \"want\", \"wanted\", \"wanted\", \"wanted\", \"wanted\", \"wanted\", \"waterordered\", \"went\", \"went\", \"went\", \"went\", \"went\", \"wilkes\", \"wilkes\", \"wilkes\", \"wilkes\", \"wilkes\", \"wings\", \"wings\", \"wings\", \"wings\", \"wings\", \"wish\", \"wish\", \"wish\", \"wish\", \"wish\", \"wonderful\", \"wonderful\", \"wonderful\", \"wonderful\", \"wonderful\", \"word\", \"word\", \"word\", \"word\", \"word\", \"work\", \"work\", \"work\", \"work\", \"work\", \"working\", \"working\", \"working\", \"working\", \"working\", \"years\", \"years\", \"years\", \"years\", \"years\", \"youre\", \"youre\", \"youre\", \"youre\", \"youre\"]}, \"R\": 30, \"lambda.step\": 0.01, \"plot.opts\": {\"xlab\": \"PC1\", \"ylab\": \"PC2\"}, \"topic.order\": [5, 4, 2, 3, 1]};\n",
       "\n",
       "function LDAvis_load_lib(url, callback){\n",
       "  var s = document.createElement('script');\n",
       "  s.src = url;\n",
       "  s.async = true;\n",
       "  s.onreadystatechange = s.onload = callback;\n",
       "  s.onerror = function(){console.warn(\"failed to load library \" + url);};\n",
       "  document.getElementsByTagName(\"head\")[0].appendChild(s);\n",
       "}\n",
       "\n",
       "if(typeof(LDAvis) !== \"undefined\"){\n",
       "   // already loaded: just create the visualization\n",
       "   !function(LDAvis){\n",
       "       new LDAvis(\"#\" + \"ldavis_el36871399194792217287192352711\", ldavis_el36871399194792217287192352711_data);\n",
       "   }(LDAvis);\n",
       "}else if(typeof define === \"function\" && define.amd){\n",
       "   // require.js is available: use it to load d3/LDAvis\n",
       "   require.config({paths: {d3: \"https://cdnjs.cloudflare.com/ajax/libs/d3/3.5.5/d3.min\"}});\n",
       "   require([\"d3\"], function(d3){\n",
       "      window.d3 = d3;\n",
       "      LDAvis_load_lib(\"https://cdn.rawgit.com/bmabey/pyLDAvis/files/ldavis.v1.0.0.js\", function(){\n",
       "        new LDAvis(\"#\" + \"ldavis_el36871399194792217287192352711\", ldavis_el36871399194792217287192352711_data);\n",
       "      });\n",
       "    });\n",
       "}else{\n",
       "    // require.js not available: dynamically load d3 & LDAvis\n",
       "    LDAvis_load_lib(\"https://cdnjs.cloudflare.com/ajax/libs/d3/3.5.5/d3.min.js\", function(){\n",
       "         LDAvis_load_lib(\"https://cdn.rawgit.com/bmabey/pyLDAvis/files/ldavis.v1.0.0.js\", function(){\n",
       "                 new LDAvis(\"#\" + \"ldavis_el36871399194792217287192352711\", ldavis_el36871399194792217287192352711_data);\n",
       "            })\n",
       "         });\n",
       "}\n",
       "</script>"
      ],
      "text/plain": [
       "PreparedData(topic_coordinates=              x         y  topics  cluster       Freq\n",
       "topic                                                \n",
       "4     -0.001255  0.003242       1        1  20.624641\n",
       "3      0.004679  0.000985       2        1  20.368250\n",
       "1      0.001379 -0.004466       3        1  19.946627\n",
       "2     -0.000306  0.001596       4        1  19.654518\n",
       "0     -0.004498 -0.001357       5        1  19.405973, topic_info=           Term         Freq        Total Category  logprob  loglift\n",
       "125       place  4379.000000  4379.000000  Default  30.0000  30.0000\n",
       "38         good  4217.000000  4217.000000  Default  29.0000  29.0000\n",
       "43      service  3269.000000  3269.000000  Default  28.0000  28.0000\n",
       "332  definitely  1335.000000  1335.000000  Default  27.0000  27.0000\n",
       "44        staff  1439.000000  1439.000000  Default  26.0000  26.0000\n",
       "..          ...          ...          ...      ...      ...      ...\n",
       "605  restaurant   230.980515  1256.061279   Topic5  -5.9159  -0.0538\n",
       "186        dont   275.754730  1787.279663   Topic5  -5.7387  -0.2293\n",
       "443        know   215.253418  1137.309326   Topic5  -5.9864  -0.0250\n",
       "114        best   242.754486  1684.107056   Topic5  -5.8662  -0.2974\n",
       "44        staff   224.231827  1439.041870   Topic5  -5.9455  -0.2195\n",
       "\n",
       "[475 rows x 6 columns], token_table=       Topic      Freq       Term\n",
       "term                             \n",
       "20694      1  0.173581  abordable\n",
       "20694      2  0.173581  abordable\n",
       "20694      3  0.347161  abordable\n",
       "20694      4  0.173581  abordable\n",
       "20694      5  0.173581  abordable\n",
       "...      ...       ...        ...\n",
       "295        1  0.155321      youre\n",
       "295        2  0.203754      youre\n",
       "295        3  0.155321      youre\n",
       "295        4  0.247178      youre\n",
       "295        5  0.237157      youre\n",
       "\n",
       "[1378 rows x 3 columns], R=30, lambda_step=0.01, plot_opts={'xlab': 'PC1', 'ylab': 'PC2'}, topic_order=[5, 4, 2, 3, 1])"
      ]
     },
     "execution_count": 27,
     "metadata": {},
     "output_type": "execute_result"
    }
   ],
   "source": [
    "pyLDAvis.gensim.prepare(lda, corpus, id2word)"
   ]
  },
  {
   "cell_type": "markdown",
   "metadata": {},
   "source": [
    "### So I noticed using the gensim visualization as well as just from topic text that my results seem to correlate around the same kind of words (obviously, but good sign that I did it correctly!) words like good, great, place, service, excellent, etc tend to congregate and seem to have about a ~20% chance of appearing in any given review.\n",
    "\n",
    "### Another thing I noticed is that the word chicken seems to vary wildly as far as placement, but is definitely always in the mix. Everyone loves chicken! I wish I had time for the stretch goals. I could definitely knock one or two of them out. Stupid kernel kept crashing for an hour! And I am out of time. But I loved this unit!"
   ]
  },
  {
   "cell_type": "markdown",
   "metadata": {},
   "source": [
    "## Stretch Goals\n",
    "\n",
    "Complete one of more of these to push your score towards a three: \n",
    "* Incorporate named entity recognition into your analysis\n",
    "* Compare vectorization methods in the classification section\n",
    "* Analyze more (or all) of the yelp dataset - this one is v. hard. \n",
    "* Use a generator object on the reviews file - this would help you with the analyzing the whole dataset.\n",
    "* Incorporate any of the other yelp dataset entities in your analysis (business, users, etc.)"
   ]
  }
 ],
 "metadata": {
  "kernel_info": {
   "name": "u4-s1-nlp"
  },
  "kernelspec": {
   "display_name": "U4-S1-NLP (Python3)",
   "language": "python",
   "name": "u4-s1-nlp"
  },
  "language_info": {
   "codemirror_mode": {
    "name": "ipython",
    "version": 3
   },
   "file_extension": ".py",
   "mimetype": "text/x-python",
   "name": "python",
   "nbconvert_exporter": "python",
   "pygments_lexer": "ipython3",
   "version": "3.7.0"
  },
  "nteract": {
   "version": "0.14.5"
  },
  "toc-autonumbering": false
 },
 "nbformat": 4,
 "nbformat_minor": 4
}
