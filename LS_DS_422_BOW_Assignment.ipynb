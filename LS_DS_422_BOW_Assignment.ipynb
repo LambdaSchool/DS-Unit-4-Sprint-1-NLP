{
 "cells": [
  {
   "cell_type": "code",
   "execution_count": 61,
   "metadata": {
    "colab": {
     "base_uri": "https://localhost:8080/",
     "height": 154
    },
    "colab_type": "code",
    "id": "hyj-f9FDcVFp",
    "outputId": "b0cd28c2-1b5f-4ef8-eb3e-759a874396f4"
   },
   "outputs": [
    {
     "name": "stdout",
     "output_type": "stream",
     "text": [
      "Requirement already up-to-date: nltk in /home/mishraka/anaconda3/lib/python3.6/site-packages (3.4)\n",
      "Requirement already satisfied, skipping upgrade: six in /home/mishraka/anaconda3/lib/python3.6/site-packages (from nltk) (1.12.0)\n",
      "Requirement already satisfied, skipping upgrade: singledispatch in /home/mishraka/anaconda3/lib/python3.6/site-packages (from nltk) (3.4.0.3)\n"
     ]
    },
    {
     "name": "stderr",
     "output_type": "stream",
     "text": [
      "[nltk_data] Downloading package punkt to /home/mishraka/nltk_data...\n",
      "[nltk_data]   Package punkt is already up-to-date!\n",
      "[nltk_data] Downloading package stopwords to\n",
      "[nltk_data]     /home/mishraka/nltk_data...\n",
      "[nltk_data]   Package stopwords is already up-to-date!\n"
     ]
    }
   ],
   "source": [
    "import re\n",
    "import string\n",
    "\n",
    "!pip install -U nltk\n",
    "\n",
    "import nltk\n",
    "nltk.download('punkt')\n",
    "nltk.download('stopwords')\n",
    "from nltk.tokenize import sent_tokenize # Sentence Tokenizer\n",
    "from nltk.tokenize import word_tokenize # Word Tokenizer\n",
    "from nltk.corpus import stopwords\n",
    "from nltk.stem.porter import PorterStemmer\n",
    "from nltk.stem.wordnet import WordNetLemmatizer\n",
    "from nltk.probability import FreqDist\n",
    "\n",
    "from sklearn.feature_extraction.text import CountVectorizer\n",
    "from sklearn.feature_extraction.text import TfidfVectorizer\n",
    "import matplotlib.pyplot as plt\n",
    "import pandas as pd\n",
    "import numpy as np"
   ]
  },
  {
   "cell_type": "markdown",
   "metadata": {
    "colab_type": "text",
    "id": "M7bcmqfGXrFG"
   },
   "source": [
    "# 1) (optional) Scrape 100 Job Listings that contain the title \"Data Scientist\" from indeed.com\n",
    "\n",
    "At a minimum your final dataframe of job listings should contain\n",
    "- Job Title\n",
    "- Job Description"
   ]
  },
  {
   "cell_type": "markdown",
   "metadata": {},
   "source": [
    "## Let's try web scraping"
   ]
  },
  {
   "cell_type": "code",
   "execution_count": 53,
   "metadata": {
    "colab": {},
    "colab_type": "code",
    "id": "KcYlc1URXhlC"
   },
   "outputs": [],
   "source": [
    "url = 'https://raw.githubusercontent.com/LambdaSchool/DS-Unit-4-Sprint-2-NLP/master/module2-Bag-of-Words/job_listings.csv'"
   ]
  },
  {
   "cell_type": "code",
   "execution_count": 67,
   "metadata": {},
   "outputs": [
    {
     "data": {
      "text/html": [
       "<div>\n",
       "<style scoped>\n",
       "    .dataframe tbody tr th:only-of-type {\n",
       "        vertical-align: middle;\n",
       "    }\n",
       "\n",
       "    .dataframe tbody tr th {\n",
       "        vertical-align: top;\n",
       "    }\n",
       "\n",
       "    .dataframe thead th {\n",
       "        text-align: right;\n",
       "    }\n",
       "</style>\n",
       "<table border=\"1\" class=\"dataframe\">\n",
       "  <thead>\n",
       "    <tr style=\"text-align: right;\">\n",
       "      <th></th>\n",
       "      <th>description</th>\n",
       "      <th>title</th>\n",
       "    </tr>\n",
       "  </thead>\n",
       "  <tbody>\n",
       "    <tr>\n",
       "      <th>0</th>\n",
       "      <td>b\"&lt;div&gt;&lt;div&gt;Job Requirements:&lt;/div&gt;&lt;ul&gt;&lt;li&gt;&lt;p&gt;...</td>\n",
       "      <td>Data scientistÂ</td>\n",
       "    </tr>\n",
       "    <tr>\n",
       "      <th>1</th>\n",
       "      <td>b'&lt;div&gt;Job Description&lt;br/&gt;\\n&lt;br/&gt;\\n&lt;p&gt;As a Da...</td>\n",
       "      <td>Data Scientist I</td>\n",
       "    </tr>\n",
       "    <tr>\n",
       "      <th>2</th>\n",
       "      <td>b'&lt;div&gt;&lt;p&gt;As a Data Scientist you will be work...</td>\n",
       "      <td>Data Scientist - Entry Level</td>\n",
       "    </tr>\n",
       "    <tr>\n",
       "      <th>3</th>\n",
       "      <td>b'&lt;div class=\"jobsearch-JobMetadataHeader icl-...</td>\n",
       "      <td>Data Scientist</td>\n",
       "    </tr>\n",
       "    <tr>\n",
       "      <th>4</th>\n",
       "      <td>b'&lt;ul&gt;&lt;li&gt;Location: USA \\xe2\\x80\\x93 multiple ...</td>\n",
       "      <td>Data Scientist</td>\n",
       "    </tr>\n",
       "  </tbody>\n",
       "</table>\n",
       "</div>"
      ],
      "text/plain": [
       "                                         description  \\\n",
       "0  b\"<div><div>Job Requirements:</div><ul><li><p>...   \n",
       "1  b'<div>Job Description<br/>\\n<br/>\\n<p>As a Da...   \n",
       "2  b'<div><p>As a Data Scientist you will be work...   \n",
       "3  b'<div class=\"jobsearch-JobMetadataHeader icl-...   \n",
       "4  b'<ul><li>Location: USA \\xe2\\x80\\x93 multiple ...   \n",
       "\n",
       "                          title  \n",
       "0              Data scientistÂ   \n",
       "1              Data Scientist I  \n",
       "2  Data Scientist - Entry Level  \n",
       "3                Data Scientist  \n",
       "4                Data Scientist  "
      ]
     },
     "execution_count": 67,
     "metadata": {},
     "output_type": "execute_result"
    }
   ],
   "source": [
    "df = pd.read_csv(url,encoding=\"ISO-8859-1\", index_col=['Unnamed: 0'])\n",
    "df.head()"
   ]
  },
  {
   "cell_type": "markdown",
   "metadata": {
    "colab_type": "text",
    "id": "5C4xFZNtX1m2"
   },
   "source": [
    "# 2) Use NLTK to tokenize / clean the listings "
   ]
  },
  {
   "cell_type": "code",
   "execution_count": 68,
   "metadata": {
    "colab": {},
    "colab_type": "code",
    "id": "dhUHuMr-X-II"
   },
   "outputs": [],
   "source": [
    "df['description'] = df['description'].apply(lambda x: re.sub('^b[\\'|\"]', '', x))\n",
    "df['description'] = df['description'].apply(lambda x: re.sub('.[\\'|\"]', '', x))\n",
    "df['description'] = df['description'].apply(lambda x: re.sub('<.*?>', '', x))"
   ]
  },
  {
   "cell_type": "code",
   "execution_count": 69,
   "metadata": {},
   "outputs": [
    {
     "data": {
      "text/plain": [
       "0    Job Requirements:\\nConceptual understanding in...\n",
       "1    Job Description\\n\\nAs a Data Scientist 1, you ...\n",
       "2    As a Data Scientist you will be working on con...\n",
       "3    $4,969 - $6,756 a monthContractUnder the gener...\n",
       "4    Location: USA \\xe2\\x80\\x93 multiple locations\\...\n",
       "Name: description, dtype: object"
      ]
     },
     "execution_count": 69,
     "metadata": {},
     "output_type": "execute_result"
    }
   ],
   "source": [
    "df['description'].head()"
   ]
  },
  {
   "cell_type": "code",
   "execution_count": 70,
   "metadata": {},
   "outputs": [],
   "source": [
    "table = str.maketrans('', '', string.punctuation)\n",
    "stop_words = set(stopwords.words('english'))\n",
    "\n",
    "def nltk_tokenize(input):\n",
    "  \n",
    "  # Tokenize by word\n",
    "    tokens = word_tokenize(input)\n",
    "  #print(\"Tokens:\", tokens)\n",
    "  # Make all words lowercase\n",
    "    lowercase_tokens = [w.lower() for w in tokens]\n",
    "  #print(\"Lowercase:\", lowercase_tokens)\n",
    "  # Strip punctuation from within words\n",
    "    no_punctuation = [x.translate(table) for x in lowercase_tokens]\n",
    "  #print(\"No Punctuation:\", no_punctuation)\n",
    "  # Remove words that aren't alphabetic\n",
    "    alphabetic = [word for word in no_punctuation if word.isalpha()]\n",
    "  #print(\"Alphabetic:\", alphabetic)\n",
    "  # Remove stopwords\n",
    "    words = [w for w in alphabetic if not w in stop_words]\n",
    "  #print(\"Cleaned Words:\", words)\n",
    "  #print(\"--------------------------------\")\n",
    "  # Append to list\n",
    "  return words\n",
    "    "
   ]
  },
  {
   "cell_type": "code",
   "execution_count": 71,
   "metadata": {},
   "outputs": [],
   "source": [
    "df['description_cleaned'] = df['description'].apply(nltk_tokenize)\n",
    "df['title_cleaned'] = df['title'].apply(nltk_tokenize)"
   ]
  },
  {
   "cell_type": "code",
   "execution_count": 72,
   "metadata": {},
   "outputs": [
    {
     "data": {
      "text/html": [
       "<div>\n",
       "<style scoped>\n",
       "    .dataframe tbody tr th:only-of-type {\n",
       "        vertical-align: middle;\n",
       "    }\n",
       "\n",
       "    .dataframe tbody tr th {\n",
       "        vertical-align: top;\n",
       "    }\n",
       "\n",
       "    .dataframe thead th {\n",
       "        text-align: right;\n",
       "    }\n",
       "</style>\n",
       "<table border=\"1\" class=\"dataframe\">\n",
       "  <thead>\n",
       "    <tr style=\"text-align: right;\">\n",
       "      <th></th>\n",
       "      <th>description</th>\n",
       "      <th>title</th>\n",
       "      <th>description_cleaned</th>\n",
       "      <th>title_cleaned</th>\n",
       "    </tr>\n",
       "  </thead>\n",
       "  <tbody>\n",
       "    <tr>\n",
       "      <th>0</th>\n",
       "      <td>Job Requirements:\\nConceptual understanding in...</td>\n",
       "      <td>Data scientistÂ</td>\n",
       "      <td>[job, requirements, nconceptual, understanding...</td>\n",
       "      <td>[data, scientistâ]</td>\n",
       "    </tr>\n",
       "    <tr>\n",
       "      <th>1</th>\n",
       "      <td>Job Description\\n\\nAs a Data Scientist 1, you ...</td>\n",
       "      <td>Data Scientist I</td>\n",
       "      <td>[job, descriptionnnas, data, scientist, help, ...</td>\n",
       "      <td>[data, scientist]</td>\n",
       "    </tr>\n",
       "    <tr>\n",
       "      <th>2</th>\n",
       "      <td>As a Data Scientist you will be working on con...</td>\n",
       "      <td>Data Scientist - Entry Level</td>\n",
       "      <td>[data, scientist, working, consulting, side, b...</td>\n",
       "      <td>[data, scientist, entry, level]</td>\n",
       "    </tr>\n",
       "    <tr>\n",
       "      <th>3</th>\n",
       "      <td>$4,969 - $6,756 a monthContractUnder the gener...</td>\n",
       "      <td>Data Scientist</td>\n",
       "      <td>[monthcontractunder, general, supervision, pro...</td>\n",
       "      <td>[data, scientist]</td>\n",
       "    </tr>\n",
       "    <tr>\n",
       "      <th>4</th>\n",
       "      <td>Location: USA \\xe2\\x80\\x93 multiple locations\\...</td>\n",
       "      <td>Data Scientist</td>\n",
       "      <td>[location, usa, multiple, years, analytics, ex...</td>\n",
       "      <td>[data, scientist]</td>\n",
       "    </tr>\n",
       "  </tbody>\n",
       "</table>\n",
       "</div>"
      ],
      "text/plain": [
       "                                         description  \\\n",
       "0  Job Requirements:\\nConceptual understanding in...   \n",
       "1  Job Description\\n\\nAs a Data Scientist 1, you ...   \n",
       "2  As a Data Scientist you will be working on con...   \n",
       "3  $4,969 - $6,756 a monthContractUnder the gener...   \n",
       "4  Location: USA \\xe2\\x80\\x93 multiple locations\\...   \n",
       "\n",
       "                          title  \\\n",
       "0              Data scientistÂ    \n",
       "1              Data Scientist I   \n",
       "2  Data Scientist - Entry Level   \n",
       "3                Data Scientist   \n",
       "4                Data Scientist   \n",
       "\n",
       "                                 description_cleaned  \\\n",
       "0  [job, requirements, nconceptual, understanding...   \n",
       "1  [job, descriptionnnas, data, scientist, help, ...   \n",
       "2  [data, scientist, working, consulting, side, b...   \n",
       "3  [monthcontractunder, general, supervision, pro...   \n",
       "4  [location, usa, multiple, years, analytics, ex...   \n",
       "\n",
       "                     title_cleaned  \n",
       "0               [data, scientistâ]  \n",
       "1                [data, scientist]  \n",
       "2  [data, scientist, entry, level]  \n",
       "3                [data, scientist]  \n",
       "4                [data, scientist]  "
      ]
     },
     "execution_count": 72,
     "metadata": {},
     "output_type": "execute_result"
    }
   ],
   "source": [
    "df.head()"
   ]
  },
  {
   "cell_type": "code",
   "execution_count": 73,
   "metadata": {},
   "outputs": [
    {
     "data": {
      "text/plain": [
       "Index(['description', 'title', 'description_cleaned', 'title_cleaned'], dtype='object')"
      ]
     },
     "execution_count": 73,
     "metadata": {},
     "output_type": "execute_result"
    }
   ],
   "source": [
    "df.columns"
   ]
  },
  {
   "cell_type": "markdown",
   "metadata": {
    "colab_type": "text",
    "id": "-lgCZNL_YycP"
   },
   "source": [
    "# 3) Use Scikit-Learn's CountVectorizer to get word counts for each listing."
   ]
  },
  {
   "cell_type": "code",
   "execution_count": 79,
   "metadata": {},
   "outputs": [],
   "source": [
    "description_vector = []\n",
    "\n",
    "for i in df['description_cleaned']:\n",
    "    new_description = \" \".join(i)\n",
    "    description_vector.append(new_description)\n",
    "    \n",
    "df['description_vector'] = description_vector"
   ]
  },
  {
   "cell_type": "code",
   "execution_count": 80,
   "metadata": {
    "colab": {},
    "colab_type": "code",
    "id": "X2PZ8Pj_YxcF"
   },
   "outputs": [],
   "source": [
    "title_vector = []\n",
    "for i in df['title_cleaned']:\n",
    "    new_title = \" \".join(i)\n",
    "    title_vector.append(new_title)\n",
    "    \n",
    "df['title_vector'] = title_vector"
   ]
  },
  {
   "cell_type": "code",
   "execution_count": 81,
   "metadata": {},
   "outputs": [
    {
     "data": {
      "text/html": [
       "<div>\n",
       "<style scoped>\n",
       "    .dataframe tbody tr th:only-of-type {\n",
       "        vertical-align: middle;\n",
       "    }\n",
       "\n",
       "    .dataframe tbody tr th {\n",
       "        vertical-align: top;\n",
       "    }\n",
       "\n",
       "    .dataframe thead th {\n",
       "        text-align: right;\n",
       "    }\n",
       "</style>\n",
       "<table border=\"1\" class=\"dataframe\">\n",
       "  <thead>\n",
       "    <tr style=\"text-align: right;\">\n",
       "      <th></th>\n",
       "      <th>description</th>\n",
       "      <th>title</th>\n",
       "      <th>description_cleaned</th>\n",
       "      <th>title_cleaned</th>\n",
       "      <th>description_vector</th>\n",
       "      <th>title_vector</th>\n",
       "    </tr>\n",
       "  </thead>\n",
       "  <tbody>\n",
       "    <tr>\n",
       "      <th>0</th>\n",
       "      <td>Job Requirements:\\nConceptual understanding in...</td>\n",
       "      <td>Data scientistÂ</td>\n",
       "      <td>[job, requirements, nconceptual, understanding...</td>\n",
       "      <td>[data, scientistâ]</td>\n",
       "      <td>job requirements nconceptual understanding mac...</td>\n",
       "      <td>data scientistâ</td>\n",
       "    </tr>\n",
       "    <tr>\n",
       "      <th>1</th>\n",
       "      <td>Job Description\\n\\nAs a Data Scientist 1, you ...</td>\n",
       "      <td>Data Scientist I</td>\n",
       "      <td>[job, descriptionnnas, data, scientist, help, ...</td>\n",
       "      <td>[data, scientist]</td>\n",
       "      <td>job descriptionnnas data scientist help us bui...</td>\n",
       "      <td>data scientist</td>\n",
       "    </tr>\n",
       "    <tr>\n",
       "      <th>2</th>\n",
       "      <td>As a Data Scientist you will be working on con...</td>\n",
       "      <td>Data Scientist - Entry Level</td>\n",
       "      <td>[data, scientist, working, consulting, side, b...</td>\n",
       "      <td>[data, scientist, entry, level]</td>\n",
       "      <td>data scientist working consulting side busines...</td>\n",
       "      <td>data scientist entry level</td>\n",
       "    </tr>\n",
       "    <tr>\n",
       "      <th>3</th>\n",
       "      <td>$4,969 - $6,756 a monthContractUnder the gener...</td>\n",
       "      <td>Data Scientist</td>\n",
       "      <td>[monthcontractunder, general, supervision, pro...</td>\n",
       "      <td>[data, scientist]</td>\n",
       "      <td>monthcontractunder general supervision profess...</td>\n",
       "      <td>data scientist</td>\n",
       "    </tr>\n",
       "    <tr>\n",
       "      <th>4</th>\n",
       "      <td>Location: USA \\xe2\\x80\\x93 multiple locations\\...</td>\n",
       "      <td>Data Scientist</td>\n",
       "      <td>[location, usa, multiple, years, analytics, ex...</td>\n",
       "      <td>[data, scientist]</td>\n",
       "      <td>location usa multiple years analytics experien...</td>\n",
       "      <td>data scientist</td>\n",
       "    </tr>\n",
       "  </tbody>\n",
       "</table>\n",
       "</div>"
      ],
      "text/plain": [
       "                                         description  \\\n",
       "0  Job Requirements:\\nConceptual understanding in...   \n",
       "1  Job Description\\n\\nAs a Data Scientist 1, you ...   \n",
       "2  As a Data Scientist you will be working on con...   \n",
       "3  $4,969 - $6,756 a monthContractUnder the gener...   \n",
       "4  Location: USA \\xe2\\x80\\x93 multiple locations\\...   \n",
       "\n",
       "                          title  \\\n",
       "0              Data scientistÂ    \n",
       "1              Data Scientist I   \n",
       "2  Data Scientist - Entry Level   \n",
       "3                Data Scientist   \n",
       "4                Data Scientist   \n",
       "\n",
       "                                 description_cleaned  \\\n",
       "0  [job, requirements, nconceptual, understanding...   \n",
       "1  [job, descriptionnnas, data, scientist, help, ...   \n",
       "2  [data, scientist, working, consulting, side, b...   \n",
       "3  [monthcontractunder, general, supervision, pro...   \n",
       "4  [location, usa, multiple, years, analytics, ex...   \n",
       "\n",
       "                     title_cleaned  \\\n",
       "0               [data, scientistâ]   \n",
       "1                [data, scientist]   \n",
       "2  [data, scientist, entry, level]   \n",
       "3                [data, scientist]   \n",
       "4                [data, scientist]   \n",
       "\n",
       "                                  description_vector  \\\n",
       "0  job requirements nconceptual understanding mac...   \n",
       "1  job descriptionnnas data scientist help us bui...   \n",
       "2  data scientist working consulting side busines...   \n",
       "3  monthcontractunder general supervision profess...   \n",
       "4  location usa multiple years analytics experien...   \n",
       "\n",
       "                 title_vector  \n",
       "0             data scientistâ  \n",
       "1              data scientist  \n",
       "2  data scientist entry level  \n",
       "3              data scientist  \n",
       "4              data scientist  "
      ]
     },
     "execution_count": 81,
     "metadata": {},
     "output_type": "execute_result"
    }
   ],
   "source": [
    "df.head()"
   ]
  },
  {
   "cell_type": "code",
   "execution_count": 88,
   "metadata": {},
   "outputs": [
    {
     "name": "stdout",
     "output_type": "stream",
     "text": [
      "[[0 0 0 ... 0 0 0]\n",
      " [0 0 0 ... 0 0 0]\n",
      " [0 0 0 ... 0 0 0]\n",
      " ...\n",
      " [0 0 0 ... 0 0 0]\n",
      " [0 0 0 ... 0 0 0]\n",
      " [0 0 0 ... 0 0 0]]\n"
     ]
    }
   ],
   "source": [
    "vectorizer = CountVectorizer()\n",
    "bag_of_words = vectorizer.fit_transform(df['description_vector'])\n",
    "print(bag_of_words.toarray())"
   ]
  },
  {
   "cell_type": "code",
   "execution_count": 89,
   "metadata": {},
   "outputs": [],
   "source": [
    "feature_names = vectorizer.get_feature_names()"
   ]
  },
  {
   "cell_type": "code",
   "execution_count": 91,
   "metadata": {},
   "outputs": [
    {
     "data": {
      "text/html": [
       "<div>\n",
       "<style scoped>\n",
       "    .dataframe tbody tr th:only-of-type {\n",
       "        vertical-align: middle;\n",
       "    }\n",
       "\n",
       "    .dataframe tbody tr th {\n",
       "        vertical-align: top;\n",
       "    }\n",
       "\n",
       "    .dataframe thead th {\n",
       "        text-align: right;\n",
       "    }\n",
       "</style>\n",
       "<table border=\"1\" class=\"dataframe\">\n",
       "  <thead>\n",
       "    <tr style=\"text-align: right;\">\n",
       "      <th></th>\n",
       "      <th>aaai</th>\n",
       "      <th>aaeeo</th>\n",
       "      <th>ab</th>\n",
       "      <th>abernathy</th>\n",
       "      <th>abest</th>\n",
       "      <th>abig</th>\n",
       "      <th>abilities</th>\n",
       "      <th>abilitiesnability</th>\n",
       "      <th>abilitiesndevelops</th>\n",
       "      <th>abilitiesnexperience</th>\n",
       "      <th>...</th>\n",
       "      <th>zero</th>\n",
       "      <th>zeus</th>\n",
       "      <th>zf</th>\n",
       "      <th>zheng</th>\n",
       "      <th>zillow</th>\n",
       "      <th>zillows</th>\n",
       "      <th>zonesnability</th>\n",
       "      <th>zoom</th>\n",
       "      <th>zuckerberg</th>\n",
       "      <th>zurich</th>\n",
       "    </tr>\n",
       "  </thead>\n",
       "  <tbody>\n",
       "    <tr>\n",
       "      <th>0</th>\n",
       "      <td>0</td>\n",
       "      <td>0</td>\n",
       "      <td>0</td>\n",
       "      <td>0</td>\n",
       "      <td>0</td>\n",
       "      <td>0</td>\n",
       "      <td>0</td>\n",
       "      <td>0</td>\n",
       "      <td>0</td>\n",
       "      <td>0</td>\n",
       "      <td>...</td>\n",
       "      <td>0</td>\n",
       "      <td>0</td>\n",
       "      <td>0</td>\n",
       "      <td>0</td>\n",
       "      <td>0</td>\n",
       "      <td>0</td>\n",
       "      <td>0</td>\n",
       "      <td>0</td>\n",
       "      <td>0</td>\n",
       "      <td>0</td>\n",
       "    </tr>\n",
       "    <tr>\n",
       "      <th>1</th>\n",
       "      <td>0</td>\n",
       "      <td>0</td>\n",
       "      <td>0</td>\n",
       "      <td>0</td>\n",
       "      <td>0</td>\n",
       "      <td>0</td>\n",
       "      <td>0</td>\n",
       "      <td>0</td>\n",
       "      <td>0</td>\n",
       "      <td>0</td>\n",
       "      <td>...</td>\n",
       "      <td>0</td>\n",
       "      <td>0</td>\n",
       "      <td>0</td>\n",
       "      <td>0</td>\n",
       "      <td>0</td>\n",
       "      <td>0</td>\n",
       "      <td>0</td>\n",
       "      <td>0</td>\n",
       "      <td>0</td>\n",
       "      <td>0</td>\n",
       "    </tr>\n",
       "    <tr>\n",
       "      <th>2</th>\n",
       "      <td>0</td>\n",
       "      <td>0</td>\n",
       "      <td>0</td>\n",
       "      <td>0</td>\n",
       "      <td>0</td>\n",
       "      <td>0</td>\n",
       "      <td>0</td>\n",
       "      <td>0</td>\n",
       "      <td>0</td>\n",
       "      <td>0</td>\n",
       "      <td>...</td>\n",
       "      <td>0</td>\n",
       "      <td>0</td>\n",
       "      <td>0</td>\n",
       "      <td>0</td>\n",
       "      <td>0</td>\n",
       "      <td>0</td>\n",
       "      <td>0</td>\n",
       "      <td>0</td>\n",
       "      <td>0</td>\n",
       "      <td>0</td>\n",
       "    </tr>\n",
       "    <tr>\n",
       "      <th>3</th>\n",
       "      <td>0</td>\n",
       "      <td>0</td>\n",
       "      <td>0</td>\n",
       "      <td>0</td>\n",
       "      <td>0</td>\n",
       "      <td>0</td>\n",
       "      <td>0</td>\n",
       "      <td>0</td>\n",
       "      <td>0</td>\n",
       "      <td>0</td>\n",
       "      <td>...</td>\n",
       "      <td>0</td>\n",
       "      <td>0</td>\n",
       "      <td>0</td>\n",
       "      <td>1</td>\n",
       "      <td>0</td>\n",
       "      <td>0</td>\n",
       "      <td>0</td>\n",
       "      <td>0</td>\n",
       "      <td>0</td>\n",
       "      <td>0</td>\n",
       "    </tr>\n",
       "    <tr>\n",
       "      <th>4</th>\n",
       "      <td>0</td>\n",
       "      <td>0</td>\n",
       "      <td>0</td>\n",
       "      <td>0</td>\n",
       "      <td>0</td>\n",
       "      <td>0</td>\n",
       "      <td>0</td>\n",
       "      <td>0</td>\n",
       "      <td>0</td>\n",
       "      <td>0</td>\n",
       "      <td>...</td>\n",
       "      <td>0</td>\n",
       "      <td>0</td>\n",
       "      <td>0</td>\n",
       "      <td>0</td>\n",
       "      <td>0</td>\n",
       "      <td>0</td>\n",
       "      <td>0</td>\n",
       "      <td>0</td>\n",
       "      <td>0</td>\n",
       "      <td>0</td>\n",
       "    </tr>\n",
       "  </tbody>\n",
       "</table>\n",
       "<p>5 rows × 15260 columns</p>\n",
       "</div>"
      ],
      "text/plain": [
       "   aaai  aaeeo  ab  abernathy  abest  abig  abilities  abilitiesnability  \\\n",
       "0     0      0   0          0      0     0          0                  0   \n",
       "1     0      0   0          0      0     0          0                  0   \n",
       "2     0      0   0          0      0     0          0                  0   \n",
       "3     0      0   0          0      0     0          0                  0   \n",
       "4     0      0   0          0      0     0          0                  0   \n",
       "\n",
       "   abilitiesndevelops  abilitiesnexperience  ...  zero  zeus  zf  zheng  \\\n",
       "0                   0                     0  ...     0     0   0      0   \n",
       "1                   0                     0  ...     0     0   0      0   \n",
       "2                   0                     0  ...     0     0   0      0   \n",
       "3                   0                     0  ...     0     0   0      1   \n",
       "4                   0                     0  ...     0     0   0      0   \n",
       "\n",
       "   zillow  zillows  zonesnability  zoom  zuckerberg  zurich  \n",
       "0       0        0              0     0           0       0  \n",
       "1       0        0              0     0           0       0  \n",
       "2       0        0              0     0           0       0  \n",
       "3       0        0              0     0           0       0  \n",
       "4       0        0              0     0           0       0  \n",
       "\n",
       "[5 rows x 15260 columns]"
      ]
     },
     "execution_count": 91,
     "metadata": {},
     "output_type": "execute_result"
    }
   ],
   "source": [
    "import pandas as pd\n",
    "description_vector = pd.DataFrame(bag_of_words.toarray(), columns=feature_names)\n",
    "description_vector.head()"
   ]
  },
  {
   "cell_type": "code",
   "execution_count": null,
   "metadata": {},
   "outputs": [],
   "source": []
  },
  {
   "cell_type": "markdown",
   "metadata": {
    "colab_type": "text",
    "id": "Zo1iH_UeY7_n"
   },
   "source": [
    "# 4) Visualize the most common word counts"
   ]
  },
  {
   "cell_type": "code",
   "execution_count": 93,
   "metadata": {
    "colab": {},
    "colab_type": "code",
    "id": "M5LB00uyZKV5"
   },
   "outputs": [
    {
     "name": "stdout",
     "output_type": "stream",
     "text": [
      "<FreqDist with 67 samples and 74 outcomes>\n"
     ]
    },
    {
     "data": {
      "text/plain": [
       "[('data', 3),\n",
       " ('business', 3),\n",
       " ('scientist', 2),\n",
       " ('models', 2),\n",
       " ('math', 2),\n",
       " ('working', 1),\n",
       " ('consulting', 1),\n",
       " ('side', 1),\n",
       " ('responsible', 1),\n",
       " ('analyzing', 1),\n",
       " ('large', 1),\n",
       " ('complex', 1),\n",
       " ('datasets', 1),\n",
       " ('identify', 1),\n",
       " ('meaningful', 1),\n",
       " ('patterns', 1),\n",
       " ('lead', 1),\n",
       " ('actionable', 1),\n",
       " ('recommendations', 1),\n",
       " ('performing', 1)]"
      ]
     },
     "execution_count": 93,
     "metadata": {},
     "output_type": "execute_result"
    }
   ],
   "source": [
    "from nltk.probability import FreqDist\n",
    "\n",
    "fdist = FreqDist(df['description_cleaned'][2])\n",
    "print(fdist)\n",
    "\n",
    "fdist.most_common(20)"
   ]
  },
  {
   "cell_type": "code",
   "execution_count": 94,
   "metadata": {},
   "outputs": [
    {
     "data": {
      "image/png": "[encoded data removed]",
      "text/plain": [
       "<Figure size 432x288 with 1 Axes>"
      ]
     },
     "metadata": {
      "needs_background": "light"
     },
     "output_type": "display_data"
    }
   ],
   "source": [
    "import matplotlib.pyplot as plt\n",
    "fdist.plot(30, cumulative=False)\n",
    "plt.show()"
   ]
  },
  {
   "cell_type": "code",
   "execution_count": 96,
   "metadata": {},
   "outputs": [
    {
     "name": "stdout",
     "output_type": "stream",
     "text": [
      "128372 ['job', 'requirements', 'nconceptual', 'understanding', 'machine', 'learning', 'models', 'like', 'bayes', 'kmeans', 'svm', 'apriori', 'linear', 'logistic', 'regression', 'neural', 'random', 'forests', 'decision', 'trees', 'knn', 'along', 'handson', 'experience', 'least', 'themnintermediate', 'expert', 'level', 'coding', 'skills', 'pythonr', 'ability', 'write', 'functions', 'clean', 'efficient', 'data', 'manipulation', 'mandatory', 'role', 'nexposure', 'packages', 'like', 'numpy', 'scipy', 'pandas', 'matplotlib', 'etc', 'python', 'dplyr', 'tidyr', 'rnability', 'communicate', 'model', 'findings', 'technical', 'nontechnical', 'stake', 'holdersnhands', 'experience', 'sqlhive', 'similar', 'programming', 'languagenmust', 'show', 'past', 'work', 'via', 'github', 'kaggle', 'published', 'articlenmastes', 'degree', 'statisticsmathematicscomputer', 'science', 'quant', 'specific', 'fieldnapply', 'div', 'job', 'descriptionnnas', 'data', 'scientist', 'help', 'us', 'build', 'machine', 'learning', 'models', 'data', 'pipelines', 'microservices', 'help', 'clients', 'navigate', 'healthcare', 'journey', 'empowering', 'improving', 'next']\n"
     ]
    }
   ],
   "source": [
    "all_the_words = []\n",
    "\n",
    "for row in df['description_cleaned']:\n",
    "    for word in row:\n",
    "        all_the_words.append(word)\n",
    "        \n",
    "print(len(all_the_words), all_the_words[:100])\n"
   ]
  },
  {
   "cell_type": "code",
   "execution_count": 97,
   "metadata": {},
   "outputs": [
    {
     "name": "stdout",
     "output_type": "stream",
     "text": [
      "<FreqDist with 15272 samples and 128372 outcomes>\n"
     ]
    },
    {
     "data": {
      "text/plain": [
       "[('data', 4037),\n",
       " ('business', 1094),\n",
       " ('experience', 1045),\n",
       " ('work', 930),\n",
       " ('science', 884),\n",
       " ('team', 869),\n",
       " ('learning', 843),\n",
       " ('machine', 667),\n",
       " ('analytics', 647),\n",
       " ('analysis', 581),\n",
       " ('statistical', 551),\n",
       " ('product', 547),\n",
       " ('new', 523),\n",
       " ('models', 522),\n",
       " ('skills', 468),\n",
       " ('scientist', 462),\n",
       " ('help', 435),\n",
       " ('solutions', 432),\n",
       " ('using', 418),\n",
       " ('insights', 402),\n",
       " ('working', 395),\n",
       " ('engineering', 387),\n",
       " ('years', 382),\n",
       " ('technical', 375),\n",
       " ('tools', 371),\n",
       " ('including', 370),\n",
       " ('development', 367),\n",
       " ('modeling', 367),\n",
       " ('python', 366),\n",
       " ('statistics', 346),\n",
       " ('opportunity', 342),\n",
       " ('analytical', 338),\n",
       " ('technology', 333),\n",
       " ('research', 332),\n",
       " ('teams', 331),\n",
       " ('amp', 329),\n",
       " ('degree', 327),\n",
       " ('across', 324),\n",
       " ('techniques', 314),\n",
       " ('ability', 313),\n",
       " ('people', 313),\n",
       " ('advanced', 312),\n",
       " ('knowledge', 310),\n",
       " ('company', 309),\n",
       " ('r', 308),\n",
       " ('us', 305),\n",
       " ('computer', 305),\n",
       " ('building', 302),\n",
       " ('support', 292),\n",
       " ('large', 291)]"
      ]
     },
     "execution_count": 97,
     "metadata": {},
     "output_type": "execute_result"
    }
   ],
   "source": [
    "fdist = FreqDist(all_the_words)\n",
    "print(fdist)\n",
    "fdist.most_common(50)"
   ]
  },
  {
   "cell_type": "code",
   "execution_count": 98,
   "metadata": {},
   "outputs": [
    {
     "data": {
      "image/png": "[encoded data removed]",
      "text/plain": [
       "<Figure size 432x288 with 1 Axes>"
      ]
     },
     "metadata": {
      "needs_background": "light"
     },
     "output_type": "display_data"
    }
   ],
   "source": [
    "import matplotlib.pyplot as plt \n",
    "fdist.plot(50, cumulative=False)\n",
    "\n",
    "plt.show()"
   ]
  },
  {
   "cell_type": "markdown",
   "metadata": {
    "colab_type": "text",
    "id": "bwFsTqrVZMYi"
   },
   "source": [
    " # 5) Use Scikit-Learn's tfidfVectorizer to get a TF-IDF feature matrix"
   ]
  },
  {
   "cell_type": "code",
   "execution_count": 100,
   "metadata": {},
   "outputs": [
    {
     "data": {
      "text/html": [
       "<div>\n",
       "<style scoped>\n",
       "    .dataframe tbody tr th:only-of-type {\n",
       "        vertical-align: middle;\n",
       "    }\n",
       "\n",
       "    .dataframe tbody tr th {\n",
       "        vertical-align: top;\n",
       "    }\n",
       "\n",
       "    .dataframe thead th {\n",
       "        text-align: right;\n",
       "    }\n",
       "</style>\n",
       "<table border=\"1\" class=\"dataframe\">\n",
       "  <thead>\n",
       "    <tr style=\"text-align: right;\">\n",
       "      <th></th>\n",
       "      <th>description</th>\n",
       "      <th>title</th>\n",
       "      <th>description_cleaned</th>\n",
       "      <th>title_cleaned</th>\n",
       "      <th>description_vector</th>\n",
       "      <th>title_vector</th>\n",
       "    </tr>\n",
       "  </thead>\n",
       "  <tbody>\n",
       "    <tr>\n",
       "      <th>0</th>\n",
       "      <td>Job Requirements:\\nConceptual understanding in...</td>\n",
       "      <td>Data scientistÂ</td>\n",
       "      <td>[job, requirements, nconceptual, understanding...</td>\n",
       "      <td>[data, scientistâ]</td>\n",
       "      <td>job requirements nconceptual understanding mac...</td>\n",
       "      <td>data scientistâ</td>\n",
       "    </tr>\n",
       "    <tr>\n",
       "      <th>1</th>\n",
       "      <td>Job Description\\n\\nAs a Data Scientist 1, you ...</td>\n",
       "      <td>Data Scientist I</td>\n",
       "      <td>[job, descriptionnnas, data, scientist, help, ...</td>\n",
       "      <td>[data, scientist]</td>\n",
       "      <td>job descriptionnnas data scientist help us bui...</td>\n",
       "      <td>data scientist</td>\n",
       "    </tr>\n",
       "    <tr>\n",
       "      <th>2</th>\n",
       "      <td>As a Data Scientist you will be working on con...</td>\n",
       "      <td>Data Scientist - Entry Level</td>\n",
       "      <td>[data, scientist, working, consulting, side, b...</td>\n",
       "      <td>[data, scientist, entry, level]</td>\n",
       "      <td>data scientist working consulting side busines...</td>\n",
       "      <td>data scientist entry level</td>\n",
       "    </tr>\n",
       "    <tr>\n",
       "      <th>3</th>\n",
       "      <td>$4,969 - $6,756 a monthContractUnder the gener...</td>\n",
       "      <td>Data Scientist</td>\n",
       "      <td>[monthcontractunder, general, supervision, pro...</td>\n",
       "      <td>[data, scientist]</td>\n",
       "      <td>monthcontractunder general supervision profess...</td>\n",
       "      <td>data scientist</td>\n",
       "    </tr>\n",
       "    <tr>\n",
       "      <th>4</th>\n",
       "      <td>Location: USA \\xe2\\x80\\x93 multiple locations\\...</td>\n",
       "      <td>Data Scientist</td>\n",
       "      <td>[location, usa, multiple, years, analytics, ex...</td>\n",
       "      <td>[data, scientist]</td>\n",
       "      <td>location usa multiple years analytics experien...</td>\n",
       "      <td>data scientist</td>\n",
       "    </tr>\n",
       "  </tbody>\n",
       "</table>\n",
       "</div>"
      ],
      "text/plain": [
       "                                         description  \\\n",
       "0  Job Requirements:\\nConceptual understanding in...   \n",
       "1  Job Description\\n\\nAs a Data Scientist 1, you ...   \n",
       "2  As a Data Scientist you will be working on con...   \n",
       "3  $4,969 - $6,756 a monthContractUnder the gener...   \n",
       "4  Location: USA \\xe2\\x80\\x93 multiple locations\\...   \n",
       "\n",
       "                          title  \\\n",
       "0              Data scientistÂ    \n",
       "1              Data Scientist I   \n",
       "2  Data Scientist - Entry Level   \n",
       "3                Data Scientist   \n",
       "4                Data Scientist   \n",
       "\n",
       "                                 description_cleaned  \\\n",
       "0  [job, requirements, nconceptual, understanding...   \n",
       "1  [job, descriptionnnas, data, scientist, help, ...   \n",
       "2  [data, scientist, working, consulting, side, b...   \n",
       "3  [monthcontractunder, general, supervision, pro...   \n",
       "4  [location, usa, multiple, years, analytics, ex...   \n",
       "\n",
       "                     title_cleaned  \\\n",
       "0               [data, scientistâ]   \n",
       "1                [data, scientist]   \n",
       "2  [data, scientist, entry, level]   \n",
       "3                [data, scientist]   \n",
       "4                [data, scientist]   \n",
       "\n",
       "                                  description_vector  \\\n",
       "0  job requirements nconceptual understanding mac...   \n",
       "1  job descriptionnnas data scientist help us bui...   \n",
       "2  data scientist working consulting side busines...   \n",
       "3  monthcontractunder general supervision profess...   \n",
       "4  location usa multiple years analytics experien...   \n",
       "\n",
       "                 title_vector  \n",
       "0             data scientistâ  \n",
       "1              data scientist  \n",
       "2  data scientist entry level  \n",
       "3              data scientist  \n",
       "4              data scientist  "
      ]
     },
     "execution_count": 100,
     "metadata": {},
     "output_type": "execute_result"
    }
   ],
   "source": [
    "df.head()"
   ]
  },
  {
   "cell_type": "code",
   "execution_count": 101,
   "metadata": {
    "colab": {},
    "colab_type": "code",
    "id": "-gx2gZCbl5Np"
   },
   "outputs": [
    {
     "name": "stdout",
     "output_type": "stream",
     "text": [
      "[[0.         0.         0.         ... 0.         0.         0.29171435]\n",
      " [0.         0.         0.1088033  ... 0.31783098 0.         0.21036079]\n",
      " [0.         0.         0.53590573 ... 0.         0.         0.        ]\n",
      " ...\n",
      " [0.         0.         0.17715795 ... 0.17250176 0.         0.        ]\n",
      " [0.0720661  0.         0.06429886 ... 0.18782674 0.07870755 0.1243157 ]\n",
      " [0.18347085 0.20361328 0.16369647 ... 0.07969704 0.20037911 0.47473722]]\n",
      "(426, 20)\n"
     ]
    },
    {
     "data": {
      "text/html": [
       "<div>\n",
       "<style scoped>\n",
       "    .dataframe tbody tr th:only-of-type {\n",
       "        vertical-align: middle;\n",
       "    }\n",
       "\n",
       "    .dataframe tbody tr th {\n",
       "        vertical-align: top;\n",
       "    }\n",
       "\n",
       "    .dataframe thead th {\n",
       "        text-align: right;\n",
       "    }\n",
       "</style>\n",
       "<table border=\"1\" class=\"dataframe\">\n",
       "  <thead>\n",
       "    <tr style=\"text-align: right;\">\n",
       "      <th></th>\n",
       "      <th>analysis</th>\n",
       "      <th>analytics</th>\n",
       "      <th>business</th>\n",
       "      <th>data</th>\n",
       "      <th>experience</th>\n",
       "      <th>help</th>\n",
       "      <th>insights</th>\n",
       "      <th>learning</th>\n",
       "      <th>machine</th>\n",
       "      <th>models</th>\n",
       "      <th>new</th>\n",
       "      <th>product</th>\n",
       "      <th>science</th>\n",
       "      <th>scientist</th>\n",
       "      <th>skills</th>\n",
       "      <th>solutions</th>\n",
       "      <th>statistical</th>\n",
       "      <th>team</th>\n",
       "      <th>using</th>\n",
       "      <th>work</th>\n",
       "    </tr>\n",
       "  </thead>\n",
       "  <tbody>\n",
       "    <tr>\n",
       "      <th>0</th>\n",
       "      <td>0.0</td>\n",
       "      <td>0.000000</td>\n",
       "      <td>0.000000</td>\n",
       "      <td>0.235242</td>\n",
       "      <td>0.543085</td>\n",
       "      <td>0.000000</td>\n",
       "      <td>0.0</td>\n",
       "      <td>0.315354</td>\n",
       "      <td>0.337359</td>\n",
       "      <td>0.373342</td>\n",
       "      <td>0.000000</td>\n",
       "      <td>0.000000</td>\n",
       "      <td>0.295253</td>\n",
       "      <td>0.000000</td>\n",
       "      <td>0.353278</td>\n",
       "      <td>0.0</td>\n",
       "      <td>0.000000</td>\n",
       "      <td>0.000000</td>\n",
       "      <td>0.0</td>\n",
       "      <td>0.291714</td>\n",
       "    </tr>\n",
       "    <tr>\n",
       "      <th>1</th>\n",
       "      <td>0.0</td>\n",
       "      <td>0.000000</td>\n",
       "      <td>0.108803</td>\n",
       "      <td>0.339275</td>\n",
       "      <td>0.293722</td>\n",
       "      <td>0.401686</td>\n",
       "      <td>0.0</td>\n",
       "      <td>0.341112</td>\n",
       "      <td>0.364914</td>\n",
       "      <td>0.134612</td>\n",
       "      <td>0.260121</td>\n",
       "      <td>0.292333</td>\n",
       "      <td>0.212913</td>\n",
       "      <td>0.118611</td>\n",
       "      <td>0.000000</td>\n",
       "      <td>0.0</td>\n",
       "      <td>0.000000</td>\n",
       "      <td>0.317831</td>\n",
       "      <td>0.0</td>\n",
       "      <td>0.210361</td>\n",
       "    </tr>\n",
       "    <tr>\n",
       "      <th>2</th>\n",
       "      <td>0.0</td>\n",
       "      <td>0.000000</td>\n",
       "      <td>0.535906</td>\n",
       "      <td>0.417771</td>\n",
       "      <td>0.000000</td>\n",
       "      <td>0.000000</td>\n",
       "      <td>0.0</td>\n",
       "      <td>0.186681</td>\n",
       "      <td>0.199707</td>\n",
       "      <td>0.442017</td>\n",
       "      <td>0.000000</td>\n",
       "      <td>0.000000</td>\n",
       "      <td>0.174782</td>\n",
       "      <td>0.389476</td>\n",
       "      <td>0.209131</td>\n",
       "      <td>0.0</td>\n",
       "      <td>0.205389</td>\n",
       "      <td>0.000000</td>\n",
       "      <td>0.0</td>\n",
       "      <td>0.000000</td>\n",
       "    </tr>\n",
       "    <tr>\n",
       "      <th>3</th>\n",
       "      <td>0.0</td>\n",
       "      <td>0.000000</td>\n",
       "      <td>0.000000</td>\n",
       "      <td>0.388195</td>\n",
       "      <td>0.000000</td>\n",
       "      <td>0.000000</td>\n",
       "      <td>0.0</td>\n",
       "      <td>0.000000</td>\n",
       "      <td>0.000000</td>\n",
       "      <td>0.000000</td>\n",
       "      <td>0.297628</td>\n",
       "      <td>0.000000</td>\n",
       "      <td>0.000000</td>\n",
       "      <td>0.000000</td>\n",
       "      <td>0.000000</td>\n",
       "      <td>0.0</td>\n",
       "      <td>0.000000</td>\n",
       "      <td>0.727318</td>\n",
       "      <td>0.0</td>\n",
       "      <td>0.481385</td>\n",
       "    </tr>\n",
       "    <tr>\n",
       "      <th>4</th>\n",
       "      <td>0.0</td>\n",
       "      <td>0.487551</td>\n",
       "      <td>0.391970</td>\n",
       "      <td>0.611130</td>\n",
       "      <td>0.000000</td>\n",
       "      <td>0.000000</td>\n",
       "      <td>0.0</td>\n",
       "      <td>0.000000</td>\n",
       "      <td>0.000000</td>\n",
       "      <td>0.484947</td>\n",
       "      <td>0.000000</td>\n",
       "      <td>0.000000</td>\n",
       "      <td>0.000000</td>\n",
       "      <td>0.000000</td>\n",
       "      <td>0.000000</td>\n",
       "      <td>0.0</td>\n",
       "      <td>0.000000</td>\n",
       "      <td>0.000000</td>\n",
       "      <td>0.0</td>\n",
       "      <td>0.000000</td>\n",
       "    </tr>\n",
       "  </tbody>\n",
       "</table>\n",
       "</div>"
      ],
      "text/plain": [
       "   analysis  analytics  business      data  experience      help  insights  \\\n",
       "0       0.0   0.000000  0.000000  0.235242    0.543085  0.000000       0.0   \n",
       "1       0.0   0.000000  0.108803  0.339275    0.293722  0.401686       0.0   \n",
       "2       0.0   0.000000  0.535906  0.417771    0.000000  0.000000       0.0   \n",
       "3       0.0   0.000000  0.000000  0.388195    0.000000  0.000000       0.0   \n",
       "4       0.0   0.487551  0.391970  0.611130    0.000000  0.000000       0.0   \n",
       "\n",
       "   learning   machine    models       new   product   science  scientist  \\\n",
       "0  0.315354  0.337359  0.373342  0.000000  0.000000  0.295253   0.000000   \n",
       "1  0.341112  0.364914  0.134612  0.260121  0.292333  0.212913   0.118611   \n",
       "2  0.186681  0.199707  0.442017  0.000000  0.000000  0.174782   0.389476   \n",
       "3  0.000000  0.000000  0.000000  0.297628  0.000000  0.000000   0.000000   \n",
       "4  0.000000  0.000000  0.484947  0.000000  0.000000  0.000000   0.000000   \n",
       "\n",
       "     skills  solutions  statistical      team  using      work  \n",
       "0  0.353278        0.0     0.000000  0.000000    0.0  0.291714  \n",
       "1  0.000000        0.0     0.000000  0.317831    0.0  0.210361  \n",
       "2  0.209131        0.0     0.205389  0.000000    0.0  0.000000  \n",
       "3  0.000000        0.0     0.000000  0.727318    0.0  0.481385  \n",
       "4  0.000000        0.0     0.000000  0.000000    0.0  0.000000  "
      ]
     },
     "execution_count": 101,
     "metadata": {},
     "output_type": "execute_result"
    }
   ],
   "source": [
    "from sklearn.feature_extraction.text import TfidfVectorizer\n",
    "\n",
    "\n",
    "tfidf = TfidfVectorizer(ngram_range=(1,1), max_features=20)\n",
    "# Create a vocabulary and get word counts per document\n",
    "feature_matrix = tfidf.fit_transform(df['description_vector'])\n",
    "# Print word counts\n",
    "print(feature_matrix.toarray())\n",
    "\n",
    "# Get feature names to use as dataframe column headers\n",
    "feature_names = tfidf.get_feature_names()\n",
    "\n",
    "# View Feature Matrix as DataFrame\n",
    "df = pd.DataFrame(feature_matrix.toarray(), columns=feature_names)\n",
    "print(df.shape)\n",
    "df.head()"
   ]
  },
  {
   "cell_type": "code",
   "execution_count": null,
   "metadata": {},
   "outputs": [],
   "source": []
  },
  {
   "cell_type": "code",
   "execution_count": null,
   "metadata": {},
   "outputs": [],
   "source": []
  },
  {
   "cell_type": "markdown",
   "metadata": {
    "colab_type": "text",
    "id": "FiDfTWceoRkH"
   },
   "source": [
    "## Stretch Goals\n",
    "\n",
    " - Scrape Job Listings for the job title \"Data Analyst\". How do these differ from Data Scientist Job Listings\n",
    " - Try and identify requirements for experience specific technologies that are asked for in the job listings. How are those distributed among the job listings?\n",
    " - Use a clustering algorithm to cluster documents by their most important terms. Do the clusters reveal any common themes?\n",
    "  - **Hint:** K-means might not be the best algorithm for this. Do a little bit of research to see what might be good for this. Also, remember that algorithms that depend on Euclidean distance break down with high dimensional data."
   ]
  }
 ],
 "metadata": {
  "colab": {
   "collapsed_sections": [],
   "name": "Copy of LS_DS_422_BOW_Assignment.ipynb",
   "provenance": [],
   "version": "0.3.2"
  },
  "kernelspec": {
   "display_name": "Python 3",
   "language": "python",
   "name": "python3"
  },
  "language_info": {
   "codemirror_mode": {
    "name": "ipython",
    "version": 3
   },
   "file_extension": ".py",
   "mimetype": "text/x-python",
   "name": "python",
   "nbconvert_exporter": "python",
   "pygments_lexer": "ipython3",
   "version": "3.6.8"
  },
  "latex_envs": {
   "LaTeX_envs_menu_present": true,
   "autoclose": true,
   "autocomplete": true,
   "bibliofile": "biblio.bib",
   "cite_by": "apalike",
   "current_citInitial": 1,
   "eqLabelWithNumbers": true,
   "eqNumInitial": 1,
   "hotkeys": {
    "equation": "Ctrl-E",
    "itemize": "Ctrl-I"
   },
   "labels_anchors": false,
   "latex_user_defs": false,
   "report_style_numbering": false,
   "user_envs_cfg": false
  }
 },
 "nbformat": 4,
 "nbformat_minor": 1
}
