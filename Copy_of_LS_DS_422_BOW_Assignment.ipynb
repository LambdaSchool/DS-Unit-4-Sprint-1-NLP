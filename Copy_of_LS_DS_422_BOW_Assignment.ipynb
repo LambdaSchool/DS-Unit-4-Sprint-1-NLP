{
  "nbformat": 4,
  "nbformat_minor": 0,
  "metadata": {
    "colab": {
      "name": "Copy of LS_DS_422_BOW_Assignment.ipynb",
      "version": "0.3.2",
      "provenance": [],
      "collapsed_sections": [],
      "include_colab_link": true
    },
    "language_info": {
      "name": "python",
      "version": "3.7.3",
      "mimetype": "text/x-python",
      "codemirror_mode": {
        "name": "ipython",
        "version": 3
      },
      "pygments_lexer": "ipython3",
      "nbconvert_exporter": "python",
      "file_extension": ".py"
    },
    "kernelspec": {
      "name": "python3",
      "language": "python",
      "display_name": "Python 3"
    }
  },
  "cells": [
    {
      "cell_type": "markdown",
      "metadata": {
        "id": "view-in-github",
        "colab_type": "text"
      },
      "source": [
        "<a href=\"https://colab.research.google.com/github/danhorsley/DS-Unit-4-Sprint-1-NLP/blob/master/Copy_of_LS_DS_422_BOW_Assignment.ipynb\" target=\"_parent\"><img src=\"https://colab.research.google.com/assets/colab-badge.svg\" alt=\"Open In Colab\"/></a>"
      ]
    },
    {
      "cell_type": "markdown",
      "metadata": {
        "id": "euGcbkghJaPh",
        "colab_type": "text"
      },
      "source": [
        "<img align=\"left\" src=\"https://lever-client-logos.s3.amazonaws.com/864372b1-534c-480e-acd5-9711f850815c-1524247202159.png\" width=200>\n",
        "<br></br>\n",
        "<br></br>\n",
        "\n",
        "## *Data Science Unit 4 Sprint 2 Assignment 2*\n",
        "\n",
        "# Document Representations: Bag-Of-Words"
      ]
    },
    {
      "cell_type": "code",
      "metadata": {
        "colab_type": "code",
        "id": "hyj-f9FDcVFp",
        "outputId": "c2b17b24-b163-4855-f808-708ceaea61d6",
        "colab": {
          "base_uri": "https://localhost:8080/",
          "height": 321
        }
      },
      "source": [
        "import re\n",
        "import string\n",
        "\n",
        "!pip install -U nltk\n",
        "\n",
        "import nltk\n",
        "nltk.download('punkt')\n",
        "nltk.download('stopwords')\n",
        "from nltk.tokenize import sent_tokenize # Sentence Tokenizer\n",
        "from nltk.tokenize import word_tokenize # Word Tokenizer\n",
        "from nltk.corpus import stopwords\n",
        "from nltk.stem.porter import PorterStemmer\n",
        "from nltk.stem.wordnet import WordNetLemmatizer\n",
        "from nltk.probability import FreqDist\n",
        "\n",
        "from sklearn.feature_extraction.text import CountVectorizer\n",
        "from sklearn.feature_extraction.text import TfidfVectorizer\n",
        "import matplotlib.pyplot as plt\n",
        "import pandas as pd\n",
        "import numpy as np"
      ],
      "execution_count": 1,
      "outputs": [
        {
          "output_type": "stream",
          "text": [
            "Collecting nltk\n",
            "\u001b[?25l  Downloading https://files.pythonhosted.org/packages/87/16/4d247e27c55a7b6412e7c4c86f2500ae61afcbf5932b9e3491f8462f8d9e/nltk-3.4.4.zip (1.5MB)\n",
            "\r\u001b[K     |▎                               | 10kB 13.4MB/s eta 0:00:01\r\u001b[K     |▌                               | 20kB 3.3MB/s eta 0:00:01\r\u001b[K     |▊                               | 30kB 4.7MB/s eta 0:00:01\r\u001b[K     |█                               | 40kB 3.1MB/s eta 0:00:01\r\u001b[K     |█▏                              | 51kB 3.8MB/s eta 0:00:01\r\u001b[K     |█▍                              | 61kB 4.5MB/s eta 0:00:01\r\u001b[K     |█▋                              | 71kB 5.1MB/s eta 0:00:01\r\u001b[K     |█▉                              | 81kB 5.8MB/s eta 0:00:01\r\u001b[K     |██                              | 92kB 6.4MB/s eta 0:00:01\r\u001b[K     |██▎                             | 102kB 4.9MB/s eta 0:00:01\r\u001b[K     |██▌                             | 112kB 4.9MB/s eta 0:00:01\r\u001b[K     |██▊                             | 122kB 4.9MB/s eta 0:00:01\r\u001b[K     |███                             | 133kB 4.9MB/s eta 0:00:01\r\u001b[K     |███▏                            | 143kB 4.9MB/s eta 0:00:01\r\u001b[K     |███▍                            | 153kB 4.9MB/s eta 0:00:01\r\u001b[K     |███▋                            | 163kB 4.9MB/s eta 0:00:01\r\u001b[K     |███▉                            | 174kB 4.9MB/s eta 0:00:01\r\u001b[K     |████                            | 184kB 4.9MB/s eta 0:00:01\r\u001b[K     |████▎                           | 194kB 4.9MB/s eta 0:00:01\r\u001b[K     |████▌                           | 204kB 4.9MB/s eta 0:00:01\r\u001b[K     |████▊                           | 215kB 4.9MB/s eta 0:00:01\r\u001b[K     |█████                           | 225kB 4.9MB/s eta 0:00:01\r\u001b[K     |█████▏                          | 235kB 4.9MB/s eta 0:00:01\r\u001b[K     |█████▍                          | 245kB 4.9MB/s eta 0:00:01\r\u001b[K     |█████▋                          | 256kB 4.9MB/s eta 0:00:01\r\u001b[K     |█████▉                          | 266kB 4.9MB/s eta 0:00:01\r\u001b[K     |██████                          | 276kB 4.9MB/s eta 0:00:01\r\u001b[K     |██████▎                         | 286kB 4.9MB/s eta 0:00:01\r\u001b[K     |██████▌                         | 296kB 4.9MB/s eta 0:00:01\r\u001b[K     |██████▊                         | 307kB 4.9MB/s eta 0:00:01\r\u001b[K     |███████                         | 317kB 4.9MB/s eta 0:00:01\r\u001b[K     |███████▎                        | 327kB 4.9MB/s eta 0:00:01\r\u001b[K     |███████▌                        | 337kB 4.9MB/s eta 0:00:01\r\u001b[K     |███████▊                        | 348kB 4.9MB/s eta 0:00:01\r\u001b[K     |████████                        | 358kB 4.9MB/s eta 0:00:01\r\u001b[K     |████████▏                       | 368kB 4.9MB/s eta 0:00:01\r\u001b[K     |████████▍                       | 378kB 4.9MB/s eta 0:00:01\r\u001b[K     |████████▋                       | 389kB 4.9MB/s eta 0:00:01\r\u001b[K     |████████▉                       | 399kB 4.9MB/s eta 0:00:01\r\u001b[K     |█████████                       | 409kB 4.9MB/s eta 0:00:01\r\u001b[K     |█████████▎                      | 419kB 4.9MB/s eta 0:00:01\r\u001b[K     |█████████▌                      | 430kB 4.9MB/s eta 0:00:01\r\u001b[K     |█████████▊                      | 440kB 4.9MB/s eta 0:00:01\r\u001b[K     |██████████                      | 450kB 4.9MB/s eta 0:00:01\r\u001b[K     |██████████▏                     | 460kB 4.9MB/s eta 0:00:01\r\u001b[K     |██████████▍                     | 471kB 4.9MB/s eta 0:00:01\r\u001b[K     |██████████▋                     | 481kB 4.9MB/s eta 0:00:01\r\u001b[K     |██████████▉                     | 491kB 4.9MB/s eta 0:00:01\r\u001b[K     |███████████                     | 501kB 4.9MB/s eta 0:00:01\r\u001b[K     |███████████▎                    | 512kB 4.9MB/s eta 0:00:01\r\u001b[K     |███████████▌                    | 522kB 4.9MB/s eta 0:00:01\r\u001b[K     |███████████▊                    | 532kB 4.9MB/s eta 0:00:01\r\u001b[K     |████████████                    | 542kB 4.9MB/s eta 0:00:01\r\u001b[K     |████████████▏                   | 552kB 4.9MB/s eta 0:00:01\r\u001b[K     |████████████▍                   | 563kB 4.9MB/s eta 0:00:01\r\u001b[K     |████████████▋                   | 573kB 4.9MB/s eta 0:00:01\r\u001b[K     |████████████▉                   | 583kB 4.9MB/s eta 0:00:01\r\u001b[K     |█████████████                   | 593kB 4.9MB/s eta 0:00:01\r\u001b[K     |█████████████▎                  | 604kB 4.9MB/s eta 0:00:01\r\u001b[K     |█████████████▌                  | 614kB 4.9MB/s eta 0:00:01\r\u001b[K     |█████████████▊                  | 624kB 4.9MB/s eta 0:00:01\r\u001b[K     |██████████████                  | 634kB 4.9MB/s eta 0:00:01\r\u001b[K     |██████████████▎                 | 645kB 4.9MB/s eta 0:00:01\r\u001b[K     |██████████████▌                 | 655kB 4.9MB/s eta 0:00:01\r\u001b[K     |██████████████▊                 | 665kB 4.9MB/s eta 0:00:01\r\u001b[K     |███████████████                 | 675kB 4.9MB/s eta 0:00:01\r\u001b[K     |███████████████▏                | 686kB 4.9MB/s eta 0:00:01\r\u001b[K     |███████████████▍                | 696kB 4.9MB/s eta 0:00:01\r\u001b[K     |███████████████▋                | 706kB 4.9MB/s eta 0:00:01\r\u001b[K     |███████████████▉                | 716kB 4.9MB/s eta 0:00:01\r\u001b[K     |████████████████                | 727kB 4.9MB/s eta 0:00:01\r\u001b[K     |████████████████▎               | 737kB 4.9MB/s eta 0:00:01\r\u001b[K     |████████████████▌               | 747kB 4.9MB/s eta 0:00:01\r\u001b[K     |████████████████▊               | 757kB 4.9MB/s eta 0:00:01\r\u001b[K     |█████████████████               | 768kB 4.9MB/s eta 0:00:01\r\u001b[K     |█████████████████▏              | 778kB 4.9MB/s eta 0:00:01\r\u001b[K     |█████████████████▍              | 788kB 4.9MB/s eta 0:00:01\r\u001b[K     |█████████████████▋              | 798kB 4.9MB/s eta 0:00:01\r\u001b[K     |█████████████████▉              | 808kB 4.9MB/s eta 0:00:01\r\u001b[K     |██████████████████              | 819kB 4.9MB/s eta 0:00:01\r\u001b[K     |██████████████████▎             | 829kB 4.9MB/s eta 0:00:01\r\u001b[K     |██████████████████▌             | 839kB 4.9MB/s eta 0:00:01\r\u001b[K     |██████████████████▊             | 849kB 4.9MB/s eta 0:00:01\r\u001b[K     |███████████████████             | 860kB 4.9MB/s eta 0:00:01\r\u001b[K     |███████████████████▏            | 870kB 4.9MB/s eta 0:00:01\r\u001b[K     |███████████████████▍            | 880kB 4.9MB/s eta 0:00:01\r\u001b[K     |███████████████████▋            | 890kB 4.9MB/s eta 0:00:01\r\u001b[K     |███████████████████▉            | 901kB 4.9MB/s eta 0:00:01\r\u001b[K     |████████████████████            | 911kB 4.9MB/s eta 0:00:01\r\u001b[K     |████████████████████▎           | 921kB 4.9MB/s eta 0:00:01\r\u001b[K     |████████████████████▌           | 931kB 4.9MB/s eta 0:00:01\r\u001b[K     |████████████████████▉           | 942kB 4.9MB/s eta 0:00:01\r\u001b[K     |█████████████████████           | 952kB 4.9MB/s eta 0:00:01\r\u001b[K     |█████████████████████▎          | 962kB 4.9MB/s eta 0:00:01\r\u001b[K     |█████████████████████▌          | 972kB 4.9MB/s eta 0:00:01\r\u001b[K     |█████████████████████▊          | 983kB 4.9MB/s eta 0:00:01\r\u001b[K     |██████████████████████          | 993kB 4.9MB/s eta 0:00:01\r\u001b[K     |██████████████████████▏         | 1.0MB 4.9MB/s eta 0:00:01\r\u001b[K     |██████████████████████▍         | 1.0MB 4.9MB/s eta 0:00:01\r\u001b[K     |██████████████████████▋         | 1.0MB 4.9MB/s eta 0:00:01\r\u001b[K     |██████████████████████▉         | 1.0MB 4.9MB/s eta 0:00:01\r\u001b[K     |███████████████████████         | 1.0MB 4.9MB/s eta 0:00:01\r\u001b[K     |███████████████████████▎        | 1.1MB 4.9MB/s eta 0:00:01\r\u001b[K     |███████████████████████▌        | 1.1MB 4.9MB/s eta 0:00:01\r\u001b[K     |███████████████████████▊        | 1.1MB 4.9MB/s eta 0:00:01\r\u001b[K     |████████████████████████        | 1.1MB 4.9MB/s eta 0:00:01\r\u001b[K     |████████████████████████▏       | 1.1MB 4.9MB/s eta 0:00:01\r\u001b[K     |████████████████████████▍       | 1.1MB 4.9MB/s eta 0:00:01\r\u001b[K     |████████████████████████▋       | 1.1MB 4.9MB/s eta 0:00:01\r\u001b[K     |████████████████████████▉       | 1.1MB 4.9MB/s eta 0:00:01\r\u001b[K     |█████████████████████████       | 1.1MB 4.9MB/s eta 0:00:01\r\u001b[K     |█████████████████████████▎      | 1.1MB 4.9MB/s eta 0:00:01\r\u001b[K     |█████████████████████████▌      | 1.2MB 4.9MB/s eta 0:00:01\r\u001b[K     |█████████████████████████▊      | 1.2MB 4.9MB/s eta 0:00:01\r\u001b[K     |██████████████████████████      | 1.2MB 4.9MB/s eta 0:00:01\r\u001b[K     |██████████████████████████▏     | 1.2MB 4.9MB/s eta 0:00:01\r\u001b[K     |██████████████████████████▍     | 1.2MB 4.9MB/s eta 0:00:01\r\u001b[K     |██████████████████████████▋     | 1.2MB 4.9MB/s eta 0:00:01\r\u001b[K     |██████████████████████████▉     | 1.2MB 4.9MB/s eta 0:00:01\r\u001b[K     |███████████████████████████     | 1.2MB 4.9MB/s eta 0:00:01\r\u001b[K     |███████████████████████████▎    | 1.2MB 4.9MB/s eta 0:00:01\r\u001b[K     |███████████████████████████▌    | 1.2MB 4.9MB/s eta 0:00:01\r\u001b[K     |███████████████████████████▉    | 1.3MB 4.9MB/s eta 0:00:01\r\u001b[K     |████████████████████████████    | 1.3MB 4.9MB/s eta 0:00:01\r\u001b[K     |████████████████████████████▎   | 1.3MB 4.9MB/s eta 0:00:01\r\u001b[K     |████████████████████████████▌   | 1.3MB 4.9MB/s eta 0:00:01\r\u001b[K     |████████████████████████████▊   | 1.3MB 4.9MB/s eta 0:00:01\r\u001b[K     |█████████████████████████████   | 1.3MB 4.9MB/s eta 0:00:01\r\u001b[K     |█████████████████████████████▏  | 1.3MB 4.9MB/s eta 0:00:01\r\u001b[K     |█████████████████████████████▍  | 1.3MB 4.9MB/s eta 0:00:01\r\u001b[K     |█████████████████████████████▋  | 1.3MB 4.9MB/s eta 0:00:01\r\u001b[K     |█████████████████████████████▉  | 1.4MB 4.9MB/s eta 0:00:01\r\u001b[K     |██████████████████████████████  | 1.4MB 4.9MB/s eta 0:00:01\r\u001b[K     |██████████████████████████████▎ | 1.4MB 4.9MB/s eta 0:00:01\r\u001b[K     |██████████████████████████████▌ | 1.4MB 4.9MB/s eta 0:00:01\r\u001b[K     |██████████████████████████████▊ | 1.4MB 4.9MB/s eta 0:00:01\r\u001b[K     |███████████████████████████████ | 1.4MB 4.9MB/s eta 0:00:01\r\u001b[K     |███████████████████████████████▏| 1.4MB 4.9MB/s eta 0:00:01\r\u001b[K     |███████████████████████████████▍| 1.4MB 4.9MB/s eta 0:00:01\r\u001b[K     |███████████████████████████████▋| 1.4MB 4.9MB/s eta 0:00:01\r\u001b[K     |███████████████████████████████▉| 1.4MB 4.9MB/s eta 0:00:01\r\u001b[K     |████████████████████████████████| 1.5MB 4.9MB/s \n",
            "\u001b[?25hRequirement already satisfied, skipping upgrade: six in /usr/local/lib/python3.6/dist-packages (from nltk) (1.12.0)\n",
            "Building wheels for collected packages: nltk\n",
            "  Building wheel for nltk (setup.py) ... \u001b[?25l\u001b[?25hdone\n",
            "  Stored in directory: /root/.cache/pip/wheels/41/c8/31/48ace4468e236e0e8435f30d33e43df48594e4d53e367cf061\n",
            "Successfully built nltk\n",
            "Installing collected packages: nltk\n",
            "  Found existing installation: nltk 3.2.5\n",
            "    Uninstalling nltk-3.2.5:\n",
            "      Successfully uninstalled nltk-3.2.5\n",
            "Successfully installed nltk-3.4.4\n"
          ],
          "name": "stdout"
        },
        {
          "output_type": "stream",
          "text": [
            "[nltk_data] Downloading package punkt to /root/nltk_data...\n",
            "[nltk_data]   Unzipping tokenizers/punkt.zip.\n",
            "[nltk_data] Downloading package stopwords to /root/nltk_data...\n",
            "[nltk_data]   Unzipping corpora/stopwords.zip.\n"
          ],
          "name": "stderr"
        }
      ]
    },
    {
      "cell_type": "markdown",
      "metadata": {
        "colab_type": "text",
        "id": "M7bcmqfGXrFG"
      },
      "source": [
        "# 1) (optional) Scrape 100 Job Listings that contain the title \"Data Scientist\" from indeed.com\n",
        "\n",
        "At a minimum your final dataframe of job listings should contain\n",
        "- Job Title\n",
        "- Job Description\n",
        "\n",
        "If you choose to not to scrape the data, there is a CSV with outdated data in the directory. Remeber, if you scrape Indeed, you're helping yourself find a job. ;)"
      ]
    },
    {
      "cell_type": "code",
      "metadata": {
        "colab_type": "code",
        "id": "KcYlc1URXhlC",
        "colab": {}
      },
      "source": [
        "##### Your Code Here #####\n",
        "raise Exception(\"\\nThis task is not complete. \\nReplace this line with your code for the task.\""
      ],
      "execution_count": 0,
      "outputs": []
    },
    {
      "cell_type": "markdown",
      "metadata": {
        "colab_type": "text",
        "id": "5C4xFZNtX1m2"
      },
      "source": [
        "## 2) Use Spacy to tokenize / clean the listings "
      ]
    },
    {
      "cell_type": "code",
      "metadata": {
        "id": "ndLm9Ok9J5Rz",
        "colab_type": "code",
        "colab": {}
      },
      "source": [
        "df = pd.read_csv('https://raw.githubusercontent.com/LambdaSchool/DS-Unit-4-Sprint-1-NLP/master/module2-vector-representations/job_listings.csv')"
      ],
      "execution_count": 0,
      "outputs": []
    },
    {
      "cell_type": "code",
      "metadata": {
        "colab_type": "code",
        "id": "dhUHuMr-X-II",
        "colab": {}
      },
      "source": [
        "##### Your Code Here #####\n",
        "import spacy\n",
        "from spacy.tokenizer import Tokenizer\n",
        "\n",
        "nlp = spacy.load(\"en_core_web_sm\")\n",
        "\n",
        "# Tokenizer\n",
        "tokenizer = Tokenizer(nlp.vocab)"
      ],
      "execution_count": 0,
      "outputs": []
    },
    {
      "cell_type": "code",
      "metadata": {
        "id": "DhhsPIMEKLhg",
        "colab_type": "code",
        "colab": {}
      },
      "source": [
        "tokens = []\n",
        "\n",
        "for doc in tokenizer.pipe(df['description'], batch_size=500):\n",
        "    \n",
        "    doc_tokens = []\n",
        "    \n",
        "    for token in doc: \n",
        "      if (token.is_stop == False) and (token.is_punct==False) and (token.is_space==False) and \"<\" not in token.text\\\n",
        "      and \"\\\\\" not in token.text and \"=\" not in token.text:\n",
        "        doc_tokens.append(token.text.lower())\n",
        "   \n",
        "    tokens.append(doc_tokens)\n",
        "    \n",
        "df['tokens'] = tokens"
      ],
      "execution_count": 0,
      "outputs": []
    },
    {
      "cell_type": "code",
      "metadata": {
        "id": "JQt59s0nJ8e3",
        "colab_type": "code",
        "colab": {
          "base_uri": "https://localhost:8080/",
          "height": 196
        },
        "outputId": "ee0b4851-6989-4c04-8a08-63f3dea3f586"
      },
      "source": [
        "df.head()"
      ],
      "execution_count": 19,
      "outputs": [
        {
          "output_type": "execute_result",
          "data": {
            "text/html": [
              "<div>\n",
              "<style scoped>\n",
              "    .dataframe tbody tr th:only-of-type {\n",
              "        vertical-align: middle;\n",
              "    }\n",
              "\n",
              "    .dataframe tbody tr th {\n",
              "        vertical-align: top;\n",
              "    }\n",
              "\n",
              "    .dataframe thead th {\n",
              "        text-align: right;\n",
              "    }\n",
              "</style>\n",
              "<table border=\"1\" class=\"dataframe\">\n",
              "  <thead>\n",
              "    <tr style=\"text-align: right;\">\n",
              "      <th></th>\n",
              "      <th>Unnamed: 0</th>\n",
              "      <th>description</th>\n",
              "      <th>title</th>\n",
              "      <th>tokens</th>\n",
              "    </tr>\n",
              "  </thead>\n",
              "  <tbody>\n",
              "    <tr>\n",
              "      <th>0</th>\n",
              "      <td>0</td>\n",
              "      <td>b\"&lt;div&gt;&lt;div&gt;Job Requirements:&lt;/div&gt;&lt;ul&gt;&lt;li&gt;&lt;p&gt;...</td>\n",
              "      <td>Data scientist</td>\n",
              "      <td>[understanding, machine, learning, models, lik...</td>\n",
              "    </tr>\n",
              "    <tr>\n",
              "      <th>1</th>\n",
              "      <td>1</td>\n",
              "      <td>b'&lt;div&gt;Job Description&lt;br/&gt;\\n&lt;br/&gt;\\n&lt;p&gt;As a Da...</td>\n",
              "      <td>Data Scientist I</td>\n",
              "      <td>[data, scientist, 1,, help, build, machine, le...</td>\n",
              "    </tr>\n",
              "    <tr>\n",
              "      <th>2</th>\n",
              "      <td>2</td>\n",
              "      <td>b'&lt;div&gt;&lt;p&gt;As a Data Scientist you will be work...</td>\n",
              "      <td>Data Scientist - Entry Level</td>\n",
              "      <td>[data, scientist, working, consulting, busines...</td>\n",
              "    </tr>\n",
              "    <tr>\n",
              "      <th>3</th>\n",
              "      <td>3</td>\n",
              "      <td>b'&lt;div class=\"jobsearch-JobMetadataHeader icl-...</td>\n",
              "      <td>Data Scientist</td>\n",
              "      <td>[$6,756, general, supervision, professors, dan...</td>\n",
              "    </tr>\n",
              "    <tr>\n",
              "      <th>4</th>\n",
              "      <td>4</td>\n",
              "      <td>b'&lt;ul&gt;&lt;li&gt;Location: USA \\xe2\\x80\\x93 multiple ...</td>\n",
              "      <td>Data Scientist</td>\n",
              "      <td>[usa, multiple, years, analytics, business, re...</td>\n",
              "    </tr>\n",
              "  </tbody>\n",
              "</table>\n",
              "</div>"
            ],
            "text/plain": [
              "   Unnamed: 0  ...                                             tokens\n",
              "0           0  ...  [understanding, machine, learning, models, lik...\n",
              "1           1  ...  [data, scientist, 1,, help, build, machine, le...\n",
              "2           2  ...  [data, scientist, working, consulting, busines...\n",
              "3           3  ...  [$6,756, general, supervision, professors, dan...\n",
              "4           4  ...  [usa, multiple, years, analytics, business, re...\n",
              "\n",
              "[5 rows x 4 columns]"
            ]
          },
          "metadata": {
            "tags": []
          },
          "execution_count": 19
        }
      ]
    },
    {
      "cell_type": "markdown",
      "metadata": {
        "colab_type": "text",
        "id": "-lgCZNL_YycP"
      },
      "source": [
        "# 3) Use Scikit-Learn's CountVectorizer to get word counts for each listing."
      ]
    },
    {
      "cell_type": "code",
      "metadata": {
        "colab_type": "code",
        "id": "X2PZ8Pj_YxcF",
        "colab": {
          "base_uri": "https://localhost:8080/",
          "height": 70
        },
        "outputId": "0c8fa575-1a98-4e13-ad6e-2a3dec3d6476"
      },
      "source": [
        "##### Your Code Here #####\n",
        "from sklearn.feature_extraction.text import CountVectorizer\n",
        "vectorizer = CountVectorizer(tokenizer=lambda doc: doc, lowercase=False, stop_words='english')\n",
        "dtm = vectorizer.fit_transform(df['tokens'])"
      ],
      "execution_count": 24,
      "outputs": [
        {
          "output_type": "stream",
          "text": [
            "/usr/local/lib/python3.6/dist-packages/sklearn/feature_extraction/text.py:300: UserWarning: Your stop_words may be inconsistent with your preprocessing. Tokenizing the stop words generated tokens ['b', 'c', 'd', 'e', 'f', 'g', 'h', 'k', 'l', 'm', 'n', 'o', 'p', 'r', 's', 't', 'u', 'v', 'w', 'x', 'y'] not in stop_words.\n",
            "  'stop_words.' % sorted(inconsistent))\n"
          ],
          "name": "stderr"
        }
      ]
    },
    {
      "cell_type": "code",
      "metadata": {
        "id": "d_qQi1itOcCX",
        "colab_type": "code",
        "colab": {
          "base_uri": "https://localhost:8080/",
          "height": 262
        },
        "outputId": "5d242949-d9ea-4dbb-9d33-c2081a8d08ad"
      },
      "source": [
        "dtm = pd.DataFrame(dtm.todense(), columns = vectorizer.get_feature_names())\n",
        "dtm.head()"
      ],
      "execution_count": 28,
      "outputs": [
        {
          "output_type": "execute_result",
          "data": {
            "text/html": [
              "<div>\n",
              "<style scoped>\n",
              "    .dataframe tbody tr th:only-of-type {\n",
              "        vertical-align: middle;\n",
              "    }\n",
              "\n",
              "    .dataframe tbody tr th {\n",
              "        vertical-align: top;\n",
              "    }\n",
              "\n",
              "    .dataframe thead th {\n",
              "        text-align: right;\n",
              "    }\n",
              "</style>\n",
              "<table border=\"1\" class=\"dataframe\">\n",
              "  <thead>\n",
              "    <tr style=\"text-align: right;\">\n",
              "      <th></th>\n",
              "      <th>\"ability</th>\n",
              "      <th>\"apply\"</th>\n",
              "      <th>\"best</th>\n",
              "      <th>\"big</th>\n",
              "      <th>\"can</th>\n",
              "      <th>\"can-do\"</th>\n",
              "      <th>\"completeness</th>\n",
              "      <th>\"customer</th>\n",
              "      <th>\"engineering</th>\n",
              "      <th>\"fintech\"</th>\n",
              "      <th>\"full-stack</th>\n",
              "      <th>\"get</th>\n",
              "      <th>\"hands-on\"</th>\n",
              "      <th>\"helio\"</th>\n",
              "      <th>\"my</th>\n",
              "      <th>\"no</th>\n",
              "      <th>\"numbers-based\"</th>\n",
              "      <th>\"open-sourcing\"</th>\n",
              "      <th>\"pillar</th>\n",
              "      <th>\"saas\"</th>\n",
              "      <th>\"storytelling\"</th>\n",
              "      <th>\"success\"</th>\n",
              "      <th>\"tmus\")</th>\n",
              "      <th>\"transforming</th>\n",
              "      <th>\"view</th>\n",
              "      <th>#1</th>\n",
              "      <th>#8954,</th>\n",
              "      <th>#autodeskinterns</th>\n",
              "      <th>#hcdagile,</th>\n",
              "      <th>$1,000</th>\n",
              "      <th>$1.66</th>\n",
              "      <th>$10</th>\n",
              "      <th>$100,000</th>\n",
              "      <th>$100,908</th>\n",
              "      <th>$10b</th>\n",
              "      <th>$110k</th>\n",
              "      <th>$125,000</th>\n",
              "      <th>$126,062</th>\n",
              "      <th>$14.4</th>\n",
              "      <th>$15</th>\n",
              "      <th>...</th>\n",
              "      <th>yes</th>\n",
              "      <th>yes,</th>\n",
              "      <th>yet,</th>\n",
              "      <th>yeti</th>\n",
              "      <th>yeti,</th>\n",
              "      <th>yield</th>\n",
              "      <th>york</th>\n",
              "      <th>york,</th>\n",
              "      <th>york.</th>\n",
              "      <th>you!</th>\n",
              "      <th>you!\"</th>\n",
              "      <th>you'd</th>\n",
              "      <th>you'll</th>\n",
              "      <th>you're</th>\n",
              "      <th>you've</th>\n",
              "      <th>you,</th>\n",
              "      <th>you.</th>\n",
              "      <th>you:</th>\n",
              "      <th>you?</th>\n",
              "      <th>young</th>\n",
              "      <th>young,</th>\n",
              "      <th>yourself),</th>\n",
              "      <th>yourself.</th>\n",
              "      <th>youtube,</th>\n",
              "      <th>yrs</th>\n",
              "      <th>yrs,</th>\n",
              "      <th>yrs.</th>\n",
              "      <th>zenreach</th>\n",
              "      <th>zero.</th>\n",
              "      <th>zeus</th>\n",
              "      <th>zf</th>\n",
              "      <th>zheng,</th>\n",
              "      <th>zillow</th>\n",
              "      <th>zoom</th>\n",
              "      <th>zuckerberg</th>\n",
              "      <th>zurich</th>\n",
              "      <th>|</th>\n",
              "      <th>||</th>\n",
              "      <th>~$70</th>\n",
              "      <th>~4</th>\n",
              "    </tr>\n",
              "  </thead>\n",
              "  <tbody>\n",
              "    <tr>\n",
              "      <th>0</th>\n",
              "      <td>0</td>\n",
              "      <td>0</td>\n",
              "      <td>0</td>\n",
              "      <td>0</td>\n",
              "      <td>0</td>\n",
              "      <td>0</td>\n",
              "      <td>0</td>\n",
              "      <td>0</td>\n",
              "      <td>0</td>\n",
              "      <td>0</td>\n",
              "      <td>0</td>\n",
              "      <td>0</td>\n",
              "      <td>0</td>\n",
              "      <td>0</td>\n",
              "      <td>0</td>\n",
              "      <td>0</td>\n",
              "      <td>0</td>\n",
              "      <td>0</td>\n",
              "      <td>0</td>\n",
              "      <td>0</td>\n",
              "      <td>0</td>\n",
              "      <td>0</td>\n",
              "      <td>0</td>\n",
              "      <td>0</td>\n",
              "      <td>0</td>\n",
              "      <td>0</td>\n",
              "      <td>0</td>\n",
              "      <td>0</td>\n",
              "      <td>0</td>\n",
              "      <td>0</td>\n",
              "      <td>0</td>\n",
              "      <td>0</td>\n",
              "      <td>0</td>\n",
              "      <td>0</td>\n",
              "      <td>0</td>\n",
              "      <td>0</td>\n",
              "      <td>0</td>\n",
              "      <td>0</td>\n",
              "      <td>0</td>\n",
              "      <td>0</td>\n",
              "      <td>...</td>\n",
              "      <td>0</td>\n",
              "      <td>0</td>\n",
              "      <td>0</td>\n",
              "      <td>0</td>\n",
              "      <td>0</td>\n",
              "      <td>0</td>\n",
              "      <td>0</td>\n",
              "      <td>0</td>\n",
              "      <td>0</td>\n",
              "      <td>0</td>\n",
              "      <td>0</td>\n",
              "      <td>0</td>\n",
              "      <td>0</td>\n",
              "      <td>0</td>\n",
              "      <td>0</td>\n",
              "      <td>0</td>\n",
              "      <td>0</td>\n",
              "      <td>0</td>\n",
              "      <td>0</td>\n",
              "      <td>0</td>\n",
              "      <td>0</td>\n",
              "      <td>0</td>\n",
              "      <td>0</td>\n",
              "      <td>0</td>\n",
              "      <td>0</td>\n",
              "      <td>0</td>\n",
              "      <td>0</td>\n",
              "      <td>0</td>\n",
              "      <td>0</td>\n",
              "      <td>0</td>\n",
              "      <td>0</td>\n",
              "      <td>0</td>\n",
              "      <td>0</td>\n",
              "      <td>0</td>\n",
              "      <td>0</td>\n",
              "      <td>0</td>\n",
              "      <td>0</td>\n",
              "      <td>0</td>\n",
              "      <td>0</td>\n",
              "      <td>0</td>\n",
              "    </tr>\n",
              "    <tr>\n",
              "      <th>1</th>\n",
              "      <td>0</td>\n",
              "      <td>0</td>\n",
              "      <td>0</td>\n",
              "      <td>0</td>\n",
              "      <td>0</td>\n",
              "      <td>0</td>\n",
              "      <td>0</td>\n",
              "      <td>1</td>\n",
              "      <td>0</td>\n",
              "      <td>0</td>\n",
              "      <td>0</td>\n",
              "      <td>0</td>\n",
              "      <td>0</td>\n",
              "      <td>0</td>\n",
              "      <td>0</td>\n",
              "      <td>0</td>\n",
              "      <td>0</td>\n",
              "      <td>0</td>\n",
              "      <td>0</td>\n",
              "      <td>0</td>\n",
              "      <td>0</td>\n",
              "      <td>0</td>\n",
              "      <td>0</td>\n",
              "      <td>0</td>\n",
              "      <td>0</td>\n",
              "      <td>0</td>\n",
              "      <td>0</td>\n",
              "      <td>0</td>\n",
              "      <td>0</td>\n",
              "      <td>0</td>\n",
              "      <td>0</td>\n",
              "      <td>0</td>\n",
              "      <td>0</td>\n",
              "      <td>0</td>\n",
              "      <td>0</td>\n",
              "      <td>0</td>\n",
              "      <td>0</td>\n",
              "      <td>0</td>\n",
              "      <td>0</td>\n",
              "      <td>0</td>\n",
              "      <td>...</td>\n",
              "      <td>0</td>\n",
              "      <td>0</td>\n",
              "      <td>0</td>\n",
              "      <td>0</td>\n",
              "      <td>0</td>\n",
              "      <td>0</td>\n",
              "      <td>0</td>\n",
              "      <td>0</td>\n",
              "      <td>0</td>\n",
              "      <td>0</td>\n",
              "      <td>0</td>\n",
              "      <td>0</td>\n",
              "      <td>0</td>\n",
              "      <td>0</td>\n",
              "      <td>0</td>\n",
              "      <td>0</td>\n",
              "      <td>0</td>\n",
              "      <td>0</td>\n",
              "      <td>0</td>\n",
              "      <td>0</td>\n",
              "      <td>0</td>\n",
              "      <td>0</td>\n",
              "      <td>0</td>\n",
              "      <td>0</td>\n",
              "      <td>0</td>\n",
              "      <td>0</td>\n",
              "      <td>0</td>\n",
              "      <td>0</td>\n",
              "      <td>0</td>\n",
              "      <td>0</td>\n",
              "      <td>0</td>\n",
              "      <td>0</td>\n",
              "      <td>0</td>\n",
              "      <td>0</td>\n",
              "      <td>0</td>\n",
              "      <td>0</td>\n",
              "      <td>0</td>\n",
              "      <td>0</td>\n",
              "      <td>0</td>\n",
              "      <td>0</td>\n",
              "    </tr>\n",
              "    <tr>\n",
              "      <th>2</th>\n",
              "      <td>0</td>\n",
              "      <td>0</td>\n",
              "      <td>0</td>\n",
              "      <td>0</td>\n",
              "      <td>0</td>\n",
              "      <td>0</td>\n",
              "      <td>0</td>\n",
              "      <td>0</td>\n",
              "      <td>0</td>\n",
              "      <td>0</td>\n",
              "      <td>0</td>\n",
              "      <td>0</td>\n",
              "      <td>0</td>\n",
              "      <td>0</td>\n",
              "      <td>0</td>\n",
              "      <td>0</td>\n",
              "      <td>0</td>\n",
              "      <td>0</td>\n",
              "      <td>0</td>\n",
              "      <td>0</td>\n",
              "      <td>0</td>\n",
              "      <td>0</td>\n",
              "      <td>0</td>\n",
              "      <td>0</td>\n",
              "      <td>0</td>\n",
              "      <td>0</td>\n",
              "      <td>0</td>\n",
              "      <td>0</td>\n",
              "      <td>0</td>\n",
              "      <td>0</td>\n",
              "      <td>0</td>\n",
              "      <td>0</td>\n",
              "      <td>0</td>\n",
              "      <td>0</td>\n",
              "      <td>0</td>\n",
              "      <td>0</td>\n",
              "      <td>0</td>\n",
              "      <td>0</td>\n",
              "      <td>0</td>\n",
              "      <td>0</td>\n",
              "      <td>...</td>\n",
              "      <td>0</td>\n",
              "      <td>0</td>\n",
              "      <td>0</td>\n",
              "      <td>0</td>\n",
              "      <td>0</td>\n",
              "      <td>0</td>\n",
              "      <td>0</td>\n",
              "      <td>0</td>\n",
              "      <td>0</td>\n",
              "      <td>0</td>\n",
              "      <td>0</td>\n",
              "      <td>0</td>\n",
              "      <td>0</td>\n",
              "      <td>0</td>\n",
              "      <td>0</td>\n",
              "      <td>0</td>\n",
              "      <td>0</td>\n",
              "      <td>0</td>\n",
              "      <td>0</td>\n",
              "      <td>0</td>\n",
              "      <td>0</td>\n",
              "      <td>0</td>\n",
              "      <td>0</td>\n",
              "      <td>0</td>\n",
              "      <td>0</td>\n",
              "      <td>0</td>\n",
              "      <td>0</td>\n",
              "      <td>0</td>\n",
              "      <td>0</td>\n",
              "      <td>0</td>\n",
              "      <td>0</td>\n",
              "      <td>0</td>\n",
              "      <td>0</td>\n",
              "      <td>0</td>\n",
              "      <td>0</td>\n",
              "      <td>0</td>\n",
              "      <td>0</td>\n",
              "      <td>0</td>\n",
              "      <td>0</td>\n",
              "      <td>0</td>\n",
              "    </tr>\n",
              "    <tr>\n",
              "      <th>3</th>\n",
              "      <td>0</td>\n",
              "      <td>0</td>\n",
              "      <td>0</td>\n",
              "      <td>0</td>\n",
              "      <td>0</td>\n",
              "      <td>0</td>\n",
              "      <td>0</td>\n",
              "      <td>0</td>\n",
              "      <td>0</td>\n",
              "      <td>0</td>\n",
              "      <td>0</td>\n",
              "      <td>0</td>\n",
              "      <td>0</td>\n",
              "      <td>0</td>\n",
              "      <td>0</td>\n",
              "      <td>0</td>\n",
              "      <td>0</td>\n",
              "      <td>0</td>\n",
              "      <td>0</td>\n",
              "      <td>0</td>\n",
              "      <td>0</td>\n",
              "      <td>0</td>\n",
              "      <td>0</td>\n",
              "      <td>0</td>\n",
              "      <td>0</td>\n",
              "      <td>0</td>\n",
              "      <td>0</td>\n",
              "      <td>0</td>\n",
              "      <td>0</td>\n",
              "      <td>0</td>\n",
              "      <td>0</td>\n",
              "      <td>0</td>\n",
              "      <td>0</td>\n",
              "      <td>0</td>\n",
              "      <td>0</td>\n",
              "      <td>0</td>\n",
              "      <td>0</td>\n",
              "      <td>0</td>\n",
              "      <td>0</td>\n",
              "      <td>0</td>\n",
              "      <td>...</td>\n",
              "      <td>0</td>\n",
              "      <td>0</td>\n",
              "      <td>0</td>\n",
              "      <td>0</td>\n",
              "      <td>0</td>\n",
              "      <td>0</td>\n",
              "      <td>0</td>\n",
              "      <td>0</td>\n",
              "      <td>0</td>\n",
              "      <td>0</td>\n",
              "      <td>0</td>\n",
              "      <td>0</td>\n",
              "      <td>0</td>\n",
              "      <td>0</td>\n",
              "      <td>0</td>\n",
              "      <td>0</td>\n",
              "      <td>0</td>\n",
              "      <td>0</td>\n",
              "      <td>0</td>\n",
              "      <td>0</td>\n",
              "      <td>0</td>\n",
              "      <td>0</td>\n",
              "      <td>0</td>\n",
              "      <td>0</td>\n",
              "      <td>0</td>\n",
              "      <td>0</td>\n",
              "      <td>0</td>\n",
              "      <td>0</td>\n",
              "      <td>0</td>\n",
              "      <td>0</td>\n",
              "      <td>0</td>\n",
              "      <td>1</td>\n",
              "      <td>0</td>\n",
              "      <td>0</td>\n",
              "      <td>0</td>\n",
              "      <td>0</td>\n",
              "      <td>0</td>\n",
              "      <td>0</td>\n",
              "      <td>0</td>\n",
              "      <td>0</td>\n",
              "    </tr>\n",
              "    <tr>\n",
              "      <th>4</th>\n",
              "      <td>0</td>\n",
              "      <td>0</td>\n",
              "      <td>0</td>\n",
              "      <td>0</td>\n",
              "      <td>0</td>\n",
              "      <td>0</td>\n",
              "      <td>0</td>\n",
              "      <td>0</td>\n",
              "      <td>0</td>\n",
              "      <td>0</td>\n",
              "      <td>0</td>\n",
              "      <td>0</td>\n",
              "      <td>0</td>\n",
              "      <td>0</td>\n",
              "      <td>0</td>\n",
              "      <td>0</td>\n",
              "      <td>0</td>\n",
              "      <td>0</td>\n",
              "      <td>0</td>\n",
              "      <td>0</td>\n",
              "      <td>0</td>\n",
              "      <td>0</td>\n",
              "      <td>0</td>\n",
              "      <td>0</td>\n",
              "      <td>0</td>\n",
              "      <td>0</td>\n",
              "      <td>0</td>\n",
              "      <td>0</td>\n",
              "      <td>0</td>\n",
              "      <td>0</td>\n",
              "      <td>0</td>\n",
              "      <td>0</td>\n",
              "      <td>0</td>\n",
              "      <td>0</td>\n",
              "      <td>0</td>\n",
              "      <td>0</td>\n",
              "      <td>0</td>\n",
              "      <td>0</td>\n",
              "      <td>0</td>\n",
              "      <td>0</td>\n",
              "      <td>...</td>\n",
              "      <td>0</td>\n",
              "      <td>0</td>\n",
              "      <td>0</td>\n",
              "      <td>0</td>\n",
              "      <td>0</td>\n",
              "      <td>0</td>\n",
              "      <td>0</td>\n",
              "      <td>0</td>\n",
              "      <td>0</td>\n",
              "      <td>0</td>\n",
              "      <td>0</td>\n",
              "      <td>0</td>\n",
              "      <td>0</td>\n",
              "      <td>0</td>\n",
              "      <td>0</td>\n",
              "      <td>0</td>\n",
              "      <td>0</td>\n",
              "      <td>0</td>\n",
              "      <td>0</td>\n",
              "      <td>0</td>\n",
              "      <td>0</td>\n",
              "      <td>0</td>\n",
              "      <td>0</td>\n",
              "      <td>0</td>\n",
              "      <td>0</td>\n",
              "      <td>0</td>\n",
              "      <td>0</td>\n",
              "      <td>0</td>\n",
              "      <td>0</td>\n",
              "      <td>0</td>\n",
              "      <td>0</td>\n",
              "      <td>0</td>\n",
              "      <td>0</td>\n",
              "      <td>0</td>\n",
              "      <td>0</td>\n",
              "      <td>0</td>\n",
              "      <td>0</td>\n",
              "      <td>0</td>\n",
              "      <td>0</td>\n",
              "      <td>0</td>\n",
              "    </tr>\n",
              "  </tbody>\n",
              "</table>\n",
              "<p>5 rows × 12860 columns</p>\n",
              "</div>"
            ],
            "text/plain": [
              "   \"ability  \"apply\"  \"best  \"big  \"can  ...  zurich  |  ||  ~$70  ~4\n",
              "0         0        0      0     0     0  ...       0  0   0     0   0\n",
              "1         0        0      0     0     0  ...       0  0   0     0   0\n",
              "2         0        0      0     0     0  ...       0  0   0     0   0\n",
              "3         0        0      0     0     0  ...       0  0   0     0   0\n",
              "4         0        0      0     0     0  ...       0  0   0     0   0\n",
              "\n",
              "[5 rows x 12860 columns]"
            ]
          },
          "metadata": {
            "tags": []
          },
          "execution_count": 28
        }
      ]
    },
    {
      "cell_type": "markdown",
      "metadata": {
        "colab_type": "text",
        "id": "Zo1iH_UeY7_n"
      },
      "source": [
        "# 4) Visualize the most common word counts"
      ]
    },
    {
      "cell_type": "code",
      "metadata": {
        "colab_type": "code",
        "id": "M5LB00uyZKV5",
        "colab": {
          "base_uri": "https://localhost:8080/",
          "height": 286
        },
        "outputId": "efdbf3de-cf6a-48cd-f9d2-d48752c4d786"
      },
      "source": [
        "##### Your Code Here #####\n",
        "import matplotlib.pyplot as plt\n",
        "common20 = dtm.sum().sort_values(ascending=False)[:20]\n",
        "plt.barh(common20.index,list(common20))"
      ],
      "execution_count": 37,
      "outputs": [
        {
          "output_type": "execute_result",
          "data": {
            "text/plain": [
              "<BarContainer object of 20 artists>"
            ]
          },
          "metadata": {
            "tags": []
          },
          "execution_count": 37
        },
        {
          "output_type": "display_data",
          "data": {
            "image/png": "[encoded data removed]",
            "text/plain": [
              "<Figure size 432x288 with 1 Axes>"
            ]
          },
          "metadata": {
            "tags": []
          }
        }
      ]
    },
    {
      "cell_type": "markdown",
      "metadata": {
        "colab_type": "text",
        "id": "bwFsTqrVZMYi"
      },
      "source": [
        " # 5) Use Scikit-Learn's tfidfVectorizer to get a TF-IDF feature matrix"
      ]
    },
    {
      "cell_type": "code",
      "metadata": {
        "id": "KmhCAuz6RZb8",
        "colab_type": "code",
        "colab": {}
      },
      "source": [
        "mystrings = [' '.join(x) for x in list(df['tokens'])]"
      ],
      "execution_count": 0,
      "outputs": []
    },
    {
      "cell_type": "code",
      "metadata": {
        "colab_type": "code",
        "id": "-gx2gZCbl5Np",
        "colab": {
          "base_uri": "https://localhost:8080/",
          "height": 216
        },
        "outputId": "66766f01-9e57-40ce-dd74-46dc03eb8ed4"
      },
      "source": [
        "##### Your Code Here #####\n",
        "from sklearn.feature_extraction.text import TfidfVectorizer\n",
        "tfidf = TfidfVectorizer(max_features = 20)\n",
        "\n",
        "dtm = tfidf.fit_transform(mystrings)\n",
        "docs = pd.DataFrame(dtm.todense(), columns = tfidf.get_feature_names())\n",
        "docs.head()"
      ],
      "execution_count": 55,
      "outputs": [
        {
          "output_type": "execute_result",
          "data": {
            "text/html": [
              "<div>\n",
              "<style scoped>\n",
              "    .dataframe tbody tr th:only-of-type {\n",
              "        vertical-align: middle;\n",
              "    }\n",
              "\n",
              "    .dataframe tbody tr th {\n",
              "        vertical-align: top;\n",
              "    }\n",
              "\n",
              "    .dataframe thead th {\n",
              "        text-align: right;\n",
              "    }\n",
              "</style>\n",
              "<table border=\"1\" class=\"dataframe\">\n",
              "  <thead>\n",
              "    <tr style=\"text-align: right;\">\n",
              "      <th></th>\n",
              "      <th>analysis</th>\n",
              "      <th>analytics</th>\n",
              "      <th>business</th>\n",
              "      <th>data</th>\n",
              "      <th>experience</th>\n",
              "      <th>help</th>\n",
              "      <th>insights</th>\n",
              "      <th>learning</th>\n",
              "      <th>machine</th>\n",
              "      <th>models</th>\n",
              "      <th>new</th>\n",
              "      <th>product</th>\n",
              "      <th>science</th>\n",
              "      <th>scientist</th>\n",
              "      <th>skills</th>\n",
              "      <th>solutions</th>\n",
              "      <th>statistical</th>\n",
              "      <th>team</th>\n",
              "      <th>technical</th>\n",
              "      <th>work</th>\n",
              "    </tr>\n",
              "  </thead>\n",
              "  <tbody>\n",
              "    <tr>\n",
              "      <th>0</th>\n",
              "      <td>0.0</td>\n",
              "      <td>0.000000</td>\n",
              "      <td>0.000000</td>\n",
              "      <td>0.184901</td>\n",
              "      <td>0.427867</td>\n",
              "      <td>0.000000</td>\n",
              "      <td>0.0</td>\n",
              "      <td>0.247839</td>\n",
              "      <td>0.263777</td>\n",
              "      <td>0.292570</td>\n",
              "      <td>0.000000</td>\n",
              "      <td>0.00000</td>\n",
              "      <td>0.229826</td>\n",
              "      <td>0.000000</td>\n",
              "      <td>0.282707</td>\n",
              "      <td>0.0</td>\n",
              "      <td>0.000000</td>\n",
              "      <td>0.000000</td>\n",
              "      <td>0.617726</td>\n",
              "      <td>0.227625</td>\n",
              "    </tr>\n",
              "    <tr>\n",
              "      <th>1</th>\n",
              "      <td>0.0</td>\n",
              "      <td>0.000000</td>\n",
              "      <td>0.097013</td>\n",
              "      <td>0.302537</td>\n",
              "      <td>0.262530</td>\n",
              "      <td>0.359029</td>\n",
              "      <td>0.0</td>\n",
              "      <td>0.304137</td>\n",
              "      <td>0.323696</td>\n",
              "      <td>0.119676</td>\n",
              "      <td>0.232497</td>\n",
              "      <td>0.25909</td>\n",
              "      <td>0.188021</td>\n",
              "      <td>0.106281</td>\n",
              "      <td>0.000000</td>\n",
              "      <td>0.0</td>\n",
              "      <td>0.000000</td>\n",
              "      <td>0.378772</td>\n",
              "      <td>0.379023</td>\n",
              "      <td>0.186221</td>\n",
              "    </tr>\n",
              "    <tr>\n",
              "      <th>2</th>\n",
              "      <td>0.0</td>\n",
              "      <td>0.000000</td>\n",
              "      <td>0.527941</td>\n",
              "      <td>0.411599</td>\n",
              "      <td>0.000000</td>\n",
              "      <td>0.000000</td>\n",
              "      <td>0.0</td>\n",
              "      <td>0.183900</td>\n",
              "      <td>0.195727</td>\n",
              "      <td>0.434183</td>\n",
              "      <td>0.000000</td>\n",
              "      <td>0.00000</td>\n",
              "      <td>0.170535</td>\n",
              "      <td>0.385587</td>\n",
              "      <td>0.209773</td>\n",
              "      <td>0.0</td>\n",
              "      <td>0.202309</td>\n",
              "      <td>0.000000</td>\n",
              "      <td>0.000000</td>\n",
              "      <td>0.168902</td>\n",
              "    </tr>\n",
              "    <tr>\n",
              "      <th>3</th>\n",
              "      <td>0.0</td>\n",
              "      <td>0.000000</td>\n",
              "      <td>0.000000</td>\n",
              "      <td>0.388282</td>\n",
              "      <td>0.000000</td>\n",
              "      <td>0.000000</td>\n",
              "      <td>0.0</td>\n",
              "      <td>0.000000</td>\n",
              "      <td>0.000000</td>\n",
              "      <td>0.000000</td>\n",
              "      <td>0.298392</td>\n",
              "      <td>0.00000</td>\n",
              "      <td>0.000000</td>\n",
              "      <td>0.000000</td>\n",
              "      <td>0.000000</td>\n",
              "      <td>0.0</td>\n",
              "      <td>0.000000</td>\n",
              "      <td>0.729187</td>\n",
              "      <td>0.000000</td>\n",
              "      <td>0.478002</td>\n",
              "    </tr>\n",
              "    <tr>\n",
              "      <th>4</th>\n",
              "      <td>0.0</td>\n",
              "      <td>0.481366</td>\n",
              "      <td>0.387095</td>\n",
              "      <td>0.603581</td>\n",
              "      <td>0.000000</td>\n",
              "      <td>0.000000</td>\n",
              "      <td>0.0</td>\n",
              "      <td>0.000000</td>\n",
              "      <td>0.000000</td>\n",
              "      <td>0.000000</td>\n",
              "      <td>0.000000</td>\n",
              "      <td>0.00000</td>\n",
              "      <td>0.000000</td>\n",
              "      <td>0.000000</td>\n",
              "      <td>0.000000</td>\n",
              "      <td>0.0</td>\n",
              "      <td>0.000000</td>\n",
              "      <td>0.000000</td>\n",
              "      <td>0.504118</td>\n",
              "      <td>0.000000</td>\n",
              "    </tr>\n",
              "  </tbody>\n",
              "</table>\n",
              "</div>"
            ],
            "text/plain": [
              "   analysis  analytics  business  ...      team  technical      work\n",
              "0       0.0   0.000000  0.000000  ...  0.000000   0.617726  0.227625\n",
              "1       0.0   0.000000  0.097013  ...  0.378772   0.379023  0.186221\n",
              "2       0.0   0.000000  0.527941  ...  0.000000   0.000000  0.168902\n",
              "3       0.0   0.000000  0.000000  ...  0.729187   0.000000  0.478002\n",
              "4       0.0   0.481366  0.387095  ...  0.000000   0.504118  0.000000\n",
              "\n",
              "[5 rows x 20 columns]"
            ]
          },
          "metadata": {
            "tags": []
          },
          "execution_count": 55
        }
      ]
    },
    {
      "cell_type": "markdown",
      "metadata": {
        "id": "FcS14dhZJaQr",
        "colab_type": "text"
      },
      "source": [
        " # 6) Create a NearestNeighbor Model. Write the description of your ideal datascience job and query your job listings. "
      ]
    },
    {
      "cell_type": "code",
      "metadata": {
        "outputHidden": false,
        "inputHidden": false,
        "id": "aUn3gd8lJaQt",
        "colab_type": "code",
        "colab": {
          "base_uri": "https://localhost:8080/",
          "height": 67
        },
        "outputId": "5a332100-62b2-4650-c728-f672689cec6c"
      },
      "source": [
        "##### Your Code Here #####\n",
        "from sklearn.neighbors import NearestNeighbors\n",
        "nn = NearestNeighbors(n_neighbors=5,algorithm='ball_tree')\n",
        "\n",
        "nn.fit(dtm.todense())"
      ],
      "execution_count": 56,
      "outputs": [
        {
          "output_type": "execute_result",
          "data": {
            "text/plain": [
              "NearestNeighbors(algorithm='ball_tree', leaf_size=30, metric='minkowski',\n",
              "                 metric_params=None, n_jobs=None, n_neighbors=5, p=2,\n",
              "                 radius=1.0)"
            ]
          },
          "metadata": {
            "tags": []
          },
          "execution_count": 56
        }
      ]
    },
    {
      "cell_type": "code",
      "metadata": {
        "id": "Tx6tuordR0oC",
        "colab_type": "code",
        "colab": {
          "base_uri": "https://localhost:8080/",
          "height": 33
        },
        "outputId": "dde75943-772f-46fd-c71f-a2c85a50058c"
      },
      "source": [
        "ideal_job = ['amazon','blockchain','mathematics']\n",
        "job_squish =[ ' '.join(ideal_job)]\n",
        "job_squish"
      ],
      "execution_count": 60,
      "outputs": [
        {
          "output_type": "execute_result",
          "data": {
            "text/plain": [
              "['amazon blockchain mathematics']"
            ]
          },
          "metadata": {
            "tags": []
          },
          "execution_count": 60
        }
      ]
    },
    {
      "cell_type": "code",
      "metadata": {
        "id": "zhumlDHwSPCj",
        "colab_type": "code",
        "colab": {
          "base_uri": "https://localhost:8080/",
          "height": 33
        },
        "outputId": "46696dec-1678-4a8d-b612-7757b35669e0"
      },
      "source": [
        "new = tfidf.transform(job_squish)\n",
        "\n",
        "nn.kneighbors(new.todense())"
      ],
      "execution_count": 61,
      "outputs": [
        {
          "output_type": "execute_result",
          "data": {
            "text/plain": [
              "(array([[1., 1., 1., 1., 1.]]), array([[278, 287, 289,  34, 325]]))"
            ]
          },
          "metadata": {
            "tags": []
          },
          "execution_count": 61
        }
      ]
    },
    {
      "cell_type": "code",
      "metadata": {
        "id": "MRIzY9MzSjSp",
        "colab_type": "code",
        "colab": {
          "base_uri": "https://localhost:8080/",
          "height": 87
        },
        "outputId": "5cf29c1c-9f78-4059-ab14-cdd6562e87a4"
      },
      "source": [
        "print(mystrings[278])\n",
        "print(mystrings[287])\n",
        "print(mystrings[289])"
      ],
      "execution_count": 59,
      "outputs": [
        {
          "output_type": "stream",
          "text": [
            "icl-u-xs-mt--xs\">temporary, marketing world leading team data scientists developing cutting edge solutions help customers entire buying journey enterprise offerings. team seeking build generation data science critical team marketing analytics, data, &amp; media organization. team builds first-of-a-kind capabilities advanced statistical modeling techniques scale business units geographies. team positioned bring marketing science level, substantial revenue outcomes data scientist interns work alongside marketing analytics experts develop scalable analytical solutions provide data-driven optimization insights ibm. interns work large, complex data sets extract knowledge insights solve difficult, non-routine analysis problems, applying advanced analytical methods needed. interns conduct end-to-end analysis includes industry research, data gathering requirements specification, processing, analysis, ongoing deliverables, marketing data scientist intern, work collaboratively, team, project addresses strategic ibm marketing business challenge. highly visible intern program leadership exposure summer. opportunity showcase final outcomes large audience marketing leaders practitioners organization. addition project, internship includes educational networking candidates formal graduate-level training statistics, machine learning, applied mathematics, and/or operations research passion learn deploy leading technologies drive business marketing data scientist intern positions primarily based new york, new technical professional pursuing graduate degree quantitative discipline (e.g., statistics, data science, computer science, behavioral science, applied mathematics, operations research) discipline involving experimental design quantitative analysis technology work datasets scripting, python, statistical software (spss, sas, r, statistical analysis linear models, multivariate analysis, clustering, time series, mixed model, bayesian knowledge marketing work full-time 12-14 tech prof pursuing phd quantitative discipline (e.g., statistics, data science, computer science, behavioral science, applied mathematics, operations research) discipline involving experimental design quantitative analysis knowledge experience working large data sets apply data mining predictive modeling techniques extract meaningful track record developing intellectual capital published works. basic knowledge digital advancements data science predictive committed creating diverse environment proud equal opportunity employer. qualified applicants receive consideration employment regard race, color, religion, gender, gender identity expression, sexual orientation, national origin, genetics, disability, age, veteran status. ibm committed compliance fair employment practices citizenship immigration\n",
            "b\":who are: sixleaf leading marketing platform party sellers amazon.com variety marketplaces. offer suite complete software solutions brands, big small, selling online. solutions significantly improve marketplace performance profit mission help brands possible scale point household names. goal best it. helping quality brands grow, assist clients achieve dreams, market better place consumers. member team shares joy responsibility making ecommerce world better looking for: love data? love experiment? love looking passionate things. who, fervor investigative reporter, wants inner workings thing. care hype concerned passion research technical writing, perfect position work us?we startup, job demanding times. operate competitive fast moving industry, lots excitement surrounding it, tons things learn. benefits new: unlikely worked project like this. exposed fascinating challenging new world learning incredibly exciting industry money: bluntly; generous. startup, benchmark determines bonus structures pay increases set stone yet, consistently extremely giving. given bonus year season. given raises 90-day probationary period. regularly increase pay based exemplary skillset: exposed people world bring unique set skills table. learning intricacies relatively new industry saas space, require expansion current knowledge. overall, walk away job capable productive job summary::sixleaf looking hire data scientist join fast growth startup! sixleaf established market trusted leader provides content regularly based exciting experiments helpful data. critical present facts, unique combinations aggregated data illustrate important helpful data points online responsible creating experiments finding right data combinations draw logical educated conclusions. outlining parallels correlations, you'll shining light dimly lit world ecommerce, specifically amazon, qualifications: graduate degree computer science, engineering, business information systems, mathematics, statistics, data science related track record delivering highly-scalable reliable data science solutions multiple ability communicate insights analysis appropriate visualization tools, methods information management skills (architecture, design, development support) etl, database, edw, reporting &amp; big data experience 2-3 different technology stacks etl, dw, reporting &amp; big data written oral communication skills, particularly ability synthesize complex issues/scenarios easy-to-understand concepts detail self-discipline, strong ownership accountability drive ability work ambiguous situations influence organizational essential duties responsibilities* tasked steward company data provide novel strategies ideas leveraging new data sources, development custom analytics uncover valuable opportunities insights, spearhead rapid approach problems multiple angles develop test complex models enhance, track, drive client technical skills set r, python, machine learning key role, strong business acumen e-commerce search optimization, price elasticity, psychology sales demand equally thought leader organization branch new e-commerce spaces, new ways approach data operational business aspects data streams machine learning applications enhance proprietary marketing analytics software services agile update business intelligence systems research new information industry drive creation, prototyping, iteration novel business analytics\n",
            "leading software platform digital assets. offering largest production blockchain platform world, share passion code, create, ultimately build open, accessible fair financial future, piece software time. looking add data scientist | analyst growth team expand tens millions users statistical techniques complex data sets understand users geographies engagement analyze, interpret trends patterns provide ongoing reports data visualisations, order recommendations wider internal stakeholders external business partners ensure accurate collection logging data needed provide insights user engagement help drive business performance marketing campaigns customer referral programs. build data pipelines import traffic data daily machine learning models email targeting, content recommendation algorithms, delivery &amp; targeting infrastructure, in-product notification experience ios, android degree mathematics, statistics, economics, cs, engineering hard years professional working experiment\n"
          ],
          "name": "stdout"
        }
      ]
    },
    {
      "cell_type": "markdown",
      "metadata": {
        "colab_type": "text",
        "id": "FiDfTWceoRkH"
      },
      "source": [
        "## Stretch Goals\n",
        "\n",
        " - Try different visualizations for words and frequencies - what story do you want to tell with the data?\n",
        " - Scrape Job Listings for the job title \"Data Analyst\". How do these differ from Data Scientist Job Listings\n",
        " - Try and identify requirements for experience specific technologies that are asked for in the job listings. How are those distributed among the job listings?\n",
        " - Use a clustering algorithm to cluster documents by their most important terms. Do the clusters reveal any common themes?\n",
        "  - **Hint:** K-means might not be the best algorithm for this. Do a little bit of research to see what might be good for this. Also, remember that algorithms that depend on Euclidean distance break down with high dimensional data."
      ]
    },
    {
      "cell_type": "code",
      "metadata": {
        "id": "dTAVE7zESPiv",
        "colab_type": "code",
        "colab": {}
      },
      "source": [
        ""
      ],
      "execution_count": 0,
      "outputs": []
    }
  ]
}