{
 "cells": [
  {
   "cell_type": "markdown",
   "metadata": {
    "colab_type": "text",
    "id": "ry8j1eClyiYc"
   },
   "source": [
    "### Rise and shine, time to check the news. Write a Python program to get the top news stories from Google. Bonus points if you can do additional news sources. \n"
   ]
  },
  {
   "cell_type": "code",
   "execution_count": 17,
   "metadata": {},
   "outputs": [],
   "source": [
    "import webbrowser\n",
    "\n",
    "google = webbrowser.open('https://news.google.com/?hl=en-US&gl=US&ceid=US:en')\n",
    "bbc = webbrowser.open('https://bbc.com')"
   ]
  },
  {
   "cell_type": "markdown",
   "metadata": {
    "colab_type": "text",
    "id": "kPuFV0TX4yM7"
   },
   "source": [
    "### What is the weather like today? Write a Python program to find the live weather report (temperature, wind speed, description and weather) of a given city. **Hint** [one easy source](https://openweathermap.org/api)"
   ]
  },
  {
   "cell_type": "code",
   "execution_count": 25,
   "metadata": {
    "colab": {},
    "colab_type": "code",
    "id": "Ttes8IpK4y0P"
   },
   "outputs": [
    {
     "name": "stdout",
     "output_type": "stream",
     "text": [
      "Weather report: Pasadena, United States\n",
      "\n",
      " \u001b[38;5;226m    \\   /    \u001b[0m Sunny\n",
      " \u001b[38;5;226m     .-.     \u001b[0m \u001b[38;5;082m53\u001b[0m °F\u001b[0m          \n",
      " \u001b[38;5;226m  ― (   ) ―  \u001b[0m \u001b[1m↗\u001b[0m \u001b[38;5;118m3\u001b[0m mph\u001b[0m        \n",
      " \u001b[38;5;226m     `-’     \u001b[0m 9 mi\u001b[0m           \n",
      " \u001b[38;5;226m    /   \\    \u001b[0m 0.0 in\u001b[0m         \n",
      "                                                       ┌─────────────┐                                                       \n",
      "┌──────────────────────────────┬───────────────────────┤  Wed 02 Oct ├───────────────────────┬──────────────────────────────┐\n",
      "│            Morning           │             Noon      └──────┬──────┘     Evening           │             Night            │\n",
      "├──────────────────────────────┼──────────────────────────────┼──────────────────────────────┼──────────────────────────────┤\n",
      "│ \u001b[38;5;226m    \\   /    \u001b[0m Sunny          │ \u001b[38;5;226m    \\   /    \u001b[0m Sunny          │ \u001b[38;5;226m    \\   /    \u001b[0m Sunny          │ \u001b[38;5;226m    \\   /    \u001b[0m Clear          │\n",
      "│ \u001b[38;5;226m     .-.     \u001b[0m \u001b[38;5;190m69\u001b[0m °F\u001b[0m          │ \u001b[38;5;226m     .-.     \u001b[0m \u001b[38;5;220m77\u001b[0m..\u001b[38;5;220m80\u001b[0m °F\u001b[0m      │ \u001b[38;5;226m     .-.     \u001b[0m \u001b[38;5;220m80\u001b[0m..\u001b[38;5;214m84\u001b[0m °F\u001b[0m      │ \u001b[38;5;226m     .-.     \u001b[0m \u001b[38;5;220m80\u001b[0m °F\u001b[0m          │\n",
      "│ \u001b[38;5;226m  ― (   ) ―  \u001b[0m \u001b[1m←\u001b[0m \u001b[38;5;118m3\u001b[0m-\u001b[38;5;154m5\u001b[0m mph\u001b[0m      │ \u001b[38;5;226m  ― (   ) ―  \u001b[0m \u001b[1m→\u001b[0m \u001b[38;5;082m1\u001b[0m mph\u001b[0m        │ \u001b[38;5;226m  ― (   ) ―  \u001b[0m \u001b[1m↖\u001b[0m \u001b[38;5;154m4\u001b[0m-\u001b[38;5;154m5\u001b[0m mph\u001b[0m      │ \u001b[38;5;226m  ― (   ) ―  \u001b[0m \u001b[1m↓\u001b[0m \u001b[38;5;118m2\u001b[0m-\u001b[38;5;118m3\u001b[0m mph\u001b[0m      │\n",
      "│ \u001b[38;5;226m     `-’     \u001b[0m 6 mi\u001b[0m           │ \u001b[38;5;226m     `-’     \u001b[0m 6 mi\u001b[0m           │ \u001b[38;5;226m     `-’     \u001b[0m 6 mi\u001b[0m           │ \u001b[38;5;226m     `-’     \u001b[0m 6 mi\u001b[0m           │\n",
      "│ \u001b[38;5;226m    /   \\    \u001b[0m 0.0 in | 0%\u001b[0m    │ \u001b[38;5;226m    /   \\    \u001b[0m 0.0 in | 0%\u001b[0m    │ \u001b[38;5;226m    /   \\    \u001b[0m 0.0 in | 0%\u001b[0m    │ \u001b[38;5;226m    /   \\    \u001b[0m 0.0 in | 0%\u001b[0m    │\n",
      "└──────────────────────────────┴──────────────────────────────┴──────────────────────────────┴──────────────────────────────┘\n",
      "                                                       ┌─────────────┐                                                       \n",
      "┌──────────────────────────────┬───────────────────────┤  Thu 03 Oct ├───────────────────────┬──────────────────────────────┐\n",
      "│            Morning           │             Noon      └──────┬──────┘     Evening           │             Night            │\n",
      "├──────────────────────────────┼──────────────────────────────┼──────────────────────────────┼──────────────────────────────┤\n",
      "│ \u001b[38;5;226m    \\   /    \u001b[0m Sunny          │ \u001b[38;5;226m    \\   /    \u001b[0m Sunny          │ \u001b[38;5;226m    \\   /    \u001b[0m Sunny          │ \u001b[38;5;226m    \\   /    \u001b[0m Clear          │\n",
      "│ \u001b[38;5;226m     .-.     \u001b[0m \u001b[38;5;226m73\u001b[0m °F\u001b[0m          │ \u001b[38;5;226m     .-.     \u001b[0m \u001b[38;5;220m77\u001b[0m..\u001b[38;5;220m80\u001b[0m °F\u001b[0m      │ \u001b[38;5;226m     .-.     \u001b[0m \u001b[38;5;220m80\u001b[0m..\u001b[38;5;214m84\u001b[0m °F\u001b[0m      │ \u001b[38;5;226m     .-.     \u001b[0m \u001b[38;5;220m77\u001b[0m °F\u001b[0m          │\n",
      "│ \u001b[38;5;226m  ― (   ) ―  \u001b[0m \u001b[1m←\u001b[0m \u001b[38;5;118m3\u001b[0m-\u001b[38;5;154m4\u001b[0m mph\u001b[0m      │ \u001b[38;5;226m  ― (   ) ―  \u001b[0m \u001b[1m↑\u001b[0m \u001b[38;5;154m5\u001b[0m-\u001b[38;5;190m6\u001b[0m mph\u001b[0m      │ \u001b[38;5;226m  ― (   ) ―  \u001b[0m \u001b[1m↑\u001b[0m \u001b[38;5;154m4\u001b[0m mph\u001b[0m        │ \u001b[38;5;226m  ― (   ) ―  \u001b[0m \u001b[1m↖\u001b[0m \u001b[38;5;082m0\u001b[0m-\u001b[38;5;082m1\u001b[0m mph\u001b[0m      │\n",
      "│ \u001b[38;5;226m     `-’     \u001b[0m 6 mi\u001b[0m           │ \u001b[38;5;226m     `-’     \u001b[0m 6 mi\u001b[0m           │ \u001b[38;5;226m     `-’     \u001b[0m 6 mi\u001b[0m           │ \u001b[38;5;226m     `-’     \u001b[0m 6 mi\u001b[0m           │\n",
      "│ \u001b[38;5;226m    /   \\    \u001b[0m 0.0 in | 0%\u001b[0m    │ \u001b[38;5;226m    /   \\    \u001b[0m 0.0 in | 0%\u001b[0m    │ \u001b[38;5;226m    /   \\    \u001b[0m 0.0 in | 0%\u001b[0m    │ \u001b[38;5;226m    /   \\    \u001b[0m 0.0 in | 0%\u001b[0m    │\n",
      "└──────────────────────────────┴──────────────────────────────┴──────────────────────────────┴──────────────────────────────┘\n",
      "                                                       ┌─────────────┐                                                       \n",
      "┌──────────────────────────────┬───────────────────────┤  Fri 04 Oct ├───────────────────────┬──────────────────────────────┐\n",
      "│            Morning           │             Noon      └──────┬──────┘     Evening           │             Night            │\n",
      "├──────────────────────────────┼──────────────────────────────┼──────────────────────────────┼──────────────────────────────┤\n",
      "│ \u001b[38;5;226m    \\   /    \u001b[0m Sunny          │ \u001b[38;5;226m    \\   /    \u001b[0m Sunny          │ \u001b[38;5;226m    \\   /    \u001b[0m Sunny          │ \u001b[38;5;226m    \\   /    \u001b[0m Clear          │\n",
      "│ \u001b[38;5;226m     .-.     \u001b[0m \u001b[38;5;226m73\u001b[0m °F\u001b[0m          │ \u001b[38;5;226m     .-.     \u001b[0m \u001b[38;5;220m77\u001b[0m..\u001b[38;5;220m78\u001b[0m °F\u001b[0m      │ \u001b[38;5;226m     .-.     \u001b[0m \u001b[38;5;220m78\u001b[0m..\u001b[38;5;214m82\u001b[0m °F\u001b[0m      │ \u001b[38;5;226m     .-.     \u001b[0m \u001b[38;5;220m77\u001b[0m °F\u001b[0m          │\n",
      "│ \u001b[38;5;226m  ― (   ) ―  \u001b[0m \u001b[1m←\u001b[0m \u001b[38;5;118m2\u001b[0m mph\u001b[0m        │ \u001b[38;5;226m  ― (   ) ―  \u001b[0m \u001b[1m↑\u001b[0m \u001b[38;5;154m5\u001b[0m-\u001b[38;5;190m6\u001b[0m mph\u001b[0m      │ \u001b[38;5;226m  ― (   ) ―  \u001b[0m \u001b[1m↗\u001b[0m \u001b[38;5;154m4\u001b[0m-\u001b[38;5;154m5\u001b[0m mph\u001b[0m      │ \u001b[38;5;226m  ― (   ) ―  \u001b[0m \u001b[1m↑\u001b[0m \u001b[38;5;082m1\u001b[0m mph\u001b[0m        │\n",
      "│ \u001b[38;5;226m     `-’     \u001b[0m 6 mi\u001b[0m           │ \u001b[38;5;226m     `-’     \u001b[0m 6 mi\u001b[0m           │ \u001b[38;5;226m     `-’     \u001b[0m 6 mi\u001b[0m           │ \u001b[38;5;226m     `-’     \u001b[0m 6 mi\u001b[0m           │\n",
      "│ \u001b[38;5;226m    /   \\    \u001b[0m 0.0 in | 0%\u001b[0m    │ \u001b[38;5;226m    /   \\    \u001b[0m 0.0 in | 0%\u001b[0m    │ \u001b[38;5;226m    /   \\    \u001b[0m 0.0 in | 0%\u001b[0m    │ \u001b[38;5;226m    /   \\    \u001b[0m 0.0 in | 0%\u001b[0m    │\n",
      "└──────────────────────────────┴──────────────────────────────┴──────────────────────────────┴──────────────────────────────┘\n",
      "\n",
      "Follow \u001b[46m\u001b[30m@igor_chubin\u001b[0m for wttr.in updates\n",
      "\n"
     ]
    }
   ],
   "source": [
    "import os\n",
    "\n",
    "p = os.popen('curl wttr.in')\n",
    "\n",
    "print(p.read())"
   ]
  }
 ],
 "metadata": {
  "colab": {
   "name": "Starting your day with Python.ipynb",
   "provenance": []
  },
  "kernelspec": {
   "display_name": "Python 3",
   "language": "python",
   "name": "python3"
  },
  "language_info": {
   "codemirror_mode": {
    "name": "ipython",
    "version": 3
   },
   "file_extension": ".py",
   "mimetype": "text/x-python",
   "name": "python",
   "nbconvert_exporter": "python",
   "pygments_lexer": "ipython3",
   "version": "3.7.3"
  }
 },
 "nbformat": 4,
 "nbformat_minor": 4
}
