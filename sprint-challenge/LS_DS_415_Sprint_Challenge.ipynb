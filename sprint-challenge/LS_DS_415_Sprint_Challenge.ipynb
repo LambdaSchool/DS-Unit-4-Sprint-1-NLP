{
 "cells": [
  {
   "cell_type": "markdown",
   "metadata": {},
   "source": [
    "<img align=\"left\" src=\"https://lever-client-logos.s3.amazonaws.com/864372b1-534c-480e-acd5-9711f850815c-1524247202159.png\" width=200>\n",
    "<br></br>\n",
    "<br></br>\n",
    "\n",
    "# Sprint Challenge\n",
    "## *Data Science Unit 4 Sprint 1*\n",
    "\n",
    "After a week of Natural Language Processing, you've learned some cool new stuff: how to process text, how turn text into vectors, and how to model topics from documents. Apply your newly acquired skills to one of the most famous NLP datasets out there: [Yelp](https://www.yelp.com/dataset/challenge). As part of the job selection process, some of my friends have been asked to create analysis of this dataset, so I want to empower you to have a head start.  \n",
    "\n",
    "The real dataset is massive (almost 8 gigs uncompressed). I've sampled the data for you to something more managable for the Sprint Challenge. You can analyze the full dataset as a stretch goal or after the sprint challenge. As you work on the challenge, I suggest adding notes about your findings and things you want to analyze in the future.\n",
    "\n",
    "## Challenge Objectives\n",
    "*Successfully complete these all these objectives to earn a 2. There are more details on each objective further down in the notebook.*\n",
    "* <a href=\"#p1\">Part 1</a>: Write a function to tokenize the yelp reviews\n",
    "* <a href=\"#p2\">Part 2</a>: Create a vector representation of those tokens\n",
    "* <a href=\"#p3\">Part 3</a>: Use your tokens in a classification model on yelp rating\n",
    "* <a href=\"#p4\">Part 4</a>: Estimate & Interpret a topic model of the Yelp reviews"
   ]
  },
  {
   "cell_type": "code",
   "execution_count": 21,
   "metadata": {},
   "outputs": [],
   "source": [
    "import pandas as pd\n",
    "\n",
    "yelp = pd.read_json('./data/review_sample.json', lines=True)"
   ]
  },
  {
   "cell_type": "code",
   "execution_count": 22,
   "metadata": {},
   "outputs": [
    {
     "data": {
      "text/html": [
       "<div>\n",
       "<style scoped>\n",
       "    .dataframe tbody tr th:only-of-type {\n",
       "        vertical-align: middle;\n",
       "    }\n",
       "\n",
       "    .dataframe tbody tr th {\n",
       "        vertical-align: top;\n",
       "    }\n",
       "\n",
       "    .dataframe thead th {\n",
       "        text-align: right;\n",
       "    }\n",
       "</style>\n",
       "<table border=\"1\" class=\"dataframe\">\n",
       "  <thead>\n",
       "    <tr style=\"text-align: right;\">\n",
       "      <th></th>\n",
       "      <th>business_id</th>\n",
       "      <th>cool</th>\n",
       "      <th>date</th>\n",
       "      <th>funny</th>\n",
       "      <th>review_id</th>\n",
       "      <th>stars</th>\n",
       "      <th>text</th>\n",
       "      <th>useful</th>\n",
       "      <th>user_id</th>\n",
       "    </tr>\n",
       "  </thead>\n",
       "  <tbody>\n",
       "    <tr>\n",
       "      <th>0</th>\n",
       "      <td>nDuEqIyRc8YKS1q1fX0CZg</td>\n",
       "      <td>1</td>\n",
       "      <td>2015-03-31 16:50:30</td>\n",
       "      <td>0</td>\n",
       "      <td>eZs2tpEJtXPwawvHnHZIgQ</td>\n",
       "      <td>1</td>\n",
       "      <td>BEWARE!!! FAKE, FAKE, FAKE....We also own a sm...</td>\n",
       "      <td>10</td>\n",
       "      <td>n1LM36qNg4rqGXIcvVXv8w</td>\n",
       "    </tr>\n",
       "    <tr>\n",
       "      <th>1</th>\n",
       "      <td>eMYeEapscbKNqUDCx705hg</td>\n",
       "      <td>0</td>\n",
       "      <td>2015-12-16 05:31:03</td>\n",
       "      <td>0</td>\n",
       "      <td>DoQDWJsNbU0KL1O29l_Xug</td>\n",
       "      <td>4</td>\n",
       "      <td>Came here for lunch Togo. Service was quick. S...</td>\n",
       "      <td>0</td>\n",
       "      <td>5CgjjDAic2-FAvCtiHpytA</td>\n",
       "    </tr>\n",
       "    <tr>\n",
       "      <th>2</th>\n",
       "      <td>6Q7-wkCPc1KF75jZLOTcMw</td>\n",
       "      <td>1</td>\n",
       "      <td>2010-06-20 19:14:48</td>\n",
       "      <td>1</td>\n",
       "      <td>DDOdGU7zh56yQHmUnL1idQ</td>\n",
       "      <td>3</td>\n",
       "      <td>I've been to Vegas dozens of times and had nev...</td>\n",
       "      <td>2</td>\n",
       "      <td>BdV-cf3LScmb8kZ7iiBcMA</td>\n",
       "    </tr>\n",
       "    <tr>\n",
       "      <th>3</th>\n",
       "      <td>k3zrItO4l9hwfLRwHBDc9w</td>\n",
       "      <td>3</td>\n",
       "      <td>2010-07-13 00:33:45</td>\n",
       "      <td>4</td>\n",
       "      <td>LfTMUWnfGFMOfOIyJcwLVA</td>\n",
       "      <td>1</td>\n",
       "      <td>We went here on a night where they closed off ...</td>\n",
       "      <td>5</td>\n",
       "      <td>cZZnBqh4gAEy4CdNvJailQ</td>\n",
       "    </tr>\n",
       "    <tr>\n",
       "      <th>4</th>\n",
       "      <td>6hpfRwGlOzbNv7k5eP9rsQ</td>\n",
       "      <td>1</td>\n",
       "      <td>2018-06-30 02:30:01</td>\n",
       "      <td>0</td>\n",
       "      <td>zJSUdI7bJ8PNJAg4lnl_Gg</td>\n",
       "      <td>4</td>\n",
       "      <td>3.5 to 4 stars\\n\\nNot bad for the price, $12.9...</td>\n",
       "      <td>5</td>\n",
       "      <td>n9QO4ClYAS7h9fpQwa5bhA</td>\n",
       "    </tr>\n",
       "  </tbody>\n",
       "</table>\n",
       "</div>"
      ],
      "text/plain": [
       "              business_id  cool                date  funny  \\\n",
       "0  nDuEqIyRc8YKS1q1fX0CZg     1 2015-03-31 16:50:30      0   \n",
       "1  eMYeEapscbKNqUDCx705hg     0 2015-12-16 05:31:03      0   \n",
       "2  6Q7-wkCPc1KF75jZLOTcMw     1 2010-06-20 19:14:48      1   \n",
       "3  k3zrItO4l9hwfLRwHBDc9w     3 2010-07-13 00:33:45      4   \n",
       "4  6hpfRwGlOzbNv7k5eP9rsQ     1 2018-06-30 02:30:01      0   \n",
       "\n",
       "                review_id  stars  \\\n",
       "0  eZs2tpEJtXPwawvHnHZIgQ      1   \n",
       "1  DoQDWJsNbU0KL1O29l_Xug      4   \n",
       "2  DDOdGU7zh56yQHmUnL1idQ      3   \n",
       "3  LfTMUWnfGFMOfOIyJcwLVA      1   \n",
       "4  zJSUdI7bJ8PNJAg4lnl_Gg      4   \n",
       "\n",
       "                                                text  useful  \\\n",
       "0  BEWARE!!! FAKE, FAKE, FAKE....We also own a sm...      10   \n",
       "1  Came here for lunch Togo. Service was quick. S...       0   \n",
       "2  I've been to Vegas dozens of times and had nev...       2   \n",
       "3  We went here on a night where they closed off ...       5   \n",
       "4  3.5 to 4 stars\\n\\nNot bad for the price, $12.9...       5   \n",
       "\n",
       "                  user_id  \n",
       "0  n1LM36qNg4rqGXIcvVXv8w  \n",
       "1  5CgjjDAic2-FAvCtiHpytA  \n",
       "2  BdV-cf3LScmb8kZ7iiBcMA  \n",
       "3  cZZnBqh4gAEy4CdNvJailQ  \n",
       "4  n9QO4ClYAS7h9fpQwa5bhA  "
      ]
     },
     "execution_count": 22,
     "metadata": {},
     "output_type": "execute_result"
    }
   ],
   "source": [
    "yelp.head()"
   ]
  },
  {
   "cell_type": "code",
   "execution_count": 80,
   "metadata": {},
   "outputs": [
    {
     "name": "stderr",
     "output_type": "stream",
     "text": [
      "[nltk_data] Downloading package stopwords to\n",
      "[nltk_data]     /Users/connorheraty/nltk_data...\n",
      "[nltk_data]   Package stopwords is already up-to-date!\n"
     ]
    }
   ],
   "source": [
    "import re\n",
    "import numpy as np\n",
    "import pandas as pd\n",
    "from pprint import pprint\n",
    "\n",
    "# Gensim\n",
    "import gensim\n",
    "import gensim.corpora as corpora\n",
    "from gensim.utils import simple_preprocess\n",
    "from gensim.models import CoherenceModel\n",
    "from gensim.models.ldamulticore import LdaMulticore\n",
    "\n",
    "# spacy for lemmatization\n",
    "import spacy\n",
    "\n",
    "# Plotting tools\n",
    "import pyLDAvis\n",
    "import pyLDAvis.gensim  \n",
    "import matplotlib.pyplot as plt\n",
    "%matplotlib inline\n",
    "\n",
    "# stopword\n",
    "import nltk; nltk.download('stopwords')\n",
    "\n",
    "# Enable logging for gensim - optional\n",
    "import logging\n",
    "logging.basicConfig(format='%(asctime)s : %(levelname)s : %(message)s', level=logging.ERROR)\n",
    "\n",
    "import warnings\n",
    "warnings.filterwarnings(\"ignore\",category=DeprecationWarning)"
   ]
  },
  {
   "cell_type": "code",
   "execution_count": 24,
   "metadata": {},
   "outputs": [
    {
     "data": {
      "text/plain": [
       "'BEWARE!!! FAKE, FAKE, FAKE....We also own a small business in Los Alamitos, CA and received what looked like a legitimate bill for $70 with an account number and all.  I called the phone number listed (866) 273-7934.  The wait time on hold said 20 minutes and to leave a message.  I could not get a live person on the phone no matter what number I selected.  I left a very FIRM message that I would be contacting the BBB and my attorney regarding their company trying to scam businesses. This has to be illegal!!!!!'"
      ]
     },
     "execution_count": 24,
     "metadata": {},
     "output_type": "execute_result"
    }
   ],
   "source": [
    "yelp['text'][0]"
   ]
  },
  {
   "cell_type": "markdown",
   "metadata": {},
   "source": [
    "## Part 1: Tokenize Function\n",
    "<a id=\"#p1\"></a>\n",
    "\n",
    "Complete the function `tokenize`. Your function should\n",
    "- accept one document at a time\n",
    "- return a list of tokens\n",
    "\n",
    "You are free to use any method you have learned this week."
   ]
  },
  {
   "cell_type": "markdown",
   "metadata": {},
   "source": [
    "### Tokenization"
   ]
  },
  {
   "cell_type": "code",
   "execution_count": 25,
   "metadata": {},
   "outputs": [],
   "source": [
    "def tokenize(docs):\n",
    "    \n",
    "    for doc in docs:\n",
    "        yield(gensim.utils.simple_preprocess(str(doc), deacc=True))"
   ]
  },
  {
   "cell_type": "code",
   "execution_count": 26,
   "metadata": {},
   "outputs": [],
   "source": [
    "data_words = list(tokenize(yelp['text']))"
   ]
  },
  {
   "cell_type": "code",
   "execution_count": 42,
   "metadata": {},
   "outputs": [],
   "source": [
    "data_list = []\n",
    "for doc in data_words:\n",
    "    new_doc = [token.lower() for token in doc]\n",
    "    data_list.append(new_doc)"
   ]
  },
  {
   "cell_type": "code",
   "execution_count": 44,
   "metadata": {},
   "outputs": [],
   "source": [
    "yelp['tokens'] = data_list"
   ]
  },
  {
   "cell_type": "markdown",
   "metadata": {},
   "source": [
    "### Remove Stopwords"
   ]
  },
  {
   "cell_type": "code",
   "execution_count": 107,
   "metadata": {},
   "outputs": [],
   "source": [
    "# NLTK Stop words\n",
    "from nltk.corpus import stopwords\n",
    "stop_words = stopwords.words('english')\n",
    "stop_words.extend([' ', '\\n', '\\n\\n'])"
   ]
  },
  {
   "cell_type": "code",
   "execution_count": 28,
   "metadata": {},
   "outputs": [],
   "source": [
    "def remove_stopwords(texts):\n",
    "    return [[word for word in simple_preprocess(str(texts)) if word not in stop_words] for doc in texts]"
   ]
  },
  {
   "cell_type": "markdown",
   "metadata": {},
   "source": [
    "## Part 2: Vector Representation\n",
    "<a id=\"#p2\"></a>\n",
    "1. Create a vector representation of the reviews\n",
    "2. Write a fake review and query for the 10 most similiar reviews, print the text of the reviews. Do you notice any patterns?\n",
    "    - Given the size of the dataset, it will probably be best to use a `NearestNeighbors` model for this. "
   ]
  },
  {
   "cell_type": "markdown",
   "metadata": {},
   "source": [
    "### TF-IDF Vectorization"
   ]
  },
  {
   "cell_type": "code",
   "execution_count": 47,
   "metadata": {},
   "outputs": [
    {
     "name": "stderr",
     "output_type": "stream",
     "text": [
      "/anaconda3/lib/python3.7/site-packages/sklearn/feature_extraction/text.py:300: UserWarning: Your stop_words may be inconsistent with your preprocessing. Tokenizing the stop words generated tokens ['b', 'c', 'd', 'e', 'f', 'g', 'h', 'k', 'l', 'm', 'n', 'o', 'p', 'r', 's', 't', 'u', 'v', 'w', 'x', 'y'] not in stop_words.\n",
      "  'stop_words.' % sorted(inconsistent))\n"
     ]
    }
   ],
   "source": [
    "from sklearn.feature_extraction.text import TfidfVectorizer\n",
    "\n",
    "# Instantiate vectorizer object\n",
    "tfidf = TfidfVectorizer(stop_words='english', max_features=5000, lowercase=False, tokenizer=lambda x:x)\n",
    "\n",
    "# Create a vocabulary and get word counts per document\n",
    "dtm = tfidf.fit_transform(yelp['tokens'])"
   ]
  },
  {
   "cell_type": "markdown",
   "metadata": {},
   "source": [
    "### Nearest Neighbor Modeling"
   ]
  },
  {
   "cell_type": "code",
   "execution_count": 50,
   "metadata": {},
   "outputs": [
    {
     "data": {
      "text/plain": [
       "NearestNeighbors(algorithm='ball_tree', leaf_size=30, metric='minkowski',\n",
       "         metric_params=None, n_jobs=None, n_neighbors=10, p=2, radius=1.0)"
      ]
     },
     "execution_count": 50,
     "metadata": {},
     "output_type": "execute_result"
    }
   ],
   "source": [
    "# Instantiate\n",
    "from sklearn.neighbors import NearestNeighbors\n",
    "\n",
    "nn = NearestNeighbors(n_neighbors=10, algorithm='ball_tree')\n",
    "\n",
    "# Fit on TF-IDF Vectors\n",
    "nn.fit(dtm.todense())"
   ]
  },
  {
   "cell_type": "markdown",
   "metadata": {},
   "source": [
    "### Fake Review"
   ]
  },
  {
   "cell_type": "code",
   "execution_count": 59,
   "metadata": {},
   "outputs": [
    {
     "data": {
      "text/plain": [
       "(array([[0., 0., 1., 1., 1., 1., 1., 1., 1., 1.]]),\n",
       " array([[6204, 6311, 2015, 3650, 6411,   22, 2773,  198, 4090, 1077]]))"
      ]
     },
     "execution_count": 59,
     "metadata": {},
     "output_type": "execute_result"
    }
   ],
   "source": [
    "# Fake Review Example\n",
    "# Overtly negative to test efficacy of model\n",
    "new = tfidf.transform(['I Absolutely hate hate hate this restaurant. The service is horrible and the food stinks! I do NOT recommend ever going to this stupid horrible restaurant. I would rather die of starvation then ever eat at this horrible terrible no good place ever again.'])\n",
    "\n",
    "nn.kneighbors(new.todense())"
   ]
  },
  {
   "cell_type": "code",
   "execution_count": 150,
   "metadata": {},
   "outputs": [
    {
     "data": {
      "text/plain": [
       "\"I have a love hate relationship with this buffet...sometimes I come out feeling that was a good meal...other times I felt wow that could have been better. The last few times has been the latter. For one, I take the quality is just going down. I think compared to everywhere else, they do have the different choices with the exception of the pizza and the meats and breakfast, but that's just it. It used to be my go to buffet but it hasn't been for awhile.\\n\\nI don't know if it's just the Wynn but wth? The second to the last time I went my friend showed up with a muscle shirt and he wasn't let in because they have this no sleeveless shirt for guys policy in the buffet? Really it's freaking 100 degrees outside and you expect him to wear a shirt with sleeves? This isn't fine dining, it's a freaking buffet and it was 3 o'clock in the afternoon. What happens if we waited in line for an hour and then by time we get to the front you turned us away? that wouldn't have been nice at least it was quiet. But seriously, if you can come in into the hotel like that then you can go into the buffet like that..I can understand other restaurants but a buffet??? We didn't end up going back (the whole getting another shirt thing was just out of way) we ended up going to M Buffet. :P\""
      ]
     },
     "execution_count": 150,
     "metadata": {},
     "output_type": "execute_result"
    }
   ],
   "source": [
    "# Similar review with a clearly negative spin\n",
    "yelp['text'][4090]"
   ]
  },
  {
   "cell_type": "code",
   "execution_count": 64,
   "metadata": {},
   "outputs": [
    {
     "data": {
      "text/plain": [
       "'旅行でラスベガスに来ましたがネイルがはげてるのが気になり、探したお店でした。\\n質問にも丁寧に答えてくれましたし、日本人の方も日本語が話せる方も居て、とても綺麗で居心地のいいお店でした。 \\nネイルはちはるさんと言う綺麗な方が丁寧にしてくれとても気に入りました。\\n予定になかったまつ毛エクステもお願いし、日本ではまだあまりないブラウンカラーのエクステをしてもらい、とても気に入りました。\\nまた是非マッサージなどで伺いたいと思います。'"
      ]
     },
     "execution_count": 64,
     "metadata": {},
     "output_type": "execute_result"
    }
   ],
   "source": [
    "# Not sure of the connection here...\n",
    "yelp['text'][6204]"
   ]
  },
  {
   "cell_type": "markdown",
   "metadata": {},
   "source": [
    "## Part 3: Classification\n",
    "<a id=\"#p3\"></a>\n",
    "Your goal in this section will be to predict `stars` from the review dataset. \n",
    "\n",
    "1. Create a piepline object with a sklearn `CountVectorizer` or `TfidfVector` and any sklearn classifier. Use that pipeline to estimate a model to predict `stars`. Use the Pipeline to predict a star rating for your fake review from Part 2. \n",
    "2. Tune the entire pipeline with a GridSearch"
   ]
  },
  {
   "cell_type": "code",
   "execution_count": 72,
   "metadata": {},
   "outputs": [],
   "source": [
    "from sklearn.linear_model import SGDClassifier\n",
    "from sklearn.pipeline import Pipeline\n",
    "from sklearn.model_selection import GridSearchCV\n",
    "\n",
    "# Instantiate Pipline Object\n",
    "vect=TfidfVectorizer(stop_words='english')\n",
    "sgdc = SGDClassifier()\n",
    "pipeline = Pipeline([\n",
    "    ('vect',vect),\n",
    "    ('clf', sgdc)\n",
    "])"
   ]
  },
  {
   "cell_type": "code",
   "execution_count": 73,
   "metadata": {},
   "outputs": [],
   "source": [
    "parameters = {\n",
    "    'vect__max_df': (0.5, 0.75, 1.0),\n",
    "    'vect__max_features': (None, 5000, 10000, 50000),\n",
    "#    'vect__ngram_range': ((1, 1), (1, 2)),  # unigrams or bigrams\n",
    "#    'tfidf__use_idf': (True, False),\n",
    "#    'tfidf__norm': ('l1', 'l2'),\n",
    "    'clf__max_iter': (20,),\n",
    "    'clf__alpha': (0.00001, 0.000001),\n",
    "    'clf__penalty': ('l2', 'elasticnet'),\n",
    "#    'clf__max_iter': (10, 50, 80),\n",
    "}"
   ]
  },
  {
   "cell_type": "code",
   "execution_count": 74,
   "metadata": {},
   "outputs": [],
   "source": [
    "features = 'text'\n",
    "target = 'stars'"
   ]
  },
  {
   "cell_type": "code",
   "execution_count": 75,
   "metadata": {},
   "outputs": [
    {
     "name": "stdout",
     "output_type": "stream",
     "text": [
      "Fitting 5 folds for each of 48 candidates, totalling 240 fits\n"
     ]
    },
    {
     "name": "stderr",
     "output_type": "stream",
     "text": [
      "[Parallel(n_jobs=-1)]: Using backend LokyBackend with 4 concurrent workers.\n",
      "[Parallel(n_jobs=-1)]: Done  42 tasks      | elapsed:   40.0s\n",
      "[Parallel(n_jobs=-1)]: Done 192 tasks      | elapsed:  2.9min\n",
      "[Parallel(n_jobs=-1)]: Done 240 out of 240 | elapsed:  3.7min finished\n",
      "/anaconda3/lib/python3.7/site-packages/sklearn/linear_model/stochastic_gradient.py:183: FutureWarning: max_iter and tol parameters have been added in SGDClassifier in 0.19. If max_iter is set but tol is left unset, the default value for tol in 0.19 and 0.20 will be None (which is equivalent to -infinity, so it has no effect) but will change in 0.21 to 1e-3. Specify tol to silence this warning.\n",
      "  FutureWarning)\n"
     ]
    },
    {
     "name": "stdout",
     "output_type": "stream",
     "text": [
      "best score: 0.568\n",
      "Best parameters set:\n",
      "\tclf__alpha: 1e-05\n",
      "\tclf__max_iter: 20\n",
      "\tclf__penalty: 'elasticnet'\n",
      "\tvect__max_df: 0.75\n",
      "\tvect__max_features: 50000\n"
     ]
    }
   ],
   "source": [
    "grid_search = GridSearchCV(pipeline, parameters, cv=5,\n",
    "                          n_jobs=-1,verbose=1)\n",
    "\n",
    "\n",
    "grid_search.fit(yelp[features],yelp[target])\n",
    "print('best score: %0.3f'% grid_search.best_score_)\n",
    "print('Best parameters set:')\n",
    "best_parameters = grid_search.best_estimator_.get_params()\n",
    "for param_name in sorted(parameters.keys()):\n",
    "    print(\"\\t%s: %r\" % (param_name, best_parameters[param_name]))"
   ]
  },
  {
   "cell_type": "markdown",
   "metadata": {},
   "source": [
    "## Part 4: Topic Modeling\n",
    "\n",
    "Let's find out what those yelp reviews are saying! :D\n",
    "\n",
    "1. Estimate a LDA topic model of the review text\n",
    "2. Create 1-2 visualizations of the results\n",
    "    - You can use the most important 3 words of a topic in relevant visualizations. Refer to yesterday's notebook to extract. \n",
    "3. In markdown, write 1-2 paragraphs of analysis on the results of your topic model\n",
    "\n",
    "__*Note*__: You can pass the DataFrame column of text reviews to gensim. You do not have to use a generator."
   ]
  },
  {
   "cell_type": "code",
   "execution_count": 139,
   "metadata": {},
   "outputs": [],
   "source": [
    "import spacy\n",
    "from spacy.tokenizer import Tokenizer\n",
    "nlp = spacy.load(\"en_core_web_sm\")"
   ]
  },
  {
   "cell_type": "code",
   "execution_count": 140,
   "metadata": {},
   "outputs": [],
   "source": [
    "tokenizer = Tokenizer(nlp.vocab)\n",
    "\n",
    "STOPWORDS = stop_words\n",
    "tokens = []\n",
    "\n",
    "for doc in tokenizer.pipe(yelp['text'], batch_size=500):\n",
    "    doc_tokens = [token.text.lower() for token in doc if token.text.lower() not in STOPWORDS]\n",
    "    tokens.append(doc_tokens)\n",
    "    \n",
    "yelp['tokens'] = tokens"
   ]
  },
  {
   "cell_type": "code",
   "execution_count": 161,
   "metadata": {},
   "outputs": [],
   "source": [
    "def lemmatization(texts, allowed_postags=['NOUN', 'ADJ', 'VERB', 'ADV']):\n",
    "    \"\"\"https://spacy.io/api/annotation\"\"\"\n",
    "    texts_out = []\n",
    "    for sent in texts:\n",
    "        doc = nlp(\" \".join(sent)) \n",
    "        texts_out.append([token.lemma_ for token in doc if token.pos_ in allowed_postags])\n",
    "    return texts_out"
   ]
  },
  {
   "cell_type": "code",
   "execution_count": 163,
   "metadata": {},
   "outputs": [
    {
     "name": "stdout",
     "output_type": "stream",
     "text": [
      "[['beware', 'fake', 'fake', 'fake', 'also', 'small', 'business', 'los', 'alamito', 'ca', 'receive', 'look', 'legitimate', 'bill', 'account', 'number', 'call', 'phone', 'number', 'list', 'wait', 'time', 'hold', 'say', 'minute', 'leave', 'message', 'could', 'get', 'live', 'person', 'phone', 'matter', 'number', 'select', 'leave', 'firm', 'message', 'would', 'contact', 'bbb', 'attorney', 'regard', 'company', 'try', 'scam', 'business', 'illegal']]\n"
     ]
    }
   ],
   "source": [
    "# Do lemmatization keeping only noun, adj, vb, adv\n",
    "data_lemmatized = lemmatization(yelp['tokens'], allowed_postags=['NOUN', 'ADJ', 'VERB', 'ADV'])\n",
    "\n",
    "print(data_lemmatized[:1])"
   ]
  },
  {
   "cell_type": "code",
   "execution_count": 164,
   "metadata": {},
   "outputs": [],
   "source": [
    "# A Dictionary Representation of all the words in our corpus\n",
    "id2word = corpora.Dictionary(data_lemmatized)"
   ]
  },
  {
   "cell_type": "code",
   "execution_count": 165,
   "metadata": {},
   "outputs": [],
   "source": [
    "corpus = [id2word.doc2bow(text) for text in data_lemmatized]"
   ]
  },
  {
   "cell_type": "code",
   "execution_count": 176,
   "metadata": {},
   "outputs": [],
   "source": [
    "lda = LdaMulticore(corpus=corpus,\n",
    "                   id2word=id2word,\n",
    "                   random_state=723812,\n",
    "                   num_topics = 8,\n",
    "                   passes=10,\n",
    "                   workers=4\n",
    "                  )"
   ]
  },
  {
   "cell_type": "code",
   "execution_count": 177,
   "metadata": {},
   "outputs": [],
   "source": [
    "words = [re.findall(r'\"([^\"]*)\"',t[1]) for t in lda.print_topics()]"
   ]
  },
  {
   "cell_type": "code",
   "execution_count": 178,
   "metadata": {},
   "outputs": [],
   "source": [
    "topics = [' '.join(t[0:3]) for t in words]"
   ]
  },
  {
   "cell_type": "markdown",
   "metadata": {},
   "source": [
    "### Compute Coherence and Model Perplexity"
   ]
  },
  {
   "cell_type": "code",
   "execution_count": 179,
   "metadata": {},
   "outputs": [
    {
     "name": "stdout",
     "output_type": "stream",
     "text": [
      "\n",
      "Perplexity:  -7.678385819391319\n",
      "\n",
      "Coherence Score:  0.35777577432800395\n"
     ]
    }
   ],
   "source": [
    "# Compute Perplexity\n",
    "print('\\nPerplexity: ', lda.log_perplexity(corpus))  # a measure of how good the model is. lower the better.\n",
    "\n",
    "# Compute Coherence Score\n",
    "coherence_model_lda = CoherenceModel(model=lda, texts=data_lemmatized, dictionary=id2word, coherence='c_v')\n",
    "coherence_lda = coherence_model_lda.get_coherence()\n",
    "print('\\nCoherence Score: ', coherence_lda)"
   ]
  },
  {
   "cell_type": "markdown",
   "metadata": {},
   "source": [
    "### Computing Multiple Coherence Values to determine optimal number of Topics"
   ]
  },
  {
   "cell_type": "code",
   "execution_count": 180,
   "metadata": {},
   "outputs": [],
   "source": [
    "def compute_coherence_values(dictionary, corpus, texts, limit, start=2, step=3):\n",
    "    \"\"\"\n",
    "    Compute c_v coherence for various number of topics\n",
    "\n",
    "    Parameters:\n",
    "    ----------\n",
    "    dictionary : Gensim dictionary\n",
    "    corpus : Gensim corpus\n",
    "    texts : List of input texts\n",
    "    limit : Max num of topics\n",
    "\n",
    "    Returns:\n",
    "    -------\n",
    "    model_list : List of LDA topic models\n",
    "    coherence_values : Coherence values corresponding to the LDA model with respective number of topics\n",
    "    \"\"\"\n",
    "    coherence_values = []\n",
    "    model_list = []\n",
    "    for num_topics in range(start, limit, step):\n",
    "        model = LdaMulticore(corpus=corpus, num_topics=num_topics, id2word=id2word)\n",
    "        model_list.append(model)\n",
    "        coherencemodel = CoherenceModel(model=model, texts=texts, dictionary=dictionary, coherence='c_v')\n",
    "        coherence_values.append(coherencemodel.get_coherence())\n",
    "\n",
    "    return model_list, coherence_values"
   ]
  },
  {
   "cell_type": "code",
   "execution_count": 181,
   "metadata": {},
   "outputs": [],
   "source": [
    "model_list, coherence_values = compute_coherence_values(dictionary=id2word, corpus=corpus, texts=data_lemmatized, start=2, limit=40, step=6)"
   ]
  },
  {
   "cell_type": "markdown",
   "metadata": {},
   "source": [
    "### Optimal Coherence Values Visualization"
   ]
  },
  {
   "cell_type": "code",
   "execution_count": 182,
   "metadata": {},
   "outputs": [
    {
     "data": {
      "image/png": "[encoded data removed]",
      "text/plain": [
       "<Figure size 432x288 with 1 Axes>"
      ]
     },
     "metadata": {
      "needs_background": "light"
     },
     "output_type": "display_data"
    }
   ],
   "source": [
    "# Show graph\n",
    "limit=40; start=2; step=6;\n",
    "x = range(start, limit, step)\n",
    "plt.plot(x, coherence_values)\n",
    "plt.xlabel(\"Num Topics\")\n",
    "plt.ylabel(\"Coherence score\")\n",
    "plt.legend((\"coherence_values\"), loc='best')\n",
    "plt.show()"
   ]
  },
  {
   "cell_type": "markdown",
   "metadata": {},
   "source": [
    "### Topic Modeling Visualization"
   ]
  },
  {
   "cell_type": "code",
   "execution_count": 183,
   "metadata": {},
   "outputs": [
    {
     "data": {
      "text/html": [
       "\n",
       "<link rel=\"stylesheet\" type=\"text/css\" href=\"https://cdn.rawgit.com/bmabey/pyLDAvis/files/ldavis.v1.0.0.css\">\n",
       "\n",
       "\n",
       "<div id=\"ldavis_el6786747957385367184534217\"></div>\n",
       "<script type=\"text/javascript\">\n",
       "\n",
       "var ldavis_el6786747957385367184534217_data = {\"mdsDat\": {\"x\": [-0.1309508889851051, 0.11147750330369112, 0.0038872141935550122, -0.05531835276251099, 0.08246697842485615, -0.11070867110230163, 0.04256692727736297, 0.05657928965045257], \"y\": [0.013366406931826115, 0.04014880880854516, -0.03244051662214726, 0.027997516225513438, 0.04912333905334675, 0.008508649160800515, -0.13400378244496386, 0.02729957888707923], \"topics\": [1, 2, 3, 4, 5, 6, 7, 8], \"cluster\": [1, 1, 1, 1, 1, 1, 1, 1], \"Freq\": [34.83474349975586, 16.79464340209961, 12.07903003692627, 10.294994354248047, 8.760828971862793, 7.371804714202881, 4.980876445770264, 4.883081912994385]}, \"tinfo\": {\"Category\": [\"Default\", \"Default\", \"Default\", \"Default\", \"Default\", \"Default\", \"Default\", \"Default\", \"Default\", \"Default\", \"Default\", \"Default\", \"Default\", \"Default\", \"Default\", \"Default\", \"Default\", \"Default\", \"Default\", \"Default\", \"Default\", \"Default\", \"Default\", \"Default\", \"Default\", \"Default\", \"Default\", \"Default\", \"Default\", \"Default\", \"Topic1\", \"Topic1\", \"Topic1\", \"Topic1\", \"Topic1\", \"Topic1\", \"Topic1\", \"Topic1\", \"Topic1\", \"Topic1\", \"Topic1\", \"Topic1\", \"Topic1\", \"Topic1\", \"Topic1\", \"Topic1\", \"Topic1\", \"Topic1\", \"Topic1\", \"Topic1\", \"Topic1\", \"Topic1\", \"Topic1\", \"Topic1\", \"Topic1\", \"Topic1\", \"Topic1\", \"Topic1\", \"Topic1\", \"Topic1\", \"Topic1\", \"Topic1\", \"Topic1\", \"Topic1\", \"Topic1\", \"Topic1\", \"Topic1\", \"Topic1\", \"Topic1\", \"Topic1\", \"Topic1\", \"Topic1\", \"Topic1\", \"Topic1\", \"Topic1\", \"Topic1\", \"Topic1\", \"Topic1\", \"Topic1\", \"Topic1\", \"Topic1\", \"Topic1\", \"Topic1\", \"Topic1\", \"Topic1\", \"Topic1\", \"Topic1\", \"Topic1\", \"Topic1\", \"Topic1\", \"Topic1\", \"Topic1\", \"Topic1\", \"Topic1\", \"Topic1\", \"Topic1\", \"Topic1\", \"Topic1\", \"Topic1\", \"Topic1\", \"Topic1\", \"Topic1\", \"Topic1\", \"Topic1\", \"Topic1\", \"Topic1\", \"Topic1\", \"Topic1\", \"Topic1\", \"Topic1\", \"Topic1\", \"Topic1\", \"Topic1\", \"Topic1\", \"Topic1\", \"Topic1\", \"Topic1\", \"Topic1\", \"Topic1\", \"Topic1\", \"Topic1\", \"Topic1\", \"Topic2\", \"Topic2\", \"Topic2\", \"Topic2\", \"Topic2\", \"Topic2\", \"Topic2\", \"Topic2\", \"Topic2\", \"Topic2\", \"Topic2\", \"Topic2\", \"Topic2\", \"Topic2\", \"Topic2\", \"Topic2\", \"Topic2\", \"Topic2\", \"Topic2\", \"Topic2\", \"Topic2\", \"Topic2\", \"Topic2\", \"Topic2\", \"Topic2\", \"Topic2\", \"Topic2\", \"Topic2\", \"Topic2\", \"Topic2\", \"Topic2\", \"Topic2\", \"Topic2\", \"Topic2\", \"Topic2\", \"Topic2\", \"Topic2\", \"Topic2\", \"Topic2\", \"Topic2\", \"Topic2\", \"Topic2\", \"Topic2\", \"Topic2\", \"Topic2\", \"Topic2\", \"Topic2\", \"Topic2\", \"Topic2\", \"Topic2\", \"Topic2\", \"Topic2\", \"Topic2\", \"Topic2\", \"Topic2\", \"Topic2\", \"Topic2\", \"Topic2\", \"Topic2\", \"Topic2\", \"Topic2\", \"Topic2\", \"Topic2\", \"Topic2\", \"Topic2\", \"Topic2\", \"Topic2\", \"Topic2\", \"Topic2\", \"Topic2\", \"Topic2\", \"Topic2\", \"Topic2\", \"Topic2\", \"Topic2\", \"Topic2\", \"Topic2\", \"Topic2\", \"Topic2\", \"Topic2\", \"Topic2\", \"Topic2\", \"Topic2\", \"Topic2\", \"Topic2\", \"Topic2\", \"Topic2\", \"Topic2\", \"Topic2\", \"Topic2\", \"Topic2\", \"Topic2\", \"Topic2\", \"Topic2\", \"Topic2\", \"Topic2\", \"Topic3\", \"Topic3\", \"Topic3\", \"Topic3\", \"Topic3\", \"Topic3\", \"Topic3\", \"Topic3\", \"Topic3\", \"Topic3\", \"Topic3\", \"Topic3\", \"Topic3\", \"Topic3\", \"Topic3\", \"Topic3\", \"Topic3\", \"Topic3\", \"Topic3\", \"Topic3\", \"Topic3\", \"Topic3\", \"Topic3\", \"Topic3\", \"Topic3\", \"Topic3\", \"Topic3\", \"Topic3\", \"Topic3\", \"Topic3\", \"Topic3\", \"Topic3\", \"Topic3\", \"Topic3\", \"Topic3\", \"Topic3\", \"Topic3\", \"Topic3\", \"Topic3\", \"Topic3\", \"Topic3\", \"Topic3\", \"Topic3\", \"Topic3\", \"Topic3\", \"Topic3\", \"Topic3\", \"Topic3\", \"Topic3\", \"Topic3\", \"Topic3\", \"Topic3\", \"Topic3\", \"Topic3\", \"Topic3\", \"Topic3\", \"Topic3\", \"Topic3\", \"Topic3\", \"Topic3\", \"Topic3\", \"Topic3\", \"Topic3\", \"Topic3\", \"Topic3\", \"Topic3\", \"Topic3\", \"Topic3\", \"Topic3\", \"Topic3\", \"Topic3\", \"Topic3\", \"Topic3\", \"Topic3\", \"Topic3\", \"Topic3\", \"Topic3\", \"Topic3\", \"Topic3\", \"Topic3\", \"Topic3\", \"Topic3\", \"Topic3\", \"Topic3\", \"Topic3\", \"Topic3\", \"Topic4\", \"Topic4\", \"Topic4\", \"Topic4\", \"Topic4\", \"Topic4\", \"Topic4\", \"Topic4\", \"Topic4\", \"Topic4\", \"Topic4\", \"Topic4\", \"Topic4\", \"Topic4\", \"Topic4\", \"Topic4\", \"Topic4\", \"Topic4\", \"Topic4\", \"Topic4\", \"Topic4\", \"Topic4\", \"Topic4\", \"Topic4\", \"Topic4\", \"Topic4\", \"Topic4\", \"Topic4\", \"Topic4\", \"Topic4\", \"Topic4\", \"Topic4\", \"Topic4\", \"Topic4\", \"Topic4\", \"Topic4\", \"Topic4\", \"Topic4\", \"Topic4\", \"Topic4\", \"Topic4\", \"Topic4\", \"Topic4\", \"Topic4\", \"Topic4\", \"Topic4\", \"Topic4\", \"Topic4\", \"Topic4\", \"Topic4\", \"Topic4\", \"Topic4\", \"Topic4\", \"Topic4\", \"Topic4\", \"Topic4\", \"Topic4\", \"Topic4\", \"Topic4\", \"Topic4\", \"Topic4\", \"Topic4\", \"Topic4\", \"Topic4\", \"Topic4\", \"Topic4\", \"Topic4\", \"Topic4\", \"Topic4\", \"Topic4\", \"Topic4\", \"Topic4\", \"Topic4\", \"Topic4\", \"Topic4\", \"Topic4\", \"Topic4\", \"Topic4\", \"Topic4\", \"Topic4\", \"Topic5\", \"Topic5\", \"Topic5\", \"Topic5\", \"Topic5\", \"Topic5\", \"Topic5\", \"Topic5\", \"Topic5\", \"Topic5\", \"Topic5\", \"Topic5\", \"Topic5\", \"Topic5\", \"Topic5\", \"Topic5\", \"Topic5\", \"Topic5\", \"Topic5\", \"Topic5\", \"Topic5\", \"Topic5\", \"Topic5\", \"Topic5\", \"Topic5\", \"Topic5\", \"Topic5\", \"Topic5\", \"Topic5\", \"Topic5\", \"Topic5\", \"Topic5\", \"Topic5\", \"Topic5\", \"Topic5\", \"Topic5\", \"Topic5\", \"Topic5\", \"Topic5\", \"Topic5\", \"Topic5\", \"Topic5\", \"Topic5\", \"Topic5\", \"Topic5\", \"Topic5\", \"Topic5\", \"Topic5\", \"Topic5\", \"Topic5\", \"Topic5\", \"Topic5\", \"Topic5\", \"Topic5\", \"Topic5\", \"Topic5\", \"Topic5\", \"Topic5\", \"Topic5\", \"Topic5\", \"Topic5\", \"Topic5\", \"Topic5\", \"Topic5\", \"Topic5\", \"Topic5\", \"Topic5\", \"Topic5\", \"Topic5\", \"Topic5\", \"Topic5\", \"Topic5\", \"Topic5\", \"Topic5\", \"Topic6\", \"Topic6\", \"Topic6\", \"Topic6\", \"Topic6\", \"Topic6\", \"Topic6\", \"Topic6\", \"Topic6\", \"Topic6\", \"Topic6\", \"Topic6\", \"Topic6\", \"Topic6\", \"Topic6\", \"Topic6\", \"Topic6\", \"Topic6\", \"Topic6\", \"Topic6\", \"Topic6\", \"Topic6\", \"Topic6\", \"Topic6\", \"Topic6\", \"Topic6\", \"Topic6\", \"Topic6\", \"Topic6\", \"Topic6\", \"Topic6\", \"Topic6\", \"Topic6\", \"Topic6\", \"Topic6\", \"Topic6\", \"Topic6\", \"Topic6\", \"Topic6\", \"Topic6\", \"Topic6\", \"Topic6\", \"Topic6\", \"Topic6\", \"Topic6\", \"Topic6\", \"Topic6\", \"Topic6\", \"Topic6\", \"Topic6\", \"Topic6\", \"Topic6\", \"Topic6\", \"Topic6\", \"Topic6\", \"Topic6\", \"Topic6\", \"Topic6\", \"Topic6\", \"Topic6\", \"Topic6\", \"Topic6\", \"Topic6\", \"Topic6\", \"Topic6\", \"Topic6\", \"Topic6\", \"Topic6\", \"Topic6\", \"Topic6\", \"Topic6\", \"Topic6\", \"Topic6\", \"Topic6\", \"Topic6\", \"Topic6\", \"Topic6\", \"Topic6\", \"Topic6\", \"Topic6\", \"Topic6\", \"Topic6\", \"Topic6\", \"Topic6\", \"Topic6\", \"Topic6\", \"Topic7\", \"Topic7\", \"Topic7\", \"Topic7\", \"Topic7\", \"Topic7\", \"Topic7\", \"Topic7\", \"Topic7\", \"Topic7\", \"Topic7\", \"Topic7\", \"Topic7\", \"Topic7\", \"Topic7\", \"Topic7\", \"Topic7\", \"Topic7\", \"Topic7\", \"Topic7\", \"Topic7\", \"Topic7\", \"Topic7\", \"Topic7\", \"Topic7\", \"Topic7\", \"Topic7\", \"Topic7\", \"Topic7\", \"Topic7\", \"Topic7\", \"Topic7\", \"Topic7\", \"Topic7\", \"Topic7\", \"Topic7\", \"Topic7\", \"Topic7\", \"Topic7\", \"Topic7\", \"Topic7\", \"Topic7\", \"Topic7\", \"Topic7\", \"Topic7\", \"Topic7\", \"Topic7\", \"Topic7\", \"Topic7\", \"Topic7\", \"Topic7\", \"Topic7\", \"Topic7\", \"Topic7\", \"Topic7\", \"Topic7\", \"Topic7\", \"Topic7\", \"Topic7\", \"Topic7\", \"Topic7\", \"Topic7\", \"Topic7\", \"Topic7\", \"Topic7\", \"Topic7\", \"Topic7\", \"Topic7\", \"Topic7\", \"Topic7\", \"Topic7\", \"Topic7\", \"Topic7\", \"Topic7\", \"Topic7\", \"Topic7\", \"Topic7\", \"Topic7\", \"Topic7\", \"Topic7\", \"Topic7\", \"Topic7\", \"Topic8\", \"Topic8\", \"Topic8\", \"Topic8\", \"Topic8\", \"Topic8\", \"Topic8\", \"Topic8\", \"Topic8\", \"Topic8\", \"Topic8\", \"Topic8\", \"Topic8\", \"Topic8\", \"Topic8\", \"Topic8\", \"Topic8\", \"Topic8\", \"Topic8\", \"Topic8\", \"Topic8\", \"Topic8\", \"Topic8\", \"Topic8\", \"Topic8\", \"Topic8\", \"Topic8\", \"Topic8\", \"Topic8\", \"Topic8\", \"Topic8\", \"Topic8\", \"Topic8\", \"Topic8\", \"Topic8\", \"Topic8\", \"Topic8\", \"Topic8\", \"Topic8\", \"Topic8\", \"Topic8\", \"Topic8\", \"Topic8\", \"Topic8\", \"Topic8\", \"Topic8\", \"Topic8\", \"Topic8\", \"Topic8\", \"Topic8\", \"Topic8\", \"Topic8\", \"Topic8\", \"Topic8\", \"Topic8\", \"Topic8\", \"Topic8\", \"Topic8\", \"Topic8\", \"Topic8\", \"Topic8\", \"Topic8\", \"Topic8\", \"Topic8\", \"Topic8\", \"Topic8\", \"Topic8\", \"Topic8\", \"Topic8\", \"Topic8\", \"Topic8\", \"Topic8\", \"Topic8\", \"Topic8\", \"Topic8\", \"Topic8\", \"Topic8\", \"Topic8\", \"Topic8\", \"Topic8\", \"Topic8\", \"Topic8\", \"Topic8\"], \"Freq\": [4934.0, 3237.0, 5167.0, 5524.0, 6073.0, 485.0, 3734.0, 4257.0, 4032.0, 6100.0, 1346.0, 1073.0, 1188.0, 674.0, 2502.0, 2938.0, 4256.0, 1142.0, 752.0, 3038.0, 1266.0, 345.0, 1452.0, 608.0, 1421.0, 343.0, 1497.0, 874.0, 1647.0, 1584.0, 77.58513641357422, 164.73519897460938, 67.28719329833984, 57.88176727294922, 49.055545806884766, 40.31300354003906, 63.21234893798828, 33.37349319458008, 42.18947982788086, 33.93403625488281, 41.03755187988281, 164.8230743408203, 59.87824249267578, 39.71725845336914, 43.17642593383789, 35.19219970703125, 38.80261993408203, 26.286848068237305, 28.63726806640625, 25.739107131958008, 45.23665237426758, 63.81734085083008, 35.18342971801758, 27.32411003112793, 25.423038482666016, 23.58184051513672, 41.40676498413086, 34.97893524169922, 25.825504302978516, 20.852354049682617, 152.48561096191406, 538.0726318359375, 727.8356323242188, 92.60940551757812, 410.90740966796875, 517.2028198242188, 138.27317810058594, 92.53658294677734, 61.94092559814453, 118.42117309570312, 114.7214126586914, 858.3818969726562, 337.34271240234375, 760.8553466796875, 437.29486083984375, 173.0936279296875, 129.5350799560547, 1192.586181640625, 439.24334716796875, 528.6498413085938, 578.087158203125, 730.9369506835938, 203.31655883789062, 649.8690795898438, 192.3159637451172, 982.8403930664062, 416.7402038574219, 330.9901123046875, 679.0426025390625, 731.1130981445312, 403.3847351074219, 872.884033203125, 452.320556640625, 865.799072265625, 490.5230712890625, 327.238037109375, 2859.704833984375, 1140.3336181640625, 571.374267578125, 1010.983642578125, 869.9266967773438, 3121.84326171875, 1462.51953125, 2423.9853515625, 2088.451171875, 1207.82763671875, 645.6742553710938, 1530.9232177734375, 1243.17236328125, 1972.95361328125, 1475.175537109375, 1747.3563232421875, 1044.104248046875, 810.6805419921875, 1378.40771484375, 1334.7071533203125, 984.5156860351562, 1211.2169189453125, 940.1730346679688, 948.7398681640625, 940.9832763671875, 841.78662109375, 95.20655822753906, 80.32899475097656, 27.155067443847656, 25.698274612426758, 24.11395263671875, 18.977867126464844, 37.695655822753906, 14.670082092285156, 14.638364791870117, 12.926431655883789, 12.632596015930176, 12.90911865234375, 12.893336296081543, 13.153998374938965, 13.681550979614258, 12.015889167785645, 12.280447006225586, 11.463615417480469, 11.46674919128418, 57.190834045410156, 12.49052619934082, 11.435920715332031, 10.885015487670898, 10.874619483947754, 11.142729759216309, 11.953546524047852, 10.311443328857422, 10.297563552856445, 10.307480812072754, 11.352079391479492, 82.23209381103516, 26.53371810913086, 14.848485946655273, 47.387657165527344, 38.88059997558594, 647.9556274414062, 95.51126098632812, 48.47819900512695, 34.6802864074707, 325.03466796875, 38.50184631347656, 294.54656982421875, 19.765478134155273, 329.66064453125, 53.44829559326172, 87.21800994873047, 919.120361328125, 167.2250518798828, 24.665813446044922, 125.994873046875, 104.38436126708984, 49.41015625, 82.14307403564453, 39.853946685791016, 81.90083312988281, 110.08316040039062, 208.94198608398438, 68.89571380615234, 93.59556579589844, 676.1237182617188, 263.6734313964844, 55.966331481933594, 104.0450668334961, 143.92840576171875, 543.0894775390625, 293.8283996582031, 232.25051879882812, 761.0188598632812, 572.0213012695312, 350.9949035644531, 736.7683715820312, 370.07635498046875, 1364.9984130859375, 437.8539733886719, 447.28326416015625, 427.5379943847656, 284.1907043457031, 957.2609252929688, 385.2880859375, 733.408935546875, 457.5491943359375, 526.9227294921875, 994.3744506835938, 467.2417907714844, 357.0772399902344, 419.7520446777344, 580.7843627929688, 408.0045166015625, 469.6763000488281, 429.73968505859375, 623.3497924804688, 585.8179321289062, 549.0794677734375, 471.7892150878906, 392.86175537109375, 386.9482727050781, 22.866657257080078, 16.086624145507812, 27.825592041015625, 16.24276351928711, 13.044189453125, 64.97565460205078, 26.723491668701172, 12.517040252685547, 15.900955200195312, 19.895259857177734, 22.890287399291992, 11.489174842834473, 11.489815711975098, 12.220796585083008, 11.48768424987793, 11.233743667602539, 10.720373153686523, 10.706889152526855, 10.705328941345215, 10.68028450012207, 10.689473152160645, 11.143192291259766, 17.267719268798828, 10.163907051086426, 13.029826164245605, 9.672043800354004, 9.683577537536621, 9.16457748413086, 9.162093162536621, 9.17789077758789, 22.506404876708984, 144.90220642089844, 26.493473052978516, 45.09253692626953, 86.4649429321289, 159.594970703125, 78.73323059082031, 193.47158813476562, 17.538270950317383, 382.8595886230469, 57.100887298583984, 129.40875244140625, 290.71453857421875, 217.1540069580078, 40.72514343261719, 562.8326416015625, 27.324634552001953, 74.93374633789062, 41.518802642822266, 77.44158935546875, 141.5322723388672, 328.50921630859375, 58.9763069152832, 261.0627746582031, 45.62391662597656, 322.6968078613281, 73.16832733154297, 309.7216796875, 456.5158386230469, 145.90802001953125, 88.2740707397461, 85.9852066040039, 141.60665893554688, 858.5241088867188, 402.89105224609375, 636.4463500976562, 682.28515625, 553.500244140625, 293.1460266113281, 637.8683471679688, 368.8772277832031, 571.486572265625, 379.0902099609375, 464.1474304199219, 451.1205749511719, 282.5307922363281, 308.4053649902344, 261.3050842285156, 375.7193908691406, 288.9876403808594, 300.0516662597656, 277.6336975097656, 290.16766357421875, 250.07395935058594, 263.4154357910156, 251.7681427001953, 28.057960510253906, 25.415246963500977, 21.329914093017578, 14.196738243103027, 12.676629066467285, 11.955469131469727, 10.98030948638916, 10.962218284606934, 10.964698791503906, 10.736509323120117, 11.430496215820312, 10.472454071044922, 9.243775367736816, 9.448180198669434, 12.675097465515137, 15.802814483642578, 11.191916465759277, 8.266578674316406, 8.262893676757812, 8.25374984741211, 7.75696325302124, 7.4982171058654785, 7.4970831871032715, 7.259459018707275, 7.005260944366455, 6.535713195800781, 6.524168968200684, 6.263460636138916, 6.4839348793029785, 6.0293731689453125, 19.21055793762207, 9.770774841308594, 19.892818450927734, 28.26051139831543, 9.100268363952637, 11.645865440368652, 93.699462890625, 68.51361083984375, 21.960981369018555, 14.931741714477539, 1307.407470703125, 317.0976257324219, 353.608154296875, 503.1711730957031, 948.85302734375, 29.597854614257812, 761.7760620117188, 338.2558898925781, 83.9939956665039, 128.1797332763672, 165.23574829101562, 339.7585144042969, 58.47667694091797, 195.1055145263672, 150.5484161376953, 61.592872619628906, 782.669921875, 147.66329956054688, 577.3170776367188, 727.96728515625, 327.2401123046875, 734.4757080078125, 450.4783935546875, 245.8150177001953, 196.6522674560547, 294.3952331542969, 506.99871826171875, 257.98553466796875, 219.47315979003906, 366.02581787109375, 239.45944213867188, 436.9595947265625, 526.1377563476562, 305.00244140625, 266.59490966796875, 255.68678283691406, 232.07106018066406, 341.52215576171875, 281.559326171875, 233.21922302246094, 227.28579711914062, 50.273807525634766, 64.90167999267578, 140.05458068847656, 49.06190490722656, 23.221012115478516, 20.342432022094727, 61.097412109375, 16.828359603881836, 14.945490837097168, 326.8757629394531, 14.92050838470459, 13.60366153717041, 13.137688636779785, 87.70838928222656, 27.23792266845703, 16.32054901123047, 12.440998077392578, 39.95174789428711, 55.4345588684082, 11.102195739746094, 10.877214431762695, 10.449117660522461, 11.288427352905273, 10.000849723815918, 11.054070472717285, 9.981170654296875, 9.742762565612793, 9.32758617401123, 8.861555099487305, 313.1084289550781, 75.71465301513672, 16.6372127532959, 51.87993621826172, 28.08144760131836, 113.74531555175781, 27.971755981445312, 51.021339416503906, 109.89205932617188, 66.7428207397461, 20.39102554321289, 228.0386199951172, 168.56683349609375, 77.02303314208984, 53.15383529663086, 28.118309020996094, 138.84495544433594, 620.0127563476562, 122.24267578125, 700.8158569335938, 237.20574951171875, 260.6546325683594, 367.8583984375, 392.168212890625, 246.04867553710938, 359.74029541015625, 532.712158203125, 426.95684814453125, 245.41363525390625, 295.7437438964844, 263.0972900390625, 280.1265563964844, 242.739990234375, 221.23870849609375, 217.79905700683594, 232.89141845703125, 316.1742858886719, 328.5597229003906, 309.513671875, 225.19754028320312, 250.03778076171875, 281.2305908203125, 277.0208740234375, 216.7410430908203, 18.114824295043945, 15.213725090026855, 12.427410125732422, 9.800918579101562, 16.328351974487305, 9.113199234008789, 9.125959396362305, 15.4758882522583, 8.697422981262207, 8.687199592590332, 8.801953315734863, 8.007172584533691, 31.338577270507812, 7.795278549194336, 8.18801498413086, 7.377203941345215, 7.378241539001465, 7.372293949127197, 7.377355575561523, 7.574783802032471, 8.290759086608887, 6.7073163986206055, 6.691427707672119, 6.88967227935791, 8.251340866088867, 9.925861358642578, 5.829549312591553, 5.829312324523926, 5.828195095062256, 5.818384647369385, 414.7098388671875, 149.2615966796875, 55.175865173339844, 9.496709823608398, 42.7750129699707, 36.11607360839844, 11.365538597106934, 11.379526138305664, 41.765071868896484, 53.316402435302734, 83.62096405029297, 59.977535247802734, 22.91790199279785, 82.26667785644531, 11.865957260131836, 22.457719802856445, 118.90311431884766, 11.397063255310059, 43.83637619018555, 251.96751403808594, 59.95630645751953, 94.32771301269531, 64.06997680664062, 671.5298461914062, 120.5487060546875, 17.839942932128906, 138.0713653564453, 49.759178161621094, 112.49280548095703, 652.02685546875, 129.65736389160156, 89.04035949707031, 157.24009704589844, 186.5336456298828, 309.9835205078125, 462.3585510253906, 208.08999633789062, 392.5955810546875, 246.44068908691406, 170.89599609375, 276.8977966308594, 310.8326416015625, 154.08465576171875, 183.4221954345703, 250.02671813964844, 213.04953002929688, 197.41156005859375, 248.17869567871094, 215.26280212402344, 178.2879638671875, 181.33963012695312, 195.74513244628906, 171.07077026367188, 160.52792358398438, 134.71145629882812, 136.989990234375, 17.2458553314209, 19.86665916442871, 21.706708908081055, 13.791716575622559, 10.914031028747559, 12.111968040466309, 11.700278282165527, 9.262251853942871, 11.642500877380371, 8.522636413574219, 8.70891284942627, 35.49930953979492, 8.231019020080566, 7.157505989074707, 23.442825317382812, 9.443061828613281, 6.687252998352051, 12.909884452819824, 6.643141269683838, 10.825053215026855, 5.963700771331787, 6.174077987670898, 14.381998062133789, 5.74905252456665, 5.747483253479004, 5.744223117828369, 5.74017858505249, 6.537532806396484, 5.500251770019531, 16.08611488342285, 7.891952037811279, 12.251791954040527, 42.44789123535156, 22.478212356567383, 36.192283630371094, 61.09926223754883, 48.28946304321289, 14.202897071838379, 12.170942306518555, 21.007373809814453, 10.367975234985352, 129.8131103515625, 17.395896911621094, 25.257701873779297, 98.15613555908203, 12.079337120056152, 171.60264587402344, 175.66941833496094, 85.31221771240234, 72.43896484375, 192.1181640625, 103.56280517578125, 42.3775520324707, 40.19147491455078, 38.23188400268555, 72.3418960571289, 85.69951629638672, 184.1916961669922, 120.22642517089844, 302.6965026855469, 262.4427490234375, 259.66632080078125, 137.65774536132812, 75.02191162109375, 162.165283203125, 169.1600799560547, 107.50603485107422, 115.0764389038086, 184.12351989746094, 116.67507934570312, 92.61141204833984, 83.28800201416016, 103.42498779296875, 159.0137939453125, 115.02837371826172, 119.78472137451172, 90.63391876220703, 124.4668960571289, 93.0749740600586, 96.87442016601562, 86.52933502197266, 90.35494232177734, 20.652450561523438, 13.230728149414062, 11.048542022705078, 12.120344161987305, 10.393489837646484, 9.055349349975586, 8.867471694946289, 8.861397743225098, 9.231332778930664, 8.663616180419922, 12.355754852294922, 11.05702018737793, 7.865362644195557, 7.8599700927734375, 7.836776256561279, 13.893985748291016, 7.431908130645752, 7.060806751251221, 7.045145511627197, 7.760825157165527, 36.052818298339844, 11.50258731842041, 6.64656925201416, 6.5933732986450195, 5.8646745681762695, 5.659805774688721, 5.6416401863098145, 6.3435797691345215, 5.272408962249756, 5.274685859680176, 31.880292892456055, 60.442039489746094, 13.263179779052734, 12.930459022521973, 11.085968971252441, 21.344295501708984, 21.59587287902832, 64.7457504272461, 26.043014526367188, 30.04888343811035, 56.07905197143555, 18.19733428955078, 35.978240966796875, 15.902703285217285, 25.21577262878418, 106.99315643310547, 70.11085510253906, 23.388071060180664, 88.02645874023438, 161.70541381835938, 22.3938045501709, 246.4654541015625, 61.666908264160156, 134.0301513671875, 83.05268859863281, 121.742431640625, 177.75628662109375, 121.78128814697266, 122.59207153320312, 224.163818359375, 74.15823364257812, 211.66859436035156, 184.03256225585938, 127.39138793945312, 119.73948669433594, 112.92610931396484, 134.9800262451172, 173.2119903564453, 102.78556060791016, 100.1532974243164, 104.23627471923828, 119.07304382324219, 123.37580108642578, 95.27252960205078, 108.81714630126953, 99.77238464355469, 139.20726013183594, 120.64781951904297, 109.93988037109375, 105.20223236083984, 106.75212860107422, 105.14777374267578, 95.99466705322266], \"Term\": [\"food\", \"order\", \"place\", \"go\", \"good\", \"taco\", \"service\", \"great\", \"be\", \"get\", \"call\", \"bar\", \"room\", \"burger\", \"say\", \"make\", \"time\", \"fry\", \"car\", \"would\", \"menu\", \"hair\", \"work\", \"beer\", \"chicken\", \"nail\", \"eat\", \"server\", \"wait\", \"see\", \"ayce\", \"crab\", \"tofu\", \"mussel\", \"eggplant\", \"pepperoni\", \"clam\", \"pinot\", \"skewer\", \"kimchi\", \"jalape\\u00f1o\", \"seafood\", \"gyro\", \"ham\", \"risotto\", \"spaghetti\", \"ceviche\", \"noir\", \"balsamic\", \"oxtail\", \"cucumber\", \"hummus\", \"overcook\", \"omelet\", \"blt\", \"martini\", \"cauliflower\", \"teriyaki\", \"sirloin\", \"rubbery\", \"lobster\", \"soup\", \"salad\", \"scallop\", \"egg\", \"sushi\", \"broth\", \"oyster\", \"crunchy\", \"sausage\", \"pho\", \"fresh\", \"noodle\", \"pizza\", \"steak\", \"pasta\", \"mushroom\", \"chicken\", \"portion\", \"roll\", \"meat\", \"dish\", \"veggie\", \"lunch\", \"tomato\", \"delicious\", \"beef\", \"spicy\", \"cheese\", \"sauce\", \"cook\", \"fry\", \"rice\", \"taste\", \"sandwich\", \"shrimp\", \"food\", \"restaurant\", \"flavor\", \"eat\", \"menu\", \"good\", \"try\", \"place\", \"great\", \"love\", \"meal\", \"order\", \"really\", \"get\", \"come\", \"go\", \"also\", \"little\", \"time\", \"be\", \"well\", \"service\", \"have\", \"make\", \"back\", \"would\", \"vet\", \"warranty\", \"ikea\", \"midwife\", \"iphone\", \"breakdown\", \"deposit\", \"vaccination\", \"incidental\", \"bady\", \"wireless\", \"taxi\", \"enforcer\", \"consult\", \"nissan\", \"subject\", \"kiosk\", \"ecstatic\", \"wal\", \"mechanic\", \"bliss\", \"litter\", \"housing\", \"carson\", \"bullshit\", \"groomer\", \"residence\", \"lopez\", \"prairie\", \"pt\", \"cat\", \"april\", \"finance\", \"lee\", \"ray\", \"car\", \"vehicle\", \"hospital\", \"bouncer\", \"company\", \"emergency\", \"phone\", \"cable\", \"dog\", \"instal\", \"pet\", \"call\", \"repair\", \"tenant\", \"schedule\", \"contact\", \"dentist\", \"rent\", \"confirm\", \"truck\", \"tire\", \"office\", \"dealership\", \"email\", \"tell\", \"charge\", \"animal\", \"fee\", \"card\", \"work\", \"care\", \"buy\", \"say\", \"know\", \"pay\", \"take\", \"check\", \"get\", \"new\", \"need\", \"room\", \"week\", \"time\", \"customer\", \"would\", \"never\", \"even\", \"go\", \"day\", \"year\", \"do\", \"back\", \"could\", \"give\", \"find\", \"come\", \"be\", \"service\", \"make\", \"people\", \"good\", \"roach\", \"defiantly\", \"pest\", \"mattress\", \"suzi\", \"boba\", \"dunkin\", \"schwartz\", \"nordstrom\", \"planet\", \"treasure\", \"schwart\", \"glo\", \"upgraded\", \"getsum\", \"bikini\", \"conservatory\", \"turtle\", \"pinball\", \"sole\", \"clearance\", \"angle\", \"structure\", \"partake\", \"concierge\", \"callus\", \"dillard\", \"reef\", \"samantha\", \"smith\", \"signage\", \"casino\", \"iced\", \"tan\", \"starbuck\", \"donut\", \"shower\", \"pool\", \"pearl\", \"coffee\", \"resort\", \"bathroom\", \"hotel\", \"parking\", \"wifi\", \"room\", \"minimal\", \"shopping\", \"bellagio\", \"building\", \"floor\", \"store\", \"lobby\", \"stay\", \"latte\", \"clean\", \"mall\", \"location\", \"nice\", \"tea\", \"bed\", \"downtown\", \"strip\", \"get\", \"look\", \"be\", \"place\", \"great\", \"little\", \"good\", \"also\", \"go\", \"really\", \"come\", \"service\", \"see\", \"love\", \"day\", \"time\", \"well\", \"take\", \"have\", \"make\", \"even\", \"food\", \"would\", \"tikka\", \"gnocchi\", \"tostada\", \"ipic\", \"biryani\", \"mikey\", \"pelmeni\", \"booty\", \"zane\", \"hotpot\", \"gratuity\", \"turkish\", \"kathleen\", \"samosa\", \"tissue\", \"cheesetart\", \"nicole\", \"bible\", \"sarver\", \"renee\", \"scampi\", \"tar\", \"optometrist\", \"panang\", \"tablecloth\", \"buca\", \"cartridge\", \"reccomend\", \"sw\", \"theresa\", \"menus\", \"sectional\", \"masala\", \"liquor\", \"celebrity\", \"stew\", \"delivery\", \"refill\", \"cox\", \"josh\", \"food\", \"server\", \"minute\", \"wait\", \"service\", \"naan\", \"order\", \"table\", \"deliver\", \"waiter\", \"wine\", \"drink\", \"outstanding\", \"seat\", \"manager\", \"hostess\", \"place\", \"waitress\", \"come\", \"go\", \"price\", \"good\", \"would\", \"bad\", \"visit\", \"restaurant\", \"time\", \"ask\", \"customer\", \"back\", \"recommend\", \"great\", \"get\", \"really\", \"give\", \"want\", \"experience\", \"be\", \"take\", \"make\", \"salon\", \"teacher\", \"manicure\", \"pedicure\", \"pedi\", \"acrylic\", \"momofuku\", \"stylist\", \"yuk\", \"berman\", \"hair\", \"installer\", \"curl\", \"shane\", \"gel\", \"mani\", \"cirque\", \"talented\", \"lash\", \"eyebrow\", \"thread\", \"acetone\", \"erica\", \"qui\", \"kira\", \"et\", \"jumpmaster\", \"silk\", \"reflexology\", \"ms\", \"nail\", \"polish\", \"kevin\", \"haircut\", \"harness\", \"massage\", \"blonde\", \"facial\", \"color\", \"spa\", \"appt\", \"job\", \"appointment\", \"result\", \"bike\", \"nyc\", \"cut\", \"time\", \"fix\", \"go\", \"feel\", \"do\", \"say\", \"make\", \"experience\", \"back\", \"get\", \"be\", \"day\", \"take\", \"look\", \"have\", \"wait\", \"ask\", \"work\", \"want\", \"service\", \"great\", \"come\", \"give\", \"would\", \"place\", \"good\", \"also\", \"guac\", \"relleno\", \"gallo\", \"denture\", \"pastor\", \"gay\", \"refried\", \"pico\", \"aldi\", \"tiki\", \"snag\", \"someplace\", \"fajita\", \"ivan\", \"copa\", \"christensen\", \"bingsu\", \"thoroughness\", \"maizal\", \"champaign\", \"austin\", \"w/\", \"tomatillo\", \"ed\", \"el\", \"nephew\", \"donair\", \"woot\", \"dreamy\", \"krispy\", \"taco\", \"salsa\", \"enchilada\", \"nacho\", \"carne\", \"asada\", \"churro\", \"cave\", \"mcdonald\", \"tortilla\", \"bun\", \"guacamole\", \"coke\", \"burrito\", \"burro\", \"carnita\", \"mexican\", \"gf\", \"brisket\", \"burger\", \"chili\", \"bean\", \"topping\", \"order\", \"chip\", \"jar\", \"ice\", \"margarita\", \"husband\", \"good\", \"cream\", \"chocolate\", \"area\", \"bar\", \"make\", \"get\", \"eat\", \"food\", \"take\", \"menu\", \"be\", \"go\", \"fry\", \"nice\", \"come\", \"would\", \"try\", \"place\", \"time\", \"also\", \"back\", \"great\", \"say\", \"well\", \"always\", \"really\", \"amazon\", \"picasso\", \"bowling\", \"lense\", \"grubhub\", \"ache\", \"cola\", \"lecture\", \"coca\", \"expose\", \"lewis\", \"museum\", \"warhol\", \"comic\", \"hop\", \"disposal\", \"taffy\", \"hobby\", \"ivy\", \"blind\", \"deanna\", \"solon\", \"clay\", \"nielsen\", \"bracelet\", \"vain\", \"reese\", \"sophia\", \"daytime\", \"jeremy\", \"rooftop\", \"hardware\", \"barber\", \"race\", \"performance\", \"dance\", \"band\", \"gabe\", \"vintage\", \"ipa\", \"ian\", \"game\", \"exhibit\", \"lane\", \"music\", \"rocket\", \"beer\", \"show\", \"bartender\", \"play\", \"bar\", \"fun\", \"tv\", \"tap\", \"art\", \"watch\", \"cool\", \"see\", \"store\", \"place\", \"great\", \"go\", \"find\", \"kid\", \"say\", \"make\", \"right\", \"much\", \"be\", \"work\", \"walk\", \"area\", \"staff\", \"get\", \"really\", \"would\", \"way\", \"good\", \"drink\", \"give\", \"star\", \"back\", \"extension\", \"bodyflo\", \"draught\", \"donation\", \"victor\", \"disrespect\", \"fife\", \"wart\", \"jenn\", \"method\", \"carl\", \"ceremony\", \"magician\", \"oral\", \"defeat\", \"pharmacy\", \"bi\\u00e8re\", \"chapel\", \"eclair\", \"oxygen\", \"dental\", \"prescription\", \"delysee\", \"wilke\", \"ram\", \"crossfit\", \"chin\", \"broad\", \"matsuda\", \"wildflower\", \"balloon\", \"bagel\", \"photographer\", \"coach\", \"snail\", \"fitness\", \"canal\", \"doctor\", \"tony\", \"procedure\", \"patient\", \"brake\", \"insurance\", \"goal\", \"session\", \"cream\", \"office\", \"root\", \"ice\", \"staff\", \"workout\", \"be\", \"rude\", \"work\", \"care\", \"ask\", \"would\", \"tell\", \"not\", \"get\", \"thank\", \"go\", \"great\", \"look\", \"want\", \"know\", \"really\", \"place\", \"never\", \"experience\", \"see\", \"say\", \"make\", \"call\", \"have\", \"price\", \"good\", \"time\", \"order\", \"back\", \"service\", \"come\", \"take\"], \"Total\": [4934.0, 3237.0, 5167.0, 5524.0, 6073.0, 485.0, 3734.0, 4257.0, 4032.0, 6100.0, 1346.0, 1073.0, 1188.0, 674.0, 2502.0, 2938.0, 4256.0, 1142.0, 752.0, 3038.0, 1266.0, 345.0, 1452.0, 608.0, 1421.0, 343.0, 1497.0, 874.0, 1647.0, 1584.0, 78.49837493896484, 166.71971130371094, 68.63726043701172, 59.053733825683594, 50.08417510986328, 41.28003692626953, 64.7369384765625, 34.19414138793945, 43.22865295410156, 34.789703369140625, 42.08364486694336, 169.1182098388672, 61.4627685546875, 40.77665710449219, 44.331478118896484, 36.14781188964844, 39.93634033203125, 27.098119735717773, 29.556346893310547, 26.571033477783203, 46.69902801513672, 65.92965698242188, 36.356407165527344, 28.238000869750977, 26.294553756713867, 24.427202224731445, 42.92293930053711, 36.285491943359375, 26.82754135131836, 21.666934967041016, 158.73068237304688, 567.5050659179688, 771.9652099609375, 96.70632934570312, 435.82183837890625, 556.9495849609375, 145.40773010253906, 97.30265045166016, 64.6684799194336, 125.65070343017578, 122.08379364013672, 980.1646728515625, 371.83770751953125, 869.0419921875, 488.5632019042969, 188.37452697753906, 139.54953002929688, 1421.034423828125, 503.0033264160156, 613.0819702148438, 677.295654296875, 878.5762939453125, 226.46484375, 785.8153686523438, 214.44638061523438, 1247.1646728515625, 493.5892028808594, 386.2596740722656, 853.1770629882812, 927.517822265625, 486.2373352050781, 1142.927734375, 552.7566528320312, 1157.4862060546875, 611.648681640625, 392.81109619140625, 4934.4296875, 1703.0045166015625, 755.8228759765625, 1497.4093017578125, 1266.34521484375, 6073.85693359375, 2551.851806640625, 5167.2490234375, 4257.474609375, 2229.502197265625, 916.7084350585938, 3237.453857421875, 2585.5439453125, 6100.8623046875, 3859.174560546875, 5524.16796875, 2375.2392578125, 1438.81884765625, 4256.26611328125, 4032.93701171875, 2170.880859375, 3734.129638671875, 2237.03369140625, 2938.603759765625, 2854.75390625, 3038.070556640625, 96.16707611083984, 81.55030059814453, 27.984172821044922, 26.51830291748047, 25.066625595092773, 19.831464767456055, 39.738258361816406, 15.4722261428833, 15.468993186950684, 13.720782279968262, 13.43433952331543, 13.732331275939941, 13.717015266418457, 14.005303382873535, 14.595535278320312, 12.837467193603516, 13.129439353942871, 12.259735107421875, 12.265908241271973, 61.236305236816406, 13.380931854248047, 12.258888244628906, 11.682708740234375, 11.67997932434082, 11.975616455078125, 12.860467910766602, 11.103979110717773, 11.08932876586914, 11.101268768310547, 12.2346773147583, 89.87035369873047, 28.673431396484375, 16.015151977539062, 51.86323547363281, 42.58172607421875, 752.6334228515625, 107.02665710449219, 53.86403274536133, 38.879573822021484, 403.3710632324219, 43.485469818115234, 379.5885925292969, 21.706640243530273, 435.82354736328125, 63.043846130371094, 106.8622817993164, 1346.67138671875, 221.3414306640625, 27.659278869628906, 163.06324768066406, 133.90843200683594, 59.125797271728516, 104.36883544921875, 46.95881652832031, 105.53703308105469, 148.0107879638672, 307.21087646484375, 87.67379760742188, 130.6529998779297, 1506.2498779296875, 486.1206359863281, 70.2339859008789, 157.02685546875, 242.4084014892578, 1452.746826171875, 647.7163696289062, 478.6620788574219, 2502.7470703125, 1689.150634765625, 856.4264526367188, 2467.0712890625, 937.9490356445312, 6100.8623046875, 1203.5487060546875, 1269.315673828125, 1188.5557861328125, 659.3792114257812, 4256.26611328125, 1079.3487548828125, 3038.070556640625, 1431.3408203125, 1866.987548828125, 5524.16796875, 1550.4527587890625, 985.6669311523438, 1355.0086669921875, 2854.75390625, 1403.7587890625, 1897.3311767578125, 1585.6435546875, 3859.174560546875, 4032.93701171875, 3734.129638671875, 2938.603759765625, 1433.1077880859375, 6073.85693359375, 23.703947067260742, 16.94827651977539, 29.475730895996094, 17.233177185058594, 13.85399341583252, 69.09983825683594, 28.451644897460938, 13.329243659973145, 16.950847625732422, 21.2639217376709, 24.489707946777344, 12.294450759887695, 12.301108360290527, 13.08378791809082, 12.302008628845215, 12.046554565429688, 11.531798362731934, 11.523673057556152, 11.52546215057373, 11.510748863220215, 11.525303840637207, 12.02821159362793, 18.650455474853516, 10.99903392791748, 14.104052543640137, 10.481871604919434, 10.494758605957031, 9.973482131958008, 9.971062660217285, 9.996219635009766, 24.77539825439453, 183.89459228515625, 30.511993408203125, 53.973121643066406, 109.33148193359375, 214.061767578125, 102.52950286865234, 278.38104248046875, 19.871427536010742, 630.0398559570312, 74.498779296875, 188.5988006591797, 518.6521606445312, 378.0507507324219, 53.65945816040039, 1188.5557861328125, 33.84137725830078, 116.21366119384766, 57.877193450927734, 126.41513061523438, 270.7131042480469, 819.1140747070312, 91.47107696533203, 650.8111572265625, 66.75733947753906, 886.4530639648438, 128.5652618408203, 959.2366333007812, 1758.625, 365.0579833984375, 174.769775390625, 170.7207489013672, 363.53106689453125, 6100.8623046875, 1917.598876953125, 4032.93701171875, 5167.2490234375, 4257.474609375, 1438.81884765625, 6073.85693359375, 2375.2392578125, 5524.16796875, 2585.5439453125, 3859.174560546875, 3734.129638671875, 1584.94189453125, 2229.502197265625, 1550.4527587890625, 4256.26611328125, 2170.880859375, 2467.0712890625, 2237.03369140625, 2938.603759765625, 1866.987548828125, 4934.4296875, 3038.070556640625, 29.1384220123291, 26.411470413208008, 22.18546485900879, 15.010838508605957, 13.541910171508789, 12.782354354858398, 11.794816017150879, 11.778524398803711, 11.791812896728516, 11.554601669311523, 12.303764343261719, 11.310564994812012, 10.060517311096191, 10.323915481567383, 13.902816772460938, 17.33905601501465, 12.281913757324219, 9.07690715789795, 9.07691764831543, 9.073847770690918, 8.584226608276367, 8.319645881652832, 8.326743125915527, 8.085829734802246, 7.843685626983643, 7.350308895111084, 7.338840961456299, 7.084819316864014, 7.34640645980835, 6.843861103057861, 21.858060836791992, 11.11468505859375, 23.144989013671875, 35.20759201049805, 10.542794227600098, 14.024724006652832, 156.79290771484375, 123.46661376953125, 30.879528045654297, 19.296892166137695, 4934.4296875, 874.5204467773438, 1030.064453125, 1647.37890625, 3734.129638671875, 46.88074493408203, 3237.453857421875, 1123.6304931640625, 189.7623291015625, 341.55816650390625, 493.3896484375, 1344.9322509765625, 119.05612182617188, 676.7416381835938, 474.7060852050781, 135.75369262695312, 5167.2490234375, 477.0111999511719, 3859.174560546875, 5524.16796875, 1737.869140625, 6073.85693359375, 3038.070556640625, 1206.2900390625, 860.4354248046875, 1703.0045166015625, 4256.26611328125, 1407.3895263671875, 1079.3487548828125, 2854.75390625, 1412.619873046875, 4257.474609375, 6100.8623046875, 2585.5439453125, 1897.3311767578125, 1730.0125732421875, 1408.849853515625, 4032.93701171875, 2467.0712890625, 2938.603759765625, 230.45245361328125, 51.18412780761719, 66.3975830078125, 144.22872924804688, 50.90523910522461, 24.15379524230957, 21.182859420776367, 63.70637512207031, 17.651294708251953, 15.779624938964844, 345.3866271972656, 15.792830467224121, 14.44571304321289, 13.983521461486816, 93.36866760253906, 28.99849510192871, 17.41714096069336, 13.323068618774414, 42.88407897949219, 59.682865142822266, 11.972363471984863, 11.734796524047852, 11.273396492004395, 12.194714546203613, 10.827439308166504, 11.977660179138184, 10.829866409301758, 10.600626945495605, 10.159601211547852, 9.710445404052734, 343.24920654296875, 83.64392852783203, 18.296140670776367, 59.27512741088867, 32.28812789916992, 147.4866485595703, 32.79471969604492, 66.8551254272461, 165.94775390625, 97.67473602294922, 24.290815353393555, 477.75421142578125, 374.8523864746094, 135.56590270996094, 88.75360107421875, 38.688316345214844, 424.9560241699219, 4256.26611328125, 366.7935791015625, 5524.16796875, 1113.6199951171875, 1355.0086669921875, 2502.7470703125, 2938.603759765625, 1408.849853515625, 2854.75390625, 6100.8623046875, 4032.93701171875, 1550.4527587890625, 2467.0712890625, 1917.598876953125, 2237.03369140625, 1647.37890625, 1407.3895263671875, 1452.746826171875, 1730.0125732421875, 3734.129638671875, 4257.474609375, 3859.174560546875, 1897.3311767578125, 3038.070556640625, 5167.2490234375, 6073.85693359375, 2375.2392578125, 19.066343307495117, 16.17791748046875, 13.294124603271484, 10.627738952636719, 17.79103660583496, 9.949108123779297, 9.976493835449219, 16.95159339904785, 9.531659126281738, 9.522453308105469, 9.731822967529297, 8.867941856384277, 34.734073638916016, 8.644684791564941, 9.09788703918457, 8.203001976013184, 8.204700469970703, 8.198319435119629, 8.20543098449707, 8.430486679077148, 9.312021255493164, 7.5417280197143555, 7.54577112197876, 7.78495979309082, 9.374881744384766, 11.322022438049316, 6.65901517868042, 6.660273551940918, 6.6612677574157715, 6.657723903656006, 485.7516174316406, 179.55958557128906, 65.3180160522461, 10.950949668884277, 50.95523452758789, 43.28467559814453, 13.213873863220215, 13.253371238708496, 54.42123794555664, 71.67023468017578, 122.40666198730469, 85.35652923583984, 29.81332778930664, 130.4123992919922, 14.089354515075684, 30.01150894165039, 217.33656311035156, 13.522686004638672, 69.3735122680664, 674.1681518554688, 111.56928253173828, 210.88668823242188, 132.9728240966797, 3237.453857421875, 323.9798889160156, 25.070411682128906, 483.6366271972656, 120.22199249267578, 419.1396789550781, 6073.85693359375, 544.8656616210938, 308.9326171875, 795.7570190429688, 1073.1177978515625, 2938.603759765625, 6100.8623046875, 1497.4093017578125, 4934.4296875, 2467.0712890625, 1266.34521484375, 4032.93701171875, 5524.16796875, 1142.927734375, 1758.625, 3859.174560546875, 3038.070556640625, 2551.851806640625, 5167.2490234375, 4256.26611328125, 2375.2392578125, 2854.75390625, 4257.474609375, 2502.7470703125, 2170.880859375, 1453.53955078125, 2585.5439453125, 18.091686248779297, 20.87444496154785, 23.311248779296875, 14.833714485168457, 11.738945960998535, 13.145444869995117, 12.70276927947998, 10.09047794342041, 12.71300983428955, 9.37917709350586, 9.619153022766113, 39.444976806640625, 9.146021842956543, 7.9811692237854, 26.221084594726562, 10.595224380493164, 7.5078959465026855, 14.543466567993164, 7.501391887664795, 12.288480758666992, 6.790869235992432, 7.039772987365723, 16.41086769104004, 6.567084312438965, 6.566603183746338, 6.564734935760498, 6.563816070556641, 7.514155864715576, 6.3347554206848145, 18.52765464782715, 9.131338119506836, 14.31676959991455, 51.820892333984375, 26.957693099975586, 44.867557525634766, 80.27450561523438, 63.08588409423828, 17.230728149414062, 14.817988395690918, 27.406587600708008, 12.424539566040039, 252.54208374023438, 23.547250747680664, 37.60905838012695, 256.0247802734375, 15.115598678588867, 608.1221313476562, 666.3834228515625, 238.47837829589844, 227.42808532714844, 1073.1177978515625, 428.9674987792969, 108.60570526123047, 100.56552124023438, 92.66072082519531, 275.6802673339844, 383.1214904785156, 1584.94189453125, 819.1140747070312, 5167.2490234375, 4257.474609375, 5524.16796875, 1585.6435546875, 429.3058166503906, 2502.7470703125, 2938.603759765625, 1054.310791015625, 1259.5965576171875, 4032.93701171875, 1452.746826171875, 851.7670288085938, 795.7570190429688, 1540.4158935546875, 6100.8623046875, 2585.5439453125, 3038.070556640625, 1126.267578125, 6073.85693359375, 1344.9322509765625, 1897.3311767578125, 976.6055908203125, 2854.75390625, 21.760522842407227, 14.097068786621094, 11.894189834594727, 13.133801460266113, 11.315603256225586, 9.905221939086914, 9.701841354370117, 9.703369140625, 10.109051704406738, 9.505334854125977, 13.584362030029297, 12.166396141052246, 8.708961486816406, 8.707539558410645, 8.704553604125977, 15.447244644165039, 8.321131706237793, 7.912237644195557, 7.914278984069824, 8.73576831817627, 40.6871337890625, 13.002655029296875, 7.5154290199279785, 7.525575637817383, 6.720342636108398, 6.5180158615112305, 6.503124713897705, 7.322514057159424, 6.108843803405762, 6.111985206604004, 37.95689010620117, 73.24702453613281, 15.89311695098877, 15.502159118652344, 13.45190715789795, 29.169349670410156, 30.153888702392578, 128.70339965820312, 42.107505798339844, 52.02025604248047, 153.14097595214844, 29.979021072387695, 83.91149139404297, 26.151912689208984, 54.69847869873047, 544.8656616210938, 307.21087646484375, 49.45338439941406, 483.6366271972656, 1540.4158935546875, 48.323768615722656, 4032.93701171875, 318.2862548828125, 1452.746826171875, 647.7163696289062, 1407.3895263671875, 3038.070556640625, 1506.2498779296875, 1592.58349609375, 6100.8623046875, 582.375244140625, 5524.16796875, 4257.474609375, 1917.598876953125, 1730.0125732421875, 1689.150634765625, 2585.5439453125, 5167.2490234375, 1431.3408203125, 1408.849853515625, 1584.94189453125, 2502.7470703125, 2938.603759765625, 1346.67138671875, 2237.03369140625, 1737.869140625, 6073.85693359375, 4256.26611328125, 3237.453857421875, 2854.75390625, 3734.129638671875, 3859.174560546875, 2467.0712890625], \"loglift\": [30.0, 29.0, 28.0, 27.0, 26.0, 25.0, 24.0, 23.0, 22.0, 21.0, 20.0, 19.0, 18.0, 17.0, 16.0, 15.0, 14.0, 13.0, 12.0, 11.0, 10.0, 9.0, 8.0, 7.0, 6.0, 5.0, 4.0, 3.0, 2.0, 1.0, 1.0428999662399292, 1.0426000356674194, 1.0347000360488892, 1.034500002861023, 1.0338000059127808, 1.030900001525879, 1.0306999683380127, 1.0303000211715698, 1.0302000045776367, 1.0297000408172607, 1.0293999910354614, 1.0288000106811523, 1.02839994430542, 1.0282000303268433, 1.0282000303268433, 1.0277999639511108, 1.0257999897003174, 1.0241999626159668, 1.0230000019073486, 1.0226999521255493, 1.0226999521255493, 1.0219999551773071, 1.0218000411987305, 1.0217000246047974, 1.020799994468689, 1.0192999839782715, 1.0185999870300293, 1.017899990081787, 1.0164999961853027, 1.0161999464035034, 1.0144000053405762, 1.0012999773025513, 0.9957000017166138, 1.011299967765808, 0.9957000017166138, 0.9804999828338623, 1.0041999816894531, 1.0042999982833862, 1.0115000009536743, 0.9952999949455261, 0.9923999905586243, 0.9218999743461609, 0.9571999907493591, 0.9215999841690063, 0.9437000155448914, 0.9700000286102295, 0.9800999760627747, 0.8792999982833862, 0.9190000295639038, 0.9064000248908997, 0.8962000012397766, 0.8705999851226807, 0.9466999769210815, 0.8646000027656555, 0.9455999732017517, 0.8163999915122986, 0.8852999806404114, 0.9000999927520752, 0.8263000249862671, 0.8166000247001648, 0.8676999807357788, 0.7850000262260437, 0.8539999723434448, 0.76419997215271, 0.833899974822998, 0.8719000220298767, 0.5090000033378601, 0.6535000205039978, 0.7748000025749207, 0.6617000102996826, 0.679099977016449, 0.3889999985694885, 0.49790000915527344, 0.29760000109672546, 0.3422999978065491, 0.4415999948978424, 0.7041000127792358, 0.30559998750686646, 0.322299987077713, -0.07429999858140945, 0.09290000051259995, -0.09650000184774399, 0.23260000348091125, 0.48089998960494995, -0.07289999723434448, -0.05119999870657921, 0.2637999951839447, -0.07129999995231628, 0.18770000338554382, -0.07599999755620956, -0.05530000105500221, -0.2289000004529953, 1.7740999460220337, 1.7690000534057617, 1.753999948501587, 1.7526999711990356, 1.7453999519348145, 1.7401000261306763, 1.7312999963760376, 1.7309000492095947, 1.7288999557495117, 1.7244999408721924, 1.722599983215332, 1.7223000526428223, 1.7222000360488892, 1.7214000225067139, 1.7194000482559204, 1.718000054359436, 1.7173000574111938, 1.7170000076293945, 1.7166999578475952, 1.7158000469207764, 1.7151999473571777, 1.7145999670028687, 1.7134000062942505, 1.7127000093460083, 1.7120000123977661, 1.7109999656677246, 1.7101000547409058, 1.7100000381469727, 1.7099000215530396, 1.7092000246047974, 1.6952999830245972, 1.7065999507904053, 1.7085000276565552, 1.6938999891281128, 1.6931999921798706, 1.6344000101089478, 1.670300006866455, 1.6787999868392944, 1.669800043106079, 1.5681999921798706, 1.6624000072479248, 1.530500054359436, 1.6904000043869019, 1.5048999786376953, 1.61899995803833, 1.5809999704360962, 1.4020999670028687, 1.5037000179290771, 1.669600009918213, 1.5262000560760498, 1.534999966621399, 1.604599952697754, 1.544600009918213, 1.6201000213623047, 1.5305999517440796, 1.4881000518798828, 1.3985999822616577, 1.5430999994277954, 1.4505000114440918, 0.9830999970436096, 1.1723999977111816, 1.5570000410079956, 1.372499942779541, 1.2627999782562256, 0.8001999855041504, 0.9937000274658203, 1.0608999729156494, 0.5935999751091003, 0.7013000249862671, 0.8920999765396118, 0.5756000280380249, 0.8540999889373779, 0.28679999709129333, 0.7730000019073486, 0.741100013256073, 0.7616999745368958, 0.9424999952316284, 0.2919999957084656, 0.7540000081062317, 0.3628000020980835, 0.6435999870300293, 0.51910001039505, 0.06930000334978104, 0.5846999883651733, 0.7687000036239624, 0.6122000217437744, 0.19169999659061432, 0.5485000014305115, 0.3880000114440918, 0.47850000858306885, -0.039000000804662704, -0.14509999752044678, -0.13289999961853027, -0.04500000178813934, 0.49000000953674316, -0.9692999720573425, 2.077699899673462, 2.061500072479248, 2.0560998916625977, 2.054500102996826, 2.053499937057495, 2.0522000789642334, 2.0510001182556152, 2.050800085067749, 2.049799919128418, 2.0471999645233154, 2.0462000370025635, 2.0460000038146973, 2.0455000400543213, 2.0455000400543213, 2.0452001094818115, 2.043800115585327, 2.0406999588012695, 2.0401999950408936, 2.039900064468384, 2.038800001144409, 2.0383999347686768, 2.0373001098632812, 2.0367000102996826, 2.0346999168395996, 2.0344998836517334, 2.0332999229431152, 2.0332999229431152, 2.029099941253662, 2.029099941253662, 2.0283000469207764, 2.0176000595092773, 1.8753999471664429, 1.972499966621399, 1.933899998664856, 1.87909996509552, 1.820099949836731, 1.8495999574661255, 1.7497999668121338, 1.988800048828125, 1.6155999898910522, 1.8476999998092651, 1.7371000051498413, 1.5348000526428223, 1.5592999458312988, 1.8379000425338745, 1.3661999702453613, 1.8997999429702759, 1.6749000549316406, 1.781499981880188, 1.6237000226974487, 1.4651999473571777, 1.2000000476837158, 1.6748000383377075, 1.2001999616622925, 1.7331000566482544, 1.1031999588012695, 1.5499999523162842, 0.9832000136375427, 0.7649999856948853, 1.1965999603271484, 1.4306999444961548, 1.4278000593185425, 1.1708999872207642, 0.1527000069618225, 0.5534999966621399, 0.267300009727478, 0.08910000324249268, 0.07349999994039536, 0.5228000283241272, -0.13989999890327454, 0.25130000710487366, -0.15489999949932098, 0.19380000233650208, -0.00430000014603138, 0.00019999999494757503, 0.38920000195503235, 0.1356000006198883, 0.33309999108314514, -0.31360000371932983, 0.09719999879598618, 0.006899999920278788, 0.02710000053048134, -0.20149999856948853, 0.10339999943971634, -0.8166000247001648, -0.376800000667572, 2.2356998920440674, 2.235100030899048, 2.2342000007629395, 2.2177999019622803, 2.2074999809265137, 2.2065999507904053, 2.2019999027252197, 2.20169997215271, 2.2007999420166016, 2.2000999450683594, 2.199899911880493, 2.196500062942505, 2.188800096511841, 2.1849000453948975, 2.1810998916625977, 2.1807000637054443, 2.1805999279022217, 2.180000066757202, 2.1796000003814697, 2.178800106048584, 2.1721999645233154, 2.169600009918213, 2.168600082397461, 2.1656999588012695, 2.1605000495910645, 2.156100034713745, 2.1558001041412354, 2.1503000259399414, 2.1486001014709473, 2.1468000411987305, 2.144399881362915, 2.1445999145507812, 2.1221001148223877, 2.0536999702453613, 2.1263999938964844, 2.087599992752075, 1.7587000131607056, 1.6845999956130981, 1.9327000379562378, 2.0171000957489014, 0.9452999830245972, 1.2589999437332153, 1.204300045967102, 1.087499976158142, 0.9035000205039978, 1.813599944114685, 0.8266000151634216, 1.0729999542236328, 1.4585000276565552, 1.2934000492095947, 1.1796000003814697, 0.897599995136261, 1.5625, 1.0298000574111938, 1.125100016593933, 1.483199954032898, 0.38609999418258667, 1.1009000539779663, 0.37369999289512634, 0.24690000712871552, 0.6037999987602234, 0.16089999675750732, 0.36480000615119934, 0.6827999949455261, 0.7975000143051147, 0.5182999968528748, 0.14589999616146088, 0.5769000053405762, 0.6805999875068665, 0.21950000524520874, 0.49869999289512634, -0.003100000089034438, -0.17710000276565552, 0.13609999418258667, 0.3109999895095825, 0.36160001158714294, 0.4699999988079071, -0.19529999792575836, 0.1031000018119812, -0.26019999384880066, 2.4210000038146973, 2.4168999195098877, 2.412100076675415, 2.4054999351501465, 2.3980000019073486, 2.3954999446868896, 2.394399881362915, 2.3931000232696533, 2.3870999813079834, 2.3805999755859375, 2.3798000812530518, 2.3780999183654785, 2.374799966812134, 2.372499942779541, 2.372299909591675, 2.3722000122070312, 2.369800090789795, 2.3664000034332275, 2.3640999794006348, 2.3610000610351562, 2.3594000339508057, 2.3589999675750732, 2.3589999675750732, 2.3577001094818115, 2.3554999828338623, 2.354599952697754, 2.353300094604492, 2.3505001068115234, 2.349400043487549, 2.343400001525879, 2.3429999351501465, 2.3352999687194824, 2.3397998809814453, 2.3015999794006348, 2.295300006866455, 2.175100088119507, 2.2757999897003174, 2.164599895477295, 2.022700071334839, 2.0541000366210938, 2.2599000930786133, 1.6952999830245972, 1.635699987411499, 1.8695000410079956, 1.9221999645233154, 2.115799903869629, 1.3163000345230103, 0.5084999799728394, 1.3360999822616577, 0.3702000081539154, 0.8884000182151794, 0.7864999771118164, 0.5174000263214111, 0.42089998722076416, 0.6898999810218811, 0.3634999990463257, -0.0032999999821186066, 0.18930000066757202, 0.5914999842643738, 0.31360000371932983, 0.44859999418258667, 0.3571999967098236, 0.5199000239372253, 0.5845999717712402, 0.5371999740600586, 0.4296000003814697, -0.0340999998152256, -0.12680000066757202, -0.08829999715089798, 0.3037000000476837, -0.0625, -0.47600001096725464, -0.6528000235557556, 0.040699999779462814, 2.556299924850464, 2.546099901199341, 2.54010009765625, 2.5264999866485596, 2.521699905395508, 2.519700050354004, 2.518399953842163, 2.516400098800659, 2.515899896621704, 2.515700101852417, 2.5071001052856445, 2.5053999423980713, 2.5046000480651855, 2.5041000843048096, 2.5020999908447266, 2.5013999938964844, 2.501300096511841, 2.501300096511841, 2.5011000633239746, 2.500499963760376, 2.491300106048584, 2.490299940109253, 2.487299919128418, 2.485300064086914, 2.47979998588562, 2.4758999347686768, 2.4744999408721924, 2.4742000102996826, 2.473900079727173, 2.4728000164031982, 2.449399948120117, 2.4226999282836914, 2.438800096511841, 2.4649999141693115, 2.432499885559082, 2.4263999462127686, 2.4567999839782715, 2.4551000595092773, 2.3427999019622803, 2.3117001056671143, 2.2265000343322754, 2.2546000480651855, 2.3445000648498535, 2.1468000411987305, 2.435800075531006, 2.3176000118255615, 2.0044000148773193, 2.436500072479248, 2.1484999656677246, 1.6232999563217163, 1.9865000247955322, 1.8029999732971191, 1.8773000240325928, 1.034500002861023, 1.618899941444397, 2.2672998905181885, 1.3538999557495117, 1.7253999710083008, 1.292199969291687, 0.3758000135421753, 1.1719000339508057, 1.3634999990463257, 0.9860000014305115, 0.8578000068664551, 0.35830000042915344, 0.027699999511241913, 0.6340000033378601, 0.0763000026345253, 0.30379998683929443, 0.6047000288963318, -0.07109999656677246, -0.2700999975204468, 0.6036999821662903, 0.34700000286102295, -0.1290999948978424, -0.04989999905228615, 0.04820000007748604, -0.4284000098705292, -0.376800000667572, 0.01810000091791153, -0.14890000224113464, -0.47209998965263367, -0.07559999823570251, 0.003100000089034438, 0.2289000004529953, -0.3303000032901764, 2.95169997215271, 2.9500999450683594, 2.9282000064849854, 2.9267001152038574, 2.9267001152038574, 2.9177000522613525, 2.9173998832702637, 2.9138998985290527, 2.911600112915039, 2.9038000106811523, 2.9001998901367188, 2.894200086593628, 2.894200086593628, 2.8905999660491943, 2.8875999450683594, 2.884399890899658, 2.8838000297546387, 2.8803999423980713, 2.8780999183654785, 2.87280011177063, 2.8696999549865723, 2.868299961090088, 2.8675999641418457, 2.866499900817871, 2.866300106048584, 2.865999937057495, 2.865499973297119, 2.860300064086914, 2.858299970626831, 2.858299970626831, 2.8536999225616455, 2.8438000679016113, 2.799999952316284, 2.8178000450134277, 2.7846999168395996, 2.726599931716919, 2.732300043106079, 2.806299924850464, 2.802799940109253, 2.7337000370025635, 2.8185999393463135, 2.3341000080108643, 2.6967999935150146, 2.6015000343322754, 2.040800094604492, 2.7753000259399414, 1.7344000339508057, 1.6663000583648682, 1.97160005569458, 1.8554999828338623, 1.2793999910354614, 1.5784000158309937, 2.058500051498413, 2.08240008354187, 2.114300012588501, 1.6617000102996826, 1.5020999908447266, 0.8471999764442444, 1.0807000398635864, 0.16220000386238098, 0.21320000290870667, -0.05790000036358833, 0.5555999875068665, 1.2552000284194946, 0.2630000114440918, 0.14470000565052032, 0.7164999842643738, 0.6065999865531921, -0.08709999918937683, 0.47769999504089355, 0.7807000279426575, 0.7426000237464905, 0.2985999882221222, -0.647599995136261, -0.11289999634027481, -0.2337000072002411, 0.4796999990940094, -0.8881000280380249, 0.328900009393692, 0.024800000712275505, 0.5759999752044678, -0.45339998602867126, 2.967099905014038, 2.9560000896453857, 2.9456000328063965, 2.9391000270843506, 2.9344000816345215, 2.9296998977661133, 2.929500102996826, 2.9286000728607178, 2.9286000728607178, 2.9267001152038574, 2.9245998859405518, 2.923799991607666, 2.9175000190734863, 2.9170000553131104, 2.914400100708008, 2.9133999347686768, 2.906399965286255, 2.9054999351501465, 2.90310001373291, 2.901099920272827, 2.8984999656677246, 2.8968000411987305, 2.8965001106262207, 2.887200117111206, 2.88319993019104, 2.878200054168701, 2.8773000240325928, 2.8759000301361084, 2.8721001148223877, 2.8721001148223877, 2.844899892807007, 2.827199935913086, 2.8385000228881836, 2.8380000591278076, 2.8259999752044678, 2.7070999145507812, 2.6856000423431396, 2.33240008354187, 2.5388998985290527, 2.470599889755249, 2.0148000717163086, 2.52020001411438, 2.172499895095825, 2.5220000743865967, 2.244999885559082, 1.3916000127792358, 1.5419000387191772, 2.2706000804901123, 1.3157000541687012, 0.7653999924659729, 2.2502999305725098, 0.22439999878406525, 1.3782000541687012, 0.6362000107765198, 0.965399980545044, 0.5717999935150146, 0.18080000579357147, 0.5041999816894531, 0.45509999990463257, -0.28439998626708984, 0.9585000276565552, -0.24250000715255737, -0.12189999967813492, 0.3077999949455261, 0.34880000352859497, 0.3140999972820282, 0.06679999828338623, -0.37619999051094055, 0.385699987411499, 0.37560001015663147, 0.2978000044822693, -0.026000000536441803, -0.15109999477863312, 0.37070000171661377, -0.003800000064074993, 0.16189999878406525, -0.7563999891281128, -0.5439000129699707, -0.36320000886917114, -0.2815000116825104, -0.5353999733924866, -0.5834000110626221, -0.22709999978542328], \"logprob\": [30.0, 29.0, 28.0, 27.0, 26.0, 25.0, 24.0, 23.0, 22.0, 21.0, 20.0, 19.0, 18.0, 17.0, 16.0, 15.0, 14.0, 13.0, 12.0, 11.0, 10.0, 9.0, 8.0, 7.0, 6.0, 5.0, 4.0, 3.0, 2.0, 1.0, -7.794600009918213, -7.041600227355957, -7.936999797821045, -8.087599754333496, -8.253000259399414, -8.449299812316895, -7.999499797821045, -8.638199806213379, -8.403800010681152, -8.621500015258789, -8.431500434875488, -7.041100025177002, -8.05370044708252, -8.464200019836426, -8.38070011138916, -8.585100173950195, -8.487500190734863, -8.876899719238281, -8.791299819946289, -8.89799976348877, -8.334099769592285, -7.9899001121521, -8.585399627685547, -8.838199615478516, -8.910300254821777, -8.98550033569336, -8.422499656677246, -8.59119987487793, -8.894599914550781, -9.108499526977539, -7.118899822235107, -5.857999801635742, -5.5559000968933105, -7.617599964141846, -6.127600193023682, -5.897500038146973, -7.216700077056885, -7.6184000968933105, -8.019800186157227, -7.371699810028076, -7.403500080108643, -5.390900135040283, -6.324900150299072, -5.511499881744385, -6.065400123596191, -6.992099761962891, -7.2820000648498535, -5.062099933624268, -6.0609002113342285, -5.8755998611450195, -5.786200046539307, -5.551599979400635, -6.831200122833252, -5.6691999435424805, -6.8867998123168945, -5.255499839782715, -6.113500118255615, -6.343900203704834, -5.62529993057251, -5.551400184631348, -6.146100044250488, -5.374199867248535, -6.031599998474121, -5.382299900054932, -5.950500011444092, -6.355299949645996, -4.1875, -5.106900215148926, -5.797900199890137, -5.22730016708374, -5.377600193023682, -4.099800109863281, -4.858099937438965, -4.352799892425537, -4.501800060272217, -5.0493998527526855, -5.6757001876831055, -4.812300205230713, -5.020500183105469, -4.558700084686279, -4.849400043487549, -4.680099964141846, -5.195099830627441, -5.4481000900268555, -4.917300224304199, -4.94950008392334, -5.253799915313721, -5.046599864959717, -5.299900054931641, -5.290800094604492, -5.298999786376953, -5.410399913787842, -6.860400199890137, -7.030300140380859, -8.114800453186035, -8.170000076293945, -8.233599662780762, -8.473099708557129, -7.786900043487549, -8.730600357055664, -8.732799530029297, -8.857099533081055, -8.88010025024414, -8.858499526977539, -8.859700202941895, -8.839699745178223, -8.800399780273438, -8.93019962310791, -8.90839958190918, -8.97719955444336, -8.97700023651123, -7.369999885559082, -8.891400337219238, -8.979700088500977, -9.029000282287598, -9.029999732971191, -9.005599975585938, -8.935400009155273, -9.083200454711914, -9.084500312805176, -9.083499908447266, -8.987000465393066, -7.006899833679199, -8.137999534606934, -8.718500137329102, -7.558000087738037, -7.755899906158447, -4.942599773406982, -6.8572001457214355, -7.535299777984619, -7.870200157165527, -5.632500171661377, -7.765699863433838, -5.730999946594238, -8.432499885559082, -5.618299961090088, -7.437699794769287, -6.947999954223633, -4.5929999351501465, -6.297100067138672, -8.211000442504883, -6.5802001953125, -6.7683000564575195, -7.516300201416016, -7.007900238037109, -7.731200218200684, -7.010900020599365, -6.715199947357178, -6.074399948120117, -7.183800220489502, -6.877399921417236, -4.900000095367432, -5.841700077056885, -7.39169979095459, -6.771599769592285, -6.4471001625061035, -5.119100093841553, -5.733399868011475, -5.968599796295166, -4.781799793243408, -5.067200183868408, -5.555600166320801, -4.8140997886657715, -5.502699851989746, -4.197500228881836, -5.334499835968018, -5.313199996948242, -5.358399868011475, -5.7667999267578125, -4.552299976348877, -5.462399959564209, -4.818699836730957, -5.290500164031982, -5.149400234222412, -4.5142998695373535, -5.269599914550781, -5.53849983215332, -5.376699924468994, -5.052000045776367, -5.405099868774414, -5.264400005340576, -5.3531999588012695, -4.981299877166748, -5.043399810791016, -5.1082000732421875, -5.259900093078613, -5.442999839782715, -5.458099842071533, -7.957099914550781, -8.308799743652344, -7.760900020599365, -8.299200057983398, -8.518500328063965, -6.912799835205078, -7.801300048828125, -8.559700012207031, -8.32040023803711, -8.09630012512207, -7.956099987030029, -8.645400047302246, -8.645400047302246, -8.583700180053711, -8.645500183105469, -8.667900085449219, -8.714699745178223, -8.715900421142578, -8.716099739074707, -8.718400001525879, -8.717599868774414, -8.675999641418457, -8.23799991607666, -8.767999649047852, -8.519599914550781, -8.81760025024414, -8.816399574279785, -8.871500015258789, -8.871700286865234, -8.869999885559082, -7.9730000495910645, -6.110799789428711, -7.809899806976318, -7.27810001373291, -6.627099990844727, -6.014200210571289, -6.720799922943115, -5.821700096130371, -8.222399711608887, -5.139200210571289, -7.041999816894531, -6.223800182342529, -5.4145002365112305, -5.706200122833252, -7.380000114440918, -4.753799915313721, -7.7789998054504395, -6.770199775695801, -7.3607001304626465, -6.737299919128418, -6.134300231933594, -5.292300224304199, -7.009699821472168, -5.52209997177124, -7.26639986038208, -5.310100078582764, -6.794099807739258, -5.351099967956543, -4.963200092315674, -6.103799819946289, -6.606400012969971, -6.632599830627441, -6.133800029754639, -4.331600189208984, -5.088200092315674, -4.630899906158447, -4.561399936676025, -4.770599842071533, -5.406199932098389, -4.628699779510498, -5.176400184631348, -4.73859977722168, -5.14900016784668, -4.946599960327148, -4.975100040435791, -5.442999839782715, -5.355400085449219, -5.521100044250488, -5.1579999923706055, -5.420400142669678, -5.382900238037109, -5.4604997634887695, -5.416399955749512, -5.565100193023682, -5.5131001472473145, -5.558300018310547, -7.592700004577637, -7.691699981689453, -7.8668999671936035, -8.27400016784668, -8.387200355529785, -8.445799827575684, -8.530900001525879, -8.532600402832031, -8.532299995422363, -8.553400039672852, -8.490699768066406, -8.578300476074219, -8.703100204467773, -8.68120002746582, -8.387399673461914, -8.166799545288086, -8.511799812316895, -8.814800262451172, -8.815199851989746, -8.816300392150879, -8.878399848937988, -8.912300109863281, -8.912500381469727, -8.944700241088867, -8.980299949645996, -9.049699783325195, -9.05150032043457, -9.092300415039062, -9.057700157165527, -9.130399703979492, -7.971499919891357, -8.647600173950195, -7.936699867248535, -7.5854997634887695, -8.718700408935547, -8.472100257873535, -6.386899948120117, -6.699999809265137, -7.837699890136719, -8.22350025177002, -3.751199960708618, -5.167799949645996, -5.058800220489502, -4.706099987030029, -4.071800231933594, -7.539299964904785, -4.291399955749512, -5.1031999588012695, -6.496300220489502, -6.073599815368652, -5.8196001052856445, -5.098800182342529, -6.858399868011475, -5.653500080108643, -5.912700176239014, -6.80649995803833, -4.2642998695373535, -5.93209981918335, -4.568600177764893, -4.3368000984191895, -5.136300086975098, -4.327899932861328, -4.816699981689453, -5.422399997711182, -5.645599842071533, -5.242099761962891, -4.698500156402588, -5.374100208282471, -5.535799980163574, -5.0243000984191895, -5.448599815368652, -4.8471999168396, -4.661399841308594, -5.206699848175049, -5.341300010681152, -5.3831000328063965, -5.480000019073486, -5.093599796295166, -5.2866997718811035, -5.474999904632568, -5.339399814605713, -6.848199844360352, -6.592800140380859, -5.823599815368652, -6.872600078582764, -7.62060022354126, -7.752900123596191, -6.653200149536133, -7.942599773406982, -8.061200141906738, -4.976099967956543, -8.062899589538574, -8.15530014038086, -8.190199851989746, -6.291600227355957, -7.460999965667725, -7.973199844360352, -8.244600296020508, -7.078000068664551, -6.750400066375732, -8.358499526977539, -8.378999710083008, -8.419099807739258, -8.341899871826172, -8.463000297546387, -8.362799644470215, -8.464900016784668, -8.489100456237793, -8.532699584960938, -8.583900451660156, -5.019100189208984, -6.438700199127197, -7.953999996185303, -6.816699981689453, -7.430500030517578, -6.031700134277344, -7.4344000816345215, -6.833399772644043, -6.066100120544434, -6.564799785614014, -7.750500202178955, -5.336100101470947, -5.638299942016602, -6.421500205993652, -6.792500019073486, -7.429200172424316, -5.832300186157227, -4.335899829864502, -5.95959997177124, -4.213399887084961, -5.2967000007629395, -5.202400207519531, -4.857900142669678, -4.794000148773193, -5.2600998878479, -4.880300045013428, -4.48769998550415, -4.709000110626221, -5.262700080871582, -5.076099872589111, -5.1930999755859375, -5.13040018081665, -5.27370023727417, -5.366399765014648, -5.3821001052856445, -5.315100193023682, -5.009300231933594, -4.970900058746338, -5.030600070953369, -5.348700046539307, -5.24399995803833, -5.126500129699707, -5.141499996185303, -5.386899948120117, -7.696300029754639, -7.870800018310547, -8.073100090026855, -8.310500144958496, -7.800099849700928, -8.383299827575684, -8.3818998336792, -7.853700160980225, -8.430000305175781, -8.43120002746582, -8.418000221252441, -8.512700080871582, -7.148200035095215, -8.53950023651123, -8.490300178527832, -8.594599723815918, -8.594499588012695, -8.59529972076416, -8.594599723815918, -8.56820011138916, -8.477899551391602, -8.689800262451172, -8.69219970703125, -8.663000106811523, -8.482600212097168, -8.297900199890137, -8.830100059509277, -8.830100059509277, -8.830300331115723, -8.831999778747559, -4.565400123596191, -5.587299823760986, -6.582499980926514, -8.342100143432617, -6.837100028991699, -7.00629997253418, -8.162400245666504, -8.161199569702148, -6.861000061035156, -6.616799831390381, -6.1666998863220215, -6.499000072479248, -7.461100101470947, -6.183000087738037, -8.11929988861084, -7.481400012969971, -5.814700126647949, -8.159700393676758, -6.812600135803223, -5.063700199127197, -6.4994001388549805, -6.046199798583984, -6.433000087738037, -4.083499908447266, -5.801000118255615, -7.711599826812744, -5.665200233459473, -6.685800075531006, -5.870100021362305, -4.1128997802734375, -5.728099822998047, -6.103899955749512, -5.535200119018555, -5.3643999099731445, -4.856500148773193, -4.456699848175049, -5.255000114440918, -4.620200157165527, -5.085899829864502, -5.452000141143799, -4.969399929046631, -4.853799819946289, -5.555500030517578, -5.381199836730957, -5.071400165557861, -5.231500148773193, -5.307700157165527, -5.07889986038208, -5.221199989318848, -5.409599781036377, -5.392600059509277, -5.316199779510498, -5.450900077819824, -5.514500141143799, -5.689899921417236, -5.673099994659424, -7.353400230407715, -7.211900234222412, -7.123300075531006, -7.576900005340576, -7.8109002113342285, -7.7067999839782715, -7.741300106048584, -7.974999904632568, -7.746300220489502, -8.058199882507324, -8.036600112915039, -6.631400108337402, -8.093000411987305, -8.232799530029297, -7.04640007019043, -7.955699920654297, -8.300800323486328, -7.64300012588501, -8.30739974975586, -7.8190999031066895, -8.415300369262695, -8.380599975585938, -7.534999847412109, -8.451899528503418, -8.452199935913086, -8.452799797058105, -8.453499794006348, -8.323399543762207, -8.496199607849121, -7.422999858856201, -8.135100364685059, -7.695300102233887, -6.452700138092041, -7.088399887084961, -6.612100124359131, -6.088500022888184, -6.323699951171875, -7.547500133514404, -7.701900005340576, -7.156099796295166, -7.862199783325195, -5.33489990234375, -7.344699859619141, -6.971799850463867, -5.6143999099731445, -7.709499835968018, -5.055799961090088, -5.032400131225586, -5.7546000480651855, -5.9182000160217285, -4.942800045013428, -5.560800075531006, -6.4542999267578125, -6.507299900054932, -6.557300090789795, -5.919600009918213, -5.750100135803223, -4.985000133514404, -5.411600112915039, -4.4882001876831055, -4.630899906158447, -4.641600131988525, -5.276199817657471, -5.883200168609619, -5.112299919128418, -5.070099830627441, -5.523399829864502, -5.455399990081787, -4.985400199890137, -5.4415998458862305, -5.672500133514404, -5.77869987487793, -5.562099933624268, -5.131999969482422, -5.4558000564575195, -5.415299892425537, -5.6940999031066895, -5.3769001960754395, -5.667600154876709, -5.627500057220459, -5.740499973297119, -5.697199821472168, -7.153299808502197, -7.598599910736084, -7.778800010681152, -7.686200141906738, -7.839900016784668, -7.977799892425537, -7.998700141906738, -7.9994001388549805, -7.958499908447266, -8.022000312805176, -7.666999816894531, -7.77810001373291, -8.11870002746582, -8.11929988861084, -8.122300148010254, -7.549699783325195, -8.175299644470215, -8.22659969329834, -8.228799819946289, -8.131999969482422, -6.596099853515625, -7.73859977722168, -8.286999702453613, -8.295100212097168, -8.412199974060059, -8.447699546813965, -8.451000213623047, -8.333700180053711, -8.518600463867188, -8.518199920654297, -6.719099998474121, -6.079400062561035, -7.596099853515625, -7.621500015258789, -7.775400161743164, -7.120299816131592, -7.10860013961792, -6.010700225830078, -6.92140007019043, -6.778299808502197, -6.154399871826172, -7.279900074005127, -6.598199844360352, -7.414599895477295, -6.953700065612793, -5.508399963378906, -5.931099891662598, -7.028900146484375, -5.703499794006348, -5.095399856567383, -7.072299957275391, -4.673900127410889, -6.0594000816345215, -5.283100128173828, -5.76170015335083, -5.379199981689453, -5.000699996948242, -5.378900051116943, -5.372300148010254, -4.768799781799316, -5.874899864196777, -4.826099872589111, -4.966000080108643, -5.333899974822998, -5.3958001136779785, -5.454400062561035, -5.276000022888184, -5.026599884033203, -5.548500061035156, -5.574399948120117, -5.5345001220703125, -5.401400089263916, -5.365900039672852, -5.6244001388549805, -5.491499900817871, -5.578199863433838, -5.245200157165527, -5.388299942016602, -5.481200218200684, -5.525199890136719, -5.5106000900268555, -5.5258002281188965, -5.616799831390381]}, \"token.table\": {\"Topic\": [5, 7, 5, 6, 1, 2, 3, 4, 5, 6, 7, 8, 1, 2, 3, 4, 5, 6, 7, 8, 7, 3, 1, 2, 3, 5, 2, 3, 4, 5, 7, 8, 3, 5, 2, 3, 1, 2, 3, 4, 5, 6, 7, 8, 1, 3, 5, 6, 7, 1, 3, 4, 6, 1, 2, 3, 4, 5, 6, 7, 8, 6, 1, 1, 2, 3, 4, 5, 6, 7, 8, 1, 2, 3, 4, 5, 6, 7, 8, 2, 1, 2, 5, 8, 6, 8, 1, 1, 2, 3, 6, 7, 1, 2, 3, 4, 5, 6, 7, 8, 3, 5, 7, 1, 2, 3, 4, 5, 6, 7, 8, 1, 2, 3, 4, 5, 6, 7, 8, 1, 2, 3, 4, 5, 6, 7, 8, 1, 3, 4, 6, 8, 1, 2, 3, 5, 7, 1, 3, 4, 6, 8, 1, 2, 3, 4, 5, 6, 7, 8, 1, 2, 3, 7, 5, 4, 2, 3, 5, 3, 6, 4, 8, 3, 7, 2, 1, 3, 5, 7, 1, 1, 3, 8, 8, 4, 2, 7, 4, 7, 7, 2, 6, 7, 8, 2, 1, 3, 6, 8, 1, 4, 5, 8, 4, 1, 2, 3, 4, 6, 7, 8, 2, 1, 2, 3, 5, 6, 7, 8, 1, 2, 3, 4, 6, 7, 8, 1, 3, 4, 6, 4, 6, 1, 2, 3, 4, 5, 6, 7, 8, 2, 3, 1, 2, 3, 4, 5, 6, 7, 8, 3, 2, 3, 8, 1, 2, 3, 4, 5, 6, 7, 8, 1, 2, 3, 4, 5, 6, 7, 8, 1, 2, 3, 4, 5, 6, 7, 8, 8, 1, 3, 4, 6, 1, 6, 2, 4, 1, 2, 3, 7, 2, 5, 8, 1, 3, 3, 6, 8, 3, 4, 8, 1, 6, 8, 1, 2, 3, 4, 5, 6, 7, 8, 1, 2, 3, 4, 5, 6, 7, 8, 1, 2, 3, 4, 5, 6, 8, 2, 4, 1, 2, 3, 4, 5, 6, 8, 1, 3, 4, 6, 8, 1, 2, 3, 4, 5, 6, 8, 1, 2, 3, 4, 5, 6, 7, 8, 6, 3, 6, 5, 1, 7, 5, 7, 1, 2, 3, 4, 5, 6, 7, 8, 3, 5, 8, 7, 1, 2, 3, 4, 5, 6, 7, 8, 1, 3, 4, 6, 7, 1, 2, 3, 4, 5, 6, 7, 8, 1, 2, 3, 4, 5, 6, 7, 8, 7, 1, 2, 3, 4, 5, 6, 7, 8, 3, 1, 2, 5, 6, 7, 3, 2, 2, 3, 4, 5, 6, 7, 8, 1, 2, 3, 4, 5, 6, 7, 8, 1, 2, 3, 4, 5, 6, 7, 8, 6, 1, 2, 3, 4, 5, 6, 7, 8, 4, 8, 1, 4, 1, 2, 3, 4, 5, 6, 8, 8, 1, 6, 8, 1, 5, 1, 2, 3, 4, 5, 6, 7, 8, 1, 2, 3, 4, 5, 6, 7, 8, 1, 3, 5, 7, 8, 1, 2, 3, 4, 5, 6, 7, 8, 7, 2, 3, 5, 8, 7, 8, 3, 1, 2, 3, 4, 5, 6, 7, 8, 1, 2, 3, 4, 5, 6, 7, 8, 1, 2, 3, 4, 5, 6, 8, 8, 2, 8, 2, 5, 6, 8, 6, 2, 3, 3, 1, 2, 3, 4, 5, 6, 7, 8, 7, 8, 1, 2, 3, 4, 5, 6, 7, 8, 2, 3, 5, 6, 7, 8, 1, 2, 3, 5, 6, 7, 8, 6, 8, 1, 2, 3, 6, 1, 2, 3, 4, 5, 6, 8, 6, 1, 2, 3, 4, 5, 6, 7, 8, 3, 6, 1, 2, 3, 4, 5, 6, 7, 8, 8, 2, 6, 1, 2, 3, 4, 5, 6, 8, 1, 6, 1, 2, 3, 4, 5, 6, 8, 2, 5, 8, 1, 4, 6, 2, 5, 5, 1, 2, 3, 4, 5, 6, 7, 8, 5, 7, 1, 2, 3, 4, 5, 6, 7, 8, 7, 8, 3, 5, 7, 2, 3, 4, 5, 1, 6, 1, 2, 3, 4, 5, 8, 1, 2, 3, 4, 5, 6, 7, 8, 8, 2, 1, 2, 3, 4, 5, 6, 7, 8, 3, 5, 8, 1, 2, 3, 4, 5, 6, 7, 8, 1, 2, 3, 4, 5, 6, 7, 8, 1, 2, 3, 4, 5, 6, 7, 8, 1, 2, 3, 4, 5, 6, 7, 8, 1, 2, 3, 4, 5, 6, 7, 8, 1, 2, 3, 4, 6, 7, 8, 1, 2, 3, 4, 5, 6, 7, 8, 7, 8, 6, 1, 2, 3, 4, 6, 7, 8, 6, 2, 5, 8, 1, 2, 3, 4, 5, 6, 7, 8, 3, 1, 6, 1, 2, 3, 4, 5, 6, 7, 8, 3, 4, 1, 2, 3, 4, 5, 6, 7, 8, 3, 5, 6, 8, 1, 2, 3, 4, 5, 6, 7, 8, 4, 1, 2, 3, 4, 5, 6, 7, 8, 2, 7, 6, 1, 6, 1, 4, 1, 3, 4, 5, 7, 8, 5, 7, 1, 2, 7, 2, 5, 1, 2, 3, 4, 5, 6, 7, 8, 5, 7, 1, 3, 6, 7, 2, 5, 7, 8, 1, 3, 4, 5, 6, 8, 1, 2, 3, 4, 6, 7, 8, 4, 2, 1, 6, 1, 2, 3, 4, 5, 6, 7, 8, 2, 7, 1, 2, 3, 4, 5, 6, 7, 8, 1, 3, 6, 2, 2, 2, 5, 5, 2, 3, 4, 5, 8, 1, 3, 6, 7, 2, 4, 6, 7, 1, 1, 5, 6, 8, 1, 7, 1, 2, 3, 4, 5, 6, 7, 8, 3, 4, 7, 5, 4, 5, 7, 1, 2, 3, 4, 5, 6, 7, 8, 1, 2, 5, 1, 2, 3, 4, 5, 6, 7, 8, 6, 1, 2, 3, 7, 5, 8, 1, 3, 6, 7, 1, 2, 7, 7, 1, 2, 3, 4, 7, 8, 2, 1, 2, 3, 4, 5, 6, 7, 8, 1, 2, 3, 4, 7, 1, 4, 6, 1, 2, 3, 4, 5, 6, 7, 8, 1, 2, 3, 4, 5, 6, 7, 8, 2, 1, 2, 3, 4, 5, 6, 7, 8, 1, 2, 3, 4, 5, 6, 7, 8, 8, 6, 1, 2, 3, 4, 5, 6, 7, 8, 1, 2, 3, 5, 6, 7, 1, 2, 3, 4, 5, 6, 7, 8, 3, 5, 3, 5, 1, 3, 5, 6, 7, 1, 1, 4, 2, 3, 4, 5, 8, 8, 3, 3, 4, 6, 1, 2, 3, 4, 5, 6, 7, 8, 1, 2, 3, 4, 5, 6, 7, 2, 4, 5, 1, 2, 3, 4, 5, 6, 7, 8, 1, 4, 8, 1, 4, 6, 2, 4, 1, 3, 4, 5, 1, 2, 3, 4, 5, 6, 7, 8, 5, 5, 1, 2, 3, 4, 5, 6, 7, 8, 4, 7, 1, 4, 6, 1, 2, 3, 4, 5, 6, 7, 8, 1, 1, 4, 6, 1, 6, 2, 3, 5, 8, 1, 2, 3, 4, 5, 6, 7, 8, 6, 7, 1, 2, 3, 4, 5, 6, 7, 8, 1, 2, 3, 4, 5, 6, 7, 8, 1, 2, 3, 4, 5, 6, 7, 8, 4, 7, 2, 1, 1, 2, 3, 4, 5, 6, 3, 1, 2, 3, 4, 5, 6, 7, 8, 1, 3, 5, 1, 2, 3, 5, 6, 7, 8, 1, 4, 8, 1, 2, 3, 4, 5, 6, 7, 8, 1, 2, 3, 4, 5, 6, 8, 1, 1, 8, 1, 4, 6, 4, 1, 2, 3, 4, 5, 6, 7, 8, 3, 1, 4, 5, 6, 8, 4, 6, 1, 2, 3, 4, 5, 6, 7, 8, 1, 2, 3, 4, 5, 6, 7, 8, 1, 3, 2, 3, 5, 3, 5, 4, 1, 2, 3, 4, 5, 6, 7, 8, 1, 2, 3, 7, 2, 3, 1, 2, 5, 6, 7, 8, 4, 8, 1, 4, 1, 2, 3, 4, 5, 6, 7, 8, 3, 8, 7, 1, 6, 3, 1, 1, 2, 3, 4, 5, 6, 7, 1, 2, 3, 4, 5, 6, 7, 8, 3, 8, 1, 2, 3, 4, 5, 6, 7, 8, 4, 5, 6, 2, 3, 4, 5, 6, 7, 1, 2, 3, 4, 5, 6, 8, 2, 7, 8, 1, 2, 3, 4, 5, 6, 7, 8, 2, 6, 8, 2, 5, 1, 3, 7, 8, 2, 8, 1, 2, 3, 4, 5, 6, 7, 8, 4, 1, 2, 3, 4, 5, 6, 7, 8, 3, 7, 1, 2, 3, 4, 6, 7, 8, 5, 6, 6, 4, 1, 2, 3, 4, 7, 8, 2, 4, 5, 7, 8, 2, 1, 2, 3, 7, 8, 1, 2, 3, 4, 5, 6, 7, 8, 1, 2, 3, 5, 6, 8, 1, 2, 3, 4, 6, 8, 1, 2, 3, 4, 5, 6, 7, 8, 1, 3, 7, 8, 1, 2, 3, 4, 5, 6, 7, 8, 6, 7, 1, 2, 3, 4, 5, 6, 7, 8, 2, 3, 5, 6, 7, 8, 1, 1, 2, 3, 4, 5, 6, 7, 8, 1, 3, 4, 6, 8, 2, 5, 7, 1, 4, 6, 3, 4, 1, 2, 3, 4, 5, 6, 7, 8, 4, 1, 2, 3, 4, 5, 6, 1, 3, 6, 1, 2, 3, 4, 5, 6, 7, 8, 1, 4, 4, 1, 2, 3, 4, 5, 6, 7, 8, 3, 3, 1, 4, 1, 2, 3, 4, 5, 6, 7, 8, 2, 4, 1, 2, 3, 4, 5, 6, 7, 8, 1, 2, 3, 4, 5, 6, 8, 1, 2, 3, 4, 5, 6, 7, 8, 1, 2, 3, 5, 6, 8, 5, 1, 2, 3, 4, 5, 6, 7, 8, 1, 2, 3, 4, 5, 6, 7, 8, 1, 2, 3, 5, 8, 1, 4, 6, 8, 1, 3, 5, 1, 1, 3, 6, 5, 8, 3, 7, 6, 7, 1, 3, 4, 6, 2, 3, 4, 5, 8, 1, 1, 2, 3, 4, 6, 8, 1, 2, 3, 4, 5, 6, 7, 8, 1, 2, 3, 4, 5, 6, 7, 8, 2, 3, 4, 5, 6, 7, 8, 1, 2, 3, 4, 5, 6, 7, 8, 1, 3, 4, 6, 8, 1, 4, 6, 1, 2, 3, 4, 5, 6, 7, 8, 1, 2, 3, 4, 5, 6, 7, 8, 3, 6, 5, 7, 2, 1, 3, 4, 5, 6, 8, 3, 4, 1, 2, 3, 4, 5, 6, 7, 8, 4, 1, 2, 3, 4, 6, 7, 1, 2, 3, 4, 5, 6, 7, 8, 5, 2, 3, 1, 2, 3, 4, 6, 7, 4, 1, 2, 3, 4, 5, 6, 7, 8, 2, 1, 2, 3, 4, 6, 7, 8, 5, 1, 2, 3, 4, 5, 6, 7, 8, 2, 3, 1, 8, 1, 2, 3, 4, 5, 6, 7, 8, 4, 6, 5, 6, 4, 1, 2, 3, 4, 5, 6, 7, 8, 2, 4, 5, 7, 4, 1, 4, 6, 1, 4, 6, 4, 5, 8, 1, 4, 5, 6, 8, 1, 6, 4, 1, 3, 1, 2, 5, 6, 1, 2, 3, 4, 5, 6, 7, 8, 4, 3, 1, 2, 3, 4, 7, 8, 3, 2, 7, 1, 4, 5, 6, 8, 2, 3, 5, 6, 8, 2, 8, 2, 7, 1, 2, 3, 4, 5, 6, 7, 8, 6, 1, 2, 3, 4, 5, 6, 7, 8, 1, 3, 4, 6, 7, 8, 1, 3, 4, 5, 6, 7, 8, 2, 1, 2, 3, 4, 5, 6, 7, 8, 1, 2, 3, 4, 5, 6, 7, 8, 7, 2, 8, 1, 2, 3, 4, 5, 7, 8, 1, 2, 3, 4, 5, 6, 7, 8, 1, 2, 3, 4, 5, 6, 7, 8, 1, 2, 3, 4, 5, 6, 7, 8, 1, 3, 4, 7, 8, 8, 1, 2, 3, 4, 5, 6, 7, 8, 2, 6, 1, 2, 3, 4, 5, 6, 7, 8, 2, 3, 5, 8, 1, 2, 3, 4, 5, 6, 7, 8, 1, 2, 3, 4, 5, 6, 7, 8, 5, 4], \"Freq\": [0.9373831152915955, 0.9128637313842773, 0.9522312879562378, 0.9442217350006104, 0.43953466415405273, 0.10946265608072281, 0.15535277128219604, 0.06441456079483032, 0.0913592204451561, 0.07493981719017029, 0.026944654062390327, 0.038311928510665894, 0.3577474057674408, 0.17543382942676544, 0.15273062884807587, 0.07705328613519669, 0.10113243758678436, 0.09287673234939575, 0.025455104187130928, 0.01788737066090107, 0.9396581053733826, 0.9145166873931885, 0.09966684877872467, 0.7973347902297974, 0.08542872965335846, 0.01423812098801136, 0.4188315272331238, 0.0026677167043089867, 0.0026677167043089867, 0.4508441388607025, 0.040015753358602524, 0.08269921690225601, 0.12350346893072128, 0.8233564496040344, 0.9416382312774658, 0.03487548977136612, 0.21865971386432648, 0.09801986813545227, 0.21991637349128723, 0.09801986813545227, 0.04523994028568268, 0.1972964107990265, 0.10430319607257843, 0.016336645931005478, 0.09712853282690048, 0.32376179099082947, 0.06475235521793365, 0.08633647859096527, 0.41009825468063354, 0.023102864623069763, 0.023102864623069763, 0.09241145849227905, 0.8317031264305115, 0.1911340057849884, 0.22097648680210114, 0.04334265738725662, 0.1833181232213974, 0.15702831745147705, 0.08597477525472641, 0.0312635563313961, 0.08668531477451324, 0.859104573726654, 0.9936511516571045, 0.32962560653686523, 0.20352016389369965, 0.080567367374897, 0.12820719182491302, 0.1261054426431656, 0.06340301036834717, 0.0315263606607914, 0.03678075224161148, 0.24372248351573944, 0.19895713031291962, 0.17242951691150665, 0.2039310485124588, 0.07460892200469971, 0.025698628276586533, 0.012434820644557476, 0.06797701865434647, 0.9474678635597229, 0.05460972711443901, 0.09556702524423599, 0.013652431778609753, 0.819145917892456, 0.131728395819664, 0.8430616855621338, 0.9811767339706421, 0.031702812761068344, 0.07925703376531601, 0.09510844200849533, 0.015851406380534172, 0.7608675360679626, 0.29074162244796753, 0.014909826219081879, 0.13325656950473785, 0.13791589438915253, 0.008386777713894844, 0.17425858974456787, 0.17891791462898254, 0.061503034085035324, 0.05789170786738396, 0.11578341573476791, 0.8104839324951172, 0.2264356166124344, 0.016773009672760963, 0.06289878487586975, 0.18869635462760925, 0.016773009672760963, 0.08805830031633377, 0.3564264476299286, 0.041932523250579834, 0.058324865996837616, 0.01590678282082081, 0.6839916110038757, 0.07953391224145889, 0.01590678282082081, 0.04241808503866196, 0.02120904251933098, 0.07953391224145889, 0.33102425932884216, 0.14530353248119354, 0.15770144760608673, 0.08480171859264374, 0.10587817430496216, 0.06868443638086319, 0.04562431946396828, 0.06099772825837135, 0.4552207589149475, 0.047418829053640366, 0.04267694801092148, 0.44573700428009033, 0.0047418829053640366, 0.03433087840676308, 0.4520232379436493, 0.5035195350646973, 0.005721813067793846, 0.005721813067793846, 0.8448321223258972, 0.010129881091415882, 0.04457147791981697, 0.09927283972501755, 0.002025976311415434, 0.29763758182525635, 0.01808847114443779, 0.04768778756260872, 0.17924031615257263, 0.0032888129353523254, 0.16444064676761627, 0.2828379273414612, 0.008222032338380814, 0.2246135175228119, 0.01727796345949173, 0.7256744503974915, 0.03455592691898346, 0.9505929350852966, 0.8813574910163879, 0.281678706407547, 0.11267148703336716, 0.5971588492393494, 0.913124144077301, 0.8531695008277893, 0.9599827527999878, 0.8412317037582397, 0.08137702196836472, 0.8951472640037537, 0.8967985510826111, 0.0914781391620636, 0.030492713674902916, 0.8537960052490234, 0.030492713674902916, 0.9507672190666199, 0.014471814036369324, 0.9406679272651672, 0.04341544210910797, 0.9221775531768799, 0.9339030385017395, 0.9002156257629395, 0.07716134190559387, 0.042897745966911316, 0.9437503814697266, 0.9137144088745117, 0.16678330302238464, 0.10006997734308243, 0.10006997734308243, 0.6004198789596558, 0.9580734372138977, 0.3171239197254181, 0.02882944792509079, 0.6342478394508362, 0.8193907141685486, 0.9490554332733154, 0.006877213250845671, 0.027508853003382683, 0.006877213250845671, 0.9523409008979797, 0.047462671995162964, 0.15029846131801605, 0.6091042757034302, 0.055373117327690125, 0.07119400799274445, 0.03164178133010864, 0.03164178133010864, 0.9185330867767334, 0.17155928909778595, 0.008169489912688732, 0.008169489912688732, 0.02450847066938877, 0.6862371563911438, 0.08986438810825348, 0.016338979825377464, 0.5562410354614258, 0.0014833094319328666, 0.016316404566168785, 0.02521626092493534, 0.37379398941993713, 0.010383166372776031, 0.01483309455215931, 0.2837153673171997, 0.07667982578277588, 0.00766798248514533, 0.6287745833396912, 0.07097557187080383, 0.851706862449646, 0.09401204437017441, 0.4846843183040619, 0.16504336893558502, 0.060585539788007736, 0.056407224386930466, 0.031337346881628036, 0.037604816257953644, 0.07103132456541061, 0.9213770627975464, 0.04606885090470314, 0.05717801675200462, 0.6824233531951904, 0.01336628943681717, 0.05049487203359604, 0.06980173289775848, 0.0237622931599617, 0.031930580735206604, 0.07054430991411209, 0.9540280699729919, 0.1326528787612915, 0.1326528787612915, 0.7295908331871033, 0.0026573361828923225, 0.8609769344329834, 0.03454536944627762, 0.006643340457230806, 0.03188803419470787, 0.007972008548676968, 0.02524469420313835, 0.030559366568922997, 0.04537796601653099, 0.5940388441085815, 0.11138227581977844, 0.04537796601653099, 0.07012958079576492, 0.008250539191067219, 0.07012958079576492, 0.053628504276275635, 0.06947485357522964, 0.45390236377716064, 0.07565039396286011, 0.0849137082695961, 0.15284468233585358, 0.026246055960655212, 0.007719428278505802, 0.12814250588417053, 0.8833686709403992, 0.019625069573521614, 0.03925013914704323, 0.07850027829408646, 0.8438779711723328, 0.23324385285377502, 0.733052134513855, 0.9417824745178223, 0.9538291096687317, 0.08700636774301529, 0.021751591935753822, 0.7884951829910278, 0.09788215905427933, 0.9124254584312439, 0.033381421118974686, 0.033381421118974686, 0.9552001953125, 0.023297565057873726, 0.07545249909162521, 0.8299775123596191, 0.07545249909162521, 0.09485151618719101, 0.8536636233329773, 0.904129683971405, 0.9765541553497314, 0.948936939239502, 0.8847054839134216, 0.05348466709256172, 0.5430750846862793, 0.03291364014148712, 0.1789679229259491, 0.05759887024760246, 0.03908494859933853, 0.010285512544214725, 0.08434120565652847, 0.17698189616203308, 0.3944777250289917, 0.10235098004341125, 0.15032799541950226, 0.03305083513259888, 0.0479770191013813, 0.07569707930088043, 0.0181246530264616, 0.7958488464355469, 0.005860448349267244, 0.009376716800034046, 0.014065075665712357, 0.0011720896000042558, 0.13596239686012268, 0.037506867200136185, 0.057673268020153046, 0.9227722883224487, 0.839529275894165, 0.0014074253849685192, 0.014074254781007767, 0.08233439177274704, 0.0007037126924842596, 0.059815581887960434, 0.002111138077452779, 0.3137064278125763, 0.04481520131230354, 0.09859344363212585, 0.5377824306488037, 0.9226334095001221, 0.45990508794784546, 0.012346445582807064, 0.015433056280016899, 0.04629917070269585, 0.08951172977685928, 0.373479962348938, 0.006173222791403532, 0.3463538587093353, 0.0129478070884943, 0.04531732574105263, 0.21687577664852142, 0.00647390354424715, 0.28808870911598206, 0.0517912283539772, 0.02913256734609604, 0.8533461093902588, 0.0756780356168747, 0.8324583768844604, 0.9186352491378784, 0.9731692671775818, 0.015447131358087063, 0.06093522906303406, 0.8530932068824768, 0.17034178972244263, 0.1455237865447998, 0.36437350511550903, 0.06091693043708801, 0.12973050773143768, 0.06881356984376907, 0.028202282264828682, 0.03158655762672424, 0.9544216990470886, 0.1290142834186554, 0.8385928869247437, 0.9439149498939514, 0.12697608768939972, 0.060313645750284195, 0.6078980565071106, 0.05079043656587601, 0.004761603660881519, 0.1111040785908699, 0.006348804570734501, 0.03333122283220291, 0.03354204446077347, 0.16771022975444794, 0.03354204446077347, 0.7714670300483704, 0.9446759223937988, 0.04820794239640236, 0.054233938455581665, 0.162701815366745, 0.006025992799550295, 0.6628592014312744, 0.01205198559910059, 0.018077978864312172, 0.036155957728624344, 0.3822060823440552, 0.16143348813056946, 0.1202329620718956, 0.149513840675354, 0.0803280621767044, 0.06478068977594376, 0.013992629945278168, 0.027207890525460243, 0.8770644664764404, 0.0024791068863123655, 0.8057097792625427, 0.03966571018099785, 0.03966571018099785, 0.05206124484539032, 0.009916427545249462, 0.01735374890267849, 0.032228391617536545, 0.9217209219932556, 0.042590510100126266, 0.8518102169036865, 0.06388576328754425, 0.021295255050063133, 0.021295255050063133, 0.9538841843605042, 0.9282197952270508, 0.7766501307487488, 0.007467789575457573, 0.04480673745274544, 0.0970812663435936, 0.014935579150915146, 0.029871158301830292, 0.02240336872637272, 0.828813374042511, 0.018509479239583015, 0.004113217815756798, 0.05141521990299225, 0.002056608907878399, 0.08226435631513596, 0.008226435631513596, 0.004113217815756798, 0.28972533345222473, 0.11223594099283218, 0.25318339467048645, 0.007830413989722729, 0.02871151827275753, 0.04698248580098152, 0.22447188198566437, 0.03915207087993622, 0.8793250322341919, 0.2785378694534302, 0.2906482219696045, 0.09047138690948486, 0.10186935216188431, 0.108280710875988, 0.04844136908650398, 0.044167131185531616, 0.038468148559331894, 0.7124460935592651, 0.25907132029533386, 0.9896849989891052, 0.0059980908408761024, 0.5010409355163574, 0.011011888273060322, 0.0036706295795738697, 0.03854161128401756, 0.011011888273060322, 0.23859092593193054, 0.1963786780834198, 0.9205255508422852, 0.958736002445221, 0.015463483519852161, 0.015463483519852161, 0.9636175036430359, 0.969145655632019, 0.06207446753978729, 0.35669657588005066, 0.10283979028463364, 0.20290012657642365, 0.1463845670223236, 0.014823753386735916, 0.03427993133664131, 0.07967767864465714, 0.36945000290870667, 0.11059968173503876, 0.058829616755247116, 0.03059140034019947, 0.3270926773548126, 0.02588503062725067, 0.07059554010629654, 0.007059554103761911, 0.024914510548114777, 0.012457255274057388, 0.08720078319311142, 0.7598925828933716, 0.0996580421924591, 0.1593082994222641, 0.30120232701301575, 0.16833792626857758, 0.10706549882888794, 0.15801836550235748, 0.024508969858288765, 0.034828536212444305, 0.04643804952502251, 0.947155773639679, 0.7870082259178162, 0.04562366381287575, 0.06843549758195877, 0.0912473276257515, 0.8835393190383911, 0.9190592169761658, 0.9440488219261169, 0.7881878018379211, 0.0008018187363632023, 0.032072748988866806, 0.10183098167181015, 0.0016036374727264047, 0.05773095041513443, 0.01042364351451397, 0.008018187247216702, 0.15809249877929688, 0.10539499670267105, 0.026348749175667763, 0.4426589906215668, 0.1106647476553917, 0.08431600034236908, 0.031618498265743256, 0.04215800017118454, 0.1849573403596878, 0.06377839297056198, 0.012755678966641426, 0.5995169281959534, 0.03826703876256943, 0.019133519381284714, 0.082911916077137, 0.9314172267913818, 0.0983111783862114, 0.8848006129264832, 0.8287414908409119, 0.05073927342891693, 0.016913091763854027, 0.08456545323133469, 0.9409339427947998, 0.9562572836875916, 0.025164665654301643, 0.9528566002845764, 0.8320279121398926, 0.012520255520939827, 0.005691025406122208, 0.10016204416751862, 0.0034146152902394533, 0.03528435900807381, 0.006829230580478907, 0.0034146152902394533, 0.8494393229484558, 0.9086116552352905, 0.1601465791463852, 0.30996111035346985, 0.15055254101753235, 0.06568223983049393, 0.1926186978816986, 0.04575616493821144, 0.02656809613108635, 0.05018417909741402, 0.3263317048549652, 0.031079210340976715, 0.04661881551146507, 0.015539605170488358, 0.06215842068195343, 0.5050371885299683, 0.02982858568429947, 0.7571871876716614, 0.05047914385795593, 0.0022945066448301077, 0.1514374315738678, 0.004589013289660215, 0.006883519701659679, 0.9010341167449951, 0.9136730432510376, 0.1074456200003624, 0.009343097917735577, 0.7474477887153625, 0.13547492027282715, 0.26944586634635925, 0.04686015099287033, 0.5037466287612915, 0.08200526237487793, 0.029287593439221382, 0.06443271040916443, 0.9248213171958923, 0.9007294178009033, 0.34128114581108093, 0.022305956110358238, 0.17101232707500458, 0.252800852060318, 0.006691786926239729, 0.0974026769399643, 0.0691484659910202, 0.039407189935445786, 0.9489785432815552, 0.03514735400676727, 0.675166130065918, 0.006010380573570728, 0.010685121640563011, 0.10885467380285263, 0.02070242166519165, 0.1389065831899643, 0.016027681529521942, 0.024041522294282913, 0.8844772577285767, 0.8972461223602295, 0.8991696834564209, 0.9430459141731262, 0.006883546710014343, 0.0022945154923945665, 0.011472578160464764, 0.0022945154923945665, 0.025239670649170876, 0.006883546710014343, 0.978352963924408, 0.8533440828323364, 0.0076538617722690105, 0.7194629907608032, 0.022961584851145744, 0.0076538617722690105, 0.18369267880916595, 0.022961584851145744, 0.03826930746436119, 0.8968513011932373, 0.06898856163024902, 0.045992374420166016, 0.09185826778411865, 0.045929133892059326, 0.8420341610908508, 0.9477280378341675, 0.8870441317558289, 0.9183763861656189, 0.2994128167629242, 0.28227290511131287, 0.1339055597782135, 0.0803433284163475, 0.06320342421531677, 0.05624033138155937, 0.04284977540373802, 0.04231415316462517, 0.21233901381492615, 0.7219526171684265, 0.21932783722877502, 0.12279520183801651, 0.1277637928724289, 0.1646733283996582, 0.17461051046848297, 0.07097988575696945, 0.048976119607686996, 0.07097988575696945, 0.959572434425354, 0.9650503396987915, 0.016755226999521255, 0.9215375185012817, 0.050265684723854065, 0.014957716688513756, 0.16453488171100616, 0.04487314820289612, 0.7628435492515564, 0.05758034810423851, 0.8924953937530518, 0.07642004638910294, 0.66230708360672, 0.10189339518547058, 0.07642004638910294, 0.012736674398183823, 0.07642004638910294, 0.31518831849098206, 0.15265530347824097, 0.09967493265867233, 0.05028645321726799, 0.21281945705413818, 0.04938847944140434, 0.048490509390830994, 0.07183779031038284, 0.9276589751243591, 0.9366130232810974, 0.2781205177307129, 0.2711832821369171, 0.09838276356458664, 0.11793319135904312, 0.07378707826137543, 0.05738994851708412, 0.08703090995550156, 0.017027786001563072, 0.20569536089897156, 0.034282561391592026, 0.7199337482452393, 0.03271595016121864, 0.46347594261169434, 0.010905316099524498, 0.09542151540517807, 0.33261215686798096, 0.0027263290248811245, 0.03271595016121864, 0.03271595016121864, 0.7554680109024048, 0.0013230612967163324, 0.025138163939118385, 0.0410148985683918, 0.00529224518686533, 0.1402444988489151, 0.017199797555804253, 0.013230613432824612, 0.06649105250835419, 0.2770460546016693, 0.5245405435562134, 0.0073878951370716095, 0.0406334213912487, 0.011081842705607414, 0.033245526254177094, 0.03693947568535805, 0.5796009302139282, 0.004053153097629547, 0.053298965096473694, 0.26487356424331665, 0.0052690994925796986, 0.07964446395635605, 0.007295676041394472, 0.005877072457224131, 0.8753631114959717, 0.002040473511442542, 0.03978923335671425, 0.026526154950261116, 0.00510118342936039, 0.041829705238342285, 0.001020236755721271, 0.0071416571736335754, 0.7638278007507324, 0.000874945952091366, 0.005249675828963518, 0.09099438041448593, 0.1347416788339615, 0.002624837914481759, 0.001749891904182732, 0.24477379024028778, 0.08159126341342926, 0.2237931787967682, 0.020980609580874443, 0.041961219161748886, 0.11889012902975082, 0.24244260787963867, 0.027974147349596024, 0.8125019669532776, 0.11607170850038528, 0.9026544094085693, 0.09107393026351929, 0.055436305701732635, 0.1623491793870926, 0.09107393026351929, 0.0475168339908123, 0.5147656798362732, 0.03563762456178665, 0.9046037197113037, 0.03213069215416908, 0.9425003528594971, 0.021420462056994438, 0.3233969211578369, 0.2237388640642166, 0.14079977571964264, 0.08621732145547867, 0.08736469596624374, 0.07572700083255768, 0.02606188878417015, 0.036716122180223465, 0.8941629528999329, 0.07394980639219284, 0.8134478330612183, 0.2682715654373169, 0.24771636724472046, 0.06219262257218361, 0.14072398841381073, 0.11858762800693512, 0.07062552124261856, 0.051124442368745804, 0.04111037775874138, 0.8942283391952515, 0.94655841588974, 0.31624671816825867, 0.17993660271167755, 0.10336398333311081, 0.1317845582962036, 0.126896932721138, 0.05629806965589523, 0.04706590995192528, 0.0383768193423748, 0.03823811933398247, 0.2294287234544754, 0.1147143617272377, 0.6118099093437195, 0.5140061974525452, 0.06371568888425827, 0.10504034161567688, 0.12084577977657318, 0.045605290681123734, 0.10734529793262482, 0.02041536383330822, 0.02288496494293213, 0.8940353393554688, 0.4904315769672394, 0.0488552525639534, 0.13012409210205078, 0.10264300554990768, 0.07727585732936859, 0.04603667929768562, 0.061538830399513245, 0.043218109756708145, 0.9330919981002808, 0.9370517730712891, 0.9440719485282898, 0.28117355704307556, 0.7029339075088501, 0.9762007594108582, 0.01627001166343689, 0.002895306097343564, 0.026057755574584007, 0.008685918524861336, 0.9467650651931763, 0.002895306097343564, 0.011581224389374256, 0.8772650957107544, 0.10122289508581161, 0.9809533953666687, 0.06984815746545792, 0.8381779193878174, 0.09291341155767441, 0.8671917915344238, 0.42019930481910706, 0.12516574561595917, 0.1242717057466507, 0.08627496659755707, 0.12516574561595917, 0.052301403135061264, 0.01832784153521061, 0.04872523993253708, 0.06875939667224884, 0.8938721418380737, 0.038137245923280716, 0.038137245923280716, 0.038137245923280716, 0.877156674861908, 0.8911327123641968, 0.018565263599157333, 0.03713052719831467, 0.03713052719831467, 0.3314827084541321, 0.007366281934082508, 0.45670950412750244, 0.0220988467335701, 0.13995936512947083, 0.05156397446990013, 0.038561489433050156, 0.350909560918808, 0.561069667339325, 0.0019280745182186365, 0.019280744716525078, 0.023136893287301064, 0.005784223321825266, 0.952001690864563, 0.9415624737739563, 0.9707315564155579, 0.015167680568993092, 0.41990774869918823, 0.1407645344734192, 0.02147255465388298, 0.10974861681461334, 0.023858394473791122, 0.2672140300273895, 0.007157518528401852, 0.011929197236895561, 0.08048588037490845, 0.8048588037490845, 0.40733060240745544, 0.014473676681518555, 0.08477438986301422, 0.01033833995461464, 0.014473676681518555, 0.2853381931781769, 0.002067668130621314, 0.1819547861814499, 0.03277399763464928, 0.8521239161491394, 0.09832199662923813, 0.9648311138153076, 0.9696817398071289, 0.8406847715377808, 0.14275778830051422, 0.949798047542572, 0.48861005902290344, 0.011917319148778915, 0.035751957446336746, 0.035751957446336746, 0.42902347445487976, 0.1459503173828125, 0.036487579345703125, 0.036487579345703125, 0.7662391066551208, 0.9574483633041382, 0.9326594471931458, 0.9254241585731506, 0.933160126209259, 0.9742501974105835, 0.19943828880786896, 0.03988765925168991, 0.7179778218269348, 0.8902912139892578, 0.10794674605131149, 0.8635739684104919, 0.0627937912940979, 0.27210643887519836, 0.10256319493055344, 0.039769403636455536, 0.47723284363746643, 0.006279379595071077, 0.012558759190142155, 0.029303770512342453, 0.15546545386314392, 0.7773272395133972, 0.051821816712617874, 0.9233724474906921, 0.8945862054824829, 0.9291576743125916, 0.05465633422136307, 0.17470063269138336, 0.08618564903736115, 0.1863473504781723, 0.12112577259540558, 0.1048203855752945, 0.08618564903736115, 0.17470063269138336, 0.06522157043218613, 0.9773006439208984, 0.9139765501022339, 0.9235793948173523, 0.2581178843975067, 0.3386317193508148, 0.09590619057416916, 0.05979336425662041, 0.11189055442810059, 0.03552081063389778, 0.03374477103352547, 0.06689752638339996, 0.9012088775634766, 0.07976801693439484, 0.07976801693439484, 0.1329466998577118, 0.6647334694862366, 0.9327470660209656, 0.04663735628128052, 0.014979626052081585, 0.6890628337860107, 0.28461289405822754, 0.8919299840927124, 0.0771259218454361, 0.9062296152114868, 0.9437959790229797, 0.9356333017349243, 0.028402965515851974, 0.05680593103170395, 0.028402965515851974, 0.7952830195426941, 0.05680593103170395, 0.028402965515851974, 0.8973081111907959, 0.5636568069458008, 0.043090902268886566, 0.20363925397396088, 0.044480931013822556, 0.027800580486655235, 0.06602638214826584, 0.02085043489933014, 0.030580639839172363, 0.010932417586445808, 0.14212143421173096, 0.645012617111206, 0.07652692496776581, 0.1311890035867691, 0.9575968384742737, 0.018899938091635704, 0.01259995810687542, 0.25958141684532166, 0.112589530646801, 0.3231736421585083, 0.07610218226909637, 0.10529205948114395, 0.08027216047048569, 0.020849913358688354, 0.02293490432202816, 0.2586567997932434, 0.14862336218357086, 0.21015866100788116, 0.10534007102251053, 0.13715068995952606, 0.04849814996123314, 0.025031303986907005, 0.06622865796089172, 0.9017678499221802, 0.541824996471405, 0.10226497799158096, 0.13814742863178253, 0.030948612838983536, 0.09015465527772903, 0.049786899238824844, 0.032742734998464584, 0.014352980069816113, 0.8271663188934326, 0.003817690769210458, 0.021633580327033997, 0.05726535990834236, 0.008907944895327091, 0.0738086849451065, 0.0012725635897368193, 0.006362817715853453, 0.9185940027236938, 0.8530935049057007, 0.32294249534606934, 0.16062049567699432, 0.0986863225698471, 0.07928935438394547, 0.1333966851234436, 0.10549227893352509, 0.05751030519604683, 0.041856613010168076, 0.3033478856086731, 0.007778150960803032, 0.5678049921989441, 0.023334452882409096, 0.031112603843212128, 0.054447054862976074, 0.05055759847164154, 0.3960345387458801, 0.03370506688952446, 0.31809157133102417, 0.07372983545064926, 0.03370506688952446, 0.03159850090742111, 0.06530356407165527, 0.03448454663157463, 0.9310827851295471, 0.015060788951814175, 0.9789512753486633, 0.5240305662155151, 0.016635891050100327, 0.008317945525050163, 0.41589727997779846, 0.02495383657515049, 0.9825112223625183, 0.12961769104003906, 0.8641179203987122, 0.03390137478709221, 0.027121098712086678, 0.12204494327306747, 0.7729513049125671, 0.04068164899945259, 0.8184854984283447, 0.9284417033195496, 0.14700143039226532, 0.07350071519613266, 0.7717575430870056, 0.7046951651573181, 0.013090312480926514, 0.0087268752977252, 0.15926547348499298, 0.00109085941221565, 0.10581336170434952, 0.00109085941221565, 0.006545156240463257, 0.8533939123153687, 0.0014764601364731789, 0.06201132386922836, 0.01328814122825861, 0.01328814122825861, 0.05462902411818504, 0.0014764601364731789, 0.9308203458786011, 0.016330182552337646, 0.04899054393172264, 0.6870164275169373, 0.0015793481143191457, 0.022900547832250595, 0.1389826387166977, 0.0015793481143191457, 0.13503426313400269, 0.007896740920841694, 0.004738044459372759, 0.09149942547082901, 0.8692445158958435, 0.9468367099761963, 0.30367645621299744, 0.14263591170310974, 0.5475378632545471, 0.9804549217224121, 0.9387941956520081, 0.029549624770879745, 0.797839879989624, 0.029549624770879745, 0.14774812757968903, 0.16115497052669525, 0.21066643297672272, 0.054365530610084534, 0.34366780519485474, 0.10873106122016907, 0.044657398015260696, 0.0203870739787817, 0.05824878066778183, 0.9441595673561096, 0.9268369674682617, 0.36599019169807434, 0.13416995108127594, 0.12781870365142822, 0.07303925603628159, 0.0897112637758255, 0.05716115981340408, 0.09129907190799713, 0.06113068386912346, 0.07605531066656113, 0.8873119950294495, 0.9315688610076904, 0.04299548640847206, 0.02149774320423603, 0.3476226031780243, 0.007811743766069412, 0.12108203023672104, 0.07421156764030457, 0.04687046259641647, 0.007811743766069412, 0.3827754557132721, 0.007811743766069412, 0.9821563363075256, 0.2986300587654114, 0.6399215459823608, 0.06399215757846832, 0.09131628274917603, 0.8218465447425842, 0.06409337371587753, 0.014566675759851933, 0.9118739366531372, 0.0058266702108085155, 0.14338435232639313, 0.35215824842453003, 0.15047478675842285, 0.07799478620290756, 0.12290086597204208, 0.03860347718000412, 0.05829913169145584, 0.05593565106391907, 0.883234441280365, 0.0883234441280365, 0.2200733721256256, 0.3199796974658966, 0.09641309827566147, 0.0985090360045433, 0.11248194426298141, 0.03493228182196617, 0.0461106114089489, 0.07196050137281418, 0.2932993173599243, 0.3639237880706787, 0.10053602606058121, 0.023264534771442413, 0.0872419998049736, 0.03655855357646942, 0.06896272301673889, 0.026588039472699165, 0.3969009816646576, 0.060274362564086914, 0.25986209511756897, 0.04776458814740181, 0.06141161546111107, 0.10405857115983963, 0.042078327387571335, 0.027862677350640297, 0.8956258893013, 0.913647472858429, 0.959197461605072, 0.9594761729240417, 0.9063093662261963, 0.008068036288022995, 0.0026893452741205692, 0.0053786905482411385, 0.07261232286691666, 0.0026893452741205692, 0.9439055919647217, 0.2944900393486023, 0.2097221314907074, 0.1136518120765686, 0.09418658167123795, 0.10297733545303345, 0.06844224780797958, 0.03893045336008072, 0.07723300158977509, 0.15508557856082916, 0.10339038819074631, 0.7237327098846436, 0.00651018600910902, 0.6803144812583923, 0.02604074403643608, 0.03906111791729927, 0.009765279479324818, 0.00651018600910902, 0.22785651683807373, 0.9561583399772644, 0.840664803981781, 0.9187440276145935, 0.4729025065898895, 0.014517581090331078, 0.021313045173883438, 0.23537014424800873, 0.00525104021653533, 0.20757052302360535, 0.009575425647199154, 0.03397731855511665, 0.20158560574054718, 0.13439039885997772, 0.025198200717568398, 0.4871652126312256, 0.06719519942998886, 0.050396401435136795, 0.025198200717568398, 0.9626913666725159, 0.9785091876983643, 0.9157751798629761, 0.9557807445526123, 0.020554425194859505, 0.020554425194859505, 0.86571204662323, 0.05554809793829918, 0.21425694227218628, 0.5739970207214355, 0.03174177184700966, 0.0132257379591465, 0.06348354369401932, 0.026451475918293, 0.02116117998957634, 0.9091707468032837, 0.9183831810951233, 0.04777716100215912, 0.005308573599904776, 0.005308573599904776, 0.021234294399619102, 0.05620807781815529, 0.8993292450904846, 0.006529930979013443, 0.4701550304889679, 0.006529930979013443, 0.01958979293704033, 0.07182923704385757, 0.026119723916053772, 0.026119723916053772, 0.3656761348247528, 0.19849924743175507, 0.4098425507545471, 0.04787334427237511, 0.11442897468805313, 0.08056733757257462, 0.05604684352874756, 0.02802342176437378, 0.06538798660039902, 0.10064702481031418, 0.9058231711387634, 0.019644344225525856, 0.019644344225525856, 0.9625728130340576, 0.02080029435455799, 0.9706804156303406, 0.9326131343841553, 0.23096658289432526, 0.2742291986942291, 0.15421031415462494, 0.09140973538160324, 0.11373882740736008, 0.05093824863433838, 0.04605375975370407, 0.03768034651875496, 0.9689913988113403, 0.15601472556591034, 0.022287819534540176, 0.8023614883422852, 0.03392621502280235, 0.9499340057373047, 0.00935783889144659, 0.8141319751739502, 0.028073515743017197, 0.06550487130880356, 0.04678919538855553, 0.028073515743017197, 0.06473646312952042, 0.906310498714447, 0.9419759511947632, 0.05733766779303551, 0.026344310492277145, 0.777157187461853, 0.02370988018810749, 0.03688203543424606, 0.03424760326743126, 0.010537724010646343, 0.01844101771712303, 0.07639849931001663, 0.12584063410758972, 0.8179641366004944, 0.9581093192100525, 0.05899150297045708, 0.884872555732727, 0.954408586025238, 0.9650775790214539, 0.8756769299507141, 0.0011506923474371433, 0.028767310082912445, 0.0391235426068306, 0.040274232625961304, 0.011506923474371433, 0.00345207704231143, 0.4691084027290344, 0.05283275619149208, 0.1319851279258728, 0.15153130888938904, 0.05438096821308136, 0.04799459129571915, 0.0586385503411293, 0.033480096608400345, 0.9405602812767029, 0.047028012573719025, 0.11871884763240814, 0.07035190612077713, 0.23743769526481628, 0.013190982863307, 0.004396994132548571, 0.14070381224155426, 0.3165836036205292, 0.09673387557268143, 0.03586632013320923, 0.9086134433746338, 0.047821760177612305, 0.07902836799621582, 0.69329434633255, 0.0035921987146139145, 0.20834751427173615, 0.010776596143841743, 0.0035921987146139145, 0.8727576732635498, 0.0019880584441125393, 0.003976116888225079, 0.08946263045072556, 0.003976116888225079, 0.021868642419576645, 0.007952233776450157, 0.900797963142395, 0.07690736651420593, 0.922888457775116, 0.39128378033638, 0.1053013727068901, 0.11796054989099503, 0.1881614625453949, 0.049485888332128525, 0.04430713504552841, 0.04660880193114281, 0.057541731745004654, 0.34601905941963196, 0.05766984447836876, 0.5766984224319458, 0.8990837931632996, 0.9020301103591919, 0.03709516301751137, 0.1112854853272438, 0.8160935640335083, 0.8928115963935852, 0.915885865688324, 0.07045275717973709, 0.4807499051094055, 0.05027955397963524, 0.14658424258232117, 0.11796357482671738, 0.054920744150877, 0.05298691615462303, 0.04447806999087334, 0.052213385701179504, 0.8468811511993408, 0.278206467628479, 0.22582153975963593, 0.09273549169301987, 0.1691891849040985, 0.09839873015880585, 0.038934748619794846, 0.05167702957987785, 0.04459798336029053, 0.9023929834365845, 0.9141023755073547, 0.32397422194480896, 0.008099355734884739, 0.008099355734884739, 0.5588555335998535, 0.0890929102897644, 0.008099355734884739, 0.008099355734884739, 0.8858615159988403, 0.9021205306053162, 0.9271897673606873, 0.8816546201705933, 0.02874421328306198, 0.7856751680374146, 0.05748842656612396, 0.06706982851028442, 0.00958140380680561, 0.0479070208966732, 0.7544904947280884, 0.04066116362810135, 0.1265013962984085, 0.05873279273509979, 0.018071627244353294, 0.9005780816078186, 0.026846077293157578, 0.14765343070030212, 0.7651132345199585, 0.026846077293157578, 0.026846077293157578, 0.6694051623344421, 0.0029359874315559864, 0.07105089724063873, 0.17263606190681458, 0.005871974863111973, 0.036406245082616806, 0.015854332596063614, 0.02524949237704277, 0.06638837605714798, 0.16965918242931366, 0.06638837605714798, 0.5679894089698792, 0.02212945744395256, 0.1106472909450531, 0.8177196979522705, 0.001809114357456565, 0.009045572020113468, 0.06512811779975891, 0.09588306397199631, 0.010854686610400677, 0.3006703555583954, 0.17547008395195007, 0.1498609334230423, 0.10812751203775406, 0.07018803060054779, 0.06260013580322266, 0.10243658721446991, 0.03130006790161133, 0.969965398311615, 0.9703025221824646, 0.793881893157959, 0.13231365382671356, 0.8628536462783813, 0.026097651571035385, 0.011417723260819912, 0.03425316885113716, 0.006524412892758846, 0.008155516348779202, 0.0016311032231897116, 0.050564199686050415, 0.10951297730207443, 0.8761038184165955, 0.0546882189810276, 0.3601008951663971, 0.4736841320991516, 0.017668502405285835, 0.023558001965284348, 0.015144430100917816, 0.007572215050458908, 0.047116003930568695, 0.020221063867211342, 0.060663189738988876, 0.020221063867211342, 0.2628738284111023, 0.18198956549167633, 0.465084433555603, 0.9692187905311584, 0.012567304074764252, 0.3173244297504425, 0.08168747276067734, 0.11938938498497009, 0.20421868562698364, 0.025134608149528503, 0.05026921629905701, 0.1947932094335556, 0.9430477023124695, 0.00906776636838913, 0.033680275082588196, 0.006476975977420807, 0.0051815807819366455, 0.004339289851486683, 0.985018789768219, 0.004339289851486683, 0.13366036117076874, 0.02784590981900692, 0.8298081159591675, 0.9026119112968445, 0.8717622756958008, 0.8027483820915222, 0.004904776345938444, 0.02288895659148693, 0.09646060317754745, 0.02942865900695324, 0.026158807799220085, 0.008174627088010311, 0.009809552691876888, 0.8813564777374268, 0.7881250381469727, 0.0032344392966479063, 0.004312585573643446, 0.06037619709968567, 0.0032344392966479063, 0.1401590257883072, 0.9391113519668579, 0.047751422971487045, 0.007958570495247841, 0.2117673009634018, 0.30406588315963745, 0.06912404298782349, 0.08710429072380066, 0.14703842997550964, 0.06832492351531982, 0.06472887098789215, 0.047547753900289536, 0.9616743922233582, 0.031021755188703537, 0.9319418668746948, 0.006132589653134346, 0.7727063298225403, 0.018397768959403038, 0.006132589653134346, 0.1349169760942459, 0.024530358612537384, 0.03066294826567173, 0.006132589653134346, 0.8947126269340515, 0.9752991199493408, 0.9756489396095276, 0.0177390705794096, 0.41079193353652954, 0.001477668760344386, 0.08570478856563568, 0.28814542293548584, 0.03694171831011772, 0.029553376138210297, 0.0916154682636261, 0.05467374622821808, 0.08997105807065964, 0.8997105956077576, 0.23975642025470734, 0.1943288892507553, 0.1785554438829422, 0.08770037442445755, 0.08580756187438965, 0.03217783570289612, 0.11609258502721786, 0.06561754643917084, 0.5019894242286682, 0.009147870354354382, 0.02286967635154724, 0.3624843657016754, 0.00800438690930605, 0.0891917422413826, 0.00571741908788681, 0.32430583238601685, 0.14702221751213074, 0.12077780812978745, 0.25414222478866577, 0.08462480455636978, 0.017674801871180534, 0.022495202720165253, 0.02865460328757763, 0.07312817871570587, 0.12797430157661438, 0.018282044678926468, 0.31079474091529846, 0.018282044678926468, 0.4570510983467102, 0.9296656847000122, 0.043024200946092606, 0.10325808078050613, 0.6453630328178406, 0.06023388355970383, 0.05162904039025307, 0.043024200946092606, 0.025814520195126534, 0.025814520195126534, 0.10804590582847595, 0.20558734238147736, 0.14256057143211365, 0.03151338919997215, 0.14105993509292603, 0.01800765097141266, 0.2641122043132782, 0.0900382548570633, 0.04876645281910896, 0.1365460604429245, 0.7705099582672119, 0.02925986982882023, 0.009753290563821793, 0.8324612379074097, 0.10692162066698074, 0.05346081033349037, 0.00254575302824378, 0.08072523772716522, 0.9283402562141418, 0.9433404207229614, 0.9691532850265503, 0.9715778231620789, 0.9003403782844543, 0.9248010516166687, 0.148677796125412, 0.8177279233932495, 0.955628514289856, 0.852300226688385, 0.902125895023346, 0.9315750598907471, 0.9480091333389282, 0.005286296363919973, 0.031717777252197266, 0.012334691360592842, 0.04095224663615227, 0.2457134872674942, 0.020476123318076134, 0.6859501600265503, 0.010238061659038067, 0.9682466983795166, 0.8569364547729492, 0.0025889319367706776, 0.005177863873541355, 0.04660077393054962, 0.080256886780262, 0.007766795810312033, 0.2999190092086792, 0.18696250021457672, 0.12918588519096375, 0.09542877227067947, 0.07400599122047424, 0.04284557327628136, 0.06686505675315857, 0.10516640543937683, 0.40036633610725403, 0.1494974046945572, 0.037886328995227814, 0.16690462827682495, 0.06348519772291183, 0.04095819219946861, 0.08908406645059586, 0.05119774118065834, 0.05487897992134094, 0.7865986824035645, 0.009146496653556824, 0.018292993307113647, 0.05487897992134094, 0.02743948996067047, 0.04573248326778412, 0.07836374640464783, 0.3226742446422577, 0.4010379910469055, 0.052242498844861984, 0.029194336384534836, 0.033803969621658325, 0.05838867276906967, 0.023048160597682, 0.8944594860076904, 0.006140454206615686, 0.018421363085508347, 0.07777908444404602, 0.00204681814648211, 0.07130265235900879, 0.8556318283081055, 0.07130265235900879, 0.012208311818540096, 0.2722453474998474, 0.4016534686088562, 0.07080820947885513, 0.02563745528459549, 0.04761241748929024, 0.14649973809719086, 0.024416623637080193, 0.42087188363075256, 0.06326831877231598, 0.3906131088733673, 0.005501592997461557, 0.04951433837413788, 0.0275079645216465, 0.02475716918706894, 0.01925557665526867, 0.9115058779716492, 0.053617995232343674, 0.9575179815292358, 0.03139403089880943, 0.9347638487815857, 0.9282707571983337, 0.007181978784501553, 0.0035909893922507763, 0.0017954946961253881, 0.0035909893922507763, 0.05566033348441124, 0.9383575916290283, 0.8167258501052856, 0.4716853201389313, 0.0053398339077830315, 0.08988720178604126, 0.30081063508987427, 0.010679667815566063, 0.0836573913693428, 0.013349584303796291, 0.02402925118803978, 0.8924375772476196, 0.12351991981267929, 0.0082346610724926, 0.0041173305362463, 0.01029332634061575, 0.8543460965156555, 0.9323517680168152, 0.1803758144378662, 0.29873478412628174, 0.12160167098045349, 0.11430557072162628, 0.11998032033443451, 0.09971337020397186, 0.026752367615699768, 0.03891253471374512, 0.900693416595459, 0.1482219249010086, 0.8337483406066895, 0.238650381565094, 0.0596625953912735, 0.0397750623524189, 0.08949389308691025, 0.16904401779174805, 0.3977506458759308, 0.8413819670677185, 0.7481730580329895, 0.00172788230702281, 0.08466623723506927, 0.05183647200465202, 0.00172788230702281, 0.09589747339487076, 0.000863941153511405, 0.015550941228866577, 0.9466710090637207, 0.4793758988380432, 0.016435746103525162, 0.3999364674091339, 0.002739290939643979, 0.019175035879015923, 0.043828655034303665, 0.038350071758031845, 0.9768653512001038, 0.11751038581132889, 0.44879671931266785, 0.0584232397377491, 0.10887967795133591, 0.12016598135232925, 0.03917012736201286, 0.025892117992043495, 0.08099585771560669, 0.9038558006286621, 0.07230846583843231, 0.9645728468894958, 0.027559224516153336, 0.15282243490219116, 0.34342119097709656, 0.09272371977567673, 0.06525002419948578, 0.14080268144607544, 0.015453953295946121, 0.06353291869163513, 0.12706583738327026, 0.8766980767250061, 0.8538335561752319, 0.918782651424408, 0.9451345801353455, 0.9609305262565613, 0.32375794649124146, 0.22484496235847473, 0.08834034204483032, 0.11911848932504654, 0.14566758275032043, 0.05051375925540924, 0.019265713170170784, 0.02842867374420166, 0.7431890964508057, 0.006756264250725508, 0.18241913616657257, 0.06756263971328735, 0.9350622892379761, 0.9761461615562439, 0.014569345861673355, 0.9276719093322754, 0.89532870054245, 0.03730536252260208, 0.06062121316790581, 0.21373862028121948, 0.142492413520813, 0.6174671053886414, 0.473781019449234, 0.015040666796267033, 0.007520333398133516, 0.48130133748054504, 0.022561000660061836, 0.23719748854637146, 0.7394980788230896, 0.9465656876564026, 0.040833480656147, 0.9391700625419617, 0.028426039963960648, 0.7769784331321716, 0.0758027732372284, 0.10422881692647934, 0.5733091831207275, 0.13362844288349152, 0.054078374058008194, 0.07994194328784943, 0.0391872301697731, 0.07719884067773819, 0.02037735842168331, 0.022336719557642937, 0.8841291069984436, 0.9545567631721497, 0.10128381103277206, 0.055245716124773026, 0.2301904857158661, 0.1565295308828354, 0.3867200016975403, 0.055245716124773026, 0.9171655774116516, 0.9694790840148926, 0.9139744639396667, 0.8963863849639893, 0.03090987540781498, 0.008831392973661423, 0.052988357841968536, 0.008831392973661423, 0.8969727754592896, 0.009343466721475124, 0.01868693344295025, 0.0280303992331028, 0.046717334538698196, 0.987864077091217, 0.8837354779243469, 0.06748554110527039, 0.8098264932632446, 0.220818430185318, 0.10924701392650604, 0.11738242954015732, 0.22895385324954987, 0.09065178036689758, 0.10808481276035309, 0.06624552607536316, 0.059272315353155136, 0.9281692504882812, 0.2907649278640747, 0.11108555644750595, 0.07891323417425156, 0.30533352494239807, 0.14750704169273376, 0.03642149269580841, 0.014568597078323364, 0.015175621956586838, 0.5152856111526489, 0.008783277124166489, 0.3747531473636627, 0.035133108496665955, 0.049771904945373535, 0.014638795517385006, 0.4779762029647827, 0.014674708247184753, 0.3102652430534363, 0.0041927737183868885, 0.14465069770812988, 0.029349416494369507, 0.018867481499910355, 0.8967945575714111, 0.21132539212703705, 0.17962658405303955, 0.1854967325925827, 0.10096657276153564, 0.09157433360815048, 0.05400537699460983, 0.10918478667736053, 0.06809373944997787, 0.27167433500289917, 0.187859907746315, 0.1075136661529541, 0.14797580242156982, 0.1346811056137085, 0.0647394135594368, 0.016762884333729744, 0.06936366111040115, 0.874697208404541, 0.9809896349906921, 0.9275128841400146, 0.2321529984474182, 0.10156693309545517, 0.12333127856254578, 0.11970388889312744, 0.1269586682319641, 0.2611721158027649, 0.03264651447534561, 0.3418370485305786, 0.1704745888710022, 0.12341649830341339, 0.09677984565496445, 0.051497530192136765, 0.08878884464502335, 0.08079785108566284, 0.046170201152563095, 0.13042570650577545, 0.4307081401348114, 0.09402783215045929, 0.051563650369644165, 0.20170487463474274, 0.03336471691727638, 0.01971551403403282, 0.03943102806806564, 0.4537328779697418, 0.13174375891685486, 0.1331256777048111, 0.08337629586458206, 0.05343453213572502, 0.07416344434022903, 0.034548189491033554, 0.0363907590508461, 0.13045230507850647, 0.7640777826309204, 0.01863604411482811, 0.07454417645931244, 0.81806480884552, 0.9301614165306091, 0.5593956112861633, 0.006080387160181999, 0.06080387160181999, 0.3344212770462036, 0.004053591284900904, 0.012160774320363998, 0.016214365139603615, 0.010133977979421616, 0.9676694273948669, 0.9008638858795166, 0.10256432741880417, 0.3737747073173523, 0.09292741119861603, 0.0660817101597786, 0.15006056427955627, 0.04198942333459854, 0.0805370882153511, 0.09223905950784683, 0.144856259226799, 0.3311000168323517, 0.06208125129342079, 0.45526251196861267, 0.27714958786964417, 0.24127155542373657, 0.08294738084077835, 0.14812032878398895, 0.08228906989097595, 0.07011028379201889, 0.03949875384569168, 0.058589816093444824, 0.09739598631858826, 0.3621913194656372, 0.13290493190288544, 0.0842069461941719, 0.18160292506217957, 0.026378078386187553, 0.05072707310318947, 0.062901571393013, 0.9631021618843079, 0.9328505992889404], \"Term\": [\"acetone\", \"ache\", \"acrylic\", \"aldi\", \"also\", \"also\", \"also\", \"also\", \"also\", \"also\", \"also\", \"also\", \"always\", \"always\", \"always\", \"always\", \"always\", \"always\", \"always\", \"always\", \"amazon\", \"angle\", \"animal\", \"animal\", \"animal\", \"animal\", \"appointment\", \"appointment\", \"appointment\", \"appointment\", \"appointment\", \"appointment\", \"appt\", \"appt\", \"april\", \"april\", \"area\", \"area\", \"area\", \"area\", \"area\", \"area\", \"area\", \"area\", \"art\", \"art\", \"art\", \"art\", \"art\", \"asada\", \"asada\", \"asada\", \"asada\", \"ask\", \"ask\", \"ask\", \"ask\", \"ask\", \"ask\", \"ask\", \"ask\", \"austin\", \"ayce\", \"back\", \"back\", \"back\", \"back\", \"back\", \"back\", \"back\", \"back\", \"bad\", \"bad\", \"bad\", \"bad\", \"bad\", \"bad\", \"bad\", \"bad\", \"bady\", \"bagel\", \"bagel\", \"bagel\", \"bagel\", \"balloon\", \"balloon\", \"balsamic\", \"band\", \"band\", \"band\", \"band\", \"band\", \"bar\", \"bar\", \"bar\", \"bar\", \"bar\", \"bar\", \"bar\", \"bar\", \"barber\", \"barber\", \"barber\", \"bartender\", \"bartender\", \"bartender\", \"bartender\", \"bartender\", \"bartender\", \"bartender\", \"bartender\", \"bathroom\", \"bathroom\", \"bathroom\", \"bathroom\", \"bathroom\", \"bathroom\", \"bathroom\", \"bathroom\", \"be\", \"be\", \"be\", \"be\", \"be\", \"be\", \"be\", \"be\", \"bean\", \"bean\", \"bean\", \"bean\", \"bean\", \"bed\", \"bed\", \"bed\", \"bed\", \"bed\", \"beef\", \"beef\", \"beef\", \"beef\", \"beef\", \"beer\", \"beer\", \"beer\", \"beer\", \"beer\", \"beer\", \"beer\", \"beer\", \"bellagio\", \"bellagio\", \"bellagio\", \"bellagio\", \"berman\", \"bible\", \"bike\", \"bike\", \"bike\", \"bikini\", \"bingsu\", \"biryani\", \"bi\\u00e8re\", \"blind\", \"blind\", \"bliss\", \"blonde\", \"blonde\", \"blonde\", \"blonde\", \"blt\", \"boba\", \"boba\", \"boba\", \"bodyflo\", \"booty\", \"bouncer\", \"bouncer\", \"bowling\", \"bowling\", \"bracelet\", \"brake\", \"brake\", \"brake\", \"brake\", \"breakdown\", \"brisket\", \"brisket\", \"brisket\", \"broad\", \"broth\", \"broth\", \"broth\", \"broth\", \"buca\", \"building\", \"building\", \"building\", \"building\", \"building\", \"building\", \"building\", \"bullshit\", \"bun\", \"bun\", \"bun\", \"bun\", \"bun\", \"bun\", \"bun\", \"burger\", \"burger\", \"burger\", \"burger\", \"burger\", \"burger\", \"burger\", \"burrito\", \"burrito\", \"burrito\", \"burrito\", \"burro\", \"burro\", \"buy\", \"buy\", \"buy\", \"buy\", \"buy\", \"buy\", \"buy\", \"buy\", \"cable\", \"cable\", \"call\", \"call\", \"call\", \"call\", \"call\", \"call\", \"call\", \"call\", \"callus\", \"canal\", \"canal\", \"canal\", \"car\", \"car\", \"car\", \"car\", \"car\", \"car\", \"car\", \"car\", \"card\", \"card\", \"card\", \"card\", \"card\", \"card\", \"card\", \"card\", \"care\", \"care\", \"care\", \"care\", \"care\", \"care\", \"care\", \"care\", \"carl\", \"carne\", \"carne\", \"carne\", \"carne\", \"carnita\", \"carnita\", \"carson\", \"cartridge\", \"casino\", \"casino\", \"casino\", \"casino\", \"cat\", \"cat\", \"cat\", \"cauliflower\", \"cauliflower\", \"cave\", \"cave\", \"cave\", \"celebrity\", \"celebrity\", \"ceremony\", \"ceviche\", \"champaign\", \"chapel\", \"charge\", \"charge\", \"charge\", \"charge\", \"charge\", \"charge\", \"charge\", \"charge\", \"check\", \"check\", \"check\", \"check\", \"check\", \"check\", \"check\", \"check\", \"cheese\", \"cheese\", \"cheese\", \"cheese\", \"cheese\", \"cheese\", \"cheese\", \"cheesetart\", \"cheesetart\", \"chicken\", \"chicken\", \"chicken\", \"chicken\", \"chicken\", \"chicken\", \"chicken\", \"chili\", \"chili\", \"chili\", \"chili\", \"chin\", \"chip\", \"chip\", \"chip\", \"chip\", \"chip\", \"chip\", \"chip\", \"chocolate\", \"chocolate\", \"chocolate\", \"chocolate\", \"chocolate\", \"chocolate\", \"chocolate\", \"chocolate\", \"christensen\", \"churro\", \"churro\", \"cirque\", \"clam\", \"clam\", \"clay\", \"clay\", \"clean\", \"clean\", \"clean\", \"clean\", \"clean\", \"clean\", \"clean\", \"clean\", \"clearance\", \"coach\", \"coach\", \"coca\", \"coffee\", \"coffee\", \"coffee\", \"coffee\", \"coffee\", \"coffee\", \"coffee\", \"coffee\", \"coke\", \"coke\", \"coke\", \"coke\", \"cola\", \"color\", \"color\", \"color\", \"color\", \"color\", \"color\", \"color\", \"color\", \"come\", \"come\", \"come\", \"come\", \"come\", \"come\", \"come\", \"come\", \"comic\", \"company\", \"company\", \"company\", \"company\", \"company\", \"company\", \"company\", \"company\", \"concierge\", \"confirm\", \"confirm\", \"confirm\", \"confirm\", \"confirm\", \"conservatory\", \"consult\", \"contact\", \"contact\", \"contact\", \"contact\", \"contact\", \"contact\", \"contact\", \"cook\", \"cook\", \"cook\", \"cook\", \"cook\", \"cook\", \"cook\", \"cook\", \"cool\", \"cool\", \"cool\", \"cool\", \"cool\", \"cool\", \"cool\", \"cool\", \"copa\", \"could\", \"could\", \"could\", \"could\", \"could\", \"could\", \"could\", \"could\", \"cox\", \"cox\", \"crab\", \"crab\", \"cream\", \"cream\", \"cream\", \"cream\", \"cream\", \"cream\", \"cream\", \"crossfit\", \"crunchy\", \"crunchy\", \"crunchy\", \"cucumber\", \"curl\", \"customer\", \"customer\", \"customer\", \"customer\", \"customer\", \"customer\", \"customer\", \"customer\", \"cut\", \"cut\", \"cut\", \"cut\", \"cut\", \"cut\", \"cut\", \"cut\", \"dance\", \"dance\", \"dance\", \"dance\", \"dance\", \"day\", \"day\", \"day\", \"day\", \"day\", \"day\", \"day\", \"day\", \"daytime\", \"dealership\", \"dealership\", \"dealership\", \"dealership\", \"deanna\", \"defeat\", \"defiantly\", \"delicious\", \"delicious\", \"delicious\", \"delicious\", \"delicious\", \"delicious\", \"delicious\", \"delicious\", \"deliver\", \"deliver\", \"deliver\", \"deliver\", \"deliver\", \"deliver\", \"deliver\", \"deliver\", \"delivery\", \"delivery\", \"delivery\", \"delivery\", \"delivery\", \"delivery\", \"delivery\", \"delysee\", \"dental\", \"dental\", \"dentist\", \"dentist\", \"dentist\", \"dentist\", \"denture\", \"deposit\", \"deposit\", \"dillard\", \"dish\", \"dish\", \"dish\", \"dish\", \"dish\", \"dish\", \"dish\", \"dish\", \"disposal\", \"disrespect\", \"do\", \"do\", \"do\", \"do\", \"do\", \"do\", \"do\", \"do\", \"doctor\", \"doctor\", \"doctor\", \"doctor\", \"doctor\", \"doctor\", \"dog\", \"dog\", \"dog\", \"dog\", \"dog\", \"dog\", \"dog\", \"donair\", \"donation\", \"donut\", \"donut\", \"donut\", \"donut\", \"downtown\", \"downtown\", \"downtown\", \"downtown\", \"downtown\", \"downtown\", \"draught\", \"dreamy\", \"drink\", \"drink\", \"drink\", \"drink\", \"drink\", \"drink\", \"drink\", \"drink\", \"dunkin\", \"dunkin\", \"eat\", \"eat\", \"eat\", \"eat\", \"eat\", \"eat\", \"eat\", \"eat\", \"eclair\", \"ecstatic\", \"ed\", \"egg\", \"egg\", \"egg\", \"egg\", \"egg\", \"egg\", \"egg\", \"eggplant\", \"el\", \"email\", \"email\", \"email\", \"email\", \"email\", \"email\", \"email\", \"emergency\", \"emergency\", \"emergency\", \"enchilada\", \"enchilada\", \"enchilada\", \"enforcer\", \"erica\", \"et\", \"even\", \"even\", \"even\", \"even\", \"even\", \"even\", \"even\", \"even\", \"exhibit\", \"exhibit\", \"experience\", \"experience\", \"experience\", \"experience\", \"experience\", \"experience\", \"experience\", \"experience\", \"expose\", \"extension\", \"eyebrow\", \"eyebrow\", \"eyebrow\", \"facial\", \"facial\", \"facial\", \"facial\", \"fajita\", \"fajita\", \"fee\", \"fee\", \"fee\", \"fee\", \"fee\", \"fee\", \"feel\", \"feel\", \"feel\", \"feel\", \"feel\", \"feel\", \"feel\", \"feel\", \"fife\", \"finance\", \"find\", \"find\", \"find\", \"find\", \"find\", \"find\", \"find\", \"find\", \"fitness\", \"fitness\", \"fitness\", \"fix\", \"fix\", \"fix\", \"fix\", \"fix\", \"fix\", \"fix\", \"fix\", \"flavor\", \"flavor\", \"flavor\", \"flavor\", \"flavor\", \"flavor\", \"flavor\", \"flavor\", \"floor\", \"floor\", \"floor\", \"floor\", \"floor\", \"floor\", \"floor\", \"floor\", \"food\", \"food\", \"food\", \"food\", \"food\", \"food\", \"food\", \"food\", \"fresh\", \"fresh\", \"fresh\", \"fresh\", \"fresh\", \"fresh\", \"fresh\", \"fresh\", \"fry\", \"fry\", \"fry\", \"fry\", \"fry\", \"fry\", \"fry\", \"fun\", \"fun\", \"fun\", \"fun\", \"fun\", \"fun\", \"fun\", \"fun\", \"gabe\", \"gabe\", \"gallo\", \"game\", \"game\", \"game\", \"game\", \"game\", \"game\", \"game\", \"gay\", \"gel\", \"gel\", \"gel\", \"get\", \"get\", \"get\", \"get\", \"get\", \"get\", \"get\", \"get\", \"getsum\", \"gf\", \"gf\", \"give\", \"give\", \"give\", \"give\", \"give\", \"give\", \"give\", \"give\", \"glo\", \"gnocchi\", \"go\", \"go\", \"go\", \"go\", \"go\", \"go\", \"go\", \"go\", \"goal\", \"goal\", \"goal\", \"goal\", \"good\", \"good\", \"good\", \"good\", \"good\", \"good\", \"good\", \"good\", \"gratuity\", \"great\", \"great\", \"great\", \"great\", \"great\", \"great\", \"great\", \"great\", \"groomer\", \"grubhub\", \"guac\", \"guacamole\", \"guacamole\", \"gyro\", \"gyro\", \"hair\", \"hair\", \"hair\", \"hair\", \"hair\", \"hair\", \"haircut\", \"haircut\", \"ham\", \"hardware\", \"hardware\", \"harness\", \"harness\", \"have\", \"have\", \"have\", \"have\", \"have\", \"have\", \"have\", \"have\", \"hobby\", \"hobby\", \"hop\", \"hop\", \"hop\", \"hop\", \"hospital\", \"hospital\", \"hospital\", \"hospital\", \"hostess\", \"hostess\", \"hostess\", \"hostess\", \"hostess\", \"hostess\", \"hotel\", \"hotel\", \"hotel\", \"hotel\", \"hotel\", \"hotel\", \"hotel\", \"hotpot\", \"housing\", \"hummus\", \"hummus\", \"husband\", \"husband\", \"husband\", \"husband\", \"husband\", \"husband\", \"husband\", \"husband\", \"ian\", \"ian\", \"ice\", \"ice\", \"ice\", \"ice\", \"ice\", \"ice\", \"ice\", \"ice\", \"iced\", \"iced\", \"iced\", \"ikea\", \"incidental\", \"instal\", \"instal\", \"installer\", \"insurance\", \"insurance\", \"insurance\", \"insurance\", \"insurance\", \"ipa\", \"ipa\", \"ipa\", \"ipa\", \"iphone\", \"ipic\", \"ivan\", \"ivy\", \"jalape\\u00f1o\", \"jar\", \"jar\", \"jar\", \"jenn\", \"jeremy\", \"jeremy\", \"job\", \"job\", \"job\", \"job\", \"job\", \"job\", \"job\", \"job\", \"josh\", \"josh\", \"josh\", \"jumpmaster\", \"kathleen\", \"kevin\", \"kevin\", \"kid\", \"kid\", \"kid\", \"kid\", \"kid\", \"kid\", \"kid\", \"kid\", \"kimchi\", \"kiosk\", \"kira\", \"know\", \"know\", \"know\", \"know\", \"know\", \"know\", \"know\", \"know\", \"krispy\", \"lane\", \"lane\", \"lane\", \"lane\", \"lash\", \"lash\", \"latte\", \"latte\", \"latte\", \"lecture\", \"lee\", \"lee\", \"lense\", \"lewis\", \"liquor\", \"liquor\", \"liquor\", \"liquor\", \"liquor\", \"liquor\", \"litter\", \"little\", \"little\", \"little\", \"little\", \"little\", \"little\", \"little\", \"little\", \"lobby\", \"lobby\", \"lobby\", \"lobby\", \"lobby\", \"lobster\", \"lobster\", \"lobster\", \"location\", \"location\", \"location\", \"location\", \"location\", \"location\", \"location\", \"location\", \"look\", \"look\", \"look\", \"look\", \"look\", \"look\", \"look\", \"look\", \"lopez\", \"love\", \"love\", \"love\", \"love\", \"love\", \"love\", \"love\", \"love\", \"lunch\", \"lunch\", \"lunch\", \"lunch\", \"lunch\", \"lunch\", \"lunch\", \"lunch\", \"magician\", \"maizal\", \"make\", \"make\", \"make\", \"make\", \"make\", \"make\", \"make\", \"make\", \"mall\", \"mall\", \"mall\", \"mall\", \"mall\", \"mall\", \"manager\", \"manager\", \"manager\", \"manager\", \"manager\", \"manager\", \"manager\", \"manager\", \"mani\", \"mani\", \"manicure\", \"manicure\", \"margarita\", \"margarita\", \"margarita\", \"margarita\", \"margarita\", \"martini\", \"masala\", \"masala\", \"massage\", \"massage\", \"massage\", \"massage\", \"massage\", \"matsuda\", \"mattress\", \"mcdonald\", \"mcdonald\", \"mcdonald\", \"meal\", \"meal\", \"meal\", \"meal\", \"meal\", \"meal\", \"meal\", \"meal\", \"meat\", \"meat\", \"meat\", \"meat\", \"meat\", \"meat\", \"meat\", \"mechanic\", \"mechanic\", \"mechanic\", \"menu\", \"menu\", \"menu\", \"menu\", \"menu\", \"menu\", \"menu\", \"menu\", \"menus\", \"menus\", \"method\", \"mexican\", \"mexican\", \"mexican\", \"midwife\", \"mikey\", \"minimal\", \"minimal\", \"minimal\", \"minimal\", \"minute\", \"minute\", \"minute\", \"minute\", \"minute\", \"minute\", \"minute\", \"minute\", \"momofuku\", \"ms\", \"much\", \"much\", \"much\", \"much\", \"much\", \"much\", \"much\", \"much\", \"museum\", \"museum\", \"mushroom\", \"mushroom\", \"mushroom\", \"music\", \"music\", \"music\", \"music\", \"music\", \"music\", \"music\", \"music\", \"mussel\", \"naan\", \"naan\", \"naan\", \"nacho\", \"nacho\", \"nail\", \"nail\", \"nail\", \"nail\", \"need\", \"need\", \"need\", \"need\", \"need\", \"need\", \"need\", \"need\", \"nephew\", \"nephew\", \"never\", \"never\", \"never\", \"never\", \"never\", \"never\", \"never\", \"never\", \"new\", \"new\", \"new\", \"new\", \"new\", \"new\", \"new\", \"new\", \"nice\", \"nice\", \"nice\", \"nice\", \"nice\", \"nice\", \"nice\", \"nice\", \"nicole\", \"nielsen\", \"nissan\", \"noir\", \"noodle\", \"noodle\", \"noodle\", \"noodle\", \"noodle\", \"noodle\", \"nordstrom\", \"not\", \"not\", \"not\", \"not\", \"not\", \"not\", \"not\", \"not\", \"nyc\", \"nyc\", \"nyc\", \"office\", \"office\", \"office\", \"office\", \"office\", \"office\", \"office\", \"omelet\", \"optometrist\", \"oral\", \"order\", \"order\", \"order\", \"order\", \"order\", \"order\", \"order\", \"order\", \"outstanding\", \"outstanding\", \"outstanding\", \"outstanding\", \"outstanding\", \"outstanding\", \"outstanding\", \"overcook\", \"oxtail\", \"oxygen\", \"oyster\", \"oyster\", \"oyster\", \"panang\", \"parking\", \"parking\", \"parking\", \"parking\", \"parking\", \"parking\", \"parking\", \"parking\", \"partake\", \"pasta\", \"pasta\", \"pasta\", \"pasta\", \"pasta\", \"pastor\", \"pastor\", \"patient\", \"patient\", \"patient\", \"patient\", \"patient\", \"patient\", \"patient\", \"patient\", \"pay\", \"pay\", \"pay\", \"pay\", \"pay\", \"pay\", \"pay\", \"pay\", \"pearl\", \"pearl\", \"pedi\", \"pedi\", \"pedi\", \"pedicure\", \"pedicure\", \"pelmeni\", \"people\", \"people\", \"people\", \"people\", \"people\", \"people\", \"people\", \"people\", \"pepperoni\", \"performance\", \"performance\", \"performance\", \"pest\", \"pest\", \"pet\", \"pet\", \"pet\", \"pet\", \"pet\", \"pet\", \"pharmacy\", \"pharmacy\", \"pho\", \"pho\", \"phone\", \"phone\", \"phone\", \"phone\", \"phone\", \"phone\", \"phone\", \"phone\", \"photographer\", \"photographer\", \"picasso\", \"pico\", \"pico\", \"pinball\", \"pinot\", \"pizza\", \"pizza\", \"pizza\", \"pizza\", \"pizza\", \"pizza\", \"pizza\", \"place\", \"place\", \"place\", \"place\", \"place\", \"place\", \"place\", \"place\", \"planet\", \"planet\", \"play\", \"play\", \"play\", \"play\", \"play\", \"play\", \"play\", \"play\", \"polish\", \"polish\", \"polish\", \"pool\", \"pool\", \"pool\", \"pool\", \"pool\", \"pool\", \"portion\", \"portion\", \"portion\", \"portion\", \"portion\", \"portion\", \"portion\", \"prairie\", \"prescription\", \"prescription\", \"price\", \"price\", \"price\", \"price\", \"price\", \"price\", \"price\", \"price\", \"procedure\", \"procedure\", \"procedure\", \"pt\", \"qui\", \"race\", \"race\", \"race\", \"ram\", \"ray\", \"ray\", \"really\", \"really\", \"really\", \"really\", \"really\", \"really\", \"really\", \"really\", \"reccomend\", \"recommend\", \"recommend\", \"recommend\", \"recommend\", \"recommend\", \"recommend\", \"recommend\", \"recommend\", \"reef\", \"reese\", \"refill\", \"refill\", \"refill\", \"refill\", \"refill\", \"refill\", \"refill\", \"reflexology\", \"refried\", \"relleno\", \"renee\", \"rent\", \"rent\", \"rent\", \"rent\", \"rent\", \"rent\", \"repair\", \"repair\", \"repair\", \"repair\", \"repair\", \"residence\", \"resort\", \"resort\", \"resort\", \"resort\", \"resort\", \"restaurant\", \"restaurant\", \"restaurant\", \"restaurant\", \"restaurant\", \"restaurant\", \"restaurant\", \"restaurant\", \"result\", \"result\", \"result\", \"result\", \"result\", \"result\", \"rice\", \"rice\", \"rice\", \"rice\", \"rice\", \"rice\", \"right\", \"right\", \"right\", \"right\", \"right\", \"right\", \"right\", \"right\", \"risotto\", \"roach\", \"rocket\", \"rocket\", \"roll\", \"roll\", \"roll\", \"roll\", \"roll\", \"roll\", \"roll\", \"roll\", \"rooftop\", \"rooftop\", \"room\", \"room\", \"room\", \"room\", \"room\", \"room\", \"room\", \"room\", \"root\", \"root\", \"root\", \"root\", \"root\", \"root\", \"rubbery\", \"rude\", \"rude\", \"rude\", \"rude\", \"rude\", \"rude\", \"rude\", \"rude\", \"salad\", \"salad\", \"salad\", \"salad\", \"salad\", \"salon\", \"salon\", \"salon\", \"salsa\", \"salsa\", \"salsa\", \"samantha\", \"samosa\", \"sandwich\", \"sandwich\", \"sandwich\", \"sandwich\", \"sandwich\", \"sandwich\", \"sandwich\", \"sandwich\", \"sarver\", \"sauce\", \"sauce\", \"sauce\", \"sauce\", \"sauce\", \"sauce\", \"sausage\", \"sausage\", \"sausage\", \"say\", \"say\", \"say\", \"say\", \"say\", \"say\", \"say\", \"say\", \"scallop\", \"scallop\", \"scampi\", \"schedule\", \"schedule\", \"schedule\", \"schedule\", \"schedule\", \"schedule\", \"schedule\", \"schedule\", \"schwart\", \"schwartz\", \"seafood\", \"seafood\", \"seat\", \"seat\", \"seat\", \"seat\", \"seat\", \"seat\", \"seat\", \"seat\", \"sectional\", \"sectional\", \"see\", \"see\", \"see\", \"see\", \"see\", \"see\", \"see\", \"see\", \"server\", \"server\", \"server\", \"server\", \"server\", \"server\", \"server\", \"service\", \"service\", \"service\", \"service\", \"service\", \"service\", \"service\", \"service\", \"session\", \"session\", \"session\", \"session\", \"session\", \"session\", \"shane\", \"shopping\", \"shopping\", \"shopping\", \"shopping\", \"shopping\", \"shopping\", \"shopping\", \"shopping\", \"show\", \"show\", \"show\", \"show\", \"show\", \"show\", \"show\", \"show\", \"shower\", \"shower\", \"shower\", \"shower\", \"shower\", \"shrimp\", \"shrimp\", \"shrimp\", \"shrimp\", \"signage\", \"signage\", \"silk\", \"sirloin\", \"skewer\", \"smith\", \"snag\", \"snail\", \"snail\", \"sole\", \"solon\", \"someplace\", \"sophia\", \"soup\", \"soup\", \"soup\", \"soup\", \"spa\", \"spa\", \"spa\", \"spa\", \"spa\", \"spaghetti\", \"spicy\", \"spicy\", \"spicy\", \"spicy\", \"spicy\", \"spicy\", \"staff\", \"staff\", \"staff\", \"staff\", \"staff\", \"staff\", \"staff\", \"staff\", \"star\", \"star\", \"star\", \"star\", \"star\", \"star\", \"star\", \"star\", \"starbuck\", \"starbuck\", \"starbuck\", \"starbuck\", \"starbuck\", \"starbuck\", \"starbuck\", \"stay\", \"stay\", \"stay\", \"stay\", \"stay\", \"stay\", \"stay\", \"stay\", \"steak\", \"steak\", \"steak\", \"steak\", \"steak\", \"stew\", \"stew\", \"stew\", \"store\", \"store\", \"store\", \"store\", \"store\", \"store\", \"store\", \"store\", \"strip\", \"strip\", \"strip\", \"strip\", \"strip\", \"strip\", \"strip\", \"strip\", \"structure\", \"structure\", \"stylist\", \"stylist\", \"subject\", \"sushi\", \"sushi\", \"sushi\", \"sushi\", \"sushi\", \"sushi\", \"suzi\", \"sw\", \"table\", \"table\", \"table\", \"table\", \"table\", \"table\", \"table\", \"table\", \"tablecloth\", \"taco\", \"taco\", \"taco\", \"taco\", \"taco\", \"taffy\", \"take\", \"take\", \"take\", \"take\", \"take\", \"take\", \"take\", \"take\", \"talented\", \"tan\", \"tan\", \"tap\", \"tap\", \"tap\", \"tap\", \"tap\", \"tap\", \"tar\", \"taste\", \"taste\", \"taste\", \"taste\", \"taste\", \"taste\", \"taste\", \"taste\", \"taxi\", \"tea\", \"tea\", \"tea\", \"tea\", \"tea\", \"tea\", \"tea\", \"teacher\", \"tell\", \"tell\", \"tell\", \"tell\", \"tell\", \"tell\", \"tell\", \"tell\", \"tenant\", \"tenant\", \"teriyaki\", \"teriyaki\", \"thank\", \"thank\", \"thank\", \"thank\", \"thank\", \"thank\", \"thank\", \"thank\", \"theresa\", \"thoroughness\", \"thread\", \"tiki\", \"tikka\", \"time\", \"time\", \"time\", \"time\", \"time\", \"time\", \"time\", \"time\", \"tire\", \"tire\", \"tire\", \"tire\", \"tissue\", \"tofu\", \"tofu\", \"tomatillo\", \"tomato\", \"tomato\", \"tomato\", \"tony\", \"tony\", \"tony\", \"topping\", \"topping\", \"topping\", \"topping\", \"topping\", \"tortilla\", \"tortilla\", \"tostada\", \"treasure\", \"treasure\", \"truck\", \"truck\", \"truck\", \"truck\", \"try\", \"try\", \"try\", \"try\", \"try\", \"try\", \"try\", \"try\", \"turkish\", \"turtle\", \"tv\", \"tv\", \"tv\", \"tv\", \"tv\", \"tv\", \"upgraded\", \"vaccination\", \"vain\", \"veggie\", \"veggie\", \"veggie\", \"veggie\", \"veggie\", \"vehicle\", \"vehicle\", \"vehicle\", \"vehicle\", \"vehicle\", \"vet\", \"victor\", \"vintage\", \"vintage\", \"visit\", \"visit\", \"visit\", \"visit\", \"visit\", \"visit\", \"visit\", \"visit\", \"w/\", \"wait\", \"wait\", \"wait\", \"wait\", \"wait\", \"wait\", \"wait\", \"wait\", \"waiter\", \"waiter\", \"waiter\", \"waiter\", \"waiter\", \"waiter\", \"waitress\", \"waitress\", \"waitress\", \"waitress\", \"waitress\", \"waitress\", \"waitress\", \"wal\", \"walk\", \"walk\", \"walk\", \"walk\", \"walk\", \"walk\", \"walk\", \"walk\", \"want\", \"want\", \"want\", \"want\", \"want\", \"want\", \"want\", \"want\", \"warhol\", \"warranty\", \"wart\", \"watch\", \"watch\", \"watch\", \"watch\", \"watch\", \"watch\", \"watch\", \"way\", \"way\", \"way\", \"way\", \"way\", \"way\", \"way\", \"way\", \"week\", \"week\", \"week\", \"week\", \"week\", \"week\", \"week\", \"week\", \"well\", \"well\", \"well\", \"well\", \"well\", \"well\", \"well\", \"well\", \"wifi\", \"wifi\", \"wifi\", \"wifi\", \"wildflower\", \"wilke\", \"wine\", \"wine\", \"wine\", \"wine\", \"wine\", \"wine\", \"wine\", \"wine\", \"wireless\", \"woot\", \"work\", \"work\", \"work\", \"work\", \"work\", \"work\", \"work\", \"work\", \"workout\", \"workout\", \"workout\", \"workout\", \"would\", \"would\", \"would\", \"would\", \"would\", \"would\", \"would\", \"would\", \"year\", \"year\", \"year\", \"year\", \"year\", \"year\", \"year\", \"year\", \"yuk\", \"zane\"]}, \"R\": 30, \"lambda.step\": 0.01, \"plot.opts\": {\"xlab\": \"PC1\", \"ylab\": \"PC2\"}, \"topic.order\": [2, 3, 8, 5, 1, 4, 6, 7]};\n",
       "\n",
       "function LDAvis_load_lib(url, callback){\n",
       "  var s = document.createElement('script');\n",
       "  s.src = url;\n",
       "  s.async = true;\n",
       "  s.onreadystatechange = s.onload = callback;\n",
       "  s.onerror = function(){console.warn(\"failed to load library \" + url);};\n",
       "  document.getElementsByTagName(\"head\")[0].appendChild(s);\n",
       "}\n",
       "\n",
       "if(typeof(LDAvis) !== \"undefined\"){\n",
       "   // already loaded: just create the visualization\n",
       "   !function(LDAvis){\n",
       "       new LDAvis(\"#\" + \"ldavis_el6786747957385367184534217\", ldavis_el6786747957385367184534217_data);\n",
       "   }(LDAvis);\n",
       "}else if(typeof define === \"function\" && define.amd){\n",
       "   // require.js is available: use it to load d3/LDAvis\n",
       "   require.config({paths: {d3: \"https://cdnjs.cloudflare.com/ajax/libs/d3/3.5.5/d3.min\"}});\n",
       "   require([\"d3\"], function(d3){\n",
       "      window.d3 = d3;\n",
       "      LDAvis_load_lib(\"https://cdn.rawgit.com/bmabey/pyLDAvis/files/ldavis.v1.0.0.js\", function(){\n",
       "        new LDAvis(\"#\" + \"ldavis_el6786747957385367184534217\", ldavis_el6786747957385367184534217_data);\n",
       "      });\n",
       "    });\n",
       "}else{\n",
       "    // require.js not available: dynamically load d3 & LDAvis\n",
       "    LDAvis_load_lib(\"https://cdnjs.cloudflare.com/ajax/libs/d3/3.5.5/d3.min.js\", function(){\n",
       "         LDAvis_load_lib(\"https://cdn.rawgit.com/bmabey/pyLDAvis/files/ldavis.v1.0.0.js\", function(){\n",
       "                 new LDAvis(\"#\" + \"ldavis_el6786747957385367184534217\", ldavis_el6786747957385367184534217_data);\n",
       "            })\n",
       "         });\n",
       "}\n",
       "</script>"
      ],
      "text/plain": [
       "PreparedData(topic_coordinates=              x         y  topics  cluster       Freq\n",
       "topic                                                \n",
       "1     -0.130951  0.013366       1        1  34.834743\n",
       "2      0.111478  0.040149       2        1  16.794643\n",
       "7      0.003887 -0.032441       3        1  12.079030\n",
       "4     -0.055318  0.027998       4        1  10.294994\n",
       "0      0.082467  0.049123       5        1   8.760829\n",
       "3     -0.110709  0.008509       6        1   7.371805\n",
       "5      0.042567 -0.134004       7        1   4.980876\n",
       "6      0.056579  0.027300       8        1   4.883082, topic_info=     Category         Freq        Term        Total  loglift  logprob\n",
       "term                                                                 \n",
       "151   Default  4934.000000        food  4934.000000  30.0000  30.0000\n",
       "381   Default  3237.000000       order  3237.000000  29.0000  29.0000\n",
       "138   Default  5167.000000       place  5167.000000  28.0000  28.0000\n",
       "78    Default  5524.000000          go  5524.000000  27.0000  27.0000\n",
       "43    Default  6073.000000        good  6073.000000  26.0000  26.0000\n",
       "196   Default   485.000000        taco   485.000000  25.0000  25.0000\n",
       "49    Default  3734.000000     service  3734.000000  24.0000  24.0000\n",
       "220   Default  4257.000000       great  4257.000000  23.0000  23.0000\n",
       "126   Default  4032.000000          be  4032.000000  22.0000  22.0000\n",
       "15    Default  6100.000000         get  6100.000000  21.0000  21.0000\n",
       "9     Default  1346.000000        call  1346.000000  20.0000  20.0000\n",
       "57    Default  1073.000000         bar  1073.000000  19.0000  19.0000\n",
       "109   Default  1188.000000        room  1188.000000  18.0000  18.0000\n",
       "852   Default   674.000000      burger   674.000000  17.0000  17.0000\n",
       "32    Default  2502.000000         say  2502.000000  16.0000  16.0000\n",
       "88    Default  2938.000000        make  2938.000000  15.0000  15.0000\n",
       "36    Default  4256.000000        time  4256.000000  14.0000  14.0000\n",
       "155   Default  1142.000000         fry  1142.000000  13.0000  13.0000\n",
       "755   Default   752.000000         car   752.000000  12.0000  12.0000\n",
       "39    Default  3038.000000       would  3038.000000  11.0000  11.0000\n",
       "188   Default  1266.000000        menu  1266.000000  10.0000  10.0000\n",
       "221   Default   345.000000        hair   345.000000   9.0000   9.0000\n",
       "331   Default  1452.000000        work  1452.000000   8.0000   8.0000\n",
       "666   Default   608.000000        beer   608.000000   7.0000   7.0000\n",
       "1154  Default  1421.000000     chicken  1421.000000   6.0000   6.0000\n",
       "298   Default   343.000000        nail   343.000000   5.0000   5.0000\n",
       "150   Default  1497.000000         eat  1497.000000   4.0000   4.0000\n",
       "394   Default   874.000000      server   874.000000   3.0000   3.0000\n",
       "38    Default  1647.000000        wait  1647.000000   2.0000   2.0000\n",
       "237   Default  1584.000000         see  1584.000000   1.0000   1.0000\n",
       "...       ...          ...         ...          ...      ...      ...\n",
       "331    Topic8   134.030151        work  1452.746826   0.6362  -5.2831\n",
       "1281   Topic8    83.052689        care   647.716370   0.9654  -5.7617\n",
       "414    Topic8   121.742432         ask  1407.389526   0.5718  -5.3792\n",
       "39     Topic8   177.756287       would  3038.070557   0.1808  -5.0007\n",
       "494    Topic8   121.781288        tell  1506.249878   0.5042  -5.3789\n",
       "472    Topic8   122.592072         not  1592.583496   0.4551  -5.3723\n",
       "15     Topic8   224.163818         get  6100.862305  -0.2844  -4.7688\n",
       "243    Topic8    74.158234       thank   582.375244   0.9585  -5.8749\n",
       "78     Topic8   211.668594          go  5524.167969  -0.2425  -4.8261\n",
       "220    Topic8   184.032562       great  4257.474609  -0.1219  -4.9660\n",
       "22     Topic8   127.391388        look  1917.598877   0.3078  -5.3339\n",
       "315    Topic8   119.739487        want  1730.012573   0.3488  -5.3958\n",
       "456    Topic8   112.926109        know  1689.150635   0.3141  -5.4544\n",
       "193    Topic8   134.980026      really  2585.543945   0.0668  -5.2760\n",
       "138    Topic8   173.211990       place  5167.249023  -0.3762  -5.0266\n",
       "95     Topic8   102.785561       never  1431.340820   0.3857  -5.5485\n",
       "282    Topic8   100.153297  experience  1408.849854   0.3756  -5.5744\n",
       "237    Topic8   104.236275         see  1584.941895   0.2978  -5.5345\n",
       "32     Topic8   119.073044         say  2502.747070  -0.0260  -5.4014\n",
       "88     Topic8   123.375801        make  2938.603760  -0.1511  -5.3659\n",
       "9      Topic8    95.272530        call  1346.671387   0.3707  -5.6244\n",
       "79     Topic8   108.817146        have  2237.033691  -0.0038  -5.4915\n",
       "162    Topic8    99.772385       price  1737.869141   0.1619  -5.5782\n",
       "43     Topic8   139.207260        good  6073.856934  -0.7564  -5.2452\n",
       "36     Topic8   120.647820        time  4256.266113  -0.5439  -5.3883\n",
       "381    Topic8   109.939880       order  3237.453857  -0.3632  -5.4812\n",
       "207    Topic8   105.202232        back  2854.753906  -0.2815  -5.5252\n",
       "49     Topic8   106.752129     service  3734.129639  -0.5354  -5.5106\n",
       "40     Topic8   105.147774        come  3859.174561  -0.5834  -5.5258\n",
       "141    Topic8    95.994667        take  2467.071289  -0.2271  -5.6168\n",
       "\n",
       "[709 rows x 6 columns], token_table=       Topic      Freq         Term\n",
       "term                               \n",
       "9495       5  0.937383      acetone\n",
       "12197      7  0.912864         ache\n",
       "9139       5  0.952231      acrylic\n",
       "19631      6  0.944222         aldi\n",
       "2          1  0.439535         also\n",
       "2          2  0.109463         also\n",
       "2          3  0.155353         also\n",
       "2          4  0.064415         also\n",
       "2          5  0.091359         also\n",
       "2          6  0.074940         also\n",
       "2          7  0.026945         also\n",
       "2          8  0.038312         also\n",
       "664        1  0.357747       always\n",
       "664        2  0.175434       always\n",
       "664        3  0.152731       always\n",
       "664        4  0.077053       always\n",
       "664        5  0.101132       always\n",
       "664        6  0.092877       always\n",
       "664        7  0.025455       always\n",
       "664        8  0.017887       always\n",
       "10898      7  0.939658       amazon\n",
       "6334       3  0.914517        angle\n",
       "1280       1  0.099667       animal\n",
       "1280       2  0.797335       animal\n",
       "1280       3  0.085429       animal\n",
       "1280       5  0.014238       animal\n",
       "527        2  0.418832  appointment\n",
       "527        3  0.002668  appointment\n",
       "527        4  0.002668  appointment\n",
       "527        5  0.450844  appointment\n",
       "...      ...       ...          ...\n",
       "331        1  0.102564         work\n",
       "331        2  0.373775         work\n",
       "331        3  0.092927         work\n",
       "331        4  0.066082         work\n",
       "331        5  0.150061         work\n",
       "331        6  0.041989         work\n",
       "331        7  0.080537         work\n",
       "331        8  0.092239         work\n",
       "1533       2  0.144856      workout\n",
       "1533       3  0.331100      workout\n",
       "1533       5  0.062081      workout\n",
       "1533       8  0.455263      workout\n",
       "39         1  0.277150        would\n",
       "39         2  0.241272        would\n",
       "39         3  0.082947        would\n",
       "39         4  0.148120        would\n",
       "39         5  0.082289        would\n",
       "39         6  0.070110        would\n",
       "39         7  0.039499        would\n",
       "39         8  0.058590        would\n",
       "123        1  0.097396         year\n",
       "123        2  0.362191         year\n",
       "123        3  0.132905         year\n",
       "123        4  0.084207         year\n",
       "123        5  0.181603         year\n",
       "123        6  0.026378         year\n",
       "123        7  0.050727         year\n",
       "123        8  0.062902         year\n",
       "10776      5  0.963102          yuk\n",
       "20566      4  0.932851         zane\n",
       "\n",
       "[1960 rows x 3 columns], R=30, lambda_step=0.01, plot_opts={'xlab': 'PC1', 'ylab': 'PC2'}, topic_order=[2, 3, 8, 5, 1, 4, 6, 7])"
      ]
     },
     "execution_count": 183,
     "metadata": {},
     "output_type": "execute_result"
    }
   ],
   "source": [
    "# Visualize the topics\n",
    "pyLDAvis.enable_notebook()\n",
    "vis = pyLDAvis.gensim.prepare(lda, corpus, id2word)\n",
    "vis"
   ]
  },
  {
   "cell_type": "markdown",
   "metadata": {},
   "source": [
    "### Finding the dominant topic for each review"
   ]
  },
  {
   "cell_type": "code",
   "execution_count": 184,
   "metadata": {},
   "outputs": [],
   "source": [
    "def format_topics_sentences(ldamodel, corpus, texts):\n",
    "    # Init output\n",
    "    sent_topics_df = pd.DataFrame()\n",
    "\n",
    "    # Get main topic in each document\n",
    "    for i, row_list in enumerate(ldamodel[corpus]):\n",
    "        row = row_list[0] if ldamodel.per_word_topics else row_list            \n",
    "        # print(row)\n",
    "        row = sorted(row, key=lambda x: (x[1]), reverse=True)\n",
    "        # Get the Dominant topic, Perc Contribution and Keywords for each document\n",
    "        for j, (topic_num, prop_topic) in enumerate(row):\n",
    "            if j == 0:  # => dominant topic\n",
    "                wp = ldamodel.show_topic(topic_num)\n",
    "                topic_keywords = \", \".join([word for word, prop in wp])\n",
    "                sent_topics_df = sent_topics_df.append(pd.Series([int(topic_num), round(prop_topic,4), topic_keywords]), ignore_index=True)\n",
    "            else:\n",
    "                break\n",
    "    sent_topics_df.columns = ['Dominant_Topic', 'Perc_Contribution', 'Topic_Keywords']\n",
    "\n",
    "    # Add original text to the end of the output\n",
    "    contents = pd.Series(texts)\n",
    "    sent_topics_df = pd.concat([sent_topics_df, contents], axis=1)\n",
    "    return(sent_topics_df)"
   ]
  },
  {
   "cell_type": "code",
   "execution_count": 215,
   "metadata": {},
   "outputs": [
    {
     "data": {
      "text/html": [
       "<div>\n",
       "<style scoped>\n",
       "    .dataframe tbody tr th:only-of-type {\n",
       "        vertical-align: middle;\n",
       "    }\n",
       "\n",
       "    .dataframe tbody tr th {\n",
       "        vertical-align: top;\n",
       "    }\n",
       "\n",
       "    .dataframe thead th {\n",
       "        text-align: right;\n",
       "    }\n",
       "</style>\n",
       "<table border=\"1\" class=\"dataframe\">\n",
       "  <thead>\n",
       "    <tr style=\"text-align: right;\">\n",
       "      <th></th>\n",
       "      <th>Document_No</th>\n",
       "      <th>Dominant_Topic</th>\n",
       "      <th>Topic_Perc_Contrib</th>\n",
       "      <th>Keywords</th>\n",
       "      <th>Text</th>\n",
       "    </tr>\n",
       "  </thead>\n",
       "  <tbody>\n",
       "    <tr>\n",
       "      <th>0</th>\n",
       "      <td>0</td>\n",
       "      <td>2.0</td>\n",
       "      <td>0.8270</td>\n",
       "      <td>get, go, time, call, say, take, would, tell, c...</td>\n",
       "      <td>[beware!!!, fake,, fake,, fake....we, also, sm...</td>\n",
       "    </tr>\n",
       "    <tr>\n",
       "      <th>1</th>\n",
       "      <td>1</td>\n",
       "      <td>7.0</td>\n",
       "      <td>0.6368</td>\n",
       "      <td>get, place, good, be, go, room, great, come, n...</td>\n",
       "      <td>[came, lunch, togo., service, quick., staff, f...</td>\n",
       "    </tr>\n",
       "    <tr>\n",
       "      <th>2</th>\n",
       "      <td>2</td>\n",
       "      <td>2.0</td>\n",
       "      <td>0.5699</td>\n",
       "      <td>get, go, time, call, say, take, would, tell, c...</td>\n",
       "      <td>[i've, vegas, dozens, times, never, stepped, f...</td>\n",
       "    </tr>\n",
       "    <tr>\n",
       "      <th>3</th>\n",
       "      <td>3</td>\n",
       "      <td>7.0</td>\n",
       "      <td>0.3849</td>\n",
       "      <td>get, place, good, be, go, room, great, come, n...</td>\n",
       "      <td>[went, night, closed, part, street, party..., ...</td>\n",
       "    </tr>\n",
       "    <tr>\n",
       "      <th>4</th>\n",
       "      <td>4</td>\n",
       "      <td>1.0</td>\n",
       "      <td>0.9474</td>\n",
       "      <td>good, food, place, great, get, go, order, come...</td>\n",
       "      <td>[3.5, 4, stars, bad, price,, $12.99, lunch,, s...</td>\n",
       "    </tr>\n",
       "    <tr>\n",
       "      <th>5</th>\n",
       "      <td>5</td>\n",
       "      <td>1.0</td>\n",
       "      <td>0.7157</td>\n",
       "      <td>good, food, place, great, get, go, order, come...</td>\n",
       "      <td>[tasty,, fast, casual, latin, street, food., m...</td>\n",
       "    </tr>\n",
       "    <tr>\n",
       "      <th>6</th>\n",
       "      <td>6</td>\n",
       "      <td>7.0</td>\n",
       "      <td>0.3770</td>\n",
       "      <td>get, place, good, be, go, room, great, come, n...</td>\n",
       "      <td>[show, absolutely, amazing!!, incredible, prod...</td>\n",
       "    </tr>\n",
       "    <tr>\n",
       "      <th>7</th>\n",
       "      <td>7</td>\n",
       "      <td>1.0</td>\n",
       "      <td>0.9648</td>\n",
       "      <td>good, food, place, great, get, go, order, come...</td>\n",
       "      <td>[came, pho, really, enjoyed, it!, got, 9:00pm,...</td>\n",
       "    </tr>\n",
       "    <tr>\n",
       "      <th>8</th>\n",
       "      <td>8</td>\n",
       "      <td>0.0</td>\n",
       "      <td>0.7125</td>\n",
       "      <td>go, time, get, be, make, say, back, great, hai...</td>\n",
       "      <td>[absolutely, unique, experience, nail, shop, f...</td>\n",
       "    </tr>\n",
       "    <tr>\n",
       "      <th>9</th>\n",
       "      <td>9</td>\n",
       "      <td>4.0</td>\n",
       "      <td>0.5729</td>\n",
       "      <td>food, service, place, order, good, go, come, g...</td>\n",
       "      <td>[wow., walked, sat, bar, 10, minutes., bartend...</td>\n",
       "    </tr>\n",
       "  </tbody>\n",
       "</table>\n",
       "</div>"
      ],
      "text/plain": [
       "   Document_No  Dominant_Topic  Topic_Perc_Contrib                                           Keywords                                               Text\n",
       "0            0             2.0              0.8270  get, go, time, call, say, take, would, tell, c...  [beware!!!, fake,, fake,, fake....we, also, sm...\n",
       "1            1             7.0              0.6368  get, place, good, be, go, room, great, come, n...  [came, lunch, togo., service, quick., staff, f...\n",
       "2            2             2.0              0.5699  get, go, time, call, say, take, would, tell, c...  [i've, vegas, dozens, times, never, stepped, f...\n",
       "3            3             7.0              0.3849  get, place, good, be, go, room, great, come, n...  [went, night, closed, part, street, party..., ...\n",
       "4            4             1.0              0.9474  good, food, place, great, get, go, order, come...  [3.5, 4, stars, bad, price,, $12.99, lunch,, s...\n",
       "5            5             1.0              0.7157  good, food, place, great, get, go, order, come...  [tasty,, fast, casual, latin, street, food., m...\n",
       "6            6             7.0              0.3770  get, place, good, be, go, room, great, come, n...  [show, absolutely, amazing!!, incredible, prod...\n",
       "7            7             1.0              0.9648  good, food, place, great, get, go, order, come...  [came, pho, really, enjoyed, it!, got, 9:00pm,...\n",
       "8            8             0.0              0.7125  go, time, get, be, make, say, back, great, hai...  [absolutely, unique, experience, nail, shop, f...\n",
       "9            9             4.0              0.5729  food, service, place, order, good, go, come, g...  [wow., walked, sat, bar, 10, minutes., bartend..."
      ]
     },
     "execution_count": 215,
     "metadata": {},
     "output_type": "execute_result"
    }
   ],
   "source": [
    "df_topic_sents_keywords = format_topics_sentences(ldamodel=lda, corpus=corpus, texts=yelp['tokens'])\n",
    "\n",
    "# Format\n",
    "df_dominant_topic = df_topic_sents_keywords.reset_index()\n",
    "df_dominant_topic.columns = ['Document_No', 'Dominant_Topic', 'Topic_Perc_Contrib', 'Keywords', 'Text']\n",
    "df_dominant_topic.head(10)"
   ]
  },
  {
   "cell_type": "code",
   "execution_count": 220,
   "metadata": {},
   "outputs": [],
   "source": [
    "pd.set_option('display.max_colwidth', 1000)"
   ]
  },
  {
   "cell_type": "code",
   "execution_count": 225,
   "metadata": {},
   "outputs": [
    {
     "data": {
      "text/plain": [
       "4    good, food, place, great, get, go, order, come, try, time\n",
       "Name: Keywords, dtype: object"
      ]
     },
     "execution_count": 225,
     "metadata": {},
     "output_type": "execute_result"
    }
   ],
   "source": [
    "df_dominant_topic.loc[df_dominant_topic['Dominant_Topic'] == 1.0].Keywords.head(1)"
   ]
  },
  {
   "cell_type": "code",
   "execution_count": 227,
   "metadata": {},
   "outputs": [
    {
     "data": {
      "text/plain": [
       "4                                                                                                                                                                                                                                                                                                                                                                                            [3.5, 4, stars, bad, price,, $12.99, lunch,, seniors, get, 15%, off., pay, front, eating., hot, food,, salads,, noodle, bar,, dessert,, fruits,, fried, varieties, soup., seating, middle, section, bit, tight,, booths, side, look, spacious., think, lunch, noodle, bar, would, variety, different, types, greens,, vermicelli, noodles,, frozen, tofu,, etc., tomato, laksa, broth, pretty, good.]\n",
       "5                                                                                                                                                                                                                                                                                                                                                                                                                                                                                                          [tasty,, fast, casual, latin, street, food., menu, overwhelming, first, everything, i've, tried, good., recommend, trying, arepa., also,, nachos, extremely, good, bang, buck, -, one, really, enough, two, people., space, pretty, small,, problematic, friday, lunch, taco, tuesday.]\n",
       "7                                                                                                                                                                                                                                                                                                                                                                                                                                                                                                                                                                                                             [came, pho, really, enjoyed, it!, got, 9:00pm, busy, got, served, right, away., got, p7, broth, flavorful, meat, cooked, right, tripe, tender, like, rubber., sons, go, place, pho!]\n",
       "10    [popped, dinner, yesterday, reservation,, despite, place, packed,, staff, still, managed, find, us, table, two., inside, cozy:, exposed, brick,, fairy, lights,, big, red, leather, chairs., good:, -, fresh, bread, waiting, food, -, yum!, -, charcuterie, board, starter,, came, pears,, walnuts,, olives,, side, honey, drizzle, everything., delicious, -, favourite, blue, cheese,, strong, overly, pungent., -, star, show, entrée:, pear, gorgonzola, pizza., took, forever, decide, order, -, many, amazing, pizza, pasta, choices, -, disappoint., thin, crust,, generous, amount, cheese,, pears, added, really, nice, sweetness., serve, pizza, cutter,, cut, slices, liking, -, thought, nice, touch, (even, though, terrible, cutting, neatly)., -, good, hands, server., ...]\n",
       "13                                                                                                                                                                                                                                                                                                                                                                                                                                                                                                                                                       [food, great!, super, busy, server, attentive., try, bacon, flight,, bloody, mary, flight, mimosa, flight., verde, bloody, favorite, -, refreshing., negative, place, changing, table, restrooms., highchairs..., nowhere, change, baby.]\n",
       "Name: Text, dtype: object"
      ]
     },
     "execution_count": 227,
     "metadata": {},
     "output_type": "execute_result"
    }
   ],
   "source": [
    "df_dominant_topic.loc[df_dominant_topic['Dominant_Topic'] == 1.0].Text.head(5)"
   ]
  },
  {
   "cell_type": "code",
   "execution_count": 226,
   "metadata": {},
   "outputs": [
    {
     "data": {
      "text/plain": [
       "0    get, go, time, call, say, take, would, tell, car, come\n",
       "Name: Keywords, dtype: object"
      ]
     },
     "execution_count": 226,
     "metadata": {},
     "output_type": "execute_result"
    }
   ],
   "source": [
    "df_dominant_topic.loc[df_dominant_topic['Dominant_Topic'] == 2.0].Keywords.head(1)"
   ]
  },
  {
   "cell_type": "code",
   "execution_count": 229,
   "metadata": {},
   "outputs": [
    {
     "data": {
      "text/plain": [
       "0                                                                                                                                                                                                                                                                                                                                                                                  [beware!!!, fake,, fake,, fake....we, also, small, business, los, alamitos,, ca, received, looked, like, legitimate, bill, $70, account, number, all., called, phone, number, listed, (866), 273-7934., wait, time, hold, said, 20, minutes, leave, message., could, get, live, person, phone, matter, number, selected., left, firm, message, would, contacting, bbb, attorney, regarding, company, trying, scam, businesses., illegal!!!!!]\n",
       "2     [i've, vegas, dozens, times, never, stepped, foot, circus, circus., one, reason, mostly,, resort, marketed, familes, travel, vegas,, business, twenty-three, year, old, circus, circus?, well,, needed, room, one, night, got, hotels.com, rate, $24, pulled, trigger., upon, arriving,, interior, nicer, expected, check-in, went, fast, even, long, line., young, lady, checked, explained, get, room,, looked, like, quite, journey., eventually, made, room, bypassed, kids, area,, restaurants,, bars., entered, key, card, surprised, nice, room, $25, could, buy., sure,, wynn, bellagio,, nevertheless,, impressed., stayed, night, unable, thorougly, explore, property., complaint, casino, difficult, navigate, needs, maps, signs., regardless,, budget, need, quick, room,, circus, circus, stretch, dollar.]\n",
       "11                                                                                               [thw, worst, stay, ever!, first, ended, paying, 700-800, 2, nights!, said, oh, maybe, going, nice, room!, floor, 26th, room, 135, call, grand, queen, view., disappointed, upon, walking, room, :(., yea, decided, give, chance!, not?, right!, ok, first, night, wanted, small, bottle, mini, fridge, picked, jaggermeister, seal, broken!, called, front, desk, replace, inform, came, upstairs, replace, decided, take, nap., wake, 1am, itchy, hell, got, showered, again!, the., come, see, mirror!, 8, big, red, bites, body!, went, downstairs, walk, around, take, mind, it., came, back, room, end, sleeping, room., morning, came, walk, downstairs, front, desk, let, know, whats, going, on., person, helping, ...]\n",
       "14                                                                                      [talk, getting, ripped, off., charged, us, $420, shut, valve, costs, $15., realized, problem, found, line, clogged, wanted, replace, whole, line, 7,000., first, try, find, small, problems,, charge, almost, 500, tell, going, 7000, dollars., thank, you., called, family, friend, took, look, it,, told, us, exact, problem, areas, done., know, people, plumbing, work,, consider, first..., unless, want, get, f@*#ed, @$$, rescue, rooters., seriously., oh, yeah, forgot, mention, called, last, night, set, appointment, told, us, would, sometime, 8am, 12, pm., call, us, next, day, asking, questions, tell, us, make, appointment., told, did,, night, one, named, bryan,, tells, us, one, named, bryan, works, there., ...]\n",
       "18                                                                                                                                                                                                                                                                                                                                                                                            [purchased, groupon, massage, maryann, massage., book, appointment, well, aware, 24-hour, cancellation, policy, however, emergency, came, job, go, work, call, maryann, soon, heard, emergency, work, unhelpful, even, anything, compensate, rearrange, time, option, given, time, slot, filled, reuse, groupon, otherwise, sol,, would, never, recommend, company, desire, work, emergency, arises, take, money, run, great, day]\n",
       "Name: Text, dtype: object"
      ]
     },
     "execution_count": 229,
     "metadata": {},
     "output_type": "execute_result"
    }
   ],
   "source": [
    "df_dominant_topic.loc[df_dominant_topic['Dominant_Topic'] == 2.0].Text.head(5)"
   ]
  },
  {
   "cell_type": "code",
   "execution_count": 230,
   "metadata": {},
   "outputs": [
    {
     "data": {
      "text/plain": [
       "41    order, good, get, taco, food, go, make, be, burger, come\n",
       "Name: Keywords, dtype: object"
      ]
     },
     "execution_count": 230,
     "metadata": {},
     "output_type": "execute_result"
    }
   ],
   "source": [
    "df_dominant_topic.loc[df_dominant_topic['Dominant_Topic'] == 3.0].Keywords.head(1)"
   ]
  },
  {
   "cell_type": "code",
   "execution_count": 231,
   "metadata": {},
   "outputs": [
    {
     "data": {
      "text/plain": [
       "41    [handel's, great, place, get, homemade, ice, cream,, even, middle, snowstorm, (which, went)., location, intersection, 82, &, 176., one, thing, stands, handel's, order, outside., thing, inside, buildings, ice, cream, made., that's, makes, stand, went, snowstorm., worth, though., tons, flavors,, many, creative., ordered, black, raspberry, really, enjoyed, it., say, quite, good, black, raspberry, ice, cream, vermont,, different,, i'm, including, rating., bonus,, dog, you,, get, free, \"doggie, cone\", really, small, cone, vanilla, ice, cream, it., overall,, looking, great, ice, cream, northeast, ohio, well, couple, areas, around, country,, stop, handel's., regret, calories.]\n",
       "58                                                                                                                                                                                                                                                                                                                                                                                                                                                                                                                                                                                                           [quite, work, goes, every, $5.75, cup, n2, ice, cream., one, high, top, seating, area, though.]\n",
       "67                                                                                                                                                                                                                                                    [perfect, place, treat,, especially, hot, day!, got, japanese, special, crepe, matcha, ice, cream,, whipped, cream,, strawberries,, sweet, red, bean, paste., matcha, gelato, extremely, creamy, soft!, (unlike, lot, store, bought, green, tea, ice, cream,, overly, sweet)., whipped, cream, delicious, red, bean, paste, perfectly, compliments, crepes., bit, expensive...costing, 6-8, dollars, def, worth, want, splurge, bit, treat, yo, self.]\n",
       "92                                                                                                                                                                                                                                                                                                                                                                                                                                                                                [gourmet, restaurant., airport, food., fun, atmoshpere,, little, bit, connection, region,, claim, 'best, of', awards., get, sense, hit, miss, -, airport, -, hungry,, need, it,, probably, going, get, anything, plane...]\n",
       "94                                                                                                                                                                                               [omg!, thought, i'd, grab, burger, eat, home., doing., burger, smelled, good, bite., i'm, little, ashamed, say, ate, whole, thing, leaving, parking, lot., reminded, burgers, hot, grill, drive, frequented, teen., burger, thing, i've, tried, speak, to., two, freshly, grilled, patties, (i, order, mine, cheese, melted, patty, right),, set, atop, ordinary, bun, cool, veggies, sauce, gives, juicyness,, yummm!, messy, good., bad, thing, live, around, corner!, see, lots, cheeseburgers, future.]\n",
       "Name: Text, dtype: object"
      ]
     },
     "execution_count": 231,
     "metadata": {},
     "output_type": "execute_result"
    }
   ],
   "source": [
    "df_dominant_topic.loc[df_dominant_topic['Dominant_Topic'] == 3.0].Text.head(5)"
   ]
  },
  {
   "cell_type": "markdown",
   "metadata": {},
   "source": [
    "## Results Analysis"
   ]
  },
  {
   "cell_type": "markdown",
   "metadata": {},
   "source": [
    "Overall I am pleased with the results of my analysis. The following is an example of what I have found: <br> <br>\n",
    "\n",
    "**Topic 1 Keywords** `good, food, place, great, get, go, order, come, try, time` <br>\n",
    "My LDA model appears to identify Topic 1 as positive restaurant reviews. This is not surprising as restaraunt reviews comprise a large share of all reviews on yelp. Common reviews identified in Topic 1 words describing various food items often using descriptive adjectives. Topic one contains the greatest amount of reviews and is positioned the farthest distance away from Topic 2. <br><br>\n",
    "\n",
    "**Topic 2 Keywords** `get, go, time, call, say, take, would, tell, car, come` <br>\n",
    "The model appears to identify topic 2 as comprising of negative reviews. This intuitively makes sense when looking at the pyLDAvis graph as it is juxtaposed at opposite ends with Topic 1. Topic 2 appears to contain numerous reviews describing disgruntled customer experiences. <br><br>\n",
    "\n",
    "**Topic 3 Keywords** `order, good, get, taco, food, go, make, be, burger, come` <br>\n",
    "Topic 3 largely contains reviews that are neither overtly positive or negative. Reading some of the reviews that fall in to topic 3 reveal a reviewer that has a decent customer experience with a few hangups. When looking at the pyLDAvis graph, Topic 3 falls in the middle between Topic 1 and Topic 2. This is consistent with my analysis. "
   ]
  },
  {
   "cell_type": "markdown",
   "metadata": {},
   "source": [
    "## Stretch Goals\n",
    "\n",
    "Complete one of more of these to push your score towards a three: \n",
    "* Incorporate named entity recognition into your analysis\n",
    "* Compare vectorization methods in the classification section\n",
    "* Analyze more (or all) of the yelp dataset - this one is v. hard. \n",
    "* Use a generator object on the reviews file - this would help you with the analyzing the whole dataset.\n",
    "* Incorporate any of the other yelp dataset entities in your analysis (business, users, etc.)"
   ]
  }
 ],
 "metadata": {
  "kernelspec": {
   "display_name": "Python 3",
   "language": "python",
   "name": "python3"
  },
  "language_info": {
   "codemirror_mode": {
    "name": "ipython",
    "version": 3
   },
   "file_extension": ".py",
   "mimetype": "text/x-python",
   "name": "python",
   "nbconvert_exporter": "python",
   "pygments_lexer": "ipython3",
   "version": "3.7.1"
  },
  "toc-autonumbering": false
 },
 "nbformat": 4,
 "nbformat_minor": 2
}
