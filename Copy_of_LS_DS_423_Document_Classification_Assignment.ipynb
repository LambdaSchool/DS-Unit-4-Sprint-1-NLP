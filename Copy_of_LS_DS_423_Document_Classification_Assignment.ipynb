{
  "nbformat": 4,
  "nbformat_minor": 0,
  "metadata": {
    "colab": {
      "name": "Copy of LS_DS_423_Document_Classification_Assignment.ipynb",
      "version": "0.3.2",
      "provenance": [],
      "collapsed_sections": [],
      "include_colab_link": true
    },
    "kernelspec": {
      "name": "python3",
      "display_name": "Python 3"
    }
  },
  "cells": [
    {
      "cell_type": "markdown",
      "metadata": {
        "id": "view-in-github",
        "colab_type": "text"
      },
      "source": [
        "<a href=\"https://colab.research.google.com/github/trista-paul/DS-Unit-4-Sprint-2-NLP/blob/master/Copy_of_LS_DS_423_Document_Classification_Assignment.ipynb\" target=\"_parent\"><img src=\"https://colab.research.google.com/assets/colab-badge.svg\" alt=\"Open In Colab\"/></a>"
      ]
    },
    {
      "metadata": {
        "id": "-OJHr-tbuSuI",
        "colab_type": "text"
      },
      "cell_type": "markdown",
      "source": [
        "# Now it's your turn!\n",
        "\n",
        "Use the following dataset of scraped \"Data Scientist\" and \"Data Analyst\" job listings to create your own Document Classification Models.\n",
        "\n",
        "<https://raw.githubusercontent.com/LambdaSchool/DS-Unit-4-Sprint-2-NLP/master/module3-Document-Classification/job_listings.csv>\n",
        "\n",
        "Requirements:\n",
        "\n",
        "- Apply both CountVectorizer and TfidfVectorizer methods to this data and compare results\n",
        "- Use at least two different classification models to compare differences in model accuracy\n",
        "- Try to \"Hyperparameter Tune\" your model by using different n_gram ranges, max_results, and data cleaning methods\n",
        "- Try and get the highest accuracy possible!"
      ]
    },
    {
      "metadata": {
        "id": "fnQ0MPVzSwsA",
        "colab_type": "text"
      },
      "cell_type": "markdown",
      "source": [
        "# Data Processing"
      ]
    },
    {
      "metadata": {
        "id": "BPaBXVxbIdHJ",
        "colab_type": "code",
        "colab": {
          "base_uri": "https://localhost:8080/",
          "height": 255
        },
        "outputId": "726c97f7-30d7-4f8e-9680-5284b2d2546e"
      },
      "cell_type": "code",
      "source": [
        "!pip install -U nltk"
      ],
      "execution_count": 4,
      "outputs": [
        {
          "output_type": "stream",
          "text": [
            "Collecting nltk\n",
            "\u001b[?25l  Downloading https://files.pythonhosted.org/packages/73/56/90178929712ce427ebad179f8dc46c8deef4e89d4c853092bee1efd57d05/nltk-3.4.1.zip (3.1MB)\n",
            "\u001b[K     |████████████████████████████████| 3.1MB 5.0MB/s \n",
            "\u001b[?25hRequirement already satisfied, skipping upgrade: six in /usr/local/lib/python3.6/dist-packages (from nltk) (1.12.0)\n",
            "Building wheels for collected packages: nltk\n",
            "  Building wheel for nltk (setup.py) ... \u001b[?25l\u001b[?25hdone\n",
            "  Stored in directory: /root/.cache/pip/wheels/97/8a/10/d646015f33c525688e91986c4544c68019b19a473cb33d3b55\n",
            "Successfully built nltk\n",
            "Installing collected packages: nltk\n",
            "  Found existing installation: nltk 3.2.5\n",
            "    Uninstalling nltk-3.2.5:\n",
            "      Successfully uninstalled nltk-3.2.5\n",
            "Successfully installed nltk-3.4.1\n"
          ],
          "name": "stdout"
        }
      ]
    },
    {
      "metadata": {
        "id": "fSQ68jtGGyBA",
        "colab_type": "code",
        "colab": {
          "base_uri": "https://localhost:8080/",
          "height": 118
        },
        "outputId": "60e50630-ae26-49fe-aaed-ea45588a36f0"
      },
      "cell_type": "code",
      "source": [
        "import pandas as pd\n",
        "import numpy as np\n",
        "import random\n",
        "import string\n",
        "import re\n",
        "\n",
        "#models and model validation\n",
        "from sklearn.model_selection import train_test_split, cross_val_score\n",
        "from sklearn.metrics import accuracy_score, roc_auc_score\n",
        "from sklearn.naive_bayes import MultinomialNB\n",
        "from xgboost.sklearn import XGBClassifier\n",
        "\n",
        "\n",
        "#vectorizers\n",
        "from sklearn.feature_extraction.text import TfidfVectorizer\n",
        "from sklearn.feature_extraction.text import CountVectorizer\n",
        "\n",
        "#nltk\n",
        "import nltk\n",
        "nltk.download('stopwords')\n",
        "nltk.download('punkt')\n",
        "nltk.download('wordnet')\n",
        "from nltk.corpus import stopwords\n",
        "from nltk.tokenize import word_tokenize\n",
        "from nltk.stem.wordnet import WordNetLemmatizer"
      ],
      "execution_count": 1,
      "outputs": [
        {
          "output_type": "stream",
          "text": [
            "[nltk_data] Downloading package stopwords to /root/nltk_data...\n",
            "[nltk_data]   Unzipping corpora/stopwords.zip.\n",
            "[nltk_data] Downloading package punkt to /root/nltk_data...\n",
            "[nltk_data]   Unzipping tokenizers/punkt.zip.\n",
            "[nltk_data] Downloading package wordnet to /root/nltk_data...\n",
            "[nltk_data]   Unzipping corpora/wordnet.zip.\n"
          ],
          "name": "stdout"
        }
      ]
    },
    {
      "metadata": {
        "id": "MFreAPN3uGgz",
        "colab_type": "code",
        "colab": {
          "base_uri": "https://localhost:8080/",
          "height": 279
        },
        "outputId": "c315591a-e1f2-4f76-e8cd-dbdf0977de33"
      },
      "cell_type": "code",
      "source": [
        "df = pd.read_csv('https://raw.githubusercontent.com/LambdaSchool/DS-Unit-4-Sprint-2-NLP/master/module3-Document-Classification/job_listings.csv')\n",
        "df.head()"
      ],
      "execution_count": 26,
      "outputs": [
        {
          "output_type": "execute_result",
          "data": {
            "text/html": [
              "<div>\n",
              "<style scoped>\n",
              "    .dataframe tbody tr th:only-of-type {\n",
              "        vertical-align: middle;\n",
              "    }\n",
              "\n",
              "    .dataframe tbody tr th {\n",
              "        vertical-align: top;\n",
              "    }\n",
              "\n",
              "    .dataframe thead th {\n",
              "        text-align: right;\n",
              "    }\n",
              "</style>\n",
              "<table border=\"1\" class=\"dataframe\">\n",
              "  <thead>\n",
              "    <tr style=\"text-align: right;\">\n",
              "      <th></th>\n",
              "      <th>description</th>\n",
              "      <th>title</th>\n",
              "      <th>job</th>\n",
              "    </tr>\n",
              "  </thead>\n",
              "  <tbody>\n",
              "    <tr>\n",
              "      <th>0</th>\n",
              "      <td>b\"&lt;div&gt;&lt;div&gt;Job Requirements:&lt;/div&gt;&lt;ul&gt;&lt;li&gt;&lt;p&gt;...</td>\n",
              "      <td>Data scientist</td>\n",
              "      <td>Data Scientist</td>\n",
              "    </tr>\n",
              "    <tr>\n",
              "      <th>1</th>\n",
              "      <td>b'&lt;div&gt;Job Description&lt;br/&gt;\\n&lt;br/&gt;\\n&lt;p&gt;As a Da...</td>\n",
              "      <td>Data Scientist I</td>\n",
              "      <td>Data Scientist</td>\n",
              "    </tr>\n",
              "    <tr>\n",
              "      <th>2</th>\n",
              "      <td>b'&lt;div&gt;&lt;p&gt;As a Data Scientist you will be work...</td>\n",
              "      <td>Data Scientist - Entry Level</td>\n",
              "      <td>Data Scientist</td>\n",
              "    </tr>\n",
              "    <tr>\n",
              "      <th>3</th>\n",
              "      <td>b'&lt;div class=\"jobsearch-JobMetadataHeader icl-...</td>\n",
              "      <td>Data Scientist</td>\n",
              "      <td>Data Scientist</td>\n",
              "    </tr>\n",
              "    <tr>\n",
              "      <th>4</th>\n",
              "      <td>b'&lt;ul&gt;&lt;li&gt;Location: USA \\xe2\\x80\\x93 multiple ...</td>\n",
              "      <td>Data Scientist</td>\n",
              "      <td>Data Scientist</td>\n",
              "    </tr>\n",
              "  </tbody>\n",
              "</table>\n",
              "</div>"
            ],
            "text/plain": [
              "                                         description  \\\n",
              "0  b\"<div><div>Job Requirements:</div><ul><li><p>...   \n",
              "1  b'<div>Job Description<br/>\\n<br/>\\n<p>As a Da...   \n",
              "2  b'<div><p>As a Data Scientist you will be work...   \n",
              "3  b'<div class=\"jobsearch-JobMetadataHeader icl-...   \n",
              "4  b'<ul><li>Location: USA \\xe2\\x80\\x93 multiple ...   \n",
              "\n",
              "                          title             job  \n",
              "0               Data scientist   Data Scientist  \n",
              "1              Data Scientist I  Data Scientist  \n",
              "2  Data Scientist - Entry Level  Data Scientist  \n",
              "3                Data Scientist  Data Scientist  \n",
              "4                Data Scientist  Data Scientist  "
            ]
          },
          "metadata": {
            "tags": []
          },
          "execution_count": 26
        }
      ]
    },
    {
      "metadata": {
        "id": "FBRaMtPRHQV6",
        "colab_type": "code",
        "colab": {
          "base_uri": "https://localhost:8080/",
          "height": 67
        },
        "outputId": "9b3f8dab-ded8-49b4-f139-e02ce91566a4"
      },
      "cell_type": "code",
      "source": [
        "df['job'].value_counts(normalize=True)"
      ],
      "execution_count": 27,
      "outputs": [
        {
          "output_type": "execute_result",
          "data": {
            "text/plain": [
              "Data Scientist    0.5\n",
              "Data Analyst      0.5\n",
              "Name: job, dtype: float64"
            ]
          },
          "metadata": {
            "tags": []
          },
          "execution_count": 27
        }
      ]
    },
    {
      "metadata": {
        "id": "8f-yhlZ7HeNb",
        "colab_type": "code",
        "colab": {
          "base_uri": "https://localhost:8080/",
          "height": 195
        },
        "outputId": "e0ca9fc2-39da-4b1c-a44d-b273a699af8f"
      },
      "cell_type": "code",
      "source": [
        "#let's predict if a job description is for a data scientist or analyst\n",
        "#drop title for being redundant\n",
        "df = df.drop(columns=['title'])\n",
        "#let's say we only want to apply to scientist jobs.\n",
        "#scientist = 1 analyst = 0\n",
        "df['job'] = df['job'].map({'Data Analyst': 0, 'Data Scientist':1})\n",
        "df['description'] = df['description'].str.strip(\"b'\")\n",
        "df.head()"
      ],
      "execution_count": 28,
      "outputs": [
        {
          "output_type": "execute_result",
          "data": {
            "text/html": [
              "<div>\n",
              "<style scoped>\n",
              "    .dataframe tbody tr th:only-of-type {\n",
              "        vertical-align: middle;\n",
              "    }\n",
              "\n",
              "    .dataframe tbody tr th {\n",
              "        vertical-align: top;\n",
              "    }\n",
              "\n",
              "    .dataframe thead th {\n",
              "        text-align: right;\n",
              "    }\n",
              "</style>\n",
              "<table border=\"1\" class=\"dataframe\">\n",
              "  <thead>\n",
              "    <tr style=\"text-align: right;\">\n",
              "      <th></th>\n",
              "      <th>description</th>\n",
              "      <th>job</th>\n",
              "    </tr>\n",
              "  </thead>\n",
              "  <tbody>\n",
              "    <tr>\n",
              "      <th>0</th>\n",
              "      <td>\"&lt;div&gt;&lt;div&gt;Job Requirements:&lt;/div&gt;&lt;ul&gt;&lt;li&gt;&lt;p&gt;\\...</td>\n",
              "      <td>1</td>\n",
              "    </tr>\n",
              "    <tr>\n",
              "      <th>1</th>\n",
              "      <td>&lt;div&gt;Job Description&lt;br/&gt;\\n&lt;br/&gt;\\n&lt;p&gt;As a Data...</td>\n",
              "      <td>1</td>\n",
              "    </tr>\n",
              "    <tr>\n",
              "      <th>2</th>\n",
              "      <td>&lt;div&gt;&lt;p&gt;As a Data Scientist you will be workin...</td>\n",
              "      <td>1</td>\n",
              "    </tr>\n",
              "    <tr>\n",
              "      <th>3</th>\n",
              "      <td>&lt;div class=\"jobsearch-JobMetadataHeader icl-u-...</td>\n",
              "      <td>1</td>\n",
              "    </tr>\n",
              "    <tr>\n",
              "      <th>4</th>\n",
              "      <td>&lt;ul&gt;&lt;li&gt;Location: USA \\xe2\\x80\\x93 multiple lo...</td>\n",
              "      <td>1</td>\n",
              "    </tr>\n",
              "  </tbody>\n",
              "</table>\n",
              "</div>"
            ],
            "text/plain": [
              "                                         description  job\n",
              "0  \"<div><div>Job Requirements:</div><ul><li><p>\\...    1\n",
              "1  <div>Job Description<br/>\\n<br/>\\n<p>As a Data...    1\n",
              "2  <div><p>As a Data Scientist you will be workin...    1\n",
              "3  <div class=\"jobsearch-JobMetadataHeader icl-u-...    1\n",
              "4  <ul><li>Location: USA \\xe2\\x80\\x93 multiple lo...    1"
            ]
          },
          "metadata": {
            "tags": []
          },
          "execution_count": 28
        }
      ]
    },
    {
      "metadata": {
        "id": "OVpdOyAFuUB3",
        "colab_type": "code",
        "colab": {}
      },
      "cell_type": "code",
      "source": [
        "#from Derek's notebook, string conversion\n",
        "text =[]\n",
        "for i in df['description']:\n",
        "  s= str(i)\n",
        "  text.append(s)\n",
        "  \n",
        "\n",
        "df['d']=text"
      ],
      "execution_count": 0,
      "outputs": []
    },
    {
      "metadata": {
        "id": "wLqa6Wq7QTBs",
        "colab_type": "code",
        "colab": {
          "base_uri": "https://localhost:8080/",
          "height": 34
        },
        "outputId": "7edbf7cc-cfbd-497c-f196-45613d7187c1"
      },
      "cell_type": "code",
      "source": [
        "df['description'].values.shape"
      ],
      "execution_count": 30,
      "outputs": [
        {
          "output_type": "execute_result",
          "data": {
            "text/plain": [
              "(500,)"
            ]
          },
          "metadata": {
            "tags": []
          },
          "execution_count": 30
        }
      ]
    },
    {
      "metadata": {
        "id": "9ESvLM7yjwbD",
        "colab_type": "code",
        "colab": {
          "base_uri": "https://localhost:8080/",
          "height": 34
        },
        "outputId": "5392c767-73c0-42cf-fc97-af7621dde18f"
      },
      "cell_type": "code",
      "source": [
        "dlist = df['d'].tolist()\n",
        "len(dlist)"
      ],
      "execution_count": 31,
      "outputs": [
        {
          "output_type": "execute_result",
          "data": {
            "text/plain": [
              "500"
            ]
          },
          "metadata": {
            "tags": []
          },
          "execution_count": 31
        }
      ]
    },
    {
      "metadata": {
        "id": "w-3bKMimj1US",
        "colab_type": "code",
        "colab": {}
      },
      "cell_type": "code",
      "source": [
        "dlist_nohtml = []\n",
        "\n",
        "def cleanhtml(raw_html):\n",
        "  cleanr = re.compile('<.*?>')\n",
        "  cleantext = re.sub(cleanr, '', raw_html)\n",
        "  cleantext = cleantext.replace(r\"\\n\", \" \")\n",
        "  return cleantext\n",
        "\n",
        "for desc in dlist:\n",
        "    desc = cleanhtml(desc)\n",
        "    dlist_nohtml.append(desc)"
      ],
      "execution_count": 0,
      "outputs": []
    },
    {
      "metadata": {
        "id": "4I6Z9Nt4NBRt",
        "colab_type": "code",
        "colab": {
          "base_uri": "https://localhost:8080/",
          "height": 34
        },
        "outputId": "6acc3164-1439-4b66-af2a-3b74aec852ac"
      },
      "cell_type": "code",
      "source": [
        "cleaned_description = []\n",
        "from string import punctuation\n",
        "table = str.maketrans('', '', punctuation)\n",
        "stop_words = stopwords.words('english')\n",
        "\n",
        "for description in dlist_nohtml:\n",
        "    #sep by word\n",
        "    words = word_tokenize(description)\n",
        "\n",
        "    #lowercase\n",
        "    words = [word.lower() for word in words]\n",
        "\n",
        "    #remove non alphanumeric characters\n",
        "    words = [word.translate(table) for word in words]\n",
        "    words = [word for word in words if word.isalpha()]\n",
        "\n",
        "    #remove stopwords\n",
        "    words = [word for word in words if not word in stop_words]\n",
        "    \n",
        "    #lemmatize (remove prefixes and suffixes)\n",
        "    lemmatizer = WordNetLemmatizer()\n",
        "    words = [lemmatizer.lemmatize(word) for word in words]\n",
        "    \n",
        "    #make listing\n",
        "    cleaned_description.append(words)\n",
        "\n",
        "job_listings = cleaned_description\n",
        "len(job_listings)"
      ],
      "execution_count": 33,
      "outputs": [
        {
          "output_type": "execute_result",
          "data": {
            "text/plain": [
              "500"
            ]
          },
          "metadata": {
            "tags": []
          },
          "execution_count": 33
        }
      ]
    },
    {
      "metadata": {
        "id": "XHOv9mRrvN9u",
        "colab_type": "code",
        "colab": {
          "base_uri": "https://localhost:8080/",
          "height": 5863
        },
        "outputId": "91bdee30-6c95-4263-85dc-fc47b05d1fb1"
      },
      "cell_type": "code",
      "source": [
        "job_listings[-1]"
      ],
      "execution_count": 24,
      "outputs": [
        {
          "output_type": "execute_result",
          "data": {
            "text/plain": [
              "['location',\n",
              " 'el',\n",
              " 'segundo',\n",
              " 'california',\n",
              " 'united',\n",
              " 'state',\n",
              " 'job',\n",
              " 'summary',\n",
              " 'amp',\n",
              " 'seeking',\n",
              " 'data',\n",
              " 'analyst',\n",
              " 'partner',\n",
              " 'entertainment',\n",
              " 'operation',\n",
              " 'product',\n",
              " 'engineering',\n",
              " 'team',\n",
              " 'build',\n",
              " 'better',\n",
              " 'data',\n",
              " 'capability',\n",
              " 'dig',\n",
              " 'analysis',\n",
              " 'around',\n",
              " 'usage',\n",
              " 'performance',\n",
              " 'linear',\n",
              " 'streaming',\n",
              " 'video',\n",
              " 'experience',\n",
              " 'role',\n",
              " 'objective',\n",
              " 'drive',\n",
              " 'understanding',\n",
              " 'insight',\n",
              " 'analyzing',\n",
              " 'current',\n",
              " 'product',\n",
              " 'user',\n",
              " 'experience',\n",
              " 'work',\n",
              " 'closely',\n",
              " 'leadership',\n",
              " 'team',\n",
              " 'understand',\n",
              " 'analytic',\n",
              " 'need',\n",
              " 'communicate',\n",
              " 'insight',\n",
              " 'broader',\n",
              " 'organization',\n",
              " 'responsibility',\n",
              " 'solve',\n",
              " 'challenging',\n",
              " 'problem',\n",
              " 'regarding',\n",
              " 'video',\n",
              " 'platform',\n",
              " 'transforming',\n",
              " 'raw',\n",
              " 'data',\n",
              " 'action',\n",
              " 'driven',\n",
              " 'analysis',\n",
              " 'report',\n",
              " 'insight',\n",
              " 'building',\n",
              " 'rich',\n",
              " 'highvisibility',\n",
              " 'reportsdashboardstools',\n",
              " 'used',\n",
              " 'direct',\n",
              " 'stakeholder',\n",
              " 'senior',\n",
              " 'management',\n",
              " 'diverse',\n",
              " 'set',\n",
              " 'team',\n",
              " 'across',\n",
              " 'organization',\n",
              " 'conduct',\n",
              " 'endtoend',\n",
              " 'analysis',\n",
              " 'includes',\n",
              " 'data',\n",
              " 'gathering',\n",
              " 'requirementskpi',\n",
              " 'specification',\n",
              " 'processing',\n",
              " 'statistical',\n",
              " 'analysis',\n",
              " 'ongoing',\n",
              " 'deliverable',\n",
              " 'presentation',\n",
              " 'build',\n",
              " 'statistical',\n",
              " 'model',\n",
              " 'understand',\n",
              " 'customer',\n",
              " 'network',\n",
              " 'experience',\n",
              " 'predictprevent',\n",
              " 'failure',\n",
              " 'broadcast',\n",
              " 'center',\n",
              " 'reduce',\n",
              " 'outage',\n",
              " 'make',\n",
              " 'business',\n",
              " 'recommendation',\n",
              " 'eg',\n",
              " 'costbenefit',\n",
              " 'forecasting',\n",
              " 'hypothesis',\n",
              " 'testing',\n",
              " 'optimization',\n",
              " 'actionable',\n",
              " 'finding',\n",
              " 'multiple',\n",
              " 'level',\n",
              " 'stakeholder',\n",
              " 'visual',\n",
              " 'display',\n",
              " 'quantitative',\n",
              " 'information',\n",
              " 'role',\n",
              " 'objective',\n",
              " 'drive',\n",
              " 'understanding',\n",
              " 'insight',\n",
              " 'analyzing',\n",
              " 'current',\n",
              " 'product',\n",
              " 'user',\n",
              " 'experience',\n",
              " 'work',\n",
              " 'closely',\n",
              " 'leadership',\n",
              " 'team',\n",
              " 'understand',\n",
              " 'analytic',\n",
              " 'need',\n",
              " 'communicate',\n",
              " 'insight',\n",
              " 'broader',\n",
              " 'organization',\n",
              " 'responsibility',\n",
              " 'solve',\n",
              " 'challenging',\n",
              " 'problem',\n",
              " 'regarding',\n",
              " 'video',\n",
              " 'platform',\n",
              " 'transforming',\n",
              " 'raw',\n",
              " 'data',\n",
              " 'action',\n",
              " 'driven',\n",
              " 'analysis',\n",
              " 'report',\n",
              " 'insight',\n",
              " 'building',\n",
              " 'rich',\n",
              " 'highvisibility',\n",
              " 'reportsdashboardstools',\n",
              " 'used',\n",
              " 'direct',\n",
              " 'stakeholder',\n",
              " 'senior',\n",
              " 'management',\n",
              " 'diverse',\n",
              " 'set',\n",
              " 'team',\n",
              " 'across',\n",
              " 'organization',\n",
              " 'conduct',\n",
              " 'endtoend',\n",
              " 'analysis',\n",
              " 'includes',\n",
              " 'data',\n",
              " 'gathering',\n",
              " 'requirementskpi',\n",
              " 'specification',\n",
              " 'processing',\n",
              " 'statistical',\n",
              " 'analysis',\n",
              " 'ongoing',\n",
              " 'deliverable',\n",
              " 'presentation',\n",
              " 'build',\n",
              " 'statistical',\n",
              " 'model',\n",
              " 'understand',\n",
              " 'customer',\n",
              " 'network',\n",
              " 'experience',\n",
              " 'predictprevent',\n",
              " 'failure',\n",
              " 'broadcast',\n",
              " 'center',\n",
              " 'reduce',\n",
              " 'outage',\n",
              " 'make',\n",
              " 'business',\n",
              " 'recommendation',\n",
              " 'eg',\n",
              " 'costbenefit',\n",
              " 'forecasting',\n",
              " 'hypothesis',\n",
              " 'testing',\n",
              " 'optimization',\n",
              " 'actionable',\n",
              " 'finding',\n",
              " 'multiple',\n",
              " 'level',\n",
              " 'stakeholder',\n",
              " 'visual',\n",
              " 'display',\n",
              " 'quantitative',\n",
              " 'information',\n",
              " 'key',\n",
              " 'qualification',\n",
              " 'babs',\n",
              " 'mathematics',\n",
              " 'statistic',\n",
              " 'computer',\n",
              " 'science',\n",
              " 'quantitative',\n",
              " 'field',\n",
              " 'year',\n",
              " 'related',\n",
              " 'experience',\n",
              " 'advanced',\n",
              " 'analytics',\n",
              " 'big',\n",
              " 'data',\n",
              " 'relational',\n",
              " 'database',\n",
              " 'structure',\n",
              " 'research',\n",
              " 'method',\n",
              " 'sampling',\n",
              " 'technique',\n",
              " 'system',\n",
              " 'testing',\n",
              " 'excellent',\n",
              " 'communication',\n",
              " 'skill',\n",
              " 'present',\n",
              " 'finding',\n",
              " 'technical',\n",
              " 'nontechnical',\n",
              " 'audience',\n",
              " 'manage',\n",
              " 'stakeholder',\n",
              " 'priority',\n",
              " 'directly',\n",
              " 'thorough',\n",
              " 'understanding',\n",
              " 'statistic',\n",
              " 'customer',\n",
              " 'segmentation',\n",
              " 'machine',\n",
              " 'learning',\n",
              " 'implementing',\n",
              " 'model',\n",
              " 'production',\n",
              " 'environment',\n",
              " 'experience',\n",
              " 'datadriven',\n",
              " 'environment',\n",
              " 'designing',\n",
              " 'building',\n",
              " 'metricsfocused',\n",
              " 'deliverable',\n",
              " 'technical',\n",
              " 'consumerfacing',\n",
              " 'andor',\n",
              " 'mobile',\n",
              " 'technology',\n",
              " 'business',\n",
              " 'strong',\n",
              " 'understanding',\n",
              " 'sql',\n",
              " 'manipulate',\n",
              " 'data',\n",
              " 'andor',\n",
              " 'big',\n",
              " 'data',\n",
              " 'querying',\n",
              " 'language',\n",
              " 'experience',\n",
              " 'analytical',\n",
              " 'package',\n",
              " 'r',\n",
              " 'python',\n",
              " 'least',\n",
              " 'one',\n",
              " 'analytic',\n",
              " 'reporting',\n",
              " 'platform',\n",
              " 'tableau',\n",
              " 'microstrategy',\n",
              " 'etc',\n",
              " 'data',\n",
              " 'visualization',\n",
              " 'library',\n",
              " 'ggplot',\n",
              " 'highcharts',\n",
              " 'etc',\n",
              " 'working',\n",
              " 'knowledge',\n",
              " 'etl',\n",
              " 'data',\n",
              " 'warehousing',\n",
              " 'concept',\n",
              " 'experience',\n",
              " 'etl',\n",
              " 'tool',\n",
              " 'like',\n",
              " 'matillion',\n",
              " 'alteryx',\n",
              " 'knime',\n",
              " 'etc',\n",
              " 'bonus',\n",
              " 'point',\n",
              " 'experience',\n",
              " 'distributed',\n",
              " 'analytic',\n",
              " 'processing',\n",
              " 'technology',\n",
              " 'hadoop',\n",
              " 'hive',\n",
              " 'pig',\n",
              " 'presto',\n",
              " 'mapreduce',\n",
              " 'kafka',\n",
              " 'spark',\n",
              " 'etc',\n",
              " 'understanding',\n",
              " 'medium',\n",
              " 'domain',\n",
              " 'content',\n",
              " 'andor',\n",
              " 'streaming',\n",
              " 'business',\n",
              " 'model']"
            ]
          },
          "metadata": {
            "tags": []
          },
          "execution_count": 24
        }
      ]
    },
    {
      "metadata": {
        "id": "nQWHNLvyvdCb",
        "colab_type": "code",
        "colab": {
          "base_uri": "https://localhost:8080/",
          "height": 195
        },
        "outputId": "3a286645-0253-453a-be01-3ea3407e2001"
      },
      "cell_type": "code",
      "source": [
        "df['job_listings'] = job_listings\n",
        "df = df.drop(columns=['description', 'd'])\n",
        "df.head()"
      ],
      "execution_count": 34,
      "outputs": [
        {
          "output_type": "execute_result",
          "data": {
            "text/html": [
              "<div>\n",
              "<style scoped>\n",
              "    .dataframe tbody tr th:only-of-type {\n",
              "        vertical-align: middle;\n",
              "    }\n",
              "\n",
              "    .dataframe tbody tr th {\n",
              "        vertical-align: top;\n",
              "    }\n",
              "\n",
              "    .dataframe thead th {\n",
              "        text-align: right;\n",
              "    }\n",
              "</style>\n",
              "<table border=\"1\" class=\"dataframe\">\n",
              "  <thead>\n",
              "    <tr style=\"text-align: right;\">\n",
              "      <th></th>\n",
              "      <th>job</th>\n",
              "      <th>job_listings</th>\n",
              "    </tr>\n",
              "  </thead>\n",
              "  <tbody>\n",
              "    <tr>\n",
              "      <th>0</th>\n",
              "      <td>1</td>\n",
              "      <td>[job, requirement, conceptual, understanding, ...</td>\n",
              "    </tr>\n",
              "    <tr>\n",
              "      <th>1</th>\n",
              "      <td>1</td>\n",
              "      <td>[job, description, data, scientist, help, u, b...</td>\n",
              "    </tr>\n",
              "    <tr>\n",
              "      <th>2</th>\n",
              "      <td>1</td>\n",
              "      <td>[data, scientist, working, consulting, side, b...</td>\n",
              "    </tr>\n",
              "    <tr>\n",
              "      <th>3</th>\n",
              "      <td>1</td>\n",
              "      <td>[monthcontractunder, general, supervision, pro...</td>\n",
              "    </tr>\n",
              "    <tr>\n",
              "      <th>4</th>\n",
              "      <td>1</td>\n",
              "      <td>[location, usa, multiple, location, year, anal...</td>\n",
              "    </tr>\n",
              "  </tbody>\n",
              "</table>\n",
              "</div>"
            ],
            "text/plain": [
              "   job                                       job_listings\n",
              "0    1  [job, requirement, conceptual, understanding, ...\n",
              "1    1  [job, description, data, scientist, help, u, b...\n",
              "2    1  [data, scientist, working, consulting, side, b...\n",
              "3    1  [monthcontractunder, general, supervision, pro...\n",
              "4    1  [location, usa, multiple, location, year, anal..."
            ]
          },
          "metadata": {
            "tags": []
          },
          "execution_count": 34
        }
      ]
    },
    {
      "metadata": {
        "id": "S0x9WmdbXXJ2",
        "colab_type": "code",
        "colab": {
          "base_uri": "https://localhost:8080/",
          "height": 195
        },
        "outputId": "b0fce16e-63b3-44ab-fdd9-0dd67aa738d9"
      },
      "cell_type": "code",
      "source": [
        "listings = []\n",
        "for listing in df['job_listings']:\n",
        "  listing = \" \".join(listing)\n",
        "  listings.append(listing)\n",
        "  \n",
        "df['job_listings'] = listings\n",
        "df.head()"
      ],
      "execution_count": 36,
      "outputs": [
        {
          "output_type": "execute_result",
          "data": {
            "text/html": [
              "<div>\n",
              "<style scoped>\n",
              "    .dataframe tbody tr th:only-of-type {\n",
              "        vertical-align: middle;\n",
              "    }\n",
              "\n",
              "    .dataframe tbody tr th {\n",
              "        vertical-align: top;\n",
              "    }\n",
              "\n",
              "    .dataframe thead th {\n",
              "        text-align: right;\n",
              "    }\n",
              "</style>\n",
              "<table border=\"1\" class=\"dataframe\">\n",
              "  <thead>\n",
              "    <tr style=\"text-align: right;\">\n",
              "      <th></th>\n",
              "      <th>job</th>\n",
              "      <th>job_listings</th>\n",
              "    </tr>\n",
              "  </thead>\n",
              "  <tbody>\n",
              "    <tr>\n",
              "      <th>0</th>\n",
              "      <td>1</td>\n",
              "      <td>job requirement conceptual understanding machi...</td>\n",
              "    </tr>\n",
              "    <tr>\n",
              "      <th>1</th>\n",
              "      <td>1</td>\n",
              "      <td>job description data scientist help u build ma...</td>\n",
              "    </tr>\n",
              "    <tr>\n",
              "      <th>2</th>\n",
              "      <td>1</td>\n",
              "      <td>data scientist working consulting side busines...</td>\n",
              "    </tr>\n",
              "    <tr>\n",
              "      <th>3</th>\n",
              "      <td>1</td>\n",
              "      <td>monthcontractunder general supervision profess...</td>\n",
              "    </tr>\n",
              "    <tr>\n",
              "      <th>4</th>\n",
              "      <td>1</td>\n",
              "      <td>location usa multiple location year analytics ...</td>\n",
              "    </tr>\n",
              "  </tbody>\n",
              "</table>\n",
              "</div>"
            ],
            "text/plain": [
              "   job                                       job_listings\n",
              "0    1  job requirement conceptual understanding machi...\n",
              "1    1  job description data scientist help u build ma...\n",
              "2    1  data scientist working consulting side busines...\n",
              "3    1  monthcontractunder general supervision profess...\n",
              "4    1  location usa multiple location year analytics ..."
            ]
          },
          "metadata": {
            "tags": []
          },
          "execution_count": 36
        }
      ]
    },
    {
      "metadata": {
        "id": "OSRGTeEGvzk0",
        "colab_type": "code",
        "colab": {}
      },
      "cell_type": "code",
      "source": [
        "X = df['job_listings']\n",
        "y = df['job']\n",
        "\n",
        "X_train, X_test, y_train, y_test = train_test_split(X, y, test_size=0.2, random_state=0)"
      ],
      "execution_count": 0,
      "outputs": []
    },
    {
      "metadata": {
        "id": "1XZdB0j9SoK-",
        "colab_type": "text"
      },
      "cell_type": "markdown",
      "source": [
        "# Count Vectorizer Tests"
      ]
    },
    {
      "metadata": {
        "id": "bae6DP2HwNm4",
        "colab_type": "code",
        "colab": {
          "base_uri": "https://localhost:8080/",
          "height": 34
        },
        "outputId": "9ed5dd83-d9b3-4e17-88da-ec2075938fa5"
      },
      "cell_type": "code",
      "source": [
        "vectorizer = CountVectorizer(max_features=2000, ngram_range=(1,2),\n",
        "                             min_df = 5, max_df = .80,\n",
        "                             stop_words = 'english')\n",
        "\n",
        "vectorizer.fit(X_train)\n",
        "train_word_counts = vectorizer.transform(X_train)\n",
        "X_train_vectorized = pd.DataFrame(train_word_counts.toarray(), columns=vectorizer.get_feature_names())\n",
        "                             \n",
        "model = XGBClassifier(max_depth = 2,\n",
        "                      learning_rate = 0.1,\n",
        "                      verbosity = 0,\n",
        "                      n_jobs = -1,\n",
        "                      random_state = 0)\n",
        "\n",
        "model.fit(X_train_vectorized, y_train)\n",
        "xg_scores = cross_val_score(model, X_train_vectorized, y_train, cv=5, scoring='roc_auc')\n",
        "mean_xgscore = sum(xgscores) / len(xgscores)\n",
        "mean_xgscore"
      ],
      "execution_count": 62,
      "outputs": [
        {
          "output_type": "execute_result",
          "data": {
            "text/plain": [
              "0.9840060975609756"
            ]
          },
          "metadata": {
            "tags": []
          },
          "execution_count": 62
        }
      ]
    },
    {
      "metadata": {
        "id": "teBrc_qUfF3u",
        "colab_type": "code",
        "colab": {
          "base_uri": "https://localhost:8080/",
          "height": 34
        },
        "outputId": "8baf64c0-f7e3-47ef-814f-fcd5576a5f19"
      },
      "cell_type": "code",
      "source": [
        "vectorizer.fit(X_test)\n",
        "test_word_counts = vectorizer.transform(X_test)\n",
        "X_test_vectorized = pd.DataFrame(test_word_counts.toarray(), columns=vectorizer.get_feature_names())\n",
        "\n",
        "model.fit(X_test_vectorized, y_test)\n",
        "y_score = model.predict_proba(X_test_vectorized)[:, 1]\n",
        "test_xgscore = roc_auc_score(y_test, y_score)\n",
        "test_xgscore"
      ],
      "execution_count": 63,
      "outputs": [
        {
          "output_type": "execute_result",
          "data": {
            "text/plain": [
              "1.0"
            ]
          },
          "metadata": {
            "tags": []
          },
          "execution_count": 63
        }
      ]
    },
    {
      "metadata": {
        "id": "vcvSwFeipael",
        "colab_type": "code",
        "colab": {
          "base_uri": "https://localhost:8080/",
          "height": 77
        },
        "outputId": "8d7c1301-d9cd-4cc4-ff47-1107f609cfba"
      },
      "cell_type": "code",
      "source": [
        "row1 = [['Count', 'xgboost', mean_xgscore, test_xgscore]]\n",
        "model_comp = pd.DataFrame(row1, columns = ['vectorizer', 'model', 'avg cross_val', 'test roc_auc'])\n",
        "\n",
        "model_comp"
      ],
      "execution_count": 64,
      "outputs": [
        {
          "output_type": "execute_result",
          "data": {
            "text/html": [
              "<div>\n",
              "<style scoped>\n",
              "    .dataframe tbody tr th:only-of-type {\n",
              "        vertical-align: middle;\n",
              "    }\n",
              "\n",
              "    .dataframe tbody tr th {\n",
              "        vertical-align: top;\n",
              "    }\n",
              "\n",
              "    .dataframe thead th {\n",
              "        text-align: right;\n",
              "    }\n",
              "</style>\n",
              "<table border=\"1\" class=\"dataframe\">\n",
              "  <thead>\n",
              "    <tr style=\"text-align: right;\">\n",
              "      <th></th>\n",
              "      <th>vectorizer</th>\n",
              "      <th>model</th>\n",
              "      <th>avg cross_val</th>\n",
              "      <th>test roc_auc</th>\n",
              "    </tr>\n",
              "  </thead>\n",
              "  <tbody>\n",
              "    <tr>\n",
              "      <th>0</th>\n",
              "      <td>Count</td>\n",
              "      <td>xgboost</td>\n",
              "      <td>0.984006</td>\n",
              "      <td>1.0</td>\n",
              "    </tr>\n",
              "  </tbody>\n",
              "</table>\n",
              "</div>"
            ],
            "text/plain": [
              "  vectorizer    model  avg cross_val  test roc_auc\n",
              "0      Count  xgboost       0.984006           1.0"
            ]
          },
          "metadata": {
            "tags": []
          },
          "execution_count": 64
        }
      ]
    },
    {
      "metadata": {
        "id": "njgdre8frhOG",
        "colab_type": "code",
        "colab": {
          "base_uri": "https://localhost:8080/",
          "height": 34
        },
        "outputId": "e0a6d686-752d-4c92-9fba-0d50b92e5235"
      },
      "cell_type": "code",
      "source": [
        "bayes = MultinomialNB()\n",
        "\n",
        "bayes.fit(X_train_vectorized, y_train)\n",
        "bscores = cross_val_score(bayes, X_train_vectorized, y_train, cv=5, scoring='roc_auc')\n",
        "mean_bscore = sum(bscores) / len(bscores)\n",
        "\n",
        "mean_bscore"
      ],
      "execution_count": 66,
      "outputs": [
        {
          "output_type": "execute_result",
          "data": {
            "text/plain": [
              "0.9505374843652282"
            ]
          },
          "metadata": {
            "tags": []
          },
          "execution_count": 66
        }
      ]
    },
    {
      "metadata": {
        "id": "VKBeyukBtEuV",
        "colab_type": "code",
        "colab": {
          "base_uri": "https://localhost:8080/",
          "height": 34
        },
        "outputId": "0a20e5a5-9f80-42eb-c86f-a71943fcbdd1"
      },
      "cell_type": "code",
      "source": [
        "bayes.fit(X_test_vectorized, y_test)\n",
        "y_score = bayes.predict_proba(X_test_vectorized)[:, 1]\n",
        "test_bscore = roc_auc_score(y_test, y_score)\n",
        "\n",
        "test_bscore"
      ],
      "execution_count": 67,
      "outputs": [
        {
          "output_type": "execute_result",
          "data": {
            "text/plain": [
              "0.9987995198079231"
            ]
          },
          "metadata": {
            "tags": []
          },
          "execution_count": 67
        }
      ]
    },
    {
      "metadata": {
        "id": "8gwPanURtpA5",
        "colab_type": "code",
        "colab": {
          "base_uri": "https://localhost:8080/",
          "height": 106
        },
        "outputId": "d5c2ba77-9bd6-49d9-fe22-fd7bb0988a62"
      },
      "cell_type": "code",
      "source": [
        "row2 = ['Count', 'Naive Bayes', mean_bscore, test_bscore]\n",
        "model_comp.loc[1] = row2\n",
        "\n",
        "model_comp"
      ],
      "execution_count": 69,
      "outputs": [
        {
          "output_type": "execute_result",
          "data": {
            "text/html": [
              "<div>\n",
              "<style scoped>\n",
              "    .dataframe tbody tr th:only-of-type {\n",
              "        vertical-align: middle;\n",
              "    }\n",
              "\n",
              "    .dataframe tbody tr th {\n",
              "        vertical-align: top;\n",
              "    }\n",
              "\n",
              "    .dataframe thead th {\n",
              "        text-align: right;\n",
              "    }\n",
              "</style>\n",
              "<table border=\"1\" class=\"dataframe\">\n",
              "  <thead>\n",
              "    <tr style=\"text-align: right;\">\n",
              "      <th></th>\n",
              "      <th>vectorizer</th>\n",
              "      <th>model</th>\n",
              "      <th>avg cross_val</th>\n",
              "      <th>test roc_auc</th>\n",
              "    </tr>\n",
              "  </thead>\n",
              "  <tbody>\n",
              "    <tr>\n",
              "      <th>0</th>\n",
              "      <td>Count</td>\n",
              "      <td>xgboost</td>\n",
              "      <td>0.984006</td>\n",
              "      <td>1.0000</td>\n",
              "    </tr>\n",
              "    <tr>\n",
              "      <th>1</th>\n",
              "      <td>Count</td>\n",
              "      <td>Naive Bayes</td>\n",
              "      <td>0.950537</td>\n",
              "      <td>0.9988</td>\n",
              "    </tr>\n",
              "  </tbody>\n",
              "</table>\n",
              "</div>"
            ],
            "text/plain": [
              "  vectorizer        model  avg cross_val  test roc_auc\n",
              "0      Count      xgboost       0.984006        1.0000\n",
              "1      Count  Naive Bayes       0.950537        0.9988"
            ]
          },
          "metadata": {
            "tags": []
          },
          "execution_count": 69
        }
      ]
    },
    {
      "metadata": {
        "id": "vvvDCXE8vOFW",
        "colab_type": "text"
      },
      "cell_type": "markdown",
      "source": [
        "# tfidf Vectorizer Tests"
      ]
    },
    {
      "metadata": {
        "id": "9y8aoKJ4vf28",
        "colab_type": "code",
        "colab": {
          "base_uri": "https://localhost:8080/",
          "height": 34
        },
        "outputId": "7d7dfece-3da8-4e36-ae90-9db74903e915"
      },
      "cell_type": "code",
      "source": [
        "vectorizer = TfidfVectorizer(max_features=2000, ngram_range=(1,2),\n",
        "                             min_df = 5, max_df = .80,\n",
        "                             stop_words = 'english')\n",
        "vectorizer.fit(X_train)\n",
        "train_word_counts = vectorizer.transform(X_train)\n",
        "X_train_vectorized = pd.DataFrame(train_word_counts.toarray(), columns=vectorizer.get_feature_names())\n",
        "\n",
        "model.fit(X_train_vectorized, y_train)\n",
        "\n",
        "xgscores = cross_val_score(model, X_train_vectorized, y_train, cv=5, scoring='roc_auc')\n",
        "mean_xgscore = sum(xgscores) / len(xgscores)\n",
        "mean_xgscore"
      ],
      "execution_count": 70,
      "outputs": [
        {
          "output_type": "execute_result",
          "data": {
            "text/plain": [
              "0.9840060975609756"
            ]
          },
          "metadata": {
            "tags": []
          },
          "execution_count": 70
        }
      ]
    },
    {
      "metadata": {
        "id": "bJSefs7WxC1G",
        "colab_type": "code",
        "colab": {
          "base_uri": "https://localhost:8080/",
          "height": 34
        },
        "outputId": "7cab7812-4ab2-4b56-bcc3-ae3a93531d23"
      },
      "cell_type": "code",
      "source": [
        "vectorizer.fit(X_test)\n",
        "test_word_counts = vectorizer.transform(X_test)\n",
        "X_test_vectorized = pd.DataFrame(test_word_counts.toarray(), columns=vectorizer.get_feature_names())\n",
        "\n",
        "model.fit(X_test_vectorized, y_test)\n",
        "y_score = model.predict_proba(X_test_vectorized)[:, 1]\n",
        "test_xgscore = roc_auc_score(y_test, y_score)\n",
        "test_xgscore"
      ],
      "execution_count": 71,
      "outputs": [
        {
          "output_type": "execute_result",
          "data": {
            "text/plain": [
              "1.0"
            ]
          },
          "metadata": {
            "tags": []
          },
          "execution_count": 71
        }
      ]
    },
    {
      "metadata": {
        "id": "TUDWNpdHxWNy",
        "colab_type": "code",
        "colab": {
          "base_uri": "https://localhost:8080/",
          "height": 136
        },
        "outputId": "0023030c-0e96-430b-8f47-46ffe646d497"
      },
      "cell_type": "code",
      "source": [
        "row3 = ['Tfidf', 'xgboost', mean_xgscore, 1]\n",
        "model_comp.loc[2] = row3\n",
        "model_comp"
      ],
      "execution_count": 72,
      "outputs": [
        {
          "output_type": "execute_result",
          "data": {
            "text/html": [
              "<div>\n",
              "<style scoped>\n",
              "    .dataframe tbody tr th:only-of-type {\n",
              "        vertical-align: middle;\n",
              "    }\n",
              "\n",
              "    .dataframe tbody tr th {\n",
              "        vertical-align: top;\n",
              "    }\n",
              "\n",
              "    .dataframe thead th {\n",
              "        text-align: right;\n",
              "    }\n",
              "</style>\n",
              "<table border=\"1\" class=\"dataframe\">\n",
              "  <thead>\n",
              "    <tr style=\"text-align: right;\">\n",
              "      <th></th>\n",
              "      <th>vectorizer</th>\n",
              "      <th>model</th>\n",
              "      <th>avg cross_val</th>\n",
              "      <th>test roc_auc</th>\n",
              "    </tr>\n",
              "  </thead>\n",
              "  <tbody>\n",
              "    <tr>\n",
              "      <th>0</th>\n",
              "      <td>Count</td>\n",
              "      <td>xgboost</td>\n",
              "      <td>0.984006</td>\n",
              "      <td>1.0000</td>\n",
              "    </tr>\n",
              "    <tr>\n",
              "      <th>1</th>\n",
              "      <td>Count</td>\n",
              "      <td>Naive Bayes</td>\n",
              "      <td>0.950537</td>\n",
              "      <td>0.9988</td>\n",
              "    </tr>\n",
              "    <tr>\n",
              "      <th>2</th>\n",
              "      <td>Tfidf</td>\n",
              "      <td>xgboost</td>\n",
              "      <td>0.984006</td>\n",
              "      <td>1.0000</td>\n",
              "    </tr>\n",
              "  </tbody>\n",
              "</table>\n",
              "</div>"
            ],
            "text/plain": [
              "  vectorizer        model  avg cross_val  test roc_auc\n",
              "0      Count      xgboost       0.984006        1.0000\n",
              "1      Count  Naive Bayes       0.950537        0.9988\n",
              "2      Tfidf      xgboost       0.984006        1.0000"
            ]
          },
          "metadata": {
            "tags": []
          },
          "execution_count": 72
        }
      ]
    },
    {
      "metadata": {
        "id": "7QM1cr4sxuwt",
        "colab_type": "code",
        "colab": {
          "base_uri": "https://localhost:8080/",
          "height": 34
        },
        "outputId": "7ed8883f-7b83-499c-cdd8-0cf9c21884db"
      },
      "cell_type": "code",
      "source": [
        "bayes.fit(X_train_vectorized, y_train)\n",
        "bscores = cross_val_score(bayes, X_train_vectorized, y_train, cv=5, scoring='roc_auc')\n",
        "mean_bscore = sum(bscores) / len(bscores)\n",
        "mean_bscore"
      ],
      "execution_count": 73,
      "outputs": [
        {
          "output_type": "execute_result",
          "data": {
            "text/plain": [
              "0.9555270481550968"
            ]
          },
          "metadata": {
            "tags": []
          },
          "execution_count": 73
        }
      ]
    },
    {
      "metadata": {
        "id": "m0K_WNFYyGTS",
        "colab_type": "code",
        "colab": {
          "base_uri": "https://localhost:8080/",
          "height": 34
        },
        "outputId": "ccab076c-a2be-463c-a523-c8c2f092d15f"
      },
      "cell_type": "code",
      "source": [
        "bayes.fit(X_test_vectorized, y_test)\n",
        "y_score = bayes.predict_proba(X_test_vectorized)[:, 1]\n",
        "test_bscore = roc_auc_score(y_test, y_score)\n",
        "\n",
        "test_bscore"
      ],
      "execution_count": 74,
      "outputs": [
        {
          "output_type": "execute_result",
          "data": {
            "text/plain": [
              "0.9991996798719487"
            ]
          },
          "metadata": {
            "tags": []
          },
          "execution_count": 74
        }
      ]
    },
    {
      "metadata": {
        "id": "YfMRJeYYyQRz",
        "colab_type": "code",
        "colab": {}
      },
      "cell_type": "code",
      "source": [
        "row4 = ['Tfidf', 'Naive Bayes', mean_bscore, test_bscore]\n",
        "model_comp.loc[3] = row4"
      ],
      "execution_count": 0,
      "outputs": []
    },
    {
      "metadata": {
        "id": "tePRB4zjyX_N",
        "colab_type": "code",
        "colab": {
          "base_uri": "https://localhost:8080/",
          "height": 166
        },
        "outputId": "ef0c1fa6-4a65-4179-ac59-0467a2cf8b2a"
      },
      "cell_type": "code",
      "source": [
        "model_comp"
      ],
      "execution_count": 76,
      "outputs": [
        {
          "output_type": "execute_result",
          "data": {
            "text/html": [
              "<div>\n",
              "<style scoped>\n",
              "    .dataframe tbody tr th:only-of-type {\n",
              "        vertical-align: middle;\n",
              "    }\n",
              "\n",
              "    .dataframe tbody tr th {\n",
              "        vertical-align: top;\n",
              "    }\n",
              "\n",
              "    .dataframe thead th {\n",
              "        text-align: right;\n",
              "    }\n",
              "</style>\n",
              "<table border=\"1\" class=\"dataframe\">\n",
              "  <thead>\n",
              "    <tr style=\"text-align: right;\">\n",
              "      <th></th>\n",
              "      <th>vectorizer</th>\n",
              "      <th>model</th>\n",
              "      <th>avg cross_val</th>\n",
              "      <th>test roc_auc</th>\n",
              "    </tr>\n",
              "  </thead>\n",
              "  <tbody>\n",
              "    <tr>\n",
              "      <th>0</th>\n",
              "      <td>Count</td>\n",
              "      <td>xgboost</td>\n",
              "      <td>0.984006</td>\n",
              "      <td>1.0000</td>\n",
              "    </tr>\n",
              "    <tr>\n",
              "      <th>1</th>\n",
              "      <td>Count</td>\n",
              "      <td>Naive Bayes</td>\n",
              "      <td>0.950537</td>\n",
              "      <td>0.9988</td>\n",
              "    </tr>\n",
              "    <tr>\n",
              "      <th>2</th>\n",
              "      <td>Tfidf</td>\n",
              "      <td>xgboost</td>\n",
              "      <td>0.984006</td>\n",
              "      <td>1.0000</td>\n",
              "    </tr>\n",
              "    <tr>\n",
              "      <th>3</th>\n",
              "      <td>Tfidf</td>\n",
              "      <td>Naive Bayes</td>\n",
              "      <td>0.955527</td>\n",
              "      <td>0.9992</td>\n",
              "    </tr>\n",
              "  </tbody>\n",
              "</table>\n",
              "</div>"
            ],
            "text/plain": [
              "  vectorizer        model  avg cross_val  test roc_auc\n",
              "0      Count      xgboost       0.984006        1.0000\n",
              "1      Count  Naive Bayes       0.950537        0.9988\n",
              "2      Tfidf      xgboost       0.984006        1.0000\n",
              "3      Tfidf  Naive Bayes       0.955527        0.9992"
            ]
          },
          "metadata": {
            "tags": []
          },
          "execution_count": 76
        }
      ]
    },
    {
      "metadata": {
        "id": "vlclSdSSveq-",
        "colab_type": "text"
      },
      "cell_type": "markdown",
      "source": [
        "# Stretch Goals\n",
        "\n",
        "- Try some agglomerative clustering using cosine-similarity-distance! (works better with high dimensional spaces) robust clustering - Agglomerative clustering like Ward would be cool. Try and create an awesome Dendrogram of the most important terms from the dataset.\n",
        "\n",
        "- Awesome resource for clustering stretch goals: \n",
        " - Agglomerative Clustering with Scipy: <https://joernhees.de/blog/2015/08/26/scipy-hierarchical-clustering-and-dendrogram-tutorial/>\n",
        " - Agglomerative Clustering for NLP: <http://brandonrose.org/clustering>\n",
        " \n",
        "- Use Latent Dirichlet Allocation (LDA) to perform topic modeling on the dataset: \n",
        " - Topic Modeling and LDA in Python: <https://towardsdatascience.com/topic-modeling-and-latent-dirichlet-allocation-in-python-9bf156893c24>\n",
        " - Topic Modeling and LDA using Gensim: <https://www.machinelearningplus.com/nlp/topic-modeling-gensim-python/>\n"
      ]
    },
    {
      "metadata": {
        "id": "nKC23fBXqz0R",
        "colab_type": "code",
        "colab": {}
      },
      "cell_type": "code",
      "source": [
        ""
      ],
      "execution_count": 0,
      "outputs": []
    }
  ]
}