{
  "nbformat": 4,
  "nbformat_minor": 0,
  "metadata": {
    "colab": {
      "name": "LS_DS_423_Document_Classification_Assignment.ipynb",
      "version": "0.3.2",
      "provenance": [],
      "collapsed_sections": [],
      "include_colab_link": true
    },
    "kernelspec": {
      "name": "python3",
      "display_name": "Python 3"
    }
  },
  "cells": [
    {
      "cell_type": "markdown",
      "metadata": {
        "id": "view-in-github",
        "colab_type": "text"
      },
      "source": [
        "<a href=\"https://colab.research.google.com/github/aaptecode/DS-Unit-4-Sprint-2-NLP/blob/master/LS_DS_423_Document_Classification_Assignment.ipynb\" target=\"_parent\"><img src=\"https://colab.research.google.com/assets/colab-badge.svg\" alt=\"Open In Colab\"/></a>"
      ]
    },
    {
      "metadata": {
        "id": "-OJHr-tbuSuI",
        "colab_type": "text"
      },
      "cell_type": "markdown",
      "source": [
        "# Now it's your turn!\n",
        "\n",
        "Use the following dataset of scraped \"Data Scientist\" and \"Data Analyst\" job listings to create your own Document Classification Models.\n",
        "\n",
        "<https://raw.githubusercontent.com/LambdaSchool/DS-Unit-4-Sprint-2-NLP/master/module3-Document-Classification/job_listings.csv>\n",
        "\n",
        "Requirements:\n",
        "\n",
        "- Apply both CountVectorizer and TfidfVectorizer methods to this data and compare results\n",
        "- Use at least two different classification models to compare differences in model accuracy\n",
        "- Try to \"Hyperparameter Tune\" your model by using different n_gram ranges, max_results, and data cleaning methods\n",
        "- Try and get the highest accuracy possible!"
      ]
    },
    {
      "metadata": {
        "id": "CECQcS4_WnjW",
        "colab_type": "text"
      },
      "cell_type": "markdown",
      "source": [
        "## Import Packages"
      ]
    },
    {
      "metadata": {
        "id": "MFreAPN3uGgz",
        "colab_type": "code",
        "colab": {}
      },
      "cell_type": "code",
      "source": [
        "##### Your Code Here #####\n",
        "import matplotlib.pyplot as plt\n",
        "import matplotlib.style as style\n",
        "import numpy as np\n",
        "import pandas as pd\n",
        "import warnings\n",
        "\n",
        "style.use('seaborn-whitegrid')\n",
        "warnings.filterwarnings('ignore')"
      ],
      "execution_count": 0,
      "outputs": []
    },
    {
      "metadata": {
        "id": "JXpWPkfdWq05",
        "colab_type": "text"
      },
      "cell_type": "markdown",
      "source": [
        "## Data Prep and Cleanup"
      ]
    },
    {
      "metadata": {
        "id": "_ehnodpO5c4j",
        "colab_type": "code",
        "colab": {
          "base_uri": "https://localhost:8080/",
          "height": 220
        },
        "outputId": "39c82a03-94d2-4c99-8f76-0539dc0b7e36"
      },
      "cell_type": "code",
      "source": [
        "url = 'https://raw.githubusercontent.com/LambdaSchool/DS-Unit-4-Sprint-2-NLP/master/module3-Document-Classification/job_listings.csv'\n",
        "\n",
        "df = pd.read_csv(url)\n",
        "\n",
        "print(df.shape)\n",
        "\n",
        "df.head()"
      ],
      "execution_count": 71,
      "outputs": [
        {
          "output_type": "stream",
          "text": [
            "(500, 3)\n"
          ],
          "name": "stdout"
        },
        {
          "output_type": "execute_result",
          "data": {
            "text/html": [
              "<div>\n",
              "<style scoped>\n",
              "    .dataframe tbody tr th:only-of-type {\n",
              "        vertical-align: middle;\n",
              "    }\n",
              "\n",
              "    .dataframe tbody tr th {\n",
              "        vertical-align: top;\n",
              "    }\n",
              "\n",
              "    .dataframe thead th {\n",
              "        text-align: right;\n",
              "    }\n",
              "</style>\n",
              "<table border=\"1\" class=\"dataframe\">\n",
              "  <thead>\n",
              "    <tr style=\"text-align: right;\">\n",
              "      <th></th>\n",
              "      <th>description</th>\n",
              "      <th>title</th>\n",
              "      <th>job</th>\n",
              "    </tr>\n",
              "  </thead>\n",
              "  <tbody>\n",
              "    <tr>\n",
              "      <th>0</th>\n",
              "      <td>b\"&lt;div&gt;&lt;div&gt;Job Requirements:&lt;/div&gt;&lt;ul&gt;&lt;li&gt;&lt;p&gt;...</td>\n",
              "      <td>Data scientist</td>\n",
              "      <td>Data Scientist</td>\n",
              "    </tr>\n",
              "    <tr>\n",
              "      <th>1</th>\n",
              "      <td>b'&lt;div&gt;Job Description&lt;br/&gt;\\n&lt;br/&gt;\\n&lt;p&gt;As a Da...</td>\n",
              "      <td>Data Scientist I</td>\n",
              "      <td>Data Scientist</td>\n",
              "    </tr>\n",
              "    <tr>\n",
              "      <th>2</th>\n",
              "      <td>b'&lt;div&gt;&lt;p&gt;As a Data Scientist you will be work...</td>\n",
              "      <td>Data Scientist - Entry Level</td>\n",
              "      <td>Data Scientist</td>\n",
              "    </tr>\n",
              "    <tr>\n",
              "      <th>3</th>\n",
              "      <td>b'&lt;div class=\"jobsearch-JobMetadataHeader icl-...</td>\n",
              "      <td>Data Scientist</td>\n",
              "      <td>Data Scientist</td>\n",
              "    </tr>\n",
              "    <tr>\n",
              "      <th>4</th>\n",
              "      <td>b'&lt;ul&gt;&lt;li&gt;Location: USA \\xe2\\x80\\x93 multiple ...</td>\n",
              "      <td>Data Scientist</td>\n",
              "      <td>Data Scientist</td>\n",
              "    </tr>\n",
              "  </tbody>\n",
              "</table>\n",
              "</div>"
            ],
            "text/plain": [
              "                                         description  \\\n",
              "0  b\"<div><div>Job Requirements:</div><ul><li><p>...   \n",
              "1  b'<div>Job Description<br/>\\n<br/>\\n<p>As a Da...   \n",
              "2  b'<div><p>As a Data Scientist you will be work...   \n",
              "3  b'<div class=\"jobsearch-JobMetadataHeader icl-...   \n",
              "4  b'<ul><li>Location: USA \\xe2\\x80\\x93 multiple ...   \n",
              "\n",
              "                          title             job  \n",
              "0               Data scientist   Data Scientist  \n",
              "1              Data Scientist I  Data Scientist  \n",
              "2  Data Scientist - Entry Level  Data Scientist  \n",
              "3                Data Scientist  Data Scientist  \n",
              "4                Data Scientist  Data Scientist  "
            ]
          },
          "metadata": {
            "tags": []
          },
          "execution_count": 71
        }
      ]
    },
    {
      "metadata": {
        "id": "ctB418Aq5-Jo",
        "colab_type": "code",
        "colab": {
          "base_uri": "https://localhost:8080/",
          "height": 86
        },
        "outputId": "544faadc-1d62-4a8d-b4b8-1782a9275015"
      },
      "cell_type": "code",
      "source": [
        "df.isnull().sum()"
      ],
      "execution_count": 72,
      "outputs": [
        {
          "output_type": "execute_result",
          "data": {
            "text/plain": [
              "description    1\n",
              "title          1\n",
              "job            0\n",
              "dtype: int64"
            ]
          },
          "metadata": {
            "tags": []
          },
          "execution_count": 72
        }
      ]
    },
    {
      "metadata": {
        "id": "AMJt2gDSVpJM",
        "colab_type": "code",
        "colab": {
          "base_uri": "https://localhost:8080/",
          "height": 86
        },
        "outputId": "a2a50fd7-2cd1-4962-f785-f15fb97bcf83"
      },
      "cell_type": "code",
      "source": [
        "df = df[pd.notnull(df['description'])]\n",
        "\n",
        "df.isnull().sum()"
      ],
      "execution_count": 73,
      "outputs": [
        {
          "output_type": "execute_result",
          "data": {
            "text/plain": [
              "description    0\n",
              "title          0\n",
              "job            0\n",
              "dtype: int64"
            ]
          },
          "metadata": {
            "tags": []
          },
          "execution_count": 73
        }
      ]
    },
    {
      "metadata": {
        "id": "p9DBoOEBXRdV",
        "colab_type": "code",
        "colab": {
          "base_uri": "https://localhost:8080/",
          "height": 34
        },
        "outputId": "6b83e394-1db7-4c85-eea3-c2284a6fc2cf"
      },
      "cell_type": "code",
      "source": [
        "len(df)-len(df.drop_duplicates('description', keep='first'))"
      ],
      "execution_count": 81,
      "outputs": [
        {
          "output_type": "execute_result",
          "data": {
            "text/plain": [
              "76"
            ]
          },
          "metadata": {
            "tags": []
          },
          "execution_count": 81
        }
      ]
    },
    {
      "metadata": {
        "id": "EkgTrLVrXSwG",
        "colab_type": "code",
        "colab": {
          "base_uri": "https://localhost:8080/",
          "height": 34
        },
        "outputId": "b9a3fc8b-8c57-459c-d1ce-10ca039a7155"
      },
      "cell_type": "code",
      "source": [
        "df=df.drop_duplicates('description', keep='first')\n",
        "df.shape"
      ],
      "execution_count": 83,
      "outputs": [
        {
          "output_type": "execute_result",
          "data": {
            "text/plain": [
              "(423, 4)"
            ]
          },
          "metadata": {
            "tags": []
          },
          "execution_count": 83
        }
      ]
    },
    {
      "metadata": {
        "id": "FWtwGzhqV3Gn",
        "colab_type": "code",
        "colab": {
          "base_uri": "https://localhost:8080/",
          "height": 69
        },
        "outputId": "a4e9eadf-3f60-46ad-dfc8-6266000f1ede"
      },
      "cell_type": "code",
      "source": [
        "df.job.value_counts()"
      ],
      "execution_count": 84,
      "outputs": [
        {
          "output_type": "execute_result",
          "data": {
            "text/plain": [
              "Data Scientist    215\n",
              "Data Analyst      208\n",
              "Name: job, dtype: int64"
            ]
          },
          "metadata": {
            "tags": []
          },
          "execution_count": 84
        }
      ]
    },
    {
      "metadata": {
        "id": "ptwBiTrFbFG4",
        "colab_type": "code",
        "colab": {
          "base_uri": "https://localhost:8080/",
          "height": 202
        },
        "outputId": "2b54cd2e-e930-4a64-95cc-39d30c76850d"
      },
      "cell_type": "code",
      "source": [
        "df['job_label'] = df.job.map({'Data Analyst': 0, 'Data Scientist': 1}) # Easy Encoder\n",
        "\n",
        "df.head()"
      ],
      "execution_count": 85,
      "outputs": [
        {
          "output_type": "execute_result",
          "data": {
            "text/html": [
              "<div>\n",
              "<style scoped>\n",
              "    .dataframe tbody tr th:only-of-type {\n",
              "        vertical-align: middle;\n",
              "    }\n",
              "\n",
              "    .dataframe tbody tr th {\n",
              "        vertical-align: top;\n",
              "    }\n",
              "\n",
              "    .dataframe thead th {\n",
              "        text-align: right;\n",
              "    }\n",
              "</style>\n",
              "<table border=\"1\" class=\"dataframe\">\n",
              "  <thead>\n",
              "    <tr style=\"text-align: right;\">\n",
              "      <th></th>\n",
              "      <th>description</th>\n",
              "      <th>title</th>\n",
              "      <th>job</th>\n",
              "      <th>job_label</th>\n",
              "    </tr>\n",
              "  </thead>\n",
              "  <tbody>\n",
              "    <tr>\n",
              "      <th>0</th>\n",
              "      <td>b\"&lt;div&gt;&lt;div&gt;Job Requirements:&lt;/div&gt;&lt;ul&gt;&lt;li&gt;&lt;p&gt;...</td>\n",
              "      <td>Data scientist</td>\n",
              "      <td>Data Scientist</td>\n",
              "      <td>1</td>\n",
              "    </tr>\n",
              "    <tr>\n",
              "      <th>1</th>\n",
              "      <td>b'&lt;div&gt;Job Description&lt;br/&gt;\\n&lt;br/&gt;\\n&lt;p&gt;As a Da...</td>\n",
              "      <td>Data Scientist I</td>\n",
              "      <td>Data Scientist</td>\n",
              "      <td>1</td>\n",
              "    </tr>\n",
              "    <tr>\n",
              "      <th>2</th>\n",
              "      <td>b'&lt;div&gt;&lt;p&gt;As a Data Scientist you will be work...</td>\n",
              "      <td>Data Scientist - Entry Level</td>\n",
              "      <td>Data Scientist</td>\n",
              "      <td>1</td>\n",
              "    </tr>\n",
              "    <tr>\n",
              "      <th>3</th>\n",
              "      <td>b'&lt;div class=\"jobsearch-JobMetadataHeader icl-...</td>\n",
              "      <td>Data Scientist</td>\n",
              "      <td>Data Scientist</td>\n",
              "      <td>1</td>\n",
              "    </tr>\n",
              "    <tr>\n",
              "      <th>4</th>\n",
              "      <td>b'&lt;ul&gt;&lt;li&gt;Location: USA \\xe2\\x80\\x93 multiple ...</td>\n",
              "      <td>Data Scientist</td>\n",
              "      <td>Data Scientist</td>\n",
              "      <td>1</td>\n",
              "    </tr>\n",
              "  </tbody>\n",
              "</table>\n",
              "</div>"
            ],
            "text/plain": [
              "                                         description  \\\n",
              "0  b\"<div><div>Job Requirements:</div><ul><li><p>...   \n",
              "1  b'<div>Job Description<br/>\\n<br/>\\n<p>As a Da...   \n",
              "2  b'<div><p>As a Data Scientist you will be work...   \n",
              "3  b'<div class=\"jobsearch-JobMetadataHeader icl-...   \n",
              "4  b'<ul><li>Location: USA \\xe2\\x80\\x93 multiple ...   \n",
              "\n",
              "                          title             job  job_label  \n",
              "0               Data scientist   Data Scientist          1  \n",
              "1              Data Scientist I  Data Scientist          1  \n",
              "2  Data Scientist - Entry Level  Data Scientist          1  \n",
              "3                Data Scientist  Data Scientist          1  \n",
              "4                Data Scientist  Data Scientist          1  "
            ]
          },
          "metadata": {
            "tags": []
          },
          "execution_count": 85
        }
      ]
    },
    {
      "metadata": {
        "id": "2TGp0wJjb8cN",
        "colab_type": "code",
        "colab": {
          "base_uri": "https://localhost:8080/",
          "height": 69
        },
        "outputId": "781a89cf-1a43-415c-89dd-32fed54ac244"
      },
      "cell_type": "code",
      "source": [
        "df['job_label'].value_counts()"
      ],
      "execution_count": 86,
      "outputs": [
        {
          "output_type": "execute_result",
          "data": {
            "text/plain": [
              "1    215\n",
              "0    208\n",
              "Name: job_label, dtype: int64"
            ]
          },
          "metadata": {
            "tags": []
          },
          "execution_count": 86
        }
      ]
    },
    {
      "metadata": {
        "id": "ctTh3ZJMdh23",
        "colab_type": "code",
        "colab": {
          "base_uri": "https://localhost:8080/",
          "height": 34
        },
        "outputId": "8a727230-dead-4891-daf8-b8b5d6de12a9"
      },
      "cell_type": "code",
      "source": [
        "y = df['job_label']\n",
        "X = df['description']\n",
        "\n",
        "X.shape, y.shape"
      ],
      "execution_count": 87,
      "outputs": [
        {
          "output_type": "execute_result",
          "data": {
            "text/plain": [
              "((423,), (423,))"
            ]
          },
          "metadata": {
            "tags": []
          },
          "execution_count": 87
        }
      ]
    },
    {
      "metadata": {
        "id": "RWfEK7gFpTCe",
        "colab_type": "code",
        "colab": {}
      },
      "cell_type": "code",
      "source": [
        "# vectorizer = cv\n",
        "\n",
        "# vectorizer.fit(X_train)\n",
        "# print(vectorizer.vocabulary_)\n",
        "# print(len(vectorizer.vocabulary_))"
      ],
      "execution_count": 0,
      "outputs": []
    },
    {
      "metadata": {
        "id": "2sMFpWHWpYUR",
        "colab_type": "code",
        "colab": {}
      },
      "cell_type": "code",
      "source": [
        "# train_word_counts = vectorizer.transform(X_train)\n",
        "# test_word_counts = vectorizer.transform(X_test)"
      ],
      "execution_count": 0,
      "outputs": []
    },
    {
      "metadata": {
        "id": "XTobA_YRehXg",
        "colab_type": "text"
      },
      "cell_type": "markdown",
      "source": [
        "## Report Function"
      ]
    },
    {
      "metadata": {
        "id": "XqQXM-g0hnTW",
        "colab_type": "code",
        "colab": {}
      },
      "cell_type": "code",
      "source": [
        "from sklearn.ensemble import RandomForestClassifier\n",
        "from sklearn.feature_extraction.text import CountVectorizer\n",
        "from sklearn.feature_extraction.text import TfidfVectorizer\n",
        "from sklearn.linear_model import LogisticRegression\n",
        "from sklearn.metrics import accuracy_score\n",
        "from sklearn.model_selection import train_test_split\n",
        "from sklearn.naive_bayes import MultinomialNB\n",
        "\n",
        "# Vectorizers\n",
        "cv = CountVectorizer(max_features=None, ngram_range=(1,1), stop_words='english')\n",
        "tfidf = TfidfVectorizer(max_features=None, ngram_range=(1,1), stop_words='english')\n",
        "\n",
        "# Classifiers\n",
        "LR = LogisticRegression(solver='lbfgs',random_state=237)\n",
        "MNB = MultinomialNB()\n",
        "RF = RandomForestClassifier()\n",
        "\n",
        "results = {}"
      ],
      "execution_count": 0,
      "outputs": []
    },
    {
      "metadata": {
        "id": "UprDKDk9glnL",
        "colab_type": "code",
        "colab": {}
      },
      "cell_type": "code",
      "source": [
        "def vectorizer_report(vectorizer, model, X, y):\n",
        "    '''Produces accuracy results for a given vectorizer'''\n",
        "    \n",
        "    X_train, X_test, y_train, y_test = train_test_split(X, y, test_size=0.2, random_state=237)\n",
        "    \n",
        "    vectorizer.fit(X_train)\n",
        "    train_word_counts = vectorizer.transform(X_train)\n",
        "    test_word_counts = vectorizer.transform(X_test)\n",
        "    \n",
        "#     X_train_vectorized = pd.DataFrame(train_word_counts.toarray(), columns=vectorizer.get_feature_names())\n",
        "#     X_test_vectorized = pd.DataFrame(test_word_counts.toarray(), columns=vectorizer.get_feature_names())\n",
        "    \n",
        "    model.fit(train_word_counts, y_train)\n",
        "    train_predictions = model.predict(train_word_counts)\n",
        "    test_predictions = model.predict(test_word_counts)\n",
        "    \n",
        "    print('REPORT\\n')\n",
        "    print(f'Train Accuracy:  {round(accuracy_score(y_train, train_predictions),6)}')\n",
        "    print(f' Test Accuracy:  {round(accuracy_score(y_test, test_predictions),6)}')\n",
        "    print()\n",
        "    confusion_matrix = pd.crosstab(y_test, test_predictions, rownames=['Actual'], colnames=['Predicted'])\n",
        "    precision = confusion_matrix[1][1] / (confusion_matrix[1][1] + confusion_matrix[1][0])\n",
        "    recall = confusion_matrix[1][1] / (confusion_matrix[1][1] +  confusion_matrix[0][1])\n",
        "    f1_score = 2*(precision * recall)/(precision + recall)\n",
        "    print(f'Precision:  {round(precision, 6)}')\n",
        "    print(f'   Recall:  {round(recall, 6)}')\n",
        "    print(f' F1-score:  {round(f1_score, 6)}')\n",
        "    print()\n",
        "    print(confusion_matrix)\n",
        "    \n",
        "    return accuracy_score(y_test, test_predictions)"
      ],
      "execution_count": 0,
      "outputs": []
    },
    {
      "metadata": {
        "id": "P79MA0GdkJBi",
        "colab_type": "text"
      },
      "cell_type": "markdown",
      "source": [
        "### Count Vectorizer"
      ]
    },
    {
      "metadata": {
        "id": "nbF_xAC8kQFY",
        "colab_type": "text"
      },
      "cell_type": "markdown",
      "source": [
        "#### Logistic Regression"
      ]
    },
    {
      "metadata": {
        "id": "o8u5D3StiLHO",
        "colab_type": "code",
        "colab": {
          "base_uri": "https://localhost:8080/",
          "height": 242
        },
        "outputId": "1f08776b-7bbe-4df1-9eba-48e7d246b773"
      },
      "cell_type": "code",
      "source": [
        "results['cv_LR'] = vectorizer_report(cv,LR, X, y)"
      ],
      "execution_count": 89,
      "outputs": [
        {
          "output_type": "stream",
          "text": [
            "REPORT\n",
            "\n",
            "Train Accuracy:  1.0\n",
            " Test Accuracy:  0.870588\n",
            "\n",
            "Precision:  0.888889\n",
            "   Recall:  0.869565\n",
            " F1-score:  0.879121\n",
            "\n",
            "Predicted   0   1\n",
            "Actual           \n",
            "0          34   5\n",
            "1           6  40\n"
          ],
          "name": "stdout"
        }
      ]
    },
    {
      "metadata": {
        "id": "XbLTeYmakTdc",
        "colab_type": "text"
      },
      "cell_type": "markdown",
      "source": [
        "#### Multinomial Naive Bayes"
      ]
    },
    {
      "metadata": {
        "id": "MD20WRYekgQN",
        "colab_type": "code",
        "colab": {
          "base_uri": "https://localhost:8080/",
          "height": 242
        },
        "outputId": "4bc60282-cc96-414e-9624-6cbda8b5daa7"
      },
      "cell_type": "code",
      "source": [
        "results['cv_MNB'] = vectorizer_report(cv,MNB, X, y)"
      ],
      "execution_count": 90,
      "outputs": [
        {
          "output_type": "stream",
          "text": [
            "REPORT\n",
            "\n",
            "Train Accuracy:  0.970414\n",
            " Test Accuracy:  0.882353\n",
            "\n",
            "Precision:  0.875\n",
            "   Recall:  0.913043\n",
            " F1-score:  0.893617\n",
            "\n",
            "Predicted   0   1\n",
            "Actual           \n",
            "0          33   6\n",
            "1           4  42\n"
          ],
          "name": "stdout"
        }
      ]
    },
    {
      "metadata": {
        "id": "5C_QVIsakWsb",
        "colab_type": "text"
      },
      "cell_type": "markdown",
      "source": [
        "#### Random Forest"
      ]
    },
    {
      "metadata": {
        "id": "2dUTN3clkgrJ",
        "colab_type": "code",
        "colab": {
          "base_uri": "https://localhost:8080/",
          "height": 242
        },
        "outputId": "538e138f-3d2b-4236-9d73-5f49f4d60700"
      },
      "cell_type": "code",
      "source": [
        "results['cv_RF'] = vectorizer_report(cv,RF, X, y)"
      ],
      "execution_count": 91,
      "outputs": [
        {
          "output_type": "stream",
          "text": [
            "REPORT\n",
            "\n",
            "Train Accuracy:  0.994083\n",
            " Test Accuracy:  0.811765\n",
            "\n",
            "Precision:  0.875\n",
            "   Recall:  0.76087\n",
            " F1-score:  0.813953\n",
            "\n",
            "Predicted   0   1\n",
            "Actual           \n",
            "0          34   5\n",
            "1          11  35\n"
          ],
          "name": "stdout"
        }
      ]
    },
    {
      "metadata": {
        "id": "IfU6ndYikLt5",
        "colab_type": "text"
      },
      "cell_type": "markdown",
      "source": [
        "### TFIDF Vectorizer"
      ]
    },
    {
      "metadata": {
        "colab_type": "text",
        "id": "_J2bNMu5kcf7"
      },
      "cell_type": "markdown",
      "source": [
        "#### Logistic Regression"
      ]
    },
    {
      "metadata": {
        "id": "H1VdiO_ikdLu",
        "colab_type": "code",
        "colab": {
          "base_uri": "https://localhost:8080/",
          "height": 242
        },
        "outputId": "5196ea3c-a853-4db2-fb86-f928a5e382da"
      },
      "cell_type": "code",
      "source": [
        "results['tfidf_LR'] = vectorizer_report(tfidf,LR, X, y)"
      ],
      "execution_count": 92,
      "outputs": [
        {
          "output_type": "stream",
          "text": [
            "REPORT\n",
            "\n",
            "Train Accuracy:  0.964497\n",
            " Test Accuracy:  0.870588\n",
            "\n",
            "Precision:  0.926829\n",
            "   Recall:  0.826087\n",
            " F1-score:  0.873563\n",
            "\n",
            "Predicted   0   1\n",
            "Actual           \n",
            "0          36   3\n",
            "1           8  38\n"
          ],
          "name": "stdout"
        }
      ]
    },
    {
      "metadata": {
        "colab_type": "text",
        "id": "ThnyxP8Kkcf8"
      },
      "cell_type": "markdown",
      "source": [
        "#### Multinomial Naive Bayes"
      ]
    },
    {
      "metadata": {
        "id": "vnbLGgnmkdkQ",
        "colab_type": "code",
        "colab": {
          "base_uri": "https://localhost:8080/",
          "height": 242
        },
        "outputId": "d076b877-8cec-484b-da7c-da020f36588c"
      },
      "cell_type": "code",
      "source": [
        "results['tfidf_MNB'] = vectorizer_report(tfidf,MNB, X, y)"
      ],
      "execution_count": 93,
      "outputs": [
        {
          "output_type": "stream",
          "text": [
            "REPORT\n",
            "\n",
            "Train Accuracy:  0.967456\n",
            " Test Accuracy:  0.847059\n",
            "\n",
            "Precision:  0.823529\n",
            "   Recall:  0.913043\n",
            " F1-score:  0.865979\n",
            "\n",
            "Predicted   0   1\n",
            "Actual           \n",
            "0          30   9\n",
            "1           4  42\n"
          ],
          "name": "stdout"
        }
      ]
    },
    {
      "metadata": {
        "colab_type": "text",
        "id": "FgY41l9dkcf9"
      },
      "cell_type": "markdown",
      "source": [
        "#### Random Forest"
      ]
    },
    {
      "metadata": {
        "id": "BpnVhb6nkd8F",
        "colab_type": "code",
        "colab": {
          "base_uri": "https://localhost:8080/",
          "height": 242
        },
        "outputId": "a561cdfe-2b15-441c-e06a-04f2cddc32cb"
      },
      "cell_type": "code",
      "source": [
        "results['tfidf_RF'] = vectorizer_report(tfidf,RF, X, y)"
      ],
      "execution_count": 94,
      "outputs": [
        {
          "output_type": "stream",
          "text": [
            "REPORT\n",
            "\n",
            "Train Accuracy:  0.997041\n",
            " Test Accuracy:  0.835294\n",
            "\n",
            "Precision:  0.880952\n",
            "   Recall:  0.804348\n",
            " F1-score:  0.840909\n",
            "\n",
            "Predicted   0   1\n",
            "Actual           \n",
            "0          34   5\n",
            "1           9  37\n"
          ],
          "name": "stdout"
        }
      ]
    },
    {
      "metadata": {
        "id": "7Yqx4gg5o4WC",
        "colab_type": "code",
        "colab": {
          "base_uri": "https://localhost:8080/",
          "height": 612
        },
        "outputId": "59e4136b-1120-4463-a8f8-6317257594ad"
      },
      "cell_type": "code",
      "source": [
        "pd.DataFrame.from_records([results]).T.plot.bar(color=[plt.cm.Paired(np.arange(len(df)))],\n",
        "                                                 alpha = 1, \n",
        "                                                 title = 'Accuracy Results',\n",
        "                                                 legend = False,\n",
        "                                                 yticks=[i*1.0/20 for i in range(0,21)],\n",
        "                                                 fontsize = 14, \n",
        "                                                 rot = 0,\n",
        "                                                 position = 0.5,\n",
        "                                                 figsize=(10,10));"
      ],
      "execution_count": 95,
      "outputs": [
        {
          "output_type": "display_data",
          "data": {
            "image/png": "[encoded data removed]",
            "text/plain": [
              "<Figure size 720x720 with 1 Axes>"
            ]
          },
          "metadata": {
            "tags": []
          }
        }
      ]
    },
    {
      "metadata": {
        "id": "vlclSdSSveq-",
        "colab_type": "text"
      },
      "cell_type": "markdown",
      "source": [
        "# Stretch Goals\n",
        "\n",
        "- Try some agglomerative clustering using cosine-similarity-distance! (works better with high dimensional spaces) robust clustering - Agglomerative clustering like Ward would be cool. Try and create an awesome Dendrogram of the most important terms from the dataset.\n",
        "\n",
        "- Awesome resource for clustering stretch goals: \n",
        " - Agglomerative Clustering with Scipy: <https://joernhees.de/blog/2015/08/26/scipy-hierarchical-clustering-and-dendrogram-tutorial/>\n",
        " - Agglomerative Clustering for NLP: <http://brandonrose.org/clustering>\n",
        " \n",
        "- Use Latent Dirichlet Allocation (LDA) to perform topic modeling on the dataset: \n",
        " - Topic Modeling and LDA in Python: <https://towardsdatascience.com/topic-modeling-and-latent-dirichlet-allocation-in-python-9bf156893c24>\n",
        " - Topic Modeling and LDA using Gensim: <https://www.machinelearningplus.com/nlp/topic-modeling-gensim-python/>\n"
      ]
    }
  ]
}