{
 "cells": [
  {
   "cell_type": "markdown",
   "metadata": {},
   "source": [
    "Lambda School Data Science\n",
    "\n",
    "*Unit 4, Sprint 1, Module 4*\n",
    "\n",
    "---"
   ]
  },
  {
   "cell_type": "markdown",
   "metadata": {},
   "source": [
    "# Topic Modeling (Prepare)\n",
    "\n",
    "On Monday we talked about summarizing your documents using just token counts. Today, we're going to learn about a much more sophisticated approach - learning 'topics' from documents. Topics are a latent structure. They are not directly observable in the data, but we know they're there by reading them.\n",
    "\n",
    "> **latent**: existing but not yet developed or manifest; hidden or concealed.\n",
    "\n",
    "## Use Cases\n",
    "Primary use case: what the hell are your documents about? Who might want to know that in industry - \n",
    "* Identifying common themes in customer reviews\n",
    "* Discovering the needle in a haystack \n",
    "* Monitoring communications (Email - State Department) \n",
    "\n",
    "## Learning Objectives\n",
    "*At the end of the lesson you should be able to:*\n",
    "* <a href=\"#p1\">Part 1</a>: Describe how an LDA Model works\n",
    "* <a href=\"#p2\">Part 2</a>: Estimate a LDA Model with Gensim\n",
    "* <a href=\"#p3\">Part 3</a>: Interpret LDA results\n",
    "* <a href=\"#p4\">Part 4</a>: Select the appropriate number of topics\n"
   ]
  },
  {
   "cell_type": "markdown",
   "metadata": {},
   "source": [
    "# Latent Dirchilet Allocation Models (Learn)\n",
    "<a id=\"#p1\"></a>"
   ]
  },
  {
   "cell_type": "markdown",
   "metadata": {},
   "source": [
    "## Overview\n",
    "LDA is a \"generative probabilistic model\". \n",
    "\n",
    "Let's play with a model available [here](https://lettier.com/projects/lda-topic-modeling/)"
   ]
  },
  {
   "cell_type": "markdown",
   "metadata": {},
   "source": [
    "## Follow Along"
   ]
  },
  {
   "cell_type": "markdown",
   "metadata": {},
   "source": [
    "## Challenge "
   ]
  },
  {
   "cell_type": "markdown",
   "metadata": {},
   "source": [
    "# Estimating LDA Models with Gensim (Learn)\n",
    "<a id=\"#p1\"></a>"
   ]
  },
  {
   "cell_type": "markdown",
   "metadata": {
    "toc-hr-collapsed": true
   },
   "source": [
    "## Overview\n",
    "### A Literary Introduction: *Jane Austen V. Charlotte Bronte*\n",
    "Despite being born nearly forty years apart, modern fans often pit Jane Austen & Charlotte Bronte against one another in a battle for literary  supremacy. The battle centers around the topics of education for women, courting, and marriage. The authors' similar backgrounds naturally draw comparisons, but the modern fascination is probably due to novelty of British women publishing novels during the early 19th century. \n",
    "\n",
    "Can we help close a literary battle for supremacy and simply acknowledge that the authors addressed different topics and deserve to be acknowledged as excellent authors each in their own right?\n",
    "\n",
    "We're going to apply Latent Dirichlet Allocation a machine learning algorithm for topic modeling to each of the author's novels to compare the distribution of topics in their novels."
   ]
  },
  {
   "cell_type": "code",
   "execution_count": 1,
   "metadata": {},
   "outputs": [],
   "source": [
    "import numpy as np\n",
    "import gensim\n",
    "import os\n",
    "import re\n",
    "\n",
    "from gensim.utils import simple_preprocess\n",
    "from gensim.parsing.preprocessing import STOPWORDS\n",
    "from gensim import corpora\n",
    "from gensim.models.ldamulticore import LdaMulticore\n",
    "\n",
    "import pandas as pd"
   ]
  },
  {
   "cell_type": "code",
   "execution_count": 2,
   "metadata": {},
   "outputs": [
    {
     "data": {
      "text/plain": [
       "'3.8.1'"
      ]
     },
     "execution_count": 2,
     "metadata": {},
     "output_type": "execute_result"
    }
   ],
   "source": [
    "gensim.__version__"
   ]
  },
  {
   "cell_type": "markdown",
   "metadata": {},
   "source": [
    "### Novel Data\n",
    "I grabbed the novel data pre-split into a bunch of smaller chunks"
   ]
  },
  {
   "cell_type": "code",
   "execution_count": 3,
   "metadata": {},
   "outputs": [],
   "source": [
    "path = './data/austen-brontë-split'"
   ]
  },
  {
   "cell_type": "markdown",
   "metadata": {},
   "source": [
    "### Text Preprocessing\n",
    "**Activity**: update the function `tokenize` with any technique you have learned so far this week. "
   ]
  },
  {
   "cell_type": "code",
   "execution_count": 4,
   "metadata": {},
   "outputs": [],
   "source": [
    "# 1) Plain Python - ''.split command\n",
    "# 2) Spacy - just the lemmas from the document\n",
    "# 3) Gensim - simple_preprocess\n",
    "\n",
    "STOPWORDS = set(STOPWORDS).union(set(['said', 'mr', 'mrs']))\n",
    "\n",
    "def tokenize(text):\n",
    "    return [token for token in simple_preprocess(text, max_len=40) if token not in STOPWORDS]"
   ]
  },
  {
   "cell_type": "code",
   "execution_count": 5,
   "metadata": {},
   "outputs": [
    {
     "data": {
      "text/plain": [
       "['example', 'gensim', 'simple_preprocess', 'utility', 'function']"
      ]
     },
     "execution_count": 5,
     "metadata": {},
     "output_type": "execute_result"
    }
   ],
   "source": [
    "ex_str = \"This is an example of Gensim         simple_preprocess utility function.\"\n",
    "tokenize(ex_str)"
   ]
  },
  {
   "cell_type": "code",
   "execution_count": 6,
   "metadata": {},
   "outputs": [
    {
     "data": {
      "text/plain": [
       "['example', 'gensim', 'simple_preprocess', 'utility', 'function']"
      ]
     },
     "execution_count": 6,
     "metadata": {},
     "output_type": "execute_result"
    }
   ],
   "source": [
    "from gensim.parsing.preprocessing import preprocess_string, strip_tags, strip_punctuation, strip_numeric, stem_text\n",
    "from gensim.parsing.preprocessing import strip_multiple_whitespaces, strip_non_alphanum, remove_stopwords, strip_short\n",
    "\n",
    "CUSTOM_FILTERS = [lambda x: x.lower(),         # Lowercase\n",
    "                  strip_multiple_whitespaces,  # Remove repeating white space\n",
    "                  strip_numeric,               # Remove numbers\n",
    "                  remove_stopwords,            # Remove stopwords\n",
    "                  strip_non_alphanum,          # Remove non-alpha numeric characters,\n",
    "                  strip_short                  # Remove words less than 3 characters long\n",
    "                  ]\n",
    "\n",
    "# Preprocess text with custom filters\n",
    "preprocess_string(ex_str, CUSTOM_FILTERS)"
   ]
  },
  {
   "cell_type": "code",
   "execution_count": 7,
   "metadata": {},
   "outputs": [],
   "source": [
    "import os\n",
    "\n",
    "def gather_data(path_to_data): \n",
    "    data = []\n",
    "    for f in os.listdir(path):\n",
    "        if os.path.isdir(f) == False:\n",
    "            if f[-3:] == 'txt':\n",
    "                with open(os.path.join(path,f)) as t:\n",
    "                    text = t.read().strip('\\n')\n",
    "                    data.append(tokenize(str(text)))       \n",
    "    return data"
   ]
  },
  {
   "cell_type": "code",
   "execution_count": 8,
   "metadata": {},
   "outputs": [],
   "source": [
    "tokens = gather_data(path)"
   ]
  },
  {
   "cell_type": "code",
   "execution_count": 9,
   "metadata": {},
   "outputs": [
    {
     "data": {
      "text/plain": [
       "['giving',\n",
       " 'fair',\n",
       " 'companion',\n",
       " 'account',\n",
       " 'yesterday',\n",
       " 'party',\n",
       " 'friend',\n",
       " 'cole',\n",
       " 'come',\n",
       " 'stilton']"
      ]
     },
     "execution_count": 9,
     "metadata": {},
     "output_type": "execute_result"
    }
   ],
   "source": [
    "tokens[0][0:10]"
   ]
  },
  {
   "cell_type": "code",
   "execution_count": 10,
   "metadata": {},
   "outputs": [
    {
     "data": {
      "text/plain": [
       "'this is a sample string with a  newline character'"
      ]
     },
     "execution_count": 10,
     "metadata": {},
     "output_type": "execute_result"
    }
   ],
   "source": [
    "ex_text = \"this is a sample string with a \\n newline character\".replace('\\n', '')\n",
    "ex_text"
   ]
  },
  {
   "cell_type": "code",
   "execution_count": 12,
   "metadata": {},
   "outputs": [
    {
     "data": {
      "text/plain": [
       "'this is a sample string with a newline character'"
      ]
     },
     "execution_count": 12,
     "metadata": {},
     "output_type": "execute_result"
    }
   ],
   "source": [
    "# Remove duplicate spaces\n",
    "' '.join(ex_text.split())"
   ]
  },
  {
   "cell_type": "markdown",
   "metadata": {
    "toc-hr-collapsed": true
   },
   "source": [
    "## Follow Along"
   ]
  },
  {
   "cell_type": "code",
   "execution_count": 13,
   "metadata": {},
   "outputs": [],
   "source": [
    "titles = [t[:-4] for t in os.listdir(path) if os.path.isdir(t) == False]"
   ]
  },
  {
   "cell_type": "code",
   "execution_count": 14,
   "metadata": {},
   "outputs": [
    {
     "data": {
      "text/plain": [
       "813"
      ]
     },
     "execution_count": 14,
     "metadata": {},
     "output_type": "execute_result"
    }
   ],
   "source": [
    "len(titles)"
   ]
  },
  {
   "cell_type": "code",
   "execution_count": 15,
   "metadata": {},
   "outputs": [
    {
     "data": {
      "text/plain": [
       "813"
      ]
     },
     "execution_count": 15,
     "metadata": {},
     "output_type": "execute_result"
    }
   ],
   "source": [
    "len(tokens)"
   ]
  },
  {
   "cell_type": "markdown",
   "metadata": {},
   "source": [
    "### Author DataFrame\n"
   ]
  },
  {
   "cell_type": "code",
   "execution_count": 16,
   "metadata": {},
   "outputs": [],
   "source": [
    "df = pd.DataFrame(index=titles, data={'tokens':tokens})"
   ]
  },
  {
   "cell_type": "code",
   "execution_count": 17,
   "metadata": {},
   "outputs": [
    {
     "data": {
      "text/html": [
       "<div>\n",
       "<style scoped>\n",
       "    .dataframe tbody tr th:only-of-type {\n",
       "        vertical-align: middle;\n",
       "    }\n",
       "\n",
       "    .dataframe tbody tr th {\n",
       "        vertical-align: top;\n",
       "    }\n",
       "\n",
       "    .dataframe thead th {\n",
       "        text-align: right;\n",
       "    }\n",
       "</style>\n",
       "<table border=\"1\" class=\"dataframe\">\n",
       "  <thead>\n",
       "    <tr style=\"text-align: right;\">\n",
       "      <th></th>\n",
       "      <th>tokens</th>\n",
       "    </tr>\n",
       "  </thead>\n",
       "  <tbody>\n",
       "    <tr>\n",
       "      <th>Austen_Emma0026</th>\n",
       "      <td>[giving, fair, companion, account, yesterday, ...</td>\n",
       "    </tr>\n",
       "    <tr>\n",
       "      <th>Austen_Emma0032</th>\n",
       "      <td>[feels, like, snow, place, party, try, day, di...</td>\n",
       "    </tr>\n",
       "    <tr>\n",
       "      <th>CBronte_Villette0086</th>\n",
       "      <td>[pierced, opaque, blackness, stood, bougie, qu...</td>\n",
       "    </tr>\n",
       "    <tr>\n",
       "      <th>CBronte_Jane0099</th>\n",
       "      <td>[joke, queer, looks, tell, thing, specially, s...</td>\n",
       "    </tr>\n",
       "    <tr>\n",
       "      <th>CBronte_Villette0092</th>\n",
       "      <td>[second, landing, floor, comprising, abode, kn...</td>\n",
       "    </tr>\n",
       "  </tbody>\n",
       "</table>\n",
       "</div>"
      ],
      "text/plain": [
       "                                                                 tokens\n",
       "Austen_Emma0026       [giving, fair, companion, account, yesterday, ...\n",
       "Austen_Emma0032       [feels, like, snow, place, party, try, day, di...\n",
       "CBronte_Villette0086  [pierced, opaque, blackness, stood, bougie, qu...\n",
       "CBronte_Jane0099      [joke, queer, looks, tell, thing, specially, s...\n",
       "CBronte_Villette0092  [second, landing, floor, comprising, abode, kn..."
      ]
     },
     "execution_count": 17,
     "metadata": {},
     "output_type": "execute_result"
    }
   ],
   "source": [
    "df.head()"
   ]
  },
  {
   "cell_type": "code",
   "execution_count": 18,
   "metadata": {},
   "outputs": [],
   "source": [
    "df['author'] = df.reset_index()['index'].apply(lambda x: x.split('_')[0]).tolist()\n",
    "df['book'] = df.reset_index()['index'].apply(lambda x: x.split('_')[1][:-4]).tolist()\n",
    "df['section'] = df.reset_index()['index'].apply(lambda x: x[-4:]).tolist()\n",
    "df['section'] = df['section'].astype('int')"
   ]
  },
  {
   "cell_type": "code",
   "execution_count": 19,
   "metadata": {},
   "outputs": [],
   "source": [
    "df['author'] = df['author'].map({'Austen':1, 'CBronte':0})"
   ]
  },
  {
   "cell_type": "code",
   "execution_count": 20,
   "metadata": {},
   "outputs": [
    {
     "data": {
      "text/plain": [
       "0    441\n",
       "1    372\n",
       "Name: author, dtype: int64"
      ]
     },
     "execution_count": 20,
     "metadata": {},
     "output_type": "execute_result"
    }
   ],
   "source": [
    "df.author.value_counts()"
   ]
  },
  {
   "cell_type": "code",
   "execution_count": 21,
   "metadata": {},
   "outputs": [
    {
     "data": {
      "text/html": [
       "<div>\n",
       "<style scoped>\n",
       "    .dataframe tbody tr th:only-of-type {\n",
       "        vertical-align: middle;\n",
       "    }\n",
       "\n",
       "    .dataframe tbody tr th {\n",
       "        vertical-align: top;\n",
       "    }\n",
       "\n",
       "    .dataframe thead th {\n",
       "        text-align: right;\n",
       "    }\n",
       "</style>\n",
       "<table border=\"1\" class=\"dataframe\">\n",
       "  <thead>\n",
       "    <tr style=\"text-align: right;\">\n",
       "      <th></th>\n",
       "      <th>tokens</th>\n",
       "      <th>author</th>\n",
       "      <th>book</th>\n",
       "      <th>section</th>\n",
       "    </tr>\n",
       "  </thead>\n",
       "  <tbody>\n",
       "    <tr>\n",
       "      <th>Austen_Emma0026</th>\n",
       "      <td>[giving, fair, companion, account, yesterday, ...</td>\n",
       "      <td>1</td>\n",
       "      <td>Emma</td>\n",
       "      <td>26</td>\n",
       "    </tr>\n",
       "    <tr>\n",
       "      <th>Austen_Emma0032</th>\n",
       "      <td>[feels, like, snow, place, party, try, day, di...</td>\n",
       "      <td>1</td>\n",
       "      <td>Emma</td>\n",
       "      <td>32</td>\n",
       "    </tr>\n",
       "    <tr>\n",
       "      <th>CBronte_Villette0086</th>\n",
       "      <td>[pierced, opaque, blackness, stood, bougie, qu...</td>\n",
       "      <td>0</td>\n",
       "      <td>Villette</td>\n",
       "      <td>86</td>\n",
       "    </tr>\n",
       "    <tr>\n",
       "      <th>CBronte_Jane0099</th>\n",
       "      <td>[joke, queer, looks, tell, thing, specially, s...</td>\n",
       "      <td>0</td>\n",
       "      <td>Jane</td>\n",
       "      <td>99</td>\n",
       "    </tr>\n",
       "    <tr>\n",
       "      <th>CBronte_Villette0092</th>\n",
       "      <td>[second, landing, floor, comprising, abode, kn...</td>\n",
       "      <td>0</td>\n",
       "      <td>Villette</td>\n",
       "      <td>92</td>\n",
       "    </tr>\n",
       "  </tbody>\n",
       "</table>\n",
       "</div>"
      ],
      "text/plain": [
       "                                                                 tokens  \\\n",
       "Austen_Emma0026       [giving, fair, companion, account, yesterday, ...   \n",
       "Austen_Emma0032       [feels, like, snow, place, party, try, day, di...   \n",
       "CBronte_Villette0086  [pierced, opaque, blackness, stood, bougie, qu...   \n",
       "CBronte_Jane0099      [joke, queer, looks, tell, thing, specially, s...   \n",
       "CBronte_Villette0092  [second, landing, floor, comprising, abode, kn...   \n",
       "\n",
       "                      author      book  section  \n",
       "Austen_Emma0026            1      Emma       26  \n",
       "Austen_Emma0032            1      Emma       32  \n",
       "CBronte_Villette0086       0  Villette       86  \n",
       "CBronte_Jane0099           0      Jane       99  \n",
       "CBronte_Villette0092       0  Villette       92  "
      ]
     },
     "execution_count": 21,
     "metadata": {},
     "output_type": "execute_result"
    }
   ],
   "source": [
    "df.head()"
   ]
  },
  {
   "cell_type": "markdown",
   "metadata": {},
   "source": [
    "### Streaming Documents\n",
    "Here we use a new pythonic thingy: the `yield` statement in our function. This allows us to iterate over a bunch of documents without actually reading them into memory. You can see how we use this function later on. "
   ]
  },
  {
   "cell_type": "code",
   "execution_count": 23,
   "metadata": {},
   "outputs": [],
   "source": [
    "def doc_stream(path):\n",
    "    for f in os.listdir(path):\n",
    "        if os.path.isdir(f) == False:\n",
    "            if f[-3:] == 'txt':\n",
    "                with open(os.path.join(path,f)) as t:\n",
    "                    text = t.read().strip('\\n')\n",
    "                    tokens = tokenize(text)\n",
    "                yield tokens"
   ]
  },
  {
   "cell_type": "code",
   "execution_count": 24,
   "metadata": {},
   "outputs": [],
   "source": [
    "streaming_data = doc_stream(path)"
   ]
  },
  {
   "cell_type": "code",
   "execution_count": 25,
   "metadata": {},
   "outputs": [
    {
     "data": {
      "text/plain": [
       "generator"
      ]
     },
     "execution_count": 25,
     "metadata": {},
     "output_type": "execute_result"
    }
   ],
   "source": [
    "type(streaming_data)"
   ]
  },
  {
   "cell_type": "code",
   "execution_count": 26,
   "metadata": {},
   "outputs": [],
   "source": [
    "# gather_data => returns a list\n",
    "# doc_stream => returns a generator"
   ]
  },
  {
   "cell_type": "code",
   "execution_count": 27,
   "metadata": {},
   "outputs": [
    {
     "data": {
      "text/plain": [
       "['giving',\n",
       " 'fair',\n",
       " 'companion',\n",
       " 'account',\n",
       " 'yesterday',\n",
       " 'party',\n",
       " 'friend',\n",
       " 'cole',\n",
       " 'come',\n",
       " 'stilton',\n",
       " 'cheese',\n",
       " 'north',\n",
       " 'wiltshire',\n",
       " 'butter',\n",
       " 'cellery',\n",
       " 'beet',\n",
       " 'root',\n",
       " 'dessert',\n",
       " 'soon',\n",
       " 'led',\n",
       " 'better',\n",
       " 'course',\n",
       " 'consoling',\n",
       " 'reflection',\n",
       " 'thing',\n",
       " 'interests',\n",
       " 'love',\n",
       " 'thing',\n",
       " 'serve',\n",
       " 'introduction',\n",
       " 'near',\n",
       " 'heart',\n",
       " 'kept',\n",
       " 'longer',\n",
       " 'away',\n",
       " 'walked',\n",
       " 'quietly',\n",
       " 'till',\n",
       " 'view',\n",
       " 'vicarage',\n",
       " 'pales',\n",
       " 'sudden',\n",
       " 'resolution',\n",
       " 'getting',\n",
       " 'harriet',\n",
       " 'house',\n",
       " 'amiss',\n",
       " 'boot',\n",
       " 'fall',\n",
       " 'arrange',\n",
       " 'broke',\n",
       " 'lace',\n",
       " 'short',\n",
       " 'dexterously',\n",
       " 'throwing',\n",
       " 'ditch',\n",
       " 'presently',\n",
       " 'obliged',\n",
       " 'entreat',\n",
       " 'stop',\n",
       " 'acknowledged',\n",
       " 'inability',\n",
       " 'rights',\n",
       " 'able',\n",
       " 'walk',\n",
       " 'home',\n",
       " 'tolerable',\n",
       " 'comfort',\n",
       " 'lace',\n",
       " 'gone',\n",
       " 'know',\n",
       " 'contrive',\n",
       " 'troublesome',\n",
       " 'companion',\n",
       " 'hope',\n",
       " 'ill',\n",
       " 'equipped',\n",
       " 'elton',\n",
       " 'beg',\n",
       " 'leave',\n",
       " 'stop',\n",
       " 'house',\n",
       " 'ask',\n",
       " 'housekeeper',\n",
       " 'bit',\n",
       " 'ribband',\n",
       " 'string',\n",
       " 'thing',\n",
       " 'boot',\n",
       " 'elton',\n",
       " 'looked',\n",
       " 'happiness',\n",
       " 'proposition',\n",
       " 'exceed',\n",
       " 'alertness',\n",
       " 'attention',\n",
       " 'conducting',\n",
       " 'house',\n",
       " 'endeavouring',\n",
       " 'thing',\n",
       " 'appear',\n",
       " 'advantage',\n",
       " 'room',\n",
       " 'taken',\n",
       " 'chiefly',\n",
       " 'occupied',\n",
       " 'looking',\n",
       " 'forwards',\n",
       " 'immediately',\n",
       " 'communicated',\n",
       " 'door',\n",
       " 'open',\n",
       " 'emma',\n",
       " 'passed',\n",
       " 'housekeeper',\n",
       " 'receive',\n",
       " 'assistance',\n",
       " 'comfortable',\n",
       " 'manner',\n",
       " 'obliged',\n",
       " 'leave',\n",
       " 'door',\n",
       " 'ajar',\n",
       " 'fully',\n",
       " 'intended',\n",
       " 'elton',\n",
       " 'close',\n",
       " 'closed',\n",
       " 'remained',\n",
       " 'ajar',\n",
       " 'engaging',\n",
       " 'housekeeper',\n",
       " 'incessant',\n",
       " 'conversation',\n",
       " 'hoped',\n",
       " 'practicable',\n",
       " 'chuse',\n",
       " 'subject',\n",
       " 'adjoining',\n",
       " 'room',\n",
       " 'minutes',\n",
       " 'hear',\n",
       " 'protracted',\n",
       " 'longer',\n",
       " 'obliged',\n",
       " 'finished',\n",
       " 'appearance',\n",
       " 'lovers',\n",
       " 'standing',\n",
       " 'windows',\n",
       " 'favourable',\n",
       " 'aspect',\n",
       " 'half',\n",
       " 'minute',\n",
       " 'emma',\n",
       " 'felt',\n",
       " 'glory',\n",
       " 'having',\n",
       " 'schemed',\n",
       " 'successfully',\n",
       " 'come',\n",
       " 'point',\n",
       " 'agreeable',\n",
       " 'delightful',\n",
       " 'told',\n",
       " 'harriet',\n",
       " 'seen',\n",
       " 'purposely',\n",
       " 'followed',\n",
       " 'little',\n",
       " 'gallantries',\n",
       " 'allusions',\n",
       " 'dropt',\n",
       " 'cautious',\n",
       " 'cautious',\n",
       " 'thought',\n",
       " 'emma',\n",
       " 'advances',\n",
       " 'inch',\n",
       " 'inch',\n",
       " 'hazard',\n",
       " 'till',\n",
       " 'believes',\n",
       " 'secure',\n",
       " 'thing',\n",
       " 'accomplished',\n",
       " 'ingenious',\n",
       " 'device',\n",
       " 'flatter',\n",
       " 'occasion',\n",
       " 'present',\n",
       " 'enjoyment',\n",
       " 'leading',\n",
       " 'forward',\n",
       " 'great',\n",
       " 'event',\n",
       " 'chapter',\n",
       " 'xi',\n",
       " 'elton',\n",
       " 'left',\n",
       " 'longer',\n",
       " 'emma',\n",
       " 'power',\n",
       " 'superintend',\n",
       " 'happiness',\n",
       " 'quicken',\n",
       " 'measures',\n",
       " 'coming',\n",
       " 'sister',\n",
       " 'family',\n",
       " 'near',\n",
       " 'hand',\n",
       " 'anticipation',\n",
       " 'reality',\n",
       " 'henceforth',\n",
       " 'prime',\n",
       " 'object',\n",
       " 'days',\n",
       " 'stay',\n",
       " 'hartfield',\n",
       " 'expected',\n",
       " 'expect',\n",
       " 'thing',\n",
       " 'occasional',\n",
       " 'fortuitous',\n",
       " 'assistance',\n",
       " 'afforded',\n",
       " 'lovers',\n",
       " 'advance',\n",
       " 'rapidly',\n",
       " 'advance',\n",
       " 'hardly',\n",
       " 'wished',\n",
       " 'leisure',\n",
       " 'people',\n",
       " 'john',\n",
       " 'knightley',\n",
       " 'having',\n",
       " 'longer',\n",
       " 'usual',\n",
       " 'absent',\n",
       " 'surry',\n",
       " 'exciting',\n",
       " 'course',\n",
       " 'usual',\n",
       " 'till',\n",
       " 'year',\n",
       " 'long',\n",
       " 'vacation',\n",
       " 'marriage',\n",
       " 'divided',\n",
       " 'hartfield',\n",
       " 'donwell',\n",
       " 'abbey',\n",
       " 'holidays',\n",
       " 'autumn',\n",
       " 'given',\n",
       " 'sea',\n",
       " 'bathing',\n",
       " 'children',\n",
       " 'months',\n",
       " 'seen',\n",
       " 'regular',\n",
       " 'way',\n",
       " 'surry',\n",
       " 'connexions',\n",
       " 'seen',\n",
       " 'woodhouse',\n",
       " 'induced',\n",
       " 'far',\n",
       " 'london',\n",
       " 'poor',\n",
       " 'isabella',\n",
       " 'sake',\n",
       " 'consequently',\n",
       " 'nervously',\n",
       " 'apprehensively',\n",
       " 'happy',\n",
       " 'forestalling',\n",
       " 'short',\n",
       " 'visit',\n",
       " 'thought',\n",
       " 'evils',\n",
       " 'journey',\n",
       " 'little',\n",
       " 'fatigues',\n",
       " 'horses',\n",
       " 'coachman',\n",
       " 'bring',\n",
       " 'party',\n",
       " 'half',\n",
       " 'way',\n",
       " 'alarms',\n",
       " 'needless',\n",
       " 'sixteen',\n",
       " 'miles',\n",
       " 'happily',\n",
       " 'accomplished',\n",
       " 'john',\n",
       " 'knightley',\n",
       " 'children',\n",
       " 'competent',\n",
       " 'number',\n",
       " 'nursery',\n",
       " 'maids',\n",
       " 'reaching',\n",
       " 'hartfield',\n",
       " 'safety',\n",
       " 'bustle',\n",
       " 'joy',\n",
       " 'arrival',\n",
       " 'talked',\n",
       " 'welcomed',\n",
       " 'encouraged',\n",
       " 'variously',\n",
       " 'dispersed',\n",
       " 'disposed',\n",
       " 'produced',\n",
       " 'noise',\n",
       " 'confusion',\n",
       " 'nerves',\n",
       " 'borne',\n",
       " 'cause',\n",
       " 'endured',\n",
       " 'longer',\n",
       " 'ways',\n",
       " 'hartfield',\n",
       " 'feelings',\n",
       " 'father',\n",
       " 'respected',\n",
       " 'john',\n",
       " 'knightley',\n",
       " 'spite',\n",
       " 'maternal',\n",
       " 'solicitude',\n",
       " 'immediate',\n",
       " 'enjoyment',\n",
       " 'little',\n",
       " 'ones',\n",
       " 'having',\n",
       " 'instantly',\n",
       " 'liberty',\n",
       " 'attendance',\n",
       " 'eating',\n",
       " 'drinking',\n",
       " 'sleeping',\n",
       " 'playing',\n",
       " 'possibly',\n",
       " 'wish',\n",
       " 'smallest',\n",
       " 'delay',\n",
       " 'children',\n",
       " 'allowed',\n",
       " 'long',\n",
       " 'disturbance',\n",
       " 'restless',\n",
       " 'attendance',\n",
       " 'john',\n",
       " 'knightley',\n",
       " 'pretty',\n",
       " 'elegant',\n",
       " 'little',\n",
       " 'woman',\n",
       " 'gentle',\n",
       " 'quiet',\n",
       " 'manners',\n",
       " 'disposition',\n",
       " 'remarkably',\n",
       " 'amiable',\n",
       " 'affectionate',\n",
       " 'wrapt',\n",
       " 'family',\n",
       " 'devoted',\n",
       " 'wife',\n",
       " 'doating',\n",
       " 'mother',\n",
       " 'tenderly',\n",
       " 'attached',\n",
       " 'father',\n",
       " 'sister',\n",
       " 'higher',\n",
       " 'ties',\n",
       " 'warmer',\n",
       " 'love',\n",
       " 'impossible',\n",
       " 'fault',\n",
       " 'woman',\n",
       " 'strong',\n",
       " 'understanding',\n",
       " 'quickness',\n",
       " 'resemblance',\n",
       " 'father',\n",
       " 'inherited',\n",
       " 'constitution',\n",
       " 'delicate',\n",
       " 'health',\n",
       " 'careful',\n",
       " 'children',\n",
       " 'fears',\n",
       " 'nerves',\n",
       " 'fond',\n",
       " 'wingfield',\n",
       " 'town']"
      ]
     },
     "execution_count": 27,
     "metadata": {},
     "output_type": "execute_result"
    }
   ],
   "source": [
    "next(streaming_data) # Returns one document at a time from the generator"
   ]
  },
  {
   "cell_type": "markdown",
   "metadata": {},
   "source": [
    "### Gensim LDA Topic Modeling"
   ]
  },
  {
   "cell_type": "code",
   "execution_count": 28,
   "metadata": {},
   "outputs": [],
   "source": [
    "# A Dictionary Representation of all the words in our corpus\n",
    "id2word = corpora.Dictionary(doc_stream(path))"
   ]
  },
  {
   "cell_type": "code",
   "execution_count": 29,
   "metadata": {},
   "outputs": [
    {
     "data": {
      "text/plain": [
       "869"
      ]
     },
     "execution_count": 29,
     "metadata": {},
     "output_type": "execute_result"
    }
   ],
   "source": [
    "id2word.token2id['england']"
   ]
  },
  {
   "cell_type": "code",
   "execution_count": 30,
   "metadata": {},
   "outputs": [
    {
     "data": {
      "text/plain": [
       "[(869, 3), (1254, 1), (2485, 1), (16876, 1)]"
      ]
     },
     "execution_count": 30,
     "metadata": {},
     "output_type": "execute_result"
    }
   ],
   "source": [
    "id2word.doc2bow(tokenize(\"This is a sample message Darcy England England England\"))"
   ]
  },
  {
   "cell_type": "code",
   "execution_count": 31,
   "metadata": {},
   "outputs": [
    {
     "name": "stdout",
     "output_type": "stream",
     "text": [
      "56\n",
      "7056\n"
     ]
    }
   ],
   "source": [
    "import sys\n",
    "print(sys.getsizeof(id2word))\n",
    "print(sys.getsizeof(tokens))"
   ]
  },
  {
   "cell_type": "code",
   "execution_count": 32,
   "metadata": {},
   "outputs": [
    {
     "data": {
      "text/plain": [
       "22136"
      ]
     },
     "execution_count": 32,
     "metadata": {},
     "output_type": "execute_result"
    }
   ],
   "source": [
    "len(id2word.keys())"
   ]
  },
  {
   "cell_type": "code",
   "execution_count": 33,
   "metadata": {},
   "outputs": [],
   "source": [
    "# Let's remove extreme values from the dataset\n",
    "id2word.filter_extremes(no_below=5, no_above=0.95)"
   ]
  },
  {
   "cell_type": "code",
   "execution_count": 34,
   "metadata": {},
   "outputs": [
    {
     "data": {
      "text/plain": [
       "8105"
      ]
     },
     "execution_count": 34,
     "metadata": {},
     "output_type": "execute_result"
    }
   ],
   "source": [
    "len(id2word.keys())"
   ]
  },
  {
   "cell_type": "code",
   "execution_count": 36,
   "metadata": {},
   "outputs": [],
   "source": [
    "# a bag of words(bow) representation of our corpus\n",
    "# Note: we haven't actually read any text into memory here\n",
    "# Although abstracted away - tokenization IS happening in the doc_stream f(x)\n",
    "corpus = [id2word.doc2bow(text) for text in doc_stream(path)]"
   ]
  },
  {
   "cell_type": "code",
   "execution_count": 37,
   "metadata": {},
   "outputs": [
    {
     "data": {
      "text/plain": [
       "[(4, 1),\n",
       " (17, 1),\n",
       " (28, 1),\n",
       " (30, 1),\n",
       " (31, 2),\n",
       " (40, 1),\n",
       " (46, 1),\n",
       " (51, 1),\n",
       " (55, 1),\n",
       " (71, 1)]"
      ]
     },
     "execution_count": 37,
     "metadata": {},
     "output_type": "execute_result"
    }
   ],
   "source": [
    "corpus[345][:10]"
   ]
  },
  {
   "cell_type": "code",
   "execution_count": 38,
   "metadata": {},
   "outputs": [],
   "source": [
    "lda = LdaMulticore(corpus=corpus,\n",
    "                   id2word=id2word,\n",
    "                   random_state=42,\n",
    "                   num_topics = 15,\n",
    "                   passes=10,\n",
    "                   workers=12)"
   ]
  },
  {
   "cell_type": "code",
   "execution_count": 39,
   "metadata": {},
   "outputs": [
    {
     "data": {
      "text/plain": [
       "[(0,\n",
       "  '0.007*\"little\" + 0.005*\"madame\" + 0.005*\"like\" + 0.004*\"hand\" + 0.004*\"thought\" + 0.003*\"miss\" + 0.003*\"good\" + 0.003*\"day\" + 0.003*\"know\" + 0.003*\"time\"'),\n",
       " (1,\n",
       "  '0.006*\"like\" + 0.006*\"little\" + 0.005*\"thought\" + 0.005*\"good\" + 0.005*\"know\" + 0.004*\"day\" + 0.004*\"time\" + 0.004*\"long\" + 0.004*\"night\" + 0.003*\"life\"'),\n",
       " (2,\n",
       "  '0.009*\"harriet\" + 0.006*\"emma\" + 0.005*\"elizabeth\" + 0.005*\"place\" + 0.005*\"miss\" + 0.004*\"great\" + 0.004*\"little\" + 0.004*\"time\" + 0.004*\"door\" + 0.004*\"thing\"'),\n",
       " (3,\n",
       "  '0.011*\"miss\" + 0.005*\"thought\" + 0.004*\"bretton\" + 0.004*\"long\" + 0.004*\"little\" + 0.004*\"soon\" + 0.004*\"like\" + 0.004*\"come\" + 0.004*\"home\" + 0.003*\"smith\"'),\n",
       " (4,\n",
       "  '0.008*\"little\" + 0.006*\"room\" + 0.006*\"graham\" + 0.005*\"like\" + 0.005*\"miss\" + 0.005*\"think\" + 0.005*\"dr\" + 0.004*\"madame\" + 0.004*\"bretton\" + 0.004*\"bessie\"'),\n",
       " (5,\n",
       "  '0.009*\"like\" + 0.007*\"sir\" + 0.007*\"know\" + 0.006*\"little\" + 0.006*\"shall\" + 0.005*\"thought\" + 0.005*\"madame\" + 0.005*\"love\" + 0.005*\"think\" + 0.004*\"jane\"'),\n",
       " (6,\n",
       "  '0.008*\"miss\" + 0.006*\"like\" + 0.005*\"ingram\" + 0.004*\"young\" + 0.004*\"good\" + 0.004*\"thought\" + 0.004*\"eyes\" + 0.004*\"master\" + 0.004*\"think\" + 0.004*\"looked\"'),\n",
       " (7,\n",
       "  '0.005*\"like\" + 0.005*\"little\" + 0.004*\"thought\" + 0.004*\"eyes\" + 0.004*\"long\" + 0.004*\"hand\" + 0.004*\"time\" + 0.004*\"day\" + 0.003*\"jane\" + 0.003*\"heart\"'),\n",
       " (8,\n",
       "  '0.007*\"little\" + 0.007*\"sir\" + 0.005*\"like\" + 0.005*\"time\" + 0.005*\"monsieur\" + 0.004*\"know\" + 0.004*\"yes\" + 0.004*\"rochester\" + 0.004*\"room\" + 0.004*\"think\"'),\n",
       " (9,\n",
       "  '0.006*\"like\" + 0.005*\"saw\" + 0.005*\"night\" + 0.005*\"know\" + 0.005*\"thought\" + 0.004*\"little\" + 0.004*\"good\" + 0.004*\"heart\" + 0.003*\"day\" + 0.003*\"madame\"'),\n",
       " (10,\n",
       "  '0.014*\"elizabeth\" + 0.009*\"darcy\" + 0.007*\"jane\" + 0.007*\"bennet\" + 0.007*\"bingley\" + 0.006*\"miss\" + 0.005*\"know\" + 0.005*\"soon\" + 0.005*\"sister\" + 0.005*\"think\"'),\n",
       " (11,\n",
       "  '0.005*\"nun\" + 0.005*\"marie\" + 0.005*\"justine\" + 0.004*\"time\" + 0.004*\"emanuel\" + 0.004*\"girl\" + 0.003*\"madame\" + 0.003*\"felt\" + 0.003*\"moment\" + 0.003*\"looked\"'),\n",
       " (12,\n",
       "  '0.016*\"elinor\" + 0.013*\"marianne\" + 0.007*\"sister\" + 0.006*\"edward\" + 0.006*\"mother\" + 0.006*\"time\" + 0.006*\"dashwood\" + 0.006*\"know\" + 0.005*\"miss\" + 0.005*\"jennings\"'),\n",
       " (13,\n",
       "  '0.011*\"harriet\" + 0.010*\"good\" + 0.010*\"miss\" + 0.008*\"thing\" + 0.008*\"martin\" + 0.007*\"emma\" + 0.005*\"weston\" + 0.005*\"great\" + 0.005*\"woodhouse\" + 0.005*\"smith\"'),\n",
       " (14,\n",
       "  '0.017*\"emma\" + 0.011*\"miss\" + 0.009*\"harriet\" + 0.009*\"weston\" + 0.008*\"knightley\" + 0.008*\"think\" + 0.008*\"elton\" + 0.007*\"thing\" + 0.007*\"know\" + 0.007*\"little\"')]"
      ]
     },
     "execution_count": 39,
     "metadata": {},
     "output_type": "execute_result"
    }
   ],
   "source": [
    "lda.print_topics()"
   ]
  },
  {
   "cell_type": "code",
   "execution_count": 47,
   "metadata": {},
   "outputs": [],
   "source": [
    "words = [re.findall(r'\"([^\"]*)\"',t[1]) for t in lda.print_topics()]"
   ]
  },
  {
   "cell_type": "code",
   "execution_count": 48,
   "metadata": {},
   "outputs": [],
   "source": [
    "topics = [' '.join(t[0:10]) for t in words]"
   ]
  },
  {
   "cell_type": "code",
   "execution_count": 49,
   "metadata": {},
   "outputs": [
    {
     "name": "stdout",
     "output_type": "stream",
     "text": [
      "------ Topic 0 ------\n",
      "like eyes rochester face hair eye little features thought man\n",
      "\n",
      "------ Topic 1 ------\n",
      "little like madame thought know good monsieur bretton hand graham\n",
      "\n",
      "------ Topic 2 ------\n",
      "emma miss harriet weston think thing knightley little good elton\n",
      "\n",
      "------ Topic 3 ------\n",
      "elinor marianne sister edward mother time dashwood jennings willoughby know\n",
      "\n",
      "------ Topic 4 ------\n",
      "jane rochester like love think thought mason sir come know\n",
      "\n",
      "------ Topic 5 ------\n",
      "like know good time day long night man hunsden come\n",
      "\n",
      "------ Topic 6 ------\n",
      "elizabeth darcy bennet bingley jane wickham miss sister lydia know\n",
      "\n",
      "------ Topic 7 ------\n",
      "miss know shall oh thing come jane dear good think\n",
      "\n",
      "------ Topic 8 ------\n",
      "sir lady elizabeth little miss darcy good know think shall\n",
      "\n",
      "------ Topic 9 ------\n",
      "marianne disapproved coat dispersed hamlet quickened happens abruptly suggesting seclusion\n",
      "\n",
      "------ Topic 10 ------\n",
      "like man long time john felt eye know crimsworth god\n",
      "\n",
      "------ Topic 11 ------\n",
      "book motives disappointing miss room bye indignant round reading cheated\n",
      "\n",
      "------ Topic 12 ------\n",
      "miss room like little rochester time long day door looked\n",
      "\n",
      "------ Topic 13 ------\n",
      "vous monsieur accomplished word work room hand bonnet reading table\n",
      "\n",
      "------ Topic 14 ------\n",
      "sir little jane night like st house thought saw day\n",
      "\n"
     ]
    }
   ],
   "source": [
    "for id, t in enumerate(topics): \n",
    "    print(f\"------ Topic {id} ------\")\n",
    "    print(t, end=\"\\n\\n\")"
   ]
  },
  {
   "cell_type": "markdown",
   "metadata": {},
   "source": [
    "## Challenge \n",
    "\n",
    "You will apply an LDA model to a customer review dataset to practice the fitting and estimation of LDA. "
   ]
  },
  {
   "cell_type": "markdown",
   "metadata": {},
   "source": [
    "# Interpret LDA Results (Learn)\n",
    "<a id=\"#p3\"></a>"
   ]
  },
  {
   "cell_type": "markdown",
   "metadata": {},
   "source": [
    "## Overview"
   ]
  },
  {
   "cell_type": "markdown",
   "metadata": {
    "toc-hr-collapsed": true
   },
   "source": [
    "## Follow Along"
   ]
  },
  {
   "cell_type": "markdown",
   "metadata": {},
   "source": [
    "### Topic Distance Visualization"
   ]
  },
  {
   "cell_type": "code",
   "execution_count": 50,
   "metadata": {},
   "outputs": [],
   "source": [
    "import pyLDAvis.gensim\n",
    "\n",
    "pyLDAvis.enable_notebook()"
   ]
  },
  {
   "cell_type": "code",
   "execution_count": 51,
   "metadata": {},
   "outputs": [
    {
     "data": {
      "text/html": [
       "\n",
       "<link rel=\"stylesheet\" type=\"text/css\" href=\"https://cdn.rawgit.com/bmabey/pyLDAvis/files/ldavis.v1.0.0.css\">\n",
       "\n",
       "\n",
       "<div id=\"ldavis_el994419027912903367807792198\"></div>\n",
       "<script type=\"text/javascript\">\n",
       "\n",
       "var ldavis_el994419027912903367807792198_data = {\"mdsDat\": {\"x\": [0.05362712683808161, -0.13115290465442841, -0.1280715554795092, 0.013939892335821234, 0.04087866811395886, -0.18238584381537284, 0.037665399327229586, -0.08524123102082455, -0.11511347883297411, 0.011124487240926666, 0.08515361195536984, 0.025295080152928646, 0.13823331569759253, 0.12514940433362284, 0.11089802780757742], \"y\": [0.036138555331492836, -0.029254747980316794, -0.03971043031325316, 0.03741014083417792, 0.06463280084539927, -0.037675794291536426, 0.10066643107165646, -0.024311492149037068, -0.027350022085083178, 0.09938331477360333, 0.08016624153184253, 0.05083002189872995, -0.11814335066895525, -0.09931842838413182, -0.09346324041458898], \"topics\": [1, 2, 3, 4, 5, 6, 7, 8, 9, 10, 11, 12, 13, 14, 15], \"cluster\": [1, 1, 1, 1, 1, 1, 1, 1, 1, 1, 1, 1, 1, 1, 1], \"Freq\": [21.94342803955078, 17.55554962158203, 12.610281944274902, 10.991914749145508, 9.062980651855469, 7.794344425201416, 6.105457782745361, 5.2340087890625, 2.528407096862793, 2.265073299407959, 1.9973080158233643, 1.6162604093551636, 0.22760026156902313, 0.04529101401567459, 0.022086476907134056]}, \"tinfo\": {\"Category\": [\"Default\", \"Default\", \"Default\", \"Default\", \"Default\", \"Default\", \"Default\", \"Default\", \"Default\", \"Default\", \"Default\", \"Default\", \"Default\", \"Default\", \"Default\", \"Default\", \"Default\", \"Default\", \"Default\", \"Default\", \"Default\", \"Default\", \"Default\", \"Default\", \"Default\", \"Default\", \"Default\", \"Default\", \"Default\", \"Default\", \"Topic1\", \"Topic1\", \"Topic1\", \"Topic1\", \"Topic1\", \"Topic1\", \"Topic1\", \"Topic1\", \"Topic1\", \"Topic1\", \"Topic1\", \"Topic1\", \"Topic1\", \"Topic1\", \"Topic1\", \"Topic1\", \"Topic1\", \"Topic1\", \"Topic1\", \"Topic1\", \"Topic1\", \"Topic1\", \"Topic1\", \"Topic1\", \"Topic1\", \"Topic1\", \"Topic1\", \"Topic1\", \"Topic1\", \"Topic1\", \"Topic1\", \"Topic1\", \"Topic1\", \"Topic1\", \"Topic1\", \"Topic1\", \"Topic1\", \"Topic1\", \"Topic1\", \"Topic1\", \"Topic1\", \"Topic1\", \"Topic1\", \"Topic1\", \"Topic1\", \"Topic1\", \"Topic1\", \"Topic1\", \"Topic1\", \"Topic1\", \"Topic1\", \"Topic1\", \"Topic1\", \"Topic1\", \"Topic1\", \"Topic1\", \"Topic1\", \"Topic1\", \"Topic1\", \"Topic1\", \"Topic1\", \"Topic1\", \"Topic1\", \"Topic1\", \"Topic1\", \"Topic1\", \"Topic1\", \"Topic1\", \"Topic1\", \"Topic1\", \"Topic1\", \"Topic1\", \"Topic1\", \"Topic1\", \"Topic1\", \"Topic1\", \"Topic1\", \"Topic1\", \"Topic1\", \"Topic1\", \"Topic1\", \"Topic1\", \"Topic1\", \"Topic2\", \"Topic2\", \"Topic2\", \"Topic2\", \"Topic2\", \"Topic2\", \"Topic2\", \"Topic2\", \"Topic2\", \"Topic2\", \"Topic2\", \"Topic2\", \"Topic2\", \"Topic2\", \"Topic2\", \"Topic2\", \"Topic2\", \"Topic2\", \"Topic2\", \"Topic2\", \"Topic2\", \"Topic2\", \"Topic2\", \"Topic2\", \"Topic2\", \"Topic2\", \"Topic2\", \"Topic2\", \"Topic2\", \"Topic2\", \"Topic2\", \"Topic2\", \"Topic2\", \"Topic2\", \"Topic2\", \"Topic2\", \"Topic2\", \"Topic2\", \"Topic2\", \"Topic2\", \"Topic2\", \"Topic2\", \"Topic2\", \"Topic2\", \"Topic2\", \"Topic2\", \"Topic2\", \"Topic2\", \"Topic2\", \"Topic2\", \"Topic2\", \"Topic2\", \"Topic2\", \"Topic2\", \"Topic2\", \"Topic2\", \"Topic2\", \"Topic2\", \"Topic2\", \"Topic2\", \"Topic2\", \"Topic2\", \"Topic3\", \"Topic3\", \"Topic3\", \"Topic3\", \"Topic3\", \"Topic3\", \"Topic3\", \"Topic3\", \"Topic3\", \"Topic3\", \"Topic3\", \"Topic3\", \"Topic3\", \"Topic3\", \"Topic3\", \"Topic3\", \"Topic3\", \"Topic3\", \"Topic3\", \"Topic3\", \"Topic3\", \"Topic3\", \"Topic3\", \"Topic3\", \"Topic3\", \"Topic3\", \"Topic3\", \"Topic3\", \"Topic3\", \"Topic3\", \"Topic3\", \"Topic3\", \"Topic3\", \"Topic3\", \"Topic3\", \"Topic3\", \"Topic3\", \"Topic3\", \"Topic3\", \"Topic3\", \"Topic3\", \"Topic3\", \"Topic3\", \"Topic3\", \"Topic3\", \"Topic3\", \"Topic3\", \"Topic3\", \"Topic3\", \"Topic3\", \"Topic3\", \"Topic3\", \"Topic3\", \"Topic3\", \"Topic3\", \"Topic3\", \"Topic3\", \"Topic3\", \"Topic3\", \"Topic3\", \"Topic3\", \"Topic3\", \"Topic3\", \"Topic3\", \"Topic3\", \"Topic3\", \"Topic4\", \"Topic4\", \"Topic4\", \"Topic4\", \"Topic4\", \"Topic4\", \"Topic4\", \"Topic4\", \"Topic4\", \"Topic4\", \"Topic4\", \"Topic4\", \"Topic4\", \"Topic4\", \"Topic4\", \"Topic4\", \"Topic4\", \"Topic4\", \"Topic4\", \"Topic4\", \"Topic4\", \"Topic4\", \"Topic4\", \"Topic4\", \"Topic4\", \"Topic4\", \"Topic4\", \"Topic4\", \"Topic4\", \"Topic4\", \"Topic4\", \"Topic4\", \"Topic4\", \"Topic4\", \"Topic4\", \"Topic4\", \"Topic4\", \"Topic4\", \"Topic4\", \"Topic4\", \"Topic4\", \"Topic4\", \"Topic4\", \"Topic4\", \"Topic4\", \"Topic4\", \"Topic4\", \"Topic4\", \"Topic4\", \"Topic4\", \"Topic4\", \"Topic4\", \"Topic4\", \"Topic4\", \"Topic4\", \"Topic4\", \"Topic4\", \"Topic4\", \"Topic4\", \"Topic4\", \"Topic4\", \"Topic4\", \"Topic4\", \"Topic4\", \"Topic4\", \"Topic4\", \"Topic4\", \"Topic4\", \"Topic4\", \"Topic4\", \"Topic4\", \"Topic4\", \"Topic4\", \"Topic4\", \"Topic4\", \"Topic4\", \"Topic4\", \"Topic5\", \"Topic5\", \"Topic5\", \"Topic5\", \"Topic5\", \"Topic5\", \"Topic5\", \"Topic5\", \"Topic5\", \"Topic5\", \"Topic5\", \"Topic5\", \"Topic5\", \"Topic5\", \"Topic5\", \"Topic5\", \"Topic5\", \"Topic5\", \"Topic5\", \"Topic5\", \"Topic5\", \"Topic5\", \"Topic5\", \"Topic5\", \"Topic5\", \"Topic5\", \"Topic5\", \"Topic5\", \"Topic5\", \"Topic5\", \"Topic5\", \"Topic5\", \"Topic5\", \"Topic5\", \"Topic5\", \"Topic5\", \"Topic5\", \"Topic5\", \"Topic5\", \"Topic5\", \"Topic5\", \"Topic5\", \"Topic5\", \"Topic5\", \"Topic5\", \"Topic5\", \"Topic5\", \"Topic5\", \"Topic5\", \"Topic5\", \"Topic5\", \"Topic5\", \"Topic5\", \"Topic5\", \"Topic5\", \"Topic5\", \"Topic5\", \"Topic5\", \"Topic5\", \"Topic5\", \"Topic5\", \"Topic5\", \"Topic5\", \"Topic5\", \"Topic5\", \"Topic5\", \"Topic5\", \"Topic5\", \"Topic5\", \"Topic5\", \"Topic5\", \"Topic5\", \"Topic5\", \"Topic5\", \"Topic5\", \"Topic5\", \"Topic5\", \"Topic5\", \"Topic5\", \"Topic5\", \"Topic5\", \"Topic6\", \"Topic6\", \"Topic6\", \"Topic6\", \"Topic6\", \"Topic6\", \"Topic6\", \"Topic6\", \"Topic6\", \"Topic6\", \"Topic6\", \"Topic6\", \"Topic6\", \"Topic6\", \"Topic6\", \"Topic6\", \"Topic6\", \"Topic6\", \"Topic6\", \"Topic6\", \"Topic6\", \"Topic6\", \"Topic6\", \"Topic6\", \"Topic6\", \"Topic6\", \"Topic6\", \"Topic6\", \"Topic6\", \"Topic6\", \"Topic6\", \"Topic6\", \"Topic6\", \"Topic6\", \"Topic6\", \"Topic6\", \"Topic6\", \"Topic6\", \"Topic6\", \"Topic6\", \"Topic6\", \"Topic6\", \"Topic6\", \"Topic6\", \"Topic6\", \"Topic6\", \"Topic6\", \"Topic6\", \"Topic6\", \"Topic6\", \"Topic6\", \"Topic6\", \"Topic6\", \"Topic6\", \"Topic6\", \"Topic6\", \"Topic6\", \"Topic6\", \"Topic6\", \"Topic6\", \"Topic7\", \"Topic7\", \"Topic7\", \"Topic7\", \"Topic7\", \"Topic7\", \"Topic7\", \"Topic7\", \"Topic7\", \"Topic7\", \"Topic7\", \"Topic7\", \"Topic7\", \"Topic7\", \"Topic7\", \"Topic7\", \"Topic7\", \"Topic7\", \"Topic7\", \"Topic7\", \"Topic7\", \"Topic7\", \"Topic7\", \"Topic7\", \"Topic7\", \"Topic7\", \"Topic7\", \"Topic7\", \"Topic7\", \"Topic7\", \"Topic7\", \"Topic7\", \"Topic7\", \"Topic7\", \"Topic7\", \"Topic7\", \"Topic7\", \"Topic7\", \"Topic7\", \"Topic7\", \"Topic7\", \"Topic7\", \"Topic7\", \"Topic7\", \"Topic7\", \"Topic7\", \"Topic7\", \"Topic7\", \"Topic7\", \"Topic7\", \"Topic7\", \"Topic7\", \"Topic7\", \"Topic7\", \"Topic7\", \"Topic7\", \"Topic7\", \"Topic7\", \"Topic7\", \"Topic7\", \"Topic7\", \"Topic7\", \"Topic7\", \"Topic7\", \"Topic7\", \"Topic7\", \"Topic7\", \"Topic7\", \"Topic7\", \"Topic7\", \"Topic7\", \"Topic7\", \"Topic7\", \"Topic7\", \"Topic7\", \"Topic7\", \"Topic7\", \"Topic7\", \"Topic7\", \"Topic7\", \"Topic7\", \"Topic8\", \"Topic8\", \"Topic8\", \"Topic8\", \"Topic8\", \"Topic8\", \"Topic8\", \"Topic8\", \"Topic8\", \"Topic8\", \"Topic8\", \"Topic8\", \"Topic8\", \"Topic8\", \"Topic8\", \"Topic8\", \"Topic8\", \"Topic8\", \"Topic8\", \"Topic8\", \"Topic8\", \"Topic8\", \"Topic8\", \"Topic8\", \"Topic8\", \"Topic8\", \"Topic8\", \"Topic8\", \"Topic8\", \"Topic8\", \"Topic8\", \"Topic8\", \"Topic8\", \"Topic8\", \"Topic8\", \"Topic8\", \"Topic8\", \"Topic8\", \"Topic8\", \"Topic8\", \"Topic8\", \"Topic8\", \"Topic8\", \"Topic8\", \"Topic8\", \"Topic8\", \"Topic8\", \"Topic8\", \"Topic8\", \"Topic8\", \"Topic8\", \"Topic8\", \"Topic8\", \"Topic8\", \"Topic8\", \"Topic8\", \"Topic8\", \"Topic8\", \"Topic8\", \"Topic8\", \"Topic8\", \"Topic8\", \"Topic8\", \"Topic8\", \"Topic8\", \"Topic8\", \"Topic8\", \"Topic8\", \"Topic8\", \"Topic8\", \"Topic8\", \"Topic9\", \"Topic9\", \"Topic9\", \"Topic9\", \"Topic9\", \"Topic9\", \"Topic9\", \"Topic9\", \"Topic9\", \"Topic9\", \"Topic9\", \"Topic9\", \"Topic9\", \"Topic9\", \"Topic9\", \"Topic9\", \"Topic9\", \"Topic9\", \"Topic9\", \"Topic9\", \"Topic9\", \"Topic9\", \"Topic9\", \"Topic9\", \"Topic9\", \"Topic9\", \"Topic9\", \"Topic9\", \"Topic9\", \"Topic9\", \"Topic9\", \"Topic9\", \"Topic9\", \"Topic9\", \"Topic9\", \"Topic9\", \"Topic9\", \"Topic9\", \"Topic9\", \"Topic9\", \"Topic9\", \"Topic9\", \"Topic9\", \"Topic9\", \"Topic9\", \"Topic9\", \"Topic9\", \"Topic9\", \"Topic9\", \"Topic9\", \"Topic9\", \"Topic9\", \"Topic9\", \"Topic9\", \"Topic9\", \"Topic9\", \"Topic9\", \"Topic9\", \"Topic9\", \"Topic9\", \"Topic9\", \"Topic9\", \"Topic9\", \"Topic9\", \"Topic9\", \"Topic9\", \"Topic9\", \"Topic9\", \"Topic9\", \"Topic9\", \"Topic9\", \"Topic9\", \"Topic9\", \"Topic9\", \"Topic10\", \"Topic10\", \"Topic10\", \"Topic10\", \"Topic10\", \"Topic10\", \"Topic10\", \"Topic10\", \"Topic10\", \"Topic10\", \"Topic10\", \"Topic10\", \"Topic10\", \"Topic10\", \"Topic10\", \"Topic10\", \"Topic10\", \"Topic10\", \"Topic10\", \"Topic10\", \"Topic10\", \"Topic10\", \"Topic10\", \"Topic10\", \"Topic10\", \"Topic10\", \"Topic10\", \"Topic10\", \"Topic10\", \"Topic10\", \"Topic10\", \"Topic10\", \"Topic10\", \"Topic10\", \"Topic10\", \"Topic10\", \"Topic10\", \"Topic10\", \"Topic10\", \"Topic10\", \"Topic10\", \"Topic10\", \"Topic10\", \"Topic10\", \"Topic10\", \"Topic10\", \"Topic10\", \"Topic10\", \"Topic10\", \"Topic10\", \"Topic10\", \"Topic10\", \"Topic10\", \"Topic10\", \"Topic10\", \"Topic10\", \"Topic10\", \"Topic10\", \"Topic10\", \"Topic10\", \"Topic10\", \"Topic10\", \"Topic10\", \"Topic10\", \"Topic10\", \"Topic10\", \"Topic10\", \"Topic10\", \"Topic10\", \"Topic10\", \"Topic10\", \"Topic10\", \"Topic10\", \"Topic10\", \"Topic10\", \"Topic10\", \"Topic10\", \"Topic10\", \"Topic11\", \"Topic11\", \"Topic11\", \"Topic11\", \"Topic11\", \"Topic11\", \"Topic11\", \"Topic11\", \"Topic11\", \"Topic11\", \"Topic11\", \"Topic11\", \"Topic11\", \"Topic11\", \"Topic11\", \"Topic11\", \"Topic11\", \"Topic11\", \"Topic11\", \"Topic11\", \"Topic11\", \"Topic11\", \"Topic11\", \"Topic11\", \"Topic11\", \"Topic11\", \"Topic11\", \"Topic11\", \"Topic11\", \"Topic11\", \"Topic11\", \"Topic11\", \"Topic11\", \"Topic11\", \"Topic11\", \"Topic11\", \"Topic11\", \"Topic11\", \"Topic11\", \"Topic11\", \"Topic11\", \"Topic11\", \"Topic11\", \"Topic11\", \"Topic11\", \"Topic11\", \"Topic11\", \"Topic11\", \"Topic11\", \"Topic11\", \"Topic11\", \"Topic11\", \"Topic11\", \"Topic11\", \"Topic11\", \"Topic11\", \"Topic11\", \"Topic11\", \"Topic11\", \"Topic11\", \"Topic11\", \"Topic11\", \"Topic11\", \"Topic11\", \"Topic11\", \"Topic11\", \"Topic11\", \"Topic11\", \"Topic11\", \"Topic11\", \"Topic11\", \"Topic11\", \"Topic11\", \"Topic11\", \"Topic11\", \"Topic11\", \"Topic12\", \"Topic12\", \"Topic12\", \"Topic12\", \"Topic12\", \"Topic12\", \"Topic12\", \"Topic12\", \"Topic12\", \"Topic12\", \"Topic12\", \"Topic12\", \"Topic12\", \"Topic12\", \"Topic12\", \"Topic12\", \"Topic12\", \"Topic12\", \"Topic12\", \"Topic12\", \"Topic12\", \"Topic12\", \"Topic12\", \"Topic12\", \"Topic12\", \"Topic12\", \"Topic12\", \"Topic12\", \"Topic12\", \"Topic12\", \"Topic12\", \"Topic12\", \"Topic12\", \"Topic12\", \"Topic12\", \"Topic12\", \"Topic12\", \"Topic12\", \"Topic12\", \"Topic12\", \"Topic12\", \"Topic12\", \"Topic12\", \"Topic12\", \"Topic12\", \"Topic12\", \"Topic12\", \"Topic12\", \"Topic12\", \"Topic12\", \"Topic12\", \"Topic12\", \"Topic12\", \"Topic12\", \"Topic12\", \"Topic12\", \"Topic12\", \"Topic12\", \"Topic12\", \"Topic12\", \"Topic12\", \"Topic12\", \"Topic12\", \"Topic12\", \"Topic12\", \"Topic12\", \"Topic12\", \"Topic12\", \"Topic12\", \"Topic12\", \"Topic12\", \"Topic12\", \"Topic12\", \"Topic12\", \"Topic12\", \"Topic12\", \"Topic13\", \"Topic13\", \"Topic13\", \"Topic13\", \"Topic13\", \"Topic13\", \"Topic13\", \"Topic13\", \"Topic13\", \"Topic13\", \"Topic13\", \"Topic13\", \"Topic13\", \"Topic13\", \"Topic13\", \"Topic13\", \"Topic13\", \"Topic13\", \"Topic13\", \"Topic13\", \"Topic13\", \"Topic13\", \"Topic13\", \"Topic13\", \"Topic13\", \"Topic13\", \"Topic13\", \"Topic13\", \"Topic13\", \"Topic13\", \"Topic13\", \"Topic13\", \"Topic13\", \"Topic13\", \"Topic13\", \"Topic13\", \"Topic13\", \"Topic13\", \"Topic13\", \"Topic13\", \"Topic13\", \"Topic13\", \"Topic13\", \"Topic13\", \"Topic13\", \"Topic13\", \"Topic13\", \"Topic13\", \"Topic13\", \"Topic13\", \"Topic13\", \"Topic13\", \"Topic13\", \"Topic13\", \"Topic13\", \"Topic13\", \"Topic13\", \"Topic13\", \"Topic13\", \"Topic13\", \"Topic13\", \"Topic13\", \"Topic13\", \"Topic13\", \"Topic13\", \"Topic13\", \"Topic14\", \"Topic14\", \"Topic14\", \"Topic14\", \"Topic14\", \"Topic14\", \"Topic14\", \"Topic14\", \"Topic14\", \"Topic14\", \"Topic14\", \"Topic14\", \"Topic14\", \"Topic14\", \"Topic14\", \"Topic14\", \"Topic14\", \"Topic14\", \"Topic14\", \"Topic14\", \"Topic14\", \"Topic14\", \"Topic14\", \"Topic14\", \"Topic14\", \"Topic14\", \"Topic14\", \"Topic14\", \"Topic14\", \"Topic14\", \"Topic14\", \"Topic14\", \"Topic14\", \"Topic14\", \"Topic14\", \"Topic14\", \"Topic14\", \"Topic14\", \"Topic14\", \"Topic14\", \"Topic14\", \"Topic14\", \"Topic14\", \"Topic14\", \"Topic14\", \"Topic14\", \"Topic15\", \"Topic15\", \"Topic15\", \"Topic15\", \"Topic15\", \"Topic15\", \"Topic15\", \"Topic15\", \"Topic15\", \"Topic15\", \"Topic15\", \"Topic15\", \"Topic15\", \"Topic15\", \"Topic15\", \"Topic15\", \"Topic15\", \"Topic15\", \"Topic15\", \"Topic15\", \"Topic15\", \"Topic15\", \"Topic15\", \"Topic15\", \"Topic15\", \"Topic15\", \"Topic15\", \"Topic15\", \"Topic15\", \"Topic15\", \"Topic15\", \"Topic15\", \"Topic15\", \"Topic15\", \"Topic15\", \"Topic15\", \"Topic15\", \"Topic15\", \"Topic15\", \"Topic15\", \"Topic15\", \"Topic15\", \"Topic15\", \"Topic15\", \"Topic15\", \"Topic15\", \"Topic15\"], \"Freq\": [697.0, 575.0, 840.0, 647.0, 1508.0, 919.0, 415.0, 284.0, 509.0, 1423.0, 313.0, 329.0, 883.0, 427.0, 1325.0, 579.0, 373.0, 614.0, 1307.0, 300.0, 219.0, 779.0, 379.0, 162.0, 913.0, 595.0, 351.0, 255.0, 1729.0, 820.0, 221.44798278808594, 82.18609619140625, 58.64871597290039, 77.64544677734375, 16.074018478393555, 16.927003860473633, 12.053297996520996, 12.055550575256348, 387.425048828125, 47.266292572021484, 227.1119384765625, 10.056458473205566, 34.09779739379883, 30.419466018676758, 11.843276977539062, 17.306175231933594, 10.914403915405273, 9.054032325744629, 9.050381660461426, 18.226882934570312, 9.036381721496582, 8.1162748336792, 28.292835235595703, 11.784672737121582, 9.02996826171875, 8.113250732421875, 9.011902809143066, 8.988714218139648, 12.626659393310547, 28.925798416137695, 26.26555061340332, 146.9619140625, 205.17556762695312, 26.685176849365234, 240.10572814941406, 36.352840423583984, 48.62273406982422, 24.928274154663086, 34.76597213745117, 97.58135986328125, 153.430908203125, 63.71025848388672, 90.87310028076172, 93.81688690185547, 53.692901611328125, 34.47490310668945, 40.695674896240234, 63.793800354003906, 162.2395782470703, 82.84036254882812, 68.12215423583984, 89.35950469970703, 120.74488067626953, 82.89888000488281, 108.41254425048828, 58.97876739501953, 56.2176399230957, 76.10347747802734, 571.292236328125, 176.0505828857422, 404.78302001953125, 226.4813995361328, 321.7153625488281, 214.285400390625, 138.1007843017578, 174.6710205078125, 167.8579559326172, 171.82911682128906, 172.0674591064453, 146.09202575683594, 182.0296630859375, 183.36203002929688, 252.40554809570312, 255.7035369873047, 212.4835968017578, 182.93112182617188, 202.46717834472656, 174.6517791748047, 212.02288818359375, 196.83628845214844, 165.46234130859375, 167.08731079101562, 154.11793518066406, 66.36955261230469, 34.97168731689453, 30.130718231201172, 85.80380249023438, 47.08037185668945, 211.71359252929688, 80.89583587646484, 117.89755249023438, 29.8020076751709, 35.335594177246094, 361.6058654785156, 19.355905532836914, 794.6571044921875, 403.68939208984375, 13.617233276367188, 29.726383209228516, 45.78435134887695, 12.48995304107666, 9.763301849365234, 344.8007507324219, 9.737556457519531, 467.7231750488281, 8.770607948303223, 141.7529296875, 10.509674072265625, 7.840456485748291, 70.97401428222656, 7.8147993087768555, 16.37755012512207, 6.864755630493164, 205.38966369628906, 255.6837921142578, 43.840553283691406, 124.85935974121094, 22.648801803588867, 13.872284889221191, 46.572349548339844, 44.62883758544922, 175.91751098632812, 216.53921508789062, 391.4679870605469, 74.11041259765625, 606.7232666015625, 234.78961181640625, 402.5248718261719, 219.13743591308594, 215.93223571777344, 260.2941589355469, 347.1224670410156, 221.09957885742188, 164.88970947265625, 252.715087890625, 360.8056945800781, 319.54827880859375, 237.9965362548828, 283.2748107910156, 214.44680786132812, 226.88949584960938, 196.2523193359375, 165.27919006347656, 196.8301544189453, 180.4654083251953, 563.5478515625, 682.4978637695312, 143.63136291503906, 213.99803161621094, 30.413671493530273, 227.10113525390625, 128.9996795654297, 47.63810348510742, 86.64543151855469, 17.19049835205078, 96.528564453125, 34.56755065917969, 234.23910522460938, 8.121349334716797, 9.855414390563965, 18.02570152282715, 15.326781272888184, 48.62834930419922, 7.10713005065918, 6.127501487731934, 6.092153072357178, 6.101424694061279, 6.061371803283691, 6.05983829498291, 34.07257080078125, 5.109208106994629, 31.778987884521484, 5.066486835479736, 269.5196838378906, 4.8940348625183105, 13.050164222717285, 21.404052734375, 15.059985160827637, 24.320186614990234, 59.98994064331055, 182.44215393066406, 28.725357055664062, 14.078826904296875, 305.1977844238281, 20.022172927856445, 183.10848999023438, 67.98287200927734, 241.39462280273438, 67.07534790039062, 93.07063293457031, 84.41862487792969, 238.61158752441406, 179.52691650390625, 98.64608001708984, 139.71766662597656, 75.03662872314453, 195.32354736328125, 142.25643920898438, 126.0942611694336, 177.87887573242188, 136.9733123779297, 138.66961669921875, 125.31739044189453, 116.35179138183594, 156.0242462158203, 110.28321075439453, 129.35400390625, 139.0701446533203, 115.30054473876953, 111.0092544555664, 116.70590209960938, 12.32568645477295, 15.57346248626709, 10.350014686584473, 6.665391445159912, 7.507007122039795, 6.638017177581787, 6.598935604095459, 5.754593849182129, 6.579851150512695, 7.415958404541016, 5.733369827270508, 5.729597091674805, 5.683690547943115, 4.797272205352783, 9.63036823272705, 6.394246578216553, 4.7591047286987305, 7.197415828704834, 4.7362213134765625, 4.738744735717773, 4.735194206237793, 121.74742889404297, 4.578075408935547, 18.360694885253906, 5.280394077301025, 9.732050895690918, 5.730134963989258, 7.204288005828857, 7.926849842071533, 14.447101593017578, 16.849201202392578, 64.80271911621094, 12.845149993896484, 59.42184829711914, 9.52468490600586, 10.867392539978027, 7.107135772705078, 52.96601867675781, 124.93505859375, 117.88507843017578, 92.61334991455078, 192.7220001220703, 15.071704864501953, 17.571605682373047, 187.609375, 120.74613189697266, 62.339195251464844, 126.68590545654297, 122.45050811767578, 65.07247161865234, 85.04853820800781, 39.26728820800781, 109.93219757080078, 96.1838607788086, 99.0860366821289, 52.46377944946289, 128.52194213867188, 147.87074279785156, 143.47659301757812, 70.50694274902344, 87.81415557861328, 81.17448425292969, 65.31769561767578, 76.24214172363281, 113.49113464355469, 88.32650756835938, 66.33934020996094, 61.554561614990234, 82.31781005859375, 81.04147338867188, 85.20061492919922, 85.822265625, 111.8801498413086, 89.57054138183594, 87.72071838378906, 94.61198425292969, 91.49195861816406, 22.511018753051758, 22.54922866821289, 26.73729133605957, 13.06440258026123, 5.896210670471191, 28.11346435546875, 4.957851409912109, 17.63800811767578, 4.948780059814453, 4.945999622344971, 6.494253635406494, 6.425419807434082, 4.70639181137085, 13.968598365783691, 6.865708827972412, 20.04039192199707, 10.04080867767334, 7.597190856933594, 43.96775817871094, 8.340368270874023, 4.535247802734375, 9.210455894470215, 5.945675373077393, 8.646377563476562, 5.745229721069336, 5.70135498046875, 14.34556770324707, 4.849044322967529, 4.859013557434082, 4.8516693115234375, 10.950282096862793, 5.614853382110596, 87.88656616210938, 59.51319885253906, 27.944229125976562, 19.91028594970703, 35.606292724609375, 45.951908111572266, 70.48629760742188, 36.70610809326172, 64.95426940917969, 15.638383865356445, 31.53171730041504, 120.44792175292969, 66.58875274658203, 23.031513214111328, 28.598522186279297, 30.007266998291016, 181.7822265625, 23.123014450073242, 27.619665145874023, 23.63825225830078, 203.45420837402344, 104.7341079711914, 53.488712310791016, 164.90948486328125, 89.13323211669922, 57.35856628417969, 102.48734283447266, 92.50809478759766, 112.38357543945312, 81.86929321289062, 147.47921752929688, 69.7208023071289, 109.99673461914062, 116.22113800048828, 80.7306137084961, 100.25676727294922, 86.58509826660156, 77.84660339355469, 78.9530029296875, 65.60671997070312, 63.571815490722656, 72.04379272460938, 77.60670471191406, 83.36756134033203, 66.68721008300781, 68.97212982177734, 68.22470092773438, 67.12744140625, 68.06625366210938, 299.289306640625, 94.7013931274414, 70.44708251953125, 84.31999969482422, 30.93598175048828, 183.07611083984375, 304.02264404296875, 13.975484848022461, 10.093523979187012, 65.49765014648438, 48.462276458740234, 22.40479850769043, 51.63759231567383, 6.117546558380127, 9.623957633972168, 65.07019805908203, 82.80192565917969, 147.99636840820312, 5.080500602722168, 30.553918838500977, 34.469905853271484, 8.08989429473877, 22.060148239135742, 507.7850341796875, 9.169775009155273, 8.376335144042969, 316.5691833496094, 7.255550861358643, 28.418785095214844, 4.1775922775268555, 9.268254280090332, 110.78204345703125, 17.244707107543945, 17.07755470275879, 38.29039001464844, 57.97502899169922, 51.92939758300781, 243.75103759765625, 163.6626739501953, 69.84156799316406, 110.0975112915039, 41.73574447631836, 104.93546295166016, 113.21710968017578, 178.630615234375, 134.01138305664062, 74.77796173095703, 99.41632843017578, 137.08987426757812, 127.50940704345703, 127.5946273803711, 109.97278594970703, 86.79657745361328, 113.44603729248047, 79.83866882324219, 82.3699722290039, 85.26594543457031, 91.00546264648438, 83.57645416259766, 82.28358459472656, 4.9695820808410645, 4.966972827911377, 9.192160606384277, 4.838206768035889, 33.494815826416016, 6.503602027893066, 13.163713455200195, 4.978511333465576, 10.098406791687012, 5.752878189086914, 12.703829765319824, 4.856222629547119, 4.782521724700928, 4.767368316650391, 14.332282066345215, 3.971482515335083, 3.9942846298217773, 19.108360290527344, 3.9382786750793457, 4.619264125823975, 3.87782621383667, 14.272104263305664, 7.27789831161499, 3.8107988834381104, 5.7470550537109375, 4.816042900085449, 7.512173652648926, 18.187280654907227, 4.959477424621582, 6.109958648681641, 41.5663948059082, 90.5290298461914, 16.785259246826172, 30.391157150268555, 15.126603126525879, 21.739871978759766, 41.56080627441406, 9.574334144592285, 9.89876651763916, 8.009998321533203, 33.576866149902344, 17.027751922607422, 112.4870834350586, 26.664621353149414, 30.635339736938477, 73.1529769897461, 41.10647964477539, 30.72323226928711, 97.71536254882812, 17.152021408081055, 15.052026748657227, 14.279682159423828, 23.221708297729492, 105.24298858642578, 88.22998809814453, 20.79923439025879, 69.7535171508789, 70.26354217529297, 76.173583984375, 112.30580139160156, 96.236083984375, 60.27397918701172, 60.42617416381836, 75.7632827758789, 76.66354370117188, 51.391361236572266, 57.07798767089844, 36.70048522949219, 56.40608215332031, 61.884639739990234, 54.139400482177734, 59.791603088378906, 51.65148162841797, 65.59822082519531, 64.92671966552734, 51.894351959228516, 53.30196762084961, 47.93974304199219, 52.24724578857422, 48.95985794067383, 46.571109771728516, 7.6364216804504395, 28.476455688476562, 38.378753662109375, 5.345861911773682, 3.978999137878418, 37.535831451416016, 3.630476236343384, 7.1329216957092285, 5.203364849090576, 4.073912620544434, 5.852004528045654, 5.1818952560424805, 5.233898639678955, 5.221831798553467, 6.719183921813965, 7.059899806976318, 13.885457992553711, 7.970224857330322, 4.038247108459473, 2.898062229156494, 2.919264554977417, 3.428755760192871, 2.6816225051879883, 3.406886100769043, 8.334365844726562, 3.838996648788452, 3.376072883605957, 2.8236348628997803, 4.272166728973389, 7.053242206573486, 61.228668212890625, 14.553034782409668, 16.14225959777832, 185.52639770507812, 16.315750122070312, 61.40421676635742, 9.507473945617676, 93.48442840576172, 24.440200805664062, 121.56915283203125, 117.43324279785156, 31.162071228027344, 22.32272720336914, 20.70716094970703, 101.03055572509766, 104.76791381835938, 69.69478607177734, 82.97530364990234, 44.98023223876953, 52.59602355957031, 34.38579177856445, 34.83311462402344, 79.29730224609375, 27.870290756225586, 61.72669982910156, 72.69226837158203, 55.5052375793457, 38.17959213256836, 51.247047424316406, 52.40387725830078, 51.473304748535156, 46.163150787353516, 54.14098358154297, 58.0689582824707, 57.479915618896484, 44.36042404174805, 50.92969512939453, 46.16117858886719, 47.451148986816406, 39.15384292602539, 38.987762451171875, 15.094703674316406, 8.094657897949219, 4.357537746429443, 8.937747955322266, 5.826395034790039, 2.559407949447632, 2.549208402633667, 34.05009460449219, 3.761507272720337, 6.7574782371521, 6.6810503005981445, 3.4210684299468994, 3.021730422973633, 8.781213760375977, 2.261795997619629, 2.5887291431427, 2.5724451541900635, 9.64879322052002, 2.5142910480499268, 2.5441510677337646, 3.8262994289398193, 2.4070019721984863, 2.0329842567443848, 2.351346731185913, 3.3104422092437744, 2.5651822090148926, 2.5813188552856445, 2.5726523399353027, 2.561511993408203, 3.3907642364501953, 3.412717819213867, 11.58285903930664, 4.124442100524902, 12.001090049743652, 5.008090496063232, 4.150125026702881, 6.012214183807373, 13.129728317260742, 41.5532112121582, 60.64495849609375, 109.13116455078125, 17.143470764160156, 22.945451736450195, 14.619451522827148, 68.6241683959961, 86.15878295898438, 58.313385009765625, 48.37739944458008, 55.77878189086914, 16.011491775512695, 28.26504898071289, 10.86878776550293, 54.94969177246094, 11.040751457214355, 27.36377716064453, 37.17066192626953, 30.154003143310547, 28.791278839111328, 36.24660873413086, 47.97943878173828, 33.66767501831055, 45.491065979003906, 41.45554733276367, 37.159122467041016, 35.487098693847656, 25.876699447631836, 32.338924407958984, 25.624025344848633, 31.348949432373047, 27.97860336303711, 27.956045150756836, 29.2038516998291, 29.760835647583008, 27.43707847595215, 6.869619369506836, 31.92782974243164, 3.9023287296295166, 7.4479169845581055, 2.8088622093200684, 5.123507022857666, 3.598510503768921, 5.476078510284424, 6.146811008453369, 2.687648057937622, 3.040421485900879, 3.435178279876709, 6.44633150100708, 2.182523012161255, 2.5528225898742676, 2.0904033184051514, 2.4832632541656494, 23.07567596435547, 2.065953016281128, 2.289868116378784, 2.8721561431884766, 1.901214361190796, 3.5626184940338135, 1.9207199811935425, 2.8409979343414307, 1.829530954360962, 1.8612943887710571, 1.8021328449249268, 2.1304056644439697, 5.442845344543457, 2.7172353267669678, 7.922530174255371, 2.750364303588867, 7.638482570648193, 24.126216888427734, 6.559941291809082, 124.13147735595703, 56.45823669433594, 19.207807540893555, 7.125785827636719, 9.083145141601562, 15.160063743591309, 9.772028923034668, 25.947341918945312, 7.178849220275879, 5.796914100646973, 38.99120330810547, 14.291597366333008, 20.39281463623047, 15.447319030761719, 14.315788269042969, 13.667981147766113, 14.967182159423828, 24.108936309814453, 31.175315856933594, 13.385848999023438, 40.91498947143555, 16.254161834716797, 29.894489288330078, 26.367507934570312, 34.938514709472656, 32.921409606933594, 25.820295333862305, 24.376068115234375, 24.85354995727539, 25.63469886779785, 23.981544494628906, 20.35733985900879, 29.66815948486328, 22.657339096069336, 25.371353149414062, 26.081140518188477, 20.385738372802734, 19.916513442993164, 24.98541259765625, 23.259918212890625, 22.832162857055664, 20.309375762939453, 4.083241939544678, 5.335764408111572, 8.955212593078613, 3.5907087326049805, 3.582658529281616, 3.00766658782959, 4.381369590759277, 3.212770938873291, 2.6928458213806152, 2.631873607635498, 4.198081016540527, 4.120365142822266, 2.2916440963745117, 4.303319931030273, 2.7030627727508545, 2.698681354522705, 2.4648873805999756, 5.158919334411621, 4.280054092407227, 2.7575862407684326, 4.117946147918701, 2.031872510910034, 8.168553352355957, 2.579474925994873, 2.5817766189575195, 3.554481267929077, 3.1336822509765625, 2.2269749641418457, 1.8083326816558838, 1.8224775791168213, 3.4115166664123535, 3.1597306728363037, 4.456033706665039, 7.560288906097412, 7.155163764953613, 5.130428314208984, 20.74192237854004, 17.28974151611328, 23.973941802978516, 6.951730251312256, 13.013270378112793, 30.064594268798828, 9.205564498901367, 4.7940497398376465, 5.402431011199951, 19.157047271728516, 19.47280502319336, 31.857685089111328, 7.744903564453125, 26.807353973388672, 23.62262725830078, 15.832797050476074, 18.271665573120117, 34.60635757446289, 9.271607398986816, 18.58094596862793, 9.165417671203613, 15.989248275756836, 11.272709846496582, 11.044599533081055, 20.659114837646484, 18.297460556030273, 20.684829711914062, 12.051751136779785, 21.31943130493164, 15.598236083984375, 19.704505920410156, 18.40921974182129, 14.68140697479248, 16.995508193969727, 16.207801818847656, 13.808745384216309, 13.771413803100586, 13.611358642578125, 13.232342720031738, 13.556050300598145, 2.6144330501556396, 2.616319179534912, 3.810497283935547, 3.5050883293151855, 3.4713120460510254, 2.6143715381622314, 2.616533041000366, 2.6184170246124268, 2.5730910301208496, 2.4512009620666504, 3.3248603343963623, 1.7666116952896118, 1.7561979293823242, 1.765425205230713, 3.2127625942230225, 2.5373446941375732, 1.9302623271942139, 1.7661654949188232, 4.678018569946289, 3.6033437252044678, 4.674116134643555, 3.2839179039001465, 2.427915573120117, 1.630765438079834, 2.4738476276397705, 1.5286916494369507, 1.5499444007873535, 1.7650221586227417, 5.687946319580078, 1.7670447826385498, 2.4824469089508057, 16.19679069519043, 2.601663112640381, 7.713694095611572, 16.687822341918945, 3.798107385635376, 3.2473206520080566, 3.4636788368225098, 6.468364238739014, 8.064202308654785, 3.3515210151672363, 16.466981887817383, 8.582964897155762, 14.621047019958496, 7.145046710968018, 10.736879348754883, 16.868022918701172, 4.257081508636475, 10.961381912231445, 17.267772674560547, 19.60106658935547, 17.020715713500977, 8.764233589172363, 19.120248794555664, 16.136009216308594, 9.139952659606934, 12.382035255432129, 20.303138732910156, 12.39588737487793, 13.22433090209961, 13.428803443908691, 16.31199836730957, 18.105812072753906, 13.693377494812012, 15.171051979064941, 16.768598556518555, 14.650632858276367, 13.175073623657227, 15.131058692932129, 12.143834114074707, 13.749044418334961, 12.69221019744873, 11.443024635314941, 10.229111671447754, 11.751060485839844, 10.888062477111816, 1.0933419466018677, 1.1149351596832275, 1.1260546445846558, 0.5824849605560303, 1.0770124197006226, 0.5848250985145569, 0.585962176322937, 1.532256007194519, 0.5862702131271362, 0.982758104801178, 0.5825290083885193, 0.5818993449211121, 0.5795096158981323, 1.566988229751587, 0.5682424902915955, 0.5860373973846436, 0.5805715322494507, 0.5530011057853699, 0.5523461103439331, 0.5524775981903076, 0.5519605875015259, 0.5556983351707458, 1.6844406127929688, 0.5819929242134094, 0.5844385027885437, 0.5125308036804199, 0.5765578746795654, 1.036441683769226, 0.5811513662338257, 0.5720850825309753, 3.985194206237793, 0.9933556914329529, 1.187206506729126, 1.4655381441116333, 4.362710952758789, 1.098661184310913, 1.855789065361023, 1.0647304058074951, 1.4795119762420654, 2.512103796005249, 1.3226805925369263, 2.2084367275238037, 1.1310862302780151, 2.462554454803467, 0.8727231621742249, 4.18830680847168, 1.689052939414978, 3.1373538970947266, 1.1247308254241943, 3.33813738822937, 1.8910425901412964, 1.9258923530578613, 2.2896249294281006, 1.8320395946502686, 2.722818613052368, 2.731872320175171, 1.6545562744140625, 1.988234519958496, 1.4531937837600708, 1.4975520372390747, 1.4473317861557007, 1.5306415557861328, 1.4428412914276123, 1.4496358633041382, 1.4173264503479004, 1.4669880867004395, 0.3885524868965149, 0.21302905678749084, 0.21090306341648102, 0.21271656453609467, 0.21139651536941528, 0.2118055373430252, 0.2034084051847458, 0.18914155662059784, 0.2099672257900238, 0.18968383967876434, 0.21150928735733032, 0.21076449751853943, 0.20988167822360992, 0.2090895026922226, 0.20044846832752228, 0.17291435599327087, 0.21346795558929443, 0.21214643120765686, 0.24299825727939606, 0.19505497813224792, 0.20909956097602844, 0.21079565584659576, 0.20329739153385162, 0.1905447244644165, 0.2120290994644165, 0.2035648375749588, 0.20255160331726074, 0.21151405572891235, 0.21250887215137482, 0.1223377138376236, 0.19387519359588623, 0.2112838178873062, 0.5186294913291931, 1.048566460609436, 0.2729560434818268, 0.3253870904445648, 0.2423875331878662, 0.35202518105506897, 0.32604917883872986, 0.2515134811401367, 0.2676765024662018, 0.2378184050321579, 0.2242371141910553, 0.21295945346355438, 0.21073035895824432, 0.2106129229068756, 0.1128467544913292, 0.11338205635547638, 0.11292663216590881, 0.11092207580804825, 0.1129675805568695, 0.11257839947938919, 0.10749900341033936, 0.10642897337675095, 0.08677220344543457, 0.05033445358276367, 0.10987439006567001, 0.04763149097561836, 0.11307806521654129, 0.09637576341629028, 0.10790614038705826, 0.11215685307979584, 0.020657023414969444, 0.056901805102825165, 0.05006750673055649, 0.042721524834632874, 0.014936048537492752, 0.00981229729950428, 0.019458532333374023, 0.007319677155464888, 0.03321042284369469, 0.007236763834953308, 0.007802372332662344, 0.007262007333338261, 0.007820837199687958, 0.00728287547826767, 0.007708617020398378, 0.012947053648531437, 0.013850489631295204, 0.0553177110850811, 0.0272661279886961, 0.05983230471611023, 0.02187824621796608, 0.10728814452886581, 0.14694887399673462, 0.03117208369076252, 0.06582564860582352, 0.07554199546575546, 0.05841221287846565, 0.05333928018808365, 0.05351995676755905, 0.05096781998872757, 0.051121629774570465], \"Term\": [\"elinor\", \"marianne\", \"emma\", \"elizabeth\", \"miss\", \"jane\", \"darcy\", \"monsieur\", \"harriet\", \"know\", \"bingley\", \"bennet\", \"room\", \"weston\", \"like\", \"sir\", \"elton\", \"hand\", \"think\", \"woodhouse\", \"willoughby\", \"thing\", \"knightley\", \"book\", \"shall\", \"sister\", \"rochester\", \"dashwood\", \"little\", \"come\", \"graham\", \"paulina\", \"snowe\", \"polly\", \"georgette\", \"portress\", \"cleopatra\", \"fifine\", \"madame\", \"fossette\", \"bretton\", \"grisette\", \"rosine\", \"bonne\", \"plus\", \"desiree\", \"porcelain\", \"faubourg\", \"vashti\", \"bon\", \"reliant\", \"confessional\", \"godmother\", \"ville\", \"peaceful\", \"outlet\", \"violets\", \"lisp\", \"bouquet\", \"mais\", \"alley\", \"beck\", \"dr\", \"tout\", \"monsieur\", \"pere\", \"henri\", \"salon\", \"les\", \"vous\", \"paul\", \"rue\", \"est\", \"mdlle\", \"que\", \"mon\", \"bien\", \"reuter\", \"english\", \"emanuel\", \"et\", \"mademoiselle\", \"papa\", \"ginevra\", \"pupils\", \"bassompierre\", \"je\", \"la\", \"little\", \"lucy\", \"like\", \"hand\", \"thought\", \"eyes\", \"light\", \"old\", \"took\", \"door\", \"knew\", \"eye\", \"night\", \"look\", \"good\", \"know\", \"long\", \"looked\", \"day\", \"came\", \"think\", \"time\", \"heart\", \"saw\", \"room\", \"isabella\", \"enscombe\", \"abbey\", \"randalls\", \"donwell\", \"churchill\", \"martin\", \"highbury\", \"maple\", \"surprize\", \"knightley\", \"connexion\", \"emma\", \"weston\", \"suckling\", \"surprized\", \"taylor\", \"martins\", \"selina\", \"elton\", \"smallridge\", \"harriet\", \"surry\", \"hartfield\", \"brunswick\", \"yorkshire\", \"perry\", \"cox\", \"weymouth\", \"bragge\", \"frank\", \"woodhouse\", \"campbell\", \"bates\", \"campbells\", \"churchills\", \"cole\", \"goddard\", \"body\", \"fairfax\", \"thing\", \"smith\", \"miss\", \"father\", \"think\", \"dear\", \"sure\", \"great\", \"good\", \"young\", \"friend\", \"jane\", \"little\", \"know\", \"man\", \"time\", \"soon\", \"thought\", \"shall\", \"oh\", \"like\", \"day\", \"marianne\", \"elinor\", \"brandon\", \"willoughby\", \"delaford\", \"jennings\", \"ferrars\", \"fanny\", \"barton\", \"berkeley\", \"middleton\", \"margaret\", \"dashwood\", \"longstaple\", \"palmers\", \"middletons\", \"harley\", \"norland\", \"conduit\", \"dorsetshire\", \"enquire\", \"bartlett\", \"unceasing\", \"plymouth\", \"steele\", \"enquiry\", \"dashwoods\", \"enquiries\", \"edward\", \"prior\", \"exeter\", \"devonshire\", \"allenham\", \"steeles\", \"cottage\", \"colonel\", \"unfortunate\", \"tomorrow\", \"sister\", \"cleveland\", \"lucy\", \"engagement\", \"mother\", \"behaviour\", \"affection\", \"town\", \"time\", \"soon\", \"replied\", \"heart\", \"spirits\", \"know\", \"thing\", \"john\", \"think\", \"house\", \"great\", \"felt\", \"mind\", \"good\", \"moment\", \"day\", \"little\", \"man\", \"saw\", \"miss\", \"yorke\", \"seacombe\", \"tynedale\", \"patrician\", \"narrated\", \"throb\", \"presentiment\", \"timon\", \"ordeal\", \"dimness\", \"epistle\", \"aristocratic\", \"seraph\", \"parallel\", \"vengeance\", \"icy\", \"workings\", \"haired\", \"spoiling\", \"shadowed\", \"wider\", \"hunsden\", \"sped\", \"cholmondeley\", \"fade\", \"porter\", \"professional\", \"leaven\", \"piquant\", \"uncles\", \"victor\", \"crimsworth\", \"lad\", \"frances\", \"waiter\", \"poison\", \"clothing\", \"ll\", \"night\", \"life\", \"letter\", \"like\", \"hamal\", \"trunk\", \"know\", \"come\", \"got\", \"long\", \"man\", \"years\", \"went\", \"hard\", \"saw\", \"john\", \"heart\", \"dark\", \"day\", \"good\", \"time\", \"asked\", \"yes\", \"left\", \"right\", \"face\", \"thought\", \"way\", \"leave\", \"stood\", \"eyes\", \"hand\", \"looked\", \"house\", \"little\", \"shall\", \"room\", \"think\", \"miss\", \"scatcherd\", \"miller\", \"eshton\", \"frock\", \"quaint\", \"burns\", \"saxon\", \"lynn\", \"wash\", \"potatoes\", \"skirt\", \"pony\", \"sprain\", \"storey\", \"porridge\", \"abbot\", \"lloyd\", \"frocks\", \"brocklehurst\", \"amy\", \"cabas\", \"snowy\", \"mug\", \"cheese\", \"strings\", \"tablet\", \"smoke\", \"crushing\", \"herd\", \"odour\", \"wages\", \"embers\", \"bessie\", \"ingram\", \"gallery\", \"dent\", \"lowood\", \"temple\", \"reed\", \"helen\", \"adele\", \"hay\", \"horse\", \"rochester\", \"hall\", \"gateshead\", \"schoolroom\", \"candle\", \"room\", \"nursery\", \"georgiana\", \"mama\", \"miss\", \"door\", \"black\", \"like\", \"face\", \"bed\", \"looked\", \"heard\", \"long\", \"went\", \"little\", \"fairfax\", \"day\", \"time\", \"hand\", \"thought\", \"come\", \"night\", \"came\", \"asked\", \"sat\", \"eyes\", \"shall\", \"good\", \"took\", \"saw\", \"house\", \"lady\", \"think\", \"bingley\", \"lizzy\", \"netherfield\", \"longbourn\", \"officers\", \"wickham\", \"bennet\", \"lucases\", \"bennets\", \"lucas\", \"pemberley\", \"derbyshire\", \"meryton\", \"gardiners\", \"lambton\", \"kitty\", \"gardiner\", \"lydia\", \"enumerating\", \"hurst\", \"hertfordshire\", \"chooses\", \"regiment\", \"elizabeth\", \"judgement\", \"elopement\", \"darcy\", \"gracechurch\", \"forster\", \"bingleys\", \"assembly\", \"collins\", \"caroline\", \"hunsford\", \"everybody\", \"catherine\", \"charlotte\", \"jane\", \"sister\", \"sisters\", \"family\", \"daughters\", \"father\", \"dear\", \"miss\", \"soon\", \"replied\", \"mother\", \"know\", \"think\", \"time\", \"man\", \"hope\", \"good\", \"letter\", \"young\", \"shall\", \"little\", \"room\", \"day\", \"sprite\", \"population\", \"whitcross\", \"summits\", \"hannah\", \"carlo\", \"beggar\", \"portmanteau\", \"marsh\", \"hamlet\", \"orchard\", \"gasped\", \"moorland\", \"verge\", \"janet\", \"strayed\", \"infirm\", \"leah\", \"flowery\", \"luminous\", \"speck\", \"india\", \"moors\", \"ghosts\", \"streaming\", \"angle\", \"driver\", \"moor\", \"bush\", \"handled\", \"diana\", \"st\", \"oliver\", \"rivers\", \"sophie\", \"fields\", \"road\", \"scholars\", \"stones\", \"blew\", \"thornfield\", \"village\", \"sir\", \"wall\", \"sky\", \"rochester\", \"mary\", \"rain\", \"night\", \"hills\", \"west\", \"birds\", \"stone\", \"jane\", \"house\", \"wet\", \"john\", \"heart\", \"saw\", \"little\", \"like\", \"morning\", \"door\", \"day\", \"thought\", \"face\", \"felt\", \"god\", \"looked\", \"long\", \"eyes\", \"shall\", \"yes\", \"good\", \"time\", \"hand\", \"come\", \"left\", \"know\", \"soon\", \"place\", \"jenkinson\", \"fitzwilliam\", \"rosings\", \"landlord\", \"exposing\", \"ladyship\", \"astonish\", \"philosophy\", \"bathing\", \"gross\", \"pretended\", \"apologise\", \"supposition\", \"obligations\", \"gruel\", \"condescension\", \"maria\", \"kent\", \"displaying\", \"accounting\", \"inconsiderable\", \"abominably\", \"luckless\", \"consoling\", \"sickly\", \"solely\", \"purchases\", \"preaching\", \"injure\", \"quest\", \"catherine\", \"phillips\", \"parsonage\", \"sir\", \"bourgh\", \"collins\", \"interruption\", \"darcy\", \"civility\", \"lady\", \"elizabeth\", \"charlotte\", \"cousin\", \"william\", \"miss\", \"little\", \"shall\", \"good\", \"friend\", \"yes\", \"ladies\", \"daughter\", \"know\", \"aunt\", \"soon\", \"think\", \"house\", \"told\", \"great\", \"jane\", \"room\", \"away\", \"day\", \"like\", \"time\", \"young\", \"thought\", \"come\", \"long\", \"look\", \"way\", \"charade\", \"patty\", \"rivet\", \"hawkins\", \"invitations\", \"tolerate\", \"prose\", \"palmer\", \"droll\", \"ford\", \"baked\", \"villain\", \"job\", \"eltons\", \"prevailing\", \"contribute\", \"dulness\", \"apples\", \"interrupting\", \"improper\", \"parade\", \"playfulness\", \"favourites\", \"miserably\", \"replying\", \"kings\", \"butler\", \"vii\", \"surprising\", \"impudence\", \"horrid\", \"excessively\", \"grandmama\", \"obliging\", \"apple\", \"riddle\", \"spectacles\", \"paper\", \"woodhouse\", \"oh\", \"miss\", \"news\", \"afraid\", \"charming\", \"shall\", \"know\", \"thing\", \"dear\", \"come\", \"written\", \"body\", \"goddard\", \"jane\", \"cole\", \"colonel\", \"sir\", \"hear\", \"going\", \"mother\", \"good\", \"sure\", \"think\", \"day\", \"soon\", \"emma\", \"cried\", \"came\", \"elton\", \"great\", \"yes\", \"better\", \"thought\", \"like\", \"little\", \"madeira\", \"mason\", \"sob\", \"briggs\", \"warped\", \"lunatic\", \"fiend\", \"chestnut\", \"frantic\", \"exists\", \"compel\", \"wrist\", \"crib\", \"disk\", \"maniac\", \"christ\", \"truthful\", \"helen\", \"bled\", \"swear\", \"corpse\", \"petty\", \"hangings\", \"bewitched\", \"shrank\", \"jamaica\", \"perched\", \"tenant\", \"tractable\", \"carter\", \"liar\", \"wicked\", \"frenzy\", \"fury\", \"eyre\", \"pilot\", \"jane\", \"rochester\", \"dead\", \"poole\", \"bride\", \"thornfield\", \"shoulder\", \"god\", \"kissed\", \"torn\", \"love\", \"sought\", \"master\", \"reed\", \"arms\", \"water\", \"forget\", \"words\", \"sir\", \"arm\", \"like\", \"lips\", \"come\", \"night\", \"think\", \"thought\", \"heart\", \"life\", \"heard\", \"came\", \"hand\", \"leave\", \"know\", \"yes\", \"shall\", \"day\", \"tell\", \"face\", \"little\", \"time\", \"good\", \"man\", \"aerial\", \"bust\", \"eulalie\", \"chalk\", \"gems\", \"perfumed\", \"josef\", \"ringlets\", \"specimens\", \"obeying\", \"assemblage\", \"moulded\", \"fantastic\", \"tints\", \"belles\", \"majestic\", \"mesdemoiselles\", \"braided\", \"scarf\", \"sais\", \"anglais\", \"roman\", \"heads\", \"feather\", \"sloping\", \"bracelet\", \"eastern\", \"jetty\", \"boundless\", \"boisterous\", \"enclosed\", \"lids\", \"attic\", \"blanche\", \"dent\", \"indian\", \"features\", \"pelet\", \"hair\", \"crimson\", \"ingram\", \"rochester\", \"neck\", \"missionary\", \"robe\", \"dark\", \"white\", \"eyes\", \"pictures\", \"face\", \"eye\", \"black\", \"large\", \"like\", \"complexion\", \"head\", \"shape\", \"sat\", \"pale\", \"form\", \"man\", \"looked\", \"thought\", \"low\", \"little\", \"moment\", \"know\", \"time\", \"hand\", \"think\", \"good\", \"love\", \"heart\", \"young\", \"life\", \"long\", \"flamand\", \"showers\", \"impediment\", \"veneration\", \"poisoned\", \"fagged\", \"official\", \"rendering\", \"contemplate\", \"eton\", \"stubborn\", \"morals\", \"conducting\", \"caps\", \"external\", \"talented\", \"unmarried\", \"flint\", \"belgian\", \"farthest\", \"bone\", \"toil\", \"brand\", \"towers\", \"impressive\", \"surveying\", \"irritating\", \"uttering\", \"vandenhuten\", \"insuperable\", \"shilling\", \"diana\", \"subdue\", \"clergyman\", \"crimsworth\", \"rosamond\", \"intellectual\", \"lamb\", \"german\", \"mason\", \"nodded\", \"god\", \"moon\", \"st\", \"prove\", \"thousand\", \"eye\", \"october\", \"sisters\", \"john\", \"man\", \"felt\", \"picture\", \"long\", \"hand\", \"mary\", \"certain\", \"like\", \"rochester\", \"pleasure\", \"face\", \"shall\", \"time\", \"love\", \"come\", \"know\", \"thought\", \"jane\", \"little\", \"looked\", \"good\", \"day\", \"away\", \"read\", \"think\", \"look\", \"tragedy\", \"translation\", \"split\", \"studious\", \"athenee\", \"luckless\", \"scowled\", \"grec\", \"imitation\", \"demanding\", \"slope\", \"temperature\", \"slid\", \"dismay\", \"tiger\", \"artful\", \"discarded\", \"clenched\", \"bags\", \"administer\", \"vase\", \"receding\", \"zelie\", \"flint\", \"execute\", \"garcon\", \"simultaneously\", \"voila\", \"girdle\", \"mesdemoiselles\", \"accomplished\", \"assent\", \"charles\", \"screen\", \"vous\", \"ruined\", \"ne\", \"substitute\", \"sylvie\", \"bonnet\", \"elbow\", \"pas\", \"bench\", \"reading\", \"politely\", \"monsieur\", \"reasonable\", \"work\", \"moi\", \"word\", \"knowing\", \"est\", \"table\", \"books\", \"hand\", \"room\", \"ear\", \"sat\", \"je\", \"la\", \"dared\", \"book\", \"reader\", \"scarcely\", \"clear\", \"long\", \"disappointing\", \"studious\", \"sofas\", \"vouchsafe\", \"dissatisfaction\", \"choosing\", \"explaining\", \"yawn\", \"yawned\", \"anecdote\", \"fireplace\", \"charmingly\", \"interfere\", \"congratulation\", \"exaggerate\", \"ludicrous\", \"rainbow\", \"bracelets\", \"cheated\", \"soup\", \"refreshing\", \"petition\", \"flock\", \"pleasantest\", \"admitting\", \"exclaim\", \"aimed\", \"desperation\", \"persevered\", \"platform\", \"meditating\", \"accuracy\", \"motives\", \"book\", \"indignant\", \"bye\", \"hurst\", \"miss\", \"room\", \"reading\", \"round\", \"gentlemen\", \"ran\", \"process\", \"tedious\", \"unconsciously\", \"quickened\", \"disapproved\", \"hamlet\", \"suggesting\", \"dispersed\", \"happens\", \"stretch\", \"dearly\", \"unreserve\", \"downs\", \"seclusion\", \"lanes\", \"coat\", \"expressive\", \"stole\", \"abruptly\", \"ungenerous\", \"valley\", \"voices\", \"eligible\", \"evince\", \"effusions\", \"employments\", \"studious\", \"romantic\", \"sofas\", \"administer\", \"dissatisfaction\", \"receding\", \"yawn\", \"vase\", \"leant\", \"williams\", \"horse\", \"walks\", \"showed\", \"violence\", \"willoughby\", \"marianne\", \"sunk\", \"dashwood\", \"elinor\", \"little\", \"think\", \"know\", \"time\", \"miss\"], \"Total\": [697.0, 575.0, 840.0, 647.0, 1508.0, 919.0, 415.0, 284.0, 509.0, 1423.0, 313.0, 329.0, 883.0, 427.0, 1325.0, 579.0, 373.0, 614.0, 1307.0, 300.0, 219.0, 779.0, 379.0, 162.0, 913.0, 595.0, 351.0, 255.0, 1729.0, 820.0, 229.727294921875, 85.94001007080078, 61.56528091430664, 81.79003143310547, 17.049848556518555, 18.044404983520508, 12.984443664550781, 12.99704647064209, 420.31256103515625, 51.30760955810547, 247.25921630859375, 10.957133293151855, 37.1576042175293, 33.225563049316406, 12.962387084960938, 18.97286033630371, 11.967244148254395, 9.946577072143555, 9.94656753540039, 20.057270050048828, 9.945366859436035, 8.936089515686035, 31.151226043701172, 12.975281715393066, 9.945779800415039, 8.938557624816895, 9.941349029541016, 9.935534477233887, 13.975842475891113, 32.01865005493164, 29.099517822265625, 169.06642150878906, 240.1951904296875, 30.008901596069336, 284.7344970703125, 41.26702117919922, 55.883514404296875, 28.091806411743164, 39.67660140991211, 116.84162139892578, 187.21759033203125, 74.97522735595703, 110.49239349365234, 114.564697265625, 64.44007110595703, 40.0985221862793, 48.46247482299805, 79.60014343261719, 232.6134490966797, 108.90837097167969, 87.56025695800781, 121.09734344482422, 173.9310760498047, 111.8238754272461, 156.78150939941406, 75.83674621582031, 71.6041259765625, 106.25422668457031, 1729.00927734375, 386.41705322265625, 1325.4385986328125, 614.676025390625, 1141.4896240234375, 637.5501708984375, 309.5577087402344, 484.5162658691406, 497.7357177734375, 537.3016357421875, 547.2725830078125, 393.48583984375, 623.632568359375, 639.1326293945312, 1349.852783203125, 1423.574462890625, 935.9224853515625, 699.1946411132812, 1054.2342529296875, 688.3550415039062, 1307.612548828125, 1313.94677734375, 656.4171142578125, 778.3116455078125, 883.6495971679688, 68.18440246582031, 35.97674560546875, 31.09807014465332, 88.59060668945312, 48.647037506103516, 218.93743896484375, 83.8717041015625, 122.50755310058594, 31.050228118896484, 36.923030853271484, 379.1298828125, 20.343828201293945, 840.5614624023438, 427.621337890625, 14.485751152038574, 31.90496253967285, 49.29475784301758, 13.52401065826416, 10.58554744720459, 373.8548889160156, 10.583841323852539, 509.2683410644531, 9.607481956481934, 155.37677001953125, 11.544936180114746, 8.631817817687988, 78.14157104492188, 8.629612922668457, 18.249542236328125, 7.653684616088867, 233.67745971679688, 300.1639099121094, 49.925533294677734, 145.62159729003906, 25.855941772460938, 15.505553245544434, 58.700889587402344, 56.790428161621094, 272.02294921875, 366.92156982421875, 779.410400390625, 111.40592193603516, 1508.7012939453125, 513.12939453125, 1307.612548828125, 586.9136962890625, 613.4613037109375, 823.5147094726562, 1349.852783203125, 663.3276977539062, 434.77178955078125, 919.8470458984375, 1729.00927734375, 1423.574462890625, 903.0779418945312, 1313.94677734375, 921.7045288085938, 1141.4896240234375, 913.6341552734375, 551.0355834960938, 1325.4385986328125, 1054.2342529296875, 575.5050048828125, 697.5142211914062, 147.17335510253906, 219.671630859375, 31.358156204223633, 234.31333923339844, 133.17205810546875, 49.672393798828125, 90.97245788574219, 18.13190460205078, 104.02217102050781, 37.35652542114258, 255.57362365722656, 8.966170310974121, 10.94943618774414, 20.04674530029297, 17.08397674560547, 54.33515167236328, 7.94645881652832, 6.930309295654297, 6.91685676574707, 6.927614212036133, 6.923216819763184, 6.928040981292725, 39.34182357788086, 5.903048038482666, 36.91848373413086, 5.903977870941162, 321.2532958984375, 5.896608829498291, 15.951277732849121, 26.513946533203125, 18.63957977294922, 31.11119270324707, 85.77898406982422, 303.5080871582031, 40.05510711669922, 17.825830459594727, 595.8607177734375, 27.07569122314453, 386.41705322265625, 117.33049774169922, 672.6842041015625, 146.8544921875, 266.0000305175781, 239.7554473876953, 1313.94677734375, 921.7045288085938, 350.5633239746094, 656.4171142578125, 230.14736938476562, 1423.574462890625, 779.410400390625, 623.137939453125, 1307.612548828125, 754.1112060546875, 823.5147094726562, 668.1005249023438, 573.5418090820312, 1349.852783203125, 575.0907592773438, 1054.2342529296875, 1729.00927734375, 903.0779418945312, 778.3116455078125, 1508.7012939453125, 13.208066940307617, 16.97153091430664, 11.292265892028809, 7.4894280433654785, 8.436328887939453, 7.4903411865234375, 7.487798690795898, 6.534839153289795, 7.485979080200195, 8.450660705566406, 6.534080982208252, 6.5341410636901855, 6.532621383666992, 5.5824432373046875, 11.270977020263672, 7.50309944152832, 5.585404396057129, 8.469189643859863, 5.57465124130249, 5.580385208129883, 5.579047203063965, 145.08212280273438, 5.586326599121094, 22.757068634033203, 6.544920921325684, 12.332921981811523, 7.38418436050415, 9.330489158630371, 10.289833068847656, 18.966358184814453, 22.785999298095703, 95.09290313720703, 17.1873779296875, 116.30177307128906, 13.0635986328125, 16.221797943115234, 9.445318222045898, 147.25221252441406, 623.632568359375, 581.652099609375, 423.8504333496094, 1325.4385986328125, 28.242263793945312, 35.878910064697266, 1423.574462890625, 820.2481079101562, 284.4283142089844, 935.9224853515625, 903.0779418945312, 316.29052734375, 495.6358947753906, 138.50111389160156, 778.3116455078125, 623.137939453125, 656.4171142578125, 226.79849243164062, 1054.2342529296875, 1349.852783203125, 1313.94677734375, 395.2699890136719, 590.4564819335938, 536.8109741210938, 357.58349609375, 495.402587890625, 1141.4896240234375, 686.8342895507812, 382.4984436035156, 324.1923522949219, 637.5501708984375, 614.676025390625, 699.1946411132812, 754.1112060546875, 1729.00927734375, 913.6341552734375, 883.6495971679688, 1307.612548828125, 1508.7012939453125, 23.407258987426758, 24.333219528198242, 29.24711036682129, 14.562911033630371, 6.714644908905029, 32.092002868652344, 5.7321343421936035, 20.404726028442383, 5.732061862945557, 5.730943202972412, 7.698646545410156, 7.6642608642578125, 5.724610805511475, 17.364145278930664, 8.601853370666504, 25.173219680786133, 12.621429443359375, 9.55115795135498, 55.53892135620117, 10.545282363891602, 5.740065097808838, 11.679180145263672, 7.605218887329102, 11.500679016113281, 7.6887993812561035, 7.646779537200928, 19.413681030273438, 6.631407260894775, 6.683463096618652, 6.681262016296387, 15.150652885437012, 7.734358787536621, 128.1721649169922, 87.7190170288086, 40.95386505126953, 28.572324752807617, 54.289615631103516, 73.77985382080078, 126.38636779785156, 61.48288345336914, 133.43359375, 24.03334617614746, 61.14854431152344, 351.5189514160156, 172.0853729248047, 42.507076263427734, 57.752864837646484, 62.00114440917969, 883.6495971679688, 45.27574920654297, 59.45585632324219, 48.587989807128906, 1508.7012939453125, 537.3016357421875, 180.50039672851562, 1325.4385986328125, 495.402587890625, 223.6100616455078, 699.1946411132812, 622.4805908203125, 935.9224853515625, 495.6358947753906, 1729.00927734375, 366.92156982421875, 1054.2342529296875, 1313.94677734375, 614.676025390625, 1141.4896240234375, 820.2481079101562, 623.632568359375, 688.3550415039062, 395.2699890136719, 367.18194580078125, 637.5501708984375, 913.6341552734375, 1349.852783203125, 497.7357177734375, 778.3116455078125, 754.1112060546875, 615.965576171875, 1307.612548828125, 313.4405517578125, 99.88561248779297, 75.31982421875, 90.53863525390625, 33.47010803222656, 198.3348846435547, 329.43621826171875, 15.154995918273926, 11.065374374389648, 72.01686096191406, 54.546180725097656, 25.22211265563965, 58.5794677734375, 6.976779460906982, 11.012299537658691, 75.2177963256836, 96.72498321533203, 172.9124755859375, 5.944077014923096, 36.41365051269531, 42.06016540527344, 9.967955589294434, 27.212604522705078, 647.0048217773438, 11.870205879211426, 10.930994033813477, 415.2861328125, 9.815366744995117, 39.081485748291016, 5.834491729736328, 13.069696426391602, 176.14930725097656, 25.42566680908203, 25.508277893066406, 67.0560531616211, 125.74443817138672, 111.75465393066406, 919.8470458984375, 595.8607177734375, 188.2409210205078, 384.42877197265625, 106.90608215332031, 513.12939453125, 586.9136962890625, 1508.7012939453125, 921.7045288085938, 350.5633239746094, 672.6842041015625, 1423.574462890625, 1307.612548828125, 1313.94677734375, 903.0779418945312, 509.129150390625, 1349.852783203125, 423.8504333496094, 663.3276977539062, 913.6341552734375, 1729.00927734375, 883.6495971679688, 1054.2342529296875, 5.76133918762207, 5.760207176208496, 10.725746154785156, 5.757121562957764, 41.00336456298828, 8.678374290466309, 17.685129165649414, 6.694831371307373, 13.722719192504883, 7.820817470550537, 17.40205192565918, 6.694814205169678, 6.708537578582764, 6.7028608322143555, 20.271400451660156, 5.630638122558594, 5.679836273193359, 27.34585189819336, 5.660462856292725, 6.67503547668457, 5.618149280548096, 20.923748016357422, 10.737565040588379, 5.641438007354736, 8.560853004455566, 7.409244537353516, 11.58488655090332, 28.0778865814209, 7.723758220672607, 9.646393775939941, 73.15223693847656, 192.48446655273438, 29.747549057006836, 58.71513748168945, 27.349519729614258, 43.28897476196289, 97.38104248046875, 16.70814323425293, 17.674375534057617, 13.616621971130371, 97.30763244628906, 39.0611457824707, 579.6845092773438, 76.57198333740234, 94.85589599609375, 351.5189514160156, 148.46002197265625, 97.1473388671875, 623.632568359375, 42.84562683105469, 34.80177688598633, 32.126670837402344, 71.97525024414062, 919.8470458984375, 754.1112060546875, 61.53626251220703, 623.137939453125, 656.4171142578125, 778.3116455078125, 1729.00927734375, 1325.4385986328125, 511.6931457519531, 537.3016357421875, 1054.2342529296875, 1141.4896240234375, 495.402587890625, 668.1005249023438, 225.36334228515625, 699.1946411132812, 935.9224853515625, 637.5501708984375, 913.6341552734375, 590.4564819335938, 1349.852783203125, 1313.94677734375, 614.676025390625, 820.2481079101562, 536.8109741210938, 1423.574462890625, 921.7045288085938, 508.0880126953125, 9.011460304260254, 33.96357727050781, 45.95561981201172, 7.244992256164551, 5.425258636474609, 52.03684997558594, 5.41974401473999, 11.014338493347168, 8.075112342834473, 6.365877628326416, 9.21955680847168, 8.213763236999512, 8.303479194641113, 8.329326629638672, 11.057846069335938, 11.937642097473145, 23.50192642211914, 14.128108978271484, 7.301501750946045, 5.430853366851807, 5.471196174621582, 6.436332702636719, 5.044694900512695, 6.413557052612305, 15.89691162109375, 7.329639911651611, 6.507928848266602, 5.449060440063477, 8.333708763122559, 14.08505916595459, 125.74443817138672, 30.66657829284668, 36.29728317260742, 579.6845092773438, 38.6632080078125, 176.14930725097656, 22.562374114990234, 415.2861328125, 77.05522918701172, 615.965576171875, 647.0048217773438, 111.75465393066406, 91.74058532714844, 85.32073211669922, 1508.7012939453125, 1729.00927734375, 913.6341552734375, 1349.852783203125, 434.77178955078125, 590.4564819335938, 264.4942932128906, 273.6670837402344, 1423.574462890625, 179.59141540527344, 921.7045288085938, 1307.612548828125, 754.1112060546875, 385.94122314453125, 823.5147094726562, 919.8470458984375, 883.6495971679688, 677.0470581054688, 1054.2342529296875, 1325.4385986328125, 1313.94677734375, 663.3276977539062, 1141.4896240234375, 820.2481079101562, 935.9224853515625, 639.1326293945312, 686.8342895507812, 20.757102966308594, 11.292720794677734, 7.876054763793945, 17.995426177978516, 11.733247756958008, 5.267301082611084, 5.285760879516602, 72.28335571289062, 8.206116676330566, 15.410209655761719, 15.45724868774414, 7.980510234832764, 7.149341583251953, 20.954513549804688, 5.433772087097168, 6.2204084396362305, 6.211652755737305, 23.604692459106445, 6.248077392578125, 6.33684778213501, 9.59387493133545, 6.176114559173584, 5.449178695678711, 6.33518123626709, 8.932305335998535, 7.080922603607178, 7.21763277053833, 7.222823619842529, 7.394211292266846, 9.839194297790527, 10.050880432128906, 39.67943572998047, 12.885163307189941, 48.65354919433594, 16.597686767578125, 13.0458402633667, 21.228578567504883, 60.039878845214844, 300.1639099121094, 551.0355834960938, 1508.7012939453125, 105.66954803466797, 164.69410705566406, 85.599365234375, 913.6341552734375, 1423.574462890625, 779.410400390625, 586.9136962890625, 820.2481079101562, 106.3940658569336, 272.02294921875, 56.790428161621094, 919.8470458984375, 58.700889587402344, 303.5080871582031, 579.6845092773438, 403.45965576171875, 377.2417907714844, 672.6842041015625, 1349.852783203125, 613.4613037109375, 1307.612548828125, 1054.2342529296875, 921.7045288085938, 840.5614624023438, 369.8401794433594, 688.3550415039062, 373.8548889160156, 823.5147094726562, 590.4564819335938, 611.1246337890625, 1141.4896240234375, 1325.4385986328125, 1729.00927734375, 11.03277587890625, 57.54881286621094, 7.433659076690674, 14.784136772155762, 5.630039691925049, 10.3154878616333, 7.362285614013672, 11.305010795593262, 14.212106704711914, 6.422901630401611, 7.3735785484313965, 8.457871437072754, 16.339218139648438, 5.589803695678711, 6.6012678146362305, 5.427581787109375, 6.536793231964111, 61.48288345336914, 5.712864875793457, 6.504123687744141, 8.168595314025879, 5.470017910003662, 10.270804405212402, 5.544626235961914, 8.310076713562012, 5.516793727874756, 5.637232780456543, 5.555088043212891, 6.599809646606445, 16.960508346557617, 8.497544288635254, 26.219655990600586, 8.624713897705078, 26.84619903564453, 99.33538818359375, 24.099708557128906, 919.8470458984375, 351.5189514160156, 109.65497589111328, 31.788772583007812, 44.93317413330078, 97.30763244628906, 51.08564758300781, 225.36334228515625, 32.783634185791016, 23.80579948425293, 568.1043701171875, 108.10408782958984, 199.38351440429688, 126.38636779785156, 113.89160919189453, 110.88312530517578, 133.2058563232422, 341.0397033691406, 579.6845092773438, 114.85767364501953, 1325.4385986328125, 194.0457305908203, 820.2481079101562, 623.632568359375, 1307.612548828125, 1141.4896240234375, 656.4171142578125, 581.652099609375, 622.4805908203125, 688.3550415039062, 614.676025390625, 382.4984436035156, 1423.574462890625, 590.4564819335938, 913.6341552734375, 1054.2342529296875, 540.268798828125, 495.402587890625, 1729.00927734375, 1313.94677734375, 1349.852783203125, 903.0779418945312, 5.306943893432617, 7.154653549194336, 13.381163597106934, 6.278879165649414, 6.285860538482666, 5.418834686279297, 8.130481719970703, 6.190621852874756, 5.433548927307129, 5.461211681365967, 9.260197639465332, 9.33658218383789, 5.296735763549805, 10.16377067565918, 6.469954967498779, 6.462460517883301, 6.105318069458008, 12.984882354736328, 11.085042953491211, 7.242430210113525, 10.893939971923828, 5.4155192375183105, 22.772462844848633, 7.343095302581787, 7.4190778732299805, 10.28475284576416, 9.099017143249512, 6.488785743713379, 5.328785419464111, 5.392028331756592, 10.242106437683105, 9.496589660644531, 14.144139289855957, 28.656850814819336, 28.572324752807617, 18.765886306762695, 128.47349548339844, 107.84711456298828, 187.12167358398438, 31.87431526184082, 87.7190170288086, 351.5189514160156, 54.76419448852539, 17.836868286132812, 22.163305282592773, 226.79849243164062, 233.861328125, 637.5501708984375, 43.096282958984375, 495.402587890625, 393.48583984375, 180.50039672851562, 266.3117370605469, 1325.4385986328125, 70.04998016357422, 408.7170104980469, 76.50071716308594, 367.18194580078125, 141.3409881591797, 138.26527404785156, 903.0779418945312, 699.1946411132812, 1141.4896240234375, 202.09970092773438, 1729.00927734375, 575.0907592773438, 1423.574462890625, 1313.94677734375, 614.676025390625, 1307.612548828125, 1349.852783203125, 568.1043701171875, 656.4171142578125, 663.3276977539062, 581.652099609375, 935.9224853515625, 5.187802314758301, 5.396545886993408, 8.017159461975098, 8.069344520568848, 8.187492370605469, 6.247883319854736, 6.406253814697266, 6.416741371154785, 7.1860737800598145, 7.267374515533447, 10.30133056640625, 5.483426570892334, 5.490157127380371, 5.553429126739502, 10.181687355041504, 8.328715324401855, 6.361948013305664, 5.86361837387085, 15.70427417755127, 12.141721725463867, 15.796049118041992, 11.121917724609375, 8.240364074707031, 5.5488386154174805, 8.45776081085205, 5.3768157958984375, 5.575464248657227, 6.383479595184326, 20.735515594482422, 6.465559005737305, 9.236967086791992, 73.15223693847656, 9.9527587890625, 36.11859893798828, 95.09290313720703, 15.897040367126465, 13.19685173034668, 14.890170097351074, 40.778785705566406, 57.54881286621094, 15.172483444213867, 225.36334228515625, 74.73432922363281, 192.48446655273438, 59.24699783325195, 139.77090454101562, 393.48583984375, 23.011934280395508, 188.2409210205078, 623.137939453125, 903.0779418945312, 668.1005249023438, 131.39630126953125, 935.9224853515625, 614.676025390625, 148.46002197265625, 340.47100830078125, 1325.4385986328125, 351.5189514160156, 450.8907165527344, 495.402587890625, 913.6341552734375, 1313.94677734375, 568.1043701171875, 820.2481079101562, 1423.574462890625, 1141.4896240234375, 919.8470458984375, 1729.00927734375, 699.1946411132812, 1349.852783203125, 1054.2342529296875, 677.0470581054688, 315.0860290527344, 1307.612548828125, 639.1326293945312, 6.01625394821167, 7.730353832244873, 7.828922271728516, 4.579660892486572, 8.832854270935059, 5.044694900512695, 5.204280376434326, 13.61018180847168, 5.248778343200684, 8.811382293701172, 5.247626781463623, 5.254742622375488, 5.3034491539001465, 14.400237083435059, 5.231592655181885, 5.423892498016357, 5.431419372558594, 5.20346212387085, 5.225438117980957, 5.320383071899414, 5.330827713012695, 5.374300956726074, 16.631601333618164, 5.86361837387085, 6.142710208892822, 5.396553993225098, 6.091609001159668, 11.02972412109375, 6.191308975219727, 6.105318069458008, 42.77120590209961, 10.86808967590332, 15.521230697631836, 20.964879989624023, 116.84162139892578, 15.533649444580078, 35.03881072998047, 14.831571578979492, 26.05767059326172, 70.37296295166016, 23.695955276489258, 59.97580337524414, 18.595121383666992, 93.68286895751953, 12.01081657409668, 284.7344970703125, 55.64860916137695, 252.54190063476562, 24.82700538635254, 391.94659423828125, 94.89476776123047, 110.49239349365234, 234.57904052734375, 123.37345123291016, 614.676025390625, 883.6495971679688, 113.90210723876953, 367.18194580078125, 71.6041259765625, 106.25422668457031, 89.3314437866211, 162.15126037597656, 105.38834381103516, 200.02207946777344, 151.4127960205078, 935.9224853515625, 6.9925456047058105, 4.579660892486572, 4.817718505859375, 4.9845170974731445, 4.9714202880859375, 5.010279178619385, 4.950471878051758, 5.0054612159729, 5.781168460845947, 5.837972164154053, 6.753500938415527, 6.853524208068848, 6.891469955444336, 6.958194255828857, 6.744685173034668, 5.959240913391113, 7.651697635650635, 7.63409423828125, 8.818817138671875, 7.134514808654785, 7.860041618347168, 8.013677597045898, 7.761641502380371, 7.77841854095459, 8.879782676696777, 8.839001655578613, 8.936452865600586, 9.59753131866455, 10.57507038116455, 6.154301166534424, 9.912627220153809, 10.947820663452148, 32.379364013671875, 162.15126037597656, 16.685909271240234, 44.723487854003906, 36.41365051269531, 1508.7012939453125, 883.6495971679688, 93.68286895751953, 354.505859375, 140.30062866210938, 117.51531982421875, 24.896591186523438, 14.699110984802246, 14.124516487121582, 4.705968856811523, 5.9221391677856445, 7.820817470550537, 7.726202487945557, 9.630535125732422, 9.674344062805176, 11.160299301147461, 13.895663261413574, 11.963444709777832, 7.553714752197266, 17.53195571899414, 8.35874080657959, 21.57010841369629, 18.71483612060547, 22.626094818115234, 25.98288345336914, 6.567534446716309, 24.93782615661621, 22.991355895996094, 21.306434631347656, 8.547667503356934, 5.662004470825195, 12.172032356262207, 4.579660892486572, 21.53547477722168, 4.817718505859375, 5.320383071899414, 4.9714202880859375, 5.374300956726074, 5.0054612159729, 5.330827713012695, 9.516575813293457, 10.319523811340332, 61.14854431152344, 27.350767135620117, 77.90943908691406, 20.99451446533203, 219.671630859375, 575.5050048828125, 44.188480377197266, 255.57362365722656, 697.5142211914062, 1729.00927734375, 1307.612548828125, 1423.574462890625, 1313.94677734375, 1508.7012939453125], \"loglift\": [30.0, 29.0, 28.0, 27.0, 26.0, 25.0, 24.0, 23.0, 22.0, 21.0, 20.0, 19.0, 18.0, 17.0, 16.0, 15.0, 14.0, 13.0, 12.0, 11.0, 10.0, 9.0, 8.0, 7.0, 6.0, 5.0, 4.0, 3.0, 2.0, 1.0, 1.4800000190734863, 1.472000002861023, 1.4681999683380127, 1.4646999835968018, 1.457800030708313, 1.4528000354766846, 1.4422999620437622, 1.441499948501587, 1.4351999759674072, 1.4347000122070312, 1.4316999912261963, 1.430899977684021, 1.430799961090088, 1.4285000562667847, 1.4263999462127686, 1.4248000383377075, 1.4246000051498413, 1.422700047492981, 1.4222999811172485, 1.4210000038146973, 1.4208999872207642, 1.4205000400543213, 1.4205000400543213, 1.4205000400543213, 1.4200999736785889, 1.419800043106079, 1.4184999465942383, 1.416599988937378, 1.4151999950408936, 1.4150999784469604, 1.414199948310852, 1.3766000270843506, 1.3590999841690063, 1.3992999792099, 1.3461999893188477, 1.3898999691009521, 1.377500057220459, 1.3971999883651733, 1.384600043296814, 1.3365999460220337, 1.3177000284194946, 1.3538999557495117, 1.3212000131607056, 1.3169000148773193, 1.3342000246047974, 1.3655999898910522, 1.3420000076293945, 1.295300006866455, 1.1563999652862549, 1.2431000471115112, 1.2656999826431274, 1.2128000259399414, 1.1517000198364258, 1.2173999547958374, 1.1477999687194824, 1.2653000354766846, 1.2747999429702759, 1.1829999685287476, 0.4092999994754791, 0.7305999994277954, 0.33059999346733093, 0.5182999968528748, 0.25029999017715454, 0.42640000581741333, 0.7095000147819519, 0.4964999854564667, 0.42980000376701355, 0.3765999972820282, 0.3596000075340271, 0.5259000062942505, 0.28529998660087585, 0.26809999346733093, -0.1599999964237213, -0.20020000636577606, 0.03400000184774399, 0.17589999735355377, -0.13330000638961792, 0.1451999992132187, -0.3025999963283539, -0.3817000091075897, 0.13860000669956207, -0.021900000050663948, -0.2295999974012375, 1.7128000259399414, 1.7115000486373901, 1.7081999778747559, 1.707800030708313, 1.7071000337600708, 1.7062000036239624, 1.7036999464035034, 1.7014000415802002, 1.698799967765808, 1.6958999633789062, 1.6924999952316284, 1.690000057220459, 1.6835999488830566, 1.6821999549865723, 1.6779999732971191, 1.669100046157837, 1.6658999919891357, 1.6603000164031982, 1.6589000225067139, 1.6589000225067139, 1.656499981880188, 1.6547000408172607, 1.6486999988555908, 1.6480000019073486, 1.645799994468689, 1.6435999870300293, 1.6435999870300293, 1.6405999660491943, 1.631600022315979, 1.63100004196167, 1.61080002784729, 1.5793999433517456, 1.6097999811172485, 1.5859999656677246, 1.6073999404907227, 1.628499984741211, 1.5083999633789062, 1.4988000392913818, 1.3039000034332275, 1.212399959564209, 1.051200032234192, 1.332200050354004, 0.8288999795913696, 0.9580000042915344, 0.5616000294685364, 0.7545999884605408, 0.6955999732017517, 0.5879999995231628, 0.3817000091075897, 0.6410999894142151, 0.7702999711036682, 0.4478999972343445, 0.1728000044822693, 0.24580000340938568, 0.40619999170303345, 0.2054000049829483, 0.2815999984741211, 0.1242000013589859, 0.20180000364780426, 0.5356000065803528, -0.16740000247955322, -0.025200000032782555, 2.0497000217437744, 2.0488998889923096, 2.046299934387207, 2.0445001125335693, 2.04010009765625, 2.039400100708008, 2.038800001144409, 2.0288000106811523, 2.021899938583374, 2.0172998905181885, 1.99590003490448, 1.9931000471115112, 1.9835000038146973, 1.9716999530792236, 1.965399980545044, 1.964400053024292, 1.9621000289916992, 1.9596999883651733, 1.9589999914169312, 1.9474999904632568, 1.9436999559402466, 1.9436999559402466, 1.9377000331878662, 1.9368000030517578, 1.926900029182434, 1.926200032234192, 1.920799970626831, 1.9177000522613525, 1.8950999975204468, 1.8842999935150146, 1.8698999881744385, 1.856600046157837, 1.8573999404907227, 1.8243999481201172, 1.7130999565124512, 1.5616999864578247, 1.7381999492645264, 1.8346999883651733, 1.4016000032424927, 1.7689000368118286, 1.323799967765808, 1.524899959564209, 1.045799970626831, 1.2869999408721924, 1.0204999446868896, 1.0268000364303589, 0.36469998955726624, 0.43479999899864197, 0.8026999831199646, 0.5235000252723694, 0.9498999714851379, 0.0843999981880188, 0.36980000138282776, 0.47290000319480896, 0.07580000162124634, 0.36489999294281006, 0.2892000079154968, 0.3971000015735626, 0.47540000081062317, -0.08709999918937683, 0.41920000314712524, -0.027400000020861626, -0.4496999979019165, 0.012400000356137753, 0.12309999763965607, -0.4887000024318695, 2.1389000415802, 2.121999979019165, 2.1208999156951904, 2.091399908065796, 2.0913000106811523, 2.0871999263763428, 2.0815999507904053, 2.080899953842163, 2.0789999961853027, 2.077399969100952, 2.0773000717163086, 2.0766000747680664, 2.0687999725341797, 2.0564000606536865, 2.0506999492645264, 2.048099994659424, 2.0478999614715576, 2.045300006866455, 2.0450000762939453, 2.0445001125335693, 2.0439999103546143, 2.0327000617980957, 2.009000062942505, 1.993299961090088, 1.993299961090088, 1.9711999893188477, 1.9543999433517456, 1.9493999481201172, 1.947100043296814, 1.9357999563217163, 1.9062000513076782, 1.8244999647140503, 1.9168000221252441, 1.5364999771118164, 1.8920999765396118, 1.8073999881744385, 1.9235999584197998, 1.1855000257492065, 0.6001999974250793, 0.6118000149726868, 0.6870999932289124, 0.2797999978065491, 1.5800000429153442, 1.4940999746322632, 0.18140000104904175, 0.2921000123023987, 0.6901000142097473, 0.20819999277591705, 0.20990000665187836, 0.6269000172615051, 0.4453999996185303, 0.9474999904632568, 0.2506999969482422, 0.3395000100135803, 0.3172000050544739, 0.7440999746322632, 0.10350000113248825, -0.0034000000450760126, -0.006599999964237213, 0.48420000076293945, 0.30230000615119934, 0.3190000057220459, 0.5078999996185303, 0.33660000562667847, -0.10040000081062317, 0.15700000524520874, 0.4560999870300293, 0.5465999841690063, 0.16099999845027924, 0.1818999946117401, 0.1031000018119812, 0.034699998795986176, -0.5299000144004822, -0.1143999993801117, -0.10189999639987946, -0.41819998621940613, -0.5946999788284302, 2.3619000911712646, 2.3248000144958496, 2.311300039291382, 2.2923998832702637, 2.2709999084472656, 2.2685999870300293, 2.2558999061584473, 2.2553000450134277, 2.253999948501587, 2.253700017929077, 2.230799913406372, 2.2246999740600586, 2.2051000595092773, 2.1833999156951904, 2.17549991607666, 2.1728999614715576, 2.1721999645233154, 2.172100067138672, 2.16729998588562, 2.1663999557495117, 2.1654000282287598, 2.1635000705718994, 2.1547999382019043, 2.1157000064849854, 2.109600067138672, 2.1073999404907227, 2.098400115966797, 2.087899923324585, 2.082200050354004, 2.0810000896453857, 2.0762999057769775, 2.080699920654297, 2.0236001014709473, 2.013000011444092, 2.018699884414673, 2.039799928665161, 1.979200005531311, 1.9275000095367432, 1.8170000314712524, 1.885200023651123, 1.6811000108718872, 1.9713000059127808, 1.738700032234192, 1.3299000263214111, 1.4515000581741333, 1.7882000207901, 1.698199987411499, 1.6753000020980835, 0.8197000026702881, 1.7289999723434448, 1.6342999935150146, 1.6805000305175781, 0.39739999175071716, 0.7657999992370605, 1.1847000122070312, 0.31690001487731934, 0.685699999332428, 1.0404000282287598, 0.48080000281333923, 0.49459999799728394, 0.28139999508857727, 0.6003000140190125, -0.060600001364946365, 0.7402999997138977, 0.14090000092983246, -0.024299999698996544, 0.3709999918937683, -0.03139999881386757, 0.1525000035762787, 0.32019999623298645, 0.23549999296665192, 0.6050999760627747, 0.6473000049591064, 0.22059999406337738, -0.06480000168085098, -0.38350000977516174, 0.39089998602867126, -0.02250000089406967, -0.0017999999690800905, 0.18440000712871552, -0.5544999837875366, 2.5055999755859375, 2.498500108718872, 2.4848999977111816, 2.480600118637085, 2.4730000495910645, 2.4716999530792236, 2.4714999198913574, 2.4707000255584717, 2.4598000049591064, 2.456899881362915, 2.433500051498413, 2.433300018310547, 2.425600051879883, 2.420300006866455, 2.4170000553131104, 2.406899929046631, 2.396399974822998, 2.396199941635132, 2.3947999477386475, 2.376300096511841, 2.352799892425537, 2.3429999351501465, 2.341900110244751, 2.309499979019165, 2.2936999797821045, 2.285599946975708, 2.2802999019622803, 2.2495999336242676, 2.2332000732421875, 2.2177000045776367, 2.2081000804901123, 2.0880000591278076, 2.1635000705718994, 2.1505000591278076, 1.9914000034332275, 1.777500033378601, 1.7854000329971313, 1.2237000465393066, 1.259600043296814, 1.5602999925613403, 1.3013999462127686, 1.611199975013733, 0.9646000266075134, 0.9061999917030334, 0.4180999994277954, 0.6234999895095825, 1.0068000555038452, 0.6398000121116638, 0.21150000393390656, 0.2240000069141388, 0.21979999542236328, 0.44620001316070557, 0.7825999855995178, 0.07530000060796738, 0.8823999762535095, 0.4657000005245209, 0.1800999939441681, -0.39259999990463257, 0.19349999725818634, 0.00139999995008111, 2.648200035095215, 2.6477999687194824, 2.641700029373169, 2.6221001148223877, 2.5936999320983887, 2.507499933242798, 2.500699996948242, 2.499799966812134, 2.489300012588501, 2.4888999462127686, 2.481300115585327, 2.474900007247925, 2.4576001167297363, 2.455199956893921, 2.4493000507354736, 2.446899890899658, 2.4439001083374023, 2.4375, 2.433199882507324, 2.427799940109253, 2.425299882888794, 2.4133999347686768, 2.407099962234497, 2.403700113296509, 2.3975000381469727, 2.3652000427246094, 2.362799882888794, 2.3617000579833984, 2.3529999256134033, 2.3392999172210693, 2.2307000160217285, 2.041599988937378, 2.2237000465393066, 2.137399911880493, 2.203700065612793, 2.1071999073028564, 1.9444999694824219, 2.2392001152038574, 2.2163000106811523, 2.265399932861328, 1.7318999767303467, 1.9657000303268433, 1.1562999486923218, 1.7410999536514282, 1.6657999753952026, 1.2263000011444092, 1.5118000507354736, 1.6447999477386475, 0.9424999952316284, 1.8804999589920044, 1.957800030708313, 1.9851000308990479, 1.6648000478744507, 0.6280999779701233, 0.6503999829292297, 1.711300015449524, 0.6061999797821045, 0.5613999962806702, 0.47189998626708984, 0.061900001019239426, 0.17329999804496765, 0.6571999788284302, 0.61080002784729, 0.16300000250339508, 0.09529999643564224, 0.5300999879837036, 0.335999995470047, 0.9811000227928162, 0.2786000072956085, 0.07970000058412552, 0.32989999651908875, 0.06939999759197235, 0.3596000075340271, -0.2282000035047531, -0.21150000393390656, 0.32409998774528503, 0.06239999830722809, 0.38029998540878296, -0.5090000033378601, -0.13920000195503235, 0.40630000829696655, 2.78439998626709, 2.7737998962402344, 2.7697999477386475, 2.6459999084472656, 2.640000104904175, 2.623300075531006, 2.549299955368042, 2.515500068664551, 2.510499954223633, 2.5035998821258545, 2.4953999519348145, 2.4893999099731445, 2.4885001182556152, 2.483099937438965, 2.4518001079559326, 2.4247000217437744, 2.423799991607666, 2.377500057220459, 2.3577001094818115, 2.321899890899658, 2.3217999935150146, 2.320199966430664, 2.3180999755859375, 2.3173999786376953, 2.30430006980896, 2.303299903869629, 2.2936999797821045, 2.29259991645813, 2.2818000316619873, 2.2583999633789062, 2.2304000854492188, 2.2046000957489014, 2.139699935913086, 1.8107000589370728, 2.0871999263763428, 1.8961000442504883, 2.0857999324798584, 1.458799958229065, 1.8016999959945679, 1.327299952507019, 1.243499994277954, 1.6728999614715576, 1.5365999937057495, 1.53410005569458, 0.24639999866485596, 0.14640000462532043, 0.3767000138759613, 0.1607999950647354, 0.6814000010490417, 0.5317000150680542, 0.9097999930381775, 0.8885999917984009, 0.062300000339746475, 1.086899995803833, 0.24650000035762787, 0.06030000001192093, 0.3409000039100647, 0.6366000175476074, 0.17309999465942383, 0.08479999750852585, 0.10700000077486038, 0.26440000534057617, -0.01899999938905239, -0.17790000140666962, -0.1793999969959259, 0.2451000064611435, -0.15970000624656677, 0.07249999791383743, -0.03180000185966492, 0.1573999971151352, 0.08110000193119049, 3.3589999675750732, 3.344599962234497, 3.085700035095215, 2.9776999950408936, 2.97760009765625, 2.9558000564575195, 2.9482998847961426, 2.924799919128418, 2.8975000381469727, 2.8531999588012695, 2.8387999534606934, 2.8304998874664307, 2.8164000511169434, 2.807800054550171, 2.801100015640259, 2.8008999824523926, 2.7960000038146973, 2.7829999923706055, 2.7672998905181885, 2.765000104904175, 2.7583999633789062, 2.735300064086914, 2.6916000843048096, 2.686500072479248, 2.684999942779541, 2.6621999740600586, 2.649399995803833, 2.6452999114990234, 2.617500066757202, 2.612299919128418, 2.597399950027466, 2.4463000297546387, 2.5383999347686768, 2.277899980545044, 2.4793999195098877, 2.5322000980377197, 2.4159998893737793, 2.1575000286102295, 1.7001999616622925, 1.4708000421524048, 1.0511000156402588, 1.8588999509811401, 1.7065999507904053, 1.9103000164031982, 1.0887999534606934, 0.8727999925613403, 1.0849000215530396, 1.1816999912261963, 0.9894000291824341, 1.7836999893188477, 1.4133000373840332, 2.0241000652313232, 0.8597999811172485, 2.006700038909912, 1.271399974822998, 0.9305999875068665, 1.083799958229065, 1.1047999858856201, 0.7566999793052673, 0.34060001373291016, 0.7749999761581421, 0.3190999925136566, 0.4415999948978424, 0.4666000008583069, 0.5127000212669373, 1.017899990081787, 0.6194999814033508, 0.9972000122070312, 0.4092000126838684, 0.6280999779701233, 0.5928999781608582, 0.011800000444054604, -0.11869999766349792, -0.4657999873161316, 3.313800096511841, 3.1984000205993652, 3.1431000232696533, 3.101900100708008, 3.0922000408172607, 3.0878000259399414, 3.071700096130371, 3.062700033187866, 2.949399948120117, 2.9163999557495117, 2.901700019836426, 2.8864998817443848, 2.8575000762939453, 2.847100019454956, 2.8375000953674316, 2.833400011062622, 2.819700002670288, 2.8076000213623047, 2.770400047302246, 2.7435998916625977, 2.742300033569336, 2.730799913406372, 2.728800058364868, 2.727400064468384, 2.714200019836426, 2.683799982070923, 2.6793999671936035, 2.661799907684326, 2.6568000316619873, 2.6510000228881836, 2.64739990234375, 2.5908000469207764, 2.644700050354004, 2.530600070953369, 2.3724000453948975, 2.486299991607666, 1.7847000360488892, 1.958799958229065, 2.0455000400543213, 2.2922000885009766, 2.188800096511841, 1.9284000396728516, 2.1335999965667725, 1.6259000301361084, 2.2688000202178955, 2.375, 1.1086000204086304, 1.7640999555587769, 1.5075000524520874, 1.6857000589370728, 1.7137000560760498, 1.694100022315979, 1.6015000343322754, 1.138100028038025, 0.8647000193595886, 1.638100028038025, 0.30959999561309814, 1.307800054550171, 0.475600004196167, 0.6241000294685364, 0.16519999504089355, 0.24160000681877136, 0.5519000291824341, 0.6152999997138977, 0.5669000148773193, 0.49720001220703125, 0.5437999963760376, 0.8543000221252441, -0.08330000191926956, 0.5271999835968018, 0.2037999927997589, 0.08820000290870667, 0.5102999806404114, 0.5737000107765198, -0.44940000772476196, -0.24650000035762787, -0.2919999957084656, -0.007199999876320362, 3.65120005607605, 3.619999885559082, 3.5118000507354736, 3.3545000553131104, 3.3512001037597656, 3.324700117111206, 3.295099973678589, 3.257499933242798, 3.211400032043457, 3.1833999156951904, 3.122299909591675, 3.095400094985962, 3.075500011444092, 3.0539000034332275, 3.040600061416626, 3.04010009765625, 3.0064001083374023, 2.990299940109253, 2.961699962615967, 2.9477999210357666, 2.940500020980835, 2.9330999851226807, 2.8880999088287354, 2.8671998977661133, 2.857800006866455, 2.8508999347686768, 2.847399950027466, 2.843899965286255, 2.83270001411438, 2.8285999298095703, 2.813999891281128, 2.8129000663757324, 2.7583000659942627, 2.580899953842163, 2.5288000106811523, 2.616499900817871, 2.0897998809814453, 2.0827999114990234, 1.8586000204086304, 2.3905999660491943, 2.005199909210205, 1.4544999599456787, 2.1301000118255615, 2.5994999408721924, 2.501800060272217, 1.4420000314712524, 1.4277000427246094, 0.9169999957084656, 2.197000026702881, 0.9966999888420105, 1.1004999876022339, 1.479699969291687, 1.2340999841690063, 0.2678999900817871, 1.8911000490188599, 0.8224999904632568, 1.7914999723434448, 0.7793999910354614, 1.384600043296814, 1.3861000537872314, 0.13570000231266022, 0.2702000141143799, -0.09730000048875809, 1.0937999486923218, -0.4823000133037567, 0.3059999942779541, -0.3666999936103821, -0.3546000123023987, 0.17890000343322754, -0.4296000003814697, -0.508899986743927, 0.1964000016450882, 0.04919999837875366, 0.027000000700354576, 0.13019999861717224, -0.3212999999523163, 3.4398000240325928, 3.401099920272827, 3.381200075149536, 3.2911999225616455, 3.2669999599456787, 3.2537999153137207, 3.229599952697754, 3.2286999225616455, 3.0980000495910645, 3.0381999015808105, 2.9941999912261963, 2.9923999309539795, 2.9851999282836914, 2.9790000915527344, 2.97160005569458, 2.936500072479248, 2.9323999881744385, 2.925100088119507, 2.9140000343322754, 2.9103000164031982, 2.9072999954223633, 2.9052000045776367, 2.9030001163482666, 2.9005000591278076, 2.895699977874756, 2.8673999309539795, 2.844899892807007, 2.8394999504089355, 2.8315999507904053, 2.827899932861328, 2.8111000061035156, 2.617300033569336, 2.783400058746338, 2.581199884414673, 2.3849000930786133, 2.6933999061584473, 2.722899913787842, 2.6666998863220215, 2.283799886703491, 2.159899950027466, 2.615000009536743, 1.5087000131607056, 1.9608999490737915, 1.5475000143051147, 2.0097999572753906, 1.5586999654769897, 0.9753999710083008, 2.4375998973846436, 1.2817000150680542, 0.5390999913215637, 0.2948000133037567, 0.45500001311302185, 1.4175000190734863, 0.23430000245571136, 0.48500001430511475, 1.337399959564209, 0.8109999895095825, -0.053700000047683716, 0.7802000045776367, 0.5958999991416931, 0.5170999765396118, 0.09950000047683716, -0.15950000286102295, 0.39969998598098755, 0.1348000019788742, -0.3163999915122986, -0.2305999994277954, -0.12080000340938568, -0.6134999990463257, 0.07190000265836716, -0.4616999924182892, -0.2944999933242798, 0.04470000043511391, 0.6973999738693237, -0.5870000123977661, 0.05260000005364418, 4.380099773406982, 4.14900016784668, 4.146200180053711, 4.0233001708984375, 3.9809999465942383, 3.9305999279022217, 3.901400089263916, 3.9012999534606934, 3.893399953842163, 3.891900062561035, 3.887200117111206, 3.884700059890747, 3.8714001178741455, 3.8671998977661133, 3.8654000759124756, 3.860100030899048, 3.849400043487549, 3.843600034713745, 3.838200092315674, 3.8203999996185303, 3.817500114440918, 3.816200017929077, 3.7955000400543213, 3.7753000259399414, 3.7330000400543213, 3.7311999797821045, 3.7276999950408936, 3.7204999923706055, 3.719399929046631, 3.7177000045776367, 3.712100028991699, 3.6928000450134277, 3.514699935913086, 3.4247000217437744, 2.797600030899048, 3.4363999366760254, 3.147200107574463, 3.4512999057769775, 3.2167000770568848, 2.7525999546051025, 3.199700117111206, 2.7836999893188477, 3.285599946975708, 2.4465999603271484, 3.463399887084961, 1.8660999536514282, 2.590399980545044, 1.697100043296814, 2.9909000396728516, 1.319599986076355, 2.1696999073028564, 2.035799980163574, 1.455899953842163, 1.875499963760376, 0.6658999919891357, 0.30630001425743103, 1.8535000085830688, 0.8666999936103821, 2.1879000663757324, 1.8233000040054321, 1.9627000093460083, 1.4225000143051147, 1.7942999601364136, 1.1582000255584717, 1.4141000509262085, -0.37299999594688416, 4.809599876403809, 4.631899833679199, 4.571199893951416, 4.5457000732421875, 4.542099952697754, 4.536200046539307, 4.507800102233887, 4.423999786376953, 4.384399890899658, 4.2729997634887695, 4.236299991607666, 4.2179999351501465, 4.2083001136779785, 4.194900035858154, 4.183899879455566, 4.159900188446045, 4.12060022354126, 4.116700172424316, 4.1082000732421875, 4.100399971008301, 4.0731000900268555, 4.061800003051758, 4.057499885559082, 3.990600109100342, 3.9649999141693115, 3.9289000034332275, 3.912899971008301, 3.8847999572753906, 3.7925000190734863, 3.7816998958587646, 3.765500068664551, 3.7520999908447266, 3.565700054168701, 2.6586999893188477, 3.5868000984191895, 2.776599884033203, 2.687700033187866, -0.6632000207901001, -0.20499999821186066, 1.7796000242233276, 0.5110999941825867, 1.3198000192642212, 1.4381999969482422, 2.9384000301361084, 3.454900026321411, 3.4941999912261963, 4.687399864196777, 4.462299823760986, 4.180200099945068, 4.1743998527526855, 3.972399950027466, 3.964400053024292, 3.7753000259399414, 3.546099901199341, 3.4916000366210938, 3.406899929046631, 3.3454999923706055, 3.2504000663757324, 3.1670000553131104, 3.1491000652313232, 3.0724000930786133, 2.9727001190185547, 2.656100034713745, 2.335099935531616, 2.2885000705718994, 2.205899953842163, 2.0683000087738037, 2.0601000785827637, 1.9793000221252441, 1.979099988937378, 1.9434000253677368, 1.917099952697754, 1.8931000232696533, 1.88919997215271, 1.8854000568389893, 1.885200023651123, 1.878999948501587, 1.8179999589920044, 1.8044999837875366, 1.409999966621399, 1.507099986076355, 1.2461999654769897, 1.5513999462127686, 0.7936000227928162, 0.14499999582767487, 1.1612999439239502, 0.15369999408721924, -0.7125999927520752, -1.8775999546051025, -1.6891000270843506, -1.7706999778747559, -1.739400029182434, -1.8746000528335571], \"logprob\": [30.0, 29.0, 28.0, 27.0, 26.0, 25.0, 24.0, 23.0, 22.0, 21.0, 20.0, 19.0, 18.0, 17.0, 16.0, 15.0, 14.0, 13.0, 12.0, 11.0, 10.0, 9.0, 8.0, 7.0, 6.0, 5.0, 4.0, 3.0, 2.0, 1.0, -5.738699913024902, -6.729899883270264, -7.067299842834473, -6.7866997718811035, -8.361599922180176, -8.309900283813477, -8.649499893188477, -8.649299621582031, -5.179299831390381, -7.2829999923706055, -5.713399887084961, -8.830599784851074, -7.609600067138672, -7.723800182342529, -8.667099952697754, -8.287799835205078, -8.748800277709961, -8.935600280761719, -8.935999870300293, -8.236000061035156, -8.937600135803223, -9.045000076293945, -7.796199798583984, -8.67199993133545, -8.938300132751465, -9.045299530029297, -8.940299987792969, -8.942899703979492, -8.602999687194824, -7.774099826812744, -7.87060022354126, -6.14870023727417, -5.815000057220459, -7.854700088500977, -5.657800197601318, -7.545599937438965, -7.254799842834473, -7.922800064086914, -7.590199947357178, -6.558199882507324, -6.105599880218506, -6.984499931335449, -6.62939977645874, -6.597499847412109, -7.155600070953369, -7.598599910736084, -7.432700157165527, -6.9832000732421875, -6.049799919128418, -6.72189998626709, -6.917500019073486, -6.646200180053711, -6.345200061798096, -6.721199989318848, -6.452899932861328, -7.061699867248535, -7.109600067138672, -6.80679988861084, -4.790900230407715, -5.968100070953369, -5.135499954223633, -5.71619987487793, -5.365200042724609, -5.771500110626221, -6.210899829864502, -5.975900173187256, -6.015699863433838, -5.992300033569336, -5.991000175476074, -6.154600143432617, -5.934700012207031, -5.9274001121521, -5.607800006866455, -5.594799995422363, -5.78000020980835, -5.929699897766113, -5.8282999992370605, -5.976099967956543, -5.782199859619141, -5.856500148773193, -6.030099868774414, -6.020299911499023, -6.101099967956543, -6.7204999923706055, -7.361199855804443, -7.510200023651123, -6.463699817657471, -7.063899993896484, -5.560500144958496, -6.522600173950195, -6.145899772644043, -7.521200180053711, -7.350900173187256, -5.025199890136719, -7.9527997970581055, -4.237800121307373, -4.91510009765625, -8.304400444030762, -7.52370023727417, -7.091800212860107, -8.390800476074219, -8.637100219726562, -5.072800159454346, -8.639800071716309, -4.767899990081787, -8.74429988861084, -5.961699962615967, -8.56350040435791, -8.856499671936035, -6.65339994430542, -8.859700202941895, -8.119799613952637, -8.989299774169922, -5.590799808502197, -5.371799945831299, -7.135200023651123, -6.088600158691406, -7.795599937438965, -8.285900115966797, -7.074699878692627, -7.117400169372559, -5.745699882507324, -5.538000106811523, -4.945799827575684, -6.610199928283691, -4.507699966430664, -5.457099914550781, -4.918000221252441, -5.526100158691406, -5.540800094604492, -5.353899955749512, -5.066100120544434, -5.517099857330322, -5.810500144958496, -5.383500099182129, -5.027400016784668, -5.148799896240234, -5.44350004196167, -5.2692999839782715, -5.547699928283691, -5.491300106048584, -5.636300086975098, -5.80810022354126, -5.633399963378906, -5.720200061798096, -4.2505998611450195, -4.059100151062012, -5.617599964141846, -5.218900203704834, -7.170000076293945, -5.1595001220703125, -5.725100040435791, -6.72130012512207, -6.1230998039245605, -7.740499973297119, -6.015100002288818, -7.041999816894531, -5.128600120544434, -8.490400314331055, -8.296899795532227, -7.6930999755859375, -7.855299949645996, -6.700699806213379, -8.623800277709961, -8.772100448608398, -8.777899742126465, -8.776399612426758, -8.782999992370605, -8.78320026397705, -7.056399822235107, -8.953800201416016, -7.126100063323975, -8.962200164794922, -4.98829984664917, -8.996899604797363, -8.01609992980957, -7.521299839019775, -7.872900009155273, -7.393599987030029, -6.490699768066406, -5.378499984741211, -7.227099895477295, -7.940199851989746, -4.863900184631348, -7.588099956512451, -5.374800205230713, -6.365600109100342, -5.098499774932861, -6.3790998458862305, -6.051499843597412, -6.149099826812744, -5.110099792480469, -5.394599914550781, -5.9934000968933105, -5.645299911499023, -6.266900062561035, -5.310200214385986, -5.627299785614014, -5.747900009155273, -5.403800010681152, -5.66510009765625, -5.6528000831604, -5.754000186920166, -5.8282999992370605, -5.534900188446045, -5.881800174713135, -5.722300052642822, -5.649899959564209, -5.837399959564209, -5.87529993057251, -5.825200080871582, -7.9359002113342285, -7.702000141143799, -8.110600471496582, -8.550600051879883, -8.431699752807617, -8.554699897766113, -8.560600280761719, -8.697500228881836, -8.56350040435791, -8.443900108337402, -8.701199531555176, -8.701899528503418, -8.70989990234375, -8.879500389099121, -8.182600021362305, -8.592100143432617, -8.887499809265137, -8.473799705505371, -8.89229965209961, -8.891799926757812, -8.892499923706055, -5.645599842071533, -8.926300048828125, -7.537300109863281, -8.783499717712402, -8.172100067138672, -8.701800346374512, -8.472900390625, -8.377300262451172, -7.7769999504089355, -7.623199939727783, -6.276199817657471, -7.894599914550781, -6.3628997802734375, -8.193699836730957, -8.061800003051758, -8.48639965057373, -6.47790002822876, -5.619699954986572, -5.677800178527832, -5.919099807739258, -5.186299800872803, -7.7347002029418945, -7.581299781799316, -5.213200092315674, -5.653800010681152, -6.314899921417236, -5.605800151824951, -5.639800071716309, -6.271999835968018, -6.004300117492676, -6.777100086212158, -5.747700214385986, -5.88129997253418, -5.851600170135498, -6.487400054931641, -5.591400146484375, -5.451200008392334, -5.481400012969971, -6.191800117492676, -5.972300052642822, -6.050899982452393, -6.2683000564575195, -6.11359977722168, -5.715799808502197, -5.9664998054504395, -6.252799987792969, -6.327600002288818, -6.0370001792907715, -6.052599906921387, -6.002500057220459, -5.995299816131592, -5.730100154876709, -5.952499866485596, -5.973400115966797, -5.897799968719482, -5.931300163269043, -7.140600204467773, -7.138899803161621, -6.968500137329102, -7.684700012207031, -8.480299949645996, -6.918300151824951, -8.653599739074707, -7.384500026702881, -8.655400276184082, -8.656000137329102, -8.383700370788574, -8.39430046081543, -8.705699920654297, -7.617800235748291, -8.32800006866455, -7.256800174713135, -7.94789981842041, -8.226799964904785, -6.471099853515625, -8.133500099182129, -8.74269962310791, -8.034199714660645, -8.47189998626709, -8.097399711608887, -8.506199836730957, -8.513899803161621, -7.591100215911865, -8.675800323486328, -8.673700332641602, -8.675299644470215, -7.861199855804443, -8.529199600219727, -5.778500080108643, -6.168399810791016, -6.9243998527526855, -7.263299942016602, -6.68209981918335, -6.427000045776367, -5.999199867248535, -6.651599884033203, -6.080900192260742, -7.504799842834473, -6.803599834442139, -5.463399887084961, -6.056000232696533, -7.117700099945068, -6.901199817657471, -6.853099822998047, -5.051799774169922, -7.113699913024902, -6.935999870300293, -7.091700077056885, -4.9390997886657715, -5.6031999588012695, -6.275100231170654, -5.149199962615967, -5.764400005340576, -6.2052998542785645, -5.624800205230713, -5.72730016708374, -5.532700061798096, -5.8495001792907715, -5.260900020599365, -6.0100998878479, -5.554100036621094, -5.499100208282471, -5.863500118255615, -5.6468000411987305, -5.793499946594238, -5.899799823760986, -5.885700225830078, -6.070899963378906, -6.102399826049805, -5.97730016708374, -5.902900218963623, -5.831299781799316, -6.054599761962891, -6.020899772644043, -6.031799793243408, -6.047999858856201, -6.03410005569458, -4.402400016784668, -5.552999973297119, -5.848899841308594, -5.6691999435424805, -6.671899795532227, -4.893899917602539, -4.38670015335083, -7.4664998054504395, -7.791900157928467, -5.921800136566162, -6.2230000495910645, -6.994500160217285, -6.1595001220703125, -8.29259967803955, -7.8394999504089355, -5.928299903869629, -5.687300205230713, -5.106599807739258, -8.478400230407715, -6.684299945831299, -6.563700199127197, -8.013199806213379, -7.010000228881836, -3.873699903488159, -7.887899875640869, -7.978400230407715, -4.346199989318848, -8.121999740600586, -6.756700038909912, -8.673999786376953, -7.877200126647949, -5.396200180053711, -7.25629997253418, -7.265999794006348, -6.458600044250488, -6.043799877166748, -6.153900146484375, -4.607600212097168, -5.00600004196167, -5.857500076293945, -5.402400016784668, -6.372399806976318, -5.450399875640869, -5.374499797821045, -4.918499946594238, -5.205900192260742, -5.789299964904785, -5.504499912261963, -5.18310022354126, -5.2555999755859375, -5.254899978637695, -5.403500080108643, -5.640200138092041, -5.372499942779541, -5.723800182342529, -5.692599773406982, -5.6579999923706055, -5.592899799346924, -5.677999973297119, -5.693600177764893, -8.256199836730957, -8.256799697875977, -7.641200065612793, -8.282999992370605, -6.348199844360352, -7.987199783325195, -7.282100200653076, -8.254400253295898, -7.5472002029418945, -8.10990047454834, -7.317699909210205, -8.27929973602295, -8.294599533081055, -8.297800064086914, -7.197000026702881, -8.480400085449219, -8.474699974060059, -6.90939998626709, -8.488800048828125, -8.329299926757812, -8.504300117492676, -7.201300144195557, -7.87470006942749, -8.521699905395508, -8.110899925231934, -8.287599563598633, -7.8429999351501465, -6.958799839019775, -8.258299827575684, -8.049599647521973, -6.132299900054932, -5.353899955749512, -7.039100170135498, -6.445400238037109, -7.143099784851074, -6.780399799346924, -6.132400035858154, -7.600500106811523, -7.567200183868408, -7.778900146484375, -6.345699787139893, -7.024700164794922, -5.13670015335083, -6.576200008392334, -6.437399864196777, -5.566999912261963, -6.143400192260742, -6.434500217437744, -5.277500152587891, -7.017399787902832, -7.148099899291992, -7.200699806213379, -6.7144999504089355, -5.2032999992370605, -5.3796000480651855, -6.8246002197265625, -5.61460018157959, -5.6072998046875, -5.526500225067139, -5.138299942016602, -5.292799949645996, -5.760700225830078, -5.7581000328063965, -5.531899929046631, -5.520100116729736, -5.920100212097168, -5.815100193023682, -6.256800174713135, -5.827000141143799, -5.734300136566162, -5.868000030517578, -5.768700122833252, -5.914999961853027, -5.676000118255615, -5.686299800872803, -5.910399913787842, -5.883600234985352, -5.98960018157959, -5.903600215911865, -5.968599796295166, -6.018599987030029, -7.672599792480469, -6.356500148773193, -6.05810022354126, -8.029199600219727, -8.32450008392334, -6.0802998542785645, -8.416199684143066, -7.740799903869629, -8.056300163269043, -8.300999641418457, -7.938799858093262, -8.060400009155273, -8.050399780273438, -8.05270004272461, -7.800600051879883, -7.751100063323975, -7.074699878692627, -7.629799842834473, -8.309700012207031, -8.641500473022461, -8.634200096130371, -8.473400115966797, -8.719099998474121, -8.4798002243042, -7.58519983291626, -8.360300064086914, -8.488800048828125, -8.667499542236328, -8.253399848937988, -7.752099990844727, -5.59089994430542, -7.0278000831604, -6.924099922180176, -4.482399940490723, -6.913400173187256, -5.588099956512451, -7.453499794006348, -5.167799949645996, -6.509300231933594, -4.905099868774414, -4.939700126647949, -6.26639986038208, -6.599999904632568, -6.675099849700928, -5.090099811553955, -5.053800106048584, -5.461400032043457, -5.2870001792907715, -5.8993000984191895, -5.7428998947143555, -6.167900085449219, -6.15500020980835, -5.332399845123291, -6.377999782562256, -5.582799911499023, -5.419300079345703, -5.6890997886657715, -6.063300132751465, -5.768899917602539, -5.746600151062012, -5.764500141143799, -5.8734002113342285, -5.714000225067139, -5.643899917602539, -5.654099941253662, -5.9131999015808105, -5.775100231170654, -5.8734002113342285, -5.845900058746338, -6.038099765777588, -6.042300224304199, -6.263599872589111, -6.8867998123168945, -7.506100177764893, -6.787700176239014, -7.21560001373291, -8.038200378417969, -8.042200088500977, -5.450099945068359, -7.65310001373291, -7.067299842834473, -7.078700065612793, -7.748000144958496, -7.872099876403809, -6.8053998947143555, -8.161800384521484, -8.026800155639648, -8.033100128173828, -6.711100101470947, -8.055999755859375, -8.04419994354248, -7.636099815368652, -8.099599838256836, -8.268500328063965, -8.123000144958496, -7.780900001525879, -8.035900115966797, -8.02970027923584, -8.032999992370605, -8.037400245666504, -7.756899833679199, -7.750500202178955, -6.52839994430542, -7.560999870300293, -6.493000030517578, -7.3668999671936035, -7.554800033569336, -7.184199810028076, -6.40310001373291, -5.250999927520752, -4.872900009155273, -4.285399913787842, -6.13640022277832, -5.844799995422363, -6.295599937438965, -4.749300003051758, -4.5218000411987305, -4.912099838256836, -5.098899841308594, -4.956600189208984, -6.204699993133545, -5.636300086975098, -6.592100143432617, -4.97160005569458, -6.576399803161621, -5.668700218200684, -5.362400054931641, -5.571700096130371, -5.6178998947143555, -5.387599945068359, -5.1072001457214355, -5.461400032043457, -5.1605000495910645, -5.253300189971924, -5.362800121307373, -5.40880012512207, -5.724599838256836, -5.501699924468994, -5.734399795532227, -5.532800197601318, -5.646500110626221, -5.647299766540527, -5.603700160980225, -5.584799766540527, -5.666100025177002, -6.940899848937988, -5.4045000076293945, -7.506400108337402, -6.860099792480469, -7.83519983291626, -7.234099864959717, -7.587500095367432, -7.167600154876709, -7.05210018157959, -7.879300117492676, -7.75600004196167, -7.633900165557861, -7.004499912261963, -8.087499618530273, -7.930799961090088, -8.130599975585938, -7.958399772644043, -5.7291998863220215, -8.142399787902832, -8.03950023651123, -7.812900066375732, -8.225500106811523, -7.597499847412109, -8.215299606323242, -7.823800086975098, -8.263899803161621, -8.246700286865234, -8.279000282287598, -8.111700057983398, -7.173699855804443, -7.8684000968933105, -6.798299789428711, -7.856299877166748, -6.834799766540527, -5.684700012207031, -6.986999988555908, -4.046599864959717, -4.834499835968018, -5.912700176239014, -6.904300212860107, -6.661600112915039, -6.1493000984191895, -6.588500022888184, -5.6118998527526855, -6.8968000411987305, -7.1107001304626465, -5.204699993133545, -6.2083001136779785, -5.852799892425537, -6.1305999755859375, -6.206600189208984, -6.252900123596191, -6.162099838256836, -5.685400009155273, -5.428400039672852, -6.273799896240234, -5.156499862670898, -6.079599857330322, -5.470300197601318, -5.595900058746338, -5.3144001960754395, -5.373899936676025, -5.616799831390381, -5.6743998527526855, -5.65500020980835, -5.624000072479248, -5.690700054168701, -5.854499816894531, -5.47790002822876, -5.747499942779541, -5.634399890899658, -5.606800079345703, -5.8531999588012695, -5.876399993896484, -5.649700164794922, -5.72130012512207, -5.739799976348877, -5.856900215148926, -7.335299968719482, -7.067699909210205, -6.549900054931641, -7.463799953460693, -7.466100215911865, -7.640999794006348, -7.264800071716309, -7.574999809265137, -7.7515997886657715, -7.774499893188477, -7.307600021362305, -7.326200008392334, -7.912899971008301, -7.282800197601318, -7.747799873352051, -7.7494001388549805, -7.840000152587891, -7.101500034332275, -7.2881999015808105, -7.727799892425537, -7.3267998695373535, -8.03320026397705, -6.641900062561035, -7.794600009918213, -7.793700218200684, -7.473999977111816, -7.599999904632568, -7.941500186920166, -8.149800300598145, -8.142000198364258, -7.514999866485596, -7.591700077056885, -7.247900009155273, -6.719299793243408, -6.7743000984191895, -7.10699987411499, -5.710000038146973, -5.892099857330322, -5.565199851989746, -6.803199768066406, -6.176199913024902, -5.338799953460693, -6.52239990234375, -7.174799919128418, -7.055300235748291, -5.7895002365112305, -5.773200035095215, -5.280900001525879, -6.695099830627441, -5.453499794006348, -5.579999923706055, -5.980100154876709, -5.8368000984191895, -5.1981000900268555, -6.515200138092041, -5.820000171661377, -6.526700019836426, -5.970300197601318, -6.319799900054932, -6.340199947357178, -5.714000225067139, -5.835400104522705, -5.712800025939941, -6.252999782562256, -5.682600021362305, -5.994999885559082, -5.761300086975098, -5.8292999267578125, -6.055600166320801, -5.909200191497803, -5.956699848175049, -6.1168999671936035, -6.11959981918335, -6.13129997253418, -6.1595001220703125, -6.135300159454346, -7.569399833679199, -7.568699836730957, -7.192699909210205, -7.276299953460693, -7.285999774932861, -7.569499969482422, -7.568600177764893, -7.56790018081665, -7.585400104522705, -7.633900165557861, -7.329100131988525, -7.961400032043457, -7.967299938201904, -7.962100028991699, -7.363399982452393, -7.599400043487549, -7.872799873352051, -7.961699962615967, -6.987599849700928, -7.248600006103516, -6.988500118255615, -7.3414998054504395, -7.643499851226807, -8.041399955749512, -7.62470006942749, -8.106100082397461, -8.092300415039062, -7.962299823760986, -6.792099952697754, -7.96120023727417, -7.621300220489502, -5.745699882507324, -7.5742998123168945, -6.487500190734863, -5.715799808502197, -7.196000099182129, -7.352700233459473, -7.2881999015808105, -6.663599967956543, -6.4430999755859375, -7.321100234985352, -5.729100227355957, -6.38070011138916, -5.8480000495910645, -6.5640997886657715, -6.156799793243408, -5.705100059509277, -7.081900119781494, -6.136099815368652, -5.681700229644775, -5.554900169372559, -5.696100234985352, -6.359799861907959, -5.579699993133545, -5.7494001388549805, -6.317800045013428, -6.014200210571289, -5.519700050354004, -6.0131001472473145, -5.948400020599365, -5.93310022354126, -5.73859977722168, -5.634300231933594, -5.913599967956543, -5.811100006103516, -5.710999965667725, -5.8460001945495605, -5.952199935913086, -5.813700199127197, -6.033699989318848, -5.9095001220703125, -5.989500045776367, -6.093100070953369, -6.2052998542785645, -6.0665998458862305, -6.1427998542785645, -6.480999946594238, -6.461400032043457, -6.451499938964844, -7.1107001304626465, -6.495999813079834, -7.1066999435424805, -7.104700088500977, -6.143499851226807, -7.1041998863220215, -6.587600231170654, -7.110599994659424, -7.111700057983398, -7.115799903869629, -6.121099948883057, -7.13539981842041, -7.104599952697754, -7.113999843597412, -7.162600040435791, -7.16379976272583, -7.163599967956543, -7.1645002365112305, -7.157700061798096, -6.048799991607666, -7.111499786376953, -7.1072998046875, -7.23859977722168, -7.1209001541137695, -6.53439998626709, -7.11299991607666, -7.128699779510498, -5.187600135803223, -6.576900005340576, -6.398600101470947, -6.188000202178955, -5.097099781036377, -6.476099967956543, -5.951900005340576, -6.507500171661377, -6.178500175476074, -5.649099826812744, -6.290599822998047, -5.777900218963623, -6.447000026702881, -5.669000148773193, -6.706399917602539, -5.137899875640869, -6.046000003814697, -5.426799774169922, -6.452700138092041, -5.364799976348877, -5.93310022354126, -5.91480016708374, -5.741799831390381, -5.964799880981445, -5.56850004196167, -5.565199851989746, -6.066699981689453, -5.882999897003174, -6.196499824523926, -6.166399955749512, -6.200500011444092, -6.144499778747559, -6.20359992980957, -6.19890022277832, -6.221399784088135, -6.186999797821045, -5.901100158691406, -6.502099990844727, -6.5121002197265625, -6.503499984741211, -6.509799957275391, -6.507800102233887, -6.548299789428711, -6.620999813079834, -6.516499996185303, -6.618100166320801, -6.509200096130371, -6.512700080871582, -6.516900062561035, -6.520699977874756, -6.562900066375732, -6.710700035095215, -6.5, -6.506199836730957, -6.3703999519348145, -6.590199947357178, -6.520699977874756, -6.512599945068359, -6.548799991607666, -6.61359977722168, -6.506800174713135, -6.547500133514404, -6.552499771118164, -6.509200096130371, -6.504499912261963, -7.056700229644775, -6.59630012512207, -6.510300159454346, -5.612299919128418, -4.908299922943115, -6.254199981689453, -6.078499794006348, -6.373000144958496, -5.999800205230713, -6.076399803161621, -6.335999965667725, -6.27370023727417, -6.392000198364258, -6.450799942016602, -6.502399921417236, -6.512899875640869, -6.513500213623047, -6.419300079345703, -6.414599895477295, -6.418600082397461, -6.436500072479248, -6.4182000160217285, -6.4217000007629395, -6.467899799346924, -6.47790002822876, -6.68209981918335, -7.2266998291015625, -6.446000099182129, -7.281899929046631, -6.417300224304199, -6.577099800109863, -6.464099884033203, -6.4253997802734375, -8.117300033569336, -7.104000091552734, -7.23199987411499, -7.390600204467773, -8.44159984588623, -8.861700057983398, -8.17710018157959, -9.154800415039062, -7.642499923706055, -9.166199684143066, -9.090900421142578, -9.162699699401855, -9.088600158691406, -9.159799575805664, -9.102999687194824, -8.584500312805176, -8.517000198364258, -7.132299900054932, -7.839700222015381, -7.053800106048584, -8.059900283813477, -6.469799995422363, -6.155300140380859, -7.7058000564575195, -6.9583001136779785, -6.820700168609619, -7.0777997970581055, -7.168700218200684, -7.165299892425537, -7.214200019836426, -7.211100101470947]}, \"token.table\": {\"Topic\": [2, 5, 10, 3, 4, 8, 1, 2, 4, 5, 8, 12, 1, 2, 4, 5, 6, 7, 8, 11, 12, 13, 2, 8, 1, 4, 5, 1, 4, 5, 7, 8, 10, 11, 12, 1, 2, 4, 13, 1, 3, 7, 11, 11, 1, 2, 3, 4, 5, 6, 7, 8, 9, 10, 11, 12, 1, 2, 3, 4, 5, 6, 7, 8, 9, 10, 12, 13, 1, 2, 3, 4, 5, 3, 9, 1, 4, 10, 5, 11, 4, 5, 8, 1, 5, 11, 13, 1, 5, 7, 2, 8, 1, 2, 4, 7, 9, 11, 12, 1, 2, 4, 7, 9, 10, 4, 1, 2, 3, 4, 5, 7, 8, 9, 10, 11, 12, 1, 2, 3, 4, 5, 7, 10, 11, 12, 3, 6, 7, 13, 1, 2, 3, 4, 5, 6, 7, 8, 9, 10, 11, 12, 1, 5, 7, 11, 1, 4, 6, 2, 3, 5, 9, 13, 2, 8, 1, 4, 13, 1, 4, 5, 7, 11, 1, 2, 3, 4, 5, 6, 7, 8, 9, 10, 1, 2, 3, 4, 5, 6, 7, 8, 9, 10, 11, 12, 13, 2, 4, 7, 8, 13, 1, 2, 4, 5, 9, 3, 2, 3, 9, 1, 4, 8, 2, 5, 9, 2, 8, 9, 1, 4, 5, 7, 10, 11, 1, 2, 3, 4, 5, 6, 7, 8, 9, 10, 11, 12, 1, 5, 7, 1, 2, 3, 4, 5, 6, 8, 9, 1, 4, 11, 12, 1, 5, 11, 1, 2, 4, 5, 10, 11, 13, 2, 4, 6, 8, 9, 6, 3, 4, 5, 7, 8, 10, 1, 2, 3, 4, 5, 6, 7, 8, 9, 10, 11, 12, 13, 5, 8, 10, 1, 5, 11, 13, 2, 4, 6, 8, 6, 8, 1, 4, 5, 6, 7, 8, 9, 11, 1, 2, 4, 5, 6, 7, 8, 10, 11, 12, 1, 2, 5, 11, 1, 10, 1, 4, 5, 7, 1, 2, 3, 4, 5, 6, 7, 8, 9, 10, 11, 12, 5, 8, 10, 11, 1, 7, 1, 2, 4, 7, 10, 11, 12, 1, 4, 5, 7, 1, 2, 3, 4, 5, 7, 8, 9, 10, 11, 12, 13, 1, 2, 3, 4, 5, 6, 7, 8, 9, 10, 11, 12, 13, 14, 1, 2, 3, 4, 5, 6, 7, 8, 10, 11, 12, 13, 5, 8, 9, 11, 1, 7, 2, 6, 8, 1, 4, 5, 11, 4, 5, 7, 11, 2, 1, 4, 5, 7, 11, 1, 4, 10, 12, 2, 3, 8, 9, 1, 3, 4, 5, 8, 11, 2, 4, 5, 6, 7, 8, 9, 10, 4, 10, 12, 1, 4, 5, 7, 10, 2, 5, 10, 1, 4, 7, 1, 11, 5, 9, 10, 1, 2, 3, 4, 5, 7, 8, 9, 10, 5, 1, 2, 3, 4, 5, 6, 7, 8, 9, 10, 11, 12, 13, 2, 4, 9, 2, 9, 1, 4, 5, 7, 10, 11, 12, 1, 5, 12, 4, 7, 2, 6, 11, 12, 7, 8, 10, 2, 4, 6, 8, 9, 1, 2, 3, 4, 5, 6, 7, 8, 9, 10, 11, 12, 4, 11, 2, 9, 11, 4, 5, 6, 12, 13, 2, 3, 4, 6, 8, 9, 10, 1, 2, 3, 4, 5, 6, 8, 9, 2, 4, 1, 3, 4, 5, 7, 12, 5, 7, 10, 1, 4, 11, 4, 6, 1, 5, 7, 10, 11, 12, 2, 3, 9, 2, 3, 1, 2, 3, 4, 5, 6, 8, 11, 13, 1, 2, 3, 4, 5, 6, 7, 8, 9, 10, 11, 12, 13, 4, 7, 11, 13, 1, 3, 4, 5, 6, 7, 10, 11, 12, 3, 9, 2, 4, 1, 4, 5, 6, 7, 8, 11, 2, 9, 2, 6, 8, 9, 1, 2, 3, 4, 5, 6, 8, 9, 11, 1, 2, 3, 4, 5, 6, 7, 8, 9, 10, 11, 12, 4, 7, 10, 11, 1, 2, 3, 4, 5, 6, 8, 11, 12, 2, 4, 8, 5, 7, 12, 3, 1, 1, 2, 5, 7, 2, 2, 8, 1, 2, 8, 11, 12, 2, 5, 8, 9, 4, 10, 11, 12, 2, 3, 4, 5, 7, 8, 9, 1, 2, 3, 4, 6, 7, 8, 9, 2, 1, 4, 10, 1, 2, 3, 4, 5, 6, 7, 8, 9, 10, 11, 12, 13, 1, 4, 5, 7, 11, 1, 4, 5, 8, 11, 12, 5, 8, 2, 3, 4, 6, 8, 1, 2, 3, 4, 5, 6, 7, 8, 9, 10, 11, 12, 13, 1, 2, 4, 5, 6, 7, 8, 9, 10, 11, 12, 2, 3, 4, 8, 9, 2, 3, 9, 1, 2, 3, 4, 5, 6, 7, 8, 9, 10, 11, 12, 1, 2, 3, 4, 5, 6, 8, 9, 11, 1, 2, 3, 4, 5, 6, 7, 8, 9, 10, 11, 12, 13, 1, 2, 3, 4, 5, 6, 7, 8, 9, 10, 11, 1, 2, 3, 4, 5, 6, 7, 8, 9, 10, 12, 1, 2, 4, 6, 8, 3, 1, 2, 4, 7, 9, 10, 13, 1, 5, 11, 6, 8, 1, 11, 1, 3, 4, 7, 10, 11, 2, 3, 9, 1, 4, 5, 7, 12, 4, 2, 8, 1, 2, 1, 3, 13, 1, 8, 10, 1, 2, 4, 5, 10, 13, 2, 5, 7, 11, 2, 8, 10, 2, 3, 4, 5, 2, 1, 2, 3, 4, 5, 6, 7, 8, 9, 10, 11, 12, 13, 3, 3, 6, 7, 1, 2, 3, 4, 5, 8, 11, 4, 5, 7, 10, 1, 3, 9, 5, 9, 11, 1, 2, 3, 4, 5, 7, 8, 9, 10, 11, 12, 13, 4, 7, 8, 11, 12, 1, 2, 3, 4, 5, 7, 8, 10, 11, 12, 3, 8, 1, 2, 4, 5, 8, 13, 1, 2, 3, 4, 6, 8, 9, 2, 3, 4, 8, 9, 2, 3, 4, 6, 7, 8, 9, 10, 4, 6, 2, 3, 5, 9, 12, 2, 9, 1, 4, 7, 10, 13, 1, 5, 2, 3, 4, 5, 8, 9, 12, 2, 3, 8, 1, 2, 4, 5, 11, 2, 3, 5, 6, 8, 9, 1, 2, 4, 5, 7, 9, 10, 11, 12, 3, 3, 3, 2, 6, 4, 1, 5, 11, 1, 4, 5, 7, 11, 13, 1, 4, 5, 7, 11, 12, 4, 7, 12, 1, 5, 11, 12, 1, 3, 4, 5, 6, 7, 8, 10, 1, 3, 4, 7, 4, 8, 1, 2, 3, 4, 6, 9, 11, 2, 3, 8, 5, 12, 13, 2, 3, 8, 1, 4, 10, 12, 3, 4, 8, 6, 8, 1, 2, 3, 4, 5, 7, 8, 1, 4, 8, 10, 12, 1, 2, 3, 4, 5, 6, 7, 8, 9, 10, 11, 12, 13, 1, 2, 3, 4, 5, 6, 7, 8, 9, 10, 11, 12, 13, 1, 4, 5, 7, 8, 10, 12, 1, 2, 3, 4, 5, 6, 7, 8, 9, 10, 11, 12, 4, 2, 8, 12, 1, 2, 3, 4, 5, 7, 8, 9, 10, 11, 12, 1, 2, 3, 4, 5, 6, 7, 8, 9, 10, 11, 12, 2, 3, 8, 11, 1, 2, 7, 12, 1, 2, 3, 4, 5, 6, 7, 8, 9, 10, 11, 12, 1, 3, 8, 9, 3, 4, 8, 10, 11, 1, 2, 4, 5, 6, 7, 8, 10, 11, 12, 1, 2, 3, 4, 5, 6, 7, 8, 9, 10, 11, 12, 2, 3, 1, 2, 4, 5, 7, 4, 8, 10, 11, 1, 5, 10, 12, 6, 8, 8, 11, 12, 4, 8, 12, 13, 2, 5, 7, 11, 7, 11, 2, 9, 1, 2, 3, 4, 5, 6, 7, 8, 9, 10, 11, 12, 1, 2, 3, 4, 5, 6, 7, 8, 9, 10, 11, 12, 6, 8, 9, 1, 4, 7, 11, 1, 4, 5, 1, 2, 3, 4, 5, 8, 9, 10, 1, 3, 4, 7, 10, 12, 1, 5, 7, 10, 1, 2, 3, 4, 5, 6, 7, 8, 9, 10, 12, 5, 5, 11, 1, 4, 5, 7, 10, 11, 12, 1, 5, 8, 1, 13, 6, 8, 6, 7, 10, 4, 5, 7, 8, 5, 8, 11, 1, 2, 3, 4, 5, 6, 7, 8, 9, 10, 11, 1, 4, 5, 6, 7, 8, 10, 1, 4, 5, 7, 11, 12, 7, 12, 1, 4, 8, 13, 4, 5, 10, 13, 1, 2, 3, 4, 5, 6, 7, 8, 9, 10, 11, 12, 2, 9, 1, 4, 1, 2, 3, 4, 5, 6, 7, 8, 9, 10, 11, 12, 1, 2, 3, 4, 5, 6, 7, 8, 9, 10, 11, 12, 1, 2, 3, 4, 5, 6, 7, 8, 9, 10, 11, 12, 13, 6, 8, 1, 4, 5, 8, 2, 9, 1, 2, 3, 4, 5, 6, 7, 8, 9, 10, 11, 12, 13, 1, 7, 10, 13, 1, 2, 8, 1, 2, 8, 1, 2, 3, 4, 5, 6, 7, 8, 10, 11, 12, 1, 4, 1, 2, 3, 4, 5, 6, 7, 8, 10, 11, 12, 1, 4, 4, 7, 1, 2, 3, 4, 5, 6, 7, 8, 9, 10, 11, 12, 13, 2, 4, 7, 1, 5, 7, 10, 11, 12, 1, 5, 7, 9, 10, 1, 2, 4, 6, 8, 1, 2, 3, 4, 5, 6, 7, 8, 9, 10, 11, 12, 2, 3, 1, 2, 3, 4, 5, 8, 9, 12, 2, 3, 9, 2, 9, 2, 4, 5, 7, 12, 1, 2, 3, 4, 5, 6, 7, 8, 9, 10, 11, 12, 1, 7, 8, 11, 1, 2, 3, 4, 5, 6, 7, 8, 9, 10, 11, 12, 1, 2, 3, 4, 5, 6, 7, 8, 9, 10, 11, 12, 13, 1, 2, 3, 4, 5, 6, 7, 8, 9, 10, 11, 12, 13, 5, 10, 1, 4, 5, 12, 13, 4, 5, 6, 8, 2, 3, 9, 1, 3, 4, 5, 7, 8, 11, 12, 1, 2, 3, 4, 5, 6, 7, 8, 9, 10, 11, 12, 2, 6, 7, 8, 9, 1, 2, 3, 4, 5, 6, 7, 8, 10, 11, 1, 2, 3, 4, 5, 6, 7, 8, 9, 10, 11, 12, 4, 5, 7, 12, 6, 8, 1, 6, 8, 4, 1, 9, 13, 2, 4, 8, 12, 1, 2, 12, 2, 3, 9, 5, 8, 9, 10, 2, 8, 4, 7, 11, 12, 1, 4, 5, 7, 10, 11, 12, 1, 2, 3, 4, 6, 7, 8, 7, 8, 1, 4, 5, 7, 8, 10, 11, 1, 2, 8, 2, 5, 7, 12, 1, 2, 5, 12, 2, 3, 4, 1, 8, 9, 10, 1, 2, 4, 8, 3, 5, 9, 1, 5, 12, 2, 5, 10, 12, 1, 2, 3, 4, 5, 6, 7, 8, 9, 10, 11, 12, 7, 8, 10, 1, 4, 5, 7, 11, 13, 2, 8, 2, 3, 4, 9, 5, 7, 11, 4, 7, 9, 1, 2, 3, 4, 5, 7, 8, 9, 10, 11, 12, 4, 11, 6, 8, 6, 8, 4, 7, 9, 10, 12, 1, 2, 3, 4, 5, 7, 8, 10, 12, 6, 8, 9, 1, 2, 3, 4, 5, 6, 7, 8, 9, 10, 11, 12, 13, 2, 3, 9, 1, 2, 3, 4, 5, 6, 7, 8, 9, 10, 11, 12, 1, 2, 3, 4, 6, 8, 9, 10, 13, 1, 2, 3, 4, 5, 7, 8, 11, 13, 4, 6, 7, 1, 2, 3, 4, 5, 6, 7, 8, 9, 11, 12, 1, 2, 3, 4, 5, 6, 7, 8, 9, 10, 11, 12, 1, 2, 3, 6, 8, 1, 4, 8, 9, 12, 6, 8, 5, 8, 1, 3, 10, 12, 1, 2, 3, 4, 5, 6, 7, 8, 9, 10, 11, 12, 5, 7, 10, 2, 5, 7, 11, 1, 2, 3, 4, 5, 6, 7, 8, 9, 10, 11, 12, 4, 8, 1, 2, 3, 4, 5, 6, 7, 8, 9, 10, 11, 12, 13, 1, 4, 5, 7, 11, 13, 1, 2, 3, 4, 5, 6, 7, 8, 9, 10, 12, 4, 5, 10, 1, 11, 1, 2, 3, 4, 5, 6, 7, 8, 9, 10, 11, 12, 1, 2, 3, 4, 5, 6, 7, 8, 9, 10, 11, 12, 1, 2, 3, 4, 5, 6, 7, 8, 9, 10, 11, 12, 1, 2, 3, 4, 5, 6, 7, 8, 9, 10, 11, 12, 1, 1, 2, 3, 4, 5, 6, 7, 8, 9, 10, 11, 12, 13, 4, 6, 8, 9, 1, 2, 3, 4, 5, 7, 8, 10, 11, 12, 5, 7, 1, 2, 3, 4, 5, 6, 7, 8, 9, 10, 11, 12, 13, 6, 8, 9, 3, 1, 2, 3, 4, 5, 6, 7, 8, 9, 10, 11, 12, 13, 1, 2, 3, 4, 5, 6, 7, 8, 9, 10, 11, 12, 1, 2, 3, 4, 5, 6, 7, 8, 9, 10, 11, 12, 1, 2, 3, 4, 5, 6, 7, 8, 9, 10, 11, 12, 1, 4, 5, 7, 8, 10, 11, 6, 8, 6, 4, 8, 13, 1, 2, 3, 4, 5, 8, 11, 5, 8, 10, 7, 10, 4, 5, 10, 6, 8, 9, 1, 5, 11, 1, 2, 4, 5, 7, 8, 10, 11, 4, 9, 10, 1, 4, 5, 8, 11, 12, 1, 5, 11, 12, 1, 5, 11, 1, 2, 3, 5, 8, 9, 10, 1, 2, 3, 4, 5, 6, 7, 8, 9, 10, 11, 12, 13, 7, 10, 2, 3, 4, 7, 1, 5, 6, 8, 2, 3, 4, 8, 9, 1, 7, 2, 3, 2, 1, 3, 4, 5, 6, 7, 8, 9, 11, 12, 4, 5, 7, 8, 10, 11, 12, 1, 2, 4, 5, 6, 7, 8, 9, 10, 11, 12, 1, 4, 5, 11, 12, 13, 1, 2, 5, 8, 6, 8, 1, 11, 13, 2, 3, 8, 9, 2, 3, 9, 5, 8, 1, 2, 3, 4, 5, 6, 7, 8, 9, 10, 11, 12, 1, 2, 9, 1, 2, 3, 4, 5, 6, 7, 8, 9, 10, 11, 12, 13, 4, 7, 11, 1, 7, 11, 13, 1, 2, 3, 4, 5, 6, 7, 8, 9, 10, 11, 12, 1, 4, 1, 4, 5, 7, 8, 11, 13, 1, 4, 5, 7, 8, 10, 11, 12, 1, 4, 7, 12, 4, 7, 1, 5, 7, 5, 12, 1, 2, 3, 4, 5, 6, 7, 8, 9, 10, 11, 12, 1, 2, 3, 4, 5, 6, 7, 8, 9, 10, 11, 12, 1, 2, 3, 4, 6, 8, 10, 14, 1, 11, 5, 11, 4, 1, 4, 5, 11, 12, 13, 1, 3, 4, 5, 7, 10, 11, 12, 6, 8, 1, 2, 3, 4, 5, 6, 7, 8, 9, 10, 12, 1, 2, 3, 4, 5, 6, 7, 8, 9, 10, 11, 12, 1, 3, 4, 5, 7, 12, 2, 3, 9, 1, 2, 4, 5, 7, 1, 8, 11, 3, 6, 8, 1, 2, 3, 4, 5, 6, 9, 13, 1, 2, 3, 4, 5, 6, 12, 4, 5, 6, 8, 1, 12, 1, 2, 3, 4, 5, 6, 7, 8, 9, 10, 11, 12, 1, 2, 3, 4, 5, 6, 7, 8, 9, 10, 11, 12, 1, 4, 7, 12, 2, 5, 7, 10, 12, 4, 1, 1, 2, 3, 4, 5, 7, 8, 9, 10, 11, 12, 3, 9, 3, 1, 2, 4, 5, 8, 9, 1, 2, 3, 4, 5, 6, 7, 8, 9, 10, 12, 2, 9, 13, 4, 3, 4, 7, 8, 1, 4, 5, 11, 12, 13, 4, 2, 9, 1, 4, 5, 7, 8, 10, 11, 1, 4, 5, 1, 1, 4, 5, 8, 10, 11, 12, 6, 8, 5, 10, 1, 4, 7, 7, 11, 2, 8, 9, 2, 3, 4, 5, 11, 12, 1, 10, 2, 8, 10, 6, 8, 4, 6, 8, 1, 2, 3, 4, 5, 7, 8, 10, 11, 12, 1, 2, 3, 4, 5, 7, 8, 11, 12, 1, 4, 5, 7, 10, 4, 11, 1, 2, 3, 4, 5, 6, 7, 8, 9, 10, 11, 12, 1, 5, 10, 11, 2, 8, 9, 2, 4, 5, 8, 1, 2, 3, 4, 5, 6, 7, 8, 9, 10, 11, 12, 1, 3, 1, 2, 4, 7, 1, 4, 7, 12, 1, 2, 4, 6, 8, 13, 1, 5, 8, 5, 1, 4, 5, 7, 10, 11, 7, 1, 5, 8, 1, 4, 7, 7, 10, 1, 5, 4, 8, 4, 1, 5, 8, 3, 9, 3, 1, 3, 4, 5, 4, 9, 3, 8, 9, 1, 2, 3, 4, 5, 8, 9, 10, 11, 12, 1, 4, 5, 7, 8, 10, 11, 12, 13, 1, 3, 8, 5, 1, 4, 5, 7, 11, 12, 13, 1, 2, 3, 6, 8, 1, 4, 9, 1, 2, 3, 4, 5, 6, 7, 9, 10, 12, 4, 5, 11, 12, 1, 2, 3, 4, 5, 6, 7, 8, 9, 10, 11, 2, 3, 9, 1, 2, 3, 4, 5, 6, 7, 8, 9, 10, 11, 12, 13, 1, 4, 5, 7, 8, 10, 11, 12, 13, 1, 2, 3, 4, 5, 6, 7, 8, 9, 10, 11, 12, 13, 2, 3, 4, 5, 6, 7, 8, 9, 13, 1, 7, 13, 1, 4, 5, 7, 8, 10, 12, 1, 2, 4, 3, 4, 6, 8, 1, 3, 5, 6, 12, 1, 2, 3, 4, 5, 6, 7, 8, 9, 10, 11, 12, 2, 4, 9, 10, 11, 1, 5, 8, 11, 12, 1, 4, 5, 7, 9, 1, 2, 3, 4, 5, 6, 7, 8, 9, 10, 11, 12, 13, 5, 11, 1, 4, 7, 8, 10, 12, 2, 9, 11, 1, 2, 3, 4, 5, 6, 7, 8, 11, 12, 1, 2, 4, 5, 7, 11, 1, 4, 5, 7, 8, 10, 11, 12, 4, 10, 11, 1, 2, 3, 4, 7, 1, 2, 3, 4, 5, 6, 7, 8, 9, 10, 11, 12, 13, 4, 7, 12, 1, 4, 6, 8, 1, 2, 3, 4, 5, 6, 7, 8, 9, 10, 11, 12, 1, 4, 7, 11, 1, 3, 4, 8, 13, 4, 8, 11, 1, 4, 1, 2, 3, 4, 5, 6, 7, 8, 9, 10, 11, 12, 13, 1, 2, 3, 4, 5, 6, 7, 8, 9, 10, 11, 12, 5, 1, 2, 3, 4, 5, 6, 7, 8, 9, 10, 11, 12, 13, 1, 4, 5, 10, 11, 12, 5, 1, 4, 7, 1, 2, 4, 5, 7, 11, 12, 4, 5, 7, 8, 13, 1, 2, 3, 4, 7, 8, 9, 11, 13, 4, 12, 1, 2, 9, 11, 12, 2, 4, 4, 1, 2, 3, 4, 5, 6, 7, 8, 9, 10, 11, 12, 1, 2, 4, 5, 7, 8, 10, 11, 12, 2, 4, 5, 12, 1, 3, 4, 5, 7, 10, 11, 12, 1, 3, 4, 5, 6, 7, 8, 10, 11, 12, 1, 7, 12, 1, 5, 10, 12, 2, 3, 4, 8, 1, 4, 11, 13, 1, 2, 3, 4, 5, 6, 7, 8, 9, 10, 11, 12, 1, 2, 3, 4, 5, 6, 7, 8, 9, 11, 12, 1, 2, 3, 4, 5, 6, 7, 8, 9, 10, 11, 12, 5, 1, 2, 3, 4, 5, 7, 8, 10, 11, 12, 5, 7, 13, 2, 5, 8, 13, 4, 7, 11, 2, 2, 3, 4, 5, 9, 4, 5, 7, 1, 4, 5, 8, 1, 5, 4, 7, 10, 1, 4, 11, 6, 8, 12, 1, 2, 3, 4, 5, 6, 7, 8, 9, 10, 11, 12, 13, 1, 4, 5, 7, 11, 1, 2, 3, 4, 5, 6, 7, 8, 9, 10, 1, 2, 6, 2, 11, 7, 9, 1, 2, 4, 5, 7, 9, 11, 12, 4, 1, 2, 3, 4, 5, 6, 7, 8, 9, 10, 1, 4, 7, 13, 4, 5, 7, 1, 2, 3, 4, 5, 6, 7, 8, 10, 11, 12, 13, 2, 3, 2, 3, 1, 4, 5, 8, 10, 11, 1, 2, 3, 4, 5, 7, 8, 10, 11, 12, 1, 4, 7, 1, 2, 3, 4, 5, 6, 7, 8, 10, 11, 12, 13, 5, 10, 11, 7, 12, 7, 10, 11, 1, 2, 7, 8, 4, 5, 1, 3, 4, 12, 1, 4, 13, 4, 8, 12, 1, 5, 6, 7, 9, 13, 2, 2, 5, 8, 7, 1, 2, 3, 4, 5, 6, 7, 8, 11, 3, 8, 1, 2, 3, 4, 5, 6, 7, 8, 9, 10, 11, 12, 1, 5, 9, 2, 2, 9, 2, 4, 7, 9, 12, 4, 7, 8, 10, 1, 5, 7, 12, 13, 1, 2, 3, 4, 5, 6, 7, 8, 9, 10, 11, 12, 13, 5, 10, 1, 4, 7, 12, 2, 9, 1, 5, 7, 9, 1, 2, 3, 4, 5, 6, 7, 8, 9, 10, 11, 12, 1, 4, 10, 13, 1, 2, 3, 4, 5, 7, 10, 4, 6, 10, 11, 1, 2, 3, 4, 5, 6, 7, 8, 9, 10, 11, 12, 1, 2, 3, 4, 5, 6, 7, 8, 9, 10, 11, 12, 13, 1, 4, 5, 7, 8, 10, 11, 12, 1, 2, 3, 4, 5, 6, 7, 8, 9, 10, 11, 12, 1, 2, 3, 4, 5, 6, 7, 8, 9, 10, 11, 12, 4, 4, 7, 13, 1, 2, 3, 4, 5, 6, 7, 8, 9, 10, 11, 12, 13, 4, 4, 5, 7, 11, 1, 5, 7, 11, 12, 1, 2, 3, 4, 5, 6, 7, 8, 9, 10, 11, 12, 4, 9, 3, 4, 9, 1, 2, 3, 4, 5, 6, 7, 8, 9, 10, 11, 12, 13, 1, 3, 4, 7, 9, 10, 11, 1, 4, 11, 1, 5, 12, 1, 2, 3, 4, 5, 6, 7, 8, 9, 10, 12, 1, 8, 10, 1, 13, 1, 5, 12, 13, 1, 3, 4, 5, 7, 1, 10, 12, 4, 3, 4, 6, 12, 1, 2, 3, 5, 2, 3, 7, 2, 3, 8, 2, 4, 7, 10, 12, 2, 3, 6, 4, 7, 12, 3, 4, 5, 7, 8, 10, 1, 4, 12, 1, 4, 5, 13, 1, 1, 5, 11, 12, 4, 8, 4, 7, 1, 4, 11, 12, 4, 7, 9, 2, 3, 4, 5, 6, 7, 8, 11, 12, 2, 7, 8, 9, 1, 1, 2, 3, 4, 5, 7, 8, 10, 11, 12, 1, 1, 2, 3, 4, 5, 9, 11, 1, 4, 13, 2, 3, 7, 1, 4, 5, 7, 11, 12, 13, 5, 8, 12, 4, 8, 1, 2, 3, 4, 5, 6, 7, 10, 11, 1, 4, 5, 7, 10, 11, 12, 1, 5, 10, 5, 1, 2, 3, 4, 5, 7, 8, 9, 10, 11, 12, 1, 2, 3, 4, 5, 6, 7, 8, 9, 10, 11, 12, 13, 1, 2, 3, 4, 5, 6, 7, 8, 9, 10, 11, 12, 1, 2, 4, 5, 7, 8, 9, 2, 3, 5, 9, 1, 2, 3, 4, 5, 7, 8, 9, 2, 9, 1, 7, 1, 2, 3, 4, 5, 7, 8, 9, 10, 11, 12, 1, 2, 3, 7, 9, 10, 2, 6, 8, 9, 4, 1, 2, 4, 6, 8, 9, 11, 12, 3, 7, 8, 13, 2, 3, 4, 8, 9, 2, 3, 9, 1, 2, 3, 4, 5, 6, 7, 8, 9, 10, 11, 12, 13, 1, 2, 3, 4, 5, 6, 7, 8, 9, 10, 11, 12, 13, 1, 2, 3, 4, 5, 6, 7, 8, 9, 10, 11, 12, 13, 4, 1, 9, 10, 1, 2, 3, 4, 5, 6, 7, 8, 9, 10, 11, 12, 4, 6, 4, 10, 1, 2, 3, 4, 5, 6, 7, 8, 9, 10, 11, 12, 1, 2, 3, 4, 5, 6, 7, 8, 9, 10, 11, 12, 4, 2, 1, 2, 3, 4, 5, 6, 7, 8, 9, 10, 11, 12, 1, 7, 13], \"Freq\": [0.964690089225769, 0.7944951057434082, 0.15889902412891388, 0.15536798536777496, 0.15536798536777496, 0.4661039412021637, 0.11546062678098679, 0.26940813660621643, 0.3078950047492981, 0.15394750237464905, 0.07697375118732452, 0.03848687559366226, 0.23380215466022491, 0.30394279956817627, 0.07014064490795135, 0.046760428696870804, 0.07014064490795135, 0.07014064490795135, 0.046760428696870804, 0.046760428696870804, 0.023380214348435402, 0.09352085739374161, 0.3682662546634674, 0.5523993968963623, 0.3653695285320282, 0.09134238213300705, 0.5480542778968811, 0.029977457597851753, 0.12740419805049896, 0.4871337115764618, 0.15738165378570557, 0.059954915195703506, 0.014988728798925877, 0.06744927912950516, 0.052460551261901855, 0.18795639276504517, 0.37591278553009033, 0.18795639276504517, 0.18795639276504517, 0.22523073852062225, 0.3378461003303528, 0.22523073852062225, 0.11261536926031113, 0.7537294626235962, 0.11278194189071655, 0.18045111000537872, 0.34962400794029236, 0.07518795877695084, 0.02255638875067234, 0.1654135137796402, 0.02255638875067234, 0.026315785944461823, 0.0037593981251120567, 0.01879698969423771, 0.0037593981251120567, 0.01127819437533617, 0.024287451058626175, 0.32180872559547424, 0.10929352790117264, 0.05464676395058632, 0.05464676395058632, 0.12143725156784058, 0.03643117472529411, 0.0971498042345047, 0.13965284824371338, 0.030359312891960144, 0.006071862764656544, 0.006071862764656544, 0.22380244731903076, 0.22380244731903076, 0.22380244731903076, 0.11190122365951538, 0.11190122365951538, 0.8047391772270203, 0.10729855298995972, 0.8934856057167053, 0.03436483070254326, 0.03436483070254326, 0.7586330771446228, 0.09482913464307785, 0.17129234969615936, 0.3425846993923187, 0.3425846993923187, 0.3671766221523285, 0.09179415553808212, 0.3671766221523285, 0.09179415553808212, 0.13496652245521545, 0.13496652245521545, 0.6748326420783997, 0.24349375069141388, 0.6087343692779541, 0.3012467920780182, 0.12049871683120728, 0.06024935841560364, 0.06024935841560364, 0.3012467920780182, 0.06024935841560364, 0.06024935841560364, 0.0423644594848156, 0.1694578379392624, 0.2118222862482071, 0.0847289189696312, 0.4236445724964142, 0.0847289189696312, 0.9182538390159607, 0.2524864077568054, 0.12188998609781265, 0.026119282469153404, 0.1393028348684311, 0.1393028348684311, 0.060944993048906326, 0.04353213682770729, 0.017412854358553886, 0.11318355798721313, 0.060944993048906326, 0.026119282469153404, 0.27218863368034363, 0.017560556530952454, 0.017560556530952454, 0.2282872349023819, 0.10536333918571472, 0.193166121840477, 0.12292389571666718, 0.02634083479642868, 0.008780278265476227, 0.3687388598918915, 0.18436942994594574, 0.18436942994594574, 0.18436942994594574, 0.24034205079078674, 0.09613682329654694, 0.0404786616563797, 0.1796240657567978, 0.1669744849205017, 0.04553849250078201, 0.09107698500156403, 0.06830774247646332, 0.017709413543343544, 0.02782907895743847, 0.007589749060571194, 0.022769246250391006, 0.10798905789852142, 0.21597811579704285, 0.10798905789852142, 0.4319562315940857, 0.22953861951828003, 0.07651287317276001, 0.6886158585548401, 0.18402497470378876, 0.3680499494075775, 0.18402497470378876, 0.09201248735189438, 0.09201248735189438, 0.18451055884361267, 0.7380422353744507, 0.3396410644054413, 0.4528547525405884, 0.1132136881351471, 0.2121019810438156, 0.14140132069587708, 0.07070066034793854, 0.2121019810438156, 0.28280264139175415, 0.050113752484321594, 0.3285234868526459, 0.005568194668740034, 0.050113752484321594, 0.03340917080640793, 0.3062507212162018, 0.005568194668740034, 0.155909463763237, 0.011136389337480068, 0.04454555734992027, 0.1477002203464508, 0.18757927417755127, 0.15213122963905334, 0.1107751652598381, 0.09452813863754272, 0.10486716032028198, 0.0516950786113739, 0.06794210523366928, 0.0369250550866127, 0.02067803032696247, 0.007385010831058025, 0.01624702475965023, 0.001477002166211605, 0.19137151539325714, 0.19137151539325714, 0.3827430307865143, 0.19137151539325714, 0.19137151539325714, 0.12938913702964783, 0.06469456851482391, 0.12938913702964783, 0.12938913702964783, 0.4528619647026062, 0.8660990595817566, 0.010992337949573994, 0.9563333988189697, 0.021984675899147987, 0.7779869437217712, 0.18460707366466522, 0.013186220079660416, 0.858389139175415, 0.006867113057523966, 0.11674092710018158, 0.12383728474378586, 0.6191864609718323, 0.12383728474378586, 0.8694807291030884, 0.08280768990516663, 0.011829670518636703, 0.017744505777955055, 0.005914835259318352, 0.005914835259318352, 0.2862125337123871, 0.04024863615632057, 0.12074590474367142, 0.08944141119718552, 0.25490802526474, 0.013416212052106857, 0.0939134806394577, 0.013416212052106857, 0.013416212052106857, 0.04472070559859276, 0.017888283357024193, 0.008944141678512096, 0.16963404417037964, 0.05654468014836311, 0.7350808382034302, 0.006809461396187544, 0.1974743753671646, 0.4562339186668396, 0.006809461396187544, 0.006809461396187544, 0.23152169585227966, 0.07490407675504684, 0.006809461396187544, 0.31838464736938477, 0.2547077238559723, 0.12735386192798615, 0.31838464736938477, 0.15456058084964752, 0.30912116169929504, 0.46368175745010376, 0.430220365524292, 0.0537775456905365, 0.0537775456905365, 0.1613326370716095, 0.1613326370716095, 0.0537775456905365, 0.0537775456905365, 0.0030354890041053295, 0.0030354890041053295, 0.9227886199951172, 0.06374526768922806, 0.006070978008210659, 0.903719961643219, 0.9375738501548767, 0.21065416932106018, 0.6865765452384949, 0.015604011714458466, 0.015604011714458466, 0.06241604685783386, 0.15054212510585785, 0.26835769414901733, 0.1063612848520279, 0.12272455543279648, 0.04908982291817665, 0.0949069932103157, 0.06381677091121674, 0.055635131895542145, 0.045817166566848755, 0.016363274306058884, 0.011454291641712189, 0.01472694706171751, 0.001636327477172017, 0.36070960760116577, 0.18035480380058289, 0.36070960760116577, 0.8460153937339783, 0.04126904532313347, 0.061903566122055054, 0.020634522661566734, 0.0031903977505862713, 0.0031903977505862713, 0.9539288878440857, 0.03509437292814255, 0.6855781674385071, 0.17139454185962677, 0.15563392639160156, 0.12450714409351349, 0.12450714409351349, 0.062253572046756744, 0.4357750117778778, 0.031126786023378372, 0.031126786023378372, 0.062253572046756744, 0.22714631259441376, 0.016620462760329247, 0.21052585542201996, 0.29362815618515015, 0.005540153943002224, 0.11080308258533478, 0.005540153943002224, 0.011080307886004448, 0.08864246308803558, 0.016620462760329247, 0.24426968395709991, 0.03489566966891289, 0.41874805092811584, 0.2791653573513031, 0.525130569934845, 0.35008704662323, 0.07343965023756027, 0.14687930047512054, 0.2203189581632614, 0.5875172019004822, 0.018380802124738693, 0.647004246711731, 0.12866561114788055, 0.040437765419483185, 0.03308544307947159, 0.0036761604715138674, 0.007352320943027735, 0.0036761604715138674, 0.10293249040842056, 0.0036761604715138674, 0.007352320943027735, 0.0036761604715138674, 0.1854589730501175, 0.1854589730501175, 0.1854589730501175, 0.370917946100235, 0.8974301815032959, 0.049857232719659805, 0.2532278895378113, 0.06330697238445282, 0.12661394476890564, 0.12661394476890564, 0.06330697238445282, 0.06330697238445282, 0.3165348470211029, 0.9029192328453064, 0.03009730763733387, 0.03009730763733387, 0.03009730763733387, 0.3694600760936737, 0.02842000499367714, 0.01421000249683857, 0.12789002060890198, 0.18473003804683685, 0.09947001934051514, 0.05684000998735428, 0.02842000499367714, 0.02842000499367714, 0.01421000249683857, 0.01421000249683857, 0.04263000935316086, 0.29601991176605225, 0.030835406854748726, 0.02466832473874092, 0.1233416274189949, 0.2466832548379898, 0.02466832473874092, 0.09250622242689133, 0.043169569224119186, 0.04933664947748184, 0.02466832473874092, 0.01233416236937046, 0.02466832473874092, 0.01233416236937046, 0.00616708118468523, 0.32421886920928955, 0.04863283038139343, 0.06484377384185791, 0.06484377384185791, 0.19453132152557373, 0.032421886920928955, 0.05673830211162567, 0.06484377384185791, 0.024316415190696716, 0.040527358651161194, 0.04863283038139343, 0.016210943460464478, 0.18766002357006073, 0.18766002357006073, 0.18766002357006073, 0.37532004714012146, 0.9301764965057373, 0.07155203819274902, 0.025864383205771446, 0.5431520342826843, 0.41383013129234314, 0.29169392585754395, 0.1944626271724701, 0.09723131358623505, 0.3889252543449402, 0.26198261976242065, 0.26198261976242065, 0.13099130988121033, 0.26198261976242065, 0.9145921468734741, 0.07701263576745987, 0.231037899851799, 0.15402527153491974, 0.07701263576745987, 0.38506317138671875, 0.1213538646697998, 0.3640615940093994, 0.1213538646697998, 0.2427077293395996, 0.00679470831528306, 0.9784379601478577, 0.00679470831528306, 0.00679470831528306, 0.9180648922920227, 0.004044338595122099, 0.052576400339603424, 0.008088677190244198, 0.004044338595122099, 0.004044338595122099, 0.2893185317516327, 0.2670632600784302, 0.08902108669281006, 0.04451054334640503, 0.022255271673202515, 0.06676581501960754, 0.022255271673202515, 0.20029744505882263, 0.33820033073425293, 0.4734804630279541, 0.13528013229370117, 0.01800539158284664, 0.07202156633138657, 0.7922372221946716, 0.03601078316569328, 0.07202156633138657, 0.9527986645698547, 0.8724914789199829, 0.09348123520612717, 0.12947064638137817, 0.12947064638137817, 0.6473532319068909, 0.13976916670799255, 0.6988458633422852, 0.41564875841140747, 0.41564875841140747, 0.1385495811700821, 0.022359615191817284, 0.22359615564346313, 0.08943846076726913, 0.11179807782173157, 0.17887692153453827, 0.1341576874256134, 0.15651731193065643, 0.0670788437128067, 0.022359615191817284, 0.8710702657699585, 0.25422927737236023, 0.16851769387722015, 0.11186087876558304, 0.09297527372837067, 0.11476635932922363, 0.07408967614173889, 0.04939311370253563, 0.02760203555226326, 0.04648763686418533, 0.037771206349134445, 0.011621909216046333, 0.010169170796871185, 0.0014527386520057917, 0.8813125491142273, 0.020029831677675247, 0.10014915466308594, 0.8895440697669983, 0.0773516595363617, 0.11290114372968674, 0.11290114372968674, 0.483862042427063, 0.14515860378742218, 0.03225746750831604, 0.0806436762213707, 0.01612873375415802, 0.36013785004615784, 0.18006892502307892, 0.36013785004615784, 0.11522895842790604, 0.8066026568412781, 0.03933033347129822, 0.6686156988143921, 0.19665168225765228, 0.03933033347129822, 0.35376298427581787, 0.23584198951721191, 0.2948024868965149, 0.02385791391134262, 0.00795263797044754, 0.46125301718711853, 0.48511090874671936, 0.00795263797044754, 0.3612642288208008, 0.07930190861225128, 0.09398744255304337, 0.10573587566614151, 0.04699372127652168, 0.11748430877923965, 0.04993082955479622, 0.03818240016698837, 0.014685538597404957, 0.04405661299824715, 0.014685538597404957, 0.03524529188871384, 0.3185281753540039, 0.6370563507080078, 0.1445288360118866, 0.7226442098617554, 0.09635256230831146, 0.38656729459762573, 0.06442788243293762, 0.3221394121646881, 0.06442788243293762, 0.06442788243293762, 0.017896346747875214, 0.18791164457798004, 0.008948173373937607, 0.46530500054359436, 0.2773933708667755, 0.017896346747875214, 0.008948173373937607, 0.08177630603313446, 0.3504698872566223, 0.07009397447109222, 0.07009397447109222, 0.03504698723554611, 0.10514096915721893, 0.10514096915721893, 0.17523494362831116, 0.7295516729354858, 0.1459103375673294, 0.3401816785335541, 0.22678779065608978, 0.3401816785335541, 0.7825624942779541, 0.08695138990879059, 0.08695138990879059, 0.08845634758472443, 0.3538253903388977, 0.4422817528247833, 0.08788478374481201, 0.7909630537033081, 0.043942391872406006, 0.10032147169113159, 0.8025717735290527, 0.5987690091133118, 0.19958966970443726, 0.18424411118030548, 0.36848822236061096, 0.18424411118030548, 0.18424411118030548, 0.9683131575584412, 0.004567514639347792, 0.022837573662400246, 0.9029023051261902, 0.06449302285909653, 0.03893311321735382, 0.1687101572751999, 0.2076432704925537, 0.025955408811569214, 0.025955408811569214, 0.1816878616809845, 0.31146490573883057, 0.012977704405784607, 0.012977704405784607, 0.3830587863922119, 0.05944015458226204, 0.06604461371898651, 0.14529815316200256, 0.07264907658100128, 0.039626769721508026, 0.07925353944301605, 0.026417845860123634, 0.019813384860754013, 0.019813384860754013, 0.06604461371898651, 0.026417845860123634, 0.006604461465030909, 0.3843594789505005, 0.19217973947525024, 0.19217973947525024, 0.19217973947525024, 0.9241828322410583, 0.02768656611442566, 0.19380596280097961, 0.11074626445770264, 0.22149252891540527, 0.16611939668655396, 0.02768656611442566, 0.02768656611442566, 0.22149252891540527, 0.7386699914932251, 0.2216009944677353, 0.10587255656719208, 0.7411078810691833, 0.37088361382484436, 0.18544180691242218, 0.046360451728105545, 0.13908135890960693, 0.09272090345621109, 0.046360451728105545, 0.09272090345621109, 0.8006693124771118, 0.18739068508148193, 0.005677002016454935, 0.6301472187042236, 0.34629714488983154, 0.005677002016454935, 0.013179220259189606, 0.08237012475728989, 0.5996545553207397, 0.016474025323987007, 0.04283246770501137, 0.029653245583176613, 0.1087285727262497, 0.08895973861217499, 0.009884415194392204, 0.17311835289001465, 0.1853097826242447, 0.08168260008096695, 0.14751634001731873, 0.10606546700000763, 0.053642306476831436, 0.06461459398269653, 0.056080590933561325, 0.06827202439308167, 0.03657430037856102, 0.008534003049135208, 0.01828715018928051, 0.1356193572282791, 0.1356193572282791, 0.40685808658599854, 0.1356193572282791, 0.3140614628791809, 0.19985729455947876, 0.11420417577028275, 0.07137760519981384, 0.07137760519981384, 0.042826563119888306, 0.042826563119888306, 0.12847968935966492, 0.014275521971285343, 0.16753727197647095, 0.16753727197647095, 0.5863804817199707, 0.3642883002758026, 0.1821441501379013, 0.3642883002758026, 0.8808954954147339, 0.8952462077140808, 0.14371544122695923, 0.28743088245391846, 0.28743088245391846, 0.14371544122695923, 0.9339441657066345, 0.31183943152427673, 0.4677591621875763, 0.13915805518627167, 0.13915805518627167, 0.13915805518627167, 0.13915805518627167, 0.4174741506576538, 0.16076114773750305, 0.16076114773750305, 0.16076114773750305, 0.48228344321250916, 0.2448401302099228, 0.367260217666626, 0.2448401302099228, 0.1224200651049614, 0.023315735161304474, 0.6994720101356506, 0.023315735161304474, 0.04663147032260895, 0.13989441096782684, 0.011657867580652237, 0.04663147032260895, 0.13080361485481262, 0.054501503705978394, 0.1199033111333847, 0.1199033111333847, 0.27250751852989197, 0.054501503705978394, 0.2398066222667694, 0.010900300927460194, 0.9270403981208801, 0.4284170866012573, 0.12240488082170486, 0.3672146201133728, 0.10815482586622238, 0.2027902901172638, 0.22171738743782043, 0.05407741293311119, 0.0703006386756897, 0.1649361103773117, 0.02433483488857746, 0.03515031933784485, 0.0703006386756897, 0.02433483488857746, 0.013519353233277798, 0.005407741293311119, 0.0027038706466555595, 0.3764786720275879, 0.031373221427202225, 0.21961255371570587, 0.1254928857088089, 0.21961255371570587, 0.0210320632904768, 0.6835420727729797, 0.05258015915751457, 0.0105160316452384, 0.0420641265809536, 0.17877253890037537, 0.7539877891540527, 0.15079756081104279, 0.004815956577658653, 0.0024079782888293266, 0.0024079782888293266, 0.7633291482925415, 0.22394198179244995, 0.1679140031337738, 0.13433119654655457, 0.12313693016767502, 0.212691068649292, 0.12313693016767502, 0.04477706551551819, 0.022388532757759094, 0.06716559827327728, 0.011194266378879547, 0.055971331894397736, 0.011194266378879547, 0.011194266378879547, 0.011194266378879547, 0.2954164147377014, 0.02645520307123661, 0.22927841544151306, 0.18959560990333557, 0.004409200511872768, 0.13668520748615265, 0.008818401023745537, 0.004409200511872768, 0.008818401023745537, 0.08377480506896973, 0.013227601535618305, 0.05477873608469963, 0.9155874252319336, 0.003912766929715872, 0.003912766929715872, 0.019563835114240646, 0.05417340621352196, 0.8667744994163513, 0.05417340621352196, 0.15712521970272064, 0.22655263543128967, 0.15347114205360413, 0.06577334553003311, 0.010962224565446377, 0.20097412168979645, 0.014616299420595169, 0.1278926134109497, 0.032886672765016556, 0.0073081497102975845, 0.0036540748551487923, 0.0036540748551487923, 0.028062013909220695, 0.13095606863498688, 0.14966407418251038, 0.037416018545627594, 0.028062013909220695, 0.39286819100379944, 0.14966407418251038, 0.018708009272813797, 0.05612402781844139, 0.191608265042305, 0.1707400381565094, 0.12236369401216507, 0.12236369401216507, 0.10434113442897797, 0.0777815729379654, 0.07209023833274841, 0.05122201144695282, 0.0388907864689827, 0.024662449955940247, 0.009485557675361633, 0.012331224977970123, 0.0009485557675361633, 0.264465868473053, 0.00911951344460249, 0.03647805377840996, 0.22798782587051392, 0.09119512885808945, 0.027358539402484894, 0.10031464695930481, 0.045597564429044724, 0.00911951344460249, 0.17327074706554413, 0.01823902688920498, 0.0528186671435833, 0.37313833832740784, 0.16867896914482117, 0.028965076431632042, 0.013630623929202557, 0.19253256916999817, 0.013630623929202557, 0.0528186671435833, 0.08178374171257019, 0.018742108717560768, 0.0017038279911503196, 0.5037543177604675, 0.14392979443073273, 0.07196489721536636, 0.14392979443073273, 0.14392979443073273, 0.9566888809204102, 0.34046870470046997, 0.11348956823348999, 0.11348956823348999, 0.11348956823348999, 0.11348956823348999, 0.11348956823348999, 0.11348956823348999, 0.034998901188373566, 0.6999780535697937, 0.24499231576919556, 0.872250497341156, 0.07929550111293793, 0.8960167169570923, 0.05270686745643616, 0.10419346392154694, 0.10419346392154694, 0.10419346392154694, 0.20838692784309387, 0.3125803768634796, 0.20838692784309387, 0.03771600127220154, 0.7920359969139099, 0.15086400508880615, 0.04101036489009857, 0.15037134289741516, 0.013670122250914574, 0.5741451382637024, 0.21872195601463318, 0.8283376097679138, 0.42902830243110657, 0.28601887822151184, 0.6754316091537476, 0.1688579022884369, 0.5523418188095093, 0.18411393463611603, 0.18411393463611603, 0.35779431462287903, 0.17889715731143951, 0.35779431462287903, 0.34721651673316956, 0.13888660073280334, 0.13888660073280334, 0.13888660073280334, 0.06944330036640167, 0.13888660073280334, 0.10383638739585876, 0.3115091621875763, 0.3115091621875763, 0.10383638739585876, 0.27391624450683594, 0.5478324890136719, 0.13695812225341797, 0.20114976167678833, 0.20114976167678833, 0.20114976167678833, 0.20114976167678833, 0.9661431312561035, 0.32011812925338745, 0.07258492708206177, 0.061418015509843826, 0.1191137284040451, 0.19542095065116882, 0.024194976314902306, 0.11166911572217941, 0.029778432101011276, 0.022333823144435883, 0.022333823144435883, 0.014889216050505638, 0.0018611520063132048, 0.0018611520063132048, 0.8657622337341309, 0.5295407772064209, 0.13238519430160522, 0.13238519430160522, 0.8534725308418274, 0.012489842250943184, 0.008326561190187931, 0.10408201813697815, 0.0041632805950939655, 0.0041632805950939655, 0.008326561190187931, 0.08631935715675354, 0.08631935715675354, 0.6905548572540283, 0.08631935715675354, 0.1218603178858757, 0.3655809462070465, 0.4874412715435028, 0.3219754993915558, 0.4829632639884949, 0.1609877496957779, 0.41263502836227417, 0.043897345662117004, 0.043897345662117004, 0.2019277811050415, 0.10535362362861633, 0.11413309723138809, 0.017558937892317772, 0.008779468946158886, 0.008779468946158886, 0.017558937892317772, 0.008779468946158886, 0.017558937892317772, 0.21980395913124084, 0.21980395913124084, 0.10990197956562042, 0.32970595359802246, 0.10990197956562042, 0.003112808568403125, 0.00622561713680625, 0.8404582738876343, 0.08715863525867462, 0.003112808568403125, 0.003112808568403125, 0.003112808568403125, 0.021789658814668655, 0.00933842547237873, 0.021789658814668655, 0.5298476815223694, 0.3532317876815796, 0.5908181071281433, 0.042201295495033264, 0.1266038864850998, 0.1266038864850998, 0.042201295495033264, 0.042201295495033264, 0.046934179961681366, 0.23467089235782623, 0.32853925228118896, 0.046934179961681366, 0.23467089235782623, 0.046934179961681366, 0.046934179961681366, 0.011469299905002117, 0.9777578711509705, 0.0014336624881252646, 0.0014336624881252646, 0.004300987347960472, 0.015455835498869419, 0.0030911669600754976, 0.0030911669600754976, 0.7851564288139343, 0.0015455834800377488, 0.18083328008651733, 0.0077279177494347095, 0.0015455834800377488, 0.0914829894900322, 0.7318639159202576, 0.9228179454803467, 0.002674834569916129, 0.002674834569916129, 0.0695457011461258, 0.002674834569916129, 0.5249465703964233, 0.4295017421245575, 0.762108564376831, 0.16527655720710754, 0.03672812134027481, 0.009182030335068703, 0.009182030335068703, 0.12929320335388184, 0.775759220123291, 0.9457963705062866, 0.007138086017221212, 0.001189681002870202, 0.001189681002870202, 0.001189681002870202, 0.04163883626461029, 0.001189681002870202, 0.08215554803609848, 0.3286221921443939, 0.4929333031177521, 0.0976361632347107, 0.0976361632347107, 0.1952723264694214, 0.1952723264694214, 0.2929084897041321, 0.2727338671684265, 0.5795594453811646, 0.008522933349013329, 0.11079813539981842, 0.008522933349013329, 0.008522933349013329, 0.6964343786239624, 0.02149488776922226, 0.11177341639995575, 0.10317546129226685, 0.004298977553844452, 0.004298977553844452, 0.004298977553844452, 0.030092842876911163, 0.017195910215377808, 0.8674460649490356, 0.8468866348266602, 0.8470200300216675, 0.9728506207466125, 0.8411734700202942, 0.918262243270874, 0.03419141098856926, 0.9231681227684021, 0.03419141098856926, 0.823586106300354, 0.036201588809490204, 0.027151189744472504, 0.027151189744472504, 0.06335277855396271, 0.018100794404745102, 0.7766080498695374, 0.02284141257405281, 0.07994494587182999, 0.02284141257405281, 0.06852424144744873, 0.02284141257405281, 0.4128038287162781, 0.13760127127170563, 0.27520254254341125, 0.07473191618919373, 0.07473191618919373, 0.6725872755050659, 0.14946383237838745, 0.029825793579220772, 0.11930317431688309, 0.1342160701751709, 0.014912896789610386, 0.5666900873184204, 0.029825793579220772, 0.029825793579220772, 0.04473869130015373, 0.11699098348617554, 0.11699098348617554, 0.5849549174308777, 0.11699098348617554, 0.7413244247436523, 0.14826488494873047, 0.17641380429267883, 0.20161576569080353, 0.02520197071135044, 0.02520197071135044, 0.2520197033882141, 0.3024236559867859, 0.02520197071135044, 0.6788097023963928, 0.1131349503993988, 0.1131349503993988, 0.6511783599853516, 0.1627945899963379, 0.1627945899963379, 0.06269090622663498, 0.8149817585945129, 0.06269090622663498, 0.15569287538528442, 0.31138575077056885, 0.46707862615585327, 0.15569287538528442, 0.4040018916130066, 0.2020009458065033, 0.2020009458065033, 0.1843230128288269, 0.7372920513153076, 0.3740347921848297, 0.10686708241701126, 0.05343354120850563, 0.10686708241701126, 0.05343354120850563, 0.1603006273508072, 0.1603006273508072, 0.3928622007369995, 0.09821555018424988, 0.09821555018424988, 0.09821555018424988, 0.29464665055274963, 0.3710425794124603, 0.06607607752084732, 0.02287248708307743, 0.14994186162948608, 0.13723492622375488, 0.00762416236102581, 0.06099329888820648, 0.04066219925880432, 0.02033109962940216, 0.01778971217572689, 0.06099329888820648, 0.04320358857512474, 0.00254138745367527, 0.33565986156463623, 0.07528819143772125, 0.08156220614910126, 0.1286173313856125, 0.11293228715658188, 0.02980157546699047, 0.08469921350479126, 0.04705512151122093, 0.014116535894572735, 0.025096064433455467, 0.050192128866910934, 0.012548032216727734, 0.0015685040270909667, 0.010066905990242958, 0.18120430409908295, 0.3422747850418091, 0.11073596775531769, 0.09060215204954147, 0.241605743765831, 0.010066905990242958, 0.2765427529811859, 0.060556810349226, 0.0363340862095356, 0.15341058373451233, 0.1796518713235855, 0.0121113620698452, 0.10294657200574875, 0.04238976538181305, 0.0121113620698452, 0.040371205657720566, 0.05450112745165825, 0.026241283863782883, 0.7639511823654175, 0.32010841369628906, 0.16005420684814453, 0.4801626205444336, 0.005450756289064884, 0.591407060623169, 0.002725378144532442, 0.04088067263364792, 0.19077646732330322, 0.08721210062503815, 0.002725378144532442, 0.043606050312519073, 0.010901512578129768, 0.021803025156259537, 0.002725378144532442, 0.03381640836596489, 0.24451863765716553, 0.20029717683792114, 0.07803786545991898, 0.023411359637975693, 0.2861388325691223, 0.010405048727989197, 0.09624669700860977, 0.005202524363994598, 0.002601262181997299, 0.005202524363994598, 0.010405048727989197, 0.020131906494498253, 0.9663315415382385, 0.3775910437107086, 0.3775910437107086, 0.08236064016819, 0.16472128033638, 0.4118032157421112, 0.32944256067276, 0.13641783595085144, 0.4579741656780243, 0.02338591404259205, 0.0623624362051487, 0.0194882620126009, 0.20462675392627716, 0.015590609051287174, 0.03118121810257435, 0.029232392087578773, 0.00974413100630045, 0.0019488261314108968, 0.007795304525643587, 0.9048339128494263, 0.36702778935432434, 0.18351389467716217, 0.36702778935432434, 0.13618235290050507, 0.13618235290050507, 0.13618235290050507, 0.13618235290050507, 0.4085470736026764, 0.24907861649990082, 0.07005336135625839, 0.17902524769306183, 0.14010672271251678, 0.015567413531243801, 0.07783706486225128, 0.07005336135625839, 0.0077837067656219006, 0.16345784068107605, 0.023351119831204414, 0.19009114801883698, 0.1616523265838623, 0.18709759414196014, 0.08980684727430344, 0.085316501557827, 0.0748390406370163, 0.085316501557827, 0.043406642973423004, 0.014967807568609715, 0.025445273146033287, 0.014967807568609715, 0.025445273146033287, 0.022527247667312622, 0.9686716794967651, 0.18480455875396729, 0.02310056984424591, 0.09240227937698364, 0.16170398890972137, 0.5082125663757324, 0.27165475487709045, 0.13582737743854523, 0.5433095097541809, 0.13582737743854523, 0.9232866764068604, 0.5922853946685791, 0.14807134866714478, 0.14807134866714478, 0.11777322739362717, 0.8244125843048096, 0.19275985658168793, 0.19275985658168793, 0.5782795548439026, 0.17054316401481628, 0.34108632802963257, 0.34108632802963257, 0.17054316401481628, 0.12883873283863068, 0.38651618361473083, 0.12883873283863068, 0.25767746567726135, 0.7066559791564941, 0.17666399478912354, 0.519136369228363, 0.45424431562423706, 0.18017226457595825, 0.23272250592708588, 0.0750717744231224, 0.14263637363910675, 0.060057420283555984, 0.060057420283555984, 0.052550241351127625, 0.0375358872115612, 0.02252153307199478, 0.11260766535997391, 0.015014355070888996, 0.015014355070888996, 0.2097417414188385, 0.13018453121185303, 0.10125463455915451, 0.08678968995809555, 0.1374170035123825, 0.06509226560592651, 0.07955721765756607, 0.028929896652698517, 0.014464948326349258, 0.043394844979047775, 0.07955721765756607, 0.014464948326349258, 0.7164517641067505, 0.10235025733709335, 0.15352538228034973, 0.9160434603691101, 0.019490286707878113, 0.019490286707878113, 0.019490286707878113, 0.36972782015800476, 0.5073009729385376, 0.11177817732095718, 0.051352836191654205, 0.8772776126861572, 0.017117612063884735, 0.008558806031942368, 0.004279403015971184, 0.004279403015971184, 0.029955821111798286, 0.004279403015971184, 0.14072509109973907, 0.07036254554986954, 0.07036254554986954, 0.14072509109973907, 0.42217525839805603, 0.07036254554986954, 0.3478376269340515, 0.11594587564468384, 0.11594587564468384, 0.3478376269340515, 0.10120251774787903, 0.37950944900512695, 0.13570336997509003, 0.05520137399435043, 0.016100401058793068, 0.15180377662181854, 0.002300057327374816, 0.10350257903337479, 0.039100974798202515, 0.011500285938382149, 0.004600114654749632, 0.8926786780357361, 0.837594747543335, 0.10469934344291687, 0.14899688959121704, 0.07449844479560852, 0.2979937791824341, 0.11174765974283218, 0.2979937791824341, 0.03724922239780426, 0.03724922239780426, 0.17092403769493103, 0.6836961507797241, 0.12208859622478485, 0.5559102892875671, 0.1853034347295761, 0.8581030368804932, 0.12406308948993683, 0.8599956631660461, 0.7468467354774475, 0.14936934411525726, 0.3764079213142395, 0.5410863757133484, 0.02352549508213997, 0.02352549508213997, 0.15908721089363098, 0.15908721089363098, 0.6363488435745239, 0.17818880081176758, 0.17106124758720398, 0.021382655948400497, 0.07127551734447479, 0.19244389235973358, 0.14967858791351318, 0.021382655948400497, 0.09978572279214859, 0.035637758672237396, 0.028510207310318947, 0.028510207310318947, 0.9384247660636902, 0.18501120805740356, 0.4709376394748688, 0.2018304169178009, 0.016819201409816742, 0.08409600704908371, 0.033638402819633484, 0.17165787518024445, 0.19618043303489685, 0.24522554874420166, 0.12261277437210083, 0.09809021651744843, 0.14713533222675323, 0.7090390920639038, 0.17725977301597595, 0.7422386407852173, 0.23250848054885864, 0.008942633867263794, 0.008942633867263794, 0.3230334520339966, 0.3230334520339966, 0.1615167260169983, 0.1615167260169983, 0.2617994546890259, 0.026623673737049103, 0.048810068517923355, 0.22630122303962708, 0.048810068517923355, 0.008874557912349701, 0.16417932510375977, 0.0044372789561748505, 0.008874557912349701, 0.11536925286054611, 0.013311836868524551, 0.07099646329879761, 0.792387068271637, 0.193694606423378, 0.8988410234451294, 0.0642029270529747, 0.09277869015932083, 0.30219346284866333, 0.12193770706653595, 0.11398524791002274, 0.06627049297094345, 0.07157213240861893, 0.05301639437675476, 0.06627049297094345, 0.0768737718462944, 0.021206557750701904, 0.005301639437675476, 0.010603278875350952, 0.18668702244758606, 0.2570650577545166, 0.11556816101074219, 0.10964158922433853, 0.061488185077905655, 0.08371283113956451, 0.04889421910047531, 0.061488185077905655, 0.035559434443712234, 0.017038894817233086, 0.011853144504129887, 0.010371501557528973, 0.1582120954990387, 0.10899055749177933, 0.05976901575922966, 0.21798111498355865, 0.1441487967967987, 0.04570571705698967, 0.07734813541173935, 0.04922154173254967, 0.04922154173254967, 0.04922154173254967, 0.021094946190714836, 0.021094946190714836, 0.003515824442729354, 0.7131674289703369, 0.20376212894916534, 0.9620102047920227, 0.00870597455650568, 0.00870597455650568, 0.013058962300419807, 0.6208691000938416, 0.3104345500469208, 0.13600242137908936, 0.31571993231773376, 0.16878873109817505, 0.05100091174244881, 0.0777156725525856, 0.08864443749189377, 0.03521491587162018, 0.06192967668175697, 0.03764352947473526, 0.0097144590690732, 0.012143073603510857, 0.0048572295345366, 0.00121430738363415, 0.5877952575683594, 0.14694881439208984, 0.07347440719604492, 0.14694881439208984, 0.9126474857330322, 0.1570875346660614, 0.6283501386642456, 0.0904335230588913, 0.2713005840778351, 0.6330346465110779, 0.2778940498828888, 0.08016174286603928, 0.07481762766838074, 0.12291467934846878, 0.19238819181919098, 0.016032349318265915, 0.08550586551427841, 0.005344116594642401, 0.016032349318265915, 0.12825879454612732, 0.005344116594642401, 0.11807505041360855, 0.8265253305435181, 0.13946565985679626, 0.046488553285598755, 0.005811069160699844, 0.11041031032800674, 0.3893416225910187, 0.034866414964199066, 0.13365459442138672, 0.034866414964199066, 0.0522996224462986, 0.023244276642799377, 0.034866414964199066, 0.42489510774612427, 0.5311188697814941, 0.12786386907100677, 0.767183244228363, 0.3676733672618866, 0.07483617216348648, 0.06507492810487747, 0.13177673518657684, 0.13177673518657684, 0.014641859568655491, 0.08459740877151489, 0.014641859568655491, 0.021149352192878723, 0.03904495760798454, 0.024403098970651627, 0.02602997235953808, 0.004880619700998068, 0.10366567969322205, 0.2073313593864441, 0.6219940781593323, 0.09736336022615433, 0.09736336022615433, 0.19472672045230865, 0.3894534409046173, 0.09736336022615433, 0.09736336022615433, 0.02438824251294136, 0.04877648502588272, 0.8048120141029358, 0.04877648502588272, 0.04877648502588272, 0.1033661812543869, 0.1033661812543869, 0.2067323625087738, 0.3100985288619995, 0.2067323625087738, 0.21660475432872772, 0.05054111033678055, 0.05776126682758331, 0.2815861701965332, 0.09386206418275833, 0.05776126682758331, 0.09386206418275833, 0.028880633413791656, 0.043320950120687485, 0.028880633413791656, 0.028880633413791656, 0.021660475060343742, 0.05853438004851341, 0.8780156970024109, 0.003927202895283699, 0.9189654588699341, 0.011781607754528522, 0.0019636014476418495, 0.011781607754528522, 0.0019636014476418495, 0.04712643101811409, 0.0019636014476418495, 0.913907527923584, 0.0064359684474766254, 0.07079565525054932, 0.44455739855766296, 0.5001270771026611, 0.04160885512828827, 0.12482656538486481, 0.6657416820526123, 0.04160885512828827, 0.08321771025657654, 0.30094170570373535, 0.10276059061288834, 0.07829377800226212, 0.1198873519897461, 0.1198873519897461, 0.046486932784318924, 0.07829377800226212, 0.03180684894323349, 0.014680083841085434, 0.036700211465358734, 0.046486932784318924, 0.024466807022690773, 0.4391268491744995, 0.13173805177211761, 0.04391268640756607, 0.35130149126052856, 0.11153531819581985, 0.2057206928730011, 0.1511923223733902, 0.11649244278669357, 0.05700694024562836, 0.10162106156349182, 0.06444262713193893, 0.06444262713193893, 0.07435687631368637, 0.037178438156843185, 0.01239281240850687, 0.002478562528267503, 0.18956413865089417, 0.18795767426490784, 0.11566625535488129, 0.07871731370687485, 0.14940224587917328, 0.07229141145944595, 0.06425902992486954, 0.05943960323929787, 0.02409713715314865, 0.040161896497011185, 0.012851806357502937, 0.006425903178751469, 0.0016064757946878672, 0.2513645589351654, 0.09292871505022049, 0.21327902376651764, 0.15081873536109924, 0.048749491572380066, 0.03656211867928505, 0.10663951188325882, 0.018281059339642525, 0.007617108058184385, 0.03960896283388138, 0.021327901631593704, 0.010663950815796852, 0.001523421611636877, 0.6017935276031494, 0.3740878403186798, 0.876823902130127, 0.017894364893436432, 0.07157745957374573, 0.017894364893436432, 0.017894364893436432, 0.14962303638458252, 0.7481151223182678, 0.8083658218383789, 0.16642825305461884, 0.9632059335708618, 0.00816276203840971, 0.024488285183906555, 0.07001881301403046, 0.1400376260280609, 0.04667920991778374, 0.21005643904209137, 0.3967732787132263, 0.07001881301403046, 0.04667920991778374, 0.02333960495889187, 0.09231449663639069, 0.2828359007835388, 0.17873656749725342, 0.08249380439519882, 0.03535448759794235, 0.1708800196647644, 0.0628524199128151, 0.03928276523947716, 0.0333903506398201, 0.013748967088758945, 0.003928276244550943, 0.005892414599657059, 0.19898754358291626, 0.19898754358291626, 0.09949377179145813, 0.09949377179145813, 0.2984813153743744, 0.01635361835360527, 0.1635361909866333, 0.09812171757221222, 0.08176809549331665, 0.5233157873153687, 0.01635361835360527, 0.03270723670721054, 0.01635361835360527, 0.01635361835360527, 0.03270723670721054, 0.17371442914009094, 0.13393250107765198, 0.18167081475257874, 0.1140415370464325, 0.09017238020896912, 0.06762928515672684, 0.11669366806745529, 0.07425960153341293, 0.017238836735486984, 0.01060851477086544, 0.007956386543810368, 0.01060851477086544, 0.8409030437469482, 0.12406766414642334, 0.013785296119749546, 0.013785296119749546, 0.6664503216743469, 0.27442070841789246, 0.054924458265304565, 0.8513290882110596, 0.08238668739795685, 0.7996695041656494, 0.5715615749359131, 0.1905205249786377, 0.1905205249786377, 0.24946491420269012, 0.12473245710134506, 0.12473245710134506, 0.49892982840538025, 0.4729384183883667, 0.11823460459709167, 0.23646920919418335, 0.31561434268951416, 0.15780717134475708, 0.47342151403427124, 0.20326867699623108, 0.3049030005931854, 0.3049030005931854, 0.10163433849811554, 0.36555078625679016, 0.5483261346817017, 0.04779258370399475, 0.6690961718559265, 0.04779258370399475, 0.14337775111198425, 0.21315273642539978, 0.10657636821269989, 0.10657636821269989, 0.15986454486846924, 0.10657636821269989, 0.2664409279823303, 0.053288184106349945, 0.17979241907596588, 0.11986161023378372, 0.23972322046756744, 0.05993080511689186, 0.05993080511689186, 0.17979241907596588, 0.05993080511689186, 0.7042456269264221, 0.17606140673160553, 0.01140003651380539, 0.03420010954141617, 0.6840022206306458, 0.09120029211044312, 0.01140003651380539, 0.02280007302761078, 0.14820048213005066, 0.11999459564685822, 0.23998919129371643, 0.47997838258743286, 0.15466566383838654, 0.30933132767677307, 0.15466566383838654, 0.30933132767677307, 0.3031025826931, 0.22732694447040558, 0.15155129134655, 0.22732694447040558, 0.43532076478004456, 0.14510692656040192, 0.29021385312080383, 0.1600492298603058, 0.1600492298603058, 0.48014768958091736, 0.1600492298603058, 0.1772863119840622, 0.1772863119840622, 0.22160787880420685, 0.4432157576084137, 0.17045578360557556, 0.25568369030952454, 0.5113673806190491, 0.3587145209312439, 0.17935726046562195, 0.3587145209312439, 0.9679633378982544, 0.3625294268131256, 0.3625294268131256, 0.1812647134065628, 0.006522823590785265, 0.2750457227230072, 0.002174274530261755, 0.042398352175951004, 0.021742744371294975, 0.2652615010738373, 0.11414941400289536, 0.056531138718128204, 0.059792548418045044, 0.13480502367019653, 0.007609960623085499, 0.014132784679532051, 0.690628170967102, 0.049330584704875946, 0.19732233881950378, 0.7820778489112854, 0.055862702429294586, 0.027931351214647293, 0.027931351214647293, 0.06982837617397308, 0.013965675607323647, 0.11096980422735214, 0.8877584338188171, 0.008535578846931458, 0.968788206577301, 0.004267789423465729, 0.012803368270397186, 0.308224081993103, 0.1541120409965515, 0.308224081993103, 0.27974602580070496, 0.13987301290035248, 0.41961905360221863, 0.21985501050949097, 0.16368767619132996, 0.2022024244070053, 0.15405899286270142, 0.027281278744339943, 0.11233467608690262, 0.03530518338084221, 0.024071717634797096, 0.01604781113564968, 0.017652591690421104, 0.027281278744339943, 0.36898183822631836, 0.4919757843017578, 0.7582008242607117, 0.16848906874656677, 0.3539043962955475, 0.5662470459938049, 0.14122453331947327, 0.14122453331947327, 0.4236735999584198, 0.14122453331947327, 0.14122453331947327, 0.06100605055689812, 0.09150907397270203, 0.12201210111379623, 0.12201210111379623, 0.21352116763591766, 0.12201210111379623, 0.03050302527844906, 0.21352116763591766, 0.03050302527844906, 0.8641571998596191, 0.053178902715444565, 0.06647363305091858, 0.3142857849597931, 0.1607973873615265, 0.10598009079694748, 0.12425252795219421, 0.08222593367099762, 0.04385383054614067, 0.051162805408239365, 0.045681074261665344, 0.02375415898859501, 0.025581402704119682, 0.010963457636535168, 0.00730897206813097, 0.0018272430170327425, 0.9548178911209106, 0.007912855595350266, 0.03165142238140106, 0.17982901632785797, 0.22478628158569336, 0.1369791328907013, 0.1320619434118271, 0.030908113345503807, 0.09623662382364273, 0.03652776777744293, 0.05549411103129387, 0.06041131168603897, 0.021073713898658752, 0.014049142599105835, 0.011941771022975445, 0.10537988692522049, 0.30560168623924255, 0.2423737496137619, 0.03161396458745003, 0.08430390805006027, 0.10537988692522049, 0.07376591861248016, 0.03161396458745003, 0.021075977012515068, 0.715265691280365, 0.028234170749783516, 0.03764555975794792, 0.07529111951589584, 0.00941138993948698, 0.03764555975794792, 0.028234170749783516, 0.05646834149956703, 0.00941138993948698, 0.7563689947128296, 0.058182232081890106, 0.11636446416378021, 0.10586239397525787, 0.18147839605808258, 0.06427359580993652, 0.030246399343013763, 0.21172478795051575, 0.1663551926612854, 0.037807997316122055, 0.12854719161987305, 0.037807997316122055, 0.02646559849381447, 0.0037807999178767204, 0.13637125492095947, 0.15260593593120575, 0.17371100187301636, 0.03246934711933136, 0.10877231508493423, 0.12825392186641693, 0.009740804322063923, 0.19806301593780518, 0.021105075255036354, 0.014611206017434597, 0.019481608644127846, 0.0048704021610319614, 0.03843430057168007, 0.07686860114336014, 0.019217150285840034, 0.15373720228672028, 0.7302517294883728, 0.33579200506210327, 0.20147520303726196, 0.06715840101242065, 0.06715840101242065, 0.20147520303726196, 0.9080755710601807, 0.09080755710601807, 0.1380263715982437, 0.6901318430900574, 0.35890573263168335, 0.35890573263168335, 0.11963524669408798, 0.11963524669408798, 0.3003998398780823, 0.15770991146564484, 0.060079965740442276, 0.07134495675563812, 0.1539549082517624, 0.05632496625185013, 0.06758996099233627, 0.018774989992380142, 0.01126499380916357, 0.0075099957175552845, 0.06758996099233627, 0.02252998761832714, 0.18284308910369873, 0.6948037147521973, 0.07313723862171173, 0.10507981479167938, 0.5253990888595581, 0.21015962958335876, 0.10507981479167938, 0.1385626494884491, 0.14640583097934723, 0.14640583097934723, 0.17254972457885742, 0.049673404544591904, 0.12287631630897522, 0.08366046845912933, 0.03660145774483681, 0.020915117114782333, 0.05228779464960098, 0.010457558557391167, 0.018300728872418404, 0.7502286434173584, 0.10717551410198212, 0.1806967556476593, 0.1285368651151657, 0.1806967556476593, 0.15089111030101776, 0.09500551223754883, 0.07265127450227737, 0.08941695094108582, 0.02980564907193184, 0.020491383969783783, 0.03166850283741951, 0.0055885594338178635, 0.011177118867635727, 0.00186285306699574, 0.8821319937705994, 0.025203771889209747, 0.025203771889209747, 0.025203771889209747, 0.025203771889209747, 0.025203771889209747, 0.030671196058392525, 0.25244754552841187, 0.18166786432266235, 0.2194170206785202, 0.011796614155173302, 0.18874582648277283, 0.009437290951609612, 0.030671196058392525, 0.04718645662069321, 0.009437290951609612, 0.016515260562300682, 0.11768105626106262, 0.4707242250442505, 0.35304316878318787, 0.5265048146247864, 0.3159028887748718, 0.26132458448410034, 0.14097774028778076, 0.09111975878477097, 0.2028704136610031, 0.04126177728176117, 0.05157722160220146, 0.07564659416675568, 0.04126177728176117, 0.013753926381468773, 0.04126177728176117, 0.0223501306027174, 0.013753926381468773, 0.445797324180603, 0.03876498341560364, 0.032304152846336365, 0.10337329655885696, 0.15505993366241455, 0.029073739424347878, 0.09368205070495605, 0.032304152846336365, 0.00646083103492856, 0.01292166206985712, 0.029073739424347878, 0.01938249170780182, 0.3055592179298401, 0.1486300528049469, 0.036968894302845, 0.1456121802330017, 0.12448709458112717, 0.027915287762880325, 0.07242885231971741, 0.04375910013914108, 0.02263401634991169, 0.030933156609535217, 0.02640635333955288, 0.015089345164597034, 0.4019671082496643, 0.030920546501874924, 0.05668766796588898, 0.14429588615894318, 0.07214794307947159, 0.030920546501874924, 0.10306848585605621, 0.010306849144399166, 0.005153424572199583, 0.08245479315519333, 0.041227396577596664, 0.020613698288798332, 0.9058395624160767, 0.3302469253540039, 0.20879009366035461, 0.08039285987615585, 0.06477697938680649, 0.0850197896361351, 0.05263129621744156, 0.06477697938680649, 0.060728419572114944, 0.01561587955802679, 0.014459147118031979, 0.012145684100687504, 0.008675488643348217, 0.0005783658707514405, 0.010011452250182629, 0.9510879516601562, 0.010011452250182629, 0.020022904500365257, 0.1629856675863266, 0.006791069637984037, 0.006791069637984037, 0.35992667078971863, 0.14940352737903595, 0.12903031706809998, 0.08828390389680862, 0.061119623482227325, 0.02716427855193615, 0.006791069637984037, 0.7923032641410828, 0.15846066176891327, 0.22651448845863342, 0.15599583089351654, 0.10257259756326675, 0.13569499552249908, 0.11966802924871445, 0.06624480336904526, 0.06624480336904526, 0.05021783336997032, 0.017095433548092842, 0.021369291469454765, 0.014958503656089306, 0.02030082605779171, 0.0010684645967558026, 0.9277807474136353, 0.04418003559112549, 0.011045008897781372, 0.8922426700592041, 0.2863255441188812, 0.19244831800460815, 0.09387722611427307, 0.11265267431735992, 0.08605412393808365, 0.021904686465859413, 0.05476171523332596, 0.061020199209451675, 0.02503392845392227, 0.03129240870475769, 0.015646204352378845, 0.0172108244150877, 0.001564620528370142, 0.2617296874523163, 0.1301497370004654, 0.07866193354129791, 0.12156843394041061, 0.14588212966918945, 0.052918024361133575, 0.08009214699268341, 0.04719715937972069, 0.011441735550761223, 0.024313688278198242, 0.02574390359222889, 0.01716260239481926, 0.17602398991584778, 0.19010591506958008, 0.1302577555179596, 0.10385415703058243, 0.02464335970580578, 0.12321679294109344, 0.06864935904741287, 0.02464335970580578, 0.04048551991581917, 0.06864935904741287, 0.02464335970580578, 0.02464335970580578, 0.21276627480983734, 0.06927274167537689, 0.11380521208047867, 0.14349353313446045, 0.19792211055755615, 0.014844158664345741, 0.09401300549507141, 0.029688317328691483, 0.029688317328691483, 0.014844158664345741, 0.059376634657382965, 0.02474026381969452, 0.01841972954571247, 0.1841972917318344, 0.6631102561950684, 0.055259186774492264, 0.01841972954571247, 0.03683945909142494, 0.01841972954571247, 0.9025664329528809, 0.06942818313837051, 0.9237877726554871, 0.19822804629802704, 0.5946841239929199, 0.19822804629802704, 0.45546644926071167, 0.015527265146374702, 0.47358158230781555, 0.03881816193461418, 0.002587877446785569, 0.007763632573187351, 0.002587877446785569, 0.503419816493988, 0.16780661046504974, 0.16780661046504974, 0.7490596771240234, 0.14981193840503693, 0.19388322532176971, 0.19388322532176971, 0.4847080409526825, 0.8559243679046631, 0.09831563383340836, 0.034699637442827225, 0.04900825396180153, 0.8821485638618469, 0.04900825396180153, 0.9207433462142944, 0.002379181794822216, 0.04044609144330025, 0.014275090768933296, 0.009516727179288864, 0.004758363589644432, 0.002379181794822216, 0.002379181794822216, 0.1812780350446701, 0.09063901752233505, 0.6344731450080872, 0.7349459528923035, 0.0660625547170639, 0.10735165327787399, 0.008257819339632988, 0.03303127735853195, 0.04128909856081009, 0.9057221412658691, 0.031231798231601715, 0.031231798231601715, 0.031231798231601715, 0.15473982691764832, 0.30947965383529663, 0.46421948075294495, 0.020581217482686043, 0.041162434965372086, 0.22639340162277222, 0.4939492344856262, 0.041162434965372086, 0.041162434965372086, 0.12348730862140656, 0.152810737490654, 0.26354315876960754, 0.12734226882457733, 0.1350935399532318, 0.04318564012646675, 0.12180565297603607, 0.032112400978803635, 0.03654169663786888, 0.019931834191083908, 0.02214648202061653, 0.023253805935382843, 0.02214648202061653, 0.0011073241475969553, 0.4544581472873688, 0.4544581472873688, 0.966176450252533, 0.9369179606437683, 0.026769084855914116, 0.026769084855914116, 0.12764911353588104, 0.042549703270196915, 0.21274851262569427, 0.5956958532333374, 0.005212813150137663, 0.9800088405609131, 0.001737604383379221, 0.001737604383379221, 0.006950417533516884, 0.1457437127828598, 0.7287185192108154, 0.9657607674598694, 0.023845944553613663, 0.8873107433319092, 0.08082984387874603, 0.006735820323228836, 0.16165968775749207, 0.0943014845252037, 0.2424895167350769, 0.2761686146259308, 0.020207460969686508, 0.006735820323228836, 0.03367910161614418, 0.060622379183769226, 0.017376553267240524, 0.0695062130689621, 0.1390124261379242, 0.05212965980172157, 0.5560497045516968, 0.03475310653448105, 0.1390124261379242, 0.19560293853282928, 0.060185518115758896, 0.1354174166917801, 0.1504637897014618, 0.03510821983218193, 0.11034011840820312, 0.10030919313430786, 0.03510821983218193, 0.10030919313430786, 0.040123678743839264, 0.03510821983218193, 0.8204970955848694, 0.01745738461613655, 0.08728692680597305, 0.043643463402986526, 0.01745738461613655, 0.008728692308068275, 0.403525710105896, 0.100881427526474, 0.100881427526474, 0.201762855052948, 0.8876830339431763, 0.10242496430873871, 0.3275832533836365, 0.3275832533836365, 0.16379162669181824, 0.02884000539779663, 0.9324935078620911, 0.019226670265197754, 0.019226670265197754, 0.0498834103345871, 0.8979013562202454, 0.0498834103345871, 0.9452099204063416, 0.04109608381986618, 0.19527782499790192, 0.21620045602321625, 0.20225204527378082, 0.11507443338632584, 0.06451142579317093, 0.034871041774749756, 0.04533235356211662, 0.04707590490579605, 0.0156919676810503, 0.026153281331062317, 0.020922625437378883, 0.0156919676810503, 0.3156973719596863, 0.15784868597984314, 0.3156973719596863, 0.04109494760632515, 0.40233278274536133, 0.07755014300346375, 0.0603167787194252, 0.13455280661582947, 0.1186450868844986, 0.009279504418373108, 0.06694499403238297, 0.07224756479263306, 0.00994232576340437, 0.004639752209186554, 0.0013256435049697757, 0.0006628217524848878, 0.2803182601928711, 0.3363819122314453, 0.2803182601928711, 0.7250169515609741, 0.04027872160077095, 0.12083616107702255, 0.04027872160077095, 0.20518501102924347, 0.18953530490398407, 0.19127415120601654, 0.10780906677246094, 0.060859959572553635, 0.0417325422167778, 0.06607652455568314, 0.05390453338623047, 0.0208662711083889, 0.0208662711083889, 0.027821695432066917, 0.013910847716033459, 0.847911536693573, 0.1246928721666336, 0.8428905010223389, 0.101849265396595, 0.007024087477475405, 0.0035120437387377024, 0.0035120437387377024, 0.0210722628980875, 0.01404817495495081, 0.2007109671831131, 0.13380731642246246, 0.2542338967323303, 0.16056877374649048, 0.013380731455981731, 0.053522925823926926, 0.053522925823926926, 0.12042658776044846, 0.0712304338812828, 0.17807607352733612, 0.6410738825798035, 0.0712304338812828, 0.14906378090381622, 0.7453189492225647, 0.18626196682453156, 0.09313098341226578, 0.6519168615341187, 0.5471031665802002, 0.3647354543209076, 0.1446179300546646, 0.21106399595737457, 0.15634369850158691, 0.09771481156349182, 0.06253748387098312, 0.09185192734003067, 0.11725777387619019, 0.05276599898934364, 0.03126874193549156, 0.01563437096774578, 0.00781718548387289, 0.011725777760148048, 0.14568500220775604, 0.11298020929098129, 0.3582661747932434, 0.0951412245631218, 0.02675846964120865, 0.14717158675193787, 0.005946326535195112, 0.031218213960528374, 0.0535169392824173, 0.005946326535195112, 0.010406071320176125, 0.002973163267597556, 0.21618707478046417, 0.24707093834877014, 0.15441933274269104, 0.1853032112121582, 0.0926516056060791, 0.030883867293596268, 0.030883867293596268, 0.030883867293596268, 0.42842230200767517, 0.42842230200767517, 0.7889319062232971, 0.1314886510372162, 0.9482797384262085, 0.6849547624588013, 0.11415912210941315, 0.028539780527353287, 0.057079561054706573, 0.028539780527353287, 0.057079561054706573, 0.2921617031097412, 0.05478031933307648, 0.20086117088794708, 0.05478031933307648, 0.10956063866615295, 0.09130053222179413, 0.16434095799922943, 0.018260106444358826, 0.9293702244758606, 0.05310686677694321, 0.01892692781984806, 0.2555135488510132, 0.09463464468717575, 0.1040981113910675, 0.03785385563969612, 0.15141542255878448, 0.028390392661094666, 0.09463464468717575, 0.16087889671325684, 0.01892692781984806, 0.00946346390992403, 0.29183849692344666, 0.05772629752755165, 0.05131226405501366, 0.20043854415416718, 0.12507364153862, 0.03367367386817932, 0.15714381635189056, 0.012828066013753414, 0.014431574381887913, 0.041691217571496964, 0.006414033006876707, 0.006414033006876707, 0.26363515853881836, 0.06590878963470459, 0.13181757926940918, 0.19772636890411377, 0.13181757926940918, 0.19772636890411377, 0.055212877690792084, 0.9018102884292603, 0.03680858388543129, 0.2208687961101532, 0.04417375847697258, 0.04417375847697258, 0.5079982280731201, 0.13252127170562744, 0.36621910333633423, 0.18310955166816711, 0.549328625202179, 0.12005772441625595, 0.12005772441625595, 0.6002886295318604, 0.08221393823623657, 0.49328362941741943, 0.020553484559059143, 0.041106969118118286, 0.020553484559059143, 0.06166045367717743, 0.24664181470870972, 0.020553484559059143, 0.2607342600822449, 0.17382284998893738, 0.13036713004112244, 0.13036713004112244, 0.043455712497234344, 0.043455712497234344, 0.17382284998893738, 0.14967232942581177, 0.7483615875244141, 0.9261995553970337, 0.029877405613660812, 0.4682924151420593, 0.4682924151420593, 0.08166442066431046, 0.29943621158599854, 0.09618253260850906, 0.10162682831287384, 0.052628181874752045, 0.09618253260850906, 0.063516765832901, 0.05081341415643692, 0.11070065200328827, 0.03266576677560806, 0.007259059231728315, 0.007259059231728315, 0.3611849844455719, 0.18368835747241974, 0.06604525446891785, 0.1362183392047882, 0.11145136505365372, 0.00825565680861473, 0.05985351279377937, 0.03715045377612114, 0.006191742606461048, 0.012383485212922096, 0.006191742606461048, 0.010319571010768414, 0.033616214990615845, 0.26892971992492676, 0.571475625038147, 0.10084864497184753, 0.057464487850666046, 0.057464487850666046, 0.7470383644104004, 0.057464487850666046, 0.057464487850666046, 0.935081422328949, 0.8949989676475525, 0.4103551208972931, 0.02830035425722599, 0.014150177128612995, 0.14857685565948486, 0.14857685565948486, 0.09197615087032318, 0.02830035425722599, 0.007075088564306498, 0.02122526615858078, 0.07782597094774246, 0.02830035425722599, 0.5118744373321533, 0.4703710675239563, 0.9132890105247498, 0.6956778764724731, 0.1264868825674057, 0.022997615858912468, 0.05174463614821434, 0.017248211428523064, 0.08049165457487106, 0.09993357956409454, 0.01665559597313404, 0.04996678978204727, 0.24983394145965576, 0.1832115650177002, 0.03331119194626808, 0.03331119194626808, 0.06662238389253616, 0.21652275323867798, 0.03331119194626808, 0.01665559597313404, 0.4169326722621918, 0.4169326722621918, 0.10423316806554794, 0.895665168762207, 0.38570380210876465, 0.027550270780920982, 0.13775135576725006, 0.4408043324947357, 0.766975998878479, 0.06669355928897858, 0.05002017319202423, 0.05002017319202423, 0.016673389822244644, 0.03334677964448929, 0.9346508383750916, 0.17710523307323456, 0.7084209322929382, 0.8172308802604675, 0.07477929443120956, 0.005341378506273031, 0.04273102805018425, 0.005341378506273031, 0.016024135053157806, 0.026706892997026443, 0.9541539549827576, 0.011636023409664631, 0.023272046819329262, 0.9049063920974731, 0.5841602683067322, 0.009272385388612747, 0.1390857845544815, 0.046361926943063736, 0.009272385388612747, 0.1576305478811264, 0.046361926943063736, 0.8799883127212524, 0.07333235442638397, 0.5321760177612305, 0.3547840118408203, 0.8723673224449158, 0.024232424795627594, 0.07269727438688278, 0.369083046913147, 0.5536245703697205, 0.9086073040962219, 0.012797285802662373, 0.06398642808198929, 0.18912403285503387, 0.09456201642751694, 0.2836860418319702, 0.18912403285503387, 0.09456201642751694, 0.09456201642751694, 0.6239332556724548, 0.12478665262460709, 0.18281476199626923, 0.36562952399253845, 0.36562952399253845, 0.4891318380832672, 0.4891318380832672, 0.1815814971923828, 0.0907907485961914, 0.6355352401733398, 0.22070635855197906, 0.16743241250514984, 0.0913267731666565, 0.11415846645832062, 0.11415846645832062, 0.07610563933849335, 0.0913267731666565, 0.0152211282402277, 0.038052819669246674, 0.06849507987499237, 0.44087329506874084, 0.04640771448612213, 0.023203857243061066, 0.09281542897224426, 0.04640771448612213, 0.023203857243061066, 0.023203857243061066, 0.18563085794448853, 0.09281542897224426, 0.1659771054983139, 0.12448283284902573, 0.3319542109966278, 0.08298855274915695, 0.29045993089675903, 0.7774664759635925, 0.09718330949544907, 0.19681629538536072, 0.19091179966926575, 0.14761221408843994, 0.0885673314332962, 0.08463100343942642, 0.08266284316778183, 0.09250365942716599, 0.05117223784327507, 0.029522445052862167, 0.005904488731175661, 0.013777140527963638, 0.01771346665918827, 0.32497596740722656, 0.16248798370361328, 0.16248798370361328, 0.16248798370361328, 0.16191409528255463, 0.32382819056510925, 0.32382819056510925, 0.38568252325057983, 0.1285608410835266, 0.1285608410835266, 0.2571216821670532, 0.16411958634853363, 0.2683577239513397, 0.13972343504428864, 0.06653496623039246, 0.04657447710633278, 0.14194126427173615, 0.06209930405020714, 0.05544580891728401, 0.022178323939442635, 0.0022178322542458773, 0.0022178322542458773, 0.02883182093501091, 0.9257554411888123, 0.8660457134246826, 0.061645448207855225, 0.12329089641571045, 0.6780999302864075, 0.061645448207855225, 0.12213751673698425, 0.12213751673698425, 0.2442750334739685, 0.36641255021095276, 0.41629141569137573, 0.08325828611850739, 0.08325828611850739, 0.08325828611850739, 0.08325828611850739, 0.08325828611850739, 0.9536614418029785, 0.012226428836584091, 0.012226428836584091, 0.7828543782234192, 0.03145764768123627, 0.03145764768123627, 0.44040706753730774, 0.22020353376865387, 0.22020353376865387, 0.03145764768123627, 0.8680243492126465, 0.9191756844520569, 0.8137781023979187, 0.11625401675701141, 0.08108378201723099, 0.8108378648757935, 0.08108378201723099, 0.7468448281288147, 0.14936895668506622, 0.9421203136444092, 0.8724567294120789, 0.36703574657440186, 0.5505536198616028, 0.9348542094230652, 0.21693016588687897, 0.10846508294343948, 0.6507905125617981, 0.3680684268474579, 0.3680684268474579, 0.847944974899292, 0.481993705034256, 0.04016613960266113, 0.16066455841064453, 0.28116297721862793, 0.8125474452972412, 0.13542456924915314, 0.18918752670288086, 0.18918752670288086, 0.5675625801086426, 0.25317737460136414, 0.20254190266132355, 0.11814944446086884, 0.08439245820045471, 0.016878493130207062, 0.06751397252082825, 0.033756986260414124, 0.05063547566533089, 0.016878493130207062, 0.11814944446086884, 0.6888567209243774, 0.07016133517026901, 0.10843115299940109, 0.025513213127851486, 0.0063783032819628716, 0.012756606563925743, 0.05102642625570297, 0.025513213127851486, 0.0063783032819628716, 0.15365871787071228, 0.15365871787071228, 0.46097615361213684, 0.8935692310333252, 0.8379878997802734, 0.015518294647336006, 0.04655488207936287, 0.031036589294672012, 0.031036589294672012, 0.015518294647336006, 0.015518294647336006, 0.0709972158074379, 0.2129916548728943, 0.0709972158074379, 0.1419944316148758, 0.4969805181026459, 0.2124960869550705, 0.424992173910141, 0.2124960869550705, 0.1852855682373047, 0.19557921588420868, 0.020587285980582237, 0.06176185607910156, 0.07205549627542496, 0.010293642990291119, 0.3191029131412506, 0.07205549627542496, 0.03088092803955078, 0.020587285980582237, 0.13068994879722595, 0.5227597951889038, 0.13068994879722595, 0.13068994879722595, 0.15317152440547943, 0.042547643184661865, 0.05956670269370079, 0.20422868430614471, 0.23826681077480316, 0.042547643184661865, 0.1361524611711502, 0.02552858553826809, 0.05956670269370079, 0.008509528823196888, 0.017019057646393776, 0.9707575440406799, 0.011287878267467022, 0.011287878267467022, 0.2602463960647583, 0.12377572059631348, 0.05712725594639778, 0.15551307797431946, 0.11425451189279556, 0.07616967707872391, 0.050779782235622406, 0.03173736482858658, 0.0666484609246254, 0.022216154262423515, 0.006347472779452801, 0.03173736482858658, 0.0031737363897264004, 0.40801477432250977, 0.20875173807144165, 0.01897743158042431, 0.20875173807144165, 0.009488715790212154, 0.02846614643931389, 0.07590972632169724, 0.009488715790212154, 0.009488715790212154, 0.2882063686847687, 0.1280917227268219, 0.09606879204511642, 0.09606879204511642, 0.0853944793343544, 0.053371552377939224, 0.07472017407417297, 0.032022930681705475, 0.0426972396671772, 0.0213486198335886, 0.0106743099167943, 0.0426972396671772, 0.0213486198335886, 0.3593980073928833, 0.2695485055446625, 0.053909704089164734, 0.017969900742173195, 0.1257893145084381, 0.03593980148434639, 0.08984950184822083, 0.017969900742173195, 0.03593980148434639, 0.18607071042060852, 0.558212161064148, 0.18607071042060852, 0.007912245579063892, 0.22154287993907928, 0.5538572072982788, 0.03164898231625557, 0.03956122696399689, 0.11868368834257126, 0.007912245579063892, 0.25445157289505005, 0.3816773593425751, 0.3816773593425751, 0.03674767538905144, 0.03674767538905144, 0.8084489107131958, 0.03674767538905144, 0.9049440026283264, 0.1558423489332199, 0.1558423489332199, 0.1558423489332199, 0.46752703189849854, 0.042788274586200714, 0.24246689677238464, 0.2824026048183441, 0.059903584420681, 0.04849337786436081, 0.21394138038158417, 0.005705103278160095, 0.04564082622528076, 0.042788274586200714, 0.008557654917240143, 0.005705103278160095, 0.0028525516390800476, 0.22390636801719666, 0.11195318400859833, 0.3358595371246338, 0.11195318400859833, 0.11195318400859833, 0.8040186762809753, 0.07537674903869629, 0.01256279181689024, 0.07537674903869629, 0.01256279181689024, 0.30661115050315857, 0.07665278762578964, 0.15330557525157928, 0.15330557525157928, 0.30661115050315857, 0.17618262767791748, 0.2656722068786621, 0.07271029055118561, 0.18177573382854462, 0.0643206387758255, 0.04474479332566261, 0.04194824397563934, 0.08109994232654572, 0.025168946012854576, 0.013982748612761497, 0.019575847312808037, 0.008389648981392384, 0.0027965495828539133, 0.32306933403015137, 0.48460397124290466, 0.10218829661607742, 0.1873452067375183, 0.5109415054321289, 0.017031382769346237, 0.06812553107738495, 0.10218829661607742, 0.25393423438072205, 0.5078684687614441, 0.12696711719036102, 0.03080681711435318, 0.20537878572940826, 0.09242045134305954, 0.12322726845741272, 0.010268938727676868, 0.020537877455353737, 0.4312954545021057, 0.041075754910707474, 0.020537877455353737, 0.03080681711435318, 0.4963158667087555, 0.045119624584913254, 0.09023924916982651, 0.045119624584913254, 0.045119624584913254, 0.22559812664985657, 0.028447968885302544, 0.11948146671056747, 0.3413756191730499, 0.2076701670885086, 0.017068780958652496, 0.15930862724781036, 0.08534390479326248, 0.03413756191730499, 0.3693090081214905, 0.18465450406074524, 0.3693090081214905, 0.3714800775051117, 0.04643500968813896, 0.2321750521659851, 0.18574003875255585, 0.1393050253391266, 0.17427723109722137, 0.13353709876537323, 0.11090368777513504, 0.09958698600530624, 0.20596399903297424, 0.0950603038072586, 0.05092516168951988, 0.05771518498659134, 0.02829175814986229, 0.019238395616412163, 0.011316702701151371, 0.007921691983938217, 0.0033950109500437975, 0.31452396512031555, 0.4403335452079773, 0.2516191601753235, 0.9150213003158569, 0.053824782371520996, 0.1305607408285141, 0.8268847465515137, 0.34414100646972656, 0.10719145834445953, 0.05359572917222977, 0.09308731555938721, 0.17207050323486328, 0.016924967989325523, 0.10154980421066284, 0.02538745105266571, 0.016924967989325523, 0.03102910704910755, 0.02538745105266571, 0.011283311061561108, 0.8536152839660645, 0.06668869405984879, 0.013337738811969757, 0.05335095524787903, 0.06437636911869049, 0.32188186049461365, 0.25750547647476196, 0.19312912225723267, 0.06437636911869049, 0.41422560811042786, 0.13807520270347595, 0.41422560811042786, 0.8899391889572144, 0.07119514048099518, 0.2696211040019989, 0.09532058984041214, 0.10076747834682465, 0.10621437430381775, 0.17430050671100616, 0.05446890741586685, 0.049022018909454346, 0.046298570930957794, 0.010893781669437885, 0.019064119085669518, 0.04357512667775154, 0.027234453707933426, 0.005446890834718943, 0.21456700563430786, 0.1310528963804245, 0.1426163911819458, 0.14133156836032867, 0.08865343034267426, 0.08351410180330276, 0.09764725714921951, 0.03083597682416439, 0.026981480419635773, 0.017987653613090515, 0.015417988412082195, 0.008993826806545258, 0.8722754120826721, 0.18997903168201447, 0.11498730629682541, 0.12998564541339874, 0.06999227404594421, 0.14498399198055267, 0.12998564541339874, 0.05499392747879028, 0.06999227404594421, 0.004999448079615831, 0.019997792318463326, 0.029996687546372414, 0.02499723993241787, 0.004999448079615831, 0.2706349492073059, 0.0902116522192955, 0.0902116522192955, 0.0902116522192955, 0.360846608877182, 0.0902116522192955, 0.9826011657714844, 0.29925528168678284, 0.05985105410218239, 0.5985105633735657, 0.20778189599514008, 0.017315158620476723, 0.06926063448190689, 0.5021395683288574, 0.13852126896381378, 0.034630317240953445, 0.017315158620476723, 0.19214951992034912, 0.19214951992034912, 0.19214951992034912, 0.19214951992034912, 0.19214951992034912, 0.33389171957969666, 0.047698818147182465, 0.143096461892128, 0.09539763629436493, 0.047698818147182465, 0.047698818147182465, 0.047698818147182465, 0.143096461892128, 0.047698818147182465, 0.9427552819252014, 0.05892220512032509, 0.5133483409881592, 0.2851935029029846, 0.05703870207071304, 0.05703870207071304, 0.05703870207071304, 0.9446842670440674, 0.9184674620628357, 0.8959954977035522, 0.1269654780626297, 0.21452787518501282, 0.11164206266403198, 0.09850770235061646, 0.08537334203720093, 0.09303504973649979, 0.06567180156707764, 0.07661709934473038, 0.07552257180213928, 0.0273632500320673, 0.006567180156707764, 0.017512479797005653, 0.39215317368507385, 0.07843063771724701, 0.16993305087089539, 0.13071772456169128, 0.026143545284867287, 0.039215318858623505, 0.039215318858623505, 0.11764595657587051, 0.013071772642433643, 0.21652129292488098, 0.21652129292488098, 0.21652129292488098, 0.21652129292488098, 0.313199520111084, 0.0391499400138855, 0.156599760055542, 0.09787485003471375, 0.09787485003471375, 0.1957497000694275, 0.05872491002082825, 0.0391499400138855, 0.4877457916736603, 0.012835415080189705, 0.08984790742397308, 0.10268332064151764, 0.06417707353830338, 0.05134166032075882, 0.038506247103214264, 0.012835415080189705, 0.06417707353830338, 0.05134166032075882, 0.1853037178516388, 0.1853037178516388, 0.555911123752594, 0.12033583223819733, 0.24067166447639465, 0.3610075116157532, 0.24067166447639465, 0.06290529668331146, 0.18871590495109558, 0.12581059336662292, 0.5032423734664917, 0.16416023671627045, 0.49248072504997253, 0.16416023671627045, 0.16416023671627045, 0.027601219713687897, 0.08107858896255493, 0.10005442798137665, 0.03622660040855408, 0.07935351133346558, 0.027601219713687897, 0.19320854544639587, 0.320864200592041, 0.06382782012224197, 0.053477365523576736, 0.006900304928421974, 0.008625381626188755, 0.01006946712732315, 0.07048626989126205, 0.5118646025657654, 0.031886644661426544, 0.005034733563661575, 0.27523210644721985, 0.013425956480205059, 0.05706031620502472, 0.015104200690984726, 0.005034733563661575, 0.005034733563661575, 0.031874045729637146, 0.10624682158231735, 0.23374301195144653, 0.06374809145927429, 0.0053123412653803825, 0.37186387181282043, 0.0743727758526802, 0.026561705395579338, 0.010624682530760765, 0.0053123412653803825, 0.010624682530760765, 0.05843575298786163, 0.7793577909469604, 0.14759230613708496, 0.010542307049036026, 0.010542307049036026, 0.30572691559791565, 0.10542307049036026, 0.3268115222454071, 0.010542307049036026, 0.021084614098072052, 0.05271153524518013, 0.021084614098072052, 0.565669596195221, 0.18855653703212738, 0.18855653703212738, 0.19056233763694763, 0.38112467527389526, 0.19056233763694763, 0.19056233763694763, 0.1347876340150833, 0.40436291694641113, 0.40436291694641113, 0.9448365569114685, 0.6642375588417053, 0.11669038236141205, 0.008976183831691742, 0.0628332868218422, 0.13464275002479553, 0.15453019738197327, 0.7211409211158752, 0.05151006579399109, 0.958332359790802, 0.016242921352386475, 0.016242921352386475, 0.016242921352386475, 0.17124488949775696, 0.7706020474433899, 0.26904651522636414, 0.13452325761318207, 0.5380930304527283, 0.20756712555885315, 0.20756712555885315, 0.20756712555885315, 0.2728646993637085, 0.545729398727417, 0.13643234968185425, 0.10090001672506332, 0.23217852413654327, 0.19529035687446594, 0.06726667284965515, 0.059672050178050995, 0.145382821559906, 0.05316237360239029, 0.06726667284965515, 0.04014301672577858, 0.019529035314917564, 0.006509678438305855, 0.011934409849345684, 0.0010849464451894164, 0.03656371310353279, 0.07312742620706558, 0.29250970482826233, 0.5484557151794434, 0.03656371310353279, 0.3885144591331482, 0.04625172168016434, 0.055502064526081085, 0.07400275021791458, 0.1572558432817459, 0.018500687554478645, 0.08325309306383133, 0.03700137510895729, 0.009250343777239323, 0.12950481474399567, 0.5606548190116882, 0.14016370475292206, 0.14016370475292206, 0.36808356642723083, 0.5521253347396851, 0.7119782567024231, 0.17799456417560577, 0.0471063107252121, 0.0942126214504242, 0.1413189321756363, 0.1884252429008484, 0.1413189321756363, 0.2826378643512726, 0.0471063107252121, 0.0471063107252121, 0.8950425386428833, 0.11731613427400589, 0.3041529357433319, 0.3258781433105469, 0.06083058938384056, 0.021725209429860115, 0.08690083771944046, 0.021725209429860115, 0.0391053780913353, 0.00869008433073759, 0.013035126030445099, 0.12773150205612183, 0.25546300411224365, 0.3831945061683655, 0.12773150205612183, 0.8969171047210693, 0.873421847820282, 0.8678537607192993, 0.18183284997940063, 0.005195224191993475, 0.005195224191993475, 0.10390448570251465, 0.04675702005624771, 0.01039044838398695, 0.47276541590690613, 0.025976121425628662, 0.0207808967679739, 0.04675702005624771, 0.07792836427688599, 0.005195224191993475, 0.10167296975851059, 0.8642202615737915, 0.19285663962364197, 0.7714265584945679, 0.5745578408241272, 0.044196754693984985, 0.13259026408195496, 0.044196754693984985, 0.044196754693984985, 0.08839350938796997, 0.43070361018180847, 0.013893664814531803, 0.013893664814531803, 0.08336199074983597, 0.027787329629063606, 0.31955429911613464, 0.027787329629063606, 0.041680995374917984, 0.013893664814531803, 0.013893664814531803, 0.28289541602134705, 0.11315817385911942, 0.5657908320426941, 0.3763197958469391, 0.04935341700911522, 0.027761297300457954, 0.1912444829940796, 0.14806024730205536, 0.012338354252278805, 0.10179141908884048, 0.033930473029613495, 0.021592119708657265, 0.01850753091275692, 0.015422942116856575, 0.003084588563069701, 0.8062590956687927, 0.05758993327617645, 0.05758993327617645, 0.7103990316390991, 0.17759975790977478, 0.7008647322654724, 0.11681079119443893, 0.11681079119443893, 0.4480166733264923, 0.2688100039958954, 0.08960333466529846, 0.08960333466529846, 0.13005931675434113, 0.7803559303283691, 0.1941496729850769, 0.29122450947761536, 0.09707483649253845, 0.29122450947761536, 0.4367135465145111, 0.21835677325725555, 0.21835677325725555, 0.4018986225128174, 0.2009493112564087, 0.30142396688461304, 0.4045424163341522, 0.0674237385392189, 0.0674237385392189, 0.2022712081670761, 0.0674237385392189, 0.0674237385392189, 0.9664669632911682, 0.38828906416893005, 0.38828906416893005, 0.12942969799041748, 0.8684895634651184, 0.15841232240200043, 0.2263033241033554, 0.24893365800380707, 0.1131516620516777, 0.06789099425077438, 0.06789099425077438, 0.06789099425077438, 0.02263033203780651, 0.02263033203780651, 0.2408628910779953, 0.6021572351455688, 0.08150473237037659, 0.3521004617214203, 0.17115993797779083, 0.06031350418925285, 0.050532933324575424, 0.10921633988618851, 0.04727274551987648, 0.04727274551987648, 0.05542321875691414, 0.008150473237037659, 0.004890284035354853, 0.011410662904381752, 0.40572279691696167, 0.13524092733860016, 0.40572279691696167, 0.9479178786277771, 0.9402925968170166, 0.031343087553977966, 0.9367699027061462, 0.18598368763923645, 0.3719673752784729, 0.18598368763923645, 0.3719673752784729, 0.15374861657619476, 0.15374861657619476, 0.15374861657619476, 0.3074972331523895, 0.19188207387924194, 0.30701133608818054, 0.30701133608818054, 0.1151292473077774, 0.03837641701102257, 0.23019959032535553, 0.10231093317270279, 0.10231093317270279, 0.09804797172546387, 0.16625526547431946, 0.08099615573883057, 0.051155466586351395, 0.068207286298275, 0.03836660087108612, 0.021314777433872223, 0.01705182157456875, 0.01705182157456875, 0.008525910787284374, 0.7846440672874451, 0.13077400624752045, 0.24013307690620422, 0.24013307690620422, 0.24013307690620422, 0.36019960045814514, 0.9331620931625366, 0.06085839867591858, 0.2721253037452698, 0.2721253037452698, 0.2721253037452698, 0.1360626518726349, 0.19434770941734314, 0.12771420180797577, 0.16288188099861145, 0.12956513464450836, 0.0869937315583229, 0.05552791431546211, 0.07403721660375595, 0.06293163448572159, 0.04442233219742775, 0.037018608301877975, 0.012956513091921806, 0.011105583049356937, 0.19030427932739258, 0.38060855865478516, 0.19030427932739258, 0.19030427932739258, 0.013553835451602936, 0.013553835451602936, 0.04066150635480881, 0.17619986832141876, 0.6234764456748962, 0.04066150635480881, 0.10843068361282349, 0.18001514673233032, 0.18001514673233032, 0.36003029346466064, 0.18001514673233032, 0.06543407589197159, 0.5016612410545349, 0.1821890026330948, 0.051320843398571014, 0.03592459112405777, 0.020528336986899376, 0.016679273918271065, 0.024377401918172836, 0.07441522181034088, 0.017962295562028885, 0.003849063301458955, 0.003849063301458955, 0.1621275395154953, 0.3081952631473541, 0.13612595200538635, 0.07265149056911469, 0.0520031712949276, 0.09788832068443298, 0.03211960569024086, 0.05582693591713905, 0.034413862973451614, 0.02676633931696415, 0.0130007928237319, 0.009177030064165592, 0.0007647525053471327, 0.02055337280035019, 0.12332023680210114, 0.27747052907943726, 0.3494073152542114, 0.010276686400175095, 0.15415029227733612, 0.04110674560070038, 0.030830059200525284, 0.2820875346660614, 0.1988629549741745, 0.0858527272939682, 0.0989934504032135, 0.0876048281788826, 0.0481826551258564, 0.0674557164311409, 0.0446784608066082, 0.0254053995013237, 0.02890959195792675, 0.01839701272547245, 0.013140724040567875, 0.06439108401536942, 0.16455499827861786, 0.3219554126262665, 0.04292738810181618, 0.03577282279729843, 0.2003278136253357, 0.014309129677712917, 0.014309129677712917, 0.014309129677712917, 0.04292738810181618, 0.007154564838856459, 0.07870021462440491, 0.934536874294281, 0.5734391212463379, 0.1911463737487793, 0.1911463737487793, 0.1499299705028534, 0.21538163721561432, 0.18189473450183868, 0.10883241146802902, 0.08828363567590714, 0.09741642326116562, 0.04946928098797798, 0.043380752205848694, 0.018265580758452415, 0.017504513263702393, 0.013699185103178024, 0.013699185103178024, 0.0007610658067278564, 0.9181557297706604, 0.0983886793255806, 0.1967773586511612, 0.2951660454273224, 0.3935547173023224, 0.089912548661232, 0.089912548661232, 0.359650194644928, 0.089912548661232, 0.2697376608848572, 0.17101049423217773, 0.20469437539577484, 0.18655690550804138, 0.0984605923295021, 0.08291418105363846, 0.062185633927583694, 0.031092816963791847, 0.0984605923295021, 0.02591068111360073, 0.018137477338314056, 0.002591068157926202, 0.018137477338314056, 0.3797011077404022, 0.5695516467094421, 0.7853771448135376, 0.11219673603773117, 0.056098368018865585, 0.3375285267829895, 0.08237303048372269, 0.09241852164268494, 0.11050041019916534, 0.13460959494113922, 0.06630024313926697, 0.06228204816579819, 0.03817286714911461, 0.02611827850341797, 0.012054589577019215, 0.02410917915403843, 0.01406368799507618, 0.002009098418056965, 0.25203943252563477, 0.08401314169168472, 0.16802628338336945, 0.04200657084584236, 0.04200657084584236, 0.25203943252563477, 0.12601971626281738, 0.8997330069541931, 0.03332344442605972, 0.03332344442605972, 0.1802178919315338, 0.3604357838630676, 0.3604357838630676, 0.09176016598939896, 0.100101999938488, 0.3503569960594177, 0.07924741506576538, 0.04170916602015495, 0.21271675825119019, 0.01668366603553295, 0.04170916602015495, 0.04588008299469948, 0.008341833017766476, 0.012512749992311, 0.4545585513114929, 0.1515195220708847, 0.3030390441417694, 0.6648655533790588, 0.1662163883447647, 0.38808056712150574, 0.12936018407344818, 0.25872036814689636, 0.12936018407344818, 0.11148610711097717, 0.055743053555488586, 0.5016874670982361, 0.08361458033323288, 0.25084373354911804, 0.30596041679382324, 0.30596041679382324, 0.15298020839691162, 0.8855618834495544, 0.8666491508483887, 0.738149106502533, 0.1054498702287674, 0.0527249351143837, 0.5663910508155823, 0.14159776270389557, 0.14159776270389557, 0.07079888135194778, 0.22469045221805573, 0.7240025401115417, 0.02496560476720333, 0.30452829599380493, 0.456792414188385, 0.15226414799690247, 0.15718455612659454, 0.15718455612659454, 0.15718455612659454, 0.15718455612659454, 0.3143691122531891, 0.7522916793823242, 0.08358796685934067, 0.08358796685934067, 0.4699631333351135, 0.15665437281131744, 0.3133087456226349, 0.32079780101776123, 0.040099725127220154, 0.16039890050888062, 0.32079780101776123, 0.12029917538166046, 0.040099725127220154, 0.4340379238128662, 0.28935861587524414, 0.28935861587524414, 0.18758812546730042, 0.18758812546730042, 0.37517625093460083, 0.18758812546730042, 0.9048347473144531, 0.12392580509185791, 0.12392580509185791, 0.12392580509185791, 0.49570322036743164, 0.8872345089912415, 0.08872345089912415, 0.1491900235414505, 0.7459501624107361, 0.13165979087352753, 0.7460721731185913, 0.04388659819960594, 0.04388659819960594, 0.2769000232219696, 0.2769000232219696, 0.4153500199317932, 0.051201775670051575, 0.2048071026802063, 0.025600887835025787, 0.051201775670051575, 0.07680266350507736, 0.4352150857448578, 0.07680266350507736, 0.025600887835025787, 0.025600887835025787, 0.12530526518821716, 0.12530526518821716, 0.2506105303764343, 0.3759158253669739, 0.9248353838920593, 0.1428944617509842, 0.1428944617509842, 0.1428944617509842, 0.04763149097561836, 0.09526298195123672, 0.04763149097561836, 0.09526298195123672, 0.1428944617509842, 0.04763149097561836, 0.04763149097561836, 0.9053097367286682, 0.3044622540473938, 0.13048382103443146, 0.043494608253240585, 0.13048382103443146, 0.2609676420688629, 0.043494608253240585, 0.043494608253240585, 0.6346486806869507, 0.1813281923532486, 0.0906640961766243, 0.4012424647808075, 0.20062123239040375, 0.20062123239040375, 0.838742196559906, 0.025675782933831215, 0.03423437476158142, 0.01711718738079071, 0.025675782933831215, 0.01711718738079071, 0.03423437476158142, 0.726041316986084, 0.06600375473499298, 0.13200750946998596, 0.7654858827590942, 0.2296457588672638, 0.10968613624572754, 0.1828102320432663, 0.25593432784080505, 0.03656204417347908, 0.14624817669391632, 0.07312408834695816, 0.07312408834695816, 0.07312408834695816, 0.03656204417347908, 0.24813252687454224, 0.1436556726694107, 0.19589410722255707, 0.35260939598083496, 0.026119213551282883, 0.013059606775641441, 0.013059606775641441, 0.17761863768100739, 0.17761863768100739, 0.5328559279441833, 0.8722864389419556, 0.18037009239196777, 0.05411102995276451, 0.027055514976382256, 0.12625907361507416, 0.22546261548995972, 0.13527756929397583, 0.06312953680753708, 0.018037009984254837, 0.12625907361507416, 0.036074019968509674, 0.018037009984254837, 0.20965756475925446, 0.22567306458950043, 0.0917251780629158, 0.12812405824661255, 0.06115012243390083, 0.08735731244087219, 0.055326301604509354, 0.056782256811857224, 0.03203101456165314, 0.021839328110218048, 0.011647641658782959, 0.014559553004801273, 0.0014559552073478699, 0.24614843726158142, 0.08675723522901535, 0.0988628938794136, 0.17149686813354492, 0.1654440313577652, 0.09281006455421448, 0.034299373626708984, 0.034299373626708984, 0.020176101475954056, 0.02219371125102043, 0.016140881925821304, 0.012105660513043404, 0.02873416431248188, 0.02873416431248188, 0.2586074769496918, 0.17240498960018158, 0.43101248145103455, 0.02873416431248188, 0.02873416431248188, 0.9447610974311829, 0.0023385174572467804, 0.0023385174572467804, 0.04677034914493561, 0.1300046443939209, 0.08125290274620056, 0.016250580549240112, 0.19500696659088135, 0.21125754714012146, 0.34126219153404236, 0.016250580549240112, 0.016250580549240112, 0.8767343163490295, 0.054795894771814346, 0.0932336077094078, 0.8391024470329285, 0.4062236547470093, 0.017104152590036392, 0.017104152590036392, 0.13683322072029114, 0.13683322072029114, 0.13255718350410461, 0.012828115373849869, 0.004276038147509098, 0.02993226796388626, 0.08124472945928574, 0.025656230747699738, 0.3813932538032532, 0.03813932463526726, 0.07627864927053452, 0.11441797763109207, 0.03813932463526726, 0.30511459708213806, 0.0050419773906469345, 0.9226818680763245, 0.060503728687763214, 0.0050419773906469345, 0.8962103724479675, 0.011720480397343636, 0.2461300939321518, 0.12892529368400574, 0.22268913686275482, 0.2461300939321518, 0.07032288610935211, 0.011720480397343636, 0.035161443054676056, 0.678325891494751, 0.09690369665622711, 0.09690369665622711, 0.09690369665622711, 0.004552249331027269, 0.9741812944412231, 0.004552249331027269, 0.004552249331027269, 0.009104498662054539, 0.8528673648834229, 0.0033315131440758705, 0.139923557639122, 0.20921216905117035, 0.25258544087409973, 0.09950335323810577, 0.10715745389461517, 0.07143830507993698, 0.04337325692176819, 0.05357872694730759, 0.06378419697284698, 0.03571915253996849, 0.022962311282753944, 0.010205471888184547, 0.020410943776369095, 0.007654103916138411, 0.2902887761592865, 0.14661049842834473, 0.09383071959018707, 0.09969513863325119, 0.10262734442949295, 0.03811872750520706, 0.06744083017110825, 0.035186517983675, 0.011728839948773384, 0.07037303596735, 0.0175932589918375, 0.023457679897546768, 0.002932209987193346, 0.36825573444366455, 0.059396084398031235, 0.051476605236530304, 0.1544298231601715, 0.09899347275495529, 0.02771817333996296, 0.08315451443195343, 0.07127530127763748, 0.01979869417846203, 0.015838956460356712, 0.01979869417846203, 0.023758433759212494, 0.011879216879606247, 0.8951903581619263, 0.35469916462898254, 0.11823305487632751, 0.35469916462898254, 0.24437452852725983, 0.150384321808815, 0.12218726426362991, 0.13158628344535828, 0.04699510335922241, 0.04699510335922241, 0.009399020113050938, 0.03759608045220375, 0.150384321808815, 0.028197061270475388, 0.009399020113050938, 0.018798040226101875, 0.5993453860282898, 0.19978179037570953, 0.6919016242027283, 0.17297540605068207, 0.17705240845680237, 0.23080046474933624, 0.12330435961484909, 0.20550726354122162, 0.05058640241622925, 0.06639465689659119, 0.018969900906085968, 0.041101451963186264, 0.006323300302028656, 0.041101451963186264, 0.01580825075507164, 0.018969900906085968, 0.12532676756381989, 0.19984537363052368, 0.0745186135172844, 0.1490372270345688, 0.09653548151254654, 0.06096977740526199, 0.08806745707988739, 0.08976106345653534, 0.047420937567949295, 0.038952913135290146, 0.020323259755969048, 0.010161629877984524, 0.9085356593132019, 0.9268036484718323, 0.15377014875411987, 0.3331686556339264, 0.11155873537063599, 0.06180956959724426, 0.06180956959724426, 0.12361913919448853, 0.02261325716972351, 0.06633222103118896, 0.019598156213760376, 0.013567954301834106, 0.021105706691741943, 0.010552853345870972, 0.7816445231437683, 0.06012650206685066, 0.12025300413370132], \"Term\": [\"abbey\", \"abbot\", \"abbot\", \"abominably\", \"abominably\", \"abominably\", \"abruptly\", \"abruptly\", \"abruptly\", \"abruptly\", \"abruptly\", \"abruptly\", \"accomplished\", \"accomplished\", \"accomplished\", \"accomplished\", \"accomplished\", \"accomplished\", \"accomplished\", \"accomplished\", \"accomplished\", \"accomplished\", \"accounting\", \"accounting\", \"accuracy\", \"accuracy\", \"accuracy\", \"adele\", \"adele\", \"adele\", \"adele\", \"adele\", \"adele\", \"adele\", \"adele\", \"administer\", \"administer\", \"administer\", \"administer\", \"admitting\", \"admitting\", \"admitting\", \"admitting\", \"aerial\", \"affection\", \"affection\", \"affection\", \"affection\", \"affection\", \"affection\", \"affection\", \"affection\", \"affection\", \"affection\", \"affection\", \"affection\", \"afraid\", \"afraid\", \"afraid\", \"afraid\", \"afraid\", \"afraid\", \"afraid\", \"afraid\", \"afraid\", \"afraid\", \"afraid\", \"afraid\", \"aimed\", \"aimed\", \"aimed\", \"aimed\", \"aimed\", \"allenham\", \"allenham\", \"alley\", \"alley\", \"alley\", \"amy\", \"amy\", \"anecdote\", \"anecdote\", \"anecdote\", \"anglais\", \"anglais\", \"anglais\", \"anglais\", \"angle\", \"angle\", \"angle\", \"apologise\", \"apologise\", \"apple\", \"apple\", \"apple\", \"apple\", \"apple\", \"apple\", \"apple\", \"apples\", \"apples\", \"apples\", \"apples\", \"apples\", \"apples\", \"aristocratic\", \"arm\", \"arm\", \"arm\", \"arm\", \"arm\", \"arm\", \"arm\", \"arm\", \"arm\", \"arm\", \"arm\", \"arms\", \"arms\", \"arms\", \"arms\", \"arms\", \"arms\", \"arms\", \"arms\", \"arms\", \"artful\", \"artful\", \"artful\", \"artful\", \"asked\", \"asked\", \"asked\", \"asked\", \"asked\", \"asked\", \"asked\", \"asked\", \"asked\", \"asked\", \"asked\", \"asked\", \"assemblage\", \"assemblage\", \"assemblage\", \"assemblage\", \"assembly\", \"assembly\", \"assembly\", \"assent\", \"assent\", \"assent\", \"assent\", \"assent\", \"astonish\", \"astonish\", \"athenee\", \"athenee\", \"athenee\", \"attic\", \"attic\", \"attic\", \"attic\", \"attic\", \"aunt\", \"aunt\", \"aunt\", \"aunt\", \"aunt\", \"aunt\", \"aunt\", \"aunt\", \"aunt\", \"aunt\", \"away\", \"away\", \"away\", \"away\", \"away\", \"away\", \"away\", \"away\", \"away\", \"away\", \"away\", \"away\", \"away\", \"bags\", \"bags\", \"bags\", \"bags\", \"bags\", \"baked\", \"baked\", \"baked\", \"baked\", \"baked\", \"bartlett\", \"barton\", \"barton\", \"barton\", \"bassompierre\", \"bassompierre\", \"bassompierre\", \"bates\", \"bates\", \"bates\", \"bathing\", \"bathing\", \"bathing\", \"beck\", \"beck\", \"beck\", \"beck\", \"beck\", \"beck\", \"bed\", \"bed\", \"bed\", \"bed\", \"bed\", \"bed\", \"bed\", \"bed\", \"bed\", \"bed\", \"bed\", \"bed\", \"beggar\", \"beggar\", \"beggar\", \"behaviour\", \"behaviour\", \"behaviour\", \"behaviour\", \"behaviour\", \"behaviour\", \"behaviour\", \"behaviour\", \"belgian\", \"belgian\", \"belgian\", \"belgian\", \"belles\", \"belles\", \"belles\", \"bench\", \"bench\", \"bench\", \"bench\", \"bench\", \"bench\", \"bench\", \"bennet\", \"bennet\", \"bennet\", \"bennet\", \"bennet\", \"bennets\", \"berkeley\", \"bessie\", \"bessie\", \"bessie\", \"bessie\", \"bessie\", \"better\", \"better\", \"better\", \"better\", \"better\", \"better\", \"better\", \"better\", \"better\", \"better\", \"better\", \"better\", \"better\", \"bewitched\", \"bewitched\", \"bewitched\", \"bien\", \"bien\", \"bien\", \"bien\", \"bingley\", \"bingley\", \"bingley\", \"bingley\", \"bingleys\", \"bingleys\", \"birds\", \"birds\", \"birds\", \"birds\", \"birds\", \"birds\", \"birds\", \"birds\", \"black\", \"black\", \"black\", \"black\", \"black\", \"black\", \"black\", \"black\", \"black\", \"black\", \"blanche\", \"blanche\", \"blanche\", \"blanche\", \"bled\", \"bled\", \"blew\", \"blew\", \"blew\", \"blew\", \"body\", \"body\", \"body\", \"body\", \"body\", \"body\", \"body\", \"body\", \"body\", \"body\", \"body\", \"body\", \"boisterous\", \"boisterous\", \"boisterous\", \"boisterous\", \"bon\", \"bon\", \"bone\", \"bone\", \"bone\", \"bone\", \"bone\", \"bone\", \"bone\", \"bonne\", \"bonne\", \"bonne\", \"bonne\", \"bonnet\", \"bonnet\", \"bonnet\", \"bonnet\", \"bonnet\", \"bonnet\", \"bonnet\", \"bonnet\", \"bonnet\", \"bonnet\", \"bonnet\", \"bonnet\", \"book\", \"book\", \"book\", \"book\", \"book\", \"book\", \"book\", \"book\", \"book\", \"book\", \"book\", \"book\", \"book\", \"book\", \"books\", \"books\", \"books\", \"books\", \"books\", \"books\", \"books\", \"books\", \"books\", \"books\", \"books\", \"books\", \"boundless\", \"boundless\", \"boundless\", \"boundless\", \"bouquet\", \"bouquet\", \"bourgh\", \"bourgh\", \"bourgh\", \"bracelet\", \"bracelet\", \"bracelet\", \"bracelet\", \"bracelets\", \"bracelets\", \"bracelets\", \"bracelets\", \"bragge\", \"braided\", \"braided\", \"braided\", \"braided\", \"braided\", \"brand\", \"brand\", \"brand\", \"brand\", \"brandon\", \"brandon\", \"brandon\", \"brandon\", \"bretton\", \"bretton\", \"bretton\", \"bretton\", \"bretton\", \"bretton\", \"bride\", \"bride\", \"bride\", \"bride\", \"bride\", \"bride\", \"bride\", \"bride\", \"briggs\", \"briggs\", \"briggs\", \"brocklehurst\", \"brocklehurst\", \"brocklehurst\", \"brocklehurst\", \"brocklehurst\", \"brunswick\", \"burns\", \"burns\", \"bush\", \"bush\", \"bush\", \"bust\", \"bust\", \"butler\", \"butler\", \"butler\", \"bye\", \"bye\", \"bye\", \"bye\", \"bye\", \"bye\", \"bye\", \"bye\", \"bye\", \"cabas\", \"came\", \"came\", \"came\", \"came\", \"came\", \"came\", \"came\", \"came\", \"came\", \"came\", \"came\", \"came\", \"came\", \"campbell\", \"campbell\", \"campbell\", \"campbells\", \"campbells\", \"candle\", \"candle\", \"candle\", \"candle\", \"candle\", \"candle\", \"candle\", \"caps\", \"caps\", \"caps\", \"carlo\", \"carlo\", \"caroline\", \"caroline\", \"caroline\", \"caroline\", \"carter\", \"carter\", \"carter\", \"catherine\", \"catherine\", \"catherine\", \"catherine\", \"catherine\", \"certain\", \"certain\", \"certain\", \"certain\", \"certain\", \"certain\", \"certain\", \"certain\", \"certain\", \"certain\", \"certain\", \"certain\", \"chalk\", \"chalk\", \"charade\", \"charade\", \"charade\", \"charles\", \"charles\", \"charles\", \"charles\", \"charles\", \"charlotte\", \"charlotte\", \"charlotte\", \"charlotte\", \"charlotte\", \"charlotte\", \"charlotte\", \"charming\", \"charming\", \"charming\", \"charming\", \"charming\", \"charming\", \"charming\", \"charming\", \"charmingly\", \"charmingly\", \"cheated\", \"cheated\", \"cheated\", \"cheese\", \"cheese\", \"cheese\", \"chestnut\", \"chestnut\", \"chestnut\", \"cholmondeley\", \"cholmondeley\", \"cholmondeley\", \"chooses\", \"chooses\", \"choosing\", \"choosing\", \"christ\", \"christ\", \"christ\", \"christ\", \"churchill\", \"churchill\", \"churchill\", \"churchills\", \"churchills\", \"civility\", \"civility\", \"civility\", \"civility\", \"civility\", \"civility\", \"civility\", \"civility\", \"civility\", \"clear\", \"clear\", \"clear\", \"clear\", \"clear\", \"clear\", \"clear\", \"clear\", \"clear\", \"clear\", \"clear\", \"clear\", \"clear\", \"clenched\", \"clenched\", \"clenched\", \"clenched\", \"cleopatra\", \"clergyman\", \"clergyman\", \"clergyman\", \"clergyman\", \"clergyman\", \"clergyman\", \"clergyman\", \"clergyman\", \"cleveland\", \"cleveland\", \"clothing\", \"clothing\", \"coat\", \"coat\", \"coat\", \"coat\", \"coat\", \"coat\", \"coat\", \"cole\", \"cole\", \"collins\", \"collins\", \"collins\", \"collins\", \"colonel\", \"colonel\", \"colonel\", \"colonel\", \"colonel\", \"colonel\", \"colonel\", \"colonel\", \"colonel\", \"come\", \"come\", \"come\", \"come\", \"come\", \"come\", \"come\", \"come\", \"come\", \"come\", \"come\", \"come\", \"compel\", \"compel\", \"compel\", \"compel\", \"complexion\", \"complexion\", \"complexion\", \"complexion\", \"complexion\", \"complexion\", \"complexion\", \"complexion\", \"complexion\", \"condescension\", \"condescension\", \"condescension\", \"conducting\", \"conducting\", \"conducting\", \"conduit\", \"confessional\", \"congratulation\", \"congratulation\", \"congratulation\", \"congratulation\", \"connexion\", \"consoling\", \"consoling\", \"contemplate\", \"contemplate\", \"contemplate\", \"contemplate\", \"contemplate\", \"contribute\", \"contribute\", \"contribute\", \"contribute\", \"corpse\", \"corpse\", \"corpse\", \"corpse\", \"cottage\", \"cottage\", \"cottage\", \"cottage\", \"cottage\", \"cottage\", \"cottage\", \"cousin\", \"cousin\", \"cousin\", \"cousin\", \"cousin\", \"cousin\", \"cousin\", \"cousin\", \"cox\", \"crib\", \"crib\", \"crib\", \"cried\", \"cried\", \"cried\", \"cried\", \"cried\", \"cried\", \"cried\", \"cried\", \"cried\", \"cried\", \"cried\", \"cried\", \"cried\", \"crimson\", \"crimson\", \"crimson\", \"crimson\", \"crimson\", \"crimsworth\", \"crimsworth\", \"crimsworth\", \"crimsworth\", \"crimsworth\", \"crimsworth\", \"crushing\", \"crushing\", \"darcy\", \"darcy\", \"darcy\", \"darcy\", \"darcy\", \"dared\", \"dared\", \"dared\", \"dared\", \"dared\", \"dared\", \"dared\", \"dared\", \"dared\", \"dared\", \"dared\", \"dared\", \"dared\", \"dark\", \"dark\", \"dark\", \"dark\", \"dark\", \"dark\", \"dark\", \"dark\", \"dark\", \"dark\", \"dark\", \"dashwood\", \"dashwood\", \"dashwood\", \"dashwood\", \"dashwood\", \"dashwoods\", \"dashwoods\", \"dashwoods\", \"daughter\", \"daughter\", \"daughter\", \"daughter\", \"daughter\", \"daughter\", \"daughter\", \"daughter\", \"daughter\", \"daughter\", \"daughter\", \"daughter\", \"daughters\", \"daughters\", \"daughters\", \"daughters\", \"daughters\", \"daughters\", \"daughters\", \"daughters\", \"daughters\", \"day\", \"day\", \"day\", \"day\", \"day\", \"day\", \"day\", \"day\", \"day\", \"day\", \"day\", \"day\", \"day\", \"dead\", \"dead\", \"dead\", \"dead\", \"dead\", \"dead\", \"dead\", \"dead\", \"dead\", \"dead\", \"dead\", \"dear\", \"dear\", \"dear\", \"dear\", \"dear\", \"dear\", \"dear\", \"dear\", \"dear\", \"dear\", \"dear\", \"dearly\", \"dearly\", \"dearly\", \"dearly\", \"dearly\", \"delaford\", \"demanding\", \"demanding\", \"demanding\", \"demanding\", \"demanding\", \"demanding\", \"demanding\", \"dent\", \"dent\", \"dent\", \"derbyshire\", \"derbyshire\", \"desiree\", \"desiree\", \"desperation\", \"desperation\", \"desperation\", \"desperation\", \"desperation\", \"desperation\", \"devonshire\", \"devonshire\", \"devonshire\", \"diana\", \"diana\", \"diana\", \"diana\", \"diana\", \"dimness\", \"disappointing\", \"disappointing\", \"disapproved\", \"disapproved\", \"discarded\", \"discarded\", \"discarded\", \"disk\", \"disk\", \"disk\", \"dismay\", \"dismay\", \"dismay\", \"dismay\", \"dismay\", \"dismay\", \"dispersed\", \"dispersed\", \"dispersed\", \"dispersed\", \"displaying\", \"displaying\", \"displaying\", \"dissatisfaction\", \"dissatisfaction\", \"dissatisfaction\", \"dissatisfaction\", \"donwell\", \"door\", \"door\", \"door\", \"door\", \"door\", \"door\", \"door\", \"door\", \"door\", \"door\", \"door\", \"door\", \"door\", \"dorsetshire\", \"downs\", \"downs\", \"downs\", \"dr\", \"dr\", \"dr\", \"dr\", \"dr\", \"dr\", \"dr\", \"driver\", \"driver\", \"driver\", \"driver\", \"droll\", \"droll\", \"droll\", \"dulness\", \"dulness\", \"dulness\", \"ear\", \"ear\", \"ear\", \"ear\", \"ear\", \"ear\", \"ear\", \"ear\", \"ear\", \"ear\", \"ear\", \"ear\", \"eastern\", \"eastern\", \"eastern\", \"eastern\", \"eastern\", \"edward\", \"edward\", \"edward\", \"edward\", \"edward\", \"edward\", \"edward\", \"edward\", \"edward\", \"edward\", \"effusions\", \"effusions\", \"elbow\", \"elbow\", \"elbow\", \"elbow\", \"elbow\", \"elbow\", \"eligible\", \"eligible\", \"eligible\", \"eligible\", \"eligible\", \"eligible\", \"eligible\", \"elinor\", \"elinor\", \"elinor\", \"elinor\", \"elinor\", \"elizabeth\", \"elizabeth\", \"elizabeth\", \"elizabeth\", \"elizabeth\", \"elizabeth\", \"elizabeth\", \"elizabeth\", \"elopement\", \"elopement\", \"elton\", \"elton\", \"elton\", \"elton\", \"elton\", \"eltons\", \"eltons\", \"emanuel\", \"emanuel\", \"emanuel\", \"emanuel\", \"emanuel\", \"embers\", \"embers\", \"emma\", \"emma\", \"emma\", \"emma\", \"emma\", \"emma\", \"emma\", \"employments\", \"employments\", \"employments\", \"enclosed\", \"enclosed\", \"enclosed\", \"enclosed\", \"enclosed\", \"engagement\", \"engagement\", \"engagement\", \"engagement\", \"engagement\", \"engagement\", \"english\", \"english\", \"english\", \"english\", \"english\", \"english\", \"english\", \"english\", \"english\", \"enquire\", \"enquiries\", \"enquiry\", \"enscombe\", \"enumerating\", \"epistle\", \"eshton\", \"eshton\", \"eshton\", \"est\", \"est\", \"est\", \"est\", \"est\", \"est\", \"et\", \"et\", \"et\", \"et\", \"et\", \"et\", \"eton\", \"eton\", \"eton\", \"eulalie\", \"eulalie\", \"eulalie\", \"eulalie\", \"everybody\", \"everybody\", \"everybody\", \"everybody\", \"everybody\", \"everybody\", \"everybody\", \"everybody\", \"evince\", \"evince\", \"evince\", \"evince\", \"exaggerate\", \"exaggerate\", \"excessively\", \"excessively\", \"excessively\", \"excessively\", \"excessively\", \"excessively\", \"excessively\", \"exclaim\", \"exclaim\", \"exclaim\", \"execute\", \"execute\", \"execute\", \"exeter\", \"exeter\", \"exeter\", \"exists\", \"exists\", \"exists\", \"exists\", \"explaining\", \"explaining\", \"explaining\", \"exposing\", \"exposing\", \"expressive\", \"expressive\", \"expressive\", \"expressive\", \"expressive\", \"expressive\", \"expressive\", \"external\", \"external\", \"external\", \"external\", \"external\", \"eye\", \"eye\", \"eye\", \"eye\", \"eye\", \"eye\", \"eye\", \"eye\", \"eye\", \"eye\", \"eye\", \"eye\", \"eye\", \"eyes\", \"eyes\", \"eyes\", \"eyes\", \"eyes\", \"eyes\", \"eyes\", \"eyes\", \"eyes\", \"eyes\", \"eyes\", \"eyes\", \"eyes\", \"eyre\", \"eyre\", \"eyre\", \"eyre\", \"eyre\", \"eyre\", \"eyre\", \"face\", \"face\", \"face\", \"face\", \"face\", \"face\", \"face\", \"face\", \"face\", \"face\", \"face\", \"face\", \"fade\", \"fagged\", \"fagged\", \"fagged\", \"fairfax\", \"fairfax\", \"fairfax\", \"fairfax\", \"fairfax\", \"fairfax\", \"fairfax\", \"fairfax\", \"fairfax\", \"fairfax\", \"fairfax\", \"family\", \"family\", \"family\", \"family\", \"family\", \"family\", \"family\", \"family\", \"family\", \"family\", \"family\", \"family\", \"fanny\", \"fanny\", \"fantastic\", \"fantastic\", \"farthest\", \"farthest\", \"farthest\", \"farthest\", \"father\", \"father\", \"father\", \"father\", \"father\", \"father\", \"father\", \"father\", \"father\", \"father\", \"father\", \"father\", \"faubourg\", \"favourites\", \"favourites\", \"favourites\", \"feather\", \"feather\", \"feather\", \"feather\", \"feather\", \"features\", \"features\", \"features\", \"features\", \"features\", \"features\", \"features\", \"features\", \"features\", \"features\", \"felt\", \"felt\", \"felt\", \"felt\", \"felt\", \"felt\", \"felt\", \"felt\", \"felt\", \"felt\", \"felt\", \"felt\", \"ferrars\", \"ferrars\", \"fields\", \"fields\", \"fields\", \"fields\", \"fields\", \"fiend\", \"fiend\", \"fiend\", \"fiend\", \"fifine\", \"fireplace\", \"fireplace\", \"fireplace\", \"fitzwilliam\", \"fitzwilliam\", \"flamand\", \"flamand\", \"flamand\", \"flint\", \"flint\", \"flint\", \"flint\", \"flock\", \"flock\", \"flock\", \"flock\", \"flowery\", \"flowery\", \"ford\", \"ford\", \"forget\", \"forget\", \"forget\", \"forget\", \"forget\", \"forget\", \"forget\", \"forget\", \"forget\", \"forget\", \"forget\", \"forget\", \"form\", \"form\", \"form\", \"form\", \"form\", \"form\", \"form\", \"form\", \"form\", \"form\", \"form\", \"form\", \"forster\", \"forster\", \"forster\", \"fossette\", \"fossette\", \"fossette\", \"fossette\", \"frances\", \"frances\", \"frances\", \"frank\", \"frank\", \"frank\", \"frank\", \"frank\", \"frank\", \"frank\", \"frank\", \"frantic\", \"frantic\", \"frantic\", \"frantic\", \"frantic\", \"frantic\", \"frenzy\", \"frenzy\", \"frenzy\", \"frenzy\", \"friend\", \"friend\", \"friend\", \"friend\", \"friend\", \"friend\", \"friend\", \"friend\", \"friend\", \"friend\", \"friend\", \"frock\", \"frocks\", \"frocks\", \"fury\", \"fury\", \"fury\", \"fury\", \"fury\", \"fury\", \"fury\", \"gallery\", \"gallery\", \"gallery\", \"garcon\", \"garcon\", \"gardiner\", \"gardiner\", \"gardiners\", \"gasped\", \"gasped\", \"gateshead\", \"gateshead\", \"gateshead\", \"gateshead\", \"gems\", \"gems\", \"gems\", \"gentlemen\", \"gentlemen\", \"gentlemen\", \"gentlemen\", \"gentlemen\", \"gentlemen\", \"gentlemen\", \"gentlemen\", \"gentlemen\", \"gentlemen\", \"gentlemen\", \"georgette\", \"georgiana\", \"georgiana\", \"georgiana\", \"georgiana\", \"georgiana\", \"georgiana\", \"german\", \"german\", \"german\", \"german\", \"german\", \"german\", \"ghosts\", \"ghosts\", \"ginevra\", \"ginevra\", \"ginevra\", \"ginevra\", \"girdle\", \"girdle\", \"girdle\", \"girdle\", \"god\", \"god\", \"god\", \"god\", \"god\", \"god\", \"god\", \"god\", \"god\", \"god\", \"god\", \"god\", \"goddard\", \"goddard\", \"godmother\", \"godmother\", \"going\", \"going\", \"going\", \"going\", \"going\", \"going\", \"going\", \"going\", \"going\", \"going\", \"going\", \"going\", \"good\", \"good\", \"good\", \"good\", \"good\", \"good\", \"good\", \"good\", \"good\", \"good\", \"good\", \"good\", \"got\", \"got\", \"got\", \"got\", \"got\", \"got\", \"got\", \"got\", \"got\", \"got\", \"got\", \"got\", \"got\", \"gracechurch\", \"gracechurch\", \"graham\", \"graham\", \"graham\", \"graham\", \"grandmama\", \"grandmama\", \"great\", \"great\", \"great\", \"great\", \"great\", \"great\", \"great\", \"great\", \"great\", \"great\", \"great\", \"great\", \"great\", \"grec\", \"grec\", \"grec\", \"grec\", \"grisette\", \"gross\", \"gross\", \"gruel\", \"gruel\", \"gruel\", \"hair\", \"hair\", \"hair\", \"hair\", \"hair\", \"hair\", \"hair\", \"hair\", \"hair\", \"hair\", \"hair\", \"haired\", \"haired\", \"hall\", \"hall\", \"hall\", \"hall\", \"hall\", \"hall\", \"hall\", \"hall\", \"hall\", \"hall\", \"hall\", \"hamal\", \"hamal\", \"hamlet\", \"hamlet\", \"hand\", \"hand\", \"hand\", \"hand\", \"hand\", \"hand\", \"hand\", \"hand\", \"hand\", \"hand\", \"hand\", \"hand\", \"hand\", \"handled\", \"handled\", \"handled\", \"hangings\", \"hangings\", \"hangings\", \"hangings\", \"hangings\", \"hangings\", \"hannah\", \"hannah\", \"hannah\", \"hannah\", \"hannah\", \"happens\", \"happens\", \"happens\", \"happens\", \"happens\", \"hard\", \"hard\", \"hard\", \"hard\", \"hard\", \"hard\", \"hard\", \"hard\", \"hard\", \"hard\", \"hard\", \"hard\", \"harley\", \"harley\", \"harriet\", \"harriet\", \"harriet\", \"harriet\", \"harriet\", \"harriet\", \"harriet\", \"harriet\", \"hartfield\", \"hartfield\", \"hartfield\", \"hawkins\", \"hawkins\", \"hay\", \"hay\", \"hay\", \"hay\", \"hay\", \"head\", \"head\", \"head\", \"head\", \"head\", \"head\", \"head\", \"head\", \"head\", \"head\", \"head\", \"head\", \"heads\", \"heads\", \"heads\", \"heads\", \"hear\", \"hear\", \"hear\", \"hear\", \"hear\", \"hear\", \"hear\", \"hear\", \"hear\", \"hear\", \"hear\", \"hear\", \"heard\", \"heard\", \"heard\", \"heard\", \"heard\", \"heard\", \"heard\", \"heard\", \"heard\", \"heard\", \"heard\", \"heard\", \"heard\", \"heart\", \"heart\", \"heart\", \"heart\", \"heart\", \"heart\", \"heart\", \"heart\", \"heart\", \"heart\", \"heart\", \"heart\", \"heart\", \"helen\", \"helen\", \"henri\", \"henri\", \"henri\", \"henri\", \"henri\", \"herd\", \"herd\", \"hertfordshire\", \"hertfordshire\", \"highbury\", \"highbury\", \"highbury\", \"hills\", \"hills\", \"hills\", \"hills\", \"hills\", \"hills\", \"hills\", \"hills\", \"hope\", \"hope\", \"hope\", \"hope\", \"hope\", \"hope\", \"hope\", \"hope\", \"hope\", \"hope\", \"hope\", \"hope\", \"horrid\", \"horrid\", \"horrid\", \"horrid\", \"horrid\", \"horse\", \"horse\", \"horse\", \"horse\", \"horse\", \"horse\", \"horse\", \"horse\", \"horse\", \"horse\", \"house\", \"house\", \"house\", \"house\", \"house\", \"house\", \"house\", \"house\", \"house\", \"house\", \"house\", \"house\", \"hunsden\", \"hunsden\", \"hunsden\", \"hunsden\", \"hunsford\", \"hunsford\", \"hurst\", \"hurst\", \"hurst\", \"icy\", \"imitation\", \"imitation\", \"imitation\", \"impediment\", \"impediment\", \"impediment\", \"impediment\", \"impressive\", \"impressive\", \"impressive\", \"improper\", \"improper\", \"improper\", \"impudence\", \"impudence\", \"impudence\", \"impudence\", \"inconsiderable\", \"inconsiderable\", \"india\", \"india\", \"india\", \"india\", \"indian\", \"indian\", \"indian\", \"indian\", \"indian\", \"indian\", \"indian\", \"indignant\", \"indignant\", \"indignant\", \"indignant\", \"indignant\", \"indignant\", \"indignant\", \"infirm\", \"infirm\", \"ingram\", \"ingram\", \"ingram\", \"ingram\", \"ingram\", \"ingram\", \"ingram\", \"injure\", \"injure\", \"injure\", \"insuperable\", \"insuperable\", \"insuperable\", \"insuperable\", \"intellectual\", \"intellectual\", \"intellectual\", \"intellectual\", \"interfere\", \"interfere\", \"interfere\", \"interrupting\", \"interrupting\", \"interrupting\", \"interrupting\", \"interruption\", \"interruption\", \"interruption\", \"interruption\", \"invitations\", \"invitations\", \"invitations\", \"irritating\", \"irritating\", \"irritating\", \"isabella\", \"jamaica\", \"jamaica\", \"jamaica\", \"jane\", \"jane\", \"jane\", \"jane\", \"jane\", \"jane\", \"jane\", \"jane\", \"jane\", \"jane\", \"jane\", \"jane\", \"janet\", \"janet\", \"janet\", \"je\", \"je\", \"je\", \"je\", \"je\", \"je\", \"jenkinson\", \"jenkinson\", \"jennings\", \"jennings\", \"jennings\", \"jennings\", \"jetty\", \"jetty\", \"jetty\", \"job\", \"job\", \"job\", \"john\", \"john\", \"john\", \"john\", \"john\", \"john\", \"john\", \"john\", \"john\", \"john\", \"john\", \"josef\", \"josef\", \"judgement\", \"judgement\", \"kent\", \"kent\", \"kings\", \"kings\", \"kings\", \"kings\", \"kings\", \"kissed\", \"kissed\", \"kissed\", \"kissed\", \"kissed\", \"kissed\", \"kissed\", \"kissed\", \"kissed\", \"kitty\", \"kitty\", \"kitty\", \"knew\", \"knew\", \"knew\", \"knew\", \"knew\", \"knew\", \"knew\", \"knew\", \"knew\", \"knew\", \"knew\", \"knew\", \"knew\", \"knightley\", \"knightley\", \"knightley\", \"know\", \"know\", \"know\", \"know\", \"know\", \"know\", \"know\", \"know\", \"know\", \"know\", \"know\", \"know\", \"knowing\", \"knowing\", \"knowing\", \"knowing\", \"knowing\", \"knowing\", \"knowing\", \"knowing\", \"knowing\", \"la\", \"la\", \"la\", \"la\", \"la\", \"la\", \"la\", \"la\", \"la\", \"lad\", \"lad\", \"lad\", \"ladies\", \"ladies\", \"ladies\", \"ladies\", \"ladies\", \"ladies\", \"ladies\", \"ladies\", \"ladies\", \"ladies\", \"ladies\", \"lady\", \"lady\", \"lady\", \"lady\", \"lady\", \"lady\", \"lady\", \"lady\", \"lady\", \"lady\", \"lady\", \"lady\", \"ladyship\", \"ladyship\", \"ladyship\", \"ladyship\", \"ladyship\", \"lamb\", \"lamb\", \"lamb\", \"lamb\", \"lamb\", \"lambton\", \"lambton\", \"landlord\", \"landlord\", \"lanes\", \"lanes\", \"lanes\", \"lanes\", \"large\", \"large\", \"large\", \"large\", \"large\", \"large\", \"large\", \"large\", \"large\", \"large\", \"large\", \"large\", \"leah\", \"leah\", \"leah\", \"leant\", \"leant\", \"leant\", \"leant\", \"leave\", \"leave\", \"leave\", \"leave\", \"leave\", \"leave\", \"leave\", \"leave\", \"leave\", \"leave\", \"leave\", \"leave\", \"leaven\", \"leaven\", \"left\", \"left\", \"left\", \"left\", \"left\", \"left\", \"left\", \"left\", \"left\", \"left\", \"left\", \"left\", \"left\", \"les\", \"les\", \"les\", \"les\", \"les\", \"les\", \"letter\", \"letter\", \"letter\", \"letter\", \"letter\", \"letter\", \"letter\", \"letter\", \"letter\", \"letter\", \"letter\", \"liar\", \"liar\", \"liar\", \"lids\", \"lids\", \"life\", \"life\", \"life\", \"life\", \"life\", \"life\", \"life\", \"life\", \"life\", \"life\", \"life\", \"life\", \"light\", \"light\", \"light\", \"light\", \"light\", \"light\", \"light\", \"light\", \"light\", \"light\", \"light\", \"light\", \"like\", \"like\", \"like\", \"like\", \"like\", \"like\", \"like\", \"like\", \"like\", \"like\", \"like\", \"like\", \"lips\", \"lips\", \"lips\", \"lips\", \"lips\", \"lips\", \"lips\", \"lips\", \"lips\", \"lips\", \"lips\", \"lips\", \"lisp\", \"little\", \"little\", \"little\", \"little\", \"little\", \"little\", \"little\", \"little\", \"little\", \"little\", \"little\", \"little\", \"little\", \"lizzy\", \"lizzy\", \"lizzy\", \"lizzy\", \"ll\", \"ll\", \"ll\", \"ll\", \"ll\", \"ll\", \"ll\", \"ll\", \"ll\", \"ll\", \"lloyd\", \"lloyd\", \"long\", \"long\", \"long\", \"long\", \"long\", \"long\", \"long\", \"long\", \"long\", \"long\", \"long\", \"long\", \"long\", \"longbourn\", \"longbourn\", \"longbourn\", \"longstaple\", \"look\", \"look\", \"look\", \"look\", \"look\", \"look\", \"look\", \"look\", \"look\", \"look\", \"look\", \"look\", \"look\", \"looked\", \"looked\", \"looked\", \"looked\", \"looked\", \"looked\", \"looked\", \"looked\", \"looked\", \"looked\", \"looked\", \"looked\", \"love\", \"love\", \"love\", \"love\", \"love\", \"love\", \"love\", \"love\", \"love\", \"love\", \"love\", \"love\", \"low\", \"low\", \"low\", \"low\", \"low\", \"low\", \"low\", \"low\", \"low\", \"low\", \"low\", \"low\", \"lowood\", \"lowood\", \"lowood\", \"lowood\", \"lowood\", \"lowood\", \"lowood\", \"lucas\", \"lucas\", \"lucases\", \"luckless\", \"luckless\", \"luckless\", \"lucy\", \"lucy\", \"lucy\", \"lucy\", \"lucy\", \"lucy\", \"lucy\", \"ludicrous\", \"ludicrous\", \"ludicrous\", \"luminous\", \"luminous\", \"lunatic\", \"lunatic\", \"lunatic\", \"lydia\", \"lydia\", \"lydia\", \"lynn\", \"lynn\", \"lynn\", \"madame\", \"madame\", \"madame\", \"madame\", \"madame\", \"madame\", \"madame\", \"madame\", \"madeira\", \"madeira\", \"madeira\", \"mademoiselle\", \"mademoiselle\", \"mademoiselle\", \"mademoiselle\", \"mademoiselle\", \"mademoiselle\", \"mais\", \"mais\", \"mais\", \"mais\", \"majestic\", \"majestic\", \"majestic\", \"mama\", \"mama\", \"mama\", \"mama\", \"mama\", \"mama\", \"mama\", \"man\", \"man\", \"man\", \"man\", \"man\", \"man\", \"man\", \"man\", \"man\", \"man\", \"man\", \"man\", \"man\", \"maniac\", \"maniac\", \"maple\", \"margaret\", \"margaret\", \"margaret\", \"maria\", \"maria\", \"maria\", \"maria\", \"marianne\", \"marianne\", \"marianne\", \"marianne\", \"marianne\", \"marsh\", \"marsh\", \"martin\", \"martin\", \"martins\", \"mary\", \"mary\", \"mary\", \"mary\", \"mary\", \"mary\", \"mary\", \"mary\", \"mary\", \"mary\", \"mason\", \"mason\", \"mason\", \"mason\", \"mason\", \"mason\", \"mason\", \"master\", \"master\", \"master\", \"master\", \"master\", \"master\", \"master\", \"master\", \"master\", \"master\", \"master\", \"mdlle\", \"mdlle\", \"mdlle\", \"mdlle\", \"mdlle\", \"mdlle\", \"meditating\", \"meditating\", \"meditating\", \"meditating\", \"meryton\", \"meryton\", \"mesdemoiselles\", \"mesdemoiselles\", \"mesdemoiselles\", \"middleton\", \"middleton\", \"middleton\", \"middleton\", \"middletons\", \"middletons\", \"middletons\", \"miller\", \"miller\", \"mind\", \"mind\", \"mind\", \"mind\", \"mind\", \"mind\", \"mind\", \"mind\", \"mind\", \"mind\", \"mind\", \"mind\", \"miserably\", \"miserably\", \"miserably\", \"miss\", \"miss\", \"miss\", \"miss\", \"miss\", \"miss\", \"miss\", \"miss\", \"miss\", \"miss\", \"miss\", \"miss\", \"miss\", \"missionary\", \"missionary\", \"missionary\", \"moi\", \"moi\", \"moi\", \"moi\", \"moment\", \"moment\", \"moment\", \"moment\", \"moment\", \"moment\", \"moment\", \"moment\", \"moment\", \"moment\", \"moment\", \"moment\", \"mon\", \"mon\", \"monsieur\", \"monsieur\", \"monsieur\", \"monsieur\", \"monsieur\", \"monsieur\", \"monsieur\", \"moon\", \"moon\", \"moon\", \"moon\", \"moon\", \"moon\", \"moon\", \"moon\", \"moor\", \"moor\", \"moor\", \"moor\", \"moorland\", \"moorland\", \"moors\", \"moors\", \"moors\", \"morals\", \"morals\", \"morning\", \"morning\", \"morning\", \"morning\", \"morning\", \"morning\", \"morning\", \"morning\", \"morning\", \"morning\", \"morning\", \"morning\", \"mother\", \"mother\", \"mother\", \"mother\", \"mother\", \"mother\", \"mother\", \"mother\", \"mother\", \"mother\", \"mother\", \"mother\", \"motives\", \"motives\", \"motives\", \"motives\", \"motives\", \"motives\", \"motives\", \"motives\", \"moulded\", \"moulded\", \"mug\", \"mug\", \"narrated\", \"ne\", \"ne\", \"ne\", \"ne\", \"ne\", \"ne\", \"neck\", \"neck\", \"neck\", \"neck\", \"neck\", \"neck\", \"neck\", \"neck\", \"netherfield\", \"netherfield\", \"news\", \"news\", \"news\", \"news\", \"news\", \"news\", \"news\", \"news\", \"news\", \"news\", \"news\", \"night\", \"night\", \"night\", \"night\", \"night\", \"night\", \"night\", \"night\", \"night\", \"night\", \"night\", \"night\", \"nodded\", \"nodded\", \"nodded\", \"nodded\", \"nodded\", \"nodded\", \"norland\", \"norland\", \"norland\", \"nursery\", \"nursery\", \"nursery\", \"nursery\", \"nursery\", \"obeying\", \"obeying\", \"obeying\", \"obligations\", \"obligations\", \"obligations\", \"obliging\", \"obliging\", \"obliging\", \"obliging\", \"obliging\", \"obliging\", \"obliging\", \"obliging\", \"october\", \"october\", \"october\", \"october\", \"october\", \"october\", \"october\", \"odour\", \"odour\", \"officers\", \"officers\", \"official\", \"official\", \"oh\", \"oh\", \"oh\", \"oh\", \"oh\", \"oh\", \"oh\", \"oh\", \"oh\", \"oh\", \"oh\", \"oh\", \"old\", \"old\", \"old\", \"old\", \"old\", \"old\", \"old\", \"old\", \"old\", \"old\", \"old\", \"old\", \"oliver\", \"oliver\", \"oliver\", \"oliver\", \"orchard\", \"orchard\", \"orchard\", \"orchard\", \"orchard\", \"ordeal\", \"outlet\", \"pale\", \"pale\", \"pale\", \"pale\", \"pale\", \"pale\", \"pale\", \"pale\", \"pale\", \"pale\", \"pale\", \"palmer\", \"palmer\", \"palmers\", \"papa\", \"papa\", \"papa\", \"papa\", \"papa\", \"papa\", \"paper\", \"paper\", \"paper\", \"paper\", \"paper\", \"paper\", \"paper\", \"paper\", \"paper\", \"paper\", \"paper\", \"parade\", \"parade\", \"parade\", \"parallel\", \"parsonage\", \"parsonage\", \"parsonage\", \"parsonage\", \"pas\", \"pas\", \"pas\", \"pas\", \"pas\", \"pas\", \"patrician\", \"patty\", \"patty\", \"paul\", \"paul\", \"paul\", \"paul\", \"paul\", \"paul\", \"paul\", \"paulina\", \"paulina\", \"paulina\", \"peaceful\", \"pelet\", \"pelet\", \"pelet\", \"pelet\", \"pelet\", \"pelet\", \"pelet\", \"pemberley\", \"pemberley\", \"perched\", \"perched\", \"pere\", \"pere\", \"pere\", \"perfumed\", \"perfumed\", \"perry\", \"perry\", \"perry\", \"persevered\", \"persevered\", \"persevered\", \"persevered\", \"persevered\", \"persevered\", \"petition\", \"petition\", \"petty\", \"petty\", \"petty\", \"phillips\", \"phillips\", \"philosophy\", \"philosophy\", \"philosophy\", \"picture\", \"picture\", \"picture\", \"picture\", \"picture\", \"picture\", \"picture\", \"picture\", \"picture\", \"picture\", \"pictures\", \"pictures\", \"pictures\", \"pictures\", \"pictures\", \"pictures\", \"pictures\", \"pictures\", \"pictures\", \"pilot\", \"pilot\", \"pilot\", \"pilot\", \"pilot\", \"piquant\", \"piquant\", \"place\", \"place\", \"place\", \"place\", \"place\", \"place\", \"place\", \"place\", \"place\", \"place\", \"place\", \"place\", \"platform\", \"platform\", \"platform\", \"platform\", \"playfulness\", \"playfulness\", \"playfulness\", \"pleasantest\", \"pleasantest\", \"pleasantest\", \"pleasantest\", \"pleasure\", \"pleasure\", \"pleasure\", \"pleasure\", \"pleasure\", \"pleasure\", \"pleasure\", \"pleasure\", \"pleasure\", \"pleasure\", \"pleasure\", \"pleasure\", \"plus\", \"plymouth\", \"poison\", \"poison\", \"poison\", \"poison\", \"poisoned\", \"poisoned\", \"poisoned\", \"poisoned\", \"politely\", \"politely\", \"politely\", \"politely\", \"politely\", \"politely\", \"polly\", \"polly\", \"polly\", \"pony\", \"poole\", \"poole\", \"poole\", \"poole\", \"poole\", \"poole\", \"population\", \"porcelain\", \"porridge\", \"porridge\", \"porter\", \"porter\", \"porter\", \"portmanteau\", \"portmanteau\", \"portress\", \"potatoes\", \"preaching\", \"preaching\", \"presentiment\", \"pretended\", \"pretended\", \"pretended\", \"prevailing\", \"prevailing\", \"prior\", \"process\", \"process\", \"process\", \"process\", \"professional\", \"professional\", \"prose\", \"prose\", \"prose\", \"prove\", \"prove\", \"prove\", \"prove\", \"prove\", \"prove\", \"prove\", \"prove\", \"prove\", \"prove\", \"pupils\", \"pupils\", \"pupils\", \"pupils\", \"pupils\", \"pupils\", \"pupils\", \"pupils\", \"pupils\", \"purchases\", \"purchases\", \"purchases\", \"quaint\", \"que\", \"que\", \"que\", \"que\", \"que\", \"que\", \"que\", \"quest\", \"quest\", \"quest\", \"quest\", \"quest\", \"quickened\", \"quickened\", \"quickened\", \"rain\", \"rain\", \"rain\", \"rain\", \"rain\", \"rain\", \"rain\", \"rain\", \"rain\", \"rain\", \"rainbow\", \"rainbow\", \"rainbow\", \"rainbow\", \"ran\", \"ran\", \"ran\", \"ran\", \"ran\", \"ran\", \"ran\", \"ran\", \"ran\", \"ran\", \"ran\", \"randalls\", \"randalls\", \"randalls\", \"read\", \"read\", \"read\", \"read\", \"read\", \"read\", \"read\", \"read\", \"read\", \"read\", \"read\", \"read\", \"read\", \"reader\", \"reader\", \"reader\", \"reader\", \"reader\", \"reader\", \"reader\", \"reader\", \"reader\", \"reading\", \"reading\", \"reading\", \"reading\", \"reading\", \"reading\", \"reading\", \"reading\", \"reading\", \"reading\", \"reading\", \"reading\", \"reading\", \"reasonable\", \"reasonable\", \"reasonable\", \"reasonable\", \"reasonable\", \"reasonable\", \"reasonable\", \"reasonable\", \"reasonable\", \"receding\", \"receding\", \"receding\", \"reed\", \"reed\", \"reed\", \"reed\", \"reed\", \"reed\", \"reed\", \"refreshing\", \"refreshing\", \"refreshing\", \"regiment\", \"regiment\", \"regiment\", \"regiment\", \"reliant\", \"rendering\", \"rendering\", \"rendering\", \"rendering\", \"replied\", \"replied\", \"replied\", \"replied\", \"replied\", \"replied\", \"replied\", \"replied\", \"replied\", \"replied\", \"replied\", \"replied\", \"replying\", \"replying\", \"replying\", \"replying\", \"replying\", \"reuter\", \"reuter\", \"reuter\", \"reuter\", \"reuter\", \"riddle\", \"riddle\", \"riddle\", \"riddle\", \"riddle\", \"right\", \"right\", \"right\", \"right\", \"right\", \"right\", \"right\", \"right\", \"right\", \"right\", \"right\", \"right\", \"right\", \"ringlets\", \"ringlets\", \"rivers\", \"rivers\", \"rivers\", \"rivers\", \"rivers\", \"rivers\", \"rivet\", \"rivet\", \"rivet\", \"road\", \"road\", \"road\", \"road\", \"road\", \"road\", \"road\", \"road\", \"road\", \"road\", \"robe\", \"robe\", \"robe\", \"robe\", \"robe\", \"robe\", \"rochester\", \"rochester\", \"rochester\", \"rochester\", \"rochester\", \"rochester\", \"rochester\", \"rochester\", \"roman\", \"roman\", \"roman\", \"romantic\", \"romantic\", \"romantic\", \"romantic\", \"romantic\", \"room\", \"room\", \"room\", \"room\", \"room\", \"room\", \"room\", \"room\", \"room\", \"room\", \"room\", \"room\", \"room\", \"rosamond\", \"rosamond\", \"rosamond\", \"rosine\", \"rosine\", \"rosings\", \"rosings\", \"round\", \"round\", \"round\", \"round\", \"round\", \"round\", \"round\", \"round\", \"round\", \"round\", \"round\", \"round\", \"rue\", \"rue\", \"rue\", \"rue\", \"ruined\", \"ruined\", \"ruined\", \"ruined\", \"ruined\", \"sais\", \"sais\", \"sais\", \"salon\", \"salon\", \"sat\", \"sat\", \"sat\", \"sat\", \"sat\", \"sat\", \"sat\", \"sat\", \"sat\", \"sat\", \"sat\", \"sat\", \"sat\", \"saw\", \"saw\", \"saw\", \"saw\", \"saw\", \"saw\", \"saw\", \"saw\", \"saw\", \"saw\", \"saw\", \"saw\", \"saxon\", \"scarcely\", \"scarcely\", \"scarcely\", \"scarcely\", \"scarcely\", \"scarcely\", \"scarcely\", \"scarcely\", \"scarcely\", \"scarcely\", \"scarcely\", \"scarcely\", \"scarcely\", \"scarf\", \"scarf\", \"scarf\", \"scarf\", \"scarf\", \"scarf\", \"scatcherd\", \"scholars\", \"scholars\", \"scholars\", \"schoolroom\", \"schoolroom\", \"schoolroom\", \"schoolroom\", \"schoolroom\", \"schoolroom\", \"schoolroom\", \"scowled\", \"scowled\", \"scowled\", \"scowled\", \"scowled\", \"screen\", \"screen\", \"screen\", \"screen\", \"screen\", \"screen\", \"screen\", \"screen\", \"screen\", \"seacombe\", \"seacombe\", \"seclusion\", \"seclusion\", \"seclusion\", \"seclusion\", \"seclusion\", \"selina\", \"seraph\", \"shadowed\", \"shall\", \"shall\", \"shall\", \"shall\", \"shall\", \"shall\", \"shall\", \"shall\", \"shall\", \"shall\", \"shall\", \"shall\", \"shape\", \"shape\", \"shape\", \"shape\", \"shape\", \"shape\", \"shape\", \"shape\", \"shape\", \"shilling\", \"shilling\", \"shilling\", \"shilling\", \"shoulder\", \"shoulder\", \"shoulder\", \"shoulder\", \"shoulder\", \"shoulder\", \"shoulder\", \"shoulder\", \"showed\", \"showed\", \"showed\", \"showed\", \"showed\", \"showed\", \"showed\", \"showed\", \"showed\", \"showed\", \"showers\", \"showers\", \"showers\", \"shrank\", \"shrank\", \"shrank\", \"shrank\", \"sickly\", \"sickly\", \"sickly\", \"sickly\", \"simultaneously\", \"simultaneously\", \"simultaneously\", \"simultaneously\", \"sir\", \"sir\", \"sir\", \"sir\", \"sir\", \"sir\", \"sir\", \"sir\", \"sir\", \"sir\", \"sir\", \"sir\", \"sister\", \"sister\", \"sister\", \"sister\", \"sister\", \"sister\", \"sister\", \"sister\", \"sister\", \"sister\", \"sister\", \"sisters\", \"sisters\", \"sisters\", \"sisters\", \"sisters\", \"sisters\", \"sisters\", \"sisters\", \"sisters\", \"sisters\", \"sisters\", \"sisters\", \"skirt\", \"sky\", \"sky\", \"sky\", \"sky\", \"sky\", \"sky\", \"sky\", \"sky\", \"sky\", \"sky\", \"slid\", \"slid\", \"slid\", \"slope\", \"slope\", \"slope\", \"slope\", \"sloping\", \"sloping\", \"sloping\", \"smallridge\", \"smith\", \"smith\", \"smith\", \"smith\", \"smith\", \"smoke\", \"smoke\", \"smoke\", \"snowe\", \"snowe\", \"snowe\", \"snowe\", \"snowy\", \"snowy\", \"sob\", \"sob\", \"sob\", \"sofas\", \"sofas\", \"sofas\", \"solely\", \"solely\", \"solely\", \"soon\", \"soon\", \"soon\", \"soon\", \"soon\", \"soon\", \"soon\", \"soon\", \"soon\", \"soon\", \"soon\", \"soon\", \"soon\", \"sophie\", \"sophie\", \"sophie\", \"sophie\", \"sophie\", \"sought\", \"sought\", \"sought\", \"sought\", \"sought\", \"sought\", \"sought\", \"sought\", \"sought\", \"sought\", \"soup\", \"soup\", \"soup\", \"specimens\", \"specimens\", \"speck\", \"speck\", \"spectacles\", \"spectacles\", \"spectacles\", \"spectacles\", \"spectacles\", \"spectacles\", \"spectacles\", \"spectacles\", \"sped\", \"spirits\", \"spirits\", \"spirits\", \"spirits\", \"spirits\", \"spirits\", \"spirits\", \"spirits\", \"spirits\", \"spirits\", \"split\", \"split\", \"split\", \"split\", \"spoiling\", \"sprain\", \"sprite\", \"st\", \"st\", \"st\", \"st\", \"st\", \"st\", \"st\", \"st\", \"st\", \"st\", \"st\", \"st\", \"steele\", \"steele\", \"steeles\", \"steeles\", \"stole\", \"stole\", \"stole\", \"stole\", \"stole\", \"stole\", \"stone\", \"stone\", \"stone\", \"stone\", \"stone\", \"stone\", \"stone\", \"stone\", \"stone\", \"stone\", \"stones\", \"stones\", \"stones\", \"stood\", \"stood\", \"stood\", \"stood\", \"stood\", \"stood\", \"stood\", \"stood\", \"stood\", \"stood\", \"stood\", \"stood\", \"storey\", \"storey\", \"storey\", \"strayed\", \"strayed\", \"streaming\", \"streaming\", \"streaming\", \"stretch\", \"stretch\", \"stretch\", \"stretch\", \"strings\", \"strings\", \"stubborn\", \"stubborn\", \"stubborn\", \"stubborn\", \"studious\", \"studious\", \"studious\", \"subdue\", \"subdue\", \"subdue\", \"substitute\", \"substitute\", \"substitute\", \"substitute\", \"substitute\", \"substitute\", \"suckling\", \"suggesting\", \"suggesting\", \"suggesting\", \"summits\", \"sunk\", \"sunk\", \"sunk\", \"sunk\", \"sunk\", \"sunk\", \"sunk\", \"sunk\", \"sunk\", \"supposition\", \"supposition\", \"sure\", \"sure\", \"sure\", \"sure\", \"sure\", \"sure\", \"sure\", \"sure\", \"sure\", \"sure\", \"sure\", \"sure\", \"surprising\", \"surprising\", \"surprising\", \"surprize\", \"surprized\", \"surprized\", \"surry\", \"surveying\", \"surveying\", \"surveying\", \"surveying\", \"swear\", \"swear\", \"swear\", \"swear\", \"sylvie\", \"sylvie\", \"sylvie\", \"sylvie\", \"sylvie\", \"table\", \"table\", \"table\", \"table\", \"table\", \"table\", \"table\", \"table\", \"table\", \"table\", \"table\", \"table\", \"table\", \"tablet\", \"tablet\", \"talented\", \"talented\", \"talented\", \"talented\", \"taylor\", \"taylor\", \"tedious\", \"tedious\", \"tedious\", \"tedious\", \"tell\", \"tell\", \"tell\", \"tell\", \"tell\", \"tell\", \"tell\", \"tell\", \"tell\", \"tell\", \"tell\", \"tell\", \"temperature\", \"temperature\", \"temperature\", \"temperature\", \"temple\", \"temple\", \"temple\", \"temple\", \"temple\", \"temple\", \"temple\", \"tenant\", \"tenant\", \"tenant\", \"tenant\", \"thing\", \"thing\", \"thing\", \"thing\", \"thing\", \"thing\", \"thing\", \"thing\", \"thing\", \"thing\", \"thing\", \"thing\", \"think\", \"think\", \"think\", \"think\", \"think\", \"think\", \"think\", \"think\", \"think\", \"think\", \"think\", \"think\", \"think\", \"thornfield\", \"thornfield\", \"thornfield\", \"thornfield\", \"thornfield\", \"thornfield\", \"thornfield\", \"thornfield\", \"thought\", \"thought\", \"thought\", \"thought\", \"thought\", \"thought\", \"thought\", \"thought\", \"thought\", \"thought\", \"thought\", \"thought\", \"thousand\", \"thousand\", \"thousand\", \"thousand\", \"thousand\", \"thousand\", \"thousand\", \"thousand\", \"thousand\", \"thousand\", \"thousand\", \"thousand\", \"throb\", \"tiger\", \"tiger\", \"tiger\", \"time\", \"time\", \"time\", \"time\", \"time\", \"time\", \"time\", \"time\", \"time\", \"time\", \"time\", \"time\", \"time\", \"timon\", \"tints\", \"tints\", \"tints\", \"tints\", \"toil\", \"toil\", \"toil\", \"toil\", \"toil\", \"told\", \"told\", \"told\", \"told\", \"told\", \"told\", \"told\", \"told\", \"told\", \"told\", \"told\", \"told\", \"tolerate\", \"tolerate\", \"tomorrow\", \"tomorrow\", \"tomorrow\", \"took\", \"took\", \"took\", \"took\", \"took\", \"took\", \"took\", \"took\", \"took\", \"took\", \"took\", \"took\", \"took\", \"torn\", \"torn\", \"torn\", \"torn\", \"torn\", \"torn\", \"torn\", \"tout\", \"tout\", \"tout\", \"towers\", \"towers\", \"towers\", \"town\", \"town\", \"town\", \"town\", \"town\", \"town\", \"town\", \"town\", \"town\", \"town\", \"town\", \"tractable\", \"tractable\", \"tractable\", \"tragedy\", \"tragedy\", \"translation\", \"translation\", \"translation\", \"translation\", \"trunk\", \"trunk\", \"trunk\", \"trunk\", \"trunk\", \"truthful\", \"truthful\", \"truthful\", \"tynedale\", \"unceasing\", \"uncles\", \"uncles\", \"uncles\", \"unconsciously\", \"unconsciously\", \"unconsciously\", \"unconsciously\", \"unfortunate\", \"unfortunate\", \"unfortunate\", \"ungenerous\", \"ungenerous\", \"ungenerous\", \"unmarried\", \"unmarried\", \"unmarried\", \"unmarried\", \"unmarried\", \"unreserve\", \"unreserve\", \"unreserve\", \"uttering\", \"uttering\", \"uttering\", \"valley\", \"valley\", \"valley\", \"valley\", \"valley\", \"valley\", \"vandenhuten\", \"vandenhuten\", \"vandenhuten\", \"vase\", \"vase\", \"vase\", \"vase\", \"vashti\", \"veneration\", \"veneration\", \"veneration\", \"veneration\", \"vengeance\", \"vengeance\", \"verge\", \"verge\", \"victor\", \"victor\", \"victor\", \"victor\", \"vii\", \"vii\", \"vii\", \"village\", \"village\", \"village\", \"village\", \"village\", \"village\", \"village\", \"village\", \"village\", \"villain\", \"villain\", \"villain\", \"villain\", \"ville\", \"violence\", \"violence\", \"violence\", \"violence\", \"violence\", \"violence\", \"violence\", \"violence\", \"violence\", \"violence\", \"violets\", \"voices\", \"voices\", \"voices\", \"voices\", \"voices\", \"voices\", \"voices\", \"voila\", \"voila\", \"voila\", \"vouchsafe\", \"vouchsafe\", \"vouchsafe\", \"vous\", \"vous\", \"vous\", \"vous\", \"vous\", \"vous\", \"vous\", \"wages\", \"wages\", \"wages\", \"waiter\", \"waiter\", \"walks\", \"walks\", \"walks\", \"walks\", \"walks\", \"walks\", \"walks\", \"walks\", \"walks\", \"wall\", \"wall\", \"wall\", \"wall\", \"wall\", \"wall\", \"wall\", \"warped\", \"warped\", \"warped\", \"wash\", \"water\", \"water\", \"water\", \"water\", \"water\", \"water\", \"water\", \"water\", \"water\", \"water\", \"water\", \"way\", \"way\", \"way\", \"way\", \"way\", \"way\", \"way\", \"way\", \"way\", \"way\", \"way\", \"way\", \"way\", \"went\", \"went\", \"went\", \"went\", \"went\", \"went\", \"went\", \"went\", \"went\", \"went\", \"went\", \"went\", \"west\", \"west\", \"west\", \"west\", \"west\", \"west\", \"west\", \"weston\", \"weston\", \"weston\", \"weston\", \"wet\", \"wet\", \"wet\", \"wet\", \"wet\", \"wet\", \"wet\", \"wet\", \"weymouth\", \"weymouth\", \"whitcross\", \"whitcross\", \"white\", \"white\", \"white\", \"white\", \"white\", \"white\", \"white\", \"white\", \"white\", \"white\", \"white\", \"wicked\", \"wicked\", \"wicked\", \"wicked\", \"wicked\", \"wicked\", \"wickham\", \"wickham\", \"wickham\", \"wickham\", \"wider\", \"william\", \"william\", \"william\", \"william\", \"william\", \"william\", \"william\", \"william\", \"williams\", \"williams\", \"williams\", \"williams\", \"willoughby\", \"willoughby\", \"willoughby\", \"willoughby\", \"willoughby\", \"woodhouse\", \"woodhouse\", \"woodhouse\", \"word\", \"word\", \"word\", \"word\", \"word\", \"word\", \"word\", \"word\", \"word\", \"word\", \"word\", \"word\", \"word\", \"words\", \"words\", \"words\", \"words\", \"words\", \"words\", \"words\", \"words\", \"words\", \"words\", \"words\", \"words\", \"words\", \"work\", \"work\", \"work\", \"work\", \"work\", \"work\", \"work\", \"work\", \"work\", \"work\", \"work\", \"work\", \"work\", \"workings\", \"wrist\", \"wrist\", \"wrist\", \"written\", \"written\", \"written\", \"written\", \"written\", \"written\", \"written\", \"written\", \"written\", \"written\", \"written\", \"written\", \"yawn\", \"yawn\", \"yawned\", \"yawned\", \"years\", \"years\", \"years\", \"years\", \"years\", \"years\", \"years\", \"years\", \"years\", \"years\", \"years\", \"years\", \"yes\", \"yes\", \"yes\", \"yes\", \"yes\", \"yes\", \"yes\", \"yes\", \"yes\", \"yes\", \"yes\", \"yes\", \"yorke\", \"yorkshire\", \"young\", \"young\", \"young\", \"young\", \"young\", \"young\", \"young\", \"young\", \"young\", \"young\", \"young\", \"young\", \"zelie\", \"zelie\", \"zelie\"]}, \"R\": 30, \"lambda.step\": 0.01, \"plot.opts\": {\"xlab\": \"PC1\", \"ylab\": \"PC2\"}, \"topic.order\": [2, 3, 4, 6, 13, 7, 15, 9, 8, 5, 1, 11, 14, 12, 10]};\n",
       "\n",
       "function LDAvis_load_lib(url, callback){\n",
       "  var s = document.createElement('script');\n",
       "  s.src = url;\n",
       "  s.async = true;\n",
       "  s.onreadystatechange = s.onload = callback;\n",
       "  s.onerror = function(){console.warn(\"failed to load library \" + url);};\n",
       "  document.getElementsByTagName(\"head\")[0].appendChild(s);\n",
       "}\n",
       "\n",
       "if(typeof(LDAvis) !== \"undefined\"){\n",
       "   // already loaded: just create the visualization\n",
       "   !function(LDAvis){\n",
       "       new LDAvis(\"#\" + \"ldavis_el994419027912903367807792198\", ldavis_el994419027912903367807792198_data);\n",
       "   }(LDAvis);\n",
       "}else if(typeof define === \"function\" && define.amd){\n",
       "   // require.js is available: use it to load d3/LDAvis\n",
       "   require.config({paths: {d3: \"https://cdnjs.cloudflare.com/ajax/libs/d3/3.5.5/d3.min\"}});\n",
       "   require([\"d3\"], function(d3){\n",
       "      window.d3 = d3;\n",
       "      LDAvis_load_lib(\"https://cdn.rawgit.com/bmabey/pyLDAvis/files/ldavis.v1.0.0.js\", function(){\n",
       "        new LDAvis(\"#\" + \"ldavis_el994419027912903367807792198\", ldavis_el994419027912903367807792198_data);\n",
       "      });\n",
       "    });\n",
       "}else{\n",
       "    // require.js not available: dynamically load d3 & LDAvis\n",
       "    LDAvis_load_lib(\"https://cdnjs.cloudflare.com/ajax/libs/d3/3.5.5/d3.min.js\", function(){\n",
       "         LDAvis_load_lib(\"https://cdn.rawgit.com/bmabey/pyLDAvis/files/ldavis.v1.0.0.js\", function(){\n",
       "                 new LDAvis(\"#\" + \"ldavis_el994419027912903367807792198\", ldavis_el994419027912903367807792198_data);\n",
       "            })\n",
       "         });\n",
       "}\n",
       "</script>"
      ],
      "text/plain": [
       "PreparedData(topic_coordinates=              x         y  topics  cluster       Freq\n",
       "topic                                                \n",
       "1      0.053627  0.036139       1        1  21.943428\n",
       "2     -0.131153 -0.029255       2        1  17.555550\n",
       "3     -0.128072 -0.039710       3        1  12.610282\n",
       "5      0.013940  0.037410       4        1  10.991915\n",
       "12     0.040879  0.064633       5        1   9.062981\n",
       "6     -0.182386 -0.037676       6        1   7.794344\n",
       "14     0.037665  0.100666       7        1   6.105458\n",
       "8     -0.085241 -0.024311       8        1   5.234009\n",
       "7     -0.115113 -0.027350       9        1   2.528407\n",
       "4      0.011124  0.099383      10        1   2.265073\n",
       "0      0.085154  0.080166      11        1   1.997308\n",
       "10     0.025295  0.050830      12        1   1.616260\n",
       "13     0.138233 -0.118143      13        1   0.227600\n",
       "11     0.125149 -0.099318      14        1   0.045291\n",
       "9      0.110898 -0.093463      15        1   0.022086, topic_info=     Category         Freq             Term        Total  loglift  logprob\n",
       "5855  Default   697.000000           elinor   697.000000  30.0000  30.0000\n",
       "5860  Default   575.000000         marianne   575.000000  29.0000  29.0000\n",
       "86    Default   840.000000             emma   840.000000  28.0000  28.0000\n",
       "1340  Default   647.000000        elizabeth   647.000000  27.0000  27.0000\n",
       "183   Default  1508.000000             miss  1508.000000  26.0000  26.0000\n",
       "148   Default   919.000000             jane   919.000000  25.0000  25.0000\n",
       "5035  Default   415.000000            darcy   415.000000  24.0000  24.0000\n",
       "7116  Default   284.000000         monsieur   284.000000  23.0000  23.0000\n",
       "1012  Default   509.000000          harriet   509.000000  22.0000  22.0000\n",
       "399   Default  1423.000000             know  1423.000000  21.0000  21.0000\n",
       "5003  Default   313.000000          bingley   313.000000  20.0000  20.0000\n",
       "5002  Default   329.000000           bennet   329.000000  19.0000  19.0000\n",
       "902   Default   883.000000             room   883.000000  18.0000  18.0000\n",
       "301   Default   427.000000           weston   427.000000  17.0000  17.0000\n",
       "403   Default  1325.000000             like  1325.000000  16.0000  16.0000\n",
       "450   Default   579.000000              sir   579.000000  15.0000  15.0000\n",
       "513   Default   373.000000            elton   373.000000  14.0000  14.0000\n",
       "1445  Default   614.000000             hand   614.000000  13.0000  13.0000\n",
       "279   Default  1307.000000            think  1307.000000  12.0000  12.0000\n",
       "305   Default   300.000000        woodhouse   300.000000  11.0000  11.0000\n",
       "5941  Default   219.000000       willoughby   219.000000  10.0000  10.0000\n",
       "277   Default   779.000000            thing   779.000000   9.0000   9.0000\n",
       "398   Default   379.000000        knightley   379.000000   8.0000   8.0000\n",
       "1324  Default   162.000000             book   162.000000   7.0000   7.0000\n",
       "447   Default   913.000000            shall   913.000000   6.0000   6.0000\n",
       "251   Default   595.000000           sister   595.000000   5.0000   5.0000\n",
       "7001  Default   351.000000        rochester   351.000000   4.0000   4.0000\n",
       "5848  Default   255.000000         dashwood   255.000000   3.0000   3.0000\n",
       "159   Default  1729.000000           little  1729.000000   2.0000   2.0000\n",
       "337   Default   820.000000             come   820.000000   1.0000   1.0000\n",
       "...       ...          ...              ...          ...      ...      ...\n",
       "5651  Topic15     0.056902           valley    24.937826   2.3351  -7.1040\n",
       "3874  Topic15     0.050068           voices    22.991356   2.2885  -7.2320\n",
       "4149  Topic15     0.042722         eligible    21.306435   2.2059  -7.3906\n",
       "5974  Topic15     0.014936           evince     8.547668   2.0683  -8.4416\n",
       "4768  Topic15     0.009812        effusions     5.662004   2.0601  -8.8617\n",
       "2815  Topic15     0.019459      employments    12.172032   1.9793  -8.1771\n",
       "5192  Topic15     0.007320         studious     4.579661   1.9791  -9.1548\n",
       "2481  Topic15     0.033210         romantic    21.535475   1.9434  -7.6425\n",
       "5191  Topic15     0.007237            sofas     4.817719   1.9171  -9.1662\n",
       "3488  Topic15     0.007802       administer     5.320383   1.8931  -9.0909\n",
       "4861  Topic15     0.007262  dissatisfaction     4.971420   1.8892  -9.1627\n",
       "7729  Topic15     0.007821         receding     5.374301   1.8854  -9.0886\n",
       "5193  Topic15     0.007283             yawn     5.005461   1.8852  -9.1598\n",
       "7366  Topic15     0.007709             vase     5.330828   1.8790  -9.1030\n",
       "5975  Topic15     0.012947            leant     9.516576   1.8180  -8.5845\n",
       "5976  Topic15     0.013850         williams    10.319524   1.8045  -8.5170\n",
       "1932  Topic15     0.055318            horse    61.148544   1.4100  -7.1323\n",
       "1310  Topic15     0.027266            walks    27.350767   1.5071  -7.8397\n",
       "5127  Topic15     0.059832           showed    77.909439   1.2462  -7.0538\n",
       "4068  Topic15     0.021878         violence    20.994514   1.5514  -8.0599\n",
       "5941  Topic15     0.107288       willoughby   219.671631   0.7936  -6.4698\n",
       "5860  Topic15     0.146949         marianne   575.505005   0.1450  -6.1553\n",
       "3091  Topic15     0.031172             sunk    44.188480   1.1613  -7.7058\n",
       "5848  Topic15     0.065826         dashwood   255.573624   0.1537  -6.9583\n",
       "5855  Topic15     0.075542           elinor   697.514221  -0.7126  -6.8207\n",
       "159   Topic15     0.058412           little  1729.009277  -1.8776  -7.0778\n",
       "279   Topic15     0.053339            think  1307.612549  -1.6891  -7.1687\n",
       "399   Topic15     0.053520             know  1423.574463  -1.7707  -7.1653\n",
       "284   Topic15     0.050968             time  1313.946777  -1.7394  -7.2142\n",
       "183   Topic15     0.051122             miss  1508.701294  -1.8746  -7.2111\n",
       "\n",
       "[1074 rows x 6 columns], token_table=      Topic      Freq          Term\n",
       "term                               \n",
       "792       2  0.964690         abbey\n",
       "6351      5  0.794495         abbot\n",
       "6351     10  0.158899         abbot\n",
       "5171      3  0.155368    abominably\n",
       "5171      4  0.155368    abominably\n",
       "5171      8  0.466104    abominably\n",
       "2114      1  0.115461      abruptly\n",
       "2114      2  0.269408      abruptly\n",
       "2114      4  0.307895      abruptly\n",
       "2114      5  0.153948      abruptly\n",
       "2114      8  0.076974      abruptly\n",
       "2114     12  0.038487      abruptly\n",
       "612       1  0.233802  accomplished\n",
       "612       2  0.303943  accomplished\n",
       "612       4  0.070141  accomplished\n",
       "612       5  0.046760  accomplished\n",
       "612       6  0.070141  accomplished\n",
       "612       7  0.070141  accomplished\n",
       "612       8  0.046760  accomplished\n",
       "612      11  0.046760  accomplished\n",
       "612      12  0.023380  accomplished\n",
       "612      13  0.093521  accomplished\n",
       "3697      2  0.368266    accounting\n",
       "3697      8  0.552399    accounting\n",
       "5180      1  0.365370      accuracy\n",
       "5180      4  0.091342      accuracy\n",
       "5180      5  0.548054      accuracy\n",
       "7005      1  0.029977         adele\n",
       "7005      4  0.127404         adele\n",
       "7005      5  0.487134         adele\n",
       "...     ...       ...           ...\n",
       "308      12  0.018970         years\n",
       "1313      1  0.125327           yes\n",
       "1313      2  0.199845           yes\n",
       "1313      3  0.074519           yes\n",
       "1313      4  0.149037           yes\n",
       "1313      5  0.096535           yes\n",
       "1313      6  0.060970           yes\n",
       "1313      7  0.088067           yes\n",
       "1313      8  0.089761           yes\n",
       "1313      9  0.047421           yes\n",
       "1313     10  0.038953           yes\n",
       "1313     11  0.020323           yes\n",
       "1313     12  0.010162           yes\n",
       "7859      4  0.908536         yorke\n",
       "790       2  0.926804     yorkshire\n",
       "611       1  0.153770         young\n",
       "611       2  0.333169         young\n",
       "611       3  0.111559         young\n",
       "611       4  0.061810         young\n",
       "611       5  0.061810         young\n",
       "611       6  0.123619         young\n",
       "611       7  0.022613         young\n",
       "611       8  0.066332         young\n",
       "611       9  0.019598         young\n",
       "611      10  0.013568         young\n",
       "611      11  0.021106         young\n",
       "611      12  0.010553         young\n",
       "8088      1  0.781645         zelie\n",
       "8088      7  0.060127         zelie\n",
       "8088     13  0.120253         zelie\n",
       "\n",
       "[3907 rows x 3 columns], R=30, lambda_step=0.01, plot_opts={'xlab': 'PC1', 'ylab': 'PC2'}, topic_order=[2, 3, 4, 6, 13, 7, 15, 9, 8, 5, 1, 11, 14, 12, 10])"
      ]
     },
     "execution_count": 51,
     "metadata": {},
     "output_type": "execute_result"
    }
   ],
   "source": [
    "import warnings\n",
    "warnings.filterwarnings(\"ignore\", category=FutureWarning) \n",
    "\n",
    "pyLDAvis.gensim.prepare(lda, corpus, id2word)"
   ]
  },
  {
   "cell_type": "markdown",
   "metadata": {},
   "source": [
    "### Overall Model / Documents"
   ]
  },
  {
   "cell_type": "code",
   "execution_count": 52,
   "metadata": {},
   "outputs": [
    {
     "data": {
      "text/plain": [
       "[(2, 0.99783945)]"
      ]
     },
     "execution_count": 52,
     "metadata": {},
     "output_type": "execute_result"
    }
   ],
   "source": [
    "lda[corpus[0]]"
   ]
  },
  {
   "cell_type": "code",
   "execution_count": 53,
   "metadata": {},
   "outputs": [],
   "source": [
    "distro = [lda[d] for d in corpus]"
   ]
  },
  {
   "cell_type": "code",
   "execution_count": 55,
   "metadata": {},
   "outputs": [
    {
     "data": {
      "text/plain": [
       "[(2, 0.751134), (7, 0.24642472)]"
      ]
     },
     "execution_count": 55,
     "metadata": {},
     "output_type": "execute_result"
    }
   ],
   "source": [
    "distro[1]"
   ]
  },
  {
   "cell_type": "code",
   "execution_count": 56,
   "metadata": {},
   "outputs": [],
   "source": [
    "distro = [lda[d] for d in corpus]\n",
    "\n",
    "def update(doc):\n",
    "        d_dist = {k:0 for k in range(0,15)}\n",
    "        for t in doc:\n",
    "            d_dist[t[0]] = t[1]\n",
    "        return d_dist\n",
    "    \n",
    "new_distro = [update(d) for d in distro]"
   ]
  },
  {
   "cell_type": "code",
   "execution_count": 57,
   "metadata": {},
   "outputs": [
    {
     "data": {
      "text/plain": [
       "813"
      ]
     },
     "execution_count": 57,
     "metadata": {},
     "output_type": "execute_result"
    }
   ],
   "source": [
    "len(new_distro)"
   ]
  },
  {
   "cell_type": "code",
   "execution_count": 58,
   "metadata": {},
   "outputs": [
    {
     "data": {
      "text/html": [
       "<div>\n",
       "<style scoped>\n",
       "    .dataframe tbody tr th:only-of-type {\n",
       "        vertical-align: middle;\n",
       "    }\n",
       "\n",
       "    .dataframe tbody tr th {\n",
       "        vertical-align: top;\n",
       "    }\n",
       "\n",
       "    .dataframe thead th {\n",
       "        text-align: right;\n",
       "    }\n",
       "</style>\n",
       "<table border=\"1\" class=\"dataframe\">\n",
       "  <thead>\n",
       "    <tr style=\"text-align: right;\">\n",
       "      <th></th>\n",
       "      <th>tokens</th>\n",
       "      <th>author</th>\n",
       "      <th>book</th>\n",
       "      <th>section</th>\n",
       "    </tr>\n",
       "  </thead>\n",
       "  <tbody>\n",
       "    <tr>\n",
       "      <th>Austen_Emma0000</th>\n",
       "      <td>[emma, jane, austen, volume, chapter, emma, wo...</td>\n",
       "      <td>1</td>\n",
       "      <td>Emma</td>\n",
       "      <td>0</td>\n",
       "    </tr>\n",
       "    <tr>\n",
       "      <th>Austen_Emma0001</th>\n",
       "      <td>[taylor, wish, pity, weston, thought, agree, p...</td>\n",
       "      <td>1</td>\n",
       "      <td>Emma</td>\n",
       "      <td>1</td>\n",
       "    </tr>\n",
       "    <tr>\n",
       "      <th>Austen_Emma0002</th>\n",
       "      <td>[behaved, charmingly, body, punctual, body, be...</td>\n",
       "      <td>1</td>\n",
       "      <td>Emma</td>\n",
       "      <td>2</td>\n",
       "    </tr>\n",
       "    <tr>\n",
       "      <th>Austen_Emma0003</th>\n",
       "      <td>[native, highbury, born, respectable, family, ...</td>\n",
       "      <td>1</td>\n",
       "      <td>Emma</td>\n",
       "      <td>3</td>\n",
       "    </tr>\n",
       "    <tr>\n",
       "      <th>Austen_Emma0004</th>\n",
       "      <td>[mention, handsome, letter, weston, received, ...</td>\n",
       "      <td>1</td>\n",
       "      <td>Emma</td>\n",
       "      <td>4</td>\n",
       "    </tr>\n",
       "  </tbody>\n",
       "</table>\n",
       "</div>"
      ],
      "text/plain": [
       "                                                            tokens  author  \\\n",
       "Austen_Emma0000  [emma, jane, austen, volume, chapter, emma, wo...       1   \n",
       "Austen_Emma0001  [taylor, wish, pity, weston, thought, agree, p...       1   \n",
       "Austen_Emma0002  [behaved, charmingly, body, punctual, body, be...       1   \n",
       "Austen_Emma0003  [native, highbury, born, respectable, family, ...       1   \n",
       "Austen_Emma0004  [mention, handsome, letter, weston, received, ...       1   \n",
       "\n",
       "                 book  section  \n",
       "Austen_Emma0000  Emma        0  \n",
       "Austen_Emma0001  Emma        1  \n",
       "Austen_Emma0002  Emma        2  \n",
       "Austen_Emma0003  Emma        3  \n",
       "Austen_Emma0004  Emma        4  "
      ]
     },
     "execution_count": 58,
     "metadata": {},
     "output_type": "execute_result"
    }
   ],
   "source": [
    "df.head()"
   ]
  },
  {
   "cell_type": "code",
   "execution_count": 59,
   "metadata": {},
   "outputs": [],
   "source": [
    "df = pd.DataFrame.from_records(new_distro, index=titles)\n",
    "df.columns = topics\n",
    "df['author'] = df.reset_index()['index'].apply(lambda x: x.split('_')[0]).tolist()"
   ]
  },
  {
   "cell_type": "code",
   "execution_count": 60,
   "metadata": {},
   "outputs": [
    {
     "data": {
      "text/html": [
       "<div>\n",
       "<style scoped>\n",
       "    .dataframe tbody tr th:only-of-type {\n",
       "        vertical-align: middle;\n",
       "    }\n",
       "\n",
       "    .dataframe tbody tr th {\n",
       "        vertical-align: top;\n",
       "    }\n",
       "\n",
       "    .dataframe thead th {\n",
       "        text-align: right;\n",
       "    }\n",
       "</style>\n",
       "<table border=\"1\" class=\"dataframe\">\n",
       "  <thead>\n",
       "    <tr style=\"text-align: right;\">\n",
       "      <th></th>\n",
       "      <th>like eyes rochester face hair eye little features thought man</th>\n",
       "      <th>little like madame thought know good monsieur bretton hand graham</th>\n",
       "      <th>emma miss harriet weston think thing knightley little good elton</th>\n",
       "      <th>elinor marianne sister edward mother time dashwood jennings willoughby know</th>\n",
       "      <th>jane rochester like love think thought mason sir come know</th>\n",
       "      <th>like know good time day long night man hunsden come</th>\n",
       "      <th>elizabeth darcy bennet bingley jane wickham miss sister lydia know</th>\n",
       "      <th>miss know shall oh thing come jane dear good think</th>\n",
       "      <th>sir lady elizabeth little miss darcy good know think shall</th>\n",
       "      <th>marianne disapproved coat dispersed hamlet quickened happens abruptly suggesting seclusion</th>\n",
       "      <th>like man long time john felt eye know crimsworth god</th>\n",
       "      <th>book motives disappointing miss room bye indignant round reading cheated</th>\n",
       "      <th>miss room like little rochester time long day door looked</th>\n",
       "      <th>vous monsieur accomplished word work room hand bonnet reading table</th>\n",
       "      <th>sir little jane night like st house thought saw day</th>\n",
       "      <th>author</th>\n",
       "    </tr>\n",
       "  </thead>\n",
       "  <tbody>\n",
       "    <tr>\n",
       "      <th>Austen_Emma0000</th>\n",
       "      <td>0.0</td>\n",
       "      <td>0.0</td>\n",
       "      <td>0.997839</td>\n",
       "      <td>0.0</td>\n",
       "      <td>0.0</td>\n",
       "      <td>0.0</td>\n",
       "      <td>0.0</td>\n",
       "      <td>0.000000</td>\n",
       "      <td>0.0</td>\n",
       "      <td>0.0</td>\n",
       "      <td>0.0</td>\n",
       "      <td>0.0</td>\n",
       "      <td>0.0</td>\n",
       "      <td>0.0</td>\n",
       "      <td>0.0</td>\n",
       "      <td>Austen</td>\n",
       "    </tr>\n",
       "    <tr>\n",
       "      <th>Austen_Emma0001</th>\n",
       "      <td>0.0</td>\n",
       "      <td>0.0</td>\n",
       "      <td>0.751133</td>\n",
       "      <td>0.0</td>\n",
       "      <td>0.0</td>\n",
       "      <td>0.0</td>\n",
       "      <td>0.0</td>\n",
       "      <td>0.246425</td>\n",
       "      <td>0.0</td>\n",
       "      <td>0.0</td>\n",
       "      <td>0.0</td>\n",
       "      <td>0.0</td>\n",
       "      <td>0.0</td>\n",
       "      <td>0.0</td>\n",
       "      <td>0.0</td>\n",
       "      <td>Austen</td>\n",
       "    </tr>\n",
       "    <tr>\n",
       "      <th>Austen_Emma0002</th>\n",
       "      <td>0.0</td>\n",
       "      <td>0.0</td>\n",
       "      <td>0.997563</td>\n",
       "      <td>0.0</td>\n",
       "      <td>0.0</td>\n",
       "      <td>0.0</td>\n",
       "      <td>0.0</td>\n",
       "      <td>0.000000</td>\n",
       "      <td>0.0</td>\n",
       "      <td>0.0</td>\n",
       "      <td>0.0</td>\n",
       "      <td>0.0</td>\n",
       "      <td>0.0</td>\n",
       "      <td>0.0</td>\n",
       "      <td>0.0</td>\n",
       "      <td>Austen</td>\n",
       "    </tr>\n",
       "    <tr>\n",
       "      <th>Austen_Emma0003</th>\n",
       "      <td>0.0</td>\n",
       "      <td>0.0</td>\n",
       "      <td>0.997707</td>\n",
       "      <td>0.0</td>\n",
       "      <td>0.0</td>\n",
       "      <td>0.0</td>\n",
       "      <td>0.0</td>\n",
       "      <td>0.000000</td>\n",
       "      <td>0.0</td>\n",
       "      <td>0.0</td>\n",
       "      <td>0.0</td>\n",
       "      <td>0.0</td>\n",
       "      <td>0.0</td>\n",
       "      <td>0.0</td>\n",
       "      <td>0.0</td>\n",
       "      <td>Austen</td>\n",
       "    </tr>\n",
       "    <tr>\n",
       "      <th>Austen_Emma0004</th>\n",
       "      <td>0.0</td>\n",
       "      <td>0.0</td>\n",
       "      <td>0.997844</td>\n",
       "      <td>0.0</td>\n",
       "      <td>0.0</td>\n",
       "      <td>0.0</td>\n",
       "      <td>0.0</td>\n",
       "      <td>0.000000</td>\n",
       "      <td>0.0</td>\n",
       "      <td>0.0</td>\n",
       "      <td>0.0</td>\n",
       "      <td>0.0</td>\n",
       "      <td>0.0</td>\n",
       "      <td>0.0</td>\n",
       "      <td>0.0</td>\n",
       "      <td>Austen</td>\n",
       "    </tr>\n",
       "  </tbody>\n",
       "</table>\n",
       "</div>"
      ],
      "text/plain": [
       "                 like eyes rochester face hair eye little features thought man  \\\n",
       "Austen_Emma0000                                                0.0               \n",
       "Austen_Emma0001                                                0.0               \n",
       "Austen_Emma0002                                                0.0               \n",
       "Austen_Emma0003                                                0.0               \n",
       "Austen_Emma0004                                                0.0               \n",
       "\n",
       "                 little like madame thought know good monsieur bretton hand graham  \\\n",
       "Austen_Emma0000                                                0.0                   \n",
       "Austen_Emma0001                                                0.0                   \n",
       "Austen_Emma0002                                                0.0                   \n",
       "Austen_Emma0003                                                0.0                   \n",
       "Austen_Emma0004                                                0.0                   \n",
       "\n",
       "                 emma miss harriet weston think thing knightley little good elton  \\\n",
       "Austen_Emma0000                                           0.997839                  \n",
       "Austen_Emma0001                                           0.751133                  \n",
       "Austen_Emma0002                                           0.997563                  \n",
       "Austen_Emma0003                                           0.997707                  \n",
       "Austen_Emma0004                                           0.997844                  \n",
       "\n",
       "                 elinor marianne sister edward mother time dashwood jennings willoughby know  \\\n",
       "Austen_Emma0000                                                0.0                             \n",
       "Austen_Emma0001                                                0.0                             \n",
       "Austen_Emma0002                                                0.0                             \n",
       "Austen_Emma0003                                                0.0                             \n",
       "Austen_Emma0004                                                0.0                             \n",
       "\n",
       "                 jane rochester like love think thought mason sir come know  \\\n",
       "Austen_Emma0000                                                0.0            \n",
       "Austen_Emma0001                                                0.0            \n",
       "Austen_Emma0002                                                0.0            \n",
       "Austen_Emma0003                                                0.0            \n",
       "Austen_Emma0004                                                0.0            \n",
       "\n",
       "                 like know good time day long night man hunsden come  \\\n",
       "Austen_Emma0000                                                0.0     \n",
       "Austen_Emma0001                                                0.0     \n",
       "Austen_Emma0002                                                0.0     \n",
       "Austen_Emma0003                                                0.0     \n",
       "Austen_Emma0004                                                0.0     \n",
       "\n",
       "                 elizabeth darcy bennet bingley jane wickham miss sister lydia know  \\\n",
       "Austen_Emma0000                                                0.0                    \n",
       "Austen_Emma0001                                                0.0                    \n",
       "Austen_Emma0002                                                0.0                    \n",
       "Austen_Emma0003                                                0.0                    \n",
       "Austen_Emma0004                                                0.0                    \n",
       "\n",
       "                 miss know shall oh thing come jane dear good think  \\\n",
       "Austen_Emma0000                                           0.000000    \n",
       "Austen_Emma0001                                           0.246425    \n",
       "Austen_Emma0002                                           0.000000    \n",
       "Austen_Emma0003                                           0.000000    \n",
       "Austen_Emma0004                                           0.000000    \n",
       "\n",
       "                 sir lady elizabeth little miss darcy good know think shall  \\\n",
       "Austen_Emma0000                                                0.0            \n",
       "Austen_Emma0001                                                0.0            \n",
       "Austen_Emma0002                                                0.0            \n",
       "Austen_Emma0003                                                0.0            \n",
       "Austen_Emma0004                                                0.0            \n",
       "\n",
       "                 marianne disapproved coat dispersed hamlet quickened happens abruptly suggesting seclusion  \\\n",
       "Austen_Emma0000                                                0.0                                            \n",
       "Austen_Emma0001                                                0.0                                            \n",
       "Austen_Emma0002                                                0.0                                            \n",
       "Austen_Emma0003                                                0.0                                            \n",
       "Austen_Emma0004                                                0.0                                            \n",
       "\n",
       "                 like man long time john felt eye know crimsworth god  \\\n",
       "Austen_Emma0000                                                0.0      \n",
       "Austen_Emma0001                                                0.0      \n",
       "Austen_Emma0002                                                0.0      \n",
       "Austen_Emma0003                                                0.0      \n",
       "Austen_Emma0004                                                0.0      \n",
       "\n",
       "                 book motives disappointing miss room bye indignant round reading cheated  \\\n",
       "Austen_Emma0000                                                0.0                          \n",
       "Austen_Emma0001                                                0.0                          \n",
       "Austen_Emma0002                                                0.0                          \n",
       "Austen_Emma0003                                                0.0                          \n",
       "Austen_Emma0004                                                0.0                          \n",
       "\n",
       "                 miss room like little rochester time long day door looked  \\\n",
       "Austen_Emma0000                                                0.0           \n",
       "Austen_Emma0001                                                0.0           \n",
       "Austen_Emma0002                                                0.0           \n",
       "Austen_Emma0003                                                0.0           \n",
       "Austen_Emma0004                                                0.0           \n",
       "\n",
       "                 vous monsieur accomplished word work room hand bonnet reading table  \\\n",
       "Austen_Emma0000                                                0.0                     \n",
       "Austen_Emma0001                                                0.0                     \n",
       "Austen_Emma0002                                                0.0                     \n",
       "Austen_Emma0003                                                0.0                     \n",
       "Austen_Emma0004                                                0.0                     \n",
       "\n",
       "                 sir little jane night like st house thought saw day  author  \n",
       "Austen_Emma0000                                                0.0    Austen  \n",
       "Austen_Emma0001                                                0.0    Austen  \n",
       "Austen_Emma0002                                                0.0    Austen  \n",
       "Austen_Emma0003                                                0.0    Austen  \n",
       "Austen_Emma0004                                                0.0    Austen  "
      ]
     },
     "execution_count": 60,
     "metadata": {},
     "output_type": "execute_result"
    }
   ],
   "source": [
    "df.head()"
   ]
  },
  {
   "cell_type": "code",
   "execution_count": 61,
   "metadata": {},
   "outputs": [
    {
     "data": {
      "text/html": [
       "<div>\n",
       "<style scoped>\n",
       "    .dataframe tbody tr th:only-of-type {\n",
       "        vertical-align: middle;\n",
       "    }\n",
       "\n",
       "    .dataframe tbody tr th {\n",
       "        vertical-align: top;\n",
       "    }\n",
       "\n",
       "    .dataframe thead th {\n",
       "        text-align: right;\n",
       "    }\n",
       "</style>\n",
       "<table border=\"1\" class=\"dataframe\">\n",
       "  <thead>\n",
       "    <tr style=\"text-align: right;\">\n",
       "      <th></th>\n",
       "      <th>like eyes rochester face hair eye little features thought man</th>\n",
       "      <th>little like madame thought know good monsieur bretton hand graham</th>\n",
       "      <th>emma miss harriet weston think thing knightley little good elton</th>\n",
       "      <th>elinor marianne sister edward mother time dashwood jennings willoughby know</th>\n",
       "      <th>jane rochester like love think thought mason sir come know</th>\n",
       "      <th>like know good time day long night man hunsden come</th>\n",
       "      <th>elizabeth darcy bennet bingley jane wickham miss sister lydia know</th>\n",
       "      <th>miss know shall oh thing come jane dear good think</th>\n",
       "      <th>sir lady elizabeth little miss darcy good know think shall</th>\n",
       "      <th>marianne disapproved coat dispersed hamlet quickened happens abruptly suggesting seclusion</th>\n",
       "      <th>like man long time john felt eye know crimsworth god</th>\n",
       "      <th>book motives disappointing miss room bye indignant round reading cheated</th>\n",
       "      <th>miss room like little rochester time long day door looked</th>\n",
       "      <th>vous monsieur accomplished word work room hand bonnet reading table</th>\n",
       "      <th>sir little jane night like st house thought saw day</th>\n",
       "    </tr>\n",
       "    <tr>\n",
       "      <th>author</th>\n",
       "      <th></th>\n",
       "      <th></th>\n",
       "      <th></th>\n",
       "      <th></th>\n",
       "      <th></th>\n",
       "      <th></th>\n",
       "      <th></th>\n",
       "      <th></th>\n",
       "      <th></th>\n",
       "      <th></th>\n",
       "      <th></th>\n",
       "      <th></th>\n",
       "      <th></th>\n",
       "      <th></th>\n",
       "      <th></th>\n",
       "    </tr>\n",
       "  </thead>\n",
       "  <tbody>\n",
       "    <tr>\n",
       "      <th>Austen</th>\n",
       "      <td>0.000121</td>\n",
       "      <td>0.001280</td>\n",
       "      <td>0.374956</td>\n",
       "      <td>0.271616</td>\n",
       "      <td>0.000000</td>\n",
       "      <td>0.006575</td>\n",
       "      <td>0.183834</td>\n",
       "      <td>0.054853</td>\n",
       "      <td>0.092992</td>\n",
       "      <td>0.000103</td>\n",
       "      <td>0.001513</td>\n",
       "      <td>0.000516</td>\n",
       "      <td>0.002255</td>\n",
       "      <td>0.000597</td>\n",
       "      <td>0.006186</td>\n",
       "    </tr>\n",
       "    <tr>\n",
       "      <th>CBronte</th>\n",
       "      <td>0.035017</td>\n",
       "      <td>0.375761</td>\n",
       "      <td>0.010300</td>\n",
       "      <td>0.005611</td>\n",
       "      <td>0.044436</td>\n",
       "      <td>0.194262</td>\n",
       "      <td>0.001288</td>\n",
       "      <td>0.001912</td>\n",
       "      <td>0.023212</td>\n",
       "      <td>0.000000</td>\n",
       "      <td>0.028864</td>\n",
       "      <td>0.000088</td>\n",
       "      <td>0.163309</td>\n",
       "      <td>0.003226</td>\n",
       "      <td>0.109963</td>\n",
       "    </tr>\n",
       "  </tbody>\n",
       "</table>\n",
       "</div>"
      ],
      "text/plain": [
       "         like eyes rochester face hair eye little features thought man  \\\n",
       "author                                                                   \n",
       "Austen                                            0.000121               \n",
       "CBronte                                           0.035017               \n",
       "\n",
       "         little like madame thought know good monsieur bretton hand graham  \\\n",
       "author                                                                       \n",
       "Austen                                            0.001280                   \n",
       "CBronte                                           0.375761                   \n",
       "\n",
       "         emma miss harriet weston think thing knightley little good elton  \\\n",
       "author                                                                      \n",
       "Austen                                            0.374956                  \n",
       "CBronte                                           0.010300                  \n",
       "\n",
       "         elinor marianne sister edward mother time dashwood jennings willoughby know  \\\n",
       "author                                                                                 \n",
       "Austen                                            0.271616                             \n",
       "CBronte                                           0.005611                             \n",
       "\n",
       "         jane rochester like love think thought mason sir come know  \\\n",
       "author                                                                \n",
       "Austen                                            0.000000            \n",
       "CBronte                                           0.044436            \n",
       "\n",
       "         like know good time day long night man hunsden come  \\\n",
       "author                                                         \n",
       "Austen                                            0.006575     \n",
       "CBronte                                           0.194262     \n",
       "\n",
       "         elizabeth darcy bennet bingley jane wickham miss sister lydia know  \\\n",
       "author                                                                        \n",
       "Austen                                            0.183834                    \n",
       "CBronte                                           0.001288                    \n",
       "\n",
       "         miss know shall oh thing come jane dear good think  \\\n",
       "author                                                        \n",
       "Austen                                            0.054853    \n",
       "CBronte                                           0.001912    \n",
       "\n",
       "         sir lady elizabeth little miss darcy good know think shall  \\\n",
       "author                                                                \n",
       "Austen                                            0.092992            \n",
       "CBronte                                           0.023212            \n",
       "\n",
       "         marianne disapproved coat dispersed hamlet quickened happens abruptly suggesting seclusion  \\\n",
       "author                                                                                                \n",
       "Austen                                            0.000103                                            \n",
       "CBronte                                           0.000000                                            \n",
       "\n",
       "         like man long time john felt eye know crimsworth god  \\\n",
       "author                                                          \n",
       "Austen                                            0.001513      \n",
       "CBronte                                           0.028864      \n",
       "\n",
       "         book motives disappointing miss room bye indignant round reading cheated  \\\n",
       "author                                                                              \n",
       "Austen                                            0.000516                          \n",
       "CBronte                                           0.000088                          \n",
       "\n",
       "         miss room like little rochester time long day door looked  \\\n",
       "author                                                               \n",
       "Austen                                            0.002255           \n",
       "CBronte                                           0.163309           \n",
       "\n",
       "         vous monsieur accomplished word work room hand bonnet reading table  \\\n",
       "author                                                                         \n",
       "Austen                                            0.000597                     \n",
       "CBronte                                           0.003226                     \n",
       "\n",
       "         sir little jane night like st house thought saw day  \n",
       "author                                                        \n",
       "Austen                                            0.006186    \n",
       "CBronte                                           0.109963    "
      ]
     },
     "execution_count": 61,
     "metadata": {},
     "output_type": "execute_result"
    }
   ],
   "source": [
    "df.groupby('author').mean()"
   ]
  },
  {
   "cell_type": "markdown",
   "metadata": {},
   "source": [
    "## Challenge\n",
    "### *Can we see if one of the authors focus more on men than women?*\n",
    "\n",
    "*  Use Spacy for text preprocessing\n",
    "*  Extract the Named Entities from the documents using Spacy (command is fairly straight forward)\n",
    "*  Create unique list of names from the authors (you'll find that there are different types of named entities not all people)\n",
    "*  Label the names with genders (can you this by hand or you use the US census name lists)\n",
    "*  Customize your processing to replace the proper name with your gender from the previous step's lookup table\n",
    "*  Then follow the rest of the LDA flow\n"
   ]
  },
  {
   "cell_type": "markdown",
   "metadata": {},
   "source": [
    "# Selecting the Number of Topics (Learn)\n",
    "<a id=\"#p4\"></a>"
   ]
  },
  {
   "cell_type": "markdown",
   "metadata": {},
   "source": [
    "## Overview"
   ]
  },
  {
   "cell_type": "markdown",
   "metadata": {},
   "source": [
    "## Follow Along"
   ]
  },
  {
   "cell_type": "code",
   "execution_count": 56,
   "metadata": {},
   "outputs": [],
   "source": [
    "from gensim.models.coherencemodel import CoherenceModel\n",
    "\n",
    "def compute_coherence_values(dictionary, corpus, limit, start=2, step=3, passes=5):\n",
    "    \"\"\"\n",
    "    Compute c_v coherence for various number of topics\n",
    "\n",
    "    Parameters:\n",
    "    ----------\n",
    "    dictionary : Gensim dictionary\n",
    "    corpus : Gensim corpus\n",
    "    limit : Max num of topics\n",
    "    passes: the number of times the entire lda model & coherence values are calculated\n",
    "\n",
    "    Returns:\n",
    "    -------\n",
    "    coherence_values : Coherence values corresponding to the LDA model with respective number of topics\n",
    "    \"\"\"\n",
    "    \n",
    "    coherence_values = []\n",
    "    \n",
    "    for iter_ in range(passes):\n",
    "        print(f'PASS #{iter_}:')\n",
    "        for num_topics in range(start, limit, step):\n",
    "            model = LdaMulticore(corpus=corpus, num_topics=num_topics, id2word=dictionary, workers=4)\n",
    "            coherencemodel = CoherenceModel(model=model, dictionary=dictionary, corpus=corpus, coherence='u_mass')\n",
    "            coherence_values.append({'pass': iter_, \n",
    "                                     'num_topics': num_topics, \n",
    "                                     'coherence_score': coherencemodel.get_coherence()\n",
    "                                    })\n",
    "            print(f'Evaluating Topic Model with {num_topics} topics...')\n",
    "\n",
    "    return coherence_values"
   ]
  },
  {
   "cell_type": "code",
   "execution_count": 59,
   "metadata": {},
   "outputs": [
    {
     "name": "stdout",
     "output_type": "stream",
     "text": [
      "PASS #0:\n",
      "Evaluating Topic Model with 5 topics...\n",
      "Evaluating Topic Model with 8 topics...\n",
      "Evaluating Topic Model with 11 topics...\n",
      "Evaluating Topic Model with 14 topics...\n",
      "Evaluating Topic Model with 17 topics...\n",
      "Evaluating Topic Model with 20 topics...\n",
      "Evaluating Topic Model with 23 topics...\n",
      "Evaluating Topic Model with 26 topics...\n",
      "Evaluating Topic Model with 29 topics...\n",
      "Evaluating Topic Model with 32 topics...\n",
      "Evaluating Topic Model with 35 topics...\n",
      "Evaluating Topic Model with 38 topics...\n",
      "PASS #1:\n",
      "Evaluating Topic Model with 5 topics...\n",
      "Evaluating Topic Model with 8 topics...\n",
      "Evaluating Topic Model with 11 topics...\n",
      "Evaluating Topic Model with 14 topics...\n",
      "Evaluating Topic Model with 17 topics...\n",
      "Evaluating Topic Model with 20 topics...\n",
      "Evaluating Topic Model with 23 topics...\n",
      "Evaluating Topic Model with 26 topics...\n",
      "Evaluating Topic Model with 29 topics...\n",
      "Evaluating Topic Model with 32 topics...\n",
      "Evaluating Topic Model with 35 topics...\n",
      "Evaluating Topic Model with 38 topics...\n",
      "PASS #2:\n",
      "Evaluating Topic Model with 5 topics...\n",
      "Evaluating Topic Model with 8 topics...\n",
      "Evaluating Topic Model with 11 topics...\n",
      "Evaluating Topic Model with 14 topics...\n",
      "Evaluating Topic Model with 17 topics...\n",
      "Evaluating Topic Model with 20 topics...\n",
      "Evaluating Topic Model with 23 topics...\n",
      "Evaluating Topic Model with 26 topics...\n",
      "Evaluating Topic Model with 29 topics...\n",
      "Evaluating Topic Model with 32 topics...\n",
      "Evaluating Topic Model with 35 topics...\n",
      "Evaluating Topic Model with 38 topics...\n",
      "PASS #3:\n",
      "Evaluating Topic Model with 5 topics...\n",
      "Evaluating Topic Model with 8 topics...\n",
      "Evaluating Topic Model with 11 topics...\n",
      "Evaluating Topic Model with 14 topics...\n",
      "Evaluating Topic Model with 17 topics...\n",
      "Evaluating Topic Model with 20 topics...\n",
      "Evaluating Topic Model with 23 topics...\n",
      "Evaluating Topic Model with 26 topics...\n",
      "Evaluating Topic Model with 29 topics...\n",
      "Evaluating Topic Model with 32 topics...\n",
      "Evaluating Topic Model with 35 topics...\n",
      "Evaluating Topic Model with 38 topics...\n",
      "PASS #4:\n",
      "Evaluating Topic Model with 5 topics...\n",
      "Evaluating Topic Model with 8 topics...\n",
      "Evaluating Topic Model with 11 topics...\n",
      "Evaluating Topic Model with 14 topics...\n",
      "Evaluating Topic Model with 17 topics...\n",
      "Evaluating Topic Model with 20 topics...\n",
      "Evaluating Topic Model with 23 topics...\n",
      "Evaluating Topic Model with 26 topics...\n",
      "Evaluating Topic Model with 29 topics...\n",
      "Evaluating Topic Model with 32 topics...\n",
      "Evaluating Topic Model with 35 topics...\n",
      "Evaluating Topic Model with 38 topics...\n",
      "Wall time: 11min 55s\n"
     ]
    }
   ],
   "source": [
    "%%time\n",
    "warnings.filterwarnings(\"ignore\", category=DeprecationWarning) \n",
    "\n",
    "# Can take a long time to run.\n",
    "coherence_values = compute_coherence_values(dictionary=id2word, \n",
    "                                            corpus=corpus,\n",
    "                                            start=5, \n",
    "                                            limit=40, \n",
    "                                            step=3,\n",
    "                                            passes=5)"
   ]
  },
  {
   "cell_type": "code",
   "execution_count": 60,
   "metadata": {},
   "outputs": [
    {
     "data": {
      "text/html": [
       "<div>\n",
       "<style scoped>\n",
       "    .dataframe tbody tr th:only-of-type {\n",
       "        vertical-align: middle;\n",
       "    }\n",
       "\n",
       "    .dataframe tbody tr th {\n",
       "        vertical-align: top;\n",
       "    }\n",
       "\n",
       "    .dataframe thead th {\n",
       "        text-align: right;\n",
       "    }\n",
       "</style>\n",
       "<table border=\"1\" class=\"dataframe\">\n",
       "  <thead>\n",
       "    <tr style=\"text-align: right;\">\n",
       "      <th></th>\n",
       "      <th>coherence_score</th>\n",
       "      <th>num_topics</th>\n",
       "      <th>pass</th>\n",
       "    </tr>\n",
       "  </thead>\n",
       "  <tbody>\n",
       "    <tr>\n",
       "      <th>0</th>\n",
       "      <td>-0.696362</td>\n",
       "      <td>5</td>\n",
       "      <td>0</td>\n",
       "    </tr>\n",
       "    <tr>\n",
       "      <th>1</th>\n",
       "      <td>-0.899543</td>\n",
       "      <td>8</td>\n",
       "      <td>0</td>\n",
       "    </tr>\n",
       "    <tr>\n",
       "      <th>2</th>\n",
       "      <td>-0.790369</td>\n",
       "      <td>11</td>\n",
       "      <td>0</td>\n",
       "    </tr>\n",
       "    <tr>\n",
       "      <th>3</th>\n",
       "      <td>-0.793625</td>\n",
       "      <td>14</td>\n",
       "      <td>0</td>\n",
       "    </tr>\n",
       "    <tr>\n",
       "      <th>4</th>\n",
       "      <td>-0.735774</td>\n",
       "      <td>17</td>\n",
       "      <td>0</td>\n",
       "    </tr>\n",
       "  </tbody>\n",
       "</table>\n",
       "</div>"
      ],
      "text/plain": [
       "   coherence_score  num_topics  pass\n",
       "0        -0.696362           5     0\n",
       "1        -0.899543           8     0\n",
       "2        -0.790369          11     0\n",
       "3        -0.793625          14     0\n",
       "4        -0.735774          17     0"
      ]
     },
     "execution_count": 60,
     "metadata": {},
     "output_type": "execute_result"
    }
   ],
   "source": [
    "topic_coherence = pd.DataFrame.from_records(coherence_values)\n",
    "topic_coherence.head()"
   ]
  },
  {
   "cell_type": "code",
   "execution_count": 61,
   "metadata": {},
   "outputs": [
    {
     "name": "stderr",
     "output_type": "stream",
     "text": [
      "C:\\Users\\bruno\\anaconda3\\envs\\U4-S1-NLP\\lib\\site-packages\\scipy\\stats\\stats.py:1713: FutureWarning: Using a non-tuple sequence for multidimensional indexing is deprecated; use `arr[tuple(seq)]` instead of `arr[seq]`. In the future this will be interpreted as an array index, `arr[np.array(seq)]`, which will result either in an error or a different result.\n",
      "  return np.add.reduce(sorted[indexer] * weights, axis=axis) / sumval\n"
     ]
    },
    {
     "data": {
      "image/png": "[encoded data removed]",
      "text/plain": [
       "<Figure size 432x288 with 1 Axes>"
      ]
     },
     "metadata": {
      "needs_background": "light"
     },
     "output_type": "display_data"
    }
   ],
   "source": [
    "import seaborn as sns\n",
    "\n",
    "ax = sns.lineplot(x=\"num_topics\", y=\"coherence_score\", data=topic_coherence)"
   ]
  },
  {
   "cell_type": "markdown",
   "metadata": {},
   "source": [
    "# Sources\n",
    "\n",
    "### *References*\n",
    "* [Andrew Ng et al paper on LDA](https://ai.stanford.edu/~ang/papers/jair03-lda.pdf)\n",
    "* On [Coherence](https://pdfs.semanticscholar.org/1521/8d9c029cbb903ae7c729b2c644c24994c201.pdf)\n",
    "\n",
    "### *Resources*\n",
    "\n",
    "* [Gensim](https://radimrehurek.com/gensim/): Python package for topic modeling, nlp, word vectorization, and few other things. Well maintained and well documented.\n",
    "* [Topic Modeling with Gensim](http://www.machinelearningplus.com/nlp/topic-modeling-gensim-python/#11createthedictionaryandcorpusneededfortopicmodeling): A kind of cookbook for LDA with gensim. Excellent overview, but the you need to be aware of missing import statements and assumed prior knowledge.\n",
    "* [Chinese Restuarant Process](https://en.wikipedia.org/wiki/Chinese_restaurant_process): That really obscure stats thing I mentioned... \n",
    "* [PyLDAvis](https://github.com/bmabey/pyLDAvis): Library for visualizing the topic model and performing some exploratory work. Works well. Has a direct parrell implementation in R as well. \n",
    "* [Rare Technologies](https://rare-technologies.com/): The people that made & maintain gensim and a few other libraries.\n",
    "* [Jane Austen v. Charlotte Bronte](https://www.literaryladiesguide.com/literary-musings/jane-austen-charlotte-bronte-different-alike/)"
   ]
  }
 ],
 "metadata": {
  "kernelspec": {
   "display_name": "U4-S1-NLP (Python3)",
   "language": "python",
   "name": "u4-s1-nlp"
  },
  "language_info": {
   "codemirror_mode": {
    "name": "ipython",
    "version": 3
   },
   "file_extension": ".py",
   "mimetype": "text/x-python",
   "name": "python",
   "nbconvert_exporter": "python",
   "pygments_lexer": "ipython3",
   "version": "3.7.0"
  }
 },
 "nbformat": 4,
 "nbformat_minor": 4
}
