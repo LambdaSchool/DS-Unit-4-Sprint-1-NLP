{
  "nbformat": 4,
  "nbformat_minor": 0,
  "metadata": {
    "kernelspec": {
      "display_name": "U4-S1-NLP (Python3)",
      "language": "python",
      "name": "u4-s1-nlp"
    },
    "language_info": {
      "codemirror_mode": {
        "name": "ipython",
        "version": 3
      },
      "file_extension": ".py",
      "mimetype": "text/x-python",
      "name": "python",
      "nbconvert_exporter": "python",
      "pygments_lexer": "ipython3",
      "version": "3.7.0"
    },
    "colab": {
      "name": "LS_DS17_414_Topic_Modeling_Lecture.ipynb",
      "provenance": [],
      "include_colab_link": true
    }
  },
  "cells": [
    {
      "cell_type": "markdown",
      "metadata": {
        "id": "view-in-github",
        "colab_type": "text"
      },
      "source": [
        "<a href=\"https://colab.research.google.com/github/skhabiri/DS-Unit-4-Sprint-1-NLP/blob/main/module4-topic-modeling/LS_DS17_414_Topic_Modeling_Lecture.ipynb\" target=\"_parent\"><img src=\"https://colab.research.google.com/assets/colab-badge.svg\" alt=\"Open In Colab\"/></a>"
      ]
    },
    {
      "cell_type": "code",
      "metadata": {
        "id": "4763Tu27COwt"
      },
      "source": [
        "import numpy as np\n",
        "import gensim\n",
        "import os\n",
        "import re\n",
        "from ast import literal_eval\n",
        "\n",
        "from gensim.utils import simple_preprocess\n",
        "from gensim.parsing.preprocessing import STOPWORDS\n",
        "from gensim import corpora\n",
        "\n",
        "from gensim.models.ldamulticore import LdaMulticore\n",
        "\n",
        "import pandas as pd\n",
        "import tqdm"
      ],
      "execution_count": null,
      "outputs": []
    },
    {
      "cell_type": "code",
      "metadata": {
        "id": "PPDFRUjlCOww"
      },
      "source": [
        "df = pd.read_csv('./data/imbd_keywords.csv')"
      ],
      "execution_count": null,
      "outputs": []
    },
    {
      "cell_type": "code",
      "metadata": {
        "id": "oVEnELC7COwz",
        "outputId": "b95cb34e-9c1b-49e0-ee15-cf76a42249fe"
      },
      "source": [
        "df.head()"
      ],
      "execution_count": null,
      "outputs": [
        {
          "output_type": "execute_result",
          "data": {
            "text/html": [
              "<div>\n",
              "<style scoped>\n",
              "    .dataframe tbody tr th:only-of-type {\n",
              "        vertical-align: middle;\n",
              "    }\n",
              "\n",
              "    .dataframe tbody tr th {\n",
              "        vertical-align: top;\n",
              "    }\n",
              "\n",
              "    .dataframe thead th {\n",
              "        text-align: right;\n",
              "    }\n",
              "</style>\n",
              "<table border=\"1\" class=\"dataframe\">\n",
              "  <thead>\n",
              "    <tr style=\"text-align: right;\">\n",
              "      <th></th>\n",
              "      <th>review</th>\n",
              "      <th>sentiment</th>\n",
              "      <th>keywords</th>\n",
              "    </tr>\n",
              "  </thead>\n",
              "  <tbody>\n",
              "    <tr>\n",
              "      <th>0</th>\n",
              "      <td>One of the other reviewers has mentioned that ...</td>\n",
              "      <td>positive</td>\n",
              "      <td>['other shows', 'graphic violence', 'prison ex...</td>\n",
              "    </tr>\n",
              "    <tr>\n",
              "      <th>1</th>\n",
              "      <td>A wonderful little production. The filming tec...</td>\n",
              "      <td>positive</td>\n",
              "      <td>['halliwell', 'michael sheen', 'realism', 'com...</td>\n",
              "    </tr>\n",
              "    <tr>\n",
              "      <th>2</th>\n",
              "      <td>I thought this was a wonderful way to spend ti...</td>\n",
              "      <td>positive</td>\n",
              "      <td>['spirited young woman', 'devil wears prada', ...</td>\n",
              "    </tr>\n",
              "    <tr>\n",
              "      <th>3</th>\n",
              "      <td>Basically there's a family where a little boy ...</td>\n",
              "      <td>negative</td>\n",
              "      <td>['playing parents', 'jake', 'parents', 'descen...</td>\n",
              "    </tr>\n",
              "    <tr>\n",
              "      <th>4</th>\n",
              "      <td>Petter Mattei's \"Love in the Time of Money\" is...</td>\n",
              "      <td>positive</td>\n",
              "      <td>['mr. mattei', 'good luck', 'mattei', 'human r...</td>\n",
              "    </tr>\n",
              "  </tbody>\n",
              "</table>\n",
              "</div>"
            ],
            "text/plain": [
              "                                              review sentiment  \\\n",
              "0  One of the other reviewers has mentioned that ...  positive   \n",
              "1  A wonderful little production. The filming tec...  positive   \n",
              "2  I thought this was a wonderful way to spend ti...  positive   \n",
              "3  Basically there's a family where a little boy ...  negative   \n",
              "4  Petter Mattei's \"Love in the Time of Money\" is...  positive   \n",
              "\n",
              "                                            keywords  \n",
              "0  ['other shows', 'graphic violence', 'prison ex...  \n",
              "1  ['halliwell', 'michael sheen', 'realism', 'com...  \n",
              "2  ['spirited young woman', 'devil wears prada', ...  \n",
              "3  ['playing parents', 'jake', 'parents', 'descen...  \n",
              "4  ['mr. mattei', 'good luck', 'mattei', 'human r...  "
            ]
          },
          "metadata": {
            "tags": []
          },
          "execution_count": 3
        }
      ]
    },
    {
      "cell_type": "code",
      "metadata": {
        "id": "Vo1m675tCOw4",
        "outputId": "735513c5-964c-4956-b161-91a821d602e6"
      },
      "source": [
        "df.shape"
      ],
      "execution_count": null,
      "outputs": [
        {
          "output_type": "execute_result",
          "data": {
            "text/plain": [
              "(40436, 3)"
            ]
          },
          "metadata": {
            "tags": []
          },
          "execution_count": 4
        }
      ]
    },
    {
      "cell_type": "code",
      "metadata": {
        "id": "IKlMoY7VCOw6",
        "outputId": "61b97108-fdca-4c5b-bbd9-9c48517b1d09"
      },
      "source": [
        "df['keywords'][0]"
      ],
      "execution_count": null,
      "outputs": [
        {
          "output_type": "execute_result",
          "data": {
            "text/plain": [
              "\"['other shows', 'graphic violence', 'prison experience', 'prison bitches', 'violence', 'emerald city', 'dodgy dealings', 'glass fronts', 'inmates', 'street skills', 'unflinching scenes', 'crooked guards', 'the oswald maximum security state penitentary', 'mainstream audiences', 'oz', 'city', 'shady agreements', 'pretty pictures', 'touch', 'muslims', 'irish', 'italians', 'gangstas', 'latinos', 'christians', 'home', 'first', 'charm', 'the high levels', 'drugs', 'right', 'regards', 'well mannered, middle class inmates', 'sex', 'a show', 'scuffles', 'order', 'aryans', 'just 1 oz episode', 'the first episode', 'the other reviewers', 'your darker side', 'the prison', 'the main appeal', 'romance', 'the first thing', 'an experimental section', 'privacy', 'the classic use', 'the word', 'no punches', 'its brutality', 'their lack', 'a taste', 'the fact', 'the nickname', 'the agenda', 'all the cells', 'a nickel', 'you']\""
            ]
          },
          "metadata": {
            "tags": []
          },
          "execution_count": 7
        }
      ]
    },
    {
      "cell_type": "code",
      "metadata": {
        "id": "xpcTreypCOw8"
      },
      "source": [
        "df['keywords'] = df['keywords'].apply(literal_eval)"
      ],
      "execution_count": null,
      "outputs": []
    },
    {
      "cell_type": "code",
      "metadata": {
        "id": "0Yj726u0COw_",
        "outputId": "38535c16-a56a-41b9-cef4-d314784f08ff"
      },
      "source": [
        "df['keywords'][0]"
      ],
      "execution_count": null,
      "outputs": [
        {
          "output_type": "execute_result",
          "data": {
            "text/plain": [
              "['other shows',\n",
              " 'graphic violence',\n",
              " 'prison experience',\n",
              " 'prison bitches',\n",
              " 'violence',\n",
              " 'emerald city',\n",
              " 'dodgy dealings',\n",
              " 'glass fronts',\n",
              " 'inmates',\n",
              " 'street skills',\n",
              " 'unflinching scenes',\n",
              " 'crooked guards',\n",
              " 'the oswald maximum security state penitentary',\n",
              " 'mainstream audiences',\n",
              " 'oz',\n",
              " 'city',\n",
              " 'shady agreements',\n",
              " 'pretty pictures',\n",
              " 'touch',\n",
              " 'muslims',\n",
              " 'irish',\n",
              " 'italians',\n",
              " 'gangstas',\n",
              " 'latinos',\n",
              " 'christians',\n",
              " 'home',\n",
              " 'first',\n",
              " 'charm',\n",
              " 'the high levels',\n",
              " 'drugs',\n",
              " 'right',\n",
              " 'regards',\n",
              " 'well mannered, middle class inmates',\n",
              " 'sex',\n",
              " 'a show',\n",
              " 'scuffles',\n",
              " 'order',\n",
              " 'aryans',\n",
              " 'just 1 oz episode',\n",
              " 'the first episode',\n",
              " 'the other reviewers',\n",
              " 'your darker side',\n",
              " 'the prison',\n",
              " 'the main appeal',\n",
              " 'romance',\n",
              " 'the first thing',\n",
              " 'an experimental section',\n",
              " 'privacy',\n",
              " 'the classic use',\n",
              " 'the word',\n",
              " 'no punches',\n",
              " 'its brutality',\n",
              " 'their lack',\n",
              " 'a taste',\n",
              " 'the fact',\n",
              " 'the nickname',\n",
              " 'the agenda',\n",
              " 'all the cells',\n",
              " 'a nickel',\n",
              " 'you']"
            ]
          },
          "metadata": {
            "tags": []
          },
          "execution_count": 9
        }
      ]
    },
    {
      "cell_type": "code",
      "metadata": {
        "id": "0XeUAXPICOxC",
        "outputId": "19df06eb-67f9-49bc-db0e-e375bc01c444"
      },
      "source": [
        "df.head()"
      ],
      "execution_count": null,
      "outputs": [
        {
          "output_type": "execute_result",
          "data": {
            "text/html": [
              "<div>\n",
              "<style scoped>\n",
              "    .dataframe tbody tr th:only-of-type {\n",
              "        vertical-align: middle;\n",
              "    }\n",
              "\n",
              "    .dataframe tbody tr th {\n",
              "        vertical-align: top;\n",
              "    }\n",
              "\n",
              "    .dataframe thead th {\n",
              "        text-align: right;\n",
              "    }\n",
              "</style>\n",
              "<table border=\"1\" class=\"dataframe\">\n",
              "  <thead>\n",
              "    <tr style=\"text-align: right;\">\n",
              "      <th></th>\n",
              "      <th>review</th>\n",
              "      <th>sentiment</th>\n",
              "      <th>keywords</th>\n",
              "    </tr>\n",
              "  </thead>\n",
              "  <tbody>\n",
              "    <tr>\n",
              "      <th>0</th>\n",
              "      <td>One of the other reviewers has mentioned that ...</td>\n",
              "      <td>positive</td>\n",
              "      <td>[other shows, graphic violence, prison experie...</td>\n",
              "    </tr>\n",
              "    <tr>\n",
              "      <th>1</th>\n",
              "      <td>A wonderful little production. The filming tec...</td>\n",
              "      <td>positive</td>\n",
              "      <td>[halliwell, michael sheen, realism, comedy, wi...</td>\n",
              "    </tr>\n",
              "    <tr>\n",
              "      <th>2</th>\n",
              "      <td>I thought this was a wonderful way to spend ti...</td>\n",
              "      <td>positive</td>\n",
              "      <td>[spirited young woman, devil wears prada, summ...</td>\n",
              "    </tr>\n",
              "    <tr>\n",
              "      <th>3</th>\n",
              "      <td>Basically there's a family where a little boy ...</td>\n",
              "      <td>negative</td>\n",
              "      <td>[playing parents, jake, parents, descent dialo...</td>\n",
              "    </tr>\n",
              "    <tr>\n",
              "      <th>4</th>\n",
              "      <td>Petter Mattei's \"Love in the Time of Money\" is...</td>\n",
              "      <td>positive</td>\n",
              "      <td>[mr. mattei, good luck, mattei, human relation...</td>\n",
              "    </tr>\n",
              "  </tbody>\n",
              "</table>\n",
              "</div>"
            ],
            "text/plain": [
              "                                              review sentiment  \\\n",
              "0  One of the other reviewers has mentioned that ...  positive   \n",
              "1  A wonderful little production. The filming tec...  positive   \n",
              "2  I thought this was a wonderful way to spend ti...  positive   \n",
              "3  Basically there's a family where a little boy ...  negative   \n",
              "4  Petter Mattei's \"Love in the Time of Money\" is...  positive   \n",
              "\n",
              "                                            keywords  \n",
              "0  [other shows, graphic violence, prison experie...  \n",
              "1  [halliwell, michael sheen, realism, comedy, wi...  \n",
              "2  [spirited young woman, devil wears prada, summ...  \n",
              "3  [playing parents, jake, parents, descent dialo...  \n",
              "4  [mr. mattei, good luck, mattei, human relation...  "
            ]
          },
          "metadata": {
            "tags": []
          },
          "execution_count": 10
        }
      ]
    },
    {
      "cell_type": "code",
      "metadata": {
        "id": "4TE5CQNDCOxE"
      },
      "source": [
        "stop_words = [\n",
        "    'movie',\n",
        "    'review',\n",
        "    'film', \n",
        "    'actor',\n",
        "    'actress',\n",
        "    'films',\n",
        "]\n",
        "\n",
        "import spacy\n",
        "nlp = spacy.load('en_core_web_lg')"
      ],
      "execution_count": null,
      "outputs": []
    },
    {
      "cell_type": "code",
      "metadata": {
        "id": "0p6Q92mpCOxG"
      },
      "source": [
        "stops = nlp.Defaults.stop_words.union(stop_words)"
      ],
      "execution_count": null,
      "outputs": []
    },
    {
      "cell_type": "code",
      "metadata": {
        "id": "JCrltj07COxI"
      },
      "source": [
        "def remove_stops(_list_):\n",
        "    \"\"\"\n",
        "    Remove stop words from a list of strings that contain multiple words (each row)\n",
        "    \"\"\"\n",
        "    \n",
        "    keywords = []\n",
        "    \n",
        "    # _list_ referes to one row in the df\n",
        "    # keyword is a string phrase containing multiple words\n",
        "    for keyword in _list_:\n",
        "        \n",
        "        phrase = []\n",
        "        \n",
        "        words = keyword.split()\n",
        "        \n",
        "        for word in words:\n",
        "            if word in stops:\n",
        "                pass\n",
        "            else: \n",
        "                phrase.append(word)\n",
        "            \n",
        "        # join elements of phrase with ' 's\n",
        "        phrase = ' '.join(phrase)\n",
        "        \n",
        "        # to exclude blanks\n",
        "        if len(phrase) > 0:\n",
        "            keywords.append(phrase)\n",
        "    # keywords is a processed version of _list_\n",
        "    return keywords\n",
        "    "
      ],
      "execution_count": null,
      "outputs": []
    },
    {
      "cell_type": "code",
      "metadata": {
        "id": "TWpH8tLyCOxK",
        "outputId": "8e32e8e9-ffc3-434a-9e49-f39dc74eb21c"
      },
      "source": [
        "from tqdm import tqdm\n",
        "\n",
        "# instantiate tqdm \n",
        "tqdm.pandas()\n",
        "\n",
        "df['clean_keywords'] = df['keywords'].progress_apply(remove_stops)"
      ],
      "execution_count": null,
      "outputs": [
        {
          "output_type": "stream",
          "text": [
            "100%|██████████| 40436/40436 [00:03<00:00, 10583.84it/s]\n"
          ],
          "name": "stderr"
        }
      ]
    },
    {
      "cell_type": "code",
      "metadata": {
        "id": "2mvC6ft6COxM",
        "outputId": "6b6af0b8-b901-4802-dc72-d88baf54fae6"
      },
      "source": [
        "df['clean_keywords'][0]"
      ],
      "execution_count": null,
      "outputs": [
        {
          "output_type": "execute_result",
          "data": {
            "text/plain": [
              "['shows',\n",
              " 'graphic violence',\n",
              " 'prison experience',\n",
              " 'prison bitches',\n",
              " 'violence',\n",
              " 'emerald city',\n",
              " 'dodgy dealings',\n",
              " 'glass fronts',\n",
              " 'inmates',\n",
              " 'street skills',\n",
              " 'unflinching scenes',\n",
              " 'crooked guards',\n",
              " 'oswald maximum security state penitentary',\n",
              " 'mainstream audiences',\n",
              " 'oz',\n",
              " 'city',\n",
              " 'shady agreements',\n",
              " 'pretty pictures',\n",
              " 'touch',\n",
              " 'muslims',\n",
              " 'irish',\n",
              " 'italians',\n",
              " 'gangstas',\n",
              " 'latinos',\n",
              " 'christians',\n",
              " 'home',\n",
              " 'charm',\n",
              " 'high levels',\n",
              " 'drugs',\n",
              " 'right',\n",
              " 'regards',\n",
              " 'mannered, middle class inmates',\n",
              " 'sex',\n",
              " 'scuffles',\n",
              " 'order',\n",
              " 'aryans',\n",
              " '1 oz episode',\n",
              " 'episode',\n",
              " 'reviewers',\n",
              " 'darker',\n",
              " 'prison',\n",
              " 'main appeal',\n",
              " 'romance',\n",
              " 'thing',\n",
              " 'experimental section',\n",
              " 'privacy',\n",
              " 'classic use',\n",
              " 'word',\n",
              " 'punches',\n",
              " 'brutality',\n",
              " 'lack',\n",
              " 'taste',\n",
              " 'fact',\n",
              " 'nickname',\n",
              " 'agenda',\n",
              " 'cells',\n",
              " 'nickel']"
            ]
          },
          "metadata": {
            "tags": []
          },
          "execution_count": 117
        }
      ]
    },
    {
      "cell_type": "code",
      "metadata": {
        "id": "0hsRS3R-COxP"
      },
      "source": [
        "import gensim\n",
        "from gensim import corpora\n",
        "from gensim.models.ldamulticore import LdaMulticore"
      ],
      "execution_count": null,
      "outputs": []
    },
    {
      "cell_type": "code",
      "metadata": {
        "id": "TiXTyqlqCOxR"
      },
      "source": [
        "# Dict representation of all our keywords from the entire df column\n",
        "# assign an id to each keyword string in alphabetical order\n",
        "id2word = corpora.Dictionary(df['clean_keywords'])"
      ],
      "execution_count": null,
      "outputs": []
    },
    {
      "cell_type": "code",
      "metadata": {
        "id": "WH2i848sCOxT",
        "outputId": "3239cad4-8449-4bc0-8029-c80c2f345d4f"
      },
      "source": [
        "id2word[311]"
      ],
      "execution_count": null,
      "outputs": [
        {
          "output_type": "execute_result",
          "data": {
            "text/plain": [
              "'year later'"
            ]
          },
          "metadata": {
            "tags": []
          },
          "execution_count": 106
        }
      ]
    },
    {
      "cell_type": "code",
      "metadata": {
        "id": "iP9MH9WrCOxV",
        "outputId": "688313a8-efb6-4423-f3e0-b5ca5fd4f0c5"
      },
      "source": [
        "id2word[0]"
      ],
      "execution_count": null,
      "outputs": [
        {
          "output_type": "execute_result",
          "data": {
            "text/plain": [
              "'1 oz episode'"
            ]
          },
          "metadata": {
            "tags": []
          },
          "execution_count": 107
        }
      ]
    },
    {
      "cell_type": "code",
      "metadata": {
        "id": "N53smhEdCOxX",
        "outputId": "bff48752-cc9c-420e-e10c-aac71d7d333f"
      },
      "source": [
        "len(id2word)"
      ],
      "execution_count": null,
      "outputs": [
        {
          "output_type": "execute_result",
          "data": {
            "text/plain": [
              "491029"
            ]
          },
          "metadata": {
            "tags": []
          },
          "execution_count": 108
        }
      ]
    },
    {
      "cell_type": "code",
      "metadata": {
        "id": "oc2u7osYCOxa",
        "outputId": "98def4c8-993e-4ed3-f7c0-697637656013"
      },
      "source": [
        "len(df['clean_keywords'][0])"
      ],
      "execution_count": null,
      "outputs": [
        {
          "output_type": "execute_result",
          "data": {
            "text/plain": [
              "57"
            ]
          },
          "metadata": {
            "tags": []
          },
          "execution_count": 118
        }
      ]
    },
    {
      "cell_type": "code",
      "metadata": {
        "id": "CcQ9psHmCOxc",
        "outputId": "19311d60-11d6-40e6-8856-019a8ba899cd"
      },
      "source": [
        "len(df['clean_keywords'])"
      ],
      "execution_count": null,
      "outputs": [
        {
          "output_type": "execute_result",
          "data": {
            "text/plain": [
              "40436"
            ]
          },
          "metadata": {
            "tags": []
          },
          "execution_count": 110
        }
      ]
    },
    {
      "cell_type": "code",
      "metadata": {
        "id": "1zq86G0ZCOxf",
        "outputId": "00c26f0a-9a32-47d4-8b08-bacbb68917b6"
      },
      "source": [
        "id2word.token2id['michael rooker']"
      ],
      "execution_count": null,
      "outputs": [
        {
          "output_type": "execute_result",
          "data": {
            "text/plain": [
              "555"
            ]
          },
          "metadata": {
            "tags": []
          },
          "execution_count": 111
        }
      ]
    },
    {
      "cell_type": "code",
      "metadata": {
        "id": "2yGFdwtICOxh",
        "outputId": "b3ad50c8-1ec9-47a2-9b00-edbbf613d06e"
      },
      "source": [
        "len(id2word.keys())"
      ],
      "execution_count": null,
      "outputs": [
        {
          "output_type": "execute_result",
          "data": {
            "text/plain": [
              "491029"
            ]
          },
          "metadata": {
            "tags": []
          },
          "execution_count": 112
        }
      ]
    },
    {
      "cell_type": "code",
      "metadata": {
        "id": "ykaYsGUqCOxj"
      },
      "source": [
        "# exclude the keys that are repeated less than or more than a certain number of times\n",
        "id2word.filter_extremes(no_below=15, no_above=0.85)"
      ],
      "execution_count": null,
      "outputs": []
    },
    {
      "cell_type": "code",
      "metadata": {
        "id": "4RP20D92COxl",
        "outputId": "e6199e92-33de-4960-a05b-64979a2f89cc"
      },
      "source": [
        "len(id2word.keys())"
      ],
      "execution_count": null,
      "outputs": [
        {
          "output_type": "execute_result",
          "data": {
            "text/plain": [
              "10064"
            ]
          },
          "metadata": {
            "tags": []
          },
          "execution_count": 115
        }
      ]
    },
    {
      "cell_type": "code",
      "metadata": {
        "id": "gYNMSUg2COxn"
      },
      "source": [
        "# counts number of occurences based on the word ids\n",
        "corpus = [id2word.doc2bow(text) for text in df['clean_keywords']]"
      ],
      "execution_count": null,
      "outputs": []
    },
    {
      "cell_type": "code",
      "metadata": {
        "id": "CGdn4XOICOxp",
        "outputId": "698230e7-56a8-4869-8706-97a43b96bae5"
      },
      "source": [
        "len(corpus)"
      ],
      "execution_count": null,
      "outputs": [
        {
          "output_type": "execute_result",
          "data": {
            "text/plain": [
              "40436"
            ]
          },
          "metadata": {
            "tags": []
          },
          "execution_count": 56
        }
      ]
    },
    {
      "cell_type": "code",
      "metadata": {
        "id": "01ojTF8SCOxs",
        "outputId": "85e90db5-027d-469e-b18e-a2a5b1f6068d"
      },
      "source": [
        "id2word.token2id['shows']"
      ],
      "execution_count": null,
      "outputs": [
        {
          "output_type": "execute_result",
          "data": {
            "text/plain": [
              "29"
            ]
          },
          "metadata": {
            "tags": []
          },
          "execution_count": 116
        }
      ]
    },
    {
      "cell_type": "code",
      "metadata": {
        "id": "fnqq06qJCOxu",
        "outputId": "09072631-c555-4c04-d5e0-7f4965077e95"
      },
      "source": [
        "id2word[0]"
      ],
      "execution_count": null,
      "outputs": [
        {
          "output_type": "execute_result",
          "data": {
            "text/plain": [
              "'agenda'"
            ]
          },
          "metadata": {
            "tags": []
          },
          "execution_count": 127
        }
      ]
    },
    {
      "cell_type": "code",
      "metadata": {
        "id": "fG-Nlg_SCOxw",
        "outputId": "54761f24-b63d-4f27-d15a-c955728b8707"
      },
      "source": [
        "# assigns sequential ids to the keywords from first row on, and counts the number of occurences of the keyword in the same row.\n",
        "# further occurences of the keyword in other rows will be given the same id as before\n",
        "corpus[0]"
      ],
      "execution_count": null,
      "outputs": [
        {
          "output_type": "execute_result",
          "data": {
            "text/plain": [
              "[(0, 1),\n",
              " (1, 1),\n",
              " (2, 1),\n",
              " (3, 1),\n",
              " (4, 1),\n",
              " (5, 1),\n",
              " (6, 1),\n",
              " (7, 1),\n",
              " (8, 1),\n",
              " (9, 1),\n",
              " (10, 1),\n",
              " (11, 1),\n",
              " (12, 1),\n",
              " (13, 1),\n",
              " (14, 1),\n",
              " (15, 1),\n",
              " (16, 1),\n",
              " (17, 1),\n",
              " (18, 1),\n",
              " (19, 1),\n",
              " (20, 1),\n",
              " (21, 1),\n",
              " (22, 1),\n",
              " (23, 1),\n",
              " (24, 1),\n",
              " (25, 1),\n",
              " (26, 1),\n",
              " (27, 1),\n",
              " (28, 1),\n",
              " (29, 1),\n",
              " (30, 1),\n",
              " (31, 1),\n",
              " (32, 1),\n",
              " (33, 1),\n",
              " (34, 1)]"
            ]
          },
          "metadata": {
            "tags": []
          },
          "execution_count": 126
        }
      ]
    },
    {
      "cell_type": "code",
      "metadata": {
        "id": "VCsiylXXCOxy",
        "outputId": "bd60b156-dee7-4d4c-df9e-52b1540f7704"
      },
      "source": [
        "# episode is repeated twice in this row, and it's id is borroed from row number 1\n",
        "corpus[39080]"
      ],
      "execution_count": null,
      "outputs": [
        {
          "output_type": "execute_result",
          "data": {
            "text/plain": [
              "[(8, 2),\n",
              " (171, 1),\n",
              " (351, 1),\n",
              " (643, 1),\n",
              " (1112, 1),\n",
              " (1246, 1),\n",
              " (2052, 1),\n",
              " (3134, 1),\n",
              " (4987, 1),\n",
              " (6496, 1),\n",
              " (7023, 1),\n",
              " (9752, 1)]"
            ]
          },
          "metadata": {
            "tags": []
          },
          "execution_count": 130
        }
      ]
    },
    {
      "cell_type": "code",
      "metadata": {
        "id": "Xp7n4jfWCOx0",
        "outputId": "2b7c3cb9-5b4a-4a0f-c1e1-7479e82b6458"
      },
      "source": [
        "df['clean_keywords'][0]"
      ],
      "execution_count": null,
      "outputs": [
        {
          "output_type": "stream",
          "text": [
            "/Users/shahnam/opt/anaconda3/envs/U4-S1-NLP/lib/python3.7/site-packages/ipykernel/ipkernel.py:287: DeprecationWarning: `should_run_async` will not call `transform_cell` automatically in the future. Please pass the result to `transformed_cell` argument and any exception that happen during thetransform in `preprocessing_exc_tuple` in IPython 7.17 and above.\n",
            "  and should_run_async(code)\n"
          ],
          "name": "stderr"
        },
        {
          "output_type": "execute_result",
          "data": {
            "text/plain": [
              "['shows',\n",
              " 'graphic violence',\n",
              " 'prison experience',\n",
              " 'prison bitches',\n",
              " 'violence',\n",
              " 'emerald city',\n",
              " 'dodgy dealings',\n",
              " 'glass fronts',\n",
              " 'inmates',\n",
              " 'street skills',\n",
              " 'unflinching scenes',\n",
              " 'crooked guards',\n",
              " 'oswald maximum security state penitentary',\n",
              " 'mainstream audiences',\n",
              " 'oz',\n",
              " 'city',\n",
              " 'shady agreements',\n",
              " 'pretty pictures',\n",
              " 'touch',\n",
              " 'muslims',\n",
              " 'irish',\n",
              " 'italians',\n",
              " 'gangstas',\n",
              " 'latinos',\n",
              " 'christians',\n",
              " 'home',\n",
              " 'charm',\n",
              " 'high levels',\n",
              " 'drugs',\n",
              " 'right',\n",
              " 'regards',\n",
              " 'mannered, middle class inmates',\n",
              " 'sex',\n",
              " 'scuffles',\n",
              " 'order',\n",
              " 'aryans',\n",
              " '1 oz episode',\n",
              " 'episode',\n",
              " 'reviewers',\n",
              " 'darker',\n",
              " 'prison',\n",
              " 'main appeal',\n",
              " 'romance',\n",
              " 'thing',\n",
              " 'experimental section',\n",
              " 'privacy',\n",
              " 'classic use',\n",
              " 'word',\n",
              " 'punches',\n",
              " 'brutality',\n",
              " 'lack',\n",
              " 'taste',\n",
              " 'fact',\n",
              " 'nickname',\n",
              " 'agenda',\n",
              " 'cells',\n",
              " 'nickel']"
            ]
          },
          "metadata": {
            "tags": []
          },
          "execution_count": 134
        }
      ]
    },
    {
      "cell_type": "code",
      "metadata": {
        "id": "5j7hgpyXCOx3",
        "outputId": "97037ca6-553c-4588-d29e-739aff044c44"
      },
      "source": [
        "df['clean_keywords'][39080]"
      ],
      "execution_count": null,
      "outputs": [
        {
          "output_type": "stream",
          "text": [
            "/Users/shahnam/opt/anaconda3/envs/U4-S1-NLP/lib/python3.7/site-packages/ipykernel/ipkernel.py:287: DeprecationWarning: `should_run_async` will not call `transform_cell` automatically in the future. Please pass the result to `transformed_cell` argument and any exception that happen during thetransform in `preprocessing_exc_tuple` in IPython 7.17 and above.\n",
            "  and should_run_async(code)\n"
          ],
          "name": "stderr"
        },
        {
          "output_type": "execute_result",
          "data": {
            "text/plain": [
              "['alias legend j.j. abrams',\n",
              " 'legend j.j. abrams',\n",
              " 'locke',\n",
              " 'lockes little religious feud',\n",
              " 'libby',\n",
              " 'libbys deaths',\n",
              " 'episode',\n",
              " 'jack',\n",
              " 'second season',\n",
              " 'season',\n",
              " 'ana-lucia',\n",
              " 'final straw',\n",
              " 'rodriguez & watros characters',\n",
              " 'episode',\n",
              " 'series',\n",
              " 'deaths',\n",
              " 'great series',\n",
              " 'rodriguez & watros',\n",
              " 'future',\n",
              " 'end',\n",
              " 'viewing']"
            ]
          },
          "metadata": {
            "tags": []
          },
          "execution_count": 135
        }
      ]
    },
    {
      "cell_type": "code",
      "metadata": {
        "id": "cLsG_ihzCOx4"
      },
      "source": [
        "lda = LdaMulticore(corpus=corpus,\n",
        "                   id2word=id2word,\n",
        "                   num_topics=20,\n",
        "                   passes=50, \n",
        "                   workers=12\n",
        "                  )"
      ],
      "execution_count": null,
      "outputs": []
    },
    {
      "cell_type": "code",
      "metadata": {
        "id": "e7L8OwisCOx6",
        "outputId": "6a8d850b-a40a-4583-d6a9-4197e4661efb"
      },
      "source": [
        "lda.print_topics()"
      ],
      "execution_count": null,
      "outputs": [
        {
          "output_type": "execute_result",
          "data": {
            "text/plain": [
              "[(0,\n",
              "  '0.010*\"people\" + 0.009*\"time\" + 0.009*\"way\" + 0.008*\"war\" + 0.007*\"action\" + 0.006*\"end\" + 0.006*\"american\" + 0.006*\"fact\" + 0.005*\"world\" + 0.005*\"army\"'),\n",
              " (1,\n",
              "  '0.031*\"series\" + 0.028*\"episode\" + 0.015*\"episodes\" + 0.012*\"time\" + 0.012*\"season\" + 0.009*\"characters\" + 0.007*\"shows\" + 0.007*\"disney\" + 0.007*\"people\" + 0.007*\"animation\"'),\n",
              " (2,\n",
              "  '0.011*\"people\" + 0.011*\"time\" + 0.008*\"story\" + 0.008*\"scene\" + 0.008*\"fact\" + 0.007*\"characters\" + 0.007*\"acting\" + 0.007*\"money\" + 0.006*\"plot\" + 0.006*\"script\"'),\n",
              " (3,\n",
              "  '0.013*\"time\" + 0.011*\"hollywood\" + 0.009*\"war\" + 0.007*\"story\" + 0.006*\"life\" + 0.006*\"german\" + 0.006*\"oscar\" + 0.006*\"years\" + 0.005*\"history\" + 0.005*\"russian\"'),\n",
              " (4,\n",
              "  '0.009*\"time\" + 0.008*\"people\" + 0.007*\"guy\" + 0.007*\"lot\" + 0.006*\"scene\" + 0.006*\"thing\" + 0.006*\"end\" + 0.006*\"story\" + 0.006*\"point\" + 0.006*\"things\"'),\n",
              " (5,\n",
              "  '0.012*\"story\" + 0.010*\"life\" + 0.008*\"characters\" + 0.007*\"time\" + 0.007*\"way\" + 0.007*\"american\" + 0.007*\"love\" + 0.007*\"director\" + 0.006*\"world\" + 0.006*\"man\"'),\n",
              " (6,\n",
              "  '0.016*\"time\" + 0.012*\"sci-fi\" + 0.012*\"special effects\" + 0.011*\"acting\" + 0.010*\"story\" + 0.009*\"horror\" + 0.009*\"people\" + 0.009*\"fact\" + 0.008*\"hour\" + 0.007*\"movies\"'),\n",
              " (7,\n",
              "  '0.017*\"people\" + 0.016*\"life\" + 0.011*\"family\" + 0.010*\"story\" + 0.010*\"mother\" + 0.009*\"father\" + 0.008*\"love\" + 0.008*\"end\" + 0.007*\"time\" + 0.007*\"wife\"'),\n",
              " (8,\n",
              "  '0.026*\"kids\" + 0.014*\"time\" + 0.014*\"children\" + 0.012*\"fun\" + 0.010*\"lot\" + 0.009*\"adults\" + 0.008*\"jokes\" + 0.008*\"parents\" + 0.008*\"way\" + 0.007*\"things\"'),\n",
              " (9,\n",
              "  '0.015*\"plot\" + 0.013*\"people\" + 0.011*\"end\" + 0.011*\"time\" + 0.011*\"acting\" + 0.010*\"thing\" + 0.009*\"way\" + 0.008*\"characters\" + 0.008*\"gore\" + 0.007*\"horror\"'),\n",
              " (10,\n",
              "  '0.016*\"characters\" + 0.015*\"story\" + 0.009*\"character\" + 0.008*\"plot\" + 0.008*\"end\" + 0.007*\"actors\" + 0.007*\"audience\" + 0.006*\"role\" + 0.006*\"action\" + 0.006*\"lot\"'),\n",
              " (11,\n",
              "  '0.021*\"people\" + 0.016*\"time\" + 0.016*\"acting\" + 0.015*\"plot\" + 0.014*\"money\" + 0.010*\"actors\" + 0.010*\"movies\" + 0.009*\"worst\" + 0.009*\"crap\" + 0.009*\"thing\"'),\n",
              " (12,\n",
              "  '0.010*\"time\" + 0.009*\"man\" + 0.008*\"wife\" + 0.008*\"husband\" + 0.007*\"way\" + 0.006*\"women\" + 0.006*\"men\" + 0.006*\"night\" + 0.006*\"day\" + 0.006*\"people\"'),\n",
              " (13,\n",
              "  '0.018*\"time\" + 0.012*\"movies\" + 0.010*\"people\" + 0.009*\"start\" + 0.007*\"finish\" + 0.007*\"dvd\" + 0.007*\"way\" + 0.006*\"comedy\" + 0.006*\"reason\" + 0.005*\"batman\"'),\n",
              " (14,\n",
              "  '0.018*\"british\" + 0.016*\"time\" + 0.014*\"story\" + 0.012*\"movies\" + 0.011*\"dvd\" + 0.011*\"actors\" + 0.008*\"acting\" + 0.007*\"people\" + 0.007*\"english\" + 0.006*\"years\"'),\n",
              " (15,\n",
              "  '0.023*\"characters\" + 0.018*\"people\" + 0.015*\"actors\" + 0.015*\"story\" + 0.012*\"acting\" + 0.010*\"time\" + 0.010*\"plot\" + 0.010*\"lot\" + 0.009*\"comedy\" + 0.009*\"good\"'),\n",
              " (16,\n",
              "  '0.017*\"story\" + 0.015*\"people\" + 0.013*\"way\" + 0.011*\"time\" + 0.009*\"book\" + 0.009*\"things\" + 0.009*\"end\" + 0.009*\"life\" + 0.008*\"characters\" + 0.008*\"love\"'),\n",
              " (17,\n",
              "  '0.011*\"story\" + 0.009*\"plot\" + 0.007*\"role\" + 0.006*\"fact\" + 0.005*\"case\" + 0.005*\"years\" + 0.005*\"death\" + 0.005*\"time\" + 0.005*\"cast\" + 0.004*\"end\"'),\n",
              " (18,\n",
              "  '0.022*\"french\" + 0.015*\"american\" + 0.011*\"story\" + 0.011*\"italian\" + 0.011*\"english\" + 0.010*\"hollywood\" + 0.008*\"time\" + 0.008*\"european\" + 0.008*\"paris\" + 0.006*\"plot\"'),\n",
              " (19,\n",
              "  '0.012*\"role\" + 0.011*\"cast\" + 0.011*\"plot\" + 0.010*\"music\" + 0.009*\"story\" + 0.008*\"songs\" + 0.007*\"rest\" + 0.006*\"end\" + 0.006*\"stage\" + 0.006*\"love\"')]"
            ]
          },
          "metadata": {
            "tags": []
          },
          "execution_count": 65
        }
      ]
    },
    {
      "cell_type": "code",
      "metadata": {
        "id": "LM5KkVBBCOx8",
        "outputId": "58d0c53d-ade1-49b4-cc0f-d5f3419966b4"
      },
      "source": [
        "lda.print_topics(2)"
      ],
      "execution_count": null,
      "outputs": [
        {
          "output_type": "execute_result",
          "data": {
            "text/plain": [
              "[(0,\n",
              "  '0.010*\"people\" + 0.009*\"time\" + 0.009*\"way\" + 0.008*\"war\" + 0.007*\"action\" + 0.006*\"end\" + 0.006*\"american\" + 0.006*\"fact\" + 0.005*\"world\" + 0.005*\"army\"'),\n",
              " (8,\n",
              "  '0.026*\"kids\" + 0.014*\"time\" + 0.014*\"children\" + 0.012*\"fun\" + 0.010*\"lot\" + 0.009*\"adults\" + 0.008*\"jokes\" + 0.008*\"parents\" + 0.008*\"way\" + 0.007*\"things\"')]"
            ]
          },
          "metadata": {
            "tags": []
          },
          "execution_count": 70
        }
      ]
    },
    {
      "cell_type": "code",
      "metadata": {
        "id": "4JUaMQZ2COx-"
      },
      "source": [
        "import re"
      ],
      "execution_count": null,
      "outputs": []
    },
    {
      "cell_type": "code",
      "metadata": {
        "id": "NiyLHEPwCOyB",
        "outputId": "01f1dd60-9bab-4f88-d0c6-dbe2f926e249"
      },
      "source": [
        "test = lda.print_topics(1)\n",
        "test"
      ],
      "execution_count": null,
      "outputs": [
        {
          "output_type": "execute_result",
          "data": {
            "text/plain": [
              "[(3,\n",
              "  '0.013*\"time\" + 0.011*\"hollywood\" + 0.009*\"war\" + 0.007*\"story\" + 0.006*\"life\" + 0.006*\"german\" + 0.006*\"oscar\" + 0.006*\"years\" + 0.005*\"history\" + 0.005*\"russian\"')]"
            ]
          },
          "metadata": {
            "tags": []
          },
          "execution_count": 74
        }
      ]
    },
    {
      "cell_type": "code",
      "metadata": {
        "id": "Ncxuh_rxCOyD",
        "outputId": "30ae8899-08b2-4edd-e94f-91889488a973"
      },
      "source": [
        "test[0][1]"
      ],
      "execution_count": null,
      "outputs": [
        {
          "output_type": "execute_result",
          "data": {
            "text/plain": [
              "'0.013*\"time\" + 0.011*\"hollywood\" + 0.009*\"war\" + 0.007*\"story\" + 0.006*\"life\" + 0.006*\"german\" + 0.006*\"oscar\" + 0.006*\"years\" + 0.005*\"history\" + 0.005*\"russian\"'"
            ]
          },
          "metadata": {
            "tags": []
          },
          "execution_count": 76
        }
      ]
    },
    {
      "cell_type": "code",
      "metadata": {
        "id": "q9vkdjfuCOyG",
        "outputId": "9379ed6b-df8a-44ed-b0d2-5705072c13b4"
      },
      "source": [
        "re.findall(r'\"[^\"]*\"', test[0][1])"
      ],
      "execution_count": null,
      "outputs": [
        {
          "output_type": "execute_result",
          "data": {
            "text/plain": [
              "['\"time\"',\n",
              " '\"hollywood\"',\n",
              " '\"war\"',\n",
              " '\"story\"',\n",
              " '\"life\"',\n",
              " '\"german\"',\n",
              " '\"oscar\"',\n",
              " '\"years\"',\n",
              " '\"history\"',\n",
              " '\"russian\"']"
            ]
          },
          "metadata": {
            "tags": []
          },
          "execution_count": 77
        }
      ]
    },
    {
      "cell_type": "code",
      "metadata": {
        "id": "deDw_33tCOyH"
      },
      "source": [
        "# t[1] exclude the topic number from each tuple\n",
        "# r'\"[^\"]*\"' grab every instance of the patterns between \" and \"\n",
        "\n",
        "words = [re.findall(r'\"[^\"]*\"', t[1]) for t in lda.print_topics(20)]"
      ],
      "execution_count": null,
      "outputs": []
    },
    {
      "cell_type": "code",
      "metadata": {
        "id": "FKTmWTjTCOyJ",
        "outputId": "a13223d6-8c21-41ec-e772-e0b9e28e9559"
      },
      "source": [
        "words[0]"
      ],
      "execution_count": null,
      "outputs": [
        {
          "output_type": "execute_result",
          "data": {
            "text/plain": [
              "['\"people\"',\n",
              " '\"time\"',\n",
              " '\"way\"',\n",
              " '\"war\"',\n",
              " '\"action\"',\n",
              " '\"end\"',\n",
              " '\"american\"',\n",
              " '\"fact\"',\n",
              " '\"world\"',\n",
              " '\"army\"']"
            ]
          },
          "metadata": {
            "tags": []
          },
          "execution_count": 85
        }
      ]
    },
    {
      "cell_type": "code",
      "metadata": {
        "id": "8kKOBRcRCOyL",
        "outputId": "091cdb17-14fc-437e-a51e-ff6aae627539"
      },
      "source": [
        "# number of topics\n",
        "len(words)"
      ],
      "execution_count": null,
      "outputs": [
        {
          "output_type": "execute_result",
          "data": {
            "text/plain": [
              "20"
            ]
          },
          "metadata": {
            "tags": []
          },
          "execution_count": 92
        }
      ]
    },
    {
      "cell_type": "code",
      "metadata": {
        "id": "kOfbiu0zCOyO"
      },
      "source": [
        "# t refers to each of 20 topics, grab the first 5 keywords in each topic\n",
        "topic_labels = [', '.join(t[0:5]) for t in words]"
      ],
      "execution_count": null,
      "outputs": []
    },
    {
      "cell_type": "code",
      "metadata": {
        "id": "D5axQttSCOyQ",
        "outputId": "1c664ecd-7136-45ab-b7a1-0701301f6db5"
      },
      "source": [
        "for id, t in enumerate(topic_labels): \n",
        "    print(f\"------ Topic {id} ------\")\n",
        "    print(t, end=\"\\n\\n\")"
      ],
      "execution_count": null,
      "outputs": [
        {
          "output_type": "stream",
          "text": [
            "------ Topic 0 ------\n",
            "\"people\", \"time\", \"way\", \"war\", \"action\"\n",
            "\n",
            "------ Topic 1 ------\n",
            "\"series\", \"episode\", \"episodes\", \"time\", \"season\"\n",
            "\n",
            "------ Topic 2 ------\n",
            "\"people\", \"time\", \"story\", \"scene\", \"fact\"\n",
            "\n",
            "------ Topic 3 ------\n",
            "\"time\", \"hollywood\", \"war\", \"story\", \"life\"\n",
            "\n",
            "------ Topic 4 ------\n",
            "\"time\", \"people\", \"guy\", \"lot\", \"scene\"\n",
            "\n",
            "------ Topic 5 ------\n",
            "\"story\", \"life\", \"characters\", \"time\", \"way\"\n",
            "\n",
            "------ Topic 6 ------\n",
            "\"time\", \"sci-fi\", \"special effects\", \"acting\", \"story\"\n",
            "\n",
            "------ Topic 7 ------\n",
            "\"people\", \"life\", \"family\", \"story\", \"mother\"\n",
            "\n",
            "------ Topic 8 ------\n",
            "\"kids\", \"time\", \"children\", \"fun\", \"lot\"\n",
            "\n",
            "------ Topic 9 ------\n",
            "\"plot\", \"people\", \"end\", \"time\", \"acting\"\n",
            "\n",
            "------ Topic 10 ------\n",
            "\"characters\", \"story\", \"character\", \"plot\", \"end\"\n",
            "\n",
            "------ Topic 11 ------\n",
            "\"people\", \"time\", \"acting\", \"plot\", \"money\"\n",
            "\n",
            "------ Topic 12 ------\n",
            "\"time\", \"man\", \"wife\", \"husband\", \"way\"\n",
            "\n",
            "------ Topic 13 ------\n",
            "\"time\", \"movies\", \"people\", \"start\", \"finish\"\n",
            "\n",
            "------ Topic 14 ------\n",
            "\"british\", \"time\", \"story\", \"movies\", \"dvd\"\n",
            "\n",
            "------ Topic 15 ------\n",
            "\"characters\", \"people\", \"actors\", \"story\", \"acting\"\n",
            "\n",
            "------ Topic 16 ------\n",
            "\"story\", \"people\", \"way\", \"time\", \"book\"\n",
            "\n",
            "------ Topic 17 ------\n",
            "\"story\", \"plot\", \"role\", \"fact\", \"case\"\n",
            "\n",
            "------ Topic 18 ------\n",
            "\"french\", \"american\", \"story\", \"italian\", \"english\"\n",
            "\n",
            "------ Topic 19 ------\n",
            "\"role\", \"cast\", \"plot\", \"music\", \"story\"\n",
            "\n"
          ],
          "name": "stdout"
        }
      ]
    },
    {
      "cell_type": "code",
      "metadata": {
        "id": "QIxRKqy9COyS",
        "outputId": "de466801-feeb-40b4-94b6-21ded1746873"
      },
      "source": [
        "import pyLDAvis.gensim\n",
        "\n",
        "pyLDAvis.enable_notebook()"
      ],
      "execution_count": null,
      "outputs": [
        {
          "output_type": "stream",
          "text": [
            "/Users/shahnam/opt/anaconda3/envs/U4-S1-NLP/lib/python3.7/site-packages/ipykernel/ipkernel.py:287: DeprecationWarning: `should_run_async` will not call `transform_cell` automatically in the future. Please pass the result to `transformed_cell` argument and any exception that happen during thetransform in `preprocessing_exc_tuple` in IPython 7.17 and above.\n",
            "  and should_run_async(code)\n"
          ],
          "name": "stderr"
        }
      ]
    },
    {
      "cell_type": "code",
      "metadata": {
        "id": "7ZQR_BHNCOyU",
        "outputId": "ee41ab93-de81-4e4f-c01a-abc85d83ed1c"
      },
      "source": [
        "#Lambda 0 shows the unique representative keywords of a topic\n",
        "# Lambda=1 shows the most probable keyword showing in a topic\n",
        "pyLDAvis.gensim.prepare(lda, corpus, id2word)"
      ],
      "execution_count": null,
      "outputs": [
        {
          "output_type": "stream",
          "text": [
            "/Users/shahnam/opt/anaconda3/envs/U4-S1-NLP/lib/python3.7/site-packages/ipykernel/ipkernel.py:287: DeprecationWarning: `should_run_async` will not call `transform_cell` automatically in the future. Please pass the result to `transformed_cell` argument and any exception that happen during thetransform in `preprocessing_exc_tuple` in IPython 7.17 and above.\n",
            "  and should_run_async(code)\n"
          ],
          "name": "stderr"
        }
      ]
    },
    {
      "cell_type": "code",
      "metadata": {
        "id": "toWOZKcSCOyW",
        "outputId": "acec9c71-5c0e-49f3-a9e7-e4212cebb7b1"
      },
      "source": [
        "corpus[0]"
      ],
      "execution_count": null,
      "outputs": [
        {
          "output_type": "stream",
          "text": [
            "/Users/shahnam/opt/anaconda3/envs/U4-S1-NLP/lib/python3.7/site-packages/ipykernel/ipkernel.py:287: DeprecationWarning: `should_run_async` will not call `transform_cell` automatically in the future. Please pass the result to `transformed_cell` argument and any exception that happen during thetransform in `preprocessing_exc_tuple` in IPython 7.17 and above.\n",
            "  and should_run_async(code)\n"
          ],
          "name": "stderr"
        },
        {
          "output_type": "execute_result",
          "data": {
            "text/plain": [
              "[(0, 1),\n",
              " (1, 1),\n",
              " (2, 1),\n",
              " (3, 1),\n",
              " (4, 1),\n",
              " (5, 1),\n",
              " (6, 1),\n",
              " (7, 1),\n",
              " (8, 1),\n",
              " (9, 1),\n",
              " (10, 1),\n",
              " (11, 1),\n",
              " (12, 1),\n",
              " (13, 1),\n",
              " (14, 1),\n",
              " (15, 1),\n",
              " (16, 1),\n",
              " (17, 1),\n",
              " (18, 1),\n",
              " (19, 1),\n",
              " (20, 1),\n",
              " (21, 1),\n",
              " (22, 1),\n",
              " (23, 1),\n",
              " (24, 1),\n",
              " (25, 1),\n",
              " (26, 1),\n",
              " (27, 1),\n",
              " (28, 1),\n",
              " (29, 1),\n",
              " (30, 1),\n",
              " (31, 1),\n",
              " (32, 1),\n",
              " (33, 1),\n",
              " (34, 1)]"
            ]
          },
          "metadata": {
            "tags": []
          },
          "execution_count": 158
        }
      ]
    },
    {
      "cell_type": "code",
      "metadata": {
        "id": "hJzi4MuOCOyY",
        "outputId": "199c077d-c27f-44f6-ca43-655372817730"
      },
      "source": [
        "# estimated percentage of topics that exist in each document\n",
        "lda[corpus[0]]"
      ],
      "execution_count": null,
      "outputs": [
        {
          "output_type": "stream",
          "text": [
            "/Users/shahnam/opt/anaconda3/envs/U4-S1-NLP/lib/python3.7/site-packages/ipykernel/ipkernel.py:287: DeprecationWarning: `should_run_async` will not call `transform_cell` automatically in the future. Please pass the result to `transformed_cell` argument and any exception that happen during thetransform in `preprocessing_exc_tuple` in IPython 7.17 and above.\n",
            "  and should_run_async(code)\n"
          ],
          "name": "stderr"
        },
        {
          "output_type": "execute_result",
          "data": {
            "text/plain": [
              "[(0, 0.20861204),\n",
              " (1, 0.1258388),\n",
              " (5, 0.35511088),\n",
              " (7, 0.2106045),\n",
              " (8, 0.078962564)]"
            ]
          },
          "metadata": {
            "tags": []
          },
          "execution_count": 160
        }
      ]
    },
    {
      "cell_type": "code",
      "metadata": {
        "id": "raUMQ7lZCOya",
        "outputId": "e47ee92f-2721-4405-b847-580cc91eed5f"
      },
      "source": [
        "distro = [lda[doc] for doc in corpus]"
      ],
      "execution_count": null,
      "outputs": [
        {
          "output_type": "stream",
          "text": [
            "/Users/shahnam/opt/anaconda3/envs/U4-S1-NLP/lib/python3.7/site-packages/ipykernel/ipkernel.py:287: DeprecationWarning: `should_run_async` will not call `transform_cell` automatically in the future. Please pass the result to `transformed_cell` argument and any exception that happen during thetransform in `preprocessing_exc_tuple` in IPython 7.17 and above.\n",
            "  and should_run_async(code)\n"
          ],
          "name": "stderr"
        }
      ]
    },
    {
      "cell_type": "code",
      "metadata": {
        "id": "7H7KE8yRCOyb",
        "outputId": "d0986d4e-32c2-46fd-baa3-99cdf9b7d044"
      },
      "source": [
        "distro[0]"
      ],
      "execution_count": null,
      "outputs": [
        {
          "output_type": "stream",
          "text": [
            "/Users/shahnam/opt/anaconda3/envs/U4-S1-NLP/lib/python3.7/site-packages/ipykernel/ipkernel.py:287: DeprecationWarning: `should_run_async` will not call `transform_cell` automatically in the future. Please pass the result to `transformed_cell` argument and any exception that happen during thetransform in `preprocessing_exc_tuple` in IPython 7.17 and above.\n",
            "  and should_run_async(code)\n"
          ],
          "name": "stderr"
        },
        {
          "output_type": "execute_result",
          "data": {
            "text/plain": [
              "[(0, 0.20861584),\n",
              " (1, 0.12584664),\n",
              " (5, 0.35521033),\n",
              " (7, 0.21061157),\n",
              " (8, 0.07884438)]"
            ]
          },
          "metadata": {
            "tags": []
          },
          "execution_count": 162
        }
      ]
    },
    {
      "cell_type": "code",
      "metadata": {
        "id": "mj2dSMuDCOye",
        "outputId": "62756f58-6cbe-4408-905f-92033ad9f727"
      },
      "source": [
        "def update(doc):\n",
        "    # fills all the irrelevant topic keys for document doc with 0 distribution probability\n",
        "    d_dist = {k:0 for k in range(0,20)}\n",
        "    for t in doc:\n",
        "        #update topic # t[0] key with t[1] value\n",
        "        d_dist[t[0]] = t[1]\n",
        "    return d_dist\n",
        "\n",
        "new_distro = [update(doc) for doc in distro] "
      ],
      "execution_count": null,
      "outputs": [
        {
          "output_type": "stream",
          "text": [
            "/Users/shahnam/opt/anaconda3/envs/U4-S1-NLP/lib/python3.7/site-packages/ipykernel/ipkernel.py:287: DeprecationWarning: `should_run_async` will not call `transform_cell` automatically in the future. Please pass the result to `transformed_cell` argument and any exception that happen during thetransform in `preprocessing_exc_tuple` in IPython 7.17 and above.\n",
            "  and should_run_async(code)\n"
          ],
          "name": "stderr"
        }
      ]
    },
    {
      "cell_type": "code",
      "metadata": {
        "id": "vC-HZot8COyg",
        "outputId": "e5aacd37-5211-462e-98ee-0e556207eacb"
      },
      "source": [
        "# .from_records Creates a DataFrame object from a structured ndarray, sequence of tuples or dicts, or DataFrame\n",
        "topics = pd.DataFrame.from_records(new_distro)\n",
        "topics.head()"
      ],
      "execution_count": null,
      "outputs": [
        {
          "output_type": "stream",
          "text": [
            "/Users/shahnam/opt/anaconda3/envs/U4-S1-NLP/lib/python3.7/site-packages/ipykernel/ipkernel.py:287: DeprecationWarning: `should_run_async` will not call `transform_cell` automatically in the future. Please pass the result to `transformed_cell` argument and any exception that happen during thetransform in `preprocessing_exc_tuple` in IPython 7.17 and above.\n",
            "  and should_run_async(code)\n"
          ],
          "name": "stderr"
        },
        {
          "output_type": "execute_result",
          "data": {
            "text/html": [
              "<div>\n",
              "<style scoped>\n",
              "    .dataframe tbody tr th:only-of-type {\n",
              "        vertical-align: middle;\n",
              "    }\n",
              "\n",
              "    .dataframe tbody tr th {\n",
              "        vertical-align: top;\n",
              "    }\n",
              "\n",
              "    .dataframe thead th {\n",
              "        text-align: right;\n",
              "    }\n",
              "</style>\n",
              "<table border=\"1\" class=\"dataframe\">\n",
              "  <thead>\n",
              "    <tr style=\"text-align: right;\">\n",
              "      <th></th>\n",
              "      <th>0</th>\n",
              "      <th>1</th>\n",
              "      <th>2</th>\n",
              "      <th>3</th>\n",
              "      <th>4</th>\n",
              "      <th>5</th>\n",
              "      <th>6</th>\n",
              "      <th>7</th>\n",
              "      <th>8</th>\n",
              "      <th>9</th>\n",
              "      <th>10</th>\n",
              "      <th>11</th>\n",
              "      <th>12</th>\n",
              "      <th>13</th>\n",
              "      <th>14</th>\n",
              "      <th>15</th>\n",
              "      <th>16</th>\n",
              "      <th>17</th>\n",
              "      <th>18</th>\n",
              "      <th>19</th>\n",
              "    </tr>\n",
              "  </thead>\n",
              "  <tbody>\n",
              "    <tr>\n",
              "      <th>0</th>\n",
              "      <td>0.208616</td>\n",
              "      <td>0.125847</td>\n",
              "      <td>0.000000</td>\n",
              "      <td>0.000000</td>\n",
              "      <td>0.0</td>\n",
              "      <td>0.355210</td>\n",
              "      <td>0.000000</td>\n",
              "      <td>0.210612</td>\n",
              "      <td>0.078844</td>\n",
              "      <td>0.0</td>\n",
              "      <td>0.000000</td>\n",
              "      <td>0.0</td>\n",
              "      <td>0.000000</td>\n",
              "      <td>0.0</td>\n",
              "      <td>0.000000</td>\n",
              "      <td>0.000000</td>\n",
              "      <td>0.000000</td>\n",
              "      <td>0.000000</td>\n",
              "      <td>0.0</td>\n",
              "      <td>0.00000</td>\n",
              "    </tr>\n",
              "    <tr>\n",
              "      <th>1</th>\n",
              "      <td>0.000000</td>\n",
              "      <td>0.000000</td>\n",
              "      <td>0.000000</td>\n",
              "      <td>0.284714</td>\n",
              "      <td>0.0</td>\n",
              "      <td>0.220674</td>\n",
              "      <td>0.000000</td>\n",
              "      <td>0.000000</td>\n",
              "      <td>0.000000</td>\n",
              "      <td>0.0</td>\n",
              "      <td>0.000000</td>\n",
              "      <td>0.0</td>\n",
              "      <td>0.000000</td>\n",
              "      <td>0.0</td>\n",
              "      <td>0.176071</td>\n",
              "      <td>0.168162</td>\n",
              "      <td>0.110878</td>\n",
              "      <td>0.000000</td>\n",
              "      <td>0.0</td>\n",
              "      <td>0.00000</td>\n",
              "    </tr>\n",
              "    <tr>\n",
              "      <th>2</th>\n",
              "      <td>0.000000</td>\n",
              "      <td>0.000000</td>\n",
              "      <td>0.247494</td>\n",
              "      <td>0.000000</td>\n",
              "      <td>0.0</td>\n",
              "      <td>0.000000</td>\n",
              "      <td>0.000000</td>\n",
              "      <td>0.000000</td>\n",
              "      <td>0.116592</td>\n",
              "      <td>0.0</td>\n",
              "      <td>0.260348</td>\n",
              "      <td>0.0</td>\n",
              "      <td>0.000000</td>\n",
              "      <td>0.0</td>\n",
              "      <td>0.000000</td>\n",
              "      <td>0.000000</td>\n",
              "      <td>0.000000</td>\n",
              "      <td>0.094215</td>\n",
              "      <td>0.0</td>\n",
              "      <td>0.23721</td>\n",
              "    </tr>\n",
              "    <tr>\n",
              "      <th>3</th>\n",
              "      <td>0.094710</td>\n",
              "      <td>0.000000</td>\n",
              "      <td>0.000000</td>\n",
              "      <td>0.000000</td>\n",
              "      <td>0.0</td>\n",
              "      <td>0.000000</td>\n",
              "      <td>0.321439</td>\n",
              "      <td>0.518422</td>\n",
              "      <td>0.000000</td>\n",
              "      <td>0.0</td>\n",
              "      <td>0.000000</td>\n",
              "      <td>0.0</td>\n",
              "      <td>0.000000</td>\n",
              "      <td>0.0</td>\n",
              "      <td>0.000000</td>\n",
              "      <td>0.000000</td>\n",
              "      <td>0.000000</td>\n",
              "      <td>0.000000</td>\n",
              "      <td>0.0</td>\n",
              "      <td>0.00000</td>\n",
              "    </tr>\n",
              "    <tr>\n",
              "      <th>4</th>\n",
              "      <td>0.000000</td>\n",
              "      <td>0.000000</td>\n",
              "      <td>0.255181</td>\n",
              "      <td>0.000000</td>\n",
              "      <td>0.0</td>\n",
              "      <td>0.408196</td>\n",
              "      <td>0.222810</td>\n",
              "      <td>0.000000</td>\n",
              "      <td>0.000000</td>\n",
              "      <td>0.0</td>\n",
              "      <td>0.000000</td>\n",
              "      <td>0.0</td>\n",
              "      <td>0.087126</td>\n",
              "      <td>0.0</td>\n",
              "      <td>0.000000</td>\n",
              "      <td>0.000000</td>\n",
              "      <td>0.000000</td>\n",
              "      <td>0.000000</td>\n",
              "      <td>0.0</td>\n",
              "      <td>0.00000</td>\n",
              "    </tr>\n",
              "  </tbody>\n",
              "</table>\n",
              "</div>"
            ],
            "text/plain": [
              "         0         1         2         3    4         5         6         7   \\\n",
              "0  0.208616  0.125847  0.000000  0.000000  0.0  0.355210  0.000000  0.210612   \n",
              "1  0.000000  0.000000  0.000000  0.284714  0.0  0.220674  0.000000  0.000000   \n",
              "2  0.000000  0.000000  0.247494  0.000000  0.0  0.000000  0.000000  0.000000   \n",
              "3  0.094710  0.000000  0.000000  0.000000  0.0  0.000000  0.321439  0.518422   \n",
              "4  0.000000  0.000000  0.255181  0.000000  0.0  0.408196  0.222810  0.000000   \n",
              "\n",
              "         8    9         10   11        12   13        14        15        16  \\\n",
              "0  0.078844  0.0  0.000000  0.0  0.000000  0.0  0.000000  0.000000  0.000000   \n",
              "1  0.000000  0.0  0.000000  0.0  0.000000  0.0  0.176071  0.168162  0.110878   \n",
              "2  0.116592  0.0  0.260348  0.0  0.000000  0.0  0.000000  0.000000  0.000000   \n",
              "3  0.000000  0.0  0.000000  0.0  0.000000  0.0  0.000000  0.000000  0.000000   \n",
              "4  0.000000  0.0  0.000000  0.0  0.087126  0.0  0.000000  0.000000  0.000000   \n",
              "\n",
              "         17   18       19  \n",
              "0  0.000000  0.0  0.00000  \n",
              "1  0.000000  0.0  0.00000  \n",
              "2  0.094215  0.0  0.23721  \n",
              "3  0.000000  0.0  0.00000  \n",
              "4  0.000000  0.0  0.00000  "
            ]
          },
          "metadata": {
            "tags": []
          },
          "execution_count": 165
        }
      ]
    },
    {
      "cell_type": "code",
      "metadata": {
        "id": "bcEusf0hCOyk",
        "outputId": "1b74bc30-53dd-4701-e49f-3a4901092447"
      },
      "source": [
        "topics.columns = topic_labels\n",
        "print(topics.shape)\n",
        "topics.head()"
      ],
      "execution_count": null,
      "outputs": [
        {
          "output_type": "stream",
          "text": [
            "(40436, 20)\n"
          ],
          "name": "stdout"
        },
        {
          "output_type": "stream",
          "text": [
            "/Users/shahnam/opt/anaconda3/envs/U4-S1-NLP/lib/python3.7/site-packages/ipykernel/ipkernel.py:287: DeprecationWarning: `should_run_async` will not call `transform_cell` automatically in the future. Please pass the result to `transformed_cell` argument and any exception that happen during thetransform in `preprocessing_exc_tuple` in IPython 7.17 and above.\n",
            "  and should_run_async(code)\n"
          ],
          "name": "stderr"
        },
        {
          "output_type": "execute_result",
          "data": {
            "text/html": [
              "<div>\n",
              "<style scoped>\n",
              "    .dataframe tbody tr th:only-of-type {\n",
              "        vertical-align: middle;\n",
              "    }\n",
              "\n",
              "    .dataframe tbody tr th {\n",
              "        vertical-align: top;\n",
              "    }\n",
              "\n",
              "    .dataframe thead th {\n",
              "        text-align: right;\n",
              "    }\n",
              "</style>\n",
              "<table border=\"1\" class=\"dataframe\">\n",
              "  <thead>\n",
              "    <tr style=\"text-align: right;\">\n",
              "      <th></th>\n",
              "      <th>\"people\", \"time\", \"way\", \"war\", \"action\"</th>\n",
              "      <th>\"series\", \"episode\", \"episodes\", \"time\", \"season\"</th>\n",
              "      <th>\"people\", \"time\", \"story\", \"scene\", \"fact\"</th>\n",
              "      <th>\"time\", \"hollywood\", \"war\", \"story\", \"life\"</th>\n",
              "      <th>\"time\", \"people\", \"guy\", \"lot\", \"scene\"</th>\n",
              "      <th>\"story\", \"life\", \"characters\", \"time\", \"way\"</th>\n",
              "      <th>\"time\", \"sci-fi\", \"special effects\", \"acting\", \"story\"</th>\n",
              "      <th>\"people\", \"life\", \"family\", \"story\", \"mother\"</th>\n",
              "      <th>\"kids\", \"time\", \"children\", \"fun\", \"lot\"</th>\n",
              "      <th>\"plot\", \"people\", \"end\", \"time\", \"acting\"</th>\n",
              "      <th>\"characters\", \"story\", \"character\", \"plot\", \"end\"</th>\n",
              "      <th>\"people\", \"time\", \"acting\", \"plot\", \"money\"</th>\n",
              "      <th>\"time\", \"man\", \"wife\", \"husband\", \"way\"</th>\n",
              "      <th>\"time\", \"movies\", \"people\", \"start\", \"finish\"</th>\n",
              "      <th>\"british\", \"time\", \"story\", \"movies\", \"dvd\"</th>\n",
              "      <th>\"characters\", \"people\", \"actors\", \"story\", \"acting\"</th>\n",
              "      <th>\"story\", \"people\", \"way\", \"time\", \"book\"</th>\n",
              "      <th>\"story\", \"plot\", \"role\", \"fact\", \"case\"</th>\n",
              "      <th>\"french\", \"american\", \"story\", \"italian\", \"english\"</th>\n",
              "      <th>\"role\", \"cast\", \"plot\", \"music\", \"story\"</th>\n",
              "    </tr>\n",
              "  </thead>\n",
              "  <tbody>\n",
              "    <tr>\n",
              "      <th>0</th>\n",
              "      <td>0.208616</td>\n",
              "      <td>0.125847</td>\n",
              "      <td>0.000000</td>\n",
              "      <td>0.000000</td>\n",
              "      <td>0.0</td>\n",
              "      <td>0.355210</td>\n",
              "      <td>0.000000</td>\n",
              "      <td>0.210612</td>\n",
              "      <td>0.078844</td>\n",
              "      <td>0.0</td>\n",
              "      <td>0.000000</td>\n",
              "      <td>0.0</td>\n",
              "      <td>0.000000</td>\n",
              "      <td>0.0</td>\n",
              "      <td>0.000000</td>\n",
              "      <td>0.000000</td>\n",
              "      <td>0.000000</td>\n",
              "      <td>0.000000</td>\n",
              "      <td>0.0</td>\n",
              "      <td>0.00000</td>\n",
              "    </tr>\n",
              "    <tr>\n",
              "      <th>1</th>\n",
              "      <td>0.000000</td>\n",
              "      <td>0.000000</td>\n",
              "      <td>0.000000</td>\n",
              "      <td>0.284714</td>\n",
              "      <td>0.0</td>\n",
              "      <td>0.220674</td>\n",
              "      <td>0.000000</td>\n",
              "      <td>0.000000</td>\n",
              "      <td>0.000000</td>\n",
              "      <td>0.0</td>\n",
              "      <td>0.000000</td>\n",
              "      <td>0.0</td>\n",
              "      <td>0.000000</td>\n",
              "      <td>0.0</td>\n",
              "      <td>0.176071</td>\n",
              "      <td>0.168162</td>\n",
              "      <td>0.110878</td>\n",
              "      <td>0.000000</td>\n",
              "      <td>0.0</td>\n",
              "      <td>0.00000</td>\n",
              "    </tr>\n",
              "    <tr>\n",
              "      <th>2</th>\n",
              "      <td>0.000000</td>\n",
              "      <td>0.000000</td>\n",
              "      <td>0.247494</td>\n",
              "      <td>0.000000</td>\n",
              "      <td>0.0</td>\n",
              "      <td>0.000000</td>\n",
              "      <td>0.000000</td>\n",
              "      <td>0.000000</td>\n",
              "      <td>0.116592</td>\n",
              "      <td>0.0</td>\n",
              "      <td>0.260348</td>\n",
              "      <td>0.0</td>\n",
              "      <td>0.000000</td>\n",
              "      <td>0.0</td>\n",
              "      <td>0.000000</td>\n",
              "      <td>0.000000</td>\n",
              "      <td>0.000000</td>\n",
              "      <td>0.094215</td>\n",
              "      <td>0.0</td>\n",
              "      <td>0.23721</td>\n",
              "    </tr>\n",
              "    <tr>\n",
              "      <th>3</th>\n",
              "      <td>0.094710</td>\n",
              "      <td>0.000000</td>\n",
              "      <td>0.000000</td>\n",
              "      <td>0.000000</td>\n",
              "      <td>0.0</td>\n",
              "      <td>0.000000</td>\n",
              "      <td>0.321439</td>\n",
              "      <td>0.518422</td>\n",
              "      <td>0.000000</td>\n",
              "      <td>0.0</td>\n",
              "      <td>0.000000</td>\n",
              "      <td>0.0</td>\n",
              "      <td>0.000000</td>\n",
              "      <td>0.0</td>\n",
              "      <td>0.000000</td>\n",
              "      <td>0.000000</td>\n",
              "      <td>0.000000</td>\n",
              "      <td>0.000000</td>\n",
              "      <td>0.0</td>\n",
              "      <td>0.00000</td>\n",
              "    </tr>\n",
              "    <tr>\n",
              "      <th>4</th>\n",
              "      <td>0.000000</td>\n",
              "      <td>0.000000</td>\n",
              "      <td>0.255181</td>\n",
              "      <td>0.000000</td>\n",
              "      <td>0.0</td>\n",
              "      <td>0.408196</td>\n",
              "      <td>0.222810</td>\n",
              "      <td>0.000000</td>\n",
              "      <td>0.000000</td>\n",
              "      <td>0.0</td>\n",
              "      <td>0.000000</td>\n",
              "      <td>0.0</td>\n",
              "      <td>0.087126</td>\n",
              "      <td>0.0</td>\n",
              "      <td>0.000000</td>\n",
              "      <td>0.000000</td>\n",
              "      <td>0.000000</td>\n",
              "      <td>0.000000</td>\n",
              "      <td>0.0</td>\n",
              "      <td>0.00000</td>\n",
              "    </tr>\n",
              "  </tbody>\n",
              "</table>\n",
              "</div>"
            ],
            "text/plain": [
              "   \"people\", \"time\", \"way\", \"war\", \"action\"  \\\n",
              "0                                  0.208616   \n",
              "1                                  0.000000   \n",
              "2                                  0.000000   \n",
              "3                                  0.094710   \n",
              "4                                  0.000000   \n",
              "\n",
              "   \"series\", \"episode\", \"episodes\", \"time\", \"season\"  \\\n",
              "0                                           0.125847   \n",
              "1                                           0.000000   \n",
              "2                                           0.000000   \n",
              "3                                           0.000000   \n",
              "4                                           0.000000   \n",
              "\n",
              "   \"people\", \"time\", \"story\", \"scene\", \"fact\"  \\\n",
              "0                                    0.000000   \n",
              "1                                    0.000000   \n",
              "2                                    0.247494   \n",
              "3                                    0.000000   \n",
              "4                                    0.255181   \n",
              "\n",
              "   \"time\", \"hollywood\", \"war\", \"story\", \"life\"  \\\n",
              "0                                     0.000000   \n",
              "1                                     0.284714   \n",
              "2                                     0.000000   \n",
              "3                                     0.000000   \n",
              "4                                     0.000000   \n",
              "\n",
              "   \"time\", \"people\", \"guy\", \"lot\", \"scene\"  \\\n",
              "0                                      0.0   \n",
              "1                                      0.0   \n",
              "2                                      0.0   \n",
              "3                                      0.0   \n",
              "4                                      0.0   \n",
              "\n",
              "   \"story\", \"life\", \"characters\", \"time\", \"way\"  \\\n",
              "0                                      0.355210   \n",
              "1                                      0.220674   \n",
              "2                                      0.000000   \n",
              "3                                      0.000000   \n",
              "4                                      0.408196   \n",
              "\n",
              "   \"time\", \"sci-fi\", \"special effects\", \"acting\", \"story\"  \\\n",
              "0                                           0.000000        \n",
              "1                                           0.000000        \n",
              "2                                           0.000000        \n",
              "3                                           0.321439        \n",
              "4                                           0.222810        \n",
              "\n",
              "   \"people\", \"life\", \"family\", \"story\", \"mother\"  \\\n",
              "0                                       0.210612   \n",
              "1                                       0.000000   \n",
              "2                                       0.000000   \n",
              "3                                       0.518422   \n",
              "4                                       0.000000   \n",
              "\n",
              "   \"kids\", \"time\", \"children\", \"fun\", \"lot\"  \\\n",
              "0                                  0.078844   \n",
              "1                                  0.000000   \n",
              "2                                  0.116592   \n",
              "3                                  0.000000   \n",
              "4                                  0.000000   \n",
              "\n",
              "   \"plot\", \"people\", \"end\", \"time\", \"acting\"  \\\n",
              "0                                        0.0   \n",
              "1                                        0.0   \n",
              "2                                        0.0   \n",
              "3                                        0.0   \n",
              "4                                        0.0   \n",
              "\n",
              "   \"characters\", \"story\", \"character\", \"plot\", \"end\"  \\\n",
              "0                                           0.000000   \n",
              "1                                           0.000000   \n",
              "2                                           0.260348   \n",
              "3                                           0.000000   \n",
              "4                                           0.000000   \n",
              "\n",
              "   \"people\", \"time\", \"acting\", \"plot\", \"money\"  \\\n",
              "0                                          0.0   \n",
              "1                                          0.0   \n",
              "2                                          0.0   \n",
              "3                                          0.0   \n",
              "4                                          0.0   \n",
              "\n",
              "   \"time\", \"man\", \"wife\", \"husband\", \"way\"  \\\n",
              "0                                 0.000000   \n",
              "1                                 0.000000   \n",
              "2                                 0.000000   \n",
              "3                                 0.000000   \n",
              "4                                 0.087126   \n",
              "\n",
              "   \"time\", \"movies\", \"people\", \"start\", \"finish\"  \\\n",
              "0                                            0.0   \n",
              "1                                            0.0   \n",
              "2                                            0.0   \n",
              "3                                            0.0   \n",
              "4                                            0.0   \n",
              "\n",
              "   \"british\", \"time\", \"story\", \"movies\", \"dvd\"  \\\n",
              "0                                     0.000000   \n",
              "1                                     0.176071   \n",
              "2                                     0.000000   \n",
              "3                                     0.000000   \n",
              "4                                     0.000000   \n",
              "\n",
              "   \"characters\", \"people\", \"actors\", \"story\", \"acting\"  \\\n",
              "0                                           0.000000     \n",
              "1                                           0.168162     \n",
              "2                                           0.000000     \n",
              "3                                           0.000000     \n",
              "4                                           0.000000     \n",
              "\n",
              "   \"story\", \"people\", \"way\", \"time\", \"book\"  \\\n",
              "0                                  0.000000   \n",
              "1                                  0.110878   \n",
              "2                                  0.000000   \n",
              "3                                  0.000000   \n",
              "4                                  0.000000   \n",
              "\n",
              "   \"story\", \"plot\", \"role\", \"fact\", \"case\"  \\\n",
              "0                                 0.000000   \n",
              "1                                 0.000000   \n",
              "2                                 0.094215   \n",
              "3                                 0.000000   \n",
              "4                                 0.000000   \n",
              "\n",
              "   \"french\", \"american\", \"story\", \"italian\", \"english\"  \\\n",
              "0                                                0.0     \n",
              "1                                                0.0     \n",
              "2                                                0.0     \n",
              "3                                                0.0     \n",
              "4                                                0.0     \n",
              "\n",
              "   \"role\", \"cast\", \"plot\", \"music\", \"story\"  \n",
              "0                                   0.00000  \n",
              "1                                   0.00000  \n",
              "2                                   0.23721  \n",
              "3                                   0.00000  \n",
              "4                                   0.00000  "
            ]
          },
          "metadata": {
            "tags": []
          },
          "execution_count": 170
        }
      ]
    },
    {
      "cell_type": "code",
      "metadata": {
        "id": "mfZktGbeCOyl",
        "outputId": "34bb292e-da62-4916-fa1e-d45e257f70ce"
      },
      "source": [
        "# find the index on axis=1 where the value in the row is max\n",
        "df['primary_topic'] = topics.idxmax(axis=1)"
      ],
      "execution_count": null,
      "outputs": [
        {
          "output_type": "stream",
          "text": [
            "/Users/shahnam/opt/anaconda3/envs/U4-S1-NLP/lib/python3.7/site-packages/ipykernel/ipkernel.py:287: DeprecationWarning: `should_run_async` will not call `transform_cell` automatically in the future. Please pass the result to `transformed_cell` argument and any exception that happen during thetransform in `preprocessing_exc_tuple` in IPython 7.17 and above.\n",
            "  and should_run_async(code)\n"
          ],
          "name": "stderr"
        }
      ]
    },
    {
      "cell_type": "code",
      "metadata": {
        "id": "GaqCovN5COym",
        "outputId": "c36b1b1d-1a37-477e-c3ee-2aaaabe37c23"
      },
      "source": [
        "df.head()"
      ],
      "execution_count": null,
      "outputs": [
        {
          "output_type": "stream",
          "text": [
            "/Users/shahnam/opt/anaconda3/envs/U4-S1-NLP/lib/python3.7/site-packages/ipykernel/ipkernel.py:287: DeprecationWarning: `should_run_async` will not call `transform_cell` automatically in the future. Please pass the result to `transformed_cell` argument and any exception that happen during thetransform in `preprocessing_exc_tuple` in IPython 7.17 and above.\n",
            "  and should_run_async(code)\n"
          ],
          "name": "stderr"
        },
        {
          "output_type": "execute_result",
          "data": {
            "text/html": [
              "<div>\n",
              "<style scoped>\n",
              "    .dataframe tbody tr th:only-of-type {\n",
              "        vertical-align: middle;\n",
              "    }\n",
              "\n",
              "    .dataframe tbody tr th {\n",
              "        vertical-align: top;\n",
              "    }\n",
              "\n",
              "    .dataframe thead th {\n",
              "        text-align: right;\n",
              "    }\n",
              "</style>\n",
              "<table border=\"1\" class=\"dataframe\">\n",
              "  <thead>\n",
              "    <tr style=\"text-align: right;\">\n",
              "      <th></th>\n",
              "      <th>review</th>\n",
              "      <th>sentiment</th>\n",
              "      <th>keywords</th>\n",
              "      <th>clean_keywords</th>\n",
              "      <th>primary_topic</th>\n",
              "    </tr>\n",
              "  </thead>\n",
              "  <tbody>\n",
              "    <tr>\n",
              "      <th>0</th>\n",
              "      <td>One of the other reviewers has mentioned that ...</td>\n",
              "      <td>positive</td>\n",
              "      <td>[other shows, graphic violence, prison experie...</td>\n",
              "      <td>[shows, graphic violence, prison experience, p...</td>\n",
              "      <td>\"story\", \"life\", \"characters\", \"time\", \"way\"</td>\n",
              "    </tr>\n",
              "    <tr>\n",
              "      <th>1</th>\n",
              "      <td>A wonderful little production. The filming tec...</td>\n",
              "      <td>positive</td>\n",
              "      <td>[halliwell, michael sheen, realism, comedy, wi...</td>\n",
              "      <td>[halliwell, michael sheen, realism, comedy, wi...</td>\n",
              "      <td>\"time\", \"hollywood\", \"war\", \"story\", \"life\"</td>\n",
              "    </tr>\n",
              "    <tr>\n",
              "      <th>2</th>\n",
              "      <td>I thought this was a wonderful way to spend ti...</td>\n",
              "      <td>positive</td>\n",
              "      <td>[spirited young woman, devil wears prada, summ...</td>\n",
              "      <td>[spirited young woman, devil wears prada, summ...</td>\n",
              "      <td>\"characters\", \"story\", \"character\", \"plot\", \"end\"</td>\n",
              "    </tr>\n",
              "    <tr>\n",
              "      <th>3</th>\n",
              "      <td>Basically there's a family where a little boy ...</td>\n",
              "      <td>negative</td>\n",
              "      <td>[playing parents, jake, parents, descent dialo...</td>\n",
              "      <td>[playing parents, jake, parents, descent dialo...</td>\n",
              "      <td>\"people\", \"life\", \"family\", \"story\", \"mother\"</td>\n",
              "    </tr>\n",
              "    <tr>\n",
              "      <th>4</th>\n",
              "      <td>Petter Mattei's \"Love in the Time of Money\" is...</td>\n",
              "      <td>positive</td>\n",
              "      <td>[mr. mattei, good luck, mattei, human relation...</td>\n",
              "      <td>[mr. mattei, good luck, mattei, human relation...</td>\n",
              "      <td>\"story\", \"life\", \"characters\", \"time\", \"way\"</td>\n",
              "    </tr>\n",
              "  </tbody>\n",
              "</table>\n",
              "</div>"
            ],
            "text/plain": [
              "                                              review sentiment  \\\n",
              "0  One of the other reviewers has mentioned that ...  positive   \n",
              "1  A wonderful little production. The filming tec...  positive   \n",
              "2  I thought this was a wonderful way to spend ti...  positive   \n",
              "3  Basically there's a family where a little boy ...  negative   \n",
              "4  Petter Mattei's \"Love in the Time of Money\" is...  positive   \n",
              "\n",
              "                                            keywords  \\\n",
              "0  [other shows, graphic violence, prison experie...   \n",
              "1  [halliwell, michael sheen, realism, comedy, wi...   \n",
              "2  [spirited young woman, devil wears prada, summ...   \n",
              "3  [playing parents, jake, parents, descent dialo...   \n",
              "4  [mr. mattei, good luck, mattei, human relation...   \n",
              "\n",
              "                                      clean_keywords  \\\n",
              "0  [shows, graphic violence, prison experience, p...   \n",
              "1  [halliwell, michael sheen, realism, comedy, wi...   \n",
              "2  [spirited young woman, devil wears prada, summ...   \n",
              "3  [playing parents, jake, parents, descent dialo...   \n",
              "4  [mr. mattei, good luck, mattei, human relation...   \n",
              "\n",
              "                                       primary_topic  \n",
              "0       \"story\", \"life\", \"characters\", \"time\", \"way\"  \n",
              "1        \"time\", \"hollywood\", \"war\", \"story\", \"life\"  \n",
              "2  \"characters\", \"story\", \"character\", \"plot\", \"end\"  \n",
              "3      \"people\", \"life\", \"family\", \"story\", \"mother\"  \n",
              "4       \"story\", \"life\", \"characters\", \"time\", \"way\"  "
            ]
          },
          "metadata": {
            "tags": []
          },
          "execution_count": 174
        }
      ]
    },
    {
      "cell_type": "code",
      "metadata": {
        "id": "ZHE27cwpCOyp",
        "outputId": "fe479870-f45d-4a8e-bfbe-3761339703a8"
      },
      "source": [
        "df['primary_topic'].value_counts()"
      ],
      "execution_count": null,
      "outputs": [
        {
          "output_type": "stream",
          "text": [
            "/Users/shahnam/opt/anaconda3/envs/U4-S1-NLP/lib/python3.7/site-packages/ipykernel/ipkernel.py:287: DeprecationWarning: `should_run_async` will not call `transform_cell` automatically in the future. Please pass the result to `transformed_cell` argument and any exception that happen during thetransform in `preprocessing_exc_tuple` in IPython 7.17 and above.\n",
            "  and should_run_async(code)\n"
          ],
          "name": "stderr"
        },
        {
          "output_type": "execute_result",
          "data": {
            "text/plain": [
              "\"people\", \"time\", \"acting\", \"plot\", \"money\"               4124\n",
              "\"story\", \"life\", \"characters\", \"time\", \"way\"              3100\n",
              "\"people\", \"life\", \"family\", \"story\", \"mother\"             2888\n",
              "\"characters\", \"people\", \"actors\", \"story\", \"acting\"       2612\n",
              "\"plot\", \"people\", \"end\", \"time\", \"acting\"                 2578\n",
              "\"story\", \"people\", \"way\", \"time\", \"book\"                  2530\n",
              "\"time\", \"sci-fi\", \"special effects\", \"acting\", \"story\"    2390\n",
              "\"time\", \"people\", \"guy\", \"lot\", \"scene\"                   1958\n",
              "\"kids\", \"time\", \"children\", \"fun\", \"lot\"                  1940\n",
              "\"characters\", \"story\", \"character\", \"plot\", \"end\"         1939\n",
              "\"people\", \"time\", \"way\", \"war\", \"action\"                  1902\n",
              "\"people\", \"time\", \"story\", \"scene\", \"fact\"                1779\n",
              "\"time\", \"man\", \"wife\", \"husband\", \"way\"                   1549\n",
              "\"series\", \"episode\", \"episodes\", \"time\", \"season\"         1504\n",
              "\"british\", \"time\", \"story\", \"movies\", \"dvd\"               1472\n",
              "\"role\", \"cast\", \"plot\", \"music\", \"story\"                  1387\n",
              "\"time\", \"movies\", \"people\", \"start\", \"finish\"             1365\n",
              "\"time\", \"hollywood\", \"war\", \"story\", \"life\"               1350\n",
              "\"french\", \"american\", \"story\", \"italian\", \"english\"       1128\n",
              "\"story\", \"plot\", \"role\", \"fact\", \"case\"                    941\n",
              "Name: primary_topic, dtype: int64"
            ]
          },
          "metadata": {
            "tags": []
          },
          "execution_count": 175
        }
      ]
    },
    {
      "cell_type": "code",
      "metadata": {
        "id": "4ll2RdPSCOyq",
        "outputId": "574e7a6d-0f20-460f-b93b-9fb179a65a35"
      },
      "source": [
        "df.head()"
      ],
      "execution_count": null,
      "outputs": [
        {
          "output_type": "stream",
          "text": [
            "/Users/shahnam/opt/anaconda3/envs/U4-S1-NLP/lib/python3.7/site-packages/ipykernel/ipkernel.py:287: DeprecationWarning: `should_run_async` will not call `transform_cell` automatically in the future. Please pass the result to `transformed_cell` argument and any exception that happen during thetransform in `preprocessing_exc_tuple` in IPython 7.17 and above.\n",
            "  and should_run_async(code)\n"
          ],
          "name": "stderr"
        },
        {
          "output_type": "execute_result",
          "data": {
            "text/html": [
              "<div>\n",
              "<style scoped>\n",
              "    .dataframe tbody tr th:only-of-type {\n",
              "        vertical-align: middle;\n",
              "    }\n",
              "\n",
              "    .dataframe tbody tr th {\n",
              "        vertical-align: top;\n",
              "    }\n",
              "\n",
              "    .dataframe thead th {\n",
              "        text-align: right;\n",
              "    }\n",
              "</style>\n",
              "<table border=\"1\" class=\"dataframe\">\n",
              "  <thead>\n",
              "    <tr style=\"text-align: right;\">\n",
              "      <th></th>\n",
              "      <th>review</th>\n",
              "      <th>sentiment</th>\n",
              "      <th>keywords</th>\n",
              "      <th>clean_keywords</th>\n",
              "      <th>primary_topic</th>\n",
              "    </tr>\n",
              "  </thead>\n",
              "  <tbody>\n",
              "    <tr>\n",
              "      <th>0</th>\n",
              "      <td>One of the other reviewers has mentioned that ...</td>\n",
              "      <td>positive</td>\n",
              "      <td>[other shows, graphic violence, prison experie...</td>\n",
              "      <td>[shows, graphic violence, prison experience, p...</td>\n",
              "      <td>\"story\", \"life\", \"characters\", \"time\", \"way\"</td>\n",
              "    </tr>\n",
              "    <tr>\n",
              "      <th>1</th>\n",
              "      <td>A wonderful little production. The filming tec...</td>\n",
              "      <td>positive</td>\n",
              "      <td>[halliwell, michael sheen, realism, comedy, wi...</td>\n",
              "      <td>[halliwell, michael sheen, realism, comedy, wi...</td>\n",
              "      <td>\"time\", \"hollywood\", \"war\", \"story\", \"life\"</td>\n",
              "    </tr>\n",
              "    <tr>\n",
              "      <th>2</th>\n",
              "      <td>I thought this was a wonderful way to spend ti...</td>\n",
              "      <td>positive</td>\n",
              "      <td>[spirited young woman, devil wears prada, summ...</td>\n",
              "      <td>[spirited young woman, devil wears prada, summ...</td>\n",
              "      <td>\"characters\", \"story\", \"character\", \"plot\", \"end\"</td>\n",
              "    </tr>\n",
              "    <tr>\n",
              "      <th>3</th>\n",
              "      <td>Basically there's a family where a little boy ...</td>\n",
              "      <td>negative</td>\n",
              "      <td>[playing parents, jake, parents, descent dialo...</td>\n",
              "      <td>[playing parents, jake, parents, descent dialo...</td>\n",
              "      <td>\"people\", \"life\", \"family\", \"story\", \"mother\"</td>\n",
              "    </tr>\n",
              "    <tr>\n",
              "      <th>4</th>\n",
              "      <td>Petter Mattei's \"Love in the Time of Money\" is...</td>\n",
              "      <td>positive</td>\n",
              "      <td>[mr. mattei, good luck, mattei, human relation...</td>\n",
              "      <td>[mr. mattei, good luck, mattei, human relation...</td>\n",
              "      <td>\"story\", \"life\", \"characters\", \"time\", \"way\"</td>\n",
              "    </tr>\n",
              "  </tbody>\n",
              "</table>\n",
              "</div>"
            ],
            "text/plain": [
              "                                              review sentiment  \\\n",
              "0  One of the other reviewers has mentioned that ...  positive   \n",
              "1  A wonderful little production. The filming tec...  positive   \n",
              "2  I thought this was a wonderful way to spend ti...  positive   \n",
              "3  Basically there's a family where a little boy ...  negative   \n",
              "4  Petter Mattei's \"Love in the Time of Money\" is...  positive   \n",
              "\n",
              "                                            keywords  \\\n",
              "0  [other shows, graphic violence, prison experie...   \n",
              "1  [halliwell, michael sheen, realism, comedy, wi...   \n",
              "2  [spirited young woman, devil wears prada, summ...   \n",
              "3  [playing parents, jake, parents, descent dialo...   \n",
              "4  [mr. mattei, good luck, mattei, human relation...   \n",
              "\n",
              "                                      clean_keywords  \\\n",
              "0  [shows, graphic violence, prison experience, p...   \n",
              "1  [halliwell, michael sheen, realism, comedy, wi...   \n",
              "2  [spirited young woman, devil wears prada, summ...   \n",
              "3  [playing parents, jake, parents, descent dialo...   \n",
              "4  [mr. mattei, good luck, mattei, human relation...   \n",
              "\n",
              "                                       primary_topic  \n",
              "0       \"story\", \"life\", \"characters\", \"time\", \"way\"  \n",
              "1        \"time\", \"hollywood\", \"war\", \"story\", \"life\"  \n",
              "2  \"characters\", \"story\", \"character\", \"plot\", \"end\"  \n",
              "3      \"people\", \"life\", \"family\", \"story\", \"mother\"  \n",
              "4       \"story\", \"life\", \"characters\", \"time\", \"way\"  "
            ]
          },
          "metadata": {
            "tags": []
          },
          "execution_count": 176
        }
      ]
    },
    {
      "cell_type": "code",
      "metadata": {
        "id": "IluAdSChCOyt",
        "outputId": "e082f7f9-a315-4eb5-c982-40ff32fba1ad"
      },
      "source": [
        "# Count number of reviews for each primary_topic that are labeled negative and positive\n",
        "agg = pd.pivot_table(df, values=['review'], \n",
        "                     index=['primary_topic'], \n",
        "                     columns=['sentiment'], aggfunc='count')"
      ],
      "execution_count": null,
      "outputs": [
        {
          "output_type": "stream",
          "text": [
            "/Users/shahnam/opt/anaconda3/envs/U4-S1-NLP/lib/python3.7/site-packages/ipykernel/ipkernel.py:287: DeprecationWarning: `should_run_async` will not call `transform_cell` automatically in the future. Please pass the result to `transformed_cell` argument and any exception that happen during thetransform in `preprocessing_exc_tuple` in IPython 7.17 and above.\n",
            "  and should_run_async(code)\n"
          ],
          "name": "stderr"
        }
      ]
    },
    {
      "cell_type": "code",
      "metadata": {
        "id": "G15fplzRCOyv",
        "outputId": "944a39fa-c4c8-461c-ff89-54e431330f38"
      },
      "source": [
        "agg.head(2)"
      ],
      "execution_count": null,
      "outputs": [
        {
          "output_type": "stream",
          "text": [
            "/Users/shahnam/opt/anaconda3/envs/U4-S1-NLP/lib/python3.7/site-packages/ipykernel/ipkernel.py:287: DeprecationWarning: `should_run_async` will not call `transform_cell` automatically in the future. Please pass the result to `transformed_cell` argument and any exception that happen during thetransform in `preprocessing_exc_tuple` in IPython 7.17 and above.\n",
            "  and should_run_async(code)\n"
          ],
          "name": "stderr"
        },
        {
          "output_type": "execute_result",
          "data": {
            "text/html": [
              "<div>\n",
              "<style scoped>\n",
              "    .dataframe tbody tr th:only-of-type {\n",
              "        vertical-align: middle;\n",
              "    }\n",
              "\n",
              "    .dataframe tbody tr th {\n",
              "        vertical-align: top;\n",
              "    }\n",
              "\n",
              "    .dataframe thead tr th {\n",
              "        text-align: left;\n",
              "    }\n",
              "\n",
              "    .dataframe thead tr:last-of-type th {\n",
              "        text-align: right;\n",
              "    }\n",
              "</style>\n",
              "<table border=\"1\" class=\"dataframe\">\n",
              "  <thead>\n",
              "    <tr>\n",
              "      <th></th>\n",
              "      <th colspan=\"2\" halign=\"left\">review</th>\n",
              "    </tr>\n",
              "    <tr>\n",
              "      <th>sentiment</th>\n",
              "      <th>negative</th>\n",
              "      <th>positive</th>\n",
              "    </tr>\n",
              "    <tr>\n",
              "      <th>primary_topic</th>\n",
              "      <th></th>\n",
              "      <th></th>\n",
              "    </tr>\n",
              "  </thead>\n",
              "  <tbody>\n",
              "    <tr>\n",
              "      <th>\"british\", \"time\", \"story\", \"movies\", \"dvd\"</th>\n",
              "      <td>628</td>\n",
              "      <td>844</td>\n",
              "    </tr>\n",
              "    <tr>\n",
              "      <th>\"characters\", \"people\", \"actors\", \"story\", \"acting\"</th>\n",
              "      <td>1183</td>\n",
              "      <td>1429</td>\n",
              "    </tr>\n",
              "    <tr>\n",
              "      <th>\"characters\", \"story\", \"character\", \"plot\", \"end\"</th>\n",
              "      <td>870</td>\n",
              "      <td>1069</td>\n",
              "    </tr>\n",
              "    <tr>\n",
              "      <th>\"french\", \"american\", \"story\", \"italian\", \"english\"</th>\n",
              "      <td>384</td>\n",
              "      <td>744</td>\n",
              "    </tr>\n",
              "    <tr>\n",
              "      <th>\"kids\", \"time\", \"children\", \"fun\", \"lot\"</th>\n",
              "      <td>738</td>\n",
              "      <td>1202</td>\n",
              "    </tr>\n",
              "  </tbody>\n",
              "</table>\n",
              "</div>"
            ],
            "text/plain": [
              "                                                     review         \n",
              "sentiment                                          negative positive\n",
              "primary_topic                                                       \n",
              "\"british\", \"time\", \"story\", \"movies\", \"dvd\"             628      844\n",
              "\"characters\", \"people\", \"actors\", \"story\", \"act...     1183     1429\n",
              "\"characters\", \"story\", \"character\", \"plot\", \"end\"       870     1069\n",
              "\"french\", \"american\", \"story\", \"italian\", \"engl...      384      744\n",
              "\"kids\", \"time\", \"children\", \"fun\", \"lot\"                738     1202"
            ]
          },
          "metadata": {
            "tags": []
          },
          "execution_count": 199
        }
      ]
    },
    {
      "cell_type": "code",
      "metadata": {
        "id": "gkq0B2oKCOyw",
        "outputId": "cb842029-36f2-472d-ef39-711a68d6beb4"
      },
      "source": [
        "agg = agg.reset_index()"
      ],
      "execution_count": null,
      "outputs": [
        {
          "output_type": "stream",
          "text": [
            "/Users/shahnam/opt/anaconda3/envs/U4-S1-NLP/lib/python3.7/site-packages/ipykernel/ipkernel.py:287: DeprecationWarning: `should_run_async` will not call `transform_cell` automatically in the future. Please pass the result to `transformed_cell` argument and any exception that happen during thetransform in `preprocessing_exc_tuple` in IPython 7.17 and above.\n",
            "  and should_run_async(code)\n"
          ],
          "name": "stderr"
        }
      ]
    },
    {
      "cell_type": "code",
      "metadata": {
        "id": "jmgVXLRhCOyy",
        "outputId": "e94ef57a-a37a-41d1-ae3b-b8ec607a1a0f"
      },
      "source": [
        "agg.head(2)"
      ],
      "execution_count": null,
      "outputs": [
        {
          "output_type": "stream",
          "text": [
            "/Users/shahnam/opt/anaconda3/envs/U4-S1-NLP/lib/python3.7/site-packages/ipykernel/ipkernel.py:287: DeprecationWarning: `should_run_async` will not call `transform_cell` automatically in the future. Please pass the result to `transformed_cell` argument and any exception that happen during thetransform in `preprocessing_exc_tuple` in IPython 7.17 and above.\n",
            "  and should_run_async(code)\n"
          ],
          "name": "stderr"
        },
        {
          "output_type": "execute_result",
          "data": {
            "text/html": [
              "<div>\n",
              "<style scoped>\n",
              "    .dataframe tbody tr th:only-of-type {\n",
              "        vertical-align: middle;\n",
              "    }\n",
              "\n",
              "    .dataframe tbody tr th {\n",
              "        vertical-align: top;\n",
              "    }\n",
              "\n",
              "    .dataframe thead tr th {\n",
              "        text-align: left;\n",
              "    }\n",
              "</style>\n",
              "<table border=\"1\" class=\"dataframe\">\n",
              "  <thead>\n",
              "    <tr>\n",
              "      <th></th>\n",
              "      <th>primary_topic</th>\n",
              "      <th colspan=\"2\" halign=\"left\">review</th>\n",
              "    </tr>\n",
              "    <tr>\n",
              "      <th>sentiment</th>\n",
              "      <th></th>\n",
              "      <th>negative</th>\n",
              "      <th>positive</th>\n",
              "    </tr>\n",
              "  </thead>\n",
              "  <tbody>\n",
              "    <tr>\n",
              "      <th>0</th>\n",
              "      <td>\"british\", \"time\", \"story\", \"movies\", \"dvd\"</td>\n",
              "      <td>628</td>\n",
              "      <td>844</td>\n",
              "    </tr>\n",
              "    <tr>\n",
              "      <th>1</th>\n",
              "      <td>\"characters\", \"people\", \"actors\", \"story\", \"ac...</td>\n",
              "      <td>1183</td>\n",
              "      <td>1429</td>\n",
              "    </tr>\n",
              "  </tbody>\n",
              "</table>\n",
              "</div>"
            ],
            "text/plain": [
              "                                               primary_topic   review         \n",
              "sentiment                                                    negative positive\n",
              "0                \"british\", \"time\", \"story\", \"movies\", \"dvd\"      628      844\n",
              "1          \"characters\", \"people\", \"actors\", \"story\", \"ac...     1183     1429"
            ]
          },
          "metadata": {
            "tags": []
          },
          "execution_count": 202
        }
      ]
    },
    {
      "cell_type": "code",
      "metadata": {
        "id": "cODE6lx-COy0",
        "outputId": "0d6b2881-62a9-4559-c2dd-e9d981b1e45f"
      },
      "source": [
        "agg.columns = ['primary_topic', 'negative', 'positive']\n",
        "agg.head(2)"
      ],
      "execution_count": null,
      "outputs": [
        {
          "output_type": "stream",
          "text": [
            "/Users/shahnam/opt/anaconda3/envs/U4-S1-NLP/lib/python3.7/site-packages/ipykernel/ipkernel.py:287: DeprecationWarning: `should_run_async` will not call `transform_cell` automatically in the future. Please pass the result to `transformed_cell` argument and any exception that happen during thetransform in `preprocessing_exc_tuple` in IPython 7.17 and above.\n",
            "  and should_run_async(code)\n"
          ],
          "name": "stderr"
        },
        {
          "output_type": "execute_result",
          "data": {
            "text/html": [
              "<div>\n",
              "<style scoped>\n",
              "    .dataframe tbody tr th:only-of-type {\n",
              "        vertical-align: middle;\n",
              "    }\n",
              "\n",
              "    .dataframe tbody tr th {\n",
              "        vertical-align: top;\n",
              "    }\n",
              "\n",
              "    .dataframe thead th {\n",
              "        text-align: right;\n",
              "    }\n",
              "</style>\n",
              "<table border=\"1\" class=\"dataframe\">\n",
              "  <thead>\n",
              "    <tr style=\"text-align: right;\">\n",
              "      <th></th>\n",
              "      <th>primary_topic</th>\n",
              "      <th>negative</th>\n",
              "      <th>positive</th>\n",
              "    </tr>\n",
              "  </thead>\n",
              "  <tbody>\n",
              "    <tr>\n",
              "      <th>0</th>\n",
              "      <td>\"british\", \"time\", \"story\", \"movies\", \"dvd\"</td>\n",
              "      <td>628</td>\n",
              "      <td>844</td>\n",
              "    </tr>\n",
              "    <tr>\n",
              "      <th>1</th>\n",
              "      <td>\"characters\", \"people\", \"actors\", \"story\", \"ac...</td>\n",
              "      <td>1183</td>\n",
              "      <td>1429</td>\n",
              "    </tr>\n",
              "  </tbody>\n",
              "</table>\n",
              "</div>"
            ],
            "text/plain": [
              "                                       primary_topic  negative  positive\n",
              "0        \"british\", \"time\", \"story\", \"movies\", \"dvd\"       628       844\n",
              "1  \"characters\", \"people\", \"actors\", \"story\", \"ac...      1183      1429"
            ]
          },
          "metadata": {
            "tags": []
          },
          "execution_count": 203
        }
      ]
    },
    {
      "cell_type": "code",
      "metadata": {
        "id": "SnlqSa0eCOy1",
        "outputId": "79503147-80a9-48a4-8cc8-3b2f5df0953a"
      },
      "source": [
        "import seaborn as sns\n",
        "import matplotlib.pyplot as plt\n",
        "\n",
        "sns.set(style=\"whitegrid\")\n",
        "\n",
        "# Initialize the matplotlib figure\n",
        "f, ax = plt.subplots(figsize=(6, 15))\n",
        "\n",
        "sns.set_color_codes('pastel')\n",
        "sns.barplot(x='negative', y='primary_topic', data=agg, label=\"Negative\", color=\"r\")\n",
        "\n",
        "sns.set_color_codes('muted')\n",
        "sns.barplot(x='positive', y='primary_topic', data=agg, label=\"Positive\", color=\"g\")\n",
        "\n",
        "ax.legend(ncol=2, loc=\"lower right\", frameon=True)\n",
        "ax.set(xlim=(0,5000), ylabel=\"\", xlabel=\"Count of Reviews\")\n",
        "sns.despine(left=True, bottom=True)"
      ],
      "execution_count": null,
      "outputs": [
        {
          "output_type": "stream",
          "text": [
            "/Users/shahnam/opt/anaconda3/envs/U4-S1-NLP/lib/python3.7/site-packages/ipykernel/ipkernel.py:287: DeprecationWarning: `should_run_async` will not call `transform_cell` automatically in the future. Please pass the result to `transformed_cell` argument and any exception that happen during thetransform in `preprocessing_exc_tuple` in IPython 7.17 and above.\n",
            "  and should_run_async(code)\n"
          ],
          "name": "stderr"
        },
        {
          "output_type": "display_data",
          "data": {
            "image/png": "[encoded data removed]",
            "text/plain": [
              "<Figure size 432x1080 with 1 Axes>"
            ]
          },
          "metadata": {
            "tags": []
          }
        }
      ]
    },
    {
      "cell_type": "code",
      "metadata": {
        "id": "OtTRyaXgCOy3"
      },
      "source": [
        ""
      ],
      "execution_count": null,
      "outputs": []
    }
  ]
}