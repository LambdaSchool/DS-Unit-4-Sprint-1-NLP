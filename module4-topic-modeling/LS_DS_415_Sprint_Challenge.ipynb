{
 "cells": [
  {
   "cell_type": "markdown",
   "metadata": {},
   "source": [
    "<img align=\"left\" src=\"https://lever-client-logos.s3.amazonaws.com/864372b1-534c-480e-acd5-9711f850815c-1524247202159.png\" width=200>\n",
    "<br></br>\n",
    "<br></br>\n",
    "\n",
    "# Sprint Challenge\n",
    "## *Data Science Unit 4 Sprint 1*\n",
    "\n",
    "After a week of Natural Language Processing, you've learned some cool new stuff: how to process text, how turn text into vectors, and how to model topics from documents. Apply your newly acquired skills to one of the most famous NLP datasets out there: [Yelp](https://www.yelp.com/dataset/challenge). As part of the job selection process, some of my friends have been asked to create analysis of this dataset, so I want to empower you to have a head start.  \n",
    "\n",
    "The real dataset is massive (almost 8 gigs uncompressed). I've sampled the data for you to something more managable for the Sprint Challenge. You can analyze the full dataset as a stretch goal or after the sprint challenge. As you work on the challenge, I suggest adding notes about your findings and things you want to analyze in the future.\n",
    "\n",
    "## Challenge Objectives\n",
    "*Successfully complete these all these objectives to earn a 2. There are more details on each objective further down in the notebook.*\n",
    "* <a href=\"#p1\">Part 1</a>: Write a function to tokenize the yelp reviews\n",
    "* <a href=\"#p2\">Part 2</a>: Create a vector representation of those tokens\n",
    "* <a href=\"#p3\">Part 3</a>: Use your tokens in a classification model on yelp rating\n",
    "* <a href=\"#p4\">Part 4</a>: Estimate & Interpret a topic model of the Yelp reviews"
   ]
  },
  {
   "cell_type": "code",
   "execution_count": 4,
   "metadata": {},
   "outputs": [],
   "source": [
    "import pandas as pd\n",
    "\n",
    "yelp = pd.read_json('review_sample.json', lines=True)"
   ]
  },
  {
   "cell_type": "code",
   "execution_count": 5,
   "metadata": {},
   "outputs": [
    {
     "data": {
      "text/html": [
       "<div>\n",
       "<style scoped>\n",
       "    .dataframe tbody tr th:only-of-type {\n",
       "        vertical-align: middle;\n",
       "    }\n",
       "\n",
       "    .dataframe tbody tr th {\n",
       "        vertical-align: top;\n",
       "    }\n",
       "\n",
       "    .dataframe thead th {\n",
       "        text-align: right;\n",
       "    }\n",
       "</style>\n",
       "<table border=\"1\" class=\"dataframe\">\n",
       "  <thead>\n",
       "    <tr style=\"text-align: right;\">\n",
       "      <th></th>\n",
       "      <th>business_id</th>\n",
       "      <th>cool</th>\n",
       "      <th>date</th>\n",
       "      <th>funny</th>\n",
       "      <th>review_id</th>\n",
       "      <th>stars</th>\n",
       "      <th>text</th>\n",
       "      <th>useful</th>\n",
       "      <th>user_id</th>\n",
       "    </tr>\n",
       "  </thead>\n",
       "  <tbody>\n",
       "    <tr>\n",
       "      <th>0</th>\n",
       "      <td>nDuEqIyRc8YKS1q1fX0CZg</td>\n",
       "      <td>1</td>\n",
       "      <td>2015-03-31 16:50:30</td>\n",
       "      <td>0</td>\n",
       "      <td>eZs2tpEJtXPwawvHnHZIgQ</td>\n",
       "      <td>1</td>\n",
       "      <td>BEWARE!!! FAKE, FAKE, FAKE....We also own a sm...</td>\n",
       "      <td>10</td>\n",
       "      <td>n1LM36qNg4rqGXIcvVXv8w</td>\n",
       "    </tr>\n",
       "    <tr>\n",
       "      <th>1</th>\n",
       "      <td>eMYeEapscbKNqUDCx705hg</td>\n",
       "      <td>0</td>\n",
       "      <td>2015-12-16 05:31:03</td>\n",
       "      <td>0</td>\n",
       "      <td>DoQDWJsNbU0KL1O29l_Xug</td>\n",
       "      <td>4</td>\n",
       "      <td>Came here for lunch Togo. Service was quick. S...</td>\n",
       "      <td>0</td>\n",
       "      <td>5CgjjDAic2-FAvCtiHpytA</td>\n",
       "    </tr>\n",
       "    <tr>\n",
       "      <th>2</th>\n",
       "      <td>6Q7-wkCPc1KF75jZLOTcMw</td>\n",
       "      <td>1</td>\n",
       "      <td>2010-06-20 19:14:48</td>\n",
       "      <td>1</td>\n",
       "      <td>DDOdGU7zh56yQHmUnL1idQ</td>\n",
       "      <td>3</td>\n",
       "      <td>I've been to Vegas dozens of times and had nev...</td>\n",
       "      <td>2</td>\n",
       "      <td>BdV-cf3LScmb8kZ7iiBcMA</td>\n",
       "    </tr>\n",
       "    <tr>\n",
       "      <th>3</th>\n",
       "      <td>k3zrItO4l9hwfLRwHBDc9w</td>\n",
       "      <td>3</td>\n",
       "      <td>2010-07-13 00:33:45</td>\n",
       "      <td>4</td>\n",
       "      <td>LfTMUWnfGFMOfOIyJcwLVA</td>\n",
       "      <td>1</td>\n",
       "      <td>We went here on a night where they closed off ...</td>\n",
       "      <td>5</td>\n",
       "      <td>cZZnBqh4gAEy4CdNvJailQ</td>\n",
       "    </tr>\n",
       "    <tr>\n",
       "      <th>4</th>\n",
       "      <td>6hpfRwGlOzbNv7k5eP9rsQ</td>\n",
       "      <td>1</td>\n",
       "      <td>2018-06-30 02:30:01</td>\n",
       "      <td>0</td>\n",
       "      <td>zJSUdI7bJ8PNJAg4lnl_Gg</td>\n",
       "      <td>4</td>\n",
       "      <td>3.5 to 4 stars\\n\\nNot bad for the price, $12.9...</td>\n",
       "      <td>5</td>\n",
       "      <td>n9QO4ClYAS7h9fpQwa5bhA</td>\n",
       "    </tr>\n",
       "  </tbody>\n",
       "</table>\n",
       "</div>"
      ],
      "text/plain": [
       "              business_id  cool                date  funny  \\\n",
       "0  nDuEqIyRc8YKS1q1fX0CZg     1 2015-03-31 16:50:30      0   \n",
       "1  eMYeEapscbKNqUDCx705hg     0 2015-12-16 05:31:03      0   \n",
       "2  6Q7-wkCPc1KF75jZLOTcMw     1 2010-06-20 19:14:48      1   \n",
       "3  k3zrItO4l9hwfLRwHBDc9w     3 2010-07-13 00:33:45      4   \n",
       "4  6hpfRwGlOzbNv7k5eP9rsQ     1 2018-06-30 02:30:01      0   \n",
       "\n",
       "                review_id  stars  \\\n",
       "0  eZs2tpEJtXPwawvHnHZIgQ      1   \n",
       "1  DoQDWJsNbU0KL1O29l_Xug      4   \n",
       "2  DDOdGU7zh56yQHmUnL1idQ      3   \n",
       "3  LfTMUWnfGFMOfOIyJcwLVA      1   \n",
       "4  zJSUdI7bJ8PNJAg4lnl_Gg      4   \n",
       "\n",
       "                                                text  useful  \\\n",
       "0  BEWARE!!! FAKE, FAKE, FAKE....We also own a sm...      10   \n",
       "1  Came here for lunch Togo. Service was quick. S...       0   \n",
       "2  I've been to Vegas dozens of times and had nev...       2   \n",
       "3  We went here on a night where they closed off ...       5   \n",
       "4  3.5 to 4 stars\\n\\nNot bad for the price, $12.9...       5   \n",
       "\n",
       "                  user_id  \n",
       "0  n1LM36qNg4rqGXIcvVXv8w  \n",
       "1  5CgjjDAic2-FAvCtiHpytA  \n",
       "2  BdV-cf3LScmb8kZ7iiBcMA  \n",
       "3  cZZnBqh4gAEy4CdNvJailQ  \n",
       "4  n9QO4ClYAS7h9fpQwa5bhA  "
      ]
     },
     "execution_count": 5,
     "metadata": {},
     "output_type": "execute_result"
    }
   ],
   "source": [
    "yelp.head()"
   ]
  },
  {
   "cell_type": "markdown",
   "metadata": {},
   "source": [
    "## Part 1: Tokenize Function\n",
    "<a id=\"#p1\"></a>\n",
    "\n",
    "Complete the function `tokenize`. Your function should\n",
    "- accept one document at a time\n",
    "- return a list of tokens\n",
    "\n",
    "You are free to use any method you have learned this week."
   ]
  },
  {
   "cell_type": "code",
   "execution_count": 6,
   "metadata": {},
   "outputs": [],
   "source": [
    "import re\n",
    "\n",
    "#nlp = spacy.load('en_core_web_lg')\n",
    "\n",
    "def tokenize(doc):\n",
    "    ## Your code starts here\n",
    "    sample = re.sub(r'[^a-zA-Z ^0-9]', '', doc)\n",
    "    tokens = sample.lower().split()\n",
    "    return tokens"
   ]
  },
  {
   "cell_type": "code",
   "execution_count": 7,
   "metadata": {},
   "outputs": [
    {
     "data": {
      "text/plain": [
       "0    BEWARE!!! FAKE, FAKE, FAKE....We also own a sm...\n",
       "1    Came here for lunch Togo. Service was quick. S...\n",
       "2    I've been to Vegas dozens of times and had nev...\n",
       "3    We went here on a night where they closed off ...\n",
       "4    3.5 to 4 stars\\n\\nNot bad for the price, $12.9...\n",
       "Name: text, dtype: object"
      ]
     },
     "execution_count": 7,
     "metadata": {},
     "output_type": "execute_result"
    }
   ],
   "source": [
    "yelp['text'].head()"
   ]
  },
  {
   "cell_type": "code",
   "execution_count": 8,
   "metadata": {},
   "outputs": [],
   "source": [
    "yelp['tokens'] = yelp['text'].apply(tokenize)"
   ]
  },
  {
   "cell_type": "code",
   "execution_count": 9,
   "metadata": {},
   "outputs": [
    {
     "data": {
      "text/plain": [
       "0    [beware, fake, fake, fakewe, also, own, a, sma...\n",
       "1    [came, here, for, lunch, togo, service, was, q...\n",
       "2    [ive, been, to, vegas, dozens, of, times, and,...\n",
       "3    [we, went, here, on, a, night, where, they, cl...\n",
       "4    [35, to, 4, starsnot, bad, for, the, price, 12...\n",
       "Name: tokens, dtype: object"
      ]
     },
     "execution_count": 9,
     "metadata": {},
     "output_type": "execute_result"
    }
   ],
   "source": [
    "yelp['tokens'].head()"
   ]
  },
  {
   "cell_type": "code",
   "execution_count": 11,
   "metadata": {},
   "outputs": [],
   "source": [
    "data = yelp['tokens'].astype(str)"
   ]
  },
  {
   "cell_type": "code",
   "execution_count": null,
   "metadata": {},
   "outputs": [],
   "source": []
  },
  {
   "cell_type": "markdown",
   "metadata": {},
   "source": [
    "## Part 2: Vector Representation\n",
    "<a id=\"#p2\"></a>\n",
    "1. Create a vector representation of the reviews\n",
    "2. Write a fake review and query for the 10 most similiar reviews, print the text of the reviews. Do you notice any patterns?\n",
    "    - Given the size of the dataset, it will probably be best to use a `NearestNeighbors` model for this. "
   ]
  },
  {
   "cell_type": "code",
   "execution_count": 12,
   "metadata": {},
   "outputs": [
    {
     "data": {
      "text/html": [
       "<div>\n",
       "<style scoped>\n",
       "    .dataframe tbody tr th:only-of-type {\n",
       "        vertical-align: middle;\n",
       "    }\n",
       "\n",
       "    .dataframe tbody tr th {\n",
       "        vertical-align: top;\n",
       "    }\n",
       "\n",
       "    .dataframe thead th {\n",
       "        text-align: right;\n",
       "    }\n",
       "</style>\n",
       "<table border=\"1\" class=\"dataframe\">\n",
       "  <thead>\n",
       "    <tr style=\"text-align: right;\">\n",
       "      <th></th>\n",
       "      <th>10</th>\n",
       "      <th>amazing</th>\n",
       "      <th>area</th>\n",
       "      <th>asked</th>\n",
       "      <th>away</th>\n",
       "      <th>awesome</th>\n",
       "      <th>bad</th>\n",
       "      <th>bar</th>\n",
       "      <th>best</th>\n",
       "      <th>better</th>\n",
       "      <th>...</th>\n",
       "      <th>vegas</th>\n",
       "      <th>wait</th>\n",
       "      <th>want</th>\n",
       "      <th>wanted</th>\n",
       "      <th>wasn</th>\n",
       "      <th>way</th>\n",
       "      <th>went</th>\n",
       "      <th>work</th>\n",
       "      <th>worth</th>\n",
       "      <th>years</th>\n",
       "    </tr>\n",
       "  </thead>\n",
       "  <tbody>\n",
       "    <tr>\n",
       "      <th>0</th>\n",
       "      <td>0.0</td>\n",
       "      <td>0.0</td>\n",
       "      <td>0.00000</td>\n",
       "      <td>0.0</td>\n",
       "      <td>0.0</td>\n",
       "      <td>0.0</td>\n",
       "      <td>0.00000</td>\n",
       "      <td>0.000000</td>\n",
       "      <td>0.000000</td>\n",
       "      <td>0.0</td>\n",
       "      <td>...</td>\n",
       "      <td>0.000000</td>\n",
       "      <td>0.392384</td>\n",
       "      <td>0.0</td>\n",
       "      <td>0.0</td>\n",
       "      <td>0.0</td>\n",
       "      <td>0.0</td>\n",
       "      <td>0.000000</td>\n",
       "      <td>0.0</td>\n",
       "      <td>0.0</td>\n",
       "      <td>0.0</td>\n",
       "    </tr>\n",
       "    <tr>\n",
       "      <th>1</th>\n",
       "      <td>0.0</td>\n",
       "      <td>0.0</td>\n",
       "      <td>0.00000</td>\n",
       "      <td>0.0</td>\n",
       "      <td>0.0</td>\n",
       "      <td>0.0</td>\n",
       "      <td>0.00000</td>\n",
       "      <td>0.000000</td>\n",
       "      <td>0.000000</td>\n",
       "      <td>0.0</td>\n",
       "      <td>...</td>\n",
       "      <td>0.000000</td>\n",
       "      <td>0.000000</td>\n",
       "      <td>0.0</td>\n",
       "      <td>0.0</td>\n",
       "      <td>0.0</td>\n",
       "      <td>0.0</td>\n",
       "      <td>0.000000</td>\n",
       "      <td>0.0</td>\n",
       "      <td>0.0</td>\n",
       "      <td>0.0</td>\n",
       "    </tr>\n",
       "    <tr>\n",
       "      <th>2</th>\n",
       "      <td>0.0</td>\n",
       "      <td>0.0</td>\n",
       "      <td>0.14922</td>\n",
       "      <td>0.0</td>\n",
       "      <td>0.0</td>\n",
       "      <td>0.0</td>\n",
       "      <td>0.00000</td>\n",
       "      <td>0.000000</td>\n",
       "      <td>0.000000</td>\n",
       "      <td>0.0</td>\n",
       "      <td>...</td>\n",
       "      <td>0.292434</td>\n",
       "      <td>0.000000</td>\n",
       "      <td>0.0</td>\n",
       "      <td>0.0</td>\n",
       "      <td>0.0</td>\n",
       "      <td>0.0</td>\n",
       "      <td>0.123145</td>\n",
       "      <td>0.0</td>\n",
       "      <td>0.0</td>\n",
       "      <td>0.0</td>\n",
       "    </tr>\n",
       "    <tr>\n",
       "      <th>3</th>\n",
       "      <td>0.0</td>\n",
       "      <td>0.0</td>\n",
       "      <td>0.00000</td>\n",
       "      <td>0.0</td>\n",
       "      <td>0.0</td>\n",
       "      <td>0.0</td>\n",
       "      <td>0.00000</td>\n",
       "      <td>0.000000</td>\n",
       "      <td>0.360664</td>\n",
       "      <td>0.0</td>\n",
       "      <td>...</td>\n",
       "      <td>0.000000</td>\n",
       "      <td>0.000000</td>\n",
       "      <td>0.0</td>\n",
       "      <td>0.0</td>\n",
       "      <td>0.0</td>\n",
       "      <td>0.0</td>\n",
       "      <td>0.381265</td>\n",
       "      <td>0.0</td>\n",
       "      <td>0.0</td>\n",
       "      <td>0.0</td>\n",
       "    </tr>\n",
       "    <tr>\n",
       "      <th>4</th>\n",
       "      <td>0.0</td>\n",
       "      <td>0.0</td>\n",
       "      <td>0.00000</td>\n",
       "      <td>0.0</td>\n",
       "      <td>0.0</td>\n",
       "      <td>0.0</td>\n",
       "      <td>0.23316</td>\n",
       "      <td>0.466138</td>\n",
       "      <td>0.000000</td>\n",
       "      <td>0.0</td>\n",
       "      <td>...</td>\n",
       "      <td>0.000000</td>\n",
       "      <td>0.000000</td>\n",
       "      <td>0.0</td>\n",
       "      <td>0.0</td>\n",
       "      <td>0.0</td>\n",
       "      <td>0.0</td>\n",
       "      <td>0.000000</td>\n",
       "      <td>0.0</td>\n",
       "      <td>0.0</td>\n",
       "      <td>0.0</td>\n",
       "    </tr>\n",
       "  </tbody>\n",
       "</table>\n",
       "<p>5 rows × 116 columns</p>\n",
       "</div>"
      ],
      "text/plain": [
       "    10  amazing     area  asked  away  awesome      bad       bar      best  \\\n",
       "0  0.0      0.0  0.00000    0.0   0.0      0.0  0.00000  0.000000  0.000000   \n",
       "1  0.0      0.0  0.00000    0.0   0.0      0.0  0.00000  0.000000  0.000000   \n",
       "2  0.0      0.0  0.14922    0.0   0.0      0.0  0.00000  0.000000  0.000000   \n",
       "3  0.0      0.0  0.00000    0.0   0.0      0.0  0.00000  0.000000  0.360664   \n",
       "4  0.0      0.0  0.00000    0.0   0.0      0.0  0.23316  0.466138  0.000000   \n",
       "\n",
       "   better  ...     vegas      wait  want  wanted  wasn  way      went  work  \\\n",
       "0     0.0  ...  0.000000  0.392384   0.0     0.0   0.0  0.0  0.000000   0.0   \n",
       "1     0.0  ...  0.000000  0.000000   0.0     0.0   0.0  0.0  0.000000   0.0   \n",
       "2     0.0  ...  0.292434  0.000000   0.0     0.0   0.0  0.0  0.123145   0.0   \n",
       "3     0.0  ...  0.000000  0.000000   0.0     0.0   0.0  0.0  0.381265   0.0   \n",
       "4     0.0  ...  0.000000  0.000000   0.0     0.0   0.0  0.0  0.000000   0.0   \n",
       "\n",
       "   worth  years  \n",
       "0    0.0    0.0  \n",
       "1    0.0    0.0  \n",
       "2    0.0    0.0  \n",
       "3    0.0    0.0  \n",
       "4    0.0    0.0  \n",
       "\n",
       "[5 rows x 116 columns]"
      ]
     },
     "execution_count": 12,
     "metadata": {},
     "output_type": "execute_result"
    }
   ],
   "source": [
    "## Your code \n",
    "from sklearn.feature_extraction.text import TfidfVectorizer\n",
    "\n",
    "tfidf = TfidfVectorizer(stop_words='english', max_features=5000, min_df=0.05)\n",
    "\n",
    "dtm = tfidf.fit_transform(yelp['text'])\n",
    "\n",
    "docs = pd.DataFrame(dtm.todense(), columns = tfidf.get_feature_names())\n",
    "\n",
    "docs.head()"
   ]
  },
  {
   "cell_type": "code",
   "execution_count": 14,
   "metadata": {},
   "outputs": [
    {
     "data": {
      "text/plain": [
       "NearestNeighbors(algorithm='ball_tree', leaf_size=30, metric='minkowski',\n",
       "                 metric_params=None, n_jobs=None, n_neighbors=5, p=2,\n",
       "                 radius=1.0)"
      ]
     },
     "execution_count": 14,
     "metadata": {},
     "output_type": "execute_result"
    }
   ],
   "source": [
    "## Your code \n",
    "#NN model\n",
    "\n",
    "from sklearn.neighbors import NearestNeighbors\n",
    "\n",
    "nn = NearestNeighbors(n_neighbors=5, algorithm='ball_tree')\n",
    "\n",
    "nn.fit(dtm.todense())"
   ]
  },
  {
   "cell_type": "code",
   "execution_count": 15,
   "metadata": {},
   "outputs": [
    {
     "data": {
      "text/plain": [
       "(array([[0.        , 0.7312096 , 0.87220709, 0.92845172, 0.9491656 ]]),\n",
       " array([[   0, 3133, 3428, 5025, 8619]], dtype=int64))"
      ]
     },
     "execution_count": 15,
     "metadata": {},
     "output_type": "execute_result"
    }
   ],
   "source": [
    "nn.kneighbors(dtm.todense()[0])"
   ]
  },
  {
   "cell_type": "code",
   "execution_count": 20,
   "metadata": {},
   "outputs": [],
   "source": [
    "new_review = [\"the batteries were just awful. they didn't last a day. Asked to get a refund but the supplier never replied. Never buying from them again. Worst customer service\"]"
   ]
  },
  {
   "cell_type": "code",
   "execution_count": 21,
   "metadata": {},
   "outputs": [],
   "source": [
    "new  = tfidf.transform(new_review)"
   ]
  },
  {
   "cell_type": "code",
   "execution_count": 22,
   "metadata": {},
   "outputs": [
    {
     "data": {
      "text/plain": [
       "(array([[0.78478358, 0.86129508, 0.87307391, 0.89558364, 0.9114545 ]]),\n",
       " array([[5944, 4375, 2397, 4879, 3923]], dtype=int64))"
      ]
     },
     "execution_count": 22,
     "metadata": {},
     "output_type": "execute_result"
    }
   ],
   "source": [
    "nn.kneighbors(new.todense())"
   ]
  },
  {
   "cell_type": "code",
   "execution_count": 23,
   "metadata": {},
   "outputs": [
    {
     "name": "stdout",
     "output_type": "stream",
     "text": [
      "I needed a few parts to assemble a cat scratching tree. The parts were missing from the package. I asked an employee to help me, and he helped me find what I needed.  Very good customer service!\n",
      "I didn't enjoy my visit at all. I asked the waiter for chicken with vegetables and they brought me the chicken with vegetables which had zucchini which I'm allergic to. I was so hungry but couldn't eat it so I asked to talk to the manager to let him know to be more specific on the menu. As far as I know the customer is always right; he didn't really even care about my comment. Very poor customer service from the manager. I only gave it one star because there wasn't a zero which is what they deserve.\n",
      "They should have offered either to cut my bill or give me some kind of incentive to come back. I won't be back!\n"
     ]
    }
   ],
   "source": [
    "print(yelp['text'][5944][:200])\n",
    "\n",
    "print(yelp['text'][3923])"
   ]
  },
  {
   "cell_type": "code",
   "execution_count": null,
   "metadata": {},
   "outputs": [],
   "source": []
  },
  {
   "cell_type": "markdown",
   "metadata": {},
   "source": [
    "## Part 3: Classification\n",
    "<a id=\"#p3\"></a>\n",
    "Your goal in this section will be to predict `stars` from the review dataset. \n",
    "\n",
    "1. Create a piepline object with a sklearn `CountVectorizer` or `TfidfVector` and any sklearn classifier. Use that pipeline to estimate a model to predict `stars`. Use the Pipeline to predict a star rating for your fake review from Part 2. \n",
    "2. Tune the entire pipeline with a GridSearch"
   ]
  },
  {
   "cell_type": "code",
   "execution_count": 25,
   "metadata": {},
   "outputs": [],
   "source": [
    "from sklearn.ensemble import GradientBoostingClassifier\n",
    "from sklearn.pipeline import Pipeline\n",
    "from sklearn.model_selection import GridSearchCV\n",
    "from sklearn.decomposition import TruncatedSVD"
   ]
  },
  {
   "cell_type": "code",
   "execution_count": 26,
   "metadata": {},
   "outputs": [],
   "source": [
    "vectorizor = TfidfVectorizer(stop_words='english', lowercase=True, min_df=0.1, max_df=0.90)\n",
    "\n",
    "classifier = GradientBoostingClassifier(n_estimators=100)\n",
    "\n",
    "svd = TruncatedSVD(n_iter=100, algorithm='randomized')"
   ]
  },
  {
   "cell_type": "code",
   "execution_count": 27,
   "metadata": {},
   "outputs": [],
   "source": [
    "lsi = Pipeline([('vect', vectorizor), ('svd', svd)])\n",
    "pipe = Pipeline([('lsi', lsi), ('clf', classifier)])\n",
    "\n",
    "params = {'lsi__svd__n_components': (10,15,20),\n",
    "          'lsi__vect__max_features': ( 500, 650, 800)\n",
    "}"
   ]
  },
  {
   "cell_type": "code",
   "execution_count": 28,
   "metadata": {},
   "outputs": [
    {
     "name": "stdout",
     "output_type": "stream",
     "text": [
      "best Score:  0.505\n"
     ]
    },
    {
     "data": {
      "text/plain": [
       "{'lsi__svd__n_components': 15, 'lsi__vect__max_features': 650}"
      ]
     },
     "execution_count": 28,
     "metadata": {},
     "output_type": "execute_result"
    }
   ],
   "source": [
    "grid_search = GridSearchCV(pipe, params, cv=5, n_jobs=-1)\n",
    "grid_search.fit(yelp['text'], yelp['stars'])\n",
    "print('best Score: ', grid_search.best_score_)\n",
    "grid_search.best_params_"
   ]
  },
  {
   "cell_type": "code",
   "execution_count": 30,
   "metadata": {},
   "outputs": [],
   "source": [
    "new_review = 'the batteries were just awful. they didnt last a day. Asked to get a refund but the supplier never replied'"
   ]
  },
  {
   "cell_type": "code",
   "execution_count": 31,
   "metadata": {},
   "outputs": [
    {
     "name": "stdout",
     "output_type": "stream",
     "text": [
      "My fake review was predicted to give a 1 star rating.\n"
     ]
    }
   ],
   "source": [
    "mod = grid_search.best_estimator_\n",
    "prediction_rating = mod.predict([new_review])[0]\n",
    "print(f'My fake review was predicted to give a {prediction_rating} star rating.')"
   ]
  },
  {
   "cell_type": "code",
   "execution_count": null,
   "metadata": {},
   "outputs": [],
   "source": []
  },
  {
   "cell_type": "markdown",
   "metadata": {},
   "source": [
    "## Part 4: Topic Modeling\n",
    "\n",
    "Let's find out what those yelp reviews are saying! :D\n",
    "\n",
    "1. Estimate a LDA topic model of the review text\n",
    "2. Create 1-2 visualizations of the results\n",
    "    - You can use the most important 3 words of a topic in relevant visualizations. Refer to yesterday's notebook to extract. \n",
    "3. In markdown, write 1-2 paragraphs of analysis on the results of your topic model\n",
    "\n",
    "__*Note*__: You can pass the DataFrame column of text reviews to gensim. You do not have to use a generator."
   ]
  },
  {
   "cell_type": "code",
   "execution_count": 32,
   "metadata": {},
   "outputs": [],
   "source": [
    "from gensim.models import LdaMulticore\n",
    "from gensim.corpora import Dictionary\n",
    "from gensim.utils import simple_preprocess"
   ]
  },
  {
   "cell_type": "code",
   "execution_count": 33,
   "metadata": {},
   "outputs": [],
   "source": [
    "import spacy\n",
    "nlp = spacy.load('en_core_web_lg')\n",
    "STOPWORDS = nlp.Defaults.stop_words.union({' ', ''})"
   ]
  },
  {
   "cell_type": "code",
   "execution_count": 34,
   "metadata": {},
   "outputs": [],
   "source": [
    "def gensim_tokenize(text):\n",
    "    '''\n",
    "    error when using dictionary on spacy tokens, using this function instead for this section\n",
    "    '''\n",
    "    return [token for token in simple_preprocess(text) if token not in STOPWORDS]\n",
    "\n",
    "yelp['gen_tokens'] = yelp['text'].apply(gensim_tokenize)"
   ]
  },
  {
   "cell_type": "code",
   "execution_count": 35,
   "metadata": {},
   "outputs": [],
   "source": [
    "id2word = Dictionary(yelp['gen_tokens'])"
   ]
  },
  {
   "cell_type": "code",
   "execution_count": 36,
   "metadata": {},
   "outputs": [],
   "source": [
    "corpus = [id2word.doc2bow(tok) for tok in yelp['gen_tokens']]"
   ]
  },
  {
   "cell_type": "code",
   "execution_count": 37,
   "metadata": {},
   "outputs": [],
   "source": [
    "lda = LdaMulticore(corpus=corpus,\n",
    "                   id2word=id2word,\n",
    "                   iterations=5,\n",
    "                   workers=4,\n",
    "                   num_topics = 10 # You can change this parameter\n",
    "                  )"
   ]
  },
  {
   "cell_type": "code",
   "execution_count": 38,
   "metadata": {},
   "outputs": [
    {
     "data": {
      "text/html": [
       "<div>\n",
       "<style scoped>\n",
       "    .dataframe tbody tr th:only-of-type {\n",
       "        vertical-align: middle;\n",
       "    }\n",
       "\n",
       "    .dataframe tbody tr th {\n",
       "        vertical-align: top;\n",
       "    }\n",
       "\n",
       "    .dataframe thead th {\n",
       "        text-align: right;\n",
       "    }\n",
       "</style>\n",
       "<table border=\"1\" class=\"dataframe\">\n",
       "  <thead>\n",
       "    <tr style=\"text-align: right;\">\n",
       "      <th></th>\n",
       "      <th>time good great</th>\n",
       "      <th>place good food</th>\n",
       "      <th>good time food</th>\n",
       "      <th>place great food</th>\n",
       "      <th>food service great</th>\n",
       "      <th>place good great</th>\n",
       "      <th>place food like</th>\n",
       "      <th>food good place</th>\n",
       "      <th>food place service</th>\n",
       "      <th>place food good</th>\n",
       "    </tr>\n",
       "  </thead>\n",
       "  <tbody>\n",
       "    <tr>\n",
       "      <th>0</th>\n",
       "      <td>0.053690</td>\n",
       "      <td>0.066430</td>\n",
       "      <td>0.110535</td>\n",
       "      <td>0.165323</td>\n",
       "      <td>0.160269</td>\n",
       "      <td>0.082457</td>\n",
       "      <td>0.061464</td>\n",
       "      <td>0.169714</td>\n",
       "      <td>0.057174</td>\n",
       "      <td>0.072943</td>\n",
       "    </tr>\n",
       "    <tr>\n",
       "      <th>1</th>\n",
       "      <td>0.067284</td>\n",
       "      <td>0.089747</td>\n",
       "      <td>0.248626</td>\n",
       "      <td>0.093100</td>\n",
       "      <td>0.059077</td>\n",
       "      <td>0.025859</td>\n",
       "      <td>0.032905</td>\n",
       "      <td>0.021894</td>\n",
       "      <td>0.062885</td>\n",
       "      <td>0.298623</td>\n",
       "    </tr>\n",
       "    <tr>\n",
       "      <th>2</th>\n",
       "      <td>0.069585</td>\n",
       "      <td>0.078175</td>\n",
       "      <td>0.093630</td>\n",
       "      <td>0.172346</td>\n",
       "      <td>0.140505</td>\n",
       "      <td>0.093618</td>\n",
       "      <td>0.090646</td>\n",
       "      <td>0.089890</td>\n",
       "      <td>0.078995</td>\n",
       "      <td>0.092610</td>\n",
       "    </tr>\n",
       "    <tr>\n",
       "      <th>3</th>\n",
       "      <td>0.140278</td>\n",
       "      <td>0.078530</td>\n",
       "      <td>0.073545</td>\n",
       "      <td>0.115751</td>\n",
       "      <td>0.088429</td>\n",
       "      <td>0.019667</td>\n",
       "      <td>0.120159</td>\n",
       "      <td>0.141561</td>\n",
       "      <td>0.115953</td>\n",
       "      <td>0.106128</td>\n",
       "    </tr>\n",
       "    <tr>\n",
       "      <th>4</th>\n",
       "      <td>0.119590</td>\n",
       "      <td>0.142877</td>\n",
       "      <td>0.105743</td>\n",
       "      <td>0.088399</td>\n",
       "      <td>0.103344</td>\n",
       "      <td>0.104126</td>\n",
       "      <td>0.079589</td>\n",
       "      <td>0.090586</td>\n",
       "      <td>0.075364</td>\n",
       "      <td>0.090383</td>\n",
       "    </tr>\n",
       "  </tbody>\n",
       "</table>\n",
       "</div>"
      ],
      "text/plain": [
       "   time good great  place good food  good time food  place great food  \\\n",
       "0         0.053690         0.066430        0.110535          0.165323   \n",
       "1         0.067284         0.089747        0.248626          0.093100   \n",
       "2         0.069585         0.078175        0.093630          0.172346   \n",
       "3         0.140278         0.078530        0.073545          0.115751   \n",
       "4         0.119590         0.142877        0.105743          0.088399   \n",
       "\n",
       "   food service great  place good great  place food like  food good place  \\\n",
       "0            0.160269          0.082457         0.061464         0.169714   \n",
       "1            0.059077          0.025859         0.032905         0.021894   \n",
       "2            0.140505          0.093618         0.090646         0.089890   \n",
       "3            0.088429          0.019667         0.120159         0.141561   \n",
       "4            0.103344          0.104126         0.079589         0.090586   \n",
       "\n",
       "   food place service  place food good  \n",
       "0            0.057174         0.072943  \n",
       "1            0.062885         0.298623  \n",
       "2            0.078995         0.092610  \n",
       "3            0.115953         0.106128  \n",
       "4            0.075364         0.090383  "
      ]
     },
     "execution_count": 38,
     "metadata": {},
     "output_type": "execute_result"
    }
   ],
   "source": [
    "lda_values = [lda[x] for x in corpus]\n",
    "\n",
    "word_list = [re.findall(r'\"([^\"]*)\"',t[1])[:3] for t in lda.print_topics()]\n",
    "\n",
    "topics = []\n",
    "for words in word_list:\n",
    "    topic = ' '.join(words)\n",
    "    topics.append(topic)   \n",
    "\n",
    "def update(doc):\n",
    "        d_dist = {k:0 for k in range(0,6)}\n",
    "        for t in doc:\n",
    "            d_dist[t[0]] = t[1]\n",
    "        return d_dist\n",
    "    \n",
    "new_distro = [update(d) for d in lda_values]\n",
    "\n",
    "df2 = pd.DataFrame(new_distro)\n",
    "df2.columns = topics\n",
    "df2.head()"
   ]
  },
  {
   "cell_type": "code",
   "execution_count": 39,
   "metadata": {},
   "outputs": [
    {
     "data": {
      "text/html": [
       "\n",
       "<link rel=\"stylesheet\" type=\"text/css\" href=\"https://cdn.rawgit.com/bmabey/pyLDAvis/files/ldavis.v1.0.0.css\">\n",
       "\n",
       "\n",
       "<div id=\"ldavis_el2265214174175837365512337208\"></div>\n",
       "<script type=\"text/javascript\">\n",
       "\n",
       "var ldavis_el2265214174175837365512337208_data = {\"mdsDat\": {\"x\": [0.00011194207538482452, -0.0013226204971992614, -0.001970839545963957, 0.0027602813069964607, -0.004904680743810644, 0.0008262939142692233, 5.791728342921475e-05, -0.0017779984593347294, 0.0015700309816835127, 0.004649673684545352], \"y\": [0.0023959471865097164, -0.0024084223281619264, 0.0031347353056795594, 0.0035489546972363763, -0.0019028207929853566, 0.002004304310661412, -0.0017325173742241042, 0.00019886992798797423, -0.0021928674956553608, -0.0030461834370483064], \"topics\": [1, 2, 3, 4, 5, 6, 7, 8, 9, 10], \"cluster\": [1, 1, 1, 1, 1, 1, 1, 1, 1, 1], \"Freq\": [10.504631996154785, 10.383374214172363, 10.356189727783203, 10.256868362426758, 10.15744686126709, 10.000358581542969, 9.801168441772461, 9.683451652526855, 9.430486679077148, 9.426020622253418]}, \"tinfo\": {\"Term\": [\"time\", \"place\", \"good\", \"chicken\", \"food\", \"nice\", \"service\", \"like\", \"didn\", \"way\", \"fresh\", \"came\", \"staff\", \"friendly\", \"try\", \"pizza\", \"got\", \"drinks\", \"day\", \"definitely\", \"ve\", \"bar\", \"said\", \"bad\", \"clean\", \"don\", \"dinner\", \"know\", \"better\", \"delicious\", \"squishies\", \"walkthrough\", \"butterflies\", \"inspections\", \"picante\", \"daaayyuuummm\", \"stabbed\", \"ari\", \"krung\", \"occur\", \"serene\", \"gutters\", \"dolci\", \"sandwichs\", \"greenhouse\", \"ricketts\", \"chauffeured\", \"carted\", \"booster\", \"fuckin\", \"twiceinoneday\", \"poising\", \"erika\", \"ishpm\", \"kendel\", \"aptive\", \"shoooz\", \"vomit\", \"riaz\", \"tha\", \"woot\", \"chai\", \"brows\", \"came\", \"smell\", \"place\", \"recommend\", \"slow\", \"unit\", \"amazing\", \"friendly\", \"way\", \"wait\", \"service\", \"asked\", \"location\", \"favorite\", \"food\", \"prices\", \"great\", \"new\", \"coffee\", \"stars\", \"good\", \"end\", \"table\", \"rice\", \"sauce\", \"love\", \"best\", \"order\", \"restaurant\", \"people\", \"want\", \"got\", \"staff\", \"going\", \"nice\", \"time\", \"ordered\", \"delicious\", \"chicken\", \"definitely\", \"went\", \"ve\", \"like\", \"don\", \"didn\", \"menu\", \"beleive\", \"imcomplete\", \"cos\", \"luis\", \"shoooz\", \"fingernail\", \"daaayyuuummm\", \"worsed\", \"abiance\", \"suitemates\", \"convent\", \"edgars\", \"hhgregg\", \"cwru\", \"liaw\", \"cheesetart\", \"excepts\", \"flush\", \"sprouted\", \"aim\\u00e9\", \"outlets\", \"aloo\", \"nite\", \"accounting\", \"samantha\", \"barbecues\", \"pamper\", \"jeffery\", \"chaleureux\", \"bregman\", \"marshall\", \"worthwhile\", \"donair\", \"dogs\", \"ceviche\", \"google\", \"good\", \"michelle\", \"food\", \"crust\", \"minutes\", \"don\", \"pitcher\", \"wife\", \"tacos\", \"dish\", \"time\", \"raw\", \"chocolate\", \"park\", \"times\", \"went\", \"bit\", \"people\", \"ve\", \"little\", \"highly\", \"best\", \"actually\", \"like\", \"place\", \"variety\", \"cheese\", \"sweet\", \"delicious\", \"friendly\", \"right\", \"tasty\", \"quality\", \"amazing\", \"room\", \"service\", \"order\", \"great\", \"ordered\", \"come\", \"came\", \"love\", \"restaurant\", \"got\", \"know\", \"try\", \"said\", \"staff\", \"menu\", \"unite\", \"golfweek\", \"ktown\", \"heal\", \"photographers\", \"reese\", \"samantha\", \"sheldon\", \"rn\", \"tastey\", \"reclined\", \"nobu\", \"ghirardelli\", \"garments\", \"browbeaten\", \"slacks\", \"intelligent\", \"meze\", \"dawn\", \"maternity\", \"everrr\", \"suzanne\", \"ev\", \"integration\", \"clinical\", \"poms\", \"vultures\", \"warhol\", \"bio\", \"popeyes\", \"dentists\", \"fresh\", \"nice\", \"having\", \"yo\", \"staff\", \"isn\", \"mini\", \"time\", \"noodle\", \"rush\", \"want\", \"usually\", \"second\", \"specials\", \"dining\", \"try\", \"medium\", \"courteous\", \"work\", \"know\", \"bar\", \"super\", \"italian\", \"shop\", \"coffee\", \"excellent\", \"service\", \"great\", \"eat\", \"ll\", \"home\", \"good\", \"don\", \"place\", \"like\", \"didn\", \"food\", \"came\", \"amazing\", \"way\", \"chicken\", \"order\", \"definitely\", \"went\", \"going\", \"ve\", \"recommend\", \"ordered\", \"love\", \"people\", \"best\", \"got\", \"little\", \"come\", \"everrrrr\", \"yuk\", \"poms\", \"ccw\", \"lyric\", \"booster\", \"peggy\", \"operative\", \"sono\", \"sheldon\", \"fridendly\", \"bello\", \"rangoons\", \"jina\", \"talia\", \"kelsea\", \"embarrassment\", \"backpack\", \"romper\", \"snapchat\", \"bled\", \"packers\", \"saj\", \"reccomend\", \"swedish\", \"kev\", \"discontinue\", \"tardy\", \"yik\", \"zo\", \"cushioning\", \"dawn\", \"wraps\", \"felt\", \"donuts\", \"place\", \"cheese\", \"couple\", \"yes\", \"sandwiches\", \"day\", \"eat\", \"looking\", \"clean\", \"said\", \"way\", \"delicious\", \"good\", \"bit\", \"menu\", \"better\", \"ve\", \"coming\", \"great\", \"served\", \"large\", \"check\", \"perfectly\", \"service\", \"nice\", \"like\", \"food\", \"love\", \"new\", \"don\", \"sauce\", \"best\", \"got\", \"staff\", \"didn\", \"come\", \"time\", \"try\", \"chicken\", \"went\", \"restaurant\", \"experience\", \"ordered\", \"order\", \"yc\", \"weapons\", \"melinda\", \"yeahhhhhhh\", \"jeannette\", \"greenway\", \"chitchatting\", \"dippin\", \"speaks\", \"bim\", \"linda\", \"buried\", \"advanced\", \"intelligently\", \"donair\", \"siela\", \"bap\", \"hoa\", \"definitively\", \"hairstylist\", \"bsc\", \"waistline\", \"yasmin\", \"brookline\", \"decour\", \"beaten\", \"tidy\", \"surreal\", \"baths\", \"diesel\", \"smog\", \"time\", \"company\", \"ganoush\", \"pool\", \"burgers\", \"dining\", \"good\", \"bad\", \"slow\", \"money\", \"far\", \"night\", \"sure\", \"friend\", \"rude\", \"drink\", \"great\", \"experience\", \"overall\", \"price\", \"food\", \"family\", \"home\", \"perfect\", \"clean\", \"service\", \"fun\", \"got\", \"meal\", \"ordered\", \"need\", \"like\", \"people\", \"find\", \"come\", \"went\", \"restaurant\", \"definitely\", \"way\", \"nice\", \"love\", \"best\", \"pretty\", \"new\", \"recommend\", \"place\", \"try\", \"came\", \"day\", \"ve\", \"don\", \"chicken\", \"order\", \"friendly\", \"little\", \"condensation\", \"darlene\", \"handedly\", \"dahl\", \"vadai\", \"colleen\", \"tasha\", \"jdt\", \"remarkably\", \"flavyour\", \"purolator\", \"delivary\", \"donovan\", \"shipper\", \"momma\", \"dolci\", \"luddite\", \"dimmer\", \"blooming\", \"definiately\", \"tuneup\", \"acrobatics\", \"complexly\", \"xs\", \"gina\", \"posoleshawwty\", \"recommand\", \"frumpy\", \"bodied\", \"whitey\", \"brunching\", \"brooklyn\", \"dinner\", \"satisfactory\", \"accounts\", \"sign\", \"didn\", \"got\", \"come\", \"tour\", \"work\", \"awesome\", \"directly\", \"real\", \"problem\", \"came\", \"hours\", \"called\", \"entire\", \"pleasant\", \"weeks\", \"immediately\", \"hotel\", \"place\", \"great\", \"experience\", \"vegas\", \"right\", \"definitely\", \"green\", \"little\", \"recommend\", \"wanted\", \"old\", \"lunch\", \"staff\", \"friendly\", \"wait\", \"asked\", \"try\", \"said\", \"like\", \"ve\", \"day\", \"time\", \"food\", \"nice\", \"good\", \"best\", \"service\", \"going\", \"love\", \"don\", \"went\", \"amazing\", \"order\", \"nan\", \"substandard\", \"outbacks\", \"buzzberry\", \"froide\", \"pucks\", \"premixed\", \"coffeeshop\", \"merest\", \"trefoil\", \"manny\", \"naga\", \"tso\", \"yuckie\", \"menudo\", \"tryed\", \"menudazo\", \"error\", \"accueil\", \"pok\\u00e9\", \"smoker\", \"krung\", \"siam\", \"boom\", \"thi\", \"tonite\", \"wrestlemania\", \"medallions\", \"carnita\", \"striked\", \"bingsu\", \"butcher\", \"exceeding\", \"iphone\", \"ian\", \"saw\", \"wont\", \"pm\", \"steak\", \"service\", \"trying\", \"suppose\", \"owner\", \"long\", \"love\", \"price\", \"ordered\", \"like\", \"better\", \"best\", \"told\", \"room\", \"food\", \"bar\", \"phoenix\", \"drink\", \"order\", \"great\", \"said\", \"visit\", \"don\", \"kids\", \"guy\", \"got\", \"good\", \"come\", \"didn\", \"wasn\", \"bad\", \"little\", \"place\", \"location\", \"way\", \"restaurant\", \"menu\", \"time\", \"ve\", \"right\", \"know\", \"people\", \"came\", \"went\", \"nice\", \"definitely\", \"richardson\", \"matthew\", \"tellers\", \"disrespected\", \"hog\", \"demonic\", \"resource\", \"darlene\", \"blitzer\", \"keychain\", \"ch\\u00e8re\", \"elisha\", \"bible\", \"wknd\", \"gustav\", \"livraison\", \"prob\", \"accueillant\", \"banking\", \"elmer\", \"mangonada\", \"neutral\", \"dane\", \"kingz\", \"skinned\", \"tikki\", \"goto\", \"intelligent\", \"parker\", \"accounting\", \"bonne\", \"grubhub\", \"thing\", \"business\", \"close\", \"coming\", \"grooming\", \"maybe\", \"won\", \"nice\", \"order\", \"looked\", \"salon\", \"know\", \"like\", \"time\", \"spicy\", \"car\", \"didn\", \"wanted\", \"definitely\", \"restaurant\", \"ll\", \"drink\", \"burger\", \"service\", \"got\", \"think\", \"room\", \"experience\", \"staff\", \"fried\", \"amazing\", \"place\", \"day\", \"great\", \"food\", \"friendly\", \"ve\", \"try\", \"good\", \"people\", \"menu\", \"come\", \"don\", \"went\", \"little\", \"best\", \"delicious\", \"ordered\", \"came\", \"aryon\", \"harlow\", \"intelligently\", \"vito\", \"insectarium\", \"chen\", \"pawn\", \"helpfull\", \"medallions\", \"kang\", \"steroids\", \"yummers\", \"pimpin\", \"rank\", \"kyu\", \"shush\", \"grubhub\", \"unauthentic\", \"librarians\", \"stranger\", \"basa\", \"ig\", \"crullers\", \"swordfish\", \"legion\", \"nb\", \"gerrard\", \"hector\", \"aching\", \"carvin\", \"nearest\", \"frying\", \"advised\", \"old\", \"potato\", \"drinks\", \"pre\", \"la\", \"taste\", \"outside\", \"ve\", \"fix\", \"food\", \"going\", \"ll\", \"chicken\", \"cute\", \"live\", \"quality\", \"like\", \"professional\", \"dry\", \"service\", \"definitely\", \"bar\", \"sauce\", \"seating\", \"people\", \"minutes\", \"place\", \"better\", \"vegas\", \"excellent\", \"best\", \"friendly\", \"went\", \"location\", \"staff\", \"think\", \"great\", \"don\", \"years\", \"ordered\", \"got\", \"experience\", \"time\", \"good\", \"little\", \"came\", \"delicious\", \"restaurant\", \"nice\", \"love\", \"amazing\", \"come\", \"\\u3068\\u3066\\u3082\\u6c17\\u306b\\u5165\\u308a\\u307e\\u3057\\u305f\", \"\\u63a2\\u3057\\u305f\\u304a\\u5e97\\u3067\\u3057\\u305f\", \"satified\", \"conchas\", \"livermush\", \"inly\", \"durian\", \"barro\", \"metros\", \"reared\", \"neil\", \"elaine\", \"greatful\", \"aims\", \"singapore\", \"prius\", \"beagle\", \"caliente\", \"synthetic\", \"roadside\", \"beause\", \"jumbo\", \"makeovers\", \"huckleberry\", \"solving\", \"coral\", \"ripple\", \"ev\", \"puzzle\", \"regale\", \"purolator\", \"carpaccio\", \"chicken\", \"pizza\", \"husband\", \"free\", \"kind\", \"fixed\", \"special\", \"try\", \"worth\", \"authentic\", \"roll\", \"choice\", \"tell\", \"plus\", \"night\", \"meat\", \"shrimp\", \"expensive\", \"day\", \"clean\", \"little\", \"fries\", \"lot\", \"great\", \"like\", \"place\", \"love\", \"good\", \"delicious\", \"fresh\", \"definitely\", \"friendly\", \"menu\", \"ordered\", \"price\", \"people\", \"said\", \"food\", \"told\", \"don\", \"order\", \"way\", \"ve\", \"time\", \"didn\", \"service\", \"got\", \"best\", \"restaurant\", \"went\", \"nice\"], \"Freq\": [3303.0, 4562.0, 4460.0, 1345.0, 4760.0, 1690.0, 3505.0, 3330.0, 1470.0, 1072.0, 906.0, 1442.0, 1507.0, 1338.0, 1402.0, 763.0, 1989.0, 715.0, 1168.0, 1397.0, 1860.0, 983.0, 1163.0, 801.0, 699.0, 1793.0, 669.0, 1175.0, 1117.0, 1195.0, 2.0150258541107178, 1.1832858324050903, 1.049975037574768, 1.6616042852401733, 1.0094060897827148, 1.0067392587661743, 0.5244466662406921, 0.5098127126693726, 0.9722482562065125, 1.894439458847046, 1.0727263689041138, 0.8826615214347839, 0.8811150789260864, 0.4466109275817871, 1.2080641984939575, 0.8289527893066406, 0.8268909454345703, 0.4220597743988037, 0.7863183617591858, 0.40844854712486267, 0.4009244740009308, 0.7647601962089539, 0.7590268850326538, 0.7490623593330383, 0.7440763711929321, 0.7238922119140625, 0.3788893520832062, 1.0257301330566406, 0.7160777449607849, 0.6751635670661926, 1.6189271211624146, 6.328397274017334, 4.477884769439697, 236.5176544189453, 13.232194900512695, 619.2088623046875, 169.38531494140625, 39.15205764770508, 8.832602500915527, 186.56785583496094, 186.87985229492188, 151.4273681640625, 132.96119689941406, 428.7904052734375, 115.77095794677734, 119.87352752685547, 78.04051971435547, 548.7968139648438, 91.73757934570312, 467.6558532714844, 149.18649291992188, 87.81788635253906, 85.54352569580078, 474.19140625, 61.588470458984375, 103.54602813720703, 74.39226531982422, 104.00860595703125, 186.98289489746094, 199.705322265625, 170.3644561767578, 158.81336975097656, 161.63995361328125, 123.77667236328125, 214.6847686767578, 171.9510040283203, 133.77420043945312, 186.00094604492188, 309.17657470703125, 165.67626953125, 140.003662109375, 150.49612426757812, 149.92784118652344, 151.19110107421875, 176.77452087402344, 246.8524169921875, 160.1217803955078, 144.3145751953125, 133.93104553222656, 1.1941485404968262, 1.0289604663848877, 0.9282058477401733, 0.803255021572113, 0.4379013180732727, 1.1828296184539795, 0.8007664084434509, 0.7833454012870789, 0.40532186627388, 0.7633897066116333, 0.39939990639686584, 0.3905734717845917, 0.37851232290267944, 0.7048990726470947, 0.368660569190979, 2.1375231742858887, 0.3622240126132965, 1.4546051025390625, 0.5070453882217407, 1.2529562711715698, 2.8274648189544678, 0.90125972032547, 2.2383499145507812, 0.6452481746673584, 1.6638094186782837, 0.33586785197257996, 0.9129058122634888, 0.33441290259361267, 0.9066766500473022, 0.4676703214645386, 0.7687313556671143, 1.8616671562194824, 1.1939706802368164, 23.166439056396484, 6.74569034576416, 3.567204475402832, 658.5978393554688, 1.9560853242874146, 685.9908447265625, 21.703630447387695, 135.30491638183594, 253.39834594726562, 3.7434096336364746, 50.43734359741211, 49.567893981933594, 64.35408782958984, 408.910888671875, 13.694283485412598, 47.303504943847656, 27.548734664916992, 110.70991516113281, 180.7069549560547, 107.6517105102539, 174.140869140625, 226.1852264404297, 169.06092834472656, 72.80398559570312, 208.4553985595703, 66.7281494140625, 362.855224609375, 471.3028869628906, 40.91354751586914, 101.70484161376953, 77.83448028564453, 144.06854248046875, 158.09677124023438, 128.80850219726562, 64.45067596435547, 83.79058837890625, 149.10643005371094, 111.98453521728516, 329.558349609375, 160.97589111328125, 370.8165283203125, 162.0860137939453, 152.5153045654297, 155.48753356933594, 165.83763122558594, 143.60853576660156, 188.20297241210938, 128.91360473632812, 145.15992736816406, 126.74052429199219, 141.81866455078125, 125.33360290527344, 0.6459200382232666, 1.0082646608352661, 0.5191957354545593, 1.1253629922866821, 1.6792463064193726, 0.3869316577911377, 1.8485825061798096, 0.8592502474784851, 0.5179875493049622, 1.298668622970581, 0.3480897843837738, 0.4840775728225708, 0.34208035469055176, 0.7890870571136475, 0.6503838300704956, 0.635174036026001, 1.2065736055374146, 0.46325719356536865, 1.7611430883407593, 1.192807912826538, 0.7592219114303589, 1.0560815334320068, 0.7566962838172913, 0.6210637092590332, 0.6200283169746399, 0.6172103881835938, 0.6119076609611511, 1.5828282833099365, 0.6054993867874146, 1.274993896484375, 2.5469985008239746, 161.2079620361328, 286.9891662597656, 76.62920379638672, 4.325267314910889, 232.2763671875, 48.02153778076172, 12.769726753234863, 466.13427734375, 21.166051864624023, 15.465770721435547, 146.7287139892578, 64.69645690917969, 48.73576736450195, 26.81672477722168, 45.67202377319336, 192.497314453125, 20.28235626220703, 11.617186546325684, 123.9343032836914, 154.66583251953125, 130.2428436279297, 89.20696258544922, 27.58781623840332, 57.488224029541016, 83.21643829345703, 86.61324310302734, 384.38226318359375, 442.8379821777344, 107.35591125488281, 95.83192443847656, 99.24760437011719, 446.6116943359375, 199.7567138671875, 435.3900451660156, 325.06781005859375, 162.94287109375, 426.982421875, 158.22427368164062, 144.18995666503906, 122.76861572265625, 145.74151611328125, 154.1347198486328, 148.90139770507812, 151.24803161621094, 123.49190521240234, 169.87918090820312, 123.70934295654297, 146.4453887939453, 145.80078125, 135.6240234375, 150.7314453125, 152.8943634033203, 127.59568786621094, 127.78390502929688, 0.7228822708129883, 11.93452262878418, 0.9546418190002441, 1.1338887214660645, 1.437477707862854, 0.8514239192008972, 0.8478407859802246, 0.8333562612533569, 0.8250901699066162, 0.9937113523483276, 0.8171209096908569, 0.7832146883010864, 0.40877920389175415, 0.773087203502655, 0.7680193185806274, 0.7683246731758118, 0.3961116373538971, 0.7016158699989319, 0.6905587315559387, 0.6479303240776062, 0.34923622012138367, 0.4898959994316101, 0.34286296367645264, 1.5912383794784546, 1.4816114902496338, 0.33217865228652954, 0.6340010166168213, 0.3308681547641754, 0.32869330048561096, 0.32686492800712585, 0.7564542293548584, 1.7248222827911377, 2.842763662338257, 58.50153350830078, 21.588125228881836, 703.5772705078125, 123.04597473144531, 63.7305908203125, 39.86385726928711, 27.445409774780273, 165.40977478027344, 119.5789794921875, 98.88959503173828, 101.05179595947266, 160.52584838867188, 148.53851318359375, 163.964599609375, 539.0620727539062, 113.3297119140625, 159.6883544921875, 148.12586975097656, 229.5839080810547, 81.09693908691406, 450.46795654296875, 52.17582321166992, 64.98455047607422, 80.99136352539062, 35.22690963745117, 360.80584716796875, 193.27020263671875, 341.12841796875, 456.5064392089844, 181.1439971923828, 135.2584991455078, 198.870849609375, 100.01388549804688, 182.22479248046875, 196.80181884765625, 157.97537231445312, 150.38351440429688, 143.83290100097656, 240.27259826660156, 138.531494140625, 135.06085205078125, 136.35797119140625, 132.06243896484375, 128.4369354248047, 127.35401916503906, 125.39273071289062, 0.7509344816207886, 1.0080256462097168, 0.7095382809638977, 0.9272334575653076, 0.45289790630340576, 1.1423734426498413, 0.7968082427978516, 0.7626556158065796, 1.5655314922332764, 1.255962610244751, 1.4093390703201294, 0.8875464200973511, 1.6020783185958862, 0.7004223465919495, 1.318894386291504, 0.3579145073890686, 1.2717128992080688, 2.541195869445801, 0.4793674945831299, 0.6494064331054688, 0.3378394544124603, 0.47522175312042236, 1.07563054561615, 0.6360772848129272, 0.3330479860305786, 1.448391318321228, 2.0394623279571533, 1.2012337446212769, 1.808354139328003, 0.895193874835968, 2.938045024871826, 538.2968139648438, 58.702674865722656, 1.5318745374679565, 40.589561462402344, 28.891292572021484, 47.514801025390625, 591.6403198242188, 118.57972717285156, 37.01073455810547, 71.0092544555664, 65.8298110961914, 129.02651977539062, 124.4669418334961, 72.11622619628906, 48.12717819213867, 81.99613189697266, 459.9443359375, 156.70594787597656, 71.76636505126953, 112.19595336914062, 492.34356689453125, 68.39031982421875, 99.970703125, 72.09920501708984, 91.06671905517578, 368.8248596191406, 61.587711334228516, 218.67823791503906, 90.84537506103516, 167.31752014160156, 80.28716278076172, 309.9400939941406, 153.4002685546875, 97.28374481201172, 152.12222290039062, 153.47561645507812, 143.05734252929688, 148.07427978515625, 121.20979309082031, 165.7123565673828, 157.5320587158203, 167.89759826660156, 115.2398452758789, 122.10807037353516, 121.91023254394531, 277.5777893066406, 134.3349151611328, 134.7666778564453, 120.07772064208984, 145.1116485595703, 137.0321807861328, 124.85697174072266, 125.24271392822266, 123.02547454833984, 122.41195678710938, 1.072223424911499, 0.8252695202827454, 1.4817860126495361, 0.7751316428184509, 0.7277272939682007, 0.7236796617507935, 0.36634561419487, 1.1810590028762817, 0.6528273224830627, 0.6864565014839172, 0.8262532353401184, 0.6755293011665344, 1.3869609832763672, 0.6704787611961365, 0.6576407551765442, 0.6539463996887207, 0.6470677256584167, 0.6391748189926147, 0.6333386301994324, 0.3263055086135864, 0.6193705201148987, 1.1468111276626587, 0.6175323724746704, 2.3831300735473633, 0.6133602857589722, 0.6114563941955566, 0.6085982322692871, 0.31643351912498474, 0.9923889636993408, 0.316109836101532, 0.7324174642562866, 2.0464420318603516, 119.39823150634766, 1.7617833614349365, 1.6283342838287354, 28.462905883789062, 222.5156707763672, 278.573486328125, 197.54664611816406, 10.775835037231445, 129.81785583496094, 93.69914245605469, 7.65988826751709, 39.72401428222656, 42.12580108642578, 185.6769256591797, 57.79841995239258, 83.61781311035156, 34.29667282104492, 26.47002410888672, 30.9190673828125, 26.04587745666504, 58.65790939331055, 489.2687072753906, 434.3527526855469, 149.54693603515625, 109.23126220703125, 127.69229888916016, 163.09597778320312, 39.90290451049805, 159.6436309814453, 133.2231903076172, 79.9482192993164, 62.73703384399414, 90.95079803466797, 166.77891540527344, 150.48126220703125, 111.56805419921875, 97.96450805664062, 153.85061645507812, 131.29698181152344, 312.3468322753906, 191.93621826171875, 129.7991180419922, 293.6424865722656, 384.4260559082031, 169.19338989257812, 339.94580078125, 168.2003936767578, 273.0875549316406, 119.4273681640625, 147.36114501953125, 157.661865234375, 138.5691375732422, 128.5388946533203, 128.64657592773438, 3.75333833694458, 1.1495637893676758, 0.4875026047229767, 0.4010521173477173, 0.7575797438621521, 0.9123127460479736, 0.3913116157054901, 0.5280014276504517, 0.6955083012580872, 0.3613421320915222, 1.5583605766296387, 0.3566965162754059, 1.2901999950408936, 0.3534538149833679, 1.2263668775558472, 0.34205174446105957, 0.6515868902206421, 5.2420501708984375, 0.921346127986908, 0.4749886691570282, 0.471497118473053, 0.6378912329673767, 1.4489039182662964, 0.906280517578125, 0.4630490839481354, 0.6274388432502747, 0.6263486742973328, 0.8919077515602112, 0.3264421820640564, 0.3260984718799591, 1.4743211269378662, 0.879657506942749, 1.006619930267334, 4.060859203338623, 2.214306116104126, 47.22929382324219, 5.6415815353393555, 60.2806510925293, 62.39543914794922, 442.298583984375, 52.32618713378906, 8.467942237854004, 58.84806823730469, 96.89189147949219, 197.79608154296875, 114.2160415649414, 185.38026428222656, 383.55914306640625, 141.99798583984375, 210.48699951171875, 118.8106689453125, 117.11038970947266, 510.40826416015625, 122.16136169433594, 24.11606216430664, 77.7157211303711, 170.14971923828125, 428.40777587890625, 138.13348388671875, 70.0638427734375, 200.906005859375, 48.90802764892578, 46.728179931640625, 205.6732177734375, 404.2977600097656, 151.72760009765625, 156.81541442871094, 90.1065444946289, 93.42102813720703, 139.74609375, 335.6268310546875, 96.66912078857422, 114.18627166748047, 132.1198272705078, 121.18867492675781, 234.38052368164062, 159.87619018554688, 110.92719268798828, 118.37847137451172, 123.40982818603516, 123.75428009033203, 120.24664306640625, 121.40545654296875, 117.32203674316406, 1.2984539270401, 1.2881922721862793, 0.5516777634620667, 0.5023201704025269, 0.8596004247665405, 0.9983090162277222, 1.9115346670150757, 0.8107566237449646, 0.41953837871551514, 0.5734961032867432, 0.7738707661628723, 0.7615907192230225, 1.2181752920150757, 0.35784128308296204, 0.6706070899963379, 0.6694305539131165, 2.1579325199127197, 0.6617320775985718, 0.9336578249931335, 0.6530610918998718, 0.6521268486976624, 1.514963150024414, 1.2338836193084717, 0.6470795273780823, 0.642553985118866, 0.7356058955192566, 1.4681669473648071, 1.1976659297943115, 1.062442660331726, 0.6229997873306274, 1.574068307876587, 1.9718400239944458, 94.01811981201172, 72.30780792236328, 53.82365417480469, 81.29629516601562, 3.386009931564331, 55.95890426635742, 55.0229606628418, 210.18972778320312, 182.1051483154297, 62.09158706665039, 32.326072692871094, 149.50413513183594, 378.4657897949219, 374.04443359375, 50.9754753112793, 79.14301300048828, 177.49072265625, 82.3666763305664, 164.45761108398438, 157.23941040039062, 93.2400894165039, 77.35088348388672, 67.4772720336914, 353.76025390625, 214.366455078125, 102.30974578857422, 110.37796020507812, 142.16018676757812, 164.51895141601562, 63.30012512207031, 143.7039031982422, 398.35906982421875, 130.25341796875, 351.5495910644531, 389.17437744140625, 142.21749877929688, 179.3036346435547, 144.56504821777344, 335.66961669921875, 141.486328125, 125.68807220458984, 138.41680908203125, 159.3814239501953, 136.98887634277344, 131.67494201660156, 148.86538696289062, 115.42945861816406, 122.22332763671875, 117.58901977539062, 1.0190389156341553, 1.2034534215927124, 0.924294114112854, 0.9452981948852539, 0.7326619029045105, 0.3830687403678894, 1.4585530757904053, 0.3693464696407318, 1.0010210275650024, 0.9657601714134216, 0.34844231605529785, 0.6589279770851135, 0.6565518975257874, 1.5270205736160278, 0.6512129306793213, 0.337409108877182, 2.0720653533935547, 0.3281419277191162, 0.4609519839286804, 1.157716155052185, 1.0510855913162231, 0.4560582935810089, 0.3232962489128113, 0.45411866903305054, 1.4575165510177612, 0.4482707977294922, 0.44500964879989624, 0.44435518980026245, 0.5948538184165955, 0.5934268236160278, 0.8454175591468811, 1.119902491569519, 5.013242244720459, 75.76921844482422, 29.306842803955078, 108.0966796875, 12.169745445251465, 29.084758758544922, 80.22318267822266, 55.02708053588867, 225.1107635498047, 30.992982864379883, 520.9884643554688, 135.60813903808594, 92.88005828857422, 159.04855346679688, 27.382761001586914, 37.75333023071289, 80.37725067138672, 344.35797119140625, 44.570411682128906, 34.413185119628906, 354.1152648925781, 153.57357788085938, 112.27740478515625, 91.7421875, 30.31109046936035, 147.7561798095703, 99.22509765625, 407.609375, 121.16577911376953, 98.38627624511719, 75.51805114746094, 173.8683624267578, 138.57968139648438, 146.33985900878906, 94.27690124511719, 148.8917694091797, 93.10832214355469, 330.4355163574219, 166.10496520996094, 72.77035522460938, 137.11167907714844, 166.5933380126953, 118.98545837402344, 224.8826446533203, 263.59979248046875, 126.48149108886719, 127.46092224121094, 110.31239318847656, 115.0924301147461, 126.34738159179688, 122.31885528564453, 110.4706039428711, 109.39119720458984, 0.6113228797912598, 0.5858054757118225, 0.6881193518638611, 0.9098773002624512, 0.8643830418586731, 0.43375658988952637, 0.6979169845581055, 0.7226464152336121, 0.7179966568946838, 0.5265169143676758, 0.37056151032447815, 0.519608199596405, 0.36721178889274597, 0.6801284551620483, 1.5900431871414185, 0.8099289536476135, 0.3477320373058319, 1.1118820905685425, 0.7902344465255737, 1.0596251487731934, 0.6455441117286682, 2.9318482875823975, 0.6307018995285034, 0.7634759545326233, 1.029608964920044, 1.0252368450164795, 1.0512789487838745, 0.7493568062782288, 0.7477439641952515, 0.3192836344242096, 0.7368433475494385, 1.880229115486145, 231.510986328125, 118.64288330078125, 65.35821533203125, 81.09548950195312, 66.3006591796875, 17.393590927124023, 64.4939193725586, 178.83160400390625, 84.75263214111328, 25.54302215576172, 38.449806213378906, 34.033721923828125, 55.12660598754883, 36.64336395263672, 115.97827911376953, 73.15375518798828, 46.6927490234375, 31.310537338256836, 138.44998168945312, 87.02552032470703, 157.4476776123047, 72.6681137084961, 94.38595581054688, 394.8595886230469, 325.9954833984375, 424.4621887207031, 171.35154724121094, 407.0826721191406, 134.2118377685547, 105.96905517578125, 149.59458923339844, 143.08436584472656, 130.10025024414062, 153.80615234375, 99.2901840209961, 142.40603637695312, 122.17472076416016, 344.4422912597656, 102.19529724121094, 160.1332550048828, 137.5269317626953, 112.00675964355469, 156.6587371826172, 213.7606201171875, 131.58937072753906, 209.85061645507812, 153.13233947753906, 142.0894317626953, 120.08413696289062, 118.66889190673828, 120.29864501953125], \"Total\": [3303.0, 4562.0, 4460.0, 1345.0, 4760.0, 1690.0, 3505.0, 3330.0, 1470.0, 1072.0, 906.0, 1442.0, 1507.0, 1338.0, 1402.0, 763.0, 1989.0, 715.0, 1168.0, 1397.0, 1860.0, 983.0, 1163.0, 801.0, 699.0, 1793.0, 669.0, 1175.0, 1117.0, 1195.0, 5.228021621704102, 3.092100143432617, 3.0913617610931396, 5.076418399810791, 3.0929808616638184, 3.09335994720459, 1.618378758430481, 1.6183080673217773, 3.0922484397888184, 6.394556045532227, 3.756687879562378, 3.0926146507263184, 3.091495990753174, 1.6189790964126587, 4.410781383514404, 3.09061336517334, 3.092733860015869, 1.6186277866363525, 3.0907106399536133, 1.619201421737671, 1.6196733713150024, 3.0955915451049805, 3.091648578643799, 3.0917115211486816, 3.092531681060791, 3.090683937072754, 1.619201898574829, 4.415699481964111, 3.0943727493286133, 2.938842296600342, 7.2034807205200195, 30.41329002380371, 21.2073917388916, 1442.44482421875, 68.9421615600586, 4562.38330078125, 1123.1771240234375, 233.00674438476562, 45.55415344238281, 1313.1295166015625, 1338.302490234375, 1072.40478515625, 941.2225341796875, 3505.473876953125, 809.14892578125, 842.0029907226562, 524.5181884765625, 4760.05908203125, 639.6221923828125, 4131.32763671875, 1119.2808837890625, 614.2744750976562, 598.1781005859375, 4460.69921875, 416.5837097167969, 779.4359741210938, 528.7350463867188, 790.55078125, 1589.7540283203125, 1752.525146484375, 1450.4501953125, 1333.5467529296875, 1383.2310791015625, 996.523193359375, 1989.60107421875, 1507.5440673828125, 1107.6973876953125, 1690.30224609375, 3303.501953125, 1488.4796142578125, 1195.6815185546875, 1345.68359375, 1397.1630859375, 1433.793212890625, 1860.419921875, 3330.56884765625, 1793.3675537109375, 1470.2498779296875, 1195.01220703125, 3.0999248027801514, 3.093848705291748, 3.0965213775634766, 2.94075083732605, 1.619201898574829, 4.416676044464111, 3.09335994720459, 3.0951614379882812, 1.6206847429275513, 3.0956575870513916, 1.6201006174087524, 1.620357632637024, 1.6211628913879395, 3.0924317836761475, 1.6206227540969849, 9.505792617797852, 1.6213229894638062, 6.547521114349365, 2.2825825214385986, 5.73998498916626, 13.147936820983887, 4.261009216308594, 10.663495063781738, 3.0954670906066895, 8.022350311279297, 1.621093988418579, 4.418066501617432, 1.619989037513733, 4.417053699493408, 2.281346559524536, 3.755094051361084, 9.190465927124023, 5.887909412384033, 122.22674560546875, 34.73823928833008, 18.252103805541992, 4460.69921875, 9.839431762695312, 4760.05908203125, 123.95445251464844, 879.621337890625, 1793.3675537109375, 19.555152893066406, 325.45220947265625, 322.1361389160156, 429.38861083984375, 3303.501953125, 80.33119201660156, 317.8905334472656, 174.7140350341797, 827.737060546875, 1433.793212890625, 805.4520874023438, 1383.2310791015625, 1860.419921875, 1374.6942138671875, 529.6903076171875, 1752.525146484375, 481.34991455078125, 3330.56884765625, 4562.38330078125, 277.9151306152344, 796.64599609375, 584.3265380859375, 1195.6815185546875, 1338.302490234375, 1056.66259765625, 469.8017578125, 646.5343627929688, 1313.1295166015625, 924.182373046875, 3505.473876953125, 1450.4501953125, 4131.32763671875, 1488.4796142578125, 1403.7918701171875, 1442.44482421875, 1589.7540283203125, 1333.5467529296875, 1989.60107421875, 1175.860107421875, 1402.362548828125, 1163.41552734375, 1507.5440673828125, 1195.01220703125, 1.6176224946975708, 3.088474750518799, 1.617810845375061, 3.75205397605896, 6.547370433807373, 1.618617296218872, 8.022350311279297, 3.751490831375122, 2.279463052749634, 5.726559638977051, 1.6173588037490845, 2.279237747192383, 1.6187033653259277, 3.7494823932647705, 3.092132091522217, 3.0957281589508057, 5.884507656097412, 2.279365301132202, 8.678642272949219, 5.889873027801514, 3.751537799835205, 5.230648517608643, 3.7539665699005127, 3.0928845405578613, 3.0914909839630127, 3.0930652618408203, 3.0935635566711426, 8.02597427368164, 3.093465805053711, 6.547234058380127, 13.136765480041504, 906.1661987304688, 1690.30224609375, 437.99688720703125, 22.996862411499023, 1507.5440673828125, 287.78082275390625, 72.87667846679688, 3303.501953125, 124.98632049560547, 89.58485412597656, 996.523193359375, 429.7908630371094, 317.03765869140625, 167.71868896484375, 297.738525390625, 1402.362548828125, 126.07084655761719, 68.84991455078125, 908.133056640625, 1175.860107421875, 983.689697265625, 656.0902099609375, 179.26730346679688, 405.9001159667969, 614.2744750976562, 643.60107421875, 3505.473876953125, 4131.32763671875, 831.8742065429688, 740.0164794921875, 775.0653076171875, 4460.69921875, 1793.3675537109375, 4562.38330078125, 3330.56884765625, 1470.2498779296875, 4760.05908203125, 1442.44482421875, 1313.1295166015625, 1072.40478515625, 1345.68359375, 1450.4501953125, 1397.1630859375, 1433.793212890625, 1107.6973876953125, 1860.419921875, 1123.1771240234375, 1488.4796142578125, 1589.7540283203125, 1383.2310791015625, 1752.525146484375, 1989.60107421875, 1374.6942138671875, 1403.7918701171875, 1.620770812034607, 30.68073081970215, 3.0930652618408203, 3.752187967300415, 5.075730323791504, 3.0907106399536133, 3.090562582015991, 3.090986490249634, 3.08921480178833, 3.751490831375122, 3.0936076641082764, 3.0899670124053955, 1.620164394378662, 3.0907652378082275, 3.0909671783447266, 3.0938658714294434, 1.6193864345550537, 3.0935235023498535, 3.089566230773926, 2.93975567817688, 1.6204321384429932, 2.279780626296997, 1.618492603302002, 7.715112209320068, 7.20491361618042, 1.6206327676773071, 3.0937342643737793, 1.620743751525879, 1.6207813024520874, 1.619341492652893, 3.756971597671509, 8.678642272949219, 14.462056159973145, 327.568115234375, 117.3628158569336, 4562.38330078125, 796.64599609375, 401.97930908203125, 248.02017211914062, 166.55484008789062, 1168.046875, 831.8742065429688, 677.1873168945312, 699.376220703125, 1163.41552734375, 1072.40478515625, 1195.6815185546875, 4460.69921875, 805.4520874023438, 1195.01220703125, 1117.661865234375, 1860.419921875, 574.3202514648438, 4131.32763671875, 352.09613037109375, 460.673583984375, 601.7350463867188, 229.6632537841797, 3505.473876953125, 1690.30224609375, 3330.56884765625, 4760.05908203125, 1589.7540283203125, 1119.2808837890625, 1793.3675537109375, 790.55078125, 1752.525146484375, 1989.60107421875, 1507.5440673828125, 1470.2498779296875, 1403.7918701171875, 3303.501953125, 1402.362548828125, 1345.68359375, 1433.793212890625, 1333.5467529296875, 1251.2451171875, 1488.4796142578125, 1450.4501953125, 1.619990587234497, 3.0920379161834717, 2.278578281402588, 3.087581157684326, 1.619288682937622, 4.411398410797119, 3.0902509689331055, 3.090686798095703, 6.390095233917236, 5.228404521942139, 5.885685920715332, 3.7554378509521484, 7.0555315017700195, 3.0917985439300537, 5.887909412384033, 1.6191071271896362, 5.888269901275635, 11.82992172241211, 2.279188632965088, 3.094555616378784, 1.6194274425506592, 2.2792484760284424, 5.224565505981445, 3.0926320552825928, 1.619895339012146, 7.048596382141113, 9.995604515075684, 5.891886234283447, 8.881888389587402, 4.411489009857178, 14.917901992797852, 3303.501953125, 343.2408142089844, 7.716017246246338, 240.3062744140625, 173.13595581054688, 297.738525390625, 4460.69921875, 801.4560546875, 233.00674438476562, 470.04779052734375, 442.1529541015625, 941.4436645507812, 921.699462890625, 503.5360107421875, 325.4553527832031, 599.1497802734375, 4131.32763671875, 1251.2451171875, 523.5682983398438, 873.8871459960938, 4760.05908203125, 499.90826416015625, 775.0653076171875, 532.6107788085938, 699.376220703125, 3505.473876953125, 447.76123046875, 1989.60107421875, 709.5692749023438, 1488.4796142578125, 616.8961181640625, 3330.56884765625, 1383.2310791015625, 786.8411254882812, 1403.7918701171875, 1433.793212890625, 1333.5467529296875, 1397.1630859375, 1072.40478515625, 1690.30224609375, 1589.7540283203125, 1752.525146484375, 1022.3018188476562, 1119.2808837890625, 1123.1771240234375, 4562.38330078125, 1402.362548828125, 1442.44482421875, 1168.046875, 1860.419921875, 1793.3675537109375, 1345.68359375, 1450.4501953125, 1338.302490234375, 1374.6942138671875, 3.756761312484741, 3.0937278270721436, 5.898764610290527, 3.0939316749572754, 3.094543933868408, 3.0986053943634033, 1.6205724477767944, 5.2303972244262695, 2.9413020610809326, 3.0943331718444824, 3.7602620124816895, 3.0956757068634033, 6.39838981628418, 3.0961246490478516, 3.095634698867798, 3.091495990753174, 3.0975914001464844, 3.0971975326538086, 3.0951597690582275, 1.6210064888000488, 3.0954537391662598, 5.736579895019531, 3.095792293548584, 11.995928764343262, 3.098208427429199, 3.0964128971099854, 3.0992751121520996, 1.621341586112976, 5.0854339599609375, 1.6203911304473877, 3.7596004009246826, 10.66672134399414, 669.9196166992188, 9.19647216796875, 8.534564018249512, 168.64300537109375, 1470.2498779296875, 1989.60107421875, 1403.7918701171875, 63.79874038696289, 908.133056640625, 658.3356323242188, 44.61609649658203, 263.3648986816406, 285.13128662109375, 1442.44482421875, 406.79058837890625, 614.6589965820312, 231.36331176757812, 175.1732635498047, 209.70211791992188, 174.45751953125, 430.017333984375, 4562.38330078125, 4131.32763671875, 1251.2451171875, 879.7149658203125, 1056.66259765625, 1397.1630859375, 284.3126525878906, 1374.6942138671875, 1123.1771240234375, 628.6910400390625, 481.134033203125, 741.0262451171875, 1507.5440673828125, 1338.302490234375, 941.2225341796875, 809.14892578125, 1402.362548828125, 1163.41552734375, 3330.56884765625, 1860.419921875, 1168.046875, 3303.501953125, 4760.05908203125, 1690.30224609375, 4460.69921875, 1752.525146484375, 3505.473876953125, 1107.6973876953125, 1589.7540283203125, 1793.3675537109375, 1433.793212890625, 1313.1295166015625, 1450.4501953125, 11.490151405334473, 3.758687973022461, 1.617782711982727, 1.620943546295166, 3.0977115631103516, 3.753425121307373, 1.620733618736267, 2.278398275375366, 3.0938801765441895, 1.6212183237075806, 7.050633430480957, 1.6214702129364014, 5.885680675506592, 1.621091365814209, 5.731768608093262, 1.6196085214614868, 3.0917820930480957, 25.04654312133789, 4.415562629699707, 2.282287120819092, 2.2793631553649902, 3.0922484397888184, 7.050129413604736, 4.416526794433594, 2.2785773277282715, 3.092299222946167, 3.0935394763946533, 4.414930820465088, 1.620123028755188, 1.621663212776184, 7.370739936828613, 4.416607856750488, 5.073967456817627, 21.53850746154785, 11.476030349731445, 289.89080810546875, 31.101512908935547, 389.9608154296875, 405.9571838378906, 3505.473876953125, 362.7308044433594, 50.363311767578125, 417.2344665527344, 724.966064453125, 1589.7540283203125, 873.8871459960938, 1488.4796142578125, 3330.56884765625, 1117.661865234375, 1752.525146484375, 930.983154296875, 924.182373046875, 4760.05908203125, 983.689697265625, 159.7130889892578, 599.1497802734375, 1450.4501953125, 4131.32763671875, 1163.41552734375, 540.4896240234375, 1793.3675537109375, 364.1645812988281, 350.20135498046875, 1989.60107421875, 4460.69921875, 1403.7918701171875, 1470.2498779296875, 758.3237915039062, 801.4560546875, 1374.6942138671875, 4562.38330078125, 842.0029907226562, 1072.40478515625, 1333.5467529296875, 1195.01220703125, 3303.501953125, 1860.419921875, 1056.66259765625, 1175.860107421875, 1383.2310791015625, 1442.44482421875, 1433.793212890625, 1690.30224609375, 1397.1630859375, 3.75266695022583, 3.74959135055542, 1.6181169748306274, 1.6203747987747192, 3.092984199523926, 3.7512753009796143, 7.199428081512451, 3.0937278270721436, 1.620365023612976, 2.2788424491882324, 3.0926778316497803, 3.0936121940612793, 5.230787754058838, 1.6196526288986206, 3.093441963195801, 3.0965538024902344, 10.00829029083252, 3.094214916229248, 4.410332202911377, 3.0957748889923096, 3.09511661529541, 7.209201335906982, 5.891077518463135, 3.0959722995758057, 3.094123125076294, 3.5967679023742676, 7.2085137367248535, 5.884507656097412, 5.228399276733398, 3.0954670906066895, 7.870904922485352, 10.152070999145508, 605.1296997070312, 458.3407287597656, 354.0224609375, 574.3202514648438, 18.233184814453125, 387.0082092285156, 382.3637390136719, 1690.30224609375, 1450.4501953125, 445.2170104980469, 217.3892822265625, 1175.860107421875, 3330.56884765625, 3303.501953125, 362.77349853515625, 596.1878662109375, 1470.2498779296875, 628.6910400390625, 1397.1630859375, 1333.5467529296875, 740.0164794921875, 599.1497802734375, 517.4109497070312, 3505.473876953125, 1989.60107421875, 844.0958251953125, 924.182373046875, 1251.2451171875, 1507.5440673828125, 485.25726318359375, 1313.1295166015625, 4562.38330078125, 1168.046875, 4131.32763671875, 4760.05908203125, 1338.302490234375, 1860.419921875, 1402.362548828125, 4460.69921875, 1383.2310791015625, 1195.01220703125, 1403.7918701171875, 1793.3675537109375, 1433.793212890625, 1374.6942138671875, 1752.525146484375, 1195.6815185546875, 1488.4796142578125, 1442.44482421875, 3.093794107437134, 3.7570552825927734, 3.0917985439300537, 3.752680778503418, 3.0904502868652344, 1.6203721761703491, 6.234726905822754, 1.6197004318237305, 4.414930820465088, 4.4092936515808105, 1.6197975873947144, 3.0959630012512207, 3.0943522453308105, 7.2170090675354, 3.0958995819091797, 1.6199535131454468, 10.152070999145508, 1.620702862739563, 2.2809503078460693, 5.734373569488525, 5.232378005981445, 2.2815799713134766, 1.6199933290481567, 2.2791244983673096, 7.367183208465576, 2.279452323913574, 2.2802915573120117, 2.280287027359009, 3.096665620803833, 3.0969228744506836, 4.416382312774658, 5.889853000640869, 28.145248413085938, 481.134033203125, 181.0615234375, 715.5050659179688, 72.27153015136719, 187.82943725585938, 597.664794921875, 397.04962158203125, 1860.419921875, 217.68865966796875, 4760.05908203125, 1107.6973876953125, 740.0164794921875, 1345.68359375, 194.43875122070312, 277.8489990234375, 646.5343627929688, 3330.56884765625, 338.32647705078125, 253.20960998535156, 3505.473876953125, 1397.1630859375, 983.689697265625, 790.55078125, 221.7308807373047, 1383.2310791015625, 879.621337890625, 4562.38330078125, 1117.661865234375, 879.7149658203125, 643.60107421875, 1752.525146484375, 1338.302490234375, 1433.793212890625, 842.0029907226562, 1507.5440673828125, 844.0958251953125, 4131.32763671875, 1793.3675537109375, 624.3318481445312, 1488.4796142578125, 1989.60107421875, 1251.2451171875, 3303.501953125, 4460.69921875, 1374.6942138671875, 1442.44482421875, 1195.6815185546875, 1333.5467529296875, 1690.30224609375, 1589.7540283203125, 1313.1295166015625, 1403.7918701171875, 1.6224186420440674, 1.6220552921295166, 2.283498764038086, 3.0962717533111572, 3.0993762016296387, 1.621450424194336, 2.9437613487243652, 3.096388816833496, 3.0982697010040283, 2.2830429077148438, 1.6220682859420776, 2.2813310623168945, 1.6216765642166138, 3.0963311195373535, 7.3719706535339355, 3.758841037750244, 1.6216977834701538, 5.2347092628479, 3.759199619293213, 5.07757043838501, 3.097862482070923, 14.327771186828613, 3.0959177017211914, 3.758619785308838, 5.077988624572754, 5.077252388000488, 5.237389087677002, 3.7539665699005127, 3.7611870765686035, 1.6206988096237183, 3.7602620124816895, 9.703166961669922, 1345.68359375, 763.0532836914062, 410.20355224609375, 568.726318359375, 459.0105895996094, 109.51654815673828, 455.7789001464844, 1402.362548828125, 623.1605224609375, 169.64303588867188, 268.4139404296875, 234.79318237304688, 401.2711486816406, 255.54635620117188, 941.4436645507812, 563.608642578125, 341.49560546875, 219.52391052246094, 1168.046875, 699.376220703125, 1374.6942138671875, 574.893798828125, 774.8299560546875, 4131.32763671875, 3330.56884765625, 4562.38330078125, 1589.7540283203125, 4460.69921875, 1195.6815185546875, 906.1661987304688, 1397.1630859375, 1338.302490234375, 1195.01220703125, 1488.4796142578125, 873.8871459960938, 1383.2310791015625, 1163.41552734375, 4760.05908203125, 930.983154296875, 1793.3675537109375, 1450.4501953125, 1072.40478515625, 1860.419921875, 3303.501953125, 1470.2498779296875, 3505.473876953125, 1989.60107421875, 1752.525146484375, 1333.5467529296875, 1433.793212890625, 1690.30224609375], \"Category\": [\"Default\", \"Default\", \"Default\", \"Default\", \"Default\", \"Default\", \"Default\", \"Default\", \"Default\", \"Default\", \"Default\", \"Default\", \"Default\", \"Default\", \"Default\", \"Default\", \"Default\", \"Default\", \"Default\", \"Default\", \"Default\", \"Default\", \"Default\", \"Default\", \"Default\", \"Default\", \"Default\", \"Default\", \"Default\", \"Default\", \"Topic1\", \"Topic1\", \"Topic1\", \"Topic1\", \"Topic1\", \"Topic1\", \"Topic1\", \"Topic1\", \"Topic1\", \"Topic1\", \"Topic1\", \"Topic1\", \"Topic1\", \"Topic1\", \"Topic1\", \"Topic1\", \"Topic1\", \"Topic1\", \"Topic1\", \"Topic1\", \"Topic1\", \"Topic1\", \"Topic1\", \"Topic1\", \"Topic1\", \"Topic1\", \"Topic1\", \"Topic1\", \"Topic1\", \"Topic1\", \"Topic1\", \"Topic1\", \"Topic1\", \"Topic1\", \"Topic1\", \"Topic1\", \"Topic1\", \"Topic1\", \"Topic1\", \"Topic1\", \"Topic1\", \"Topic1\", \"Topic1\", \"Topic1\", \"Topic1\", \"Topic1\", \"Topic1\", \"Topic1\", \"Topic1\", \"Topic1\", \"Topic1\", \"Topic1\", \"Topic1\", \"Topic1\", \"Topic1\", \"Topic1\", \"Topic1\", \"Topic1\", \"Topic1\", \"Topic1\", \"Topic1\", \"Topic1\", \"Topic1\", \"Topic1\", \"Topic1\", \"Topic1\", \"Topic1\", \"Topic1\", \"Topic1\", \"Topic1\", \"Topic1\", \"Topic1\", \"Topic1\", \"Topic1\", \"Topic1\", \"Topic1\", \"Topic1\", \"Topic1\", \"Topic1\", \"Topic2\", \"Topic2\", \"Topic2\", \"Topic2\", \"Topic2\", \"Topic2\", \"Topic2\", \"Topic2\", \"Topic2\", \"Topic2\", \"Topic2\", \"Topic2\", \"Topic2\", \"Topic2\", \"Topic2\", \"Topic2\", \"Topic2\", \"Topic2\", \"Topic2\", \"Topic2\", \"Topic2\", \"Topic2\", \"Topic2\", \"Topic2\", \"Topic2\", \"Topic2\", \"Topic2\", \"Topic2\", \"Topic2\", \"Topic2\", \"Topic2\", \"Topic2\", \"Topic2\", \"Topic2\", \"Topic2\", \"Topic2\", \"Topic2\", \"Topic2\", \"Topic2\", \"Topic2\", \"Topic2\", \"Topic2\", \"Topic2\", \"Topic2\", \"Topic2\", \"Topic2\", \"Topic2\", \"Topic2\", \"Topic2\", \"Topic2\", \"Topic2\", \"Topic2\", \"Topic2\", \"Topic2\", \"Topic2\", \"Topic2\", \"Topic2\", \"Topic2\", \"Topic2\", \"Topic2\", \"Topic2\", \"Topic2\", \"Topic2\", \"Topic2\", \"Topic2\", \"Topic2\", \"Topic2\", \"Topic2\", \"Topic2\", \"Topic2\", \"Topic2\", \"Topic2\", \"Topic2\", \"Topic2\", \"Topic2\", \"Topic2\", \"Topic2\", \"Topic2\", \"Topic2\", \"Topic2\", \"Topic2\", \"Topic2\", \"Topic2\", \"Topic2\", \"Topic2\", \"Topic3\", \"Topic3\", \"Topic3\", \"Topic3\", \"Topic3\", \"Topic3\", \"Topic3\", \"Topic3\", \"Topic3\", \"Topic3\", \"Topic3\", \"Topic3\", \"Topic3\", \"Topic3\", \"Topic3\", \"Topic3\", \"Topic3\", \"Topic3\", \"Topic3\", \"Topic3\", \"Topic3\", \"Topic3\", \"Topic3\", \"Topic3\", \"Topic3\", \"Topic3\", \"Topic3\", \"Topic3\", \"Topic3\", \"Topic3\", \"Topic3\", \"Topic3\", \"Topic3\", \"Topic3\", \"Topic3\", \"Topic3\", \"Topic3\", \"Topic3\", \"Topic3\", \"Topic3\", \"Topic3\", \"Topic3\", \"Topic3\", \"Topic3\", \"Topic3\", \"Topic3\", \"Topic3\", \"Topic3\", \"Topic3\", \"Topic3\", \"Topic3\", \"Topic3\", \"Topic3\", \"Topic3\", \"Topic3\", \"Topic3\", \"Topic3\", \"Topic3\", \"Topic3\", \"Topic3\", \"Topic3\", \"Topic3\", \"Topic3\", \"Topic3\", \"Topic3\", \"Topic3\", \"Topic3\", \"Topic3\", \"Topic3\", \"Topic3\", \"Topic3\", \"Topic3\", \"Topic3\", \"Topic3\", \"Topic3\", \"Topic3\", \"Topic3\", \"Topic3\", \"Topic3\", \"Topic3\", \"Topic3\", \"Topic3\", \"Topic3\", \"Topic3\", \"Topic3\", \"Topic4\", \"Topic4\", \"Topic4\", \"Topic4\", \"Topic4\", \"Topic4\", \"Topic4\", \"Topic4\", \"Topic4\", \"Topic4\", \"Topic4\", \"Topic4\", \"Topic4\", \"Topic4\", \"Topic4\", \"Topic4\", \"Topic4\", \"Topic4\", \"Topic4\", \"Topic4\", \"Topic4\", \"Topic4\", \"Topic4\", \"Topic4\", \"Topic4\", \"Topic4\", \"Topic4\", \"Topic4\", \"Topic4\", \"Topic4\", \"Topic4\", \"Topic4\", \"Topic4\", \"Topic4\", \"Topic4\", \"Topic4\", \"Topic4\", \"Topic4\", \"Topic4\", \"Topic4\", \"Topic4\", \"Topic4\", \"Topic4\", \"Topic4\", \"Topic4\", \"Topic4\", \"Topic4\", \"Topic4\", \"Topic4\", \"Topic4\", \"Topic4\", \"Topic4\", \"Topic4\", \"Topic4\", \"Topic4\", \"Topic4\", \"Topic4\", \"Topic4\", \"Topic4\", \"Topic4\", \"Topic4\", \"Topic4\", \"Topic4\", \"Topic4\", \"Topic4\", \"Topic4\", \"Topic4\", \"Topic4\", \"Topic4\", \"Topic4\", \"Topic4\", \"Topic4\", \"Topic4\", \"Topic4\", \"Topic4\", \"Topic4\", \"Topic4\", \"Topic4\", \"Topic4\", \"Topic5\", \"Topic5\", \"Topic5\", \"Topic5\", \"Topic5\", \"Topic5\", \"Topic5\", \"Topic5\", \"Topic5\", \"Topic5\", \"Topic5\", \"Topic5\", \"Topic5\", \"Topic5\", \"Topic5\", \"Topic5\", \"Topic5\", \"Topic5\", \"Topic5\", \"Topic5\", \"Topic5\", \"Topic5\", \"Topic5\", \"Topic5\", \"Topic5\", \"Topic5\", \"Topic5\", \"Topic5\", \"Topic5\", \"Topic5\", \"Topic5\", \"Topic5\", \"Topic5\", \"Topic5\", \"Topic5\", \"Topic5\", \"Topic5\", \"Topic5\", \"Topic5\", \"Topic5\", \"Topic5\", \"Topic5\", \"Topic5\", \"Topic5\", \"Topic5\", \"Topic5\", \"Topic5\", \"Topic5\", \"Topic5\", \"Topic5\", \"Topic5\", \"Topic5\", \"Topic5\", \"Topic5\", \"Topic5\", \"Topic5\", \"Topic5\", \"Topic5\", \"Topic5\", \"Topic5\", \"Topic5\", \"Topic5\", \"Topic5\", \"Topic5\", \"Topic5\", \"Topic5\", \"Topic5\", \"Topic5\", \"Topic5\", \"Topic5\", \"Topic5\", \"Topic5\", \"Topic5\", \"Topic5\", \"Topic5\", \"Topic5\", \"Topic5\", \"Topic5\", \"Topic5\", \"Topic5\", \"Topic5\", \"Topic5\", \"Topic5\", \"Topic5\", \"Topic5\", \"Topic5\", \"Topic6\", \"Topic6\", \"Topic6\", \"Topic6\", \"Topic6\", \"Topic6\", \"Topic6\", \"Topic6\", \"Topic6\", \"Topic6\", \"Topic6\", \"Topic6\", \"Topic6\", \"Topic6\", \"Topic6\", \"Topic6\", \"Topic6\", \"Topic6\", \"Topic6\", \"Topic6\", \"Topic6\", \"Topic6\", \"Topic6\", \"Topic6\", \"Topic6\", \"Topic6\", \"Topic6\", \"Topic6\", \"Topic6\", \"Topic6\", \"Topic6\", \"Topic6\", \"Topic6\", \"Topic6\", \"Topic6\", \"Topic6\", \"Topic6\", \"Topic6\", \"Topic6\", \"Topic6\", \"Topic6\", \"Topic6\", \"Topic6\", \"Topic6\", \"Topic6\", \"Topic6\", \"Topic6\", \"Topic6\", \"Topic6\", \"Topic6\", \"Topic6\", \"Topic6\", \"Topic6\", \"Topic6\", \"Topic6\", \"Topic6\", \"Topic6\", \"Topic6\", \"Topic6\", \"Topic6\", \"Topic6\", \"Topic6\", \"Topic6\", \"Topic6\", \"Topic6\", \"Topic6\", \"Topic6\", \"Topic6\", \"Topic6\", \"Topic6\", \"Topic6\", \"Topic6\", \"Topic6\", \"Topic6\", \"Topic6\", \"Topic6\", \"Topic6\", \"Topic6\", \"Topic6\", \"Topic6\", \"Topic6\", \"Topic6\", \"Topic6\", \"Topic6\", \"Topic6\", \"Topic6\", \"Topic7\", \"Topic7\", \"Topic7\", \"Topic7\", \"Topic7\", \"Topic7\", \"Topic7\", \"Topic7\", \"Topic7\", \"Topic7\", \"Topic7\", \"Topic7\", \"Topic7\", \"Topic7\", \"Topic7\", \"Topic7\", \"Topic7\", \"Topic7\", \"Topic7\", \"Topic7\", \"Topic7\", \"Topic7\", \"Topic7\", \"Topic7\", \"Topic7\", \"Topic7\", \"Topic7\", \"Topic7\", \"Topic7\", \"Topic7\", \"Topic7\", \"Topic7\", \"Topic7\", \"Topic7\", \"Topic7\", \"Topic7\", \"Topic7\", \"Topic7\", \"Topic7\", \"Topic7\", \"Topic7\", \"Topic7\", \"Topic7\", \"Topic7\", \"Topic7\", \"Topic7\", \"Topic7\", \"Topic7\", \"Topic7\", \"Topic7\", \"Topic7\", \"Topic7\", \"Topic7\", \"Topic7\", \"Topic7\", \"Topic7\", \"Topic7\", \"Topic7\", \"Topic7\", \"Topic7\", \"Topic7\", \"Topic7\", \"Topic7\", \"Topic7\", \"Topic7\", \"Topic7\", \"Topic7\", \"Topic7\", \"Topic7\", \"Topic7\", \"Topic7\", \"Topic7\", \"Topic7\", \"Topic7\", \"Topic7\", \"Topic7\", \"Topic7\", \"Topic7\", \"Topic7\", \"Topic7\", \"Topic7\", \"Topic7\", \"Topic7\", \"Topic7\", \"Topic8\", \"Topic8\", \"Topic8\", \"Topic8\", \"Topic8\", \"Topic8\", \"Topic8\", \"Topic8\", \"Topic8\", \"Topic8\", \"Topic8\", \"Topic8\", \"Topic8\", \"Topic8\", \"Topic8\", \"Topic8\", \"Topic8\", \"Topic8\", \"Topic8\", \"Topic8\", \"Topic8\", \"Topic8\", \"Topic8\", \"Topic8\", \"Topic8\", \"Topic8\", \"Topic8\", \"Topic8\", \"Topic8\", \"Topic8\", \"Topic8\", \"Topic8\", \"Topic8\", \"Topic8\", \"Topic8\", \"Topic8\", \"Topic8\", \"Topic8\", \"Topic8\", \"Topic8\", \"Topic8\", \"Topic8\", \"Topic8\", \"Topic8\", \"Topic8\", \"Topic8\", \"Topic8\", \"Topic8\", \"Topic8\", \"Topic8\", \"Topic8\", \"Topic8\", \"Topic8\", \"Topic8\", \"Topic8\", \"Topic8\", \"Topic8\", \"Topic8\", \"Topic8\", \"Topic8\", \"Topic8\", \"Topic8\", \"Topic8\", \"Topic8\", \"Topic8\", \"Topic8\", \"Topic8\", \"Topic8\", \"Topic8\", \"Topic8\", \"Topic8\", \"Topic8\", \"Topic8\", \"Topic8\", \"Topic8\", \"Topic8\", \"Topic8\", \"Topic8\", \"Topic8\", \"Topic8\", \"Topic8\", \"Topic9\", \"Topic9\", \"Topic9\", \"Topic9\", \"Topic9\", \"Topic9\", \"Topic9\", \"Topic9\", \"Topic9\", \"Topic9\", \"Topic9\", \"Topic9\", \"Topic9\", \"Topic9\", \"Topic9\", \"Topic9\", \"Topic9\", \"Topic9\", \"Topic9\", \"Topic9\", \"Topic9\", \"Topic9\", \"Topic9\", \"Topic9\", \"Topic9\", \"Topic9\", \"Topic9\", \"Topic9\", \"Topic9\", \"Topic9\", \"Topic9\", \"Topic9\", \"Topic9\", \"Topic9\", \"Topic9\", \"Topic9\", \"Topic9\", \"Topic9\", \"Topic9\", \"Topic9\", \"Topic9\", \"Topic9\", \"Topic9\", \"Topic9\", \"Topic9\", \"Topic9\", \"Topic9\", \"Topic9\", \"Topic9\", \"Topic9\", \"Topic9\", \"Topic9\", \"Topic9\", \"Topic9\", \"Topic9\", \"Topic9\", \"Topic9\", \"Topic9\", \"Topic9\", \"Topic9\", \"Topic9\", \"Topic9\", \"Topic9\", \"Topic9\", \"Topic9\", \"Topic9\", \"Topic9\", \"Topic9\", \"Topic9\", \"Topic9\", \"Topic9\", \"Topic9\", \"Topic9\", \"Topic9\", \"Topic9\", \"Topic9\", \"Topic9\", \"Topic9\", \"Topic9\", \"Topic9\", \"Topic9\", \"Topic9\", \"Topic9\", \"Topic9\", \"Topic9\", \"Topic10\", \"Topic10\", \"Topic10\", \"Topic10\", \"Topic10\", \"Topic10\", \"Topic10\", \"Topic10\", \"Topic10\", \"Topic10\", \"Topic10\", \"Topic10\", \"Topic10\", \"Topic10\", \"Topic10\", \"Topic10\", \"Topic10\", \"Topic10\", \"Topic10\", \"Topic10\", \"Topic10\", \"Topic10\", \"Topic10\", \"Topic10\", \"Topic10\", \"Topic10\", \"Topic10\", \"Topic10\", \"Topic10\", \"Topic10\", \"Topic10\", \"Topic10\", \"Topic10\", \"Topic10\", \"Topic10\", \"Topic10\", \"Topic10\", \"Topic10\", \"Topic10\", \"Topic10\", \"Topic10\", \"Topic10\", \"Topic10\", \"Topic10\", \"Topic10\", \"Topic10\", \"Topic10\", \"Topic10\", \"Topic10\", \"Topic10\", \"Topic10\", \"Topic10\", \"Topic10\", \"Topic10\", \"Topic10\", \"Topic10\", \"Topic10\", \"Topic10\", \"Topic10\", \"Topic10\", \"Topic10\", \"Topic10\", \"Topic10\", \"Topic10\", \"Topic10\", \"Topic10\", \"Topic10\", \"Topic10\", \"Topic10\", \"Topic10\", \"Topic10\", \"Topic10\", \"Topic10\", \"Topic10\", \"Topic10\", \"Topic10\", \"Topic10\", \"Topic10\", \"Topic10\", \"Topic10\", \"Topic10\", \"Topic10\", \"Topic10\"], \"logprob\": [30.0, 29.0, 28.0, 27.0, 26.0, 25.0, 24.0, 23.0, 22.0, 21.0, 20.0, 19.0, 18.0, 17.0, 16.0, 15.0, 14.0, 13.0, 12.0, 11.0, 10.0, 9.0, 8.0, 7.0, 6.0, 5.0, 4.0, 3.0, 2.0, 1.0, -10.1427001953125, -10.675100326538086, -10.794599533081055, -10.335599899291992, -10.833999633789062, -10.836600303649902, -11.488800048828125, -11.51710033416748, -10.871500015258789, -10.204400062561035, -10.773200035095215, -10.968199729919434, -10.969900131225586, -11.649399757385254, -10.65429973602295, -11.031000137329102, -11.03339958190918, -11.706000328063965, -11.083800315856934, -11.738699913024902, -11.75730037689209, -11.111599922180176, -11.119099617004395, -11.13230037689209, -11.138999938964844, -11.166500091552734, -11.813899993896484, -10.817999839782715, -11.177300453186035, -11.236200332641602, -10.361599922180176, -8.998299598693848, -9.344200134277344, -5.377299785614014, -8.260700225830078, -4.414899826049805, -5.71120023727417, -7.175899982452393, -8.664899826049805, -5.61460018157959, -5.6128997802734375, -5.823299884796143, -5.9532999992370605, -4.782400131225586, -6.091700077056885, -6.0569000244140625, -6.486100196838379, -4.535600185394287, -6.324399948120117, -4.6956000328063965, -5.838200092315674, -6.368100166320801, -6.3942999839782715, -4.681700229644775, -6.722899913787842, -6.2032999992370605, -6.533999919891357, -6.19890022277832, -5.612299919128418, -5.546500205993652, -5.705399990081787, -5.775599956512451, -5.757999897003174, -6.024899959564209, -5.4741997718811035, -5.696100234985352, -5.947199821472168, -5.617599964141846, -5.109399795532227, -5.73330020904541, -5.901700019836426, -5.829400062561035, -5.833199977874756, -5.82480001449585, -5.668499946594238, -5.33459997177124, -5.767399787902832, -5.871399879455566, -5.946000099182129, -10.65429973602295, -10.803199768066406, -10.906200408935547, -11.050800323486328, -11.657500267028809, -10.663800239562988, -11.053899765014648, -11.075900077819824, -11.734800338745117, -11.101699829101562, -11.749500274658203, -11.771900177001953, -11.803299903869629, -11.181400299072266, -11.82960033416748, -10.072099685668945, -11.847200393676758, -10.456999778747559, -11.510899543762207, -10.606200218200684, -9.792400360107422, -10.935700416564941, -10.026000022888184, -11.26990032196045, -10.322600364685059, -11.922800064086914, -10.922900199890137, -11.92710018157959, -10.929699897766113, -11.591699600219727, -11.094799995422363, -10.21030044555664, -10.654500007629395, -7.689000129699707, -8.922800064086914, -9.5600004196167, -4.341599941253662, -10.160799980163574, -4.300899982452393, -7.754300117492676, -5.924200057983398, -5.296800136566162, -9.511799812316895, -6.910999774932861, -6.928400039672852, -6.667300224304199, -4.818299770355225, -8.214799880981445, -6.975200176239014, -7.5157999992370605, -6.124800205230713, -5.634900093078613, -6.1528000831604, -5.671899795532227, -5.410399913787842, -5.701499938964844, -6.544000148773193, -5.492000102996826, -6.631100177764893, -4.937699794769287, -4.676199913024902, -7.120299816131592, -6.209700107574463, -6.477200031280518, -5.861499786376953, -5.768499851226807, -5.973400115966797, -6.665800094604492, -6.40339994430542, -5.827099800109863, -6.113399982452393, -5.033999919891357, -5.750500202178955, -4.915999889373779, -5.743599891662598, -5.804500102996826, -5.785200119018555, -5.720699787139893, -5.864699840545654, -5.594200134277344, -5.972599983215332, -5.853899955749512, -5.98960018157959, -5.877200126647949, -6.000800132751465, -11.266200065612793, -10.820899963378906, -11.484600067138672, -10.711000442504883, -10.310799598693848, -11.778599739074707, -10.214699745178223, -10.980799674987793, -11.486900329589844, -10.56779956817627, -11.884400367736816, -11.55459976196289, -11.901800155639648, -11.065999984741211, -11.259300231933594, -11.282999992370605, -10.641300201416016, -11.598600387573242, -10.263199806213379, -10.652799606323242, -11.104599952697754, -10.7746000289917, -11.10789966583252, -11.305399894714355, -11.307100296020508, -11.311699867248535, -11.320300102233887, -10.36989974975586, -11.33080005645752, -10.586199760437012, -9.894200325012207, -5.746399879455566, -5.1697001457214355, -6.490099906921387, -9.364700317382812, -5.381199836730957, -6.957499980926514, -8.281999588012695, -4.684700012207031, -7.776700019836426, -8.090499877929688, -5.8404998779296875, -6.65939998626709, -6.942699909210205, -7.54010009765625, -7.007599830627441, -5.568999767303467, -7.819399833679199, -8.37660026550293, -6.009399890899658, -5.787899971008301, -5.959700107574463, -6.338200092315674, -7.5117998123168945, -6.777500152587891, -6.407700061798096, -6.367700099945068, -4.877500057220459, -4.735899925231934, -6.1529998779296875, -6.266499996185303, -6.231500148773193, -4.727399826049805, -5.5320000648498535, -4.752900123596191, -5.045100212097168, -5.7357001304626465, -4.77239990234375, -5.765100002288818, -5.857999801635742, -6.018799781799316, -5.847300052642822, -5.791299819946289, -5.825799942016602, -5.810200214385986, -6.013000011444092, -5.693999767303467, -6.011199951171875, -5.84250020980835, -5.84689998626709, -5.9191999435424805, -5.813600063323975, -5.7993998527526855, -5.980299949645996, -5.978799819946289, -11.144000053405762, -8.340100288391113, -10.865900039672852, -10.69379997253418, -10.456600189208984, -10.980299949645996, -10.984600067138672, -11.001799583435059, -11.011799812316895, -10.825799942016602, -11.021499633789062, -11.063799858093262, -11.714099884033203, -11.076899528503418, -11.083399772644043, -11.083000183105469, -11.745499610900879, -11.17389965057373, -11.18970012664795, -11.253499984741211, -11.871500015258789, -11.533100128173828, -11.889900207519531, -10.354999542236328, -10.426400184631348, -11.921600341796875, -11.275199890136719, -11.92549991607666, -11.932100296020508, -11.937700271606445, -11.098600387573242, -10.274399757385254, -9.774700164794922, -6.750400066375732, -7.747300148010254, -4.263299942016602, -6.006899833679199, -6.66480016708374, -7.133999824523926, -7.507299900054932, -5.711100101470947, -6.0355000495910645, -6.225500106811523, -6.20389986038208, -5.741000175476074, -5.818600177764893, -5.719799995422363, -4.529699802398682, -6.089200019836426, -5.746300220489502, -5.821400165557861, -5.383200168609619, -6.423799991607666, -4.709199905395508, -6.8649001121521, -6.645299911499023, -6.425099849700928, -7.257699966430664, -4.93120002746582, -5.5553998947143555, -4.987199783325195, -4.695899963378906, -5.620200157165527, -5.912300109863281, -5.526800155639648, -6.214200019836426, -5.614200115203857, -5.537300109863281, -5.7571001052856445, -5.806300163269043, -5.850800037384033, -5.337699890136719, -5.888400077819824, -5.91379976272583, -5.904200077056885, -5.936200141906738, -5.964099884033203, -5.972499847412109, -5.98799991607666, -11.096199989318848, -10.801799774169922, -11.152899742126465, -10.885299682617188, -11.601799964904785, -10.676600456237793, -11.03689956665039, -11.080699920654297, -10.361499786376953, -10.58180046081543, -10.46660041809082, -10.928999900817871, -10.338399887084961, -11.165800094604492, -10.532999992370605, -11.837200164794922, -10.5693998336792, -9.877099990844727, -11.545000076293945, -11.241399765014648, -11.89490032196045, -11.55370044708252, -10.736800193786621, -11.262200355529785, -11.909199714660645, -10.439299583435059, -10.097100257873535, -10.626399993896484, -10.217300415039062, -10.920499801635742, -9.732000350952148, -4.521299839019775, -6.737299919128418, -10.383299827575684, -7.106200218200684, -7.446199893951416, -6.948699951171875, -4.4268999099731445, -6.034200191497803, -7.198500156402588, -6.546899795532227, -6.622700214385986, -5.949699878692627, -5.9857001304626465, -6.531499862670898, -6.9359002113342285, -6.40310001373291, -4.678599834442139, -5.75540018081665, -6.536300182342529, -6.0894999504089355, -4.610599994659424, -6.584499835968018, -6.204899787902832, -6.531700134277344, -6.2982001304626465, -4.899400234222412, -6.689300060272217, -5.422100067138672, -6.300600051879883, -5.689899921417236, -6.424099922180176, -5.073400020599365, -5.776700019836426, -6.232100009918213, -5.785099983215332, -5.776199817657471, -5.846499919891357, -5.811999797821045, -6.012199878692627, -5.69950008392334, -5.750100135803223, -5.686399936676025, -6.062699794769287, -6.004799842834473, -6.006499767303467, -5.183599948883057, -5.90939998626709, -5.906199932098389, -6.021599769592285, -5.832200050354004, -5.889500141143799, -5.982600212097168, -5.979499816894531, -5.997399806976318, -6.002399921417236, -10.72439956665039, -10.986200332641602, -10.400899887084961, -11.04889965057373, -11.112000465393066, -11.117600440979004, -11.798299789428711, -10.627799987792969, -11.220600128173828, -11.17039966583252, -10.984999656677246, -11.186400413513184, -10.467000007629395, -11.193900108337402, -11.213299751281738, -11.218899726867676, -11.229499816894531, -11.241700172424316, -11.250900268554688, -11.91409969329834, -11.273200035095215, -10.65719985961914, -11.276200294494629, -9.925700187683105, -11.282999992370605, -11.286100387573242, -11.290800094604492, -11.94480037689209, -10.801799774169922, -11.945799827575684, -11.105600357055664, -10.078100204467773, -6.01170015335083, -10.227800369262695, -10.306599617004395, -7.4456000328063965, -5.389200210571289, -5.1645002365112305, -5.508200168609619, -8.416899681091309, -5.927999973297119, -6.2540998458862305, -8.758199691772461, -7.112199783325195, -7.053500175476074, -5.570199966430664, -6.737199783325195, -6.3678998947143555, -7.259099960327148, -7.518199920654297, -7.362800121307373, -7.534299850463867, -6.722400188446045, -4.60129976272583, -4.720300197601318, -5.786600112915039, -6.1006999015808105, -5.944499969482422, -5.69980001449585, -7.107699871063232, -5.721199989318848, -5.902100086212158, -6.412799835205078, -6.655200004577637, -6.28380012512207, -5.677499771118164, -5.780300140380859, -6.079500198364258, -6.20959997177124, -5.758200168609619, -5.9166998863220215, -5.050000190734863, -5.5370001792907715, -5.928199768066406, -5.111800193786621, -4.842400074005127, -5.663099765777588, -4.965400218963623, -5.669000148773193, -5.1844000816345215, -6.011499881744385, -5.801300048828125, -5.733699798583984, -5.862800121307373, -5.937900066375732, -5.937099933624268, -9.451399803161621, -10.634699821472168, -11.492500305175781, -11.687700271606445, -11.0516996383667, -10.865799903869629, -11.712300300598145, -11.412699699401855, -11.137200355529785, -11.791999816894531, -10.330400466918945, -11.804900169372559, -10.519200325012207, -11.814000129699707, -10.569999694824219, -11.846799850463867, -11.202400207519531, -9.117300033569336, -10.855999946594238, -11.518500328063965, -11.525899887084961, -11.223600387573242, -10.403200149536133, -10.8725004196167, -11.543999671936035, -11.24020004272461, -11.241900444030762, -10.888400077819824, -11.893500328063965, -11.894599914550781, -10.3858003616333, -10.902299880981445, -10.767399787902832, -9.372599601745605, -9.979100227355957, -6.919000148773193, -9.043899536132812, -6.675000190734863, -6.640600204467773, -4.68209981918335, -6.816500186920166, -8.637800216674805, -6.699100017547607, -6.200399875640869, -5.486800193786621, -6.035999774932861, -5.551599979400635, -4.8246002197265625, -5.81820011138916, -5.424600124359131, -5.996500015258789, -6.010900020599365, -4.53879976272583, -5.968699932098389, -7.59119987487793, -6.421000003814697, -5.637400150299072, -4.714000225067139, -5.845799922943115, -6.524600028991699, -5.471199989318848, -6.884099960327148, -6.929699897766113, -5.447800159454346, -4.771900177001953, -5.751999855041504, -5.718999862670898, -6.273099899291992, -6.2368998527526855, -5.834199905395508, -4.958000183105469, -6.2027997970581055, -6.036200046539307, -5.8902997970581055, -5.9766998291015625, -5.3171000480651855, -5.6996002197265625, -6.065199851989746, -6.000199794769287, -5.958499908447266, -5.955699920654297, -5.984499931335449, -5.974899768829346, -6.009099960327148, -10.500800132751465, -10.508700370788574, -11.356800079345703, -11.450499534606934, -10.913200378417969, -10.763699531555176, -10.114100456237793, -10.971699714660645, -11.630599975585938, -11.317999839782715, -11.01830005645752, -11.034299850463867, -10.564599990844727, -11.789600372314453, -11.161499977111816, -11.163299560546875, -9.992799758911133, -11.17490005493164, -10.830599784851074, -11.187999725341797, -11.189499855041504, -10.346599578857422, -10.551799774169922, -11.197199821472168, -11.204299926757812, -11.069000244140625, -10.377900123596191, -10.581600189208984, -10.701399803161621, -11.235199928283691, -10.308300018310547, -10.083000183105469, -6.218500137329102, -6.480999946594238, -6.776199817657471, -6.363900184631348, -9.5423002243042, -6.737299919128418, -6.754199981689453, -5.414000034332275, -5.557400226593018, -6.633399963378906, -7.286099910736084, -5.7546000480651855, -4.825799942016602, -4.837600231170654, -6.830599784851074, -6.390699863433838, -5.583000183105469, -6.350800037384033, -5.659299850463867, -5.70419979095459, -6.226799964904785, -6.413599967956543, -6.55019998550415, -4.8933000564575195, -5.3942999839782715, -6.133999824523926, -6.05810022354126, -5.804999828338623, -5.658899784088135, -6.614099979400635, -5.7941999435424805, -4.774600028991699, -5.892499923706055, -4.899600028991699, -4.797900199890137, -5.804599761962891, -5.57289981842041, -5.7881999015808105, -4.945799827575684, -5.809800148010254, -5.928199768066406, -5.831699848175049, -5.690700054168701, -5.842100143432617, -5.8815999031066895, -5.758900165557861, -6.013299942016602, -5.956099987030029, -5.994800090789795, -10.71660041809082, -10.550299644470215, -10.814200401306152, -10.79170036315918, -11.046600341796875, -11.694999694824219, -10.357999801635742, -11.731499671936035, -10.73449993133545, -10.770299911499023, -11.789799690246582, -11.152600288391113, -11.156200408935547, -10.312199592590332, -11.164400100708008, -11.821900367736816, -10.0068998336792, -11.849800109863281, -11.510000228881836, -10.58899974822998, -10.685700416564941, -11.520600318908691, -11.864700317382812, -11.524900436401367, -10.358799934387207, -11.537799835205078, -11.54520034790039, -11.546600341796875, -11.254899978637695, -11.25730037689209, -10.903400421142578, -10.622200012207031, -9.12339973449707, -6.407800197601318, -7.357699871063232, -6.052499771118164, -8.236499786376953, -7.365300178527832, -6.3506999015808105, -6.727700233459473, -5.318900108337402, -7.301700115203857, -4.479800224304199, -5.825699806213379, -6.20419979095459, -5.666299819946289, -7.425600051879883, -7.104400157928467, -6.348800182342529, -4.893799781799316, -6.938399791717529, -7.1971001625061035, -4.865900039672852, -5.701300144195557, -6.014500141143799, -6.2164998054504395, -7.323999881744385, -5.7399001121521, -6.1381001472473145, -4.725200176239014, -5.938300132751465, -6.146599769592285, -6.411099910736084, -5.577199935913086, -5.803999900817871, -5.749599933624268, -6.189300060272217, -5.7322998046875, -6.201700210571289, -4.935100078582764, -5.622900009155273, -6.448200225830078, -5.814700126647949, -5.619900226593018, -5.956500053405762, -5.319900035858154, -5.161099910736084, -5.895400047302246, -5.887700080871582, -6.032199859619141, -5.989799976348877, -5.896500110626221, -5.928899765014648, -6.030700206756592, -6.040599822998047, -11.227100372314453, -11.269800186157227, -11.108799934387207, -10.829500198364258, -10.880800247192383, -11.570300102233887, -11.09469985961914, -11.059900283813477, -11.066300392150879, -11.376500129699707, -11.727800369262695, -11.389699935913086, -11.736800193786621, -11.120499610900879, -10.271300315856934, -10.945799827575684, -11.791299819946289, -10.628999710083008, -10.970399856567383, -10.67710018157959, -11.172699928283691, -9.65939998626709, -11.195899963378906, -11.004899978637695, -10.70580005645752, -10.710100173950195, -10.6850004196167, -11.023599624633789, -11.025699615478516, -11.876700401306152, -11.040399551391602, -10.103599548339844, -5.29040002822876, -5.958899974822998, -6.555099964141846, -6.339399814605713, -6.540800094604492, -7.878900051116943, -6.568399906158447, -5.548600196838379, -6.295300006866455, -7.494699954986572, -7.085700035095215, -7.207699775695801, -6.725399971008301, -7.133800029754639, -5.981599807739258, -6.442500114440918, -6.89139986038208, -7.291100025177002, -5.804500102996826, -6.268799781799316, -5.675899982452393, -6.449100017547607, -6.187600135803223, -4.756499767303467, -4.9481000900268555, -4.684199810028076, -5.591300010681152, -4.72599983215332, -5.835599899291992, -6.071899890899658, -5.727099895477295, -5.771599769592285, -5.866700172424316, -5.6992998123168945, -6.13700008392334, -5.776299953460693, -5.929599761962891, -4.893099784851074, -6.108099937438965, -5.658999919891357, -5.811200141906738, -6.016499996185303, -5.6809000968933105, -5.370200157165527, -5.855299949645996, -5.388599872589111, -5.703700065612793, -5.778600215911865, -5.946800231933594, -5.958700180053711, -5.945000171661377], \"loglift\": [30.0, 29.0, 28.0, 27.0, 26.0, 25.0, 24.0, 23.0, 22.0, 21.0, 20.0, 19.0, 18.0, 17.0, 16.0, 15.0, 14.0, 13.0, 12.0, 11.0, 10.0, 9.0, 8.0, 7.0, 6.0, 5.0, 4.0, 3.0, 2.0, 1.0, 1.2999999523162842, 1.292799949645996, 1.1734999418258667, 1.1365000009536743, 1.1335999965667725, 1.1308000087738037, 1.1265000104904175, 1.0982999801635742, 1.0963000059127808, 1.0368000268936157, 1.0, 0.9994999766349792, 0.9980999827384949, 0.965499997138977, 0.958299994468689, 0.9373999834060669, 0.9341999888420105, 0.9092000126838684, 0.8845999836921692, 0.8759999871253967, 0.8571000099182129, 0.8551999926567078, 0.8489000201225281, 0.8356999754905701, 0.8288000226020813, 0.801800012588501, 0.8008999824523926, 0.7936000227928162, 0.7897999882698059, 0.7825000286102295, 0.7605999708175659, 0.6834999918937683, 0.698199987411499, 0.44530001282691956, 0.6026999950408936, 0.25619998574256897, 0.36160001158714294, 0.46970000863075256, 0.6129000186920166, 0.3019999861717224, 0.2847000062465668, 0.29580000042915344, 0.2962000072002411, 0.15219999849796295, 0.3089999854564667, 0.30399999022483826, 0.3481000065803528, 0.09309999644756317, 0.31139999628067017, 0.0746999979019165, 0.23810000717639923, 0.30820000171661377, 0.3084999918937683, 0.011900000274181366, 0.3416999876499176, 0.23479999601840973, 0.2921999990940094, 0.22509999573230743, 0.11299999803304672, 0.08139999955892563, 0.11169999837875366, 0.12549999356269836, 0.10649999976158142, 0.16760000586509705, 0.026799999177455902, 0.08229999989271164, 0.13950000703334808, 0.04639999940991402, -0.11550000309944153, 0.05790000036358833, 0.10859999805688858, 0.06260000169277191, 0.021299999207258224, 0.003800000064074993, -0.10029999911785126, -0.34880000352859497, -0.16259999573230743, -0.06780000030994415, 0.06480000168085098, 1.3109999895095825, 1.1641000509262085, 1.0601999759674072, 0.967199981212616, 0.9573000073432922, 0.9474999904632568, 0.9135000109672546, 0.8909000158309937, 0.8790000081062317, 0.8650000095367432, 0.8647000193595886, 0.842199981212616, 0.8102999925613403, 0.786300003528595, 0.7843000292778015, 0.7727000117301941, 0.7662000060081482, 0.7605999708175659, 0.7605000138282776, 0.7429999709129333, 0.7281000018119812, 0.7114999890327454, 0.7038999795913696, 0.6969000101089478, 0.6917999982833862, 0.6908000111579895, 0.6880999803543091, 0.6872000098228455, 0.6815000176429749, 0.6801999807357788, 0.6787999868392944, 0.6682999730110168, 0.6693000197410583, 0.6018000245094299, 0.6259999871253967, 0.6324999928474426, 0.35199999809265137, 0.6495000123977661, 0.3278000056743622, 0.5224999785423279, 0.3930000066757202, 0.30809998512268066, 0.6116999983787537, 0.40049999952316284, 0.39329999685287476, 0.367000013589859, 0.17569999396800995, 0.4957999885082245, 0.3598000109195709, 0.41780000925064087, 0.2531999945640564, 0.19380000233650208, 0.2524999976158142, 0.19269999861717224, 0.15780000388622284, 0.16920000314712524, 0.28040000796318054, 0.13590000569820404, 0.289000004529953, 0.04809999838471413, -0.005100000184029341, 0.3490999937057495, 0.20659999549388885, 0.249099999666214, 0.14880000054836273, 0.1289999932050705, 0.16040000319480896, 0.2786000072956085, 0.22169999778270721, 0.08950000256299973, 0.15440000593662262, -0.09939999878406525, 0.066600002348423, -0.14569999277591705, 0.047600001096725464, 0.04529999941587448, 0.03739999979734421, 0.004600000102072954, 0.0364999994635582, -0.09319999814033508, 0.0544000007212162, -0.003100000089034438, 0.04800000041723251, -0.09870000183582306, 0.009999999776482582, 1.3494999408721924, 1.1481000185012817, 1.13100004196167, 1.0634000301361084, 0.9068999886512756, 0.8364999890327454, 0.7997999787330627, 0.7936999797821045, 0.7857999801635742, 0.7838000059127808, 0.7315000295639038, 0.7182000279426575, 0.7132999897003174, 0.7091000080108643, 0.7085000276565552, 0.6837000250816345, 0.6830000281333923, 0.6741999983787537, 0.6726999878883362, 0.6707000136375427, 0.6700000166893005, 0.6675999760627747, 0.6660000085830688, 0.6621999740600586, 0.6608999967575073, 0.6559000015258789, 0.6470999717712402, 0.64410001039505, 0.6366000175476074, 0.6315000057220459, 0.6270999908447266, 0.541100025177002, 0.4943999946117401, 0.524399995803833, 0.5967000126838684, 0.39730000495910645, 0.47699999809265137, 0.5259000062942505, 0.3093000054359436, 0.4918000102043152, 0.5109999775886536, 0.35190001130104065, 0.37400001287460327, 0.39500001072883606, 0.4343000054359436, 0.3928999900817871, 0.2818000018596649, 0.4404999911785126, 0.48809999227523804, 0.2759000062942505, 0.23909999430179596, 0.24570000171661377, 0.27219998836517334, 0.3961000144481659, 0.31310001015663147, 0.2685999870300293, 0.2619999945163727, 0.057100001722574234, 0.03440000116825104, 0.22010000050067902, 0.22349999845027924, 0.21230000257492065, -0.033799998462200165, 0.07280000299215317, -0.08179999887943268, -0.059300001710653305, 0.06780000030994415, -0.1437000036239624, 0.057500001043081284, 0.05849999934434891, 0.10019999742507935, 0.04479999840259552, 0.025800000876188278, 0.028699999675154686, 0.018400000408291817, 0.07370000332593918, -0.125900000333786, 0.06159999966621399, -0.05130000039935112, -0.12150000035762787, -0.05469999834895134, -0.18569999933242798, -0.29840001463890076, -0.10949999839067459, -0.1289999932050705, 1.4697999954223633, 1.3329999446868896, 1.1016000509262085, 1.0805000066757202, 1.0155999660491943, 0.9879999756813049, 0.9837999939918518, 0.9664000272750854, 0.9570000171661377, 0.9488000273704529, 0.945900022983551, 0.904699981212616, 0.9000999927520752, 0.8913999795913696, 0.8848000168800354, 0.8842999935150146, 0.8690999746322632, 0.7935000061988831, 0.7789000272750854, 0.7649000287055969, 0.7425000071525574, 0.7396000027656555, 0.7253000140190125, 0.6985999941825867, 0.6955999732017517, 0.692300021648407, 0.6920999884605408, 0.6883000135421753, 0.6816999912261963, 0.6769999861717224, 0.6744999885559082, 0.6614999771118164, 0.6504999995231628, 0.5546000003814697, 0.5841000080108643, 0.40779998898506165, 0.40939998626708984, 0.43549999594688416, 0.44920000433921814, 0.4740999937057495, 0.32260000705718994, 0.3375000059604645, 0.353300005197525, 0.3427000045776367, 0.29660001397132874, 0.3003999888896942, 0.2903999984264374, 0.164000004529953, 0.31610000133514404, 0.2644999921321869, 0.2563000023365021, 0.18490000069141388, 0.3197000026702881, 0.06120000034570694, 0.367900013923645, 0.31869998574256897, 0.271699994802475, 0.4023999869823456, 0.0035000001080334187, 0.10859999805688858, -0.00139999995008111, -0.06719999760389328, 0.10520000010728836, 0.164000004529953, 0.07800000160932541, 0.20980000495910645, 0.013700000010430813, -0.03629999980330467, 0.021400000900030136, -0.00279999990016222, -0.0010999999940395355, -0.34369999170303345, -0.03759999945759773, -0.021700000390410423, -0.07559999823570251, -0.035100001841783524, 0.0007999999797903001, -0.18129999935626984, -0.17100000381469727, 1.5181000232696533, 1.166100025177002, 1.120300054550171, 1.0839999914169312, 1.0128999948501587, 0.9358999729156494, 0.9315999746322632, 0.8876000046730042, 0.8804000020027161, 0.86080002784729, 0.8575999736785889, 0.8445000052452087, 0.8044999837875366, 0.8021000027656555, 0.7908999919891357, 0.7775999903678894, 0.7544000148773193, 0.7490000128746033, 0.7279000282287598, 0.725600004196167, 0.7196999788284302, 0.7190999984741211, 0.7064999938011169, 0.7055000066757202, 0.7050999999046326, 0.7045999765396118, 0.6974999904632568, 0.6966999769210815, 0.6953999996185303, 0.6919999718666077, 0.6621000170707703, 0.4726000130176544, 0.5210000276565552, 0.670199990272522, 0.5085999965667725, 0.49639999866485596, 0.45179998874664307, 0.2667999863624573, 0.37610000371932983, 0.4471000134944916, 0.3968999981880188, 0.3824000060558319, 0.2996000051498413, 0.2847999930381775, 0.34360000491142273, 0.37560001015663147, 0.29809999465942383, 0.0917000025510788, 0.2093999981880188, 0.299699991941452, 0.23430000245571136, 0.01810000091791153, 0.2978000044822693, 0.23890000581741333, 0.287200003862381, 0.2484000027179718, 0.03519999980926514, 0.30320000648498535, 0.07890000194311142, 0.23149999976158142, 0.10130000114440918, 0.24789999425411224, -0.08760000020265579, 0.08780000358819962, 0.19660000503063202, 0.06469999998807907, 0.052400000393390656, 0.05460000038146973, 0.042500000447034836, 0.10679999738931656, -0.03539999946951866, -0.024700000882148743, -0.05849999934434891, 0.10419999808073044, 0.0714000016450882, 0.06629999727010727, -0.512499988079071, -0.05860000103712082, -0.0835999995470047, 0.012000000104308128, -0.26409998536109924, -0.2847000062465668, -0.09049999713897705, -0.1624000072479248, -0.0997999981045723, -0.1316000074148178, 1.048699975013733, 0.9811000227928162, 0.9211000204086304, 0.91839998960495, 0.8550999760627747, 0.8482000231742859, 0.8155999779701233, 0.8144999742507935, 0.7972999811172485, 0.7968000173568726, 0.7871999740600586, 0.7803000211715698, 0.7735999822616577, 0.772599995136261, 0.7534999847412109, 0.7491999864578247, 0.7365999817848206, 0.7245000004768372, 0.7160000205039978, 0.6995999813079834, 0.6935999989509583, 0.6927000284194946, 0.690500020980835, 0.6863999962806702, 0.6829000115394592, 0.680400013923645, 0.6747999787330627, 0.6686999797821045, 0.6685000061988831, 0.6682000160217285, 0.6668000221252441, 0.6514999866485596, 0.5778999924659729, 0.6500999927520752, 0.6460000276565552, 0.5234000086784363, 0.41440001130104065, 0.33649998903274536, 0.3416000008583069, 0.5241000056266785, 0.3573000133037567, 0.3528999984264374, 0.5404999852180481, 0.41100001335144043, 0.3903000056743622, 0.2524999976158142, 0.35120001435279846, 0.3077000081539154, 0.3935999870300293, 0.41280001401901245, 0.3882000148296356, 0.40070000290870667, 0.31040000915527344, 0.06989999860525131, 0.05009999871253967, 0.17829999327659607, 0.21639999747276306, 0.18930000066757202, 0.15469999611377716, 0.33889999985694885, 0.14949999749660492, 0.17069999873638153, 0.2402999997138977, 0.2653999924659729, 0.20479999482631683, 0.10100000351667404, 0.11720000207424164, 0.17000000178813934, 0.19120000302791595, 0.09260000288486481, 0.120899997651577, -0.06419999897480011, 0.031199999153614044, 0.10540000349283218, -0.11779999732971191, -0.21369999647140503, 0.0008999999845400453, -0.271699994802475, -0.041099999099969864, -0.24969999492168427, 0.07519999891519547, -0.07590000331401825, -0.12880000472068787, -0.03420000150799751, -0.021400000900030136, -0.11999999731779099, 1.2037999629974365, 1.1380000114440918, 1.1232000589370728, 0.9259999990463257, 0.9143999814987183, 0.9082000255584717, 0.9014999866485596, 0.8604999780654907, 0.8300999999046326, 0.8216000199317932, 0.8131999969482422, 0.8084999918937683, 0.8048999905586243, 0.7996000051498413, 0.7807000279426575, 0.7677000164985657, 0.7656000256538391, 0.7585999965667725, 0.7555999755859375, 0.753000020980835, 0.7469000220298767, 0.7441999912261963, 0.7404000163078308, 0.7389000058174133, 0.729200005531311, 0.7275999784469604, 0.7254999876022339, 0.7232999801635742, 0.7207000255584717, 0.7186999917030334, 0.7132999897003174, 0.7091000080108643, 0.7050999999046326, 0.65420001745224, 0.677299976348877, 0.5081999897956848, 0.6155999898910522, 0.45559999346733093, 0.4499000012874603, 0.2526000142097473, 0.3865000009536743, 0.5396999716758728, 0.36399999260902405, 0.3100999891757965, 0.2386000007390976, 0.28780001401901245, 0.23960000276565552, 0.16130000352859497, 0.25949999690055847, 0.20329999923706055, 0.2639999985694885, 0.25690001249313354, 0.08990000188350677, 0.23669999837875366, 0.43220001459121704, 0.2802000045776367, 0.17970000207424164, 0.05640000104904175, 0.19179999828338623, 0.27959999442100525, 0.13369999825954437, 0.3149999976158142, 0.3084999918937683, 0.053300000727176666, -0.07819999754428864, 0.09780000150203705, 0.08460000157356262, 0.19259999692440033, 0.17339999973773956, 0.0364999994635582, -0.28690001368522644, 0.1581999957561493, 0.0828000009059906, 0.01080000028014183, 0.0340999998152256, -0.3231000006198883, -0.1315000057220459, 0.06870000064373016, 0.026799999177455902, -0.09399999678134918, -0.1331000030040741, -0.1559000015258789, -0.3109000027179718, -0.15459999442100525, 1.2734999656677246, 1.2662999629974365, 1.2587000131607056, 1.163599967956543, 1.0542999505996704, 1.0110000371932983, 1.0087000131607056, 0.9955999851226807, 0.9835000038146973, 0.9550999999046326, 0.949400007724762, 0.9330999851226807, 0.8774999976158142, 0.8248999714851379, 0.805899977684021, 0.8030999898910522, 0.8004999756813049, 0.7922999858856201, 0.7821999788284302, 0.7785999774932861, 0.777400016784668, 0.7748000025749207, 0.7714999914169312, 0.7694000005722046, 0.7628999948501587, 0.7476999759674072, 0.7434999942779541, 0.7427999973297119, 0.7411999702453613, 0.7315999865531921, 0.7251999974250793, 0.6959999799728394, 0.47279998660087585, 0.48809999227523804, 0.4510999917984009, 0.3797000050544739, 0.651199996471405, 0.4009000062942505, 0.3961000144481659, 0.2500999867916107, 0.2597000002861023, 0.36480000615119934, 0.42890000343322754, 0.27230000495910645, 0.1599999964237213, 0.15639999508857727, 0.37229999899864197, 0.3154999911785126, 0.22050000727176666, 0.30230000615119934, 0.19519999623298645, 0.19689999520778656, 0.26330000162124634, 0.28760001063346863, 0.2976999878883362, 0.04129999876022339, 0.10670000314712524, 0.22450000047683716, 0.20980000495910645, 0.1597999930381775, 0.11949999630451202, 0.2980000078678131, 0.12229999899864197, -0.10350000113248825, 0.14110000431537628, -0.12929999828338623, -0.16920000314712524, 0.09300000220537186, -0.004699999932199717, 0.06260000169277191, -0.25220000743865967, 0.05480000004172325, 0.08259999752044678, 0.01810000091791153, -0.08579999953508377, -0.013399999588727951, -0.010900000110268593, -0.13099999725818634, -0.003100000089034438, -0.164900004863739, -0.1720999926328659, 1.2506999969482422, 1.2228000164031982, 1.1536999940872192, 0.9825000166893005, 0.9218000173568726, 0.9190000295639038, 0.9085000157356262, 0.8830000162124634, 0.8773000240325928, 0.8427000045776367, 0.8245999813079834, 0.8140000104904175, 0.8108999729156494, 0.8080999851226807, 0.8022000193595886, 0.7924000024795532, 0.7720999717712402, 0.7641000151634216, 0.7621999979019165, 0.7612000107765198, 0.7562000155448914, 0.7512000203132629, 0.7495999932289124, 0.7480000257492065, 0.7408999800682068, 0.7348999977111816, 0.7272999882698059, 0.7257999777793884, 0.7114999890327454, 0.7089999914169312, 0.7080000042915344, 0.701200008392334, 0.6359000205993652, 0.5127999782562256, 0.5401999950408936, 0.47130000591278076, 0.5796999931335449, 0.4959000051021576, 0.3529999852180481, 0.38499999046325684, 0.2493000030517578, 0.41190001368522644, 0.14890000224113464, 0.26100000739097595, 0.2858999967575073, 0.22579999268054962, 0.4009999930858612, 0.365200012922287, 0.27630001306533813, 0.09200000017881393, 0.3343000113964081, 0.3653999865055084, 0.06880000233650208, 0.15320000052452087, 0.19089999794960022, 0.20749999582767487, 0.37130001187324524, 0.12460000067949295, 0.17910000681877136, -0.054099999368190765, 0.13940000534057617, 0.1704999953508377, 0.21850000321865082, 0.050700001418590546, 0.09350000321865082, 0.07909999787807465, 0.17170000076293945, 0.04619999974966049, 0.156700000166893, -0.1647000014781952, -0.017999999225139618, 0.2117999941110611, -0.023499999195337296, -0.11890000104904175, 0.008299999870359898, -0.32589998841285706, -0.4674000144004822, -0.024700000882148743, -0.06509999930858612, -0.021900000050663948, -0.08860000222921371, -0.23240000009536743, -0.20350000262260437, -0.11420000344514847, -0.1907999962568283, 1.385599970817566, 1.3431999683380127, 1.1621999740600586, 1.1370999813079834, 1.0848000049591064, 1.0430999994277954, 0.9223999977111816, 0.9065999984741211, 0.8996000289916992, 0.8946999907493591, 0.8852999806404114, 0.8823000192642212, 0.8763999938964844, 0.8460000157356262, 0.8277999758720398, 0.8267999887466431, 0.8219000101089478, 0.8123999834060669, 0.8021000027656555, 0.7947999835014343, 0.7932999730110168, 0.7750999927520752, 0.7706999778747559, 0.767799973487854, 0.765999972820282, 0.7617999911308289, 0.7559000253677368, 0.7502999901771545, 0.7462999820709229, 0.7372000217437744, 0.7318000197410583, 0.7206000089645386, 0.6017000079154968, 0.5005000233650208, 0.5249000191688538, 0.4138999879360199, 0.426800012588501, 0.5217000246047974, 0.40630000829696655, 0.30219998955726624, 0.36660000681877136, 0.4684000015258789, 0.41850000619888306, 0.4302999973297119, 0.3767000138759613, 0.4194999933242798, 0.2676999866962433, 0.3199000060558319, 0.3720000088214874, 0.4142000079154968, 0.22910000383853912, 0.2777000069618225, 0.19480000436306, 0.29339998960494995, 0.2563999891281128, 0.013899999670684338, 0.037700001150369644, -0.013100000098347664, 0.13410000503063202, -0.03229999914765358, 0.1746000051498413, 0.21559999883174896, 0.1273999959230423, 0.12600000202655792, 0.14409999549388885, 0.09189999848604202, 0.1868000030517578, 0.08820000290870667, 0.1080000028014183, -0.26440000534057617, 0.15230000019073486, -0.054099999368190765, 0.005900000222027302, 0.10260000079870224, -0.1128000020980835, -0.37619999051094055, -0.05180000141263008, -0.45399999618530273, -0.20270000398159027, -0.15070000290870667, -0.04569999873638153, -0.12999999523162842, -0.2809999883174896]}, \"token.table\": {\"Topic\": [2, 8, 1, 2, 3, 4, 5, 6, 7, 8, 9, 10, 2, 6, 7, 8, 9, 1, 4, 6, 9, 10, 1, 2, 3, 4, 5, 6, 7, 8, 9, 10, 1, 2, 4, 5, 7, 8, 9, 10, 1, 2, 3, 4, 5, 6, 7, 8, 9, 10, 10, 2, 6, 7, 2, 9, 1, 2, 3, 4, 5, 6, 7, 8, 9, 10, 1, 5, 1, 5, 9, 1, 2, 3, 4, 5, 6, 7, 8, 9, 10, 1, 2, 3, 4, 5, 6, 7, 8, 9, 10, 1, 2, 3, 4, 5, 6, 7, 8, 9, 10, 4, 1, 2, 3, 4, 5, 6, 7, 8, 9, 10, 8, 1, 4, 5, 6, 7, 10, 1, 2, 3, 4, 5, 6, 7, 8, 9, 10, 10, 2, 6, 9, 10, 1, 2, 3, 4, 5, 6, 7, 8, 9, 10, 1, 2, 4, 5, 6, 8, 9, 10, 6, 9, 10, 2, 7, 1, 4, 1, 2, 3, 4, 5, 6, 7, 8, 9, 10, 1, 2, 3, 4, 5, 6, 7, 8, 9, 10, 1, 3, 8, 1, 5, 7, 1, 2, 3, 4, 6, 7, 8, 1, 3, 1, 2, 3, 4, 5, 6, 7, 8, 9, 10, 6, 3, 6, 10, 1, 2, 3, 5, 6, 7, 8, 9, 10, 1, 2, 7, 1, 4, 5, 1, 2, 3, 4, 5, 6, 7, 8, 9, 10, 3, 8, 1, 2, 3, 4, 5, 6, 7, 8, 9, 10, 2, 6, 1, 2, 3, 4, 5, 6, 7, 8, 9, 10, 1, 2, 3, 4, 5, 6, 7, 8, 9, 10, 5, 1, 2, 3, 4, 5, 6, 7, 8, 9, 10, 7, 8, 1, 4, 5, 6, 7, 10, 1, 2, 3, 4, 5, 6, 7, 8, 9, 10, 1, 2, 3, 4, 5, 6, 7, 8, 9, 10, 1, 2, 3, 4, 5, 6, 7, 8, 9, 10, 1, 2, 3, 4, 6, 7, 8, 9, 10, 9, 4, 1, 2, 3, 4, 5, 6, 7, 8, 9, 10, 1, 2, 3, 4, 5, 6, 7, 8, 9, 10, 2, 6, 7, 1, 6, 1, 2, 3, 4, 5, 6, 7, 8, 9, 10, 1, 2, 3, 4, 5, 6, 7, 8, 9, 10, 1, 2, 3, 5, 6, 7, 8, 9, 10, 1, 2, 3, 4, 5, 6, 7, 8, 9, 10, 5, 1, 2, 3, 4, 5, 6, 7, 8, 9, 10, 1, 2, 3, 4, 5, 6, 7, 8, 9, 10, 8, 1, 2, 3, 4, 5, 6, 7, 8, 9, 10, 3, 8, 1, 2, 3, 4, 5, 6, 7, 8, 9, 10, 1, 2, 3, 4, 5, 6, 7, 8, 9, 10, 7, 6, 1, 2, 3, 4, 5, 6, 7, 8, 9, 10, 1, 2, 3, 4, 5, 6, 7, 8, 9, 10, 1, 2, 3, 4, 5, 6, 7, 8, 9, 10, 6, 10, 6, 8, 4, 5, 10, 2, 7, 1, 2, 3, 4, 5, 6, 7, 8, 9, 10, 1, 2, 3, 4, 5, 6, 7, 8, 9, 10, 1, 2, 3, 4, 5, 6, 7, 8, 9, 10, 4, 1, 2, 3, 4, 5, 6, 7, 8, 9, 10, 2, 1, 2, 6, 1, 2, 3, 6, 8, 6, 8, 2, 3, 4, 5, 6, 7, 8, 10, 1, 2, 3, 4, 5, 6, 7, 8, 9, 10, 1, 2, 3, 4, 5, 6, 7, 8, 9, 10, 1, 2, 3, 4, 5, 6, 7, 8, 9, 10, 6, 8, 7, 8, 9, 1, 2, 3, 4, 5, 6, 7, 8, 9, 10, 1, 2, 3, 4, 5, 6, 7, 8, 9, 10, 5, 7, 6, 1, 2, 3, 4, 5, 6, 7, 8, 9, 10, 1, 2, 3, 4, 5, 6, 7, 8, 9, 10, 5, 1, 2, 3, 4, 5, 6, 7, 8, 9, 10, 1, 4, 1, 2, 3, 4, 5, 6, 7, 8, 9, 10, 8, 1, 2, 3, 4, 5, 6, 7, 8, 9, 10, 1, 6, 1, 2, 3, 4, 5, 6, 7, 8, 9, 10, 2, 3, 5, 6, 2, 3, 4, 6, 8, 1, 2, 3, 4, 5, 6, 7, 8, 9, 10, 1, 2, 3, 4, 5, 6, 7, 8, 9, 10, 1, 2, 3, 4, 5, 6, 7, 8, 9, 10, 1, 2, 3, 4, 5, 6, 7, 8, 9, 10, 10, 1, 2, 3, 4, 5, 6, 7, 8, 9, 10, 10, 8, 8, 1, 2, 3, 4, 5, 6, 7, 8, 9, 10, 1, 2, 3, 4, 5, 6, 7, 8, 9, 10, 1, 7, 1, 2, 3, 4, 5, 6, 7, 8, 9, 10, 2, 3, 10, 3, 4, 5, 6, 7, 8, 1, 2, 3, 4, 5, 6, 7, 8, 9, 10, 1, 2, 3, 4, 5, 6, 7, 8, 9, 10, 1, 2, 3, 4, 5, 6, 7, 8, 9, 10, 1, 2, 3, 4, 5, 6, 7, 8, 9, 10, 1, 2, 3, 4, 5, 6, 7, 8, 9, 10, 1, 2, 3, 4, 5, 6, 7, 8, 9, 10, 1, 2, 3, 4, 5, 6, 7, 8, 9, 10, 1, 2, 3, 4, 5, 6, 7, 8, 9, 10, 2, 10, 1, 2, 3, 4, 5, 6, 7, 8, 9, 10, 1, 2, 3, 4, 5, 6, 7, 8, 9, 10, 6, 1, 2, 3, 4, 7, 8, 9, 1, 2, 3, 4, 5, 6, 7, 8, 9, 10, 1, 2, 3, 4, 5, 6, 7, 8, 9, 10, 1, 2, 3, 4, 5, 6, 7, 8, 9, 10, 4, 1, 2, 3, 4, 5, 6, 7, 8, 9, 10, 1, 2, 3, 4, 5, 6, 7, 8, 9, 10, 1, 2, 3, 4, 5, 6, 7, 8, 9, 10, 1, 2, 3, 4, 5, 6, 7, 8, 9, 10, 2, 6, 7, 1, 3, 5, 6, 7, 8, 9, 1, 2, 3, 4, 5, 6, 7, 8, 9, 10, 2, 3, 4, 5, 6, 10, 1, 3, 6, 1, 2, 3, 4, 5, 6, 7, 8, 9, 10, 3, 7, 1, 2, 3, 4, 5, 6, 7, 8, 9, 10, 1, 2, 3, 4, 5, 6, 7, 8, 9, 10, 1, 2, 3, 4, 5, 6, 7, 8, 9, 10, 1, 2, 3, 4, 5, 6, 7, 8, 9, 1, 2, 3, 4, 5, 6, 7, 8, 9, 10, 1, 2, 3, 4, 5, 6, 7, 8, 9, 10, 1, 5, 10, 1, 5, 1, 2, 3, 4, 5, 6, 7, 8, 9, 10, 1, 3, 5, 6, 7, 8, 9, 10, 8, 1, 1, 2, 3, 4, 5, 6, 7, 8, 9, 10, 1, 5, 1, 2, 5, 6, 7, 10, 8, 9, 1, 2, 3, 4, 5, 6, 7, 8, 9, 10, 3, 4, 1, 2, 3, 4, 5, 6, 7, 8, 9, 10, 1, 2, 3, 4, 5, 6, 7, 8, 9, 10, 8, 1, 2, 3, 4, 5, 6, 7, 8, 9, 10, 1, 2, 3, 4, 5, 6, 7, 8, 9, 10, 1, 2, 3, 4, 5, 6, 7, 8, 9, 10, 6, 10, 1, 2, 3, 4, 5, 6, 7, 8, 9, 10, 1, 2, 3, 4, 5, 6, 7, 8, 9, 10, 2, 3, 1, 2, 3, 4, 5, 6, 7, 8, 9, 10, 9, 1, 6, 10, 3, 1, 3, 6, 8, 5, 9, 1, 2, 3, 4, 5, 6, 7, 8, 9, 10, 1, 1, 2, 3, 4, 5, 6, 7, 8, 9, 10, 1, 2, 3, 4, 5, 6, 7, 8, 9, 10, 1, 2, 3, 5, 6, 3, 4, 1, 2, 3, 4, 5, 6, 7, 8, 9, 10, 1, 9, 1, 4, 1, 7, 8, 1, 2, 3, 4, 5, 6, 7, 8, 9, 10, 1, 2, 3, 4, 5, 6, 7, 8, 9, 10, 8, 1, 2, 3, 4, 5, 6, 7, 8, 9, 10, 1, 7, 3, 9, 1, 2, 3, 4, 5, 6, 7, 8, 9, 10, 1, 2, 3, 4, 5, 6, 7, 8, 9, 10, 1, 2, 3, 4, 8, 9, 10, 1, 2, 3, 4, 5, 6, 7, 8, 9, 10, 3, 4, 5, 6, 9, 10, 1, 2, 3, 4, 5, 6, 7, 8, 9, 10, 1, 2, 3, 4, 5, 6, 7, 8, 9, 10, 2, 3, 10, 2, 8, 1, 2, 3, 4, 5, 6, 7, 8, 9, 10, 1, 2, 3, 4, 5, 6, 7, 8, 9, 10, 1, 2, 3, 4, 5, 6, 7, 8, 9, 10, 1, 2, 3, 4, 5, 6, 7, 8, 9, 10, 1, 2, 3, 4, 5, 6, 7, 8, 9, 10, 1, 2, 3, 4, 5, 6, 7, 8, 9, 10, 1, 2, 3, 4, 5, 6, 7, 8, 9, 10, 6, 2, 1, 2, 3, 4, 5, 6, 7, 8, 9, 10, 4, 8, 10, 8, 3, 5, 6, 7, 8, 9, 2, 9, 2, 3, 4, 5, 7, 9, 4, 7, 8, 1, 2, 3, 4, 5, 6, 7, 8, 9, 10, 1, 2, 3, 4, 5, 6, 7, 8, 9, 10, 1, 2, 3, 4, 5, 6, 7, 8, 9, 10, 7, 8, 9, 1, 2, 3, 4, 5, 6, 7, 8, 9, 10, 5, 1, 2, 3, 4, 5, 6, 7, 8, 9, 10, 7, 9, 2, 3, 5, 7, 8, 9, 6, 7, 6, 10, 1, 2, 3, 4, 5, 6, 7, 8, 9, 10, 1, 2, 3, 4, 5, 6, 7, 8, 9, 10, 1, 2, 3, 4, 5, 6, 7, 8, 9, 10, 2, 6, 1, 2, 3, 4, 5, 6, 7, 8, 9, 10, 1, 2, 4, 5, 7, 9, 10, 1, 9, 1, 2, 3, 4, 5, 6, 7, 8, 9, 10, 1, 2, 3, 5, 6, 8, 9, 10, 1, 2, 3, 4, 5, 6, 7, 8, 9, 10, 1, 2, 3, 4, 5, 6, 7, 8, 9, 10, 1, 2, 3, 4, 5, 6, 7, 8, 9, 10, 1, 2, 3, 4, 5, 6, 7, 8, 9, 10, 1, 2, 3, 4, 5, 6, 7, 8, 9, 10, 1, 2, 6, 10, 1, 2, 3, 4, 5, 6, 7, 8, 9, 10, 4, 1, 2, 3, 4, 5, 6, 7, 8, 9, 10, 1, 2, 3, 4, 5, 6, 7, 8, 9, 10, 1, 2, 3, 4, 5, 6, 7, 8, 9, 10, 1, 2, 3, 4, 5, 6, 7, 8, 9, 10, 1, 2, 3, 4, 5, 6, 7, 8, 9, 10, 1, 2, 3, 4, 5, 6, 7, 8, 9, 10, 2, 5, 1, 2, 3, 4, 5, 6, 7, 8, 9, 10, 1, 2, 7, 8, 1, 3, 5, 6, 7, 9, 4, 1, 2, 3, 4, 5, 6, 7, 8, 9, 10, 1, 2, 3, 4, 5, 6, 7, 8, 9, 10, 1, 2, 3, 4, 5, 6, 7, 8, 9, 10, 1, 2, 3, 4, 5, 6, 7, 8, 9, 10, 1, 2, 3, 4, 10, 1, 9, 1, 2, 3, 4, 5, 6, 7, 8, 9, 10, 1, 2, 3, 4, 5, 6, 7, 8, 9, 10, 1, 2, 3, 4, 5, 6, 7, 8, 9, 10, 1, 2, 3, 4, 5, 6, 7, 8, 9, 10, 1, 2, 3, 4, 5, 6, 7, 8, 9, 10, 1, 2, 3, 4, 5, 6, 7, 8, 9, 10, 1, 3, 4, 1, 2, 3, 4, 5, 6, 7, 8, 9, 10, 1, 2, 3, 5, 6, 9, 10, 2, 6, 1, 2, 3, 4, 5, 6, 7, 8, 9, 10, 1, 2, 3, 4, 5, 6, 7, 8, 9, 10, 1, 2, 3, 4, 5, 6, 7, 8, 9, 10, 1, 2, 3, 4, 5, 6, 7, 8, 9, 10, 1, 2, 3, 4, 5, 6, 7, 8, 9, 10, 10, 1, 2, 3, 4, 5, 6, 7, 8, 9, 10, 1, 2, 3, 4, 5, 6, 7, 8, 9, 10, 1, 2, 3, 4, 5, 6, 7, 8, 9, 10, 4, 7, 6, 8, 10, 2, 6, 10, 1, 2, 3, 4, 5, 6, 7, 8, 9, 10, 2, 3, 5, 6, 7, 8, 9, 10, 1, 2, 3, 4, 5, 6, 7, 8, 9, 10, 1, 2, 3, 4, 5, 6, 7, 8, 9, 10, 10, 1, 2, 3, 4, 5, 8, 9, 6, 1, 2, 3, 4, 5, 6, 7, 8, 9, 10, 6, 1, 3, 6, 8, 1, 2, 3, 4, 5, 6, 7, 8, 9, 10, 1, 1, 2, 3, 4, 5, 6, 7, 8, 9, 10, 8, 1, 7, 1, 2, 3, 4, 5, 6, 7, 8, 9, 10, 2, 3, 6, 10, 3, 9, 10, 1, 2, 3, 4, 5, 6, 7, 8, 9, 10, 1, 4, 7, 1, 2, 3, 4, 5, 6, 7, 8, 9, 10, 1, 2, 3, 4, 5, 6, 7, 8, 9, 10, 1, 2, 3, 4, 5, 6, 7, 8, 9, 10, 1, 2, 3, 4, 5, 6, 7, 8, 9, 10, 1, 2, 3, 4, 5, 6, 7, 8, 9, 10, 2, 3, 4, 5, 6, 7, 10, 1, 2, 3, 4, 5, 6, 7, 8, 9, 10, 10, 1, 2, 3, 4, 5, 6, 7, 8, 9, 10, 1, 2, 3, 4, 5, 6, 7, 8, 9, 10, 1, 2, 3, 4, 5, 6, 7, 8, 9, 10, 1, 2, 3, 4, 5, 6, 7, 8, 9, 10, 1, 2, 3, 4, 5, 6, 7, 8, 9, 10, 1, 1, 2, 3, 4, 5, 6, 7, 8, 9, 10, 1, 2, 3, 4, 5, 6, 7, 8, 9, 10, 3, 4, 1, 3, 6, 1, 2, 3, 4, 5, 6, 7, 8, 9, 10, 1, 2, 3, 4, 5, 6, 7, 8, 9, 10, 1, 2, 4, 7, 8, 9, 10, 1, 2, 3, 4, 5, 6, 7, 8, 9, 10, 1, 2, 3, 4, 5, 8, 9, 10, 8, 3, 1, 2, 3, 4, 5, 6, 7, 8, 9, 10, 1, 2, 3, 4, 5, 6, 7, 8, 9, 10, 1, 2, 3, 4, 5, 6, 7, 8, 9, 10, 4, 2, 4, 8, 10, 4, 2, 3, 4, 5, 6, 7, 1, 2, 3, 4, 5, 6, 7, 8, 9, 10, 1, 2, 3, 4, 5, 6, 7, 8, 9, 10, 1, 2, 3, 4, 5, 6, 7, 8, 9, 10, 2, 1, 2, 6, 1, 1, 2, 3, 4, 5, 6, 7, 8, 9, 10, 1, 2, 3, 4, 5, 6, 7, 8, 9, 10, 1, 2, 3, 4, 5, 6, 7, 8, 9, 10, 2, 4, 6, 7, 9, 7, 2, 1, 2, 3, 4, 5, 6, 7, 8, 9, 10, 1, 2, 3, 4, 5, 6, 7, 8, 9, 10, 1, 2, 3, 4, 5, 6, 7, 8, 9, 10, 1, 2, 3, 4, 5, 6, 9, 10, 3, 5, 10, 1, 3, 4, 7, 8, 9, 10, 1, 2, 3, 4, 5, 6, 7, 8, 9, 10, 7, 10, 1, 2, 3, 4, 5, 6, 7, 8, 9, 10, 1, 2, 3, 4, 5, 6, 7, 8, 9, 10, 1, 4, 1, 2, 3, 4, 5, 6, 7, 8, 9, 10, 3, 4, 6, 1, 2, 3, 4, 5, 6, 7, 8, 9, 10, 1, 2, 3, 4, 5, 6, 7, 8, 9, 10, 8, 1, 4, 1, 2, 3, 4, 5, 6, 7, 8, 9, 10, 1, 2, 3, 4, 5, 6, 7, 8, 9, 10, 1, 2, 3, 4, 5, 6, 7, 8, 9, 10, 8, 1, 2, 3, 4, 5, 6, 7, 8, 9, 10, 1, 2, 3, 4, 5, 6, 7, 8, 9, 10, 1, 2, 3, 4, 5, 6, 7, 8, 9, 10, 7, 1, 2, 3, 4, 5, 6, 7, 8, 9, 10, 1, 2, 3, 4, 5, 6, 7, 8, 9, 10, 1, 2, 3, 4, 5, 6, 7, 8, 9, 10, 5, 7, 8, 9, 2, 6, 1, 2, 3, 4, 5, 6, 7, 8, 9, 10, 3, 1, 2, 3, 4, 5, 6, 7, 8, 9, 10, 1, 6, 1, 2, 3, 4, 5, 6, 7, 8, 9, 10, 1, 2, 3, 4, 5, 6, 7, 8, 9, 10, 1, 2, 3, 4, 5, 6, 7, 8, 9, 10, 1, 2, 3, 4, 5, 6, 7, 8, 9, 10, 9, 1, 3, 1, 2, 3, 4, 5, 6, 7, 8, 9, 10, 1, 1, 2, 3, 4, 5, 6, 7, 8, 9, 10, 1, 2, 3, 4, 5, 6, 7, 8, 9, 10, 1, 2, 3, 4, 5, 6, 7, 8, 9, 10, 1, 2, 3, 4, 5, 6, 7, 8, 9, 10, 1, 2, 3, 4, 5, 6, 7, 8, 9, 10, 5, 1, 2, 3, 4, 5, 6, 7, 8, 9, 10, 1, 2, 3, 4, 5, 6, 7, 8, 9, 10, 1, 2, 3, 4, 5, 6, 7, 8, 9, 10, 1, 2, 3, 4, 5, 6, 7, 8, 9, 10, 1, 2, 3, 4, 5, 6, 7, 8, 9, 10, 1, 2, 4, 7, 8, 10, 1, 2, 3, 4, 5, 6, 7, 8, 9, 10, 1, 2, 1, 2, 3, 4, 5, 6, 7, 8, 9, 10, 1, 2, 3, 4, 5, 6, 7, 8, 9, 10, 1, 2, 3, 4, 5, 6, 7, 8, 9, 10, 7, 9, 1, 2, 3, 4, 5, 6, 7, 8, 9, 10, 1, 5, 6, 8, 10, 5, 5, 1, 2, 3, 4, 5, 6, 7, 8, 9, 10, 1, 2, 3, 4, 5, 6, 7, 8, 9, 10, 1, 2, 3, 4, 5, 6, 7, 8, 9, 10, 1, 2, 4, 5, 6, 7, 9, 10, 9, 10, 10], \"Freq\": [0.3230530321598053, 0.3230530321598053, 0.11717060208320618, 0.11717060208320618, 0.11717060208320618, 0.11717060208320618, 0.11717060208320618, 0.23434120416641235, 0.11717060208320618, 0.11717060208320618, 0.11717060208320618, 0.11717060208320618, 0.2264717072248459, 0.2264717072248459, 0.2264717072248459, 0.32318374514579773, 0.32292798161506653, 0.17431989312171936, 0.17431989312171936, 0.17431989312171936, 0.17431989312171936, 0.17431989312171936, 0.12464944273233414, 0.1391918808221817, 0.08933210372924805, 0.09764206409454346, 0.07063468545675278, 0.12257195264101028, 0.09348708391189575, 0.08102214336395264, 0.09764206409454346, 0.08309963345527649, 0.14173276722431183, 0.14173276722431183, 0.14173276722431183, 0.28346553444862366, 0.14173276722431183, 0.14173276722431183, 0.14173276722431183, 0.14173276722431183, 0.10658992826938629, 0.071059949696064, 0.071059949696064, 0.071059949696064, 0.071059949696064, 0.10658992826938629, 0.142119899392128, 0.10658992826938629, 0.17764988541603088, 0.071059949696064, 0.3229628801345825, 0.17421647906303406, 0.17421647906303406, 0.17421647906303406, 0.23468618094921112, 0.23468618094921112, 0.14240789413452148, 0.11346938461065292, 0.10966169089078903, 0.09443090111017227, 0.08529242128133774, 0.09823859483003616, 0.08681550621986389, 0.10966169089078903, 0.08376934379339218, 0.0761539489030838, 0.3235529661178589, 0.3235529661178589, 0.6179293394088745, 0.3232277035713196, 0.3232277035713196, 0.14336051046848297, 0.09886931627988815, 0.10628451406955719, 0.09145411849021912, 0.09639757871627808, 0.12111490964889526, 0.09021825343370438, 0.06302918493747711, 0.08527478575706482, 0.10504864901304245, 0.12378934025764465, 0.11789461225271225, 0.08842095732688904, 0.07663150131702423, 0.09431569278240204, 0.10021042078733444, 0.08252622932195663, 0.07073676586151123, 0.10021042078733444, 0.15326300263404846, 0.10177179425954819, 0.08050604909658432, 0.10632874071598053, 0.1275944858789444, 0.08658197522163391, 0.14278431236743927, 0.09873383492231369, 0.08658197522163391, 0.10632874071598053, 0.0637972429394722, 0.3232559859752655, 0.09357967972755432, 0.09108421951532364, 0.08734103292226791, 0.07985465973615646, 0.14847975969314575, 0.06363417953252792, 0.11603879928588867, 0.11229561269283295, 0.10730469971895218, 0.10106605291366577, 0.2267402857542038, 0.16982917487621307, 0.16982917487621307, 0.16982917487621307, 0.16982917487621307, 0.16982917487621307, 0.16982917487621307, 0.0721772313117981, 0.10674098134040833, 0.13215549290180206, 0.10877414047718048, 0.06709432601928711, 0.09047568589448929, 0.12402284890413284, 0.09047568589448929, 0.11385704576969147, 0.09352542459964752, 0.3229568600654602, 0.19111768901348114, 0.19111768901348114, 0.19111768901348114, 0.19111768901348114, 0.11258866637945175, 0.11258866637945175, 0.11258866637945175, 0.11258866637945175, 0.2251773327589035, 0.11258866637945175, 0.11258866637945175, 0.11258866637945175, 0.11258866637945175, 0.11258866637945175, 0.14187221229076385, 0.14187221229076385, 0.14187221229076385, 0.14187221229076385, 0.14187221229076385, 0.14187221229076385, 0.14187221229076385, 0.14187221229076385, 0.32280322909355164, 0.32280322909355164, 0.32280322909355164, 0.3225884735584259, 0.3225884735584259, 0.3236280381679535, 0.3236280381679535, 0.11412104219198227, 0.11868588626384735, 0.08616138994693756, 0.10385014861822128, 0.09586168080568314, 0.09586168080568314, 0.11982709914445877, 0.08502017706632614, 0.0992853119969368, 0.08102594316005707, 0.08320942521095276, 0.09484084695577621, 0.0724727213382721, 0.13241930305957794, 0.10020919889211655, 0.10199864953756332, 0.1270509511232376, 0.09126194566488266, 0.10826172679662704, 0.0876830518245697, 0.19117578864097595, 0.19117578864097595, 0.19117578864097595, 0.19126293063163757, 0.19126293063163757, 0.19126293063163757, 0.13567158579826355, 0.13567158579826355, 0.13567158579826355, 0.13567158579826355, 0.13567158579826355, 0.13567158579826355, 0.13567158579826355, 0.3232620060443878, 0.3232620060443878, 0.08442463725805283, 0.13408619165420532, 0.08070001751184464, 0.1402938812971115, 0.11546310782432556, 0.07573386281728745, 0.0993231013417244, 0.08814924955368042, 0.08566617220640182, 0.0980815663933754, 0.32308509945869446, 0.19664005935192108, 0.19664005935192108, 0.19664005935192108, 0.12705019116401672, 0.12705019116401672, 0.12705019116401672, 0.12705019116401672, 0.12705019116401672, 0.12705019116401672, 0.25410038232803345, 0.12705019116401672, 0.12705019116401672, 0.2264222651720047, 0.2264222651720047, 0.2264222651720047, 0.32355019450187683, 0.32355019450187683, 0.3233491778373718, 0.0937495231628418, 0.0937495231628418, 0.0937495231628418, 0.0937495231628418, 0.0937495231628418, 0.1874990463256836, 0.0937495231628418, 0.0937495231628418, 0.0937495231628418, 0.0937495231628418, 0.32340145111083984, 0.32340145111083984, 0.18861348927021027, 0.047153372317552567, 0.09430674463510513, 0.047153372317552567, 0.09430674463510513, 0.09430674463510513, 0.047153372317552567, 0.1414601057767868, 0.047153372317552567, 0.09430674463510513, 0.26598572731018066, 0.26598572731018066, 0.10629848390817642, 0.11789468675851822, 0.09083689004182816, 0.07150989025831223, 0.08310608565807343, 0.08697148412466049, 0.09856768697500229, 0.12949088215827942, 0.10823118686676025, 0.10436578840017319, 0.10396453738212585, 0.06930969655513763, 0.09818873554468155, 0.10974034667015076, 0.1674984246492386, 0.09818873554468155, 0.08086130768060684, 0.10974034667015076, 0.08086130768060684, 0.08086130768060684, 0.26628053188323975, 0.10472558438777924, 0.12217984348535538, 0.10036201775074005, 0.10690736770629883, 0.06981705874204636, 0.0872713178396225, 0.08945310115814209, 0.15708836913108826, 0.08290775120258331, 0.07636240124702454, 0.22641810774803162, 0.22641810774803162, 0.32348203659057617, 0.19103257358074188, 0.19103257358074188, 0.19103257358074188, 0.19103257358074188, 0.19103257358074188, 0.08459975570440292, 0.1268996298313141, 0.1057496890425682, 0.08459975570440292, 0.11063044518232346, 0.13666114211082458, 0.0959881842136383, 0.08297283947467804, 0.07483824342489243, 0.0959881842136383, 0.16430437564849854, 0.10745645314455032, 0.10953625291585922, 0.0734863430261612, 0.0935911014676094, 0.12894773483276367, 0.08596515655517578, 0.08180555701255798, 0.08804496377706528, 0.0672469362616539, 0.10399406403303146, 0.10567139089107513, 0.11238068342208862, 0.0956074446439743, 0.09057547897100449, 0.09057547897100449, 0.10231674462556839, 0.1325085610151291, 0.08218885958194733, 0.0838661789894104, 0.10305913537740707, 0.10305913537740707, 0.10305913537740707, 0.10305913537740707, 0.10305913537740707, 0.10305913537740707, 0.10305913537740707, 0.10305913537740707, 0.20611827075481415, 0.3229011595249176, 0.2665111720561981, 0.08636016398668289, 0.20150704681873322, 0.08636016398668289, 0.05757344141602516, 0.08636016398668289, 0.14393360912799835, 0.08636016398668289, 0.08636016398668289, 0.11514688283205032, 0.08636016398668289, 0.19728218019008636, 0.06576072424650192, 0.09864109009504318, 0.09864109009504318, 0.06576072424650192, 0.09864109009504318, 0.09864109009504318, 0.06576072424650192, 0.06576072424650192, 0.09864109009504318, 0.22639524936676025, 0.22639524936676025, 0.22639524936676025, 0.3233385384082794, 0.3233385384082794, 0.11633026599884033, 0.12796328961849213, 0.11300654709339142, 0.13461074233055115, 0.10303538292646408, 0.10802096128463745, 0.07146002352237701, 0.09140235185623169, 0.06148885563015938, 0.07146002352237701, 0.08410260081291199, 0.12803679704666138, 0.11422890424728394, 0.15439730882644653, 0.12050522118806839, 0.08661312609910965, 0.08159207552671432, 0.08284733444452286, 0.06276313215494156, 0.08410260081291199, 0.10519900918006897, 0.21039801836013794, 0.10519900918006897, 0.10519900918006897, 0.10519900918006897, 0.10519900918006897, 0.10519900918006897, 0.10519900918006897, 0.10519900918006897, 0.11146751046180725, 0.07208232581615448, 0.10849504172801971, 0.10032075643539429, 0.09288959205150604, 0.07802725583314896, 0.06688050925731659, 0.07951349020004272, 0.11815556138753891, 0.17240308225154877, 0.32359832525253296, 0.11324653029441833, 0.14784963428974152, 0.12268374115228653, 0.08808063715696335, 0.09437210857868195, 0.10695505887269974, 0.059769000858068466, 0.08178915828466415, 0.08493489772081375, 0.10380931943655014, 0.07666321098804474, 0.06814508140087128, 0.0851813480257988, 0.08092228323221207, 0.09369948506355286, 0.14054922759532928, 0.10221762210130692, 0.09795854985713959, 0.1149948239326477, 0.14480829238891602, 0.3233443796634674, 0.0915101170539856, 0.0743519738316536, 0.07864150404930115, 0.14441440999507904, 0.13011594116687775, 0.07578181475400925, 0.0857907384634018, 0.0829310417175293, 0.1115279570221901, 0.12439656257629395, 0.32346850633621216, 0.32346850633621216, 0.12146122008562088, 0.09038974344730377, 0.0819157063961029, 0.09603910148143768, 0.09038974344730377, 0.10451314598321915, 0.08474038541316986, 0.152532696723938, 0.09603910148143768, 0.0819157063961029, 0.14325843751430511, 0.11558350920677185, 0.1351187527179718, 0.09116446226835251, 0.09767620265483856, 0.09279239177703857, 0.11721144616603851, 0.08139684051275253, 0.07325715571641922, 0.05372191220521927, 0.4389048218727112, 0.3227258324623108, 0.08405804634094238, 0.10899051278829575, 0.09118160605430603, 0.10257931053638458, 0.10827816277742386, 0.14104655385017395, 0.10827816277742386, 0.09830517321825027, 0.07764683663845062, 0.07978390902280807, 0.10621251910924911, 0.1009889543056488, 0.0975065752863884, 0.1410362869501114, 0.0992477610707283, 0.0992477610707283, 0.07312992960214615, 0.1410362869501114, 0.08009468764066696, 0.06268279999494553, 0.08157537877559662, 0.07574857026338577, 0.11070944368839264, 0.11070944368839264, 0.1718909740447998, 0.08157537877559662, 0.09031560271978378, 0.07283516228199005, 0.09614241123199463, 0.10779603570699692, 0.3230190873146057, 0.32296907901763916, 0.2661867141723633, 0.2661867141723633, 0.19695691764354706, 0.19695691764354706, 0.19695691764354706, 0.3229430317878723, 0.3229430317878723, 0.0771183967590332, 0.10945837199687958, 0.08458146452903748, 0.1592121720314026, 0.11194606125354767, 0.08955685049295425, 0.08209377527236938, 0.09204453974962234, 0.09950760751962662, 0.09453222900629044, 0.15976780652999878, 0.07262173295021057, 0.1742921620607376, 0.11619476974010468, 0.10167042165994644, 0.07262173295021057, 0.07262173295021057, 0.0871460810303688, 0.0871460810303688, 0.07262173295021057, 0.064539834856987, 0.17748454213142395, 0.08067479729652405, 0.11294471472501755, 0.064539834856987, 0.11294471472501755, 0.10487723350524902, 0.0968097522854805, 0.08874227106571198, 0.0968097522854805, 0.2661718428134918, 0.11314617097377777, 0.1080031618475914, 0.08228812366724014, 0.09257414191961288, 0.10286015272140503, 0.10286015272140503, 0.06685910373926163, 0.09771714359521866, 0.13886120915412903, 0.08743113279342651, 0.323370099067688, 0.32327309250831604, 0.32327309250831604, 0.3232133388519287, 0.1697482317686081, 0.1697482317686081, 0.1697482317686081, 0.1697482317686081, 0.1697482317686081, 0.3232346475124359, 0.3232346475124359, 0.1152253970503807, 0.2304507941007614, 0.2304507941007614, 0.1152253970503807, 0.1152253970503807, 0.1152253970503807, 0.1152253970503807, 0.1152253970503807, 0.08818139135837555, 0.07790783047676086, 0.10187947005033493, 0.14126145839691162, 0.10273560136556625, 0.11129689961671829, 0.08818139135837555, 0.11129689961671829, 0.05907297134399414, 0.11814594268798828, 0.10736040771007538, 0.07658375799655914, 0.10664467513561249, 0.06799492239952087, 0.105928935110569, 0.11666497588157654, 0.08374112099409103, 0.11738071590662003, 0.11022335290908813, 0.10736040771007538, 0.11708803474903107, 0.12043340504169464, 0.08865237236022949, 0.1371602714061737, 0.09199774265289307, 0.06858013570308685, 0.075270876288414, 0.09617945551872253, 0.09199774265289307, 0.1120699793100357, 0.3230312466621399, 0.3230312466621399, 0.26657602190971375, 0.26657602190971375, 0.26657602190971375, 0.0761222392320633, 0.0761222392320633, 0.22836671769618988, 0.0761222392320633, 0.1522444784641266, 0.0761222392320633, 0.0761222392320633, 0.0761222392320633, 0.0761222392320633, 0.0761222392320633, 0.0979425385594368, 0.06801564991474152, 0.1108655110001564, 0.10202347487211227, 0.08229893445968628, 0.15167489647865295, 0.10678456723690033, 0.12038769572973251, 0.07005611807107925, 0.08978065848350525, 0.22668083012104034, 0.22668083012104034, 0.322872519493103, 0.08060763776302338, 0.1074768528342247, 0.15449798107147217, 0.08732494711875916, 0.16121527552604675, 0.08060763776302338, 0.09404224902391434, 0.08060763776302338, 0.08060763776302338, 0.08060763776302338, 0.0925484150648117, 0.113446444272995, 0.0925484150648117, 0.10150471329689026, 0.07911396771669388, 0.17763325572013855, 0.09702656418085098, 0.08359211683273315, 0.06717223674058914, 0.0940411314368248, 0.323552668094635, 0.11206717789173126, 0.08965374529361725, 0.08965374529361725, 0.06724030524492264, 0.11206717789173126, 0.1793074905872345, 0.08965374529361725, 0.11206717789173126, 0.06724030524492264, 0.08965374529361725, 0.323233962059021, 0.323233962059021, 0.09082681685686111, 0.14904913306236267, 0.09781349450349808, 0.10014238953590393, 0.09082681685686111, 0.11644463241100311, 0.07685346156358719, 0.09315570443868637, 0.10247127711772919, 0.0815112441778183, 0.6171411871910095, 0.07363364100456238, 0.18817485868930817, 0.0981781855225563, 0.07363364100456238, 0.0981781855225563, 0.11454121768474579, 0.08181515336036682, 0.08999666571617126, 0.057270608842372894, 0.12272273004055023, 0.32346799969673157, 0.32346799969673157, 0.08921762555837631, 0.14107537269592285, 0.11152203381061554, 0.11096442490816116, 0.07639259099960327, 0.08810240775346756, 0.11207964271306992, 0.08866001665592194, 0.09256328642368317, 0.08921762555837631, 0.16983957588672638, 0.16983957588672638, 0.16983957588672638, 0.16983957588672638, 0.15628932416439056, 0.15628932416439056, 0.15628932416439056, 0.15628932416439056, 0.15628932416439056, 0.06816469132900238, 0.12780879437923431, 0.10224703699350357, 0.18745289742946625, 0.12780879437923431, 0.09372644871473312, 0.07668527960777283, 0.10224703699350357, 0.07668527960777283, 0.051123518496751785, 0.10014190524816513, 0.10181093961000443, 0.12183931469917297, 0.06509223580360413, 0.13686060905456543, 0.06843030452728271, 0.13018447160720825, 0.12851543724536896, 0.07343740016222, 0.0751064270734787, 0.06988070905208588, 0.11320674419403076, 0.0656878650188446, 0.11041151732206345, 0.10761629045009613, 0.10482106357812881, 0.09084492176771164, 0.11879720538854599, 0.15094232559204102, 0.06848309189081192, 0.11452961713075638, 0.08293524384498596, 0.08688453584909439, 0.1184789165854454, 0.07503664493560791, 0.11452961713075638, 0.11058031767606735, 0.07503664493560791, 0.1342761069536209, 0.08688453584909439, 0.33970144391059875, 0.10698732733726501, 0.08775365352630615, 0.12862521409988403, 0.14425258338451385, 0.0793389156460762, 0.09737049043178558, 0.08054102212190628, 0.09135996550321579, 0.09737049043178558, 0.08775365352630615, 0.43834057450294495, 0.32324671745300293, 0.32302090525627136, 0.1488296240568161, 0.09361863881349564, 0.09841959178447723, 0.10562103241682053, 0.06961385905742645, 0.11522293835878372, 0.10562103241682053, 0.08641720563173294, 0.07681529223918915, 0.10082007199525833, 0.10805515944957733, 0.08644413203001022, 0.0777997151017189, 0.10373295843601227, 0.09508854150772095, 0.14695501327514648, 0.09076633304357529, 0.08644413203001022, 0.0777997151017189, 0.12534399330615997, 0.32345202565193176, 0.32345202565193176, 0.07985133677721024, 0.11977700889110565, 0.07985133677721024, 0.07985133677721024, 0.07985133677721024, 0.11977700889110565, 0.19962835311889648, 0.07985133677721024, 0.07985133677721024, 0.07985133677721024, 0.26638489961624146, 0.26638489961624146, 0.26638489961624146, 0.26655736565589905, 0.6169903874397278, 0.1970844268798828, 0.1970844268798828, 0.1970844268798828, 0.1970844268798828, 0.10720926523208618, 0.12274684011936188, 0.1351768970489502, 0.0745803639292717, 0.08234915137290955, 0.09322544932365417, 0.09788672626018524, 0.08079539239406586, 0.11808557063341141, 0.0901179388165474, 0.09566155821084976, 0.10021687299013138, 0.09566155821084976, 0.09566155821084976, 0.104772187769413, 0.08199562132358551, 0.10021687299013138, 0.09110625088214874, 0.09110625088214874, 0.14121468365192413, 0.09510526806116104, 0.0967036709189415, 0.0967036709189415, 0.10229810327291489, 0.12547501921653748, 0.11988058686256409, 0.07592437416315079, 0.11348695307970047, 0.09510526806116104, 0.0791211873292923, 0.11002018302679062, 0.08801614493131638, 0.10601945221424103, 0.08401541411876678, 0.13602495193481445, 0.10801982134580612, 0.0780143141746521, 0.11202055215835571, 0.06601211428642273, 0.1140209212899208, 0.10403639823198318, 0.09498975425958633, 0.09272809326648712, 0.07463480532169342, 0.14926961064338684, 0.08594311028718948, 0.08141978830099106, 0.10177473723888397, 0.10403639823198318, 0.10855972021818161, 0.14870789647102356, 0.10104511678218842, 0.12773627042770386, 0.11439069360494614, 0.11629720777273178, 0.10676465183496475, 0.09913860261440277, 0.059101857244968414, 0.06863441318273544, 0.06100837141275406, 0.0702144056558609, 0.10379520803689957, 0.10379520803689957, 0.180115208029747, 0.10684800893068314, 0.08242560178041458, 0.09768960624933243, 0.0702144056558609, 0.1099008098244667, 0.07632000744342804, 0.08642151206731796, 0.10548508167266846, 0.08642151206731796, 0.09150513261556625, 0.12327774614095688, 0.10929779708385468, 0.09531784802675247, 0.11438141018152237, 0.08515060693025589, 0.10167236626148224, 0.22641462087631226, 0.22641462087631226, 0.10106176137924194, 0.09646804630756378, 0.10106176137924194, 0.12403034418821335, 0.09187433123588562, 0.07809317857027054, 0.10106176137924194, 0.0826869010925293, 0.1424052119255066, 0.08728061616420746, 0.09131040424108505, 0.10044144093990326, 0.09131040424108505, 0.08217936009168625, 0.08217936009168625, 0.10957248508930206, 0.10957248508930206, 0.07304832339286804, 0.10957248508930206, 0.1552276760339737, 0.3231714069843292, 0.1527295559644699, 0.1527295559644699, 0.1527295559644699, 0.1527295559644699, 0.1527295559644699, 0.1527295559644699, 0.1527295559644699, 0.11533470451831818, 0.1441158652305603, 0.08970476686954498, 0.09600721299648285, 0.10336006432771683, 0.0806712657213211, 0.10714152455329895, 0.08172167837619781, 0.10945242643356323, 0.07226800918579102, 0.12308204919099808, 0.09846563637256622, 0.10725720971822739, 0.09846563637256622, 0.10549889504909515, 0.08439911901950836, 0.0756075456738472, 0.08791574835777283, 0.07736586034297943, 0.14242351055145264, 0.07614497095346451, 0.11035503447055817, 0.17767159640789032, 0.10042308270931244, 0.06731656938791275, 0.10594083368778229, 0.08497337251901627, 0.06290236860513687, 0.09600887447595596, 0.11697633564472198, 0.32324719429016113, 0.08243050426244736, 0.09891660511493683, 0.09273431450128555, 0.11334194242954254, 0.07418745011091232, 0.08861278742551804, 0.11952422559261322, 0.12982803583145142, 0.0803697407245636, 0.11952422559261322, 0.10525563359260559, 0.08539607375860214, 0.08936798572540283, 0.0834101215004921, 0.14298878610134125, 0.09333989769220352, 0.08539607375860214, 0.10525563359260559, 0.10724158585071564, 0.10326967388391495, 0.13972924649715424, 0.11806000769138336, 0.07098544389009476, 0.0859297513961792, 0.09190747141838074, 0.11208228766918182, 0.06426051259040833, 0.10610456019639969, 0.10386291891336441, 0.10685177892446518, 0.10958545655012131, 0.11654326319694519, 0.06609916687011719, 0.08175422996282578, 0.08175422996282578, 0.1008882001042366, 0.11306436359882355, 0.09393039345741272, 0.11132490634918213, 0.1269799768924713, 0.32281896471977234, 0.32281896471977234, 0.32281896471977234, 0.16978351771831512, 0.16978351771831512, 0.16978351771831512, 0.16978351771831512, 0.16978351771831512, 0.16978351771831512, 0.16978351771831512, 0.08039999008178711, 0.08486665785312653, 0.11836665868759155, 0.08933332562446594, 0.13846665620803833, 0.11389999091625214, 0.12729999423027039, 0.08709999173879623, 0.08933332562446594, 0.06923332810401917, 0.12960053980350494, 0.12960053980350494, 0.12960053980350494, 0.2592010796070099, 0.12960053980350494, 0.12960053980350494, 0.2667034864425659, 0.2667034864425659, 0.3227671682834625, 0.1209716647863388, 0.10472173988819122, 0.11104115843772888, 0.09569400548934937, 0.09118013828992844, 0.10743006318807602, 0.08305517584085464, 0.08034685254096985, 0.12277721613645554, 0.08395794779062271, 0.32378441095352173, 0.32378441095352173, 0.10626136511564255, 0.14773468673229218, 0.10020850598812103, 0.12083307653665543, 0.13271461427211761, 0.07622123509645462, 0.09056875854730606, 0.07532451301813126, 0.05918354541063309, 0.09124130010604858, 0.10957641154527664, 0.21915282309055328, 0.05478820577263832, 0.10957641154527664, 0.10957641154527664, 0.16436462104320526, 0.05478820577263832, 0.05478820577263832, 0.05478820577263832, 0.05478820577263832, 0.10806186497211456, 0.09449130296707153, 0.07689984142780304, 0.09901482611894608, 0.1100723147392273, 0.14022912085056305, 0.10353834182024002, 0.10755924880504608, 0.0839364230632782, 0.07689984142780304, 0.13872484862804413, 0.13872484862804413, 0.13872484862804413, 0.13872484862804413, 0.13872484862804413, 0.13872484862804413, 0.13872484862804413, 0.13872484862804413, 0.13872484862804413, 0.1132807731628418, 0.08980163931846619, 0.10722944885492325, 0.10892382264137268, 0.1113443523645401, 0.10505097359418869, 0.10359866172075272, 0.08520263433456421, 0.07987747341394424, 0.09561090916395187, 0.10903489589691162, 0.08793136477470398, 0.08793136477470398, 0.11606940627098083, 0.07034509629011154, 0.14069019258022308, 0.10903489589691162, 0.10551764070987701, 0.0984831303358078, 0.07737959921360016, 0.22671720385551453, 0.22671720385551453, 0.22671720385551453, 0.22668549418449402, 0.22668549418449402, 0.1096901074051857, 0.1096901074051857, 0.05484505370259285, 0.1096901074051857, 0.05484505370259285, 0.1096901074051857, 0.1096901074051857, 0.16453516483306885, 0.05484505370259285, 0.05484505370259285, 0.19700413942337036, 0.09850206971168518, 0.09850206971168518, 0.09850206971168518, 0.09850206971168518, 0.19700413942337036, 0.19700413942337036, 0.09850206971168518, 0.3232645094394684, 0.3233509957790375, 0.09994250535964966, 0.09994250535964966, 0.09994250535964966, 0.08280950039625168, 0.06282100081443787, 0.09708700329065323, 0.13420850038528442, 0.11136450618505478, 0.11136450618505478, 0.09994250535964966, 0.3231481611728668, 0.3231481611728668, 0.16952702403068542, 0.16952702403068542, 0.16952702403068542, 0.16952702403068542, 0.16952702403068542, 0.16952702403068542, 0.26616591215133667, 0.26616591215133667, 0.1050235778093338, 0.09589109569787979, 0.17580033838748932, 0.09589109569787979, 0.09817421436309814, 0.09360796958208084, 0.07762612402439117, 0.07762612402439117, 0.09132485091686249, 0.08904173225164413, 0.2665206789970398, 0.2665206789970398, 0.10005846619606018, 0.1378163844347, 0.1132737323641777, 0.10005846619606018, 0.11138583719730377, 0.1132737323641777, 0.0774037167429924, 0.09817057102918625, 0.05663686618208885, 0.09061899036169052, 0.08453141152858734, 0.08453141152858734, 0.08453141152858734, 0.08453141152858734, 0.2535942494869232, 0.08453141152858734, 0.08453141152858734, 0.08453141152858734, 0.08453141152858734, 0.08453141152858734, 0.32331234216690063, 0.10966818034648895, 0.09031496942043304, 0.12773117423057556, 0.12386053055524826, 0.12902139127254486, 0.08515411615371704, 0.07225197553634644, 0.09805625677108765, 0.09031496942043304, 0.07354219257831573, 0.1046469435095787, 0.12092535942792892, 0.07441560178995132, 0.11162340641021729, 0.08604304492473602, 0.13720376789569855, 0.12325084209442139, 0.08604304492473602, 0.09069401770830154, 0.06743913888931274, 0.11062202602624893, 0.09095589071512222, 0.10078895837068558, 0.10324722528457642, 0.11062202602624893, 0.14257949590682983, 0.08358108997344971, 0.10078895837068558, 0.08358108997344971, 0.07620628923177719, 0.2660551071166992, 0.2660551071166992, 0.0877613052725792, 0.11701507866382599, 0.07069660723209381, 0.08044786751270294, 0.0999503806233406, 0.10482600331306458, 0.08288568258285522, 0.09019912034273148, 0.10238818824291229, 0.1584579199552536, 0.17427629232406616, 0.08713814616203308, 0.08713814616203308, 0.08713814616203308, 0.17427629232406616, 0.08713814616203308, 0.17427629232406616, 0.08713814616203308, 0.08713814616203308, 0.08713814616203308, 0.32322201132774353, 0.32322201132774353, 0.08024876564741135, 0.1261052042245865, 0.09744492918252945, 0.08598081767559052, 0.10317698121070862, 0.14903341233730316, 0.08598081767559052, 0.06878465414047241, 0.08598081767559052, 0.11464108526706696, 0.3235774338245392, 0.3939785659313202, 0.1969892829656601, 0.1969892829656601, 0.32332277297973633, 0.16993774473667145, 0.16993774473667145, 0.16993774473667145, 0.16993774473667145, 0.32343634963035583, 0.32343634963035583, 0.09285694360733032, 0.09285694360733032, 0.09285694360733032, 0.09285694360733032, 0.09285694360733032, 0.09285694360733032, 0.18571388721466064, 0.09285694360733032, 0.09285694360733032, 0.09285694360733032, 0.3234454393386841, 0.10772086679935455, 0.09729626774787903, 0.1667935997247696, 0.09729626774787903, 0.06602247059345245, 0.09034653753042221, 0.09382139891386032, 0.0833967998623848, 0.10077113658189774, 0.09729626774787903, 0.10598698258399963, 0.1115652397274971, 0.15619133412837982, 0.08367393165826797, 0.07809566706418991, 0.08925219625234604, 0.06693914532661438, 0.07809566706418991, 0.0948304533958435, 0.13945655524730682, 0.19119006395339966, 0.19119006395339966, 0.19119006395339966, 0.19119006395339966, 0.19119006395339966, 0.3235444724559784, 0.3235444724559784, 0.06979452818632126, 0.13958905637264252, 0.06979452818632126, 0.06979452818632126, 0.06979452818632126, 0.06979452818632126, 0.06979452818632126, 0.06979452818632126, 0.06979452818632126, 0.20938357710838318, 0.22679369151592255, 0.22679369151592255, 0.32322022318840027, 0.32322022318840027, 0.3233596682548523, 0.3233596682548523, 0.4388192892074585, 0.13180853426456451, 0.09611038863658905, 0.10709443688392639, 0.10434842109680176, 0.09611038863658905, 0.07414229959249496, 0.13455455005168915, 0.0851263478398323, 0.08238033205270767, 0.08787235617637634, 0.08496536314487457, 0.09585835784673691, 0.07842956483364105, 0.11982294172048569, 0.11546574532985687, 0.11110854893922806, 0.08278676122426987, 0.0915011540055275, 0.07407236844301224, 0.14378753304481506, 0.32300031185150146, 0.10800604522228241, 0.10970693081617355, 0.13181839883327484, 0.0926981046795845, 0.09524942934513092, 0.09695030748844147, 0.10035207122564316, 0.12756618857383728, 0.08759545534849167, 0.05102647840976715, 0.32338929176330566, 0.32338929176330566, 0.6181192398071289, 0.32300788164138794, 0.07453570514917374, 0.11712753772735596, 0.10647958517074585, 0.06388775259256363, 0.06921172887086868, 0.12777550518512726, 0.07985968887805939, 0.10647958517074585, 0.15439540147781372, 0.09583162516355515, 0.09985378384590149, 0.08682937920093536, 0.09117084741592407, 0.14109773933887482, 0.08900011330842972, 0.11721965670585632, 0.08682937920093536, 0.11070745438337326, 0.10636598616838455, 0.07163423299789429, 0.1357370913028717, 0.1357370913028717, 0.1357370913028717, 0.1357370913028717, 0.1357370913028717, 0.1357370913028717, 0.1357370913028717, 0.07416150718927383, 0.1089903935790062, 0.0975809246301651, 0.10238490998744965, 0.09307719022035599, 0.09367769211530685, 0.11529561877250671, 0.11349412798881531, 0.10328566282987595, 0.09788117557764053, 0.1699037253856659, 0.1699037253856659, 0.1699037253856659, 0.1699037253856659, 0.1699037253856659, 0.1699037253856659, 0.09602135419845581, 0.1229364275932312, 0.09311161935329437, 0.07929036021232605, 0.08874700963497162, 0.11638952046632767, 0.10184083133935928, 0.09602135419845581, 0.09165674448013306, 0.11420721560716629, 0.12236862629652023, 0.11517047137022018, 0.07198154181241989, 0.10077416151762009, 0.06478338688611984, 0.09357600659132004, 0.07558061927556992, 0.14036400616168976, 0.13676492869853973, 0.08277877420186996, 0.3226455748081207, 0.3226455748081207, 0.3226455748081207, 0.3229396641254425, 0.3229396641254425, 0.0743226706981659, 0.09053852409124374, 0.129726842045784, 0.08513323962688446, 0.12161891162395477, 0.07972795516252518, 0.09594380855560303, 0.12567287683486938, 0.12567287683486938, 0.07162002474069595, 0.1425173133611679, 0.08788567036390305, 0.08551038801670074, 0.09501153975725174, 0.08313509821891785, 0.0890733152627945, 0.11520148813724518, 0.08313509821891785, 0.11163856089115143, 0.10688798129558563, 0.1048324927687645, 0.10207374393939972, 0.11448811739683151, 0.1158674955368042, 0.09655624628067017, 0.10069436579942703, 0.13379935920238495, 0.08552124351263046, 0.06483062356710434, 0.08000374585390091, 0.11005868762731552, 0.06738287210464478, 0.11005868762731552, 0.11230478435754776, 0.12128916382789612, 0.06513677537441254, 0.10107430815696716, 0.13925793766975403, 0.07636725157499313, 0.09433601796627045, 0.08417169004678726, 0.12404248863458633, 0.1166590079665184, 0.14619293808937073, 0.09746195375919342, 0.08860177546739578, 0.0945085659623146, 0.07826490700244904, 0.10632213205099106, 0.06645133346319199, 0.10841087996959686, 0.08130816370248795, 0.1032484620809555, 0.09808603674173355, 0.10582967102527618, 0.09034240245819092, 0.10712027549743652, 0.07614573836326599, 0.10841087996959686, 0.12131693959236145, 0.11762826144695282, 0.10441867262125015, 0.09183810651302338, 0.11385408788919449, 0.09938644617795944, 0.09246713668107986, 0.1245475709438324, 0.07170920819044113, 0.07674143463373184, 0.1075638085603714, 0.32283148169517517, 0.34004920721054077, 0.11335630714893341, 0.0958130732178688, 0.07961931079626083, 0.08636671304702759, 0.09311410784721375, 0.12280266731977463, 0.11335630714893341, 0.0958130732178688, 0.09851203113794327, 0.10121098905801773, 0.19701598584651947, 0.19701598584651947, 0.3230060040950775, 0.323089599609375, 0.14183123409748077, 0.14183123409748077, 0.14183123409748077, 0.28366246819496155, 0.14183123409748077, 0.14183123409748077, 0.2663049101829529, 0.2663049101829529, 0.16978295147418976, 0.16978295147418976, 0.16978295147418976, 0.16978295147418976, 0.16978295147418976, 0.16978295147418976, 0.2666957378387451, 0.2666957378387451, 0.2666957378387451, 0.10594090819358826, 0.10594090819358826, 0.09560520946979523, 0.11110875755548477, 0.09560520946979523, 0.0852695107460022, 0.08785343170166016, 0.14469976723194122, 0.09560520946979523, 0.07234988361597061, 0.10006070137023926, 0.08737695217132568, 0.10428862273693085, 0.09442348033189774, 0.12824681401252747, 0.11979097872972488, 0.08596764504909515, 0.08033042401075363, 0.10851653665304184, 0.09019555896520615, 0.1135539710521698, 0.06742267310619354, 0.10290828347206116, 0.09935972839593887, 0.08339119702577591, 0.09581116586923599, 0.11177968978881836, 0.08516547828912735, 0.11000540852546692, 0.12952250242233276, 0.2265041172504425, 0.2265041172504425, 0.2265041172504425, 0.12691277265548706, 0.11104866862297058, 0.15864096581935883, 0.08725252747535706, 0.0951845720410347, 0.07932048290967941, 0.10311662405729294, 0.08725252747535706, 0.07932048290967941, 0.08725252747535706, 0.4388701617717743, 0.11213274300098419, 0.10460144281387329, 0.09874375909566879, 0.133889839053154, 0.0644344910979271, 0.08033391088247299, 0.10125419497489929, 0.10543825477361679, 0.08953883498907089, 0.10878550261259079, 0.32343804836273193, 0.32343804836273193, 0.17446622252464294, 0.17446622252464294, 0.17446622252464294, 0.17446622252464294, 0.17446622252464294, 0.17446622252464294, 0.3232187330722809, 0.3232187330722809, 0.32276079058647156, 0.32276079058647156, 0.10163188725709915, 0.2032637745141983, 0.2032637745141983, 0.10163188725709915, 0.10163188725709915, 0.10163188725709915, 0.10163188725709915, 0.10163188725709915, 0.10163188725709915, 0.10163188725709915, 0.10977448523044586, 0.06860905140638351, 0.17838354408740997, 0.10977448523044586, 0.06860905140638351, 0.0823308676481247, 0.0823308676481247, 0.13721810281276703, 0.09605267643928528, 0.0823308676481247, 0.08071655035018921, 0.15347513556480408, 0.10800101608037949, 0.09435878694057465, 0.10459046065807343, 0.0977693423628807, 0.09435878694057465, 0.06139005348086357, 0.11254842579364777, 0.09322193264961243, 0.3230355381965637, 0.3230355381965637, 0.08509773015975952, 0.09360750019550323, 0.11275449395179749, 0.1063721626996994, 0.1510484665632248, 0.07871539890766144, 0.09360750019550323, 0.09360750019550323, 0.08084284514188766, 0.10211727768182755, 0.0870310515165329, 0.0870310515165329, 0.1740621030330658, 0.0870310515165329, 0.3481242060661316, 0.0870310515165329, 0.0870310515165329, 0.22642967104911804, 0.22642967104911804, 0.10698721557855606, 0.09401907026767731, 0.07456684857606888, 0.09401907026767731, 0.12968148291110992, 0.08753499388694763, 0.08429296314716339, 0.10536620020866394, 0.11671333014965057, 0.10698721557855606, 0.138711616396904, 0.138711616396904, 0.138711616396904, 0.138711616396904, 0.138711616396904, 0.277423232793808, 0.138711616396904, 0.138711616396904, 0.13312119245529175, 0.08040877431631088, 0.09738395363092422, 0.12061315774917603, 0.10899855941534042, 0.1000642478466034, 0.09559709578752518, 0.09559709578752518, 0.08844964951276779, 0.07862190902233124, 0.11003949493169785, 0.0656687319278717, 0.16979211568832397, 0.11418076604604721, 0.09820728749036789, 0.0999821200966835, 0.07158482819795609, 0.12423813343048096, 0.07454288005828857, 0.07099322229623795, 0.09772225469350815, 0.09347346425056458, 0.11365523189306259, 0.06904289871454239, 0.13702359795570374, 0.09559786319732666, 0.08710027486085892, 0.09453566372394562, 0.0892246663570404, 0.12321501970291138, 0.09377788007259369, 0.18755576014518738, 0.09377788007259369, 0.09377788007259369, 0.09377788007259369, 0.09377788007259369, 0.09377788007259369, 0.09377788007259369, 0.09377788007259369, 0.09377788007259369, 0.08800963312387466, 0.08800963312387466, 0.1680183857679367, 0.09601050615310669, 0.11201225966215134, 0.08800963312387466, 0.11201225966215134, 0.08000875264406204, 0.10401137918233871, 0.06400700658559799, 0.31276604533195496, 0.15638302266597748, 0.15638302266597748, 0.15638302266597748, 0.09976430237293243, 0.0956074520945549, 0.09352903068065643, 0.0831369161605835, 0.10599956661462784, 0.13094064593315125, 0.06650952994823456, 0.08105849474668503, 0.15796014666557312, 0.08729375898838043, 0.32352131605148315, 0.11720498651266098, 0.11100001633167267, 0.10617393255233765, 0.08618014305830002, 0.08618014305830002, 0.0889379009604454, 0.11720498651266098, 0.12547828257083893, 0.0661863461136818, 0.09514287114143372, 0.11152319610118866, 0.10883589088916779, 0.09808666259050369, 0.08532196283340454, 0.11219502240419388, 0.08129100501537323, 0.12428789585828781, 0.08196283131837845, 0.09204022586345673, 0.10346127301454544, 0.0760575607419014, 0.2281726747751236, 0.1521151214838028, 0.0760575607419014, 0.0760575607419014, 0.0760575607419014, 0.0760575607419014, 0.0760575607419014, 0.0760575607419014, 0.0760575607419014, 0.057927269488573074, 0.10829880833625793, 0.12089169025421143, 0.11081738024950027, 0.12089169025421143, 0.11081738024950027, 0.057927269488573074, 0.10829880833625793, 0.1385217308998108, 0.07052015513181686, 0.11459822952747345, 0.1088683158159256, 0.0878586396574974, 0.10695834457874298, 0.13751786947250366, 0.10695834457874298, 0.07830879092216492, 0.06111905723810196, 0.10122843831777573, 0.09931846708059311, 0.11024975776672363, 0.13421709835529327, 0.07909221947193146, 0.06710854917764664, 0.08388568460941315, 0.12223342806100845, 0.1414072960615158, 0.09347262233495712, 0.07429875433444977, 0.09586935490369797, 0.22634336352348328, 0.22634336352348328, 0.08585458248853683, 0.16026188433170319, 0.09157821536064148, 0.09730185568332672, 0.08013094216585159, 0.12592004239559174, 0.09730185568332672, 0.08585458248853683, 0.08585458248853683, 0.09157821536064148, 0.1912631243467331, 0.1912631243467331, 0.1912631243467331, 0.1912631243467331, 0.1603919416666031, 0.1603919416666031, 0.1603919416666031, 0.1603919416666031, 0.1603919416666031, 0.1603919416666031, 0.32356569170951843, 0.11711709201335907, 0.12579242885112762, 0.09832052141427994, 0.07084861397743225, 0.11061058938503265, 0.07590922713279724, 0.08892223238945007, 0.1019352450966835, 0.10699585825204849, 0.10265818983316422, 0.09387718141078949, 0.06946911662817001, 0.0976322740316391, 0.10889752954244614, 0.13518314063549042, 0.0995098128914833, 0.10514244437217712, 0.0995098128914833, 0.08636701107025146, 0.10514244437217712, 0.11756343394517899, 0.11320923268795013, 0.09579242765903473, 0.1523970365524292, 0.06531301885843277, 0.06531301885843277, 0.08272982388734818, 0.11320923268795013, 0.07837562263011932, 0.11756343394517899, 0.08765718340873718, 0.10017964243888855, 0.1252245455980301, 0.09391841292381287, 0.118963323533535, 0.06887350231409073, 0.15026946365833282, 0.06261227279901505, 0.10017964243888855, 0.09391841292381287, 0.15273307263851166, 0.15273307263851166, 0.3054661452770233, 0.15273307263851166, 0.15273307263851166, 0.3233126997947693, 0.32316941022872925, 0.15341225266456604, 0.2045496702194214, 0.05113741755485535, 0.1022748351097107, 0.1022748351097107, 0.05113741755485535, 0.1022748351097107, 0.05113741755485535, 0.1022748351097107, 0.1022748351097107, 0.08518408983945847, 0.11794720590114594, 0.08518408983945847, 0.11139457672834396, 0.08256304264068604, 0.10091038048267365, 0.057663075625896454, 0.11008405685424805, 0.09435775876045227, 0.15595240890979767, 0.13567470014095306, 0.10323552042245865, 0.0953449010848999, 0.1543053239583969, 0.06093306466937065, 0.10718082636594772, 0.07364571839570999, 0.08723510801792145, 0.08942694216966629, 0.09293388575315475, 0.06850360333919525, 0.057086337357759476, 0.09704677015542984, 0.0913381427526474, 0.11417267471551895, 0.14842447638511658, 0.08562950789928436, 0.14842447638511658, 0.09704677015542984, 0.0913381427526474, 0.1056559756398201, 0.07043731957674026, 0.12913508713245392, 0.09391642361879349, 0.09000323712825775, 0.10956916213035583, 0.06652413308620453, 0.08609005808830261, 0.10956916213035583, 0.14478781819343567, 0.10513877123594284, 0.0871882438659668, 0.11026749014854431, 0.09231697022914886, 0.09744568914175034, 0.11796057224273682, 0.1538616120815277, 0.07436644285917282, 0.06923772394657135, 0.09231697022914886, 0.32304003834724426, 0.32330387830734253, 0.32330387830734253, 0.06658169627189636, 0.09987255185842514, 0.10403390228748322, 0.07906576991081238, 0.17061559855937958, 0.10403390228748322, 0.08738847821950912, 0.08738847821950912, 0.10819526016712189, 0.0915498360991478, 0.15273624658584595, 0.15273624658584595, 0.15273624658584595, 0.15273624658584595, 0.15273624658584595, 0.15273624658584595, 0.15273624658584595, 0.32295435667037964, 0.32295435667037964, 0.0883677527308464, 0.07732178270816803, 0.07732178270816803, 0.09941372275352478, 0.09941372275352478, 0.09941372275352478, 0.09941372275352478, 0.09941372275352478, 0.16016654670238495, 0.0883677527308464, 0.11069365590810776, 0.1245303675532341, 0.05534682795405388, 0.06918353587388992, 0.09685695171356201, 0.09685695171356201, 0.11069365590810776, 0.09685695171356201, 0.16604048013687134, 0.08302024006843567, 0.11053486913442612, 0.10270939022302628, 0.11053486913442612, 0.08803662657737732, 0.11249124258756638, 0.09194935858249664, 0.10270939022302628, 0.09586209803819656, 0.09781847149133682, 0.08705843985080719, 0.08696775138378143, 0.09040068835020065, 0.10756537318229675, 0.09383362531661987, 0.12816299498081207, 0.09612224996089935, 0.13045161962509155, 0.0743803158402443, 0.07895756512880325, 0.11328694224357605, 0.1438349038362503, 0.12507383525371552, 0.09380537271499634, 0.07660772651433945, 0.10005906969308853, 0.09224195033311844, 0.08598826080560684, 0.10631275922060013, 0.07191745191812515, 0.10318591445684433, 0.2660394608974457, 0.09991716593503952, 0.09991716593503952, 0.09991716593503952, 0.09991716593503952, 0.09991716593503952, 0.09991716593503952, 0.09991716593503952, 0.19983433187007904, 0.09991716593503952, 0.09991716593503952, 0.08767890930175781, 0.0596216581761837, 0.11222900450229645, 0.11222900450229645, 0.10872184485197067, 0.1473005712032318, 0.10170753300189972, 0.08417174965143204, 0.11573615670204163, 0.06663597375154495, 0.11527327448129654, 0.12709617614746094, 0.11231754720211029, 0.09162747114896774, 0.10049464553594589, 0.06798167526721954, 0.08571602404117584, 0.07684884965419769, 0.13300761580467224, 0.08867175132036209, 0.2664233148097992, 0.2664233148097992, 0.2659389078617096, 0.2659389078617096, 0.2659389078617096, 0.265873521566391, 0.265873521566391, 0.265873521566391, 0.1237366572022438, 0.1299234926700592, 0.1252833604812622, 0.069601871073246, 0.0866156592965126, 0.08970907330513, 0.091255784034729, 0.0757886990904808, 0.1237366572022438, 0.0835222452878952, 0.13856156170368195, 0.13856156170368195, 0.13856156170368195, 0.13856156170368195, 0.13856156170368195, 0.13856156170368195, 0.2771231234073639, 0.13856156170368195, 0.08713924884796143, 0.17427849769592285, 0.09958771616220474, 0.08713924884796143, 0.09958771616220474, 0.0746907889842987, 0.09958771616220474, 0.09958771616220474, 0.08713924884796143, 0.09958771616220474, 0.09872234612703323, 0.11770740896463394, 0.08353429287672043, 0.07973727583885193, 0.08733130246400833, 0.15188053250312805, 0.11011338233947754, 0.08733130246400833, 0.11011338233947754, 0.07594026625156403, 0.43801191449165344, 0.12961573898792267, 0.12961573898792267, 0.12961573898792267, 0.25923147797584534, 0.12961573898792267, 0.12961573898792267, 0.12961573898792267, 0.3226560950279236, 0.15046602487564087, 0.0952654704451561, 0.11040110886096954, 0.09971713274717331, 0.10862044245004654, 0.11841408908367157, 0.059652213007211685, 0.0979364663362503, 0.07745884358882904, 0.08191049844026566, 0.3399854898452759, 0.13889992237091064, 0.13889992237091064, 0.13889992237091064, 0.2777998447418213, 0.11923091858625412, 0.10798271745443344, 0.0832366794347763, 0.09898415952920914, 0.10723283886909485, 0.09073547273874283, 0.09898415952920914, 0.11773115396499634, 0.08623619377613068, 0.08998559415340424, 0.32316726446151733, 0.13995668292045593, 0.08510878682136536, 0.10780446976423264, 0.09834793210029602, 0.10591316223144531, 0.09078270941972733, 0.11347838491201401, 0.07565225660800934, 0.07754356414079666, 0.10402185469865799, 0.26647713780403137, 0.32356035709381104, 0.32356035709381104, 0.10410134494304657, 0.12208248674869537, 0.10977960377931595, 0.08706658333539963, 0.08328107744455338, 0.12113611400127411, 0.10504772514104843, 0.09936946630477905, 0.08801295608282089, 0.08138832449913025, 0.19093483686447144, 0.19093483686447144, 0.19093483686447144, 0.19093483686447144, 0.4386998116970062, 0.19694457948207855, 0.19694457948207855, 0.08568854629993439, 0.07078619301319122, 0.09686531126499176, 0.10431648790836334, 0.0782373696565628, 0.11176766455173492, 0.09686531126499176, 0.09313972294330597, 0.11549325287342072, 0.14157238602638245, 0.32367002964019775, 0.32367002964019775, 0.32367002964019775, 0.10171152651309967, 0.1211882010102272, 0.08223485201597214, 0.07033243775367737, 0.07898873835802078, 0.11361394077539444, 0.12659838795661926, 0.1190241277217865, 0.0876450389623642, 0.09954745322465897, 0.12904995679855347, 0.07988806813955307, 0.0983237773180008, 0.08603330701589584, 0.1474856734275818, 0.10139639675617218, 0.10446901619434357, 0.10139639675617218, 0.0706702172756195, 0.08296068757772446, 0.08930081129074097, 0.07813820987939835, 0.16743901371955872, 0.08930081129074097, 0.11162601411342621, 0.10046341270208359, 0.11162601411342621, 0.06697560846805573, 0.06697560846805573, 0.12278861552476883, 0.08595380932092667, 0.10916133970022202, 0.07048212736845016, 0.13838563859462738, 0.09111104160547256, 0.11259949207305908, 0.1186162605881691, 0.09454919397830963, 0.07477981597185135, 0.10486365109682083, 0.10120093822479248, 0.10580098628997803, 0.11960111558437347, 0.06900063902139664, 0.14720137417316437, 0.06900063902139664, 0.08280076831579208, 0.14720137417316437, 0.08740081638097763, 0.07360068708658218, 0.24930350482463837, 0.24930350482463837, 0.12465175241231918, 0.12465175241231918, 0.12465175241231918, 0.12465175241231918, 0.12465175241231918, 0.09606445580720901, 0.09006042778491974, 0.11407653987407684, 0.16210876405239105, 0.07204834371805191, 0.06604431569576263, 0.09006042778491974, 0.08405639976263046, 0.09606445580720901, 0.13208863139152527, 0.43792447447776794, 0.10873734951019287, 0.10873734951019287, 0.10873734951019287, 0.10873734951019287, 0.10873734951019287, 0.21747469902038574, 0.10873734951019287, 0.10873734951019287, 0.10873734951019287, 0.10873734951019287, 0.13155385851860046, 0.11890444159507751, 0.07336656749248505, 0.12649409472942352, 0.08728092163801193, 0.09866538643836975, 0.08222115784883499, 0.07589644938707352, 0.11637455970048904, 0.0898108035326004, 0.11728554219007492, 0.10003766417503357, 0.06899149715900421, 0.07934021949768066, 0.10003766417503357, 0.08968894183635712, 0.16213001310825348, 0.09313851594924927, 0.10348723828792572, 0.08968894183635712, 0.11274929344654083, 0.09470940381288528, 0.09921937435865402, 0.08568946272134781, 0.09470940381288528, 0.1082393229007721, 0.10372935235500336, 0.0721595510840416, 0.13529914617538452, 0.09019943326711655, 0.09778018295764923, 0.09147178381681442, 0.1545557677745819, 0.06939239054918289, 0.09147178381681442, 0.13563057780265808, 0.0788549855351448, 0.10408858209848404, 0.09778018295764923, 0.08516338467597961, 0.26619192957878113, 0.136326402425766, 0.062482934445142746, 0.136326402425766, 0.1476869434118271, 0.08520400524139404, 0.11076520383358002, 0.07384347170591354, 0.12496586889028549, 0.056802667677402496, 0.06532306969165802, 0.12238003313541412, 0.0941384881734848, 0.10954296588897705, 0.102981798350811, 0.10526394098997116, 0.0778781995177269, 0.12608851492404938, 0.10098492354154587, 0.10098492354154587, 0.059906307607889175, 0.26656070351600647, 0.26656070351600647, 0.32298439741134644, 0.32298439741134644, 0.32298439741134644, 0.12071935087442398, 0.06651882827281952, 0.14042863249778748, 0.08869177103042603, 0.11332837492227554, 0.11332837492227554, 0.11332837492227554, 0.09115543216466904, 0.07637347280979156, 0.07883712649345398, 0.09956204146146774, 0.09956204146146774, 0.09956204146146774, 0.08492056280374527, 0.10249033570289612, 0.1054186299443245, 0.06442249566316605, 0.1054186299443245, 0.09370545297861099, 0.13762988150119781, 0.1418413668870926, 0.1418413668870926, 0.1418413668870926, 0.1418413668870926, 0.1418413668870926, 0.1418413668870926, 0.1418413668870926, 0.08894528448581696, 0.08301559835672379, 0.08894528448581696, 0.09487497061491013, 0.10673434287309647, 0.16603119671344757, 0.09487497061491013, 0.1008046567440033, 0.09487497061491013, 0.08301559835672379, 0.1356489360332489, 0.1356489360332489, 0.1356489360332489, 0.1356489360332489, 0.1356489360332489, 0.1356489360332489, 0.1356489360332489, 0.2712978720664978, 0.32319334149360657, 0.32302579283714294, 0.16737712919712067, 0.12016819417476654, 0.0901261493563652, 0.07295925915241241, 0.15879368782043457, 0.06866753846406937, 0.06008409708738327, 0.09441787004470825, 0.051500655710697174, 0.11587647348642349, 0.18856385350227356, 0.1015343889594078, 0.08702947199344635, 0.13054421544075012, 0.08702947199344635, 0.07252456247806549, 0.08702947199344635, 0.07252456247806549, 0.11603929847478867, 0.07252456247806549, 0.134067103266716, 0.067033551633358, 0.067033551633358, 0.067033551633358, 0.2011006623506546, 0.067033551633358, 0.134067103266716, 0.067033551633358, 0.067033551633358, 0.134067103266716, 0.34016433358192444, 0.19692836701869965, 0.19692836701869965, 0.19692836701869965, 0.19692836701869965, 0.32370686531066895, 0.1564921885728836, 0.1564921885728836, 0.1564921885728836, 0.3129843771457672, 0.1564921885728836, 0.1564921885728836, 0.08776184916496277, 0.08556780219078064, 0.09214994311332703, 0.09873208403587341, 0.08776184916496277, 0.12286659330129623, 0.07020948082208633, 0.10092613101005554, 0.11409040540456772, 0.14041896164417267, 0.11924729496240616, 0.09539783746004105, 0.1609838455915451, 0.09539783746004105, 0.07751074433326721, 0.07751074433326721, 0.11328493058681488, 0.08943547308444977, 0.08943547308444977, 0.09539783746004105, 0.12128780037164688, 0.07718314975500107, 0.09647893160581589, 0.08269622921943665, 0.0937223955988884, 0.08820930868387222, 0.12680087983608246, 0.1405835896730423, 0.08269622921943665, 0.09647893160581589, 0.43810024857521057, 0.3825538754463196, 0.1912769377231598, 0.1912769377231598, 0.6179023385047913, 0.11409284919500351, 0.09419293701648712, 0.15389268100261688, 0.10480622202157974, 0.07694634050130844, 0.11077620089054108, 0.07561968266963959, 0.10944953560829163, 0.098836250603199, 0.062353070825338364, 0.14376989006996155, 0.09528934955596924, 0.112006776034832, 0.10197632014751434, 0.10866329073905945, 0.07355669140815735, 0.09528934955596924, 0.07857191562652588, 0.09361760318279266, 0.09696108847856522, 0.10592249780893326, 0.08867930620908737, 0.1305556446313858, 0.10099587589502335, 0.07389941811561584, 0.10838581621646881, 0.1527254730463028, 0.09853255748748779, 0.05665622279047966, 0.08128935843706131, 0.17438696324825287, 0.17438696324825287, 0.17438696324825287, 0.17438696324825287, 0.17438696324825287, 0.2660502791404724, 0.3230331540107727, 0.10516846179962158, 0.08382993191480637, 0.1356520801782608, 0.10059592127799988, 0.09297502040863037, 0.09297502040863037, 0.08992666006088257, 0.07925739139318466, 0.11126518994569778, 0.10821682214736938, 0.07942289113998413, 0.07942289113998413, 0.07942289113998413, 0.0595671720802784, 0.13899005949497223, 0.09927862137556076, 0.15884578227996826, 0.07942289113998413, 0.07942289113998413, 0.1191343441605568, 0.12476952373981476, 0.08245638012886047, 0.11175008863210678, 0.09005104750394821, 0.13453409075737, 0.0987306609749794, 0.10415542870759964, 0.0629272386431694, 0.09981561452150345, 0.09113600105047226, 0.16972492635250092, 0.16972492635250092, 0.16972492635250092, 0.16972492635250092, 0.16972492635250092, 0.16972492635250092, 0.16972492635250092, 0.16972492635250092, 0.19118088483810425, 0.19118088483810425, 0.19118088483810425, 0.1387941688299179, 0.1387941688299179, 0.1387941688299179, 0.1387941688299179, 0.1387941688299179, 0.1387941688299179, 0.1387941688299179, 0.1078164279460907, 0.13348700106143951, 0.1078164279460907, 0.10268231481313705, 0.08727996796369553, 0.07872310280799866, 0.09241408109664917, 0.06503213196992874, 0.10439368337392807, 0.11808466166257858, 0.26601406931877136, 0.26601406931877136, 0.13342981040477753, 0.1154681146144867, 0.10263831913471222, 0.07697874307632446, 0.08595959097146988, 0.10135534405708313, 0.09237448871135712, 0.1039213016629219, 0.09237448871135712, 0.09750640392303467, 0.07450266182422638, 0.1552138775587082, 0.10864971578121185, 0.09623260796070099, 0.06518983095884323, 0.0993368849158287, 0.09312833100557327, 0.12417110055685043, 0.11485826969146729, 0.07450266182422638, 0.3235233426094055, 0.3235233426094055, 0.1104297935962677, 0.11377614736557007, 0.10708343982696533, 0.10708343982696533, 0.07194668054580688, 0.11712250858545303, 0.09202482551336288, 0.0702735036611557, 0.13385429978370667, 0.07529304176568985, 0.17462491989135742, 0.17462491989135742, 0.17462491989135742, 0.08939941227436066, 0.13622766733169556, 0.093656525015831, 0.10217075794935226, 0.1064278706908226, 0.08514229208230972, 0.08514229208230972, 0.11068498343229294, 0.08514229208230972, 0.10429931432008743, 0.09968321770429611, 0.09968321770429611, 0.12460402399301529, 0.10217530280351639, 0.0897148996591568, 0.09220697730779648, 0.07476241141557693, 0.1121436208486557, 0.06977825611829758, 0.13706442713737488, 0.6180022954940796, 0.3402700424194336, 0.3402700424194336, 0.0925421416759491, 0.10576245188713074, 0.08427945524454117, 0.11237260699272156, 0.10080483555793762, 0.08262691646814346, 0.08097437769174576, 0.1553386002779007, 0.08593199402093887, 0.09915229678153992, 0.10543826222419739, 0.0746360793709755, 0.11373116075992584, 0.08885247260332108, 0.10899236798286438, 0.10188416391611099, 0.08174427598714828, 0.12083935737609863, 0.11017706245183945, 0.09359127283096313, 0.10004397481679916, 0.10004397481679916, 0.10004397481679916, 0.10004397481679916, 0.20008794963359833, 0.10004397481679916, 0.10004397481679916, 0.10004397481679916, 0.10004397481679916, 0.10004397481679916, 0.27802738547325134, 0.0935370996594429, 0.12380801141262054, 0.1410624235868454, 0.07265017926692963, 0.16285747289657593, 0.08899646252393723, 0.07083392143249512, 0.1132131889462471, 0.06810954213142395, 0.06477974355220795, 0.09181659668684006, 0.1341005563735962, 0.08819225430488586, 0.11839508265256882, 0.08215168863534927, 0.08819225430488586, 0.09423281997442245, 0.10389772802591324, 0.09423281997442245, 0.10510583966970444, 0.0848565325140953, 0.09344960004091263, 0.098820261657238, 0.10633919388055801, 0.09774612635374069, 0.1052650660276413, 0.12782186269760132, 0.10419093072414398, 0.07304106652736664, 0.10956159234046936, 0.32338395714759827, 0.0940457433462143, 0.0940457433462143, 0.0940457433462143, 0.0940457433462143, 0.0626971647143364, 0.17241719365119934, 0.10972003638744354, 0.0940457433462143, 0.07837145030498505, 0.10972003638744354, 0.08628296852111816, 0.1033969447016716, 0.1369118094444275, 0.09911844879388809, 0.09555303305387497, 0.10981468111276627, 0.06916899234056473, 0.1033969447016716, 0.06845590472221375, 0.1276417374610901, 0.11027461290359497, 0.1020040214061737, 0.09097655862569809, 0.11027461290359497, 0.09373342245817184, 0.09373342245817184, 0.14335699379444122, 0.08821969479322433, 0.07994909584522247, 0.08546282351016998, 0.16990388929843903, 0.16990388929843903, 0.16990388929843903, 0.16990388929843903, 0.32305440306663513, 0.32305440306663513, 0.19756706058979034, 0.08780758082866669, 0.13171136379241943, 0.06585568189620972, 0.08780758082866669, 0.08780758082866669, 0.10975947231054306, 0.06585568189620972, 0.06585568189620972, 0.08780758082866669, 0.6181911826133728, 0.09306851774454117, 0.11400894075632095, 0.15123634040355682, 0.10702879726886749, 0.08841509371995926, 0.10004866123199463, 0.11400894075632095, 0.06049453839659691, 0.09539523720741272, 0.07445481419563293, 0.3231493830680847, 0.3231493830680847, 0.08995551615953445, 0.1475270539522171, 0.09715196490287781, 0.14392882585525513, 0.10075018554925919, 0.07916085422039032, 0.07556263357400894, 0.07556263357400894, 0.08995551615953445, 0.10075018554925919, 0.09513980895280838, 0.12147795408964157, 0.09137722104787827, 0.12362800538539886, 0.07793939113616943, 0.10320250689983368, 0.08600208908319473, 0.09621483832597733, 0.1209404394030571, 0.08438955247402191, 0.10344259440898895, 0.08411815762519836, 0.11594664305448532, 0.10344259440898895, 0.11139971762895584, 0.12390376627445221, 0.08411815762519836, 0.09548547118902206, 0.11139971762895584, 0.06706717610359192, 0.11841115355491638, 0.07215679436922073, 0.08510801941156387, 0.12766201794147491, 0.09065853804349899, 0.1221114993095398, 0.12951220571994781, 0.094358891248703, 0.07030662149190903, 0.08880836516618729, 0.26647618412971497, 0.22646468877792358, 0.3232518136501312, 0.1413055807352066, 0.09562031924724579, 0.11155703663825989, 0.10624480247497559, 0.09030807763338089, 0.11899417638778687, 0.07649625837802887, 0.07543380558490753, 0.07755870372056961, 0.10624480247497559, 0.32340478897094727, 0.12443263083696365, 0.07626515626907349, 0.14751286804676056, 0.10737331956624985, 0.0873035341501236, 0.08429306745529175, 0.10135238617658615, 0.07927562296390533, 0.08830702304840088, 0.104362852871418, 0.07634910941123962, 0.08907395601272583, 0.10975184291601181, 0.11770487576723099, 0.10816123336553574, 0.12724851071834564, 0.0906645655632019, 0.1304297298192978, 0.06998667865991592, 0.0779397115111351, 0.12459546327590942, 0.12459546327590942, 0.24919092655181885, 0.12459546327590942, 0.12459546327590942, 0.12459546327590942, 0.12459546327590942, 0.12459546327590942, 0.12459546327590942, 0.12459546327590942, 0.09362754970788956, 0.08044057339429855, 0.09758364409208298, 0.11736411601305008, 0.12263890355825424, 0.10417713224887848, 0.11868280917406082, 0.07648447901010513, 0.0949462503194809, 0.09362754970788956, 0.14080503582954407, 0.07646366208791733, 0.11469549685716629, 0.13894008100032806, 0.11283052712678909, 0.1025732085108757, 0.1063031405210495, 0.048489153385162354, 0.05408405512571335, 0.1044381782412529, 0.3234112858772278, 0.1049107164144516, 0.06676136702299118, 0.09537338465452194, 0.10014204680919647, 0.1382914036512375, 0.14782874286174774, 0.057224027812480927, 0.09537338465452194, 0.10967938601970673, 0.08583604544401169, 0.10531504452228546, 0.12623856961727142, 0.10531504452228546, 0.09485328942537308, 0.10670994967222214, 0.0969456359744072, 0.08369407802820206, 0.09555073827505112, 0.10182779282331467, 0.08299662917852402, 0.08910678327083588, 0.15363238751888275, 0.10754267126321793, 0.08910678327083588, 0.11983326077461243, 0.09525208175182343, 0.0860341340303421, 0.0983247309923172, 0.0860341340303421, 0.07681619375944138, 0.13599616289138794, 0.10199712216854095, 0.09415118396282196, 0.07322870194911957, 0.11245836317539215, 0.07061339169740677, 0.07322870194911957, 0.14384208619594574, 0.10199712216854095, 0.09153587371110916, 0.0964583307504654, 0.12861110270023346, 0.0964583307504654, 0.0964583307504654, 0.12861110270023346, 0.0964583307504654, 0.1929166615009308, 0.06430555135011673, 0.06430555135011673, 0.0964583307504654, 0.2776435613632202, 0.1388217806816101, 0.1388217806816101, 0.1388217806816101, 0.1388217806816101, 0.1388217806816101, 0.11452066153287888, 0.08148586004972458, 0.136543869972229, 0.10571137815713882, 0.08258701860904694, 0.14315083622932434, 0.0682719349861145, 0.08699166029691696, 0.08919397741556168, 0.09139630198478699, 0.32308492064476013, 0.32308492064476013, 0.10109754651784897, 0.09307393431663513, 0.12195894867181778, 0.09307393431663513, 0.0818408727645874, 0.09949282556772232, 0.1123306080698967, 0.09307393431663513, 0.06900309026241302, 0.1364014446735382, 0.10880841314792633, 0.21761682629585266, 0.10880841314792633, 0.10880841314792633, 0.10880841314792633, 0.10880841314792633, 0.10880841314792633, 0.10880841314792633, 0.10880841314792633, 0.10880841314792633, 0.06914646178483963, 0.06914646178483963, 0.13829292356967926, 0.2074393779039383, 0.06914646178483963, 0.06914646178483963, 0.06914646178483963, 0.06914646178483963, 0.06914646178483963, 0.06914646178483963, 0.3232543170452118, 0.3232543170452118, 0.08336161822080612, 0.08336161822080612, 0.08336161822080612, 0.08336161822080612, 0.08336161822080612, 0.16672323644161224, 0.08336161822080612, 0.08336161822080612, 0.08336161822080612, 0.08336161822080612, 0.19140347838401794, 0.19140347838401794, 0.19140347838401794, 0.19140347838401794, 0.19140347838401794, 0.6172875165939331, 0.32387813925743103, 0.11532328277826309, 0.10090787708759308, 0.09289931505918503, 0.09129760414361954, 0.11532328277826309, 0.10090787708759308, 0.08008561283349991, 0.08328904211521149, 0.11692500114440918, 0.10411129891872406, 0.09676632285118103, 0.09676632285118103, 0.08870246261358261, 0.16127720475196838, 0.10483018308877945, 0.09676632285118103, 0.0846705287694931, 0.10886210948228836, 0.08870246261358261, 0.07660666853189468, 0.08696838468313217, 0.08696838468313217, 0.17393676936626434, 0.13045257329940796, 0.08696838468313217, 0.043484192341566086, 0.08696838468313217, 0.08696838468313217, 0.08696838468313217, 0.043484192341566086, 0.1629687398672104, 0.1303749978542328, 0.391124963760376, 0.0325937494635582, 0.0325937494635582, 0.097781240940094, 0.1303749978542328, 0.0325937494635582, 0.32300126552581787, 0.6163637042045593, 0.6165018081665039], \"Term\": [\"accounting\", \"accounting\", \"accounts\", \"accounts\", \"accounts\", \"accounts\", \"accounts\", \"accounts\", \"accounts\", \"accounts\", \"accounts\", \"accounts\", \"accueil\", \"accueil\", \"accueil\", \"accueillant\", \"aching\", \"acrobatics\", \"acrobatics\", \"acrobatics\", \"acrobatics\", \"acrobatics\", \"actually\", \"actually\", \"actually\", \"actually\", \"actually\", \"actually\", \"actually\", \"actually\", \"actually\", \"actually\", \"advanced\", \"advanced\", \"advanced\", \"advanced\", \"advanced\", \"advanced\", \"advanced\", \"advanced\", \"advised\", \"advised\", \"advised\", \"advised\", \"advised\", \"advised\", \"advised\", \"advised\", \"advised\", \"advised\", \"aims\", \"aim\\u00e9\", \"aim\\u00e9\", \"aim\\u00e9\", \"aloo\", \"aloo\", \"amazing\", \"amazing\", \"amazing\", \"amazing\", \"amazing\", \"amazing\", \"amazing\", \"amazing\", \"amazing\", \"amazing\", \"aptive\", \"aptive\", \"ari\", \"aryon\", \"aryon\", \"asked\", \"asked\", \"asked\", \"asked\", \"asked\", \"asked\", \"asked\", \"asked\", \"asked\", \"asked\", \"authentic\", \"authentic\", \"authentic\", \"authentic\", \"authentic\", \"authentic\", \"authentic\", \"authentic\", \"authentic\", \"authentic\", \"awesome\", \"awesome\", \"awesome\", \"awesome\", \"awesome\", \"awesome\", \"awesome\", \"awesome\", \"awesome\", \"awesome\", \"backpack\", \"bad\", \"bad\", \"bad\", \"bad\", \"bad\", \"bad\", \"bad\", \"bad\", \"bad\", \"bad\", \"banking\", \"bap\", \"bap\", \"bap\", \"bap\", \"bap\", \"bap\", \"bar\", \"bar\", \"bar\", \"bar\", \"bar\", \"bar\", \"bar\", \"bar\", \"bar\", \"bar\", \"barro\", \"basa\", \"basa\", \"basa\", \"basa\", \"baths\", \"baths\", \"baths\", \"baths\", \"baths\", \"baths\", \"baths\", \"baths\", \"baths\", \"baths\", \"beaten\", \"beaten\", \"beaten\", \"beaten\", \"beaten\", \"beaten\", \"beaten\", \"beaten\", \"beause\", \"beause\", \"beause\", \"beleive\", \"beleive\", \"bello\", \"bello\", \"best\", \"best\", \"best\", \"best\", \"best\", \"best\", \"best\", \"best\", \"best\", \"best\", \"better\", \"better\", \"better\", \"better\", \"better\", \"better\", \"better\", \"better\", \"better\", \"better\", \"bible\", \"bible\", \"bible\", \"bim\", \"bim\", \"bim\", \"bingsu\", \"bingsu\", \"bingsu\", \"bingsu\", \"bingsu\", \"bingsu\", \"bingsu\", \"bio\", \"bio\", \"bit\", \"bit\", \"bit\", \"bit\", \"bit\", \"bit\", \"bit\", \"bit\", \"bit\", \"bit\", \"blooming\", \"bodied\", \"bodied\", \"bodied\", \"bonne\", \"bonne\", \"bonne\", \"bonne\", \"bonne\", \"bonne\", \"bonne\", \"bonne\", \"bonne\", \"boom\", \"boom\", \"boom\", \"booster\", \"booster\", \"brookline\", \"brooklyn\", \"brooklyn\", \"brooklyn\", \"brooklyn\", \"brooklyn\", \"brooklyn\", \"brooklyn\", \"brooklyn\", \"brooklyn\", \"brooklyn\", \"browbeaten\", \"browbeaten\", \"brows\", \"brows\", \"brows\", \"brows\", \"brows\", \"brows\", \"brows\", \"brows\", \"brows\", \"brows\", \"brunching\", \"brunching\", \"burger\", \"burger\", \"burger\", \"burger\", \"burger\", \"burger\", \"burger\", \"burger\", \"burger\", \"burger\", \"burgers\", \"burgers\", \"burgers\", \"burgers\", \"burgers\", \"burgers\", \"burgers\", \"burgers\", \"burgers\", \"burgers\", \"buried\", \"business\", \"business\", \"business\", \"business\", \"business\", \"business\", \"business\", \"business\", \"business\", \"business\", \"butcher\", \"butcher\", \"butterflies\", \"caliente\", \"caliente\", \"caliente\", \"caliente\", \"caliente\", \"called\", \"called\", \"called\", \"called\", \"called\", \"called\", \"called\", \"called\", \"called\", \"called\", \"came\", \"came\", \"came\", \"came\", \"came\", \"came\", \"came\", \"came\", \"came\", \"came\", \"car\", \"car\", \"car\", \"car\", \"car\", \"car\", \"car\", \"car\", \"car\", \"car\", \"carpaccio\", \"carpaccio\", \"carpaccio\", \"carpaccio\", \"carpaccio\", \"carpaccio\", \"carpaccio\", \"carpaccio\", \"carpaccio\", \"carvin\", \"ccw\", \"ceviche\", \"ceviche\", \"ceviche\", \"ceviche\", \"ceviche\", \"ceviche\", \"ceviche\", \"ceviche\", \"ceviche\", \"ceviche\", \"chai\", \"chai\", \"chai\", \"chai\", \"chai\", \"chai\", \"chai\", \"chai\", \"chai\", \"chai\", \"chaleureux\", \"chaleureux\", \"chaleureux\", \"chauffeured\", \"chauffeured\", \"check\", \"check\", \"check\", \"check\", \"check\", \"check\", \"check\", \"check\", \"check\", \"check\", \"cheese\", \"cheese\", \"cheese\", \"cheese\", \"cheese\", \"cheese\", \"cheese\", \"cheese\", \"cheese\", \"cheese\", \"cheesetart\", \"cheesetart\", \"cheesetart\", \"cheesetart\", \"cheesetart\", \"cheesetart\", \"cheesetart\", \"cheesetart\", \"cheesetart\", \"chicken\", \"chicken\", \"chicken\", \"chicken\", \"chicken\", \"chicken\", \"chicken\", \"chicken\", \"chicken\", \"chicken\", \"chitchatting\", \"chocolate\", \"chocolate\", \"chocolate\", \"chocolate\", \"chocolate\", \"chocolate\", \"chocolate\", \"chocolate\", \"chocolate\", \"chocolate\", \"choice\", \"choice\", \"choice\", \"choice\", \"choice\", \"choice\", \"choice\", \"choice\", \"choice\", \"choice\", \"ch\\u00e8re\", \"clean\", \"clean\", \"clean\", \"clean\", \"clean\", \"clean\", \"clean\", \"clean\", \"clean\", \"clean\", \"clinical\", \"clinical\", \"close\", \"close\", \"close\", \"close\", \"close\", \"close\", \"close\", \"close\", \"close\", \"close\", \"coffee\", \"coffee\", \"coffee\", \"coffee\", \"coffee\", \"coffee\", \"coffee\", \"coffee\", \"coffee\", \"coffee\", \"coffeeshop\", \"colleen\", \"come\", \"come\", \"come\", \"come\", \"come\", \"come\", \"come\", \"come\", \"come\", \"come\", \"coming\", \"coming\", \"coming\", \"coming\", \"coming\", \"coming\", \"coming\", \"coming\", \"coming\", \"coming\", \"company\", \"company\", \"company\", \"company\", \"company\", \"company\", \"company\", \"company\", \"company\", \"company\", \"complexly\", \"conchas\", \"condensation\", \"condensation\", \"coral\", \"coral\", \"coral\", \"cos\", \"cos\", \"couple\", \"couple\", \"couple\", \"couple\", \"couple\", \"couple\", \"couple\", \"couple\", \"couple\", \"couple\", \"courteous\", \"courteous\", \"courteous\", \"courteous\", \"courteous\", \"courteous\", \"courteous\", \"courteous\", \"courteous\", \"courteous\", \"crust\", \"crust\", \"crust\", \"crust\", \"crust\", \"crust\", \"crust\", \"crust\", \"crust\", \"crust\", \"cushioning\", \"cute\", \"cute\", \"cute\", \"cute\", \"cute\", \"cute\", \"cute\", \"cute\", \"cute\", \"cute\", \"cwru\", \"daaayyuuummm\", \"daaayyuuummm\", \"dahl\", \"dane\", \"dane\", \"dane\", \"dane\", \"dane\", \"darlene\", \"darlene\", \"dawn\", \"dawn\", \"dawn\", \"dawn\", \"dawn\", \"dawn\", \"dawn\", \"dawn\", \"day\", \"day\", \"day\", \"day\", \"day\", \"day\", \"day\", \"day\", \"day\", \"day\", \"definitely\", \"definitely\", \"definitely\", \"definitely\", \"definitely\", \"definitely\", \"definitely\", \"definitely\", \"definitely\", \"definitely\", \"delicious\", \"delicious\", \"delicious\", \"delicious\", \"delicious\", \"delicious\", \"delicious\", \"delicious\", \"delicious\", \"delicious\", \"delivary\", \"delivary\", \"demonic\", \"demonic\", \"demonic\", \"dentists\", \"dentists\", \"dentists\", \"dentists\", \"dentists\", \"dentists\", \"dentists\", \"dentists\", \"dentists\", \"dentists\", \"didn\", \"didn\", \"didn\", \"didn\", \"didn\", \"didn\", \"didn\", \"didn\", \"didn\", \"didn\", \"diesel\", \"diesel\", \"dimmer\", \"dining\", \"dining\", \"dining\", \"dining\", \"dining\", \"dining\", \"dining\", \"dining\", \"dining\", \"dining\", \"dinner\", \"dinner\", \"dinner\", \"dinner\", \"dinner\", \"dinner\", \"dinner\", \"dinner\", \"dinner\", \"dinner\", \"dippin\", \"directly\", \"directly\", \"directly\", \"directly\", \"directly\", \"directly\", \"directly\", \"directly\", \"directly\", \"directly\", \"discontinue\", \"discontinue\", \"dish\", \"dish\", \"dish\", \"dish\", \"dish\", \"dish\", \"dish\", \"dish\", \"dish\", \"dish\", \"disrespected\", \"dogs\", \"dogs\", \"dogs\", \"dogs\", \"dogs\", \"dogs\", \"dogs\", \"dogs\", \"dogs\", \"dogs\", \"dolci\", \"dolci\", \"don\", \"don\", \"don\", \"don\", \"don\", \"don\", \"don\", \"don\", \"don\", \"don\", \"donair\", \"donair\", \"donair\", \"donair\", \"donovan\", \"donovan\", \"donovan\", \"donovan\", \"donovan\", \"donuts\", \"donuts\", \"donuts\", \"donuts\", \"donuts\", \"donuts\", \"donuts\", \"donuts\", \"donuts\", \"donuts\", \"drink\", \"drink\", \"drink\", \"drink\", \"drink\", \"drink\", \"drink\", \"drink\", \"drink\", \"drink\", \"drinks\", \"drinks\", \"drinks\", \"drinks\", \"drinks\", \"drinks\", \"drinks\", \"drinks\", \"drinks\", \"drinks\", \"dry\", \"dry\", \"dry\", \"dry\", \"dry\", \"dry\", \"dry\", \"dry\", \"dry\", \"dry\", \"durian\", \"eat\", \"eat\", \"eat\", \"eat\", \"eat\", \"eat\", \"eat\", \"eat\", \"eat\", \"eat\", \"elaine\", \"elisha\", \"elmer\", \"end\", \"end\", \"end\", \"end\", \"end\", \"end\", \"end\", \"end\", \"end\", \"end\", \"entire\", \"entire\", \"entire\", \"entire\", \"entire\", \"entire\", \"entire\", \"entire\", \"entire\", \"entire\", \"erika\", \"erika\", \"error\", \"error\", \"error\", \"error\", \"error\", \"error\", \"error\", \"error\", \"error\", \"error\", \"ev\", \"ev\", \"ev\", \"everrr\", \"everrrrr\", \"exceeding\", \"exceeding\", \"exceeding\", \"exceeding\", \"excellent\", \"excellent\", \"excellent\", \"excellent\", \"excellent\", \"excellent\", \"excellent\", \"excellent\", \"excellent\", \"excellent\", \"expensive\", \"expensive\", \"expensive\", \"expensive\", \"expensive\", \"expensive\", \"expensive\", \"expensive\", \"expensive\", \"expensive\", \"experience\", \"experience\", \"experience\", \"experience\", \"experience\", \"experience\", \"experience\", \"experience\", \"experience\", \"experience\", \"family\", \"family\", \"family\", \"family\", \"family\", \"family\", \"family\", \"family\", \"family\", \"family\", \"far\", \"far\", \"far\", \"far\", \"far\", \"far\", \"far\", \"far\", \"far\", \"far\", \"favorite\", \"favorite\", \"favorite\", \"favorite\", \"favorite\", \"favorite\", \"favorite\", \"favorite\", \"favorite\", \"favorite\", \"felt\", \"felt\", \"felt\", \"felt\", \"felt\", \"felt\", \"felt\", \"felt\", \"felt\", \"felt\", \"find\", \"find\", \"find\", \"find\", \"find\", \"find\", \"find\", \"find\", \"find\", \"find\", \"fingernail\", \"fingernail\", \"fix\", \"fix\", \"fix\", \"fix\", \"fix\", \"fix\", \"fix\", \"fix\", \"fix\", \"fix\", \"fixed\", \"fixed\", \"fixed\", \"fixed\", \"fixed\", \"fixed\", \"fixed\", \"fixed\", \"fixed\", \"fixed\", \"flavyour\", \"flush\", \"flush\", \"flush\", \"flush\", \"flush\", \"flush\", \"flush\", \"food\", \"food\", \"food\", \"food\", \"food\", \"food\", \"food\", \"food\", \"food\", \"food\", \"free\", \"free\", \"free\", \"free\", \"free\", \"free\", \"free\", \"free\", \"free\", \"free\", \"fresh\", \"fresh\", \"fresh\", \"fresh\", \"fresh\", \"fresh\", \"fresh\", \"fresh\", \"fresh\", \"fresh\", \"fridendly\", \"fried\", \"fried\", \"fried\", \"fried\", \"fried\", \"fried\", \"fried\", \"fried\", \"fried\", \"fried\", \"friend\", \"friend\", \"friend\", \"friend\", \"friend\", \"friend\", \"friend\", \"friend\", \"friend\", \"friend\", \"friendly\", \"friendly\", \"friendly\", \"friendly\", \"friendly\", \"friendly\", \"friendly\", \"friendly\", \"friendly\", \"friendly\", \"fries\", \"fries\", \"fries\", \"fries\", \"fries\", \"fries\", \"fries\", \"fries\", \"fries\", \"fries\", \"froide\", \"froide\", \"froide\", \"frying\", \"frying\", \"frying\", \"frying\", \"frying\", \"frying\", \"frying\", \"fun\", \"fun\", \"fun\", \"fun\", \"fun\", \"fun\", \"fun\", \"fun\", \"fun\", \"fun\", \"ganoush\", \"ganoush\", \"ganoush\", \"ganoush\", \"ganoush\", \"ganoush\", \"garments\", \"garments\", \"gina\", \"going\", \"going\", \"going\", \"going\", \"going\", \"going\", \"going\", \"going\", \"going\", \"going\", \"golfweek\", \"golfweek\", \"good\", \"good\", \"good\", \"good\", \"good\", \"good\", \"good\", \"good\", \"good\", \"good\", \"google\", \"google\", \"google\", \"google\", \"google\", \"google\", \"google\", \"google\", \"google\", \"google\", \"got\", \"got\", \"got\", \"got\", \"got\", \"got\", \"got\", \"got\", \"got\", \"got\", \"goto\", \"goto\", \"goto\", \"goto\", \"goto\", \"goto\", \"goto\", \"goto\", \"goto\", \"great\", \"great\", \"great\", \"great\", \"great\", \"great\", \"great\", \"great\", \"great\", \"great\", \"green\", \"green\", \"green\", \"green\", \"green\", \"green\", \"green\", \"green\", \"green\", \"green\", \"greenhouse\", \"greenhouse\", \"greenhouse\", \"greenway\", \"greenway\", \"grooming\", \"grooming\", \"grooming\", \"grooming\", \"grooming\", \"grooming\", \"grooming\", \"grooming\", \"grooming\", \"grooming\", \"grubhub\", \"grubhub\", \"grubhub\", \"grubhub\", \"grubhub\", \"grubhub\", \"grubhub\", \"grubhub\", \"gustav\", \"gutters\", \"guy\", \"guy\", \"guy\", \"guy\", \"guy\", \"guy\", \"guy\", \"guy\", \"guy\", \"guy\", \"hairstylist\", \"hairstylist\", \"handedly\", \"handedly\", \"handedly\", \"handedly\", \"handedly\", \"handedly\", \"harlow\", \"harlow\", \"having\", \"having\", \"having\", \"having\", \"having\", \"having\", \"having\", \"having\", \"having\", \"having\", \"heal\", \"heal\", \"highly\", \"highly\", \"highly\", \"highly\", \"highly\", \"highly\", \"highly\", \"highly\", \"highly\", \"highly\", \"hoa\", \"hoa\", \"hoa\", \"hoa\", \"hoa\", \"hoa\", \"hoa\", \"hoa\", \"hoa\", \"hoa\", \"hog\", \"home\", \"home\", \"home\", \"home\", \"home\", \"home\", \"home\", \"home\", \"home\", \"home\", \"hotel\", \"hotel\", \"hotel\", \"hotel\", \"hotel\", \"hotel\", \"hotel\", \"hotel\", \"hotel\", \"hotel\", \"hours\", \"hours\", \"hours\", \"hours\", \"hours\", \"hours\", \"hours\", \"hours\", \"hours\", \"hours\", \"huckleberry\", \"huckleberry\", \"husband\", \"husband\", \"husband\", \"husband\", \"husband\", \"husband\", \"husband\", \"husband\", \"husband\", \"husband\", \"ian\", \"ian\", \"ian\", \"ian\", \"ian\", \"ian\", \"ian\", \"ian\", \"ian\", \"ian\", \"imcomplete\", \"imcomplete\", \"immediately\", \"immediately\", \"immediately\", \"immediately\", \"immediately\", \"immediately\", \"immediately\", \"immediately\", \"immediately\", \"immediately\", \"insectarium\", \"inspections\", \"inspections\", \"inspections\", \"integration\", \"intelligent\", \"intelligent\", \"intelligent\", \"intelligent\", \"intelligently\", \"intelligently\", \"iphone\", \"iphone\", \"iphone\", \"iphone\", \"iphone\", \"iphone\", \"iphone\", \"iphone\", \"iphone\", \"iphone\", \"ishpm\", \"isn\", \"isn\", \"isn\", \"isn\", \"isn\", \"isn\", \"isn\", \"isn\", \"isn\", \"isn\", \"italian\", \"italian\", \"italian\", \"italian\", \"italian\", \"italian\", \"italian\", \"italian\", \"italian\", \"italian\", \"jdt\", \"jdt\", \"jdt\", \"jdt\", \"jdt\", \"jina\", \"jina\", \"jumbo\", \"jumbo\", \"jumbo\", \"jumbo\", \"jumbo\", \"jumbo\", \"jumbo\", \"jumbo\", \"jumbo\", \"jumbo\", \"kang\", \"kang\", \"kelsea\", \"kelsea\", \"kendel\", \"kendel\", \"keychain\", \"kids\", \"kids\", \"kids\", \"kids\", \"kids\", \"kids\", \"kids\", \"kids\", \"kids\", \"kids\", \"kind\", \"kind\", \"kind\", \"kind\", \"kind\", \"kind\", \"kind\", \"kind\", \"kind\", \"kind\", \"kingz\", \"know\", \"know\", \"know\", \"know\", \"know\", \"know\", \"know\", \"know\", \"know\", \"know\", \"krung\", \"krung\", \"ktown\", \"kyu\", \"la\", \"la\", \"la\", \"la\", \"la\", \"la\", \"la\", \"la\", \"la\", \"la\", \"large\", \"large\", \"large\", \"large\", \"large\", \"large\", \"large\", \"large\", \"large\", \"large\", \"legion\", \"legion\", \"legion\", \"legion\", \"legion\", \"legion\", \"legion\", \"like\", \"like\", \"like\", \"like\", \"like\", \"like\", \"like\", \"like\", \"like\", \"like\", \"linda\", \"linda\", \"linda\", \"linda\", \"linda\", \"linda\", \"little\", \"little\", \"little\", \"little\", \"little\", \"little\", \"little\", \"little\", \"little\", \"little\", \"live\", \"live\", \"live\", \"live\", \"live\", \"live\", \"live\", \"live\", \"live\", \"live\", \"livermush\", \"livermush\", \"livermush\", \"livraison\", \"livraison\", \"ll\", \"ll\", \"ll\", \"ll\", \"ll\", \"ll\", \"ll\", \"ll\", \"ll\", \"ll\", \"location\", \"location\", \"location\", \"location\", \"location\", \"location\", \"location\", \"location\", \"location\", \"location\", \"long\", \"long\", \"long\", \"long\", \"long\", \"long\", \"long\", \"long\", \"long\", \"long\", \"looked\", \"looked\", \"looked\", \"looked\", \"looked\", \"looked\", \"looked\", \"looked\", \"looked\", \"looked\", \"looking\", \"looking\", \"looking\", \"looking\", \"looking\", \"looking\", \"looking\", \"looking\", \"looking\", \"looking\", \"lot\", \"lot\", \"lot\", \"lot\", \"lot\", \"lot\", \"lot\", \"lot\", \"lot\", \"lot\", \"love\", \"love\", \"love\", \"love\", \"love\", \"love\", \"love\", \"love\", \"love\", \"love\", \"luddite\", \"luis\", \"lunch\", \"lunch\", \"lunch\", \"lunch\", \"lunch\", \"lunch\", \"lunch\", \"lunch\", \"lunch\", \"lunch\", \"lyric\", \"lyric\", \"makeovers\", \"mangonada\", \"manny\", \"manny\", \"manny\", \"manny\", \"manny\", \"manny\", \"marshall\", \"marshall\", \"maternity\", \"maternity\", \"maternity\", \"maternity\", \"maternity\", \"maternity\", \"matthew\", \"matthew\", \"matthew\", \"maybe\", \"maybe\", \"maybe\", \"maybe\", \"maybe\", \"maybe\", \"maybe\", \"maybe\", \"maybe\", \"maybe\", \"meal\", \"meal\", \"meal\", \"meal\", \"meal\", \"meal\", \"meal\", \"meal\", \"meal\", \"meal\", \"meat\", \"meat\", \"meat\", \"meat\", \"meat\", \"meat\", \"meat\", \"meat\", \"meat\", \"meat\", \"medallions\", \"medallions\", \"medallions\", \"medium\", \"medium\", \"medium\", \"medium\", \"medium\", \"medium\", \"medium\", \"medium\", \"medium\", \"medium\", \"melinda\", \"menu\", \"menu\", \"menu\", \"menu\", \"menu\", \"menu\", \"menu\", \"menu\", \"menu\", \"menu\", \"menudazo\", \"menudazo\", \"menudo\", \"menudo\", \"menudo\", \"menudo\", \"menudo\", \"menudo\", \"merest\", \"merest\", \"metros\", \"metros\", \"michelle\", \"michelle\", \"michelle\", \"michelle\", \"michelle\", \"michelle\", \"michelle\", \"michelle\", \"michelle\", \"michelle\", \"mini\", \"mini\", \"mini\", \"mini\", \"mini\", \"mini\", \"mini\", \"mini\", \"mini\", \"mini\", \"minutes\", \"minutes\", \"minutes\", \"minutes\", \"minutes\", \"minutes\", \"minutes\", \"minutes\", \"minutes\", \"minutes\", \"momma\", \"momma\", \"money\", \"money\", \"money\", \"money\", \"money\", \"money\", \"money\", \"money\", \"money\", \"money\", \"nan\", \"nan\", \"nan\", \"nan\", \"nan\", \"nan\", \"nan\", \"nearest\", \"nearest\", \"need\", \"need\", \"need\", \"need\", \"need\", \"need\", \"need\", \"need\", \"need\", \"need\", \"neutral\", \"neutral\", \"neutral\", \"neutral\", \"neutral\", \"neutral\", \"neutral\", \"neutral\", \"new\", \"new\", \"new\", \"new\", \"new\", \"new\", \"new\", \"new\", \"new\", \"new\", \"nice\", \"nice\", \"nice\", \"nice\", \"nice\", \"nice\", \"nice\", \"nice\", \"nice\", \"nice\", \"night\", \"night\", \"night\", \"night\", \"night\", \"night\", \"night\", \"night\", \"night\", \"night\", \"nite\", \"nite\", \"nite\", \"nite\", \"nite\", \"nite\", \"nite\", \"nite\", \"nite\", \"nite\", \"noodle\", \"noodle\", \"noodle\", \"noodle\", \"noodle\", \"noodle\", \"noodle\", \"noodle\", \"noodle\", \"noodle\", \"occur\", \"occur\", \"occur\", \"occur\", \"old\", \"old\", \"old\", \"old\", \"old\", \"old\", \"old\", \"old\", \"old\", \"old\", \"operative\", \"order\", \"order\", \"order\", \"order\", \"order\", \"order\", \"order\", \"order\", \"order\", \"order\", \"ordered\", \"ordered\", \"ordered\", \"ordered\", \"ordered\", \"ordered\", \"ordered\", \"ordered\", \"ordered\", \"ordered\", \"outlets\", \"outlets\", \"outlets\", \"outlets\", \"outlets\", \"outlets\", \"outlets\", \"outlets\", \"outlets\", \"outlets\", \"outside\", \"outside\", \"outside\", \"outside\", \"outside\", \"outside\", \"outside\", \"outside\", \"outside\", \"outside\", \"overall\", \"overall\", \"overall\", \"overall\", \"overall\", \"overall\", \"overall\", \"overall\", \"overall\", \"overall\", \"owner\", \"owner\", \"owner\", \"owner\", \"owner\", \"owner\", \"owner\", \"owner\", \"owner\", \"owner\", \"pamper\", \"pamper\", \"park\", \"park\", \"park\", \"park\", \"park\", \"park\", \"park\", \"park\", \"park\", \"park\", \"parker\", \"parker\", \"parker\", \"parker\", \"pawn\", \"pawn\", \"pawn\", \"pawn\", \"pawn\", \"pawn\", \"peggy\", \"people\", \"people\", \"people\", \"people\", \"people\", \"people\", \"people\", \"people\", \"people\", \"people\", \"perfect\", \"perfect\", \"perfect\", \"perfect\", \"perfect\", \"perfect\", \"perfect\", \"perfect\", \"perfect\", \"perfect\", \"perfectly\", \"perfectly\", \"perfectly\", \"perfectly\", \"perfectly\", \"perfectly\", \"perfectly\", \"perfectly\", \"perfectly\", \"perfectly\", \"phoenix\", \"phoenix\", \"phoenix\", \"phoenix\", \"phoenix\", \"phoenix\", \"phoenix\", \"phoenix\", \"phoenix\", \"phoenix\", \"photographers\", \"photographers\", \"photographers\", \"photographers\", \"photographers\", \"picante\", \"pimpin\", \"pitcher\", \"pitcher\", \"pitcher\", \"pitcher\", \"pitcher\", \"pitcher\", \"pitcher\", \"pitcher\", \"pitcher\", \"pitcher\", \"pizza\", \"pizza\", \"pizza\", \"pizza\", \"pizza\", \"pizza\", \"pizza\", \"pizza\", \"pizza\", \"pizza\", \"place\", \"place\", \"place\", \"place\", \"place\", \"place\", \"place\", \"place\", \"place\", \"place\", \"pleasant\", \"pleasant\", \"pleasant\", \"pleasant\", \"pleasant\", \"pleasant\", \"pleasant\", \"pleasant\", \"pleasant\", \"pleasant\", \"plus\", \"plus\", \"plus\", \"plus\", \"plus\", \"plus\", \"plus\", \"plus\", \"plus\", \"plus\", \"pm\", \"pm\", \"pm\", \"pm\", \"pm\", \"pm\", \"pm\", \"pm\", \"pm\", \"pm\", \"poising\", \"poms\", \"poms\", \"pool\", \"pool\", \"pool\", \"pool\", \"pool\", \"pool\", \"pool\", \"pool\", \"pool\", \"pool\", \"popeyes\", \"popeyes\", \"popeyes\", \"popeyes\", \"popeyes\", \"popeyes\", \"popeyes\", \"posoleshawwty\", \"posoleshawwty\", \"potato\", \"potato\", \"potato\", \"potato\", \"potato\", \"potato\", \"potato\", \"potato\", \"potato\", \"potato\", \"pre\", \"pre\", \"pre\", \"pre\", \"pre\", \"pre\", \"pre\", \"pre\", \"pre\", \"pre\", \"pretty\", \"pretty\", \"pretty\", \"pretty\", \"pretty\", \"pretty\", \"pretty\", \"pretty\", \"pretty\", \"pretty\", \"price\", \"price\", \"price\", \"price\", \"price\", \"price\", \"price\", \"price\", \"price\", \"price\", \"prices\", \"prices\", \"prices\", \"prices\", \"prices\", \"prices\", \"prices\", \"prices\", \"prices\", \"prices\", \"prius\", \"prob\", \"prob\", \"prob\", \"prob\", \"prob\", \"prob\", \"prob\", \"prob\", \"prob\", \"prob\", \"problem\", \"problem\", \"problem\", \"problem\", \"problem\", \"problem\", \"problem\", \"problem\", \"problem\", \"problem\", \"professional\", \"professional\", \"professional\", \"professional\", \"professional\", \"professional\", \"professional\", \"professional\", \"professional\", \"professional\", \"pucks\", \"pucks\", \"purolator\", \"purolator\", \"purolator\", \"puzzle\", \"puzzle\", \"puzzle\", \"quality\", \"quality\", \"quality\", \"quality\", \"quality\", \"quality\", \"quality\", \"quality\", \"quality\", \"quality\", \"rank\", \"rank\", \"rank\", \"rank\", \"rank\", \"rank\", \"rank\", \"rank\", \"raw\", \"raw\", \"raw\", \"raw\", \"raw\", \"raw\", \"raw\", \"raw\", \"raw\", \"raw\", \"real\", \"real\", \"real\", \"real\", \"real\", \"real\", \"real\", \"real\", \"real\", \"real\", \"reared\", \"reccomend\", \"reccomend\", \"reccomend\", \"reccomend\", \"reccomend\", \"reccomend\", \"reccomend\", \"recommand\", \"recommend\", \"recommend\", \"recommend\", \"recommend\", \"recommend\", \"recommend\", \"recommend\", \"recommend\", \"recommend\", \"recommend\", \"remarkably\", \"resource\", \"resource\", \"resource\", \"resource\", \"restaurant\", \"restaurant\", \"restaurant\", \"restaurant\", \"restaurant\", \"restaurant\", \"restaurant\", \"restaurant\", \"restaurant\", \"restaurant\", \"riaz\", \"rice\", \"rice\", \"rice\", \"rice\", \"rice\", \"rice\", \"rice\", \"rice\", \"rice\", \"rice\", \"richardson\", \"ricketts\", \"ricketts\", \"right\", \"right\", \"right\", \"right\", \"right\", \"right\", \"right\", \"right\", \"right\", \"right\", \"ripple\", \"ripple\", \"ripple\", \"ripple\", \"rn\", \"roadside\", \"roadside\", \"roll\", \"roll\", \"roll\", \"roll\", \"roll\", \"roll\", \"roll\", \"roll\", \"roll\", \"roll\", \"romper\", \"romper\", \"romper\", \"room\", \"room\", \"room\", \"room\", \"room\", \"room\", \"room\", \"room\", \"room\", \"room\", \"rude\", \"rude\", \"rude\", \"rude\", \"rude\", \"rude\", \"rude\", \"rude\", \"rude\", \"rude\", \"rush\", \"rush\", \"rush\", \"rush\", \"rush\", \"rush\", \"rush\", \"rush\", \"rush\", \"rush\", \"said\", \"said\", \"said\", \"said\", \"said\", \"said\", \"said\", \"said\", \"said\", \"said\", \"salon\", \"salon\", \"salon\", \"salon\", \"salon\", \"salon\", \"salon\", \"salon\", \"salon\", \"salon\", \"samantha\", \"samantha\", \"samantha\", \"samantha\", \"samantha\", \"samantha\", \"samantha\", \"sandwiches\", \"sandwiches\", \"sandwiches\", \"sandwiches\", \"sandwiches\", \"sandwiches\", \"sandwiches\", \"sandwiches\", \"sandwiches\", \"sandwiches\", \"satified\", \"satisfactory\", \"satisfactory\", \"satisfactory\", \"satisfactory\", \"satisfactory\", \"satisfactory\", \"satisfactory\", \"satisfactory\", \"satisfactory\", \"satisfactory\", \"sauce\", \"sauce\", \"sauce\", \"sauce\", \"sauce\", \"sauce\", \"sauce\", \"sauce\", \"sauce\", \"sauce\", \"saw\", \"saw\", \"saw\", \"saw\", \"saw\", \"saw\", \"saw\", \"saw\", \"saw\", \"saw\", \"seating\", \"seating\", \"seating\", \"seating\", \"seating\", \"seating\", \"seating\", \"seating\", \"seating\", \"seating\", \"second\", \"second\", \"second\", \"second\", \"second\", \"second\", \"second\", \"second\", \"second\", \"second\", \"serene\", \"served\", \"served\", \"served\", \"served\", \"served\", \"served\", \"served\", \"served\", \"served\", \"served\", \"service\", \"service\", \"service\", \"service\", \"service\", \"service\", \"service\", \"service\", \"service\", \"service\", \"sheldon\", \"sheldon\", \"shipper\", \"shipper\", \"shipper\", \"shop\", \"shop\", \"shop\", \"shop\", \"shop\", \"shop\", \"shop\", \"shop\", \"shop\", \"shop\", \"shrimp\", \"shrimp\", \"shrimp\", \"shrimp\", \"shrimp\", \"shrimp\", \"shrimp\", \"shrimp\", \"shrimp\", \"shrimp\", \"siam\", \"siam\", \"siam\", \"siam\", \"siam\", \"siam\", \"siam\", \"sign\", \"sign\", \"sign\", \"sign\", \"sign\", \"sign\", \"sign\", \"sign\", \"sign\", \"sign\", \"singapore\", \"singapore\", \"singapore\", \"singapore\", \"singapore\", \"singapore\", \"singapore\", \"singapore\", \"skinned\", \"slacks\", \"slow\", \"slow\", \"slow\", \"slow\", \"slow\", \"slow\", \"slow\", \"slow\", \"slow\", \"slow\", \"smell\", \"smell\", \"smell\", \"smell\", \"smell\", \"smell\", \"smell\", \"smell\", \"smell\", \"smell\", \"smog\", \"smog\", \"smog\", \"smog\", \"smog\", \"smog\", \"smog\", \"smog\", \"smog\", \"smog\", \"snapchat\", \"solving\", \"solving\", \"solving\", \"solving\", \"sono\", \"speaks\", \"speaks\", \"speaks\", \"speaks\", \"speaks\", \"speaks\", \"special\", \"special\", \"special\", \"special\", \"special\", \"special\", \"special\", \"special\", \"special\", \"special\", \"specials\", \"specials\", \"specials\", \"specials\", \"specials\", \"specials\", \"specials\", \"specials\", \"specials\", \"specials\", \"spicy\", \"spicy\", \"spicy\", \"spicy\", \"spicy\", \"spicy\", \"spicy\", \"spicy\", \"spicy\", \"spicy\", \"sprouted\", \"squishies\", \"squishies\", \"squishies\", \"stabbed\", \"staff\", \"staff\", \"staff\", \"staff\", \"staff\", \"staff\", \"staff\", \"staff\", \"staff\", \"staff\", \"stars\", \"stars\", \"stars\", \"stars\", \"stars\", \"stars\", \"stars\", \"stars\", \"stars\", \"stars\", \"steak\", \"steak\", \"steak\", \"steak\", \"steak\", \"steak\", \"steak\", \"steak\", \"steak\", \"steak\", \"stranger\", \"stranger\", \"stranger\", \"stranger\", \"stranger\", \"substandard\", \"suitemates\", \"super\", \"super\", \"super\", \"super\", \"super\", \"super\", \"super\", \"super\", \"super\", \"super\", \"suppose\", \"suppose\", \"suppose\", \"suppose\", \"suppose\", \"suppose\", \"suppose\", \"suppose\", \"suppose\", \"suppose\", \"sure\", \"sure\", \"sure\", \"sure\", \"sure\", \"sure\", \"sure\", \"sure\", \"sure\", \"sure\", \"surreal\", \"surreal\", \"surreal\", \"surreal\", \"surreal\", \"surreal\", \"surreal\", \"surreal\", \"suzanne\", \"suzanne\", \"suzanne\", \"swedish\", \"swedish\", \"swedish\", \"swedish\", \"swedish\", \"swedish\", \"swedish\", \"sweet\", \"sweet\", \"sweet\", \"sweet\", \"sweet\", \"sweet\", \"sweet\", \"sweet\", \"sweet\", \"sweet\", \"synthetic\", \"synthetic\", \"table\", \"table\", \"table\", \"table\", \"table\", \"table\", \"table\", \"table\", \"table\", \"table\", \"tacos\", \"tacos\", \"tacos\", \"tacos\", \"tacos\", \"tacos\", \"tacos\", \"tacos\", \"tacos\", \"tacos\", \"talia\", \"talia\", \"taste\", \"taste\", \"taste\", \"taste\", \"taste\", \"taste\", \"taste\", \"taste\", \"taste\", \"taste\", \"tastey\", \"tastey\", \"tastey\", \"tasty\", \"tasty\", \"tasty\", \"tasty\", \"tasty\", \"tasty\", \"tasty\", \"tasty\", \"tasty\", \"tasty\", \"tell\", \"tell\", \"tell\", \"tell\", \"tell\", \"tell\", \"tell\", \"tell\", \"tell\", \"tell\", \"tellers\", \"tha\", \"tha\", \"thing\", \"thing\", \"thing\", \"thing\", \"thing\", \"thing\", \"thing\", \"thing\", \"thing\", \"thing\", \"think\", \"think\", \"think\", \"think\", \"think\", \"think\", \"think\", \"think\", \"think\", \"think\", \"tidy\", \"tidy\", \"tidy\", \"tidy\", \"tidy\", \"tidy\", \"tidy\", \"tidy\", \"tidy\", \"tidy\", \"tikki\", \"time\", \"time\", \"time\", \"time\", \"time\", \"time\", \"time\", \"time\", \"time\", \"time\", \"times\", \"times\", \"times\", \"times\", \"times\", \"times\", \"times\", \"times\", \"times\", \"times\", \"told\", \"told\", \"told\", \"told\", \"told\", \"told\", \"told\", \"told\", \"told\", \"told\", \"tonite\", \"tour\", \"tour\", \"tour\", \"tour\", \"tour\", \"tour\", \"tour\", \"tour\", \"tour\", \"tour\", \"try\", \"try\", \"try\", \"try\", \"try\", \"try\", \"try\", \"try\", \"try\", \"try\", \"trying\", \"trying\", \"trying\", \"trying\", \"trying\", \"trying\", \"trying\", \"trying\", \"trying\", \"trying\", \"tso\", \"tso\", \"tso\", \"tso\", \"tuneup\", \"tuneup\", \"unit\", \"unit\", \"unit\", \"unit\", \"unit\", \"unit\", \"unit\", \"unit\", \"unit\", \"unit\", \"unite\", \"usually\", \"usually\", \"usually\", \"usually\", \"usually\", \"usually\", \"usually\", \"usually\", \"usually\", \"usually\", \"vadai\", \"vadai\", \"variety\", \"variety\", \"variety\", \"variety\", \"variety\", \"variety\", \"variety\", \"variety\", \"variety\", \"variety\", \"ve\", \"ve\", \"ve\", \"ve\", \"ve\", \"ve\", \"ve\", \"ve\", \"ve\", \"ve\", \"vegas\", \"vegas\", \"vegas\", \"vegas\", \"vegas\", \"vegas\", \"vegas\", \"vegas\", \"vegas\", \"vegas\", \"visit\", \"visit\", \"visit\", \"visit\", \"visit\", \"visit\", \"visit\", \"visit\", \"visit\", \"visit\", \"vito\", \"vomit\", \"vultures\", \"wait\", \"wait\", \"wait\", \"wait\", \"wait\", \"wait\", \"wait\", \"wait\", \"wait\", \"wait\", \"walkthrough\", \"want\", \"want\", \"want\", \"want\", \"want\", \"want\", \"want\", \"want\", \"want\", \"want\", \"wanted\", \"wanted\", \"wanted\", \"wanted\", \"wanted\", \"wanted\", \"wanted\", \"wanted\", \"wanted\", \"wanted\", \"warhol\", \"warhol\", \"warhol\", \"warhol\", \"warhol\", \"warhol\", \"warhol\", \"warhol\", \"warhol\", \"warhol\", \"wasn\", \"wasn\", \"wasn\", \"wasn\", \"wasn\", \"wasn\", \"wasn\", \"wasn\", \"wasn\", \"wasn\", \"way\", \"way\", \"way\", \"way\", \"way\", \"way\", \"way\", \"way\", \"way\", \"way\", \"weapons\", \"weeks\", \"weeks\", \"weeks\", \"weeks\", \"weeks\", \"weeks\", \"weeks\", \"weeks\", \"weeks\", \"weeks\", \"went\", \"went\", \"went\", \"went\", \"went\", \"went\", \"went\", \"went\", \"went\", \"went\", \"wife\", \"wife\", \"wife\", \"wife\", \"wife\", \"wife\", \"wife\", \"wife\", \"wife\", \"wife\", \"won\", \"won\", \"won\", \"won\", \"won\", \"won\", \"won\", \"won\", \"won\", \"won\", \"wont\", \"wont\", \"wont\", \"wont\", \"wont\", \"wont\", \"wont\", \"wont\", \"wont\", \"wont\", \"woot\", \"woot\", \"woot\", \"woot\", \"woot\", \"woot\", \"work\", \"work\", \"work\", \"work\", \"work\", \"work\", \"work\", \"work\", \"work\", \"work\", \"worsed\", \"worsed\", \"worth\", \"worth\", \"worth\", \"worth\", \"worth\", \"worth\", \"worth\", \"worth\", \"worth\", \"worth\", \"worthwhile\", \"worthwhile\", \"worthwhile\", \"worthwhile\", \"worthwhile\", \"worthwhile\", \"worthwhile\", \"worthwhile\", \"worthwhile\", \"worthwhile\", \"wraps\", \"wraps\", \"wraps\", \"wraps\", \"wraps\", \"wraps\", \"wraps\", \"wraps\", \"wraps\", \"wraps\", \"wrestlemania\", \"wrestlemania\", \"xs\", \"xs\", \"xs\", \"xs\", \"xs\", \"xs\", \"xs\", \"xs\", \"xs\", \"xs\", \"yasmin\", \"yasmin\", \"yasmin\", \"yasmin\", \"yasmin\", \"yc\", \"yeahhhhhhh\", \"years\", \"years\", \"years\", \"years\", \"years\", \"years\", \"years\", \"years\", \"years\", \"years\", \"yes\", \"yes\", \"yes\", \"yes\", \"yes\", \"yes\", \"yes\", \"yes\", \"yes\", \"yes\", \"yo\", \"yo\", \"yo\", \"yo\", \"yo\", \"yo\", \"yo\", \"yo\", \"yo\", \"yo\", \"yuk\", \"yuk\", \"yuk\", \"yuk\", \"yuk\", \"yuk\", \"yuk\", \"yuk\", \"yummers\", \"\\u3068\\u3066\\u3082\\u6c17\\u306b\\u5165\\u308a\\u307e\\u3057\\u305f\", \"\\u63a2\\u3057\\u305f\\u304a\\u5e97\\u3067\\u3057\\u305f\"]}, \"R\": 30, \"lambda.step\": 0.01, \"plot.opts\": {\"xlab\": \"PC1\", \"ylab\": \"PC2\"}, \"topic.order\": [10, 8, 1, 2, 3, 4, 5, 7, 9, 6]};\n",
       "\n",
       "function LDAvis_load_lib(url, callback){\n",
       "  var s = document.createElement('script');\n",
       "  s.src = url;\n",
       "  s.async = true;\n",
       "  s.onreadystatechange = s.onload = callback;\n",
       "  s.onerror = function(){console.warn(\"failed to load library \" + url);};\n",
       "  document.getElementsByTagName(\"head\")[0].appendChild(s);\n",
       "}\n",
       "\n",
       "if(typeof(LDAvis) !== \"undefined\"){\n",
       "   // already loaded: just create the visualization\n",
       "   !function(LDAvis){\n",
       "       new LDAvis(\"#\" + \"ldavis_el2265214174175837365512337208\", ldavis_el2265214174175837365512337208_data);\n",
       "   }(LDAvis);\n",
       "}else if(typeof define === \"function\" && define.amd){\n",
       "   // require.js is available: use it to load d3/LDAvis\n",
       "   require.config({paths: {d3: \"https://cdnjs.cloudflare.com/ajax/libs/d3/3.5.5/d3.min\"}});\n",
       "   require([\"d3\"], function(d3){\n",
       "      window.d3 = d3;\n",
       "      LDAvis_load_lib(\"https://cdn.rawgit.com/bmabey/pyLDAvis/files/ldavis.v1.0.0.js\", function(){\n",
       "        new LDAvis(\"#\" + \"ldavis_el2265214174175837365512337208\", ldavis_el2265214174175837365512337208_data);\n",
       "      });\n",
       "    });\n",
       "}else{\n",
       "    // require.js not available: dynamically load d3 & LDAvis\n",
       "    LDAvis_load_lib(\"https://cdnjs.cloudflare.com/ajax/libs/d3/3.5.5/d3.min.js\", function(){\n",
       "         LDAvis_load_lib(\"https://cdn.rawgit.com/bmabey/pyLDAvis/files/ldavis.v1.0.0.js\", function(){\n",
       "                 new LDAvis(\"#\" + \"ldavis_el2265214174175837365512337208\", ldavis_el2265214174175837365512337208_data);\n",
       "            })\n",
       "         });\n",
       "}\n",
       "</script>"
      ],
      "text/plain": [
       "PreparedData(topic_coordinates=              x         y  topics  cluster       Freq\n",
       "topic                                                \n",
       "9      0.000112  0.002396       1        1  10.504632\n",
       "7     -0.001323 -0.002408       2        1  10.383374\n",
       "0     -0.001971  0.003135       3        1  10.356190\n",
       "1      0.002760  0.003549       4        1  10.256868\n",
       "2     -0.004905 -0.001903       5        1  10.157447\n",
       "3      0.000826  0.002004       6        1  10.000359\n",
       "4      0.000058 -0.001733       7        1   9.801168\n",
       "6     -0.001778  0.000199       8        1   9.683452\n",
       "8      0.001570 -0.002193       9        1   9.430487\n",
       "5      0.004650 -0.003046      10        1   9.426021, topic_info=            Term         Freq        Total Category  logprob  loglift\n",
       "34          time  3303.000000  3303.000000  Default  30.0000  30.0000\n",
       "133        place  4562.000000  4562.000000  Default  29.0000  29.0000\n",
       "40          good  4460.000000  4460.000000  Default  28.0000  28.0000\n",
       "1287     chicken  1345.000000  1345.000000  Default  27.0000  27.0000\n",
       "145         food  4760.000000  4760.000000  Default  26.0000  26.0000\n",
       "...          ...          ...          ...      ...      ...      ...\n",
       "75           got   153.132339  1989.601074  Topic10  -5.7037  -0.2027\n",
       "122         best   142.089432  1752.525146  Topic10  -5.7786  -0.1507\n",
       "658   restaurant   120.084137  1333.546753  Topic10  -5.9468  -0.0457\n",
       "117         went   118.668892  1433.793213  Topic10  -5.9587  -0.1300\n",
       "92          nice   120.298645  1690.302246  Topic10  -5.9450  -0.2810\n",
       "\n",
       "[863 rows x 6 columns], token_table=       Topic      Freq        Term\n",
       "term                              \n",
       "25865      2  0.323053  accounting\n",
       "25865      8  0.323053  accounting\n",
       "8460       1  0.117171    accounts\n",
       "8460       2  0.117171    accounts\n",
       "8460       3  0.117171    accounts\n",
       "...      ...       ...         ...\n",
       "13123      9  0.130375         yuk\n",
       "13123     10  0.032594         yuk\n",
       "24391      9  0.323001     yummers\n",
       "21334     10  0.616364  とても気に入りました\n",
       "21335     10  0.616502    探したお店でした\n",
       "\n",
       "[2893 rows x 3 columns], R=30, lambda_step=0.01, plot_opts={'xlab': 'PC1', 'ylab': 'PC2'}, topic_order=[10, 8, 1, 2, 3, 4, 5, 7, 9, 6])"
      ]
     },
     "execution_count": 39,
     "metadata": {},
     "output_type": "execute_result"
    }
   ],
   "source": [
    "import warnings\n",
    "warnings.filterwarnings('ignore')\n",
    "\n",
    "import pyLDAvis.gensim\n",
    "pyLDAvis.enable_notebook()\n",
    "\n",
    "pyLDAvis.gensim.prepare(lda, corpus, id2word)"
   ]
  },
  {
   "cell_type": "code",
   "execution_count": null,
   "metadata": {},
   "outputs": [],
   "source": []
  },
  {
   "cell_type": "code",
   "execution_count": null,
   "metadata": {},
   "outputs": [],
   "source": []
  },
  {
   "cell_type": "markdown",
   "metadata": {},
   "source": [
    "## Stretch Goals\n",
    "\n",
    "Complete one of more of these to push your score towards a three: \n",
    "* Incorporate named entity recognition into your analysis\n",
    "* Compare vectorization methods in the classification section\n",
    "* Analyze more (or all) of the yelp dataset - this one is v. hard. \n",
    "* Use a generator object on the reviews file - this would help you with the analyzing the whole dataset.\n",
    "* Incorporate any of the other yelp dataset entities in your analysis (business, users, etc.)"
   ]
  },
  {
   "cell_type": "code",
   "execution_count": null,
   "metadata": {},
   "outputs": [],
   "source": [
    "## Your code"
   ]
  }
 ],
 "metadata": {
  "kernel_info": {
   "name": "u4-s1-nlp"
  },
  "kernelspec": {
   "display_name": "U4-S1-NLP(Python3",
   "language": "python",
   "name": "u4-s1-nlp"
  },
  "language_info": {
   "codemirror_mode": {
    "name": "ipython",
    "version": 3
   },
   "file_extension": ".py",
   "mimetype": "text/x-python",
   "name": "python",
   "nbconvert_exporter": "python",
   "pygments_lexer": "ipython3",
   "version": "3.7.0"
  },
  "nteract": {
   "version": "0.15.0"
  },
  "toc-autonumbering": false
 },
 "nbformat": 4,
 "nbformat_minor": 4
}
