{
  "nbformat": 4,
  "nbformat_minor": 0,
  "metadata": {
    "kernelspec": {
      "display_name": "U4-S1-NLP (Python 3)",
      "language": "python",
      "name": "u4-s1-nlp"
    },
    "language_info": {
      "codemirror_mode": {
        "name": "ipython",
        "version": 3
      },
      "file_extension": ".py",
      "mimetype": "text/x-python",
      "name": "python",
      "nbconvert_exporter": "python",
      "pygments_lexer": "ipython3",
      "version": "3.7.3"
    },
    "colab": {
      "name": "EP_LS_DS_414_Topic_Modeling_Assignment.ipynb",
      "provenance": [],
      "include_colab_link": true
    }
  },
  "cells": [
    {
      "cell_type": "markdown",
      "metadata": {
        "id": "view-in-github",
        "colab_type": "text"
      },
      "source": [
        "<a href=\"https://colab.research.google.com/github/eduardopadilla3/DS-Unit-4-Sprint-1-NLP/blob/main/module4-topic-modeling/EP_LS_DS_414_Topic_Modeling_Assignment.ipynb\" target=\"_parent\"><img src=\"https://colab.research.google.com/assets/colab-badge.svg\" alt=\"Open In Colab\"/></a>"
      ]
    },
    {
      "cell_type": "markdown",
      "metadata": {
        "id": "1eM32ZRxiHQt"
      },
      "source": [
        "<img align=\"left\" src=\"https://lever-client-logos.s3.amazonaws.com/864372b1-534c-480e-acd5-9711f850815c-1524247202159.png\" width=200>\n",
        "<br></br>\n",
        "<br></br>\n",
        "\n",
        "# Topic Modeling\n",
        "## *Data Science Unit 4 Sprint 1 Assignment 4*\n",
        "\n",
        "Analyze a corpus of Amazon reviews from Unit 4 Sprint 1 Module 1's lecture using topic modeling: \n",
        "\n",
        "- Fit a Gensim LDA topic model on Amazon Reviews\n",
        "- Select appropriate number of topics\n",
        "- Create some dope visualization of the topics\n",
        "- Write a few bullets on your findings in markdown at the end\n",
        "- **Note**: You don't *have* to use generators for this assignment"
      ]
    },
    {
      "cell_type": "code",
      "metadata": {
        "id": "AmiI9WbmiHQ1",
        "outputId": "ac7aa5a5-a1c7-46f1-c31d-3c02d6bf8e9d",
        "colab": {
          "base_uri": "https://localhost:8080/",
          "height": 1000
        }
      },
      "source": [
        "#Start Here\n",
        "# Dependencies for the week (instead of conda)\n",
        "!wget https://raw.githubusercontent.com/LambdaSchool/DS-Unit-4-Sprint-1-NLP/main/requirements.txt\n",
        "!pip install -r requirements.txt\n",
        "!python -m spacy download en_core_web_lg\n",
        "!pip install -U spacy==2.2.2"
      ],
      "execution_count": null,
      "outputs": [
        {
          "output_type": "stream",
          "text": [
            "--2020-10-02 14:07:18--  https://raw.githubusercontent.com/LambdaSchool/DS-Unit-4-Sprint-1-NLP/main/requirements.txt\n",
            "Resolving raw.githubusercontent.com (raw.githubusercontent.com)... 151.101.0.133, 151.101.64.133, 151.101.128.133, ...\n",
            "Connecting to raw.githubusercontent.com (raw.githubusercontent.com)|151.101.0.133|:443... connected.\n",
            "HTTP request sent, awaiting response... 200 OK\n",
            "Length: 137 [text/plain]\n",
            "Saving to: ‘requirements.txt.1’\n",
            "\n",
            "\rrequirements.txt.1    0%[                    ]       0  --.-KB/s               \rrequirements.txt.1  100%[===================>]     137  --.-KB/s    in 0s      \n",
            "\n",
            "2020-10-02 14:07:18 (4.48 MB/s) - ‘requirements.txt.1’ saved [137/137]\n",
            "\n",
            "Requirement already satisfied: gensim==3.8.1 in /usr/local/lib/python3.6/dist-packages (from -r requirements.txt (line 1)) (3.8.1)\n",
            "Requirement already satisfied: pyLDAvis==2.1.2 in /usr/local/lib/python3.6/dist-packages (from -r requirements.txt (line 2)) (2.1.2)\n",
            "Collecting spacy==2.2.3\n",
            "  Using cached https://files.pythonhosted.org/packages/47/13/80ad28ef7a16e2a86d16d73e28588be5f1085afd3e85e4b9b912bd700e8a/spacy-2.2.3-cp36-cp36m-manylinux1_x86_64.whl\n",
            "Requirement already satisfied: scikit-learn==0.22.2 in /usr/local/lib/python3.6/dist-packages (from -r requirements.txt (line 4)) (0.22.2)\n",
            "Requirement already satisfied: seaborn==0.9.0 in /usr/local/lib/python3.6/dist-packages (from -r requirements.txt (line 5)) (0.9.0)\n",
            "Requirement already satisfied: squarify==0.4.3 in /usr/local/lib/python3.6/dist-packages (from -r requirements.txt (line 6)) (0.4.3)\n",
            "Requirement already satisfied: ipykernel in /usr/local/lib/python3.6/dist-packages (from -r requirements.txt (line 7)) (4.10.1)\n",
            "Requirement already satisfied: nltk in /usr/local/lib/python3.6/dist-packages (from -r requirements.txt (line 8)) (3.2.5)\n",
            "Requirement already satisfied: pandas in /usr/local/lib/python3.6/dist-packages (from -r requirements.txt (line 9)) (1.1.2)\n",
            "Requirement already satisfied: scipy in /usr/local/lib/python3.6/dist-packages (from -r requirements.txt (line 10)) (1.4.1)\n",
            "Requirement already satisfied: beautifulsoup4 in /usr/local/lib/python3.6/dist-packages (from -r requirements.txt (line 11)) (4.6.3)\n",
            "Requirement already satisfied: numpy>=1.11.3 in /usr/local/lib/python3.6/dist-packages (from gensim==3.8.1->-r requirements.txt (line 1)) (1.18.5)\n",
            "Requirement already satisfied: smart-open>=1.8.1 in /usr/local/lib/python3.6/dist-packages (from gensim==3.8.1->-r requirements.txt (line 1)) (2.2.0)\n",
            "Requirement already satisfied: six>=1.5.0 in /usr/local/lib/python3.6/dist-packages (from gensim==3.8.1->-r requirements.txt (line 1)) (1.15.0)\n",
            "Requirement already satisfied: pytest in /usr/local/lib/python3.6/dist-packages (from pyLDAvis==2.1.2->-r requirements.txt (line 2)) (3.6.4)\n",
            "Requirement already satisfied: wheel>=0.23.0 in /usr/local/lib/python3.6/dist-packages (from pyLDAvis==2.1.2->-r requirements.txt (line 2)) (0.35.1)\n",
            "Requirement already satisfied: future in /usr/local/lib/python3.6/dist-packages (from pyLDAvis==2.1.2->-r requirements.txt (line 2)) (0.16.0)\n",
            "Requirement already satisfied: joblib>=0.8.4 in /usr/local/lib/python3.6/dist-packages (from pyLDAvis==2.1.2->-r requirements.txt (line 2)) (0.16.0)\n",
            "Requirement already satisfied: funcy in /usr/local/lib/python3.6/dist-packages (from pyLDAvis==2.1.2->-r requirements.txt (line 2)) (1.15)\n",
            "Requirement already satisfied: jinja2>=2.7.2 in /usr/local/lib/python3.6/dist-packages (from pyLDAvis==2.1.2->-r requirements.txt (line 2)) (2.11.2)\n",
            "Requirement already satisfied: numexpr in /usr/local/lib/python3.6/dist-packages (from pyLDAvis==2.1.2->-r requirements.txt (line 2)) (2.7.1)\n",
            "Requirement already satisfied: setuptools in /usr/local/lib/python3.6/dist-packages (from spacy==2.2.3->-r requirements.txt (line 3)) (50.3.0)\n",
            "Requirement already satisfied: cymem<2.1.0,>=2.0.2 in /usr/local/lib/python3.6/dist-packages (from spacy==2.2.3->-r requirements.txt (line 3)) (2.0.3)\n",
            "Requirement already satisfied: requests<3.0.0,>=2.13.0 in /usr/local/lib/python3.6/dist-packages (from spacy==2.2.3->-r requirements.txt (line 3)) (2.23.0)\n",
            "Requirement already satisfied: murmurhash<1.1.0,>=0.28.0 in /usr/local/lib/python3.6/dist-packages (from spacy==2.2.3->-r requirements.txt (line 3)) (1.0.2)\n",
            "Requirement already satisfied: plac<1.2.0,>=0.9.6 in /usr/local/lib/python3.6/dist-packages (from spacy==2.2.3->-r requirements.txt (line 3)) (1.1.3)\n",
            "Requirement already satisfied: catalogue<1.1.0,>=0.0.7 in /usr/local/lib/python3.6/dist-packages (from spacy==2.2.3->-r requirements.txt (line 3)) (1.0.0)\n",
            "Requirement already satisfied: srsly<1.1.0,>=0.1.0 in /usr/local/lib/python3.6/dist-packages (from spacy==2.2.3->-r requirements.txt (line 3)) (1.0.2)\n",
            "Requirement already satisfied: blis<0.5.0,>=0.4.0 in /usr/local/lib/python3.6/dist-packages (from spacy==2.2.3->-r requirements.txt (line 3)) (0.4.1)\n",
            "Requirement already satisfied: wasabi<1.1.0,>=0.4.0 in /usr/local/lib/python3.6/dist-packages (from spacy==2.2.3->-r requirements.txt (line 3)) (0.8.0)\n",
            "Requirement already satisfied: thinc<7.4.0,>=7.3.0 in /usr/local/lib/python3.6/dist-packages (from spacy==2.2.3->-r requirements.txt (line 3)) (7.3.1)\n",
            "Requirement already satisfied: preshed<3.1.0,>=3.0.2 in /usr/local/lib/python3.6/dist-packages (from spacy==2.2.3->-r requirements.txt (line 3)) (3.0.2)\n",
            "Requirement already satisfied: matplotlib>=1.4.3 in /usr/local/lib/python3.6/dist-packages (from seaborn==0.9.0->-r requirements.txt (line 5)) (3.2.2)\n",
            "Requirement already satisfied: ipython>=4.0.0 in /usr/local/lib/python3.6/dist-packages (from ipykernel->-r requirements.txt (line 7)) (5.5.0)\n",
            "Requirement already satisfied: traitlets>=4.1.0 in /usr/local/lib/python3.6/dist-packages (from ipykernel->-r requirements.txt (line 7)) (4.3.3)\n",
            "Requirement already satisfied: jupyter-client in /usr/local/lib/python3.6/dist-packages (from ipykernel->-r requirements.txt (line 7)) (5.3.5)\n",
            "Requirement already satisfied: tornado>=4.0 in /usr/local/lib/python3.6/dist-packages (from ipykernel->-r requirements.txt (line 7)) (5.1.1)\n",
            "Requirement already satisfied: python-dateutil>=2.7.3 in /usr/local/lib/python3.6/dist-packages (from pandas->-r requirements.txt (line 9)) (2.8.1)\n",
            "Requirement already satisfied: pytz>=2017.2 in /usr/local/lib/python3.6/dist-packages (from pandas->-r requirements.txt (line 9)) (2018.9)\n",
            "Requirement already satisfied: atomicwrites>=1.0 in /usr/local/lib/python3.6/dist-packages (from pytest->pyLDAvis==2.1.2->-r requirements.txt (line 2)) (1.4.0)\n",
            "Requirement already satisfied: more-itertools>=4.0.0 in /usr/local/lib/python3.6/dist-packages (from pytest->pyLDAvis==2.1.2->-r requirements.txt (line 2)) (8.5.0)\n",
            "Requirement already satisfied: pluggy<0.8,>=0.5 in /usr/local/lib/python3.6/dist-packages (from pytest->pyLDAvis==2.1.2->-r requirements.txt (line 2)) (0.7.1)\n",
            "Requirement already satisfied: attrs>=17.4.0 in /usr/local/lib/python3.6/dist-packages (from pytest->pyLDAvis==2.1.2->-r requirements.txt (line 2)) (20.2.0)\n",
            "Requirement already satisfied: py>=1.5.0 in /usr/local/lib/python3.6/dist-packages (from pytest->pyLDAvis==2.1.2->-r requirements.txt (line 2)) (1.9.0)\n",
            "Requirement already satisfied: MarkupSafe>=0.23 in /usr/local/lib/python3.6/dist-packages (from jinja2>=2.7.2->pyLDAvis==2.1.2->-r requirements.txt (line 2)) (1.1.1)\n",
            "Requirement already satisfied: chardet<4,>=3.0.2 in /usr/local/lib/python3.6/dist-packages (from requests<3.0.0,>=2.13.0->spacy==2.2.3->-r requirements.txt (line 3)) (3.0.4)\n",
            "Requirement already satisfied: urllib3!=1.25.0,!=1.25.1,<1.26,>=1.21.1 in /usr/local/lib/python3.6/dist-packages (from requests<3.0.0,>=2.13.0->spacy==2.2.3->-r requirements.txt (line 3)) (1.24.3)\n",
            "Requirement already satisfied: idna<3,>=2.5 in /usr/local/lib/python3.6/dist-packages (from requests<3.0.0,>=2.13.0->spacy==2.2.3->-r requirements.txt (line 3)) (2.10)\n",
            "Requirement already satisfied: certifi>=2017.4.17 in /usr/local/lib/python3.6/dist-packages (from requests<3.0.0,>=2.13.0->spacy==2.2.3->-r requirements.txt (line 3)) (2020.6.20)\n",
            "Requirement already satisfied: importlib-metadata>=0.20; python_version < \"3.8\" in /usr/local/lib/python3.6/dist-packages (from catalogue<1.1.0,>=0.0.7->spacy==2.2.3->-r requirements.txt (line 3)) (2.0.0)\n",
            "Requirement already satisfied: tqdm<5.0.0,>=4.10.0 in /usr/local/lib/python3.6/dist-packages (from thinc<7.4.0,>=7.3.0->spacy==2.2.3->-r requirements.txt (line 3)) (4.41.1)\n",
            "Requirement already satisfied: cycler>=0.10 in /usr/local/lib/python3.6/dist-packages (from matplotlib>=1.4.3->seaborn==0.9.0->-r requirements.txt (line 5)) (0.10.0)\n",
            "Requirement already satisfied: pyparsing!=2.0.4,!=2.1.2,!=2.1.6,>=2.0.1 in /usr/local/lib/python3.6/dist-packages (from matplotlib>=1.4.3->seaborn==0.9.0->-r requirements.txt (line 5)) (2.4.7)\n",
            "Requirement already satisfied: kiwisolver>=1.0.1 in /usr/local/lib/python3.6/dist-packages (from matplotlib>=1.4.3->seaborn==0.9.0->-r requirements.txt (line 5)) (1.2.0)\n",
            "Requirement already satisfied: pexpect; sys_platform != \"win32\" in /usr/local/lib/python3.6/dist-packages (from ipython>=4.0.0->ipykernel->-r requirements.txt (line 7)) (4.8.0)\n",
            "Requirement already satisfied: prompt-toolkit<2.0.0,>=1.0.4 in /usr/local/lib/python3.6/dist-packages (from ipython>=4.0.0->ipykernel->-r requirements.txt (line 7)) (1.0.18)\n",
            "Requirement already satisfied: pickleshare in /usr/local/lib/python3.6/dist-packages (from ipython>=4.0.0->ipykernel->-r requirements.txt (line 7)) (0.7.5)\n",
            "Requirement already satisfied: decorator in /usr/local/lib/python3.6/dist-packages (from ipython>=4.0.0->ipykernel->-r requirements.txt (line 7)) (4.4.2)\n",
            "Requirement already satisfied: simplegeneric>0.8 in /usr/local/lib/python3.6/dist-packages (from ipython>=4.0.0->ipykernel->-r requirements.txt (line 7)) (0.8.1)\n",
            "Requirement already satisfied: pygments in /usr/local/lib/python3.6/dist-packages (from ipython>=4.0.0->ipykernel->-r requirements.txt (line 7)) (2.6.1)\n",
            "Requirement already satisfied: ipython-genutils in /usr/local/lib/python3.6/dist-packages (from traitlets>=4.1.0->ipykernel->-r requirements.txt (line 7)) (0.2.0)\n",
            "Requirement already satisfied: pyzmq>=13 in /usr/local/lib/python3.6/dist-packages (from jupyter-client->ipykernel->-r requirements.txt (line 7)) (19.0.2)\n",
            "Requirement already satisfied: jupyter-core>=4.6.0 in /usr/local/lib/python3.6/dist-packages (from jupyter-client->ipykernel->-r requirements.txt (line 7)) (4.6.3)\n",
            "Requirement already satisfied: zipp>=0.5 in /usr/local/lib/python3.6/dist-packages (from importlib-metadata>=0.20; python_version < \"3.8\"->catalogue<1.1.0,>=0.0.7->spacy==2.2.3->-r requirements.txt (line 3)) (3.2.0)\n",
            "Requirement already satisfied: ptyprocess>=0.5 in /usr/local/lib/python3.6/dist-packages (from pexpect; sys_platform != \"win32\"->ipython>=4.0.0->ipykernel->-r requirements.txt (line 7)) (0.6.0)\n",
            "Requirement already satisfied: wcwidth in /usr/local/lib/python3.6/dist-packages (from prompt-toolkit<2.0.0,>=1.0.4->ipython>=4.0.0->ipykernel->-r requirements.txt (line 7)) (0.2.5)\n",
            "Installing collected packages: spacy\n",
            "  Found existing installation: spacy 2.2.2\n",
            "    Uninstalling spacy-2.2.2:\n",
            "      Successfully uninstalled spacy-2.2.2\n",
            "Successfully installed spacy-2.2.3\n",
            "Requirement already satisfied: en_core_web_lg==2.2.5 from https://github.com/explosion/spacy-models/releases/download/en_core_web_lg-2.2.5/en_core_web_lg-2.2.5.tar.gz#egg=en_core_web_lg==2.2.5 in /usr/local/lib/python3.6/dist-packages (2.2.5)\n",
            "Requirement already satisfied: spacy>=2.2.2 in /usr/local/lib/python3.6/dist-packages (from en_core_web_lg==2.2.5) (2.2.3)\n",
            "Requirement already satisfied: thinc<7.4.0,>=7.3.0 in /usr/local/lib/python3.6/dist-packages (from spacy>=2.2.2->en_core_web_lg==2.2.5) (7.3.1)\n",
            "Requirement already satisfied: catalogue<1.1.0,>=0.0.7 in /usr/local/lib/python3.6/dist-packages (from spacy>=2.2.2->en_core_web_lg==2.2.5) (1.0.0)\n",
            "Requirement already satisfied: blis<0.5.0,>=0.4.0 in /usr/local/lib/python3.6/dist-packages (from spacy>=2.2.2->en_core_web_lg==2.2.5) (0.4.1)\n",
            "Requirement already satisfied: plac<1.2.0,>=0.9.6 in /usr/local/lib/python3.6/dist-packages (from spacy>=2.2.2->en_core_web_lg==2.2.5) (1.1.3)\n",
            "Requirement already satisfied: wasabi<1.1.0,>=0.4.0 in /usr/local/lib/python3.6/dist-packages (from spacy>=2.2.2->en_core_web_lg==2.2.5) (0.8.0)\n",
            "Requirement already satisfied: preshed<3.1.0,>=3.0.2 in /usr/local/lib/python3.6/dist-packages (from spacy>=2.2.2->en_core_web_lg==2.2.5) (3.0.2)\n",
            "Requirement already satisfied: numpy>=1.15.0 in /usr/local/lib/python3.6/dist-packages (from spacy>=2.2.2->en_core_web_lg==2.2.5) (1.18.5)\n",
            "Requirement already satisfied: setuptools in /usr/local/lib/python3.6/dist-packages (from spacy>=2.2.2->en_core_web_lg==2.2.5) (50.3.0)\n",
            "Requirement already satisfied: srsly<1.1.0,>=0.1.0 in /usr/local/lib/python3.6/dist-packages (from spacy>=2.2.2->en_core_web_lg==2.2.5) (1.0.2)\n",
            "Requirement already satisfied: murmurhash<1.1.0,>=0.28.0 in /usr/local/lib/python3.6/dist-packages (from spacy>=2.2.2->en_core_web_lg==2.2.5) (1.0.2)\n",
            "Requirement already satisfied: cymem<2.1.0,>=2.0.2 in /usr/local/lib/python3.6/dist-packages (from spacy>=2.2.2->en_core_web_lg==2.2.5) (2.0.3)\n",
            "Requirement already satisfied: requests<3.0.0,>=2.13.0 in /usr/local/lib/python3.6/dist-packages (from spacy>=2.2.2->en_core_web_lg==2.2.5) (2.23.0)\n",
            "Requirement already satisfied: tqdm<5.0.0,>=4.10.0 in /usr/local/lib/python3.6/dist-packages (from thinc<7.4.0,>=7.3.0->spacy>=2.2.2->en_core_web_lg==2.2.5) (4.41.1)\n",
            "Requirement already satisfied: importlib-metadata>=0.20; python_version < \"3.8\" in /usr/local/lib/python3.6/dist-packages (from catalogue<1.1.0,>=0.0.7->spacy>=2.2.2->en_core_web_lg==2.2.5) (2.0.0)\n",
            "Requirement already satisfied: chardet<4,>=3.0.2 in /usr/local/lib/python3.6/dist-packages (from requests<3.0.0,>=2.13.0->spacy>=2.2.2->en_core_web_lg==2.2.5) (3.0.4)\n",
            "Requirement already satisfied: urllib3!=1.25.0,!=1.25.1,<1.26,>=1.21.1 in /usr/local/lib/python3.6/dist-packages (from requests<3.0.0,>=2.13.0->spacy>=2.2.2->en_core_web_lg==2.2.5) (1.24.3)\n",
            "Requirement already satisfied: idna<3,>=2.5 in /usr/local/lib/python3.6/dist-packages (from requests<3.0.0,>=2.13.0->spacy>=2.2.2->en_core_web_lg==2.2.5) (2.10)\n",
            "Requirement already satisfied: certifi>=2017.4.17 in /usr/local/lib/python3.6/dist-packages (from requests<3.0.0,>=2.13.0->spacy>=2.2.2->en_core_web_lg==2.2.5) (2020.6.20)\n",
            "Requirement already satisfied: zipp>=0.5 in /usr/local/lib/python3.6/dist-packages (from importlib-metadata>=0.20; python_version < \"3.8\"->catalogue<1.1.0,>=0.0.7->spacy>=2.2.2->en_core_web_lg==2.2.5) (3.2.0)\n",
            "\u001b[38;5;2m✔ Download and installation successful\u001b[0m\n",
            "You can now load the model via spacy.load('en_core_web_lg')\n",
            "Collecting spacy==2.2.2\n",
            "  Using cached https://files.pythonhosted.org/packages/b9/05/e82c888a36f24608664b56abe737f4428410d370791f6112fb3e9b4a4a81/spacy-2.2.2-cp36-cp36m-manylinux1_x86_64.whl\n",
            "Requirement already satisfied, skipping upgrade: numpy>=1.15.0 in /usr/local/lib/python3.6/dist-packages (from spacy==2.2.2) (1.18.5)\n",
            "Requirement already satisfied, skipping upgrade: preshed<3.1.0,>=3.0.2 in /usr/local/lib/python3.6/dist-packages (from spacy==2.2.2) (3.0.2)\n",
            "Requirement already satisfied, skipping upgrade: plac<1.2.0,>=0.9.6 in /usr/local/lib/python3.6/dist-packages (from spacy==2.2.2) (1.1.3)\n",
            "Requirement already satisfied, skipping upgrade: thinc<7.4.0,>=7.3.0 in /usr/local/lib/python3.6/dist-packages (from spacy==2.2.2) (7.3.1)\n",
            "Requirement already satisfied, skipping upgrade: srsly<1.1.0,>=0.1.0 in /usr/local/lib/python3.6/dist-packages (from spacy==2.2.2) (1.0.2)\n",
            "Requirement already satisfied, skipping upgrade: requests<3.0.0,>=2.13.0 in /usr/local/lib/python3.6/dist-packages (from spacy==2.2.2) (2.23.0)\n",
            "Requirement already satisfied, skipping upgrade: setuptools in /usr/local/lib/python3.6/dist-packages (from spacy==2.2.2) (50.3.0)\n",
            "Requirement already satisfied, skipping upgrade: murmurhash<1.1.0,>=0.28.0 in /usr/local/lib/python3.6/dist-packages (from spacy==2.2.2) (1.0.2)\n",
            "Requirement already satisfied, skipping upgrade: wasabi<1.1.0,>=0.3.0 in /usr/local/lib/python3.6/dist-packages (from spacy==2.2.2) (0.8.0)\n",
            "Requirement already satisfied, skipping upgrade: importlib-metadata>=0.20; python_version < \"3.8\" in /usr/local/lib/python3.6/dist-packages (from spacy==2.2.2) (2.0.0)\n",
            "Requirement already satisfied, skipping upgrade: cymem<2.1.0,>=2.0.2 in /usr/local/lib/python3.6/dist-packages (from spacy==2.2.2) (2.0.3)\n",
            "Requirement already satisfied, skipping upgrade: blis<0.5.0,>=0.4.0 in /usr/local/lib/python3.6/dist-packages (from spacy==2.2.2) (0.4.1)\n",
            "Requirement already satisfied, skipping upgrade: tqdm<5.0.0,>=4.10.0 in /usr/local/lib/python3.6/dist-packages (from thinc<7.4.0,>=7.3.0->spacy==2.2.2) (4.41.1)\n",
            "Requirement already satisfied, skipping upgrade: chardet<4,>=3.0.2 in /usr/local/lib/python3.6/dist-packages (from requests<3.0.0,>=2.13.0->spacy==2.2.2) (3.0.4)\n",
            "Requirement already satisfied, skipping upgrade: idna<3,>=2.5 in /usr/local/lib/python3.6/dist-packages (from requests<3.0.0,>=2.13.0->spacy==2.2.2) (2.10)\n",
            "Requirement already satisfied, skipping upgrade: certifi>=2017.4.17 in /usr/local/lib/python3.6/dist-packages (from requests<3.0.0,>=2.13.0->spacy==2.2.2) (2020.6.20)\n",
            "Requirement already satisfied, skipping upgrade: urllib3!=1.25.0,!=1.25.1,<1.26,>=1.21.1 in /usr/local/lib/python3.6/dist-packages (from requests<3.0.0,>=2.13.0->spacy==2.2.2) (1.24.3)\n",
            "Requirement already satisfied, skipping upgrade: zipp>=0.5 in /usr/local/lib/python3.6/dist-packages (from importlib-metadata>=0.20; python_version < \"3.8\"->spacy==2.2.2) (3.2.0)\n",
            "Installing collected packages: spacy\n",
            "  Found existing installation: spacy 2.2.3\n",
            "    Uninstalling spacy-2.2.3:\n",
            "      Successfully uninstalled spacy-2.2.3\n",
            "Successfully installed spacy-2.2.2\n"
          ],
          "name": "stdout"
        }
      ]
    },
    {
      "cell_type": "code",
      "metadata": {
        "id": "toJFwnS-m1Ng"
      },
      "source": [
        "import re\n",
        "import numpy as np\n",
        "import pandas as pd\n",
        "from pprint import pprint\n",
        "\n",
        "import gensim  # the LDA/topic modeling library\n",
        "import gensim.corpora as corpora\n",
        "from gensim.utils import simple_preprocess\n",
        "from gensim.models import CoherenceModel\n",
        "\n",
        "import spacy\n",
        "\n",
        "import pyLDAvis\n",
        "import pyLDAvis.gensim \n",
        "import matplotlib.pyplot as plt"
      ],
      "execution_count": null,
      "outputs": []
    },
    {
      "cell_type": "code",
      "metadata": {
        "id": "BzoTc_gLlQ2e"
      },
      "source": [
        "\n",
        "from sklearn.datasets import fetch_20newsgroups\n",
        "from sklearn.ensemble import RandomForestClassifier\n",
        "from sklearn.model_selection import GridSearchCV\n",
        "from sklearn.feature_extraction.text import TfidfVectorizer"
      ],
      "execution_count": null,
      "outputs": []
    },
    {
      "cell_type": "code",
      "metadata": {
        "id": "pVPwv3smkhHa"
      },
      "source": [
        "df = pd.read_csv('/content/Datafiniti_Amazon_Consumer_Reviews_of_Amazon_Products_May19.csv')"
      ],
      "execution_count": null,
      "outputs": []
    },
    {
      "cell_type": "code",
      "metadata": {
        "id": "HpxCzIhkmQXY",
        "outputId": "e5397416-666a-471b-908f-035ab8370ba1",
        "colab": {
          "base_uri": "https://localhost:8080/",
          "height": 551
        }
      },
      "source": [
        "df.head()"
      ],
      "execution_count": null,
      "outputs": [
        {
          "output_type": "execute_result",
          "data": {
            "text/html": [
              "<div>\n",
              "<style scoped>\n",
              "    .dataframe tbody tr th:only-of-type {\n",
              "        vertical-align: middle;\n",
              "    }\n",
              "\n",
              "    .dataframe tbody tr th {\n",
              "        vertical-align: top;\n",
              "    }\n",
              "\n",
              "    .dataframe thead th {\n",
              "        text-align: right;\n",
              "    }\n",
              "</style>\n",
              "<table border=\"1\" class=\"dataframe\">\n",
              "  <thead>\n",
              "    <tr style=\"text-align: right;\">\n",
              "      <th></th>\n",
              "      <th>id</th>\n",
              "      <th>dateAdded</th>\n",
              "      <th>dateUpdated</th>\n",
              "      <th>name</th>\n",
              "      <th>asins</th>\n",
              "      <th>brand</th>\n",
              "      <th>categories</th>\n",
              "      <th>primaryCategories</th>\n",
              "      <th>imageURLs</th>\n",
              "      <th>keys</th>\n",
              "      <th>manufacturer</th>\n",
              "      <th>manufacturerNumber</th>\n",
              "      <th>reviews.date</th>\n",
              "      <th>reviews.dateSeen</th>\n",
              "      <th>reviews.didPurchase</th>\n",
              "      <th>reviews.doRecommend</th>\n",
              "      <th>reviews.id</th>\n",
              "      <th>reviews.numHelpful</th>\n",
              "      <th>reviews.rating</th>\n",
              "      <th>reviews.sourceURLs</th>\n",
              "      <th>reviews.text</th>\n",
              "      <th>reviews.title</th>\n",
              "      <th>reviews.username</th>\n",
              "      <th>sourceURLs</th>\n",
              "    </tr>\n",
              "  </thead>\n",
              "  <tbody>\n",
              "    <tr>\n",
              "      <th>0</th>\n",
              "      <td>AVpgNzjwLJeJML43Kpxn</td>\n",
              "      <td>2015-10-30T08:59:32Z</td>\n",
              "      <td>2019-04-25T09:08:16Z</td>\n",
              "      <td>AmazonBasics AAA Performance Alkaline Batterie...</td>\n",
              "      <td>B00QWO9P0O,B00LH3DMUO</td>\n",
              "      <td>Amazonbasics</td>\n",
              "      <td>AA,AAA,Health,Electronics,Health &amp; Household,C...</td>\n",
              "      <td>Health &amp; Beauty</td>\n",
              "      <td>https://images-na.ssl-images-amazon.com/images...</td>\n",
              "      <td>amazonbasics/hl002619,amazonbasicsaaaperforman...</td>\n",
              "      <td>AmazonBasics</td>\n",
              "      <td>HL-002619</td>\n",
              "      <td>2017-03-02T00:00:00.000Z</td>\n",
              "      <td>2017-08-28T00:00:00Z</td>\n",
              "      <td>NaN</td>\n",
              "      <td>NaN</td>\n",
              "      <td>NaN</td>\n",
              "      <td>NaN</td>\n",
              "      <td>3</td>\n",
              "      <td>https://www.amazon.com/product-reviews/B00QWO9...</td>\n",
              "      <td>I order 3 of them and one of the item is bad q...</td>\n",
              "      <td>... 3 of them and one of the item is bad quali...</td>\n",
              "      <td>Byger yang</td>\n",
              "      <td>https://www.barcodable.com/upc/841710106442,ht...</td>\n",
              "    </tr>\n",
              "    <tr>\n",
              "      <th>1</th>\n",
              "      <td>AVpgNzjwLJeJML43Kpxn</td>\n",
              "      <td>2015-10-30T08:59:32Z</td>\n",
              "      <td>2019-04-25T09:08:16Z</td>\n",
              "      <td>AmazonBasics AAA Performance Alkaline Batterie...</td>\n",
              "      <td>B00QWO9P0O,B00LH3DMUO</td>\n",
              "      <td>Amazonbasics</td>\n",
              "      <td>AA,AAA,Health,Electronics,Health &amp; Household,C...</td>\n",
              "      <td>Health &amp; Beauty</td>\n",
              "      <td>https://images-na.ssl-images-amazon.com/images...</td>\n",
              "      <td>amazonbasics/hl002619,amazonbasicsaaaperforman...</td>\n",
              "      <td>AmazonBasics</td>\n",
              "      <td>HL-002619</td>\n",
              "      <td>2016-08-31T00:00:00.000Z</td>\n",
              "      <td>2017-08-28T00:00:00Z</td>\n",
              "      <td>NaN</td>\n",
              "      <td>NaN</td>\n",
              "      <td>NaN</td>\n",
              "      <td>NaN</td>\n",
              "      <td>4</td>\n",
              "      <td>https://www.amazon.com/product-reviews/B00QWO9...</td>\n",
              "      <td>Bulk is always the less expensive way to go fo...</td>\n",
              "      <td>... always the less expensive way to go for pr...</td>\n",
              "      <td>ByMG</td>\n",
              "      <td>https://www.barcodable.com/upc/841710106442,ht...</td>\n",
              "    </tr>\n",
              "    <tr>\n",
              "      <th>2</th>\n",
              "      <td>AVpgNzjwLJeJML43Kpxn</td>\n",
              "      <td>2015-10-30T08:59:32Z</td>\n",
              "      <td>2019-04-25T09:08:16Z</td>\n",
              "      <td>AmazonBasics AAA Performance Alkaline Batterie...</td>\n",
              "      <td>B00QWO9P0O,B00LH3DMUO</td>\n",
              "      <td>Amazonbasics</td>\n",
              "      <td>AA,AAA,Health,Electronics,Health &amp; Household,C...</td>\n",
              "      <td>Health &amp; Beauty</td>\n",
              "      <td>https://images-na.ssl-images-amazon.com/images...</td>\n",
              "      <td>amazonbasics/hl002619,amazonbasicsaaaperforman...</td>\n",
              "      <td>AmazonBasics</td>\n",
              "      <td>HL-002619</td>\n",
              "      <td>2016-12-06T00:00:00.000Z</td>\n",
              "      <td>2017-08-28T00:00:00Z</td>\n",
              "      <td>NaN</td>\n",
              "      <td>NaN</td>\n",
              "      <td>NaN</td>\n",
              "      <td>NaN</td>\n",
              "      <td>5</td>\n",
              "      <td>https://www.amazon.com/product-reviews/B00QWO9...</td>\n",
              "      <td>Well they are not Duracell but for the price i...</td>\n",
              "      <td>... are not Duracell but for the price i am ha...</td>\n",
              "      <td>BySharon Lambert</td>\n",
              "      <td>https://www.barcodable.com/upc/841710106442,ht...</td>\n",
              "    </tr>\n",
              "    <tr>\n",
              "      <th>3</th>\n",
              "      <td>AVpgNzjwLJeJML43Kpxn</td>\n",
              "      <td>2015-10-30T08:59:32Z</td>\n",
              "      <td>2019-04-25T09:08:16Z</td>\n",
              "      <td>AmazonBasics AAA Performance Alkaline Batterie...</td>\n",
              "      <td>B00QWO9P0O,B00LH3DMUO</td>\n",
              "      <td>Amazonbasics</td>\n",
              "      <td>AA,AAA,Health,Electronics,Health &amp; Household,C...</td>\n",
              "      <td>Health &amp; Beauty</td>\n",
              "      <td>https://images-na.ssl-images-amazon.com/images...</td>\n",
              "      <td>amazonbasics/hl002619,amazonbasicsaaaperforman...</td>\n",
              "      <td>AmazonBasics</td>\n",
              "      <td>HL-002619</td>\n",
              "      <td>2016-03-28T00:00:00.000Z</td>\n",
              "      <td>2017-08-28T00:00:00Z</td>\n",
              "      <td>NaN</td>\n",
              "      <td>NaN</td>\n",
              "      <td>NaN</td>\n",
              "      <td>NaN</td>\n",
              "      <td>5</td>\n",
              "      <td>https://www.amazon.com/product-reviews/B00QWO9...</td>\n",
              "      <td>Seem to work as well as name brand batteries a...</td>\n",
              "      <td>... as well as name brand batteries at a much ...</td>\n",
              "      <td>Bymark sexson</td>\n",
              "      <td>https://www.barcodable.com/upc/841710106442,ht...</td>\n",
              "    </tr>\n",
              "    <tr>\n",
              "      <th>4</th>\n",
              "      <td>AVpgNzjwLJeJML43Kpxn</td>\n",
              "      <td>2015-10-30T08:59:32Z</td>\n",
              "      <td>2019-04-25T09:08:16Z</td>\n",
              "      <td>AmazonBasics AAA Performance Alkaline Batterie...</td>\n",
              "      <td>B00QWO9P0O,B00LH3DMUO</td>\n",
              "      <td>Amazonbasics</td>\n",
              "      <td>AA,AAA,Health,Electronics,Health &amp; Household,C...</td>\n",
              "      <td>Health &amp; Beauty</td>\n",
              "      <td>https://images-na.ssl-images-amazon.com/images...</td>\n",
              "      <td>amazonbasics/hl002619,amazonbasicsaaaperforman...</td>\n",
              "      <td>AmazonBasics</td>\n",
              "      <td>HL-002619</td>\n",
              "      <td>2017-04-22T00:00:00.000Z</td>\n",
              "      <td>2017-08-28T00:00:00Z</td>\n",
              "      <td>NaN</td>\n",
              "      <td>NaN</td>\n",
              "      <td>NaN</td>\n",
              "      <td>NaN</td>\n",
              "      <td>5</td>\n",
              "      <td>https://www.amazon.com/product-reviews/B00QWO9...</td>\n",
              "      <td>These batteries are very long lasting the pric...</td>\n",
              "      <td>... batteries are very long lasting the price ...</td>\n",
              "      <td>Bylinda</td>\n",
              "      <td>https://www.barcodable.com/upc/841710106442,ht...</td>\n",
              "    </tr>\n",
              "  </tbody>\n",
              "</table>\n",
              "</div>"
            ],
            "text/plain": [
              "                     id  ...                                         sourceURLs\n",
              "0  AVpgNzjwLJeJML43Kpxn  ...  https://www.barcodable.com/upc/841710106442,ht...\n",
              "1  AVpgNzjwLJeJML43Kpxn  ...  https://www.barcodable.com/upc/841710106442,ht...\n",
              "2  AVpgNzjwLJeJML43Kpxn  ...  https://www.barcodable.com/upc/841710106442,ht...\n",
              "3  AVpgNzjwLJeJML43Kpxn  ...  https://www.barcodable.com/upc/841710106442,ht...\n",
              "4  AVpgNzjwLJeJML43Kpxn  ...  https://www.barcodable.com/upc/841710106442,ht...\n",
              "\n",
              "[5 rows x 24 columns]"
            ]
          },
          "metadata": {
            "tags": []
          },
          "execution_count": 5
        }
      ]
    },
    {
      "cell_type": "code",
      "metadata": {
        "id": "TPUTMzf5my1e"
      },
      "source": [
        "def lemma_tokenizer(text):\n",
        "  lemmas = []\n",
        "  for token in nlp(text):\n",
        "    if token.text.lower() not in STOP_WORDS and token.is_stop != True and token.is_punct != True:\n",
        "      lemmas.append(token.lemma_)\n",
        "  return lemmas"
      ],
      "execution_count": null,
      "outputs": []
    },
    {
      "cell_type": "code",
      "metadata": {
        "id": "P5A9JaVLpDci"
      },
      "source": [
        "nlp = spacy.load('en_core_web_lg')"
      ],
      "execution_count": null,
      "outputs": []
    },
    {
      "cell_type": "code",
      "metadata": {
        "id": "rqii3wayobrz"
      },
      "source": [
        "\n",
        "STOP_WORDS = nlp.Defaults.stop_words.union(['ordered','order','batteries','i', 'amazon', 'i','it', \"it's\", 'it.', 'the', 'this',\"i'll\",\"ive\"])"
      ],
      "execution_count": null,
      "outputs": []
    },
    {
      "cell_type": "code",
      "metadata": {
        "id": "Kkp6ONREpn8w"
      },
      "source": [
        "df['lemmas'] = df['reviews.text'].apply(lemma_tokenizer)"
      ],
      "execution_count": null,
      "outputs": []
    },
    {
      "cell_type": "code",
      "metadata": {
        "id": "C6ScwLVLr9dK"
      },
      "source": [
        ""
      ],
      "execution_count": null,
      "outputs": []
    },
    {
      "cell_type": "code",
      "metadata": {
        "id": "uNyhv0ycr9Sj"
      },
      "source": [
        "# Create Dictionary\n",
        "id2word = corpora.Dictionary(df['lemmas'] )\n",
        "\n",
        "# Term Document Frequency\n",
        "corpus = [id2word.doc2bow(text) for text in df['lemmas']]"
      ],
      "execution_count": null,
      "outputs": []
    },
    {
      "cell_type": "code",
      "metadata": {
        "id": "6u8XudyPrrny",
        "outputId": "20354c39-88bd-4d1e-f271-2cc9e7680d07",
        "colab": {
          "base_uri": "https://localhost:8080/",
          "height": 50
        }
      },
      "source": [
        "%%time\n",
        "lda_model = gensim.models.ldamodel.LdaModel(corpus=corpus,\n",
        "                                           id2word=id2word,\n",
        "                                           num_topics=20, \n",
        "                                           chunksize=100,\n",
        "                                           passes=10,\n",
        "                                           per_word_topics=True)"
      ],
      "execution_count": null,
      "outputs": [
        {
          "output_type": "stream",
          "text": [
            "CPU times: user 2min 8s, sys: 364 ms, total: 2min 9s\n",
            "Wall time: 2min 9s\n"
          ],
          "name": "stdout"
        }
      ]
    },
    {
      "cell_type": "code",
      "metadata": {
        "id": "3e2h0Wynsf72",
        "outputId": "44a1775b-0ee8-4377-c0f7-37b40d35abe7",
        "colab": {
          "base_uri": "https://localhost:8080/",
          "height": 1000
        }
      },
      "source": [
        "pprint(lda_model.print_topics())\n",
        "doc_lda = lda_model[corpus]"
      ],
      "execution_count": null,
      "outputs": [
        {
          "output_type": "stream",
          "text": [
            "[(0,\n",
            "  '0.371*\"year\" + 0.279*\"want\" + 0.137*\"light\" + 0.036*\"decent\" + '\n",
            "  '0.032*\"quick\" + 0.028*\"keyboard\" + 0.027*\"job\" + 0.019*\"night\" + '\n",
            "  '0.005*\"date\" + 0.001*\"comment\"'),\n",
            " (1,\n",
            "  '0.231*\"fast\" + 0.107*\"right\" + 0.098*\"version\" + 0.061*\"online\" + '\n",
            "  '0.057*\"decide\" + 0.055*\"different\" + 0.054*\"6\" + 0.053*\"inexpensive\" + '\n",
            "  '0.053*\"high\" + 0.049*\"hard\"'),\n",
            " (2,\n",
            "  '0.454*\"good\" + 0.341*\"buy\" + 0.112*\"price\" + 0.042*\"excellent\" + '\n",
            "  '0.018*\"performance\" + 0.000*\"tablet\" + 0.000*\"app\" + 0.000*\"old\" + '\n",
            "  '0.000*\"book\" + 0.000*\"read\"'),\n",
            " (3,\n",
            "  '0.218*\"value\" + 0.192*\"deal\" + 0.140*\"good\" + 0.091*\"faster\" + 0.082*\"100\" '\n",
            "  '+ 0.079*\"satisfied\" + 0.017*\"order\" + 0.016*\"pack\" + 0.000*\"tablet\" + '\n",
            "  '0.000*\"old\"'),\n",
            " (4,\n",
            "  '0.254*\"perfect\" + 0.150*\"store\" + 0.129*\"find\" + 0.115*\"able\" + 0.073*\"try\" '\n",
            "  '+ 0.063*\"better\" + 0.054*\"expensive\" + 0.027*\"longer\" + 0.025*\"exactly\" + '\n",
            "  '0.018*\"convenient\"'),\n",
            " (5,\n",
            "  '0.302*\"easy\" + 0.105*\"size\" + 0.088*\"buy\" + 0.085*\"lot\" + 0.054*\"charge\" + '\n",
            "  '0.041*\"awesome\" + 0.037*\"camera\" + 0.034*\"4\" + 0.028*\"basic\" + '\n",
            "  '0.028*\"large\"'),\n",
            " (6,\n",
            "  '0.206*\"give\" + 0.203*\"pretty\" + 0.154*\"definitely\" + 0.113*\"thank\" + '\n",
            "  '0.058*\"strong\" + 0.054*\"brand\" + 0.042*\"disappoint\" + 0.004*\"name\" + '\n",
            "  '0.000*\"tablet\" + 0.000*\"app\"'),\n",
            " (7,\n",
            "  '0.599*\"use\" + 0.245*\"game\" + 0.049*\"low\" + 0.033*\"start\" + 0.017*\"week\" + '\n",
            "  '0.013*\"perform\" + 0.004*\"likely\" + 0.000*\"mouse\" + 0.000*\"tablet\" + '\n",
            "  '0.000*\"book\"'),\n",
            " (8,\n",
            "  '0.567*\"work\" + 0.194*\"far\" + 0.090*\"issue\" + 0.069*\"fine\" + 0.000*\"tablet\" '\n",
            "  '+ 0.000*\"app\" + 0.000*\"old\" + 0.000*\"screen\" + 0.000*\"fire\" + '\n",
            "  '0.000*\"Kindle\"'),\n",
            " (9,\n",
            "  '0.184*\"time\" + 0.176*\"nice\" + 0.118*\"look\" + 0.080*\"case\" + 0.069*\"think\" + '\n",
            "  '0.064*\"replace\" + 0.051*\"expect\" + 0.039*\"pleased\" + 0.027*\"fit\" + '\n",
            "  '0.025*\"home\"'),\n",
            " (10,\n",
            "  '0.387*\"well\" + 0.129*\"hold\" + 0.096*\"review\" + 0.085*\"compare\" + '\n",
            "  '0.066*\"purpose\" + 0.056*\"electronic\" + 0.026*\"short\" + 0.016*\"test\" + '\n",
            "  '0.001*\"energy\" + 0.000*\"tablet\"'),\n",
            " (11,\n",
            "  '0.310*\"battery\" + 0.241*\"quality\" + 0.130*\"item\" + 0.093*\"say\" + '\n",
            "  '0.047*\"bad\" + 0.041*\"everyday\" + 0.021*\"okay\" + 0.006*\"certainly\" + '\n",
            "  '0.000*\"tablet\" + 0.000*\"screen\"'),\n",
            " (12,\n",
            "  '0.218*\"life\" + 0.158*\"have\" + 0.104*\"amazing\" + 0.091*\"10\" + 0.073*\"end\" + '\n",
            "  '0.070*\"affordable\" + 0.066*\"update\" + 0.064*\"let\" + 0.015*\"suppose\" + '\n",
            "  '0.014*\"appear\"'),\n",
            " (13,\n",
            "  '0.175*\"need\" + 0.150*\"gift\" + 0.124*\"8\" + 0.123*\"device\" + 0.118*\"new\" + '\n",
            "  '0.105*\"son\" + 0.055*\"control\" + 0.030*\"hour\" + 0.027*\"tv\" + '\n",
            "  '0.025*\"replacement\"'),\n",
            " (14,\n",
            "  '0.513*\"love\" + 0.070*\"happy\" + 0.050*\"come\" + 0.044*\"take\" + 0.044*\"small\" '\n",
            "  '+ 0.043*\"money\" + 0.029*\"product\" + 0.023*\"etc\" + 0.020*\"bit\" + 0.018*\"9\"'),\n",
            " (15,\n",
            "  '0.340*\"purchase\" + 0.105*\"7\" + 0.089*\"2\" + 0.079*\"long\" + 0.063*\"cheap\" + '\n",
            "  '0.058*\"know\" + 0.036*\"especially\" + 0.032*\"family\" + 0.022*\"plenty\" + '\n",
            "  '0.020*\"last\"'),\n",
            " (16,\n",
            "  '0.553*\"great\" + 0.154*\"price\" + 0.107*\"product\" + 0.078*\"Christmas\" + '\n",
            "  '0.035*\"storage\" + 0.019*\"second\" + 0.019*\"feel\" + 0.006*\"fantastic\" + '\n",
            "  '0.003*\"cause\" + 0.000*\"tablet\"'),\n",
            " (17,\n",
            "  '0.489*\"like\" + 0.179*\"thing\" + 0.152*\"little\" + 0.098*\"way\" + 0.014*\"kind\" '\n",
            "  '+ 0.001*\"led\" + 0.000*\"tablet\" + 0.000*\"read\" + 0.000*\"app\" + 0.000*\"book\"'),\n",
            " (18,\n",
            "  '0.209*\"kid\" + 0.162*\"get\" + 0.143*\"play\" + 0.066*\"set\" + 0.065*\"child\" + '\n",
            "  '0.051*\"go\" + 0.039*\"day\" + 0.035*\"3\" + 0.032*\"beat\" + 0.029*\"worth\"'),\n",
            " (19,\n",
            "  '0.372*\"recommend\" + 0.117*\"available\" + 0.088*\"option\" + 0.088*\"highly\" + '\n",
            "  '0.077*\"not\" + 0.055*\"will\" + 0.053*\"spend\" + 0.033*\"mainly\" + 0.009*\"rate\" '\n",
            "  '+ 0.000*\"tablet\"')]\n"
          ],
          "name": "stdout"
        }
      ]
    },
    {
      "cell_type": "code",
      "metadata": {
        "id": "0AXvY8p-sqMO",
        "outputId": "16df115e-4358-436e-ba99-cdba965d258d",
        "colab": {
          "base_uri": "https://localhost:8080/",
          "height": 83
        }
      },
      "source": [
        "# Compute Perplexity\n",
        "print('\\nPerplexity: ', lda_model.log_perplexity(corpus))\n",
        "# a measure of how good the model is. lower the better.\n",
        "\n",
        "# Compute Coherence Score\n",
        "coherence_model_lda = CoherenceModel(model=lda_model, \n",
        "                                     texts=df['lemmas'], \n",
        "                                     dictionary=id2word, \n",
        "                                     coherence='c_v')\n",
        "coherence_lda = coherence_model_lda.get_coherence()\n",
        "print('\\nCoherence Score: ', coherence_lda)"
      ],
      "execution_count": null,
      "outputs": [
        {
          "output_type": "stream",
          "text": [
            "\n",
            "Perplexity:  -17.35247057891271\n",
            "\n",
            "Coherence Score:  0.39926080132210173\n"
          ],
          "name": "stdout"
        }
      ]
    },
    {
      "cell_type": "code",
      "metadata": {
        "id": "7Sm3H9EotXPm",
        "outputId": "4a3654aa-333e-4521-9447-5e0af329f43c",
        "colab": {
          "base_uri": "https://localhost:8080/",
          "height": 861
        }
      },
      "source": [
        "pyLDAvis.enable_notebook()\n",
        "vis = pyLDAvis.gensim.prepare(lda_model, corpus, id2word)\n",
        "pyLDAvis.display(vis)"
      ],
      "execution_count": null,
      "outputs": [
        {
          "output_type": "execute_result",
          "data": {
            "text/html": [
              "\n",
              "<link rel=\"stylesheet\" type=\"text/css\" href=\"https://cdn.rawgit.com/bmabey/pyLDAvis/files/ldavis.v1.0.0.css\">\n",
              "\n",
              "\n",
              "<div id=\"ldavis_el5761406563159022561513313068\"></div>\n",
              "<script type=\"text/javascript\">\n",
              "\n",
              "var ldavis_el5761406563159022561513313068_data = {\"mdsDat\": {\"x\": [-0.04122069205914311, 0.21448691116536278, 0.00994289223052369, 0.2148201045990773, 0.3644291258826965, -0.06080873251532924, -0.05053355938645372, -0.05780554755126869, -0.05258316255029504, -0.07389023631996475, -0.06942651842937887, -0.07194039266330723, -0.0774822166324833, -0.0872552463722674, 0.07956617361660687, -0.0943823511104165, -0.08857675680957172, -0.08680436269207345, -0.09169789451331456, 0.12116246211099967], \"y\": [-0.1587709033077204, 0.014615686119516127, -0.26033902859473257, -0.18647575783561032, 0.10993816976932579, -0.04672506106870816, -0.10378468918579555, -0.06309181458452223, -0.0920654300041657, 0.021468005640716943, -0.0012906091396767776, 0.011533042748427518, 0.03930783064959222, 0.08707704151716252, -0.004688224370488362, 0.12328653198818564, 0.09356736947313114, 0.08490046088683183, 0.10901131904216431, 0.2225260602563657], \"topics\": [1, 2, 3, 4, 5, 6, 7, 8, 9, 10, 11, 12, 13, 14, 15, 16, 17, 18, 19, 20], \"cluster\": [1, 1, 1, 1, 1, 1, 1, 1, 1, 1, 1, 1, 1, 1, 1, 1, 1, 1, 1, 1], \"Freq\": [8.892946093947556, 8.731465217120912, 8.346029751778888, 8.266366857666263, 7.038417150308446, 6.247549051947487, 6.212882441591762, 6.187053817608376, 5.3205069520126544, 4.071016532374235, 4.062651671849729, 3.8922137554699923, 3.8345467061751104, 3.2000245150025046, 3.1798167383068447, 2.693412842195022, 2.5404370743931075, 2.528697315915, 2.5122255164360245, 2.241739997900087]}, \"tinfo\": {\"Term\": [\"great\", \"love\", \"use\", \"good\", \"work\", \"buy\", \"easy\", \"like\", \"purchase\", \"year\", \"kid\", \"game\", \"price\", \"want\", \"well\", \"get\", \"recommend\", \"battery\", \"perfect\", \"time\", \"play\", \"nice\", \"need\", \"quality\", \"gift\", \"fast\", \"far\", \"thing\", \"size\", \"product\", \"kid\", \"get\", \"play\", \"set\", \"child\", \"go\", \"day\", \"3\", \"beat\", \"worth\", \"sure\", \"super\", \"month\", \"1\", \"daily\", \"pick\", \"couple\", \"change\", \"probably\", \"toy\", \"crazy\", \"powered\", \"comparable\", \"nearly\", \"count\", \"household\", \"ship\", \"possible\", \"door\", \"Xbox\", \"easy\", \"size\", \"lot\", \"charge\", \"awesome\", \"camera\", \"4\", \"basic\", \"large\", \"run\", \"simple\", \"cost\", \"hand\", \"one\", \"difference\", \"ago\", \"believe\", \"car\", \"reasonable\", \"house\", \"switch\", \"3rd\", \"notice\", \"half\", \"package\", \"opinion\", \"clock\", \"cold\", \"buy\", \"screen\", \"tablet\", \"love\", \"happy\", \"come\", \"take\", \"small\", \"money\", \"etc\", \"bit\", \"9\", \"quickly\", \"bright\", \"dollar\", \"away\", \"finally\", \"provide\", \"save\", \"non\", \"capacity\", \"box\", \"future\", \"trouble\", \"mean\", \"realize\", \"important\", \"1.5\", \"list\", \"comparison\", \"premium\", \"plastic\", \"equipment\", \"product\", \"great\", \"Christmas\", \"storage\", \"second\", \"feel\", \"fantastic\", \"cause\", \"product\", \"price\", \"tablet\", \"reading\", \"web\", \"feature\", \"picture\", \"surf\", \"present\", \"user\", \"offer\", \"expandable\", \"color\", \"friendly\", \"reader\", \"service\", \"internet\", \"tool\", \"watch\", \"advertising\", \"ipad\", \"learning\", \"person\", \"daughter\", \"book\", \"screen\", \"read\", \"movie\", \"kindle\", \"app\", \"Fire\", \"Kindle\", \"fire\", \"iPad\", \"old\", \"download\", \"enjoy\", \"video\", \"excellent\", \"performance\", \"good\", \"buy\", \"price\", \"tablet\", \"feature\", \"overall\", \"Buy\", \"kindle\", \"video\", \"resolution\", \"card\", \"watch\", \"Friday\", \"book\", \"sale\", \"tab\", \"daughter\", \"sd\", \"gb\", \"amazed\", \"black\", \"browsing\", \"iPad\", \"email\", \"Kindle\", \"require\", \"bookreader\", \"hoop\", \"internet\", \"app\", \"Black\", \"read\", \"old\", \"fire\", \"screen\", \"Fire\", \"$\", \"problem\", \"download\", \"movie\", \"purchase\", \"7\", \"2\", \"long\", \"cheap\", \"know\", \"especially\", \"family\", \"plenty\", \"last\", \"sell\", \"handy\", \"hit\", \"consider\", \"type\", \"12\", \"holiday\", \"20\", \"fully\", \"maybe\", \"popular\", \"average\", \"candle\", \"tablet\", \"Fire\", \"member\", \"inch\", \"Kindle\", \"big\", \"iPad\", \"old\", \"read\", \"book\", \"screen\", \"need\", \"gift\", \"8\", \"device\", \"new\", \"son\", \"control\", \"hour\", \"tv\", \"replacement\", \"power\", \"recharge\", \"put\", \"remote\", \"aa\", \"Fire\", \"parental\", \"Kindle\", \"HD\", \"kindle\", \"old\", \"enjoy\", \"inch\", \"fire\", \"hd\", \"meet\", \"feature\", \"husband\", \"help\", \"receive\", \"app\", \"tablet\", \"read\", \"book\", \"watch\", \"screen\", \"time\", \"nice\", \"look\", \"case\", \"think\", \"replace\", \"expect\", \"pleased\", \"fit\", \"home\", \"ok\", \"experience\", \"gaming\", \"past\", \"alternative\", \"place\", \"useful\", \"base\", \"stock\", \"arrive\", \"nicely\", \"condition\", \"screen\", \"Kindle\", \"tablet\", \"free\", \"problem\", \"Fire\", \"limit\", \"view\", \"app\", \"read\", \"book\", \"kindle\", \"old\", \"use\", \"game\", \"low\", \"start\", \"week\", \"perform\", \"likely\", \"mouse\", \"book\", \"movie\", \"watch\", \"read\", \"internet\", \"learn\", \"enjoy\", \"reading\", \"email\", \"playing\", \"download\", \"tablet\", \"ease\", \"web\", \"reader\", \"class\", \"allow\", \"individual\", \"learning\", \"grandson\", \"Dad\", \"computer\", \"video\", \"Kindle\", \"check\", \"app\", \"daughter\", \"Netflix\", \"music\", \"old\", \"free\", \"kindle\", \"Fire\", \"fire\", \"screen\", \"access\", \"perfect\", \"store\", \"find\", \"able\", \"try\", \"better\", \"expensive\", \"longer\", \"exactly\", \"convenient\", \"usage\", \"wireless\", \"shipping\", \"pricing\", \"microphone\", \"app\", \"google\", \"read\", \"movie\", \"book\", \"download\", \"Google\", \"internet\", \"return\", \"navigate\", \"Play\", \"limited\", \"stream\", \"tablet\", \"install\", \"ad\", \"iPad\", \"screen\", \"email\", \"big\", \"old\", \"Kindle\", \"kindle\", \"Fire\", \"fire\", \"year\", \"want\", \"light\", \"decent\", \"quick\", \"keyboard\", \"job\", \"night\", \"date\", \"comment\", \"delivery\", \"-PRON-\", \"old\", \"Tablet\", \"show\", \"weight\", \"read\", \"internet\", \"upgrade\", \"absolutely\", \"access\", \"Mail\", \"bill\", \"beautiful\", \"movie\", \"5\", \"process\", \"pay\", \"Facebook\", \"site\", \"daughter\", \"watch\", \"Kindle\", \"kindle\", \"book\", \"screen\", \"tablet\", \"Fire\", \"enjoy\", \"app\", \"fire\", \"$\", \"iPad\", \"like\", \"thing\", \"little\", \"way\", \"kind\", \"led\", \"read\", \"book\", \"app\", \"feature\", \"Kindle\", \"netflix\", \"learn\", \"download\", \"phone\", \"android\", \"slow\", \"e\", \"ad\", \"big\", \"iPad\", \"powerful\", \"figure\", \"computer\", \"bulky\", \"picture\", \"sunlight\", \"surf\", \"annoying\", \"regular\", \"tablet\", \"wife\", \"screen\", \"web\", \"watch\", \"kindle\", \"daughter\", \"Fire\", \"old\", \"fire\", \"movie\", \"access\", \"$\", \"work\", \"far\", \"issue\", \"fine\", \"app\", \"tablet\", \"problem\", \"access\", \"old\", \"responsive\", \"require\", \"tie\", \"loosen\", \"Zinio\", \"grip\", \"hoop\", \"load\", \"resolution\", \"account\", \"computer\", \"functionality\", \"wifi\", \"video\", \"stick\", \"accommodate\", \"reading\", \"gig\", \"stop\", \"128\", \"screen\", \"fire\", \"watch\", \"memory\", \"Fire\", \"Kindle\", \"big\", \"movie\", \"book\", \"kindle\", \"read\", \"iPad\", \"download\", \"internet\", \"enjoy\", \"battery\", \"quality\", \"item\", \"say\", \"bad\", \"everyday\", \"okay\", \"certainly\", \"picture\", \"micro\", \"screen\", \"delete\", \"constantly\", \"Tablet\", \"64\", \"sound\", \"build\", \"Facebook\", \"sd\", \"browser\", \"surprised\", \"slouch\", \"display\", \"gb\", \"Google\", \"touch\", \"lastlonger\", \"process\", \"view\", \"overall\", \"memory\", \"video\", \"card\", \"Kindle\", \"movie\", \"watch\", \"tablet\", \"read\", \"feature\", \"old\", \"Fire\", \"app\", \"fire\", \"book\", \"enjoy\", \"$\", \"download\", \"kindle\", \"fast\", \"right\", \"version\", \"online\", \"decide\", \"different\", \"6\", \"inexpensive\", \"high\", \"hard\", \"buck\", \"local\", \"bargain\", \"bang\", \"tired\", \"bulk\", \"trust\", \"price\", \"tablet\", \"Fire\", \"feature\", \"Google\", \"screen\", \"model\", \"big\", \"Prime\", \"clear\", \"fabulous\", \"entry\", \"reading\", \"Kindle\", \"pay\", \"enjoy\", \"old\", \"fire\", \"kindle\", \"app\", \"read\", \"book\", \"give\", \"pretty\", \"definitely\", \"thank\", \"strong\", \"brand\", \"disappoint\", \"name\", \"surf\", \"star\", \"web\", \"help\", \"kindle\", \"friend\", \"weekend\", \"free\", \"darn\", \"sort\", \"upgrade\", \"recipient\", \"edit\", \"slow\", \"document\", \"5\", \"Gift\", \"googleplay\", \"microsoft\", \"respectable\", \"89$.\", \"rough\", \"hd\", \"access\", \"video\", \"app\", \"ability\", \"tablet\", \"Fire\", \"Friday\", \"download\", \"movie\", \"book\", \"fire\", \"screen\", \"read\", \"Kindle\", \"watch\", \"feature\", \"old\", \"life\", \"have\", \"amazing\", \"10\", \"end\", \"affordable\", \"update\", \"let\", \"suppose\", \"appear\", \"share\", \"shelf\", \"weekend\", \"Black\", \"Kindle\", \"book\", \"Friday\", \"enjoy\", \"fingertip\", \"space\", \"hundred\", \"Fire\", \"lighting\", \"cable\", \"bookreader\", \"keep\", \"instead\", \"awhile\", \"advertising\", \"clarity\", \"library\", \"return\", \"make\", \"member\", \"screen\", \"user\", \"old\", \"kindle\", \"movie\", \"tablet\", \"read\", \"fire\", \"watch\", \"app\", \"iPad\", \"$\", \"recommend\", \"available\", \"option\", \"highly\", \"not\", \"will\", \"spend\", \"mainly\", \"rate\", \"app\", \"friend\", \"web\", \"kindle\", \"surf\", \"extra\", \"Android\", \"enjoy\", \"google\", \"age\", \"pen\", \"pad\", \"functionality\", \"hd\", \"underground\", \"young\", \"toddler\", \"android\", \"opportunity\", \"friendly\", \"format\", \"tablet\", \"user\", \"book\", \"read\", \"Kindle\", \"fire\", \"slow\", \"video\", \"Fire\", \"old\", \"screen\", \"$\", \"watch\", \"iPad\", \"download\", \"movie\", \"well\", \"hold\", \"review\", \"compare\", \"purpose\", \"electronic\", \"short\", \"test\", \"energy\", \"fire\", \"old\", \"screen\", \"read\", \"respond\", \"area\", \"memory\", \"128\", \"Fire\", \"kindle\", \"accommodate\", \"gig\", \"iPad\", \"stick\", \"view\", \"book\", \"Kindle\", \"yr\", \"inch\", \"serve\", \"SD\", \"tablet\", \"enjoy\", \"$\", \"app\", \"big\", \"watch\", \"value\", \"deal\", \"faster\", \"100\", \"satisfied\", \"order\", \"pack\", \"good\", \"tablet\", \"$\", \"fire\", \"128\", \"stick\", \"accommodate\", \"gig\", \"respond\", \"Friday\", \"Black\", \"app\", \"Google\", \"screen\", \"true\", \"memory\", \"travel\", \"sale\", \"Tablet\", \"ipad\", \"rely\", \"old\", \"watch\", \"pay\", \"movie\", \"feature\", \"iPad\", \"Fire\", \"book\", \"read\", \"kindle\"], \"Freq\": [14509.0, 13589.0, 10111.0, 11126.0, 6895.0, 10043.0, 8367.0, 6034.0, 6730.0, 4788.0, 5910.0, 4137.0, 7024.0, 3591.0, 3088.0, 4580.0, 2985.0, 3151.0, 3286.0, 3619.0, 4034.0, 3454.0, 3449.0, 2450.0, 2956.0, 2334.0, 2357.0, 2210.0, 2913.0, 3558.0, 5908.9158660079975, 4578.703120871775, 4033.147405467178, 1868.7678031827386, 1832.2009220618081, 1426.7407367459239, 1092.7885118249992, 1000.1115017358009, 905.5780386198963, 828.9203571796941, 743.9735241824255, 482.14865527348206, 385.67541048140185, 360.87762402533355, 345.9014534286027, 336.2266609683463, 295.52857553249584, 257.0422983066347, 248.92474282092246, 128.83711237257793, 65.66616759500397, 41.079402011894764, 34.02605675261818, 33.63532235789963, 33.28648871851017, 27.844848131947327, 27.160890543881493, 24.428716656434684, 16.625142641876433, 13.17919053671392, 8365.227922640795, 2911.9701035186695, 2359.626879796343, 1482.4642959755806, 1122.2155046919827, 1029.7268002737121, 932.6303229422571, 786.8265154372233, 768.9983104421545, 753.076417892327, 710.7192840627636, 573.8380133813126, 525.763283454419, 337.72957921583816, 259.8378817455354, 259.1262258127995, 208.7995437274746, 182.55780187898034, 160.34094879318928, 144.27887103824332, 142.9072355404724, 100.46824103110322, 94.09485029045469, 89.13939356518287, 87.96677721050173, 84.69187284692005, 1.560047855209541, 1.0123111631100592, 2428.068211549311, 0.08173629888657179, 0.08240585386805648, 13587.390504875953, 1866.279834168279, 1325.755628242622, 1170.729687734248, 1168.1196683501853, 1135.830614218383, 597.4752115230708, 539.4056825426736, 473.73715697650766, 390.22040743617254, 328.20325618817384, 327.28238758303775, 252.72225693069677, 199.59020199235434, 187.57164753245388, 162.93531204715725, 148.71660621545843, 145.17361288811279, 134.12238835664309, 133.77071718897258, 116.11282561906697, 112.84876048545662, 105.67361098879393, 84.58023801277228, 75.87676492061723, 56.84988534403464, 50.22095224956236, 26.70176874310573, 25.880895531770513, 17.87435769807072, 757.4728218046799, 14507.815139639675, 2033.4125693907606, 917.7004865366679, 509.4789618989938, 496.5509374653162, 146.73629576352207, 69.97039693114849, 2799.5033734208355, 4044.7447757336736, 0.07267191395089168, 0.07152274231917584, 0.07152461429346683, 0.07154849090822943, 0.07151744236648572, 0.07150492279320196, 0.07149021527544433, 0.07150566800589742, 0.07148647728856389, 0.07147404117910203, 0.07148743712251565, 0.0714890050500269, 0.07149780452153491, 0.07148050962529863, 0.07150804076311977, 0.07147114379214208, 0.07154853860184193, 0.0714677575456539, 0.07148610170136538, 0.07146956394122769, 0.07147001703054653, 0.07151108719261881, 0.07161548254870063, 0.07163516808726396, 0.07162968332182536, 0.07152807208037378, 0.07156986957003683, 0.07163095316425842, 0.07156158876656486, 0.07156800355744738, 0.07156765777875669, 0.07151722178352786, 0.07160112677133526, 0.07151320955837549, 0.0715103837118343, 0.07150967426934822, 936.4526087899037, 394.1353275456252, 10128.567730837558, 7613.790380922225, 2490.586428201507, 0.07951117295770872, 0.07851348491014369, 0.0784593025700314, 0.07843626213141705, 0.07854809886716316, 0.07847768314465635, 0.07843060735093316, 0.07843915551101834, 0.07848899270562414, 0.0784313687666177, 0.0785709870226406, 0.0784273078829668, 0.07840407455237902, 0.07844895239282615, 0.07840519129538302, 0.07840636387553722, 0.0783902421674431, 0.07840921157019742, 0.0783995111343763, 0.07845940409212268, 0.07842030793477353, 0.07854028166613515, 0.07839363300529162, 0.07838682594907177, 0.07838908989170716, 0.07842898807357736, 0.07860481418345269, 0.07841100851121295, 0.07855844904436841, 0.07857181950378904, 0.0784994139482933, 0.07852193662424216, 0.07848484045209109, 0.07843088653668416, 0.07841498310108629, 0.07842664291326895, 0.07842666829379177, 6728.370538956891, 2084.408952596547, 1757.3079886062833, 1571.1824767999058, 1244.6872952540543, 1155.6112906195094, 705.1244166133015, 635.6508556714116, 437.47240667390207, 396.8204994757538, 366.68769511109963, 291.1861891358069, 236.1345837159822, 218.29705535788716, 194.88350113274097, 167.445712573371, 165.65510722045175, 150.89307269816754, 129.6444654117083, 105.63562067852703, 54.46956132750608, 46.41929325044497, 0.354159588894822, 0.10148550134697355, 0.10047445142308244, 0.10029895321220345, 0.10029706080530822, 0.1004628446607917, 0.10032666345602644, 0.10035331034740355, 0.10056919792830357, 0.10049545713961948, 0.10045813166647644, 0.1004847244890851, 3447.687871827077, 2954.5051468313304, 2438.2065142035353, 2424.787926494593, 2327.661442451205, 2073.2587211550654, 1092.1570774918428, 593.5160403678935, 541.3937716691953, 485.83566207657907, 359.3470244172406, 92.91774963185789, 77.21192017318208, 44.08467164833087, 1.3331187251312429, 0.07777366481387986, 0.0776259530966279, 0.07774393965668003, 0.07761105019146561, 0.07771339004531608, 0.07781465452416989, 0.07763588239243055, 0.07758781313007906, 0.07772614220048502, 0.07761329055604202, 0.07757101039575598, 0.07763211857994218, 0.07757443367282874, 0.07757903090093952, 0.07756116175307806, 0.07777318089513136, 0.0783909479848894, 0.07772409898799133, 0.07770025254744001, 0.0776326383445239, 0.07769965212973352, 3617.3174474111815, 3452.9619299433675, 2312.9945850275867, 1572.5687927241474, 1362.9311935666672, 1263.3539517216216, 996.5856615182215, 772.8181468259871, 538.2967280720626, 486.50661828871966, 433.11184483080564, 413.2807839548855, 301.57303188435685, 230.39668120404224, 222.17496851482994, 190.24024598558034, 184.38457057119533, 135.32688329186814, 91.2889560284884, 75.35365678408179, 71.27072277174776, 9.214839705420237, 0.0920997394430894, 0.0920445164742308, 0.0929359461989102, 0.0918952948739909, 0.09188428240735039, 0.09200992626296774, 0.09185842006673109, 0.09186335515105216, 0.09210422831725486, 0.0920598928761932, 0.09201312112768191, 0.09197382786137868, 0.09206232025943974, 10109.579541486792, 4135.878023411315, 822.0148091783543, 561.4522105951121, 278.48706732110463, 215.83566963872502, 60.87392749880651, 1.1839392422158106, 0.07134722738638338, 0.07122991041766048, 0.071234921733195, 0.0713259005167503, 0.07118480090355352, 0.07116494749882492, 0.07119888323740624, 0.07116976695694999, 0.07116670491269537, 0.07114211646710185, 0.07119809278487936, 0.07197375694264277, 0.07113718956882749, 0.07116397286318497, 0.07115620647525095, 0.07112836412799337, 0.07113949953203712, 0.07112509487773655, 0.07112826436214045, 0.07114073509375389, 0.07112353699557192, 0.07114306807985266, 0.07117978958801902, 0.0712559339566766, 0.0711450326997253, 0.07131180283430483, 0.07116608329468879, 0.07114558524906447, 0.07114827892709298, 0.07129334615151693, 0.07115640600695676, 0.07121212907295381, 0.0712130192913336, 0.07121681039374408, 0.07122935786832131, 0.07115718878518726, 3284.9426541864195, 1935.518216694379, 1668.5693088503288, 1490.208920056845, 949.0230110070918, 812.39843905908, 693.6156688120809, 351.6153409047748, 320.23131717381983, 238.1216912675595, 105.3763208727137, 89.58079588645971, 31.953222629528607, 17.270585454078926, 10.335858768303924, 0.09454587601686004, 0.09424908590017136, 0.0944627574029723, 0.09430414794484995, 0.09441561672955014, 0.09428990826709101, 0.09424848695290068, 0.09425629088351578, 0.09422311390234547, 0.09421834581230826, 0.09420707738277448, 0.09420285539171935, 0.09420353654743896, 0.09530263414930674, 0.0941996433901795, 0.09421953783481755, 0.09427073608239701, 0.09441522330340174, 0.09422953790542518, 0.09424276172163677, 0.09441346756581415, 0.09433324973576677, 0.09430270342496183, 0.09430654960596475, 0.09427952064236707, 4786.247165440354, 3589.661851705556, 1765.17468389536, 469.76179298414735, 407.217286779247, 357.3123606080549, 348.0980223709617, 243.23810819762525, 61.84574766146041, 17.828054838196095, 15.90446914185549, 13.99803917747846, 0.08401467509350911, 0.08349699978452237, 0.08349248175027746, 0.08347793145322158, 0.08366639969885646, 0.08350021690618313, 0.08348227954843522, 0.08346791091034378, 0.0834994023708264, 0.08344649859240491, 0.08344983877336418, 0.08344743032709355, 0.08352250821911128, 0.08346953412109065, 0.08344764128589098, 0.08348004104119584, 0.08345531784213069, 0.08344412530593386, 0.08349379438279479, 0.08353123370937153, 0.08359180232409955, 0.08356554967375304, 0.08360035201536194, 0.08362117833664129, 0.08416791907994024, 0.0835527632266423, 0.08350105488140624, 0.08361121053346285, 0.0835471610985773, 0.08349946683045895, 0.08349690602505684, 6032.471905927852, 2208.7283310139755, 1870.762335948622, 1210.1641813485205, 172.89339923900715, 11.445161663643487, 0.08675809180159133, 0.08666364534246612, 0.0866883082025349, 0.0864944636242388, 0.08658473878697633, 0.08641778026305522, 0.08644372314408819, 0.08648604804781196, 0.08643856376134218, 0.08643196716207498, 0.08644082625453765, 0.08643276436811408, 0.08642669549678825, 0.08645335137195478, 0.08647704860217338, 0.08640510917833516, 0.0864075064105795, 0.08642114312514973, 0.08639857994859239, 0.08643557143163204, 0.08639392022315258, 0.08642128347832563, 0.08640274563085304, 0.08640208316386279, 0.08740954387458494, 0.086437440935935, 0.08660210889602545, 0.08643710408831284, 0.08648351046239172, 0.08651892998986131, 0.08644479544235205, 0.08651560081252901, 0.08655486601701821, 0.0865010770658871, 0.08645454718101343, 0.08643661004513367, 0.0864359082792542, 6894.1794545754, 2355.7865720434957, 1099.7954292627558, 839.6943680023909, 0.10066355436244977, 0.1014329092452329, 0.10028502733536197, 0.10029371092390237, 0.10053969431036461, 0.10023780410035692, 0.10022969573042047, 0.10022613379983447, 0.10022141037014434, 0.10022141037014434, 0.10022164266996517, 0.10022141037014434, 0.10024780405454867, 0.10024773768317129, 0.10022673114223088, 0.10022535946709839, 0.10020597902490376, 0.10021939710503051, 0.10027445216256628, 0.10020570247749802, 0.10020218479449694, 0.10023799215259283, 0.10020227328966677, 0.10020407637875224, 0.10020871131327252, 0.1004462102253265, 0.10038881004579003, 0.10029759364947903, 0.10023551428783735, 0.10034011557858641, 0.10035189649807116, 0.10024064700768798, 0.10025906506491061, 0.10032577936107258, 0.10029237243445856, 0.10032639882726145, 0.10024590140839713, 0.1002450717661799, 0.10023524880232783, 0.10023136607675118, 3149.8532398201096, 2448.6472521285336, 1317.7949344778285, 943.660822725398, 478.5042163352572, 411.27325033986085, 210.5502660723749, 56.68088558892917, 0.11679984914719493, 0.11671656321016188, 0.11700282977050269, 0.11670968579682896, 0.11670687944293204, 0.11673152735380304, 0.11670731332001479, 0.1167231913749579, 0.11672156664375442, 0.11671367377341932, 0.11671059047670362, 0.11671275063069007, 0.11670057437809125, 0.11669060443661533, 0.11672755784006726, 0.11670983349966564, 0.11674266045511782, 0.11670160829794801, 0.11668450246317498, 0.11669271843346532, 0.11670698098863225, 0.11673628153885869, 0.11673769394723445, 0.1167673268288434, 0.11673459218766416, 0.11687688540795095, 0.11677827530161233, 0.11679078388559368, 0.11768774628704337, 0.11689119412025434, 0.11676237878381462, 0.11691074628325988, 0.11682106296711312, 0.11689413894556065, 0.11683067288292463, 0.1168308298171886, 0.11674534680045993, 0.11674202348663464, 0.11674284508366366, 0.11675270424801207, 2332.9564579309226, 1078.2470833663867, 990.8539692679794, 620.1345183770172, 576.214175656276, 551.0005265942141, 546.8910386403728, 535.3865539220358, 534.6629326580764, 490.19349594743426, 178.71393725896698, 137.58222664189074, 89.31693443992283, 56.92821834055376, 38.13729272825228, 24.78946700383102, 4.151211173836005, 487.92171067910385, 0.08488818113348691, 0.08387389876396605, 0.08379043243662641, 0.08375380412087005, 0.08392499310876017, 0.08373580643604311, 0.0837574550273742, 0.08373476069900423, 0.08372438588680277, 0.08369702243428556, 0.08369901300391219, 0.08373587064796655, 0.08385440585863616, 0.08373506341235759, 0.08376514211192311, 0.08394359622029383, 0.0838573229145867, 0.08382701488672317, 0.08391477423980134, 0.08386969746954671, 0.08382542793490103, 1759.6524465130756, 1733.883404658273, 1312.9279913890516, 968.7810580908745, 491.4466442579749, 463.6965141407497, 357.7138934302297, 31.3786555970068, 0.14670663953384638, 0.14668298779240452, 0.14672775827012724, 0.14668353168921822, 0.1468796764201507, 0.14665099111984944, 0.14663442557689477, 0.14669947563581437, 0.14662015994046662, 0.1466241381571612, 0.14667754882426742, 0.14661526486914325, 0.14661399059660826, 0.14666817825916265, 0.14661399059660826, 0.14665972454868673, 0.14660914214501178, 0.1466092664642835, 0.1466092664642835, 0.1466092664642835, 0.1466092664642835, 0.1466131359016153, 0.14668878417844775, 0.14669265361577957, 0.1467148912255058, 0.14698614033645702, 0.14662814745367367, 0.14801037573621614, 0.14681067922435445, 0.1466566942664389, 0.14670712127102423, 0.14671549728195535, 0.14682020518854885, 0.1467972993627372, 0.14683650655305117, 0.14683461068415765, 0.14677902442979657, 0.14671325953506467, 0.1466963521141128, 0.14678667006500642, 1757.0936183479284, 1273.600025226377, 838.570556811947, 732.0867494572483, 588.5623448373353, 566.6311437410332, 528.9835194259645, 517.0956111878336, 117.3065815403135, 113.98611626109327, 47.349516989461186, 29.684478630404175, 0.09761130270817377, 0.09762557891866694, 0.09778010350709014, 0.09780248520464975, 0.09762593069387417, 0.09765937865316103, 0.09756682513041041, 0.09758055902079245, 0.09756480975161903, 0.09773465121885677, 0.09756036858962783, 0.09756165110340416, 0.09755680686565468, 0.09758371034035715, 0.09756976391912077, 0.09755706336840995, 0.09755744445821778, 0.09756042721882903, 0.09758070559379545, 0.09757870487230437, 0.09758578434834975, 0.09757696065356855, 0.0977684729393013, 0.09759131747921337, 0.09781267202835894, 0.09769270935404548, 0.09763128060848403, 0.09841763744098207, 0.09774480872796536, 0.09770875176922492, 0.09764153339004457, 0.09773012211306376, 0.09761505497705082, 0.09759997994369125, 2983.897806765859, 936.0494133852485, 706.0943134698638, 702.124412559642, 616.4839235733144, 443.04287179208313, 422.9050307180363, 262.8913775582594, 69.69084048596928, 0.09069070108468977, 0.09042690713071254, 0.09044341522533812, 0.09054795676492243, 0.09041648288536568, 0.09040155046393457, 0.09039799060968036, 0.09045601331611072, 0.09040147751610149, 0.09039715900438326, 0.09037928678527912, 0.09038432748054483, 0.09038394085702951, 0.0904270530263787, 0.09037530383359305, 0.09038671287468647, 0.09038062902540776, 0.09039667754868495, 0.09037316646208386, 0.0903987784462776, 0.0903743263326298, 0.09140427678786028, 0.09040467263119031, 0.09053284926869194, 0.0905489561502356, 0.09050791569934583, 0.0905097539847394, 0.09039977783159077, 0.09042255943986108, 0.09047411896828073, 0.0905260870045656, 0.09049299057269804, 0.09041792725246062, 0.09042495212878604, 0.09041037715173703, 0.09040957472557316, 0.09040800634716199, 3087.006831833834, 1025.860002732473, 764.5530847345482, 678.0028368446004, 528.06776481987, 443.23424824877804, 203.45097680564564, 126.9740577982282, 11.333440268177513, 0.11383869814216269, 0.11395005962350263, 0.11375757949966378, 0.1137271409846548, 0.11336549519002087, 0.11335021070712709, 0.11339944138152136, 0.11335777685228646, 0.11354111817435715, 0.11352771073322224, 0.11334245613306528, 0.11334300692524163, 0.1134315612621213, 0.11334399980061216, 0.11334819596732411, 0.11357004201088114, 0.11354221251144438, 0.1133385353624415, 0.11333222299420988, 0.11330735037908826, 0.11332059838038265, 0.11445170809264686, 0.11337958387411075, 0.11336945944423751, 0.1134824153239827, 0.11334635516189262, 0.11334852209427064, 1549.7482106998318, 1361.666110075305, 646.5462334220815, 580.8405753252657, 565.2306221742269, 121.84717170082169, 114.39527632679484, 995.841404221112, 0.12282017356380738, 0.12130515670238634, 0.12133387004538676, 0.12103830368761843, 0.12102208452900468, 0.12101834662083931, 0.12101834662083931, 0.12101834662083931, 0.12104727984079064, 0.12103668694533237, 0.12134186321924904, 0.12103813554642068, 0.12128751481056085, 0.12097889810905944, 0.12103442350613189, 0.12101626425677486, 0.1210179068669375, 0.12100276122520169, 0.12100402875115396, 0.12096765851668675, 0.1213449414965617, 0.12109913199938915, 0.12101427243027844, 0.12105413482808353, 0.12103993336384278, 0.1210399204299045, 0.12108736211554663, 0.12110358127416039, 0.12110643967452214, 0.12102093340849701], \"Total\": [14509.0, 13589.0, 10111.0, 11126.0, 6895.0, 10043.0, 8367.0, 6034.0, 6730.0, 4788.0, 5910.0, 4137.0, 7024.0, 3591.0, 3088.0, 4580.0, 2985.0, 3151.0, 3286.0, 3619.0, 4034.0, 3454.0, 3449.0, 2450.0, 2956.0, 2334.0, 2357.0, 2210.0, 2913.0, 3558.0, 5910.700080142771, 4580.487335006549, 4034.931619601952, 1870.552017317513, 1833.9851361965825, 1428.5249508806983, 1094.5727259597736, 1001.895715870575, 907.3622527827393, 830.7045713144682, 745.7577383171997, 483.9328694082561, 387.4596246161759, 362.6618381601076, 347.68566756337674, 338.0108751031204, 297.31278969450324, 258.82651244140874, 250.70895696131072, 130.62132650735208, 67.45038172977807, 42.863616230537566, 35.81027095353276, 35.41953649267375, 35.07070302843303, 29.629062286712024, 28.945104717197772, 26.212930812053997, 18.409356782510518, 14.96340467148804, 8367.01493222521, 2913.7571131030886, 2361.413889380762, 1484.2513055600002, 1124.0025142764023, 1031.5138098581317, 934.4173325266762, 788.6135250327043, 770.7853200265737, 754.8634274767461, 712.5062936544299, 575.6250229657318, 527.5502930388382, 339.5165888002573, 261.62489132995455, 260.9132354160126, 210.5865533118938, 184.34481146339954, 162.12795837760848, 146.06588062999117, 144.6942451248916, 102.25525061552239, 95.88185987487385, 90.92640328836555, 89.7537868038451, 86.478882438634, 3.347057439628713, 2.7993207475292317, 10043.567235859291, 1.8732805449372174, 1.8905699235240294, 13589.179769295806, 1868.0690985881363, 1327.5448926624792, 1172.5189521541054, 1169.9089327700426, 1137.6198786511743, 599.2644759429278, 541.1949469625306, 475.5264214022245, 392.0096718560294, 329.99252062829333, 329.07165207946383, 254.51152135055372, 201.3794664122113, 189.36091195231083, 164.7245764670142, 150.50587069130225, 146.96287733993054, 135.91165277650003, 135.55998165177766, 117.90209003892389, 114.63802490531354, 107.46287541426497, 86.36950248212922, 77.66602948740645, 58.639149809346925, 52.01021679331899, 28.491033475054497, 27.670159992663418, 19.663622148185173, 3558.694009433115, 14509.612147783746, 2035.2095775348357, 919.4974946807429, 511.2759700430686, 498.347945609391, 148.5333039075969, 71.7674050752233, 3558.694009433115, 7024.887884297546, 1.8905699235240294, 1.8693782894189794, 1.869502227466069, 1.8701769774388035, 1.8693775471435063, 1.8691176553806605, 1.8688215572287916, 1.8692867347224138, 1.8688805047403458, 1.868622421560642, 1.8690094791391214, 1.8690712713035036, 1.8693024107090557, 1.8688505676369718, 1.8695834429132276, 1.8686235283122639, 1.8706520543984313, 1.8685613202950624, 1.8690706394434093, 1.8686399748118288, 1.8686625301337179, 1.8697519039209225, 1.8726246551077508, 1.8732805449372174, 1.873257724492193, 1.8703168016323422, 1.8716633236619076, 1.8740072791711173, 1.8718777750655948, 1.8721759226280936, 1.8723272357533158, 1.87018648942797, 1.8743984037689436, 1.8701533674883715, 1.8701017710209753, 1.8700359121267602, 938.2427009495765, 395.9254197052978, 11126.078319663835, 10043.567235859291, 7024.887884297546, 1.8905699235240294, 1.8701769774388035, 1.8694027697275755, 1.8689402877682388, 1.8716633236619076, 1.8700359121267602, 1.8692002627148225, 1.8694395052191626, 1.8706520543984313, 1.8692838769642517, 1.8726246551077508, 1.8692108248456554, 1.868664887085776, 1.8697519039209225, 1.8687910676723853, 1.8688266533150022, 1.8684871265951328, 1.8689468908035236, 1.868754750408722, 1.87018648942797, 1.8693133701591509, 1.8721759226280936, 1.8686832564496219, 1.8685218638155603, 1.8685830898495628, 1.8695834429132276, 1.8740072791711173, 1.869164642346574, 1.873257724492193, 1.8743984037689436, 1.8723272357533158, 1.8732805449372174, 1.8718777750655948, 1.8700533420946919, 1.8693107584071962, 1.8701533674883715, 1.8703168016323422, 6730.1387649186645, 2086.177178558322, 1759.076214568058, 1572.9507027616805, 1246.455521215829, 1157.3795165812842, 706.8926425750761, 637.4190816331862, 439.24063263567655, 398.5887254375283, 368.45592108210553, 292.9544150975814, 237.90280967775672, 220.0652813196617, 196.65172710038752, 169.21393853514553, 167.4233331822263, 152.66129865994208, 131.41269137348283, 107.40384664030154, 56.23778728928059, 48.18751922145091, 2.12238555066934, 1.8905699235240294, 1.8718777750655948, 1.8689482504250172, 1.8689577125814067, 1.8721759226280936, 1.869672628982149, 1.87018648942797, 1.8743984037689436, 1.873257724492193, 1.8726246551077508, 1.8732805449372174, 3449.4787970889442, 2956.296072093198, 2439.9974394654027, 2426.5788517564606, 2329.4523677130724, 2075.049646416933, 1093.94800275371, 595.3069656297607, 543.1846969310625, 487.62658733844614, 361.1379496791077, 94.70867489372499, 79.00284544798312, 45.87559695115961, 3.1240441932852296, 1.8718777750655948, 1.8691012502796316, 1.8721759226280936, 1.869164007926866, 1.8716633236619076, 1.8743984037689436, 1.8701017710209753, 1.8689577125814067, 1.8723272357533158, 1.8696109138239139, 1.8686340928719356, 1.8701769774388035, 1.8688795339875652, 1.8690787059478962, 1.8686810029650114, 1.8740072791711173, 1.8905699235240294, 1.873257724492193, 1.8726246551077508, 1.8706520543984313, 1.8732805449372174, 3619.0940857304454, 3454.7385682626314, 2314.7712233468505, 1574.3454310434113, 1364.707831885931, 1265.1305900408854, 998.3622998374852, 774.5947851452509, 540.0733663913263, 488.2832566079833, 434.88848315006925, 415.05742227414913, 303.34967021003405, 232.17331956209034, 223.95160683409358, 192.01688430484398, 186.16120889045897, 137.10352161113178, 93.06559434775203, 77.13029511440732, 73.04736110207328, 10.99147805789006, 1.8732805449372174, 1.8721759226280936, 1.8905699235240294, 1.8695338854387455, 1.8693107584071962, 1.8718777750655948, 1.8688107458061514, 1.86892512663881, 1.8740072791711173, 1.873257724492193, 1.8726246551077508, 1.8716633236619076, 1.8743984037689436, 10111.376894970015, 4137.675376894541, 823.8121626615804, 563.2495640783382, 280.2844208212645, 217.63302313343718, 62.67128104487125, 2.9812927254418065, 1.8726246551077508, 1.8703168016323422, 1.8706520543984313, 1.873257724492193, 1.8695834429132276, 1.869188699940455, 1.8701017710209753, 1.8693782894189794, 1.8693133701591509, 1.8686696264858025, 1.8701533674883715, 1.8905699235240294, 1.8687354860882364, 1.869502227466069, 1.8693024107090557, 1.8685879831985548, 1.8688964701614936, 1.8685334191596266, 1.8686399748118288, 1.8689791408387129, 1.8685306789723808, 1.8690438577339206, 1.8700359121267602, 1.8721759226280936, 1.8691087155643518, 1.8740072791711173, 1.8697519039209225, 1.869126024332352, 1.8692127060594343, 1.8743984037689436, 1.8695338854387455, 1.8716633236619076, 1.8718777750655948, 1.8723272357533158, 1.8732805449372174, 1.8697028615509137, 3286.7169484251563, 1937.2925109331156, 1670.3436030890655, 1491.9832142955818, 950.7973052458284, 814.1727332978166, 695.3899630508175, 353.3896351435114, 322.0056114125564, 239.8959855062961, 107.15061511145029, 91.3550901251963, 33.72751688474388, 19.0448797186834, 12.110154563902556, 1.8740072791711173, 1.8689777528571463, 1.873257724492193, 1.8703168016323422, 1.8726246551077508, 1.8701533674883715, 1.869400226945711, 1.8695834429132276, 1.868974677927282, 1.8689901638283548, 1.868795616617055, 1.868721758673897, 1.8687555451719926, 1.8905699235240294, 1.8686954510230511, 1.8690909906095021, 1.87018648942797, 1.8732805449372174, 1.8693133701591509, 1.869672628982149, 1.8743984037689436, 1.8721759226280936, 1.8716633236619076, 1.8718777750655948, 1.8723272357533158, 4788.032205906453, 3591.446892171653, 1766.9597243614573, 471.54683345024466, 409.0023272453443, 359.0974011105587, 349.883062837059, 245.02314866372254, 63.63078815033351, 19.613095348602553, 17.689510407003013, 15.783079643575755, 1.8743984037689436, 1.868992886391633, 1.8690798779557771, 1.8688533479992546, 1.873257724492193, 1.8695834429132276, 1.8692798146587177, 1.8689637805895154, 1.8697028615509137, 1.86857646313822, 1.8686607342200083, 1.8686350477101945, 1.8703168016323422, 1.8691402748273185, 1.8686521762348969, 1.8693802122222698, 1.8688320725974599, 1.8686013391334877, 1.8697519039209225, 1.8706520543984313, 1.8721759226280936, 1.8716633236619076, 1.8726246551077508, 1.8732805449372174, 1.8905699235240294, 1.8718777750655948, 1.8701017710209753, 1.8740072791711173, 1.8723272357533158, 1.8700533420946919, 1.87018648942797, 6034.253991057635, 2210.5104161437575, 1872.544421078404, 1211.9462664783025, 174.67548436878903, 13.227246793425369, 1.873257724492193, 1.8726246551077508, 1.8740072791711173, 1.8701769774388035, 1.8721759226280936, 1.8685661466095527, 1.869188699940455, 1.8701533674883715, 1.8691425589004624, 1.8690073515697698, 1.8692409419240519, 1.869128798820404, 1.8690909906095021, 1.869672628982149, 1.87018648942797, 1.8686310998771818, 1.868701713318163, 1.8690438577339206, 1.8685634438091563, 1.8693775471435063, 1.8685124014458978, 1.8691176553806605, 1.8687181090972353, 1.8687321088818774, 1.8905699235240294, 1.8695044600208859, 1.8732805449372174, 1.869502227466069, 1.8706520543984313, 1.8716633236619076, 1.8697519039209225, 1.8718777750655948, 1.8743984037689436, 1.8723272357533158, 1.8703168016323422, 1.8697028615509137, 1.8700533420946919, 6895.947757428141, 2357.554874896236, 1101.5637321154964, 841.4626708551313, 1.8740072791711173, 1.8905699235240294, 1.8693107584071962, 1.8697028615509137, 1.8743984037689436, 1.868819676462639, 1.8686832564496219, 1.8686274059000614, 1.8685625121585754, 1.8685625121585754, 1.8685757640012048, 1.8685830898495628, 1.8691832377504687, 1.8692002627148225, 1.869029306070189, 1.8690438577339206, 1.8687120355274882, 1.8689924044244228, 1.8700359121267602, 1.8687578853038307, 1.8687013473828906, 1.8693782894189794, 1.8687204214625917, 1.8687571076368295, 1.8688447051175952, 1.8732805449372174, 1.8723272357533158, 1.8706520543984313, 1.8694607197723192, 1.8718777750655948, 1.8721759226280936, 1.869672628982149, 1.8703168016323422, 1.8726246551077508, 1.8716633236619076, 1.873257724492193, 1.87018648942797, 1.8701533674883715, 1.8695834429132276, 1.8701017710209753, 3151.605042162164, 2450.399054470588, 1319.5467368198829, 945.4126250674523, 480.25601867731143, 413.0250526819151, 212.3020684144291, 58.43268796290543, 1.8693775471435063, 1.8686796759441837, 1.8732805449372174, 1.8685882190174878, 1.8685738313654325, 1.868992886391633, 1.8686094836997833, 1.868893387079855, 1.8688876158558307, 1.8688320725974599, 1.8687910676723853, 1.868837670138589, 1.8686433735994035, 1.8684929464908424, 1.8690972447023677, 1.8688266533150022, 1.869400226945711, 1.8687582296828653, 1.868486844517402, 1.8686521762348969, 1.86892512663881, 1.8694027697275755, 1.8694607197723192, 1.8700359121267602, 1.8694395052191626, 1.8721759226280936, 1.8703168016323422, 1.8706520543984313, 1.8905699235240294, 1.873257724492193, 1.8701769774388035, 1.8743984037689436, 1.8718777750655948, 1.8740072791711173, 1.8723272357533158, 1.8726246551077508, 1.8701017710209753, 1.8700533420946919, 1.8701533674883715, 1.8716633236619076, 2334.741244023104, 1080.0318694585685, 992.638755360161, 621.9193044691988, 577.9989617484575, 552.7853126863956, 548.6758247325544, 537.1713400142173, 536.447718750258, 491.9782820396158, 180.4987233511485, 139.36701273407226, 91.10172053210438, 58.713004432735296, 39.922078838217104, 26.574253116508036, 5.935997266017549, 7024.887884297546, 1.8905699235240294, 1.8718777750655948, 1.8701769774388035, 1.869400226945711, 1.8732805449372174, 1.8691617868621448, 1.869672628982149, 1.8692047851210467, 1.8690762985976856, 1.8684904415829238, 1.8685396803056, 1.8693782894189794, 1.8721759226280936, 1.8693802122222698, 1.8701017710209753, 1.8743984037689436, 1.8723272357533158, 1.8716633236619076, 1.8740072791711173, 1.873257724492193, 1.8726246551077508, 1761.3743322460496, 1735.605290391247, 1314.6498771220256, 970.5029438238483, 493.16852999094874, 465.4183998737235, 359.4357791632035, 33.10054132998062, 1.8691176553806605, 1.8688727472520605, 1.869502227466069, 1.8690787059478962, 1.8716633236619076, 1.8688780901563278, 1.8686686011708156, 1.8695338854387455, 1.8685261060792637, 1.868597959243626, 1.8692798146587177, 1.8685392420051092, 1.8685429822142654, 1.8692409419240519, 1.868554770782349, 1.8691402748273185, 1.86850496915213, 1.8685162513756686, 1.8685162513756686, 1.8685162513756686, 1.8685162513756686, 1.8685679427618458, 1.8696109138239139, 1.8697028615509137, 1.8700359121267602, 1.8740072791711173, 1.8687936611674913, 1.8905699235240294, 1.8718777750655948, 1.8692838769642517, 1.8701533674883715, 1.8703168016323422, 1.8726246551077508, 1.8723272357533158, 1.8732805449372174, 1.873257724492193, 1.8721759226280936, 1.8706520543984313, 1.8701769774388035, 1.8743984037689436, 1758.8645409159642, 1275.3709477944128, 840.3414793799827, 733.857672025284, 590.3332674053711, 568.4020663090689, 530.7544419940002, 518.8665337558693, 119.07750410834926, 115.75703882912903, 49.12043955749693, 31.455401198439933, 1.8686686011708156, 1.869164642346574, 1.8721759226280936, 1.8726246551077508, 1.8692838769642517, 1.8701017710209753, 1.8685473116175992, 1.8688575222328252, 1.8685936815410353, 1.8718777750655948, 1.8685755585877408, 1.8686145795667366, 1.8685218638155603, 1.8690530144697628, 1.8687923213363213, 1.8685514776494774, 1.8685613202950624, 1.868622017131212, 1.869011196225986, 1.868974677927282, 1.8691196472714373, 1.8689482504250172, 1.8732805449372174, 1.8692867347224138, 1.8743984037689436, 1.8716633236619076, 1.8703168016323422, 1.8905699235240294, 1.873257724492193, 1.8723272357533158, 1.8706520543984313, 1.8740072791711173, 1.87018648942797, 1.8700533420946919, 2985.6759124248915, 937.8275190442812, 707.8724191288965, 703.9025182186747, 618.2620292323471, 444.82097745111577, 424.68313637706893, 264.66948321729205, 71.46894614500194, 1.8740072791711173, 1.8688780901563278, 1.869502227466069, 1.8716633236619076, 1.8691176553806605, 1.868862222327838, 1.8688552958524007, 1.8701017710209753, 1.8689777528571463, 1.868924917952381, 1.8685609948153628, 1.8687020680086568, 1.8687120355274882, 1.8696109138239139, 1.8685528066484192, 1.8687978501988842, 1.8686730380711924, 1.8690073515697698, 1.8685259950966784, 1.8690712713035036, 1.868577205722251, 1.8905699235240294, 1.8692867347224138, 1.8726246551077508, 1.873257724492193, 1.8721759226280936, 1.8723272357533158, 1.8692409419240519, 1.8700359121267602, 1.8718777750655948, 1.8743984037689436, 1.8732805449372174, 1.8700533420946919, 1.8706520543984313, 1.87018648942797, 1.8701533674883715, 1.8703168016323422, 3088.7620332517663, 1027.6152041504054, 766.3082861524806, 679.7580382625329, 529.8229662378025, 444.98944966671036, 205.206178223578, 128.72925921616056, 13.08864168610987, 1.8723272357533158, 1.8743984037689436, 1.8732805449372174, 1.873257724492193, 1.8688109431596893, 1.8686339257615603, 1.8694607197723192, 1.8688447051175952, 1.8718777750655948, 1.8716633236619076, 1.8687013473828906, 1.8687204214625917, 1.87018648942797, 1.8687578853038307, 1.86892512663881, 1.8726246551077508, 1.8721759226280936, 1.8689357585863966, 1.8689577125814067, 1.8685761201374833, 1.8688410948244731, 1.8905699235240294, 1.8701017710209753, 1.8700533420946919, 1.8740072791711173, 1.869672628982149, 1.8706520543984313, 1551.4957615016592, 1363.4136608771323, 648.2937842239088, 582.588126127093, 566.9781729760542, 123.594722502649, 116.14282712862216, 11126.078319663835, 1.8905699235240294, 1.8700533420946919, 1.8723272357533158, 1.8688447051175952, 1.8687578853038307, 1.8687013473828906, 1.8687204214625917, 1.8688109431596893, 1.8692838769642517, 1.869164642346574, 1.8740072791711173, 1.869400226945711, 1.8732805449372174, 1.8685770113701365, 1.8694607197723192, 1.8691821607819576, 1.8692108248456554, 1.868992886391633, 1.8690706394434093, 1.8685470688762966, 1.8743984037689436, 1.8706520543984313, 1.8693802122222698, 1.8703168016323422, 1.8701769774388035, 1.87018648942797, 1.8718777750655948, 1.8726246551077508, 1.873257724492193, 1.8716633236619076], \"Category\": [\"Default\", \"Default\", \"Default\", \"Default\", \"Default\", \"Default\", \"Default\", \"Default\", \"Default\", \"Default\", \"Default\", \"Default\", \"Default\", \"Default\", \"Default\", \"Default\", \"Default\", \"Default\", \"Default\", \"Default\", \"Default\", \"Default\", \"Default\", \"Default\", \"Default\", \"Default\", \"Default\", \"Default\", \"Default\", \"Default\", \"Topic1\", \"Topic1\", \"Topic1\", \"Topic1\", \"Topic1\", \"Topic1\", \"Topic1\", \"Topic1\", \"Topic1\", \"Topic1\", \"Topic1\", \"Topic1\", \"Topic1\", \"Topic1\", \"Topic1\", \"Topic1\", \"Topic1\", \"Topic1\", \"Topic1\", \"Topic1\", \"Topic1\", \"Topic1\", \"Topic1\", \"Topic1\", \"Topic1\", \"Topic1\", \"Topic1\", \"Topic1\", \"Topic1\", \"Topic1\", \"Topic2\", \"Topic2\", \"Topic2\", \"Topic2\", \"Topic2\", \"Topic2\", \"Topic2\", \"Topic2\", \"Topic2\", \"Topic2\", \"Topic2\", \"Topic2\", \"Topic2\", \"Topic2\", \"Topic2\", \"Topic2\", \"Topic2\", \"Topic2\", \"Topic2\", \"Topic2\", \"Topic2\", \"Topic2\", \"Topic2\", \"Topic2\", \"Topic2\", \"Topic2\", \"Topic2\", \"Topic2\", \"Topic2\", \"Topic2\", \"Topic2\", \"Topic3\", \"Topic3\", \"Topic3\", \"Topic3\", \"Topic3\", \"Topic3\", \"Topic3\", \"Topic3\", \"Topic3\", \"Topic3\", \"Topic3\", \"Topic3\", \"Topic3\", \"Topic3\", \"Topic3\", \"Topic3\", \"Topic3\", \"Topic3\", \"Topic3\", \"Topic3\", \"Topic3\", \"Topic3\", \"Topic3\", \"Topic3\", \"Topic3\", \"Topic3\", \"Topic3\", \"Topic3\", \"Topic3\", \"Topic3\", \"Topic3\", \"Topic4\", \"Topic4\", \"Topic4\", \"Topic4\", \"Topic4\", \"Topic4\", \"Topic4\", \"Topic4\", \"Topic4\", \"Topic4\", \"Topic4\", \"Topic4\", \"Topic4\", \"Topic4\", \"Topic4\", \"Topic4\", \"Topic4\", \"Topic4\", \"Topic4\", \"Topic4\", \"Topic4\", \"Topic4\", \"Topic4\", \"Topic4\", \"Topic4\", \"Topic4\", \"Topic4\", \"Topic4\", \"Topic4\", \"Topic4\", \"Topic4\", \"Topic4\", \"Topic4\", \"Topic4\", \"Topic4\", \"Topic4\", \"Topic4\", \"Topic4\", \"Topic4\", \"Topic4\", \"Topic4\", \"Topic4\", \"Topic4\", \"Topic4\", \"Topic4\", \"Topic5\", \"Topic5\", \"Topic5\", \"Topic5\", \"Topic5\", \"Topic5\", \"Topic5\", \"Topic5\", \"Topic5\", \"Topic5\", \"Topic5\", \"Topic5\", \"Topic5\", \"Topic5\", \"Topic5\", \"Topic5\", \"Topic5\", \"Topic5\", \"Topic5\", \"Topic5\", \"Topic5\", \"Topic5\", \"Topic5\", \"Topic5\", \"Topic5\", \"Topic5\", \"Topic5\", \"Topic5\", \"Topic5\", \"Topic5\", \"Topic5\", \"Topic5\", \"Topic5\", \"Topic5\", \"Topic5\", \"Topic5\", \"Topic5\", \"Topic5\", \"Topic5\", \"Topic5\", \"Topic5\", \"Topic5\", \"Topic6\", \"Topic6\", \"Topic6\", \"Topic6\", \"Topic6\", \"Topic6\", \"Topic6\", \"Topic6\", \"Topic6\", \"Topic6\", \"Topic6\", \"Topic6\", \"Topic6\", \"Topic6\", \"Topic6\", \"Topic6\", \"Topic6\", \"Topic6\", \"Topic6\", \"Topic6\", \"Topic6\", \"Topic6\", \"Topic6\", \"Topic6\", \"Topic6\", \"Topic6\", \"Topic6\", \"Topic6\", \"Topic6\", \"Topic6\", \"Topic6\", \"Topic6\", \"Topic6\", \"Topic6\", \"Topic7\", \"Topic7\", \"Topic7\", \"Topic7\", \"Topic7\", \"Topic7\", \"Topic7\", \"Topic7\", \"Topic7\", \"Topic7\", \"Topic7\", \"Topic7\", \"Topic7\", \"Topic7\", \"Topic7\", \"Topic7\", \"Topic7\", \"Topic7\", \"Topic7\", \"Topic7\", \"Topic7\", \"Topic7\", \"Topic7\", \"Topic7\", \"Topic7\", \"Topic7\", \"Topic7\", \"Topic7\", \"Topic7\", \"Topic7\", \"Topic7\", \"Topic7\", \"Topic7\", \"Topic7\", \"Topic7\", \"Topic7\", \"Topic8\", \"Topic8\", \"Topic8\", \"Topic8\", \"Topic8\", \"Topic8\", \"Topic8\", \"Topic8\", \"Topic8\", \"Topic8\", \"Topic8\", \"Topic8\", \"Topic8\", \"Topic8\", \"Topic8\", \"Topic8\", \"Topic8\", \"Topic8\", \"Topic8\", \"Topic8\", \"Topic8\", \"Topic8\", \"Topic8\", \"Topic8\", \"Topic8\", \"Topic8\", \"Topic8\", \"Topic8\", \"Topic8\", \"Topic8\", \"Topic8\", \"Topic8\", \"Topic8\", \"Topic8\", \"Topic8\", \"Topic9\", \"Topic9\", \"Topic9\", \"Topic9\", \"Topic9\", \"Topic9\", \"Topic9\", \"Topic9\", \"Topic9\", \"Topic9\", \"Topic9\", \"Topic9\", \"Topic9\", \"Topic9\", \"Topic9\", \"Topic9\", \"Topic9\", \"Topic9\", \"Topic9\", \"Topic9\", \"Topic9\", \"Topic9\", \"Topic9\", \"Topic9\", \"Topic9\", \"Topic9\", \"Topic9\", \"Topic9\", \"Topic9\", \"Topic9\", \"Topic9\", \"Topic9\", \"Topic9\", \"Topic9\", \"Topic9\", \"Topic9\", \"Topic9\", \"Topic9\", \"Topic9\", \"Topic9\", \"Topic9\", \"Topic9\", \"Topic9\", \"Topic9\", \"Topic10\", \"Topic10\", \"Topic10\", \"Topic10\", \"Topic10\", \"Topic10\", \"Topic10\", \"Topic10\", \"Topic10\", \"Topic10\", \"Topic10\", \"Topic10\", \"Topic10\", \"Topic10\", \"Topic10\", \"Topic10\", \"Topic10\", \"Topic10\", \"Topic10\", \"Topic10\", \"Topic10\", \"Topic10\", \"Topic10\", \"Topic10\", \"Topic10\", \"Topic10\", \"Topic10\", \"Topic10\", \"Topic10\", \"Topic10\", \"Topic10\", \"Topic10\", \"Topic10\", \"Topic10\", \"Topic10\", \"Topic10\", \"Topic10\", \"Topic10\", \"Topic10\", \"Topic10\", \"Topic11\", \"Topic11\", \"Topic11\", \"Topic11\", \"Topic11\", \"Topic11\", \"Topic11\", \"Topic11\", \"Topic11\", \"Topic11\", \"Topic11\", \"Topic11\", \"Topic11\", \"Topic11\", \"Topic11\", \"Topic11\", \"Topic11\", \"Topic11\", \"Topic11\", \"Topic11\", \"Topic11\", \"Topic11\", \"Topic11\", \"Topic11\", \"Topic11\", \"Topic11\", \"Topic11\", \"Topic11\", \"Topic11\", \"Topic11\", \"Topic11\", \"Topic11\", \"Topic11\", \"Topic11\", \"Topic11\", \"Topic11\", \"Topic11\", \"Topic11\", \"Topic11\", \"Topic11\", \"Topic11\", \"Topic11\", \"Topic11\", \"Topic12\", \"Topic12\", \"Topic12\", \"Topic12\", \"Topic12\", \"Topic12\", \"Topic12\", \"Topic12\", \"Topic12\", \"Topic12\", \"Topic12\", \"Topic12\", \"Topic12\", \"Topic12\", \"Topic12\", \"Topic12\", \"Topic12\", \"Topic12\", \"Topic12\", \"Topic12\", \"Topic12\", \"Topic12\", \"Topic12\", \"Topic12\", \"Topic12\", \"Topic12\", \"Topic12\", \"Topic12\", \"Topic12\", \"Topic12\", \"Topic12\", \"Topic12\", \"Topic12\", \"Topic12\", \"Topic12\", \"Topic12\", \"Topic12\", \"Topic12\", \"Topic12\", \"Topic12\", \"Topic12\", \"Topic12\", \"Topic12\", \"Topic13\", \"Topic13\", \"Topic13\", \"Topic13\", \"Topic13\", \"Topic13\", \"Topic13\", \"Topic13\", \"Topic13\", \"Topic13\", \"Topic13\", \"Topic13\", \"Topic13\", \"Topic13\", \"Topic13\", \"Topic13\", \"Topic13\", \"Topic13\", \"Topic13\", \"Topic13\", \"Topic13\", \"Topic13\", \"Topic13\", \"Topic13\", \"Topic13\", \"Topic13\", \"Topic13\", \"Topic13\", \"Topic13\", \"Topic13\", \"Topic13\", \"Topic13\", \"Topic13\", \"Topic13\", \"Topic13\", \"Topic13\", \"Topic13\", \"Topic13\", \"Topic13\", \"Topic13\", \"Topic13\", \"Topic13\", \"Topic13\", \"Topic13\", \"Topic14\", \"Topic14\", \"Topic14\", \"Topic14\", \"Topic14\", \"Topic14\", \"Topic14\", \"Topic14\", \"Topic14\", \"Topic14\", \"Topic14\", \"Topic14\", \"Topic14\", \"Topic14\", \"Topic14\", \"Topic14\", \"Topic14\", \"Topic14\", \"Topic14\", \"Topic14\", \"Topic14\", \"Topic14\", \"Topic14\", \"Topic14\", \"Topic14\", \"Topic14\", \"Topic14\", \"Topic14\", \"Topic14\", \"Topic14\", \"Topic14\", \"Topic14\", \"Topic14\", \"Topic14\", \"Topic14\", \"Topic14\", \"Topic14\", \"Topic14\", \"Topic14\", \"Topic14\", \"Topic14\", \"Topic14\", \"Topic14\", \"Topic14\", \"Topic14\", \"Topic14\", \"Topic14\", \"Topic14\", \"Topic15\", \"Topic15\", \"Topic15\", \"Topic15\", \"Topic15\", \"Topic15\", \"Topic15\", \"Topic15\", \"Topic15\", \"Topic15\", \"Topic15\", \"Topic15\", \"Topic15\", \"Topic15\", \"Topic15\", \"Topic15\", \"Topic15\", \"Topic15\", \"Topic15\", \"Topic15\", \"Topic15\", \"Topic15\", \"Topic15\", \"Topic15\", \"Topic15\", \"Topic15\", \"Topic15\", \"Topic15\", \"Topic15\", \"Topic15\", \"Topic15\", \"Topic15\", \"Topic15\", \"Topic15\", \"Topic15\", \"Topic15\", \"Topic15\", \"Topic15\", \"Topic15\", \"Topic16\", \"Topic16\", \"Topic16\", \"Topic16\", \"Topic16\", \"Topic16\", \"Topic16\", \"Topic16\", \"Topic16\", \"Topic16\", \"Topic16\", \"Topic16\", \"Topic16\", \"Topic16\", \"Topic16\", \"Topic16\", \"Topic16\", \"Topic16\", \"Topic16\", \"Topic16\", \"Topic16\", \"Topic16\", \"Topic16\", \"Topic16\", \"Topic16\", \"Topic16\", \"Topic16\", \"Topic16\", \"Topic16\", \"Topic16\", \"Topic16\", \"Topic16\", \"Topic16\", \"Topic16\", \"Topic16\", \"Topic16\", \"Topic16\", \"Topic16\", \"Topic16\", \"Topic16\", \"Topic16\", \"Topic16\", \"Topic16\", \"Topic16\", \"Topic16\", \"Topic16\", \"Topic16\", \"Topic16\", \"Topic17\", \"Topic17\", \"Topic17\", \"Topic17\", \"Topic17\", \"Topic17\", \"Topic17\", \"Topic17\", \"Topic17\", \"Topic17\", \"Topic17\", \"Topic17\", \"Topic17\", \"Topic17\", \"Topic17\", \"Topic17\", \"Topic17\", \"Topic17\", \"Topic17\", \"Topic17\", \"Topic17\", \"Topic17\", \"Topic17\", \"Topic17\", \"Topic17\", \"Topic17\", \"Topic17\", \"Topic17\", \"Topic17\", \"Topic17\", \"Topic17\", \"Topic17\", \"Topic17\", \"Topic17\", \"Topic17\", \"Topic17\", \"Topic17\", \"Topic17\", \"Topic17\", \"Topic17\", \"Topic17\", \"Topic17\", \"Topic17\", \"Topic17\", \"Topic17\", \"Topic17\", \"Topic18\", \"Topic18\", \"Topic18\", \"Topic18\", \"Topic18\", \"Topic18\", \"Topic18\", \"Topic18\", \"Topic18\", \"Topic18\", \"Topic18\", \"Topic18\", \"Topic18\", \"Topic18\", \"Topic18\", \"Topic18\", \"Topic18\", \"Topic18\", \"Topic18\", \"Topic18\", \"Topic18\", \"Topic18\", \"Topic18\", \"Topic18\", \"Topic18\", \"Topic18\", \"Topic18\", \"Topic18\", \"Topic18\", \"Topic18\", \"Topic18\", \"Topic18\", \"Topic18\", \"Topic18\", \"Topic18\", \"Topic18\", \"Topic18\", \"Topic18\", \"Topic18\", \"Topic18\", \"Topic18\", \"Topic18\", \"Topic18\", \"Topic18\", \"Topic18\", \"Topic18\", \"Topic19\", \"Topic19\", \"Topic19\", \"Topic19\", \"Topic19\", \"Topic19\", \"Topic19\", \"Topic19\", \"Topic19\", \"Topic19\", \"Topic19\", \"Topic19\", \"Topic19\", \"Topic19\", \"Topic19\", \"Topic19\", \"Topic19\", \"Topic19\", \"Topic19\", \"Topic19\", \"Topic19\", \"Topic19\", \"Topic19\", \"Topic19\", \"Topic19\", \"Topic19\", \"Topic19\", \"Topic19\", \"Topic19\", \"Topic19\", \"Topic19\", \"Topic19\", \"Topic19\", \"Topic19\", \"Topic19\", \"Topic19\", \"Topic20\", \"Topic20\", \"Topic20\", \"Topic20\", \"Topic20\", \"Topic20\", \"Topic20\", \"Topic20\", \"Topic20\", \"Topic20\", \"Topic20\", \"Topic20\", \"Topic20\", \"Topic20\", \"Topic20\", \"Topic20\", \"Topic20\", \"Topic20\", \"Topic20\", \"Topic20\", \"Topic20\", \"Topic20\", \"Topic20\", \"Topic20\", \"Topic20\", \"Topic20\", \"Topic20\", \"Topic20\", \"Topic20\", \"Topic20\", \"Topic20\", \"Topic20\", \"Topic20\", \"Topic20\", \"Topic20\", \"Topic20\", \"Topic20\", \"Topic20\"], \"logprob\": [30.0, 29.0, 28.0, 27.0, 26.0, 25.0, 24.0, 23.0, 22.0, 21.0, 20.0, 19.0, 18.0, 17.0, 16.0, 15.0, 14.0, 13.0, 12.0, 11.0, 10.0, 9.0, 8.0, 7.0, 6.0, 5.0, 4.0, 3.0, 2.0, 1.0, -1.563099980354309, -1.8181999921798706, -1.9450000524520874, -2.7142999172210693, -2.734100103378296, -2.9842000007629395, -3.2507998943328857, -3.3394999504089355, -3.438800096511841, -3.5271999835968018, -3.6352999210357666, -4.0690999031066895, -4.292300224304199, -4.358799934387207, -4.401199817657471, -4.429500102996826, -4.558599948883057, -4.6981000900268555, -4.730199813842773, -5.388800144195557, -6.06279993057251, -6.531799793243408, -6.720200061798096, -6.731800079345703, -6.742199897766113, -6.9207000732421875, -6.9456000328063965, -7.051599979400635, -7.436399936676025, -7.668700218200684, -1.1971999406814575, -2.2523999214172363, -2.4628000259399414, -2.927500009536743, -3.205899953842163, -3.2920000553131104, -3.3910000324249268, -3.561000108718872, -3.583899974822998, -3.60479998588562, -3.6626999378204346, -3.876699924468994, -3.964200019836426, -4.406799793243408, -4.669000148773193, -4.6717000007629395, -4.887599945068359, -5.021900177001953, -5.151700019836426, -5.257299900054932, -5.2667999267578125, -5.619200229644775, -5.684700012207031, -5.738800048828125, -5.752099990844727, -5.789999961853027, -9.784299850463867, -10.21679973602295, -2.4342000484466553, -12.73330020904541, -12.725099563598633, -0.6669999957084656, -2.6521999835968018, -2.9941000938415527, -3.118499994277954, -3.120699882507324, -3.148699998855591, -3.7911999225616455, -3.893399953842163, -4.023200035095215, -4.217199802398682, -4.390200138092041, -4.39300012588501, -4.651599884033203, -4.887599945068359, -4.949699878692627, -5.0904998779296875, -5.18179988861084, -5.205900192260742, -5.285099983215332, -5.287700176239014, -5.429299831390381, -5.457799911499023, -5.523499965667725, -5.746200084686279, -5.854800224304199, -6.143400192260742, -6.267399787902832, -6.899099826812744, -6.9303998947143555, -7.30049991607666, -3.5539000034332275, -0.5917999744415283, -2.55679988861084, -3.352400064468384, -3.9409000873565674, -3.966599941253662, -5.1855998039245605, -5.926199913024902, -2.2370998859405518, -1.8690999746322632, -12.796099662780762, -12.812000274658203, -12.812000274658203, -12.811699867248535, -12.812100410461426, -12.812299728393555, -12.8125, -12.812199592590332, -12.8125, -12.812700271606445, -12.8125, -12.8125, -12.812399864196777, -12.812600135803223, -12.812199592590332, -12.812700271606445, -12.811699867248535, -12.812800407409668, -12.8125, -12.812800407409668, -12.812700271606445, -12.812199592590332, -12.810700416564941, -12.810400009155273, -12.810500144958496, -12.81190013885498, -12.811400413513184, -12.810500144958496, -12.81149959564209, -12.811400413513184, -12.811400413513184, -12.812100410461426, -12.81089973449707, -12.812100410461426, -12.812199592590332, -12.812199592590332, -3.1714000701904297, -4.036799907684326, -0.7903000116348267, -1.075700044631958, -2.19320011138916, -12.545299530029297, -12.557900428771973, -12.558600425720215, -12.558899879455566, -12.557499885559082, -12.55840015411377, -12.559000015258789, -12.558899879455566, -12.558300018310547, -12.559000015258789, -12.55720043182373, -12.559000015258789, -12.559300422668457, -12.558799743652344, -12.559300422668457, -12.559300422668457, -12.559499740600586, -12.559300422668457, -12.559399604797363, -12.558600425720215, -12.559100151062012, -12.557600021362305, -12.559499740600586, -12.559599876403809, -12.559499740600586, -12.559000015258789, -12.55679988861084, -12.559300422668457, -12.55739974975586, -12.55720043182373, -12.558099746704102, -12.55780029296875, -12.558300018310547, -12.559000015258789, -12.559200286865234, -12.559100151062012, -12.559100151062012, -1.080199956893921, -2.252000093460083, -2.4226999282836914, -2.5346999168395996, -2.7676000595092773, -2.841900110244751, -3.335900068283081, -3.4395999908447266, -3.8132998943328857, -3.910799980163574, -3.989799976348877, -4.220300197601318, -4.429900169372559, -4.508399963378906, -4.6219000816345215, -4.773600101470947, -4.78439998626709, -4.877699851989746, -5.0295000076293945, -5.234300136566162, -5.896599769592285, -6.056600093841553, -10.932299613952637, -12.182100296020508, -12.192099571228027, -12.193900108337402, -12.193900108337402, -12.19219970703125, -12.193599700927734, -12.193300247192383, -12.191200256347656, -12.191900253295898, -12.192299842834473, -12.192000389099121, -1.7431999444961548, -1.8976000547409058, -2.0896999835968018, -2.0952000617980957, -2.1361000537872314, -2.251800060272217, -2.8928000926971436, -3.5025999546051025, -3.594599962234497, -3.7028000354766846, -4.00439977645874, -5.35699987411499, -5.542099952697754, -6.10260009765625, -9.601200103759766, -12.442700386047363, -12.444600105285645, -12.442999839782715, -12.444700241088867, -12.443400382995605, -12.442099571228027, -12.4443998336792, -12.444999694824219, -12.443300247192383, -12.444700241088867, -12.445300102233887, -12.444499969482422, -12.445199966430664, -12.445199966430664, -12.44540023803711, -12.442700386047363, -12.434700012207031, -12.443300247192383, -12.443599700927734, -12.444499969482422, -12.443599700927734, -1.690999984741211, -1.7374999523162842, -2.138200044631958, -2.5241000652313232, -2.667099952697754, -2.743000030517578, -2.9802000522613525, -3.234499931335449, -3.596100091934204, -3.6972999572753906, -3.813499927520752, -3.8603999614715576, -4.17549991607666, -4.444699764251709, -4.481100082397461, -4.636199951171875, -4.667500019073486, -4.976799964904785, -5.370500087738037, -5.562300205230713, -5.618000030517578, -7.663700103759766, -12.269399642944336, -12.270000457763672, -12.26039981842041, -12.271599769592285, -12.27180004119873, -12.270400047302246, -12.272000312805176, -12.272000312805176, -12.269399642944336, -12.26990032196045, -12.270400047302246, -12.27079963684082, -12.269800186157227, -0.5123999714851379, -1.4062000513076782, -3.021899938583374, -3.40310001373291, -4.104300022125244, -4.359099864959717, -5.624800205230713, -9.564800262451172, -12.373800277709961, -12.375499725341797, -12.375399589538574, -12.374099731445312, -12.376099586486816, -12.376399993896484, -12.375900268554688, -12.376299858093262, -12.376399993896484, -12.376700401306152, -12.375900268554688, -12.365099906921387, -12.376799583435059, -12.376399993896484, -12.376500129699707, -12.376899719238281, -12.376799583435059, -12.376999855041504, -12.376899719238281, -12.376700401306152, -12.376999855041504, -12.376700401306152, -12.376199722290039, -12.375100135803223, -12.376700401306152, -12.374300003051758, -12.376399993896484, -12.376700401306152, -12.37660026550293, -12.374600410461426, -12.376500129699707, -12.375699996948242, -12.375699996948242, -12.375699996948242, -12.375499725341797, -12.376500129699707, -1.368899941444397, -1.8977999687194824, -2.0462000370025635, -2.1593000888824463, -2.6105000972747803, -2.7660000324249268, -2.924099922180176, -3.6033999919891357, -3.696899890899658, -3.9932000637054443, -4.8084001541137695, -4.970799922943115, -6.001699924468994, -6.617000102996826, -7.13040018081665, -11.824600219726562, -11.827799797058105, -11.825499534606934, -11.827199935913086, -11.826000213623047, -11.827400207519531, -11.827799797058105, -11.827699661254883, -11.828100204467773, -11.828100204467773, -11.828200340270996, -11.828300476074219, -11.828300476074219, -11.816699981689453, -11.828300476074219, -11.828100204467773, -11.82759952545166, -11.826000213623047, -11.82800006866455, -11.827799797058105, -11.826000213623047, -11.826899528503418, -11.827199935913086, -11.827199935913086, -11.827500343322754, -0.9904000163078308, -1.2781000137329102, -1.9879000186920166, -3.3117001056671143, -3.4546000957489014, -3.5852999687194824, -3.6113998889923096, -3.969899892807007, -5.339300155639648, -6.583099842071533, -6.697299957275391, -6.824999809265137, -11.940699577331543, -11.946900367736816, -11.946900367736816, -11.947099685668945, -11.94480037689209, -11.946800231933594, -11.946999549865723, -11.947199821472168, -11.946800231933594, -11.947500228881836, -11.947400093078613, -11.947500228881836, -11.946599960327148, -11.947199821472168, -11.947400093078613, -11.947099685668945, -11.947400093078613, -11.947500228881836, -11.946900367736816, -11.946399688720703, -11.945699691772461, -11.946000099182129, -11.945599555969238, -11.94540023803711, -11.938899993896484, -11.946200370788574, -11.946800231933594, -11.945500373840332, -11.94629955291748, -11.946800231933594, -11.946900367736816, -0.7160999774932861, -1.720900058746338, -1.8869999647140503, -2.322499990463257, -4.268400192260742, -6.983500003814697, -11.865699768066406, -11.866800308227539, -11.866499900817871, -11.86870002746582, -11.86769962310791, -11.869600296020508, -11.86929988861084, -11.868800163269043, -11.869400024414062, -11.869500160217285, -11.86929988861084, -11.869400024414062, -11.869500160217285, -11.869199752807617, -11.868900299072266, -11.869799613952637, -11.86970043182373, -11.869600296020508, -11.869799613952637, -11.869400024414062, -11.86989974975586, -11.869600296020508, -11.869799613952637, -11.869799613952637, -11.858200073242188, -11.869400024414062, -11.867500305175781, -11.869400024414062, -11.868900299072266, -11.868399620056152, -11.86929988861084, -11.868499755859375, -11.868000030517578, -11.86870002746582, -11.869199752807617, -11.869400024414062, -11.869400024414062, -0.5677000284194946, -1.6414999961853027, -2.4031999111175537, -2.673099994659424, -11.702099800109863, -11.694499969482422, -11.705900192260742, -11.70580005645752, -11.703300476074219, -11.706299781799316, -11.706399917602539, -11.706500053405762, -11.706500053405762, -11.706500053405762, -11.706500053405762, -11.706500053405762, -11.706199645996094, -11.706199645996094, -11.706399917602539, -11.706500053405762, -11.706700325012207, -11.706500053405762, -11.706000328063965, -11.706700325012207, -11.706700325012207, -11.706299781799316, -11.706700325012207, -11.706700325012207, -11.706600189208984, -11.704299926757812, -11.70479965209961, -11.705699920654297, -11.706399917602539, -11.705300331115723, -11.7052001953125, -11.706299781799316, -11.706100463867188, -11.705499649047852, -11.70580005645752, -11.705499649047852, -11.706299781799316, -11.706299781799316, -11.706399917602539, -11.706399917602539, -1.1700999736785889, -1.4219000339508057, -2.0415000915527344, -2.375499963760376, -3.0546000003814697, -3.2060000896453857, -3.875499963760376, -5.18779993057251, -11.3725004196167, -11.373200416564941, -11.370800018310547, -11.373299598693848, -11.373299598693848, -11.373100280761719, -11.373299598693848, -11.373200416564941, -11.373200416564941, -11.373299598693848, -11.373299598693848, -11.373299598693848, -11.37339973449707, -11.373499870300293, -11.373100280761719, -11.373299598693848, -11.373000144958496, -11.37339973449707, -11.373499870300293, -11.37339973449707, -11.373299598693848, -11.373100280761719, -11.373100280761719, -11.37279987335205, -11.373100280761719, -11.371899604797363, -11.372699737548828, -11.372599601745605, -11.364999771118164, -11.371700286865234, -11.37279987335205, -11.371600151062012, -11.372300148010254, -11.371700286865234, -11.372300148010254, -11.372300148010254, -11.373000144958496, -11.373000144958496, -11.373000144958496, -11.372900009155273, -1.4639999866485596, -2.23580002784729, -2.3203001022338867, -2.7890000343322754, -2.8624000549316406, -2.9072000980377197, -2.9147000312805176, -2.9358999729156494, -2.937299966812134, -3.0241000652313232, -4.033100128173828, -4.2947001457214355, -4.7266998291015625, -5.17710018157959, -5.577700138092041, -6.008500099182129, -7.795499801635742, -3.028700113296509, -11.68529987335205, -11.69729995727539, -11.6983003616333, -11.698800086975098, -11.696700096130371, -11.699000358581543, -11.698699951171875, -11.699000358581543, -11.69909954071045, -11.69950008392334, -11.699399948120117, -11.699000358581543, -11.697600364685059, -11.699000358581543, -11.698599815368652, -11.696499824523926, -11.697500228881836, -11.69789981842041, -11.696900367736816, -11.697400093078613, -11.69789981842041, -1.5800000429153442, -1.5947999954223633, -1.8729000091552734, -2.176800012588501, -2.8554999828338623, -2.9137001037597656, -3.1731998920440674, -5.606800079345703, -10.972200393676758, -10.972399711608887, -10.972100257873535, -10.972399711608887, -10.970999717712402, -10.972599983215332, -10.972700119018555, -10.972299575805664, -10.972800254821777, -10.972800254821777, -10.972399711608887, -10.972800254821777, -10.972800254821777, -10.97249984741211, -10.972800254821777, -10.97249984741211, -10.972900390625, -10.972900390625, -10.972900390625, -10.972900390625, -10.972900390625, -10.972800254821777, -10.972299575805664, -10.972299575805664, -10.972200393676758, -10.97029972076416, -10.972700119018555, -10.963399887084961, -10.971500396728516, -10.97249984741211, -10.972200393676758, -10.972100257873535, -10.971400260925293, -10.971599578857422, -10.97130012512207, -10.97130012512207, -10.971699714660645, -10.972200393676758, -10.972299575805664, -10.971699714660645, -1.5230000019073486, -1.8447999954223633, -2.262700080871582, -2.3984999656677246, -2.6166999340057373, -2.6547000408172607, -2.7235000133514404, -2.7462000846862793, -4.229599952697754, -4.258299827575684, -5.136899948120117, -5.603799819946289, -11.321200370788574, -11.321000099182129, -11.3193998336792, -11.319199562072754, -11.321000099182129, -11.320699691772461, -11.321599960327148, -11.321499824523926, -11.321700096130371, -11.319899559020996, -11.321700096130371, -11.321700096130371, -11.321700096130371, -11.321499824523926, -11.321599960327148, -11.321700096130371, -11.321700096130371, -11.321700096130371, -11.321499824523926, -11.321499824523926, -11.321399688720703, -11.321499824523926, -11.319600105285645, -11.321399688720703, -11.319100379943848, -11.320300102233887, -11.321000099182129, -11.312899589538574, -11.31980037689209, -11.320199966430664, -11.320899963378906, -11.319999694824219, -11.321100234985352, -11.32129955291748, -0.9887999892234802, -2.148099899291992, -2.430000066757202, -2.435699939727783, -2.565700054168701, -2.8961000442504883, -2.9426000118255615, -3.4179999828338623, -4.745699882507324, -11.39009952545166, -11.392999649047852, -11.392800331115723, -11.39169979095459, -11.393099784851074, -11.39330005645752, -11.39330005645752, -11.3927001953125, -11.39330005645752, -11.39330005645752, -11.393500328063965, -11.393500328063965, -11.393500328063965, -11.392999649047852, -11.393600463867188, -11.393400192260742, -11.393500328063965, -11.39330005645752, -11.393600463867188, -11.39330005645752, -11.393600463867188, -11.382200241088867, -11.393199920654297, -11.391799926757812, -11.391599655151367, -11.39210033416748, -11.39210033416748, -11.39330005645752, -11.392999649047852, -11.392499923706055, -11.391900062561035, -11.39229965209961, -11.393099784851074, -11.392999649047852, -11.393199920654297, -11.393199920654297, -11.393199920654297, -0.9483000040054321, -2.049999952316284, -2.3440001010894775, -2.464099884033203, -2.7139999866485596, -2.8891000747680664, -3.667799949645996, -4.1392998695373535, -6.555500030517578, -11.156200408935547, -11.155200004577637, -11.156900405883789, -11.15719985961914, -11.160400390625, -11.160499572753906, -11.160099983215332, -11.160499572753906, -11.15880012512207, -11.159000396728516, -11.160599708557129, -11.160599708557129, -11.159799575805664, -11.160599708557129, -11.160499572753906, -11.158599853515625, -11.15880012512207, -11.160599708557129, -11.160699844360352, -11.160900115966797, -11.160799980163574, -11.150799751281738, -11.160300254821777, -11.160300254821777, -11.15939998626709, -11.160599708557129, -11.160499572753906, -1.5234999656677246, -1.652899980545044, -2.397700071334839, -2.5048999786376953, -2.532099962234497, -4.0665998458862305, -4.129700183868408, -1.9657000303268433, -10.966400146484375, -10.978799819946289, -10.978500366210938, -10.980999946594238, -10.981100082397461, -10.981100082397461, -10.981100082397461, -10.981100082397461, -10.980899810791016, -10.980999946594238, -10.978500366210938, -10.980999946594238, -10.978899955749512, -10.981499671936035, -10.980999946594238, -10.981200218200684, -10.981100082397461, -10.981300354003906, -10.981300354003906, -10.981599807739258, -10.978400230407715, -10.980500221252441, -10.981200218200684, -10.980799674987793, -10.980999946594238, -10.980999946594238, -10.980600357055664, -10.980400085449219, -10.980400085449219, -10.981100082397461], \"loglift\": [30.0, 29.0, 28.0, 27.0, 26.0, 25.0, 24.0, 23.0, 22.0, 21.0, 20.0, 19.0, 18.0, 17.0, 16.0, 15.0, 14.0, 13.0, 12.0, 11.0, 10.0, 9.0, 8.0, 7.0, 6.0, 5.0, 4.0, 3.0, 2.0, 1.0, 2.4196, 2.4195, 2.4195, 2.419, 2.4189, 2.4187, 2.4183, 2.4181, 2.4179, 2.4178, 2.4175, 2.4162, 2.4153, 2.415, 2.4148, 2.4146, 2.4139, 2.413, 2.4128, 2.4062, 2.3931, 2.3774, 2.3688, 2.3682, 2.3677, 2.3578, 2.3563, 2.3494, 2.318, 2.2929, 2.438, 2.4376, 2.4375, 2.437, 2.4366, 2.4365, 2.4363, 2.436, 2.4359, 2.4359, 2.4357, 2.4351, 2.4348, 2.433, 2.4314, 2.4314, 2.4297, 2.4285, 2.4272, 2.4259, 2.4258, 2.4206, 2.4194, 2.4184, 2.4181, 2.4174, 1.6749, 1.4211, 1.0184, -0.6937, -0.6947, 2.4833, 2.4824, 2.482, 2.4819, 2.4819, 2.4818, 2.4804, 2.4801, 2.4796, 2.4788, 2.4779, 2.4779, 2.4763, 2.4745, 2.4739, 2.4725, 2.4714, 2.4711, 2.4701, 2.4701, 2.4681, 2.4677, 2.4666, 2.4625, 2.4601, 2.4524, 2.4484, 2.4185, 2.4165, 2.388, 0.9362, 2.4929, 2.4921, 2.491, 2.4895, 2.4894, 2.4808, 2.4676, 2.253, 1.9409, -0.7657, -0.7704, -0.7704, -0.7704, -0.7704, -0.7705, -0.7705, -0.7706, -0.7706, -0.7706, -0.7707, -0.7707, -0.7707, -0.7707, -0.7707, -0.7707, -0.7707, -0.7707, -0.7707, -0.7707, -0.7707, -0.7707, -0.7708, -0.7709, -0.7709, -0.7708, -0.7709, -0.7713, -0.7712, -0.7712, -0.7713, -0.7709, -0.772, -0.7709, -0.7709, -0.7709, 2.6519, 2.6493, 2.5599, 2.3768, 1.6168, -0.5149, -0.5167, -0.517, -0.5171, -0.5171, -0.5171, -0.5173, -0.5173, -0.5173, -0.5173, -0.5173, -0.5173, -0.5173, -0.5173, -0.5174, -0.5174, -0.5174, -0.5174, -0.5174, -0.5174, -0.5175, -0.5175, -0.5175, -0.5175, -0.5175, -0.5175, -0.5176, -0.5175, -0.5178, -0.5182, -0.5181, -0.5183, -0.518, -0.5177, -0.5175, -0.5178, -0.5179, 2.7727, 2.7721, 2.772, 2.7719, 2.7716, 2.7715, 2.7705, 2.7702, 2.7689, 2.7685, 2.7682, 2.7669, 2.7655, 2.7649, 2.7639, 2.7625, 2.7624, 2.7613, 2.7594, 2.7564, 2.741, 2.7356, 0.9824, -0.1517, -0.1518, -0.152, -0.152, -0.1521, -0.1521, -0.1521, -0.1522, -0.1523, -0.1524, -0.1525, 2.778, 2.7779, 2.7778, 2.7778, 2.7778, 2.7777, 2.7769, 2.7755, 2.7752, 2.7749, 2.7736, 2.7595, 2.7556, 2.7387, 1.9269, -0.4023, -0.4028, -0.4029, -0.403, -0.403, -0.4032, -0.4032, -0.4032, -0.4032, -0.4032, -0.4032, -0.4033, -0.4033, -0.4034, -0.4034, -0.4035, -0.4044, -0.4037, -0.4037, -0.4035, -0.4041, 2.7822, 2.7822, 2.7819, 2.7816, 2.7814, 2.7813, 2.7809, 2.7804, 2.7794, 2.7791, 2.7786, 2.7784, 2.7768, 2.775, 2.7747, 2.7734, 2.7731, 2.7697, 2.7634, 2.7594, 2.7581, 2.6064, -0.2299, -0.2299, -0.23, -0.2301, -0.2301, -0.2301, -0.2301, -0.2301, -0.2302, -0.2303, -0.2305, -0.2304, -0.2309, 2.9334, 2.9332, 2.9314, 2.9304, 2.9272, 2.9253, 2.9045, 2.0101, -0.3339, -0.3343, -0.3345, -0.3346, -0.3346, -0.3347, -0.3347, -0.3347, -0.3347, -0.3347, -0.3347, -0.3347, -0.3348, -0.3348, -0.3348, -0.3349, -0.3349, -0.3349, -0.3349, -0.3349, -0.3349, -0.3349, -0.3349, -0.335, -0.3349, -0.3352, -0.3349, -0.3349, -0.3349, -0.3356, -0.335, -0.3353, -0.3354, -0.3356, -0.3359, -0.335, 3.2007, 3.2004, 3.2002, 3.2001, 3.1994, 3.1991, 3.1987, 3.1962, 3.1958, 3.1939, 3.1846, 3.1817, 3.1472, 3.1035, 3.0429, 0.2145, 0.2141, 0.214, 0.2139, 0.2139, 0.2139, 0.2138, 0.2138, 0.2138, 0.2137, 0.2137, 0.2137, 0.2137, 0.2137, 0.2137, 0.2137, 0.2137, 0.2135, 0.2137, 0.2136, 0.2129, 0.2133, 0.2132, 0.2131, 0.2126, 3.203, 3.2028, 3.2023, 3.1995, 3.199, 3.1984, 3.1982, 3.196, 3.1749, 3.1079, 3.097, 3.0833, 0.0983, 0.095, 0.0949, 0.0948, 0.0947, 0.0947, 0.0947, 0.0947, 0.0946, 0.0946, 0.0946, 0.0946, 0.0946, 0.0946, 0.0946, 0.0946, 0.0946, 0.0946, 0.0945, 0.0945, 0.0944, 0.0944, 0.0943, 0.0942, 0.0915, 0.0941, 0.0944, 0.0937, 0.0938, 0.0945, 0.0944, 3.2459, 3.2454, 3.2452, 3.2447, 3.2359, 3.1015, 0.1739, 0.1731, 0.1727, 0.1725, 0.1725, 0.1725, 0.1724, 0.1724, 0.1724, 0.1724, 0.1724, 0.1723, 0.1723, 0.1723, 0.1723, 0.1723, 0.1723, 0.1722, 0.1722, 0.1722, 0.1722, 0.1722, 0.1722, 0.1722, 0.1722, 0.1722, 0.1721, 0.1722, 0.1721, 0.172, 0.1721, 0.1718, 0.1709, 0.1714, 0.1719, 0.1721, 0.1719, 3.2609, 3.2604, 3.2595, 3.259, 0.3371, 0.3359, 0.3358, 0.3357, 0.3356, 0.3356, 0.3356, 0.3356, 0.3356, 0.3356, 0.3356, 0.3356, 0.3355, 0.3355, 0.3354, 0.3354, 0.3353, 0.3353, 0.3353, 0.3353, 0.3353, 0.3353, 0.3353, 0.3353, 0.3353, 0.3353, 0.3352, 0.3352, 0.3352, 0.335, 0.3349, 0.3352, 0.335, 0.3344, 0.3346, 0.3341, 0.335, 0.335, 0.3352, 0.3349, 3.4415, 3.4413, 3.4407, 3.4402, 3.4384, 3.4378, 3.4337, 3.4116, 0.6691, 0.6688, 0.6688, 0.6688, 0.6687, 0.6687, 0.6687, 0.6687, 0.6687, 0.6687, 0.6687, 0.6687, 0.6687, 0.6687, 0.6686, 0.6686, 0.6686, 0.6686, 0.6686, 0.6686, 0.6686, 0.6686, 0.6685, 0.6685, 0.6685, 0.6683, 0.6684, 0.6684, 0.6654, 0.6678, 0.6684, 0.6674, 0.668, 0.6674, 0.6678, 0.6676, 0.6683, 0.6683, 0.6682, 0.6675, 3.4476, 3.4467, 3.4465, 3.4455, 3.4453, 3.4451, 3.4451, 3.445, 3.445, 3.4447, 3.4384, 3.4355, 3.4286, 3.4175, 3.4026, 3.3788, 3.0907, 0.7813, 0.345, 0.343, 0.3429, 0.3429, 0.3428, 0.3428, 0.3428, 0.3427, 0.3427, 0.3427, 0.3427, 0.3427, 0.3426, 0.3426, 0.3426, 0.3424, 0.3425, 0.3425, 0.3423, 0.3422, 0.342, 3.6134, 3.6134, 3.6131, 3.6126, 3.6109, 3.6107, 3.6096, 3.5609, 1.0696, 1.0695, 1.0695, 1.0694, 1.0694, 1.0693, 1.0693, 1.0693, 1.0693, 1.0693, 1.0693, 1.0693, 1.0693, 1.0692, 1.0692, 1.0692, 1.0692, 1.0692, 1.0692, 1.0692, 1.0692, 1.0692, 1.0692, 1.0692, 1.0691, 1.0689, 1.0692, 1.067, 1.0688, 1.0691, 1.069, 1.069, 1.0685, 1.0685, 1.0682, 1.0682, 1.0684, 1.0688, 1.0689, 1.0673, 3.6718, 3.6714, 3.6707, 3.6704, 3.6698, 3.6697, 3.6695, 3.6694, 3.6579, 3.6574, 3.6361, 3.6149, 0.7208, 0.7207, 0.7207, 0.7207, 0.7207, 0.7206, 0.7205, 0.7204, 0.7204, 0.7204, 0.7204, 0.7204, 0.7204, 0.7204, 0.7204, 0.7204, 0.7204, 0.7203, 0.7203, 0.7203, 0.7203, 0.7203, 0.72, 0.7203, 0.7198, 0.7201, 0.7202, 0.7174, 0.7198, 0.7199, 0.7201, 0.7192, 0.7201, 0.72, 3.6769, 3.6756, 3.675, 3.6749, 3.6746, 3.6735, 3.6733, 3.6707, 3.6523, 0.6491, 0.6489, 0.6488, 0.6488, 0.6487, 0.6486, 0.6486, 0.6486, 0.6486, 0.6486, 0.6486, 0.6485, 0.6485, 0.6485, 0.6485, 0.6485, 0.6485, 0.6485, 0.6485, 0.6485, 0.6485, 0.6481, 0.6484, 0.6481, 0.6479, 0.648, 0.648, 0.6484, 0.6482, 0.6478, 0.6471, 0.6473, 0.6482, 0.6479, 0.648, 0.648, 0.6479, 3.6834, 3.6823, 3.6817, 3.6814, 3.6807, 3.68, 3.6754, 3.6703, 3.54, 0.8838, 0.8837, 0.8826, 0.8824, 0.8816, 0.8815, 0.8815, 0.8815, 0.8815, 0.8815, 0.8814, 0.8814, 0.8814, 0.8814, 0.8813, 0.8813, 0.8813, 0.8813, 0.8812, 0.8812, 0.8811, 0.8795, 0.881, 0.8809, 0.8798, 0.8809, 0.8804, 3.7968, 3.7966, 3.7952, 3.7949, 3.7948, 3.7837, 3.7828, 1.3845, 1.064, 1.0625, 1.0615, 1.0609, 1.0609, 1.0609, 1.0609, 1.0608, 1.0608, 1.0608, 1.0607, 1.0607, 1.0606, 1.0606, 1.0606, 1.0606, 1.0606, 1.0606, 1.0605, 1.0605, 1.0605, 1.0605, 1.0605, 1.0603, 1.0603, 1.0602, 1.0597, 1.0595, 1.0592, 1.0593]}, \"token.table\": {\"Topic\": [11, 1, 3, 17, 20, 6, 6, 6, 1, 2, 2, 15, 6, 7, 3, 4, 1, 7, 10, 17, 2, 8, 17, 17, 8, 18, 6, 3, 2, 14, 15, 15, 8, 2, 14, 1, 2, 10, 3, 3, 16, 3, 15, 15, 2, 5, 2, 3, 2, 8, 4, 14, 1, 2, 6, 1, 2, 2, 3, 11, 1, 19, 3, 8, 6, 7, 10, 2, 1, 1, 1, 1, 11, 1, 20, 11, 15, 16, 11, 7, 2, 15, 16, 3, 1, 2, 19, 17, 19, 3, 6, 3, 14, 10, 5, 8, 10, 8, 6, 4, 13, 15, 20, 4, 3, 10, 13, 8, 6, 3, 9, 8, 1, 7, 16, 1, 5, 20, 4, 2, 2, 6, 3, 15, 17, 15, 18, 6, 19, 6, 8, 7, 2, 1, 3, 15, 13, 14, 11, 11, 1, 12, 6, 2, 6, 12, 17, 17, 11, 12, 9, 3, 12, 15, 6, 10, 8, 2, 3, 9, 18, 6, 3, 10, 3, 1, 9, 16, 1, 7, 7, 8, 8, 11, 3, 18, 2, 8, 14, 2, 15, 2, 18, 20, 20, 2, 8, 10, 9, 5, 1, 8, 3, 1, 8, 6, 6, 1, 7, 1, 3, 16, 4, 5, 15, 10, 1, 3, 4, 3, 6, 19, 7, 14, 11, 3, 18, 3, 2, 7, 18, 7, 8, 7, 19, 15, 2, 20, 3, 14, 4, 6, 1, 17, 17, 1, 10, 19, 2, 2, 3, 7, 18, 9, 8, 4, 10, 16, 1, 17, 1, 2, 3, 19, 16, 12, 8, 8, 15, 1, 3, 15, 10, 7, 6, 17, 10, 9, 8, 20, 15, 11, 12, 9, 19, 18, 10, 13, 1, 11], \"Freq\": [0.8870258730334971, 0.9954176646527283, 0.9785488005708262, 0.9974686208292171, 0.9972740156280725, 0.9869163347043914, 0.998819713125069, 0.9891177484108616, 0.99810787106827, 0.9779448918080297, 0.9984831910995875, 0.9969456924161526, 0.9989563788825326, 0.9991813764092145, 0.9967900387159909, 0.9989143243235362, 0.8687862345105721, 0.32009790455249765, 0.9986707529437466, 0.9975333194719483, 0.9926671584407666, 0.9912855868208199, 0.9984036496913463, 0.9848213219092221, 0.9723805657524394, 0.9980513271287416, 0.9546040290765346, 0.9940610886983312, 0.9982184076539264, 0.9973846893563756, 0.9708241053360197, 0.9769299578555848, 0.9846574210026637, 0.9979539724066521, 0.9994907223015919, 0.9984986671215806, 0.9924660274507461, 0.9973313607678607, 0.9959442582107432, 0.9859345925279589, 0.9969524198568249, 0.9939619218505327, 0.9916967648118329, 0.9407602121645292, 0.2417467761186615, 0.75809718013488, 0.9985324385930036, 0.9866437199961026, 0.9927049128601781, 0.9991454028976858, 0.9753731506194103, 0.9754813955535481, 0.9929431014459069, 0.9984832045950933, 0.9988322718371777, 0.9989175832685867, 0.5975397901213966, 0.35722951751157184, 0.9988362784030747, 0.917754167818417, 0.9494482754436079, 0.9974137293513639, 0.9613495786547613, 0.818816173093253, 0.9906151424373856, 0.9982192912745337, 0.992096635121698, 0.9971769417573974, 0.9409563296534363, 0.9955844829418466, 0.9784970567610923, 0.9951517484882535, 0.974371083594303, 0.9985631599230699, 0.9989631460225924, 0.9967196610378514, 0.9965415824581922, 0.998745006445642, 0.9044908328082296, 0.9993493507308374, 0.9937892326617146, 0.9967703326310906, 0.9960054639898507, 0.9937045562376076, 0.9234434532851549, 0.9997591814713455, 0.9955292205956784, 0.9977415004727227, 0.840423342910639, 0.9153959460953782, 0.9973225883803493, 0.996221241148385, 0.9950970221569715, 0.9937715016711719, 0.9976096793001356, 0.9986354654640835, 0.9980011747009987, 0.9950430418449663, 0.9977737070099152, 0.9896770362790102, 0.9993404713872017, 0.9992542025684594, 0.9980043241885195, 0.997295171734394, 0.9931499152481237, 0.999195612755016, 0.9982617519400536, 0.9961609541955749, 0.9892499623992338, 0.9884923143779637, 0.999595092233698, 0.9955507773946167, 0.9996752889162727, 0.9995615892110968, 0.9992197386887675, 0.9989324996530455, 0.9103836687989483, 0.08951941298487043, 0.9998888910490973, 0.9788135984851823, 0.9970613360293896, 0.993328603370151, 0.998892386480939, 0.9959789240463739, 0.9989250595704852, 0.997301286407498, 0.9972971850939115, 0.9920017351609504, 0.9984282013891175, 0.9914985972673408, 0.9973719012671091, 0.9978045517603207, 0.9858565147378642, 0.9450180950396591, 0.9841436798549049, 0.9959578260184919, 0.9985804433552897, 0.9988278271798008, 0.9946180223135409, 0.9941592417431254, 0.9997123724567784, 0.990408016472125, 0.9988080689510049, 0.9976837648821436, 0.996014123490863, 0.8316167507714133, 0.9964026707555058, 0.9989399178432506, 0.9988909060379599, 0.9996264673212338, 0.9733325852446729, 0.9720468353535773, 0.9991752286028469, 0.9901912747697286, 0.9987598449472983, 0.9960676969403841, 0.999234817104608, 0.9994012530428823, 0.9998395952270253, 0.9978002720235088, 0.9936921960288054, 0.986929270373313, 0.9857113300175357, 0.8257532921840307, 0.9985760809198456, 0.9962328342788701, 0.33542496228772944, 0.9365405746981524, 0.9599222171366537, 0.9995712983972558, 0.9993765196776707, 0.9994967583716455, 0.9719721414821216, 0.9917430305064802, 0.9899946049653379, 0.9963413097919733, 0.9803731396394513, 0.9956575461911747, 0.9938669066007997, 0.9955330936682169, 0.9969139011196366, 0.9828989182453481, 0.9973548635625602, 0.9870971634519845, 0.9815500691553763, 0.9804600244034498, 0.9906392363851734, 0.9994776098909341, 0.9924964368461862, 0.9951369131420483, 0.9940508567882412, 0.9894963179298233, 0.9396403926429681, 0.999521275752836, 0.9979411362226615, 0.9948988493568285, 0.9602084755260787, 0.915578657422146, 0.9940799639555815, 0.9565221884099956, 0.9476665710859531, 0.9990750832576195, 0.5758099013995125, 0.3545964065231608, 0.06946730083633179, 0.8926283731433949, 0.9931835025679818, 0.2127184854874856, 0.7868054945375954, 0.9928131316105323, 0.9996822108735984, 0.99655929177486, 0.974648439095756, 0.9994290503548655, 0.9951043622200634, 0.9948734125703728, 0.9794463718267005, 0.9863871554839228, 0.9868748215983063, 0.9819586231605253, 0.9994386824042364, 0.9591155848466361, 0.9983159129518665, 0.9966642767628313, 0.9982927417383815, 0.998118694905191, 0.9975314375966327, 0.9965110244620691, 0.9895305454474211, 0.9985058110818528, 0.995548450980638, 0.9960485881789342, 0.9991702891429137, 0.9568318285300584, 0.9537312784771566, 0.9328002183373658, 0.9487801936132069, 0.9892489678299339, 0.9978859223169747, 0.9993969596521319, 0.9983683065266262, 0.999012242227326, 0.9960367242470995, 0.9960060970805735, 0.9778049625940854, 0.9983713988462113, 0.999332826134504, 0.9956028621879248, 0.9960059141867763, 0.9825533452023069, 0.997643016992132, 0.9882908603349827, 0.9987045393583491, 0.9865666964395654, 0.9984513763369675, 0.999316711591709, 0.998748573250605, 0.9994213784773648, 0.951854239705145, 0.9875875819768158, 0.9838672067789813, 0.6738547578010584, 0.9981096862223818, 0.9959779851247544, 0.9916007495853604, 0.9966944374739306, 0.9799290455849144, 0.9998638271538766, 0.9883906593465953, 0.9990359229211097, 0.9983490919014477, 0.9995971283398881, 0.9983940983753694, 0.9918496332597763, 0.9994295341522599, 0.9959062689409339, 0.9851667802709271, 0.9997175504373503, 0.9979480414899234, 0.9995755655310868], \"Term\": [\"-PRON-\", \"1\", \"1.5\", \"10\", \"100\", \"12\", \"2\", \"20\", \"3\", \"3rd\", \"4\", \"6\", \"7\", \"8\", \"9\", \"Christmas\", \"Xbox\", \"aa\", \"able\", \"affordable\", \"ago\", \"alternative\", \"amazing\", \"appear\", \"arrive\", \"available\", \"average\", \"away\", \"awesome\", \"bad\", \"bang\", \"bargain\", \"base\", \"basic\", \"battery\", \"beat\", \"believe\", \"better\", \"bit\", \"box\", \"brand\", \"bright\", \"buck\", \"bulk\", \"buy\", \"buy\", \"camera\", \"capacity\", \"car\", \"case\", \"cause\", \"certainly\", \"change\", \"charge\", \"cheap\", \"child\", \"clock\", \"cold\", \"come\", \"comment\", \"comparable\", \"compare\", \"comparison\", \"condition\", \"consider\", \"control\", \"convenient\", \"cost\", \"count\", \"couple\", \"crazy\", \"daily\", \"date\", \"day\", \"deal\", \"decent\", \"decide\", \"definitely\", \"delivery\", \"device\", \"difference\", \"different\", \"disappoint\", \"dollar\", \"door\", \"easy\", \"electronic\", \"end\", \"energy\", \"equipment\", \"especially\", \"etc\", \"everyday\", \"exactly\", \"excellent\", \"expect\", \"expensive\", \"experience\", \"family\", \"fantastic\", \"far\", \"fast\", \"faster\", \"feel\", \"finally\", \"find\", \"fine\", \"fit\", \"fully\", \"future\", \"game\", \"gaming\", \"get\", \"gift\", \"give\", \"go\", \"good\", \"good\", \"great\", \"half\", \"hand\", \"handy\", \"happy\", \"hard\", \"have\", \"high\", \"highly\", \"hit\", \"hold\", \"holiday\", \"home\", \"hour\", \"house\", \"household\", \"important\", \"inexpensive\", \"issue\", \"item\", \"job\", \"keyboard\", \"kid\", \"kind\", \"know\", \"large\", \"last\", \"led\", \"let\", \"life\", \"light\", \"like\", \"likely\", \"list\", \"little\", \"local\", \"long\", \"longer\", \"look\", \"lot\", \"love\", \"low\", \"mainly\", \"maybe\", \"mean\", \"microphone\", \"money\", \"month\", \"mouse\", \"name\", \"nearly\", \"need\", \"new\", \"nice\", \"nicely\", \"night\", \"non\", \"not\", \"notice\", \"ok\", \"okay\", \"one\", \"online\", \"opinion\", \"option\", \"order\", \"pack\", \"package\", \"past\", \"perfect\", \"perform\", \"performance\", \"pick\", \"place\", \"plastic\", \"play\", \"pleased\", \"plenty\", \"popular\", \"possible\", \"power\", \"powered\", \"premium\", \"pretty\", \"price\", \"price\", \"price\", \"pricing\", \"probably\", \"product\", \"product\", \"provide\", \"purchase\", \"purpose\", \"put\", \"quality\", \"quick\", \"quickly\", \"rate\", \"realize\", \"reasonable\", \"recharge\", \"recommend\", \"remote\", \"replace\", \"replacement\", \"review\", \"right\", \"run\", \"satisfied\", \"save\", \"say\", \"second\", \"sell\", \"set\", \"share\", \"shelf\", \"ship\", \"shipping\", \"short\", \"simple\", \"size\", \"small\", \"son\", \"spend\", \"start\", \"stock\", \"storage\", \"store\", \"strong\", \"super\", \"suppose\", \"sure\", \"switch\", \"take\", \"test\", \"thank\", \"thing\", \"think\", \"time\", \"tired\", \"toy\", \"trouble\", \"trust\", \"try\", \"tv\", \"type\", \"update\", \"usage\", \"use\", \"useful\", \"value\", \"version\", \"want\", \"way\", \"week\", \"well\", \"will\", \"wireless\", \"work\", \"worth\", \"year\"]}, \"R\": 30, \"lambda.step\": 0.01, \"plot.opts\": {\"xlab\": \"PC1\", \"ylab\": \"PC2\"}, \"topic.order\": [19, 6, 15, 17, 3, 16, 14, 10, 8, 5, 1, 18, 9, 12, 2, 7, 13, 20, 11, 4]};\n",
              "\n",
              "function LDAvis_load_lib(url, callback){\n",
              "  var s = document.createElement('script');\n",
              "  s.src = url;\n",
              "  s.async = true;\n",
              "  s.onreadystatechange = s.onload = callback;\n",
              "  s.onerror = function(){console.warn(\"failed to load library \" + url);};\n",
              "  document.getElementsByTagName(\"head\")[0].appendChild(s);\n",
              "}\n",
              "\n",
              "if(typeof(LDAvis) !== \"undefined\"){\n",
              "   // already loaded: just create the visualization\n",
              "   !function(LDAvis){\n",
              "       new LDAvis(\"#\" + \"ldavis_el5761406563159022561513313068\", ldavis_el5761406563159022561513313068_data);\n",
              "   }(LDAvis);\n",
              "}else if(typeof define === \"function\" && define.amd){\n",
              "   // require.js is available: use it to load d3/LDAvis\n",
              "   require.config({paths: {d3: \"https://cdnjs.cloudflare.com/ajax/libs/d3/3.5.5/d3.min\"}});\n",
              "   require([\"d3\"], function(d3){\n",
              "      window.d3 = d3;\n",
              "      LDAvis_load_lib(\"https://cdn.rawgit.com/bmabey/pyLDAvis/files/ldavis.v1.0.0.js\", function(){\n",
              "        new LDAvis(\"#\" + \"ldavis_el5761406563159022561513313068\", ldavis_el5761406563159022561513313068_data);\n",
              "      });\n",
              "    });\n",
              "}else{\n",
              "    // require.js not available: dynamically load d3 & LDAvis\n",
              "    LDAvis_load_lib(\"https://cdnjs.cloudflare.com/ajax/libs/d3/3.5.5/d3.min.js\", function(){\n",
              "         LDAvis_load_lib(\"https://cdn.rawgit.com/bmabey/pyLDAvis/files/ldavis.v1.0.0.js\", function(){\n",
              "                 new LDAvis(\"#\" + \"ldavis_el5761406563159022561513313068\", ldavis_el5761406563159022561513313068_data);\n",
              "            })\n",
              "         });\n",
              "}\n",
              "</script>"
            ],
            "text/plain": [
              "<IPython.core.display.HTML object>"
            ]
          },
          "metadata": {
            "tags": []
          },
          "execution_count": 20
        }
      ]
    },
    {
      "cell_type": "markdown",
      "metadata": {
        "id": "mAcdErEsiHRI"
      },
      "source": [
        "## Stretch Goals\n",
        "\n",
        "* Incorporate Named Entity Recognition in your analysis\n",
        "* Incorporate some custom pre-processing from our previous lessons (like spacy lemmatization)\n",
        "* Analyze a dataset of interest to you with topic modeling"
      ]
    }
  ]
}