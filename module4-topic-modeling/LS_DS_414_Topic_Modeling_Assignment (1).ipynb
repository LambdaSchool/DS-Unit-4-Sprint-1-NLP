{
 "cells": [
  {
   "cell_type": "markdown",
   "metadata": {},
   "source": [
    "<img align=\"left\" src=\"https://lever-client-logos.s3.amazonaws.com/864372b1-534c-480e-acd5-9711f850815c-1524247202159.png\" width=200>\n",
    "<br></br>\n",
    "<br></br>\n",
    "\n",
    "# Topic Modeling\n",
    "## *Data Science Unit 4 Sprint 1 Assignment 4* Jonatan Rivera\n",
    "\n",
    "Analyze a corpus of Amazon reviews from Unit 4 Sprint 1 Module 1's lecture using topic modeling: \n",
    "\n",
    "- Fit a Gensim LDA topic model on Amazon Reviews\n",
    "- Select appropriate number of topics\n",
    "- Create some dope visualization of the topics\n",
    "- Write a few bullets on your findings in markdown at the end\n",
    "- **Note**: You don't *have* to use generators for this assignment"
   ]
  },
  {
   "cell_type": "code",
   "execution_count": 1,
   "metadata": {},
   "outputs": [],
   "source": [
    "#Import modules that will be used to make LDA topic model on Amazon Reviews\n",
    "import numpy as np\n",
    "import gensim\n",
    "import os\n",
    "import re\n",
    "from ast import literal_eval\n",
    "\n",
    "import gensim\n",
    "import os\n",
    "import re\n",
    "from ast import literal_eval\n",
    "\n",
    "from gensim.utils import simple_preprocess\n",
    "from gensim.parsing.preprocessing import STOPWORDS \n",
    "from gensim import corpora\n",
    "\n",
    "from gensim.models.ldamulticore import LdaMulticore\n",
    "\n",
    "from gensim.utils import simple_preprocess\n",
    "from gensim.parsing.preprocessing import STOPWORDS \n",
    "from gensim import corpora\n",
    "\n",
    "from gensim.models.ldamulticore import LdaMulticore\n",
    "\n",
    "import pandas as pd\n",
    "import tqdm"
   ]
  },
  {
   "cell_type": "code",
   "execution_count": 2,
   "metadata": {},
   "outputs": [
    {
     "ename": "FileNotFoundError",
     "evalue": "[Errno 2] No such file or directory: 'Datafiniti_Amazon_Consumer_Reviews_of_Amazon_Products_May19.csv'",
     "output_type": "error",
     "traceback": [
      "\u001b[0;31m---------------------------------------------------------------------------\u001b[0m",
      "\u001b[0;31mFileNotFoundError\u001b[0m                         Traceback (most recent call last)",
      "\u001b[0;32m<ipython-input-2-e0dacb19c13f>\u001b[0m in \u001b[0;36m<module>\u001b[0;34m\u001b[0m\n\u001b[1;32m      3\u001b[0m \u001b[0;34m\u001b[0m\u001b[0m\n\u001b[1;32m      4\u001b[0m \u001b[0;31m#Start Here\u001b[0m\u001b[0;34m\u001b[0m\u001b[0;34m\u001b[0m\u001b[0;34m\u001b[0m\u001b[0m\n\u001b[0;32m----> 5\u001b[0;31m \u001b[0mdf\u001b[0m \u001b[0;34m=\u001b[0m \u001b[0mpd\u001b[0m\u001b[0;34m.\u001b[0m\u001b[0mread_csv\u001b[0m\u001b[0;34m(\u001b[0m\u001b[0;34m'Datafiniti_Amazon_Consumer_Reviews_of_Amazon_Products_May19.csv'\u001b[0m\u001b[0;34m)\u001b[0m\u001b[0;34m\u001b[0m\u001b[0;34m\u001b[0m\u001b[0m\n\u001b[0m",
      "\u001b[0;32m~/.virtualenvs/DS-Unit-4-Sprint-1-NLP-N2EbWurJ/lib/python3.8/site-packages/pandas/io/parsers.py\u001b[0m in \u001b[0;36mread_csv\u001b[0;34m(filepath_or_buffer, sep, delimiter, header, names, index_col, usecols, squeeze, prefix, mangle_dupe_cols, dtype, engine, converters, true_values, false_values, skipinitialspace, skiprows, skipfooter, nrows, na_values, keep_default_na, na_filter, verbose, skip_blank_lines, parse_dates, infer_datetime_format, keep_date_col, date_parser, dayfirst, cache_dates, iterator, chunksize, compression, thousands, decimal, lineterminator, quotechar, quoting, doublequote, escapechar, comment, encoding, dialect, error_bad_lines, warn_bad_lines, delim_whitespace, low_memory, memory_map, float_precision)\u001b[0m\n\u001b[1;32m    684\u001b[0m     )\n\u001b[1;32m    685\u001b[0m \u001b[0;34m\u001b[0m\u001b[0m\n\u001b[0;32m--> 686\u001b[0;31m     \u001b[0;32mreturn\u001b[0m \u001b[0m_read\u001b[0m\u001b[0;34m(\u001b[0m\u001b[0mfilepath_or_buffer\u001b[0m\u001b[0;34m,\u001b[0m \u001b[0mkwds\u001b[0m\u001b[0;34m)\u001b[0m\u001b[0;34m\u001b[0m\u001b[0;34m\u001b[0m\u001b[0m\n\u001b[0m\u001b[1;32m    687\u001b[0m \u001b[0;34m\u001b[0m\u001b[0m\n\u001b[1;32m    688\u001b[0m \u001b[0;34m\u001b[0m\u001b[0m\n",
      "\u001b[0;32m~/.virtualenvs/DS-Unit-4-Sprint-1-NLP-N2EbWurJ/lib/python3.8/site-packages/pandas/io/parsers.py\u001b[0m in \u001b[0;36m_read\u001b[0;34m(filepath_or_buffer, kwds)\u001b[0m\n\u001b[1;32m    450\u001b[0m \u001b[0;34m\u001b[0m\u001b[0m\n\u001b[1;32m    451\u001b[0m     \u001b[0;31m# Create the parser.\u001b[0m\u001b[0;34m\u001b[0m\u001b[0;34m\u001b[0m\u001b[0;34m\u001b[0m\u001b[0m\n\u001b[0;32m--> 452\u001b[0;31m     \u001b[0mparser\u001b[0m \u001b[0;34m=\u001b[0m \u001b[0mTextFileReader\u001b[0m\u001b[0;34m(\u001b[0m\u001b[0mfp_or_buf\u001b[0m\u001b[0;34m,\u001b[0m \u001b[0;34m**\u001b[0m\u001b[0mkwds\u001b[0m\u001b[0;34m)\u001b[0m\u001b[0;34m\u001b[0m\u001b[0;34m\u001b[0m\u001b[0m\n\u001b[0m\u001b[1;32m    453\u001b[0m \u001b[0;34m\u001b[0m\u001b[0m\n\u001b[1;32m    454\u001b[0m     \u001b[0;32mif\u001b[0m \u001b[0mchunksize\u001b[0m \u001b[0;32mor\u001b[0m \u001b[0miterator\u001b[0m\u001b[0;34m:\u001b[0m\u001b[0;34m\u001b[0m\u001b[0;34m\u001b[0m\u001b[0m\n",
      "\u001b[0;32m~/.virtualenvs/DS-Unit-4-Sprint-1-NLP-N2EbWurJ/lib/python3.8/site-packages/pandas/io/parsers.py\u001b[0m in \u001b[0;36m__init__\u001b[0;34m(self, f, engine, **kwds)\u001b[0m\n\u001b[1;32m    934\u001b[0m             \u001b[0mself\u001b[0m\u001b[0;34m.\u001b[0m\u001b[0moptions\u001b[0m\u001b[0;34m[\u001b[0m\u001b[0;34m\"has_index_names\"\u001b[0m\u001b[0;34m]\u001b[0m \u001b[0;34m=\u001b[0m \u001b[0mkwds\u001b[0m\u001b[0;34m[\u001b[0m\u001b[0;34m\"has_index_names\"\u001b[0m\u001b[0;34m]\u001b[0m\u001b[0;34m\u001b[0m\u001b[0;34m\u001b[0m\u001b[0m\n\u001b[1;32m    935\u001b[0m \u001b[0;34m\u001b[0m\u001b[0m\n\u001b[0;32m--> 936\u001b[0;31m         \u001b[0mself\u001b[0m\u001b[0;34m.\u001b[0m\u001b[0m_make_engine\u001b[0m\u001b[0;34m(\u001b[0m\u001b[0mself\u001b[0m\u001b[0;34m.\u001b[0m\u001b[0mengine\u001b[0m\u001b[0;34m)\u001b[0m\u001b[0;34m\u001b[0m\u001b[0;34m\u001b[0m\u001b[0m\n\u001b[0m\u001b[1;32m    937\u001b[0m \u001b[0;34m\u001b[0m\u001b[0m\n\u001b[1;32m    938\u001b[0m     \u001b[0;32mdef\u001b[0m \u001b[0mclose\u001b[0m\u001b[0;34m(\u001b[0m\u001b[0mself\u001b[0m\u001b[0;34m)\u001b[0m\u001b[0;34m:\u001b[0m\u001b[0;34m\u001b[0m\u001b[0;34m\u001b[0m\u001b[0m\n",
      "\u001b[0;32m~/.virtualenvs/DS-Unit-4-Sprint-1-NLP-N2EbWurJ/lib/python3.8/site-packages/pandas/io/parsers.py\u001b[0m in \u001b[0;36m_make_engine\u001b[0;34m(self, engine)\u001b[0m\n\u001b[1;32m   1166\u001b[0m     \u001b[0;32mdef\u001b[0m \u001b[0m_make_engine\u001b[0m\u001b[0;34m(\u001b[0m\u001b[0mself\u001b[0m\u001b[0;34m,\u001b[0m \u001b[0mengine\u001b[0m\u001b[0;34m=\u001b[0m\u001b[0;34m\"c\"\u001b[0m\u001b[0;34m)\u001b[0m\u001b[0;34m:\u001b[0m\u001b[0;34m\u001b[0m\u001b[0;34m\u001b[0m\u001b[0m\n\u001b[1;32m   1167\u001b[0m         \u001b[0;32mif\u001b[0m \u001b[0mengine\u001b[0m \u001b[0;34m==\u001b[0m \u001b[0;34m\"c\"\u001b[0m\u001b[0;34m:\u001b[0m\u001b[0;34m\u001b[0m\u001b[0;34m\u001b[0m\u001b[0m\n\u001b[0;32m-> 1168\u001b[0;31m             \u001b[0mself\u001b[0m\u001b[0;34m.\u001b[0m\u001b[0m_engine\u001b[0m \u001b[0;34m=\u001b[0m \u001b[0mCParserWrapper\u001b[0m\u001b[0;34m(\u001b[0m\u001b[0mself\u001b[0m\u001b[0;34m.\u001b[0m\u001b[0mf\u001b[0m\u001b[0;34m,\u001b[0m \u001b[0;34m**\u001b[0m\u001b[0mself\u001b[0m\u001b[0;34m.\u001b[0m\u001b[0moptions\u001b[0m\u001b[0;34m)\u001b[0m\u001b[0;34m\u001b[0m\u001b[0;34m\u001b[0m\u001b[0m\n\u001b[0m\u001b[1;32m   1169\u001b[0m         \u001b[0;32melse\u001b[0m\u001b[0;34m:\u001b[0m\u001b[0;34m\u001b[0m\u001b[0;34m\u001b[0m\u001b[0m\n\u001b[1;32m   1170\u001b[0m             \u001b[0;32mif\u001b[0m \u001b[0mengine\u001b[0m \u001b[0;34m==\u001b[0m \u001b[0;34m\"python\"\u001b[0m\u001b[0;34m:\u001b[0m\u001b[0;34m\u001b[0m\u001b[0;34m\u001b[0m\u001b[0m\n",
      "\u001b[0;32m~/.virtualenvs/DS-Unit-4-Sprint-1-NLP-N2EbWurJ/lib/python3.8/site-packages/pandas/io/parsers.py\u001b[0m in \u001b[0;36m__init__\u001b[0;34m(self, src, **kwds)\u001b[0m\n\u001b[1;32m   1996\u001b[0m         \u001b[0mkwds\u001b[0m\u001b[0;34m[\u001b[0m\u001b[0;34m\"usecols\"\u001b[0m\u001b[0;34m]\u001b[0m \u001b[0;34m=\u001b[0m \u001b[0mself\u001b[0m\u001b[0;34m.\u001b[0m\u001b[0musecols\u001b[0m\u001b[0;34m\u001b[0m\u001b[0;34m\u001b[0m\u001b[0m\n\u001b[1;32m   1997\u001b[0m \u001b[0;34m\u001b[0m\u001b[0m\n\u001b[0;32m-> 1998\u001b[0;31m         \u001b[0mself\u001b[0m\u001b[0;34m.\u001b[0m\u001b[0m_reader\u001b[0m \u001b[0;34m=\u001b[0m \u001b[0mparsers\u001b[0m\u001b[0;34m.\u001b[0m\u001b[0mTextReader\u001b[0m\u001b[0;34m(\u001b[0m\u001b[0msrc\u001b[0m\u001b[0;34m,\u001b[0m \u001b[0;34m**\u001b[0m\u001b[0mkwds\u001b[0m\u001b[0;34m)\u001b[0m\u001b[0;34m\u001b[0m\u001b[0;34m\u001b[0m\u001b[0m\n\u001b[0m\u001b[1;32m   1999\u001b[0m         \u001b[0mself\u001b[0m\u001b[0;34m.\u001b[0m\u001b[0munnamed_cols\u001b[0m \u001b[0;34m=\u001b[0m \u001b[0mself\u001b[0m\u001b[0;34m.\u001b[0m\u001b[0m_reader\u001b[0m\u001b[0;34m.\u001b[0m\u001b[0munnamed_cols\u001b[0m\u001b[0;34m\u001b[0m\u001b[0;34m\u001b[0m\u001b[0m\n\u001b[1;32m   2000\u001b[0m \u001b[0;34m\u001b[0m\u001b[0m\n",
      "\u001b[0;32mpandas/_libs/parsers.pyx\u001b[0m in \u001b[0;36mpandas._libs.parsers.TextReader.__cinit__\u001b[0;34m()\u001b[0m\n",
      "\u001b[0;32mpandas/_libs/parsers.pyx\u001b[0m in \u001b[0;36mpandas._libs.parsers.TextReader._setup_parser_source\u001b[0;34m()\u001b[0m\n",
      "\u001b[0;31mFileNotFoundError\u001b[0m: [Errno 2] No such file or directory: 'Datafiniti_Amazon_Consumer_Reviews_of_Amazon_Products_May19.csv'"
     ]
    }
   ],
   "source": [
    "#Begin by reading converting amazon data into pandas dataframe\n",
    "import pandas as pd\n",
    "\n",
    "#Start Here\n",
    "df = pd.read_csv('Datafiniti_Amazon_Consumer_Reviews_of_Amazon_Products_May19.csv')"
   ]
  },
  {
   "cell_type": "code",
   "execution_count": 3,
   "metadata": {},
   "outputs": [
    {
     "data": {
      "text/html": [
       "<div>\n",
       "<style scoped>\n",
       "    .dataframe tbody tr th:only-of-type {\n",
       "        vertical-align: middle;\n",
       "    }\n",
       "\n",
       "    .dataframe tbody tr th {\n",
       "        vertical-align: top;\n",
       "    }\n",
       "\n",
       "    .dataframe thead th {\n",
       "        text-align: right;\n",
       "    }\n",
       "</style>\n",
       "<table border=\"1\" class=\"dataframe\">\n",
       "  <thead>\n",
       "    <tr style=\"text-align: right;\">\n",
       "      <th></th>\n",
       "      <th>id</th>\n",
       "      <th>dateAdded</th>\n",
       "      <th>dateUpdated</th>\n",
       "      <th>name</th>\n",
       "      <th>asins</th>\n",
       "      <th>brand</th>\n",
       "      <th>categories</th>\n",
       "      <th>primaryCategories</th>\n",
       "      <th>imageURLs</th>\n",
       "      <th>keys</th>\n",
       "      <th>...</th>\n",
       "      <th>reviews.didPurchase</th>\n",
       "      <th>reviews.doRecommend</th>\n",
       "      <th>reviews.id</th>\n",
       "      <th>reviews.numHelpful</th>\n",
       "      <th>reviews.rating</th>\n",
       "      <th>reviews.sourceURLs</th>\n",
       "      <th>reviews.text</th>\n",
       "      <th>reviews.title</th>\n",
       "      <th>reviews.username</th>\n",
       "      <th>sourceURLs</th>\n",
       "    </tr>\n",
       "  </thead>\n",
       "  <tbody>\n",
       "    <tr>\n",
       "      <th>0</th>\n",
       "      <td>AVpgNzjwLJeJML43Kpxn</td>\n",
       "      <td>2015-10-30T08:59:32Z</td>\n",
       "      <td>2019-04-25T09:08:16Z</td>\n",
       "      <td>AmazonBasics AAA Performance Alkaline Batteries (36 Count)</td>\n",
       "      <td>B00QWO9P0O,B00LH3DMUO</td>\n",
       "      <td>Amazonbasics</td>\n",
       "      <td>AA,AAA,Health,Electronics,Health &amp; Household,Camcorder Batteries,Camera &amp; Photo,Batteries,Househ...</td>\n",
       "      <td>Health &amp; Beauty</td>\n",
       "      <td>https://images-na.ssl-images-amazon.com/images/I/81qmNyJo%2BkL._SL1500_.jpg,https://images-na.ss...</td>\n",
       "      <td>amazonbasics/hl002619,amazonbasicsaaaperformancealkalinebatteries36count/b00lh3dmuo,084171010644...</td>\n",
       "      <td>...</td>\n",
       "      <td>NaN</td>\n",
       "      <td>NaN</td>\n",
       "      <td>NaN</td>\n",
       "      <td>NaN</td>\n",
       "      <td>3</td>\n",
       "      <td>https://www.amazon.com/product-reviews/B00QWO9P0O/</td>\n",
       "      <td>I order 3 of them and one of the item is bad quality. Is missing backup spring so I have to put ...</td>\n",
       "      <td>... 3 of them and one of the item is bad quality. Is missing backup spring so I have ...</td>\n",
       "      <td>Byger yang</td>\n",
       "      <td>https://www.barcodable.com/upc/841710106442,https://www.amazon.com/AmazonBasics-Performance-Alka...</td>\n",
       "    </tr>\n",
       "    <tr>\n",
       "      <th>1</th>\n",
       "      <td>AVpgNzjwLJeJML43Kpxn</td>\n",
       "      <td>2015-10-30T08:59:32Z</td>\n",
       "      <td>2019-04-25T09:08:16Z</td>\n",
       "      <td>AmazonBasics AAA Performance Alkaline Batteries (36 Count)</td>\n",
       "      <td>B00QWO9P0O,B00LH3DMUO</td>\n",
       "      <td>Amazonbasics</td>\n",
       "      <td>AA,AAA,Health,Electronics,Health &amp; Household,Camcorder Batteries,Camera &amp; Photo,Batteries,Househ...</td>\n",
       "      <td>Health &amp; Beauty</td>\n",
       "      <td>https://images-na.ssl-images-amazon.com/images/I/81qmNyJo%2BkL._SL1500_.jpg,https://images-na.ss...</td>\n",
       "      <td>amazonbasics/hl002619,amazonbasicsaaaperformancealkalinebatteries36count/b00lh3dmuo,084171010644...</td>\n",
       "      <td>...</td>\n",
       "      <td>NaN</td>\n",
       "      <td>NaN</td>\n",
       "      <td>NaN</td>\n",
       "      <td>NaN</td>\n",
       "      <td>4</td>\n",
       "      <td>https://www.amazon.com/product-reviews/B00QWO9P0O/</td>\n",
       "      <td>Bulk is always the less expensive way to go for products like these</td>\n",
       "      <td>... always the less expensive way to go for products like</td>\n",
       "      <td>ByMG</td>\n",
       "      <td>https://www.barcodable.com/upc/841710106442,https://www.amazon.com/AmazonBasics-Performance-Alka...</td>\n",
       "    </tr>\n",
       "    <tr>\n",
       "      <th>2</th>\n",
       "      <td>AVpgNzjwLJeJML43Kpxn</td>\n",
       "      <td>2015-10-30T08:59:32Z</td>\n",
       "      <td>2019-04-25T09:08:16Z</td>\n",
       "      <td>AmazonBasics AAA Performance Alkaline Batteries (36 Count)</td>\n",
       "      <td>B00QWO9P0O,B00LH3DMUO</td>\n",
       "      <td>Amazonbasics</td>\n",
       "      <td>AA,AAA,Health,Electronics,Health &amp; Household,Camcorder Batteries,Camera &amp; Photo,Batteries,Househ...</td>\n",
       "      <td>Health &amp; Beauty</td>\n",
       "      <td>https://images-na.ssl-images-amazon.com/images/I/81qmNyJo%2BkL._SL1500_.jpg,https://images-na.ss...</td>\n",
       "      <td>amazonbasics/hl002619,amazonbasicsaaaperformancealkalinebatteries36count/b00lh3dmuo,084171010644...</td>\n",
       "      <td>...</td>\n",
       "      <td>NaN</td>\n",
       "      <td>NaN</td>\n",
       "      <td>NaN</td>\n",
       "      <td>NaN</td>\n",
       "      <td>5</td>\n",
       "      <td>https://www.amazon.com/product-reviews/B00QWO9P0O/</td>\n",
       "      <td>Well they are not Duracell but for the price i am happy.</td>\n",
       "      <td>... are not Duracell but for the price i am happy.</td>\n",
       "      <td>BySharon Lambert</td>\n",
       "      <td>https://www.barcodable.com/upc/841710106442,https://www.amazon.com/AmazonBasics-Performance-Alka...</td>\n",
       "    </tr>\n",
       "    <tr>\n",
       "      <th>3</th>\n",
       "      <td>AVpgNzjwLJeJML43Kpxn</td>\n",
       "      <td>2015-10-30T08:59:32Z</td>\n",
       "      <td>2019-04-25T09:08:16Z</td>\n",
       "      <td>AmazonBasics AAA Performance Alkaline Batteries (36 Count)</td>\n",
       "      <td>B00QWO9P0O,B00LH3DMUO</td>\n",
       "      <td>Amazonbasics</td>\n",
       "      <td>AA,AAA,Health,Electronics,Health &amp; Household,Camcorder Batteries,Camera &amp; Photo,Batteries,Househ...</td>\n",
       "      <td>Health &amp; Beauty</td>\n",
       "      <td>https://images-na.ssl-images-amazon.com/images/I/81qmNyJo%2BkL._SL1500_.jpg,https://images-na.ss...</td>\n",
       "      <td>amazonbasics/hl002619,amazonbasicsaaaperformancealkalinebatteries36count/b00lh3dmuo,084171010644...</td>\n",
       "      <td>...</td>\n",
       "      <td>NaN</td>\n",
       "      <td>NaN</td>\n",
       "      <td>NaN</td>\n",
       "      <td>NaN</td>\n",
       "      <td>5</td>\n",
       "      <td>https://www.amazon.com/product-reviews/B00QWO9P0O/</td>\n",
       "      <td>Seem to work as well as name brand batteries at a much better price</td>\n",
       "      <td>... as well as name brand batteries at a much better</td>\n",
       "      <td>Bymark sexson</td>\n",
       "      <td>https://www.barcodable.com/upc/841710106442,https://www.amazon.com/AmazonBasics-Performance-Alka...</td>\n",
       "    </tr>\n",
       "    <tr>\n",
       "      <th>4</th>\n",
       "      <td>AVpgNzjwLJeJML43Kpxn</td>\n",
       "      <td>2015-10-30T08:59:32Z</td>\n",
       "      <td>2019-04-25T09:08:16Z</td>\n",
       "      <td>AmazonBasics AAA Performance Alkaline Batteries (36 Count)</td>\n",
       "      <td>B00QWO9P0O,B00LH3DMUO</td>\n",
       "      <td>Amazonbasics</td>\n",
       "      <td>AA,AAA,Health,Electronics,Health &amp; Household,Camcorder Batteries,Camera &amp; Photo,Batteries,Househ...</td>\n",
       "      <td>Health &amp; Beauty</td>\n",
       "      <td>https://images-na.ssl-images-amazon.com/images/I/81qmNyJo%2BkL._SL1500_.jpg,https://images-na.ss...</td>\n",
       "      <td>amazonbasics/hl002619,amazonbasicsaaaperformancealkalinebatteries36count/b00lh3dmuo,084171010644...</td>\n",
       "      <td>...</td>\n",
       "      <td>NaN</td>\n",
       "      <td>NaN</td>\n",
       "      <td>NaN</td>\n",
       "      <td>NaN</td>\n",
       "      <td>5</td>\n",
       "      <td>https://www.amazon.com/product-reviews/B00QWO9P0O/</td>\n",
       "      <td>These batteries are very long lasting the price is great.</td>\n",
       "      <td>... batteries are very long lasting the price is great.</td>\n",
       "      <td>Bylinda</td>\n",
       "      <td>https://www.barcodable.com/upc/841710106442,https://www.amazon.com/AmazonBasics-Performance-Alka...</td>\n",
       "    </tr>\n",
       "  </tbody>\n",
       "</table>\n",
       "<p>5 rows × 24 columns</p>\n",
       "</div>"
      ],
      "text/plain": [
       "                     id             dateAdded           dateUpdated  \\\n",
       "0  AVpgNzjwLJeJML43Kpxn  2015-10-30T08:59:32Z  2019-04-25T09:08:16Z   \n",
       "1  AVpgNzjwLJeJML43Kpxn  2015-10-30T08:59:32Z  2019-04-25T09:08:16Z   \n",
       "2  AVpgNzjwLJeJML43Kpxn  2015-10-30T08:59:32Z  2019-04-25T09:08:16Z   \n",
       "3  AVpgNzjwLJeJML43Kpxn  2015-10-30T08:59:32Z  2019-04-25T09:08:16Z   \n",
       "4  AVpgNzjwLJeJML43Kpxn  2015-10-30T08:59:32Z  2019-04-25T09:08:16Z   \n",
       "\n",
       "                                                         name  \\\n",
       "0  AmazonBasics AAA Performance Alkaline Batteries (36 Count)   \n",
       "1  AmazonBasics AAA Performance Alkaline Batteries (36 Count)   \n",
       "2  AmazonBasics AAA Performance Alkaline Batteries (36 Count)   \n",
       "3  AmazonBasics AAA Performance Alkaline Batteries (36 Count)   \n",
       "4  AmazonBasics AAA Performance Alkaline Batteries (36 Count)   \n",
       "\n",
       "                   asins         brand  \\\n",
       "0  B00QWO9P0O,B00LH3DMUO  Amazonbasics   \n",
       "1  B00QWO9P0O,B00LH3DMUO  Amazonbasics   \n",
       "2  B00QWO9P0O,B00LH3DMUO  Amazonbasics   \n",
       "3  B00QWO9P0O,B00LH3DMUO  Amazonbasics   \n",
       "4  B00QWO9P0O,B00LH3DMUO  Amazonbasics   \n",
       "\n",
       "                                                                                            categories  \\\n",
       "0  AA,AAA,Health,Electronics,Health & Household,Camcorder Batteries,Camera & Photo,Batteries,Househ...   \n",
       "1  AA,AAA,Health,Electronics,Health & Household,Camcorder Batteries,Camera & Photo,Batteries,Househ...   \n",
       "2  AA,AAA,Health,Electronics,Health & Household,Camcorder Batteries,Camera & Photo,Batteries,Househ...   \n",
       "3  AA,AAA,Health,Electronics,Health & Household,Camcorder Batteries,Camera & Photo,Batteries,Househ...   \n",
       "4  AA,AAA,Health,Electronics,Health & Household,Camcorder Batteries,Camera & Photo,Batteries,Househ...   \n",
       "\n",
       "  primaryCategories  \\\n",
       "0   Health & Beauty   \n",
       "1   Health & Beauty   \n",
       "2   Health & Beauty   \n",
       "3   Health & Beauty   \n",
       "4   Health & Beauty   \n",
       "\n",
       "                                                                                             imageURLs  \\\n",
       "0  https://images-na.ssl-images-amazon.com/images/I/81qmNyJo%2BkL._SL1500_.jpg,https://images-na.ss...   \n",
       "1  https://images-na.ssl-images-amazon.com/images/I/81qmNyJo%2BkL._SL1500_.jpg,https://images-na.ss...   \n",
       "2  https://images-na.ssl-images-amazon.com/images/I/81qmNyJo%2BkL._SL1500_.jpg,https://images-na.ss...   \n",
       "3  https://images-na.ssl-images-amazon.com/images/I/81qmNyJo%2BkL._SL1500_.jpg,https://images-na.ss...   \n",
       "4  https://images-na.ssl-images-amazon.com/images/I/81qmNyJo%2BkL._SL1500_.jpg,https://images-na.ss...   \n",
       "\n",
       "                                                                                                  keys  \\\n",
       "0  amazonbasics/hl002619,amazonbasicsaaaperformancealkalinebatteries36count/b00lh3dmuo,084171010644...   \n",
       "1  amazonbasics/hl002619,amazonbasicsaaaperformancealkalinebatteries36count/b00lh3dmuo,084171010644...   \n",
       "2  amazonbasics/hl002619,amazonbasicsaaaperformancealkalinebatteries36count/b00lh3dmuo,084171010644...   \n",
       "3  amazonbasics/hl002619,amazonbasicsaaaperformancealkalinebatteries36count/b00lh3dmuo,084171010644...   \n",
       "4  amazonbasics/hl002619,amazonbasicsaaaperformancealkalinebatteries36count/b00lh3dmuo,084171010644...   \n",
       "\n",
       "   ... reviews.didPurchase reviews.doRecommend reviews.id reviews.numHelpful  \\\n",
       "0  ...                 NaN                 NaN        NaN                NaN   \n",
       "1  ...                 NaN                 NaN        NaN                NaN   \n",
       "2  ...                 NaN                 NaN        NaN                NaN   \n",
       "3  ...                 NaN                 NaN        NaN                NaN   \n",
       "4  ...                 NaN                 NaN        NaN                NaN   \n",
       "\n",
       "  reviews.rating                                  reviews.sourceURLs  \\\n",
       "0              3  https://www.amazon.com/product-reviews/B00QWO9P0O/   \n",
       "1              4  https://www.amazon.com/product-reviews/B00QWO9P0O/   \n",
       "2              5  https://www.amazon.com/product-reviews/B00QWO9P0O/   \n",
       "3              5  https://www.amazon.com/product-reviews/B00QWO9P0O/   \n",
       "4              5  https://www.amazon.com/product-reviews/B00QWO9P0O/   \n",
       "\n",
       "                                                                                          reviews.text  \\\n",
       "0  I order 3 of them and one of the item is bad quality. Is missing backup spring so I have to put ...   \n",
       "1                                  Bulk is always the less expensive way to go for products like these   \n",
       "2                                             Well they are not Duracell but for the price i am happy.   \n",
       "3                                  Seem to work as well as name brand batteries at a much better price   \n",
       "4                                            These batteries are very long lasting the price is great.   \n",
       "\n",
       "                                                                              reviews.title  \\\n",
       "0  ... 3 of them and one of the item is bad quality. Is missing backup spring so I have ...   \n",
       "1                                 ... always the less expensive way to go for products like   \n",
       "2                                        ... are not Duracell but for the price i am happy.   \n",
       "3                                      ... as well as name brand batteries at a much better   \n",
       "4                                   ... batteries are very long lasting the price is great.   \n",
       "\n",
       "   reviews.username  \\\n",
       "0        Byger yang   \n",
       "1              ByMG   \n",
       "2  BySharon Lambert   \n",
       "3     Bymark sexson   \n",
       "4           Bylinda   \n",
       "\n",
       "                                                                                            sourceURLs  \n",
       "0  https://www.barcodable.com/upc/841710106442,https://www.amazon.com/AmazonBasics-Performance-Alka...  \n",
       "1  https://www.barcodable.com/upc/841710106442,https://www.amazon.com/AmazonBasics-Performance-Alka...  \n",
       "2  https://www.barcodable.com/upc/841710106442,https://www.amazon.com/AmazonBasics-Performance-Alka...  \n",
       "3  https://www.barcodable.com/upc/841710106442,https://www.amazon.com/AmazonBasics-Performance-Alka...  \n",
       "4  https://www.barcodable.com/upc/841710106442,https://www.amazon.com/AmazonBasics-Performance-Alka...  \n",
       "\n",
       "[5 rows x 24 columns]"
      ]
     },
     "execution_count": 3,
     "metadata": {},
     "output_type": "execute_result"
    }
   ],
   "source": [
    "df.head()"
   ]
  },
  {
   "cell_type": "code",
   "execution_count": 4,
   "metadata": {},
   "outputs": [],
   "source": [
    "import spacy\n",
    "#load nlp model in spacy\n",
    "nlp = spacy.load(\"en_core_web_lg\")\n",
    "\n",
    "#create function to tokenized reviews\n",
    "def tokenize(document):\n",
    "    \"\"\"tokenizes text and returns the lemmas, excludes puncttion, and stop words\"\"\"\n",
    "    doc = nlp(document)\n",
    "    \n",
    "    return [token.lemma_.strip() for token in doc if (token.is_stop != True) and (token.is_punct != True)]"
   ]
  },
  {
   "cell_type": "code",
   "execution_count": 5,
   "metadata": {},
   "outputs": [],
   "source": [
    "#create tokens column, will be used to make keywords for the reviews test\n",
    "df['tokens'] = df['reviews.text'].apply(tokenize)"
   ]
  },
  {
   "cell_type": "code",
   "execution_count": 6,
   "metadata": {},
   "outputs": [
    {
     "data": {
      "text/plain": [
       "0                      [order, 3, item, bad, quality, miss, backup, spring, pc, aluminum, battery, work]\n",
       "1                                                                  [bulk, expensive, way, product, like]\n",
       "2                                                                               [Duracell, price, happy]\n",
       "3                                                                    [work, brand, battery, well, price]\n",
       "4                                                                    [battery, long, last, price, great]\n",
       "5    [buy, lot, battery, Christmas, AmazonBasics, Cell, good, notice, difference, brand, battery, Ama...\n",
       "6                                                        [have, problame, battery, order, past, pleased]\n",
       "7                                                     [look, cheap, non, rechargeable, battery, perfect]\n",
       "8                                     [hold, high, power, juice, like, energizer, duracell, half, price]\n",
       "9                                       [AmazonBasics, AA, AAA, battery, appear, good, shelf, life, buy]\n",
       "Name: tokens, dtype: object"
      ]
     },
     "execution_count": 6,
     "metadata": {},
     "output_type": "execute_result"
    }
   ],
   "source": [
    "df['tokens'][:10]"
   ]
  },
  {
   "cell_type": "code",
   "execution_count": 7,
   "metadata": {},
   "outputs": [],
   "source": [
    "# Make a list of custom stop words\n",
    "stop_words = [\n",
    "    'order',\n",
    "    'buy',\n",
    "    'good', \n",
    "    'bad',\n",
    "    'battery'\n",
    "    'well'\n",
    "    'perfect'\n",
    "    \n",
    "]\n",
    "\n"
   ]
  },
  {
   "cell_type": "code",
   "execution_count": 8,
   "metadata": {},
   "outputs": [],
   "source": [
    "stops = nlp.Defaults.stop_words.union(stop_words)"
   ]
  },
  {
   "cell_type": "code",
   "execution_count": 9,
   "metadata": {},
   "outputs": [],
   "source": [
    "#create remove_stop words function\n",
    "def remove_stops(_list_):\n",
    "    \n",
    "    keywords = []\n",
    "    \n",
    "    for keyword in _list_:\n",
    "        \n",
    "        phrase = []\n",
    "        \n",
    "        words = keyword.split()\n",
    "        \n",
    "        for word in words:\n",
    "            if word in stops:\n",
    "                pass\n",
    "            else: \n",
    "                phrase.append(word)\n",
    "            \n",
    "        phrase = ' '.join(phrase)\n",
    "        \n",
    "        if len(phrase) > 0:\n",
    "            keywords.append(phrase)\n",
    "    \n",
    "    return keywords"
   ]
  },
  {
   "cell_type": "code",
   "execution_count": 10,
   "metadata": {},
   "outputs": [
    {
     "name": "stderr",
     "output_type": "stream",
     "text": [
      "/home/johnrivera/.virtualenvs/DS-Unit-4-Sprint-1-NLP-P3T_G5kE/lib/python3.8/site-packages/tqdm/std.py:668: FutureWarning: The Panel class is removed from pandas. Accessing it from the top-level namespace will also be removed in the next version\n",
      "  from pandas import Panel\n",
      "100%|██████████| 28332/28332 [00:00<00:00, 127408.51it/s]\n"
     ]
    }
   ],
   "source": [
    "#create a clean keywords column based on the tokens created for the text reviews column from df\n",
    "from tqdm import tqdm\n",
    "\n",
    "tqdm.pandas()\n",
    "\n",
    "df['clean_keywords'] = df['tokens'].progress_apply(remove_stops)"
   ]
  },
  {
   "cell_type": "code",
   "execution_count": 11,
   "metadata": {},
   "outputs": [
    {
     "data": {
      "text/plain": [
       "['great',\n",
       " 'battery',\n",
       " 'work',\n",
       " 'find',\n",
       " 'work',\n",
       " 'best',\n",
       " 'computer',\n",
       " 'accessory',\n",
       " 'like',\n",
       " 'keyboard',\n",
       " 'mouse',\n",
       " 'long',\n",
       " 'thing',\n",
       " 'like',\n",
       " 'toy',\n",
       " 'remote',\n",
       " 'control',\n",
       " 'car',\n",
       " 'big',\n",
       " 'drain',\n",
       " 'short',\n",
       " 'burst',\n",
       " 'like',\n",
       " 'electric',\n",
       " 'toy',\n",
       " 'car',\n",
       " 'motor',\n",
       " 'shorten',\n",
       " 'life',\n",
       " 'battery',\n",
       " 'fast',\n",
       " 'thing',\n",
       " 'use',\n",
       " 'small',\n",
       " 'energy',\n",
       " 'long',\n",
       " 'period',\n",
       " 'time',\n",
       " 'lot',\n",
       " 'brand',\n",
       " 'battery',\n",
       " 'high',\n",
       " 'drain',\n",
       " 'electronic',\n",
       " 'lot',\n",
       " 'long',\n",
       " 'use',\n",
       " 'Amazon',\n",
       " 'battery',\n",
       " 'low',\n",
       " 'draw',\n",
       " 'electronic',\n",
       " 'money',\n",
       " 'worth',\n",
       " 'find',\n",
       " 'keyboard',\n",
       " 'mouse',\n",
       " 'laser',\n",
       " 'pointer',\n",
       " 'small',\n",
       " 'led',\n",
       " 'flashlight',\n",
       " 'small',\n",
       " 'noise',\n",
       " 'toy',\n",
       " 'play',\n",
       " 'music',\n",
       " 'electronic',\n",
       " 'beeps)not',\n",
       " 'electric',\n",
       " 'motor',\n",
       " 'toy',\n",
       " 'car',\n",
       " 'pencil',\n",
       " 'sharpener',\n",
       " 'etc',\n",
       " 'value',\n",
       " 'depend',\n",
       " 'use',\n",
       " 'power']"
      ]
     },
     "execution_count": 11,
     "metadata": {},
     "output_type": "execute_result"
    }
   ],
   "source": [
    "df['clean_keywords'][765]"
   ]
  },
  {
   "cell_type": "code",
   "execution_count": 12,
   "metadata": {},
   "outputs": [],
   "source": [
    "import gensim\n",
    "from gensim import corpora\n",
    "from gensim.models.ldamulticore import LdaMulticore"
   ]
  },
  {
   "cell_type": "code",
   "execution_count": 13,
   "metadata": {},
   "outputs": [],
   "source": [
    "# Dict representation of all our keyword\n",
    "# This also represents the fit step\n",
    "id2word = corpora.Dictionary(df['clean_keywords'])"
   ]
  },
  {
   "cell_type": "code",
   "execution_count": 14,
   "metadata": {},
   "outputs": [
    {
     "data": {
      "text/plain": [
       "48"
      ]
     },
     "execution_count": 14,
     "metadata": {},
     "output_type": "execute_result"
    }
   ],
   "source": [
    "#look at the tokenid for power\n",
    "id2word.token2id['power']"
   ]
  },
  {
   "cell_type": "code",
   "execution_count": 15,
   "metadata": {},
   "outputs": [
    {
     "data": {
      "text/plain": [
       "9670"
      ]
     },
     "execution_count": 15,
     "metadata": {},
     "output_type": "execute_result"
    }
   ],
   "source": [
    "#number of keys\n",
    "len(id2word.keys())"
   ]
  },
  {
   "cell_type": "code",
   "execution_count": 16,
   "metadata": {},
   "outputs": [],
   "source": [
    "#fiiltering step\n",
    "id2word.filter_extremes(no_below=15, no_above=0.85)"
   ]
  },
  {
   "cell_type": "code",
   "execution_count": 17,
   "metadata": {},
   "outputs": [
    {
     "data": {
      "text/plain": [
       "1575"
      ]
     },
     "execution_count": 17,
     "metadata": {},
     "output_type": "execute_result"
    }
   ],
   "source": [
    "len(id2word.keys())"
   ]
  },
  {
   "cell_type": "code",
   "execution_count": 18,
   "metadata": {},
   "outputs": [],
   "source": [
    "#This represents our transform statement\n",
    "corpus = [id2word.doc2bow(text) for text in df['clean_keywords']]"
   ]
  },
  {
   "cell_type": "code",
   "execution_count": 19,
   "metadata": {},
   "outputs": [
    {
     "data": {
      "text/plain": [
       "[(2, 3),\n",
       " (18, 1),\n",
       " (33, 1),\n",
       " (45, 1),\n",
       " (80, 1),\n",
       " (142, 1),\n",
       " (194, 2),\n",
       " (251, 1),\n",
       " (332, 1),\n",
       " (334, 1),\n",
       " (350, 1),\n",
       " (428, 1),\n",
       " (647, 1),\n",
       " (698, 1)]"
      ]
     },
     "execution_count": 19,
     "metadata": {},
     "output_type": "execute_result"
    }
   ],
   "source": [
    "corpus[812]"
   ]
  },
  {
   "cell_type": "code",
   "execution_count": 20,
   "metadata": {},
   "outputs": [
    {
     "data": {
      "text/plain": [
       "'power'"
      ]
     },
     "execution_count": 20,
     "metadata": {},
     "output_type": "execute_result"
    }
   ],
   "source": [
    "#convert id back to word\n",
    "id2word[44]"
   ]
  },
  {
   "cell_type": "code",
   "execution_count": 21,
   "metadata": {},
   "outputs": [],
   "source": [
    "#create lda model\n",
    "lda = LdaMulticore(corpus=corpus,\n",
    "                   id2word=id2word,\n",
    "                   num_topics=5,\n",
    "                   passes=50, \n",
    "                   workers=4\n",
    "                  )"
   ]
  },
  {
   "cell_type": "code",
   "execution_count": 25,
   "metadata": {},
   "outputs": [
    {
     "data": {
      "text/plain": [
       "[(0,\n",
       "  '0.072*\"tablet\" + 0.034*\"great\" + 0.029*\"app\" + 0.024*\"Amazon\" + 0.024*\"price\" + 0.017*\"use\" + 0.013*\"work\" + 0.013*\"need\" + 0.011*\"game\" + 0.010*\"movie\"'),\n",
       " (1,\n",
       "  '0.123*\"battery\" + 0.060*\"great\" + 0.051*\"price\" + 0.041*\"work\" + 0.034*\"long\" + 0.027*\"brand\" + 0.015*\"product\" + 0.014*\"Amazon\" + 0.013*\"value\" + 0.012*\"quality\"'),\n",
       " (2,\n",
       "  '0.041*\"easy\" + 0.037*\"read\" + 0.037*\"Kindle\" + 0.030*\"love\" + 0.028*\"kindle\" + 0.028*\"use\" + 0.027*\"book\" + 0.025*\"screen\" + 0.023*\"great\" + 0.022*\"size\"'),\n",
       " (3,\n",
       "  '0.023*\"charge\" + 0.017*\"device\" + 0.015*\"like\" + 0.014*\"work\" + 0.013*\"Amazon\" + 0.012*\"time\" + 0.012*\"day\" + 0.011*\"problem\" + 0.011*\"find\" + 0.010*\"come\"'),\n",
       " (4,\n",
       "  '0.080*\"love\" + 0.047*\"tablet\" + 0.045*\"kid\" + 0.036*\"old\" + 0.035*\"year\" + 0.032*\"great\" + 0.028*\"use\" + 0.022*\"easy\" + 0.022*\"game\" + 0.020*\"gift\"')]"
      ]
     },
     "execution_count": 25,
     "metadata": {},
     "output_type": "execute_result"
    }
   ],
   "source": [
    "#print topics of lda model and there associated words\n",
    "lda.print_topics()"
   ]
  },
  {
   "cell_type": "code",
   "execution_count": 80,
   "metadata": {},
   "outputs": [
    {
     "name": "stderr",
     "output_type": "stream",
     "text": [
      "/home/johnrivera/.virtualenvs/DS-Unit-4-Sprint-1-NLP-P3T_G5kE/lib/python3.8/site-packages/ipykernel/ipkernel.py:287: DeprecationWarning: `should_run_async` will not call `transform_cell` automatically in the future. Please pass the result to `transformed_cell` argument and any exception that happen during thetransform in `preprocessing_exc_tuple` in IPython 7.17 and above.\n",
      "  and should_run_async(code)\n"
     ]
    },
    {
     "data": {
      "text/plain": [
       "[['\"tablet\"',\n",
       "  '\"great\"',\n",
       "  '\"app\"',\n",
       "  '\"Amazon\"',\n",
       "  '\"price\"',\n",
       "  '\"use\"',\n",
       "  '\"work\"',\n",
       "  '\"need\"',\n",
       "  '\"game\"',\n",
       "  '\"movie\"'],\n",
       " ['\"battery\"',\n",
       "  '\"great\"',\n",
       "  '\"price\"',\n",
       "  '\"work\"',\n",
       "  '\"long\"',\n",
       "  '\"brand\"',\n",
       "  '\"product\"',\n",
       "  '\"Amazon\"',\n",
       "  '\"value\"',\n",
       "  '\"quality\"'],\n",
       " ['\"easy\"',\n",
       "  '\"read\"',\n",
       "  '\"Kindle\"',\n",
       "  '\"love\"',\n",
       "  '\"kindle\"',\n",
       "  '\"use\"',\n",
       "  '\"book\"',\n",
       "  '\"screen\"',\n",
       "  '\"great\"',\n",
       "  '\"size\"'],\n",
       " ['\"charge\"',\n",
       "  '\"device\"',\n",
       "  '\"like\"',\n",
       "  '\"work\"',\n",
       "  '\"Amazon\"',\n",
       "  '\"time\"',\n",
       "  '\"day\"',\n",
       "  '\"problem\"',\n",
       "  '\"find\"',\n",
       "  '\"come\"'],\n",
       " ['\"love\"',\n",
       "  '\"tablet\"',\n",
       "  '\"kid\"',\n",
       "  '\"old\"',\n",
       "  '\"year\"',\n",
       "  '\"great\"',\n",
       "  '\"use\"',\n",
       "  '\"easy\"',\n",
       "  '\"game\"',\n",
       "  '\"gift\"']]"
      ]
     },
     "execution_count": 80,
     "metadata": {},
     "output_type": "execute_result"
    }
   ],
   "source": [
    "#apply regular expression to see most important words associated with each topic in a more readble way\n",
    "\n",
    "words = [re.findall(r'\"[^\"]*\"', t[1]) for t in lda.print_topics(20)]\n",
    "words"
   ]
  },
  {
   "cell_type": "code",
   "execution_count": 81,
   "metadata": {},
   "outputs": [
    {
     "name": "stderr",
     "output_type": "stream",
     "text": [
      "/home/johnrivera/.virtualenvs/DS-Unit-4-Sprint-1-NLP-P3T_G5kE/lib/python3.8/site-packages/ipykernel/ipkernel.py:287: DeprecationWarning: `should_run_async` will not call `transform_cell` automatically in the future. Please pass the result to `transformed_cell` argument and any exception that happen during thetransform in `preprocessing_exc_tuple` in IPython 7.17 and above.\n",
      "  and should_run_async(code)\n"
     ]
    },
    {
     "data": {
      "text/plain": [
       "['\"tablet\", \"great\", \"app\", \"Amazon\", \"price\"',\n",
       " '\"battery\", \"great\", \"price\", \"work\", \"long\"',\n",
       " '\"easy\", \"read\", \"Kindle\", \"love\", \"kindle\"',\n",
       " '\"charge\", \"device\", \"like\", \"work\", \"Amazon\"',\n",
       " '\"love\", \"tablet\", \"kid\", \"old\", \"year\"']"
      ]
     },
     "execution_count": 81,
     "metadata": {},
     "output_type": "execute_result"
    }
   ],
   "source": [
    "#convert topic labels from a list format to string format, pass string into topic labels\n",
    "topic_labels= [', '.join(t[0:5]) for t in words]\n",
    "topic_labels"
   ]
  },
  {
   "cell_type": "code",
   "execution_count": 41,
   "metadata": {},
   "outputs": [
    {
     "name": "stdout",
     "output_type": "stream",
     "text": [
      "------ Topic 0 ------\n",
      "\"tablet\", \"great\", \"app\", \"Amazon\", \"price\"\n",
      "\n",
      "------ Topic 1 ------\n",
      "\"battery\", \"great\", \"price\", \"work\", \"long\"\n",
      "\n",
      "------ Topic 2 ------\n",
      "\"easy\", \"read\", \"Kindle\", \"love\", \"kindle\"\n",
      "\n",
      "------ Topic 3 ------\n",
      "\"charge\", \"device\", \"like\", \"work\", \"Amazon\"\n",
      "\n",
      "------ Topic 4 ------\n",
      "\"love\", \"tablet\", \"kid\", \"old\", \"year\"\n",
      "\n"
     ]
    },
    {
     "name": "stderr",
     "output_type": "stream",
     "text": [
      "/home/johnrivera/.virtualenvs/DS-Unit-4-Sprint-1-NLP-P3T_G5kE/lib/python3.8/site-packages/ipykernel/ipkernel.py:287: DeprecationWarning: `should_run_async` will not call `transform_cell` automatically in the future. Please pass the result to `transformed_cell` argument and any exception that happen during thetransform in `preprocessing_exc_tuple` in IPython 7.17 and above.\n",
      "  and should_run_async(code)\n"
     ]
    }
   ],
   "source": [
    "#print topic labels in nice format\n",
    "for id, t in enumerate(topic_labels): \n",
    "    print(f\"------ Topic {id} ------\")\n",
    "    print(t, end=\"\\n\\n\")"
   ]
  },
  {
   "cell_type": "code",
   "execution_count": 42,
   "metadata": {},
   "outputs": [
    {
     "name": "stderr",
     "output_type": "stream",
     "text": [
      "/home/johnrivera/.virtualenvs/DS-Unit-4-Sprint-1-NLP-P3T_G5kE/lib/python3.8/site-packages/ipykernel/ipkernel.py:287: DeprecationWarning: `should_run_async` will not call `transform_cell` automatically in the future. Please pass the result to `transformed_cell` argument and any exception that happen during thetransform in `preprocessing_exc_tuple` in IPython 7.17 and above.\n",
      "  and should_run_async(code)\n"
     ]
    }
   ],
   "source": [
    "#analyze lda model, with visualizations\n",
    "import pyLDAvis.gensim\n",
    "\n",
    "pyLDAvis.enable_notebook()"
   ]
  },
  {
   "cell_type": "code",
   "execution_count": 43,
   "metadata": {},
   "outputs": [
    {
     "name": "stderr",
     "output_type": "stream",
     "text": [
      "/home/johnrivera/.virtualenvs/DS-Unit-4-Sprint-1-NLP-P3T_G5kE/lib/python3.8/site-packages/ipykernel/ipkernel.py:287: DeprecationWarning: `should_run_async` will not call `transform_cell` automatically in the future. Please pass the result to `transformed_cell` argument and any exception that happen during thetransform in `preprocessing_exc_tuple` in IPython 7.17 and above.\n",
      "  and should_run_async(code)\n"
     ]
    },
    {
     "data": {
      "text/html": [
       "\n",
       "<link rel=\"stylesheet\" type=\"text/css\" href=\"https://cdn.rawgit.com/bmabey/pyLDAvis/files/ldavis.v1.0.0.css\">\n",
       "\n",
       "\n",
       "<div id=\"ldavis_el96662140236089634368823143074\"></div>\n",
       "<script type=\"text/javascript\">\n",
       "\n",
       "var ldavis_el96662140236089634368823143074_data = {\"mdsDat\": {\"x\": [0.21411187149580335, -0.22657454628199045, -0.004820020689973674, -0.15507328460565029, 0.17235598008181127], \"y\": [0.13725869328599732, -0.10458169578511883, 0.09521186585931708, 0.09340317350763247, -0.22129203686782808], \"topics\": [1, 2, 3, 4, 5], \"cluster\": [1, 1, 1, 1, 1], \"Freq\": [27.020005460632753, 20.638087607014143, 19.69924693030738, 16.669725696737416, 15.97293430530832]}, \"tinfo\": {\"Term\": [\"battery\", \"love\", \"tablet\", \"kid\", \"price\", \"long\", \"easy\", \"Kindle\", \"read\", \"year\", \"old\", \"brand\", \"app\", \"kindle\", \"screen\", \"size\", \"charge\", \"book\", \"work\", \"game\", \"gift\", \"great\", \"daughter\", \"son\", \"fire\", \"light\", \"Fire\", \"Christmas\", \"Amazon\", \"child\", \"battery\", \"brand\", \"remote\", \"Duracell\", \"toy\", \"pack\", \"AA\", \"AmazonBasics\", \"test\", \"packaging\", \"controller\", \"leak\", \"aaa\", \"dead\", \"energizer\", \"mouse\", \"Basics\", \"flashlight\", \"Energizer\", \"AAA\", \"alkaline\", \"advertise\", \"lasting\", \"long\", \"rechargeable\", \"bulk\", \"shipping\", \"candle\", \"Batteries\", \"duracell\", \"package\", \"value\", \"life\", \"price\", \"work\", \"deal\", \"box\", \"cheap\", \"quality\", \"great\", \"far\", \"power\", \"product\", \"expect\", \"die\", \"performance\", \"expensive\", \"beat\", \"fine\", \"Amazon\", \"time\", \"money\", \"store\", \"like\", \"use\", \"purchase\", \"lot\", \"need\", \"excellent\", \"daughter\", \"learn\", \"grandson\", \"granddaughter\", \"parental\", \"age\", \"Christmas\", \"young\", \"mom\", \"educational\", \"yr\", \"birthday\", \"niece\", \"learning\", \"grandkid\", \"nephew\", \"grand\", \"gift\", \"entertain\", \"present\", \"appropriate\", \"sister\", \"grandchild\", \"son\", \"law\", \"bumper\", \"busy\", \"Edition\", \"activity\", \"proof\", \"friendly\", \"parent\", \"kid\", \"durable\", \"year\", \"child\", \"old\", \"love\", \"control\", \"game\", \"play\", \"tablet\", \"3\", \"absolutely\", \"easy\", \"use\", \"2\", \"set\", \"enjoy\", \"case\", \"great\", \"purchase\", \"time\", \"app\", \"perfect\", \"internet\", \"card\", \"Google\", \"memory\", \"web\", \"email\", \"Netflix\", \"prime\", \"Friday\", \"google\", \"surf\", \"GB\", \"android\", \"Android\", \"Black\", \"stream\", \"Play\", \"browse\", \"limited\", \"sd\", \"YouTube\", \"Store\", \"SD\", \"Facebook\", \"expandable\", \"browser\", \"browsing\", \"OS\", \"micro\", \"unlimited\", \"gb\", \"magazine\", \"$\", \"load\", \"Prime\", \"entertainment\", \"ad\", \"app\", \"movie\", \"iPad\", \"tablet\", \"access\", \"slow\", \"ipad\", \"watch\", \"add\", \"Amazon\", \"download\", \"video\", \"need\", \"great\", \"price\", \"want\", \"game\", \"use\", \"look\", \"play\", \"work\", \"screen\", \"Fire\", \"store\", \"like\", \"book\", \"little\", \"device\", \"nice\", \"purchase\", \"read\", \"size\", \"reader\", \"upgrade\", \"clear\", \"Kindle\", \"weight\", \"eye\", \"lightweight\", \"inch\", \"bright\", \"Voyage\", \"generation\", \"Oasis\", \"compact\", \"purse\", \"white\", \"improvement\", \"Nook\", \"Paperwhite\", \"paperwhite\", \"adjust\", \"clarity\", \"paper\", \"crisp\", \"ereader\", \"dark\", \"voyage\", \"brightness\", \"improve\", \"backlight\", \"hd\", \"kindle\", \"read\", \"previous\", \"model\", \"light\", \"HD\", \"fire\", \"screen\", \"wife\", \"book\", \"page\", \"7\", \"Fire\", \"easy\", \"e\", \"carry\", \"color\", \"8\", \"new\", \"small\", \"reading\", \"picture\", \"use\", \"perfect\", \"love\", \"nice\", \"like\", \"great\", \"tablet\", \"old\", \"big\", \"feature\", \"purchase\", \"charge\", \"Alexa\", \"home\", \"friend\", \"Buy\", \"ask\", \"tap\", \"connect\", \"charger\", \"Echo\", \"receive\", \"plug\", \"best\", \"port\", \"room\", \"customer\", \"minute\", \"cable\", \"stop\", \"send\", \"instruction\", \"Bluetooth\", \"voice\", \"echo\", \"cord\", \"sit\", \"word\", \"talk\", \"usb\", \"Tap\", \"immediately\", \"wait\", \"stay\", \"problem\", \"speaker\", \"button\", \"service\", \"computer\", \"day\", \"return\", \"turn\", \"keyboard\", \"know\", \"open\", \"device\", \"try\", \"sound\", \"find\", \"review\", \"issue\", \"come\", \"like\", \"time\", \"Amazon\", \"work\", \"thing\", \"product\", \"need\", \"case\", \"purchase\", \"new\", \"2\", \"want\"], \"Freq\": [9331.0, 6042.0, 7400.0, 2791.0, 5345.0, 2618.0, 3283.0, 1740.0, 2076.0, 2250.0, 2503.0, 2069.0, 2243.0, 1431.0, 1670.0, 1044.0, 1019.0, 1853.0, 4578.0, 1917.0, 1154.0, 9416.0, 1002.0, 987.0, 1165.0, 976.0, 1185.0, 822.0, 3132.0, 911.0, 9331.00289358941, 2068.7081634235506, 497.23175537613594, 490.20819555527544, 469.58692243094714, 430.0558552801161, 400.6946884296313, 276.00260851492624, 229.27838221072548, 226.36994501556896, 211.33703368320752, 192.37759304892256, 181.00205269627966, 172.26864385893413, 170.6861360880345, 171.21045529484704, 169.0517846431982, 165.68726131994754, 161.72137972827238, 157.28160514168616, 155.83595333028302, 157.22439283029126, 145.14563184372085, 2605.371480115648, 138.18014367061403, 148.4907890919159, 133.12030917587668, 124.63970469250525, 109.25443001647386, 103.12993092797619, 352.62284553203546, 967.9259991489646, 933.3266013474775, 3847.469931672818, 3099.7062620208367, 701.0623353596485, 422.2029738590234, 767.5617162628286, 938.9829835988575, 4536.230610140864, 759.7522800531142, 332.8319216679148, 1161.1404617834567, 424.03351976780385, 215.65777689538962, 282.81978586346474, 336.6985809171274, 351.89409286319926, 360.06356442984907, 1089.3553649510957, 897.1761457139964, 424.2305115541428, 458.1504843656179, 691.9179334052029, 792.4409390311805, 608.994774265918, 457.3039051651075, 503.0805935353423, 385.3158277693091, 1001.4301457486073, 493.6318773688764, 474.5545566992842, 419.5338095323301, 415.88770721380126, 335.6821716866616, 819.512083769628, 248.71539916493973, 247.94862634831708, 240.1418835615189, 235.60095582318897, 201.7892627748713, 196.45452257701547, 191.77052021167196, 174.12601641550083, 172.0610565390715, 163.70824288583393, 1148.777307007983, 140.35264982799498, 175.10633203761412, 124.58465394257368, 106.03225827253586, 99.62126450034395, 979.7501444160619, 84.99521986016653, 78.3267337127501, 76.3277760077117, 64.95770766705822, 58.91166787393127, 54.320961073284586, 399.7406826603163, 193.84502110323984, 2620.234182004997, 331.26602147964695, 2063.295923389188, 858.1336258496342, 2096.3781550800845, 4650.698186633788, 508.542494627246, 1285.7271707035138, 933.0881114450409, 2759.24079083059, 458.87757262493614, 240.58447839710837, 1288.2836755598676, 1633.4163783748259, 552.1029533437296, 528.1962820781729, 484.06947952974986, 498.2865394209996, 1881.5808617323053, 893.0137907932742, 754.4830688560947, 627.9119890950334, 474.97993710755986, 479.2358463619889, 313.1687731564332, 306.8730930759615, 317.83106006489663, 286.1298291086483, 263.3785582845268, 236.8988220441557, 210.54233370608387, 179.77190149714454, 163.72028640055524, 163.1923394592524, 163.88581397838382, 161.91351168105084, 151.4865789668898, 125.73839866436707, 119.92935467816402, 111.6709184904651, 109.16148475769505, 109.5709891860347, 94.60367402352949, 93.84594033974159, 90.62407534361789, 88.28476789460018, 77.51080081346826, 69.71676287664548, 69.85484677263413, 69.23949858335345, 68.00506898565733, 67.72789361204504, 66.49328962521979, 98.0209065151331, 92.88187848076502, 400.09413257745996, 266.81118223149036, 237.2156418797905, 100.742177827801, 175.5890296812324, 1615.1572878573145, 576.0487335442042, 443.44070788111185, 3968.7762197348625, 336.75251309446026, 251.55675797386905, 188.44843239250696, 529.4249860550676, 268.89328509160964, 1336.461757747518, 487.9085406965104, 409.8299805494443, 695.9321915871236, 1871.2733785648934, 1311.248138255492, 529.1333557603073, 631.1598836887323, 951.2619552525937, 395.5099719988473, 490.08088670152665, 705.1837028178012, 466.8380452166677, 369.3752162090373, 354.50470638976975, 429.9222176034279, 385.72219481952163, 331.8730277550924, 325.85905716559034, 317.34184042797415, 321.3569757370887, 319.4799803282542, 1043.498332752216, 573.6364154146388, 348.7164343590421, 298.5174086085411, 1735.983516400687, 199.49718044939547, 154.47769965223347, 151.4279075905948, 150.21540643446605, 147.8040898783928, 125.44776221556926, 111.87990903943457, 105.55626984865783, 90.72193766971866, 87.66617721920092, 87.08018746309146, 84.92007886458293, 80.96380768136595, 79.01401920415434, 73.3477007614843, 71.45130531628719, 69.03974281012276, 68.35017527228472, 66.30776199073802, 61.329923439947294, 59.02437635419284, 57.030912606346796, 57.58879846537175, 53.7222006853958, 49.88467967175387, 321.39400269755555, 1317.0319999261994, 1754.9382449914606, 186.16384341797135, 274.81468455995514, 824.4707911875545, 211.27593800677468, 941.1787223789111, 1195.7617710614225, 373.6903159277224, 1289.6608373533156, 222.05454225118478, 381.1093512378849, 813.9507734034443, 1904.3356323538062, 253.33810397657842, 208.65590273777593, 277.9871128026094, 492.82351177810034, 610.70203423005, 401.9148487991645, 294.80260029372084, 279.23323806898003, 1292.284130094633, 513.338329124961, 1391.3003574656288, 529.3537682972803, 657.5747872230904, 1102.6385515993504, 672.0269894781557, 406.930088160486, 318.95444013990067, 317.5174576027811, 344.51383596118075, 1018.4456031784274, 332.04104035107315, 320.8348649850115, 250.9628819926043, 235.74831537740835, 233.07297513084873, 214.0195945096369, 215.20592296609655, 206.42039728182198, 185.07909599826704, 222.53517919887452, 152.20446829172883, 131.58455635130525, 124.97025830494003, 119.92714212108146, 116.49038015194645, 133.3735177097303, 109.01895764857885, 167.97511000495803, 92.12966126318823, 91.35589046280947, 89.32242993291351, 85.82391210056502, 84.11647141435684, 77.44759756655438, 83.89279494574691, 77.03046792365318, 77.28305317490711, 67.91659188694508, 64.64090735037938, 65.01619781492133, 179.94556654926959, 108.3885367030067, 512.3547539627965, 288.9884053661196, 240.2718904610099, 209.88195167433324, 208.2691348803012, 540.6786993649062, 261.98378976902546, 317.83593490837774, 171.0307159594494, 421.2689616079732, 232.87381875650323, 774.3809851764863, 421.25873879208166, 310.150325558529, 481.21144811073765, 272.34614290777955, 304.0583652229157, 430.02882551055285, 689.5408305699405, 555.3047418209705, 584.241302034415, 650.6773295708261, 352.9365598268998, 421.849525377681, 374.49036161128157, 306.99392641005807, 396.25373112143944, 289.5909858971019, 264.87825020866956, 267.0730762115416], \"Total\": [9331.0, 6042.0, 7400.0, 2791.0, 5345.0, 2618.0, 3283.0, 1740.0, 2076.0, 2250.0, 2503.0, 2069.0, 2243.0, 1431.0, 1670.0, 1044.0, 1019.0, 1853.0, 4578.0, 1917.0, 1154.0, 9416.0, 1002.0, 987.0, 1165.0, 976.0, 1185.0, 822.0, 3132.0, 911.0, 9331.727596060085, 2069.429601680194, 497.9540775538938, 490.927560012091, 470.31478405500417, 430.78089760960694, 401.4144492645808, 276.72491315373486, 230.00594469730305, 227.09055163940909, 212.05752459674525, 193.09950391881478, 181.72263474136042, 172.9920989705658, 171.4057055343477, 171.93591621427615, 169.77134458016786, 166.4075943780029, 162.4408386336056, 158.0015430403571, 156.5553772972292, 157.95438155948244, 145.8657035754853, 2618.316989444452, 138.90297386319753, 149.28917188686097, 133.84405534796713, 125.36418340050982, 109.97422954189092, 103.8491629311912, 365.1331446127774, 1104.4250383449562, 1087.1085245845936, 5345.642410341641, 4578.240312251794, 872.8285840119534, 491.10387233970187, 1006.7545096290921, 1375.8398404059467, 9416.366026072286, 1230.647952022377, 425.69747993298654, 2453.742662340775, 608.4591611795762, 237.45888532496102, 365.1822351554095, 479.3919880015447, 514.2262524940097, 535.1498886391605, 3132.2639518707792, 2417.2111828504317, 752.9141068425025, 1030.8626981345649, 2860.5389241185967, 4826.586151951804, 2564.1331078789012, 1272.2585870632454, 1819.4102738152335, 732.3024031791995, 1002.2232003893005, 494.43068812959615, 475.3428397453614, 420.32196578216343, 416.6749741716218, 336.47380427109533, 822.0780695860129, 249.50753020669876, 248.74574585999787, 240.9281847592562, 236.38974331992017, 202.5818676734479, 197.24188228722878, 192.55848251892277, 174.91395011747636, 172.85045074361693, 164.49587415187725, 1154.7973496750813, 141.1407790410616, 176.11945570044625, 125.37402412500707, 106.82698140270297, 100.40995452583452, 987.6110298965674, 85.78567515411841, 79.11491047442473, 77.11734407642584, 65.75295150503868, 59.71413674430152, 55.114647634500336, 412.0648672410414, 198.6864904201069, 2791.1893608481014, 343.42140504226825, 2250.0960961639767, 911.2261582096434, 2503.9236551515664, 6042.615847190678, 637.402864625963, 1917.50997084602, 1499.3623751448386, 7400.486924993336, 689.317233172829, 275.87212444716636, 3283.8591920781523, 4826.586151951804, 966.8434560980313, 917.8192972973245, 813.2779896022962, 863.0110072478965, 9416.366026072286, 2564.1331078789012, 2417.2111828504317, 2243.6912133468563, 1099.8744728259608, 480.03166262199915, 313.96245959908276, 307.6620885045198, 318.6589844036636, 286.9195310310766, 264.17099915588466, 237.6905172157396, 211.34051024520818, 180.5630622145433, 164.50904813707731, 163.98223433778315, 164.67973950185586, 162.70409672141713, 152.27583152097304, 126.53140901747493, 120.72208730720023, 112.45888396946665, 109.95167331015317, 110.36926750883921, 95.39300938494644, 94.63826491450823, 91.41754553296896, 89.07572911014516, 78.30370751481793, 70.50638048442748, 70.64693931209517, 70.02932153032319, 68.79700175214323, 68.52121994398667, 67.29323463290359, 99.27181326650889, 94.08403343991539, 439.8640136898922, 288.11864084698385, 254.88196132455175, 104.79012291847097, 192.89196858702775, 2243.6912133468563, 726.3681250048402, 546.1079244433377, 7400.486924993336, 437.63940536349986, 312.01796027588654, 225.81907536237367, 835.6045273099667, 354.4791381840157, 3132.2639518707792, 824.3630060591711, 654.8972670599275, 1819.4102738152335, 9416.366026072286, 5345.642410341641, 1283.1683489330367, 1917.50997084602, 4826.586151951804, 894.4810400795743, 1499.3623751448386, 4578.240312251794, 1670.215911988499, 1185.9493056476208, 1030.8626981345649, 2860.5389241185967, 1853.4050678274937, 969.8271198878786, 1394.0458410604772, 1232.921019476604, 2564.1331078789012, 2076.8878551927205, 1044.3062851907064, 574.4183002641589, 349.4992099752486, 299.3045991503092, 1740.6091074260664, 200.27992021419448, 155.26041517609622, 152.21230033383344, 150.99825157628848, 148.59102880015183, 126.22683234085952, 112.66016411574233, 106.33645708970091, 91.5081927284796, 88.44521156363083, 87.86910946370041, 85.70300787415094, 81.74689375794438, 79.79420641831533, 74.12625073494041, 72.2347358613463, 69.82038477288278, 69.1318825774417, 67.08740763618108, 62.109746446344225, 59.811685138858515, 57.808963243953286, 58.37537480920556, 54.50835920980728, 50.662235746673105, 328.9549080083802, 1431.0408918229873, 2076.8878551927205, 199.42208370641413, 303.1290072048588, 976.7335259947596, 229.89742680919275, 1165.3507654448597, 1670.215911988499, 456.334100832487, 1853.4050678274937, 259.4669841586975, 490.25370448880017, 1185.9493056476208, 3283.8591920781523, 315.56477434805464, 252.0735488628825, 359.4985958865092, 754.1172166692055, 1058.1588084895504, 647.5667755675706, 418.0281193761222, 395.0829430629336, 4826.586151951804, 1099.8744728259608, 6042.615847190678, 1232.921019476604, 2860.5389241185967, 9416.366026072286, 7400.486924993336, 2503.9236551515664, 745.2288010137192, 749.25023440055, 2564.1331078789012, 1019.2059339106687, 332.7996957427667, 321.59645834126127, 251.72878343610327, 236.5056317789457, 233.83149618907, 214.77227673357976, 215.96881070236788, 207.17726697859572, 185.83076465148793, 223.44819432506176, 152.95821726224153, 132.34895332649958, 125.72430258880432, 120.68767290256203, 117.2479140899451, 134.24128304732088, 109.77289420308747, 169.20841616010992, 92.88828828443205, 92.1152181606171, 90.0793731508376, 86.58006164554372, 84.86937795790556, 78.20167085472244, 84.71354257522927, 77.78767220381097, 78.04315769913852, 68.67237668872113, 65.39266644106742, 65.77939254913365, 192.0640296874597, 113.22609744529132, 653.19665114181, 347.0772585325392, 285.0605033500341, 246.55249705880556, 244.41916448796692, 772.9425803538228, 327.27851165814275, 415.05163319927783, 201.21578955079636, 629.8048994460614, 297.6869434361897, 1394.0458410604772, 637.1602254822066, 437.52731376956484, 893.7466766518364, 427.83675882018986, 581.8677921754124, 1108.7931246286962, 2860.5389241185967, 2417.2111828504317, 3132.2639518707792, 4578.240312251794, 1000.9817637622903, 2453.742662340775, 1819.4102738152335, 863.0110072478965, 2564.1331078789012, 1058.1588084895504, 966.8434560980313, 1283.1683489330367], \"Category\": [\"Default\", \"Default\", \"Default\", \"Default\", \"Default\", \"Default\", \"Default\", \"Default\", \"Default\", \"Default\", \"Default\", \"Default\", \"Default\", \"Default\", \"Default\", \"Default\", \"Default\", \"Default\", \"Default\", \"Default\", \"Default\", \"Default\", \"Default\", \"Default\", \"Default\", \"Default\", \"Default\", \"Default\", \"Default\", \"Default\", \"Topic1\", \"Topic1\", \"Topic1\", \"Topic1\", \"Topic1\", \"Topic1\", \"Topic1\", \"Topic1\", \"Topic1\", \"Topic1\", \"Topic1\", \"Topic1\", \"Topic1\", \"Topic1\", \"Topic1\", \"Topic1\", \"Topic1\", \"Topic1\", \"Topic1\", \"Topic1\", \"Topic1\", \"Topic1\", \"Topic1\", \"Topic1\", \"Topic1\", \"Topic1\", \"Topic1\", \"Topic1\", \"Topic1\", \"Topic1\", \"Topic1\", \"Topic1\", \"Topic1\", \"Topic1\", \"Topic1\", \"Topic1\", \"Topic1\", \"Topic1\", \"Topic1\", \"Topic1\", \"Topic1\", \"Topic1\", \"Topic1\", \"Topic1\", \"Topic1\", \"Topic1\", \"Topic1\", \"Topic1\", \"Topic1\", \"Topic1\", \"Topic1\", \"Topic1\", \"Topic1\", \"Topic1\", \"Topic1\", \"Topic1\", \"Topic1\", \"Topic1\", \"Topic1\", \"Topic2\", \"Topic2\", \"Topic2\", \"Topic2\", \"Topic2\", \"Topic2\", \"Topic2\", \"Topic2\", \"Topic2\", \"Topic2\", \"Topic2\", \"Topic2\", \"Topic2\", \"Topic2\", \"Topic2\", \"Topic2\", \"Topic2\", \"Topic2\", \"Topic2\", \"Topic2\", \"Topic2\", \"Topic2\", \"Topic2\", \"Topic2\", \"Topic2\", \"Topic2\", \"Topic2\", \"Topic2\", \"Topic2\", \"Topic2\", \"Topic2\", \"Topic2\", \"Topic2\", \"Topic2\", \"Topic2\", \"Topic2\", \"Topic2\", \"Topic2\", \"Topic2\", \"Topic2\", \"Topic2\", \"Topic2\", \"Topic2\", \"Topic2\", \"Topic2\", \"Topic2\", \"Topic2\", \"Topic2\", \"Topic2\", \"Topic2\", \"Topic2\", \"Topic2\", \"Topic2\", \"Topic2\", \"Topic2\", \"Topic3\", \"Topic3\", \"Topic3\", \"Topic3\", \"Topic3\", \"Topic3\", \"Topic3\", \"Topic3\", \"Topic3\", \"Topic3\", \"Topic3\", \"Topic3\", \"Topic3\", \"Topic3\", \"Topic3\", \"Topic3\", \"Topic3\", \"Topic3\", \"Topic3\", \"Topic3\", \"Topic3\", \"Topic3\", \"Topic3\", \"Topic3\", \"Topic3\", \"Topic3\", \"Topic3\", \"Topic3\", \"Topic3\", \"Topic3\", \"Topic3\", \"Topic3\", \"Topic3\", \"Topic3\", \"Topic3\", \"Topic3\", \"Topic3\", \"Topic3\", \"Topic3\", \"Topic3\", \"Topic3\", \"Topic3\", \"Topic3\", \"Topic3\", \"Topic3\", \"Topic3\", \"Topic3\", \"Topic3\", \"Topic3\", \"Topic3\", \"Topic3\", \"Topic3\", \"Topic3\", \"Topic3\", \"Topic3\", \"Topic3\", \"Topic3\", \"Topic3\", \"Topic3\", \"Topic3\", \"Topic3\", \"Topic3\", \"Topic3\", \"Topic3\", \"Topic3\", \"Topic3\", \"Topic3\", \"Topic3\", \"Topic4\", \"Topic4\", \"Topic4\", \"Topic4\", \"Topic4\", \"Topic4\", \"Topic4\", \"Topic4\", \"Topic4\", \"Topic4\", \"Topic4\", \"Topic4\", \"Topic4\", \"Topic4\", \"Topic4\", \"Topic4\", \"Topic4\", \"Topic4\", \"Topic4\", \"Topic4\", \"Topic4\", \"Topic4\", \"Topic4\", \"Topic4\", \"Topic4\", \"Topic4\", \"Topic4\", \"Topic4\", \"Topic4\", \"Topic4\", \"Topic4\", \"Topic4\", \"Topic4\", \"Topic4\", \"Topic4\", \"Topic4\", \"Topic4\", \"Topic4\", \"Topic4\", \"Topic4\", \"Topic4\", \"Topic4\", \"Topic4\", \"Topic4\", \"Topic4\", \"Topic4\", \"Topic4\", \"Topic4\", \"Topic4\", \"Topic4\", \"Topic4\", \"Topic4\", \"Topic4\", \"Topic4\", \"Topic4\", \"Topic4\", \"Topic4\", \"Topic4\", \"Topic4\", \"Topic4\", \"Topic4\", \"Topic4\", \"Topic4\", \"Topic4\", \"Topic5\", \"Topic5\", \"Topic5\", \"Topic5\", \"Topic5\", \"Topic5\", \"Topic5\", \"Topic5\", \"Topic5\", \"Topic5\", \"Topic5\", \"Topic5\", \"Topic5\", \"Topic5\", \"Topic5\", \"Topic5\", \"Topic5\", \"Topic5\", \"Topic5\", \"Topic5\", \"Topic5\", \"Topic5\", \"Topic5\", \"Topic5\", \"Topic5\", \"Topic5\", \"Topic5\", \"Topic5\", \"Topic5\", \"Topic5\", \"Topic5\", \"Topic5\", \"Topic5\", \"Topic5\", \"Topic5\", \"Topic5\", \"Topic5\", \"Topic5\", \"Topic5\", \"Topic5\", \"Topic5\", \"Topic5\", \"Topic5\", \"Topic5\", \"Topic5\", \"Topic5\", \"Topic5\", \"Topic5\", \"Topic5\", \"Topic5\", \"Topic5\", \"Topic5\", \"Topic5\", \"Topic5\", \"Topic5\", \"Topic5\", \"Topic5\", \"Topic5\", \"Topic5\", \"Topic5\", \"Topic5\", \"Topic5\", \"Topic5\"], \"logprob\": [30.0, 29.0, 28.0, 27.0, 26.0, 25.0, 24.0, 23.0, 22.0, 21.0, 20.0, 19.0, 18.0, 17.0, 16.0, 15.0, 14.0, 13.0, 12.0, 11.0, 10.0, 9.0, 8.0, 7.0, 6.0, 5.0, 4.0, 3.0, 2.0, 1.0, -2.0987000465393066, -3.60509991645813, -5.030700206756592, -5.045000076293945, -5.087900161743164, -5.175899982452393, -5.246600151062012, -5.6194000244140625, -5.804900169372559, -5.817599773406982, -5.886300086975098, -5.980299949645996, -6.041299819946289, -6.090700149536133, -6.099999904632568, -6.09689998626709, -6.109600067138672, -6.129700183868408, -6.153900146484375, -6.18179988861084, -6.190999984741211, -6.18209981918335, -6.2621002197265625, -3.374500036239624, -6.311200141906738, -6.239299774169922, -6.348499774932861, -6.414400100708008, -6.54610013961792, -6.603799819946289, -5.3744001388549805, -4.36460018157959, -4.401000022888184, -2.984600067138672, -3.200700044631958, -4.68720006942749, -5.194300174713135, -4.59660005569458, -4.394999980926514, -2.8199000358581543, -4.606800079345703, -5.432199954986572, -4.182600021362305, -5.190000057220459, -5.866099834442139, -5.59499979019165, -5.420599937438965, -5.376500129699707, -5.353499889373779, -4.246500015258789, -4.440499782562256, -5.189499855041504, -5.112599849700928, -4.700300216674805, -4.564700126647949, -4.828000068664551, -5.1143999099731445, -5.019000053405762, -5.285699844360352, -4.061200141906738, -4.768599987030029, -4.808000087738037, -4.93120002746582, -4.939899921417236, -5.154200077056885, -4.261600017547607, -5.453999996185303, -5.457099914550781, -5.489099979400635, -5.508200168609619, -5.663099765777588, -5.689899921417236, -5.714099884033203, -5.8105998039245605, -5.822500228881836, -5.872300148010254, -3.9238998889923096, -6.026199817657471, -5.804999828338623, -6.145400047302246, -6.306600093841553, -6.36899995803833, -4.083099842071533, -6.5278000831604, -6.609499931335449, -6.635300159454346, -6.796599864959717, -6.8942999839782715, -6.975399971008301, -4.979499816894531, -5.7032999992370605, -3.099299907684326, -5.167399883270264, -3.3382999897003174, -4.21560001373291, -3.3224000930786133, -2.525599956512451, -4.738800048828125, -3.811300039291382, -4.131899833679199, -3.047600030899048, -4.841599941253662, -5.487299919128418, -3.809299945831299, -3.571899890899658, -4.656599998474121, -4.700900077819824, -4.788099765777588, -4.759200096130371, -3.430500030517578, -4.17579984664917, -4.344299793243408, -4.5279998779296875, -4.80709981918335, -4.7515997886657715, -5.17710018157959, -5.197400093078613, -5.162300109863281, -5.267399787902832, -5.350200176239014, -5.456200122833252, -5.574100017547607, -5.732100009918213, -5.8256001472473145, -5.82889986038208, -5.8246002197265625, -5.836699962615967, -5.903299808502197, -6.089600086212158, -6.136899948120117, -6.208199977874756, -6.230999946594238, -6.227200031280518, -6.374100208282471, -6.3821001052856445, -6.417099952697754, -6.44320011138916, -6.573400020599365, -6.6793999671936035, -6.6774001121521, -6.686200141906738, -6.70419979095459, -6.7083001136779785, -6.7266998291015625, -6.338600158691406, -6.392499923706055, -4.93209981918335, -5.337299823760986, -5.454800128936768, -6.311200141906738, -5.75570011138916, -3.536600112915039, -4.567599773406982, -4.82919979095459, -2.6375999450683594, -5.104499816894531, -5.396100044250488, -5.684999942779541, -4.6519999504089355, -5.329500198364258, -3.7260000705718994, -4.733699798583984, -4.908100128173828, -4.378499984741211, -3.389400005340576, -3.7451000213623047, -4.652599811553955, -4.476200103759766, -4.065999984741211, -4.943600177764893, -4.7291998863220215, -4.365300178527832, -4.7778000831604, -5.01200008392334, -5.053100109100342, -4.860199928283691, -4.968699932098389, -5.11899995803833, -5.13730001449585, -5.16379976272583, -5.151199817657471, -5.157100200653076, -3.80649995803833, -4.404799938201904, -4.902599811553955, -5.058000087738037, -3.297499895095825, -5.460999965667725, -5.716800212860107, -5.736700057983398, -5.744699954986572, -5.760900020599365, -5.924900054931641, -6.039400100708008, -6.097599983215332, -6.249000072479248, -6.283299922943115, -6.289999961853027, -6.315100193023682, -6.362800121307373, -6.387199878692627, -6.461599826812744, -6.487800121307373, -6.52209997177124, -6.532199859619141, -6.5625, -6.640500068664551, -6.678899765014648, -6.713200092315674, -6.703499794006348, -6.7729997634887695, -6.847099781036377, -4.984099864959717, -3.573699951171875, -3.286600112915039, -5.530200004577637, -5.140699863433838, -4.042099952697754, -5.403600215911865, -3.9096999168395996, -3.670300006866455, -4.833399772644043, -3.5947000980377197, -5.353899955749512, -4.813700199127197, -4.054900169372559, -3.204900026321411, -5.222099781036377, -5.416100025177002, -5.129199981689453, -4.556700229644775, -4.342199802398682, -4.7606000900268555, -5.070499897003174, -5.124800205230713, -3.592600107192993, -4.515900135040283, -3.5188000202178955, -4.485199928283691, -4.2683000564575195, -3.7513999938964844, -4.246500015258789, -4.748199939727783, -4.991799831390381, -4.996300220489502, -4.914700031280518, -3.788100004196167, -4.908899784088135, -4.94320011138916, -5.188799858093262, -5.251299858093262, -5.262800216674805, -5.3480000495910645, -5.34250020980835, -5.384200096130371, -5.493299961090088, -5.309000015258789, -5.688899993896484, -5.834499835968018, -5.886000156402588, -5.927199840545654, -5.956299781799316, -5.821000099182129, -6.022600173950195, -5.5903000831604, -6.190899848937988, -6.199399948120117, -6.22189998626709, -6.2617998123168945, -6.281899929046631, -6.364500045776367, -6.284599781036377, -6.369900226593018, -6.366600036621094, -6.495800018310547, -6.545300006866455, -6.5395002365112305, -5.521500110626221, -6.02839994430542, -4.475100040435791, -5.047699928283691, -5.2322998046875, -5.367599964141846, -5.37529993057251, -4.421299934387207, -5.1458001136779785, -4.952600002288818, -5.572299957275391, -4.67080020904541, -5.263599872589111, -4.061999797821045, -4.670899868011475, -4.977099895477295, -4.537799835205078, -5.10699987411499, -4.9969000816345215, -4.650300025939941, -4.178100109100342, -4.394599914550781, -4.343800067901611, -4.236100196838379, -4.847799777984619, -4.66949987411499, -4.78849983215332, -4.987299919128418, -4.732100009918213, -5.045599937438965, -5.134799957275391, -5.1265997886657715], \"loglift\": [30.0, 29.0, 28.0, 27.0, 26.0, 25.0, 24.0, 23.0, 22.0, 21.0, 20.0, 19.0, 18.0, 17.0, 16.0, 15.0, 14.0, 13.0, 12.0, 11.0, 10.0, 9.0, 8.0, 7.0, 6.0, 5.0, 4.0, 3.0, 2.0, 1.0, 1.3085, 1.3082, 1.3071, 1.3071, 1.307, 1.3069, 1.3068, 1.306, 1.3054, 1.3054, 1.3052, 1.3048, 1.3046, 1.3044, 1.3044, 1.3044, 1.3043, 1.3043, 1.3042, 1.304, 1.304, 1.304, 1.3036, 1.3036, 1.3034, 1.3032, 1.3032, 1.3028, 1.302, 1.3016, 1.2737, 1.1767, 1.1561, 0.9797, 0.9186, 1.0895, 1.1574, 1.0373, 0.9266, 0.5782, 0.8263, 1.0625, 0.5604, 0.9475, 1.2123, 1.053, 0.9553, 0.9293, 0.9123, 0.2524, 0.3175, 0.7349, 0.4976, -0.1107, -0.4982, -0.129, 0.2854, 0.0231, 0.6665, 1.5772, 1.5764, 1.5764, 1.5762, 1.5761, 1.5757, 1.5749, 1.5749, 1.5748, 1.5748, 1.5747, 1.5741, 1.574, 1.5739, 1.5735, 1.5735, 1.5732, 1.5728, 1.5724, 1.5723, 1.5717, 1.5706, 1.5701, 1.57, 1.5688, 1.568, 1.5677, 1.5659, 1.5645, 1.5635, 1.5477, 1.5534, 1.5148, 1.542, 1.4914, 1.518, 1.4004, 1.3162, 1.3522, 1.1783, 1.1037, 0.5914, 1.1711, 1.4412, 0.6423, 0.4946, 1.0177, 1.0255, 1.0592, 1.0288, -0.0323, 0.5233, 0.4137, 0.3046, 0.7384, 1.6229, 1.6221, 1.622, 1.622, 1.6218, 1.6216, 1.6213, 1.6208, 1.6202, 1.6198, 1.6198, 1.6198, 1.6197, 1.6194, 1.6183, 1.618, 1.6176, 1.6174, 1.6173, 1.6163, 1.6162, 1.6159, 1.6157, 1.6144, 1.6133, 1.6133, 1.6132, 1.613, 1.6129, 1.6126, 1.6119, 1.6117, 1.5298, 1.5478, 1.5528, 1.5852, 1.5306, 1.2959, 1.3927, 1.4163, 1.0015, 1.3625, 1.4092, 1.4437, 1.1682, 1.3483, 0.7729, 1.1001, 1.1559, 0.6636, 0.0088, 0.2193, 0.7387, 0.5134, 0.0005, 0.8085, 0.5064, -0.246, 0.3499, 0.4581, 0.5572, -0.2706, 0.0549, 0.5522, 0.1711, 0.2674, -0.4522, -0.2473, 1.7908, 1.7902, 1.7893, 1.7889, 1.7889, 1.7877, 1.7865, 1.7864, 1.7864, 1.7863, 1.7854, 1.7846, 1.7842, 1.7829, 1.7827, 1.7826, 1.7824, 1.782, 1.7818, 1.781, 1.7807, 1.7803, 1.7802, 1.7799, 1.7789, 1.7783, 1.778, 1.778, 1.777, 1.7761, 1.7683, 1.7086, 1.6231, 1.7228, 1.6935, 1.6221, 1.7071, 1.5779, 1.4574, 1.5918, 1.4289, 1.6359, 1.5397, 1.4152, 1.2467, 1.5719, 1.6025, 1.5344, 1.3662, 1.2419, 1.3146, 1.4423, 1.4445, 0.4738, 1.0296, 0.323, 0.9461, 0.3214, -0.3532, -0.6074, -0.0254, 0.9429, 0.933, -0.2157, 1.8335, 1.832, 1.8319, 1.8312, 1.8311, 1.831, 1.8308, 1.8307, 1.8306, 1.8302, 1.8302, 1.8293, 1.8285, 1.8283, 1.828, 1.8278, 1.8278, 1.8274, 1.827, 1.8261, 1.826, 1.8258, 1.8255, 1.8254, 1.8246, 1.8245, 1.8245, 1.8245, 1.8232, 1.8227, 1.8226, 1.7691, 1.7906, 1.5914, 1.6511, 1.6633, 1.6732, 1.6742, 1.4769, 1.6117, 1.5674, 1.6717, 1.4321, 1.5887, 1.2464, 1.4205, 1.4902, 1.2152, 1.3826, 1.1853, 0.8871, 0.4115, 0.3634, 0.1551, -0.1168, 0.7918, 0.0736, 0.2536, 0.8007, -0.033, 0.5385, 0.5395, 0.2647]}, \"token.table\": {\"Topic\": [3, 4, 5, 1, 2, 3, 5, 1, 2, 5, 2, 4, 2, 3, 4, 5, 1, 1, 5, 1, 3, 4, 5, 1, 3, 1, 1, 3, 5, 5, 2, 5, 1, 5, 2, 1, 3, 2, 3, 4, 3, 3, 3, 3, 4, 4, 5, 3, 4, 3, 4, 4, 3, 1, 3, 3, 3, 5, 4, 3, 1, 2, 5, 2, 3, 2, 3, 4, 3, 4, 5, 4, 1, 2, 1, 3, 2, 3, 2, 5, 4, 1, 1, 3, 5, 1, 3, 4, 5, 2, 2, 3, 4, 1, 5, 1, 4, 4, 3, 3, 3, 1, 2, 2, 4, 5, 5, 1, 3, 4, 5, 2, 3, 4, 5, 5, 5, 1, 3, 4, 2, 3, 4, 4, 2, 4, 5, 1, 2, 3, 4, 5, 4, 3, 5, 5, 1, 2, 5, 1, 5, 4, 5, 4, 2, 1, 2, 3, 4, 5, 1, 1, 3, 5, 1, 3, 4, 5, 1, 4, 2, 3, 4, 2, 5, 1, 3, 4, 2, 3, 4, 5, 2, 3, 1, 2, 3, 4, 5, 2, 3, 5, 4, 1, 2, 3, 4, 3, 1, 3, 4, 1, 3, 4, 5, 4, 1, 2, 3, 4, 5, 2, 3, 4, 5, 1, 2, 3, 4, 5, 1, 3, 5, 2, 3, 4, 1, 5, 2, 3, 2, 3, 3, 4, 4, 2, 5, 3, 2, 2, 2, 2, 2, 1, 2, 3, 4, 5, 3, 4, 5, 3, 4, 5, 4, 4, 4, 5, 3, 3, 4, 1, 2, 3, 5, 1, 5, 2, 3, 2, 4, 1, 2, 3, 5, 1, 2, 1, 2, 2, 1, 3, 4, 1, 4, 4, 1, 2, 3, 4, 5, 3, 1, 2, 3, 4, 5, 3, 4, 1, 3, 4, 5, 1, 3, 4, 5, 1, 2, 3, 4, 5, 2, 4, 3, 5, 3, 3, 5, 4, 5, 2, 1, 3, 4, 5, 1, 2, 3, 1, 2, 3, 4, 5, 2, 1, 2, 4, 5, 1, 2, 3, 4, 5, 2, 2, 4, 1, 5, 1, 1, 5, 1, 4, 5, 4, 4, 2, 5, 2, 2, 3, 4, 1, 3, 2, 3, 4, 5, 2, 3, 5, 5, 5, 1, 5, 2, 4, 5, 1, 3, 4, 3, 1, 2, 5, 1, 2, 3, 4, 5, 2, 1, 2, 3, 4, 5, 4, 1, 3, 4, 5, 2, 3, 4, 4, 3, 4, 5, 1, 1, 3, 5, 1, 3, 4, 5, 5, 3, 4, 5, 3, 5, 3, 5, 1, 2, 3, 4, 5, 1, 2, 5, 4, 3, 5, 1, 3, 4, 5, 2, 5, 3, 4, 5, 3, 5, 1, 5, 1, 5, 1, 3, 5, 3, 3, 2, 3, 4, 5, 5, 1, 1, 2, 3, 4, 5, 1, 2, 3, 4, 5, 1, 1, 3, 4, 5, 2, 4, 5, 3, 4, 5, 1, 2, 3, 4, 5, 1, 3, 4, 2, 3, 5, 4, 4, 5, 2, 3, 4, 5, 2, 3, 3, 4, 4, 2, 4, 5, 1, 2, 3, 4, 5, 1, 2, 5, 2, 2], \"Freq\": [0.9093719594028971, 0.022734298985072426, 0.06820289695521728, 0.14790398497096596, 0.5709300678599525, 0.007240055208368962, 0.274087804316825, 0.14652179742425905, 0.665876287304306, 0.18714170166068733, 0.2223338630631196, 0.7771486406151245, 0.18034331665398984, 0.0941498197237741, 0.6537445228707132, 0.07160690514202538, 0.9989675277874523, 0.9936611819031332, 0.9975970658837837, 0.3476718490948321, 0.4265285494864056, 0.038949463351303504, 0.18644661145214136, 0.9973803834809332, 0.9916215757403543, 0.9954565678791356, 0.9911412924105113, 0.9958001809858804, 0.9880175326150396, 0.9978620729868356, 0.9974721748908113, 0.00243285896314832, 0.9981105969848827, 0.9955294557763568, 0.9885487801261518, 0.9972861588421127, 0.9961214159015337, 0.0016864127247899893, 0.311143147723753, 0.6863699789895257, 0.9968816312282395, 0.9958723550091103, 0.9978480010074103, 0.07829578716833313, 0.9178006162510162, 0.9973520146445274, 0.0022980461166924593, 0.9970948895066233, 0.990863337753775, 0.9884151673496672, 0.9968359196938723, 0.9900468160037615, 0.9959195400730524, 0.0666975407426075, 0.9298421856469399, 0.98792343188328, 0.9954325449175577, 0.9939952526416507, 0.9902807325660632, 0.9932557415852371, 0.9960234191938229, 0.873593156550165, 0.12687037543259658, 0.2284986195814355, 0.7700403479894377, 0.9880407423897044, 0.9124278283291689, 0.08813223341815836, 0.7588598905370783, 0.07334705261696667, 0.16644138863080898, 0.9829066190022989, 0.9939578658720332, 0.9985918539123075, 0.9964525185476396, 0.9956725323110782, 0.27989591271038966, 0.719796017559362, 0.997016733509055, 0.9964440368272814, 0.9869284144903417, 0.9999220298650389, 0.6845235891648696, 0.315036424558832, 0.9973633843129932, 0.3542536193460133, 0.1811524189837568, 0.4280564567097661, 0.037572353567001414, 0.9971277406012179, 0.0960394481971749, 0.20826532024780622, 0.6960162256986271, 0.8592886836536651, 0.13846357935651477, 0.9997924057528483, 0.996022446274689, 0.9935696377036989, 0.9913446218551974, 0.9908426420394916, 0.9853015635760874, 0.991364598848214, 0.9859077073115674, 0.9855111182859395, 0.15435319689298072, 0.8419265285071675, 0.9929591525421789, 0.9970949964285546, 0.9969344755410829, 0.8291230910296237, 0.17058513356111873, 0.577049418625725, 0.0011587337723408132, 0.06488909125108554, 0.35573126810862965, 0.998816790728404, 0.9943175861147094, 0.7628473402944538, 0.21256423284246498, 0.02483227019187675, 0.9415884215679005, 0.057065964943509115, 0.9882500680059071, 0.9989823104918071, 0.22253216261588782, 0.7732992650902102, 0.005563304065397195, 0.30754158952256433, 0.27597573722552693, 0.005411288965206411, 0.023448918849227778, 0.3878090425064594, 0.9944464783608229, 0.14728795949947832, 0.8509970993303191, 0.9955141175282805, 0.14119798481422463, 0.798553047449337, 0.05961692692156151, 0.995013029607149, 0.9846336933522198, 0.983791181169525, 0.9893566201187359, 0.9864293216789644, 0.9987795129978778, 0.2121761747488762, 0.06339410099204229, 0.006468785815514519, 0.018112600283440652, 0.6999226252386709, 0.994265061950982, 0.8031359339514937, 0.1947690567357403, 0.0022914006674792974, 0.08105902738036129, 0.23385170730971486, 0.12912057458818613, 0.5552184707292003, 0.9096311544813551, 0.08843636224124286, 0.2692988384586308, 0.5919722214766299, 0.13950165055289435, 0.9638304285641734, 0.034942492878459464, 0.9918231124139745, 0.1964731333783682, 0.8017371410439863, 0.3922214457633015, 0.027711297798494124, 0.5798056154761848, 0.9897562821971341, 0.9961474629455094, 0.9955672683238266, 0.9976330686712969, 0.5951224626608701, 0.01598469424502337, 0.34305613033550153, 0.045494899005066515, 0.9919174383986522, 0.9638312961859986, 0.028628652361960355, 0.982132491117108, 0.525739091294212, 0.11061004258397707, 0.18025340272944412, 0.18298451489201145, 0.9928179480928067, 0.6968421663304758, 0.2678897950751593, 0.03451340918146224, 0.7029737843656122, 0.2524030501728162, 0.002085975621262944, 0.043805488046521825, 0.9918819283417047, 0.6175608538177463, 0.08288316722290805, 0.11782411026785948, 0.13245055154249033, 0.04956738431958227, 0.18818812931411277, 0.316316217357764, 0.4244242916445948, 0.07073738194076579, 0.26629469649229714, 0.0011188852793793996, 0.017902164470070394, 0.17678387414194516, 0.5381838193814913, 0.6727087263634653, 0.21863033606812626, 0.10838085035855831, 0.11498683827512396, 0.07722996600568027, 0.8074822001260571, 0.9975506263429479, 0.9971048863536567, 0.9707209514807194, 0.02912162854442158, 0.67066144090641, 0.32907260436387614, 0.9871885762467688, 0.01007335281884458, 0.9941402169886411, 0.9949797688081702, 0.004329764006998129, 0.996905652650466, 0.9969854918584802, 0.9959171923962077, 0.999234002007094, 0.9947748586269847, 0.9992787526881755, 0.4817144944706484, 0.1998647880497708, 0.19869660916106333, 0.11713648311312284, 0.002654952019789729, 0.0212795122662273, 0.9758176339227091, 0.9981453205537844, 0.8111949674628174, 0.18677626790340263, 0.9881514176563506, 0.9906737385388805, 0.9917971621814807, 0.9933889858599844, 0.9878932256484205, 0.9978508446372807, 0.8325248861209572, 0.16384798290678415, 0.24919750147691222, 0.06874413833845855, 0.15811151817845465, 0.522455451372285, 0.1490936673855139, 0.8498339040974293, 0.9386679516447836, 0.0609059357937455, 0.07896350177390846, 0.9203091312941366, 0.20006195587049583, 0.10003097793524791, 0.031755866011189814, 0.6684609795355456, 0.9940650642730606, 0.9908414178392033, 0.994306024114505, 0.9991289211209251, 0.9970996732441123, 0.8582399814742676, 0.021157041343953006, 0.11958327716147352, 0.15562074604247333, 0.8436282548618291, 0.9920354640776428, 0.24191245718259977, 0.1370371144733802, 0.15032132454988134, 0.2300265850088882, 0.24121328823120497, 0.9966542542396628, 0.14229340175180308, 0.18250675442079092, 0.3423290534898451, 0.16085341067595132, 0.17116452674492255, 0.9267015810400143, 0.07288664120539438, 0.9949139124490509, 0.0007638494529359316, 0.0003819247264679658, 0.0034373225382116923, 0.10620683473799362, 0.4427148058552155, 0.2548964033711847, 0.19676213593565134, 0.35920370642173705, 0.2695992807497939, 0.2342291127213953, 0.13362063477395034, 0.003144014935857655, 0.7696997654024844, 0.23019831728119886, 0.988478029690259, 0.010628796018174827, 0.9979320074565077, 0.9923933061260038, 0.9907533433892812, 0.9072045019239983, 0.09236991292317073, 0.9970019754210486, 0.5631452461133046, 0.35063760607054817, 0.07703401951549921, 0.007969036501603367, 0.9945565985578618, 0.2065068590379024, 0.7929863387055452, 0.2764632074684443, 0.03572586180009718, 0.38254153558257903, 0.09948278439719369, 0.2055611125113284, 0.9950798465381014, 0.0737129430612969, 0.07465798079285199, 0.577418053980159, 0.27406094215097565, 0.23440268714267312, 0.05190924559560927, 0.2571129820907522, 0.4290623581262079, 0.02676570476023603, 0.9937037597044409, 0.8370862249285016, 0.16254489195892183, 0.21499095412533145, 0.7827014423625348, 0.9981872510737126, 0.9667706293120977, 0.03286472394262088, 0.9951977234123737, 0.8556001863582704, 0.14260003105971172, 0.9836271986926761, 0.9848063172793179, 0.976412636761575, 0.02013221931467165, 0.9983800942858071, 0.4318674646385414, 0.10092060752605915, 0.4664168618096247, 0.774955550287282, 0.22454542446486617, 0.0050622281602306874, 0.23286249537061163, 0.7061808283521809, 0.05568450976253756, 0.6222645142138318, 0.3268055862430628, 0.05068821337647505, 0.9937354312871031, 0.9942389611722625, 0.7822456455519092, 0.21611591408641337, 0.9936437703830389, 0.9326950984717726, 0.06518836709748949, 0.7196515787433932, 0.2452464829042341, 0.034981763770474274, 0.998388807499267, 0.08267035647780215, 0.13319112988090345, 0.7838374540117536, 0.47315475164475934, 0.15364284355734217, 0.08354584331367414, 0.11777926203732597, 0.1719821750164414, 0.979775836690597, 0.23750717079729772, 0.3482658514318339, 0.12518850874537368, 0.13454839724970066, 0.15443816032139557, 0.9949662445737887, 0.6824922294174477, 0.20714620381679721, 0.07704385124414212, 0.033434124124816396, 0.0009629792937541224, 0.15359519735378252, 0.8450143302692424, 0.9992717845793447, 0.2942385794131957, 0.7056941538771767, 0.9979941913318406, 0.9934992474380941, 0.9980840049376029, 0.1986076008188874, 0.8005414063776692, 0.2921675088057001, 0.02804808084534721, 0.04440946133846641, 0.6357564991612034, 0.9943020452211617, 0.2796045688751741, 0.7160750843141503, 0.004191074908193188, 0.995880102876716, 0.990437026014388, 0.1460135282726972, 0.8517455815907337, 0.07408865797465536, 0.5752766383914416, 0.014164008142213524, 0.16560994135511198, 0.1699680977065623, 0.9936937404819903, 0.9922586841653279, 0.9915769952059836, 0.998749135948686, 0.8076458155715824, 0.19229662275513867, 0.11272968712148325, 0.10964120254281247, 0.6207854003128256, 0.15596847122287408, 0.9922934944364032, 0.007087810674545738, 0.18741687071721294, 0.10285072173505588, 0.7085271941748295, 0.16710976756364573, 0.8326676349292003, 0.03532754453479882, 0.9538437024395682, 0.005909871522311106, 0.9928584157482658, 0.444288071368564, 0.34437175837519696, 0.21147336148110688, 0.9940185982258347, 0.9940101173657637, 0.37281330647070693, 0.536316061392619, 0.0908048357913429, 0.9866335790363588, 0.9964042066074582, 0.9956264404442811, 0.13087151508896963, 0.1978058014321831, 0.26773714537285387, 0.051948998355926874, 0.35265377730081127, 0.3710888011622703, 0.3119297169190098, 0.05005768666737425, 0.036819290193357924, 0.22960343884622075, 0.9993306949607449, 0.3342958199231604, 0.0031389278866024452, 0.0015694639433012226, 0.6607443201298147, 0.004818677581349847, 0.22888718511411774, 0.7661697354346257, 0.9807821003112955, 0.9985716420495372, 0.9902089206586094, 0.16409113503127387, 0.33833437311372505, 0.19703367350346143, 0.26768402330859326, 0.03252816691907828, 0.8764741529679579, 0.12133009968771319, 0.002716345515396564, 0.37257752058640425, 0.6260523911492858, 0.9933002860644928, 0.9860062661816046, 0.06247916395135131, 0.9371874592702696, 0.1511882678226223, 0.412260792155501, 0.22834104367024913, 0.20807869849814511, 0.36620194122822125, 0.6330745977442125, 0.9967951605533016, 0.9936093432989905, 0.9901090443614948, 0.17969290449784048, 0.8195749546608821, 0.989874074111034, 0.6771160508337916, 0.01419759461425692, 0.15398929543155584, 0.012450198354040685, 0.14219437067509624, 0.060886288471661824, 0.9168497307813017, 0.022221273164840082, 0.9979658721871909, 0.9983512680607606], \"Term\": [\"$\", \"$\", \"$\", \"2\", \"2\", \"2\", \"2\", \"3\", \"3\", \"3\", \"7\", \"7\", \"8\", \"8\", \"8\", \"8\", \"AA\", \"AAA\", \"Alexa\", \"Amazon\", \"Amazon\", \"Amazon\", \"Amazon\", \"AmazonBasics\", \"Android\", \"Basics\", \"Batteries\", \"Black\", \"Bluetooth\", \"Buy\", \"Christmas\", \"Christmas\", \"Duracell\", \"Echo\", \"Edition\", \"Energizer\", \"Facebook\", \"Fire\", \"Fire\", \"Fire\", \"Friday\", \"GB\", \"Google\", \"HD\", \"HD\", \"Kindle\", \"Kindle\", \"Netflix\", \"Nook\", \"OS\", \"Oasis\", \"Paperwhite\", \"Play\", \"Prime\", \"Prime\", \"SD\", \"Store\", \"Tap\", \"Voyage\", \"YouTube\", \"aaa\", \"absolutely\", \"absolutely\", \"access\", \"access\", \"activity\", \"ad\", \"ad\", \"add\", \"add\", \"add\", \"adjust\", \"advertise\", \"age\", \"alkaline\", \"android\", \"app\", \"app\", \"appropriate\", \"ask\", \"backlight\", \"battery\", \"beat\", \"beat\", \"best\", \"big\", \"big\", \"big\", \"big\", \"birthday\", \"book\", \"book\", \"book\", \"box\", \"box\", \"brand\", \"bright\", \"brightness\", \"browse\", \"browser\", \"browsing\", \"bulk\", \"bumper\", \"busy\", \"button\", \"button\", \"cable\", \"candle\", \"card\", \"carry\", \"carry\", \"case\", \"case\", \"case\", \"case\", \"charge\", \"charger\", \"cheap\", \"cheap\", \"cheap\", \"child\", \"child\", \"clarity\", \"clear\", \"color\", \"color\", \"color\", \"come\", \"come\", \"come\", \"come\", \"come\", \"compact\", \"computer\", \"computer\", \"connect\", \"control\", \"control\", \"control\", \"controller\", \"cord\", \"crisp\", \"customer\", \"dark\", \"daughter\", \"day\", \"day\", \"day\", \"day\", \"day\", \"dead\", \"deal\", \"deal\", \"deal\", \"device\", \"device\", \"device\", \"device\", \"die\", \"die\", \"download\", \"download\", \"download\", \"durable\", \"durable\", \"duracell\", \"e\", \"e\", \"easy\", \"easy\", \"easy\", \"echo\", \"educational\", \"email\", \"energizer\", \"enjoy\", \"enjoy\", \"enjoy\", \"enjoy\", \"entertain\", \"entertainment\", \"entertainment\", \"ereader\", \"excellent\", \"excellent\", \"excellent\", \"excellent\", \"expandable\", \"expect\", \"expect\", \"expect\", \"expensive\", \"expensive\", \"expensive\", \"expensive\", \"eye\", \"far\", \"far\", \"far\", \"far\", \"far\", \"feature\", \"feature\", \"feature\", \"feature\", \"find\", \"find\", \"find\", \"find\", \"find\", \"fine\", \"fine\", \"fine\", \"fire\", \"fire\", \"fire\", \"flashlight\", \"friend\", \"friendly\", \"friendly\", \"game\", \"game\", \"gb\", \"gb\", \"generation\", \"gift\", \"gift\", \"google\", \"grand\", \"grandchild\", \"granddaughter\", \"grandkid\", \"grandson\", \"great\", \"great\", \"great\", \"great\", \"great\", \"hd\", \"hd\", \"home\", \"iPad\", \"iPad\", \"immediately\", \"improve\", \"improvement\", \"inch\", \"instruction\", \"internet\", \"ipad\", \"ipad\", \"issue\", \"issue\", \"issue\", \"issue\", \"keyboard\", \"keyboard\", \"kid\", \"kid\", \"kindle\", \"kindle\", \"know\", \"know\", \"know\", \"know\", \"lasting\", \"law\", \"leak\", \"learn\", \"learning\", \"life\", \"life\", \"life\", \"light\", \"light\", \"lightweight\", \"like\", \"like\", \"like\", \"like\", \"like\", \"limited\", \"little\", \"little\", \"little\", \"little\", \"little\", \"load\", \"load\", \"long\", \"long\", \"long\", \"long\", \"look\", \"look\", \"look\", \"look\", \"lot\", \"lot\", \"lot\", \"lot\", \"lot\", \"love\", \"love\", \"magazine\", \"magazine\", \"memory\", \"micro\", \"minute\", \"model\", \"model\", \"mom\", \"money\", \"money\", \"money\", \"money\", \"mouse\", \"movie\", \"movie\", \"need\", \"need\", \"need\", \"need\", \"need\", \"nephew\", \"new\", \"new\", \"new\", \"new\", \"nice\", \"nice\", \"nice\", \"nice\", \"nice\", \"niece\", \"old\", \"old\", \"open\", \"open\", \"pack\", \"package\", \"package\", \"packaging\", \"page\", \"page\", \"paper\", \"paperwhite\", \"parent\", \"parent\", \"parental\", \"perfect\", \"perfect\", \"perfect\", \"performance\", \"performance\", \"picture\", \"picture\", \"picture\", \"picture\", \"play\", \"play\", \"play\", \"plug\", \"port\", \"power\", \"power\", \"present\", \"previous\", \"previous\", \"price\", \"price\", \"price\", \"prime\", \"problem\", \"problem\", \"problem\", \"product\", \"product\", \"product\", \"product\", \"product\", \"proof\", \"purchase\", \"purchase\", \"purchase\", \"purchase\", \"purchase\", \"purse\", \"quality\", \"quality\", \"quality\", \"quality\", \"read\", \"read\", \"read\", \"reader\", \"reading\", \"reading\", \"receive\", \"rechargeable\", \"remote\", \"return\", \"return\", \"review\", \"review\", \"review\", \"review\", \"room\", \"screen\", \"screen\", \"screen\", \"sd\", \"send\", \"service\", \"service\", \"set\", \"set\", \"set\", \"set\", \"set\", \"shipping\", \"sister\", \"sit\", \"size\", \"slow\", \"slow\", \"small\", \"small\", \"small\", \"small\", \"son\", \"son\", \"sound\", \"sound\", \"sound\", \"speaker\", \"speaker\", \"stay\", \"stay\", \"stop\", \"stop\", \"store\", \"store\", \"store\", \"stream\", \"surf\", \"tablet\", \"tablet\", \"tablet\", \"talk\", \"tap\", \"test\", \"thing\", \"thing\", \"thing\", \"thing\", \"thing\", \"time\", \"time\", \"time\", \"time\", \"time\", \"toy\", \"try\", \"try\", \"try\", \"try\", \"turn\", \"turn\", \"turn\", \"unlimited\", \"upgrade\", \"usb\", \"use\", \"use\", \"use\", \"use\", \"use\", \"value\", \"value\", \"value\", \"video\", \"video\", \"voice\", \"voyage\", \"wait\", \"wait\", \"want\", \"want\", \"want\", \"want\", \"watch\", \"watch\", \"web\", \"weight\", \"white\", \"wife\", \"wife\", \"word\", \"work\", \"work\", \"work\", \"work\", \"work\", \"year\", \"year\", \"year\", \"young\", \"yr\"]}, \"R\": 30, \"lambda.step\": 0.01, \"plot.opts\": {\"xlab\": \"PC1\", \"ylab\": \"PC2\"}, \"topic.order\": [2, 5, 1, 3, 4]};\n",
       "\n",
       "function LDAvis_load_lib(url, callback){\n",
       "  var s = document.createElement('script');\n",
       "  s.src = url;\n",
       "  s.async = true;\n",
       "  s.onreadystatechange = s.onload = callback;\n",
       "  s.onerror = function(){console.warn(\"failed to load library \" + url);};\n",
       "  document.getElementsByTagName(\"head\")[0].appendChild(s);\n",
       "}\n",
       "\n",
       "if(typeof(LDAvis) !== \"undefined\"){\n",
       "   // already loaded: just create the visualization\n",
       "   !function(LDAvis){\n",
       "       new LDAvis(\"#\" + \"ldavis_el96662140236089634368823143074\", ldavis_el96662140236089634368823143074_data);\n",
       "   }(LDAvis);\n",
       "}else if(typeof define === \"function\" && define.amd){\n",
       "   // require.js is available: use it to load d3/LDAvis\n",
       "   require.config({paths: {d3: \"https://cdnjs.cloudflare.com/ajax/libs/d3/3.5.5/d3.min\"}});\n",
       "   require([\"d3\"], function(d3){\n",
       "      window.d3 = d3;\n",
       "      LDAvis_load_lib(\"https://cdn.rawgit.com/bmabey/pyLDAvis/files/ldavis.v1.0.0.js\", function(){\n",
       "        new LDAvis(\"#\" + \"ldavis_el96662140236089634368823143074\", ldavis_el96662140236089634368823143074_data);\n",
       "      });\n",
       "    });\n",
       "}else{\n",
       "    // require.js not available: dynamically load d3 & LDAvis\n",
       "    LDAvis_load_lib(\"https://cdnjs.cloudflare.com/ajax/libs/d3/3.5.5/d3.min.js\", function(){\n",
       "         LDAvis_load_lib(\"https://cdn.rawgit.com/bmabey/pyLDAvis/files/ldavis.v1.0.0.js\", function(){\n",
       "                 new LDAvis(\"#\" + \"ldavis_el96662140236089634368823143074\", ldavis_el96662140236089634368823143074_data);\n",
       "            })\n",
       "         });\n",
       "}\n",
       "</script>"
      ],
      "text/plain": [
       "PreparedData(topic_coordinates=              x         y  topics  cluster       Freq\n",
       "topic                                                \n",
       "1      0.214112  0.137259       1        1  27.020005\n",
       "4     -0.226575 -0.104582       2        1  20.638088\n",
       "0     -0.004820  0.095212       3        1  19.699247\n",
       "2     -0.155073  0.093403       4        1  16.669726\n",
       "3      0.172356 -0.221292       5        1  15.972934, topic_info=          Term         Freq        Total Category  logprob  loglift\n",
       "2      battery  9331.000000  9331.000000  Default  30.0000  30.0000\n",
       "71        love  6042.000000  6042.000000  Default  29.0000  29.0000\n",
       "1293    tablet  7400.000000  7400.000000  Default  28.0000  28.0000\n",
       "151        kid  2791.000000  2791.000000  Default  27.0000  27.0000\n",
       "15       price  5345.000000  5345.000000  Default  26.0000  26.0000\n",
       "...        ...          ...          ...      ...      ...      ...\n",
       "241       case   306.993926   863.011007   Topic5  -4.9873   0.8007\n",
       "30    purchase   396.253731  2564.133108   Topic5  -4.7321  -0.0330\n",
       "195        new   289.590986  1058.158808   Topic5  -5.0456   0.5385\n",
       "173          2   264.878250   966.843456   Topic5  -5.1348   0.5395\n",
       "75        want   267.073076  1283.168349   Topic5  -5.1266   0.2647\n",
       "\n",
       "[339 rows x 6 columns], token_table=      Topic      Freq   Term\n",
       "term                        \n",
       "1401      3  0.909372      $\n",
       "1401      4  0.022734      $\n",
       "1401      5  0.068203      $\n",
       "173       1  0.147904      2\n",
       "173       2  0.570930      2\n",
       "...     ...       ...    ...\n",
       "83        1  0.060886   year\n",
       "83        2  0.916850   year\n",
       "83        5  0.022221   year\n",
       "695       2  0.997966  young\n",
       "835       2  0.998351     yr\n",
       "\n",
       "[509 rows x 3 columns], R=30, lambda_step=0.01, plot_opts={'xlab': 'PC1', 'ylab': 'PC2'}, topic_order=[2, 5, 1, 3, 4])"
      ]
     },
     "execution_count": 43,
     "metadata": {},
     "output_type": "execute_result"
    }
   ],
   "source": [
    "pyLDAvis.gensim.prepare(lda, corpus, id2word)"
   ]
  },
  {
   "cell_type": "code",
   "execution_count": 44,
   "metadata": {},
   "outputs": [
    {
     "name": "stderr",
     "output_type": "stream",
     "text": [
      "/home/johnrivera/.virtualenvs/DS-Unit-4-Sprint-1-NLP-P3T_G5kE/lib/python3.8/site-packages/ipykernel/ipkernel.py:287: DeprecationWarning: `should_run_async` will not call `transform_cell` automatically in the future. Please pass the result to `transformed_cell` argument and any exception that happen during thetransform in `preprocessing_exc_tuple` in IPython 7.17 and above.\n",
      "  and should_run_async(code)\n"
     ]
    }
   ],
   "source": [
    "distro = [lda[doc] for doc in corpus]"
   ]
  },
  {
   "cell_type": "code",
   "execution_count": 45,
   "metadata": {},
   "outputs": [
    {
     "name": "stderr",
     "output_type": "stream",
     "text": [
      "/home/johnrivera/.virtualenvs/DS-Unit-4-Sprint-1-NLP-P3T_G5kE/lib/python3.8/site-packages/ipykernel/ipkernel.py:287: DeprecationWarning: `should_run_async` will not call `transform_cell` automatically in the future. Please pass the result to `transformed_cell` argument and any exception that happen during thetransform in `preprocessing_exc_tuple` in IPython 7.17 and above.\n",
      "  and should_run_async(code)\n"
     ]
    },
    {
     "data": {
      "text/plain": [
       "[(0, 0.02242211),\n",
       " (1, 0.56459117),\n",
       " (2, 0.022470677),\n",
       " (3, 0.36790973),\n",
       " (4, 0.022606287)]"
      ]
     },
     "execution_count": 45,
     "metadata": {},
     "output_type": "execute_result"
    }
   ],
   "source": [
    "distro[0]"
   ]
  },
  {
   "cell_type": "code",
   "execution_count": 48,
   "metadata": {},
   "outputs": [
    {
     "name": "stderr",
     "output_type": "stream",
     "text": [
      "/home/johnrivera/.virtualenvs/DS-Unit-4-Sprint-1-NLP-P3T_G5kE/lib/python3.8/site-packages/ipykernel/ipkernel.py:287: DeprecationWarning: `should_run_async` will not call `transform_cell` automatically in the future. Please pass the result to `transformed_cell` argument and any exception that happen during thetransform in `preprocessing_exc_tuple` in IPython 7.17 and above.\n",
      "  and should_run_async(code)\n"
     ]
    }
   ],
   "source": [
    "def update(doc):\n",
    "    d_dist = {k:0 for k in range(0,5)}\n",
    "    for t in doc:\n",
    "        d_dist[t[0]] = t[1]\n",
    "    return d_dist\n",
    "\n",
    "new_distro = [update(doc) for doc in distro] "
   ]
  },
  {
   "cell_type": "code",
   "execution_count": 49,
   "metadata": {},
   "outputs": [
    {
     "name": "stderr",
     "output_type": "stream",
     "text": [
      "/home/johnrivera/.virtualenvs/DS-Unit-4-Sprint-1-NLP-P3T_G5kE/lib/python3.8/site-packages/ipykernel/ipkernel.py:287: DeprecationWarning: `should_run_async` will not call `transform_cell` automatically in the future. Please pass the result to `transformed_cell` argument and any exception that happen during thetransform in `preprocessing_exc_tuple` in IPython 7.17 and above.\n",
      "  and should_run_async(code)\n"
     ]
    }
   ],
   "source": [
    "topics = pd.DataFrame.from_records(new_distro)\n",
    "topics.columns = topic_labels\n"
   ]
  },
  {
   "cell_type": "code",
   "execution_count": 50,
   "metadata": {},
   "outputs": [
    {
     "name": "stderr",
     "output_type": "stream",
     "text": [
      "/home/johnrivera/.virtualenvs/DS-Unit-4-Sprint-1-NLP-P3T_G5kE/lib/python3.8/site-packages/ipykernel/ipkernel.py:287: DeprecationWarning: `should_run_async` will not call `transform_cell` automatically in the future. Please pass the result to `transformed_cell` argument and any exception that happen during thetransform in `preprocessing_exc_tuple` in IPython 7.17 and above.\n",
      "  and should_run_async(code)\n"
     ]
    },
    {
     "data": {
      "text/html": [
       "<div>\n",
       "<style scoped>\n",
       "    .dataframe tbody tr th:only-of-type {\n",
       "        vertical-align: middle;\n",
       "    }\n",
       "\n",
       "    .dataframe tbody tr th {\n",
       "        vertical-align: top;\n",
       "    }\n",
       "\n",
       "    .dataframe thead th {\n",
       "        text-align: right;\n",
       "    }\n",
       "</style>\n",
       "<table border=\"1\" class=\"dataframe\">\n",
       "  <thead>\n",
       "    <tr style=\"text-align: right;\">\n",
       "      <th></th>\n",
       "      <th>\"tablet\", \"great\", \"app\", \"Amazon\", \"price\"</th>\n",
       "      <th>\"battery\", \"great\", \"price\", \"work\", \"long\"</th>\n",
       "      <th>\"easy\", \"read\", \"Kindle\", \"love\", \"kindle\"</th>\n",
       "      <th>\"charge\", \"device\", \"like\", \"work\", \"Amazon\"</th>\n",
       "      <th>\"love\", \"tablet\", \"kid\", \"old\", \"year\"</th>\n",
       "    </tr>\n",
       "  </thead>\n",
       "  <tbody>\n",
       "    <tr>\n",
       "      <th>0</th>\n",
       "      <td>0.022422</td>\n",
       "      <td>0.564591</td>\n",
       "      <td>0.022471</td>\n",
       "      <td>0.367910</td>\n",
       "      <td>0.022606</td>\n",
       "    </tr>\n",
       "    <tr>\n",
       "      <th>1</th>\n",
       "      <td>0.033801</td>\n",
       "      <td>0.864559</td>\n",
       "      <td>0.033851</td>\n",
       "      <td>0.034145</td>\n",
       "      <td>0.033644</td>\n",
       "    </tr>\n",
       "    <tr>\n",
       "      <th>2</th>\n",
       "      <td>0.050379</td>\n",
       "      <td>0.797104</td>\n",
       "      <td>0.051148</td>\n",
       "      <td>0.050563</td>\n",
       "      <td>0.050805</td>\n",
       "    </tr>\n",
       "    <tr>\n",
       "      <th>3</th>\n",
       "      <td>0.040219</td>\n",
       "      <td>0.839646</td>\n",
       "      <td>0.040030</td>\n",
       "      <td>0.040098</td>\n",
       "      <td>0.040008</td>\n",
       "    </tr>\n",
       "    <tr>\n",
       "      <th>4</th>\n",
       "      <td>0.040295</td>\n",
       "      <td>0.839420</td>\n",
       "      <td>0.040131</td>\n",
       "      <td>0.040004</td>\n",
       "      <td>0.040151</td>\n",
       "    </tr>\n",
       "  </tbody>\n",
       "</table>\n",
       "</div>"
      ],
      "text/plain": [
       "   \"tablet\", \"great\", \"app\", \"Amazon\", \"price\"  \\\n",
       "0                                     0.022422   \n",
       "1                                     0.033801   \n",
       "2                                     0.050379   \n",
       "3                                     0.040219   \n",
       "4                                     0.040295   \n",
       "\n",
       "   \"battery\", \"great\", \"price\", \"work\", \"long\"  \\\n",
       "0                                     0.564591   \n",
       "1                                     0.864559   \n",
       "2                                     0.797104   \n",
       "3                                     0.839646   \n",
       "4                                     0.839420   \n",
       "\n",
       "   \"easy\", \"read\", \"Kindle\", \"love\", \"kindle\"  \\\n",
       "0                                    0.022471   \n",
       "1                                    0.033851   \n",
       "2                                    0.051148   \n",
       "3                                    0.040030   \n",
       "4                                    0.040131   \n",
       "\n",
       "   \"charge\", \"device\", \"like\", \"work\", \"Amazon\"  \\\n",
       "0                                      0.367910   \n",
       "1                                      0.034145   \n",
       "2                                      0.050563   \n",
       "3                                      0.040098   \n",
       "4                                      0.040004   \n",
       "\n",
       "   \"love\", \"tablet\", \"kid\", \"old\", \"year\"  \n",
       "0                                0.022606  \n",
       "1                                0.033644  \n",
       "2                                0.050805  \n",
       "3                                0.040008  \n",
       "4                                0.040151  "
      ]
     },
     "execution_count": 50,
     "metadata": {},
     "output_type": "execute_result"
    }
   ],
   "source": [
    "topics.head()"
   ]
  },
  {
   "cell_type": "code",
   "execution_count": 51,
   "metadata": {},
   "outputs": [
    {
     "name": "stderr",
     "output_type": "stream",
     "text": [
      "/home/johnrivera/.virtualenvs/DS-Unit-4-Sprint-1-NLP-P3T_G5kE/lib/python3.8/site-packages/ipykernel/ipkernel.py:287: DeprecationWarning: `should_run_async` will not call `transform_cell` automatically in the future. Please pass the result to `transformed_cell` argument and any exception that happen during thetransform in `preprocessing_exc_tuple` in IPython 7.17 and above.\n",
      "  and should_run_async(code)\n"
     ]
    }
   ],
   "source": [
    "df['primary_topic'] = topics.idxmax(axis=1)\n"
   ]
  },
  {
   "cell_type": "code",
   "execution_count": 52,
   "metadata": {},
   "outputs": [
    {
     "name": "stderr",
     "output_type": "stream",
     "text": [
      "/home/johnrivera/.virtualenvs/DS-Unit-4-Sprint-1-NLP-P3T_G5kE/lib/python3.8/site-packages/ipykernel/ipkernel.py:287: DeprecationWarning: `should_run_async` will not call `transform_cell` automatically in the future. Please pass the result to `transformed_cell` argument and any exception that happen during thetransform in `preprocessing_exc_tuple` in IPython 7.17 and above.\n",
      "  and should_run_async(code)\n"
     ]
    },
    {
     "data": {
      "text/html": [
       "<div>\n",
       "<style scoped>\n",
       "    .dataframe tbody tr th:only-of-type {\n",
       "        vertical-align: middle;\n",
       "    }\n",
       "\n",
       "    .dataframe tbody tr th {\n",
       "        vertical-align: top;\n",
       "    }\n",
       "\n",
       "    .dataframe thead th {\n",
       "        text-align: right;\n",
       "    }\n",
       "</style>\n",
       "<table border=\"1\" class=\"dataframe\">\n",
       "  <thead>\n",
       "    <tr style=\"text-align: right;\">\n",
       "      <th></th>\n",
       "      <th>id</th>\n",
       "      <th>dateAdded</th>\n",
       "      <th>dateUpdated</th>\n",
       "      <th>name</th>\n",
       "      <th>asins</th>\n",
       "      <th>brand</th>\n",
       "      <th>categories</th>\n",
       "      <th>primaryCategories</th>\n",
       "      <th>imageURLs</th>\n",
       "      <th>keys</th>\n",
       "      <th>...</th>\n",
       "      <th>reviews.numHelpful</th>\n",
       "      <th>reviews.rating</th>\n",
       "      <th>reviews.sourceURLs</th>\n",
       "      <th>reviews.text</th>\n",
       "      <th>reviews.title</th>\n",
       "      <th>reviews.username</th>\n",
       "      <th>sourceURLs</th>\n",
       "      <th>tokens</th>\n",
       "      <th>clean_keywords</th>\n",
       "      <th>primary_topic</th>\n",
       "    </tr>\n",
       "  </thead>\n",
       "  <tbody>\n",
       "    <tr>\n",
       "      <th>0</th>\n",
       "      <td>AVpgNzjwLJeJML43Kpxn</td>\n",
       "      <td>2015-10-30T08:59:32Z</td>\n",
       "      <td>2019-04-25T09:08:16Z</td>\n",
       "      <td>AmazonBasics AAA Performance Alkaline Batteries (36 Count)</td>\n",
       "      <td>B00QWO9P0O,B00LH3DMUO</td>\n",
       "      <td>Amazonbasics</td>\n",
       "      <td>AA,AAA,Health,Electronics,Health &amp; Household,Camcorder Batteries,Camera &amp; Photo,Batteries,Househ...</td>\n",
       "      <td>Health &amp; Beauty</td>\n",
       "      <td>https://images-na.ssl-images-amazon.com/images/I/81qmNyJo%2BkL._SL1500_.jpg,https://images-na.ss...</td>\n",
       "      <td>amazonbasics/hl002619,amazonbasicsaaaperformancealkalinebatteries36count/b00lh3dmuo,084171010644...</td>\n",
       "      <td>...</td>\n",
       "      <td>NaN</td>\n",
       "      <td>3</td>\n",
       "      <td>https://www.amazon.com/product-reviews/B00QWO9P0O/</td>\n",
       "      <td>I order 3 of them and one of the item is bad quality. Is missing backup spring so I have to put ...</td>\n",
       "      <td>... 3 of them and one of the item is bad quality. Is missing backup spring so I have ...</td>\n",
       "      <td>Byger yang</td>\n",
       "      <td>https://www.barcodable.com/upc/841710106442,https://www.amazon.com/AmazonBasics-Performance-Alka...</td>\n",
       "      <td>[order, 3, item, bad, quality, miss, backup, spring, pc, aluminum, battery, work]</td>\n",
       "      <td>[3, item, quality, miss, backup, spring, pc, aluminum, battery, work]</td>\n",
       "      <td>\"battery\", \"great\", \"price\", \"work\", \"long\"</td>\n",
       "    </tr>\n",
       "    <tr>\n",
       "      <th>1</th>\n",
       "      <td>AVpgNzjwLJeJML43Kpxn</td>\n",
       "      <td>2015-10-30T08:59:32Z</td>\n",
       "      <td>2019-04-25T09:08:16Z</td>\n",
       "      <td>AmazonBasics AAA Performance Alkaline Batteries (36 Count)</td>\n",
       "      <td>B00QWO9P0O,B00LH3DMUO</td>\n",
       "      <td>Amazonbasics</td>\n",
       "      <td>AA,AAA,Health,Electronics,Health &amp; Household,Camcorder Batteries,Camera &amp; Photo,Batteries,Househ...</td>\n",
       "      <td>Health &amp; Beauty</td>\n",
       "      <td>https://images-na.ssl-images-amazon.com/images/I/81qmNyJo%2BkL._SL1500_.jpg,https://images-na.ss...</td>\n",
       "      <td>amazonbasics/hl002619,amazonbasicsaaaperformancealkalinebatteries36count/b00lh3dmuo,084171010644...</td>\n",
       "      <td>...</td>\n",
       "      <td>NaN</td>\n",
       "      <td>4</td>\n",
       "      <td>https://www.amazon.com/product-reviews/B00QWO9P0O/</td>\n",
       "      <td>Bulk is always the less expensive way to go for products like these</td>\n",
       "      <td>... always the less expensive way to go for products like</td>\n",
       "      <td>ByMG</td>\n",
       "      <td>https://www.barcodable.com/upc/841710106442,https://www.amazon.com/AmazonBasics-Performance-Alka...</td>\n",
       "      <td>[bulk, expensive, way, product, like]</td>\n",
       "      <td>[bulk, expensive, way, product, like]</td>\n",
       "      <td>\"battery\", \"great\", \"price\", \"work\", \"long\"</td>\n",
       "    </tr>\n",
       "    <tr>\n",
       "      <th>2</th>\n",
       "      <td>AVpgNzjwLJeJML43Kpxn</td>\n",
       "      <td>2015-10-30T08:59:32Z</td>\n",
       "      <td>2019-04-25T09:08:16Z</td>\n",
       "      <td>AmazonBasics AAA Performance Alkaline Batteries (36 Count)</td>\n",
       "      <td>B00QWO9P0O,B00LH3DMUO</td>\n",
       "      <td>Amazonbasics</td>\n",
       "      <td>AA,AAA,Health,Electronics,Health &amp; Household,Camcorder Batteries,Camera &amp; Photo,Batteries,Househ...</td>\n",
       "      <td>Health &amp; Beauty</td>\n",
       "      <td>https://images-na.ssl-images-amazon.com/images/I/81qmNyJo%2BkL._SL1500_.jpg,https://images-na.ss...</td>\n",
       "      <td>amazonbasics/hl002619,amazonbasicsaaaperformancealkalinebatteries36count/b00lh3dmuo,084171010644...</td>\n",
       "      <td>...</td>\n",
       "      <td>NaN</td>\n",
       "      <td>5</td>\n",
       "      <td>https://www.amazon.com/product-reviews/B00QWO9P0O/</td>\n",
       "      <td>Well they are not Duracell but for the price i am happy.</td>\n",
       "      <td>... are not Duracell but for the price i am happy.</td>\n",
       "      <td>BySharon Lambert</td>\n",
       "      <td>https://www.barcodable.com/upc/841710106442,https://www.amazon.com/AmazonBasics-Performance-Alka...</td>\n",
       "      <td>[Duracell, price, happy]</td>\n",
       "      <td>[Duracell, price, happy]</td>\n",
       "      <td>\"battery\", \"great\", \"price\", \"work\", \"long\"</td>\n",
       "    </tr>\n",
       "    <tr>\n",
       "      <th>3</th>\n",
       "      <td>AVpgNzjwLJeJML43Kpxn</td>\n",
       "      <td>2015-10-30T08:59:32Z</td>\n",
       "      <td>2019-04-25T09:08:16Z</td>\n",
       "      <td>AmazonBasics AAA Performance Alkaline Batteries (36 Count)</td>\n",
       "      <td>B00QWO9P0O,B00LH3DMUO</td>\n",
       "      <td>Amazonbasics</td>\n",
       "      <td>AA,AAA,Health,Electronics,Health &amp; Household,Camcorder Batteries,Camera &amp; Photo,Batteries,Househ...</td>\n",
       "      <td>Health &amp; Beauty</td>\n",
       "      <td>https://images-na.ssl-images-amazon.com/images/I/81qmNyJo%2BkL._SL1500_.jpg,https://images-na.ss...</td>\n",
       "      <td>amazonbasics/hl002619,amazonbasicsaaaperformancealkalinebatteries36count/b00lh3dmuo,084171010644...</td>\n",
       "      <td>...</td>\n",
       "      <td>NaN</td>\n",
       "      <td>5</td>\n",
       "      <td>https://www.amazon.com/product-reviews/B00QWO9P0O/</td>\n",
       "      <td>Seem to work as well as name brand batteries at a much better price</td>\n",
       "      <td>... as well as name brand batteries at a much better</td>\n",
       "      <td>Bymark sexson</td>\n",
       "      <td>https://www.barcodable.com/upc/841710106442,https://www.amazon.com/AmazonBasics-Performance-Alka...</td>\n",
       "      <td>[work, brand, battery, well, price]</td>\n",
       "      <td>[work, brand, battery, price]</td>\n",
       "      <td>\"battery\", \"great\", \"price\", \"work\", \"long\"</td>\n",
       "    </tr>\n",
       "    <tr>\n",
       "      <th>4</th>\n",
       "      <td>AVpgNzjwLJeJML43Kpxn</td>\n",
       "      <td>2015-10-30T08:59:32Z</td>\n",
       "      <td>2019-04-25T09:08:16Z</td>\n",
       "      <td>AmazonBasics AAA Performance Alkaline Batteries (36 Count)</td>\n",
       "      <td>B00QWO9P0O,B00LH3DMUO</td>\n",
       "      <td>Amazonbasics</td>\n",
       "      <td>AA,AAA,Health,Electronics,Health &amp; Household,Camcorder Batteries,Camera &amp; Photo,Batteries,Househ...</td>\n",
       "      <td>Health &amp; Beauty</td>\n",
       "      <td>https://images-na.ssl-images-amazon.com/images/I/81qmNyJo%2BkL._SL1500_.jpg,https://images-na.ss...</td>\n",
       "      <td>amazonbasics/hl002619,amazonbasicsaaaperformancealkalinebatteries36count/b00lh3dmuo,084171010644...</td>\n",
       "      <td>...</td>\n",
       "      <td>NaN</td>\n",
       "      <td>5</td>\n",
       "      <td>https://www.amazon.com/product-reviews/B00QWO9P0O/</td>\n",
       "      <td>These batteries are very long lasting the price is great.</td>\n",
       "      <td>... batteries are very long lasting the price is great.</td>\n",
       "      <td>Bylinda</td>\n",
       "      <td>https://www.barcodable.com/upc/841710106442,https://www.amazon.com/AmazonBasics-Performance-Alka...</td>\n",
       "      <td>[battery, long, last, price, great]</td>\n",
       "      <td>[battery, long, price, great]</td>\n",
       "      <td>\"battery\", \"great\", \"price\", \"work\", \"long\"</td>\n",
       "    </tr>\n",
       "  </tbody>\n",
       "</table>\n",
       "<p>5 rows × 27 columns</p>\n",
       "</div>"
      ],
      "text/plain": [
       "                     id             dateAdded           dateUpdated  \\\n",
       "0  AVpgNzjwLJeJML43Kpxn  2015-10-30T08:59:32Z  2019-04-25T09:08:16Z   \n",
       "1  AVpgNzjwLJeJML43Kpxn  2015-10-30T08:59:32Z  2019-04-25T09:08:16Z   \n",
       "2  AVpgNzjwLJeJML43Kpxn  2015-10-30T08:59:32Z  2019-04-25T09:08:16Z   \n",
       "3  AVpgNzjwLJeJML43Kpxn  2015-10-30T08:59:32Z  2019-04-25T09:08:16Z   \n",
       "4  AVpgNzjwLJeJML43Kpxn  2015-10-30T08:59:32Z  2019-04-25T09:08:16Z   \n",
       "\n",
       "                                                         name  \\\n",
       "0  AmazonBasics AAA Performance Alkaline Batteries (36 Count)   \n",
       "1  AmazonBasics AAA Performance Alkaline Batteries (36 Count)   \n",
       "2  AmazonBasics AAA Performance Alkaline Batteries (36 Count)   \n",
       "3  AmazonBasics AAA Performance Alkaline Batteries (36 Count)   \n",
       "4  AmazonBasics AAA Performance Alkaline Batteries (36 Count)   \n",
       "\n",
       "                   asins         brand  \\\n",
       "0  B00QWO9P0O,B00LH3DMUO  Amazonbasics   \n",
       "1  B00QWO9P0O,B00LH3DMUO  Amazonbasics   \n",
       "2  B00QWO9P0O,B00LH3DMUO  Amazonbasics   \n",
       "3  B00QWO9P0O,B00LH3DMUO  Amazonbasics   \n",
       "4  B00QWO9P0O,B00LH3DMUO  Amazonbasics   \n",
       "\n",
       "                                                                                            categories  \\\n",
       "0  AA,AAA,Health,Electronics,Health & Household,Camcorder Batteries,Camera & Photo,Batteries,Househ...   \n",
       "1  AA,AAA,Health,Electronics,Health & Household,Camcorder Batteries,Camera & Photo,Batteries,Househ...   \n",
       "2  AA,AAA,Health,Electronics,Health & Household,Camcorder Batteries,Camera & Photo,Batteries,Househ...   \n",
       "3  AA,AAA,Health,Electronics,Health & Household,Camcorder Batteries,Camera & Photo,Batteries,Househ...   \n",
       "4  AA,AAA,Health,Electronics,Health & Household,Camcorder Batteries,Camera & Photo,Batteries,Househ...   \n",
       "\n",
       "  primaryCategories  \\\n",
       "0   Health & Beauty   \n",
       "1   Health & Beauty   \n",
       "2   Health & Beauty   \n",
       "3   Health & Beauty   \n",
       "4   Health & Beauty   \n",
       "\n",
       "                                                                                             imageURLs  \\\n",
       "0  https://images-na.ssl-images-amazon.com/images/I/81qmNyJo%2BkL._SL1500_.jpg,https://images-na.ss...   \n",
       "1  https://images-na.ssl-images-amazon.com/images/I/81qmNyJo%2BkL._SL1500_.jpg,https://images-na.ss...   \n",
       "2  https://images-na.ssl-images-amazon.com/images/I/81qmNyJo%2BkL._SL1500_.jpg,https://images-na.ss...   \n",
       "3  https://images-na.ssl-images-amazon.com/images/I/81qmNyJo%2BkL._SL1500_.jpg,https://images-na.ss...   \n",
       "4  https://images-na.ssl-images-amazon.com/images/I/81qmNyJo%2BkL._SL1500_.jpg,https://images-na.ss...   \n",
       "\n",
       "                                                                                                  keys  \\\n",
       "0  amazonbasics/hl002619,amazonbasicsaaaperformancealkalinebatteries36count/b00lh3dmuo,084171010644...   \n",
       "1  amazonbasics/hl002619,amazonbasicsaaaperformancealkalinebatteries36count/b00lh3dmuo,084171010644...   \n",
       "2  amazonbasics/hl002619,amazonbasicsaaaperformancealkalinebatteries36count/b00lh3dmuo,084171010644...   \n",
       "3  amazonbasics/hl002619,amazonbasicsaaaperformancealkalinebatteries36count/b00lh3dmuo,084171010644...   \n",
       "4  amazonbasics/hl002619,amazonbasicsaaaperformancealkalinebatteries36count/b00lh3dmuo,084171010644...   \n",
       "\n",
       "   ... reviews.numHelpful reviews.rating  \\\n",
       "0  ...                NaN              3   \n",
       "1  ...                NaN              4   \n",
       "2  ...                NaN              5   \n",
       "3  ...                NaN              5   \n",
       "4  ...                NaN              5   \n",
       "\n",
       "                                   reviews.sourceURLs  \\\n",
       "0  https://www.amazon.com/product-reviews/B00QWO9P0O/   \n",
       "1  https://www.amazon.com/product-reviews/B00QWO9P0O/   \n",
       "2  https://www.amazon.com/product-reviews/B00QWO9P0O/   \n",
       "3  https://www.amazon.com/product-reviews/B00QWO9P0O/   \n",
       "4  https://www.amazon.com/product-reviews/B00QWO9P0O/   \n",
       "\n",
       "                                                                                          reviews.text  \\\n",
       "0  I order 3 of them and one of the item is bad quality. Is missing backup spring so I have to put ...   \n",
       "1                                  Bulk is always the less expensive way to go for products like these   \n",
       "2                                             Well they are not Duracell but for the price i am happy.   \n",
       "3                                  Seem to work as well as name brand batteries at a much better price   \n",
       "4                                            These batteries are very long lasting the price is great.   \n",
       "\n",
       "                                                                              reviews.title  \\\n",
       "0  ... 3 of them and one of the item is bad quality. Is missing backup spring so I have ...   \n",
       "1                                 ... always the less expensive way to go for products like   \n",
       "2                                        ... are not Duracell but for the price i am happy.   \n",
       "3                                      ... as well as name brand batteries at a much better   \n",
       "4                                   ... batteries are very long lasting the price is great.   \n",
       "\n",
       "   reviews.username  \\\n",
       "0        Byger yang   \n",
       "1              ByMG   \n",
       "2  BySharon Lambert   \n",
       "3     Bymark sexson   \n",
       "4           Bylinda   \n",
       "\n",
       "                                                                                            sourceURLs  \\\n",
       "0  https://www.barcodable.com/upc/841710106442,https://www.amazon.com/AmazonBasics-Performance-Alka...   \n",
       "1  https://www.barcodable.com/upc/841710106442,https://www.amazon.com/AmazonBasics-Performance-Alka...   \n",
       "2  https://www.barcodable.com/upc/841710106442,https://www.amazon.com/AmazonBasics-Performance-Alka...   \n",
       "3  https://www.barcodable.com/upc/841710106442,https://www.amazon.com/AmazonBasics-Performance-Alka...   \n",
       "4  https://www.barcodable.com/upc/841710106442,https://www.amazon.com/AmazonBasics-Performance-Alka...   \n",
       "\n",
       "                                                                              tokens  \\\n",
       "0  [order, 3, item, bad, quality, miss, backup, spring, pc, aluminum, battery, work]   \n",
       "1                                              [bulk, expensive, way, product, like]   \n",
       "2                                                           [Duracell, price, happy]   \n",
       "3                                                [work, brand, battery, well, price]   \n",
       "4                                                [battery, long, last, price, great]   \n",
       "\n",
       "                                                          clean_keywords  \\\n",
       "0  [3, item, quality, miss, backup, spring, pc, aluminum, battery, work]   \n",
       "1                                  [bulk, expensive, way, product, like]   \n",
       "2                                               [Duracell, price, happy]   \n",
       "3                                          [work, brand, battery, price]   \n",
       "4                                          [battery, long, price, great]   \n",
       "\n",
       "                                 primary_topic  \n",
       "0  \"battery\", \"great\", \"price\", \"work\", \"long\"  \n",
       "1  \"battery\", \"great\", \"price\", \"work\", \"long\"  \n",
       "2  \"battery\", \"great\", \"price\", \"work\", \"long\"  \n",
       "3  \"battery\", \"great\", \"price\", \"work\", \"long\"  \n",
       "4  \"battery\", \"great\", \"price\", \"work\", \"long\"  \n",
       "\n",
       "[5 rows x 27 columns]"
      ]
     },
     "execution_count": 52,
     "metadata": {},
     "output_type": "execute_result"
    }
   ],
   "source": [
    "df.head()\n"
   ]
  },
  {
   "cell_type": "code",
   "execution_count": 56,
   "metadata": {},
   "outputs": [
    {
     "name": "stderr",
     "output_type": "stream",
     "text": [
      "/home/johnrivera/.virtualenvs/DS-Unit-4-Sprint-1-NLP-P3T_G5kE/lib/python3.8/site-packages/ipykernel/ipkernel.py:287: DeprecationWarning: `should_run_async` will not call `transform_cell` automatically in the future. Please pass the result to `transformed_cell` argument and any exception that happen during thetransform in `preprocessing_exc_tuple` in IPython 7.17 and above.\n",
      "  and should_run_async(code)\n"
     ]
    },
    {
     "data": {
      "text/plain": [
       "\"battery\", \"great\", \"price\", \"work\", \"long\"     11285\n",
       "\"love\", \"tablet\", \"kid\", \"old\", \"year\"           6229\n",
       "\"tablet\", \"great\", \"app\", \"Amazon\", \"price\"      4588\n",
       "\"easy\", \"read\", \"Kindle\", \"love\", \"kindle\"       3877\n",
       "\"charge\", \"device\", \"like\", \"work\", \"Amazon\"     2353\n",
       "Name: primary_topic, dtype: int64"
      ]
     },
     "execution_count": 56,
     "metadata": {},
     "output_type": "execute_result"
    }
   ],
   "source": [
    "df['primary_topic'].value_counts()\n"
   ]
  },
  {
   "cell_type": "code",
   "execution_count": 62,
   "metadata": {},
   "outputs": [
    {
     "name": "stderr",
     "output_type": "stream",
     "text": [
      "/home/johnrivera/.virtualenvs/DS-Unit-4-Sprint-1-NLP-P3T_G5kE/lib/python3.8/site-packages/ipykernel/ipkernel.py:287: DeprecationWarning: `should_run_async` will not call `transform_cell` automatically in the future. Please pass the result to `transformed_cell` argument and any exception that happen during thetransform in `preprocessing_exc_tuple` in IPython 7.17 and above.\n",
      "  and should_run_async(code)\n"
     ]
    },
    {
     "data": {
      "text/html": [
       "<div>\n",
       "<style scoped>\n",
       "    .dataframe tbody tr th:only-of-type {\n",
       "        vertical-align: middle;\n",
       "    }\n",
       "\n",
       "    .dataframe tbody tr th {\n",
       "        vertical-align: top;\n",
       "    }\n",
       "\n",
       "    .dataframe thead tr th {\n",
       "        text-align: left;\n",
       "    }\n",
       "\n",
       "    .dataframe thead tr:last-of-type th {\n",
       "        text-align: right;\n",
       "    }\n",
       "</style>\n",
       "<table border=\"1\" class=\"dataframe\">\n",
       "  <thead>\n",
       "    <tr>\n",
       "      <th></th>\n",
       "      <th colspan=\"5\" halign=\"left\">reviews.text</th>\n",
       "    </tr>\n",
       "    <tr>\n",
       "      <th>reviews.rating</th>\n",
       "      <th>1</th>\n",
       "      <th>2</th>\n",
       "      <th>3</th>\n",
       "      <th>4</th>\n",
       "      <th>5</th>\n",
       "    </tr>\n",
       "    <tr>\n",
       "      <th>primary_topic</th>\n",
       "      <th></th>\n",
       "      <th></th>\n",
       "      <th></th>\n",
       "      <th></th>\n",
       "      <th></th>\n",
       "    </tr>\n",
       "  </thead>\n",
       "  <tbody>\n",
       "    <tr>\n",
       "      <th>\"battery\", \"great\", \"price\", \"work\", \"long\"</th>\n",
       "      <td>616</td>\n",
       "      <td>350</td>\n",
       "      <td>483</td>\n",
       "      <td>1398</td>\n",
       "      <td>8438</td>\n",
       "    </tr>\n",
       "    <tr>\n",
       "      <th>\"charge\", \"device\", \"like\", \"work\", \"Amazon\"</th>\n",
       "      <td>239</td>\n",
       "      <td>126</td>\n",
       "      <td>159</td>\n",
       "      <td>584</td>\n",
       "      <td>1245</td>\n",
       "    </tr>\n",
       "    <tr>\n",
       "      <th>\"easy\", \"read\", \"Kindle\", \"love\", \"kindle\"</th>\n",
       "      <td>21</td>\n",
       "      <td>33</td>\n",
       "      <td>84</td>\n",
       "      <td>810</td>\n",
       "      <td>2929</td>\n",
       "    </tr>\n",
       "    <tr>\n",
       "      <th>\"love\", \"tablet\", \"kid\", \"old\", \"year\"</th>\n",
       "      <td>28</td>\n",
       "      <td>26</td>\n",
       "      <td>142</td>\n",
       "      <td>1367</td>\n",
       "      <td>4666</td>\n",
       "    </tr>\n",
       "    <tr>\n",
       "      <th>\"tablet\", \"great\", \"app\", \"Amazon\", \"price\"</th>\n",
       "      <td>61</td>\n",
       "      <td>81</td>\n",
       "      <td>338</td>\n",
       "      <td>1489</td>\n",
       "      <td>2619</td>\n",
       "    </tr>\n",
       "  </tbody>\n",
       "</table>\n",
       "</div>"
      ],
      "text/plain": [
       "                                             reviews.text                  \\\n",
       "reviews.rating                                          1    2    3     4   \n",
       "primary_topic                                                               \n",
       "\"battery\", \"great\", \"price\", \"work\", \"long\"           616  350  483  1398   \n",
       "\"charge\", \"device\", \"like\", \"work\", \"Amazon\"          239  126  159   584   \n",
       "\"easy\", \"read\", \"Kindle\", \"love\", \"kindle\"             21   33   84   810   \n",
       "\"love\", \"tablet\", \"kid\", \"old\", \"year\"                 28   26  142  1367   \n",
       "\"tablet\", \"great\", \"app\", \"Amazon\", \"price\"            61   81  338  1489   \n",
       "\n",
       "                                                    \n",
       "reviews.rating                                   5  \n",
       "primary_topic                                       \n",
       "\"battery\", \"great\", \"price\", \"work\", \"long\"   8438  \n",
       "\"charge\", \"device\", \"like\", \"work\", \"Amazon\"  1245  \n",
       "\"easy\", \"read\", \"Kindle\", \"love\", \"kindle\"    2929  \n",
       "\"love\", \"tablet\", \"kid\", \"old\", \"year\"        4666  \n",
       "\"tablet\", \"great\", \"app\", \"Amazon\", \"price\"   2619  "
      ]
     },
     "execution_count": 62,
     "metadata": {},
     "output_type": "execute_result"
    }
   ],
   "source": [
    "agg = pd.pivot_table(df, values=['reviews.text'], \n",
    "                     index=['primary_topic'], \n",
    "                     columns=['reviews.rating'], aggfunc='count')\n",
    "agg"
   ]
  },
  {
   "cell_type": "code",
   "execution_count": 63,
   "metadata": {},
   "outputs": [
    {
     "name": "stderr",
     "output_type": "stream",
     "text": [
      "/home/johnrivera/.virtualenvs/DS-Unit-4-Sprint-1-NLP-P3T_G5kE/lib/python3.8/site-packages/ipykernel/ipkernel.py:287: DeprecationWarning: `should_run_async` will not call `transform_cell` automatically in the future. Please pass the result to `transformed_cell` argument and any exception that happen during thetransform in `preprocessing_exc_tuple` in IPython 7.17 and above.\n",
      "  and should_run_async(code)\n"
     ]
    },
    {
     "data": {
      "text/html": [
       "<div>\n",
       "<style scoped>\n",
       "    .dataframe tbody tr th:only-of-type {\n",
       "        vertical-align: middle;\n",
       "    }\n",
       "\n",
       "    .dataframe tbody tr th {\n",
       "        vertical-align: top;\n",
       "    }\n",
       "\n",
       "    .dataframe thead tr th {\n",
       "        text-align: left;\n",
       "    }\n",
       "</style>\n",
       "<table border=\"1\" class=\"dataframe\">\n",
       "  <thead>\n",
       "    <tr>\n",
       "      <th></th>\n",
       "      <th>primary_topic</th>\n",
       "      <th colspan=\"5\" halign=\"left\">reviews.text</th>\n",
       "    </tr>\n",
       "    <tr>\n",
       "      <th>reviews.rating</th>\n",
       "      <th></th>\n",
       "      <th>1</th>\n",
       "      <th>2</th>\n",
       "      <th>3</th>\n",
       "      <th>4</th>\n",
       "      <th>5</th>\n",
       "    </tr>\n",
       "  </thead>\n",
       "  <tbody>\n",
       "    <tr>\n",
       "      <th>0</th>\n",
       "      <td>\"battery\", \"great\", \"price\", \"work\", \"long\"</td>\n",
       "      <td>616</td>\n",
       "      <td>350</td>\n",
       "      <td>483</td>\n",
       "      <td>1398</td>\n",
       "      <td>8438</td>\n",
       "    </tr>\n",
       "    <tr>\n",
       "      <th>1</th>\n",
       "      <td>\"charge\", \"device\", \"like\", \"work\", \"Amazon\"</td>\n",
       "      <td>239</td>\n",
       "      <td>126</td>\n",
       "      <td>159</td>\n",
       "      <td>584</td>\n",
       "      <td>1245</td>\n",
       "    </tr>\n",
       "    <tr>\n",
       "      <th>2</th>\n",
       "      <td>\"easy\", \"read\", \"Kindle\", \"love\", \"kindle\"</td>\n",
       "      <td>21</td>\n",
       "      <td>33</td>\n",
       "      <td>84</td>\n",
       "      <td>810</td>\n",
       "      <td>2929</td>\n",
       "    </tr>\n",
       "    <tr>\n",
       "      <th>3</th>\n",
       "      <td>\"love\", \"tablet\", \"kid\", \"old\", \"year\"</td>\n",
       "      <td>28</td>\n",
       "      <td>26</td>\n",
       "      <td>142</td>\n",
       "      <td>1367</td>\n",
       "      <td>4666</td>\n",
       "    </tr>\n",
       "    <tr>\n",
       "      <th>4</th>\n",
       "      <td>\"tablet\", \"great\", \"app\", \"Amazon\", \"price\"</td>\n",
       "      <td>61</td>\n",
       "      <td>81</td>\n",
       "      <td>338</td>\n",
       "      <td>1489</td>\n",
       "      <td>2619</td>\n",
       "    </tr>\n",
       "  </tbody>\n",
       "</table>\n",
       "</div>"
      ],
      "text/plain": [
       "                                               primary_topic reviews.text  \\\n",
       "reviews.rating                                                          1   \n",
       "0                \"battery\", \"great\", \"price\", \"work\", \"long\"          616   \n",
       "1               \"charge\", \"device\", \"like\", \"work\", \"Amazon\"          239   \n",
       "2                 \"easy\", \"read\", \"Kindle\", \"love\", \"kindle\"           21   \n",
       "3                     \"love\", \"tablet\", \"kid\", \"old\", \"year\"           28   \n",
       "4                \"tablet\", \"great\", \"app\", \"Amazon\", \"price\"           61   \n",
       "\n",
       "                                      \n",
       "reviews.rating    2    3     4     5  \n",
       "0               350  483  1398  8438  \n",
       "1               126  159   584  1245  \n",
       "2                33   84   810  2929  \n",
       "3                26  142  1367  4666  \n",
       "4                81  338  1489  2619  "
      ]
     },
     "execution_count": 63,
     "metadata": {},
     "output_type": "execute_result"
    }
   ],
   "source": [
    "agg = agg.reset_index()\n",
    "agg"
   ]
  },
  {
   "cell_type": "code",
   "execution_count": 64,
   "metadata": {},
   "outputs": [
    {
     "name": "stderr",
     "output_type": "stream",
     "text": [
      "/home/johnrivera/.virtualenvs/DS-Unit-4-Sprint-1-NLP-P3T_G5kE/lib/python3.8/site-packages/ipykernel/ipkernel.py:287: DeprecationWarning: `should_run_async` will not call `transform_cell` automatically in the future. Please pass the result to `transformed_cell` argument and any exception that happen during thetransform in `preprocessing_exc_tuple` in IPython 7.17 and above.\n",
      "  and should_run_async(code)\n"
     ]
    },
    {
     "data": {
      "text/html": [
       "<div>\n",
       "<style scoped>\n",
       "    .dataframe tbody tr th:only-of-type {\n",
       "        vertical-align: middle;\n",
       "    }\n",
       "\n",
       "    .dataframe tbody tr th {\n",
       "        vertical-align: top;\n",
       "    }\n",
       "\n",
       "    .dataframe thead th {\n",
       "        text-align: right;\n",
       "    }\n",
       "</style>\n",
       "<table border=\"1\" class=\"dataframe\">\n",
       "  <thead>\n",
       "    <tr style=\"text-align: right;\">\n",
       "      <th></th>\n",
       "      <th>primary_topic</th>\n",
       "      <th>1</th>\n",
       "      <th>2</th>\n",
       "      <th>3</th>\n",
       "      <th>4</th>\n",
       "      <th>5</th>\n",
       "    </tr>\n",
       "  </thead>\n",
       "  <tbody>\n",
       "    <tr>\n",
       "      <th>0</th>\n",
       "      <td>\"battery\", \"great\", \"price\", \"work\", \"long\"</td>\n",
       "      <td>616</td>\n",
       "      <td>350</td>\n",
       "      <td>483</td>\n",
       "      <td>1398</td>\n",
       "      <td>8438</td>\n",
       "    </tr>\n",
       "    <tr>\n",
       "      <th>1</th>\n",
       "      <td>\"charge\", \"device\", \"like\", \"work\", \"Amazon\"</td>\n",
       "      <td>239</td>\n",
       "      <td>126</td>\n",
       "      <td>159</td>\n",
       "      <td>584</td>\n",
       "      <td>1245</td>\n",
       "    </tr>\n",
       "    <tr>\n",
       "      <th>2</th>\n",
       "      <td>\"easy\", \"read\", \"Kindle\", \"love\", \"kindle\"</td>\n",
       "      <td>21</td>\n",
       "      <td>33</td>\n",
       "      <td>84</td>\n",
       "      <td>810</td>\n",
       "      <td>2929</td>\n",
       "    </tr>\n",
       "    <tr>\n",
       "      <th>3</th>\n",
       "      <td>\"love\", \"tablet\", \"kid\", \"old\", \"year\"</td>\n",
       "      <td>28</td>\n",
       "      <td>26</td>\n",
       "      <td>142</td>\n",
       "      <td>1367</td>\n",
       "      <td>4666</td>\n",
       "    </tr>\n",
       "    <tr>\n",
       "      <th>4</th>\n",
       "      <td>\"tablet\", \"great\", \"app\", \"Amazon\", \"price\"</td>\n",
       "      <td>61</td>\n",
       "      <td>81</td>\n",
       "      <td>338</td>\n",
       "      <td>1489</td>\n",
       "      <td>2619</td>\n",
       "    </tr>\n",
       "  </tbody>\n",
       "</table>\n",
       "</div>"
      ],
      "text/plain": [
       "                                  primary_topic    1    2    3     4     5\n",
       "0   \"battery\", \"great\", \"price\", \"work\", \"long\"  616  350  483  1398  8438\n",
       "1  \"charge\", \"device\", \"like\", \"work\", \"Amazon\"  239  126  159   584  1245\n",
       "2    \"easy\", \"read\", \"Kindle\", \"love\", \"kindle\"   21   33   84   810  2929\n",
       "3        \"love\", \"tablet\", \"kid\", \"old\", \"year\"   28   26  142  1367  4666\n",
       "4   \"tablet\", \"great\", \"app\", \"Amazon\", \"price\"   61   81  338  1489  2619"
      ]
     },
     "execution_count": 64,
     "metadata": {},
     "output_type": "execute_result"
    }
   ],
   "source": [
    "agg.columns = ['primary_topic', '1','2','3','4','5']\n",
    "agg.head()"
   ]
  },
  {
   "cell_type": "code",
   "execution_count": 86,
   "metadata": {},
   "outputs": [
    {
     "name": "stderr",
     "output_type": "stream",
     "text": [
      "/home/johnrivera/.virtualenvs/DS-Unit-4-Sprint-1-NLP-P3T_G5kE/lib/python3.8/site-packages/ipykernel/ipkernel.py:287: DeprecationWarning: `should_run_async` will not call `transform_cell` automatically in the future. Please pass the result to `transformed_cell` argument and any exception that happen during thetransform in `preprocessing_exc_tuple` in IPython 7.17 and above.\n",
      "  and should_run_async(code)\n"
     ]
    },
    {
     "data": {
      "image/png": "[encoded data removed]",
      "text/plain": [
       "<Figure size 720x1080 with 1 Axes>"
      ]
     },
     "metadata": {},
     "output_type": "display_data"
    }
   ],
   "source": [
    "import seaborn as sns\n",
    "import matplotlib.pyplot as plt\n",
    "\n",
    "sns.set(style=\"whitegrid\")\n",
    "\n",
    "# Initialize the matplotlib figure\n",
    "f, ax = plt.subplots(figsize=(10, 15))\n",
    "\n",
    "sns.set_color_codes('pastel')\n",
    "sns.barplot(x='1', y='primary_topic', data=agg, label=\"Rating1\", color=\"b\")\n",
    "\n",
    "sns.set_color_codes('muted')\n",
    "sns.barplot(x='2', y='primary_topic', data=agg, label=\"Rating2\", color=\"r\")\n",
    "\n",
    "sns.set_color_codes('deep')\n",
    "sns.barplot(x='3', y='primary_topic', data=agg, label=\"Rating3\", color=\"g\")\n",
    "\n",
    "\n",
    "sns.barplot(x='4', y='primary_topic', data=agg, label=\"Rating4\", color=\"y\")\n",
    "\n",
    "sns.barplot(x='5', y='primary_topic', data=agg, label=\"Rating5\", color=\"r\")\n",
    "\n",
    "ax.legend(ncol=5, loc=\"lower right\", frameon=True)\n",
    "ax.set(xlim=(0,5000), ylabel=\"\", xlabel=\"Count of Reviews\")\n",
    "sns.despine(left=True, bottom=True)"
   ]
  },
  {
   "cell_type": "markdown",
   "metadata": {},
   "source": []
  },
  {
   "cell_type": "markdown",
   "metadata": {},
   "source": [
    "## Stretch Goals\n",
    "\n",
    "* Incorporate Named Entity Recognition in your analysis\n",
    "* Incorporate some custom pre-processing from our previous lessons (like spacy lemmatization)\n",
    "* Analyze a dataset of interest to you with topic modeling"
   ]
  }
 ],
 "metadata": {
  "kernelspec": {
   "display_name": "U4-S1-NLP (Python3)",
   "language": "python",
   "name": "u4-s1-nlp"
  },
  "language_info": {
   "codemirror_mode": {
    "name": "ipython",
    "version": 3
   },
   "file_extension": ".py",
   "mimetype": "text/x-python",
   "name": "python",
   "nbconvert_exporter": "python",
   "pygments_lexer": "ipython3",
   "version": "3.8.5"
  }
 },
 "nbformat": 4,
 "nbformat_minor": 4
}
