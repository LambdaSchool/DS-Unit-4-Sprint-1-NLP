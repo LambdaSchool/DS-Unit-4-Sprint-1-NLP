{
 "cells": [
  {
   "cell_type": "markdown",
   "metadata": {},
   "source": [
    "# Topic Modeling\n",
    "\n",
    "## *Data Science Unit 4 Sprint 1 Assignment 4*\n",
    "\n",
    "### Tobias Reaper"
   ]
  },
  {
   "cell_type": "markdown",
   "metadata": {},
   "source": [
    "---\n",
    "---\n",
    "\n",
    "## Assignment\n",
    "\n",
    "Analyze a corpus of Amazon reviews from Unit 4 Sprint 1 Module 1's lecture using topic modeling: \n",
    "\n",
    "- <a href=\"#p1\">Fit a Gensim LDA topic model on Amazon Reviews</a>\n",
    "- <a href=\"#p2\">Select appropriate number of topics</a>\n",
    "- <a href=\"#p3\">Create some dope visualization of the topics</a>\n",
    "- <a href=\"#p4\">Write a few bullets on your findings in markdown at the end</a>\n",
    "\n",
    "**Note**: You don't *have* to use generators for this assignment\n",
    "\n",
    "<a href=\"#stretch\">Stretch</a>\n",
    "  \n",
    "- Named Entities\n",
    "- Custom pre-processing\n",
    "- Other data"
   ]
  },
  {
   "cell_type": "markdown",
   "metadata": {},
   "source": [
    "---\n",
    "\n",
    "## Resources\n",
    "\n",
    "- [414 Lecture - Topic Modeling](https://youtu.be/vD5155Hqarg)\n",
    "- [Topic Modeling with LDA](https://www.youtube.com/watch?v=NYkbqzTlW3w)\n",
    "- [lettier.com](https://lettier.com/projects/lda-topic-modeling/)\n",
    "- [gensim](https://radimrehurek.com/gensim/)\n",
    "  - [tm w gensim](http://www.machinelearningplus.com/nlp/topic-modeling-gensim-python/)\n",
    "- [pyLDAviz](https://github.com/bmabey/pyLDAvis)"
   ]
  },
  {
   "cell_type": "markdown",
   "metadata": {},
   "source": [
    "---\n",
    "---\n",
    "\n",
    "## Imports and Config"
   ]
  },
  {
   "cell_type": "code",
   "execution_count": 1,
   "metadata": {},
   "outputs": [],
   "source": [
    "# === The Basix === #\n",
    "import numpy as np\n",
    "import pandas as pd\n",
    "import os\n",
    "import re\n",
    "import spacy\n",
    "\n",
    "# === gensim imports === #\n",
    "from gensim.utils import simple_preprocess\n",
    "from gensim.parsing.preprocessing import STOPWORDS\n",
    "from gensim import corpora\n",
    "from gensim.models.ldamulticore import LdaMulticore"
   ]
  },
  {
   "cell_type": "code",
   "execution_count": 2,
   "metadata": {},
   "outputs": [],
   "source": [
    "# Pandas display configuration\n",
    "pd.options.display.max_columns = 100"
   ]
  },
  {
   "cell_type": "markdown",
   "metadata": {},
   "source": [
    "### Load and Look at Dataset"
   ]
  },
  {
   "cell_type": "code",
   "execution_count": 3,
   "metadata": {},
   "outputs": [],
   "source": [
    "# First we'll have to load the dataset\n",
    "\n",
    "# Create absolute path to dataset\n",
    "data_dir = \"/Users/Tobias/workshop/buildbox/nlp/DS-Unit-4-Sprint-1-NLP/module1-text-data/data\"\n",
    "data_file = \"Datafiniti_Amazon_Consumer_Reviews_of_Amazon_Products_May19.csv\"\n",
    "data_path = os.path.join(data_dir, data_file)\n",
    "\n",
    "# Load data into dataframe (no streaming...yet)\n",
    "df1 = pd.read_csv(data_path)"
   ]
  },
  {
   "cell_type": "code",
   "execution_count": 4,
   "metadata": {},
   "outputs": [
    {
     "name": "stdout",
     "output_type": "stream",
     "text": [
      "(28332, 24)\n"
     ]
    },
    {
     "data": {
      "text/html": [
       "<div>\n",
       "<style scoped>\n",
       "    .dataframe tbody tr th:only-of-type {\n",
       "        vertical-align: middle;\n",
       "    }\n",
       "\n",
       "    .dataframe tbody tr th {\n",
       "        vertical-align: top;\n",
       "    }\n",
       "\n",
       "    .dataframe thead th {\n",
       "        text-align: right;\n",
       "    }\n",
       "</style>\n",
       "<table border=\"1\" class=\"dataframe\">\n",
       "  <thead>\n",
       "    <tr style=\"text-align: right;\">\n",
       "      <th></th>\n",
       "      <th>id</th>\n",
       "      <th>dateAdded</th>\n",
       "      <th>dateUpdated</th>\n",
       "      <th>name</th>\n",
       "      <th>asins</th>\n",
       "      <th>brand</th>\n",
       "      <th>categories</th>\n",
       "      <th>primaryCategories</th>\n",
       "      <th>imageURLs</th>\n",
       "      <th>keys</th>\n",
       "      <th>manufacturer</th>\n",
       "      <th>manufacturerNumber</th>\n",
       "      <th>reviews.date</th>\n",
       "      <th>reviews.dateSeen</th>\n",
       "      <th>reviews.didPurchase</th>\n",
       "      <th>reviews.doRecommend</th>\n",
       "      <th>reviews.id</th>\n",
       "      <th>reviews.numHelpful</th>\n",
       "      <th>reviews.rating</th>\n",
       "      <th>reviews.sourceURLs</th>\n",
       "      <th>reviews.text</th>\n",
       "      <th>reviews.title</th>\n",
       "      <th>reviews.username</th>\n",
       "      <th>sourceURLs</th>\n",
       "    </tr>\n",
       "  </thead>\n",
       "  <tbody>\n",
       "    <tr>\n",
       "      <th>0</th>\n",
       "      <td>AVpgNzjwLJeJML43Kpxn</td>\n",
       "      <td>2015-10-30T08:59:32Z</td>\n",
       "      <td>2019-04-25T09:08:16Z</td>\n",
       "      <td>AmazonBasics AAA Performance Alkaline Batterie...</td>\n",
       "      <td>B00QWO9P0O,B00LH3DMUO</td>\n",
       "      <td>Amazonbasics</td>\n",
       "      <td>AA,AAA,Health,Electronics,Health &amp; Household,C...</td>\n",
       "      <td>Health &amp; Beauty</td>\n",
       "      <td>https://images-na.ssl-images-amazon.com/images...</td>\n",
       "      <td>amazonbasics/hl002619,amazonbasicsaaaperforman...</td>\n",
       "      <td>AmazonBasics</td>\n",
       "      <td>HL-002619</td>\n",
       "      <td>2017-03-02T00:00:00.000Z</td>\n",
       "      <td>2017-08-28T00:00:00Z</td>\n",
       "      <td>NaN</td>\n",
       "      <td>NaN</td>\n",
       "      <td>NaN</td>\n",
       "      <td>NaN</td>\n",
       "      <td>3</td>\n",
       "      <td>https://www.amazon.com/product-reviews/B00QWO9...</td>\n",
       "      <td>I order 3 of them and one of the item is bad q...</td>\n",
       "      <td>... 3 of them and one of the item is bad quali...</td>\n",
       "      <td>Byger yang</td>\n",
       "      <td>https://www.barcodable.com/upc/841710106442,ht...</td>\n",
       "    </tr>\n",
       "    <tr>\n",
       "      <th>1</th>\n",
       "      <td>AVpgNzjwLJeJML43Kpxn</td>\n",
       "      <td>2015-10-30T08:59:32Z</td>\n",
       "      <td>2019-04-25T09:08:16Z</td>\n",
       "      <td>AmazonBasics AAA Performance Alkaline Batterie...</td>\n",
       "      <td>B00QWO9P0O,B00LH3DMUO</td>\n",
       "      <td>Amazonbasics</td>\n",
       "      <td>AA,AAA,Health,Electronics,Health &amp; Household,C...</td>\n",
       "      <td>Health &amp; Beauty</td>\n",
       "      <td>https://images-na.ssl-images-amazon.com/images...</td>\n",
       "      <td>amazonbasics/hl002619,amazonbasicsaaaperforman...</td>\n",
       "      <td>AmazonBasics</td>\n",
       "      <td>HL-002619</td>\n",
       "      <td>2016-08-31T00:00:00.000Z</td>\n",
       "      <td>2017-08-28T00:00:00Z</td>\n",
       "      <td>NaN</td>\n",
       "      <td>NaN</td>\n",
       "      <td>NaN</td>\n",
       "      <td>NaN</td>\n",
       "      <td>4</td>\n",
       "      <td>https://www.amazon.com/product-reviews/B00QWO9...</td>\n",
       "      <td>Bulk is always the less expensive way to go fo...</td>\n",
       "      <td>... always the less expensive way to go for pr...</td>\n",
       "      <td>ByMG</td>\n",
       "      <td>https://www.barcodable.com/upc/841710106442,ht...</td>\n",
       "    </tr>\n",
       "  </tbody>\n",
       "</table>\n",
       "</div>"
      ],
      "text/plain": [
       "                     id             dateAdded           dateUpdated  \\\n",
       "0  AVpgNzjwLJeJML43Kpxn  2015-10-30T08:59:32Z  2019-04-25T09:08:16Z   \n",
       "1  AVpgNzjwLJeJML43Kpxn  2015-10-30T08:59:32Z  2019-04-25T09:08:16Z   \n",
       "\n",
       "                                                name                  asins  \\\n",
       "0  AmazonBasics AAA Performance Alkaline Batterie...  B00QWO9P0O,B00LH3DMUO   \n",
       "1  AmazonBasics AAA Performance Alkaline Batterie...  B00QWO9P0O,B00LH3DMUO   \n",
       "\n",
       "          brand                                         categories  \\\n",
       "0  Amazonbasics  AA,AAA,Health,Electronics,Health & Household,C...   \n",
       "1  Amazonbasics  AA,AAA,Health,Electronics,Health & Household,C...   \n",
       "\n",
       "  primaryCategories                                          imageURLs  \\\n",
       "0   Health & Beauty  https://images-na.ssl-images-amazon.com/images...   \n",
       "1   Health & Beauty  https://images-na.ssl-images-amazon.com/images...   \n",
       "\n",
       "                                                keys  manufacturer  \\\n",
       "0  amazonbasics/hl002619,amazonbasicsaaaperforman...  AmazonBasics   \n",
       "1  amazonbasics/hl002619,amazonbasicsaaaperforman...  AmazonBasics   \n",
       "\n",
       "  manufacturerNumber              reviews.date      reviews.dateSeen  \\\n",
       "0          HL-002619  2017-03-02T00:00:00.000Z  2017-08-28T00:00:00Z   \n",
       "1          HL-002619  2016-08-31T00:00:00.000Z  2017-08-28T00:00:00Z   \n",
       "\n",
       "  reviews.didPurchase reviews.doRecommend  reviews.id  reviews.numHelpful  \\\n",
       "0                 NaN                 NaN         NaN                 NaN   \n",
       "1                 NaN                 NaN         NaN                 NaN   \n",
       "\n",
       "   reviews.rating                                 reviews.sourceURLs  \\\n",
       "0               3  https://www.amazon.com/product-reviews/B00QWO9...   \n",
       "1               4  https://www.amazon.com/product-reviews/B00QWO9...   \n",
       "\n",
       "                                        reviews.text  \\\n",
       "0  I order 3 of them and one of the item is bad q...   \n",
       "1  Bulk is always the less expensive way to go fo...   \n",
       "\n",
       "                                       reviews.title reviews.username  \\\n",
       "0  ... 3 of them and one of the item is bad quali...       Byger yang   \n",
       "1  ... always the less expensive way to go for pr...             ByMG   \n",
       "\n",
       "                                          sourceURLs  \n",
       "0  https://www.barcodable.com/upc/841710106442,ht...  \n",
       "1  https://www.barcodable.com/upc/841710106442,ht...  "
      ]
     },
     "execution_count": 4,
     "metadata": {},
     "output_type": "execute_result"
    }
   ],
   "source": [
    "# First looks for reference\n",
    "print(df1.shape)\n",
    "df1.head(2)"
   ]
  },
  {
   "cell_type": "code",
   "execution_count": 5,
   "metadata": {},
   "outputs": [
    {
     "data": {
      "text/plain": [
       "Electronics                    13995\n",
       "Health & Beauty                12071\n",
       "Toys & Games,Electronics        1676\n",
       "Office Supplies,Electronics      386\n",
       "Electronics,Media                185\n",
       "Office Supplies                    9\n",
       "Animals & Pet Supplies             6\n",
       "Home & Garden                      2\n",
       "Electronics,Furniture              2\n",
       "Name: primaryCategories, dtype: int64"
      ]
     },
     "execution_count": 5,
     "metadata": {},
     "output_type": "execute_result"
    }
   ],
   "source": [
    "df1[\"primaryCategories\"].value_counts()"
   ]
  },
  {
   "cell_type": "code",
   "execution_count": 6,
   "metadata": {},
   "outputs": [],
   "source": [
    "# Prune some unneeded columns from the dataframe\n",
    "df2 = df1[[\"name\", \"brand\", \"categories\", \"primaryCategories\", \"reviews.text\", \"reviews.title\"]]"
   ]
  },
  {
   "cell_type": "code",
   "execution_count": 7,
   "metadata": {},
   "outputs": [
    {
     "name": "stdout",
     "output_type": "stream",
     "text": [
      "(28332, 6)\n"
     ]
    },
    {
     "data": {
      "text/html": [
       "<div>\n",
       "<style scoped>\n",
       "    .dataframe tbody tr th:only-of-type {\n",
       "        vertical-align: middle;\n",
       "    }\n",
       "\n",
       "    .dataframe tbody tr th {\n",
       "        vertical-align: top;\n",
       "    }\n",
       "\n",
       "    .dataframe thead th {\n",
       "        text-align: right;\n",
       "    }\n",
       "</style>\n",
       "<table border=\"1\" class=\"dataframe\">\n",
       "  <thead>\n",
       "    <tr style=\"text-align: right;\">\n",
       "      <th></th>\n",
       "      <th>name</th>\n",
       "      <th>brand</th>\n",
       "      <th>categories</th>\n",
       "      <th>primaryCategories</th>\n",
       "      <th>reviews.text</th>\n",
       "      <th>reviews.title</th>\n",
       "    </tr>\n",
       "  </thead>\n",
       "  <tbody>\n",
       "    <tr>\n",
       "      <th>0</th>\n",
       "      <td>AmazonBasics AAA Performance Alkaline Batterie...</td>\n",
       "      <td>Amazonbasics</td>\n",
       "      <td>AA,AAA,Health,Electronics,Health &amp; Household,C...</td>\n",
       "      <td>Health &amp; Beauty</td>\n",
       "      <td>I order 3 of them and one of the item is bad q...</td>\n",
       "      <td>... 3 of them and one of the item is bad quali...</td>\n",
       "    </tr>\n",
       "    <tr>\n",
       "      <th>1</th>\n",
       "      <td>AmazonBasics AAA Performance Alkaline Batterie...</td>\n",
       "      <td>Amazonbasics</td>\n",
       "      <td>AA,AAA,Health,Electronics,Health &amp; Household,C...</td>\n",
       "      <td>Health &amp; Beauty</td>\n",
       "      <td>Bulk is always the less expensive way to go fo...</td>\n",
       "      <td>... always the less expensive way to go for pr...</td>\n",
       "    </tr>\n",
       "    <tr>\n",
       "      <th>2</th>\n",
       "      <td>AmazonBasics AAA Performance Alkaline Batterie...</td>\n",
       "      <td>Amazonbasics</td>\n",
       "      <td>AA,AAA,Health,Electronics,Health &amp; Household,C...</td>\n",
       "      <td>Health &amp; Beauty</td>\n",
       "      <td>Well they are not Duracell but for the price i...</td>\n",
       "      <td>... are not Duracell but for the price i am ha...</td>\n",
       "    </tr>\n",
       "    <tr>\n",
       "      <th>3</th>\n",
       "      <td>AmazonBasics AAA Performance Alkaline Batterie...</td>\n",
       "      <td>Amazonbasics</td>\n",
       "      <td>AA,AAA,Health,Electronics,Health &amp; Household,C...</td>\n",
       "      <td>Health &amp; Beauty</td>\n",
       "      <td>Seem to work as well as name brand batteries a...</td>\n",
       "      <td>... as well as name brand batteries at a much ...</td>\n",
       "    </tr>\n",
       "    <tr>\n",
       "      <th>4</th>\n",
       "      <td>AmazonBasics AAA Performance Alkaline Batterie...</td>\n",
       "      <td>Amazonbasics</td>\n",
       "      <td>AA,AAA,Health,Electronics,Health &amp; Household,C...</td>\n",
       "      <td>Health &amp; Beauty</td>\n",
       "      <td>These batteries are very long lasting the pric...</td>\n",
       "      <td>... batteries are very long lasting the price ...</td>\n",
       "    </tr>\n",
       "  </tbody>\n",
       "</table>\n",
       "</div>"
      ],
      "text/plain": [
       "                                                name         brand  \\\n",
       "0  AmazonBasics AAA Performance Alkaline Batterie...  Amazonbasics   \n",
       "1  AmazonBasics AAA Performance Alkaline Batterie...  Amazonbasics   \n",
       "2  AmazonBasics AAA Performance Alkaline Batterie...  Amazonbasics   \n",
       "3  AmazonBasics AAA Performance Alkaline Batterie...  Amazonbasics   \n",
       "4  AmazonBasics AAA Performance Alkaline Batterie...  Amazonbasics   \n",
       "\n",
       "                                          categories primaryCategories  \\\n",
       "0  AA,AAA,Health,Electronics,Health & Household,C...   Health & Beauty   \n",
       "1  AA,AAA,Health,Electronics,Health & Household,C...   Health & Beauty   \n",
       "2  AA,AAA,Health,Electronics,Health & Household,C...   Health & Beauty   \n",
       "3  AA,AAA,Health,Electronics,Health & Household,C...   Health & Beauty   \n",
       "4  AA,AAA,Health,Electronics,Health & Household,C...   Health & Beauty   \n",
       "\n",
       "                                        reviews.text  \\\n",
       "0  I order 3 of them and one of the item is bad q...   \n",
       "1  Bulk is always the less expensive way to go fo...   \n",
       "2  Well they are not Duracell but for the price i...   \n",
       "3  Seem to work as well as name brand batteries a...   \n",
       "4  These batteries are very long lasting the pric...   \n",
       "\n",
       "                                       reviews.title  \n",
       "0  ... 3 of them and one of the item is bad quali...  \n",
       "1  ... always the less expensive way to go for pr...  \n",
       "2  ... are not Duracell but for the price i am ha...  \n",
       "3  ... as well as name brand batteries at a much ...  \n",
       "4  ... batteries are very long lasting the price ...  "
      ]
     },
     "execution_count": 7,
     "metadata": {},
     "output_type": "execute_result"
    }
   ],
   "source": [
    "# Look at the result\n",
    "print(df2.shape)\n",
    "df2.head()"
   ]
  },
  {
   "cell_type": "markdown",
   "metadata": {},
   "source": [
    "---\n",
    "---\n",
    "\n",
    "## Fit a Gensim LDA topic model on Amazon Reviews\n",
    "<a id=\"#p1\"></a>"
   ]
  },
  {
   "cell_type": "code",
   "execution_count": 8,
   "metadata": {},
   "outputs": [],
   "source": [
    "# Define the tokenizer function\n",
    "# STOPWORDS = set(STOPWORDS).union(set([\"\"]))\n",
    "\n",
    "def tokenize(text):\n",
    "    \"\"\"Converts text to tokens using gensim.utils.simple_preprocess.\"\"\"\n",
    "    return [token for token in simple_preprocess(text) if token not in STOPWORDS]"
   ]
  },
  {
   "cell_type": "code",
   "execution_count": 10,
   "metadata": {},
   "outputs": [],
   "source": [
    "# Tokenize the text data with pd.apply\n",
    "df2 = df1.copy()  # No warning about slice copy\n",
    "df2[\"tokens\"] = df2[\"reviews.text\"].apply(tokenize)"
   ]
  },
  {
   "cell_type": "code",
   "execution_count": 11,
   "metadata": {},
   "outputs": [
    {
     "data": {
      "text/plain": [
       "0    [order, item, bad, quality, missing, backup, s...\n",
       "1               [bulk, expensive, way, products, like]\n",
       "2                             [duracell, price, happy]\n",
       "3              [work, brand, batteries, better, price]\n",
       "4             [batteries, long, lasting, price, great]\n",
       "Name: tokens, dtype: object"
      ]
     },
     "execution_count": 11,
     "metadata": {},
     "output_type": "execute_result"
    }
   ],
   "source": [
    "# Take a looksee\n",
    "df2[\"tokens\"].head()"
   ]
  },
  {
   "cell_type": "markdown",
   "metadata": {},
   "source": [
    "### Create LDA dictionary"
   ]
  },
  {
   "cell_type": "code",
   "execution_count": 12,
   "metadata": {},
   "outputs": [],
   "source": [
    "# Dictionary representation of all words in corpus\n",
    "id2word = corpora.Dictionary(df2[\"tokens\"])"
   ]
  },
  {
   "cell_type": "code",
   "execution_count": 14,
   "metadata": {},
   "outputs": [
    {
     "data": {
      "text/plain": [
       "3"
      ]
     },
     "execution_count": 14,
     "metadata": {},
     "output_type": "execute_result"
    }
   ],
   "source": [
    "id2word.token2id[\"battery\"]"
   ]
  },
  {
   "cell_type": "code",
   "execution_count": 15,
   "metadata": {},
   "outputs": [
    {
     "data": {
      "text/plain": [
       "'batteries'"
      ]
     },
     "execution_count": 15,
     "metadata": {},
     "output_type": "execute_result"
    }
   ],
   "source": [
    "id2word[19]"
   ]
  },
  {
   "cell_type": "code",
   "execution_count": 17,
   "metadata": {},
   "outputs": [
    {
     "data": {
      "text/plain": [
       "9622"
      ]
     },
     "execution_count": 17,
     "metadata": {},
     "output_type": "execute_result"
    }
   ],
   "source": [
    "# Length before filtering\n",
    "len(id2word.keys())"
   ]
  },
  {
   "cell_type": "code",
   "execution_count": 18,
   "metadata": {},
   "outputs": [],
   "source": [
    "# Remove extreme values from the dataset\n",
    "id2word.filter_extremes(no_below=5, no_above=0.95)"
   ]
  },
  {
   "cell_type": "code",
   "execution_count": 19,
   "metadata": {},
   "outputs": [
    {
     "data": {
      "text/plain": [
       "3582"
      ]
     },
     "execution_count": 19,
     "metadata": {},
     "output_type": "execute_result"
    }
   ],
   "source": [
    "# Length after filtering\n",
    "len(id2word.keys())"
   ]
  },
  {
   "cell_type": "code",
   "execution_count": 20,
   "metadata": {},
   "outputs": [],
   "source": [
    "# Create corpus (bag of words)\n",
    "corpus = [id2word.doc2bow(token) for token in df2[\"tokens\"]]"
   ]
  },
  {
   "cell_type": "code",
   "execution_count": 22,
   "metadata": {},
   "outputs": [
    {
     "data": {
      "text/plain": [
       "[(0, 1),\n",
       " (1, 1),\n",
       " (2, 1),\n",
       " (3, 1),\n",
       " (4, 1),\n",
       " (5, 1),\n",
       " (6, 1),\n",
       " (7, 1),\n",
       " (8, 1),\n",
       " (9, 1)]"
      ]
     },
     "execution_count": 22,
     "metadata": {},
     "output_type": "execute_result"
    }
   ],
   "source": [
    "# First looks\n",
    "corpus[0]"
   ]
  },
  {
   "cell_type": "code",
   "execution_count": 23,
   "metadata": {},
   "outputs": [],
   "source": [
    "# ====== Build the LDA topic model ====== #\n",
    "\n",
    "# Have not yet tinkered with the parameters\n",
    "lda = LdaMulticore(corpus=corpus,\n",
    "                   id2word=id2word,\n",
    "                   random_state=92,\n",
    "                   num_topics=15,\n",
    "                   passes=10,\n",
    "                   workers=4\n",
    "                  )"
   ]
  },
  {
   "cell_type": "markdown",
   "metadata": {},
   "source": [
    "> Notes:\n",
    "\n",
    "- A good topic model has fairly large, non-overlapping bubbles scattered throughout the plot, not in one quadrant.\n",
    "- A model with too many topics will usually have smaller bubbles that overlap heavily clustered together in one section."
   ]
  },
  {
   "cell_type": "code",
   "execution_count": 27,
   "metadata": {},
   "outputs": [
    {
     "data": {
      "text/plain": [
       "[(0,\n",
       "  '0.084*\"kindle\" + 0.020*\"new\" + 0.017*\"love\" + 0.015*\"screen\" + 0.015*\"ipad\" + 0.014*\"bought\" + 0.013*\"best\" + 0.012*\"hd\" + 0.011*\"like\" + 0.010*\"old\"'),\n",
       " (1,\n",
       "  '0.044*\"easy\" + 0.033*\"use\" + 0.028*\"size\" + 0.027*\"screen\" + 0.024*\"great\" + 0.023*\"love\" + 0.017*\"light\" + 0.016*\"read\" + 0.015*\"reading\" + 0.014*\"like\"'),\n",
       " (2,\n",
       "  '0.049*\"kids\" + 0.040*\"long\" + 0.022*\"tablet\" + 0.021*\"pretty\" + 0.020*\"battery\" + 0.016*\"time\" + 0.015*\"cheap\" + 0.014*\"great\" + 0.011*\"love\" + 0.011*\"life\"')]"
      ]
     },
     "execution_count": 27,
     "metadata": {},
     "output_type": "execute_result"
    }
   ],
   "source": [
    "# Print raw topics\n",
    "lda.print_topics()[:3]"
   ]
  },
  {
   "cell_type": "code",
   "execution_count": 32,
   "metadata": {},
   "outputs": [
    {
     "name": "stdout",
     "output_type": "stream",
     "text": [
      "====== Topic 0 ======\n",
      "kindle new love screen ipad\n",
      "\n",
      "====== Topic 1 ======\n",
      "easy use size screen great\n",
      "\n",
      "====== Topic 2 ======\n",
      "kids long tablet pretty battery\n",
      "\n",
      "====== Topic 3 ======\n",
      "old year tablet loves kids\n",
      "\n",
      "====== Topic 4 ======\n",
      "great price product works tablet\n",
      "\n",
      "====== Topic 5 ======\n",
      "battery long life batteries brands\n",
      "\n",
      "====== Topic 6 ======\n",
      "better deal time working good\n",
      "\n",
      "====== Topic 7 ======\n",
      "amazon money charge product happy\n",
      "\n",
      "====== Topic 8 ======\n",
      "batteries work amazon brand long\n",
      "\n",
      "====== Topic 9 ======\n",
      "good price batteries quality far\n",
      "\n",
      "====== Topic 10 ======\n",
      "gift bought loves tablet christmas\n",
      "\n",
      "====== Topic 11 ======\n",
      "books reading read kindle use\n",
      "\n",
      "====== Topic 12 ======\n",
      "device amazon battery problem keyboard\n",
      "\n",
      "====== Topic 13 ======\n",
      "use tablet amazon play great\n",
      "\n",
      "====== Topic 14 ======\n",
      "tablet apps amazon screen great\n",
      "\n"
     ]
    }
   ],
   "source": [
    "# Remove stuff before asterisk\n",
    "words = [re.findall(r'\"([^\"]*)\"',t[1]) for t in lda.print_topics()]\n",
    "# Join them into a nice readable list\n",
    "topics = [' '.join(t[0:5]) for t in words]\n",
    "\n",
    "# Print out the topics\n",
    "for id, t in enumerate(topics): \n",
    "    print(f\"====== Topic {id} ======\")\n",
    "    print(t)\n",
    "    print()"
   ]
  },
  {
   "cell_type": "code",
   "execution_count": 28,
   "metadata": {},
   "outputs": [],
   "source": [
    "# Get all the distributions\n",
    "distro = [lda[d] for d in corpus]"
   ]
  },
  {
   "cell_type": "code",
   "execution_count": 29,
   "metadata": {},
   "outputs": [
    {
     "data": {
      "text/plain": [
       "[(9, 0.52109253), (10, 0.13955612), (12, 0.2666239)]"
      ]
     },
     "execution_count": 29,
     "metadata": {},
     "output_type": "execute_result"
    }
   ],
   "source": [
    "# This is sparse - only lists the ones with distributions\n",
    "distro[0]"
   ]
  },
  {
   "cell_type": "code",
   "execution_count": 30,
   "metadata": {},
   "outputs": [],
   "source": [
    "# Hydrate the distributions with the rest of the set\n",
    "# i.e. the ones without distributions\n",
    "\n",
    "def update(doc):\n",
    "        d_dist = {k:0 for k in range(0,15)}\n",
    "        for t in doc:\n",
    "            d_dist[t[0]] = t[1]\n",
    "        return d_dist\n",
    "    \n",
    "new_distro = [update(d) for d in distro]"
   ]
  },
  {
   "cell_type": "code",
   "execution_count": 31,
   "metadata": {},
   "outputs": [
    {
     "data": {
      "text/plain": [
       "28332"
      ]
     },
     "execution_count": 31,
     "metadata": {},
     "output_type": "execute_result"
    }
   ],
   "source": [
    "len(new_distro)"
   ]
  },
  {
   "cell_type": "code",
   "execution_count": 33,
   "metadata": {},
   "outputs": [],
   "source": [
    "# Create new dataframe with review metadata\n",
    "df3 = pd.DataFrame.from_records(new_distro, index=df2.index)\n",
    "df3.columns = topics"
   ]
  },
  {
   "cell_type": "code",
   "execution_count": 34,
   "metadata": {},
   "outputs": [
    {
     "data": {
      "text/html": [
       "<div>\n",
       "<style scoped>\n",
       "    .dataframe tbody tr th:only-of-type {\n",
       "        vertical-align: middle;\n",
       "    }\n",
       "\n",
       "    .dataframe tbody tr th {\n",
       "        vertical-align: top;\n",
       "    }\n",
       "\n",
       "    .dataframe thead th {\n",
       "        text-align: right;\n",
       "    }\n",
       "</style>\n",
       "<table border=\"1\" class=\"dataframe\">\n",
       "  <thead>\n",
       "    <tr style=\"text-align: right;\">\n",
       "      <th></th>\n",
       "      <th>kindle new love screen ipad</th>\n",
       "      <th>easy use size screen great</th>\n",
       "      <th>kids long tablet pretty battery</th>\n",
       "      <th>old year tablet loves kids</th>\n",
       "      <th>great price product works tablet</th>\n",
       "      <th>battery long life batteries brands</th>\n",
       "      <th>better deal time working good</th>\n",
       "      <th>amazon money charge product happy</th>\n",
       "      <th>batteries work amazon brand long</th>\n",
       "      <th>good price batteries quality far</th>\n",
       "      <th>gift bought loves tablet christmas</th>\n",
       "      <th>books reading read kindle use</th>\n",
       "      <th>device amazon battery problem keyboard</th>\n",
       "      <th>use tablet amazon play great</th>\n",
       "      <th>tablet apps amazon screen great</th>\n",
       "    </tr>\n",
       "  </thead>\n",
       "  <tbody>\n",
       "    <tr>\n",
       "      <th>0</th>\n",
       "      <td>0.000000</td>\n",
       "      <td>0.000000</td>\n",
       "      <td>0.000000</td>\n",
       "      <td>0.000000</td>\n",
       "      <td>0.000000</td>\n",
       "      <td>0.000000</td>\n",
       "      <td>0.000000</td>\n",
       "      <td>0.000000</td>\n",
       "      <td>0.000000</td>\n",
       "      <td>0.521093</td>\n",
       "      <td>0.139556</td>\n",
       "      <td>0.000000</td>\n",
       "      <td>0.266624</td>\n",
       "      <td>0.000000</td>\n",
       "      <td>0.000000</td>\n",
       "    </tr>\n",
       "    <tr>\n",
       "      <th>1</th>\n",
       "      <td>0.011111</td>\n",
       "      <td>0.011111</td>\n",
       "      <td>0.011111</td>\n",
       "      <td>0.011111</td>\n",
       "      <td>0.011111</td>\n",
       "      <td>0.011111</td>\n",
       "      <td>0.011111</td>\n",
       "      <td>0.011111</td>\n",
       "      <td>0.844444</td>\n",
       "      <td>0.011111</td>\n",
       "      <td>0.011111</td>\n",
       "      <td>0.011111</td>\n",
       "      <td>0.011111</td>\n",
       "      <td>0.011111</td>\n",
       "      <td>0.011111</td>\n",
       "    </tr>\n",
       "    <tr>\n",
       "      <th>2</th>\n",
       "      <td>0.016667</td>\n",
       "      <td>0.016667</td>\n",
       "      <td>0.016667</td>\n",
       "      <td>0.016667</td>\n",
       "      <td>0.016667</td>\n",
       "      <td>0.315603</td>\n",
       "      <td>0.016667</td>\n",
       "      <td>0.016667</td>\n",
       "      <td>0.016667</td>\n",
       "      <td>0.467730</td>\n",
       "      <td>0.016667</td>\n",
       "      <td>0.016667</td>\n",
       "      <td>0.016667</td>\n",
       "      <td>0.016667</td>\n",
       "      <td>0.016667</td>\n",
       "    </tr>\n",
       "    <tr>\n",
       "      <th>3</th>\n",
       "      <td>0.011111</td>\n",
       "      <td>0.011111</td>\n",
       "      <td>0.011111</td>\n",
       "      <td>0.011111</td>\n",
       "      <td>0.011111</td>\n",
       "      <td>0.011111</td>\n",
       "      <td>0.011111</td>\n",
       "      <td>0.011111</td>\n",
       "      <td>0.385962</td>\n",
       "      <td>0.469593</td>\n",
       "      <td>0.011111</td>\n",
       "      <td>0.011111</td>\n",
       "      <td>0.011111</td>\n",
       "      <td>0.011111</td>\n",
       "      <td>0.011111</td>\n",
       "    </tr>\n",
       "    <tr>\n",
       "      <th>4</th>\n",
       "      <td>0.011111</td>\n",
       "      <td>0.011111</td>\n",
       "      <td>0.011111</td>\n",
       "      <td>0.011111</td>\n",
       "      <td>0.284214</td>\n",
       "      <td>0.011111</td>\n",
       "      <td>0.011111</td>\n",
       "      <td>0.011111</td>\n",
       "      <td>0.571342</td>\n",
       "      <td>0.011111</td>\n",
       "      <td>0.011111</td>\n",
       "      <td>0.011111</td>\n",
       "      <td>0.011111</td>\n",
       "      <td>0.011111</td>\n",
       "      <td>0.011111</td>\n",
       "    </tr>\n",
       "  </tbody>\n",
       "</table>\n",
       "</div>"
      ],
      "text/plain": [
       "   kindle new love screen ipad  easy use size screen great  \\\n",
       "0                     0.000000                    0.000000   \n",
       "1                     0.011111                    0.011111   \n",
       "2                     0.016667                    0.016667   \n",
       "3                     0.011111                    0.011111   \n",
       "4                     0.011111                    0.011111   \n",
       "\n",
       "   kids long tablet pretty battery  old year tablet loves kids  \\\n",
       "0                         0.000000                    0.000000   \n",
       "1                         0.011111                    0.011111   \n",
       "2                         0.016667                    0.016667   \n",
       "3                         0.011111                    0.011111   \n",
       "4                         0.011111                    0.011111   \n",
       "\n",
       "   great price product works tablet  battery long life batteries brands  \\\n",
       "0                          0.000000                            0.000000   \n",
       "1                          0.011111                            0.011111   \n",
       "2                          0.016667                            0.315603   \n",
       "3                          0.011111                            0.011111   \n",
       "4                          0.284214                            0.011111   \n",
       "\n",
       "   better deal time working good  amazon money charge product happy  \\\n",
       "0                       0.000000                           0.000000   \n",
       "1                       0.011111                           0.011111   \n",
       "2                       0.016667                           0.016667   \n",
       "3                       0.011111                           0.011111   \n",
       "4                       0.011111                           0.011111   \n",
       "\n",
       "   batteries work amazon brand long  good price batteries quality far  \\\n",
       "0                          0.000000                          0.521093   \n",
       "1                          0.844444                          0.011111   \n",
       "2                          0.016667                          0.467730   \n",
       "3                          0.385962                          0.469593   \n",
       "4                          0.571342                          0.011111   \n",
       "\n",
       "   gift bought loves tablet christmas  books reading read kindle use  \\\n",
       "0                            0.139556                       0.000000   \n",
       "1                            0.011111                       0.011111   \n",
       "2                            0.016667                       0.016667   \n",
       "3                            0.011111                       0.011111   \n",
       "4                            0.011111                       0.011111   \n",
       "\n",
       "   device amazon battery problem keyboard  use tablet amazon play great  \\\n",
       "0                                0.266624                      0.000000   \n",
       "1                                0.011111                      0.011111   \n",
       "2                                0.016667                      0.016667   \n",
       "3                                0.011111                      0.011111   \n",
       "4                                0.011111                      0.011111   \n",
       "\n",
       "   tablet apps amazon screen great  \n",
       "0                         0.000000  \n",
       "1                         0.011111  \n",
       "2                         0.016667  \n",
       "3                         0.011111  \n",
       "4                         0.011111  "
      ]
     },
     "execution_count": 34,
     "metadata": {},
     "output_type": "execute_result"
    }
   ],
   "source": [
    "df3.head()"
   ]
  },
  {
   "cell_type": "code",
   "execution_count": null,
   "metadata": {},
   "outputs": [],
   "source": []
  },
  {
   "cell_type": "markdown",
   "metadata": {},
   "source": [
    "---\n",
    "---\n",
    "\n",
    "## Find the optimal number of topics\n",
    "\n",
    "> AKA how to be coherent with yer modeling."
   ]
  },
  {
   "cell_type": "code",
   "execution_count": 40,
   "metadata": {},
   "outputs": [],
   "source": [
    "from gensim.models.coherencemodel import CoherenceModel\n",
    "\n",
    "def compute_coherence_values(dictionary, corpus, limit, start=2, step=3, passes=5):\n",
    "    \"\"\"\n",
    "    Compute c_v coherence for various number of topics\n",
    "\n",
    "    Parameters:\n",
    "    ----------\n",
    "    dictionary : Gensim dictionary\n",
    "    corpus : Gensim corpus\n",
    "    path : path to input texts\n",
    "    limit : Max num of topics\n",
    "    passes: the number of times the entire lda model & coherence values are calculated\n",
    "\n",
    "    Returns:\n",
    "    -------\n",
    "    coherence_values : Coherence values corresponding to the LDA model with respective number of topics\n",
    "    \"\"\"\n",
    "    \n",
    "    coherence_values = []\n",
    "    \n",
    "    for iter_ in range(passes):\n",
    "        for num_topics in range(start, limit, step):\n",
    "            model = LdaMulticore(corpus=corpus, num_topics=num_topics, id2word=dictionary, workers=4)\n",
    "            coherencemodel = CoherenceModel(model=model, dictionary=dictionary, corpus=corpus, coherence='u_mass')\n",
    "            coherence_values.append({'pass': iter_, \n",
    "                                     'num_topics': num_topics, \n",
    "                                     'coherence_score': coherencemodel.get_coherence()\n",
    "                                    })\n",
    "\n",
    "    return coherence_values"
   ]
  },
  {
   "cell_type": "code",
   "execution_count": 41,
   "metadata": {},
   "outputs": [],
   "source": [
    "# Suppress DeprecationWarnings within context manager\n",
    "import warnings\n",
    "\n",
    "with warnings.catch_warnings():\n",
    "    warnings.filterwarnings(\"ignore\", category=DeprecationWarning)\n",
    "\n",
    "    # Can take a long time to run.\n",
    "    coherence_values = compute_coherence_values(\n",
    "        dictionary=id2word, \n",
    "        corpus=corpus, \n",
    "        start=2, \n",
    "        limit=40, \n",
    "        step=6,\n",
    "        passes=20\n",
    "    )"
   ]
  },
  {
   "cell_type": "code",
   "execution_count": 42,
   "metadata": {},
   "outputs": [],
   "source": [
    "topic_coherence = pd.DataFrame.from_records(coherence_values)"
   ]
  },
  {
   "cell_type": "code",
   "execution_count": 44,
   "metadata": {},
   "outputs": [
    {
     "data": {
      "text/html": [
       "<div>\n",
       "<style scoped>\n",
       "    .dataframe tbody tr th:only-of-type {\n",
       "        vertical-align: middle;\n",
       "    }\n",
       "\n",
       "    .dataframe tbody tr th {\n",
       "        vertical-align: top;\n",
       "    }\n",
       "\n",
       "    .dataframe thead th {\n",
       "        text-align: right;\n",
       "    }\n",
       "</style>\n",
       "<table border=\"1\" class=\"dataframe\">\n",
       "  <thead>\n",
       "    <tr style=\"text-align: right;\">\n",
       "      <th></th>\n",
       "      <th>coherence_score</th>\n",
       "      <th>num_topics</th>\n",
       "      <th>pass</th>\n",
       "    </tr>\n",
       "  </thead>\n",
       "  <tbody>\n",
       "    <tr>\n",
       "      <th>0</th>\n",
       "      <td>-2.509117</td>\n",
       "      <td>2</td>\n",
       "      <td>0</td>\n",
       "    </tr>\n",
       "    <tr>\n",
       "      <th>1</th>\n",
       "      <td>-2.701699</td>\n",
       "      <td>8</td>\n",
       "      <td>0</td>\n",
       "    </tr>\n",
       "    <tr>\n",
       "      <th>2</th>\n",
       "      <td>-2.727865</td>\n",
       "      <td>14</td>\n",
       "      <td>0</td>\n",
       "    </tr>\n",
       "    <tr>\n",
       "      <th>3</th>\n",
       "      <td>-2.896626</td>\n",
       "      <td>20</td>\n",
       "      <td>0</td>\n",
       "    </tr>\n",
       "    <tr>\n",
       "      <th>4</th>\n",
       "      <td>-2.987743</td>\n",
       "      <td>26</td>\n",
       "      <td>0</td>\n",
       "    </tr>\n",
       "    <tr>\n",
       "      <th>5</th>\n",
       "      <td>-3.038567</td>\n",
       "      <td>32</td>\n",
       "      <td>0</td>\n",
       "    </tr>\n",
       "    <tr>\n",
       "      <th>6</th>\n",
       "      <td>-3.229541</td>\n",
       "      <td>38</td>\n",
       "      <td>0</td>\n",
       "    </tr>\n",
       "    <tr>\n",
       "      <th>7</th>\n",
       "      <td>-2.590670</td>\n",
       "      <td>2</td>\n",
       "      <td>1</td>\n",
       "    </tr>\n",
       "    <tr>\n",
       "      <th>8</th>\n",
       "      <td>-2.645420</td>\n",
       "      <td>8</td>\n",
       "      <td>1</td>\n",
       "    </tr>\n",
       "    <tr>\n",
       "      <th>9</th>\n",
       "      <td>-2.656880</td>\n",
       "      <td>14</td>\n",
       "      <td>1</td>\n",
       "    </tr>\n",
       "    <tr>\n",
       "      <th>10</th>\n",
       "      <td>-2.667604</td>\n",
       "      <td>20</td>\n",
       "      <td>1</td>\n",
       "    </tr>\n",
       "    <tr>\n",
       "      <th>11</th>\n",
       "      <td>-2.981273</td>\n",
       "      <td>26</td>\n",
       "      <td>1</td>\n",
       "    </tr>\n",
       "    <tr>\n",
       "      <th>12</th>\n",
       "      <td>-2.819904</td>\n",
       "      <td>32</td>\n",
       "      <td>1</td>\n",
       "    </tr>\n",
       "    <tr>\n",
       "      <th>13</th>\n",
       "      <td>-3.272458</td>\n",
       "      <td>38</td>\n",
       "      <td>1</td>\n",
       "    </tr>\n",
       "    <tr>\n",
       "      <th>14</th>\n",
       "      <td>-2.633941</td>\n",
       "      <td>2</td>\n",
       "      <td>2</td>\n",
       "    </tr>\n",
       "    <tr>\n",
       "      <th>15</th>\n",
       "      <td>-2.683185</td>\n",
       "      <td>8</td>\n",
       "      <td>2</td>\n",
       "    </tr>\n",
       "  </tbody>\n",
       "</table>\n",
       "</div>"
      ],
      "text/plain": [
       "    coherence_score  num_topics  pass\n",
       "0         -2.509117           2     0\n",
       "1         -2.701699           8     0\n",
       "2         -2.727865          14     0\n",
       "3         -2.896626          20     0\n",
       "4         -2.987743          26     0\n",
       "5         -3.038567          32     0\n",
       "6         -3.229541          38     0\n",
       "7         -2.590670           2     1\n",
       "8         -2.645420           8     1\n",
       "9         -2.656880          14     1\n",
       "10        -2.667604          20     1\n",
       "11        -2.981273          26     1\n",
       "12        -2.819904          32     1\n",
       "13        -3.272458          38     1\n",
       "14        -2.633941           2     2\n",
       "15        -2.683185           8     2"
      ]
     },
     "execution_count": 44,
     "metadata": {},
     "output_type": "execute_result"
    }
   ],
   "source": [
    "topic_coherence.head(16)"
   ]
  },
  {
   "cell_type": "code",
   "execution_count": 47,
   "metadata": {},
   "outputs": [
    {
     "data": {
      "text/plain": [
       "coherence_score    -2.509117\n",
       "num_topics         38.000000\n",
       "pass               19.000000\n",
       "dtype: float64"
      ]
     },
     "execution_count": 47,
     "metadata": {},
     "output_type": "execute_result"
    }
   ],
   "source": [
    "topic_coherence.max()"
   ]
  },
  {
   "cell_type": "code",
   "execution_count": 49,
   "metadata": {},
   "outputs": [
    {
     "data": {
      "image/png": "[encoded data removed]",
      "text/plain": [
       "<Figure size 432x288 with 1 Axes>"
      ]
     },
     "metadata": {
      "needs_background": "light"
     },
     "output_type": "display_data"
    }
   ],
   "source": [
    "import seaborn as sns\n",
    "\n",
    "ax = sns.lineplot(x=\"num_topics\", y=\"coherence_score\", data=topic_coherence);"
   ]
  },
  {
   "cell_type": "markdown",
   "metadata": {},
   "source": [
    "---\n",
    "---\n",
    "\n",
    "## Create some *DOPE* visualizations of the topics\n",
    "<a id=\"#p3\"></a>\n",
    "\n",
    "> Topic Distance Visualization"
   ]
  },
  {
   "cell_type": "code",
   "execution_count": 35,
   "metadata": {},
   "outputs": [],
   "source": [
    "import pyLDAvis.gensim\n",
    "\n",
    "pyLDAvis.enable_notebook()"
   ]
  },
  {
   "cell_type": "code",
   "execution_count": 37,
   "metadata": {},
   "outputs": [
    {
     "name": "stderr",
     "output_type": "stream",
     "text": [
      "/Users/Tobias/.vega/nlp-9igaqrSk/lib/python3.7/site-packages/pyLDAvis/_prepare.py:257: FutureWarning: Sorting because non-concatenation axis is not aligned. A future version\n",
      "of pandas will change to not sort by default.\n",
      "\n",
      "To accept the future behavior, pass 'sort=False'.\n",
      "\n",
      "To retain the current behavior and silence the warning, pass 'sort=True'.\n",
      "\n",
      "  return pd.concat([default_term_info] + list(topic_dfs))\n"
     ]
    },
    {
     "data": {
      "text/html": [
       "\n",
       "<link rel=\"stylesheet\" type=\"text/css\" href=\"https://cdn.rawgit.com/bmabey/pyLDAvis/files/ldavis.v1.0.0.css\">\n",
       "\n",
       "\n",
       "<div id=\"ldavis_el2417548759712805433654211\"></div>\n",
       "<script type=\"text/javascript\">\n",
       "\n",
       "var ldavis_el2417548759712805433654211_data = {\"mdsDat\": {\"x\": [0.20883970590687229, -0.23018863508482817, -0.13204356768035946, -0.09362892881613406, -0.11251498267939093, 0.004410554484387295, -0.11209708228266922, 0.12325114801900516, 0.2672786091423529, 0.2433092587338624, -0.15839619272595573, -0.19254000459006929, 0.023544517330309198, 0.020080318936076973, 0.1406952813065411], \"y\": [-0.010256810219602524, 0.010307440694469795, 0.010709017533878335, -0.1103260903456703, -0.00998986102172345, 0.305092006408767, 0.028751937629818335, -0.19813381383423656, -0.01489362718916544, 0.20476447717008214, 0.011962610152934657, 0.03669999807202002, -0.110849457577632, -0.0675495002171568, -0.086288327256783], \"topics\": [1, 2, 3, 4, 5, 6, 7, 8, 9, 10, 11, 12, 13, 14, 15], \"cluster\": [1, 1, 1, 1, 1, 1, 1, 1, 1, 1, 1, 1, 1, 1, 1], \"Freq\": [14.266382217407227, 11.405454635620117, 9.508920669555664, 7.138338565826416, 6.545892238616943, 6.425577163696289, 6.4154953956604, 5.91354513168335, 5.692237854003906, 5.613237380981445, 5.5175251960754395, 4.765005588531494, 4.365070819854736, 3.3922128677368164, 3.035111904144287]}, \"tinfo\": {\"Category\": [\"Default\", \"Default\", \"Default\", \"Default\", \"Default\", \"Default\", \"Default\", \"Default\", \"Default\", \"Default\", \"Default\", \"Default\", \"Default\", \"Default\", \"Default\", \"Default\", \"Default\", \"Default\", \"Default\", \"Default\", \"Default\", \"Default\", \"Default\", \"Default\", \"Default\", \"Default\", \"Default\", \"Default\", \"Default\", \"Default\", \"Topic1\", \"Topic1\", \"Topic1\", \"Topic1\", \"Topic1\", \"Topic1\", \"Topic1\", \"Topic1\", \"Topic1\", \"Topic1\", \"Topic1\", \"Topic1\", \"Topic1\", \"Topic1\", \"Topic1\", \"Topic1\", \"Topic1\", \"Topic1\", \"Topic1\", \"Topic1\", \"Topic1\", \"Topic1\", \"Topic1\", \"Topic1\", \"Topic1\", \"Topic1\", \"Topic1\", \"Topic1\", \"Topic1\", \"Topic1\", \"Topic1\", \"Topic1\", \"Topic1\", \"Topic1\", \"Topic1\", \"Topic1\", \"Topic1\", \"Topic1\", \"Topic1\", \"Topic1\", \"Topic1\", \"Topic1\", \"Topic1\", \"Topic1\", \"Topic1\", \"Topic1\", \"Topic1\", \"Topic1\", \"Topic1\", \"Topic1\", \"Topic1\", \"Topic1\", \"Topic1\", \"Topic1\", \"Topic1\", \"Topic1\", \"Topic1\", \"Topic1\", \"Topic1\", \"Topic1\", \"Topic1\", \"Topic1\", \"Topic1\", \"Topic1\", \"Topic1\", \"Topic1\", \"Topic1\", \"Topic1\", \"Topic1\", \"Topic1\", \"Topic1\", \"Topic1\", \"Topic1\", \"Topic1\", \"Topic1\", \"Topic1\", \"Topic2\", \"Topic2\", \"Topic2\", \"Topic2\", \"Topic2\", \"Topic2\", \"Topic2\", \"Topic2\", \"Topic2\", \"Topic2\", \"Topic2\", \"Topic2\", \"Topic2\", \"Topic2\", \"Topic2\", \"Topic2\", \"Topic2\", \"Topic2\", \"Topic2\", \"Topic2\", \"Topic2\", \"Topic2\", \"Topic2\", \"Topic2\", \"Topic2\", \"Topic2\", \"Topic2\", \"Topic2\", \"Topic2\", \"Topic2\", \"Topic2\", \"Topic2\", \"Topic2\", \"Topic2\", \"Topic2\", \"Topic2\", \"Topic2\", \"Topic2\", \"Topic2\", \"Topic2\", \"Topic2\", \"Topic2\", \"Topic2\", \"Topic2\", \"Topic2\", \"Topic2\", \"Topic2\", \"Topic2\", \"Topic2\", \"Topic2\", \"Topic2\", \"Topic2\", \"Topic2\", \"Topic2\", \"Topic2\", \"Topic2\", \"Topic2\", \"Topic2\", \"Topic2\", \"Topic2\", \"Topic2\", \"Topic2\", \"Topic2\", \"Topic2\", \"Topic2\", \"Topic2\", \"Topic3\", \"Topic3\", \"Topic3\", \"Topic3\", \"Topic3\", \"Topic3\", \"Topic3\", \"Topic3\", \"Topic3\", \"Topic3\", \"Topic3\", \"Topic3\", \"Topic3\", \"Topic3\", \"Topic3\", \"Topic3\", \"Topic3\", \"Topic3\", \"Topic3\", \"Topic3\", \"Topic3\", \"Topic3\", \"Topic3\", \"Topic3\", \"Topic3\", \"Topic3\", \"Topic3\", \"Topic3\", \"Topic3\", \"Topic3\", \"Topic3\", \"Topic3\", \"Topic3\", \"Topic3\", \"Topic3\", \"Topic3\", \"Topic3\", \"Topic3\", \"Topic3\", \"Topic3\", \"Topic3\", \"Topic3\", \"Topic3\", \"Topic3\", \"Topic3\", \"Topic3\", \"Topic3\", \"Topic3\", \"Topic3\", \"Topic3\", \"Topic3\", \"Topic3\", \"Topic3\", \"Topic3\", \"Topic3\", \"Topic3\", \"Topic3\", \"Topic3\", \"Topic3\", \"Topic3\", \"Topic3\", \"Topic3\", \"Topic3\", \"Topic3\", \"Topic3\", \"Topic3\", \"Topic3\", \"Topic3\", \"Topic3\", \"Topic3\", \"Topic3\", \"Topic3\", \"Topic3\", \"Topic3\", \"Topic3\", \"Topic3\", \"Topic3\", \"Topic4\", \"Topic4\", \"Topic4\", \"Topic4\", \"Topic4\", \"Topic4\", \"Topic4\", \"Topic4\", \"Topic4\", \"Topic4\", \"Topic4\", \"Topic4\", \"Topic4\", \"Topic4\", \"Topic4\", \"Topic4\", \"Topic4\", \"Topic4\", \"Topic4\", \"Topic4\", \"Topic4\", \"Topic4\", \"Topic4\", \"Topic4\", \"Topic4\", \"Topic4\", \"Topic4\", \"Topic4\", \"Topic4\", \"Topic4\", \"Topic4\", \"Topic4\", \"Topic4\", \"Topic4\", \"Topic4\", \"Topic4\", \"Topic4\", \"Topic4\", \"Topic4\", \"Topic4\", \"Topic4\", \"Topic4\", \"Topic4\", \"Topic4\", \"Topic4\", \"Topic4\", \"Topic4\", \"Topic4\", \"Topic4\", \"Topic4\", \"Topic4\", \"Topic4\", \"Topic4\", \"Topic4\", \"Topic4\", \"Topic4\", \"Topic4\", \"Topic4\", \"Topic4\", \"Topic4\", \"Topic4\", \"Topic4\", \"Topic4\", \"Topic4\", \"Topic4\", \"Topic4\", \"Topic4\", \"Topic4\", \"Topic4\", \"Topic5\", \"Topic5\", \"Topic5\", \"Topic5\", \"Topic5\", \"Topic5\", \"Topic5\", \"Topic5\", \"Topic5\", \"Topic5\", \"Topic5\", \"Topic5\", \"Topic5\", \"Topic5\", \"Topic5\", \"Topic5\", \"Topic5\", \"Topic5\", \"Topic5\", \"Topic5\", \"Topic5\", \"Topic5\", \"Topic5\", \"Topic5\", \"Topic5\", \"Topic5\", \"Topic5\", \"Topic5\", \"Topic5\", \"Topic5\", \"Topic5\", \"Topic5\", \"Topic5\", \"Topic5\", \"Topic5\", \"Topic5\", \"Topic5\", \"Topic5\", \"Topic5\", \"Topic5\", \"Topic5\", \"Topic5\", \"Topic5\", \"Topic5\", \"Topic5\", \"Topic5\", \"Topic5\", \"Topic5\", \"Topic5\", \"Topic5\", \"Topic5\", \"Topic5\", \"Topic5\", \"Topic5\", \"Topic5\", \"Topic5\", \"Topic5\", \"Topic5\", \"Topic5\", \"Topic5\", \"Topic5\", \"Topic5\", \"Topic5\", \"Topic5\", \"Topic5\", \"Topic5\", \"Topic5\", \"Topic5\", \"Topic5\", \"Topic5\", \"Topic5\", \"Topic5\", \"Topic5\", \"Topic5\", \"Topic6\", \"Topic6\", \"Topic6\", \"Topic6\", \"Topic6\", \"Topic6\", \"Topic6\", \"Topic6\", \"Topic6\", \"Topic6\", \"Topic6\", \"Topic6\", \"Topic6\", \"Topic6\", \"Topic6\", \"Topic6\", \"Topic6\", \"Topic6\", \"Topic6\", \"Topic6\", \"Topic6\", \"Topic6\", \"Topic6\", \"Topic6\", \"Topic6\", \"Topic6\", \"Topic6\", \"Topic6\", \"Topic6\", \"Topic6\", \"Topic6\", \"Topic6\", \"Topic6\", \"Topic6\", \"Topic6\", \"Topic6\", \"Topic6\", \"Topic6\", \"Topic6\", \"Topic6\", \"Topic6\", \"Topic6\", \"Topic6\", \"Topic6\", \"Topic6\", \"Topic6\", \"Topic6\", \"Topic6\", \"Topic6\", \"Topic6\", \"Topic6\", \"Topic6\", \"Topic6\", \"Topic6\", \"Topic6\", \"Topic6\", \"Topic6\", \"Topic6\", \"Topic6\", \"Topic6\", \"Topic6\", \"Topic6\", \"Topic6\", \"Topic6\", \"Topic6\", \"Topic7\", \"Topic7\", \"Topic7\", \"Topic7\", \"Topic7\", \"Topic7\", \"Topic7\", \"Topic7\", \"Topic7\", \"Topic7\", \"Topic7\", \"Topic7\", \"Topic7\", \"Topic7\", \"Topic7\", \"Topic7\", \"Topic7\", \"Topic7\", \"Topic7\", \"Topic7\", \"Topic7\", \"Topic7\", \"Topic7\", \"Topic7\", \"Topic7\", \"Topic7\", \"Topic7\", \"Topic7\", \"Topic7\", \"Topic7\", \"Topic7\", \"Topic7\", \"Topic7\", \"Topic7\", \"Topic7\", \"Topic7\", \"Topic7\", \"Topic7\", \"Topic7\", \"Topic7\", \"Topic7\", \"Topic7\", \"Topic7\", \"Topic7\", \"Topic7\", \"Topic7\", \"Topic7\", \"Topic7\", \"Topic7\", \"Topic7\", \"Topic7\", \"Topic7\", \"Topic7\", \"Topic7\", \"Topic7\", \"Topic7\", \"Topic7\", \"Topic7\", \"Topic7\", \"Topic7\", \"Topic7\", \"Topic7\", \"Topic7\", \"Topic7\", \"Topic7\", \"Topic7\", \"Topic7\", \"Topic7\", \"Topic7\", \"Topic7\", \"Topic7\", \"Topic7\", \"Topic7\", \"Topic7\", \"Topic8\", \"Topic8\", \"Topic8\", \"Topic8\", \"Topic8\", \"Topic8\", \"Topic8\", \"Topic8\", \"Topic8\", \"Topic8\", \"Topic8\", \"Topic8\", \"Topic8\", \"Topic8\", \"Topic8\", \"Topic8\", \"Topic8\", \"Topic8\", \"Topic8\", \"Topic8\", \"Topic8\", \"Topic8\", \"Topic8\", \"Topic8\", \"Topic8\", \"Topic8\", \"Topic8\", \"Topic8\", \"Topic8\", \"Topic8\", \"Topic8\", \"Topic8\", \"Topic8\", \"Topic8\", \"Topic8\", \"Topic8\", \"Topic8\", \"Topic8\", \"Topic8\", \"Topic8\", \"Topic8\", \"Topic8\", \"Topic8\", \"Topic8\", \"Topic8\", \"Topic8\", \"Topic8\", \"Topic8\", \"Topic8\", \"Topic8\", \"Topic8\", \"Topic8\", \"Topic8\", \"Topic8\", \"Topic8\", \"Topic8\", \"Topic8\", \"Topic8\", \"Topic8\", \"Topic8\", \"Topic8\", \"Topic8\", \"Topic8\", \"Topic8\", \"Topic8\", \"Topic8\", \"Topic8\", \"Topic8\", \"Topic8\", \"Topic8\", \"Topic8\", \"Topic8\", \"Topic8\", \"Topic8\", \"Topic8\", \"Topic8\", \"Topic8\", \"Topic8\", \"Topic8\", \"Topic8\", \"Topic8\", \"Topic8\", \"Topic9\", \"Topic9\", \"Topic9\", \"Topic9\", \"Topic9\", \"Topic9\", \"Topic9\", \"Topic9\", \"Topic9\", \"Topic9\", \"Topic9\", \"Topic9\", \"Topic9\", \"Topic9\", \"Topic9\", \"Topic9\", \"Topic9\", \"Topic9\", \"Topic9\", \"Topic9\", \"Topic9\", \"Topic9\", \"Topic9\", \"Topic9\", \"Topic9\", \"Topic9\", \"Topic9\", \"Topic9\", \"Topic9\", \"Topic9\", \"Topic9\", \"Topic9\", \"Topic9\", \"Topic9\", \"Topic9\", \"Topic9\", \"Topic9\", \"Topic9\", \"Topic9\", \"Topic9\", \"Topic9\", \"Topic9\", \"Topic9\", \"Topic9\", \"Topic9\", \"Topic9\", \"Topic9\", \"Topic9\", \"Topic9\", \"Topic9\", \"Topic9\", \"Topic9\", \"Topic9\", \"Topic9\", \"Topic9\", \"Topic9\", \"Topic9\", \"Topic9\", \"Topic9\", \"Topic9\", \"Topic9\", \"Topic9\", \"Topic9\", \"Topic9\", \"Topic9\", \"Topic9\", \"Topic9\", \"Topic9\", \"Topic9\", \"Topic9\", \"Topic9\", \"Topic9\", \"Topic9\", \"Topic10\", \"Topic10\", \"Topic10\", \"Topic10\", \"Topic10\", \"Topic10\", \"Topic10\", \"Topic10\", \"Topic10\", \"Topic10\", \"Topic10\", \"Topic10\", \"Topic10\", \"Topic10\", \"Topic10\", \"Topic10\", \"Topic10\", \"Topic10\", \"Topic10\", \"Topic10\", \"Topic10\", \"Topic10\", \"Topic10\", \"Topic10\", \"Topic10\", \"Topic10\", \"Topic10\", \"Topic10\", \"Topic10\", \"Topic10\", \"Topic10\", \"Topic10\", \"Topic10\", \"Topic10\", \"Topic10\", \"Topic10\", \"Topic10\", \"Topic10\", \"Topic10\", \"Topic10\", \"Topic10\", \"Topic10\", \"Topic10\", \"Topic10\", \"Topic10\", \"Topic10\", \"Topic10\", \"Topic10\", \"Topic10\", \"Topic10\", \"Topic10\", \"Topic10\", \"Topic10\", \"Topic10\", \"Topic10\", \"Topic10\", \"Topic10\", \"Topic10\", \"Topic10\", \"Topic10\", \"Topic10\", \"Topic10\", \"Topic10\", \"Topic10\", \"Topic10\", \"Topic10\", \"Topic10\", \"Topic10\", \"Topic11\", \"Topic11\", \"Topic11\", \"Topic11\", \"Topic11\", \"Topic11\", \"Topic11\", \"Topic11\", \"Topic11\", \"Topic11\", \"Topic11\", \"Topic11\", \"Topic11\", \"Topic11\", \"Topic11\", \"Topic11\", \"Topic11\", \"Topic11\", \"Topic11\", \"Topic11\", \"Topic11\", \"Topic11\", \"Topic11\", \"Topic11\", \"Topic11\", \"Topic11\", \"Topic11\", \"Topic11\", \"Topic11\", \"Topic11\", \"Topic11\", \"Topic11\", \"Topic11\", \"Topic11\", \"Topic11\", \"Topic11\", \"Topic11\", \"Topic11\", \"Topic11\", \"Topic11\", \"Topic11\", \"Topic11\", \"Topic11\", \"Topic11\", \"Topic11\", \"Topic11\", \"Topic11\", \"Topic11\", \"Topic11\", \"Topic11\", \"Topic11\", \"Topic11\", \"Topic11\", \"Topic11\", \"Topic11\", \"Topic11\", \"Topic11\", \"Topic11\", \"Topic11\", \"Topic11\", \"Topic11\", \"Topic11\", \"Topic11\", \"Topic11\", \"Topic11\", \"Topic11\", \"Topic11\", \"Topic11\", \"Topic11\", \"Topic11\", \"Topic12\", \"Topic12\", \"Topic12\", \"Topic12\", \"Topic12\", \"Topic12\", \"Topic12\", \"Topic12\", \"Topic12\", \"Topic12\", \"Topic12\", \"Topic12\", \"Topic12\", \"Topic12\", \"Topic12\", \"Topic12\", \"Topic12\", \"Topic12\", \"Topic12\", \"Topic12\", \"Topic12\", \"Topic12\", \"Topic12\", \"Topic12\", \"Topic12\", \"Topic12\", \"Topic12\", \"Topic12\", \"Topic12\", \"Topic12\", \"Topic12\", \"Topic12\", \"Topic12\", \"Topic12\", \"Topic12\", \"Topic12\", \"Topic12\", \"Topic12\", \"Topic12\", \"Topic12\", \"Topic12\", \"Topic12\", \"Topic12\", \"Topic12\", \"Topic12\", \"Topic12\", \"Topic12\", \"Topic12\", \"Topic12\", \"Topic12\", \"Topic12\", \"Topic12\", \"Topic12\", \"Topic12\", \"Topic12\", \"Topic12\", \"Topic12\", \"Topic12\", \"Topic12\", \"Topic12\", \"Topic12\", \"Topic12\", \"Topic12\", \"Topic12\", \"Topic12\", \"Topic12\", \"Topic12\", \"Topic12\", \"Topic12\", \"Topic12\", \"Topic12\", \"Topic12\", \"Topic12\", \"Topic12\", \"Topic12\", \"Topic12\", \"Topic12\", \"Topic12\", \"Topic13\", \"Topic13\", \"Topic13\", \"Topic13\", \"Topic13\", \"Topic13\", \"Topic13\", \"Topic13\", \"Topic13\", \"Topic13\", \"Topic13\", \"Topic13\", \"Topic13\", \"Topic13\", \"Topic13\", \"Topic13\", \"Topic13\", \"Topic13\", \"Topic13\", \"Topic13\", \"Topic13\", \"Topic13\", \"Topic13\", \"Topic13\", \"Topic13\", \"Topic13\", \"Topic13\", \"Topic13\", \"Topic13\", \"Topic13\", \"Topic13\", \"Topic13\", \"Topic13\", \"Topic13\", \"Topic13\", \"Topic13\", \"Topic13\", \"Topic13\", \"Topic13\", \"Topic13\", \"Topic13\", \"Topic13\", \"Topic13\", \"Topic13\", \"Topic13\", \"Topic13\", \"Topic13\", \"Topic13\", \"Topic13\", \"Topic13\", \"Topic13\", \"Topic13\", \"Topic13\", \"Topic13\", \"Topic13\", \"Topic13\", \"Topic13\", \"Topic13\", \"Topic13\", \"Topic13\", \"Topic13\", \"Topic13\", \"Topic13\", \"Topic13\", \"Topic13\", \"Topic13\", \"Topic13\", \"Topic13\", \"Topic13\", \"Topic13\", \"Topic13\", \"Topic13\", \"Topic13\", \"Topic13\", \"Topic13\", \"Topic14\", \"Topic14\", \"Topic14\", \"Topic14\", \"Topic14\", \"Topic14\", \"Topic14\", \"Topic14\", \"Topic14\", \"Topic14\", \"Topic14\", \"Topic14\", \"Topic14\", \"Topic14\", \"Topic14\", \"Topic14\", \"Topic14\", \"Topic14\", \"Topic14\", \"Topic14\", \"Topic14\", \"Topic14\", \"Topic14\", \"Topic14\", \"Topic14\", \"Topic14\", \"Topic14\", \"Topic14\", \"Topic14\", \"Topic14\", \"Topic14\", \"Topic14\", \"Topic14\", \"Topic14\", \"Topic14\", \"Topic14\", \"Topic14\", \"Topic14\", \"Topic14\", \"Topic14\", \"Topic14\", \"Topic14\", \"Topic14\", \"Topic14\", \"Topic14\", \"Topic14\", \"Topic14\", \"Topic14\", \"Topic14\", \"Topic14\", \"Topic14\", \"Topic14\", \"Topic14\", \"Topic14\", \"Topic14\", \"Topic14\", \"Topic14\", \"Topic14\", \"Topic14\", \"Topic14\", \"Topic14\", \"Topic14\", \"Topic14\", \"Topic14\", \"Topic14\", \"Topic14\", \"Topic14\", \"Topic14\", \"Topic14\", \"Topic14\", \"Topic14\", \"Topic14\", \"Topic14\", \"Topic14\", \"Topic14\", \"Topic14\", \"Topic14\", \"Topic15\", \"Topic15\", \"Topic15\", \"Topic15\", \"Topic15\", \"Topic15\", \"Topic15\", \"Topic15\", \"Topic15\", \"Topic15\", \"Topic15\", \"Topic15\", \"Topic15\", \"Topic15\", \"Topic15\", \"Topic15\", \"Topic15\", \"Topic15\", \"Topic15\", \"Topic15\", \"Topic15\", \"Topic15\", \"Topic15\", \"Topic15\", \"Topic15\", \"Topic15\", \"Topic15\", \"Topic15\", \"Topic15\", \"Topic15\", \"Topic15\", \"Topic15\", \"Topic15\", \"Topic15\", \"Topic15\", \"Topic15\", \"Topic15\", \"Topic15\", \"Topic15\", \"Topic15\", \"Topic15\", \"Topic15\", \"Topic15\", \"Topic15\", \"Topic15\", \"Topic15\", \"Topic15\", \"Topic15\", \"Topic15\", \"Topic15\", \"Topic15\", \"Topic15\", \"Topic15\", \"Topic15\", \"Topic15\", \"Topic15\", \"Topic15\", \"Topic15\", \"Topic15\", \"Topic15\", \"Topic15\", \"Topic15\", \"Topic15\", \"Topic15\", \"Topic15\", \"Topic15\", \"Topic15\", \"Topic15\", \"Topic15\", \"Topic15\", \"Topic15\", \"Topic15\", \"Topic15\", \"Topic15\", \"Topic15\", \"Topic15\", \"Topic15\", \"Topic15\"], \"Freq\": [8747.0, 5845.0, 7419.0, 4863.0, 6704.0, 3039.0, 2144.0, 2378.0, 2072.0, 1075.0, 2482.0, 1704.0, 1485.0, 2221.0, 3120.0, 1975.0, 3012.0, 1222.0, 1635.0, 1239.0, 888.0, 1128.0, 841.0, 3862.0, 1341.0, 1676.0, 1752.0, 1488.0, 1230.0, 2312.0, 91.0674819946289, 80.98893737792969, 64.30487823486328, 38.448265075683594, 215.59796142578125, 471.4625244140625, 27.384023666381836, 43.433311462402344, 93.74307250976562, 26.783584594726562, 21.2453670501709, 24.25990104675293, 20.35372543334961, 17.514314651489258, 23.893117904663086, 16.126070022583008, 15.581664085388184, 15.495986938476562, 15.063339233398438, 15.027158737182617, 15.360074043273926, 14.056737899780273, 39.644344329833984, 13.543766975402832, 15.2208833694458, 13.31749153137207, 12.869784355163574, 12.836822509765625, 12.89372730255127, 13.243241310119629, 366.91796875, 291.22918701171875, 144.0822296142578, 147.2496337890625, 111.15751647949219, 82.56426239013672, 328.96490478515625, 444.9491882324219, 328.248291015625, 271.13421630859375, 6069.57373046875, 217.8931427001953, 95.92737579345703, 39.07421112060547, 243.77415466308594, 76.01849365234375, 154.19053649902344, 901.7767944335938, 66.37532806396484, 1523.59375, 113.41922760009766, 132.9496307373047, 157.28167724609375, 94.32719421386719, 281.8992004394531, 829.142578125, 163.39344787597656, 379.411865234375, 966.9537353515625, 249.1161651611328, 179.1785430908203, 528.7662963867188, 187.31915283203125, 488.44061279296875, 306.13507080078125, 787.9921264648438, 423.7939453125, 267.4012145996094, 526.6326293945312, 274.1075744628906, 487.9150085449219, 269.1887512207031, 319.45599365234375, 211.8611602783203, 271.9332275390625, 260.0196228027344, 321.1700439453125, 231.33493041992188, 111.67356872558594, 396.4412536621094, 73.04218292236328, 35.412567138671875, 34.28763961791992, 117.45452117919922, 29.002483367919922, 23.197914123535156, 25.48759651184082, 20.436180114746094, 68.6247787475586, 1609.5550537109375, 15.302928924560547, 18.15480613708496, 13.850635528564453, 211.0333251953125, 93.22029876708984, 13.437009811401367, 13.85621166229248, 394.3841857910156, 12.79391098022461, 12.551095962524414, 11.969367980957031, 11.216225624084473, 10.852960586547852, 10.004297256469727, 9.28958797454834, 8.597912788391113, 416.7525634765625, 1757.1005859375, 280.4122314453125, 148.99224853515625, 137.45965576171875, 56.098445892333984, 285.60528564453125, 86.97824096679688, 68.96321868896484, 195.3672637939453, 638.271728515625, 218.27053833007812, 69.29540252685547, 616.9077758789062, 275.74169921875, 1238.00146484375, 322.451171875, 955.8048095703125, 118.79952239990234, 1219.6195068359375, 296.5207214355469, 172.22198486328125, 399.1114196777344, 1095.2540283203125, 441.06292724609375, 1407.8446044921875, 343.7045593261719, 799.781982421875, 782.9463500976562, 509.61346435546875, 771.7574462890625, 502.2843933105469, 723.1256103515625, 260.3856201171875, 279.49951171875, 273.0379638671875, 169.32171630859375, 44.90400314331055, 68.69385528564453, 52.62275695800781, 20.151174545288086, 18.450918197631836, 35.773155212402344, 16.155635833740234, 262.2775573730469, 247.79823303222656, 14.052971839904785, 12.804547309875488, 11.39194393157959, 17.30779266357422, 9.704167366027832, 10.339798927307129, 9.691768646240234, 8.781638145446777, 8.506911277770996, 8.23025894165039, 8.987438201904297, 8.116861343383789, 8.08693790435791, 7.941766262054443, 7.85807991027832, 8.352693557739258, 7.71613073348999, 7.681650161743164, 8.701139450073242, 7.382770538330078, 59.54726791381836, 247.76339721679688, 27.02264976501465, 37.2608642578125, 63.4321403503418, 24.7611141204834, 24.436674118041992, 75.62381744384766, 24.491039276123047, 113.5839614868164, 57.55939483642578, 242.41111755371094, 70.45103454589844, 51.14196014404297, 185.79165649414062, 165.12026977539062, 2522.31591796875, 804.6190795898438, 121.3955307006836, 97.0182113647461, 699.1381225585938, 197.90272521972656, 128.0209503173828, 84.08049011230469, 183.4098358154297, 251.941650390625, 81.34471130371094, 94.98654174804688, 720.3591918945312, 237.96343994140625, 318.3463134765625, 193.84962463378906, 205.71836853027344, 410.54150390625, 196.1232147216797, 307.02362060546875, 301.0214538574219, 480.50457763671875, 144.47813415527344, 196.83782958984375, 156.62869262695312, 250.17404174804688, 182.43798828125, 227.80824279785156, 176.99310302734375, 161.31149291992188, 170.74496459960938, 119.36541748046875, 54.3563232421875, 84.15164184570312, 64.36872100830078, 22.372631072998047, 22.2924747467041, 23.202882766723633, 21.237659454345703, 15.909934043884277, 90.05827331542969, 15.914947509765625, 14.924914360046387, 14.51632308959961, 13.754470825195312, 13.565558433532715, 15.646675109863281, 118.98009490966797, 12.352499008178711, 11.812793731689453, 11.763444900512695, 19.763427734375, 137.6302032470703, 10.946420669555664, 10.953825950622559, 205.03189086914062, 10.694395065307617, 10.393227577209473, 34.70403289794922, 10.221719741821289, 9.952574729919434, 41.389461517333984, 174.1105499267578, 81.60482788085938, 13.454023361206055, 180.3918914794922, 65.17462158203125, 27.891096115112305, 1854.6920166015625, 126.98765563964844, 127.11238861083984, 143.5162353515625, 49.93692398071289, 437.932861328125, 117.28900909423828, 35.58295440673828, 108.94921112060547, 71.45458221435547, 334.32171630859375, 137.6480712890625, 62.04047393798828, 253.31698608398438, 51.638851165771484, 178.93458557128906, 59.08668518066406, 334.6927490234375, 108.66443634033203, 121.8293228149414, 284.38836669921875, 176.1016082763672, 365.09771728515625, 307.9396667480469, 195.9178924560547, 225.30215454101562, 239.1154022216797, 133.9177703857422, 146.9598846435547, 189.45144653320312, 171.92149353027344, 123.92965698242188, 45.583900451660156, 50.15494918823242, 23.01209831237793, 69.8962631225586, 196.60438537597656, 17.363021850585938, 19.732751846313477, 14.722589492797852, 13.47220230102539, 13.449186325073242, 13.97941780090332, 204.34054565429688, 11.256773948669434, 12.251349449157715, 30.666065216064453, 10.869012832641602, 10.73724365234375, 10.58007526397705, 10.428051948547363, 10.298127174377441, 10.359413146972656, 9.95138168334961, 9.951399803161621, 9.77769947052002, 9.761919021606445, 9.309454917907715, 9.272493362426758, 8.630433082580566, 8.542338371276855, 61.098297119140625, 16.41090965270996, 149.23667907714844, 196.89295959472656, 262.2725830078125, 167.83372497558594, 286.3213806152344, 123.5277099609375, 22.072433471679688, 34.3353157043457, 149.73997497558594, 132.08294677734375, 26.51980209350586, 30.494733810424805, 37.222225189208984, 92.45899200439453, 68.88668060302734, 561.8804931640625, 232.80389404296875, 81.72948455810547, 351.662353515625, 53.51301574707031, 125.67355346679688, 123.19181060791016, 49.16902542114258, 887.6575317382812, 547.1527709960938, 154.69764709472656, 83.37020111083984, 198.5472869873047, 319.25653076171875, 654.451416015625, 292.6490783691406, 464.9928894042969, 122.40458679199219, 218.67822265625, 111.82566833496094, 289.66790771484375, 473.6015930175781, 140.26109313964844, 152.939453125, 137.92221069335938, 167.1455535888672, 131.1793975830078, 124.46569061279297, 11.545702934265137, 10.66688346862793, 10.401360511779785, 9.810606002807617, 8.357417106628418, 7.766965389251709, 7.564199924468994, 7.477029323577881, 11.56574821472168, 6.5031890869140625, 6.166707515716553, 5.951563835144043, 16.313861846923828, 5.663934230804443, 4.979886054992676, 6.729728698730469, 3.945525884628296, 12.89725399017334, 196.39572143554688, 5.5885820388793945, 11.774944305419922, 7.029317378997803, 8.645130157470703, 10.73359203338623, 2.6452794075012207, 9.99314022064209, 84.1364974975586, 15.339959144592285, 8.87238883972168, 198.9350128173828, 5282.68017578125, 81.24141693115234, 813.5057983398438, 1047.6123046875, 522.5913696289062, 1932.213623046875, 61.47270202636719, 279.64031982421875, 411.9881896972656, 299.3222961425781, 146.8418731689453, 208.82289123535156, 31.661113739013672, 487.48541259765625, 141.71998596191406, 34.58475875854492, 270.63665771484375, 88.7419662475586, 64.88064575195312, 43.48423385620117, 729.790283203125, 247.0663604736328, 103.61042785644531, 158.69642639160156, 75.18344116210938, 162.51962280273438, 98.83491516113281, 117.28064727783203, 81.9896469116211, 229.9935760498047, 136.57762145996094, 235.34510803222656, 95.17367553710938, 158.1512451171875, 107.06005096435547, 38.43309020996094, 19.399484634399414, 28.411548614501953, 17.568185806274414, 14.900761604309082, 15.047176361083984, 13.251527786254883, 13.248866081237793, 15.800975799560547, 12.97357177734375, 12.359549522399902, 15.672670364379883, 25.79970932006836, 11.788496971130371, 26.531564712524414, 54.19614028930664, 10.919447898864746, 11.387931823730469, 10.90491771697998, 10.855963706970215, 10.656905174255371, 10.31006908416748, 10.118748664855957, 9.979541778564453, 89.07047271728516, 10.231010437011719, 9.512950897216797, 9.24655818939209, 16.64381980895996, 8.544212341308594, 32.74372863769531, 70.90099334716797, 21.426969528198242, 108.47403717041016, 39.35960388183594, 294.6818542480469, 282.8497009277344, 276.6163635253906, 57.52662658691406, 115.00302124023438, 66.78668212890625, 122.4128646850586, 91.4561767578125, 260.20050048828125, 45.06046676635742, 41.70049285888672, 286.9114990234375, 230.81033325195312, 408.1994323730469, 141.35601806640625, 45.039852142333984, 83.41959381103516, 118.03265380859375, 74.43612670898438, 137.89450073242188, 316.7300109863281, 192.79751586914062, 159.84828186035156, 120.50713348388672, 298.2901306152344, 677.0778198242188, 612.009033203125, 68.19208526611328, 670.2548828125, 310.62957763671875, 116.69971466064453, 130.1367950439453, 308.3173522949219, 209.06813049316406, 368.2132568359375, 313.19891357421875, 156.31637573242188, 129.77069091796875, 110.3999252319336, 21.255990982055664, 25.401626586914062, 19.973052978515625, 18.424434661865234, 16.793701171875, 16.65202522277832, 15.995972633361816, 15.372956275939941, 15.367201805114746, 15.375292778015137, 14.609039306640625, 14.220935821533203, 14.33663272857666, 23.99094581604004, 13.439493179321289, 16.10782241821289, 13.035304069519043, 14.315418243408203, 12.538121223449707, 12.548844337463379, 12.951027870178223, 12.08938980102539, 12.418556213378906, 11.66513729095459, 11.691304206848145, 11.564983367919922, 19.424100875854492, 10.957276344299316, 41.57855224609375, 10.713386535644531, 64.37158966064453, 21.409019470214844, 33.184993743896484, 37.55424499511719, 42.54530334472656, 41.54618835449219, 153.05714416503906, 46.90544128417969, 61.57405090332031, 19.536951065063477, 25.79606056213379, 43.81741714477539, 27.639867782592773, 97.59239959716797, 61.88776779174805, 52.72671127319336, 131.94383239746094, 44.57011795043945, 59.64512634277344, 383.0247802734375, 162.94151306152344, 42.0712890625, 101.2583236694336, 61.048988342285156, 121.79019927978516, 96.12421417236328, 143.45037841796875, 133.77867126464844, 70.73247528076172, 106.72697448730469, 96.69084167480469, 92.7836685180664, 124.00772857666016, 96.98735046386719, 87.25789642333984, 80.68116760253906, 92.57398986816406, 88.88343811035156, 98.15192413330078, 292.0196533203125, 197.47216796875, 68.2762222290039, 135.006103515625, 127.29002380371094, 89.862548828125, 92.4903564453125, 86.0306396484375, 132.03897094726562, 95.17871856689453, 125.91143798828125, 115.84925079345703, 101.4932861328125, 156.31292724609375, 35.0600700378418, 27.081998825073242, 25.187772750854492, 25.107765197753906, 38.55491256713867, 26.268836975097656, 24.35578155517578, 23.52750015258789, 22.89872932434082, 18.978796005249023, 26.676069259643555, 20.41741180419922, 17.35122299194336, 14.810367584228516, 60.7894401550293, 12.739374160766602, 13.946218490600586, 11.523624420166016, 11.141830444335938, 119.9255142211914, 10.21903133392334, 9.7965669631958, 9.469988822937012, 9.439651489257812, 9.220376014709473, 9.124399185180664, 9.101044654846191, 9.564926147460938, 18.841083526611328, 168.44178771972656, 44.699851989746094, 422.1464538574219, 756.2606201171875, 571.0650634765625, 23.595251083374023, 204.62808227539062, 68.80438232421875, 304.1094665527344, 135.6980438232422, 984.3821411132812, 39.002872467041016, 58.97871780395508, 872.96923828125, 69.8510971069336, 51.92951202392578, 140.88491821289062, 63.563087463378906, 62.755340576171875, 52.467010498046875, 63.931541442871094, 101.90235900878906, 100.95790100097656, 72.46932220458984, 70.35673522949219, 73.83523559570312, 619.6930541992188, 104.1495361328125, 129.9768524169922, 236.52769470214844, 93.83928680419922, 314.607421875, 104.4959716796875, 154.48660278320312, 217.85008239746094, 208.55218505859375, 184.38571166992188, 157.75436401367188, 87.0926513671875, 101.0936508178711, 92.58694458007812, 82.19490051269531, 83.89940643310547, 20.692758560180664, 18.67559814453125, 17.457977294921875, 17.98846435546875, 13.939281463623047, 12.620784759521484, 11.955791473388672, 11.917329788208008, 12.519144058227539, 11.452601432800293, 10.418099403381348, 8.720391273498535, 8.66589641571045, 8.32987117767334, 8.374478340148926, 7.2537970542907715, 6.697476387023926, 6.634555339813232, 8.911406517028809, 7.279895782470703, 6.419149398803711, 6.159628868103027, 5.81315279006958, 5.7675371170043945, 5.899627685546875, 21.55877685546875, 5.594147205352783, 6.055979251861572, 5.5481462478637695, 10.824411392211914, 33.049415588378906, 4292.5341796875, 10.397723197937012, 316.8916931152344, 120.06228637695312, 652.3035888671875, 564.0209350585938, 1844.93994140625, 17.049739837646484, 13.531023979187012, 115.50543212890625, 135.99502563476562, 14.777731895446777, 154.53848266601562, 201.4626007080078, 36.12455749511719, 232.45919799804688, 122.40093231201172, 227.58120727539062, 71.46311950683594, 101.88301086425781, 94.3551254272461, 681.2506713867188, 129.5924072265625, 306.5893249511719, 279.5256042480469, 89.91625213623047, 110.44478607177734, 91.8181381225586, 192.90237426757812, 163.85398864746094, 187.76556396484375, 69.66120147705078, 105.46324157714844, 102.26862335205078, 142.91339111328125, 146.2669219970703, 151.44195556640625, 1063.99853515625, 27.31547737121582, 87.48188018798828, 20.677705764770508, 14.278929710388184, 12.974733352661133, 176.86000061035156, 15.755972862243652, 9.098876953125, 9.098873138427734, 8.379714012145996, 8.127659797668457, 8.059609413146973, 152.50796508789062, 6.810916900634766, 6.659088134765625, 6.564784526824951, 6.696938514709473, 6.238940715789795, 54.893497467041016, 6.03557825088501, 5.877346038818359, 5.7751851081848145, 5.715539932250977, 151.3397674560547, 5.472385406494141, 5.042527675628662, 5.9077653884887695, 5.009283542633057, 5.174679279327393, 338.4825744628906, 131.97027587890625, 71.89288330078125, 24.924482345581055, 703.2506103515625, 44.823089599609375, 36.42173767089844, 197.99732971191406, 313.01776123046875, 57.48297882080078, 35.33598709106445, 131.31825256347656, 119.35031127929688, 128.63760375976562, 181.8540496826172, 78.8499755859375, 158.02784729003906, 45.820838928222656, 63.32524871826172, 830.9561157226562, 1029.7113037109375, 478.46136474609375, 167.68582153320312, 189.9376983642578, 92.29054260253906, 282.6676940917969, 729.022705078125, 125.78245544433594, 184.42922973632812, 371.2204284667969, 175.83517456054688, 181.1511688232422, 265.55120849609375, 107.12887573242188, 198.12925720214844, 238.1014862060547, 134.9928436279297, 156.16734313964844, 132.83761596679688, 133.36624145507812, 22.712100982666016, 19.812137603759766, 18.567705154418945, 16.559837341308594, 16.55902671813965, 14.683536529541016, 14.030405044555664, 21.53594970703125, 54.4337158203125, 12.088617324829102, 11.289505004882812, 10.67442512512207, 10.47739028930664, 8.81625747680664, 7.905752182006836, 7.872694969177246, 25.950820922851562, 7.6377177238464355, 9.40982723236084, 6.7671918869018555, 6.608088493347168, 6.4475274085998535, 6.394458293914795, 6.3206024169921875, 6.1934003829956055, 6.192266464233398, 6.033677577972412, 6.032133102416992, 11.30490779876709, 5.737339496612549, 23.682357788085938, 14.616339683532715, 8.923181533813477, 14.8373441696167, 104.63339233398438, 858.1297607421875, 676.714111328125, 67.29390716552734, 210.8589324951172, 65.8324203491211, 205.72067260742188, 584.2371215820312, 32.23550796508789, 96.0893325805664, 92.89945983886719, 61.281005859375, 38.340232849121094, 181.36436462402344, 31.12480926513672, 45.50838088989258, 122.50672149658203, 50.93811798095703, 303.1385803222656, 53.58156967163086, 464.32421875, 71.58161926269531, 88.80937194824219, 60.27913284301758, 55.961978912353516, 113.9172134399414, 70.59210205078125, 286.00421142578125, 304.09130859375, 344.6888427734375, 195.50328063964844, 166.27313232421875, 233.91741943359375, 115.60015869140625, 138.96810913085938, 262.20245361328125, 110.40437316894531, 107.92657470703125, 143.42913818359375, 202.09805297851562, 101.10950469970703, 137.35516357421875, 87.5901107788086, 90.4863510131836, 35.146366119384766, 41.947669982910156, 110.71176147460938, 21.258485794067383, 40.7020263671875, 16.008880615234375, 15.389366149902344, 15.441855430603027, 13.694648742675781, 13.608903884887695, 12.220928192138672, 11.99690055847168, 12.22408676147461, 78.5761947631836, 10.421262741088867, 10.001885414123535, 10.159463882446289, 9.949067115783691, 19.512779235839844, 9.27407169342041, 23.985013961791992, 9.02617359161377, 15.192161560058594, 8.238980293273926, 40.23883056640625, 23.063976287841797, 7.671597480773926, 7.770031452178955, 7.786068916320801, 6.671294212341309, 41.041847229003906, 34.4347038269043, 18.185644149780273, 13.703327178955078, 54.409095764160156, 184.79702758789062, 40.95948028564453, 42.32992935180664, 162.4554443359375, 118.49278259277344, 121.79678344726562, 44.03916549682617, 50.32979202270508, 65.9632339477539, 348.095703125, 107.67555236816406, 235.84632873535156, 25.71254539489746, 131.23081970214844, 80.84716796875, 60.07666778564453, 80.48509979248047, 28.766748428344727, 42.76776123046875, 140.3534698486328, 193.45745849609375, 474.04296875, 78.89212799072266, 111.39248657226562, 202.2279510498047, 160.0512237548828, 121.1973648071289, 180.21934509277344, 166.09707641601562, 68.66914367675781, 77.68577575683594, 69.07673645019531, 82.28015899658203, 109.00129699707031, 137.4116973876953, 95.13965606689453, 109.07443237304688, 99.87625122070312, 103.86038208007812, 82.40213012695312, 46.78230285644531, 25.56977081298828, 20.111534118652344, 19.69944190979004, 25.213085174560547, 18.942155838012695, 14.177413940429688, 13.20396900177002, 13.027484893798828, 12.698718070983887, 11.085992813110352, 11.200577735900879, 10.367988586425781, 10.277793884277344, 10.21838665008545, 10.09445858001709, 10.471298217773438, 9.994958877563477, 9.611968040466309, 9.314679145812988, 9.303714752197266, 9.115442276000977, 8.834160804748535, 8.863465309143066, 8.646697998046875, 9.556193351745605, 55.69224548339844, 8.202470779418945, 8.07771110534668, 7.991680145263672, 100.27528381347656, 55.806236267089844, 23.5447940826416, 22.800495147705078, 74.99803161621094, 19.643775939941406, 26.744251251220703, 19.62672233581543, 14.382603645324707, 62.092559814453125, 219.5469207763672, 45.252315521240234, 51.67036437988281, 44.078460693359375, 32.62474060058594, 30.900789260864258, 511.2429504394531, 23.564592361450195, 20.818286895751953, 412.6078796386719, 153.93836975097656, 80.96963500976562, 34.10976791381836, 72.36817932128906, 53.38389587402344, 30.54719352722168, 89.63095092773438, 44.58742904663086, 212.5779266357422, 163.1811065673828, 117.11521911621094, 45.47568893432617, 234.68370056152344, 79.18961334228516, 37.945892333984375, 117.9444351196289, 71.38877868652344, 145.95010375976562, 69.94282531738281, 45.89739990234375, 99.5296401977539, 72.89974975585938, 83.66642761230469, 64.44625091552734, 54.42501449584961, 51.73361587524414, 54.064151763916016, 27.889734268188477, 21.198402404785156, 19.636003494262695, 19.477828979492188, 19.125099182128906, 18.971229553222656, 23.91109275817871, 13.986019134521484, 12.005812644958496, 11.770118713378906, 15.07376480102539, 10.602249145507812, 10.370203971862793, 10.024430274963379, 9.954727172851562, 9.778787612915039, 9.629112243652344, 9.583227157592773, 9.475189208984375, 9.173057556152344, 8.552135467529297, 8.373214721679688, 8.625333786010742, 7.8936448097229, 7.873476982116699, 7.873137474060059, 8.357722282409668, 7.742450714111328, 7.345256328582764, 7.298168659210205, 70.95972442626953, 26.944910049438477, 66.93222045898438, 32.21125793457031, 34.75306701660156, 72.35111236572266, 108.1614990234375, 22.1303653717041, 17.937658309936523, 20.216398239135742, 57.60953903198242, 26.80392074584961, 28.926746368408203, 182.0512237548828, 61.845794677734375, 31.587411880493164, 24.734323501586914, 129.67535400390625, 256.160888671875, 43.60350799560547, 33.039527893066406, 111.73799133300781, 289.4826354980469, 60.60157012939453, 83.1121597290039, 52.12717819213867, 80.78594207763672, 82.05912780761719, 38.88276672363281, 184.7296142578125, 61.82575225830078, 124.15724182128906, 40.793731689453125, 77.52692413330078, 69.21965026855469, 177.30990600585938, 41.103206634521484, 111.09969329833984, 47.30353927612305, 54.2601203918457, 68.68592834472656, 84.0604248046875, 91.9419937133789, 69.63201904296875, 64.13459777832031, 66.77338409423828, 61.699344635009766, 54.801612854003906], \"Term\": [\"great\", \"good\", \"batteries\", \"price\", \"tablet\", \"kindle\", \"loves\", \"long\", \"old\", \"gift\", \"kids\", \"year\", \"books\", \"battery\", \"bought\", \"product\", \"easy\", \"reading\", \"screen\", \"read\", \"christmas\", \"life\", \"brands\", \"amazon\", \"quality\", \"games\", \"apps\", \"works\", \"brand\", \"work\", \"wrapped\", \"cardboard\", \"leaked\", \"shrink\", \"remotes\", \"aa\", \"cents\", \"clocks\", \"packs\", \"trail\", \"cars\", \"motion\", \"ruined\", \"pump\", \"wrapping\", \"silver\", \"wasnt\", \"neatly\", \"shoot\", \"trash\", \"lucky\", \"august\", \"acid\", \"flameless\", \"yeah\", \"individually\", \"eats\", \"wizard\", \"scientific\", \"balance\", \"toys\", \"remote\", \"packaged\", \"bulk\", \"flashlights\", \"delivered\", \"pack\", \"box\", \"aaa\", \"amazonbasics\", \"batteries\", \"packaging\", \"candles\", \"wrap\", \"basics\", \"stores\", \"package\", \"brand\", \"sizes\", \"work\", \"controllers\", \"dead\", \"alkaline\", \"plastic\", \"buying\", \"long\", \"house\", \"ve\", \"amazon\", \"cheap\", \"lasting\", \"buy\", \"come\", \"like\", \"store\", \"great\", \"battery\", \"brands\", \"price\", \"lot\", \"use\", \"need\", \"time\", \"fine\", \"love\", \"bought\", \"yr\", \"educational\", \"entertained\", \"parental\", \"busy\", \"grandchild\", \"occupied\", \"appropriate\", \"olds\", \"cartoons\", \"restrictions\", \"seven\", \"bumper\", \"year\", \"hang\", \"indestructible\", \"autism\", \"age\", \"limits\", \"brings\", \"abc\", \"learning\", \"hes\", \"twins\", \"curve\", \"worrying\", \"replaces\", \"shapes\", \"minimum\", \"alphabet\", \"kid\", \"old\", \"durable\", \"grandkids\", \"grand\", \"pink\", \"controls\", \"limit\", \"parent\", \"keeps\", \"daughter\", \"warranty\", \"drops\", \"son\", \"granddaughter\", \"loves\", \"child\", \"games\", \"plays\", \"kids\", \"grandson\", \"control\", \"set\", \"love\", \"play\", \"tablet\", \"case\", \"easy\", \"bought\", \"apps\", \"use\", \"time\", \"great\", \"free\", \"got\", \"perfect\", \"sd\", \"activities\", \"micro\", \"operating\", \"playstore\", \"computers\", \"cracked\", \"bugs\", \"card\", \"gb\", \"rooting\", \"vibrant\", \"accidental\", \"delighted\", \"manga\", \"customize\", \"core\", \"downloadable\", \"worn\", \"convert\", \"quad\", \"input\", \"gym\", \"learns\", \"preinstalled\", \"limiting\", \"curfew\", \"native\", \"fb\", \"seamlessly\", \"expandable\", \"memory\", \"underground\", \"slot\", \"viewing\", \"tasks\", \"sites\", \"photos\", \"entry\", \"speed\", \"responsive\", \"storage\", \"entertainment\", \"processor\", \"android\", \"netflix\", \"tablet\", \"apps\", \"resolution\", \"inch\", \"screen\", \"download\", \"clear\", \"samsung\", \"google\", \"hd\", \"plenty\", \"add\", \"amazon\", \"ipad\", \"games\", \"tablets\", \"little\", \"use\", \"need\", \"like\", \"kids\", \"great\", \"app\", \"play\", \"movies\", \"easy\", \"nice\", \"love\", \"better\", \"size\", \"price\", \"oasis\", \"savvy\", \"lighter\", \"improvement\", \"integration\", \"sensitive\", \"tho\", \"teaching\", \"backlit\", \"upgraded\", \"fianc\", \"bezel\", \"leather\", \"slip\", \"prefers\", \"responds\", \"tech\", \"enlarge\", \"flimsy\", \"overseas\", \"upgrading\", \"paperwhite\", \"section\", \"error\", \"upgrade\", \"techie\", \"lastly\", \"words\", \"fir\", \"approved\", \"hdx\", \"previous\", \"owned\", \"comfortably\", \"cover\", \"\\u00e4\\u00f4t\", \"restart\", \"kindle\", \"voyage\", \"original\", \"model\", \"reads\", \"new\", \"kindles\", \"serves\", \"page\", \"buttons\", \"ipad\", \"ok\", \"cool\", \"hd\", \"paper\", \"reader\", \"white\", \"screen\", \"decided\", \"easier\", \"best\", \"case\", \"love\", \"bought\", \"read\", \"old\", \"like\", \"years\", \"happy\", \"buy\", \"use\", \"ve\", \"dot\", \"portability\", \"sleep\", \"voice\", \"speaker\", \"minecraft\", \"lighted\", \"flip\", \"reccomend\", \"adjustable\", \"enabled\", \"echo\", \"jack\", \"boyfriend\", \"sounds\", \"relaxing\", \"tank\", \"assistant\", \"adjusted\", \"dictionary\", \"responsiveness\", \"intermediate\", \"headphone\", \"coat\", \"exceeds\", \"ha\", \"east\", \"random\", \"appointments\", \"dark\", \"upgrades\", \"lightweight\", \"tap\", \"alexa\", \"portable\", \"sound\", \"eyes\", \"sun\", \"carrying\", \"travel\", \"convenient\", \"auto\", \"print\", \"adjust\", \"bluetooth\", \"purse\", \"size\", \"book\", \"th\", \"light\", \"addition\", \"weight\", \"carry\", \"crisp\", \"easy\", \"screen\", \"home\", \"fits\", \"small\", \"read\", \"use\", \"reading\", \"love\", \"easier\", \"nice\", \"picture\", \"like\", \"great\", \"reader\", \"perfect\", \"set\", \"kindle\", \"amazon\", \"books\", \"fight\", \"accessing\", \"explained\", \"enter\", \"crashed\", \"silicon\", \"cast\", \"sudden\", \"traded\", \"desktop\", \"ds\", \"ty\", \"provided\", \"performer\", \"stable\", \"discover\", \"woo\", \"bedtime\", \"friday\", \"unplugged\", \"ultra\", \"autistic\", \"grows\", \"ensure\", \"ikea\", \"desired\", \"advertised\", \"teens\", \"tad\", \"black\", \"great\", \"recommended\", \"works\", \"product\", \"value\", \"price\", \"shipping\", \"fast\", \"recommend\", \"deal\", \"highly\", \"awesome\", \"durability\", \"buy\", \"definitely\", \"delivery\", \"quality\", \"sale\", \"service\", \"solid\", \"tablet\", \"best\", \"item\", \"money\", \"picture\", \"perfect\", \"beat\", \"excellent\", \"camera\", \"love\", \"nice\", \"good\", \"features\", \"kids\", \"use\", \"yrs\", \"fee\", \"net\", \"supports\", \"disable\", \"songs\", \"jealous\", \"iphones\", \"textbooks\", \"instagram\", \"cartoon\", \"aspect\", \"chrome\", \"reputable\", \"promised\", \"members\", \"tends\", \"companion\", \"meaning\", \"asleep\", \"assured\", \"task\", \"hotspot\", \"modified\", \"streaming\", \"suited\", \"cumbersome\", \"gmail\", \"block\", \"florida\", \"youngest\", \"functions\", \"files\", \"member\", \"browse\", \"prime\", \"google\", \"music\", \"stream\", \"youtube\", \"shopping\", \"email\", \"surfing\", \"watch\", \"services\", \"provides\", \"movies\", \"internet\", \"play\", \"web\", \"news\", \"check\", \"family\", \"browsing\", \"phone\", \"store\", \"app\", \"access\", \"wifi\", \"nice\", \"use\", \"amazon\", \"listen\", \"tablet\", \"apps\", \"available\", \"videos\", \"easy\", \"games\", \"great\", \"good\", \"like\", \"books\", \"want\", \"thinks\", \"fingers\", \"owner\", \"deck\", \"outlet\", \"claim\", \"highest\", \"lite\", \"sensitivity\", \"consistently\", \"interesting\", \"drains\", \"luckily\", \"square\", \"godson\", \"cold\", \"vac\", \"androids\", \"introduced\", \"coppertops\", \"tear\", \"swiping\", \"suspect\", \"justify\", \"sensor\", \"reach\", \"feedback\", \"babies\", \"adapter\", \"burned\", \"poor\", \"switching\", \"wear\", \"magazine\", \"menu\", \"talk\", \"keyboard\", \"pair\", \"stop\", \"gadget\", \"checked\", \"weather\", \"swipe\", \"button\", \"hour\", \"magazines\", \"went\", \"today\", \"soon\", \"device\", \"problem\", \"terrible\", \"couple\", \"left\", \"tried\", \"issue\", \"ll\", \"months\", \"installed\", \"reviews\", \"said\", \"week\", \"power\", \"items\", \"turn\", \"change\", \"won\", \"bad\", \"home\", \"amazon\", \"battery\", \"wouldn\", \"store\", \"ve\", \"days\", \"sure\", \"devices\", \"time\", \"charge\", \"like\", \"buy\", \"use\", \"described\", \"span\", \"fingertips\", \"mah\", \"winner\", \"premium\", \"somewhat\", \"national\", \"glass\", \"exclusively\", \"procell\", \"superb\", \"clearly\", \"substantial\", \"guns\", \"average\", \"contrast\", \"disposable\", \"sooo\", \"unexpected\", \"higher\", \"simpler\", \"dpi\", \"upgradable\", \"fifty\", \"expectancy\", \"wonder\", \"ea\", \"closet\", \"rayovacs\", \"exactly\", \"rayovac\", \"duracell\", \"life\", \"brands\", \"wide\", \"energizer\", \"models\", \"longer\", \"lasts\", \"battery\", \"results\", \"shelf\", \"long\", \"usage\", \"capacity\", \"compared\", \"test\", \"tested\", \"controller\", \"major\", \"difference\", \"look\", \"short\", \"priced\", \"xbox\", \"batteries\", \"lasting\", \"big\", \"time\", \"lasted\", \"good\", \"cheaper\", \"better\", \"price\", \"use\", \"amazon\", \"like\", \"haven\", \"buy\", \"brand\", \"cost\", \"work\", \"expanded\", \"named\", \"purple\", \"em\", \"novels\", \"editing\", \"coffee\", \"ride\", \"report\", \"goodness\", \"limitation\", \"correct\", \"natural\", \"differences\", \"repeat\", \"china\", \"dependent\", \"folks\", \"truck\", \"produces\", \"sam\", \"stronger\", \"elements\", \"complaining\", \"feb\", \"red\", \"calculator\", \"mediocre\", \"dimmer\", \"upcoming\", \"fair\", \"good\", \"cash\", \"beat\", \"thank\", \"quality\", \"far\", \"price\", \"meant\", \"challenge\", \"job\", \"problems\", \"technical\", \"cheaper\", \"excellent\", \"quantity\", \"value\", \"expensive\", \"brand\", \"point\", \"issues\", \"basic\", \"batteries\", \"fine\", \"buy\", \"work\", \"haven\", \"pretty\", \"performance\", \"works\", \"better\", \"product\", \"decent\", \"deal\", \"happy\", \"time\", \"long\", \"amazon\", \"gift\", \"recipient\", \"law\", \"girlfriend\", \"pen\", \"boot\", \"mother\", \"explain\", \"clubhouse\", \"mickey\", \"associates\", \"mines\", \"layout\", \"husband\", \"clash\", \"equipped\", \"unfortunate\", \"immensely\", \"permission\", \"father\", \"excuse\", \"structure\", \"grandfather\", \"babysitter\", \"present\", \"occasions\", \"staying\", \"wonders\", \"dads\", \"distracted\", \"loved\", \"nephew\", \"dad\", \"granddaughters\", \"christmas\", \"newer\", \"happier\", \"mom\", \"wife\", \"loving\", \"xmas\", \"gave\", \"niece\", \"birthday\", \"pleased\", \"friend\", \"absolutely\", \"functionality\", \"sister\", \"loves\", \"bought\", \"purchased\", \"uses\", \"grandson\", \"likes\", \"got\", \"tablet\", \"needs\", \"happy\", \"use\", \"daughter\", \"perfect\", \"easy\", \"expected\", \"love\", \"great\", \"purchase\", \"kindle\", \"son\", \"best\", \"sleek\", \"nephews\", \"god\", \"assistance\", \"upload\", \"versatility\", \"anybody\", \"teenage\", \"avid\", \"monitoring\", \"teen\", \"borrowed\", \"activity\", \"ports\", \"dauther\", \"abilities\", \"thoroughly\", \"summary\", \"husbands\", \"elementary\", \"spoke\", \"preschoolers\", \"prefect\", \"destroy\", \"flawless\", \"neice\", \"finish\", \"freedom\", \"websites\", \"crisper\", \"associate\", \"travels\", \"catching\", \"handed\", \"enjoying\", \"books\", \"reading\", \"holds\", \"user\", \"ebooks\", \"enjoy\", \"read\", \"helped\", \"library\", \"liked\", \"colors\", \"charges\", \"friendly\", \"bang\", \"brought\", \"web\", \"graphics\", \"recommend\", \"market\", \"kindle\", \"school\", \"color\", \"choice\", \"start\", \"reader\", \"carry\", \"easy\", \"love\", \"use\", \"product\", \"best\", \"bought\", \"excellent\", \"device\", \"good\", \"tablets\", \"light\", \"games\", \"tablet\", \"perfect\", \"great\", \"features\", \"like\", \"key\", \"im\", \"port\", \"refurbished\", \"class\", \"curious\", \"bored\", \"registered\", \"thumbs\", \"beginning\", \"february\", \"bedroom\", \"gifted\", \"told\", \"phenomenal\", \"theres\", \"thousand\", \"prob\", \"useless\", \"citizen\", \"links\", \"registering\", \"aspects\", \"amd\", \"loads\", \"follow\", \"practice\", \"hesitate\", \"answers\", \"understatement\", \"frustrating\", \"allowed\", \"fault\", \"locate\", \"cord\", \"charging\", \"junk\", \"investment\", \"account\", \"ads\", \"charger\", \"protected\", \"given\", \"customer\", \"money\", \"apple\", \"charge\", \"reset\", \"slow\", \"spend\", \"friends\", \"extremely\", \"freezes\", \"loose\", \"know\", \"happy\", \"amazon\", \"disappointed\", \"worth\", \"product\", \"got\", \"tablets\", \"buy\", \"like\", \"wrong\", \"pay\", \"family\", \"thing\", \"purchased\", \"love\", \"purchase\", \"time\", \"best\", \"tablet\", \"device\", \"ad\", \"doesnt\", \"lacking\", \"systems\", \"darn\", \"unwanted\", \"sucks\", \"entertain\", \"letting\", \"advertisement\", \"knock\", \"controlled\", \"code\", \"stepkids\", \"glued\", \"tutorials\", \"everytime\", \"prize\", \"accessed\", \"survived\", \"exit\", \"awsome\", \"leap\", \"gotta\", \"north\", \"nervous\", \"rough\", \"church\", \"ez\", \"supervise\", \"trips\", \"loading\", \"shuts\", \"holiday\", \"adult\", \"oldest\", \"flawlessly\", \"flight\", \"occasionally\", \"gifts\", \"pretty\", \"picked\", \"dont\", \"road\", \"gone\", \"yo\", \"kids\", \"saver\", \"falls\", \"long\", \"cheap\", \"game\", \"trouble\", \"lasts\", \"charged\", \"lets\", \"hours\", \"annoying\", \"battery\", \"time\", \"life\", \"strong\", \"tablet\", \"way\", \"complaint\", \"love\", \"tablets\", \"great\", \"ipad\", \"add\", \"amazon\", \"far\", \"bought\", \"purchase\", \"going\", \"thing\", \"little\", \"morning\", \"killer\", \"satisfactory\", \"delete\", \"lil\", \"attractive\", \"clearer\", \"bundle\", \"refused\", \"evening\", \"thoughts\", \"outdated\", \"cousin\", \"navigates\", \"smile\", \"compares\", \"thanksgiving\", \"vocabulary\", \"dots\", \"reward\", \"cancel\", \"ol\", \"overnight\", \"hubby\", \"standing\", \"reference\", \"thomas\", \"salesperson\", \"reduction\", \"virus\", \"versions\", \"image\", \"lol\", \"impossible\", \"stays\", \"nd\", \"arrived\", \"kinda\", \"style\", \"worries\", \"previously\", \"beats\", \"face\", \"working\", \"protection\", \"early\", \"gen\", \"thought\", \"deal\", \"okay\", \"knowing\", \"quickly\", \"better\", \"update\", \"faster\", \"everyday\", \"hard\", \"older\", \"nicely\", \"time\", \"feel\", \"lot\", \"die\", \"having\", \"getting\", \"good\", \"useful\", \"battery\", \"smaller\", \"days\", \"need\", \"like\", \"use\", \"best\", \"life\", \"buy\", \"got\", \"pretty\"], \"Total\": [8747.0, 5845.0, 7419.0, 4863.0, 6704.0, 3039.0, 2144.0, 2378.0, 2072.0, 1075.0, 2482.0, 1704.0, 1485.0, 2221.0, 3120.0, 1975.0, 3012.0, 1222.0, 1635.0, 1239.0, 888.0, 1128.0, 841.0, 3862.0, 1341.0, 1676.0, 1752.0, 1488.0, 1230.0, 2312.0, 92.00901794433594, 82.23668670654297, 65.49505615234375, 39.33207321166992, 221.8758544921875, 486.20892333984375, 28.280500411987305, 44.88432693481445, 96.89628601074219, 27.822738647460938, 22.125913619995117, 25.38264274597168, 21.31867790222168, 18.461252212524414, 25.198997497558594, 17.011444091796875, 16.45766830444336, 16.37419891357422, 15.943499565124512, 15.920333862304688, 16.3055362701416, 14.933415412902832, 42.181556701660156, 14.420967102050781, 16.21105194091797, 14.196227073669434, 13.746902465820312, 13.712825775146484, 13.779068946838379, 14.16290283203125, 397.0111999511719, 315.4930419921875, 155.76844787597656, 159.2796173095703, 120.6801528930664, 89.4600830078125, 364.3520812988281, 496.619384765625, 367.1955871582031, 302.2270812988281, 7419.0126953125, 245.3870849609375, 106.021240234375, 42.31919860839844, 289.5009460449219, 85.41803741455078, 183.0409698486328, 1230.888671875, 75.40689086914062, 2312.7060546875, 136.59567260742188, 173.13482666015625, 211.6492462158203, 123.56283569335938, 529.2339477539062, 2378.742919921875, 262.4532165527344, 902.4680786132812, 3862.869873046875, 562.0324096679688, 328.5175476074219, 2244.767578125, 373.3683776855469, 2505.89208984375, 1033.878662109375, 8747.6923828125, 2221.53076171875, 841.5074462890625, 4863.30908203125, 953.3760986328125, 4495.46435546875, 934.3228759765625, 2056.158447265625, 559.1713256835938, 3485.609130859375, 3120.065185546875, 322.89764404296875, 232.9939422607422, 112.68563842773438, 403.7830810546875, 74.66871643066406, 36.41212463378906, 35.281211853027344, 121.7337646484375, 30.092071533203125, 24.164674758911133, 26.623916625976562, 21.361562728881836, 72.35187530517578, 1704.921142578125, 16.22905158996582, 19.325511932373047, 14.775912284851074, 225.13714599609375, 99.46685791015625, 14.359580993652344, 14.817047119140625, 422.2060241699219, 13.715934753417969, 13.480365753173828, 12.924753189086914, 12.162900924682617, 11.774602890014648, 10.92592716217041, 10.210959434509277, 9.5193510055542, 478.611572265625, 2072.71923828125, 327.0836181640625, 172.1984405517578, 159.5057830810547, 63.491127014160156, 349.5042419433594, 104.05733489990234, 81.3582534790039, 246.38551330566406, 924.1079711914062, 291.0228576660156, 84.10070037841797, 929.6654052734375, 390.9501953125, 2144.760009765625, 475.7391052246094, 1676.8170166015625, 153.41995239257812, 2482.857421875, 488.3332214355469, 259.5261535644531, 816.085693359375, 3485.609130859375, 1130.6396484375, 6704.89208984375, 787.4035034179688, 3012.574462890625, 3120.065185546875, 1752.409912109375, 4495.46435546875, 2056.158447265625, 8747.6923828125, 622.7295532226562, 1255.7376708984375, 1109.2393798828125, 170.39794921875, 45.97765350341797, 70.5752182006836, 54.931583404541016, 21.075469970703125, 19.374008178710938, 37.66207504272461, 17.078969955444336, 279.1799011230469, 264.004150390625, 14.977910041809082, 13.73159408569336, 12.348101615905762, 18.78352165222168, 10.62739086151123, 11.324746131896973, 10.696287155151367, 9.70522689819336, 9.431933403015137, 9.15369701385498, 10.002723693847656, 9.039843559265137, 9.01028060913086, 8.867372512817383, 8.783354759216309, 9.340543746948242, 8.639582633972168, 8.640946388244629, 9.79082202911377, 8.318167686462402, 68.81157684326172, 303.052978515625, 31.781984329223633, 44.661258697509766, 79.58158111572266, 29.409975051879883, 29.125141143798828, 97.98513793945312, 29.298446655273438, 155.09339904785156, 74.90613555908203, 361.2583312988281, 97.99060821533203, 69.19590759277344, 296.27825927734375, 276.0226135253906, 6704.89208984375, 1752.409912109375, 194.14578247070312, 149.03854370117188, 1635.801025390625, 479.9172058105469, 267.2334289550781, 152.6113739013672, 468.1181640625, 743.1786499023438, 156.7144775390625, 196.31614685058594, 3862.869873046875, 839.4052124023438, 1676.8170166015625, 743.75927734375, 961.187255859375, 4495.46435546875, 934.3228759765625, 2505.89208984375, 2482.857421875, 8747.6923828125, 531.9610595703125, 1130.6396484375, 653.5064697265625, 3012.574462890625, 1200.6622314453125, 3485.609130859375, 1464.8267822265625, 1040.66748046875, 4863.30908203125, 120.434326171875, 55.29054260253906, 85.8083267211914, 66.33442687988281, 23.2906436920166, 23.20903205871582, 24.169172286987305, 22.154525756835938, 16.82520866394043, 95.2608413696289, 16.85390281677246, 15.850605964660645, 15.43529224395752, 14.671088218688965, 14.483650207519531, 16.74294090270996, 127.7312240600586, 13.295104026794434, 12.728819847106934, 12.683245658874512, 21.397829055786133, 149.04629516601562, 11.86165714263916, 11.871036529541016, 222.55331420898438, 11.62218189239502, 11.308409690856934, 37.77735137939453, 11.139192581176758, 10.869736671447754, 45.92649841308594, 202.68447875976562, 93.65745544433594, 14.750282287597656, 231.1656036376953, 79.24581146240234, 32.147544860839844, 3039.579345703125, 167.950927734375, 168.40078735351562, 233.05126953125, 68.90483856201172, 992.1928100585938, 205.46636962890625, 46.620304107666016, 190.46554565429688, 112.59048461914062, 839.4052124023438, 284.133544921875, 98.8642578125, 743.1786499023438, 77.11560821533203, 512.1744995117188, 98.21229553222656, 1635.801025390625, 266.6484680175781, 324.524169921875, 1401.587158203125, 787.4035034179688, 3485.609130859375, 3120.065185546875, 1239.092529296875, 2072.71923828125, 2505.89208984375, 554.6637573242188, 821.2002563476562, 2244.767578125, 4495.46435546875, 902.4680786132812, 46.84319305419922, 51.60041046142578, 23.985815048217773, 73.01835632324219, 205.57760620117188, 18.272275924682617, 20.773832321166992, 15.64841079711914, 14.379735946655273, 14.360587120056152, 14.931675910949707, 219.44020080566406, 12.165393829345703, 13.240812301635742, 33.17308807373047, 11.776885986328125, 11.65141773223877, 11.495141983032227, 11.336522102355957, 11.208693504333496, 11.286750793457031, 10.859175682067871, 10.859208106994629, 10.68637752532959, 10.669791221618652, 10.219334602355957, 10.180229187011719, 9.540698051452637, 9.451559066772461, 67.64692687988281, 18.199113845825195, 170.38316345214844, 228.68450927734375, 314.1263122558594, 205.0456085205078, 362.9923400878906, 150.3612823486328, 25.149991989135742, 40.34339141845703, 195.04078674316406, 182.3409423828125, 31.460229873657227, 37.321380615234375, 46.95781707763672, 131.02731323242188, 93.82296752929688, 1040.66748046875, 384.326904296875, 116.75878143310547, 713.6167602539062, 74.39529418945312, 210.7687225341797, 211.64401245117188, 67.7565689086914, 3012.574462890625, 1635.801025390625, 325.3541564941406, 144.00315856933594, 498.1031799316406, 1239.092529296875, 4495.46435546875, 1222.492431640625, 3485.609130859375, 324.524169921875, 1200.6622314453125, 278.7352294921875, 2505.89208984375, 8747.6923828125, 512.1744995117188, 1109.2393798828125, 816.085693359375, 3039.579345703125, 3862.869873046875, 1485.44482421875, 12.456067085266113, 11.577868461608887, 11.311944961547852, 10.72104549407959, 9.268296241760254, 8.677350997924805, 8.474777221679688, 8.390669822692871, 13.155882835388184, 7.415894031524658, 7.082963943481445, 6.862103462219238, 18.843523025512695, 6.574451923370361, 6.045010566711426, 8.209016799926758, 4.855885028839111, 16.17013931274414, 249.1643829345703, 7.368024826049805, 15.604522705078125, 9.686125755310059, 12.02297306060791, 15.050904273986816, 3.947382688522339, 14.951045989990234, 129.1481170654297, 23.721834182739258, 13.915754318237305, 316.2356262207031, 8747.6923828125, 134.53414916992188, 1488.9019775390625, 1975.3140869140625, 963.7813110351562, 4863.30908203125, 111.15103912353516, 668.576904296875, 1108.635009765625, 804.0894165039062, 346.894775390625, 537.8994750976562, 54.92460632324219, 2244.767578125, 474.0525817871094, 70.63016510009766, 1341.1307373046875, 283.2908935546875, 180.72283935546875, 104.44803619384766, 6704.89208984375, 1401.587158203125, 386.4879150390625, 751.172119140625, 278.7352294921875, 1109.2393798828125, 477.040283203125, 675.281494140625, 385.0025329589844, 3485.609130859375, 1200.6622314453125, 5845.3720703125, 557.453857421875, 2482.857421875, 4495.46435546875, 39.35282897949219, 20.315534591674805, 29.84306526184082, 18.48882484436035, 15.817045211791992, 16.035921096801758, 14.167469024658203, 14.167524337768555, 16.903778076171875, 13.904346466064453, 13.276028633117676, 16.835243225097656, 27.71869468688965, 12.708136558532715, 28.671550750732422, 58.63056564331055, 11.83521842956543, 12.344908714294434, 11.825007438659668, 11.772741317749023, 11.572444915771484, 11.231451988220215, 11.043000221252441, 10.900243759155273, 97.45222473144531, 11.215178489685059, 10.429131507873535, 10.166297912597656, 18.317636489868164, 9.460074424743652, 38.020835876464844, 86.16417694091797, 24.653423309326172, 140.8480987548828, 49.03726577758789, 480.041748046875, 468.1181640625, 459.80596923828125, 78.52913665771484, 175.71157836914062, 94.85359954833984, 193.33314514160156, 141.94589233398438, 523.677978515625, 64.35710144042969, 58.561279296875, 653.5064697265625, 503.2785949707031, 1130.6396484375, 296.6323547363281, 66.54425811767578, 152.6385955810547, 247.06491088867188, 133.6913604736328, 315.244873046875, 1033.878662109375, 531.9610595703125, 425.1625671386719, 286.22216796875, 1200.6622314453125, 4495.46435546875, 3862.869873046875, 122.82442474365234, 6704.89208984375, 1752.409912109375, 333.7217712402344, 440.07403564453125, 3012.574462890625, 1676.8170166015625, 8747.6923828125, 5845.3720703125, 2505.89208984375, 1485.44482421875, 573.9248046875, 22.158424377441406, 26.51924705505371, 20.872486114501953, 19.329280853271484, 17.713621139526367, 17.570093154907227, 16.89539337158203, 16.27247428894043, 16.280406951904297, 16.32280731201172, 15.516554832458496, 15.121811866760254, 15.244940757751465, 25.594282150268555, 14.338951110839844, 17.213228225708008, 13.937969207763672, 15.32694149017334, 13.444822311401367, 13.456496238708496, 13.903996467590332, 13.012591361999512, 13.374835968017578, 12.565284729003906, 12.594644546508789, 12.465591430664062, 20.956130981445312, 11.8568115234375, 45.126976013183594, 11.632904052734375, 70.80265045166016, 23.3178653717041, 36.30433654785156, 42.73279571533203, 49.411041259765625, 49.1549072265625, 215.28945922851562, 57.938621520996094, 79.27613830566406, 22.321245193481445, 30.845489501953125, 57.92425537109375, 34.08478546142578, 162.97657775878906, 93.12838745117188, 76.46005249023438, 244.9123992919922, 63.99082565307617, 93.90415954589844, 1076.1981201171875, 360.8919982910156, 62.07344055175781, 204.7330322265625, 103.03636169433594, 272.5316162109375, 197.3246612548828, 354.1239013671875, 337.4251708984375, 139.1772918701172, 260.5235290527344, 230.89923095703125, 219.1060791015625, 359.63385009765625, 249.22496032714844, 220.74562072753906, 203.59054565429688, 274.3593444824219, 259.89019775390625, 325.3541564941406, 3862.869873046875, 2221.53076171875, 158.98475646972656, 1033.878662109375, 902.4680786132812, 336.8622131347656, 417.81011962890625, 338.3204040527344, 2056.158447265625, 561.1107788085938, 2505.89208984375, 2244.767578125, 4495.46435546875, 157.29112243652344, 36.003021240234375, 27.96763038635254, 26.077117919921875, 26.01721954345703, 39.97516632080078, 27.24435043334961, 25.28671646118164, 24.430479049682617, 23.785024642944336, 19.870935440063477, 27.946632385253906, 21.489273071289062, 18.27428436279297, 15.698418617248535, 64.47818756103516, 13.625569343566895, 15.000244140625, 12.407490730285645, 12.026031494140625, 130.5580596923828, 11.139738082885742, 10.681464195251465, 10.35403060913086, 10.323476791381836, 10.112685203552246, 10.009239196777344, 9.991308212280273, 10.502861022949219, 20.697561264038086, 211.63258361816406, 53.227134704589844, 574.0939331054688, 1128.878662109375, 841.5074462890625, 28.207990646362305, 303.060791015625, 92.72333526611328, 499.6230163574219, 216.0284423828125, 2221.53076171875, 50.69230651855469, 85.77230834960938, 2378.742919921875, 107.55239868164062, 74.47561645507812, 281.0932312011719, 100.37865447998047, 103.32970428466797, 88.02803802490234, 124.28348541259766, 271.022216796875, 277.47479248046875, 157.4591064453125, 150.52557373046875, 166.03370666503906, 7419.0126953125, 328.5175476074219, 525.1268920898438, 2056.158447265625, 292.39666748046875, 5845.3720703125, 444.83795166015625, 1464.8267822265625, 4863.30908203125, 4495.46435546875, 3862.869873046875, 2505.89208984375, 355.36016845703125, 2244.767578125, 1230.888671875, 432.73516845703125, 2312.7060546875, 21.591415405273438, 19.576936721801758, 18.358375549316406, 18.92463493347168, 14.837953567504883, 13.551871299743652, 12.854022026062012, 12.823145866394043, 13.485785484313965, 12.360337257385254, 11.316563606262207, 9.623292922973633, 9.577510833740234, 9.230286598205566, 9.343228340148926, 8.158158302307129, 7.5964131355285645, 7.536230564117432, 10.123955726623535, 8.27105712890625, 7.317437648773193, 7.057525634765625, 6.711225986480713, 6.665892124176025, 6.829034805297852, 24.964248657226562, 6.492516994476318, 7.0325164794921875, 6.447256088256836, 12.58687686920166, 39.32131576538086, 5845.3720703125, 12.465235710144043, 477.040283203125, 168.65399169921875, 1341.1307373046875, 1220.021728515625, 4863.30908203125, 22.551626205444336, 17.467809677124023, 248.498046875, 304.2392272949219, 19.779645919799805, 444.83795166015625, 675.281494140625, 66.91787719726562, 963.7813110351562, 484.9014892578125, 1230.888671875, 218.19224548339844, 376.9608459472656, 336.48602294921875, 7419.0126953125, 559.1713256835938, 2244.767578125, 2312.7060546875, 355.36016845703125, 553.2739868164062, 403.74224853515625, 1488.9019775390625, 1464.8267822265625, 1975.3140869140625, 281.35260009765625, 804.0894165039062, 821.2002563476562, 2056.158447265625, 2378.742919921875, 3862.869873046875, 1075.787353515625, 28.2418270111084, 91.15951538085938, 21.633398056030273, 15.199739456176758, 13.892112731933594, 191.3419189453125, 17.261234283447266, 10.016435623168945, 10.016437530517578, 9.301407814025879, 9.045868873596191, 8.97875690460205, 172.49452209472656, 7.73776388168335, 7.576324462890625, 7.481931686401367, 7.664384841918945, 7.159234046936035, 63.21689987182617, 6.956110000610352, 6.794440746307373, 6.700411319732666, 6.633034706115723, 176.20452880859375, 6.444272994995117, 5.959989547729492, 6.984832286834717, 5.926562309265137, 6.126005172729492, 401.758056640625, 157.4272918701172, 85.59971618652344, 29.615278244018555, 888.8938598632812, 55.269100189208984, 45.48228454589844, 270.6582336425781, 450.4901123046875, 75.44528198242188, 45.750179290771484, 193.87838745117188, 178.02996826171875, 193.62460327148438, 285.1470947265625, 118.53079986572266, 275.4082946777344, 67.21331787109375, 99.37881469726562, 2144.760009765625, 3120.065185546875, 1351.8798828125, 366.9085693359375, 488.3332214355469, 196.69842529296875, 1255.7376708984375, 6704.89208984375, 383.3646545410156, 821.2002563476562, 4495.46435546875, 924.1079711914062, 1109.2393798828125, 3012.574462890625, 334.87835693359375, 3485.609130859375, 8747.6923828125, 948.20166015625, 3039.579345703125, 929.6654052734375, 1401.587158203125, 23.6543025970459, 20.74166488647461, 19.588529586791992, 17.479145050048828, 17.479326248168945, 15.606548309326172, 14.949710845947266, 22.950702667236328, 58.592681884765625, 13.01896858215332, 12.208089828491211, 11.592302322387695, 11.403996467590332, 9.734854698181152, 8.823535919189453, 8.790180206298828, 29.02663803100586, 8.555252075195312, 10.648691177368164, 7.6857452392578125, 7.5255866050720215, 7.365400791168213, 7.3133344650268555, 7.2384352684021, 7.111779689788818, 7.111950874328613, 6.951669216156006, 6.951591968536377, 13.100276947021484, 6.656225204467773, 27.47994041442871, 17.123334884643555, 10.435080528259277, 17.88958168029785, 146.23277282714844, 1485.44482421875, 1222.492431640625, 96.87622833251953, 347.9248352050781, 96.3212890625, 355.97747802734375, 1239.092529296875, 45.57154083251953, 169.1481170654297, 165.8962860107422, 102.03619384765625, 58.44037628173828, 407.8780517578125, 46.64399719238281, 77.12590026855469, 296.6323547363281, 94.10356903076172, 1108.635009765625, 104.4429702758789, 3039.579345703125, 174.5882568359375, 250.3519287109375, 144.17213439941406, 135.00535583496094, 512.1744995117188, 211.64401245117188, 3012.574462890625, 3485.609130859375, 4495.46435546875, 1975.3140869140625, 1401.587158203125, 3120.065185546875, 675.281494140625, 1076.1981201171875, 5845.3720703125, 743.75927734375, 713.6167602539062, 1676.8170166015625, 6704.89208984375, 1109.2393798828125, 8747.6923828125, 557.453857421875, 2505.89208984375, 36.07078170776367, 43.099998474121094, 115.14707946777344, 22.167280197143555, 42.7575798034668, 16.923547744750977, 16.298934936523438, 16.356054306030273, 14.61148738861084, 14.523021697998047, 13.132637977600098, 12.90783405303955, 13.165849685668945, 85.18734741210938, 11.331055641174316, 10.910881996154785, 11.092192649841309, 10.864483833312988, 21.44011116027832, 10.194964408874512, 26.383201599121094, 9.958422660827637, 16.8388614654541, 9.148092269897461, 44.87353515625, 25.769224166870117, 8.580686569213867, 8.712312698364258, 8.831931114196777, 7.580776691436768, 47.09806823730469, 40.68220901489258, 21.29460906982422, 16.000255584716797, 71.57030487060547, 270.50823974609375, 52.59306335449219, 54.850242614746094, 249.78643798828125, 183.5191650390625, 196.64120483398438, 60.253849029541016, 71.25199890136719, 99.11957550048828, 751.172119140625, 190.27548217773438, 561.1107788085938, 33.117408752441406, 282.09185791015625, 153.8208465576172, 103.08892059326172, 158.17489624023438, 38.51927947998047, 68.75963592529297, 434.26861572265625, 821.2002563476562, 3862.869873046875, 218.3331298828125, 478.30718994140625, 1975.3140869140625, 1255.7376708984375, 743.75927734375, 2244.767578125, 2505.89208984375, 207.1298828125, 325.54718017578125, 247.06491088867188, 465.5103759765625, 1351.8798828125, 3485.609130859375, 948.20166015625, 2056.158447265625, 1401.587158203125, 6704.89208984375, 1076.1981201171875, 47.9697151184082, 26.555753707885742, 21.0327205657959, 20.60845375061035, 26.401935577392578, 19.852449417114258, 15.087740898132324, 14.132893562316895, 13.94787883758545, 13.614293098449707, 12.039236068725586, 12.179041862487793, 11.27666187286377, 11.190080642700195, 11.128580093383789, 11.003071784973145, 11.420722961425781, 10.903641700744629, 10.5209321975708, 10.225225448608398, 10.226628303527832, 10.036815643310547, 9.742958068847656, 9.791657447814941, 9.557050704956055, 10.562918663024902, 61.83088684082031, 9.113323211669922, 8.987547874450684, 8.900273323059082, 115.3411636352539, 67.36138153076172, 28.43790054321289, 27.99168586730957, 107.9289321899414, 24.48200798034668, 36.08942413330078, 25.042402267456055, 17.359617233276367, 105.02113342285156, 553.2739868164062, 75.40117645263672, 93.25970458984375, 77.82011413574219, 53.67658233642578, 50.173274993896484, 2482.857421875, 35.573822021484375, 29.760160446166992, 2378.742919921875, 562.0324096679688, 219.30796813964844, 61.31270217895508, 216.0284423828125, 135.4051055908203, 54.39522171020508, 347.8785400390625, 107.48236083984375, 2221.53076171875, 2056.158447265625, 1128.878662109375, 133.71322631835938, 6704.89208984375, 644.2843017578125, 102.02360534667969, 3485.609130859375, 743.75927734375, 8747.6923828125, 839.4052124023438, 196.31614685058594, 3862.869873046875, 1220.021728515625, 3120.065185546875, 948.20166015625, 425.69427490234375, 465.5103759765625, 961.187255859375, 28.79376983642578, 22.102153778076172, 20.536237716674805, 20.375438690185547, 20.022985458374023, 19.973690032958984, 25.31937599182129, 14.888769149780273, 12.902392387390137, 12.679965019226074, 16.277223587036133, 11.499251365661621, 11.278667449951172, 10.92398738861084, 10.85185432434082, 10.675633430480957, 10.526025772094727, 10.47997760772705, 10.373078346252441, 10.069814682006836, 9.448923110961914, 9.2724027633667, 9.59003734588623, 8.790279388427734, 8.770448684692383, 8.770307540893555, 9.326207160949707, 8.640103340148926, 8.241904258728027, 8.195806503295898, 79.70228576660156, 30.523616790771484, 77.9865493774414, 38.03266906738281, 43.52973937988281, 98.8521957397461, 158.8985137939453, 27.31432342529297, 22.26403045654297, 25.710617065429688, 88.47972106933594, 36.63435363769531, 40.24507141113281, 406.44879150390625, 106.09754943847656, 46.50666046142578, 34.886863708496094, 316.94049072265625, 804.0894165039062, 78.55387878417969, 56.57514190673828, 340.89447021484375, 1464.8267822265625, 153.37152099609375, 271.7283935546875, 127.91551208496094, 278.88848876953125, 313.46746826171875, 78.04228210449219, 2056.158447265625, 220.61883544921875, 953.3760986328125, 102.76358032226562, 514.551025390625, 420.51123046875, 5845.3720703125, 105.39144897460938, 2221.53076171875, 170.3551025390625, 336.8622131347656, 934.3228759765625, 2505.89208984375, 4495.46435546875, 1401.587158203125, 1128.878662109375, 2244.767578125, 1255.7376708984375, 553.2739868164062], \"loglift\": [30.0, 29.0, 28.0, 27.0, 26.0, 25.0, 24.0, 23.0, 22.0, 21.0, 20.0, 19.0, 18.0, 17.0, 16.0, 15.0, 14.0, 13.0, 12.0, 11.0, 10.0, 9.0, 8.0, 7.0, 6.0, 5.0, 4.0, 3.0, 2.0, 1.0, 1.937000036239624, 1.9320000410079956, 1.9289000034332275, 1.9244999885559082, 1.9185999631881714, 1.9164999723434448, 1.9150999784469604, 1.9143999814987183, 1.914199948310852, 1.9091999530792236, 1.9067000150680542, 1.9019999504089355, 1.9009000062942505, 1.8946000337600708, 1.8940999507904053, 1.8938000202178955, 1.8926000595092773, 1.8920999765396118, 1.8904999494552612, 1.8895000219345093, 1.8875000476837158, 1.8868000507354736, 1.885200023651123, 1.8845000267028809, 1.8841999769210815, 1.8833999633789062, 1.8812999725341797, 1.8812999725341797, 1.8809000253677368, 1.8801000118255615, 1.868399977684021, 1.8672000169754028, 1.8693000078201294, 1.8687000274658203, 1.8651000261306763, 1.8669999837875366, 1.8451000452041626, 1.837399959564209, 1.8351000547409058, 1.8387000560760498, 1.746500015258789, 1.8284000158309937, 1.8472000360488892, 1.8674999475479126, 1.7753000259399414, 1.8307000398635864, 1.7756999731063843, 1.6361000537872314, 1.819700002670288, 1.5298999547958374, 1.761299967765808, 1.6832000017166138, 1.6504000425338745, 1.677299976348877, 1.3173999786376953, 0.8932999968528748, 1.4733999967575073, 1.0808000564575195, 0.5622000098228455, 1.1335999965667725, 1.3410999774932861, 0.5015000104904175, 1.2575000524520874, 0.31209999322891235, 0.7301999926567078, -0.45980000495910645, 0.2906000018119812, 0.8008000254631042, -0.27570000290870667, 0.7008000016212463, -0.2734000086784363, 0.7028999924659729, 0.08529999852180481, 0.9767000079154968, -0.603600025177002, -0.5375999808311462, 2.1656999588012695, 2.1638998985290527, 2.162100076675415, 2.1526999473571777, 2.1491000652313232, 2.143199920654297, 2.1424999237060547, 2.1352999210357666, 2.134200096130371, 2.130199909210205, 2.127500057220459, 2.126800060272217, 2.1182000637054443, 2.1135001182556152, 2.112299919128418, 2.108599901199341, 2.1064000129699707, 2.1064000129699707, 2.1061999797821045, 2.1047000885009766, 2.1040000915527344, 2.1029000282287598, 2.1015000343322754, 2.0996999740600586, 2.0943000316619873, 2.0899999141693115, 2.089600086212158, 2.0829999446868896, 2.0764999389648438, 2.0692999362945557, 2.0327000617980957, 2.0058999061584473, 2.0171000957489014, 2.0262999534606934, 2.0223000049591064, 2.047300100326538, 1.9692000150680542, 1.9917999505996704, 2.0058000087738037, 1.9391000270843506, 1.8009999990463257, 1.8833999633789062, 1.9773999452590942, 1.7610000371932983, 1.8220000267028809, 1.621500015258789, 1.7821999788284302, 1.6089999675750732, 1.9153000116348267, 1.4601999521255493, 1.6721999645233154, 1.7610000371932983, 1.4558000564575195, 1.0133999586105347, 1.229699969291687, 0.6103000044822693, 1.3421000242233276, 0.8449000120162964, 0.7885000109672546, 0.9359999895095825, 0.4088999927043915, 0.7616999745368958, -0.32190001010894775, 1.2991000413894653, 0.6686000227928162, 0.7692999839782715, 2.34660005569458, 2.3292999267578125, 2.325900077819824, 2.309999942779541, 2.3080999851226807, 2.3041000366210938, 2.301500082015991, 2.2973999977111816, 2.2904999256134033, 2.289599895477295, 2.2892000675201416, 2.2829999923706055, 2.2723000049591064, 2.2711000442504883, 2.2620999813079834, 2.26200008392334, 2.254300117492676, 2.2528998851776123, 2.2497000694274902, 2.2465999126434326, 2.2458999156951904, 2.2451999187469482, 2.244800090789795, 2.2427000999450684, 2.2416000366210938, 2.2411999702453613, 2.2399001121520996, 2.235300064086914, 2.2348999977111816, 2.233599901199341, 2.2083001136779785, 2.1514999866485596, 2.190700054168701, 2.171799898147583, 2.1261000633239746, 2.1809000968933105, 2.1774001121520996, 2.093899965286255, 2.1737000942230225, 2.0415000915527344, 2.0894999504089355, 1.9539999961853027, 2.0230000019073486, 2.050600051879883, 1.886299967765808, 1.8391000032424927, 1.3753000497817993, 1.5745999813079834, 1.8833999633789062, 1.9235999584197998, 1.5029000043869019, 1.4671000242233276, 1.6169999837875366, 1.7568000555038452, 1.4158999919891357, 1.2711999416351318, 1.6971999406814575, 1.6268999576568604, 0.6735000014305115, 1.0923999547958374, 0.6913999915122986, 1.0082999467849731, 0.8112999796867371, -0.04039999842643738, 0.7918999791145325, 0.2535000145435333, 0.24300000071525574, -0.548799991607666, 1.0494999885559082, 0.6047999858856201, 0.9244999885559082, -0.1354999989271164, 0.46869999170303345, -0.375, 0.23960000276565552, 0.4887000024318695, -0.996399998664856, 2.6308000087738037, 2.6226000785827637, 2.6201999187469482, 2.609600067138672, 2.5994999408721924, 2.599400043487549, 2.598900079727173, 2.597399950027466, 2.5838000774383545, 2.5834999084472656, 2.58240008354187, 2.5794999599456787, 2.5782999992370605, 2.575200080871582, 2.574199914932251, 2.572000026702881, 2.568700075149536, 2.566200017929077, 2.565000057220459, 2.5643999576568604, 2.5601999759674072, 2.559999942779541, 2.5594000816345215, 2.559299945831299, 2.5576999187469482, 2.55649995803833, 2.555299997329712, 2.554800033569336, 2.5536999702453613, 2.551500082015991, 2.5357000827789307, 2.4876999855041504, 2.5018999576568604, 2.5476999282836914, 2.391700029373169, 2.444200038909912, 2.4976999759674072, 2.145699977874756, 2.360100030899048, 2.3584001064300537, 2.154900074005127, 2.317699909210205, 1.8217999935150146, 2.0789999961853027, 2.369499921798706, 2.0810999870300293, 2.184999942779541, 1.719099998474121, 1.9148999452590942, 2.1737000942230225, 1.5634000301361084, 2.2386999130249023, 1.5880000591278076, 2.1315999031066895, 1.0529999732971191, 1.7419999837875366, 1.659999966621399, 1.044700026512146, 1.1419999599456787, 0.38350000977516174, 0.3240000009536743, 0.7953000068664551, 0.4205000102519989, 0.29019999504089355, 1.2186000347137451, 0.9190999865531921, 0.16750000417232513, -0.6241000294685364, 0.6542999744415283, 2.6991000175476074, 2.6979000568389893, 2.6849000453948975, 2.6826000213623047, 2.6816999912261963, 2.675299882888794, 2.6749000549316406, 2.665299892425537, 2.661099910736084, 2.660799980163574, 2.660399913787842, 2.6549999713897705, 2.648699998855591, 2.648699998855591, 2.6477999687194824, 2.6461000442504883, 2.6445999145507812, 2.643399953842163, 2.6428000926971436, 2.6415998935699463, 2.6405999660491943, 2.6389999389648438, 2.6389999389648438, 2.637500047683716, 2.637399911880493, 2.6331000328063965, 2.6328999996185303, 2.6261000633239746, 2.625200033187866, 2.624500036239624, 2.6229000091552734, 2.5938000679016113, 2.5766000747680664, 2.5459001064300537, 2.526099920272827, 2.4890999794006348, 2.5297999382019043, 2.5957999229431152, 2.5650999546051025, 2.4619998931884766, 2.403899908065796, 2.555500030517578, 2.5243000984191895, 2.49399995803833, 2.377700090408325, 2.4173998832702637, 2.109999895095825, 2.2249999046325684, 2.3696000576019287, 2.018699884414673, 2.396899938583374, 2.2093000411987305, 2.1851999759674072, 2.4056999683380127, 1.5044000148773193, 1.6311999559402466, 1.9829000234603882, 2.179800033569336, 1.8065999746322632, 1.3702000379562378, 0.7993000149726868, 1.2967000007629395, 0.7120000123977661, 1.7512999773025513, 1.023300051689148, 1.812999963760376, 0.5687000155448914, -0.18979999423027039, 1.4312000274658203, 0.7448999881744385, 0.9484999775886536, -0.17430000007152557, -0.6563000082969666, 0.24690000712871552, 2.6689999103546143, 2.662899971008301, 2.6610000133514404, 2.656100034713745, 2.641400098800659, 2.634000062942505, 2.631200075149536, 2.6296000480651855, 2.6161000728607178, 2.613600015640259, 2.6064000129699707, 2.6024999618530273, 2.6006999015808105, 2.5957999229431152, 2.551100015640259, 2.5462000370025635, 2.5373001098632812, 2.518699884414673, 2.5069000720977783, 2.4684998989105225, 2.4632999897003174, 2.424299955368042, 2.41510009765625, 2.4068000316619873, 2.344599962234497, 2.3420000076293945, 2.3164000511169434, 2.3089001178741455, 2.294800043106079, 2.281399965286255, 2.240499973297119, 2.240499973297119, 2.140399932861328, 2.1106998920440674, 2.1328001022338867, 1.8217999935150146, 2.152600049972534, 1.8732000589370728, 1.7549999952316284, 1.756700038909912, 1.885200023651123, 1.798699975013733, 2.194000005722046, 1.2178000211715698, 1.5374000072479248, 2.0308001041412354, 1.1444000005722046, 1.5841000080108643, 1.7204999923706055, 1.8686000108718872, 0.5270000100135803, 1.0091999769210815, 1.4284000396728516, 1.1901999711990356, 1.4345999956130981, 0.8242999911308289, 1.170699954032898, 0.9943000078201294, 1.198199987411499, 0.026499999687075615, 0.5710999965667725, -0.4675000011920929, 0.9771999716758728, -0.008700000122189522, -0.9926000237464905, 2.7228000164031982, 2.7002999782562256, 2.6972999572753906, 2.6953999996185303, 2.686800003051758, 2.682800054550171, 2.6796000003814697, 2.6793999671936035, 2.678999900817871, 2.6772000789642334, 2.6749000549316406, 2.6749000549316406, 2.6747000217437744, 2.671299934387207, 2.6689000129699707, 2.667799949645996, 2.6658999919891357, 2.665800094604492, 2.6654999256134033, 2.6654000282287598, 2.6640000343322754, 2.660900115966797, 2.6589999198913574, 2.6582000255584717, 2.6565001010894775, 2.654599905014038, 2.6545000076293945, 2.651599884033203, 2.650599956512451, 2.6445999145507812, 2.5969998836517334, 2.551500082015991, 2.6061999797821045, 2.485300064086914, 2.526599884033203, 2.258500099182129, 2.2425999641418457, 2.238300085067749, 2.4351999759674072, 2.3225998878479004, 2.3956000804901123, 2.289400100708008, 2.3069000244140625, 2.046999931335449, 2.390000104904175, 2.406899929046631, 1.92330002784729, 1.9668999910354614, 1.7276999950408936, 2.005199909210205, 2.356100082397461, 2.1422998905181885, 2.0078001022338867, 2.160900115966797, 1.919600009918213, 1.5634000301361084, 1.7315000295639038, 1.7682000398635864, 1.8813999891281128, 1.3538999557495117, 0.8533999919891357, 0.9039999842643738, 2.1579999923706055, 0.44350001215934753, 1.0162999629974365, 1.6957999467849731, 1.5281000137329102, 0.46700000762939453, 0.6644999980926514, -0.4214000105857849, -0.1800999939441681, -0.02810000069439411, 0.30880001187324524, 1.098099946975708, 2.78629994392395, 2.784899950027466, 2.783900022506714, 2.7799999713897705, 2.774600028991699, 2.7743000984191895, 2.773200035095215, 2.7711000442504883, 2.77020001411438, 2.7681000232696533, 2.767699956893921, 2.7664999961853027, 2.7664999961853027, 2.763200044631958, 2.7630999088287354, 2.7616000175476074, 2.760999917984009, 2.7595999240875244, 2.7581000328063965, 2.7581000328063965, 2.7569000720977783, 2.754300117492676, 2.753700017929077, 2.7535998821258545, 2.753499984741211, 2.7528998851776123, 2.752000093460083, 2.749000072479248, 2.746000051498413, 2.7455999851226807, 2.7327001094818115, 2.742500066757202, 2.738100051879883, 2.698699951171875, 2.678299903869629, 2.6598000526428223, 2.486799955368042, 2.6166999340057373, 2.575200080871582, 2.694700002670288, 2.649199962615967, 2.548799991607666, 2.618299961090088, 2.3150999546051025, 2.419300079345703, 2.4563000202178955, 2.209399938583374, 2.466200113296509, 2.3740999698638916, 1.794800043106079, 2.0327000617980957, 2.438999891281128, 2.1238999366760254, 2.304500102996826, 2.0225000381469727, 2.1087000370025635, 1.924299955368042, 1.9027999639511108, 2.151099920272827, 1.9355000257492065, 1.9574999809265137, 1.9686000347137451, 1.763200044631958, 1.8840999603271484, 1.8997999429702759, 1.9023000001907349, 1.7415000200271606, 1.7549999952316284, 1.6295000314712524, 0.24560000002384186, 0.4075999855995178, 1.982699990272522, 0.7922000288963318, 0.8693000078201294, 1.506500005722046, 1.3200000524520874, 1.4586000442504883, 0.08240000158548355, 1.0537999868392944, -0.16290000081062317, -0.13609999418258667, -0.9628999829292297, 2.859800100326538, 2.8394999504089355, 2.833899974822998, 2.831399917602539, 2.8304998874664307, 2.829900026321411, 2.8296000957489014, 2.8285999298095703, 2.828399896621704, 2.8280999660491943, 2.8201000690460205, 2.819499969482422, 2.8148999214172363, 2.814199924468994, 2.807800054550171, 2.8071999549865723, 2.798799991607666, 2.7932000160217285, 2.7922000885009766, 2.7897000312805176, 2.781100034713745, 2.7797999382019043, 2.779599905014038, 2.7767999172210693, 2.776599884033203, 2.773699998855591, 2.7734999656677246, 2.772700071334839, 2.7725000381469727, 2.7720999717712402, 2.6377999782562256, 2.691499948501587, 2.5585999488830566, 2.4655001163482666, 2.4783999919891357, 2.6875, 2.473299980163574, 2.567699909210205, 2.3696000576019287, 2.401099920272827, 2.0520999431610107, 2.6038999557495117, 2.491499900817871, 1.8636000156402588, 2.434499979019165, 2.505500078201294, 2.175299882888794, 2.4091999530792236, 2.3673999309539795, 2.348599910736084, 2.2012999057769775, 1.8878999948501587, 1.8550000190734863, 2.090100049972534, 2.1054999828338623, 2.0557000637054443, 0.38350000977516174, 1.7173000574111938, 1.4697999954223633, 0.703499972820282, 1.7295000553131104, -0.0560000017285347, 1.4175000190734863, 0.6166999936103821, -0.23960000276565552, -0.2046000063419342, -0.1761000007390976, 0.1006999984383583, 1.4599000215530396, -0.23420000076293945, 0.27869999408721924, 1.2050000429153442, -0.4505000114440918, 2.8375000953674316, 2.832900047302246, 2.8297998905181885, 2.8292999267578125, 2.8176000118255615, 2.8089001178741455, 2.8076000213623047, 2.80679988861084, 2.8057000637054443, 2.803800106048584, 2.797300100326538, 2.7815001010894775, 2.7799999713897705, 2.777400016784668, 2.7706000804901123, 2.762500047683716, 2.7541000843048096, 2.7525999546051025, 2.752500057220459, 2.7523999214172363, 2.7490999698638916, 2.74399995803833, 2.7363998889923096, 2.735300064086914, 2.7337000370025635, 2.7334001064300537, 2.731100082397461, 2.7304999828338623, 2.7298998832702637, 2.7291998863220215, 2.7063000202178955, 2.5713000297546387, 2.698699951171875, 2.4709999561309814, 2.5401999950408936, 2.1593000888824463, 2.1085000038146973, 1.9107999801635742, 2.600399971008301, 2.6247000694274902, 2.1138999462127686, 2.0748000144958496, 2.5885000228881836, 1.8228000402450562, 1.6705000400543213, 2.2634999752044678, 1.457900047302246, 1.5033999681472778, 1.1921000480651855, 1.763800024986267, 1.5716999769210815, 1.6086000204086304, 0.49219998717308044, 1.4179999828338623, 0.88919997215271, 0.7670000195503235, 1.5058000087738037, 1.2687000036239624, 1.3990999460220337, 0.8363999724388123, 0.6894999742507935, 0.5267999768257141, 1.4840999841690063, 0.8486999869346619, 0.7968999743461609, 0.21369999647140503, 0.09109999984502792, -0.3589000105857849, 2.886199951171875, 2.8638999462127686, 2.856100082397461, 2.852099895477295, 2.834700107574463, 2.828900098800659, 2.81850004196167, 2.805999994277954, 2.8011999130249023, 2.8011999130249023, 2.7929000854492188, 2.7901999950408936, 2.7892000675201416, 2.7741000652313232, 2.769700050354004, 2.768199920654297, 2.7664999961853027, 2.7623000144958496, 2.7595999240875244, 2.7560999393463135, 2.7553000450134277, 2.75219988822937, 2.7486000061035156, 2.7483999729156494, 2.7451000213623047, 2.733799934387207, 2.73009991645813, 2.72979998588562, 2.729099988937378, 2.7284998893737793, 2.7258999347686768, 2.720900058746338, 2.7227001190185547, 2.7248001098632812, 2.6630001068115234, 2.6877999305725098, 2.675100088119507, 2.5845999717712402, 2.5332000255584717, 2.6252999305725098, 2.6389000415802, 2.5076000690460205, 2.4974000453948975, 2.488300085067749, 2.4474000930786133, 2.4895999431610107, 2.3417999744415283, 2.5141000747680664, 2.4465999603271484, 1.9490000009536743, 1.788699984550476, 1.8586000204086304, 2.1142001152038574, 1.9529000520706177, 2.140500068664551, 1.406000018119812, 0.6783999800682068, 1.7827999591827393, 1.4036999940872192, 0.4032000005245209, 1.2380000352859497, 1.0851000547409058, 0.4684999883174896, 1.7575000524520874, 0.02979999966919422, -0.70660001039505, 0.9478999972343445, -0.07129999995231628, 0.9514999985694885, 0.5450000166893005, 3.003200054168701, 2.997999906539917, 2.9904000759124756, 2.989799976348877, 2.989799976348877, 2.9828999042510986, 2.9804000854492188, 2.9802000522613525, 2.9702000617980957, 2.9697000980377197, 2.96560001373291, 2.961400032043457, 2.9591000080108643, 2.9447999000549316, 2.934000015258789, 2.9335999488830566, 2.9319000244140625, 2.9303998947143555, 2.9202001094818115, 2.916599988937378, 2.9138998985290527, 2.910799980163574, 2.909600019454956, 2.9082999229431152, 2.905600070953369, 2.905400037765503, 2.9021999835968018, 2.9019999504089355, 2.8965001106262207, 2.8952999114990234, 2.8951001167297363, 2.8856000900268555, 2.887399911880493, 2.856800079345703, 2.7091000080108643, 2.4951999187469482, 2.452500104904175, 2.679500102996826, 2.543100118637085, 2.663300037384033, 2.495500087738037, 2.2920000553131104, 2.697700023651123, 2.4783999919891357, 2.4639999866485596, 2.5339999198913574, 2.6224000453948975, 2.2334001064300537, 2.6393001079559326, 2.5162999629974365, 2.1594998836517334, 2.4300999641418457, 1.7472000122070312, 2.3763999938964844, 1.1649999618530273, 2.1522998809814453, 2.007499933242798, 2.171799898147583, 2.1631999015808105, 1.5406999588012695, 1.9458999633789062, 0.689300000667572, 0.6047999858856201, 0.4756999909877777, 0.7310000061988831, 0.9121000170707703, 0.45320001244544983, 1.2789000272750854, 0.9969000220298767, -0.06040000170469284, 1.136299967765808, 1.1549999713897705, 0.585099995136261, -0.4580000042915344, 0.6485999822616577, -1.1101000308990479, 1.1931999921798706, -0.27730000019073486, 3.105600118637085, 3.1043999195098877, 3.0922999382019043, 3.0896999835968018, 3.0822999477386475, 3.0759999752044678, 3.0741000175476074, 3.0739998817443848, 3.066699981689453, 3.066499948501587, 3.0596001148223877, 3.058300018310547, 3.057300090789795, 3.050800085067749, 3.047800064086914, 3.0445001125335693, 3.0436999797821045, 3.0434999465942383, 3.0373001098632812, 3.036900043487549, 3.0362000465393066, 3.0332000255584717, 3.028599977493286, 3.026900053024292, 3.0225000381469727, 3.0206000804901123, 3.0195000171661377, 3.0171000957489014, 3.005500078201294, 3.003700017929077, 2.9939000606536865, 2.9647998809814453, 2.9737000465393066, 2.976599931716919, 2.8573999404907227, 2.750499963760376, 2.881500005722046, 2.8724000453948975, 2.7012999057769775, 2.6940999031066895, 2.6524999141693115, 2.818000078201294, 2.783900022506714, 2.724299907684326, 2.3624000549316406, 2.5622000694274902, 2.2648000717163086, 2.878499984741211, 2.366300106048584, 2.488300085067749, 2.591599941253662, 2.455899953842163, 2.839600086212158, 2.6566998958587646, 2.002000093460083, 1.6857999563217163, 1.0336999893188477, 2.113600015640259, 1.674299955368042, 0.852400004863739, 1.0715999603271484, 1.317199945449829, 0.6093999743461609, 0.41769999265670776, 2.0274999141693115, 1.698699951171875, 1.857100009918213, 1.3984999656677246, 0.6136000156402588, -0.10189999639987946, 0.8323000073432922, 0.19499999284744263, 0.4900999963283539, -1.0360000133514404, 0.5619999766349792, 3.358599901199341, 3.345900058746338, 3.338900089263916, 3.338599920272827, 3.337599992752075, 3.3368000984191895, 3.321500062942505, 3.315700054168701, 3.3153998851776123, 3.3141000270843506, 3.3011999130249023, 3.2999000549316406, 3.2997000217437744, 3.2985999584198, 3.2983999252319336, 3.297499895095825, 3.2969000339508057, 3.2967000007629395, 3.293299913406372, 3.2904000282287598, 3.289099931716919, 3.287400007247925, 3.285799980163574, 3.28410005569458, 3.283600091934204, 3.2834999561309814, 3.279099941253662, 3.27839994430542, 3.2769999504089355, 3.2760000228881836, 3.2437000274658203, 3.195499897003174, 3.1949000358581543, 3.1786000728607178, 3.019700050354004, 3.1635000705718994, 3.0840001106262207, 3.140000104904175, 3.1956000328063965, 2.8582000732421875, 2.459399938583374, 2.8731000423431396, 2.7932000160217285, 2.8152999877929688, 2.8857998847961426, 2.8989999294281006, 1.8034000396728516, 2.9718000888824463, 3.0262999534606934, 1.6318999528884888, 2.08870005607605, 2.3873000144958496, 2.797300100326538, 2.2899999618530273, 2.452899932861328, 2.8066999912261963, 2.0274999141693115, 2.5037999153137207, 1.0369999408721924, 0.8500000238418579, 1.117900013923645, 2.3052000999450684, 0.031300000846385956, 1.2874000072479248, 2.3945999145507812, -0.0024999999441206455, 1.0400999784469604, -0.7095999717712402, 0.8986999988555908, 1.930400013923645, -0.2750000059604645, 0.566100001335144, -0.23510000109672546, 0.6949999928474426, 1.326799988746643, 1.1866999864578247, 0.5056999921798706, 3.4630000591278076, 3.453200101852417, 3.4500999450683594, 3.449899911880493, 3.4489998817443848, 3.4433999061584473, 3.437700033187866, 3.4323999881744385, 3.4228999614715576, 3.4205000400543213, 3.418100118637085, 3.4137001037597656, 3.410900115966797, 3.4089999198913574, 3.408600091934204, 3.4072000980377197, 3.405900001525879, 3.4054999351501465, 3.404400110244751, 3.401599884033203, 3.39520001411438, 3.392899990081787, 3.3889000415802, 3.3873000144958496, 3.38700008392334, 3.38700008392334, 3.3852999210357666, 3.385200023651123, 3.379699945449829, 3.3789000511169434, 3.378700017929077, 3.3701999187469482, 3.342099905014038, 3.3287999629974365, 3.269700050354004, 3.182800054550171, 3.110300064086914, 3.2844998836517334, 3.278899908065796, 3.254499912261963, 3.0657999515533447, 3.182499885559082, 3.1647000312805176, 2.691800117492676, 2.955199956893921, 3.108099937438965, 3.1510000228881836, 2.6012001037597656, 2.3510000705718994, 2.9063000679016113, 2.9570999145507812, 2.379499912261963, 1.8734999895095825, 2.5664000511169434, 2.31030011177063, 2.5971999168395996, 2.2558999061584473, 2.1547000408172607, 2.7981998920440674, 1.0851999521255493, 2.2228000164031982, 1.4565000534057617, 2.571000099182129, 1.6023000478744507, 1.6907000541687012, -0.0006000000284984708, 2.553299903869629, 0.49939998984336853, 2.213599920272827, 1.6690000295639038, 0.8845999836921692, 0.10010000318288803, -0.39469999074935913, 0.4927999973297119, 0.6269000172615051, -0.020099999383091927, 0.48170000314712524, 1.182800054550171], \"logprob\": [30.0, 29.0, 28.0, 27.0, 26.0, 25.0, 24.0, 23.0, 22.0, 21.0, 20.0, 19.0, 18.0, 17.0, 16.0, 15.0, 14.0, 13.0, 12.0, 11.0, 10.0, 9.0, 8.0, 7.0, 6.0, 5.0, 4.0, 3.0, 2.0, 1.0, -6.177499771118164, -6.2947998046875, -6.5254998207092285, -7.03980016708374, -5.315700054168701, -4.533299922943115, -7.379199981689453, -6.917900085449219, -6.148600101470947, -7.401299953460693, -7.632999897003174, -7.50029993057251, -7.675899982452393, -7.826099872589111, -7.515500068664551, -7.908699989318848, -7.942999839782715, -7.948500156402588, -7.976900100708008, -7.979300022125244, -7.957399845123291, -8.045999526977539, -7.009200096130371, -8.083200454711914, -7.9664998054504395, -8.100000381469727, -8.134200096130371, -8.136799812316895, -8.132399559020996, -8.105600357055664, -4.783999919891357, -5.014999866485596, -5.718699932098389, -5.697000026702881, -5.9781999588012695, -6.2754998207092285, -4.893199920654297, -4.59119987487793, -4.895400047302246, -5.08650016784668, -1.9780999422073364, -5.305099964141846, -6.125500202178955, -7.02370023727417, -5.19290018081665, -6.358099937438965, -5.650899887084961, -3.8847999572753906, -6.493800163269043, -3.360300064086914, -5.958000183105469, -5.799200057983398, -5.631100177764893, -6.142399787902832, -5.047599792480469, -3.9686999320983887, -5.5929999351501465, -4.750500202178955, -3.815000057220459, -5.171199798583984, -5.500699996948242, -4.418600082397461, -5.456299781799316, -4.497900009155273, -4.965099811553955, -4.019599914550781, -4.639900207519531, -5.100399971008301, -4.422599792480469, -5.0756001472473145, -4.499000072479248, -5.093699932098389, -4.922500133514404, -5.333199977874756, -5.083600044250488, -5.128399848937988, -4.693299770355225, -5.021399974822998, -5.74970006942749, -4.482800006866455, -6.174300193786621, -6.898200035095215, -6.930500030517578, -5.6992998123168945, -7.097899913787842, -7.321199893951416, -7.227099895477295, -7.447999954223633, -6.236700057983398, -3.0815999507904053, -7.737299919128418, -7.566400051116943, -7.836999893188477, -5.11329984664917, -5.930300235748291, -7.867300033569336, -7.836599826812744, -4.48799991607666, -7.916299819946289, -7.935500144958496, -7.982999801635742, -8.04800033569336, -8.080900192260742, -8.162300109863281, -8.23639965057373, -8.313799858093262, -4.432799816131592, -2.9939000606536865, -4.829100131988525, -5.461400032043457, -5.541999816894531, -6.438199996948242, -4.810699939727783, -5.99970006942749, -6.2316999435424805, -5.190400123596191, -4.006499767303467, -5.079599857330322, -6.226900100708008, -4.040599822998047, -4.845799922943115, -3.344099998474121, -4.6894001960754395, -3.602799892425537, -5.687900066375732, -3.3589999675750732, -4.773200035095215, -5.316500186920166, -4.476099967956543, -3.466599941253662, -4.376100063323975, -3.2155001163482666, -4.625500202178955, -3.7809998989105225, -3.8022000789642334, -4.2316999435424805, -3.8166000843048096, -4.246099948883057, -3.881700038909912, -4.90310001373291, -4.832300186157227, -4.8557000160217285, -5.151599884033203, -6.478899955749512, -6.053800106048584, -6.320300102233887, -7.280200004577637, -7.368299961090088, -6.706299781799316, -7.501200199127197, -4.714000225067139, -4.7708001136779785, -7.640600204467773, -7.73360013961792, -7.850500106811523, -7.432300090789795, -8.010899543762207, -7.947400093078613, -8.012200355529785, -8.110799789428711, -8.142600059509277, -8.175600051879883, -8.087599754333496, -8.189499855041504, -8.19320011138916, -8.211299896240234, -8.22189998626709, -8.160900115966797, -8.240099906921387, -8.244600296020508, -8.119999885559082, -8.284299850463867, -6.196700096130371, -4.770999908447266, -6.986800193786621, -6.665500164031982, -6.133500099182129, -7.07420015335083, -7.087399959564209, -5.957699775695801, -7.085100173950195, -5.550899982452393, -6.230599880218506, -4.792799949645996, -6.028500080108643, -6.348800182342529, -5.058800220489502, -5.176799774169922, -2.450500011444092, -3.593100070953369, -5.484399795532227, -5.708600044250488, -3.733599901199341, -4.995699882507324, -5.431300163269043, -5.8516998291015625, -5.071700096130371, -4.754300117492676, -5.884799957275391, -5.729700088500977, -3.703700065612793, -4.811299800872803, -4.520299911499023, -5.01639986038208, -4.956900119781494, -4.265999794006348, -5.004700183868408, -4.55649995803833, -4.576300144195557, -4.10860013961792, -5.310299873352051, -5.001100063323975, -5.229599952697754, -4.761300086975098, -5.077000141143799, -4.854899883270264, -5.1072998046875, -5.200099945068359, -5.1433000564575195, -5.2144999504089355, -6.001100063323975, -5.5640997886657715, -5.832099914550781, -6.888899803161621, -6.892499923706055, -6.852399826049805, -6.940899848937988, -7.229800224304199, -5.496200084686279, -7.229400157928467, -7.293700218200684, -7.321400165557861, -7.37529993057251, -7.389200210571289, -7.246399879455566, -5.217700004577637, -7.482800006866455, -7.527500152587891, -7.531700134277344, -7.012899875640869, -5.0721001625061035, -7.603700160980225, -7.603000164031982, -4.673500061035156, -7.626999855041504, -7.6554999351501465, -6.44980001449585, -7.6722002029418945, -7.69890022277832, -6.27370023727417, -4.836999893188477, -5.594799995422363, -7.39739990234375, -4.801599979400635, -5.8196001052856445, -6.668399810791016, -2.4711999893188477, -5.152599811553955, -5.151599884033203, -5.030300140380859, -6.085899829864502, -3.914599895477295, -5.232100009918213, -6.424799919128418, -5.305799961090088, -5.72760009765625, -4.184599876403809, -5.072000026702881, -5.868899822235107, -4.462100028991699, -6.0524001121521, -4.809700012207031, -5.917699813842773, -4.183499813079834, -5.3084001541137695, -5.1940999031066895, -4.346399784088135, -4.8256001472473145, -4.096499919891357, -4.2667999267578125, -4.718999862670898, -4.5792999267578125, -4.519800186157227, -5.0995001792907715, -5.006499767303467, -4.752600193023682, -4.849699974060059, -5.177000045776367, -6.0904998779296875, -5.994900226593018, -6.77400016784668, -5.663000106811523, -4.628900051116943, -7.055699825286865, -6.927800178527832, -7.220699787139893, -7.3094000816345215, -7.311100006103516, -7.272500038146973, -4.5903000831604, -7.489099979400635, -7.404399871826172, -6.4868998527526855, -7.524099826812744, -7.536300182342529, -7.55109977722168, -7.5655999183654785, -7.578100204467773, -7.572199821472168, -7.612299919128418, -7.612299919128418, -7.630000114440918, -7.6315999031066895, -7.678999900817871, -7.683000087738037, -7.754799842834473, -7.764999866485596, -5.797599792480469, -7.112100124359131, -4.9045000076293945, -4.627399921417236, -4.340700149536133, -4.787099838256836, -4.252900123596191, -5.093599796295166, -6.815700054168701, -6.373899936676025, -4.901199817657471, -5.026599884033203, -6.632199764251709, -6.492499828338623, -6.2932000160217285, -5.383299827575684, -5.677599906921387, -3.5787999629974365, -4.45989990234375, -5.5065999031066895, -4.047399997711182, -5.930099964141846, -5.076399803161621, -5.09630012512207, -6.014800071716309, -3.121500015258789, -3.605299949645996, -4.868599891662598, -5.486800193786621, -4.61899995803833, -4.144100189208984, -3.426300048828125, -4.231100082397461, -3.7679998874664307, -5.102700233459473, -4.522500038146973, -5.1930999755859375, -4.241300106048584, -3.7497000694274902, -4.966599941253662, -4.880000114440918, -4.983399868011475, -4.791200160980225, -5.0335001945495605, -5.085999965667725, -7.445199966430664, -7.524400234222412, -7.549600124359131, -7.607999801635742, -7.768400192260742, -7.841599941253662, -7.868100166320801, -7.879700183868408, -7.44350004196167, -8.019200325012207, -8.07229995727539, -8.10789966583252, -7.0995001792907715, -8.157400131225586, -8.286100387573242, -7.985000133514404, -8.518899917602539, -7.334499835968018, -4.611400127410889, -8.17080020904541, -7.42549991607666, -7.941400051116943, -7.734499931335449, -7.518099784851074, -8.918700218200684, -7.589600086212158, -5.459099769592285, -7.160999774932861, -7.708600044250488, -4.598499774932861, -1.3193000555038452, -5.494100093841553, -3.190200090408325, -2.9372000694274902, -3.632699966430664, -2.3250999450683594, -5.772900104522705, -4.257999897003174, -3.870500087738037, -4.190000057220459, -4.902200222015381, -4.550000190734863, -6.436399936676025, -3.702199935913086, -4.937699794769287, -6.348100185394287, -4.2906999588012695, -5.405799865722656, -5.718999862670898, -6.119100093841553, -3.2987000942230225, -4.381800174713135, -5.250899791717529, -4.82450008392334, -5.571599960327148, -4.8007001876831055, -5.298099994659424, -5.1269001960754395, -5.484899997711182, -4.453499794006348, -4.974599838256836, -4.430500030517578, -5.3358001708984375, -4.828000068664551, -5.218100070953369, -6.241000175476074, -6.924699783325195, -6.543099880218506, -7.023799896240234, -7.188499927520752, -7.178699970245361, -7.305799961090088, -7.306000232696533, -7.129899978637695, -7.327000141143799, -7.375500202178955, -7.138000011444092, -6.639599800109863, -7.422800064086914, -6.611599922180176, -5.897299766540527, -7.4994001388549805, -7.457399845123291, -7.500699996948242, -7.505199909210205, -7.52370023727417, -7.55679988861084, -7.575500011444092, -7.589399814605713, -5.4004998207092285, -7.564499855041504, -7.63730001449585, -7.6656999588012695, -7.077899932861328, -7.744699954986572, -6.401199817657471, -5.628699779510498, -6.825300216674805, -5.203400135040283, -6.217199802398682, -4.203999996185303, -4.244999885559082, -4.267300128936768, -5.837699890136719, -5.144999980926514, -5.688399791717529, -5.082499980926514, -5.374100208282471, -4.328499794006348, -6.081900119781494, -6.15939998626709, -4.230800151824951, -4.448299884796143, -3.878200054168701, -4.938700199127197, -6.082399845123291, -5.466100215911865, -5.11899995803833, -5.579999923706055, -4.963399887084961, -4.131899833679199, -4.628300189971924, -4.815700054168701, -5.098199844360352, -4.19189977645874, -3.3722000122070312, -3.4732000827789307, -5.667600154876709, -3.3822999000549316, -4.151299953460693, -5.130300045013428, -5.021399974822998, -4.15880012512207, -4.547299861907959, -3.981300115585327, -4.143099784851074, -4.838099956512451, -5.024199962615967, -5.185800075531006, -6.751800060272217, -6.573699951171875, -6.8140997886657715, -6.894800186157227, -6.987500190734863, -6.9959001541137695, -7.036099910736084, -7.075900077819824, -7.076200008392334, -7.075699806213379, -7.126800060272217, -7.153800010681152, -7.145599842071533, -6.630799770355225, -7.210299968719482, -7.029200077056885, -7.240799903869629, -7.14709997177124, -7.279699802398682, -7.278800010681152, -7.247300148010254, -7.316100120544434, -7.289299964904785, -7.351900100708008, -7.349599838256836, -7.360499858856201, -6.8420000076293945, -7.4145002365112305, -6.080900192260742, -7.436999797821045, -5.643799781799316, -6.744699954986572, -6.306399822235107, -6.182700157165527, -6.0578999519348145, -6.081699848175049, -4.777699947357178, -5.960299968719482, -5.688199996948242, -6.83620023727417, -6.558199882507324, -6.02839994430542, -6.489200115203857, -5.227700233459473, -5.68310022354126, -5.843299865722656, -4.92609977722168, -6.01140022277832, -5.720099925994873, -3.8603999614715576, -4.715099811553955, -6.0690999031066895, -5.190800189971924, -5.696800231933594, -5.006199836730957, -5.242800235748291, -4.84250020980835, -4.912300109863281, -5.549600124359131, -5.138199806213379, -5.2368998527526855, -5.278200149536133, -4.988100051879883, -5.23390007019043, -5.339600086212158, -5.418000221252441, -5.2804999351501465, -5.321100234985352, -5.22189998626709, -4.1315999031066895, -4.522900104522705, -5.58489990234375, -4.90310001373291, -4.961999893188477, -5.310200214385986, -5.281400203704834, -5.353799819946289, -4.9253997802734375, -5.252699851989746, -4.972899913787842, -5.05620002746582, -5.188499927520752, -4.718500137329102, -6.2133002281188965, -6.471499919891357, -6.544000148773193, -6.547100067138672, -6.118199825286865, -6.5019001960754395, -6.577600002288818, -6.612199783325195, -6.639200210571289, -6.827000141143799, -6.486599922180176, -6.753900051116943, -6.9166998863220215, -7.074999809265137, -5.662899971008301, -7.225599765777588, -7.1350998878479, -7.325900077819824, -7.359600067138672, -4.983500003814697, -7.446100234985352, -7.48829984664917, -7.522200107574463, -7.525400161743164, -7.548900127410889, -7.5594000816345215, -7.5619001388549805, -7.512199878692627, -6.8343000411987305, -4.643700122833252, -5.970399856567383, -3.7249999046325684, -3.141900062561035, -3.422800064086914, -6.609300136566162, -4.449100017547607, -5.539100170135498, -4.0528998374938965, -4.859899997711182, -2.8782999515533447, -6.1066999435424805, -5.6930999755859375, -2.9983999729156494, -5.52400016784668, -5.820400238037109, -4.822400093078613, -5.618299961090088, -5.631100177764893, -5.810100078582764, -5.612500190734863, -5.146299839019775, -5.155600070953369, -5.487199783325195, -5.51669979095459, -5.468500137329102, -3.341099977493286, -5.124499797821045, -4.9029998779296875, -4.304299831390381, -5.228700160980225, -4.019000053405762, -5.121200084686279, -4.730199813842773, -4.386499881744385, -4.430099964141846, -4.553299903869629, -4.7093000411987305, -5.303400039672852, -5.154300212860107, -5.242199897766113, -5.361199855804443, -5.340700149536133, -6.726600170135498, -6.829100131988525, -6.896599769592285, -6.866600036621094, -7.121600151062012, -7.2210001945495605, -7.275100231170654, -7.27839994430542, -7.229100227355957, -7.3180999755859375, -7.412799835205078, -7.590700149536133, -7.5970001220703125, -7.636499881744385, -7.631199836730957, -7.774799823760986, -7.854599952697754, -7.864099979400635, -7.568999767303467, -7.771200180053711, -7.89709997177124, -7.938300132751465, -7.996200084686279, -8.00409984588623, -7.981500148773193, -6.6855998039245605, -8.034600257873535, -7.9552998542785645, -8.042900085449219, -7.374499797821045, -6.258299827575684, -1.391700029373169, -7.41480016708374, -3.99780011177063, -4.968299865722656, -3.2757999897003174, -3.421299934387207, -2.2360999584198, -6.920199871063232, -7.151400089263916, -5.006999969482422, -4.843699932098389, -7.063199996948242, -4.71589994430542, -4.450699806213379, -6.169400215148926, -4.307600021362305, -4.948999881744385, -4.328800201416016, -5.487199783325195, -5.132500171661377, -5.2093000411987305, -3.2323999404907227, -4.892000198364258, -4.030799865722656, -4.123300075531006, -5.257500171661377, -5.051799774169922, -5.236499786376953, -4.494200229644775, -4.657400131225586, -4.521200180053711, -5.512700080871582, -5.0980000495910645, -5.128699779510498, -4.794099807739258, -4.770899772644043, -4.736100196838379, -2.769399881362915, -6.431700229644775, -5.2677001953125, -6.710100173950195, -7.080399990081787, -7.17609977722168, -4.563799858093262, -6.981900215148926, -7.531000137329102, -7.531000137329102, -7.61329984664917, -7.643899917602539, -7.652299880981445, -4.711900234222412, -7.8206000328063965, -7.843200206756592, -7.857399940490723, -7.837500095367432, -7.908299922943115, -5.733799934387207, -7.941500186920166, -7.9679999351501465, -7.985599994659424, -7.995999813079834, -4.719600200653076, -8.039400100708008, -8.121199607849121, -7.962900161743164, -8.127900123596191, -8.095399856567383, -3.9147000312805176, -4.856599807739258, -5.464000225067139, -6.5233001708984375, -3.1833999156951904, -5.936399936676025, -6.144000053405762, -4.450900077819824, -3.9928998947143555, -5.687699794769287, -6.174200057983398, -4.861499786376953, -4.957099914550781, -4.882199764251709, -4.535900115966797, -5.371600151062012, -4.676400184631348, -5.914400100708008, -5.59089994430542, -3.0165998935699463, -2.8020999431610107, -3.5685999393463135, -4.617099761962891, -4.492499828338623, -5.214200019836426, -4.094900131225586, -3.14739990234375, -4.904600143432617, -4.521900177001953, -3.8224000930786133, -4.5696001052856445, -4.53980016708374, -4.157299995422363, -5.065100193023682, -4.450200080871582, -4.266499996185303, -4.833899974822998, -4.688199996948242, -4.849999904632568, -4.846099853515625, -6.469600200653076, -6.606200218200684, -6.67110013961792, -6.7855000495910645, -6.785600185394287, -6.905799865722656, -6.951300144195557, -6.522799968719482, -5.5954999923706055, -7.100299835205078, -7.168600082397461, -7.224699974060059, -7.243299961090088, -7.415900230407715, -7.524899959564209, -7.529099941253662, -6.336299896240234, -7.5594000816345215, -7.350800037384033, -7.6803998947143555, -7.70419979095459, -7.728799819946289, -7.737100124359131, -7.748700141906738, -7.769000053405762, -7.769199848175049, -7.795199871063232, -7.795400142669678, -7.167300224304199, -7.8454999923706055, -6.427800178527832, -6.910399913787842, -7.403900146484375, -6.895400047302246, -4.9421000480651855, -2.8378000259399414, -3.0752999782562256, -5.383399963378906, -4.241300106048584, -5.405399799346924, -4.265999794006348, -3.2221999168395996, -6.119500160217285, -5.027200222015381, -5.060999870300293, -5.4770002365112305, -5.946000099182129, -4.392000198364258, -6.1545000076293945, -5.774600028991699, -4.78439998626709, -5.661900043487549, -3.8782999515533447, -5.611299991607666, -3.451900005340576, -5.321700096130371, -5.105999946594238, -5.493500232696533, -5.567800045013428, -4.85699987411499, -5.335599899291992, -3.936500072479248, -3.875200033187866, -3.7499001026153564, -4.31689977645874, -4.478899955749512, -4.137599945068359, -4.842400074005127, -4.658299922943115, -4.023399829864502, -4.888400077819824, -4.911099910736084, -4.626699924468994, -4.28380012512207, -4.97629976272583, -4.669899940490723, -5.119900226593018, -5.087299823760986, -5.945300102233887, -5.768400192260742, -4.797900199890137, -6.4481000900268555, -5.798600196838379, -6.7316999435424805, -6.771200180053711, -6.7677998542785645, -6.887800216674805, -6.894100189208984, -7.001699924468994, -7.020199775695801, -7.001399993896484, -5.1407999992370605, -7.160999774932861, -7.202099800109863, -7.186399936676025, -7.207399845123291, -6.53380012512207, -7.277599811553955, -6.327400207519531, -7.304699897766113, -6.78410005569458, -7.395999908447266, -5.809999942779541, -6.366600036621094, -7.467299938201904, -7.454599857330322, -7.452499866485596, -7.60699987411499, -5.790299892425537, -5.965799808502197, -6.6041998863220215, -6.887199878692627, -5.508299827575684, -4.285600185394287, -5.792300224304199, -5.759399890899658, -4.4145002365112305, -4.730000019073486, -4.702499866485596, -5.719799995422363, -5.586299896240234, -5.315800189971924, -3.652400016784668, -4.825699806213379, -4.0416998863220215, -6.257900238037109, -4.627900123596191, -5.112299919128418, -5.409200191497803, -5.116799831390381, -6.145599842071533, -5.749100208282471, -4.560699939727783, -4.239799976348877, -3.343600034713745, -5.1367998123168945, -4.791800022125244, -4.195499897003174, -4.4293999671936035, -4.707399845123291, -4.310699939727783, -4.392300128936768, -5.275599956512451, -5.152200222015381, -5.269599914550781, -5.094699859619141, -4.813499927520752, -4.581900119781494, -4.94950008392334, -4.81279993057251, -4.900899887084961, -4.861800193786621, -5.093200206756592, -5.407199859619141, -6.011300086975098, -6.251399993896484, -6.27209997177124, -6.025300025939941, -6.311299800872803, -6.601099967956543, -6.6722002029418945, -6.6855998039245605, -6.71120023727417, -6.8470001220703125, -6.836699962615967, -6.914000034332275, -6.922699928283691, -6.928500175476074, -6.940700054168701, -6.904099941253662, -6.9506001472473145, -6.989699840545654, -7.021100044250488, -7.022299766540527, -7.042699813842773, -7.074100017547607, -7.070799827575684, -7.0954999923706055, -6.995500087738037, -5.232900142669678, -7.1483001708984375, -7.163599967956543, -7.174300193786621, -4.644800186157227, -5.230800151824951, -6.093800067901611, -6.125899791717529, -4.935200214385986, -6.274899959564209, -5.966400146484375, -6.2758002281188965, -6.586699962615967, -5.124100208282471, -3.8610999584198, -5.440400123596191, -5.307799816131592, -5.466700077056885, -5.767600059509277, -5.821899890899658, -3.015899896621704, -6.0929999351501465, -6.216899871826172, -3.2302000522613525, -4.21619987487793, -4.85860013961792, -5.723100185394287, -4.970900058746338, -5.275199890136719, -5.833399772644043, -4.756999969482422, -5.4552998542785645, -3.893399953842163, -4.157800197601318, -4.489500045776367, -5.435500144958496, -3.7945001125335693, -4.880899906158447, -5.616499900817871, -4.482500076293945, -4.984600067138672, -4.269400119781494, -5.005000114440918, -5.426300048828125, -4.652200222015381, -4.963600158691406, -4.825900077819824, -5.086900234222412, -5.255899906158447, -5.306600093841553, -5.262499809265137, -5.813199996948242, -6.087500095367432, -6.164100170135498, -6.1722002029418945, -6.190499782562256, -6.198500156402588, -5.967100143432617, -6.503399848937988, -6.656099796295166, -6.675899982452393, -6.428500175476074, -6.780399799346924, -6.802499771118164, -6.836400032043457, -6.843400001525879, -6.861299991607666, -6.876699924468994, -6.881499767303467, -6.8927998542785645, -6.92519998550415, -6.995299816131592, -7.01639986038208, -6.986800193786621, -7.075399875640869, -7.078000068664551, -7.078000068664551, -7.0183000564575195, -7.094799995422363, -7.14739990234375, -7.153800010681152, -4.87939977645874, -5.847700119018555, -4.93779993057251, -5.6691999435424805, -5.593200206756592, -4.859899997711182, -4.457799911499023, -6.04449987411499, -6.2546000480651855, -6.135000228881836, -5.087800025939941, -5.85290002822876, -5.776700019836426, -3.9372000694274902, -5.0167999267578125, -5.688700199127197, -5.933300018310547, -4.276400089263916, -3.5957000255584717, -5.366300106048584, -5.643799781799316, -4.425300121307373, -3.473400115966797, -5.037099838256836, -4.72130012512207, -5.18779993057251, -4.74970006942749, -4.734000205993652, -5.480899810791016, -3.922600030899048, -5.017099857330322, -4.319900035858154, -5.4328999519348145, -4.790800094604492, -4.904200077056885, -3.963599920272827, -5.4253997802734375, -4.431000232696533, -5.284900188446045, -5.14769983291626, -4.911900043487549, -4.70989990234375, -4.620299816131592, -4.898200035095215, -4.980500221252441, -4.940199851989746, -5.019199848175049, -5.137700080871582]}, \"token.table\": {\"Topic\": [1, 8, 9, 10, 1, 8, 9, 2, 12, 1, 2, 3, 4, 5, 6, 8, 11, 13, 2, 3, 5, 7, 8, 12, 13, 14, 14, 6, 3, 3, 7, 8, 13, 1, 15, 3, 12, 14, 5, 8, 1, 2, 3, 4, 5, 6, 7, 8, 12, 14, 15, 1, 2, 4, 5, 8, 9, 12, 4, 5, 5, 5, 3, 7, 12, 13, 14, 3, 12, 14, 1, 6, 9, 12, 15, 14, 1, 2, 3, 6, 15, 3, 5, 7, 8, 15, 1, 9, 6, 12, 13, 2, 1, 2, 3, 4, 5, 6, 7, 8, 9, 10, 11, 12, 13, 14, 15, 1, 7, 8, 9, 10, 13, 3, 4, 7, 13, 14, 8, 3, 4, 7, 8, 10, 14, 13, 12, 2, 3, 4, 5, 7, 8, 11, 14, 3, 4, 5, 7, 10, 13, 14, 5, 2, 8, 4, 2, 3, 4, 5, 6, 7, 11, 13, 14, 15, 1, 8, 9, 15, 7, 7, 5, 13, 12, 5, 11, 12, 11, 7, 15, 1, 2, 3, 6, 5, 8, 15, 1, 2, 3, 4, 5, 7, 8, 9, 10, 11, 12, 15, 3, 9, 5, 12, 1, 2, 3, 4, 5, 6, 7, 8, 9, 10, 11, 12, 13, 14, 14, 8, 11, 4, 1, 3, 8, 9, 10, 13, 14, 1, 1, 8, 12, 1, 2, 3, 4, 5, 7, 9, 10, 11, 14, 15, 1, 3, 7, 8, 9, 10, 1, 6, 8, 9, 10, 14, 15, 1, 2, 3, 4, 5, 6, 7, 8, 9, 10, 12, 13, 14, 15, 1, 3, 6, 7, 10, 5, 8, 15, 13, 3, 6, 13, 1, 2, 3, 4, 5, 6, 7, 8, 9, 10, 11, 12, 13, 14, 15, 1, 2, 3, 4, 5, 6, 7, 8, 9, 10, 11, 13, 14, 15, 4, 1, 2, 3, 4, 5, 6, 7, 8, 9, 10, 11, 12, 13, 14, 15, 2, 3, 11, 12, 3, 4, 6, 8, 14, 3, 7, 5, 7, 8, 9, 3, 4, 5, 7, 12, 2, 3, 4, 5, 7, 10, 12, 14, 11, 13, 12, 1, 2, 3, 4, 5, 6, 7, 8, 9, 10, 11, 12, 13, 14, 15, 1, 3, 5, 8, 9, 13, 5, 1, 8, 9, 10, 14, 15, 1, 9, 10, 2, 8, 11, 12, 3, 5, 7, 9, 14, 3, 6, 7, 12, 3, 1, 10, 15, 2, 3, 12, 15, 8, 2, 9, 4, 5, 8, 4, 5, 8, 12, 1, 2, 3, 4, 5, 6, 7, 8, 9, 10, 11, 12, 13, 14, 15, 1, 2, 3, 4, 5, 7, 8, 9, 10, 11, 12, 13, 14, 15, 10, 1, 2, 3, 4, 5, 6, 7, 8, 10, 11, 13, 15, 1, 9, 1, 3, 9, 1, 3, 7, 13, 1, 1, 3, 4, 5, 8, 12, 15, 5, 7, 8, 1, 7, 2, 1, 2, 3, 4, 5, 6, 7, 8, 9, 11, 12, 13, 14, 15, 9, 10, 6, 4, 12, 1, 10, 12, 1, 2, 3, 4, 5, 8, 9, 15, 1, 4, 5, 6, 7, 8, 9, 12, 13, 14, 15, 1, 7, 8, 10, 12, 13, 14, 15, 1, 3, 4, 8, 12, 13, 1, 8, 9, 12, 13, 15, 2, 4, 5, 7, 8, 12, 13, 15, 1, 3, 4, 6, 9, 10, 11, 14, 15, 1, 3, 4, 5, 7, 8, 9, 10, 13, 14, 15, 1, 3, 5, 7, 8, 10, 11, 13, 8, 10, 2, 3, 4, 6, 7, 11, 12, 13, 10, 1, 2, 3, 5, 8, 10, 12, 1, 2, 3, 8, 10, 11, 12, 13, 14, 15, 3, 7, 14, 13, 8, 11, 9, 13, 1, 3, 4, 5, 6, 8, 5, 15, 9, 1, 9, 9, 11, 5, 14, 10, 8, 2, 3, 4, 5, 6, 10, 12, 13, 15, 2, 3, 7, 11, 12, 1, 2, 3, 4, 5, 6, 7, 8, 9, 13, 14, 15, 4, 7, 1, 3, 4, 5, 7, 8, 9, 11, 13, 15, 10, 2, 3, 4, 7, 8, 13, 14, 15, 3, 8, 9, 1, 2, 3, 5, 8, 9, 12, 14, 1, 9, 1, 9, 1, 2, 3, 1, 3, 5, 13, 3, 4, 5, 7, 8, 11, 12, 13, 14, 8, 4, 5, 8, 13, 3, 10, 1, 3, 5, 6, 7, 9, 10, 13, 15, 1, 3, 4, 8, 9, 11, 13, 15, 2, 3, 4, 6, 9, 2, 3, 6, 4, 5, 12, 7, 3, 13, 2, 3, 4, 7, 10, 13, 15, 3, 2, 7, 11, 14, 11, 5, 14, 14, 2, 3, 4, 11, 12, 12, 1, 2, 3, 8, 9, 11, 12, 13, 15, 1, 8, 13, 14, 15, 1, 6, 7, 9, 10, 13, 14, 15, 1, 3, 5, 7, 9, 10, 12, 14, 15, 1, 3, 4, 8, 9, 10, 11, 13, 15, 8, 1, 2, 3, 4, 5, 6, 7, 9, 10, 11, 12, 13, 14, 15, 15, 3, 7, 1, 7, 15, 1, 6, 9, 10, 10, 9, 5, 6, 6, 12, 1, 2, 3, 4, 5, 6, 7, 8, 12, 13, 14, 1, 2, 3, 4, 5, 6, 7, 8, 9, 10, 5, 1, 8, 9, 14, 15, 1, 3, 4, 5, 7, 8, 9, 10, 14, 15, 10, 10, 7, 1, 3, 4, 5, 8, 9, 13, 14, 15, 6, 10, 9, 11, 14, 1, 5, 13, 14, 5, 15, 2, 3, 4, 5, 7, 11, 12, 14, 3, 9, 8, 2, 3, 6, 8, 6, 1, 2, 3, 6, 10, 15, 2, 3, 4, 7, 12, 14, 15, 1, 8, 9, 10, 9, 10, 11, 14, 15, 1, 3, 4, 5, 7, 9, 11, 12, 5, 1, 2, 3, 4, 5, 6, 7, 9, 11, 12, 13, 14, 15, 1, 7, 12, 5, 8, 10, 2, 6, 12, 10, 10, 3, 5, 7, 11, 15, 5, 1, 8, 9, 2, 3, 4, 5, 11, 12, 15, 3, 4, 7, 12, 4, 6, 11, 6, 14, 2, 3, 6, 7, 10, 3, 6, 7, 11, 4, 15, 1, 2, 3, 6, 11, 12, 15, 14, 4, 9, 10, 12, 5, 1, 2, 3, 5, 6, 7, 8, 9, 10, 11, 12, 13, 14, 9, 11, 14, 3, 4, 6, 10, 9, 1, 2, 4, 5, 6, 8, 9, 10, 11, 13, 14, 15, 1, 3, 4, 5, 6, 7, 8, 9, 10, 11, 12, 14, 15, 9, 11, 6, 1, 2, 5, 6, 8, 9, 11, 12, 13, 14, 4, 5, 11, 12, 14, 4, 14, 15, 1, 10, 3, 4, 14, 1, 5, 7, 11, 12, 13, 1, 2, 3, 4, 5, 6, 7, 8, 9, 10, 11, 12, 13, 14, 15, 1, 2, 3, 4, 5, 6, 7, 8, 9, 10, 12, 13, 14, 15, 1, 3, 4, 5, 6, 8, 10, 11, 13, 15, 4, 7, 10, 11, 1, 3, 13, 3, 2, 3, 4, 5, 6, 7, 11, 12, 14, 10, 13, 7, 1, 8, 1, 2, 3, 4, 5, 6, 7, 8, 9, 10, 14, 15, 4, 9, 6, 3, 7, 1, 3, 4, 5, 7, 8, 9, 10, 11, 12, 13, 14, 15, 8, 9, 12, 4, 1, 2, 5, 7, 9, 11, 12, 1, 1, 9, 12, 1, 7, 12, 14, 7, 8, 14, 4, 5, 7, 10, 5, 13, 1, 2, 3, 4, 5, 6, 7, 8, 9, 13, 14, 15, 12, 7, 13, 14, 3, 4, 6, 1, 5, 11, 12, 13, 2, 3, 5, 6, 7, 12, 3, 5, 11, 13, 15, 2, 13, 15, 3, 6, 7, 11, 3, 6, 7, 11, 14, 2, 8, 1, 2, 3, 4, 7, 8, 12, 14, 2, 3, 5, 6, 7, 11, 12, 14, 1, 3, 5, 8, 11, 12, 14, 3, 4, 7, 11, 12, 6, 13, 15, 1, 2, 3, 4, 5, 7, 8, 11, 12, 13, 14, 15, 11, 12, 13, 6, 7, 13, 14, 11, 1, 5, 7, 8, 9, 11, 13, 15, 9, 14, 7, 12, 8, 1, 2, 3, 4, 5, 6, 7, 8, 9, 10, 11, 12, 13, 14, 15, 1, 14, 1, 2, 3, 4, 5, 6, 7, 8, 9, 10, 11, 12, 13, 14, 15, 10, 3, 4, 7, 1, 2, 3, 4, 5, 6, 7, 8, 9, 10, 11, 12, 13, 14, 15, 14, 2, 12, 14, 2, 2, 4, 11, 12, 13, 11, 13, 11, 2, 3, 6, 12, 13, 2, 3, 11, 3, 7, 11, 12, 1, 2, 3, 4, 5, 6, 7, 8, 9, 10, 11, 12, 13, 14, 15, 4, 6, 9, 3, 5, 2, 10, 12, 2, 3, 11, 1, 2, 3, 4, 5, 6, 7, 8, 9, 10, 11, 12, 13, 14, 15, 1, 2, 3, 4, 6, 7, 8, 9, 10, 12, 13, 15, 1, 5, 7, 8, 9, 10, 11, 12, 13, 1, 2, 3, 4, 5, 6, 7, 8, 9, 10, 11, 12, 14, 15, 3, 4, 5, 6, 7, 8, 10, 11, 12, 13, 14, 4, 14, 5, 7, 12, 2, 13, 1, 3, 7, 9, 10, 8, 1, 3, 4, 5, 6, 7, 8, 9, 12, 14, 1, 3, 4, 5, 6, 7, 12, 15, 9, 14, 1, 3, 4, 5, 7, 8, 11, 12, 15, 7, 1, 7, 8, 9, 10, 11, 1, 2, 3, 4, 7, 8, 9, 13, 14, 15, 1, 2, 5, 7, 8, 10, 11, 14, 15, 15, 2, 4, 8, 11, 12, 6, 13, 7, 15, 11, 7, 15, 4, 6, 3, 4, 5, 13, 2, 1, 3, 7, 1, 2, 3, 4, 7, 8, 10, 15, 4, 8, 5, 2, 3, 5, 6, 7, 11, 14, 8, 4, 8, 13, 2, 3, 4, 5, 6, 7, 10, 11, 13, 14, 7, 1, 3, 4, 5, 7, 8, 12, 13, 1, 2, 3, 4, 5, 6, 7, 8, 10, 11, 13, 15, 1, 2, 5, 6, 8, 9, 10, 11, 12, 13, 14, 15, 1, 3, 7, 8, 9, 14, 5, 7, 1, 3, 4, 5, 7, 8, 9, 10, 11, 14, 15, 1, 13, 8, 1, 2, 3, 5, 6, 13, 4, 5, 8, 9, 15, 1, 2, 3, 6, 7, 14, 1, 2, 3, 6, 7, 10, 11, 12, 13, 14, 15, 15, 10, 12, 15, 1, 2, 3, 4, 5, 6, 7, 8, 11, 12, 13, 14, 15, 2, 3, 4, 5, 7, 8, 11, 12, 14, 15, 14, 1, 2, 3, 4, 7, 8, 9, 10, 11, 13, 14, 15, 2, 3, 4, 14, 15, 14, 1, 4, 8, 9, 13, 14, 15, 1, 9, 10, 14, 15, 4, 1, 8, 9, 14, 4, 11, 11, 1, 14, 2, 3, 4, 6, 7, 9, 11, 12, 3, 4, 1, 3, 4, 5, 8, 9, 11, 15, 4, 8, 14, 14, 2, 3, 4, 5, 12, 14, 1, 3, 4, 5, 6, 7, 8, 9, 12, 14, 15, 1, 2, 3, 4, 5, 7, 8, 9, 10, 12, 5, 4, 11, 5, 6, 11, 12, 1, 2, 3, 4, 5, 6, 7, 8, 9, 10, 11, 12, 13, 14, 15, 1, 3, 4, 5, 6, 7, 8, 12, 15, 2, 4, 7, 11, 12, 15, 15, 2, 4, 14, 10, 3, 2, 12, 13, 14, 5, 7, 8, 1, 2, 3, 4, 5, 6, 7, 8, 9, 10, 11, 12, 13, 14, 15, 1, 8, 9, 10, 12, 13, 15, 7, 8, 14, 5, 13, 8, 13, 7, 15, 1, 2, 3, 4, 5, 6, 7, 8, 9, 10, 13, 14, 15, 1, 2, 4, 5, 7, 8, 9, 11, 14, 15, 1, 3, 4, 5, 6, 7, 8, 9, 11, 12, 15, 1, 9, 12, 13, 14, 1, 2, 3, 4, 5, 6, 7, 8, 9, 10, 11, 12, 14, 15, 1, 2, 3, 4, 5, 6, 7, 8, 9, 10, 11, 12, 13, 14, 2, 8, 11, 12, 14, 2, 4, 11, 12, 2, 3, 11, 14, 15, 8, 1, 3, 8, 3, 4, 8, 12, 9, 1, 8, 9, 10, 13, 15, 3, 1, 2, 3, 4, 7, 8, 10, 12, 14, 15, 7, 7, 10, 10, 7, 8, 13, 7, 11, 3, 4, 6, 7, 4, 8, 11, 3, 13, 5, 11, 2, 3, 4, 5, 7, 11, 12, 14, 3, 9, 7, 2, 4, 11, 12, 15, 1, 3, 4, 6, 7, 8, 9, 13, 12, 1, 2, 3, 4, 5, 8, 9, 10, 12, 13, 14, 15, 15, 4, 7, 11, 1, 2, 3, 5, 7, 12, 2, 3, 4, 5, 7, 8, 12, 10, 9, 3, 10, 15, 8, 12, 13, 14, 15, 1, 1, 2, 3, 4, 5, 6, 7, 8, 9, 10, 11, 12, 13, 14, 15, 1, 2, 3, 4, 5, 7, 8, 10, 11, 12, 14, 12, 2, 3, 11, 12, 12, 14, 7, 2, 3, 4, 5, 7, 11, 14, 1, 2, 3, 4, 5, 7, 8, 9, 11, 12, 13, 14, 15, 11, 13, 3, 5, 7, 8, 1, 2, 3, 4, 5, 6, 7, 8, 9, 10, 11, 13, 15, 1, 4, 7, 15, 2, 3, 11, 12, 13, 14, 10, 4, 7, 14, 11, 2, 1, 3, 4, 8, 9, 13, 14, 1, 7, 8, 9, 11, 15, 15, 1, 2, 3, 4, 7, 8, 11, 13, 14, 15, 2, 3, 4, 7, 11, 12, 13, 15, 13, 14, 2, 3, 4, 14, 1, 3, 4, 5, 6, 9, 13, 15, 8, 15, 4, 3, 4, 10, 15, 8, 1, 8, 9, 13, 15, 1, 4, 8, 10, 14, 15, 1, 15, 1, 6, 9, 1, 9, 4, 5, 8, 4, 7, 8, 9, 4, 5, 4, 5, 9, 12, 2, 3, 6, 7, 2, 3, 1, 3, 7, 8, 9, 10, 11, 13, 14, 15, 11, 1, 2, 3, 4, 5, 6, 7, 8, 10, 11, 12, 13, 14, 1, 3, 5, 6, 7, 8, 9, 10, 11, 13, 14, 15, 6, 11, 13, 3, 4, 5, 6, 7, 8, 11, 12, 13, 3, 8, 13, 2, 4, 10, 12, 14, 3, 4, 5, 6, 7, 10, 13, 15, 2, 3, 12, 1, 3, 4, 6, 8, 9, 11, 1, 2, 3, 4, 5, 7, 8, 11, 12, 14, 2, 3, 5, 7, 11, 3, 1, 3, 4, 5, 6, 8, 9, 11, 14, 1, 2, 3, 5, 7, 9, 11, 1, 2, 3, 4, 5, 6, 7, 8, 9, 10, 11, 4, 5, 8, 7, 8, 13, 5, 6, 4, 5, 7, 8, 15, 12, 1, 3, 5, 8, 9, 10, 12, 13, 14, 15, 13, 12, 4, 3, 9, 12, 2, 3, 4, 11, 12, 13, 1, 2, 3, 4, 5, 7, 8, 9, 10, 12, 14, 15, 1, 2, 3, 4, 8, 15, 3, 8, 11, 12, 15, 1, 2, 3, 4, 5, 6, 7, 8, 9, 10, 11, 12, 13, 14, 15, 1, 7, 9, 11, 12, 1, 3, 4, 5, 6, 7, 8, 10, 13, 15, 4, 5, 14, 13, 1, 3, 4, 5, 7, 8, 12, 13, 14, 15, 1, 3, 4, 7, 8, 10, 11, 12, 15, 9, 3, 4, 7, 11, 14, 10, 1, 2, 3, 4, 5, 6, 7, 8, 9, 10, 11, 12, 13, 15, 7, 14, 3, 13, 15, 2, 3, 6, 7, 12, 15, 6, 10, 7, 12, 1, 1, 2, 3, 4, 5, 6, 7, 8, 9, 10, 11, 12, 13, 14, 15, 1, 2, 3, 4, 5, 6, 7, 8, 9, 10, 11, 12, 13, 14, 15, 10, 5, 12, 3, 1, 3, 4, 5, 6, 7, 8, 9, 10, 14, 1, 9, 10, 1, 2, 4, 5, 7, 8, 9, 10, 11, 12, 13, 14, 15, 5, 1, 8, 9, 8, 9, 8, 2, 3, 4, 5, 7, 8, 9, 10, 11, 12, 13, 14, 3, 4, 5, 6, 7, 11, 12, 1, 2, 3, 4, 5, 6, 7, 8, 11, 12, 14, 2, 4, 8, 5, 11, 1, 3, 4, 5, 6, 7, 8, 9, 10, 11, 12, 13, 14, 15, 1, 4, 5, 6, 7, 8, 12, 13, 3, 7, 10, 15, 15, 13, 15, 13, 13, 5, 1, 8, 9, 1, 9, 10, 2, 10, 7, 8, 13, 3, 4, 5, 6, 7, 14, 4, 3, 7, 12, 5, 4, 14, 2, 1, 8, 9, 15, 1, 2, 3, 4, 5, 7, 8, 9, 10, 11, 12, 14, 15, 10, 3, 4, 5, 8, 10, 12, 14, 3, 12, 14, 1, 1, 2, 3, 4, 6, 8, 12, 14, 3, 4, 6, 7, 8, 11, 12, 14, 15, 15, 10, 3, 4, 8, 13, 15, 1, 9, 14, 4, 2, 4, 7, 12, 14, 1, 2, 3, 4, 5, 6, 7, 8, 12, 13, 15, 3, 3, 4, 4, 8, 8, 3, 4, 1, 4, 6, 7, 12, 13, 15, 4, 7, 8, 10, 1, 2, 3, 4, 5, 7, 8, 9, 11, 13, 14, 2, 2, 1, 9, 15, 1, 6, 9, 10, 1, 1, 2, 3, 7, 10, 13, 1, 8, 9, 12, 13, 14, 15, 1, 2, 14, 6, 1, 9, 2, 4, 7, 11, 2, 3, 1, 2, 3, 4, 5, 6, 7, 8, 9, 10, 11, 12, 1, 5, 9, 12, 5, 4, 2, 3, 4, 10, 2, 3, 4, 5, 7, 8, 12, 13, 1, 2, 3, 4, 5, 6, 7, 8, 11, 12, 13, 15, 1, 2, 3, 4, 5, 7, 8, 11, 12, 15, 15, 1, 5, 6, 8, 14, 9, 1, 2, 3, 4, 7, 10, 11, 12, 13, 14, 15, 7, 1, 3, 8, 9, 14, 9, 3, 5, 6, 7, 8, 15, 5, 10, 9, 5, 7, 8, 2, 3, 4, 5, 11, 14, 1, 3, 5, 6, 8, 13, 15, 12, 4, 8, 6, 15, 1, 2, 4, 5, 8, 9, 10, 11, 12, 14, 15, 11, 7, 15, 14, 2, 4, 8, 12, 1, 2, 3, 4, 5, 6, 8, 9, 10, 12, 1, 2, 3, 4, 7, 8, 9, 10, 11, 13, 14, 15, 1, 3, 14, 3, 7, 8, 14, 7, 14, 1, 3, 4, 5, 6, 9, 13, 14, 10, 11, 3, 9, 15, 9, 14, 6, 7, 12, 3, 5, 9, 14, 7, 1, 2, 3, 4, 5, 7, 8, 9, 10, 11, 12, 13, 14, 3, 7, 8, 12, 14, 8, 3, 4, 5, 8, 8, 1, 8, 14, 2, 3, 4, 5, 6, 7, 10, 11, 12, 13, 14, 15, 2, 3, 4, 6, 7, 11, 12, 13, 14, 15, 1, 6, 5, 8, 5, 5, 8, 7, 3, 4, 4, 8, 3, 4, 7, 4, 5, 10, 12, 6, 12, 6, 11, 7, 1, 8, 11, 15, 1, 5, 8, 9, 14, 1, 8, 9, 10, 11, 7, 1, 2, 3, 5, 12, 1, 4, 6, 10, 11, 13, 15, 13, 1, 2, 3, 4, 5, 6, 7, 8, 9, 10, 11, 12, 13, 14, 15, 8, 4, 15, 7, 12, 1, 2, 3, 5, 6, 8, 9, 10, 12, 13, 15, 15, 13, 13, 1, 2, 3, 4, 5, 6, 7, 8, 9, 10, 11, 12, 13, 14, 15, 1, 2, 8, 12, 13, 1, 14, 15, 6, 15, 1, 1, 3, 5, 6, 7, 14, 5, 12, 1, 4, 7, 8, 10, 11, 12, 13, 2, 4, 12, 14, 1, 4, 7, 11, 14, 10, 2, 3, 4, 5, 7, 8, 12, 13, 15, 14, 2, 6, 1, 3, 6, 3, 6, 13, 9, 11, 5, 6, 14, 8, 10, 1, 4, 5, 8, 9, 11, 14, 15, 9, 3, 4, 5, 6, 11, 3, 4, 12, 13, 5, 7, 4, 7, 12, 2, 5, 9, 14, 1, 2, 3, 4, 5, 6, 7, 8, 9, 10, 11, 12, 13, 14, 15, 3, 4, 7, 9, 10, 12, 15, 9, 13, 2, 3, 5, 7, 8, 12, 1, 2, 3, 4, 5, 7, 8, 9, 11, 12, 8, 1, 5, 6, 7, 9, 10, 12, 13, 1, 2, 3, 4, 5, 7, 8, 9, 10, 11, 13, 14, 15, 12, 3, 14, 15, 3, 2, 3, 7, 12, 14, 3, 4, 7, 12, 15, 15, 5, 7, 8, 4, 5, 8, 1, 2, 3, 4, 5, 6, 7, 8, 9, 10, 11, 12, 13, 14, 2, 3, 7, 12, 13, 1, 2, 3, 5, 6, 7, 11, 12, 14, 15, 1, 2, 3, 4, 5, 6, 7, 8, 9, 10, 11, 13, 14, 15, 4, 8, 7, 8, 3, 7, 12, 14, 4, 12, 1, 2, 3, 4, 8, 10, 13, 14, 3, 4, 5, 9, 12, 1, 2, 3, 4, 7, 8, 10, 11, 13, 3, 4, 5, 9, 6, 9, 2, 3, 4, 11, 12, 13, 14, 15, 3, 4, 5, 7, 11, 9, 1, 1, 2, 3, 6, 7, 8, 9, 10, 11, 12, 13, 15, 9, 11, 6, 4, 11, 1, 2, 3, 4, 5, 6, 7, 8, 9, 10, 11, 12, 13, 1, 2, 3, 4, 7, 8, 10, 13, 15, 1, 2, 3, 4, 5, 6, 7, 9, 10, 11, 12, 13, 14, 15, 3, 6, 15, 2, 1, 2, 3, 4, 6, 9, 10, 11, 13, 14, 15, 1, 3, 4, 8, 10, 12, 13, 14, 1, 11, 1, 1, 1, 3, 4, 5, 7, 8, 9, 10, 12, 13, 14, 1, 9, 12, 14, 1, 4, 11, 1, 1, 2, 3, 4, 8, 13, 14, 15, 1, 2, 3, 4, 5, 8, 9, 10, 11, 13, 14, 15, 2, 4, 7, 14, 3, 7, 10, 2, 3, 7, 14, 2, 14, 7, 3, 4, 11, 13], \"Freq\": [0.9687193632125854, 0.008226916193962097, 0.016453832387924194, 0.0020567290484905243, 0.8932569026947021, 0.0027233443688601255, 0.10076373815536499, 0.944857656955719, 0.9101064801216125, 0.0036309727001935244, 0.24690614640712738, 0.0036309727001935244, 0.07988139986991882, 0.036309726536273956, 0.018154863268136978, 0.02541680820286274, 0.5736936926841736, 0.014523890800774097, 0.263428658246994, 0.2046276032924652, 0.1293622851371765, 0.37632665038108826, 0.004704082850366831, 0.009408165700733662, 0.00705612450838089, 0.0023520414251834154, 0.9504861235618591, 0.9500885009765625, 0.8908252120018005, 0.168143630027771, 0.17214705049991608, 0.008006840012967587, 0.6485540270805359, 0.9482817649841309, 0.047414086759090424, 0.9787363409996033, 0.8768855929374695, 0.9797848463058472, 0.06647908687591553, 0.9307071566581726, 0.0458444207906723, 0.020375298336148262, 0.4839133322238922, 0.02546912245452404, 0.035656772553920746, 0.01528147328644991, 0.0050938245840370655, 0.06621971726417542, 0.0050938245840370655, 0.2343159317970276, 0.05603206902742386, 0.05376684293150902, 0.02688342146575451, 0.08065026253461838, 0.725852370262146, 0.013441710732877254, 0.02688342146575451, 0.08065026253461838, 0.19166137278079987, 0.7879412174224854, 0.9052554965019226, 0.882104754447937, 0.1089804470539093, 0.07628630846738815, 0.00544902216643095, 0.6429846286773682, 0.15802164375782013, 0.22236855328083038, 0.0741228461265564, 0.694901704788208, 0.1548609435558319, 0.6504159569740295, 0.10065961629152298, 0.05420133098959923, 0.0309721902012825, 0.9548788070678711, 0.00888347439467907, 0.937206506729126, 0.00888347439467907, 0.004441737197339535, 0.03997563198208809, 0.006366865709424019, 0.8340594172477722, 0.1114201471209526, 0.03820119425654411, 0.0031834328547120094, 0.7417933344841003, 0.25041431188583374, 0.02458076924085617, 0.09832307696342468, 0.835746169090271, 0.9454426169395447, 0.2503320276737213, 0.025110863149166107, 0.18638992309570312, 0.02407536469399929, 0.03391261026263237, 0.0010354995029047132, 0.15843142569065094, 0.07559146732091904, 0.04763297736644745, 0.0390901081264019, 0.006471872329711914, 0.0010354995029047132, 0.12270669639110565, 0.025887489318847656, 0.002329874085262418, 0.896676778793335, 0.006617540493607521, 0.0033087702468037605, 0.0694841742515564, 0.019852621480822563, 0.8744992613792419, 0.627788245677948, 0.01687602698802948, 0.17888589203357697, 0.17213547229766846, 0.0033752054441720247, 0.9134242534637451, 0.03721540793776512, 0.00930385198444128, 0.046519260853528976, 0.44658491015434265, 0.027911556884646416, 0.4186733365058899, 0.9058041572570801, 0.9364729523658752, 0.09963135421276093, 0.2706964910030365, 0.05263543128967285, 0.005639510694891214, 0.3628085255622864, 0.1052708625793457, 0.007519347593188286, 0.09399184584617615, 0.19445489346981049, 0.0998552218079567, 0.005255538038909435, 0.12613290548324585, 0.005255538038909435, 0.5675981044769287, 0.005255538038909435, 0.9522238373756409, 0.9611138105392456, 0.024643942713737488, 0.9199854731559753, 0.2910277843475342, 0.45936739444732666, 0.005706427618861198, 0.0011412855237722397, 0.003423856571316719, 0.1774698942899704, 0.0222550667822361, 0.021684424951672554, 0.01768992468714714, 0.0005706427618861198, 0.1762131005525589, 0.044053275138139725, 0.09439987689256668, 0.6796790957450867, 0.9343618154525757, 0.9503872394561768, 0.05938643962144852, 0.8907965421676636, 0.9725875854492188, 0.9569259881973267, 0.10917054116725922, 0.8733643293380737, 0.8600848317146301, 0.9505338072776794, 0.9512513875961304, 0.9374948740005493, 0.947488009929657, 0.20648090541362762, 0.7226831912994385, 0.8582264184951782, 0.03178616240620613, 0.09535849094390869, 0.07491270452737808, 0.17979048192501068, 0.1558184176683426, 0.08989524096250534, 0.005993016064167023, 0.3505914509296417, 0.011986032128334045, 0.014982541091740131, 0.0029965080320835114, 0.0029965080320835114, 0.0809057205915451, 0.026968572288751602, 0.04652736335992813, 0.9460563659667969, 0.05120093375444412, 0.921616792678833, 0.06134975329041481, 0.21937184035778046, 0.050195254385471344, 0.0669270008802414, 0.06134975329041481, 0.38854843378067017, 0.01673175022006035, 0.001859083422459662, 0.009295416995882988, 0.0334635004401207, 0.01673175022006035, 0.027886250987648964, 0.01673175022006035, 0.03160441666841507, 0.8966987729072571, 0.927736759185791, 0.904563307762146, 0.950954020023346, 0.22701895236968994, 0.14236781001091003, 0.3424523174762726, 0.0230866726487875, 0.10389003157615662, 0.14236781001091003, 0.015391115099191666, 0.9178909063339233, 0.19295087456703186, 0.12863391637802124, 0.6646085381507874, 0.19911673665046692, 0.0029718915466219187, 0.20803241431713104, 0.032690808176994324, 0.06538161635398865, 0.1188756674528122, 0.005943783093243837, 0.27935782074928284, 0.02971891686320305, 0.0475502647459507, 0.0029718915466219187, 0.842829704284668, 0.013816880993545055, 0.013816880993545055, 0.02417954057455063, 0.058721743524074554, 0.044904861599206924, 0.8181681632995605, 0.00013478881737682968, 0.00256098760291934, 0.08356907218694687, 0.09179119020700455, 0.00026957763475365937, 0.003504509339109063, 0.19085939228534698, 0.0004501400690060109, 0.009903081692755222, 0.012153781950473785, 0.030609523877501488, 0.03331036493182182, 0.009903081692755222, 0.08867759257555008, 0.44293782114982605, 0.03195994347333908, 0.0013504201779142022, 0.0013504201779142022, 0.09587983042001724, 0.049965545535087585, 0.08804287761449814, 0.010481295175850391, 0.20752964913845062, 0.027251366525888443, 0.6645141243934631, 0.19107748568058014, 0.05459356680512428, 0.7370131611824036, 0.9296679496765137, 0.12368477135896683, 0.8039510250091553, 0.9639866948127747, 0.0877576544880867, 0.013556060381233692, 0.07206116616725922, 0.20262742042541504, 0.002853907411918044, 0.17622877657413483, 0.03210645914077759, 0.05565119534730911, 0.008561722002923489, 0.01284258347004652, 0.09489241987466812, 0.11843715608119965, 0.0713476836681366, 0.001426953705959022, 0.04994338005781174, 0.11878537386655807, 0.01570151560008526, 0.1208333969116211, 0.06895013153553009, 0.06553675979375839, 0.02662430889904499, 0.034133728593587875, 0.034816402941942215, 0.10513188689947128, 0.11195863038301468, 0.07714222371578217, 0.007509420160204172, 0.015018840320408344, 0.19729295372962952, 0.946336030960083, 0.2532721161842346, 0.017138713970780373, 0.07617206871509552, 0.08950217813253403, 0.13520541787147522, 0.02856452390551567, 0.041894637048244476, 0.005712904967367649, 0.24755921959877014, 0.020947318524122238, 0.024755921214818954, 0.0019043016945943236, 0.03999033570289612, 0.011425809934735298, 0.0076172067783772945, 0.30471333861351013, 0.00516463303938508, 0.6662376523017883, 0.02065853215754032, 0.1960563361644745, 0.16127215325832367, 0.6292775869369507, 0.006324398331344128, 0.003162199165672064, 0.05459219589829445, 0.9280673265457153, 0.702143669128418, 0.12974393367767334, 0.10684794932603836, 0.05342397466301918, 0.010407806374132633, 0.15091319382190704, 0.6062546968460083, 0.018213661387562752, 0.2133600264787674, 0.10367264598608017, 0.09290146827697754, 0.05116312578320503, 0.08347667753696442, 0.08751587569713593, 0.0006731990142725408, 0.5776047706604004, 0.0026927960570901632, 0.935782790184021, 0.9203055500984192, 0.9489055275917053, 0.08333159238100052, 0.25095629692077637, 0.039742760360240936, 0.0987158864736557, 0.0035255674738436937, 0.005769110284745693, 0.025640489533543587, 0.023717453703284264, 0.005448604002594948, 0.008653664961457253, 0.33012130856513977, 0.07499843090772629, 0.017307329922914505, 0.02692251466214657, 0.005448604002594948, 0.8960584402084351, 0.0020136144012212753, 0.008054457604885101, 0.024163374677300453, 0.020136145874857903, 0.048326749354600906, 0.9062888026237488, 0.7328038811683655, 0.004062105901539326, 0.07555516809225082, 0.1852320283651352, 0.0016248422907665372, 0.0016248422907665372, 0.31728774309158325, 0.6785442233085632, 0.0023766872473061085, 0.9053189158439636, 0.0777948796749115, 0.311179518699646, 0.5964273810386658, 0.020392654463648796, 0.06117796152830124, 0.7953135371208191, 0.04078530892729759, 0.06117796152830124, 0.2767568528652191, 0.03739957511425018, 0.5535137057304382, 0.12715855240821838, 0.93682461977005, 0.9229052662849426, 0.006278267130255699, 0.06278267502784729, 0.9536725878715515, 0.027642684057354927, 0.013821342028677464, 0.9403060674667358, 0.9455936551094055, 0.9776517152786255, 0.013392489403486252, 0.055222660303115845, 0.34360766410827637, 0.6013134121894836, 0.6306039094924927, 0.1332261711359024, 0.20428013801574707, 0.017763489857316017, 0.2356591373682022, 0.026728825643658638, 0.016482776030898094, 0.08419580012559891, 0.008018647320568562, 0.2169489711523056, 0.006236725952476263, 0.05167572945356369, 0.04499352350831032, 0.13676248490810394, 0.04588448256254196, 0.013809893280267715, 0.08018647879362106, 0.0022274020593613386, 0.02984718792140484, 0.5328456163406372, 0.005668570753186941, 0.009447617456316948, 0.028342852368950844, 0.011337141506373882, 0.003779047168791294, 0.09447617828845978, 0.024563806131482124, 0.07180189341306686, 0.04912761226296425, 0.001889523584395647, 0.04345904290676117, 0.04912761226296425, 0.07180189341306686, 0.9241408109664917, 0.10909019410610199, 0.088311105966568, 0.2545437812805176, 0.16623267531394958, 0.049350325018167496, 0.21298560500144958, 0.041558168828487396, 0.044155552983284, 0.025973854586482048, 0.0025973855517804623, 0.0025973855517804623, 0.9524894952774048, 0.9054789543151855, 0.08488865196704865, 0.01342721376568079, 0.2819714844226837, 0.698215126991272, 0.01074575912207365, 0.9384629726409912, 0.007163839414715767, 0.035819198936223984, 0.9849618673324585, 0.033074405044317245, 0.02362457662820816, 0.009449830278754234, 0.581164538860321, 0.014174745418131351, 0.33546897768974304, 0.004724915139377117, 0.8427650332450867, 0.07436162233352661, 0.049574416130781174, 0.9491133689880371, 0.903884768486023, 0.9518026113510132, 0.0279399324208498, 0.43687891960144043, 0.11810971051454544, 0.2235194593667984, 0.005079987458884716, 0.0139699662104249, 0.06730983406305313, 0.003809990594163537, 0.002539993729442358, 0.003809990594163537, 0.03809990733861923, 0.001269996864721179, 0.04952988028526306, 0.010159974917769432, 0.08022311329841614, 0.8022311329841614, 0.9439775943756104, 0.09583059698343277, 0.8624753952026367, 0.9547214508056641, 0.8014742732048035, 0.1717444807291031, 0.19156095385551453, 0.009823638945817947, 0.06876546889543533, 0.07367729395627975, 0.1473545879125595, 0.3978573679924011, 0.03438273444771767, 0.06876546889543533, 0.04099012166261673, 0.055247556418180466, 0.026732688769698143, 0.0017821792280301452, 0.0035643584560602903, 0.16930703818798065, 0.014257433824241161, 0.12831690907478333, 0.42059430480003357, 0.09089114516973495, 0.04811884090304375, 0.029540983960032463, 0.04431147500872612, 0.1994016319513321, 0.03692622855305672, 0.02215573750436306, 0.12554918229579926, 0.3914180397987366, 0.13293442130088806, 0.00508540403097868, 0.02034161612391472, 0.01017080806195736, 0.3102096617221832, 0.030512424185872078, 0.6204193234443665, 0.0684458315372467, 0.03422291576862335, 0.03422291576862335, 0.6502353549003601, 0.17111457884311676, 0.017111457884311676, 0.003696745028719306, 0.0184837244451046, 0.011090234853327274, 0.0184837244451046, 0.11459909379482269, 0.055451177060604095, 0.683897852897644, 0.0924186259508133, 0.44303494691848755, 0.07117027044296265, 0.005337770562618971, 0.05337770655751228, 0.09607987105846405, 0.028468109667301178, 0.00889628380537033, 0.27400556206703186, 0.016013311222195625, 0.2944892644882202, 0.04496019333600998, 0.002248009666800499, 0.008992038667201996, 0.04046417400240898, 0.006744029000401497, 0.2337930053472519, 0.348441481590271, 0.008992038667201996, 0.006744029000401497, 0.002248009666800499, 0.03930853679776192, 0.03930853679776192, 0.1703369915485382, 0.5437681078910828, 0.0851684957742691, 0.026205692440271378, 0.09171991795301437, 0.006551423110067844, 0.8429109454154968, 0.1296786069869995, 0.6768415570259094, 0.16185341775417328, 0.00840796995908022, 0.01050996221601963, 0.03363187983632088, 0.00420398497954011, 0.07987571507692337, 0.02101992443203926, 0.8580368161201477, 0.013872305862605572, 0.15953151881694794, 0.28438228368759155, 0.006936152931302786, 0.013872305862605572, 0.09710614383220673, 0.4161691963672638, 0.00899994932115078, 0.12824928760528564, 0.00449997466057539, 0.0011249936651438475, 0.0011249936651438475, 0.7908706068992615, 0.02024988643825054, 0.042749762535095215, 0.0011249936651438475, 0.002249987330287695, 0.03607673570513725, 0.9379951357841492, 0.8778356313705444, 0.8827887773513794, 0.9675531983375549, 0.9046541452407837, 0.023387666791677475, 0.9588943123817444, 0.0037420468870550394, 0.47898200154304504, 0.01871023327112198, 0.40039899945259094, 0.05238865688443184, 0.04116251319646835, 0.03949544578790665, 0.9478906393051147, 0.9306969046592712, 0.9580181241035461, 0.022279491648077965, 0.9521214962005615, 0.898523211479187, 0.9357708096504211, 0.8867872357368469, 0.9335599541664124, 0.9295176863670349, 0.0279606394469738, 0.1398032009601593, 0.1358088254928589, 0.14379757642745972, 0.14379757642745972, 0.003994376864284277, 0.3554995656013489, 0.04793252423405647, 0.007988753728568554, 0.058802664279937744, 0.17640799283981323, 0.04900221899151802, 0.10780488699674606, 0.5978270769119263, 0.5008458495140076, 0.07499296218156815, 0.099097840487957, 0.04820976033806801, 0.032139841467142105, 0.0026783200446516275, 0.013391599990427494, 0.10445448011159897, 0.03481816127896309, 0.018748240545392036, 0.018748240545392036, 0.053566399961709976, 0.8813390731811523, 0.8910555839538574, 0.13518646359443665, 0.1565316915512085, 0.06759323179721832, 0.02134523168206215, 0.046248000115156174, 0.03557538613677025, 0.5016129612922668, 0.003557538613677025, 0.032017845660448074, 0.9367125630378723, 0.9001045823097229, 0.049008265137672424, 0.12742149829864502, 0.05880992114543915, 0.049008265137672424, 0.10781818628311157, 0.06861156970262527, 0.37246280908584595, 0.16662810742855072, 0.9290798306465149, 0.9189595580101013, 0.954088568687439, 0.16953974962234497, 0.6627463102340698, 0.034678585827350616, 0.06165082007646561, 0.046238113194704056, 0.0038531762547791004, 0.015412705019116402, 0.9031909108161926, 0.38624057173728943, 0.5907208919525146, 0.8272590041160583, 0.16105927526950836, 0.1602269560098648, 0.8183019161224365, 0.017167173326015472, 0.2303377389907837, 0.021936926990747452, 0.723918616771698, 0.021936926990747452, 0.8739638328552246, 0.6271225214004517, 0.06068927422165871, 0.010114879347383976, 0.050574395805597305, 0.050574395805597305, 0.020229758694767952, 0.16183806955814362, 0.020229758694767952, 0.966076135635376, 0.12575048208236694, 0.013972274959087372, 0.08383364975452423, 0.7545028924942017, 0.9349038600921631, 0.9352307915687561, 0.39516085386276245, 0.12709851562976837, 0.027730586007237434, 0.06008293852210045, 0.016176175326108932, 0.1894923448562622, 0.1432746946811676, 0.020797939971089363, 0.016176175326108932, 0.2784113585948944, 0.06838173419237137, 0.009768819436430931, 0.4933253824710846, 0.014653229154646397, 0.07326614856719971, 0.053728505969047546, 0.886629581451416, 0.09084396809339523, 0.056236740201711655, 0.7786625623703003, 0.056236740201711655, 0.00865180604159832, 0.026551909744739532, 0.9558687210083008, 0.8631575703620911, 0.26565688848495483, 0.7231771349906921, 0.9014118313789368, 0.9588525891304016, 0.9259706735610962, 0.9454282522201538, 0.9284510016441345, 0.010088824667036533, 0.09079942107200623, 0.18159884214401245, 0.010088824667036533, 0.6658624410629272, 0.04035529866814613, 0.8830220103263855, 0.058411408215761185, 0.058411408215761185, 0.8411242961883545, 0.03504684567451477, 0.8436594009399414, 0.9017409086227417, 0.08869582414627075, 0.9469002485275269, 0.6903955340385437, 0.014067620038986206, 0.04220286011695862, 0.1904539316892624, 0.061681102961301804, 0.9066659808158875, 0.22561153769493103, 0.02374858222901821, 0.008905718103051186, 0.26717156171798706, 0.1513972133398056, 0.0029685727786272764, 0.0029685727786272764, 0.1513972133398056, 0.16030293703079224, 0.7681874632835388, 0.1328444480895996, 0.057758454233407974, 0.028879227116703987, 0.011551691219210625, 0.14799349009990692, 0.3718491792678833, 0.002487285528331995, 0.016167355701327324, 0.13058249652385712, 0.006218214053660631, 0.0037309282924979925, 0.31837254762649536, 0.03554258868098259, 0.2345810979604721, 0.046205367892980576, 0.07108517736196518, 0.09596499055624008, 0.24879813194274902, 0.010662776418030262, 0.17415869235992432, 0.08174795657396317, 0.15376049280166626, 0.11250767856836319, 0.4087778925895691, 0.16501125693321228, 0.03750256076455116, 0.022501535713672638, 0.07500512152910233, 0.01500102411955595, 0.007500512059777975, 0.9312296509742737, 0.27212169766426086, 0.021094705909490585, 0.09281671047210693, 0.00843788217753172, 0.03797047212719917, 0.2995448410511017, 0.00843788217753172, 0.048517823219299316, 0.023204177618026733, 0.048517823219299316, 0.08226935565471649, 0.018985236063599586, 0.023204177618026733, 0.01476629450917244, 0.9324952363967896, 0.9050486087799072, 0.0532381534576416, 0.9277880787849426, 0.011178169399499893, 0.055890850722789764, 0.09910779446363449, 0.49553897976875305, 0.21237385272979736, 0.1840573400259018, 0.9214875102043152, 0.9917914867401123, 0.2675397992134094, 0.668849527835846, 0.9439185857772827, 0.8289084434509277, 0.004645984619855881, 0.06597298383712769, 0.13380436599254608, 0.09477809071540833, 0.09942407160997391, 0.005575181450694799, 0.023229923099279404, 0.3558824360370636, 0.1291583776473999, 0.0761941522359848, 0.009291969239711761, 0.4167647063732147, 0.017734667286276817, 0.020690446719527245, 0.08867333829402924, 0.0266020018607378, 0.008867333643138409, 0.06502711772918701, 0.2541969120502472, 0.08571755886077881, 0.011823112145066261, 0.8921646475791931, 0.3697808086872101, 0.07784859091043472, 0.11677289009094238, 0.03892429545521736, 0.3989740312099457, 0.23245327174663544, 0.03689734265208244, 0.11069203168153763, 0.011069202795624733, 0.022138405591249466, 0.03689734265208244, 0.3763529062271118, 0.09962283074855804, 0.05165628343820572, 0.022138405591249466, 0.8667119741439819, 0.9306284785270691, 0.9483439922332764, 0.2931300401687622, 0.036641255021095276, 0.0045801568776369095, 0.06870235502719879, 0.07786266505718231, 0.041221413761377335, 0.3618324100971222, 0.07786266505718231, 0.036641255021095276, 0.8527208566665649, 0.12181726843118668, 0.9333181381225586, 0.8161925673484802, 0.9790722131729126, 0.2680686116218567, 0.05361372232437134, 0.1179501935839653, 0.5575827360153198, 0.9819996953010559, 0.8676306009292603, 0.19378343224525452, 0.41257116198539734, 0.029171697795391083, 0.03750646859407425, 0.11251940578222275, 0.004167385399341583, 0.13544002175331116, 0.072929248213768, 0.9273353815078735, 0.9362012147903442, 0.9258149862289429, 0.8204450011253357, 0.13079558312892914, 0.01189050730317831, 0.02378101460635662, 0.8471029996871948, 0.03641355037689209, 0.09103387594223022, 0.018206775188446045, 0.5826168060302734, 0.21848131716251373, 0.05462032929062843, 0.8560501933097839, 0.003057322232052684, 0.02445857785642147, 0.03668786585330963, 0.05808912217617035, 0.003057322232052684, 0.015286610461771488, 0.24908815324306488, 0.012193126603960991, 0.7350713610649109, 0.001741875195875764, 0.9007829427719116, 0.0215022973716259, 0.1935206651687622, 0.1075114831328392, 0.6880735158920288, 0.06779155880212784, 0.08628016710281372, 0.37593501806259155, 0.37593501806259155, 0.027732910588383675, 0.006162869278341532, 0.009244304150342941, 0.04622151702642441, 0.8840665221214294, 0.007302723824977875, 0.2655535936355591, 0.08298549801111221, 0.03485390916466713, 0.2947644889354706, 0.02024846151471138, 0.10223813354969025, 0.00033194199204444885, 0.0882965698838234, 0.09493540972471237, 0.002655535936355591, 0.004647187888622284, 0.0009958259761333466, 0.945667564868927, 0.30107569694519043, 0.6852067708969116, 0.9296382069587708, 0.0637987032532692, 0.9592770934104919, 0.991442084312439, 0.004291957244277, 0.9107769727706909, 0.8940244317054749, 0.9511411786079407, 0.0362069308757782, 0.258620947599411, 0.6310350894927979, 0.06206902489066124, 0.005172418896108866, 0.9376040697097778, 0.3035694658756256, 0.016498340293765068, 0.6764319539070129, 0.27810749411582947, 0.047755829989910126, 0.042137496173381805, 0.047755829989910126, 0.002809166442602873, 0.5786883234977722, 0.002809166442602873, 0.061545711010694504, 0.16412189602851868, 0.04786888509988785, 0.7180333137512207, 0.902587890625, 0.7308530807495117, 0.19932356476783752, 0.9327448606491089, 0.9198399186134338, 0.9939154982566833, 0.7143541574478149, 0.14287082850933075, 0.10205059498548508, 0.030615178868174553, 0.8191560506820679, 0.034131500869989395, 0.10239450633525848, 0.9239308834075928, 0.9266250729560852, 0.9463748335838318, 0.02345298044383526, 0.06254128366708755, 0.007817660458385944, 0.05472362041473389, 0.3283417224884033, 0.1016295850276947, 0.4065183401107788, 0.8756012916564941, 0.1086789146065712, 0.7938286066055298, 0.02835102193057537, 0.06615238636732101, 0.9372254610061646, 0.056272827088832855, 0.05479196459054947, 0.12587343156337738, 0.056272827088832855, 0.17326107621192932, 0.007404319476336241, 0.008885183371603489, 0.028136413544416428, 0.2976536452770233, 0.0014808638952672482, 0.17178021371364594, 0.014808638952672482, 0.0014808638952672482, 0.9669950008392334, 0.8625510334968567, 0.8800554275512695, 0.8719462752342224, 0.08719462901353836, 0.029064876958727837, 0.972608745098114, 0.8899713158607483, 0.16722489893436432, 0.0029861589428037405, 0.02090311236679554, 0.0029861589428037405, 0.20007264614105225, 0.0029861589428037405, 0.22097575664520264, 0.017916953191161156, 0.3195190131664276, 0.0029861589428037405, 0.03583390638232231, 0.005972317885607481, 0.32996392250061035, 0.041245490312576294, 0.03505866602063179, 0.022685019299387932, 0.010311372578144073, 0.03505866602063179, 0.004124549217522144, 0.1072382777929306, 0.25159749388694763, 0.041245490312576294, 0.03505866602063179, 0.02680956944823265, 0.05568141117691994, 0.05793328583240509, 0.9269325733184814, 0.8840212821960449, 0.044254809617996216, 0.12012019753456116, 0.06322115659713745, 0.006322115659713745, 0.018966346979141235, 0.006322115659713745, 0.01264423131942749, 0.044254809617996216, 0.5057692527770996, 0.17701923847198486, 0.11306101828813553, 0.8246803879737854, 0.006650648079812527, 0.053205184638500214, 0.8901204466819763, 0.19878210127353668, 0.04969552531838417, 0.7205851078033447, 0.12715749442577362, 0.8392394781112671, 0.23521378636360168, 0.033601969480514526, 0.7056413292884827, 0.06880782544612885, 0.004047519527375698, 0.47760728001594543, 0.1376156508922577, 0.032380156219005585, 0.27927884459495544, 0.12376828491687775, 0.015573493205010891, 0.022950410842895508, 0.08606404066085815, 0.013934178277850151, 0.0008196575217880309, 0.02049143798649311, 0.032786302268505096, 0.05163842439651489, 0.4622868597507477, 0.05491705611348152, 0.0032786300871521235, 0.022950410842895508, 0.05983499810099602, 0.029507670551538467, 0.02094000019133091, 0.008974285796284676, 0.16452856361865997, 0.008974285796284676, 0.0029914285987615585, 0.4187999963760376, 0.0882471427321434, 0.008974285796284676, 0.01794857159256935, 0.050854284316301346, 0.06281999498605728, 0.004487142898142338, 0.06281999498605728, 0.07777713984251022, 0.02208087220788002, 0.09936392307281494, 0.37537482380867004, 0.0036801453679800034, 0.007360290735960007, 0.025761017575860023, 0.014720581471920013, 0.13616538047790527, 0.01104043610394001, 0.3054520785808563, 0.06327421963214874, 0.015818554908037186, 0.03163710981607437, 0.8700205087661743, 0.046960242092609406, 0.046960242092609406, 0.8452843427658081, 0.9192282557487488, 0.0376712791621685, 0.20091348886489868, 0.13274641335010529, 0.1022506132721901, 0.1704176962375641, 0.09507513046264648, 0.08072417229413986, 0.15786059200763702, 0.019732574000954628, 0.8786014914512634, 0.9137539863586426, 0.9352449178695679, 0.04771873354911804, 0.9066559076309204, 0.1405138373374939, 0.03172893077135086, 0.06345786154270172, 0.01359811332076788, 0.22663523256778717, 0.03626163676381111, 0.009065409190952778, 0.04079434275627136, 0.05892515927553177, 0.06345786154270172, 0.04079434275627136, 0.2810276746749878, 0.9493350386619568, 0.8717992901802063, 0.9633859395980835, 0.08112463355064392, 0.8518086671829224, 0.3791324496269226, 0.0017883606487885118, 0.030402131378650665, 0.044709015637636185, 0.008941803127527237, 0.11803179979324341, 0.051862459629774094, 0.23248688876628876, 0.05365081876516342, 0.016095245257019997, 0.012518524192273617, 0.0035767212975770235, 0.044709015637636185, 0.9427115321159363, 0.9654017686843872, 0.8631020784378052, 0.8977311253547668, 0.006944292224943638, 0.013888584449887276, 0.5763762593269348, 0.131941556930542, 0.006944292224943638, 0.02777716889977455, 0.22916163504123688, 0.9708086848258972, 0.9197866916656494, 0.07457730174064636, 0.843670666217804, 0.08312684297561646, 0.055417899042367935, 0.08312684297561646, 0.7481415867805481, 0.03993226960301399, 0.15972907841205597, 0.7986454367637634, 0.9427425265312195, 0.9585638046264648, 0.9513667225837708, 0.9288462996482849, 0.07761196047067642, 0.892537534236908, 0.027299169450998306, 0.41751670837402344, 0.1268608421087265, 0.0208758357912302, 0.016058335080742836, 0.008029167540371418, 0.17182418704032898, 0.04335750639438629, 0.03532833606004715, 0.09635001420974731, 0.006423334125429392, 0.027299169450998306, 0.863111674785614, 0.07788307964801788, 0.752869725227356, 0.12980513274669647, 0.2006707340478897, 0.004013414494693279, 0.7866292595863342, 0.008436625823378563, 0.11811275780200958, 0.6664934158325195, 0.1265493929386139, 0.0674930065870285, 0.5271183252334595, 0.004903426393866539, 0.004903426393866539, 0.0024517131969332695, 0.014710279181599617, 0.44376009702682495, 0.07760290801525116, 0.15520581603050232, 0.15520581603050232, 0.5820218324661255, 0.009700363501906395, 0.06369688361883163, 0.8705240488052368, 0.04246458783745766, 0.2529260516166687, 0.014878003858029842, 0.04463401064276695, 0.6843881607055664, 0.10445176064968109, 0.011605750769376755, 0.8240083456039429, 0.011605750769376755, 0.034817252308130264, 0.08960073441267014, 0.8960073590278625, 0.19151151180267334, 0.1322341412305832, 0.12311454117298126, 0.022798988968133926, 0.03647838160395622, 0.004559797700494528, 0.11399494856595993, 0.369343638420105, 0.5701277852058411, 0.18964502215385437, 0.0005963679868727922, 0.0005963679868727922, 0.12464091181755066, 0.0017891039606183767, 0.08528061956167221, 0.026240192353725433, 0.09799958020448685, 0.08252596110105515, 0.020631490275263786, 0.046420853585004807, 0.6756812930107117, 0.015473617240786552, 0.056736595928668976, 0.9393791556358337, 0.034090373665094376, 0.011363457888364792, 0.011363457888364792, 0.0037878192961215973, 0.0859922543168068, 0.1719845086336136, 0.716602087020874, 0.11176871508359909, 0.10225648432970047, 0.1426834613084793, 0.202134907245636, 0.014268347062170506, 0.002378057688474655, 0.0951223075389862, 0.04042698070406914, 0.00951223075389862, 0.09274425357580185, 0.021402519196271896, 0.1640859842300415, 0.9890430569648743, 0.010225068777799606, 0.9114489555358887, 0.08569703996181488, 0.08569703996181488, 0.22852542996406555, 0.5903573632240295, 0.9707213044166565, 0.01403469406068325, 0.0701734721660614, 0.0842081606388092, 0.01403469406068325, 0.056138776242733, 0.01403469406068325, 0.701734721660614, 0.01403469406068325, 0.9823794364929199, 0.8985872268676758, 0.8852779865264893, 0.9699553847312927, 0.9066213965415955, 0.28424155712127686, 0.014094621874392033, 0.028189243748784065, 0.0023491038009524345, 0.025840140879154205, 0.0023491038009524345, 0.0493311770260334, 0.18088097870349884, 0.07752042263746262, 0.004698207601904869, 0.09161504358053207, 0.0023491038009524345, 0.08456773310899734, 0.12685160338878632, 0.028189243748784065, 0.3726019561290741, 0.6147932410240173, 0.010264530777931213, 0.0027372080367058516, 0.01813400350511074, 0.00034215100458823144, 0.0034215101040899754, 0.04020274430513382, 0.05354663357138634, 0.004619038663804531, 0.05388878658413887, 0.7344271540641785, 0.00017107550229411572, 0.044821783900260925, 0.0020529062021523714, 0.0011975285597145557, 0.03028036467730999, 0.8899433612823486, 0.39092692732810974, 0.0021362127736210823, 0.6045482158660889, 0.07087467610836029, 0.22218015789985657, 0.04539164528250694, 0.061318539083004, 0.003981723450124264, 0.06530026346445084, 0.007963446900248528, 0.0254830289632082, 0.0007963446551002562, 0.0207049623131752, 0.2253655344247818, 0.037428200244903564, 0.12741515040397644, 0.036631856113672256, 0.04937336966395378, 0.9191498160362244, 0.8589030504226685, 0.08150174468755722, 0.05642428621649742, 0.9612182974815369, 0.7059722542762756, 0.012789352796971798, 0.2634606659412384, 0.010231481865048409, 0.002557870466262102, 0.8441588878631592, 0.13506542146205902, 0.8954674005508423, 0.8652807474136353, 0.005807253532111645, 0.01161450706422329, 0.005807253532111645, 0.11033781617879868, 0.6081912517547607, 0.002047782065346837, 0.3890785872936249, 0.10626589506864548, 0.0743861272931099, 0.2656647264957428, 0.5419560670852661, 0.09008090198040009, 0.08265037089586258, 0.054985929280519485, 0.006287372671067715, 0.054185718297958374, 0.6039307117462158, 0.0420682355761528, 0.00022863173217047006, 0.00228631729260087, 0.001257474534213543, 0.02720717526972294, 0.015661273151636124, 0.0017147379694506526, 0.016690116375684738, 0.0008002110407687724, 0.24952231347560883, 0.7485669255256653, 0.9555102586746216, 0.8878746628761292, 0.8806835412979126, 0.055898457765579224, 0.055898457765579224, 0.838476836681366, 0.9242684245109558, 0.1758926659822464, 0.7915169596672058, 0.03774962201714516, 0.04749146103858948, 0.0036531894002109766, 0.17900627851486206, 0.004870919045060873, 0.0012177297612652183, 0.009741838090121746, 0.013395027257502079, 0.03409643471240997, 0.12420843541622162, 0.22406227886676788, 0.012177297845482826, 0.23502184450626373, 0.06088648736476898, 0.010959567502140999, 0.07171325385570526, 0.10398421436548233, 0.0681275874376297, 0.19004011154174805, 0.007171324919909239, 0.02151397429406643, 0.060956262052059174, 0.025099636986851692, 0.11115553975105286, 0.025099636986851692, 0.028685299679636955, 0.2904386520385742, 0.13226017355918884, 0.042210694402456284, 0.0028140463400632143, 0.15758660435676575, 0.24482204020023346, 0.2532641887664795, 0.030954509973526, 0.03658260405063629, 0.0984916239976883, 0.12632371485233307, 0.13021060824394226, 0.013604093343019485, 0.0893983244895935, 0.10300242155790329, 0.0019434418063610792, 0.062190137803554535, 0.13992781937122345, 0.015547534450888634, 0.0019434418063610792, 0.005830325651913881, 0.13021060824394226, 0.033038511872291565, 0.15158846974372864, 0.33908402919769287, 0.3404295742511749, 0.010764571838080883, 0.018838001415133476, 0.09419000148773193, 0.0013455714797601104, 0.014801286160945892, 0.07938871532678604, 0.04305828735232353, 0.055168431252241135, 0.0013455714797601104, 0.8927308320999146, 0.08709568530321121, 0.9208774566650391, 0.26332223415374756, 0.7021926045417786, 0.947802722454071, 0.9182406663894653, 0.0229782834649086, 0.007659427355974913, 0.0229782834649086, 0.9191312789916992, 0.015318854711949825, 0.9470037221908569, 0.06630252301692963, 0.0374753400683403, 0.05765436962246895, 0.06630252301692963, 0.4237596392631531, 0.054771650582551956, 0.002882718574255705, 0.09224699437618256, 0.19602486491203308, 0.002882718574255705, 0.0516122505068779, 0.0619346983730793, 0.0825795978307724, 0.0516122505068779, 0.03096734918653965, 0.0206448994576931, 0.6916041374206543, 0.01032244972884655, 0.14289957284927368, 0.8216725587844849, 0.0860600620508194, 0.009220721200108528, 0.012294295243918896, 0.4764039218425751, 0.0430300310254097, 0.3012102246284485, 0.06147147715091705, 0.003073573810979724, 0.003073573810979724, 0.905551016330719, 0.053689323365688324, 0.19328156113624573, 0.6657475829124451, 0.032213594764471054, 0.032213594764471054, 0.02147572860121727, 0.16959942877292633, 0.23858901858329773, 0.04886763170361519, 0.040243931114673615, 0.005749132949858904, 0.06611502915620804, 0.13510462641716003, 0.028745664283633232, 0.25871098041534424, 0.005749132949858904, 0.6210630536079407, 0.04191223159432411, 0.13335710763931274, 0.08763466775417328, 0.022861218079924583, 0.0038102029357105494, 0.011430609039962292, 0.04572243615984917, 0.02667142078280449, 0.9100962281227112, 0.017391856759786606, 0.07536470890045166, 0.017391856759786606, 0.8869847059249878, 0.8451743125915527, 0.7599972486495972, 0.974478006362915, 0.09828455001115799, 0.8845609426498413, 0.9133152961730957, 0.13146592676639557, 0.8413819074630737, 0.9648082256317139, 0.01507512852549553, 0.6508383750915527, 0.22812891006469727, 0.09393543004989624, 0.026838695630431175, 0.9314112663269043, 0.9157362580299377, 0.8849710822105408, 0.9349594116210938, 0.07903587818145752, 0.04311048239469528, 0.3089584410190582, 0.007185080088675022, 0.035925399512052536, 0.5101407170295715, 0.007185080088675022, 0.014370160177350044, 0.9445853233337402, 0.9667094349861145, 0.9208801984786987, 0.07550489902496338, 0.22055378556251526, 0.1708795130252838, 0.0039739422500133514, 0.45899030566215515, 0.043713364750146866, 0.025830624625086784, 0.9669149518013, 0.18231460452079773, 0.018231460824608803, 0.765721321105957, 0.05122675001621246, 0.28353410959243774, 0.39790078997612, 0.007147918455302715, 0.0023826395627111197, 0.0750531405210495, 0.0750531405210495, 0.02144375443458557, 0.0011913197813555598, 0.08339238166809082, 0.9175915122032166, 0.07094906270503998, 0.08615243434906006, 0.0760168507695198, 0.005067790392786264, 0.04561011120676994, 0.4865078628063202, 0.030406741425395012, 0.19764381647109985, 0.09815342724323273, 0.06366708874702454, 0.03448633849620819, 0.0026527955196797848, 0.03713913634419441, 0.10080622881650925, 0.042444728314876556, 0.10345902293920517, 0.2705851197242737, 0.11141740530729294, 0.11141740530729294, 0.021222364157438278, 0.02328662760555744, 0.049160655587911606, 0.05951026827096939, 0.2690899074077606, 0.01811182126402855, 0.025874029844999313, 0.085384301841259, 0.18370561301708221, 0.11643313616514206, 0.11384573578834534, 0.0362236425280571, 0.015524418093264103, 0.4213061034679413, 0.048149269074201584, 0.008024878799915314, 0.38920658826828003, 0.02808707393705845, 0.10432341694831848, 0.9042041897773743, 0.9175950884819031, 0.13682200014591217, 0.04426594078540802, 0.05231429263949394, 0.05633847042918205, 0.06438682228326797, 0.0362175889313221, 0.024145059287548065, 0.46680447459220886, 0.04024176672101021, 0.0362175889313221, 0.04426594078540802, 0.20915305614471436, 0.779570460319519, 0.9550122022628784, 0.06088020280003548, 0.7914426326751709, 0.028410760685801506, 0.08929096162319183, 0.02435208112001419, 0.9703144431114197, 0.004644909407943487, 0.1300574541091919, 0.7106711268424988, 0.08360836654901505, 0.06967363506555557, 0.014625638723373413, 0.8712701797485352, 0.03969816118478775, 0.020893769338726997, 0.012536262162029743, 0.041787538677453995, 0.035040270537137985, 0.4913693368434906, 0.12123128771781921, 0.06363635510206223, 0.02859608456492424, 0.0004027617396786809, 0.013291137292981148, 0.029804369434714317, 0.003222093917429447, 0.2058112472295761, 0.0072497115470469, 0.9501336216926575, 0.14644330739974976, 0.03661082684993744, 0.805438220500946, 0.000328992900904268, 0.036847203969955444, 0.03816317394375801, 0.6102818250656128, 0.0549418143928051, 0.0009869786445051432, 0.018094608560204506, 0.006250864826142788, 0.05132289230823517, 0.15265269577503204, 0.023029502481222153, 0.007237843703478575, 0.000328992900904268, 0.1022065058350563, 0.05353674292564392, 0.569436252117157, 0.004866976756602526, 0.004866976756602526, 0.004866976756602526, 0.038935814052820206, 0.10707348585128784, 0.05840371921658516, 0.05353674292564392, 0.9136792421340942, 0.28093209862709045, 0.07598983496427536, 0.04144899919629097, 0.04605444520711899, 0.004605444613844156, 0.04835716634988785, 0.04605444520711899, 0.029935389757156372, 0.052962612360715866, 0.3223811089992523, 0.03684355691075325, 0.011513611301779747, 0.08837803453207016, 0.12372925132513046, 0.10605364292860031, 0.07070242613554001, 0.5832950472831726, 0.9508993625640869, 0.458281546831131, 0.010260035283863544, 0.07182024419307709, 0.3214810788631439, 0.03762012720108032, 0.07182024419307709, 0.027360092848539352, 0.544871985912323, 0.3165736496448517, 0.03652773052453995, 0.0974072813987732, 0.0030439775437116623, 0.8842976689338684, 0.01851608045399189, 0.009258040226995945, 0.6295467615127563, 0.3332894444465637, 0.032909344881772995, 0.9543710350990295, 0.8909919261932373, 0.9771729707717896, 0.9237440824508667, 0.9331936836242676, 0.03315916657447815, 0.00236851186491549, 0.00236851186491549, 0.00947404745966196, 0.011842560023069382, 0.00236851186491549, 0.00236851186491549, 0.9021838307380676, 0.9717988967895508, 0.14557968080043793, 0.009705311618745327, 0.019410623237490654, 0.08734780550003052, 0.592024028301239, 0.04852655902504921, 0.029115935787558556, 0.05823187157511711, 0.018383968621492386, 0.4044472873210907, 0.5699030160903931, 0.932041347026825, 0.005911978427320719, 0.10641560703516006, 0.1537114381790161, 0.1596234142780304, 0.5675499439239502, 0.005911978427320719, 0.02746087871491909, 0.01594502665102482, 0.012401686981320381, 0.04429173842072487, 0.009744183160364628, 0.03720506280660629, 0.019488366320729256, 0.6696910858154297, 0.0008858348010107875, 0.10364267230033875, 0.0566934272646904, 0.0182170607149601, 0.007006561849266291, 0.051848556846380234, 0.12471680343151093, 0.4932619631290436, 0.06165774539113045, 0.04063805937767029, 0.0504472441971302, 0.0014013124164193869, 0.1513417363166809, 0.9627496600151062, 0.9789260029792786, 0.011653880588710308, 0.8744995594024658, 0.06456036865711212, 0.03521474823355675, 0.017607374116778374, 0.19474102556705475, 0.07502318173646927, 0.12251126021146774, 0.09537521749734879, 0.1157272532582283, 0.021150153130292892, 0.062253277748823166, 0.05028149485588074, 0.06305139511823654, 0.03192475810647011, 0.011971784755587578, 0.035915352404117584, 0.06624387204647064, 0.01995297335088253, 0.03352099657058716, 0.030139312148094177, 0.018083587288856506, 0.13261297345161438, 0.09644579887390137, 0.0060278624296188354, 0.09041793644428253, 0.060278624296188354, 0.5605912208557129, 0.0060278624296188354, 0.3558747470378876, 0.10676242411136627, 0.005083924625068903, 0.4677210748195648, 0.05592317134141922, 0.005083924625068903, 0.9489094614982605, 0.8360775113105774, 0.04805043339729309, 0.1057109534740448, 0.8836604952812195, 0.8564811944961548, 0.9349848031997681, 0.05026799812912941, 0.9096697568893433, 0.03790290653705597, 0.4315102696418762, 0.553635835647583, 0.9218020439147949, 0.07802850008010864, 0.085311159491539, 0.21431827545166016, 0.11652255803346634, 0.05826127901673317, 0.08427078276872635, 0.06346318125724792, 0.06970545649528503, 0.028090260922908783, 0.0031211399473249912, 0.018726840615272522, 0.031211400404572487, 0.06450355798006058, 0.056180521845817566, 0.028090260922908783, 0.3529838025569916, 0.4038134515285492, 0.13836964964866638, 0.0028238703962415457, 0.04518192633986473, 0.04800579696893692, 0.008471610955893993, 0.05938120558857918, 0.10391710698604584, 0.8313368558883667, 0.08913940191268921, 0.8913940191268921, 0.06249900162220001, 0.8749860525131226, 0.12822723388671875, 0.8591225147247314, 0.3485034108161926, 0.010930143296718597, 0.00042039010440930724, 0.00042039010440930724, 0.008407802321016788, 0.00042039010440930724, 0.00042039010440930724, 0.007567021995782852, 0.3670005798339844, 0.06137695536017418, 0.013872873969376087, 0.17362111806869507, 0.007146631833165884, 0.19014336168766022, 0.0020015090703964233, 0.026019617915153503, 0.004003018140792847, 0.00600452721118927, 0.016012072563171387, 0.6084587574005127, 0.004003018140792847, 0.04003018140792847, 0.10407847166061401, 0.007207862101495266, 0.1946122795343399, 0.11532579362392426, 0.04685110226273537, 0.032435379922389984, 0.05045503377914429, 0.04324717074632645, 0.36399704217910767, 0.003603931050747633, 0.003603931050747633, 0.13694937527179718, 0.2908683121204376, 0.014543415978550911, 0.014543415978550911, 0.6253668665885925, 0.04363024979829788, 0.2873997092247009, 0.1279662847518921, 0.0692276656627655, 0.0692276656627655, 0.05139629542827606, 0.07761889696121216, 0.06293424218893051, 0.005244520027190447, 0.02307588793337345, 0.02727150358259678, 0.01363575179129839, 0.02202698402106762, 0.03251602500677109, 0.13006410002708435, 0.0780351385474205, 0.31414881348609924, 0.06541180610656738, 0.10471627116203308, 0.1334056705236435, 0.06598559767007828, 0.013770907185971737, 0.0017213633982464671, 0.0008606816991232336, 0.004590302240103483, 0.05680499225854874, 0.08721574395895004, 0.0393044650554657, 0.033853478729724884, 0.07467180490493774, 0.002489060163497925, 0.8413023352622986, 0.04729214310646057, 0.03235778212547302, 0.5772207379341125, 0.005595031660050154, 0.38745594024658203, 0.028907664120197296, 0.013254639692604542, 0.05301855877041817, 0.7555144429206848, 0.06627319753170013, 0.09278247505426407, 0.9183374643325806, 0.9199329614639282, 0.0936049222946167, 0.8892467617988586, 0.05231489986181259, 0.026157449930906296, 0.6931723952293396, 0.23541705310344696, 0.9586948752403259, 0.13678406178951263, 0.1850607842206955, 0.514951765537262, 0.06436897069215775, 0.06436897069215775, 0.02413836307823658, 0.9409647583961487, 0.06702221930027008, 0.04787301644682884, 0.019149206578731537, 0.05744761973619461, 0.019149206578731537, 0.04787301644682884, 0.13404443860054016, 0.5170285701751709, 0.06702221930027008, 0.009574603289365768, 0.9302319884300232, 0.22171349823474884, 0.7538259029388428, 0.8531796336174011, 0.7667835354804993, 0.08519817143678665, 0.13489709794521332, 0.9210212826728821, 0.05116784945130348, 0.8183387517929077, 0.079194076359272, 0.09569283574819565, 0.0032997531816363335, 0.12143035233020782, 0.8702508211135864, 0.8985230326652527, 0.9776802659034729, 0.014169279485940933, 0.9303712248802185, 0.8843815922737122, 0.8814058899879456, 0.16305424273014069, 0.6178897619247437, 0.07723622024059296, 0.012872704304754734, 0.08581802994012833, 0.012872704304754734, 0.030036309733986855, 0.2480497509241104, 0.7441492676734924, 0.917410671710968, 0.1219249814748764, 0.0886727124452591, 0.731549859046936, 0.0406416617333889, 0.011084089055657387, 0.20900669693946838, 0.014643780887126923, 0.03594382479786873, 0.2116691917181015, 0.005325011443346739, 0.005325011443346739, 0.05458136647939682, 0.4632759690284729, 0.9217320084571838, 0.31414371728897095, 0.10965394228696823, 0.005927240010350943, 0.03259982168674469, 0.00889085978269577, 0.39712509512901306, 0.10076308250427246, 0.0029636200051754713, 0.02370896004140377, 0.0029636200051754713, 0.0029636200051754713, 0.0029636200051754713, 0.9724326133728027, 0.057488709688186646, 0.010452493093907833, 0.9250456094741821, 0.9455280303955078, 0.16679252684116364, 0.24024245142936707, 0.02448330819606781, 0.439169317483902, 0.13006757199764252, 0.0021748302970081568, 0.07829389721155167, 0.0021748302970081568, 0.26097965240478516, 0.6024280190467834, 0.05002110078930855, 0.0043496605940163136, 0.9705297946929932, 0.9491149187088013, 0.9258245229721069, 0.9397013783454895, 0.9154166579246521, 0.05058056488633156, 0.07081279158592224, 0.09104502201080322, 0.040464453399181366, 0.7283601760864258, 0.9160753488540649, 0.28790903091430664, 0.005351468920707703, 0.2097775936126709, 0.06528792530298233, 0.049233514815568924, 0.016054406762123108, 0.09953732788562775, 0.017124701291322708, 0.01926528848707676, 0.051374103873968124, 0.00963264424353838, 0.031038520857691765, 0.06207704171538353, 0.004281175322830677, 0.07385027408599854, 0.10694777965545654, 0.005216964986175299, 0.15129198133945465, 0.03130178898572922, 0.12781564891338348, 0.10433930158615112, 0.05216965079307556, 0.0026084824930876493, 0.3286688029766083, 0.03912723809480667, 0.04956116899847984, 0.8436504006385803, 0.13339491188526154, 0.019056417047977448, 0.8384823203086853, 0.006352138705551624, 0.9642427563667297, 0.9467080235481262, 0.9382414221763611, 0.03985180705785751, 0.5977771282196045, 0.043474700301885605, 0.003622891614213586, 0.25360241532325745, 0.05434337258338928, 0.003622891614213586, 0.1219521015882492, 0.06954293698072433, 0.07055080682039261, 0.441446453332901, 0.06349572539329529, 0.021165240556001663, 0.08163736015558243, 0.015118028968572617, 0.0010078686755150557, 0.03426753357052803, 0.0786137506365776, 0.0010078686755150557, 0.0010078686755150557, 0.8141981363296509, 0.1628396362066269, 0.06011037155985832, 0.07513796538114548, 0.6762416958808899, 0.19535870850086212, 0.1066078320145607, 0.00999448448419571, 0.1515830159187317, 0.05663541331887245, 0.18239934742450714, 0.11410369724035263, 0.24819636344909668, 0.0008328736876137555, 0.014158853329718113, 0.06496414542198181, 0.029150579124689102, 0.016657473519444466, 0.004997242242097855, 0.39722058176994324, 0.0128135671839118, 0.07688140124082565, 0.49972909688949585, 0.2640005052089691, 0.005617031827569008, 0.6684268116950989, 0.005617031827569008, 0.05055328831076622, 0.9417130947113037, 0.9435263276100159, 0.9880903959274292, 0.1152099147439003, 0.8064693808555603, 0.7758827209472656, 0.9636856913566589, 0.01759735867381096, 0.14077886939048767, 0.48568710684776306, 0.13373993337154388, 0.15133728086948395, 0.05631154775619507, 0.014077886939048767, 0.14003127813339233, 0.17822162806987762, 0.06365057826042175, 0.03819034993648529, 0.01273011602461338, 0.5601251125335693, 0.8627752661705017, 0.00048245801008306444, 0.8476787209510803, 0.009166702628135681, 0.10855305194854736, 0.00048245801008306444, 0.00048245801008306444, 0.023157984018325806, 0.007236870005726814, 0.0024122900795191526, 0.00048245801008306444, 0.1020839586853981, 0.21054816246032715, 0.10527408123016357, 0.0031901237089186907, 0.22330865263938904, 0.05423210188746452, 0.03828148543834686, 0.2615901529788971, 0.1633852869272232, 0.8169264793395996, 0.9637089967727661, 0.9648365378379822, 0.01820446364581585, 0.01820446364581585, 0.04156750068068504, 0.005938214715570211, 0.7541532516479492, 0.12470250576734543, 0.005938214715570211, 0.029691072180867195, 0.035629287362098694, 0.9565840363502502, 0.9597133994102478, 0.9384739398956299, 0.9461300373077393, 0.010677206330001354, 0.8755309581756592, 0.02135441266000271, 0.08541765064001083, 0.9581992030143738, 0.9029727578163147, 0.005489196162670851, 0.049402765929698944, 0.010978392325341702, 0.03019057773053646, 0.8413416743278503, 0.016389774158596992, 0.032779548317193985, 0.016389774158596992, 0.027316289022564888, 0.060095835477113724, 0.92444908618927, 0.07061763852834702, 0.8883923292160034, 0.012225582264363766, 0.09780465811491013, 0.9701094031333923, 0.020640626549720764, 0.5722819566726685, 0.26776495575904846, 0.15750880539417267, 0.017259644344449043, 0.06903857737779617, 0.8112033009529114, 0.06903857737779617, 0.6743122339248657, 0.32418859004974365, 0.9258868098258972, 0.06038392335176468, 0.006709324661642313, 0.006709324661642313, 0.8481007814407349, 0.0737478956580162, 0.0368739478290081, 0.0245826318860054, 0.980724573135376, 0.014859464019536972, 0.20273558795452118, 0.05529152601957321, 0.02457401156425476, 0.08908078819513321, 0.02457401156425476, 0.11365479975938797, 0.009215254336595535, 0.23959660530090332, 0.14437231421470642, 0.0952242910861969, 0.9210684299468994, 0.0279470793902874, 0.2461145967245102, 0.09646249562501907, 0.03515922650694847, 0.13793236017227173, 0.14694754779338837, 0.04868200793862343, 0.003606074722483754, 0.0009015186806209385, 0.16317488253116608, 0.09105338156223297, 0.001803037361241877, 0.0009015186806209385, 0.2625437378883362, 0.002476827707141638, 0.004953655414283276, 0.07430483400821686, 0.044582899659872055, 0.07182800769805908, 0.18823890388011932, 0.22786815464496613, 0.007430483121424913, 0.017337793484330177, 0.08916579931974411, 0.007430483121424913, 0.9126235842704773, 0.838078498840332, 0.8825303316116333, 0.05075419694185257, 0.03172137215733528, 0.1871560961008072, 0.028549235314130783, 0.43775492906570435, 0.041237782686948776, 0.03172137215733528, 0.11102480441331863, 0.07613129168748856, 0.775627851486206, 0.10205629467964172, 0.12246755510568619, 0.079574353992939, 0.23872306942939758, 0.013262392953038216, 0.05304957181215286, 0.5968076586723328, 0.03228870779275894, 0.028701072558760643, 0.4018150269985199, 0.269072562456131, 0.028701072558760643, 0.17220643162727356, 0.028701072558760643, 0.03946397453546524, 0.8820130228996277, 0.06300093233585358, 0.047250695526599884, 0.7607465386390686, 0.056651338934898376, 0.008093047887086868, 0.024279145523905754, 0.016186095774173737, 0.11330267786979675, 0.008093047887086868, 0.0008844551048241556, 0.3900446891784668, 0.17423765361309052, 0.00884455069899559, 0.0017689102096483111, 0.36085766553878784, 0.011497916653752327, 0.0017689102096483111, 0.02564919739961624, 0.022995833307504654, 0.7756487727165222, 0.052144456654787064, 0.05866251513361931, 0.03259028494358063, 0.07821668684482574, 0.9489705562591553, 0.09118101000785828, 0.028055695816874504, 0.024548733606934547, 0.10871581733226776, 0.003506961977109313, 0.007013923954218626, 0.09468796849250793, 0.6382670402526855, 0.003506961977109313, 0.17866887152194977, 0.1595257818698883, 0.5168635249137878, 0.03828618675470352, 0.04466721788048744, 0.0319051556289196, 0.02552412636578083, 0.09166228771209717, 0.009166228584945202, 0.1191609725356102, 0.01374934334307909, 0.009166228584945202, 0.22457259893417358, 0.05041425675153732, 0.10999474674463272, 0.03208180144429207, 0.3254011273384094, 0.009166228584945202, 0.07061882317066193, 0.0141237648203969, 0.9039209485054016, 0.017369089648127556, 0.008684544824063778, 0.963984489440918, 0.9689845442771912, 0.019379690289497375, 0.014630891382694244, 0.8193299174308777, 0.04876963794231415, 0.08290838450193405, 0.02926178276538849, 0.924513041973114, 0.31698906421661377, 0.0027806058060377836, 0.0027806058060377836, 0.3447951376438141, 0.1279078722000122, 0.016683636233210564, 0.0027806058060377836, 0.030586665496230125, 0.0639539361000061, 0.09454060345888138, 0.9323263168334961, 0.820419192314148, 0.9666071534156799, 0.9108136892318726, 0.9756057262420654, 0.8146196007728577, 0.07377789914608002, 0.0056752231903374195, 0.02837611548602581, 0.8569586873054504, 0.022700892761349678, 0.0056752231903374195, 0.021689074113965034, 0.010844537056982517, 0.10844536870718002, 0.03614845499396324, 0.005422268528491259, 0.005422268528491259, 0.021689074113965034, 0.08314144611358643, 0.19881650805473328, 0.01265195943415165, 0.39763301610946655, 0.09940825402736664, 0.034536439925432205, 0.009867553599178791, 0.019735107198357582, 0.8584771752357483, 0.0049337767995893955, 0.06413909792900085, 0.2034364491701126, 0.07911417633295059, 0.03390607610344887, 0.022604050114750862, 0.6555174589157104, 0.10836242884397507, 0.00020562131248880178, 0.03516124561429024, 0.003495562355965376, 0.00041124262497760355, 0.3972603678703308, 0.01706656813621521, 0.005346154328435659, 0.04482544586062431, 0.37937131524086, 0.003906805068254471, 0.0008224852499552071, 0.0016449704999104142, 0.0010281065478920937, 0.0010281065478920937, 0.28566575050354004, 0.07307728379964828, 0.4650372564792633, 0.15279795229434967, 0.019930168986320496, 0.014582064934074879, 0.17706793546676636, 0.004166304133832455, 0.006249456666409969, 0.0020831520669162273, 0.6145299077033997, 0.006249456666409969, 0.03957989066839218, 0.13332173228263855, 0.0020831520669162273, 0.16076575219631195, 0.803828775882721, 0.9171248078346252, 0.9204303026199341, 0.05264732986688614, 0.0858982726931572, 0.11360739916563034, 0.011083648540079594, 0.09421101212501526, 0.4516586661338806, 0.005541824270039797, 0.15517108142375946, 0.0027709121350198984, 0.027709120884537697, 0.04272953420877457, 0.016434434801340103, 0.019721323624253273, 0.006573774386197329, 0.19392633438110352, 0.4470166563987732, 0.07559840381145477, 0.09203284233808517, 0.10518039017915726, 0.956170380115509, 0.7370377779006958, 0.10116205364465714, 0.0722586065530777, 0.02890344336628914, 0.04335516691207886, 0.8463246822357178, 0.014174960553646088, 0.04454987868666649, 0.0020249944645911455, 0.013162463903427124, 0.024806180968880653, 0.5305485129356384, 0.0359436497092247, 0.008099977858364582, 0.026324927806854248, 0.09517473727464676, 0.0030374915804713964, 0.09922472387552261, 0.1022622212767601, 0.0005062486161477864, 0.9417000412940979, 0.034877777099609375, 0.23235030472278595, 0.7302438020706177, 0.01659644953906536, 0.009425288066267967, 0.13195404410362244, 0.14137932658195496, 0.009425288066267967, 0.12252874672412872, 0.5843678712844849, 0.8490981459617615, 0.10613726824522018, 0.7171974182128906, 0.2732180655002594, 0.9750151038169861, 0.20037931203842163, 0.05273139849305153, 0.05062214285135269, 0.10018965601921082, 0.017928674817085266, 0.08120635151863098, 0.011600907891988754, 0.0369119793176651, 0.0031638839282095432, 0.06960544735193253, 0.14237478375434875, 0.04429437592625618, 0.10018965601921082, 0.06749618798494339, 0.020037932321429253, 0.10651833564043045, 0.15385982394218445, 0.09986094385385513, 0.06065627560019493, 0.007397106848657131, 0.0036985534243285656, 0.029588427394628525, 0.040684089064598083, 0.002958842786028981, 0.008136817254126072, 0.3535816967487335, 0.027369296178221703, 0.08062846213579178, 0.005917685572057962, 0.019232477992773056, 0.926007866859436, 0.7354276180267334, 0.25580090284347534, 0.8997549414634705, 0.12079359591007233, 0.017895346507430077, 0.002982557751238346, 0.08351162075996399, 0.2020682990550995, 0.014167149551212788, 0.031316857784986496, 0.03802761435508728, 0.4861569404602051, 0.0037281971890479326, 0.4333670139312744, 0.014943690039217472, 0.5379728078842163, 0.17307409644126892, 0.002933459123596549, 0.038134969770908356, 0.017600754275918007, 0.049868807196617126, 0.10560452938079834, 0.1232052817940712, 0.002933459123596549, 0.04400188848376274, 0.038134969770908356, 0.049868807196617126, 0.026401132345199585, 0.3285474181175232, 0.9433271884918213, 0.1315118670463562, 0.018787410110235214, 0.8454334735870361, 0.04831486940383911, 0.9179825186729431, 0.9626498818397522, 0.04277323931455612, 0.03389577195048332, 0.15818028151988983, 0.2574464678764343, 0.013719717971980572, 0.004842253401875496, 0.000807042233645916, 0.000807042233645916, 0.00403521116822958, 0.47131267189979553, 0.001614084467291832, 0.009684506803750992, 0.0019524595700204372, 0.3494902551174164, 0.27334433794021606, 0.007809838280081749, 0.12105249613523483, 0.021477054804563522, 0.22258038818836212, 0.0008180009899660945, 0.00572600681334734, 0.04499005526304245, 0.05153406038880348, 0.23967428505420685, 0.004908005706965923, 0.0777100920677185, 0.001636001979932189, 0.0008180009899660945, 0.5537866353988647, 0.018814021721482277, 0.14512768387794495, 0.7256384491920471, 0.11610215157270432, 0.9040499925613403, 0.9560288190841675, 0.06314070522785187, 0.09831910580396652, 0.006314070895314217, 0.0802789032459259, 0.37162816524505615, 0.011726131662726402, 0.008118091151118279, 0.05051256716251373, 0.0072160810232162476, 0.0018040202558040619, 0.27330905199050903, 0.016236182302236557, 0.0036080405116081238, 0.006314070895314217, 0.059464454650878906, 0.0817636251449585, 0.05203139781951904, 0.6020776033401489, 0.06689751148223877, 0.014866113662719727, 0.04459834098815918, 0.07433056831359863, 0.08011456578969955, 0.04005728289484978, 0.8812602758407593, 0.849318265914917, 0.9121686816215515, 0.9473422169685364, 0.930060088634491, 0.9170916080474854, 0.9037575721740723, 0.9340329766273499, 0.9223658442497253, 0.06973212212324142, 0.003169642062857747, 0.9735173583030701, 0.02253512479364872, 0.8562350869178772, 0.9342141151428223, 0.9639779329299927, 0.9442769289016724, 0.21136920154094696, 0.7850855588912964, 0.623242974281311, 0.14422151446342468, 0.1545230597257614, 0.06695999205112457, 0.00515076844021678, 0.00515076844021678, 0.9556266069412231, 0.7743023633956909, 0.16020049154758453, 0.06675020605325699, 0.885994553565979, 0.8709840774536133, 0.09331972151994705, 0.9390053153038025, 0.019726859405636787, 0.17754173278808594, 0.7693474888801575, 0.019726859405636787, 0.08060692250728607, 0.02303054928779602, 0.08444534987211227, 0.08828376978635788, 0.01151527464389801, 0.015353699214756489, 0.41071146726608276, 0.12282959371805191, 0.038384247571229935, 0.026868974789977074, 0.049899522215127945, 0.04606109857559204, 0.8937602639198303, 0.9358078241348267, 0.06425073742866516, 0.012850148603320122, 0.06425073742866516, 0.10280118882656097, 0.0899510383605957, 0.10280118882656097, 0.5654065012931824, 0.9347098469734192, 0.08086573332548141, 0.9056962132453918, 0.9381445050239563, 0.1342577040195465, 0.008661787025630474, 0.06929429620504379, 0.303162544965744, 0.021654468029737473, 0.42009666562080383, 0.03897804394364357, 0.004330893512815237, 0.14119762182235718, 0.07765869051218033, 0.3141646981239319, 0.021179642528295517, 0.045889224857091904, 0.11648803949356079, 0.06706886738538742, 0.042359285056591034, 0.17649702727794647, 0.9259148240089417, 0.8199591636657715, 0.5504176616668701, 0.2555510699748993, 0.04586813971400261, 0.13760441541671753, 0.9738882184028625, 0.16866335272789001, 0.16866335272789001, 0.6746534109115601, 0.9766588807106018, 0.25202152132987976, 0.06300538033246994, 0.1718328595161438, 0.4123988747596741, 0.09737195819616318, 0.9434599876403809, 0.0006113213021308184, 0.42731359601020813, 0.20479263365268707, 0.3343927562236786, 0.0024452852085232735, 0.00855849776417017, 0.007947176694869995, 0.0012226426042616367, 0.010392461903393269, 0.001833963906392455, 0.9917959570884705, 0.8415314555168152, 0.9273577928543091, 0.9479068517684937, 0.9213528633117676, 0.9527859091758728, 0.21449881792068481, 0.7721957564353943, 0.016600005328655243, 0.07193335145711899, 0.35966676473617554, 0.24346673488616943, 0.0055333347991108894, 0.22133339941501617, 0.07193335145711899, 0.04661490395665169, 0.699223518371582, 0.09322980791330338, 0.15538300573825836, 0.08577530831098557, 0.4889192581176758, 0.05391590669751167, 0.024507230147719383, 0.16909988224506378, 0.0024507229682058096, 0.012253615073859692, 0.007352169137448072, 0.07842313498258591, 0.06126807630062103, 0.014704338274896145, 0.9362611174583435, 0.9152541160583496, 0.24483425915241241, 0.6878677010536194, 0.05829387158155441, 0.18893210589885712, 0.5488027930259705, 0.125954732298851, 0.125954732298851, 0.9408223032951355, 0.02108512446284294, 0.06325537711381912, 0.0527128130197525, 0.7063516974449158, 0.04217024892568588, 0.105425626039505, 0.07621026039123535, 0.17782394587993622, 0.4572615921497345, 0.044455986469984055, 0.11431539803743362, 0.11431539803743362, 0.006350855343043804, 0.966132640838623, 0.14065736532211304, 0.8439441323280334, 0.9219403266906738, 0.9405432939529419, 0.8976871967315674, 0.2918126881122589, 0.030187521129846573, 0.02012501284480095, 0.6339379549026489, 0.13733838498592377, 0.824030339717865, 0.03459318354725838, 0.004804608877748251, 0.1547084003686905, 0.031710416078567505, 0.540037989616394, 0.0682254433631897, 0.03651502728462219, 0.007687374018132687, 0.0019218435045331717, 0.013452904298901558, 0.048046085983514786, 0.05861622467637062, 0.8752515912055969, 0.0663069412112236, 0.03978416323661804, 0.9723389744758606, 0.9589000940322876, 0.9542577862739563, 0.08956307917833328, 0.8284584879875183, 0.02239076979458332, 0.04478153958916664, 0.010634833946824074, 0.2658708393573761, 0.06380899995565414, 0.0035449445713311434, 0.06380899995565414, 0.04608428105711937, 0.07798878103494644, 0.4643877446651459, 0.14053313434123993, 0.0020076162181794643, 0.06223610043525696, 0.014053313061594963, 0.39951562881469727, 0.05019040405750275, 0.07628941535949707, 0.030114242807030678, 0.03412947431206703, 0.13250266015529633, 0.05219801887869835, 0.008030464872717857, 0.023480365052819252, 0.005870091263204813, 0.11740182340145111, 0.09392146021127701, 0.3580755591392517, 0.029350455850362778, 0.011740182526409626, 0.04109063744544983, 0.046960730105638504, 0.27589428424835205, 0.9215015172958374, 0.10531552881002426, 0.03829655423760414, 0.411687970161438, 0.0957413911819458, 0.3350948691368103, 0.9543262720108032, 0.011832213960587978, 0.6636796593666077, 0.04302623122930527, 0.001075655804015696, 0.001075655804015696, 0.001075655804015696, 0.14306221902370453, 0.08712811768054962, 0.017210492864251137, 0.001075655804015696, 0.030118362978100777, 0.9353999495506287, 0.04259662330150604, 0.12778986990451813, 0.6389493346214294, 0.08519324660301208, 0.08519324660301208, 0.9671576619148254, 0.05785246193408966, 0.7878954410552979, 0.06336221843957901, 0.06887197494506836, 0.008264637552201748, 0.011019516736268997, 0.9344924688339233, 0.060289833694696426, 0.9721406102180481, 0.958275556564331, 0.004864342976361513, 0.03405040130019188, 0.04513409361243248, 0.7350409626960754, 0.006447727791965008, 0.006447727791965008, 0.16764092445373535, 0.04513409361243248, 0.19503207504749298, 0.14952459931373596, 0.013002138584852219, 0.019503207877278328, 0.026004277169704437, 0.526586651802063, 0.06501069664955139, 0.9301600456237793, 0.039071228355169296, 0.9377094507217407, 0.8271284103393555, 0.9121540188789368, 0.02962845377624035, 0.022221339866518974, 0.08147824555635452, 0.007407113444060087, 0.19999206066131592, 0.0592569075524807, 0.014814226888120174, 0.06666402518749237, 0.4147983491420746, 0.05184979364275932, 0.04444267973303795, 0.8389276266098022, 0.1837823987007141, 0.8040480017662048, 0.893648624420166, 0.03784240782260895, 0.10091309249401093, 0.7820764183998108, 0.0756848156452179, 0.0747387632727623, 0.0027681023348122835, 0.669880747795105, 0.11902839690446854, 0.0027681023348122835, 0.03598532825708389, 0.00830430630594492, 0.07197065651416779, 0.0027681023348122835, 0.011072409339249134, 0.2959728240966797, 0.0009672314627096057, 0.12574009597301483, 0.016442935913801193, 0.30661237239837646, 0.1305762529373169, 0.0019344629254192114, 0.04159095510840416, 0.0009672314627096057, 0.0386892594397068, 0.010639546439051628, 0.029016945511102676, 0.889741837978363, 0.04682851582765579, 0.04682851582765579, 0.101873017847538, 0.7385793924331665, 0.14007540047168732, 0.01273412723094225, 0.9132680296897888, 0.07183007150888443, 0.29914766550064087, 0.007478691637516022, 0.059829533100128174, 0.0673082247376442, 0.007478691637516022, 0.16453121602535248, 0.05235084146261215, 0.3365411162376404, 0.850156307220459, 0.8830748796463013, 0.04491549730300903, 0.08983099460601807, 0.8084789514541626, 0.9302690029144287, 0.9279056191444397, 0.8342599868774414, 0.8916487693786621, 0.9350981116294861, 0.07952288538217545, 0.8747517466545105, 0.9661271572113037, 0.8988487720489502, 0.9735610485076904, 0.21540886163711548, 0.01914745382964611, 0.0933438390493393, 0.02872118167579174, 0.016754021868109703, 0.004786863457411528, 0.2201957255601883, 0.04786863550543785, 0.043081771582365036, 0.08855697512626648, 0.052655499428510666, 0.0933438390493393, 0.07658981531858444, 0.007044937927275896, 0.6410893797874451, 0.014089875854551792, 0.3311120867729187, 0.8801761865615845, 0.8972072601318359, 0.08801580965518951, 0.02933860383927822, 0.05867720767855644, 0.8214808702468872, 0.9221837520599365, 0.04288557171821594, 0.9005970358848572, 0.9704755544662476, 0.20999592542648315, 0.37614327669143677, 0.01342303492128849, 0.0013423034688457847, 0.10887572914361954, 0.09992703795433044, 0.0008948689792305231, 0.10872658342123032, 0.030127255246043205, 0.015511061996221542, 0.035049036145210266, 0.00014914483472239226, 0.08604934811592102, 0.2608370780944824, 0.029579462483525276, 0.028234941884875298, 0.07394865900278091, 0.11428429186344147, 0.14789731800556183, 0.1626870483160019, 0.09546099603176117, 0.001344521064311266, 0.28744399547576904, 0.646748960018158, 0.14240694046020508, 0.8544416427612305, 0.9440911412239075, 0.8614488244056702, 0.13555793464183807, 0.8903568387031555, 0.8500517010688782, 0.13600827753543854, 0.9478875994682312, 0.93498295545578, 0.03131575882434845, 0.9316437840461731, 0.03131575882434845, 0.9464660286903381, 0.20222808420658112, 0.7583553194999695, 0.9010418653488159, 0.043571650981903076, 0.9585763216018677, 0.6323288679122925, 0.3372420370578766, 0.9294294118881226, 0.1933193951845169, 0.6766178607940674, 0.09665969759225845, 0.016109948977828026, 0.20920781791210175, 0.049811385571956635, 0.08966049551963806, 0.6375857591629028, 0.009962277486920357, 0.24194398522377014, 0.0870998352766037, 0.6096988320350647, 0.009677759371697903, 0.05806655436754227, 0.9465339779853821, 0.06851732730865479, 0.16272865235805511, 0.008564665913581848, 0.7023026347160339, 0.059952665120363235, 0.02371719665825367, 0.0059292991645634174, 0.0592929944396019, 0.7115159034729004, 0.04743439331650734, 0.14823248982429504, 0.9500261545181274, 0.9165161848068237, 0.05800085514783859, 0.07518629729747772, 0.10311263054609299, 0.12244625389575958, 0.045111775398254395, 0.008592719212174416, 0.16111348569393158, 0.06014903634786606, 0.004296359606087208, 0.008592719212174416, 0.008592719212174416, 0.02362997829914093, 0.17615073919296265, 0.11170534789562225, 0.03007451817393303, 0.9477208256721497, 0.9516254663467407, 0.8577978014945984, 0.06890222430229187, 0.8957289457321167, 0.08518949151039124, 0.08203432708978653, 0.041017163544893265, 0.012620666064321995, 0.0031551665160804987, 0.17353415489196777, 0.0662584975361824, 0.02524133212864399, 0.03155166283249855, 0.07572399824857712, 0.41017162799835205, 0.9215331077575684, 0.9015350341796875, 0.9581502079963684, 0.15514369308948517, 0.24414460361003876, 0.017508378252387047, 0.04328460246324539, 0.013131284154951572, 0.004863438196480274, 0.012644940055906773, 0.06419738382101059, 0.11526349186897278, 0.06954716891050339, 0.0019453753484413028, 0.03598944470286369, 0.05301147699356079, 0.07927404344081879, 0.08997361361980438, 0.23440860211849213, 0.046881720423698425, 0.7032257914543152, 0.05869416147470474, 0.9273677468299866, 0.9244071841239929, 0.05541405454277992, 0.01763174496591091, 0.9121394753456116, 0.07601162046194077, 0.9704293012619019, 0.9421913027763367, 0.1179240494966507, 0.7690699100494385, 0.02563566341996193, 0.020508531481027603, 0.06665272265672684, 0.11679967492818832, 0.8759976029396057, 0.34124481678009033, 0.06604738533496857, 0.014677195809781551, 0.44765448570251465, 0.003669298952445388, 0.011007897555828094, 0.003669298952445388, 0.11007896810770035, 0.09536924958229065, 0.008669931441545486, 0.017339862883090973, 0.8669931888580322, 0.13047868013381958, 0.06523934006690979, 0.13047868013381958, 0.09785900264978409, 0.554534375667572, 0.8889805674552917, 0.004530101083219051, 0.004530101083219051, 0.1721438467502594, 0.09966222941875458, 0.09060202538967133, 0.3941188156604767, 0.018120404332876205, 0.19479435682296753, 0.018120404332876205, 0.9088371396064758, 0.964365541934967, 0.8743674755096436, 0.12816797196865082, 0.06408398598432541, 0.7690078020095825, 0.8495379090309143, 0.12585747241973877, 0.9233882427215576, 0.9146824479103088, 0.9355872869491577, 0.1357215791940689, 0.8143295049667358, 0.9570607542991638, 0.07944782823324203, 0.8739261031150818, 0.11084195971488953, 0.03260057792067528, 0.026080461218953133, 0.09780173003673553, 0.1304023116827011, 0.1369224190711975, 0.05868103727698326, 0.39772704243659973, 0.8692266941070557, 0.008986610919237137, 0.9211276173591614, 0.02695983275771141, 0.004493305459618568, 0.03594644367694855, 0.010497492738068104, 0.944774329662323, 0.010497492738068104, 0.020994985476136208, 0.8791636824607849, 0.05494773015379906, 0.9346742630004883, 0.04673371464014053, 0.9725775122642517, 0.2603382170200348, 0.018595587462186813, 0.6508455276489258, 0.05578676238656044, 0.10855385661125183, 0.17172864079475403, 0.09142548590898514, 0.03826078772544861, 0.1454799622297287, 0.023801768198609352, 0.1505962312221527, 0.02246708981692791, 0.04649130254983902, 0.002002017805352807, 0.08252762258052826, 0.07674401998519897, 0.008897856809198856, 0.010677428916096687, 0.020465072244405746, 0.09488435834646225, 0.028465308248996735, 0.2087455838918686, 0.028465308248996735, 0.14232653379440308, 0.09488435834646225, 0.38902586698532104, 0.046641550958156586, 0.9328309893608093, 0.2155638039112091, 0.13508665561676025, 0.03161602467298508, 0.0028741839341819286, 0.005748367868363857, 0.6064528226852417, 0.049058541655540466, 0.2234889268875122, 0.04088211804628372, 0.013627373613417149, 0.002725474536418915, 0.03543116897344589, 0.03815664350986481, 0.02180379629135132, 0.4578797519207001, 0.11446993798017502, 0.9327040314674377, 0.14837390184402466, 0.0010375797282904387, 0.5426542162895203, 0.010375797748565674, 0.05187898874282837, 0.2407185137271881, 0.0031127394177019596, 0.0010375797282904387, 0.4199594557285309, 0.0055403620935976505, 0.03435024619102478, 0.13740098476409912, 0.03545831888914108, 0.018837232142686844, 0.14072519540786743, 0.0842135027050972, 0.00886457972228527, 0.031026028096675873, 0.004432289861142635, 0.022161448374390602, 0.05540362000465393, 0.9611350297927856, 0.05018676817417145, 0.037640076130628586, 0.8908150792121887, 0.9467218518257141, 0.4385625720024109, 0.22268980741500854, 0.295404851436615, 0.009089379571378231, 0.03408517315983772, 0.7916404604911804, 0.01256572175770998, 0.05026288703083992, 0.13822293281555176, 0.8540953397750854, 0.9542005062103271, 0.9586630463600159, 0.013695186004042625, 0.013695186004042625, 0.7561732530593872, 0.22030244767665863, 0.017862360924482346, 0.024393439292907715, 0.07666509598493576, 0.21605618298053741, 0.043559715151786804, 0.13242152333259583, 0.033105380833148956, 0.1916627436876297, 0.04007493704557419, 0.02962060458958149, 0.0017423885874450207, 0.022651050239801407, 0.03833254799246788, 0.09931614995002747, 0.04878687858581543, 0.7490820288658142, 0.04123387485742569, 0.04467003047466278, 0.04467003047466278, 0.1133931577205658, 0.9721911549568176, 0.2768877148628235, 0.1661326289176941, 0.019095703959465027, 0.001909570419229567, 0.4964883327484131, 0.005728711374104023, 0.007638281676918268, 0.017186135053634644, 0.005728711374104023, 0.20953482389450073, 0.04190696403384209, 0.07915759831666946, 0.03725063428282738, 0.08070971071720123, 0.003104219678789377, 0.10243924707174301, 0.082261823117733, 0.06518861651420593, 0.007760548964142799, 0.045011185109615326, 0.07915759831666946, 0.12261667847633362, 0.04190696403384209, 0.055089838802814484, 0.9089823365211487, 0.22443102300167084, 0.7596126794815063, 0.10113529115915298, 0.47533586621284485, 0.4146547019481659, 0.0033711763098835945, 0.07633426040410995, 0.8396769165992737, 0.23276396095752716, 0.018255997449159622, 0.013691998086869717, 0.0045639993622899055, 0.42445194721221924, 0.06389599293470383, 0.13691997528076172, 0.09584398567676544, 0.023722684010863304, 0.13284704089164734, 0.5978116393089294, 0.028467221185564995, 0.21350416541099548, 0.02041546255350113, 0.04083092510700226, 0.02041546255350113, 0.13882514834403992, 0.012249277904629707, 0.5389682054519653, 0.016332371160387993, 0.06532948464155197, 0.13882514834403992, 0.04072809964418411, 0.6007394194602966, 0.3258247971534729, 0.010182024911046028, 0.1418037861585617, 0.8508227467536926, 0.015538631938397884, 0.002219804562628269, 0.17092494666576385, 0.6947988271713257, 0.09989120811223984, 0.002219804562628269, 0.015538631938397884, 0.002219804562628269, 0.12577642500400543, 0.09782610833644867, 0.33540380001068115, 0.42274853587150574, 0.017468947917222977, 0.9609020948410034, 0.9480175971984863, 0.20411187410354614, 0.032803695648908615, 0.05467282235622406, 0.02915883995592594, 0.007289709988981485, 0.33897149562835693, 0.007289709988981485, 0.0036448549944907427, 0.0036448549944907427, 0.05831767991185188, 0.24785013496875763, 0.007289709988981485, 0.8991692662239075, 0.8590041399002075, 0.8237427473068237, 0.9264810681343079, 0.05294177308678627, 0.6589683294296265, 0.002161969430744648, 0.002594363410025835, 0.020322512835264206, 0.006053514778614044, 0.036321088671684265, 0.031564753502607346, 0.026808422058820724, 0.036321088671684265, 0.12107029557228088, 0.03848305717110634, 0.0004323938919696957, 0.019025331363081932, 0.19928710162639618, 0.017222341150045395, 0.002460334450006485, 0.11563572287559509, 0.022143010050058365, 0.08857204020023346, 0.014762007631361485, 0.09349270910024643, 0.44778087735176086, 0.005373087245970964, 0.02082071267068386, 0.03828324377536774, 0.05104432627558708, 0.059775594621896744, 0.5467116236686707, 0.05843232199549675, 0.029551979154348373, 0.12962572276592255, 0.00940290279686451, 0.001343271811492741, 0.04365633428096771, 0.0006716359057463706, 0.005373087245970964, 0.9542052149772644, 0.19447219371795654, 0.7778887748718262, 0.904389500617981, 0.14007733762264252, 0.002090706489980221, 0.010453533381223679, 0.12962381541728973, 0.13171452283859253, 0.056449078023433685, 0.12335169315338135, 0.08571896702051163, 0.23206843435764313, 0.041814133524894714, 0.041814133524894714, 0.025159643962979317, 0.03773946687579155, 0.23272670805454254, 0.42771396040916443, 0.006289910990744829, 0.06918901950120926, 0.1824074238538742, 0.012579821981489658, 0.9215675592422485, 0.047259874641895294, 0.9890334606170654, 0.952418863773346, 0.04345099627971649, 0.004827888682484627, 0.019311554729938507, 0.04345099627971649, 0.04827888682484627, 0.09172988682985306, 0.03379521891474724, 0.2655338644981384, 0.038623109459877014, 0.3331243097782135, 0.0820741057395935, 0.469784140586853, 0.44569262862205505, 0.03613724187016487, 0.04216011241078377, 0.021857837215065956, 0.19672054052352905, 0.7650243043899536, 0.9252946972846985, 0.009971135295927525, 0.9443252086639404, 0.0017596121178939939, 0.0011730748228728771, 0.02287495881319046, 0.0035192242357879877, 0.01407689694315195, 0.0017596121178939939, 0.1280054748058319, 0.2740398943424225, 0.032452091574668884, 0.2415878027677536, 0.0018028940539807081, 0.08113023638725281, 0.03966366872191429, 0.0036057881079614162, 0.12980836629867554, 0.012620258145034313, 0.030649200081825256, 0.025240516290068626, 0.11958557367324829, 0.19930928945541382, 0.059792786836624146, 0.6178588271141052, 0.05260273441672325, 0.86794513463974, 0.05260273441672325, 0.07967602461576462, 0.2333369255065918, 0.6544816493988037, 0.03414686769247055, 0.994123101234436, 0.0030969565268605947, 0.9656230807304382, 0.012618963606655598, 0.820232629776001, 0.03785689175128937, 0.12618963420391083], \"Term\": [\"aa\", \"aa\", \"aa\", \"aa\", \"aaa\", \"aaa\", \"aaa\", \"abc\", \"abilities\", \"absolutely\", \"absolutely\", \"absolutely\", \"absolutely\", \"absolutely\", \"absolutely\", \"absolutely\", \"absolutely\", \"absolutely\", \"access\", \"access\", \"access\", \"access\", \"access\", \"access\", \"access\", \"access\", \"accessed\", \"accessing\", \"accidental\", \"account\", \"account\", \"account\", \"account\", \"acid\", \"acid\", \"activities\", \"activity\", \"ad\", \"adapter\", \"adapter\", \"add\", \"add\", \"add\", \"add\", \"add\", \"add\", \"add\", \"add\", \"add\", \"add\", \"add\", \"addition\", \"addition\", \"addition\", \"addition\", \"addition\", \"addition\", \"addition\", \"adjust\", \"adjust\", \"adjustable\", \"adjusted\", \"ads\", \"ads\", \"ads\", \"ads\", \"ads\", \"adult\", \"adult\", \"adult\", \"advertised\", \"advertised\", \"advertised\", \"advertised\", \"advertised\", \"advertisement\", \"age\", \"age\", \"age\", \"age\", \"age\", \"alexa\", \"alexa\", \"alexa\", \"alexa\", \"alexa\", \"alkaline\", \"alkaline\", \"allowed\", \"allowed\", \"allowed\", \"alphabet\", \"amazon\", \"amazon\", \"amazon\", \"amazon\", \"amazon\", \"amazon\", \"amazon\", \"amazon\", \"amazon\", \"amazon\", \"amazon\", \"amazon\", \"amazon\", \"amazon\", \"amazon\", \"amazonbasics\", \"amazonbasics\", \"amazonbasics\", \"amazonbasics\", \"amazonbasics\", \"amd\", \"android\", \"android\", \"android\", \"android\", \"android\", \"androids\", \"annoying\", \"annoying\", \"annoying\", \"annoying\", \"annoying\", \"annoying\", \"answers\", \"anybody\", \"app\", \"app\", \"app\", \"app\", \"app\", \"app\", \"app\", \"app\", \"apple\", \"apple\", \"apple\", \"apple\", \"apple\", \"apple\", \"apple\", \"appointments\", \"appropriate\", \"appropriate\", \"approved\", \"apps\", \"apps\", \"apps\", \"apps\", \"apps\", \"apps\", \"apps\", \"apps\", \"apps\", \"apps\", \"arrived\", \"arrived\", \"arrived\", \"arrived\", \"asleep\", \"aspect\", \"aspects\", \"aspects\", \"assistance\", \"assistant\", \"associate\", \"associate\", \"associates\", \"assured\", \"attractive\", \"august\", \"autism\", \"autistic\", \"autistic\", \"auto\", \"auto\", \"auto\", \"available\", \"available\", \"available\", \"available\", \"available\", \"available\", \"available\", \"available\", \"available\", \"available\", \"available\", \"available\", \"average\", \"average\", \"avid\", \"avid\", \"awesome\", \"awesome\", \"awesome\", \"awesome\", \"awesome\", \"awesome\", \"awesome\", \"awesome\", \"awesome\", \"awesome\", \"awesome\", \"awesome\", \"awesome\", \"awesome\", \"awsome\", \"babies\", \"babysitter\", \"backlit\", \"bad\", \"bad\", \"bad\", \"bad\", \"bad\", \"bad\", \"bad\", \"balance\", \"bang\", \"bang\", \"bang\", \"basic\", \"basic\", \"basic\", \"basic\", \"basic\", \"basic\", \"basic\", \"basic\", \"basic\", \"basic\", \"basic\", \"basics\", \"basics\", \"basics\", \"basics\", \"basics\", \"basics\", \"batteries\", \"batteries\", \"batteries\", \"batteries\", \"batteries\", \"batteries\", \"batteries\", \"battery\", \"battery\", \"battery\", \"battery\", \"battery\", \"battery\", \"battery\", \"battery\", \"battery\", \"battery\", \"battery\", \"battery\", \"battery\", \"battery\", \"beat\", \"beat\", \"beat\", \"beat\", \"beat\", \"beats\", \"beats\", \"beats\", \"bedroom\", \"bedtime\", \"bedtime\", \"beginning\", \"best\", \"best\", \"best\", \"best\", \"best\", \"best\", \"best\", \"best\", \"best\", \"best\", \"best\", \"best\", \"best\", \"best\", \"best\", \"better\", \"better\", \"better\", \"better\", \"better\", \"better\", \"better\", \"better\", \"better\", \"better\", \"better\", \"better\", \"better\", \"better\", \"bezel\", \"big\", \"big\", \"big\", \"big\", \"big\", \"big\", \"big\", \"big\", \"big\", \"big\", \"big\", \"big\", \"big\", \"big\", \"big\", \"birthday\", \"birthday\", \"birthday\", \"birthday\", \"black\", \"black\", \"black\", \"black\", \"black\", \"block\", \"block\", \"bluetooth\", \"bluetooth\", \"bluetooth\", \"bluetooth\", \"book\", \"book\", \"book\", \"book\", \"book\", \"books\", \"books\", \"books\", \"books\", \"books\", \"books\", \"books\", \"books\", \"boot\", \"bored\", \"borrowed\", \"bought\", \"bought\", \"bought\", \"bought\", \"bought\", \"bought\", \"bought\", \"bought\", \"bought\", \"bought\", \"bought\", \"bought\", \"bought\", \"bought\", \"bought\", \"box\", \"box\", \"box\", \"box\", \"box\", \"box\", \"boyfriend\", \"brand\", \"brand\", \"brand\", \"brand\", \"brand\", \"brand\", \"brands\", \"brands\", \"brands\", \"brings\", \"brought\", \"brought\", \"brought\", \"browse\", \"browse\", \"browse\", \"browse\", \"browse\", \"browsing\", \"browsing\", \"browsing\", \"browsing\", \"bugs\", \"bulk\", \"bulk\", \"bulk\", \"bumper\", \"bumper\", \"bumper\", \"bundle\", \"burned\", \"busy\", \"busy\", \"button\", \"button\", \"button\", \"buttons\", \"buttons\", \"buttons\", \"buttons\", \"buy\", \"buy\", \"buy\", \"buy\", \"buy\", \"buy\", \"buy\", \"buy\", \"buy\", \"buy\", \"buy\", \"buy\", \"buy\", \"buy\", \"buy\", \"buying\", \"buying\", \"buying\", \"buying\", \"buying\", \"buying\", \"buying\", \"buying\", \"buying\", \"buying\", \"buying\", \"buying\", \"buying\", \"buying\", \"calculator\", \"camera\", \"camera\", \"camera\", \"camera\", \"camera\", \"camera\", \"camera\", \"camera\", \"camera\", \"camera\", \"camera\", \"cancel\", \"candles\", \"candles\", \"capacity\", \"capacity\", \"capacity\", \"card\", \"card\", \"card\", \"card\", \"cardboard\", \"carry\", \"carry\", \"carry\", \"carry\", \"carry\", \"carry\", \"carry\", \"carrying\", \"carrying\", \"carrying\", \"cars\", \"cartoon\", \"cartoons\", \"case\", \"case\", \"case\", \"case\", \"case\", \"case\", \"case\", \"case\", \"case\", \"case\", \"case\", \"case\", \"case\", \"case\", \"cash\", \"cash\", \"cast\", \"catching\", \"catching\", \"cents\", \"challenge\", \"challenge\", \"change\", \"change\", \"change\", \"change\", \"change\", \"change\", \"change\", \"change\", \"charge\", \"charge\", \"charge\", \"charge\", \"charge\", \"charge\", \"charge\", \"charge\", \"charge\", \"charge\", \"charge\", \"charged\", \"charged\", \"charged\", \"charged\", \"charged\", \"charged\", \"charged\", \"charged\", \"charger\", \"charger\", \"charger\", \"charger\", \"charger\", \"charger\", \"charges\", \"charges\", \"charges\", \"charges\", \"charges\", \"charges\", \"charging\", \"charging\", \"charging\", \"charging\", \"charging\", \"charging\", \"charging\", \"charging\", \"cheap\", \"cheap\", \"cheap\", \"cheap\", \"cheap\", \"cheap\", \"cheap\", \"cheap\", \"cheap\", \"cheaper\", \"cheaper\", \"cheaper\", \"cheaper\", \"cheaper\", \"cheaper\", \"cheaper\", \"cheaper\", \"cheaper\", \"cheaper\", \"cheaper\", \"check\", \"check\", \"check\", \"check\", \"check\", \"check\", \"check\", \"check\", \"checked\", \"checked\", \"child\", \"child\", \"child\", \"child\", \"child\", \"child\", \"child\", \"child\", \"china\", \"choice\", \"choice\", \"choice\", \"choice\", \"choice\", \"choice\", \"choice\", \"christmas\", \"christmas\", \"christmas\", \"christmas\", \"christmas\", \"christmas\", \"christmas\", \"christmas\", \"christmas\", \"christmas\", \"chrome\", \"chrome\", \"church\", \"citizen\", \"claim\", \"clash\", \"class\", \"class\", \"clear\", \"clear\", \"clear\", \"clear\", \"clear\", \"clear\", \"clearer\", \"clearer\", \"clearly\", \"clocks\", \"clocks\", \"closet\", \"clubhouse\", \"coat\", \"code\", \"coffee\", \"cold\", \"color\", \"color\", \"color\", \"color\", \"color\", \"color\", \"color\", \"color\", \"color\", \"colors\", \"colors\", \"colors\", \"colors\", \"colors\", \"come\", \"come\", \"come\", \"come\", \"come\", \"come\", \"come\", \"come\", \"come\", \"come\", \"come\", \"come\", \"comfortably\", \"companion\", \"compared\", \"compared\", \"compared\", \"compared\", \"compared\", \"compared\", \"compared\", \"compared\", \"compared\", \"compares\", \"complaining\", \"complaint\", \"complaint\", \"complaint\", \"complaint\", \"complaint\", \"complaint\", \"complaint\", \"complaint\", \"computers\", \"consistently\", \"contrast\", \"control\", \"control\", \"control\", \"control\", \"control\", \"control\", \"control\", \"controlled\", \"controller\", \"controller\", \"controllers\", \"controllers\", \"controls\", \"controls\", \"controls\", \"convenient\", \"convenient\", \"convenient\", \"convenient\", \"convert\", \"cool\", \"cool\", \"cool\", \"cool\", \"cool\", \"cool\", \"cool\", \"cool\", \"coppertops\", \"cord\", \"cord\", \"cord\", \"cord\", \"core\", \"correct\", \"cost\", \"cost\", \"cost\", \"cost\", \"cost\", \"cost\", \"cost\", \"cost\", \"cost\", \"couple\", \"couple\", \"couple\", \"couple\", \"couple\", \"couple\", \"couple\", \"cousin\", \"cover\", \"cover\", \"cover\", \"cover\", \"cover\", \"cracked\", \"cracked\", \"crashed\", \"crisp\", \"crisp\", \"crisper\", \"cumbersome\", \"curfew\", \"curious\", \"curve\", \"customer\", \"customer\", \"customer\", \"customer\", \"customer\", \"customer\", \"customize\", \"dad\", \"dad\", \"dad\", \"dad\", \"dads\", \"dark\", \"dark\", \"darn\", \"daughter\", \"daughter\", \"daughter\", \"daughter\", \"daughter\", \"dauther\", \"days\", \"days\", \"days\", \"days\", \"days\", \"days\", \"days\", \"days\", \"days\", \"dead\", \"dead\", \"dead\", \"dead\", \"dead\", \"deal\", \"deal\", \"deal\", \"deal\", \"deal\", \"deal\", \"deal\", \"deal\", \"decent\", \"decent\", \"decent\", \"decent\", \"decent\", \"decent\", \"decent\", \"decent\", \"decent\", \"decided\", \"decided\", \"decided\", \"decided\", \"decided\", \"decided\", \"decided\", \"decided\", \"decided\", \"deck\", \"definitely\", \"definitely\", \"definitely\", \"definitely\", \"definitely\", \"definitely\", \"definitely\", \"definitely\", \"definitely\", \"definitely\", \"definitely\", \"definitely\", \"definitely\", \"definitely\", \"delete\", \"delighted\", \"delighted\", \"delivered\", \"delivered\", \"delivered\", \"delivery\", \"delivery\", \"delivery\", \"delivery\", \"dependent\", \"described\", \"desired\", \"desired\", \"desktop\", \"destroy\", \"device\", \"device\", \"device\", \"device\", \"device\", \"device\", \"device\", \"device\", \"device\", \"device\", \"device\", \"devices\", \"devices\", \"devices\", \"devices\", \"devices\", \"devices\", \"devices\", \"devices\", \"devices\", \"devices\", \"dictionary\", \"die\", \"die\", \"die\", \"die\", \"die\", \"difference\", \"difference\", \"difference\", \"difference\", \"difference\", \"difference\", \"difference\", \"difference\", \"difference\", \"difference\", \"differences\", \"dimmer\", \"disable\", \"disappointed\", \"disappointed\", \"disappointed\", \"disappointed\", \"disappointed\", \"disappointed\", \"disappointed\", \"disappointed\", \"disappointed\", \"discover\", \"discover\", \"disposable\", \"distracted\", \"doesnt\", \"dont\", \"dont\", \"dont\", \"dont\", \"dot\", \"dots\", \"download\", \"download\", \"download\", \"download\", \"download\", \"download\", \"download\", \"download\", \"downloadable\", \"dpi\", \"drains\", \"drops\", \"drops\", \"drops\", \"drops\", \"ds\", \"durability\", \"durability\", \"durability\", \"durability\", \"durability\", \"durability\", \"durable\", \"durable\", \"durable\", \"durable\", \"durable\", \"durable\", \"durable\", \"duracell\", \"duracell\", \"duracell\", \"duracell\", \"ea\", \"early\", \"early\", \"early\", \"early\", \"easier\", \"easier\", \"easier\", \"easier\", \"easier\", \"easier\", \"easier\", \"easier\", \"east\", \"easy\", \"easy\", \"easy\", \"easy\", \"easy\", \"easy\", \"easy\", \"easy\", \"easy\", \"easy\", \"easy\", \"easy\", \"easy\", \"eats\", \"ebooks\", \"ebooks\", \"echo\", \"echo\", \"editing\", \"educational\", \"educational\", \"elementary\", \"elements\", \"em\", \"email\", \"email\", \"email\", \"email\", \"email\", \"enabled\", \"energizer\", \"energizer\", \"energizer\", \"enjoy\", \"enjoy\", \"enjoy\", \"enjoy\", \"enjoy\", \"enjoy\", \"enjoy\", \"enjoying\", \"enjoying\", \"enjoying\", \"enjoying\", \"enlarge\", \"ensure\", \"ensure\", \"enter\", \"entertain\", \"entertained\", \"entertainment\", \"entertainment\", \"entertainment\", \"entertainment\", \"entry\", \"entry\", \"entry\", \"equipped\", \"error\", \"evening\", \"everyday\", \"everyday\", \"everyday\", \"everyday\", \"everyday\", \"everyday\", \"everyday\", \"everytime\", \"exactly\", \"exactly\", \"exactly\", \"exactly\", \"exceeds\", \"excellent\", \"excellent\", \"excellent\", \"excellent\", \"excellent\", \"excellent\", \"excellent\", \"excellent\", \"excellent\", \"excellent\", \"excellent\", \"excellent\", \"excellent\", \"exclusively\", \"excuse\", \"exit\", \"expandable\", \"expandable\", \"expandable\", \"expanded\", \"expectancy\", \"expected\", \"expected\", \"expected\", \"expected\", \"expected\", \"expected\", \"expected\", \"expected\", \"expected\", \"expected\", \"expected\", \"expected\", \"expensive\", \"expensive\", \"expensive\", \"expensive\", \"expensive\", \"expensive\", \"expensive\", \"expensive\", \"expensive\", \"expensive\", \"expensive\", \"expensive\", \"expensive\", \"explain\", \"explain\", \"explained\", \"extremely\", \"extremely\", \"extremely\", \"extremely\", \"extremely\", \"extremely\", \"extremely\", \"extremely\", \"extremely\", \"extremely\", \"eyes\", \"eyes\", \"eyes\", \"eyes\", \"ez\", \"face\", \"face\", \"face\", \"fair\", \"fair\", \"falls\", \"falls\", \"falls\", \"family\", \"family\", \"family\", \"family\", \"family\", \"family\", \"far\", \"far\", \"far\", \"far\", \"far\", \"far\", \"far\", \"far\", \"far\", \"far\", \"far\", \"far\", \"far\", \"far\", \"far\", \"fast\", \"fast\", \"fast\", \"fast\", \"fast\", \"fast\", \"fast\", \"fast\", \"fast\", \"fast\", \"fast\", \"fast\", \"fast\", \"fast\", \"faster\", \"faster\", \"faster\", \"faster\", \"faster\", \"faster\", \"faster\", \"faster\", \"faster\", \"faster\", \"father\", \"father\", \"father\", \"father\", \"fault\", \"fault\", \"fault\", \"fb\", \"features\", \"features\", \"features\", \"features\", \"features\", \"features\", \"features\", \"features\", \"features\", \"feb\", \"february\", \"fee\", \"feedback\", \"feedback\", \"feel\", \"feel\", \"feel\", \"feel\", \"feel\", \"feel\", \"feel\", \"feel\", \"feel\", \"feel\", \"feel\", \"feel\", \"fianc\", \"fifty\", \"fight\", \"files\", \"files\", \"fine\", \"fine\", \"fine\", \"fine\", \"fine\", \"fine\", \"fine\", \"fine\", \"fine\", \"fine\", \"fine\", \"fine\", \"fine\", \"fingers\", \"fingertips\", \"finish\", \"fir\", \"fits\", \"fits\", \"fits\", \"fits\", \"fits\", \"fits\", \"fits\", \"flameless\", \"flashlights\", \"flashlights\", \"flawless\", \"flawlessly\", \"flawlessly\", \"flawlessly\", \"flawlessly\", \"flight\", \"flight\", \"flight\", \"flimsy\", \"flip\", \"florida\", \"folks\", \"follow\", \"follow\", \"free\", \"free\", \"free\", \"free\", \"free\", \"free\", \"free\", \"free\", \"free\", \"free\", \"free\", \"free\", \"freedom\", \"freezes\", \"freezes\", \"freezes\", \"friday\", \"friday\", \"friday\", \"friend\", \"friend\", \"friend\", \"friend\", \"friend\", \"friendly\", \"friendly\", \"friendly\", \"friendly\", \"friendly\", \"friendly\", \"friends\", \"friends\", \"friends\", \"friends\", \"friends\", \"frustrating\", \"frustrating\", \"frustrating\", \"functionality\", \"functionality\", \"functionality\", \"functionality\", \"functions\", \"functions\", \"functions\", \"functions\", \"functions\", \"gadget\", \"gadget\", \"game\", \"game\", \"game\", \"game\", \"game\", \"game\", \"game\", \"game\", \"games\", \"games\", \"games\", \"games\", \"games\", \"games\", \"games\", \"games\", \"gave\", \"gave\", \"gave\", \"gave\", \"gave\", \"gave\", \"gave\", \"gb\", \"gb\", \"gb\", \"gb\", \"gb\", \"gen\", \"gen\", \"gen\", \"getting\", \"getting\", \"getting\", \"getting\", \"getting\", \"getting\", \"getting\", \"getting\", \"getting\", \"getting\", \"getting\", \"getting\", \"gift\", \"gift\", \"gifted\", \"gifts\", \"gifts\", \"gifts\", \"gifts\", \"girlfriend\", \"given\", \"given\", \"given\", \"given\", \"given\", \"given\", \"given\", \"given\", \"glass\", \"glued\", \"gmail\", \"god\", \"godson\", \"going\", \"going\", \"going\", \"going\", \"going\", \"going\", \"going\", \"going\", \"going\", \"going\", \"going\", \"going\", \"going\", \"going\", \"going\", \"gone\", \"gone\", \"good\", \"good\", \"good\", \"good\", \"good\", \"good\", \"good\", \"good\", \"good\", \"good\", \"good\", \"good\", \"good\", \"good\", \"good\", \"goodness\", \"google\", \"google\", \"google\", \"got\", \"got\", \"got\", \"got\", \"got\", \"got\", \"got\", \"got\", \"got\", \"got\", \"got\", \"got\", \"got\", \"got\", \"got\", \"gotta\", \"grand\", \"grand\", \"grand\", \"grandchild\", \"granddaughter\", \"granddaughter\", \"granddaughter\", \"granddaughter\", \"granddaughter\", \"granddaughters\", \"granddaughters\", \"grandfather\", \"grandkids\", \"grandkids\", \"grandkids\", \"grandkids\", \"grandkids\", \"grandson\", \"grandson\", \"grandson\", \"graphics\", \"graphics\", \"graphics\", \"graphics\", \"great\", \"great\", \"great\", \"great\", \"great\", \"great\", \"great\", \"great\", \"great\", \"great\", \"great\", \"great\", \"great\", \"great\", \"great\", \"grows\", \"grows\", \"guns\", \"gym\", \"ha\", \"handed\", \"handed\", \"handed\", \"hang\", \"happier\", \"happier\", \"happy\", \"happy\", \"happy\", \"happy\", \"happy\", \"happy\", \"happy\", \"happy\", \"happy\", \"happy\", \"happy\", \"happy\", \"happy\", \"happy\", \"happy\", \"hard\", \"hard\", \"hard\", \"hard\", \"hard\", \"hard\", \"hard\", \"hard\", \"hard\", \"hard\", \"hard\", \"hard\", \"haven\", \"haven\", \"haven\", \"haven\", \"haven\", \"haven\", \"haven\", \"haven\", \"haven\", \"having\", \"having\", \"having\", \"having\", \"having\", \"having\", \"having\", \"having\", \"having\", \"having\", \"having\", \"having\", \"having\", \"having\", \"hd\", \"hd\", \"hd\", \"hd\", \"hd\", \"hd\", \"hd\", \"hd\", \"hd\", \"hd\", \"hd\", \"hdx\", \"hdx\", \"headphone\", \"helped\", \"helped\", \"hes\", \"hesitate\", \"higher\", \"higher\", \"higher\", \"higher\", \"higher\", \"highest\", \"highly\", \"highly\", \"highly\", \"highly\", \"highly\", \"highly\", \"highly\", \"highly\", \"highly\", \"highly\", \"holds\", \"holds\", \"holds\", \"holds\", \"holds\", \"holds\", \"holds\", \"holds\", \"holiday\", \"holiday\", \"home\", \"home\", \"home\", \"home\", \"home\", \"home\", \"home\", \"home\", \"home\", \"hotspot\", \"hour\", \"hour\", \"hour\", \"hour\", \"hour\", \"hour\", \"hours\", \"hours\", \"hours\", \"hours\", \"hours\", \"hours\", \"hours\", \"hours\", \"hours\", \"hours\", \"house\", \"house\", \"house\", \"house\", \"house\", \"house\", \"house\", \"house\", \"house\", \"hubby\", \"husband\", \"husband\", \"husband\", \"husband\", \"husbands\", \"ikea\", \"im\", \"image\", \"image\", \"immensely\", \"impossible\", \"impossible\", \"improvement\", \"improvement\", \"inch\", \"inch\", \"inch\", \"inch\", \"indestructible\", \"individually\", \"input\", \"instagram\", \"installed\", \"installed\", \"installed\", \"installed\", \"installed\", \"installed\", \"installed\", \"installed\", \"integration\", \"interesting\", \"intermediate\", \"internet\", \"internet\", \"internet\", \"internet\", \"internet\", \"internet\", \"internet\", \"introduced\", \"investment\", \"investment\", \"investment\", \"ipad\", \"ipad\", \"ipad\", \"ipad\", \"ipad\", \"ipad\", \"ipad\", \"ipad\", \"ipad\", \"ipad\", \"iphones\", \"issue\", \"issue\", \"issue\", \"issue\", \"issue\", \"issue\", \"issue\", \"issue\", \"issues\", \"issues\", \"issues\", \"issues\", \"issues\", \"issues\", \"issues\", \"issues\", \"issues\", \"issues\", \"issues\", \"issues\", \"item\", \"item\", \"item\", \"item\", \"item\", \"item\", \"item\", \"item\", \"item\", \"item\", \"item\", \"item\", \"items\", \"items\", \"items\", \"items\", \"items\", \"items\", \"jack\", \"jealous\", \"job\", \"job\", \"job\", \"job\", \"job\", \"job\", \"job\", \"job\", \"job\", \"job\", \"job\", \"junk\", \"junk\", \"justify\", \"keeps\", \"keeps\", \"keeps\", \"keeps\", \"keeps\", \"key\", \"keyboard\", \"keyboard\", \"keyboard\", \"keyboard\", \"keyboard\", \"kid\", \"kid\", \"kid\", \"kid\", \"kid\", \"kid\", \"kids\", \"kids\", \"kids\", \"kids\", \"kids\", \"kids\", \"kids\", \"kids\", \"kids\", \"kids\", \"kids\", \"killer\", \"kinda\", \"kinda\", \"kinda\", \"kindle\", \"kindle\", \"kindle\", \"kindle\", \"kindle\", \"kindle\", \"kindle\", \"kindle\", \"kindle\", \"kindle\", \"kindle\", \"kindle\", \"kindle\", \"kindles\", \"kindles\", \"kindles\", \"kindles\", \"kindles\", \"kindles\", \"kindles\", \"kindles\", \"kindles\", \"kindles\", \"knock\", \"know\", \"know\", \"know\", \"know\", \"know\", \"know\", \"know\", \"know\", \"know\", \"know\", \"know\", \"know\", \"knowing\", \"knowing\", \"knowing\", \"knowing\", \"knowing\", \"lacking\", \"lasted\", \"lasted\", \"lasted\", \"lasted\", \"lasted\", \"lasted\", \"lasted\", \"lasting\", \"lasting\", \"lasting\", \"lasting\", \"lasting\", \"lastly\", \"lasts\", \"lasts\", \"lasts\", \"lasts\", \"law\", \"law\", \"layout\", \"leaked\", \"leap\", \"learning\", \"learning\", \"learning\", \"learning\", \"learning\", \"learning\", \"learning\", \"learning\", \"learns\", \"leather\", \"left\", \"left\", \"left\", \"left\", \"left\", \"left\", \"left\", \"left\", \"lets\", \"lets\", \"lets\", \"letting\", \"library\", \"library\", \"library\", \"library\", \"library\", \"library\", \"life\", \"life\", \"life\", \"life\", \"life\", \"life\", \"life\", \"life\", \"life\", \"life\", \"life\", \"light\", \"light\", \"light\", \"light\", \"light\", \"light\", \"light\", \"light\", \"light\", \"light\", \"lighted\", \"lighter\", \"lighter\", \"lightweight\", \"lightweight\", \"lightweight\", \"lightweight\", \"like\", \"like\", \"like\", \"like\", \"like\", \"like\", \"like\", \"like\", \"like\", \"like\", \"like\", \"like\", \"like\", \"like\", \"like\", \"liked\", \"liked\", \"liked\", \"liked\", \"liked\", \"liked\", \"liked\", \"liked\", \"liked\", \"likes\", \"likes\", \"likes\", \"likes\", \"likes\", \"likes\", \"lil\", \"limit\", \"limit\", \"limit\", \"limitation\", \"limiting\", \"limits\", \"limits\", \"links\", \"links\", \"listen\", \"listen\", \"lite\", \"little\", \"little\", \"little\", \"little\", \"little\", \"little\", \"little\", \"little\", \"little\", \"little\", \"little\", \"little\", \"little\", \"little\", \"little\", \"ll\", \"ll\", \"ll\", \"ll\", \"ll\", \"ll\", \"ll\", \"loading\", \"loading\", \"loading\", \"loads\", \"loads\", \"locate\", \"locate\", \"lol\", \"lol\", \"long\", \"long\", \"long\", \"long\", \"long\", \"long\", \"long\", \"long\", \"long\", \"long\", \"long\", \"long\", \"long\", \"longer\", \"longer\", \"longer\", \"longer\", \"longer\", \"longer\", \"longer\", \"longer\", \"longer\", \"longer\", \"look\", \"look\", \"look\", \"look\", \"look\", \"look\", \"look\", \"look\", \"look\", \"look\", \"look\", \"loose\", \"loose\", \"loose\", \"loose\", \"loose\", \"lot\", \"lot\", \"lot\", \"lot\", \"lot\", \"lot\", \"lot\", \"lot\", \"lot\", \"lot\", \"lot\", \"lot\", \"lot\", \"lot\", \"love\", \"love\", \"love\", \"love\", \"love\", \"love\", \"love\", \"love\", \"love\", \"love\", \"love\", \"love\", \"love\", \"love\", \"loved\", \"loved\", \"loved\", \"loved\", \"loved\", \"loves\", \"loves\", \"loves\", \"loves\", \"loving\", \"loving\", \"loving\", \"loving\", \"loving\", \"luckily\", \"lucky\", \"magazine\", \"magazine\", \"magazines\", \"magazines\", \"magazines\", \"magazines\", \"mah\", \"major\", \"major\", \"major\", \"major\", \"major\", \"major\", \"manga\", \"market\", \"market\", \"market\", \"market\", \"market\", \"market\", \"market\", \"market\", \"market\", \"market\", \"meaning\", \"meant\", \"meant\", \"mediocre\", \"member\", \"member\", \"member\", \"members\", \"members\", \"memory\", \"memory\", \"memory\", \"memory\", \"menu\", \"menu\", \"mickey\", \"micro\", \"micro\", \"minecraft\", \"mines\", \"minimum\", \"model\", \"model\", \"model\", \"model\", \"model\", \"model\", \"model\", \"models\", \"models\", \"modified\", \"mom\", \"mom\", \"mom\", \"mom\", \"mom\", \"money\", \"money\", \"money\", \"money\", \"money\", \"money\", \"money\", \"money\", \"monitoring\", \"months\", \"months\", \"months\", \"months\", \"months\", \"months\", \"months\", \"months\", \"months\", \"months\", \"months\", \"months\", \"morning\", \"mother\", \"mother\", \"mother\", \"motion\", \"movies\", \"movies\", \"movies\", \"movies\", \"movies\", \"music\", \"music\", \"music\", \"music\", \"music\", \"music\", \"music\", \"named\", \"national\", \"native\", \"natural\", \"navigates\", \"nd\", \"nd\", \"nd\", \"nd\", \"nd\", \"neatly\", \"need\", \"need\", \"need\", \"need\", \"need\", \"need\", \"need\", \"need\", \"need\", \"need\", \"need\", \"need\", \"need\", \"need\", \"need\", \"needs\", \"needs\", \"needs\", \"needs\", \"needs\", \"needs\", \"needs\", \"needs\", \"needs\", \"needs\", \"needs\", \"neice\", \"nephew\", \"nephew\", \"nephew\", \"nephew\", \"nephews\", \"nervous\", \"net\", \"netflix\", \"netflix\", \"netflix\", \"netflix\", \"netflix\", \"netflix\", \"netflix\", \"new\", \"new\", \"new\", \"new\", \"new\", \"new\", \"new\", \"new\", \"new\", \"new\", \"new\", \"new\", \"new\", \"newer\", \"newer\", \"news\", \"news\", \"news\", \"news\", \"nice\", \"nice\", \"nice\", \"nice\", \"nice\", \"nice\", \"nice\", \"nice\", \"nice\", \"nice\", \"nice\", \"nice\", \"nice\", \"nicely\", \"nicely\", \"nicely\", \"nicely\", \"niece\", \"niece\", \"niece\", \"niece\", \"niece\", \"north\", \"novels\", \"oasis\", \"occasionally\", \"occasionally\", \"occasions\", \"occupied\", \"ok\", \"ok\", \"ok\", \"ok\", \"ok\", \"ok\", \"ok\", \"okay\", \"okay\", \"okay\", \"okay\", \"okay\", \"okay\", \"ol\", \"old\", \"old\", \"old\", \"old\", \"old\", \"old\", \"old\", \"old\", \"old\", \"old\", \"older\", \"older\", \"older\", \"older\", \"older\", \"older\", \"older\", \"older\", \"oldest\", \"oldest\", \"olds\", \"operating\", \"operating\", \"operating\", \"original\", \"original\", \"original\", \"original\", \"original\", \"original\", \"original\", \"outdated\", \"outlet\", \"overnight\", \"overseas\", \"owned\", \"owned\", \"owned\", \"owned\", \"owner\", \"pack\", \"pack\", \"pack\", \"pack\", \"pack\", \"package\", \"package\", \"package\", \"package\", \"package\", \"package\", \"packaged\", \"packaged\", \"packaging\", \"packaging\", \"packaging\", \"packs\", \"packs\", \"page\", \"page\", \"page\", \"pair\", \"pair\", \"pair\", \"pair\", \"paper\", \"paper\", \"paperwhite\", \"paperwhite\", \"paperwhite\", \"paperwhite\", \"parent\", \"parent\", \"parent\", \"parent\", \"parental\", \"parental\", \"pay\", \"pay\", \"pay\", \"pay\", \"pay\", \"pay\", \"pay\", \"pay\", \"pay\", \"pay\", \"pen\", \"perfect\", \"perfect\", \"perfect\", \"perfect\", \"perfect\", \"perfect\", \"perfect\", \"perfect\", \"perfect\", \"perfect\", \"perfect\", \"perfect\", \"perfect\", \"performance\", \"performance\", \"performance\", \"performance\", \"performance\", \"performance\", \"performance\", \"performance\", \"performance\", \"performance\", \"performance\", \"performance\", \"performer\", \"permission\", \"phenomenal\", \"phone\", \"phone\", \"phone\", \"phone\", \"phone\", \"phone\", \"phone\", \"phone\", \"phone\", \"photos\", \"photos\", \"photos\", \"picked\", \"picked\", \"picked\", \"picked\", \"picked\", \"picture\", \"picture\", \"picture\", \"picture\", \"picture\", \"picture\", \"picture\", \"picture\", \"pink\", \"pink\", \"pink\", \"plastic\", \"plastic\", \"plastic\", \"plastic\", \"plastic\", \"plastic\", \"plastic\", \"play\", \"play\", \"play\", \"play\", \"play\", \"play\", \"play\", \"play\", \"play\", \"play\", \"plays\", \"plays\", \"plays\", \"plays\", \"plays\", \"playstore\", \"pleased\", \"pleased\", \"pleased\", \"pleased\", \"pleased\", \"pleased\", \"pleased\", \"pleased\", \"pleased\", \"plenty\", \"plenty\", \"plenty\", \"plenty\", \"plenty\", \"plenty\", \"plenty\", \"point\", \"point\", \"point\", \"point\", \"point\", \"point\", \"point\", \"point\", \"point\", \"point\", \"point\", \"poor\", \"poor\", \"poor\", \"port\", \"port\", \"port\", \"portability\", \"portability\", \"portable\", \"portable\", \"portable\", \"portable\", \"portable\", \"ports\", \"power\", \"power\", \"power\", \"power\", \"power\", \"power\", \"power\", \"power\", \"power\", \"power\", \"practice\", \"prefect\", \"prefers\", \"preinstalled\", \"premium\", \"preschoolers\", \"present\", \"present\", \"present\", \"present\", \"present\", \"present\", \"pretty\", \"pretty\", \"pretty\", \"pretty\", \"pretty\", \"pretty\", \"pretty\", \"pretty\", \"pretty\", \"pretty\", \"pretty\", \"pretty\", \"previous\", \"previous\", \"previous\", \"previous\", \"previous\", \"previous\", \"previously\", \"previously\", \"previously\", \"previously\", \"previously\", \"price\", \"price\", \"price\", \"price\", \"price\", \"price\", \"price\", \"price\", \"price\", \"price\", \"price\", \"price\", \"price\", \"price\", \"price\", \"priced\", \"priced\", \"priced\", \"priced\", \"priced\", \"prime\", \"prime\", \"prime\", \"prime\", \"prime\", \"prime\", \"prime\", \"prime\", \"prime\", \"prime\", \"print\", \"print\", \"prize\", \"prob\", \"problem\", \"problem\", \"problem\", \"problem\", \"problem\", \"problem\", \"problem\", \"problem\", \"problem\", \"problem\", \"problems\", \"problems\", \"problems\", \"problems\", \"problems\", \"problems\", \"problems\", \"problems\", \"problems\", \"procell\", \"processor\", \"processor\", \"processor\", \"processor\", \"processor\", \"produces\", \"product\", \"product\", \"product\", \"product\", \"product\", \"product\", \"product\", \"product\", \"product\", \"product\", \"product\", \"product\", \"product\", \"product\", \"promised\", \"promised\", \"protected\", \"protected\", \"protected\", \"protection\", \"protection\", \"protection\", \"protection\", \"protection\", \"protection\", \"provided\", \"provided\", \"provides\", \"provides\", \"pump\", \"purchase\", \"purchase\", \"purchase\", \"purchase\", \"purchase\", \"purchase\", \"purchase\", \"purchase\", \"purchase\", \"purchase\", \"purchase\", \"purchase\", \"purchase\", \"purchase\", \"purchase\", \"purchased\", \"purchased\", \"purchased\", \"purchased\", \"purchased\", \"purchased\", \"purchased\", \"purchased\", \"purchased\", \"purchased\", \"purchased\", \"purchased\", \"purchased\", \"purchased\", \"purchased\", \"purple\", \"purse\", \"purse\", \"quad\", \"quality\", \"quality\", \"quality\", \"quality\", \"quality\", \"quality\", \"quality\", \"quality\", \"quality\", \"quality\", \"quantity\", \"quantity\", \"quantity\", \"quickly\", \"quickly\", \"quickly\", \"quickly\", \"quickly\", \"quickly\", \"quickly\", \"quickly\", \"quickly\", \"quickly\", \"quickly\", \"quickly\", \"quickly\", \"random\", \"rayovac\", \"rayovac\", \"rayovac\", \"rayovacs\", \"rayovacs\", \"reach\", \"read\", \"read\", \"read\", \"read\", \"read\", \"read\", \"read\", \"read\", \"read\", \"read\", \"read\", \"read\", \"reader\", \"reader\", \"reader\", \"reader\", \"reader\", \"reader\", \"reader\", \"reading\", \"reading\", \"reading\", \"reading\", \"reading\", \"reading\", \"reading\", \"reading\", \"reading\", \"reading\", \"reading\", \"reads\", \"reads\", \"reads\", \"reccomend\", \"recipient\", \"recommend\", \"recommend\", \"recommend\", \"recommend\", \"recommend\", \"recommend\", \"recommend\", \"recommend\", \"recommend\", \"recommend\", \"recommend\", \"recommend\", \"recommend\", \"recommend\", \"recommended\", \"recommended\", \"recommended\", \"recommended\", \"recommended\", \"recommended\", \"recommended\", \"recommended\", \"red\", \"red\", \"red\", \"reduction\", \"reference\", \"refurbished\", \"refused\", \"registered\", \"registering\", \"relaxing\", \"remote\", \"remote\", \"remote\", \"remotes\", \"remotes\", \"repeat\", \"replaces\", \"report\", \"reputable\", \"reset\", \"reset\", \"resolution\", \"resolution\", \"resolution\", \"resolution\", \"resolution\", \"resolution\", \"responds\", \"responsive\", \"responsive\", \"responsive\", \"responsiveness\", \"restart\", \"restart\", \"restrictions\", \"results\", \"results\", \"results\", \"results\", \"reviews\", \"reviews\", \"reviews\", \"reviews\", \"reviews\", \"reviews\", \"reviews\", \"reviews\", \"reviews\", \"reviews\", \"reviews\", \"reviews\", \"reward\", \"ride\", \"road\", \"road\", \"road\", \"road\", \"road\", \"road\", \"road\", \"rooting\", \"rough\", \"rough\", \"ruined\", \"said\", \"said\", \"said\", \"said\", \"said\", \"said\", \"said\", \"said\", \"sale\", \"sale\", \"sale\", \"sale\", \"sale\", \"sale\", \"sale\", \"sale\", \"sale\", \"salesperson\", \"sam\", \"samsung\", \"samsung\", \"samsung\", \"samsung\", \"satisfactory\", \"saver\", \"saver\", \"saver\", \"savvy\", \"school\", \"school\", \"school\", \"school\", \"school\", \"scientific\", \"screen\", \"screen\", \"screen\", \"screen\", \"screen\", \"screen\", \"screen\", \"screen\", \"screen\", \"screen\", \"sd\", \"seamlessly\", \"section\", \"sensitive\", \"sensitivity\", \"sensor\", \"serves\", \"serves\", \"service\", \"service\", \"service\", \"service\", \"service\", \"service\", \"service\", \"services\", \"services\", \"services\", \"services\", \"set\", \"set\", \"set\", \"set\", \"set\", \"set\", \"set\", \"set\", \"set\", \"set\", \"set\", \"seven\", \"shapes\", \"shelf\", \"shelf\", \"shelf\", \"shipping\", \"shipping\", \"shipping\", \"shipping\", \"shoot\", \"shopping\", \"shopping\", \"shopping\", \"shopping\", \"shopping\", \"shopping\", \"short\", \"short\", \"short\", \"short\", \"short\", \"short\", \"short\", \"shrink\", \"shuts\", \"shuts\", \"silicon\", \"silver\", \"simpler\", \"sister\", \"sister\", \"sister\", \"sister\", \"sites\", \"sites\", \"size\", \"size\", \"size\", \"size\", \"size\", \"size\", \"size\", \"size\", \"size\", \"size\", \"size\", \"size\", \"sizes\", \"sizes\", \"sizes\", \"sleek\", \"sleep\", \"slip\", \"slot\", \"slot\", \"slot\", \"slot\", \"slow\", \"slow\", \"slow\", \"slow\", \"slow\", \"slow\", \"slow\", \"slow\", \"small\", \"small\", \"small\", \"small\", \"small\", \"small\", \"small\", \"small\", \"small\", \"small\", \"small\", \"small\", \"smaller\", \"smaller\", \"smaller\", \"smaller\", \"smaller\", \"smaller\", \"smaller\", \"smaller\", \"smaller\", \"smaller\", \"smile\", \"solid\", \"solid\", \"solid\", \"solid\", \"solid\", \"somewhat\", \"son\", \"son\", \"son\", \"son\", \"son\", \"son\", \"son\", \"son\", \"son\", \"son\", \"son\", \"songs\", \"soon\", \"soon\", \"soon\", \"soon\", \"soon\", \"sooo\", \"sound\", \"sound\", \"sound\", \"sound\", \"sound\", \"sound\", \"sounds\", \"sounds\", \"span\", \"speaker\", \"speaker\", \"speaker\", \"speed\", \"speed\", \"speed\", \"speed\", \"speed\", \"speed\", \"spend\", \"spend\", \"spend\", \"spend\", \"spend\", \"spend\", \"spend\", \"spoke\", \"square\", \"square\", \"stable\", \"standing\", \"start\", \"start\", \"start\", \"start\", \"start\", \"start\", \"start\", \"start\", \"start\", \"start\", \"start\", \"staying\", \"stays\", \"stays\", \"stepkids\", \"stop\", \"stop\", \"stop\", \"stop\", \"storage\", \"storage\", \"storage\", \"storage\", \"storage\", \"storage\", \"storage\", \"storage\", \"storage\", \"storage\", \"store\", \"store\", \"store\", \"store\", \"store\", \"store\", \"store\", \"store\", \"store\", \"store\", \"store\", \"store\", \"stores\", \"stores\", \"stores\", \"stream\", \"stream\", \"stream\", \"stream\", \"streaming\", \"streaming\", \"strong\", \"strong\", \"strong\", \"strong\", \"strong\", \"strong\", \"strong\", \"strong\", \"stronger\", \"structure\", \"style\", \"style\", \"style\", \"substantial\", \"sucks\", \"sudden\", \"suited\", \"summary\", \"sun\", \"sun\", \"superb\", \"supervise\", \"supports\", \"sure\", \"sure\", \"sure\", \"sure\", \"sure\", \"sure\", \"sure\", \"sure\", \"sure\", \"sure\", \"sure\", \"sure\", \"sure\", \"surfing\", \"surfing\", \"surfing\", \"surfing\", \"survived\", \"suspect\", \"swipe\", \"swipe\", \"swipe\", \"swipe\", \"swiping\", \"switching\", \"switching\", \"systems\", \"tablet\", \"tablet\", \"tablet\", \"tablet\", \"tablet\", \"tablet\", \"tablet\", \"tablet\", \"tablet\", \"tablet\", \"tablet\", \"tablet\", \"tablets\", \"tablets\", \"tablets\", \"tablets\", \"tablets\", \"tablets\", \"tablets\", \"tablets\", \"tablets\", \"tablets\", \"tad\", \"tad\", \"talk\", \"talk\", \"tank\", \"tap\", \"tap\", \"task\", \"tasks\", \"tasks\", \"teaching\", \"tear\", \"tech\", \"tech\", \"tech\", \"techie\", \"technical\", \"technical\", \"teen\", \"teenage\", \"teenage\", \"teens\", \"teens\", \"tends\", \"terrible\", \"terrible\", \"terrible\", \"terrible\", \"test\", \"test\", \"test\", \"test\", \"test\", \"tested\", \"tested\", \"tested\", \"tested\", \"tested\", \"textbooks\", \"th\", \"th\", \"th\", \"th\", \"th\", \"thank\", \"thank\", \"thank\", \"thank\", \"thank\", \"thank\", \"thanksgiving\", \"theres\", \"thing\", \"thing\", \"thing\", \"thing\", \"thing\", \"thing\", \"thing\", \"thing\", \"thing\", \"thing\", \"thing\", \"thing\", \"thing\", \"thing\", \"thing\", \"thinks\", \"tho\", \"thomas\", \"thoroughly\", \"thoroughly\", \"thought\", \"thought\", \"thought\", \"thought\", \"thought\", \"thought\", \"thought\", \"thought\", \"thought\", \"thought\", \"thought\", \"thoughts\", \"thousand\", \"thumbs\", \"time\", \"time\", \"time\", \"time\", \"time\", \"time\", \"time\", \"time\", \"time\", \"time\", \"time\", \"time\", \"time\", \"time\", \"time\", \"today\", \"today\", \"today\", \"told\", \"told\", \"toys\", \"toys\", \"toys\", \"traded\", \"traded\", \"trail\", \"trash\", \"travel\", \"travel\", \"travel\", \"travel\", \"travel\", \"travels\", \"travels\", \"tried\", \"tried\", \"tried\", \"tried\", \"tried\", \"tried\", \"tried\", \"tried\", \"trips\", \"trips\", \"trips\", \"trips\", \"trouble\", \"trouble\", \"trouble\", \"trouble\", \"trouble\", \"truck\", \"turn\", \"turn\", \"turn\", \"turn\", \"turn\", \"turn\", \"turn\", \"turn\", \"turn\", \"tutorials\", \"twins\", \"ty\", \"ultra\", \"ultra\", \"ultra\", \"underground\", \"underground\", \"understatement\", \"unexpected\", \"unfortunate\", \"unplugged\", \"unplugged\", \"unwanted\", \"upcoming\", \"upcoming\", \"update\", \"update\", \"update\", \"update\", \"update\", \"update\", \"update\", \"update\", \"upgradable\", \"upgrade\", \"upgrade\", \"upgrade\", \"upgrade\", \"upgrade\", \"upgraded\", \"upgraded\", \"upgraded\", \"upgraded\", \"upgrades\", \"upgrades\", \"upgrading\", \"upgrading\", \"upload\", \"usage\", \"usage\", \"usage\", \"usage\", \"use\", \"use\", \"use\", \"use\", \"use\", \"use\", \"use\", \"use\", \"use\", \"use\", \"use\", \"use\", \"use\", \"use\", \"use\", \"useful\", \"useful\", \"useful\", \"useful\", \"useful\", \"useful\", \"useful\", \"useless\", \"useless\", \"user\", \"user\", \"user\", \"user\", \"user\", \"user\", \"uses\", \"uses\", \"uses\", \"uses\", \"uses\", \"uses\", \"uses\", \"uses\", \"uses\", \"uses\", \"vac\", \"value\", \"value\", \"value\", \"value\", \"value\", \"value\", \"value\", \"value\", \"ve\", \"ve\", \"ve\", \"ve\", \"ve\", \"ve\", \"ve\", \"ve\", \"ve\", \"ve\", \"ve\", \"ve\", \"ve\", \"versatility\", \"versions\", \"versions\", \"versions\", \"vibrant\", \"videos\", \"videos\", \"videos\", \"videos\", \"videos\", \"viewing\", \"viewing\", \"viewing\", \"viewing\", \"virus\", \"vocabulary\", \"voice\", \"voice\", \"voice\", \"voyage\", \"voyage\", \"voyage\", \"want\", \"want\", \"want\", \"want\", \"want\", \"want\", \"want\", \"want\", \"want\", \"want\", \"want\", \"want\", \"want\", \"want\", \"warranty\", \"warranty\", \"warranty\", \"warranty\", \"warranty\", \"wasnt\", \"watch\", \"watch\", \"watch\", \"watch\", \"watch\", \"watch\", \"watch\", \"watch\", \"watch\", \"way\", \"way\", \"way\", \"way\", \"way\", \"way\", \"way\", \"way\", \"way\", \"way\", \"way\", \"way\", \"way\", \"way\", \"wear\", \"wear\", \"weather\", \"weather\", \"web\", \"web\", \"web\", \"web\", \"websites\", \"websites\", \"week\", \"week\", \"week\", \"week\", \"week\", \"week\", \"week\", \"week\", \"weight\", \"weight\", \"weight\", \"weight\", \"weight\", \"went\", \"went\", \"went\", \"went\", \"went\", \"went\", \"went\", \"went\", \"went\", \"white\", \"white\", \"white\", \"white\", \"wide\", \"wide\", \"wife\", \"wife\", \"wife\", \"wife\", \"wife\", \"wife\", \"wife\", \"wife\", \"wifi\", \"wifi\", \"wifi\", \"wifi\", \"wifi\", \"winner\", \"wizard\", \"won\", \"won\", \"won\", \"won\", \"won\", \"won\", \"won\", \"won\", \"won\", \"won\", \"won\", \"won\", \"wonder\", \"wonders\", \"woo\", \"words\", \"words\", \"work\", \"work\", \"work\", \"work\", \"work\", \"work\", \"work\", \"work\", \"work\", \"work\", \"work\", \"work\", \"work\", \"working\", \"working\", \"working\", \"working\", \"working\", \"working\", \"working\", \"working\", \"working\", \"works\", \"works\", \"works\", \"works\", \"works\", \"works\", \"works\", \"works\", \"works\", \"works\", \"works\", \"works\", \"works\", \"works\", \"worn\", \"worries\", \"worries\", \"worrying\", \"worth\", \"worth\", \"worth\", \"worth\", \"worth\", \"worth\", \"worth\", \"worth\", \"worth\", \"worth\", \"worth\", \"wouldn\", \"wouldn\", \"wouldn\", \"wouldn\", \"wouldn\", \"wouldn\", \"wouldn\", \"wouldn\", \"wrap\", \"wrap\", \"wrapped\", \"wrapping\", \"wrong\", \"wrong\", \"wrong\", \"wrong\", \"wrong\", \"wrong\", \"wrong\", \"wrong\", \"wrong\", \"wrong\", \"wrong\", \"xbox\", \"xbox\", \"xbox\", \"xbox\", \"xmas\", \"xmas\", \"xmas\", \"yeah\", \"year\", \"year\", \"year\", \"year\", \"year\", \"year\", \"year\", \"year\", \"years\", \"years\", \"years\", \"years\", \"years\", \"years\", \"years\", \"years\", \"years\", \"years\", \"years\", \"years\", \"yo\", \"yo\", \"yo\", \"yo\", \"youngest\", \"youngest\", \"youngest\", \"youtube\", \"youtube\", \"youtube\", \"youtube\", \"yr\", \"yr\", \"yrs\", \"\\u00e4\\u00f4t\", \"\\u00e4\\u00f4t\", \"\\u00e4\\u00f4t\", \"\\u00e4\\u00f4t\"]}, \"R\": 30, \"lambda.step\": 0.01, \"plot.opts\": {\"xlab\": \"PC1\", \"ylab\": \"PC2\"}, \"topic.order\": [9, 4, 15, 1, 2, 5, 14, 13, 6, 10, 11, 12, 8, 3, 7]};\n",
       "\n",
       "function LDAvis_load_lib(url, callback){\n",
       "  var s = document.createElement('script');\n",
       "  s.src = url;\n",
       "  s.async = true;\n",
       "  s.onreadystatechange = s.onload = callback;\n",
       "  s.onerror = function(){console.warn(\"failed to load library \" + url);};\n",
       "  document.getElementsByTagName(\"head\")[0].appendChild(s);\n",
       "}\n",
       "\n",
       "if(typeof(LDAvis) !== \"undefined\"){\n",
       "   // already loaded: just create the visualization\n",
       "   !function(LDAvis){\n",
       "       new LDAvis(\"#\" + \"ldavis_el2417548759712805433654211\", ldavis_el2417548759712805433654211_data);\n",
       "   }(LDAvis);\n",
       "}else if(typeof define === \"function\" && define.amd){\n",
       "   // require.js is available: use it to load d3/LDAvis\n",
       "   require.config({paths: {d3: \"https://cdnjs.cloudflare.com/ajax/libs/d3/3.5.5/d3.min\"}});\n",
       "   require([\"d3\"], function(d3){\n",
       "      window.d3 = d3;\n",
       "      LDAvis_load_lib(\"https://cdn.rawgit.com/bmabey/pyLDAvis/files/ldavis.v1.0.0.js\", function(){\n",
       "        new LDAvis(\"#\" + \"ldavis_el2417548759712805433654211\", ldavis_el2417548759712805433654211_data);\n",
       "      });\n",
       "    });\n",
       "}else{\n",
       "    // require.js not available: dynamically load d3 & LDAvis\n",
       "    LDAvis_load_lib(\"https://cdnjs.cloudflare.com/ajax/libs/d3/3.5.5/d3.min.js\", function(){\n",
       "         LDAvis_load_lib(\"https://cdn.rawgit.com/bmabey/pyLDAvis/files/ldavis.v1.0.0.js\", function(){\n",
       "                 new LDAvis(\"#\" + \"ldavis_el2417548759712805433654211\", ldavis_el2417548759712805433654211_data);\n",
       "            })\n",
       "         });\n",
       "}\n",
       "</script>"
      ],
      "text/plain": [
       "PreparedData(topic_coordinates=              x         y  topics  cluster       Freq\n",
       "topic                                                \n",
       "8      0.208840 -0.010257       1        1  14.266382\n",
       "3     -0.230189  0.010307       2        1  11.405455\n",
       "14    -0.132044  0.010709       3        1   9.508921\n",
       "0     -0.093629 -0.110326       4        1   7.138339\n",
       "1     -0.112515 -0.009990       5        1   6.545892\n",
       "4      0.004411  0.305092       6        1   6.425577\n",
       "13    -0.112097  0.028752       7        1   6.415495\n",
       "12     0.123251 -0.198134       8        1   5.913545\n",
       "5      0.267279 -0.014894       9        1   5.692238\n",
       "9      0.243309  0.204764      10        1   5.613237\n",
       "10    -0.158396  0.011963      11        1   5.517525\n",
       "11    -0.192540  0.036700      12        1   4.765006\n",
       "7      0.023545 -0.110849      13        1   4.365071\n",
       "2      0.020080 -0.067550      14        1   3.392213\n",
       "6      0.140695 -0.086288      15        1   3.035112, topic_info=     Category         Freq       Term        Total  loglift  logprob\n",
       "21    Default  8747.000000      great  8747.000000  30.0000  30.0000\n",
       "34    Default  5845.000000       good  5845.000000  29.0000  29.0000\n",
       "18    Default  7419.000000  batteries  7419.000000  28.0000  28.0000\n",
       "17    Default  4863.000000      price  4863.000000  27.0000  27.0000\n",
       "2433  Default  6704.000000     tablet  6704.000000  26.0000  26.0000\n",
       "2076  Default  3039.000000     kindle  3039.000000  25.0000  25.0000\n",
       "1857  Default  2144.000000      loves  2144.000000  24.0000  24.0000\n",
       "23    Default  2378.000000       long  2378.000000  23.0000  23.0000\n",
       "521   Default  2072.000000        old  2072.000000  22.0000  22.0000\n",
       "885   Default  1075.000000       gift  1075.000000  21.0000  21.0000\n",
       "192   Default  2482.000000       kids  2482.000000  20.0000  20.0000\n",
       "105   Default  1704.000000       year  1704.000000  19.0000  19.0000\n",
       "2087  Default  1485.000000      books  1485.000000  18.0000  18.0000\n",
       "2     Default  2221.000000    battery  2221.000000  17.0000  17.0000\n",
       "28    Default  3120.000000     bought  3120.000000  16.0000  16.0000\n",
       "165   Default  1975.000000    product  1975.000000  15.0000  15.0000\n",
       "755   Default  3012.000000       easy  3012.000000  14.0000  14.0000\n",
       "946   Default  1222.000000    reading  1222.000000  13.0000  13.0000\n",
       "1679  Default  1635.000000     screen  1635.000000  12.0000  12.0000\n",
       "786   Default  1239.000000       read  1239.000000  11.0000  11.0000\n",
       "31    Default   888.000000  christmas   888.000000  10.0000  10.0000\n",
       "59    Default  1128.000000       life  1128.000000   9.0000   9.0000\n",
       "74    Default   841.000000     brands   841.000000   8.0000   8.0000\n",
       "24    Default  3862.000000     amazon  3862.000000   7.0000   7.0000\n",
       "7     Default  1341.000000    quality  1341.000000   6.0000   6.0000\n",
       "652   Default  1676.000000      games  1676.000000   5.0000   5.0000\n",
       "1548  Default  1752.000000       apps  1752.000000   4.0000   4.0000\n",
       "96    Default  1488.000000      works  1488.000000   3.0000   3.0000\n",
       "20    Default  1230.000000      brand  1230.000000   2.0000   2.0000\n",
       "9     Default  2312.000000       work  2312.000000   1.0000   1.0000\n",
       "...       ...          ...        ...          ...      ...      ...\n",
       "432   Topic15   256.160889       deal   804.089417   2.3510  -3.5957\n",
       "196   Topic15    43.603508       okay    78.553879   2.9063  -5.3663\n",
       "178   Topic15    33.039528    knowing    56.575142   2.9571  -5.6438\n",
       "445   Topic15   111.737991    quickly   340.894470   2.3795  -4.4253\n",
       "19    Topic15   289.482635     better  1464.826782   1.8735  -3.4734\n",
       "259   Topic15    60.601570     update   153.371521   2.5664  -5.0371\n",
       "230   Topic15    83.112160     faster   271.728394   2.3103  -4.7213\n",
       "246   Topic15    52.127178   everyday   127.915512   2.5972  -5.1878\n",
       "77    Topic15    80.785942       hard   278.888489   2.2559  -4.7497\n",
       "1587  Topic15    82.059128      older   313.467468   2.1547  -4.7340\n",
       "438   Topic15    38.882767     nicely    78.042282   2.7982  -5.4809\n",
       "173   Topic15   184.729614       time  2056.158447   1.0852  -3.9226\n",
       "75    Topic15    61.825752       feel   220.618835   2.2228  -5.0171\n",
       "38    Topic15   124.157242        lot   953.376099   1.4565  -4.3199\n",
       "1115  Topic15    40.793732        die   102.763580   2.5710  -5.4329\n",
       "191   Topic15    77.526924     having   514.551025   1.6023  -4.7908\n",
       "76    Topic15    69.219650    getting   420.511230   1.6907  -4.9042\n",
       "34    Topic15   177.309906       good  5845.372070  -0.0006  -3.9636\n",
       "455   Topic15    41.103207     useful   105.391449   2.5533  -5.4254\n",
       "2     Topic15   111.099693    battery  2221.530762   0.4994  -4.4310\n",
       "448   Topic15    47.303539    smaller   170.355103   2.2136  -5.2849\n",
       "98    Topic15    54.260120       days   336.862213   1.6690  -5.1477\n",
       "106   Topic15    68.685928       need   934.322876   0.8846  -4.9119\n",
       "12    Topic15    84.060425       like  2505.892090   0.1001  -4.7099\n",
       "94    Topic15    91.941994        use  4495.464355  -0.3947  -4.6203\n",
       "222   Topic15    69.632019       best  1401.587158   0.4928  -4.8982\n",
       "59    Topic15    64.134598       life  1128.878662   0.6269  -4.9805\n",
       "29    Topic15    66.773384        buy  2244.767578  -0.0201  -4.9402\n",
       "101   Topic15    61.699345        got  1255.737671   0.4817  -5.0192\n",
       "158   Topic15    54.801613     pretty   553.273987   1.1828  -5.1377\n",
       "\n",
       "[1132 rows x 6 columns], token_table=      Topic      Freq        Term\n",
       "term                             \n",
       "56        1  0.968719          aa\n",
       "56        8  0.008227          aa\n",
       "56        9  0.016454          aa\n",
       "56       10  0.002057          aa\n",
       "57        1  0.893257         aaa\n",
       "57        8  0.002723         aaa\n",
       "57        9  0.100764         aaa\n",
       "3225      2  0.944858         abc\n",
       "1990     12  0.910106   abilities\n",
       "991       1  0.003631  absolutely\n",
       "991       2  0.246906  absolutely\n",
       "991       3  0.003631  absolutely\n",
       "991       4  0.079881  absolutely\n",
       "991       5  0.036310  absolutely\n",
       "991       6  0.018155  absolutely\n",
       "991       8  0.025417  absolutely\n",
       "991      11  0.573694  absolutely\n",
       "991      13  0.014524  absolutely\n",
       "1471      2  0.263429      access\n",
       "1471      3  0.204628      access\n",
       "1471      5  0.129362      access\n",
       "1471      7  0.376327      access\n",
       "1471      8  0.004704      access\n",
       "1471     12  0.009408      access\n",
       "1471     13  0.007056      access\n",
       "1471     14  0.002352      access\n",
       "3447     14  0.950486    accessed\n",
       "2524      6  0.950089   accessing\n",
       "3215      3  0.890825  accidental\n",
       "474       3  0.168144     account\n",
       "...     ...       ...         ...\n",
       "174       1  0.128005       years\n",
       "174       2  0.274040       years\n",
       "174       3  0.032452       years\n",
       "174       4  0.241588       years\n",
       "174       5  0.001803       years\n",
       "174       8  0.081130       years\n",
       "174       9  0.039664       years\n",
       "174      10  0.003606       years\n",
       "174      11  0.129808       years\n",
       "174      13  0.012620       years\n",
       "174      14  0.030649       years\n",
       "174      15  0.025241       years\n",
       "1806      2  0.119586          yo\n",
       "1806      4  0.199309          yo\n",
       "1806      7  0.059793          yo\n",
       "1806     14  0.617859          yo\n",
       "2534      3  0.052603    youngest\n",
       "2534      7  0.867945    youngest\n",
       "2534     10  0.052603    youngest\n",
       "2224      2  0.079676     youtube\n",
       "2224      3  0.233337     youtube\n",
       "2224      7  0.654482     youtube\n",
       "2224     14  0.034147     youtube\n",
       "1804      2  0.994123          yr\n",
       "1804     14  0.003097          yr\n",
       "1236      7  0.965623         yrs\n",
       "2985      3  0.012619         äôt\n",
       "2985      4  0.820233         äôt\n",
       "2985     11  0.037857         äôt\n",
       "2985     13  0.126190         äôt\n",
       "\n",
       "[3563 rows x 3 columns], R=30, lambda_step=0.01, plot_opts={'xlab': 'PC1', 'ylab': 'PC2'}, topic_order=[9, 4, 15, 1, 2, 5, 14, 13, 6, 10, 11, 12, 8, 3, 7])"
      ]
     },
     "execution_count": 37,
     "metadata": {},
     "output_type": "execute_result"
    }
   ],
   "source": [
    "# Generate the interactive LDA visualization\n",
    "# A good topic model has fairly large, non-overlapping bubbles\n",
    "# scattered throughout the plot, not in one quadrant\n",
    "\n",
    "# A model with too many topics will usually have smaller bubbles\n",
    "# that overlap heavily clustered together in one section\n",
    "\n",
    "pyLDAvis.gensim.prepare(lda, corpus, id2word)"
   ]
  },
  {
   "cell_type": "markdown",
   "metadata": {},
   "source": [
    "---\n",
    "---\n",
    "\n",
    "## Findings and Conclusions\n",
    "<a id=\"#p4\"></a>"
   ]
  },
  {
   "cell_type": "code",
   "execution_count": null,
   "metadata": {},
   "outputs": [],
   "source": []
  },
  {
   "cell_type": "code",
   "execution_count": null,
   "metadata": {},
   "outputs": [],
   "source": []
  },
  {
   "cell_type": "code",
   "execution_count": null,
   "metadata": {},
   "outputs": [],
   "source": []
  },
  {
   "cell_type": "markdown",
   "metadata": {},
   "source": [
    "---\n",
    "---\n",
    "\n",
    "## Stretch Goals\n",
    "<a id=\"#stretch\"></a>\n",
    "\n",
    "* Incorporate Named Entity Recognition in your analysis\n",
    "* Incorporate some custom pre-processing from our previous lessons (like spacy lemmatization)\n",
    "* Analyze a dataset of interest to you with topic modeling"
   ]
  },
  {
   "cell_type": "code",
   "execution_count": null,
   "metadata": {},
   "outputs": [],
   "source": []
  }
 ],
 "metadata": {
  "kernelspec": {
   "display_name": "Python 3",
   "language": "python",
   "name": "python3"
  },
  "language_info": {
   "codemirror_mode": {
    "name": "ipython",
    "version": 3
   },
   "file_extension": ".py",
   "mimetype": "text/x-python",
   "name": "python",
   "nbconvert_exporter": "python",
   "pygments_lexer": "ipython3",
   "version": "3.7.5"
  }
 },
 "nbformat": 4,
 "nbformat_minor": 4
}
