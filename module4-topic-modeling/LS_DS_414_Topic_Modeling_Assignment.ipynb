{
 "cells": [
  {
   "cell_type": "markdown",
   "metadata": {},
   "source": [
    "<img align=\"left\" src=\"https://lever-client-logos.s3.amazonaws.com/864372b1-534c-480e-acd5-9711f850815c-1524247202159.png\" width=200>\n",
    "<br></br>\n",
    "<br></br>\n",
    "\n",
    "# Topic Modeling\n",
    "## *Data Science Unit 4 Sprint 1 Assignment 4*\n",
    "\n",
    "Analyze a corpus of Amazon reviews from Unit 4 Sprint 1 Module 1's lecture using topic modeling: \n",
    "\n",
    "- Fit a Gensim LDA topic model on Amazon Reviews\n",
    "- Select appropriate number of topics\n",
    "- Create some dope visualization of the topics\n",
    "- Write a few bullets on your findings in markdown at the end\n",
    "- **Note**: You don't *have* to use generators for this assignment"
   ]
  },
  {
   "cell_type": "code",
   "execution_count": 9,
   "metadata": {},
   "outputs": [
    {
     "name": "stdout",
     "output_type": "stream",
     "text": [
      "(28332, 24)\n"
     ]
    },
    {
     "data": {
      "text/html": [
       "<div>\n",
       "<style scoped>\n",
       "    .dataframe tbody tr th:only-of-type {\n",
       "        vertical-align: middle;\n",
       "    }\n",
       "\n",
       "    .dataframe tbody tr th {\n",
       "        vertical-align: top;\n",
       "    }\n",
       "\n",
       "    .dataframe thead th {\n",
       "        text-align: right;\n",
       "    }\n",
       "</style>\n",
       "<table border=\"1\" class=\"dataframe\">\n",
       "  <thead>\n",
       "    <tr style=\"text-align: right;\">\n",
       "      <th></th>\n",
       "      <th>id</th>\n",
       "      <th>dateAdded</th>\n",
       "      <th>dateUpdated</th>\n",
       "      <th>name</th>\n",
       "      <th>asins</th>\n",
       "      <th>brand</th>\n",
       "      <th>categories</th>\n",
       "      <th>primaryCategories</th>\n",
       "      <th>imageURLs</th>\n",
       "      <th>keys</th>\n",
       "      <th>...</th>\n",
       "      <th>reviews.didPurchase</th>\n",
       "      <th>reviews.doRecommend</th>\n",
       "      <th>reviews.id</th>\n",
       "      <th>reviews.numHelpful</th>\n",
       "      <th>reviews.rating</th>\n",
       "      <th>reviews.sourceURLs</th>\n",
       "      <th>reviews.text</th>\n",
       "      <th>reviews.title</th>\n",
       "      <th>reviews.username</th>\n",
       "      <th>sourceURLs</th>\n",
       "    </tr>\n",
       "  </thead>\n",
       "  <tbody>\n",
       "    <tr>\n",
       "      <th>0</th>\n",
       "      <td>AVpgNzjwLJeJML43Kpxn</td>\n",
       "      <td>2015-10-30T08:59:32Z</td>\n",
       "      <td>2019-04-25T09:08:16Z</td>\n",
       "      <td>AmazonBasics AAA Performance Alkaline Batterie...</td>\n",
       "      <td>B00QWO9P0O,B00LH3DMUO</td>\n",
       "      <td>Amazonbasics</td>\n",
       "      <td>AA,AAA,Health,Electronics,Health &amp; Household,C...</td>\n",
       "      <td>Health &amp; Beauty</td>\n",
       "      <td>https://images-na.ssl-images-amazon.com/images...</td>\n",
       "      <td>amazonbasics/hl002619,amazonbasicsaaaperforman...</td>\n",
       "      <td>...</td>\n",
       "      <td>NaN</td>\n",
       "      <td>NaN</td>\n",
       "      <td>NaN</td>\n",
       "      <td>NaN</td>\n",
       "      <td>3</td>\n",
       "      <td>https://www.amazon.com/product-reviews/B00QWO9...</td>\n",
       "      <td>I order 3 of them and one of the item is bad q...</td>\n",
       "      <td>... 3 of them and one of the item is bad quali...</td>\n",
       "      <td>Byger yang</td>\n",
       "      <td>https://www.barcodable.com/upc/841710106442,ht...</td>\n",
       "    </tr>\n",
       "    <tr>\n",
       "      <th>1</th>\n",
       "      <td>AVpgNzjwLJeJML43Kpxn</td>\n",
       "      <td>2015-10-30T08:59:32Z</td>\n",
       "      <td>2019-04-25T09:08:16Z</td>\n",
       "      <td>AmazonBasics AAA Performance Alkaline Batterie...</td>\n",
       "      <td>B00QWO9P0O,B00LH3DMUO</td>\n",
       "      <td>Amazonbasics</td>\n",
       "      <td>AA,AAA,Health,Electronics,Health &amp; Household,C...</td>\n",
       "      <td>Health &amp; Beauty</td>\n",
       "      <td>https://images-na.ssl-images-amazon.com/images...</td>\n",
       "      <td>amazonbasics/hl002619,amazonbasicsaaaperforman...</td>\n",
       "      <td>...</td>\n",
       "      <td>NaN</td>\n",
       "      <td>NaN</td>\n",
       "      <td>NaN</td>\n",
       "      <td>NaN</td>\n",
       "      <td>4</td>\n",
       "      <td>https://www.amazon.com/product-reviews/B00QWO9...</td>\n",
       "      <td>Bulk is always the less expensive way to go fo...</td>\n",
       "      <td>... always the less expensive way to go for pr...</td>\n",
       "      <td>ByMG</td>\n",
       "      <td>https://www.barcodable.com/upc/841710106442,ht...</td>\n",
       "    </tr>\n",
       "    <tr>\n",
       "      <th>2</th>\n",
       "      <td>AVpgNzjwLJeJML43Kpxn</td>\n",
       "      <td>2015-10-30T08:59:32Z</td>\n",
       "      <td>2019-04-25T09:08:16Z</td>\n",
       "      <td>AmazonBasics AAA Performance Alkaline Batterie...</td>\n",
       "      <td>B00QWO9P0O,B00LH3DMUO</td>\n",
       "      <td>Amazonbasics</td>\n",
       "      <td>AA,AAA,Health,Electronics,Health &amp; Household,C...</td>\n",
       "      <td>Health &amp; Beauty</td>\n",
       "      <td>https://images-na.ssl-images-amazon.com/images...</td>\n",
       "      <td>amazonbasics/hl002619,amazonbasicsaaaperforman...</td>\n",
       "      <td>...</td>\n",
       "      <td>NaN</td>\n",
       "      <td>NaN</td>\n",
       "      <td>NaN</td>\n",
       "      <td>NaN</td>\n",
       "      <td>5</td>\n",
       "      <td>https://www.amazon.com/product-reviews/B00QWO9...</td>\n",
       "      <td>Well they are not Duracell but for the price i...</td>\n",
       "      <td>... are not Duracell but for the price i am ha...</td>\n",
       "      <td>BySharon Lambert</td>\n",
       "      <td>https://www.barcodable.com/upc/841710106442,ht...</td>\n",
       "    </tr>\n",
       "    <tr>\n",
       "      <th>3</th>\n",
       "      <td>AVpgNzjwLJeJML43Kpxn</td>\n",
       "      <td>2015-10-30T08:59:32Z</td>\n",
       "      <td>2019-04-25T09:08:16Z</td>\n",
       "      <td>AmazonBasics AAA Performance Alkaline Batterie...</td>\n",
       "      <td>B00QWO9P0O,B00LH3DMUO</td>\n",
       "      <td>Amazonbasics</td>\n",
       "      <td>AA,AAA,Health,Electronics,Health &amp; Household,C...</td>\n",
       "      <td>Health &amp; Beauty</td>\n",
       "      <td>https://images-na.ssl-images-amazon.com/images...</td>\n",
       "      <td>amazonbasics/hl002619,amazonbasicsaaaperforman...</td>\n",
       "      <td>...</td>\n",
       "      <td>NaN</td>\n",
       "      <td>NaN</td>\n",
       "      <td>NaN</td>\n",
       "      <td>NaN</td>\n",
       "      <td>5</td>\n",
       "      <td>https://www.amazon.com/product-reviews/B00QWO9...</td>\n",
       "      <td>Seem to work as well as name brand batteries a...</td>\n",
       "      <td>... as well as name brand batteries at a much ...</td>\n",
       "      <td>Bymark sexson</td>\n",
       "      <td>https://www.barcodable.com/upc/841710106442,ht...</td>\n",
       "    </tr>\n",
       "    <tr>\n",
       "      <th>4</th>\n",
       "      <td>AVpgNzjwLJeJML43Kpxn</td>\n",
       "      <td>2015-10-30T08:59:32Z</td>\n",
       "      <td>2019-04-25T09:08:16Z</td>\n",
       "      <td>AmazonBasics AAA Performance Alkaline Batterie...</td>\n",
       "      <td>B00QWO9P0O,B00LH3DMUO</td>\n",
       "      <td>Amazonbasics</td>\n",
       "      <td>AA,AAA,Health,Electronics,Health &amp; Household,C...</td>\n",
       "      <td>Health &amp; Beauty</td>\n",
       "      <td>https://images-na.ssl-images-amazon.com/images...</td>\n",
       "      <td>amazonbasics/hl002619,amazonbasicsaaaperforman...</td>\n",
       "      <td>...</td>\n",
       "      <td>NaN</td>\n",
       "      <td>NaN</td>\n",
       "      <td>NaN</td>\n",
       "      <td>NaN</td>\n",
       "      <td>5</td>\n",
       "      <td>https://www.amazon.com/product-reviews/B00QWO9...</td>\n",
       "      <td>These batteries are very long lasting the pric...</td>\n",
       "      <td>... batteries are very long lasting the price ...</td>\n",
       "      <td>Bylinda</td>\n",
       "      <td>https://www.barcodable.com/upc/841710106442,ht...</td>\n",
       "    </tr>\n",
       "  </tbody>\n",
       "</table>\n",
       "<p>5 rows × 24 columns</p>\n",
       "</div>"
      ],
      "text/plain": [
       "                     id             dateAdded           dateUpdated  \\\n",
       "0  AVpgNzjwLJeJML43Kpxn  2015-10-30T08:59:32Z  2019-04-25T09:08:16Z   \n",
       "1  AVpgNzjwLJeJML43Kpxn  2015-10-30T08:59:32Z  2019-04-25T09:08:16Z   \n",
       "2  AVpgNzjwLJeJML43Kpxn  2015-10-30T08:59:32Z  2019-04-25T09:08:16Z   \n",
       "3  AVpgNzjwLJeJML43Kpxn  2015-10-30T08:59:32Z  2019-04-25T09:08:16Z   \n",
       "4  AVpgNzjwLJeJML43Kpxn  2015-10-30T08:59:32Z  2019-04-25T09:08:16Z   \n",
       "\n",
       "                                                name                  asins  \\\n",
       "0  AmazonBasics AAA Performance Alkaline Batterie...  B00QWO9P0O,B00LH3DMUO   \n",
       "1  AmazonBasics AAA Performance Alkaline Batterie...  B00QWO9P0O,B00LH3DMUO   \n",
       "2  AmazonBasics AAA Performance Alkaline Batterie...  B00QWO9P0O,B00LH3DMUO   \n",
       "3  AmazonBasics AAA Performance Alkaline Batterie...  B00QWO9P0O,B00LH3DMUO   \n",
       "4  AmazonBasics AAA Performance Alkaline Batterie...  B00QWO9P0O,B00LH3DMUO   \n",
       "\n",
       "          brand                                         categories  \\\n",
       "0  Amazonbasics  AA,AAA,Health,Electronics,Health & Household,C...   \n",
       "1  Amazonbasics  AA,AAA,Health,Electronics,Health & Household,C...   \n",
       "2  Amazonbasics  AA,AAA,Health,Electronics,Health & Household,C...   \n",
       "3  Amazonbasics  AA,AAA,Health,Electronics,Health & Household,C...   \n",
       "4  Amazonbasics  AA,AAA,Health,Electronics,Health & Household,C...   \n",
       "\n",
       "  primaryCategories                                          imageURLs  \\\n",
       "0   Health & Beauty  https://images-na.ssl-images-amazon.com/images...   \n",
       "1   Health & Beauty  https://images-na.ssl-images-amazon.com/images...   \n",
       "2   Health & Beauty  https://images-na.ssl-images-amazon.com/images...   \n",
       "3   Health & Beauty  https://images-na.ssl-images-amazon.com/images...   \n",
       "4   Health & Beauty  https://images-na.ssl-images-amazon.com/images...   \n",
       "\n",
       "                                                keys  ... reviews.didPurchase  \\\n",
       "0  amazonbasics/hl002619,amazonbasicsaaaperforman...  ...                 NaN   \n",
       "1  amazonbasics/hl002619,amazonbasicsaaaperforman...  ...                 NaN   \n",
       "2  amazonbasics/hl002619,amazonbasicsaaaperforman...  ...                 NaN   \n",
       "3  amazonbasics/hl002619,amazonbasicsaaaperforman...  ...                 NaN   \n",
       "4  amazonbasics/hl002619,amazonbasicsaaaperforman...  ...                 NaN   \n",
       "\n",
       "  reviews.doRecommend reviews.id reviews.numHelpful reviews.rating  \\\n",
       "0                 NaN        NaN                NaN              3   \n",
       "1                 NaN        NaN                NaN              4   \n",
       "2                 NaN        NaN                NaN              5   \n",
       "3                 NaN        NaN                NaN              5   \n",
       "4                 NaN        NaN                NaN              5   \n",
       "\n",
       "                                  reviews.sourceURLs  \\\n",
       "0  https://www.amazon.com/product-reviews/B00QWO9...   \n",
       "1  https://www.amazon.com/product-reviews/B00QWO9...   \n",
       "2  https://www.amazon.com/product-reviews/B00QWO9...   \n",
       "3  https://www.amazon.com/product-reviews/B00QWO9...   \n",
       "4  https://www.amazon.com/product-reviews/B00QWO9...   \n",
       "\n",
       "                                        reviews.text  \\\n",
       "0  I order 3 of them and one of the item is bad q...   \n",
       "1  Bulk is always the less expensive way to go fo...   \n",
       "2  Well they are not Duracell but for the price i...   \n",
       "3  Seem to work as well as name brand batteries a...   \n",
       "4  These batteries are very long lasting the pric...   \n",
       "\n",
       "                                       reviews.title  reviews.username  \\\n",
       "0  ... 3 of them and one of the item is bad quali...        Byger yang   \n",
       "1  ... always the less expensive way to go for pr...              ByMG   \n",
       "2  ... are not Duracell but for the price i am ha...  BySharon Lambert   \n",
       "3  ... as well as name brand batteries at a much ...     Bymark sexson   \n",
       "4  ... batteries are very long lasting the price ...           Bylinda   \n",
       "\n",
       "                                          sourceURLs  \n",
       "0  https://www.barcodable.com/upc/841710106442,ht...  \n",
       "1  https://www.barcodable.com/upc/841710106442,ht...  \n",
       "2  https://www.barcodable.com/upc/841710106442,ht...  \n",
       "3  https://www.barcodable.com/upc/841710106442,ht...  \n",
       "4  https://www.barcodable.com/upc/841710106442,ht...  \n",
       "\n",
       "[5 rows x 24 columns]"
      ]
     },
     "execution_count": 9,
     "metadata": {},
     "output_type": "execute_result"
    }
   ],
   "source": [
    "import pandas as pd\n",
    "\n",
    "path = \"./data2/Datafiniti_Amazon_Consumer_Reviews_of_Amazon_Products_May19.csv\"\n",
    "df = pd.read_csv(path)\n",
    "print(df.shape)\n",
    "df.head()"
   ]
  },
  {
   "cell_type": "code",
   "execution_count": 10,
   "metadata": {},
   "outputs": [
    {
     "data": {
      "text/plain": [
       "'I order 3 of them and one of the item is bad quality. Is missing backup spring so I have to put a pcs of aluminum to make the battery work.'"
      ]
     },
     "execution_count": 10,
     "metadata": {},
     "output_type": "execute_result"
    }
   ],
   "source": [
    "df['reviews.text'][0]"
   ]
  },
  {
   "cell_type": "markdown",
   "metadata": {},
   "source": [
    "## Applying NLP\n",
    "\n",
    "- tokenize the text\n",
    "- spacy to tokenize"
   ]
  },
  {
   "cell_type": "code",
   "execution_count": 10,
   "metadata": {},
   "outputs": [],
   "source": [
    "import spacy\n",
    "\n",
    "nlp = spacy.load('en_core_web_lg')"
   ]
  },
  {
   "cell_type": "code",
   "execution_count": 11,
   "metadata": {},
   "outputs": [],
   "source": [
    "# function to get lemma\n",
    "def get_lemmas(text):\n",
    "\n",
    "    lemmas = []\n",
    "    \n",
    "    doc = nlp(text)\n",
    "    \n",
    "    STOP_WORDS = nlp.Defaults.stop_words.union(['amazon'])\n",
    "\n",
    "    for token in doc: \n",
    "        if ((token.text.lower() not in STOP_WORDS) and (token.is_punct == False)) and (token.pos_ != 'PRON'):\n",
    "            lemmas.append(token.lemma_)\n",
    "    \n",
    "    return lemmas"
   ]
  },
  {
   "cell_type": "code",
   "execution_count": 12,
   "metadata": {},
   "outputs": [],
   "source": [
    "df['lemmas'] = df['reviews.text'].apply(get_lemmas)"
   ]
  },
  {
   "cell_type": "code",
   "execution_count": 13,
   "metadata": {},
   "outputs": [
    {
     "data": {
      "text/plain": [
       "0        [order, 3, item, bad, quality, miss, backup, s...\n",
       "1                    [bulk, expensive, way, product, like]\n",
       "2                                 [Duracell, price, happy]\n",
       "3                      [work, brand, battery, well, price]\n",
       "4                      [battery, long, last, price, great]\n",
       "                               ...                        \n",
       "28327    [get, 2, 8, yr, old, twin, 11, yr, old, well, ...\n",
       "28328    [buy, niece, Christmas, gift.she, 9, year, old...\n",
       "28329    [nice, light, internet, browsing, keep, email,...\n",
       "28330    [Tablet, absolutely, want, watch, tv, show, mo...\n",
       "28331    [ninety, dollar, expectionation, low, good, ta...\n",
       "Name: lemmas, Length: 28332, dtype: object"
      ]
     },
     "execution_count": 13,
     "metadata": {},
     "output_type": "execute_result"
    }
   ],
   "source": [
    "df['lemmas']"
   ]
  },
  {
   "cell_type": "code",
   "execution_count": 14,
   "metadata": {},
   "outputs": [
    {
     "data": {
      "text/plain": [
       "['order',\n",
       " '3',\n",
       " 'item',\n",
       " 'bad',\n",
       " 'quality',\n",
       " 'miss',\n",
       " 'backup',\n",
       " 'spring',\n",
       " 'pc',\n",
       " 'aluminum',\n",
       " 'battery',\n",
       " 'work']"
      ]
     },
     "execution_count": 14,
     "metadata": {},
     "output_type": "execute_result"
    }
   ],
   "source": [
    "df['lemmas'][0]"
   ]
  },
  {
   "cell_type": "markdown",
   "metadata": {},
   "source": [
    "## Fit Gensim LDA Topic model on Amazon Reviews"
   ]
  },
  {
   "cell_type": "code",
   "execution_count": 15,
   "metadata": {},
   "outputs": [],
   "source": [
    "import gensim\n",
    "from gensim import corpora\n",
    "from gensim.models.ldamulticore import LdaMulticore"
   ]
  },
  {
   "cell_type": "code",
   "execution_count": 16,
   "metadata": {},
   "outputs": [],
   "source": [
    "id2word = corpora.Dictionary(df['lemmas'])"
   ]
  },
  {
   "cell_type": "code",
   "execution_count": 17,
   "metadata": {},
   "outputs": [
    {
     "name": "stdout",
     "output_type": "stream",
     "text": [
      "Dictionary(9703 unique tokens: ['3', 'aluminum', 'backup', 'bad', 'battery']...)\n"
     ]
    }
   ],
   "source": [
    "print(id2word)"
   ]
  },
  {
   "cell_type": "code",
   "execution_count": 18,
   "metadata": {},
   "outputs": [],
   "source": [
    "corpus = [id2word.doc2bow(doc) for doc in df['lemmas']]"
   ]
  },
  {
   "cell_type": "code",
   "execution_count": 19,
   "metadata": {},
   "outputs": [
    {
     "data": {
      "text/plain": [
       "28332"
      ]
     },
     "execution_count": 19,
     "metadata": {},
     "output_type": "execute_result"
    }
   ],
   "source": [
    "len(corpus)"
   ]
  },
  {
   "cell_type": "code",
   "execution_count": 20,
   "metadata": {},
   "outputs": [],
   "source": [
    "lda = LdaMulticore(corpus=corpus,\n",
    "                  id2word=id2word,\n",
    "                  num_topics=5,\n",
    "                  passes=10,\n",
    "                  workers=12,\n",
    "                  random_state=812)"
   ]
  },
  {
   "cell_type": "code",
   "execution_count": 21,
   "metadata": {},
   "outputs": [
    {
     "data": {
      "text/plain": [
       "[(0,\n",
       "  '0.040*\"good\" + 0.022*\"kindle\" + 0.022*\"great\" + 0.019*\"read\" + 0.018*\"work\" + 0.017*\"love\" + 0.014*\"book\" + 0.013*\"price\" + 0.012*\"fire\" + 0.011*\"screen\"'),\n",
       " (1,\n",
       "  '0.035*\"old\" + 0.034*\"love\" + 0.031*\"year\" + 0.022*\"buy\" + 0.020*\"tablet\" + 0.013*\"use\" + 0.012*\"purchase\" + 0.011*\"app\" + 0.011*\"like\" + 0.011*\"game\"'),\n",
       " (2,\n",
       "  '0.072*\"great\" + 0.041*\"tablet\" + 0.035*\"kid\" + 0.026*\"love\" + 0.025*\"use\" + 0.018*\"easy\" + 0.017*\"buy\" + 0.017*\"app\" + 0.017*\"gift\" + 0.015*\"price\"'),\n",
       " (3,\n",
       "  '0.042*\"tablet\" + 0.019*\"easy\" + 0.016*\"nice\" + 0.016*\"good\" + 0.016*\"use\" + 0.015*\"read\" + 0.014*\"light\" + 0.014*\"great\" + 0.013*\"book\" + 0.013*\"Kindle\"'),\n",
       " (4,\n",
       "  '0.056*\"battery\" + 0.031*\"tablet\" + 0.026*\"great\" + 0.024*\"good\" + 0.024*\"price\" + 0.022*\"buy\" + 0.019*\"love\" + 0.018*\"use\" + 0.016*\"long\" + 0.014*\"work\"')]"
      ]
     },
     "execution_count": 21,
     "metadata": {},
     "output_type": "execute_result"
    }
   ],
   "source": [
    "lda.print_topics()"
   ]
  },
  {
   "cell_type": "code",
   "execution_count": 22,
   "metadata": {},
   "outputs": [],
   "source": [
    "import re\n",
    "\n",
    "words = [re.findall(r'\"([^\"]*)\"', t[1]) for t in lda.print_topics()]"
   ]
  },
  {
   "cell_type": "code",
   "execution_count": 23,
   "metadata": {},
   "outputs": [
    {
     "data": {
      "text/plain": [
       "[['good',\n",
       "  'kindle',\n",
       "  'great',\n",
       "  'read',\n",
       "  'work',\n",
       "  'love',\n",
       "  'book',\n",
       "  'price',\n",
       "  'fire',\n",
       "  'screen'],\n",
       " ['old',\n",
       "  'love',\n",
       "  'year',\n",
       "  'buy',\n",
       "  'tablet',\n",
       "  'use',\n",
       "  'purchase',\n",
       "  'app',\n",
       "  'like',\n",
       "  'game'],\n",
       " ['great',\n",
       "  'tablet',\n",
       "  'kid',\n",
       "  'love',\n",
       "  'use',\n",
       "  'easy',\n",
       "  'buy',\n",
       "  'app',\n",
       "  'gift',\n",
       "  'price'],\n",
       " ['tablet',\n",
       "  'easy',\n",
       "  'nice',\n",
       "  'good',\n",
       "  'use',\n",
       "  'read',\n",
       "  'light',\n",
       "  'great',\n",
       "  'book',\n",
       "  'Kindle'],\n",
       " ['battery',\n",
       "  'tablet',\n",
       "  'great',\n",
       "  'good',\n",
       "  'price',\n",
       "  'buy',\n",
       "  'love',\n",
       "  'use',\n",
       "  'long',\n",
       "  'work']]"
      ]
     },
     "execution_count": 23,
     "metadata": {},
     "output_type": "execute_result"
    }
   ],
   "source": [
    "words"
   ]
  },
  {
   "cell_type": "code",
   "execution_count": 24,
   "metadata": {},
   "outputs": [],
   "source": [
    "topics = [' '.join(t[0:5]) for t in words]"
   ]
  },
  {
   "cell_type": "code",
   "execution_count": 25,
   "metadata": {},
   "outputs": [
    {
     "data": {
      "text/plain": [
       "['good kindle great read work',\n",
       " 'old love year buy tablet',\n",
       " 'great tablet kid love use',\n",
       " 'tablet easy nice good use',\n",
       " 'battery tablet great good price']"
      ]
     },
     "execution_count": 25,
     "metadata": {},
     "output_type": "execute_result"
    }
   ],
   "source": [
    "topics"
   ]
  },
  {
   "cell_type": "code",
   "execution_count": 26,
   "metadata": {},
   "outputs": [
    {
     "name": "stdout",
     "output_type": "stream",
     "text": [
      "-----Topic 0 ------\n",
      "good kindle great read work\n",
      "\n",
      "-----Topic 1 ------\n",
      "old love year buy tablet\n",
      "\n",
      "-----Topic 2 ------\n",
      "great tablet kid love use\n",
      "\n",
      "-----Topic 3 ------\n",
      "tablet easy nice good use\n",
      "\n",
      "-----Topic 4 ------\n",
      "battery tablet great good price\n",
      "\n"
     ]
    }
   ],
   "source": [
    "for id, t in enumerate(topics):\n",
    "    print(f'-----Topic {id} ------')\n",
    "    print(t, end=\"\\n\\n\")"
   ]
  },
  {
   "cell_type": "code",
   "execution_count": 27,
   "metadata": {},
   "outputs": [
    {
     "data": {
      "text/plain": [
       "Index(['id', 'dateAdded', 'dateUpdated', 'name', 'asins', 'brand',\n",
       "       'categories', 'primaryCategories', 'imageURLs', 'keys', 'manufacturer',\n",
       "       'manufacturerNumber', 'reviews.date', 'reviews.dateSeen',\n",
       "       'reviews.didPurchase', 'reviews.doRecommend', 'reviews.id',\n",
       "       'reviews.numHelpful', 'reviews.rating', 'reviews.sourceURLs',\n",
       "       'reviews.text', 'reviews.title', 'reviews.username', 'sourceURLs',\n",
       "       'lemmas'],\n",
       "      dtype='object')"
      ]
     },
     "execution_count": 27,
     "metadata": {},
     "output_type": "execute_result"
    }
   ],
   "source": [
    "df.columns"
   ]
  },
  {
   "cell_type": "code",
   "execution_count": 28,
   "metadata": {},
   "outputs": [
    {
     "data": {
      "text/plain": [
       "0        3\n",
       "1        4\n",
       "2        5\n",
       "3        5\n",
       "4        5\n",
       "        ..\n",
       "28327    5\n",
       "28328    4\n",
       "28329    5\n",
       "28330    5\n",
       "28331    4\n",
       "Name: reviews.rating, Length: 28332, dtype: int64"
      ]
     },
     "execution_count": 28,
     "metadata": {},
     "output_type": "execute_result"
    }
   ],
   "source": [
    "df['reviews.rating']"
   ]
  },
  {
   "cell_type": "code",
   "execution_count": 29,
   "metadata": {},
   "outputs": [],
   "source": [
    "import pyLDAvis.gensim"
   ]
  },
  {
   "cell_type": "code",
   "execution_count": 30,
   "metadata": {},
   "outputs": [],
   "source": [
    "pyLDAvis.enable_notebook()"
   ]
  },
  {
   "cell_type": "code",
   "execution_count": 32,
   "metadata": {},
   "outputs": [
    {
     "data": {
      "text/html": [
       "\n",
       "<link rel=\"stylesheet\" type=\"text/css\" href=\"https://cdn.rawgit.com/bmabey/pyLDAvis/files/ldavis.v1.0.0.css\">\n",
       "\n",
       "\n",
       "<div id=\"ldavis_el2114027324755465042108417397\"></div>\n",
       "<script type=\"text/javascript\">\n",
       "\n",
       "var ldavis_el2114027324755465042108417397_data = {\"mdsDat\": {\"x\": [-0.04840319727936955, -0.03653429922299762, -0.10427408074493208, 0.10749072662267803, 0.08172085062462117], \"y\": [0.09596640555488867, 0.006673084979978115, -0.065266975313698, 0.04413436928324742, -0.08150688450441614], \"topics\": [1, 2, 3, 4, 5], \"cluster\": [1, 1, 1, 1, 1], \"Freq\": [31.09844398498535, 20.276561737060547, 17.388748168945312, 15.831955909729004, 15.404290199279785]}, \"tinfo\": {\"Term\": [\"battery\", \"great\", \"old\", \"year\", \"kid\", \"kindle\", \"good\", \"read\", \"tablet\", \"gift\", \"nice\", \"light\", \"Kindle\", \"brand\", \"book\", \"long\", \"2\", \"screen\", \"app\", \"easy\", \"size\", \"work\", \"fire\", \"love\", \"reader\", \"perfect\", \"well\", \"price\", \"granddaughter\", \"Fire\", \"delivery\", \"kiddo\", \"Nvidia\", \"duracell\", \"enjoyment\", \"Nabi\", \"Shield\", \"def\", \"solitaire\", \"novice\", \"packaging\", \"hooked\", \"Granddaughter\", \"Costco\", \"detector\", \"87\", \"energizer\", \"Kirkland\", \"span\", \"purple\", \"everytime\", \"69\", \"boyfriend\", \"Basic\", \"aim\", \"leak\", \"Grandaughter\", \"addicted\", \"curfew\", \"firestick\", \"Duracell\", \"lasting\", \"Energizer\", \"batch\", \"maneuver\", \"brand\", \"battery\", \"remote\", \"Basics\", \"AA\", \"AmazonBasics\", \"last\", \"long\", \"controller\", \"alkaline\", \"AAA\", \"pack\", \"cardboard\", \"bulk\", \"48\", \"flashlight\", \"shipping\", \"toy\", \"mouse\", \"quality\", \"niece\", \"user\", \"beat\", \"friendly\", \"price\", \"life\", \"expensive\", \"cheap\", \"daughter\", \"box\", \"high\", \"good\", \"buy\", \"tablet\", \"purchase\", \"work\", \"product\", \"use\", \"great\", \"fast\", \"love\", \"get\", \"time\", \"easy\", \"game\", \"far\", \"recommend\", \"play\", \"kid\", \"need\", \"like\", \"child\", \"Freetime\", \"wallpaper\", \"Kid\", \"repair\", \"Free\", \"7yr\", \"bored\", \"October\", \"cancel\", \"quit\", \"seven\", \"responsibility\", \"February\", \"alphabet\", \"Ray\", \"character\", \"goodness\", \"March\", \"BB\", \"1000\", \"editing\", \"65\", \"fighting\", \"construct\", \"Customer\", \"dinner\", \"newstand\", \"partly\", \"disappear\", \"freebie\", \"granddaughter\", \"error\", \"year\", \"old\", \"shortly\", \"textbook\", \"2\", \"magazine\", \"9\", \"yr\", \"11\", \"icon\", \"question\", \"warranty\", \"swipe\", \"3\", \"pin\", \"loose\", \"5\", \"sure\", \"4\", \"charger\", \"plug\", \"son\", \"ask\", \"port\", \"love\", \"6\", \"charge\", \"busy\", \"grandson\", \"Kindle\", \"grand\", \"Fire\", \"1\", \"go\", \"buy\", \"device\", \"purchase\", \"game\", \"app\", \"play\", \"like\", \"time\", \"replace\", \"Christmas\", \"tablet\", \"use\", \"come\", \"new\", \"book\", \"easy\", \"set\", \"read\", \"get\", \"screen\", \"great\", \"work\", \"sibling\", \"xmas\", \"tank\", \"fuss\", \"Download\", \"booklet\", \"sd\", \"baught\", \"code\", \"charm\", \"Set\", \"suggestion\", \"FRIDAY\", \"BLACK\", \"assistance\", \"jack\", \"recipient\", \"apps.16\", \"internet.1.5\", \"iPads\", \"citizen\", \"Child\", \"tool\", \"sport\", \"User\", \"GREAT\", \"graduate\", \"accidental\", \"spill\", \"buffer\", \"learning\", \"watching\", \"Mom\", \"card\", \"gift\", \"prime\", \"kid\", \"activity\", \"benefit\", \"memory\", \"great\", \"member\", \"friend\", \"learn\", \"simple\", \"google\", \"underground\", \"add\", \"fun\", \"help\", \"adult\", \"understand\", \"perfect\", \"app\", \"ton\", \"give\", \"lot\", \"tablet\", \"use\", \"Christmas\", \"free\", \"product\", \"easy\", \"child\", \"game\", \"love\", \"need\", \"work\", \"recommend\", \"buy\", \"price\", \"play\", \"like\", \"good\", \"set\", \"time\", \"enjoy\", \"movie\", \"get\", \"download\", \"purchase\", \"darn\", \"bedtime\", \"quirk\", \"refund\", \"bezel\", \"paperwhite\", \"related\", \"practical\", \"Bestbuy\", \"blank\", \"stepkid\", \"Keyboard\", \"mAh\", \"Australia\", \"improvement\", \"sweet\", \"pen\", \"HD7\", \"vision\", \"dosent\", \"49\", \"signal\", \"inch\", \"dispute\", \"USA\", \"mA\", \"sub\", \"rain\", \"distribute\", \"7inch\", \"borrow\", \"sensitivity\", \"friday\", \"paper\", \"kindle\", \"galaxy\", \"early\", \"keyboard\", \"e\", \"material\", \"sound\", \"black\", \"voyage\", \"glare\", \"expect\", \"60\", \"loud\", \"deal\", \"7\", \"well\", \"Voyage\", \"reader\", \"read\", \"ok\", \"fire\", \"text\", \"good\", \"browse\", \"book\", \"generation\", \"HD\", \"own\", \"hd\", \"work\", \"screen\", \"wife\", \"far\", \"Kindle\", \"think\", \"big\", \"iPad\", \"Fire\", \"great\", \"love\", \"price\", \"get\", \"8\", \"want\", \"buy\", \"like\", \"battery\", \"new\", \"tablet\", \"use\", \"product\", \"purchase\", \"easy\", \"savy\", \"entry\", \"disable\", \"arm\", \"improved\", \"ensure\", \"forth\", \"asleep\", \"fir\", \"handed\", \"stair\", \"ereader\", \"daugther\", \"appointment\", \"table\", \"responsiveness\", \"crystal\", \"immensely\", \"purse\", \"adjustable\", \"suited\", \"Portable\", \"weigh\", \"thirty\", \"audible.com\", \"secondary\", \"wizard\", \"logic\", \"aswell\", \"throughly\", \"beach\", \"weight\", \"lightweight\", \"light\", \"visual\", \"serve\", \"carry\", \"sync\", \"compact\", \"nice\", \"crisp\", \"ebook\", \"fit\", \"purpose\", \"browsing\", \"Oasis\", \"tech\", \"dark\", \"size\", \"level\", \"pocket\", \"model\", \"clear\", \"little\", \"web\", \"start\", \"reading\", \"hand\", \"check\", \"read\", \"Kindle\", \"tablet\", \"excellent\", \"screen\", \"book\", \"easy\", \"small\", \"reader\", \"large\", \"perfect\", \"look\", \"email\", \"want\", \"use\", \"like\", \"need\", \"good\", \"charge\", \"Fire\", \"great\", \"app\", \"buy\", \"price\", \"love\", \"device\", \"feature\", \"kid\"], \"Freq\": [6523.0, 8857.0, 2777.0, 2417.0, 3273.0, 1604.0, 6358.0, 2274.0, 9317.0, 1305.0, 1258.0, 876.0, 1834.0, 1397.0, 2067.0, 1957.0, 955.0, 1888.0, 2586.0, 3861.0, 1088.0, 3648.0, 1366.0, 7037.0, 602.0, 1168.0, 998.0, 4661.0, 471.0, 1332.0, 63.2932014465332, 44.72077941894531, 22.526931762695312, 68.05553436279297, 19.34264373779297, 39.186153411865234, 17.9368896484375, 19.821544647216797, 18.378616333007812, 16.804147720336914, 149.08883666992188, 20.772441864013672, 16.686016082763672, 45.17247772216797, 18.5706729888916, 15.398070335388184, 109.01854705810547, 22.429637908935547, 23.538028717041016, 20.80002784729004, 14.218894004821777, 20.928380966186523, 14.677839279174805, 23.998666763305664, 15.27099609375, 122.57717895507812, 12.414895057678223, 13.210383415222168, 12.759092330932617, 12.844075202941895, 306.0910339355469, 96.90411376953125, 101.06562805175781, 40.04053497314453, 49.10487365722656, 1269.2340087890625, 5690.38623046875, 307.0689697265625, 105.08134460449219, 237.13265991210938, 162.96246337890625, 471.03668212890625, 1602.1859130859375, 126.83545684814453, 93.57825469970703, 93.96216583251953, 249.1195831298828, 47.866764068603516, 93.4209213256836, 50.5511474609375, 95.6676025390625, 86.1183853149414, 265.1818542480469, 98.03028106689453, 906.9365844726562, 231.41497802734375, 423.3435363769531, 370.8099365234375, 415.5771179199219, 2468.46728515625, 628.4325561523438, 306.13970947265625, 529.9281005859375, 762.5767211914062, 253.5618896484375, 260.1306457519531, 2479.984619140625, 2254.361572265625, 3135.98193359375, 1176.9439697265625, 1450.2274169921875, 1009.3704833984375, 1866.65771484375, 2614.2138671875, 493.38421630859375, 1960.774169921875, 848.5701904296875, 882.3926391601562, 1092.232666015625, 776.2928466796875, 468.4391174316406, 493.63092041015625, 540.3674926757812, 605.9962158203125, 479.43585205078125, 498.1745300292969, 436.0383605957031, 37.926239013671875, 17.079021453857422, 14.620128631591797, 16.021739959716797, 16.978633880615234, 12.016510009765625, 11.299966812133789, 12.610228538513184, 13.257332801818848, 21.758573532104492, 24.113422393798828, 11.518888473510742, 10.604621887207031, 9.937460899353027, 9.009613990783691, 9.176569938659668, 9.169822692871094, 9.425765991210938, 15.187018394470215, 9.697494506835938, 8.689370155334473, 8.244027137756348, 7.287258625030518, 10.6447114944458, 7.779135704040527, 7.486149311065674, 7.507655620574951, 7.501185417175293, 7.104148864746094, 7.206488132476807, 409.44415283203125, 8.449722290039062, 2061.13134765625, 2315.57373046875, 11.28176212310791, 19.418153762817383, 701.8815307617188, 78.06939697265625, 117.59076690673828, 207.58648681640625, 33.0396614074707, 20.48357582092285, 72.4110107421875, 226.3602294921875, 30.154834747314453, 429.93133544921875, 15.191481590270996, 45.65146255493164, 293.8655700683594, 202.7049102783203, 362.007568359375, 112.37911224365234, 80.68009948730469, 539.9609375, 116.11109924316406, 75.13709259033203, 2245.9638671875, 165.61264038085938, 391.1806640625, 62.319915771484375, 255.94192504882812, 645.171142578125, 117.52909088134766, 491.8838195800781, 126.00191497802734, 312.7948303222656, 1421.151611328125, 462.3626403808594, 789.3336181640625, 720.1314086914062, 753.8606567382812, 559.4456176757812, 742.5, 621.3950805664062, 247.2023162841797, 328.2748107910156, 1317.9593505859375, 836.515869140625, 330.651123046875, 319.824462890625, 417.1568603515625, 507.4278869628906, 310.5501708984375, 392.926025390625, 351.2957458496094, 340.405517578125, 346.6841125488281, 329.7268981933594, 18.518882751464844, 12.801403045654297, 9.683177947998047, 13.67988109588623, 8.330102920532227, 7.913928508758545, 98.63016510009766, 7.945740699768066, 10.665253639221191, 9.920228004455566, 7.757983684539795, 9.640785217285156, 7.115771293640137, 7.115781307220459, 16.575923919677734, 7.665509223937988, 33.42170715332031, 6.602975845336914, 6.602672576904297, 11.276643753051758, 6.650846481323242, 6.5630083084106445, 131.8208770751953, 8.46110725402832, 13.368755340576172, 6.629223346710205, 5.856714725494385, 14.278436660766602, 7.267918109893799, 14.713586807250977, 189.46368408203125, 18.408016204833984, 30.140178680419922, 283.22991943359375, 946.55712890625, 183.7589111328125, 2004.3280029296875, 49.698062896728516, 33.9571418762207, 238.41671752929688, 4094.341064453125, 133.05294799804688, 147.68377685546875, 313.29278564453125, 166.79010009765625, 121.15499877929688, 24.731220245361328, 207.37344360351562, 162.8746795654297, 199.8153076171875, 137.25584411621094, 65.75621795654297, 500.55535888671875, 951.1670532226562, 98.90948486328125, 217.79051208496094, 492.6983947753906, 2306.102783203125, 1442.72265625, 379.00811767578125, 294.91754150390625, 711.5352783203125, 1032.419921875, 419.8039855957031, 709.7598876953125, 1466.5794677734375, 522.61181640625, 797.6055908203125, 413.0683898925781, 962.89013671875, 849.0526733398438, 458.6583557128906, 551.8440551757812, 771.0442504882812, 316.1029052734375, 440.176513671875, 297.60394287109375, 276.0144348144531, 337.797607421875, 278.390625, 297.3419189453125, 25.78485870361328, 16.751317977905273, 17.461210250854492, 21.642366409301758, 14.559465408325195, 64.44648742675781, 12.92957878112793, 15.03232192993164, 10.879249572753906, 11.3101167678833, 10.935081481933594, 10.945198059082031, 10.30061149597168, 9.111324310302734, 85.63374328613281, 10.306497573852539, 11.81686782836914, 11.475680351257324, 10.886441230773926, 8.094300270080566, 13.350340843200684, 11.141096115112305, 161.6885223388672, 7.787722110748291, 8.160232543945312, 8.09929370880127, 9.270129203796387, 8.685770034790039, 7.019618511199951, 7.202731132507324, 26.45279884338379, 12.255642890930176, 43.800445556640625, 58.50908279418945, 1154.559814453125, 19.14933204650879, 55.92619705200195, 135.7241668701172, 246.19259643554688, 42.105655670166016, 220.87550354003906, 131.3779296875, 36.74646759033203, 38.985809326171875, 296.1033630371094, 43.98518371582031, 39.18724822998047, 349.69610595703125, 306.1373291015625, 511.1872253417969, 62.75218963623047, 322.3106384277344, 981.9322509765625, 152.90562438964844, 628.306884765625, 54.250816345214844, 2046.5228271484375, 81.28634643554688, 697.1549682617188, 71.60616302490234, 133.23043823242188, 80.54594421386719, 184.9676513671875, 922.2182006835938, 569.5391235351562, 213.4042205810547, 351.0809631347656, 487.1656799316406, 262.1872253417969, 254.68292236328125, 244.80335998535156, 364.5664978027344, 1112.9078369140625, 893.7991943359375, 696.0123901367188, 413.2906494140625, 252.2165069580078, 307.6065979003906, 526.6790771484375, 354.5797119140625, 423.36676025390625, 255.60000610351562, 440.24639892578125, 377.10223388671875, 295.0607604980469, 299.7904052734375, 255.61279296875, 18.39104461669922, 37.694801330566406, 20.01936912536621, 15.261148452758789, 13.268693923950195, 13.657517433166504, 15.140514373779297, 12.408463478088379, 12.5679292678833, 11.821924209594727, 11.249703407287598, 61.19649887084961, 10.589776039123535, 9.920587539672852, 120.726806640625, 10.223220825195312, 19.08746910095215, 8.300861358642578, 86.5774154663086, 9.97363567352295, 9.171745300292969, 8.221125602722168, 23.41872787475586, 9.271429061889648, 7.645211696624756, 8.707365989685059, 7.264969348907471, 7.725639343261719, 7.6042327880859375, 7.4466376304626465, 23.491003036499023, 175.79486083984375, 138.4605712890625, 697.6100463867188, 22.944326400756836, 54.501495361328125, 194.1984100341797, 20.857009887695312, 71.2968978881836, 814.6529541015625, 57.81401824951172, 88.30362701416016, 196.15281677246094, 106.81146240234375, 60.65255355834961, 85.65138244628906, 92.34517669677734, 49.85154342651367, 554.3175659179688, 72.67643737792969, 36.49483871459961, 182.09506225585938, 187.4121856689453, 434.8570251464844, 176.55340576171875, 166.33480834960938, 226.27838134765625, 185.03468322753906, 132.5757598876953, 761.6618041992188, 634.3980712890625, 2116.986328125, 293.0960388183594, 619.751953125, 660.9998779296875, 974.1475219726562, 260.9248046875, 254.60470581054688, 172.20265197753906, 371.0257873535156, 301.05389404296875, 159.16136169433594, 372.2202453613281, 779.2922973632812, 510.3871154785156, 406.2691650390625, 795.468017578125, 280.0137634277344, 320.2572021484375, 689.1339111328125, 405.12884521484375, 539.6685180664062, 490.8855895996094, 470.7009582519531, 279.686279296875, 250.440673828125, 318.6728515625], \"Total\": [6523.0, 8857.0, 2777.0, 2417.0, 3273.0, 1604.0, 6358.0, 2274.0, 9317.0, 1305.0, 1258.0, 876.0, 1834.0, 1397.0, 2067.0, 1957.0, 955.0, 1888.0, 2586.0, 3861.0, 1088.0, 3648.0, 1366.0, 7037.0, 602.0, 1168.0, 998.0, 4661.0, 471.0, 1332.0, 64.5452880859375, 45.84100341796875, 23.203588485717773, 70.4549560546875, 20.042301177978516, 40.6251335144043, 18.615005493164062, 20.573932647705078, 19.083208084106445, 17.47242546081543, 155.1235809326172, 21.652793884277344, 17.415388107299805, 47.16957473754883, 19.422380447387695, 16.10612678527832, 114.26509857177734, 23.522695541381836, 24.687572479248047, 21.821701049804688, 14.926949501037598, 21.979610443115234, 15.432718276977539, 25.24704360961914, 16.07745361328125, 129.17864990234375, 13.084529876708984, 13.926676750183105, 13.461042404174805, 13.552906036376953, 324.5018615722656, 102.41473388671875, 107.57817840576172, 42.295616149902344, 52.051666259765625, 1397.0465087890625, 6523.51904296875, 334.190185546875, 112.8912582397461, 262.2800598144531, 179.72283935546875, 540.115966796875, 1957.446044921875, 141.49058532714844, 103.22034454345703, 103.77739715576172, 286.5514221191406, 51.45710372924805, 104.53496551513672, 55.02992630004883, 107.9506607055664, 97.0422592163086, 325.8431396484375, 111.98697662353516, 1291.7408447265625, 293.0360107421875, 580.90771484375, 506.2261047363281, 584.662353515625, 4661.19775390625, 965.890380859375, 427.8351135253906, 833.1298828125, 1329.037353515625, 349.0450439453125, 362.1280212402344, 6358.8564453125, 5704.7509765625, 9317.27734375, 2685.14013671875, 3648.166748046875, 2281.579833984375, 5302.291015625, 8857.28125, 921.646728515625, 7037.818359375, 2078.09130859375, 2269.272705078125, 3861.8408203125, 2372.450439453125, 1068.5299072265625, 1323.4801025390625, 1758.8577880859375, 3273.150634765625, 1743.8778076171875, 2657.4853515625, 1155.1553955078125, 39.726139068603516, 17.931554794311523, 15.386043548583984, 16.8908748626709, 17.912988662719727, 12.762019157409668, 12.063605308532715, 13.496026992797852, 14.19896125793457, 23.396671295166016, 26.014205932617188, 12.471036911010742, 11.485078811645508, 10.770723342895508, 9.79020881652832, 9.97810173034668, 10.013609886169434, 10.309590339660645, 16.611244201660156, 10.650168418884277, 9.543354034423828, 9.076226234436035, 8.026344299316406, 11.74028205871582, 8.582752227783203, 8.268617630004883, 8.294113159179688, 8.294781684875488, 7.861325263977051, 7.979274272918701, 471.4827575683594, 9.363231658935547, 2417.245361328125, 2777.9228515625, 12.5506591796875, 22.064682006835938, 955.254638671875, 95.5364761352539, 150.38783264160156, 275.2925720214844, 39.428768157958984, 23.673847198486328, 93.43160247802734, 331.35888671875, 36.522335052490234, 694.9008178710938, 17.380760192871094, 60.549251556396484, 504.29693603515625, 334.31158447265625, 651.7722778320312, 174.6282958984375, 119.13970184326172, 1135.94873046875, 188.73818969726562, 112.96136474609375, 7037.818359375, 294.6717224121094, 895.2744140625, 92.2072525024414, 547.5646362304688, 1834.580078125, 207.22959899902344, 1332.1636962890625, 227.82559204101562, 747.1373291015625, 5704.7509765625, 1302.3134765625, 2685.14013671875, 2372.450439453125, 2586.95849609375, 1758.8577880859375, 2657.4853515625, 2269.272705078125, 578.8972778320312, 956.4398193359375, 9317.27734375, 5302.291015625, 1026.0194091796875, 1041.407958984375, 2067.741455078125, 3861.8408203125, 974.475830078125, 2274.86279296875, 2078.09130859375, 1888.325927734375, 8857.28125, 3648.166748046875, 19.3563175201416, 13.68982982635498, 10.5053129196167, 14.8735933303833, 9.06103515625, 8.654767990112305, 107.91736602783203, 8.70009708404541, 11.690009117126465, 10.896940231323242, 8.529501914978027, 10.644646644592285, 7.876423358917236, 7.876445770263672, 18.347972869873047, 8.506111145019531, 37.105743408203125, 7.335386753082275, 7.3354878425598145, 12.538350105285645, 7.396447658538818, 7.312067985534668, 146.94252014160156, 9.435005187988281, 14.925089836120605, 7.406104564666748, 6.6093621253967285, 16.124845504760742, 8.222734451293945, 16.67017364501953, 220.79376220703125, 20.995121002197266, 34.68891143798828, 357.830322265625, 1305.3507080078125, 249.5259246826172, 3273.150634765625, 64.39469146728516, 42.62504959106445, 364.6998596191406, 8857.28125, 199.27723693847656, 229.0746307373047, 547.301025390625, 270.79608154296875, 191.9730682373047, 31.404102325439453, 377.4801940917969, 288.00738525390625, 366.53131103515625, 237.3426055908203, 100.3907241821289, 1168.636962890625, 2586.95849609375, 166.0313720703125, 447.46087646484375, 1247.063232421875, 9317.27734375, 5302.291015625, 956.4398193359375, 694.67138671875, 2281.579833984375, 3861.8408203125, 1155.1553955078125, 2372.450439453125, 7037.818359375, 1743.8778076171875, 3648.166748046875, 1323.4801025390625, 5704.7509765625, 4661.19775390625, 1758.8577880859375, 2657.4853515625, 6358.8564453125, 974.475830078125, 2269.272705078125, 957.440673828125, 929.398193359375, 2078.09130859375, 963.1722412109375, 2685.14013671875, 26.905271530151367, 17.51369857788086, 18.378721237182617, 22.802997589111328, 15.357047080993652, 68.05280303955078, 13.790895462036133, 16.05725860595703, 11.665071487426758, 12.128263473510742, 11.734122276306152, 11.843918800354004, 11.147793769836426, 9.860698699951172, 92.92018127441406, 11.201459884643555, 12.848706245422363, 12.481877326965332, 11.87762451171875, 8.841961860656738, 14.601237297058105, 12.191636085510254, 177.30409240722656, 8.541524887084961, 8.975332260131836, 8.91658878326416, 10.212501525878906, 9.570670127868652, 7.773301124572754, 7.979395866394043, 29.3375244140625, 13.71065902709961, 51.14955139160156, 69.2383804321289, 1604.518798828125, 21.838529586791992, 68.14026641845703, 176.71290588378906, 347.1087646484375, 52.54545593261719, 333.7442321777344, 188.90451049804688, 46.44163131713867, 49.89621353149414, 500.79071044921875, 57.77904510498047, 50.90444564819336, 630.6586303710938, 547.4727783203125, 998.9127197265625, 87.77851867675781, 602.380126953125, 2274.86279296875, 254.03091430664062, 1366.83154296875, 75.49958801269531, 6358.8564453125, 127.72332763671875, 2067.741455078125, 109.44332122802734, 248.77833557128906, 128.83096313476562, 393.7568664550781, 3648.166748046875, 1888.325927734375, 517.9550170898438, 1068.5299072265625, 1834.580078125, 739.3995971679688, 708.6341552734375, 674.2196044921875, 1332.1636962890625, 8857.28125, 7037.818359375, 4661.19775390625, 2078.09130859375, 822.7491455078125, 1398.478759765625, 5704.7509765625, 2657.4853515625, 6523.51904296875, 1041.407958984375, 9317.27734375, 5302.291015625, 2281.579833984375, 2685.14013671875, 3861.8408203125, 19.349878311157227, 39.69306945800781, 21.144054412841797, 16.144180297851562, 14.04096508026123, 14.460203170776367, 16.05056381225586, 13.174463272094727, 13.37039852142334, 12.595230102539062, 12.011439323425293, 65.3423080444336, 11.3154935836792, 10.660347938537598, 129.7323455810547, 11.006266593933105, 20.642562866210938, 9.064397811889648, 94.69593811035156, 10.911334991455078, 10.052209854125977, 9.033324241638184, 25.7341251373291, 10.19949722290039, 8.417226791381836, 9.60677719116211, 8.02553653717041, 8.534462928771973, 8.402810096740723, 8.2312650680542, 26.02671241760254, 204.87246704101562, 161.09226989746094, 876.6383056640625, 26.154747009277344, 66.10013580322266, 255.24862670898438, 24.252466201782227, 91.19584655761719, 1258.69580078125, 73.02774047851562, 116.04466247558594, 282.8208923339844, 150.4475860595703, 79.90821838378906, 119.5176010131836, 133.71910095214844, 65.93421936035156, 1088.8779296875, 103.40998840332031, 46.28736877441406, 328.9609375, 341.700439453125, 974.5941162109375, 333.16754150390625, 310.5765686035156, 459.2910461425781, 357.7099609375, 236.76004028320312, 2274.86279296875, 1834.580078125, 9317.27734375, 679.0770263671875, 1888.325927734375, 2067.741455078125, 3861.8408203125, 609.1719360351562, 602.380126953125, 344.2376708984375, 1168.636962890625, 906.350341796875, 316.06231689453125, 1398.478759765625, 5302.291015625, 2657.4853515625, 1743.8778076171875, 6358.8564453125, 895.2744140625, 1332.1636962890625, 8857.28125, 2586.95849609375, 5704.7509765625, 4661.19775390625, 7037.818359375, 1302.3134765625, 809.5693969726562, 3273.150634765625], \"Category\": [\"Default\", \"Default\", \"Default\", \"Default\", \"Default\", \"Default\", \"Default\", \"Default\", \"Default\", \"Default\", \"Default\", \"Default\", \"Default\", \"Default\", \"Default\", \"Default\", \"Default\", \"Default\", \"Default\", \"Default\", \"Default\", \"Default\", \"Default\", \"Default\", \"Default\", \"Default\", \"Default\", \"Default\", \"Default\", \"Default\", \"Topic1\", \"Topic1\", \"Topic1\", \"Topic1\", \"Topic1\", \"Topic1\", \"Topic1\", \"Topic1\", \"Topic1\", \"Topic1\", \"Topic1\", \"Topic1\", \"Topic1\", \"Topic1\", \"Topic1\", \"Topic1\", \"Topic1\", \"Topic1\", \"Topic1\", \"Topic1\", \"Topic1\", \"Topic1\", \"Topic1\", \"Topic1\", \"Topic1\", \"Topic1\", \"Topic1\", \"Topic1\", \"Topic1\", \"Topic1\", \"Topic1\", \"Topic1\", \"Topic1\", \"Topic1\", \"Topic1\", \"Topic1\", \"Topic1\", \"Topic1\", \"Topic1\", \"Topic1\", \"Topic1\", \"Topic1\", \"Topic1\", \"Topic1\", \"Topic1\", \"Topic1\", \"Topic1\", \"Topic1\", \"Topic1\", \"Topic1\", \"Topic1\", \"Topic1\", \"Topic1\", \"Topic1\", \"Topic1\", \"Topic1\", \"Topic1\", \"Topic1\", \"Topic1\", \"Topic1\", \"Topic1\", \"Topic1\", \"Topic1\", \"Topic1\", \"Topic1\", \"Topic1\", \"Topic1\", \"Topic1\", \"Topic1\", \"Topic1\", \"Topic1\", \"Topic1\", \"Topic1\", \"Topic1\", \"Topic1\", \"Topic1\", \"Topic1\", \"Topic1\", \"Topic1\", \"Topic1\", \"Topic1\", \"Topic1\", \"Topic1\", \"Topic1\", \"Topic1\", \"Topic1\", \"Topic1\", \"Topic2\", \"Topic2\", \"Topic2\", \"Topic2\", \"Topic2\", \"Topic2\", \"Topic2\", \"Topic2\", \"Topic2\", \"Topic2\", \"Topic2\", \"Topic2\", \"Topic2\", \"Topic2\", \"Topic2\", \"Topic2\", \"Topic2\", \"Topic2\", \"Topic2\", \"Topic2\", \"Topic2\", \"Topic2\", \"Topic2\", \"Topic2\", \"Topic2\", \"Topic2\", \"Topic2\", \"Topic2\", \"Topic2\", \"Topic2\", \"Topic2\", \"Topic2\", \"Topic2\", \"Topic2\", \"Topic2\", \"Topic2\", \"Topic2\", \"Topic2\", \"Topic2\", \"Topic2\", \"Topic2\", \"Topic2\", \"Topic2\", \"Topic2\", \"Topic2\", \"Topic2\", \"Topic2\", \"Topic2\", \"Topic2\", \"Topic2\", \"Topic2\", \"Topic2\", \"Topic2\", \"Topic2\", \"Topic2\", \"Topic2\", \"Topic2\", \"Topic2\", \"Topic2\", \"Topic2\", \"Topic2\", \"Topic2\", \"Topic2\", \"Topic2\", \"Topic2\", \"Topic2\", \"Topic2\", \"Topic2\", \"Topic2\", \"Topic2\", \"Topic2\", \"Topic2\", \"Topic2\", \"Topic2\", \"Topic2\", \"Topic2\", \"Topic2\", \"Topic2\", \"Topic2\", \"Topic2\", \"Topic2\", \"Topic2\", \"Topic2\", \"Topic2\", \"Topic2\", \"Topic2\", \"Topic2\", \"Topic2\", \"Topic3\", \"Topic3\", \"Topic3\", \"Topic3\", \"Topic3\", \"Topic3\", \"Topic3\", \"Topic3\", \"Topic3\", \"Topic3\", \"Topic3\", \"Topic3\", \"Topic3\", \"Topic3\", \"Topic3\", \"Topic3\", \"Topic3\", \"Topic3\", \"Topic3\", \"Topic3\", \"Topic3\", \"Topic3\", \"Topic3\", \"Topic3\", \"Topic3\", \"Topic3\", \"Topic3\", \"Topic3\", \"Topic3\", \"Topic3\", \"Topic3\", \"Topic3\", \"Topic3\", \"Topic3\", \"Topic3\", \"Topic3\", \"Topic3\", \"Topic3\", \"Topic3\", \"Topic3\", \"Topic3\", \"Topic3\", \"Topic3\", \"Topic3\", \"Topic3\", \"Topic3\", \"Topic3\", \"Topic3\", \"Topic3\", \"Topic3\", \"Topic3\", \"Topic3\", \"Topic3\", \"Topic3\", \"Topic3\", \"Topic3\", \"Topic3\", \"Topic3\", \"Topic3\", \"Topic3\", \"Topic3\", \"Topic3\", \"Topic3\", \"Topic3\", \"Topic3\", \"Topic3\", \"Topic3\", \"Topic3\", \"Topic3\", \"Topic3\", \"Topic3\", \"Topic3\", \"Topic3\", \"Topic3\", \"Topic3\", \"Topic3\", \"Topic3\", \"Topic3\", \"Topic3\", \"Topic3\", \"Topic3\", \"Topic4\", \"Topic4\", \"Topic4\", \"Topic4\", \"Topic4\", \"Topic4\", \"Topic4\", \"Topic4\", \"Topic4\", \"Topic4\", \"Topic4\", \"Topic4\", \"Topic4\", \"Topic4\", \"Topic4\", \"Topic4\", \"Topic4\", \"Topic4\", \"Topic4\", \"Topic4\", \"Topic4\", \"Topic4\", \"Topic4\", \"Topic4\", \"Topic4\", \"Topic4\", \"Topic4\", \"Topic4\", \"Topic4\", \"Topic4\", \"Topic4\", \"Topic4\", \"Topic4\", \"Topic4\", \"Topic4\", \"Topic4\", \"Topic4\", \"Topic4\", \"Topic4\", \"Topic4\", \"Topic4\", \"Topic4\", \"Topic4\", \"Topic4\", \"Topic4\", \"Topic4\", \"Topic4\", \"Topic4\", \"Topic4\", \"Topic4\", \"Topic4\", \"Topic4\", \"Topic4\", \"Topic4\", \"Topic4\", \"Topic4\", \"Topic4\", \"Topic4\", \"Topic4\", \"Topic4\", \"Topic4\", \"Topic4\", \"Topic4\", \"Topic4\", \"Topic4\", \"Topic4\", \"Topic4\", \"Topic4\", \"Topic4\", \"Topic4\", \"Topic4\", \"Topic4\", \"Topic4\", \"Topic4\", \"Topic4\", \"Topic4\", \"Topic4\", \"Topic4\", \"Topic4\", \"Topic4\", \"Topic4\", \"Topic4\", \"Topic4\", \"Topic4\", \"Topic4\", \"Topic4\", \"Topic4\", \"Topic5\", \"Topic5\", \"Topic5\", \"Topic5\", \"Topic5\", \"Topic5\", \"Topic5\", \"Topic5\", \"Topic5\", \"Topic5\", \"Topic5\", \"Topic5\", \"Topic5\", \"Topic5\", \"Topic5\", \"Topic5\", \"Topic5\", \"Topic5\", \"Topic5\", \"Topic5\", \"Topic5\", \"Topic5\", \"Topic5\", \"Topic5\", \"Topic5\", \"Topic5\", \"Topic5\", \"Topic5\", \"Topic5\", \"Topic5\", \"Topic5\", \"Topic5\", \"Topic5\", \"Topic5\", \"Topic5\", \"Topic5\", \"Topic5\", \"Topic5\", \"Topic5\", \"Topic5\", \"Topic5\", \"Topic5\", \"Topic5\", \"Topic5\", \"Topic5\", \"Topic5\", \"Topic5\", \"Topic5\", \"Topic5\", \"Topic5\", \"Topic5\", \"Topic5\", \"Topic5\", \"Topic5\", \"Topic5\", \"Topic5\", \"Topic5\", \"Topic5\", \"Topic5\", \"Topic5\", \"Topic5\", \"Topic5\", \"Topic5\", \"Topic5\", \"Topic5\", \"Topic5\", \"Topic5\", \"Topic5\", \"Topic5\", \"Topic5\", \"Topic5\", \"Topic5\", \"Topic5\", \"Topic5\", \"Topic5\", \"Topic5\", \"Topic5\", \"Topic5\", \"Topic5\", \"Topic5\", \"Topic5\", \"Topic5\", \"Topic5\", \"Topic5\", \"Topic5\", \"Topic5\", \"Topic5\"], \"logprob\": [30.0, 29.0, 28.0, 27.0, 26.0, 25.0, 24.0, 23.0, 22.0, 21.0, 20.0, 19.0, 18.0, 17.0, 16.0, 15.0, 14.0, 13.0, 12.0, 11.0, 10.0, 9.0, 8.0, 7.0, 6.0, 5.0, 4.0, 3.0, 2.0, 1.0, -7.377900123596191, -7.725200176239014, -8.41100025177002, -7.3053998947143555, -8.563400268554688, -7.857399940490723, -8.638799667358398, -8.538900375366211, -8.614500045776367, -8.704099655151367, -6.521100044250488, -8.49209976196289, -8.711099624633789, -7.715199947357178, -8.604100227355957, -8.791399955749512, -6.834199905395508, -8.415300369262695, -8.36709976196289, -8.490699768066406, -8.871100425720215, -8.484600067138672, -8.839400291442871, -8.347700119018555, -8.799699783325195, -6.716899871826172, -9.006799697875977, -8.944700241088867, -8.979399681091309, -8.972800254821777, -5.801799774169922, -6.952000141143799, -6.909900188446045, -7.8358001708984375, -7.631700038909912, -4.379499912261963, -2.879199981689453, -5.798600196838379, -6.870999813079834, -6.05709981918335, -6.432199954986572, -5.370800018310547, -4.146599769592285, -6.682799816131592, -6.9868998527526855, -6.982800006866455, -6.007800102233887, -7.657299995422363, -6.98859977722168, -7.602700233459473, -6.964799880981445, -7.070000171661377, -5.945300102233887, -6.940400123596191, -4.71560001373291, -6.081500053405762, -5.477499961853027, -5.610000133514404, -5.495999813079834, -3.7142999172210693, -5.082499980926514, -5.801599979400635, -5.252900123596191, -4.888999938964844, -5.990099906921387, -5.9644999504089355, -3.709700107574463, -3.8050999641418457, -3.4749999046325684, -4.454999923706055, -4.246200084686279, -4.60860013961792, -3.993799924850464, -3.6570000648498535, -5.324399948120117, -3.9446001052856445, -4.782100200653076, -4.743100166320801, -4.529699802398682, -4.871200084686279, -5.376299858093262, -5.32390022277832, -5.233399868011475, -5.118800163269043, -5.353099822998047, -5.314700126647949, -5.447999954223633, -7.462399959564209, -8.260100364685059, -8.415599822998047, -8.324000358581543, -8.265999794006348, -8.611700057983398, -8.673199653625488, -8.56350040435791, -8.513400077819824, -8.017999649047852, -7.915200233459473, -8.654000282287598, -8.736700057983398, -8.8016996383667, -8.899700164794922, -8.88129997253418, -8.882100105285645, -8.854499816894531, -8.377599716186523, -8.82610034942627, -8.93589973449707, -8.988499641418457, -9.111900329589844, -8.73289966583252, -9.046600341796875, -9.08489990234375, -9.082099914550781, -9.082900047302246, -9.137299537658691, -9.123000144958496, -5.083199977874756, -8.963899612426758, -3.4670000076293945, -3.350600004196167, -8.674799919128418, -8.131799697875977, -4.5441999435424805, -6.7403998374938965, -6.3308000564575195, -5.762400150299072, -7.600299835205078, -8.078399658203125, -6.8155999183654785, -5.675899982452393, -7.691699981689453, -5.03439998626709, -8.377300262451172, -7.2769999504089355, -5.414899826049805, -5.786200046539307, -5.206299781799316, -6.376100063323975, -6.707499980926514, -4.80649995803833, -6.343400001525879, -6.77869987487793, -3.3810999393463135, -5.98829984664917, -5.128799915313721, -6.965700149536133, -5.552999973297119, -4.628499984741211, -6.331299781799316, -4.899799823760986, -6.26170015335083, -5.352399826049805, -3.8387999534606934, -4.961599826812744, -4.426799774169922, -4.518599987030029, -4.472799777984619, -4.770999908447266, -4.48799991607666, -4.665999889373779, -5.587800025939941, -5.304100036621094, -3.9142000675201416, -4.368800163269043, -5.296899795532227, -5.3302001953125, -5.064499855041504, -4.868599891662598, -5.3597002029418945, -5.1244001388549805, -5.236400127410889, -5.267899990081787, -5.249599933624268, -5.299699783325195, -8.02560043334961, -8.394800186157227, -8.673999786376953, -8.328399658203125, -8.82450008392334, -8.875699996948242, -6.353000164031982, -8.871700286865234, -8.577400207519531, -8.649800300598145, -8.895600318908691, -8.678400039672852, -8.982000350952148, -8.982000350952148, -8.13640022277832, -8.907600402832031, -7.435100078582764, -9.05679988861084, -9.056900024414062, -8.521599769592285, -9.049599647521973, -9.062899589538574, -6.062900066375732, -8.808899879455566, -8.351400375366211, -9.052900314331055, -9.176799774169922, -8.285599708557129, -8.96090030670166, -8.255599975585938, -5.700200080871582, -8.031599998474121, -7.53849983215332, -5.298099994659424, -4.0914998054504395, -5.7307000160217285, -3.3413000106811523, -7.038400173187256, -7.419300079345703, -5.470300197601318, -2.627000093460083, -6.053599834442139, -5.9492998123168945, -5.197199821472168, -5.827600002288818, -6.147299766540527, -7.736299991607666, -5.609799861907959, -5.851399898529053, -5.646999835968018, -6.022500038146973, -6.758399963378906, -4.728600025177002, -4.086699962615967, -6.350100040435791, -5.560800075531006, -4.744500160217285, -3.2009999752044678, -3.670099973678589, -5.006800174713135, -5.257699966430664, -4.3769001960754395, -4.004700183868408, -4.904600143432617, -4.37939977645874, -3.653700113296509, -4.685500144958496, -4.262700080871582, -4.9207000732421875, -4.074399948120117, -4.200200080871582, -4.815999984741211, -4.631100177764893, -4.296599864959717, -5.188300132751465, -4.8572001457214355, -5.248600006103516, -5.32390022277832, -5.1219000816345215, -5.315299987792969, -5.249499797821045, -7.600800037384033, -8.032099723815918, -7.990600109100342, -7.775899887084961, -8.172300338745117, -6.684700012207031, -8.291000366210938, -8.140399932861328, -8.463700294494629, -8.42490005493164, -8.458600044250488, -8.4576997756958, -8.518400192260742, -8.640999794006348, -6.4004998207092285, -8.517800331115723, -8.380999565124512, -8.410300254821777, -8.463000297546387, -8.759400367736816, -8.258999824523926, -8.439900398254395, -5.764900207519531, -8.79800033569336, -8.751299858093262, -8.75879955291748, -8.623800277709961, -8.688899993896484, -8.901900291442871, -8.876099586486816, -7.575200080871582, -8.344599723815918, -7.070899963378906, -6.781400203704834, -3.799099922180176, -7.8983001708984375, -6.826499938964844, -5.939899921417236, -5.344399929046631, -7.110400199890137, -5.453000068664551, -5.972499847412109, -7.246500015258789, -7.187399864196777, -5.159900188446045, -7.066699981689453, -7.182199954986572, -4.993500232696533, -5.126500129699707, -4.613800048828125, -6.711400032043457, -5.074999809265137, -3.9609999656677246, -5.820700168609619, -4.40749979019165, -6.856900215148926, -3.2267000675201416, -6.452600002288818, -4.303599834442139, -6.579400062561035, -5.958499908447266, -6.461699962615967, -5.63040018081665, -4.023799896240234, -4.50570011138916, -5.487400054931641, -4.989500045776367, -4.6620001792907715, -5.281499862670898, -5.310500144958496, -5.350100040435791, -4.951900005340576, -3.8357999324798584, -4.055099964141846, -4.305200099945068, -4.826399803161621, -5.320300102233887, -5.121699810028076, -4.584000110626221, -4.979599952697754, -4.802299976348877, -5.3069000244140625, -4.763199806213379, -4.918000221252441, -5.163400173187256, -5.147500038146973, -5.3069000244140625, -7.911300182342529, -7.193699836730957, -7.826499938964844, -8.097900390625, -8.237799644470215, -8.208900451660156, -8.105799674987793, -8.304800033569336, -8.291999816894531, -8.35319995880127, -8.402799606323242, -6.709099769592285, -8.463299751281738, -8.528599739074707, -6.029600143432617, -8.498499870300293, -7.874100208282471, -8.70680046081543, -6.362100124359131, -8.523200035095215, -8.607000350952148, -8.716500282287598, -7.669600009918213, -8.596199989318848, -8.78909969329834, -8.659000396728516, -8.840100288391113, -8.778599739074707, -8.794500350952148, -8.815400123596191, -7.666600227355957, -5.653900146484375, -5.892600059509277, -4.2754998207092285, -7.690100193023682, -6.824900150299072, -5.554299831390381, -7.7855000495910645, -6.556300163269043, -4.1203999519348145, -6.765900135040283, -6.342400074005127, -5.544300079345703, -6.152100086212158, -6.7179999351501465, -6.372900009155273, -6.297599792480469, -6.914100170135498, -4.50540018081665, -6.537199974060059, -7.22599983215332, -5.618599891662598, -5.589900016784668, -4.748199939727783, -5.649600028991699, -5.709199905395508, -5.401400089263916, -5.60260009765625, -5.935999870300293, -4.187699794769287, -4.370500087738037, -3.1654000282287598, -5.1427001953125, -4.393899917602539, -4.329400062561035, -3.9416000843048096, -5.258900165557861, -5.2835001945495605, -5.674499988555908, -4.906899929046631, -5.115900039672852, -5.753300189971924, -4.90369987487793, -4.16480016708374, -4.5879998207092285, -4.816199779510498, -4.144199848175049, -5.188300132751465, -5.054100036621094, -4.287700176239014, -4.818999767303467, -4.532199859619141, -4.626999855041504, -4.669000148773193, -5.189499855041504, -5.300000190734863, -5.059000015258789], \"loglift\": [30.0, 29.0, 28.0, 27.0, 26.0, 25.0, 24.0, 23.0, 22.0, 21.0, 20.0, 19.0, 18.0, 17.0, 16.0, 15.0, 14.0, 13.0, 12.0, 11.0, 10.0, 9.0, 8.0, 7.0, 6.0, 5.0, 4.0, 3.0, 2.0, 1.0, 1.1483999490737915, 1.1433000564575195, 1.1383999586105347, 1.1333999633789062, 1.1325000524520874, 1.1318999528884888, 1.1309000253677368, 1.1308000087738037, 1.1303999423980713, 1.128999948501587, 1.1282999515533447, 1.1265000104904175, 1.1252000331878662, 1.1247999668121338, 1.1232000589370728, 1.1231000423431396, 1.121000051498413, 1.1203999519348145, 1.120300054550171, 1.1201000213623047, 1.1194000244140625, 1.11899995803833, 1.117900013923645, 1.117300033569336, 1.1166000366210938, 1.1155999898910522, 1.1154999732971191, 1.1152000427246094, 1.1145000457763672, 1.114300012588501, 1.1095999479293823, 1.1126999855041504, 1.1055999994277954, 1.1131999492645264, 1.1096999645233154, 1.072100043296814, 1.0313999652862549, 1.083400011062622, 1.0963000059127808, 1.067199945449829, 1.070099949836731, 1.0312000513076782, 0.9677000045776367, 1.0586999654769897, 1.0699000358581543, 1.0686999559402466, 1.027999997138977, 1.0957000255584717, 1.0556000471115112, 1.0830999612808228, 1.0471999645233154, 1.0485999584197998, 0.9620000123977661, 1.0348999500274658, 0.814300000667572, 0.9319000244140625, 0.8515999913215637, 0.8567000031471252, 0.8266000151634216, 0.5322999954223633, 0.7382000088691711, 0.833299994468689, 0.7156000137329102, 0.612500011920929, 0.8483999967575073, 0.8371999859809875, 0.2264000028371811, 0.23960000276565552, 0.07909999787807465, 0.3431999981403351, 0.24549999833106995, 0.35249999165534973, 0.12399999797344208, -0.052299998700618744, 0.5430999994277954, -0.10989999771118164, 0.27239999175071716, 0.22339999675750732, -0.09489999711513519, 0.05090000107884407, 0.3434000015258789, 0.1817999929189682, -0.012199999764561653, -0.5185999870300293, -0.12319999933242798, -0.5062000155448914, 0.19380000233650208, 1.549299955368042, 1.5470000505447388, 1.544600009918213, 1.5428999662399292, 1.542099952697754, 1.5355000495910645, 1.5303000211715698, 1.5277999639511108, 1.5270999670028687, 1.5231000185012817, 1.5197999477386475, 1.5162999629974365, 1.5159000158309937, 1.5152000188827515, 1.5125999450683594, 1.5119999647140503, 1.507699966430664, 1.506100058555603, 1.506100058555603, 1.5019999742507935, 1.5019999742507935, 1.499500036239624, 1.4990999698638916, 1.4976999759674072, 1.4974000453948975, 1.4962999820709229, 1.4960999488830566, 1.4951000213623047, 1.4944000244140625, 1.4938000440597534, 1.4545999765396118, 1.4930000305175781, 1.4363000392913818, 1.413699984550476, 1.4890999794006348, 1.467900037765503, 1.287500023841858, 1.3938000202178955, 1.3496999740600586, 1.3134000301361084, 1.4189000129699707, 1.4509999752044678, 1.3408000469207764, 1.2145999670028687, 1.404099941253662, 1.1155999898910522, 1.4610999822616577, 1.3133000135421753, 1.0556999444961548, 1.0953999757766724, 1.007699966430664, 1.1548999547958374, 1.205899953842163, 0.8519999980926514, 1.1098999977111816, 1.187999963760376, 0.45350000262260437, 1.0195000171661377, 0.7677000164985657, 1.2038999795913696, 0.8352000117301941, 0.550599992275238, 1.0285999774932861, 0.599399983882904, 1.0033999681472778, 0.7250000238418579, 0.20589999854564667, 0.5601999759674072, 0.37139999866485596, 0.4034999907016754, 0.3626999855041504, 0.45019999146461487, 0.3206000030040741, 0.3005000054836273, 0.7447999715805054, 0.5263000130653381, -0.36010000109672546, -0.250900000333786, 0.4632999897003174, 0.41510000824928284, -0.004999999888241291, -0.43380001187324524, 0.4521999955177307, -0.16030000150203705, -0.1818999946117401, -0.11760000139474869, -1.6448999643325806, -0.8080000281333923, 1.7051000595092773, 1.6821999549865723, 1.6678999662399292, 1.6656999588012695, 1.6651999950408936, 1.6598999500274658, 1.6593999862670898, 1.6585999727249146, 1.6576000452041626, 1.655400037765503, 1.6545000076293945, 1.6503000259399414, 1.6477999687194824, 1.6477999687194824, 1.6477999687194824, 1.645300030708313, 1.6447999477386475, 1.6441999673843384, 1.6440999507904053, 1.6433000564575195, 1.6431000232696533, 1.6412999629974365, 1.6406999826431274, 1.6404000520706177, 1.63919997215271, 1.6384999752044678, 1.6283999681472778, 1.6276999711990356, 1.6259000301361084, 1.624500036239624, 1.5963000059127808, 1.617799997329712, 1.6088000535964966, 1.5154999494552612, 1.4279999732971191, 1.4434000253677368, 1.2589000463485718, 1.4903000593185425, 1.5219999551773071, 1.3243000507354736, 0.9776999950408936, 1.3453999757766724, 1.3104000091552734, 1.191499948501587, 1.2647000551223755, 1.2891000509262085, 1.5104999542236328, 1.1503000259399414, 1.1792999505996704, 1.142699956893921, 1.20169997215271, 1.326200008392334, 0.9014999866485596, 0.7487999796867371, 1.2314000129699707, 1.0292999744415283, 0.8206999897956848, 0.3529999852180481, 0.44769999384880066, 0.8237000107765198, 0.8925999999046326, 0.5841000080108643, 0.4300999939441681, 0.7371000051498413, 0.5425999760627747, 0.1809999942779541, 0.5443000197410583, 0.2290000021457672, 0.5849000215530396, -0.02979999966919422, 0.04639999940991402, 0.4052000045776367, 0.17749999463558197, -0.3605000078678131, 0.6234999895095825, 0.10930000245571136, 0.5807999968528748, 0.5353000164031982, -0.0674000009894371, 0.5080999732017517, -0.4512999951839447, 1.8006000518798828, 1.7985999584197998, 1.7919000387191772, 1.7908999919891357, 1.7898000478744507, 1.788699984550476, 1.7785999774932861, 1.7771999835968018, 1.7733999490737915, 1.773300051689148, 1.7726000547409058, 1.76419997215271, 1.7640999555587769, 1.7640999555587769, 1.7615000009536743, 1.7598999738693237, 1.7594000101089478, 1.7590999603271484, 1.75600004196167, 1.7547999620437622, 1.753600001335144, 1.753000020980835, 1.7509000301361084, 1.7506999969482422, 1.7479000091552734, 1.746999979019165, 1.7462999820709229, 1.7460999488830566, 1.7411999702453613, 1.7407000064849854, 1.7395999431610107, 1.7309999465942383, 1.687999963760376, 1.6748000383377075, 1.5140000581741333, 1.7116999626159668, 1.6455999612808228, 1.579200029373169, 1.4996000528335571, 1.6216000318527222, 1.430400013923645, 1.4800000190734863, 1.6089999675750732, 1.5964000225067139, 1.3177000284194946, 1.5703999996185303, 1.5815000534057617, 1.2533999681472778, 1.2618999481201172, 1.173200011253357, 1.5075000524520874, 1.2178000211715698, 1.003000020980835, 1.3355000019073486, 1.0658999681472778, 1.5125999450683594, 0.7093999981880188, 1.3912999629974365, 0.7559000253677368, 1.4189000129699707, 1.2187000513076782, 1.3734999895095825, 1.0875999927520752, 0.46790000796318054, 0.6445000171661377, 0.9563999772071838, 0.7300999760627747, 0.5171999931335449, 0.8064000010490417, 0.8198000192642212, 0.8299999833106995, 0.5472999811172485, -0.23109999299049377, -0.22040000557899475, -0.05849999934434891, 0.2281000018119812, 0.6607999801635742, 0.3287999927997589, -0.5393000245094299, -0.17110000550746918, -0.8917999863624573, 0.438400000333786, -1.2092000246047974, -0.8001999855041504, -0.20229999721050262, -0.34929999709129333, -0.8720999956130981, 1.819700002670288, 1.8188999891281128, 1.8158999681472778, 1.8142999410629272, 1.8140000104904175, 1.8134000301361084, 1.8121999502182007, 1.8106000423431396, 1.8085999488830566, 1.8071999549865723, 1.8049999475479126, 1.8049999475479126, 1.8042000532150269, 1.7985999584197998, 1.7985999584197998, 1.7967000007629395, 1.792199969291687, 1.7825000286102295, 1.780900001525879, 1.7806999683380127, 1.7789000272750854, 1.7762999534606934, 1.7762000560760498, 1.7750999927520752, 1.7742999792099, 1.7721999883651733, 1.7710000276565552, 1.7710000276565552, 1.7706999778747559, 1.770300030708313, 1.7680000066757202, 1.7174999713897705, 1.719099998474121, 1.6420999765396118, 1.7395999431610107, 1.6776000261306763, 1.5972000360488892, 1.7196999788284302, 1.624400019645691, 1.4355000257492065, 1.6368999481201172, 1.5973000526428223, 1.5046000480651855, 1.527999997138977, 1.5947999954223633, 1.5372999906539917, 1.5003000497817993, 1.59089994430542, 1.1953999996185303, 1.517799973487854, 1.6327999830245972, 1.279099941253662, 1.2698999643325806, 1.0635000467300415, 1.2354999780654907, 1.2460999488830566, 1.162600040435791, 1.211300015449524, 1.2905999422073364, 0.7764000296592712, 0.8086000084877014, 0.3885999917984009, 1.0303000211715698, 0.7563999891281128, 0.7300999760627747, 0.49320000410079956, 1.0226999521255493, 1.0092999935150146, 1.177899956703186, 0.7232000231742859, 0.7684000134468079, 1.184499979019165, 0.5468999743461609, -0.04699999839067459, 0.22059999406337738, 0.41370001435279846, -0.20810000598430634, 0.7081999778747559, 0.44510000944137573, -0.6830000281333923, 0.016499999910593033, -0.4875999987125397, -0.38029998540878296, -0.8342999815940857, 0.33230000734329224, 0.6972000002861023, -0.45879998803138733]}, \"token.table\": {\"Topic\": [1, 2, 3, 4, 5, 2, 1, 2, 4, 5, 1, 2, 3, 4, 5, 1, 2, 3, 4, 5, 1, 2, 3, 4, 5, 1, 2, 4, 1, 4, 1, 2, 3, 4, 5, 1, 2, 3, 4, 5, 1, 2, 4, 5, 2, 1, 1, 2, 3, 4, 5, 4, 2, 1, 2, 3, 4, 5, 1, 1, 2, 4, 1, 2, 3, 4, 5, 1, 2, 3, 4, 1, 2, 3, 4, 5, 4, 1, 2, 3, 1, 2, 1, 2, 4, 5, 4, 3, 1, 2, 3, 4, 5, 1, 2, 5, 2, 3, 1, 2, 3, 4, 1, 2, 4, 5, 3, 2, 1, 2, 3, 4, 5, 2, 2, 3, 3, 1, 1, 1, 2, 3, 4, 5, 4, 4, 2, 1, 2, 3, 4, 5, 1, 2, 1, 3, 1, 2, 1, 2, 4, 5, 2, 5, 2, 3, 1, 4, 2, 3, 2, 4, 5, 1, 3, 4, 1, 2, 3, 1, 2, 3, 4, 5, 1, 5, 1, 2, 3, 5, 1, 1, 2, 3, 4, 5, 2, 1, 2, 3, 4, 5, 5, 3, 5, 1, 2, 3, 4, 5, 5, 1, 2, 3, 5, 5, 1, 2, 4, 1, 2, 3, 4, 5, 3, 4, 5, 1, 2, 3, 4, 5, 4, 1, 2, 3, 4, 5, 4, 1, 2, 3, 4, 5, 1, 2, 3, 4, 5, 4, 1, 2, 3, 4, 5, 3, 2, 1, 2, 4, 1, 2, 3, 4, 5, 1, 1, 2, 3, 4, 5, 1, 2, 4, 5, 1, 2, 3, 4, 5, 1, 3, 1, 2, 4, 5, 1, 2, 3, 4, 5, 1, 2, 3, 4, 5, 2, 1, 2, 3, 4, 5, 1, 3, 4, 5, 1, 2, 3, 4, 5, 2, 1, 2, 3, 4, 5, 1, 2, 4, 5, 3, 1, 2, 3, 4, 5, 1, 2, 3, 4, 5, 1, 2, 3, 4, 5, 3, 1, 2, 3, 4, 5, 3, 1, 2, 3, 4, 5, 1, 2, 4, 5, 2, 1, 2, 4, 4, 5, 4, 5, 1, 2, 3, 4, 5, 4, 1, 2, 3, 4, 5, 5, 1, 2, 3, 4, 5, 1, 1, 5, 1, 1, 2, 3, 4, 5, 2, 5, 2, 4, 4, 4, 1, 2, 3, 4, 5, 1, 2, 4, 1, 2, 4, 5, 2, 4, 5, 1, 2, 3, 4, 5, 1, 2, 4, 5, 2, 1, 2, 3, 4, 5, 1, 2, 4, 1, 2, 3, 4, 5, 1, 5, 1, 5, 2, 3, 4, 5, 2, 1, 1, 2, 3, 4, 5, 1, 2, 3, 4, 5, 1, 2, 3, 4, 5, 1, 2, 3, 4, 5, 1, 2, 3, 4, 5, 1, 2, 3, 4, 5, 2, 5, 1, 2, 3, 4, 5, 1, 1, 2, 3, 4, 5, 1, 2, 3, 4, 5, 5, 1, 2, 3, 4, 5, 2, 1, 2, 3, 4, 1, 2, 3, 4, 5, 1, 2, 3, 4, 5, 1, 2, 3, 4, 5, 3, 4, 4, 5, 1, 2, 3, 4, 5, 1, 2, 4, 5, 1, 2, 3, 4, 5, 1, 2, 3, 4, 5, 1, 2, 3, 4, 5, 2, 3, 4, 5, 1, 2, 3, 4, 5, 1, 2, 3, 4, 5, 2, 1, 2, 3, 4, 5, 3, 1, 2, 3, 4, 5, 1, 2, 3, 4, 5, 1, 2, 3, 4, 5, 1, 2, 3, 4, 5, 1, 2, 3, 4, 5, 5, 1, 2, 3, 4, 5, 1, 2, 3, 4, 5, 1, 2, 3, 4, 5, 1, 1, 2, 3, 4, 5, 3, 5, 1, 2, 3, 5, 5, 1, 2, 4, 5, 1, 2, 3, 4, 5, 3, 3, 1, 2, 3, 4, 5, 1, 2, 3, 4, 5, 1, 2, 1, 2, 3, 4, 5, 1, 2, 3, 4, 5, 1, 2, 3, 4, 5, 1, 2, 5, 1, 2, 3, 4, 5, 1, 2, 3, 4, 5, 1, 2, 3, 4, 5, 1, 2, 3, 4, 5, 1, 2, 3, 4, 5, 1, 2, 3, 4, 5, 1, 2, 3, 4, 5, 1, 2, 3, 4, 5, 1, 2, 3, 4, 5, 5, 1, 2, 3, 4, 5, 1, 2, 3, 4, 5, 1, 2, 3, 1, 2, 3, 4, 5, 1, 2, 3, 4, 1, 2, 3, 4, 5, 4, 4, 1, 2, 3, 4, 5, 1, 2, 5, 1, 2, 3, 4, 5, 1, 2, 3, 4, 5, 1, 2, 3, 4, 5, 1, 2, 3, 4, 5, 1, 2, 3, 4, 5, 1, 2, 3, 4, 5, 1, 2, 3, 4, 5, 1, 2, 3, 4, 5, 2, 1, 2, 3, 4, 5, 1, 2, 3, 4, 5, 1, 1, 2, 3, 4, 5, 1, 2, 3, 4, 5, 1, 2, 3, 4, 5, 1, 2, 3, 4, 5, 1, 2, 3, 4, 2, 3, 4, 5, 2, 4, 5, 2, 4, 1, 2, 3, 4, 5, 1, 2, 4, 1, 2, 3, 4, 5, 1, 2, 3, 4, 5, 1, 2, 3, 4, 5, 1, 2, 3, 4, 5, 4, 1, 2, 3, 4, 5, 1, 2, 3, 4, 5, 1, 2, 3, 4, 5, 1, 2, 3, 4, 5, 1, 1, 2, 3, 4, 5, 2, 3, 4, 5, 1, 2, 3, 4, 5, 1, 2, 3, 4, 5, 4, 2, 4, 4, 1, 2, 3, 4, 5, 1, 2, 3, 4, 5, 1, 2, 3, 4, 5, 1, 2, 3, 1, 2, 3, 4, 5, 4, 4, 1, 2, 3, 4, 5, 2, 1, 2, 3, 4, 5, 2, 5, 5, 1, 2, 3, 4, 5, 1, 2, 3, 4, 5, 5, 1, 2, 4, 1, 5, 1, 2, 3, 4, 5, 1, 2, 1, 2, 3, 4, 5, 2, 4, 3, 4, 1, 2, 3, 4, 5, 1, 2, 3, 4, 5, 1, 2, 3, 4, 5, 1, 1, 2, 3, 4, 5, 1, 2, 3, 4, 5, 1, 2, 3, 3, 5, 1, 2, 3, 4, 5, 4, 4, 3, 5, 1, 2, 3, 4, 5, 4, 1, 2, 4, 5, 1, 2, 3, 5, 1, 2, 4, 5, 1, 2, 3, 4, 5, 3, 1, 2, 3, 4, 5, 1, 2, 4, 5, 2, 4, 1, 2, 3, 4, 5, 5, 5, 1, 2, 3, 4, 5, 1, 2, 3, 4, 5, 1, 2, 3, 4, 5, 1, 2, 3, 4, 5, 1, 2, 3, 1, 2, 3, 4, 5, 1, 2, 3, 4, 5, 1, 2, 3, 4, 5, 4, 1, 5, 2, 4, 5, 2, 1, 2, 3, 4, 5, 1, 2, 3, 4, 5, 1, 3, 5, 1, 2, 3, 4, 5, 1, 5, 1, 2, 3, 4, 5, 1, 2, 3, 4, 5, 1, 2, 3, 4, 5, 5, 1, 2, 3, 4, 5, 3, 1, 2, 3, 4, 5, 1, 2, 3, 4], \"Freq\": [0.20629815757274628, 0.5530546307563782, 0.19751951098442078, 0.021946612745523453, 0.021946612745523453, 0.9389522671699524, 0.02536219172179699, 0.8369523286819458, 0.05072438344359398, 0.10144876688718796, 0.1905251145362854, 0.7348825931549072, 0.05652942880988121, 0.015702620148658752, 0.003140523796901107, 0.2460782825946808, 0.6187933683395386, 0.05324500799179077, 0.057562172412872314, 0.024463923647999763, 0.33293837308883667, 0.5554087162017822, 0.03682267665863037, 0.03682267665863037, 0.0383569560945034, 0.9267684817314148, 0.01817193068563938, 0.054515790194272995, 0.06848734617233276, 0.8903355002403259, 0.15268781781196594, 0.5829898715019226, 0.1447559893131256, 0.021812545135617256, 0.09716497361660004, 0.3597223460674286, 0.5633387565612793, 0.006787213962525129, 0.0203616414219141, 0.054297711700201035, 0.1557658165693283, 0.05192193761467934, 0.7615217566490173, 0.034614626318216324, 0.8814235925674438, 0.9554309248924255, 0.04018464684486389, 0.308691143989563, 0.06393011659383774, 0.5589318871498108, 0.025572048500180244, 0.877259373664856, 0.940290093421936, 0.16651490330696106, 0.3439687490463257, 0.06198730319738388, 0.3062902092933655, 0.12154372781515121, 0.9313226342201233, 0.16623684763908386, 0.7846379280090332, 0.046546317636966705, 0.9036142230033875, 0.022876311093568802, 0.011438155546784401, 0.057190775871276855, 0.0076254368759691715, 0.9057849049568176, 0.00963601004332304, 0.01927202008664608, 0.06745206564664841, 0.9069520831108093, 0.016692370176315308, 0.01112824585288763, 0.04451298341155052, 0.027820615097880363, 0.9127142429351807, 0.06020018830895424, 0.9030027985572815, 0.888725757598877, 0.9506063461303711, 0.03960859775543213, 0.9300985932350159, 0.008858081884682178, 0.035432327538728714, 0.017716163769364357, 0.9429860711097717, 0.9573215246200562, 0.17146922647953033, 0.34293845295906067, 0.39626121520996094, 0.08364352583885193, 0.006273264531046152, 0.9540047645568848, 0.021200105547904968, 0.021200105547904968, 0.9321019649505615, 0.8829013109207153, 0.9429838061332703, 0.040061403065919876, 0.003081646515056491, 0.012326586060225964, 0.9388521313667297, 0.03718226030468941, 0.009295565076172352, 0.009295565076172352, 0.8887282609939575, 0.9577644467353821, 0.09983757883310318, 0.3693239688873291, 0.017265144735574722, 0.27399036288261414, 0.24021072685718536, 0.9490320086479187, 0.9565490484237671, 0.025172343477606773, 0.9451662302017212, 0.9171136021614075, 0.9761481881141663, 0.07235356420278549, 0.1165696382522583, 0.048235710710287094, 0.5346124768257141, 0.22509998083114624, 0.8812776803970337, 0.9287466406822205, 0.9749094843864441, 0.003815587144345045, 0.35157909989356995, 0.0332501158118248, 0.26545584201812744, 0.3455831706523895, 0.9352669715881348, 0.8729735612869263, 0.11531062424182892, 0.8648296594619751, 0.9599968194961548, 0.024615304544568062, 0.9912260174751282, 0.06693574786186218, 0.2175411731004715, 0.7195593118667603, 0.9632464647293091, 0.8856097459793091, 0.9192858338356018, 0.9379211068153381, 0.9669618606567383, 0.8913319110870361, 0.06700126826763153, 0.8710165619850159, 0.03417692705988884, 0.7177154421806335, 0.25063079595565796, 0.06201609969139099, 0.8682253956794739, 0.06201609969139099, 0.015529230237007141, 0.20187999308109283, 0.7764615416526794, 0.127158984541893, 0.10066753625869751, 0.5483731627464294, 0.16954532265663147, 0.052982911467552185, 0.9334602952003479, 0.916478157043457, 0.26543906331062317, 0.06319978088140488, 0.577224612236023, 0.09269300848245621, 0.9329835772514343, 0.910673201084137, 0.01937602460384369, 0.009688012301921844, 0.06781608611345291, 0.009688012301921844, 0.9284427762031555, 0.11712595820426941, 0.2914619743824005, 0.36761316657066345, 0.06726045161485672, 0.15655450522899628, 0.938055694103241, 0.9542782306671143, 0.9291273951530457, 0.16954703629016876, 0.6146079897880554, 0.07947517186403275, 0.12186192721128464, 0.010596689768135548, 0.9108530282974243, 0.05450193211436272, 0.05450193211436272, 0.9265328645706177, 0.9520624279975891, 0.9504318237304688, 0.9457244873046875, 0.023643111810088158, 0.023643111810088158, 0.8722286224365234, 0.023760182783007622, 0.0064382427372038364, 0.06484230607748032, 0.03265108913183212, 0.9195299744606018, 0.07684412598609924, 0.8837074637413025, 0.7328740954399109, 0.017778616398572922, 0.10667169839143753, 0.0790160745382309, 0.06321285665035248, 0.9706687331199646, 0.07038114964962006, 0.09384153038263321, 0.7976530194282532, 0.023460382595658302, 0.023460382595658302, 0.9767502546310425, 0.25118744373321533, 0.128416046500206, 0.06350244581699371, 0.35984718799591064, 0.19756315648555756, 0.06881783902645111, 0.08999256044626236, 0.058230478316545486, 0.6934720873832703, 0.0846988782286644, 0.9069724082946777, 0.07592825591564178, 0.20166932046413422, 0.06528862565755844, 0.33708277344703674, 0.31967246532440186, 0.9243459701538086, 0.9118335247039795, 0.06817207485437393, 0.034086037427186966, 0.8862370252609253, 0.7276997566223145, 0.05729919672012329, 0.011459838598966599, 0.15757279098033905, 0.045839354395866394, 0.9719609618186951, 0.9083448648452759, 0.029347626492381096, 0.0028631831519305706, 0.055832069367170334, 0.0035789788234978914, 0.007829423062503338, 0.046976540237665176, 0.6341832876205444, 0.3053475022315979, 0.08760049939155579, 0.06257178634405136, 0.05005742982029915, 0.025028714910149574, 0.7633758187294006, 0.059987377375364304, 0.8998106718063354, 0.8896544575691223, 0.009566177614033222, 0.047830887138843536, 0.047830887138843536, 0.2277478128671646, 0.6723983287811279, 0.010845134034752846, 0.02169026806950569, 0.06507080048322678, 0.39510926604270935, 0.24909062683582306, 0.16880667209625244, 0.0923791453242302, 0.09465794265270233, 0.9155599474906921, 0.04750854894518852, 0.09501709789037704, 0.790877640247345, 0.022356964647769928, 0.044713929295539856, 0.9328157901763916, 0.01943366229534149, 0.03886732459068298, 0.01943366229534149, 0.039177488535642624, 0.043095238506793976, 0.00391774857416749, 0.1488744616508484, 0.7600432634353638, 0.901975154876709, 0.1720142960548401, 0.436737596988678, 0.011169759556651115, 0.06701856106519699, 0.31275326013565063, 0.11452897638082504, 0.6413622498512268, 0.14316122233867645, 0.10307607799768448, 0.91768878698349, 0.6361553072929382, 0.02280556783080101, 0.05041230842471123, 0.22445480525493622, 0.06601611524820328, 0.19006586074829102, 0.1436053216457367, 0.05068422853946686, 0.054907914251089096, 0.5617501735687256, 0.37743839621543884, 0.18265940248966217, 0.3635874390602112, 0.010388212278485298, 0.06665769964456558, 0.9464002847671509, 0.19900472462177277, 0.020485779270529747, 0.032191939651966095, 0.19900472462177277, 0.547262966632843, 0.9409744739532471, 0.40447577834129333, 0.32260599732398987, 0.1803084760904312, 0.061402346938848495, 0.031188493594527245, 0.08772329241037369, 0.010965411551296711, 0.1206195279955864, 0.7785442471504211, 0.9369451403617859, 0.8975862264633179, 0.07774368673563004, 0.021202825009822845, 0.19170796871185303, 0.7942187190055847, 0.04844359681010246, 0.9204283356666565, 0.9657498598098755, 0.10616642236709595, 0.0909997895359993, 0.04549989476799965, 0.7583315968513489, 0.9663533568382263, 0.5740997195243835, 0.23174668848514557, 0.15349455177783966, 0.03009697236120701, 0.011286364868283272, 0.9721184372901917, 0.18710598349571228, 0.01744208298623562, 0.239432230591774, 0.5549753308296204, 0.0015856438549235463, 0.9721038937568665, 0.976058840751648, 0.0154929980635643, 0.9782528877258301, 0.1727694571018219, 0.3547532856464386, 0.1013580858707428, 0.15587644279003143, 0.21500200033187866, 0.8465744256973267, 0.9458923935890198, 0.8904350996017456, 0.936600923538208, 0.9005182981491089, 0.9047765731811523, 0.18169128894805908, 0.24294720590114594, 0.28862959146499634, 0.11835889518260956, 0.1681942194700241, 0.9651556611061096, 0.014193465933203697, 0.014193465933203697, 0.04609506204724312, 0.02880941331386566, 0.708711564540863, 0.21318966150283813, 0.044026829302310944, 0.8218342065811157, 0.11740488559007645, 0.2827666997909546, 0.13128453493118286, 0.2672300636768341, 0.06628963351249695, 0.252211332321167, 0.008617371320724487, 0.05170423164963722, 0.17234744131565094, 0.7583287358283997, 0.9430646896362305, 0.16768844425678253, 0.14237698912620544, 0.060114726424217224, 0.12655732035636902, 0.5030653476715088, 0.9539220929145813, 0.02625473588705063, 0.017503157258033752, 0.23813486099243164, 0.20575687289237976, 0.31124642491340637, 0.1441342532634735, 0.10026730597019196, 0.9479949474334717, 0.9681745171546936, 0.025193314999341965, 0.9573459625244141, 0.01530402060598135, 0.01530402060598135, 0.045912060886621475, 0.9335452318191528, 0.8544058799743652, 0.937900960445404, 0.3475305438041687, 0.0485953725874424, 0.11338920146226883, 0.05743089318275452, 0.4314679801464081, 0.24561157822608948, 0.013977895490825176, 0.043930526822805405, 0.5910652875900269, 0.10583263635635376, 0.715228796005249, 0.10518071055412292, 0.037397585809230804, 0.08414456248283386, 0.06077107414603233, 0.4379849433898926, 0.11979074776172638, 0.023396631702780724, 0.32848870754241943, 0.08984306454658508, 0.534912109375, 0.021700289100408554, 0.05967579409480095, 0.17468732595443726, 0.20832276344299316, 0.07287824898958206, 0.21122339367866516, 0.3273344933986664, 0.07905437052249908, 0.3088061511516571, 0.8721280694007874, 0.9722971320152283, 0.16315105557441711, 0.041702285408973694, 0.1580297201871872, 0.45945677161216736, 0.17705181241035461, 0.9592038989067078, 0.1272890418767929, 0.03889387473464012, 0.06010871380567551, 0.07778774946928024, 0.6930181384086609, 0.8892951607704163, 0.08337142318487167, 0.00926349125802517, 0.01852698251605034, 0.00926349125802517, 0.9345465898513794, 0.2706315517425537, 0.2533572018146515, 0.42466121912002563, 0.02591153234243393, 0.02591153234243393, 0.8772727847099304, 0.03910102695226669, 0.019550513476133347, 0.07820205390453339, 0.860222578048706, 0.05238467454910278, 0.017461558803915977, 0.6460776329040527, 0.08730778843164444, 0.20080791413784027, 0.7115218043327332, 0.04960127919912338, 0.18985316157341003, 0.001710388925857842, 0.04789089038968086, 0.12152466177940369, 0.2256886512041092, 0.5659577250480652, 0.0034721330739557743, 0.08333119750022888, 0.9412654638290405, 0.06723324954509735, 0.8700219392776489, 0.09158125519752502, 0.32708796858787537, 0.3034836947917938, 0.2992686331272125, 0.03709245100617409, 0.032877400517463684, 0.009137149900197983, 0.1096457988023758, 0.6578747630119324, 0.22842873632907867, 0.408547967672348, 0.16890498995780945, 0.1626492589712143, 0.19874006509780884, 0.06111377105116844, 0.03677172586321831, 0.11567772179841995, 0.725475549697876, 0.11567772179841995, 0.0061286212876439095, 0.20113490521907806, 0.14526410400867462, 0.48719343543052673, 0.04693147912621498, 0.11844611167907715, 0.10020800679922104, 0.020041601732373238, 0.7816224098205566, 0.10020800679922104, 0.32390296459198, 0.41893234848976135, 0.07629119604825974, 0.12045978009700775, 0.060229890048503876, 0.39000722765922546, 0.041831422597169876, 0.12124821543693542, 0.3219132125377655, 0.12502248585224152, 0.8987767696380615, 0.06771783530712128, 0.13022659718990326, 0.6302967667579651, 0.05729970335960388, 0.11459940671920776, 0.9078031778335571, 0.3860452473163605, 0.5694167017936707, 0.014476696029305458, 0.02412782795727253, 0.009651130996644497, 0.11877422779798508, 0.8674760460853577, 0.004241936840116978, 0.004241936840116978, 0.006362904794514179, 0.09679222851991653, 0.4675247073173523, 0.427346795797348, 0.003652536775916815, 0.005478805396705866, 0.2951244115829468, 0.039176806807518005, 0.46221858263015747, 0.12565933167934418, 0.07778910547494888, 0.21525819599628448, 0.13139136135578156, 0.019568927586078644, 0.11461799591779709, 0.5171787738800049, 0.9527416229248047, 0.17523503303527832, 0.11174408346414566, 0.08126842230558395, 0.4698330760002136, 0.16507647931575775, 0.13641399145126343, 0.15824022889137268, 0.5456559658050537, 0.008184839971363544, 0.15278367698192596, 0.7179781198501587, 0.024853089824318886, 0.022091634571552277, 0.09665090590715408, 0.13807271420955658, 0.9698517322540283, 0.21061387658119202, 0.19726510345935822, 0.1112397164106369, 0.36338308453559875, 0.11717250198125839, 0.8773084282875061, 0.07975531369447708, 0.08448141068220139, 0.844814121723175, 0.04224070534110069, 0.8825737833976746, 0.9258623123168945, 0.02152385003864765, 0.010761925019323826, 0.9255255460739136, 0.0430477000772953, 0.01692008413374424, 0.028200138360261917, 0.022560110315680504, 0.9136844873428345, 0.01692008413374424, 0.9542651176452637, 0.9405003190040588, 0.022635584697127342, 0.18108467757701874, 0.01697668805718422, 0.7696098685264587, 0.011317792348563671, 0.18514271080493927, 0.08554448932409286, 0.6122541427612305, 0.01955302618443966, 0.09745961427688599, 0.9816539287567139, 0.021814530715346336, 0.013711275532841682, 0.1639120727777481, 0.01994367316365242, 0.7198419570922852, 0.08289089798927307, 0.15105842053890228, 0.08714909106492996, 0.017429817467927933, 0.24401745200157166, 0.4996547996997833, 0.8720349669456482, 0.055543627589941025, 0.01110872533172369, 0.024068905040621758, 0.03702908381819725, 0.9471293687820435, 0.009764219634234905, 0.03905687853693962, 0.9521697163581848, 0.030964870005846024, 0.007741217501461506, 0.007741217501461506, 0.007741217501461506, 0.012790036387741566, 0.39831826090812683, 0.5718973278999329, 0.0036542960442602634, 0.012790036387741566, 0.08152404427528381, 0.03170379251241684, 0.8560024499893188, 0.018116453662514687, 0.009058226831257343, 0.05802147462964058, 0.17406442761421204, 0.0483512282371521, 0.01934049092233181, 0.7059279680252075, 0.6501772999763489, 0.035200681537389755, 0.017600340768694878, 0.1304495930671692, 0.1666855812072754, 0.023955147713422775, 0.09810203313827515, 0.006844327785074711, 0.07528761029243469, 0.7962234616279602, 0.031038112938404083, 0.06828384846448898, 0.01862286776304245, 0.024830490350723267, 0.8566519021987915, 0.18739520013332367, 0.2792113125324249, 0.20771516859531403, 0.13358493149280548, 0.1919107437133789, 0.1651969701051712, 0.12518031895160675, 0.18674440681934357, 0.07695510983467102, 0.4463396668434143, 0.9373759031295776, 0.8184133768081665, 0.08276090025901794, 0.005108697805553675, 0.033717405050992966, 0.0602826327085495, 0.1081259623169899, 0.18535879254341125, 0.13239912688732147, 0.24162842333316803, 0.33210116624832153, 0.21470125019550323, 0.7597121000289917, 0.01651548035442829, 0.28146126866340637, 0.11547128856182098, 0.3953287899494171, 0.12429201602935791, 0.08339592814445496, 0.07857859879732132, 0.11786789447069168, 0.01964464969933033, 0.7661413550376892, 0.27863749861717224, 0.3191329836845398, 0.20844528079032898, 0.12702800333499908, 0.06692414730787277, 0.8972041010856628, 0.897038459777832, 0.020934412255883217, 0.81644207239151, 0.010467206127941608, 0.07327044010162354, 0.08373764902353287, 0.9413723349571228, 0.019211681559681892, 0.019211681559681892, 0.019031140953302383, 0.03806228190660477, 0.09515570849180222, 0.7993079423904419, 0.05709342285990715, 0.030108807608485222, 0.09534455835819244, 0.6674119234085083, 0.08029015362262726, 0.12545336782932281, 0.09596932679414749, 0.10967922955751419, 0.6525914072990417, 0.00822594203054905, 0.1343570500612259, 0.03343861922621727, 0.21887096762657166, 0.006079749204218388, 0.1884722262620926, 0.553257167339325, 0.8751017451286316, 0.08036648482084274, 0.017859218642115593, 0.026788828894495964, 0.008929609321057796, 0.2603835463523865, 0.07424159348011017, 0.2969663739204407, 0.2593075931072235, 0.10974843800067902, 0.2746752202510834, 0.14450553059577942, 0.29990634322166443, 0.04816851392388344, 0.2328144758939743, 0.13923458755016327, 0.30727630853652954, 0.08354074507951736, 0.2458210587501526, 0.22469580173492432, 0.9645395278930664, 0.211329847574234, 0.028601033613085747, 0.025423141196370125, 0.08739204704761505, 0.6474956274032593, 0.788299024105072, 0.010237650014460087, 0.17745259404182434, 0.0034125498495996, 0.017062749713659286, 0.9729616641998291, 0.03542875871062279, 0.18501685559749603, 0.11022280156612396, 0.6022889018058777, 0.06692098826169968, 0.10619445145130157, 0.8337164521217346, 0.010799435898661613, 0.036718081682920456, 0.012599341571331024, 0.1397179663181305, 0.007762109395116568, 0.007762109395116568, 0.628730833530426, 0.21733905375003815, 0.8689540028572083, 0.031407974660396576, 0.006979550234973431, 0.0663057267665863, 0.027918200939893723, 0.9605244994163513, 0.006446473300457001, 0.012892946600914001, 0.019339419901371002, 0.014442856423556805, 0.014442856423556805, 0.8521285653114319, 0.11554285138845444, 0.014694471843540668, 0.9404461979866028, 0.014694471843540668, 0.9644618034362793, 0.9339461922645569, 0.077012799680233, 0.145468607544899, 0.42870455980300903, 0.03166081756353378, 0.31746384501457214, 0.05753488093614578, 0.8630232214927673, 0.05753488093614578, 0.30701744556427, 0.31781989336013794, 0.2609648108482361, 0.0562865287065506, 0.057423628866672516, 0.07554157078266144, 0.6798741221427917, 0.008393507450819016, 0.06714805960655212, 0.1678701490163803, 0.04320833086967468, 0.08641666173934937, 0.02160416543483734, 0.06481249630451202, 0.7777499556541443, 0.04426291957497597, 0.6639438271522522, 0.017705168575048447, 0.017705168575048447, 0.2567249536514282, 0.9341569542884827, 0.5294776558876038, 0.03368233144283295, 0.18214201927185059, 0.14931784570217133, 0.1053377315402031, 0.2043875753879547, 0.0040075997821986675, 0.7373983263969421, 0.04007599502801895, 0.01603039912879467, 0.4422374367713928, 0.07363318651914597, 0.3120644688606262, 0.12929637730121613, 0.04295269399881363, 0.43833839893341064, 0.2938394248485565, 0.11060874909162521, 0.11172601580619812, 0.04543524608016014, 0.962344765663147, 0.09305566549301147, 0.12628982961177826, 0.01994049921631813, 0.053174663335084915, 0.7112111449241638, 0.021120229735970497, 0.010560114867985249, 0.05280057340860367, 0.9187300205230713, 0.702153205871582, 0.023224472999572754, 0.03328841179609299, 0.1950855702161789, 0.04644894599914551, 0.13913922011852264, 0.7706171870231628, 0.021406034007668495, 0.010703017003834248, 0.04281206801533699, 0.9249827265739441, 0.940304696559906, 0.04274112358689308, 0.9403730034828186, 0.045717041939496994, 0.17275767028331757, 0.014945955947041512, 0.43167439103126526, 0.3349652588367462, 0.014940732158720493, 0.01992097683250904, 0.006640325300395489, 0.5345461964607239, 0.4233207404613495, 0.019595418125391006, 0.08926801383495331, 0.12845885753631592, 0.269981324672699, 0.4920627176761627, 0.026950005441904068, 0.0808500200510025, 0.889350175857544, 0.3732583522796631, 0.09142562747001648, 0.3120560646057129, 0.08840329200029373, 0.1344939023256302, 0.9647854566574097, 0.9426509141921997, 0.9186385869979858, 0.04488462209701538, 0.002992308000102639, 0.014961540699005127, 0.017953848466277122, 0.9472570419311523, 0.32130053639411926, 0.4266732931137085, 0.00518226670101285, 0.21765519678592682, 0.029366176575422287, 0.9622295498847961, 0.9085733294487, 0.9302384257316589, 0.05772308632731438, 0.18005366623401642, 0.1318628340959549, 0.30185467004776, 0.32833313941955566, 0.009266349487006664, 0.027799047529697418, 0.9173685908317566, 0.009266349487006664, 0.03706539794802666, 0.9368386268615723, 0.07293595373630524, 0.07293595373630524, 0.8752314448356628, 0.16641418635845184, 0.8320708870887756, 0.2586005628108978, 0.31914594769477844, 0.3242768943309784, 0.048231057822704315, 0.049257248640060425, 0.038440536707639694, 0.9225728511810303, 0.8862118721008301, 0.04121915623545647, 0.05152394622564316, 0.010304789058864117, 0.010304789058864117, 0.8764479756355286, 0.07967709004878998, 0.9815916419029236, 0.9022579193115234, 0.0332353413105011, 0.059085048735141754, 0.6167002320289612, 0.025849709287285805, 0.2695755362510681, 0.03214317932724953, 0.06887824088335037, 0.16989967226982117, 0.22041037678718567, 0.5087806582450867, 0.045964036136865616, 0.10341908037662506, 0.15266625583171844, 0.26921790838241577, 0.42845046520233154, 0.9432376027107239, 0.22976389527320862, 0.4753735661506653, 0.22536228597164154, 0.04313575103878975, 0.025529321283102036, 0.0569298230111599, 0.03895198553800583, 0.15580794215202332, 0.6621837019920349, 0.08689288794994354, 0.9721490740776062, 0.040506210178136826, 0.8512983322143555, 0.8479062914848328, 0.9157936573028564, 0.15455125272274017, 0.17708998918533325, 0.03541799634695053, 0.09659453481435776, 0.5344897508621216, 0.9374369382858276, 0.8812727928161621, 0.9394393563270569, 0.8953255414962769, 0.12563130259513855, 0.6072179675102234, 0.06879809498786926, 0.13759618997573853, 0.05982442945241928, 0.892740786075592, 0.027380505576729774, 0.8214151859283447, 0.1095220223069191, 0.027380505576729774, 0.04123292118310928, 0.08246584236621857, 0.04123292118310928, 0.8658913373947144, 0.023124534636735916, 0.03083271160721779, 0.015416355803608894, 0.9326895475387573, 0.33657902479171753, 0.14145763218402863, 0.24749720096588135, 0.047224096953868866, 0.22721229493618011, 0.9518992900848389, 0.01495672669261694, 0.09721872210502625, 0.16452398896217346, 0.02991345338523388, 0.6880094408988953, 0.013245105743408203, 0.026490211486816406, 0.715235710144043, 0.22516679763793945, 0.8611046671867371, 0.09064259380102158, 0.26913729310035706, 0.24479320645332336, 0.0743846744298935, 0.3543415367603302, 0.056802842766046524, 0.8823964595794678, 0.8504160642623901, 0.38867077231407166, 0.2736559510231018, 0.19389472901821136, 0.04538899287581444, 0.0978287011384964, 0.24694128334522247, 0.04216070845723152, 0.5962728261947632, 0.01204591616988182, 0.10239028930664062, 0.006805382203310728, 0.006805382203310728, 0.8983104228973389, 0.08166458457708359, 0.006805382203310728, 0.8132747411727905, 0.058310266584157944, 0.024551691487431526, 0.08593092113733292, 0.018413767218589783, 0.19105784595012665, 0.031842973083257675, 0.7960743308067322, 0.15937727689743042, 0.009961079806089401, 0.6574312448501587, 0.16933836042881012, 0.009961079806089401, 0.35211193561553955, 0.157856285572052, 0.2721465229988098, 0.07110133767127991, 0.14691762626171112, 0.7281707525253296, 0.12222251296043396, 0.09123652428388596, 0.02410021424293518, 0.03270743414759636, 0.926111102104187, 0.07646795362234116, 0.8793814778327942, 0.02153240516781807, 0.7966989874839783, 0.17225924134254456, 0.9480494260787964, 0.170184925198555, 0.20450793206691742, 0.1394372284412384, 0.2202393114566803, 0.2660033106803894, 0.05733964219689369, 0.6820399761199951, 0.24143007397651672, 0.012071503326296806, 0.006035751663148403, 0.04763011261820793, 0.8573420643806458, 0.04763011261820793, 0.09304627776145935, 0.051025379449129105, 0.12306120991706848, 0.20110002160072327, 0.5312642455101013, 0.07771781831979752, 0.8937548995018005, 0.009762170724570751, 0.07809736579656601, 0.009762170724570751, 0.04392976686358452, 0.8590710163116455, 0.3023287057876587, 0.0880957841873169, 0.011011973023414612, 0.5115562081336975, 0.08709469437599182, 0.2490563839673996, 0.1409388780593872, 0.17376026511192322, 0.4112326204776764, 0.023168034851551056, 0.8722158074378967, 0.39745989441871643, 0.09045638889074326, 0.21874000132083893, 0.2527296841144562, 0.04056832194328308, 0.9496100544929504, 0.12038496881723404, 0.8526234030723572, 0.015720373019576073, 0.009514963254332542, 0.001654776162467897, 0.22158244252204895, 0.7555598020553589, 0.021794993430376053, 0.003632499137893319], \"Term\": [\"1\", \"1\", \"1\", \"1\", \"1\", \"1000\", \"11\", \"11\", \"11\", \"11\", \"2\", \"2\", \"2\", \"2\", \"2\", \"3\", \"3\", \"3\", \"3\", \"3\", \"4\", \"4\", \"4\", \"4\", \"4\", \"48\", \"48\", \"48\", \"49\", \"49\", \"5\", \"5\", \"5\", \"5\", \"5\", \"6\", \"6\", \"6\", \"6\", \"6\", \"60\", \"60\", \"60\", \"60\", \"65\", \"69\", \"7\", \"7\", \"7\", \"7\", \"7\", \"7inch\", \"7yr\", \"8\", \"8\", \"8\", \"8\", \"8\", \"87\", \"9\", \"9\", \"9\", \"AA\", \"AA\", \"AA\", \"AA\", \"AA\", \"AAA\", \"AAA\", \"AAA\", \"AAA\", \"AmazonBasics\", \"AmazonBasics\", \"AmazonBasics\", \"AmazonBasics\", \"AmazonBasics\", \"Australia\", \"BB\", \"BB\", \"BLACK\", \"Basic\", \"Basic\", \"Basics\", \"Basics\", \"Basics\", \"Basics\", \"Bestbuy\", \"Child\", \"Christmas\", \"Christmas\", \"Christmas\", \"Christmas\", \"Christmas\", \"Costco\", \"Costco\", \"Costco\", \"Customer\", \"Download\", \"Duracell\", \"Duracell\", \"Duracell\", \"Duracell\", \"Energizer\", \"Energizer\", \"Energizer\", \"Energizer\", \"FRIDAY\", \"February\", \"Fire\", \"Fire\", \"Fire\", \"Fire\", \"Fire\", \"Free\", \"Freetime\", \"Freetime\", \"GREAT\", \"Grandaughter\", \"Granddaughter\", \"HD\", \"HD\", \"HD\", \"HD\", \"HD\", \"HD7\", \"Keyboard\", \"Kid\", \"Kindle\", \"Kindle\", \"Kindle\", \"Kindle\", \"Kindle\", \"Kirkland\", \"March\", \"Mom\", \"Mom\", \"Nabi\", \"Nabi\", \"Nvidia\", \"Oasis\", \"Oasis\", \"Oasis\", \"October\", \"Portable\", \"Ray\", \"Set\", \"Shield\", \"USA\", \"User\", \"User\", \"Voyage\", \"Voyage\", \"Voyage\", \"accidental\", \"accidental\", \"accidental\", \"activity\", \"activity\", \"activity\", \"add\", \"add\", \"add\", \"add\", \"add\", \"addicted\", \"adjustable\", \"adult\", \"adult\", \"adult\", \"adult\", \"aim\", \"alkaline\", \"alkaline\", \"alkaline\", \"alkaline\", \"alkaline\", \"alphabet\", \"app\", \"app\", \"app\", \"app\", \"app\", \"appointment\", \"apps.16\", \"arm\", \"ask\", \"ask\", \"ask\", \"ask\", \"ask\", \"asleep\", \"assistance\", \"assistance\", \"assistance\", \"aswell\", \"audible.com\", \"batch\", \"batch\", \"batch\", \"battery\", \"battery\", \"battery\", \"battery\", \"battery\", \"baught\", \"beach\", \"beach\", \"beat\", \"beat\", \"beat\", \"beat\", \"beat\", \"bedtime\", \"benefit\", \"benefit\", \"benefit\", \"benefit\", \"benefit\", \"bezel\", \"big\", \"big\", \"big\", \"big\", \"big\", \"black\", \"black\", \"black\", \"black\", \"black\", \"blank\", \"book\", \"book\", \"book\", \"book\", \"book\", \"booklet\", \"bored\", \"borrow\", \"borrow\", \"borrow\", \"box\", \"box\", \"box\", \"box\", \"box\", \"boyfriend\", \"brand\", \"brand\", \"brand\", \"brand\", \"brand\", \"browse\", \"browse\", \"browse\", \"browse\", \"browsing\", \"browsing\", \"browsing\", \"browsing\", \"browsing\", \"buffer\", \"buffer\", \"bulk\", \"bulk\", \"bulk\", \"bulk\", \"busy\", \"busy\", \"busy\", \"busy\", \"busy\", \"buy\", \"buy\", \"buy\", \"buy\", \"buy\", \"cancel\", \"card\", \"card\", \"card\", \"card\", \"card\", \"cardboard\", \"cardboard\", \"cardboard\", \"cardboard\", \"carry\", \"carry\", \"carry\", \"carry\", \"carry\", \"character\", \"charge\", \"charge\", \"charge\", \"charge\", \"charge\", \"charger\", \"charger\", \"charger\", \"charger\", \"charm\", \"cheap\", \"cheap\", \"cheap\", \"cheap\", \"cheap\", \"check\", \"check\", \"check\", \"check\", \"check\", \"child\", \"child\", \"child\", \"child\", \"child\", \"citizen\", \"clear\", \"clear\", \"clear\", \"clear\", \"clear\", \"code\", \"come\", \"come\", \"come\", \"come\", \"come\", \"compact\", \"compact\", \"compact\", \"compact\", \"construct\", \"controller\", \"controller\", \"controller\", \"crisp\", \"crisp\", \"crystal\", \"crystal\", \"curfew\", \"dark\", \"dark\", \"dark\", \"dark\", \"darn\", \"daughter\", \"daughter\", \"daughter\", \"daughter\", \"daughter\", \"daugther\", \"deal\", \"deal\", \"deal\", \"deal\", \"deal\", \"def\", \"delivery\", \"delivery\", \"detector\", \"device\", \"device\", \"device\", \"device\", \"device\", \"dinner\", \"disable\", \"disappear\", \"dispute\", \"distribute\", \"dosent\", \"download\", \"download\", \"download\", \"download\", \"download\", \"duracell\", \"duracell\", \"duracell\", \"e\", \"e\", \"e\", \"e\", \"early\", \"early\", \"early\", \"easy\", \"easy\", \"easy\", \"easy\", \"easy\", \"ebook\", \"ebook\", \"ebook\", \"ebook\", \"editing\", \"email\", \"email\", \"email\", \"email\", \"email\", \"energizer\", \"energizer\", \"energizer\", \"enjoy\", \"enjoy\", \"enjoy\", \"enjoy\", \"enjoy\", \"enjoyment\", \"ensure\", \"entry\", \"entry\", \"ereader\", \"ereader\", \"ereader\", \"ereader\", \"error\", \"everytime\", \"excellent\", \"excellent\", \"excellent\", \"excellent\", \"excellent\", \"expect\", \"expect\", \"expect\", \"expect\", \"expect\", \"expensive\", \"expensive\", \"expensive\", \"expensive\", \"expensive\", \"far\", \"far\", \"far\", \"far\", \"far\", \"fast\", \"fast\", \"fast\", \"fast\", \"fast\", \"feature\", \"feature\", \"feature\", \"feature\", \"feature\", \"fighting\", \"fir\", \"fire\", \"fire\", \"fire\", \"fire\", \"fire\", \"firestick\", \"fit\", \"fit\", \"fit\", \"fit\", \"fit\", \"flashlight\", \"flashlight\", \"flashlight\", \"flashlight\", \"flashlight\", \"forth\", \"free\", \"free\", \"free\", \"free\", \"free\", \"freebie\", \"friday\", \"friday\", \"friday\", \"friday\", \"friend\", \"friend\", \"friend\", \"friend\", \"friend\", \"friendly\", \"friendly\", \"friendly\", \"friendly\", \"friendly\", \"fun\", \"fun\", \"fun\", \"fun\", \"fun\", \"fuss\", \"fuss\", \"galaxy\", \"galaxy\", \"game\", \"game\", \"game\", \"game\", \"game\", \"generation\", \"generation\", \"generation\", \"generation\", \"get\", \"get\", \"get\", \"get\", \"get\", \"gift\", \"gift\", \"gift\", \"gift\", \"gift\", \"give\", \"give\", \"give\", \"give\", \"give\", \"glare\", \"glare\", \"glare\", \"glare\", \"go\", \"go\", \"go\", \"go\", \"go\", \"good\", \"good\", \"good\", \"good\", \"good\", \"goodness\", \"google\", \"google\", \"google\", \"google\", \"google\", \"graduate\", \"grand\", \"grand\", \"grand\", \"grand\", \"grand\", \"granddaughter\", \"granddaughter\", \"granddaughter\", \"granddaughter\", \"granddaughter\", \"grandson\", \"grandson\", \"grandson\", \"grandson\", \"grandson\", \"great\", \"great\", \"great\", \"great\", \"great\", \"hand\", \"hand\", \"hand\", \"hand\", \"hand\", \"handed\", \"hd\", \"hd\", \"hd\", \"hd\", \"hd\", \"help\", \"help\", \"help\", \"help\", \"help\", \"high\", \"high\", \"high\", \"high\", \"high\", \"hooked\", \"iPad\", \"iPad\", \"iPad\", \"iPad\", \"iPad\", \"iPads\", \"iPads\", \"icon\", \"icon\", \"icon\", \"immensely\", \"improved\", \"improvement\", \"improvement\", \"improvement\", \"improvement\", \"inch\", \"inch\", \"inch\", \"inch\", \"inch\", \"internet.1.5\", \"jack\", \"keyboard\", \"keyboard\", \"keyboard\", \"keyboard\", \"keyboard\", \"kid\", \"kid\", \"kid\", \"kid\", \"kid\", \"kiddo\", \"kiddo\", \"kindle\", \"kindle\", \"kindle\", \"kindle\", \"kindle\", \"large\", \"large\", \"large\", \"large\", \"large\", \"last\", \"last\", \"last\", \"last\", \"last\", \"lasting\", \"lasting\", \"lasting\", \"leak\", \"leak\", \"leak\", \"leak\", \"leak\", \"learn\", \"learn\", \"learn\", \"learn\", \"learn\", \"learning\", \"learning\", \"learning\", \"learning\", \"learning\", \"level\", \"level\", \"level\", \"level\", \"level\", \"life\", \"life\", \"life\", \"life\", \"life\", \"light\", \"light\", \"light\", \"light\", \"light\", \"lightweight\", \"lightweight\", \"lightweight\", \"lightweight\", \"lightweight\", \"like\", \"like\", \"like\", \"like\", \"like\", \"little\", \"little\", \"little\", \"little\", \"little\", \"logic\", \"long\", \"long\", \"long\", \"long\", \"long\", \"look\", \"look\", \"look\", \"look\", \"look\", \"loose\", \"loose\", \"loose\", \"lot\", \"lot\", \"lot\", \"lot\", \"lot\", \"loud\", \"loud\", \"loud\", \"loud\", \"love\", \"love\", \"love\", \"love\", \"love\", \"mA\", \"mAh\", \"magazine\", \"magazine\", \"magazine\", \"magazine\", \"magazine\", \"maneuver\", \"maneuver\", \"maneuver\", \"material\", \"material\", \"material\", \"material\", \"material\", \"member\", \"member\", \"member\", \"member\", \"member\", \"memory\", \"memory\", \"memory\", \"memory\", \"memory\", \"model\", \"model\", \"model\", \"model\", \"model\", \"mouse\", \"mouse\", \"mouse\", \"mouse\", \"mouse\", \"movie\", \"movie\", \"movie\", \"movie\", \"movie\", \"need\", \"need\", \"need\", \"need\", \"need\", \"new\", \"new\", \"new\", \"new\", \"new\", \"newstand\", \"nice\", \"nice\", \"nice\", \"nice\", \"nice\", \"niece\", \"niece\", \"niece\", \"niece\", \"niece\", \"novice\", \"ok\", \"ok\", \"ok\", \"ok\", \"ok\", \"old\", \"old\", \"old\", \"old\", \"old\", \"own\", \"own\", \"own\", \"own\", \"own\", \"pack\", \"pack\", \"pack\", \"pack\", \"pack\", \"packaging\", \"packaging\", \"packaging\", \"packaging\", \"paper\", \"paper\", \"paper\", \"paper\", \"paperwhite\", \"paperwhite\", \"paperwhite\", \"partly\", \"pen\", \"perfect\", \"perfect\", \"perfect\", \"perfect\", \"perfect\", \"pin\", \"pin\", \"pin\", \"play\", \"play\", \"play\", \"play\", \"play\", \"plug\", \"plug\", \"plug\", \"plug\", \"plug\", \"pocket\", \"pocket\", \"pocket\", \"pocket\", \"pocket\", \"port\", \"port\", \"port\", \"port\", \"port\", \"practical\", \"price\", \"price\", \"price\", \"price\", \"price\", \"prime\", \"prime\", \"prime\", \"prime\", \"prime\", \"product\", \"product\", \"product\", \"product\", \"product\", \"purchase\", \"purchase\", \"purchase\", \"purchase\", \"purchase\", \"purple\", \"purpose\", \"purpose\", \"purpose\", \"purpose\", \"purpose\", \"purse\", \"purse\", \"purse\", \"purse\", \"quality\", \"quality\", \"quality\", \"quality\", \"quality\", \"question\", \"question\", \"question\", \"question\", \"question\", \"quirk\", \"quit\", \"quit\", \"rain\", \"read\", \"read\", \"read\", \"read\", \"read\", \"reader\", \"reader\", \"reader\", \"reader\", \"reader\", \"reading\", \"reading\", \"reading\", \"reading\", \"reading\", \"recipient\", \"recipient\", \"recipient\", \"recommend\", \"recommend\", \"recommend\", \"recommend\", \"recommend\", \"refund\", \"related\", \"remote\", \"remote\", \"remote\", \"remote\", \"remote\", \"repair\", \"replace\", \"replace\", \"replace\", \"replace\", \"replace\", \"responsibility\", \"responsiveness\", \"savy\", \"screen\", \"screen\", \"screen\", \"screen\", \"screen\", \"sd\", \"sd\", \"sd\", \"sd\", \"sd\", \"secondary\", \"sensitivity\", \"sensitivity\", \"sensitivity\", \"serve\", \"serve\", \"set\", \"set\", \"set\", \"set\", \"set\", \"seven\", \"seven\", \"shipping\", \"shipping\", \"shipping\", \"shipping\", \"shipping\", \"shortly\", \"shortly\", \"sibling\", \"signal\", \"simple\", \"simple\", \"simple\", \"simple\", \"simple\", \"size\", \"size\", \"size\", \"size\", \"size\", \"small\", \"small\", \"small\", \"small\", \"small\", \"solitaire\", \"son\", \"son\", \"son\", \"son\", \"son\", \"sound\", \"sound\", \"sound\", \"sound\", \"sound\", \"span\", \"span\", \"spill\", \"sport\", \"stair\", \"start\", \"start\", \"start\", \"start\", \"start\", \"stepkid\", \"sub\", \"suggestion\", \"suited\", \"sure\", \"sure\", \"sure\", \"sure\", \"sure\", \"sweet\", \"swipe\", \"swipe\", \"swipe\", \"swipe\", \"sync\", \"sync\", \"sync\", \"sync\", \"table\", \"table\", \"table\", \"table\", \"tablet\", \"tablet\", \"tablet\", \"tablet\", \"tablet\", \"tank\", \"tech\", \"tech\", \"tech\", \"tech\", \"tech\", \"text\", \"text\", \"text\", \"text\", \"textbook\", \"textbook\", \"think\", \"think\", \"think\", \"think\", \"think\", \"thirty\", \"throughly\", \"time\", \"time\", \"time\", \"time\", \"time\", \"ton\", \"ton\", \"ton\", \"ton\", \"ton\", \"tool\", \"tool\", \"tool\", \"tool\", \"tool\", \"toy\", \"toy\", \"toy\", \"toy\", \"toy\", \"underground\", \"underground\", \"underground\", \"understand\", \"understand\", \"understand\", \"understand\", \"understand\", \"use\", \"use\", \"use\", \"use\", \"use\", \"user\", \"user\", \"user\", \"user\", \"user\", \"vision\", \"visual\", \"visual\", \"voyage\", \"voyage\", \"voyage\", \"wallpaper\", \"want\", \"want\", \"want\", \"want\", \"want\", \"warranty\", \"warranty\", \"warranty\", \"warranty\", \"warranty\", \"watching\", \"watching\", \"watching\", \"web\", \"web\", \"web\", \"web\", \"web\", \"weigh\", \"weigh\", \"weight\", \"weight\", \"weight\", \"weight\", \"weight\", \"well\", \"well\", \"well\", \"well\", \"well\", \"wife\", \"wife\", \"wife\", \"wife\", \"wife\", \"wizard\", \"work\", \"work\", \"work\", \"work\", \"work\", \"xmas\", \"year\", \"year\", \"year\", \"year\", \"year\", \"yr\", \"yr\", \"yr\", \"yr\"]}, \"R\": 30, \"lambda.step\": 0.01, \"plot.opts\": {\"xlab\": \"PC1\", \"ylab\": \"PC2\"}, \"topic.order\": [5, 2, 3, 1, 4]};\n",
       "\n",
       "function LDAvis_load_lib(url, callback){\n",
       "  var s = document.createElement('script');\n",
       "  s.src = url;\n",
       "  s.async = true;\n",
       "  s.onreadystatechange = s.onload = callback;\n",
       "  s.onerror = function(){console.warn(\"failed to load library \" + url);};\n",
       "  document.getElementsByTagName(\"head\")[0].appendChild(s);\n",
       "}\n",
       "\n",
       "if(typeof(LDAvis) !== \"undefined\"){\n",
       "   // already loaded: just create the visualization\n",
       "   !function(LDAvis){\n",
       "       new LDAvis(\"#\" + \"ldavis_el2114027324755465042108417397\", ldavis_el2114027324755465042108417397_data);\n",
       "   }(LDAvis);\n",
       "}else if(typeof define === \"function\" && define.amd){\n",
       "   // require.js is available: use it to load d3/LDAvis\n",
       "   require.config({paths: {d3: \"https://cdnjs.cloudflare.com/ajax/libs/d3/3.5.5/d3.min\"}});\n",
       "   require([\"d3\"], function(d3){\n",
       "      window.d3 = d3;\n",
       "      LDAvis_load_lib(\"https://cdn.rawgit.com/bmabey/pyLDAvis/files/ldavis.v1.0.0.js\", function(){\n",
       "        new LDAvis(\"#\" + \"ldavis_el2114027324755465042108417397\", ldavis_el2114027324755465042108417397_data);\n",
       "      });\n",
       "    });\n",
       "}else{\n",
       "    // require.js not available: dynamically load d3 & LDAvis\n",
       "    LDAvis_load_lib(\"https://cdnjs.cloudflare.com/ajax/libs/d3/3.5.5/d3.min.js\", function(){\n",
       "         LDAvis_load_lib(\"https://cdn.rawgit.com/bmabey/pyLDAvis/files/ldavis.v1.0.0.js\", function(){\n",
       "                 new LDAvis(\"#\" + \"ldavis_el2114027324755465042108417397\", ldavis_el2114027324755465042108417397_data);\n",
       "            })\n",
       "         });\n",
       "}\n",
       "</script>"
      ],
      "text/plain": [
       "PreparedData(topic_coordinates=              x         y  topics  cluster       Freq\n",
       "topic                                                \n",
       "4     -0.048403  0.095966       1        1  31.098444\n",
       "1     -0.036534  0.006673       2        1  20.276562\n",
       "2     -0.104274 -0.065267       3        1  17.388748\n",
       "0      0.107491  0.044134       4        1  15.831956\n",
       "3      0.081721 -0.081507       5        1  15.404290, topic_info=         Term         Freq        Total Category  logprob  loglift\n",
       "4     battery  6523.000000  6523.000000  Default  30.0000  30.0000\n",
       "22      great  8857.000000  8857.000000  Default  29.0000  29.0000\n",
       "591       old  2777.000000  2777.000000  Default  28.0000  28.0000\n",
       "98       year  2417.000000  2417.000000  Default  27.0000  27.0000\n",
       "181       kid  3273.000000  3273.000000  Default  26.0000  26.0000\n",
       "...       ...          ...          ...      ...      ...      ...\n",
       "19      price   490.885590  4661.197754   Topic5  -4.6270  -0.3803\n",
       "86       love   470.700958  7037.818359   Topic5  -4.6690  -0.8343\n",
       "236    device   279.686279  1302.313477   Topic5  -5.1895   0.3323\n",
       "2782  feature   250.440674   809.569397   Topic5  -5.3000   0.6972\n",
       "181       kid   318.672852  3273.150635   Topic5  -5.0590  -0.4588\n",
       "\n",
       "[460 rows x 6 columns], token_table=      Topic      Freq  Term\n",
       "term                       \n",
       "466       1  0.206298     1\n",
       "466       2  0.553055     1\n",
       "466       3  0.197520     1\n",
       "466       4  0.021947     1\n",
       "466       5  0.021947     1\n",
       "...     ...       ...   ...\n",
       "98        5  0.001655  year\n",
       "1453      1  0.221582    yr\n",
       "1453      2  0.755560    yr\n",
       "1453      3  0.021795    yr\n",
       "1453      4  0.003632    yr\n",
       "\n",
       "[1129 rows x 3 columns], R=30, lambda_step=0.01, plot_opts={'xlab': 'PC1', 'ylab': 'PC2'}, topic_order=[5, 2, 3, 1, 4])"
      ]
     },
     "execution_count": 32,
     "metadata": {},
     "output_type": "execute_result"
    }
   ],
   "source": [
    "pyLDAvis.gensim.prepare(lda, corpus, id2word)"
   ]
  },
  {
   "cell_type": "markdown",
   "metadata": {},
   "source": [
    "## Stretch Goals\n",
    "\n",
    "* Incorporate Named Entity Recognition in your analysis\n",
    "* Incorporate some custom pre-processing from our previous lessons (like spacy lemmatization)\n",
    "* Analyze a dataset of interest to you with topic modeling"
   ]
  },
  {
   "cell_type": "code",
   "execution_count": 33,
   "metadata": {},
   "outputs": [],
   "source": [
    "doc_topics = [lda[doc] for doc in corpus]"
   ]
  },
  {
   "cell_type": "code",
   "execution_count": 35,
   "metadata": {},
   "outputs": [
    {
     "data": {
      "text/plain": [
       "[(0, 0.39862075),\n",
       " (1, 0.2597563),\n",
       " (2, 0.015566874),\n",
       " (3, 0.015635503),\n",
       " (4, 0.31042063)]"
      ]
     },
     "execution_count": 35,
     "metadata": {},
     "output_type": "execute_result"
    }
   ],
   "source": [
    "doc_topics[0]"
   ]
  },
  {
   "cell_type": "code",
   "execution_count": 36,
   "metadata": {},
   "outputs": [],
   "source": [
    "def update(doc):\n",
    "    d_dist = {k:0 for k in range(0, 5)}\n",
    "    for t in doc:\n",
    "        d_dist[t[0]] = t[1]\n",
    "    return d_dist\n",
    "\n",
    "new_distro = [update(d) for d in doc_topics]"
   ]
  },
  {
   "cell_type": "code",
   "execution_count": 37,
   "metadata": {},
   "outputs": [
    {
     "data": {
      "text/html": [
       "<div>\n",
       "<style scoped>\n",
       "    .dataframe tbody tr th:only-of-type {\n",
       "        vertical-align: middle;\n",
       "    }\n",
       "\n",
       "    .dataframe tbody tr th {\n",
       "        vertical-align: top;\n",
       "    }\n",
       "\n",
       "    .dataframe thead th {\n",
       "        text-align: right;\n",
       "    }\n",
       "</style>\n",
       "<table border=\"1\" class=\"dataframe\">\n",
       "  <thead>\n",
       "    <tr style=\"text-align: right;\">\n",
       "      <th></th>\n",
       "      <th>0</th>\n",
       "      <th>1</th>\n",
       "      <th>2</th>\n",
       "      <th>3</th>\n",
       "      <th>4</th>\n",
       "    </tr>\n",
       "  </thead>\n",
       "  <tbody>\n",
       "    <tr>\n",
       "      <th>0</th>\n",
       "      <td>0.398621</td>\n",
       "      <td>0.259756</td>\n",
       "      <td>0.015567</td>\n",
       "      <td>0.015636</td>\n",
       "      <td>0.310421</td>\n",
       "    </tr>\n",
       "    <tr>\n",
       "      <th>1</th>\n",
       "      <td>0.034026</td>\n",
       "      <td>0.034128</td>\n",
       "      <td>0.034208</td>\n",
       "      <td>0.034055</td>\n",
       "      <td>0.863583</td>\n",
       "    </tr>\n",
       "    <tr>\n",
       "      <th>2</th>\n",
       "      <td>0.050758</td>\n",
       "      <td>0.050607</td>\n",
       "      <td>0.050487</td>\n",
       "      <td>0.050524</td>\n",
       "      <td>0.797624</td>\n",
       "    </tr>\n",
       "    <tr>\n",
       "      <th>3</th>\n",
       "      <td>0.034515</td>\n",
       "      <td>0.033514</td>\n",
       "      <td>0.033648</td>\n",
       "      <td>0.033569</td>\n",
       "      <td>0.864754</td>\n",
       "    </tr>\n",
       "    <tr>\n",
       "      <th>4</th>\n",
       "      <td>0.033646</td>\n",
       "      <td>0.033441</td>\n",
       "      <td>0.034029</td>\n",
       "      <td>0.033563</td>\n",
       "      <td>0.865321</td>\n",
       "    </tr>\n",
       "    <tr>\n",
       "      <th>...</th>\n",
       "      <td>...</td>\n",
       "      <td>...</td>\n",
       "      <td>...</td>\n",
       "      <td>...</td>\n",
       "      <td>...</td>\n",
       "    </tr>\n",
       "    <tr>\n",
       "      <th>28327</th>\n",
       "      <td>0.014810</td>\n",
       "      <td>0.941677</td>\n",
       "      <td>0.014466</td>\n",
       "      <td>0.014561</td>\n",
       "      <td>0.014485</td>\n",
       "    </tr>\n",
       "    <tr>\n",
       "      <th>28328</th>\n",
       "      <td>0.022435</td>\n",
       "      <td>0.599608</td>\n",
       "      <td>0.022698</td>\n",
       "      <td>0.022381</td>\n",
       "      <td>0.332877</td>\n",
       "    </tr>\n",
       "    <tr>\n",
       "      <th>28329</th>\n",
       "      <td>0.361364</td>\n",
       "      <td>0.000000</td>\n",
       "      <td>0.000000</td>\n",
       "      <td>0.454176</td>\n",
       "      <td>0.172334</td>\n",
       "    </tr>\n",
       "    <tr>\n",
       "      <th>28330</th>\n",
       "      <td>0.590322</td>\n",
       "      <td>0.189439</td>\n",
       "      <td>0.000000</td>\n",
       "      <td>0.202370</td>\n",
       "      <td>0.000000</td>\n",
       "    </tr>\n",
       "    <tr>\n",
       "      <th>28331</th>\n",
       "      <td>0.000000</td>\n",
       "      <td>0.000000</td>\n",
       "      <td>0.000000</td>\n",
       "      <td>0.972205</td>\n",
       "      <td>0.000000</td>\n",
       "    </tr>\n",
       "  </tbody>\n",
       "</table>\n",
       "<p>28332 rows × 5 columns</p>\n",
       "</div>"
      ],
      "text/plain": [
       "              0         1         2         3         4\n",
       "0      0.398621  0.259756  0.015567  0.015636  0.310421\n",
       "1      0.034026  0.034128  0.034208  0.034055  0.863583\n",
       "2      0.050758  0.050607  0.050487  0.050524  0.797624\n",
       "3      0.034515  0.033514  0.033648  0.033569  0.864754\n",
       "4      0.033646  0.033441  0.034029  0.033563  0.865321\n",
       "...         ...       ...       ...       ...       ...\n",
       "28327  0.014810  0.941677  0.014466  0.014561  0.014485\n",
       "28328  0.022435  0.599608  0.022698  0.022381  0.332877\n",
       "28329  0.361364  0.000000  0.000000  0.454176  0.172334\n",
       "28330  0.590322  0.189439  0.000000  0.202370  0.000000\n",
       "28331  0.000000  0.000000  0.000000  0.972205  0.000000\n",
       "\n",
       "[28332 rows x 5 columns]"
      ]
     },
     "execution_count": 37,
     "metadata": {},
     "output_type": "execute_result"
    }
   ],
   "source": [
    "dft = pd.DataFrame.from_records(new_distro)\n",
    "dft"
   ]
  },
  {
   "cell_type": "code",
   "execution_count": 38,
   "metadata": {},
   "outputs": [],
   "source": [
    "dft.columns = topics"
   ]
  },
  {
   "cell_type": "code",
   "execution_count": 39,
   "metadata": {},
   "outputs": [
    {
     "data": {
      "text/html": [
       "<div>\n",
       "<style scoped>\n",
       "    .dataframe tbody tr th:only-of-type {\n",
       "        vertical-align: middle;\n",
       "    }\n",
       "\n",
       "    .dataframe tbody tr th {\n",
       "        vertical-align: top;\n",
       "    }\n",
       "\n",
       "    .dataframe thead th {\n",
       "        text-align: right;\n",
       "    }\n",
       "</style>\n",
       "<table border=\"1\" class=\"dataframe\">\n",
       "  <thead>\n",
       "    <tr style=\"text-align: right;\">\n",
       "      <th></th>\n",
       "      <th>good kindle great read work</th>\n",
       "      <th>old love year buy tablet</th>\n",
       "      <th>great tablet kid love use</th>\n",
       "      <th>tablet easy nice good use</th>\n",
       "      <th>battery tablet great good price</th>\n",
       "    </tr>\n",
       "  </thead>\n",
       "  <tbody>\n",
       "    <tr>\n",
       "      <th>0</th>\n",
       "      <td>0.398621</td>\n",
       "      <td>0.259756</td>\n",
       "      <td>0.015567</td>\n",
       "      <td>0.015636</td>\n",
       "      <td>0.310421</td>\n",
       "    </tr>\n",
       "    <tr>\n",
       "      <th>1</th>\n",
       "      <td>0.034026</td>\n",
       "      <td>0.034128</td>\n",
       "      <td>0.034208</td>\n",
       "      <td>0.034055</td>\n",
       "      <td>0.863583</td>\n",
       "    </tr>\n",
       "    <tr>\n",
       "      <th>2</th>\n",
       "      <td>0.050758</td>\n",
       "      <td>0.050607</td>\n",
       "      <td>0.050487</td>\n",
       "      <td>0.050524</td>\n",
       "      <td>0.797624</td>\n",
       "    </tr>\n",
       "    <tr>\n",
       "      <th>3</th>\n",
       "      <td>0.034515</td>\n",
       "      <td>0.033514</td>\n",
       "      <td>0.033648</td>\n",
       "      <td>0.033569</td>\n",
       "      <td>0.864754</td>\n",
       "    </tr>\n",
       "    <tr>\n",
       "      <th>4</th>\n",
       "      <td>0.033646</td>\n",
       "      <td>0.033441</td>\n",
       "      <td>0.034029</td>\n",
       "      <td>0.033563</td>\n",
       "      <td>0.865321</td>\n",
       "    </tr>\n",
       "  </tbody>\n",
       "</table>\n",
       "</div>"
      ],
      "text/plain": [
       "   good kindle great read work  old love year buy tablet  \\\n",
       "0                     0.398621                  0.259756   \n",
       "1                     0.034026                  0.034128   \n",
       "2                     0.050758                  0.050607   \n",
       "3                     0.034515                  0.033514   \n",
       "4                     0.033646                  0.033441   \n",
       "\n",
       "   great tablet kid love use  tablet easy nice good use  \\\n",
       "0                   0.015567                   0.015636   \n",
       "1                   0.034208                   0.034055   \n",
       "2                   0.050487                   0.050524   \n",
       "3                   0.033648                   0.033569   \n",
       "4                   0.034029                   0.033563   \n",
       "\n",
       "   battery tablet great good price  \n",
       "0                         0.310421  \n",
       "1                         0.863583  \n",
       "2                         0.797624  \n",
       "3                         0.864754  \n",
       "4                         0.865321  "
      ]
     },
     "execution_count": 39,
     "metadata": {},
     "output_type": "execute_result"
    }
   ],
   "source": [
    "dft.head()"
   ]
  },
  {
   "cell_type": "code",
   "execution_count": 41,
   "metadata": {},
   "outputs": [],
   "source": [
    "df['primary_topic'] = dft.idxmax(axis=1)"
   ]
  },
  {
   "cell_type": "code",
   "execution_count": 42,
   "metadata": {},
   "outputs": [
    {
     "data": {
      "text/html": [
       "<div>\n",
       "<style scoped>\n",
       "    .dataframe tbody tr th:only-of-type {\n",
       "        vertical-align: middle;\n",
       "    }\n",
       "\n",
       "    .dataframe tbody tr th {\n",
       "        vertical-align: top;\n",
       "    }\n",
       "\n",
       "    .dataframe thead th {\n",
       "        text-align: right;\n",
       "    }\n",
       "</style>\n",
       "<table border=\"1\" class=\"dataframe\">\n",
       "  <thead>\n",
       "    <tr style=\"text-align: right;\">\n",
       "      <th></th>\n",
       "      <th>id</th>\n",
       "      <th>dateAdded</th>\n",
       "      <th>dateUpdated</th>\n",
       "      <th>name</th>\n",
       "      <th>asins</th>\n",
       "      <th>brand</th>\n",
       "      <th>categories</th>\n",
       "      <th>primaryCategories</th>\n",
       "      <th>imageURLs</th>\n",
       "      <th>keys</th>\n",
       "      <th>...</th>\n",
       "      <th>reviews.id</th>\n",
       "      <th>reviews.numHelpful</th>\n",
       "      <th>reviews.rating</th>\n",
       "      <th>reviews.sourceURLs</th>\n",
       "      <th>reviews.text</th>\n",
       "      <th>reviews.title</th>\n",
       "      <th>reviews.username</th>\n",
       "      <th>sourceURLs</th>\n",
       "      <th>lemmas</th>\n",
       "      <th>primary_topic</th>\n",
       "    </tr>\n",
       "  </thead>\n",
       "  <tbody>\n",
       "    <tr>\n",
       "      <th>0</th>\n",
       "      <td>AVpgNzjwLJeJML43Kpxn</td>\n",
       "      <td>2015-10-30T08:59:32Z</td>\n",
       "      <td>2019-04-25T09:08:16Z</td>\n",
       "      <td>AmazonBasics AAA Performance Alkaline Batterie...</td>\n",
       "      <td>B00QWO9P0O,B00LH3DMUO</td>\n",
       "      <td>Amazonbasics</td>\n",
       "      <td>AA,AAA,Health,Electronics,Health &amp; Household,C...</td>\n",
       "      <td>Health &amp; Beauty</td>\n",
       "      <td>https://images-na.ssl-images-amazon.com/images...</td>\n",
       "      <td>amazonbasics/hl002619,amazonbasicsaaaperforman...</td>\n",
       "      <td>...</td>\n",
       "      <td>NaN</td>\n",
       "      <td>NaN</td>\n",
       "      <td>3</td>\n",
       "      <td>https://www.amazon.com/product-reviews/B00QWO9...</td>\n",
       "      <td>I order 3 of them and one of the item is bad q...</td>\n",
       "      <td>... 3 of them and one of the item is bad quali...</td>\n",
       "      <td>Byger yang</td>\n",
       "      <td>https://www.barcodable.com/upc/841710106442,ht...</td>\n",
       "      <td>[order, 3, item, bad, quality, miss, backup, s...</td>\n",
       "      <td>good kindle great read work</td>\n",
       "    </tr>\n",
       "    <tr>\n",
       "      <th>1</th>\n",
       "      <td>AVpgNzjwLJeJML43Kpxn</td>\n",
       "      <td>2015-10-30T08:59:32Z</td>\n",
       "      <td>2019-04-25T09:08:16Z</td>\n",
       "      <td>AmazonBasics AAA Performance Alkaline Batterie...</td>\n",
       "      <td>B00QWO9P0O,B00LH3DMUO</td>\n",
       "      <td>Amazonbasics</td>\n",
       "      <td>AA,AAA,Health,Electronics,Health &amp; Household,C...</td>\n",
       "      <td>Health &amp; Beauty</td>\n",
       "      <td>https://images-na.ssl-images-amazon.com/images...</td>\n",
       "      <td>amazonbasics/hl002619,amazonbasicsaaaperforman...</td>\n",
       "      <td>...</td>\n",
       "      <td>NaN</td>\n",
       "      <td>NaN</td>\n",
       "      <td>4</td>\n",
       "      <td>https://www.amazon.com/product-reviews/B00QWO9...</td>\n",
       "      <td>Bulk is always the less expensive way to go fo...</td>\n",
       "      <td>... always the less expensive way to go for pr...</td>\n",
       "      <td>ByMG</td>\n",
       "      <td>https://www.barcodable.com/upc/841710106442,ht...</td>\n",
       "      <td>[bulk, expensive, way, product, like]</td>\n",
       "      <td>battery tablet great good price</td>\n",
       "    </tr>\n",
       "    <tr>\n",
       "      <th>2</th>\n",
       "      <td>AVpgNzjwLJeJML43Kpxn</td>\n",
       "      <td>2015-10-30T08:59:32Z</td>\n",
       "      <td>2019-04-25T09:08:16Z</td>\n",
       "      <td>AmazonBasics AAA Performance Alkaline Batterie...</td>\n",
       "      <td>B00QWO9P0O,B00LH3DMUO</td>\n",
       "      <td>Amazonbasics</td>\n",
       "      <td>AA,AAA,Health,Electronics,Health &amp; Household,C...</td>\n",
       "      <td>Health &amp; Beauty</td>\n",
       "      <td>https://images-na.ssl-images-amazon.com/images...</td>\n",
       "      <td>amazonbasics/hl002619,amazonbasicsaaaperforman...</td>\n",
       "      <td>...</td>\n",
       "      <td>NaN</td>\n",
       "      <td>NaN</td>\n",
       "      <td>5</td>\n",
       "      <td>https://www.amazon.com/product-reviews/B00QWO9...</td>\n",
       "      <td>Well they are not Duracell but for the price i...</td>\n",
       "      <td>... are not Duracell but for the price i am ha...</td>\n",
       "      <td>BySharon Lambert</td>\n",
       "      <td>https://www.barcodable.com/upc/841710106442,ht...</td>\n",
       "      <td>[Duracell, price, happy]</td>\n",
       "      <td>battery tablet great good price</td>\n",
       "    </tr>\n",
       "    <tr>\n",
       "      <th>3</th>\n",
       "      <td>AVpgNzjwLJeJML43Kpxn</td>\n",
       "      <td>2015-10-30T08:59:32Z</td>\n",
       "      <td>2019-04-25T09:08:16Z</td>\n",
       "      <td>AmazonBasics AAA Performance Alkaline Batterie...</td>\n",
       "      <td>B00QWO9P0O,B00LH3DMUO</td>\n",
       "      <td>Amazonbasics</td>\n",
       "      <td>AA,AAA,Health,Electronics,Health &amp; Household,C...</td>\n",
       "      <td>Health &amp; Beauty</td>\n",
       "      <td>https://images-na.ssl-images-amazon.com/images...</td>\n",
       "      <td>amazonbasics/hl002619,amazonbasicsaaaperforman...</td>\n",
       "      <td>...</td>\n",
       "      <td>NaN</td>\n",
       "      <td>NaN</td>\n",
       "      <td>5</td>\n",
       "      <td>https://www.amazon.com/product-reviews/B00QWO9...</td>\n",
       "      <td>Seem to work as well as name brand batteries a...</td>\n",
       "      <td>... as well as name brand batteries at a much ...</td>\n",
       "      <td>Bymark sexson</td>\n",
       "      <td>https://www.barcodable.com/upc/841710106442,ht...</td>\n",
       "      <td>[work, brand, battery, well, price]</td>\n",
       "      <td>battery tablet great good price</td>\n",
       "    </tr>\n",
       "    <tr>\n",
       "      <th>4</th>\n",
       "      <td>AVpgNzjwLJeJML43Kpxn</td>\n",
       "      <td>2015-10-30T08:59:32Z</td>\n",
       "      <td>2019-04-25T09:08:16Z</td>\n",
       "      <td>AmazonBasics AAA Performance Alkaline Batterie...</td>\n",
       "      <td>B00QWO9P0O,B00LH3DMUO</td>\n",
       "      <td>Amazonbasics</td>\n",
       "      <td>AA,AAA,Health,Electronics,Health &amp; Household,C...</td>\n",
       "      <td>Health &amp; Beauty</td>\n",
       "      <td>https://images-na.ssl-images-amazon.com/images...</td>\n",
       "      <td>amazonbasics/hl002619,amazonbasicsaaaperforman...</td>\n",
       "      <td>...</td>\n",
       "      <td>NaN</td>\n",
       "      <td>NaN</td>\n",
       "      <td>5</td>\n",
       "      <td>https://www.amazon.com/product-reviews/B00QWO9...</td>\n",
       "      <td>These batteries are very long lasting the pric...</td>\n",
       "      <td>... batteries are very long lasting the price ...</td>\n",
       "      <td>Bylinda</td>\n",
       "      <td>https://www.barcodable.com/upc/841710106442,ht...</td>\n",
       "      <td>[battery, long, last, price, great]</td>\n",
       "      <td>battery tablet great good price</td>\n",
       "    </tr>\n",
       "  </tbody>\n",
       "</table>\n",
       "<p>5 rows × 26 columns</p>\n",
       "</div>"
      ],
      "text/plain": [
       "                     id             dateAdded           dateUpdated  \\\n",
       "0  AVpgNzjwLJeJML43Kpxn  2015-10-30T08:59:32Z  2019-04-25T09:08:16Z   \n",
       "1  AVpgNzjwLJeJML43Kpxn  2015-10-30T08:59:32Z  2019-04-25T09:08:16Z   \n",
       "2  AVpgNzjwLJeJML43Kpxn  2015-10-30T08:59:32Z  2019-04-25T09:08:16Z   \n",
       "3  AVpgNzjwLJeJML43Kpxn  2015-10-30T08:59:32Z  2019-04-25T09:08:16Z   \n",
       "4  AVpgNzjwLJeJML43Kpxn  2015-10-30T08:59:32Z  2019-04-25T09:08:16Z   \n",
       "\n",
       "                                                name                  asins  \\\n",
       "0  AmazonBasics AAA Performance Alkaline Batterie...  B00QWO9P0O,B00LH3DMUO   \n",
       "1  AmazonBasics AAA Performance Alkaline Batterie...  B00QWO9P0O,B00LH3DMUO   \n",
       "2  AmazonBasics AAA Performance Alkaline Batterie...  B00QWO9P0O,B00LH3DMUO   \n",
       "3  AmazonBasics AAA Performance Alkaline Batterie...  B00QWO9P0O,B00LH3DMUO   \n",
       "4  AmazonBasics AAA Performance Alkaline Batterie...  B00QWO9P0O,B00LH3DMUO   \n",
       "\n",
       "          brand                                         categories  \\\n",
       "0  Amazonbasics  AA,AAA,Health,Electronics,Health & Household,C...   \n",
       "1  Amazonbasics  AA,AAA,Health,Electronics,Health & Household,C...   \n",
       "2  Amazonbasics  AA,AAA,Health,Electronics,Health & Household,C...   \n",
       "3  Amazonbasics  AA,AAA,Health,Electronics,Health & Household,C...   \n",
       "4  Amazonbasics  AA,AAA,Health,Electronics,Health & Household,C...   \n",
       "\n",
       "  primaryCategories                                          imageURLs  \\\n",
       "0   Health & Beauty  https://images-na.ssl-images-amazon.com/images...   \n",
       "1   Health & Beauty  https://images-na.ssl-images-amazon.com/images...   \n",
       "2   Health & Beauty  https://images-na.ssl-images-amazon.com/images...   \n",
       "3   Health & Beauty  https://images-na.ssl-images-amazon.com/images...   \n",
       "4   Health & Beauty  https://images-na.ssl-images-amazon.com/images...   \n",
       "\n",
       "                                                keys  ... reviews.id  \\\n",
       "0  amazonbasics/hl002619,amazonbasicsaaaperforman...  ...        NaN   \n",
       "1  amazonbasics/hl002619,amazonbasicsaaaperforman...  ...        NaN   \n",
       "2  amazonbasics/hl002619,amazonbasicsaaaperforman...  ...        NaN   \n",
       "3  amazonbasics/hl002619,amazonbasicsaaaperforman...  ...        NaN   \n",
       "4  amazonbasics/hl002619,amazonbasicsaaaperforman...  ...        NaN   \n",
       "\n",
       "  reviews.numHelpful reviews.rating  \\\n",
       "0                NaN              3   \n",
       "1                NaN              4   \n",
       "2                NaN              5   \n",
       "3                NaN              5   \n",
       "4                NaN              5   \n",
       "\n",
       "                                  reviews.sourceURLs  \\\n",
       "0  https://www.amazon.com/product-reviews/B00QWO9...   \n",
       "1  https://www.amazon.com/product-reviews/B00QWO9...   \n",
       "2  https://www.amazon.com/product-reviews/B00QWO9...   \n",
       "3  https://www.amazon.com/product-reviews/B00QWO9...   \n",
       "4  https://www.amazon.com/product-reviews/B00QWO9...   \n",
       "\n",
       "                                        reviews.text  \\\n",
       "0  I order 3 of them and one of the item is bad q...   \n",
       "1  Bulk is always the less expensive way to go fo...   \n",
       "2  Well they are not Duracell but for the price i...   \n",
       "3  Seem to work as well as name brand batteries a...   \n",
       "4  These batteries are very long lasting the pric...   \n",
       "\n",
       "                                       reviews.title  reviews.username  \\\n",
       "0  ... 3 of them and one of the item is bad quali...        Byger yang   \n",
       "1  ... always the less expensive way to go for pr...              ByMG   \n",
       "2  ... are not Duracell but for the price i am ha...  BySharon Lambert   \n",
       "3  ... as well as name brand batteries at a much ...     Bymark sexson   \n",
       "4  ... batteries are very long lasting the price ...           Bylinda   \n",
       "\n",
       "                                          sourceURLs  \\\n",
       "0  https://www.barcodable.com/upc/841710106442,ht...   \n",
       "1  https://www.barcodable.com/upc/841710106442,ht...   \n",
       "2  https://www.barcodable.com/upc/841710106442,ht...   \n",
       "3  https://www.barcodable.com/upc/841710106442,ht...   \n",
       "4  https://www.barcodable.com/upc/841710106442,ht...   \n",
       "\n",
       "                                              lemmas  \\\n",
       "0  [order, 3, item, bad, quality, miss, backup, s...   \n",
       "1              [bulk, expensive, way, product, like]   \n",
       "2                           [Duracell, price, happy]   \n",
       "3                [work, brand, battery, well, price]   \n",
       "4                [battery, long, last, price, great]   \n",
       "\n",
       "                     primary_topic  \n",
       "0      good kindle great read work  \n",
       "1  battery tablet great good price  \n",
       "2  battery tablet great good price  \n",
       "3  battery tablet great good price  \n",
       "4  battery tablet great good price  \n",
       "\n",
       "[5 rows x 26 columns]"
      ]
     },
     "execution_count": 42,
     "metadata": {},
     "output_type": "execute_result"
    }
   ],
   "source": [
    "df.head()"
   ]
  },
  {
   "cell_type": "code",
   "execution_count": 44,
   "metadata": {},
   "outputs": [
    {
     "data": {
      "text/plain": [
       "(array([0, 1, 2, 3, 4]), <a list of 5 Text major ticklabel objects>)"
      ]
     },
     "execution_count": 44,
     "metadata": {},
     "output_type": "execute_result"
    },
    {
     "data": {
      "image/png": "[encoded data removed]",
      "text/plain": [
       "<Figure size 432x288 with 1 Axes>"
      ]
     },
     "metadata": {
      "needs_background": "light"
     },
     "output_type": "display_data"
    }
   ],
   "source": [
    "import seaborn as sns\n",
    "import matplotlib.pyplot as plt\n",
    "\n",
    "ax = sns.countplot(x=\"primary_topic\", hue=\"reviews.rating\", data=df)\n",
    "plt.xticks(rotation=90)"
   ]
  },
  {
   "cell_type": "code",
   "execution_count": null,
   "metadata": {},
   "outputs": [],
   "source": []
  }
 ],
 "metadata": {
  "kernelspec": {
   "display_name": "U4-S1-NLP (Python3)",
   "language": "python",
   "name": "u4-s1-nlp"
  },
  "language_info": {
   "codemirror_mode": {
    "name": "ipython",
    "version": 3
   },
   "file_extension": ".py",
   "mimetype": "text/x-python",
   "name": "python",
   "nbconvert_exporter": "python",
   "pygments_lexer": "ipython3",
   "version": "3.7.0"
  }
 },
 "nbformat": 4,
 "nbformat_minor": 4
}
