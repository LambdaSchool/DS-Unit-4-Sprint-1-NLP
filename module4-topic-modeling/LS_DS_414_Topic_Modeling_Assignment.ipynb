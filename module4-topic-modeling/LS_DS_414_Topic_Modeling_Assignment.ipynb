{
 "cells": [
  {
   "cell_type": "markdown",
   "metadata": {},
   "source": [
    "<img align=\"left\" src=\"https://lever-client-logos.s3.amazonaws.com/864372b1-534c-480e-acd5-9711f850815c-1524247202159.png\" width=200>\n",
    "<br></br>\n",
    "<br></br>\n",
    "\n",
    "# Topic Modeling\n",
    "## *Data Science Unit 4 Sprint 1 Assignment 4*\n",
    "\n",
    "Analyze a corpus of Amazon reviews from Unit 4 Sprint 1 Module 1's lecture using topic modeling: \n",
    "\n",
    "- Fit a Gensim LDA topic model on Amazon Reviews\n",
    "- Select appropriate number of topics\n",
    "- Create some dope visualization of the topics\n",
    "- Write a few bullets on your findings in markdown at the end\n",
    "- **Note**: You don't *have* to use generators for this assignment"
   ]
  },
  {
   "cell_type": "code",
   "execution_count": 28,
   "metadata": {},
   "outputs": [],
   "source": [
    "# Doing some imports\n",
    "import gensim\n",
    "import os\n",
    "import zipfile\n",
    "import pandas as pd\n",
    "from gensim.parsing import preprocessing \n",
    "import spacy"
   ]
  },
  {
   "cell_type": "code",
   "execution_count": 7,
   "metadata": {},
   "outputs": [],
   "source": [
    "# path to the zip file\n",
    "ZIP_PATH = os.path.join(\"..\", \"module1-text-data\", \"data\", \"Datafiniti_Amazon_Consumer_Reviews_of_Amazon_Products_May19.csv.zip\")"
   ]
  },
  {
   "cell_type": "code",
   "execution_count": 10,
   "metadata": {},
   "outputs": [],
   "source": [
    "# Will be pulling in the data\n",
    "with zipfile.ZipFile(ZIP_PATH, 'r') as myzip:\n",
    "    with myzip.open(\"Datafiniti_Amazon_Consumer_Reviews_of_Amazon_Products_May19.csv\") as myFile:\n",
    "        df = pd.read_csv(myFile)"
   ]
  },
  {
   "cell_type": "code",
   "execution_count": 11,
   "metadata": {},
   "outputs": [
    {
     "output_type": "execute_result",
     "data": {
      "text/plain": "                     id             dateAdded           dateUpdated  \\\n0  AVpgNzjwLJeJML43Kpxn  2015-10-30T08:59:32Z  2019-04-25T09:08:16Z   \n1  AVpgNzjwLJeJML43Kpxn  2015-10-30T08:59:32Z  2019-04-25T09:08:16Z   \n2  AVpgNzjwLJeJML43Kpxn  2015-10-30T08:59:32Z  2019-04-25T09:08:16Z   \n\n                                                name                  asins  \\\n0  AmazonBasics AAA Performance Alkaline Batterie...  B00QWO9P0O,B00LH3DMUO   \n1  AmazonBasics AAA Performance Alkaline Batterie...  B00QWO9P0O,B00LH3DMUO   \n2  AmazonBasics AAA Performance Alkaline Batterie...  B00QWO9P0O,B00LH3DMUO   \n\n          brand                                         categories  \\\n0  Amazonbasics  AA,AAA,Health,Electronics,Health & Household,C...   \n1  Amazonbasics  AA,AAA,Health,Electronics,Health & Household,C...   \n2  Amazonbasics  AA,AAA,Health,Electronics,Health & Household,C...   \n\n  primaryCategories                                          imageURLs  \\\n0   Health & Beauty  https://images-na.ssl-images-amazon.com/images...   \n1   Health & Beauty  https://images-na.ssl-images-amazon.com/images...   \n2   Health & Beauty  https://images-na.ssl-images-amazon.com/images...   \n\n                                                keys  ... reviews.didPurchase  \\\n0  amazonbasics/hl002619,amazonbasicsaaaperforman...  ...                 NaN   \n1  amazonbasics/hl002619,amazonbasicsaaaperforman...  ...                 NaN   \n2  amazonbasics/hl002619,amazonbasicsaaaperforman...  ...                 NaN   \n\n  reviews.doRecommend reviews.id reviews.numHelpful reviews.rating  \\\n0                 NaN        NaN                NaN              3   \n1                 NaN        NaN                NaN              4   \n2                 NaN        NaN                NaN              5   \n\n                                  reviews.sourceURLs  \\\n0  https://www.amazon.com/product-reviews/B00QWO9...   \n1  https://www.amazon.com/product-reviews/B00QWO9...   \n2  https://www.amazon.com/product-reviews/B00QWO9...   \n\n                                        reviews.text  \\\n0  I order 3 of them and one of the item is bad q...   \n1  Bulk is always the less expensive way to go fo...   \n2  Well they are not Duracell but for the price i...   \n\n                                       reviews.title  reviews.username  \\\n0  ... 3 of them and one of the item is bad quali...        Byger yang   \n1  ... always the less expensive way to go for pr...              ByMG   \n2  ... are not Duracell but for the price i am ha...  BySharon Lambert   \n\n                                          sourceURLs  \n0  https://www.barcodable.com/upc/841710106442,ht...  \n1  https://www.barcodable.com/upc/841710106442,ht...  \n2  https://www.barcodable.com/upc/841710106442,ht...  \n\n[3 rows x 24 columns]",
      "text/html": "<div>\n<style scoped>\n    .dataframe tbody tr th:only-of-type {\n        vertical-align: middle;\n    }\n\n    .dataframe tbody tr th {\n        vertical-align: top;\n    }\n\n    .dataframe thead th {\n        text-align: right;\n    }\n</style>\n<table border=\"1\" class=\"dataframe\">\n  <thead>\n    <tr style=\"text-align: right;\">\n      <th></th>\n      <th>id</th>\n      <th>dateAdded</th>\n      <th>dateUpdated</th>\n      <th>name</th>\n      <th>asins</th>\n      <th>brand</th>\n      <th>categories</th>\n      <th>primaryCategories</th>\n      <th>imageURLs</th>\n      <th>keys</th>\n      <th>...</th>\n      <th>reviews.didPurchase</th>\n      <th>reviews.doRecommend</th>\n      <th>reviews.id</th>\n      <th>reviews.numHelpful</th>\n      <th>reviews.rating</th>\n      <th>reviews.sourceURLs</th>\n      <th>reviews.text</th>\n      <th>reviews.title</th>\n      <th>reviews.username</th>\n      <th>sourceURLs</th>\n    </tr>\n  </thead>\n  <tbody>\n    <tr>\n      <th>0</th>\n      <td>AVpgNzjwLJeJML43Kpxn</td>\n      <td>2015-10-30T08:59:32Z</td>\n      <td>2019-04-25T09:08:16Z</td>\n      <td>AmazonBasics AAA Performance Alkaline Batterie...</td>\n      <td>B00QWO9P0O,B00LH3DMUO</td>\n      <td>Amazonbasics</td>\n      <td>AA,AAA,Health,Electronics,Health &amp; Household,C...</td>\n      <td>Health &amp; Beauty</td>\n      <td>https://images-na.ssl-images-amazon.com/images...</td>\n      <td>amazonbasics/hl002619,amazonbasicsaaaperforman...</td>\n      <td>...</td>\n      <td>NaN</td>\n      <td>NaN</td>\n      <td>NaN</td>\n      <td>NaN</td>\n      <td>3</td>\n      <td>https://www.amazon.com/product-reviews/B00QWO9...</td>\n      <td>I order 3 of them and one of the item is bad q...</td>\n      <td>... 3 of them and one of the item is bad quali...</td>\n      <td>Byger yang</td>\n      <td>https://www.barcodable.com/upc/841710106442,ht...</td>\n    </tr>\n    <tr>\n      <th>1</th>\n      <td>AVpgNzjwLJeJML43Kpxn</td>\n      <td>2015-10-30T08:59:32Z</td>\n      <td>2019-04-25T09:08:16Z</td>\n      <td>AmazonBasics AAA Performance Alkaline Batterie...</td>\n      <td>B00QWO9P0O,B00LH3DMUO</td>\n      <td>Amazonbasics</td>\n      <td>AA,AAA,Health,Electronics,Health &amp; Household,C...</td>\n      <td>Health &amp; Beauty</td>\n      <td>https://images-na.ssl-images-amazon.com/images...</td>\n      <td>amazonbasics/hl002619,amazonbasicsaaaperforman...</td>\n      <td>...</td>\n      <td>NaN</td>\n      <td>NaN</td>\n      <td>NaN</td>\n      <td>NaN</td>\n      <td>4</td>\n      <td>https://www.amazon.com/product-reviews/B00QWO9...</td>\n      <td>Bulk is always the less expensive way to go fo...</td>\n      <td>... always the less expensive way to go for pr...</td>\n      <td>ByMG</td>\n      <td>https://www.barcodable.com/upc/841710106442,ht...</td>\n    </tr>\n    <tr>\n      <th>2</th>\n      <td>AVpgNzjwLJeJML43Kpxn</td>\n      <td>2015-10-30T08:59:32Z</td>\n      <td>2019-04-25T09:08:16Z</td>\n      <td>AmazonBasics AAA Performance Alkaline Batterie...</td>\n      <td>B00QWO9P0O,B00LH3DMUO</td>\n      <td>Amazonbasics</td>\n      <td>AA,AAA,Health,Electronics,Health &amp; Household,C...</td>\n      <td>Health &amp; Beauty</td>\n      <td>https://images-na.ssl-images-amazon.com/images...</td>\n      <td>amazonbasics/hl002619,amazonbasicsaaaperforman...</td>\n      <td>...</td>\n      <td>NaN</td>\n      <td>NaN</td>\n      <td>NaN</td>\n      <td>NaN</td>\n      <td>5</td>\n      <td>https://www.amazon.com/product-reviews/B00QWO9...</td>\n      <td>Well they are not Duracell but for the price i...</td>\n      <td>... are not Duracell but for the price i am ha...</td>\n      <td>BySharon Lambert</td>\n      <td>https://www.barcodable.com/upc/841710106442,ht...</td>\n    </tr>\n  </tbody>\n</table>\n<p>3 rows × 24 columns</p>\n</div>"
     },
     "metadata": {},
     "execution_count": 11
    }
   ],
   "source": [
    "df.head(3)"
   ]
  },
  {
   "cell_type": "code",
   "execution_count": 14,
   "metadata": {},
   "outputs": [],
   "source": [
    "reviewList  = df[\"reviews.text\"].values.tolist()"
   ]
  },
  {
   "cell_type": "code",
   "execution_count": 15,
   "metadata": {},
   "outputs": [
    {
     "output_type": "execute_result",
     "data": {
      "text/plain": "['I order 3 of them and one of the item is bad quality. Is missing backup spring so I have to put a pcs of aluminum to make the battery work.',\n 'Bulk is always the less expensive way to go for products like these',\n 'Well they are not Duracell but for the price i am happy.',\n 'Seem to work as well as name brand batteries at a much better price',\n 'These batteries are very long lasting the price is great.',\n \"Bought a lot of batteries for Christmas and the AmazonBasics Cell have been good. I haven't noticed a difference between the brand name batteries and the Amazon Basic brand. Just a lot easier to purchase and have arrive at the house and have on hand. Will buy again.\",\n 'ive not had any problame with these batteries have ordered them in the past been very pleased.',\n 'Well if you are looking for cheap non-rechargeable batteries that last quite a while then these are perfect. Nothing more to say.',\n 'These do not hold the amount of high power juice like energizer or duracell, but they are half the price.',\n \"AmazonBasics AA AAA batteries have done well by me appear to have a good shelf life. I'll buy them again.\"]"
     },
     "metadata": {},
     "execution_count": 15
    }
   ],
   "source": [
    "# Looking at the list\n",
    "reviewList[:10]"
   ]
  },
  {
   "cell_type": "code",
   "execution_count": 19,
   "metadata": {},
   "outputs": [],
   "source": [
    "nlp = spacy.load(\"en_core_web_lg\")"
   ]
  },
  {
   "cell_type": "code",
   "execution_count": 45,
   "metadata": {},
   "outputs": [],
   "source": [
    "practice_string = [\"I love to eat cat's and their funny\", \"What? how come you didn't tell me?\"]"
   ]
  },
  {
   "cell_type": "code",
   "execution_count": 51,
   "metadata": {},
   "outputs": [],
   "source": [
    "#Trying to use the pre_process string\n",
    "def myProcess_function(doc):\n",
    "    processed_list = []\n",
    "    # Getting a tokenizer from the spacy\n",
    "\n",
    "\n",
    "    for sentance in doc:\n",
    "        sentance = preprocessing.remove_stopwords(sentance)\n",
    "        sentance = preprocessing.strip_numeric(sentance)\n",
    "        sentance = preprocessing.strip_punctuation(sentance)\n",
    "        sentance = preprocessing.strip_short(sentance)\n",
    "        #tokens = preprocess_string(sentance)\n",
    "        processed_list.append(sentance)\n",
    "    return processed_list"
   ]
  },
  {
   "cell_type": "code",
   "execution_count": 52,
   "metadata": {},
   "outputs": [
    {
     "output_type": "execute_result",
     "data": {
      "text/plain": "['love eat cat funny', 'What come didn tell']"
     },
     "metadata": {},
     "execution_count": 52
    }
   ],
   "source": [
    "myProcess_function(practice_string)"
   ]
  },
  {
   "cell_type": "code",
   "execution_count": 65,
   "metadata": {},
   "outputs": [],
   "source": [
    "# Trying it another way\n",
    "def process_docs(doc):\n",
    "    processed_text = []\n",
    "    FILTER = [lambda x: x.lower(), preprocessing.remove_stopwords, preprocessing.strip_punctuation, preprocessing.strip_multiple_whitespaces, preprocessing.strip_numeric, preprocessing.strip_short]\n",
    "    for text in doc:\n",
    "        text = preprocess_string(text, FILTER)\n",
    "        processed_text.append(text)\n",
    "    return processed_text"
   ]
  },
  {
   "cell_type": "code",
   "execution_count": 66,
   "metadata": {},
   "outputs": [
    {
     "output_type": "execute_result",
     "data": {
      "text/plain": "[['love', 'eat', 'cat', 'funny'], ['what', 'come', 'didn', 'tell']]"
     },
     "metadata": {},
     "execution_count": 66
    }
   ],
   "source": [
    "# This is showing doing a practice on two strings\n",
    "process_docs(practice_string)"
   ]
  },
  {
   "cell_type": "code",
   "execution_count": null,
   "metadata": {},
   "outputs": [],
   "source": []
  },
  {
   "cell_type": "markdown",
   "metadata": {},
   "source": [
    "## Stretch Goals\n",
    "\n",
    "* Incorporate Named Entity Recognition in your analysis\n",
    "* Incorporate some custom pre-processing from our previous lessons (like spacy lemmatization)\n",
    "* Analyze a dataset of interest to you with topic modeling"
   ]
  }
 ],
 "metadata": {
  "kernelspec": {
   "display_name": "lam4-nlp-s1 (Python3)",
   "language": "python",
   "name": "lam4-nlp-s1"
  },
  "language_info": {
   "codemirror_mode": {
    "name": "ipython",
    "version": 3
   },
   "file_extension": ".py",
   "mimetype": "text/x-python",
   "name": "python",
   "nbconvert_exporter": "python",
   "pygments_lexer": "ipython3",
   "version": "3.7.0-final"
  }
 },
 "nbformat": 4,
 "nbformat_minor": 2
}