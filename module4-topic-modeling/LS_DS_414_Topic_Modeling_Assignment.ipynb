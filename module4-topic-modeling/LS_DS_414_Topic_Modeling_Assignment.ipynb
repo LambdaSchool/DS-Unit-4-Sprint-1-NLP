{
 "cells": [
  {
   "cell_type": "markdown",
   "metadata": {},
   "source": [
    "<img align=\"left\" src=\"https://lever-client-logos.s3.amazonaws.com/864372b1-534c-480e-acd5-9711f850815c-1524247202159.png\" width=200>\n",
    "<br></br>\n",
    "<br></br>\n",
    "\n",
    "# Topic Modeling\n",
    "## *Data Science Unit 4 Sprint 1 Assignment 4*\n",
    "\n",
    "Analyze a corpus of Amazon reviews from Unit 4 Sprint 1 Module 1's lecture using topic modeling: \n",
    "\n",
    "- Fit a Gensim LDA topic model on Amazon Reviews\n",
    "- Select appropriate number of topics\n",
    "- Create some dope visualization of the topics\n",
    "- Write a few bullets on your findings in markdown at the end\n",
    "- **Note**: You don't *have* to use generators for this assignment"
   ]
  },
  {
   "cell_type": "code",
<<<<<<< HEAD
   "execution_count": 2,
   "metadata": {},
   "outputs": [
    {
     "data": {
      "text/html": [
       "<div>\n",
       "<style scoped>\n",
       "    .dataframe tbody tr th:only-of-type {\n",
       "        vertical-align: middle;\n",
       "    }\n",
       "\n",
       "    .dataframe tbody tr th {\n",
       "        vertical-align: top;\n",
       "    }\n",
       "\n",
       "    .dataframe thead th {\n",
       "        text-align: right;\n",
       "    }\n",
       "</style>\n",
       "<table border=\"1\" class=\"dataframe\">\n",
       "  <thead>\n",
       "    <tr style=\"text-align: right;\">\n",
       "      <th></th>\n",
       "      <th>id</th>\n",
       "      <th>dateAdded</th>\n",
       "      <th>dateUpdated</th>\n",
       "      <th>name</th>\n",
       "      <th>asins</th>\n",
       "      <th>brand</th>\n",
       "      <th>categories</th>\n",
       "      <th>primaryCategories</th>\n",
       "      <th>imageURLs</th>\n",
       "      <th>keys</th>\n",
       "      <th>...</th>\n",
       "      <th>reviews.didPurchase</th>\n",
       "      <th>reviews.doRecommend</th>\n",
       "      <th>reviews.id</th>\n",
       "      <th>reviews.numHelpful</th>\n",
       "      <th>reviews.rating</th>\n",
       "      <th>reviews.sourceURLs</th>\n",
       "      <th>reviews.text</th>\n",
       "      <th>reviews.title</th>\n",
       "      <th>reviews.username</th>\n",
       "      <th>sourceURLs</th>\n",
       "    </tr>\n",
       "  </thead>\n",
       "  <tbody>\n",
       "    <tr>\n",
       "      <th>0</th>\n",
       "      <td>AVpgNzjwLJeJML43Kpxn</td>\n",
       "      <td>2015-10-30T08:59:32Z</td>\n",
       "      <td>2019-04-25T09:08:16Z</td>\n",
       "      <td>AmazonBasics AAA Performance Alkaline Batterie...</td>\n",
       "      <td>B00QWO9P0O,B00LH3DMUO</td>\n",
       "      <td>Amazonbasics</td>\n",
       "      <td>AA,AAA,Health,Electronics,Health &amp; Household,C...</td>\n",
       "      <td>Health &amp; Beauty</td>\n",
       "      <td>https://images-na.ssl-images-amazon.com/images...</td>\n",
       "      <td>amazonbasics/hl002619,amazonbasicsaaaperforman...</td>\n",
       "      <td>...</td>\n",
       "      <td>NaN</td>\n",
       "      <td>NaN</td>\n",
       "      <td>NaN</td>\n",
       "      <td>NaN</td>\n",
       "      <td>3</td>\n",
       "      <td>https://www.amazon.com/product-reviews/B00QWO9...</td>\n",
       "      <td>I order 3 of them and one of the item is bad q...</td>\n",
       "      <td>... 3 of them and one of the item is bad quali...</td>\n",
       "      <td>Byger yang</td>\n",
       "      <td>https://www.barcodable.com/upc/841710106442,ht...</td>\n",
       "    </tr>\n",
       "    <tr>\n",
       "      <th>1</th>\n",
       "      <td>AVpgNzjwLJeJML43Kpxn</td>\n",
       "      <td>2015-10-30T08:59:32Z</td>\n",
       "      <td>2019-04-25T09:08:16Z</td>\n",
       "      <td>AmazonBasics AAA Performance Alkaline Batterie...</td>\n",
       "      <td>B00QWO9P0O,B00LH3DMUO</td>\n",
       "      <td>Amazonbasics</td>\n",
       "      <td>AA,AAA,Health,Electronics,Health &amp; Household,C...</td>\n",
       "      <td>Health &amp; Beauty</td>\n",
       "      <td>https://images-na.ssl-images-amazon.com/images...</td>\n",
       "      <td>amazonbasics/hl002619,amazonbasicsaaaperforman...</td>\n",
       "      <td>...</td>\n",
       "      <td>NaN</td>\n",
       "      <td>NaN</td>\n",
       "      <td>NaN</td>\n",
       "      <td>NaN</td>\n",
       "      <td>4</td>\n",
       "      <td>https://www.amazon.com/product-reviews/B00QWO9...</td>\n",
       "      <td>Bulk is always the less expensive way to go fo...</td>\n",
       "      <td>... always the less expensive way to go for pr...</td>\n",
       "      <td>ByMG</td>\n",
       "      <td>https://www.barcodable.com/upc/841710106442,ht...</td>\n",
       "    </tr>\n",
       "    <tr>\n",
       "      <th>2</th>\n",
       "      <td>AVpgNzjwLJeJML43Kpxn</td>\n",
       "      <td>2015-10-30T08:59:32Z</td>\n",
       "      <td>2019-04-25T09:08:16Z</td>\n",
       "      <td>AmazonBasics AAA Performance Alkaline Batterie...</td>\n",
       "      <td>B00QWO9P0O,B00LH3DMUO</td>\n",
       "      <td>Amazonbasics</td>\n",
       "      <td>AA,AAA,Health,Electronics,Health &amp; Household,C...</td>\n",
       "      <td>Health &amp; Beauty</td>\n",
       "      <td>https://images-na.ssl-images-amazon.com/images...</td>\n",
       "      <td>amazonbasics/hl002619,amazonbasicsaaaperforman...</td>\n",
       "      <td>...</td>\n",
       "      <td>NaN</td>\n",
       "      <td>NaN</td>\n",
       "      <td>NaN</td>\n",
       "      <td>NaN</td>\n",
       "      <td>5</td>\n",
       "      <td>https://www.amazon.com/product-reviews/B00QWO9...</td>\n",
       "      <td>Well they are not Duracell but for the price i...</td>\n",
       "      <td>... are not Duracell but for the price i am ha...</td>\n",
       "      <td>BySharon Lambert</td>\n",
       "      <td>https://www.barcodable.com/upc/841710106442,ht...</td>\n",
       "    </tr>\n",
       "    <tr>\n",
       "      <th>3</th>\n",
       "      <td>AVpgNzjwLJeJML43Kpxn</td>\n",
       "      <td>2015-10-30T08:59:32Z</td>\n",
       "      <td>2019-04-25T09:08:16Z</td>\n",
       "      <td>AmazonBasics AAA Performance Alkaline Batterie...</td>\n",
       "      <td>B00QWO9P0O,B00LH3DMUO</td>\n",
       "      <td>Amazonbasics</td>\n",
       "      <td>AA,AAA,Health,Electronics,Health &amp; Household,C...</td>\n",
       "      <td>Health &amp; Beauty</td>\n",
       "      <td>https://images-na.ssl-images-amazon.com/images...</td>\n",
       "      <td>amazonbasics/hl002619,amazonbasicsaaaperforman...</td>\n",
       "      <td>...</td>\n",
       "      <td>NaN</td>\n",
       "      <td>NaN</td>\n",
       "      <td>NaN</td>\n",
       "      <td>NaN</td>\n",
       "      <td>5</td>\n",
       "      <td>https://www.amazon.com/product-reviews/B00QWO9...</td>\n",
       "      <td>Seem to work as well as name brand batteries a...</td>\n",
       "      <td>... as well as name brand batteries at a much ...</td>\n",
       "      <td>Bymark sexson</td>\n",
       "      <td>https://www.barcodable.com/upc/841710106442,ht...</td>\n",
       "    </tr>\n",
       "    <tr>\n",
       "      <th>4</th>\n",
       "      <td>AVpgNzjwLJeJML43Kpxn</td>\n",
       "      <td>2015-10-30T08:59:32Z</td>\n",
       "      <td>2019-04-25T09:08:16Z</td>\n",
       "      <td>AmazonBasics AAA Performance Alkaline Batterie...</td>\n",
       "      <td>B00QWO9P0O,B00LH3DMUO</td>\n",
       "      <td>Amazonbasics</td>\n",
       "      <td>AA,AAA,Health,Electronics,Health &amp; Household,C...</td>\n",
       "      <td>Health &amp; Beauty</td>\n",
       "      <td>https://images-na.ssl-images-amazon.com/images...</td>\n",
       "      <td>amazonbasics/hl002619,amazonbasicsaaaperforman...</td>\n",
       "      <td>...</td>\n",
       "      <td>NaN</td>\n",
       "      <td>NaN</td>\n",
       "      <td>NaN</td>\n",
       "      <td>NaN</td>\n",
       "      <td>5</td>\n",
       "      <td>https://www.amazon.com/product-reviews/B00QWO9...</td>\n",
       "      <td>These batteries are very long lasting the pric...</td>\n",
       "      <td>... batteries are very long lasting the price ...</td>\n",
       "      <td>Bylinda</td>\n",
       "      <td>https://www.barcodable.com/upc/841710106442,ht...</td>\n",
       "    </tr>\n",
       "  </tbody>\n",
       "</table>\n",
       "<p>5 rows × 24 columns</p>\n",
       "</div>"
      ],
      "text/plain": [
       "                     id             dateAdded           dateUpdated  \\\n",
       "0  AVpgNzjwLJeJML43Kpxn  2015-10-30T08:59:32Z  2019-04-25T09:08:16Z   \n",
       "1  AVpgNzjwLJeJML43Kpxn  2015-10-30T08:59:32Z  2019-04-25T09:08:16Z   \n",
       "2  AVpgNzjwLJeJML43Kpxn  2015-10-30T08:59:32Z  2019-04-25T09:08:16Z   \n",
       "3  AVpgNzjwLJeJML43Kpxn  2015-10-30T08:59:32Z  2019-04-25T09:08:16Z   \n",
       "4  AVpgNzjwLJeJML43Kpxn  2015-10-30T08:59:32Z  2019-04-25T09:08:16Z   \n",
       "\n",
       "                                                name                  asins  \\\n",
       "0  AmazonBasics AAA Performance Alkaline Batterie...  B00QWO9P0O,B00LH3DMUO   \n",
       "1  AmazonBasics AAA Performance Alkaline Batterie...  B00QWO9P0O,B00LH3DMUO   \n",
       "2  AmazonBasics AAA Performance Alkaline Batterie...  B00QWO9P0O,B00LH3DMUO   \n",
       "3  AmazonBasics AAA Performance Alkaline Batterie...  B00QWO9P0O,B00LH3DMUO   \n",
       "4  AmazonBasics AAA Performance Alkaline Batterie...  B00QWO9P0O,B00LH3DMUO   \n",
       "\n",
       "          brand                                         categories  \\\n",
       "0  Amazonbasics  AA,AAA,Health,Electronics,Health & Household,C...   \n",
       "1  Amazonbasics  AA,AAA,Health,Electronics,Health & Household,C...   \n",
       "2  Amazonbasics  AA,AAA,Health,Electronics,Health & Household,C...   \n",
       "3  Amazonbasics  AA,AAA,Health,Electronics,Health & Household,C...   \n",
       "4  Amazonbasics  AA,AAA,Health,Electronics,Health & Household,C...   \n",
       "\n",
       "  primaryCategories                                          imageURLs  \\\n",
       "0   Health & Beauty  https://images-na.ssl-images-amazon.com/images...   \n",
       "1   Health & Beauty  https://images-na.ssl-images-amazon.com/images...   \n",
       "2   Health & Beauty  https://images-na.ssl-images-amazon.com/images...   \n",
       "3   Health & Beauty  https://images-na.ssl-images-amazon.com/images...   \n",
       "4   Health & Beauty  https://images-na.ssl-images-amazon.com/images...   \n",
       "\n",
       "                                                keys  ... reviews.didPurchase  \\\n",
       "0  amazonbasics/hl002619,amazonbasicsaaaperforman...  ...                 NaN   \n",
       "1  amazonbasics/hl002619,amazonbasicsaaaperforman...  ...                 NaN   \n",
       "2  amazonbasics/hl002619,amazonbasicsaaaperforman...  ...                 NaN   \n",
       "3  amazonbasics/hl002619,amazonbasicsaaaperforman...  ...                 NaN   \n",
       "4  amazonbasics/hl002619,amazonbasicsaaaperforman...  ...                 NaN   \n",
       "\n",
       "  reviews.doRecommend reviews.id reviews.numHelpful reviews.rating  \\\n",
       "0                 NaN        NaN                NaN              3   \n",
       "1                 NaN        NaN                NaN              4   \n",
       "2                 NaN        NaN                NaN              5   \n",
       "3                 NaN        NaN                NaN              5   \n",
       "4                 NaN        NaN                NaN              5   \n",
       "\n",
       "                                  reviews.sourceURLs  \\\n",
       "0  https://www.amazon.com/product-reviews/B00QWO9...   \n",
       "1  https://www.amazon.com/product-reviews/B00QWO9...   \n",
       "2  https://www.amazon.com/product-reviews/B00QWO9...   \n",
       "3  https://www.amazon.com/product-reviews/B00QWO9...   \n",
       "4  https://www.amazon.com/product-reviews/B00QWO9...   \n",
       "\n",
       "                                        reviews.text  \\\n",
       "0  I order 3 of them and one of the item is bad q...   \n",
       "1  Bulk is always the less expensive way to go fo...   \n",
       "2  Well they are not Duracell but for the price i...   \n",
       "3  Seem to work as well as name brand batteries a...   \n",
       "4  These batteries are very long lasting the pric...   \n",
       "\n",
       "                                       reviews.title  reviews.username  \\\n",
       "0  ... 3 of them and one of the item is bad quali...        Byger yang   \n",
       "1  ... always the less expensive way to go for pr...              ByMG   \n",
       "2  ... are not Duracell but for the price i am ha...  BySharon Lambert   \n",
       "3  ... as well as name brand batteries at a much ...     Bymark sexson   \n",
       "4  ... batteries are very long lasting the price ...           Bylinda   \n",
       "\n",
       "                                          sourceURLs  \n",
       "0  https://www.barcodable.com/upc/841710106442,ht...  \n",
       "1  https://www.barcodable.com/upc/841710106442,ht...  \n",
       "2  https://www.barcodable.com/upc/841710106442,ht...  \n",
       "3  https://www.barcodable.com/upc/841710106442,ht...  \n",
       "4  https://www.barcodable.com/upc/841710106442,ht...  \n",
       "\n",
       "[5 rows x 24 columns]"
      ]
     },
     "execution_count": 2,
     "metadata": {},
     "output_type": "execute_result"
    }
   ],
   "source": [
    "# Read in CSV\n",
    "\n",
    "import pandas as pd\n",
    "\n",
    "df = pd.read_csv('Datafiniti_Amazon_Consumer_Reviews_of_Amazon_Products_May19.csv')\n",
    "                \n",
    "df.head()"
   ]
  },
  {
   "cell_type": "markdown",
   "metadata": {},
   "source": [
    "## Applying NLP"
   ]
  },
  {
   "cell_type": "code",
   "execution_count": 6,
   "metadata": {},
   "outputs": [],
   "source": [
    "# Import spacy to tokenize the reviews text\n",
    "\n",
    "import spacy\n",
    "\n",
    "nlp = spacy.load('en_core_web_lg')"
   ]
  },
  {
   "cell_type": "code",
   "execution_count": 18,
   "metadata": {},
   "outputs": [],
   "source": [
    "# Lemmatize the text, adding in Amazon as a stop word\n",
    "\n",
    "stop_words = nlp.Defaults.stop_words.union(['amazon','Amazon'])\n",
    "\n",
    "def get_lemmas(text):\n",
    "    \n",
    "    lemmas = []\n",
    "    \n",
    "    doc = nlp(text)\n",
    "    \n",
    "    for token in doc:\n",
    "        conditions = (token.is_stop == False) and (token.is_punct == False) and (token.pos_ != 'PRON') and (token not in stop_words)\n",
    "        if conditions:\n",
    "            lemmas.append(token.lemma_)\n",
    "    \n",
    "    return lemmas"
   ]
  },
  {
   "cell_type": "code",
   "execution_count": 19,
   "metadata": {},
   "outputs": [],
   "source": [
    "df['lemmas'] = df['reviews.text'].apply(get_lemmas)"
   ]
  },
  {
   "cell_type": "code",
   "execution_count": 20,
   "metadata": {},
   "outputs": [
    {
     "data": {
      "text/html": [
       "<div>\n",
       "<style scoped>\n",
       "    .dataframe tbody tr th:only-of-type {\n",
       "        vertical-align: middle;\n",
       "    }\n",
       "\n",
       "    .dataframe tbody tr th {\n",
       "        vertical-align: top;\n",
       "    }\n",
       "\n",
       "    .dataframe thead th {\n",
       "        text-align: right;\n",
       "    }\n",
       "</style>\n",
       "<table border=\"1\" class=\"dataframe\">\n",
       "  <thead>\n",
       "    <tr style=\"text-align: right;\">\n",
       "      <th></th>\n",
       "      <th>id</th>\n",
       "      <th>name</th>\n",
       "      <th>reviews.text</th>\n",
       "      <th>lemmas</th>\n",
       "    </tr>\n",
       "  </thead>\n",
       "  <tbody>\n",
       "    <tr>\n",
       "      <th>0</th>\n",
       "      <td>AVpgNzjwLJeJML43Kpxn</td>\n",
       "      <td>AmazonBasics AAA Performance Alkaline Batterie...</td>\n",
       "      <td>I order 3 of them and one of the item is bad q...</td>\n",
       "      <td>[order, 3, item, bad, quality, miss, backup, s...</td>\n",
       "    </tr>\n",
       "    <tr>\n",
       "      <th>1</th>\n",
       "      <td>AVpgNzjwLJeJML43Kpxn</td>\n",
       "      <td>AmazonBasics AAA Performance Alkaline Batterie...</td>\n",
       "      <td>Bulk is always the less expensive way to go fo...</td>\n",
       "      <td>[bulk, expensive, way, product, like]</td>\n",
       "    </tr>\n",
       "    <tr>\n",
       "      <th>2</th>\n",
       "      <td>AVpgNzjwLJeJML43Kpxn</td>\n",
       "      <td>AmazonBasics AAA Performance Alkaline Batterie...</td>\n",
       "      <td>Well they are not Duracell but for the price i...</td>\n",
       "      <td>[Duracell, price, happy]</td>\n",
       "    </tr>\n",
       "    <tr>\n",
       "      <th>3</th>\n",
       "      <td>AVpgNzjwLJeJML43Kpxn</td>\n",
       "      <td>AmazonBasics AAA Performance Alkaline Batterie...</td>\n",
       "      <td>Seem to work as well as name brand batteries a...</td>\n",
       "      <td>[work, brand, battery, well, price]</td>\n",
       "    </tr>\n",
       "    <tr>\n",
       "      <th>4</th>\n",
       "      <td>AVpgNzjwLJeJML43Kpxn</td>\n",
       "      <td>AmazonBasics AAA Performance Alkaline Batterie...</td>\n",
       "      <td>These batteries are very long lasting the pric...</td>\n",
       "      <td>[battery, long, last, price, great]</td>\n",
       "    </tr>\n",
       "  </tbody>\n",
       "</table>\n",
       "</div>"
      ],
      "text/plain": [
       "                     id                                               name  \\\n",
       "0  AVpgNzjwLJeJML43Kpxn  AmazonBasics AAA Performance Alkaline Batterie...   \n",
       "1  AVpgNzjwLJeJML43Kpxn  AmazonBasics AAA Performance Alkaline Batterie...   \n",
       "2  AVpgNzjwLJeJML43Kpxn  AmazonBasics AAA Performance Alkaline Batterie...   \n",
       "3  AVpgNzjwLJeJML43Kpxn  AmazonBasics AAA Performance Alkaline Batterie...   \n",
       "4  AVpgNzjwLJeJML43Kpxn  AmazonBasics AAA Performance Alkaline Batterie...   \n",
       "\n",
       "                                        reviews.text  \\\n",
       "0  I order 3 of them and one of the item is bad q...   \n",
       "1  Bulk is always the less expensive way to go fo...   \n",
       "2  Well they are not Duracell but for the price i...   \n",
       "3  Seem to work as well as name brand batteries a...   \n",
       "4  These batteries are very long lasting the pric...   \n",
       "\n",
       "                                              lemmas  \n",
       "0  [order, 3, item, bad, quality, miss, backup, s...  \n",
       "1              [bulk, expensive, way, product, like]  \n",
       "2                           [Duracell, price, happy]  \n",
       "3                [work, brand, battery, well, price]  \n",
       "4                [battery, long, last, price, great]  "
      ]
     },
     "execution_count": 20,
     "metadata": {},
     "output_type": "execute_result"
    }
   ],
   "source": [
    "df = df[['id', 'name','reviews.text', 'lemmas']]\n",
    "\n",
    "df.head()"
=======
   "execution_count": 1,
   "metadata": {},
   "outputs": [],
   "source": [
    "#Start Here"
>>>>>>> 7679a7c146b1e57b2f418b104ef494bb185b5b10
   ]
  },
  {
   "cell_type": "markdown",
   "metadata": {},
   "source": [
<<<<<<< HEAD
    "## Topic Modeling with Gensim"
   ]
  },
  {
   "cell_type": "code",
   "execution_count": 21,
   "metadata": {},
   "outputs": [],
   "source": [
    "import gensim\n",
    "from gensim import corpora\n",
    "from gensim.models.ldamulticore import LdaMulticore"
   ]
  },
  {
   "cell_type": "code",
   "execution_count": 22,
   "metadata": {},
   "outputs": [],
   "source": [
    "id2word = corpora.Dictionary(df['lemmas'])"
   ]
  },
  {
   "cell_type": "code",
   "execution_count": 23,
   "metadata": {},
   "outputs": [],
   "source": [
    "id2word.filter_extremes(no_below=16, no_above=.92)"
   ]
  },
  {
   "cell_type": "code",
   "execution_count": 24,
   "metadata": {},
   "outputs": [
    {
     "data": {
      "text/plain": [
       "1543"
      ]
     },
     "execution_count": 24,
     "metadata": {},
     "output_type": "execute_result"
    }
   ],
   "source": [
    "len(id2word.keys())"
   ]
  },
  {
   "cell_type": "code",
   "execution_count": 25,
   "metadata": {},
   "outputs": [],
   "source": [
    "corpus = [id2word.doc2bow(doc) for doc in df['lemmas']]"
   ]
  },
  {
   "cell_type": "code",
   "execution_count": 26,
   "metadata": {},
   "outputs": [],
   "source": [
    "lda = LdaMulticore(corpus=corpus, \n",
    "                   id2word=id2word,\n",
    "                   num_topics = 5, \n",
    "                   passes=150,\n",
    "                   workers=12, \n",
    "                   random_state=812\n",
    "                  )"
   ]
  },
  {
   "cell_type": "code",
   "execution_count": 27,
   "metadata": {},
   "outputs": [
    {
     "data": {
      "text/plain": [
       "[(0,\n",
       "  '0.117*\"love\" + 0.056*\"buy\" + 0.046*\"old\" + 0.037*\"year\" + 0.037*\"tablet\" + 0.035*\"use\" + 0.034*\"great\" + 0.029*\"gift\" + 0.025*\"easy\" + 0.024*\"purchase\"'),\n",
       " (1,\n",
       "  '0.063*\"kid\" + 0.045*\"tablet\" + 0.028*\"love\" + 0.026*\"great\" + 0.024*\"game\" + 0.023*\"app\" + 0.021*\"child\" + 0.019*\"time\" + 0.015*\"use\" + 0.015*\"case\"'),\n",
       " (2,\n",
       "  '0.031*\"Kindle\" + 0.018*\"read\" + 0.018*\"kindle\" + 0.017*\"Fire\" + 0.017*\"buy\" + 0.017*\"new\" + 0.015*\"like\" + 0.015*\"light\" + 0.013*\"book\" + 0.012*\"charge\"'),\n",
       " (3,\n",
       "  '0.061*\"tablet\" + 0.036*\"great\" + 0.022*\"use\" + 0.021*\"good\" + 0.020*\"app\" + 0.019*\"easy\" + 0.018*\"screen\" + 0.018*\"Amazon\" + 0.017*\"price\" + 0.012*\"need\"'),\n",
       " (4,\n",
       "  '0.098*\"battery\" + 0.059*\"good\" + 0.056*\"great\" + 0.052*\"price\" + 0.035*\"work\" + 0.025*\"long\" + 0.023*\"buy\" + 0.021*\"product\" + 0.021*\"brand\" + 0.014*\"life\"')]"
      ]
     },
     "execution_count": 27,
     "metadata": {},
     "output_type": "execute_result"
    }
   ],
   "source": [
    "lda.print_topics()"
   ]
  },
  {
   "cell_type": "code",
   "execution_count": 28,
   "metadata": {},
   "outputs": [
    {
     "name": "stdout",
     "output_type": "stream",
     "text": [
      "------ Topic 0 ------\n",
      "love buy old year tablet\n",
      "\n",
      "------ Topic 1 ------\n",
      "kid tablet love great game\n",
      "\n",
      "------ Topic 2 ------\n",
      "Kindle read kindle Fire buy\n",
      "\n",
      "------ Topic 3 ------\n",
      "tablet great use good app\n",
      "\n",
      "------ Topic 4 ------\n",
      "battery good great price work\n",
      "\n"
     ]
    }
   ],
   "source": [
    "import re\n",
    "\n",
    "words = [re.findall(r'\"([^\"]*)\"',t[1]) for t in lda.print_topics()]\n",
    "\n",
    "topics = [' '.join(t[0:5]) for t in words]\n",
    "\n",
    "for id, t in enumerate(topics): \n",
    "    print(f\"------ Topic {id} ------\")\n",
    "    print(t, end=\"\\n\\n\")"
   ]
  },
  {
   "cell_type": "markdown",
   "metadata": {},
   "source": [
    "## Create visualization\n"
   ]
  },
  {
   "cell_type": "code",
   "execution_count": 29,
   "metadata": {},
   "outputs": [],
   "source": [
    "import pyLDAvis.gensim\n",
    "\n",
    "pyLDAvis.enable_notebook()"
   ]
  },
  {
   "cell_type": "code",
   "execution_count": 30,
   "metadata": {},
   "outputs": [
    {
     "data": {
      "text/html": [
       "\n",
       "<link rel=\"stylesheet\" type=\"text/css\" href=\"https://cdn.rawgit.com/bmabey/pyLDAvis/files/ldavis.v1.0.0.css\">\n",
       "\n",
       "\n",
       "<div id=\"ldavis_el1539849231244966591041178\"></div>\n",
       "<script type=\"text/javascript\">\n",
       "\n",
       "var ldavis_el1539849231244966591041178_data = {\"mdsDat\": {\"x\": [-0.2675096427620285, -0.06047789053442401, -0.05006074664432996, 0.16706384057571513, 0.2109844393650674], \"y\": [0.14641026030798457, -0.06158329526004663, -0.20089431627023313, -0.020409652226811084, 0.13647700344910646], \"topics\": [1, 2, 3, 4, 5], \"cluster\": [1, 1, 1, 1, 1], \"Freq\": [28.292285919189453, 21.644468307495117, 21.31161880493164, 15.09687614440918, 13.65475082397461]}, \"tinfo\": {\"Term\": [\"battery\", \"love\", \"kid\", \"tablet\", \"price\", \"old\", \"buy\", \"Kindle\", \"year\", \"good\", \"app\", \"great\", \"gift\", \"brand\", \"long\", \"child\", \"game\", \"Christmas\", \"easy\", \"screen\", \"new\", \"light\", \"value\", \"kindle\", \"use\", \"daughter\", \"work\", \"life\", \"Fire\", \"son\", \"battery\", \"brand\", \"value\", \"remote\", \"Duracell\", \"pack\", \"AA\", \"AmazonBasics\", \"packaging\", \"controller\", \"describe\", \"leak\", \"reasonable\", \"aaa\", \"energizer\", \"Basics\", \"mouse\", \"flashlight\", \"Energizer\", \"AAA\", \"alkaline\", \"lasting\", \"shipping\", \"rechargeable\", \"fraction\", \"bargain\", \"candle\", \"Batteries\", \"duracell\", \"comparable\", \"life\", \"deal\", \"toy\", \"package\", \"last\", \"long\", \"price\", \"order\", \"thank\", \"good\", \"advertise\", \"cheap\", \"work\", \"product\", \"test\", \"quality\", \"great\", \"beat\", \"far\", \"expect\", \"performance\", \"box\", \"money\", \"cost\", \"buy\", \"excellent\", \"Amazon\", \"time\", \"store\", \"like\", \"purchase\", \"need\", \"use\", \"recommend\", \"Google\", \"sound\", \"travel\", \"web\", \"email\", \"carry\", \"android\", \"google\", \"Android\", \"surf\", \"lightweight\", \"Play\", \"tap\", \"Apple\", \"install\", \"entertainment\", \"stream\", \"browse\", \"magazine\", \"Store\", \"medium\", \"lack\", \"purse\", \"browser\", \"expectation\", \"OS\", \"browsing\", \"Bluetooth\", \"key\", \"downside\", \"slow\", \"wifi\", \"iPad\", \"Prime\", \"picture\", \"internet\", \"size\", \"speaker\", \"music\", \"screen\", \"tablet\", \"movie\", \"load\", \"app\", \"nice\", \"clear\", \"Netflix\", \"watch\", \"reading\", \"Amazon\", \"easy\", \"great\", \"need\", \"use\", \"little\", \"want\", \"book\", \"look\", \"good\", \"read\", \"price\", \"perfect\", \"device\", \"download\", \"work\", \"play\", \"game\", \"like\", \"fast\", \"quality\", \"Kindle\", \"light\", \"reader\", \"upgrade\", \"e\", \"model\", \"weight\", \"previous\", \"HD8\", \"page\", \"original\", \"faster\", \"16\", \"plug\", \"own\", \"cable\", \"generation\", \"dead\", \"white\", \"lose\", \"improvement\", \"Nook\", \"miss\", \"Voyage\", \"paper\", \"text\", \"Oasis\", \"Best\", \"paperwhite\", \"avid\", \"new\", \"eye\", \"week\", \"replace\", \"charge\", \"Fire\", \"wait\", \"7\", \"kindle\", \"version\", \"HD\", \"night\", \"turn\", \"day\", \"8\", \"read\", \"return\", \"fire\", \"book\", \"try\", \"like\", \"find\", \"screen\", \"device\", \"buy\", \"Amazon\", \"time\", \"get\", \"well\", \"purchase\", \"use\", \"want\", \"easy\", \"good\", \"kid\", \"control\", \"parental\", \"limit\", \"adult\", \"entertain\", \"profile\", \"appropriate\", \"protective\", \"car\", \"protect\", \"safe\", \"bumper\", \"busy\", \"child\", \"unlimited\", \"Edition\", \"road\", \"grow\", \"proof\", \"activity\", \"ride\", \"Grandson\", \"occupy\", \"interested\", \"FreeTime\", \"rubber\", \"teach\", \"hundred\", \"credit\", \"worry\", \"warranty\", \"educational\", \"case\", \"site\", \"drop\", \"young\", \"set\", \"free\", \"keep\", \"content\", \"game\", \"app\", \"fun\", \"durable\", \"son\", \"download\", \"tablet\", \"time\", \"play\", \"lot\", \"love\", \"year\", \"2\", \"come\", \"learn\", \"great\", \"easy\", \"use\", \"like\", \"good\", \"old\", \"enjoy\", \"daughter\", \"buy\", \"book\", \"gift\", \"Christmas\", \"grandson\", \"granddaughter\", \"mom\", \"niece\", \"nephew\", \"birthday\", \"present\", \"grandkid\", \"tool\", \"sister\", \"grandchild\", \"Echo\", \"law\", \"dad\", \"echo\", \"portability\", \"Tap\", \"Mom\", \"Mother\", \"Xmas\", \"seven\", \"command\", \"Day\", \"grandma\", \"yrs\", \"mother\", \"absolutely\", \"Dot\", \"friend\", \"love\", \"old\", \"yr\", \"year\", \"daughter\", \"school\", \"6\", \"buy\", \"3\", \"son\", \"purchase\", \"recommend\", \"use\", \"easy\", \"tablet\", \"get\", \"wife\", \"perfect\", \"great\", \"play\", \"enjoy\", \"game\", \"kindle\", \"4\", \"5\", \"happy\", \"product\", \"2\", \"work\"], \"Freq\": [8420.0, 6125.0, 2910.0, 7745.0, 5602.0, 2729.0, 5791.0, 2028.0, 2372.0, 7514.0, 2360.0, 9748.0, 1201.0, 1805.0, 2389.0, 977.0, 2035.0, 863.0, 3366.0, 1853.0, 1113.0, 981.0, 1200.0, 1638.0, 4793.0, 1056.0, 4453.0, 1243.0, 1364.0, 991.0, 8420.296875, 1804.4888916015625, 1199.9459228515625, 434.16357421875, 417.9567565917969, 370.1336669921875, 341.5290222167969, 233.31590270996094, 196.69754028320312, 186.56178283691406, 169.63775634765625, 165.20884704589844, 164.04896545410156, 157.34906005859375, 145.54185485839844, 144.78672790527344, 144.77188110351562, 141.75631713867188, 137.97637939453125, 134.19049072265625, 133.4358673095703, 129.81068420410156, 125.42982482910156, 116.77908325195312, 111.6581039428711, 109.84136962890625, 105.41907501220703, 93.32991790771484, 88.78915405273438, 86.2123794555664, 1209.2579345703125, 943.2540283203125, 424.3550720214844, 321.0710754394531, 642.03515625, 2115.218017578125, 4462.82373046875, 524.0118408203125, 423.0774841308594, 5058.462890625, 163.51077270507812, 785.5916137695312, 3033.84716796875, 1840.830810546875, 195.8496551513672, 977.8280639648438, 4822.603515625, 444.7972412109375, 801.362060546875, 474.1226806640625, 316.10540771484375, 350.4897155761719, 564.862060546875, 341.61981201171875, 1939.9613037109375, 495.5268859863281, 1073.3736572265625, 887.4479370117188, 511.5705871582031, 659.8609619140625, 607.708740234375, 521.3731079101562, 563.345458984375, 469.7981262207031, 307.7481994628906, 295.9482727050781, 293.9354248046875, 279.0919494628906, 263.18731689453125, 233.275146484375, 177.24598693847656, 168.8844757080078, 165.6404571533203, 150.06642150878906, 144.78359985351562, 118.97213745117188, 116.75646209716797, 113.76798248291016, 113.15142822265625, 108.94178771972656, 108.0521240234375, 104.63289642333984, 99.36894989013672, 95.8456039428711, 95.04466247558594, 86.86831665039062, 84.66736602783203, 80.3896713256836, 73.50030517578125, 69.83193969726562, 68.95872497558594, 62.95391845703125, 59.97539138793945, 57.43355941772461, 314.5020751953125, 227.57318115234375, 554.1248779296875, 238.0221405029297, 333.3729553222656, 409.11444091796875, 748.6622924804688, 207.42774963378906, 302.2926940917969, 1181.4000244140625, 3979.111083984375, 557.2438354492188, 258.0901794433594, 1288.77099609375, 756.2974243164062, 241.37501525878906, 206.93115234375, 519.5362548828125, 295.4393005371094, 1173.6500244140625, 1243.1053466796875, 2356.442138671875, 760.0476684570312, 1458.38818359375, 463.6636047363281, 557.513427734375, 706.5035400390625, 460.9700622558594, 1409.5155029296875, 729.0970458984375, 1138.89306640625, 477.51544189453125, 514.968994140625, 412.1266784667969, 699.3866577148438, 452.2701416015625, 477.9932556152344, 501.55133056640625, 385.2442321777344, 404.6431579589844, 2027.3685302734375, 980.6739501953125, 656.9125366210938, 389.74127197265625, 386.0799865722656, 371.0836486816406, 231.8545379638672, 216.82862854003906, 194.92083740234375, 221.34983825683594, 172.3270263671875, 167.2704620361328, 149.4165496826172, 135.04534912109375, 126.75875091552734, 116.27078247070312, 109.96382141113281, 108.95015716552734, 98.42508697509766, 99.12915802001953, 96.11641693115234, 89.18123626708984, 86.32097625732422, 83.04359436035156, 78.5892105102539, 78.26661682128906, 72.14202880859375, 71.0324935913086, 69.64956665039062, 69.34149169921875, 1081.86181640625, 181.898193359375, 298.87811279296875, 553.8468627929688, 804.8743896484375, 1127.52978515625, 172.71669006347656, 468.854736328125, 1153.8800048828125, 331.0186462402344, 222.38327026367188, 158.138671875, 285.09844970703125, 475.5937194824219, 534.094970703125, 1180.6480712890625, 244.06689453125, 712.2438354492188, 865.9353637695312, 367.82513427734375, 999.4065551757812, 450.5837707519531, 671.7069702148438, 553.2610473632812, 1087.4017333984375, 676.1884155273438, 573.8798217773438, 512.3223266601562, 404.9325866699219, 553.740234375, 641.4343872070312, 409.8232727050781, 428.55621337890625, 440.6308288574219, 2910.097412109375, 617.594482421875, 460.3313903808594, 264.6866760253906, 199.84019470214844, 154.15782165527344, 151.50973510742188, 139.09251403808594, 131.51296997070312, 130.20396423339844, 116.19416046142578, 112.95994567871094, 85.74085998535156, 85.31259155273438, 968.3818969726562, 73.48592376708984, 72.63188171386719, 66.33057403564453, 65.8924331665039, 61.23627853393555, 59.01676559448242, 55.611907958984375, 55.17618179321289, 45.49150466918945, 44.205718994140625, 42.343536376953125, 41.83363723754883, 43.992767333984375, 41.63935470581055, 37.73667907714844, 170.47979736328125, 313.91534423828125, 252.5579376220703, 681.1279296875, 58.3008918762207, 264.85723876953125, 224.97528076171875, 638.8392944335938, 427.1604309082031, 291.4792785644531, 199.52940368652344, 1090.514892578125, 1070.8719482421875, 189.86880493164062, 236.1754150390625, 498.4576721191406, 436.2722473144531, 2042.4912109375, 858.2951049804688, 610.240478515625, 504.839111328125, 1288.7430419921875, 652.1806030273438, 394.3066101074219, 412.59979248046875, 288.1112365722656, 1177.7911376953125, 672.4885864257812, 682.9465942382812, 546.4703369140625, 603.700439453125, 432.8140563964844, 316.3793029785156, 321.77264404296875, 389.2629699707031, 297.3045959472656, 1200.8717041015625, 863.0260620117188, 523.2763671875, 451.56396484375, 251.66470336914062, 212.8780059814453, 192.73495483398438, 185.83981323242188, 186.6514129638672, 181.90005493164062, 142.82958984375, 106.32830047607422, 102.98538970947266, 96.72982788085938, 89.9715805053711, 77.56685638427734, 47.07284927368164, 36.35470962524414, 31.75719451904297, 31.279529571533203, 29.701976776123047, 28.55535125732422, 28.208580017089844, 27.884510040283203, 24.494400024414062, 23.727596282958984, 23.27872085571289, 166.4618682861328, 272.0812683105469, 17.090394973754883, 196.15675354003906, 4835.45458984375, 1919.21728515625, 214.32769775390625, 1554.6033935546875, 734.255859375, 135.4034881591797, 181.5999298095703, 2311.66552734375, 383.0916442871094, 492.30987548828125, 995.0807495117188, 579.1069946289062, 1446.88818359375, 1021.6963500976562, 1529.166748046875, 621.2987060546875, 257.935546875, 418.7021179199219, 1390.0679931640625, 436.5414123535156, 340.5267028808594, 466.271240234375, 419.93560791015625, 302.4483947753906, 261.9119873046875, 310.0234375, 416.7149963378906, 294.7078857421875, 355.26336669921875], \"Total\": [8420.0, 6125.0, 2910.0, 7745.0, 5602.0, 2729.0, 5791.0, 2028.0, 2372.0, 7514.0, 2360.0, 9748.0, 1201.0, 1805.0, 2389.0, 977.0, 2035.0, 863.0, 3366.0, 1853.0, 1113.0, 981.0, 1200.0, 1638.0, 4793.0, 1056.0, 4453.0, 1243.0, 1364.0, 991.0, 8420.9580078125, 1805.1466064453125, 1200.6109619140625, 434.82257080078125, 418.61309814453125, 370.79400634765625, 342.18548583984375, 233.97335815429688, 197.35476684570312, 187.21961975097656, 170.29737854003906, 165.86740112304688, 164.71466064453125, 158.00645446777344, 146.1984100341797, 145.44290161132812, 145.4315185546875, 142.4134063720703, 138.63253784179688, 134.84725952148438, 134.09210205078125, 130.46775817871094, 126.088134765625, 117.43743133544922, 112.32015228271484, 110.5047378540039, 106.08206939697266, 93.98623657226562, 89.44550323486328, 86.87129974365234, 1243.2635498046875, 970.176025390625, 435.4023742675781, 330.0522766113281, 672.3364868164062, 2389.87255859375, 5602.22216796875, 594.2603759765625, 474.829345703125, 7514.294921875, 167.740966796875, 975.3148193359375, 4453.767578125, 2673.23291015625, 206.54295349121094, 1395.50537109375, 9748.052734375, 561.1888427734375, 1267.074951171875, 646.57177734375, 381.9464111328125, 439.6016540527344, 826.1962890625, 439.9380187988281, 5791.2978515625, 791.238037109375, 3080.21484375, 2395.429443359375, 1040.165283203125, 2843.73681640625, 2578.238037109375, 1760.6759033203125, 4793.0029296875, 1325.174560546875, 308.5209045410156, 296.72747802734375, 294.7133483886719, 279.865966796875, 263.96270751953125, 234.06134033203125, 178.02114868164062, 169.65997314453125, 166.41551208496094, 150.84072875976562, 145.5643310546875, 119.74481964111328, 117.54975891113281, 114.54779052734375, 113.9328384399414, 109.7183837890625, 108.8262710571289, 105.40813446044922, 100.14120483398438, 96.624267578125, 95.82353210449219, 87.64810180664062, 85.45074462890625, 81.16358947753906, 74.28533935546875, 70.60675048828125, 69.73130798339844, 63.73275375366211, 60.76242446899414, 58.2147102355957, 331.3639221191406, 238.57516479492188, 601.4458618164062, 267.4606018066406, 392.98175048828125, 494.5283508300781, 1014.7557983398438, 240.38113403320312, 373.10955810546875, 1853.6939697265625, 7745.0078125, 788.0108032226562, 319.603759765625, 2360.26611328125, 1224.927490234375, 299.6895446777344, 249.09764099121094, 880.7786865234375, 422.7848205566406, 3080.21484375, 3366.12158203125, 9748.052734375, 1760.6759033203125, 4793.0029296875, 931.8180541992188, 1309.792724609375, 1988.2652587890625, 942.1380615234375, 7514.294921875, 2261.8916015625, 5602.22216796875, 1067.630859375, 1324.1654052734375, 849.0235595703125, 4453.767578125, 1499.5177001953125, 2035.24365234375, 2843.73681640625, 887.9752197265625, 1395.50537109375, 2028.11474609375, 981.728271484375, 657.6572875976562, 390.48492431640625, 386.8273010253906, 371.8284606933594, 232.59971618652344, 217.57400512695312, 195.6709442138672, 222.2122039794922, 173.0692596435547, 168.02059936523438, 150.16506958007812, 135.78797912597656, 127.50454711914062, 117.01611328125, 110.70565795898438, 109.7034912109375, 99.1672134399414, 99.8864974975586, 96.86058044433594, 89.9259033203125, 87.0711669921875, 83.7839584350586, 79.33050537109375, 79.00862884521484, 72.88256072998047, 71.77776336669922, 70.39147186279297, 70.08711242675781, 1113.113037109375, 184.30154418945312, 311.29998779296875, 591.0146484375, 918.8212890625, 1364.04541015625, 185.0842742919922, 568.7001953125, 1638.506591796875, 406.2288513183594, 257.77923583984375, 175.47366333007812, 365.06744384765625, 694.1886596679688, 812.3614501953125, 2261.8916015625, 305.2151184082031, 1272.9036865234375, 1988.2652587890625, 570.0158081054688, 2843.73681640625, 835.0198974609375, 1853.6939697265625, 1324.1654052734375, 5791.2978515625, 3080.21484375, 2395.429443359375, 1878.7679443359375, 1068.9984130859375, 2578.238037109375, 4793.0029296875, 1309.792724609375, 3366.12158203125, 7514.294921875, 2910.879150390625, 618.3809814453125, 461.1090087890625, 265.46710205078125, 200.61935424804688, 154.93576049804688, 152.29087829589844, 139.872314453125, 132.29348754882812, 130.9951629638672, 116.97409057617188, 113.74064636230469, 86.51911163330078, 86.09207153320312, 977.8804321289062, 74.26461029052734, 73.41271209716797, 67.1111831665039, 66.68011474609375, 62.01433563232422, 59.79545593261719, 56.392276763916016, 55.96147537231445, 46.268638610839844, 44.98836135864258, 43.123809814453125, 42.61045455932617, 44.82722854614258, 42.42988204956055, 38.520565032958984, 174.41656494140625, 324.0462951660156, 265.002197265625, 851.6580810546875, 60.68927001953125, 315.2152099609375, 265.1317138671875, 892.1735229492188, 615.5139770507812, 394.086181640625, 257.49163818359375, 2035.24365234375, 2360.26611328125, 259.5592956542969, 359.5874938964844, 991.393310546875, 849.0235595703125, 7745.0078125, 2395.429443359375, 1499.5177001953125, 1279.047607421875, 6125.64453125, 2372.469482421875, 956.2752685546875, 1099.4110107421875, 538.86865234375, 9748.052734375, 3366.12158203125, 4793.0029296875, 2843.73681640625, 7514.294921875, 2729.1044921875, 882.625, 1056.64990234375, 5791.2978515625, 1988.2652587890625, 1201.6458740234375, 863.8028564453125, 524.05029296875, 452.3372802734375, 252.43997192382812, 213.65106201171875, 193.5086212158203, 186.61395263671875, 187.42921447753906, 182.6746368408203, 143.60873413085938, 107.10157012939453, 103.7586898803711, 97.5174560546875, 90.74436950683594, 78.34111022949219, 47.85498046875, 37.13596725463867, 32.54405212402344, 32.05820083618164, 30.476234436035156, 29.328914642333984, 28.983238220214844, 28.677539825439453, 25.27607536315918, 24.4979190826416, 24.05353355407715, 173.2342529296875, 284.2718811035156, 17.8723087310791, 208.34413146972656, 6125.64453125, 2729.1044921875, 261.5225524902344, 2372.469482421875, 1056.64990234375, 185.0787353515625, 266.5238952636719, 5791.2978515625, 667.0283203125, 991.393310546875, 2578.238037109375, 1325.174560546875, 4793.0029296875, 3366.12158203125, 7745.0078125, 1878.7679443359375, 464.21807861328125, 1067.630859375, 9748.052734375, 1499.5177001953125, 882.625, 2035.24365234375, 1638.506591796875, 686.8900756835938, 482.51190185546875, 854.7694091796875, 2673.23291015625, 956.2752685546875, 4453.767578125], \"Category\": [\"Default\", \"Default\", \"Default\", \"Default\", \"Default\", \"Default\", \"Default\", \"Default\", \"Default\", \"Default\", \"Default\", \"Default\", \"Default\", \"Default\", \"Default\", \"Default\", \"Default\", \"Default\", \"Default\", \"Default\", \"Default\", \"Default\", \"Default\", \"Default\", \"Default\", \"Default\", \"Default\", \"Default\", \"Default\", \"Default\", \"Topic1\", \"Topic1\", \"Topic1\", \"Topic1\", \"Topic1\", \"Topic1\", \"Topic1\", \"Topic1\", \"Topic1\", \"Topic1\", \"Topic1\", \"Topic1\", \"Topic1\", \"Topic1\", \"Topic1\", \"Topic1\", \"Topic1\", \"Topic1\", \"Topic1\", \"Topic1\", \"Topic1\", \"Topic1\", \"Topic1\", \"Topic1\", \"Topic1\", \"Topic1\", \"Topic1\", \"Topic1\", \"Topic1\", \"Topic1\", \"Topic1\", \"Topic1\", \"Topic1\", \"Topic1\", \"Topic1\", \"Topic1\", \"Topic1\", \"Topic1\", \"Topic1\", \"Topic1\", \"Topic1\", \"Topic1\", \"Topic1\", \"Topic1\", \"Topic1\", \"Topic1\", \"Topic1\", \"Topic1\", \"Topic1\", \"Topic1\", \"Topic1\", \"Topic1\", \"Topic1\", \"Topic1\", \"Topic1\", \"Topic1\", \"Topic1\", \"Topic1\", \"Topic1\", \"Topic1\", \"Topic1\", \"Topic1\", \"Topic1\", \"Topic1\", \"Topic2\", \"Topic2\", \"Topic2\", \"Topic2\", \"Topic2\", \"Topic2\", \"Topic2\", \"Topic2\", \"Topic2\", \"Topic2\", \"Topic2\", \"Topic2\", \"Topic2\", \"Topic2\", \"Topic2\", \"Topic2\", \"Topic2\", \"Topic2\", \"Topic2\", \"Topic2\", \"Topic2\", \"Topic2\", \"Topic2\", \"Topic2\", \"Topic2\", \"Topic2\", \"Topic2\", \"Topic2\", \"Topic2\", \"Topic2\", \"Topic2\", \"Topic2\", \"Topic2\", \"Topic2\", \"Topic2\", \"Topic2\", \"Topic2\", \"Topic2\", \"Topic2\", \"Topic2\", \"Topic2\", \"Topic2\", \"Topic2\", \"Topic2\", \"Topic2\", \"Topic2\", \"Topic2\", \"Topic2\", \"Topic2\", \"Topic2\", \"Topic2\", \"Topic2\", \"Topic2\", \"Topic2\", \"Topic2\", \"Topic2\", \"Topic2\", \"Topic2\", \"Topic2\", \"Topic2\", \"Topic2\", \"Topic2\", \"Topic2\", \"Topic2\", \"Topic2\", \"Topic2\", \"Topic2\", \"Topic2\", \"Topic2\", \"Topic2\", \"Topic3\", \"Topic3\", \"Topic3\", \"Topic3\", \"Topic3\", \"Topic3\", \"Topic3\", \"Topic3\", \"Topic3\", \"Topic3\", \"Topic3\", \"Topic3\", \"Topic3\", \"Topic3\", \"Topic3\", \"Topic3\", \"Topic3\", \"Topic3\", \"Topic3\", \"Topic3\", \"Topic3\", \"Topic3\", \"Topic3\", \"Topic3\", \"Topic3\", \"Topic3\", \"Topic3\", \"Topic3\", \"Topic3\", \"Topic3\", \"Topic3\", \"Topic3\", \"Topic3\", \"Topic3\", \"Topic3\", \"Topic3\", \"Topic3\", \"Topic3\", \"Topic3\", \"Topic3\", \"Topic3\", \"Topic3\", \"Topic3\", \"Topic3\", \"Topic3\", \"Topic3\", \"Topic3\", \"Topic3\", \"Topic3\", \"Topic3\", \"Topic3\", \"Topic3\", \"Topic3\", \"Topic3\", \"Topic3\", \"Topic3\", \"Topic3\", \"Topic3\", \"Topic3\", \"Topic3\", \"Topic3\", \"Topic3\", \"Topic3\", \"Topic3\", \"Topic4\", \"Topic4\", \"Topic4\", \"Topic4\", \"Topic4\", \"Topic4\", \"Topic4\", \"Topic4\", \"Topic4\", \"Topic4\", \"Topic4\", \"Topic4\", \"Topic4\", \"Topic4\", \"Topic4\", \"Topic4\", \"Topic4\", \"Topic4\", \"Topic4\", \"Topic4\", \"Topic4\", \"Topic4\", \"Topic4\", \"Topic4\", \"Topic4\", \"Topic4\", \"Topic4\", \"Topic4\", \"Topic4\", \"Topic4\", \"Topic4\", \"Topic4\", \"Topic4\", \"Topic4\", \"Topic4\", \"Topic4\", \"Topic4\", \"Topic4\", \"Topic4\", \"Topic4\", \"Topic4\", \"Topic4\", \"Topic4\", \"Topic4\", \"Topic4\", \"Topic4\", \"Topic4\", \"Topic4\", \"Topic4\", \"Topic4\", \"Topic4\", \"Topic4\", \"Topic4\", \"Topic4\", \"Topic4\", \"Topic4\", \"Topic4\", \"Topic4\", \"Topic4\", \"Topic4\", \"Topic4\", \"Topic4\", \"Topic4\", \"Topic4\", \"Topic4\", \"Topic4\", \"Topic5\", \"Topic5\", \"Topic5\", \"Topic5\", \"Topic5\", \"Topic5\", \"Topic5\", \"Topic5\", \"Topic5\", \"Topic5\", \"Topic5\", \"Topic5\", \"Topic5\", \"Topic5\", \"Topic5\", \"Topic5\", \"Topic5\", \"Topic5\", \"Topic5\", \"Topic5\", \"Topic5\", \"Topic5\", \"Topic5\", \"Topic5\", \"Topic5\", \"Topic5\", \"Topic5\", \"Topic5\", \"Topic5\", \"Topic5\", \"Topic5\", \"Topic5\", \"Topic5\", \"Topic5\", \"Topic5\", \"Topic5\", \"Topic5\", \"Topic5\", \"Topic5\", \"Topic5\", \"Topic5\", \"Topic5\", \"Topic5\", \"Topic5\", \"Topic5\", \"Topic5\", \"Topic5\", \"Topic5\", \"Topic5\", \"Topic5\", \"Topic5\", \"Topic5\", \"Topic5\", \"Topic5\", \"Topic5\", \"Topic5\", \"Topic5\", \"Topic5\", \"Topic5\", \"Topic5\"], \"logprob\": [30.0, 29.0, 28.0, 27.0, 26.0, 25.0, 24.0, 23.0, 22.0, 21.0, 20.0, 19.0, 18.0, 17.0, 16.0, 15.0, 14.0, 13.0, 12.0, 11.0, 10.0, 9.0, 8.0, 7.0, 6.0, 5.0, 4.0, 3.0, 2.0, 1.0, -2.3231000900268555, -3.8633999824523926, -4.271399974822998, -5.288000106811523, -5.326099872589111, -5.4475998878479, -5.5279998779296875, -5.90910005569458, -6.079800128936768, -6.132699966430664, -6.227799892425537, -6.254199981689453, -6.261300086975098, -6.302999973297119, -6.38100004196167, -6.386199951171875, -6.386300086975098, -6.407299995422363, -6.4344000816345215, -6.462200164794922, -6.467800140380859, -6.4953999519348145, -6.529699802398682, -6.601200103759766, -6.645999908447266, -6.662399768829346, -6.703499794006348, -6.825300216674805, -6.875199794769287, -6.904600143432617, -4.263700008392334, -4.5121002197265625, -5.3109002113342285, -5.589799880981445, -4.8968000411987305, -3.7044999599456787, -2.957900047302246, -5.099899768829346, -5.313899993896484, -2.8326001167297363, -6.264599800109863, -4.695000171661377, -3.343899965286255, -3.8434998989105225, -6.084099769592285, -4.476099967956543, -2.8803999423980713, -5.263800144195557, -4.675099849700928, -5.199999809265137, -5.605400085449219, -5.502099990844727, -5.024899959564209, -5.5278000831604, -3.7909998893737793, -5.155799865722656, -4.382900238037109, -4.5731000900268555, -5.124000072479248, -4.8694000244140625, -4.9517998695373535, -5.105000019073486, -5.027599811553955, -5.209199905395508, -5.364299774169922, -5.40339994430542, -5.410299777984619, -5.462100028991699, -5.5208001136779785, -5.64139986038208, -5.916100025177002, -5.964399814605713, -5.983799934387207, -6.082499980926514, -6.1184000968933105, -6.314700126647949, -6.333499908447266, -6.359499931335449, -6.3649001121521, -6.4028000831604, -6.410999774932861, -6.44320011138916, -6.494800090789795, -6.530900001525879, -6.539299964904785, -6.629199981689453, -6.654900074005127, -6.706699848175049, -6.796299934387207, -6.847499847412109, -6.860099792480469, -6.951200008392334, -6.99970006942749, -7.043000221252441, -5.342599868774414, -5.666100025177002, -4.776199817657471, -5.621300220489502, -5.28439998626709, -5.079599857330322, -4.475299835205078, -5.758800029754639, -5.382199764251709, -4.019199848175049, -2.804800033569336, -4.770599842071533, -5.540299892425537, -3.9321999549865723, -4.465199947357178, -5.6072998046875, -5.761199951171875, -4.840700149536133, -5.405200004577637, -4.025700092315674, -3.9681999683380127, -3.328700065612793, -4.46019983291626, -3.808500051498413, -4.954500198364258, -4.770100116729736, -4.533299922943115, -4.960299968719482, -3.842600107192993, -4.501800060272217, -4.055799961090088, -4.925000190734863, -4.8495001792907715, -5.072299957275391, -4.543399810791016, -4.979300022125244, -4.923999786376953, -4.875899791717529, -5.139699935913086, -5.09060001373291, -3.463599920272827, -4.189899921417236, -4.59060001373291, -5.112599849700928, -5.122099876403809, -5.1616997718811035, -5.631999969482422, -5.698999881744385, -5.805500030517578, -5.678400039672852, -5.928699970245361, -5.958499908447266, -6.071400165557861, -6.172500133514404, -6.235799789428711, -6.322199821472168, -6.377999782562256, -6.387199878692627, -6.488800048828125, -6.4816999435424805, -6.512599945068359, -6.587399959564209, -6.619999885559082, -6.65880012512207, -6.713900089263916, -6.7179999351501465, -6.799499988555908, -6.815000057220459, -6.83459997177124, -6.839099884033203, -4.091700077056885, -5.87470006942749, -5.3780999183654785, -4.761199951171875, -4.387400150299072, -4.050300121307373, -5.926499843597412, -4.927800178527832, -4.027200222015381, -5.275899887084961, -5.673699855804443, -6.014599800109863, -5.425300121307373, -4.913599967956543, -4.797500133514404, -4.004300117492676, -5.580699920654297, -4.509699821472168, -4.314300060272217, -5.170499801635742, -4.171000003814697, -4.967599868774414, -4.568299770355225, -4.76230001449585, -4.086599826812744, -4.561600208282471, -4.7256999015808105, -4.839200019836426, -5.074399948120117, -4.76140022277832, -4.6143999099731445, -5.062399864196777, -5.0177001953125, -4.9899001121521, -2.7574000358581543, -4.307499885559082, -4.601399898529053, -5.154799938201904, -5.435800075531006, -5.695400238037109, -5.712699890136719, -5.7982001304626465, -5.8541998863220215, -5.864299774169922, -5.978099822998047, -6.00629997253418, -6.2820000648498535, -6.2870001792907715, -3.8577001094818115, -6.436299800872803, -6.447999954223633, -6.538700103759766, -6.545300006866455, -6.618599891662598, -6.6554999351501465, -6.715000152587891, -6.722799777984619, -6.915800094604492, -6.944499969482422, -6.987500190734863, -6.99970006942749, -6.9492998123168945, -7.004300117492676, -7.102700233459473, -5.594699859619141, -4.9842000007629395, -5.201700210571289, -4.20959997177124, -6.667699813842773, -5.154200077056885, -5.317399978637695, -4.27370023727417, -4.676199913024902, -5.0584001541137695, -5.437399864196777, -3.739000082015991, -3.7571001052856445, -5.486999988555908, -5.268799781799316, -4.5218000411987305, -4.655099868774414, -3.1113998889923096, -3.9783999919891357, -4.319499969482422, -4.509099960327148, -3.571899890899658, -4.252999782562256, -4.756199836730957, -4.710899829864502, -5.070000171661377, -3.6619999408721924, -4.222400188446045, -4.206900119781494, -4.429900169372559, -4.3302998542785645, -4.663000106811523, -4.976399898529053, -4.959499835968018, -4.769100189208984, -5.038599967956543, -3.5422000885009766, -3.872499942779541, -4.372799873352051, -4.520199775695801, -5.104899883270264, -5.272200107574463, -5.371600151062012, -5.408100128173828, -5.40369987487793, -5.429500102996826, -5.671299934387207, -5.966400146484375, -5.9984002113342285, -6.060999870300293, -6.133500099182129, -6.281799793243408, -6.781300067901611, -7.039599895477295, -7.174799919128418, -7.190000057220459, -7.241700172424316, -7.281099796295166, -7.293300151824951, -7.304900169372559, -7.434500217437744, -7.466300010681152, -7.485400199890137, -5.518199920654297, -5.026899814605713, -7.794400215148926, -5.354000091552734, -2.149199962615967, -3.0732998847961426, -5.265399932861328, -3.2839999198913574, -4.03410005569458, -5.724699974060059, -5.431099891662598, -2.887200117111206, -4.684700012207031, -4.433800220489502, -3.73009991645813, -4.271500110626221, -3.355799913406372, -3.703700065612793, -3.30049991607666, -4.201099872589111, -5.0802001953125, -4.595799922943115, -3.3958001136779785, -4.554100036621094, -4.802499771118164, -4.4882001876831055, -4.592899799346924, -4.921000003814697, -5.064899921417236, -4.896299839019775, -4.600599765777588, -4.947000026702881, -4.7600998878479], \"loglift\": [30.0, 29.0, 28.0, 27.0, 26.0, 25.0, 24.0, 23.0, 22.0, 21.0, 20.0, 19.0, 18.0, 17.0, 16.0, 15.0, 14.0, 13.0, 12.0, 11.0, 10.0, 9.0, 8.0, 7.0, 6.0, 5.0, 4.0, 3.0, 2.0, 1.0, 1.2625000476837158, 1.2621999979019165, 1.2619999647140503, 1.2611000537872314, 1.2610000371932983, 1.2608000040054321, 1.260699987411499, 1.2597999572753906, 1.2591999769210815, 1.2590999603271484, 1.2587000131607056, 1.2585999965667725, 1.2584999799728394, 1.2583999633789062, 1.2581000328063965, 1.2581000328063965, 1.2580000162124634, 1.2580000162124634, 1.2577999830245972, 1.257699966430664, 1.257699966430664, 1.2575000524520874, 1.2573000192642212, 1.2569999694824219, 1.256700038909912, 1.256600022315979, 1.2562999725341797, 1.2555999755859375, 1.2552000284194946, 1.2549999952316284, 1.2347999811172485, 1.2344000339508057, 1.236899971961975, 1.2350000143051147, 1.2165000438690186, 1.1404999494552612, 1.0351999998092651, 1.1368000507354736, 1.1471999883651733, 0.8668000102043152, 1.2369999885559082, 1.0463000535964966, 0.8787000179290771, 0.8895000219345093, 1.2094000577926636, 0.9068999886512756, 0.5587999820709229, 1.0300999879837036, 0.8044000267982483, 0.9524000287055969, 1.0734000205993652, 1.0360000133514404, 0.8823000192642212, 1.009600043296814, 0.1688999980688095, 0.7946000099182129, 0.20839999616146088, 0.2696000039577484, 0.5529000163078308, -0.19830000400543213, -0.1826000064611435, 0.04560000076889992, -0.8784000277519226, 0.225600004196167, 1.527899980545044, 1.5277999639511108, 1.5277999639511108, 1.5276999473571777, 1.527500033378601, 1.5270999670028687, 1.5261000394821167, 1.5257999897003174, 1.5257999897003174, 1.5253000259399414, 1.524999976158142, 1.523900032043457, 1.5235999822616577, 1.5235999822616577, 1.5234999656677246, 1.523300051689148, 1.523300051689148, 1.5230000019073486, 1.5226999521255493, 1.5223000049591064, 1.5223000049591064, 1.5214999914169312, 1.5211999416351318, 1.520799994468689, 1.5197999477386475, 1.5194000005722046, 1.5192999839782715, 1.5181000232696533, 1.5174000263214111, 1.5168999433517456, 1.4781999588012695, 1.483199954032898, 1.4485000371932983, 1.4138000011444092, 1.3659000396728516, 1.3408000469207764, 1.2263000011444092, 1.3830000162124634, 1.3199000358581543, 1.0799000263214111, 0.8644000291824341, 1.183899998664856, 1.31659996509552, 0.9253000020980835, 1.048200011253357, 1.3140000104904175, 1.3450000286102295, 1.0025999546051025, 1.1720000505447388, 0.565500020980835, 0.5343000292778015, 0.11050000041723251, 0.6902999877929688, 0.34060001373291016, 0.8324000239372253, 0.6762999892234802, 0.49570000171661377, 0.8155999779701233, -0.14309999346733093, 0.3982999920845032, -0.06270000338554382, 0.7257999777793884, 0.5860000252723694, 0.807699978351593, -0.32089999318122864, 0.33180001378059387, 0.08160000294446945, -0.20469999313354492, 0.6953999996185303, 0.2924000024795532, 1.5455000400543213, 1.544800043106079, 1.544800043106079, 1.5440000295639038, 1.5440000295639038, 1.5439000129699707, 1.5427000522613525, 1.5425000190734863, 1.542099952697754, 1.5420000553131104, 1.541599988937378, 1.5413999557495117, 1.5408999919891357, 1.5404000282287598, 1.5400999784469604, 1.5394999980926514, 1.539199948310852, 1.5390000343322754, 1.5384000539779663, 1.5383000373840332, 1.5382000207901, 1.537600040435791, 1.5372999906539917, 1.5369999408721924, 1.5364999771118164, 1.5364999771118164, 1.5356999635696411, 1.5355000495910645, 1.5353000164031982, 1.5351999998092651, 1.5174000263214111, 1.5327999591827393, 1.5052000284194946, 1.4809999465942383, 1.4134999513626099, 1.3554999828338623, 1.4767999649047852, 1.3529000282287598, 1.1952999830245972, 1.3411999940872192, 1.3982000350952148, 1.4419000148773193, 1.298699975013733, 1.1677000522613525, 1.1265000104904175, 0.895799994468689, 1.3222999572753906, 0.9653000235557556, 0.7146999835968018, 1.1079000234603882, 0.5001999735832214, 0.9290000200271606, 0.5307999849319458, 0.6732000112533569, -0.1265999972820282, 0.029600000008940697, 0.11699999868869781, 0.24650000035762787, 0.5752000212669373, 0.007799999788403511, -0.4652999937534332, 0.3840000033378601, -0.5152000188827515, -1.2904000282287598, 1.8904000520706177, 1.8894000053405762, 1.8890000581741333, 1.8876999616622925, 1.8868000507354736, 1.885599970817566, 1.8854999542236328, 1.88510000705719, 1.8847999572753906, 1.884600043296814, 1.8839999437332153, 1.8838000297546387, 1.881600022315979, 1.881600022315979, 1.8809000253677368, 1.8801000118255615, 1.8799999952316284, 1.878999948501587, 1.8788000345230103, 1.878100037574768, 1.8775999546051025, 1.8767000436782837, 1.8766000270843506, 1.8737000226974487, 1.8731000423431396, 1.8724000453948975, 1.8723000288009644, 1.871899962425232, 1.871899962425232, 1.8701000213623047, 1.867900013923645, 1.8588999509811401, 1.8425999879837036, 1.667199969291687, 1.8504999876022339, 1.716599941253662, 1.7264000177383423, 1.5566999912261963, 1.5254000425338745, 1.5891000032424927, 1.635699987411499, 1.266700029373169, 1.1003999710083008, 1.5779999494552612, 1.4702999591827393, 1.2030999660491943, 1.2249000072479248, 0.5577999949455261, 0.864300012588501, 0.991599977016449, 0.9610999822616577, 0.3319000005722046, 0.5993000268936157, 1.0047999620437622, 0.9106000065803528, 1.2646000385284424, -0.22269999980926514, 0.2802000045776367, -0.05779999867081642, 0.24130000174045563, -0.6308000087738037, 0.049300000071525574, 0.8647000193595886, 0.70169997215271, -0.8091999888420105, -0.009600000455975533, 1.990399956703186, 1.9902000427246094, 1.9895999431610107, 1.989400029182434, 1.9880000352859497, 1.9874999523162842, 1.9871000051498413, 1.986899971961975, 1.986899971961975, 1.986799955368042, 1.9855999946594238, 1.9838000535964966, 1.9836000204086304, 1.9830000400543213, 1.9824999570846558, 1.9811999797821045, 1.9745999574661255, 1.9697999954223633, 1.966599941253662, 1.9665000438690186, 1.9652999639511108, 1.964400053024292, 1.9639999866485596, 1.9630000591278076, 1.9596999883651733, 1.9591000080108643, 1.958299994468689, 1.951200008392334, 1.9472999572753906, 1.9463000297546387, 1.930799961090088, 1.7546000480651855, 1.6390000581741333, 1.792099952697754, 1.5684000253677368, 1.6270999908447266, 1.6785999536514282, 1.6073999404907227, 1.072700023651123, 1.4364999532699585, 1.291100025177002, 1.0390000343322754, 1.1633000373840332, 0.7932999730110168, 0.798799991607666, 0.36880001425743103, 0.8845000267028809, 1.40339994430542, 1.0549999475479126, 0.04340000078082085, 0.757099986076355, 1.038699984550476, 0.5174999833106995, 0.6295999884605408, 1.170799970626831, 1.3801000118255615, 0.9768999814987183, 0.1324000060558319, 0.8140000104904175, -0.5375999808311462]}, \"token.table\": {\"Topic\": [3, 3, 4, 5, 3, 4, 5, 1, 3, 4, 5, 2, 3, 4, 5, 3, 4, 5, 2, 3, 5, 2, 3, 5, 1, 1, 1, 2, 3, 4, 1, 2, 2, 1, 1, 3, 2, 5, 5, 5, 1, 5, 4, 1, 2, 3, 4, 4, 2, 4, 2, 3, 3, 3, 5, 5, 2, 4, 5, 3, 2, 3, 2, 1, 2, 4, 2, 5, 3, 5, 1, 3, 5, 4, 4, 1, 5, 1, 2, 2, 4, 4, 3, 1, 1, 1, 2, 5, 2, 3, 4, 5, 1, 3, 1, 2, 2, 2, 4, 4, 1, 2, 3, 4, 5, 3, 1, 4, 2, 2, 3, 4, 3, 4, 1, 2, 3, 4, 5, 2, 3, 1, 2, 3, 4, 5, 1, 2, 4, 4, 1, 1, 2, 4, 5, 4, 5, 1, 3, 4, 5, 3, 1, 3, 4, 1, 1, 2, 3, 4, 2, 4, 2, 4, 5, 4, 5, 1, 3, 2, 3, 4, 5, 5, 4, 5, 2, 1, 2, 3, 4, 5, 4, 2, 1, 2, 3, 4, 5, 1, 2, 3, 2, 2, 3, 1, 2, 3, 4, 1, 2, 3, 3, 1, 2, 3, 4, 2, 3, 4, 5, 1, 1, 2, 3, 4, 3, 5, 2, 4, 5, 2, 4, 5, 3, 1, 2, 3, 4, 5, 5, 1, 2, 3, 4, 5, 2, 5, 5, 5, 5, 5, 1, 2, 3, 4, 5, 4, 1, 2, 3, 4, 5, 4, 2, 3, 4, 3, 2, 4, 2, 3, 4, 1, 2, 3, 4, 2, 4, 3, 4, 5, 2, 1, 3, 1, 5, 1, 3, 4, 5, 1, 2, 3, 3, 2, 1, 2, 3, 4, 5, 4, 1, 2, 3, 4, 5, 2, 3, 4, 1, 2, 3, 4, 1, 2, 3, 4, 5, 3, 1, 2, 3, 4, 3, 4, 5, 2, 2, 3, 3, 5, 1, 2, 3, 4, 4, 5, 1, 2, 4, 5, 2, 5, 1, 2, 3, 4, 5, 5, 3, 4, 1, 2, 3, 5, 5, 3, 4, 4, 3, 4, 5, 1, 2, 3, 3, 3, 1, 1, 3, 1, 3, 3, 3, 4, 2, 4, 5, 1, 2, 2, 3, 5, 2, 4, 5, 3, 5, 5, 3, 1, 2, 1, 2, 3, 4, 5, 4, 4, 4, 4, 1, 2, 3, 4, 5, 2, 1, 2, 3, 2, 3, 4, 5, 3, 2, 3, 4, 1, 1, 1, 2, 3, 5, 1, 3, 4, 2, 3, 4, 4, 4, 4, 2, 5, 2, 3, 2, 3, 4, 5, 5, 1, 5, 2, 4, 1, 2, 3, 5, 2, 3, 4, 5, 2, 2, 3, 1, 2, 3, 2, 2, 2, 3, 4, 5, 2, 4, 1, 3, 3, 1, 4, 1, 2, 3, 4, 5, 5, 1, 5, 2, 1, 2, 3, 4, 2, 3, 4, 5, 4, 3, 1, 2, 3, 4, 5, 1, 2, 3, 3, 5, 2, 3, 4, 5, 2, 4, 2, 4, 5, 2, 3, 4, 3, 1, 2, 3, 5, 3, 3, 5, 2, 4, 1, 2, 3, 5, 2, 4, 3, 4, 5, 4, 5, 4, 5, 5], \"Freq\": [0.992241382598877, 0.27920830249786377, 0.41201525926589966, 0.3084885776042938, 0.2548617422580719, 0.17090728878974915, 0.5741885304450989, 0.25477147102355957, 0.17761211097240448, 0.12811365723609924, 0.43966278433799744, 0.035232290625572205, 0.24662603437900543, 0.1740889698266983, 0.5429918169975281, 0.2776486575603485, 0.037520088255405426, 0.6828656196594238, 0.017583956941962242, 0.8246876001358032, 0.15825562179088593, 0.14771749079227448, 0.6573428511619568, 0.1932637244462967, 0.9994579553604126, 0.9937168955802917, 0.348352313041687, 0.381142258644104, 0.2194652110338211, 0.050970472395420074, 0.9958398938179016, 0.9975031614303589, 0.9952178001403809, 0.9969547986984253, 0.9895066022872925, 0.9891642928123474, 0.9885027408599854, 0.9990705847740173, 0.9495145082473755, 0.9511921405792236, 0.9985353946685791, 0.9946936964988708, 0.9943782091140747, 0.9954373240470886, 0.1319604218006134, 0.8269519209861755, 0.04105435311794281, 0.9739398956298828, 0.9983115792274475, 0.9828189611434937, 0.13577508926391602, 0.8612020015716553, 0.9965710639953613, 0.9994503259658813, 0.9669912457466125, 0.9843735694885254, 0.8309994339942932, 0.06824632734060287, 0.09634776413440704, 0.9897037148475647, 0.9914066195487976, 0.9878906607627869, 0.9937799572944641, 0.08973284065723419, 0.8898506760597229, 0.01869434304535389, 0.9935392141342163, 0.9832825660705566, 0.9906430840492249, 0.9887853264808655, 0.9936302900314331, 0.04221310839056969, 0.9568305015563965, 0.9866970777511597, 0.9969127774238586, 0.9776979684829712, 0.02384629100561142, 0.9918555617332458, 0.9942638874053955, 0.5461248755455017, 0.45376238226890564, 0.9937635064125061, 0.9844891428947449, 0.995432436466217, 0.9998862147331238, 0.792959451675415, 0.2067040354013443, 0.9967100620269775, 0.35558634996414185, 0.4355555772781372, 0.14937645196914673, 0.0593482181429863, 0.7961753606796265, 0.2024560123682022, 0.9993647933006287, 0.9961280822753906, 0.985663652420044, 0.9895125031471252, 0.9940000176429749, 0.9873150587081909, 0.3349853754043579, 0.01087839063256979, 0.18769539892673492, 0.06716974824666977, 0.39921966195106506, 0.9913164377212524, 0.9897996783256531, 0.9924030303955078, 0.9954655170440674, 0.06810244917869568, 0.13150817155838013, 0.7996166944503784, 0.8761224746704102, 0.1229836568236351, 0.8058936595916748, 0.18968234956264496, 0.004101240076124668, 0.9898960590362549, 0.009203579276800156, 0.8041655421257019, 0.19353361427783966, 0.31198522448539734, 0.016372403129935265, 0.2965224087238312, 0.3756556808948517, 0.9763738512992859, 0.9899702072143555, 0.22136640548706055, 0.7767242789268494, 0.9993839263916016, 0.9988269209861755, 0.7773822546005249, 0.22275865077972412, 0.9864860773086548, 0.9956458210945129, 0.3047367036342621, 0.694648265838623, 0.15701782703399658, 0.685692548751831, 0.09651555120944977, 0.06194281578063965, 0.99358731508255, 0.9719885587692261, 0.004122963175177574, 0.023707037791609764, 0.9982537627220154, 0.08533677458763123, 0.3889242112636566, 0.41762155294418335, 0.10799255222082138, 0.48526331782341003, 0.5135310888290405, 0.9791339635848999, 0.8406955003738403, 0.15862178802490234, 0.656307578086853, 0.34205862879753113, 0.995019257068634, 0.9978613257408142, 0.36926770210266113, 0.12744638323783875, 0.1996362805366516, 0.3036135137081146, 0.9821339249610901, 0.9547090530395508, 0.04528264328837395, 0.9963528513908386, 0.9986428618431091, 0.001132983947172761, 0.25378841161727905, 0.35802292823791504, 0.38634753227233887, 0.9939603209495544, 0.9934524893760681, 0.6268657445907593, 0.2060062736272812, 0.07835821807384491, 0.08846895396709442, 0.0012638422194868326, 0.73309725522995, 0.21034014225006104, 0.05567827448248863, 0.9961588978767395, 0.010851780883967876, 0.9875120520591736, 0.6321646571159363, 0.10180928558111191, 0.22966282069683075, 0.035514868795871735, 0.3592442572116852, 0.43357065320014954, 0.20608682930469513, 0.9939257502555847, 0.27304738759994507, 0.07185457646846771, 0.5401068925857544, 0.11496732383966446, 0.19718694686889648, 0.5593510270118713, 0.1186264157295227, 0.12491125613451004, 0.9970971345901489, 0.997149646282196, 0.2193288952112198, 0.08610689640045166, 0.6937291622161865, 0.05759701505303383, 0.9407512545585632, 0.19648689031600952, 0.732010006904602, 0.06934831291437149, 0.2348613142967224, 0.5360537767410278, 0.22896520793437958, 0.993625819683075, 0.12348517775535583, 0.12721103429794312, 0.2725190222263336, 0.14584025740623474, 0.33053576946258545, 0.9994624853134155, 0.6731170415878296, 0.18764235079288483, 0.05868814140558243, 0.08038012683391571, 0.00026615936076268554, 0.9961100220680237, 0.9926879405975342, 0.9992543458938599, 0.9963068962097168, 0.9796750545501709, 0.9979957938194275, 0.4947654902935028, 0.2416892945766449, 0.00010258459224132821, 0.12084464728832245, 0.14259257912635803, 0.9898003339767456, 0.24451038241386414, 0.03158746659755707, 0.2854571044445038, 0.07604390382766724, 0.3626708984375, 0.9898684024810791, 0.9211136698722839, 0.0016626600408926606, 0.0764823630452156, 0.9911152720451355, 0.9918124079704285, 0.9780307412147522, 0.8270506858825684, 0.004044257570058107, 0.1658145636320114, 0.007612547837197781, 0.0025375159457325935, 0.24867656826972961, 0.7384171485900879, 0.9874523878097534, 0.9996979832649231, 0.7042998671531677, 0.03905995935201645, 0.2563309669494629, 0.9926056265830994, 0.9548789858818054, 0.044620513916015625, 0.9964147806167603, 0.9917970895767212, 0.9947705268859863, 0.01855739764869213, 0.5344530344009399, 0.44537755846977234, 0.9724406599998474, 0.000804334704298526, 0.025738710537552834, 0.9992581605911255, 0.9961231350898743, 0.23208898305892944, 0.17652828991413116, 0.35129833221435547, 0.19200089573860168, 0.047824397683143616, 0.9982404708862305, 0.15131708979606628, 0.49795129895210266, 0.08907318115234375, 0.18351222574710846, 0.07834147661924362, 0.8072496056556702, 0.037546493113040924, 0.15331484377384186, 0.8849844336509705, 0.0008368646958842874, 0.05314090847969055, 0.06067269295454025, 0.18256348371505737, 0.4893125593662262, 0.3099333345890045, 0.00106141553260386, 0.018044063821434975, 0.9911249279975891, 0.31820550560951233, 0.15871183574199677, 0.12743857502937317, 0.3948250114917755, 0.0001632481289561838, 0.21042683720588684, 0.7893046736717224, 0.9886040687561035, 0.991405725479126, 0.9876977801322937, 0.9977719187736511, 0.9982571005821228, 0.6838568449020386, 0.19002747535705566, 0.05204574391245842, 0.07383233308792114, 0.03463518247008324, 0.9582400321960449, 0.9970328211784363, 0.7068430781364441, 0.2906051576137543, 0.00126901816111058, 0.809413731098175, 0.18761245906352997, 0.2959090769290924, 0.43165239691734314, 0.13119961321353912, 0.07440324127674103, 0.06645175069570541, 0.9973715543746948, 0.9720486402511597, 0.027849821373820305, 0.24491246044635773, 0.6171793937683105, 0.06775911152362823, 0.07020823657512665, 0.9969527125358582, 0.9004200100898743, 0.09688063710927963, 0.9725810289382935, 0.13814054429531097, 0.15866009891033173, 0.7031610608100891, 0.8817683458328247, 0.030289752408862114, 0.08750373125076294, 0.9938217997550964, 0.9960429072380066, 0.9978586435317993, 0.9725732207298279, 0.027268407866358757, 0.998202383518219, 0.9945448637008667, 0.9958338141441345, 0.994438648223877, 0.9975948929786682, 0.4477202892303467, 0.16016772389411926, 0.3924577534198761, 0.8273411989212036, 0.17018094658851624, 0.8473675847053528, 0.07125012576580048, 0.08142871409654617, 0.30143025517463684, 0.40679746866226196, 0.29142704606056213, 0.9941970109939575, 0.9694105982780457, 0.9977099895477295, 0.9973617792129517, 0.7966481447219849, 0.20331217348575592, 0.6886792182922363, 0.11072735488414764, 0.031048547476530075, 0.013840919360518456, 0.15599089860916138, 0.9980899691581726, 0.9836435317993164, 0.9916725754737854, 0.99778151512146, 0.2358199656009674, 0.09696544706821442, 0.21487542986869812, 0.06671222299337387, 0.38592246174812317, 0.9947251081466675, 0.7008213996887207, 0.29021742939949036, 0.00931562203913927, 0.3222966194152832, 0.5221293568611145, 0.04642132297158241, 0.10875852406024933, 0.9990005493164062, 0.6977545022964478, 0.2223353236913681, 0.07805389165878296, 0.995661199092865, 0.9962751865386963, 0.3546702563762665, 0.17808973789215088, 0.030184702947735786, 0.4369235634803772, 0.9981082677841187, 0.937371015548706, 0.06260420382022858, 0.19985903799533844, 0.7994361519813538, 0.9930437803268433, 0.9834426641464233, 0.9856736063957214, 0.9934883117675781, 0.26475217938423157, 0.7294192910194397, 0.6371062397956848, 0.36251938343048096, 0.01569201424717903, 0.16812872886657715, 0.7162283658981323, 0.0997563824057579, 0.966075599193573, 0.9913700222969055, 0.9897147417068481, 0.032954756170511246, 0.9556878805160522, 0.06701119989156723, 0.7381086349487305, 0.113327756524086, 0.08179307729005814, 0.9506164789199829, 0.04828527942299843, 0.5023233294487, 0.4962712526321411, 0.9975483417510986, 0.8611324429512024, 0.13312192261219025, 0.4922294616699219, 0.3287939131259918, 0.1788177341222763, 0.9924074411392212, 0.9944263696670532, 0.5137503147125244, 0.0250483937561512, 0.2636536955833435, 0.1974174827337265, 0.9953231811523438, 0.9815462827682495, 0.9489551782608032, 0.048416078090667725, 0.9872339367866516, 0.8908463716506958, 0.10740701109170914, 0.37028852105140686, 0.019620699808001518, 0.23962301015853882, 0.3581821322441101, 0.012106388807296753, 0.9957611560821533, 0.9738118648529053, 0.025263987481594086, 0.9975795149803162, 0.30350035429000854, 0.003508674679324031, 0.6455961465835571, 0.045612771064043045, 0.09039425849914551, 0.7806776762008667, 0.07395893335342407, 0.05478439852595329, 0.9829715490341187, 0.9987581372261047, 0.1174628958106041, 0.3041934370994568, 0.13373661041259766, 0.1424993872642517, 0.30189841985702515, 0.9994910955429077, 0.18462499976158142, 0.814811646938324, 0.934709370136261, 0.0648353323340416, 0.42602160573005676, 0.31302663683891296, 0.11452193558216095, 0.14658807218074799, 0.03085978887975216, 0.9689973592758179, 0.590386688709259, 0.2599972188472748, 0.14986738562583923, 0.9969058036804199, 0.9604883193969727, 0.038548026233911514, 0.9974216818809509, 0.35921475291252136, 0.2095419317483902, 0.3788593113422394, 0.05238548293709755, 0.9882298707962036, 0.44375693798065186, 0.5557732582092285, 0.9556736350059509, 0.04191550984978676, 0.6812210083007812, 0.15694577991962433, 0.08195308595895767, 0.0797077938914299, 0.017200201749801636, 0.9746780395507812, 0.06954778730869293, 0.27481913566589355, 0.6554352045059204, 0.8486347794532776, 0.15086841583251953, 0.1797168105840683, 0.8182850480079651, 0.9562004804611206], \"Term\": [\"16\", \"2\", \"2\", \"2\", \"3\", \"3\", \"3\", \"4\", \"4\", \"4\", \"4\", \"5\", \"5\", \"5\", \"5\", \"6\", \"6\", \"6\", \"7\", \"7\", \"7\", \"8\", \"8\", \"8\", \"AA\", \"AAA\", \"Amazon\", \"Amazon\", \"Amazon\", \"Amazon\", \"AmazonBasics\", \"Android\", \"Apple\", \"Basics\", \"Batteries\", \"Best\", \"Bluetooth\", \"Christmas\", \"Day\", \"Dot\", \"Duracell\", \"Echo\", \"Edition\", \"Energizer\", \"Fire\", \"Fire\", \"Fire\", \"FreeTime\", \"Google\", \"Grandson\", \"HD\", \"HD\", \"HD8\", \"Kindle\", \"Mom\", \"Mother\", \"Netflix\", \"Netflix\", \"Netflix\", \"Nook\", \"OS\", \"Oasis\", \"Play\", \"Prime\", \"Prime\", \"Prime\", \"Store\", \"Tap\", \"Voyage\", \"Xmas\", \"aaa\", \"absolutely\", \"absolutely\", \"activity\", \"adult\", \"advertise\", \"advertise\", \"alkaline\", \"android\", \"app\", \"app\", \"appropriate\", \"avid\", \"bargain\", \"battery\", \"beat\", \"beat\", \"birthday\", \"book\", \"book\", \"book\", \"book\", \"box\", \"box\", \"brand\", \"browse\", \"browser\", \"browsing\", \"bumper\", \"busy\", \"buy\", \"buy\", \"buy\", \"buy\", \"buy\", \"cable\", \"candle\", \"car\", \"carry\", \"case\", \"case\", \"case\", \"charge\", \"charge\", \"cheap\", \"cheap\", \"cheap\", \"child\", \"child\", \"clear\", \"clear\", \"come\", \"come\", \"come\", \"come\", \"command\", \"comparable\", \"content\", \"content\", \"control\", \"controller\", \"cost\", \"cost\", \"credit\", \"dad\", \"daughter\", \"daughter\", \"day\", \"day\", \"day\", \"day\", \"dead\", \"deal\", \"deal\", \"deal\", \"describe\", \"device\", \"device\", \"device\", \"device\", \"download\", \"download\", \"downside\", \"drop\", \"drop\", \"durable\", \"durable\", \"duracell\", \"e\", \"easy\", \"easy\", \"easy\", \"easy\", \"echo\", \"educational\", \"educational\", \"email\", \"energizer\", \"enjoy\", \"enjoy\", \"enjoy\", \"enjoy\", \"entertain\", \"entertainment\", \"excellent\", \"excellent\", \"excellent\", \"excellent\", \"excellent\", \"expect\", \"expect\", \"expect\", \"expectation\", \"eye\", \"eye\", \"far\", \"far\", \"far\", \"far\", \"fast\", \"fast\", \"fast\", \"faster\", \"find\", \"find\", \"find\", \"find\", \"fire\", \"fire\", \"fire\", \"fire\", \"flashlight\", \"fraction\", \"free\", \"free\", \"free\", \"friend\", \"friend\", \"fun\", \"fun\", \"fun\", \"game\", \"game\", \"game\", \"generation\", \"get\", \"get\", \"get\", \"get\", \"get\", \"gift\", \"good\", \"good\", \"good\", \"good\", \"good\", \"google\", \"grandchild\", \"granddaughter\", \"grandkid\", \"grandma\", \"grandson\", \"great\", \"great\", \"great\", \"great\", \"great\", \"grow\", \"happy\", \"happy\", \"happy\", \"happy\", \"happy\", \"hundred\", \"iPad\", \"iPad\", \"iPad\", \"improvement\", \"install\", \"interested\", \"internet\", \"internet\", \"internet\", \"keep\", \"keep\", \"keep\", \"keep\", \"key\", \"kid\", \"kindle\", \"kindle\", \"kindle\", \"lack\", \"last\", \"last\", \"lasting\", \"law\", \"leak\", \"learn\", \"learn\", \"learn\", \"life\", \"life\", \"life\", \"light\", \"lightweight\", \"like\", \"like\", \"like\", \"like\", \"like\", \"limit\", \"little\", \"little\", \"little\", \"little\", \"little\", \"load\", \"load\", \"load\", \"long\", \"long\", \"long\", \"long\", \"look\", \"look\", \"look\", \"look\", \"look\", \"lose\", \"lot\", \"lot\", \"lot\", \"lot\", \"love\", \"love\", \"love\", \"magazine\", \"medium\", \"miss\", \"model\", \"mom\", \"money\", \"money\", \"money\", \"money\", \"mother\", \"mother\", \"mouse\", \"movie\", \"movie\", \"movie\", \"music\", \"music\", \"need\", \"need\", \"need\", \"need\", \"need\", \"nephew\", \"new\", \"new\", \"nice\", \"nice\", \"nice\", \"nice\", \"niece\", \"night\", \"night\", \"occupy\", \"old\", \"old\", \"old\", \"order\", \"order\", \"order\", \"original\", \"own\", \"pack\", \"package\", \"package\", \"packaging\", \"page\", \"paper\", \"paperwhite\", \"parental\", \"perfect\", \"perfect\", \"perfect\", \"performance\", \"performance\", \"picture\", \"picture\", \"picture\", \"play\", \"play\", \"play\", \"plug\", \"portability\", \"present\", \"previous\", \"price\", \"price\", \"product\", \"product\", \"product\", \"product\", \"product\", \"profile\", \"proof\", \"protect\", \"protective\", \"purchase\", \"purchase\", \"purchase\", \"purchase\", \"purchase\", \"purse\", \"quality\", \"quality\", \"quality\", \"read\", \"read\", \"read\", \"read\", \"reader\", \"reading\", \"reading\", \"reading\", \"reasonable\", \"rechargeable\", \"recommend\", \"recommend\", \"recommend\", \"recommend\", \"remote\", \"replace\", \"replace\", \"return\", \"return\", \"ride\", \"road\", \"rubber\", \"safe\", \"school\", \"school\", \"screen\", \"screen\", \"set\", \"set\", \"set\", \"set\", \"seven\", \"shipping\", \"sister\", \"site\", \"site\", \"size\", \"size\", \"size\", \"size\", \"slow\", \"slow\", \"son\", \"son\", \"sound\", \"speaker\", \"speaker\", \"store\", \"store\", \"store\", \"stream\", \"surf\", \"tablet\", \"tablet\", \"tablet\", \"tablet\", \"tap\", \"teach\", \"test\", \"test\", \"text\", \"thank\", \"thank\", \"time\", \"time\", \"time\", \"time\", \"time\", \"tool\", \"toy\", \"toy\", \"travel\", \"try\", \"try\", \"try\", \"try\", \"turn\", \"turn\", \"turn\", \"turn\", \"unlimited\", \"upgrade\", \"use\", \"use\", \"use\", \"use\", \"use\", \"value\", \"version\", \"version\", \"wait\", \"wait\", \"want\", \"want\", \"want\", \"want\", \"warranty\", \"warranty\", \"watch\", \"watch\", \"watch\", \"web\", \"week\", \"week\", \"weight\", \"well\", \"well\", \"well\", \"well\", \"white\", \"wife\", \"wife\", \"wifi\", \"wifi\", \"work\", \"work\", \"work\", \"work\", \"worry\", \"worry\", \"year\", \"year\", \"year\", \"young\", \"young\", \"yr\", \"yr\", \"yrs\"]}, \"R\": 30, \"lambda.step\": 0.01, \"plot.opts\": {\"xlab\": \"PC1\", \"ylab\": \"PC2\"}, \"topic.order\": [5, 4, 3, 2, 1]};\n",
       "\n",
       "function LDAvis_load_lib(url, callback){\n",
       "  var s = document.createElement('script');\n",
       "  s.src = url;\n",
       "  s.async = true;\n",
       "  s.onreadystatechange = s.onload = callback;\n",
       "  s.onerror = function(){console.warn(\"failed to load library \" + url);};\n",
       "  document.getElementsByTagName(\"head\")[0].appendChild(s);\n",
       "}\n",
       "\n",
       "if(typeof(LDAvis) !== \"undefined\"){\n",
       "   // already loaded: just create the visualization\n",
       "   !function(LDAvis){\n",
       "       new LDAvis(\"#\" + \"ldavis_el1539849231244966591041178\", ldavis_el1539849231244966591041178_data);\n",
       "   }(LDAvis);\n",
       "}else if(typeof define === \"function\" && define.amd){\n",
       "   // require.js is available: use it to load d3/LDAvis\n",
       "   require.config({paths: {d3: \"https://cdnjs.cloudflare.com/ajax/libs/d3/3.5.5/d3.min\"}});\n",
       "   require([\"d3\"], function(d3){\n",
       "      window.d3 = d3;\n",
       "      LDAvis_load_lib(\"https://cdn.rawgit.com/bmabey/pyLDAvis/files/ldavis.v1.0.0.js\", function(){\n",
       "        new LDAvis(\"#\" + \"ldavis_el1539849231244966591041178\", ldavis_el1539849231244966591041178_data);\n",
       "      });\n",
       "    });\n",
       "}else{\n",
       "    // require.js not available: dynamically load d3 & LDAvis\n",
       "    LDAvis_load_lib(\"https://cdnjs.cloudflare.com/ajax/libs/d3/3.5.5/d3.min.js\", function(){\n",
       "         LDAvis_load_lib(\"https://cdn.rawgit.com/bmabey/pyLDAvis/files/ldavis.v1.0.0.js\", function(){\n",
       "                 new LDAvis(\"#\" + \"ldavis_el1539849231244966591041178\", ldavis_el1539849231244966591041178_data);\n",
       "            })\n",
       "         });\n",
       "}\n",
       "</script>"
      ],
      "text/plain": [
       "PreparedData(topic_coordinates=              x         y  topics  cluster       Freq\n",
       "topic                                                \n",
       "4     -0.267510  0.146410       1        1  28.292286\n",
       "3     -0.060478 -0.061583       2        1  21.644468\n",
       "2     -0.050061 -0.200894       3        1  21.311619\n",
       "1      0.167064 -0.020410       4        1  15.096876\n",
       "0      0.210984  0.136477       5        1  13.654751, topic_info=         Term         Freq        Total Category  logprob  loglift\n",
       "3     battery  8420.000000  8420.000000  Default  30.0000  30.0000\n",
       "80       love  6125.000000  6125.000000  Default  29.0000  29.0000\n",
       "161       kid  2910.000000  2910.000000  Default  28.0000  28.0000\n",
       "1284   tablet  7745.000000  7745.000000  Default  27.0000  27.0000\n",
       "17      price  5602.000000  5602.000000  Default  26.0000  26.0000\n",
       "...       ...          ...          ...      ...      ...      ...\n",
       "637         5   261.911987   482.511902   Topic5  -5.0649   1.3801\n",
       "16      happy   310.023438   854.769409   Topic5  -4.8963   0.9769\n",
       "13    product   416.714996  2673.232910   Topic5  -4.6006   0.1324\n",
       "184         2   294.707886   956.275269   Topic5  -4.9470   0.8140\n",
       "9        work   355.263367  4453.767578   Topic5  -4.7601  -0.5376\n",
       "\n",
       "[354 rows x 6 columns], token_table=      Topic      Freq   Term\n",
       "term                        \n",
       "524       3  0.992241     16\n",
       "184       3  0.279208      2\n",
       "184       4  0.412015      2\n",
       "184       5  0.308489      2\n",
       "0         3  0.254862      3\n",
       "...     ...       ...    ...\n",
       "700       4  0.848635  young\n",
       "700       5  0.150868  young\n",
       "838       4  0.179717     yr\n",
       "838       5  0.818285     yr\n",
       "1473      5  0.956200    yrs\n",
       "\n",
       "[519 rows x 3 columns], R=30, lambda_step=0.01, plot_opts={'xlab': 'PC1', 'ylab': 'PC2'}, topic_order=[5, 4, 3, 2, 1])"
      ]
     },
     "execution_count": 30,
     "metadata": {},
     "output_type": "execute_result"
    }
   ],
   "source": [
    "pyLDAvis.gensim.prepare(lda, corpus, id2word)"
   ]
  },
  {
   "cell_type": "markdown",
   "metadata": {},
   "source": [
    "## "
   ]
  },
  {
   "cell_type": "markdown",
   "metadata": {},
   "source": [
    "## Select number of topics from coherence values"
   ]
  },
  {
   "cell_type": "code",
   "execution_count": 34,
   "metadata": {},
   "outputs": [],
   "source": [
    "from gensim.models.coherencemodel import CoherenceModel\n",
    "\n",
    "def compute_coherence_values(dictionary, corpus, limit, start=2, step=3, passes=5):\n",
    "    \"\"\"\n",
    "    Compute c_v coherence for various number of topics\n",
    "\n",
    "    Parameters:\n",
    "    ----------\n",
    "    dictionary : Gensim dictionary\n",
    "    corpus : Gensim corpus\n",
    "    path : path to input texts\n",
    "    limit : Max num of topics\n",
    "\n",
    "    Returns:\n",
    "    -------\n",
    "    model_list : List of LDA topic models\n",
    "    coherence_values : Coherence values corresponding to the LDA model with respective number of topics\n",
    "    \"\"\"\n",
    "    coherence_values = []\n",
    "    \n",
    "    for iter_ in range(passes):\n",
    "        for num_topics in range(start, limit, step):\n",
    "            model = LdaMulticore(corpus=corpus, num_topics=num_topics, passes=3, id2word=id2word, workers=12)\n",
    "            coherencemodel = CoherenceModel(model=model, dictionary=dictionary, corpus=corpus, coherence='u_mass')\n",
    "            coherence_values.append({'pass': iter_,\n",
    "                                    'num_topics': num_topics,\n",
    "                                    'coherence_score':coherencemodel.get_coherence()})\n",
    "\n",
    "    return coherence_values"
   ]
  },
  {
   "cell_type": "code",
   "execution_count": 35,
   "metadata": {},
   "outputs": [],
   "source": [
    "# Can take a long time to run.\n",
    "\n",
    "coherence_values = compute_coherence_values(dictionary=id2word, \n",
    "                                            corpus=corpus,  \n",
    "                                            start=5, \n",
    "                                            limit=90, \n",
    "                                            step=10,\n",
    "                                            passes=5)"
   ]
  },
  {
   "cell_type": "code",
   "execution_count": 37,
   "metadata": {},
   "outputs": [],
   "source": [
    "topic_coherence = pd.DataFrame.from_records(coherence_values)"
   ]
  },
  {
   "cell_type": "code",
   "execution_count": 38,
   "metadata": {},
   "outputs": [
    {
     "data": {
      "image/png": "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\n",
      "text/plain": [
       "<Figure size 432x288 with 1 Axes>"
      ]
     },
     "metadata": {
      "needs_background": "light"
     },
     "output_type": "display_data"
    }
   ],
   "source": [
    "import seaborn as sns\n",
    "\n",
    "ax = sns.lineplot(x='num_topics', y='coherence_score', data=topic_coherence)"
   ]
  },
  {
   "cell_type": "raw",
   "metadata": {},
   "source": [
=======
>>>>>>> 7679a7c146b1e57b2f418b104ef494bb185b5b10
    "## Stretch Goals\n",
    "\n",
    "* Incorporate Named Entity Recognition in your analysis\n",
    "* Incorporate some custom pre-processing from our previous lessons (like spacy lemmatization)\n",
    "* Analyze a dataset of interest to you with topic modeling"
   ]
  }
 ],
 "metadata": {
  "kernelspec": {
<<<<<<< HEAD
   "display_name": "U4-S1-NLP (Python3)",
=======
   "display_name": "U4-S1-NLP (Python 3)",
>>>>>>> 7679a7c146b1e57b2f418b104ef494bb185b5b10
   "language": "python",
   "name": "u4-s1-nlp"
  },
  "language_info": {
   "codemirror_mode": {
    "name": "ipython",
    "version": 3
   },
   "file_extension": ".py",
   "mimetype": "text/x-python",
   "name": "python",
   "nbconvert_exporter": "python",
   "pygments_lexer": "ipython3",
<<<<<<< HEAD
   "version": "3.7.0"
  }
 },
 "nbformat": 4,
 "nbformat_minor": 4
=======
   "version": "3.7.3"
  }
 },
 "nbformat": 4,
 "nbformat_minor": 2
>>>>>>> 7679a7c146b1e57b2f418b104ef494bb185b5b10
}
