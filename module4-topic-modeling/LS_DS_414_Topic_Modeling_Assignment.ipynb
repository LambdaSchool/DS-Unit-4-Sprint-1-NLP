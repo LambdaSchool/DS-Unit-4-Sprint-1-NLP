{
 "cells": [
  {
   "cell_type": "markdown",
   "metadata": {},
   "source": [
    "<img align=\"left\" src=\"https://lever-client-logos.s3.amazonaws.com/864372b1-534c-480e-acd5-9711f850815c-1524247202159.png\" width=200>\n",
    "<br></br>\n",
    "<br></br>\n",
    "\n",
    "# Topic Modeling\n",
    "## *Data Science Unit 4 Sprint 1 Assignment 4*\n",
    "\n",
    "Analyze a corpus of Amazon reviews from Unit 4 Sprint 1 Module 1's lecture using topic modeling: \n",
    "\n",
    "- Fit a Gensim LDA topic model on Amazon Reviews\n",
    "- Select appropriate number of topics\n",
    "- Create some dope visualization of the topics\n",
    "- Write a few bullets on your findings in markdown at the end\n",
    "- **Note**: You don't *have* to use generators for this assignment"
   ]
  },
  {
   "cell_type": "code",
   "execution_count": 1,
   "metadata": {},
   "outputs": [
    {
     "name": "stderr",
     "output_type": "stream",
     "text": [
      "C:\\Users\\mhdal\\Anaconda3\\envs\\lambda-nlp\\lib\\site-packages\\gensim\\utils.py:1197: UserWarning: detected Windows; aliasing chunkize to chunkize_serial\n",
      "  warnings.warn(\"detected Windows; aliasing chunkize to chunkize_serial\")\n"
     ]
    }
   ],
   "source": [
    "import numpy as np\n",
    "import gensim\n",
    "import os\n",
    "import re\n",
    "\n",
    "from gensim.utils import simple_preprocess\n",
    "from gensim.parsing.preprocessing import STOPWORDS\n",
    "from gensim import corpora\n",
    "\n",
    "from gensim.models.ldamulticore import LdaMulticore\n",
    "\n",
    "import pandas as pd"
   ]
  },
  {
   "cell_type": "code",
   "execution_count": 3,
   "metadata": {},
   "outputs": [],
   "source": [
    "path = './data/Datafiniti_Amazon_Consumer_Reviews_of_Amazon_Products_May19.csv'"
   ]
  },
  {
   "cell_type": "code",
   "execution_count": 4,
   "metadata": {},
   "outputs": [],
   "source": [
    "df = pd.read_csv(path)"
   ]
  },
  {
   "cell_type": "code",
   "execution_count": 148,
   "metadata": {},
   "outputs": [
    {
     "data": {
      "text/html": [
       "<div>\n",
       "<style scoped>\n",
       "    .dataframe tbody tr th:only-of-type {\n",
       "        vertical-align: middle;\n",
       "    }\n",
       "\n",
       "    .dataframe tbody tr th {\n",
       "        vertical-align: top;\n",
       "    }\n",
       "\n",
       "    .dataframe thead th {\n",
       "        text-align: right;\n",
       "    }\n",
       "</style>\n",
       "<table border=\"1\" class=\"dataframe\">\n",
       "  <thead>\n",
       "    <tr style=\"text-align: right;\">\n",
       "      <th></th>\n",
       "      <th>id</th>\n",
       "      <th>dateAdded</th>\n",
       "      <th>dateUpdated</th>\n",
       "      <th>name</th>\n",
       "      <th>asins</th>\n",
       "      <th>brand</th>\n",
       "      <th>categories</th>\n",
       "      <th>primaryCategories</th>\n",
       "      <th>imageURLs</th>\n",
       "      <th>keys</th>\n",
       "      <th>...</th>\n",
       "      <th>manufacturerNumber</th>\n",
       "      <th>reviews.date</th>\n",
       "      <th>reviews.dateSeen</th>\n",
       "      <th>reviews.didPurchase</th>\n",
       "      <th>reviews.doRecommend</th>\n",
       "      <th>reviews.sourceURLs</th>\n",
       "      <th>reviews.text</th>\n",
       "      <th>reviews.title</th>\n",
       "      <th>reviews.username</th>\n",
       "      <th>sourceURLs</th>\n",
       "    </tr>\n",
       "  </thead>\n",
       "  <tbody>\n",
       "    <tr>\n",
       "      <th>count</th>\n",
       "      <td>28332</td>\n",
       "      <td>28332</td>\n",
       "      <td>28332</td>\n",
       "      <td>28332</td>\n",
       "      <td>28332</td>\n",
       "      <td>28332</td>\n",
       "      <td>28332</td>\n",
       "      <td>28332</td>\n",
       "      <td>28332</td>\n",
       "      <td>28332</td>\n",
       "      <td>...</td>\n",
       "      <td>28332</td>\n",
       "      <td>28332</td>\n",
       "      <td>28332</td>\n",
       "      <td>9</td>\n",
       "      <td>16086</td>\n",
       "      <td>28332</td>\n",
       "      <td>28332</td>\n",
       "      <td>28332</td>\n",
       "      <td>28332</td>\n",
       "      <td>28332</td>\n",
       "    </tr>\n",
       "    <tr>\n",
       "      <th>unique</th>\n",
       "      <td>65</td>\n",
       "      <td>55</td>\n",
       "      <td>52</td>\n",
       "      <td>65</td>\n",
       "      <td>65</td>\n",
       "      <td>3</td>\n",
       "      <td>60</td>\n",
       "      <td>9</td>\n",
       "      <td>65</td>\n",
       "      <td>65</td>\n",
       "      <td>...</td>\n",
       "      <td>65</td>\n",
       "      <td>1313</td>\n",
       "      <td>606</td>\n",
       "      <td>2</td>\n",
       "      <td>2</td>\n",
       "      <td>9906</td>\n",
       "      <td>18168</td>\n",
       "      <td>10441</td>\n",
       "      <td>16269</td>\n",
       "      <td>65</td>\n",
       "    </tr>\n",
       "    <tr>\n",
       "      <th>top</th>\n",
       "      <td>AVpgNzjwLJeJML43Kpxn</td>\n",
       "      <td>2015-10-30T08:59:32Z</td>\n",
       "      <td>2019-04-25T09:08:16Z</td>\n",
       "      <td>AmazonBasics AAA Performance Alkaline Batterie...</td>\n",
       "      <td>B00QWO9P0O,B00LH3DMUO</td>\n",
       "      <td>Amazon</td>\n",
       "      <td>AA,AAA,Health,Electronics,Health &amp; Household,C...</td>\n",
       "      <td>Electronics</td>\n",
       "      <td>https://images-na.ssl-images-amazon.com/images...</td>\n",
       "      <td>amazonbasics/hl002619,amazonbasicsaaaperforman...</td>\n",
       "      <td>...</td>\n",
       "      <td>HL-002619</td>\n",
       "      <td>2017-01-23T00:00:00.000Z</td>\n",
       "      <td>2017-08-28T00:00:00Z</td>\n",
       "      <td>True</td>\n",
       "      <td>True</td>\n",
       "      <td>https://www.amazon.com/product-reviews/B00QWO9...</td>\n",
       "      <td>good</td>\n",
       "      <td>Five Stars</td>\n",
       "      <td>ByAmazon Customer</td>\n",
       "      <td>https://www.barcodable.com/upc/841710106442,ht...</td>\n",
       "    </tr>\n",
       "    <tr>\n",
       "      <th>freq</th>\n",
       "      <td>8343</td>\n",
       "      <td>8343</td>\n",
       "      <td>8343</td>\n",
       "      <td>8343</td>\n",
       "      <td>8343</td>\n",
       "      <td>16153</td>\n",
       "      <td>8343</td>\n",
       "      <td>13995</td>\n",
       "      <td>8343</td>\n",
       "      <td>8343</td>\n",
       "      <td>...</td>\n",
       "      <td>8343</td>\n",
       "      <td>532</td>\n",
       "      <td>8343</td>\n",
       "      <td>8</td>\n",
       "      <td>15353</td>\n",
       "      <td>12071</td>\n",
       "      <td>60</td>\n",
       "      <td>3937</td>\n",
       "      <td>889</td>\n",
       "      <td>8343</td>\n",
       "    </tr>\n",
       "  </tbody>\n",
       "</table>\n",
       "<p>4 rows × 21 columns</p>\n",
       "</div>"
      ],
      "text/plain": [
       "                          id             dateAdded           dateUpdated  \\\n",
       "count                  28332                 28332                 28332   \n",
       "unique                    65                    55                    52   \n",
       "top     AVpgNzjwLJeJML43Kpxn  2015-10-30T08:59:32Z  2019-04-25T09:08:16Z   \n",
       "freq                    8343                  8343                  8343   \n",
       "\n",
       "                                                     name  \\\n",
       "count                                               28332   \n",
       "unique                                                 65   \n",
       "top     AmazonBasics AAA Performance Alkaline Batterie...   \n",
       "freq                                                 8343   \n",
       "\n",
       "                        asins   brand  \\\n",
       "count                   28332   28332   \n",
       "unique                     65       3   \n",
       "top     B00QWO9P0O,B00LH3DMUO  Amazon   \n",
       "freq                     8343   16153   \n",
       "\n",
       "                                               categories primaryCategories  \\\n",
       "count                                               28332             28332   \n",
       "unique                                                 60                 9   \n",
       "top     AA,AAA,Health,Electronics,Health & Household,C...       Electronics   \n",
       "freq                                                 8343             13995   \n",
       "\n",
       "                                                imageURLs  \\\n",
       "count                                               28332   \n",
       "unique                                                 65   \n",
       "top     https://images-na.ssl-images-amazon.com/images...   \n",
       "freq                                                 8343   \n",
       "\n",
       "                                                     keys  ...  \\\n",
       "count                                               28332  ...   \n",
       "unique                                                 65  ...   \n",
       "top     amazonbasics/hl002619,amazonbasicsaaaperforman...  ...   \n",
       "freq                                                 8343  ...   \n",
       "\n",
       "       manufacturerNumber              reviews.date      reviews.dateSeen  \\\n",
       "count               28332                     28332                 28332   \n",
       "unique                 65                      1313                   606   \n",
       "top             HL-002619  2017-01-23T00:00:00.000Z  2017-08-28T00:00:00Z   \n",
       "freq                 8343                       532                  8343   \n",
       "\n",
       "       reviews.didPurchase reviews.doRecommend  \\\n",
       "count                    9               16086   \n",
       "unique                   2                   2   \n",
       "top                   True                True   \n",
       "freq                     8               15353   \n",
       "\n",
       "                                       reviews.sourceURLs reviews.text  \\\n",
       "count                                               28332        28332   \n",
       "unique                                               9906        18168   \n",
       "top     https://www.amazon.com/product-reviews/B00QWO9...         good   \n",
       "freq                                                12071           60   \n",
       "\n",
       "       reviews.title   reviews.username  \\\n",
       "count          28332              28332   \n",
       "unique         10441              16269   \n",
       "top       Five Stars  ByAmazon Customer   \n",
       "freq            3937                889   \n",
       "\n",
       "                                               sourceURLs  \n",
       "count                                               28332  \n",
       "unique                                                 65  \n",
       "top     https://www.barcodable.com/upc/841710106442,ht...  \n",
       "freq                                                 8343  \n",
       "\n",
       "[4 rows x 21 columns]"
      ]
     },
     "execution_count": 148,
     "metadata": {},
     "output_type": "execute_result"
    }
   ],
   "source": [
    "df.describe(exclude='number')"
   ]
  },
  {
   "cell_type": "code",
   "execution_count": 6,
   "metadata": {},
   "outputs": [],
   "source": [
    "def tokenize(text):\n",
    "    return [token for token in simple_preprocess(text) if token not in STOPWORDS]"
   ]
  },
  {
   "cell_type": "code",
   "execution_count": 198,
   "metadata": {},
   "outputs": [
    {
     "data": {
      "text/plain": [
       "['item', 'expected', 'arrived', 'quickly']"
      ]
     },
     "execution_count": 198,
     "metadata": {},
     "output_type": "execute_result"
    }
   ],
   "source": [
    "tokenize(df['reviews.text'][2832])"
   ]
  },
  {
   "cell_type": "code",
   "execution_count": 319,
   "metadata": {},
   "outputs": [],
   "source": [
    "STOPWORDS = set(STOPWORDS).union(set(['amazon','review','reviews','love','good','great']))\n",
    "def doc_stream(df):\n",
    "    for i in range(len(df)):\n",
    "        tokens = tokenize(str(df[i]))\n",
    "        yield tokens"
   ]
  },
  {
   "cell_type": "code",
   "execution_count": 320,
   "metadata": {},
   "outputs": [
    {
     "data": {
      "text/plain": [
       "['order',\n",
       " 'item',\n",
       " 'bad',\n",
       " 'quality',\n",
       " 'missing',\n",
       " 'backup',\n",
       " 'spring',\n",
       " 'pcs',\n",
       " 'aluminum',\n",
       " 'battery',\n",
       " 'work']"
      ]
     },
     "execution_count": 320,
     "metadata": {},
     "output_type": "execute_result"
    }
   ],
   "source": [
    "next(doc_stream(df['reviews.text']))"
   ]
  },
  {
   "cell_type": "code",
   "execution_count": 321,
   "metadata": {},
   "outputs": [],
   "source": [
    "id2word = corpora.Dictionary(doc_stream(df['reviews.text']))\n"
   ]
  },
  {
   "cell_type": "code",
   "execution_count": 322,
   "metadata": {},
   "outputs": [
    {
     "data": {
      "text/plain": [
       "[(3, 2), (3534, 1)]"
      ]
     },
     "execution_count": 322,
     "metadata": {},
     "output_type": "execute_result"
    }
   ],
   "source": [
    "id2word.doc2bow(tokenize(\"Battery is a Battery message Darcy England England England\"))\n"
   ]
  },
  {
   "cell_type": "code",
   "execution_count": 323,
   "metadata": {},
   "outputs": [
    {
     "data": {
      "text/plain": [
       "56"
      ]
     },
     "execution_count": 323,
     "metadata": {},
     "output_type": "execute_result"
    }
   ],
   "source": [
    "import sys\n",
    "sys.getsizeof(id2word)"
   ]
  },
  {
   "cell_type": "code",
   "execution_count": 324,
   "metadata": {},
   "outputs": [
    {
     "data": {
      "text/plain": [
       "9616"
      ]
     },
     "execution_count": 324,
     "metadata": {},
     "output_type": "execute_result"
    }
   ],
   "source": [
    "len(id2word.keys())\n"
   ]
  },
  {
   "cell_type": "code",
   "execution_count": 325,
   "metadata": {},
   "outputs": [],
   "source": [
    "#id2word.filter_extremes(no_below=10, no_above=0.75)\n"
   ]
  },
  {
   "cell_type": "code",
   "execution_count": 326,
   "metadata": {},
   "outputs": [],
   "source": [
    "corpus = [id2word.doc2bow(text) for text in doc_stream(df['reviews.text'])]\n"
   ]
  },
  {
   "cell_type": "code",
   "execution_count": 327,
   "metadata": {},
   "outputs": [
    {
     "data": {
      "text/plain": [
       "[(0, 1),\n",
       " (1, 1),\n",
       " (2, 1),\n",
       " (3, 1),\n",
       " (4, 1),\n",
       " (5, 1),\n",
       " (6, 1),\n",
       " (7, 1),\n",
       " (8, 1),\n",
       " (9, 1),\n",
       " (10, 1)]"
      ]
     },
     "execution_count": 327,
     "metadata": {},
     "output_type": "execute_result"
    }
   ],
   "source": [
    "corpus[0]"
   ]
  },
  {
   "cell_type": "code",
   "execution_count": 377,
   "metadata": {},
   "outputs": [],
   "source": [
    "lda = LdaMulticore(corpus=corpus,\n",
    "                   id2word=id2word,\n",
    "                   random_state=723812,\n",
    "                   num_topics = 5,\n",
    "                   passes=10,\n",
    "                   workers=6\n",
    "                  )"
   ]
  },
  {
   "cell_type": "code",
   "execution_count": 378,
   "metadata": {},
   "outputs": [],
   "source": [
    "import warnings\n",
    "warnings.filterwarnings('ignore')"
   ]
  },
  {
   "cell_type": "code",
   "execution_count": 379,
   "metadata": {},
   "outputs": [],
   "source": [
    "words = [re.findall(r'\"([^\"]*)\"',t[1]) for t in lda.print_topics()]"
   ]
  },
  {
   "cell_type": "code",
   "execution_count": 380,
   "metadata": {},
   "outputs": [
    {
     "data": {
      "text/plain": [
       "9616"
      ]
     },
     "execution_count": 380,
     "metadata": {},
     "output_type": "execute_result"
    }
   ],
   "source": [
    "len(id2word.keys())"
   ]
  },
  {
   "cell_type": "code",
   "execution_count": 381,
   "metadata": {},
   "outputs": [],
   "source": [
    "topics = [' '.join(t[0:5]) for t in words]\n"
   ]
  },
  {
   "cell_type": "code",
   "execution_count": 382,
   "metadata": {},
   "outputs": [
    {
     "data": {
      "text/plain": [
       "'tablet games books use apps'"
      ]
     },
     "execution_count": 382,
     "metadata": {},
     "output_type": "execute_result"
    }
   ],
   "source": [
    "topics[2]"
   ]
  },
  {
   "cell_type": "code",
   "execution_count": 383,
   "metadata": {},
   "outputs": [],
   "source": [
    "import pyLDAvis.gensim\n",
    "\n",
    "pyLDAvis.enable_notebook()"
   ]
  },
  {
   "cell_type": "code",
   "execution_count": 384,
   "metadata": {},
   "outputs": [
    {
     "data": {
      "text/html": [
       "\n",
       "<link rel=\"stylesheet\" type=\"text/css\" href=\"https://cdn.rawgit.com/bmabey/pyLDAvis/files/ldavis.v1.0.0.css\">\n",
       "\n",
       "\n",
       "<div id=\"ldavis_el2241219417096539608624236074\"></div>\n",
       "<script type=\"text/javascript\">\n",
       "\n",
       "var ldavis_el2241219417096539608624236074_data = {\"mdsDat\": {\"x\": [-0.21965569231796894, 0.0746486135154242, 0.12880366877200514, 0.1371418956346561, -0.12093848560411655], \"y\": [0.0928294372889672, 0.06917293941070517, -0.025649920750379713, 0.007906043268600374, -0.14425849921789305], \"topics\": [1, 2, 3, 4, 5], \"cluster\": [1, 1, 1, 1, 1], \"Freq\": [25.7822265625, 22.33226203918457, 21.395278930664062, 17.573165893554688, 12.917062759399414]}, \"tinfo\": {\"Category\": [\"Default\", \"Default\", \"Default\", \"Default\", \"Default\", \"Default\", \"Default\", \"Default\", \"Default\", \"Default\", \"Default\", \"Default\", \"Default\", \"Default\", \"Default\", \"Default\", \"Default\", \"Default\", \"Default\", \"Default\", \"Default\", \"Default\", \"Default\", \"Default\", \"Default\", \"Default\", \"Default\", \"Default\", \"Default\", \"Default\", \"Topic1\", \"Topic1\", \"Topic1\", \"Topic1\", \"Topic1\", \"Topic1\", \"Topic1\", \"Topic1\", \"Topic1\", \"Topic1\", \"Topic1\", \"Topic1\", \"Topic1\", \"Topic1\", \"Topic1\", \"Topic1\", \"Topic1\", \"Topic1\", \"Topic1\", \"Topic1\", \"Topic1\", \"Topic1\", \"Topic1\", \"Topic1\", \"Topic1\", \"Topic1\", \"Topic1\", \"Topic1\", \"Topic1\", \"Topic1\", \"Topic1\", \"Topic1\", \"Topic1\", \"Topic1\", \"Topic1\", \"Topic1\", \"Topic1\", \"Topic1\", \"Topic1\", \"Topic1\", \"Topic1\", \"Topic1\", \"Topic1\", \"Topic1\", \"Topic1\", \"Topic1\", \"Topic1\", \"Topic1\", \"Topic1\", \"Topic1\", \"Topic1\", \"Topic1\", \"Topic1\", \"Topic1\", \"Topic1\", \"Topic1\", \"Topic1\", \"Topic1\", \"Topic1\", \"Topic1\", \"Topic1\", \"Topic1\", \"Topic1\", \"Topic1\", \"Topic1\", \"Topic1\", \"Topic1\", \"Topic1\", \"Topic1\", \"Topic2\", \"Topic2\", \"Topic2\", \"Topic2\", \"Topic2\", \"Topic2\", \"Topic2\", \"Topic2\", \"Topic2\", \"Topic2\", \"Topic2\", \"Topic2\", \"Topic2\", \"Topic2\", \"Topic2\", \"Topic2\", \"Topic2\", \"Topic2\", \"Topic2\", \"Topic2\", \"Topic2\", \"Topic2\", \"Topic2\", \"Topic2\", \"Topic2\", \"Topic2\", \"Topic2\", \"Topic2\", \"Topic2\", \"Topic2\", \"Topic2\", \"Topic2\", \"Topic2\", \"Topic2\", \"Topic2\", \"Topic2\", \"Topic2\", \"Topic2\", \"Topic2\", \"Topic2\", \"Topic2\", \"Topic2\", \"Topic2\", \"Topic2\", \"Topic2\", \"Topic2\", \"Topic2\", \"Topic2\", \"Topic2\", \"Topic2\", \"Topic2\", \"Topic2\", \"Topic2\", \"Topic2\", \"Topic2\", \"Topic2\", \"Topic2\", \"Topic2\", \"Topic2\", \"Topic2\", \"Topic2\", \"Topic2\", \"Topic2\", \"Topic2\", \"Topic2\", \"Topic2\", \"Topic2\", \"Topic2\", \"Topic2\", \"Topic2\", \"Topic2\", \"Topic2\", \"Topic2\", \"Topic2\", \"Topic2\", \"Topic2\", \"Topic2\", \"Topic2\", \"Topic2\", \"Topic2\", \"Topic2\", \"Topic3\", \"Topic3\", \"Topic3\", \"Topic3\", \"Topic3\", \"Topic3\", \"Topic3\", \"Topic3\", \"Topic3\", \"Topic3\", \"Topic3\", \"Topic3\", \"Topic3\", \"Topic3\", \"Topic3\", \"Topic3\", \"Topic3\", \"Topic3\", \"Topic3\", \"Topic3\", \"Topic3\", \"Topic3\", \"Topic3\", \"Topic3\", \"Topic3\", \"Topic3\", \"Topic3\", \"Topic3\", \"Topic3\", \"Topic3\", \"Topic3\", \"Topic3\", \"Topic3\", \"Topic3\", \"Topic3\", \"Topic3\", \"Topic3\", \"Topic3\", \"Topic3\", \"Topic3\", \"Topic3\", \"Topic3\", \"Topic3\", \"Topic3\", \"Topic3\", \"Topic3\", \"Topic3\", \"Topic3\", \"Topic3\", \"Topic3\", \"Topic3\", \"Topic3\", \"Topic3\", \"Topic3\", \"Topic3\", \"Topic3\", \"Topic3\", \"Topic3\", \"Topic3\", \"Topic3\", \"Topic3\", \"Topic3\", \"Topic3\", \"Topic3\", \"Topic3\", \"Topic3\", \"Topic3\", \"Topic3\", \"Topic3\", \"Topic3\", \"Topic3\", \"Topic3\", \"Topic3\", \"Topic3\", \"Topic3\", \"Topic3\", \"Topic3\", \"Topic4\", \"Topic4\", \"Topic4\", \"Topic4\", \"Topic4\", \"Topic4\", \"Topic4\", \"Topic4\", \"Topic4\", \"Topic4\", \"Topic4\", \"Topic4\", \"Topic4\", \"Topic4\", \"Topic4\", \"Topic4\", \"Topic4\", \"Topic4\", \"Topic4\", \"Topic4\", \"Topic4\", \"Topic4\", \"Topic4\", \"Topic4\", \"Topic4\", \"Topic4\", \"Topic4\", \"Topic4\", \"Topic4\", \"Topic4\", \"Topic4\", \"Topic4\", \"Topic4\", \"Topic4\", \"Topic4\", \"Topic4\", \"Topic4\", \"Topic4\", \"Topic4\", \"Topic4\", \"Topic4\", \"Topic4\", \"Topic4\", \"Topic4\", \"Topic4\", \"Topic4\", \"Topic4\", \"Topic4\", \"Topic4\", \"Topic4\", \"Topic4\", \"Topic4\", \"Topic4\", \"Topic4\", \"Topic4\", \"Topic4\", \"Topic4\", \"Topic4\", \"Topic4\", \"Topic4\", \"Topic4\", \"Topic4\", \"Topic4\", \"Topic4\", \"Topic4\", \"Topic4\", \"Topic4\", \"Topic4\", \"Topic4\", \"Topic4\", \"Topic4\", \"Topic4\", \"Topic4\", \"Topic4\", \"Topic4\", \"Topic4\", \"Topic4\", \"Topic4\", \"Topic4\", \"Topic4\", \"Topic4\", \"Topic4\", \"Topic4\", \"Topic4\", \"Topic4\", \"Topic4\", \"Topic5\", \"Topic5\", \"Topic5\", \"Topic5\", \"Topic5\", \"Topic5\", \"Topic5\", \"Topic5\", \"Topic5\", \"Topic5\", \"Topic5\", \"Topic5\", \"Topic5\", \"Topic5\", \"Topic5\", \"Topic5\", \"Topic5\", \"Topic5\", \"Topic5\", \"Topic5\", \"Topic5\", \"Topic5\", \"Topic5\", \"Topic5\", \"Topic5\", \"Topic5\", \"Topic5\", \"Topic5\", \"Topic5\", \"Topic5\", \"Topic5\", \"Topic5\", \"Topic5\", \"Topic5\", \"Topic5\", \"Topic5\", \"Topic5\", \"Topic5\", \"Topic5\", \"Topic5\", \"Topic5\", \"Topic5\", \"Topic5\", \"Topic5\", \"Topic5\", \"Topic5\", \"Topic5\", \"Topic5\", \"Topic5\", \"Topic5\", \"Topic5\", \"Topic5\", \"Topic5\", \"Topic5\", \"Topic5\", \"Topic5\", \"Topic5\", \"Topic5\", \"Topic5\", \"Topic5\", \"Topic5\", \"Topic5\", \"Topic5\", \"Topic5\", \"Topic5\", \"Topic5\", \"Topic5\", \"Topic5\", \"Topic5\", \"Topic5\", \"Topic5\", \"Topic5\", \"Topic5\", \"Topic5\", \"Topic5\", \"Topic5\", \"Topic5\", \"Topic5\"], \"Freq\": [7040.0, 4856.0, 3031.0, 2201.0, 6982.0, 2136.0, 1459.0, 2407.0, 1726.0, 1444.0, 1198.0, 1925.0, 1804.0, 2150.0, 2061.0, 1444.0, 1130.0, 1207.0, 1182.0, 1167.0, 1298.0, 2973.0, 1053.0, 808.0, 1806.0, 1618.0, 2045.0, 563.0, 447.0, 953.0, 293.21197509765625, 560.7355346679688, 297.873291015625, 111.30228424072266, 204.44432067871094, 442.9081726074219, 66.2750473022461, 127.40249633789062, 197.46002197265625, 94.3764419555664, 60.008155822753906, 43.12609100341797, 50.536006927490234, 98.80632781982422, 87.22103118896484, 328.34832763671875, 42.71360778808594, 1175.548095703125, 44.368003845214844, 49.277530670166016, 76.37281799316406, 34.891990661621094, 6880.72900390625, 68.5921630859375, 54.116363525390625, 40.87317657470703, 41.623653411865234, 24.624156951904297, 37.057952880859375, 24.44761085510254, 326.7773132324219, 105.33380126953125, 59.19557189941406, 359.2893371582031, 754.4569091796875, 263.3745422363281, 280.8824768066406, 314.5103454589844, 2058.399658203125, 95.400390625, 1006.225830078125, 246.0218048095703, 102.70116424560547, 140.9293975830078, 142.69924926757812, 155.63674926757812, 148.17820739746094, 1238.1004638671875, 1246.1512451171875, 343.7459411621094, 321.63421630859375, 528.51025390625, 350.2730407714844, 256.6385192871094, 1751.8070068359375, 517.5182495117188, 445.6144714355469, 250.13011169433594, 776.668212890625, 538.1616821289062, 832.4268188476562, 607.11669921875, 571.0211181640625, 389.83953857421875, 363.6539001464844, 413.8346252441406, 393.9942626953125, 364.0292663574219, 318.535400390625, 148.73460388183594, 135.626708984375, 87.49739074707031, 94.63897705078125, 78.62272644042969, 43.566322326660156, 28.005027770996094, 94.88851165771484, 187.34344482421875, 38.6337890625, 22.470211029052734, 19.468488693237305, 38.58017349243164, 63.90945053100586, 19.14590072631836, 23.601459503173828, 17.76343536376953, 62.29485321044922, 16.09688949584961, 16.57758140563965, 16.14789390563965, 16.08095932006836, 26.251440048217773, 15.452449798583984, 18.489839553833008, 16.739673614501953, 14.527996063232422, 39.58852767944336, 46.156890869140625, 39.42205047607422, 187.2941436767578, 73.3384780883789, 161.5572967529297, 40.93540954589844, 154.22007751464844, 147.3512725830078, 24.28958511352539, 564.0050048828125, 176.5286407470703, 235.98959350585938, 2216.83740234375, 85.32118225097656, 390.0026550292969, 150.41650390625, 85.52581787109375, 427.1967468261719, 148.57455444335938, 150.60763549804688, 140.5557098388672, 183.53575134277344, 162.4310302734375, 110.25118255615234, 143.93032836914062, 235.487060546875, 520.7330932617188, 205.1155548095703, 485.0517578125, 312.8273010253906, 908.2528686523438, 532.7465209960938, 1025.049072265625, 494.4992980957031, 1164.7325439453125, 395.819580078125, 355.79669189453125, 601.0935668945312, 518.0975341796875, 575.7550048828125, 1118.068603515625, 375.1295166015625, 339.4425048828125, 586.531982421875, 371.9497375488281, 336.3419189453125, 246.1409454345703, 474.3569641113281, 346.15643310546875, 286.9341125488281, 312.8934631347656, 295.40478515625, 253.43911743164062, 168.00233459472656, 37.91543960571289, 32.29646301269531, 21.800477981567383, 31.433870315551758, 174.5565643310547, 15.313851356506348, 373.20611572265625, 13.494220733642578, 13.494837760925293, 14.933798789978027, 13.102216720581055, 23.887075424194336, 12.46300220489502, 11.610991477966309, 11.57199764251709, 13.905072212219238, 11.357015609741211, 12.771417617797852, 10.786282539367676, 13.573409080505371, 10.946674346923828, 13.957151412963867, 10.312058448791504, 26.112653732299805, 14.06881046295166, 9.292662620544434, 10.233935356140137, 25.64809226989746, 9.798402786254883, 247.4825897216797, 68.89208221435547, 61.69221496582031, 275.4844055175781, 264.01678466796875, 149.35537719726562, 63.09067153930664, 800.866455078125, 271.8420104980469, 186.50086975097656, 637.9191284179688, 82.62065887451172, 32.828636169433594, 1397.8897705078125, 1327.80224609375, 298.1175231933594, 204.6490478515625, 41.46965789794922, 1028.8145751953125, 100.3000259399414, 167.70166015625, 3216.893310546875, 542.97265625, 235.4893035888672, 293.5296630859375, 841.854736328125, 761.9871215820312, 1236.994873046875, 389.7021789550781, 461.73443603515625, 380.8065185546875, 419.3612976074219, 576.584716796875, 221.94383239746094, 947.223876953125, 1172.093017578125, 792.7227172851562, 390.9923095703125, 251.86007690429688, 318.56671142578125, 396.37652587890625, 296.96600341796875, 323.32611083984375, 411.76116943359375, 314.61102294921875, 330.5932312011719, 281.6000061035156, 34.27326202392578, 35.82369613647461, 21.543994903564453, 18.419113159179688, 14.950128555297852, 14.307924270629883, 14.718634605407715, 13.12974739074707, 11.182476997375488, 21.188350677490234, 111.01333618164062, 10.413898468017578, 10.54864501953125, 9.903732299804688, 11.945116996765137, 9.050918579101562, 8.865849494934082, 8.687159538269043, 8.444982528686523, 8.267040252685547, 7.89642333984375, 8.069046020507812, 8.41340160369873, 8.940838813781738, 19.542097091674805, 7.783650875091553, 7.465285301208496, 7.319597244262695, 7.4544677734375, 7.3109283447265625, 217.41746520996094, 45.620697021484375, 13.174649238586426, 1156.8701171875, 69.1423568725586, 57.9318733215332, 230.66790771484375, 41.35245132446289, 60.695777893066406, 1241.789794921875, 100.91166687011719, 804.8373413085938, 39.69227600097656, 52.74072265625, 30.386510848999023, 325.1194763183594, 130.43838500976562, 178.41114807128906, 40.74201202392578, 138.39151000976562, 294.8604431152344, 673.2352294921875, 92.84508514404297, 166.12948608398438, 608.462158203125, 870.47265625, 362.454833984375, 245.6791534423828, 217.56787109375, 212.48464965820312, 76.21636199951172, 264.1347351074219, 95.57372283935547, 259.3906555175781, 462.7218017578125, 1875.737548828125, 246.33018493652344, 235.63226318359375, 296.56475830078125, 695.142578125, 1148.380126953125, 291.3618469238281, 815.2933349609375, 724.873291015625, 801.6697998046875, 377.2889404296875, 627.9275512695312, 476.55718994140625, 361.933349609375, 446.33734130859375, 397.9224853515625, 306.3274230957031, 379.0955505371094, 458.5738830566406, 328.0044860839844, 283.0731201171875, 111.45323944091797, 30.843278884887695, 24.424951553344727, 28.232954025268555, 25.75783920288086, 19.208518981933594, 14.527275085449219, 14.948468208312988, 13.586036682128906, 30.206008911132812, 15.352689743041992, 13.787120819091797, 12.684945106506348, 15.289055824279785, 11.387104034423828, 13.465362548828125, 10.295849800109863, 9.962130546569824, 9.819025039672852, 9.99557876586914, 8.635601997375488, 8.629487037658691, 11.310298919677734, 8.473737716674805, 9.94297981262207, 57.148353576660156, 7.891298770904541, 9.830374717712402, 7.87358283996582, 8.877549171447754, 140.3831787109375, 22.176721572875977, 15.841752052307129, 24.72360610961914, 126.79002380371094, 99.20696258544922, 294.00958251953125, 1000.4631958007812, 170.03829956054688, 236.75970458984375, 147.67898559570312, 140.69676208496094, 1281.9063720703125, 76.3421401977539, 995.4102172851562, 2176.427978515625, 741.4370727539062, 32.440853118896484, 603.8944702148438, 89.03276062011719, 74.30101776123047, 232.00588989257812, 104.19744873046875, 111.19365692138672, 317.5637512207031, 414.38653564453125, 133.7610321044922, 149.4013671875, 524.4607543945312, 363.2330627441406, 146.0811004638672, 232.625, 211.06063842773438, 259.7663269042969, 248.10008239746094, 220.3533477783203, 387.0351257324219, 232.49046325683594, 533.248779296875, 332.81365966796875, 248.49290466308594, 225.6346893310547, 201.69203186035156, 171.1597442626953, 192.2628173828125, 221.86373901367188, 188.29493713378906, 170.1839141845703], \"Term\": [\"batteries\", \"price\", \"kindle\", \"buy\", \"tablet\", \"loves\", \"works\", \"long\", \"games\", \"books\", \"brand\", \"product\", \"apps\", \"old\", \"work\", \"best\", \"play\", \"read\", \"reading\", \"value\", \"quality\", \"easy\", \"gift\", \"brands\", \"year\", \"screen\", \"battery\", \"duracell\", \"aa\", \"son\", \"energizer\", \"duracell\", \"remote\", \"flashlights\", \"remotes\", \"aa\", \"leak\", \"controllers\", \"alkaline\", \"candles\", \"leaked\", \"darn\", \"rayovac\", \"perform\", \"controller\", \"lasting\", \"copper\", \"brand\", \"energizers\", \"leaking\", \"costco\", \"kirkland\", \"batteries\", \"duracells\", \"flashlight\", \"clocks\", \"branded\", \"mah\", \"acid\", \"frustration\", \"aaa\", \"die\", \"batch\", \"toys\", \"brands\", \"amazonbasics\", \"lasted\", \"pack\", \"long\", \"comparable\", \"value\", \"basics\", \"rechargeable\", \"xbox\", \"mouse\", \"half\", \"dead\", \"battery\", \"work\", \"longer\", \"box\", \"ve\", \"buying\", \"months\", \"price\", \"life\", \"deal\", \"power\", \"time\", \"far\", \"use\", \"like\", \"buy\", \"lot\", \"money\", \"quality\", \"better\", \"bought\", \"store\", \"voyage\", \"paperwhite\", \"purse\", \"oasis\", \"loving\", \"wi\", \"fires\", \"law\", \"echo\", \"protect\", \"strain\", \"opportunity\", \"fi\", \"father\", \"covers\", \"oldest\", \"systems\", \"dark\", \"disable\", \"upgrades\", \"kiddos\", \"savy\", \"beach\", \"contents\", \"clearer\", \"shade\", \"enjoyment\", \"dot\", \"backlight\", \"adapter\", \"tap\", \"paper\", \"speaker\", \"adjust\", \"page\", \"original\", \"sleek\", \"light\", \"weight\", \"alexa\", \"kindle\", \"buttons\", \"reader\", \"portable\", \"white\", \"features\", \"travel\", \"husband\", \"ads\", \"model\", \"upgrade\", \"eyes\", \"turn\", \"book\", \"device\", \"older\", \"new\", \"charge\", \"like\", \"reading\", \"easy\", \"read\", \"use\", \"size\", \"case\", \"time\", \"screen\", \"battery\", \"tablet\", \"life\", \"set\", \"kids\", \"perfect\", \"nice\", \"child\", \"bought\", \"better\", \"purchased\", \"old\", \"year\", \"best\", \"niece\", \"homework\", \"magazine\", \"grandaughter\", \"watches\", \"sd\", \"adding\", \"granddaughter\", \"prefers\", \"iphones\", \"engaged\", \"navigating\", \"compatible\", \"vibrant\", \"monitoring\", \"newstand\", \"icons\", \"closes\", \"advanced\", \"sisters\", \"operation\", \"sensitivity\", \"autism\", \"guard\", \"microsd\", \"rooting\", \"vivid\", \"newspaper\", \"nexus\", \"researching\", \"gb\", \"processor\", \"pink\", \"memory\", \"card\", \"youtube\", \"expandable\", \"gift\", \"yr\", \"friday\", \"christmas\", \"colors\", \"lag\", \"loves\", \"old\", \"parental\", \"black\", \"ram\", \"year\", \"setup\", \"age\", \"tablet\", \"daughter\", \"controls\", \"grandson\", \"apps\", \"screen\", \"bought\", \"tablets\", \"son\", \"hd\", \"ipad\", \"purchased\", \"storage\", \"easy\", \"use\", \"kids\", \"got\", \"prime\", \"little\", \"games\", \"case\", \"perfect\", \"price\", \"works\", \"like\", \"better\", \"rides\", \"occupied\", \"skype\", \"grandmother\", \"fingertips\", \"hes\", \"anybody\", \"nvidia\", \"mails\", \"files\", \"entertained\", \"shield\", \"solitaire\", \"addicted\", \"smoothly\", \"approved\", \"ticking\", \"australia\", \"curfew\", \"att\", \"autistic\", \"coffee\", \"gmail\", \"progress\", \"education\", \"usa\", \"weekend\", \"dinner\", \"googleplay\", \"primetime\", \"educational\", \"checking\", \"occasionally\", \"books\", \"busy\", \"road\", \"web\", \"college\", \"surf\", \"games\", \"car\", \"play\", \"numerous\", \"functionality\", \"underground\", \"download\", \"email\", \"keeps\", \"savvy\", \"likes\", \"google\", \"read\", \"surfing\", \"fun\", \"reading\", \"apps\", \"movies\", \"wife\", \"lots\", \"playing\", \"trips\", \"watch\", \"check\", \"kid\", \"recommend\", \"tablet\", \"internet\", \"learning\", \"free\", \"loves\", \"use\", \"excellent\", \"easy\", \"kids\", \"bought\", \"son\", \"kindle\", \"old\", \"got\", \"time\", \"year\", \"daughter\", \"product\", \"price\", \"screen\", \"set\", \"described\", \"associate\", \"teaching\", \"sleeve\", \"directions\", \"guys\", \"reorder\", \"logic\", \"resist\", \"promised\", \"mid\", \"obvious\", \"charm\", \"teen\", \"prompt\", \"wonderfully\", \"intermediate\", \"ha\", \"essential\", \"universal\", \"baught\", \"dispute\", \"wished\", \"booklet\", \"informative\", \"delivery\", \"specially\", \"mommy\", \"ui\", \"gripe\", \"complaints\", \"stated\", \"customers\", \"knowledgeable\", \"thank\", \"advertised\", \"item\", \"works\", \"thanks\", \"expected\", \"service\", \"satisfied\", \"buy\", \"customer\", \"product\", \"price\", \"best\", \"backpack\", \"quality\", \"recommended\", \"shipping\", \"beat\", \"exactly\", \"couldn\", \"happy\", \"nice\", \"ok\", \"worked\", \"work\", \"far\", \"products\", \"fast\", \"way\", \"ipad\", \"purchase\", \"money\", \"like\", \"store\", \"tablet\", \"kids\", \"better\", \"recommend\", \"deal\", \"cheap\", \"need\", \"bought\", \"time\", \"got\"], \"Total\": [7040.0, 4856.0, 3031.0, 2201.0, 6982.0, 2136.0, 1459.0, 2407.0, 1726.0, 1444.0, 1198.0, 1925.0, 1804.0, 2150.0, 2061.0, 1444.0, 1130.0, 1207.0, 1182.0, 1167.0, 1298.0, 2973.0, 1053.0, 808.0, 1806.0, 1618.0, 2045.0, 563.0, 447.0, 953.0, 294.8634948730469, 563.9315185546875, 300.04644775390625, 112.21459197998047, 206.41885375976562, 447.3040466308594, 67.0382080078125, 128.89828491210938, 199.8731689453125, 95.54923248291016, 60.8828010559082, 43.79954528808594, 51.35802459716797, 100.45960235595703, 88.72322845458984, 334.0191955566406, 43.50727081298828, 1198.03515625, 45.228660583496094, 50.33872985839844, 78.11769104003906, 35.689884185791016, 7040.794921875, 70.29951477050781, 55.465492248535156, 41.898616790771484, 42.71375274658203, 25.309606552124023, 38.09918975830078, 25.141860961914062, 336.169921875, 108.88275146484375, 60.880165100097656, 377.5309753417969, 808.94775390625, 276.7300720214844, 295.79046630859375, 333.40313720703125, 2407.334228515625, 99.93620300292969, 1167.3912353515625, 275.47406005859375, 111.32685852050781, 158.89540100097656, 161.96194458007812, 179.03627014160156, 169.6959686279297, 2045.4072265625, 2061.090576171875, 462.3775329589844, 434.8536682128906, 861.2367553710938, 508.69305419921875, 356.0417175292969, 4856.28759765625, 1006.3923950195312, 813.4458618164062, 359.1613464355469, 2061.22119140625, 1214.677001953125, 4425.30322265625, 2440.640869140625, 2201.224609375, 936.1515502929688, 785.838134765625, 1298.0582275390625, 1375.1971435546875, 3098.91455078125, 998.3756103515625, 150.20042419433594, 137.56857299804688, 89.19206237792969, 96.53948974609375, 80.79167938232422, 44.926456451416016, 28.90785026550293, 98.01126861572266, 193.70130920410156, 39.971248626708984, 23.31863784790039, 20.277667999267578, 40.19660568237305, 66.66011047363281, 19.980209350585938, 24.637393951416016, 18.564205169677734, 65.24547576904297, 16.887290954589844, 17.404685974121094, 16.95664405822754, 16.887754440307617, 27.583627700805664, 16.24246597290039, 19.437389373779297, 17.612518310546875, 15.313639640808105, 41.75100326538086, 48.806800842285156, 41.74160385131836, 199.51681518554688, 77.85535430908203, 177.40798950195312, 43.73736572265625, 170.05824279785156, 164.65127563476562, 25.79671859741211, 692.3572998046875, 206.06565856933594, 280.49249267578125, 3031.5537109375, 98.21087646484375, 507.083984375, 182.06739807128906, 98.77669525146484, 571.21533203125, 182.528564453125, 185.3616485595703, 175.66209411621094, 244.1789093017578, 216.4647979736328, 137.2947235107422, 193.59063720703125, 363.33612060546875, 1008.1631469726562, 306.0496520996094, 966.7092895507812, 553.6259765625, 2440.640869140625, 1182.3328857421875, 2973.61865234375, 1207.5496826171875, 4425.30322265625, 963.8087158203125, 817.8639526367188, 2061.22119140625, 1618.3358154296875, 2045.4072265625, 6982.1484375, 1006.3923950195312, 837.7166137695312, 2597.9345703125, 1090.412109375, 1194.2615966796875, 528.5415649414062, 3098.91455078125, 1375.1971435546875, 1355.8485107421875, 2150.673095703125, 1806.7811279296875, 1444.620849609375, 172.2413787841797, 38.94261932373047, 33.18131637573242, 22.690744400024414, 32.88682556152344, 183.04124450683594, 16.208471298217773, 395.00885009765625, 14.317448616027832, 14.320712089538574, 15.860427856445312, 13.920052528381348, 25.443008422851562, 13.277403831481934, 12.419364929199219, 12.386475563049316, 14.892280578613281, 12.167661666870117, 13.726705551147461, 11.593772888183594, 14.611344337463379, 11.818001747131348, 15.071194648742676, 11.144829750061035, 28.292028427124023, 15.262757301330566, 10.112071990966797, 11.141035079956055, 27.93272590637207, 10.700757026672363, 271.6526794433594, 75.29322814941406, 68.17251586914062, 311.7347412109375, 299.65887451171875, 171.17984008789062, 72.45738983154297, 1053.5145263671875, 338.76702880859375, 231.35824584960938, 897.583984375, 100.54730224609375, 37.52155303955078, 2136.656982421875, 2150.673095703125, 437.8741455078125, 292.2170104980469, 49.61369323730469, 1806.7811279296875, 132.5338897705078, 236.56326293945312, 6982.1484375, 954.3408203125, 370.333984375, 498.0793762207031, 1804.7281494140625, 1618.3358154296875, 3098.91455078125, 745.8197631835938, 953.3201293945312, 750.7186279296875, 872.5162353515625, 1355.8485107421875, 378.2822570800781, 2973.61865234375, 4425.30322265625, 2597.9345703125, 1230.505859375, 473.2978820800781, 941.118408203125, 1726.0494384765625, 817.8639526367188, 1090.412109375, 4856.28759765625, 1459.318115234375, 2440.640869140625, 1375.1971435546875, 35.504215240478516, 37.22819900512695, 22.546133041381836, 19.31743812561035, 15.756786346435547, 15.111132621765137, 15.61503791809082, 13.96674919128418, 11.997687339782715, 22.81645965576172, 119.8935775756836, 11.250831604003906, 11.422662734985352, 10.724878311157227, 12.997513771057129, 9.854423522949219, 9.678494453430176, 9.503458023071289, 9.286016464233398, 9.102035522460938, 8.697309494018555, 8.887939453125, 9.281365394592285, 9.866893768310547, 21.566572189331055, 8.598376274108887, 8.263620376586914, 8.118425369262695, 8.268091201782227, 8.120417594909668, 248.34083557128906, 51.44117736816406, 14.734349250793457, 1444.9246826171875, 80.47724914550781, 67.10533142089844, 278.9220275878906, 47.5391845703125, 70.76966094970703, 1726.0494384765625, 124.70758056640625, 1130.17529296875, 47.460227966308594, 65.82415771484375, 36.5142936706543, 483.4189147949219, 178.83848571777344, 254.7322998046875, 50.3918571472168, 196.64993286132812, 455.9644470214844, 1207.5496826171875, 131.78469848632812, 259.5106506347656, 1182.3328857421875, 1804.7281494140625, 655.3712158203125, 428.6505432128906, 371.2458190917969, 363.05633544921875, 105.1645278930664, 508.08355712890625, 140.4530792236328, 514.7122802734375, 1097.289306640625, 6982.1484375, 483.7646789550781, 456.28887939453125, 624.86328125, 2136.656982421875, 4425.30322265625, 651.4699096679688, 2973.61865234375, 2597.9345703125, 3098.91455078125, 953.3201293945312, 3031.5537109375, 2150.673095703125, 1230.505859375, 2061.22119140625, 1806.7811279296875, 954.3408203125, 1925.456298828125, 4856.28759765625, 1618.3358154296875, 837.7166137695312, 114.33028411865234, 31.823909759521484, 25.20372772216797, 29.268098831176758, 27.000455856323242, 20.221900939941406, 15.30009937286377, 15.766668319702148, 14.352724075317383, 31.946697235107422, 16.261594772338867, 14.613438606262207, 13.507418632507324, 16.28492546081543, 12.157965660095215, 14.458847999572754, 11.058511734008789, 10.726259231567383, 10.582289695739746, 10.821128845214844, 9.390403747558594, 9.389031410217285, 12.316457748413086, 9.245388984680176, 10.849825859069824, 62.62710189819336, 8.648457527160645, 10.786222457885742, 8.645612716674805, 9.752455711364746, 156.06512451171875, 24.693098068237305, 17.608585357666016, 27.837160110473633, 154.82830810546875, 121.56433868408203, 392.5819091796875, 1459.318115234375, 223.0706787109375, 320.21466064453125, 194.34524536132812, 192.63681030273438, 2201.224609375, 101.35920715332031, 1925.456298828125, 4856.28759765625, 1444.620849609375, 39.70954513549805, 1298.0582275390625, 133.48439025878906, 109.58543395996094, 455.0060119628906, 173.35284423828125, 196.90176391601562, 827.72900390625, 1194.2615966796875, 277.7118835449219, 328.196044921875, 2061.090576171875, 1214.677001953125, 329.37139892578125, 667.1660766601562, 609.777099609375, 872.5162353515625, 950.6072998046875, 785.838134765625, 2440.640869140625, 998.3756103515625, 6982.1484375, 2597.9345703125, 1375.1971435546875, 1097.289306640625, 813.4458618164062, 542.1101684570312, 925.4097290039062, 3098.91455078125, 2061.22119140625, 1230.505859375], \"loglift\": [30.0, 29.0, 28.0, 27.0, 26.0, 25.0, 24.0, 23.0, 22.0, 21.0, 20.0, 19.0, 18.0, 17.0, 16.0, 15.0, 14.0, 13.0, 12.0, 11.0, 10.0, 9.0, 8.0, 7.0, 6.0, 5.0, 4.0, 3.0, 2.0, 1.0, 1.3499000072479248, 1.3497999906539917, 1.3481999635696411, 1.3473000526428223, 1.345900058746338, 1.3456000089645386, 1.343999981880188, 1.3437999486923218, 1.3432999849319458, 1.3430999517440796, 1.340999960899353, 1.340000033378601, 1.3393000364303589, 1.3388999700546265, 1.3384000062942505, 1.3384000062942505, 1.3371000289916992, 1.3365000486373901, 1.336300015449524, 1.3342000246047974, 1.332900047302246, 1.332900047302246, 1.3324999809265137, 1.330899953842163, 1.330899953842163, 1.3307000398635864, 1.3295999765396118, 1.3279999494552612, 1.3278000354766846, 1.3274999856948853, 1.3271000385284424, 1.3222999572753906, 1.3273999691009521, 1.305999994277954, 1.2856999635696411, 1.305999994277954, 1.3037999868392944, 1.2970999479293823, 1.1988999843597412, 1.309000015258789, 1.2069000005722046, 1.242400050163269, 1.2747999429702759, 1.2354999780654907, 1.2288999557495117, 1.215399980545044, 1.2199000120162964, 0.8535000085830688, 0.8522999882698059, 1.059000015258789, 1.0539000034332275, 0.8672000169754028, 0.9824000000953674, 1.0281000137329102, 0.3359000086784363, 0.6904000043869019, 0.7537000179290771, 0.9937000274658203, 0.37940001487731934, 0.5414000153541565, -0.31529998779296875, -0.03579999879002571, 0.006099999882280827, 0.47940000891685486, 0.5849000215530396, 0.21230000257492065, 0.1054999977350235, -0.7860999703407288, 0.21310000121593475, 1.489300012588501, 1.4848999977111816, 1.4800000190734863, 1.4793000221252441, 1.4718999862670898, 1.468400001525879, 1.4673999547958374, 1.4667999744415283, 1.4658000469207764, 1.4651000499725342, 1.4621000289916992, 1.458400011062622, 1.4580999612808228, 1.4570000171661377, 1.4565000534057617, 1.4562000036239624, 1.4550000429153442, 1.4529000520706177, 1.451200008392334, 1.4503999948501587, 1.4502999782562256, 1.4501999616622925, 1.4495999813079834, 1.4493000507354736, 1.4492000341415405, 1.4483000040054321, 1.4464999437332153, 1.4459999799728394, 1.4433000087738037, 1.4420000314712524, 1.4358999729156494, 1.4393999576568604, 1.405500054359436, 1.4328999519348145, 1.4013999700546265, 1.388100028038025, 1.4388999938964844, 1.294100046157837, 1.3444000482559204, 1.3264000415802002, 1.1861000061035156, 1.3583999872207642, 1.2366000413894653, 1.3082000017166138, 1.3551000356674194, 1.2086000442504883, 1.2933000326156616, 1.2914999723434448, 1.2762000560760498, 1.2136000394821167, 1.2120000123977661, 1.2798000574111938, 1.2027000188827515, 1.065500020980835, 0.8385000228881836, 1.0989999771118164, 0.809499979019165, 0.9283000230789185, 0.5105999708175659, 0.7019000053405762, 0.4341000020503998, 0.6062999963760376, 0.16429999470710754, 0.6092000007629395, 0.6668000221252441, 0.2667999863624573, 0.36010000109672546, 0.23149999976158142, -0.3325999975204468, 0.5123000144958496, 0.59579998254776, 0.010900000110268593, 0.4235999882221222, 0.23199999332427979, 0.7348999977111816, -0.37770000100135803, 0.11969999969005585, -0.05380000174045563, -0.4284999966621399, -0.3118000030517578, -0.24130000174045563, 1.5170999765396118, 1.5153000354766846, 1.5149999856948853, 1.5019999742507935, 1.4967999458312988, 1.4945000410079956, 1.485200047492981, 1.485200047492981, 1.482800006866455, 1.4825999736785889, 1.4817999601364136, 1.4815000295639038, 1.4788999557495117, 1.478700041770935, 1.4746999740600586, 1.4739999771118164, 1.4733999967575073, 1.473099946975708, 1.4699000120162964, 1.4697999954223633, 1.4682999849319458, 1.465399980545044, 1.4651999473571777, 1.4643000364303589, 1.4617999792099, 1.4605000019073486, 1.4574999809265137, 1.4571000337600708, 1.4566999673843384, 1.4538999795913696, 1.448799967765808, 1.4531999826431274, 1.4421000480651855, 1.4184000492095947, 1.4154000282287598, 1.4055999517440796, 1.4035999774932861, 1.267799973487854, 1.3219000101089478, 1.3265000581741333, 1.2005000114440918, 1.3456000089645386, 1.408400058746338, 1.1176999807357788, 1.0597000122070312, 1.1576000452041626, 1.1857999563217163, 1.3626999855041504, 0.9789000153541565, 1.2632999420166016, 1.1979999542236328, 0.7670999765396118, 0.9779999852180481, 1.0893000364303589, 1.013200044631958, 0.7793999910354614, 0.7888000011444092, 0.6236000061035156, 0.8928999900817871, 0.8169999718666077, 0.8633000254631042, 0.8094000220298767, 0.6869000196456909, 1.0088000297546387, 0.39800000190734863, 0.2134999930858612, 0.35499998927116394, 0.3955000042915344, 0.9110999703407288, 0.45879998803138733, 0.07079999893903732, 0.5289000272750854, 0.3264000117778778, -0.925599992275238, 0.007600000128149986, -0.4571000039577484, -0.04390000179409981, 1.7035000324249268, 1.7002999782562256, 1.6933000087738037, 1.6912000179290771, 1.6862000226974487, 1.6842000484466553, 1.6797000169754028, 1.6770000457763672, 1.6684000492095947, 1.6648000478744507, 1.6618000268936157, 1.6614999771118164, 1.6591999530792236, 1.65910005569458, 1.6543999910354614, 1.6536999940872192, 1.6511000394821167, 1.6490000486373901, 1.6439000368118286, 1.6426000595092773, 1.642199993133545, 1.6420999765396118, 1.6405999660491943, 1.6402000188827515, 1.6402000188827515, 1.63919997215271, 1.6371999979019165, 1.635200023651123, 1.635200023651123, 1.6338000297546387, 1.6058000326156616, 1.6187000274658203, 1.6268999576568604, 1.5164999961853027, 1.5870000123977661, 1.5917999744415283, 1.548799991607666, 1.5994000434875488, 1.5851999521255493, 1.409500002861023, 1.5270999670028687, 1.3992999792099, 1.5600999593734741, 1.517199993133545, 1.5550999641418457, 1.3421000242233276, 1.423200011253357, 1.382699966430664, 1.5262000560760498, 1.3875000476837158, 1.302899956703186, 1.1545000076293945, 1.3885999917984009, 1.292799949645996, 1.0744999647140503, 1.0096999406814575, 1.1464999914169312, 1.1821999549865723, 1.2043999433517456, 1.2030999660491943, 1.4168000221252441, 1.0845999717712402, 1.3538000583648682, 1.0535000562667847, 0.8752999901771545, 0.4244000017642975, 1.0638999938964844, 1.0779000520706177, 0.9934999942779541, 0.6158999800682068, 0.3898000121116638, 0.9340999722480774, 0.4447999894618988, 0.46230000257492065, 0.38670000433921814, 0.8119000196456909, 0.16439999639987946, 0.23180000483989716, 0.5151000022888184, 0.20880000293254852, 0.22579999268054962, 0.602400004863739, 0.1137000024318695, -0.6211000084877014, 0.14270000159740448, 0.6538000106811523, 2.0211000442504883, 2.0153000354766846, 2.015199899673462, 2.0106000900268555, 1.999500036239624, 1.9952000379562378, 1.9947999715805054, 1.993299961090088, 1.9917000532150269, 1.9905999898910522, 1.9890999794006348, 1.9883999824523926, 1.9838000535964966, 1.9835000038146973, 1.9810999631881714, 1.9753999710083008, 1.9752000570297241, 1.9726999998092651, 1.9717999696731567, 1.9673000574111938, 1.9628000259399414, 1.9622999429702759, 1.961400032043457, 1.9594999551773071, 1.9593000411987305, 1.9551000595092773, 1.9550000429153442, 1.9537999629974365, 1.9530999660491943, 1.9526000022888184, 1.9407000541687012, 1.9391000270843506, 1.9408999681472778, 1.9279999732971191, 1.8467999696731567, 1.843400001525879, 1.7575000524520874, 1.669100046157837, 1.7752000093460083, 1.7446999549865723, 1.7719999551773071, 1.7323999404907227, 1.50600004196167, 1.763200044631958, 1.3868999481201172, 1.24399995803833, 1.3796000480651855, 1.8444000482559204, 1.2813999652862549, 1.6416000127792358, 1.6579999923706055, 1.3731000423431396, 1.537600040435791, 1.4752000570297241, 1.0886000394821167, 0.988099992275238, 1.316100001335144, 1.259600043296814, 0.6779999732971191, 0.8393999934196472, 1.2336000204086304, 0.9929999709129333, 0.9857000112533569, 0.8349999785423279, 0.7034000158309937, 0.7750999927520752, 0.20509999990463257, 0.5892999768257141, -0.5254999995231628, -0.008299999870359898, 0.33570000529289246, 0.4648999869823456, 0.6521000266075134, 0.8937000036239624, 0.47519999742507935, -0.5900999903678894, -0.3463999927043915, 0.06830000132322311], \"logprob\": [30.0, 29.0, 28.0, 27.0, 26.0, 25.0, 24.0, 23.0, 22.0, 21.0, 20.0, 19.0, 18.0, 17.0, 16.0, 15.0, 14.0, 13.0, 12.0, 11.0, 10.0, 9.0, 8.0, 7.0, 6.0, 5.0, 4.0, 3.0, 2.0, 1.0, -5.561500072479248, -4.913099765777588, -5.5457000732421875, -6.530099868774414, -5.922100067138672, -5.14900016784668, -7.048600196838379, -6.394999980926514, -5.956900119781494, -6.695099830627441, -7.147900104522705, -7.478300094604492, -7.319699764251709, -6.649199962615967, -6.77400016784668, -5.448299884796143, -7.4878997802734375, -4.172900199890137, -7.449900150299072, -7.344900131225586, -6.906799793243408, -7.690100193023682, -2.405900001525879, -7.014200210571289, -7.251299858093262, -7.531899929046631, -7.513700008392334, -8.038700103759766, -7.629899978637695, -8.045900344848633, -5.453100204467773, -6.585299968719482, -7.161499977111816, -5.35830020904541, -4.616399765014648, -5.668799877166748, -5.604499816894531, -5.491399765014648, -3.6126999855041504, -6.684299945831299, -4.328400135040283, -5.736999988555908, -6.610599994659424, -6.294099807739258, -6.281700134277344, -6.194900035858154, -6.24399995803833, -4.121099948883057, -4.11460018157959, -5.402500152587891, -5.468999862670898, -4.972300052642822, -5.383699893951416, -5.694699764251709, -3.7739999294281006, -4.9934000968933105, -5.142899990081787, -5.720399856567383, -4.587399959564209, -4.95419979095459, -4.51800012588501, -4.833700180053711, -4.894999980926514, -5.276700019836426, -5.346199989318848, -5.216899871826172, -5.26609992980957, -5.345200061798096, -5.478700160980225, -6.09660005569458, -6.188799858093262, -6.627099990844727, -6.548699855804443, -6.734099864959717, -7.32450008392334, -7.76639986038208, -6.546000003814697, -5.865799903869629, -7.4446001052856445, -7.986599922180176, -8.129899978637695, -7.446000099182129, -6.941299915313721, -8.146699905395508, -7.937399864196777, -8.221599578857422, -6.966899871826172, -8.320099830627441, -8.29069995880127, -8.317000389099121, -8.321100234985352, -7.830999851226807, -8.361000061035156, -8.181500434875488, -8.281000137329102, -8.422699928283691, -7.420199871063232, -7.26669979095459, -7.4243998527526855, -5.866099834442139, -6.803699970245361, -6.013899803161621, -7.38670015335083, -6.060400009155273, -6.105899810791016, -7.908699989318848, -4.763700008392334, -5.925300121307373, -5.635000228881836, -3.39490008354187, -6.652299880981445, -5.132599830627441, -6.085299968719482, -6.649899959564209, -5.041500091552734, -6.097700119018555, -6.084099769592285, -6.15310001373291, -5.886300086975098, -6.008500099182129, -6.395999908447266, -6.12939977645874, -5.6371002197265625, -4.843500137329102, -5.775199890136719, -4.9145002365112305, -5.353099822998047, -4.287199974060059, -4.820700168609619, -4.166200160980225, -4.895199775695801, -4.03849983215332, -5.117800235748291, -5.224400043487549, -4.699999809265137, -4.848599910736084, -4.743100166320801, -4.079400062561035, -5.171500205993652, -5.271399974822998, -4.7245001792907715, -5.179999828338623, -5.280600070953369, -5.592800140380859, -4.936800003051758, -5.2519001960754395, -5.439499855041504, -5.35290002822876, -5.410399913787842, -5.563600063323975, -5.9319000244140625, -7.420499801635742, -7.580900192260742, -7.973899841308594, -7.607999801635742, -5.893599987030029, -8.327099800109863, -5.133699893951416, -8.45359992980957, -8.45359992980957, -8.352299690246582, -8.483099937438965, -7.882500171661377, -8.533100128173828, -8.603899955749512, -8.6072998046875, -8.423600196838379, -8.62600040435791, -8.508700370788574, -8.677599906921387, -8.447799682617188, -8.662799835205078, -8.419899940490723, -8.722599983215332, -7.793499946594238, -8.41189956665039, -8.826700210571289, -8.730199813842773, -7.811399936676025, -8.773699760437012, -5.54449987411499, -6.823299884796143, -6.933700084686279, -5.437300205230713, -5.479899883270264, -6.049600124359131, -6.911300182342529, -4.370200157165527, -5.450699806213379, -5.827400207519531, -4.597700119018555, -6.641600131988525, -7.564599990844727, -3.813199996948242, -3.8645999431610107, -5.358399868011475, -5.734600067138672, -7.330900192260742, -4.119699954986572, -6.447700023651123, -5.933700084686279, -2.9797000885009766, -4.758800029754639, -5.594200134277344, -5.373899936676025, -4.320300102233887, -4.420000076293945, -3.9354000091552734, -5.0904998779296875, -4.920899868011475, -5.11359977722168, -5.017099857330322, -4.698800086975098, -5.653500080108643, -4.202300071716309, -3.989300012588501, -4.38040018081665, -5.087200164794922, -5.5269999504089355, -5.291999816894531, -5.073500156402588, -5.362299919128418, -5.277200222015381, -5.035399913787842, -5.304500102996826, -5.255000114440918, -5.41540002822876, -7.324699878692627, -7.2804999351501465, -7.789000034332275, -7.945700168609619, -8.154399871826172, -8.1983003616333, -8.170000076293945, -8.284199714660645, -8.444700241088867, -7.805600166320801, -6.149400234222412, -8.515899658203125, -8.503100395202637, -8.566200256347656, -8.378800392150879, -8.656200408935547, -8.676899909973145, -8.697199821472168, -8.725500106811523, -8.746800422668457, -8.792699813842773, -8.770999908447266, -8.729299545288086, -8.668499946594238, -7.886499881744385, -8.807100296020508, -8.848799705505371, -8.868499755859375, -8.850299835205078, -8.86970043182373, -5.47730016708374, -7.038700103759766, -8.280799865722656, -3.8055999279022217, -6.622900009155273, -6.799799919128418, -5.418099880218506, -7.13700008392334, -6.753200054168701, -3.734800100326538, -6.244800090789795, -4.168399810791016, -7.1778998374938965, -6.893700122833252, -7.445099830627441, -5.074900150299072, -5.9882001876831055, -5.675000190734863, -7.151800155639648, -5.928999900817871, -5.172599792480469, -4.3470001220703125, -6.328199863433838, -5.746300220489502, -4.4481000900268555, -4.090000152587891, -4.96619987487793, -5.355100154876709, -5.476600170135498, -5.500199794769287, -6.5254998207092285, -5.282599925994873, -6.299200057983398, -5.3007001876831055, -4.7220001220703125, -3.3222999572753906, -5.352399826049805, -5.3968000411987305, -5.166800022125244, -4.315000057220459, -3.812999963760376, -5.184500217437744, -4.1554999351501465, -4.273099899291992, -4.172399997711182, -4.92609977722168, -4.4166998863220215, -4.692500114440918, -4.967599868774414, -4.757999897003174, -4.872799873352051, -5.134399890899658, -4.921299934387207, -4.730999946594238, -5.066100120544434, -5.213399887084961, -5.837699890136719, -7.122300148010254, -7.3557000160217285, -7.2108001708984375, -7.302499771118164, -7.595900058746338, -7.875199794769287, -7.84660005569458, -7.942200183868408, -7.143199920654297, -7.820000171661377, -7.927499771118164, -8.0108003616333, -7.824100017547607, -8.118800163269043, -7.951099872589111, -8.219499588012695, -8.2524995803833, -8.266900062561035, -8.249099731445312, -8.395400047302246, -8.396100044250488, -8.125499725341797, -8.414299964904785, -8.254400253295898, -6.5055999755859375, -8.48550033569336, -8.265800476074219, -8.487700462341309, -8.36769962310791, -5.606900215148926, -7.452199935913086, -7.788599967956543, -7.343500137329102, -5.708700180053711, -5.954100131988525, -4.867599964141846, -3.6429998874664307, -5.415200233459473, -5.084199905395508, -5.55620002746582, -5.604700088500977, -3.39520001411438, -6.216000080108643, -3.648099899291992, -2.865799903869629, -3.942699909210205, -7.071800231933594, -4.147900104522705, -6.062300205230713, -6.243100166320801, -5.104499816894531, -5.90500020980835, -5.840000152587891, -4.790599822998047, -4.524499893188477, -5.655200004577637, -5.544600009918213, -4.288899898529053, -4.656199932098389, -5.5671000480651855, -5.101799964904785, -5.199100017547607, -4.991499900817871, -5.037399768829346, -5.156000137329102, -4.592700004577637, -5.102399826049805, -4.272299766540527, -4.74370002746582, -5.035799980163574, -5.132299900054932, -5.244500160217285, -5.408699989318848, -5.292399883270264, -5.149199962615967, -5.313199996948242, -5.414400100708008]}, \"token.table\": {\"Topic\": [1, 5, 1, 5, 1, 2, 3, 4, 3, 2, 4, 5, 2, 3, 5, 3, 2, 5, 1, 2, 3, 4, 5, 1, 2, 3, 4, 5, 1, 5, 1, 5, 4, 4, 1, 2, 3, 4, 5, 5, 4, 4, 3, 4, 2, 4, 1, 2, 5, 1, 2, 3, 4, 5, 1, 5, 1, 2, 3, 4, 5, 1, 2, 3, 4, 5, 5, 2, 4, 1, 2, 3, 4, 5, 1, 2, 3, 4, 5, 1, 2, 3, 4, 5, 1, 2, 3, 4, 5, 1, 2, 3, 4, 5, 5, 1, 2, 3, 4, 5, 1, 2, 3, 4, 5, 1, 2, 3, 4, 5, 1, 2, 3, 4, 5, 1, 1, 2, 5, 2, 4, 5, 1, 2, 3, 4, 1, 2, 3, 4, 5, 1, 2, 3, 4, 5, 1, 5, 1, 2, 4, 5, 1, 2, 3, 4, 5, 1, 2, 3, 4, 5, 1, 2, 3, 4, 5, 5, 1, 2, 3, 4, 5, 1, 2, 3, 4, 5, 1, 2, 4, 1, 2, 3, 4, 5, 1, 2, 3, 4, 5, 2, 1, 5, 3, 4, 2, 3, 4, 2, 3, 5, 1, 5, 2, 3, 1, 2, 3, 4, 5, 2, 1, 5, 1, 5, 1, 2, 3, 4, 5, 1, 1, 5, 1, 2, 3, 4, 5, 2, 4, 1, 2, 3, 4, 5, 1, 5, 2, 3, 1, 1, 2, 3, 4, 5, 1, 2, 5, 1, 2, 3, 4, 5, 1, 5, 2, 5, 1, 2, 3, 4, 5, 1, 5, 4, 5, 2, 5, 2, 3, 1, 2, 3, 4, 5, 1, 2, 5, 1, 5, 1, 2, 3, 4, 5, 2, 3, 5, 4, 5, 1, 2, 3, 4, 5, 1, 2, 3, 4, 1, 5, 1, 3, 2, 1, 2, 3, 4, 5, 1, 2, 3, 4, 5, 1, 2, 3, 4, 5, 1, 2, 3, 4, 5, 1, 2, 3, 4, 5, 1, 2, 3, 4, 1, 2, 3, 4, 5, 1, 2, 3, 4, 5, 1, 2, 4, 5, 1, 2, 3, 4, 5, 2, 3, 3, 4, 4, 2, 1, 5, 1, 1, 2, 3, 4, 5, 2, 3, 4, 5, 1, 2, 3, 4, 5, 2, 4, 5, 1, 2, 3, 4, 5, 1, 2, 3, 4, 5, 1, 2, 3, 4, 5, 4, 1, 2, 3, 4, 5, 4, 1, 2, 3, 4, 5, 3, 2, 3, 4, 5, 4, 1, 2, 3, 4, 5, 5, 3, 1, 5, 5, 1, 2, 3, 4, 5, 1, 2, 3, 4, 5, 1, 2, 3, 4, 5, 4, 3, 1, 2, 3, 4, 3, 5, 5, 1, 2, 3, 4, 5, 1, 2, 3, 4, 5, 3, 1, 2, 3, 4, 5, 1, 2, 3, 4, 5, 1, 2, 3, 4, 5, 2, 1, 2, 3, 4, 5, 1, 2, 3, 4, 5, 1, 4, 5, 2, 3, 1, 2, 4, 1, 2, 5, 1, 2, 5, 1, 1, 1, 1, 2, 3, 4, 5, 1, 2, 3, 4, 5, 1, 2, 3, 4, 5, 1, 2, 3, 4, 5, 1, 2, 3, 4, 5, 1, 2, 3, 4, 5, 5, 1, 2, 3, 4, 5, 1, 2, 3, 4, 5, 1, 2, 3, 4, 5, 1, 2, 3, 4, 5, 1, 2, 3, 4, 5, 1, 2, 4, 3, 1, 4, 1, 2, 3, 4, 5, 3, 4, 5, 5, 1, 2, 3, 4, 5, 5, 1, 2, 3, 4, 5, 3, 1, 2, 3, 5, 1, 2, 3, 4, 5, 1, 2, 3, 4, 5, 3, 1, 2, 3, 4, 5, 1, 2, 3, 4, 5, 3, 3, 2, 3, 4, 1, 2, 3, 4, 5, 3, 5, 1, 4, 5, 4, 2, 5, 5, 2, 4, 1, 4, 1, 2, 3, 4, 5, 1, 2, 3, 4, 5, 1, 2, 3, 4, 5, 2, 3, 2, 1, 2, 3, 1, 2, 3, 5, 2, 3, 4, 1, 2, 2, 4, 1, 2, 3, 4, 1, 2, 3, 4, 5, 1, 4, 5, 1, 2, 3, 5, 1, 2, 3, 4, 5, 1, 2, 3, 4, 5, 1, 2, 3, 4, 5, 1, 2, 3, 4, 5, 3, 1, 2, 3, 4, 5, 1, 2, 3, 4, 5, 4, 2, 3, 4, 1, 2, 3, 4, 5, 1, 2, 3, 4, 5, 4, 4, 5, 5, 1, 2, 1, 2, 3, 4, 5, 1, 2, 3, 4, 5, 1, 2, 4, 1, 2, 3, 4, 5, 2, 3, 4, 1, 1, 2, 3, 4, 5, 1, 2, 4, 5, 1, 2, 3, 4, 5, 1, 2, 5, 1, 2, 3, 4, 5, 1, 2, 3, 4, 5, 1, 5, 1, 2, 5, 5, 3, 5, 4, 1, 2, 3, 4, 3, 1, 2, 3, 4, 5, 2, 3, 4, 2, 1, 2, 3, 4, 5, 1, 2, 3, 4, 5, 3, 1, 2, 3, 4, 5, 1, 2, 3, 4, 5, 2, 3, 4, 5, 2, 4, 1, 3, 5, 3, 1, 2, 3, 4, 5, 4, 1, 2, 5, 5, 4, 4, 1, 2, 3, 4, 5, 1, 2, 3, 5, 5, 2, 5, 1, 2, 3, 4, 5, 1, 2, 3, 4, 5, 2, 2, 3, 4, 1, 2, 3, 4, 5, 2, 1, 2, 3, 4, 5, 1, 2, 3, 4, 5, 2, 3, 5, 5, 5, 1, 2, 3, 4, 5, 1, 3, 4, 5, 4, 1, 2, 3, 4, 5, 1, 2, 5, 1, 2, 3, 4, 1, 2, 3, 4, 5, 1, 2, 3, 4, 5, 5, 3, 4, 5, 2, 3, 4, 5, 2, 4, 1, 2, 3, 4, 5, 1, 2, 3, 4, 5, 1, 2, 3, 4, 5, 3, 3, 2, 1, 2, 3, 4, 5, 1, 3, 1, 2, 3, 4, 5, 1, 2, 3, 4, 5, 4, 1, 2, 3, 4, 5, 1, 2, 4, 2, 3, 1, 2, 3, 4, 5, 5, 5, 1, 2, 3, 4, 5, 1, 2, 3, 4, 5, 1, 2, 3, 4, 5, 1, 2, 4, 5, 1, 2, 3, 4, 5, 1, 2, 3, 4, 1, 2, 3, 4], \"Freq\": [0.9903777837753296, 0.006706847343593836, 0.9727223515510559, 0.02677217498421669, 0.9711492657661438, 0.9343196153640747, 0.04791382700204849, 0.9324114918708801, 0.9254419803619385, 0.9374135732650757, 0.02286374568939209, 0.02286374568939209, 0.8026774525642395, 0.11954770237207413, 0.07969846576452255, 0.9470589756965637, 0.18097412586212158, 0.8143835663795471, 0.0169087965041399, 0.22826874256134033, 0.7101694345474243, 0.03804479166865349, 0.004227199126034975, 0.003565157763659954, 0.8413772583007812, 0.1105198934674263, 0.03565157949924469, 0.007130315527319908, 0.9856250286102295, 0.010006345808506012, 0.9503846168518066, 0.043363556265830994, 0.9606124758720398, 0.9132954478263855, 0.0027705002576112747, 0.034354206174612045, 0.4665522575378418, 0.4820670783519745, 0.013852502219378948, 0.9741103649139404, 0.8789242506027222, 0.9470236897468567, 0.9289243817329407, 0.9198246598243713, 0.9424915909767151, 0.04097789525985718, 0.05036572366952896, 0.1259143054485321, 0.8058515787124634, 0.8930060267448425, 0.014520423486828804, 0.003630105871707201, 0.003630105871707201, 0.08712253719568253, 0.9691169261932373, 0.016425710171461105, 0.9773043990135193, 0.00042608825606293976, 0.00014202941383700818, 0.00028405882767401636, 0.02173050120472908, 0.6052584648132324, 0.281606525182724, 0.04644551873207092, 0.0048890020698308945, 0.062090326100587845, 0.9584252238273621, 0.9425881505012512, 0.03625338897109032, 0.3010949194431305, 0.0021977731958031654, 0.05274655669927597, 0.13406416773796082, 0.5098833441734314, 0.11144793033599854, 0.17513245344161987, 0.12944573163986206, 0.06991454213857651, 0.5129373669624329, 0.2865043878555298, 0.2516002953052521, 0.20506151020526886, 0.07635268568992615, 0.1803377866744995, 0.003422114299610257, 0.1197739988565445, 0.7015334367752075, 0.16426149010658264, 0.010266343131661415, 0.022018179297447205, 0.6467840075492859, 0.008256817236542702, 0.316511332988739, 0.005504544824361801, 0.8652961850166321, 0.0006920776213519275, 0.1633303165435791, 0.03460387885570526, 0.8007338047027588, 0.0006920776213519275, 0.11746048182249069, 0.1529567837715149, 0.3991720378398895, 0.25880029797554016, 0.07163798809051514, 0.7404789924621582, 0.036793988198041916, 0.0022996242623776197, 0.0022996242623776197, 0.21846430003643036, 0.9816072583198547, 0.0008347000693902373, 0.0008347000693902373, 0.0008347000693902373, 0.016693999990820885, 0.9832898378372192, 0.932075023651123, 0.003708521369844675, 0.06304486095905304, 0.11183284968137741, 0.8573851585388184, 0.02485174499452114, 0.010182172060012817, 0.8654845952987671, 0.1120038852095604, 0.010182172060012817, 0.2594010531902313, 0.05542369559407234, 0.02180604450404644, 0.08131837099790573, 0.5824030637741089, 0.6880376935005188, 0.0511113703250885, 0.055043015629053116, 0.0747012346982956, 0.1297442466020584, 0.9837860465049744, 0.010465809144079685, 0.16037517786026, 0.01603751815855503, 0.8098946213722229, 0.008018759079277515, 0.013348511420190334, 0.03337128087878227, 0.8810017704963684, 0.006674255710095167, 0.06340543180704117, 0.030567431822419167, 0.4352802038192749, 0.36314108967781067, 0.10882005095481873, 0.06113486364483833, 0.308872789144516, 0.5653636455535889, 0.08128231018781662, 0.03612547367811203, 0.007225094363093376, 0.9624340534210205, 0.5497037768363953, 0.0073785739950835705, 0.09961074590682983, 0.027669653296470642, 0.3154340386390686, 0.16375575959682465, 0.08543778210878372, 0.05695852264761925, 0.6835022568702698, 0.014239630661904812, 0.09719839692115784, 0.019439678639173508, 0.8942252397537231, 0.009459993802011013, 0.46543169021606445, 0.0756799504160881, 0.4181317389011383, 0.0302719809114933, 0.10361147671937943, 0.05681919679045677, 0.7107970118522644, 0.10583967715501785, 0.022282037883996964, 0.9260503053665161, 0.9785525798797607, 0.023867135867476463, 0.9040356278419495, 0.9000961184501648, 0.1051763966679573, 0.02103527821600437, 0.8624464273452759, 0.13923794031143188, 0.8254821300506592, 0.029836703091859818, 0.9506064653396606, 0.040025535970926285, 0.039303530007600784, 0.9432846903800964, 0.006407581269741058, 0.019222743809223175, 0.057668231427669525, 0.019222743809223175, 0.8970614075660706, 0.9235050678253174, 0.9805774688720703, 0.011271005496382713, 0.985273003578186, 0.0077580553479492664, 0.17281697690486908, 0.17281697690486908, 0.6345623135566711, 0.01620159111917019, 0.0027002652641385794, 0.9883405566215515, 0.9728910326957703, 0.012801197357475758, 0.11173084378242493, 0.07110144197940826, 0.13204553723335266, 0.1218881905078888, 0.5637328624725342, 0.9509409666061401, 0.8615104556083679, 0.009865902364253998, 0.17758624255657196, 0.009865902364253998, 0.04932950809597969, 0.7498085498809814, 0.05679047852754593, 0.9086476564407349, 0.9502574801445007, 0.030653465539216995, 0.9817453622817993, 0.02933962270617485, 0.03143531084060669, 0.5689791440963745, 0.3206401765346527, 0.048200808465480804, 0.8721479773521423, 0.011785783804953098, 0.11785783618688583, 0.5482847690582275, 0.009834704920649529, 0.08236565440893173, 0.11186976730823517, 0.24832630157470703, 0.07983764261007309, 0.910149097442627, 0.017493177205324173, 0.9708713889122009, 0.05951417610049248, 0.5167814493179321, 0.25789475440979004, 0.15374495089054108, 0.011902835220098495, 0.964340090751648, 0.027552573010325432, 0.8622361421585083, 0.9629467129707336, 0.9474580883979797, 0.958565354347229, 0.9580608010292053, 0.047903042286634445, 0.002068599220365286, 0.014480195008218288, 0.3102898895740509, 0.6722947359085083, 0.002068599220365286, 0.9948016405105591, 0.0017732649575918913, 0.0035465299151837826, 0.981514573097229, 0.01422484964132309, 0.02051372639834881, 0.34469786286354065, 0.3184671998023987, 0.2740768492221832, 0.04237261414527893, 0.9654039144515991, 0.025812938809394836, 0.005162587855011225, 0.9273610711097717, 0.046368055045604706, 0.004026724025607109, 0.024160344153642654, 0.08456120640039444, 0.8737990856170654, 0.012080172076821327, 0.04473309963941574, 0.12301602959632874, 0.09505783766508102, 0.7269129157066345, 0.9936801195144653, 0.003391399746760726, 0.9728344678878784, 0.9457499980926514, 0.9795189499855042, 0.008340730331838131, 0.050044383853673935, 0.016681460663676262, 0.92582106590271, 0.9449750781059265, 0.1326773762702942, 0.18459460139274597, 0.06345439702272415, 0.01730574481189251, 0.5999324917793274, 0.2532733976840973, 0.10437934100627899, 0.10591433197259903, 0.4466821849346161, 0.08749444782733917, 0.027602430433034897, 0.013801215216517448, 0.8694765567779541, 0.0690060704946518, 0.013801215216517448, 0.14677654206752777, 0.003122905036434531, 0.034351956099271774, 0.0749497190117836, 0.7401285171508789, 0.01456720195710659, 0.8011960983276367, 0.15295562148094177, 0.02913440391421318, 0.4429160952568054, 0.12842920422554016, 0.09220558404922485, 0.037870150059461594, 0.2988448739051819, 0.11991017311811447, 0.09892589598894119, 0.3537349998950958, 0.07944048941135406, 0.3492383658885956, 0.015001474879682064, 0.9600943922996521, 0.015001474879682064, 0.015001474879682064, 0.005251959897577763, 0.7475289702415466, 0.18031728267669678, 0.05952221155166626, 0.007002613041549921, 0.9702311754226685, 0.024877723306417465, 0.04382801055908203, 0.9203881621360779, 0.9519707560539246, 0.968595027923584, 0.9735783338546753, 0.01802922785282135, 0.9891761541366577, 0.07361610233783722, 0.21124620735645294, 0.2160472571849823, 0.47530397772789, 0.02400525100529194, 0.01728920452296734, 0.808270275592804, 0.17289204895496368, 0.004322301130741835, 0.9545832872390747, 0.1926703155040741, 0.11945559829473495, 0.6396654844284058, 0.046240877360105515, 0.10634393244981766, 0.8051755428314209, 0.09115194529294968, 0.004055503755807877, 0.04634861275553703, 0.22942563891410828, 0.7195622324943542, 0.0005793576710857451, 0.01104351319372654, 0.007362342439591885, 0.9092492461204529, 0.06626108288764954, 0.007362342439591885, 0.001898407586850226, 0.006644426845014095, 0.7603122591972351, 0.0892251580953598, 0.14238056540489197, 0.8619421720504761, 0.0021931533701717854, 0.06360144913196564, 0.282916784286499, 0.6469802856445312, 0.004386306740343571, 0.8466283082962036, 0.12190108746290207, 0.12758980691432953, 0.31775549054145813, 0.2941879630088806, 0.13815456628799438, 0.9695582985877991, 0.04556860029697418, 0.9442826509475708, 0.002531588776037097, 0.005063177552074194, 0.9318006038665771, 0.006023136433213949, 0.030115682631731033, 0.5902673602104187, 0.3613881766796112, 0.012046272866427898, 0.9228444695472717, 0.8972770571708679, 0.04945133626461029, 0.9395753741264343, 0.9322914481163025, 0.8713318109512329, 0.011170920915901661, 0.03909822180867195, 0.0055854604579508305, 0.07261098176240921, 0.1594724804162979, 0.2742443382740021, 0.02174624800682068, 0.1606806069612503, 0.38418370485305786, 0.0013320569414645433, 0.21845734119415283, 0.507513701915741, 0.18782003223896027, 0.08525164425373077, 0.9264692664146423, 0.9757946729660034, 0.06473831087350845, 0.8146237134933472, 0.005394859239459038, 0.11329204589128494, 0.9400843381881714, 0.9216737747192383, 0.9042808413505554, 0.006201362237334251, 0.18604086339473724, 0.29146403074264526, 0.5085117220878601, 0.004134241491556168, 0.0011461104732006788, 0.13638713955879211, 0.4802202880382538, 0.08481217175722122, 0.2979887127876282, 0.9077761173248291, 0.007641717325896025, 0.08405888825654984, 0.10698404163122177, 0.053492020815610886, 0.7488883137702942, 0.04318258911371231, 0.1491762101650238, 0.08243948966264725, 0.6987727880477905, 0.027479829266667366, 0.02525682933628559, 0.1767978072166443, 0.21371163427829742, 0.503193736076355, 0.07965615391731262, 0.9435829520225525, 0.06197230890393257, 0.22594872117042542, 0.30524247884750366, 0.27906784415245056, 0.12817874550819397, 0.0016493193106725812, 0.7313081622123718, 0.04848998785018921, 0.20715449750423431, 0.01154523529112339, 0.9806700348854065, 0.07184641063213348, 0.8980801105499268, 0.1066053956747055, 0.8794944882392883, 0.949996829032898, 0.027046171948313713, 0.020284630358219147, 0.981979489326477, 0.0029938400257378817, 0.011975360102951527, 0.010202908888459206, 0.9692763090133667, 0.010202908888459206, 0.9845131635665894, 0.9854999780654907, 0.9734055399894714, 0.019724346697330475, 0.12053767591714859, 0.3112063705921173, 0.5172162055969238, 0.030682316049933434, 0.5147097706794739, 0.37261807918548584, 0.06756807863712311, 0.009936481714248657, 0.0347776859998703, 0.0996595248579979, 0.8146082758903503, 0.04477456957101822, 0.03466418385505676, 0.005777363665401936, 0.2487051635980606, 0.3720334470272064, 0.1356201171875, 0.08522351831197739, 0.15856491029262543, 0.015255535021424294, 0.08644803613424301, 0.18815159797668457, 0.701754629611969, 0.010170357301831245, 0.15619713068008423, 0.18594896793365479, 0.33895841240882874, 0.1848864108324051, 0.1349458247423172, 0.9513741135597229, 0.8548875451087952, 0.08557183295488358, 0.002907780697569251, 0.03863194212317467, 0.01786208152770996, 0.7439807653427124, 0.17734426259994507, 0.02811555378139019, 0.032441023737192154, 0.017301877960562706, 0.41659921407699585, 0.15809406340122223, 0.20189039409160614, 0.13032077252864838, 0.09293366968631744, 0.11582621932029724, 0.1750861406326294, 0.051179029047489166, 0.5872120261192322, 0.07272808998823166, 0.004680208396166563, 0.015444687567651272, 0.6542931199073792, 0.3252744972705841, 0.0004680208512581885, 0.012377512641251087, 0.9778234958648682, 0.012377512641251087, 0.9643981456756592, 0.987767219543457, 0.9168433547019958, 0.0032078553922474384, 0.07057282328605652, 0.8821602463722229, 0.022454988211393356, 0.022454988211393356, 0.9189867973327637, 0.035345643758773804, 0.035345643758773804, 0.9224187731742859, 0.004095357842743397, 0.7535458207130432, 0.11876537650823593, 0.07781179994344711, 0.05323965102434158, 0.927108645439148, 0.4631997048854828, 0.05980875343084335, 0.1196175068616867, 0.076351597905159, 0.2799558639526367, 0.96623295545578, 0.7218255400657654, 0.14605030417442322, 0.039321236312389374, 0.08987710624933243, 0.8829234838485718, 0.018522869795560837, 0.04322002828121185, 0.04939432069659233, 0.006174290087074041, 0.0015258528292179108, 0.06103411316871643, 0.3799373507499695, 0.5523586869239807, 0.004577558487653732, 0.9339045286178589, 0.3414703607559204, 0.14047831296920776, 0.23016831278800964, 0.07888397574424744, 0.2074756622314453, 0.13964901864528656, 0.5017020106315613, 0.1448211967945099, 0.13758014142513275, 0.07551391422748566, 0.8975826501846313, 0.9687985777854919, 0.035800300538539886, 0.9308078289031982, 0.035800300538539886, 0.10131783783435822, 0.281345397233963, 0.2185450792312622, 0.05191492289304733, 0.34665772318840027, 0.9753753542900085, 0.017417417839169502, 0.147491917014122, 0.8428109288215637, 0.021070273593068123, 0.9307820796966553, 0.9840532541275024, 0.010358455590903759, 0.9580222964286804, 0.06786862015724182, 0.8822920918464661, 0.02686135843396187, 0.9670088887214661, 0.13683246076107025, 0.003600854193791747, 0.3204760253429413, 0.057613667100667953, 0.48251447081565857, 0.012089238502085209, 0.14553582668304443, 0.6174811124801636, 0.22179102897644043, 0.003254794981330633, 0.0032674437388777733, 0.6698259711265564, 0.30713969469070435, 0.016337217763066292, 0.0032674437388777733, 0.9741290211677551, 0.9581596255302429, 0.9369913935661316, 0.09717507660388947, 0.892795979976654, 0.006073442287743092, 0.9448021650314331, 0.005998743698000908, 0.002999371849000454, 0.04798994958400726, 0.9055721163749695, 0.08232473582029343, 0.00588033813983202, 0.051377326250076294, 0.9376361966133118, 0.9885978698730469, 0.007269102148711681, 0.013702567666769028, 0.2443624585866928, 0.680560827255249, 0.05937779322266579, 0.014673351310193539, 0.34115540981292725, 0.29621827602386475, 0.24119322001934052, 0.10638179630041122, 0.9854707717895508, 0.009954250417649746, 0.009954250417649746, 0.014668667688965797, 0.07334333658218384, 0.9094573855400085, 0.014668667688965797, 0.00442409235984087, 0.11414158344268799, 0.16103696823120117, 0.7122789025306702, 0.00796336680650711, 0.008263180032372475, 0.08538619428873062, 0.3084920644760132, 0.5839313864707947, 0.01377196703106165, 0.04943224415183067, 0.8238707184791565, 0.06590966135263443, 0.05492471531033516, 0.005492471624165773, 0.6960660219192505, 0.09466497600078583, 0.04176396131515503, 0.008352791890501976, 0.1587030440568924, 0.9079830050468445, 0.3607694208621979, 0.011943279765546322, 0.08483846485614777, 0.09451664239168167, 0.4480789005756378, 0.07817486673593521, 0.12254439294338226, 0.5324342250823975, 0.20071925222873688, 0.06761069595813751, 0.8620246052742004, 0.013281406834721565, 0.9164170622825623, 0.06640703231096268, 0.06907453387975693, 0.11114248633384705, 0.10594891011714935, 0.196836456656456, 0.5167606472969055, 0.3795107901096344, 0.036433037370443344, 0.13055171072483063, 0.009108259342610836, 0.4432685971260071, 0.9121411442756653, 0.03130213916301727, 0.9390642046928406, 0.9047566056251526, 0.025017982348799706, 0.9757013320922852, 0.27666524052619934, 0.24405451118946075, 0.10414394736289978, 0.11466354131698608, 0.2608858644962311, 0.1674228310585022, 0.21167556941509247, 0.4255637526512146, 0.12317010015249252, 0.07301700860261917, 0.011211760342121124, 0.9754230976104736, 0.011211760342121124, 0.31893792748451233, 0.11478684097528458, 0.05931937322020531, 0.04160059988498688, 0.46531039476394653, 0.10077863186597824, 0.8263847827911377, 0.04031145200133324, 0.9930288195610046, 0.004968739580363035, 0.40909290313720703, 0.0074531096033751965, 0.5573269724845886, 0.01987495832145214, 0.007888239808380604, 0.7691033482551575, 0.21298247575759888, 0.007888239808380604, 0.005074712913483381, 0.4508036673069, 0.01945306546986103, 0.5142375826835632, 0.010149425826966763, 0.9252035021781921, 0.04491279274225235, 0.03593023493885994, 0.15857258439064026, 0.1057150587439537, 0.1084490641951561, 0.4219488799571991, 0.20596209168434143, 0.04494907706975937, 0.14983025193214417, 0.11986420303583145, 0.022474538534879684, 0.6667446494102478, 0.9931795597076416, 0.003332817228510976, 0.9882818460464478, 0.004844518844038248, 0.004844518844038248, 0.9803857803344727, 0.9345133304595947, 0.975424587726593, 0.9576327800750732, 0.05960778146982193, 0.014901945367455482, 0.0447058379650116, 0.8643128275871277, 0.9172654747962952, 0.010382231324911118, 0.15573348104953766, 0.07267562299966812, 0.031146695837378502, 0.7319473624229431, 0.1587558090686798, 0.019844476133584976, 0.8136234879493713, 0.9474320411682129, 0.0018537561409175396, 0.320081889629364, 0.4708540737628937, 0.20267733931541443, 0.004943349864333868, 0.0054632495157420635, 0.027316248044371605, 0.9560686945915222, 0.0054632495157420635, 0.0054632495157420635, 0.9307833909988403, 0.005145482253283262, 0.08747319877147675, 0.005145482253283262, 0.1440735012292862, 0.7615313529968262, 0.09430396556854248, 0.40467146039009094, 0.1038537323474884, 0.3378230631351471, 0.05849233269691467, 0.19617624580860138, 0.7545239925384521, 0.03772620111703873, 0.007545239757746458, 0.9652225375175476, 0.8888232111930847, 0.31026020646095276, 0.00912530068308115, 0.6752722263336182, 0.9487851858139038, 0.02075100503861904, 0.41086989641189575, 0.21892310678958893, 0.22203576564788818, 0.1276186853647232, 0.9757770895957947, 0.03876462206244469, 0.9303508996963501, 0.03876462206244469, 0.9566730260848999, 0.9232534766197205, 0.9629978537559509, 0.07972138375043869, 0.033566899597644806, 0.4846220910549164, 0.39546000957489014, 0.006293793674558401, 0.005636724643409252, 0.9131494164466858, 0.07891414314508438, 0.005636724643409252, 0.9250204563140869, 0.08099429309368134, 0.8909372091293335, 0.142750546336174, 0.10045409202575684, 0.5868633985519409, 0.12953290343284607, 0.039652928709983826, 0.3195190131664276, 0.07712528109550476, 0.12820826470851898, 0.24239374697208405, 0.23237746953964233, 0.9434513449668884, 0.014130349270999432, 0.11304279416799545, 0.8619512915611267, 0.0075881341472268105, 0.05311693996191025, 0.22005589306354523, 0.7056965231895447, 0.0075881341472268105, 0.9696078896522522, 0.0340869277715683, 0.16012263298034668, 0.4607464373111725, 0.2686852216720581, 0.076337531208992, 0.0053632259368896484, 0.12603580951690674, 0.5229145288467407, 0.1340806484222412, 0.21318823099136353, 0.9372643828392029, 0.05513319745659828, 0.0050121089443564415, 0.9522401094436646, 0.9210972189903259, 0.08396397531032562, 0.032293837517499924, 0.0516701377928257, 0.006458767224103212, 0.8202634453773499, 0.04482883960008621, 0.004482883960008621, 0.192764014005661, 0.7620903253555298, 0.9298967123031616, 0.37696099281311035, 0.29157471656799316, 0.023772316053509712, 0.21637658774852753, 0.0912080630660057, 0.9509153366088867, 0.01589273475110531, 0.03178546950221062, 0.021914377808570862, 0.8163105845451355, 0.07670032232999802, 0.08765751123428345, 0.07607127726078033, 0.10459800809621811, 0.07607127726078033, 0.7226771116256714, 0.019017819315195084, 0.10847631841897964, 0.7438376545906067, 0.05682092905044556, 0.08781416714191437, 0.010331078432500362, 0.9253247976303101, 0.13693267107009888, 0.821596086025238, 0.9241179823875427, 0.7483896017074585, 0.12011190503835678, 0.12473160028457642, 0.004619688726961613, 0.9767484664916992, 0.930408239364624, 0.18800970911979675, 0.26325878500938416, 0.26484060287475586, 0.25941726565361023, 0.024405106902122498, 0.8617505431175232, 0.007709497585892677, 0.09936685860157013, 0.026554936543107033, 0.005139665212482214, 0.6142329573631287, 0.130045548081398, 0.08940631151199341, 0.09405079483985901, 0.0719894990324974, 0.9037911295890808, 0.8900253176689148, 0.992007851600647, 0.0019681802950799465, 0.027554523199796677, 0.4448087215423584, 0.5195995569229126, 0.003936360590159893, 0.030407313257455826, 0.9426267147064209, 0.1869535595178604, 0.20827282965183258, 0.17055413126945496, 0.08855695277452469, 0.34602808952331543, 0.007170462515205145, 0.05736370012164116, 0.08963078260421753, 0.828188419342041, 0.017926156520843506, 0.8470863699913025, 0.04367540031671524, 0.8589495420455933, 0.01941128820180893, 0.07279233634471893, 0.004852822050452232, 0.07086692005395889, 0.8706507086753845, 0.060743071138858795, 0.9793784022331238, 0.02225860022008419, 0.03266063705086708, 0.10964642465114594, 0.27294960618019104, 0.5738940834999084, 0.011664513498544693, 0.893113911151886, 0.8991034626960754, 0.6045343279838562, 0.028625622391700745, 0.016981301829218864, 0.09509528428316116, 0.25423434376716614, 0.4204804003238678, 0.018281755968928337, 0.048751350492239, 0.05789222568273544, 0.4539969265460968, 0.004796760622411966, 0.0726366639137268, 0.2158542424440384, 0.021242797374725342, 0.6852515339851379, 0.8873761892318726, 0.018880344927310944, 0.08810827881097794, 0.006293448153883219, 0.0404033437371254, 0.16327378153800964, 0.5695211291313171, 0.22028124332427979, 0.006088175345212221, 0.011683618649840355, 0.08178532868623734, 0.8704295754432678, 0.035050857812166214, 0.0029518811497837305, 0.008855643682181835, 0.802911639213562, 0.1859685182571411], \"Term\": [\"aa\", \"aa\", \"aaa\", \"aaa\", \"acid\", \"adapter\", \"adapter\", \"addicted\", \"adding\", \"adjust\", \"adjust\", \"adjust\", \"ads\", \"ads\", \"ads\", \"advanced\", \"advertised\", \"advertised\", \"age\", \"age\", \"age\", \"age\", \"age\", \"alexa\", \"alexa\", \"alexa\", \"alexa\", \"alexa\", \"alkaline\", \"alkaline\", \"amazonbasics\", \"amazonbasics\", \"anybody\", \"approved\", \"apps\", \"apps\", \"apps\", \"apps\", \"apps\", \"associate\", \"att\", \"australia\", \"autism\", \"autistic\", \"backlight\", \"backlight\", \"backpack\", \"backpack\", \"backpack\", \"basics\", \"basics\", \"basics\", \"basics\", \"basics\", \"batch\", \"batch\", \"batteries\", \"batteries\", \"batteries\", \"batteries\", \"batteries\", \"battery\", \"battery\", \"battery\", \"battery\", \"battery\", \"baught\", \"beach\", \"beach\", \"beat\", \"beat\", \"beat\", \"beat\", \"beat\", \"best\", \"best\", \"best\", \"best\", \"best\", \"better\", \"better\", \"better\", \"better\", \"better\", \"black\", \"black\", \"black\", \"black\", \"black\", \"book\", \"book\", \"book\", \"book\", \"book\", \"booklet\", \"books\", \"books\", \"books\", \"books\", \"books\", \"bought\", \"bought\", \"bought\", \"bought\", \"bought\", \"box\", \"box\", \"box\", \"box\", \"box\", \"brand\", \"brand\", \"brand\", \"brand\", \"brand\", \"branded\", \"brands\", \"brands\", \"brands\", \"busy\", \"busy\", \"busy\", \"buttons\", \"buttons\", \"buttons\", \"buttons\", \"buy\", \"buy\", \"buy\", \"buy\", \"buy\", \"buying\", \"buying\", \"buying\", \"buying\", \"buying\", \"candles\", \"candles\", \"car\", \"car\", \"car\", \"car\", \"card\", \"card\", \"card\", \"card\", \"card\", \"case\", \"case\", \"case\", \"case\", \"case\", \"charge\", \"charge\", \"charge\", \"charge\", \"charge\", \"charm\", \"cheap\", \"cheap\", \"cheap\", \"cheap\", \"cheap\", \"check\", \"check\", \"check\", \"check\", \"check\", \"checking\", \"checking\", \"checking\", \"child\", \"child\", \"child\", \"child\", \"child\", \"christmas\", \"christmas\", \"christmas\", \"christmas\", \"christmas\", \"clearer\", \"clocks\", \"clocks\", \"closes\", \"coffee\", \"college\", \"college\", \"college\", \"colors\", \"colors\", \"colors\", \"comparable\", \"comparable\", \"compatible\", \"compatible\", \"complaints\", \"complaints\", \"complaints\", \"complaints\", \"complaints\", \"contents\", \"controller\", \"controller\", \"controllers\", \"controllers\", \"controls\", \"controls\", \"controls\", \"controls\", \"controls\", \"copper\", \"costco\", \"costco\", \"couldn\", \"couldn\", \"couldn\", \"couldn\", \"couldn\", \"covers\", \"curfew\", \"customer\", \"customer\", \"customer\", \"customer\", \"customer\", \"customers\", \"customers\", \"dark\", \"dark\", \"darn\", \"daughter\", \"daughter\", \"daughter\", \"daughter\", \"daughter\", \"dead\", \"dead\", \"dead\", \"deal\", \"deal\", \"deal\", \"deal\", \"deal\", \"delivery\", \"delivery\", \"described\", \"described\", \"device\", \"device\", \"device\", \"device\", \"device\", \"die\", \"die\", \"dinner\", \"directions\", \"disable\", \"dispute\", \"dot\", \"dot\", \"download\", \"download\", \"download\", \"download\", \"download\", \"duracell\", \"duracell\", \"duracell\", \"duracells\", \"duracells\", \"easy\", \"easy\", \"easy\", \"easy\", \"easy\", \"echo\", \"echo\", \"echo\", \"education\", \"education\", \"educational\", \"educational\", \"educational\", \"educational\", \"educational\", \"email\", \"email\", \"email\", \"email\", \"energizer\", \"energizer\", \"energizers\", \"engaged\", \"enjoyment\", \"entertained\", \"entertained\", \"entertained\", \"entertained\", \"essential\", \"exactly\", \"exactly\", \"exactly\", \"exactly\", \"exactly\", \"excellent\", \"excellent\", \"excellent\", \"excellent\", \"excellent\", \"expandable\", \"expandable\", \"expandable\", \"expandable\", \"expandable\", \"expected\", \"expected\", \"expected\", \"expected\", \"expected\", \"eyes\", \"eyes\", \"eyes\", \"eyes\", \"far\", \"far\", \"far\", \"far\", \"far\", \"fast\", \"fast\", \"fast\", \"fast\", \"fast\", \"father\", \"father\", \"father\", \"father\", \"features\", \"features\", \"features\", \"features\", \"features\", \"fi\", \"fi\", \"files\", \"files\", \"fingertips\", \"fires\", \"flashlight\", \"flashlight\", \"flashlights\", \"free\", \"free\", \"free\", \"free\", \"free\", \"friday\", \"friday\", \"friday\", \"friday\", \"frustration\", \"fun\", \"fun\", \"fun\", \"fun\", \"functionality\", \"functionality\", \"functionality\", \"games\", \"games\", \"games\", \"games\", \"games\", \"gb\", \"gb\", \"gb\", \"gb\", \"gb\", \"gift\", \"gift\", \"gift\", \"gift\", \"gift\", \"gmail\", \"google\", \"google\", \"google\", \"google\", \"google\", \"googleplay\", \"got\", \"got\", \"got\", \"got\", \"got\", \"grandaughter\", \"granddaughter\", \"granddaughter\", \"granddaughter\", \"granddaughter\", \"grandmother\", \"grandson\", \"grandson\", \"grandson\", \"grandson\", \"grandson\", \"gripe\", \"guard\", \"guys\", \"guys\", \"ha\", \"half\", \"half\", \"half\", \"half\", \"half\", \"happy\", \"happy\", \"happy\", \"happy\", \"happy\", \"hd\", \"hd\", \"hd\", \"hd\", \"hd\", \"hes\", \"homework\", \"husband\", \"husband\", \"husband\", \"husband\", \"icons\", \"informative\", \"intermediate\", \"internet\", \"internet\", \"internet\", \"internet\", \"internet\", \"ipad\", \"ipad\", \"ipad\", \"ipad\", \"ipad\", \"iphones\", \"item\", \"item\", \"item\", \"item\", \"item\", \"keeps\", \"keeps\", \"keeps\", \"keeps\", \"keeps\", \"kid\", \"kid\", \"kid\", \"kid\", \"kid\", \"kiddos\", \"kids\", \"kids\", \"kids\", \"kids\", \"kids\", \"kindle\", \"kindle\", \"kindle\", \"kindle\", \"kindle\", \"kirkland\", \"knowledgeable\", \"knowledgeable\", \"lag\", \"lag\", \"lasted\", \"lasted\", \"lasted\", \"lasting\", \"lasting\", \"lasting\", \"law\", \"law\", \"law\", \"leak\", \"leaked\", \"leaking\", \"learning\", \"learning\", \"learning\", \"learning\", \"learning\", \"life\", \"life\", \"life\", \"life\", \"life\", \"light\", \"light\", \"light\", \"light\", \"light\", \"like\", \"like\", \"like\", \"like\", \"like\", \"likes\", \"likes\", \"likes\", \"likes\", \"likes\", \"little\", \"little\", \"little\", \"little\", \"little\", \"logic\", \"long\", \"long\", \"long\", \"long\", \"long\", \"longer\", \"longer\", \"longer\", \"longer\", \"longer\", \"lot\", \"lot\", \"lot\", \"lot\", \"lot\", \"lots\", \"lots\", \"lots\", \"lots\", \"lots\", \"loves\", \"loves\", \"loves\", \"loves\", \"loves\", \"loving\", \"loving\", \"loving\", \"magazine\", \"mah\", \"mails\", \"memory\", \"memory\", \"memory\", \"memory\", \"memory\", \"microsd\", \"microsd\", \"microsd\", \"mid\", \"model\", \"model\", \"model\", \"model\", \"model\", \"mommy\", \"money\", \"money\", \"money\", \"money\", \"money\", \"monitoring\", \"months\", \"months\", \"months\", \"months\", \"mouse\", \"mouse\", \"mouse\", \"mouse\", \"mouse\", \"movies\", \"movies\", \"movies\", \"movies\", \"movies\", \"navigating\", \"need\", \"need\", \"need\", \"need\", \"need\", \"new\", \"new\", \"new\", \"new\", \"new\", \"newspaper\", \"newstand\", \"nexus\", \"nexus\", \"nexus\", \"nice\", \"nice\", \"nice\", \"nice\", \"nice\", \"niece\", \"niece\", \"numerous\", \"numerous\", \"numerous\", \"nvidia\", \"oasis\", \"oasis\", \"obvious\", \"occasionally\", \"occasionally\", \"occupied\", \"occupied\", \"ok\", \"ok\", \"ok\", \"ok\", \"ok\", \"old\", \"old\", \"old\", \"old\", \"old\", \"older\", \"older\", \"older\", \"older\", \"older\", \"oldest\", \"operation\", \"opportunity\", \"original\", \"original\", \"original\", \"pack\", \"pack\", \"pack\", \"pack\", \"page\", \"page\", \"page\", \"paper\", \"paper\", \"paperwhite\", \"paperwhite\", \"parental\", \"parental\", \"parental\", \"parental\", \"perfect\", \"perfect\", \"perfect\", \"perfect\", \"perfect\", \"perform\", \"perform\", \"perform\", \"pink\", \"pink\", \"pink\", \"pink\", \"play\", \"play\", \"play\", \"play\", \"play\", \"playing\", \"playing\", \"playing\", \"playing\", \"playing\", \"portable\", \"portable\", \"portable\", \"portable\", \"portable\", \"power\", \"power\", \"power\", \"power\", \"power\", \"prefers\", \"price\", \"price\", \"price\", \"price\", \"price\", \"prime\", \"prime\", \"prime\", \"prime\", \"prime\", \"primetime\", \"processor\", \"processor\", \"processor\", \"product\", \"product\", \"product\", \"product\", \"product\", \"products\", \"products\", \"products\", \"products\", \"products\", \"progress\", \"promised\", \"promised\", \"prompt\", \"protect\", \"protect\", \"purchase\", \"purchase\", \"purchase\", \"purchase\", \"purchase\", \"purchased\", \"purchased\", \"purchased\", \"purchased\", \"purchased\", \"purse\", \"purse\", \"purse\", \"quality\", \"quality\", \"quality\", \"quality\", \"quality\", \"ram\", \"ram\", \"ram\", \"rayovac\", \"read\", \"read\", \"read\", \"read\", \"read\", \"reader\", \"reader\", \"reader\", \"reader\", \"reading\", \"reading\", \"reading\", \"reading\", \"reading\", \"rechargeable\", \"rechargeable\", \"rechargeable\", \"recommend\", \"recommend\", \"recommend\", \"recommend\", \"recommend\", \"recommended\", \"recommended\", \"recommended\", \"recommended\", \"recommended\", \"remote\", \"remote\", \"remotes\", \"remotes\", \"remotes\", \"reorder\", \"researching\", \"resist\", \"rides\", \"road\", \"road\", \"road\", \"road\", \"rooting\", \"satisfied\", \"satisfied\", \"satisfied\", \"satisfied\", \"satisfied\", \"savvy\", \"savvy\", \"savvy\", \"savy\", \"screen\", \"screen\", \"screen\", \"screen\", \"screen\", \"sd\", \"sd\", \"sd\", \"sd\", \"sd\", \"sensitivity\", \"service\", \"service\", \"service\", \"service\", \"service\", \"set\", \"set\", \"set\", \"set\", \"set\", \"setup\", \"setup\", \"setup\", \"setup\", \"shade\", \"shield\", \"shipping\", \"shipping\", \"shipping\", \"sisters\", \"size\", \"size\", \"size\", \"size\", \"size\", \"skype\", \"sleek\", \"sleek\", \"sleek\", \"sleeve\", \"smoothly\", \"solitaire\", \"son\", \"son\", \"son\", \"son\", \"son\", \"speaker\", \"speaker\", \"speaker\", \"speaker\", \"specially\", \"stated\", \"stated\", \"storage\", \"storage\", \"storage\", \"storage\", \"storage\", \"store\", \"store\", \"store\", \"store\", \"store\", \"strain\", \"surf\", \"surf\", \"surf\", \"surfing\", \"surfing\", \"surfing\", \"surfing\", \"surfing\", \"systems\", \"tablet\", \"tablet\", \"tablet\", \"tablet\", \"tablet\", \"tablets\", \"tablets\", \"tablets\", \"tablets\", \"tablets\", \"tap\", \"tap\", \"tap\", \"teaching\", \"teen\", \"thank\", \"thank\", \"thank\", \"thank\", \"thank\", \"thanks\", \"thanks\", \"thanks\", \"thanks\", \"ticking\", \"time\", \"time\", \"time\", \"time\", \"time\", \"toys\", \"toys\", \"toys\", \"travel\", \"travel\", \"travel\", \"travel\", \"trips\", \"trips\", \"trips\", \"trips\", \"trips\", \"turn\", \"turn\", \"turn\", \"turn\", \"turn\", \"ui\", \"underground\", \"underground\", \"universal\", \"upgrade\", \"upgrade\", \"upgrade\", \"upgrade\", \"upgrades\", \"usa\", \"use\", \"use\", \"use\", \"use\", \"use\", \"value\", \"value\", \"value\", \"value\", \"value\", \"ve\", \"ve\", \"ve\", \"ve\", \"ve\", \"vibrant\", \"vivid\", \"voyage\", \"watch\", \"watch\", \"watch\", \"watch\", \"watch\", \"watches\", \"watches\", \"way\", \"way\", \"way\", \"way\", \"way\", \"web\", \"web\", \"web\", \"web\", \"web\", \"weekend\", \"weight\", \"weight\", \"weight\", \"weight\", \"weight\", \"white\", \"white\", \"white\", \"wi\", \"wi\", \"wife\", \"wife\", \"wife\", \"wife\", \"wife\", \"wished\", \"wonderfully\", \"work\", \"work\", \"work\", \"work\", \"work\", \"worked\", \"worked\", \"worked\", \"worked\", \"worked\", \"works\", \"works\", \"works\", \"works\", \"works\", \"xbox\", \"xbox\", \"xbox\", \"xbox\", \"year\", \"year\", \"year\", \"year\", \"year\", \"youtube\", \"youtube\", \"youtube\", \"youtube\", \"yr\", \"yr\", \"yr\", \"yr\"]}, \"R\": 30, \"lambda.step\": 0.01, \"plot.opts\": {\"xlab\": \"PC1\", \"ylab\": \"PC2\"}, \"topic.order\": [1, 4, 2, 3, 5]};\n",
       "\n",
       "function LDAvis_load_lib(url, callback){\n",
       "  var s = document.createElement('script');\n",
       "  s.src = url;\n",
       "  s.async = true;\n",
       "  s.onreadystatechange = s.onload = callback;\n",
       "  s.onerror = function(){console.warn(\"failed to load library \" + url);};\n",
       "  document.getElementsByTagName(\"head\")[0].appendChild(s);\n",
       "}\n",
       "\n",
       "if(typeof(LDAvis) !== \"undefined\"){\n",
       "   // already loaded: just create the visualization\n",
       "   !function(LDAvis){\n",
       "       new LDAvis(\"#\" + \"ldavis_el2241219417096539608624236074\", ldavis_el2241219417096539608624236074_data);\n",
       "   }(LDAvis);\n",
       "}else if(typeof define === \"function\" && define.amd){\n",
       "   // require.js is available: use it to load d3/LDAvis\n",
       "   require.config({paths: {d3: \"https://cdnjs.cloudflare.com/ajax/libs/d3/3.5.5/d3.min\"}});\n",
       "   require([\"d3\"], function(d3){\n",
       "      window.d3 = d3;\n",
       "      LDAvis_load_lib(\"https://cdn.rawgit.com/bmabey/pyLDAvis/files/ldavis.v1.0.0.js\", function(){\n",
       "        new LDAvis(\"#\" + \"ldavis_el2241219417096539608624236074\", ldavis_el2241219417096539608624236074_data);\n",
       "      });\n",
       "    });\n",
       "}else{\n",
       "    // require.js not available: dynamically load d3 & LDAvis\n",
       "    LDAvis_load_lib(\"https://cdnjs.cloudflare.com/ajax/libs/d3/3.5.5/d3.min.js\", function(){\n",
       "         LDAvis_load_lib(\"https://cdn.rawgit.com/bmabey/pyLDAvis/files/ldavis.v1.0.0.js\", function(){\n",
       "                 new LDAvis(\"#\" + \"ldavis_el2241219417096539608624236074\", ldavis_el2241219417096539608624236074_data);\n",
       "            })\n",
       "         });\n",
       "}\n",
       "</script>"
      ],
      "text/plain": [
       "PreparedData(topic_coordinates=              x         y  topics  cluster       Freq\n",
       "topic                                                \n",
       "0     -0.219656  0.092829       1        1  25.782227\n",
       "3      0.074649  0.069173       2        1  22.332262\n",
       "1      0.128804 -0.025650       3        1  21.395279\n",
       "2      0.137142  0.007906       4        1  17.573166\n",
       "4     -0.120938 -0.144258       5        1  12.917063, topic_info=     Category         Freq         Term        Total  loglift  logprob\n",
       "19    Default  7040.000000    batteries  7040.000000  30.0000  30.0000\n",
       "18    Default  4856.000000        price  4856.000000  29.0000  29.0000\n",
       "3151  Default  3031.000000       kindle  3031.000000  28.0000  28.0000\n",
       "28    Default  2201.000000          buy  2201.000000  27.0000  27.0000\n",
       "4191  Default  6982.000000       tablet  6982.000000  26.0000  26.0000\n",
       "2610  Default  2136.000000        loves  2136.000000  25.0000  25.0000\n",
       "95    Default  1459.000000        works  1459.000000  24.0000  24.0000\n",
       "23    Default  2407.000000         long  2407.000000  23.0000  23.0000\n",
       "766   Default  1726.000000        games  1726.000000  22.0000  22.0000\n",
       "3167  Default  1444.000000        books  1444.000000  21.0000  21.0000\n",
       "21    Default  1198.000000        brand  1198.000000  20.0000  20.0000\n",
       "169   Default  1925.000000      product  1925.000000  19.0000  19.0000\n",
       "2044  Default  1804.000000         apps  1804.000000  18.0000  18.0000\n",
       "599   Default  2150.000000          old  2150.000000  17.0000  17.0000\n",
       "10    Default  2061.000000         work  2061.000000  16.0000  16.0000\n",
       "230   Default  1444.000000         best  1444.000000  15.0000  15.0000\n",
       "463   Default  1130.000000         play  1130.000000  14.0000  14.0000\n",
       "929   Default  1207.000000         read  1207.000000  13.0000  13.0000\n",
       "1139  Default  1182.000000      reading  1182.000000  12.0000  12.0000\n",
       "440   Default  1167.000000        value  1167.000000  11.0000  11.0000\n",
       "8     Default  1298.000000      quality  1298.000000  10.0000  10.0000\n",
       "896   Default  2973.000000         easy  2973.000000   9.0000   9.0000\n",
       "1053  Default  1053.000000         gift  1053.000000   8.0000   8.0000\n",
       "73    Default   808.000000       brands   808.000000   7.0000   7.0000\n",
       "104   Default  1806.000000         year  1806.000000   6.0000   6.0000\n",
       "2239  Default  1618.000000       screen  1618.000000   5.0000   5.0000\n",
       "3     Default  2045.000000      battery  2045.000000   4.0000   4.0000\n",
       "16    Default   563.000000     duracell   563.000000   3.0000   3.0000\n",
       "55    Default   447.000000           aa   447.000000   2.0000   2.0000\n",
       "860   Default   953.000000          son   953.000000   1.0000   1.0000\n",
       "...       ...          ...          ...          ...      ...      ...\n",
       "8      Topic5   603.894470      quality  1298.058228   1.2814  -4.1479\n",
       "570    Topic5    89.032761  recommended   133.484390   1.6416  -6.0623\n",
       "112    Topic5    74.301018     shipping   109.585434   1.6580  -6.2431\n",
       "72     Topic5   232.005890         beat   455.006012   1.3731  -5.1045\n",
       "110    Topic5   104.197449      exactly   173.352844   1.5376  -5.9050\n",
       "316    Topic5   111.193657       couldn   196.901764   1.4752  -5.8400\n",
       "17     Topic5   317.563751        happy   827.729004   1.0886  -4.7906\n",
       "184    Topic5   414.386536         nice  1194.261597   0.9881  -4.5245\n",
       "185    Topic5   133.761032           ok   277.711884   1.3161  -5.6552\n",
       "229    Topic5   149.401367       worked   328.196045   1.2596  -5.5446\n",
       "10     Topic5   524.460754         work  2061.090576   0.6780  -4.2889\n",
       "200    Topic5   363.233063          far  1214.677002   0.8394  -4.6562\n",
       "14     Topic5   146.081100     products   329.371399   1.2336  -5.5671\n",
       "255    Topic5   232.625000         fast   667.166077   0.9930  -5.1018\n",
       "15     Topic5   211.060638          way   609.777100   0.9857  -5.1991\n",
       "2661   Topic5   259.766327         ipad   872.516235   0.8350  -4.9915\n",
       "38     Topic5   248.100082     purchase   950.607300   0.7034  -5.0374\n",
       "266    Topic5   220.353348        money   785.838135   0.7751  -5.1560\n",
       "13     Topic5   387.035126         like  2440.640869   0.2051  -4.5927\n",
       "467    Topic5   232.490463        store   998.375610   0.5893  -5.1024\n",
       "4191   Topic5   533.248779       tablet  6982.148438  -0.5255  -4.2723\n",
       "197    Topic5   332.813660         kids  2597.934570  -0.0083  -4.7437\n",
       "20     Topic5   248.492905       better  1375.197144   0.3357  -5.0358\n",
       "170    Topic5   225.634689    recommend  1097.289307   0.4649  -5.1323\n",
       "496    Topic5   201.692032         deal   813.445862   0.6521  -5.2445\n",
       "44     Topic5   171.159744        cheap   542.110168   0.8937  -5.4087\n",
       "105    Topic5   192.262817         need   925.409729   0.4752  -5.2924\n",
       "27     Topic5   221.863739       bought  3098.914551  -0.5901  -5.1492\n",
       "178    Topic5   188.294937         time  2061.221191  -0.3464  -5.3132\n",
       "100    Topic5   170.183914          got  1230.505859   0.0683  -5.4144\n",
       "\n",
       "[421 rows x 6 columns], token_table=      Topic      Freq        Term\n",
       "term                             \n",
       "55        1  0.990378          aa\n",
       "55        5  0.006707          aa\n",
       "56        1  0.972722         aaa\n",
       "56        5  0.026772         aaa\n",
       "1409      1  0.971149        acid\n",
       "5754      2  0.934320     adapter\n",
       "5754      3  0.047914     adapter\n",
       "5002      4  0.932411    addicted\n",
       "5902      3  0.925442      adding\n",
       "3769      2  0.937414      adjust\n",
       "3769      4  0.022864      adjust\n",
       "3769      5  0.022864      adjust\n",
       "3288      2  0.802677         ads\n",
       "3288      3  0.119548         ads\n",
       "3288      5  0.079698         ads\n",
       "6134      3  0.947059    advanced\n",
       "703       2  0.180974  advertised\n",
       "703       5  0.814384  advertised\n",
       "2410      1  0.016909         age\n",
       "2410      2  0.228269         age\n",
       "2410      3  0.710169         age\n",
       "2410      4  0.038045         age\n",
       "2410      5  0.004227         age\n",
       "1112      1  0.003565       alexa\n",
       "1112      2  0.841377       alexa\n",
       "1112      3  0.110520       alexa\n",
       "1112      4  0.035652       alexa\n",
       "1112      5  0.007130       alexa\n",
       "284       1  0.985625    alkaline\n",
       "284       5  0.010006    alkaline\n",
       "...     ...       ...         ...\n",
       "10        3  0.016981        work\n",
       "10        4  0.095095        work\n",
       "10        5  0.254234        work\n",
       "229       1  0.420480      worked\n",
       "229       2  0.018282      worked\n",
       "229       3  0.048751      worked\n",
       "229       4  0.057892      worked\n",
       "229       5  0.453997      worked\n",
       "95        1  0.004797       works\n",
       "95        2  0.072637       works\n",
       "95        3  0.215854       works\n",
       "95        4  0.021243       works\n",
       "95        5  0.685252       works\n",
       "155       1  0.887376        xbox\n",
       "155       2  0.018880        xbox\n",
       "155       4  0.088108        xbox\n",
       "155       5  0.006293        xbox\n",
       "104       1  0.040403        year\n",
       "104       2  0.163274        year\n",
       "104       3  0.569521        year\n",
       "104       4  0.220281        year\n",
       "104       5  0.006088        year\n",
       "3506      1  0.011684     youtube\n",
       "3506      2  0.081785     youtube\n",
       "3506      3  0.870430     youtube\n",
       "3506      4  0.035051     youtube\n",
       "2483      1  0.002952          yr\n",
       "2483      2  0.008856          yr\n",
       "2483      3  0.802912          yr\n",
       "2483      4  0.185969          yr\n",
       "\n",
       "[1009 rows x 3 columns], R=30, lambda_step=0.01, plot_opts={'xlab': 'PC1', 'ylab': 'PC2'}, topic_order=[1, 4, 2, 3, 5])"
      ]
     },
     "execution_count": 384,
     "metadata": {},
     "output_type": "execute_result"
    }
   ],
   "source": [
    "pyLDAvis.gensim.prepare(lda, corpus, id2word)\n"
   ]
  },
  {
   "cell_type": "code",
   "execution_count": 385,
   "metadata": {},
   "outputs": [
    {
     "data": {
      "text/plain": [
       "[(0, 0.35462657),\n",
       " (1, 0.016910767),\n",
       " (2, 0.016867243),\n",
       " (3, 0.42780474),\n",
       " (4, 0.18379071)]"
      ]
     },
     "execution_count": 385,
     "metadata": {},
     "output_type": "execute_result"
    }
   ],
   "source": [
    "lda[corpus[0]]\n"
   ]
  },
  {
   "cell_type": "code",
   "execution_count": 386,
   "metadata": {},
   "outputs": [],
   "source": [
    "distro = [lda[d] for d in corpus]\n"
   ]
  },
  {
   "cell_type": "code",
   "execution_count": 387,
   "metadata": {},
   "outputs": [
    {
     "data": {
      "text/plain": [
       "[(0, 0.3546873),\n",
       " (1, 0.016910762),\n",
       " (2, 0.016867256),\n",
       " (3, 0.42777848),\n",
       " (4, 0.18375619)]"
      ]
     },
     "execution_count": 387,
     "metadata": {},
     "output_type": "execute_result"
    }
   ],
   "source": [
    "distro[0]"
   ]
  },
  {
   "cell_type": "code",
   "execution_count": 389,
   "metadata": {},
   "outputs": [],
   "source": [
    "def update(doc):\n",
    "        d_dist = {k:0 for k in range(0,5)}\n",
    "        for t in doc:\n",
    "            d_dist[t[0]] = t[1]\n",
    "        return d_dist\n",
    "    \n",
    "new_distro = [update(d) for d in distro]"
   ]
  },
  {
   "cell_type": "code",
   "execution_count": 390,
   "metadata": {},
   "outputs": [],
   "source": [
    "d_dist = {k:0 for k in range(0,9)}"
   ]
  },
  {
   "cell_type": "code",
   "execution_count": 391,
   "metadata": {},
   "outputs": [
    {
     "data": {
      "text/plain": [
       "{0: 0, 1: 0, 2: 0, 3: 0, 4: 0, 5: 0, 6: 0, 7: 0, 8: 0}"
      ]
     },
     "execution_count": 391,
     "metadata": {},
     "output_type": "execute_result"
    }
   ],
   "source": [
    "d_dist"
   ]
  },
  {
   "cell_type": "code",
   "execution_count": 392,
   "metadata": {},
   "outputs": [
    {
     "data": {
      "text/html": [
       "<div>\n",
       "<style scoped>\n",
       "    .dataframe tbody tr th:only-of-type {\n",
       "        vertical-align: middle;\n",
       "    }\n",
       "\n",
       "    .dataframe tbody tr th {\n",
       "        vertical-align: top;\n",
       "    }\n",
       "\n",
       "    .dataframe thead th {\n",
       "        text-align: right;\n",
       "    }\n",
       "</style>\n",
       "<table border=\"1\" class=\"dataframe\">\n",
       "  <thead>\n",
       "    <tr style=\"text-align: right;\">\n",
       "      <th></th>\n",
       "      <th>id</th>\n",
       "      <th>dateAdded</th>\n",
       "      <th>dateUpdated</th>\n",
       "      <th>name</th>\n",
       "      <th>asins</th>\n",
       "      <th>brand</th>\n",
       "      <th>categories</th>\n",
       "      <th>primaryCategories</th>\n",
       "      <th>imageURLs</th>\n",
       "      <th>keys</th>\n",
       "      <th>...</th>\n",
       "      <th>reviews.didPurchase</th>\n",
       "      <th>reviews.doRecommend</th>\n",
       "      <th>reviews.id</th>\n",
       "      <th>reviews.numHelpful</th>\n",
       "      <th>reviews.rating</th>\n",
       "      <th>reviews.sourceURLs</th>\n",
       "      <th>reviews.text</th>\n",
       "      <th>reviews.title</th>\n",
       "      <th>reviews.username</th>\n",
       "      <th>sourceURLs</th>\n",
       "    </tr>\n",
       "  </thead>\n",
       "  <tbody>\n",
       "    <tr>\n",
       "      <th>0</th>\n",
       "      <td>AVpgNzjwLJeJML43Kpxn</td>\n",
       "      <td>2015-10-30T08:59:32Z</td>\n",
       "      <td>2019-04-25T09:08:16Z</td>\n",
       "      <td>AmazonBasics AAA Performance Alkaline Batterie...</td>\n",
       "      <td>B00QWO9P0O,B00LH3DMUO</td>\n",
       "      <td>Amazonbasics</td>\n",
       "      <td>AA,AAA,Health,Electronics,Health &amp; Household,C...</td>\n",
       "      <td>Health &amp; Beauty</td>\n",
       "      <td>https://images-na.ssl-images-amazon.com/images...</td>\n",
       "      <td>amazonbasics/hl002619,amazonbasicsaaaperforman...</td>\n",
       "      <td>...</td>\n",
       "      <td>NaN</td>\n",
       "      <td>NaN</td>\n",
       "      <td>NaN</td>\n",
       "      <td>NaN</td>\n",
       "      <td>3</td>\n",
       "      <td>https://www.amazon.com/product-reviews/B00QWO9...</td>\n",
       "      <td>I order 3 of them and one of the item is bad q...</td>\n",
       "      <td>... 3 of them and one of the item is bad quali...</td>\n",
       "      <td>Byger yang</td>\n",
       "      <td>https://www.barcodable.com/upc/841710106442,ht...</td>\n",
       "    </tr>\n",
       "    <tr>\n",
       "      <th>1</th>\n",
       "      <td>AVpgNzjwLJeJML43Kpxn</td>\n",
       "      <td>2015-10-30T08:59:32Z</td>\n",
       "      <td>2019-04-25T09:08:16Z</td>\n",
       "      <td>AmazonBasics AAA Performance Alkaline Batterie...</td>\n",
       "      <td>B00QWO9P0O,B00LH3DMUO</td>\n",
       "      <td>Amazonbasics</td>\n",
       "      <td>AA,AAA,Health,Electronics,Health &amp; Household,C...</td>\n",
       "      <td>Health &amp; Beauty</td>\n",
       "      <td>https://images-na.ssl-images-amazon.com/images...</td>\n",
       "      <td>amazonbasics/hl002619,amazonbasicsaaaperforman...</td>\n",
       "      <td>...</td>\n",
       "      <td>NaN</td>\n",
       "      <td>NaN</td>\n",
       "      <td>NaN</td>\n",
       "      <td>NaN</td>\n",
       "      <td>4</td>\n",
       "      <td>https://www.amazon.com/product-reviews/B00QWO9...</td>\n",
       "      <td>Bulk is always the less expensive way to go fo...</td>\n",
       "      <td>... always the less expensive way to go for pr...</td>\n",
       "      <td>ByMG</td>\n",
       "      <td>https://www.barcodable.com/upc/841710106442,ht...</td>\n",
       "    </tr>\n",
       "    <tr>\n",
       "      <th>2</th>\n",
       "      <td>AVpgNzjwLJeJML43Kpxn</td>\n",
       "      <td>2015-10-30T08:59:32Z</td>\n",
       "      <td>2019-04-25T09:08:16Z</td>\n",
       "      <td>AmazonBasics AAA Performance Alkaline Batterie...</td>\n",
       "      <td>B00QWO9P0O,B00LH3DMUO</td>\n",
       "      <td>Amazonbasics</td>\n",
       "      <td>AA,AAA,Health,Electronics,Health &amp; Household,C...</td>\n",
       "      <td>Health &amp; Beauty</td>\n",
       "      <td>https://images-na.ssl-images-amazon.com/images...</td>\n",
       "      <td>amazonbasics/hl002619,amazonbasicsaaaperforman...</td>\n",
       "      <td>...</td>\n",
       "      <td>NaN</td>\n",
       "      <td>NaN</td>\n",
       "      <td>NaN</td>\n",
       "      <td>NaN</td>\n",
       "      <td>5</td>\n",
       "      <td>https://www.amazon.com/product-reviews/B00QWO9...</td>\n",
       "      <td>Well they are not Duracell but for the price i...</td>\n",
       "      <td>... are not Duracell but for the price i am ha...</td>\n",
       "      <td>BySharon Lambert</td>\n",
       "      <td>https://www.barcodable.com/upc/841710106442,ht...</td>\n",
       "    </tr>\n",
       "    <tr>\n",
       "      <th>3</th>\n",
       "      <td>AVpgNzjwLJeJML43Kpxn</td>\n",
       "      <td>2015-10-30T08:59:32Z</td>\n",
       "      <td>2019-04-25T09:08:16Z</td>\n",
       "      <td>AmazonBasics AAA Performance Alkaline Batterie...</td>\n",
       "      <td>B00QWO9P0O,B00LH3DMUO</td>\n",
       "      <td>Amazonbasics</td>\n",
       "      <td>AA,AAA,Health,Electronics,Health &amp; Household,C...</td>\n",
       "      <td>Health &amp; Beauty</td>\n",
       "      <td>https://images-na.ssl-images-amazon.com/images...</td>\n",
       "      <td>amazonbasics/hl002619,amazonbasicsaaaperforman...</td>\n",
       "      <td>...</td>\n",
       "      <td>NaN</td>\n",
       "      <td>NaN</td>\n",
       "      <td>NaN</td>\n",
       "      <td>NaN</td>\n",
       "      <td>5</td>\n",
       "      <td>https://www.amazon.com/product-reviews/B00QWO9...</td>\n",
       "      <td>Seem to work as well as name brand batteries a...</td>\n",
       "      <td>... as well as name brand batteries at a much ...</td>\n",
       "      <td>Bymark sexson</td>\n",
       "      <td>https://www.barcodable.com/upc/841710106442,ht...</td>\n",
       "    </tr>\n",
       "    <tr>\n",
       "      <th>4</th>\n",
       "      <td>AVpgNzjwLJeJML43Kpxn</td>\n",
       "      <td>2015-10-30T08:59:32Z</td>\n",
       "      <td>2019-04-25T09:08:16Z</td>\n",
       "      <td>AmazonBasics AAA Performance Alkaline Batterie...</td>\n",
       "      <td>B00QWO9P0O,B00LH3DMUO</td>\n",
       "      <td>Amazonbasics</td>\n",
       "      <td>AA,AAA,Health,Electronics,Health &amp; Household,C...</td>\n",
       "      <td>Health &amp; Beauty</td>\n",
       "      <td>https://images-na.ssl-images-amazon.com/images...</td>\n",
       "      <td>amazonbasics/hl002619,amazonbasicsaaaperforman...</td>\n",
       "      <td>...</td>\n",
       "      <td>NaN</td>\n",
       "      <td>NaN</td>\n",
       "      <td>NaN</td>\n",
       "      <td>NaN</td>\n",
       "      <td>5</td>\n",
       "      <td>https://www.amazon.com/product-reviews/B00QWO9...</td>\n",
       "      <td>These batteries are very long lasting the pric...</td>\n",
       "      <td>... batteries are very long lasting the price ...</td>\n",
       "      <td>Bylinda</td>\n",
       "      <td>https://www.barcodable.com/upc/841710106442,ht...</td>\n",
       "    </tr>\n",
       "  </tbody>\n",
       "</table>\n",
       "<p>5 rows × 24 columns</p>\n",
       "</div>"
      ],
      "text/plain": [
       "                     id             dateAdded           dateUpdated  \\\n",
       "0  AVpgNzjwLJeJML43Kpxn  2015-10-30T08:59:32Z  2019-04-25T09:08:16Z   \n",
       "1  AVpgNzjwLJeJML43Kpxn  2015-10-30T08:59:32Z  2019-04-25T09:08:16Z   \n",
       "2  AVpgNzjwLJeJML43Kpxn  2015-10-30T08:59:32Z  2019-04-25T09:08:16Z   \n",
       "3  AVpgNzjwLJeJML43Kpxn  2015-10-30T08:59:32Z  2019-04-25T09:08:16Z   \n",
       "4  AVpgNzjwLJeJML43Kpxn  2015-10-30T08:59:32Z  2019-04-25T09:08:16Z   \n",
       "\n",
       "                                                name                  asins  \\\n",
       "0  AmazonBasics AAA Performance Alkaline Batterie...  B00QWO9P0O,B00LH3DMUO   \n",
       "1  AmazonBasics AAA Performance Alkaline Batterie...  B00QWO9P0O,B00LH3DMUO   \n",
       "2  AmazonBasics AAA Performance Alkaline Batterie...  B00QWO9P0O,B00LH3DMUO   \n",
       "3  AmazonBasics AAA Performance Alkaline Batterie...  B00QWO9P0O,B00LH3DMUO   \n",
       "4  AmazonBasics AAA Performance Alkaline Batterie...  B00QWO9P0O,B00LH3DMUO   \n",
       "\n",
       "          brand                                         categories  \\\n",
       "0  Amazonbasics  AA,AAA,Health,Electronics,Health & Household,C...   \n",
       "1  Amazonbasics  AA,AAA,Health,Electronics,Health & Household,C...   \n",
       "2  Amazonbasics  AA,AAA,Health,Electronics,Health & Household,C...   \n",
       "3  Amazonbasics  AA,AAA,Health,Electronics,Health & Household,C...   \n",
       "4  Amazonbasics  AA,AAA,Health,Electronics,Health & Household,C...   \n",
       "\n",
       "  primaryCategories                                          imageURLs  \\\n",
       "0   Health & Beauty  https://images-na.ssl-images-amazon.com/images...   \n",
       "1   Health & Beauty  https://images-na.ssl-images-amazon.com/images...   \n",
       "2   Health & Beauty  https://images-na.ssl-images-amazon.com/images...   \n",
       "3   Health & Beauty  https://images-na.ssl-images-amazon.com/images...   \n",
       "4   Health & Beauty  https://images-na.ssl-images-amazon.com/images...   \n",
       "\n",
       "                                                keys  ... reviews.didPurchase  \\\n",
       "0  amazonbasics/hl002619,amazonbasicsaaaperforman...  ...                 NaN   \n",
       "1  amazonbasics/hl002619,amazonbasicsaaaperforman...  ...                 NaN   \n",
       "2  amazonbasics/hl002619,amazonbasicsaaaperforman...  ...                 NaN   \n",
       "3  amazonbasics/hl002619,amazonbasicsaaaperforman...  ...                 NaN   \n",
       "4  amazonbasics/hl002619,amazonbasicsaaaperforman...  ...                 NaN   \n",
       "\n",
       "  reviews.doRecommend reviews.id reviews.numHelpful reviews.rating  \\\n",
       "0                 NaN        NaN                NaN              3   \n",
       "1                 NaN        NaN                NaN              4   \n",
       "2                 NaN        NaN                NaN              5   \n",
       "3                 NaN        NaN                NaN              5   \n",
       "4                 NaN        NaN                NaN              5   \n",
       "\n",
       "                                  reviews.sourceURLs  \\\n",
       "0  https://www.amazon.com/product-reviews/B00QWO9...   \n",
       "1  https://www.amazon.com/product-reviews/B00QWO9...   \n",
       "2  https://www.amazon.com/product-reviews/B00QWO9...   \n",
       "3  https://www.amazon.com/product-reviews/B00QWO9...   \n",
       "4  https://www.amazon.com/product-reviews/B00QWO9...   \n",
       "\n",
       "                                        reviews.text  \\\n",
       "0  I order 3 of them and one of the item is bad q...   \n",
       "1  Bulk is always the less expensive way to go fo...   \n",
       "2  Well they are not Duracell but for the price i...   \n",
       "3  Seem to work as well as name brand batteries a...   \n",
       "4  These batteries are very long lasting the pric...   \n",
       "\n",
       "                                       reviews.title  reviews.username  \\\n",
       "0  ... 3 of them and one of the item is bad quali...        Byger yang   \n",
       "1  ... always the less expensive way to go for pr...              ByMG   \n",
       "2  ... are not Duracell but for the price i am ha...  BySharon Lambert   \n",
       "3  ... as well as name brand batteries at a much ...     Bymark sexson   \n",
       "4  ... batteries are very long lasting the price ...           Bylinda   \n",
       "\n",
       "                                          sourceURLs  \n",
       "0  https://www.barcodable.com/upc/841710106442,ht...  \n",
       "1  https://www.barcodable.com/upc/841710106442,ht...  \n",
       "2  https://www.barcodable.com/upc/841710106442,ht...  \n",
       "3  https://www.barcodable.com/upc/841710106442,ht...  \n",
       "4  https://www.barcodable.com/upc/841710106442,ht...  \n",
       "\n",
       "[5 rows x 24 columns]"
      ]
     },
     "execution_count": 392,
     "metadata": {},
     "output_type": "execute_result"
    }
   ],
   "source": [
    "df.head()"
   ]
  },
  {
   "cell_type": "code",
   "execution_count": 393,
   "metadata": {},
   "outputs": [],
   "source": [
    "df2 = pd.DataFrame.from_records(new_distro)\n",
    "df2.columns = topics\n",
    "df2['primaryCategories'] = df.reset_index()['primaryCategories'].apply(lambda x: x.split('_')[0]).tolist()"
   ]
  },
  {
   "cell_type": "code",
   "execution_count": 394,
   "metadata": {},
   "outputs": [
    {
     "data": {
      "text/html": [
       "<div>\n",
       "<style scoped>\n",
       "    .dataframe tbody tr th:only-of-type {\n",
       "        vertical-align: middle;\n",
       "    }\n",
       "\n",
       "    .dataframe tbody tr th {\n",
       "        vertical-align: top;\n",
       "    }\n",
       "\n",
       "    .dataframe thead th {\n",
       "        text-align: right;\n",
       "    }\n",
       "</style>\n",
       "<table border=\"1\" class=\"dataframe\">\n",
       "  <thead>\n",
       "    <tr style=\"text-align: right;\">\n",
       "      <th></th>\n",
       "      <th>batteries long price work battery</th>\n",
       "      <th>tablet loves old bought use</th>\n",
       "      <th>tablet games books use apps</th>\n",
       "      <th>kindle use tablet easy like</th>\n",
       "      <th>price buy works product best</th>\n",
       "      <th>primaryCategories</th>\n",
       "    </tr>\n",
       "  </thead>\n",
       "  <tbody>\n",
       "    <tr>\n",
       "      <th>0</th>\n",
       "      <td>0.354687</td>\n",
       "      <td>0.016911</td>\n",
       "      <td>0.016867</td>\n",
       "      <td>0.427778</td>\n",
       "      <td>0.183756</td>\n",
       "      <td>Health &amp; Beauty</td>\n",
       "    </tr>\n",
       "    <tr>\n",
       "      <th>1</th>\n",
       "      <td>0.035308</td>\n",
       "      <td>0.033525</td>\n",
       "      <td>0.033489</td>\n",
       "      <td>0.033712</td>\n",
       "      <td>0.863966</td>\n",
       "      <td>Health &amp; Beauty</td>\n",
       "    </tr>\n",
       "    <tr>\n",
       "      <th>2</th>\n",
       "      <td>0.400403</td>\n",
       "      <td>0.050109</td>\n",
       "      <td>0.050371</td>\n",
       "      <td>0.050358</td>\n",
       "      <td>0.448758</td>\n",
       "      <td>Health &amp; Beauty</td>\n",
       "    </tr>\n",
       "    <tr>\n",
       "      <th>3</th>\n",
       "      <td>0.865078</td>\n",
       "      <td>0.033551</td>\n",
       "      <td>0.033518</td>\n",
       "      <td>0.033537</td>\n",
       "      <td>0.034315</td>\n",
       "      <td>Health &amp; Beauty</td>\n",
       "    </tr>\n",
       "    <tr>\n",
       "      <th>4</th>\n",
       "      <td>0.838946</td>\n",
       "      <td>0.040079</td>\n",
       "      <td>0.040124</td>\n",
       "      <td>0.040042</td>\n",
       "      <td>0.040809</td>\n",
       "      <td>Health &amp; Beauty</td>\n",
       "    </tr>\n",
       "  </tbody>\n",
       "</table>\n",
       "</div>"
      ],
      "text/plain": [
       "   batteries long price work battery  tablet loves old bought use  \\\n",
       "0                           0.354687                     0.016911   \n",
       "1                           0.035308                     0.033525   \n",
       "2                           0.400403                     0.050109   \n",
       "3                           0.865078                     0.033551   \n",
       "4                           0.838946                     0.040079   \n",
       "\n",
       "   tablet games books use apps  kindle use tablet easy like  \\\n",
       "0                     0.016867                     0.427778   \n",
       "1                     0.033489                     0.033712   \n",
       "2                     0.050371                     0.050358   \n",
       "3                     0.033518                     0.033537   \n",
       "4                     0.040124                     0.040042   \n",
       "\n",
       "   price buy works product best primaryCategories  \n",
       "0                      0.183756   Health & Beauty  \n",
       "1                      0.863966   Health & Beauty  \n",
       "2                      0.448758   Health & Beauty  \n",
       "3                      0.034315   Health & Beauty  \n",
       "4                      0.040809   Health & Beauty  "
      ]
     },
     "execution_count": 394,
     "metadata": {},
     "output_type": "execute_result"
    }
   ],
   "source": [
    "df2.head()"
   ]
  },
  {
   "cell_type": "code",
   "execution_count": 395,
   "metadata": {},
   "outputs": [
    {
     "data": {
      "text/html": [
       "<div>\n",
       "<style scoped>\n",
       "    .dataframe tbody tr th:only-of-type {\n",
       "        vertical-align: middle;\n",
       "    }\n",
       "\n",
       "    .dataframe tbody tr th {\n",
       "        vertical-align: top;\n",
       "    }\n",
       "\n",
       "    .dataframe thead th {\n",
       "        text-align: right;\n",
       "    }\n",
       "</style>\n",
       "<table border=\"1\" class=\"dataframe\">\n",
       "  <thead>\n",
       "    <tr style=\"text-align: right;\">\n",
       "      <th></th>\n",
       "      <th>batteries long price work battery</th>\n",
       "      <th>tablet loves old bought use</th>\n",
       "      <th>tablet games books use apps</th>\n",
       "      <th>kindle use tablet easy like</th>\n",
       "      <th>price buy works product best</th>\n",
       "    </tr>\n",
       "    <tr>\n",
       "      <th>primaryCategories</th>\n",
       "      <th></th>\n",
       "      <th></th>\n",
       "      <th></th>\n",
       "      <th></th>\n",
       "      <th></th>\n",
       "    </tr>\n",
       "  </thead>\n",
       "  <tbody>\n",
       "    <tr>\n",
       "      <th>Animals &amp; Pet Supplies</th>\n",
       "      <td>0.217581</td>\n",
       "      <td>0.185728</td>\n",
       "      <td>0.119800</td>\n",
       "      <td>0.171732</td>\n",
       "      <td>0.305159</td>\n",
       "    </tr>\n",
       "    <tr>\n",
       "      <th>Electronics</th>\n",
       "      <td>0.055284</td>\n",
       "      <td>0.303201</td>\n",
       "      <td>0.252652</td>\n",
       "      <td>0.244083</td>\n",
       "      <td>0.142111</td>\n",
       "    </tr>\n",
       "    <tr>\n",
       "      <th>Electronics,Furniture</th>\n",
       "      <td>0.050373</td>\n",
       "      <td>0.149903</td>\n",
       "      <td>0.139170</td>\n",
       "      <td>0.646894</td>\n",
       "      <td>0.013660</td>\n",
       "    </tr>\n",
       "    <tr>\n",
       "      <th>Electronics,Media</th>\n",
       "      <td>0.034164</td>\n",
       "      <td>0.048063</td>\n",
       "      <td>0.109450</td>\n",
       "      <td>0.714864</td>\n",
       "      <td>0.085105</td>\n",
       "    </tr>\n",
       "    <tr>\n",
       "      <th>Health &amp; Beauty</th>\n",
       "      <td>0.556428</td>\n",
       "      <td>0.061758</td>\n",
       "      <td>0.065733</td>\n",
       "      <td>0.070146</td>\n",
       "      <td>0.244000</td>\n",
       "    </tr>\n",
       "    <tr>\n",
       "      <th>Home &amp; Garden</th>\n",
       "      <td>0.404156</td>\n",
       "      <td>0.158196</td>\n",
       "      <td>0.033689</td>\n",
       "      <td>0.370491</td>\n",
       "      <td>0.033469</td>\n",
       "    </tr>\n",
       "    <tr>\n",
       "      <th>Office Supplies</th>\n",
       "      <td>0.044088</td>\n",
       "      <td>0.175114</td>\n",
       "      <td>0.075568</td>\n",
       "      <td>0.084046</td>\n",
       "      <td>0.621183</td>\n",
       "    </tr>\n",
       "    <tr>\n",
       "      <th>Office Supplies,Electronics</th>\n",
       "      <td>0.052696</td>\n",
       "      <td>0.124812</td>\n",
       "      <td>0.235663</td>\n",
       "      <td>0.454022</td>\n",
       "      <td>0.129681</td>\n",
       "    </tr>\n",
       "    <tr>\n",
       "      <th>Toys &amp; Games,Electronics</th>\n",
       "      <td>0.044939</td>\n",
       "      <td>0.411968</td>\n",
       "      <td>0.280596</td>\n",
       "      <td>0.165624</td>\n",
       "      <td>0.094281</td>\n",
       "    </tr>\n",
       "  </tbody>\n",
       "</table>\n",
       "</div>"
      ],
      "text/plain": [
       "                             batteries long price work battery  \\\n",
       "primaryCategories                                                \n",
       "Animals & Pet Supplies                                0.217581   \n",
       "Electronics                                           0.055284   \n",
       "Electronics,Furniture                                 0.050373   \n",
       "Electronics,Media                                     0.034164   \n",
       "Health & Beauty                                       0.556428   \n",
       "Home & Garden                                         0.404156   \n",
       "Office Supplies                                       0.044088   \n",
       "Office Supplies,Electronics                           0.052696   \n",
       "Toys & Games,Electronics                              0.044939   \n",
       "\n",
       "                             tablet loves old bought use  \\\n",
       "primaryCategories                                          \n",
       "Animals & Pet Supplies                          0.185728   \n",
       "Electronics                                     0.303201   \n",
       "Electronics,Furniture                           0.149903   \n",
       "Electronics,Media                               0.048063   \n",
       "Health & Beauty                                 0.061758   \n",
       "Home & Garden                                   0.158196   \n",
       "Office Supplies                                 0.175114   \n",
       "Office Supplies,Electronics                     0.124812   \n",
       "Toys & Games,Electronics                        0.411968   \n",
       "\n",
       "                             tablet games books use apps  \\\n",
       "primaryCategories                                          \n",
       "Animals & Pet Supplies                          0.119800   \n",
       "Electronics                                     0.252652   \n",
       "Electronics,Furniture                           0.139170   \n",
       "Electronics,Media                               0.109450   \n",
       "Health & Beauty                                 0.065733   \n",
       "Home & Garden                                   0.033689   \n",
       "Office Supplies                                 0.075568   \n",
       "Office Supplies,Electronics                     0.235663   \n",
       "Toys & Games,Electronics                        0.280596   \n",
       "\n",
       "                             kindle use tablet easy like  \\\n",
       "primaryCategories                                          \n",
       "Animals & Pet Supplies                          0.171732   \n",
       "Electronics                                     0.244083   \n",
       "Electronics,Furniture                           0.646894   \n",
       "Electronics,Media                               0.714864   \n",
       "Health & Beauty                                 0.070146   \n",
       "Home & Garden                                   0.370491   \n",
       "Office Supplies                                 0.084046   \n",
       "Office Supplies,Electronics                     0.454022   \n",
       "Toys & Games,Electronics                        0.165624   \n",
       "\n",
       "                             price buy works product best  \n",
       "primaryCategories                                          \n",
       "Animals & Pet Supplies                           0.305159  \n",
       "Electronics                                      0.142111  \n",
       "Electronics,Furniture                            0.013660  \n",
       "Electronics,Media                                0.085105  \n",
       "Health & Beauty                                  0.244000  \n",
       "Home & Garden                                    0.033469  \n",
       "Office Supplies                                  0.621183  \n",
       "Office Supplies,Electronics                      0.129681  \n",
       "Toys & Games,Electronics                         0.094281  "
      ]
     },
     "execution_count": 395,
     "metadata": {},
     "output_type": "execute_result"
    }
   ],
   "source": [
    "df2.groupby('primaryCategories').mean()\n"
   ]
  },
  {
   "cell_type": "code",
   "execution_count": 396,
   "metadata": {},
   "outputs": [],
   "source": [
    "from gensim.models.coherencemodel import CoherenceModel\n",
    "\n",
    "def compute_coherence_values(dictionary, corpus, path, limit, start=2, step=3):\n",
    "    \"\"\"\n",
    "    Compute c_v coherence for various number of topics\n",
    "\n",
    "    Parameters:\n",
    "    ----------\n",
    "    dictionary : Gensim dictionary\n",
    "    corpus : Gensim corpus\n",
    "    path : path to input texts\n",
    "    limit : Max num of topics\n",
    "\n",
    "    Returns:\n",
    "    -------\n",
    "    model_list : List of LDA topic models\n",
    "    coherence_values : Coherence values corresponding to the LDA model with respective number of topics\n",
    "    \"\"\"\n",
    "    coherence_values = []\n",
    "    model_list = []\n",
    "    for num_topics in range(start, limit, step):\n",
    "        stream = doc_stream(path)\n",
    "        model = LdaMulticore(corpus=corpus, num_topics=num_topics, id2word=id2word, workers=6)\n",
    "        model_list.append(model)\n",
    "        coherencemodel = CoherenceModel(model=model, texts=stream, dictionary=dictionary, coherence='c_v')\n",
    "        coherence_values.append(coherencemodel.get_coherence())\n",
    "\n",
    "    return model_list, coherence_values"
   ]
  },
  {
   "cell_type": "code",
   "execution_count": 397,
   "metadata": {},
   "outputs": [],
   "source": [
    "\n",
    "model_list, coherence_values = compute_coherence_values(dictionary=id2word, \n",
    "                                                        corpus=corpus, \n",
    "                                                        path=df['reviews.text'], \n",
    "                                                        start=2, \n",
    "                                                        limit=40, \n",
    "                                                        step=6)"
   ]
  },
  {
   "cell_type": "code",
   "execution_count": 376,
   "metadata": {},
   "outputs": [
    {
     "data": {
      "image/png": "[encoded data removed]",
      "text/plain": [
       "<Figure size 432x288 with 1 Axes>"
      ]
     },
     "metadata": {
      "needs_background": "light"
     },
     "output_type": "display_data"
    }
   ],
   "source": [
    "# Show graph\n",
    "%matplotlib inline\n",
    "import matplotlib.pyplot as plt\n",
    "\n",
    "limit=40; start=2; step=6;\n",
    "x = range(start, limit, step)\n",
    "plt.plot(x, coherence_values)\n",
    "plt.xlabel(\"Num Topics\")\n",
    "plt.ylabel(\"Coherence score\")\n",
    "plt.legend((\"coherence_values\"), loc='best')\n",
    "plt.savefig('Coherenece Amazon4.png')\n",
    "plt.show()\n"
   ]
  },
  {
   "cell_type": "code",
   "execution_count": null,
   "metadata": {},
   "outputs": [],
   "source": []
  },
  {
   "cell_type": "markdown",
   "metadata": {},
   "source": [
    "## Stretch Goals\n",
    "\n",
    "* Incorporate Named Entity Recognition in your analysis\n",
    "* Incorporate some custom pre-processing from our previous lessons (like spacy lemmatization)\n",
    "* Analyze a dataset of interest to you with topic modeling"
   ]
  },
  {
   "cell_type": "code",
   "execution_count": null,
   "metadata": {},
   "outputs": [],
   "source": []
  }
 ],
 "metadata": {
  "kernelspec": {
   "display_name": "Python [conda env:lambda-nlp]",
   "language": "python",
   "name": "conda-env-lambda-nlp-py"
  },
  "language_info": {
   "codemirror_mode": {
    "name": "ipython",
    "version": 3
   },
   "file_extension": ".py",
   "mimetype": "text/x-python",
   "name": "python",
   "nbconvert_exporter": "python",
   "pygments_lexer": "ipython3",
   "version": "3.7.3"
  }
 },
 "nbformat": 4,
 "nbformat_minor": 2
}
