{
 "cells": [
  {
   "cell_type": "markdown",
   "metadata": {},
   "source": [
    "<img align=\"left\" src=\"https://lever-client-logos.s3.amazonaws.com/864372b1-534c-480e-acd5-9711f850815c-1524247202159.png\" width=200>\n",
    "<br></br>\n",
    "<br></br>\n",
    "\n",
    "# Topic Modeling\n",
    "## *Data Science Unit 4 Sprint 1 Assignment 4*\n",
    "\n",
    "Analyze a corpus of Amazon reviews from Unit 4 Sprint 1 Module 1's lecture using topic modeling: \n",
    "\n",
    "- Fit a Gensim LDA topic model on Amazon Reviews\n",
    "- Select appropriate number of topics\n",
    "- Create some dope visualization of the topics\n",
    "- Write a few bullets on your findings in markdown at the end\n",
    "- **Note**: You don't *have* to use generators for this assignment"
   ]
  },
  {
   "cell_type": "markdown",
   "metadata": {},
   "source": [
    "#### 1) Fit a gensim LDA topic model on Amazon Reviews "
   ]
  },
  {
   "cell_type": "code",
   "execution_count": 10,
   "metadata": {},
   "outputs": [],
   "source": [
    "import pandas as pd\n",
    "import numpy as np\n",
    "import gensim\n",
    "import os\n",
    "import re\n",
    "\n",
    "from gensim.utils import simple_preprocess\n",
    "from gensim.parsing.preprocessing import STOPWORDS\n",
    "from gensim import corpora\n",
    "\n",
    "from gensim.models.ldamulticore import LdaMulticore\n",
    "\n",
    "import matplotlib.pyplot as plt\n",
    "\n",
    "df = pd.read_csv('../module1-text-data/data/Datafiniti_Amazon_Consumer_Reviews_of_Amazon_Products_May19.csv')"
   ]
  },
  {
   "cell_type": "code",
   "execution_count": 22,
   "metadata": {},
   "outputs": [
    {
     "data": {
      "text/plain": [
       "['order',\n",
       " 'item',\n",
       " 'bad',\n",
       " 'quality',\n",
       " 'missing',\n",
       " 'backup',\n",
       " 'spring',\n",
       " 'pcs',\n",
       " 'aluminum',\n",
       " 'battery',\n",
       " 'work']"
      ]
     },
     "execution_count": 22,
     "metadata": {},
     "output_type": "execute_result"
    }
   ],
   "source": [
    "## Get reviews from df\n",
    "STOPWORDS = set(STOPWORDS).union(set(['amazon', 'use', 'batteries']))\n",
    "\n",
    "def tokenize(text):\n",
    "    return [token for token in simple_preprocess(text) if token not in STOPWORDS]\n",
    "\n",
    "tokenize(df['reviews.text'][0])"
   ]
  },
  {
   "cell_type": "code",
   "execution_count": 63,
   "metadata": {},
   "outputs": [],
   "source": [
    "# create a doc stream of the reviews -- yielding tokens\n",
    "    \n",
    "def gather_data(reviews):\n",
    "    \n",
    "    data = []\n",
    "    \n",
    "    for r in reviews: \n",
    "        \n",
    "        tokens = tokenize(str(reviews))\n",
    "        data.append(tokens)\n",
    "    \n",
    "    return data"
   ]
  },
  {
   "cell_type": "code",
   "execution_count": 64,
   "metadata": {},
   "outputs": [],
   "source": [
    "## get a dictionary going\n",
    "\n",
    "id2word = corpora.Dictionary(gather_data(df['reviews.text']))"
   ]
  },
  {
   "cell_type": "code",
   "execution_count": 48,
   "metadata": {},
   "outputs": [],
   "source": [
    "# Let's remove extreme extremies\n",
    "\n",
    "id2word.filter_extremes(no_below=5, no_above=0.85)"
   ]
  },
  {
   "cell_type": "code",
   "execution_count": 67,
   "metadata": {},
   "outputs": [],
   "source": [
    "# a bag of words(bow) representation of our corpus\n",
    "# Note: we haven't actually read any text into memory here - using generator\n",
    "\n",
    "corpus = [id2word.doc2bow(review) for review in gather_data(df['reviews.text'])]\n",
    "\n",
    "#corpus = [id2word.doc2bow(text) for text in doc_stream(path)]"
   ]
  },
  {
   "cell_type": "code",
   "execution_count": 70,
   "metadata": {},
   "outputs": [],
   "source": [
    "lda = LdaMulticore(corpus=corpus,\n",
    "                  id2word=id2word,\n",
    "                  random_state=42,\n",
    "                  num_topics=15,\n",
    "                  workers=4\n",
    "                  )"
   ]
  },
  {
   "cell_type": "code",
   "execution_count": 71,
   "metadata": {},
   "outputs": [],
   "source": [
    "words = [re.findall(r'\"([^\"]*)\"',t[1]) for t in lda.print_topics()]"
   ]
  },
  {
   "cell_type": "code",
   "execution_count": 75,
   "metadata": {},
   "outputs": [],
   "source": [
    "topics = [' '.join(t[1:5]) for t in words]"
   ]
  },
  {
   "cell_type": "code",
   "execution_count": 90,
   "metadata": {},
   "outputs": [
    {
     "name": "stdout",
     "output_type": "stream",
     "text": [
      "batteries amazon use tablet\n"
     ]
    }
   ],
   "source": [
    "print(topics[2])"
   ]
  },
  {
   "cell_type": "markdown",
   "metadata": {},
   "source": [
    "#### select appropriate number of topics"
   ]
  },
  {
   "cell_type": "code",
   "execution_count": 82,
   "metadata": {},
   "outputs": [],
   "source": [
    "from gensim.models.coherencemodel import CoherenceModel\n",
    "\n",
    "def compute_coherence_values(dictionary, corpus, path, limit, start=2, step=3):\n",
    "    \"\"\"\n",
    "    Compute c_v coherence for various number of topics\n",
    "\n",
    "    Parameters:\n",
    "    ----------\n",
    "    dictionary : Gensim dictionary\n",
    "    corpus : Gensim corpus\n",
    "    path : path to input texts\n",
    "    limit : Max num of topics\n",
    "\n",
    "    Returns:\n",
    "    -------\n",
    "    model_list : List of LDA topic models\n",
    "    coherence_values : Coherence values corresponding to the LDA model with respective number of topics\n",
    "    \"\"\"\n",
    "    coherence_values = []\n",
    "    model_list = []\n",
    "    for num_topics in range(start, limit, step):\n",
    "        stream = gather_data(path)\n",
    "        model = LdaMulticore(corpus=corpus, num_topics=num_topics, id2word=id2word, workers=4)\n",
    "        model_list.append(model)\n",
    "        coherencemodel = CoherenceModel(model=model, texts=stream, dictionary=dictionary, coherence='c_v')\n",
    "        coherence_values.append(coherencemodel.get_coherence())\n",
    "\n",
    "    return model_list, coherence_values"
   ]
  },
  {
   "cell_type": "code",
   "execution_count": 83,
   "metadata": {},
   "outputs": [],
   "source": [
    "# Can take a long time to run.\n",
    "model_list, coherence_values = compute_coherence_values(dictionary=id2word, \n",
    "                                                        corpus=corpus, \n",
    "                                                        path=df['reviews.text'], \n",
    "                                                        start=2, \n",
    "                                                        limit=40, \n",
    "                                                        step=6)"
   ]
  },
  {
   "cell_type": "code",
   "execution_count": 84,
   "metadata": {},
   "outputs": [
    {
     "data": {
      "image/png": "[encoded data removed]",
      "text/plain": [
       "<Figure size 432x288 with 1 Axes>"
      ]
     },
     "metadata": {
      "needs_background": "light"
     },
     "output_type": "display_data"
    }
   ],
   "source": [
    "# Show graph\n",
    "# looking for elbow, to pick best number of topics\n",
    "\n",
    "limit=40; start=2; step=6;\n",
    "x = range(start, limit, step)\n",
    "plt.plot(x, coherence_values)\n",
    "plt.xlabel(\"Num Topics\")\n",
    "plt.ylabel(\"Coherence score\")\n",
    "plt.legend((\"coherence_values\"), loc='best')\n",
    "plt.show()"
   ]
  },
  {
   "cell_type": "code",
   "execution_count": 85,
   "metadata": {},
   "outputs": [],
   "source": [
    "# from previous graph.. looks like about 8 might be good amount of topics\n",
    "\n",
    "lda = LdaMulticore(corpus=corpus,\n",
    "                  id2word=id2word,\n",
    "                  random_state=42,\n",
    "                  num_topics=8,\n",
    "                  workers=4\n",
    "                  )"
   ]
  },
  {
   "cell_type": "markdown",
   "metadata": {},
   "source": [
    "#### create visualization of topics"
   ]
  },
  {
   "cell_type": "code",
   "execution_count": 86,
   "metadata": {},
   "outputs": [],
   "source": [
    "import pyLDAvis.gensim\n",
    "\n",
    "pyLDAvis.enable_notebook()"
   ]
  },
  {
   "cell_type": "code",
   "execution_count": 88,
   "metadata": {},
   "outputs": [
    {
     "name": "stderr",
     "output_type": "stream",
     "text": [
      "/Users/lambda_school_loaner_95/anaconda3/lib/python3.7/site-packages/pyLDAvis/_prepare.py:257: FutureWarning: Sorting because non-concatenation axis is not aligned. A future version\n",
      "of pandas will change to not sort by default.\n",
      "\n",
      "To accept the future behavior, pass 'sort=False'.\n",
      "\n",
      "To retain the current behavior and silence the warning, pass 'sort=True'.\n",
      "\n",
      "  return pd.concat([default_term_info] + list(topic_dfs))\n"
     ]
    },
    {
     "data": {
      "text/html": [
       "\n",
       "<link rel=\"stylesheet\" type=\"text/css\" href=\"https://cdn.rawgit.com/bmabey/pyLDAvis/files/ldavis.v1.0.0.css\">\n",
       "\n",
       "\n",
       "<div id=\"ldavis_el718764866230456520158308\"></div>\n",
       "<script type=\"text/javascript\">\n",
       "\n",
       "var ldavis_el718764866230456520158308_data = {\"mdsDat\": {\"x\": [0.0006253082608511402, 0.0028550244717956263, -0.0008084879043188168, 0.00042271573091116817, -0.004789793227146567, 0.0013015422253628618, 0.00230596670185607, -0.0019122762593114786], \"y\": [0.004491617994000631, 0.0003505991748934334, -0.0016731769839414402, -0.0016329211354408609, 0.0006149789750587598, 0.0007680956452483215, -0.0019222431173281955, -0.0009969505524906523], \"topics\": [1, 2, 3, 4, 5, 6, 7, 8], \"cluster\": [1, 1, 1, 1, 1, 1, 1, 1], \"Freq\": [14.276616096496582, 13.33922290802002, 12.79642391204834, 12.414340019226074, 12.238458633422852, 11.892346382141113, 11.593270301818848, 11.449318885803223]}, \"tinfo\": {\"Category\": [\"Default\", \"Default\", \"Default\", \"Default\", \"Default\", \"Default\", \"Default\", \"Default\", \"Default\", \"Default\", \"Default\", \"Default\", \"Default\", \"Default\", \"Default\", \"Default\", \"Default\", \"Default\", \"Default\", \"Default\", \"Default\", \"Default\", \"Default\", \"Default\", \"Default\", \"Default\", \"Default\", \"Default\", \"Default\", \"Default\", \"Topic1\", \"Topic1\", \"Topic1\", \"Topic1\", \"Topic1\", \"Topic1\", \"Topic1\", \"Topic1\", \"Topic1\", \"Topic1\", \"Topic1\", \"Topic1\", \"Topic1\", \"Topic1\", \"Topic1\", \"Topic1\", \"Topic1\", \"Topic1\", \"Topic1\", \"Topic1\", \"Topic1\", \"Topic1\", \"Topic1\", \"Topic1\", \"Topic1\", \"Topic1\", \"Topic1\", \"Topic1\", \"Topic1\", \"Topic1\", \"Topic1\", \"Topic1\", \"Topic1\", \"Topic1\", \"Topic1\", \"Topic1\", \"Topic1\", \"Topic1\", \"Topic1\", \"Topic1\", \"Topic1\", \"Topic1\", \"Topic1\", \"Topic1\", \"Topic1\", \"Topic1\", \"Topic1\", \"Topic1\", \"Topic1\", \"Topic1\", \"Topic1\", \"Topic2\", \"Topic2\", \"Topic2\", \"Topic2\", \"Topic2\", \"Topic2\", \"Topic2\", \"Topic2\", \"Topic2\", \"Topic2\", \"Topic2\", \"Topic2\", \"Topic2\", \"Topic2\", \"Topic2\", \"Topic2\", \"Topic2\", \"Topic2\", \"Topic2\", \"Topic2\", \"Topic2\", \"Topic2\", \"Topic2\", \"Topic2\", \"Topic2\", \"Topic2\", \"Topic2\", \"Topic2\", \"Topic2\", \"Topic2\", \"Topic2\", \"Topic2\", \"Topic2\", \"Topic2\", \"Topic2\", \"Topic2\", \"Topic2\", \"Topic2\", \"Topic2\", \"Topic2\", \"Topic2\", \"Topic2\", \"Topic2\", \"Topic2\", \"Topic2\", \"Topic2\", \"Topic2\", \"Topic2\", \"Topic2\", \"Topic2\", \"Topic2\", \"Topic3\", \"Topic3\", \"Topic3\", \"Topic3\", \"Topic3\", \"Topic3\", \"Topic3\", \"Topic3\", \"Topic3\", \"Topic3\", \"Topic3\", \"Topic3\", \"Topic3\", \"Topic3\", \"Topic3\", \"Topic3\", \"Topic3\", \"Topic3\", \"Topic3\", \"Topic3\", \"Topic3\", \"Topic3\", \"Topic3\", \"Topic3\", \"Topic3\", \"Topic3\", \"Topic3\", \"Topic3\", \"Topic3\", \"Topic3\", \"Topic3\", \"Topic3\", \"Topic3\", \"Topic3\", \"Topic3\", \"Topic3\", \"Topic3\", \"Topic3\", \"Topic3\", \"Topic3\", \"Topic3\", \"Topic3\", \"Topic3\", \"Topic3\", \"Topic3\", \"Topic3\", \"Topic3\", \"Topic3\", \"Topic3\", \"Topic3\", \"Topic3\", \"Topic3\", \"Topic3\", \"Topic3\", \"Topic3\", \"Topic3\", \"Topic4\", \"Topic4\", \"Topic4\", \"Topic4\", \"Topic4\", \"Topic4\", \"Topic4\", \"Topic4\", \"Topic4\", \"Topic4\", \"Topic4\", \"Topic4\", \"Topic4\", \"Topic4\", \"Topic4\", \"Topic4\", \"Topic4\", \"Topic4\", \"Topic4\", \"Topic4\", \"Topic4\", \"Topic4\", \"Topic4\", \"Topic4\", \"Topic4\", \"Topic4\", \"Topic4\", \"Topic4\", \"Topic4\", \"Topic4\", \"Topic4\", \"Topic4\", \"Topic4\", \"Topic4\", \"Topic4\", \"Topic4\", \"Topic4\", \"Topic4\", \"Topic4\", \"Topic4\", \"Topic4\", \"Topic4\", \"Topic4\", \"Topic4\", \"Topic4\", \"Topic4\", \"Topic4\", \"Topic4\", \"Topic4\", \"Topic4\", \"Topic4\", \"Topic4\", \"Topic4\", \"Topic4\", \"Topic4\", \"Topic5\", \"Topic5\", \"Topic5\", \"Topic5\", \"Topic5\", \"Topic5\", \"Topic5\", \"Topic5\", \"Topic5\", \"Topic5\", \"Topic5\", \"Topic5\", \"Topic5\", \"Topic5\", \"Topic5\", \"Topic5\", \"Topic5\", \"Topic5\", \"Topic5\", \"Topic5\", \"Topic5\", \"Topic5\", \"Topic5\", \"Topic5\", \"Topic5\", \"Topic5\", \"Topic5\", \"Topic5\", \"Topic5\", \"Topic5\", \"Topic5\", \"Topic5\", \"Topic5\", \"Topic5\", \"Topic5\", \"Topic5\", \"Topic5\", \"Topic5\", \"Topic5\", \"Topic5\", \"Topic5\", \"Topic5\", \"Topic5\", \"Topic5\", \"Topic5\", \"Topic5\", \"Topic5\", \"Topic5\", \"Topic5\", \"Topic5\", \"Topic5\", \"Topic5\", \"Topic5\", \"Topic5\", \"Topic6\", \"Topic6\", \"Topic6\", \"Topic6\", \"Topic6\", \"Topic6\", \"Topic6\", \"Topic6\", \"Topic6\", \"Topic6\", \"Topic6\", \"Topic6\", \"Topic6\", \"Topic6\", \"Topic6\", \"Topic6\", \"Topic6\", \"Topic6\", \"Topic6\", \"Topic6\", \"Topic6\", \"Topic6\", \"Topic6\", \"Topic6\", \"Topic6\", \"Topic6\", \"Topic6\", \"Topic6\", \"Topic6\", \"Topic6\", \"Topic6\", \"Topic6\", \"Topic6\", \"Topic6\", \"Topic6\", \"Topic6\", \"Topic6\", \"Topic6\", \"Topic6\", \"Topic6\", \"Topic6\", \"Topic6\", \"Topic6\", \"Topic6\", \"Topic6\", \"Topic6\", \"Topic6\", \"Topic6\", \"Topic6\", \"Topic6\", \"Topic6\", \"Topic6\", \"Topic7\", \"Topic7\", \"Topic7\", \"Topic7\", \"Topic7\", \"Topic7\", \"Topic7\", \"Topic7\", \"Topic7\", \"Topic7\", \"Topic7\", \"Topic7\", \"Topic7\", \"Topic7\", \"Topic7\", \"Topic7\", \"Topic7\", \"Topic7\", \"Topic7\", \"Topic7\", \"Topic7\", \"Topic7\", \"Topic7\", \"Topic7\", \"Topic7\", \"Topic7\", \"Topic7\", \"Topic7\", \"Topic7\", \"Topic7\", \"Topic7\", \"Topic7\", \"Topic7\", \"Topic7\", \"Topic7\", \"Topic7\", \"Topic7\", \"Topic7\", \"Topic7\", \"Topic7\", \"Topic7\", \"Topic7\", \"Topic7\", \"Topic7\", \"Topic7\", \"Topic7\", \"Topic7\", \"Topic7\", \"Topic7\", \"Topic7\", \"Topic7\", \"Topic7\", \"Topic7\", \"Topic7\", \"Topic7\", \"Topic8\", \"Topic8\", \"Topic8\", \"Topic8\", \"Topic8\", \"Topic8\", \"Topic8\", \"Topic8\", \"Topic8\", \"Topic8\", \"Topic8\", \"Topic8\", \"Topic8\", \"Topic8\", \"Topic8\", \"Topic8\", \"Topic8\", \"Topic8\", \"Topic8\", \"Topic8\", \"Topic8\", \"Topic8\", \"Topic8\", \"Topic8\", \"Topic8\", \"Topic8\", \"Topic8\", \"Topic8\", \"Topic8\", \"Topic8\", \"Topic8\", \"Topic8\", \"Topic8\", \"Topic8\", \"Topic8\", \"Topic8\", \"Topic8\", \"Topic8\", \"Topic8\", \"Topic8\", \"Topic8\", \"Topic8\", \"Topic8\", \"Topic8\", \"Topic8\", \"Topic8\", \"Topic8\", \"Topic8\", \"Topic8\", \"Topic8\", \"Topic8\", \"Topic8\", \"Topic8\", \"Topic8\", \"Topic8\", \"Topic8\"], \"Freq\": [143402.0, 227950.0, 253139.0, 86790.0, 141906.0, 194563.0, 85841.0, 58095.0, 29764.0, 85780.0, 85949.0, 113447.0, 56943.0, 168129.0, 83787.0, 85450.0, 28927.0, 58025.0, 56569.0, 56780.0, 85677.0, 28573.0, 28848.0, 111282.0, 29134.0, 57685.0, 110682.0, 28413.0, 29020.0, 57411.0, 21268.662109375, 10600.28125, 15192.2978515625, 5101.06005859375, 5130.6552734375, 10009.744140625, 5005.1201171875, 5042.94873046875, 9917.8759765625, 4896.80810546875, 4887.6279296875, 4891.11767578125, 4860.41357421875, 19228.287109375, 4719.45751953125, 9558.4130859375, 4783.1728515625, 14256.638671875, 4747.7197265625, 28109.54296875, 4730.685546875, 4672.28173828125, 4624.32080078125, 4579.00439453125, 4633.4794921875, 13965.0556640625, 4492.45361328125, 4500.2880859375, 4629.9560546875, 4487.40478515625, 22079.09765625, 30078.16796875, 38444.3203125, 8842.97265625, 16206.8095703125, 16295.92578125, 12233.193359375, 8572.408203125, 11972.3310546875, 8631.0791015625, 17627.26171875, 25015.908203125, 11437.2314453125, 11379.2646484375, 10971.3232421875, 15565.236328125, 7801.9658203125, 7723.38134765625, 9750.43359375, 7574.03515625, 7645.48193359375, 4952.59619140625, 4798.14501953125, 4631.24609375, 4678.8701171875, 4554.93115234375, 4501.14111328125, 4541.11376953125, 18302.03515625, 17874.4453125, 9079.4150390625, 22640.015625, 13556.9296875, 4452.36181640625, 21486.314453125, 4450.02587890625, 4353.3095703125, 4278.5693359375, 4251.056640625, 8557.2392578125, 4191.65478515625, 4143.3564453125, 8539.9619140625, 4270.306640625, 4326.56787109375, 8465.4208984375, 4195.587890625, 4126.65185546875, 4234.01708984375, 4139.92333984375, 4115.07373046875, 37262.41015625, 8470.8173828125, 28154.912109375, 8126.01171875, 15564.4697265625, 31138.8046875, 12028.61328125, 11920.70703125, 7869.1240234375, 11339.8125, 20567.935546875, 14304.0078125, 10979.404296875, 10434.7607421875, 10703.9716796875, 7565.51025390625, 7341.73974609375, 9337.677734375, 12109.7607421875, 8772.578125, 6845.6162109375, 4906.27685546875, 4771.3681640625, 23925.576171875, 4694.1943359375, 31894.93359375, 4524.79931640625, 4539.00048828125, 4517.92236328125, 4470.76318359375, 4408.791015625, 4427.37744140625, 8715.8046875, 4324.7265625, 4316.576171875, 4274.3115234375, 8546.072265625, 4268.90673828125, 4192.92236328125, 4182.48388671875, 4221.24462890625, 4110.69482421875, 8162.10400390625, 20524.52734375, 4160.8134765625, 4080.89990234375, 4111.62060546875, 4144.26123046875, 4005.141845703125, 4027.962646484375, 3963.840576171875, 12032.330078125, 19389.03125, 11975.732421875, 12005.2802734375, 14942.09765625, 14657.365234375, 11334.654296875, 11246.6572265625, 29709.4453125, 26503.08203125, 20040.376953125, 7521.1875, 7348.7763671875, 10583.044921875, 12834.376953125, 12753.2861328125, 10052.50390625, 7291.1025390625, 7209.0029296875, 7202.71337890625, 7127.5146484375, 6826.6259765625, 6964.5615234375, 6818.28515625, 8059.8115234375, 7818.97314453125, 39087.51953125, 4685.69580078125, 4236.3984375, 4246.39208984375, 4305.68505859375, 4289.2265625, 4327.56884765625, 4297.5078125, 4184.25390625, 4221.79736328125, 4182.73828125, 4205.0146484375, 4111.8642578125, 4246.20751953125, 4120.66357421875, 4175.43994140625, 4159.6591796875, 4087.552001953125, 4009.181640625, 4063.73046875, 12270.912109375, 15835.072265625, 4069.3251953125, 3967.38330078125, 3899.977783203125, 3961.120849609375, 3860.6982421875, 7973.2978515625, 4036.136962890625, 11851.552734375, 33938.87109375, 7732.91455078125, 21969.95703125, 14457.4296875, 10922.3466796875, 17213.61328125, 16315.3291015625, 16610.412109375, 21069.58984375, 7440.94140625, 7388.84130859375, 9654.85546875, 7076.353515625, 11509.689453125, 9488.25390625, 7009.62451171875, 9377.3349609375, 9262.212890625, 9250.6591796875, 9092.6005859375, 6654.92041015625, 10108.990234375, 6301.91162109375, 6387.19921875, 6376.36328125, 29892.638671875, 4576.2607421875, 13293.0205078125, 8920.87109375, 4443.01708984375, 4396.9873046875, 4261.57568359375, 4345.09521484375, 4171.96435546875, 4261.55322265625, 4245.83154296875, 4176.23779296875, 4257.521484375, 4087.451171875, 4085.60400390625, 4180.09375, 4159.09423828125, 4134.2470703125, 7983.900390625, 12261.2724609375, 3990.319580078125, 3954.832763671875, 3948.376220703125, 3877.15625, 7857.9609375, 3864.019775390625, 3853.14697265625, 3988.363037109375, 7798.16943359375, 3889.45458984375, 11305.7666015625, 7334.12451171875, 28726.9375, 14625.5078125, 21088.7109375, 11148.8212890625, 16641.548828125, 13633.4150390625, 7455.9638671875, 20923.189453125, 12662.052734375, 15025.1748046875, 9993.142578125, 23371.8125, 9846.375, 11767.689453125, 7256.5595703125, 7144.130859375, 7186.705078125, 7147.8017578125, 9254.150390625, 9092.6572265625, 6681.28369140625, 8442.5146484375, 4708.51416015625, 4633.7333984375, 4484.48095703125, 4529.61181640625, 4556.134765625, 13341.412109375, 4410.3427734375, 4451.93896484375, 4368.98046875, 4419.94091796875, 4397.5576171875, 4329.61767578125, 4206.45166015625, 12500.380859375, 4092.717041015625, 12383.673828125, 4058.177001953125, 4026.482666015625, 8216.4970703125, 8113.49267578125, 8069.19970703125, 3980.090087890625, 3944.8984375, 4047.431640625, 3945.481201171875, 34847.69140625, 3951.00244140625, 3932.978759765625, 11829.306640625, 3882.173095703125, 7696.0537109375, 14594.158203125, 10878.2744140625, 11178.4794921875, 27627.029296875, 7575.21630859375, 20262.458984375, 13034.10546875, 7128.3203125, 19177.130859375, 14353.2021484375, 12046.3974609375, 9634.9140625, 13396.384765625, 9130.3427734375, 12933.201171875, 6815.60302734375, 10037.0, 8467.40234375, 6629.10595703125, 6403.66796875, 6197.724609375, 4727.92138671875, 9033.865234375, 13718.630859375, 8567.302734375, 4366.93896484375, 4377.31103515625, 4292.77099609375, 4111.06494140625, 4122.45068359375, 4171.98291015625, 4135.65380859375, 4164.9775390625, 4033.0361328125, 4099.9638671875, 4081.090087890625, 3982.1826171875, 3972.42724609375, 3920.9736328125, 3902.986083984375, 3926.615478515625, 7927.55615234375, 3871.277099609375, 3808.1171875, 3879.76708984375, 3805.21630859375, 3828.25, 3748.571044921875, 11285.8359375, 3677.86669921875, 3687.029296875, 30978.763671875, 10898.5732421875, 23781.6953125, 17468.34375, 7331.98974609375, 13582.4921875, 10333.3369140625, 12925.408203125, 12618.44140625, 10016.04296875, 21980.56640625, 9759.9375, 6890.544921875, 14498.392578125, 9561.873046875, 13695.64453125, 11057.6884765625, 14985.6357421875, 8694.69140625, 6645.89794921875, 6603.31494140625, 6239.8359375, 6160.93115234375, 7366.03125, 6063.63671875, 4837.17919921875, 9376.0302734375, 4393.84619140625, 4188.66552734375, 4223.27001953125, 4088.829345703125, 4331.3623046875, 4181.11865234375, 8402.4560546875, 4059.027587890625, 4147.7119140625, 3939.8310546875, 4018.32177734375, 3946.510009765625, 3944.347412109375, 3973.8291015625, 3992.16064453125, 3984.855224609375, 3910.5068359375, 3774.46142578125, 3867.324462890625, 3791.306640625, 3714.439208984375, 3737.2587890625, 7538.041015625, 11194.6943359375, 3638.09912109375, 3675.08349609375, 3675.2587890625, 3716.326171875, 18010.845703125, 21105.033203125, 17867.263671875, 27870.52734375, 10686.90625, 13829.2666015625, 7044.0537109375, 7211.07861328125, 7065.236328125, 24586.443359375, 19484.298828125, 9759.736328125, 9764.3623046875, 14304.2099609375, 11884.8271484375, 9571.73046875, 11694.015625, 11190.9384765625, 6793.9453125, 9091.576171875, 8820.3525390625, 8331.9228515625, 6509.669921875, 6484.2958984375, 8040.8759765625, 6518.958984375], \"Term\": [\"tablet\", \"great\", \"batteries\", \"product\", \"long\", \"use\", \"light\", \"duracell\", \"begin\", \"battery\", \"works\", \"reading\", \"need\", \"amazon\", \"kids\", \"brand\", \"parenta\", \"hd\", \"fast\", \"buy\", \"old\", \"wants\", \"ninety\", \"kindle\", \"like\", \"love\", \"work\", \"reviews\", \"playing\", \"ve\", \"work\", \"nice\", \"christmas\", \"games\", \"fine\", \"aa\", \"easy\", \"facebo\", \"second\", \"app\", \"leas\", \"bad\", \"amd\", \"got\", \"basic\", \"order\", \"problame\", \"kids\", \"jui\", \"amazon\", \"high\", \"gifts\", \"sd\", \"keeping\", \"opinion\", \"battery\", \"internet\", \"day\", \"friday\", \"equal\", \"bought\", \"use\", \"batteries\", \"need\", \"kindle\", \"reading\", \"good\", \"ve\", \"works\", \"duracell\", \"long\", \"great\", \"brand\", \"old\", \"product\", \"tablet\", \"better\", \"cheap\", \"light\", \"fast\", \"hd\", \"th\", \"wants\", \"fo\", \"comment\", \"times\", \"basic\", \"fish\", \"reading\", \"kindle\", \"fast\", \"long\", \"brand\", \"reviews\", \"bought\", \"object\", \"dad\", \"bad\", \"lighting\", \"lot\", \"hold\", \"internet\", \"books\", \"apps\", \"chance\", \"cheap\", \"pla\", \"started\", \"night\", \"parental\", \"thought\", \"batteries\", \"love\", \"use\", \"order\", \"work\", \"great\", \"light\", \"good\", \"aa\", \"kids\", \"amazon\", \"got\", \"old\", \"christmas\", \"product\", \"hd\", \"better\", \"works\", \"tablet\", \"battery\", \"need\", \"power\", \"micro\", \"tablet\", \"expectionations\", \"use\", \"price\", \"hold\", \"simple\", \"tank\", \"responsive\", \"wants\", \"lot\", \"play\", \"lasting\", \"niece\", \"buy\", \"batterie\", \"far\", \"facebo\", \"year\", \"gif\", \"order\", \"long\", \"ninety\", \"amazed\", \"wanted\", \"recharge\", \"basics\", \"pric\", \"problame\", \"good\", \"bought\", \"old\", \"product\", \"kindle\", \"reading\", \"works\", \"light\", \"batteries\", \"great\", \"amazon\", \"nice\", \"aa\", \"battery\", \"work\", \"got\", \"christmas\", \"need\", \"books\", \"love\", \"better\", \"second\", \"hd\", \"fast\", \"brand\", \"kids\", \"great\", \"begin\", \"price\", \"thought\", \"lib\", \"bulk\", \"card\", \"wanted\", \"hold\", \"way\", \"gifts\", \"play\", \"fine\", \"mom\", \"pla\", \"job\", \"ordered\", \"options\", \"times\", \"reviews\", \"light\", \"kindle\", \"expectionations\", \"parental\", \"area\", \"equal\", \"basic\", \"books\", \"screen\", \"brand\", \"batteries\", \"fast\", \"amazon\", \"got\", \"kids\", \"long\", \"bought\", \"tablet\", \"use\", \"better\", \"ve\", \"christmas\", \"lot\", \"work\", \"works\", \"buy\", \"product\", \"old\", \"battery\", \"good\", \"second\", \"reading\", \"nice\", \"hd\", \"duracell\", \"tablet\", \"things\", \"kids\", \"buy\", \"parenta\", \"item\", \"twins\", \"nicer\", \"area\", \"advertising\", \"em\", \"check\", \"dollars\", \"parental\", \"si\", \"non\", \"library\", \"allows\", \"second\", \"battery\", \"day\", \"tank\", \"nexus\", \"started\", \"cheap\", \"jui\", \"keeping\", \"like\", \"books\", \"low\", \"christmas\", \"aa\", \"great\", \"reading\", \"amazon\", \"works\", \"bought\", \"got\", \"need\", \"use\", \"work\", \"long\", \"old\", \"batteries\", \"brand\", \"kindle\", \"hd\", \"lot\", \"love\", \"ve\", \"good\", \"product\", \"nice\", \"light\", \"reviews\", \"keeping\", \"leas\", \"job\", \"non\", \"works\", \"absolutely\", \"awesome\", \"dtype\", \"parenta\", \"ninety\", \"allows\", \"apps\", \"old\", \"tank\", \"light\", \"able\", \"looking\", \"duracell\", \"love\", \"ve\", \"nexus\", \"lighting\", \"browsing\", \"niece\", \"batteries\", \"amazonbasics\", \"want\", \"product\", \"nicer\", \"better\", \"work\", \"christmas\", \"brand\", \"great\", \"cheap\", \"amazon\", \"got\", \"need\", \"use\", \"bought\", \"reading\", \"good\", \"long\", \"kids\", \"tablet\", \"second\", \"kindle\", \"battery\", \"lot\", \"buy\", \"fast\", \"begin\", \"need\", \"product\", \"fast\", \"recharge\", \"browsing\", \"wants\", \"games\", \"clarity\", \"playing\", \"library\", \"know\", \"high\", \"black\", \"ninety\", \"power\", \"pla\", \"dad\", \"length\", \"getting\", \"hd\", \"expectionations\", \"aaa\", \"friday\", \"opinion\", \"dollars\", \"amazed\", \"battery\", \"leas\", \"far\", \"batteries\", \"light\", \"use\", \"long\", \"love\", \"reading\", \"good\", \"kindle\", \"got\", \"old\", \"great\", \"brand\", \"nice\", \"tablet\", \"works\", \"bought\", \"work\", \"amazon\", \"kids\", \"better\", \"ve\", \"duracell\", \"lot\", \"christmas\", \"order\", \"like\", \"duracell\", \"gaming\", \"web\", \"friday\", \"problame\", \"begin\", \"expensive\", \"hd\", \"year\", \"near\", \"amd\", \"chance\", \"lib\", \"sure\", \"purchase\", \"playing\", \"mom\", \"dollars\", \"parental\", \"classes\", \"yr\", \"responsive\", \"niece\", \"better\", \"battery\", \"bad\", \"batterie\", \"comment\", \"library\", \"long\", \"amazon\", \"tablet\", \"great\", \"good\", \"reading\", \"order\", \"ve\", \"books\", \"batteries\", \"use\", \"brand\", \"works\", \"bought\", \"got\", \"old\", \"kindle\", \"work\", \"buy\", \"product\", \"light\", \"kids\", \"lot\", \"cheap\", \"christmas\", \"love\"], \"Total\": [143402.0, 227950.0, 253139.0, 86790.0, 141906.0, 194563.0, 85841.0, 58095.0, 29764.0, 85780.0, 85949.0, 113447.0, 56943.0, 168129.0, 83787.0, 85450.0, 28927.0, 58025.0, 56569.0, 56780.0, 85677.0, 28573.0, 28848.0, 111282.0, 29134.0, 57685.0, 110682.0, 28413.0, 29020.0, 57411.0, 110682.03125, 55886.6484375, 82925.3671875, 27884.5859375, 28053.857421875, 54840.5546875, 27683.279296875, 28045.712890625, 55660.20703125, 27867.228515625, 27970.654296875, 28141.708984375, 28007.47265625, 111913.796875, 27588.009765625, 55897.28515625, 28063.56640625, 83787.75, 27964.1171875, 168129.65625, 28320.18359375, 28021.0703125, 28249.26953125, 28034.205078125, 28380.28125, 85780.546875, 27630.796875, 27967.501953125, 28798.591796875, 28038.462890625, 138264.375, 194563.921875, 253139.75, 56943.66796875, 111282.53125, 113447.984375, 85188.140625, 57411.99609375, 85949.3828125, 58095.13671875, 141906.171875, 227950.375, 85450.046875, 85677.90625, 86790.0859375, 143402.484375, 57325.2890625, 56868.04296875, 85841.7265625, 56569.0703125, 58025.50390625, 28441.669921875, 28573.888671875, 28117.52734375, 28463.5546875, 27877.01171875, 27588.009765625, 28122.8671875, 113447.984375, 111282.53125, 56569.0703125, 141906.171875, 85450.046875, 28413.193359375, 138264.375, 28800.740234375, 28248.939453125, 28141.708984375, 28215.52734375, 56840.0, 27887.583984375, 27630.796875, 56986.234375, 28524.990234375, 28959.287109375, 56868.04296875, 28251.755859375, 27927.546875, 28671.447265625, 28053.119140625, 27937.43359375, 253139.75, 57685.3125, 194563.921875, 55897.28515625, 110682.03125, 227950.375, 85841.7265625, 85188.140625, 54840.5546875, 83787.75, 168129.65625, 111913.796875, 85677.90625, 82925.3671875, 86790.0859375, 58025.50390625, 57325.2890625, 85949.3828125, 143402.484375, 85780.546875, 56943.66796875, 28217.431640625, 27828.9375, 143402.484375, 28618.248046875, 194563.921875, 27609.43359375, 27887.583984375, 28177.46875, 28365.05078125, 28175.31640625, 28573.888671875, 56840.0, 28320.4453125, 28438.294921875, 28355.9921875, 56780.41796875, 28432.92578125, 28046.478515625, 28045.712890625, 28477.17578125, 28072.818359375, 55897.28515625, 141906.171875, 28848.08984375, 28343.060546875, 28630.92578125, 28871.421875, 28006.73828125, 28274.109375, 28063.56640625, 85188.140625, 138264.375, 85677.90625, 86790.0859375, 111282.53125, 113447.984375, 85949.3828125, 85841.7265625, 253139.75, 227950.375, 168129.65625, 55886.6484375, 54840.5546875, 85780.546875, 110682.03125, 111913.796875, 82925.3671875, 56943.66796875, 56986.234375, 57685.3125, 57325.2890625, 55660.20703125, 58025.50390625, 56569.0703125, 85450.046875, 83787.75, 227950.375, 29764.73046875, 27609.43359375, 27937.43359375, 28537.015625, 28436.88671875, 28818.98828125, 28630.92578125, 27887.583984375, 28247.0390625, 28021.0703125, 28320.4453125, 28053.857421875, 28980.7265625, 28251.755859375, 28695.869140625, 28680.83203125, 28349.083984375, 27877.01171875, 28413.193359375, 85841.7265625, 111282.53125, 28618.248046875, 28053.119140625, 27582.62109375, 28038.462890625, 27588.009765625, 56986.234375, 28906.69921875, 85450.046875, 253139.75, 56569.0703125, 168129.65625, 111913.796875, 83787.75, 141906.171875, 138264.375, 143402.484375, 194563.921875, 57325.2890625, 57411.99609375, 82925.3671875, 56840.0, 110682.03125, 85949.3828125, 56780.41796875, 86790.0859375, 85677.90625, 85780.546875, 85188.140625, 55660.20703125, 113447.984375, 55886.6484375, 58025.50390625, 58095.13671875, 143402.484375, 28501.94140625, 83787.75, 56780.41796875, 28927.642578125, 28743.56640625, 27934.345703125, 28590.87890625, 27582.62109375, 28259.904296875, 28311.732421875, 28150.08984375, 28942.96484375, 28053.119140625, 28255.875, 28923.06640625, 28819.9140625, 28756.37890625, 55660.20703125, 85780.546875, 27967.501953125, 28365.05078125, 28428.87890625, 27927.546875, 56868.04296875, 27964.1171875, 28034.205078125, 29134.69921875, 56986.234375, 28466.064453125, 82925.3671875, 54840.5546875, 227950.375, 113447.984375, 168129.65625, 85949.3828125, 138264.375, 111913.796875, 56943.66796875, 194563.921875, 110682.03125, 141906.171875, 85677.90625, 253139.75, 85450.046875, 111282.53125, 58025.50390625, 56840.0, 57685.3125, 57411.99609375, 85188.140625, 86790.0859375, 55886.6484375, 85841.7265625, 28413.193359375, 28034.205078125, 27970.654296875, 28695.869140625, 28923.06640625, 85949.3828125, 28437.19921875, 29038.8203125, 28562.396484375, 28927.642578125, 28848.08984375, 28756.37890625, 28524.990234375, 85677.90625, 28365.05078125, 85841.7265625, 28677.037109375, 28455.51953125, 58095.13671875, 57685.3125, 57411.99609375, 28428.87890625, 28215.52734375, 28979.33984375, 28355.9921875, 253139.75, 28821.42578125, 28710.44140625, 86790.0859375, 28590.87890625, 57325.2890625, 110682.03125, 82925.3671875, 85450.046875, 227950.375, 56868.04296875, 168129.65625, 111913.796875, 56943.66796875, 194563.921875, 138264.375, 113447.984375, 85188.140625, 141906.171875, 83787.75, 143402.484375, 55660.20703125, 111282.53125, 85780.546875, 56840.0, 56780.41796875, 56569.0703125, 29764.73046875, 56943.66796875, 86790.0859375, 56569.0703125, 28871.421875, 28979.33984375, 28573.888671875, 27884.5859375, 28525.005859375, 29020.623046875, 28819.9140625, 29061.685546875, 28320.18359375, 28899.990234375, 28848.08984375, 28217.431640625, 28251.755859375, 28248.939453125, 28441.646484375, 28642.248046875, 58025.50390625, 28618.248046875, 28254.99609375, 28798.591796875, 28380.28125, 28942.96484375, 28343.060546875, 85780.546875, 27970.654296875, 28046.478515625, 253139.75, 85841.7265625, 194563.921875, 141906.171875, 57685.3125, 113447.984375, 85188.140625, 111282.53125, 111913.796875, 85677.90625, 227950.375, 85450.046875, 55886.6484375, 143402.484375, 85949.3828125, 138264.375, 110682.03125, 168129.65625, 83787.75, 57325.2890625, 57411.99609375, 58095.13671875, 56840.0, 82925.3671875, 55897.28515625, 29134.69921875, 58095.13671875, 28994.16015625, 28280.009765625, 28798.591796875, 28063.56640625, 29764.73046875, 28735.18359375, 58025.50390625, 28477.17578125, 29164.8984375, 28007.47265625, 28959.287109375, 28537.015625, 28596.02734375, 28821.62890625, 29020.623046875, 28980.7265625, 28942.96484375, 28053.119140625, 28804.23046875, 28707.205078125, 28175.31640625, 28355.9921875, 57325.2890625, 85780.546875, 28141.708984375, 28432.92578125, 28463.5546875, 28819.9140625, 141906.171875, 168129.65625, 143402.484375, 227950.375, 85188.140625, 113447.984375, 55897.28515625, 57411.99609375, 56986.234375, 253139.75, 194563.921875, 85450.046875, 85949.3828125, 138264.375, 111913.796875, 85677.90625, 111282.53125, 110682.03125, 56780.41796875, 86790.0859375, 85841.7265625, 83787.75, 56840.0, 56868.04296875, 82925.3671875, 57685.3125], \"loglift\": [30.0, 29.0, 28.0, 27.0, 26.0, 25.0, 24.0, 23.0, 22.0, 21.0, 20.0, 19.0, 18.0, 17.0, 16.0, 15.0, 14.0, 13.0, 12.0, 11.0, 10.0, 9.0, 8.0, 7.0, 6.0, 5.0, 4.0, 3.0, 2.0, 1.0, 0.2971000075340271, 0.2840999960899353, 0.24940000474452972, 0.24789999425411224, 0.24770000576972961, 0.24570000171661377, 0.2362000048160553, 0.23070000112056732, 0.2215999960899353, 0.2076999992132187, 0.2020999938249588, 0.19670000672340393, 0.19519999623298645, 0.18520000576972961, 0.1808999925851822, 0.18050000071525574, 0.17720000445842743, 0.17550000548362732, 0.17329999804496765, 0.15790000557899475, 0.15700000524520874, 0.15520000457763672, 0.13680000603199005, 0.13459999859333038, 0.13420000672340393, 0.13130000233650208, 0.12999999523162842, 0.11959999799728394, 0.11879999935626984, 0.11420000344514847, 0.1120000034570694, 0.07959999889135361, 0.061799999326467514, 0.08410000056028366, 0.019899999722838402, 0.006099999882280827, 0.005799999926239252, 0.04479999840259552, -0.02459999918937683, 0.039799999445676804, -0.13920000195503235, -0.2630999982357025, -0.06449999660253525, -0.0723000019788742, -0.1216999962925911, -0.27410000562667847, -0.04780000075697899, -0.04989999905228615, -0.22859999537467957, -0.06419999897480011, -0.08020000159740448, 0.26649999618530273, 0.23019999265670776, 0.21089999377727509, 0.20890000462532043, 0.2029000073671341, 0.2013999968767166, 0.19110000133514404, 0.19009999930858612, 0.1858000010251999, 0.1850000023841858, 0.17900000512599945, 0.17339999973773956, 0.16099999845027924, 0.1527000069618225, 0.1469999998807907, 0.14429999887943268, 0.13079999387264252, 0.121799997985363, 0.12099999934434891, 0.11940000206232071, 0.11699999868869781, 0.11640000343322754, 0.11540000140666962, 0.11330000311136246, 0.10970000177621841, 0.10729999840259552, 0.1023000031709671, 0.10170000046491623, 0.10100000351667404, 0.09920000284910202, 0.09849999845027924, 0.09610000252723694, 0.08139999955892563, 0.0860000029206276, 0.052799999713897705, 0.023800000548362732, 0.04919999837875366, 0.0478999987244606, 0.0729999989271164, 0.014499999582767487, -0.08649999648332596, -0.04270000010728836, -0.04010000079870224, -0.05829999968409538, -0.07840000092983246, -0.02280000038444996, -0.040699999779462814, -0.20520000159740448, -0.45719999074935913, -0.26570001244544983, -0.10400000214576721, 0.30660000443458557, 0.29260000586509705, 0.2653000056743622, 0.2483000010251999, 0.24770000576972961, 0.24740000069141388, 0.24050000309944153, 0.22550000250339508, 0.20839999616146088, 0.2011999934911728, 0.19130000472068787, 0.1808999925851822, 0.17679999768733978, 0.17069999873638153, 0.16380000114440918, 0.1623000055551529, 0.1597999930381775, 0.15549999475479126, 0.15309999883174896, 0.1469999998807907, 0.1348000019788742, 0.13199999928474426, 0.12250000238418579, 0.11969999969005585, 0.11789999902248383, 0.1152999997138977, 0.11490000039339066, 0.11110000312328339, 0.10729999840259552, 0.09870000183582306, 0.09870000183582306, 0.09149999916553497, 0.08829999715089798, 0.0778999999165535, 0.04809999838471413, 0.009600000455975533, 0.03009999915957451, 0.023600000888109207, -0.08649999648332596, -0.09589999914169312, -0.07100000232458115, 0.05040000006556511, 0.04610000178217888, -0.0364999994635582, -0.09849999845027924, -0.11590000241994858, -0.054099999368190765, 0.0006000000284984708, -0.011500000022351742, -0.02449999935925007, -0.02879999950528145, -0.042399998754262924, -0.06400000303983688, -0.05990000069141388, -0.3050000071525574, -0.3156999945640564, 0.3230000138282776, 0.23749999701976776, 0.211899995803833, 0.20239999890327454, 0.19509999454021454, 0.19470000267028809, 0.19030000269412994, 0.1898999959230423, 0.18950000405311584, 0.18559999763965607, 0.1843000054359436, 0.17900000512599945, 0.16609999537467957, 0.1657000035047531, 0.16120000183582306, 0.15880000591278076, 0.15549999475479126, 0.14970000088214874, 0.14710000157356262, 0.14159999787807465, 0.14100000262260437, 0.13650000095367432, 0.13580000400543213, 0.13030000030994415, 0.13009999692440033, 0.12929999828338623, 0.11980000138282776, 0.11959999799728394, 0.11749999970197678, 0.11079999804496765, 0.07689999788999557, 0.09629999846220016, 0.05130000039935112, 0.039799999445676804, 0.04879999905824661, -0.023099999874830246, -0.050700001418590546, -0.06930000334978104, -0.13660000264644623, 0.044599998742341995, 0.035999998450279236, -0.06419999897480011, 0.00279999990016222, -0.17720000445842743, -0.11739999800920486, -0.00559999980032444, -0.1388999968767166, -0.13830000162124634, -0.14079999923706055, -0.15109999477863312, -0.03759999945759773, -0.33160001039505005, -0.09619999676942825, -0.12030000239610672, -0.12319999933242798, 0.5325000286102295, 0.27149999141693115, 0.25949999690055847, 0.24979999661445618, 0.22709999978542328, 0.22310000658035278, 0.22040000557899475, 0.21649999916553497, 0.2117999941110611, 0.20880000293254852, 0.20319999754428864, 0.1923999935388565, 0.18389999866485596, 0.17440000176429749, 0.16680000722408295, 0.1662999987602234, 0.1648000031709671, 0.16099999845027924, 0.15870000422000885, 0.15520000457763672, 0.1534000039100647, 0.13040000200271606, 0.1264999955892563, 0.12610000371932983, 0.12139999866485596, 0.12139999866485596, 0.1160999983549118, 0.1120000034570694, 0.11169999837875366, 0.11010000109672546, 0.1080000028014183, 0.08869999647140503, 0.02930000051856041, 0.052000001072883606, 0.02459999918937683, 0.05820000171661377, -0.016699999570846558, -0.004600000102072954, 0.06750000268220901, -0.12929999828338623, -0.06750000268220901, -0.14489999413490295, -0.04809999838471413, -0.2818000018596649, -0.06019999831914902, -0.1460999995470047, 0.02160000056028366, 0.026599999517202377, 0.017799999564886093, 0.017100000753998756, -0.11919999867677689, -0.15539999306201935, -0.023399999365210533, -0.21860000491142273, 0.33180001378059387, 0.32919999957084656, 0.2987000048160553, 0.2831999957561493, 0.28110000491142273, 0.266400009393692, 0.265500009059906, 0.2540000081062317, 0.2517000138759613, 0.25060001015663147, 0.2483000010251999, 0.23589999973773956, 0.2151000052690506, 0.20440000295639038, 0.19329999387264252, 0.1931000053882599, 0.17389999330043793, 0.1738000065088272, 0.17329999804496765, 0.16779999434947968, 0.1670999974012375, 0.1632000058889389, 0.16179999709129333, 0.1607999950647354, 0.15700000524520874, 0.14630000293254852, 0.1421000063419342, 0.14139999449253082, 0.1363999992609024, 0.13259999454021454, 0.12120000272989273, 0.10320000350475311, 0.09809999912977219, 0.09529999643564224, 0.01889999955892563, 0.11339999735355377, 0.013299999758601189, -0.020899999886751175, 0.05130000039935112, -0.18780000507831573, -0.13590000569820404, -0.11330000311136246, -0.050200000405311584, -0.23090000450611115, -0.08739999681711197, -0.2766000032424927, 0.029200000688433647, -0.27649998664855957, -0.18629999458789825, -0.019500000402331352, -0.05299999937415123, -0.0820000022649765, 0.3149000108242035, 0.31369999051094055, 0.3100000023841858, 0.2671999931335449, 0.26600000262260437, 0.26460000872612, 0.25920000672340393, 0.24040000140666962, 0.22040000557899475, 0.2151000052690506, 0.21330000460147858, 0.21199999749660492, 0.20569999516010284, 0.20190000534057617, 0.19910000264644623, 0.19660000503063202, 0.19300000369548798, 0.18000000715255737, 0.16859999299049377, 0.16760000586509705, 0.16419999301433563, 0.1543000042438507, 0.15060000121593475, 0.1501999944448471, 0.1454000025987625, 0.13179999589920044, 0.13169999420642853, 0.1264999955892563, 0.125900000333786, 0.1256999969482422, 0.054099999368190765, 0.0908999964594841, 0.05290000140666962, 0.05999999865889549, 0.09200000017881393, 0.03220000118017197, 0.04529999941587448, 0.0019000000320374966, -0.027799999341368675, 0.008299999870359898, -0.1842000037431717, -0.01489999983459711, 0.06159999966621399, -0.13689999282360077, -0.041200000792741776, -0.15729999542236328, -0.14880000054836273, -0.2628999948501587, -0.11079999804496765, 0.0, -0.007899999618530273, -0.07639999687671661, -0.06729999929666519, -0.2662999927997589, -0.06650000065565109, 0.3716000020503998, 0.3433000147342682, 0.28040000796318054, 0.2574999928474426, 0.2475000023841858, 0.2409999966621399, 0.23980000615119934, 0.23970000445842743, 0.23489999771118164, 0.2190999984741211, 0.2168000042438507, 0.20589999854564667, 0.19220000505447388, 0.18889999389648438, 0.18629999458789825, 0.1858000010251999, 0.18359999358654022, 0.18310000002384186, 0.1656000018119812, 0.16140000522136688, 0.15929999947547913, 0.1428000032901764, 0.14100000262260437, 0.14079999923706055, 0.13850000500679016, 0.13089999556541443, 0.12139999866485596, 0.12129999697208405, 0.12020000070333481, 0.11890000104904175, 0.10300000011920929, 0.09200000017881393, 0.08460000157356262, 0.065700002014637, 0.09139999747276306, 0.06270000338554382, 0.09589999914169312, 0.09260000288486481, 0.07959999889135361, -0.16449999809265137, -0.1339000016450882, -0.002400000113993883, -0.007799999788403511, -0.10140000283718109, -0.07519999891519547, -0.02449999935925007, -0.08579999953508377, -0.12430000305175781, 0.04410000145435333, -0.08889999985694885, -0.10819999873638153, -0.14100000262260437, 0.0003000000142492354, -0.004100000020116568, -0.16619999706745148, -0.013000000268220901], \"logprob\": [30.0, 29.0, 28.0, 27.0, 26.0, 25.0, 24.0, 23.0, 22.0, 21.0, 20.0, 19.0, 18.0, 17.0, 16.0, 15.0, 14.0, 13.0, 12.0, 11.0, 10.0, 9.0, 8.0, 7.0, 6.0, 5.0, 4.0, 3.0, 2.0, 1.0, -3.786900043487549, -4.48330020904541, -4.1234002113342285, -5.214700222015381, -5.208899974822998, -4.540599822998047, -5.233699798583984, -5.226200103759766, -4.549799919128418, -5.2555999755859375, -5.257500171661377, -5.256800174713135, -5.2631001472473145, -3.8877999782562256, -5.292500019073486, -4.5868000984191895, -5.279099941253662, -4.186999797821045, -5.286499977111816, -3.5081000328063965, -5.29010009765625, -5.302499771118164, -5.312900066375732, -5.322700023651123, -5.3109002113342285, -4.207600116729736, -5.341800212860107, -5.340000152587891, -5.311600208282471, -5.342899799346924, -3.749500036239624, -3.4403998851776123, -3.194999933242798, -4.664599895477295, -4.058700084686279, -4.053299903869629, -4.340000152587891, -4.6956000328063965, -4.361599922180176, -4.688799858093262, -3.9746999740600586, -3.6247000694274902, -4.407299995422363, -4.412399768829346, -4.44890022277832, -4.099100112915039, -4.78980016708374, -4.799900054931641, -4.56689977645874, -4.819499969482422, -4.810100078582764, -5.176400184631348, -5.208000183105469, -5.2434000968933105, -5.2332000732421875, -5.2600998878479, -5.271900177001953, -5.2631001472473145, -3.86929988861084, -3.892899990081787, -4.570300102233887, -3.6565001010894775, -4.169400215148926, -5.282800197601318, -3.708899974822998, -5.283400058746338, -5.305300235748291, -5.3225998878479, -5.329100131988525, -4.629499912261963, -5.343200206756592, -5.354800224304199, -4.631499767303467, -5.3246002197265625, -5.311500072479248, -4.6402997970581055, -5.342199802398682, -5.358799934387207, -5.333099842071533, -5.355599880218506, -5.361599922180176, -3.1582999229431152, -4.639599800109863, -3.438499927520752, -4.68120002746582, -4.031300067901611, -3.3378000259399414, -4.289000034332275, -4.297999858856201, -4.7133002281188965, -4.347899913787842, -3.752500057220459, -4.115699768066406, -4.380199909210205, -4.431099891662598, -4.405700206756592, -4.752699851989746, -4.782700061798096, -4.542200088500977, -4.282299995422363, -4.604599952697754, -4.852700233459473, -5.144199848175049, -5.172100067138672, -3.559799909591675, -5.188399791717529, -3.2723000049591064, -5.225200176239014, -5.2220001220703125, -5.2266998291015625, -5.237199783325195, -5.251100063323975, -5.2469000816345215, -4.5696001052856445, -5.270400047302246, -5.272299766540527, -5.282100200653076, -4.589300155639648, -5.283400058746338, -5.301300048828125, -5.303800106048584, -5.294600009918213, -5.321100234985352, -4.635200023651123, -3.713099956512451, -5.309000015258789, -5.328400135040283, -5.320899963378906, -5.313000202178955, -5.347099781036377, -5.3414998054504395, -5.357500076293945, -4.247099876403809, -3.7699999809265137, -4.251800060272217, -4.2494001388549805, -4.0304999351501465, -4.049799919128418, -4.3069000244140625, -4.314700126647949, -3.3433001041412354, -3.4574999809265137, -3.736999988555908, -4.7170000076293945, -4.740200042724609, -4.375500202178955, -4.182600021362305, -4.188899993896484, -4.4268999099731445, -4.7480998039245605, -4.759399890899658, -4.760300159454346, -4.7708001136779785, -4.813899993896484, -4.793900012969971, -4.815100193023682, -4.647799968719482, -4.678199768066406, -3.038599967956543, -5.159900188446045, -5.260700225830078, -5.258299827575684, -5.244500160217285, -5.248300075531006, -5.2393999099731445, -5.246399879455566, -5.273099899291992, -5.264100074768066, -5.273399829864502, -5.268099784851074, -5.290500164031982, -5.258399963378906, -5.288400173187256, -5.275199890136719, -5.2789998054504395, -5.296500205993652, -5.315800189971924, -5.302299976348877, -4.197199821472168, -3.942199945449829, -5.300899982452393, -5.326300144195557, -5.343400001525879, -5.327899932861328, -5.353600025177002, -4.628300189971924, -5.309100151062012, -4.23199987411499, -3.179800033569336, -4.658899784088135, -3.6147000789642334, -4.033199787139893, -4.313600063323975, -3.8587000370025635, -3.9123001098632812, -3.894399881362915, -3.656599998474121, -4.697400093078613, -4.704400062561035, -4.4369001388549805, -4.747700214385986, -4.261199951171875, -4.454400062561035, -4.7571001052856445, -4.466100215911865, -4.478499889373779, -4.479700088500977, -4.4969000816345215, -4.809100151062012, -4.390999794006348, -4.86359977722168, -4.850100040435791, -4.851799964904785, -3.2925000190734863, -5.169300079345703, -4.10290002822876, -4.501699924468994, -5.198800086975098, -5.209199905395508, -5.240499973297119, -5.221099853515625, -5.2617998123168945, -5.240499973297119, -5.244200229644775, -5.260700225830078, -5.241499900817871, -5.282199859619141, -5.282700061798096, -5.259799957275391, -5.264800071716309, -5.2708001136779785, -4.61269998550415, -4.183700084686279, -5.306300163269043, -5.315199851989746, -5.316800117492676, -5.335000038146973, -4.628600120544434, -5.338399887084961, -5.341300010681152, -5.30679988861084, -4.636300086975098, -5.331900119781494, -4.264800071716309, -4.6975998878479, -3.3322999477386475, -4.007400035858154, -3.641400098800659, -4.278800010681152, -3.878200054168701, -4.077600002288818, -4.681099891662598, -3.6493000984191895, -4.151500225067139, -3.9804000854492188, -4.388199806213379, -3.538599967956543, -4.4029998779296875, -4.224800109863281, -4.708199977874756, -4.723899841308594, -4.717899799346924, -4.723299980163574, -4.465099811553955, -4.482699871063232, -4.790800094604492, -4.5569000244140625, -5.112100124359131, -5.1280999183654785, -5.160799980163574, -5.1508002281188965, -5.144999980926514, -4.0706000328063965, -5.177499771118164, -5.168099880218506, -5.1869001388549805, -5.175300121307373, -5.1803998947143555, -5.196000099182129, -5.224800109863281, -4.135700225830078, -5.252200126647949, -4.145100116729736, -5.260700225830078, -5.268599987030029, -4.555300235748291, -4.56790018081665, -4.573400020599365, -5.280099868774414, -5.289000034332275, -5.263400077819824, -5.288899898529053, -3.1105000972747803, -5.287499904632568, -5.292099952697754, -4.190899848937988, -5.305099964141846, -4.620699882507324, -3.980799913406372, -4.274700164794922, -4.247499942779541, -3.3427000045776367, -4.636600017547607, -3.6526999473571777, -4.093900203704834, -4.697400093078613, -3.70770001411438, -3.997499942779541, -4.172699928283691, -4.396100044250488, -4.066500186920166, -4.44980001449585, -4.1016998291015625, -4.742199897766113, -4.355199813842773, -4.525199890136719, -4.769999980926514, -4.804599761962891, -4.837299823760986, -5.082499980926514, -4.434999942779541, -4.017199993133545, -4.48799991607666, -5.161900043487549, -5.1595001220703125, -5.179100036621094, -5.222300052642822, -5.2195000648498535, -5.207600116729736, -5.216300010681152, -5.2093000411987305, -5.241499900817871, -5.224999904632568, -5.229599952697754, -5.254199981689453, -5.2565999031066895, -5.269599914550781, -5.274199962615967, -5.268199920654297, -4.5655999183654785, -5.282400131225586, -5.298799991607666, -5.280200004577637, -5.299600124359131, -5.293600082397461, -5.314599990844727, -4.212399959564209, -5.333600044250488, -5.331200122833252, -3.202699899673462, -4.247399806976318, -3.467099905014038, -3.775599956512451, -4.643700122833252, -4.027200222015381, -4.300600051879883, -4.0767998695373535, -4.100800037384033, -4.3317999839782715, -3.545799970626831, -4.357699871063232, -4.7058000564575195, -3.961899995803833, -4.378200054168701, -4.018899917602539, -4.232900142669678, -3.9289000034332275, -4.473299980163574, -4.742000102996826, -4.7484002113342285, -4.804999828338623, -4.817800045013428, -4.639100074768066, -4.833700180053711, -5.0472002029418945, -4.385300159454346, -5.1433000564575195, -5.191100120544434, -5.1828999519348145, -5.215199947357178, -5.157599925994873, -5.19290018081665, -4.494999885559082, -5.222499847412109, -5.200900077819824, -5.252399921417236, -5.232600212097168, -5.250699996948242, -5.251200199127197, -5.243800163269043, -5.239200115203857, -5.241000175476074, -5.259799957275391, -5.295199871063232, -5.270899772644043, -5.290800094604492, -5.311299800872803, -5.305099964141846, -4.603499889373779, -4.208000183105469, -5.331999778747559, -5.321899890899658, -5.321899890899658, -5.310800075531006, -3.7325000762939453, -3.5739998817443848, -3.740499973297119, -3.2959001064300537, -4.254499912261963, -3.9967000484466553, -4.671299934387207, -4.647900104522705, -4.668300151824951, -3.421299934387207, -3.653899908065796, -4.345200061798096, -4.344699859619141, -3.962899923324585, -4.148200035095215, -4.364699840545654, -4.164400100708008, -4.208399772644043, -4.707499980926514, -4.416100025177002, -4.446400165557861, -4.503399848937988, -4.750199794769287, -4.7540998458862305, -4.539000034332275, -4.748799800872803]}, \"token.table\": {\"Topic\": [1, 2, 3, 4, 5, 6, 7, 8, 1, 2, 3, 4, 5, 6, 7, 8, 1, 2, 3, 4, 5, 6, 7, 8, 1, 2, 3, 4, 5, 6, 7, 8, 1, 2, 3, 4, 5, 6, 7, 8, 1, 2, 3, 4, 5, 6, 7, 8, 1, 2, 3, 4, 5, 6, 7, 8, 1, 2, 3, 4, 5, 6, 7, 8, 1, 2, 3, 4, 5, 6, 7, 8, 1, 2, 3, 4, 5, 6, 7, 8, 1, 2, 3, 4, 5, 6, 7, 8, 1, 2, 3, 4, 5, 6, 7, 8, 1, 2, 3, 4, 5, 6, 7, 8, 1, 2, 3, 4, 5, 6, 7, 8, 1, 2, 3, 4, 5, 6, 7, 8, 1, 2, 3, 4, 5, 6, 7, 8, 1, 2, 3, 4, 5, 6, 7, 8, 1, 2, 3, 4, 5, 6, 7, 8, 1, 2, 3, 4, 5, 6, 7, 8, 1, 2, 3, 4, 5, 6, 7, 8, 1, 2, 3, 4, 5, 6, 7, 8, 1, 2, 3, 4, 5, 6, 7, 8, 1, 2, 3, 4, 5, 6, 7, 8, 1, 2, 3, 4, 5, 6, 7, 8, 1, 2, 3, 4, 5, 6, 7, 8, 1, 2, 3, 4, 5, 6, 7, 8, 1, 2, 3, 4, 5, 6, 7, 8, 1, 2, 3, 4, 5, 6, 7, 8, 1, 2, 3, 4, 5, 6, 7, 8, 1, 2, 3, 4, 5, 6, 7, 8, 1, 2, 3, 4, 5, 6, 7, 8, 1, 2, 3, 4, 5, 6, 7, 8, 1, 2, 3, 4, 5, 6, 7, 8, 1, 2, 3, 4, 5, 6, 7, 8, 1, 2, 3, 4, 5, 6, 7, 8, 1, 2, 3, 4, 5, 6, 7, 8, 1, 2, 3, 4, 5, 6, 7, 8, 1, 2, 3, 4, 5, 6, 7, 8, 1, 2, 3, 4, 5, 6, 7, 8, 1, 2, 3, 4, 5, 6, 7, 8, 1, 2, 3, 4, 5, 6, 7, 8, 1, 2, 3, 4, 5, 6, 7, 8, 1, 2, 3, 4, 5, 6, 7, 8, 1, 2, 3, 4, 5, 6, 7, 8, 1, 2, 3, 4, 5, 6, 7, 8, 1, 2, 3, 4, 5, 6, 7, 8, 1, 2, 3, 4, 5, 6, 7, 8, 1, 2, 3, 4, 5, 6, 7, 8, 1, 2, 3, 4, 5, 6, 7, 8, 1, 2, 3, 4, 5, 6, 7, 8, 1, 2, 3, 4, 5, 6, 7, 8, 1, 2, 3, 4, 5, 6, 7, 8, 1, 2, 3, 4, 5, 6, 7, 8, 1, 2, 3, 4, 5, 6, 7, 8, 1, 2, 3, 4, 5, 6, 7, 8, 1, 2, 3, 4, 5, 6, 7, 8, 1, 2, 3, 4, 5, 6, 7, 8, 1, 2, 3, 4, 5, 6, 7, 8, 1, 2, 3, 4, 5, 6, 7, 8, 1, 2, 3, 4, 5, 6, 7, 8, 1, 2, 3, 4, 5, 6, 7, 8, 1, 2, 3, 4, 5, 6, 7, 8, 1, 2, 3, 4, 5, 6, 7, 8, 1, 2, 3, 4, 5, 6, 7, 8, 1, 2, 3, 4, 5, 6, 7, 8, 1, 2, 3, 4, 5, 6, 7, 8, 1, 2, 3, 4, 5, 6, 7, 8, 1, 2, 3, 4, 5, 6, 7, 8, 1, 2, 3, 4, 5, 6, 7, 8, 1, 2, 3, 4, 5, 6, 7, 8, 1, 2, 3, 4, 5, 6, 7, 8, 1, 2, 3, 4, 5, 6, 7, 8, 1, 2, 3, 4, 5, 6, 7, 8, 1, 2, 3, 4, 5, 6, 7, 8, 1, 2, 3, 4, 5, 6, 7, 8, 1, 2, 3, 4, 5, 6, 7, 8, 1, 2, 3, 4, 5, 6, 7, 8, 1, 2, 3, 4, 5, 6, 7, 8, 1, 2, 3, 4, 5, 6, 7, 8, 1, 2, 3, 4, 5, 6, 7, 8, 1, 2, 3, 4, 5, 6, 7, 8, 1, 2, 3, 4, 5, 6, 7, 8, 1, 2, 3, 4, 5, 6, 7, 8, 1, 2, 3, 4, 5, 6, 7, 8, 1, 2, 3, 4, 5, 6, 7, 8, 1, 2, 3, 4, 5, 6, 7, 8, 1, 2, 3, 4, 5, 6, 7, 8, 1, 2, 3, 4, 5, 6, 7, 8, 1, 2, 3, 4, 5, 6, 7, 8, 1, 2, 3, 4, 5, 6, 7, 8, 1, 2, 3, 4, 5, 6, 7, 8, 1, 2, 3, 4, 5, 6, 7, 8, 1, 2, 3, 4, 5, 6, 7, 8, 1, 2, 3, 4, 5, 6, 7, 8, 1, 2, 3, 4, 5, 6, 7, 8, 1, 2, 3, 4, 5, 6, 7, 8, 1, 2, 3, 4, 5, 6, 7, 8, 1, 2, 3, 4, 5, 6, 7, 8, 1, 2, 3, 4, 5, 6, 7, 8, 1, 2, 3, 4, 5, 6, 7, 8, 1, 2, 3, 4, 5, 6, 7, 8, 1, 2, 3, 4, 5, 6, 7, 8, 1, 2, 3, 4, 5, 6, 7, 8, 1, 2, 3, 4, 5, 6, 7, 8, 1, 2, 3, 4, 5, 6, 7, 8, 1, 2, 3, 4, 5, 6, 7, 8, 1, 2, 3, 4, 5, 6, 7, 8, 1, 2, 3, 4, 5, 6, 7, 8, 1, 2, 3, 4, 5, 6, 7, 8, 1, 2, 3, 4, 5, 6, 7, 8, 1, 2, 3, 4, 5, 6, 7, 8, 1, 2, 3, 4, 5, 6, 7, 8, 1, 2, 3, 4, 5, 6, 7, 8, 1, 2, 3, 4, 5, 6, 7, 8, 1, 2, 3, 4, 5, 6, 7, 8, 1, 2, 3, 4, 5, 6, 7, 8, 1, 2, 3, 4, 5, 6, 7, 8, 1, 2, 3, 4, 5, 6, 7, 8, 1, 2, 3, 4, 5, 6, 7, 8, 1, 2, 3, 4, 5, 6, 7, 8, 1, 2, 3, 4, 5, 6, 7, 8, 1, 2, 3, 4, 5, 6, 7, 8, 1, 2, 3, 4, 5, 6, 7, 8, 1, 2, 3, 4, 5, 6, 7, 8, 1, 2, 3, 4, 5, 6, 7, 8, 1, 2, 3, 4, 5, 6, 7, 8, 1, 2, 3, 4, 5, 6, 7, 8, 1, 2, 3, 4, 5, 6, 7, 8, 1, 2, 3, 4, 5, 6, 7, 8, 1, 2, 3, 4, 5, 6, 7, 8, 1, 2, 3, 4, 5, 6, 7, 8, 1, 2, 3, 4, 5, 6, 7, 8, 1, 2, 3, 4, 5, 6, 7, 8, 1, 2, 3, 4, 5, 6, 7, 8, 1, 2, 3, 4, 5, 6, 7, 8, 1, 2, 3, 4, 5, 6, 7, 8, 1, 2, 3, 4, 5, 6, 7, 8, 1, 2, 3, 4, 5, 6, 7, 8, 1, 2, 3, 4, 5, 6, 7, 8, 1, 2, 3, 4, 5, 6, 7, 8, 1, 2, 3, 4, 5, 6, 7, 8, 1, 2, 3, 4, 5, 6, 7, 8, 1, 2, 3, 4, 5, 6, 7, 8], \"Freq\": [0.18252915143966675, 0.14348870515823364, 0.13400666415691376, 0.11168742179870605, 0.13373315334320068, 0.10844164341688156, 0.07733327895402908, 0.10878810286521912, 0.15048666298389435, 0.13119803369045258, 0.1234825849533081, 0.13498497009277344, 0.1198372170329094, 0.09626615792512894, 0.1347726285457611, 0.10897187888622284, 0.14586584270000458, 0.1378454864025116, 0.11549310386180878, 0.09596528112888336, 0.1212817057967186, 0.14150695502758026, 0.12089812755584717, 0.12110735476016998, 0.13549154996871948, 0.1464279294013977, 0.1207573190331459, 0.11432208865880966, 0.11140337586402893, 0.15507856011390686, 0.11991335451602936, 0.09659882634878159, 0.12990136444568634, 0.13478460907936096, 0.12254110723733902, 0.1303613781929016, 0.15081438422203064, 0.13559848070144653, 0.08630602806806564, 0.10973144322633743, 0.10936703532934189, 0.11420074850320816, 0.13190117478370667, 0.1353786587715149, 0.14375941455364227, 0.15057528018951416, 0.11065370589494705, 0.10418558120727539, 0.12906157970428467, 0.13516536355018616, 0.14398586750030518, 0.1342480331659317, 0.11290241777896881, 0.10566960275173187, 0.13227224349975586, 0.10672806203365326, 0.16719239950180054, 0.12233415991067886, 0.11919372528791428, 0.13067296147346497, 0.12543295323848724, 0.12051413208246231, 0.08913359045982361, 0.12552812695503235, 0.14902107417583466, 0.09777448326349258, 0.10370756685733795, 0.13448327779769897, 0.12986865639686584, 0.13708551228046417, 0.12737052142620087, 0.12067411094903946, 0.1735251247882843, 0.14385446906089783, 0.12061066925525665, 0.13767753541469574, 0.09197545051574707, 0.06837461143732071, 0.12332423031330109, 0.14067673683166504, 0.17572611570358276, 0.11874162405729294, 0.13051171600818634, 0.13406428694725037, 0.10969874262809753, 0.10693564265966415, 0.11102646589279175, 0.11332307755947113, 0.13475902378559113, 0.1496932953596115, 0.12382125109434128, 0.09819459915161133, 0.12420687824487686, 0.14744965732097626, 0.09808942675590515, 0.12375114113092422, 0.1522335410118103, 0.13997945189476013, 0.13548386096954346, 0.14139337837696075, 0.15125465393066406, 0.09223198890686035, 0.0984315425157547, 0.08900532126426697, 0.11095491796731949, 0.11274562776088715, 0.13333874940872192, 0.12607261538505554, 0.12204352766275406, 0.15331201255321503, 0.12070049345493317, 0.1208382397890091, 0.17379896342754364, 0.1520518958568573, 0.08833862841129303, 0.13449786603450775, 0.11051212251186371, 0.0921408161520958, 0.11936020106077194, 0.12927430868148804, 0.17105257511138916, 0.1631505936384201, 0.10189209133386612, 0.13995210826396942, 0.12364067137241364, 0.10069591552019119, 0.11073651164770126, 0.08887919038534164, 0.15531976521015167, 0.13103988766670227, 0.14300130307674408, 0.11493662744760513, 0.11372262984514236, 0.13207535445690155, 0.10069005191326141, 0.10922371596097946, 0.13139696419239044, 0.1422998160123825, 0.1501428335905075, 0.10923954844474792, 0.11483165621757507, 0.10512460023164749, 0.11771563440561295, 0.12925155460834503, 0.15186868607997894, 0.14719931781291962, 0.11736205220222473, 0.1340721845626831, 0.09232844412326813, 0.1376630961894989, 0.12237904220819473, 0.09712421894073486, 0.1627991497516632, 0.10227260738611221, 0.12337295711040497, 0.10784496366977692, 0.14293450117111206, 0.09870536625385284, 0.1315682977437973, 0.1305074393749237, 0.08587344735860825, 0.11409476399421692, 0.11849594861268997, 0.15743465721607208, 0.10159675031900406, 0.11812638491392136, 0.1588457226753235, 0.1455077826976776, 0.13610048592090607, 0.12807610630989075, 0.12434303015470505, 0.12980309128761292, 0.10000821948051453, 0.1342514008283615, 0.11593487113714218, 0.13149519264698029, 0.11546716839075089, 0.12588240206241608, 0.1297232210636139, 0.12688586115837097, 0.12529416382312775, 0.12332183867692947, 0.14186856150627136, 0.11152252554893494, 0.11181648075580597, 0.14986075460910797, 0.12650424242019653, 0.1399109810590744, 0.1368400603532791, 0.10686791688203812, 0.10420060157775879, 0.12397731095552444, 0.1596868336200714, 0.1553979516029358, 0.14023135602474213, 0.11799857765436172, 0.12036361545324326, 0.10380837321281433, 0.09905660897493362, 0.10345397889614105, 0.1338442862033844, 0.1586540937423706, 0.09432411193847656, 0.1387009173631668, 0.11522521823644638, 0.13081327080726624, 0.11421877890825272, 0.11421877890825272, 0.15549008548259735, 0.10169313848018646, 0.10290089249610901, 0.11490944772958755, 0.11894680559635162, 0.13965120911598206, 0.15103863179683685, 0.11532353609800339, 0.14111952483654022, 0.11558930575847626, 0.12156745791435242, 0.15082523226737976, 0.11263539642095566, 0.12441586703062057, 0.11059579253196716, 0.12322024255990982, 0.12238374352455139, 0.1172059029340744, 0.15050964057445526, 0.12345805764198303, 0.15711402893066406, 0.11278536170721054, 0.09691721200942993, 0.11965392529964447, 0.10527781397104263, 0.11856766045093536, 0.14077523350715637, 0.15017876029014587, 0.1264791041612625, 0.10624939203262329, 0.13071243464946747, 0.1217947006225586, 0.13922995328903198, 0.14941665530204773, 0.08304762095212936, 0.12234417349100113, 0.11409120261669159, 0.12652245163917542, 0.1265915185213089, 0.13874651491641998, 0.1358056217432022, 0.1488533765077591, 0.11887168139219284, 0.1056656688451767, 0.13817954063415527, 0.13320310413837433, 0.10538432002067566, 0.11401834338903427, 0.13698002696037292, 0.13733527064323425, 0.13925355672836304, 0.11069236695766449, 0.1483476608991623, 0.11914704740047455, 0.12326781451702118, 0.08497308939695358, 0.1832008808851242, 0.12583604454994202, 0.12122949212789536, 0.11642999202013016, 0.1363394558429718, 0.13117820024490356, 0.08882685750722885, 0.0969667062163353, 0.15414544939994812, 0.117160364985466, 0.13016650080680847, 0.11863275617361069, 0.0992112010717392, 0.12645044922828674, 0.14450478553771973, 0.10976334661245346, 0.13064053654670715, 0.11425404995679855, 0.13688962161540985, 0.12758542597293854, 0.10383891314268112, 0.12994618713855743, 0.12258616089820862, 0.13425111770629883, 0.13413643836975098, 0.16438564658164978, 0.11962666362524033, 0.11411083489656448, 0.10915713012218475, 0.11555127054452896, 0.11393517255783081, 0.12911248207092285, 0.1445010006427765, 0.15409427881240845, 0.12227007746696472, 0.10460569709539413, 0.12304886430501938, 0.13034117221832275, 0.1388016641139984, 0.08226857334375381, 0.1609010398387909, 0.12897111475467682, 0.11184410005807877, 0.13294000923633575, 0.1426655799150467, 0.11999641358852386, 0.10841154307126999, 0.09425225108861923, 0.13571518659591675, 0.1279412806034088, 0.09812401980161667, 0.12279322743415833, 0.14711692929267883, 0.10092262178659439, 0.13226011395454407, 0.13512782752513885, 0.15226313471794128, 0.13437247276306152, 0.09001345187425613, 0.12414924800395966, 0.12162844836711884, 0.15296335518360138, 0.10328265279531479, 0.12131334841251373, 0.14856664836406708, 0.10851166397333145, 0.11353790014982224, 0.10975100845098495, 0.1093895360827446, 0.14142319560050964, 0.1074100211262703, 0.16139043867588043, 0.18079505860805511, 0.12870584428310394, 0.14084313809871674, 0.1055871993303299, 0.11534038186073303, 0.12848910689353943, 0.09540054947137833, 0.10486474633216858, 0.13210071623325348, 0.14195528626441956, 0.13623327016830444, 0.10585717111825943, 0.14997315406799316, 0.11472275853157043, 0.12065669149160385, 0.09843975305557251, 0.16003017127513885, 0.13866665959358215, 0.11248833686113358, 0.1412702202796936, 0.11951439827680588, 0.09886419028043747, 0.11366529017686844, 0.11544855684041977, 0.10992985963821411, 0.10909123718738556, 0.16402122378349304, 0.14218200743198395, 0.10884663462638855, 0.1295676827430725, 0.1352633535861969, 0.10108934342861176, 0.13471290469169617, 0.12775279581546783, 0.12218470871448517, 0.11825224757194519, 0.12538635730743408, 0.12329832464456558, 0.1028704047203064, 0.14550107717514038, 0.17981357872486115, 0.09013855457305908, 0.1491136997938156, 0.10707519203424454, 0.12490322440862656, 0.122835174202919, 0.12126630544662476, 0.10486451536417007, 0.14900265634059906, 0.13905489444732666, 0.14950183033943176, 0.1253276765346527, 0.0992281436920166, 0.10104655474424362, 0.13146035373210907, 0.10536082088947296, 0.13388942182064056, 0.16049405932426453, 0.12052522599697113, 0.13670013844966888, 0.09924151003360748, 0.10956517606973648, 0.15144318342208862, 0.08812236040830612, 0.18289819359779358, 0.10415679961442947, 0.10344388335943222, 0.1465752124786377, 0.12935832142829895, 0.10044964402914047, 0.11096513271331787, 0.12215788662433624, 0.14191298186779022, 0.16147002577781677, 0.12210703641176224, 0.11275521665811539, 0.13195666670799255, 0.1129685640335083, 0.11325303465127945, 0.10354562848806381, 0.1532851755619049, 0.16470153629779816, 0.12035197764635086, 0.10548580437898636, 0.11448375135660172, 0.11419922858476639, 0.11110507696866989, 0.11636869609355927, 0.16077175736427307, 0.11729740351438522, 0.0958380177617073, 0.12170734256505966, 0.1352149397134781, 0.08781679719686508, 0.13472880423069, 0.14663910865783691, 0.18293260037899017, 0.13329945504665375, 0.10955873876810074, 0.13125531375408173, 0.11102908104658127, 0.0957159623503685, 0.14742912352085114, 0.08879457414150238, 0.1207139641046524, 0.14475329220294952, 0.111056849360466, 0.12395599484443665, 0.12057600170373917, 0.10953930020332336, 0.11781682819128036, 0.15154775977134705, 0.13434699177742004, 0.13871118426322937, 0.1337534636259079, 0.10330893099308014, 0.12387295812368393, 0.11092006415128708, 0.13710516691207886, 0.11797258257865906, 0.14177414774894714, 0.13432922959327698, 0.14644058048725128, 0.11666089296340942, 0.12275218963623047, 0.13140825927257538, 0.11260002106428146, 0.0940055251121521, 0.16673167049884796, 0.11619827151298523, 0.13222193717956543, 0.14928051829338074, 0.08928994834423065, 0.10848978906869888, 0.12526288628578186, 0.11252246797084808, 0.14359979331493378, 0.13993732631206512, 0.14124031364917755, 0.10674020648002625, 0.10863014310598373, 0.11310259997844696, 0.121296226978302, 0.1254517287015915, 0.1718108057975769, 0.12781265377998352, 0.11395377665758133, 0.12917977571487427, 0.1218169704079628, 0.11646463721990585, 0.11274749040603638, 0.10619781166315079, 0.10974318534135818, 0.13660429418087006, 0.11626653373241425, 0.17147591710090637, 0.1260230392217636, 0.12119743227958679, 0.09642888605594635, 0.12226784229278564, 0.13175241649150848, 0.1303909420967102, 0.12003342807292938, 0.11007228493690491, 0.12506569921970367, 0.1012658178806305, 0.13662958145141602, 0.1447983980178833, 0.16705399751663208, 0.09403187781572342, 0.13156694173812866, 0.1311432123184204, 0.11659529060125351, 0.11292299628257751, 0.14240726828575134, 0.10430723428726196, 0.12622104585170746, 0.15031778812408447, 0.16276060044765472, 0.1500309258699417, 0.08103964477777481, 0.11872667074203491, 0.11725648492574692, 0.09369760751724243, 0.1625722199678421, 0.14994138479232788, 0.1335466355085373, 0.13227993249893188, 0.1129898652434349, 0.10973262786865234, 0.08856060355901718, 0.11038407683372498, 0.10572800785303116, 0.1363435536623001, 0.1395442634820938, 0.12079224735498428, 0.15297336876392365, 0.1035362109541893, 0.12103577703237534, 0.12006165087223053, 0.10754161328077316, 0.13918378949165344, 0.11503397673368454, 0.1454913169145584, 0.12332785874605179, 0.15786243975162506, 0.10698404163122177, 0.10454466193914413, 0.16978901624679565, 0.13914260268211365, 0.10388313233852386, 0.12773512303829193, 0.1381770819425583, 0.09927007555961609, 0.12752056121826172, 0.09447821974754333, 0.16333618760108948, 0.12837888300418854, 0.10576365888118744, 0.1183554157614708, 0.13743925094604492, 0.16529807448387146, 0.09295786917209625, 0.0884990319609642, 0.17015613615512848, 0.13534198701381683, 0.0933191329240799, 0.130353182554245, 0.15865087509155273, 0.10896580666303635, 0.10377412289381027, 0.09944174438714981, 0.14563831686973572, 0.16061820089817047, 0.13427084684371948, 0.1422954648733139, 0.10574885457754135, 0.09019385278224945, 0.11614581197500229, 0.1050838753581047, 0.12707452476024628, 0.08867345005273819, 0.13946197926998138, 0.13151335716247559, 0.1184721365571022, 0.12449381500482559, 0.143315851688385, 0.1270057111978531, 0.10992220044136047, 0.1386510729789734, 0.15180234611034393, 0.13165345788002014, 0.11628685891628265, 0.13147763907909393, 0.1256052851676941, 0.09462592750787735, 0.1747545748949051, 0.12595343589782715, 0.11601445078849792, 0.12409434467554092, 0.0943131297826767, 0.16031087934970856, 0.13149495422840118, 0.07304083555936813, 0.15188993513584137, 0.11578091979026794, 0.12228546291589737, 0.13395848870277405, 0.12246126681566238, 0.1012951210141182, 0.1372283399105072, 0.11514804512262344, 0.1412200927734375, 0.12695790827274323, 0.11861786991357803, 0.1508917361497879, 0.09338748455047607, 0.11493843793869019, 0.11567432433366776, 0.13831159472465515, 0.1369539201259613, 0.11172830313444138, 0.1280711591243744, 0.11849445104598999, 0.14430993795394897, 0.08799470961093903, 0.14351187646389008, 0.12893861532211304, 0.11358112841844559, 0.14012998342514038, 0.1310202032327652, 0.14294913411140442, 0.09835542738437653, 0.14426550269126892, 0.1269662231206894, 0.10274723172187805, 0.1304246336221695, 0.15066172182559967, 0.12734122574329376, 0.1311689168214798, 0.11312919855117798, 0.13981662690639496, 0.11210139840841293, 0.09533757716417313, 0.1175917387008667, 0.14275074005126953, 0.10056737065315247, 0.12449073046445847, 0.13688145577907562, 0.10804985463619232, 0.10365647077560425, 0.16602195799350739, 0.12421587854623795, 0.1595420390367508, 0.1446378231048584, 0.12130550295114517, 0.10587982088327408, 0.09440040588378906, 0.12309542298316956, 0.1269218921661377, 0.15627899765968323, 0.1394808441400528, 0.10978537797927856, 0.12159328162670135, 0.08901612460613251, 0.14148397743701935, 0.12574011087417603, 0.1166381761431694, 0.10638634860515594, 0.1505453884601593, 0.15334272384643555, 0.12448979914188385, 0.1256861388683319, 0.11662561446428299, 0.10839197784662247, 0.11453201621770859, 0.11649412661790848, 0.14684846997261047, 0.12486714124679565, 0.10643957555294037, 0.12458977103233337, 0.14064238965511322, 0.12710341811180115, 0.11300970613956451, 0.13356254994869232, 0.13907788693904877, 0.1303657591342926, 0.10995548963546753, 0.13661880791187286, 0.11768399178981781, 0.12688793241977692, 0.10581020265817642, 0.1310865730047226, 0.14492109417915344, 0.1714402437210083, 0.11955181509256363, 0.12289366126060486, 0.11132296919822693, 0.09314046055078506, 0.10560949146747589, 0.10534587502479553, 0.122322678565979, 0.135055273771286, 0.14651116728782654, 0.12073541432619095, 0.10372410714626312, 0.12880975008010864, 0.1375051736831665, 0.10872659087181091, 0.119870126247406, 0.13780264556407928, 0.12333319336175919, 0.11092101037502289, 0.13303664326667786, 0.12408751994371414, 0.14222577214241028, 0.15529382228851318, 0.12022408097982407, 0.12803882360458374, 0.0980793833732605, 0.1309364140033722, 0.125176340341568, 0.15864801406860352, 0.0836089476943016, 0.15765658020973206, 0.13711409270763397, 0.11157668381929398, 0.08931059390306473, 0.1388728767633438, 0.13999848067760468, 0.1258227527141571, 0.09965218603610992, 0.1896696239709854, 0.10471194982528687, 0.1345759779214859, 0.11276396363973618, 0.11954554915428162, 0.10073962807655334, 0.12330315262079239, 0.11467855423688889, 0.13416866958141327, 0.129097118973732, 0.10310980677604675, 0.12808281183242798, 0.15197154879570007, 0.1357775628566742, 0.09100804477930069, 0.1267886906862259, 0.14078153669834137, 0.13605590164661407, 0.15072651207447052, 0.09024547785520554, 0.121526338160038, 0.1391240358352661, 0.0896812230348587, 0.1317887157201767, 0.11949170380830765, 0.14767304062843323, 0.12953653931617737, 0.13421016931533813, 0.09908812493085861, 0.11593415588140488, 0.12897849082946777, 0.1251419186592102, 0.11851737648248672, 0.09487629681825638, 0.14423832297325134, 0.1277380883693695, 0.13037258386611938, 0.15245376527309418, 0.1414651721715927, 0.09036993235349655, 0.11565163731575012, 0.11931653320789337, 0.11693089455366135, 0.12246280908584595, 0.1445213258266449, 0.1575213372707367, 0.1154787689447403, 0.1081489771604538, 0.12753143906593323, 0.15450991690158844, 0.11346930265426636, 0.09555310010910034, 0.1328090876340866, 0.13381600379943848, 0.11451094597578049, 0.12780921161174774, 0.13281136751174927, 0.12814271450042725, 0.13977932929992676, 0.10810254514217377, 0.11663450300693512, 0.14589525759220123, 0.11690294742584229, 0.1117207482457161, 0.16324715316295624, 0.14129528403282166, 0.1047910675406456, 0.11261340230703354, 0.10331116616725922, 0.1348119080066681, 0.1340719610452652, 0.1058129072189331, 0.13587740063667297, 0.12014497816562653, 0.13171501457691193, 0.14420218765735626, 0.13488972187042236, 0.09774566441774368, 0.11157327145338058, 0.12381352484226227, 0.17099221050739288, 0.14537379145622253, 0.14601781964302063, 0.08715986460447311, 0.11463884264230728, 0.10131082683801651, 0.10848469287157059, 0.12601685523986816, 0.14758986234664917, 0.10111282765865326, 0.11300230026245117, 0.14504460990428925, 0.116419218480587, 0.1265304982662201, 0.12848302721977234, 0.12178865820169449, 0.15106657147407532, 0.07632837444543839, 0.10004271566867828, 0.1298757791519165, 0.1535901129245758, 0.15279503166675568, 0.12562379240989685, 0.11068997532129288, 0.1518547683954239, 0.147577166557312, 0.10027405619621277, 0.14141030609607697, 0.14568789303302765, 0.10148604214191437, 0.07713937014341354, 0.13453049957752228, 0.1475660502910614, 0.14852173626422882, 0.10502002388238907, 0.14586703479290009, 0.11418759077787399, 0.09556928277015686, 0.1405930370092392, 0.102683886885643, 0.12641043961048126, 0.12150232493877411, 0.1527165323495865, 0.14847929775714874, 0.10098711401224136, 0.11705324053764343, 0.1258101612329483, 0.1070251539349556, 0.11233390867710114, 0.1452759951353073, 0.11733035743236542, 0.12763337790966034, 0.13321560621261597, 0.08287210017442703, 0.1437598317861557, 0.13755734264850616, 0.11489351838827133, 0.13551907241344452, 0.17386415600776672, 0.12836037576198578, 0.11088889837265015, 0.11056994646787643, 0.14111843705177307, 0.08477029204368591, 0.15961599349975586, 0.1256272941827774, 0.14246249198913574, 0.09662549942731857, 0.12148923426866531, 0.11208133399486542, 0.1271127611398697, 0.1149815171957016, 0.14621813595294952, 0.11695277690887451, 0.16389325261116028, 0.15342582762241364, 0.12673205137252808, 0.0980461984872818, 0.11532290279865265, 0.07942937314510345, 0.17043450474739075, 0.11249461024999619, 0.14125075936317444, 0.1183028519153595, 0.11498894542455673, 0.11231644451618195, 0.08448676764965057, 0.14570492506027222, 0.1264084428548813, 0.12333206087350845, 0.13832224905490875, 0.10804229229688644, 0.10477003455162048, 0.13629436492919922, 0.15807105600833893, 0.10475850850343704, 0.13188011944293976, 0.12931260466575623, 0.12344895303249359, 0.12653692066669464, 0.10464363545179367, 0.12108961492776871, 0.125218465924263, 0.1378825604915619, 0.14364291727542877, 0.16132503747940063, 0.12919577956199646, 0.08910691738128662, 0.12892252206802368, 0.1061808168888092, 0.11972006410360336, 0.12189727276563644, 0.12496786564588547, 0.12770414352416992, 0.14353293180465698, 0.11475014686584473, 0.09971798211336136, 0.11786741763353348, 0.15125684440135956, 0.12022268772125244, 0.1545679122209549, 0.14498506486415863, 0.1564844846725464, 0.08365478366613388, 0.11208392679691315, 0.10636970400810242, 0.11006087809801102, 0.1318175047636032, 0.11065281927585602, 0.15668776631355286, 0.10801320523023605, 0.14303214848041534, 0.12958768010139465, 0.16573286056518555, 0.0962229073047638, 0.09009899199008942, 0.1053043082356453, 0.12280890345573425, 0.13142281770706177, 0.13962161540985107, 0.13152660429477692, 0.12727153301239014, 0.11481767147779465, 0.12723694741725922, 0.1636856496334076, 0.11621539294719696, 0.13770267367362976, 0.11409144848585129, 0.11083472520112991, 0.11674638092517853, 0.11479942500591278, 0.12587936222553253, 0.17818833887577057, 0.11444441974163055, 0.12265495210886002, 0.11956477165222168, 0.1434417963027954, 0.12245732545852661, 0.09155553579330444, 0.10770710557699203, 0.15023423731327057, 0.13912151753902435, 0.10688042640686035, 0.12234623730182648, 0.14460709691047668, 0.11739151924848557, 0.11572814732789993, 0.10369525104761124, 0.14614513516426086, 0.13106216490268707, 0.16034087538719177, 0.09560830146074295, 0.1269453912973404, 0.10987502336502075, 0.11353042721748352, 0.11647604405879974, 0.14781105518341064, 0.14777524769306183, 0.12743690609931946, 0.12285361438989639, 0.1388235092163086, 0.11436736583709717, 0.09567614644765854, 0.10523659735918045, 0.1451600193977356, 0.13169661164283752, 0.10861648619174957, 0.12344372272491455, 0.13348007202148438, 0.10865145921707153, 0.11102940887212753, 0.1379212588071823, 0.10854066163301468, 0.08444762974977493, 0.16684508323669434, 0.11582784354686737, 0.20845524966716766, 0.0901867225766182, 0.10110006481409073, 0.12459337711334229, 0.12148752808570862, 0.1276923567056656, 0.1576235443353653, 0.10685685276985168, 0.1394321471452713, 0.1442972868680954, 0.08235486596822739, 0.12028887122869492, 0.1259068101644516, 0.1741458922624588, 0.10059184581041336, 0.1260826140642166, 0.11592146009206772, 0.13532960414886475, 0.1303720921278, 0.09166128188371658, 0.15753312408924103, 0.1277807652950287, 0.08943250775337219, 0.12441258132457733, 0.16055046021938324, 0.09409885108470917, 0.12792110443115234, 0.11827264726161957, 0.143642395734787, 0.14729341864585876, 0.13802270591259003, 0.15198247134685516, 0.088411845266819, 0.10587944835424423, 0.11894435435533524, 0.10580785572528839, 0.14703871309757233, 0.16339628398418427, 0.11819774657487869, 0.1438102424144745, 0.1154714897274971, 0.09549086540937424, 0.10693398863077164, 0.10969612002372742, 0.139613077044487, 0.13968467712402344, 0.1325250267982483, 0.1294463872909546, 0.15257203578948975, 0.11283600330352783, 0.09529487788677216, 0.0980871394276619, 0.1545918732881546, 0.14470823109149933, 0.16393069922924042, 0.10829345881938934, 0.10753792524337769, 0.09856400638818741, 0.12223232537508011, 0.10014189779758453, 0.1493067741394043, 0.11121369153261185, 0.10511740297079086, 0.1287013292312622, 0.12450359761714935, 0.1405455470085144, 0.1150108054280281, 0.1256009340286255, 0.12354390323162079, 0.10849711298942566, 0.13744129240512848, 0.13569976389408112, 0.12364839762449265, 0.13698849081993103, 0.10752185434103012, 0.1266438215970993, 0.11183711141347885, 0.12381716072559357, 0.14362092316150665, 0.1501173973083496, 0.10984625667333603, 0.1207086369395256, 0.11938139796257019, 0.1207086369395256, 0.10247118026018143, 0.16791553795337677, 0.1549316644668579, 0.12731903791427612, 0.08598759770393372, 0.1038360595703125, 0.15024206042289734, 0.1073007583618164, 0.1427760273218155, 0.1380675733089447, 0.11728662997484207, 0.14946699142456055, 0.11852569878101349, 0.0940275564789772, 0.1267743557691574, 0.11310920119285583, 0.15682455897331238, 0.11531113088130951, 0.12903107702732086, 0.1326024979352951, 0.11269444227218628, 0.12160532921552658, 0.08384013921022415, 0.14812582731246948, 0.19216307997703552, 0.14061902463436127, 0.11595378071069717, 0.10399158298969269, 0.11439978331327438, 0.13185518980026245, 0.09990781545639038, 0.10110945999622345, 0.13929128646850586, 0.10864534229040146, 0.13187994062900543, 0.1103905513882637, 0.12971587479114532, 0.15521927177906036, 0.11125152558088303, 0.11360174417495728, 0.1281377077102661, 0.13126301765441895, 0.14822396636009216, 0.12325660139322281, 0.1301744282245636, 0.08677124232053757, 0.10959654301404953, 0.14253519475460052, 0.14877797663211823, 0.11606842279434204, 0.1232791543006897, 0.11268948018550873, 0.11457054316997528, 0.131743922829628, 0.12084074318408966, 0.13205744326114655], \"Term\": [\"aa\", \"aa\", \"aa\", \"aa\", \"aa\", \"aa\", \"aa\", \"aa\", \"aaa\", \"aaa\", \"aaa\", \"aaa\", \"aaa\", \"aaa\", \"aaa\", \"aaa\", \"able\", \"able\", \"able\", \"able\", \"able\", \"able\", \"able\", \"able\", \"absolutely\", \"absolutely\", \"absolutely\", \"absolutely\", \"absolutely\", \"absolutely\", \"absolutely\", \"absolutely\", \"advertising\", \"advertising\", \"advertising\", \"advertising\", \"advertising\", \"advertising\", \"advertising\", \"advertising\", \"allows\", \"allows\", \"allows\", \"allows\", \"allows\", \"allows\", \"allows\", \"allows\", \"amazed\", \"amazed\", \"amazed\", \"amazed\", \"amazed\", \"amazed\", \"amazed\", \"amazed\", \"amazon\", \"amazon\", \"amazon\", \"amazon\", \"amazon\", \"amazon\", \"amazon\", \"amazon\", \"amazonbasics\", \"amazonbasics\", \"amazonbasics\", \"amazonbasics\", \"amazonbasics\", \"amazonbasics\", \"amazonbasics\", \"amazonbasics\", \"amd\", \"amd\", \"amd\", \"amd\", \"amd\", \"amd\", \"amd\", \"amd\", \"app\", \"app\", \"app\", \"app\", \"app\", \"app\", \"app\", \"app\", \"apps\", \"apps\", \"apps\", \"apps\", \"apps\", \"apps\", \"apps\", \"apps\", \"area\", \"area\", \"area\", \"area\", \"area\", \"area\", \"area\", \"area\", \"awesome\", \"awesome\", \"awesome\", \"awesome\", \"awesome\", \"awesome\", \"awesome\", \"awesome\", \"bad\", \"bad\", \"bad\", \"bad\", \"bad\", \"bad\", \"bad\", \"bad\", \"basic\", \"basic\", \"basic\", \"basic\", \"basic\", \"basic\", \"basic\", \"basic\", \"basics\", \"basics\", \"basics\", \"basics\", \"basics\", \"basics\", \"basics\", \"basics\", \"batterie\", \"batterie\", \"batterie\", \"batterie\", \"batterie\", \"batterie\", \"batterie\", \"batterie\", \"batteries\", \"batteries\", \"batteries\", \"batteries\", \"batteries\", \"batteries\", \"batteries\", \"batteries\", \"battery\", \"battery\", \"battery\", \"battery\", \"battery\", \"battery\", \"battery\", \"battery\", \"begin\", \"begin\", \"begin\", \"begin\", \"begin\", \"begin\", \"begin\", \"begin\", \"better\", \"better\", \"better\", \"better\", \"better\", \"better\", \"better\", \"better\", \"black\", \"black\", \"black\", \"black\", \"black\", \"black\", \"black\", \"black\", \"books\", \"books\", \"books\", \"books\", \"books\", \"books\", \"books\", \"books\", \"bought\", \"bought\", \"bought\", \"bought\", \"bought\", \"bought\", \"bought\", \"bought\", \"brand\", \"brand\", \"brand\", \"brand\", \"brand\", \"brand\", \"brand\", \"brand\", \"browsing\", \"browsing\", \"browsing\", \"browsing\", \"browsing\", \"browsing\", \"browsing\", \"browsing\", \"bulk\", \"bulk\", \"bulk\", \"bulk\", \"bulk\", \"bulk\", \"bulk\", \"bulk\", \"buy\", \"buy\", \"buy\", \"buy\", \"buy\", \"buy\", \"buy\", \"buy\", \"card\", \"card\", \"card\", \"card\", \"card\", \"card\", \"card\", \"card\", \"chance\", \"chance\", \"chance\", \"chance\", \"chance\", \"chance\", \"chance\", \"chance\", \"cheap\", \"cheap\", \"cheap\", \"cheap\", \"cheap\", \"cheap\", \"cheap\", \"cheap\", \"check\", \"check\", \"check\", \"check\", \"check\", \"check\", \"check\", \"check\", \"christmas\", \"christmas\", \"christmas\", \"christmas\", \"christmas\", \"christmas\", \"christmas\", \"christmas\", \"clarity\", \"clarity\", \"clarity\", \"clarity\", \"clarity\", \"clarity\", \"clarity\", \"clarity\", \"classes\", \"classes\", \"classes\", \"classes\", \"classes\", \"classes\", \"classes\", \"classes\", \"comment\", \"comment\", \"comment\", \"comment\", \"comment\", \"comment\", \"comment\", \"comment\", \"dad\", \"dad\", \"dad\", \"dad\", \"dad\", \"dad\", \"dad\", \"dad\", \"day\", \"day\", \"day\", \"day\", \"day\", \"day\", \"day\", \"day\", \"dollars\", \"dollars\", \"dollars\", \"dollars\", \"dollars\", \"dollars\", \"dollars\", \"dollars\", \"dtype\", \"dtype\", \"dtype\", \"dtype\", \"dtype\", \"dtype\", \"dtype\", \"dtype\", \"duracell\", \"duracell\", \"duracell\", \"duracell\", \"duracell\", \"duracell\", \"duracell\", \"duracell\", \"easy\", \"easy\", \"easy\", \"easy\", \"easy\", \"easy\", \"easy\", \"easy\", \"em\", \"em\", \"em\", \"em\", \"em\", \"em\", \"em\", \"em\", \"equal\", \"equal\", \"equal\", \"equal\", \"equal\", \"equal\", \"equal\", \"equal\", \"expectionations\", \"expectionations\", \"expectionations\", \"expectionations\", \"expectionations\", \"expectionations\", \"expectionations\", \"expectionations\", \"expensive\", \"expensive\", \"expensive\", \"expensive\", \"expensive\", \"expensive\", \"expensive\", \"expensive\", \"facebo\", \"facebo\", \"facebo\", \"facebo\", \"facebo\", \"facebo\", \"facebo\", \"facebo\", \"far\", \"far\", \"far\", \"far\", \"far\", \"far\", \"far\", \"far\", \"fast\", \"fast\", \"fast\", \"fast\", \"fast\", \"fast\", \"fast\", \"fast\", \"fine\", \"fine\", \"fine\", \"fine\", \"fine\", \"fine\", \"fine\", \"fine\", \"fish\", \"fish\", \"fish\", \"fish\", \"fish\", \"fish\", \"fish\", \"fish\", \"fo\", \"fo\", \"fo\", \"fo\", \"fo\", \"fo\", \"fo\", \"fo\", \"friday\", \"friday\", \"friday\", \"friday\", \"friday\", \"friday\", \"friday\", \"friday\", \"games\", \"games\", \"games\", \"games\", \"games\", \"games\", \"games\", \"games\", \"gaming\", \"gaming\", \"gaming\", \"gaming\", \"gaming\", \"gaming\", \"gaming\", \"gaming\", \"getting\", \"getting\", \"getting\", \"getting\", \"getting\", \"getting\", \"getting\", \"getting\", \"gif\", \"gif\", \"gif\", \"gif\", \"gif\", \"gif\", \"gif\", \"gif\", \"gifts\", \"gifts\", \"gifts\", \"gifts\", \"gifts\", \"gifts\", \"gifts\", \"gifts\", \"good\", \"good\", \"good\", \"good\", \"good\", \"good\", \"good\", \"good\", \"got\", \"got\", \"got\", \"got\", \"got\", \"got\", \"got\", \"got\", \"great\", \"great\", \"great\", \"great\", \"great\", \"great\", \"great\", \"great\", \"hd\", \"hd\", \"hd\", \"hd\", \"hd\", \"hd\", \"hd\", \"hd\", \"high\", \"high\", \"high\", \"high\", \"high\", \"high\", \"high\", \"high\", \"hold\", \"hold\", \"hold\", \"hold\", \"hold\", \"hold\", \"hold\", \"hold\", \"internet\", \"internet\", \"internet\", \"internet\", \"internet\", \"internet\", \"internet\", \"internet\", \"item\", \"item\", \"item\", \"item\", \"item\", \"item\", \"item\", \"item\", \"job\", \"job\", \"job\", \"job\", \"job\", \"job\", \"job\", \"job\", \"jui\", \"jui\", \"jui\", \"jui\", \"jui\", \"jui\", \"jui\", \"jui\", \"keeping\", \"keeping\", \"keeping\", \"keeping\", \"keeping\", \"keeping\", \"keeping\", \"keeping\", \"kids\", \"kids\", \"kids\", \"kids\", \"kids\", \"kids\", \"kids\", \"kids\", \"kindle\", \"kindle\", \"kindle\", \"kindle\", \"kindle\", \"kindle\", \"kindle\", \"kindle\", \"know\", \"know\", \"know\", \"know\", \"know\", \"know\", \"know\", \"know\", \"lasting\", \"lasting\", \"lasting\", \"lasting\", \"lasting\", \"lasting\", \"lasting\", \"lasting\", \"leas\", \"leas\", \"leas\", \"leas\", \"leas\", \"leas\", \"leas\", \"leas\", \"length\", \"length\", \"length\", \"length\", \"length\", \"length\", \"length\", \"length\", \"lib\", \"lib\", \"lib\", \"lib\", \"lib\", \"lib\", \"lib\", \"lib\", \"library\", \"library\", \"library\", \"library\", \"library\", \"library\", \"library\", \"library\", \"light\", \"light\", \"light\", \"light\", \"light\", \"light\", \"light\", \"light\", \"lighting\", \"lighting\", \"lighting\", \"lighting\", \"lighting\", \"lighting\", \"lighting\", \"lighting\", \"like\", \"like\", \"like\", \"like\", \"like\", \"like\", \"like\", \"like\", \"long\", \"long\", \"long\", \"long\", \"long\", \"long\", \"long\", \"long\", \"looking\", \"looking\", \"looking\", \"looking\", \"looking\", \"looking\", \"looking\", \"looking\", \"lot\", \"lot\", \"lot\", \"lot\", \"lot\", \"lot\", \"lot\", \"lot\", \"love\", \"love\", \"love\", \"love\", \"love\", \"love\", \"love\", \"love\", \"low\", \"low\", \"low\", \"low\", \"low\", \"low\", \"low\", \"low\", \"micro\", \"micro\", \"micro\", \"micro\", \"micro\", \"micro\", \"micro\", \"micro\", \"mom\", \"mom\", \"mom\", \"mom\", \"mom\", \"mom\", \"mom\", \"mom\", \"near\", \"near\", \"near\", \"near\", \"near\", \"near\", \"near\", \"near\", \"need\", \"need\", \"need\", \"need\", \"need\", \"need\", \"need\", \"need\", \"nexus\", \"nexus\", \"nexus\", \"nexus\", \"nexus\", \"nexus\", \"nexus\", \"nexus\", \"nice\", \"nice\", \"nice\", \"nice\", \"nice\", \"nice\", \"nice\", \"nice\", \"nicer\", \"nicer\", \"nicer\", \"nicer\", \"nicer\", \"nicer\", \"nicer\", \"nicer\", \"niece\", \"niece\", \"niece\", \"niece\", \"niece\", \"niece\", \"niece\", \"niece\", \"night\", \"night\", \"night\", \"night\", \"night\", \"night\", \"night\", \"night\", \"ninety\", \"ninety\", \"ninety\", \"ninety\", \"ninety\", \"ninety\", \"ninety\", \"ninety\", \"non\", \"non\", \"non\", \"non\", \"non\", \"non\", \"non\", \"non\", \"object\", \"object\", \"object\", \"object\", \"object\", \"object\", \"object\", \"object\", \"old\", \"old\", \"old\", \"old\", \"old\", \"old\", \"old\", \"old\", \"opinion\", \"opinion\", \"opinion\", \"opinion\", \"opinion\", \"opinion\", \"opinion\", \"opinion\", \"options\", \"options\", \"options\", \"options\", \"options\", \"options\", \"options\", \"options\", \"order\", \"order\", \"order\", \"order\", \"order\", \"order\", \"order\", \"order\", \"ordered\", \"ordered\", \"ordered\", \"ordered\", \"ordered\", \"ordered\", \"ordered\", \"ordered\", \"parenta\", \"parenta\", \"parenta\", \"parenta\", \"parenta\", \"parenta\", \"parenta\", \"parenta\", \"parental\", \"parental\", \"parental\", \"parental\", \"parental\", \"parental\", \"parental\", \"parental\", \"pla\", \"pla\", \"pla\", \"pla\", \"pla\", \"pla\", \"pla\", \"pla\", \"play\", \"play\", \"play\", \"play\", \"play\", \"play\", \"play\", \"play\", \"playing\", \"playing\", \"playing\", \"playing\", \"playing\", \"playing\", \"playing\", \"playing\", \"power\", \"power\", \"power\", \"power\", \"power\", \"power\", \"power\", \"power\", \"pric\", \"pric\", \"pric\", \"pric\", \"pric\", \"pric\", \"pric\", \"pric\", \"price\", \"price\", \"price\", \"price\", \"price\", \"price\", \"price\", \"price\", \"problame\", \"problame\", \"problame\", \"problame\", \"problame\", \"problame\", \"problame\", \"problame\", \"product\", \"product\", \"product\", \"product\", \"product\", \"product\", \"product\", \"product\", \"purchase\", \"purchase\", \"purchase\", \"purchase\", \"purchase\", \"purchase\", \"purchase\", \"purchase\", \"reading\", \"reading\", \"reading\", \"reading\", \"reading\", \"reading\", \"reading\", \"reading\", \"recharge\", \"recharge\", \"recharge\", \"recharge\", \"recharge\", \"recharge\", \"recharge\", \"recharge\", \"responsive\", \"responsive\", \"responsive\", \"responsive\", \"responsive\", \"responsive\", \"responsive\", \"responsive\", \"reviews\", \"reviews\", \"reviews\", \"reviews\", \"reviews\", \"reviews\", \"reviews\", \"reviews\", \"screen\", \"screen\", \"screen\", \"screen\", \"screen\", \"screen\", \"screen\", \"screen\", \"sd\", \"sd\", \"sd\", \"sd\", \"sd\", \"sd\", \"sd\", \"sd\", \"second\", \"second\", \"second\", \"second\", \"second\", \"second\", \"second\", \"second\", \"si\", \"si\", \"si\", \"si\", \"si\", \"si\", \"si\", \"si\", \"simple\", \"simple\", \"simple\", \"simple\", \"simple\", \"simple\", \"simple\", \"simple\", \"started\", \"started\", \"started\", \"started\", \"started\", \"started\", \"started\", \"started\", \"sure\", \"sure\", \"sure\", \"sure\", \"sure\", \"sure\", \"sure\", \"sure\", \"tablet\", \"tablet\", \"tablet\", \"tablet\", \"tablet\", \"tablet\", \"tablet\", \"tablet\", \"tank\", \"tank\", \"tank\", \"tank\", \"tank\", \"tank\", \"tank\", \"tank\", \"th\", \"th\", \"th\", \"th\", \"th\", \"th\", \"th\", \"th\", \"things\", \"things\", \"things\", \"things\", \"things\", \"things\", \"things\", \"things\", \"thought\", \"thought\", \"thought\", \"thought\", \"thought\", \"thought\", \"thought\", \"thought\", \"times\", \"times\", \"times\", \"times\", \"times\", \"times\", \"times\", \"times\", \"twins\", \"twins\", \"twins\", \"twins\", \"twins\", \"twins\", \"twins\", \"twins\", \"use\", \"use\", \"use\", \"use\", \"use\", \"use\", \"use\", \"use\", \"ve\", \"ve\", \"ve\", \"ve\", \"ve\", \"ve\", \"ve\", \"ve\", \"want\", \"want\", \"want\", \"want\", \"want\", \"want\", \"want\", \"want\", \"wanted\", \"wanted\", \"wanted\", \"wanted\", \"wanted\", \"wanted\", \"wanted\", \"wanted\", \"wants\", \"wants\", \"wants\", \"wants\", \"wants\", \"wants\", \"wants\", \"wants\", \"way\", \"way\", \"way\", \"way\", \"way\", \"way\", \"way\", \"way\", \"web\", \"web\", \"web\", \"web\", \"web\", \"web\", \"web\", \"web\", \"work\", \"work\", \"work\", \"work\", \"work\", \"work\", \"work\", \"work\", \"works\", \"works\", \"works\", \"works\", \"works\", \"works\", \"works\", \"works\", \"year\", \"year\", \"year\", \"year\", \"year\", \"year\", \"year\", \"year\", \"yr\", \"yr\", \"yr\", \"yr\", \"yr\", \"yr\", \"yr\", \"yr\"]}, \"R\": 30, \"lambda.step\": 0.01, \"plot.opts\": {\"xlab\": \"PC1\", \"ylab\": \"PC2\"}, \"topic.order\": [5, 8, 6, 4, 1, 2, 7, 3]};\n",
       "\n",
       "function LDAvis_load_lib(url, callback){\n",
       "  var s = document.createElement('script');\n",
       "  s.src = url;\n",
       "  s.async = true;\n",
       "  s.onreadystatechange = s.onload = callback;\n",
       "  s.onerror = function(){console.warn(\"failed to load library \" + url);};\n",
       "  document.getElementsByTagName(\"head\")[0].appendChild(s);\n",
       "}\n",
       "\n",
       "if(typeof(LDAvis) !== \"undefined\"){\n",
       "   // already loaded: just create the visualization\n",
       "   !function(LDAvis){\n",
       "       new LDAvis(\"#\" + \"ldavis_el718764866230456520158308\", ldavis_el718764866230456520158308_data);\n",
       "   }(LDAvis);\n",
       "}else if(typeof define === \"function\" && define.amd){\n",
       "   // require.js is available: use it to load d3/LDAvis\n",
       "   require.config({paths: {d3: \"https://cdnjs.cloudflare.com/ajax/libs/d3/3.5.5/d3.min\"}});\n",
       "   require([\"d3\"], function(d3){\n",
       "      window.d3 = d3;\n",
       "      LDAvis_load_lib(\"https://cdn.rawgit.com/bmabey/pyLDAvis/files/ldavis.v1.0.0.js\", function(){\n",
       "        new LDAvis(\"#\" + \"ldavis_el718764866230456520158308\", ldavis_el718764866230456520158308_data);\n",
       "      });\n",
       "    });\n",
       "}else{\n",
       "    // require.js not available: dynamically load d3 & LDAvis\n",
       "    LDAvis_load_lib(\"https://cdnjs.cloudflare.com/ajax/libs/d3/3.5.5/d3.min.js\", function(){\n",
       "         LDAvis_load_lib(\"https://cdn.rawgit.com/bmabey/pyLDAvis/files/ldavis.v1.0.0.js\", function(){\n",
       "                 new LDAvis(\"#\" + \"ldavis_el718764866230456520158308\", ldavis_el718764866230456520158308_data);\n",
       "            })\n",
       "         });\n",
       "}\n",
       "</script>"
      ],
      "text/plain": [
       "PreparedData(topic_coordinates=              x         y  topics  cluster       Freq\n",
       "topic                                                \n",
       "4      0.000625  0.004492       1        1  14.276616\n",
       "7      0.002855  0.000351       2        1  13.339223\n",
       "5     -0.000808 -0.001673       3        1  12.796424\n",
       "3      0.000423 -0.001633       4        1  12.414340\n",
       "0     -0.004790  0.000615       5        1  12.238459\n",
       "1      0.001302  0.000768       6        1  11.892346\n",
       "6      0.002306 -0.001922       7        1  11.593270\n",
       "2     -0.001912 -0.000997       8        1  11.449319, topic_info=    Category           Freq       Term          Total  loglift  logprob\n",
       "129  Default  143402.000000     tablet  143402.000000  30.0000  30.0000\n",
       "63   Default  227950.000000      great  227950.000000  29.0000  29.0000\n",
       "19   Default  253139.000000  batteries  253139.000000  28.0000  28.0000\n",
       "116  Default   86790.000000    product   86790.000000  27.0000  27.0000\n",
       "85   Default  141906.000000       long  141906.000000  26.0000  26.0000\n",
       "138  Default  194563.000000        use  194563.000000  25.0000  25.0000\n",
       "82   Default   85841.000000      light   85841.000000  24.0000  24.0000\n",
       "43   Default   58095.000000   duracell   58095.000000  23.0000  23.0000\n",
       "21   Default   29764.000000      begin   29764.000000  22.0000  22.0000\n",
       "20   Default   85780.000000    battery   85780.000000  21.0000  21.0000\n",
       "146  Default   85949.000000      works   85949.000000  20.0000  20.0000\n",
       "118  Default  113447.000000    reading  113447.000000  19.0000  19.0000\n",
       "93   Default   56943.000000       need   56943.000000  18.0000  18.0000\n",
       "7    Default  168129.000000     amazon  168129.000000  17.0000  17.0000\n",
       "74   Default   83787.000000       kids   83787.000000  16.0000  16.0000\n",
       "26   Default   85450.000000      brand   85450.000000  15.0000  15.0000\n",
       "107  Default   28927.000000    parenta   28927.000000  14.0000  14.0000\n",
       "64   Default   58025.000000         hd   58025.000000  13.0000  13.0000\n",
       "51   Default   56569.000000       fast   56569.000000  12.0000  12.0000\n",
       "29   Default   56780.000000        buy   56780.000000  11.0000  11.0000\n",
       "102  Default   85677.000000        old   85677.000000  10.0000  10.0000\n",
       "142  Default   28573.000000      wants   28573.000000   9.0000   9.0000\n",
       "99   Default   28848.000000     ninety   28848.000000   8.0000   8.0000\n",
       "75   Default  111282.000000     kindle  111282.000000   7.0000   7.0000\n",
       "84   Default   29134.000000       like   29134.000000   6.0000   6.0000\n",
       "88   Default   57685.000000       love   57685.000000   5.0000   5.0000\n",
       "145  Default  110682.000000       work  110682.000000   4.0000   4.0000\n",
       "121  Default   28413.000000    reviews   28413.000000   3.0000   3.0000\n",
       "111  Default   29020.000000    playing   29020.000000   2.0000   2.0000\n",
       "139  Default   57411.000000         ve   57411.000000   1.0000   1.0000\n",
       "..       ...            ...        ...            ...      ...      ...\n",
       "14    Topic8    3638.099121        bad   28141.708984   0.1214  -5.3320\n",
       "18    Topic8    3675.083496   batterie   28432.925781   0.1213  -5.3219\n",
       "38    Topic8    3675.258789    comment   28463.554688   0.1202  -5.3219\n",
       "81    Topic8    3716.326172    library   28819.914062   0.1189  -5.3108\n",
       "85    Topic8   18010.845703       long  141906.171875   0.1030  -3.7325\n",
       "7     Topic8   21105.033203     amazon  168129.656250   0.0920  -3.5740\n",
       "129   Topic8   17867.263672     tablet  143402.484375   0.0846  -3.7405\n",
       "63    Topic8   27870.527344      great  227950.375000   0.0657  -3.2959\n",
       "61    Topic8   10686.906250       good   85188.140625   0.0914  -4.2545\n",
       "118   Topic8   13829.266602    reading  113447.984375   0.0627  -3.9967\n",
       "105   Topic8    7044.053711      order   55897.285156   0.0959  -4.6713\n",
       "139   Topic8    7211.078613         ve   57411.996094   0.0926  -4.6479\n",
       "24    Topic8    7065.236328      books   56986.234375   0.0796  -4.6683\n",
       "19    Topic8   24586.443359  batteries  253139.750000  -0.1645  -3.4213\n",
       "138   Topic8   19484.298828        use  194563.921875  -0.1339  -3.6539\n",
       "26    Topic8    9759.736328      brand   85450.046875  -0.0024  -4.3452\n",
       "146   Topic8    9764.362305      works   85949.382812  -0.0078  -4.3447\n",
       "25    Topic8   14304.209961     bought  138264.375000  -0.1014  -3.9629\n",
       "62    Topic8   11884.827148        got  111913.796875  -0.0752  -4.1482\n",
       "102   Topic8    9571.730469        old   85677.906250  -0.0245  -4.3647\n",
       "75    Topic8   11694.015625     kindle  111282.531250  -0.0858  -4.1644\n",
       "145   Topic8   11190.938477       work  110682.031250  -0.1243  -4.2084\n",
       "29    Topic8    6793.945312        buy   56780.417969   0.0441  -4.7075\n",
       "116   Topic8    9091.576172    product   86790.085938  -0.0889  -4.4161\n",
       "82    Topic8    8820.352539      light   85841.726562  -0.1082  -4.4464\n",
       "74    Topic8    8331.922852       kids   83787.750000  -0.1410  -4.5034\n",
       "87    Topic8    6509.669922        lot   56840.000000   0.0003  -4.7502\n",
       "33    Topic8    6484.295898      cheap   56868.042969  -0.0041  -4.7541\n",
       "35    Topic8    8040.875977  christmas   82925.367188  -0.1662  -4.5390\n",
       "88    Topic8    6518.958984       love   57685.312500  -0.0130  -4.7488\n",
       "\n",
       "[460 rows x 6 columns], token_table=      Topic      Freq        Term\n",
       "term                             \n",
       "0         1  0.182529          aa\n",
       "0         2  0.143489          aa\n",
       "0         3  0.134007          aa\n",
       "0         4  0.111687          aa\n",
       "0         5  0.133733          aa\n",
       "0         6  0.108442          aa\n",
       "0         7  0.077333          aa\n",
       "0         8  0.108788          aa\n",
       "1         1  0.150487         aaa\n",
       "1         2  0.131198         aaa\n",
       "1         3  0.123483         aaa\n",
       "1         4  0.134985         aaa\n",
       "1         5  0.119837         aaa\n",
       "1         6  0.096266         aaa\n",
       "1         7  0.134773         aaa\n",
       "1         8  0.108972         aaa\n",
       "2         1  0.145866        able\n",
       "2         2  0.137845        able\n",
       "2         3  0.115493        able\n",
       "2         4  0.095965        able\n",
       "2         5  0.121282        able\n",
       "2         6  0.141507        able\n",
       "2         7  0.120898        able\n",
       "2         8  0.121107        able\n",
       "3         1  0.135492  absolutely\n",
       "3         2  0.146428  absolutely\n",
       "3         3  0.120757  absolutely\n",
       "3         4  0.114322  absolutely\n",
       "3         5  0.111403  absolutely\n",
       "3         6  0.155079  absolutely\n",
       "...     ...       ...         ...\n",
       "145       3  0.115954        work\n",
       "145       4  0.103992        work\n",
       "145       5  0.114400        work\n",
       "145       6  0.131855        work\n",
       "145       7  0.099908        work\n",
       "145       8  0.101109        work\n",
       "146       1  0.139291       works\n",
       "146       2  0.108645       works\n",
       "146       3  0.131880       works\n",
       "146       4  0.110391       works\n",
       "146       5  0.129716       works\n",
       "146       6  0.155219       works\n",
       "146       7  0.111252       works\n",
       "146       8  0.113602       works\n",
       "147       1  0.128138        year\n",
       "147       2  0.131263        year\n",
       "147       3  0.148224        year\n",
       "147       4  0.123257        year\n",
       "147       5  0.130174        year\n",
       "147       6  0.086771        year\n",
       "147       7  0.109597        year\n",
       "147       8  0.142535        year\n",
       "148       1  0.148778          yr\n",
       "148       2  0.116068          yr\n",
       "148       3  0.123279          yr\n",
       "148       4  0.112689          yr\n",
       "148       5  0.114571          yr\n",
       "148       6  0.131744          yr\n",
       "148       7  0.120841          yr\n",
       "148       8  0.132057          yr\n",
       "\n",
       "[1144 rows x 3 columns], R=30, lambda_step=0.01, plot_opts={'xlab': 'PC1', 'ylab': 'PC2'}, topic_order=[5, 8, 6, 4, 1, 2, 7, 3])"
      ]
     },
     "execution_count": 88,
     "metadata": {},
     "output_type": "execute_result"
    }
   ],
   "source": [
    "\n",
    "pyLDAvis.gensim.prepare(lda, corpus, id2word)"
   ]
  },
  {
   "cell_type": "code",
   "execution_count": 93,
   "metadata": {},
   "outputs": [],
   "source": [
    "words = [re.findall(r'\"([^\"]*)\"',t[1]) for t in lda.print_topics()]"
   ]
  },
  {
   "cell_type": "code",
   "execution_count": 100,
   "metadata": {},
   "outputs": [],
   "source": [
    "topics = [' '.join(t[1:10]) for t in words]"
   ]
  },
  {
   "cell_type": "code",
   "execution_count": 101,
   "metadata": {},
   "outputs": [
    {
     "data": {
      "text/plain": [
       "'great amazon use work bought long works got tablet'"
      ]
     },
     "execution_count": 101,
     "metadata": {},
     "output_type": "execute_result"
    }
   ],
   "source": [
    "topics[1]"
   ]
  },
  {
   "cell_type": "code",
   "execution_count": 102,
   "metadata": {},
   "outputs": [],
   "source": [
    "distro = [lda[d] for d in corpus]"
   ]
  },
  {
   "cell_type": "code",
   "execution_count": 104,
   "metadata": {},
   "outputs": [],
   "source": [
    "def update(doc):\n",
    "    d_dist = {k:0 for k in range(0,3)}\n",
    "    for t in doc:\n",
    "        d_dist[t[0]] = t[1]\n",
    "    return d_dist\n",
    "\n",
    "new_distro = [update(d) for d in distro]"
   ]
  },
  {
   "cell_type": "code",
   "execution_count": 116,
   "metadata": {},
   "outputs": [],
   "source": [
    "df_distro = pd.DataFrame.from_records(new_distro, index=df['id'])\n",
    "df_distro.columns = topics"
   ]
  },
  {
   "cell_type": "code",
   "execution_count": 117,
   "metadata": {},
   "outputs": [
    {
     "data": {
      "text/html": [
       "<div>\n",
       "<style scoped>\n",
       "    .dataframe tbody tr th:only-of-type {\n",
       "        vertical-align: middle;\n",
       "    }\n",
       "\n",
       "    .dataframe tbody tr th {\n",
       "        vertical-align: top;\n",
       "    }\n",
       "\n",
       "    .dataframe thead th {\n",
       "        text-align: right;\n",
       "    }\n",
       "</style>\n",
       "<table border=\"1\" class=\"dataframe\">\n",
       "  <thead>\n",
       "    <tr style=\"text-align: right;\">\n",
       "      <th></th>\n",
       "      <th>great batteries amazon use bought long reading got kids</th>\n",
       "      <th>great amazon use work bought long works got tablet</th>\n",
       "      <th>batteries amazon use long tablet bought reading got kindle</th>\n",
       "      <th>batteries amazon use long tablet bought kindle got light</th>\n",
       "      <th>use amazon great bought work got long reading kindle</th>\n",
       "      <th>batteries great tablet long amazon bought kindle reading work</th>\n",
       "      <th>use great long amazon tablet product bought reading kindle</th>\n",
       "      <th>great use long bought amazon reading kindle work got</th>\n",
       "    </tr>\n",
       "    <tr>\n",
       "      <th>id</th>\n",
       "      <th></th>\n",
       "      <th></th>\n",
       "      <th></th>\n",
       "      <th></th>\n",
       "      <th></th>\n",
       "      <th></th>\n",
       "      <th></th>\n",
       "      <th></th>\n",
       "    </tr>\n",
       "  </thead>\n",
       "  <tbody>\n",
       "    <tr>\n",
       "      <th>AVqkIhxunnc1JgDc3kg_</th>\n",
       "      <td>0.162696</td>\n",
       "      <td>0.159568</td>\n",
       "      <td>0.084152</td>\n",
       "      <td>0.124596</td>\n",
       "      <td>0.087349</td>\n",
       "      <td>0.135940</td>\n",
       "      <td>0.142181</td>\n",
       "      <td>0.103518</td>\n",
       "    </tr>\n",
       "    <tr>\n",
       "      <th>AVqkIhxunnc1JgDc3kg_</th>\n",
       "      <td>0.178872</td>\n",
       "      <td>0.135437</td>\n",
       "      <td>0.037802</td>\n",
       "      <td>0.132062</td>\n",
       "      <td>0.210920</td>\n",
       "      <td>0.066508</td>\n",
       "      <td>0.097381</td>\n",
       "      <td>0.141019</td>\n",
       "    </tr>\n",
       "    <tr>\n",
       "      <th>AVqkIhxunnc1JgDc3kg_</th>\n",
       "      <td>0.111777</td>\n",
       "      <td>0.121719</td>\n",
       "      <td>0.102105</td>\n",
       "      <td>0.062719</td>\n",
       "      <td>0.158951</td>\n",
       "      <td>0.146605</td>\n",
       "      <td>0.129959</td>\n",
       "      <td>0.166166</td>\n",
       "    </tr>\n",
       "    <tr>\n",
       "      <th>AVqkIhxunnc1JgDc3kg_</th>\n",
       "      <td>0.069217</td>\n",
       "      <td>0.111261</td>\n",
       "      <td>0.113136</td>\n",
       "      <td>0.129467</td>\n",
       "      <td>0.247807</td>\n",
       "      <td>0.150692</td>\n",
       "      <td>0.071152</td>\n",
       "      <td>0.107268</td>\n",
       "    </tr>\n",
       "    <tr>\n",
       "      <th>AVqkIhxunnc1JgDc3kg_</th>\n",
       "      <td>0.110169</td>\n",
       "      <td>0.079453</td>\n",
       "      <td>0.129225</td>\n",
       "      <td>0.154483</td>\n",
       "      <td>0.127000</td>\n",
       "      <td>0.137739</td>\n",
       "      <td>0.068729</td>\n",
       "      <td>0.193203</td>\n",
       "    </tr>\n",
       "  </tbody>\n",
       "</table>\n",
       "</div>"
      ],
      "text/plain": [
       "                      great batteries amazon use bought long reading got kids  \\\n",
       "id                                                                              \n",
       "AVqkIhxunnc1JgDc3kg_                                           0.162696         \n",
       "AVqkIhxunnc1JgDc3kg_                                           0.178872         \n",
       "AVqkIhxunnc1JgDc3kg_                                           0.111777         \n",
       "AVqkIhxunnc1JgDc3kg_                                           0.069217         \n",
       "AVqkIhxunnc1JgDc3kg_                                           0.110169         \n",
       "\n",
       "                      great amazon use work bought long works got tablet  \\\n",
       "id                                                                         \n",
       "AVqkIhxunnc1JgDc3kg_                                           0.159568    \n",
       "AVqkIhxunnc1JgDc3kg_                                           0.135437    \n",
       "AVqkIhxunnc1JgDc3kg_                                           0.121719    \n",
       "AVqkIhxunnc1JgDc3kg_                                           0.111261    \n",
       "AVqkIhxunnc1JgDc3kg_                                           0.079453    \n",
       "\n",
       "                      batteries amazon use long tablet bought reading got kindle  \\\n",
       "id                                                                                 \n",
       "AVqkIhxunnc1JgDc3kg_                                           0.084152            \n",
       "AVqkIhxunnc1JgDc3kg_                                           0.037802            \n",
       "AVqkIhxunnc1JgDc3kg_                                           0.102105            \n",
       "AVqkIhxunnc1JgDc3kg_                                           0.113136            \n",
       "AVqkIhxunnc1JgDc3kg_                                           0.129225            \n",
       "\n",
       "                      batteries amazon use long tablet bought kindle got light  \\\n",
       "id                                                                               \n",
       "AVqkIhxunnc1JgDc3kg_                                           0.124596          \n",
       "AVqkIhxunnc1JgDc3kg_                                           0.132062          \n",
       "AVqkIhxunnc1JgDc3kg_                                           0.062719          \n",
       "AVqkIhxunnc1JgDc3kg_                                           0.129467          \n",
       "AVqkIhxunnc1JgDc3kg_                                           0.154483          \n",
       "\n",
       "                      use amazon great bought work got long reading kindle  \\\n",
       "id                                                                           \n",
       "AVqkIhxunnc1JgDc3kg_                                           0.087349      \n",
       "AVqkIhxunnc1JgDc3kg_                                           0.210920      \n",
       "AVqkIhxunnc1JgDc3kg_                                           0.158951      \n",
       "AVqkIhxunnc1JgDc3kg_                                           0.247807      \n",
       "AVqkIhxunnc1JgDc3kg_                                           0.127000      \n",
       "\n",
       "                      batteries great tablet long amazon bought kindle reading work  \\\n",
       "id                                                                                    \n",
       "AVqkIhxunnc1JgDc3kg_                                           0.135940               \n",
       "AVqkIhxunnc1JgDc3kg_                                           0.066508               \n",
       "AVqkIhxunnc1JgDc3kg_                                           0.146605               \n",
       "AVqkIhxunnc1JgDc3kg_                                           0.150692               \n",
       "AVqkIhxunnc1JgDc3kg_                                           0.137739               \n",
       "\n",
       "                      use great long amazon tablet product bought reading kindle  \\\n",
       "id                                                                                 \n",
       "AVqkIhxunnc1JgDc3kg_                                           0.142181            \n",
       "AVqkIhxunnc1JgDc3kg_                                           0.097381            \n",
       "AVqkIhxunnc1JgDc3kg_                                           0.129959            \n",
       "AVqkIhxunnc1JgDc3kg_                                           0.071152            \n",
       "AVqkIhxunnc1JgDc3kg_                                           0.068729            \n",
       "\n",
       "                      great use long bought amazon reading kindle work got  \n",
       "id                                                                          \n",
       "AVqkIhxunnc1JgDc3kg_                                           0.103518     \n",
       "AVqkIhxunnc1JgDc3kg_                                           0.141019     \n",
       "AVqkIhxunnc1JgDc3kg_                                           0.166166     \n",
       "AVqkIhxunnc1JgDc3kg_                                           0.107268     \n",
       "AVqkIhxunnc1JgDc3kg_                                           0.193203     "
      ]
     },
     "execution_count": 117,
     "metadata": {},
     "output_type": "execute_result"
    }
   ],
   "source": [
    "df_distro.tail()"
   ]
  },
  {
   "cell_type": "markdown",
   "metadata": {},
   "source": [
    "## Stretch Goals\n",
    "\n",
    "* Incorporate Named Entity Recognition in your analysis\n",
    "* Incorporate some custom pre-processing from our previous lessons (like spacy lemmatization)\n",
    "* Analyze a dataset of interest to you with topic modeling"
   ]
  },
  {
   "cell_type": "code",
   "execution_count": null,
   "metadata": {},
   "outputs": [],
   "source": []
  }
 ],
 "metadata": {
  "kernelspec": {
   "display_name": "U4-S1-NLP (Python 3)",
   "language": "python",
   "name": "u4-s1-nlp"
  },
  "language_info": {
   "codemirror_mode": {
    "name": "ipython",
    "version": 3
   },
   "file_extension": ".py",
   "mimetype": "text/x-python",
   "name": "python",
   "nbconvert_exporter": "python",
   "pygments_lexer": "ipython3",
   "version": "3.7.3"
  }
 },
 "nbformat": 4,
 "nbformat_minor": 2
}
