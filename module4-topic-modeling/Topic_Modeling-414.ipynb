{
 "cells": [
  {
   "cell_type": "markdown",
   "metadata": {
    "colab_type": "text",
    "id": "view-in-github"
   },
   "source": [
    "<a href=\"https://colab.research.google.com/github/skhabiri/DS-Unit-4-Sprint-1-NLP/blob/main/module4-topic-modeling/LS_DS17_414_Topic_Modeling_Lecture.ipynb\" target=\"_parent\"><img src=\"https://colab.research.google.com/assets/colab-badge.svg\" alt=\"Open In Colab\"/></a>"
   ]
  },
  {
   "cell_type": "markdown",
   "metadata": {},
   "source": [
    "# Topic Modeling (Prepare)\n",
    "Learning 'topics' from documents. Topics are a latent structure. They are not directly observable in the data, but we know they're there by reading them."
   ]
  },
  {
   "cell_type": "code",
   "execution_count": 1,
   "metadata": {
    "id": "4763Tu27COwt"
   },
   "outputs": [],
   "source": [
    "import numpy as np\n",
    "\n",
    "\"\"\"\n",
    "Gensim is an open-source library for unsupervised topic modeling and natural \n",
    "language processing, using modern statistical machine learning. Gensim is \n",
    "implemented in Python and Cython.\n",
    "\"\"\"\n",
    "import gensim\n",
    "import os\n",
    "import re\n",
    "\n",
    "\"\"\"\n",
    "literal_eval: Safely evaluate an expression node or a string containing a \n",
    "Python literal or container display. The string or node provided may only \n",
    "consist of the following Python literal structures: strings, bytes, numbers, \n",
    "tuples, lists, dicts, sets, booleans, and None.\n",
    "\"\"\"\n",
    "# The ast module helps Python applications to process trees of the Python abstract syntax grammar.\n",
    "from ast import literal_eval\n",
    "\n",
    "from gensim.utils import simple_preprocess\n",
    "from gensim.parsing.preprocessing import STOPWORDS\n",
    "from gensim import corpora\n",
    "\n",
    "from gensim.models.ldamulticore import LdaMulticore\n",
    "\n",
    "import pandas as pd\n",
    "import tqdm"
   ]
  },
  {
   "cell_type": "code",
   "execution_count": 2,
   "metadata": {
    "id": "PPDFRUjlCOww"
   },
   "outputs": [],
   "source": [
    "df = pd.read_csv('./data/imbd_keywords.csv')"
   ]
  },
  {
   "cell_type": "code",
   "execution_count": 3,
   "metadata": {
    "id": "oVEnELC7COwz",
    "outputId": "b95cb34e-9c1b-49e0-ee15-cf76a42249fe"
   },
   "outputs": [
    {
     "data": {
      "text/html": [
       "<div>\n",
       "<style scoped>\n",
       "    .dataframe tbody tr th:only-of-type {\n",
       "        vertical-align: middle;\n",
       "    }\n",
       "\n",
       "    .dataframe tbody tr th {\n",
       "        vertical-align: top;\n",
       "    }\n",
       "\n",
       "    .dataframe thead th {\n",
       "        text-align: right;\n",
       "    }\n",
       "</style>\n",
       "<table border=\"1\" class=\"dataframe\">\n",
       "  <thead>\n",
       "    <tr style=\"text-align: right;\">\n",
       "      <th></th>\n",
       "      <th>review</th>\n",
       "      <th>sentiment</th>\n",
       "      <th>keywords</th>\n",
       "    </tr>\n",
       "  </thead>\n",
       "  <tbody>\n",
       "    <tr>\n",
       "      <th>0</th>\n",
       "      <td>One of the other reviewers has mentioned that ...</td>\n",
       "      <td>positive</td>\n",
       "      <td>['other shows', 'graphic violence', 'prison ex...</td>\n",
       "    </tr>\n",
       "    <tr>\n",
       "      <th>1</th>\n",
       "      <td>A wonderful little production. The filming tec...</td>\n",
       "      <td>positive</td>\n",
       "      <td>['halliwell', 'michael sheen', 'realism', 'com...</td>\n",
       "    </tr>\n",
       "    <tr>\n",
       "      <th>2</th>\n",
       "      <td>I thought this was a wonderful way to spend ti...</td>\n",
       "      <td>positive</td>\n",
       "      <td>['spirited young woman', 'devil wears prada', ...</td>\n",
       "    </tr>\n",
       "    <tr>\n",
       "      <th>3</th>\n",
       "      <td>Basically there's a family where a little boy ...</td>\n",
       "      <td>negative</td>\n",
       "      <td>['playing parents', 'jake', 'parents', 'descen...</td>\n",
       "    </tr>\n",
       "    <tr>\n",
       "      <th>4</th>\n",
       "      <td>Petter Mattei's \"Love in the Time of Money\" is...</td>\n",
       "      <td>positive</td>\n",
       "      <td>['mr. mattei', 'good luck', 'mattei', 'human r...</td>\n",
       "    </tr>\n",
       "  </tbody>\n",
       "</table>\n",
       "</div>"
      ],
      "text/plain": [
       "                                              review sentiment  \\\n",
       "0  One of the other reviewers has mentioned that ...  positive   \n",
       "1  A wonderful little production. The filming tec...  positive   \n",
       "2  I thought this was a wonderful way to spend ti...  positive   \n",
       "3  Basically there's a family where a little boy ...  negative   \n",
       "4  Petter Mattei's \"Love in the Time of Money\" is...  positive   \n",
       "\n",
       "                                            keywords  \n",
       "0  ['other shows', 'graphic violence', 'prison ex...  \n",
       "1  ['halliwell', 'michael sheen', 'realism', 'com...  \n",
       "2  ['spirited young woman', 'devil wears prada', ...  \n",
       "3  ['playing parents', 'jake', 'parents', 'descen...  \n",
       "4  ['mr. mattei', 'good luck', 'mattei', 'human r...  "
      ]
     },
     "execution_count": 3,
     "metadata": {},
     "output_type": "execute_result"
    }
   ],
   "source": [
    "df.head()"
   ]
  },
  {
   "cell_type": "code",
   "execution_count": 4,
   "metadata": {
    "id": "Vo1m675tCOw4",
    "outputId": "735513c5-964c-4956-b161-91a821d602e6"
   },
   "outputs": [
    {
     "data": {
      "text/plain": [
       "(40436, 3)"
      ]
     },
     "execution_count": 4,
     "metadata": {},
     "output_type": "execute_result"
    }
   ],
   "source": [
    "df.shape"
   ]
  },
  {
   "cell_type": "code",
   "execution_count": 5,
   "metadata": {
    "id": "IKlMoY7VCOw6",
    "outputId": "61b97108-fdca-4c5b-bbd9-9c48517b1d09"
   },
   "outputs": [
    {
     "data": {
      "text/plain": [
       "\"['other shows', 'graphic violence', 'prison experience', 'prison bitches', 'violence', 'emerald city', 'dodgy dealings', 'glass fronts', 'inmates', 'street skills', 'unflinching scenes', 'crooked guards', 'the oswald maximum security state penitentary', 'mainstream audiences', 'oz', 'city', 'shady agreements', 'pretty pictures', 'touch', 'muslims', 'irish', 'italians', 'gangstas', 'latinos', 'christians', 'home', 'first', 'charm', 'the high levels', 'drugs', 'right', 'regards', 'well mannered, middle class inmates', 'sex', 'a show', 'scuffles', 'order', 'aryans', 'just 1 oz episode', 'the first episode', 'the other reviewers', 'your darker side', 'the prison', 'the main appeal', 'romance', 'the first thing', 'an experimental section', 'privacy', 'the classic use', 'the word', 'no punches', 'its brutality', 'their lack', 'a taste', 'the fact', 'the nickname', 'the agenda', 'all the cells', 'a nickel', 'you']\""
      ]
     },
     "execution_count": 5,
     "metadata": {},
     "output_type": "execute_result"
    }
   ],
   "source": [
    "df['keywords'][0]"
   ]
  },
  {
   "cell_type": "code",
   "execution_count": 6,
   "metadata": {},
   "outputs": [
    {
     "data": {
      "text/plain": [
       "str"
      ]
     },
     "execution_count": 6,
     "metadata": {},
     "output_type": "execute_result"
    }
   ],
   "source": [
    "type(df['keywords'][0])"
   ]
  },
  {
   "cell_type": "code",
   "execution_count": 7,
   "metadata": {},
   "outputs": [
    {
     "data": {
      "text/plain": [
       "list"
      ]
     },
     "execution_count": 7,
     "metadata": {},
     "output_type": "execute_result"
    }
   ],
   "source": [
    "type(literal_eval(df['keywords'][0]))"
   ]
  },
  {
   "cell_type": "code",
   "execution_count": 8,
   "metadata": {
    "id": "xpcTreypCOw8"
   },
   "outputs": [],
   "source": [
    "# revert the string of list to original list\n",
    "df['keywords'] = df['keywords'].apply(literal_eval)"
   ]
  },
  {
   "cell_type": "code",
   "execution_count": 9,
   "metadata": {
    "id": "0Yj726u0COw_",
    "outputId": "38535c16-a56a-41b9-cef4-d314784f08ff"
   },
   "outputs": [
    {
     "data": {
      "text/plain": [
       "['other shows',\n",
       " 'graphic violence',\n",
       " 'prison experience',\n",
       " 'prison bitches',\n",
       " 'violence',\n",
       " 'emerald city',\n",
       " 'dodgy dealings',\n",
       " 'glass fronts',\n",
       " 'inmates',\n",
       " 'street skills',\n",
       " 'unflinching scenes',\n",
       " 'crooked guards',\n",
       " 'the oswald maximum security state penitentary',\n",
       " 'mainstream audiences',\n",
       " 'oz',\n",
       " 'city',\n",
       " 'shady agreements',\n",
       " 'pretty pictures',\n",
       " 'touch',\n",
       " 'muslims',\n",
       " 'irish',\n",
       " 'italians',\n",
       " 'gangstas',\n",
       " 'latinos',\n",
       " 'christians',\n",
       " 'home',\n",
       " 'first',\n",
       " 'charm',\n",
       " 'the high levels',\n",
       " 'drugs',\n",
       " 'right',\n",
       " 'regards',\n",
       " 'well mannered, middle class inmates',\n",
       " 'sex',\n",
       " 'a show',\n",
       " 'scuffles',\n",
       " 'order',\n",
       " 'aryans',\n",
       " 'just 1 oz episode',\n",
       " 'the first episode',\n",
       " 'the other reviewers',\n",
       " 'your darker side',\n",
       " 'the prison',\n",
       " 'the main appeal',\n",
       " 'romance',\n",
       " 'the first thing',\n",
       " 'an experimental section',\n",
       " 'privacy',\n",
       " 'the classic use',\n",
       " 'the word',\n",
       " 'no punches',\n",
       " 'its brutality',\n",
       " 'their lack',\n",
       " 'a taste',\n",
       " 'the fact',\n",
       " 'the nickname',\n",
       " 'the agenda',\n",
       " 'all the cells',\n",
       " 'a nickel',\n",
       " 'you']"
      ]
     },
     "execution_count": 9,
     "metadata": {},
     "output_type": "execute_result"
    }
   ],
   "source": [
    "df['keywords'][0]"
   ]
  },
  {
   "cell_type": "code",
   "execution_count": 10,
   "metadata": {
    "id": "0XeUAXPICOxC",
    "outputId": "19df06eb-67f9-49bc-db0e-e375bc01c444"
   },
   "outputs": [
    {
     "data": {
      "text/html": [
       "<div>\n",
       "<style scoped>\n",
       "    .dataframe tbody tr th:only-of-type {\n",
       "        vertical-align: middle;\n",
       "    }\n",
       "\n",
       "    .dataframe tbody tr th {\n",
       "        vertical-align: top;\n",
       "    }\n",
       "\n",
       "    .dataframe thead th {\n",
       "        text-align: right;\n",
       "    }\n",
       "</style>\n",
       "<table border=\"1\" class=\"dataframe\">\n",
       "  <thead>\n",
       "    <tr style=\"text-align: right;\">\n",
       "      <th></th>\n",
       "      <th>review</th>\n",
       "      <th>sentiment</th>\n",
       "      <th>keywords</th>\n",
       "    </tr>\n",
       "  </thead>\n",
       "  <tbody>\n",
       "    <tr>\n",
       "      <th>0</th>\n",
       "      <td>One of the other reviewers has mentioned that ...</td>\n",
       "      <td>positive</td>\n",
       "      <td>[other shows, graphic violence, prison experie...</td>\n",
       "    </tr>\n",
       "    <tr>\n",
       "      <th>1</th>\n",
       "      <td>A wonderful little production. The filming tec...</td>\n",
       "      <td>positive</td>\n",
       "      <td>[halliwell, michael sheen, realism, comedy, wi...</td>\n",
       "    </tr>\n",
       "    <tr>\n",
       "      <th>2</th>\n",
       "      <td>I thought this was a wonderful way to spend ti...</td>\n",
       "      <td>positive</td>\n",
       "      <td>[spirited young woman, devil wears prada, summ...</td>\n",
       "    </tr>\n",
       "    <tr>\n",
       "      <th>3</th>\n",
       "      <td>Basically there's a family where a little boy ...</td>\n",
       "      <td>negative</td>\n",
       "      <td>[playing parents, jake, parents, descent dialo...</td>\n",
       "    </tr>\n",
       "    <tr>\n",
       "      <th>4</th>\n",
       "      <td>Petter Mattei's \"Love in the Time of Money\" is...</td>\n",
       "      <td>positive</td>\n",
       "      <td>[mr. mattei, good luck, mattei, human relation...</td>\n",
       "    </tr>\n",
       "  </tbody>\n",
       "</table>\n",
       "</div>"
      ],
      "text/plain": [
       "                                              review sentiment  \\\n",
       "0  One of the other reviewers has mentioned that ...  positive   \n",
       "1  A wonderful little production. The filming tec...  positive   \n",
       "2  I thought this was a wonderful way to spend ti...  positive   \n",
       "3  Basically there's a family where a little boy ...  negative   \n",
       "4  Petter Mattei's \"Love in the Time of Money\" is...  positive   \n",
       "\n",
       "                                            keywords  \n",
       "0  [other shows, graphic violence, prison experie...  \n",
       "1  [halliwell, michael sheen, realism, comedy, wi...  \n",
       "2  [spirited young woman, devil wears prada, summ...  \n",
       "3  [playing parents, jake, parents, descent dialo...  \n",
       "4  [mr. mattei, good luck, mattei, human relation...  "
      ]
     },
     "execution_count": 10,
     "metadata": {},
     "output_type": "execute_result"
    }
   ],
   "source": [
    "df.head()"
   ]
  },
  {
   "cell_type": "code",
   "execution_count": 11,
   "metadata": {
    "id": "4TE5CQNDCOxE"
   },
   "outputs": [],
   "source": [
    "stop_words = [\n",
    "    'movie',\n",
    "    'review',\n",
    "    'film', \n",
    "    'actor',\n",
    "    'actress',\n",
    "    'films',\n",
    "]\n",
    "\n",
    "import spacy\n",
    "nlp = spacy.load('en_core_web_lg')"
   ]
  },
  {
   "cell_type": "code",
   "execution_count": 12,
   "metadata": {
    "id": "0p6Q92mpCOxG"
   },
   "outputs": [
    {
     "data": {
      "text/plain": [
       "332"
      ]
     },
     "execution_count": 12,
     "metadata": {},
     "output_type": "execute_result"
    }
   ],
   "source": [
    "stops = nlp.Defaults.stop_words.union(stop_words)\n",
    "len(stops)"
   ]
  },
  {
   "cell_type": "code",
   "execution_count": 13,
   "metadata": {
    "id": "JCrltj07COxI"
   },
   "outputs": [],
   "source": [
    "def remove_stops(_list_):\n",
    "    \"\"\"\n",
    "    Remove stop words from every string in a list of strings. \n",
    "    Each string may contain multiple words \n",
    "    _list_ refers to each row in dataframe\n",
    "    \"\"\"\n",
    "    \n",
    "    keywords = []\n",
    "    \n",
    "    # keyword is a string phrase containing multiple words\n",
    "    for keyword in _list_:\n",
    "        \n",
    "        phrase = []\n",
    "        \n",
    "        words = keyword.split()\n",
    "        \n",
    "        for word in words:\n",
    "            if word in stops:\n",
    "                pass\n",
    "            else: \n",
    "                phrase.append(word)\n",
    "            \n",
    "        # join elements of phrase with ' 's\n",
    "        phrase = ' '.join(phrase)\n",
    "        \n",
    "        # to exclude blanks,i.e. phrase = \"\"\n",
    "        if len(phrase) > 0:\n",
    "            keywords.append(phrase)\n",
    "    # keywords is a processed version of _list_\n",
    "    return keywords\n",
    "    "
   ]
  },
  {
   "cell_type": "code",
   "execution_count": 14,
   "metadata": {
    "id": "TWpH8tLyCOxK",
    "outputId": "8e32e8e9-ffc3-434a-9e49-f39dc74eb21c"
   },
   "outputs": [
    {
     "name": "stderr",
     "output_type": "stream",
     "text": [
      "/Users/shahnam/opt/anaconda3/envs/ML_NLP/lib/python3.7/site-packages/tqdm/std.py:702: FutureWarning: The Panel class is removed from pandas. Accessing it from the top-level namespace will also be removed in the next version\n",
      "  from pandas import Panel\n",
      "100%|██████████| 40436/40436 [00:01<00:00, 25644.09it/s]\n"
     ]
    }
   ],
   "source": [
    "# tqdm.tqdm\n",
    "from tqdm import tqdm\n",
    "# tqdm has a delayer adapter, so it's necessary to instanciate it before accessing its methods\n",
    "tqdm.pandas()\n",
    "# Adds progress_apply() to pd.Series methods\n",
    "df['clean_keywords'] = df['keywords'].progress_apply(remove_stops)"
   ]
  },
  {
   "cell_type": "code",
   "execution_count": 15,
   "metadata": {},
   "outputs": [
    {
     "name": "stdout",
     "output_type": "stream",
     "text": [
      "50\n"
     ]
    }
   ],
   "source": [
    "print(pd.options.display.max_colwidth)\n",
    "pd.options.display.max_colwidth = 100"
   ]
  },
  {
   "cell_type": "code",
   "execution_count": 16,
   "metadata": {
    "id": "2mvC6ft6COxM",
    "outputId": "6b6af0b8-b901-4802-dc72-d88baf54fae6"
   },
   "outputs": [
    {
     "data": {
      "text/plain": [
       "keywords          [other shows, graphic violence, prison experience, prison bitches, violence, emerald city, dodgy...\n",
       "clean_keywords    [shows, graphic violence, prison experience, prison bitches, violence, emerald city, dodgy deali...\n",
       "Name: 0, dtype: object"
      ]
     },
     "execution_count": 16,
     "metadata": {},
     "output_type": "execute_result"
    }
   ],
   "source": [
    "df[[\"keywords\", 'clean_keywords']].iloc[0]"
   ]
  },
  {
   "cell_type": "markdown",
   "metadata": {},
   "source": [
    "### Building Vocabulary\n",
    "Let's use gensim.corpora.Dictionary() to create an indexed dictionary of phrases in all documents. "
   ]
  },
  {
   "cell_type": "code",
   "execution_count": 17,
   "metadata": {
    "id": "0hsRS3R-COxP"
   },
   "outputs": [],
   "source": [
    "import gensim\n",
    "from gensim import corpora\n",
    "from gensim.models.ldamulticore import LdaMulticore"
   ]
  },
  {
   "cell_type": "code",
   "execution_count": 18,
   "metadata": {
    "id": "TiXTyqlqCOxR"
   },
   "outputs": [],
   "source": [
    "# Dict representation of all our keywords from the entire df column\n",
    "# assign an id to each keyword string in alphabetical order\n",
    "id2word = corpora.Dictionary(df['clean_keywords'])"
   ]
  },
  {
   "cell_type": "code",
   "execution_count": 19,
   "metadata": {
    "id": "WH2i848sCOxT",
    "outputId": "3239cad4-8449-4bc0-8029-c80c2f345d4f"
   },
   "outputs": [
    {
     "data": {
      "text/plain": [
       "['1 oz episode',\n",
       " 'agenda',\n",
       " 'aryans',\n",
       " 'brutality',\n",
       " 'cells',\n",
       " 'charm',\n",
       " 'christians',\n",
       " 'city',\n",
       " 'classic use',\n",
       " 'crooked guards',\n",
       " 'darker']"
      ]
     },
     "execution_count": 19,
     "metadata": {},
     "output_type": "execute_result"
    }
   ],
   "source": [
    "[id2word[i] for i in range(0,11)]"
   ]
  },
  {
   "cell_type": "code",
   "execution_count": 20,
   "metadata": {
    "id": "oc2u7osYCOxa",
    "outputId": "98def4c8-993e-4ed3-f7c0-697637656013"
   },
   "outputs": [
    {
     "data": {
      "text/plain": [
       "(57, 40436)"
      ]
     },
     "execution_count": 20,
     "metadata": {},
     "output_type": "execute_result"
    }
   ],
   "source": [
    "len(df['clean_keywords'][0]), len(df['clean_keywords'])"
   ]
  },
  {
   "cell_type": "code",
   "execution_count": 21,
   "metadata": {
    "id": "N53smhEdCOxX",
    "outputId": "bff48752-cc9c-420e-e10c-aac71d7d333f"
   },
   "outputs": [
    {
     "data": {
      "text/plain": [
       "(491029, 491029)"
      ]
     },
     "execution_count": 21,
     "metadata": {},
     "output_type": "execute_result"
    }
   ],
   "source": [
    "len(id2word), len(set(id2word.keys()))"
   ]
  },
  {
   "cell_type": "code",
   "execution_count": 22,
   "metadata": {
    "id": "1zq86G0ZCOxf",
    "outputId": "00c26f0a-9a32-47d4-8b08-bacbb68917b6"
   },
   "outputs": [
    {
     "data": {
      "text/plain": [
       "1"
      ]
     },
     "execution_count": 22,
     "metadata": {},
     "output_type": "execute_result"
    }
   ],
   "source": [
    "id2word.token2id['agenda']"
   ]
  },
  {
   "cell_type": "code",
   "execution_count": 23,
   "metadata": {},
   "outputs": [
    {
     "data": {
      "text/plain": [
       "['add_documents',\n",
       " 'cfs',\n",
       " 'compactify',\n",
       " 'dfs',\n",
       " 'doc2bow',\n",
       " 'doc2idx',\n",
       " 'filter_extremes',\n",
       " 'filter_n_most_frequent',\n",
       " 'filter_tokens',\n",
       " 'from_corpus',\n",
       " 'from_documents',\n",
       " 'get',\n",
       " 'id2token',\n",
       " 'items',\n",
       " 'iteritems',\n",
       " 'iterkeys',\n",
       " 'itervalues',\n",
       " 'keys',\n",
       " 'load',\n",
       " 'load_from_text',\n",
       " 'merge_with',\n",
       " 'num_docs',\n",
       " 'num_nnz',\n",
       " 'num_pos',\n",
       " 'patch_with_special_tokens',\n",
       " 'save',\n",
       " 'save_as_text',\n",
       " 'token2id',\n",
       " 'values']"
      ]
     },
     "execution_count": 23,
     "metadata": {},
     "output_type": "execute_result"
    }
   ],
   "source": [
    "[m for m in dir(id2word) if not m.startswith(\"_\")]"
   ]
  },
  {
   "cell_type": "code",
   "execution_count": 24,
   "metadata": {
    "id": "ykaYsGUqCOxj"
   },
   "outputs": [],
   "source": [
    "# exclude the keys that are repeated less than or more than a certain number of times\n",
    "id2word.filter_extremes(no_below=15, no_above=0.85)"
   ]
  },
  {
   "cell_type": "code",
   "execution_count": 25,
   "metadata": {
    "id": "4RP20D92COxl",
    "outputId": "e6199e92-33de-4960-a05b-64979a2f89cc"
   },
   "outputs": [
    {
     "data": {
      "text/plain": [
       "10064"
      ]
     },
     "execution_count": 25,
     "metadata": {},
     "output_type": "execute_result"
    }
   ],
   "source": [
    "len(id2word.keys())"
   ]
  },
  {
   "cell_type": "code",
   "execution_count": 26,
   "metadata": {},
   "outputs": [
    {
     "data": {
      "text/plain": [
       "'agenda'"
      ]
     },
     "execution_count": 26,
     "metadata": {},
     "output_type": "execute_result"
    }
   ],
   "source": [
    "# token \"1 oz episode\" is removed, and ids are re-assigned\n",
    "id2word[0]"
   ]
  },
  {
   "cell_type": "markdown",
   "metadata": {},
   "source": [
    "* **.doc2bow() method** Allows us to convert any random document to a bag of word based on a dictionary of id2word that we have built. token_ids are used from the dictionary and words that are not in the dictionary are ignored."
   ]
  },
  {
   "cell_type": "code",
   "execution_count": 27,
   "metadata": {},
   "outputs": [
    {
     "data": {
      "text/plain": [
       "[(0, 2), (5, 1)]"
      ]
     },
     "execution_count": 27,
     "metadata": {},
     "output_type": "execute_result"
    }
   ],
   "source": [
    "# 'aryans' is no longer in the id2word dict\n",
    "id2word.doc2bow(['agenda', 'agenda', 'city', 'aryans'])"
   ]
  },
  {
   "cell_type": "code",
   "execution_count": 28,
   "metadata": {},
   "outputs": [
    {
     "data": {
      "text/plain": [
       "[(0, 1),\n",
       " (1, 1),\n",
       " (2, 1),\n",
       " (3, 1),\n",
       " (4, 1),\n",
       " (5, 1),\n",
       " (6, 1),\n",
       " (7, 1),\n",
       " (8, 1),\n",
       " (9, 1),\n",
       " (10, 1),\n",
       " (11, 1),\n",
       " (12, 1),\n",
       " (13, 1),\n",
       " (14, 1),\n",
       " (15, 1),\n",
       " (16, 1),\n",
       " (17, 1),\n",
       " (18, 1),\n",
       " (19, 1),\n",
       " (20, 1),\n",
       " (21, 1),\n",
       " (22, 1),\n",
       " (23, 1),\n",
       " (24, 1),\n",
       " (25, 1),\n",
       " (26, 1),\n",
       " (27, 1),\n",
       " (28, 1),\n",
       " (29, 1),\n",
       " (30, 1),\n",
       " (31, 1),\n",
       " (32, 1),\n",
       " (33, 1),\n",
       " (34, 1)]"
      ]
     },
     "execution_count": 28,
     "metadata": {},
     "output_type": "execute_result"
    }
   ],
   "source": [
    "id2word.doc2bow(df['clean_keywords'][0])"
   ]
  },
  {
   "cell_type": "markdown",
   "metadata": {},
   "source": [
    "### Document Term Matrix (Bag of words _Counting_)\n",
    "`corpus` is counter type bow with one row for each document."
   ]
  },
  {
   "cell_type": "code",
   "execution_count": 29,
   "metadata": {
    "id": "gYNMSUg2COxn"
   },
   "outputs": [],
   "source": [
    "\"\"\"\n",
    "counts number of occurrences of each token (must exist in dictionary of id2word) **per document**, \n",
    "(token_id, count)\n",
    "\"\"\"\n",
    "corpus = [id2word.doc2bow(text) for text in df['clean_keywords']]"
   ]
  },
  {
   "cell_type": "code",
   "execution_count": 30,
   "metadata": {},
   "outputs": [
    {
     "data": {
      "text/plain": [
       "[[(0, 1),\n",
       "  (1, 1),\n",
       "  (2, 1),\n",
       "  (3, 1),\n",
       "  (4, 1),\n",
       "  (5, 1),\n",
       "  (6, 1),\n",
       "  (7, 1),\n",
       "  (8, 1),\n",
       "  (9, 1),\n",
       "  (10, 1),\n",
       "  (11, 1),\n",
       "  (12, 1),\n",
       "  (13, 1),\n",
       "  (14, 1),\n",
       "  (15, 1),\n",
       "  (16, 1),\n",
       "  (17, 1),\n",
       "  (18, 1),\n",
       "  (19, 1),\n",
       "  (20, 1),\n",
       "  (21, 1),\n",
       "  (22, 1),\n",
       "  (23, 1),\n",
       "  (24, 1),\n",
       "  (25, 1),\n",
       "  (26, 1),\n",
       "  (27, 1),\n",
       "  (28, 1),\n",
       "  (29, 1),\n",
       "  (30, 1),\n",
       "  (31, 1),\n",
       "  (32, 1),\n",
       "  (33, 1),\n",
       "  (34, 1)],\n",
       " [(9, 1),\n",
       "  (87, 1),\n",
       "  (92, 1),\n",
       "  (118, 1),\n",
       "  (148, 1),\n",
       "  (177, 1),\n",
       "  (251, 1),\n",
       "  (402, 1),\n",
       "  (412, 1),\n",
       "  (601, 1),\n",
       "  (670, 1),\n",
       "  (1090, 1),\n",
       "  (1937, 1),\n",
       "  (2191, 1),\n",
       "  (3397, 1),\n",
       "  (4231, 1),\n",
       "  (4232, 1),\n",
       "  (4233, 1),\n",
       "  (4234, 1),\n",
       "  (4235, 1),\n",
       "  (4236, 1)]]"
      ]
     },
     "execution_count": 30,
     "metadata": {},
     "output_type": "execute_result"
    }
   ],
   "source": [
    "# token_id = 9 is counted once in doc0 and doc500\n",
    "corpus[0:600:500]"
   ]
  },
  {
   "cell_type": "code",
   "execution_count": 31,
   "metadata": {
    "id": "CGdn4XOICOxp",
    "outputId": "698230e7-56a8-4869-8706-97a43b96bae5"
   },
   "outputs": [
    {
     "data": {
      "text/plain": [
       "40436"
      ]
     },
     "execution_count": 31,
     "metadata": {},
     "output_type": "execute_result"
    }
   ],
   "source": [
    "# same length as the df['clean_keywords']\n",
    "len(corpus)"
   ]
  },
  {
   "cell_type": "markdown",
   "metadata": {},
   "source": [
    "### Topic Modeling\n",
    "### Parallelized Latent Dirichlet Allocation\n",
    "\n",
    "The constructor estimates Latent Dirichlet Allocation model parameters based on a training corpus:\n",
    "```\n",
    "lda = LdaMulticore(corpus, num_topics=10)\n",
    "```\n",
    "You can then infer topic distributions on new, unseen documents, with\n",
    "```\n",
    "doc_lda = lda[doc_bow]\n",
    "```\n",
    "The model can be updated (trained) with new documents via\n",
    "```\n",
    "lda.update(other_corpus)\n",
    "```\n",
    "Model persistency is achieved through its load/save methods."
   ]
  },
  {
   "cell_type": "markdown",
   "metadata": {},
   "source": []
  },
  {
   "cell_type": "code",
   "execution_count": 32,
   "metadata": {
    "id": "cLsG_ihzCOx4"
   },
   "outputs": [],
   "source": [
    "lda = LdaMulticore(corpus=corpus, # doc_bow\n",
    "                   id2word=id2word,  # dictionary\n",
    "                   num_topics=20,\n",
    "                   passes=50, \n",
    "                   workers=7\n",
    "                  )"
   ]
  },
  {
   "cell_type": "code",
   "execution_count": 33,
   "metadata": {},
   "outputs": [
    {
     "data": {
      "text/plain": [
       "['alpha',\n",
       " 'batch',\n",
       " 'bound',\n",
       " 'callbacks',\n",
       " 'chunksize',\n",
       " 'clear',\n",
       " 'decay',\n",
       " 'diff',\n",
       " 'dispatcher',\n",
       " 'distributed',\n",
       " 'do_estep',\n",
       " 'do_mstep',\n",
       " 'dtype',\n",
       " 'eta',\n",
       " 'eval_every',\n",
       " 'expElogbeta',\n",
       " 'gamma_threshold',\n",
       " 'get_document_topics',\n",
       " 'get_term_topics',\n",
       " 'get_topic_terms',\n",
       " 'get_topics',\n",
       " 'id2word',\n",
       " 'inference',\n",
       " 'init_dir_prior',\n",
       " 'iterations',\n",
       " 'load',\n",
       " 'log_perplexity',\n",
       " 'minimum_phi_value',\n",
       " 'minimum_probability',\n",
       " 'num_terms',\n",
       " 'num_topics',\n",
       " 'num_updates',\n",
       " 'numworkers',\n",
       " 'offset',\n",
       " 'optimize_alpha',\n",
       " 'optimize_eta',\n",
       " 'passes',\n",
       " 'per_word_topics',\n",
       " 'print_topic',\n",
       " 'print_topics',\n",
       " 'random_state',\n",
       " 'save',\n",
       " 'show_topic',\n",
       " 'show_topics',\n",
       " 'state',\n",
       " 'sync_state',\n",
       " 'top_topics',\n",
       " 'update',\n",
       " 'update_alpha',\n",
       " 'update_eta',\n",
       " 'update_every',\n",
       " 'workers']"
      ]
     },
     "execution_count": 33,
     "metadata": {},
     "output_type": "execute_result"
    }
   ],
   "source": [
    "[m for m in dir(lda) if not m.startswith(\"_\")]"
   ]
  },
  {
   "cell_type": "code",
   "execution_count": 34,
   "metadata": {},
   "outputs": [
    {
     "data": {
      "text/plain": [
       "81"
      ]
     },
     "execution_count": 34,
     "metadata": {},
     "output_type": "execute_result"
    }
   ],
   "source": [
    "id2word.token2id[\"acting\"]"
   ]
  },
  {
   "cell_type": "code",
   "execution_count": 35,
   "metadata": {
    "id": "e7L8OwisCOx6",
    "outputId": "6a8d850b-a40a-4583-d6a9-4197e4661efb"
   },
   "outputs": [
    {
     "data": {
      "text/plain": [
       "[(0,\n",
       "  '0.010*\"life\" + 0.010*\"story\" + 0.009*\"book\" + 0.009*\"love\" + 0.008*\"time\" + 0.006*\"way\" + 0.006*\"end\" + 0.006*\"novel\" + 0.006*\"man\" + 0.006*\"fact\"'),\n",
       " (1,\n",
       "  '0.008*\"killer\" + 0.007*\"way\" + 0.007*\"end\" + 0.007*\"time\" + 0.007*\"horror\" + 0.007*\"gore\" + 0.006*\"group\" + 0.006*\"death\" + 0.006*\"place\" + 0.006*\"house\"'),\n",
       " (2,\n",
       "  '0.012*\"people\" + 0.012*\"comedy\" + 0.007*\"half\" + 0.007*\"time\" + 0.007*\"scene\" + 0.006*\"life\" + 0.006*\"way\" + 0.006*\"end\" + 0.005*\"fun\" + 0.005*\"hollywood\"'),\n",
       " (3,\n",
       "  '0.010*\"scenes\" + 0.009*\"time\" + 0.009*\"scene\" + 0.009*\"director\" + 0.008*\"camera\" + 0.008*\"people\" + 0.008*\"dvd\" + 0.008*\"point\" + 0.007*\"end\" + 0.007*\"thing\"'),\n",
       " (4,\n",
       "  '0.013*\"time\" + 0.012*\"people\" + 0.011*\"thing\" + 0.008*\"fact\" + 0.007*\"characters\" + 0.007*\"way\" + 0.007*\"movies\" + 0.007*\"things\" + 0.006*\"life\" + 0.006*\"second\"'),\n",
       " (5,\n",
       "  '0.014*\"story\" + 0.013*\"time\" + 0.010*\"oscar\" + 0.010*\"love\" + 0.009*\"life\" + 0.007*\"indian\" + 0.007*\"role\" + 0.007*\"screen\" + 0.006*\"people\" + 0.006*\"family\"'),\n",
       " (6,\n",
       "  '0.022*\"english\" + 0.015*\"british\" + 0.015*\"american\" + 0.014*\"cast\" + 0.011*\"script\" + 0.009*\"actors\" + 0.008*\"german\" + 0.008*\"story\" + 0.007*\"acting\" + 0.007*\"dvd\"'),\n",
       " (7,\n",
       "  '0.019*\"characters\" + 0.014*\"series\" + 0.013*\"story\" + 0.012*\"actors\" + 0.011*\"plot\" + 0.011*\"time\" + 0.010*\"acting\" + 0.010*\"cast\" + 0.009*\"lot\" + 0.009*\"episode\"'),\n",
       " (8,\n",
       "  '0.010*\"blood\" + 0.010*\"horror\" + 0.009*\"gore\" + 0.008*\"end\" + 0.007*\"people\" + 0.007*\"story\" + 0.006*\"way\" + 0.006*\"things\" + 0.006*\"earth\" + 0.005*\"plot\"'),\n",
       " (9,\n",
       "  '0.025*\"kids\" + 0.017*\"people\" + 0.015*\"family\" + 0.015*\"time\" + 0.014*\"tv\" + 0.014*\"children\" + 0.012*\"parents\" + 0.011*\"dvd\" + 0.010*\"friends\" + 0.009*\"mother\"'),\n",
       " (10,\n",
       "  '0.025*\"people\" + 0.022*\"time\" + 0.021*\"acting\" + 0.016*\"plot\" + 0.015*\"money\" + 0.014*\"movies\" + 0.013*\"thing\" + 0.012*\"crap\" + 0.012*\"worst\" + 0.009*\"actors\"'),\n",
       " (11,\n",
       "  '0.009*\"night\" + 0.008*\"fact\" + 0.008*\"actors\" + 0.008*\"saturday\" + 0.008*\"time\" + 0.007*\"thing\" + 0.007*\"plot\" + 0.007*\"script\" + 0.007*\"kind\" + 0.005*\"ed wood\"'),\n",
       " (12,\n",
       "  '0.019*\"people\" + 0.013*\"action\" + 0.011*\"world\" + 0.009*\"christian\" + 0.009*\"movies\" + 0.008*\"bad guys\" + 0.007*\"way\" + 0.006*\"second\" + 0.006*\"plot\" + 0.006*\"time\"'),\n",
       " (13,\n",
       "  '0.019*\"story\" + 0.015*\"disney\" + 0.013*\"time\" + 0.011*\"animation\" + 0.011*\"music\" + 0.009*\"love\" + 0.008*\"second\" + 0.008*\"characters\" + 0.006*\"end\" + 0.006*\"british\"'),\n",
       " (14,\n",
       "  '0.010*\"men\" + 0.010*\"women\" + 0.008*\"hollywood\" + 0.007*\"love\" + 0.007*\"role\" + 0.007*\"time\" + 0.006*\"way\" + 0.006*\"money\" + 0.006*\"start\" + 0.005*\"man\"'),\n",
       " (15,\n",
       "  '0.024*\"characters\" + 0.022*\"story\" + 0.016*\"time\" + 0.015*\"plot\" + 0.015*\"acting\" + 0.011*\"people\" + 0.010*\"way\" + 0.009*\"scenes\" + 0.009*\"end\" + 0.008*\"actors\"'),\n",
       " (16,\n",
       "  '0.009*\"hollywood\" + 0.008*\"time\" + 0.008*\"plot\" + 0.008*\"story\" + 0.008*\"role\" + 0.007*\"japanese\" + 0.007*\"way\" + 0.007*\"action\" + 0.006*\"times\" + 0.006*\"president\"'),\n",
       " (17,\n",
       "  '0.015*\"story\" + 0.013*\"life\" + 0.011*\"wife\" + 0.009*\"character\" + 0.009*\"end\" + 0.009*\"man\" + 0.008*\"role\" + 0.008*\"people\" + 0.007*\"movies\" + 0.007*\"love\"'),\n",
       " (18,\n",
       "  '0.012*\"time\" + 0.008*\"french\" + 0.008*\"story\" + 0.006*\"american\" + 0.006*\"role\" + 0.006*\"hitchcock\" + 0.006*\"way\" + 0.005*\"hollywood\" + 0.005*\"today\" + 0.005*\"director\"'),\n",
       " (19,\n",
       "  '0.016*\"people\" + 0.012*\"life\" + 0.010*\"story\" + 0.009*\"world\" + 0.009*\"war\" + 0.009*\"time\" + 0.008*\"way\" + 0.008*\"american\" + 0.006*\"end\" + 0.006*\"characters\"')]"
      ]
     },
     "execution_count": 35,
     "metadata": {},
     "output_type": "execute_result"
    }
   ],
   "source": [
    "# topics represented as weighted tokens\n",
    "lda.print_topics()"
   ]
  },
  {
   "cell_type": "code",
   "execution_count": 36,
   "metadata": {
    "id": "LM5KkVBBCOx8",
    "outputId": "58d0c53d-ade1-49b4-cc0f-d5f3419966b4"
   },
   "outputs": [
    {
     "data": {
      "text/plain": [
       "[(4, '0.013*\"time\" + 0.012*\"people\" + 0.011*\"thing\" + 0.008*\"fact\"'),\n",
       " (1, '0.008*\"killer\" + 0.007*\"way\" + 0.007*\"end\" + 0.007*\"time\"')]"
      ]
     },
     "execution_count": 36,
     "metadata": {},
     "output_type": "execute_result"
    }
   ],
   "source": [
    "# Print two random topics\n",
    "lda.print_topics(2, num_words=4)"
   ]
  },
  {
   "cell_type": "code",
   "execution_count": 37,
   "metadata": {
    "id": "4JUaMQZ2COx-"
   },
   "outputs": [],
   "source": [
    "import re"
   ]
  },
  {
   "cell_type": "code",
   "execution_count": 38,
   "metadata": {
    "id": "NiyLHEPwCOyB",
    "outputId": "01f1dd60-9bab-4f88-d0c6-dbe2f926e249"
   },
   "outputs": [
    {
     "data": {
      "text/plain": [
       "[(9,\n",
       "  '0.025*\"kids\" + 0.017*\"people\" + 0.015*\"family\" + 0.015*\"time\" + 0.014*\"tv\" + 0.014*\"children\" + 0.012*\"parents\" + 0.011*\"dvd\" + 0.010*\"friends\" + 0.009*\"mother\"')]"
      ]
     },
     "execution_count": 38,
     "metadata": {},
     "output_type": "execute_result"
    }
   ],
   "source": [
    "test = lda.print_topics(1)\n",
    "test"
   ]
  },
  {
   "cell_type": "code",
   "execution_count": 39,
   "metadata": {
    "id": "Ncxuh_rxCOyD",
    "outputId": "30ae8899-08b2-4edd-e94f-91889488a973"
   },
   "outputs": [
    {
     "data": {
      "text/plain": [
       "'0.025*\"kids\" + 0.017*\"people\" + 0.015*\"family\" + 0.015*\"time\" + 0.014*\"tv\" + 0.014*\"children\" + 0.012*\"parents\" + 0.011*\"dvd\" + 0.010*\"friends\" + 0.009*\"mother\"'"
      ]
     },
     "execution_count": 39,
     "metadata": {},
     "output_type": "execute_result"
    }
   ],
   "source": [
    "# list(tuple)\n",
    "test[0][1]"
   ]
  },
  {
   "cell_type": "code",
   "execution_count": 40,
   "metadata": {
    "id": "q9vkdjfuCOyG",
    "outputId": "9379ed6b-df8a-44ed-b0d2-5705072c13b4"
   },
   "outputs": [
    {
     "data": {
      "text/plain": [
       "['\"kids\"',\n",
       " '\"people\"',\n",
       " '\"family\"',\n",
       " '\"time\"',\n",
       " '\"tv\"',\n",
       " '\"children\"',\n",
       " '\"parents\"',\n",
       " '\"dvd\"',\n",
       " '\"friends\"',\n",
       " '\"mother\"']"
      ]
     },
     "execution_count": 40,
     "metadata": {},
     "output_type": "execute_result"
    }
   ],
   "source": [
    "# re.findall() returns a list of all the matching patterns\n",
    "re.findall(r'\"[^\"]*\"', test[0][1])"
   ]
  },
  {
   "cell_type": "code",
   "execution_count": 41,
   "metadata": {
    "id": "deDw_33tCOyH"
   },
   "outputs": [],
   "source": [
    "# t[1] exclude the topic number from each tuple\n",
    "# r'\"[^\"]*\"' grab every instance of the patterns between \" and \"\n",
    "\n",
    "words = [re.findall(r'\"[^\"]*\"', t[1]) for t in lda.print_topics(20)]"
   ]
  },
  {
   "cell_type": "code",
   "execution_count": 42,
   "metadata": {
    "id": "FKTmWTjTCOyJ",
    "outputId": "a13223d6-8c21-41ec-e772-e0b9e28e9559"
   },
   "outputs": [
    {
     "data": {
      "text/plain": [
       "['\"life\"',\n",
       " '\"story\"',\n",
       " '\"book\"',\n",
       " '\"love\"',\n",
       " '\"time\"',\n",
       " '\"way\"',\n",
       " '\"end\"',\n",
       " '\"novel\"',\n",
       " '\"man\"',\n",
       " '\"fact\"']"
      ]
     },
     "execution_count": 42,
     "metadata": {},
     "output_type": "execute_result"
    }
   ],
   "source": [
    "words[0]"
   ]
  },
  {
   "cell_type": "code",
   "execution_count": 43,
   "metadata": {
    "id": "8kKOBRcRCOyL",
    "outputId": "091cdb17-14fc-437e-a51e-ff6aae627539"
   },
   "outputs": [
    {
     "data": {
      "text/plain": [
       "20"
      ]
     },
     "execution_count": 43,
     "metadata": {},
     "output_type": "execute_result"
    }
   ],
   "source": [
    "# number of topics\n",
    "len(words)"
   ]
  },
  {
   "cell_type": "code",
   "execution_count": 44,
   "metadata": {
    "id": "kOfbiu0zCOyO"
   },
   "outputs": [],
   "source": [
    "# t refers to each of 20 topics, grab the first 5 keywords in each topic\n",
    "topic_labels = [', '.join(t[0:5]) for t in words]"
   ]
  },
  {
   "cell_type": "code",
   "execution_count": 45,
   "metadata": {
    "id": "D5axQttSCOyQ",
    "outputId": "1c664ecd-7136-45ab-b7a1-0701301f6db5"
   },
   "outputs": [
    {
     "name": "stdout",
     "output_type": "stream",
     "text": [
      "------ Topic 0 ------\n",
      "\"life\", \"story\", \"book\", \"love\", \"time\"\n",
      "\n",
      "------ Topic 1 ------\n",
      "\"killer\", \"way\", \"end\", \"time\", \"horror\"\n",
      "\n",
      "------ Topic 2 ------\n",
      "\"people\", \"comedy\", \"half\", \"time\", \"scene\"\n",
      "\n",
      "------ Topic 3 ------\n",
      "\"scenes\", \"time\", \"scene\", \"director\", \"camera\"\n",
      "\n",
      "------ Topic 4 ------\n",
      "\"time\", \"people\", \"thing\", \"fact\", \"characters\"\n",
      "\n",
      "------ Topic 5 ------\n",
      "\"story\", \"time\", \"oscar\", \"love\", \"life\"\n",
      "\n",
      "------ Topic 6 ------\n",
      "\"english\", \"british\", \"american\", \"cast\", \"script\"\n",
      "\n",
      "------ Topic 7 ------\n",
      "\"characters\", \"series\", \"story\", \"actors\", \"plot\"\n",
      "\n",
      "------ Topic 8 ------\n",
      "\"blood\", \"horror\", \"gore\", \"end\", \"people\"\n",
      "\n",
      "------ Topic 9 ------\n",
      "\"kids\", \"people\", \"family\", \"time\", \"tv\"\n",
      "\n",
      "------ Topic 10 ------\n",
      "\"people\", \"time\", \"acting\", \"plot\", \"money\"\n",
      "\n",
      "------ Topic 11 ------\n",
      "\"night\", \"fact\", \"actors\", \"saturday\", \"time\"\n",
      "\n",
      "------ Topic 12 ------\n",
      "\"people\", \"action\", \"world\", \"christian\", \"movies\"\n",
      "\n",
      "------ Topic 13 ------\n",
      "\"story\", \"disney\", \"time\", \"animation\", \"music\"\n",
      "\n",
      "------ Topic 14 ------\n",
      "\"men\", \"women\", \"hollywood\", \"love\", \"role\"\n",
      "\n",
      "------ Topic 15 ------\n",
      "\"characters\", \"story\", \"time\", \"plot\", \"acting\"\n",
      "\n",
      "------ Topic 16 ------\n",
      "\"hollywood\", \"time\", \"plot\", \"story\", \"role\"\n",
      "\n",
      "------ Topic 17 ------\n",
      "\"story\", \"life\", \"wife\", \"character\", \"end\"\n",
      "\n",
      "------ Topic 18 ------\n",
      "\"time\", \"french\", \"story\", \"american\", \"role\"\n",
      "\n",
      "------ Topic 19 ------\n",
      "\"people\", \"life\", \"story\", \"world\", \"war\"\n",
      "\n"
     ]
    }
   ],
   "source": [
    "for id, t in enumerate(topic_labels): \n",
    "    print(f\"------ Topic {id} ------\")\n",
    "    print(t, end=\"\\n\\n\")"
   ]
  },
  {
   "cell_type": "code",
   "execution_count": 46,
   "metadata": {
    "id": "QIxRKqy9COyS",
    "outputId": "de466801-feeb-40b4-94b6-21ded1746873"
   },
   "outputs": [
    {
     "name": "stderr",
     "output_type": "stream",
     "text": [
      "/Users/shahnam/opt/anaconda3/envs/ML_NLP/lib/python3.7/site-packages/sklearn/linear_model/_least_angle.py:30: DeprecationWarning: `np.float` is a deprecated alias for the builtin `float`. To silence this warning, use `float` by itself. Doing this will not modify any behavior and is safe. If you specifically wanted the numpy scalar type, use `np.float64` here.\n",
      "Deprecated in NumPy 1.20; for more details and guidance: https://numpy.org/devdocs/release/1.20.0-notes.html#deprecations\n",
      "  method='lar', copy_X=True, eps=np.finfo(np.float).eps,\n",
      "/Users/shahnam/opt/anaconda3/envs/ML_NLP/lib/python3.7/site-packages/sklearn/linear_model/_least_angle.py:169: DeprecationWarning: `np.float` is a deprecated alias for the builtin `float`. To silence this warning, use `float` by itself. Doing this will not modify any behavior and is safe. If you specifically wanted the numpy scalar type, use `np.float64` here.\n",
      "Deprecated in NumPy 1.20; for more details and guidance: https://numpy.org/devdocs/release/1.20.0-notes.html#deprecations\n",
      "  method='lar', copy_X=True, eps=np.finfo(np.float).eps,\n",
      "/Users/shahnam/opt/anaconda3/envs/ML_NLP/lib/python3.7/site-packages/sklearn/linear_model/_least_angle.py:286: DeprecationWarning: `np.float` is a deprecated alias for the builtin `float`. To silence this warning, use `float` by itself. Doing this will not modify any behavior and is safe. If you specifically wanted the numpy scalar type, use `np.float64` here.\n",
      "Deprecated in NumPy 1.20; for more details and guidance: https://numpy.org/devdocs/release/1.20.0-notes.html#deprecations\n",
      "  eps=np.finfo(np.float).eps, copy_Gram=True, verbose=0,\n",
      "/Users/shahnam/opt/anaconda3/envs/ML_NLP/lib/python3.7/site-packages/sklearn/linear_model/_least_angle.py:858: DeprecationWarning: `np.float` is a deprecated alias for the builtin `float`. To silence this warning, use `float` by itself. Doing this will not modify any behavior and is safe. If you specifically wanted the numpy scalar type, use `np.float64` here.\n",
      "Deprecated in NumPy 1.20; for more details and guidance: https://numpy.org/devdocs/release/1.20.0-notes.html#deprecations\n",
      "  eps=np.finfo(np.float).eps, copy_X=True, fit_path=True):\n",
      "/Users/shahnam/opt/anaconda3/envs/ML_NLP/lib/python3.7/site-packages/sklearn/linear_model/_least_angle.py:1094: DeprecationWarning: `np.float` is a deprecated alias for the builtin `float`. To silence this warning, use `float` by itself. Doing this will not modify any behavior and is safe. If you specifically wanted the numpy scalar type, use `np.float64` here.\n",
      "Deprecated in NumPy 1.20; for more details and guidance: https://numpy.org/devdocs/release/1.20.0-notes.html#deprecations\n",
      "  eps=np.finfo(np.float).eps, copy_X=True, fit_path=True,\n",
      "/Users/shahnam/opt/anaconda3/envs/ML_NLP/lib/python3.7/site-packages/sklearn/linear_model/_least_angle.py:1120: DeprecationWarning: `np.float` is a deprecated alias for the builtin `float`. To silence this warning, use `float` by itself. Doing this will not modify any behavior and is safe. If you specifically wanted the numpy scalar type, use `np.float64` here.\n",
      "Deprecated in NumPy 1.20; for more details and guidance: https://numpy.org/devdocs/release/1.20.0-notes.html#deprecations\n",
      "  eps=np.finfo(np.float).eps, positive=False):\n",
      "/Users/shahnam/opt/anaconda3/envs/ML_NLP/lib/python3.7/site-packages/sklearn/linear_model/_least_angle.py:1349: DeprecationWarning: `np.float` is a deprecated alias for the builtin `float`. To silence this warning, use `float` by itself. Doing this will not modify any behavior and is safe. If you specifically wanted the numpy scalar type, use `np.float64` here.\n",
      "Deprecated in NumPy 1.20; for more details and guidance: https://numpy.org/devdocs/release/1.20.0-notes.html#deprecations\n",
      "  max_n_alphas=1000, n_jobs=None, eps=np.finfo(np.float).eps,\n",
      "/Users/shahnam/opt/anaconda3/envs/ML_NLP/lib/python3.7/site-packages/sklearn/linear_model/_least_angle.py:1590: DeprecationWarning: `np.float` is a deprecated alias for the builtin `float`. To silence this warning, use `float` by itself. Doing this will not modify any behavior and is safe. If you specifically wanted the numpy scalar type, use `np.float64` here.\n",
      "Deprecated in NumPy 1.20; for more details and guidance: https://numpy.org/devdocs/release/1.20.0-notes.html#deprecations\n",
      "  max_n_alphas=1000, n_jobs=None, eps=np.finfo(np.float).eps,\n",
      "/Users/shahnam/opt/anaconda3/envs/ML_NLP/lib/python3.7/site-packages/sklearn/linear_model/_least_angle.py:1723: DeprecationWarning: `np.float` is a deprecated alias for the builtin `float`. To silence this warning, use `float` by itself. Doing this will not modify any behavior and is safe. If you specifically wanted the numpy scalar type, use `np.float64` here.\n",
      "Deprecated in NumPy 1.20; for more details and guidance: https://numpy.org/devdocs/release/1.20.0-notes.html#deprecations\n",
      "  eps=np.finfo(np.float).eps, copy_X=True, positive=False):\n",
      "/Users/shahnam/opt/anaconda3/envs/ML_NLP/lib/python3.7/site-packages/sklearn/decomposition/_lda.py:29: DeprecationWarning: `np.float` is a deprecated alias for the builtin `float`. To silence this warning, use `float` by itself. Doing this will not modify any behavior and is safe. If you specifically wanted the numpy scalar type, use `np.float64` here.\n",
      "Deprecated in NumPy 1.20; for more details and guidance: https://numpy.org/devdocs/release/1.20.0-notes.html#deprecations\n",
      "  EPS = np.finfo(np.float).eps\n"
     ]
    }
   ],
   "source": [
    "import pyLDAvis\n",
    "\n",
    "pyLDAvis.enable_notebook()"
   ]
  },
  {
   "cell_type": "code",
   "execution_count": 47,
   "metadata": {},
   "outputs": [
    {
     "name": "stderr",
     "output_type": "stream",
     "text": [
      "/Users/shahnam/opt/anaconda3/envs/ML_NLP/lib/python3.7/site-packages/ipykernel/ipkernel.py:283: DeprecationWarning: `should_run_async` will not call `transform_cell` automatically in the future. Please pass the result to `transformed_cell` argument and any exception that happen during thetransform in `preprocessing_exc_tuple` in IPython 7.17 and above.\n",
      "  and should_run_async(code)\n"
     ]
    },
    {
     "data": {
      "text/plain": [
       "['pyLDAvis']"
      ]
     },
     "execution_count": 47,
     "metadata": {},
     "output_type": "execute_result"
    }
   ],
   "source": [
    "[m for m in dir() if m.startswith(\"pyLDA\")]"
   ]
  },
  {
   "cell_type": "markdown",
   "metadata": {},
   "source": [
    "* To prevent the notebook styling be overwritten by pyLDAvis, we can save the graph to html and open is in another tab.\n",
    "```\n",
    "vis = pyLDAvis.gensim.prepare(lda_model_tfidf, corpus, dictionary=lda_model_tfidf.id2word)\n",
    "pyLDAvis.save_html(vis, \"/........./Desktop/top_5_topicsb.html\")\n",
    "```"
   ]
  },
  {
   "cell_type": "code",
   "execution_count": 49,
   "metadata": {},
   "outputs": [
    {
     "name": "stderr",
     "output_type": "stream",
     "text": [
      "/Users/shahnam/opt/anaconda3/envs/ML_NLP/lib/python3.7/site-packages/ipykernel/ipkernel.py:283: DeprecationWarning: `should_run_async` will not call `transform_cell` automatically in the future. Please pass the result to `transformed_cell` argument and any exception that happen during thetransform in `preprocessing_exc_tuple` in IPython 7.17 and above.\n",
      "  and should_run_async(code)\n"
     ]
    },
    {
     "data": {
      "text/plain": [
       "['append',\n",
       " 'clear',\n",
       " 'copy',\n",
       " 'count',\n",
       " 'extend',\n",
       " 'index',\n",
       " 'insert',\n",
       " 'pop',\n",
       " 'remove',\n",
       " 'reverse',\n",
       " 'sort']"
      ]
     },
     "execution_count": 49,
     "metadata": {},
     "output_type": "execute_result"
    }
   ],
   "source": [
    "[m for m in dir(corpus) if not m.startswith(\"_\")]"
   ]
  },
  {
   "cell_type": "code",
   "execution_count": 51,
   "metadata": {},
   "outputs": [
    {
     "name": "stderr",
     "output_type": "stream",
     "text": [
      "/Users/shahnam/opt/anaconda3/envs/ML_NLP/lib/python3.7/site-packages/ipykernel/ipkernel.py:283: DeprecationWarning: `should_run_async` will not call `transform_cell` automatically in the future. Please pass the result to `transformed_cell` argument and any exception that happen during thetransform in `preprocessing_exc_tuple` in IPython 7.17 and above.\n",
      "  and should_run_async(code)\n"
     ]
    },
    {
     "data": {
      "text/plain": [
       "['PreparedData',\n",
       " '__all__',\n",
       " '__builtins__',\n",
       " '__cached__',\n",
       " '__doc__',\n",
       " '__file__',\n",
       " '__loader__',\n",
       " '__name__',\n",
       " '__package__',\n",
       " '__path__',\n",
       " '__spec__',\n",
       " '__version__',\n",
       " '_display',\n",
       " '_prepare',\n",
       " '_server',\n",
       " 'disable_notebook',\n",
       " 'display',\n",
       " 'enable_notebook',\n",
       " 'js_PCoA',\n",
       " 'prepare',\n",
       " 'prepared_data_to_html',\n",
       " 'save_html',\n",
       " 'save_json',\n",
       " 'show',\n",
       " 'urls',\n",
       " 'utils']"
      ]
     },
     "execution_count": 51,
     "metadata": {},
     "output_type": "execute_result"
    }
   ],
   "source": [
    "dir(pyLDAvis)"
   ]
  },
  {
   "cell_type": "code",
   "execution_count": 52,
   "metadata": {},
   "outputs": [
    {
     "name": "stderr",
     "output_type": "stream",
     "text": [
      "/Users/shahnam/opt/anaconda3/envs/ML_NLP/lib/python3.7/site-packages/ipykernel/ipkernel.py:283: DeprecationWarning: `should_run_async` will not call `transform_cell` automatically in the future. Please pass the result to `transformed_cell` argument and any exception that happen during thetransform in `preprocessing_exc_tuple` in IPython 7.17 and above.\n",
      "  and should_run_async(code)\n"
     ]
    }
   ],
   "source": [
    "import pyLDAvis.gensim"
   ]
  },
  {
   "cell_type": "code",
   "execution_count": 54,
   "metadata": {},
   "outputs": [
    {
     "name": "stderr",
     "output_type": "stream",
     "text": [
      "/Users/shahnam/opt/anaconda3/envs/ML_NLP/lib/python3.7/site-packages/ipykernel/ipkernel.py:283: DeprecationWarning: `should_run_async` will not call `transform_cell` automatically in the future. Please pass the result to `transformed_cell` argument and any exception that happen during thetransform in `preprocessing_exc_tuple` in IPython 7.17 and above.\n",
      "  and should_run_async(code)\n"
     ]
    }
   ],
   "source": [
    "#Lambda 0 shows the unique representative keywords of a topic\n",
    "# Lambda=1 shows the most probable keyword showing in a topic\n",
    "vis = pyLDAvis.gensim.prepare(topic_model=lda, corpus=corpus, dictionary=id2word)\n",
    "pyLDAvis.save_html(vis, \"./top_20_topics.html\")"
   ]
  },
  {
   "cell_type": "code",
   "execution_count": 56,
   "metadata": {},
   "outputs": [
    {
     "name": "stderr",
     "output_type": "stream",
     "text": [
      "/Users/shahnam/opt/anaconda3/envs/ML_NLP/lib/python3.7/site-packages/ipykernel/ipkernel.py:283: DeprecationWarning: `should_run_async` will not call `transform_cell` automatically in the future. Please pass the result to `transformed_cell` argument and any exception that happen during thetransform in `preprocessing_exc_tuple` in IPython 7.17 and above.\n",
      "  and should_run_async(code)\n"
     ]
    },
    {
     "data": {
      "text/html": [
       "\n",
       "<link rel=\"stylesheet\" type=\"text/css\" href=\"https://cdn.rawgit.com/bmabey/pyLDAvis/files/ldavis.v1.0.0.css\">\n",
       "\n",
       "\n",
       "<div id=\"ldavis_el701061403783710697767111260915\"></div>\n",
       "<script type=\"text/javascript\">\n",
       "\n",
       "var ldavis_el701061403783710697767111260915_data = {\"mdsDat\": {\"x\": [-0.07796647956487048, 0.190653195217569, 0.11413761155615475, 0.025091278810696338, -0.0003492614338018908, 0.10423992307840645, 0.07496904823643737, -0.11442994211063885, 0.06058603279281453, -0.06266197415336983, -0.17143455510255987, -0.13893125947842752, -0.1140536440741943, -0.03135089035843337, 0.13439052354283068, 0.06466330705999189, -0.013608240179781109, 0.02768646777125458, -0.16179490277753428, 0.09016376116745613], \"y\": [0.0076206855601952325, 0.015438851077792803, -0.10817252623719695, 0.18383441627709976, 0.11148927414351639, 0.01758939124393266, -0.10983147861010982, -0.08003588101813194, 0.1735656905053577, 0.03722586074457771, 0.007778227847594696, -0.07058662419041722, 0.017042243665075188, -0.18513796108720254, -0.04612974519967114, 0.035065766584075266, -0.09669241730987578, -0.0014962633779813058, 0.09302167644937574, -0.0015891870680067378], \"topics\": [1, 2, 3, 4, 5, 6, 7, 8, 9, 10, 11, 12, 13, 14, 15, 16, 17, 18, 19, 20], \"cluster\": [1, 1, 1, 1, 1, 1, 1, 1, 1, 1, 1, 1, 1, 1, 1, 1, 1, 1, 1, 1], \"Freq\": [10.217279120904848, 8.0804029604975, 7.365652214622778, 6.472254050339369, 5.8855096596864955, 5.751247289468268, 5.436632364081551, 4.984313337956654, 4.983844392011419, 4.631974309043367, 4.500347697652018, 4.307920471543312, 3.6621417935386473, 3.564842706834711, 3.5025093201937723, 3.413516948196381, 3.3552209942291142, 3.3530650363014343, 3.308989102660551, 3.2223362302377936]}, \"tinfo\": {\"Term\": [\"kids\", \"acting\", \"english\", \"crap\", \"characters\", \"horror\", \"love\", \"worst\", \"american\", \"british\", \"family\", \"episode\", \"people\", \"children\", \"gore\", \"role\", \"series\", \"comedy\", \"actors\", \"plot\", \"parents\", \"disney\", \"tv\", \"cast\", \"french\", \"story\", \"script\", \"war\", \"dvd\", \"action\", \"iraq\", \"cultures\", \"europeans\", \"wars\", \"prejudices\", \"propaganda\", \"eisenstein\", \"ussr\", \"poland\", \"awareness\", \"traditions\", \"stalin\", \"fascism\", \"fassbinder\", \"poem\", \"afghanistan\", \"stalingrad\", \"homeland\", \"iranian\", \"kurtz\", \"spectator\", \"achievements\", \"spirituality\", \"heart darkness\", \"munich\", \"palestinian\", \"javier bardem\", \"raf\", \"adolf hitler\", \"anti-american\", \"hitler\", \"principles\", \"countries\", \"nazi\", \"terrorism\", \"war\", \"documentary\", \"nazis\", \"culture\", \"holocaust\", \"germany\", \"israeli\", \"soviet\", \"soviet union\", \"compassion\", \"symbolism\", \"soldiers\", \"sexuality\", \"freedom\", \"subject\", \"wwii\", \"german\", \"depiction\", \"americans\", \"nature\", \"society\", \"meaning\", \"europe\", \"vietnam\", \"germans\", \"art\", \"country\", \"message\", \"world\", \"humanity\", \"truth\", \"american\", \"life\", \"lives\", \"people\", \"power\", \"america\", \"reality\", \"death\", \"events\", \"view\", \"men\", \"story\", \"love\", \"way\", \"work\", \"time\", \"end\", \"fact\", \"point\", \"characters\", \"man\", \"place\", \"person\", \"things\", \"director\", \"mind\", \"viewer\", \"crap\", \"cool\", \"2 minutes\", \"manos\", \"hostel\", \"1 star\", \"worse movies\", \"linda blair\", \"pure crap\", \"blockbuster\", \"worst movies\", \"hobgoblins\", \"cabin fever\", \"cover art\", \"dung\", \"carly\", \"sam raimi\", \"imdb rating\", \"crappy\", \"sarah michelle gellar\", \"hasselhoff\", \"unknown actors\", \"sholay\", \"guidelines\", \"absolute worst\", \"worst\", \"churches\", \"splatter\", \"weed\", \"worst acting\", \"worse\", \"bad movies\", \"bin\", \"pile\", \"garbage\", \"good reviews\", \"junk\", \"trash\", \"scarecrow\", \"akshay kumar\", \"bad\", \"jack frost\", \"dude\", \"waste\", \"piece\", \"costs\", \"rubbish\", \"imdb\", \"cover\", \"5 minutes\", \"tripe\", \"terrible\", \"money\", \"horrible\", \"acting\", \"insult\", \"video store\", \"guy\", \"awful\", \"movies\", \"thing\", \"people\", \"plot\", \"reviews\", \"time\", \"reason\", \"horror\", \"bunch\", \"hell\", \"actors\", \"script\", \"good\", \"lot\", \"director\", \"end\", \"friends\", \"story\", \"fact\", \"life\", \"way\", \"kind\", \"sense\", \"anime\", \"enterprise\", \"kirk\", \"cg\", \"spock\", \"john woo\", \"trek\", \"bad editing\", \"mccoy\", \"ice age\", \"manga\", \"northanger abbey\", \"butterfly effect\", \"bad story\", \"tale sisters\", \"final fantasy\", \"animated movies\", \"grapes\", \"insomnia\", \"vulcan\", \"gripe\", \"mansfield park\", \"affect\", \"3 year old\", \"hidden dragon\", \"interesting ideas\", \"millions dollars\", \"time travel\", \"the-art\", \"original plot\", \"voyager\", \"cube\", \"star trek\", \"visuals\", \"story line\", \"mini-series\", \"plot device\", \"preview\", \"cinematography\", \"character development\", \"technology\", \"editing\", \"production design\", \"characters\", \"sci-fi\", \"hour\", \"lighting\", \"camera-work\", \"dinosaurs\", \"acting\", \"lynch\", \"hour half\", \"feeling\", \"disappointment\", \"story\", \"plot\", \"directing\", \"pacing\", \"scenes\", \"dialogue\", \"book\", \"music\", \"direction\", \"time\", \"half\", \"actors\", \"special effects\", \"way\", \"viewer\", \"end\", \"people\", \"lot\", \"movies\", \"audience\", \"ending\", \"point\", \"script\", \"sense\", \"fact\", \"action\", \"times\", \"thing\", \"director\", \"second\", \"place\", \"slasher\", \"friday 13th\", \"columbo\", \"wax\", \"bonnie\", \"michael myers\", \"wwe\", \"kills\", \"13th\", \"jamie lee curtis\", \"linnea quigley\", \"house wax\", \"falk\", \"slashers\", \"robert taylor\", \"hunters\", \"body count\", \"puppet master\", \"boogeyman\", \"scare\", \"undertaker\", \"wrestlemania\", \"camp blood\", \"arctic\", \"slasher flick\", \"ewoks\", \"female nudity\", \"scary movies\", \"final showdown\", \"richard lynch\", \"ranch\", \"clyde\", \"prey\", \"winchester\", \"killer\", \"axe\", \"psychopath\", \"halloween\", \"sleaze\", \"ring\", \"woods\", \"locals\", \"police\", \"gun\", \"ghosts\", \"hills\", \"gang\", \"cabin\", \"knife\", \"carpenter\", \"westerns\", \"revenge\", \"murder\", \"group\", \"gore\", \"town\", \"horror\", \"suspense\", \"house\", \"serial killer\", \"car\", \"tension\", \"death\", \"ghost\", \"night\", \"cops\", \"victims\", \"terror\", \"place\", \"blood\", \"end\", \"way\", \"middle\", \"man\", \"scene\", \"time\", \"story\", \"plot\", \"people\", \"action\", \"fact\", \"lot\", \"point\", \"friends\", \"couple\", \"nbc\", \"santa\", \"mike myers\", \"comedy central\", \"seuss\", \"funniest thing\", \"leno\", \"junior\", \"commenter\", \"jim henson\", \"spencer\", \"dr. seuss\", \"unintentional humor\", \"youngest son\", \"parent\", \"cartoon network\", \"towel\", \"letterman\", \"fast\", \"sicily\", \"moonstruck\", \"biker\", \"mike judge\", \"charlotte gainsbourg\", \"married\", \"tom arnold\", \"big brother\", \"jeff daniels\", \"dynamite\", \"young kids\", \"adult\", \"kids\", \"parents\", \"mom\", \"sitcom\", \"adults\", \"nickelodeon\", \"school\", \"dad\", \"high school\", \"abc\", \"little kid\", \"santa claus\", \"college\", \"children\", \"shows\", \"simpsons\", \"teachers\", \"kid\", \"tv\", \"episodes\", \"family\", \"christmas\", \"mother\", \"episode\", \"teenager\", \"child\", \"copy\", \"friends\", \"boys\", \"dvd\", \"jokes\", \"son\", \"television\", \"father\", \"people\", \"age\", \"years\", \"time\", \"series\", \"way\", \"things\", \"life\", \"fun\", \"day\", \"lot\", \"today\", \"thing\", \"noise\", \"blair witch\", \"dvd cover\", \"two-thirds\", \"padding\", \"telly\", \"snuff\", \"fiasco\", \"slap\", \"excrement\", \"gunshots\", \"bad dialog\", \"cue cards\", \"con\", \"thai\", \"melissa joan hart\", \"robbins\", \"bishop\", \"zero day\", \"death bed\", \"paul naschy\", \"ebay\", \"lick\", \"soft porn\", \"attackers\", \"rapists\", \"masters horror\", \"modern cinema\", \"british tv\", \"log\", \"sad\", \"stores\", \"close ups\", \"sasquatch\", \"diner\", \"ninja\", \"toronto\", \"close-ups\", \"disc\", \"3rd\", \"sound effects\", \"shower\", \"good news\", \"camera\", \"2nd\", \"headache\", \"seconds\", \"little sense\", \"shots\", \"acid\", \"clothes\", \"scenes\", \"sex scenes\", \"dvd\", \"nudity\", \"scene\", \"director\", \"minutes\", \"bed\", \"point\", \"footage\", \"lines\", \"middle\", \"dialog\", \"sex\", \"words\", \"shot\", \"thing\", \"couple\", \"time\", \"fact\", \"sense\", \"script\", \"end\", \"people\", \"example\", \"plot\", \"dialogue\", \"bit\", \"characters\", \"acting\", \"screen\", \"rest\", \"way\", \"lot\", \"case\", \"reason\", \"actors\", \"money\", \"story\", \"sopranos\", \"indy\", \"steve carell\", \"sitcoms\", \"plot development\", \"great special effects\", \"50 minutes\", \"low budget movies\", \"farscape\", \"final episode\", \"carell\", \"charlize theron\", \"vin diesel\", \"pitch black\", \"shorty\", \"weak attempt\", \"comeuppance\", \"league gentlemen\", \"bsg\", \"failed attempt\", \"riddick\", \"bam margera\", \"lava\", \"new episodes\", \"battlestar galactica\", \"anchorman\", \"haggard\", \"cky\", \"eric stoltz\", \"caper\", \"braveheart\", \"uma thurman\", \"wayans\", \"prequel\", \"second season\", \"sigourney weaver\", \"season\", \"league\", \"writers\", \"salman khan\", \"90 minute\", \"writing\", \"chemistry\", \"series\", \"episode\", \"new characters\", \"potential\", \"big disappointment\", \"episodes\", \"scripts\", \"good job\", \"characters\", \"original\", \"cast\", \"flaws\", \"tv series\", \"actors\", \"great job\", \"drama\", \"talent\", \"roles\", \"acting\", \"character\", \"plot\", \"good\", \"story\", \"comedy\", \"lot\", \"sequel\", \"fan\", \"role\", \"time\", \"end\", \"script\", \"rest\", \"money\", \"people\", \"fact\", \"action\", \"second\", \"director\", \"welles\", \"natalie portman\", \"boris karloff\", \"jack palance\", \"elizabeth taylor\", \"peter lorre\", \"midnight cowboy\", \"doris day\", \"marilyn monroe\", \"neil simon\", \"vertigo\", \"hitchcock\", \"warners\", \"lena\", \"hitchcockian\", \"napoleon\", \"revival\", \"rooney\", \"doris\", \"gus van sant\", \"priscilla lane\", \"interpretations\", \"norman bates\", \"northwest\", \"turn century\", \"davies\", \"fontaine\", \"hal roach\", \"forbidden planet\", \"boyer\", \"billy wilder\", \"rko\", \"orson welles\", \"oliver stone\", \"karloff\", \"noir\", \"famous\", \"mickey rooney\", \"humphrey bogart\", \"paris\", \"opening night\", \"fonda\", \"french\", \"scarface\", \"wonderland\", \"bogart\", \"thread\", \"berlin\", \"1940s\", \"new york\", \"columbia\", \"version\", \"color\", \"stage\", \"role\", \"remake\", \"american\", \"studio\", \"broadway\", \"today\", \"time\", \"james stewart\", \"decade\", \"hollywood\", \"murder\", \"performance\", \"story\", \"performances\", \"director\", \"career\", \"picture\", \"man\", \"screen\", \"way\", \"place\", \"character\", \"cast\", \"style\", \"course\", \"case\", \"love\", \"scene\", \"fact\", \"year\", \"movies\", \"work\", \"life\", \"vampires\", \"fulci\", \"undead\", \"giallo\", \"kevin\", \"lucio fulci\", \"chucky\", \"re-animator\", \"robert englund\", \"blob\", \"zombie movies\", \"night living dead\", \"carradine\", \"piggy\", \"lifeforce\", \"radiation\", \"plug\", \"robert blake\", \"philo vance\", \"vampire movies\", \"scary moments\", \"joyce\", \"tv guide\", \"hal hartley\", \"emma roberts\", \"organs\", \"trunk\", \"childs play\", \"jeffrey combs\", \"nightmare elm street\", \"elm street\", \"kermit\", \"vampire\", \"zombies\", \"dead\", \"nasa\", \"crypt\", \"muppet\", \"zombie\", \"crystal\", \"living dead\", \"grave\", \"blade\", \"nightmare\", \"lab\", \"blood\", \"wes craven\", \"alien\", \"scientist\", \"nurse\", \"doctor\", \"murders\", \"hospital\", \"gore\", \"stephen king\", \"horror\", \"monster\", \"body\", \"creature\", \"earth\", \"planet\", \"dracula\", \"flesh\", \"space\", \"italian\", \"aliens\", \"monsters\", \"sci-fi\", \"end\", \"head\", \"hell\", \"dog\", \"things\", \"way\", \"people\", \"story\", \"house\", \"plot\", \"man\", \"scene\", \"night\", \"idea\", \"wife\", \"time\", \"death\", \"case\", \"place\", \"course\", \"lot\", \"aussie\", \"adam sandler\", \"walter matthau\", \"matthau\", \"barrymore\", \"jamie foxx\", \"drew barrymore\", \"don cheadle\", \"sandler\", \"philip seymour hoffman\", \"david niven\", \"australians\", \"karl malden\", \"carrey\", \"julia stiles\", \"heather graham\", \"hank\", \"george burns\", \"jason lee\", \"romantic\", \"david morse\", \"montgomery\", \"foxx\", \"paz vega\", \"kinnear\", \"cheadle\", \"maggie smith\", \"lumet\", \"little details\", \"damon\", \"poor guy\", \"burt reynolds\", \"australian\", \"lemmon\", \"smith\", \"nice\", \"vote\", \"hit-man\", \"sydney\", \"brazil\", \"drew\", \"brazilian\", \"best movies\", \"wife\", \"jack lemmon\", \"reynolds\", \"affair\", \"husband\", \"job\", \"australia\", \"apartment\", \"life\", \"character\", \"role\", \"woman\", \"man\", \"story\", \"couple\", \"crime\", \"leads\", \"love\", \"end\", \"performance\", \"movies\", \"things\", \"scenes\", \"comedy\", \"guy\", \"sex\", \"girlfriend\", \"people\", \"actors\", \"characters\", \"lot\", \"girl\", \"acting\", \"time\", \"plot\", \"scene\", \"tarzan\", \"hardy\", \"laurel\", \"stan\", \"reminder\", \"rochester\", \"ollie\", \"jane eyre\", \"dirty harry\", \"silence lambs\", \"james cagney\", \"atlantic\", \"velvet\", \"cagney\", \"manners\", \"stan laurel\", \"mississippi\", \"collapse\", \"whites\", \"bonnie hunt\", \"oliver hardy\", \"albert brooks\", \"dick powell\", \"jane austen\", \"busby berkeley\", \"jennifer jones\", \"persuasion\", \"darwin\", \"wild animals\", \"story-telling\", \"austen\", \"civilization\", \"swedish\", \"blacks\", \"emma\", \"gone wind\", \"jane\", \"bergman\", \"poverty\", \"triumph\", \"lambs\", \"bette davis\", \"bbc\", \"trust\", \"novel\", \"prejudice\", \"book\", \"countryside\", \"love\", \"jungle\", \"life\", \"silence\", \"women\", \"british\", \"story\", \"man\", \"wind\", \"time\", \"today\", \"way\", \"end\", \"fact\", \"woman\", \"role\", \"heart\", \"relationship\", \"wife\", \"character\", \"half\", \"friends\", \"course\", \"second\", \"men\", \"day\", \"world\", \"years\", \"screen\", \"meryl streep\", \"academy\", \"errol flynn\", \"flynn\", \"streep\", \"jeremy irons\", \"custer\", \"confederate\", \"merchant\", \"professionalism\", \"belgian\", \"rendition\", \"real events\", \"gromit\", \"reese witherspoon\", \"soccer\", \"newman\", \"danny glover\", \"dirty dancing\", \"west point\", \"renee zellweger\", \"alvin\", \"lonesome dove\", \"sexual content\", \"touching story\", \"low point\", \"marie dressler\", \"jake gyllenhaal\", \"little big horn\", \"shemp\", \"juliet\", \"schindlers list\", \"indian cinema\", \"wallace\", \"romeo\", \"oscars\", \"india\", \"indian\", \"indians\", \"best picture\", \"civil war\", \"oscar\", \"fantastic job\", \"bollywood\", \"tears\", \"tom hanks\", \"passion\", \"love story\", \"shakespeare\", \"play\", \"stooges\", \"love\", \"performances\", \"best\", \"jewish\", \"screen\", \"story\", \"performance\", \"role\", \"heart\", \"time\", \"life\", \"family\", \"history\", \"audience\", \"scene\", \"great\", \"years\", \"today\", \"man\", \"lot\", \"characters\", \"people\", \"actors\", \"way\", \"character\", \"fact\", \"hollywood\", \"cinderella\", \"rings\", \"peter cushing\", \"miyazaki\", \"randolph scott\", \"sherlock holmes\", \"walt disney\", \"basil rathbone\", \"gene tierney\", \"pokemon\", \"disney channel\", \"cushing\", \"peter jackson\", \"ralph fiennes\", \"little mermaid\", \"stepmother\", \"arabia\", \"voice acting\", \"tarkovsky\", \"michael j. fox\", \"moriarty\", \"olsen\", \"dreamworks\", \"chris farley\", \"ponyo\", \"tierney\", \"bakshi\", \"main role\", \"lawrence arabia\", \"rathbone\", \"watson\", \"disney\", \"christopher lee\", \"animation\", \"astaire\", \"lord\", \"prince\", \"lion king\", \"romania\", \"pixar\", \"romanian\", \"animated\", \"magic\", \"dana andrews\", \"cary grant\", \"bethany cox\", \"dance\", \"songs\", \"horses\", \"music\", \"tale\", \"ages\", \"story\", \"british\", \"favourite\", \"love\", \"animals\", \"second\", \"song\", \"time\", \"voice\", \"voices\", \"classic\", \"characters\", \"adventure\", \"great\", \"english\", \"romance\", \"end\", \"house\", \"years\", \"things\", \"heart\", \"plot\", \"dvd\", \"fact\", \"life\", \"people\", \"kids\", \"course\", \"leading lady\", \"polanski\", \"moscow\", \"olivier\", \"verhoeven\", \"scrooge\", \"paul verhoeven\", \"jane fonda\", \"yul brynner\", \"basic instinct\", \"debbie reynolds\", \"voodoo\", \"american werewolf\", \"christmas carol\", \"sharon stone\", \"barbra streisand\", \"marlene dietrich\", \"dudley moore\", \"robert carlyle\", \"brenda blethyn\", \"landlord\", \"mary tyler moore\", \"bulgaria\", \"best oscar\", \"trepidation\", \"ali g\", \"susannah york\", \"scoop\", \"prot\", \"u.k.\", \"harvey keitel\", \"dickens\", \"arthur\", \"dutch\", \"english\", \"scottish\", \"charles dickens\", \"russian\", \"british\", \"george c. scott\", \"london\", \"farce\", \"costumes\", \"german\", \"shakespeare\", \"woody allen\", \"subtitles\", \"humour\", \"michael douglas\", \"american\", \"european\", \"cast\", \"americans\", \"wit\", \"french\", \"script\", \"russia\", \"grace\", \"play\", \"actors\", \"dvd\", \"rest\", \"christmas\", \"hollywood\", \"comedy\", \"character\", \"acting\", \"sets\", \"version\", \"story\", \"director\", \"music\", \"drama\", \"bit\", \"role\", \"time\", \"plot\", \"years\", \"course\", \"troma\", \"john waters\", \"ups\", \"josh\", \"guy ritchie\", \"departure\", \"late night tv\", \"different stories\", \"lloyd kaufman\", \"clive barker\", \"emily blunt\", \"eugene levy\", \"david cronenberg\", \"giovanni ribisi\", \"pink flamingos\", \"good money\", \"divine\", \"cannibal\", \"complete failure\", \"mausoleum\", \"laboratory\", \"major flaw\", \"boll\", \"julie walters\", \"national lampoon\", \"pg-13 rating\", \"funny bits\", \"decades ago\", \"modesty\", \"gamers\", \"phantasm\", \"downs\", \"comics\", \"saturday night live\", \"paint\", \"3\", \"losers\", \"batman\", \"segment\", \"robin\", \"snl\", \"chevy chase\", \"bad reviews\", \"dragons\", \"joker\", \"short\", \"victoria\", \"superman\", \"incest\", \"high hopes\", \"90 minutes\", \"stuff\", \"thing\", \"trains\", \"bunch\", \"humor\", \"decent\", \"time\", \"people\", \"audience\", \"second\", \"fact\", \"kind\", \"problem\", \"30 minutes\", \"material\", \"movies\", \"things\", \"characters\", \"point\", \"way\", \"lot\", \"life\", \"minutes\", \"reason\", \"mind\", \"world\", \"story\", \"sort\", \"plot\", \"end\", \"sense\", \"martial arts\", \"seagal\", \"christians\", \"christ\", \"jackie chan\", \"van damme\", \"steven seagal\", \"wizard\", \"chuck norris\", \"kung fu\", \"hk\", \"bruce lee\", \"jet li\", \"snipes\", \"wizard oz\", \"ghoulies\", \"shaw\", \"old people\", \"police story\", \"british industry\", \"n64\", \"better luck\", \"batman returns\", \"universal soldier\", \"jean-claude van damme\", \"sammo hung\", \"oz\", \"superiority\", \"duchovny\", \"strategy\", \"christianity\", \"ss\", \"christian\", \"good guys\", \"10 lines\", \"ii\", \"penguin\", \"tim burton\", \"wesley snipes\", \"bible\", \"fighting\", \"bad guys\", \"hong kong\", \"muslim\", \"jesus\", \"fights\", \"matrix\", \"fight scenes\", \"action\", \"chinese\", \"world\", \"people\", \"game\", \"faith\", \"villains\", \"movies\", \"god\", \"second\", \"way\", \"today\", \"plot\", \"hell\", \"time\", \"reason\", \"characters\", \"lot\", \"things\", \"place\", \"fact\", \"money\", \"fun\", \"president\", \"sutherland\", \"ben stiller\", \"secret service\", \"overacting\", \"kiefer sutherland\", \"domino\", \"thailand\", \"roger moore\", \"tony scott\", \"slasher movies\", \"islam\", \"dolemite\", \"lethal weapon\", \"total recall\", \"basinger\", \"stiller\", \"blaxploitation\", \"stephen rea\", \"irene dunne\", \"thunderball\", \"japanese culture\", \"denzel\", \"sylvester\", \"screen play\", \"sean connery\", \"ozu\", \"chairman\", \"nuclear war\", \"better director\", \"connery\", \"john malkovich\", \"william h. macy\", \"eastwood\", \"worth\", \"washington\", \"donald sutherland\", \"air force\", \"bond\", \"kim basinger\", \"denzel washington\", \"high quality\", \"james bond\", \"foreigners\", \"kurosawa\", \"clint eastwood\", \"japan\", \"united states\", \"japanese\", \"marines\", \"jack black\", \"hollywood\", \"cia\", \"role\", \"action\", \"christopher walken\", \"times\", \"plot\", \"character\", \"comedy\", \"time\", \"story\", \"way\", \"fire\", \"number\", \"american\", \"course\", \"script\", \"direction\", \"director\", \"fact\", \"end\", \"people\", \"kind\", \"cast\", \"world\", \"eddie murphy\", \"buster keaton\", \"chris rock\", \"jeff goldblum\", \"doug\", \"belushi\", \"phil silvers\", \"attenborough\", \"chris sarandon\", \"bud\", \"fbi agent\", \"previous comment\", \"richard attenborough\", \"dean stockwell\", \"zoey\", \"eli wallach\", \"boarding school\", \"fart jokes\", \"william haines\", \"takashi miike\", \"cover girl\", \"ichi\", \"big thing\", \"douglas fairbanks\", \"henry fool\", \"single thing\", \"fay grim\", \"trey parker\", \"lump\", \"robert downey\", \"murphy\", \"dancers\", \"richard pryor\", \"audition\", \"quentin tarantino\", \"tom berenger\", \"keaton\", \"deniro\", \"rock\", \"guitar\", \"one-liners\", \"buster\", \"costello\", \"second half\", \"concert\", \"betty\", \"chaplin\", \"gary busey\", \"comedy\", \"comedian\", \"eddie\", \"riot\", \"billy zane\", \"club\", \"band\", \"half\", \"dream\", \"songs\", \"tarantino\", \"song\", \"dancer\", \"stage\", \"people\", \"scene\", \"star\", \"fun\", \"joke\", \"minutes\", \"jokes\", \"hollywood\", \"life\", \"man\", \"time\", \"end\", \"way\", \"movies\", \"screen\", \"music\", \"guy\", \"director\", \"world\", \"fact\", \"lot\", \"actors\", \"things\", \"idea\", \"story\", \"cast\", \"madonna\", \"barbara stanwyck\", \"sinatra\", \"gary cooper\", \"frank sinatra\", \"stanwyck\", \"bronson\", \"robinson\", \"boxing\", \"glenn ford\", \"robert redford\", \"jean peters\", \"robert wagner\", \"cute\", \"dorothy malone\", \"terry gilliam\", \"demille\", \"daffy\", \"alain delon\", \"thelma ritter\", \"richard crenna\", \"grayson\", \"eleanor parker\", \"republic\", \"dick tracy\", \"cecil b. demille\", \"pre-code\", \"cooper\", \"pimp\", \"killjoy\", \"hudson\", \"kristofferson\", \"mormons\", \"sidney poitier\", \"ford\", \"michelle\", \"jean simmons\", \"crawford\", \"rock hudson\", \"jerry\", \"valley\", \"mormon\", \"secretary\", \"marlon brando\", \"paul\", \"farm\", \"connecticut\", \"mgm\", \"finish\", \"brad pitt\", \"brooklyn\", \"men\", \"airport\", \"women\", \"prostitution\", \"start\", \"john wayne\", \"new york\", \"hollywood\", \"town\", \"role\", \"texas\", \"love\", \"girl\", \"husband\", \"father\", \"money\", \"oscar\", \"career\", \"woman\", \"man\", \"way\", \"star\", \"time\", \"story\", \"years\", \"guy\", \"life\", \"american\", \"era\", \"today\", \"lot\", \"saturday\", \"saturday night\", \"mad scientist\", \"terrible script\", \"judy\", \"trinity\", \"good girl\", \"ifc\", \"arnie\", \"wolf man\", \"\\\"action\", \"joe don baker\", \"cerebral palsy\", \"ed wood\", \"planning\", \"ed woods\", \"denise richards\", \"alec guinness\", \"daniel day-lewis\", \"glen\", \"sabu\", \"ator\", \"inspector\", \"left foot\", \"classic movies\", \"dance scene\", \"tim curry\", \"frankensteins monster\", \"shaggy\", \"andie macdowell\", \"george clooney\", \"suspension\", \"conan\", \"40 minutes\", \"robots\", \"mike\", \"sf\", \"frankenstein\", \"afternoon\", \"finished product\", \"dollar\", \"mst3k\", \"friday\", \"disbelief\", \"stinker\", \"cable\", \"morning\", \"sunday\", \"good guy\", \"night\", \"outer space\", \"robot\", \"wood\", \"im\", \"bad guy\", \"plan\", \"actors\", \"kind\", \"script\", \"credits\", \"fact\", \"thing\", \"flick\", \"plot\", \"time\", \"cast\", \"movies\", \"soundtrack\", \"fun\", \"way\", \"day\", \"friends\", \"things\", \"guy\", \"acting\", \"idea\", \"man\", \"story\", \"times\", \"characters\", \"dvd\"], \"Freq\": [1500.0, 4301.0, 1227.0, 866.0, 5490.0, 1375.0, 2728.0, 905.0, 2242.0, 1039.0, 1750.0, 1026.0, 8709.0, 1172.0, 1123.0, 2213.0, 1783.0, 1650.0, 3494.0, 5053.0, 711.0, 555.0, 1571.0, 2263.0, 982.0, 8086.0, 2566.0, 985.0, 2208.0, 1898.0, 84.9220678517192, 41.19976422612636, 41.1907257784738, 38.29554955657466, 38.174820961431664, 103.67448887487954, 33.69764556553347, 33.24841559945044, 32.0633088939787, 30.14267859645603, 29.083151615346218, 28.120586148022735, 27.93247279244297, 26.524777054446428, 29.529073148475344, 59.615041061922135, 24.853609505280403, 24.834656379738686, 30.405685740075814, 24.502849231087886, 23.805138956610445, 23.575402009549602, 24.333750071642083, 22.620369467017635, 23.587966620093646, 25.258003035681533, 21.638416741898855, 19.77355584369188, 19.786994029229373, 19.66628136554522, 155.7817768502632, 42.80928765052685, 122.26622520410845, 181.88746891400837, 52.22154308774848, 832.6792359737989, 458.07137345257615, 132.9947351160308, 193.67432687908584, 52.34052453290458, 200.34682544119082, 47.63169510439762, 106.01985452050789, 62.280358195575936, 77.62269824690024, 86.80221896755464, 174.30613372954164, 100.52984193889434, 161.10005892647806, 295.8596598116407, 150.16878402732294, 349.66151333875047, 96.28383201086694, 260.1588324393254, 251.7231462217538, 287.93694532699925, 213.79922183997502, 185.78451616744982, 119.08862139025497, 120.03578910260276, 361.869577833799, 365.31332197817886, 311.78523463989694, 852.7937436235197, 191.33074555684837, 338.3168489454319, 695.1647034989677, 1136.882668106436, 336.0107384144027, 1478.7908077471168, 296.5335605208712, 309.97788498050625, 342.8647281556933, 423.12833123080736, 292.9246814950553, 266.1781199467559, 383.8664192092173, 912.2028758903299, 526.3087430829494, 717.6512141935092, 403.85836083554153, 775.8750459220984, 567.8014416981398, 530.5350404858967, 451.1156135521705, 540.5376600278843, 438.07123243543197, 404.737437492777, 341.96181803602263, 417.8712047146201, 386.46265222682405, 348.4863027244659, 337.4924278130144, 862.2337727762973, 48.30630621260344, 41.70283271951746, 33.51112716698193, 32.12614813995625, 28.777908739209597, 31.61833579618561, 26.763435598240083, 26.665253995291685, 135.44020566953256, 259.2829916670855, 22.24685087178238, 20.962266759853694, 20.45456571166548, 20.423287453170854, 20.220763091824363, 20.19222102472406, 19.500252290540303, 58.84421713890006, 18.238112087761706, 16.18416471361448, 15.223112659960984, 14.464758210777564, 14.28238779947486, 14.071603415987475, 847.9410344876569, 15.479243693536471, 28.02739222892052, 30.140412358335443, 29.051256989394513, 64.31103514843292, 195.01998161242716, 40.44089200882057, 123.72534185917849, 354.47842914319625, 51.88742007003212, 132.51043555878599, 255.40385763875668, 48.95151820266894, 32.66806313011512, 475.2256524106896, 41.2783891666495, 84.35784324492754, 384.3756312551007, 547.9794990446912, 195.22073364412145, 115.80107959120942, 453.8927503621953, 216.1555754925324, 129.30277087830828, 71.27479134107737, 133.5652992888402, 1068.649061283021, 94.76281264797623, 1488.5754750465342, 136.59145557379983, 112.21102008885377, 672.2757158445421, 100.47988612429921, 984.0614619576359, 950.8772687139013, 1779.7663810157742, 1125.5305283279458, 251.71522804887246, 1605.4493768549844, 627.3768099844523, 435.4187924356924, 347.6625028828448, 356.0338794038301, 675.3200238090202, 540.1371335260535, 454.00500350661207, 604.8228316032609, 515.1982210083338, 645.4473823222486, 401.0248792085013, 632.4054551860627, 502.18864938788363, 516.9107114356855, 488.11393284546324, 395.04999476528326, 371.55068430647657, 85.77295717131167, 67.2575846260886, 62.94438027805686, 45.04718856604442, 41.43817631476098, 33.44490959571485, 32.20942844696901, 30.50214870021339, 28.889384869238672, 22.32469682515799, 22.29929389022212, 20.892467830177267, 20.33428470570221, 19.669857552843432, 18.944410525078048, 18.789001069535278, 17.80343572126881, 16.612369032572467, 50.785522256756586, 15.808893782498425, 15.712282808900683, 15.386064409339589, 15.05659766522374, 14.964932903959227, 14.758081117398902, 15.59196485397669, 26.57972766737735, 30.37470333754064, 15.302563578261308, 20.27421043021225, 26.46053620082724, 46.236714348808775, 124.47676241181021, 155.89228549591877, 244.704452789061, 63.09016337840466, 36.13116229318444, 61.56477369919564, 444.9486126694468, 217.47373160588162, 97.32891708357643, 282.20830385484805, 41.82212796129673, 1593.8058413357494, 279.8862792079848, 359.5297920505136, 134.90210700213393, 50.41497744891353, 60.30593969036258, 999.7079781554521, 60.191908823057965, 106.39711595243759, 258.3557691285096, 145.25270712682766, 1418.507298480644, 1012.807937296579, 117.2080124344637, 132.30407451906598, 610.2067120085187, 350.01459646955664, 385.98734214791983, 444.18548714184885, 286.2400028737103, 1064.5425006455919, 348.8827867062472, 536.5472891682494, 251.3139859811846, 688.4148125932533, 301.5423587646503, 606.1649061780777, 751.1525698279285, 510.7653947382325, 481.14098242608605, 360.818808673925, 322.76810253497405, 415.72467510943227, 375.57812251606947, 348.5351430146405, 428.84089702919044, 332.2455660193704, 330.2035919333434, 326.2811383596367, 305.54554432417984, 300.092031303102, 300.27128938846664, 110.87073196272641, 103.0109529131442, 81.543037025401, 42.70438932031677, 41.07270991940337, 39.320892373119726, 38.25290318213298, 33.882159512102994, 32.07559304201287, 30.41340562328067, 30.486003873644272, 29.146456656588224, 27.991568897259302, 27.323181252270956, 26.72911758409246, 25.50618809773609, 24.78918239921084, 24.681622209362093, 24.397545097581833, 24.34764704616423, 23.584625339728145, 23.468621537052716, 23.267313696903578, 22.59845677542546, 22.487387944868257, 22.367308669308557, 22.157705231856387, 21.86543680643749, 21.535298272892547, 21.22803822971982, 34.94109620822256, 30.540197739237044, 73.54445305452214, 30.207835608848104, 439.1685444554965, 57.31649527149454, 40.96139888162564, 189.08446254253397, 43.52352404816938, 113.60858855972955, 210.58405375233934, 74.30073164465898, 282.4551173041799, 192.88909393043204, 112.77118400667307, 64.41878469483727, 165.8259624972662, 59.282430728701826, 74.64901217181918, 50.56359985572858, 81.29334829295172, 220.78493378776747, 276.1811429351456, 365.14662696155506, 377.6392178937768, 280.5588769746791, 417.02423799252006, 277.107316434525, 345.4004411009235, 87.32085663116546, 226.04449049341065, 179.74744147102646, 347.9427288233083, 94.63368468095072, 340.5181894210336, 130.8254582402312, 132.5265333738146, 107.53685721983472, 345.5948258513526, 195.35465578773676, 429.21059826225627, 433.18392697925094, 177.2530838663925, 305.78276751090795, 299.0033066726351, 420.6255364187862, 316.3406071655652, 275.58033446867324, 311.5225942229415, 210.86395110757093, 250.8760591562136, 231.91701985037926, 212.4209533128112, 198.3789493349257, 193.6446997227341, 90.33925391064652, 60.292580719368715, 43.71887183217023, 42.56563447907869, 35.55872222859553, 30.834252979243967, 25.158357942675295, 22.45033871263317, 22.259738475553764, 21.53490083199425, 20.3286949212628, 19.350207464145228, 20.44073173357325, 18.973382926095905, 73.53809423457346, 18.545458895043442, 18.10130214468653, 17.8484920336535, 16.955775065599862, 18.902632252689155, 16.34348509162468, 16.23154463862038, 16.231345801956895, 15.40073011244836, 14.240539594185986, 13.899280817183143, 24.653112451244265, 27.758873836334455, 18.163435543000354, 32.66566712902601, 165.78948386232622, 1324.1125893617505, 629.0214123399602, 257.4627910697874, 69.87106895189702, 324.5747535347415, 35.325991561549, 461.5332026219346, 286.4231492108519, 217.1258922795199, 89.91094138334387, 47.59157681858231, 42.95146019993275, 166.08655195562568, 714.9558039951171, 212.63472879402616, 63.07106307441193, 52.20229008324067, 377.55355279233055, 740.3023027182958, 292.4651163105137, 778.9139600190316, 207.93611442897898, 498.1823359360112, 435.0573605945642, 108.32639780877449, 300.27703561776116, 237.62168188521244, 539.6744696230819, 190.57663363793927, 553.0525429532945, 268.69137276915194, 310.12751405178494, 207.06602966176845, 324.2185850670028, 900.6021938501758, 245.58890180371935, 406.5638831754675, 764.943904056237, 337.2358157383719, 497.3935478329362, 411.2706712568968, 445.8312976743294, 311.5886759800023, 323.66820518247323, 345.7771291077983, 268.35725375788104, 269.90754345574965, 81.7933971797579, 48.480411513226706, 47.06681690858169, 29.518567424466408, 29.93473866293104, 26.652676499049004, 24.183667233493466, 24.064475692750058, 23.712064986068615, 23.59702251321621, 23.31825776160004, 23.071981586621735, 24.753661875850785, 21.640526261048237, 20.946963827664785, 20.542056053042586, 19.50742409711203, 19.04919272913707, 18.578527609078087, 18.577916309089822, 18.505425696056154, 55.797687318951446, 17.82046630113834, 17.7419732901759, 17.4324402706908, 17.32458991408173, 16.905448863693678, 16.828697086194143, 17.000146555518594, 16.559973198443878, 37.61951785817703, 30.843459262110287, 34.55201152782852, 32.026565373380976, 37.46788556866771, 35.575067644128026, 41.43081933903749, 63.143803331457434, 58.997407822800675, 83.19059878129467, 55.15572368628883, 62.54357549554854, 38.12476252965036, 425.48507084913786, 72.72474840227909, 40.06771004246965, 111.74835208631059, 48.28235629551331, 185.53853209943014, 38.80183779880267, 123.48924570343812, 539.2223808610763, 74.74485422950943, 412.0609350638382, 158.0211127294529, 476.8985026952951, 459.0141787120087, 265.203684633496, 147.2625796880859, 389.05580040136095, 113.10195260408788, 214.21663826570506, 168.44322451957717, 161.97793648918204, 194.20552838682084, 200.19709330259468, 125.2398653862091, 346.6677032161547, 219.65968923210772, 485.58275288748905, 336.2367313127531, 246.26095375806065, 262.98949330192346, 349.2660719291044, 418.93217411431226, 186.9749944053476, 321.79768808483607, 187.23798791619078, 172.56418157884457, 281.7034395519224, 257.97005379731445, 204.660916418849, 212.53013184527282, 250.8038841745077, 228.6767257572767, 192.24566176430193, 201.28151855708026, 210.64186354705166, 202.0944488964849, 209.84866220482326, 59.48850957666427, 37.92807159802189, 37.43136668034999, 33.897632475385315, 38.29787346726595, 28.97554049083925, 27.458880931835324, 27.11265121200086, 26.79124260945408, 26.521352519019, 23.403955539634037, 22.25847538797501, 22.166063067872944, 21.368024869577123, 21.2720577947451, 21.157679746587945, 19.899210387749328, 19.75458725433617, 19.342357211586336, 19.103513297795136, 19.040752661921022, 18.716737333429585, 18.090854663388978, 18.087271651467212, 17.634358316806008, 17.629177360687272, 17.41267216988307, 17.370460163894666, 17.282358478403523, 16.907307835780372, 30.300325240281936, 27.37848356969173, 24.640019771084894, 46.70459430884574, 43.42428755436646, 27.3389969698536, 269.98598404121464, 83.55020918296657, 353.3527023234306, 33.04730010506256, 38.609024709184965, 351.6985941320146, 200.3021666300019, 670.8629878993278, 428.11738887998115, 39.926233705502845, 187.22530340322967, 39.892828053342654, 212.14871172527825, 66.15574877320635, 172.91847243414003, 944.5030111396468, 189.89483943384943, 489.7492629699717, 142.43993756225717, 90.76342253682401, 576.4678719506844, 131.98048149864985, 214.23043034894738, 190.46884472544232, 185.11367736774667, 499.6404103918554, 396.0988709629727, 541.578197288039, 318.09751523325815, 628.977872408682, 272.6764756052822, 432.7083913480657, 170.31615461140274, 199.03312484284683, 294.76932711488934, 516.7458675466389, 402.826930939171, 278.7568807451487, 266.41881875261714, 256.1359588349583, 332.18383838032344, 276.6867136614923, 224.88223876865757, 207.4197011323838, 203.87256454134268, 60.831761300395186, 53.65403879558246, 44.631045965601714, 39.68829615982035, 38.24469948161392, 38.06477806028821, 33.177177456349604, 31.447689885689226, 30.939790295832086, 29.25807901136037, 28.97006898854624, 270.18897584721265, 27.558023518966415, 27.283935509056416, 26.69136137662925, 26.546086959505214, 28.173910675979403, 26.369046311969868, 26.148159354720654, 26.07340431111042, 25.897734103624625, 25.536725480212727, 25.194682814461995, 24.826992971980555, 26.931082169720103, 23.56026336950736, 23.034390030947424, 22.832632240665845, 22.776889785947194, 22.093996141445338, 27.459082410511947, 42.13731656897272, 78.61862239416348, 39.837122322328, 37.269839931584016, 117.33635166777643, 36.70692585232755, 38.05914086265528, 33.558587243070015, 197.6563145037943, 34.660768186512456, 36.92800192512235, 377.6019633443257, 35.46661025126308, 39.9240869764364, 40.09872611560514, 36.451485153337515, 44.562000657093954, 54.23729186317355, 166.13045254155466, 43.83330996307235, 162.04743236852144, 98.12915510790928, 122.93625467886811, 287.06583366059283, 107.56733686980152, 287.41316378974835, 102.33818322803158, 88.47865617266937, 227.18824577828866, 534.9360663794818, 53.903127284739796, 83.29161053196822, 232.7029379876605, 130.39505469690593, 153.9870169406029, 365.79949530020116, 137.35146020090002, 220.72283604312466, 123.31310755812697, 142.83878505926347, 211.88661165346954, 182.50443916609123, 264.6321082805503, 193.0716562788997, 195.81659847629405, 177.33877653516132, 123.68626102643924, 162.79242326819855, 149.6606646447452, 159.06089894757164, 159.77656398456273, 168.6992115879286, 132.03129275984693, 139.46034205287714, 131.78159806469415, 133.17032791906422, 167.42193846157957, 77.65202337463948, 48.66282497904275, 42.42665049207983, 40.55780517255054, 35.85719251104204, 35.3612279612173, 33.331105571992985, 31.27341117618605, 30.77409985517522, 29.015441537149574, 26.4363631908607, 26.411498131560947, 25.70866582096132, 25.882923285713233, 22.871896454864203, 22.530992062314507, 22.26729913164081, 22.006945201012677, 21.851662271042585, 21.650122922287654, 21.3111405918278, 21.4813389308455, 20.82852945180515, 20.66268295148144, 20.38323403339335, 20.24112966256353, 19.94557894130769, 19.79619171661588, 19.48830690015681, 57.18790083471173, 38.44300325540572, 104.65244702936512, 235.46278101925856, 163.55532978197195, 33.197742439063674, 28.87148374930455, 65.32743486665555, 120.92201357877089, 32.67034621619558, 59.4237460366736, 110.68669620092705, 55.96637079787163, 109.08441136292517, 49.878257260950924, 442.1994892803358, 49.18465188453462, 95.4310355365754, 91.41677518699322, 61.97360748496873, 199.56821450305173, 121.24533447069273, 138.94607570526108, 389.5807859400948, 66.65675580333743, 428.3403336528846, 148.11808346735333, 206.538658154418, 90.55996031727135, 269.2165330206033, 131.5763094076387, 76.64748430429815, 82.2413843883924, 136.27358047872144, 174.1330021652635, 102.90758766653167, 95.19452346507789, 151.8290828290888, 364.6431752724019, 204.42343659568482, 179.3572187330639, 118.79343601985545, 271.33610641803045, 281.2980247106849, 312.08672394852636, 303.13426644854576, 167.97651813400404, 241.28150019874042, 202.06726823459456, 198.50831382761046, 172.01046537291614, 175.06106285131835, 167.76528817301445, 216.4197773086541, 166.77202243719466, 162.5181726444671, 159.49488813463003, 157.36558526926558, 152.65775580858957, 104.21358812172537, 67.12649297476426, 62.2708861607024, 54.522983717853435, 53.34223801880591, 49.50060017902306, 47.95125273585208, 39.29589606644955, 37.64251359415622, 37.01469217873798, 36.661337092782944, 34.68938059731038, 34.54193364017715, 33.74760273180102, 31.951467915263827, 30.505630667569108, 30.222697182448496, 29.51358914672416, 28.315971731200356, 27.87494775890347, 26.289052152515257, 25.52003604133491, 24.354293843583072, 23.46928468162831, 23.435493098799963, 22.45843581930039, 22.399517223791833, 22.36665734105999, 22.157330571057212, 22.096618392675534, 36.416133850330176, 92.02709530904329, 241.4382881051665, 34.71682361901602, 150.47825182344658, 71.12006293261004, 164.10253844707293, 39.62427340433932, 43.43862230201905, 118.97304658696544, 33.27867109149714, 42.35080104825569, 89.72081255852729, 466.2091692869998, 50.62268969938508, 39.37595486492304, 113.88001273539065, 234.27674521969433, 239.93892023306395, 93.7264392452705, 92.27159074832197, 526.1271443574726, 388.3990085327376, 338.0901693537169, 252.59453728555306, 357.4125604280262, 603.3313485549121, 250.5834325335707, 130.24006937159095, 114.95431350403261, 301.6768835685396, 380.9101235317051, 178.36171970287083, 306.83616201922416, 295.4929950210268, 245.9348316654986, 198.70099763393196, 199.9404139566277, 160.2327136700035, 125.56962771986122, 310.59333534689887, 209.97089978112962, 193.43162930724463, 176.9630043311165, 141.84167601309537, 157.8419375174539, 162.4771334601065, 152.7671428388278, 144.03701181981958, 101.87382650942979, 78.79591914523911, 73.12371529104672, 60.023547245209045, 53.57987265618672, 40.703535867458555, 38.46789920404777, 38.46724660068768, 37.775601653921285, 36.59889931867876, 36.09836189781173, 34.47610455955963, 32.01629513333835, 38.548089888613724, 33.85636527549026, 29.21625012665707, 28.922758723788466, 28.46932335977482, 47.311951871000616, 26.02974229863613, 24.79896978679218, 24.790794701690004, 24.75068415538609, 53.888874499488104, 23.420245777699865, 23.008167689706713, 22.699292156733094, 21.33218401963432, 20.4092648627412, 20.245346804432035, 42.46442814674672, 55.113443770790994, 125.63700014883504, 78.18743083666087, 53.584185919971674, 35.08439872448595, 132.01512903407104, 82.87578015713699, 81.03926541680349, 65.36529989118246, 52.09858933911438, 53.55229957945296, 143.39846839236728, 52.4492127744925, 231.1543182348774, 64.18804553302603, 367.28880130999227, 55.68024967120877, 364.3902131959377, 65.27168522567189, 407.82487307364386, 76.59604701722527, 199.06552565156568, 176.00711685945274, 397.6734898017442, 230.43855971090974, 85.49850651536593, 329.5429340428575, 169.14605213143096, 257.55197912747406, 247.3606443667203, 226.29069696107467, 153.53945679210835, 173.60871764332379, 138.997021285995, 115.43775929719564, 140.28490945678746, 163.06027083887332, 137.47769516946576, 138.27731439474482, 143.36814455738454, 140.69002878135313, 125.95815585256301, 124.89400537567434, 130.37374035932373, 120.48147102942099, 117.20339055285491, 100.69185684756646, 93.27155945205331, 61.23167605417104, 59.20191880647502, 43.06509791200622, 35.72228336249374, 34.73702756923636, 31.54447458246344, 30.88771650059023, 30.47601289294163, 29.799259960186006, 45.346763412040076, 32.57340557855535, 28.296265155781875, 28.111412423514206, 27.46957994925378, 26.382345938365997, 48.97043493949647, 25.006212081475393, 24.931507915199823, 23.703318042318692, 23.39836857804878, 22.360953764488396, 21.737783897406572, 21.708414081166413, 21.618674593090688, 21.330874128026643, 20.88520838172357, 20.623354202440648, 20.29217185206342, 71.1326828762626, 32.521219689471764, 28.733924005471792, 39.38576770557614, 59.74881940081242, 135.51785366650188, 146.8366499116449, 275.2290462682099, 107.18083752683873, 73.36992532573575, 86.34909577940644, 380.6181660307805, 38.91617754923067, 94.8840355810651, 160.20859715610987, 62.45085592929732, 135.9051940073586, 105.02226238877685, 110.4892800423879, 143.3661438678909, 53.40323740350133, 366.7285111220795, 191.7980075350301, 179.13591556099664, 89.36681808906843, 267.5020506986241, 532.8219265135759, 185.89882345829292, 268.49365200222866, 198.37303100598317, 484.97901756051357, 359.2093724390688, 216.0359404217655, 159.0245079084225, 184.3183122219124, 204.57493667726706, 155.80510853171896, 183.3832070076096, 160.32902303067425, 181.61221402942968, 192.9713134454443, 203.6224742307089, 216.79702550050493, 181.05438231952587, 193.29640777795487, 162.38249645536317, 148.15855809119282, 144.09042767349445, 76.01291708475846, 100.30934835748741, 53.51023274462082, 50.88990367183481, 49.05539313774392, 42.85297210027286, 36.176596155228104, 35.85037694498312, 34.13543913437951, 33.610537338603656, 33.02466906187751, 27.93581992831521, 27.234726334985663, 26.46984349170022, 24.99829765379705, 24.8345998924893, 24.39092265623864, 24.203955608960946, 22.497716418961236, 22.956908415943268, 21.586632033315755, 21.5532346597674, 21.36835375870018, 21.12143665572438, 20.85596884018718, 20.475795341181122, 20.434447390332444, 20.356989695178175, 20.167711898357126, 19.978363675067293, 47.19783982443404, 477.46115594173983, 59.33940491804359, 360.95296601030753, 30.278428883413632, 128.8778949087053, 77.00780325800302, 35.875837065157675, 47.9516999736457, 47.47771841821897, 47.37415344074456, 44.65883619233121, 158.23073345732197, 34.847062436501346, 53.316666546876235, 30.32506072283921, 100.66038433259752, 198.7631077291186, 71.80012754083894, 356.0270418503144, 122.94555747560392, 107.636464874099, 620.9044780099493, 201.94551615952628, 65.50133644621792, 309.20055127868955, 101.56090665134343, 259.50796990607455, 124.12531122598917, 412.8769929155901, 123.08609063893586, 75.26766799891924, 112.50825582403198, 257.0681533898731, 78.59226175954817, 147.54861417291121, 143.1167107538411, 108.03332754278887, 206.20437603453917, 116.40730115977169, 136.5194789323653, 140.9308711182565, 111.32166499592041, 146.1166955959167, 124.43533234841377, 130.4566203150078, 127.15800440426989, 118.34566599088443, 110.96930424182993, 111.61771502967268, 64.4623698400827, 38.754619635381175, 37.91227492350693, 33.29759434063395, 31.992845883067268, 31.971230577585516, 29.85957494737346, 29.767516276632776, 29.740587007828406, 29.305312638345796, 26.455729452133326, 28.404610677932784, 25.737547679650742, 23.860923755683736, 24.208030431753933, 23.357950086381802, 22.474574092157702, 21.98755528274805, 20.053591322886668, 19.574780622793337, 19.391004205039778, 18.867345359122183, 19.03948590181785, 18.600496575409913, 18.413325743149016, 18.394700931670997, 17.38736025261434, 17.238882410613638, 16.97447938407914, 16.91971109891412, 33.02703801138173, 47.51386180324664, 62.01135057868372, 79.17252461351264, 685.1893975206573, 76.37050214017613, 22.004951657098143, 204.92670327057792, 467.79701083869264, 41.32033008564699, 227.4082959446973, 58.57890084154171, 185.1585966599596, 243.1377607845842, 136.7123121668428, 63.784850633526965, 105.82654938737303, 163.4421850587557, 47.56266577602131, 462.07657749589913, 137.65539613459245, 434.38894609316986, 136.23762775556378, 88.0590869709447, 210.76672672797918, 337.67715561930066, 71.2503687795892, 78.94781881995829, 115.29775888107392, 290.41572930803454, 227.82564587862097, 226.88844655086874, 99.0042505562946, 221.64380932716233, 184.64958271156712, 217.4668562823351, 237.0025270244402, 106.02535238899912, 115.24605705661284, 241.20147706109663, 166.4294773440013, 152.41319870467666, 116.42598666718109, 121.84886029806414, 138.15179590505596, 168.64533334706462, 151.96894544179747, 134.9992000801344, 120.84950909245487, 110.12594768985441, 59.76230803494941, 40.93944130887261, 33.11650558570888, 32.23597662187528, 35.227992516001954, 25.608283491332006, 25.330743415417, 25.21621537632424, 24.35065959918854, 24.23895325485344, 24.051210428816493, 24.32480195251901, 23.10762295871805, 22.863988731100708, 22.278406969164525, 22.167969477246253, 21.769839269630097, 21.54824520874241, 21.096681204657365, 20.926937150277816, 20.848761641904844, 20.290337326674948, 19.778824141903172, 19.57098720829524, 19.51131473573958, 24.267010002985714, 18.58402937954748, 24.195255215522586, 18.296728060219206, 21.991178467765483, 39.736165078209865, 63.41912977756614, 42.462876128980376, 72.59681758777663, 37.11348900293009, 45.806831997764455, 145.8179906643561, 86.13257836267346, 56.22456909289877, 73.34403876856906, 32.1650119089443, 38.92731080211725, 34.60022186631821, 31.53493657180043, 110.7275621393588, 34.519317506047344, 68.51384347792785, 49.03313229739535, 54.52733608020157, 89.06753412745559, 163.50031016490524, 346.58858503830567, 35.843817384395535, 154.16093014283982, 164.4478461872162, 62.63276895981264, 402.87326169088726, 367.5200987954356, 187.6811929416461, 198.61151364511184, 257.3404842917388, 190.82075252397834, 149.4448915198523, 68.58709103294018, 97.11550273821489, 213.37022241425288, 204.0607268703434, 233.92844233897873, 183.3134133469934, 222.62308017280736, 192.84130442424916, 199.5687198884245, 119.57652068985388, 141.17523600534554, 119.68770638599499, 128.7854255463252, 158.68063706503776, 111.25908205018648, 133.7315105713358, 133.60840458017975, 114.15674047161706, 123.51733978749904, 99.13816184114827, 100.80896997292606, 94.76856340225426, 82.5382708711946, 68.68836634933477, 67.44709767261824, 64.9894274217615, 60.94587615571684, 58.158667118292854, 52.70162971599408, 44.60865460188938, 42.44023828949073, 33.47647813349991, 27.664231132192615, 27.04918018223387, 24.36142181317556, 22.81859693706599, 20.441453801772486, 19.90103609503404, 19.827431884311906, 19.408518076891173, 18.97785023446986, 18.789677448628847, 18.245968612090238, 17.791931086796822, 117.41299126642409, 17.535937962550946, 17.49859472803136, 17.279029354220494, 72.42401689837702, 33.70536689658294, 286.1169932100313, 131.67160620622715, 51.39305166873385, 42.193252747991714, 40.65091400102783, 54.48016335677796, 40.38978103687302, 110.50997868803262, 112.49998560396507, 230.43630021830035, 139.13011891423102, 59.18136219562347, 119.69484599238758, 84.18538996518706, 91.04733350173801, 92.26854668990411, 387.68511239234437, 127.98747115307576, 342.5979044529898, 580.4424580127285, 136.72350286883494, 96.01350111208494, 88.85924137829689, 261.9112817557676, 142.40794935645212, 189.80017589814267, 213.516834335072, 143.7194903076295, 186.37168090463865, 121.42374833126863, 172.07861821486256, 135.4942845175107, 152.62150141695463, 143.74486837806697, 134.66651658243578, 123.74267661426944, 118.89712580625906, 112.09566099349676, 107.98214971112864, 172.9209199013971, 55.33226365878272, 48.70912740624126, 37.97757144287871, 36.45922543530011, 32.71474949428876, 31.598758272896973, 31.01993533229136, 26.708494932076565, 24.956135745180834, 24.41305740653113, 23.809652531536564, 23.26761006611523, 22.97867293506851, 22.859941633923658, 22.532753924777662, 22.327862036774462, 22.294646081588134, 21.87331249347489, 20.84009870395318, 20.325606281059994, 20.31624156854093, 72.67901417993593, 19.51371360796645, 19.286534750504476, 77.60638759196782, 18.34719479243549, 17.709372419065463, 17.3472911283936, 17.15503026697803, 47.30810712098249, 38.81814594591658, 50.6469497544782, 64.71464880292314, 36.28765413614268, 130.24271967426185, 83.82744459362564, 42.86756622397325, 120.01491897644055, 42.29358084622199, 49.03099798159384, 29.274119236898706, 89.69237744762187, 31.410138662829596, 35.51351154347746, 78.25137737100886, 130.04662224533382, 108.59265530044297, 212.90922591419283, 40.56556991187582, 35.47245678330544, 276.7530994521777, 62.50567181405976, 231.72355767915744, 200.95743919012483, 52.96363314457108, 182.45604577378606, 244.76765005191075, 169.20607621273658, 137.82352595811025, 247.5557324922602, 231.77404690762148, 204.9449581952622, 86.91785552953465, 95.26888413160825, 126.27683890989478, 106.57318381996348, 103.04646447538235, 86.27018015323488, 102.48360514341724, 106.181309838663, 107.83563775003795, 106.44960449259833, 93.59046257625502, 91.9584774389572, 92.6129051740789, 81.64846932307277, 52.568706815493975, 46.55310145572362, 38.48285995093437, 34.95763297210108, 30.34803473640598, 29.924931095744657, 29.041925146627147, 28.498172764592283, 26.991248583575093, 26.900718458201112, 26.14377953405526, 25.758321549232754, 25.573965713317847, 23.730947614032228, 23.598691999463625, 21.952602105947143, 20.724662890085924, 20.50770672834717, 19.90223401384937, 19.744500789785484, 19.545946576104786, 19.10338138094357, 19.044554052910637, 18.780504658817982, 18.608817045313724, 18.392291348691966, 18.106167982243655, 17.81923596877395, 17.536997245021105, 60.059747920112095, 50.4002849721409, 37.29407563298208, 43.19825152453233, 44.32023183898415, 22.693821210840824, 71.00746922631002, 33.42061108836937, 150.71069631284047, 34.51264009310192, 46.67223398393204, 27.89539437831664, 41.98457342629201, 119.70030995495964, 55.98270648786251, 47.47480221047926, 75.94168695788372, 35.94921895435252, 350.5893622770668, 43.61280511716138, 55.04674635825972, 38.45372425933151, 34.38649464331138, 56.37450991191973, 88.25258498040286, 223.08754653003245, 93.53067288673093, 120.79220650888696, 53.16666643234254, 107.46922399923345, 44.084678538527, 96.34808276242077, 355.39637843795566, 208.70377946349038, 98.06107599754165, 157.6111044214677, 94.44696058620971, 133.15544351275656, 110.28758194384491, 154.10055856872978, 178.87385045056993, 151.18510721279048, 209.66077138674453, 172.29276032006464, 174.94480187987867, 149.80162369669915, 127.05456423325131, 125.64693284403826, 116.93935200667737, 127.52338431500166, 124.47506388813271, 131.2886260950998, 125.93723712472004, 109.93895748229232, 109.09565017649469, 102.70954157347643, 107.99913875766939, 100.18206651043273, 95.44677265307074, 76.76290176135056, 75.1913509963071, 73.24242056313389, 71.96292352149554, 61.12804202271191, 39.75437099168073, 34.37494613929353, 30.690943612113568, 28.692924790761495, 28.52642637540141, 26.624283150973834, 25.491242937299866, 25.677320296357948, 25.314874216433562, 25.18517231375958, 24.654556109649175, 23.68877449168618, 23.307757308981493, 22.862465329730647, 22.33530605436523, 22.232611192528353, 21.363683774701745, 20.07783011184873, 19.77853747645969, 19.73647473699888, 19.19559093855634, 46.190436212612575, 18.65207058699635, 18.64223123906098, 38.3710904136306, 18.929391946406653, 27.357341230066993, 24.67328028041868, 91.29252118493915, 45.74987558210674, 38.248918080133514, 26.441996374479913, 55.33766917620257, 76.48986974536813, 49.24177950269816, 44.49789982095463, 52.092823869649884, 44.8103167465193, 81.08058856519307, 57.60822125267338, 30.86696148051023, 98.26636756776828, 113.36452621975933, 56.1715113470651, 55.95924216320231, 300.0572048355283, 58.09257652674262, 285.17214434235285, 39.48713148117746, 170.07368457924804, 61.457712634430685, 137.42420680753736, 241.64962470618994, 140.5915928320916, 210.6012174631939, 78.20670783014384, 220.91537198188888, 159.45720530308571, 122.5849360013801, 148.6017198210359, 181.89777053807327, 123.21912591836653, 107.581177302103, 134.8211566612101, 162.03520045540452, 189.81708865252233, 94.09339020900215, 193.33045648890354, 158.2209250303549, 106.49418131547424, 102.89189645614974, 109.09169349634935, 101.4225951078959, 86.65718218632813, 93.12804371689612, 94.03291975394052, 223.49022090988217, 54.25314849804465, 48.273166201172174, 32.939581343752344, 31.02989029297539, 29.056837196726125, 28.4433749567234, 27.03570149941255, 26.78078449446662, 24.856110443615783, 24.744779685297917, 24.614314031401673, 23.869456608658417, 156.8108394015298, 23.03414011851176, 22.898906232868327, 22.111292158114527, 27.142416435217154, 20.074778201614897, 19.742202830088814, 19.20157210598293, 18.98443751761054, 18.974539291538925, 18.672243112762207, 18.43028759200718, 18.097280115180506, 18.060373632995372, 17.357460571290623, 17.199427269147538, 16.99934074222743, 51.50600722784605, 59.1181081891501, 65.8430869193858, 51.776826712749674, 50.455535794541326, 98.4843615216715, 38.24138274548515, 70.15730663214369, 116.24629442706052, 29.031895676817744, 49.491636155761455, 60.84439901188199, 95.06291155577105, 112.96360720675831, 73.666510820252, 108.30014592152024, 116.34883401978618, 80.76941755548134, 53.852617031280694, 265.9895793363254, 63.63689124072141, 47.186880272721005, 50.60092750440208, 89.70374733797178, 75.08969149840838, 75.91818139473645, 231.04494900615927, 193.7013370401965, 197.6697921207999, 93.25149933847675, 232.62713773562518, 208.75189292573097, 99.90977306905418, 199.99542974371528, 220.705185009718, 144.8302677394963, 153.0131630546101, 98.60023273529904, 120.08551987590656, 148.15742495957068, 117.80243625096539, 115.20598584245336, 126.26355378520219, 111.47055275673934, 120.95432620167556, 107.14112561712354, 113.13364901667356, 110.63644214185014, 100.58502301738754, 100.21491980295339, 99.63938233979765], \"Total\": [1500.0, 4301.0, 1227.0, 866.0, 5490.0, 1375.0, 2728.0, 905.0, 2242.0, 1039.0, 1750.0, 1026.0, 8709.0, 1172.0, 1123.0, 2213.0, 1783.0, 1650.0, 3494.0, 5053.0, 711.0, 555.0, 1571.0, 2263.0, 982.0, 8086.0, 2566.0, 985.0, 2208.0, 1898.0, 85.86555794048431, 42.14318626057986, 42.13415681399661, 39.23897192752891, 39.118242651468705, 106.53220043287762, 34.64126482398997, 34.19188243179509, 33.0067304226925, 31.086167985586574, 30.026575482450415, 29.064089002479257, 28.875894418854415, 27.468199714671574, 30.591945825347068, 61.81096007145807, 25.79703385467966, 25.778077907184382, 31.569652311809936, 25.4462707570231, 24.74879586270397, 24.518846340280216, 25.31851611191572, 23.56379098789304, 24.584871749882375, 26.353840562877835, 22.581851249555708, 20.71697980631857, 20.732924775613743, 20.609706731404113, 165.46037917760043, 44.8808487385972, 129.7523805499192, 196.89434805967215, 55.41050115307422, 985.155128436377, 544.6021173700952, 149.49775824270554, 222.77711834914732, 56.76562063803443, 241.13252936773492, 51.76868839396457, 122.95962915524262, 70.42766276671173, 91.11453282616164, 104.22558715771103, 247.19775325323062, 129.88480579719356, 227.99274405435077, 471.87553452145005, 211.49041461419895, 593.9307376564135, 124.1833336865821, 426.4135451081834, 411.84186996583173, 490.45188209184295, 342.21053542872187, 288.94722794143604, 163.50799294669665, 165.9404135884231, 718.1841900098842, 736.2590316270056, 598.4361102233211, 2674.2767313362174, 325.4932473056027, 752.6598907142317, 2242.1448823321243, 4860.991490749469, 780.7348777018426, 8709.859886265103, 682.7713883070438, 768.810475445, 978.4929138628816, 1510.9343599063611, 752.9188544506217, 624.9625749438428, 1319.8727178532226, 8086.566151096091, 2728.921747412919, 5776.380938292615, 1653.1165776123692, 9389.84626462947, 5307.322989588602, 4408.819816472855, 2887.08281391727, 5490.805817692338, 2883.1481325097843, 2569.578685419812, 1326.8158984157676, 3673.666585214075, 2910.2503552815265, 1625.736582402443, 1354.9489107283384, 866.3397933517149, 49.250461732476786, 42.65054216868838, 34.45528512148445, 33.07030765682529, 29.72206451036169, 32.703323815293004, 27.70760853364134, 27.609433337187028, 140.30972516548744, 268.72178500667565, 23.191006803593773, 21.909933617773607, 21.39872103440932, 21.367461261983934, 21.16491839387692, 21.13640564543023, 20.444955151088696, 61.88632358204712, 19.182267462957267, 17.12849501052631, 16.16727005710526, 15.410851184179407, 15.226991165523481, 15.015758828532904, 905.5407485215206, 16.554638788753568, 30.049315854026112, 32.37496695914652, 31.314913485532895, 69.86157595813057, 215.63698884705826, 44.53372890098811, 143.6128947294792, 436.08983064101136, 59.461644626370266, 164.20551760982903, 338.85927545818976, 56.55849423209081, 36.19722738031485, 755.2553556732709, 47.131206386599125, 106.54553556812542, 598.1570711495863, 904.5649862106021, 285.4944543475903, 157.0254209489679, 785.2112793494405, 340.07291703939666, 185.91845512440432, 90.69766210175393, 196.60917865432396, 2572.831298845322, 130.6351348766673, 4301.38154858621, 212.33939706385652, 167.78714793216756, 1856.500267422825, 146.0311395099469, 3647.6575367469395, 3533.3729689895076, 8709.859886265103, 5053.08642657474, 565.5087793617496, 9389.84626462947, 2414.648714370363, 1375.2090620821086, 968.6563870747093, 1090.3650353472215, 3494.8783910664947, 2566.5844863070342, 1941.8182728305535, 4038.791933651068, 2910.2503552815265, 5307.322989588602, 1806.3303294674897, 8086.566151096091, 4408.819816472855, 4860.991490749469, 5776.380938292615, 2374.216488993748, 2152.822628162027, 86.71634579814307, 68.20099456200543, 63.88826406942348, 45.99395827916621, 42.38162162509531, 34.39853884603935, 33.15281625075401, 31.449687305247874, 29.833224514902415, 23.268084067119528, 23.24267833792531, 21.835852152653803, 21.27766902361023, 20.61324230199461, 19.887810286943857, 19.73238540852483, 18.74682006406577, 17.555753362364634, 53.72250719876273, 16.752278470835325, 16.65566716355446, 16.32944873181612, 16.000009538505246, 15.9083172581694, 15.712832883901658, 16.776156208333404, 28.71718699885649, 33.5266504060323, 17.229684156580458, 22.857444666238543, 29.853427681833633, 52.54297154465602, 146.3716288594222, 185.18290856950134, 305.838485685749, 76.8966790458575, 42.97072628063807, 80.02010273211988, 829.9957117570848, 363.6768475523955, 146.64312334313706, 575.9918266509347, 53.62204241340951, 5490.805817692338, 595.5759906174227, 829.5536492126568, 251.1690233991831, 69.01772822806758, 88.13731885657452, 4301.38154858621, 88.452128654294, 195.6250804749397, 706.9931538343413, 310.6904984721193, 8086.566151096091, 5053.08642657474, 229.63599522879338, 278.67819133926406, 2749.0218839835134, 1243.6921942329202, 1505.3168729673152, 2115.2718910721733, 1028.8263791452027, 9389.84626462947, 1549.686513391711, 3494.8783910664947, 920.1854990252161, 5776.380938292615, 1354.9489107283384, 5307.322989588602, 8709.859886265103, 4038.791933651068, 3647.6575367469395, 2038.5651690805528, 1641.1345983053377, 2887.08281391727, 2566.5844863070342, 2152.822628162027, 4408.819816472855, 1898.0302124773925, 2047.7833143371845, 3533.3729689895076, 2910.2503552815265, 2355.7636493834752, 2569.578685419812, 111.81404599468183, 103.95429486814021, 82.48635171280704, 43.64773031547381, 42.0184055363427, 40.26420528257707, 39.19621891871827, 34.82549428441464, 33.01890604544414, 31.356720542185556, 31.43214860906729, 30.08976956604557, 28.93488180671665, 28.266499233335907, 27.67243053448462, 26.44950101804996, 25.73249531976425, 25.624944775112404, 25.34085801114058, 25.290960737655986, 24.52793828613572, 24.41193444949739, 24.2106266761326, 23.541769837666923, 23.430700934052236, 23.31062168299106, 23.101055058132616, 22.80875073573386, 22.47862655780729, 22.171438823001484, 37.31751190782889, 32.46575792460815, 82.31939225704221, 32.106268386498996, 558.3083076035258, 63.75770735923528, 44.8625110123434, 239.57840490287313, 48.97832334546942, 149.1336583145476, 314.64299839641114, 94.28233037173067, 508.1219660613735, 319.772435764413, 168.48993478099717, 84.85564517409424, 298.63766065017114, 77.5834099385525, 106.4725511877275, 63.51559164042575, 122.64088344293727, 487.66580952908515, 672.335428603031, 1044.3442840328926, 1123.905891448676, 748.0201168232335, 1375.2090620821086, 810.703030948272, 1155.2429104156697, 141.39453715647159, 685.0799875082172, 488.2056527966007, 1510.9343599063611, 170.2047316801626, 1599.775684235074, 304.0420868887158, 314.44437411644645, 216.80584945572306, 2569.578685419812, 864.8200222350172, 5307.322989588602, 5776.380938292615, 726.4662757613931, 2883.1481325097843, 3018.535425106879, 9389.84626462947, 8086.566151096091, 5053.08642657474, 8709.859886265103, 1898.0302124773925, 4408.819816472855, 4038.791933651068, 2887.08281391727, 1806.3303294674897, 1535.3044843710009, 91.30831814964604, 61.23671919691619, 44.66278657783742, 43.5095621528981, 36.50273038349656, 31.778167730251464, 26.102272700114455, 23.394256399470056, 23.203657099743793, 22.47881559851196, 21.272636192576204, 20.294122206406378, 21.438770428046467, 19.917358722324998, 77.2250534356197, 19.49015695483122, 19.045216890232826, 18.792406806270666, 17.899689807861012, 19.96406306418585, 17.28758177773758, 17.175459390168953, 17.17529619590231, 16.34464486736881, 15.184458896119338, 14.843195566256384, 26.808415053003003, 30.4891837813438, 19.966516398096694, 36.02499133743181, 183.77812996042772, 1500.2378072641118, 711.4075381612012, 293.6690320432898, 78.83767672019827, 400.6301904696725, 39.11897854841993, 589.5145505782534, 356.68304989616075, 273.2448865525436, 107.57394988896965, 54.906544985355026, 49.36717321060749, 224.8851620803541, 1172.7944206706538, 302.8592664613192, 77.07721564818083, 64.06015598232112, 691.4829717826926, 1571.7391034152663, 528.8843473550155, 1750.2583625534828, 349.64950379324745, 1109.1719484399623, 1026.4090125371213, 173.20054212787574, 744.466328035014, 549.2858435911286, 1806.3303294674897, 405.3300398317068, 2208.740631146197, 727.9682821220237, 931.7434567660225, 566.4196209171123, 1296.6200586297082, 8709.859886265103, 809.7236787112337, 2356.101761821602, 9389.84626462947, 1783.7668821214631, 5776.380938292615, 3673.666585214075, 4860.991490749469, 1684.596063690945, 1967.8684027450897, 4038.791933651068, 1603.2431543002447, 3533.3729689895076, 83.04389217605852, 49.438983727979924, 48.018366353886734, 30.461687661884856, 30.94747360635497, 27.5957990907873, 25.12681196565485, 25.008797066041446, 24.655190063051176, 24.540142940029806, 24.261387838343722, 24.015101744000095, 25.775858300930604, 22.583656620586837, 21.893089194646493, 21.485176211164703, 20.450548026556667, 19.99237377202045, 19.521647812962556, 19.52124631721264, 19.448545851324564, 58.64586891878568, 18.763586590998926, 18.686577406716474, 18.37556193228099, 18.267710064648004, 17.85082162571277, 17.771817671188547, 17.956239534713514, 17.503093554549324, 40.31070287337374, 32.93602426736437, 37.53978259994832, 34.9330425356534, 41.6343292748296, 41.78976009956926, 50.24111409533704, 84.05085949307274, 77.97333396866895, 120.5034425311902, 74.08055235000218, 87.17898114386558, 47.72972910402089, 1087.2972071857132, 114.8359585367675, 51.89878830772523, 223.36765713835396, 68.25824256532319, 471.9974734621496, 50.157754370579205, 277.3179762434021, 2749.0218839835134, 139.0304219795803, 2208.740631146197, 485.27702688320494, 3018.535425106879, 2910.2503552815265, 1203.7037959935817, 448.0080190147091, 2887.08281391727, 330.78373672489386, 1057.4713086517681, 726.4662757613931, 678.1698001308202, 967.0600913602196, 1041.0099745442478, 433.1870793140986, 3533.3729689895076, 1535.3044843710009, 9389.84626462947, 4408.819816472855, 2152.822628162027, 2566.5844863070342, 5307.322989588602, 8709.859886265103, 1231.294977626743, 5053.08642657474, 1243.6921942329202, 1068.4580821828217, 5490.805817692338, 4301.38154858621, 1973.3403021594065, 2380.5953747238673, 5776.380938292615, 4038.791933651068, 1733.6419134263206, 2414.648714370363, 3494.8783910664947, 2572.831298845322, 8086.566151096091, 60.43196324183675, 38.87152666665214, 38.374818896527685, 34.841953609262845, 39.439805767574214, 29.9450517895806, 28.402946891448753, 28.05610531407703, 27.734695260252426, 27.464805951274343, 24.347407760184907, 23.202010178178856, 23.109515288423815, 22.31147708937366, 22.21551191008064, 22.101131962765642, 20.842662891959993, 20.698039688404478, 20.285809427764033, 20.046969681425626, 19.98420487809872, 19.660189553162844, 19.034331102402913, 19.030764569862626, 18.577810624060326, 18.572629685014103, 18.356124386060767, 18.313912383691203, 18.22590898213323, 17.85076008187737, 32.35956774434749, 29.393640085105048, 26.67238245486951, 56.39565798517082, 52.0521880909012, 30.656434908252116, 441.9513971489702, 114.30803755227609, 661.5534537352638, 38.68979853153588, 47.423051615689985, 744.463338025282, 380.65327143754723, 1783.7668821214631, 1026.4090125371213, 50.277844016678266, 399.73891398805534, 50.93165508915392, 528.8843473550155, 107.21896048379084, 441.3685188836519, 5490.805817692338, 522.2999593564343, 2263.953844329112, 359.5947033111083, 184.5035902674678, 3494.8783910664947, 354.44451686860094, 809.6919727157152, 748.1454176614308, 719.0337086311577, 4301.38154858621, 2857.01816190544, 5053.08642657474, 1941.8182728305535, 8086.566151096091, 1650.1300134407973, 4038.791933651068, 705.1903107087519, 959.7378578330228, 2213.3777049939636, 9389.84626462947, 5307.322989588602, 2566.5844863070342, 2380.5953747238673, 2572.831298845322, 8709.859886265103, 4408.819816472855, 1898.0302124773925, 2355.7636493834752, 2910.2503552815265, 61.78177017297487, 54.60171169080619, 45.5740650886215, 40.631315305091626, 39.18774529640358, 39.007797189688674, 34.17080112982681, 32.390708936372555, 31.884737653901585, 30.20297390361037, 29.91308803922957, 279.3108681935204, 28.50104325929019, 28.226954623829958, 27.634381307998805, 27.48910691741739, 29.178263386555034, 27.31226775619142, 27.091178887690322, 27.017279767209303, 26.840758369785256, 26.47974462557371, 26.137701865145324, 25.770012049778206, 27.9981741966877, 24.50328363307357, 23.97740958205682, 23.77578588244966, 23.71990887764452, 23.037015192128667, 28.64533535140063, 44.23321293428008, 84.94802003076845, 44.295186675312166, 41.400534292722014, 156.23859858138107, 41.19382118090346, 43.17422817642327, 37.135611448600265, 354.47487716196696, 38.955478023649846, 42.44450700475196, 982.0957896048315, 40.7703025891958, 47.97897497989411, 48.726081251166256, 43.50039845149452, 60.99702646009481, 85.38536714820343, 604.824891015678, 61.305213318655944, 627.6702841660168, 266.88083372007344, 410.2988928119733, 2213.3777049939636, 337.1913290940747, 2242.1448823321243, 311.8536964301699, 239.9614052844397, 1603.2431543002447, 9389.84626462947, 90.96342962483588, 242.531149825042, 2416.9683771805358, 672.335428603031, 1001.9392231605023, 8086.566151096091, 891.4775130203371, 2910.2503552815265, 691.1453464489454, 1000.0220094960836, 2883.1481325097843, 1973.3403021594065, 5776.380938292615, 2569.578685419812, 2857.01816190544, 2263.953844329112, 781.1751220141344, 2164.735026809033, 1733.6419134263206, 2728.921747412919, 3018.535425106879, 4408.819816472855, 1195.1732302531098, 3647.6575367469395, 1653.1165776123692, 4860.991490749469, 168.48844456119838, 78.59488450895492, 49.605691466879605, 43.36951287414378, 41.500666787788916, 36.800053565991455, 36.30408901853116, 34.274641940631426, 32.216272287477175, 31.716961245125177, 29.95830258961546, 27.379226924982692, 27.35436061651548, 26.65152686597098, 26.83314876204652, 23.8153566744388, 23.473853682575662, 23.21066246479188, 22.949806331436125, 22.794524574765575, 22.592988611208224, 22.25400182366509, 22.45280082537359, 21.771390507026375, 21.605604773828958, 21.33442298374249, 21.186867230498372, 20.88843998631735, 20.739052780864842, 20.43116814539381, 61.6044336805331, 41.14713848257177, 117.2679270304249, 275.14481796609033, 187.70055175303236, 35.56211535236496, 30.756799220595976, 76.29846133640683, 151.61385792635573, 35.84034387680816, 70.3196586753235, 144.42126856469164, 67.18416381723704, 146.04349622162482, 58.82392928726944, 864.8200222350172, 60.420062382361536, 143.46324755130146, 138.06053115380413, 84.16024934646912, 414.6395442706608, 210.85938221779358, 259.5043815893665, 1123.905891448676, 94.53389363387952, 1375.2090620821086, 310.40317764045443, 533.0520275137604, 154.28463464725698, 950.4932709007974, 310.3971089497429, 125.66735018898989, 143.03500120327467, 381.2478241391979, 630.6332812880896, 230.50189042540438, 201.40659513098052, 595.5759906174227, 5307.322989588602, 1430.992337825899, 1090.3650353472215, 380.5397296371118, 3673.666585214075, 5776.380938292615, 8709.859886265103, 8086.566151096091, 1155.2429104156697, 5053.08642657474, 2883.1481325097843, 3018.535425106879, 1599.775684235074, 1785.261963691443, 1511.0596717780477, 9389.84626462947, 1510.9343599063611, 1733.6419134263206, 2569.578685419812, 2164.735026809033, 4038.791933651068, 105.58464014949962, 68.06931113875741, 63.213704287720475, 55.4658018417817, 54.28505613816566, 50.44341832387115, 48.89407085521183, 40.2387141858093, 38.58533172075365, 37.957538926013015, 37.60452581381932, 35.63221596038623, 35.4848148241267, 34.690420878391606, 32.894286034623576, 31.448451775433668, 31.165515369986625, 30.45640769110815, 29.258790514430324, 28.82102025121743, 27.231870461123815, 26.466216817543422, 25.29711196751134, 24.412102800988063, 24.37832515117304, 23.401253938660144, 23.342335696345213, 23.30950610706686, 23.100158647785356, 23.039436521172316, 38.35184777571765, 99.27351230741255, 279.13783951655364, 36.92728060936364, 179.33661649949684, 80.28406818383989, 227.16510363219095, 44.60143909077701, 49.817407470785604, 178.4606709739295, 36.44027146119958, 50.36867902235683, 142.6452079513694, 1511.0596717780477, 66.44624369133395, 45.96749103116445, 236.34315495578318, 747.9727969020925, 826.6660246937065, 189.98295323507242, 201.87331600734137, 4860.991490749469, 2857.01816190544, 2213.3777049939636, 1469.650099874817, 2883.1481325097843, 8086.566151096091, 1535.3044843710009, 444.74923107185293, 348.1022060493318, 2728.921747412919, 5307.322989588602, 1001.9392231605023, 3647.6575367469395, 3673.666585214075, 2749.0218839835134, 1650.1300134407973, 1856.500267422825, 967.0600913602196, 465.7637254055576, 8709.859886265103, 3494.8783910664947, 5490.805817692338, 4038.791933651068, 1317.6805193125267, 4301.38154858621, 9389.84626462947, 5053.08642657474, 3018.535425106879, 102.81801708077694, 79.73891468488847, 74.06670930688914, 60.96654130639967, 54.7593209386218, 41.64653039766659, 39.41089319434026, 39.41024063705398, 38.718595738981946, 37.54189526691808, 37.04135641701931, 35.41910214149612, 32.959299665858715, 39.709723834053285, 34.88689474691174, 30.159244121322743, 29.877357497116822, 29.412317717519706, 48.95983794726381, 26.9728262981229, 25.741979223134976, 25.733788691982504, 25.69367939589674, 56.054982749123674, 24.363239802277008, 23.951161685059024, 23.642321887922954, 22.275277186284857, 21.35227457239152, 21.18838548623148, 45.25402277715871, 59.48509198233087, 142.36963140584623, 86.60536921846567, 58.31188267004906, 37.60765331881821, 156.66875838572733, 101.73645580054985, 102.36046769105893, 80.09672524291817, 61.73737963262418, 66.37413133989283, 246.98154164712744, 65.25358820725127, 517.4639263857642, 91.53735273601174, 1505.3168729673152, 76.84108186934, 2728.921747412919, 113.45310165621459, 4860.991490749469, 161.42802782967632, 1334.2941980165065, 1039.5693131276444, 8086.566151096091, 2883.1481325097843, 231.4292160588556, 9389.84626462947, 1603.2431543002447, 5776.380938292615, 5307.322989588602, 4408.819816472855, 1469.650099874817, 2213.3777049939636, 1187.0251925459265, 707.5063345981499, 1511.0596717780477, 2857.01816190544, 1549.686513391711, 1806.3303294674897, 2164.735026809033, 2355.7636493834752, 1319.8727178532226, 1967.8684027450897, 2674.2767313362174, 2356.101761821602, 1973.3403021594065, 101.63479641013717, 94.21883439527008, 62.174405216661576, 60.14464795062824, 44.00782705242083, 36.665012511685774, 35.67978085348081, 32.48720626165174, 31.830447558456143, 31.418949173932457, 30.74198923852799, 46.81786402416136, 33.65138416413529, 29.238994375782017, 29.054141663805268, 28.4127345790835, 27.325753065211742, 50.778048057937816, 25.94894122189, 25.875708506059897, 24.646047182733298, 24.341098722072488, 23.303682920081012, 22.680513252580297, 22.651143326441694, 22.56162435798045, 22.273604929597475, 21.82793764177373, 21.566083342855254, 21.234934534215668, 78.18553407402659, 34.8671881808127, 30.581199376427524, 42.9098026018168, 67.70180495501029, 173.26285471484346, 202.02186989833712, 418.56061243823643, 143.76102278317884, 94.53710981503396, 125.44578711743074, 914.4308920649673, 46.8237374299422, 168.21428272365787, 384.63669235528084, 99.97487793724912, 338.970226895287, 230.80956683739726, 284.3690771073542, 458.7335395929593, 83.79140497809256, 2728.921747412919, 891.4775130203371, 819.1912672070085, 225.90426151274596, 1973.3403021594065, 8086.566151096091, 1001.9392231605023, 2213.3777049939636, 1187.0251925459265, 9389.84626462947, 4860.991490749469, 1750.2583625534828, 1045.3634468554371, 2038.5651690805528, 3018.535425106879, 1287.3919299334882, 2356.101761821602, 1603.2431543002447, 2883.1481325097843, 4038.791933651068, 5490.805817692338, 8709.859886265103, 3494.8783910664947, 5776.380938292615, 2857.01816190544, 4408.819816472855, 2416.9683771805358, 76.95589314573874, 102.00994184625169, 54.453323466363614, 51.83287970328358, 49.99836920546555, 43.79594812189419, 37.124656011354396, 36.79335296660445, 35.07841516106018, 34.55355751932318, 33.96770191476957, 28.878795963056064, 28.1777023927954, 27.412843307974306, 25.941273754438907, 25.777575927230153, 25.333904222700532, 25.14693344380864, 23.444143878139997, 23.958842132532798, 22.529608054937086, 22.496210684376063, 22.31132978032151, 22.064412691206602, 21.798944865093656, 21.418771362802453, 21.377487833510152, 21.300158038302367, 21.11068815279083, 20.921339696688623, 49.54537131449669, 555.3347985841149, 64.33396796589732, 435.22029515960315, 32.42643577077619, 153.12991165762253, 95.20893605648857, 40.02450606759756, 55.65628531116584, 55.08135662220401, 56.29844333190949, 52.8470150388197, 300.93622307425886, 40.69866819874673, 72.60486853518975, 33.91505011534245, 182.7259695122286, 628.5340166640235, 130.16483224141402, 2115.2718910721733, 357.3108179571972, 294.0883080523799, 8086.566151096091, 1039.5693131276444, 124.09518175879899, 2728.921747412919, 299.40554405655246, 2355.7636493834752, 493.38051208296923, 9389.84626462947, 546.7460343754007, 174.65515582644966, 513.1066554666829, 5490.805817692338, 211.5678258419733, 1287.3919299334882, 1227.3071344459343, 545.1993417400412, 5307.322989588602, 1155.2429104156697, 2356.101761821602, 3673.666585214075, 1187.0251925459265, 5053.08642657474, 2208.740631146197, 4408.819816472855, 4860.991490749469, 8709.859886265103, 1500.2378072641118, 2164.735026809033, 65.40511351168138, 39.6973571892374, 38.8579306543115, 34.24063716108009, 32.935584013599765, 32.913968018861006, 30.80231240420701, 30.711255291637688, 30.68357566389238, 30.26738364143903, 27.398466906473477, 29.422279531442616, 26.68028512092623, 24.803661196959222, 25.174344388911546, 24.300690763477462, 23.41731195298121, 22.930294510313256, 20.996412970448144, 20.517518064068824, 20.333774119033155, 19.810082812458948, 20.001110923679207, 19.543235631511106, 19.356063187709648, 19.337438421911216, 18.3300986891559, 18.18161994433376, 17.917216825354625, 17.862449047576305, 35.467891686312385, 55.252376234426976, 75.73948756776117, 102.01371874077455, 1227.3071344459343, 104.70097646543852, 23.96121518298378, 374.00682339335236, 1039.5693131276444, 52.653784146679534, 450.1432234285318, 82.77774998374638, 404.42793798131925, 593.9307376564135, 284.3690771073542, 98.98769524521694, 207.51177572976982, 394.52041202754634, 67.71665871225274, 2242.1448823321243, 359.504665558031, 2263.953844329112, 426.4135451081834, 202.71066270862508, 982.0957896048315, 2566.5844863070342, 148.6911745129519, 203.71021904816834, 458.7335395929593, 3494.8783910664947, 2208.740631146197, 2380.5953747238673, 349.64950379324745, 2416.9683771805358, 1650.1300134407973, 2857.01816190544, 4301.38154858621, 447.94401500512544, 627.6702841660168, 8086.566151096091, 2910.2503552815265, 2115.2718910721733, 809.6919727157152, 1068.4580821828217, 2213.3777049939636, 9389.84626462947, 5053.08642657474, 2356.101761821602, 2164.735026809033, 111.0817369126764, 60.70496705528929, 41.88210562500319, 34.05917826716315, 33.178671429863364, 36.336620541877465, 26.55155890935608, 26.27340268821337, 26.182136380842746, 25.29331873162392, 25.181612179512523, 24.993869364513543, 25.281608725007484, 24.05028348880002, 23.80664871899723, 23.22106591483998, 23.11066613775134, 22.712499022184243, 22.49090474272349, 22.03934015144139, 21.869606397414852, 21.791426656761335, 21.232998300621034, 20.721483078970433, 20.51364617966123, 20.4539752478608, 25.472907855275512, 19.527607058946717, 25.433620433465258, 19.23942615214649, 23.182724461902282, 44.1962838857113, 73.48293927673453, 47.57376850322919, 85.97135337120865, 42.531357450171924, 54.3667718733752, 210.77800659607047, 114.00707555965586, 70.35508944634009, 96.59608252471041, 36.839479924556784, 47.182514512975736, 40.69588912868038, 36.32054165152356, 214.90243015584142, 42.202109334286035, 117.41785024024946, 72.94038705106901, 93.8913551172662, 239.73504647602627, 710.7571740899019, 3533.3729689895076, 50.6514736073984, 968.6563870747093, 1111.7957027378168, 159.1387744304188, 9389.84626462947, 8709.859886265103, 2038.5651690805528, 2355.7636493834752, 4408.819816472855, 2374.216488993748, 1310.7037785973982, 197.39578654619268, 482.39890582701753, 3647.6575367469395, 3673.666585214075, 5490.805817692338, 2887.08281391727, 5776.380938292615, 4038.791933651068, 4860.991490749469, 1203.7037959935817, 2414.648714370363, 1625.736582402443, 2674.2767313362174, 8086.566151096091, 1259.530868462122, 5053.08642657474, 5307.322989588602, 2152.822628162027, 124.46178129245217, 100.08087414121991, 101.79714508739093, 95.71131479013282, 83.48098315616087, 69.63109180684324, 68.38981052284105, 65.9321421310083, 61.88861442876628, 59.10140001179547, 53.64434649679317, 45.551391772236116, 43.38295105963925, 34.419380537182235, 28.6069434011856, 27.99189247912552, 25.304192318273092, 23.76132255715094, 21.38419765431243, 20.844067837480065, 20.770144747739256, 20.351230346484897, 19.920562499361445, 19.732390190142475, 19.188680876981824, 18.73464478222672, 123.71280287572421, 18.478719224144097, 18.441306992922947, 18.2217446267779, 78.14093243808553, 35.940665041048966, 321.27727785422184, 149.01146700079704, 56.06453098794653, 46.44366595921897, 45.054625965337664, 61.980479654904904, 45.53729718941811, 141.02141829432128, 146.30720446286352, 344.68393971995124, 196.91964438201478, 76.0933412895397, 203.68180311506475, 135.47905538130377, 152.36789566082786, 169.13086919099868, 1898.0302124773925, 316.3660190273165, 2674.2767313362174, 8709.859886265103, 565.2724653511775, 256.4971925864131, 214.63906448137845, 3647.6575367469395, 939.5058667521054, 2355.7636493834752, 5776.380938292615, 1603.2431543002447, 5053.08642657474, 1090.3650353472215, 9389.84626462947, 2414.648714370363, 5490.805817692338, 4038.791933651068, 3673.666585214075, 2569.578685419812, 4408.819816472855, 2572.831298845322, 1684.596063690945, 173.86362770431424, 56.27496650405685, 49.65184271655051, 38.92027407077388, 37.401934949214365, 33.657455211110594, 32.54149106107333, 31.963133848499385, 27.6511975908219, 25.898838543422173, 25.35576003314293, 24.7523711932785, 24.21031268944188, 23.92138610589773, 23.80271113459985, 23.475749184621968, 23.270565703598404, 23.23740563159781, 22.81601839212334, 21.78289531978868, 21.26830890875982, 21.258944198585805, 76.07838029860606, 20.456416231293105, 20.229237554024152, 81.56155683985963, 19.28990506864984, 18.65209523441749, 18.289996549176013, 18.09773332752584, 51.06359656584626, 42.144221136231394, 57.29041603670356, 76.72252445439875, 40.81144328377336, 169.59048536400334, 105.73211468936607, 49.4890073254705, 161.53235973853097, 49.64590640134988, 59.431374955356695, 32.28402040299406, 129.61998531186075, 35.61602293455689, 42.321293476561, 123.11727678762975, 247.33719359040376, 210.91475444535337, 618.5179922951588, 53.010547741003684, 46.38091436677391, 2416.9683771805358, 139.48959246927248, 2213.3777049939636, 1898.0302124773925, 104.40632486605777, 2047.7833143371845, 5053.08642657474, 2857.01816190544, 1650.1300134407973, 9389.84626462947, 8086.566151096091, 5776.380938292615, 464.6005116007126, 758.6304371983067, 2242.1448823321243, 2164.735026809033, 2566.5844863070342, 1028.8263791452027, 2910.2503552815265, 4408.819816472855, 5307.322989588602, 8709.859886265103, 2374.216488993748, 2263.953844329112, 2674.2767313362174, 82.59090620779148, 53.619100044869484, 47.495538867310586, 39.42529673444572, 35.90007084263497, 31.290471651460557, 30.880941750091942, 29.98436199779629, 29.44061073773917, 27.933861823470107, 27.843157033656233, 27.086216317566613, 26.70075847227005, 26.516402500188313, 24.673384397543582, 24.541128852543117, 22.89503913732467, 21.66710011440913, 21.450143511858524, 20.844673175806196, 20.68693757628417, 20.488383364802164, 20.0458341299202, 19.98699083642199, 19.722942585739336, 19.559491081342493, 19.33473398042282, 19.058144826640113, 18.7616838334988, 18.47943402853246, 64.69047855236143, 56.155280573212714, 41.29426929762441, 48.73414926959178, 52.15847553284069, 24.652481748236106, 96.0445321353671, 39.185127132358154, 256.61881863899197, 41.57390990739912, 60.910674882366685, 31.988043758118327, 54.6292134861382, 216.96183630101095, 80.04538555709594, 64.67386825169415, 122.74379178599656, 45.77561450858162, 1650.1300134407973, 62.553652532844424, 92.99058986058371, 51.80306756706987, 43.029260797730906, 104.91994666875048, 244.7326080277021, 1549.686513391711, 290.09831842747894, 628.5340166640235, 105.71655856779485, 493.38051208296923, 70.84454138207008, 410.2988928119733, 8709.859886265103, 3018.535425106879, 483.47471541061566, 1684.596063690945, 453.1858314174148, 1203.7037959935817, 727.9682821220237, 2416.9683771805358, 4860.991490749469, 2883.1481325097843, 9389.84626462947, 5307.322989588602, 5776.380938292615, 3647.6575367469395, 1973.3403021594065, 2115.2718910721733, 1856.500267422825, 2910.2503552815265, 2674.2767313362174, 4408.819816472855, 4038.791933651068, 3494.8783910664947, 3673.666585214075, 1785.261963691443, 8086.566151096091, 2263.953844329112, 96.47316698361941, 77.70541046765284, 76.13385971622698, 74.184932400752, 72.90543229247325, 62.07055072901418, 40.69688150591588, 35.31745502074406, 31.633516357438044, 29.635433497063765, 29.47108532848413, 27.566791857276105, 26.43375767165183, 26.6291262163935, 26.257382948034895, 26.128101649570276, 25.597064831129455, 24.63128335808149, 24.250266050475556, 23.804974036032917, 23.27781514346929, 23.175119902386186, 22.306192481004015, 21.020341682726524, 20.72104620377976, 20.67898344330115, 20.138099674291894, 48.48524961927732, 19.59472488554511, 19.584739952600934, 40.511761895921026, 19.89698925819063, 29.22973986257201, 26.47725214754525, 114.51408079012157, 52.723118635477626, 43.31632849590342, 28.63975750786972, 66.64869077443261, 102.38125781234065, 60.52797549881672, 53.651616562334894, 65.5099706978235, 54.87297594108955, 118.87768639836528, 77.49916153705568, 34.49411396871185, 171.06202948639398, 226.48351899302546, 82.6787063162632, 88.78456627331086, 1319.8727178532226, 95.80165005847739, 1334.2941980165065, 51.671681331898355, 756.9470209343115, 117.29510648125019, 604.824891015678, 2416.9683771805358, 748.0201168232335, 2213.3777049939636, 209.20344013206937, 2728.921747412919, 1317.6805193125267, 747.9727969020925, 1296.6200586297082, 2572.831298845322, 914.4308920649673, 691.1453464489454, 1469.650099874817, 2883.1481325097843, 5776.380938292615, 483.47471541061566, 9389.84626462947, 8086.566151096091, 2356.101761821602, 1856.500267422825, 4860.991490749469, 2242.1448823321243, 451.94422705841026, 1603.2431543002447, 4038.791933651068, 224.43919381807927, 55.19614850389511, 49.21618789336772, 33.882567428165686, 31.972888970508944, 29.999893456728387, 29.38640987818853, 27.98123624572256, 27.72377044187312, 25.799096364926893, 25.687767259320573, 25.557299877591085, 24.81244329431234, 163.0699855879257, 23.977126133063376, 23.84189205231681, 23.054282236831764, 28.35072670587229, 21.017764055656404, 20.6851887459331, 20.144558284121153, 19.927423438453857, 19.91752510490375, 19.61522891770858, 19.373282393961897, 19.040265930399816, 19.003359485678462, 18.300446376236998, 18.142413141512197, 17.942326547173806, 58.115108064885334, 69.50805571806015, 81.02591296046941, 62.0736204452763, 62.10927227651197, 137.32181015420386, 45.31323296354337, 99.06441741089986, 187.706741213157, 33.8922862115367, 66.61128666151095, 87.44932440091367, 163.26496210447704, 216.1339508838119, 122.55734544413772, 213.53914294921992, 306.0932049668789, 173.19328149067917, 94.9905310878104, 1599.775684235074, 138.17907282861017, 82.83326819386727, 97.61147696165452, 342.3408003986142, 233.25236994606325, 251.21275509290118, 3494.8783910664947, 2374.216488993748, 2566.5844863070342, 422.2603770707003, 4408.819816472855, 3533.3729689895076, 558.2479737670872, 5053.08642657474, 9389.84626462947, 2263.953844329112, 3647.6575367469395, 682.9567815376262, 1684.596063690945, 5776.380938292615, 1967.8684027450897, 1806.3303294674897, 3673.666585214075, 1856.500267422825, 4301.38154858621, 1785.261963691443, 2883.1481325097843, 8086.566151096091, 2047.7833143371845, 5490.805817692338, 2208.740631146197], \"Category\": [\"Default\", \"Default\", \"Default\", \"Default\", \"Default\", \"Default\", \"Default\", \"Default\", \"Default\", \"Default\", \"Default\", \"Default\", \"Default\", \"Default\", \"Default\", \"Default\", \"Default\", \"Default\", \"Default\", \"Default\", \"Default\", \"Default\", \"Default\", \"Default\", \"Default\", \"Default\", \"Default\", \"Default\", \"Default\", \"Default\", \"Topic1\", \"Topic1\", \"Topic1\", \"Topic1\", \"Topic1\", \"Topic1\", \"Topic1\", \"Topic1\", \"Topic1\", \"Topic1\", \"Topic1\", \"Topic1\", \"Topic1\", \"Topic1\", \"Topic1\", \"Topic1\", \"Topic1\", \"Topic1\", \"Topic1\", \"Topic1\", \"Topic1\", \"Topic1\", \"Topic1\", \"Topic1\", \"Topic1\", \"Topic1\", \"Topic1\", \"Topic1\", \"Topic1\", \"Topic1\", \"Topic1\", \"Topic1\", \"Topic1\", \"Topic1\", \"Topic1\", \"Topic1\", \"Topic1\", \"Topic1\", \"Topic1\", \"Topic1\", \"Topic1\", \"Topic1\", \"Topic1\", \"Topic1\", \"Topic1\", \"Topic1\", \"Topic1\", \"Topic1\", \"Topic1\", \"Topic1\", \"Topic1\", \"Topic1\", \"Topic1\", \"Topic1\", \"Topic1\", \"Topic1\", \"Topic1\", \"Topic1\", \"Topic1\", \"Topic1\", \"Topic1\", \"Topic1\", \"Topic1\", \"Topic1\", \"Topic1\", \"Topic1\", \"Topic1\", \"Topic1\", \"Topic1\", \"Topic1\", \"Topic1\", \"Topic1\", \"Topic1\", \"Topic1\", \"Topic1\", \"Topic1\", \"Topic1\", \"Topic1\", \"Topic1\", \"Topic1\", \"Topic1\", \"Topic1\", \"Topic1\", \"Topic1\", \"Topic1\", \"Topic1\", \"Topic1\", \"Topic1\", \"Topic1\", \"Topic1\", \"Topic1\", \"Topic1\", \"Topic1\", \"Topic2\", \"Topic2\", \"Topic2\", \"Topic2\", \"Topic2\", \"Topic2\", \"Topic2\", \"Topic2\", \"Topic2\", \"Topic2\", \"Topic2\", \"Topic2\", \"Topic2\", \"Topic2\", \"Topic2\", \"Topic2\", \"Topic2\", \"Topic2\", \"Topic2\", \"Topic2\", \"Topic2\", \"Topic2\", \"Topic2\", \"Topic2\", \"Topic2\", \"Topic2\", \"Topic2\", \"Topic2\", \"Topic2\", \"Topic2\", \"Topic2\", \"Topic2\", \"Topic2\", \"Topic2\", \"Topic2\", \"Topic2\", \"Topic2\", \"Topic2\", \"Topic2\", \"Topic2\", \"Topic2\", \"Topic2\", \"Topic2\", \"Topic2\", \"Topic2\", \"Topic2\", \"Topic2\", \"Topic2\", \"Topic2\", \"Topic2\", \"Topic2\", \"Topic2\", \"Topic2\", \"Topic2\", \"Topic2\", \"Topic2\", \"Topic2\", \"Topic2\", \"Topic2\", \"Topic2\", \"Topic2\", \"Topic2\", \"Topic2\", \"Topic2\", \"Topic2\", \"Topic2\", \"Topic2\", \"Topic2\", \"Topic2\", \"Topic2\", \"Topic2\", \"Topic2\", \"Topic2\", \"Topic2\", \"Topic2\", \"Topic2\", \"Topic2\", \"Topic2\", \"Topic2\", \"Topic2\", \"Topic2\", \"Topic2\", \"Topic3\", \"Topic3\", \"Topic3\", \"Topic3\", \"Topic3\", \"Topic3\", \"Topic3\", \"Topic3\", \"Topic3\", \"Topic3\", \"Topic3\", \"Topic3\", \"Topic3\", \"Topic3\", \"Topic3\", \"Topic3\", \"Topic3\", \"Topic3\", \"Topic3\", \"Topic3\", \"Topic3\", \"Topic3\", \"Topic3\", \"Topic3\", \"Topic3\", \"Topic3\", \"Topic3\", \"Topic3\", \"Topic3\", \"Topic3\", \"Topic3\", \"Topic3\", \"Topic3\", \"Topic3\", \"Topic3\", \"Topic3\", \"Topic3\", \"Topic3\", \"Topic3\", \"Topic3\", \"Topic3\", \"Topic3\", \"Topic3\", \"Topic3\", \"Topic3\", \"Topic3\", \"Topic3\", \"Topic3\", \"Topic3\", \"Topic3\", \"Topic3\", \"Topic3\", \"Topic3\", \"Topic3\", \"Topic3\", \"Topic3\", \"Topic3\", \"Topic3\", \"Topic3\", \"Topic3\", \"Topic3\", \"Topic3\", \"Topic3\", \"Topic3\", \"Topic3\", \"Topic3\", \"Topic3\", \"Topic3\", \"Topic3\", \"Topic3\", \"Topic3\", \"Topic3\", \"Topic3\", \"Topic3\", \"Topic3\", \"Topic3\", \"Topic3\", \"Topic3\", \"Topic3\", \"Topic3\", \"Topic3\", \"Topic3\", \"Topic3\", \"Topic3\", \"Topic3\", \"Topic4\", \"Topic4\", \"Topic4\", \"Topic4\", \"Topic4\", \"Topic4\", \"Topic4\", \"Topic4\", \"Topic4\", \"Topic4\", \"Topic4\", \"Topic4\", \"Topic4\", \"Topic4\", \"Topic4\", \"Topic4\", \"Topic4\", \"Topic4\", \"Topic4\", \"Topic4\", \"Topic4\", \"Topic4\", \"Topic4\", \"Topic4\", \"Topic4\", \"Topic4\", \"Topic4\", \"Topic4\", \"Topic4\", \"Topic4\", \"Topic4\", \"Topic4\", \"Topic4\", \"Topic4\", \"Topic4\", \"Topic4\", \"Topic4\", \"Topic4\", \"Topic4\", \"Topic4\", \"Topic4\", \"Topic4\", \"Topic4\", \"Topic4\", \"Topic4\", \"Topic4\", \"Topic4\", \"Topic4\", \"Topic4\", \"Topic4\", \"Topic4\", \"Topic4\", \"Topic4\", \"Topic4\", \"Topic4\", \"Topic4\", \"Topic4\", \"Topic4\", \"Topic4\", \"Topic4\", \"Topic4\", \"Topic4\", \"Topic4\", \"Topic4\", \"Topic4\", \"Topic4\", \"Topic4\", \"Topic4\", \"Topic4\", \"Topic4\", \"Topic4\", \"Topic4\", \"Topic4\", \"Topic4\", \"Topic4\", \"Topic4\", \"Topic4\", \"Topic4\", \"Topic4\", \"Topic4\", \"Topic4\", \"Topic4\", \"Topic4\", \"Topic4\", \"Topic4\", \"Topic5\", \"Topic5\", \"Topic5\", \"Topic5\", \"Topic5\", \"Topic5\", \"Topic5\", \"Topic5\", \"Topic5\", \"Topic5\", \"Topic5\", \"Topic5\", \"Topic5\", \"Topic5\", \"Topic5\", \"Topic5\", \"Topic5\", \"Topic5\", \"Topic5\", \"Topic5\", \"Topic5\", \"Topic5\", \"Topic5\", \"Topic5\", \"Topic5\", \"Topic5\", \"Topic5\", \"Topic5\", \"Topic5\", \"Topic5\", \"Topic5\", \"Topic5\", \"Topic5\", \"Topic5\", \"Topic5\", \"Topic5\", \"Topic5\", \"Topic5\", \"Topic5\", \"Topic5\", \"Topic5\", \"Topic5\", \"Topic5\", \"Topic5\", \"Topic5\", \"Topic5\", \"Topic5\", \"Topic5\", \"Topic5\", \"Topic5\", \"Topic5\", \"Topic5\", \"Topic5\", \"Topic5\", \"Topic5\", \"Topic5\", \"Topic5\", \"Topic5\", \"Topic5\", \"Topic5\", \"Topic5\", \"Topic5\", \"Topic5\", \"Topic5\", \"Topic5\", \"Topic5\", \"Topic5\", \"Topic5\", \"Topic5\", \"Topic5\", \"Topic5\", \"Topic5\", \"Topic5\", \"Topic5\", \"Topic5\", \"Topic5\", \"Topic5\", \"Topic5\", \"Topic6\", \"Topic6\", \"Topic6\", \"Topic6\", \"Topic6\", \"Topic6\", \"Topic6\", \"Topic6\", \"Topic6\", \"Topic6\", \"Topic6\", \"Topic6\", \"Topic6\", \"Topic6\", \"Topic6\", \"Topic6\", \"Topic6\", \"Topic6\", \"Topic6\", \"Topic6\", \"Topic6\", \"Topic6\", \"Topic6\", \"Topic6\", \"Topic6\", \"Topic6\", \"Topic6\", \"Topic6\", \"Topic6\", \"Topic6\", \"Topic6\", \"Topic6\", \"Topic6\", \"Topic6\", \"Topic6\", \"Topic6\", \"Topic6\", \"Topic6\", \"Topic6\", \"Topic6\", \"Topic6\", \"Topic6\", \"Topic6\", \"Topic6\", \"Topic6\", \"Topic6\", \"Topic6\", \"Topic6\", \"Topic6\", \"Topic6\", \"Topic6\", \"Topic6\", \"Topic6\", \"Topic6\", \"Topic6\", \"Topic6\", \"Topic6\", \"Topic6\", \"Topic6\", \"Topic6\", \"Topic6\", \"Topic6\", \"Topic6\", \"Topic6\", \"Topic6\", \"Topic6\", \"Topic6\", \"Topic6\", \"Topic6\", \"Topic6\", \"Topic6\", \"Topic6\", \"Topic6\", \"Topic6\", \"Topic6\", \"Topic6\", \"Topic6\", \"Topic6\", \"Topic6\", \"Topic6\", \"Topic6\", \"Topic6\", \"Topic6\", \"Topic6\", \"Topic6\", \"Topic6\", \"Topic6\", \"Topic6\", \"Topic6\", \"Topic6\", \"Topic7\", \"Topic7\", \"Topic7\", \"Topic7\", \"Topic7\", \"Topic7\", \"Topic7\", \"Topic7\", \"Topic7\", \"Topic7\", \"Topic7\", \"Topic7\", \"Topic7\", \"Topic7\", \"Topic7\", \"Topic7\", \"Topic7\", \"Topic7\", \"Topic7\", \"Topic7\", \"Topic7\", \"Topic7\", \"Topic7\", \"Topic7\", \"Topic7\", \"Topic7\", \"Topic7\", \"Topic7\", \"Topic7\", \"Topic7\", \"Topic7\", \"Topic7\", \"Topic7\", \"Topic7\", \"Topic7\", \"Topic7\", \"Topic7\", \"Topic7\", \"Topic7\", \"Topic7\", \"Topic7\", \"Topic7\", \"Topic7\", \"Topic7\", \"Topic7\", \"Topic7\", \"Topic7\", \"Topic7\", \"Topic7\", \"Topic7\", \"Topic7\", \"Topic7\", \"Topic7\", \"Topic7\", \"Topic7\", \"Topic7\", \"Topic7\", \"Topic7\", \"Topic7\", \"Topic7\", \"Topic7\", \"Topic7\", \"Topic7\", \"Topic7\", \"Topic7\", \"Topic7\", \"Topic7\", \"Topic7\", \"Topic7\", \"Topic7\", \"Topic7\", \"Topic7\", \"Topic7\", \"Topic7\", \"Topic7\", \"Topic7\", \"Topic7\", \"Topic7\", \"Topic7\", \"Topic7\", \"Topic7\", \"Topic8\", \"Topic8\", \"Topic8\", \"Topic8\", \"Topic8\", \"Topic8\", \"Topic8\", \"Topic8\", \"Topic8\", \"Topic8\", \"Topic8\", \"Topic8\", \"Topic8\", \"Topic8\", \"Topic8\", \"Topic8\", \"Topic8\", \"Topic8\", \"Topic8\", \"Topic8\", \"Topic8\", \"Topic8\", \"Topic8\", \"Topic8\", \"Topic8\", \"Topic8\", \"Topic8\", \"Topic8\", \"Topic8\", \"Topic8\", \"Topic8\", \"Topic8\", \"Topic8\", \"Topic8\", \"Topic8\", \"Topic8\", \"Topic8\", \"Topic8\", \"Topic8\", \"Topic8\", \"Topic8\", \"Topic8\", \"Topic8\", \"Topic8\", \"Topic8\", \"Topic8\", \"Topic8\", \"Topic8\", \"Topic8\", \"Topic8\", \"Topic8\", \"Topic8\", \"Topic8\", \"Topic8\", \"Topic8\", \"Topic8\", \"Topic8\", \"Topic8\", \"Topic8\", \"Topic8\", \"Topic8\", \"Topic8\", \"Topic8\", \"Topic8\", \"Topic8\", \"Topic8\", \"Topic8\", \"Topic8\", \"Topic8\", \"Topic8\", \"Topic8\", \"Topic8\", \"Topic8\", \"Topic8\", \"Topic8\", \"Topic8\", \"Topic8\", \"Topic8\", \"Topic8\", \"Topic8\", \"Topic8\", \"Topic8\", \"Topic8\", \"Topic8\", \"Topic8\", \"Topic8\", \"Topic8\", \"Topic9\", \"Topic9\", \"Topic9\", \"Topic9\", \"Topic9\", \"Topic9\", \"Topic9\", \"Topic9\", \"Topic9\", \"Topic9\", \"Topic9\", \"Topic9\", \"Topic9\", \"Topic9\", \"Topic9\", \"Topic9\", \"Topic9\", \"Topic9\", \"Topic9\", \"Topic9\", \"Topic9\", \"Topic9\", \"Topic9\", \"Topic9\", \"Topic9\", \"Topic9\", \"Topic9\", \"Topic9\", \"Topic9\", \"Topic9\", \"Topic9\", \"Topic9\", \"Topic9\", \"Topic9\", \"Topic9\", \"Topic9\", \"Topic9\", \"Topic9\", \"Topic9\", \"Topic9\", \"Topic9\", \"Topic9\", \"Topic9\", \"Topic9\", \"Topic9\", \"Topic9\", \"Topic9\", \"Topic9\", \"Topic9\", \"Topic9\", \"Topic9\", \"Topic9\", \"Topic9\", \"Topic9\", \"Topic9\", \"Topic9\", \"Topic9\", \"Topic9\", \"Topic9\", \"Topic9\", \"Topic9\", \"Topic9\", \"Topic9\", \"Topic9\", \"Topic9\", \"Topic9\", \"Topic9\", \"Topic9\", \"Topic9\", \"Topic9\", \"Topic9\", \"Topic9\", \"Topic9\", \"Topic9\", \"Topic9\", \"Topic9\", \"Topic9\", \"Topic9\", \"Topic9\", \"Topic9\", \"Topic9\", \"Topic9\", \"Topic9\", \"Topic9\", \"Topic9\", \"Topic9\", \"Topic9\", \"Topic9\", \"Topic9\", \"Topic10\", \"Topic10\", \"Topic10\", \"Topic10\", \"Topic10\", \"Topic10\", \"Topic10\", \"Topic10\", \"Topic10\", \"Topic10\", \"Topic10\", \"Topic10\", \"Topic10\", \"Topic10\", \"Topic10\", \"Topic10\", \"Topic10\", \"Topic10\", \"Topic10\", \"Topic10\", \"Topic10\", \"Topic10\", \"Topic10\", \"Topic10\", \"Topic10\", \"Topic10\", \"Topic10\", \"Topic10\", \"Topic10\", \"Topic10\", \"Topic10\", \"Topic10\", \"Topic10\", \"Topic10\", \"Topic10\", \"Topic10\", \"Topic10\", \"Topic10\", \"Topic10\", \"Topic10\", \"Topic10\", \"Topic10\", \"Topic10\", \"Topic10\", \"Topic10\", \"Topic10\", \"Topic10\", \"Topic10\", \"Topic10\", \"Topic10\", \"Topic10\", \"Topic10\", \"Topic10\", \"Topic10\", \"Topic10\", \"Topic10\", \"Topic10\", \"Topic10\", \"Topic10\", \"Topic10\", \"Topic10\", \"Topic10\", \"Topic10\", \"Topic10\", \"Topic10\", \"Topic10\", \"Topic10\", \"Topic10\", \"Topic10\", \"Topic10\", \"Topic10\", \"Topic10\", \"Topic10\", \"Topic10\", \"Topic10\", \"Topic10\", \"Topic10\", \"Topic10\", \"Topic10\", \"Topic11\", \"Topic11\", \"Topic11\", \"Topic11\", \"Topic11\", \"Topic11\", \"Topic11\", \"Topic11\", \"Topic11\", \"Topic11\", \"Topic11\", \"Topic11\", \"Topic11\", \"Topic11\", \"Topic11\", \"Topic11\", \"Topic11\", \"Topic11\", \"Topic11\", \"Topic11\", \"Topic11\", \"Topic11\", \"Topic11\", \"Topic11\", \"Topic11\", \"Topic11\", \"Topic11\", \"Topic11\", \"Topic11\", \"Topic11\", \"Topic11\", \"Topic11\", \"Topic11\", \"Topic11\", \"Topic11\", \"Topic11\", \"Topic11\", \"Topic11\", \"Topic11\", \"Topic11\", \"Topic11\", \"Topic11\", \"Topic11\", \"Topic11\", \"Topic11\", \"Topic11\", \"Topic11\", \"Topic11\", \"Topic11\", \"Topic11\", \"Topic11\", \"Topic11\", \"Topic11\", \"Topic11\", \"Topic11\", \"Topic11\", \"Topic11\", \"Topic11\", \"Topic11\", \"Topic11\", \"Topic11\", \"Topic11\", \"Topic11\", \"Topic11\", \"Topic11\", \"Topic11\", \"Topic11\", \"Topic11\", \"Topic11\", \"Topic11\", \"Topic11\", \"Topic11\", \"Topic11\", \"Topic11\", \"Topic11\", \"Topic11\", \"Topic11\", \"Topic12\", \"Topic12\", \"Topic12\", \"Topic12\", \"Topic12\", \"Topic12\", \"Topic12\", \"Topic12\", \"Topic12\", \"Topic12\", \"Topic12\", \"Topic12\", \"Topic12\", \"Topic12\", \"Topic12\", \"Topic12\", \"Topic12\", \"Topic12\", \"Topic12\", \"Topic12\", \"Topic12\", \"Topic12\", \"Topic12\", \"Topic12\", \"Topic12\", \"Topic12\", \"Topic12\", \"Topic12\", \"Topic12\", \"Topic12\", \"Topic12\", \"Topic12\", \"Topic12\", \"Topic12\", \"Topic12\", \"Topic12\", \"Topic12\", \"Topic12\", \"Topic12\", \"Topic12\", \"Topic12\", \"Topic12\", \"Topic12\", \"Topic12\", \"Topic12\", \"Topic12\", \"Topic12\", \"Topic12\", \"Topic12\", \"Topic12\", \"Topic12\", \"Topic12\", \"Topic12\", \"Topic12\", \"Topic12\", \"Topic12\", \"Topic12\", \"Topic12\", \"Topic12\", \"Topic12\", \"Topic12\", \"Topic12\", \"Topic12\", \"Topic12\", \"Topic12\", \"Topic12\", \"Topic12\", \"Topic12\", \"Topic12\", \"Topic12\", \"Topic12\", \"Topic12\", \"Topic12\", \"Topic12\", \"Topic12\", \"Topic12\", \"Topic12\", \"Topic12\", \"Topic13\", \"Topic13\", \"Topic13\", \"Topic13\", \"Topic13\", \"Topic13\", \"Topic13\", \"Topic13\", \"Topic13\", \"Topic13\", \"Topic13\", \"Topic13\", \"Topic13\", \"Topic13\", \"Topic13\", \"Topic13\", \"Topic13\", \"Topic13\", \"Topic13\", \"Topic13\", \"Topic13\", \"Topic13\", \"Topic13\", \"Topic13\", \"Topic13\", \"Topic13\", \"Topic13\", \"Topic13\", \"Topic13\", \"Topic13\", \"Topic13\", \"Topic13\", \"Topic13\", \"Topic13\", \"Topic13\", \"Topic13\", \"Topic13\", \"Topic13\", \"Topic13\", \"Topic13\", \"Topic13\", \"Topic13\", \"Topic13\", \"Topic13\", \"Topic13\", \"Topic13\", \"Topic13\", \"Topic13\", \"Topic13\", \"Topic13\", \"Topic13\", \"Topic13\", \"Topic13\", \"Topic13\", \"Topic13\", \"Topic13\", \"Topic13\", \"Topic13\", \"Topic13\", \"Topic13\", \"Topic13\", \"Topic13\", \"Topic13\", \"Topic13\", \"Topic13\", \"Topic13\", \"Topic13\", \"Topic13\", \"Topic13\", \"Topic13\", \"Topic13\", \"Topic13\", \"Topic13\", \"Topic13\", \"Topic13\", \"Topic13\", \"Topic13\", \"Topic13\", \"Topic13\", \"Topic13\", \"Topic14\", \"Topic14\", \"Topic14\", \"Topic14\", \"Topic14\", \"Topic14\", \"Topic14\", \"Topic14\", \"Topic14\", \"Topic14\", \"Topic14\", \"Topic14\", \"Topic14\", \"Topic14\", \"Topic14\", \"Topic14\", \"Topic14\", \"Topic14\", \"Topic14\", \"Topic14\", \"Topic14\", \"Topic14\", \"Topic14\", \"Topic14\", \"Topic14\", \"Topic14\", \"Topic14\", \"Topic14\", \"Topic14\", \"Topic14\", \"Topic14\", \"Topic14\", \"Topic14\", \"Topic14\", \"Topic14\", \"Topic14\", \"Topic14\", \"Topic14\", \"Topic14\", \"Topic14\", \"Topic14\", \"Topic14\", \"Topic14\", \"Topic14\", \"Topic14\", \"Topic14\", \"Topic14\", \"Topic14\", \"Topic14\", \"Topic14\", \"Topic14\", \"Topic14\", \"Topic14\", \"Topic14\", \"Topic14\", \"Topic14\", \"Topic14\", \"Topic14\", \"Topic14\", \"Topic14\", \"Topic14\", \"Topic14\", \"Topic14\", \"Topic14\", \"Topic14\", \"Topic14\", \"Topic14\", \"Topic14\", \"Topic14\", \"Topic14\", \"Topic14\", \"Topic14\", \"Topic14\", \"Topic14\", \"Topic14\", \"Topic14\", \"Topic14\", \"Topic14\", \"Topic14\", \"Topic15\", \"Topic15\", \"Topic15\", \"Topic15\", \"Topic15\", \"Topic15\", \"Topic15\", \"Topic15\", \"Topic15\", \"Topic15\", \"Topic15\", \"Topic15\", \"Topic15\", \"Topic15\", \"Topic15\", \"Topic15\", \"Topic15\", \"Topic15\", \"Topic15\", \"Topic15\", \"Topic15\", \"Topic15\", \"Topic15\", \"Topic15\", \"Topic15\", \"Topic15\", \"Topic15\", \"Topic15\", \"Topic15\", \"Topic15\", \"Topic15\", \"Topic15\", \"Topic15\", \"Topic15\", \"Topic15\", \"Topic15\", \"Topic15\", \"Topic15\", \"Topic15\", \"Topic15\", \"Topic15\", \"Topic15\", \"Topic15\", \"Topic15\", \"Topic15\", \"Topic15\", \"Topic15\", \"Topic15\", \"Topic15\", \"Topic15\", \"Topic15\", \"Topic15\", \"Topic15\", \"Topic15\", \"Topic15\", \"Topic15\", \"Topic15\", \"Topic15\", \"Topic15\", \"Topic15\", \"Topic15\", \"Topic15\", \"Topic15\", \"Topic15\", \"Topic15\", \"Topic15\", \"Topic15\", \"Topic15\", \"Topic15\", \"Topic15\", \"Topic15\", \"Topic15\", \"Topic15\", \"Topic15\", \"Topic15\", \"Topic15\", \"Topic15\", \"Topic15\", \"Topic15\", \"Topic15\", \"Topic15\", \"Topic15\", \"Topic16\", \"Topic16\", \"Topic16\", \"Topic16\", \"Topic16\", \"Topic16\", \"Topic16\", \"Topic16\", \"Topic16\", \"Topic16\", \"Topic16\", \"Topic16\", \"Topic16\", \"Topic16\", \"Topic16\", \"Topic16\", \"Topic16\", \"Topic16\", \"Topic16\", \"Topic16\", \"Topic16\", \"Topic16\", \"Topic16\", \"Topic16\", \"Topic16\", \"Topic16\", \"Topic16\", \"Topic16\", \"Topic16\", \"Topic16\", \"Topic16\", \"Topic16\", \"Topic16\", \"Topic16\", \"Topic16\", \"Topic16\", \"Topic16\", \"Topic16\", \"Topic16\", \"Topic16\", \"Topic16\", \"Topic16\", \"Topic16\", \"Topic16\", \"Topic16\", \"Topic16\", \"Topic16\", \"Topic16\", \"Topic16\", \"Topic16\", \"Topic16\", \"Topic16\", \"Topic16\", \"Topic16\", \"Topic16\", \"Topic16\", \"Topic16\", \"Topic16\", \"Topic16\", \"Topic16\", \"Topic16\", \"Topic16\", \"Topic16\", \"Topic16\", \"Topic16\", \"Topic16\", \"Topic16\", \"Topic16\", \"Topic16\", \"Topic16\", \"Topic16\", \"Topic17\", \"Topic17\", \"Topic17\", \"Topic17\", \"Topic17\", \"Topic17\", \"Topic17\", \"Topic17\", \"Topic17\", \"Topic17\", \"Topic17\", \"Topic17\", \"Topic17\", \"Topic17\", \"Topic17\", \"Topic17\", \"Topic17\", \"Topic17\", \"Topic17\", \"Topic17\", \"Topic17\", \"Topic17\", \"Topic17\", \"Topic17\", \"Topic17\", \"Topic17\", \"Topic17\", \"Topic17\", \"Topic17\", \"Topic17\", \"Topic17\", \"Topic17\", \"Topic17\", \"Topic17\", \"Topic17\", \"Topic17\", \"Topic17\", \"Topic17\", \"Topic17\", \"Topic17\", \"Topic17\", \"Topic17\", \"Topic17\", \"Topic17\", \"Topic17\", \"Topic17\", \"Topic17\", \"Topic17\", \"Topic17\", \"Topic17\", \"Topic17\", \"Topic17\", \"Topic17\", \"Topic17\", \"Topic17\", \"Topic17\", \"Topic17\", \"Topic17\", \"Topic17\", \"Topic17\", \"Topic17\", \"Topic17\", \"Topic17\", \"Topic17\", \"Topic17\", \"Topic17\", \"Topic17\", \"Topic17\", \"Topic17\", \"Topic17\", \"Topic17\", \"Topic17\", \"Topic17\", \"Topic17\", \"Topic17\", \"Topic17\", \"Topic18\", \"Topic18\", \"Topic18\", \"Topic18\", \"Topic18\", \"Topic18\", \"Topic18\", \"Topic18\", \"Topic18\", \"Topic18\", \"Topic18\", \"Topic18\", \"Topic18\", \"Topic18\", \"Topic18\", \"Topic18\", \"Topic18\", \"Topic18\", \"Topic18\", \"Topic18\", \"Topic18\", \"Topic18\", \"Topic18\", \"Topic18\", \"Topic18\", \"Topic18\", \"Topic18\", \"Topic18\", \"Topic18\", \"Topic18\", \"Topic18\", \"Topic18\", \"Topic18\", \"Topic18\", \"Topic18\", \"Topic18\", \"Topic18\", \"Topic18\", \"Topic18\", \"Topic18\", \"Topic18\", \"Topic18\", \"Topic18\", \"Topic18\", \"Topic18\", \"Topic18\", \"Topic18\", \"Topic18\", \"Topic18\", \"Topic18\", \"Topic18\", \"Topic18\", \"Topic18\", \"Topic18\", \"Topic18\", \"Topic18\", \"Topic18\", \"Topic18\", \"Topic18\", \"Topic18\", \"Topic18\", \"Topic18\", \"Topic18\", \"Topic18\", \"Topic18\", \"Topic18\", \"Topic18\", \"Topic18\", \"Topic18\", \"Topic18\", \"Topic18\", \"Topic18\", \"Topic18\", \"Topic18\", \"Topic18\", \"Topic18\", \"Topic18\", \"Topic18\", \"Topic18\", \"Topic18\", \"Topic18\", \"Topic18\", \"Topic18\", \"Topic18\", \"Topic18\", \"Topic18\", \"Topic18\", \"Topic18\", \"Topic19\", \"Topic19\", \"Topic19\", \"Topic19\", \"Topic19\", \"Topic19\", \"Topic19\", \"Topic19\", \"Topic19\", \"Topic19\", \"Topic19\", \"Topic19\", \"Topic19\", \"Topic19\", \"Topic19\", \"Topic19\", \"Topic19\", \"Topic19\", \"Topic19\", \"Topic19\", \"Topic19\", \"Topic19\", \"Topic19\", \"Topic19\", \"Topic19\", \"Topic19\", \"Topic19\", \"Topic19\", \"Topic19\", \"Topic19\", \"Topic19\", \"Topic19\", \"Topic19\", \"Topic19\", \"Topic19\", \"Topic19\", \"Topic19\", \"Topic19\", \"Topic19\", \"Topic19\", \"Topic19\", \"Topic19\", \"Topic19\", \"Topic19\", \"Topic19\", \"Topic19\", \"Topic19\", \"Topic19\", \"Topic19\", \"Topic19\", \"Topic19\", \"Topic19\", \"Topic19\", \"Topic19\", \"Topic19\", \"Topic19\", \"Topic19\", \"Topic19\", \"Topic19\", \"Topic19\", \"Topic19\", \"Topic19\", \"Topic19\", \"Topic19\", \"Topic19\", \"Topic19\", \"Topic19\", \"Topic19\", \"Topic19\", \"Topic19\", \"Topic19\", \"Topic19\", \"Topic19\", \"Topic19\", \"Topic19\", \"Topic19\", \"Topic19\", \"Topic19\", \"Topic19\", \"Topic19\", \"Topic19\", \"Topic19\", \"Topic20\", \"Topic20\", \"Topic20\", \"Topic20\", \"Topic20\", \"Topic20\", \"Topic20\", \"Topic20\", \"Topic20\", \"Topic20\", \"Topic20\", \"Topic20\", \"Topic20\", \"Topic20\", \"Topic20\", \"Topic20\", \"Topic20\", \"Topic20\", \"Topic20\", \"Topic20\", \"Topic20\", \"Topic20\", \"Topic20\", \"Topic20\", \"Topic20\", \"Topic20\", \"Topic20\", \"Topic20\", \"Topic20\", \"Topic20\", \"Topic20\", \"Topic20\", \"Topic20\", \"Topic20\", \"Topic20\", \"Topic20\", \"Topic20\", \"Topic20\", \"Topic20\", \"Topic20\", \"Topic20\", \"Topic20\", \"Topic20\", \"Topic20\", \"Topic20\", \"Topic20\", \"Topic20\", \"Topic20\", \"Topic20\", \"Topic20\", \"Topic20\", \"Topic20\", \"Topic20\", \"Topic20\", \"Topic20\", \"Topic20\", \"Topic20\", \"Topic20\", \"Topic20\", \"Topic20\", \"Topic20\", \"Topic20\", \"Topic20\", \"Topic20\", \"Topic20\", \"Topic20\", \"Topic20\", \"Topic20\", \"Topic20\", \"Topic20\", \"Topic20\", \"Topic20\", \"Topic20\", \"Topic20\", \"Topic20\", \"Topic20\", \"Topic20\", \"Topic20\", \"Topic20\", \"Topic20\", \"Topic20\"], \"logprob\": [30.0, 29.0, 28.0, 27.0, 26.0, 25.0, 24.0, 23.0, 22.0, 21.0, 20.0, 19.0, 18.0, 17.0, 16.0, 15.0, 14.0, 13.0, 12.0, 11.0, 10.0, 9.0, 8.0, 7.0, 6.0, 5.0, 4.0, 3.0, 2.0, 1.0, -6.979400157928467, -7.702700138092041, -7.703000068664551, -7.7758002281188965, -7.7789998054504395, -6.779900074005127, -7.90369987487793, -7.917200088500977, -7.953499794006348, -8.015199661254883, -8.050999641418457, -8.084699630737305, -8.091400146484375, -8.143099784851074, -8.035799980163574, -7.3333001136779785, -8.208200454711914, -8.208900451660156, -8.006500244140625, -8.222399711608887, -8.251299858093262, -8.26099967956543, -8.229299545288086, -8.302300453186035, -8.26039981842041, -8.192000389099121, -8.346699714660645, -8.436800003051758, -8.436200141906738, -8.442299842834473, -6.372700214385986, -7.664400100708008, -6.614999771118164, -6.217800140380859, -7.465700149536133, -4.696499824523926, -5.2941999435424805, -6.530900001525879, -6.15500020980835, -7.463399887084961, -6.121099948883057, -7.557700157165527, -6.757599830627441, -7.2895002365112305, -7.069300174713135, -6.957499980926514, -6.26039981842041, -6.810699939727783, -6.339200019836426, -5.731299877166748, -6.40939998626709, -5.564199924468994, -6.853899955749512, -5.859899997711182, -5.8927998542785645, -5.758399963378906, -6.056099891662598, -6.196599960327148, -6.641300201416016, -6.633399963378906, -5.529900074005127, -5.520400047302246, -5.678899765014648, -4.672699928283691, -6.167200088500977, -5.5971999168396, -4.876999855041504, -4.3850998878479, -5.604000091552734, -4.122200012207031, -5.729000091552734, -5.684700012207031, -5.583799839019775, -5.373499870300293, -5.741300106048584, -5.836999893188477, -5.470900058746338, -4.605299949645996, -5.155300140380859, -4.845200061798096, -5.420100212097168, -4.767199993133545, -5.079400062561035, -5.147299766540527, -5.309500217437744, -5.128600120544434, -5.338799953460693, -5.417900085449219, -5.58650016784668, -5.386000156402588, -5.464099884033203, -5.567599773406982, -5.599599838256836, -4.427000045776367, -7.309000015258789, -7.455999851226807, -7.674699783325195, -7.716899871826172, -7.826900005340576, -7.732800006866455, -7.899499893188477, -7.903200149536133, -6.2779998779296875, -5.628600120544434, -8.08430004119873, -8.143799781799316, -8.168299674987793, -8.169899940490723, -8.179800033569336, -8.18120002746582, -8.216099739074707, -7.111599922180176, -8.282999992370605, -8.40250015258789, -8.463700294494629, -8.514800071716309, -8.52750015258789, -8.542400360107422, -4.443699836730957, -8.446999549865723, -7.853400230407715, -7.780700206756592, -7.817500114440918, -7.022799968719482, -5.913400173187256, -7.486700057983398, -6.368500232696533, -5.315899848937988, -7.237500190734863, -6.299900054931641, -5.643700122833252, -7.2957000732421875, -7.700099945068359, -5.02269983291626, -7.46619987487793, -6.751500129699707, -5.234899997711182, -4.880300045013428, -5.912399768829346, -6.434700012207031, -5.068699836730957, -5.810500144958496, -6.324399948120117, -6.920000076293945, -6.291900157928467, -4.212399959564209, -6.635200023651123, -3.88100004196167, -6.269499778747559, -6.46619987487793, -4.675899982452393, -6.576600074768066, -4.2947998046875, -4.32919979095459, -3.7023000717163086, -4.1605000495910645, -5.658199787139893, -3.8053998947143555, -4.744999885559082, -5.110199928283691, -5.335299968719482, -5.311500072479248, -4.67140007019043, -4.894700050354004, -5.068399906158447, -4.781599998474121, -4.941999912261963, -4.716599941253662, -5.192500114440918, -4.736999988555908, -4.967599868774414, -4.938700199127197, -4.995999813079834, -5.207499980926514, -5.268899917602539, -6.642199993133545, -6.88539981842041, -6.951700210571289, -7.286200046539307, -7.369699954986572, -7.584000110626221, -7.621699810028076, -7.67609977722168, -7.730400085449219, -7.9882001876831055, -7.9893999099731445, -8.054499626159668, -8.081600189208984, -8.114800453186035, -8.152400016784668, -8.160699844360352, -8.214500427246094, -8.28380012512207, -7.166299819946289, -8.333399772644043, -8.339500427246094, -8.36050033569336, -8.382100105285645, -8.388199806213379, -8.402099609375, -8.347200393676758, -7.813799858093262, -7.680300235748291, -8.365900039672852, -8.084600448608398, -7.818299770355225, -7.260200023651123, -6.269800186157227, -6.0447998046875, -5.593900203704834, -6.949399948120117, -7.506800174713135, -6.973800182342529, -4.995999813079834, -5.7118000984191895, -6.5157999992370605, -5.451300144195557, -7.360499858856201, -3.7200000286102295, -5.459499835968018, -5.209099769592285, -6.1894001960754395, -7.173600196838379, -6.994500160217285, -4.186500072479248, -6.996399879455566, -6.426700115203857, -5.539599895477295, -6.1153998374938965, -3.8366000652313232, -4.173399925231934, -6.329999923706055, -6.208799839019775, -4.680099964141846, -5.235899925231934, -5.1381001472473145, -4.997700214385986, -5.437099933624268, -4.123600006103516, -5.239200115203857, -4.808800220489502, -5.567200183868408, -4.559500217437744, -5.385000228881836, -4.686800003051758, -4.472300052642822, -4.857999801635742, -4.917799949645996, -5.20550012588501, -5.316999912261963, -5.063899993896484, -5.165500164031982, -5.240200042724609, -5.032800197601318, -5.288000106811523, -5.2941999435424805, -5.30620002746582, -5.371799945831299, -5.389800071716309, -5.389200210571289, -6.25629997253418, -6.329800128936768, -6.563499927520752, -7.210299968719482, -7.249300003051758, -7.292900085449219, -7.320400238037109, -7.441699981689453, -7.496500015258789, -7.549699783325195, -7.547399997711182, -7.592299938201904, -7.632699966430664, -7.656899929046631, -7.678899765014648, -7.7256999015808105, -7.754199981689453, -7.758600234985352, -7.770100116729736, -7.772200107574463, -7.803999900817871, -7.809000015258789, -7.817599773406982, -7.846700191497803, -7.8516998291015625, -7.85699987411499, -7.866399765014648, -7.879700183868408, -7.894899845123291, -7.909299850463867, -7.410999774932861, -7.545599937438965, -6.6666998863220215, -7.55649995803833, -4.879700183868408, -6.915999889373779, -7.251999855041504, -5.722400188446045, -7.191299915313721, -6.231900215148926, -5.614699840545654, -6.656499862670898, -5.321100234985352, -5.702499866485596, -6.239299774169922, -6.799200057983398, -5.853700160980225, -6.882299900054932, -6.651800155639648, -7.041399955749512, -6.5665998458862305, -5.567399978637695, -5.343599796295166, -5.064300060272217, -5.030700206756592, -5.3277997970581055, -4.93149995803833, -5.340199947357178, -5.119900226593018, -6.494999885559082, -5.543900012969971, -5.773099899291992, -5.112599849700928, -6.414599895477295, -5.134200096130371, -6.090799808502197, -6.0777997970581055, -6.286799907684326, -5.1194000244140625, -5.689799785614014, -4.902699947357178, -4.893499851226807, -5.7870001792907715, -5.241700172424316, -5.264200210571289, -4.922900199890137, -5.207799911499023, -5.345699787139893, -5.223100185394287, -5.613399982452393, -5.439700126647949, -5.518199920654297, -5.606100082397461, -5.6743998527526855, -5.698599815368652, -6.366000175476074, -6.770400047302246, -7.091800212860107, -7.118500232696533, -7.298399925231934, -7.440999984741211, -7.644400119781494, -7.758299827575684, -7.7667999267578125, -7.799900054931641, -7.857600212097168, -7.906899929046631, -7.852099895477295, -7.926599979400635, -6.571800231933594, -7.949399948120117, -7.973599910736084, -7.98769998550415, -8.038999557495117, -7.930300235748291, -8.075799942016602, -8.082599639892578, -8.082599639892578, -8.135199546813965, -8.213500022888184, -8.237799644470215, -7.664700031280518, -7.546000003814697, -7.970200061798096, -7.383299827575684, -5.758900165557861, -3.6810998916625977, -4.4253997802734375, -5.318699836730957, -6.622900009155273, -5.087100028991699, -7.304999828338623, -4.735000133514404, -5.212100028991699, -5.489099979400635, -6.370800018310547, -7.006899833679199, -7.109499931335449, -5.7571001052856445, -4.297399997711182, -5.510000228881836, -6.725299835205078, -6.9145002365112305, -4.9359002113342285, -4.262499809265137, -5.191199779510498, -4.211699962615967, -5.532400131225586, -4.658599853515625, -4.794099807739258, -6.1844000816345215, -5.164899826049805, -5.398900032043457, -4.57859992980957, -5.619500160217285, -4.554100036621094, -5.276000022888184, -5.132599830627441, -5.536600112915039, -5.088200092315674, -4.066500186920166, -5.365900039672852, -4.861800193786621, -4.229800224304199, -5.048799991607666, -4.660200119018555, -4.850299835205078, -4.769599914550781, -5.127900123596191, -5.089900016784668, -5.023799896240234, -5.277299880981445, -5.271500110626221, -6.442299842834473, -6.965400218963623, -6.994900226593018, -7.46150016784668, -7.447500228881836, -7.563600063323975, -7.660799980163574, -7.665800094604492, -7.680500030517578, -7.685400009155273, -7.697299957275391, -7.707900047302246, -7.637499809265137, -7.771900177001953, -7.804500102996826, -7.823999881744385, -7.875699996948242, -7.899499893188477, -7.924499988555908, -7.924499988555908, -7.928400039672852, -6.82480001449585, -7.96619987487793, -7.970600128173828, -7.9882001876831055, -7.9944000244140625, -8.018899917602539, -8.02340030670166, -8.013299942016602, -8.03950023651123, -7.218999862670898, -7.417600154876709, -7.303999900817871, -7.379899978637695, -7.2230000495910645, -7.274899959564209, -7.122499942779541, -6.701099872589111, -6.769000053405762, -6.4253997802734375, -6.836400032043457, -6.710599899291992, -7.205599784851074, -4.793300151824951, -6.559800148010254, -7.155900001525879, -6.130300045013428, -6.969399929046631, -5.623300075531006, -7.188000202178955, -6.030399799346924, -4.556399822235107, -6.532400131225586, -4.825300216674805, -5.78380012512207, -4.679200172424316, -4.717400074005127, -5.265999794006348, -5.854300022125244, -4.882800102233887, -6.118199825286865, -5.479499816894531, -5.719900131225586, -5.759099960327148, -5.577600002288818, -5.5472002029418945, -6.016300201416016, -4.9980998039245605, -5.454400062561035, -4.661200046539307, -5.02869987487793, -5.340099811553955, -5.274400234222412, -4.990699768066406, -4.808800220489502, -5.615499973297119, -5.0725998878479, -5.614099979400635, -5.695700168609619, -5.205699920654297, -5.293700218200684, -5.525199890136719, -5.487400054931641, -5.321800231933594, -5.4141998291015625, -5.587699890136719, -5.541800022125244, -5.496399879455566, -5.537799835205078, -5.500100135803223, -6.704500198364258, -7.154600143432617, -7.167699813842773, -7.266900062561035, -7.144899845123291, -7.423799991607666, -7.47760009765625, -7.490300178527832, -7.502200126647949, -7.51230001449585, -7.637400150299072, -7.6875, -7.691699981689453, -7.728400230407715, -7.732900142669678, -7.73829984664917, -7.799600124359131, -7.8069000244140625, -7.828000068664551, -7.840400218963623, -7.843699932098389, -7.860799789428711, -7.894800186157227, -7.894999980926514, -7.920400142669678, -7.9207000732421875, -7.93310022354126, -7.935500144958496, -7.9405999183654785, -7.962500095367432, -7.3790998458862305, -7.480500221252441, -7.585899829864502, -6.946400165557861, -7.019199848175049, -7.481900215148926, -5.19189977645874, -6.364799976348877, -4.922800064086914, -7.292300224304199, -7.1367998123168945, -4.927499771118164, -5.4903998374938965, -4.281700134277344, -4.730899810791016, -7.1031999588012695, -5.5578999519348145, -7.104100227355957, -5.433000087738037, -6.598199844360352, -5.637400150299072, -3.9395999908447266, -5.543799877166748, -4.596399784088135, -5.831299781799316, -6.2820000648498535, -4.433300018310547, -5.907599925994873, -5.4232001304626465, -5.540800094604492, -5.569300174713135, -4.576399803161621, -4.808599948883057, -4.495800018310547, -5.027900218963623, -4.346199989318848, -5.182000160217285, -4.720200061798096, -5.652599811553955, -5.496799945831299, -5.104100227355957, -4.542699813842773, -4.7916998863220215, -5.159900188446045, -5.2052001953125, -5.244500160217285, -4.984600067138672, -5.167399883270264, -5.37470006942749, -5.45550012588501, -5.472799777984619, -6.595300197601318, -6.720799922943115, -6.90500020980835, -7.022299766540527, -7.0594000816345215, -7.0640997886657715, -7.201499938964844, -7.255099773406982, -7.271299839019775, -7.327199935913086, -7.337100028991699, -5.104300022125244, -7.3871002197265625, -7.39709997177124, -7.419099807739258, -7.424499988555908, -7.364999771118164, -7.43120002746582, -7.439599990844727, -7.442500114440918, -7.44920015335083, -7.4633002281188965, -7.476799964904785, -7.491499900817871, -7.410099983215332, -7.543799877166748, -7.566400051116943, -7.575200080871582, -7.577600002288818, -7.608099937438965, -7.390699863433838, -6.962500095367432, -6.338799953460693, -7.018599987030029, -7.08519983291626, -5.938300132751465, -7.100399971008301, -7.064300060272217, -7.190100193023682, -5.416900157928467, -7.157800197601318, -7.094399929046631, -4.769599914550781, -7.134799957275391, -7.01639986038208, -7.01200008392334, -7.107399940490723, -6.906499862670898, -6.710000038146973, -5.59060001373291, -6.922999858856201, -5.615499973297119, -6.117099761962891, -5.89169979095459, -5.043700218200684, -6.025300025939941, -5.042500019073486, -6.075099945068359, -6.220600128173828, -5.277599811553955, -4.421199798583984, -6.71619987487793, -6.281000137329102, -5.253600120544434, -5.832799911499023, -5.666500091552734, -4.801300048828125, -5.780799865722656, -5.30649995803833, -5.888700008392334, -5.741700172424316, -5.347300052642822, -5.496600151062012, -5.125100135803223, -5.440299987792969, -5.426199913024902, -5.525300025939941, -5.8856000900268555, -5.610899925231934, -5.695000171661377, -5.634099960327148, -5.6296000480651855, -5.575300216674805, -5.820400238037109, -5.765600204467773, -5.822199821472168, -5.811800003051758, -5.582799911499023, -6.351099967956543, -6.818399906158447, -6.95550012588501, -7.0005998611450195, -7.123799800872803, -7.137700080871582, -7.196800231933594, -7.260499954223633, -7.276599884033203, -7.3354997634887695, -7.428599834442139, -7.429500102996826, -7.456500053405762, -7.449699878692627, -7.573400020599365, -7.588399887084961, -7.600200176239014, -7.6118998527526855, -7.61899995803833, -7.628300189971924, -7.644100189208984, -7.636099815368652, -7.666999816894531, -7.675000190734863, -7.688600063323975, -7.6956000328063965, -7.710299968719482, -7.717800140380859, -7.733500003814697, -6.6570000648498535, -7.054100036621094, -6.052700042724609, -5.241700172424316, -5.606100082397461, -7.200799942016602, -7.340400218963623, -6.523900032043457, -5.908199787139893, -7.216800212860107, -6.618599891662598, -5.996600151062012, -6.678500175476074, -6.011199951171875, -6.793700218200684, -4.611499786376953, -6.807700157165527, -6.144899845123291, -6.187900066375732, -6.576600074768066, -5.407100200653076, -5.9054999351501465, -5.769199848175049, -4.7382001876831055, -6.503699779510498, -4.643400192260742, -5.7052998542785645, -5.372799873352051, -6.197299957275391, -5.107800006866455, -5.823699951171875, -6.364099979400635, -6.293600082397461, -5.788599967956543, -5.543499946594238, -6.069499969482422, -6.14739990234375, -5.680500030517578, -4.8043999671936035, -5.3831000328063965, -5.513899803161621, -5.925899982452393, -5.099899768829346, -5.063899993896484, -4.960000038146973, -4.989099979400635, -5.579500198364258, -5.217299938201904, -5.394700050354004, -5.412499904632568, -5.555699825286865, -5.5381999015808105, -5.580699920654297, -5.326099872589111, -5.586699962615967, -5.612500190734863, -5.63129997253418, -5.644700050354004, -5.675099849700928, -5.98360013961792, -6.423500061035156, -6.498600006103516, -6.631499767303467, -6.65339994430542, -6.728099822998047, -6.759900093078613, -6.959000110626221, -7.0019001960754395, -7.018799781799316, -7.02839994430542, -7.083600044250488, -7.087900161743164, -7.111199855804443, -7.165900230407715, -7.212200164794922, -7.221499919891357, -7.245200157165527, -7.2866997718811035, -7.3024001121521, -7.360899925231934, -7.390600204467773, -7.437399864196777, -7.474400043487549, -7.475800037384033, -7.518400192260742, -7.520999908447266, -7.522500038146973, -7.531899929046631, -7.5346999168396, -7.035099983215332, -6.107999801635742, -5.143499851226807, -7.082900047302246, -5.616300106048584, -6.365699768066406, -5.529600143432617, -6.9506001472473145, -6.858699798583984, -5.851200103759766, -7.125199794769287, -6.884099960327148, -6.133399963378906, -4.485400199890137, -6.705699920654297, -6.956900119781494, -5.894899845123291, -5.173600196838379, -5.149700164794922, -6.089700222015381, -6.105299949645996, -4.364500045776367, -4.668000221252441, -4.80679988861084, -5.098299980163574, -4.751200199127197, -4.22760009765625, -5.106299877166748, -5.760700225830078, -5.885499954223633, -4.9207000732421875, -4.6875, -5.446300029754639, -4.903800010681152, -4.941400051116943, -5.125, -5.3383002281188965, -5.332099914550781, -5.553500175476074, -5.7972002029418945, -4.891600131988525, -5.283100128173828, -5.365200042724609, -5.454100131988525, -5.6753997802734375, -5.56850004196167, -5.5395002365112305, -5.601200103759766, -5.659999847412109, -5.977499961853027, -6.234399795532227, -6.309100151062012, -6.506499767303467, -6.620100021362305, -6.894899845123291, -6.951399803161621, -6.951399803161621, -6.969600200653076, -7.001200199127197, -7.014999866485596, -7.060999870300293, -7.135000228881836, -6.9492998123168945, -7.079100131988525, -7.226500034332275, -7.236599922180176, -7.252399921417236, -6.744500160217285, -7.3420000076293945, -7.390399932861328, -7.3907999992370605, -7.392399787902832, -6.614299774169922, -7.447700023651123, -7.465400218963623, -7.478899955749512, -7.540999889373779, -7.585299968719482, -7.593299865722656, -6.85260009765625, -6.591899871826172, -5.767899990081787, -6.242099761962891, -6.619999885559082, -7.043499946594238, -5.718299865722656, -6.183899879455566, -6.206299781799316, -6.421299934387207, -6.648099899291992, -6.62060022354126, -5.6356000900268555, -6.64139986038208, -5.158199787139893, -6.4394001960754395, -4.695099830627441, -6.581600189208984, -4.703000068664551, -6.422699928283691, -4.590400218963623, -6.262700080871582, -5.307600021362305, -5.430699825286865, -4.615600109100342, -5.161300182342529, -6.1528000831604, -4.803500175476074, -5.4704999923706055, -5.050000190734863, -5.090400218963623, -5.1793999671936035, -5.567299842834473, -5.444399833679199, -5.666800022125244, -5.852499961853027, -5.657599925994873, -5.5071001052856445, -5.677800178527832, -5.671999931335449, -5.635799884796143, -5.654699802398682, -5.7652997970581055, -5.773799896240234, -5.730800151824951, -5.809800148010254, -5.837299823760986, -5.945499897003174, -6.021999835968018, -6.44290018081665, -6.476600170135498, -6.7947998046875, -6.981800079345703, -7.009699821472168, -7.106200218200684, -7.127200126647949, -7.140600204467773, -7.163099765777588, -6.743199825286865, -7.074100017547607, -7.214799880981445, -7.221399784088135, -7.244500160217285, -7.284900188446045, -6.666299819946289, -7.338399887084961, -7.341400146484375, -7.391900062561035, -7.404900074005127, -7.450200080871582, -7.478499889373779, -7.479899883270264, -7.484000205993652, -7.497399806976318, -7.518499851226807, -7.531099796295166, -7.547299861907959, -6.293000221252441, -7.075699806213379, -7.19950008392334, -6.884099960327148, -6.467400074005127, -5.648399829864502, -5.56820011138916, -4.939899921417236, -5.882999897003174, -6.26200008392334, -6.0991997718811035, -4.615799903869629, -6.896100044250488, -6.004899978637695, -5.481100082397461, -6.4232001304626465, -5.645599842071533, -5.90339994430542, -5.85260009765625, -5.592199802398682, -6.579699993133545, -4.652900218963623, -5.30109977722168, -5.3694000244140625, -6.064799785614014, -4.968400001525879, -4.279399871826172, -5.332300186157227, -4.964700222015381, -5.267399787902832, -4.3734002113342285, -4.673600196838379, -5.18209981918335, -5.488500118255615, -5.34089994430542, -5.236599922180176, -5.508900165557861, -5.3460001945495605, -5.480299949645996, -5.3557000160217285, -5.295000076293945, -5.241300106048584, -5.178599834442139, -5.358799934387207, -5.293300151824951, -5.467599868774414, -5.559299945831299, -5.587100028991699, -6.064199924468994, -5.786900043487549, -6.415299892425537, -6.4654998779296875, -6.502200126647949, -6.637400150299072, -6.806700229644775, -6.815800189971924, -6.864799976348877, -6.880300045013428, -6.897900104522705, -7.065199851989746, -7.090700149536133, -7.119100093841553, -7.176300048828125, -7.1828999519348145, -7.200900077819824, -7.208600044250488, -7.281700134277344, -7.261499881744385, -7.3231000900268555, -7.3246002197265625, -7.333199977874756, -7.344900131225586, -7.357500076293945, -7.375899791717529, -7.377900123596191, -7.381700038909912, -7.39109992980957, -7.4004998207092285, -6.540800094604492, -4.2266998291015625, -6.3119001388549805, -4.506400108337402, -6.9847002029418945, -5.536300182342529, -6.051199913024902, -6.815100193023682, -6.525000095367432, -6.534900188446045, -6.537099838256836, -6.596099853515625, -5.331099987030029, -6.844200134277344, -6.418900012969971, -6.9832000732421875, -5.783400058746338, -5.103000164031982, -6.121300220489502, -4.520100116729736, -5.583399772644043, -5.716400146484375, -3.9639999866485596, -5.087100028991699, -6.213099956512451, -4.661200046539307, -5.774499893188477, -4.836400032043457, -5.57390022277832, -4.372000217437744, -5.582300186157227, -6.074100017547607, -5.672100067138672, -4.845799922943115, -6.030900001525879, -5.401000022888184, -5.43149995803833, -5.712699890136719, -5.066299915313721, -5.638000011444092, -5.478700160980225, -5.446899890899658, -5.682700157165527, -5.410699844360352, -5.571400165557861, -5.524099826812744, -5.549699783325195, -5.621500015258789, -5.6859002113342285, -5.680099964141846, -6.202099800109863, -6.710999965667725, -6.732900142669678, -6.86269998550415, -6.902699947357178, -6.90339994430542, -6.971700191497803, -6.974800109863281, -6.9756999015808105, -6.9903998374938965, -7.092700004577637, -7.021699905395508, -7.120299816131592, -7.196000099182129, -7.18149995803833, -7.217299938201904, -7.255799770355225, -7.277699947357178, -7.369800090789795, -7.394000053405762, -7.40339994430542, -7.430799961090088, -7.4217000007629395, -7.445000171661377, -7.455100059509277, -7.456200122833252, -7.512499809265137, -7.520999908447266, -7.536499977111816, -7.539700031280518, -6.8709001541137695, -6.507199764251709, -6.240900039672852, -5.996600151062012, -3.8385000228881836, -6.032599925994873, -7.276899814605713, -5.045599937438965, -4.220200061798096, -6.646900177001953, -4.941500186920166, -6.297800064086914, -5.146999835968018, -4.874599933624268, -5.450300216674805, -6.212699890136719, -5.706399917602539, -5.2718000411987305, -6.506199836730957, -4.232500076293945, -5.44350004196167, -4.294300079345703, -5.453800201416016, -5.890200138092041, -5.017499923706055, -4.54610013961792, -6.1020002365112305, -5.9994001388549805, -5.620699882507324, -4.696899890899658, -4.939599990844727, -4.94379997253418, -5.773099899291992, -4.967100143432617, -5.149799823760986, -4.986199855804443, -4.900100231170654, -5.704500198364258, -5.621099948883057, -4.882599830627441, -5.253600120544434, -5.341599941253662, -5.611000061035156, -5.565400123596191, -5.439899921417236, -5.2403998374938965, -5.3445000648498535, -5.462900161743164, -5.573699951171875, -5.64900016784668, -6.260200023651123, -6.638500213623047, -6.850500106811523, -6.877500057220459, -6.788700103759766, -7.107699871063232, -7.118599891662598, -7.1230998039245605, -7.1579999923706055, -7.162600040435791, -7.170400142669678, -7.15910005569458, -7.210400104522705, -7.2210001945495605, -7.247000217437744, -7.2519001960754395, -7.270100116729736, -7.280300140380859, -7.301499843597412, -7.309500217437744, -7.313300132751465, -7.340400218963623, -7.366000175476074, -7.376500129699707, -7.3796000480651855, -7.161499977111816, -7.428299903869629, -7.164400100708008, -7.443900108337402, -7.259900093078613, -6.668300151824951, -6.200799942016602, -6.601900100708008, -6.065700054168701, -6.736599922180176, -6.526100158691406, -5.368199825286865, -5.894700050354004, -6.321199893951416, -6.0553998947143555, -6.879700183868408, -6.688899993896484, -6.806700229644775, -6.899499893188477, -5.643499851226807, -6.809100151062012, -6.123499870300293, -6.458099842071533, -6.351900100708008, -5.861199855804443, -5.253799915313721, -4.502399921417236, -6.771399974822998, -5.312600135803223, -5.248000144958496, -6.2133002281188965, -4.3520002365112305, -4.44379997253418, -5.115799903869629, -5.059199810028076, -4.80019998550415, -5.0991997718811035, -5.343599796295166, -6.122499942779541, -5.774700164794922, -4.987500190734863, -5.032199859619141, -4.895599842071533, -5.139400005340576, -4.945099830627441, -5.088699817657471, -5.0543999671936035, -5.5665998458862305, -5.400599956512451, -5.565700054168701, -5.492400169372559, -5.283699989318848, -5.638700008392334, -5.454699993133545, -5.455699920654297, -5.61299991607666, -5.508500099182129, -5.728300094604492, -5.711599826812744, -5.773399829864502, -5.911600112915039, -6.095300197601318, -6.113500118255615, -6.150599956512451, -6.214900016784668, -6.26170015335083, -6.360199928283691, -6.526899814605713, -6.576700210571289, -6.814000129699707, -7.004700183868408, -7.027200222015381, -7.131800174713135, -7.197299957275391, -7.307300090789795, -7.334099769592285, -7.337800025939941, -7.359099864959717, -7.3815999031066895, -7.391499996185303, -7.420899868011475, -7.446100234985352, -5.559100151062012, -7.460599899291992, -7.462699890136719, -7.475299835205078, -6.042300224304199, -6.807199954986572, -4.668399810791016, -5.444499969482422, -6.385300159454346, -6.582600116729736, -6.619800090789795, -6.327000141143799, -6.626299858093262, -5.619699954986572, -5.601900100708008, -4.884900093078613, -5.389400005340576, -6.244200229644775, -5.539899826049805, -5.8917999267578125, -5.813499927520752, -5.800099849700928, -4.36460018157959, -5.472899913787842, -4.48829984664917, -3.9609999656677246, -5.406899929046631, -5.76039981842041, -5.837800025939941, -4.756800174713135, -5.366099834442139, -5.07889986038208, -4.961100101470947, -5.35699987411499, -5.097099781036377, -5.525599956512451, -5.1768999099731445, -5.415900230407715, -5.296899795532227, -5.356800079345703, -5.421999931335449, -5.5065999031066895, -5.546599864959717, -5.605500221252441, -5.642899990081787, -5.154799938201904, -6.294300079345703, -6.4217000007629395, -6.670599937438965, -6.711400032043457, -6.819799900054932, -6.854499816894531, -6.873000144958496, -7.022600173950195, -7.0904998779296875, -7.112500190734863, -7.137499809265137, -7.160600185394287, -7.172999858856201, -7.178199768066406, -7.192599773406982, -7.2017998695373535, -7.2032999992370605, -7.222300052642822, -7.270699977874756, -7.2957000732421875, -7.296199798583984, -6.021599769592285, -7.33650016784668, -7.348199844360352, -5.955999851226807, -7.398099899291992, -7.433499813079834, -7.45419979095459, -7.4653000831604, -6.450900077819824, -6.64870023727417, -6.382699966430664, -6.137599945068359, -6.716100215911865, -5.438199996948242, -5.878900051116943, -6.549499988555908, -5.519999980926514, -6.563000202178955, -6.415200233459473, -6.9309000968933105, -5.811200141906738, -6.860499858856201, -6.73769998550415, -5.947700023651123, -5.439700126647949, -5.619999885559082, -4.946700096130371, -6.604700088500977, -6.738900184631348, -4.684500217437744, -6.172399997711182, -4.862100124359131, -5.004499912261963, -6.3379998207092285, -5.101099967956543, -4.807300090789795, -5.176499843597412, -5.3815999031066895, -4.796000003814697, -4.8618998527526855, -4.984899997711182, -5.842700004577637, -5.750899791717529, -5.469099998474121, -5.638800144195557, -5.672399997711182, -5.850100040435791, -5.6778998374938965, -5.642499923706055, -5.626999855041504, -5.639900207519531, -5.768700122833252, -5.786300182342529, -5.779200077056885, -5.9045000076293945, -6.344900131225586, -6.466400146484375, -6.656799793243408, -6.752799987792969, -6.894199848175049, -6.908299922943115, -6.938199996948242, -6.957099914550781, -7.011499881744385, -7.014800071716309, -7.043399810791016, -7.058199882507324, -7.065400123596191, -7.140200138092041, -7.1458001136779785, -7.218100070953369, -7.275599956512451, -7.286200046539307, -7.316100120544434, -7.324100017547607, -7.334199905395508, -7.357100009918213, -7.360199928283691, -7.374199867248535, -7.383299827575684, -7.394999980926514, -7.410699844360352, -7.426700115203857, -7.442699909210205, -6.211599826812744, -6.38700008392334, -6.6880998611450195, -6.541200160980225, -6.515500068664551, -7.184899806976318, -6.0441999435424805, -6.797800064086914, -5.291600227355957, -6.765600204467773, -6.463799953460693, -6.978499889373779, -6.569699764251709, -5.521999835968018, -6.281899929046631, -6.446800231933594, -5.9770002365112305, -6.724899768829346, -4.447400093078613, -6.531599998474121, -6.298799991607666, -6.65749979019165, -6.7692999839782715, -6.275000095367432, -5.8267998695373535, -4.899400234222412, -5.768700122833252, -5.512899875640869, -6.333499908447266, -5.629799842834473, -6.520899772644043, -5.738999843597412, -4.433700084686279, -4.966100215911865, -5.721399784088135, -5.246799945831299, -5.758900165557861, -5.415500164031982, -5.603899955749512, -5.269400119781494, -5.120299816131592, -5.28849983215332, -4.96150016784668, -5.157800197601318, -5.142499923706055, -5.297699928283691, -5.462399959564209, -5.473499774932861, -5.545300006866455, -5.458700180053711, -5.482900142669678, -5.429599761962891, -5.471199989318848, -5.60699987411499, -5.614699840545654, -5.675099849700928, -5.624800205230713, -5.699999809265137, -5.735199928283691, -5.953000068664551, -5.973700046539307, -6.0, -6.017600059509277, -6.180799961090088, -6.611000061035156, -6.756400108337402, -6.869800090789795, -6.937099933624268, -6.94290018081665, -7.011899948120117, -7.0553998947143555, -7.048099994659424, -7.062300205230713, -7.067500114440918, -7.088799953460693, -7.128699779510498, -7.144999980926514, -7.1641998291015625, -7.187600135803223, -7.192200183868408, -7.23199987411499, -7.294099807739258, -7.309100151062012, -7.311299800872803, -7.339099884033203, -6.460999965667725, -7.367800235748291, -7.368299961090088, -6.646399974822998, -7.353000164031982, -6.984799861907959, -7.0879998207092285, -5.779699802398682, -6.470600128173828, -6.649600028991699, -7.018799781799316, -6.280300140380859, -5.956600189208984, -6.396999835968018, -6.498300075531006, -6.340700149536133, -6.491300106048584, -5.8983001708984375, -6.240099906921387, -6.864099979400635, -5.706099987030029, -5.5630998611450195, -6.2652997970581055, -6.269100189208984, -4.589799880981445, -6.2316999435424805, -4.640600204467773, -6.617800235748291, -5.15749979019165, -6.1753997802734375, -5.370699882507324, -4.806300163269043, -5.347899913787842, -4.94379997253418, -5.9344000816345215, -4.895999908447266, -5.2220001220703125, -5.484899997711182, -5.292500019073486, -5.0903000831604, -5.479800224304199, -5.615499973297119, -5.389800071716309, -5.205900192260742, -5.047699928283691, -5.749499797821045, -5.029300212860107, -5.229700088500977, -5.6255998611450195, -5.660099983215332, -5.601600170135498, -5.6743998527526855, -5.8317999839782715, -5.759799957275391, -5.750100135803223, -4.857800006866455, -6.273499965667725, -6.3902997970581055, -6.772500038146973, -6.832300186157227, -6.8979997634887695, -6.919300079345703, -6.96999979019165, -6.979499816894531, -7.054100036621094, -7.058599948883057, -7.063899993896484, -7.094600200653076, -5.212200164794922, -7.130199909210205, -7.136099815368652, -7.17110013961792, -6.966100215911865, -7.2677001953125, -7.28439998626709, -7.31220006942749, -7.323599815368652, -7.324100017547607, -7.340199947357178, -7.3531999588012695, -7.371399879455566, -7.373499870300293, -7.4131999015808105, -7.422299861907959, -7.434000015258789, -6.325500011444092, -6.187699794769287, -6.079899787902832, -6.320300102233887, -6.346099853515625, -5.677299976348877, -6.623300075531006, -6.016499996185303, -5.511499881744385, -6.898799896240234, -6.3653998374938965, -6.158899784088135, -5.712699890136719, -5.54010009765625, -5.967700004577637, -5.582300186157227, -5.5106000900268555, -5.8755998611450195, -6.281000137329102, -4.683700084686279, -6.113999843597412, -6.413099765777588, -6.343200206756592, -5.770699977874756, -5.948500156402588, -5.9375, -4.8246002197265625, -5.000899791717529, -4.980599880218506, -5.731900215148926, -4.817800045013428, -4.92609977722168, -5.662899971008301, -4.968900203704834, -4.8703999519348145, -5.291600227355957, -5.236700057983398, -5.67609977722168, -5.479000091552734, -5.268899917602539, -5.498199939727783, -5.520500183105469, -5.428800106048584, -5.553400039672852, -5.471799850463867, -5.593100070953369, -5.538599967956543, -5.560999870300293, -5.656199932098389, -5.659900188446045, -5.665599822998047], \"loglift\": [30.0, 29.0, 28.0, 27.0, 26.0, 25.0, 24.0, 23.0, 22.0, 21.0, 20.0, 19.0, 18.0, 17.0, 16.0, 15.0, 14.0, 13.0, 12.0, 11.0, 10.0, 9.0, 8.0, 7.0, 6.0, 5.0, 4.0, 3.0, 2.0, 1.0, 2.27, 2.2584, 2.2584, 2.2568, 2.2567, 2.2539, 2.2535, 2.2531, 2.2521, 2.2503, 2.2492, 2.2481, 2.2479, 2.2461, 2.2457, 2.2449, 2.2438, 2.2438, 2.2435, 2.2433, 2.2422, 2.2419, 2.2414, 2.2402, 2.2397, 2.2386, 2.2384, 2.2345, 2.2344, 2.2342, 2.2208, 2.2338, 2.2217, 2.2018, 2.2218, 2.1129, 2.1081, 2.1641, 2.1411, 2.1999, 2.0958, 2.1978, 2.1329, 2.1581, 2.1208, 2.0982, 1.9317, 2.0249, 1.9338, 1.8143, 1.9387, 1.7513, 2.0266, 1.787, 1.7888, 1.7485, 1.8107, 1.8394, 1.9641, 1.9573, 1.5956, 1.5803, 1.6291, 1.1382, 1.7498, 1.4815, 1.1101, 0.8281, 1.438, 0.5079, 1.4471, 1.3727, 1.2324, 1.0083, 1.337, 1.4276, 1.0461, 0.099, 0.6353, 0.1955, 0.8717, -0.2123, 0.046, 0.1636, 0.4248, -0.0372, 0.3968, 0.4328, 0.9253, 0.1073, 0.2621, 0.741, 0.8911, 2.511, 2.4964, 2.4933, 2.4879, 2.4868, 2.4834, 2.482, 2.4811, 2.4809, 2.4804, 2.48, 2.4742, 2.4715, 2.4706, 2.4705, 2.4701, 2.47, 2.4684, 2.4653, 2.4653, 2.459, 2.4556, 2.4524, 2.4517, 2.4508, 2.45, 2.4486, 2.4461, 2.4442, 2.4407, 2.4329, 2.4152, 2.4193, 2.3667, 2.3085, 2.3795, 2.3013, 2.233, 2.3713, 2.4131, 2.0525, 2.3831, 2.2822, 2.0735, 2.0145, 2.1356, 2.2112, 1.9676, 2.0626, 2.1526, 2.2747, 2.1291, 1.6371, 2.1947, 1.4546, 2.0745, 2.1134, 1.4999, 2.1419, 1.2056, 1.2031, 0.9278, 1.014, 1.7063, 0.7495, 1.168, 1.3657, 1.4911, 1.3965, 0.8719, 0.9572, 1.0625, 0.617, 0.7843, 0.4088, 1.0107, -0.0327, 0.3433, 0.2746, 0.0447, 0.7223, 0.7589, 2.5974, 2.5944, 2.5935, 2.5875, 2.5858, 2.5802, 2.5795, 2.5778, 2.5762, 2.567, 2.5669, 2.5642, 2.563, 2.5615, 2.5597, 2.5594, 2.5567, 2.5531, 2.5521, 2.5504, 2.55, 2.5488, 2.5476, 2.5472, 2.5457, 2.5351, 2.531, 2.5096, 2.4897, 2.4884, 2.4877, 2.4805, 2.4463, 2.4362, 2.3853, 2.4104, 2.435, 2.3462, 1.9849, 2.0942, 2.1984, 1.8949, 2.3598, 1.3714, 1.8532, 1.7723, 1.9868, 2.2943, 2.2289, 1.1491, 2.2234, 1.9993, 1.6017, 1.848, 0.8677, 1.0011, 1.9358, 1.8634, 1.1031, 1.3405, 1.2474, 1.0476, 1.329, 0.4313, 1.1173, 0.7344, 1.3105, 0.4812, 1.1057, 0.4387, 0.1577, 0.5406, 0.5827, 0.8767, 0.9821, 0.6704, 0.6865, 0.7875, 0.2781, 0.8656, 0.7835, 0.2261, 0.3544, 0.5478, 0.4615, 2.7292, 2.7285, 2.7261, 2.7158, 2.7149, 2.7139, 2.7133, 2.7102, 2.7087, 2.7071, 2.7071, 2.7058, 2.7045, 2.7037, 2.703, 2.7013, 2.7003, 2.7001, 2.6997, 2.6996, 2.6984, 2.6982, 2.6979, 2.6968, 2.6966, 2.6963, 2.696, 2.6954, 2.6948, 2.6942, 2.6718, 2.6765, 2.6249, 2.6767, 2.4976, 2.6311, 2.6467, 2.501, 2.6196, 2.4656, 2.3361, 2.4995, 2.1504, 2.2322, 2.3361, 2.4621, 2.1494, 2.4686, 2.3826, 2.5096, 2.3264, 1.9452, 1.8479, 1.6868, 1.647, 1.757, 1.5444, 1.6641, 1.5303, 2.2557, 1.6288, 1.7385, 1.2692, 2.1507, 1.1905, 1.8943, 1.8736, 2.0365, 0.7314, 1.2499, 0.2228, 0.1473, 1.327, 0.4939, 0.4256, -0.368, -0.5035, -0.1712, -0.5931, 0.5403, -0.1288, -0.1197, 0.1282, 0.5288, 0.6672, 2.822, 2.8171, 2.8113, 2.8107, 2.8065, 2.8025, 2.7958, 2.7915, 2.7911, 2.7898, 2.7873, 2.785, 2.785, 2.7841, 2.7838, 2.783, 2.7818, 2.7811, 2.7785, 2.778, 2.7765, 2.7762, 2.7761, 2.7732, 2.7685, 2.767, 2.7489, 2.7389, 2.738, 2.7348, 2.7297, 2.7078, 2.7096, 2.7011, 2.7119, 2.6222, 2.7307, 2.5879, 2.6133, 2.6028, 2.6533, 2.6897, 2.6935, 2.5296, 2.3378, 2.479, 2.6321, 2.628, 2.2276, 2.0798, 2.2403, 2.0231, 2.313, 2.0323, 1.9743, 2.3634, 1.9247, 1.9947, 1.6246, 2.078, 1.448, 1.836, 1.7326, 1.8264, 1.4466, 0.5635, 1.6396, 1.0757, 0.3251, 1.167, 0.3805, 0.643, 0.4436, 1.1451, 1.0277, 0.3748, 1.0452, 0.2607, 2.8406, 2.8362, 2.8357, 2.8243, 2.8225, 2.821, 2.8175, 2.8173, 2.8167, 2.8166, 2.8161, 2.8157, 2.8153, 2.8131, 2.8116, 2.8109, 2.8085, 2.8074, 2.8062, 2.8062, 2.806, 2.806, 2.8042, 2.8039, 2.8031, 2.8027, 2.8013, 2.8012, 2.801, 2.8004, 2.7867, 2.7901, 2.7728, 2.7689, 2.7503, 2.6947, 2.6629, 2.5697, 2.5769, 2.4852, 2.5608, 2.5237, 2.6311, 1.9175, 2.3989, 2.597, 2.1632, 2.5095, 1.922, 2.599, 2.0467, 1.2269, 2.2351, 1.1767, 1.7338, 1.0105, 1.0088, 1.3431, 1.7432, 0.8515, 1.7826, 1.2591, 1.3942, 1.4238, 1.2504, 1.2071, 1.6148, 0.5341, 0.9113, -0.1063, 0.2822, 0.6876, 0.5775, 0.1347, -0.1787, 0.9709, 0.1019, 0.9623, 1.0326, -0.1142, 0.0419, 0.5896, 0.4397, -0.2811, -0.0156, 0.6565, 0.3711, 0.0469, 0.3117, -0.7958, 2.8963, 2.8874, 2.8871, 2.8845, 2.8826, 2.8791, 2.8782, 2.8778, 2.8774, 2.8771, 2.8725, 2.8705, 2.8703, 2.8688, 2.8686, 2.8684, 2.8657, 2.8654, 2.8644, 2.8638, 2.8636, 2.8628, 2.8612, 2.8612, 2.8599, 2.8599, 2.8592, 2.8591, 2.8589, 2.8577, 2.8463, 2.841, 2.8328, 2.7235, 2.7308, 2.7975, 2.4192, 2.5986, 2.2849, 2.7544, 2.7064, 2.1621, 2.2699, 1.9341, 2.0376, 2.6815, 2.1535, 2.6677, 1.9985, 2.4291, 1.975, 1.1518, 1.9002, 1.381, 1.986, 2.2026, 1.1099, 1.9241, 1.5824, 1.5439, 1.5551, 0.7592, 0.9361, 0.6787, 1.103, 0.3581, 1.1117, 0.6784, 1.4912, 1.3388, 0.8959, 0.0122, 0.3337, 0.692, 0.722, 0.605, -0.3545, 0.1435, 0.779, 0.4821, 0.2535, 2.9834, 2.9814, 2.978, 2.9754, 2.9745, 2.9744, 2.9694, 2.9693, 2.9688, 2.9671, 2.9668, 2.9657, 2.9652, 2.9649, 2.9642, 2.964, 2.9638, 2.9637, 2.9634, 2.9633, 2.9631, 2.9626, 2.9621, 2.9616, 2.96, 2.9596, 2.9588, 2.9584, 2.9583, 2.9571, 2.9566, 2.9503, 2.9214, 2.8928, 2.8938, 2.7125, 2.8836, 2.8728, 2.8976, 2.4148, 2.8821, 2.8596, 2.043, 2.8595, 2.8151, 2.804, 2.8221, 2.6849, 2.5451, 1.7067, 2.6634, 1.6447, 1.9984, 1.7937, 0.9563, 1.8563, 0.9446, 1.8846, 2.0012, 1.0449, 0.1336, 2.4756, 1.9301, 0.6584, 1.3587, 1.1261, -0.097, 1.1285, 0.4198, 1.2753, 1.0528, 0.3883, 0.6182, -0.0843, 0.4104, 0.3185, 0.4521, 1.1558, 0.4113, 0.5493, 0.1565, 0.0601, -0.2644, 0.7959, -0.2652, 0.4696, -0.5985, 2.9926, 2.9869, 2.9798, 2.977, 2.976, 2.973, 2.9727, 2.9711, 2.9693, 2.9688, 2.967, 2.9639, 2.9639, 2.963, 2.9629, 2.9585, 2.958, 2.9575, 2.957, 2.9567, 2.9563, 2.9557, 2.9547, 2.9547, 2.9543, 2.9534, 2.9533, 2.9528, 2.9524, 2.9517, 2.9246, 2.931, 2.8852, 2.8432, 2.8613, 2.9302, 2.9357, 2.8437, 2.7728, 2.9064, 2.8306, 2.7329, 2.8163, 2.7072, 2.834, 2.3282, 2.7932, 2.5913, 2.5867, 2.693, 2.2677, 2.4456, 2.3743, 1.9395, 2.6496, 1.8325, 2.2591, 2.0508, 2.4662, 1.7375, 2.1407, 2.5045, 2.4455, 1.9702, 1.7121, 2.1925, 2.2496, 1.6322, 0.321, 1.053, 1.1941, 1.8348, 0.3934, -0.0231, -0.33, -0.2848, 1.0707, -0.0428, 0.3409, 0.2773, 0.7689, 0.6768, 0.801, -0.7712, 0.7951, 0.6318, 0.2195, 0.3775, -0.2765, 3.0591, 3.0582, 3.0572, 3.055, 3.0547, 3.0533, 3.0527, 3.0485, 3.0474, 3.047, 3.0468, 3.0454, 3.0453, 3.0446, 3.0431, 3.0417, 3.0415, 3.0407, 3.0394, 3.0388, 3.037, 3.0358, 3.0342, 3.0328, 3.0327, 3.0311, 3.031, 3.0309, 3.0305, 3.0304, 3.0204, 2.9964, 2.9271, 3.0105, 2.8967, 2.951, 2.747, 2.9539, 2.9352, 2.6667, 2.9814, 2.8988, 2.6085, 1.8963, 2.8002, 2.9174, 2.342, 1.9113, 1.8352, 2.3656, 2.2893, 0.8487, 1.0767, 1.1932, 1.3112, 0.9844, 0.4767, 1.2595, 1.8441, 1.9642, 0.8699, 0.4379, 1.3463, 0.5967, 0.5519, 0.6583, 0.9554, 0.8438, 1.2746, 1.7614, -0.2615, 0.2601, -0.2737, -0.0556, 0.8433, -0.2329, -0.9847, -0.4267, 0.0297, 3.0918, 3.0891, 3.0882, 3.0854, 3.0792, 3.0781, 3.0768, 3.0768, 3.0764, 3.0756, 3.0752, 3.074, 3.072, 3.0713, 3.071, 3.0692, 3.0685, 3.0684, 3.0668, 3.0654, 3.0637, 3.0637, 3.0636, 3.0616, 3.0615, 3.0608, 3.0603, 3.0578, 3.0558, 3.0555, 3.0374, 3.0247, 2.976, 2.9988, 3.0165, 3.0316, 2.9298, 2.896, 2.8674, 2.8978, 2.9313, 2.8864, 2.5573, 2.8826, 2.2952, 2.7461, 1.6904, 2.7789, 1.0876, 2.5482, 0.6229, 2.3555, 1.1985, 1.325, 0.0887, 0.5744, 2.1052, -0.2487, 0.852, -0.0093, 0.035, 0.1315, 0.8422, 0.5555, 0.9563, 1.288, 0.7241, 0.2376, 0.6787, 0.5312, 0.3864, 0.283, 0.7517, 0.3438, 0.08, 0.1277, 0.2774, 3.1354, 3.1346, 3.1294, 3.1289, 3.1231, 3.1187, 3.1179, 3.1153, 3.1147, 3.1142, 3.1136, 3.1128, 3.1122, 3.1119, 3.1117, 3.111, 3.1096, 3.1085, 3.1077, 3.1075, 3.1057, 3.1052, 3.1034, 3.1023, 3.1022, 3.102, 3.1015, 3.1006, 3.1, 3.0993, 3.0502, 3.0751, 3.0824, 3.059, 3.0198, 2.899, 2.8257, 2.7255, 2.8511, 2.8912, 2.7712, 2.2682, 2.9597, 2.5721, 2.2689, 2.6742, 2.2308, 2.3573, 2.1994, 1.9816, 2.6943, 1.1377, 1.6083, 1.6245, 2.2174, 1.1464, 0.4249, 1.4602, 1.0353, 1.3557, 0.1814, 0.5396, 1.0526, 1.2617, 0.7414, 0.4531, 1.0329, 0.5915, 0.8422, 0.38, 0.1036, -0.1498, -0.5485, 0.1845, -0.2526, 0.2771, -0.2484, 0.3249, 3.2948, 3.2903, 3.2897, 3.2888, 3.2881, 3.2854, 3.2813, 3.2812, 3.2799, 3.2795, 3.279, 3.2739, 3.2731, 3.2721, 3.2701, 3.2699, 3.2692, 3.2689, 3.2659, 3.2644, 3.2644, 3.2643, 3.2639, 3.2634, 3.2629, 3.2621, 3.262, 3.2618, 3.2614, 3.261, 3.2586, 3.156, 3.2263, 3.12, 3.2386, 3.1347, 3.095, 3.1977, 3.1581, 3.1586, 3.1345, 3.1388, 2.6643, 3.1519, 2.9983, 3.1952, 2.7109, 2.1558, 2.7122, 1.5252, 2.2403, 2.302, 0.7403, 1.6686, 2.6681, 1.1295, 2.226, 1.1013, 1.9271, 0.1829, 1.816, 2.4654, 1.7897, 0.2456, 2.3168, 1.1409, 1.1582, 1.6884, 0.0591, 1.0122, 0.4588, 0.0464, 0.9403, -0.2362, 0.4307, -0.2132, -0.3364, -0.9915, 0.703, 0.3421, 3.3195, 3.31, 3.3094, 3.3061, 3.305, 3.305, 3.303, 3.3028, 3.3028, 3.3017, 3.299, 3.2988, 3.2981, 3.2953, 3.2949, 3.2945, 3.293, 3.2921, 3.2881, 3.287, 3.2866, 3.2853, 3.2848, 3.2846, 3.2841, 3.2841, 3.2812, 3.2808, 3.28, 3.2798, 3.2627, 3.1832, 3.1341, 3.0806, 2.7512, 3.0185, 3.2489, 2.7324, 2.5355, 3.0917, 2.6512, 2.9883, 2.5528, 2.4409, 2.6017, 2.8946, 2.6607, 2.4528, 2.9808, 1.7546, 2.3741, 1.6831, 2.193, 2.5003, 1.7951, 1.3058, 2.5984, 2.3861, 1.9531, 0.8463, 1.0625, 0.9834, 2.0723, 0.9449, 1.1439, 0.7586, 0.4354, 1.8931, 1.6391, -0.1783, 0.4726, 0.7037, 1.3947, 1.1629, 0.5601, -0.6855, -0.17, 0.4746, 0.4485, 3.343, 3.336, 3.3289, 3.3236, 3.3229, 3.3207, 3.3155, 3.3152, 3.3141, 3.3137, 3.3135, 3.3132, 3.3131, 3.3117, 3.3113, 3.3102, 3.31, 3.3093, 3.3089, 3.308, 3.3076, 3.3075, 3.3063, 3.3051, 3.3046, 3.3045, 3.3032, 3.3022, 3.3018, 3.3015, 3.2989, 3.2453, 3.2044, 3.238, 3.1826, 3.2154, 3.1804, 2.9832, 3.0713, 3.1275, 3.0763, 3.216, 3.1594, 3.1894, 3.2104, 2.6886, 3.1507, 2.813, 2.9545, 2.8083, 2.3616, 1.8822, 1.0298, 3.0059, 1.5138, 1.4406, 2.4192, 0.2029, 0.1863, 0.9664, 0.8784, 0.5107, 0.8306, 1.1803, 2.2946, 1.7488, 0.5129, 0.4612, 0.1959, 0.5949, 0.0956, 0.3099, 0.1589, 1.0425, 0.5124, 0.7429, 0.3184, -0.5794, 0.9251, -0.2802, -0.3302, 0.4147, 3.3698, 3.368, 3.3677, 3.3675, 3.3661, 3.3638, 3.3635, 3.363, 3.3621, 3.3613, 3.3597, 3.3565, 3.3555, 3.3497, 3.3439, 3.3432, 3.3395, 3.3369, 3.3323, 3.3311, 3.331, 3.33, 3.3289, 3.3285, 3.3271, 3.3258, 3.3252, 3.3251, 3.325, 3.3243, 3.3015, 3.3132, 3.2615, 3.2537, 3.2904, 3.2814, 3.2746, 3.2484, 3.2575, 3.1336, 3.1147, 2.9748, 3.03, 3.1261, 2.8458, 2.9016, 2.8625, 2.7715, 1.789, 2.4725, 1.3226, 0.669, 1.9581, 2.3948, 2.4955, 0.7436, 1.4908, 0.8588, 0.0796, 0.9655, 0.0774, 1.1824, -0.622, 0.497, -0.2054, 0.0418, 0.0713, 0.3441, -0.2357, 0.244, 0.6301, 3.3892, 3.3778, 3.3755, 3.3701, 3.3691, 3.3662, 3.3653, 3.3647, 3.36, 3.3576, 3.3568, 3.3558, 3.3549, 3.3544, 3.3542, 3.3537, 3.3533, 3.3532, 3.3525, 3.3504, 3.3493, 3.3493, 3.3489, 3.3475, 3.3469, 3.3449, 3.3445, 3.3428, 3.3417, 3.3412, 3.3183, 3.3124, 3.2714, 3.2244, 3.2772, 3.1307, 3.1625, 3.251, 3.0976, 3.2344, 3.2023, 3.2968, 3.0264, 3.269, 3.2193, 2.9414, 2.7518, 2.7308, 2.3282, 3.1271, 3.1265, 1.2275, 2.5919, 1.1379, 1.1492, 2.716, 0.9766, 0.3672, 0.5682, 0.912, -0.2411, -0.1575, 0.0559, 1.7184, 1.3198, 0.5179, 0.3834, 0.1795, 0.916, 0.0484, -0.3316, -0.5016, -1.0099, 0.1612, 0.1911, 0.0316, 3.3838, 3.3755, 3.3753, 3.3711, 3.3687, 3.3647, 3.3638, 3.3634, 3.3628, 3.361, 3.3609, 3.3599, 3.3594, 3.3591, 3.3564, 3.3561, 3.3533, 3.3508, 3.3504, 3.349, 3.3487, 3.3482, 3.3471, 3.347, 3.3463, 3.3455, 3.3453, 3.3441, 3.3438, 3.3429, 3.321, 3.2872, 3.2934, 3.2747, 3.2324, 3.3125, 3.0933, 3.2362, 2.8631, 3.2091, 3.129, 3.2584, 3.132, 2.8006, 3.0377, 3.0861, 2.9152, 3.1537, 1.8463, 3.0346, 2.871, 3.0973, 3.1711, 2.7741, 2.3753, 1.4571, 2.2634, 1.746, 2.708, 1.8712, 2.9209, 1.9464, 0.1963, 0.7237, 1.7999, 1.0261, 1.827, 1.1937, 1.5081, 0.6426, 0.093, 0.4472, -0.4066, -0.0324, -0.1018, 0.2028, 0.6524, 0.5718, 0.6305, 0.2676, 0.328, -0.1187, -0.0726, -0.0638, -0.1214, 0.5399, -0.9205, 0.2774, 3.3978, 3.3963, 3.3961, 3.3957, 3.3955, 3.3932, 3.3851, 3.3815, 3.3783, 3.3762, 3.3759, 3.3737, 3.3722, 3.3721, 3.372, 3.3718, 3.371, 3.3695, 3.3689, 3.3681, 3.3672, 3.367, 3.3654, 3.3627, 3.362, 3.3619, 3.3606, 3.36, 3.3592, 3.3592, 3.3542, 3.3587, 3.3423, 3.338, 3.1819, 3.2667, 3.2841, 3.3287, 3.2225, 3.117, 3.2022, 3.2215, 3.1794, 3.2059, 3.0259, 3.1119, 3.2974, 2.8542, 2.7165, 3.022, 2.9469, 1.9272, 2.9083, 1.8655, 3.1396, 1.9155, 2.7622, 1.9267, 1.1057, 1.737, 1.0562, 2.4246, 0.8946, 1.2967, 1.6, 1.2423, 0.7592, 1.4042, 1.5484, 1.0197, 0.5297, -0.0069, 1.7718, -0.4745, -0.5254, 0.3119, 0.5158, -0.3883, 0.3126, 1.7569, 0.5627, -0.3515, 3.4308, 3.4178, 3.4157, 3.4068, 3.4051, 3.4031, 3.4024, 3.4007, 3.4005, 3.3978, 3.3977, 3.3975, 3.3963, 3.3959, 3.3949, 3.3947, 3.3933, 3.3915, 3.3892, 3.3884, 3.3871, 3.3866, 3.3866, 3.3858, 3.3852, 3.3843, 3.3842, 3.3822, 3.3817, 3.3811, 3.3143, 3.2732, 3.2276, 3.2537, 3.2273, 3.1026, 3.2654, 3.09, 2.9559, 3.2803, 3.138, 3.0723, 2.8942, 2.7862, 2.926, 2.7561, 2.4678, 2.6723, 2.8675, 1.6409, 2.6597, 2.8723, 2.778, 2.0958, 2.3016, 2.2384, 0.7186, 0.929, 0.8713, 1.9247, 0.4931, 0.6062, 1.7145, 0.2056, -0.3155, 0.6858, 0.2637, 1.4997, 0.794, -0.2282, 0.6194, 0.6827, 0.0645, 0.6224, -0.1362, 0.6219, 0.197, -0.8566, 0.4216, -0.5684, 0.3364]}, \"token.table\": {\"Topic\": [20, 2, 14, 16, 4, 4, 6, 8, 11, 13, 17, 18, 20, 2, 1, 4, 6, 7, 8, 14, 15, 17, 3, 2, 3, 5, 6, 7, 15, 18, 2, 6, 7, 15, 20, 4, 20, 2, 3, 4, 6, 15, 16, 18, 7, 3, 6, 7, 2, 3, 6, 13, 15, 20, 3, 5, 7, 2, 12, 1, 1, 4, 6, 1, 2, 3, 4, 5, 6, 7, 8, 9, 10, 11, 12, 14, 15, 16, 17, 18, 19, 20, 1, 2, 3, 4, 6, 7, 8, 9, 10, 11, 12, 14, 15, 16, 17, 18, 19, 20, 1, 2, 3, 4, 5, 6, 7, 8, 9, 10, 11, 12, 13, 14, 15, 16, 17, 18, 19, 20, 10, 1, 5, 8, 13, 5, 13, 1, 3, 4, 7, 11, 12, 13, 16, 17, 1, 4, 5, 8, 9, 10, 11, 12, 15, 17, 20, 3, 1, 16, 5, 6, 13, 14, 20, 1, 2, 4, 5, 6, 7, 8, 10, 11, 12, 13, 17, 18, 19, 20, 2, 5, 8, 10, 11, 12, 13, 16, 6, 16, 17, 3, 4, 6, 17, 19, 2, 17, 19, 11, 20, 14, 2, 3, 4, 7, 9, 2, 3, 4, 7, 9, 12, 1, 5, 6, 8, 11, 12, 14, 16, 17, 18, 19, 20, 1, 2, 3, 4, 5, 6, 7, 8, 10, 11, 12, 13, 14, 16, 17, 19, 14, 1, 7, 11, 12, 14, 17, 7, 20, 1, 3, 4, 5, 6, 7, 9, 11, 13, 15, 17, 3, 13, 14, 3, 3, 5, 13, 3, 1, 1, 4, 5, 6, 8, 10, 12, 14, 18, 13, 4, 20, 1, 2, 3, 6, 8, 11, 12, 13, 14, 15, 16, 17, 18, 20, 2, 14, 18, 13, 18, 11, 20, 6, 18, 1, 2, 3, 4, 5, 6, 7, 8, 9, 10, 11, 12, 13, 14, 15, 16, 17, 18, 19, 20, 18, 19, 10, 3, 11, 1, 2, 5, 6, 7, 10, 12, 13, 14, 16, 17, 4, 10, 12, 13, 10, 1, 2, 3, 7, 16, 20, 4, 6, 13, 20, 2, 3, 4, 6, 8, 9, 10, 14, 15, 16, 20, 6, 3, 2, 3, 4, 6, 7, 10, 14, 17, 18, 20, 2, 3, 4, 7, 16, 17, 18, 2, 20, 7, 15, 3, 13, 7, 1, 4, 5, 6, 8, 13, 14, 18, 19, 19, 14, 10, 14, 13, 17, 15, 16, 20, 16, 7, 3, 7, 11, 13, 1, 2, 4, 5, 6, 9, 10, 13, 18, 19, 20, 12, 18, 17, 11, 14, 20, 4, 6, 8, 13, 1, 2, 3, 5, 6, 7, 8, 10, 11, 12, 13, 14, 15, 16, 17, 19, 20, 1, 5, 10, 16, 17, 14, 8, 12, 5, 13, 17, 11, 14, 19, 17, 16, 6, 8, 11, 17, 18, 1, 2, 9, 11, 16, 5, 8, 3, 7, 18, 5, 8, 11, 18, 20, 2, 7, 10, 6, 1, 2, 3, 4, 5, 6, 7, 8, 9, 10, 11, 12, 13, 14, 15, 17, 18, 20, 11, 18, 9, 15, 18, 6, 17, 9, 2, 8, 2, 4, 6, 9, 13, 16, 18, 1, 2, 4, 6, 8, 9, 10, 11, 13, 15, 18, 19, 20, 4, 4, 8, 10, 15, 2, 12, 17, 1, 12, 17, 19, 4, 11, 4, 1, 2, 3, 4, 5, 6, 7, 8, 9, 10, 11, 12, 13, 14, 15, 8, 19, 8, 1, 4, 5, 6, 7, 11, 12, 13, 18, 19, 1, 3, 14, 17, 19, 7, 12, 4, 10, 18, 19, 4, 6, 8, 10, 14, 1, 4, 5, 8, 11, 13, 14, 15, 16, 18, 19, 16, 6, 8, 11, 12, 14, 18, 19, 19, 5, 8, 12, 18, 19, 16, 7, 18, 14, 2, 3, 4, 5, 6, 7, 9, 12, 13, 15, 16, 18, 19, 20, 7, 10, 11, 17, 18, 18, 3, 4, 6, 18, 2, 2, 3, 5, 7, 10, 19, 20, 11, 1, 2, 3, 4, 6, 8, 9, 10, 11, 12, 14, 15, 16, 18, 19, 20, 3, 8, 15, 16, 17, 4, 15, 7, 1, 2, 3, 4, 5, 6, 9, 10, 13, 15, 16, 18, 19, 20, 2, 4, 6, 7, 8, 9, 10, 11, 12, 13, 14, 16, 17, 18, 19, 7, 2, 4, 9, 13, 20, 9, 10, 5, 8, 13, 17, 1, 2, 3, 4, 5, 6, 7, 8, 9, 10, 11, 12, 13, 14, 15, 16, 17, 18, 19, 20, 2, 3, 4, 5, 6, 7, 8, 9, 10, 11, 12, 14, 15, 16, 17, 18, 19, 20, 19, 20, 3, 17, 1, 8, 11, 13, 17, 18, 1, 2, 3, 4, 5, 6, 7, 8, 9, 10, 11, 12, 13, 14, 15, 16, 17, 18, 19, 20, 2, 3, 4, 6, 7, 15, 17, 20, 1, 2, 3, 4, 5, 6, 7, 8, 9, 10, 11, 12, 13, 14, 15, 16, 17, 18, 19, 20, 7, 14, 7, 5, 10, 3, 7, 8, 10, 11, 12, 13, 14, 18, 19, 10, 15, 1, 2, 4, 5, 6, 7, 8, 9, 10, 11, 12, 13, 16, 19, 20, 1, 4, 5, 9, 10, 11, 12, 13, 14, 9, 1, 3, 4, 11, 13, 16, 17, 19, 13, 18, 18, 16, 11, 12, 16, 1, 16, 16, 2, 5, 10, 14, 19, 14, 13, 19, 8, 16, 17, 18, 16, 9, 2, 1, 6, 10, 12, 16, 17, 18, 13, 1, 2, 3, 4, 6, 7, 8, 12, 14, 17, 1, 11, 12, 6, 11, 7, 2, 3, 4, 5, 6, 7, 8, 9, 10, 11, 12, 13, 14, 16, 17, 18, 19, 20, 4, 7, 11, 12, 17, 18, 15, 6, 10, 4, 6, 7, 8, 2, 4, 5, 6, 8, 9, 10, 11, 15, 19, 20, 5, 9, 10, 13, 18, 4, 12, 11, 2, 5, 6, 9, 10, 15, 1, 3, 5, 8, 9, 11, 12, 14, 17, 19, 20, 1, 8, 12, 13, 4, 5, 17, 18, 2, 3, 5, 7, 9, 10, 12, 13, 14, 15, 17, 18, 20, 5, 7, 15, 19, 5, 1, 11, 12, 15, 6, 16, 20, 8, 13, 18, 19, 12, 4, 19, 16, 17, 2, 18, 19, 4, 6, 9, 10, 16, 17, 18, 19, 2, 3, 4, 5, 6, 14, 17, 20, 18, 20, 2, 3, 6, 10, 14, 16, 20, 3, 7, 11, 12, 13, 14, 15, 19, 20, 1, 16, 18, 1, 2, 4, 5, 9, 10, 11, 12, 13, 14, 15, 16, 17, 18, 19, 4, 9, 11, 15, 1, 2, 3, 4, 5, 6, 7, 8, 9, 10, 11, 12, 13, 14, 16, 17, 18, 19, 20, 1, 2, 3, 4, 5, 6, 7, 8, 9, 10, 11, 12, 13, 14, 15, 16, 17, 18, 19, 20, 1, 2, 4, 6, 9, 10, 14, 18, 20, 2, 18, 2, 15, 2, 16, 6, 19, 2, 4, 9, 1, 2, 3, 4, 5, 6, 7, 8, 9, 12, 14, 17, 18, 19, 20, 1, 4, 6, 7, 8, 9, 10, 11, 13, 15, 16, 17, 20, 1, 9, 6, 9, 2, 3, 6, 1, 12, 13, 16, 17, 1, 13, 12, 19, 4, 5, 9, 19, 19, 10, 8, 9, 13, 1, 5, 12, 13, 14, 18, 19, 20, 7, 11, 12, 18, 19, 13, 18, 20, 10, 12, 11, 15, 10, 10, 8, 1, 2, 3, 4, 5, 6, 7, 8, 9, 10, 11, 12, 13, 14, 16, 17, 18, 19, 20, 4, 6, 9, 18, 1, 2, 4, 5, 6, 7, 8, 9, 10, 11, 12, 13, 14, 15, 16, 17, 18, 20, 6, 14, 1, 2, 3, 4, 6, 8, 11, 13, 17, 19, 15, 2, 6, 7, 15, 18, 19, 7, 18, 20, 17, 18, 17, 18, 15, 1, 11, 12, 13, 18, 20, 1, 2, 3, 4, 6, 7, 8, 10, 14, 15, 18, 19, 20, 1, 2, 3, 4, 6, 7, 8, 9, 10, 11, 12, 13, 14, 15, 16, 18, 19, 20, 11, 19, 7, 13, 14, 17, 15, 6, 12, 2, 3, 9, 2, 3, 7, 14, 1, 2, 3, 4, 6, 7, 8, 9, 10, 12, 14, 15, 17, 18, 20, 1, 2, 3, 4, 6, 7, 8, 9, 10, 11, 12, 14, 15, 16, 17, 18, 20, 12, 11, 1, 2, 3, 4, 6, 7, 8, 9, 11, 13, 14, 15, 19, 1, 3, 6, 7, 9, 15, 17, 18, 20, 3, 6, 15, 5, 13, 13, 15, 4, 5, 6, 7, 8, 9, 11, 13, 20, 1, 3, 5, 15, 16, 17, 18, 2, 3, 4, 5, 7, 9, 10, 13, 15, 18, 20, 17, 4, 18, 20, 17, 10, 10, 14, 17, 8, 8, 19, 18, 18, 12, 15, 5, 9, 20, 2, 11, 15, 1, 3, 5, 6, 7, 8, 10, 11, 12, 13, 14, 15, 16, 17, 18, 1, 3, 4, 5, 6, 7, 8, 9, 11, 13, 18, 20, 13, 10, 15, 10, 16, 2, 6, 15, 14, 2, 1, 4, 14, 1, 2, 3, 4, 5, 6, 7, 8, 10, 11, 12, 13, 14, 15, 16, 18, 19, 20, 6, 5, 17, 1, 2, 3, 4, 5, 6, 7, 8, 9, 11, 13, 14, 15, 16, 17, 18, 20, 11, 17, 6, 13, 14, 20, 20, 5, 6, 10, 18, 19, 18, 1, 2, 3, 4, 6, 7, 8, 9, 14, 17, 20, 1, 19, 18, 8, 4, 9, 15, 3, 11, 9, 1, 2, 3, 4, 5, 6, 7, 8, 9, 10, 11, 12, 13, 14, 15, 16, 17, 18, 19, 20, 1, 2, 3, 4, 5, 6, 7, 8, 9, 10, 11, 12, 13, 14, 17, 18, 19, 20, 1, 2, 3, 6, 8, 9, 11, 12, 13, 14, 3, 3, 4, 5, 7, 20, 3, 5, 7, 1, 4, 5, 7, 8, 9, 11, 12, 13, 16, 17, 19, 20, 7, 12, 15, 1, 8, 10, 12, 13, 14, 16, 19, 1, 4, 8, 14, 16, 20, 1, 1, 3, 4, 6, 7, 8, 9, 10, 11, 13, 15, 16, 4, 1, 2, 3, 4, 5, 6, 7, 8, 9, 10, 11, 12, 13, 14, 15, 16, 17, 18, 19, 20, 6, 1, 2, 3, 4, 5, 6, 7, 8, 9, 10, 11, 12, 13, 14, 15, 16, 17, 18, 19, 20, 7, 1, 4, 7, 11, 12, 16, 18, 4, 1, 2, 4, 5, 7, 8, 9, 10, 11, 12, 13, 14, 19, 20, 8, 10, 2, 3, 4, 5, 6, 7, 8, 9, 10, 12, 13, 14, 15, 16, 17, 18, 19, 20, 7, 12, 13, 2, 10, 12, 14, 17, 18, 4, 10, 19, 7, 18, 1, 1, 5, 1, 4, 5, 7, 9, 10, 11, 12, 13, 17, 18, 19, 20, 3, 5, 11, 12, 13, 14, 16, 19, 18, 18, 1, 2, 3, 4, 5, 6, 7, 8, 9, 10, 11, 12, 15, 18, 4, 6, 2, 3, 6, 7, 16, 17, 1, 3, 15, 16, 17, 3, 4, 16, 17, 18, 19, 7, 3, 4, 4, 7, 9, 12, 14, 15, 18, 19, 19, 20, 1, 2, 4, 5, 6, 7, 8, 9, 11, 13, 16, 17, 18, 1, 3, 4, 6, 7, 8, 14, 17, 18, 1, 5, 6, 9, 12, 19, 2, 4, 6, 7, 9, 12, 15, 16, 17, 18, 19, 20, 12, 8, 12, 19, 8, 1, 2, 6, 8, 9, 13, 16, 8, 8, 19, 14, 17, 10, 19, 9, 20, 20, 1, 11, 13, 17, 1, 3, 6, 8, 12, 14, 16, 19, 2, 4, 10, 12, 20, 4, 1, 2, 4, 5, 6, 7, 9, 10, 11, 12, 13, 15, 16, 17, 18, 19, 20, 9, 2, 3, 4, 5, 6, 7, 8, 9, 10, 11, 12, 13, 14, 15, 16, 17, 18, 19, 20, 5, 15, 3, 4, 5, 7, 11, 12, 13, 14, 15, 16, 18, 19, 20, 15, 4, 7, 9, 12, 13, 16, 17, 18, 19, 20, 2, 5, 14, 16, 6, 8, 18, 19, 13, 10, 11, 14, 15, 20, 1, 14, 1, 13, 14, 1, 11, 14, 15, 1, 2, 3, 4, 5, 9, 10, 11, 14, 1, 2, 4, 8, 14, 15, 16, 16, 9, 15, 1, 2, 3, 4, 5, 6, 7, 8, 9, 10, 11, 13, 15, 17, 18, 19, 20, 1, 2, 4, 5, 6, 7, 8, 9, 10, 12, 13, 18, 19, 20, 20, 19, 1, 2, 3, 4, 5, 6, 7, 9, 10, 11, 12, 14, 15, 16, 18, 19, 20, 11, 14, 1, 2, 3, 4, 5, 6, 7, 8, 9, 10, 11, 12, 13, 14, 15, 16, 17, 18, 19, 20, 20, 1, 2, 4, 10, 11, 16, 19, 20, 12, 16, 19, 1, 2, 3, 5, 7, 9, 10, 12, 14, 17, 18, 15, 4, 5, 6, 10, 2, 7, 9, 2, 4, 6, 9, 15, 1, 11, 14, 18, 20, 3, 4, 9, 11, 12, 14, 19, 1, 2, 3, 4, 5, 7, 8, 10, 11, 12, 13, 14, 16, 17, 18, 19, 20, 1, 3, 5, 7, 10, 12, 13, 14, 17, 18, 19, 20, 7, 3, 12, 1, 2, 3, 4, 5, 6, 7, 8, 9, 10, 11, 12, 13, 14, 15, 16, 17, 18, 19, 20, 2, 17, 18, 1, 2, 4, 6, 10, 12, 15, 16, 18, 6, 8, 1, 2, 3, 4, 5, 6, 7, 8, 9, 10, 15, 16, 17, 18, 19, 20, 15, 7, 9, 8, 1, 2, 3, 4, 5, 7, 9, 10, 11, 14, 15, 16, 18, 20, 2, 4, 9, 10, 11, 7, 14, 2, 1, 2, 3, 4, 5, 6, 7, 8, 9, 10, 11, 12, 13, 15, 16, 17, 18, 19, 20, 2, 6, 11, 1, 2, 3, 5, 7, 8, 9, 10, 11, 12, 13, 14, 15, 16, 17, 19, 20, 1, 10, 1, 2, 3, 4, 5, 6, 7, 9, 10, 12, 13, 14, 15, 16, 17, 18, 19, 20, 18, 3, 3, 7, 9, 15, 19, 2, 8, 17, 2, 5, 1, 4, 9, 18, 1, 2, 3, 4, 5, 6, 7, 8, 11, 12, 13, 15, 16, 17, 18, 19, 6, 10, 8, 9, 8, 1, 5, 13, 16, 2, 1, 2, 3, 4, 5, 6, 7, 8, 9, 10, 11, 12, 13, 14, 15, 16, 17, 18, 19, 20, 1, 4, 12, 1, 6, 11, 16, 17, 2, 20, 1, 2, 4, 6, 9, 15, 1, 4, 13, 1, 2, 4, 6, 9, 10, 11, 2, 1, 2, 3, 4, 5, 6, 9, 10, 11, 12, 14, 15, 19, 2, 3, 1, 2, 4, 5, 6, 9, 10, 11, 13, 18, 20, 4, 19, 20, 1, 6, 7, 9, 11, 12, 16, 17, 1, 2, 3, 4, 5, 6, 7, 8, 9, 10, 11, 12, 13, 14, 15, 16, 17, 18, 19, 20, 1, 2, 3, 5, 6, 7, 10, 11, 13, 14, 16, 17, 18, 8, 11, 4, 1, 4, 5, 8, 9, 10, 11, 12, 13, 19, 20, 3, 18, 1, 2, 3, 4, 5, 6, 7, 8, 9, 10, 11, 12, 13, 14, 15, 16, 17, 18, 20, 20, 15, 16, 1, 2, 3, 4, 5, 6, 8, 10, 15, 16, 18, 20, 1, 2, 3, 5, 6, 8, 14, 15, 16, 18, 19, 20, 2, 1, 5, 6, 15, 1, 7, 12, 13, 17, 1, 2, 4, 7, 11, 12, 17, 12, 17, 4, 12, 7, 3, 5, 20, 1, 2, 7, 14, 15, 16, 17, 3, 8, 1, 1, 17, 17, 1, 17, 1, 2, 4, 6, 8, 9, 11, 12, 13, 14, 17, 19, 20, 15, 17, 18, 20, 2, 19, 10, 14, 8, 16, 12, 14, 16, 17, 11, 4, 8, 12, 14, 10, 4, 10, 11, 13, 3, 11, 11, 14, 1, 3, 6, 13, 16, 17, 1, 2, 3, 6, 13, 15, 16, 17, 17, 10, 1, 19, 12, 19, 16, 5, 14, 18, 9, 11, 12, 4, 5, 13, 19, 1, 2, 5, 9, 11, 12, 15, 16, 18, 16, 1, 8, 10, 12, 15, 5, 1, 2, 3, 4, 5, 6, 7, 8, 9, 10, 11, 12, 13, 15, 16, 17, 18, 19, 20, 20, 16, 17, 15, 4, 8, 17, 19, 3, 2, 3, 5, 6, 9, 10, 11, 15, 16, 17, 18, 15, 16, 2, 3, 5, 7, 14, 15, 16, 17, 18, 20, 15, 9, 20, 10, 15, 12, 19, 4, 11, 17, 19, 5, 2, 5, 10, 15, 20, 10, 8, 20, 16, 17, 18, 5, 9, 9, 2, 3, 4, 5, 6, 8, 9, 10, 11, 13, 16, 18, 19, 20, 2, 4, 5, 13, 17, 2, 4, 6, 8, 9, 10, 17, 19, 4, 4, 17, 1, 2, 3, 4, 5, 6, 7, 8, 9, 10, 11, 12, 13, 14, 15, 16, 17, 18, 19, 20, 10, 3, 4, 6, 8, 18, 20, 19, 16, 14, 17, 1, 9, 15, 15, 4, 11, 17, 14, 15, 11, 7, 13, 14, 1, 6, 7, 8, 9, 10, 11, 12, 13, 14, 17, 18, 19, 20, 7, 13, 17, 7, 20, 8, 10, 8, 5, 17, 5, 6, 1, 2, 3, 4, 5, 6, 7, 8, 9, 10, 11, 12, 13, 14, 15, 16, 17, 18, 19, 20, 9, 2, 3, 4, 6, 14, 17, 19, 2, 1, 2, 3, 4, 5, 6, 7, 8, 9, 10, 11, 12, 14, 15, 16, 17, 18, 20, 4, 5, 13, 12, 10, 2, 5, 13, 3, 6, 20, 1, 2, 3, 4, 5, 7, 8, 9, 10, 11, 12, 14, 16, 18, 19, 2, 9, 15, 4, 11, 12, 14, 6, 4, 8, 11, 12, 13, 14, 12, 2, 3, 13, 17, 5, 15, 1, 2, 3, 4, 5, 6, 7, 8, 9, 10, 11, 12, 13, 14, 15, 16, 17, 18, 19, 20, 1, 2, 3, 5, 6, 7, 8, 9, 10, 11, 12, 13, 14, 17, 18, 19, 20, 1, 7, 8, 11, 12, 18, 20, 7, 12, 9, 10, 18, 3, 9, 13, 16, 20, 20, 19, 10, 3, 4, 5, 7, 9, 13, 14, 19, 13, 15, 1, 2, 3, 4, 5, 6, 7, 8, 9, 10, 11, 12, 13, 14, 15, 16, 17, 18, 19, 20, 3, 11, 2, 3, 12, 8, 6, 17, 19, 14, 1, 8, 19, 5, 16, 14, 6, 1, 3, 4, 5, 6, 7, 8, 9, 10, 12, 13, 14, 15, 17, 18, 19, 15, 16, 20, 10, 15, 3, 1, 2, 3, 7, 8, 10, 11, 12, 13, 15, 16, 18, 6, 1, 4, 6, 7, 8, 9, 10, 11, 12, 13, 16, 17, 18, 19, 20, 12, 12, 1, 2, 3, 5, 6, 7, 8, 10, 15, 16, 17, 18, 8, 11, 12, 18, 19, 14, 17, 13, 4, 13, 19, 8, 20, 1, 2, 3, 4, 5, 6, 7, 9, 11, 12, 13, 16, 17, 18, 19, 20, 8, 4, 5, 20, 5, 5, 3, 5, 1, 2, 3, 4, 5, 6, 7, 8, 9, 10, 11, 12, 13, 14, 15, 16, 17, 18, 19, 20, 3, 11, 1, 2, 3, 4, 5, 6, 7, 8, 9, 12, 15, 17, 18, 11, 13, 6, 15, 2, 4, 5, 9, 1, 2, 3, 4, 5, 6, 7, 8, 9, 10, 11, 12, 13, 15, 16, 17, 18, 19, 20, 1, 2, 4, 9, 20, 2, 3, 9, 13, 15, 20, 10, 5, 13, 2, 19, 8, 19, 3, 4, 5, 6, 10, 11, 12, 13, 19, 20, 14, 1, 4, 5, 6, 8, 9, 10, 11, 12, 13, 19, 1, 2, 3, 4, 5, 6, 7, 8, 9, 10, 11, 12, 13, 14, 15, 16, 17, 18, 19, 20, 2, 9, 20, 1, 5, 9, 1, 4, 6, 7, 8, 9, 10, 11, 13, 17, 19, 4, 8, 9, 10, 18, 1, 2, 3, 5, 6, 7, 8, 9, 10, 12, 13, 14, 16, 17, 18, 19, 20, 11, 16, 17, 16, 8, 1, 9, 8, 15, 1, 3, 4, 5, 6, 7, 8, 11, 12, 13, 20, 1, 13, 1, 13, 14, 5, 8, 3, 4, 7, 7, 1, 4, 5, 7, 8, 9, 10, 11, 12, 14, 16, 18, 19, 12, 7, 10, 5, 17, 19, 1, 2, 3, 4, 5, 6, 7, 8, 9, 10, 12, 13, 14, 15, 18, 19, 20, 9, 4, 8, 9, 10, 11, 13, 18, 9, 3, 6, 8, 13, 19, 6, 8, 3, 8, 1, 3, 8, 11, 12, 13, 14, 17, 2, 4, 6, 9, 15, 1, 2, 3, 4, 5, 6, 7, 8, 9, 10, 11, 12, 13, 14, 15, 16, 17, 18, 19, 1, 4, 9, 10, 11, 17, 16, 11, 8, 17, 14, 11, 13, 3, 14, 17, 18, 5, 8, 9, 2, 3, 4, 5, 6, 7, 8, 10, 13, 14, 15, 17, 19, 3, 13, 8, 9, 1, 4, 8, 10, 11, 12, 13, 14, 15, 16, 17, 18, 19, 8, 12, 19, 2, 3, 9, 15, 16, 20, 17, 7, 16, 17, 1, 2, 3, 4, 6, 7, 9, 11, 12, 13, 14, 15, 17, 6, 15, 20, 1, 5, 12, 1, 5, 10, 12, 1, 8, 11, 13, 14, 16, 19, 1, 2, 4, 7, 8, 11, 12, 17, 5, 10, 19, 6, 14, 10, 15, 16, 1, 2, 3, 4, 5, 6, 7, 8, 9, 10, 11, 12, 13, 14, 15, 16, 17, 18, 19, 20, 1, 3, 7, 8, 10, 11, 12, 13, 14, 15, 17, 18, 19, 20, 1, 3, 4, 6, 7, 8, 10, 11, 12, 13, 14, 15, 16, 17, 18, 20, 1, 2, 3, 4, 5, 6, 7, 8, 9, 10, 11, 12, 15, 16, 17, 18, 20, 11, 13, 13, 8, 15, 15, 18, 10, 9, 1, 2, 4, 6, 7, 8, 9, 10, 11, 12, 13, 14, 15, 16, 17, 18, 19, 20, 1, 2, 3, 5, 6, 8, 11, 12, 14, 15, 16, 17, 18, 19, 20, 9, 1, 2, 5, 6, 15, 19, 15, 7, 3, 13, 1, 2, 3, 4, 5, 6, 7, 8, 9, 10, 11, 12, 13, 14, 15, 16, 17, 18, 19, 20, 2, 3, 4, 6, 9, 10, 13, 16, 20, 1, 2, 3, 7, 9, 11, 14, 16, 17, 18, 20, 1, 2, 4, 8, 10, 11, 12, 14, 15, 17, 1, 2, 3, 4, 5, 6, 7, 8, 9, 10, 11, 12, 13, 14, 15, 16, 17, 18, 19, 20, 7, 3, 19, 9, 1, 1, 2, 3, 4, 5, 6, 7, 8, 9, 10, 11, 12, 13, 14, 15, 16, 17, 18, 19, 20, 13, 1, 14, 1, 4, 6, 8, 9, 10, 11, 17, 18, 19, 16, 13, 10, 20, 1, 2, 3, 6, 7, 9, 11, 12, 14, 15, 17, 10, 11, 12, 16, 1, 4, 5, 6, 8, 9, 11, 12, 13, 16, 18, 19, 20, 19, 1, 5, 10, 11, 1, 7, 15, 16, 20, 17, 3, 5, 12, 14, 18, 4, 15, 16, 8, 13, 1, 8, 8, 1, 2, 3, 4, 5, 6, 7, 8, 9, 10, 11, 12, 13, 14, 15, 16, 17, 18, 19, 20, 3, 6, 8, 12, 1, 16, 10, 19, 14, 4, 7, 4, 2, 6, 8, 18, 9, 1, 13, 4, 19, 13, 6, 13, 9, 12, 1, 2, 3, 4, 5, 6, 7, 8, 9, 10, 11, 12, 13, 14, 15, 16, 17, 18, 19, 1, 2, 3, 4, 5, 6, 7, 8, 9, 10, 11, 12, 13, 14, 15, 16, 17, 18, 19, 20, 12, 1, 3, 4, 6, 7, 8, 10, 11, 12, 13, 17, 18, 20, 2, 3, 4, 5, 7, 8, 9, 10, 15, 17, 19, 11, 10, 12, 12, 19, 1, 2, 3, 4, 5, 6, 7, 8, 9, 10, 11, 12, 13, 14, 15, 16, 17, 18, 19, 20, 1, 2, 4, 6, 7, 9, 11, 12, 13, 15, 16, 17, 19, 20, 1, 2, 3, 6, 7, 8, 11, 14, 15, 18, 20, 8, 10, 18, 19, 18, 19, 4, 9, 18, 7, 4, 7, 8, 15, 18, 3, 13, 7, 10, 12, 18, 8, 13, 6, 9, 14, 18, 9, 19, 4, 19, 5, 8, 15, 16, 19, 6, 8, 16, 20, 4, 20, 11, 2, 3, 4, 5, 7, 11, 12, 16, 18, 19, 4, 19, 17, 1, 4, 7, 8, 9, 10, 11, 12, 13, 14, 15, 16, 17, 18, 19, 20, 4, 6, 7, 8, 10, 11, 12, 14, 15, 16, 17, 18, 19, 20, 7, 10, 11, 12, 13, 14, 17, 18, 19, 6, 8, 13, 16, 11, 13, 17, 10, 12, 19, 8, 2, 5, 6, 14, 15, 16, 1, 14, 17, 1, 14, 17, 20, 6, 20, 2, 7, 2, 16, 10, 5, 5, 20, 2, 4, 6, 20, 20, 15, 17, 4, 2, 8, 9, 15, 8, 19, 9, 4, 1, 2, 3, 4, 5, 6, 7, 8, 9, 10, 11, 12, 13, 14, 15, 16, 17, 18, 19, 20, 1, 2, 3, 4, 5, 6, 7, 8, 9, 10, 11, 12, 13, 14, 15, 16, 17, 18, 19, 20, 1, 12, 1, 2, 4, 5, 8, 11, 12, 14, 18, 20, 2, 3, 7, 9, 20, 3, 4, 9, 13, 14, 1, 11, 14, 1, 2, 3, 4, 6, 7, 8, 9, 10, 11, 12, 13, 14, 15, 16, 17, 18, 19, 20, 17, 1, 2, 3, 4, 6, 7, 8, 9, 10, 12, 13, 14, 15, 17, 18, 19, 20, 2, 5, 7, 8, 10, 13, 18, 20, 14, 16, 11, 17, 3, 5, 7, 1, 2, 3, 4, 5, 6, 7, 8, 9, 10, 11, 12, 13, 14, 15, 16, 17, 18, 19, 20, 3, 4, 11, 14, 18, 5, 7, 1, 2, 3, 4, 5, 6, 7, 17, 8, 19, 20, 1, 12, 13, 15, 1, 2, 3, 4, 5, 6, 7, 8, 9, 10, 11, 12, 13, 14, 15, 16, 17, 18, 19, 20, 2, 3, 4, 5, 6, 7, 9, 10, 13, 14, 15, 16, 18, 2, 4, 7, 10, 20, 1, 3, 4, 5, 7, 8, 9, 11, 13, 15, 16, 17, 2, 3, 6, 7, 8, 9, 12, 13, 14, 15, 16, 17, 19, 20, 5, 1, 2, 4, 5, 6, 7, 8, 9, 10, 11, 13, 14, 15, 16, 18, 19, 20, 1, 2, 6, 10, 12, 1, 2, 7, 8, 9, 14, 6, 20, 20, 8, 11, 12, 13, 14, 15, 14, 16, 12, 13, 2, 1, 2, 7, 8, 13, 15, 17, 18, 7, 1, 2, 3, 4, 6, 8, 9, 10, 11, 12, 14, 17, 18, 19, 20, 1, 2, 3, 4, 6, 8, 9, 11, 12, 14, 16, 18, 3, 5, 6, 8, 18, 5, 7, 5, 18, 19, 1, 7, 1, 3, 6, 7, 8, 11, 17, 11, 5, 17, 20, 19, 18, 5, 6, 7, 6, 4, 4, 17, 4, 4, 6, 11, 19, 8, 10, 11, 20, 16, 5, 15, 20, 6, 12, 1, 5, 8, 10, 11, 12, 15, 16, 17, 6, 1, 4, 6, 9, 10, 12, 15, 1, 2, 4, 5, 8, 9, 10, 11, 12, 13, 19, 20, 1, 2, 5, 8, 11, 12, 13, 14, 16, 17, 18, 19, 2, 5, 8, 12, 13, 14, 16, 17, 18, 19, 20, 7, 1, 2, 3, 4, 5, 6, 7, 8, 9, 10, 11, 12, 14, 15, 16, 17, 18, 19, 20, 3, 6, 18, 1, 2, 3, 5, 6, 7, 8, 9, 12, 13, 14, 15, 16, 17, 18, 19, 20, 1, 16, 17, 1, 17, 1, 2, 3, 4, 5, 6, 7, 8, 9, 16, 2, 3, 4, 5, 6, 7, 9, 14, 15, 16, 20, 1, 5, 1, 2, 11, 3, 1, 16, 1, 6, 7, 8, 10, 11, 12, 14, 15, 17, 18, 19, 1, 1, 11, 11, 19, 1, 2, 3, 4, 5, 6, 8, 9, 13, 14, 15, 17, 18, 19, 20, 3, 7, 1, 2, 3, 4, 5, 6, 7, 8, 9, 10, 12, 13, 14, 15, 16, 18, 19, 3, 9, 15, 20, 17, 13, 7, 16, 17, 2, 20, 12, 15, 18, 6, 11, 1, 2, 3, 4, 5, 6, 7, 8, 9, 10, 11, 12, 13, 14, 15, 16, 17, 18, 19, 20, 3, 7, 10, 20, 11, 16, 12, 2, 5, 6, 8, 9, 11, 14, 15, 18, 19, 20, 2, 3, 4, 5, 6, 7, 9, 10, 12, 13, 14, 15, 16, 18, 20, 1, 2, 3, 4, 6, 7, 8, 9, 12, 13, 14, 15, 16, 17, 18, 19, 20, 1, 3, 8, 10, 11, 12, 15, 16, 1, 3, 6, 14, 15, 16, 5, 6, 11, 12, 14, 16, 18, 20, 16, 3, 8, 15, 17, 18, 20, 14, 2, 3, 4, 6, 7, 8, 9, 14, 15, 17, 6, 20, 17, 6, 11, 15, 4, 10, 17, 17, 1, 7, 15, 18, 1, 3, 4, 7, 8, 9, 11, 12, 13, 14, 16, 17, 19, 3, 2, 3, 5, 6, 7, 8, 9, 10, 12, 14, 15, 17, 18, 19, 20, 2, 10, 14, 16, 18, 13, 11, 1, 5, 1, 2, 3, 5, 8, 11, 12, 14, 17, 18, 1, 3, 4, 8, 17, 1, 4, 5, 6, 7, 9, 12, 14, 20, 3, 5, 6, 7, 8, 10, 11, 15, 16, 17, 20, 6, 1, 3, 4, 6, 7, 8, 9, 14, 17, 2, 3, 5, 6, 10, 13, 18, 20, 20, 1, 4, 9, 11, 12, 13, 1, 16, 19, 1, 2, 4, 6, 8, 9, 11, 14, 18, 19, 6, 17, 3, 16, 19, 1, 2, 3, 4, 5, 6, 7, 8, 9, 10, 11, 12, 13, 14, 15, 16, 17, 18, 19, 20, 1, 2, 3, 4, 5, 6, 7, 8, 9, 10, 11, 12, 13, 14, 15, 16, 17, 18, 19, 20, 1, 5, 8, 17, 13, 13, 16, 20, 1, 2, 3, 4, 5, 6, 7, 8, 9, 10, 11, 12, 13, 14, 15, 16, 17, 18, 19, 20, 3, 6, 12, 1, 2, 3, 4, 5, 6, 7, 8, 9, 10, 11, 12, 13, 14, 15, 16, 17, 18, 19, 20, 1, 2, 3, 4, 5, 6, 8, 9, 10, 11, 12, 13, 15, 16, 17, 18, 19, 20, 5, 7, 18, 10, 12, 15, 20, 17, 6, 15, 17, 12, 5, 1, 2, 4, 5, 6, 8, 9, 10, 11, 13, 14, 17, 18, 19, 1, 1, 15, 2, 5, 15, 16, 3, 14, 18, 20, 2, 6, 16, 8, 11, 14, 15, 9, 6, 11, 13, 1, 2, 3, 4, 5, 6, 7, 8, 9, 10, 11, 12, 14, 15, 16, 17, 20, 8, 2, 3, 4, 5, 6, 7, 8, 11, 13, 15, 17, 18, 19, 20, 9, 5, 7, 8, 15, 17, 6, 14, 7, 9, 9, 4, 5, 1, 11, 16, 17, 16, 2, 15, 1, 13, 19, 3, 9, 9, 9, 16, 11, 14, 2, 3, 4, 6, 8, 11, 12, 13, 14, 15, 19, 20, 8, 1, 2, 4, 6, 9, 10, 11, 15, 19, 5, 13, 15, 2, 6, 10, 20, 1, 6, 10, 11, 14, 1, 3, 4, 6, 8, 9, 10, 11, 12, 13, 14, 15, 16, 17, 18, 19, 20, 1, 2, 3, 4, 6, 7, 8, 9, 10, 11, 12, 13, 14, 15, 16, 17, 18, 20, 3, 4, 8, 13, 15, 16, 17, 19, 7, 1, 3, 6, 13, 1, 2, 3, 5, 6, 8, 11, 12, 13, 15, 16, 17, 18, 19, 20, 13, 1, 2, 3, 4, 6, 7, 10, 13, 16, 14, 3, 4, 10, 18, 3, 8, 3, 10, 12, 13, 10, 1, 8, 11, 12, 13, 16, 8, 1, 8, 17, 18, 2, 3, 7, 15, 16, 12, 13, 4, 1, 2, 3, 4, 5, 6, 7, 8, 9, 10, 11, 12, 13, 14, 15, 16, 17, 18, 19, 20, 7, 10, 7, 2, 5, 8, 6, 8, 9, 15, 16, 12, 4, 17, 19, 20, 11, 18, 1, 2, 3, 4, 5, 6, 7, 8, 9, 10, 11, 12, 13, 14, 17, 19, 20, 11, 12, 17, 18, 4, 9, 1, 2, 3, 4, 5, 6, 11, 12, 13, 14, 19, 20, 3, 5, 7, 8, 11, 14, 16, 18, 20, 16, 16, 20, 1, 2, 4, 5, 6, 7, 8, 9, 10, 11, 12, 13, 15, 18, 19, 20, 1, 2, 4, 5, 6, 7, 9, 10, 11, 12, 15, 16, 17, 18, 19, 20, 3, 8, 9, 1, 4, 15, 19, 20, 1, 2, 4, 6, 9, 13, 18, 10, 13, 14, 19, 1, 2, 3, 4, 5, 6, 7, 8, 9, 10, 11, 12, 13, 14, 15, 16, 17, 19, 20, 1, 2, 3, 5, 6, 7, 8, 9, 10, 11, 12, 13, 14, 15, 16, 17, 18, 19, 20, 1, 2, 3, 4, 5, 6, 7, 8, 9, 10, 11, 12, 13, 14, 15, 16, 17, 18, 19, 20, 2, 14, 2, 2, 3, 15, 20, 2, 10, 2, 3, 15, 1, 6, 17, 4, 2, 3, 4, 5, 6, 7, 9, 14, 15, 16, 17, 20, 1, 2, 3, 5, 7, 10, 12, 14, 17, 20, 4, 1, 6, 8, 10, 13, 14, 17, 19, 1, 2, 3, 4, 5, 6, 7, 8, 9, 10, 11, 12, 13, 14, 15, 16, 17, 18, 19, 20, 1, 2, 3, 4, 5, 6, 7, 8, 9, 10, 11, 12, 13, 14, 15, 16, 17, 18, 19, 20, 5, 13, 5, 14, 6, 18, 2, 9, 9, 2, 9], \"Freq\": [0.9732258840413223, 0.9757061118648079, 0.0713463562347462, 0.9096660419930139, 0.9691417382501464, 0.023423217195150066, 0.05855804298787516, 0.6324268642690517, 0.035134825792725095, 0.07026965158545019, 0.08198126018302522, 0.011711608597575033, 0.07026965158545019, 0.9847471535973586, 0.01741614756809516, 0.06095651648833306, 0.6356893862354733, 0.2177018446011895, 0.06095651648833306, 0.09404825615279841, 0.8699463694133852, 0.023512064038199602, 0.9429029957456404, 0.3039578556858374, 0.22796839176437805, 0.005065964261430624, 0.07598946392145935, 0.020263857045722495, 0.34955153403871303, 0.020263857045722495, 0.05808962676056473, 0.6887770030181246, 0.2323585070422589, 0.008298518108652104, 0.008298518108652104, 0.14498912638637443, 0.8377149524546077, 0.6938525813033555, 0.08605923489033866, 0.005378702180646166, 0.161361065419385, 0.021514808722584666, 0.016136106541938502, 0.010757404361292333, 0.9506055869198863, 0.04217358292772321, 0.12652074878316966, 0.8223848670906027, 0.40044207724797587, 0.11262433422599322, 0.08759670439799472, 0.025027629827998492, 0.37124317578197763, 0.004171271637999748, 0.009295930855305865, 0.8366337769775279, 0.14873489368489384, 0.9323538130751833, 0.9870637924668354, 0.9788388763043944, 0.07974838686849707, 0.1196225803027456, 0.7775467719678464, 0.005812086121078255, 0.34616784937142087, 0.2324834448431302, 0.017203774918391635, 0.0004649668896862604, 0.05998072876952759, 0.1162417224215651, 0.018366192142607284, 0.019761092811666065, 0.03673238428521457, 0.0002324834448431302, 0.032547682278038226, 0.05509857642782186, 0.017203774918391635, 0.0013949006690587812, 0.007671953679823296, 0.003952218562333213, 0.001162417224215651, 0.028130496826018755, 0.007902930048948662, 0.05795482035895686, 0.17491818508339707, 0.11116788268854452, 0.047417580293691974, 0.11854395073422994, 0.00632234403915893, 0.025816238159898964, 0.0073760680456854185, 0.013698412084844349, 0.025816238159898964, 0.02792368617295194, 0.01633272210116057, 0.20442245726613872, 0.10589926265591208, 0.01896703211747679, 0.011064102068528127, 0.018440170114213547, 0.02575196900414485, 0.1931397675310864, 0.1536534150580643, 0.0002861329889349428, 0.008870122656983226, 0.06037406066527293, 0.16481260162652706, 0.03233302774964854, 0.0040058618450891995, 0.060087927676337985, 0.015737314391421852, 0.051790070997224644, 0.0002861329889349428, 0.08297856679113341, 0.026896500959884623, 0.004578127822959085, 0.010586920590592883, 0.031474628782843704, 0.006008792767633798, 0.06609672044397179, 0.9842908482417627, 0.9646492338371953, 0.9032630816068494, 0.016324031595304506, 0.07617881411142104, 0.8112219391628758, 0.18720506288374056, 0.009453233222209615, 0.16070496477756346, 0.05199278272215289, 0.09925894883320097, 0.09925894883320097, 0.15597834816645864, 0.3734027122772798, 0.02363308305552404, 0.028359699666628845, 0.029617951073343383, 0.10577839669051209, 0.008462271735240967, 0.10577839669051209, 0.046542494543825315, 0.4823494889087351, 0.10577839669051209, 0.05923590214668677, 0.004231135867620484, 0.03384908694096387, 0.016924543470481935, 0.9374994411035414, 0.9707016349630476, 0.01617836058271746, 0.165151234311808, 0.1278590201123675, 0.015982377514045937, 0.06392951005618375, 0.6179852638764429, 0.08644924415624461, 0.02346479484240925, 0.004939956808928263, 0.3038073437490882, 0.03828466526919404, 0.03457969766249784, 0.07409935213392395, 0.037049676066961974, 0.08644924415624461, 0.13214384463883103, 0.08150928734731634, 0.012349892022320657, 0.003704967606696197, 0.0469295896848185, 0.03334470846026578, 0.06460644466224724, 0.3570356152387347, 0.06460644466224724, 0.0068006783854997095, 0.027202713541998838, 0.10541051497524549, 0.3672366328169843, 0.0034003391927498548, 0.06061952264005082, 0.06061952264005082, 0.8688798245073951, 0.010438233573112774, 0.06262940143867664, 0.09394410215801496, 0.21920290503536824, 0.6054175472405409, 0.9116720364595218, 0.08287927604177471, 0.9484432027313351, 0.9714853999632351, 0.9523565402790005, 0.9308368361553118, 0.13243810051912935, 0.11152682148979313, 0.034852131715560355, 0.05576341074489657, 0.6621905025956467, 0.20824124223629256, 0.13882749482419504, 0.030368514492792667, 0.16919600931698772, 0.4468509989653778, 0.944903936449821, 0.40322031228901634, 0.10405685478426228, 0.027314924380868848, 0.0663362449249672, 0.06113340218575409, 0.040322031228901635, 0.03511918848968852, 0.06503553424016392, 0.09235045862103278, 0.022112081641655734, 0.07414050903378687, 0.009104974793622949, 0.3099710484708325, 0.0031220105601378815, 0.01873206336082729, 0.02096207090378292, 0.017840060343645037, 0.05441218404811737, 0.03166610710996994, 0.12800243296565314, 0.0008920030171822519, 0.04460015085911259, 0.01427204827491603, 0.019624066378009543, 0.2060526969691002, 0.027206092024058683, 0.05619619008248187, 0.04504615236770372, 0.9745023294225346, 0.6097367285413895, 0.004690282527241458, 0.002345141263620729, 0.009380565054482915, 0.31893921185241914, 0.051593107799656035, 0.9691680879484639, 0.9474802476314178, 0.08015883632223865, 0.12023825448335797, 0.08683873934909186, 0.2237767513995829, 0.03673946664769271, 0.00667990302685322, 0.03673946664769271, 0.04675932118797254, 0.34067505436951423, 0.01335980605370644, 0.00667990302685322, 0.11353526770797925, 0.8515145078098444, 0.037845089235993085, 0.9601628403369974, 0.13556353105813604, 0.03216761753921872, 0.8294649951184256, 0.9917392068179329, 0.9704165256036822, 0.08421122878559034, 0.03962881354616016, 0.059443220319240236, 0.16842245757118068, 0.0743040253990503, 0.45573135578084184, 0.00990720338654004, 0.09411843217213038, 0.014860805079810059, 0.947347072485366, 0.9769868688122127, 0.973893506174039, 0.5040489682667867, 0.07518962510057038, 0.10164523393225255, 0.002784800929650755, 0.08493642835434803, 0.030632810226158304, 0.01670880557790453, 0.025063208366856795, 0.012531604183428397, 0.04177201394476132, 0.051518817198538965, 0.03341761115580906, 0.00556960185930151, 0.01670880557790453, 0.05281260975553017, 0.8185954512107176, 0.11882837194994289, 0.9251710614164085, 0.03083903538054695, 0.9599339888451454, 0.9534599422088752, 0.9251417759440328, 0.9671708206474883, 0.15108665873012841, 0.04463924007935612, 0.17708533701810505, 0.02452705498865721, 0.019621643990925766, 0.0676946717686939, 0.07701495266438364, 0.04562032227890241, 0.0049054109977314415, 0.05052573327663385, 0.00932028089568974, 0.09025956235825854, 0.01177298639455546, 0.02354597278911092, 0.0922217267573511, 0.026489219387749785, 0.029432465986388653, 0.03580950028343952, 0.0034337876984120094, 0.01520677409296747, 0.8823381682960931, 0.10259746142977827, 0.9849917549820135, 0.04419496604420039, 0.9280942869282081, 0.04737267131995781, 0.03684541102663385, 0.04210904117329583, 0.005263630146661979, 0.0736908220532677, 0.49478123378622596, 0.015790890439985935, 0.12632712351988748, 0.04210904117329583, 0.07895445219992968, 0.03684541102663385, 0.05015443274995242, 0.8633727351956094, 0.060901811196370795, 0.02149475689283675, 0.9822571809429677, 0.9650594442489603, 0.6847854528532834, 0.1027178179279925, 0.027391418114131337, 0.0616306907567955, 0.11641352698505818, 0.8940095615239146, 0.015684378272349378, 0.031368756544698756, 0.031368756544698756, 0.6289263577304424, 0.06885088547785895, 0.00662027744979413, 0.07017494096781778, 0.0013240554899588259, 0.009268388429711782, 0.011916499409629433, 0.09930416174691195, 0.03707355371884713, 0.0013240554899588259, 0.06355466351802365, 0.9577306915114899, 0.9857013743607925, 0.012861605653540468, 0.05573362449867536, 0.26580651683983636, 0.18434968103408006, 0.06859523015221583, 0.0385848169606214, 0.025723211307080936, 0.02143600942256745, 0.004287201884513489, 0.3215401413385117, 0.037715711415397646, 0.00870362571124561, 0.18277613993615782, 0.0029012085704152035, 0.6672779711954968, 0.08993746568287131, 0.00870362571124561, 0.9042975467363108, 0.09274846633192932, 0.14836004550107051, 0.8265773963631071, 0.9702500803604647, 0.9355636244895493, 0.9664199802663329, 0.07763575174195556, 0.06129138295417544, 0.11441058151446082, 0.016344368787780117, 0.004086092196945029, 0.15118541128696608, 0.14709931909002105, 0.3595761133311626, 0.0694635673480655, 0.9909219903297919, 0.946475152655647, 0.9763276262458871, 0.9581270830524031, 0.978437600744772, 0.9797344408103656, 0.6926718890543008, 0.2894040084404955, 0.014232984021663715, 0.9537883280459096, 0.9688978084795419, 0.10122213924682077, 0.2064931640635144, 0.5789906364918148, 0.10931991038656644, 0.13169407130202038, 0.05357046968217778, 0.017856823227392595, 0.12276565968832408, 0.32811912680333893, 0.16071140904653336, 0.05803467548902593, 0.02678523484108889, 0.04017785226163334, 0.017856823227392595, 0.04017785226163334, 0.9758639809294424, 0.9587583189593654, 0.9868717316239054, 0.8158334133707007, 0.08846386410043743, 0.08846386410043743, 0.09836545071463922, 0.11475969250041242, 0.7377408803597941, 0.03278848357154641, 0.0012207161380143245, 0.08545012966100271, 0.10131943945518893, 0.07690511669490244, 0.023193606622272166, 0.03295933572638676, 0.0598150907627019, 0.09643657490313164, 0.014648593656171894, 0.2185081887045641, 0.03173861958837244, 0.05371151007263028, 0.07324296828085947, 0.03784220027844406, 0.009765729104114596, 0.04516649710653001, 0.03784220027844406, 0.07010400239599496, 0.10515600359399244, 0.6309360215639547, 0.07010400239599496, 0.11917680407319144, 0.9722033934526582, 0.2115571339036161, 0.7721835387481988, 0.058970869664003306, 0.8845630449600496, 0.029485434832001653, 0.8135699693525691, 0.07533055271783047, 0.10546277380496265, 0.9393441538970939, 0.9336044885994677, 0.07731097791369583, 0.06184878233095666, 0.07731097791369583, 0.03092439116547833, 0.7267231923887408, 0.014182242840770926, 0.007091121420385463, 0.035455607101927314, 0.16309579266886565, 0.7871144776627864, 0.932543007506129, 0.03730172030024516, 0.19634154795274925, 0.785366191810997, 0.9478278567436015, 0.9315616913954702, 0.942561840131497, 0.13943999708022878, 0.7901599834546297, 0.04647999902674292, 0.8981956145853415, 0.044909780729267074, 0.022454890364633537, 0.9503623840101825, 0.04211676690962607, 0.07393832413023244, 0.13290179780370895, 0.0589634736734765, 0.01871856307094492, 0.16191557056367356, 0.06832275520894895, 0.028077844606417383, 0.08048982120506316, 0.03743712614188984, 0.000935928153547246, 0.02620598829932289, 0.025270060145775642, 0.11418323473276401, 0.03088562906705912, 0.03743712614188984, 0.057091617366382005, 0.005615568921283476, 0.9006370009605494, 0.09237302573954354, 0.8335297608576088, 0.1041912201072011, 0.04465338004594333, 0.9708937437731849, 0.9467494069167857, 0.9773950209295232, 0.9621571123510868, 0.028508358884476646, 0.1376008845082699, 0.22548044100094647, 0.09366110626193161, 0.5110889996021453, 0.0011563099538510074, 0.030064058800126196, 0.9609068527048058, 0.12193931669891653, 0.0769155689947012, 0.135071243112646, 0.0431477582165397, 0.03564380026583714, 0.38832982394885723, 0.03751978975351278, 0.013131926413729473, 0.028139842315134583, 0.022511873852107667, 0.039395779241188415, 0.028139842315134583, 0.028139842315134583, 0.9715342289715041, 0.12313733930442827, 0.8209155953628551, 0.041045779768142755, 0.9419300899871041, 0.38641189646649615, 0.5647558486818021, 0.04755838725741491, 0.07428852038950058, 0.07428852038950058, 0.7428852038950058, 0.10524207055179248, 0.9757628705005987, 0.9639330974303348, 0.947087110840876, 0.07307431543178379, 0.029894038131184276, 0.256424415969714, 0.00398587175082457, 0.07706018718260836, 0.005978807626236855, 0.06310963605472236, 0.032551285965067324, 0.046501837092953316, 0.00398587175082457, 0.24380248875876956, 0.08038174697496217, 0.04450890121754104, 0.0013286239169415235, 0.036537157715891895, 0.9874036891924124, 0.9799732552562376, 0.9549848283955208, 0.07648088459683672, 0.03947400495320605, 0.4712209341288972, 0.08388226052556286, 0.002467125309575378, 0.12088914016919353, 0.12088914016919353, 0.004934250619150756, 0.05180963150108294, 0.022204127786178404, 0.06047506332372888, 0.08466508865322044, 0.06047506332372888, 0.09676010131796621, 0.6773207092257635, 0.9270828410629912, 0.030902761368766376, 0.2857772512098778, 0.6668135861563815, 0.005603475513919173, 0.033620853083515034, 0.039707215651065074, 0.05956082347659761, 0.039707215651065074, 0.8338515286723664, 0.9747767706380079, 0.08368850340363754, 0.008657431386583193, 0.0038477472829258636, 0.048096841036573294, 0.169300880448738, 0.1943112377877561, 0.45018643210232606, 0.01154324184877759, 0.005771620924388795, 0.017314862773166385, 0.006733557745120262, 0.9595056087870558, 0.9467461139140584, 0.3667256402990667, 0.004167336821580304, 0.09168141007476667, 0.1166854310042485, 0.2292035251869167, 0.18753015697111367, 0.9828762922334828, 0.06757931307035775, 0.011263218845059625, 0.07884253191541737, 0.21400115805613287, 0.630740255323339, 0.9878951717876556, 0.9366153254893433, 0.9665688249848263, 0.9499472340561845, 0.35926052276487996, 0.0010323578240370114, 0.11665643411618229, 0.08362098374699793, 0.03922959731340644, 0.015485367360555172, 0.05265024902588759, 0.0030970734721110344, 0.030970734721110345, 0.15898310490169976, 0.06297382726625769, 0.002064715648074023, 0.022711872128814252, 0.05161789120185057, 0.06043908249584509, 0.9267325982696247, 0.94404521675522, 0.09378504114490034, 0.8753270506857366, 0.9884537404702539, 0.9399525849287111, 0.7604718592122863, 0.20622965673553528, 0.012889353545970955, 0.9584693576143263, 0.0749277147928089, 0.004682982174550556, 0.16858735828382002, 0.10770859001466279, 0.07961069696735945, 0.056195786094606674, 0.5057620748514601, 0.98212720297378, 0.14347503053353727, 0.09381059688731283, 0.09381059688731283, 0.0487447219120351, 0.39087748703047015, 0.009197117341893414, 0.039547604570141684, 0.004598558670946707, 0.015635099481218804, 0.011956252544461438, 0.037708181101763, 0.014715387747029464, 0.007357693873514732, 0.06346010965906457, 0.00643798213932539, 0.018394234683786828, 0.7244515472137258, 0.04346709283282355, 0.04346709283282355, 0.15937934038701967, 0.014489030944274516, 0.9499960619637301, 0.9686296509473346, 0.9523404001860353, 0.001459683567224339, 0.1123956346762741, 0.001459683567224339, 0.3298884861927006, 0.10071816613847938, 0.1693232937980233, 0.11385531824349844, 0.0715244947939926, 0.005838734268897356, 0.018975886373916406, 0.014596835672243388, 0.001459683567224339, 0.0262743042100381, 0.03211303847893546, 0.015915610307610694, 0.06076869390178629, 0.04195933626551911, 0.047746830922832086, 0.17796546071237415, 0.004340620992984735, 0.1446873664328245, 0.027490599622236656, 0.08391867253103821, 0.010128115650297715, 0.07957805153805347, 0.0072343683216412255, 0.07813117787372523, 0.06076869390178629, 0.15626235574745045, 0.9446590875933696, 0.9449599392637424, 0.8029524512456883, 0.12595332568559817, 0.03148833142139954, 0.03148833142139954, 0.9504883102368048, 0.9800976505643475, 0.9748510514324145, 0.19282453480670586, 0.729978596053958, 0.05509272423048739, 0.10036674739601291, 0.09286808236067862, 0.10901905320601403, 0.06921844648000891, 0.013266868908668373, 0.11074951436801425, 0.061719781444674604, 0.08652305810001112, 0.09402172313534543, 0.06575752415600845, 0.01615097084533541, 0.015574150458002003, 0.013843689296001781, 0.012113228134001558, 0.029417839754003784, 0.03172512130333741, 0.036916504789338084, 0.01615097084533541, 0.015574150458002003, 0.009229126197334521, 0.037103229913634614, 0.012809448422564332, 0.06448894723084111, 0.004858756298214056, 0.0273857173172065, 0.21643550782953525, 0.07818180588944437, 0.053004614162335165, 0.017668204720778388, 0.033127883851459476, 0.05565484487045192, 0.19170002122044552, 0.03975346062175138, 0.0026502307081167583, 0.040636870857790296, 0.04417051180194597, 0.01590138424870055, 0.06404724211282166, 0.9671655308800442, 0.9672566185975496, 0.9783893729447409, 0.9650390357639702, 0.03258820622858049, 0.008147051557145122, 0.008147051557145122, 0.0733234640143061, 0.24441154671435367, 0.6191759183430293, 0.0584525510641564, 0.03710161923832682, 0.08785383423415123, 0.023451023480829215, 0.010850473550831428, 0.0584525510641564, 0.13860604922997566, 0.06860299406332128, 0.026601160963328662, 0.1358059270233095, 0.057052489960823315, 0.05670247468499004, 0.016100702688330505, 0.07595331485581999, 0.02450106930832903, 0.0035001527583327185, 0.059152581615822944, 0.01890082489499668, 0.018200794343330138, 0.023451023480829215, 0.12648591822544522, 0.5966835707591654, 0.05499387748932401, 0.013748469372331002, 0.1759804079658368, 0.0054993877489324, 0.0082490816233986, 0.0164981632467972, 0.09852834319086705, 0.05081221395610334, 0.29030347328325706, 0.02331169672538074, 0.03788150717874371, 0.05135858184810445, 0.17210588598035, 0.010927357840022222, 0.0020033489373374076, 0.03514966771873815, 0.014934055714697038, 0.03715301665607556, 0.04680551608142852, 0.021308347788043334, 0.04261669557608667, 0.027864762492056667, 0.0029139620906725927, 0.011837970993357408, 0.004188820505341852, 0.018212263066703704, 0.04173411040981581, 0.9181504290159479, 0.9481937052458788, 0.9177317783114811, 0.9401205618154848, 0.01838943869722783, 0.5254125342065095, 0.0893201308151066, 0.11821782019646462, 0.04728712807858585, 0.042033002736520754, 0.013135313355162735, 0.0945742561571717, 0.042033002736520754, 0.007881188013097642, 0.10857916583490217, 0.8686333266792173, 0.09402708673844512, 0.021491905540216027, 0.029551370117797036, 0.4029732288790505, 0.02417839373274303, 0.01746217325142552, 0.04701354336922256, 0.020148661443952526, 0.04835678746548606, 0.09134059854591811, 0.014775685058898518, 0.12089196866371515, 0.028208126021533535, 0.036267590599114545, 0.004029732288790505, 0.16200622773371476, 0.011937300990905297, 0.6096550148926634, 0.022169273268824122, 0.001705328712986471, 0.033253909903236185, 0.045191210894141486, 0.08952975743178973, 0.02472726633830383, 0.9574673845007425, 0.2781588246125817, 0.13907941230629084, 0.0031608957342338824, 0.07586149762161318, 0.015804478671169412, 0.40459465398193695, 0.07586149762161318, 0.006321791468467765, 0.9517588477833898, 0.9895666229054694, 0.9510672264725647, 0.9925681222570966, 0.024900609384613765, 0.08092698049999474, 0.8901967854999421, 0.06398695080791003, 0.9214120916339045, 0.9921692785519024, 0.025740062269105416, 0.5948814391082141, 0.025740062269105416, 0.2831406849601596, 0.07150017296973726, 0.9675990898852567, 0.9170893987337329, 0.062175552456524265, 0.028733891398329377, 0.20113723978830564, 0.5076320813704857, 0.2586050225849644, 0.9856417139571112, 0.9640787290416378, 0.9060904433741125, 0.07885892994076342, 0.02867597452391397, 0.1003659108336989, 0.12904188535761288, 0.1003659108336989, 0.4516465987516451, 0.1075349044646774, 0.9875786881723473, 0.06265092609926504, 0.018072382528634145, 0.5361473483494796, 0.01566273152481626, 0.048193020076357715, 0.02891581204581463, 0.03132546304963252, 0.13132597970807477, 0.050602671080175604, 0.07469918111835445, 0.007971571010701959, 0.2949481273959724, 0.6855551069203684, 0.05043280425440216, 0.9246014113307062, 0.9282560516746132, 0.06431411412893427, 0.06236520157957262, 0.07795650197446578, 0.04872281373404111, 0.009744562746808223, 0.040927163536594535, 0.17150430434382472, 0.0175402129442548, 0.015591300394893155, 0.029233688240424667, 0.06041628903021098, 0.22022711807786582, 0.05067172628340276, 0.040927163536594535, 0.005846737648084933, 0.003897825098723289, 0.08185432707318907, 0.9291146246652601, 0.12183505346592535, 0.02436701069318507, 0.10559037967046864, 0.04061168448864178, 0.6335422780228118, 0.06497869518182685, 0.9488671792995318, 0.9323442379244942, 0.05327681359568538, 0.11897558288293501, 0.7495461721624905, 0.0832829080180545, 0.047590233153174004, 0.06851340925452194, 0.054089533621991, 0.010817906724398202, 0.4435341757003262, 0.01802984454066367, 0.061301471438256476, 0.08293728488705288, 0.03966565798946007, 0.0324537201731946, 0.108179067243982, 0.07933131597892014, 0.14296614205645247, 0.05718645682258099, 0.08577968523387149, 0.17155937046774297, 0.5337402636774226, 0.9548521883267926, 0.030801683494412667, 0.9519821004558765, 0.01778685602463516, 0.738154525022359, 0.06225399608622305, 0.026680284036952735, 0.09338099412933458, 0.05336056807390547, 0.05620486038998677, 0.18360254394062345, 0.06369884177531833, 0.3672050878812469, 0.029975925541326276, 0.03372291623399206, 0.02622893484866049, 0.07868680454598147, 0.0936747673166446, 0.04121689761932363, 0.029975925541326276, 0.06524730579124745, 0.7177203637037219, 0.14680643803030674, 0.04893547934343558, 0.9941038523015254, 0.11190393712540735, 0.17584904405421153, 0.7033961762168461, 0.11271839096615113, 0.0030300642732836326, 0.06726742686689664, 0.16544150932128635, 0.009696205674507625, 0.12059655807668858, 0.026058552750239238, 0.01696835993038834, 0.1121123781114944, 0.0593892597563592, 0.08362977394262826, 0.212710511984511, 0.010908231383821076, 0.9882885019364839, 0.9595702863723307, 0.8573418622075514, 0.12247740888679305, 0.9481264054812686, 0.8560654110888876, 0.06585118546837597, 0.06585118546837597, 0.9781731883026042, 0.9741557963622779, 0.17278423023545889, 0.8145542282528777, 0.07495747516538892, 0.11243621274808338, 0.6996031015436299, 0.11243621274808338, 0.9850031345346292, 0.0579809065921831, 0.898704052178838, 0.05875026832729094, 0.9204208704608914, 0.9746101520982857, 0.02062482936258636, 0.9487421506789726, 0.4308614025792688, 0.13484975195229024, 0.0855144768477938, 0.09209251352839333, 0.08222545850749405, 0.03289018340299762, 0.12498269693139094, 0.013156073361199047, 0.1547463874988764, 0.07646292088179775, 0.05279582632314607, 0.43328988499685395, 0.07464237514651685, 0.08374510382292134, 0.06189855499955056, 0.06189855499955056, 0.7688194158361299, 0.21966269023889426, 0.6830255265224415, 0.06655120514834045, 0.12609702028106612, 0.01751347503903696, 0.042032340093688704, 0.003502695007807392, 0.059545815132725666, 0.24479021032561027, 0.029671540645528516, 0.06923359483956654, 0.03461679741978327, 0.0840693651623308, 0.4574362516185646, 0.06428833806531178, 0.007417885161382129, 0.004945256774254753, 0.940252498512452, 0.0077069876927250165, 0.03853493846362508, 0.4957494364359958, 0.008149305804427328, 0.03395544085178053, 0.0638362288013474, 0.017656829242925876, 0.0013582176340712212, 0.10050810492127038, 0.025806135047353206, 0.0013582176340712212, 0.07606018750798839, 0.005432870536284885, 0.040746529022136636, 0.038030093753994194, 0.020373264511068318, 0.06926909933763228, 0.026027743901377975, 0.16918033535895685, 0.7287768292385833, 0.06506935975344494, 0.01954009794499539, 0.1009571727158095, 0.02214544433766144, 0.1263593000443035, 0.06839034280748386, 0.14329405159663286, 0.0501529180588215, 0.01758608815049585, 0.051455591255154524, 0.16348548613979477, 0.025402127328494006, 0.008467375776164668, 0.031264156711992626, 0.04494222527348939, 0.001302673196333026, 0.024750790730327495, 0.041034205684490316, 0.020842771141328417, 0.040382869086323804, 0.10116711620027737, 0.06190134050610579, 0.04850478173985901, 0.07853155138834317, 0.07345009806321508, 0.05312428476270273, 0.02679311753249355, 0.07529789927235256, 0.07252619745864633, 0.021711664207365464, 0.06605889322666514, 0.022173614509649834, 0.051738433855849614, 0.05589598657640896, 0.025869216927924807, 0.04342332841473093, 0.04942868234442776, 0.03187457085762164, 0.03326042176447475, 0.006929254534265573, 0.029405458355984057, 0.6351579004892557, 0.0029405458355984057, 0.19113547931389638, 0.0029405458355984057, 0.0499892792051729, 0.014702729177992029, 0.014702729177992029, 0.05587037087636971, 0.9346352974946416, 0.9667936554769864, 0.9949906568011554, 0.003462844513229079, 0.9533608814519332, 0.03231731801531977, 0.03491649675194411, 0.9078289155505468, 0.11666748306565745, 0.28518718082716266, 0.5898189421652682, 0.06157338318211832, 0.17524732136449062, 0.11604214522783837, 0.03315489863652525, 0.0023682070454660894, 0.2012975988646176, 0.047364140909321784, 0.0023682070454660894, 0.007104621136398268, 0.03078669159105916, 0.007104621136398268, 0.04262772681838961, 0.03552310568199134, 0.018945656363728716, 0.2202432552283463, 0.051714535727402214, 0.18212510408345997, 0.04496916150208888, 0.0562114518776111, 0.11691981990543109, 0.05396299380250665, 0.2922995497635777, 0.035975329201671104, 0.002248458075104444, 0.017987664600835552, 0.03372687112656666, 0.08768986492907331, 0.020236122675939997, 0.032513136130575, 0.942880947786675, 0.05580303601088423, 0.9207500941795898, 0.09516020607533633, 0.8754738958930943, 0.969899807336286, 0.8708255203119811, 0.03142153939270035, 0.00897758268362867, 0.03142153939270035, 0.05386549610177203, 0.9728737582034896, 0.9695695082239479, 0.9809477290157042, 0.9763745076995355, 0.07289384793465584, 0.8018323272812141, 0.014018047679741507, 0.10653716236603544, 0.9743706672159912, 0.9548844642872617, 0.09828331434499313, 0.024570828586248282, 0.8599790005186898, 0.02736337923584192, 0.0328360550830103, 0.04378140677734707, 0.5527402605640068, 0.1313442203320412, 0.060199434318852225, 0.14776224787354636, 0.9453649474118468, 0.11292330847136667, 0.014115413558920833, 0.056461654235683334, 0.6210781965925166, 0.18350037626597082, 0.08903882144229029, 0.890388214422903, 0.9515760071831952, 0.019693549442054148, 0.9649839226606532, 0.9427492113512258, 0.949306678267678, 0.9547636486122967, 0.983924120814278, 0.9794605637101529, 0.1107797654029607, 0.07165113266888742, 0.026424531197036496, 0.07571644516073918, 0.16464515591999662, 0.07520828109925771, 0.009146953106666479, 0.04471843741036945, 0.03048984368888826, 0.03303066399629562, 0.06352050768518389, 0.0421776171029621, 0.03557148430370297, 0.01880207027481443, 0.015753085905925602, 0.031506171811851204, 0.04878374990222122, 0.0421776171029621, 0.05996335925481358, 0.12253560144171728, 0.0053276348452920555, 0.8737321146278971, 0.9805251673870674, 0.27995921677644225, 0.04434342204260433, 0.230321057773527, 0.0112513160406608, 0.051623685363031906, 0.003971052720233224, 0.017207895121010636, 0.1105276340464914, 0.019193421481127248, 0.03309210600194353, 0.01985526360116612, 0.005956579080349835, 0.03309210600194353, 0.02184078996128273, 0.06221315928365384, 0.01058947392062193, 0.018531579361088377, 0.025811842681515953, 0.9732985123622442, 0.9489582059008178, 0.07421727070104152, 0.057724543878587845, 0.012369545116840252, 0.07834045240665494, 0.04947818046736101, 0.34222408156591366, 0.09070999752349518, 0.03298545364490734, 0.12781863287401593, 0.13194181457962936, 0.9729814791257289, 0.36446177374175825, 0.05027058948162182, 0.1131088263336491, 0.3958808921677719, 0.06912206053723001, 0.9766744806457909, 0.1275994328948117, 0.8421562571057573, 0.9542695701387991, 0.9595367266426613, 0.03943301616339704, 0.8244803361323464, 0.16826129308823395, 0.9632156066815012, 0.7730505950362703, 0.07247349328465033, 0.040263051824805746, 0.06442088291968918, 0.024157831094883446, 0.016105220729922296, 0.019169240502146034, 0.1327101265533187, 0.2609965822215268, 0.0014745569617035412, 0.23887822779597365, 0.125337341744801, 0.04128759492769915, 0.0014745569617035412, 0.044236708851106234, 0.005898227846814165, 0.0029491139234070823, 0.06635506327665935, 0.0575077215064381, 0.025729839061775926, 0.12462890795547714, 0.2814201147381742, 0.004824344824082985, 0.15035874701725305, 0.04824344824082986, 0.03939881606334438, 0.0008040574706804977, 0.01045274711884647, 0.0337704137685809, 0.01688520688429045, 0.0024121724120414927, 0.08120980453873027, 0.02975012641517841, 0.03939881606334438, 0.01366897700156846, 0.022513609179053935, 0.07558140224396678, 0.9730019439719668, 0.9652022298155856, 0.036197538211104635, 0.05429630731665695, 0.8687409170665112, 0.036197538211104635, 0.9515326315618556, 0.888689709776799, 0.07205592241433505, 0.1361511804043818, 0.680755902021909, 0.17018897550547726, 0.17418871967413807, 0.509502005046854, 0.3004755414378882, 0.013064153975560357, 0.044711139734013194, 0.0680386908995853, 0.2779866513897342, 0.023327551165572103, 0.08942227946802639, 0.12732955011208105, 0.046655102331144206, 0.008747831687089539, 0.04179519583831669, 0.03207538285266164, 0.08650633557232988, 0.016523682075613572, 0.08359039167663337, 0.016523682075613572, 0.03596330804692366, 0.132634637188339, 0.17696072060102228, 0.10514559321148119, 0.01683703943582542, 0.15771838981722178, 0.07009706214098746, 0.07593848398606975, 0.013057295889007468, 0.026801817877436383, 0.023365687380329153, 0.02199123518148626, 0.05703976625197999, 0.030581561424254333, 0.0013744521988428913, 0.03504853107049373, 0.04398247036297252, 0.011339230640453854, 0.9634304454360746, 0.9814405526526246, 0.003218637212652764, 0.06437274425305528, 0.4667023958346508, 0.025749097701222114, 0.003218637212652764, 0.19633686997181862, 0.01609318606326382, 0.028967734913874877, 0.06437274425305528, 0.019311823275916584, 0.012874548850611057, 0.07402865589101358, 0.028967734913874877, 0.004626760376659077, 0.041640843389931695, 0.16656337355972678, 0.1017887282864997, 0.060147884896568, 0.060147884896568, 0.037014083013272615, 0.004626760376659077, 0.5228239225624757, 0.025649794592644132, 0.7566689404830019, 0.20519835674115305, 0.13865509634245807, 0.858941311108474, 0.971511116142102, 0.9519414052744648, 0.07235199925942701, 0.06752853264213186, 0.06994026595077944, 0.08441066580266483, 0.028940799703770802, 0.48234666172951335, 0.09888106565455024, 0.009646933234590267, 0.0868223991113124, 0.8409809389131643, 0.0018362029233911885, 0.03672405846782377, 0.003672405846782377, 0.007344811693564754, 0.0018362029233911885, 0.10466356663329773, 0.055184776685540574, 0.08934678130039903, 0.060440469703211104, 0.33899219963974925, 0.04992908366787004, 0.31271373455139656, 0.042045544141364244, 0.0026278465088352652, 0.018394925561846857, 0.018394925561846857, 0.007883539526505796, 0.9500083825860829, 0.12009976688563992, 0.12009976688563992, 0.7356110721745445, 0.9833599800311218, 0.9692158606239424, 0.11349437240761903, 0.08512077930571428, 0.7944606068533333, 0.9597219858089626, 0.9570645724641462, 0.9521131656371338, 0.9749284382590676, 0.9506183374726218, 0.0678790100941021, 0.9050534679213614, 0.9362316737208839, 0.6127287627550072, 0.3819607871719526, 0.049145012993228904, 0.07371751948984336, 0.8600377273815057, 0.10003804252662302, 0.09756796740250887, 0.0037051126861712227, 0.0012350375620570743, 0.26429803828021387, 0.01729052586879904, 0.07904240397165276, 0.006175187810285371, 0.12103368108159328, 0.01729052586879904, 0.1432643571986206, 0.01729052586879904, 0.0012350375620570743, 0.06545699078902494, 0.06422195322696786, 0.22750907470874981, 0.062047929466022674, 0.034471071925568156, 0.013788428770227262, 0.05860082227346586, 0.0034471071925568156, 0.04825950069579542, 0.031023964733011337, 0.027576857540454525, 0.15167271647249989, 0.3240280761003406, 0.020682643155340893, 0.9412258348904825, 0.9055914974491156, 0.05488433317873428, 0.981714125259494, 0.9218435551517002, 0.7883953049003188, 0.15955619265839785, 0.037542633566681846, 0.9594294565255216, 0.9360026329184524, 0.07842082514733802, 0.13723644400784152, 0.7744056483299628, 0.0004527466855540495, 0.10413173767743138, 0.0869273636263775, 0.0004527466855540495, 0.25036891711138937, 0.1865316344482684, 0.02399557433436462, 0.05251861552426974, 0.0040747201699864455, 0.010865920453297187, 0.005432960226648594, 0.056140589008702134, 0.10322624430632328, 0.03440874810210776, 0.016298880679945782, 0.007696693654418841, 0.010865920453297187, 0.04527466855540495, 0.9787921491043332, 0.9015092889070949, 0.050083849383727494, 0.1283544068485395, 0.1073127008077953, 0.15886488060761855, 0.007364597114260462, 0.017885450134632552, 0.001052085302037209, 0.01893753543666976, 0.022093791342781388, 0.2830109462480092, 0.008416682416297672, 0.05576052100797207, 0.03156255906111627, 0.036822985571302314, 0.044187582685562776, 0.02840630315500464, 0.035770900269265105, 0.014729194228520924, 0.1433738016081317, 0.8472088276844146, 0.9548839676593461, 0.03410299884497665, 0.03066168174341348, 0.9627768067431832, 0.9646885385409252, 0.16130664427969296, 0.05376888142656432, 0.09678398656781578, 0.5914576956922075, 0.07527643399719006, 0.9928453841358175, 0.07465383710394047, 0.07986224434375028, 0.4895902805421212, 0.0017361357466032668, 0.18229425339334301, 0.017361357466032668, 0.022569764705842467, 0.010416814479619601, 0.045139529411684934, 0.07465383710394047, 0.0017361357466032668, 0.9814884119489229, 0.9414426069300545, 0.9779501238188951, 0.9696908998611722, 0.06493039154849002, 0.9252580795659827, 0.9530763887915854, 0.06859665332079107, 0.9260548198306795, 0.9719700151803882, 0.10702193951908487, 0.12153019540459462, 0.11418185800803773, 0.08083171136212572, 0.031465957569871784, 0.06575819875380391, 0.07593281976442114, 0.0199724042060264, 0.06877290127546827, 0.07178760379713263, 0.0465394701781936, 0.025059714711335012, 0.038814294966428665, 0.011870391179053428, 0.025248133618939034, 0.016204026053945948, 0.020349242021234448, 0.032408052107891896, 0.013754580255093653, 0.012435647901865495, 0.03229473076414857, 0.1645203265343418, 0.19681505729849036, 0.08530683598076981, 0.0194987053670331, 0.059105450643819085, 0.10236820317692377, 0.018889370824313315, 0.07555748329725326, 0.0822601632671709, 0.03351339984958814, 0.018280036281593533, 0.0389974107340662, 0.0024373381708791375, 0.04570009070398383, 0.008530683598076981, 0.006093345427197844, 0.010358687226236335, 0.15073651477102995, 0.026073343095529503, 0.01874021534991183, 0.042369182530235444, 0.002444375915205891, 0.002444375915205891, 0.06273898182361787, 0.01955500732164713, 0.11651525195814746, 0.5581325006386785, 0.9823903658631614, 0.12568089175399225, 0.03020238484010666, 0.4238076582402064, 0.4169877648892146, 0.0029228114361393542, 0.04348776838457117, 0.5521055812302079, 0.4008437781534386, 0.06195454731714323, 0.011063312020918432, 0.0044253248083673735, 0.04646591048785742, 0.21905357801418499, 0.0044253248083673735, 0.15931169310122545, 0.12612175703847014, 0.0995698081882659, 0.04425324808367373, 0.008850649616734747, 0.19250162916398073, 0.024339286446020552, 0.9327381156498157, 0.9811111145724823, 0.9602354741469264, 0.6437161599546425, 0.08998182881086401, 0.013843358278594464, 0.027686716557188927, 0.013843358278594464, 0.05883427268402647, 0.06921679139297232, 0.08306014967156677, 0.46174644143305116, 0.02225284055099042, 0.09179296727283548, 0.3838614995045847, 0.008344815206621406, 0.033379260826485624, 0.9730822472844679, 0.3891521619734065, 0.2430540806864621, 0.02523512313138131, 0.05843923251477777, 0.04648575313675504, 0.04914208188742676, 0.04648575313675504, 0.06773638314212878, 0.05179841063809848, 0.009297150627351009, 0.0013281643753358585, 0.011953479378022725, 0.9437757730868511, 0.1754250637944847, 0.10882851179843032, 0.12182296096839215, 0.06578439892293175, 0.0284253575592915, 0.15187262467392887, 0.0511656436067247, 0.04223195980237594, 0.01867952068182013, 0.0170552145355749, 0.009745836877471372, 0.01299444916996183, 0.02436459219367843, 0.015430908389329673, 0.029237510632414115, 0.0284253575592915, 0.002436459219367843, 0.06497224584980915, 0.009745836877471372, 0.021928132974310587, 0.9779894134541194, 0.120440394959214, 0.11386267094072586, 0.09730495185970396, 0.05693133547036293, 0.03402271044045593, 0.07621087138662129, 0.06282860528004196, 0.03833225376291369, 0.03447634657966201, 0.022001352751494837, 0.051260883730286935, 0.033569074301249856, 0.02948634904839514, 0.023135443099510034, 0.05829224388798116, 0.026991350282761707, 0.024042715377922193, 0.02971316711799818, 0.014289538384991491, 0.05284861021750822, 0.9477741674645377, 0.24561672338294888, 0.027290747042549877, 0.07797356297871394, 0.11306166631913521, 0.14425109151062077, 0.3742731022978269, 0.019493390744678485, 0.9676901459988119, 0.1794020852680857, 0.0022853768823959965, 0.04856425875091492, 0.4450771478466203, 0.016568982397370972, 0.0011426884411979983, 0.006856130647187989, 0.0599911431628949, 0.06684727381008289, 0.1234103516493838, 0.025139145706355958, 0.010284195970781984, 0.003999409544192993, 0.009712851750182985, 0.8981929556258883, 0.09710194114874468, 0.11461463054960372, 0.11878243529686204, 0.014587316615404109, 0.037510242725324855, 0.021880974923106165, 0.20734828617610127, 0.009377560681331214, 0.016671218989033267, 0.061475120022060174, 0.009377560681331214, 0.009377560681331214, 0.051055608153914384, 0.07189463189020597, 0.051055608153914384, 0.004167804747258317, 0.09481755800012671, 0.004167804747258317, 0.10211121630782877, 0.04271337808077378, 0.8329108725750888, 0.10678344520193446, 0.012080540968996531, 0.10872486872096877, 0.036241622906989596, 0.7127519171707953, 0.08456378678297571, 0.048322163875986125, 0.20645384650193552, 0.03871009621911291, 0.7483951935695163, 0.9735098852409118, 0.969211379885327, 0.9696669337354793, 0.9829548452561493, 0.9497371285470044, 0.1835541556032403, 0.05938516798928362, 0.24988044712373889, 0.0007712359479127743, 0.06863999936423691, 0.08020853858292853, 0.07635235884336465, 0.09640449348909678, 0.04318921308311536, 0.0015424718958255486, 0.020823370593644905, 0.11491415623900338, 0.004627415687476646, 0.12893328953817756, 0.10475829774976926, 0.12893328953817756, 0.024174991788408293, 0.5318498193449824, 0.040291652980680485, 0.008058330596136098, 0.024174991788408293, 0.9309670367446333, 0.9697176210069482, 0.2574282353555084, 0.1060830640201271, 0.36492574022923724, 0.011315526828813557, 0.02121661280402542, 0.03394658048644067, 0.04950542987605931, 0.009901085975211863, 0.0028288817072033893, 0.04667654816885593, 0.06789316097288134, 0.01555884938961864, 0.008486645121610167, 0.0028288817072033893, 0.9523374557845142, 0.9596623114907332, 0.14190194915214985, 0.065038393361402, 0.08277613700542073, 0.065038393361402, 0.5439574717499077, 0.09460129943476656, 0.013669866821272296, 0.08201920092763378, 0.04100960046381689, 0.7655125419912485, 0.08885413433826993, 0.04428728841600711, 0.07381214736001185, 0.6200220378240996, 0.09595579156801541, 0.09595579156801541, 0.06643093262401066, 0.9830763067432932, 0.962884091641124, 0.9787074821241224, 0.03532265851205871, 0.08389131396613943, 0.09713731090816144, 0.06181465239610273, 0.08389131396613943, 0.08830664628014677, 0.044153323140073385, 0.4989325514828292, 0.11802095541841694, 0.8556519267835229, 0.06887637701850288, 0.06887637701850288, 0.25398164025572934, 0.038742962072907866, 0.038742962072907866, 0.010761933909141074, 0.00430477356365643, 0.1312955936915211, 0.07748592414581573, 0.019371481036453933, 0.07963831092764395, 0.1872576500190547, 0.015066707472797505, 0.11123634367159589, 0.25584359044467053, 0.01112363436715959, 0.038932720285058564, 0.3948890200341654, 0.07230362338653733, 0.01112363436715959, 0.07230362338653733, 0.03058999450968887, 0.05593036622295527, 0.0069912957778694084, 0.20274757755821285, 0.5732862537852915, 0.153808507113127, 0.0069912957778694084, 0.383342188518691, 0.042991647310507405, 0.051948240500196446, 0.005373955913813426, 0.11106175555214412, 0.019704505017315892, 0.08060933870720138, 0.04657428458638302, 0.021495823655253703, 0.005373955913813426, 0.05373955913813425, 0.17913186379378085, 0.9809684154844857, 0.8717264638238722, 0.02356017469794249, 0.07068052409382747, 0.959236231140321, 0.24184985873877585, 0.1874336405225513, 0.3416129254685209, 0.07860120409010216, 0.018138739405408187, 0.03930060204505108, 0.09069369702704094, 0.9696495934550988, 0.1921161122562825, 0.7946621006964413, 0.08423175168974896, 0.8703947674607393, 0.9487248991435385, 0.987580729391454, 0.2826443715290977, 0.7066109288227443, 0.9289390898177424, 0.7061628240310117, 0.21053301586017742, 0.03508883597669624, 0.043861044970870296, 0.24844827010018947, 0.0010182306151647108, 0.027492226609447192, 0.38489117253226074, 0.0010182306151647108, 0.214846659799754, 0.10589598397712993, 0.018328151072964795, 0.03675007743645854, 0.2695005678673626, 0.09187519359114635, 0.012250025812152846, 0.5818762260772602, 0.9908200534730126, 0.03543095022872552, 0.22199704752685834, 0.10961450227011958, 0.2989486425548716, 0.0071969117652098714, 0.02048351810098194, 0.01771547511436276, 0.06643303167886035, 0.0763979864306894, 0.002214434389295345, 0.016054649322391253, 0.0011072171946476725, 0.018269083711686597, 0.00442886877859069, 0.03543095022872552, 0.00442886877859069, 0.06366498869224117, 0.9924310021870808, 0.1691800225245486, 0.010685054054182018, 0.06351671021097088, 0.18520760360582164, 0.011872282282424465, 0.03621046096139462, 0.009497825825939572, 0.061142253754485995, 0.03264877627666728, 0.0005936141141212232, 0.011278668168303242, 0.06292309609684966, 0.03739768918963706, 0.03442961861903095, 0.0641103243250921, 0.014246738738909357, 0.09379103003115327, 0.030867933934303607, 0.07123369369454678, 0.9755125047845133, 0.9421774748433179, 0.08668386132970156, 0.14683184674214753, 0.04422645986209263, 0.12560314600834308, 0.04776457665106004, 0.051302693440027455, 0.058378927017962275, 0.01061435036690223, 0.09376009490763638, 0.2423610000442676, 0.05660986862347857, 0.0017690583944837053, 0.0318430511007067, 0.935578839912114, 0.5558575554020797, 0.04353101337486167, 0.023439776432617822, 0.04353101337486167, 0.020091236942243847, 0.07366786878822744, 0.04353101337486167, 0.06362225031710551, 0.046879552865235645, 0.08706202674972334, 0.8117593558181648, 0.07567248232203232, 0.01375863314946042, 0.09401732652131288, 0.04369138506322088, 0.1529198477212731, 0.7864449311379759, 0.9840273171059735, 0.9692570158569391, 0.9850143951401924, 0.1899198730359558, 0.7786714794474188, 0.10324337680489244, 0.8947759323090678, 0.5892943028694931, 0.4091386159922481, 0.7231511444682325, 0.05423633583511744, 0.222971602877705, 0.8294194090047201, 0.0165883881800944, 0.11197162021563721, 0.037323873405212406, 0.02350110928476732, 0.00587527732119183, 0.01175055464238366, 0.5581513455132239, 0.14688193302979574, 0.07050332785430197, 0.00587527732119183, 0.05287749589072647, 0.12338082374502843, 0.005935072627927583, 0.09496116204684132, 0.6706632069558169, 0.005935072627927583, 0.07715594416305858, 0.05341565365134825, 0.08309101679098617, 0.9645650082478272, 0.9684222214319529, 0.9563296836276742, 0.01973164178944148, 0.18441495980131842, 0.003035637198375612, 0.14191603902405986, 0.15785313431553183, 0.017454913890659767, 0.00758909299593903, 0.026561825485786606, 0.05312365097157321, 0.10776512054233423, 0.032633099882537826, 0.034909827781319534, 0.04098110217807076, 0.012142548793502447, 0.03642764638050734, 0.12066657863543058, 0.001517818599187806, 0.05367528348892259, 0.13526171439208493, 0.1739079185041092, 0.03220517009335355, 0.12667366903385732, 0.012882068037341422, 0.006441034018670711, 0.03864620411202427, 0.27052342878416985, 0.015029079376898326, 0.01717609071645523, 0.0644103401867071, 0.04079321545158117, 0.012882068037341422, 0.9668753930965307, 0.9785583194817541, 0.13198427427459397, 0.27248366301851656, 0.0021287786173321607, 0.018094618247323366, 0.04896190819863969, 0.03299606856864849, 0.018094618247323366, 0.04896190819863969, 0.04257557234664321, 0.051090686815971856, 0.051090686815971856, 0.005321946543330402, 0.08515114469328643, 0.1511432818305834, 0.0010643893086660803, 0.019159007555989444, 0.019159007555989444, 0.9306616316441796, 0.05318066466538169, 0.01699438122595092, 0.23380148716914295, 0.06746254365453244, 0.0051498124927124, 0.06643258115598996, 0.00823969998833984, 0.1637640372682543, 0.02523408121429076, 0.02523408121429076, 0.055617974921293924, 0.012874531231781, 0.06076778741400632, 0.02008426872157836, 0.00926966248688232, 0.05458801242275144, 0.04171348119097044, 0.02935393120846068, 0.038623593695343, 0.01441947497959472, 0.04995318117931028, 0.9528213931563799, 0.03158209524301705, 0.010527365081005683, 0.07369155556703978, 0.10527365081005684, 0.042109460324022734, 0.0631641904860341, 0.09474628572905115, 0.5684777143743069, 0.02013267878225743, 0.8858378664193269, 0.08724160805644887, 0.009062721578143253, 0.031719525523501386, 0.17445739037925762, 0.009062721578143253, 0.3919627082546957, 0.054376329468859515, 0.1042212981486474, 0.09968993735957578, 0.0339852059180372, 0.07023609223061021, 0.02039112355082232, 0.9474155958508508, 0.0628539079587458, 0.04190260530583054, 0.7961495008107802, 0.0628539079587458, 0.8745133157137542, 0.03363512752745209, 0.08408781881863021, 0.2526901960038076, 0.33632709186422277, 0.0035590168451240505, 0.34700414239959493, 0.06050328636710886, 0.08836081019452346, 0.20126628988752565, 0.38780577807596406, 0.11781441359269794, 0.20126628988752565, 0.9683435195919283, 0.04154512738760758, 0.7685848566707402, 0.09693863057108434, 0.027696751591738386, 0.05539350318347677, 0.9492939019372585, 0.08078347982604882, 0.08078347982604882, 0.01631204881102909, 0.0007767642290966233, 0.12195198396816985, 0.13904079700829555, 0.04116850414212103, 0.10486317092804415, 0.017865577269222336, 0.12117521973907323, 0.11496110590630024, 0.02174939841470545, 0.03573115453844467, 0.020195869956512204, 0.027186748018381814, 0.03495439030934805, 0.020972634185608827, 0.028213160379363923, 0.08181816510015538, 0.016927896227618353, 0.3724137170076038, 0.1777429103899927, 0.08463948113809178, 0.045141056606982276, 0.025391844341427532, 0.019749212265554747, 0.0056426320758727845, 0.062068952834600635, 0.07899684906221899, 0.9684404690223501, 0.9606339897936255, 0.9576252739797286, 0.12543756115954768, 0.09288124757615362, 0.001915077269611415, 0.34950160170408323, 0.07085785897562236, 0.09096617030654221, 0.017235695426502735, 0.005745231808834245, 0.0631975498971767, 0.023938465870142686, 0.001915077269611415, 0.010532924982862783, 0.001915077269611415, 0.008617847713251367, 0.01149046361766849, 0.052664624914313916, 0.001915077269611415, 0.01627815679169703, 0.03447139085300547, 0.01915077269611415, 0.9194199857223534, 0.14432128258718696, 0.8418741484252572, 0.021890567219362, 0.14072507498161285, 0.6035542104766951, 0.131343403316172, 0.03127223888480286, 0.021890567219362, 0.01563611944240143, 0.012508895553921142, 0.018763343330881716, 0.9480084219934783, 0.9623470691359547, 0.012927549982697585, 0.36197139951553237, 0.005925127075403059, 0.09534068112239469, 0.061405862417813525, 0.05871262283808486, 0.009695662487023188, 0.001615943747837198, 0.0640991019975422, 0.10772958318914654, 0.008618366655131722, 0.031241579124852495, 0.001615943747837198, 0.06302180616565073, 0.055480735342410464, 0.05978991866997633, 0.9644750263025159, 0.9261214209743219, 0.9645686155517985, 0.9673707575309922, 0.02516638020849966, 0.14970769765056208, 0.22520683827606106, 0.08130676682746044, 0.01032466880348704, 0.0258116720087176, 0.064529180021794, 0.03807221621285846, 0.08840497662985777, 0.0709820980239734, 0.032264590010897, 0.0161322950054485, 0.14390007144860062, 0.02774754740937142, 0.1878299507764205, 0.7888857932609661, 0.016695995624570713, 0.9626024034529828, 0.9907333240261859, 0.05638902976496433, 0.9304189911219115, 0.9341159272993456, 0.04402539296312072, 0.14325723107047217, 0.0356396038272882, 0.12019631094693276, 0.10342473267526771, 0.12089512670825213, 0.005590526090555012, 0.002096447283958129, 0.1425584153091528, 0.01747039403298441, 0.028651446214094434, 0.04332657720180134, 0.020964472839581295, 0.013277499465068152, 0.05800170818950824, 0.007686973374513141, 0.05101355057631448, 0.03703723534992695, 0.003494078806596882, 0.13487790810249103, 0.7707309034428059, 0.07707309034428059, 0.1507971365090252, 0.02358837889526651, 0.0016848842068047508, 0.06571048406538528, 0.03538256834289977, 0.0008424421034023754, 0.07581978930621379, 0.10699014713210167, 0.11709945237293018, 0.16680353647367033, 0.09351107347766367, 0.024430820998668886, 0.012636631551035631, 0.026115705205473638, 0.016006399964645132, 0.03622501044630214, 0.044649431480325893, 0.9760738419304978, 0.9857401000648311, 0.007336992420572656, 0.3264961627154832, 0.015591108893716893, 0.07612129636344131, 0.02843084562971904, 0.07245280015315497, 0.021093853209146387, 0.16416520541031318, 0.040353458313149605, 0.010088364578287401, 0.002751372157714746, 0.021093853209146387, 0.05502744315429492, 0.11097201036116142, 0.00917124052571582, 0.031182217787433786, 0.00458562026285791, 0.000917124052571582, 0.9633450950538152, 0.9546337131458974, 0.12780729370677976, 0.22366276398686458, 0.021301215617796625, 0.5857834294894072, 0.04260243123559325, 0.03097507644702327, 0.03097507644702327, 0.8982772169636748, 0.2012846450446705, 0.7941594177217, 0.05892359889246898, 0.754222065823603, 0.12963191756343176, 0.047138879113975185, 0.2860249235798548, 0.04017741401456154, 0.05070007006599433, 0.04304722930131594, 0.019132101911695974, 0.002869815286754396, 0.012435866242602383, 0.08609445860263187, 0.0765284076467839, 0.15210021019798298, 0.026784942676374362, 0.08705106369821668, 0.0707887770732751, 0.010522656051432785, 0.023915127389619966, 0.013392471338187181, 0.08968320488177134, 0.8968320488177134, 0.9666648553500992, 0.02864192164000294, 0.977043766570045, 0.9428239000501387, 0.030218714745196752, 0.018131228847118052, 0.9879885479296185, 0.9486435921613714, 0.11129644994106061, 0.06454366613682326, 0.03351305741719669, 0.00041374144959502085, 0.0008274828991900417, 0.035581764665171794, 0.07157727077993861, 0.09640175775563986, 0.012825984937445647, 0.020273331030156022, 0.04013292061071702, 0.059578768741683004, 0.009929794790280501, 0.09185060181009463, 0.021514555378941085, 0.021100813929346065, 0.11460638153782078, 0.06371618323763321, 0.10012543080199506, 0.031030608719626564, 0.916047414183624, 0.017616296426608155, 0.052848889279824465, 0.9698162946831839, 0.06601677573000597, 0.025391067588463836, 0.7058716789592946, 0.19805032719001792, 0.7272163043249394, 0.2679217963302408, 0.022542027139542734, 0.31631554211938995, 0.3032266231351393, 0.029086486631668042, 0.31122540695884804, 0.015997567647417422, 0.12292106650070529, 0.3226677995643514, 0.5531447992531738, 0.12331198342013365, 0.0809234891194627, 0.13872598134765035, 0.0038534994818791766, 0.5356364279812056, 0.09248398756510023, 0.02312099689127506, 0.9676353885808379, 0.0012054675438401322, 0.291723145609312, 0.4339683157824476, 0.0012054675438401322, 0.025314818420642777, 0.05183510438512569, 0.030136688596003307, 0.019287480701442115, 0.024109350876802646, 0.04580776666592502, 0.019287480701442115, 0.04701323420976516, 0.009643740350721058, 0.4498400705387729, 0.5418528122398856, 0.0025968564472043073, 0.05539960420702522, 0.29863849142849536, 0.19736108998752735, 0.08223378749480306, 0.1454239610434412, 0.05972769828569907, 0.02856542091924738, 0.10041178262523322, 0.0017312376314695382, 0.02769980210351261, 0.963782721444457, 0.9379991938545155, 0.024684189311960935, 0.5868017280882998, 0.07373424855559788, 0.0030722603564832447, 0.046083905347248676, 0.1290349349722963, 0.021505822495382715, 0.07987876926856437, 0.05837294677318165, 0.017988916444585674, 0.05036896604483989, 0.04227395364477634, 0.006296120755604986, 0.21316865986834027, 0.005396674933375703, 0.12862075257878758, 0.04227395364477634, 0.025184483022419945, 0.05216785768929846, 0.0035977832889171352, 0.02428503720019066, 0.023385591377961378, 0.066558990844967, 0.14750911484560253, 0.015290578977897824, 0.06296120755604986, 0.06565954502273771, 0.0017988916444585676, 0.006296120755604986, 0.0025347230954685753, 0.012673615477342876, 0.12166670858249161, 0.13687504715530308, 0.005069446190937151, 0.08364586215046299, 0.06843752357765154, 0.012673615477342876, 0.03548612333656005, 0.41315986456137777, 0.030416677145622902, 0.05829863119577723, 0.012673615477342876, 0.9155632201467776, 0.08078499001295096, 0.9830053119813789, 0.1296838606988765, 0.008021682105085144, 0.13102080771639069, 0.06551040385819534, 0.061499562805652774, 0.31284560209832063, 0.06952124491073791, 0.028075887367798005, 0.017380311227684478, 0.16444448315424545, 0.012032523157627716, 0.9455011395239251, 0.9761629135834515, 0.13275362653778136, 0.1820461123408394, 0.11090809305688062, 0.028007094206282987, 0.06497645855857653, 0.06777716797920483, 0.04649177638242975, 0.01904482406027243, 0.09802482972199045, 0.01792454029202111, 0.0028007094206282984, 0.006161560725382257, 0.01736439840789545, 0.06273589102207389, 0.011202837682513194, 0.010082553914261876, 0.004481135073005278, 0.05769461406494295, 0.05993518160144559, 0.9649323483385206, 0.06459438414345296, 0.9043213780083416, 0.02336852630678252, 0.10807943416886916, 0.0759477104970432, 0.08471090786208664, 0.12560582889895605, 0.0379738552485216, 0.02336852630678252, 0.06134238155530412, 0.09931623680382572, 0.08763197365043446, 0.008763197365043445, 0.2628959209513034, 0.026744394218838553, 0.5781883321596525, 0.12226008785754768, 0.011461883236645095, 0.0878744381476124, 0.0394798200373331, 0.0012735425818494548, 0.0012735425818494548, 0.031838564546236375, 0.02801793680068801, 0.008914798072946184, 0.06113004392877384, 0.9782364330075333, 0.05483930318603068, 0.13709825796507671, 0.13709825796507671, 0.6717814640288758, 0.1633486513940619, 0.004949959133153391, 0.7276439925735485, 0.004949959133153391, 0.09404922352991443, 0.02389140235089755, 0.05256108517197461, 0.15290497504574432, 0.007167420705269265, 0.05733936564215412, 0.6570135646496826, 0.05017194493688485, 0.9482950502704502, 0.0326998293196707, 0.2504155806841705, 0.7442907537001735, 0.977579304406384, 0.9493227821871756, 0.03722834439949708, 0.9539337794193189, 0.028256649886764202, 0.6451935057477826, 0.08947939130808663, 0.009418883295588067, 0.13657380778602696, 0.018837766591176135, 0.06593218306911647, 0.9537345623935085, 0.981882581106527, 0.9502797086167863, 0.9899196143221447, 0.9640591708175057, 0.9696040760134202, 0.9272013931416516, 0.057950087071353226, 0.12368519441391101, 0.014271368586220502, 0.047571228620735005, 0.04122839813797034, 0.09514245724147001, 0.275913126000263, 0.012685660965529335, 0.04598552100004384, 0.07769967341386717, 0.13637085537944035, 0.02537132193105867, 0.07452825817248485, 0.028542737172441005, 0.04312118523977933, 0.7546207416961382, 0.12936355571933797, 0.04312118523977933, 0.8699119573492942, 0.10608682406698709, 0.7675377442991789, 0.22574639538211141, 0.9844623463367794, 0.9942384104980995, 0.9620698182594565, 0.13115261476923212, 0.169726913230771, 0.6943373723076995, 0.9718866554103608, 0.2088751499186262, 0.5936451629266218, 0.02198685788617118, 0.16490143414628386, 0.9912095900990653, 0.9567327029508618, 0.0893605090399147, 0.8425419423763386, 0.0638289350285105, 0.01783962729014725, 0.9633398736679515, 0.9642163911141396, 0.9768405659461483, 0.16576560688198383, 0.13746416180457197, 0.040430635824874106, 0.03234450865989928, 0.09703352597969785, 0.5255982657233633, 0.1794612305263877, 0.058203642332882506, 0.21179658737798912, 0.027485053323861183, 0.08730546349932375, 0.022634749796120974, 0.06790424938836293, 0.3443715504695548, 0.9407804928210145, 0.956977356469691, 0.9742336780485543, 0.9794393246696749, 0.09234392985034025, 0.8772673335782324, 0.9380530175783094, 0.9183584644575851, 0.06559703317554179, 0.9638481672301417, 0.9643641978891756, 0.9602874508733175, 0.981862476892001, 0.13674377810107832, 0.05860447632903356, 0.048837063607527965, 0.7423233668344251, 0.05891542502312252, 0.2307520813405632, 0.004909618751926877, 0.004909618751926877, 0.034367331263488135, 0.009819237503853754, 0.004909618751926877, 0.5891542502312251, 0.05891542502312252, 0.9681222455858736, 0.47365197665367126, 0.06197315582384484, 0.039839885886757395, 0.3939722048801565, 0.022133269937087443, 0.9786992514612889, 0.10645169557150418, 0.0060483917938354646, 0.0072580701526025575, 0.10403233885397, 0.05322584778575209, 0.04959681270945081, 0.018145175381506395, 0.018145175381506395, 0.05685488286205337, 0.2903228061041023, 0.06290327465588884, 0.050806491068217906, 0.024193567175341858, 0.024193567175341858, 0.0169354970227393, 0.0338709940454786, 0.0169354970227393, 0.044758099274382436, 0.013306461946438022, 0.9781941018706858, 0.047456091157432725, 0.9253937775699381, 0.9883869955048783, 0.2557651457078949, 0.12788257285394744, 0.08525504856929829, 0.5200557962727196, 0.9593430740677993, 0.3530560509792928, 0.03089240446068812, 0.15887522294068177, 0.10150361465654668, 0.04192540605379102, 0.0110330015931029, 0.0110330015931029, 0.00220660031862058, 0.02427260350482638, 0.055165007965514504, 0.20742042995033452, 0.8810441294357094, 0.11013051617946368, 0.1620949743250223, 0.009615803561653865, 0.3695215940121271, 0.14011599475552775, 0.026100038238774773, 0.08104748716251114, 0.03159478313114841, 0.024726352015681366, 0.151105484540275, 0.004121058669280227, 0.9689018255562462, 0.9436505023410409, 0.9695714399969826, 0.9728133319664614, 0.9651818802630665, 0.908096374103894, 0.07674053865666709, 0.2820548714213768, 0.5729239575746717, 0.04407107365959013, 0.08814214731918026, 0.940401764618531, 0.8099606026395721, 0.07916908146101082, 0.012179858686309357, 0.07916908146101082, 0.018269788029464034, 0.986337400194151, 0.8937082729027581, 0.07246283293806147, 0.177001226639741, 0.07288285802812865, 0.7392404171424477, 0.048606053148680495, 0.9235150098249294, 0.9879359338887482, 0.1663092291391092, 0.06363135723583307, 0.06941602607545427, 0.5466512053442024, 0.0028923344198105946, 0.007230836049526486, 0.018800173728768865, 0.03326184582782184, 0.007230836049526486, 0.04772351792687481, 0.004338501629715892, 0.005784668839621189, 0.01735400651886357, 0.008677003259431784, 0.001999682973908589, 0.04132678146077751, 0.8825267524849907, 0.0739882700346178, 0.980466282819458, 0.019702375641186917, 0.786303900589187, 0.04836037657382244, 0.016120125524607478, 0.08955625291448599, 0.01074675034973832, 0.0268668758743458, 0.9701430831343115, 0.9762962650961118, 0.12085588591120694, 0.8459912013784486, 0.12719985788995808, 0.1663706750547465, 0.08128997540649639, 0.034537709758200544, 0.04801584039554709, 0.049279415142798336, 0.02105957912085399, 0.04001320032962258, 0.0332741350109493, 0.028219836021944344, 0.021901962285688147, 0.03706485925270302, 0.014320513802180712, 0.01979600437360275, 0.08044759224166223, 0.041276775076873815, 0.0395920087472055, 0.004633107406587877, 0.030325793934029743, 0.08171116698891348, 0.9434610399760495, 0.9860966003324452, 0.7044069026557225, 0.2254102088498312, 0.018784184070819266, 0.03756836814163853, 0.009392092035409633, 0.9549183423405939, 0.9813642314467059, 0.14177260445319345, 0.8506356267191608, 0.9824622334139107, 0.8499942218382358, 0.13599907549411774, 0.9602367604787965, 0.08098821216179097, 0.8422774064826261, 0.04859292729707458, 0.9344059734692983, 0.9792268728461845, 0.9855979924466562, 0.9456597084059162, 0.9473874018339854, 0.9785167636559422, 0.00861815854041112, 0.03447263416164448, 0.20109036594292612, 0.06319982929634821, 0.011490878053881493, 0.3303627440490929, 0.011490878053881493, 0.08330886589064082, 0.028727195134703728, 0.10341790248493343, 0.00861815854041112, 0.04596351221552597, 0.03734535367511485, 0.031599914648174104, 0.7348564615290905, 0.10497949450415578, 0.15746924175623367, 0.9662750821375835, 0.968635139549498, 0.02708025025125815, 0.9478087587940353, 0.9565325186446387, 0.9577710066560747, 0.961482745948799, 0.9578336710970808, 0.9593048702445178, 0.23390289865014696, 0.10635690290424449, 0.03332653437231645, 0.016663267186158227, 0.09175082919785889, 0.01584038979424918, 0.021600531537612516, 0.027360673280975856, 0.02283484762547609, 0.10820837703603985, 0.08393349397472293, 0.07385324592383709, 0.026126357193112282, 0.0067887384832496485, 0.041143869595452416, 0.005348703047408814, 0.01686898653413549, 0.03682376328792991, 0.022423408929521566, 0.00905165131099953, 0.9689507642418416, 0.12740424582191562, 0.5374866620612065, 0.04777659218321836, 0.17518083800513398, 0.055739357547088086, 0.04777659218321836, 0.003981382681934863, 0.9744615803712473, 0.017967390551923538, 0.14090216801245303, 0.11631521252034713, 0.0018913042686235304, 0.034989128969535314, 0.20236955674271775, 0.07186956220769415, 0.015130434148988244, 0.03215217256660002, 0.0406630417754059, 0.0009456521343117652, 0.003782608537247061, 0.10402173477429418, 0.052956519521458856, 0.031206520432288252, 0.015130434148988244, 0.062413040864576504, 0.05390217165577062, 0.9544368211387828, 0.07495407925667558, 0.899448951080107, 0.9737512215892092, 0.9523744115977822, 0.10927658991474246, 0.8742127193179396, 0.9637152067647472, 0.20510343474785467, 0.7032117762783588, 0.07325122669566238, 0.43036376316252667, 0.020493512531548887, 0.03202111333054514, 0.026897735197657917, 0.08965911732552638, 0.03970618052987597, 0.0064042226661090275, 0.01665097893188347, 0.06276138212786847, 0.0230552015979925, 0.14473543225406402, 0.0064042226661090275, 0.0678847602607557, 0.002561689066443611, 0.03202111333054514, 0.14220774372884137, 0.8390256880001641, 0.9548495064097327, 0.7848766540690846, 0.14849017779685383, 0.010606441271203847, 0.04242576508481539, 0.9712568779352401, 0.004443030342136285, 0.09774666752699827, 0.19105030471186027, 0.04443030342136285, 0.15550606197477, 0.5042839438324683, 0.94405678602168, 0.07183443052324415, 0.04571281942388264, 0.8424219579544087, 0.03918241664904226, 0.14714870359845303, 0.8461050456911049, 0.044072584803616754, 0.14979726857409065, 0.12652298221712452, 0.05744291951932071, 0.08566918169691796, 0.05670012314622605, 0.10721027651666323, 0.011141945596419966, 0.03788261502782789, 0.0438249860125852, 0.007675562521978199, 0.04778656666909008, 0.02104589723768216, 0.02525507668521859, 0.04778656666909008, 0.03565422590854389, 0.017331915372208836, 0.031197447669975908, 0.023274286356966153, 0.023274286356966153, 0.19275012209443534, 0.01465780396155402, 0.010993352971165514, 0.078419251194314, 0.004397341188466205, 0.011726243169243214, 0.05826477074717722, 0.006596011782699308, 0.11066641990973283, 0.13338601605014155, 0.13448535134725811, 0.1132315356030048, 0.020887370645214478, 0.0014657803961554017, 0.01685647455578712, 0.08098436688758595, 0.010260462773087812, 0.1386424334072064, 0.13430985736323117, 0.0346606083518016, 0.19063334593490877, 0.4549204846173959, 0.0043325760439752, 0.03899318439577679, 0.9623573798909596, 0.9751070956120323, 0.9782594456131222, 0.9438209415054981, 0.9594021602613929, 0.6783330250253649, 0.22611100834178827, 0.02261110083417883, 0.05652775208544707, 0.011305550417089414, 0.97528886438741, 0.9847297748204996, 0.9424935141963798, 0.14953334477417105, 0.03655259538924181, 0.09968889651611404, 0.07975111721289123, 0.009968889651611404, 0.5250281883182005, 0.08972000686450263, 0.006645926434407602, 0.9389601694051097, 0.9636817419425003, 0.15191727232506794, 0.026013231562511636, 0.0006936861750003102, 0.10613398477504747, 0.01213950806250543, 0.03954011197501769, 0.01422056658750636, 0.0735307345500329, 0.07006230367503134, 0.12382298223755539, 0.07977391012503568, 0.06312544192502824, 0.022197957600009928, 0.01283319423750574, 0.002081058525000931, 0.027400603912512256, 0.02636007465001179, 0.052373306212523424, 0.056188580175025135, 0.03919326888751753, 0.9465346325471614, 0.9745779968854851, 0.9867862036294525, 0.9185858167259597, 0.9428199910331941, 0.9722520014589701, 0.03772834058933896, 0.7734309820814487, 0.16977753265202533, 0.9394758904938799, 0.07289562724453498, 0.09111953405566872, 0.8200758065010185, 0.9219953174345878, 0.9962897743575828, 0.9591075504263177, 0.9523371168256354, 0.024875678313215445, 0.029021624698751355, 0.006218919578303861, 0.004145946385535907, 0.12437839156607723, 0.10572163283116565, 0.07670000813241429, 0.008291892771071814, 0.0849919009034861, 0.02072973192767954, 0.06633514216857452, 0.13267028433714903, 0.2010783996984915, 0.03731351746982317, 0.05597027620473475, 0.018656758734911585, 0.2231441200427436, 0.597238674232049, 0.1772026835633552, 0.9916019993164362, 0.9528415939724304, 0.9720705847775121, 0.6253460307173199, 0.026299599422691024, 0.08182097598170542, 0.02922177713632336, 0.0642879096999114, 0.0642879096999114, 0.002922177713632336, 0.008766533140897008, 0.002922177713632336, 0.06136573198627906, 0.0321439548499557, 0.002922177713632336, 0.9774180948577661, 0.2909371447760336, 0.10607083403292893, 0.037124791911525123, 0.0007576488145209209, 0.006061190516167367, 0.06970369093592473, 0.06136955397619459, 0.09546375062963602, 0.057581309903589985, 0.006818839330688288, 0.012880029846855654, 0.0007576488145209209, 0.013637678661376575, 0.22729464435627625, 0.012880029846855654, 0.9739102770411557, 0.993754142945537, 0.521358913123691, 0.091906218659625, 0.008355110787238638, 0.09357724081707273, 0.0016710221574477275, 0.03174942099150682, 0.005013066472343182, 0.01336817725958182, 0.025065332361715913, 0.0852221300298341, 0.041775553936193185, 0.0785380414000432, 0.24552497200052578, 0.09353332266686697, 0.0409208286667543, 0.0409208286667543, 0.5728916013345602, 0.7088359188536693, 0.2805808845462441, 0.9599796130702484, 0.9686022541931527, 0.11380206928735381, 0.872482531203046, 0.8801547035124804, 0.09264786352762952, 0.06194368754810607, 0.11700474314642258, 0.11562821675646466, 0.24364517102255054, 0.008259158339747476, 0.23125643351292932, 0.015141790289537039, 0.038542738918821554, 0.012388737509621214, 0.013765263899579126, 0.030283580579074078, 0.0055061055598316505, 0.004129579169873738, 0.07570895144768519, 0.017894843069452864, 0.006882631949789563, 0.9657367960037422, 0.19661843934099527, 0.08010380862040548, 0.7136521131636124, 0.9315705428018929, 0.9851602054277931, 0.9402035095246317, 0.03482235220461599, 0.21405681816284203, 0.10825862068005804, 0.11440967867324316, 0.03444592476183665, 0.05351420454071051, 0.05228399294207348, 0.020298491377510882, 0.05351420454071051, 0.06212568573116967, 0.04182719435365879, 0.025219337772058977, 0.02275891457478493, 0.017222962380918326, 0.017838068180236838, 0.07381269591822139, 0.015992750782281302, 0.008611481190459163, 0.012917221785688743, 0.012302115986370233, 0.03875166535706623, 0.8192811546832838, 0.16905801604575696, 0.029076920847549294, 0.1570153725767662, 0.11132306838776015, 0.05316922669266157, 0.014123075840238229, 0.2201538292743018, 0.05566153419388008, 0.03904615085242334, 0.08556922420850221, 0.011630768339019718, 0.09969230004874044, 0.014123075840238229, 0.11049229922068732, 0.9706347023092157, 0.9839314406598402, 0.9565706960611121, 0.9436328604016235, 0.057888296500715225, 0.003405193911806778, 0.8751348353343419, 0.057888296500715225, 0.019045166320073543, 0.4154955672685432, 0.03187150282134756, 0.008939567864524316, 0.06568638996106997, 0.078512726462344, 0.09950127710079239, 0.010105598455549227, 0.007773537273499406, 0.045475193049971524, 0.004664122364099643, 0.006218829818799524, 0.011271629046574139, 0.008550891000849346, 0.04353180873159667, 0.02604134986622301, 0.01399236709229893, 0.07073918918884459, 0.0326488565486975, 0.03865939804875263, 0.2383996213006412, 0.2029618397559513, 0.4767992426012824, 0.03865939804875263, 0.12412701770635554, 0.12909209841460975, 0.47168266728415104, 0.049650807082542214, 0.08440637204032177, 0.1390222598311182, 0.9823844555964498, 0.9255198445744629, 0.9764927976711504, 0.14911013894064562, 0.820105764173551, 0.03421173108969322, 0.9237167394217168, 0.045737702676264515, 0.13721310802879355, 0.06860655401439678, 0.042470723913674194, 0.11107727792807097, 0.032669787625903224, 0.10781029916548066, 0.058805617726625806, 0.013067915050361291, 0.37896953646047743, 0.9779213499055357, 0.16048007727778815, 0.03786608564981518, 0.4489835869906657, 0.002704720403558227, 0.02614563056772953, 0.04688182032834261, 0.1235155650958257, 0.04598024686048986, 0.0721258774282194, 0.019834616292760333, 0.014425175485643878, 0.02494751743639722, 0.2697621665649985, 0.13186544930667102, 0.008772753384227594, 0.06744054164124963, 0.02960804267176813, 0.04441206400765219, 0.03810664751273861, 0.004660525235370909, 0.08416360277993347, 0.007950307754456256, 0.017271358225198073, 0.015900615508912513, 0.005208822321885133, 0.05839363971376492, 0.07182691833336342, 0.023302626176854545, 0.04112228148856684, 0.01315913007634139, 0.04194472711833818, 0.08004635882500728, 0.21726868823930548, 0.6975468411893492, 0.9762100955484881, 0.13106424198922037, 0.8519175729299325, 0.004462058479103737, 0.41050938007754384, 0.029747056527358248, 0.0237976452218866, 0.19335586742782862, 0.06841823001292398, 0.18889380894872487, 0.014873528263679124, 0.02528499804825451, 0.010411469784575387, 0.029747056527358248, 0.3699147705907387, 0.05216746764741187, 0.5738421441215306, 0.06183290168061349, 0.9274935252092024, 0.07138562216862923, 0.0860409485741094, 0.2099020943236515, 0.02789239541688162, 0.036401939781353976, 0.02269211830525962, 0.048693503863369604, 0.0028365147881574525, 0.016073583799558897, 0.06713084998639304, 0.16829987743067554, 0.07185837463332213, 0.03167441513442489, 0.03120166266973198, 0.059566810551306505, 0.029310652810960344, 0.01938285105240926, 0.19712631546726417, 0.7753635075045724, 0.013141754364484278, 0.9629205883207395, 0.9822072459870463, 0.028119812055373068, 0.9279537978273114, 0.9889799848361255, 0.9749607566025733, 0.611885333613377, 0.10440900533879052, 0.05827479367746448, 0.04613421166132605, 0.00728434920968306, 0.0024281164032276866, 0.00728434920968306, 0.06798725929037523, 0.0364217460484153, 0.04370609525809836, 0.012140582016138433, 0.924353602800431, 0.07110412329234084, 0.8896454472854243, 0.060201571620818184, 0.0468234445939697, 0.9856714242890574, 0.9601703492030442, 0.13922633591205594, 0.0596684296765954, 0.7955790623546054, 0.9458369333466004, 0.09424215313672081, 0.07605507095244136, 0.02149382439960299, 0.004960113322985306, 0.2744596038718536, 0.0016533711076617687, 0.04794776212219129, 0.016533711076617687, 0.07605507095244136, 0.04794776212219129, 0.09093541092139727, 0.02149382439960299, 0.2265118417496623, 0.9514833841157867, 0.09964617116413506, 0.8843597690816987, 0.8947063880177336, 0.02556303965764953, 0.05112607931529906, 0.027503855967806145, 0.05875823774940404, 0.01687736616206286, 0.21315488375049763, 0.1006391093367452, 0.09001261953100193, 0.0025003505425278314, 0.030004206510333975, 0.10751507332869674, 0.06438402647009166, 0.009376314534479367, 0.0281289436034381, 0.003125438178159789, 0.02250315488275048, 0.01687736616206286, 0.04250595922297313, 0.16627331107810078, 0.94962505958398, 0.05477820106319415, 0.020541825398697807, 0.7463529894860204, 0.020541825398697807, 0.020541825398697807, 0.05477820106319415, 0.07532002646189195, 0.9299517220352149, 0.11964653513413055, 0.86145505296574, 0.7488546432337423, 0.07040513739804415, 0.17281260997701747, 0.9874296333095106, 0.9564727660061633, 0.9617211113717758, 0.9701198412988389, 0.07343507066359516, 0.2125752045525123, 0.07536757252316345, 0.4464079295602758, 0.08889508554014151, 0.0599075576466171, 0.04251504091050246, 0.9294698309150786, 0.31734450936014386, 0.22667464954295988, 0.32558722388897876, 0.04327425127638325, 0.08448782392055777, 0.011863483929326436, 0.042181276193160665, 0.07777172798113997, 0.08040805774321251, 0.10545319048290165, 0.08436255238632133, 0.03822678155005185, 0.06459007917077726, 0.04349944107419693, 0.01581797857243525, 0.09622603631564776, 0.023726967858652873, 0.03954494643108812, 0.003954494643108812, 0.03690861666901558, 0.0013181648810362708, 0.1252256636984457, 0.06590824405181353, 0.04086311131212439, 0.011882094073690555, 0.08317465851583387, 0.7366898325688144, 0.04752837629476222, 0.08317465851583387, 0.03564628222107166, 0.9679595883049101, 0.97117629469345, 0.9030326543875685, 0.09030326543875684, 0.96376711229865, 0.9642004258217909, 0.9779424770092197, 0.04925245050713572, 0.06566993400951429, 0.08208741751189287, 0.7716217246117929, 0.07701099183479926, 0.8984615714059913, 0.93745211741797, 0.09190121335476355, 0.08615738752009082, 0.07466973585074538, 0.03063373778492118, 0.026804520561806034, 0.36377563619593906, 0.1474248630899332, 0.005743825834672722, 0.06892591001607266, 0.03063373778492118, 0.03446295500803633, 0.017231477504018166, 0.021060694727133313, 0.8749884465231096, 0.08749884465231096, 0.9299804747819425, 0.0588595237203761, 0.0043743054119346324, 0.0010935763529836581, 0.12466770424013701, 0.12904200965207163, 0.04374305411934632, 0.4166525904867737, 0.015310068941771213, 0.09623471906256191, 0.0010935763529836581, 0.0010935763529836581, 0.018590798000722185, 0.014216492588787554, 0.13450989141698994, 0.11543155070898527, 0.7849345448210998, 0.09234524056718822, 0.22434656251059606, 0.13750273186133308, 0.12302876008645591, 0.014473971774877166, 0.03618492943719292, 0.4631670967960693, 0.9625170475506692, 0.04041618881614665, 0.9457388182978317, 0.9331305641961811, 0.0035883683441256284, 0.03947205178538191, 0.47366462142458293, 0.05382552516188443, 0.07176736688251256, 0.15788820714152765, 0.0035883683441256284, 0.014353473376502513, 0.014353473376502513, 0.0035883683441256284, 0.0897092086031407, 0.0035883683441256284, 0.06817899853838694, 0.9693844603147054, 0.8491200514757432, 0.1395813783247797, 0.9486283390214911, 0.9582382492191044, 0.03884749658996369, 0.004216992144550787, 0.8841626863074818, 0.05200956978279305, 0.05763222597552743, 0.10720082704940753, 0.558572730415334, 0.008463223188111121, 0.04231611594055561, 0.10437975265337049, 0.04795826473262969, 0.1325904966137409, 0.2832107140479209, 0.03245122765132427, 0.002950111604665843, 0.03245122765132427, 0.03835145086065596, 0.18290691948928225, 0.40121517823455466, 0.023600892837326744, 0.2018881821065625, 0.1093560986410547, 0.6813726146096485, 0.9769367923569455, 0.9739528515366453, 0.9421556261457776, 0.08878111657340937, 0.9100064448774461, 0.16980755365907657, 0.20436608892032201, 0.08622411953885496, 0.03582147176580926, 0.1034459809647248, 0.04810639958292973, 0.03811771995592523, 0.0104479292650277, 0.03582147176580926, 0.035706659356303454, 0.009988679627004504, 0.02491429286275836, 0.01354786432168427, 0.00516655842776095, 0.04225096669813399, 0.06659119751336336, 0.012170115407614682, 0.040758405374558604, 0.005510995656278347, 0.011251616131568292, 0.00898258077132716, 0.06886645258017489, 0.105794840195631, 0.15370193764270917, 0.17765548636624828, 0.03493225855516118, 0.18564000260742797, 0.0009980645301474623, 0.10280064660518862, 0.0009980645301474623, 0.020959355133096706, 0.06188000086914266, 0.05090129103752057, 0.024951613253686555, 0.0011217332859154094, 0.05496493100985506, 0.0011217332859154094, 0.0011217332859154094, 0.11329506187745636, 0.1536774601704111, 0.09983426244647144, 0.07291266358450162, 0.21537279089575861, 0.01906946586056196, 0.08637346301548653, 0.040382398292954744, 0.007852133001407866, 0.0706691970126708, 0.020191199146477372, 0.04374759815070097, 0.2577599502752052, 0.2125389063672745, 0.0753684065132179, 0.034669466996080235, 0.06406314553623521, 0.027886310409890622, 0.010551576911850507, 0.01507368130264358, 0.06255577740597086, 0.06330946147110304, 0.018088417563172296, 0.02336420601909755, 0.01658104943290794, 0.01507368130264358, 0.001507368130264358, 0.05426525268951689, 0.04748209610332728, 0.9728316917869616, 0.9916750082913922, 0.9582044562619655, 0.9741642117141884, 0.9778050358250884, 0.9489825079081653, 0.971472963576659, 0.9747734191123546, 0.9586137539585639, 0.04399903160348624, 0.054998789504357805, 0.03899914164854462, 0.11099755699970393, 0.004999889954941618, 0.14299685271133028, 0.06199863544127607, 0.09799784311685572, 0.08099821727005421, 0.11599744695464555, 0.05099887754040451, 0.028999361738661387, 0.052998833522381154, 0.0019999559819766474, 0.0009999779909883237, 0.0169996258468015, 0.07099843736017099, 0.02199951580174312, 0.09617882775284045, 0.6058160644661674, 0.03758712808731696, 0.0022110075345480565, 0.017688060276384452, 0.03648162432004293, 0.02542658664730265, 0.009949533905466254, 0.007738526370918197, 0.038692631854590986, 0.032059609250946815, 0.035376120552768904, 0.0011055037672740283, 0.04422015069096113, 0.009949533905466254, 0.9755538634147503, 0.048742141248428725, 0.8634322164007374, 0.006963163035489818, 0.048742141248428725, 0.03481581517744909, 0.9696487248982081, 0.9661166622602558, 0.9412196205513313, 0.1270847420845515, 0.8532832682819886, 0.15761338708872114, 0.05993200397941495, 0.1167506571027564, 0.13465242452517906, 0.02335013142055128, 0.054872808838295505, 0.05370530226726794, 0.07510958940277328, 0.06187784826446089, 0.02373930027756047, 0.038138547986900424, 0.0323010151317626, 0.022960962563542093, 0.020236780564477776, 0.015955923137376708, 0.048256938269139314, 0.0066158705691561955, 0.02568514456260641, 0.020236780564477776, 0.00778337714018376, 0.039806895936879846, 0.019903447968439923, 0.15126620456014342, 0.07961379187375969, 0.11942068781063954, 0.11145930862326357, 0.04776827512425582, 0.1313627565917035, 0.30253240912028684, 0.022551756437697315, 0.14175389760838314, 0.14175389760838314, 0.04188183338429501, 0.4252616928251494, 0.012886717964398466, 0.006443358982199233, 0.10309374371518773, 0.0966503847329885, 0.006443358982199233, 0.9592475708873232, 0.06539744189321631, 0.01525940310841714, 0.013079488378643263, 0.18747266676055344, 0.07847693027185958, 0.05013803878479917, 0.31172780635766445, 0.2506901939239959, 0.013079488378643263, 0.010899573648869386, 0.007124358651510891, 0.2228341067111462, 0.20047153649945926, 0.05462008299491684, 0.0041558758800480195, 0.06372343016073631, 0.10726117747552509, 0.0207793794002401, 0.0476936231948368, 0.03027852426892129, 0.002968482771462871, 0.002374786217170297, 0.02889323230890528, 0.03008062541749043, 0.026518446091734985, 0.036809186366139605, 0.04848521860056023, 0.016227705817330365, 0.009499144868681189, 0.03957977028617162, 0.9634935887854204, 0.8377796494498868, 0.13962994157498113, 0.9798135538806994, 0.9806502721753446, 0.1562130458558171, 0.11049215438582186, 0.1440900822084699, 0.07343052266393177, 0.027016890414088102, 0.13473808168051632, 0.027709631193936518, 0.031173335093178583, 0.03498340938234485, 0.024938668074542866, 0.018357630665982942, 0.03325155743272382, 0.015933037936513496, 0.012469334037271433, 0.06338578135612978, 0.03532977977226906, 0.022167704955149213, 0.013854815596968259, 0.00588829662871151, 0.014547556376816671, 0.9839797242580994, 0.9694992381917247, 0.9824331583104362, 0.06691306865464917, 0.5549848635473843, 0.0885614143958592, 0.001968031431019093, 0.1161138544301265, 0.08462535153382102, 0.021648345741210027, 0.015744251448152745, 0.03542456575834368, 0.013776220017133653, 0.9352700682677572, 0.9633493790622409, 0.9386770674135102, 0.02607436298370862, 0.0175114299735381, 0.14259307264166737, 0.11257347840131635, 0.050032657067251705, 0.4678053435788035, 0.02751796138698844, 0.02751796138698844, 0.03252122709371361, 0.012508164266812926, 0.09256041557441566, 0.0175114299735381, 0.0488469827540339, 0.7913211206153492, 0.08792456895726103, 0.058616379304840684, 0.4349918656322465, 0.004393857228608551, 0.011716952609622801, 0.0073230953810142505, 0.09812947810559096, 0.15085576484889357, 0.06297862027672256, 0.049797048590896904, 0.013181571685825651, 0.08934176364837386, 0.020504667066839902, 0.042473953209882655, 0.014646190762028501, 0.9434852497157524, 0.196641037368766, 0.06554701245625534, 0.03277350622812767, 0.6991681328667236, 0.9714137809964548, 0.8333974933382035, 0.05319558468116192, 0.05319558468116192, 0.05319558468116192, 0.9950327292964174, 0.7748053037066815, 0.1874528960580681, 0.012496859737204541, 0.024993719474409083, 0.9598978201742355, 0.8989376375488182, 0.0364434177384656, 0.060739029564109336, 0.17855466833400704, 0.8087476153952083, 0.9580923981729498, 0.02228121856216162, 0.9686760575762382, 0.10452399866170031, 0.05569526935988411, 0.16327106360294794, 0.032043853604316885, 0.07095424726670167, 0.08316142959215572, 0.11367938540579085, 0.012207182325454051, 0.057984116045906746, 0.028229109127612492, 0.023651415755567225, 0.03128090470897601, 0.02517731354624898, 0.018310773488181078, 0.11367938540579085, 0.013733080116135808, 0.0350956491856804, 0.013733080116135808, 0.003051795581363513, 0.0007629488953408782, 0.7832599824563353, 0.09324523600670659, 0.1118942832080479, 0.9548377902113376, 0.9762306568099748, 0.0187736664771149, 0.21288256384274837, 0.7547654536242896, 0.9488080746973674, 0.913903369981215, 0.06687097829130842, 0.9756118586558139, 0.9779266263909088, 0.07668935794493205, 0.05751701845869903, 0.8435829373942525, 0.9657634069653079, 0.965391682908341, 0.9484605339146518, 0.9378974698647394, 0.026797070567563985, 0.9800319646154296, 0.9306037779140529, 0.9559617256807674, 0.9628109334347157, 0.980643168763634, 0.3505390740602393, 0.003065939423267399, 0.09095620289026618, 0.018395636539604396, 0.10015402116006837, 0.09504412212128938, 0.022483555770627595, 0.027593454809406594, 0.025549495193894992, 0.12263757693069596, 0.03168137404042979, 0.026571475001650795, 0.009197818269802198, 0.0051098990387789985, 0.016351676924092794, 0.016351676924092794, 0.015329697116336995, 0.015329697116336995, 0.009197818269802198, 0.04679769745698416, 0.2596651000489298, 0.09069642250512859, 0.07288844913654169, 0.05590875359905187, 0.083241922025255, 0.0716460323898961, 0.052181503359115075, 0.016979695537489826, 0.010767611804261841, 0.0053838059021309205, 0.04265630830149883, 0.0016565556621941295, 0.00869691722651918, 0.05839358709234306, 0.05590875359905187, 0.014909000959747166, 0.03313111324388259, 0.00041413891554853237, 0.01739383445303836, 0.9637180242320328, 0.2204927254659918, 0.018374393788832648, 0.036748787577665296, 0.007067074534166403, 0.07632440496899716, 0.06360367080749763, 0.15547563975166087, 0.16254271428582728, 0.14699515031066118, 0.03816220248449858, 0.01978780869566593, 0.0438158621118317, 0.011307319254666246, 0.16607781745294012, 0.020759727181617515, 0.11269566184306651, 0.008897025934978936, 0.10676431121974722, 0.32029293365924166, 0.07117620747983149, 0.0029656753116596452, 0.04151945436323503, 0.07117620747983149, 0.07414188279149113, 0.9861334851198593, 0.02135936828480532, 0.9611715728162393, 0.9737869858828352, 0.9514593198280411, 0.037385605695517826, 0.1205580767934114, 0.06931039258157799, 0.07603140034706433, 0.0273040940472883, 0.08947341587803703, 0.11173675410121058, 0.049567432270461835, 0.058388754962662666, 0.015962393443030083, 0.019742960311116154, 0.03234484987140306, 0.02562384210591671, 0.0953542976728376, 0.04452667644634707, 0.02394359016454512, 0.026043905091259607, 0.040746109578261, 0.0004200629853428969, 0.03528529076880334, 0.00205058460211851, 0.05741636885931827, 0.45317919706819065, 0.006151753806355529, 0.024607015225422114, 0.09842806090168846, 0.01640467681694808, 0.020505846021185097, 0.0430622766444887, 0.024607015225422114, 0.1476420913525327, 0.05741636885931827, 0.0430622766444887, 0.006151753806355529, 0.06896444657148663, 0.44561642400037516, 0.16445368028585272, 0.051281255142900314, 0.07073276571434527, 0.0017683191428586316, 0.010609914857151789, 0.06896444657148663, 0.07780604228577978, 0.030061425428596737, 0.007073276571434526, 0.9596184539516508, 0.8484256835675299, 0.08701801882743897, 0.043509009413719484, 0.9737551098783273, 0.9451058814758314, 0.9471645105059131, 0.07264930584865888, 0.8960081054667929, 0.9507508612875892, 0.7644149636533096, 0.040232366508068926, 0.09387552185216083, 0.020116183254034463, 0.08046473301613785, 0.009802966082533303, 0.9802966082533303, 0.07721550456102173, 0.11582325684153259, 0.03860775228051087, 0.7335472933297064, 0.9495127578094293, 0.02260744661451022, 0.9779689020572165, 0.9478402451188833, 0.9525436572499042, 0.974055805616546, 0.9622466473891222, 0.9840153383143708, 0.9757003442958632, 0.9457603535047374, 0.07106806400713207, 0.014213612801426415, 0.7959623168798793, 0.11370890241141132, 0.9626967735933905, 0.072434664607912, 0.04828977640527467, 0.289738658431648, 0.5674048727619773, 0.1771072111588707, 0.8050327779948668, 0.9844757680533499, 0.027277812426716487, 0.06624611589345433, 0.023380982080042703, 0.12859540144023487, 0.07793660693347568, 0.015587321386695137, 0.01948415173336892, 0.027277812426716487, 0.5884213823477414, 0.027277812426716487, 0.1500404566661967, 0.8252225116640819, 0.9764495700888539, 0.0018071926860810722, 0.02078271588993233, 0.13328046059847906, 0.12966607522631693, 0.013102146974087773, 0.1527077819738506, 0.07861288184452664, 0.12108190996743183, 0.009035963430405362, 0.06234814766979699, 0.019427321375371526, 0.0031625872006418765, 0.10481717579270218, 0.02078271588993233, 0.09532941419077656, 0.034336661035540374, 0.02086133072753414, 0.0027815107636712188, 0.25728974563958773, 0.12655873974704046, 0.1321217612743829, 0.10152514287399948, 0.06675625832810925, 0.09596212134665705, 0.03198737378221902, 0.004172266145506828, 0.02503359687304097, 0.0013907553818356094, 0.04728568298241072, 0.08483607829197218, 0.26779195942172446, 0.14123274572241634, 0.07153346861265243, 0.16507723525996715, 0.19809268231196056, 0.05319155358376719, 0.016507723525996713, 0.07336766011554095, 0.011005149017331142, 0.03593484525275634, 0.01796742262637817, 0.8624362860661521, 0.07186969050551267, 0.08881240233450721, 0.8348365819443677, 0.05328744140070432, 0.9715131440850797, 0.8862392965722502, 0.10339458460009586, 0.9519531747452958, 0.7387338897037514, 0.025473582403577635, 0.0700523516098385, 0.025473582403577635, 0.07642074721073291, 0.05094716480715527, 0.457323712874948, 0.4774997590311957, 0.060528138468743116, 0.39036720954806786, 0.548118342173657, 0.0588224562332705, 0.9431827559592932, 0.942677683377731, 0.04961461491461742, 0.12923303273147113, 0.8529380160277095, 0.9462346784740137, 0.9607868315216914, 0.9848302011502775, 0.979804287147727, 0.8710241483051053, 0.12153825325187516, 0.9383666469440939, 0.05725238498647113, 0.9160381597835381, 0.9935876003045804, 0.9783291309934298, 0.8828394579914169, 0.08407994838013495, 0.9489556466024693, 0.8663596983138532, 0.017680810169670474, 0.053042430509011425, 0.053042430509011425, 0.8584679969796216, 0.09811062822624247, 0.9737534231786384, 0.9645420853994072, 0.08149647605718914, 0.09971723289924363, 0.07619589224859147, 0.09905465992316892, 0.011926313569344753, 0.15802365479381797, 0.04372981642093076, 0.05300583808597668, 0.0659260111194335, 0.04770525427737901, 0.03776665963625838, 0.06791373004765762, 0.011263740593270044, 0.010269881129157981, 0.009938594641120627, 0.005631870296635022, 0.0009938594641120627, 0.06923887599980703, 0.02418391362672686, 0.027165492019063046, 0.07748210417712245, 0.07493574394594942, 0.22189710585936476, 0.020007116102073872, 0.000363765747310434, 0.19606973780032394, 0.019279584607453003, 0.04292435818263121, 0.026554899553661682, 0.08948637383836677, 0.025827368059040817, 0.004728954715035642, 0.020370881849384306, 0.040014232204147744, 0.012368035408554757, 0.017824521618211266, 0.02364477357517821, 0.027646196795592985, 0.02728243104828255, 0.03164762001600776, 0.02868025935484803, 0.946448558709985, 0.03562253040132962, 0.08651185954608621, 0.0033926219429837733, 0.7836956688292517, 0.0067852438859675466, 0.0016963109714918866, 0.0016963109714918866, 0.023748353600886413, 0.04580039623028094, 0.011874176800443207, 0.05205045281940071, 0.47013312223974835, 0.17462087397476367, 0.25521512350157766, 0.04701331222397483, 0.1521071940293007, 0.13762079459793874, 0.6591311741269698, 0.04345919829408591, 0.9350101944737873, 0.10506110230625278, 0.15281614880909494, 0.725876706843201, 0.06081059605820912, 0.05726331128814692, 0.13023602655799787, 0.042567417240746384, 0.10388476826610725, 0.03344582783201502, 0.09273615898876891, 0.025844503324738876, 0.03952688743783593, 0.05929033115675389, 0.13581033119666702, 0.011148609277338338, 0.051182251682326006, 0.04966198678087078, 0.005574304638669169, 0.008614834441579625, 0.06435788082827132, 0.018749933784614477, 0.010135099343034854, 0.9392346077927379, 0.0015584914587228164, 0.2103963469275802, 0.14649819711994475, 0.00857170302297549, 0.10247081341102518, 0.10870477924591644, 0.031169829174456327, 0.032728320633179146, 0.043248137979558156, 0.013247177399143939, 0.005065097240849153, 0.13169252826207797, 0.020260388963396613, 0.04013115506211252, 0.014416045993186051, 0.013636800263824644, 0.07714532720677941, 0.02798012577685394, 0.17720746325340828, 0.6155627670907867, 0.05596025155370788, 0.02798012577685394, 0.02798012577685394, 0.037306834369138585, 0.02798012577685394, 0.9722316064007456, 0.9891999930007133, 0.03678203452994759, 0.9563328977786373, 0.01131346123635996, 0.37560691304715066, 0.6109269067634379, 0.04372255256886914, 0.03226130092460247, 0.12734724049185187, 0.07640834429511112, 0.04329806176722963, 0.06622056505576297, 0.08786959593937778, 0.02249801248689383, 0.02122454008197531, 0.0004244908016395062, 0.05985320303117037, 0.027167411304928397, 0.11036760842627161, 0.029289865313125926, 0.08447366952626173, 0.08065325231150618, 0.013583705652464199, 0.04202458936231111, 0.012310233247545679, 0.01910208607377778, 0.11061853277597913, 0.0645274774526545, 0.1935824323579635, 0.07374568851731943, 0.5530926638798956, 0.1536919060161164, 0.8260939948366256, 0.00895384777555866, 0.1656461838478352, 0.02686154332667598, 0.20593849883784918, 0.06267693442891062, 0.501415475431285, 0.01790769555111732, 0.9763548923345087, 0.13738366700718146, 0.7937722982637152, 0.06105940755874732, 0.07894246875309611, 0.035085541668042716, 0.1227993958381495, 0.7543391458629184, 0.13145532581177455, 0.17279640000699692, 0.16211275161946756, 0.037160516130536975, 0.01486420645221479, 0.1142685871014012, 0.03576699677564184, 0.045521632259907796, 0.037160516130536975, 0.047844164518066355, 0.0534182419376469, 0.006503090322843971, 0.01718673871037335, 0.0009290129032634243, 0.05295373548601519, 0.002787038709790273, 0.013006180645687941, 0.016257725807109925, 0.009290129032634244, 0.029263906452797868, 0.17583905807692357, 0.026943081479528612, 0.16733071655707243, 0.009926398439826331, 0.00425417075992557, 0.2410696763957823, 0.09217369979838735, 0.00283611383995038, 0.09075564287841216, 0.00141805691997519, 0.12195289511786635, 0.04821393527915646, 0.01843473995967747, 0.06365168118228161, 0.6152995847620556, 0.1131585443240562, 0.14852058942532376, 0.04950686314177458, 0.008409170587448207, 0.10819799489183358, 0.06727336469958566, 0.18892603253133639, 0.3761702309451831, 0.05045502352468924, 0.06110663960212363, 0.03700035058477211, 0.049894412152192695, 0.0381215733297652, 0.012333450194924036, 0.0016818341174896414, 0.006697265505301312, 0.22547460534514419, 0.08706445156891705, 0.10938866991992144, 0.029021483856305687, 0.037951171196707434, 0.015626952845703063, 0.06474023321791268, 0.23663671452064636, 0.049113280372209626, 0.013394531010602624, 0.002232421835100437, 0.037951171196707434, 0.08259960789871619, 0.9862275950808367, 0.1499389761768062, 0.1385642952254623, 0.07031620951739877, 0.01861311428401732, 0.20060800950552002, 0.024817485712023094, 0.0072384333326734026, 0.02068123809335258, 0.16544990474682064, 0.008272495237341032, 0.017579052379349692, 0.0072384333326734026, 0.08789526189674846, 0.004136247618670516, 0.04136247618670516, 0.017579052379349692, 0.017579052379349692, 0.007192670393727728, 0.29489948614283684, 0.5394502795295796, 0.15104607826828229, 0.9699956855031542, 0.7776121262228681, 0.09238955955123186, 0.04619477977561593, 0.038495649813013275, 0.0076991299626026554, 0.030796519850410622, 0.13241165124605614, 0.8386071245583556, 0.9370308055162625, 0.007033113516927742, 0.06329802165234967, 0.3868212434310258, 0.007033113516927742, 0.4817682759095503, 0.04923179461849419, 0.9533515403313222, 0.948459437002805, 0.9418442033703551, 0.9818259871968319, 0.9084507943579541, 0.0418794705740342, 0.09306549016452044, 0.06979911762339033, 0.07910566663984238, 0.10237203918097249, 0.5165134704130885, 0.07910566663984238, 0.02326637254113011, 0.9452854422171076, 0.11542357191070701, 0.1269659291017777, 0.07848802889928076, 0.01615930006749898, 0.28855892977676756, 0.01846777150571312, 0.08079650033749491, 0.030010128696783822, 0.01846777150571312, 0.06694567170821007, 0.006925414314642421, 0.0230847143821414, 0.07617955746106662, 0.0230847143821414, 0.027701657258569684, 0.10381411502180297, 0.08050890552711251, 0.25211999362437865, 0.07839025011850428, 0.3940699060011297, 0.03389848653773159, 0.004237310817216448, 0.010593277043041121, 0.016949243268865793, 0.002118655408608224, 0.006355966225824672, 0.019067898677474018, 0.09176523853608864, 0.04588261926804432, 0.7226512534716981, 0.06882392890206648, 0.06882392890206648, 0.7032969553441222, 0.29386586397007924, 0.951710077197897, 0.03776826969911648, 0.9442067424779119, 0.06523915797729106, 0.8807286326934293, 0.20442546714885532, 0.1734519115202409, 0.037168266754337334, 0.018584133377168667, 0.006194711125722888, 0.47699275668066243, 0.07433653350867467, 0.9855655857791602, 0.8173621668894175, 0.10379202119230699, 0.06487001324519187, 0.9851070243850344, 0.9713954172419045, 0.8879003404480835, 0.10147432462263813, 0.9758350631338018, 0.9734258766054674, 0.9927196445899065, 0.9389390467626612, 0.9465304912425898, 0.9551943371946722, 0.8983565992989443, 0.04083439087722474, 0.02041719543861237, 0.02041719543861237, 0.0446088487457465, 0.8364159139827468, 0.10594601577114793, 0.011152212186436625, 0.958762170758741, 0.051761933499952666, 0.7557242290993089, 0.17599057389983905, 0.9551549966945645, 0.9502781200045591, 0.5872135687840394, 0.002038936002722359, 0.012233616016334154, 0.05709020807622605, 0.13049190417423098, 0.055051272073503695, 0.061168080081670774, 0.08767424811706144, 0.006116808008167077, 0.96325825795848, 0.7038898926470158, 0.121360326318451, 0.04045344210615033, 0.08495222842291571, 0.016181376842460134, 0.0242720652636902, 0.004045344210615033, 0.12020476150027336, 0.005366283995547918, 0.05366283995547918, 0.3327096077239709, 0.008586054392876668, 0.12127801829938295, 0.12020476150027336, 0.019318622383972504, 0.1438164110806842, 0.04722329916082168, 0.02683141997773959, 0.0010732567991095835, 0.034456164326857726, 0.016214665565580103, 0.14593199009022095, 0.10134165978487565, 0.002026833195697513, 0.030402497935462697, 0.25132731626649163, 0.05269766308813534, 0.02634883154406767, 0.006080499587092539, 0.2168711519396339, 0.11147582576336322, 0.028638068143926276, 0.11137026500415775, 0.03500208328702101, 0.10500624986106302, 0.31660975336896274, 0.07000416657404201, 0.025456060572378914, 0.012728030286189457, 0.19251145807861553, 0.08432320064600515, 0.017501041643510504, 0.9763045387735243, 0.09209778251932416, 0.11829801375326983, 0.1095646033419546, 0.023818392030859697, 0.028582070437031634, 0.13576483457590027, 0.05398835526994864, 0.04128521285349014, 0.09924330012858207, 0.0007939464010286566, 0.024612338431888352, 0.012703142416458505, 0.05637019447303462, 0.08812805051418088, 0.010321303213372535, 0.03493364164526089, 0.05160651606686267, 0.0023818392030859697, 0.01349708881748716, 0.17548465268698307, 0.742435069060313, 0.06749409718730118, 0.0029284429909271115, 0.05564041682761512, 0.20791945235582493, 0.0629615243049329, 0.05271197383668801, 0.005856885981854223, 0.016106436450099116, 0.03221287290019823, 0.11567349814162091, 0.09224595421420402, 0.07613951776410491, 0.026355986918344006, 0.01024955046824489, 0.046855087854833784, 0.013177993459172003, 0.03660553738658889, 0.14495792805089203, 0.862071565506836, 0.08132750617989018, 0.04879650370793411, 0.8803359016097415, 0.09939276308497082, 0.09704973420777054, 0.04196745263038726, 0.20196836578373867, 0.007868897368197611, 0.015737794736395222, 0.11016456315476655, 0.11016456315476655, 0.0026229657893992037, 0.3567233473582917, 0.05245931578798407, 0.3162405844346235, 0.2727710882924072, 0.018474535860441923, 0.003260212210666221, 0.013040848842664885, 0.058683819791991984, 0.1554034487084232, 0.03803580912443925, 0.013040848842664885, 0.03260212210666221, 0.07824509305598931, 0.9697441497009398, 0.9401749655728925, 0.9479228519520074, 0.9318015803094719, 0.03327862786819542, 0.9674004539675939, 0.02782363650917056, 0.946003641311799, 0.026809723820144314, 0.0365587143001968, 0.021935228580118076, 0.2997814572616137, 0.007311742860039359, 0.06580568574035423, 0.09017816194048542, 0.12186238100065598, 0.019497980960104955, 0.024372476200131197, 0.23397577152125948, 0.051182200020275515, 0.9633881866247902, 0.9691036628796347, 0.9841463647815919, 0.961562560498552, 0.9827526787431295, 0.010341802457556636, 0.10548638506707768, 0.03723048884720389, 0.05791409376231716, 0.006205081474533981, 0.08066605916894176, 0.1220332689991683, 0.006205081474533981, 0.004136720983022655, 0.024820325898135924, 0.018615244423601945, 0.07859769867743042, 0.20269932816811007, 0.19442588620206475, 0.04964065179627185, 0.8471587080518979, 0.14347042636362786, 0.039632892620371944, 0.007926578524074388, 0.08719236376481827, 0.08058688166142296, 0.003963289262037194, 0.13078854564722742, 0.10436661723364611, 0.018495349889506907, 0.04623837472376727, 0.026421928413581295, 0.026421928413581295, 0.026421928413581295, 0.042275085461730075, 0.08322907450278108, 0.0013210964206790648, 0.0488805675651254, 0.22458639151544102, 0.0423128662772699, 0.7087405101442708, 0.1269385988318097, 0.11636038226249222, 0.964234846847553, 0.9698351804131916, 0.9641739313419383, 0.9796781053754071, 0.9454003087083555, 0.3916533915290997, 0.6037989786073621, 0.6325231091883107, 0.1432127794388628, 0.2028847708717223, 0.9412186409735332, 0.030361891644307522, 0.11277963760630132, 0.07815431027103337, 0.17547621245980435, 0.039077155135516684, 0.014221116584127908, 0.025968995501450962, 0.07778332462101264, 0.04526024930252882, 0.03746955065209353, 0.07456811565416634, 0.04921742956941658, 0.06591178382034935, 0.0767940295542907, 0.029802513884998483, 0.019662239451098584, 0.0025968995501450963, 0.0286895569349363, 0.013355483400746208, 0.019538577567758342, 0.013726469050766937, 0.8010764225786126, 0.07193339304787541, 0.06866369336388108, 0.05231519494390939, 0.9439133535207905, 0.9329512814605865, 0.9770989135359868, 0.06733926915213688, 0.03527295050826217, 0.15712496135498605, 0.32707645016752196, 0.05771937355897447, 0.04809947796581206, 0.028859686779487234, 0.022446423050712292, 0.006413263728774941, 0.10261221966039906, 0.13788517016866123, 0.187124386286078, 0.01688340327393185, 0.02673205518372543, 0.14772977864690368, 0.07456836445986567, 0.01406950272827654, 0.10270736991641875, 0.01406950272827654, 0.01406950272827654, 0.022511204365242468, 0.025325104910897775, 0.2307398447437353, 0.025325104910897775, 0.05065020982179555, 0.04642935900331259, 0.06912662535997009, 0.012801226918512982, 0.2701058879806239, 0.06912662535997009, 0.02048196306962077, 0.05376515305775452, 0.15873521378956096, 0.024322331145174663, 0.029442821912579856, 0.011521104226661683, 0.02688257652887726, 0.04224404883109284, 0.05760552113330841, 0.048644662290349326, 0.05504527574960582, 0.037123558063687646, 0.014081349610364278, 0.6272840576491993, 0.0762913043086864, 0.0190728260771716, 0.036026449256879686, 0.04662246374419724, 0.05086086953912427, 0.08688731879600395, 0.05509927533405129, 0.1252940943161618, 0.0626470471580809, 0.1638461233365193, 0.5108143845197367, 0.07228505441317028, 0.0626470471580809, 0.10393012849617216, 0.11547792055130239, 0.03464337616539072, 0.0923823364410419, 0.13279960863399776, 0.005773896027565119, 0.04619116822052095, 0.4676855782327747, 0.9740934846004583, 0.07664933382432942, 0.1277488897072157, 0.5876448926531922, 0.02554977794144314, 0.08516592647147714, 0.09368251911862485, 0.9274363596338525, 0.056740875812681016, 0.23313098975210245, 0.3416787521763618, 0.009867978402205395, 0.1393851949311512, 0.08387781641874585, 0.08017732451791883, 0.01110147570248107, 0.002466994600551349, 0.04070541090909725, 0.12948139473942366, 0.8488224766251107, 0.9773439846656339, 0.09131160818237653, 0.8850202023830341, 0.021071909580548432, 0.08029321883812837, 0.8631521025098801, 0.040146609419064186, 0.9776883582083696, 0.8347278472833567, 0.10554030253007958, 0.05756743774367978, 0.9594777443291083, 0.07556446276763547, 0.13713550650422732, 0.08955788179867907, 0.005597367612417442, 0.08675919799247035, 0.03358420567450465, 0.12594077127939243, 0.02238947044966977, 0.3442381081636727, 0.002798683806208721, 0.036382889480713373, 0.005597367612417442, 0.03358420567450465, 0.9553590730133475, 0.11495091458131318, 0.044109071874224824, 0.014703023958074941, 0.04143579479093847, 0.2539613229122035, 0.12297074583117223, 0.006683192708215883, 0.02539613229122035, 0.04945562604079753, 0.08688150520680647, 0.05346554166572706, 0.0400991562492953, 0.08955478229009282, 0.002673277083286353, 0.05480218020737024, 0.1135110730293451, 0.07567404868623007, 0.03783702434311503, 0.26485917040180523, 0.5013405725462742, 0.9384006562301233, 0.9920440297916436, 0.17171359999553706, 0.8117370181607207, 0.10399423870630845, 0.04419755145018109, 0.010399423870630845, 0.26518530870108653, 0.02859841564423482, 0.012999279838288556, 0.4159769548252338, 0.05719683128846964, 0.05459697532081193, 0.002599855967657711, 0.16366263519797847, 0.6614698172584963, 0.0750120411324068, 0.027277105866329743, 0.06819276466582436, 0.005773653983494403, 0.034641923900966425, 0.6235546302173955, 0.005773653983494403, 0.05196288585144963, 0.023094615933977613, 0.034641923900966425, 0.12124673365338247, 0.08660480975241605, 0.07944640040388913, 0.36545344185789, 0.058260693629518696, 0.22951182338901305, 0.04943331580686435, 0.028247609032493914, 0.024716657903432176, 0.05649521806498783, 0.017654755645308697, 0.008827377822654348, 0.08121187596842, 0.9784097902428126, 0.07169109943629005, 0.2437497380833862, 0.368697082815206, 0.061449513802534335, 0.04096634253502289, 0.04915961104202747, 0.0737394165630412, 0.04915961104202747, 0.04096634253502289, 0.6815551589053596, 0.0610347903497337, 0.03560362770401132, 0.08137972046631159, 0.020344930116577897, 0.03560362770401132, 0.020344930116577897, 0.0610347903497337, 0.9739521678799337, 0.22139624055578236, 0.4981415412505103, 0.20755897552104596, 0.05534906013894559, 0.013837265034736397, 0.004612421678245466, 0.9384502741880543, 0.03609424131492516, 0.9568242015933511, 0.028680216712556075, 0.04302032506883411, 0.15296115580029906, 0.014340108356278037, 0.10994083073146495, 0.019120144475037383, 0.009560072237518692, 0.023900180593796727, 0.2294417337004486, 0.37284281726322893, 0.9592067986976969, 0.9698673523984068, 0.8705905380320692, 0.05803936920213795, 0.9661846286908589, 0.030565694860932385, 0.26914792419209904, 0.09226311596911071, 0.039622197041949386, 0.07641423715233096, 0.09820644552540313, 0.04528251090508502, 0.020377129907288256, 0.03905616565563583, 0.013584753271525505, 0.010188564953644128, 0.010471580646800911, 0.004528251090508501, 0.009905549260487347, 0.09820644552540313, 0.017263957282563663, 0.014999831737309411, 0.02518839669095354, 0.025471412384110322, 0.0591502798697673, 0.11378278085506825, 0.08520098183645063, 0.0767625459357159, 0.05226386106261508, 0.1118773275871604, 0.05171944584321284, 0.04899736974620164, 0.02531530770220418, 0.07376826222900358, 0.08030124486183046, 0.02803738379921538, 0.01687687180146945, 0.03838127296785795, 0.021776608776089616, 0.05553035237902852, 0.03674802730965123, 0.017693494630572813, 0.029670629457422104, 0.0008166228291033606, 0.03429815882234115, 0.13792977107302476, 0.02298829517883746, 0.8275786264381486, 0.9403662550604839, 0.9337603759445136, 0.11293878393608149, 0.8712420475069144, 0.9472009416843045, 0.08264246060375957, 0.17092931606834294, 0.1134203872976855, 0.04483566483786441, 0.08147098242509804, 0.051758035893591695, 0.0550594743970924, 0.05697643868944765, 0.023003571508262974, 0.01725267863119723, 0.03514434535984621, 0.05165153787734973, 0.04398368070792874, 0.017998164744890938, 0.04291870054550916, 0.01831765879361681, 0.026411508028005636, 0.022364583410811226, 0.020554117134697937, 0.023536061589472766, 0.8948105354002865, 0.02982701784667622, 0.02982701784667622, 0.09034158971056945, 0.06543661092549355, 0.16114986272696172, 0.02783497628920248, 0.0463916271486708, 0.053716620908987246, 0.057623284247822676, 0.05225162215692396, 0.023928312950367046, 0.06250661342136697, 0.04834495881808852, 0.03711330171893664, 0.011719990016506308, 0.031741639628037915, 0.00927832542973416, 0.014649987520632884, 0.08887659095850617, 0.04590329423131637, 0.020998315446240468, 0.04932162465279738, 0.1334794409856083, 0.001871207116620677, 0.015593392638505642, 0.009979771288643611, 0.1671611690847805, 0.0436614993878158, 0.14158800515763123, 0.01434592122742519, 0.0006237357055402257, 0.10541133423629814, 0.0997977128864361, 0.05800742061524099, 0.01871207116620677, 0.0898179415977925, 0.023701956810528575, 0.016840864049586093, 0.05800742061524099, 0.0006237357055402257, 0.9431931242505992, 0.04056386737094128, 0.9329689495316494, 0.1300326668881723, 0.6201557959282064, 0.15003769256327573, 0.08002010270041372, 0.965294252793801, 0.8160647059338455, 0.15923213774318937, 0.9662764829577324, 0.9712534013379543, 0.9451191920650241, 0.03609528593250446, 0.005347449767778438, 0.3756583461864353, 0.10828585779751337, 0.012031761977501486, 0.022726661513058362, 0.07620115919084275, 0.04946391035195055, 0.013368624419446095, 0.048127047910005945, 0.02138979907111375, 0.022726661513058362, 0.020052936629169144, 0.18849760431418994, 0.9658111034656478, 0.27639867121171163, 0.7107394402586871, 0.7525247749385076, 0.09443448156091076, 0.061972628524347685, 0.08853232646335384, 0.9652271999448074, 0.9299411675525685, 0.9444780782040756, 0.9666700997398332, 0.7828206191284723, 0.06615385513761739, 0.143333352798171, 0.06242452465860432, 0.8115188205618561, 0.11236414438548777, 0.990261793317773, 0.9439809945667719, 0.030649655520058453, 0.7968910435215197, 0.15324827760029225, 0.4490740162588671, 0.017272077548417964, 0.03720139779659254, 0.03188691239707932, 0.05713071804476712, 0.025243805647687797, 0.014614834848661355, 0.025243805647687797, 0.05447347534501051, 0.07440279559318508, 0.03853001914647085, 0.001328621349878305, 0.033215533746957626, 0.014614834848661355, 0.05447347534501051, 0.06510244614403694, 0.00531448539951322, 0.96434859681651, 0.07825726275609649, 0.110069158185404, 0.004453665360103052, 0.4708160523537512, 0.057897649681339675, 0.09098202092781948, 0.005726141177275352, 0.0019087137257584508, 0.0025449516343446013, 0.04708160523537512, 0.05280774641265047, 0.02481327843485986, 0.004453665360103052, 0.04771784314396127, 0.9352953408052416, 0.3522966675378619, 0.49321533455300665, 0.02709974365675861, 0.06503938477622066, 0.05961943604486893, 0.9848436610929294, 0.9517172004085672, 0.9185660544874807, 0.0340209649810178, 0.9877898795688795, 0.9784760431155303, 0.9328893215739532, 0.3745589074967649, 0.09482503987259872, 0.00948250398725987, 0.516796467305663, 0.9628838583118862, 0.9278004231399436, 0.9789383649212569, 0.9651413625976102, 0.16521286095543528, 0.8095430186816328, 0.10232976998806013, 0.8953854873955261, 0.9651440602694059, 0.9911658952928505, 0.9909366377796589, 0.9708944159741228, 0.9715935198473042, 0.004779579463421769, 0.16091250860186623, 0.006372772617895693, 0.10515074819527892, 0.2580972910247755, 0.12267587289449207, 0.04460940832526984, 0.06054133987000908, 0.18321721276450115, 0.0031863863089478463, 0.0015931931544739231, 0.047795794634217695, 0.9694752999746432, 0.13674914719280698, 0.006360425450828232, 0.4229682924800774, 0.06360425450828232, 0.3053004216397551, 0.006360425450828232, 0.012720850901656464, 0.04452297815579762, 0.003180212725414116, 0.07108649419005997, 0.0947819922534133, 0.8293424322173664, 0.6675123892401997, 0.2145575536843499, 0.07747911660823746, 0.035759592280724985, 0.7277931668991485, 0.07950681655200782, 0.0672749986209297, 0.08562272551754689, 0.036695453793234384, 0.42562548649237425, 0.08960536557734194, 0.08320498232181753, 0.056003353485838715, 0.032001916277622125, 0.0032001916277622122, 0.05280316185807651, 0.027201628835978806, 0.022401341394335486, 0.07520450325241199, 0.03840229953314655, 0.03360201209150323, 0.0032001916277622122, 0.012800766511048849, 0.0016000958138811061, 0.025601533022097698, 0.017601053952692167, 0.248717864807795, 0.0029521408285791695, 0.22288663255772728, 0.03394961952866045, 0.07896976716449278, 0.0671612038501761, 0.03394961952866045, 0.02214105621434377, 0.030259443492936487, 0.08339797840736153, 0.008856422485737508, 0.016236774557185432, 0.016236774557185432, 0.06273299260730734, 0.016236774557185432, 0.005904281657158339, 0.02140302100719898, 0.027307302664357318, 0.004658984152843983, 0.20965428687797924, 0.03261288906990788, 0.1397695245853195, 0.11647460382109957, 0.4146495896031145, 0.060566793986971776, 0.01863593661137593, 0.9519888117696869, 0.027000331934647417, 0.8424103563609995, 0.08640106219087174, 0.04320053109543587, 0.1005951512073273, 0.031093046736810258, 0.07681811546741357, 0.11339817045189624, 0.14814922268715475, 0.10425315670577556, 0.01280301924456893, 0.042067063232155054, 0.22496733815456832, 0.007316010996896531, 0.034751052235258525, 0.009145013746120664, 0.038409057733706786, 0.042067063232155054, 0.01280301924456893, 0.954390723371043, 0.06298124981165983, 0.017176704494089045, 0.28055284007012105, 0.04007897715287444, 0.1202369314586233, 0.011451136329392696, 0.005725568164696348, 0.4294176123522261, 0.03435340898817809, 0.9516597777571016, 0.004402084580821562, 0.21570214446025654, 0.7219418712547362, 0.052825014969858745, 0.8709217674130426, 0.06699398210869559, 0.9550939609710407, 0.06991409463796927, 0.9088832302936006, 0.9697059546892387, 0.9807999815641837, 0.8455521125105695, 0.0020301371248753167, 0.08120548499501268, 0.026391782623379118, 0.011165754186814243, 0.03248219399800507, 0.9824201782814785, 0.9684249646036296, 0.13562081593571462, 0.7665524378975174, 0.08844835821894431, 0.6419718473978716, 0.15882116016353592, 0.09027729104032568, 0.07690287755287004, 0.03009243034677523, 0.02018352014464378, 0.9486254467982577, 0.9851600458765624, 0.12429928144805262, 0.08448196287834217, 0.11910571815635126, 0.07496043017688968, 0.08604003186585259, 0.0434528128739014, 0.03306568629049868, 0.04587647574336204, 0.048646376165602766, 0.024755985023776496, 0.04466464430863172, 0.03341192384327877, 0.018696827850124907, 0.018869946626514953, 0.03860548713498013, 0.03704741814746972, 0.03548934915995931, 0.03029578586825795, 0.032892567514108635, 0.025621578905726725, 0.9372990973828741, 0.037491963895314964, 0.9501775762155192, 0.9266418723409524, 0.03088806241136508, 0.9873462645892778, 0.06620317560558697, 0.11585555730977719, 0.8109889011684404, 0.08784008377487793, 0.8784008377487792, 0.9661571196840923, 0.6604649096293238, 0.08969276550521682, 0.17938553101043364, 0.057077214412410704, 0.9599704976684194, 0.02042490420571105, 0.06816408506144632, 0.0211771914754008, 0.006617872336062749, 0.05625191485653337, 0.08669412760242202, 0.0033089361680313746, 0.001985361700818825, 0.0635315744262024, 0.11118025524585419, 0.30839285086052415, 0.0926502127048785, 0.041030808483589046, 0.0370600850819514, 0.00397072340163765, 0.000661787233606275, 0.05625191485653337, 0.041030808483589046, 0.9366683597193899, 0.10472955888740713, 0.8902012505429607, 0.9790144288960274, 0.9343969731660032, 0.031146565772200107, 0.07777756113308683, 0.06913560989607719, 0.025925853711028943, 0.10802439046262059, 0.004320975618504824, 0.047530731803553064, 0.36728292757291003, 0.047530731803553064, 0.017283902474019296, 0.047530731803553064, 0.15123414664766882, 0.03456780494803859, 0.014799418836256184, 0.10852907146587869, 0.22199128254384276, 0.09866279224170789, 0.03453197728459776, 0.43411628586351475, 0.04439825650876855, 0.03453197728459776, 0.004933139612085395, 0.985862098501879, 0.9787833536539089, 0.9690261878313986, 0.0836933906992399, 0.030619533182648744, 0.11635422609406523, 0.025176060616844523, 0.09458033583084835, 0.02041302212176583, 0.07484774777980804, 0.07212601149690594, 0.1721498198935585, 0.10478684689173126, 0.04286734645570824, 0.03742387388990402, 0.014969549555961609, 0.009526076990157386, 0.09185859954794623, 0.010206511060882915, 0.21434553221107683, 0.05321165310135124, 0.051712733295679374, 0.03072785601627325, 0.06295463183821837, 0.005995679222687463, 0.029978396113437316, 0.09443194775732755, 0.14914252066435066, 0.026231096599257653, 0.0007494599028359329, 0.0014989198056718658, 0.0029978396113437317, 0.03072785601627325, 0.21359607230824088, 0.03147731591910918, 0.04168492554995417, 0.8336985109990834, 0.10421231387488543, 0.07171287862747805, 0.266362120616347, 0.06146818168069547, 0.06146818168069547, 0.5224795442859115, 0.019069230939760956, 0.12395000110844621, 0.6706012880482602, 0.073098718602417, 0.04131666703614874, 0.003178205156626826, 0.06356410313253652, 0.1515339857427865, 0.010102265716185768, 0.6465450058358891, 0.1919430486075296, 0.212293835221659, 0.09798177010230416, 0.09990298128078072, 0.0201727173740038, 0.024015139730956904, 0.19212111784765523, 0.046109068283437256, 0.03746361798029277, 0.027857562087910008, 0.04130604033724587, 0.01729090060628897, 0.0403454347480076, 0.02977877326638656, 0.01248787266009759, 0.028818167677148284, 0.04899088505115208, 0.0009606055892382761, 0.010566661481621038, 0.010566661481621038, 0.24438687837944595, 0.026011474679000435, 0.12219343918972297, 0.01875245848951194, 0.011493442300023448, 0.03931967102639601, 0.07984917808437343, 0.03569016293165176, 0.05867704753169866, 0.024801638647419022, 0.05746721150011724, 0.007863934205279201, 0.0387147530106053, 0.022381966584256188, 0.032060654836907516, 0.04839344126325663, 0.05625737546853583, 0.031455736821116805, 0.044763933168512376, 0.3189647466190957, 0.04075868391732876, 0.05758566351622595, 0.010844053519289302, 0.06880364991549075, 0.004113261679730425, 0.0026175301598284524, 0.035523623597671854, 0.0437501469571327, 0.01981844263870114, 0.04861127439681411, 0.01981844263870114, 0.04150654967727974, 0.0007478657599509864, 0.048237341516838624, 0.12825897783159415, 0.03477575783772087, 0.04636767711696115, 0.0011217986399264795, 0.027671033118186496, 0.9160972841259187, 0.0715701003223374, 0.9784938124557202, 0.9364570301055279, 0.037546626207061264, 0.02319056324553784, 0.0011043125355018018, 0.9260763250518844, 0.031933666381099464, 0.9638221180823351, 0.011163962757710446, 0.022327925515420892, 0.024502931519640725, 0.07350879455892217, 0.8821055347070661, 0.9421621235130565, 0.016627530153295683, 0.1390666158275639, 0.022673904754494115, 0.08767243171737724, 0.046859403159287834, 0.5335925585557615, 0.03023187300599215, 0.01813912380359529, 0.057440558711385085, 0.0030231873005992153, 0.0030231873005992153, 0.0408130285580894, 0.0013432494911737882, 0.1611899389408546, 0.22029291655250127, 0.03358123727934471, 0.47282382089317343, 0.020148742367606824, 0.012089245420564094, 0.06313272608516804, 0.010745995929390306, 0.0026864989823475764, 0.9694812675375937, 0.7092520021469065, 0.014185040042938132, 0.08038189357664942, 0.028370080085876263, 0.08983858693860816, 0.023641733404896885, 0.023641733404896885, 0.028370080085876263, 0.11295433714777076, 0.059405614351790544, 0.05187532520860583, 0.046855132446482685, 0.12801491543414018, 0.007530289143184717, 0.027611060191677295, 0.11044424076670918, 0.003346795174748763, 0.04601843365279549, 0.04601843365279549, 0.11881122870358109, 0.008366987936871908, 0.04350833727173392, 0.013387180698995051, 0.02175416863586696, 0.047691831240169874, 0.017570674667431004, 0.046855132446482685, 0.042671638478046725, 0.11714264828129185, 0.02801237241509153, 0.009337457471697177, 0.05984461379587736, 0.1727429632263978, 0.037349829886788706, 0.05942018391080022, 0.05220487586448876, 0.0038198689656943, 0.03268110115094012, 0.05093158620925733, 0.07767066896911742, 0.058146894255568786, 0.0572980344854145, 0.0305589517255544, 0.024192503449397232, 0.015703905747854345, 0.03565211034648013, 0.044989567818177305, 0.03225667126586298, 0.9160307546198162, 0.055517015431504016, 0.9539417482451251, 0.9777217729973761, 0.9732784948299202, 0.9727080652295669, 0.1978710944389534, 0.7980800809037787, 0.9680121199540979, 0.1417435381421811, 0.85409567854904], \"Term\": [\"\\\"action\", \"1 star\", \"10 lines\", \"10 lines\", \"13th\", \"1940s\", \"1940s\", \"1940s\", \"1940s\", \"1940s\", \"1940s\", \"1940s\", \"1940s\", \"2 minutes\", \"2nd\", \"2nd\", \"2nd\", \"2nd\", \"2nd\", \"3\", \"3\", \"3\", \"3 year old\", \"30 minutes\", \"30 minutes\", \"30 minutes\", \"30 minutes\", \"30 minutes\", \"30 minutes\", \"30 minutes\", \"3rd\", \"3rd\", \"3rd\", \"3rd\", \"3rd\", \"40 minutes\", \"40 minutes\", \"5 minutes\", \"5 minutes\", \"5 minutes\", \"5 minutes\", \"5 minutes\", \"5 minutes\", \"5 minutes\", \"50 minutes\", \"90 minute\", \"90 minute\", \"90 minute\", \"90 minutes\", \"90 minutes\", \"90 minutes\", \"90 minutes\", \"90 minutes\", \"90 minutes\", \"abc\", \"abc\", \"abc\", \"absolute worst\", \"academy\", \"achievements\", \"acid\", \"acid\", \"acid\", \"acting\", \"acting\", \"acting\", \"acting\", \"acting\", \"acting\", \"acting\", \"acting\", \"acting\", \"acting\", \"acting\", \"acting\", \"acting\", \"acting\", \"acting\", \"acting\", \"acting\", \"acting\", \"acting\", \"action\", \"action\", \"action\", \"action\", \"action\", \"action\", \"action\", \"action\", \"action\", \"action\", \"action\", \"action\", \"action\", \"action\", \"action\", \"action\", \"action\", \"action\", \"actors\", \"actors\", \"actors\", \"actors\", \"actors\", \"actors\", \"actors\", \"actors\", \"actors\", \"actors\", \"actors\", \"actors\", \"actors\", \"actors\", \"actors\", \"actors\", \"actors\", \"actors\", \"actors\", \"actors\", \"adam sandler\", \"adolf hitler\", \"adult\", \"adult\", \"adult\", \"adults\", \"adults\", \"adventure\", \"adventure\", \"adventure\", \"adventure\", \"adventure\", \"adventure\", \"adventure\", \"adventure\", \"adventure\", \"affair\", \"affair\", \"affair\", \"affair\", \"affair\", \"affair\", \"affair\", \"affair\", \"affair\", \"affair\", \"affair\", \"affect\", \"afghanistan\", \"afghanistan\", \"afternoon\", \"afternoon\", \"afternoon\", \"afternoon\", \"afternoon\", \"age\", \"age\", \"age\", \"age\", \"age\", \"age\", \"age\", \"age\", \"age\", \"age\", \"age\", \"age\", \"age\", \"age\", \"age\", \"ages\", \"ages\", \"ages\", \"ages\", \"ages\", \"ages\", \"ages\", \"ages\", \"air force\", \"air force\", \"air force\", \"airport\", \"airport\", \"airport\", \"airport\", \"airport\", \"akshay kumar\", \"akshay kumar\", \"alain delon\", \"albert brooks\", \"alec guinness\", \"ali g\", \"alien\", \"alien\", \"alien\", \"alien\", \"alien\", \"aliens\", \"aliens\", \"aliens\", \"aliens\", \"aliens\", \"alvin\", \"america\", \"america\", \"america\", \"america\", \"america\", \"america\", \"america\", \"america\", \"america\", \"america\", \"america\", \"america\", \"american\", \"american\", \"american\", \"american\", \"american\", \"american\", \"american\", \"american\", \"american\", \"american\", \"american\", \"american\", \"american\", \"american\", \"american\", \"american\", \"american werewolf\", \"americans\", \"americans\", \"americans\", \"americans\", \"americans\", \"americans\", \"anchorman\", \"andie macdowell\", \"animals\", \"animals\", \"animals\", \"animals\", \"animals\", \"animals\", \"animals\", \"animals\", \"animals\", \"animals\", \"animals\", \"animated\", \"animated\", \"animated\", \"animated movies\", \"animation\", \"animation\", \"animation\", \"anime\", \"anti-american\", \"apartment\", \"apartment\", \"apartment\", \"apartment\", \"apartment\", \"apartment\", \"apartment\", \"apartment\", \"apartment\", \"arabia\", \"arctic\", \"arnie\", \"art\", \"art\", \"art\", \"art\", \"art\", \"art\", \"art\", \"art\", \"art\", \"art\", \"art\", \"art\", \"art\", \"art\", \"arthur\", \"arthur\", \"arthur\", \"astaire\", \"astaire\", \"atlantic\", \"ator\", \"attackers\", \"attenborough\", \"audience\", \"audience\", \"audience\", \"audience\", \"audience\", \"audience\", \"audience\", \"audience\", \"audience\", \"audience\", \"audience\", \"audience\", \"audience\", \"audience\", \"audience\", \"audience\", \"audience\", \"audience\", \"audience\", \"audience\", \"audition\", \"audition\", \"aussie\", \"austen\", \"austen\", \"australia\", \"australia\", \"australia\", \"australia\", \"australia\", \"australia\", \"australia\", \"australia\", \"australia\", \"australia\", \"australia\", \"australian\", \"australian\", \"australian\", \"australian\", \"australians\", \"awareness\", \"awful\", \"awful\", \"awful\", \"awful\", \"awful\", \"axe\", \"axe\", \"axe\", \"axe\", \"bad\", \"bad\", \"bad\", \"bad\", \"bad\", \"bad\", \"bad\", \"bad\", \"bad\", \"bad\", \"bad\", \"bad dialog\", \"bad editing\", \"bad guy\", \"bad guy\", \"bad guy\", \"bad guy\", \"bad guy\", \"bad guy\", \"bad guy\", \"bad guy\", \"bad guy\", \"bad guy\", \"bad guys\", \"bad guys\", \"bad guys\", \"bad guys\", \"bad guys\", \"bad guys\", \"bad guys\", \"bad movies\", \"bad movies\", \"bad reviews\", \"bad reviews\", \"bad story\", \"bakshi\", \"bam margera\", \"band\", \"band\", \"band\", \"band\", \"band\", \"band\", \"band\", \"band\", \"band\", \"barbara stanwyck\", \"barbra streisand\", \"barrymore\", \"basic instinct\", \"basil rathbone\", \"basinger\", \"batman\", \"batman\", \"batman\", \"batman returns\", \"battlestar galactica\", \"bbc\", \"bbc\", \"bbc\", \"bbc\", \"bed\", \"bed\", \"bed\", \"bed\", \"bed\", \"bed\", \"bed\", \"bed\", \"bed\", \"bed\", \"bed\", \"belgian\", \"belushi\", \"ben stiller\", \"bergman\", \"bergman\", \"bergman\", \"berlin\", \"berlin\", \"berlin\", \"berlin\", \"best\", \"best\", \"best\", \"best\", \"best\", \"best\", \"best\", \"best\", \"best\", \"best\", \"best\", \"best\", \"best\", \"best\", \"best\", \"best\", \"best\", \"best movies\", \"best movies\", \"best movies\", \"best movies\", \"best movies\", \"best oscar\", \"best picture\", \"best picture\", \"bethany cox\", \"bethany cox\", \"bethany cox\", \"bette davis\", \"bette davis\", \"bette davis\", \"better director\", \"better luck\", \"betty\", \"betty\", \"betty\", \"betty\", \"betty\", \"bible\", \"bible\", \"bible\", \"bible\", \"bible\", \"big brother\", \"big brother\", \"big disappointment\", \"big disappointment\", \"big thing\", \"biker\", \"billy wilder\", \"billy zane\", \"billy zane\", \"billy zane\", \"bin\", \"bin\", \"bin\", \"bishop\", \"bit\", \"bit\", \"bit\", \"bit\", \"bit\", \"bit\", \"bit\", \"bit\", \"bit\", \"bit\", \"bit\", \"bit\", \"bit\", \"bit\", \"bit\", \"bit\", \"bit\", \"bit\", \"blacks\", \"blacks\", \"blade\", \"blade\", \"blade\", \"blair witch\", \"blaxploitation\", \"blob\", \"blockbuster\", \"blockbuster\", \"blood\", \"blood\", \"blood\", \"blood\", \"blood\", \"blood\", \"boarding school\", \"body\", \"body\", \"body\", \"body\", \"body\", \"body\", \"body\", \"body\", \"body\", \"body\", \"body\", \"body\", \"body\", \"body count\", \"bogart\", \"bogart\", \"bogart\", \"boll\", \"bollywood\", \"bollywood\", \"bollywood\", \"bond\", \"bond\", \"bond\", \"bond\", \"bonnie\", \"bonnie hunt\", \"boogeyman\", \"book\", \"book\", \"book\", \"book\", \"book\", \"book\", \"book\", \"book\", \"book\", \"book\", \"book\", \"book\", \"book\", \"book\", \"book\", \"boris karloff\", \"boxing\", \"boyer\", \"boys\", \"boys\", \"boys\", \"boys\", \"boys\", \"boys\", \"boys\", \"boys\", \"boys\", \"boys\", \"brad pitt\", \"brad pitt\", \"brad pitt\", \"brad pitt\", \"brad pitt\", \"braveheart\", \"braveheart\", \"brazil\", \"brazil\", \"brazil\", \"brazil\", \"brazilian\", \"brazilian\", \"brazilian\", \"brazilian\", \"brenda blethyn\", \"british\", \"british\", \"british\", \"british\", \"british\", \"british\", \"british\", \"british\", \"british\", \"british\", \"british\", \"british industry\", \"british tv\", \"broadway\", \"broadway\", \"broadway\", \"broadway\", \"broadway\", \"broadway\", \"bronson\", \"brooklyn\", \"brooklyn\", \"brooklyn\", \"brooklyn\", \"brooklyn\", \"bruce lee\", \"bsg\", \"bud\", \"bulgaria\", \"bunch\", \"bunch\", \"bunch\", \"bunch\", \"bunch\", \"bunch\", \"bunch\", \"bunch\", \"bunch\", \"bunch\", \"bunch\", \"bunch\", \"bunch\", \"bunch\", \"burt reynolds\", \"burt reynolds\", \"busby berkeley\", \"buster\", \"buster\", \"buster keaton\", \"butterfly effect\", \"cabin\", \"cabin\", \"cabin\", \"cabin fever\", \"cable\", \"cable\", \"cable\", \"cable\", \"cable\", \"cable\", \"cable\", \"cagney\", \"camera\", \"camera\", \"camera\", \"camera\", \"camera\", \"camera\", \"camera\", \"camera\", \"camera\", \"camera\", \"camera\", \"camera\", \"camera\", \"camera\", \"camera\", \"camera\", \"camera-work\", \"camera-work\", \"camera-work\", \"camera-work\", \"camera-work\", \"camp blood\", \"cannibal\", \"caper\", \"car\", \"car\", \"car\", \"car\", \"car\", \"car\", \"car\", \"car\", \"car\", \"car\", \"car\", \"car\", \"car\", \"car\", \"career\", \"career\", \"career\", \"career\", \"career\", \"career\", \"career\", \"career\", \"career\", \"career\", \"career\", \"career\", \"career\", \"career\", \"career\", \"carell\", \"carly\", \"carpenter\", \"carpenter\", \"carpenter\", \"carpenter\", \"carradine\", \"carrey\", \"cartoon network\", \"cary grant\", \"cary grant\", \"cary grant\", \"case\", \"case\", \"case\", \"case\", \"case\", \"case\", \"case\", \"case\", \"case\", \"case\", \"case\", \"case\", \"case\", \"case\", \"case\", \"case\", \"case\", \"case\", \"case\", \"case\", \"cast\", \"cast\", \"cast\", \"cast\", \"cast\", \"cast\", \"cast\", \"cast\", \"cast\", \"cast\", \"cast\", \"cast\", \"cast\", \"cast\", \"cast\", \"cast\", \"cast\", \"cast\", \"cecil b. demille\", \"cerebral palsy\", \"cg\", \"chairman\", \"chaplin\", \"chaplin\", \"chaplin\", \"chaplin\", \"chaplin\", \"chaplin\", \"character\", \"character\", \"character\", \"character\", \"character\", \"character\", \"character\", \"character\", \"character\", \"character\", \"character\", \"character\", \"character\", \"character\", \"character\", \"character\", \"character\", \"character\", \"character\", \"character\", \"character development\", \"character development\", \"character development\", \"character development\", \"character development\", \"character development\", \"character development\", \"character development\", \"characters\", \"characters\", \"characters\", \"characters\", \"characters\", \"characters\", \"characters\", \"characters\", \"characters\", \"characters\", \"characters\", \"characters\", \"characters\", \"characters\", \"characters\", \"characters\", \"characters\", \"characters\", \"characters\", \"characters\", \"charles dickens\", \"charles dickens\", \"charlize theron\", \"charlotte gainsbourg\", \"cheadle\", \"chemistry\", \"chemistry\", \"chemistry\", \"chemistry\", \"chemistry\", \"chemistry\", \"chemistry\", \"chemistry\", \"chemistry\", \"chemistry\", \"chevy chase\", \"chevy chase\", \"child\", \"child\", \"child\", \"child\", \"child\", \"child\", \"child\", \"child\", \"child\", \"child\", \"child\", \"child\", \"child\", \"child\", \"child\", \"children\", \"children\", \"children\", \"children\", \"children\", \"children\", \"children\", \"children\", \"children\", \"childs play\", \"chinese\", \"chinese\", \"chinese\", \"chinese\", \"chinese\", \"chinese\", \"chinese\", \"chinese\", \"chris farley\", \"chris rock\", \"chris sarandon\", \"christ\", \"christian\", \"christian\", \"christian\", \"christianity\", \"christianity\", \"christians\", \"christmas\", \"christmas\", \"christmas\", \"christmas\", \"christmas\", \"christmas carol\", \"christopher lee\", \"christopher lee\", \"christopher walken\", \"christopher walken\", \"christopher walken\", \"christopher walken\", \"chuck norris\", \"chucky\", \"churches\", \"cia\", \"cia\", \"cia\", \"cia\", \"cia\", \"cia\", \"cia\", \"cinderella\", \"cinematography\", \"cinematography\", \"cinematography\", \"cinematography\", \"cinematography\", \"cinematography\", \"cinematography\", \"cinematography\", \"cinematography\", \"cinematography\", \"civil war\", \"civil war\", \"civil war\", \"civilization\", \"civilization\", \"cky\", \"classic\", \"classic\", \"classic\", \"classic\", \"classic\", \"classic\", \"classic\", \"classic\", \"classic\", \"classic\", \"classic\", \"classic\", \"classic\", \"classic\", \"classic\", \"classic\", \"classic\", \"classic movies\", \"clint eastwood\", \"clint eastwood\", \"clint eastwood\", \"clint eastwood\", \"clint eastwood\", \"clint eastwood\", \"clive barker\", \"close ups\", \"close ups\", \"close-ups\", \"close-ups\", \"close-ups\", \"close-ups\", \"clothes\", \"clothes\", \"clothes\", \"clothes\", \"clothes\", \"clothes\", \"clothes\", \"clothes\", \"clothes\", \"clothes\", \"clothes\", \"club\", \"club\", \"club\", \"club\", \"club\", \"clyde\", \"clyde\", \"collapse\", \"college\", \"college\", \"college\", \"college\", \"college\", \"college\", \"color\", \"color\", \"color\", \"color\", \"color\", \"color\", \"color\", \"color\", \"color\", \"color\", \"color\", \"columbia\", \"columbia\", \"columbia\", \"columbia\", \"columbo\", \"comedian\", \"comedian\", \"comedian\", \"comedy\", \"comedy\", \"comedy\", \"comedy\", \"comedy\", \"comedy\", \"comedy\", \"comedy\", \"comedy\", \"comedy\", \"comedy\", \"comedy\", \"comedy\", \"comedy central\", \"comeuppance\", \"comics\", \"comics\", \"commenter\", \"compassion\", \"compassion\", \"compassion\", \"complete failure\", \"con\", \"conan\", \"conan\", \"concert\", \"concert\", \"concert\", \"concert\", \"confederate\", \"connecticut\", \"connecticut\", \"connery\", \"connery\", \"cool\", \"cooper\", \"cooper\", \"cops\", \"cops\", \"cops\", \"cops\", \"cops\", \"cops\", \"cops\", \"cops\", \"copy\", \"copy\", \"copy\", \"copy\", \"copy\", \"copy\", \"copy\", \"copy\", \"costello\", \"costello\", \"costs\", \"costs\", \"costs\", \"costs\", \"costs\", \"costs\", \"costs\", \"costumes\", \"costumes\", \"costumes\", \"costumes\", \"costumes\", \"costumes\", \"costumes\", \"costumes\", \"costumes\", \"countries\", \"countries\", \"countries\", \"country\", \"country\", \"country\", \"country\", \"country\", \"country\", \"country\", \"country\", \"country\", \"country\", \"country\", \"country\", \"country\", \"country\", \"country\", \"countryside\", \"countryside\", \"countryside\", \"countryside\", \"couple\", \"couple\", \"couple\", \"couple\", \"couple\", \"couple\", \"couple\", \"couple\", \"couple\", \"couple\", \"couple\", \"couple\", \"couple\", \"couple\", \"couple\", \"couple\", \"couple\", \"couple\", \"couple\", \"course\", \"course\", \"course\", \"course\", \"course\", \"course\", \"course\", \"course\", \"course\", \"course\", \"course\", \"course\", \"course\", \"course\", \"course\", \"course\", \"course\", \"course\", \"course\", \"course\", \"cover\", \"cover\", \"cover\", \"cover\", \"cover\", \"cover\", \"cover\", \"cover\", \"cover\", \"cover art\", \"cover girl\", \"crap\", \"crap\", \"crappy\", \"crappy\", \"crawford\", \"crawford\", \"creature\", \"creature\", \"creature\", \"credits\", \"credits\", \"credits\", \"credits\", \"credits\", \"credits\", \"credits\", \"credits\", \"credits\", \"credits\", \"credits\", \"credits\", \"credits\", \"credits\", \"credits\", \"crime\", \"crime\", \"crime\", \"crime\", \"crime\", \"crime\", \"crime\", \"crime\", \"crime\", \"crime\", \"crime\", \"crime\", \"crime\", \"crypt\", \"crypt\", \"crystal\", \"crystal\", \"cube\", \"cube\", \"cue cards\", \"culture\", \"culture\", \"culture\", \"culture\", \"culture\", \"cultures\", \"cushing\", \"custer\", \"cute\", \"dad\", \"dad\", \"dad\", \"dad\", \"daffy\", \"damon\", \"dana andrews\", \"dana andrews\", \"dana andrews\", \"dance\", \"dance\", \"dance\", \"dance\", \"dance\", \"dance\", \"dance\", \"dance scene\", \"dancer\", \"dancer\", \"dancer\", \"dancer\", \"dancer\", \"dancers\", \"dancers\", \"daniel day-lewis\", \"danny glover\", \"danny glover\", \"darwin\", \"david cronenberg\", \"david morse\", \"david niven\", \"davies\", \"day\", \"day\", \"day\", \"day\", \"day\", \"day\", \"day\", \"day\", \"day\", \"day\", \"day\", \"day\", \"day\", \"day\", \"day\", \"day\", \"day\", \"day\", \"day\", \"dead\", \"dead\", \"dead\", \"dean stockwell\", \"death\", \"death\", \"death\", \"death\", \"death\", \"death\", \"death\", \"death\", \"death\", \"death\", \"death\", \"death\", \"death\", \"death\", \"death\", \"death\", \"death\", \"death\", \"death bed\", \"debbie reynolds\", \"decade\", \"decade\", \"decade\", \"decade\", \"decade\", \"decade\", \"decade\", \"decade\", \"decade\", \"decade\", \"decades ago\", \"decent\", \"decent\", \"decent\", \"decent\", \"decent\", \"demille\", \"deniro\", \"deniro\", \"denise richards\", \"denzel\", \"denzel\", \"denzel washington\", \"denzel washington\", \"departure\", \"depiction\", \"depiction\", \"depiction\", \"depiction\", \"depiction\", \"depiction\", \"dialog\", \"dialog\", \"dialog\", \"dialog\", \"dialog\", \"dialog\", \"dialog\", \"dialog\", \"dialog\", \"dialog\", \"dialog\", \"dialog\", \"dialog\", \"dialogue\", \"dialogue\", \"dialogue\", \"dialogue\", \"dialogue\", \"dialogue\", \"dialogue\", \"dialogue\", \"dialogue\", \"dialogue\", \"dialogue\", \"dialogue\", \"dialogue\", \"dialogue\", \"dialogue\", \"dialogue\", \"dialogue\", \"dialogue\", \"dick powell\", \"dick tracy\", \"dickens\", \"dickens\", \"dickens\", \"dickens\", \"different stories\", \"diner\", \"diner\", \"dinosaurs\", \"dinosaurs\", \"dinosaurs\", \"directing\", \"directing\", \"directing\", \"directing\", \"direction\", \"direction\", \"direction\", \"direction\", \"direction\", \"direction\", \"direction\", \"direction\", \"direction\", \"direction\", \"direction\", \"direction\", \"direction\", \"direction\", \"direction\", \"director\", \"director\", \"director\", \"director\", \"director\", \"director\", \"director\", \"director\", \"director\", \"director\", \"director\", \"director\", \"director\", \"director\", \"director\", \"director\", \"director\", \"dirty dancing\", \"dirty harry\", \"disappointment\", \"disappointment\", \"disappointment\", \"disappointment\", \"disappointment\", \"disappointment\", \"disappointment\", \"disappointment\", \"disappointment\", \"disappointment\", \"disappointment\", \"disappointment\", \"disappointment\", \"disbelief\", \"disbelief\", \"disbelief\", \"disbelief\", \"disbelief\", \"disbelief\", \"disbelief\", \"disbelief\", \"disbelief\", \"disc\", \"disc\", \"disc\", \"disney\", \"disney\", \"disney channel\", \"divine\", \"doctor\", \"doctor\", \"doctor\", \"doctor\", \"doctor\", \"doctor\", \"doctor\", \"doctor\", \"doctor\", \"documentary\", \"documentary\", \"documentary\", \"documentary\", \"documentary\", \"documentary\", \"documentary\", \"dog\", \"dog\", \"dog\", \"dog\", \"dog\", \"dog\", \"dog\", \"dog\", \"dog\", \"dog\", \"dog\", \"dolemite\", \"dollar\", \"dollar\", \"dollar\", \"domino\", \"don cheadle\", \"donald sutherland\", \"donald sutherland\", \"donald sutherland\", \"doris\", \"doris day\", \"dorothy malone\", \"doug\", \"douglas fairbanks\", \"downs\", \"downs\", \"dr. seuss\", \"dracula\", \"dracula\", \"dragons\", \"dragons\", \"dragons\", \"drama\", \"drama\", \"drama\", \"drama\", \"drama\", \"drama\", \"drama\", \"drama\", \"drama\", \"drama\", \"drama\", \"drama\", \"drama\", \"drama\", \"drama\", \"dream\", \"dream\", \"dream\", \"dream\", \"dream\", \"dream\", \"dream\", \"dream\", \"dream\", \"dream\", \"dream\", \"dream\", \"dreamworks\", \"drew\", \"drew\", \"drew barrymore\", \"duchovny\", \"dude\", \"dude\", \"dude\", \"dudley moore\", \"dung\", \"dutch\", \"dutch\", \"dutch\", \"dvd\", \"dvd\", \"dvd\", \"dvd\", \"dvd\", \"dvd\", \"dvd\", \"dvd\", \"dvd\", \"dvd\", \"dvd\", \"dvd\", \"dvd\", \"dvd\", \"dvd\", \"dvd\", \"dvd\", \"dvd\", \"dvd cover\", \"dynamite\", \"dynamite\", \"earth\", \"earth\", \"earth\", \"earth\", \"earth\", \"earth\", \"earth\", \"earth\", \"earth\", \"earth\", \"earth\", \"earth\", \"earth\", \"earth\", \"earth\", \"earth\", \"earth\", \"eastwood\", \"eastwood\", \"ebay\", \"ebay\", \"ed wood\", \"ed wood\", \"ed woods\", \"eddie\", \"eddie\", \"eddie\", \"eddie\", \"eddie\", \"eddie murphy\", \"editing\", \"editing\", \"editing\", \"editing\", \"editing\", \"editing\", \"editing\", \"editing\", \"editing\", \"editing\", \"editing\", \"eisenstein\", \"eleanor parker\", \"eli wallach\", \"elizabeth taylor\", \"elm street\", \"elm street\", \"emily blunt\", \"emma\", \"emma\", \"emma roberts\", \"end\", \"end\", \"end\", \"end\", \"end\", \"end\", \"end\", \"end\", \"end\", \"end\", \"end\", \"end\", \"end\", \"end\", \"end\", \"end\", \"end\", \"end\", \"end\", \"end\", \"ending\", \"ending\", \"ending\", \"ending\", \"ending\", \"ending\", \"ending\", \"ending\", \"ending\", \"ending\", \"ending\", \"ending\", \"ending\", \"ending\", \"ending\", \"ending\", \"ending\", \"ending\", \"english\", \"english\", \"english\", \"english\", \"english\", \"english\", \"english\", \"english\", \"english\", \"english\", \"enterprise\", \"episode\", \"episode\", \"episode\", \"episode\", \"episode\", \"episodes\", \"episodes\", \"episodes\", \"era\", \"era\", \"era\", \"era\", \"era\", \"era\", \"era\", \"era\", \"era\", \"era\", \"era\", \"era\", \"era\", \"eric stoltz\", \"errol flynn\", \"eugene levy\", \"europe\", \"europe\", \"europe\", \"europe\", \"europe\", \"europe\", \"europe\", \"europe\", \"european\", \"european\", \"european\", \"european\", \"european\", \"european\", \"europeans\", \"events\", \"events\", \"events\", \"events\", \"events\", \"events\", \"events\", \"events\", \"events\", \"events\", \"events\", \"events\", \"ewoks\", \"example\", \"example\", \"example\", \"example\", \"example\", \"example\", \"example\", \"example\", \"example\", \"example\", \"example\", \"example\", \"example\", \"example\", \"example\", \"example\", \"example\", \"example\", \"example\", \"example\", \"excrement\", \"fact\", \"fact\", \"fact\", \"fact\", \"fact\", \"fact\", \"fact\", \"fact\", \"fact\", \"fact\", \"fact\", \"fact\", \"fact\", \"fact\", \"fact\", \"fact\", \"fact\", \"fact\", \"fact\", \"fact\", \"failed attempt\", \"faith\", \"faith\", \"faith\", \"faith\", \"faith\", \"faith\", \"faith\", \"falk\", \"family\", \"family\", \"family\", \"family\", \"family\", \"family\", \"family\", \"family\", \"family\", \"family\", \"family\", \"family\", \"family\", \"family\", \"famous\", \"famous\", \"fan\", \"fan\", \"fan\", \"fan\", \"fan\", \"fan\", \"fan\", \"fan\", \"fan\", \"fan\", \"fan\", \"fan\", \"fan\", \"fan\", \"fan\", \"fan\", \"fan\", \"fan\", \"fantastic job\", \"fantastic job\", \"fantastic job\", \"farce\", \"farce\", \"farce\", \"farce\", \"farce\", \"farce\", \"farm\", \"farm\", \"farm\", \"farscape\", \"fart jokes\", \"fascism\", \"fassbinder\", \"fast\", \"father\", \"father\", \"father\", \"father\", \"father\", \"father\", \"father\", \"father\", \"father\", \"father\", \"father\", \"father\", \"father\", \"favourite\", \"favourite\", \"favourite\", \"favourite\", \"favourite\", \"favourite\", \"favourite\", \"favourite\", \"fay grim\", \"fbi agent\", \"feeling\", \"feeling\", \"feeling\", \"feeling\", \"feeling\", \"feeling\", \"feeling\", \"feeling\", \"feeling\", \"feeling\", \"feeling\", \"feeling\", \"feeling\", \"feeling\", \"female nudity\", \"fiasco\", \"fight scenes\", \"fight scenes\", \"fight scenes\", \"fight scenes\", \"fight scenes\", \"fight scenes\", \"fighting\", \"fighting\", \"fighting\", \"fighting\", \"fighting\", \"fights\", \"fights\", \"fights\", \"fights\", \"fights\", \"fights\", \"final episode\", \"final fantasy\", \"final showdown\", \"finish\", \"finish\", \"finish\", \"finish\", \"finish\", \"finish\", \"finish\", \"finish\", \"finished product\", \"finished product\", \"fire\", \"fire\", \"fire\", \"fire\", \"fire\", \"fire\", \"fire\", \"fire\", \"fire\", \"fire\", \"fire\", \"fire\", \"fire\", \"flaws\", \"flaws\", \"flaws\", \"flaws\", \"flaws\", \"flaws\", \"flaws\", \"flaws\", \"flaws\", \"flesh\", \"flesh\", \"flesh\", \"flesh\", \"flesh\", \"flesh\", \"flick\", \"flick\", \"flick\", \"flick\", \"flick\", \"flick\", \"flick\", \"flick\", \"flick\", \"flick\", \"flick\", \"flick\", \"flynn\", \"fonda\", \"fonda\", \"fonda\", \"fontaine\", \"footage\", \"footage\", \"footage\", \"footage\", \"footage\", \"footage\", \"footage\", \"forbidden planet\", \"ford\", \"ford\", \"foreigners\", \"foreigners\", \"foxx\", \"frank sinatra\", \"frankenstein\", \"frankenstein\", \"frankensteins monster\", \"freedom\", \"freedom\", \"freedom\", \"freedom\", \"french\", \"french\", \"french\", \"french\", \"french\", \"french\", \"french\", \"french\", \"friday\", \"friday\", \"friday\", \"friday\", \"friday\", \"friday 13th\", \"friends\", \"friends\", \"friends\", \"friends\", \"friends\", \"friends\", \"friends\", \"friends\", \"friends\", \"friends\", \"friends\", \"friends\", \"friends\", \"friends\", \"friends\", \"friends\", \"friends\", \"fulci\", \"fun\", \"fun\", \"fun\", \"fun\", \"fun\", \"fun\", \"fun\", \"fun\", \"fun\", \"fun\", \"fun\", \"fun\", \"fun\", \"fun\", \"fun\", \"fun\", \"fun\", \"fun\", \"fun\", \"funniest thing\", \"funny bits\", \"game\", \"game\", \"game\", \"game\", \"game\", \"game\", \"game\", \"game\", \"game\", \"game\", \"game\", \"game\", \"game\", \"gamers\", \"gang\", \"gang\", \"gang\", \"gang\", \"gang\", \"gang\", \"gang\", \"gang\", \"gang\", \"gang\", \"garbage\", \"garbage\", \"garbage\", \"garbage\", \"gary busey\", \"gary busey\", \"gary busey\", \"gary cooper\", \"gene tierney\", \"george burns\", \"george c. scott\", \"george c. scott\", \"george clooney\", \"george clooney\", \"german\", \"german\", \"germans\", \"germans\", \"germans\", \"germany\", \"germany\", \"germany\", \"germany\", \"ghost\", \"ghost\", \"ghost\", \"ghost\", \"ghost\", \"ghost\", \"ghost\", \"ghost\", \"ghost\", \"ghosts\", \"ghosts\", \"ghosts\", \"ghosts\", \"ghosts\", \"ghosts\", \"ghosts\", \"ghoulies\", \"giallo\", \"giovanni ribisi\", \"girl\", \"girl\", \"girl\", \"girl\", \"girl\", \"girl\", \"girl\", \"girl\", \"girl\", \"girl\", \"girl\", \"girl\", \"girl\", \"girl\", \"girl\", \"girl\", \"girl\", \"girlfriend\", \"girlfriend\", \"girlfriend\", \"girlfriend\", \"girlfriend\", \"girlfriend\", \"girlfriend\", \"girlfriend\", \"girlfriend\", \"girlfriend\", \"girlfriend\", \"girlfriend\", \"girlfriend\", \"girlfriend\", \"glen\", \"glenn ford\", \"god\", \"god\", \"god\", \"god\", \"god\", \"god\", \"god\", \"god\", \"god\", \"god\", \"god\", \"god\", \"god\", \"god\", \"god\", \"god\", \"god\", \"gone wind\", \"gone wind\", \"good\", \"good\", \"good\", \"good\", \"good\", \"good\", \"good\", \"good\", \"good\", \"good\", \"good\", \"good\", \"good\", \"good\", \"good\", \"good\", \"good\", \"good\", \"good\", \"good\", \"good girl\", \"good guy\", \"good guy\", \"good guy\", \"good guy\", \"good guy\", \"good guy\", \"good guy\", \"good guy\", \"good guys\", \"good guys\", \"good guys\", \"good job\", \"good job\", \"good job\", \"good job\", \"good job\", \"good job\", \"good job\", \"good job\", \"good job\", \"good job\", \"good job\", \"good money\", \"good news\", \"good news\", \"good news\", \"good news\", \"good reviews\", \"good reviews\", \"good reviews\", \"gore\", \"gore\", \"gore\", \"gore\", \"gore\", \"grace\", \"grace\", \"grace\", \"grace\", \"grace\", \"grapes\", \"grave\", \"grave\", \"grave\", \"grave\", \"grave\", \"grayson\", \"great\", \"great\", \"great\", \"great\", \"great\", \"great\", \"great\", \"great\", \"great\", \"great\", \"great\", \"great\", \"great\", \"great\", \"great\", \"great\", \"great\", \"great job\", \"great job\", \"great job\", \"great job\", \"great job\", \"great job\", \"great job\", \"great job\", \"great job\", \"great job\", \"great job\", \"great job\", \"great special effects\", \"gripe\", \"gromit\", \"group\", \"group\", \"group\", \"group\", \"group\", \"group\", \"group\", \"group\", \"group\", \"group\", \"group\", \"group\", \"group\", \"group\", \"group\", \"group\", \"group\", \"group\", \"group\", \"group\", \"guidelines\", \"guitar\", \"guitar\", \"gun\", \"gun\", \"gun\", \"gun\", \"gun\", \"gun\", \"gun\", \"gun\", \"gun\", \"gunshots\", \"gus van sant\", \"guy\", \"guy\", \"guy\", \"guy\", \"guy\", \"guy\", \"guy\", \"guy\", \"guy\", \"guy\", \"guy\", \"guy\", \"guy\", \"guy\", \"guy\", \"guy\", \"guy ritchie\", \"haggard\", \"hal hartley\", \"hal roach\", \"half\", \"half\", \"half\", \"half\", \"half\", \"half\", \"half\", \"half\", \"half\", \"half\", \"half\", \"half\", \"half\", \"half\", \"halloween\", \"halloween\", \"halloween\", \"hank\", \"hardy\", \"harvey keitel\", \"harvey keitel\", \"hasselhoff\", \"head\", \"head\", \"head\", \"head\", \"head\", \"head\", \"head\", \"head\", \"head\", \"head\", \"head\", \"head\", \"head\", \"head\", \"head\", \"head\", \"head\", \"head\", \"head\", \"headache\", \"headache\", \"headache\", \"heart\", \"heart\", \"heart\", \"heart\", \"heart\", \"heart\", \"heart\", \"heart\", \"heart\", \"heart\", \"heart\", \"heart\", \"heart\", \"heart\", \"heart\", \"heart\", \"heart\", \"heart darkness\", \"heather graham\", \"hell\", \"hell\", \"hell\", \"hell\", \"hell\", \"hell\", \"hell\", \"hell\", \"hell\", \"hell\", \"hell\", \"hell\", \"hell\", \"hell\", \"hell\", \"hell\", \"hell\", \"hell\", \"henry fool\", \"hidden dragon\", \"high hopes\", \"high hopes\", \"high hopes\", \"high hopes\", \"high hopes\", \"high quality\", \"high quality\", \"high quality\", \"high school\", \"high school\", \"hills\", \"hills\", \"hills\", \"hills\", \"history\", \"history\", \"history\", \"history\", \"history\", \"history\", \"history\", \"history\", \"history\", \"history\", \"history\", \"history\", \"history\", \"history\", \"history\", \"history\", \"hit-man\", \"hit-man\", \"hitchcock\", \"hitchcock\", \"hitchcockian\", \"hitler\", \"hitler\", \"hitler\", \"hk\", \"hobgoblins\", \"hollywood\", \"hollywood\", \"hollywood\", \"hollywood\", \"hollywood\", \"hollywood\", \"hollywood\", \"hollywood\", \"hollywood\", \"hollywood\", \"hollywood\", \"hollywood\", \"hollywood\", \"hollywood\", \"hollywood\", \"hollywood\", \"hollywood\", \"hollywood\", \"hollywood\", \"hollywood\", \"holocaust\", \"holocaust\", \"holocaust\", \"homeland\", \"hong kong\", \"hong kong\", \"hong kong\", \"hong kong\", \"horrible\", \"horrible\", \"horror\", \"horror\", \"horror\", \"horror\", \"horror\", \"horror\", \"horses\", \"horses\", \"horses\", \"hospital\", \"hospital\", \"hospital\", \"hospital\", \"hospital\", \"hospital\", \"hospital\", \"hostel\", \"hour\", \"hour\", \"hour\", \"hour\", \"hour\", \"hour\", \"hour\", \"hour\", \"hour\", \"hour\", \"hour\", \"hour\", \"hour\", \"hour half\", \"hour half\", \"house\", \"house\", \"house\", \"house\", \"house\", \"house\", \"house\", \"house\", \"house\", \"house\", \"house\", \"house wax\", \"hudson\", \"hudson\", \"humanity\", \"humanity\", \"humanity\", \"humanity\", \"humanity\", \"humanity\", \"humanity\", \"humanity\", \"humor\", \"humor\", \"humor\", \"humor\", \"humor\", \"humor\", \"humor\", \"humor\", \"humor\", \"humor\", \"humor\", \"humor\", \"humor\", \"humor\", \"humor\", \"humor\", \"humor\", \"humor\", \"humor\", \"humor\", \"humour\", \"humour\", \"humour\", \"humour\", \"humour\", \"humour\", \"humour\", \"humour\", \"humour\", \"humour\", \"humour\", \"humour\", \"humour\", \"humphrey bogart\", \"humphrey bogart\", \"hunters\", \"husband\", \"husband\", \"husband\", \"husband\", \"husband\", \"husband\", \"husband\", \"husband\", \"husband\", \"husband\", \"husband\", \"ice age\", \"ichi\", \"idea\", \"idea\", \"idea\", \"idea\", \"idea\", \"idea\", \"idea\", \"idea\", \"idea\", \"idea\", \"idea\", \"idea\", \"idea\", \"idea\", \"idea\", \"idea\", \"idea\", \"idea\", \"idea\", \"ifc\", \"ii\", \"ii\", \"im\", \"im\", \"im\", \"im\", \"im\", \"im\", \"im\", \"im\", \"im\", \"im\", \"im\", \"im\", \"imdb\", \"imdb\", \"imdb\", \"imdb\", \"imdb\", \"imdb\", \"imdb\", \"imdb\", \"imdb\", \"imdb\", \"imdb\", \"imdb\", \"imdb rating\", \"incest\", \"incest\", \"incest\", \"incest\", \"india\", \"india\", \"india\", \"india\", \"india\", \"indian\", \"indian\", \"indian\", \"indian\", \"indian\", \"indian\", \"indian\", \"indian cinema\", \"indian cinema\", \"indians\", \"indians\", \"indy\", \"insomnia\", \"insomnia\", \"inspector\", \"insult\", \"insult\", \"insult\", \"insult\", \"insult\", \"insult\", \"insult\", \"interesting ideas\", \"interpretations\", \"iranian\", \"iraq\", \"irene dunne\", \"islam\", \"israeli\", \"israeli\", \"italian\", \"italian\", \"italian\", \"italian\", \"italian\", \"italian\", \"italian\", \"italian\", \"italian\", \"italian\", \"italian\", \"italian\", \"italian\", \"jack black\", \"jack black\", \"jack black\", \"jack black\", \"jack frost\", \"jack frost\", \"jack lemmon\", \"jack lemmon\", \"jack palance\", \"jackie chan\", \"jake gyllenhaal\", \"james bond\", \"james bond\", \"james bond\", \"james cagney\", \"james stewart\", \"james stewart\", \"james stewart\", \"james stewart\", \"jamie foxx\", \"jamie lee curtis\", \"jane\", \"jane\", \"jane\", \"jane austen\", \"jane austen\", \"jane eyre\", \"jane fonda\", \"japan\", \"japan\", \"japan\", \"japan\", \"japan\", \"japan\", \"japanese\", \"japanese\", \"japanese\", \"japanese\", \"japanese\", \"japanese\", \"japanese\", \"japanese\", \"japanese culture\", \"jason lee\", \"javier bardem\", \"jean peters\", \"jean simmons\", \"jean simmons\", \"jean-claude van damme\", \"jeff daniels\", \"jeff daniels\", \"jeff goldblum\", \"jeffrey combs\", \"jennifer jones\", \"jeremy irons\", \"jerry\", \"jerry\", \"jerry\", \"jerry\", \"jesus\", \"jesus\", \"jesus\", \"jesus\", \"jesus\", \"jesus\", \"jesus\", \"jesus\", \"jesus\", \"jet li\", \"jewish\", \"jewish\", \"jewish\", \"jewish\", \"jewish\", \"jim henson\", \"job\", \"job\", \"job\", \"job\", \"job\", \"job\", \"job\", \"job\", \"job\", \"job\", \"job\", \"job\", \"job\", \"job\", \"job\", \"job\", \"job\", \"job\", \"job\", \"joe don baker\", \"john malkovich\", \"john malkovich\", \"john waters\", \"john wayne\", \"john wayne\", \"john wayne\", \"john wayne\", \"john woo\", \"joke\", \"joke\", \"joke\", \"joke\", \"joke\", \"joke\", \"joke\", \"joke\", \"joke\", \"joke\", \"joke\", \"joker\", \"joker\", \"jokes\", \"jokes\", \"jokes\", \"jokes\", \"jokes\", \"jokes\", \"jokes\", \"jokes\", \"jokes\", \"jokes\", \"josh\", \"joyce\", \"judy\", \"julia stiles\", \"julie walters\", \"juliet\", \"juliet\", \"jungle\", \"jungle\", \"jungle\", \"jungle\", \"junior\", \"junk\", \"junk\", \"junk\", \"junk\", \"junk\", \"karl malden\", \"karloff\", \"karloff\", \"keaton\", \"keaton\", \"keaton\", \"kermit\", \"kermit\", \"kevin\", \"kid\", \"kid\", \"kid\", \"kid\", \"kid\", \"kid\", \"kid\", \"kid\", \"kid\", \"kid\", \"kid\", \"kid\", \"kid\", \"kid\", \"kids\", \"kids\", \"kids\", \"kids\", \"kiefer sutherland\", \"killer\", \"killer\", \"killer\", \"killer\", \"killer\", \"killer\", \"killer\", \"killjoy\", \"kills\", \"kim basinger\", \"kim basinger\", \"kind\", \"kind\", \"kind\", \"kind\", \"kind\", \"kind\", \"kind\", \"kind\", \"kind\", \"kind\", \"kind\", \"kind\", \"kind\", \"kind\", \"kind\", \"kind\", \"kind\", \"kind\", \"kind\", \"kind\", \"kinnear\", \"kirk\", \"knife\", \"knife\", \"knife\", \"knife\", \"knife\", \"kristofferson\", \"kung fu\", \"kurosawa\", \"kurosawa\", \"kurtz\", \"lab\", \"lab\", \"laboratory\", \"lambs\", \"lambs\", \"lambs\", \"landlord\", \"late night tv\", \"laurel\", \"lava\", \"lawrence arabia\", \"leading lady\", \"leads\", \"leads\", \"leads\", \"leads\", \"leads\", \"leads\", \"leads\", \"leads\", \"leads\", \"leads\", \"leads\", \"leads\", \"leads\", \"leads\", \"league\", \"league\", \"league\", \"league gentlemen\", \"left foot\", \"lemmon\", \"lemmon\", \"lena\", \"leno\", \"lethal weapon\", \"letterman\", \"lick\", \"life\", \"life\", \"life\", \"life\", \"life\", \"life\", \"life\", \"life\", \"life\", \"life\", \"life\", \"life\", \"life\", \"life\", \"life\", \"life\", \"life\", \"life\", \"life\", \"life\", \"lifeforce\", \"lighting\", \"lighting\", \"lighting\", \"lighting\", \"lighting\", \"lighting\", \"lighting\", \"linda blair\", \"lines\", \"lines\", \"lines\", \"lines\", \"lines\", \"lines\", \"lines\", \"lines\", \"lines\", \"lines\", \"lines\", \"lines\", \"lines\", \"lines\", \"lines\", \"lines\", \"lines\", \"lines\", \"linnea quigley\", \"lion king\", \"lion king\", \"little big horn\", \"little details\", \"little kid\", \"little kid\", \"little mermaid\", \"little sense\", \"little sense\", \"little sense\", \"lives\", \"lives\", \"lives\", \"lives\", \"lives\", \"lives\", \"lives\", \"lives\", \"lives\", \"lives\", \"lives\", \"lives\", \"lives\", \"lives\", \"lives\", \"living dead\", \"living dead\", \"lloyd kaufman\", \"locals\", \"locals\", \"locals\", \"locals\", \"log\", \"london\", \"london\", \"london\", \"london\", \"london\", \"london\", \"lonesome dove\", \"lord\", \"lord\", \"lord\", \"lord\", \"losers\", \"losers\", \"lot\", \"lot\", \"lot\", \"lot\", \"lot\", \"lot\", \"lot\", \"lot\", \"lot\", \"lot\", \"lot\", \"lot\", \"lot\", \"lot\", \"lot\", \"lot\", \"lot\", \"lot\", \"lot\", \"lot\", \"love\", \"love\", \"love\", \"love\", \"love\", \"love\", \"love\", \"love\", \"love\", \"love\", \"love\", \"love\", \"love\", \"love\", \"love\", \"love\", \"love\", \"love story\", \"love story\", \"love story\", \"love story\", \"love story\", \"love story\", \"love story\", \"low budget movies\", \"low point\", \"lucio fulci\", \"lumet\", \"lump\", \"lynch\", \"lynch\", \"lynch\", \"lynch\", \"lynch\", \"mad scientist\", \"madonna\", \"maggie smith\", \"magic\", \"magic\", \"magic\", \"magic\", \"magic\", \"magic\", \"magic\", \"magic\", \"main role\", \"major flaw\", \"man\", \"man\", \"man\", \"man\", \"man\", \"man\", \"man\", \"man\", \"man\", \"man\", \"man\", \"man\", \"man\", \"man\", \"man\", \"man\", \"man\", \"man\", \"man\", \"man\", \"manga\", \"manners\", \"manos\", \"mansfield park\", \"marie dressler\", \"marilyn monroe\", \"marines\", \"marines\", \"marines\", \"marlene dietrich\", \"marlon brando\", \"marlon brando\", \"marlon brando\", \"married\", \"martial arts\", \"mary tyler moore\", \"masters horror\", \"material\", \"material\", \"material\", \"material\", \"material\", \"material\", \"material\", \"material\", \"material\", \"material\", \"material\", \"material\", \"material\", \"material\", \"material\", \"material\", \"matrix\", \"matrix\", \"matrix\", \"matthau\", \"mausoleum\", \"mccoy\", \"meaning\", \"meaning\", \"meaning\", \"meaning\", \"meaning\", \"meaning\", \"meaning\", \"meaning\", \"meaning\", \"meaning\", \"meaning\", \"meaning\", \"melissa joan hart\", \"men\", \"men\", \"men\", \"men\", \"men\", \"men\", \"men\", \"men\", \"men\", \"men\", \"men\", \"men\", \"men\", \"men\", \"men\", \"merchant\", \"meryl streep\", \"message\", \"message\", \"message\", \"message\", \"message\", \"message\", \"message\", \"message\", \"message\", \"message\", \"message\", \"message\", \"mgm\", \"mgm\", \"mgm\", \"mgm\", \"mgm\", \"michael douglas\", \"michael douglas\", \"michael j. fox\", \"michael myers\", \"michelle\", \"michelle\", \"mickey rooney\", \"mickey rooney\", \"middle\", \"middle\", \"middle\", \"middle\", \"middle\", \"middle\", \"middle\", \"middle\", \"middle\", \"middle\", \"middle\", \"middle\", \"middle\", \"middle\", \"middle\", \"middle\", \"midnight cowboy\", \"mike\", \"mike\", \"mike\", \"mike judge\", \"mike myers\", \"millions dollars\", \"millions dollars\", \"mind\", \"mind\", \"mind\", \"mind\", \"mind\", \"mind\", \"mind\", \"mind\", \"mind\", \"mind\", \"mind\", \"mind\", \"mind\", \"mind\", \"mind\", \"mind\", \"mind\", \"mind\", \"mind\", \"mind\", \"mini-series\", \"mini-series\", \"minutes\", \"minutes\", \"minutes\", \"minutes\", \"minutes\", \"minutes\", \"minutes\", \"minutes\", \"minutes\", \"minutes\", \"minutes\", \"minutes\", \"minutes\", \"mississippi\", \"miyazaki\", \"modern cinema\", \"modesty\", \"mom\", \"mom\", \"mom\", \"mom\", \"money\", \"money\", \"money\", \"money\", \"money\", \"money\", \"money\", \"money\", \"money\", \"money\", \"money\", \"money\", \"money\", \"money\", \"money\", \"money\", \"money\", \"money\", \"money\", \"monster\", \"monster\", \"monster\", \"monster\", \"monster\", \"monsters\", \"monsters\", \"monsters\", \"monsters\", \"monsters\", \"monsters\", \"montgomery\", \"moonstruck\", \"moriarty\", \"mormon\", \"mormon\", \"mormons\", \"mormons\", \"morning\", \"morning\", \"morning\", \"morning\", \"morning\", \"morning\", \"morning\", \"morning\", \"morning\", \"morning\", \"moscow\", \"mother\", \"mother\", \"mother\", \"mother\", \"mother\", \"mother\", \"mother\", \"mother\", \"mother\", \"mother\", \"mother\", \"movies\", \"movies\", \"movies\", \"movies\", \"movies\", \"movies\", \"movies\", \"movies\", \"movies\", \"movies\", \"movies\", \"movies\", \"movies\", \"movies\", \"movies\", \"movies\", \"movies\", \"movies\", \"movies\", \"movies\", \"mst3k\", \"mst3k\", \"mst3k\", \"munich\", \"muppet\", \"muppet\", \"murder\", \"murder\", \"murder\", \"murder\", \"murder\", \"murder\", \"murder\", \"murder\", \"murder\", \"murder\", \"murder\", \"murders\", \"murders\", \"murders\", \"murphy\", \"murphy\", \"music\", \"music\", \"music\", \"music\", \"music\", \"music\", \"music\", \"music\", \"music\", \"music\", \"music\", \"music\", \"music\", \"music\", \"music\", \"music\", \"music\", \"muslim\", \"muslim\", \"muslim\", \"n64\", \"napoleon\", \"nasa\", \"nasa\", \"natalie portman\", \"national lampoon\", \"nature\", \"nature\", \"nature\", \"nature\", \"nature\", \"nature\", \"nature\", \"nature\", \"nature\", \"nature\", \"nature\", \"nazi\", \"nazi\", \"nazis\", \"nazis\", \"nazis\", \"nbc\", \"neil simon\", \"new characters\", \"new characters\", \"new characters\", \"new episodes\", \"new york\", \"new york\", \"new york\", \"new york\", \"new york\", \"new york\", \"new york\", \"new york\", \"new york\", \"new york\", \"new york\", \"new york\", \"new york\", \"newman\", \"nice\", \"nice\", \"nickelodeon\", \"nickelodeon\", \"nickelodeon\", \"night\", \"night\", \"night\", \"night\", \"night\", \"night\", \"night\", \"night\", \"night\", \"night\", \"night\", \"night\", \"night\", \"night\", \"night\", \"night\", \"night\", \"night living dead\", \"nightmare\", \"nightmare\", \"nightmare\", \"nightmare\", \"nightmare\", \"nightmare\", \"nightmare\", \"nightmare elm street\", \"ninja\", \"ninja\", \"noir\", \"noir\", \"noir\", \"noise\", \"norman bates\", \"northanger abbey\", \"northwest\", \"novel\", \"novel\", \"novel\", \"novel\", \"novel\", \"novel\", \"novel\", \"nuclear war\", \"nudity\", \"nudity\", \"nudity\", \"nudity\", \"nudity\", \"number\", \"number\", \"number\", \"number\", \"number\", \"number\", \"number\", \"number\", \"number\", \"number\", \"number\", \"number\", \"number\", \"number\", \"number\", \"number\", \"number\", \"number\", \"number\", \"nurse\", \"nurse\", \"nurse\", \"nurse\", \"nurse\", \"nurse\", \"old people\", \"oliver hardy\", \"oliver stone\", \"oliver stone\", \"olivier\", \"ollie\", \"olsen\", \"one-liners\", \"one-liners\", \"one-liners\", \"one-liners\", \"opening night\", \"opening night\", \"organs\", \"original\", \"original\", \"original\", \"original\", \"original\", \"original\", \"original\", \"original\", \"original\", \"original\", \"original\", \"original\", \"original\", \"original plot\", \"original plot\", \"orson welles\", \"orson welles\", \"oscar\", \"oscar\", \"oscar\", \"oscar\", \"oscar\", \"oscar\", \"oscar\", \"oscar\", \"oscar\", \"oscar\", \"oscar\", \"oscar\", \"oscar\", \"oscars\", \"oscars\", \"oscars\", \"outer space\", \"outer space\", \"outer space\", \"outer space\", \"outer space\", \"outer space\", \"overacting\", \"oz\", \"oz\", \"ozu\", \"pacing\", \"pacing\", \"pacing\", \"pacing\", \"pacing\", \"pacing\", \"pacing\", \"pacing\", \"pacing\", \"pacing\", \"pacing\", \"pacing\", \"pacing\", \"padding\", \"paint\", \"paint\", \"palestinian\", \"parent\", \"parent\", \"parents\", \"parents\", \"parents\", \"parents\", \"paris\", \"paris\", \"paris\", \"paris\", \"paris\", \"paris\", \"paris\", \"passion\", \"passion\", \"passion\", \"passion\", \"passion\", \"passion\", \"passion\", \"passion\", \"paul\", \"paul\", \"paul\", \"paul naschy\", \"paul verhoeven\", \"paz vega\", \"penguin\", \"penguin\", \"people\", \"people\", \"people\", \"people\", \"people\", \"people\", \"people\", \"people\", \"people\", \"people\", \"people\", \"people\", \"people\", \"people\", \"people\", \"people\", \"people\", \"people\", \"people\", \"people\", \"performance\", \"performance\", \"performance\", \"performance\", \"performance\", \"performance\", \"performance\", \"performance\", \"performance\", \"performance\", \"performance\", \"performance\", \"performance\", \"performance\", \"performances\", \"performances\", \"performances\", \"performances\", \"performances\", \"performances\", \"performances\", \"performances\", \"performances\", \"performances\", \"performances\", \"performances\", \"performances\", \"performances\", \"performances\", \"performances\", \"person\", \"person\", \"person\", \"person\", \"person\", \"person\", \"person\", \"person\", \"person\", \"person\", \"person\", \"person\", \"person\", \"person\", \"person\", \"person\", \"person\", \"persuasion\", \"peter cushing\", \"peter jackson\", \"peter lorre\", \"pg-13 rating\", \"phantasm\", \"phil silvers\", \"philip seymour hoffman\", \"philo vance\", \"picture\", \"picture\", \"picture\", \"picture\", \"picture\", \"picture\", \"picture\", \"picture\", \"picture\", \"picture\", \"picture\", \"picture\", \"picture\", \"picture\", \"picture\", \"picture\", \"picture\", \"picture\", \"piece\", \"piece\", \"piece\", \"piece\", \"piece\", \"piece\", \"piece\", \"piece\", \"piece\", \"piece\", \"piece\", \"piece\", \"piece\", \"piece\", \"piece\", \"piggy\", \"pile\", \"pile\", \"pile\", \"pile\", \"pile\", \"pimp\", \"pink flamingos\", \"pitch black\", \"pixar\", \"pixar\", \"place\", \"place\", \"place\", \"place\", \"place\", \"place\", \"place\", \"place\", \"place\", \"place\", \"place\", \"place\", \"place\", \"place\", \"place\", \"place\", \"place\", \"place\", \"place\", \"place\", \"plan\", \"plan\", \"plan\", \"plan\", \"plan\", \"plan\", \"plan\", \"plan\", \"plan\", \"planet\", \"planet\", \"planet\", \"planet\", \"planet\", \"planet\", \"planet\", \"planet\", \"planet\", \"planet\", \"planning\", \"play\", \"play\", \"play\", \"play\", \"play\", \"play\", \"play\", \"play\", \"play\", \"play\", \"plot\", \"plot\", \"plot\", \"plot\", \"plot\", \"plot\", \"plot\", \"plot\", \"plot\", \"plot\", \"plot\", \"plot\", \"plot\", \"plot\", \"plot\", \"plot\", \"plot\", \"plot\", \"plot\", \"plot\", \"plot development\", \"plot device\", \"plot device\", \"plug\", \"poem\", \"point\", \"point\", \"point\", \"point\", \"point\", \"point\", \"point\", \"point\", \"point\", \"point\", \"point\", \"point\", \"point\", \"point\", \"point\", \"point\", \"point\", \"point\", \"point\", \"point\", \"pokemon\", \"poland\", \"polanski\", \"police\", \"police\", \"police\", \"police\", \"police\", \"police\", \"police\", \"police\", \"police\", \"police\", \"police story\", \"ponyo\", \"poor guy\", \"poor guy\", \"potential\", \"potential\", \"potential\", \"potential\", \"potential\", \"potential\", \"potential\", \"potential\", \"potential\", \"potential\", \"potential\", \"poverty\", \"poverty\", \"poverty\", \"poverty\", \"power\", \"power\", \"power\", \"power\", \"power\", \"power\", \"power\", \"power\", \"power\", \"power\", \"power\", \"power\", \"power\", \"pre-code\", \"prejudice\", \"prejudice\", \"prejudice\", \"prejudice\", \"prejudices\", \"prequel\", \"prequel\", \"prequel\", \"prequel\", \"president\", \"preview\", \"preview\", \"preview\", \"preview\", \"previous comment\", \"prey\", \"prey\", \"prey\", \"prince\", \"prince\", \"principles\", \"principles\", \"priscilla lane\", \"problem\", \"problem\", \"problem\", \"problem\", \"problem\", \"problem\", \"problem\", \"problem\", \"problem\", \"problem\", \"problem\", \"problem\", \"problem\", \"problem\", \"problem\", \"problem\", \"problem\", \"problem\", \"problem\", \"problem\", \"production design\", \"production design\", \"production design\", \"professionalism\", \"propaganda\", \"propaganda\", \"prostitution\", \"prostitution\", \"prot\", \"psychopath\", \"psychopath\", \"puppet master\", \"pure crap\", \"quentin tarantino\", \"quentin tarantino\", \"quentin tarantino\", \"radiation\", \"raf\", \"ralph fiennes\", \"ranch\", \"ranch\", \"randolph scott\", \"rapists\", \"rathbone\", \"re-animator\", \"real events\", \"reality\", \"reality\", \"reality\", \"reality\", \"reality\", \"reality\", \"reality\", \"reality\", \"reality\", \"reality\", \"reality\", \"reality\", \"reality\", \"reality\", \"reality\", \"reality\", \"reality\", \"reality\", \"reality\", \"reason\", \"reason\", \"reason\", \"reason\", \"reason\", \"reason\", \"reason\", \"reason\", \"reason\", \"reason\", \"reason\", \"reason\", \"reason\", \"reason\", \"reason\", \"reason\", \"reason\", \"reason\", \"reason\", \"reason\", \"reese witherspoon\", \"relationship\", \"relationship\", \"relationship\", \"relationship\", \"relationship\", \"relationship\", \"relationship\", \"relationship\", \"relationship\", \"relationship\", \"relationship\", \"relationship\", \"relationship\", \"remake\", \"remake\", \"remake\", \"remake\", \"remake\", \"remake\", \"remake\", \"remake\", \"remake\", \"remake\", \"remake\", \"reminder\", \"rendition\", \"rendition\", \"renee zellweger\", \"republic\", \"rest\", \"rest\", \"rest\", \"rest\", \"rest\", \"rest\", \"rest\", \"rest\", \"rest\", \"rest\", \"rest\", \"rest\", \"rest\", \"rest\", \"rest\", \"rest\", \"rest\", \"rest\", \"rest\", \"rest\", \"revenge\", \"revenge\", \"revenge\", \"revenge\", \"revenge\", \"revenge\", \"revenge\", \"revenge\", \"revenge\", \"revenge\", \"revenge\", \"revenge\", \"revenge\", \"revenge\", \"reviews\", \"reviews\", \"reviews\", \"reviews\", \"reviews\", \"reviews\", \"reviews\", \"reviews\", \"reviews\", \"reviews\", \"reviews\", \"revival\", \"reynolds\", \"reynolds\", \"reynolds\", \"richard attenborough\", \"richard crenna\", \"richard lynch\", \"richard pryor\", \"richard pryor\", \"riddick\", \"ring\", \"ring\", \"ring\", \"ring\", \"ring\", \"rings\", \"rings\", \"riot\", \"riot\", \"riot\", \"riot\", \"rko\", \"rko\", \"robbins\", \"robert blake\", \"robert carlyle\", \"robert downey\", \"robert englund\", \"robert redford\", \"robert taylor\", \"robert wagner\", \"robin\", \"robin\", \"robin\", \"robin\", \"robinson\", \"robot\", \"robot\", \"robot\", \"robot\", \"robots\", \"robots\", \"rochester\", \"rock\", \"rock\", \"rock\", \"rock\", \"rock\", \"rock\", \"rock\", \"rock\", \"rock\", \"rock\", \"rock hudson\", \"rock hudson\", \"roger moore\", \"role\", \"role\", \"role\", \"role\", \"role\", \"role\", \"role\", \"role\", \"role\", \"role\", \"role\", \"role\", \"role\", \"role\", \"role\", \"role\", \"roles\", \"roles\", \"roles\", \"roles\", \"roles\", \"roles\", \"roles\", \"roles\", \"roles\", \"roles\", \"roles\", \"roles\", \"roles\", \"roles\", \"romance\", \"romance\", \"romance\", \"romance\", \"romance\", \"romance\", \"romance\", \"romance\", \"romance\", \"romania\", \"romania\", \"romania\", \"romania\", \"romanian\", \"romanian\", \"romanian\", \"romantic\", \"romeo\", \"romeo\", \"rooney\", \"rubbish\", \"rubbish\", \"rubbish\", \"rubbish\", \"rubbish\", \"rubbish\", \"russia\", \"russia\", \"russia\", \"russian\", \"russian\", \"russian\", \"sabu\", \"sad\", \"sad\", \"salman khan\", \"salman khan\", \"sam raimi\", \"sammo hung\", \"sandler\", \"santa\", \"santa claus\", \"santa claus\", \"sarah michelle gellar\", \"sasquatch\", \"sasquatch\", \"saturday\", \"saturday night\", \"saturday night live\", \"saturday night live\", \"scare\", \"scarecrow\", \"scarecrow\", \"scarecrow\", \"scarecrow\", \"scarface\", \"scarface\", \"scary moments\", \"scary movies\", \"scene\", \"scene\", \"scene\", \"scene\", \"scene\", \"scene\", \"scene\", \"scene\", \"scene\", \"scene\", \"scene\", \"scene\", \"scene\", \"scene\", \"scene\", \"scene\", \"scene\", \"scene\", \"scene\", \"scene\", \"scenes\", \"scenes\", \"scenes\", \"scenes\", \"scenes\", \"scenes\", \"scenes\", \"scenes\", \"scenes\", \"scenes\", \"scenes\", \"scenes\", \"scenes\", \"scenes\", \"scenes\", \"scenes\", \"scenes\", \"scenes\", \"scenes\", \"scenes\", \"schindlers list\", \"schindlers list\", \"school\", \"school\", \"school\", \"school\", \"school\", \"school\", \"school\", \"school\", \"school\", \"school\", \"sci-fi\", \"sci-fi\", \"sci-fi\", \"sci-fi\", \"sci-fi\", \"scientist\", \"scientist\", \"scientist\", \"scientist\", \"scoop\", \"scottish\", \"scottish\", \"scottish\", \"screen\", \"screen\", \"screen\", \"screen\", \"screen\", \"screen\", \"screen\", \"screen\", \"screen\", \"screen\", \"screen\", \"screen\", \"screen\", \"screen\", \"screen\", \"screen\", \"screen\", \"screen\", \"screen\", \"screen play\", \"script\", \"script\", \"script\", \"script\", \"script\", \"script\", \"script\", \"script\", \"script\", \"script\", \"script\", \"script\", \"script\", \"script\", \"script\", \"script\", \"script\", \"scripts\", \"scripts\", \"scripts\", \"scripts\", \"scripts\", \"scripts\", \"scripts\", \"scripts\", \"scrooge\", \"seagal\", \"sean connery\", \"sean connery\", \"season\", \"season\", \"season\", \"second\", \"second\", \"second\", \"second\", \"second\", \"second\", \"second\", \"second\", \"second\", \"second\", \"second\", \"second\", \"second\", \"second\", \"second\", \"second\", \"second\", \"second\", \"second\", \"second\", \"second half\", \"second half\", \"second half\", \"second half\", \"second half\", \"second season\", \"second season\", \"seconds\", \"seconds\", \"seconds\", \"seconds\", \"seconds\", \"seconds\", \"seconds\", \"secret service\", \"secretary\", \"secretary\", \"secretary\", \"segment\", \"segment\", \"segment\", \"segment\", \"sense\", \"sense\", \"sense\", \"sense\", \"sense\", \"sense\", \"sense\", \"sense\", \"sense\", \"sense\", \"sense\", \"sense\", \"sense\", \"sense\", \"sense\", \"sense\", \"sense\", \"sense\", \"sense\", \"sense\", \"sequel\", \"sequel\", \"sequel\", \"sequel\", \"sequel\", \"sequel\", \"sequel\", \"sequel\", \"sequel\", \"sequel\", \"sequel\", \"sequel\", \"sequel\", \"serial killer\", \"serial killer\", \"serial killer\", \"serial killer\", \"serial killer\", \"series\", \"series\", \"series\", \"series\", \"series\", \"series\", \"series\", \"series\", \"series\", \"series\", \"series\", \"series\", \"sets\", \"sets\", \"sets\", \"sets\", \"sets\", \"sets\", \"sets\", \"sets\", \"sets\", \"sets\", \"sets\", \"sets\", \"sets\", \"sets\", \"seuss\", \"sex\", \"sex\", \"sex\", \"sex\", \"sex\", \"sex\", \"sex\", \"sex\", \"sex\", \"sex\", \"sex\", \"sex\", \"sex\", \"sex\", \"sex\", \"sex\", \"sex\", \"sex scenes\", \"sex scenes\", \"sex scenes\", \"sex scenes\", \"sexual content\", \"sexuality\", \"sexuality\", \"sexuality\", \"sexuality\", \"sexuality\", \"sexuality\", \"sf\", \"sf\", \"shaggy\", \"shakespeare\", \"shakespeare\", \"shakespeare\", \"shakespeare\", \"shakespeare\", \"shakespeare\", \"sharon stone\", \"shaw\", \"shemp\", \"sherlock holmes\", \"sholay\", \"short\", \"short\", \"short\", \"short\", \"short\", \"short\", \"short\", \"short\", \"shorty\", \"shot\", \"shot\", \"shot\", \"shot\", \"shot\", \"shot\", \"shot\", \"shot\", \"shot\", \"shot\", \"shot\", \"shot\", \"shot\", \"shot\", \"shot\", \"shots\", \"shots\", \"shots\", \"shots\", \"shots\", \"shots\", \"shots\", \"shots\", \"shots\", \"shots\", \"shots\", \"shots\", \"shower\", \"shower\", \"shower\", \"shower\", \"shower\", \"shows\", \"shows\", \"sicily\", \"sidney poitier\", \"sidney poitier\", \"sigourney weaver\", \"sigourney weaver\", \"silence\", \"silence\", \"silence\", \"silence\", \"silence\", \"silence\", \"silence\", \"silence lambs\", \"simpsons\", \"simpsons\", \"simpsons\", \"sinatra\", \"single thing\", \"sitcom\", \"sitcom\", \"sitcoms\", \"slap\", \"slasher\", \"slasher flick\", \"slasher movies\", \"slashers\", \"sleaze\", \"sleaze\", \"sleaze\", \"sleaze\", \"smith\", \"smith\", \"smith\", \"smith\", \"snipes\", \"snl\", \"snl\", \"snl\", \"snuff\", \"soccer\", \"society\", \"society\", \"society\", \"society\", \"society\", \"society\", \"society\", \"society\", \"society\", \"soft porn\", \"soldiers\", \"soldiers\", \"soldiers\", \"soldiers\", \"soldiers\", \"soldiers\", \"soldiers\", \"son\", \"son\", \"son\", \"son\", \"son\", \"son\", \"son\", \"son\", \"son\", \"son\", \"son\", \"son\", \"song\", \"song\", \"song\", \"song\", \"song\", \"song\", \"song\", \"song\", \"song\", \"song\", \"song\", \"song\", \"songs\", \"songs\", \"songs\", \"songs\", \"songs\", \"songs\", \"songs\", \"songs\", \"songs\", \"songs\", \"songs\", \"sopranos\", \"sort\", \"sort\", \"sort\", \"sort\", \"sort\", \"sort\", \"sort\", \"sort\", \"sort\", \"sort\", \"sort\", \"sort\", \"sort\", \"sort\", \"sort\", \"sort\", \"sort\", \"sort\", \"sort\", \"sound effects\", \"sound effects\", \"sound effects\", \"soundtrack\", \"soundtrack\", \"soundtrack\", \"soundtrack\", \"soundtrack\", \"soundtrack\", \"soundtrack\", \"soundtrack\", \"soundtrack\", \"soundtrack\", \"soundtrack\", \"soundtrack\", \"soundtrack\", \"soundtrack\", \"soundtrack\", \"soundtrack\", \"soundtrack\", \"soviet\", \"soviet\", \"soviet\", \"soviet union\", \"soviet union\", \"space\", \"space\", \"space\", \"space\", \"space\", \"space\", \"space\", \"space\", \"space\", \"space\", \"special effects\", \"special effects\", \"special effects\", \"special effects\", \"special effects\", \"special effects\", \"special effects\", \"special effects\", \"special effects\", \"special effects\", \"special effects\", \"spectator\", \"spencer\", \"spirituality\", \"splatter\", \"splatter\", \"spock\", \"ss\", \"ss\", \"stage\", \"stage\", \"stage\", \"stage\", \"stage\", \"stage\", \"stage\", \"stage\", \"stage\", \"stage\", \"stage\", \"stage\", \"stalin\", \"stalingrad\", \"stan\", \"stan laurel\", \"stanwyck\", \"star\", \"star\", \"star\", \"star\", \"star\", \"star\", \"star\", \"star\", \"star\", \"star\", \"star\", \"star\", \"star\", \"star\", \"star\", \"star trek\", \"star trek\", \"start\", \"start\", \"start\", \"start\", \"start\", \"start\", \"start\", \"start\", \"start\", \"start\", \"start\", \"start\", \"start\", \"start\", \"start\", \"start\", \"start\", \"stephen king\", \"stephen king\", \"stephen king\", \"stephen king\", \"stephen rea\", \"stepmother\", \"steve carell\", \"steven seagal\", \"stiller\", \"stinker\", \"stinker\", \"stooges\", \"stooges\", \"stooges\", \"stores\", \"stores\", \"story\", \"story\", \"story\", \"story\", \"story\", \"story\", \"story\", \"story\", \"story\", \"story\", \"story\", \"story\", \"story\", \"story\", \"story\", \"story\", \"story\", \"story\", \"story\", \"story\", \"story line\", \"story line\", \"story line\", \"story line\", \"story-telling\", \"strategy\", \"streep\", \"studio\", \"studio\", \"studio\", \"studio\", \"studio\", \"studio\", \"studio\", \"studio\", \"studio\", \"studio\", \"studio\", \"stuff\", \"stuff\", \"stuff\", \"stuff\", \"stuff\", \"stuff\", \"stuff\", \"stuff\", \"stuff\", \"stuff\", \"stuff\", \"stuff\", \"stuff\", \"stuff\", \"stuff\", \"style\", \"style\", \"style\", \"style\", \"style\", \"style\", \"style\", \"style\", \"style\", \"style\", \"style\", \"style\", \"style\", \"style\", \"style\", \"style\", \"style\", \"subject\", \"subject\", \"subject\", \"subject\", \"subject\", \"subject\", \"subject\", \"subject\", \"subtitles\", \"subtitles\", \"subtitles\", \"subtitles\", \"subtitles\", \"subtitles\", \"sunday\", \"sunday\", \"sunday\", \"sunday\", \"sunday\", \"sunday\", \"sunday\", \"sunday\", \"superiority\", \"superman\", \"superman\", \"superman\", \"superman\", \"superman\", \"superman\", \"susannah york\", \"suspense\", \"suspense\", \"suspense\", \"suspense\", \"suspense\", \"suspense\", \"suspense\", \"suspense\", \"suspense\", \"suspense\", \"suspension\", \"suspension\", \"sutherland\", \"swedish\", \"swedish\", \"swedish\", \"sydney\", \"sydney\", \"sydney\", \"sylvester\", \"symbolism\", \"symbolism\", \"symbolism\", \"takashi miike\", \"tale\", \"tale\", \"tale\", \"tale\", \"tale\", \"tale\", \"tale\", \"tale\", \"tale\", \"tale\", \"tale\", \"tale\", \"tale\", \"tale sisters\", \"talent\", \"talent\", \"talent\", \"talent\", \"talent\", \"talent\", \"talent\", \"talent\", \"talent\", \"talent\", \"talent\", \"talent\", \"talent\", \"talent\", \"talent\", \"tarantino\", \"tarantino\", \"tarantino\", \"tarantino\", \"tarantino\", \"tarkovsky\", \"tarzan\", \"teachers\", \"teachers\", \"tears\", \"tears\", \"tears\", \"tears\", \"tears\", \"tears\", \"tears\", \"tears\", \"tears\", \"tears\", \"technology\", \"technology\", \"technology\", \"technology\", \"technology\", \"teenager\", \"teenager\", \"teenager\", \"teenager\", \"teenager\", \"teenager\", \"teenager\", \"teenager\", \"teenager\", \"television\", \"television\", \"television\", \"television\", \"television\", \"television\", \"television\", \"television\", \"television\", \"television\", \"television\", \"telly\", \"tension\", \"tension\", \"tension\", \"tension\", \"tension\", \"tension\", \"tension\", \"tension\", \"tension\", \"terrible\", \"terrible\", \"terrible\", \"terrible\", \"terrible\", \"terrible\", \"terrible\", \"terrible\", \"terrible script\", \"terror\", \"terror\", \"terror\", \"terror\", \"terror\", \"terror\", \"terrorism\", \"terrorism\", \"terry gilliam\", \"texas\", \"texas\", \"texas\", \"texas\", \"texas\", \"texas\", \"texas\", \"texas\", \"texas\", \"texas\", \"thai\", \"thailand\", \"the-art\", \"the-art\", \"thelma ritter\", \"thing\", \"thing\", \"thing\", \"thing\", \"thing\", \"thing\", \"thing\", \"thing\", \"thing\", \"thing\", \"thing\", \"thing\", \"thing\", \"thing\", \"thing\", \"thing\", \"thing\", \"thing\", \"thing\", \"thing\", \"things\", \"things\", \"things\", \"things\", \"things\", \"things\", \"things\", \"things\", \"things\", \"things\", \"things\", \"things\", \"things\", \"things\", \"things\", \"things\", \"things\", \"things\", \"things\", \"things\", \"thread\", \"thread\", \"thread\", \"thunderball\", \"tierney\", \"tim burton\", \"tim burton\", \"tim curry\", \"time\", \"time\", \"time\", \"time\", \"time\", \"time\", \"time\", \"time\", \"time\", \"time\", \"time\", \"time\", \"time\", \"time\", \"time\", \"time\", \"time\", \"time\", \"time\", \"time\", \"time travel\", \"time travel\", \"time travel\", \"times\", \"times\", \"times\", \"times\", \"times\", \"times\", \"times\", \"times\", \"times\", \"times\", \"times\", \"times\", \"times\", \"times\", \"times\", \"times\", \"times\", \"times\", \"times\", \"times\", \"today\", \"today\", \"today\", \"today\", \"today\", \"today\", \"today\", \"today\", \"today\", \"today\", \"today\", \"today\", \"today\", \"today\", \"today\", \"today\", \"today\", \"today\", \"tom arnold\", \"tom berenger\", \"tom berenger\", \"tom hanks\", \"tom hanks\", \"tom hanks\", \"tom hanks\", \"tony scott\", \"toronto\", \"toronto\", \"total recall\", \"touching story\", \"towel\", \"town\", \"town\", \"town\", \"town\", \"town\", \"town\", \"town\", \"town\", \"town\", \"town\", \"town\", \"town\", \"town\", \"town\", \"traditions\", \"trains\", \"trains\", \"trash\", \"trash\", \"trash\", \"trash\", \"trek\", \"trepidation\", \"trey parker\", \"trinity\", \"tripe\", \"tripe\", \"tripe\", \"triumph\", \"triumph\", \"triumph\", \"troma\", \"trunk\", \"trust\", \"trust\", \"trust\", \"truth\", \"truth\", \"truth\", \"truth\", \"truth\", \"truth\", \"truth\", \"truth\", \"truth\", \"truth\", \"truth\", \"truth\", \"truth\", \"truth\", \"truth\", \"truth\", \"truth\", \"turn century\", \"tv\", \"tv\", \"tv\", \"tv\", \"tv\", \"tv\", \"tv\", \"tv\", \"tv\", \"tv\", \"tv\", \"tv\", \"tv\", \"tv\", \"tv guide\", \"tv series\", \"tv series\", \"tv series\", \"tv series\", \"tv series\", \"two-thirds\", \"u.k.\", \"uma thurman\", \"uma thurman\", \"undead\", \"undertaker\", \"unintentional humor\", \"united states\", \"united states\", \"united states\", \"united states\", \"universal soldier\", \"unknown actors\", \"ups\", \"ussr\", \"valley\", \"valley\", \"vampire\", \"vampire\", \"vampire movies\", \"vampires\", \"van damme\", \"velvet\", \"verhoeven\", \"version\", \"version\", \"version\", \"version\", \"version\", \"version\", \"version\", \"version\", \"version\", \"version\", \"version\", \"version\", \"vertigo\", \"victims\", \"victims\", \"victims\", \"victims\", \"victims\", \"victims\", \"victims\", \"victims\", \"victims\", \"victoria\", \"victoria\", \"victoria\", \"video store\", \"video store\", \"video store\", \"video store\", \"vietnam\", \"vietnam\", \"vietnam\", \"vietnam\", \"vietnam\", \"view\", \"view\", \"view\", \"view\", \"view\", \"view\", \"view\", \"view\", \"view\", \"view\", \"view\", \"view\", \"view\", \"view\", \"view\", \"view\", \"view\", \"viewer\", \"viewer\", \"viewer\", \"viewer\", \"viewer\", \"viewer\", \"viewer\", \"viewer\", \"viewer\", \"viewer\", \"viewer\", \"viewer\", \"viewer\", \"viewer\", \"viewer\", \"viewer\", \"viewer\", \"viewer\", \"villains\", \"villains\", \"villains\", \"villains\", \"villains\", \"villains\", \"villains\", \"villains\", \"vin diesel\", \"visuals\", \"visuals\", \"visuals\", \"visuals\", \"voice\", \"voice\", \"voice\", \"voice\", \"voice\", \"voice\", \"voice\", \"voice\", \"voice\", \"voice\", \"voice\", \"voice\", \"voice\", \"voice\", \"voice\", \"voice acting\", \"voices\", \"voices\", \"voices\", \"voices\", \"voices\", \"voices\", \"voices\", \"voices\", \"voices\", \"voodoo\", \"vote\", \"vote\", \"vote\", \"vote\", \"voyager\", \"voyager\", \"vulcan\", \"wallace\", \"wallace\", \"walt disney\", \"walter matthau\", \"war\", \"war\", \"war\", \"war\", \"war\", \"war\", \"warners\", \"wars\", \"washington\", \"washington\", \"washington\", \"waste\", \"waste\", \"waste\", \"waste\", \"waste\", \"watson\", \"watson\", \"wax\", \"way\", \"way\", \"way\", \"way\", \"way\", \"way\", \"way\", \"way\", \"way\", \"way\", \"way\", \"way\", \"way\", \"way\", \"way\", \"way\", \"way\", \"way\", \"way\", \"way\", \"wayans\", \"wayans\", \"weak attempt\", \"weed\", \"weed\", \"welles\", \"wes craven\", \"wes craven\", \"wes craven\", \"wesley snipes\", \"wesley snipes\", \"west point\", \"westerns\", \"westerns\", \"westerns\", \"westerns\", \"whites\", \"whites\", \"wife\", \"wife\", \"wife\", \"wife\", \"wife\", \"wife\", \"wife\", \"wife\", \"wife\", \"wife\", \"wife\", \"wife\", \"wife\", \"wife\", \"wife\", \"wife\", \"wife\", \"wild animals\", \"william h. macy\", \"william h. macy\", \"william haines\", \"winchester\", \"winchester\", \"wind\", \"wind\", \"wind\", \"wind\", \"wind\", \"wind\", \"wind\", \"wind\", \"wind\", \"wind\", \"wind\", \"wind\", \"wit\", \"wit\", \"wit\", \"wit\", \"wit\", \"wit\", \"wit\", \"wit\", \"wit\", \"wizard\", \"wizard oz\", \"wolf man\", \"woman\", \"woman\", \"woman\", \"woman\", \"woman\", \"woman\", \"woman\", \"woman\", \"woman\", \"woman\", \"woman\", \"woman\", \"woman\", \"woman\", \"woman\", \"woman\", \"women\", \"women\", \"women\", \"women\", \"women\", \"women\", \"women\", \"women\", \"women\", \"women\", \"women\", \"women\", \"women\", \"women\", \"women\", \"women\", \"wonderland\", \"wonderland\", \"wonderland\", \"wood\", \"wood\", \"wood\", \"wood\", \"wood\", \"woods\", \"woods\", \"woods\", \"woods\", \"woods\", \"woods\", \"woods\", \"woody allen\", \"woody allen\", \"woody allen\", \"woody allen\", \"words\", \"words\", \"words\", \"words\", \"words\", \"words\", \"words\", \"words\", \"words\", \"words\", \"words\", \"words\", \"words\", \"words\", \"words\", \"words\", \"words\", \"words\", \"words\", \"work\", \"work\", \"work\", \"work\", \"work\", \"work\", \"work\", \"work\", \"work\", \"work\", \"work\", \"work\", \"work\", \"work\", \"work\", \"work\", \"work\", \"work\", \"work\", \"world\", \"world\", \"world\", \"world\", \"world\", \"world\", \"world\", \"world\", \"world\", \"world\", \"world\", \"world\", \"world\", \"world\", \"world\", \"world\", \"world\", \"world\", \"world\", \"world\", \"worse\", \"worse\", \"worse movies\", \"worst\", \"worst\", \"worst\", \"worst\", \"worst acting\", \"worst acting\", \"worst movies\", \"worst movies\", \"worst movies\", \"worth\", \"worth\", \"worth\", \"wrestlemania\", \"writers\", \"writers\", \"writers\", \"writers\", \"writers\", \"writers\", \"writers\", \"writers\", \"writers\", \"writers\", \"writers\", \"writers\", \"writing\", \"writing\", \"writing\", \"writing\", \"writing\", \"writing\", \"writing\", \"writing\", \"writing\", \"writing\", \"wwe\", \"wwii\", \"wwii\", \"wwii\", \"wwii\", \"wwii\", \"wwii\", \"wwii\", \"wwii\", \"year\", \"year\", \"year\", \"year\", \"year\", \"year\", \"year\", \"year\", \"year\", \"year\", \"year\", \"year\", \"year\", \"year\", \"year\", \"year\", \"year\", \"year\", \"year\", \"year\", \"years\", \"years\", \"years\", \"years\", \"years\", \"years\", \"years\", \"years\", \"years\", \"years\", \"years\", \"years\", \"years\", \"years\", \"years\", \"years\", \"years\", \"years\", \"years\", \"years\", \"young kids\", \"young kids\", \"youngest son\", \"yul brynner\", \"zero day\", \"zoey\", \"zombie\", \"zombie\", \"zombie movies\", \"zombies\", \"zombies\"]}, \"R\": 30, \"lambda.step\": 0.01, \"plot.opts\": {\"xlab\": \"PC1\", \"ylab\": \"PC2\"}, \"topic.order\": [20, 11, 16, 2, 10, 4, 8, 19, 9, 18, 1, 6, 14, 7, 5, 13, 17, 3, 15, 12]};\n",
       "\n",
       "function LDAvis_load_lib(url, callback){\n",
       "  var s = document.createElement('script');\n",
       "  s.src = url;\n",
       "  s.async = true;\n",
       "  s.onreadystatechange = s.onload = callback;\n",
       "  s.onerror = function(){console.warn(\"failed to load library \" + url);};\n",
       "  document.getElementsByTagName(\"head\")[0].appendChild(s);\n",
       "}\n",
       "\n",
       "if(typeof(LDAvis) !== \"undefined\"){\n",
       "   // already loaded: just create the visualization\n",
       "   !function(LDAvis){\n",
       "       new LDAvis(\"#\" + \"ldavis_el701061403783710697767111260915\", ldavis_el701061403783710697767111260915_data);\n",
       "   }(LDAvis);\n",
       "}else if(typeof define === \"function\" && define.amd){\n",
       "   // require.js is available: use it to load d3/LDAvis\n",
       "   require.config({paths: {d3: \"https://cdnjs.cloudflare.com/ajax/libs/d3/3.5.5/d3.min\"}});\n",
       "   require([\"d3\"], function(d3){\n",
       "      window.d3 = d3;\n",
       "      LDAvis_load_lib(\"https://cdn.rawgit.com/bmabey/pyLDAvis/files/ldavis.v1.0.0.js\", function(){\n",
       "        new LDAvis(\"#\" + \"ldavis_el701061403783710697767111260915\", ldavis_el701061403783710697767111260915_data);\n",
       "      });\n",
       "    });\n",
       "}else{\n",
       "    // require.js not available: dynamically load d3 & LDAvis\n",
       "    LDAvis_load_lib(\"https://cdnjs.cloudflare.com/ajax/libs/d3/3.5.5/d3.min.js\", function(){\n",
       "         LDAvis_load_lib(\"https://cdn.rawgit.com/bmabey/pyLDAvis/files/ldavis.v1.0.0.js\", function(){\n",
       "                 new LDAvis(\"#\" + \"ldavis_el701061403783710697767111260915\", ldavis_el701061403783710697767111260915_data);\n",
       "            })\n",
       "         });\n",
       "}\n",
       "</script>"
      ],
      "text/plain": [
       "PreparedData(topic_coordinates=              x         y  topics  cluster       Freq\n",
       "topic                                                \n",
       "19    -0.077966  0.007621       1        1  10.217279\n",
       "10     0.190653  0.015439       2        1   8.080403\n",
       "15     0.114138 -0.108173       3        1   7.365652\n",
       "1      0.025091  0.183834       4        1   6.472254\n",
       "9     -0.000349  0.111489       5        1   5.885510\n",
       "3      0.104240  0.017589       6        1   5.751247\n",
       "7      0.074969 -0.109831       7        1   5.436632\n",
       "18    -0.114430 -0.080036       8        1   4.984313\n",
       "8      0.060586  0.173566       9        1   4.983844\n",
       "17    -0.062662  0.037226      10        1   4.631974\n",
       "0     -0.171435  0.007778      11        1   4.500348\n",
       "5     -0.138931 -0.070587      12        1   4.307920\n",
       "13    -0.114054  0.017042      13        1   3.662142\n",
       "6     -0.031351 -0.185138      14        1   3.564843\n",
       "4      0.134391 -0.046130      15        1   3.502509\n",
       "12     0.064663  0.035066      16        1   3.413517\n",
       "16    -0.013608 -0.096692      17        1   3.355221\n",
       "2      0.027686 -0.001496      18        1   3.353065\n",
       "14    -0.161795  0.093022      19        1   3.308989\n",
       "11     0.090164 -0.001589      20        1   3.222336, topic_info=            Term         Freq        Total Category  logprob  loglift\n",
       "114         kids  1500.000000  1500.000000  Default  30.0000  30.0000\n",
       "81        acting  4301.000000  4301.000000  Default  29.0000  29.0000\n",
       "211      english  1227.000000  1227.000000  Default  28.0000  28.0000\n",
       "1437        crap   866.000000   866.000000  Default  27.0000  27.0000\n",
       "55    characters  5490.000000  5490.000000  Default  26.0000  26.0000\n",
       "...          ...          ...          ...      ...      ...      ...\n",
       "226          man   113.133649  2883.148133  Topic20  -5.5386   0.1970\n",
       "118        story   110.636442  8086.566151  Topic20  -5.5610  -0.8566\n",
       "157        times   100.585023  2047.783314  Topic20  -5.6562   0.4216\n",
       "55    characters   100.214920  5490.805818  Topic20  -5.6599  -0.5684\n",
       "274          dvd    99.639382  2208.740631  Topic20  -5.6656   0.3364\n",
       "\n",
       "[1673 rows x 6 columns], token_table=      Topic      Freq           Term\n",
       "term                                \n",
       "6682     20  0.973226        \"action\n",
       "7544      2  0.975706         1 star\n",
       "121      14  0.071346       10 lines\n",
       "121      16  0.909666       10 lines\n",
       "5134      4  0.969142           13th\n",
       "...     ...       ...            ...\n",
       "80        2  0.197871         zombie\n",
       "80        9  0.798080         zombie\n",
       "4355      9  0.968012  zombie movies\n",
       "2886      2  0.141744        zombies\n",
       "2886      9  0.854096        zombies\n",
       "\n",
       "[5538 rows x 3 columns], R=30, lambda_step=0.01, plot_opts={'xlab': 'PC1', 'ylab': 'PC2'}, topic_order=[20, 11, 16, 2, 10, 4, 8, 19, 9, 18, 1, 6, 14, 7, 5, 13, 17, 3, 15, 12])"
      ]
     },
     "execution_count": 56,
     "metadata": {},
     "output_type": "execute_result"
    }
   ],
   "source": [
    "vis"
   ]
  },
  {
   "cell_type": "markdown",
   "metadata": {},
   "source": [
    "### Estimated percentage of topics that exist in each document\n"
   ]
  },
  {
   "cell_type": "code",
   "execution_count": 57,
   "metadata": {
    "id": "hJzi4MuOCOyY",
    "outputId": "199c077d-c27f-44f6-ca43-655372817730"
   },
   "outputs": [
    {
     "name": "stderr",
     "output_type": "stream",
     "text": [
      "/Users/shahnam/opt/anaconda3/envs/ML_NLP/lib/python3.7/site-packages/ipykernel/ipkernel.py:283: DeprecationWarning: `should_run_async` will not call `transform_cell` automatically in the future. Please pass the result to `transformed_cell` argument and any exception that happen during thetransform in `preprocessing_exc_tuple` in IPython 7.17 and above.\n",
      "  and should_run_async(code)\n"
     ]
    },
    {
     "data": {
      "text/plain": [
       "[(4, 0.3299404),\n",
       " (7, 0.11100042),\n",
       " (9, 0.051710602),\n",
       " (12, 0.3496185),\n",
       " (14, 0.1368771)]"
      ]
     },
     "execution_count": 57,
     "metadata": {},
     "output_type": "execute_result"
    }
   ],
   "source": [
    "# estimated percentage of topics that exist in each document (topic#, %of doc)\n",
    "lda[corpus[0]]"
   ]
  },
  {
   "cell_type": "code",
   "execution_count": 58,
   "metadata": {
    "id": "raUMQ7lZCOya",
    "outputId": "e47ee92f-2721-4405-b847-580cc91eed5f"
   },
   "outputs": [
    {
     "name": "stderr",
     "output_type": "stream",
     "text": [
      "/Users/shahnam/opt/anaconda3/envs/ML_NLP/lib/python3.7/site-packages/ipykernel/ipkernel.py:283: DeprecationWarning: `should_run_async` will not call `transform_cell` automatically in the future. Please pass the result to `transformed_cell` argument and any exception that happen during thetransform in `preprocessing_exc_tuple` in IPython 7.17 and above.\n",
      "  and should_run_async(code)\n"
     ]
    }
   ],
   "source": [
    "distro = [lda[doc] for doc in corpus]"
   ]
  },
  {
   "cell_type": "code",
   "execution_count": 59,
   "metadata": {
    "id": "7H7KE8yRCOyb",
    "outputId": "d0986d4e-32c2-46fd-baa3-99cdf9b7d044"
   },
   "outputs": [
    {
     "name": "stderr",
     "output_type": "stream",
     "text": [
      "/Users/shahnam/opt/anaconda3/envs/ML_NLP/lib/python3.7/site-packages/ipykernel/ipkernel.py:283: DeprecationWarning: `should_run_async` will not call `transform_cell` automatically in the future. Please pass the result to `transformed_cell` argument and any exception that happen during thetransform in `preprocessing_exc_tuple` in IPython 7.17 and above.\n",
      "  and should_run_async(code)\n"
     ]
    },
    {
     "data": {
      "text/plain": [
       "[(4, 0.329935),\n",
       " (7, 0.111044124),\n",
       " (9, 0.051652264),\n",
       " (12, 0.349614),\n",
       " (14, 0.13690169)]"
      ]
     },
     "execution_count": 59,
     "metadata": {},
     "output_type": "execute_result"
    }
   ],
   "source": [
    "distro[0]"
   ]
  },
  {
   "cell_type": "markdown",
   "metadata": {},
   "source": [
    "Standardizing the length of distribution variable"
   ]
  },
  {
   "cell_type": "code",
   "execution_count": 60,
   "metadata": {
    "id": "mj2dSMuDCOye",
    "outputId": "62756f58-6cbe-4408-905f-92033ad9f727"
   },
   "outputs": [
    {
     "name": "stderr",
     "output_type": "stream",
     "text": [
      "/Users/shahnam/opt/anaconda3/envs/ML_NLP/lib/python3.7/site-packages/ipykernel/ipkernel.py:283: DeprecationWarning: `should_run_async` will not call `transform_cell` automatically in the future. Please pass the result to `transformed_cell` argument and any exception that happen during thetransform in `preprocessing_exc_tuple` in IPython 7.17 and above.\n",
      "  and should_run_async(code)\n"
     ]
    }
   ],
   "source": [
    "def update(doc):\n",
    "    \"\"\"\n",
    "    d_dist.keys: topic\n",
    "    d_dist[topic]: percentage of a doc filled with the topic\n",
    "    \"\"\"\n",
    "    # fills all the irrelevant topic keys for a doc with 0 distribution probability\n",
    "    d_dist = {k:0 for k in range(0,20)}\n",
    "    for t in doc:\n",
    "        #update topic # t[0] key with t[1] value\n",
    "        d_dist[t[0]] = t[1]\n",
    "    return d_dist\n",
    "\n",
    "new_distro = [update(doc) for doc in distro] "
   ]
  },
  {
   "cell_type": "code",
   "execution_count": 61,
   "metadata": {},
   "outputs": [
    {
     "name": "stderr",
     "output_type": "stream",
     "text": [
      "/Users/shahnam/opt/anaconda3/envs/ML_NLP/lib/python3.7/site-packages/ipykernel/ipkernel.py:283: DeprecationWarning: `should_run_async` will not call `transform_cell` automatically in the future. Please pass the result to `transformed_cell` argument and any exception that happen during thetransform in `preprocessing_exc_tuple` in IPython 7.17 and above.\n",
      "  and should_run_async(code)\n"
     ]
    },
    {
     "data": {
      "text/plain": [
       "[{0: 0,\n",
       "  1: 0,\n",
       "  2: 0,\n",
       "  3: 0,\n",
       "  4: 0.329935,\n",
       "  5: 0,\n",
       "  6: 0,\n",
       "  7: 0.111044124,\n",
       "  8: 0,\n",
       "  9: 0.051652264,\n",
       "  10: 0,\n",
       "  11: 0,\n",
       "  12: 0.349614,\n",
       "  13: 0,\n",
       "  14: 0.13690169,\n",
       "  15: 0,\n",
       "  16: 0,\n",
       "  17: 0,\n",
       "  18: 0,\n",
       "  19: 0},\n",
       " {0: 0,\n",
       "  1: 0,\n",
       "  2: 0,\n",
       "  3: 0,\n",
       "  4: 0,\n",
       "  5: 0,\n",
       "  6: 0,\n",
       "  7: 0,\n",
       "  8: 0,\n",
       "  9: 0,\n",
       "  10: 0,\n",
       "  11: 0,\n",
       "  12: 0,\n",
       "  13: 0.440641,\n",
       "  14: 0,\n",
       "  15: 0,\n",
       "  16: 0.33726174,\n",
       "  17: 0,\n",
       "  18: 0,\n",
       "  19: 0.17734642}]"
      ]
     },
     "execution_count": 61,
     "metadata": {},
     "output_type": "execute_result"
    }
   ],
   "source": [
    "# topic distribution for doc0 and doc1\n",
    "new_distro[:2]"
   ]
  },
  {
   "cell_type": "code",
   "execution_count": 62,
   "metadata": {
    "id": "vC-HZot8COyg",
    "outputId": "e5aacd37-5211-462e-98ee-0e556207eacb"
   },
   "outputs": [
    {
     "name": "stderr",
     "output_type": "stream",
     "text": [
      "/Users/shahnam/opt/anaconda3/envs/ML_NLP/lib/python3.7/site-packages/ipykernel/ipkernel.py:283: DeprecationWarning: `should_run_async` will not call `transform_cell` automatically in the future. Please pass the result to `transformed_cell` argument and any exception that happen during thetransform in `preprocessing_exc_tuple` in IPython 7.17 and above.\n",
      "  and should_run_async(code)\n"
     ]
    },
    {
     "data": {
      "text/html": [
       "<div>\n",
       "<style scoped>\n",
       "    .dataframe tbody tr th:only-of-type {\n",
       "        vertical-align: middle;\n",
       "    }\n",
       "\n",
       "    .dataframe tbody tr th {\n",
       "        vertical-align: top;\n",
       "    }\n",
       "\n",
       "    .dataframe thead th {\n",
       "        text-align: right;\n",
       "    }\n",
       "</style>\n",
       "<table border=\"1\" class=\"dataframe\">\n",
       "  <thead>\n",
       "    <tr style=\"text-align: right;\">\n",
       "      <th></th>\n",
       "      <th>0</th>\n",
       "      <th>1</th>\n",
       "      <th>2</th>\n",
       "      <th>3</th>\n",
       "      <th>4</th>\n",
       "      <th>5</th>\n",
       "      <th>6</th>\n",
       "      <th>7</th>\n",
       "      <th>8</th>\n",
       "      <th>9</th>\n",
       "      <th>10</th>\n",
       "      <th>11</th>\n",
       "      <th>12</th>\n",
       "      <th>13</th>\n",
       "      <th>14</th>\n",
       "      <th>15</th>\n",
       "      <th>16</th>\n",
       "      <th>17</th>\n",
       "      <th>18</th>\n",
       "      <th>19</th>\n",
       "    </tr>\n",
       "  </thead>\n",
       "  <tbody>\n",
       "    <tr>\n",
       "      <th>0</th>\n",
       "      <td>0.0</td>\n",
       "      <td>0.0</td>\n",
       "      <td>0.0</td>\n",
       "      <td>0.0</td>\n",
       "      <td>0.329935</td>\n",
       "      <td>0.000000</td>\n",
       "      <td>0.000000</td>\n",
       "      <td>0.111044</td>\n",
       "      <td>0.000000</td>\n",
       "      <td>0.051652</td>\n",
       "      <td>0.0</td>\n",
       "      <td>0.0</td>\n",
       "      <td>0.349614</td>\n",
       "      <td>0.000000</td>\n",
       "      <td>0.136902</td>\n",
       "      <td>0.000000</td>\n",
       "      <td>0.000000</td>\n",
       "      <td>0.00000</td>\n",
       "      <td>0.00000</td>\n",
       "      <td>0.000000</td>\n",
       "    </tr>\n",
       "    <tr>\n",
       "      <th>1</th>\n",
       "      <td>0.0</td>\n",
       "      <td>0.0</td>\n",
       "      <td>0.0</td>\n",
       "      <td>0.0</td>\n",
       "      <td>0.000000</td>\n",
       "      <td>0.000000</td>\n",
       "      <td>0.000000</td>\n",
       "      <td>0.000000</td>\n",
       "      <td>0.000000</td>\n",
       "      <td>0.000000</td>\n",
       "      <td>0.0</td>\n",
       "      <td>0.0</td>\n",
       "      <td>0.000000</td>\n",
       "      <td>0.440641</td>\n",
       "      <td>0.000000</td>\n",
       "      <td>0.000000</td>\n",
       "      <td>0.337262</td>\n",
       "      <td>0.00000</td>\n",
       "      <td>0.00000</td>\n",
       "      <td>0.177346</td>\n",
       "    </tr>\n",
       "    <tr>\n",
       "      <th>2</th>\n",
       "      <td>0.0</td>\n",
       "      <td>0.0</td>\n",
       "      <td>0.0</td>\n",
       "      <td>0.0</td>\n",
       "      <td>0.224646</td>\n",
       "      <td>0.000000</td>\n",
       "      <td>0.356177</td>\n",
       "      <td>0.000000</td>\n",
       "      <td>0.000000</td>\n",
       "      <td>0.000000</td>\n",
       "      <td>0.0</td>\n",
       "      <td>0.0</td>\n",
       "      <td>0.000000</td>\n",
       "      <td>0.000000</td>\n",
       "      <td>0.000000</td>\n",
       "      <td>0.000000</td>\n",
       "      <td>0.000000</td>\n",
       "      <td>0.36916</td>\n",
       "      <td>0.00000</td>\n",
       "      <td>0.000000</td>\n",
       "    </tr>\n",
       "    <tr>\n",
       "      <th>3</th>\n",
       "      <td>0.0</td>\n",
       "      <td>0.0</td>\n",
       "      <td>0.0</td>\n",
       "      <td>0.0</td>\n",
       "      <td>0.000000</td>\n",
       "      <td>0.378235</td>\n",
       "      <td>0.000000</td>\n",
       "      <td>0.000000</td>\n",
       "      <td>0.264829</td>\n",
       "      <td>0.188488</td>\n",
       "      <td>0.0</td>\n",
       "      <td>0.0</td>\n",
       "      <td>0.000000</td>\n",
       "      <td>0.000000</td>\n",
       "      <td>0.106876</td>\n",
       "      <td>0.000000</td>\n",
       "      <td>0.000000</td>\n",
       "      <td>0.00000</td>\n",
       "      <td>0.00000</td>\n",
       "      <td>0.000000</td>\n",
       "    </tr>\n",
       "    <tr>\n",
       "      <th>4</th>\n",
       "      <td>0.0</td>\n",
       "      <td>0.0</td>\n",
       "      <td>0.0</td>\n",
       "      <td>0.0</td>\n",
       "      <td>0.000000</td>\n",
       "      <td>0.000000</td>\n",
       "      <td>0.000000</td>\n",
       "      <td>0.000000</td>\n",
       "      <td>0.000000</td>\n",
       "      <td>0.000000</td>\n",
       "      <td>0.0</td>\n",
       "      <td>0.0</td>\n",
       "      <td>0.256743</td>\n",
       "      <td>0.000000</td>\n",
       "      <td>0.000000</td>\n",
       "      <td>0.256224</td>\n",
       "      <td>0.000000</td>\n",
       "      <td>0.00000</td>\n",
       "      <td>0.16609</td>\n",
       "      <td>0.294249</td>\n",
       "    </tr>\n",
       "  </tbody>\n",
       "</table>\n",
       "</div>"
      ],
      "text/plain": [
       "    0    1    2    3         4         5         6         7         8   \\\n",
       "0  0.0  0.0  0.0  0.0  0.329935  0.000000  0.000000  0.111044  0.000000   \n",
       "1  0.0  0.0  0.0  0.0  0.000000  0.000000  0.000000  0.000000  0.000000   \n",
       "2  0.0  0.0  0.0  0.0  0.224646  0.000000  0.356177  0.000000  0.000000   \n",
       "3  0.0  0.0  0.0  0.0  0.000000  0.378235  0.000000  0.000000  0.264829   \n",
       "4  0.0  0.0  0.0  0.0  0.000000  0.000000  0.000000  0.000000  0.000000   \n",
       "\n",
       "         9    10   11        12        13        14        15        16  \\\n",
       "0  0.051652  0.0  0.0  0.349614  0.000000  0.136902  0.000000  0.000000   \n",
       "1  0.000000  0.0  0.0  0.000000  0.440641  0.000000  0.000000  0.337262   \n",
       "2  0.000000  0.0  0.0  0.000000  0.000000  0.000000  0.000000  0.000000   \n",
       "3  0.188488  0.0  0.0  0.000000  0.000000  0.106876  0.000000  0.000000   \n",
       "4  0.000000  0.0  0.0  0.256743  0.000000  0.000000  0.256224  0.000000   \n",
       "\n",
       "        17       18        19  \n",
       "0  0.00000  0.00000  0.000000  \n",
       "1  0.00000  0.00000  0.177346  \n",
       "2  0.36916  0.00000  0.000000  \n",
       "3  0.00000  0.00000  0.000000  \n",
       "4  0.00000  0.16609  0.294249  "
      ]
     },
     "execution_count": 62,
     "metadata": {},
     "output_type": "execute_result"
    }
   ],
   "source": [
    "# .from_records Creates a DataFrame object from a structured ndarray, sequence of tuples or dicts, or DataFrame\n",
    "# Keys are the column labels\n",
    "topics = pd.DataFrame.from_records(new_distro)\n",
    "topics.head()"
   ]
  },
  {
   "cell_type": "code",
   "execution_count": 63,
   "metadata": {
    "id": "bcEusf0hCOyk",
    "outputId": "1b74bc30-53dd-4701-e49f-3a4901092447"
   },
   "outputs": [
    {
     "name": "stdout",
     "output_type": "stream",
     "text": [
      "(40436, 20)\n"
     ]
    },
    {
     "name": "stderr",
     "output_type": "stream",
     "text": [
      "/Users/shahnam/opt/anaconda3/envs/ML_NLP/lib/python3.7/site-packages/ipykernel/ipkernel.py:283: DeprecationWarning: `should_run_async` will not call `transform_cell` automatically in the future. Please pass the result to `transformed_cell` argument and any exception that happen during thetransform in `preprocessing_exc_tuple` in IPython 7.17 and above.\n",
      "  and should_run_async(code)\n"
     ]
    },
    {
     "data": {
      "text/html": [
       "<div>\n",
       "<style scoped>\n",
       "    .dataframe tbody tr th:only-of-type {\n",
       "        vertical-align: middle;\n",
       "    }\n",
       "\n",
       "    .dataframe tbody tr th {\n",
       "        vertical-align: top;\n",
       "    }\n",
       "\n",
       "    .dataframe thead th {\n",
       "        text-align: right;\n",
       "    }\n",
       "</style>\n",
       "<table border=\"1\" class=\"dataframe\">\n",
       "  <thead>\n",
       "    <tr style=\"text-align: right;\">\n",
       "      <th></th>\n",
       "      <th>\"life\", \"story\", \"book\", \"love\", \"time\"</th>\n",
       "      <th>\"killer\", \"way\", \"end\", \"time\", \"horror\"</th>\n",
       "      <th>\"people\", \"comedy\", \"half\", \"time\", \"scene\"</th>\n",
       "      <th>\"scenes\", \"time\", \"scene\", \"director\", \"camera\"</th>\n",
       "      <th>\"time\", \"people\", \"thing\", \"fact\", \"characters\"</th>\n",
       "      <th>\"story\", \"time\", \"oscar\", \"love\", \"life\"</th>\n",
       "      <th>\"english\", \"british\", \"american\", \"cast\", \"script\"</th>\n",
       "      <th>\"characters\", \"series\", \"story\", \"actors\", \"plot\"</th>\n",
       "      <th>\"blood\", \"horror\", \"gore\", \"end\", \"people\"</th>\n",
       "      <th>\"kids\", \"people\", \"family\", \"time\", \"tv\"</th>\n",
       "      <th>\"people\", \"time\", \"acting\", \"plot\", \"money\"</th>\n",
       "      <th>\"night\", \"fact\", \"actors\", \"saturday\", \"time\"</th>\n",
       "      <th>\"people\", \"action\", \"world\", \"christian\", \"movies\"</th>\n",
       "      <th>\"story\", \"disney\", \"time\", \"animation\", \"music\"</th>\n",
       "      <th>\"men\", \"women\", \"hollywood\", \"love\", \"role\"</th>\n",
       "      <th>\"characters\", \"story\", \"time\", \"plot\", \"acting\"</th>\n",
       "      <th>\"hollywood\", \"time\", \"plot\", \"story\", \"role\"</th>\n",
       "      <th>\"story\", \"life\", \"wife\", \"character\", \"end\"</th>\n",
       "      <th>\"time\", \"french\", \"story\", \"american\", \"role\"</th>\n",
       "      <th>\"people\", \"life\", \"story\", \"world\", \"war\"</th>\n",
       "    </tr>\n",
       "  </thead>\n",
       "  <tbody>\n",
       "    <tr>\n",
       "      <th>0</th>\n",
       "      <td>0.0</td>\n",
       "      <td>0.0</td>\n",
       "      <td>0.0</td>\n",
       "      <td>0.0</td>\n",
       "      <td>0.329935</td>\n",
       "      <td>0.000000</td>\n",
       "      <td>0.000000</td>\n",
       "      <td>0.111044</td>\n",
       "      <td>0.000000</td>\n",
       "      <td>0.051652</td>\n",
       "      <td>0.0</td>\n",
       "      <td>0.0</td>\n",
       "      <td>0.349614</td>\n",
       "      <td>0.000000</td>\n",
       "      <td>0.136902</td>\n",
       "      <td>0.000000</td>\n",
       "      <td>0.000000</td>\n",
       "      <td>0.00000</td>\n",
       "      <td>0.00000</td>\n",
       "      <td>0.000000</td>\n",
       "    </tr>\n",
       "    <tr>\n",
       "      <th>1</th>\n",
       "      <td>0.0</td>\n",
       "      <td>0.0</td>\n",
       "      <td>0.0</td>\n",
       "      <td>0.0</td>\n",
       "      <td>0.000000</td>\n",
       "      <td>0.000000</td>\n",
       "      <td>0.000000</td>\n",
       "      <td>0.000000</td>\n",
       "      <td>0.000000</td>\n",
       "      <td>0.000000</td>\n",
       "      <td>0.0</td>\n",
       "      <td>0.0</td>\n",
       "      <td>0.000000</td>\n",
       "      <td>0.440641</td>\n",
       "      <td>0.000000</td>\n",
       "      <td>0.000000</td>\n",
       "      <td>0.337262</td>\n",
       "      <td>0.00000</td>\n",
       "      <td>0.00000</td>\n",
       "      <td>0.177346</td>\n",
       "    </tr>\n",
       "    <tr>\n",
       "      <th>2</th>\n",
       "      <td>0.0</td>\n",
       "      <td>0.0</td>\n",
       "      <td>0.0</td>\n",
       "      <td>0.0</td>\n",
       "      <td>0.224646</td>\n",
       "      <td>0.000000</td>\n",
       "      <td>0.356177</td>\n",
       "      <td>0.000000</td>\n",
       "      <td>0.000000</td>\n",
       "      <td>0.000000</td>\n",
       "      <td>0.0</td>\n",
       "      <td>0.0</td>\n",
       "      <td>0.000000</td>\n",
       "      <td>0.000000</td>\n",
       "      <td>0.000000</td>\n",
       "      <td>0.000000</td>\n",
       "      <td>0.000000</td>\n",
       "      <td>0.36916</td>\n",
       "      <td>0.00000</td>\n",
       "      <td>0.000000</td>\n",
       "    </tr>\n",
       "    <tr>\n",
       "      <th>3</th>\n",
       "      <td>0.0</td>\n",
       "      <td>0.0</td>\n",
       "      <td>0.0</td>\n",
       "      <td>0.0</td>\n",
       "      <td>0.000000</td>\n",
       "      <td>0.378235</td>\n",
       "      <td>0.000000</td>\n",
       "      <td>0.000000</td>\n",
       "      <td>0.264829</td>\n",
       "      <td>0.188488</td>\n",
       "      <td>0.0</td>\n",
       "      <td>0.0</td>\n",
       "      <td>0.000000</td>\n",
       "      <td>0.000000</td>\n",
       "      <td>0.106876</td>\n",
       "      <td>0.000000</td>\n",
       "      <td>0.000000</td>\n",
       "      <td>0.00000</td>\n",
       "      <td>0.00000</td>\n",
       "      <td>0.000000</td>\n",
       "    </tr>\n",
       "    <tr>\n",
       "      <th>4</th>\n",
       "      <td>0.0</td>\n",
       "      <td>0.0</td>\n",
       "      <td>0.0</td>\n",
       "      <td>0.0</td>\n",
       "      <td>0.000000</td>\n",
       "      <td>0.000000</td>\n",
       "      <td>0.000000</td>\n",
       "      <td>0.000000</td>\n",
       "      <td>0.000000</td>\n",
       "      <td>0.000000</td>\n",
       "      <td>0.0</td>\n",
       "      <td>0.0</td>\n",
       "      <td>0.256743</td>\n",
       "      <td>0.000000</td>\n",
       "      <td>0.000000</td>\n",
       "      <td>0.256224</td>\n",
       "      <td>0.000000</td>\n",
       "      <td>0.00000</td>\n",
       "      <td>0.16609</td>\n",
       "      <td>0.294249</td>\n",
       "    </tr>\n",
       "  </tbody>\n",
       "</table>\n",
       "</div>"
      ],
      "text/plain": [
       "   \"life\", \"story\", \"book\", \"love\", \"time\"  \\\n",
       "0                                      0.0   \n",
       "1                                      0.0   \n",
       "2                                      0.0   \n",
       "3                                      0.0   \n",
       "4                                      0.0   \n",
       "\n",
       "   \"killer\", \"way\", \"end\", \"time\", \"horror\"  \\\n",
       "0                                       0.0   \n",
       "1                                       0.0   \n",
       "2                                       0.0   \n",
       "3                                       0.0   \n",
       "4                                       0.0   \n",
       "\n",
       "   \"people\", \"comedy\", \"half\", \"time\", \"scene\"  \\\n",
       "0                                          0.0   \n",
       "1                                          0.0   \n",
       "2                                          0.0   \n",
       "3                                          0.0   \n",
       "4                                          0.0   \n",
       "\n",
       "   \"scenes\", \"time\", \"scene\", \"director\", \"camera\"  \\\n",
       "0                                              0.0   \n",
       "1                                              0.0   \n",
       "2                                              0.0   \n",
       "3                                              0.0   \n",
       "4                                              0.0   \n",
       "\n",
       "   \"time\", \"people\", \"thing\", \"fact\", \"characters\"  \\\n",
       "0                                         0.329935   \n",
       "1                                         0.000000   \n",
       "2                                         0.224646   \n",
       "3                                         0.000000   \n",
       "4                                         0.000000   \n",
       "\n",
       "   \"story\", \"time\", \"oscar\", \"love\", \"life\"  \\\n",
       "0                                  0.000000   \n",
       "1                                  0.000000   \n",
       "2                                  0.000000   \n",
       "3                                  0.378235   \n",
       "4                                  0.000000   \n",
       "\n",
       "   \"english\", \"british\", \"american\", \"cast\", \"script\"  \\\n",
       "0                                            0.000000   \n",
       "1                                            0.000000   \n",
       "2                                            0.356177   \n",
       "3                                            0.000000   \n",
       "4                                            0.000000   \n",
       "\n",
       "   \"characters\", \"series\", \"story\", \"actors\", \"plot\"  \\\n",
       "0                                           0.111044   \n",
       "1                                           0.000000   \n",
       "2                                           0.000000   \n",
       "3                                           0.000000   \n",
       "4                                           0.000000   \n",
       "\n",
       "   \"blood\", \"horror\", \"gore\", \"end\", \"people\"  \\\n",
       "0                                    0.000000   \n",
       "1                                    0.000000   \n",
       "2                                    0.000000   \n",
       "3                                    0.264829   \n",
       "4                                    0.000000   \n",
       "\n",
       "   \"kids\", \"people\", \"family\", \"time\", \"tv\"  \\\n",
       "0                                  0.051652   \n",
       "1                                  0.000000   \n",
       "2                                  0.000000   \n",
       "3                                  0.188488   \n",
       "4                                  0.000000   \n",
       "\n",
       "   \"people\", \"time\", \"acting\", \"plot\", \"money\"  \\\n",
       "0                                          0.0   \n",
       "1                                          0.0   \n",
       "2                                          0.0   \n",
       "3                                          0.0   \n",
       "4                                          0.0   \n",
       "\n",
       "   \"night\", \"fact\", \"actors\", \"saturday\", \"time\"  \\\n",
       "0                                            0.0   \n",
       "1                                            0.0   \n",
       "2                                            0.0   \n",
       "3                                            0.0   \n",
       "4                                            0.0   \n",
       "\n",
       "   \"people\", \"action\", \"world\", \"christian\", \"movies\"  \\\n",
       "0                                            0.349614   \n",
       "1                                            0.000000   \n",
       "2                                            0.000000   \n",
       "3                                            0.000000   \n",
       "4                                            0.256743   \n",
       "\n",
       "   \"story\", \"disney\", \"time\", \"animation\", \"music\"  \\\n",
       "0                                         0.000000   \n",
       "1                                         0.440641   \n",
       "2                                         0.000000   \n",
       "3                                         0.000000   \n",
       "4                                         0.000000   \n",
       "\n",
       "   \"men\", \"women\", \"hollywood\", \"love\", \"role\"  \\\n",
       "0                                     0.136902   \n",
       "1                                     0.000000   \n",
       "2                                     0.000000   \n",
       "3                                     0.106876   \n",
       "4                                     0.000000   \n",
       "\n",
       "   \"characters\", \"story\", \"time\", \"plot\", \"acting\"  \\\n",
       "0                                         0.000000   \n",
       "1                                         0.000000   \n",
       "2                                         0.000000   \n",
       "3                                         0.000000   \n",
       "4                                         0.256224   \n",
       "\n",
       "   \"hollywood\", \"time\", \"plot\", \"story\", \"role\"  \\\n",
       "0                                      0.000000   \n",
       "1                                      0.337262   \n",
       "2                                      0.000000   \n",
       "3                                      0.000000   \n",
       "4                                      0.000000   \n",
       "\n",
       "   \"story\", \"life\", \"wife\", \"character\", \"end\"  \\\n",
       "0                                      0.00000   \n",
       "1                                      0.00000   \n",
       "2                                      0.36916   \n",
       "3                                      0.00000   \n",
       "4                                      0.00000   \n",
       "\n",
       "   \"time\", \"french\", \"story\", \"american\", \"role\"  \\\n",
       "0                                        0.00000   \n",
       "1                                        0.00000   \n",
       "2                                        0.00000   \n",
       "3                                        0.00000   \n",
       "4                                        0.16609   \n",
       "\n",
       "   \"people\", \"life\", \"story\", \"world\", \"war\"  \n",
       "0                                   0.000000  \n",
       "1                                   0.177346  \n",
       "2                                   0.000000  \n",
       "3                                   0.000000  \n",
       "4                                   0.294249  "
      ]
     },
     "execution_count": 63,
     "metadata": {},
     "output_type": "execute_result"
    }
   ],
   "source": [
    "topics.columns = topic_labels\n",
    "print(topics.shape)\n",
    "topics.head()"
   ]
  },
  {
   "cell_type": "code",
   "execution_count": 64,
   "metadata": {
    "id": "mfZktGbeCOyl",
    "outputId": "34bb292e-da62-4916-fa1e-d45e257f70ce"
   },
   "outputs": [
    {
     "name": "stderr",
     "output_type": "stream",
     "text": [
      "/Users/shahnam/opt/anaconda3/envs/ML_NLP/lib/python3.7/site-packages/ipykernel/ipkernel.py:283: DeprecationWarning: `should_run_async` will not call `transform_cell` automatically in the future. Please pass the result to `transformed_cell` argument and any exception that happen during thetransform in `preprocessing_exc_tuple` in IPython 7.17 and above.\n",
      "  and should_run_async(code)\n"
     ]
    }
   ],
   "source": [
    "# find the index on axis=1 where the value in the row is max\n",
    "df['primary_topic'] = topics.idxmax(axis=1)"
   ]
  },
  {
   "cell_type": "code",
   "execution_count": 65,
   "metadata": {
    "id": "GaqCovN5COym",
    "outputId": "c36b1b1d-1a37-477e-c3ee-2aaaabe37c23"
   },
   "outputs": [
    {
     "name": "stderr",
     "output_type": "stream",
     "text": [
      "/Users/shahnam/opt/anaconda3/envs/ML_NLP/lib/python3.7/site-packages/ipykernel/ipkernel.py:283: DeprecationWarning: `should_run_async` will not call `transform_cell` automatically in the future. Please pass the result to `transformed_cell` argument and any exception that happen during thetransform in `preprocessing_exc_tuple` in IPython 7.17 and above.\n",
      "  and should_run_async(code)\n"
     ]
    },
    {
     "data": {
      "text/html": [
       "<div>\n",
       "<style scoped>\n",
       "    .dataframe tbody tr th:only-of-type {\n",
       "        vertical-align: middle;\n",
       "    }\n",
       "\n",
       "    .dataframe tbody tr th {\n",
       "        vertical-align: top;\n",
       "    }\n",
       "\n",
       "    .dataframe thead th {\n",
       "        text-align: right;\n",
       "    }\n",
       "</style>\n",
       "<table border=\"1\" class=\"dataframe\">\n",
       "  <thead>\n",
       "    <tr style=\"text-align: right;\">\n",
       "      <th></th>\n",
       "      <th>review</th>\n",
       "      <th>sentiment</th>\n",
       "      <th>keywords</th>\n",
       "      <th>clean_keywords</th>\n",
       "      <th>primary_topic</th>\n",
       "    </tr>\n",
       "  </thead>\n",
       "  <tbody>\n",
       "    <tr>\n",
       "      <th>0</th>\n",
       "      <td>One of the other reviewers has mentioned that after watching just 1 Oz episode you'll be hooked....</td>\n",
       "      <td>positive</td>\n",
       "      <td>[other shows, graphic violence, prison experience, prison bitches, violence, emerald city, dodgy...</td>\n",
       "      <td>[shows, graphic violence, prison experience, prison bitches, violence, emerald city, dodgy deali...</td>\n",
       "      <td>\"people\", \"action\", \"world\", \"christian\", \"movies\"</td>\n",
       "    </tr>\n",
       "    <tr>\n",
       "      <th>1</th>\n",
       "      <td>A wonderful little production. The filming technique is very unassuming- very old-time-BBC fashi...</td>\n",
       "      <td>positive</td>\n",
       "      <td>[halliwell, michael sheen, realism, comedy, williams, piece, bbc, orton, a wonderful little prod...</td>\n",
       "      <td>[halliwell, michael sheen, realism, comedy, williams, piece, bbc, orton, wonderful little produc...</td>\n",
       "      <td>\"story\", \"disney\", \"time\", \"animation\", \"music\"</td>\n",
       "    </tr>\n",
       "    <tr>\n",
       "      <th>2</th>\n",
       "      <td>I thought this was a wonderful way to spend time on a too hot summer weekend, sitting in the air...</td>\n",
       "      <td>positive</td>\n",
       "      <td>[spirited young woman, devil wears prada, summer weekend, match point, scarlet johanson, woody a...</td>\n",
       "      <td>[spirited young woman, devil wears prada, summer weekend, match point, scarlet johanson, woody a...</td>\n",
       "      <td>\"story\", \"life\", \"wife\", \"character\", \"end\"</td>\n",
       "    </tr>\n",
       "    <tr>\n",
       "      <th>3</th>\n",
       "      <td>Basically there's a family where a little boy (Jake) thinks there's a zombie in his closet &amp; his...</td>\n",
       "      <td>negative</td>\n",
       "      <td>[playing parents, jake, parents, descent dialogs, real life, a boogeyman similar movie, rambo, s...</td>\n",
       "      <td>[playing parents, jake, parents, descent dialogs, real life, boogeyman similar, rambo, meaningle...</td>\n",
       "      <td>\"story\", \"time\", \"oscar\", \"love\", \"life\"</td>\n",
       "    </tr>\n",
       "    <tr>\n",
       "      <th>4</th>\n",
       "      <td>Petter Mattei's \"Love in the Time of Money\" is a visually stunning film to watch. Mr. Mattei off...</td>\n",
       "      <td>positive</td>\n",
       "      <td>[mr. mattei, good luck, mattei, human relations, people, rosario dawson, michael imperioli, caro...</td>\n",
       "      <td>[mr. mattei, good luck, mattei, human relations, people, rosario dawson, michael imperioli, caro...</td>\n",
       "      <td>\"people\", \"life\", \"story\", \"world\", \"war\"</td>\n",
       "    </tr>\n",
       "  </tbody>\n",
       "</table>\n",
       "</div>"
      ],
      "text/plain": [
       "                                                                                                review  \\\n",
       "0  One of the other reviewers has mentioned that after watching just 1 Oz episode you'll be hooked....   \n",
       "1  A wonderful little production. The filming technique is very unassuming- very old-time-BBC fashi...   \n",
       "2  I thought this was a wonderful way to spend time on a too hot summer weekend, sitting in the air...   \n",
       "3  Basically there's a family where a little boy (Jake) thinks there's a zombie in his closet & his...   \n",
       "4  Petter Mattei's \"Love in the Time of Money\" is a visually stunning film to watch. Mr. Mattei off...   \n",
       "\n",
       "  sentiment  \\\n",
       "0  positive   \n",
       "1  positive   \n",
       "2  positive   \n",
       "3  negative   \n",
       "4  positive   \n",
       "\n",
       "                                                                                              keywords  \\\n",
       "0  [other shows, graphic violence, prison experience, prison bitches, violence, emerald city, dodgy...   \n",
       "1  [halliwell, michael sheen, realism, comedy, williams, piece, bbc, orton, a wonderful little prod...   \n",
       "2  [spirited young woman, devil wears prada, summer weekend, match point, scarlet johanson, woody a...   \n",
       "3  [playing parents, jake, parents, descent dialogs, real life, a boogeyman similar movie, rambo, s...   \n",
       "4  [mr. mattei, good luck, mattei, human relations, people, rosario dawson, michael imperioli, caro...   \n",
       "\n",
       "                                                                                        clean_keywords  \\\n",
       "0  [shows, graphic violence, prison experience, prison bitches, violence, emerald city, dodgy deali...   \n",
       "1  [halliwell, michael sheen, realism, comedy, williams, piece, bbc, orton, wonderful little produc...   \n",
       "2  [spirited young woman, devil wears prada, summer weekend, match point, scarlet johanson, woody a...   \n",
       "3  [playing parents, jake, parents, descent dialogs, real life, boogeyman similar, rambo, meaningle...   \n",
       "4  [mr. mattei, good luck, mattei, human relations, people, rosario dawson, michael imperioli, caro...   \n",
       "\n",
       "                                        primary_topic  \n",
       "0  \"people\", \"action\", \"world\", \"christian\", \"movies\"  \n",
       "1     \"story\", \"disney\", \"time\", \"animation\", \"music\"  \n",
       "2         \"story\", \"life\", \"wife\", \"character\", \"end\"  \n",
       "3            \"story\", \"time\", \"oscar\", \"love\", \"life\"  \n",
       "4           \"people\", \"life\", \"story\", \"world\", \"war\"  "
      ]
     },
     "execution_count": 65,
     "metadata": {},
     "output_type": "execute_result"
    }
   ],
   "source": [
    "df.head()"
   ]
  },
  {
   "cell_type": "code",
   "execution_count": 66,
   "metadata": {
    "id": "ZHE27cwpCOyp",
    "outputId": "fe479870-f45d-4a8e-bfbe-3761339703a8"
   },
   "outputs": [
    {
     "name": "stderr",
     "output_type": "stream",
     "text": [
      "/Users/shahnam/opt/anaconda3/envs/ML_NLP/lib/python3.7/site-packages/ipykernel/ipkernel.py:283: DeprecationWarning: `should_run_async` will not call `transform_cell` automatically in the future. Please pass the result to `transformed_cell` argument and any exception that happen during thetransform in `preprocessing_exc_tuple` in IPython 7.17 and above.\n",
      "  and should_run_async(code)\n"
     ]
    },
    {
     "data": {
      "text/plain": [
       "\"people\", \"time\", \"acting\", \"plot\", \"money\"           4887\n",
       "\"people\", \"life\", \"story\", \"world\", \"war\"             4276\n",
       "\"characters\", \"story\", \"time\", \"plot\", \"acting\"       3758\n",
       "\"kids\", \"people\", \"family\", \"time\", \"tv\"              2688\n",
       "\"characters\", \"series\", \"story\", \"actors\", \"plot\"     2538\n",
       "\"killer\", \"way\", \"end\", \"time\", \"horror\"              2429\n",
       "\"scenes\", \"time\", \"scene\", \"director\", \"camera\"       2270\n",
       "\"story\", \"life\", \"wife\", \"character\", \"end\"           1853\n",
       "\"time\", \"french\", \"story\", \"american\", \"role\"         1779\n",
       "\"blood\", \"horror\", \"gore\", \"end\", \"people\"            1766\n",
       "\"story\", \"time\", \"oscar\", \"love\", \"life\"              1558\n",
       "\"life\", \"story\", \"book\", \"love\", \"time\"               1458\n",
       "\"story\", \"disney\", \"time\", \"animation\", \"music\"       1314\n",
       "\"time\", \"people\", \"thing\", \"fact\", \"characters\"       1270\n",
       "\"english\", \"british\", \"american\", \"cast\", \"script\"    1233\n",
       "\"people\", \"comedy\", \"half\", \"time\", \"scene\"           1146\n",
       "\"night\", \"fact\", \"actors\", \"saturday\", \"time\"         1121\n",
       "\"people\", \"action\", \"world\", \"christian\", \"movies\"    1081\n",
       "\"hollywood\", \"time\", \"plot\", \"story\", \"role\"          1030\n",
       "\"men\", \"women\", \"hollywood\", \"love\", \"role\"            981\n",
       "Name: primary_topic, dtype: int64"
      ]
     },
     "execution_count": 66,
     "metadata": {},
     "output_type": "execute_result"
    }
   ],
   "source": [
    "df['primary_topic'].value_counts()"
   ]
  },
  {
   "cell_type": "code",
   "execution_count": 67,
   "metadata": {
    "id": "IluAdSChCOyt",
    "outputId": "e082f7f9-a315-4eb5-c982-40ff32fba1ad"
   },
   "outputs": [
    {
     "name": "stderr",
     "output_type": "stream",
     "text": [
      "/Users/shahnam/opt/anaconda3/envs/ML_NLP/lib/python3.7/site-packages/ipykernel/ipkernel.py:283: DeprecationWarning: `should_run_async` will not call `transform_cell` automatically in the future. Please pass the result to `transformed_cell` argument and any exception that happen during thetransform in `preprocessing_exc_tuple` in IPython 7.17 and above.\n",
      "  and should_run_async(code)\n"
     ]
    }
   ],
   "source": [
    "# Count number of reviews for each primary_topic that are labeled negative and positive\n",
    "# ['review'] could change to other available column labels too without changing the results\n",
    "agg = pd.pivot_table(data=df, values=['review'], \n",
    "                     index=['primary_topic'], \n",
    "                     columns=['sentiment'], aggfunc='count')"
   ]
  },
  {
   "cell_type": "code",
   "execution_count": 68,
   "metadata": {
    "id": "G15fplzRCOyv",
    "outputId": "944a39fa-c4c8-461c-ff89-54e431330f38"
   },
   "outputs": [
    {
     "name": "stderr",
     "output_type": "stream",
     "text": [
      "/Users/shahnam/opt/anaconda3/envs/ML_NLP/lib/python3.7/site-packages/ipykernel/ipkernel.py:283: DeprecationWarning: `should_run_async` will not call `transform_cell` automatically in the future. Please pass the result to `transformed_cell` argument and any exception that happen during thetransform in `preprocessing_exc_tuple` in IPython 7.17 and above.\n",
      "  and should_run_async(code)\n"
     ]
    },
    {
     "data": {
      "text/html": [
       "<div>\n",
       "<style scoped>\n",
       "    .dataframe tbody tr th:only-of-type {\n",
       "        vertical-align: middle;\n",
       "    }\n",
       "\n",
       "    .dataframe tbody tr th {\n",
       "        vertical-align: top;\n",
       "    }\n",
       "\n",
       "    .dataframe thead tr th {\n",
       "        text-align: left;\n",
       "    }\n",
       "\n",
       "    .dataframe thead tr:last-of-type th {\n",
       "        text-align: right;\n",
       "    }\n",
       "</style>\n",
       "<table border=\"1\" class=\"dataframe\">\n",
       "  <thead>\n",
       "    <tr>\n",
       "      <th></th>\n",
       "      <th colspan=\"2\" halign=\"left\">review</th>\n",
       "    </tr>\n",
       "    <tr>\n",
       "      <th>sentiment</th>\n",
       "      <th>negative</th>\n",
       "      <th>positive</th>\n",
       "    </tr>\n",
       "    <tr>\n",
       "      <th>primary_topic</th>\n",
       "      <th></th>\n",
       "      <th></th>\n",
       "    </tr>\n",
       "  </thead>\n",
       "  <tbody>\n",
       "    <tr>\n",
       "      <th>\"blood\", \"horror\", \"gore\", \"end\", \"people\"</th>\n",
       "      <td>995</td>\n",
       "      <td>771</td>\n",
       "    </tr>\n",
       "    <tr>\n",
       "      <th>\"characters\", \"series\", \"story\", \"actors\", \"plot\"</th>\n",
       "      <td>1284</td>\n",
       "      <td>1254</td>\n",
       "    </tr>\n",
       "    <tr>\n",
       "      <th>\"characters\", \"story\", \"time\", \"plot\", \"acting\"</th>\n",
       "      <td>2207</td>\n",
       "      <td>1551</td>\n",
       "    </tr>\n",
       "    <tr>\n",
       "      <th>\"english\", \"british\", \"american\", \"cast\", \"script\"</th>\n",
       "      <td>598</td>\n",
       "      <td>635</td>\n",
       "    </tr>\n",
       "    <tr>\n",
       "      <th>\"hollywood\", \"time\", \"plot\", \"story\", \"role\"</th>\n",
       "      <td>384</td>\n",
       "      <td>646</td>\n",
       "    </tr>\n",
       "    <tr>\n",
       "      <th>\"kids\", \"people\", \"family\", \"time\", \"tv\"</th>\n",
       "      <td>1003</td>\n",
       "      <td>1685</td>\n",
       "    </tr>\n",
       "    <tr>\n",
       "      <th>\"killer\", \"way\", \"end\", \"time\", \"horror\"</th>\n",
       "      <td>1413</td>\n",
       "      <td>1016</td>\n",
       "    </tr>\n",
       "    <tr>\n",
       "      <th>\"life\", \"story\", \"book\", \"love\", \"time\"</th>\n",
       "      <td>502</td>\n",
       "      <td>956</td>\n",
       "    </tr>\n",
       "    <tr>\n",
       "      <th>\"men\", \"women\", \"hollywood\", \"love\", \"role\"</th>\n",
       "      <td>331</td>\n",
       "      <td>650</td>\n",
       "    </tr>\n",
       "    <tr>\n",
       "      <th>\"night\", \"fact\", \"actors\", \"saturday\", \"time\"</th>\n",
       "      <td>664</td>\n",
       "      <td>457</td>\n",
       "    </tr>\n",
       "    <tr>\n",
       "      <th>\"people\", \"action\", \"world\", \"christian\", \"movies\"</th>\n",
       "      <td>536</td>\n",
       "      <td>545</td>\n",
       "    </tr>\n",
       "    <tr>\n",
       "      <th>\"people\", \"comedy\", \"half\", \"time\", \"scene\"</th>\n",
       "      <td>519</td>\n",
       "      <td>627</td>\n",
       "    </tr>\n",
       "    <tr>\n",
       "      <th>\"people\", \"life\", \"story\", \"world\", \"war\"</th>\n",
       "      <td>1387</td>\n",
       "      <td>2889</td>\n",
       "    </tr>\n",
       "    <tr>\n",
       "      <th>\"people\", \"time\", \"acting\", \"plot\", \"money\"</th>\n",
       "      <td>4087</td>\n",
       "      <td>800</td>\n",
       "    </tr>\n",
       "    <tr>\n",
       "      <th>\"scenes\", \"time\", \"scene\", \"director\", \"camera\"</th>\n",
       "      <td>1567</td>\n",
       "      <td>703</td>\n",
       "    </tr>\n",
       "    <tr>\n",
       "      <th>\"story\", \"disney\", \"time\", \"animation\", \"music\"</th>\n",
       "      <td>359</td>\n",
       "      <td>955</td>\n",
       "    </tr>\n",
       "    <tr>\n",
       "      <th>\"story\", \"life\", \"wife\", \"character\", \"end\"</th>\n",
       "      <td>647</td>\n",
       "      <td>1206</td>\n",
       "    </tr>\n",
       "    <tr>\n",
       "      <th>\"story\", \"time\", \"oscar\", \"love\", \"life\"</th>\n",
       "      <td>408</td>\n",
       "      <td>1150</td>\n",
       "    </tr>\n",
       "    <tr>\n",
       "      <th>\"time\", \"french\", \"story\", \"american\", \"role\"</th>\n",
       "      <td>576</td>\n",
       "      <td>1203</td>\n",
       "    </tr>\n",
       "    <tr>\n",
       "      <th>\"time\", \"people\", \"thing\", \"fact\", \"characters\"</th>\n",
       "      <td>747</td>\n",
       "      <td>523</td>\n",
       "    </tr>\n",
       "  </tbody>\n",
       "</table>\n",
       "</div>"
      ],
      "text/plain": [
       "                                                     review         \n",
       "sentiment                                          negative positive\n",
       "primary_topic                                                       \n",
       "\"blood\", \"horror\", \"gore\", \"end\", \"people\"              995      771\n",
       "\"characters\", \"series\", \"story\", \"actors\", \"plot\"      1284     1254\n",
       "\"characters\", \"story\", \"time\", \"plot\", \"acting\"        2207     1551\n",
       "\"english\", \"british\", \"american\", \"cast\", \"script\"      598      635\n",
       "\"hollywood\", \"time\", \"plot\", \"story\", \"role\"            384      646\n",
       "\"kids\", \"people\", \"family\", \"time\", \"tv\"               1003     1685\n",
       "\"killer\", \"way\", \"end\", \"time\", \"horror\"               1413     1016\n",
       "\"life\", \"story\", \"book\", \"love\", \"time\"                 502      956\n",
       "\"men\", \"women\", \"hollywood\", \"love\", \"role\"             331      650\n",
       "\"night\", \"fact\", \"actors\", \"saturday\", \"time\"           664      457\n",
       "\"people\", \"action\", \"world\", \"christian\", \"movies\"      536      545\n",
       "\"people\", \"comedy\", \"half\", \"time\", \"scene\"             519      627\n",
       "\"people\", \"life\", \"story\", \"world\", \"war\"              1387     2889\n",
       "\"people\", \"time\", \"acting\", \"plot\", \"money\"            4087      800\n",
       "\"scenes\", \"time\", \"scene\", \"director\", \"camera\"        1567      703\n",
       "\"story\", \"disney\", \"time\", \"animation\", \"music\"         359      955\n",
       "\"story\", \"life\", \"wife\", \"character\", \"end\"             647     1206\n",
       "\"story\", \"time\", \"oscar\", \"love\", \"life\"                408     1150\n",
       "\"time\", \"french\", \"story\", \"american\", \"role\"           576     1203\n",
       "\"time\", \"people\", \"thing\", \"fact\", \"characters\"         747      523"
      ]
     },
     "execution_count": 68,
     "metadata": {},
     "output_type": "execute_result"
    }
   ],
   "source": [
    "agg"
   ]
  },
  {
   "cell_type": "code",
   "execution_count": 69,
   "metadata": {},
   "outputs": [
    {
     "name": "stderr",
     "output_type": "stream",
     "text": [
      "/Users/shahnam/opt/anaconda3/envs/ML_NLP/lib/python3.7/site-packages/ipykernel/ipkernel.py:283: DeprecationWarning: `should_run_async` will not call `transform_cell` automatically in the future. Please pass the result to `transformed_cell` argument and any exception that happen during thetransform in `preprocessing_exc_tuple` in IPython 7.17 and above.\n",
      "  and should_run_async(code)\n"
     ]
    },
    {
     "data": {
      "text/plain": [
       "(MultiIndex([('review', 'negative'),\n",
       "             ('review', 'positive')],\n",
       "            names=[None, 'sentiment']),\n",
       " Index(['\"blood\", \"horror\", \"gore\", \"end\", \"people\"',\n",
       "        '\"characters\", \"series\", \"story\", \"actors\", \"plot\"',\n",
       "        '\"characters\", \"story\", \"time\", \"plot\", \"acting\"',\n",
       "        '\"english\", \"british\", \"american\", \"cast\", \"script\"',\n",
       "        '\"hollywood\", \"time\", \"plot\", \"story\", \"role\"',\n",
       "        '\"kids\", \"people\", \"family\", \"time\", \"tv\"',\n",
       "        '\"killer\", \"way\", \"end\", \"time\", \"horror\"',\n",
       "        '\"life\", \"story\", \"book\", \"love\", \"time\"',\n",
       "        '\"men\", \"women\", \"hollywood\", \"love\", \"role\"',\n",
       "        '\"night\", \"fact\", \"actors\", \"saturday\", \"time\"',\n",
       "        '\"people\", \"action\", \"world\", \"christian\", \"movies\"',\n",
       "        '\"people\", \"comedy\", \"half\", \"time\", \"scene\"',\n",
       "        '\"people\", \"life\", \"story\", \"world\", \"war\"',\n",
       "        '\"people\", \"time\", \"acting\", \"plot\", \"money\"',\n",
       "        '\"scenes\", \"time\", \"scene\", \"director\", \"camera\"',\n",
       "        '\"story\", \"disney\", \"time\", \"animation\", \"music\"',\n",
       "        '\"story\", \"life\", \"wife\", \"character\", \"end\"',\n",
       "        '\"story\", \"time\", \"oscar\", \"love\", \"life\"',\n",
       "        '\"time\", \"french\", \"story\", \"american\", \"role\"',\n",
       "        '\"time\", \"people\", \"thing\", \"fact\", \"characters\"'],\n",
       "       dtype='object', name='primary_topic'))"
      ]
     },
     "execution_count": 69,
     "metadata": {},
     "output_type": "execute_result"
    }
   ],
   "source": [
    "agg.columns, agg.index"
   ]
  },
  {
   "cell_type": "code",
   "execution_count": 70,
   "metadata": {
    "id": "gkq0B2oKCOyw",
    "outputId": "cb842029-36f2-472d-ef39-711a68d6beb4"
   },
   "outputs": [
    {
     "name": "stderr",
     "output_type": "stream",
     "text": [
      "/Users/shahnam/opt/anaconda3/envs/ML_NLP/lib/python3.7/site-packages/ipykernel/ipkernel.py:283: DeprecationWarning: `should_run_async` will not call `transform_cell` automatically in the future. Please pass the result to `transformed_cell` argument and any exception that happen during thetransform in `preprocessing_exc_tuple` in IPython 7.17 and above.\n",
      "  and should_run_async(code)\n"
     ]
    }
   ],
   "source": [
    "agg = agg.reset_index()"
   ]
  },
  {
   "cell_type": "code",
   "execution_count": 71,
   "metadata": {
    "id": "jmgVXLRhCOyy",
    "outputId": "e94ef57a-a37a-41d1-ae3b-b8ec607a1a0f"
   },
   "outputs": [
    {
     "name": "stderr",
     "output_type": "stream",
     "text": [
      "/Users/shahnam/opt/anaconda3/envs/ML_NLP/lib/python3.7/site-packages/ipykernel/ipkernel.py:283: DeprecationWarning: `should_run_async` will not call `transform_cell` automatically in the future. Please pass the result to `transformed_cell` argument and any exception that happen during thetransform in `preprocessing_exc_tuple` in IPython 7.17 and above.\n",
      "  and should_run_async(code)\n"
     ]
    },
    {
     "data": {
      "text/html": [
       "<div>\n",
       "<style scoped>\n",
       "    .dataframe tbody tr th:only-of-type {\n",
       "        vertical-align: middle;\n",
       "    }\n",
       "\n",
       "    .dataframe tbody tr th {\n",
       "        vertical-align: top;\n",
       "    }\n",
       "\n",
       "    .dataframe thead tr th {\n",
       "        text-align: left;\n",
       "    }\n",
       "</style>\n",
       "<table border=\"1\" class=\"dataframe\">\n",
       "  <thead>\n",
       "    <tr>\n",
       "      <th></th>\n",
       "      <th>primary_topic</th>\n",
       "      <th colspan=\"2\" halign=\"left\">review</th>\n",
       "    </tr>\n",
       "    <tr>\n",
       "      <th>sentiment</th>\n",
       "      <th></th>\n",
       "      <th>negative</th>\n",
       "      <th>positive</th>\n",
       "    </tr>\n",
       "  </thead>\n",
       "  <tbody>\n",
       "    <tr>\n",
       "      <th>0</th>\n",
       "      <td>\"blood\", \"horror\", \"gore\", \"end\", \"people\"</td>\n",
       "      <td>995</td>\n",
       "      <td>771</td>\n",
       "    </tr>\n",
       "    <tr>\n",
       "      <th>1</th>\n",
       "      <td>\"characters\", \"series\", \"story\", \"actors\", \"plot\"</td>\n",
       "      <td>1284</td>\n",
       "      <td>1254</td>\n",
       "    </tr>\n",
       "    <tr>\n",
       "      <th>2</th>\n",
       "      <td>\"characters\", \"story\", \"time\", \"plot\", \"acting\"</td>\n",
       "      <td>2207</td>\n",
       "      <td>1551</td>\n",
       "    </tr>\n",
       "    <tr>\n",
       "      <th>3</th>\n",
       "      <td>\"english\", \"british\", \"american\", \"cast\", \"script\"</td>\n",
       "      <td>598</td>\n",
       "      <td>635</td>\n",
       "    </tr>\n",
       "    <tr>\n",
       "      <th>4</th>\n",
       "      <td>\"hollywood\", \"time\", \"plot\", \"story\", \"role\"</td>\n",
       "      <td>384</td>\n",
       "      <td>646</td>\n",
       "    </tr>\n",
       "  </tbody>\n",
       "</table>\n",
       "</div>"
      ],
      "text/plain": [
       "                                                primary_topic   review  \\\n",
       "sentiment                                                     negative   \n",
       "0                  \"blood\", \"horror\", \"gore\", \"end\", \"people\"      995   \n",
       "1           \"characters\", \"series\", \"story\", \"actors\", \"plot\"     1284   \n",
       "2             \"characters\", \"story\", \"time\", \"plot\", \"acting\"     2207   \n",
       "3          \"english\", \"british\", \"american\", \"cast\", \"script\"      598   \n",
       "4                \"hollywood\", \"time\", \"plot\", \"story\", \"role\"      384   \n",
       "\n",
       "                    \n",
       "sentiment positive  \n",
       "0              771  \n",
       "1             1254  \n",
       "2             1551  \n",
       "3              635  \n",
       "4              646  "
      ]
     },
     "execution_count": 71,
     "metadata": {},
     "output_type": "execute_result"
    }
   ],
   "source": [
    "agg.head()"
   ]
  },
  {
   "cell_type": "code",
   "execution_count": 72,
   "metadata": {},
   "outputs": [
    {
     "name": "stderr",
     "output_type": "stream",
     "text": [
      "/Users/shahnam/opt/anaconda3/envs/ML_NLP/lib/python3.7/site-packages/ipykernel/ipkernel.py:283: DeprecationWarning: `should_run_async` will not call `transform_cell` automatically in the future. Please pass the result to `transformed_cell` argument and any exception that happen during thetransform in `preprocessing_exc_tuple` in IPython 7.17 and above.\n",
      "  and should_run_async(code)\n"
     ]
    },
    {
     "data": {
      "text/plain": [
       "(MultiIndex([('primary_topic',         ''),\n",
       "             (       'review', 'negative'),\n",
       "             (       'review', 'positive')],\n",
       "            names=[None, 'sentiment']),\n",
       " RangeIndex(start=0, stop=20, step=1))"
      ]
     },
     "execution_count": 72,
     "metadata": {},
     "output_type": "execute_result"
    }
   ],
   "source": [
    "agg.columns, agg.index"
   ]
  },
  {
   "cell_type": "code",
   "execution_count": 73,
   "metadata": {},
   "outputs": [
    {
     "name": "stderr",
     "output_type": "stream",
     "text": [
      "/Users/shahnam/opt/anaconda3/envs/ML_NLP/lib/python3.7/site-packages/ipykernel/ipkernel.py:283: DeprecationWarning: `should_run_async` will not call `transform_cell` automatically in the future. Please pass the result to `transformed_cell` argument and any exception that happen during thetransform in `preprocessing_exc_tuple` in IPython 7.17 and above.\n",
      "  and should_run_async(code)\n"
     ]
    },
    {
     "data": {
      "text/plain": [
       "tuple"
      ]
     },
     "execution_count": 73,
     "metadata": {},
     "output_type": "execute_result"
    }
   ],
   "source": [
    "type(agg.columns[1])"
   ]
  },
  {
   "cell_type": "code",
   "execution_count": 74,
   "metadata": {
    "id": "cODE6lx-COy0",
    "outputId": "0d6b2881-62a9-4559-c2dd-e9d981b1e45f"
   },
   "outputs": [
    {
     "name": "stderr",
     "output_type": "stream",
     "text": [
      "/Users/shahnam/opt/anaconda3/envs/ML_NLP/lib/python3.7/site-packages/ipykernel/ipkernel.py:283: DeprecationWarning: `should_run_async` will not call `transform_cell` automatically in the future. Please pass the result to `transformed_cell` argument and any exception that happen during thetransform in `preprocessing_exc_tuple` in IPython 7.17 and above.\n",
      "  and should_run_async(code)\n"
     ]
    },
    {
     "data": {
      "text/html": [
       "<div>\n",
       "<style scoped>\n",
       "    .dataframe tbody tr th:only-of-type {\n",
       "        vertical-align: middle;\n",
       "    }\n",
       "\n",
       "    .dataframe tbody tr th {\n",
       "        vertical-align: top;\n",
       "    }\n",
       "\n",
       "    .dataframe thead th {\n",
       "        text-align: right;\n",
       "    }\n",
       "</style>\n",
       "<table border=\"1\" class=\"dataframe\">\n",
       "  <thead>\n",
       "    <tr style=\"text-align: right;\">\n",
       "      <th></th>\n",
       "      <th>primary_topic</th>\n",
       "      <th>negative</th>\n",
       "      <th>positive</th>\n",
       "    </tr>\n",
       "  </thead>\n",
       "  <tbody>\n",
       "    <tr>\n",
       "      <th>0</th>\n",
       "      <td>\"blood\", \"horror\", \"gore\", \"end\", \"people\"</td>\n",
       "      <td>995</td>\n",
       "      <td>771</td>\n",
       "    </tr>\n",
       "    <tr>\n",
       "      <th>1</th>\n",
       "      <td>\"characters\", \"series\", \"story\", \"actors\", \"plot\"</td>\n",
       "      <td>1284</td>\n",
       "      <td>1254</td>\n",
       "    </tr>\n",
       "  </tbody>\n",
       "</table>\n",
       "</div>"
      ],
      "text/plain": [
       "                                       primary_topic  negative  positive\n",
       "0         \"blood\", \"horror\", \"gore\", \"end\", \"people\"       995       771\n",
       "1  \"characters\", \"series\", \"story\", \"actors\", \"plot\"      1284      1254"
      ]
     },
     "execution_count": 74,
     "metadata": {},
     "output_type": "execute_result"
    }
   ],
   "source": [
    "agg.columns = ['primary_topic', 'negative', 'positive']\n",
    "agg.head(2)"
   ]
  },
  {
   "cell_type": "code",
   "execution_count": 75,
   "metadata": {
    "id": "SnlqSa0eCOy1",
    "outputId": "79503147-80a9-48a4-8cc8-3b2f5df0953a"
   },
   "outputs": [
    {
     "name": "stderr",
     "output_type": "stream",
     "text": [
      "/Users/shahnam/opt/anaconda3/envs/ML_NLP/lib/python3.7/site-packages/ipykernel/ipkernel.py:283: DeprecationWarning: `should_run_async` will not call `transform_cell` automatically in the future. Please pass the result to `transformed_cell` argument and any exception that happen during thetransform in `preprocessing_exc_tuple` in IPython 7.17 and above.\n",
      "  and should_run_async(code)\n",
      "/Users/shahnam/opt/anaconda3/envs/ML_NLP/lib/python3.7/site-packages/seaborn/categorical.py:339: DeprecationWarning: `np.float` is a deprecated alias for the builtin `float`. To silence this warning, use `float` by itself. Doing this will not modify any behavior and is safe. If you specifically wanted the numpy scalar type, use `np.float64` here.\n",
      "Deprecated in NumPy 1.20; for more details and guidance: https://numpy.org/devdocs/release/1.20.0-notes.html#deprecations\n",
      "  np.asarray(s, dtype=np.float)\n",
      "/Users/shahnam/opt/anaconda3/envs/ML_NLP/lib/python3.7/site-packages/seaborn/categorical.py:339: DeprecationWarning: `np.float` is a deprecated alias for the builtin `float`. To silence this warning, use `float` by itself. Doing this will not modify any behavior and is safe. If you specifically wanted the numpy scalar type, use `np.float64` here.\n",
      "Deprecated in NumPy 1.20; for more details and guidance: https://numpy.org/devdocs/release/1.20.0-notes.html#deprecations\n",
      "  np.asarray(s, dtype=np.float)\n",
      "/Users/shahnam/opt/anaconda3/envs/ML_NLP/lib/python3.7/site-packages/seaborn/utils.py:533: DeprecationWarning: `np.float` is a deprecated alias for the builtin `float`. To silence this warning, use `float` by itself. Doing this will not modify any behavior and is safe. If you specifically wanted the numpy scalar type, use `np.float64` here.\n",
      "Deprecated in NumPy 1.20; for more details and guidance: https://numpy.org/devdocs/release/1.20.0-notes.html#deprecations\n",
      "  np.asarray(values).astype(np.float)\n",
      "/Users/shahnam/opt/anaconda3/envs/ML_NLP/lib/python3.7/site-packages/seaborn/categorical.py:339: DeprecationWarning: `np.float` is a deprecated alias for the builtin `float`. To silence this warning, use `float` by itself. Doing this will not modify any behavior and is safe. If you specifically wanted the numpy scalar type, use `np.float64` here.\n",
      "Deprecated in NumPy 1.20; for more details and guidance: https://numpy.org/devdocs/release/1.20.0-notes.html#deprecations\n",
      "  np.asarray(s, dtype=np.float)\n",
      "/Users/shahnam/opt/anaconda3/envs/ML_NLP/lib/python3.7/site-packages/seaborn/categorical.py:339: DeprecationWarning: `np.float` is a deprecated alias for the builtin `float`. To silence this warning, use `float` by itself. Doing this will not modify any behavior and is safe. If you specifically wanted the numpy scalar type, use `np.float64` here.\n",
      "Deprecated in NumPy 1.20; for more details and guidance: https://numpy.org/devdocs/release/1.20.0-notes.html#deprecations\n",
      "  np.asarray(s, dtype=np.float)\n",
      "/Users/shahnam/opt/anaconda3/envs/ML_NLP/lib/python3.7/site-packages/seaborn/utils.py:533: DeprecationWarning: `np.float` is a deprecated alias for the builtin `float`. To silence this warning, use `float` by itself. Doing this will not modify any behavior and is safe. If you specifically wanted the numpy scalar type, use `np.float64` here.\n",
      "Deprecated in NumPy 1.20; for more details and guidance: https://numpy.org/devdocs/release/1.20.0-notes.html#deprecations\n",
      "  np.asarray(values).astype(np.float)\n"
     ]
    },
    {
     "data": {
      "image/png": "[encoded data removed]",
      "text/plain": [
       "<Figure size 864x1080 with 1 Axes>"
      ]
     },
     "metadata": {},
     "output_type": "display_data"
    }
   ],
   "source": [
    "import seaborn as sns\n",
    "import matplotlib.pyplot as plt\n",
    "\n",
    "sns.set(style=\"whitegrid\")\n",
    "\n",
    "# Initialize the matplotlib figure\n",
    "f, ax = plt.subplots(figsize=(12, 15))\n",
    "\n",
    "sns.set_color_codes('pastel')\n",
    "sns.barplot(x='negative', y='primary_topic', data=agg, label=\"Negative\", color=\"r\", alpha=0.6)\n",
    "\n",
    "sns.set_color_codes('muted')\n",
    "sns.barplot(x='positive', y='primary_topic', data=agg, label=\"Positive\", color=\"g\", alpha=0.6)\n",
    "\n",
    "ax.legend(ncol=2, loc=\"lower right\", frameon=True)\n",
    "ax.set(xlim=(0,5000), ylabel=\"\", xlabel=\"Count of Reviews\")\n",
    "sns.despine(left=True, bottom=True)"
   ]
  },
  {
   "cell_type": "code",
   "execution_count": null,
   "metadata": {
    "id": "OtTRyaXgCOy3"
   },
   "outputs": [],
   "source": []
  }
 ],
 "metadata": {
  "colab": {
   "include_colab_link": true,
   "name": "LS_DS17_414_Topic_Modeling_Lecture.ipynb",
   "provenance": []
  },
  "kernelspec": {
   "display_name": "ML_NLP (Python3.7)",
   "language": "python",
   "name": "ml_nlp"
  },
  "language_info": {
   "codemirror_mode": {
    "name": "ipython",
    "version": 3
   },
   "file_extension": ".py",
   "mimetype": "text/x-python",
   "name": "python",
   "nbconvert_exporter": "python",
   "pygments_lexer": "ipython3",
   "version": "3.7.0"
  }
 },
 "nbformat": 4,
 "nbformat_minor": 4
}
