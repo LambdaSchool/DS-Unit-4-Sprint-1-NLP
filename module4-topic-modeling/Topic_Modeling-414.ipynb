{
 "cells": [
  {
   "cell_type": "markdown",
   "metadata": {
    "colab_type": "text",
    "id": "view-in-github"
   },
   "source": [
    "<a href=\"https://colab.research.google.com/github/skhabiri/DS-Unit-4-Sprint-1-NLP/blob/main/module4-topic-modeling/LS_DS17_414_Topic_Modeling_Lecture.ipynb\" target=\"_parent\"><img src=\"https://colab.research.google.com/assets/colab-badge.svg\" alt=\"Open In Colab\"/></a>"
   ]
  },
  {
   "cell_type": "markdown",
   "metadata": {},
   "source": [
    "# Topic Modeling (Prepare)\n",
    "Learning 'topics' from documents. Topics are a latent structure. They are not directly observable in the data, but we know they're there by reading them."
   ]
  },
  {
   "cell_type": "code",
   "execution_count": 1,
   "metadata": {
    "id": "4763Tu27COwt"
   },
   "outputs": [],
   "source": [
    "import numpy as np\n",
    "\n",
    "\"\"\"\n",
    "Gensim is an open-source library for unsupervised topic modeling and natural \n",
    "language processing, using modern statistical machine learning. Gensim is \n",
    "implemented in Python and Cython.\n",
    "\"\"\"\n",
    "import gensim\n",
    "import os\n",
    "import re\n",
    "\n",
    "\"\"\"\n",
    "literal_eval: Safely evaluate an expression node or a string containing a \n",
    "Python literal or container display. The string or node provided may only \n",
    "consist of the following Python literal structures: strings, bytes, numbers, \n",
    "tuples, lists, dicts, sets, booleans, and None.\n",
    "\"\"\"\n",
    "# The ast module helps Python applications to process trees of the Python abstract syntax grammar.\n",
    "from ast import literal_eval\n",
    "\n",
    "from gensim.utils import simple_preprocess\n",
    "from gensim.parsing.preprocessing import STOPWORDS\n",
    "from gensim import corpora\n",
    "\n",
    "from gensim.models.ldamulticore import LdaMulticore\n",
    "\n",
    "import pandas as pd\n",
    "import tqdm"
   ]
  },
  {
   "cell_type": "code",
   "execution_count": 10,
   "metadata": {
    "id": "PPDFRUjlCOww"
   },
   "outputs": [],
   "source": [
    "df = pd.read_csv('./data/imbd_keywords.csv')"
   ]
  },
  {
   "cell_type": "code",
   "execution_count": 11,
   "metadata": {
    "id": "oVEnELC7COwz",
    "outputId": "b95cb34e-9c1b-49e0-ee15-cf76a42249fe"
   },
   "outputs": [
    {
     "data": {
      "text/html": [
       "<div>\n",
       "<style scoped>\n",
       "    .dataframe tbody tr th:only-of-type {\n",
       "        vertical-align: middle;\n",
       "    }\n",
       "\n",
       "    .dataframe tbody tr th {\n",
       "        vertical-align: top;\n",
       "    }\n",
       "\n",
       "    .dataframe thead th {\n",
       "        text-align: right;\n",
       "    }\n",
       "</style>\n",
       "<table border=\"1\" class=\"dataframe\">\n",
       "  <thead>\n",
       "    <tr style=\"text-align: right;\">\n",
       "      <th></th>\n",
       "      <th>review</th>\n",
       "      <th>sentiment</th>\n",
       "      <th>keywords</th>\n",
       "    </tr>\n",
       "  </thead>\n",
       "  <tbody>\n",
       "    <tr>\n",
       "      <th>0</th>\n",
       "      <td>One of the other reviewers has mentioned that ...</td>\n",
       "      <td>positive</td>\n",
       "      <td>['other shows', 'graphic violence', 'prison ex...</td>\n",
       "    </tr>\n",
       "    <tr>\n",
       "      <th>1</th>\n",
       "      <td>A wonderful little production. The filming tec...</td>\n",
       "      <td>positive</td>\n",
       "      <td>['halliwell', 'michael sheen', 'realism', 'com...</td>\n",
       "    </tr>\n",
       "    <tr>\n",
       "      <th>2</th>\n",
       "      <td>I thought this was a wonderful way to spend ti...</td>\n",
       "      <td>positive</td>\n",
       "      <td>['spirited young woman', 'devil wears prada', ...</td>\n",
       "    </tr>\n",
       "    <tr>\n",
       "      <th>3</th>\n",
       "      <td>Basically there's a family where a little boy ...</td>\n",
       "      <td>negative</td>\n",
       "      <td>['playing parents', 'jake', 'parents', 'descen...</td>\n",
       "    </tr>\n",
       "    <tr>\n",
       "      <th>4</th>\n",
       "      <td>Petter Mattei's \"Love in the Time of Money\" is...</td>\n",
       "      <td>positive</td>\n",
       "      <td>['mr. mattei', 'good luck', 'mattei', 'human r...</td>\n",
       "    </tr>\n",
       "  </tbody>\n",
       "</table>\n",
       "</div>"
      ],
      "text/plain": [
       "                                              review sentiment  \\\n",
       "0  One of the other reviewers has mentioned that ...  positive   \n",
       "1  A wonderful little production. The filming tec...  positive   \n",
       "2  I thought this was a wonderful way to spend ti...  positive   \n",
       "3  Basically there's a family where a little boy ...  negative   \n",
       "4  Petter Mattei's \"Love in the Time of Money\" is...  positive   \n",
       "\n",
       "                                            keywords  \n",
       "0  ['other shows', 'graphic violence', 'prison ex...  \n",
       "1  ['halliwell', 'michael sheen', 'realism', 'com...  \n",
       "2  ['spirited young woman', 'devil wears prada', ...  \n",
       "3  ['playing parents', 'jake', 'parents', 'descen...  \n",
       "4  ['mr. mattei', 'good luck', 'mattei', 'human r...  "
      ]
     },
     "execution_count": 11,
     "metadata": {},
     "output_type": "execute_result"
    }
   ],
   "source": [
    "df.head()"
   ]
  },
  {
   "cell_type": "code",
   "execution_count": 12,
   "metadata": {
    "id": "Vo1m675tCOw4",
    "outputId": "735513c5-964c-4956-b161-91a821d602e6"
   },
   "outputs": [
    {
     "data": {
      "text/plain": [
       "(40436, 3)"
      ]
     },
     "execution_count": 12,
     "metadata": {},
     "output_type": "execute_result"
    }
   ],
   "source": [
    "df.shape"
   ]
  },
  {
   "cell_type": "code",
   "execution_count": 13,
   "metadata": {
    "id": "IKlMoY7VCOw6",
    "outputId": "61b97108-fdca-4c5b-bbd9-9c48517b1d09"
   },
   "outputs": [
    {
     "data": {
      "text/plain": [
       "\"['other shows', 'graphic violence', 'prison experience', 'prison bitches', 'violence', 'emerald city', 'dodgy dealings', 'glass fronts', 'inmates', 'street skills', 'unflinching scenes', 'crooked guards', 'the oswald maximum security state penitentary', 'mainstream audiences', 'oz', 'city', 'shady agreements', 'pretty pictures', 'touch', 'muslims', 'irish', 'italians', 'gangstas', 'latinos', 'christians', 'home', 'first', 'charm', 'the high levels', 'drugs', 'right', 'regards', 'well mannered, middle class inmates', 'sex', 'a show', 'scuffles', 'order', 'aryans', 'just 1 oz episode', 'the first episode', 'the other reviewers', 'your darker side', 'the prison', 'the main appeal', 'romance', 'the first thing', 'an experimental section', 'privacy', 'the classic use', 'the word', 'no punches', 'its brutality', 'their lack', 'a taste', 'the fact', 'the nickname', 'the agenda', 'all the cells', 'a nickel', 'you']\""
      ]
     },
     "execution_count": 13,
     "metadata": {},
     "output_type": "execute_result"
    }
   ],
   "source": [
    "df['keywords'][0]"
   ]
  },
  {
   "cell_type": "code",
   "execution_count": 16,
   "metadata": {},
   "outputs": [
    {
     "data": {
      "text/plain": [
       "str"
      ]
     },
     "execution_count": 16,
     "metadata": {},
     "output_type": "execute_result"
    }
   ],
   "source": [
    "type(df['keywords'][0])"
   ]
  },
  {
   "cell_type": "code",
   "execution_count": 17,
   "metadata": {},
   "outputs": [
    {
     "data": {
      "text/plain": [
       "list"
      ]
     },
     "execution_count": 17,
     "metadata": {},
     "output_type": "execute_result"
    }
   ],
   "source": [
    "type(literal_eval(df['keywords'][0]))"
   ]
  },
  {
   "cell_type": "code",
   "execution_count": 18,
   "metadata": {
    "id": "xpcTreypCOw8"
   },
   "outputs": [],
   "source": [
    "# revert the string of list to original list\n",
    "df['keywords'] = df['keywords'].apply(literal_eval)"
   ]
  },
  {
   "cell_type": "code",
   "execution_count": 19,
   "metadata": {
    "id": "0Yj726u0COw_",
    "outputId": "38535c16-a56a-41b9-cef4-d314784f08ff"
   },
   "outputs": [
    {
     "data": {
      "text/plain": [
       "['other shows',\n",
       " 'graphic violence',\n",
       " 'prison experience',\n",
       " 'prison bitches',\n",
       " 'violence',\n",
       " 'emerald city',\n",
       " 'dodgy dealings',\n",
       " 'glass fronts',\n",
       " 'inmates',\n",
       " 'street skills',\n",
       " 'unflinching scenes',\n",
       " 'crooked guards',\n",
       " 'the oswald maximum security state penitentary',\n",
       " 'mainstream audiences',\n",
       " 'oz',\n",
       " 'city',\n",
       " 'shady agreements',\n",
       " 'pretty pictures',\n",
       " 'touch',\n",
       " 'muslims',\n",
       " 'irish',\n",
       " 'italians',\n",
       " 'gangstas',\n",
       " 'latinos',\n",
       " 'christians',\n",
       " 'home',\n",
       " 'first',\n",
       " 'charm',\n",
       " 'the high levels',\n",
       " 'drugs',\n",
       " 'right',\n",
       " 'regards',\n",
       " 'well mannered, middle class inmates',\n",
       " 'sex',\n",
       " 'a show',\n",
       " 'scuffles',\n",
       " 'order',\n",
       " 'aryans',\n",
       " 'just 1 oz episode',\n",
       " 'the first episode',\n",
       " 'the other reviewers',\n",
       " 'your darker side',\n",
       " 'the prison',\n",
       " 'the main appeal',\n",
       " 'romance',\n",
       " 'the first thing',\n",
       " 'an experimental section',\n",
       " 'privacy',\n",
       " 'the classic use',\n",
       " 'the word',\n",
       " 'no punches',\n",
       " 'its brutality',\n",
       " 'their lack',\n",
       " 'a taste',\n",
       " 'the fact',\n",
       " 'the nickname',\n",
       " 'the agenda',\n",
       " 'all the cells',\n",
       " 'a nickel',\n",
       " 'you']"
      ]
     },
     "execution_count": 19,
     "metadata": {},
     "output_type": "execute_result"
    }
   ],
   "source": [
    "df['keywords'][0]"
   ]
  },
  {
   "cell_type": "code",
   "execution_count": 20,
   "metadata": {
    "id": "0XeUAXPICOxC",
    "outputId": "19df06eb-67f9-49bc-db0e-e375bc01c444"
   },
   "outputs": [
    {
     "data": {
      "text/html": [
       "<div>\n",
       "<style scoped>\n",
       "    .dataframe tbody tr th:only-of-type {\n",
       "        vertical-align: middle;\n",
       "    }\n",
       "\n",
       "    .dataframe tbody tr th {\n",
       "        vertical-align: top;\n",
       "    }\n",
       "\n",
       "    .dataframe thead th {\n",
       "        text-align: right;\n",
       "    }\n",
       "</style>\n",
       "<table border=\"1\" class=\"dataframe\">\n",
       "  <thead>\n",
       "    <tr style=\"text-align: right;\">\n",
       "      <th></th>\n",
       "      <th>review</th>\n",
       "      <th>sentiment</th>\n",
       "      <th>keywords</th>\n",
       "    </tr>\n",
       "  </thead>\n",
       "  <tbody>\n",
       "    <tr>\n",
       "      <th>0</th>\n",
       "      <td>One of the other reviewers has mentioned that ...</td>\n",
       "      <td>positive</td>\n",
       "      <td>[other shows, graphic violence, prison experie...</td>\n",
       "    </tr>\n",
       "    <tr>\n",
       "      <th>1</th>\n",
       "      <td>A wonderful little production. The filming tec...</td>\n",
       "      <td>positive</td>\n",
       "      <td>[halliwell, michael sheen, realism, comedy, wi...</td>\n",
       "    </tr>\n",
       "    <tr>\n",
       "      <th>2</th>\n",
       "      <td>I thought this was a wonderful way to spend ti...</td>\n",
       "      <td>positive</td>\n",
       "      <td>[spirited young woman, devil wears prada, summ...</td>\n",
       "    </tr>\n",
       "    <tr>\n",
       "      <th>3</th>\n",
       "      <td>Basically there's a family where a little boy ...</td>\n",
       "      <td>negative</td>\n",
       "      <td>[playing parents, jake, parents, descent dialo...</td>\n",
       "    </tr>\n",
       "    <tr>\n",
       "      <th>4</th>\n",
       "      <td>Petter Mattei's \"Love in the Time of Money\" is...</td>\n",
       "      <td>positive</td>\n",
       "      <td>[mr. mattei, good luck, mattei, human relation...</td>\n",
       "    </tr>\n",
       "  </tbody>\n",
       "</table>\n",
       "</div>"
      ],
      "text/plain": [
       "                                              review sentiment  \\\n",
       "0  One of the other reviewers has mentioned that ...  positive   \n",
       "1  A wonderful little production. The filming tec...  positive   \n",
       "2  I thought this was a wonderful way to spend ti...  positive   \n",
       "3  Basically there's a family where a little boy ...  negative   \n",
       "4  Petter Mattei's \"Love in the Time of Money\" is...  positive   \n",
       "\n",
       "                                            keywords  \n",
       "0  [other shows, graphic violence, prison experie...  \n",
       "1  [halliwell, michael sheen, realism, comedy, wi...  \n",
       "2  [spirited young woman, devil wears prada, summ...  \n",
       "3  [playing parents, jake, parents, descent dialo...  \n",
       "4  [mr. mattei, good luck, mattei, human relation...  "
      ]
     },
     "execution_count": 20,
     "metadata": {},
     "output_type": "execute_result"
    }
   ],
   "source": [
    "df.head()"
   ]
  },
  {
   "cell_type": "code",
   "execution_count": 21,
   "metadata": {
    "id": "4TE5CQNDCOxE"
   },
   "outputs": [],
   "source": [
    "stop_words = [\n",
    "    'movie',\n",
    "    'review',\n",
    "    'film', \n",
    "    'actor',\n",
    "    'actress',\n",
    "    'films',\n",
    "]\n",
    "\n",
    "import spacy\n",
    "nlp = spacy.load('en_core_web_lg')"
   ]
  },
  {
   "cell_type": "code",
   "execution_count": 24,
   "metadata": {
    "id": "0p6Q92mpCOxG"
   },
   "outputs": [
    {
     "data": {
      "text/plain": [
       "332"
      ]
     },
     "execution_count": 24,
     "metadata": {},
     "output_type": "execute_result"
    }
   ],
   "source": [
    "stops = nlp.Defaults.stop_words.union(stop_words)\n",
    "len(stops)"
   ]
  },
  {
   "cell_type": "code",
   "execution_count": 30,
   "metadata": {
    "id": "JCrltj07COxI"
   },
   "outputs": [],
   "source": [
    "def remove_stops(_list_):\n",
    "    \"\"\"\n",
    "    Remove stop words from every string in a list of strings. \n",
    "    Each string may contain multiple words \n",
    "    _list_ refers to each row in dataframe\n",
    "    \"\"\"\n",
    "    \n",
    "    keywords = []\n",
    "    \n",
    "    # keyword is a string phrase containing multiple words\n",
    "    for keyword in _list_:\n",
    "        \n",
    "        phrase = []\n",
    "        \n",
    "        words = keyword.split()\n",
    "        \n",
    "        for word in words:\n",
    "            if word in stops:\n",
    "                pass\n",
    "            else: \n",
    "                phrase.append(word)\n",
    "            \n",
    "        # join elements of phrase with ' 's\n",
    "        phrase = ' '.join(phrase)\n",
    "        \n",
    "        # to exclude blanks,i.e. phrase = \"\"\n",
    "        if len(phrase) > 0:\n",
    "            keywords.append(phrase)\n",
    "    # keywords is a processed version of _list_\n",
    "    return keywords\n",
    "    "
   ]
  },
  {
   "cell_type": "code",
   "execution_count": 34,
   "metadata": {
    "id": "TWpH8tLyCOxK",
    "outputId": "8e32e8e9-ffc3-434a-9e49-f39dc74eb21c"
   },
   "outputs": [
    {
     "name": "stderr",
     "output_type": "stream",
     "text": [
      "/Users/shahnam/opt/anaconda3/envs/ML_NLP/lib/python3.7/site-packages/tqdm/std.py:702: FutureWarning: The Panel class is removed from pandas. Accessing it from the top-level namespace will also be removed in the next version\n",
      "  from pandas import Panel\n",
      "100%|██████████| 40436/40436 [00:01<00:00, 25196.77it/s]\n"
     ]
    }
   ],
   "source": [
    "# tqdm.tqdm\n",
    "from tqdm import tqdm\n",
    "# tqdm has a delayer adapter, so it's necessary to instanciate it before accessing its methods\n",
    "tqdm.pandas()\n",
    "# Adds progress_apply() to pd.Series methods\n",
    "df['clean_keywords'] = df['keywords'].progress_apply(remove_stops)"
   ]
  },
  {
   "cell_type": "code",
   "execution_count": 57,
   "metadata": {},
   "outputs": [
    {
     "name": "stdout",
     "output_type": "stream",
     "text": [
      "50\n"
     ]
    }
   ],
   "source": [
    "print(pd.options.display.max_colwidth)\n",
    "pd.options.display.max_colwidth = 100"
   ]
  },
  {
   "cell_type": "code",
   "execution_count": 58,
   "metadata": {
    "id": "2mvC6ft6COxM",
    "outputId": "6b6af0b8-b901-4802-dc72-d88baf54fae6"
   },
   "outputs": [
    {
     "data": {
      "text/plain": [
       "keywords          [other shows, graphic violence, prison experience, prison bitches, violence, emerald city, dodgy...\n",
       "clean_keywords    [shows, graphic violence, prison experience, prison bitches, violence, emerald city, dodgy deali...\n",
       "Name: 0, dtype: object"
      ]
     },
     "execution_count": 58,
     "metadata": {},
     "output_type": "execute_result"
    }
   ],
   "source": [
    "df[[\"keywords\", 'clean_keywords']].iloc[0]"
   ]
  },
  {
   "cell_type": "code",
   "execution_count": 59,
   "metadata": {
    "id": "0hsRS3R-COxP"
   },
   "outputs": [],
   "source": [
    "import gensim\n",
    "from gensim import corpora\n",
    "from gensim.models.ldamulticore import LdaMulticore"
   ]
  },
  {
   "cell_type": "code",
   "execution_count": 112,
   "metadata": {
    "id": "TiXTyqlqCOxR"
   },
   "outputs": [],
   "source": [
    "# Dict representation of all our keywords from the entire df column\n",
    "# assign an id to each keyword string in alphabetical order\n",
    "id2word = corpora.Dictionary(df['clean_keywords'])"
   ]
  },
  {
   "cell_type": "code",
   "execution_count": 113,
   "metadata": {
    "id": "WH2i848sCOxT",
    "outputId": "3239cad4-8449-4bc0-8029-c80c2f345d4f"
   },
   "outputs": [
    {
     "data": {
      "text/plain": [
       "['1 oz episode',\n",
       " 'agenda',\n",
       " 'aryans',\n",
       " 'brutality',\n",
       " 'cells',\n",
       " 'charm',\n",
       " 'christians',\n",
       " 'city',\n",
       " 'classic use',\n",
       " 'crooked guards',\n",
       " 'darker']"
      ]
     },
     "execution_count": 113,
     "metadata": {},
     "output_type": "execute_result"
    }
   ],
   "source": [
    "[id2word[i] for i in range(0,11)]"
   ]
  },
  {
   "cell_type": "code",
   "execution_count": 114,
   "metadata": {
    "id": "oc2u7osYCOxa",
    "outputId": "98def4c8-993e-4ed3-f7c0-697637656013"
   },
   "outputs": [
    {
     "data": {
      "text/plain": [
       "(57, 40436)"
      ]
     },
     "execution_count": 114,
     "metadata": {},
     "output_type": "execute_result"
    }
   ],
   "source": [
    "len(df['clean_keywords'][0]), len(df['clean_keywords'])"
   ]
  },
  {
   "cell_type": "code",
   "execution_count": 115,
   "metadata": {
    "id": "N53smhEdCOxX",
    "outputId": "bff48752-cc9c-420e-e10c-aac71d7d333f"
   },
   "outputs": [
    {
     "data": {
      "text/plain": [
       "(491029, 491029)"
      ]
     },
     "execution_count": 115,
     "metadata": {},
     "output_type": "execute_result"
    }
   ],
   "source": [
    "len(id2word), len(set(id2word.keys()))"
   ]
  },
  {
   "cell_type": "code",
   "execution_count": 116,
   "metadata": {
    "id": "1zq86G0ZCOxf",
    "outputId": "00c26f0a-9a32-47d4-8b08-bacbb68917b6"
   },
   "outputs": [
    {
     "data": {
      "text/plain": [
       "1"
      ]
     },
     "execution_count": 116,
     "metadata": {},
     "output_type": "execute_result"
    }
   ],
   "source": [
    "id2word.token2id['agenda']"
   ]
  },
  {
   "cell_type": "code",
   "execution_count": 117,
   "metadata": {},
   "outputs": [
    {
     "data": {
      "text/plain": [
       "['add_documents',\n",
       " 'cfs',\n",
       " 'compactify',\n",
       " 'dfs',\n",
       " 'doc2bow',\n",
       " 'doc2idx',\n",
       " 'filter_extremes',\n",
       " 'filter_n_most_frequent',\n",
       " 'filter_tokens',\n",
       " 'from_corpus',\n",
       " 'from_documents',\n",
       " 'get',\n",
       " 'id2token',\n",
       " 'items',\n",
       " 'iteritems',\n",
       " 'iterkeys',\n",
       " 'itervalues',\n",
       " 'keys',\n",
       " 'load',\n",
       " 'load_from_text',\n",
       " 'merge_with',\n",
       " 'num_docs',\n",
       " 'num_nnz',\n",
       " 'num_pos',\n",
       " 'patch_with_special_tokens',\n",
       " 'save',\n",
       " 'save_as_text',\n",
       " 'token2id',\n",
       " 'values']"
      ]
     },
     "execution_count": 117,
     "metadata": {},
     "output_type": "execute_result"
    }
   ],
   "source": [
    "[m for m in dir(id2word) if not m.startswith(\"_\")]"
   ]
  },
  {
   "cell_type": "code",
   "execution_count": 118,
   "metadata": {
    "id": "ykaYsGUqCOxj"
   },
   "outputs": [],
   "source": [
    "# exclude the keys that are repeated less than or more than a certain number of times\n",
    "id2word.filter_extremes(no_below=15, no_above=0.85)"
   ]
  },
  {
   "cell_type": "code",
   "execution_count": 119,
   "metadata": {
    "id": "4RP20D92COxl",
    "outputId": "e6199e92-33de-4960-a05b-64979a2f89cc"
   },
   "outputs": [
    {
     "data": {
      "text/plain": [
       "10064"
      ]
     },
     "execution_count": 119,
     "metadata": {},
     "output_type": "execute_result"
    }
   ],
   "source": [
    "len(id2word.keys())"
   ]
  },
  {
   "cell_type": "code",
   "execution_count": 120,
   "metadata": {},
   "outputs": [
    {
     "data": {
      "text/plain": [
       "'agenda'"
      ]
     },
     "execution_count": 120,
     "metadata": {},
     "output_type": "execute_result"
    }
   ],
   "source": [
    "# token \"1 oz episode\" is removed, and ids are re-assigned\n",
    "id2word[0]"
   ]
  },
  {
   "cell_type": "markdown",
   "metadata": {},
   "source": [
    "* **.doc2bow() method** Allows us to convert any random document to a bag of word based on a dictionary of id2word that we have built. token_ids are used from the dictionary and words that are not in the dictionary are ignored."
   ]
  },
  {
   "cell_type": "code",
   "execution_count": 125,
   "metadata": {},
   "outputs": [
    {
     "data": {
      "text/plain": [
       "[(0, 2), (5, 1)]"
      ]
     },
     "execution_count": 125,
     "metadata": {},
     "output_type": "execute_result"
    }
   ],
   "source": [
    "# 'aryans' is no longer in the id2word dict\n",
    "id2word.doc2bow(['agenda', 'agenda', 'city', 'aryans'])"
   ]
  },
  {
   "cell_type": "code",
   "execution_count": 126,
   "metadata": {},
   "outputs": [
    {
     "data": {
      "text/plain": [
       "[(0, 1),\n",
       " (1, 1),\n",
       " (2, 1),\n",
       " (3, 1),\n",
       " (4, 1),\n",
       " (5, 1),\n",
       " (6, 1),\n",
       " (7, 1),\n",
       " (8, 1),\n",
       " (9, 1),\n",
       " (10, 1),\n",
       " (11, 1),\n",
       " (12, 1),\n",
       " (13, 1),\n",
       " (14, 1),\n",
       " (15, 1),\n",
       " (16, 1),\n",
       " (17, 1),\n",
       " (18, 1),\n",
       " (19, 1),\n",
       " (20, 1),\n",
       " (21, 1),\n",
       " (22, 1),\n",
       " (23, 1),\n",
       " (24, 1),\n",
       " (25, 1),\n",
       " (26, 1),\n",
       " (27, 1),\n",
       " (28, 1),\n",
       " (29, 1),\n",
       " (30, 1),\n",
       " (31, 1),\n",
       " (32, 1),\n",
       " (33, 1),\n",
       " (34, 1)]"
      ]
     },
     "execution_count": 126,
     "metadata": {},
     "output_type": "execute_result"
    }
   ],
   "source": [
    "id2word.doc2bow(df['clean_keywords'][0])"
   ]
  },
  {
   "cell_type": "markdown",
   "metadata": {},
   "source": [
    "### Bag of words _Counting_\n",
    "`corpus` is counter type bow with one row for each document."
   ]
  },
  {
   "cell_type": "code",
   "execution_count": 127,
   "metadata": {
    "id": "gYNMSUg2COxn"
   },
   "outputs": [],
   "source": [
    "\"\"\"\n",
    "counts number of occurences of each token (must exist in dictionary of id2word) **per document**, \n",
    "(token_id, count)\n",
    "\"\"\"\n",
    "corpus = [id2word.doc2bow(text) for text in df['clean_keywords']]"
   ]
  },
  {
   "cell_type": "code",
   "execution_count": 128,
   "metadata": {},
   "outputs": [
    {
     "data": {
      "text/plain": [
       "[[(0, 1),\n",
       "  (1, 1),\n",
       "  (2, 1),\n",
       "  (3, 1),\n",
       "  (4, 1),\n",
       "  (5, 1),\n",
       "  (6, 1),\n",
       "  (7, 1),\n",
       "  (8, 1),\n",
       "  (9, 1),\n",
       "  (10, 1),\n",
       "  (11, 1),\n",
       "  (12, 1),\n",
       "  (13, 1),\n",
       "  (14, 1),\n",
       "  (15, 1),\n",
       "  (16, 1),\n",
       "  (17, 1),\n",
       "  (18, 1),\n",
       "  (19, 1),\n",
       "  (20, 1),\n",
       "  (21, 1),\n",
       "  (22, 1),\n",
       "  (23, 1),\n",
       "  (24, 1),\n",
       "  (25, 1),\n",
       "  (26, 1),\n",
       "  (27, 1),\n",
       "  (28, 1),\n",
       "  (29, 1),\n",
       "  (30, 1),\n",
       "  (31, 1),\n",
       "  (32, 1),\n",
       "  (33, 1),\n",
       "  (34, 1)],\n",
       " [(9, 1),\n",
       "  (87, 1),\n",
       "  (92, 1),\n",
       "  (118, 1),\n",
       "  (148, 1),\n",
       "  (177, 1),\n",
       "  (251, 1),\n",
       "  (402, 1),\n",
       "  (412, 1),\n",
       "  (601, 1),\n",
       "  (670, 1),\n",
       "  (1090, 1),\n",
       "  (1937, 1),\n",
       "  (2191, 1),\n",
       "  (3397, 1),\n",
       "  (4231, 1),\n",
       "  (4232, 1),\n",
       "  (4233, 1),\n",
       "  (4234, 1),\n",
       "  (4235, 1),\n",
       "  (4236, 1)]]"
      ]
     },
     "execution_count": 128,
     "metadata": {},
     "output_type": "execute_result"
    }
   ],
   "source": [
    "# token_id = 9 is counted once in doc0 and doc500\n",
    "corpus[0:600:500]"
   ]
  },
  {
   "cell_type": "code",
   "execution_count": 129,
   "metadata": {
    "id": "CGdn4XOICOxp",
    "outputId": "698230e7-56a8-4869-8706-97a43b96bae5"
   },
   "outputs": [
    {
     "data": {
      "text/plain": [
       "40436"
      ]
     },
     "execution_count": 129,
     "metadata": {},
     "output_type": "execute_result"
    }
   ],
   "source": [
    "# same length as the df['clean_keywords']\n",
    "len(corpus)"
   ]
  },
  {
   "cell_type": "markdown",
   "metadata": {},
   "source": [
    "### Topic Modeling\n",
    "### Parallelized Latent Dirichlet Allocation\n",
    "\n",
    "The constructor estimates Latent Dirichlet Allocation model parameters based on a training corpus:\n",
    "```\n",
    "lda = LdaMulticore(corpus, num_topics=10)\n",
    "```\n",
    "You can then infer topic distributions on new, unseen documents, with\n",
    "```\n",
    "doc_lda = lda[doc_bow]\n",
    "```\n",
    "The model can be updated (trained) with new documents via\n",
    "```\n",
    "lda.update(other_corpus)\n",
    "```\n",
    "Model persistency is achieved through its load/save methods."
   ]
  },
  {
   "cell_type": "markdown",
   "metadata": {},
   "source": []
  },
  {
   "cell_type": "code",
   "execution_count": 130,
   "metadata": {
    "id": "cLsG_ihzCOx4"
   },
   "outputs": [],
   "source": [
    "lda = LdaMulticore(corpus=corpus, # doc_bow\n",
    "                   id2word=id2word,  # dictionary\n",
    "                   num_topics=20,\n",
    "                   passes=50, \n",
    "                   workers=7\n",
    "                  )"
   ]
  },
  {
   "cell_type": "code",
   "execution_count": 131,
   "metadata": {},
   "outputs": [
    {
     "data": {
      "text/plain": [
       "['alpha',\n",
       " 'batch',\n",
       " 'bound',\n",
       " 'callbacks',\n",
       " 'chunksize',\n",
       " 'clear',\n",
       " 'decay',\n",
       " 'diff',\n",
       " 'dispatcher',\n",
       " 'distributed',\n",
       " 'do_estep',\n",
       " 'do_mstep',\n",
       " 'dtype',\n",
       " 'eta',\n",
       " 'eval_every',\n",
       " 'expElogbeta',\n",
       " 'gamma_threshold',\n",
       " 'get_document_topics',\n",
       " 'get_term_topics',\n",
       " 'get_topic_terms',\n",
       " 'get_topics',\n",
       " 'id2word',\n",
       " 'inference',\n",
       " 'init_dir_prior',\n",
       " 'iterations',\n",
       " 'load',\n",
       " 'log_perplexity',\n",
       " 'minimum_phi_value',\n",
       " 'minimum_probability',\n",
       " 'num_terms',\n",
       " 'num_topics',\n",
       " 'num_updates',\n",
       " 'numworkers',\n",
       " 'offset',\n",
       " 'optimize_alpha',\n",
       " 'optimize_eta',\n",
       " 'passes',\n",
       " 'per_word_topics',\n",
       " 'print_topic',\n",
       " 'print_topics',\n",
       " 'random_state',\n",
       " 'save',\n",
       " 'show_topic',\n",
       " 'show_topics',\n",
       " 'state',\n",
       " 'sync_state',\n",
       " 'top_topics',\n",
       " 'update',\n",
       " 'update_alpha',\n",
       " 'update_eta',\n",
       " 'update_every',\n",
       " 'workers']"
      ]
     },
     "execution_count": 131,
     "metadata": {},
     "output_type": "execute_result"
    }
   ],
   "source": [
    "[m for m in dir(lda) if not m.startswith(\"_\")]"
   ]
  },
  {
   "cell_type": "code",
   "execution_count": 137,
   "metadata": {},
   "outputs": [
    {
     "data": {
      "text/plain": [
       "81"
      ]
     },
     "execution_count": 137,
     "metadata": {},
     "output_type": "execute_result"
    }
   ],
   "source": [
    "id2word.token2id[\"acting\"]"
   ]
  },
  {
   "cell_type": "code",
   "execution_count": 132,
   "metadata": {
    "id": "e7L8OwisCOx6",
    "outputId": "6a8d850b-a40a-4583-d6a9-4197e4661efb"
   },
   "outputs": [
    {
     "data": {
      "text/plain": [
       "[(0,\n",
       "  '0.026*\"acting\" + 0.021*\"time\" + 0.020*\"people\" + 0.020*\"plot\" + 0.016*\"actors\" + 0.015*\"money\" + 0.013*\"movies\" + 0.013*\"script\" + 0.013*\"story\" + 0.012*\"characters\"'),\n",
       " (1,\n",
       "  '0.020*\"book\" + 0.018*\"story\" + 0.011*\"novel\" + 0.010*\"characters\" + 0.008*\"actors\" + 0.007*\"love\" + 0.007*\"version\" + 0.007*\"dvd\" + 0.007*\"time\" + 0.007*\"vote\"'),\n",
       " (2,\n",
       "  '0.018*\"story\" + 0.012*\"movies\" + 0.011*\"characters\" + 0.010*\"actors\" + 0.008*\"australian\" + 0.008*\"lot\" + 0.008*\"cast\" + 0.008*\"great\" + 0.007*\"time\" + 0.007*\"indian\"'),\n",
       " (3,\n",
       "  '0.010*\"oscar\" + 0.006*\"screen\" + 0.006*\"man\" + 0.006*\"hollywood\" + 0.006*\"time\" + 0.006*\"american\" + 0.005*\"role\" + 0.005*\"second\" + 0.005*\"broadway\" + 0.005*\"mgm\"'),\n",
       " (4,\n",
       "  '0.013*\"night\" + 0.011*\"time\" + 0.009*\"guy\" + 0.009*\"house\" + 0.008*\"people\" + 0.007*\"end\" + 0.007*\"scene\" + 0.007*\"second\" + 0.006*\"plot\" + 0.005*\"things\"'),\n",
       " (5,\n",
       "  '0.017*\"family\" + 0.016*\"mother\" + 0.015*\"father\" + 0.014*\"life\" + 0.012*\"son\" + 0.011*\"people\" + 0.010*\"wife\" + 0.010*\"love\" + 0.009*\"daughter\" + 0.009*\"end\"'),\n",
       " (6,\n",
       "  '0.025*\"dvd\" + 0.013*\"time\" + 0.009*\"way\" + 0.008*\"people\" + 0.008*\"copy\" + 0.008*\"years\" + 0.007*\"thing\" + 0.007*\"british\" + 0.006*\"minutes\" + 0.006*\"vhs\"'),\n",
       " (7,\n",
       "  '0.014*\"people\" + 0.009*\"time\" + 0.009*\"story\" + 0.009*\"fact\" + 0.008*\"things\" + 0.008*\"end\" + 0.007*\"way\" + 0.007*\"scenes\" + 0.006*\"lot\" + 0.006*\"thing\"'),\n",
       " (8,\n",
       "  '0.016*\"action\" + 0.013*\"time\" + 0.012*\"plot\" + 0.010*\"cast\" + 0.009*\"director\" + 0.008*\"story\" + 0.008*\"scenes\" + 0.007*\"characters\" + 0.007*\"script\" + 0.006*\"actors\"'),\n",
       " (9,\n",
       "  '0.028*\"people\" + 0.019*\"episode\" + 0.016*\"series\" + 0.010*\"episodes\" + 0.010*\"characters\" + 0.009*\"time\" + 0.009*\"world\" + 0.009*\"tv\" + 0.008*\"season\" + 0.008*\"lot\"'),\n",
       " (10,\n",
       "  '0.008*\"time\" + 0.007*\"man\" + 0.007*\"thing\" + 0.007*\"way\" + 0.006*\"point\" + 0.006*\"plot\" + 0.006*\"life\" + 0.005*\"role\" + 0.005*\"character\" + 0.005*\"reason\"'),\n",
       " (11,\n",
       "  '0.010*\"murder\" + 0.009*\"police\" + 0.008*\"crime\" + 0.008*\"man\" + 0.007*\"way\" + 0.006*\"money\" + 0.006*\"time\" + 0.005*\"gang\" + 0.005*\"men\" + 0.005*\"cops\"'),\n",
       " (12,\n",
       "  '0.016*\"time\" + 0.014*\"people\" + 0.008*\"lot\" + 0.006*\"fun\" + 0.006*\"course\" + 0.006*\"thing\" + 0.005*\"fact\" + 0.005*\"sequel\" + 0.005*\"money\" + 0.005*\"end\"'),\n",
       " (13,\n",
       "  '0.019*\"american\" + 0.019*\"war\" + 0.011*\"german\" + 0.011*\"time\" + 0.011*\"people\" + 0.009*\"country\" + 0.009*\"english\" + 0.008*\"japanese\" + 0.008*\"world\" + 0.008*\"americans\"'),\n",
       " (14,\n",
       "  '0.011*\"movies\" + 0.011*\"hollywood\" + 0.009*\"time\" + 0.007*\"edge\" + 0.006*\"seat\" + 0.006*\"role\" + 0.005*\"love\" + 0.005*\"scene\" + 0.005*\"people\" + 0.005*\"story\"'),\n",
       " (15,\n",
       "  '0.023*\"story\" + 0.014*\"characters\" + 0.012*\"people\" + 0.011*\"end\" + 0.009*\"time\" + 0.007*\"way\" + 0.007*\"character\" + 0.007*\"good\" + 0.006*\"fact\" + 0.005*\"plot\"'),\n",
       " (16,\n",
       "  '0.029*\"horror\" + 0.023*\"gore\" + 0.014*\"blood\" + 0.013*\"acting\" + 0.012*\"story\" + 0.011*\"plot\" + 0.009*\"people\" + 0.009*\"characters\" + 0.009*\"end\" + 0.008*\"suspense\"'),\n",
       " (17,\n",
       "  '0.028*\"kids\" + 0.019*\"disney\" + 0.015*\"children\" + 0.015*\"animation\" + 0.011*\"story\" + 0.011*\"adults\" + 0.011*\"time\" + 0.009*\"characters\" + 0.009*\"way\" + 0.008*\"fun\"'),\n",
       " (18,\n",
       "  '0.017*\"life\" + 0.015*\"story\" + 0.012*\"love\" + 0.010*\"characters\" + 0.009*\"time\" + 0.008*\"man\" + 0.008*\"way\" + 0.007*\"people\" + 0.007*\"end\" + 0.006*\"world\"'),\n",
       " (19,\n",
       "  '0.016*\"time\" + 0.014*\"music\" + 0.011*\"story\" + 0.009*\"role\" + 0.008*\"love\" + 0.008*\"life\" + 0.008*\"songs\" + 0.007*\"people\" + 0.007*\"lot\" + 0.006*\"way\"')]"
      ]
     },
     "execution_count": 132,
     "metadata": {},
     "output_type": "execute_result"
    }
   ],
   "source": [
    "# topics represented as weighted tokens\n",
    "lda.print_topics()"
   ]
  },
  {
   "cell_type": "code",
   "execution_count": 142,
   "metadata": {
    "id": "LM5KkVBBCOx8",
    "outputId": "58d0c53d-ade1-49b4-cc0f-d5f3419966b4"
   },
   "outputs": [
    {
     "data": {
      "text/plain": [
       "[(18, '0.017*\"life\" + 0.015*\"story\" + 0.012*\"love\" + 0.010*\"characters\"'),\n",
       " (15, '0.023*\"story\" + 0.014*\"characters\" + 0.012*\"people\" + 0.011*\"end\"')]"
      ]
     },
     "execution_count": 142,
     "metadata": {},
     "output_type": "execute_result"
    }
   ],
   "source": [
    "# Print two random topics\n",
    "lda.print_topics(2, num_words=4)"
   ]
  },
  {
   "cell_type": "code",
   "execution_count": 143,
   "metadata": {
    "id": "4JUaMQZ2COx-"
   },
   "outputs": [],
   "source": [
    "import re"
   ]
  },
  {
   "cell_type": "code",
   "execution_count": 147,
   "metadata": {
    "id": "NiyLHEPwCOyB",
    "outputId": "01f1dd60-9bab-4f88-d0c6-dbe2f926e249"
   },
   "outputs": [
    {
     "data": {
      "text/plain": [
       "[(5,\n",
       "  '0.017*\"family\" + 0.016*\"mother\" + 0.015*\"father\" + 0.014*\"life\" + 0.012*\"son\" + 0.011*\"people\" + 0.010*\"wife\" + 0.010*\"love\" + 0.009*\"daughter\" + 0.009*\"end\"')]"
      ]
     },
     "execution_count": 147,
     "metadata": {},
     "output_type": "execute_result"
    }
   ],
   "source": [
    "test = lda.print_topics(1)\n",
    "test"
   ]
  },
  {
   "cell_type": "code",
   "execution_count": 148,
   "metadata": {
    "id": "Ncxuh_rxCOyD",
    "outputId": "30ae8899-08b2-4edd-e94f-91889488a973"
   },
   "outputs": [
    {
     "data": {
      "text/plain": [
       "'0.017*\"family\" + 0.016*\"mother\" + 0.015*\"father\" + 0.014*\"life\" + 0.012*\"son\" + 0.011*\"people\" + 0.010*\"wife\" + 0.010*\"love\" + 0.009*\"daughter\" + 0.009*\"end\"'"
      ]
     },
     "execution_count": 148,
     "metadata": {},
     "output_type": "execute_result"
    }
   ],
   "source": [
    "# list(tuple)\n",
    "test[0][1]"
   ]
  },
  {
   "cell_type": "code",
   "execution_count": 149,
   "metadata": {
    "id": "q9vkdjfuCOyG",
    "outputId": "9379ed6b-df8a-44ed-b0d2-5705072c13b4"
   },
   "outputs": [
    {
     "data": {
      "text/plain": [
       "['\"family\"',\n",
       " '\"mother\"',\n",
       " '\"father\"',\n",
       " '\"life\"',\n",
       " '\"son\"',\n",
       " '\"people\"',\n",
       " '\"wife\"',\n",
       " '\"love\"',\n",
       " '\"daughter\"',\n",
       " '\"end\"']"
      ]
     },
     "execution_count": 149,
     "metadata": {},
     "output_type": "execute_result"
    }
   ],
   "source": [
    "# re.findall() returns a list of all the matching patterns\n",
    "re.findall(r'\"[^\"]*\"', test[0][1])"
   ]
  },
  {
   "cell_type": "code",
   "execution_count": 150,
   "metadata": {
    "id": "deDw_33tCOyH"
   },
   "outputs": [],
   "source": [
    "# t[1] exclude the topic number from each tuple\n",
    "# r'\"[^\"]*\"' grab every instance of the patterns between \" and \"\n",
    "\n",
    "words = [re.findall(r'\"[^\"]*\"', t[1]) for t in lda.print_topics(20)]"
   ]
  },
  {
   "cell_type": "code",
   "execution_count": 151,
   "metadata": {
    "id": "FKTmWTjTCOyJ",
    "outputId": "a13223d6-8c21-41ec-e772-e0b9e28e9559"
   },
   "outputs": [
    {
     "data": {
      "text/plain": [
       "['\"acting\"',\n",
       " '\"time\"',\n",
       " '\"people\"',\n",
       " '\"plot\"',\n",
       " '\"actors\"',\n",
       " '\"money\"',\n",
       " '\"movies\"',\n",
       " '\"script\"',\n",
       " '\"story\"',\n",
       " '\"characters\"']"
      ]
     },
     "execution_count": 151,
     "metadata": {},
     "output_type": "execute_result"
    }
   ],
   "source": [
    "words[0]"
   ]
  },
  {
   "cell_type": "code",
   "execution_count": 152,
   "metadata": {
    "id": "8kKOBRcRCOyL",
    "outputId": "091cdb17-14fc-437e-a51e-ff6aae627539"
   },
   "outputs": [
    {
     "data": {
      "text/plain": [
       "20"
      ]
     },
     "execution_count": 152,
     "metadata": {},
     "output_type": "execute_result"
    }
   ],
   "source": [
    "# number of topics\n",
    "len(words)"
   ]
  },
  {
   "cell_type": "code",
   "execution_count": 153,
   "metadata": {
    "id": "kOfbiu0zCOyO"
   },
   "outputs": [],
   "source": [
    "# t refers to each of 20 topics, grab the first 5 keywords in each topic\n",
    "topic_labels = [', '.join(t[0:5]) for t in words]"
   ]
  },
  {
   "cell_type": "code",
   "execution_count": 154,
   "metadata": {
    "id": "D5axQttSCOyQ",
    "outputId": "1c664ecd-7136-45ab-b7a1-0701301f6db5"
   },
   "outputs": [
    {
     "name": "stdout",
     "output_type": "stream",
     "text": [
      "------ Topic 0 ------\n",
      "\"acting\", \"time\", \"people\", \"plot\", \"actors\"\n",
      "\n",
      "------ Topic 1 ------\n",
      "\"book\", \"story\", \"novel\", \"characters\", \"actors\"\n",
      "\n",
      "------ Topic 2 ------\n",
      "\"story\", \"movies\", \"characters\", \"actors\", \"australian\"\n",
      "\n",
      "------ Topic 3 ------\n",
      "\"oscar\", \"screen\", \"man\", \"hollywood\", \"time\"\n",
      "\n",
      "------ Topic 4 ------\n",
      "\"night\", \"time\", \"guy\", \"house\", \"people\"\n",
      "\n",
      "------ Topic 5 ------\n",
      "\"family\", \"mother\", \"father\", \"life\", \"son\"\n",
      "\n",
      "------ Topic 6 ------\n",
      "\"dvd\", \"time\", \"way\", \"people\", \"copy\"\n",
      "\n",
      "------ Topic 7 ------\n",
      "\"people\", \"time\", \"story\", \"fact\", \"things\"\n",
      "\n",
      "------ Topic 8 ------\n",
      "\"action\", \"time\", \"plot\", \"cast\", \"director\"\n",
      "\n",
      "------ Topic 9 ------\n",
      "\"people\", \"episode\", \"series\", \"episodes\", \"characters\"\n",
      "\n",
      "------ Topic 10 ------\n",
      "\"time\", \"man\", \"thing\", \"way\", \"point\"\n",
      "\n",
      "------ Topic 11 ------\n",
      "\"murder\", \"police\", \"crime\", \"man\", \"way\"\n",
      "\n",
      "------ Topic 12 ------\n",
      "\"time\", \"people\", \"lot\", \"fun\", \"course\"\n",
      "\n",
      "------ Topic 13 ------\n",
      "\"american\", \"war\", \"german\", \"time\", \"people\"\n",
      "\n",
      "------ Topic 14 ------\n",
      "\"movies\", \"hollywood\", \"time\", \"edge\", \"seat\"\n",
      "\n",
      "------ Topic 15 ------\n",
      "\"story\", \"characters\", \"people\", \"end\", \"time\"\n",
      "\n",
      "------ Topic 16 ------\n",
      "\"horror\", \"gore\", \"blood\", \"acting\", \"story\"\n",
      "\n",
      "------ Topic 17 ------\n",
      "\"kids\", \"disney\", \"children\", \"animation\", \"story\"\n",
      "\n",
      "------ Topic 18 ------\n",
      "\"life\", \"story\", \"love\", \"characters\", \"time\"\n",
      "\n",
      "------ Topic 19 ------\n",
      "\"time\", \"music\", \"story\", \"role\", \"love\"\n",
      "\n"
     ]
    }
   ],
   "source": [
    "for id, t in enumerate(topic_labels): \n",
    "    print(f\"------ Topic {id} ------\")\n",
    "    print(t, end=\"\\n\\n\")"
   ]
  },
  {
   "cell_type": "code",
   "execution_count": 159,
   "metadata": {
    "id": "QIxRKqy9COyS",
    "outputId": "de466801-feeb-40b4-94b6-21ded1746873"
   },
   "outputs": [
    {
     "name": "stderr",
     "output_type": "stream",
     "text": [
      "/Users/shahnam/opt/anaconda3/envs/ML_NLP/lib/python3.7/site-packages/ipykernel/ipkernel.py:283: DeprecationWarning: `should_run_async` will not call `transform_cell` automatically in the future. Please pass the result to `transformed_cell` argument and any exception that happen during thetransform in `preprocessing_exc_tuple` in IPython 7.17 and above.\n",
      "  and should_run_async(code)\n"
     ]
    }
   ],
   "source": [
    "import pyLDAvis\n",
    "\n",
    "pyLDAvis.enable_notebook()"
   ]
  },
  {
   "cell_type": "code",
   "execution_count": 160,
   "metadata": {},
   "outputs": [
    {
     "name": "stderr",
     "output_type": "stream",
     "text": [
      "/Users/shahnam/opt/anaconda3/envs/ML_NLP/lib/python3.7/site-packages/ipykernel/ipkernel.py:283: DeprecationWarning: `should_run_async` will not call `transform_cell` automatically in the future. Please pass the result to `transformed_cell` argument and any exception that happen during thetransform in `preprocessing_exc_tuple` in IPython 7.17 and above.\n",
      "  and should_run_async(code)\n"
     ]
    },
    {
     "data": {
      "text/plain": [
       "['pyLDAvis']"
      ]
     },
     "execution_count": 160,
     "metadata": {},
     "output_type": "execute_result"
    }
   ],
   "source": [
    "[m for m in dir() if m.startswith(\"pyLDA\")]"
   ]
  },
  {
   "cell_type": "markdown",
   "metadata": {},
   "source": [
    "* To prevent the notebook styling be overwritten by pyLDAvis, we can save the graph to html and open is in another tab.\n",
    "```\n",
    "vis = pyLDAvis.gensim.prepare(lda_model_tfidf, corpus, dictionary=lda_model_tfidf.id2word)\n",
    "pyLDAvis.save_html(vis, \"/........./Desktop/top_5_topicsb.html\")\n",
    "```"
   ]
  },
  {
   "cell_type": "code",
   "execution_count": 161,
   "metadata": {
    "id": "7ZQR_BHNCOyU",
    "outputId": "ee41ab93-de81-4e4f-c01a-abc85d83ed1c"
   },
   "outputs": [
    {
     "name": "stderr",
     "output_type": "stream",
     "text": [
      "/Users/shahnam/opt/anaconda3/envs/ML_NLP/lib/python3.7/site-packages/ipykernel/ipkernel.py:283: DeprecationWarning: `should_run_async` will not call `transform_cell` automatically in the future. Please pass the result to `transformed_cell` argument and any exception that happen during thetransform in `preprocessing_exc_tuple` in IPython 7.17 and above.\n",
      "  and should_run_async(code)\n"
     ]
    },
    {
     "data": {
      "text/html": [
       "\n",
       "<link rel=\"stylesheet\" type=\"text/css\" href=\"https://cdn.rawgit.com/bmabey/pyLDAvis/files/ldavis.v1.0.0.css\">\n",
       "\n",
       "\n",
       "<div id=\"ldavis_el636441405238704484002839451275\"></div>\n",
       "<script type=\"text/javascript\">\n",
       "\n",
       "var ldavis_el636441405238704484002839451275_data = {\"mdsDat\": {\"x\": [-0.07535056604625845, 0.08305368474602122, -0.06226114005695425, -0.060917744983529996, 0.10494311678953118, -0.059204785933580376, -0.12040513396513366, -0.04143740671957924, -0.21756708774758104, 0.056300743264429, 0.11701493924651445, -0.01425479096384753, 0.06468054259502656, -0.15323912533330675, 0.14629457081468955, 0.12193830399460673, -0.02790195191657713, 0.12234053398133993, -0.005151610094420404, 0.021124908328610602], \"y\": [0.06359422590308679, -0.12790552151336992, -0.09399567488952593, -0.0899526385967959, -0.19034922331668974, -0.0520040340357973, 0.028615111425297338, -0.12685903716926586, 0.034207210558808376, 0.044090864323334186, 0.08315898406009671, 0.049309428677726926, -0.05038665692054418, 0.04410330955386762, 0.07134006758082163, 0.08247419115406557, -0.05786556636754468, 0.0165934125997861, 0.1812436319149613, 0.0905879150576814], \"topics\": [1, 2, 3, 4, 5, 6, 7, 8, 9, 10, 11, 12, 13, 14, 15, 16, 17, 18, 19, 20], \"cluster\": [1, 1, 1, 1, 1, 1, 1, 1, 1, 1, 1, 1, 1, 1, 1, 1, 1, 1, 1, 1], \"Freq\": [10.102041532935726, 8.546643967248787, 6.553605987380812, 6.07424708291842, 5.860523385752713, 5.857487986705092, 5.3049176307600225, 5.164298531112448, 4.593516471798611, 4.518221566865472, 4.500062281113396, 4.3560057978494475, 4.271913921298693, 3.980559450496367, 3.7510708127514154, 3.589198937365327, 3.5377577934177373, 3.4537436399215213, 3.3494091807229545, 2.6347740415850325]}, \"tinfo\": {\"Term\": [\"horror\", \"gore\", \"kids\", \"acting\", \"war\", \"episode\", \"dvd\", \"mother\", \"story\", \"characters\", \"family\", \"people\", \"worst\", \"love\", \"book\", \"american\", \"children\", \"disney\", \"father\", \"actors\", \"blood\", \"action\", \"german\", \"role\", \"movies\", \"money\", \"night\", \"house\", \"episodes\", \"music\", \"worst\", \"worst movies\", \"bad movies\", \"bad script\", \"positive reviews\", \"poor script\", \"naked gun\", \"govinda\", \"sasquatch\", \"manos\", \"amitabh\", \"bad editing\", \"ice-t\", \"rob lowe\", \"t-rex\", \"decent script\", \"amitabh bachchan\", \"steaming pile\", \"low quality\", \"utter crap\", \"dung\", \"best comedies\", \"rupert grint\", \"serbian\", \"reputations\", \"red sox\", \"waste\", \"ajay devgan\", \"plan 9 outer space\", \"sholay\", \"hour half\", \"american pie\", \"crap\", \"worst acting\", \"awful\", \"redeeming quality\", \"junk\", \"garbage\", \"horrible\", \"directing\", \"costs\", \"acting\", \"total waste\", \"bad\", \"stinker\", \"dialogues\", \"money\", \"piece\", \"script\", \"bollywood\", \"2 hours\", \"actors\", \"hour\", \"plot\", \"trash\", \"writing\", \"imdb\", \"reviews\", \"movies\", \"low budget\", \"budget\", \"joke\", \"director\", \"editing\", \"time\", \"people\", \"thing\", \"good\", \"characters\", \"reason\", \"lot\", \"lines\", \"story\", \"dialogue\", \"half\", \"end\", \"fact\", \"scenes\", \"way\", \"life\", \"kind\", \"point\", \"sense\", \"scene\", \"meryl streep\", \"davis\", \"bette davis\", \"maturity\", \"garbo\", \"fassbinder\", \"shakespearian\", \"despair\", \"visual style\", \"vera\", \"mental hospital\", \"paz vega\", \"almodovar\", \"fantasies\", \"boyer\", \"juliette lewis\", \"ponyo\", \"streep\", \"norma shearer\", \"leslie howard\", \"wards\", \"true meaning\", \"best oscar\", \"saturday afternoon\", \"character study\", \"nurse betty\", \"timothy hutton\", \"compensation\", \"mortality\", \"george cukor\", \"turmoil\", \"cerebral palsy\", \"loneliness\", \"stops\", \"sadness\", \"happiness\", \"anna\", \"rita\", \"admiration\", \"brad pitt\", \"cannes\", \"intimacy\", \"artist\", \"desperation\", \"emotions\", \"lust\", \"passion\", \"strength\", \"reflection\", \"feelings\", \"beauty\", \"love\", \"loss\", \"relationship\", \"life\", \"art\", \"emotion\", \"dreams\", \"meaning\", \"viewer\", \"tragedy\", \"heart\", \"man\", \"story\", \"reality\", \"woman\", \"work\", \"characters\", \"world\", \"audience\", \"moment\", \"director\", \"husband\", \"way\", \"character\", \"wife\", \"time\", \"end\", \"point\", \"scene\", \"people\", \"sense\", \"death\", \"role\", \"screen\", \"eyes\", \"scenes\", \"fact\", \"actors\", \"bugs\", \"symbols\", \"wizard oz\", \"spider\", \"cradle\", \"astronaut\", \"kurtz\", \"snuff\", \"reverse\", \"audience members\", \"heart darkness\", \"tarkovsky\", \"vin diesel\", \"span\", \"pitch black\", \"dreamworks\", \"couple hours\", \"\\\"special effects\", \"n64\", \"elephants\", \"riddick\", \"character design\", \"single thing\", \"waterfall\", \"renoir\", \"hallway\", \"animated movies\", \"overall effect\", \"e.t.\", \"kieslowski\", \"cup\", \"lava\", \"cinematic history\", \"kubrick\", \"ninja\", \"decent actors\", \"surrealism\", \"nice shots\", \"fiasco\", \"shining\", \"helicopter\", \"structure\", \"stanley kubrick\", \"wizard\", \"narration\", \"images\", \"hours\", \"logic\", \"suspension\", \"sound effects\", \"shots\", \"disbelief\", \"headache\", \"darkness\", \"tea\", \"camera\", \"planet\", \"humans\", \"visuals\", \"earth\", \"cave\", \"imagination\", \"water\", \"effect\", \"nature\", \"scenes\", \"people\", \"screen\", \"things\", \"sense\", \"fact\", \"couple\", \"example\", \"use\", \"end\", \"director\", \"scene\", \"point\", \"story\", \"thing\", \"way\", \"time\", \"half\", \"lot\", \"mind\", \"dialogue\", \"words\", \"audience\", \"place\", \"plot\", \"characters\", \"life\", \"second\", \"idea\", \"mom\", \"columbo\", \"peter falk\", \"charity\", \"edie\", \"pregnancy\", \"icing\", \"joseph smith\", \"youngest son\", \"momma\", \"carey\", \"jackie\", \"jackie chans\", \"anne ramsey\", \"sammo hung\", \"prot\", \"glenda farrell\", \"li\", \"young love\", \"robert culp\", \"rob roy\", \"lena olin\", \"falk\", \"nursing home\", \"jeffrey\", \"birthday party\", \"fatal attraction\", \"wedding ring\", \"caring\", \"little edie\", \"marine\", \"neighbor\", \"two-thirds\", \"dad\", \"mother\", \"michelle\", \"loretta young\", \"son\", \"closet\", \"father\", \"daughter\", \"uncle\", \"crystal\", \"family\", \"parents\", \"aunt\", \"sister\", \"husband\", \"cousin\", \"relatives\", \"older sister\", \"brother\", \"jeff\", \"girls\", \"wife\", \"school\", \"girl\", \"baby\", \"boys\", \"home\", \"women\", \"house\", \"child\", \"children\", \"boy\", \"care\", \"love\", \"life\", \"friends\", \"sex\", \"woman\", \"guy\", \"kids\", \"things\", \"end\", \"people\", \"day\", \"way\", \"story\", \"time\", \"man\", \"war\", \"german\", \"germany\", \"nazi\", \"hitler\", \"germans\", \"nazis\", \"world war\", \"soviet\", \"propaganda\", \"russians\", \"turkish\", \"soviet union\", \"holocaust\", \"second world war\", \"english subtitles\", \"communism\", \"wwii\", \"afghanistan\", \"foreigners\", \"eisenstein\", \"ussr\", \"capitalism\", \"poland\", \"eastern\", \"wars\", \"israeli\", \"democracy\", \"herzog\", \"stalin\", \"troops\", \"nation\", \"americans\", \"russia\", \"israel\", \"iraq\", \"russian\", \"japan\", \"countries\", \"jews\", \"soldiers\", \"world war ii\", \"country\", \"japanese\", \"government\", \"europe\", \"politics\", \"american\", \"france\", \"america\", \"china\", \"english\", \"documentary\", \"french\", \"history\", \"european\", \"battle\", \"world\", \"time\", \"people\", \"hollywood\", \"british\", \"men\", \"today\", \"story\", \"events\", \"way\", \"fact\", \"place\", \"life\", \"years\", \"episodes\", \"season\", \"shows\", \"seasons\", \"christians\", \"second season\", \"muslims\", \"contestants\", \"iranian\", \"family guy\", \"voyager\", \"asterix\", \"stargate\", \"homicide\", \"farscape\", \"great series\", \"reality tv\", \"zoey\", \"steven segal\", \"cows\", \"single episode\", \"evan\", \"bruce almighty\", \"melissa joan hart\", \"magazines\", \"free\", \"laugh track\", \"cartoon network\", \"american people\", \"episode\", \"star trek\", \"abc\", \"story lines\", \"south park\", \"bible\", \"programs\", \"rory\", \"christianity\", \"nbc\", \"christ\", \"sitcom\", \"tv series\", \"christian\", \"network\", \"religion\", \"series\", \"anime\", \"television\", \"jesus\", \"media\", \"bush\", \"writers\", \"simpsons\", \"topic\", \"tv\", \"people\", \"god\", \"world\", \"documentary\", \"earth\", \"week\", \"characters\", \"lot\", \"things\", \"air\", \"time\", \"thing\", \"fact\", \"way\", \"kind\", \"point\", \"life\", \"end\", \"mind\", \"viewers\", \"fun\", \"humor\", \"opinion\", \"friends\", \"reason\", \"idea\", \"horror\", \"slasher\", \"scares\", \"grudge\", \"horror genre\", \"good horror\", \"argento\", \"horror fan\", \"gore\", \"horror fans\", \"vampire\", \"maniac\", \"fulci\", \"horror flick\", \"kills\", \"hellraiser\", \"prom night\", \"great horror\", \"creepiness\", \"worst horror\", \"intestines\", \"wolf man\", \"puppet master\", \"stepmother\", \"wrong turn\", \"slasher movies\", \"clive barker\", \"ringu\", \"valentine\", \"camp blood\", \"re-animator\", \"horror movies\", \"sleaze\", \"blood\", \"killings\", \"evil dead\", \"death scenes\", \"nudity\", \"texas chainsaw massacre\", \"castle\", \"troma\", \"halloween\", \"killer\", \"atmosphere\", \"suspense\", \"chills\", \"dracula\", \"vampires\", \"murders\", \"twist\", \"violence\", \"tension\", \"ghost\", \"acting\", \"genre\", \"plot\", \"japanese\", \"story\", \"ending\", \"fun\", \"lots\", \"end\", \"characters\", \"house\", \"lot\", \"fans\", \"people\", \"way\", \"plenty\", \"movies\", \"group\", \"fact\", \"night\", \"sense\", \"times\", \"scenes\", \"place\", \"criminals\", \"denzel\", \"denzel washington\", \"south africa\", \"albert\", \"stunt\", \"bronson\", \"gene tierney\", \"midnight cowboy\", \"spike lee\", \"melbourne\", \"pam grier\", \"mobster\", \"robbers\", \"spade\", \"fbi\", \"fbi agent\", \"tony scott\", \"vice\", \"noir\", \"kinnear\", \"machine gun\", \"police detective\", \"spaghetti westerns\", \"drug dealers\", \"gangsters\", \"mob boss\", \"shemp\", \"drug dealer\", \"african americans\", \"nicole\", \"police station\", \"cuban\", \"theft\", \"crime\", \"thugs\", \"robbery\", \"police\", \"washington\", \"gang\", \"cops\", \"detective\", \"murder\", \"victoria\", \"madonna\", \"criminal\", \"jail\", \"prison\", \"bank\", \"investigation\", \"chase\", \"bad guys\", \"gun\", \"partner\", \"good guys\", \"run\", \"law\", \"job\", \"violence\", \"man\", \"men\", \"victim\", \"money\", \"town\", \"way\", \"revenge\", \"killer\", \"new york\", \"order\", \"role\", \"case\", \"place\", \"character\", \"time\", \"end\", \"scene\", \"women\", \"plot\", \"fact\", \"story\", \"hollywood\", \"point\", \"hardy\", \"demon\", \"laurel\", \"bones\", \"christopher lee\", \"stan\", \"grandma\", \"middle night\", \"ollie\", \"bay\", \"boobs\", \"stan laurel\", \"cushing\", \"jim wynorski\", \"stefan\", \"new series\", \"body count\", \"oliver hardy\", \"spare time\", \"serum\", \"lois lane\", \"beowulf\", \"bowl\", \"laurel & hardy\", \"peter cushing\", \"3 minutes\", \"moriarty\", \"saturday night\", \"mausoleum\", \"egg\", \"robot\", \"dragon\", \"10 seconds\", \"saturday\", \"alien\", \"friday\", \"sherlock holmes\", \"scientist\", \"uwe boll\", \"3rd\", \"mad scientist\", \"night\", \"video store\", \"mall\", \"corpse\", \"house\", \"superman\", \"predator\", \"doctor\", \"middle\", \"car\", \"guy\", \"box\", \"morning\", \"creature\", \"hell\", \"bunch\", \"chair\", \"second\", \"scene\", \"head\", \"time\", \"door\", \"monster\", \"end\", \"people\", \"plot\", \"things\", \"rest\", \"death\", \"reason\", \"sci-fi\", \"fact\", \"guys\", \"thing\", \"girls\", \"kids\", \"way\", \"day\", \"girl\", \"story\", \"seagal\", \"jack lemmon\", \"steven seagal\", \"hk\", \"90 minute\", \"john gielgud\", \"lemmon\", \"nicholas cage\", \"doris day\", \"steven\", \"jet li\", \"jackie chan\", \"american version\", \"mad max\", \"alec guinness\", \"dyan cannon\", \"segal\", \"george sanders\", \"shaw\", \"dolemite\", \"giovanni ribisi\", \"stuart gordon\", \"bad taste\", \"dudley moore\", \"christopher reeve\", \"cannibal holocaust\", \"captivity\", \"rudy ray moore\", \"police story\", \"bava\", \"john woo\", \"max\", \"caine\", \"cinemax\", \"kung fu\", \"hong kong\", \"foreign\", \"hitchcock\", \"michael caine\", \"martial arts\", \"complete waste\", \"bruce lee\", \"action scenes\", \"fight scenes\", \"acting talent\", \"dubbing\", \"action\", \"original\", \"settings\", \"stunts\", \"remake\", \"cast\", \"thriller\", \"italian\", \"plot\", \"director\", \"tone\", \"scenes\", \"suspense\", \"script\", \"time\", \"role\", \"scenery\", \"style\", \"comedy\", \"actors\", \"character\", \"characters\", \"screen\", \"rest\", \"story\", \"acting\", \"way\", \"thing\", \"american\", \"fact\", \"dialogue\", \"audience\", \"sort\", \"english\", \"gene kelly\", \"singers\", \"shanghai\", \"pokemon\", \"travolta\", \"clyde\", \"julie andrews\", \"coen brothers\", \"belushi\", \"ramones\", \"dexter\", \"hayworth\", \"bacall\", \"pioneers\", \"coen\", \"dorothy malone\", \"dirty dancing\", \"schindler\", \"conrad veidt\", \"ben johnson\", \"john hughes\", \"feel good\", \"oliver reed\", \"fashions\", \"touching story\", \"genie\", \"good humor\", \"summer camp\", \"superstar\", \"finest actors\", \"welles\", \"favorite movies\", \"hudson\", \"rita hayworth\", \"bonnie\", \"orson welles\", \"great music\", \"cd\", \"schindlers list\", \"ward bond\", \"lauren bacall\", \"songs\", \"lyrics\", \"outstanding performance\", \"music\", \"dancing\", \"citizen kane\", \"singer\", \"fame\", \"beatles\", \"ages\", \"summer\", \"rock hudson\", \"soundtrack\", \"kelly\", \"ray\", \"role\", \"rain\", \"time\", \"high school\", \"love\", \"great\", \"tears\", \"rock\", \"story\", \"heart\", \"classic\", \"life\", \"era\", \"hollywood\", \"lot\", \"eyes\", \"dvd\", \"today\", \"way\", \"people\", \"oscar\", \"movies\", \"family\", \"characters\", \"american\", \"years\", \"plot\", \"end\", \"friends\", \"acting\", \"chance\", \"performance\", \"actors\", \"ebay\", \"models\", \"wallace\", \"welsh\", \"planets\", \"gromit\", \"skies\", \"jessica simpson\", \"punk\", \"dvd copy\", \"future generations\", \"wonderful actors\", \"johnny knoxville\", \"chevy\", \"lump\", \"chipmunks\", \"zabriskie point\", \"dylan\", \"chronicles\", \"aamir khan\", \"limelight\", \"marvelous\", \"vermont\", \"nash\", \"beasts\", \"high ratings\", \"special edition\", \"band members\", \"concert\", \"deleted scenes\", \"pond\", \"vhs\", \"video tape\", \"months ago\", \"disc\", \"carry\", \"turner\", \"10 years ago\", \"uk\", \"space odyssey\", \"copy\", \"dvd\", \"dvds\", \"astronauts\", \"extras\", \"remote\", \"home video\", \"16mm\", \"print\", \"privilege\", \"copies\", \"format\", \"british\", \"video\", \"value\", \"band\", \"curiosity\", \"collection\", \"minutes\", \"heaven\", \"years\", \"commentary\", \"days\", \"earth\", \"comments\", \"time\", \"tv\", \"thing\", \"way\", \"week\", \"today\", \"space\", \"people\", \"course\", \"fact\", \"point\", \"cinema\", \"chance\", \"day\", \"music\", \"things\", \"place\", \"movies\", \"series\", \"kind\", \"hanks\", \"jude law\", \"paul newman\", \"don cheadle\", \"wwe\", \"philip seymour hoffman\", \"macy\", \"justin timberlake\", \"carlos\", \"verhoeven\", \"atlanta\", \"kevin james\", \"newman\", \"marisa tomei\", \"sidney lumet\", \"undertaker\", \"wrestlemania\", \"mencia\", \"lumet\", \"amy adams\", \"good match\", \"tom hanks\", \"robert cummings\", \"ricci\", \"sarah waters\", \"cher\", \"gina\", \"asian horror\", \"haggard\", \"cky\", \"fantastic job\", \"great soundtrack\", \"boogie nights\", \"william h. macy\", \"sutherland\", \"christina ricci\", \"lynch\", \"michael douglas\", \"altman\", \"julia roberts\", \"great story\", \"subject matter\", \"queens\", \"david lynch\", \"twists\", \"smith\", \"story\", \"characters\", \"match\", \"relationships\", \"redemption\", \"good\", \"end\", \"donald sutherland\", \"people\", \"performances\", \"character\", \"great\", \"true story\", \"depth\", \"way\", \"attention\", \"time\", \"fact\", \"men\", \"ending\", \"love\", \"lives\", \"things\", \"role\", \"heart\", \"plot\", \"years\", \"cast\", \"events\", \"life\", \"movies\", \"acting\", \"lot\", \"rest\", \"actors\", \"reason\", \"father\", \"freddy\", \"chuck norris\", \"elm street\", \"wal-mart\", \"bad way\", \"norris\", \"stephen kings\", \"derek\", \"darth vader\", \"jedi\", \"jay leno\", \"bob newhart\", \"night living dead\", \"ripper\", \"leno\", \"kate capshaw\", \"american werewolf\", \"cult status\", \"college kids\", \"fido\", \"vinnie jones\", \"mutants\", \"freddy krueger\", \"critters\", \"ewoks\", \"caves\", \"richard crenna\", \"texas chainsaw\", \"sybil danning\", \"charles dance\", \"slaughter\", \"jason\", \"bin\", \"1 star\", \"dvd box\", \"bo\", \"nightmare\", \"albert brooks\", \"cult classic\", \"luke\", \"funny parts\", \"jack frost\", \"rip-off\", \"jack\", \"costello\", \"joan cusack\", \"zombies\", \"tom selleck\", \"eddie murphy\", \"sequel\", \"t.v.\", \"star wars\", \"time\", \"people\", \"fun\", \"revenge\", \"lot\", \"course\", \"head\", \"night\", \"plane\", \"day\", \"friends\", \"thing\", \"money\", \"entire\", \"group\", \"bunch\", \"idea\", \"fact\", \"reason\", \"guy\", \"end\", \"point\", \"way\", \"second\", \"rest\", \"movies\", \"good\", \"cast\", \"australian\", \"aussie\", \"great chemistry\", \"deniro\", \"english patient\", \"heath ledger\", \"karate kid\", \"australians\", \"custer\", \"great plot\", \"thailand\", \"ifc\", \"strong performances\", \"ralph fiennes\", \"raoul walsh\", \"arabia\", \"captors\", \"filipino\", \"fort\", \"quebec\", \"terrible movies\", \"david suchet\", \"emma roberts\", \"croc\", \"little big horn\", \"lawrence arabia\", \"natalie\", \"league gentlemen\", \"ned kelly\", \"1\", \"sydney\", \"australia\", \"robert deniro\", \"league\", \"indians\", \"major disappointment\", \"great actors\", \"canadian\", \"action movies\", \"thumbs\", \"goodfellas\", \"indian\", \"baseball\", \"tim robbins\", \"great acting\", \"great cast\", \"excellent\", \"excellent performances\", \"canada\", \"recognition\", \"best\", \"great\", \"civil war\", \"scripts\", \"india\", \"story\", \"movies\", \"actors\", \"cast\", \"rate\", \"characters\", \"opinion\", \"portrayal\", \"lot\", \"role\", \"drama\", \"costumes\", \"action\", \"acting\", \"character\", \"year\", \"way\", \"fact\", \"time\", \"hollywood\", \"director\", \"genre\", \"end\", \"american\", \"people\", \"technicolor\", \"30s\", \"walter matthau\", \"stanwyck\", \"keaton\", \"barbara stanwyck\", \"brando\", \"randolph scott\", \"george c. scott\", \"burns\", \"rko\", \"bourne\", \"caribbean\", \"dances\", \"joan fontaine\", \"fred astaire\", \"victor mclaglen\", \"ginger rogers\", \"scrooge\", \"astaire\", \"ingrid bergman\", \"satellite\", \"buster\", \"mgm\", \"favorite parts\", \"george burns\", \"peter boyle\", \"rivals\", \"cambodia\", \"modern audiences\", \"buster keaton\", \"hamlet\", \"myrna loy\", \"english language\", \"broadway\", \"gary cooper\", \"dance\", \"branagh\", \"matthau\", \"singing\", \"scott\", \"frank sinatra\", \"oscar\", \"marlon brando\", \"stage\", \"musicals\", \"christmas\", \"best picture\", \"play\", \"tcm\", \"navy\", \"academy award\", \"dancing\", \"version\", \"career\", \"screen\", \"hollywood\", \"today\", \"man\", \"american\", \"role\", \"second\", \"new york\", \"stars\", \"comedy\", \"music\", \"year\", \"period\", \"years\", \"time\", \"songs\", \"scene\", \"cast\", \"fact\", \"character\", \"end\", \"script\", \"english\", \"plot\", \"james bond\", \"clint eastwood\", \"sean connery\", \"eastwood\", \"lambs\", \"private ryan\", \"connery\", \"scarlett\", \"dirty harry\", \"silence lambs\", \"lone ranger\", \"saving private ryan\", \"miike\", \"brosnan\", \"anthony hopkins\", \"dead man\", \"domino\", \"acting performances\", \"m\", \"clint\", \"35mm\", \"roger moore\", \"little girls\", \"4 hours\", \"malkovich\", \"rowan atkinson\", \"basinger\", \"clayton moore\", \"philo vance\", \"color purple\", \"salt\", \"baddies\", \"rings\", \"shark\", \"harry\", \"lord\", \"intellect\", \"kim basinger\", \"bond\", \"tongue\", \"wind\", \"devil\", \"cheek\", \"exceptions\", \"spielberg\", \"president\", \"fire\", \"female lead\", \"man\", \"thing\", \"point\", \"role\", \"reason\", \"villain\", \"way\", \"time\", \"character\", \"plot\", \"life\", \"fact\", \"things\", \"book\", \"place\", \"kind\", \"story\", \"scene\", \"characters\", \"second\", \"case\", \"times\", \"series\", \"script\", \"juliet\", \"romeo\", \"emma\", \"jane austen\", \"dickens\", \"brazilian\", \"brazil\", \"austen\", \"rochester\", \"jane eyre\", \"dvd collection\", \"gwyneth paltrow\", \"bette midler\", \"parker posey\", \"superb job\", \"hartley\", \"demi moore\", \"emily watson\", \"tensions\", \"sunday afternoon\", \"dalton\", \"tom wilkinson\", \"rupert everett\", \"paltrow\", \"tissues\", \"barbra streisand\", \"julie christie\", \"persuasion\", \"pauly shore\", \"yards\", \"vote\", \"ian holm\", \"sunday\", \"elizabeth\", \"pathos\", \"novels\", \"adaptation\", \"novel\", \"bbc\", \"jane\", \"book\", \"meg ryan\", \"henry\", \"catherine\", \"vcr\", \"afternoon\", \"tape\", \"hbo\", \"version\", \"entire life\", \"british\", \"prejudice\", \"story\", \"author\", \"shakespeare\", \"characters\", \"production\", \"actors\", \"dvd\", \"love\", \"title\", \"cast\", \"screenplay\", \"end\", \"time\", \"life\", \"character\", \"tv\", \"night\", \"screen\", \"script\", \"people\", \"scenes\", \"disney\", \"animation\", \"batman\", \"tarzan\", \"muppet\", \"robin\", \"mel brooks\", \"pixar\", \"arnold\", \"comic book\", \"miyazaki\", \"muppets\", \"penguin\", \"cons\", \"karloff\", \"kermit\", \"live action\", \"shrek\", \"walt disney\", \"animated\", \"bela lugosi\", \"cartoons\", \"disney channel\", \"catwoman\", \"frog\", \"linda blair\", \"toy story\", \"milo\", \"arnie\", \"ariel\", \"lugosi\", \"cartoon\", \"adults\", \"childrens\", \"angela lansbury\", \"robin williams\", \"cinderella\", \"kids\", \"tim burton\", \"conan\", \"adult\", \"children\", \"cat\", \"animals\", \"favorites\", \"jokes\", \"parents\", \"childhood\", \"fun\", \"ages\", \"kid\", \"laughs\", \"songs\", \"story\", \"characters\", \"way\", \"time\", \"favorite\", \"humor\", \"great\", \"years\", \"child\", \"sequel\", \"movies\", \"comedy\", \"lot\", \"world\", \"today\", \"family\", \"people\", \"things\", \"spock\", \"chevy chase\", \"val kilmer\", \"antonio\", \"merchant\", \"visconti\", \"mccoy\", \"chase scene\", \"jason lee\", \"david spade\", \"ghoulies\", \"jean peters\", \"ida lupino\", \"dan aykroyd\", \"marion davies\", \"peters\", \"thelma ritter\", \"marlene dietrich\", \"office space\", \"rodney dangerfield\", \"slumber party massacre\", \"high art\", \"lupino\", \"predictable plot\", \"strong sense\", \"loomis\", \"silents\", \"selma blair\", \"south street\", \"robert downey\", \"darren mcgavin\", \"soap opera\", \"venice\", \"jamie lee curtis\", \"it\\u00b4s\", \"toronto\", \"geisha\", \"garfield\", \"seat\", \"richard widmark\", \"julia stiles\", \"edge\", \"fianc\\u00e9e\", \"bill murray\", \"6th\", \"finish\", \"clark\", \"players\", \"caliber\", \"morgan\", \"hollywood\", \"movies\", \"mike\", \"playboy\", \"mars\", \"career\", \"years later\", \"start\", \"fourth\", \"classic\", \"time\", \"role\", \"star\", \"texas\", \"love\", \"scene\", \"clothes\", \"picture\", \"year\", \"hand\", \"woman\", \"character\", \"people\", \"story\", \"man\", \"money\", \"today\", \"cast\", \"guy\", \"rest\"], \"Freq\": [1377.0, 1123.0, 1525.0, 4276.0, 986.0, 1026.0, 2212.0, 1117.0, 8078.0, 5481.0, 1763.0, 8705.0, 900.0, 2728.0, 1508.0, 2240.0, 1185.0, 558.0, 1300.0, 3472.0, 863.0, 1901.0, 592.0, 2210.0, 3640.0, 2563.0, 1606.0, 1162.0, 529.0, 2109.0, 898.3964359877588, 266.33603518456533, 212.5370104954417, 64.75687141511192, 49.28070218477283, 42.734866623566965, 38.494639041778, 38.12097023807062, 33.14175873901399, 33.34788906248338, 31.206779471164197, 29.901298798805033, 28.69274666004768, 25.42907648269526, 25.282453731370513, 23.862604687682584, 23.6544712637788, 21.807128296257513, 21.32733586160696, 21.277728278634132, 20.33167812006633, 19.07652698693092, 19.052404459615836, 18.08820169560425, 16.057494966824645, 15.402457497119386, 557.6882377569091, 14.726862651330892, 16.18329256192946, 14.406831259124246, 180.91146226989855, 68.91222056945092, 732.7409646687346, 28.92623518748404, 124.47869917266367, 51.81844403916981, 136.4376760685746, 334.6591184508957, 105.54272656660652, 175.64683127395247, 210.88893401641508, 2334.842681570103, 64.61956846266278, 490.5775369354092, 96.85522485144439, 83.79087780415867, 1345.3288349801815, 520.3272590503603, 1204.8020197087164, 122.51310895977454, 131.2063548213986, 1469.0815664504578, 436.7136989520205, 1803.6556043261533, 212.286200268574, 380.61693166867184, 396.73217132174113, 307.03970808704526, 1211.1850580732814, 249.87108517413765, 287.6550934895935, 244.7966620847087, 872.042418034625, 287.56934083875603, 1915.5471249033715, 1810.2437937789816, 980.0224584031813, 617.4334096416726, 1125.3181543775008, 661.5141786117644, 835.5780302328648, 398.8746644437666, 1164.2581327889873, 432.7165711043393, 473.20833015745603, 807.8838094496455, 660.3876538295897, 531.3097730524713, 645.9531913357708, 612.2292339495315, 483.0651174672114, 501.6362475128907, 455.44528705608775, 468.6876133836476, 99.44147913354335, 73.09529858055643, 64.9969349095805, 39.25077529630309, 33.8715871720125, 26.63436375962318, 27.904871695919265, 109.996764059275, 24.767817284171723, 23.984754731485616, 23.559717318188053, 23.273637476484744, 23.002290073641223, 44.22491130578252, 21.989585380356463, 21.78252054128196, 20.739002773324835, 41.61489973279229, 20.278663478037608, 19.417487682134286, 19.38178378424931, 19.101942962711412, 18.407973573565656, 17.334722176931315, 34.103172759618886, 16.718747203100015, 16.473327604421986, 16.155368568544926, 15.700158862816975, 15.358338739849511, 34.85839626682504, 23.206423084086914, 90.36792262815543, 25.418592175394117, 118.98610600838258, 151.81294715392906, 66.02501615559048, 40.64054646748761, 46.41515609376017, 66.67878284466363, 52.67844824648077, 35.10442333151063, 97.51993199723182, 81.99570395242543, 260.6708201715187, 70.10312314580042, 208.02688754389536, 161.508682115997, 75.27757856742579, 204.94928484192616, 244.98347584300018, 935.9812789868723, 159.78391398665389, 318.5923641668558, 1322.2623876550429, 317.085155490429, 198.50883916539183, 157.4005327666709, 172.98307754820314, 439.4644444575203, 148.29861748254606, 366.2829812104289, 631.5767265325183, 1115.774656835299, 305.21537187247526, 362.9697305613366, 383.8422536967986, 742.6239470208385, 495.7603516684849, 392.88248508343906, 243.5677046824756, 455.83499369984406, 232.13261352255392, 587.9138734278666, 422.10027183990434, 316.68653340886056, 669.5057757348128, 498.34650881763156, 386.49763753890204, 388.3845269070893, 542.1344532771125, 311.5260885743492, 274.72122684895004, 291.23863405258976, 282.99570013506127, 260.38549105563095, 288.02504780821874, 305.08320859162006, 294.765588355735, 69.08337796489447, 37.28397320209054, 27.655165294277715, 27.276311175414268, 26.80439940094795, 25.49606043632214, 24.871840603047037, 24.381458317132612, 23.78858129825857, 23.718883857964343, 22.959106309826247, 22.635362270210177, 22.487341005068046, 22.362352953095506, 21.69088812327172, 21.46046913163264, 88.93915903711166, 20.090967141914675, 19.81778410491363, 19.407442405077145, 19.322125503234684, 19.2218431441221, 18.518476871243035, 18.60277359453709, 18.403334649301062, 18.235884007063497, 18.04754780633002, 17.99327226379168, 17.488086318540518, 17.39299511838541, 79.18677668032325, 18.28441146512628, 30.061061391594883, 71.37203187340792, 37.33591204184356, 23.720455852622397, 38.524595473754, 21.644007597857186, 23.091264564951995, 44.64377968931981, 54.20642246119464, 84.30014319142751, 27.217711370214175, 50.52972281666105, 93.67048486163284, 197.41954352630466, 316.8558621827066, 131.18365250047717, 50.20340874460836, 52.779766628860216, 207.59952886771762, 114.6889969772454, 40.28624455991517, 114.7907627679367, 67.34982381251365, 332.49016145299913, 139.6088353630154, 135.1092859296376, 97.02845620248533, 282.2512150696747, 57.215904897439856, 137.74850656885022, 155.33205196495229, 131.36036990645738, 144.1981332584743, 436.20488489307036, 820.9586537235227, 346.8056883466667, 494.1460124094855, 338.40353188475353, 497.85083764424996, 276.3083871952272, 237.66485491220934, 158.2504779305602, 490.57563955422853, 355.5434307537837, 355.4303152638494, 345.694044574954, 513.2995087002731, 357.43175910610535, 438.5895752422971, 523.7037902588986, 246.67131132709363, 357.738950365568, 244.90266575766563, 220.78956889911916, 203.55071100775785, 254.77796685601538, 274.81597668276476, 338.40195137441475, 340.6336047225644, 298.0204572226834, 240.22841543149843, 229.49530597187626, 296.8310776221077, 81.96351329610613, 66.94883668708229, 35.67803960643283, 20.888843135614312, 20.83113566487893, 20.12913518334977, 19.672566278125995, 19.32622674002701, 19.2925986455697, 18.793746393487105, 49.71167816302503, 18.511921083073226, 17.84913996063865, 17.601556805084083, 16.858843645333618, 16.63043211852543, 16.020526490243885, 15.976115242557551, 15.671868045382576, 15.643622845451834, 15.484282853219714, 27.37646389661412, 15.14071684757914, 15.070969688704722, 15.457360487779663, 16.124155891968215, 14.75981786377045, 14.407176708384064, 14.283357505781499, 34.33121413890302, 60.87053533014229, 28.29052042982251, 301.0531612046688, 887.2614503347515, 45.44942019169532, 21.58805587763206, 625.3106705073625, 62.9751618477114, 796.4673443460965, 506.291633316914, 103.53977731974597, 31.10019563107057, 939.7101014731256, 430.5158346286057, 59.35978257082194, 284.9559260995792, 417.40197962614343, 71.17866153496837, 68.97824159468662, 33.28290411194233, 295.86575572742, 38.780080172861304, 329.4821940870215, 562.3741076440979, 268.5390638731585, 481.71315379548815, 162.12511764577815, 190.29087173613127, 323.64798252915887, 442.3991441566807, 394.9189457089241, 290.1150942697045, 351.91918452402064, 217.66043731923187, 147.611419611103, 533.1705693744976, 747.0622101871486, 408.84332255655715, 257.4638010059089, 307.8686065565822, 332.8860019305953, 303.57044894087625, 445.9876058038144, 505.22326293111354, 590.5085178184042, 321.3483089594776, 423.1558739776977, 404.88408839728277, 382.8171632768971, 328.6528305324464, 985.3671488081067, 591.3439925773173, 240.36718915214948, 196.39350028272108, 165.0294618380334, 164.90634094820595, 148.82126986683272, 159.19972121113082, 122.1585974219402, 105.87449816289933, 86.83691991219385, 70.38123728541471, 69.59538363355021, 55.96362878467836, 51.84321549620062, 55.24130941089453, 43.98533692194447, 206.7110674027275, 60.42444300536781, 34.29669153287456, 33.8017589583391, 33.355681800724525, 33.341941119526815, 32.173766948963575, 32.24087727663993, 38.208039945713836, 50.34892022349769, 29.880364709412476, 28.86487323559839, 28.21278637929975, 53.96300266010859, 121.62044764837277, 393.9203219596223, 138.10754711972587, 62.40029874210788, 80.05669332631658, 320.9186140144382, 210.3167244959128, 116.26420766674228, 101.23679437481601, 203.76155144353407, 136.01861023716805, 489.74305035150934, 418.7033325742753, 184.45256504029507, 209.2849214841218, 149.25349059377373, 1006.6964387468082, 199.21235335992446, 375.2106010531941, 148.05940681685541, 465.4969223582673, 273.95902729793664, 375.22188358104967, 376.11332512319075, 202.26427714484768, 180.01704512611545, 399.19328323942494, 589.5916186180353, 567.6038481875145, 309.5519180137309, 239.4178728720885, 252.7332295747912, 251.0571284280101, 309.3456402636291, 210.92561547545134, 283.5155477063743, 237.12583830397563, 227.0549028565954, 235.38910880016516, 225.04378617426792, 528.3868414454943, 440.661106799171, 302.6177113182713, 121.22619383145533, 98.73373295388089, 50.970405487860674, 43.324210807865406, 34.91802119639203, 30.477571064243556, 29.97971337312349, 28.728165829614106, 28.624197480564398, 28.420964474976888, 31.368687893971206, 26.67376647469769, 24.957335799030393, 23.74566156350063, 23.136044747189768, 21.202262377246292, 21.203872897206683, 21.1666665372144, 20.96045604859993, 20.989139439539077, 20.337098056785823, 23.38556726267849, 19.22847578749277, 19.04840504250761, 18.646129732136895, 18.634021910052834, 976.5758534302543, 137.84522541424252, 100.5697683311812, 103.5448279670457, 64.70467006424502, 125.75946958476122, 33.119798026857396, 34.471155185454506, 69.70912489541409, 81.6492032577789, 83.09071300062374, 70.62995871064905, 151.32679362436556, 239.64069381357638, 87.20255008270698, 136.1811107593679, 843.051047221963, 69.08071157582262, 319.2905689745929, 138.30457371598837, 114.70965864745688, 79.07091606871532, 307.46829299284684, 59.88334566153974, 95.42430014741228, 469.268325319775, 1457.604031099889, 298.26510606880163, 471.1442979387395, 185.50723930135567, 230.97406272661817, 162.38918427523575, 502.48807300693403, 435.1686065752417, 404.39801830096485, 150.27556553710136, 486.2537882493154, 325.34902235269334, 341.37621068349625, 368.2437997342965, 263.8606245830305, 249.68902315917938, 274.7377780383054, 279.66013592948985, 212.04223923579903, 176.56146765838957, 199.43903460755095, 185.54351710069025, 180.21575875974125, 186.50809982297775, 189.47664431193257, 185.90393259216614, 1373.5634780303867, 110.79550820036131, 107.47143307173974, 84.35206389380588, 70.40514934411466, 52.613853725491865, 50.08158087386931, 47.00122544740498, 1101.5642612825602, 98.39950813329543, 113.64738605646228, 39.47373543121774, 75.89278000954886, 34.024240425125306, 33.8702143820229, 33.70091036275009, 32.20957474839581, 28.09724593604923, 27.215512875658497, 26.45709825674417, 25.9750575669833, 24.671389321711384, 24.667826942138717, 24.65194788334693, 24.608322519880417, 24.135910181100776, 24.02342777036785, 23.79539963334067, 23.56444880099845, 23.26518410155686, 32.11215800483398, 182.45465927021039, 45.23036987054398, 653.4985259291176, 91.11578193542114, 48.746714234739244, 42.53956837067802, 323.8409715743582, 53.90145541831027, 113.87927159985337, 86.23362896339266, 163.23429799100197, 304.10466082521503, 275.95372277042077, 395.6198759488513, 57.13800960854517, 83.87834461391367, 98.02749865036647, 113.45226029980711, 120.47866247601057, 286.54272510006956, 186.78656797576787, 97.28431789146684, 624.7829231394584, 248.01584368957325, 534.6186329356265, 177.4712872934508, 587.5534758099818, 277.01211346178735, 270.5626403117331, 212.5836444271044, 403.87242049846543, 408.14414373861104, 215.29036910191783, 338.1837955343281, 190.57243999320409, 415.3795020862812, 335.41826402396833, 182.393668684957, 261.02413188158084, 190.19054849139863, 240.2868476177129, 195.12692573330023, 196.30167278532198, 190.46998022159394, 192.0412432810353, 191.63579375208676, 147.1873766035517, 74.53325593548222, 57.98225831718753, 56.78708233408514, 43.141556167152885, 41.27787636321545, 39.289428183327914, 34.0587845190726, 33.172371547262856, 31.816821644097942, 30.997048615271932, 32.60855312604551, 28.621652856514917, 27.24607366046143, 27.228465490889057, 163.28542016463024, 26.573253690743396, 24.74615378542369, 24.64412840044718, 149.76975424829425, 23.276456775668116, 22.487526227401762, 22.38671543034164, 21.399535950312917, 33.805559714582095, 85.79891988113178, 20.642473236383154, 20.14396206665676, 20.24053321374134, 19.677328125869614, 29.298303139949383, 37.44615345638578, 42.82401322862378, 33.16419555876934, 371.09277499234423, 67.11841815014502, 67.48521564837733, 405.97206800342315, 142.34191970120867, 239.32029865390672, 237.7160655655983, 117.94668116716366, 462.4659904191614, 38.68114376559594, 79.14540995933571, 59.21811024567097, 142.36490695185162, 210.9510465610197, 79.60771030412063, 84.18810520261127, 98.54956451299198, 184.44287062504495, 161.9929268345742, 98.59203885374095, 88.85940227651929, 119.89074119153011, 168.6949182744825, 225.8845781221048, 217.4670785515417, 366.81497756162366, 238.15352121258417, 127.41551730146261, 292.64734882529854, 169.73187841196386, 329.0450243613318, 137.6806184845396, 143.21163443781876, 146.38855622284797, 174.9019376256981, 210.134371066902, 195.1912409060622, 211.52777853464752, 216.09282533655053, 272.2668803206424, 214.39728744699613, 192.77273734191917, 165.66884696658246, 187.70967996840335, 184.27275852827378, 180.51873972219877, 166.60051239735878, 164.29560300033506, 78.94378784201821, 81.21109162701285, 73.26076643538919, 76.40508202526985, 63.46018685272159, 60.14177438966207, 49.54940738478801, 40.43221771697544, 38.541774452286134, 31.62752620650665, 36.13617920836198, 29.2675633478961, 27.969975804000615, 28.485211345914585, 25.08459230664421, 25.120275958132574, 24.986573284039185, 24.84593968258926, 24.472144718854977, 23.732154220175886, 23.662252845341396, 23.567784042846313, 24.918486413094104, 22.216260370838047, 52.24894032127136, 21.542640126924447, 21.597684057411815, 52.93178588495956, 20.998704385991232, 22.43013307927693, 78.61832791939071, 55.066019684716984, 26.415471221900177, 158.07602623798257, 106.65029290626592, 115.24316257519189, 37.92174892325349, 96.02121562270291, 50.87902808484698, 82.44970063198708, 40.322301756369164, 530.2052181016614, 99.61633037887735, 34.56644473111607, 60.28604177390105, 355.07743931302934, 71.4773908377008, 49.82552712665421, 158.63118802797896, 223.26555467256995, 208.86089589599976, 380.49180098903844, 117.68069070006457, 120.07323822852078, 80.51832359205571, 217.85548717602114, 200.71856754281487, 71.17960209938684, 275.3812578832459, 299.35190476463384, 206.78752915171165, 432.7035965056894, 113.66823049930485, 104.5444560923778, 304.8983465535027, 345.40300117574753, 253.90011033813155, 224.8574666848537, 187.62098186797257, 165.67379332389345, 181.71935571776152, 126.76630322519114, 182.12389458489574, 126.8707804491394, 156.11025002431614, 120.42671313619876, 131.680495458825, 151.72469917383185, 129.61153127397384, 124.39173838528106, 127.40203853789791, 99.36378825978822, 65.75618743528425, 67.48921887534118, 52.82072101860698, 47.27847345394062, 41.06544682392747, 36.15677074744202, 34.73652812542553, 31.714807412585618, 31.649806874314063, 42.098499563792835, 80.93255791782994, 27.857550679160077, 27.706395484016216, 27.636937739138954, 26.54097451046414, 26.103846536389735, 25.866447446306648, 24.418867446999826, 23.312237920957713, 23.134045939906834, 23.172772912580566, 87.03205493975753, 22.047736861050815, 21.73602359655379, 21.01555536652302, 20.359021514701116, 20.0451500980067, 20.46603439553122, 18.741963161904255, 32.89910693403195, 114.81708794769301, 50.69044397527899, 36.3851614895064, 53.221254340133044, 156.97095268690006, 44.54726257122316, 203.23770599570992, 69.98969769092267, 97.65075554020243, 98.64551575587775, 40.42672301156694, 132.10821274666273, 112.56831684171442, 55.31026582262041, 65.13487443945414, 640.3429854206755, 207.54495507506766, 67.1320082869353, 67.21350612573643, 130.92871094549852, 387.978446071323, 111.33761117709875, 175.94699551763495, 468.56789771206104, 350.47433550579893, 117.0204227873875, 316.91507353312426, 175.7833986572661, 290.4631445232266, 513.548580180841, 248.20704113976976, 115.87657863906895, 153.65635968353448, 197.52543642985637, 259.60931772215014, 241.63074042954045, 292.4880408030011, 207.32039452477034, 217.7414468972053, 316.95347408234267, 246.1940557935591, 248.58813465292803, 217.09235737886078, 184.94504828145958, 200.93250825099477, 156.89237622060554, 164.55905338684636, 146.73323287784473, 142.47673677486347, 70.00508934568462, 40.54095272628196, 37.89801125464158, 33.39854267086756, 31.777798595105537, 31.54535321440512, 31.52075934658265, 31.173091168874315, 29.831996795295638, 27.513394995642123, 26.766220894856986, 26.495636892310333, 26.185667617270806, 29.906697598958406, 25.160630758193555, 24.929984016043353, 24.74366470926847, 23.986236731494863, 22.82040787302878, 22.2448178087112, 21.792910457703385, 21.748938539960882, 21.743154361632307, 21.658473336001062, 21.464564195552004, 20.61050792853925, 20.328865456466716, 18.672422264720442, 18.829080407939394, 19.45696313985953, 57.85505906261851, 71.49613497556062, 36.771413299169915, 39.93065993092472, 37.76466407515564, 68.98051091723916, 63.671285434646165, 60.0579398727918, 31.15381369302146, 29.94064017716475, 32.350137544228325, 318.8603968070594, 77.93149530512991, 32.84565661748224, 569.3761213052999, 99.78361114335543, 56.94480762030355, 59.40653801220891, 100.43042869762048, 46.51367234683703, 127.74011442859327, 137.01267854895303, 47.12202382880457, 201.25202034860567, 59.88429757634481, 56.26776638938591, 347.3380328076362, 61.51839227479164, 652.9539382990185, 99.96694597316014, 326.67617129261, 217.62950144770895, 115.87536833440421, 93.77899317098269, 437.9848127205485, 179.11513488649797, 122.45984492162007, 323.8216640844015, 112.20274956300568, 224.9958080881137, 274.9962196187518, 165.81222641031363, 197.0033413875988, 173.28960424379054, 258.27452260526934, 287.1107262057183, 137.9251800436546, 207.81768256846405, 166.73475724455136, 219.30305392553427, 171.70698943414757, 169.13624143128592, 201.84073883708754, 190.02247199552502, 149.35755120625433, 168.01847528227145, 139.99785719867418, 132.47913640679215, 134.48398453976213, 57.526648555211345, 51.248674778341424, 41.540513281409424, 30.599984449405483, 28.311699112663838, 28.001668113513688, 25.894794924555708, 23.30473787099215, 20.982412427396042, 20.683038347631587, 18.072948911929803, 18.0266138399757, 17.808351889786763, 17.618646498810023, 17.53241307081716, 17.28284146730662, 16.66879280614004, 16.407180944016133, 16.10200295245112, 15.915591765363521, 16.820065818410132, 15.623080044353701, 15.221675074303269, 14.952989164033914, 14.861297093032995, 14.414295133824238, 14.14733896360389, 22.304474934616508, 73.1110449104586, 36.10550024310775, 27.00726229429352, 220.94648863252965, 21.584783079174173, 28.611283749790275, 65.08159160297181, 22.762303617535146, 31.340487522819632, 25.213870528353073, 202.3525076041628, 29.673412061609756, 308.31647356858906, 964.0771911370397, 59.79234991683671, 29.24563421595612, 117.96512883019686, 32.97247914659574, 30.966653114872308, 28.867957702166954, 71.49932565893224, 32.79828934273397, 52.06191523206241, 47.25108704105219, 268.9993373549881, 210.41923635689415, 79.30231433534325, 101.12495931183234, 61.34503160093129, 102.74602459336171, 249.86346771105926, 90.65782229507278, 295.56276510673325, 68.93333780230714, 190.52880157745122, 171.77570257703707, 144.3506741000437, 507.1579348975717, 203.02236075842873, 285.50955216683167, 338.8789697513303, 109.78715334049173, 186.15368222606278, 99.78091506883203, 316.53942229956834, 175.7896594511775, 212.62143995750586, 171.24046123475242, 114.5872815950208, 129.8343695844812, 140.71109274363033, 136.48878822777556, 147.60607204096524, 133.53827734701025, 133.33011988613902, 118.72693895020943, 114.4892569547567, 47.27714937577739, 47.88373135496286, 43.55580650180411, 39.2056603813766, 38.55016852255521, 36.9535256182155, 36.949289189563544, 36.3945190880476, 35.33571389271869, 31.877362647733815, 28.85720644477129, 27.089911845813013, 26.277423447619142, 26.238931452278287, 25.9276050144196, 23.763254026512087, 23.651044175996347, 23.18787241180111, 22.324797769384194, 22.087500035762904, 20.859253236808765, 95.2146842627603, 19.773759429112687, 19.157856418752733, 19.08494233043949, 28.891624097042783, 18.023538214912918, 17.955828628046316, 17.595496835482507, 17.554135037189525, 42.57299058015686, 35.98303930259778, 35.554258546468674, 50.3477119745768, 48.4480378616466, 36.89531913126, 68.62775506464862, 53.579942730088156, 38.13967901340453, 50.079906625820335, 90.0749726421488, 116.61313406305312, 39.815990312115794, 65.75104682263391, 116.12359119660458, 84.82955457747939, 880.1761190492733, 545.2521696638565, 67.0558357625309, 102.974054154193, 71.98650138860263, 255.21287099687842, 416.2043359439478, 58.13358840964004, 467.8103960084822, 156.3446089557726, 262.81869033283164, 174.65587461382339, 87.9113388274355, 115.31967335113427, 284.33107963663804, 143.41946941088804, 333.31030525770814, 228.4921967692702, 147.81293012782626, 159.11457607042135, 189.7515754668144, 120.14285181209002, 198.29670961846665, 166.30552736614337, 133.91874971546466, 201.75200122053621, 160.0410128535306, 156.76622686136125, 112.81021551367473, 169.71710470862186, 153.86842084940372, 158.10953888150536, 154.56017547171766, 136.55092188140242, 129.14569788618954, 126.30230822297528, 121.48825984305563, 85.9035681468815, 60.709864682801914, 60.65273359829861, 39.546412272986444, 34.51052047940139, 34.35935089327105, 32.064402221713806, 32.03400154974699, 29.110813702556467, 28.276988275890766, 26.748892106524078, 26.561696462073456, 26.408135207453, 27.046528629582337, 25.68284104865413, 25.554731615629954, 25.617295677170482, 23.56551307191756, 23.526511910406303, 23.055200117969093, 22.76477584089398, 22.745183193314983, 22.597193533196137, 32.483846255459845, 22.559791644818834, 22.66193202690198, 22.17084552215642, 21.62675542307863, 20.897493080746862, 20.270075265313043, 31.662701223409943, 92.10078671255617, 42.30125024413152, 28.709656829523283, 29.574056717215637, 30.751117605972443, 113.18573612134341, 24.446298785251482, 55.44650163014953, 54.59308148698745, 41.981374928166545, 39.993662556306056, 37.814860837487686, 137.0752933777446, 42.607934142888084, 33.33267960879271, 128.02288607237452, 35.09937781272568, 52.24320099010076, 174.3660891674657, 44.97849553789512, 75.3814598651666, 568.8957398469289, 501.634441391831, 211.80533391696378, 112.14559204689311, 275.7205640193587, 201.3326562092676, 161.22338254982384, 164.48288739939014, 73.78265016870357, 165.20877947531153, 155.68808513471234, 198.52804836165367, 172.8271953182981, 102.96117126140473, 121.52300144549328, 117.9808080009319, 137.29188420031585, 177.34215233611096, 141.84841818177682, 129.65817492006383, 168.55418577445332, 138.14707533675434, 158.37307645514286, 129.56135786239682, 120.02816726082855, 124.60069811146383, 112.95928897637866, 112.97778509774679, 276.87936712864, 104.10160479600758, 47.83976063067157, 37.85116132328267, 36.633467235946654, 35.161540169029976, 34.66530624755184, 34.521465750868536, 34.49526259714489, 31.858416232188734, 30.782453131690115, 26.973721407068407, 26.691117274735763, 26.413745974590192, 26.012328866731277, 24.342246298697724, 24.024139232636827, 22.917172966177382, 21.931868098428005, 21.53135172397834, 21.32805502372685, 26.782091349070065, 20.582234113391515, 20.4962296699234, 20.477228484194928, 20.125314670695925, 20.137614945758614, 19.90600948121639, 19.82404079133518, 19.478480852686282, 46.35067673691202, 162.9693759948337, 34.33787210653455, 98.58731486457586, 121.33117658468848, 30.19587291976897, 118.75248211453258, 191.74059475455633, 51.22715773118133, 84.85072484850724, 35.28823163742806, 226.81024061944862, 55.71146095877448, 41.192523537949945, 79.35937047514138, 82.64794425303621, 139.14826051293042, 51.20155506639718, 80.31275974568419, 74.00685382372258, 201.9357271636239, 263.14336200439556, 67.28395122534508, 61.62754817775084, 85.72547346364847, 603.1187379188251, 393.5599518408397, 349.35407732250627, 267.34800115589235, 71.0831745585449, 360.5373025836852, 175.56258048019006, 95.50629969869144, 271.4680103597078, 205.0028998896692, 136.381067105675, 102.42004080146519, 176.7488190852212, 217.0930506148774, 182.68403616612736, 140.48157991535086, 215.78463980560971, 191.33285496607795, 228.84463475801456, 159.2517567689447, 153.6705006229222, 118.45026460969548, 148.88720849336147, 126.1334426050259, 130.93558384844084, 82.60832768848852, 69.66230066676945, 62.769831946427956, 61.238833863459305, 94.76056714137773, 76.62969555516062, 57.49723026616971, 49.62062151371153, 52.05043886338705, 47.94042775262463, 43.833580539407585, 39.17907310791846, 38.41648425521408, 37.5476473949631, 34.82801255291815, 34.57321060118941, 33.789369908368954, 32.14654222501423, 32.16439884488704, 31.840558260871116, 31.789704577447303, 31.497435810682465, 31.089279968790304, 166.86453858058408, 30.2974287948025, 29.762789805815025, 26.920016668266065, 26.803831112238232, 25.86708425060511, 24.751879389570334, 50.441429066059726, 62.68938388171891, 49.0216748147099, 34.79987326602289, 169.05028436690407, 62.03177449273396, 122.3842208189925, 46.136304721647384, 47.613341188815696, 95.53407293301815, 78.32379852621114, 55.537897166929014, 307.4305219793301, 45.56746355247311, 163.345493535746, 66.61433310315596, 135.3408812227921, 62.758482210186195, 149.7624485761657, 57.56764564161048, 67.83858982669646, 82.4999716595821, 82.7756933914251, 132.69054991483355, 133.96618266337376, 196.74338708804422, 191.50021189356465, 162.53966972460321, 194.87500111918789, 177.30663917604306, 171.16790188768343, 169.22440320021462, 111.61185856914543, 111.91035439369708, 141.4607992903748, 149.85184360586743, 123.74547281384304, 98.61735078716158, 137.19083599604215, 180.7346326221816, 103.6364563696308, 134.75448564565679, 127.26525659890987, 123.40780883312239, 115.712090699405, 120.79895890831173, 111.5483343714951, 107.36985547316772, 109.38101978078139, 128.27972046640275, 122.05756951595151, 80.36773788289585, 75.59755969412387, 60.97865624255754, 53.254139232299515, 49.96255550010172, 41.11559148739332, 37.88541527852128, 36.69545604028133, 36.6024253708855, 34.57334030665579, 33.81472313443578, 33.95570153943595, 32.51669577543583, 31.818062919479228, 31.49074736036524, 30.39424170834844, 30.223532250388214, 29.393966183464524, 29.9851800040526, 26.620689088363786, 28.583457116533292, 23.850315409220986, 23.646765540235553, 23.032217743392717, 22.456258348888916, 22.305231072318048, 21.995291878500154, 21.46376081608992, 46.58637736982857, 49.94758792195249, 89.24214368139037, 55.7294714225587, 101.80005942979713, 111.57934542708442, 28.546681740245262, 41.41764971807269, 99.30904989662636, 71.20081338633106, 108.07855025672166, 94.1899542927088, 81.62583086078463, 54.510801648050695, 66.90445650072932, 82.14925479149217, 134.6365060694445, 50.027802372711946, 233.65379484075214, 219.25249864575733, 199.11013961783604, 173.28463161956665, 168.73066322306724, 82.8260835268476, 215.16462136833246, 252.18511289439792, 169.4673475608691, 193.26098659892378, 186.49846562437145, 158.39095726652667, 150.3316335530048, 113.15875957775224, 121.19908513188372, 114.11824385525748, 134.60687982630685, 115.34234903038086, 123.08018240439277, 110.40651983665707, 105.22472957124369, 103.53410668268086, 99.17517281678741, 100.00160378288254, 76.67360302364403, 66.25987883009493, 57.29903121258406, 55.022206407770845, 53.992553850367464, 49.209450712624395, 174.46447006242664, 44.25000393459981, 40.6329559749942, 38.392600462456315, 36.426572437884374, 36.190602689500004, 34.667232457838004, 34.524471585812385, 34.199209873637926, 31.250015253109826, 29.1998364368819, 28.482070286635082, 27.733381709299525, 27.029708904871452, 26.829258839803288, 25.452657942937673, 25.137840134211622, 24.185359011879928, 23.331989061289992, 23.182092658805892, 22.735561035775344, 22.66536357198194, 22.574342924963794, 22.48417674649866, 201.65004049373528, 27.222842134178926, 140.7156764125519, 55.67818694220625, 51.448140370504305, 70.8299715740609, 171.8457609008992, 333.63122447083725, 157.5185635541323, 107.56432861102697, 617.6369258967917, 43.12691631798541, 59.39561700577113, 39.4394177852041, 47.331957118797646, 106.83804470178003, 102.14275436377731, 105.41539764345771, 214.53934677597775, 51.76117025763624, 200.71862668850062, 57.590103412025904, 553.449363080815, 82.45713445819577, 92.7911776640742, 312.9830995933441, 138.2037255572953, 248.1708125589931, 206.8362768685053, 221.82112778477364, 158.33468872838196, 166.319374237949, 101.24637376921626, 182.47848035830052, 203.96135638841747, 169.44981671742846, 147.62832700644518, 120.50680581457263, 115.53642686535505, 114.37209498513964, 114.71207294352759, 114.4849207361777, 104.19345016938185, 557.1344802634984, 435.9880055729926, 209.0640036374265, 102.14233248102865, 75.52791258169012, 69.29092651347734, 63.08292250896881, 54.327804558329575, 54.152073813581886, 54.858078138845855, 50.97520928764449, 48.30566666467192, 43.98663237806018, 43.15443908897686, 40.58770201561922, 40.260184501627684, 39.1455483978218, 37.87284793456799, 36.25936101873821, 51.62773049414817, 67.55620864184297, 96.15707673547513, 33.093460514737934, 30.939094616416497, 29.744747392182383, 27.476516174260848, 27.195889090703798, 27.077770816897225, 26.832184037174795, 26.654165784515804, 53.71864851321899, 195.60043538443801, 328.53226224988174, 46.261055883379356, 41.07429359574708, 78.18210418125183, 66.21248401742835, 840.1485522128856, 54.51862171370081, 66.42223143233346, 124.62976778763596, 441.5108643997206, 148.26243331070762, 133.63065530972568, 95.3372715029343, 185.201417456165, 181.9208038271211, 98.10594295047714, 245.95195929590056, 107.99305351472111, 154.61712332481, 135.03814465238625, 140.54580913432744, 333.8916182280333, 279.3893781349149, 278.053947032334, 319.3923415985468, 105.93860679758467, 142.03307226886585, 142.35876882907107, 151.1313651506612, 116.30642130743897, 114.79888047719976, 140.2588156760127, 124.61840336477067, 137.2571874867204, 130.5798927039276, 121.83587456336636, 120.12753440852958, 127.05172684886611, 122.78364793254646, 42.52352373274577, 36.318391508908526, 35.80658866577301, 32.72734134596454, 31.27792805201427, 29.780825445376433, 29.660610690467013, 29.52517600042063, 28.736880864319183, 30.007275730984535, 27.388805990391894, 26.847508189277264, 26.334089409173824, 25.512070490214462, 24.206631702354677, 23.571864272588044, 23.054424822198282, 22.76209086919416, 22.425291260809686, 22.311130791777583, 20.740435950631436, 20.23578294385998, 19.521305999554734, 19.46915231863372, 19.133935780702576, 18.978200540136992, 18.926008514948943, 18.094195374638172, 17.742578445920607, 17.656718784837086, 23.286867768968825, 68.72958985091597, 66.54495810307036, 28.481398490812605, 33.82497885637667, 41.72769942592424, 22.97544110985713, 25.105563743235262, 144.43441818481463, 41.61329656634695, 28.066094473424926, 172.74629119330987, 38.69546491637778, 33.10160878099535, 28.218430768605412, 84.20029101654171, 37.20695964218459, 66.37885621602403, 34.60041222976385, 34.31660165954652, 247.74292282606848, 252.3577101413419, 54.647575615760786, 45.242567746896896, 42.79706351714996, 101.49010994337128, 68.3952935753937, 97.07326669004114, 59.21786167026302, 81.18696296952008, 223.16593480392066, 130.20207798962213, 75.97266303914317, 56.08982400952781, 124.97974219642501, 116.40808945518197, 59.12416471488502, 83.73997904628274, 84.01861040157404, 77.7614450073693, 80.98151438674269, 93.49738990133844, 113.18402679428443, 106.34791226761222, 84.55178743470574, 78.19452159252805, 69.71646172936677, 71.28554748073553, 68.21135612642333, 68.63966706696478], \"Total\": [1377.0, 1123.0, 1525.0, 4276.0, 986.0, 1026.0, 2212.0, 1117.0, 8078.0, 5481.0, 1763.0, 8705.0, 900.0, 2728.0, 1508.0, 2240.0, 1185.0, 558.0, 1300.0, 3472.0, 863.0, 1901.0, 592.0, 2210.0, 3640.0, 2563.0, 1606.0, 1162.0, 529.0, 2109.0, 900.4625448681742, 267.3525315279208, 214.25967162012037, 65.99367377769302, 50.22497685164562, 43.75766850850927, 39.4389136793187, 39.065244871828774, 34.08603336044728, 34.30000352953674, 32.15105419220545, 30.845762497700143, 29.637021281480973, 26.37335111197124, 26.226728363254228, 24.80687978215076, 24.59874593239481, 22.751402926667428, 22.271614568961024, 22.222002931180263, 21.27595274509097, 20.02080188919108, 19.996679092629474, 19.03249020541835, 17.00177624169962, 16.34673212544369, 592.3153221934493, 15.671137276355534, 17.229229405667844, 15.351105880557542, 193.6603585173307, 75.52013528063725, 865.5642107724248, 31.17206368860417, 145.04531111653174, 58.22519229605707, 163.65345989394527, 434.87754039203963, 129.82225620220197, 227.24901831101081, 284.672966842471, 4276.63054885675, 76.5017371216613, 752.8452407920151, 120.96322660367913, 103.37506012893915, 2563.831877593959, 902.3190145367315, 2550.1875328843776, 165.5900303556739, 181.3287314612795, 3472.4991818378962, 826.6654956911487, 5040.683444233653, 338.7337713233234, 739.0346166582157, 784.3184581380398, 562.7739033557057, 3640.934096885816, 443.94185100739867, 553.7928207254982, 449.8564867290791, 2903.0597717083474, 572.4855107608444, 9393.122168986269, 8705.048698155986, 3532.920475464188, 1936.7552137951666, 5481.256875621239, 2414.167060320358, 4034.7066432422357, 1051.7844481152306, 8078.892810888763, 1239.5102919387512, 1542.9232515967055, 5306.025634793595, 4406.403399500013, 2746.2903170138075, 5777.114441653825, 4856.519845369429, 2369.9443982978064, 2883.4987168769867, 2152.4838426509577, 3018.5229207569746, 100.61432679868956, 74.03843193049562, 65.97299230139441, 40.21925219890104, 34.81472011951292, 27.578290258566597, 28.894876801117793, 114.18453833703566, 25.710950228028572, 24.927889331717296, 24.50285061758133, 24.216770436552665, 23.946737302718624, 46.09110680634786, 22.932718623777898, 22.764093418227386, 21.682135720687743, 43.54710049101413, 21.221796428460447, 20.36062171057743, 20.325030802387563, 20.045077095311946, 19.351106581077122, 18.27785514082031, 36.0218160363326, 17.661882791683112, 17.41646078143363, 17.0985125185398, 16.643291823306015, 16.30147175239143, 37.190372103491875, 24.6962609903481, 103.39290229172816, 27.42361693765266, 142.13404286517277, 190.22313764812267, 77.62936491204194, 46.07539824331354, 54.054812626562565, 81.92401053098177, 63.267040517261826, 39.73001139639082, 131.9172875904665, 107.84913634621687, 427.4737862413323, 91.11730570949557, 337.7420835384775, 249.85250401690973, 99.74070391470555, 347.25026298613903, 477.9838356006698, 2728.7524436601298, 282.1843114330294, 706.3490579640638, 4856.519845369429, 718.4760694111511, 405.7788233565781, 295.7570395078779, 343.9443073298115, 1353.8465230099052, 295.9968184904292, 1185.6548900855355, 2883.6543056119826, 8078.892810888763, 979.2151750595636, 1471.574530601902, 1652.484995474177, 5481.256875621239, 2670.100008052429, 2033.6211317143525, 807.239768384444, 2903.0597717083474, 747.4256371209591, 5777.114441653825, 2857.469339008195, 1510.615715403222, 9393.122168986269, 5306.025634793595, 2883.4987168769867, 3018.5229207569746, 8705.048698155986, 2152.4838426509577, 1513.7774769846787, 2210.9638159222573, 1973.0246504148167, 1269.9264112258559, 2746.2903170138075, 4406.403399500013, 3472.4991818378962, 70.02978824111229, 38.226635690199025, 28.597781498413934, 28.220468782898177, 27.769503460322284, 26.438788334896973, 25.814461327761023, 25.324075717735713, 24.73119789998738, 24.66286794183064, 23.901748217414426, 23.577989775831323, 23.429957181805587, 23.31294648267772, 22.63350433492022, 22.40361614354122, 92.91621634788814, 21.03358335553993, 20.760400488962258, 20.351221479212693, 20.264741666962355, 20.164690857717485, 19.461093112563127, 19.553934717120427, 19.345950924408022, 19.178508029922895, 18.990169298199035, 18.93590469631375, 18.430702526465353, 18.33642968402614, 88.18075633698346, 19.32775466870988, 33.04826061650635, 85.82119871637107, 42.1541549486409, 25.624893469067217, 44.29299211411214, 23.186380930418277, 25.17406093380684, 54.82229289261417, 69.1131917071883, 119.35671686671755, 30.64507323643378, 65.81181248215479, 144.0389254000086, 373.8780789739052, 739.3466548020955, 236.27953276656905, 69.52256556864437, 74.44302963400368, 474.0318747328092, 215.96073114912915, 52.30611091894862, 225.06179393213077, 106.80821124475929, 1088.52207594388, 310.4368005532581, 297.59476730240834, 186.2044473979636, 950.166339764006, 91.0253108908007, 367.80917804541286, 457.71515587235626, 355.14834920901706, 414.0096524487907, 2746.2903170138075, 8705.048698155986, 1973.0246504148167, 3677.5448101191846, 2152.4838426509577, 4406.403399500013, 1539.094810204959, 1232.1594721265778, 559.6085356996076, 5306.025634793595, 2903.0597717083474, 3018.5229207569746, 2883.4987168769867, 8078.892810888763, 3532.920475464188, 5777.114441653825, 9393.122168986269, 1542.9232515967055, 4034.7066432422357, 1627.2399625950736, 1239.5102919387512, 1040.2765407754316, 2033.6211317143525, 2572.496104784746, 5040.683444233653, 5481.256875621239, 4856.519845369429, 2354.5402633491167, 1782.8736685975764, 298.56321044374926, 82.90647513350245, 67.89210436909762, 36.64004090575363, 21.83186878440054, 21.774324322134454, 21.072113974035684, 20.615528099820786, 20.269188544896213, 20.235560450438904, 19.736708205591217, 52.236202049183674, 19.454883148905598, 18.79210176550785, 18.544518653053007, 17.80180545020282, 17.573394018092728, 16.963488370584773, 16.919077249210186, 16.614829850251777, 16.586584650321033, 16.427244665753403, 29.07035604522547, 16.083690658346285, 16.01393169455725, 16.425604574294862, 17.143001235854534, 15.702785925680796, 15.350139573602291, 15.226319316000069, 36.670600763955, 65.76279100093359, 30.45849277535416, 361.3842632605294, 1117.3426404139532, 52.22576675575188, 23.47379318815527, 936.5672083318989, 75.59735081361974, 1300.324465718508, 788.1020266927044, 135.03071773452598, 35.750444762584834, 1763.27762258538, 722.0218138201283, 74.92234528171738, 466.6974110582821, 747.4256371209591, 93.88485734886977, 92.17560264908258, 38.74334203067719, 591.5484549282676, 48.018553220064405, 724.3905187436061, 1510.615715403222, 595.8714093891781, 1320.5677000029755, 321.20687810748467, 407.8636900150444, 845.5359076127232, 1331.8894158920614, 1162.1210924031861, 749.615490395537, 1185.1742703651178, 573.4169830046101, 314.8330701110324, 2728.7524436601298, 4856.519845369429, 1815.9663889406934, 965.2523108555821, 1471.574530601902, 1860.8849757124024, 1525.6828897765843, 3677.5448101191846, 5306.025634793595, 8705.048698155986, 1973.3691156278358, 5777.114441653825, 8078.892810888763, 9393.122168986269, 2883.6543056119826, 986.3660597669938, 592.287285008027, 241.3103800799397, 197.33711659337172, 165.97304537439666, 165.84953215181412, 149.76446074669758, 160.26129989799898, 123.10178782626595, 106.81768981447183, 87.7801102578196, 71.32454691833726, 70.53857430855808, 56.906938860017895, 52.786416729101994, 56.306559367547656, 44.928527279867765, 211.50369544557466, 61.98146603826041, 35.23997935122395, 34.74494937349649, 34.29887211241479, 34.291036353440134, 33.11703148779568, 33.1953822027714, 39.354774505919295, 51.875372444063316, 30.823557350623084, 29.8083129866018, 29.15597671309995, 56.00523172969553, 127.87795207355505, 425.73293319948215, 148.09409291294108, 65.67778604140288, 86.06608044142929, 372.47936463656595, 245.54892750044843, 129.90427526535356, 112.45317974793277, 247.81732826992058, 164.5123826712747, 735.6380157355683, 616.1807722477242, 247.1988333095675, 289.0960335449549, 194.32136312508422, 2240.379545965391, 306.0791394355222, 769.0487590301659, 205.4702125739153, 1223.8922457442018, 544.1643471924602, 981.5554474366584, 1042.8101733776812, 359.2022363539163, 326.1171249107818, 2670.100008052429, 9393.122168986269, 8705.048698155986, 2410.7549050221214, 1035.558037538558, 1318.7589253458952, 1605.3560318228322, 8078.892810888763, 755.0065150285546, 5777.114441653825, 4406.403399500013, 2572.496104784746, 4856.519845369429, 2360.299109906132, 529.3310183841172, 441.6051904626093, 303.56330120061, 122.17011915868946, 99.87062908033825, 51.91398171152771, 44.26778787661221, 35.86236851354432, 31.421152523641073, 30.92328944191014, 29.671741878997036, 29.567773396599137, 29.36454229228893, 32.435866293323315, 27.617346036113528, 25.90091182290589, 24.68948552620929, 24.079642090789388, 22.145838382326993, 22.147654871113286, 22.110242457289996, 21.90440533938244, 21.936930016741325, 21.280674035968218, 24.47319520559493, 20.1721990610998, 19.997136806422724, 19.589705661437595, 19.5776007097867, 1026.3829071840648, 145.63087141302046, 108.03790495522193, 111.41363861858203, 69.78075096818112, 138.6491637896622, 35.133644523873336, 36.676673218095814, 76.82900208814402, 91.90635981028377, 94.00187819436792, 79.22188698821206, 184.2492187260718, 315.75957109082077, 108.34954440894803, 187.4680680907776, 1787.0708440876786, 86.51428655661762, 566.666516057405, 202.07475804061133, 167.36532712161085, 105.68804080829098, 658.5735179210535, 77.45645387180886, 150.0477133815387, 1575.0184862639296, 8705.048698155986, 937.566477499222, 2670.100008052429, 544.1643471924602, 950.166339764006, 468.25527066625085, 5481.256875621239, 4034.7066432422357, 3677.5448101191846, 410.20292103073433, 9393.122168986269, 3532.920475464188, 4406.403399500013, 5777.114441653825, 2369.9443982978064, 2883.4987168769867, 4856.519845369429, 5306.025634793595, 1627.2399625950736, 808.8588886538403, 1689.4679568848917, 1110.9636855292263, 1173.944568070478, 1815.9663889406934, 2414.167060320358, 1782.8736685975764, 1377.606497427329, 111.73876942441444, 108.43706210101796, 85.29532646736628, 71.34840668259129, 53.55711508304062, 51.02484578537742, 47.944482329924746, 1123.8102898228683, 100.6561972251204, 116.27432543738156, 40.43999985261392, 77.84124753615788, 34.96781517371348, 34.816252367489426, 34.644167260725226, 33.15283161101701, 29.0413765827827, 28.168768909466937, 27.400355814810137, 26.918317479649403, 25.614646185576497, 25.611301199476294, 25.595204738038724, 25.554856261047238, 25.079169552138357, 24.96668463681056, 24.73865684933096, 24.50869515160802, 24.20844299970708, 33.939714415565696, 212.30276110924422, 48.95851691515631, 863.7487352832838, 108.07740073809182, 55.06458139828521, 47.3401866061873, 484.6603430051053, 62.291284826114634, 147.2689238319959, 109.67358562317378, 241.40453719117124, 559.009511270021, 502.670757983833, 813.4457710125015, 72.23186915108563, 124.47740064441194, 167.08084055659654, 210.20118825909069, 235.6188991017448, 939.6652360756359, 489.08208110045126, 170.5380325468939, 4276.63054885675, 922.7057604546515, 5040.683444233653, 616.1807722477242, 8078.892810888763, 1640.44801613566, 1689.4679568848917, 1057.0740432318507, 5306.025634793595, 5481.256875621239, 1162.1210924031861, 4034.7066432422357, 854.784630087167, 8705.048698155986, 5777.114441653825, 774.3005045992271, 3640.934096885816, 1046.8656200720518, 4406.403399500013, 1606.4374348502197, 2152.4838426509577, 2046.3744761209489, 2746.2903170138075, 2572.496104784746, 148.13171504374583, 75.47625542599013, 58.9252574209913, 57.73012003242519, 44.084556281125685, 42.22087550772714, 40.232450437152565, 35.00178362822574, 34.11537066788867, 32.75982123781825, 31.940048311030512, 33.62403316949718, 29.564867688129315, 28.189077236391533, 28.172694025569157, 169.02321269031387, 27.5162544746538, 25.68915289326831, 25.587202647614745, 155.8408353212478, 24.221764059964794, 23.43191511369693, 23.329742319236864, 22.342535413070824, 35.29787171392726, 89.62501058803811, 21.58547249301734, 21.086961173543653, 21.195609053900476, 20.620348481969074, 30.853058759188634, 39.689405422228184, 45.56848887925191, 35.136977796936236, 444.4315609606659, 74.68729132623794, 75.27197084363561, 508.9201493834235, 168.2729337072686, 298.8093855864624, 303.8074329567674, 141.1755326543229, 672.5452369838104, 41.946421441123604, 95.43391389765398, 69.25303501704364, 196.27441788260268, 334.42010952109115, 102.109441733933, 111.60275721892559, 142.0607475714111, 342.72065918531166, 321.45577342906273, 166.81129595338885, 147.55557680012515, 239.79826002260717, 434.0193690210507, 824.1821845625279, 939.6652360756359, 2883.6543056119826, 1318.7589253458952, 335.85629783624415, 2563.831877593959, 750.4528661296092, 5777.114441653825, 489.1355134684991, 559.009511270021, 604.538962544877, 1147.4209823175663, 2210.9638159222573, 1732.4759308478983, 2572.496104784746, 2857.469339008195, 9393.122168986269, 5306.025634793595, 3018.5229207569746, 1331.8894158920614, 5040.683444233653, 4406.403399500013, 8078.892810888763, 2410.7549050221214, 2883.4987168769867, 79.8866481408443, 82.18979032490358, 74.20357748903095, 77.41368153788952, 64.40299796063002, 61.08458547609594, 50.49225922010091, 41.375028944861704, 39.48458550957148, 32.57944198853036, 37.23396387357602, 30.210374401537873, 28.91278703636235, 29.513040543417112, 26.027482653962082, 26.064969316999818, 25.929384806937982, 25.788750736231034, 25.415009776165675, 24.6750205674242, 24.60506389898317, 24.510595265484785, 25.920635907833788, 23.15907142447982, 54.50934180619675, 22.485452190689664, 22.54427540383065, 55.26405710562396, 21.941515449462187, 23.4526535731712, 82.84917573686094, 60.216992410446316, 28.251124981895583, 224.67052347327447, 144.23552135228402, 164.1858637945709, 43.825645853984206, 138.063929706217, 64.4881385807946, 121.32111666022789, 49.27496563826484, 1606.4374348502197, 170.5916678458766, 40.241343717497244, 88.54643722318882, 1162.1210924031861, 117.01107144593398, 69.49901430729957, 415.03236831742305, 728.407857882818, 687.905357646179, 1860.8849757124024, 292.3979591994253, 306.8421280879662, 154.57990917084186, 1091.086878410368, 969.3912497502881, 125.20586040712139, 2354.5402633491167, 3018.5229207569746, 1435.3629387010287, 9393.122168986269, 366.3892021563214, 312.16400876921324, 5306.025634793595, 8705.048698155986, 5040.683444233653, 3677.5448101191846, 2379.513422251261, 1513.7774769846787, 2414.167060320358, 594.725978220731, 4406.403399500013, 831.3375781836052, 3532.920475464188, 724.3905187436061, 1525.6828897765843, 5777.114441653825, 1973.3691156278358, 1320.5677000029755, 8078.892810888763, 100.30648856533219, 66.70132733209999, 68.5422897854781, 53.76394099691926, 48.22097587723684, 42.00794924647842, 37.09927378255584, 35.67908854093447, 32.657309857139175, 32.592309537171616, 43.474083083765805, 83.65250487032468, 28.800055917781357, 28.648927753936523, 28.579440162666767, 27.483476949787015, 27.04645042749438, 26.810691287471858, 25.361369876444464, 24.25474401556697, 24.07654836290728, 24.1179959009608, 90.63821534914419, 22.990239280010403, 22.678541336848212, 21.958061794434443, 21.301529435509035, 20.987664392355416, 21.428647671677894, 19.684477130674214, 34.94143746393587, 125.57195231690713, 54.942260699477345, 39.478615431498, 59.19375017961959, 197.08756181208955, 50.40456832373649, 281.31175413891407, 84.82145658669899, 124.64152762288042, 128.41728838851537, 45.61814322140017, 208.58951754143138, 170.51386468330043, 69.44477838258898, 87.49617677023177, 1901.2698255290911, 525.8914751111992, 110.65889253090481, 111.12003103776678, 339.20425995533833, 2260.044466004337, 273.98113419990244, 629.8913415469084, 5040.683444233653, 2903.0597717083474, 335.03193329906486, 2746.2903170138075, 813.4457710125015, 2550.1875328843776, 9393.122168986269, 2210.9638159222573, 381.6174213324212, 781.6342329775651, 1642.0166973146925, 3472.4991818378962, 2857.469339008195, 5481.256875621239, 1973.0246504148167, 2379.513422251261, 8078.892810888763, 4276.63054885675, 5777.114441653825, 3532.920475464188, 2240.379545965391, 4406.403399500013, 1239.5102919387512, 2033.6211317143525, 1257.8643116072676, 1223.8922457442018, 70.94862336648119, 41.484562697716896, 38.84118184080661, 34.34926681799398, 32.720966888583284, 32.488521484597804, 32.46392767402821, 32.116259839224966, 30.77799662740905, 28.45656337696967, 27.709420377137807, 27.438856272414647, 27.12883588746348, 31.017960777368234, 26.10379904744024, 25.87315229548541, 25.686989406468705, 24.929456061114788, 23.76357618661256, 23.187986078903876, 22.73608400522855, 22.692106970686677, 22.68635694139871, 22.601641677992827, 22.40773395159379, 21.553676398460375, 21.276259949848683, 19.615689066572, 19.780921920775427, 20.445486587015573, 61.526139986340425, 79.59873028675513, 39.946995055358855, 43.57180693541464, 42.0748394672108, 84.55940303693225, 78.1986781185725, 74.33701560763451, 34.51961420936815, 33.10406164993551, 36.627457538277575, 627.1172315981321, 109.91580299077845, 38.03348393413937, 2109.193520114405, 183.74038117540144, 83.08209829202688, 89.14836176856915, 200.34191031012475, 63.98195274185261, 295.70231652440407, 340.0700071885599, 65.91947909858142, 680.230899218161, 99.68718040077734, 91.09328940307856, 2210.9638159222573, 109.15051764698451, 9393.122168986269, 276.5368779216031, 2728.7524436601298, 1289.9085307302244, 384.7578854418787, 254.40873235330156, 8078.892810888763, 1185.6548900855355, 514.751082056309, 4856.519845369429, 451.7657603637886, 2410.7549050221214, 4034.7066432422357, 1269.9264112258559, 2212.9476050200706, 1605.3560318228322, 5777.114441653825, 8705.048698155986, 912.4714601626832, 3640.934096885816, 1763.27762258538, 5481.256875621239, 2240.379545965391, 2360.299109906132, 5040.683444233653, 5306.025634793595, 1815.9663889406934, 4276.63054885675, 1277.579222946424, 998.62371777683, 3472.4991818378962, 58.48398719711464, 52.23016152554495, 42.48368568887647, 31.54315764837508, 29.25487192958136, 28.94484048890704, 26.83796887062804, 24.247910249889717, 21.92608129938181, 21.62621135876483, 19.016232345026665, 18.96978620835509, 18.751524482009234, 18.561825566317992, 18.475585496436818, 18.22601383568601, 17.61196523980277, 17.35052556003677, 17.04517532083051, 16.85876413374291, 17.82088739494373, 16.566253868951666, 16.164847472413726, 15.896587569486995, 15.804470955748764, 15.402226843015127, 15.148753991788901, 23.974727086982803, 78.93093716145049, 39.01944708910376, 29.267520665934033, 260.5090578239932, 23.502526906451955, 31.915989437521613, 77.73522272472331, 25.020232374482276, 35.55762843385189, 28.040318424236983, 292.731783652155, 34.06664302406267, 553.6642421207813, 2212.9476050200706, 81.56544145287171, 34.321545724656396, 203.1854780113267, 40.517885204897475, 37.96060188926944, 34.80799320710166, 123.56835983234608, 42.16951871141862, 82.85600187534156, 72.00300368613034, 1035.558037538558, 711.8864167120006, 162.46235141141065, 243.77098521844775, 112.13487941910395, 268.8407218023653, 1200.418578997815, 263.2638557923064, 2360.299109906132, 161.46154108540452, 1124.5164421964987, 950.166339764006, 680.8824845909432, 9393.122168986269, 1575.0184862639296, 3532.920475464188, 5777.114441653825, 468.25527066625085, 1605.3560318228322, 380.4154844536468, 8705.048698155986, 2167.8959179918597, 4406.403399500013, 2883.4987168769867, 774.0300740147012, 1277.579222946424, 1973.3691156278358, 2109.193520114405, 3677.5448101191846, 2572.496104784746, 3640.934096885816, 1787.0708440876786, 2369.9443982978064, 48.219981611662625, 48.870521147618334, 44.498638005710355, 40.1484919605205, 39.49306903738568, 37.89635710016946, 37.89214606664604, 37.33736849885803, 36.2788016368533, 32.82026550897818, 29.800315332248935, 28.033814531464543, 27.22025496158217, 27.18176539288066, 26.870502764694688, 24.706085572602042, 24.593875674582492, 24.130704029016762, 23.267629328728585, 23.03033785698489, 21.803821375675877, 99.64525196659083, 20.716590911066643, 20.10068792634434, 20.027773833466938, 30.34426764064552, 18.966474982265378, 18.899664549724026, 18.53832834027759, 18.496966599105527, 46.70849847745493, 39.28651334564316, 38.83475273053688, 57.062030504853766, 55.99601278560598, 42.86804421987378, 89.07480414833884, 67.4699539836617, 45.239711233385265, 63.945942156159234, 143.5687571594125, 217.01864278163026, 50.8676416078795, 105.93410982806417, 278.01060444296724, 179.0167344809109, 8078.892810888763, 5481.256875621239, 133.16245325304362, 295.9290715155978, 154.2436134797621, 1936.7552137951666, 5306.025634793595, 105.2065095221302, 8705.048698155986, 888.9925584363822, 2857.469339008195, 1289.9085307302244, 274.57729697735385, 522.6661322797194, 5777.114441653825, 1044.5023702225699, 9393.122168986269, 4406.403399500013, 1318.7589253458952, 1640.44801613566, 2728.7524436601298, 780.9097604339205, 3677.5448101191846, 2210.9638159222573, 1185.6548900855355, 5040.683444233653, 2360.299109906132, 2260.044466004337, 755.0065150285546, 4856.519845369429, 3640.934096885816, 4276.63054885675, 4034.7066432422357, 2379.513422251261, 3472.4991818378962, 2414.167060320358, 1300.324465718508, 86.84637987841974, 61.65267636891171, 61.59554516778335, 40.492193298880586, 35.45333244010644, 35.35436692474388, 33.00752205088377, 32.97681319623931, 30.053633606930063, 29.219801930066968, 27.691866827587788, 27.50450801625533, 27.350946761634873, 28.028823198067542, 26.625658648247146, 26.4975447586354, 26.584647569971576, 24.508324704010022, 24.47449811911997, 23.998011679766744, 23.707598799288018, 23.6881289314594, 23.540047691422636, 33.84027399535355, 23.502603373550343, 23.619970541616947, 23.113735543149883, 22.569567016448122, 21.84030465178604, 21.212886819494916, 33.24171570818255, 100.99980688146805, 45.62280225199689, 30.458842997648844, 31.68902693954679, 33.119242256190134, 145.74596471224214, 25.767942930461103, 69.80457403914427, 68.91004828954618, 50.78889026740254, 48.107180110432864, 45.17701568297643, 266.2128232854474, 54.21198853597495, 38.51796526418087, 275.3208757617446, 41.80890656204929, 81.71171155729566, 707.213546256295, 68.86110054262139, 186.42950568588077, 9393.122168986269, 8705.048698155986, 1689.4679568848917, 489.1355134684991, 4034.7066432422357, 2167.8959179918597, 1435.3629387010287, 1606.4374348502197, 252.903265091038, 1973.3691156278358, 1815.9663889406934, 3532.920475464188, 2563.831877593959, 660.4065913045384, 1046.8656200720518, 969.3912497502881, 1782.8736685975764, 4406.403399500013, 2414.167060320358, 1860.8849757124024, 5306.025634793595, 2883.4987168769867, 5777.114441653825, 2354.5402633491167, 2379.513422251261, 3640.934096885816, 1936.7552137951666, 2260.044466004337, 277.82236012314945, 105.04459661005353, 48.78290016534872, 38.79415320669763, 37.576457986486616, 36.1048860330715, 35.60829699373675, 35.464456512107894, 35.438253342161715, 32.81739585253464, 31.725444069614966, 27.9167150980048, 27.634160675955858, 27.35673671620687, 26.955319618833006, 25.285237053328558, 24.96774848396538, 23.86016371396032, 22.87486915594188, 22.4743425202736, 22.27104576534353, 27.99677755936907, 21.525225000933784, 21.43922041154008, 21.420219229211753, 21.068305416650656, 21.08426361132244, 20.84900022283307, 20.76703238350131, 20.42147374121136, 49.60795277838033, 189.61314041431982, 37.00023599474565, 114.47739852504507, 143.16782422099587, 32.48282757123111, 141.71183560920588, 251.48545604482075, 60.76990025595815, 109.79780683242684, 40.61748085073221, 416.532403340017, 72.68086115092585, 50.08364603092602, 124.82917245007467, 138.21955692660353, 296.1529341912453, 72.75907250990451, 154.19967802644334, 136.3025433578446, 816.9841635579885, 1289.9085307302244, 124.90840714694858, 108.09307348779387, 200.82090271396734, 8078.892810888763, 3640.934096885816, 3472.4991818378962, 2260.044466004337, 155.11942800265513, 5481.256875621239, 1173.944568070478, 301.3177963773581, 4034.7066432422357, 2210.9638159222573, 808.3243870529017, 403.66132171879565, 1901.2698255290911, 4276.63054885675, 2857.469339008195, 1197.5922849037875, 5777.114441653825, 4406.403399500013, 9393.122168986269, 2410.7549050221214, 2903.0597717083474, 922.7057604546515, 5306.025634793595, 2240.379545965391, 8705.048698155986, 83.55174437229132, 70.60476816847785, 63.71475272082684, 62.18188105513522, 96.22624030094457, 77.84320626066261, 58.44042364960217, 50.56294211704517, 53.04695198643953, 48.882755221110195, 44.77590387430567, 40.12139367523019, 39.359189197211485, 38.490061620189024, 35.77416558221506, 35.515531207454984, 34.731691916630425, 33.088862777427074, 33.107542109256805, 32.782878831131846, 32.73202612994197, 32.439756921032966, 32.03181630002125, 171.94847209715823, 31.239749351783562, 30.705110358227863, 27.863328308543288, 27.746151685582443, 26.809427981141205, 25.694205299012044, 53.62198217875786, 68.01358600239578, 52.621216963240556, 36.730013421171115, 240.33844316000705, 74.29362736939756, 183.49523699645192, 53.03940533231238, 55.87769419871262, 153.09210288633608, 121.1867877291622, 73.13965206308986, 912.4714601626832, 55.04135198285351, 409.9669201592565, 104.44877276909828, 354.39702841840096, 94.76675336600901, 460.2193650039903, 82.53300192537199, 116.57551543650933, 175.34762813118996, 183.74038117540144, 630.1272735615987, 690.7133536196901, 1973.0246504148167, 2410.7549050221214, 1605.3560318228322, 2883.6543056119826, 2240.379545965391, 2210.9638159222573, 2354.5402633491167, 604.538962544877, 660.1463858787494, 1642.0166973146925, 2109.193520114405, 1197.5922849037875, 470.4585469139306, 2360.299109906132, 9393.122168986269, 627.1172315981321, 3018.5229207569746, 2260.044466004337, 4406.403399500013, 2857.469339008195, 5306.025634793595, 2550.1875328843776, 1223.8922457442018, 5040.683444233653, 129.2225496370879, 123.00036954078129, 81.31055952326818, 76.54034178898125, 61.9215928703549, 54.19808681453605, 50.90562061217303, 42.058372962185715, 38.82819674980762, 37.63824221830917, 37.54520872880665, 35.51635018700936, 34.757700976197654, 34.9061889990389, 33.46017390741088, 32.7629011753848, 32.4340910461011, 31.337025776084833, 31.16694537783442, 30.33674824381496, 30.997979744399455, 27.56347055965012, 29.67398723421403, 24.793099735382253, 24.589547032032005, 23.974999221159756, 23.39903982017525, 23.2480127817924, 22.938261903407128, 22.406542287376254, 49.03869164290968, 53.133908202418304, 102.16456014919953, 64.61672124527492, 130.6739024538581, 153.67040394173168, 30.85638262616398, 49.597284741756425, 160.75452449526975, 107.79195889200349, 231.2561046158612, 187.11860023521993, 153.02008293629865, 82.24235901208972, 117.40305504554065, 172.67726916793347, 466.59036626909466, 76.05161994021742, 2883.6543056119826, 3532.920475464188, 2883.4987168769867, 2210.9638159222573, 2414.167060320358, 337.8591984062533, 5777.114441653825, 9393.122168986269, 2857.469339008195, 5040.683444233653, 4856.519845369429, 4406.403399500013, 3677.5448101191846, 1508.2028296720387, 2572.496104784746, 2369.9443982978064, 8078.892810888763, 3018.5229207569746, 5481.256875621239, 2354.5402633491167, 1732.4759308478983, 2046.3744761209489, 1787.0708440876786, 2550.1875328843776, 77.61660213826404, 67.2028803948607, 58.24203227859703, 55.965202524158386, 54.93921828461488, 50.188686260917564, 178.03236909559925, 45.193000039165774, 41.57595210636602, 39.33559663929323, 37.36963620841926, 37.13359982619992, 35.610228593153906, 35.46746769037835, 35.1422107109637, 32.19303338801806, 30.142832605171886, 29.425068399112426, 28.67637783170413, 27.97295325059667, 27.772257393914547, 26.395654056676957, 26.08083890353074, 25.128355154876456, 24.274994419664477, 24.125224046833523, 23.678558492638633, 23.608359710298007, 23.517545972359493, 23.427173002698712, 226.83140129024727, 28.790462557841455, 173.0280089244683, 62.923914702903495, 58.000904683072314, 84.29729480438309, 233.05663683151923, 517.1908807870345, 246.54466947802572, 156.53861019491703, 1508.2028296720387, 50.66581080024119, 78.67412944644784, 45.7025609946284, 58.89964073666185, 187.94586228029758, 188.77931597900513, 199.28207451228414, 630.1272735615987, 70.22493533745104, 1035.558037538558, 91.52205372849832, 8078.892810888763, 203.0719055136839, 284.21985472215533, 5481.256875621239, 800.8279749025395, 3472.4991818378962, 2212.9476050200706, 2728.7524436601298, 1268.3066984648153, 2260.044466004337, 548.0640370617546, 5306.025634793595, 9393.122168986269, 4856.519845369429, 2857.469339008195, 1575.0184862639296, 1606.4374348502197, 1973.0246504148167, 2550.1875328843776, 8705.048698155986, 2746.2903170138075, 558.0775878403831, 436.9764516874777, 210.00678374423777, 103.08510848417757, 76.52155114465765, 70.23369958927067, 64.02569563277822, 55.27058432001236, 55.094846783828984, 55.825046571968095, 51.94116920205162, 49.248439596390995, 44.92940533496392, 44.09795583505911, 41.530474997791565, 41.20295743334676, 40.09900320768164, 38.81562088913441, 37.20213804103796, 53.01139550211396, 69.38960019500436, 98.77095753893407, 34.047812004301, 31.881867650124708, 30.687520367962488, 28.42176533247506, 28.138662038770786, 28.020576928966832, 27.774956971866974, 27.600790047277407, 55.847289186352945, 224.53622442176626, 407.2156233375334, 49.54047165091419, 44.3030407848692, 93.06325494195995, 77.04491231481667, 1525.6828897765843, 61.854529206473856, 81.12862032436107, 186.8221889359788, 1185.1742703651178, 255.9789257995087, 301.62860037155724, 194.83458434326892, 726.2674368519249, 722.0218138201283, 215.22149106737442, 1689.4679568848917, 295.70231652440407, 699.8291199350643, 565.2169281465824, 627.1172315981321, 8078.892810888763, 5481.256875621239, 5777.114441653825, 9393.122168986269, 380.457497756351, 1110.9636855292263, 1289.9085307302244, 2360.299109906132, 749.615490395537, 707.213546256295, 3640.934096885816, 1642.0166973146925, 4034.7066432422357, 2670.100008052429, 1605.3560318228322, 1763.27762258538, 8705.048698155986, 3677.5448101191846, 43.46552495475427, 37.26314645834258, 36.75663553278365, 33.669343147674454, 32.21992951407068, 30.72282649740544, 30.602611949410292, 30.467334023649208, 29.678881962030452, 30.993175254019604, 28.330812329414485, 27.78950924130627, 27.27616317337692, 26.454759706612293, 25.148632754383684, 24.513865328657907, 23.99642587422729, 23.704091933230238, 23.367294050578675, 23.25313184761448, 21.68244271050128, 21.183527266891662, 20.46333661974179, 20.411153419157404, 20.079736640861892, 19.920201597551273, 19.868089088172955, 19.03619642666718, 18.684579497949613, 18.598719836866092, 24.67779487232478, 78.86847249598645, 77.48101349160083, 32.07306948900687, 39.34480495183885, 51.024756819642604, 25.179573643904984, 28.304791932788003, 289.6779074905217, 56.87411292887668, 33.155958533224336, 432.67355261813634, 52.64406887681013, 42.556479033078766, 33.51591752506537, 225.20539098865314, 55.483048281537336, 159.8223242520492, 49.045267916952575, 48.81096510149585, 2410.7549050221214, 3640.934096885816, 138.70193103586422, 93.23345699043769, 84.22475501248769, 690.7133536196901, 295.67918693177137, 753.6816602591566, 206.04714955729634, 514.751082056309, 9393.122168986269, 2210.9638159222573, 482.20761891189824, 209.66504903659916, 2728.7524436601298, 3018.5229207569746, 277.7281313820098, 999.6741402796612, 1197.5922849037875, 1080.6406379708847, 1471.574530601902, 2857.469339008195, 8705.048698155986, 8078.892810888763, 2883.6543056119826, 2563.831877593959, 1605.3560318228322, 2260.044466004337, 1860.8849757124024, 2379.513422251261], \"Category\": [\"Default\", \"Default\", \"Default\", \"Default\", \"Default\", \"Default\", \"Default\", \"Default\", \"Default\", \"Default\", \"Default\", \"Default\", \"Default\", \"Default\", \"Default\", \"Default\", \"Default\", \"Default\", \"Default\", \"Default\", \"Default\", \"Default\", \"Default\", \"Default\", \"Default\", \"Default\", \"Default\", \"Default\", \"Default\", \"Default\", \"Topic1\", \"Topic1\", \"Topic1\", \"Topic1\", \"Topic1\", \"Topic1\", \"Topic1\", \"Topic1\", \"Topic1\", \"Topic1\", \"Topic1\", \"Topic1\", \"Topic1\", \"Topic1\", \"Topic1\", \"Topic1\", \"Topic1\", \"Topic1\", \"Topic1\", \"Topic1\", \"Topic1\", \"Topic1\", \"Topic1\", \"Topic1\", \"Topic1\", \"Topic1\", \"Topic1\", \"Topic1\", \"Topic1\", \"Topic1\", \"Topic1\", \"Topic1\", \"Topic1\", \"Topic1\", \"Topic1\", \"Topic1\", \"Topic1\", \"Topic1\", \"Topic1\", \"Topic1\", \"Topic1\", \"Topic1\", \"Topic1\", \"Topic1\", \"Topic1\", \"Topic1\", \"Topic1\", \"Topic1\", \"Topic1\", \"Topic1\", \"Topic1\", \"Topic1\", \"Topic1\", \"Topic1\", \"Topic1\", \"Topic1\", \"Topic1\", \"Topic1\", \"Topic1\", \"Topic1\", \"Topic1\", \"Topic1\", \"Topic1\", \"Topic1\", \"Topic1\", \"Topic1\", \"Topic1\", \"Topic1\", \"Topic1\", \"Topic1\", \"Topic1\", \"Topic1\", \"Topic1\", \"Topic1\", \"Topic1\", \"Topic1\", \"Topic1\", \"Topic1\", \"Topic1\", \"Topic1\", \"Topic1\", \"Topic1\", \"Topic1\", \"Topic1\", \"Topic2\", \"Topic2\", \"Topic2\", \"Topic2\", \"Topic2\", \"Topic2\", \"Topic2\", \"Topic2\", \"Topic2\", \"Topic2\", \"Topic2\", \"Topic2\", \"Topic2\", \"Topic2\", \"Topic2\", \"Topic2\", \"Topic2\", \"Topic2\", \"Topic2\", \"Topic2\", \"Topic2\", \"Topic2\", \"Topic2\", \"Topic2\", \"Topic2\", \"Topic2\", \"Topic2\", \"Topic2\", \"Topic2\", \"Topic2\", \"Topic2\", \"Topic2\", \"Topic2\", \"Topic2\", \"Topic2\", \"Topic2\", \"Topic2\", \"Topic2\", \"Topic2\", \"Topic2\", \"Topic2\", \"Topic2\", \"Topic2\", \"Topic2\", \"Topic2\", \"Topic2\", \"Topic2\", \"Topic2\", \"Topic2\", \"Topic2\", \"Topic2\", \"Topic2\", \"Topic2\", \"Topic2\", \"Topic2\", \"Topic2\", \"Topic2\", \"Topic2\", \"Topic2\", \"Topic2\", \"Topic2\", \"Topic2\", \"Topic2\", \"Topic2\", \"Topic2\", \"Topic2\", \"Topic2\", \"Topic2\", \"Topic2\", \"Topic2\", \"Topic2\", \"Topic2\", \"Topic2\", \"Topic2\", \"Topic2\", \"Topic2\", \"Topic2\", \"Topic2\", \"Topic2\", \"Topic2\", \"Topic2\", \"Topic2\", \"Topic2\", \"Topic2\", \"Topic2\", \"Topic2\", \"Topic2\", \"Topic2\", \"Topic2\", \"Topic3\", \"Topic3\", \"Topic3\", \"Topic3\", \"Topic3\", \"Topic3\", \"Topic3\", \"Topic3\", \"Topic3\", \"Topic3\", \"Topic3\", \"Topic3\", \"Topic3\", \"Topic3\", \"Topic3\", \"Topic3\", \"Topic3\", \"Topic3\", \"Topic3\", \"Topic3\", \"Topic3\", \"Topic3\", \"Topic3\", \"Topic3\", \"Topic3\", \"Topic3\", \"Topic3\", \"Topic3\", \"Topic3\", \"Topic3\", \"Topic3\", \"Topic3\", \"Topic3\", \"Topic3\", \"Topic3\", \"Topic3\", \"Topic3\", \"Topic3\", \"Topic3\", \"Topic3\", \"Topic3\", \"Topic3\", \"Topic3\", \"Topic3\", \"Topic3\", \"Topic3\", \"Topic3\", \"Topic3\", \"Topic3\", \"Topic3\", \"Topic3\", \"Topic3\", \"Topic3\", \"Topic3\", \"Topic3\", \"Topic3\", \"Topic3\", \"Topic3\", \"Topic3\", \"Topic3\", \"Topic3\", \"Topic3\", \"Topic3\", \"Topic3\", \"Topic3\", \"Topic3\", \"Topic3\", \"Topic3\", \"Topic3\", \"Topic3\", \"Topic3\", \"Topic3\", \"Topic3\", \"Topic3\", \"Topic3\", \"Topic3\", \"Topic3\", \"Topic3\", \"Topic3\", \"Topic3\", \"Topic3\", \"Topic3\", \"Topic3\", \"Topic3\", \"Topic3\", \"Topic3\", \"Topic3\", \"Topic3\", \"Topic3\", \"Topic3\", \"Topic3\", \"Topic3\", \"Topic3\", \"Topic3\", \"Topic4\", \"Topic4\", \"Topic4\", \"Topic4\", \"Topic4\", \"Topic4\", \"Topic4\", \"Topic4\", \"Topic4\", \"Topic4\", \"Topic4\", \"Topic4\", \"Topic4\", \"Topic4\", \"Topic4\", \"Topic4\", \"Topic4\", \"Topic4\", \"Topic4\", \"Topic4\", \"Topic4\", \"Topic4\", \"Topic4\", \"Topic4\", \"Topic4\", \"Topic4\", \"Topic4\", \"Topic4\", \"Topic4\", \"Topic4\", \"Topic4\", \"Topic4\", \"Topic4\", \"Topic4\", \"Topic4\", \"Topic4\", \"Topic4\", \"Topic4\", \"Topic4\", \"Topic4\", \"Topic4\", \"Topic4\", \"Topic4\", \"Topic4\", \"Topic4\", \"Topic4\", \"Topic4\", \"Topic4\", \"Topic4\", \"Topic4\", \"Topic4\", \"Topic4\", \"Topic4\", \"Topic4\", \"Topic4\", \"Topic4\", \"Topic4\", \"Topic4\", \"Topic4\", \"Topic4\", \"Topic4\", \"Topic4\", \"Topic4\", \"Topic4\", \"Topic4\", \"Topic4\", \"Topic4\", \"Topic4\", \"Topic4\", \"Topic4\", \"Topic4\", \"Topic4\", \"Topic4\", \"Topic4\", \"Topic4\", \"Topic4\", \"Topic4\", \"Topic4\", \"Topic4\", \"Topic4\", \"Topic4\", \"Topic5\", \"Topic5\", \"Topic5\", \"Topic5\", \"Topic5\", \"Topic5\", \"Topic5\", \"Topic5\", \"Topic5\", \"Topic5\", \"Topic5\", \"Topic5\", \"Topic5\", \"Topic5\", \"Topic5\", \"Topic5\", \"Topic5\", \"Topic5\", \"Topic5\", \"Topic5\", \"Topic5\", \"Topic5\", \"Topic5\", \"Topic5\", \"Topic5\", \"Topic5\", \"Topic5\", \"Topic5\", \"Topic5\", \"Topic5\", \"Topic5\", \"Topic5\", \"Topic5\", \"Topic5\", \"Topic5\", \"Topic5\", \"Topic5\", \"Topic5\", \"Topic5\", \"Topic5\", \"Topic5\", \"Topic5\", \"Topic5\", \"Topic5\", \"Topic5\", \"Topic5\", \"Topic5\", \"Topic5\", \"Topic5\", \"Topic5\", \"Topic5\", \"Topic5\", \"Topic5\", \"Topic5\", \"Topic5\", \"Topic5\", \"Topic5\", \"Topic5\", \"Topic5\", \"Topic5\", \"Topic5\", \"Topic5\", \"Topic5\", \"Topic5\", \"Topic5\", \"Topic5\", \"Topic5\", \"Topic5\", \"Topic5\", \"Topic5\", \"Topic5\", \"Topic6\", \"Topic6\", \"Topic6\", \"Topic6\", \"Topic6\", \"Topic6\", \"Topic6\", \"Topic6\", \"Topic6\", \"Topic6\", \"Topic6\", \"Topic6\", \"Topic6\", \"Topic6\", \"Topic6\", \"Topic6\", \"Topic6\", \"Topic6\", \"Topic6\", \"Topic6\", \"Topic6\", \"Topic6\", \"Topic6\", \"Topic6\", \"Topic6\", \"Topic6\", \"Topic6\", \"Topic6\", \"Topic6\", \"Topic6\", \"Topic6\", \"Topic6\", \"Topic6\", \"Topic6\", \"Topic6\", \"Topic6\", \"Topic6\", \"Topic6\", \"Topic6\", \"Topic6\", \"Topic6\", \"Topic6\", \"Topic6\", \"Topic6\", \"Topic6\", \"Topic6\", \"Topic6\", \"Topic6\", \"Topic6\", \"Topic6\", \"Topic6\", \"Topic6\", \"Topic6\", \"Topic6\", \"Topic6\", \"Topic6\", \"Topic6\", \"Topic6\", \"Topic6\", \"Topic6\", \"Topic6\", \"Topic6\", \"Topic6\", \"Topic6\", \"Topic6\", \"Topic6\", \"Topic6\", \"Topic6\", \"Topic6\", \"Topic6\", \"Topic6\", \"Topic6\", \"Topic6\", \"Topic6\", \"Topic6\", \"Topic6\", \"Topic6\", \"Topic6\", \"Topic6\", \"Topic6\", \"Topic6\", \"Topic7\", \"Topic7\", \"Topic7\", \"Topic7\", \"Topic7\", \"Topic7\", \"Topic7\", \"Topic7\", \"Topic7\", \"Topic7\", \"Topic7\", \"Topic7\", \"Topic7\", \"Topic7\", \"Topic7\", \"Topic7\", \"Topic7\", \"Topic7\", \"Topic7\", \"Topic7\", \"Topic7\", \"Topic7\", \"Topic7\", \"Topic7\", \"Topic7\", \"Topic7\", \"Topic7\", \"Topic7\", \"Topic7\", \"Topic7\", \"Topic7\", \"Topic7\", \"Topic7\", \"Topic7\", \"Topic7\", \"Topic7\", \"Topic7\", \"Topic7\", \"Topic7\", \"Topic7\", \"Topic7\", \"Topic7\", \"Topic7\", \"Topic7\", \"Topic7\", \"Topic7\", \"Topic7\", \"Topic7\", \"Topic7\", \"Topic7\", \"Topic7\", \"Topic7\", \"Topic7\", \"Topic7\", \"Topic7\", \"Topic7\", \"Topic7\", \"Topic7\", \"Topic7\", \"Topic7\", \"Topic7\", \"Topic7\", \"Topic7\", \"Topic7\", \"Topic7\", \"Topic7\", \"Topic7\", \"Topic7\", \"Topic7\", \"Topic7\", \"Topic7\", \"Topic7\", \"Topic7\", \"Topic7\", \"Topic7\", \"Topic7\", \"Topic7\", \"Topic8\", \"Topic8\", \"Topic8\", \"Topic8\", \"Topic8\", \"Topic8\", \"Topic8\", \"Topic8\", \"Topic8\", \"Topic8\", \"Topic8\", \"Topic8\", \"Topic8\", \"Topic8\", \"Topic8\", \"Topic8\", \"Topic8\", \"Topic8\", \"Topic8\", \"Topic8\", \"Topic8\", \"Topic8\", \"Topic8\", \"Topic8\", \"Topic8\", \"Topic8\", \"Topic8\", \"Topic8\", \"Topic8\", \"Topic8\", \"Topic8\", \"Topic8\", \"Topic8\", \"Topic8\", \"Topic8\", \"Topic8\", \"Topic8\", \"Topic8\", \"Topic8\", \"Topic8\", \"Topic8\", \"Topic8\", \"Topic8\", \"Topic8\", \"Topic8\", \"Topic8\", \"Topic8\", \"Topic8\", \"Topic8\", \"Topic8\", \"Topic8\", \"Topic8\", \"Topic8\", \"Topic8\", \"Topic8\", \"Topic8\", \"Topic8\", \"Topic8\", \"Topic8\", \"Topic8\", \"Topic8\", \"Topic8\", \"Topic8\", \"Topic8\", \"Topic8\", \"Topic8\", \"Topic8\", \"Topic8\", \"Topic8\", \"Topic8\", \"Topic8\", \"Topic8\", \"Topic8\", \"Topic8\", \"Topic8\", \"Topic8\", \"Topic8\", \"Topic8\", \"Topic8\", \"Topic8\", \"Topic8\", \"Topic8\", \"Topic9\", \"Topic9\", \"Topic9\", \"Topic9\", \"Topic9\", \"Topic9\", \"Topic9\", \"Topic9\", \"Topic9\", \"Topic9\", \"Topic9\", \"Topic9\", \"Topic9\", \"Topic9\", \"Topic9\", \"Topic9\", \"Topic9\", \"Topic9\", \"Topic9\", \"Topic9\", \"Topic9\", \"Topic9\", \"Topic9\", \"Topic9\", \"Topic9\", \"Topic9\", \"Topic9\", \"Topic9\", \"Topic9\", \"Topic9\", \"Topic9\", \"Topic9\", \"Topic9\", \"Topic9\", \"Topic9\", \"Topic9\", \"Topic9\", \"Topic9\", \"Topic9\", \"Topic9\", \"Topic9\", \"Topic9\", \"Topic9\", \"Topic9\", \"Topic9\", \"Topic9\", \"Topic9\", \"Topic9\", \"Topic9\", \"Topic9\", \"Topic9\", \"Topic9\", \"Topic9\", \"Topic9\", \"Topic9\", \"Topic9\", \"Topic9\", \"Topic9\", \"Topic9\", \"Topic9\", \"Topic9\", \"Topic9\", \"Topic9\", \"Topic9\", \"Topic9\", \"Topic9\", \"Topic9\", \"Topic9\", \"Topic9\", \"Topic9\", \"Topic9\", \"Topic9\", \"Topic9\", \"Topic9\", \"Topic9\", \"Topic9\", \"Topic9\", \"Topic9\", \"Topic9\", \"Topic9\", \"Topic9\", \"Topic10\", \"Topic10\", \"Topic10\", \"Topic10\", \"Topic10\", \"Topic10\", \"Topic10\", \"Topic10\", \"Topic10\", \"Topic10\", \"Topic10\", \"Topic10\", \"Topic10\", \"Topic10\", \"Topic10\", \"Topic10\", \"Topic10\", \"Topic10\", \"Topic10\", \"Topic10\", \"Topic10\", \"Topic10\", \"Topic10\", \"Topic10\", \"Topic10\", \"Topic10\", \"Topic10\", \"Topic10\", \"Topic10\", \"Topic10\", \"Topic10\", \"Topic10\", \"Topic10\", \"Topic10\", \"Topic10\", \"Topic10\", \"Topic10\", \"Topic10\", \"Topic10\", \"Topic10\", \"Topic10\", \"Topic10\", \"Topic10\", \"Topic10\", \"Topic10\", \"Topic10\", \"Topic10\", \"Topic10\", \"Topic10\", \"Topic10\", \"Topic10\", \"Topic10\", \"Topic10\", \"Topic10\", \"Topic10\", \"Topic10\", \"Topic10\", \"Topic10\", \"Topic10\", \"Topic10\", \"Topic10\", \"Topic10\", \"Topic10\", \"Topic10\", \"Topic10\", \"Topic10\", \"Topic10\", \"Topic10\", \"Topic10\", \"Topic10\", \"Topic10\", \"Topic10\", \"Topic10\", \"Topic10\", \"Topic10\", \"Topic10\", \"Topic10\", \"Topic10\", \"Topic10\", \"Topic10\", \"Topic11\", \"Topic11\", \"Topic11\", \"Topic11\", \"Topic11\", \"Topic11\", \"Topic11\", \"Topic11\", \"Topic11\", \"Topic11\", \"Topic11\", \"Topic11\", \"Topic11\", \"Topic11\", \"Topic11\", \"Topic11\", \"Topic11\", \"Topic11\", \"Topic11\", \"Topic11\", \"Topic11\", \"Topic11\", \"Topic11\", \"Topic11\", \"Topic11\", \"Topic11\", \"Topic11\", \"Topic11\", \"Topic11\", \"Topic11\", \"Topic11\", \"Topic11\", \"Topic11\", \"Topic11\", \"Topic11\", \"Topic11\", \"Topic11\", \"Topic11\", \"Topic11\", \"Topic11\", \"Topic11\", \"Topic11\", \"Topic11\", \"Topic11\", \"Topic11\", \"Topic11\", \"Topic11\", \"Topic11\", \"Topic11\", \"Topic11\", \"Topic11\", \"Topic11\", \"Topic11\", \"Topic11\", \"Topic11\", \"Topic11\", \"Topic11\", \"Topic11\", \"Topic11\", \"Topic11\", \"Topic11\", \"Topic11\", \"Topic11\", \"Topic11\", \"Topic11\", \"Topic11\", \"Topic11\", \"Topic11\", \"Topic11\", \"Topic11\", \"Topic11\", \"Topic11\", \"Topic11\", \"Topic11\", \"Topic11\", \"Topic11\", \"Topic11\", \"Topic11\", \"Topic11\", \"Topic11\", \"Topic11\", \"Topic11\", \"Topic11\", \"Topic11\", \"Topic11\", \"Topic11\", \"Topic11\", \"Topic11\", \"Topic11\", \"Topic12\", \"Topic12\", \"Topic12\", \"Topic12\", \"Topic12\", \"Topic12\", \"Topic12\", \"Topic12\", \"Topic12\", \"Topic12\", \"Topic12\", \"Topic12\", \"Topic12\", \"Topic12\", \"Topic12\", \"Topic12\", \"Topic12\", \"Topic12\", \"Topic12\", \"Topic12\", \"Topic12\", \"Topic12\", \"Topic12\", \"Topic12\", \"Topic12\", \"Topic12\", \"Topic12\", \"Topic12\", \"Topic12\", \"Topic12\", \"Topic12\", \"Topic12\", \"Topic12\", \"Topic12\", \"Topic12\", \"Topic12\", \"Topic12\", \"Topic12\", \"Topic12\", \"Topic12\", \"Topic12\", \"Topic12\", \"Topic12\", \"Topic12\", \"Topic12\", \"Topic12\", \"Topic12\", \"Topic12\", \"Topic12\", \"Topic12\", \"Topic12\", \"Topic12\", \"Topic12\", \"Topic12\", \"Topic12\", \"Topic12\", \"Topic12\", \"Topic12\", \"Topic12\", \"Topic12\", \"Topic12\", \"Topic12\", \"Topic12\", \"Topic12\", \"Topic12\", \"Topic12\", \"Topic12\", \"Topic12\", \"Topic12\", \"Topic12\", \"Topic12\", \"Topic12\", \"Topic12\", \"Topic12\", \"Topic12\", \"Topic12\", \"Topic12\", \"Topic12\", \"Topic12\", \"Topic12\", \"Topic12\", \"Topic12\", \"Topic12\", \"Topic12\", \"Topic12\", \"Topic13\", \"Topic13\", \"Topic13\", \"Topic13\", \"Topic13\", \"Topic13\", \"Topic13\", \"Topic13\", \"Topic13\", \"Topic13\", \"Topic13\", \"Topic13\", \"Topic13\", \"Topic13\", \"Topic13\", \"Topic13\", \"Topic13\", \"Topic13\", \"Topic13\", \"Topic13\", \"Topic13\", \"Topic13\", \"Topic13\", \"Topic13\", \"Topic13\", \"Topic13\", \"Topic13\", \"Topic13\", \"Topic13\", \"Topic13\", \"Topic13\", \"Topic13\", \"Topic13\", \"Topic13\", \"Topic13\", \"Topic13\", \"Topic13\", \"Topic13\", \"Topic13\", \"Topic13\", \"Topic13\", \"Topic13\", \"Topic13\", \"Topic13\", \"Topic13\", \"Topic13\", \"Topic13\", \"Topic13\", \"Topic13\", \"Topic13\", \"Topic13\", \"Topic13\", \"Topic13\", \"Topic13\", \"Topic13\", \"Topic13\", \"Topic13\", \"Topic13\", \"Topic13\", \"Topic13\", \"Topic13\", \"Topic13\", \"Topic13\", \"Topic13\", \"Topic13\", \"Topic13\", \"Topic13\", \"Topic13\", \"Topic13\", \"Topic13\", \"Topic13\", \"Topic13\", \"Topic13\", \"Topic13\", \"Topic13\", \"Topic13\", \"Topic13\", \"Topic13\", \"Topic13\", \"Topic13\", \"Topic13\", \"Topic13\", \"Topic13\", \"Topic14\", \"Topic14\", \"Topic14\", \"Topic14\", \"Topic14\", \"Topic14\", \"Topic14\", \"Topic14\", \"Topic14\", \"Topic14\", \"Topic14\", \"Topic14\", \"Topic14\", \"Topic14\", \"Topic14\", \"Topic14\", \"Topic14\", \"Topic14\", \"Topic14\", \"Topic14\", \"Topic14\", \"Topic14\", \"Topic14\", \"Topic14\", \"Topic14\", \"Topic14\", \"Topic14\", \"Topic14\", \"Topic14\", \"Topic14\", \"Topic14\", \"Topic14\", \"Topic14\", \"Topic14\", \"Topic14\", \"Topic14\", \"Topic14\", \"Topic14\", \"Topic14\", \"Topic14\", \"Topic14\", \"Topic14\", \"Topic14\", \"Topic14\", \"Topic14\", \"Topic14\", \"Topic14\", \"Topic14\", \"Topic14\", \"Topic14\", \"Topic14\", \"Topic14\", \"Topic14\", \"Topic14\", \"Topic14\", \"Topic14\", \"Topic14\", \"Topic14\", \"Topic14\", \"Topic14\", \"Topic14\", \"Topic14\", \"Topic14\", \"Topic14\", \"Topic14\", \"Topic14\", \"Topic14\", \"Topic14\", \"Topic14\", \"Topic14\", \"Topic14\", \"Topic14\", \"Topic14\", \"Topic14\", \"Topic14\", \"Topic14\", \"Topic14\", \"Topic14\", \"Topic14\", \"Topic14\", \"Topic15\", \"Topic15\", \"Topic15\", \"Topic15\", \"Topic15\", \"Topic15\", \"Topic15\", \"Topic15\", \"Topic15\", \"Topic15\", \"Topic15\", \"Topic15\", \"Topic15\", \"Topic15\", \"Topic15\", \"Topic15\", \"Topic15\", \"Topic15\", \"Topic15\", \"Topic15\", \"Topic15\", \"Topic15\", \"Topic15\", \"Topic15\", \"Topic15\", \"Topic15\", \"Topic15\", \"Topic15\", \"Topic15\", \"Topic15\", \"Topic15\", \"Topic15\", \"Topic15\", \"Topic15\", \"Topic15\", \"Topic15\", \"Topic15\", \"Topic15\", \"Topic15\", \"Topic15\", \"Topic15\", \"Topic15\", \"Topic15\", \"Topic15\", \"Topic15\", \"Topic15\", \"Topic15\", \"Topic15\", \"Topic15\", \"Topic15\", \"Topic15\", \"Topic15\", \"Topic15\", \"Topic15\", \"Topic15\", \"Topic15\", \"Topic15\", \"Topic15\", \"Topic15\", \"Topic15\", \"Topic15\", \"Topic15\", \"Topic15\", \"Topic15\", \"Topic15\", \"Topic15\", \"Topic15\", \"Topic15\", \"Topic15\", \"Topic15\", \"Topic15\", \"Topic15\", \"Topic15\", \"Topic15\", \"Topic15\", \"Topic15\", \"Topic15\", \"Topic15\", \"Topic15\", \"Topic15\", \"Topic16\", \"Topic16\", \"Topic16\", \"Topic16\", \"Topic16\", \"Topic16\", \"Topic16\", \"Topic16\", \"Topic16\", \"Topic16\", \"Topic16\", \"Topic16\", \"Topic16\", \"Topic16\", \"Topic16\", \"Topic16\", \"Topic16\", \"Topic16\", \"Topic16\", \"Topic16\", \"Topic16\", \"Topic16\", \"Topic16\", \"Topic16\", \"Topic16\", \"Topic16\", \"Topic16\", \"Topic16\", \"Topic16\", \"Topic16\", \"Topic16\", \"Topic16\", \"Topic16\", \"Topic16\", \"Topic16\", \"Topic16\", \"Topic16\", \"Topic16\", \"Topic16\", \"Topic16\", \"Topic16\", \"Topic16\", \"Topic16\", \"Topic16\", \"Topic16\", \"Topic16\", \"Topic16\", \"Topic16\", \"Topic16\", \"Topic16\", \"Topic16\", \"Topic16\", \"Topic16\", \"Topic16\", \"Topic16\", \"Topic16\", \"Topic16\", \"Topic16\", \"Topic16\", \"Topic16\", \"Topic16\", \"Topic16\", \"Topic16\", \"Topic16\", \"Topic16\", \"Topic16\", \"Topic16\", \"Topic16\", \"Topic16\", \"Topic16\", \"Topic16\", \"Topic16\", \"Topic16\", \"Topic16\", \"Topic16\", \"Topic16\", \"Topic16\", \"Topic16\", \"Topic16\", \"Topic17\", \"Topic17\", \"Topic17\", \"Topic17\", \"Topic17\", \"Topic17\", \"Topic17\", \"Topic17\", \"Topic17\", \"Topic17\", \"Topic17\", \"Topic17\", \"Topic17\", \"Topic17\", \"Topic17\", \"Topic17\", \"Topic17\", \"Topic17\", \"Topic17\", \"Topic17\", \"Topic17\", \"Topic17\", \"Topic17\", \"Topic17\", \"Topic17\", \"Topic17\", \"Topic17\", \"Topic17\", \"Topic17\", \"Topic17\", \"Topic17\", \"Topic17\", \"Topic17\", \"Topic17\", \"Topic17\", \"Topic17\", \"Topic17\", \"Topic17\", \"Topic17\", \"Topic17\", \"Topic17\", \"Topic17\", \"Topic17\", \"Topic17\", \"Topic17\", \"Topic17\", \"Topic17\", \"Topic17\", \"Topic17\", \"Topic17\", \"Topic17\", \"Topic17\", \"Topic17\", \"Topic17\", \"Topic17\", \"Topic17\", \"Topic17\", \"Topic17\", \"Topic17\", \"Topic17\", \"Topic17\", \"Topic17\", \"Topic17\", \"Topic17\", \"Topic17\", \"Topic17\", \"Topic17\", \"Topic17\", \"Topic17\", \"Topic17\", \"Topic17\", \"Topic17\", \"Topic18\", \"Topic18\", \"Topic18\", \"Topic18\", \"Topic18\", \"Topic18\", \"Topic18\", \"Topic18\", \"Topic18\", \"Topic18\", \"Topic18\", \"Topic18\", \"Topic18\", \"Topic18\", \"Topic18\", \"Topic18\", \"Topic18\", \"Topic18\", \"Topic18\", \"Topic18\", \"Topic18\", \"Topic18\", \"Topic18\", \"Topic18\", \"Topic18\", \"Topic18\", \"Topic18\", \"Topic18\", \"Topic18\", \"Topic18\", \"Topic18\", \"Topic18\", \"Topic18\", \"Topic18\", \"Topic18\", \"Topic18\", \"Topic18\", \"Topic18\", \"Topic18\", \"Topic18\", \"Topic18\", \"Topic18\", \"Topic18\", \"Topic18\", \"Topic18\", \"Topic18\", \"Topic18\", \"Topic18\", \"Topic18\", \"Topic18\", \"Topic18\", \"Topic18\", \"Topic18\", \"Topic18\", \"Topic18\", \"Topic18\", \"Topic18\", \"Topic18\", \"Topic18\", \"Topic18\", \"Topic18\", \"Topic18\", \"Topic18\", \"Topic18\", \"Topic18\", \"Topic18\", \"Topic18\", \"Topic18\", \"Topic18\", \"Topic18\", \"Topic18\", \"Topic18\", \"Topic18\", \"Topic19\", \"Topic19\", \"Topic19\", \"Topic19\", \"Topic19\", \"Topic19\", \"Topic19\", \"Topic19\", \"Topic19\", \"Topic19\", \"Topic19\", \"Topic19\", \"Topic19\", \"Topic19\", \"Topic19\", \"Topic19\", \"Topic19\", \"Topic19\", \"Topic19\", \"Topic19\", \"Topic19\", \"Topic19\", \"Topic19\", \"Topic19\", \"Topic19\", \"Topic19\", \"Topic19\", \"Topic19\", \"Topic19\", \"Topic19\", \"Topic19\", \"Topic19\", \"Topic19\", \"Topic19\", \"Topic19\", \"Topic19\", \"Topic19\", \"Topic19\", \"Topic19\", \"Topic19\", \"Topic19\", \"Topic19\", \"Topic19\", \"Topic19\", \"Topic19\", \"Topic19\", \"Topic19\", \"Topic19\", \"Topic19\", \"Topic19\", \"Topic19\", \"Topic19\", \"Topic19\", \"Topic19\", \"Topic19\", \"Topic19\", \"Topic19\", \"Topic19\", \"Topic19\", \"Topic19\", \"Topic19\", \"Topic19\", \"Topic19\", \"Topic19\", \"Topic19\", \"Topic19\", \"Topic19\", \"Topic19\", \"Topic19\", \"Topic19\", \"Topic19\", \"Topic20\", \"Topic20\", \"Topic20\", \"Topic20\", \"Topic20\", \"Topic20\", \"Topic20\", \"Topic20\", \"Topic20\", \"Topic20\", \"Topic20\", \"Topic20\", \"Topic20\", \"Topic20\", \"Topic20\", \"Topic20\", \"Topic20\", \"Topic20\", \"Topic20\", \"Topic20\", \"Topic20\", \"Topic20\", \"Topic20\", \"Topic20\", \"Topic20\", \"Topic20\", \"Topic20\", \"Topic20\", \"Topic20\", \"Topic20\", \"Topic20\", \"Topic20\", \"Topic20\", \"Topic20\", \"Topic20\", \"Topic20\", \"Topic20\", \"Topic20\", \"Topic20\", \"Topic20\", \"Topic20\", \"Topic20\", \"Topic20\", \"Topic20\", \"Topic20\", \"Topic20\", \"Topic20\", \"Topic20\", \"Topic20\", \"Topic20\", \"Topic20\", \"Topic20\", \"Topic20\", \"Topic20\", \"Topic20\", \"Topic20\", \"Topic20\", \"Topic20\", \"Topic20\", \"Topic20\", \"Topic20\", \"Topic20\", \"Topic20\", \"Topic20\", \"Topic20\", \"Topic20\", \"Topic20\", \"Topic20\", \"Topic20\", \"Topic20\", \"Topic20\", \"Topic20\", \"Topic20\", \"Topic20\", \"Topic20\", \"Topic20\", \"Topic20\", \"Topic20\", \"Topic20\", \"Topic20\"], \"logprob\": [30.0, 29.0, 28.0, 27.0, 26.0, 25.0, 24.0, 23.0, 22.0, 21.0, 20.0, 19.0, 18.0, 17.0, 16.0, 15.0, 14.0, 13.0, 12.0, 11.0, 10.0, 9.0, 8.0, 7.0, 6.0, 5.0, 4.0, 3.0, 2.0, 1.0, -4.6092000007629395, -5.825099945068359, -6.0507001876831055, -7.239200115203857, -7.51230001449585, -7.654799938201904, -7.759300231933594, -7.769100189208984, -7.908999919891357, -7.9028000831604, -7.969200134277344, -8.011899948120117, -8.053199768066406, -8.17389965057373, -8.179699897766113, -8.237500190734863, -8.246299743652344, -8.32759952545166, -8.349800109863281, -8.35219955444336, -8.397700309753418, -8.461400032043457, -8.462599754333496, -8.514599800109863, -8.633700370788574, -8.675299644470215, -5.085999965667725, -8.720199584960938, -8.625900268554688, -8.74209976196289, -6.2118000984191895, -7.177000045776367, -4.813000202178955, -8.045100212097168, -6.585700035095215, -7.462100028991699, -6.49399995803833, -5.596700191497803, -6.750699996948242, -6.241399765014648, -6.058499813079834, -3.654099941253662, -7.241300106048584, -5.214300155639648, -6.836599826812744, -6.981500148773193, -4.205399990081787, -5.155399799346924, -4.315800189971924, -6.601600170135498, -6.533100128173828, -4.117400169372559, -5.330599784851074, -3.9123001098632812, -6.0518999099731445, -5.4679999351501465, -5.426599979400635, -5.6828999519348145, -4.310500144958496, -5.888899803161621, -5.7480998039245605, -5.90939998626709, -4.638999938964844, -5.7484002113342285, -3.852099895477295, -3.908600091934204, -4.522299766540527, -4.984300136566162, -4.383999824523926, -4.915299892425537, -4.681700229644775, -5.421199798583984, -4.349999904632568, -5.339799880981445, -5.25029993057251, -4.715400218963623, -4.916999816894531, -5.134500026702881, -4.9390997886657715, -4.992700099945068, -5.229700088500977, -5.191999912261963, -5.288599967956543, -5.259900093078613, -6.643099784851074, -6.950900077819824, -7.068299770355225, -7.572700023651123, -7.720099925994873, -7.960400104522705, -7.91379976272583, -6.542200088500977, -8.033100128173828, -8.065199851989746, -8.083100318908691, -8.09529972076416, -8.107000350952148, -7.4532999992370605, -8.152099609375, -8.161499977111816, -8.210599899291992, -7.514200210571289, -8.233099937438965, -8.27649974822998, -8.278300285339355, -8.292799949645996, -8.329899787902832, -8.389900207519531, -7.713200092315674, -8.42609977722168, -8.440899848937988, -8.460399627685547, -8.48900032043457, -8.51099967956543, -7.691299915313721, -8.098199844360352, -6.738699913024902, -8.007200241088867, -6.463600158691406, -6.21999979019165, -7.052599906921387, -7.537899971008301, -7.40500020980835, -7.042699813842773, -7.27839994430542, -7.684299945831299, -6.662600040435791, -6.835999965667725, -5.6793999671936035, -6.992700099945068, -5.90500020980835, -6.158100128173828, -6.921500205993652, -5.919899940490723, -5.741399765014648, -4.401000022888184, -6.168799877166748, -5.478700160980225, -4.055500030517578, -5.483500003814697, -5.9517998695373535, -6.183800220489502, -6.089399814605713, -5.157100200653076, -6.2434000968933105, -5.339200019836426, -4.794400215148926, -4.225299835205078, -5.521599769592285, -5.348299980163574, -5.292399883270264, -4.632400035858154, -5.036499977111816, -5.269100189208984, -5.747200012207031, -5.120500087738037, -5.795300006866455, -4.866099834442139, -5.197400093078613, -5.4847002029418945, -4.736100196838379, -5.031300067901611, -5.2855000495910645, -5.280600070953369, -4.9471001625061035, -5.501200199127197, -5.6269001960754395, -5.56850004196167, -5.5971999168396, -5.680500030517578, -5.579599857330322, -5.52209997177124, -5.55649995803833, -6.741799831390381, -7.358500003814697, -7.657299995422363, -7.67110013961792, -7.688499927520752, -7.73859977722168, -7.763400077819824, -7.783299922943115, -7.8078999519348145, -7.810800075531006, -7.843400001525879, -7.857600212097168, -7.864200115203857, -7.869699954986572, -7.900199890136719, -7.910900115966797, -6.489200115203857, -7.976799964904785, -7.990499973297119, -8.011500358581543, -8.015899658203125, -8.021100044250488, -8.058300018310547, -8.053799629211426, -8.064599990844727, -8.073699951171875, -8.084099769592285, -8.0871000289917, -8.115599632263184, -8.121000289916992, -6.605299949645996, -8.071100234985352, -7.57390022277832, -6.709199905395508, -7.3572001457214355, -7.810800075531006, -7.325799942016602, -7.902400016784668, -7.837699890136719, -7.178400039672852, -6.984300136566162, -6.542699813842773, -7.6732001304626465, -7.054599761962891, -6.437300205230713, -5.691800117492676, -5.218699932098389, -6.100500106811523, -7.060999870300293, -7.011000156402588, -5.641499996185303, -6.234899997711182, -7.281099796295166, -6.234000205993652, -6.767199993133545, -5.170499801635742, -6.038300037384033, -6.071000099182129, -6.402100086212158, -5.3343000411987305, -6.930300235748291, -6.051700115203857, -5.93149995803833, -6.0991997718811035, -6.005899906158447, -4.89900016784668, -4.266600131988525, -5.128300189971924, -4.7743000984191895, -5.152900218963623, -4.7667999267578125, -5.355599880218506, -5.50629997253418, -5.912899971008301, -4.781499862670898, -5.103499889373779, -5.103799819946289, -5.1315999031066895, -4.736299991607666, -5.098199844360352, -4.893499851226807, -4.71619987487793, -5.469099998474121, -5.097300052642822, -5.47629976272583, -5.579899787902832, -5.661200046539307, -5.436699867248535, -5.361000061035156, -5.152900218963623, -5.146299839019775, -5.28000020980835, -5.495500087738037, -5.541200160980225, -5.208000183105469, -6.494900226593018, -6.697199821472168, -7.326600074768066, -7.8618998527526855, -7.864699840545654, -7.89900016784668, -7.921899795532227, -7.939700126647949, -7.941400051116943, -7.967599868774414, -6.994900226593018, -7.982699871063232, -8.019200325012207, -8.03320026397705, -8.076299667358398, -8.089900016784668, -8.127300262451172, -8.13010025024414, -8.149299621582031, -8.151100158691406, -8.161299705505371, -7.5914998054504395, -8.183799743652344, -8.188400268554688, -8.163100242614746, -8.120800018310547, -8.209199905395508, -8.233400344848633, -8.24209976196289, -7.365099906921387, -6.792399883270264, -7.558599948883057, -5.193900108337402, -4.11299991607666, -7.08459997177124, -7.828999996185303, -4.462900161743164, -6.758399963378906, -4.2210001945495605, -4.673999786376953, -6.261199951171875, -7.463900089263916, -4.055600166320801, -4.83620023727417, -6.817500114440918, -5.248799800872803, -4.867099761962891, -6.636000156402588, -6.667399883270264, -7.396100044250488, -5.21120023727417, -7.243199825286865, -5.103600025177002, -4.568999767303467, -5.308199882507324, -4.723800182342529, -5.81279993057251, -5.652599811553955, -5.121500015258789, -4.808899879455566, -4.922500133514404, -5.230899810791016, -5.037799835205078, -5.518199920654297, -5.906599998474121, -4.622300148010254, -4.284999847412109, -4.887800216674805, -5.350299835205078, -5.171500205993652, -5.093400001525879, -5.185500144958496, -4.800899982452393, -4.676199913024902, -4.520199775695801, -5.128600120544434, -4.853400230407715, -4.897600173950195, -4.95359992980957, -5.106200218200684, -3.9723000526428223, -4.482900142669678, -5.383200168609619, -5.58519983291626, -5.759200096130371, -5.760000228881836, -5.862599849700928, -5.795199871063232, -6.059999942779541, -6.203100204467773, -6.401299953460693, -6.611400127410889, -6.622600078582764, -6.84060001373291, -6.917099952697754, -6.853600025177002, -7.081500053405762, -5.533999919891357, -6.763899803161621, -7.3302998542785645, -7.344799995422363, -7.358099937438965, -7.358500003814697, -7.394199848175049, -7.392099857330322, -7.222300052642822, -6.946400165557861, -7.468100070953369, -7.502699851989746, -7.525599956512451, -6.876999855041504, -6.0644001960754395, -4.889200210571289, -5.937300205230713, -6.731800079345703, -6.482600212097168, -5.094099998474121, -5.51669979095459, -6.109499931335449, -6.247900009155273, -5.548399925231934, -5.952499866485596, -4.671500205993652, -4.828199863433838, -5.647900104522705, -5.521599769592285, -5.8597002029418945, -3.950900077819824, -5.571000099182129, -4.93779993057251, -5.867700099945068, -4.7221999168396, -5.252399921417236, -4.93779993057251, -4.935400009155273, -5.555799961090088, -5.672299861907959, -4.875899791717529, -4.485899925231934, -4.523900032043457, -5.130199909210205, -5.3871002197265625, -5.333000183105469, -5.339700222015381, -5.130899906158447, -5.513800144195557, -5.218100070953369, -5.396699905395508, -5.440100193023682, -5.404099941253662, -5.448999881744385, -4.59499979019165, -4.776500225067139, -5.152299880981445, -6.067200183868408, -6.27239990234375, -6.933599948883057, -7.096099853515625, -7.311800003051758, -7.447800159454346, -7.464300155639648, -7.506899833679199, -7.5106000900268555, -7.5177001953125, -7.419000148773193, -7.581099987030029, -7.647600173950195, -7.697400093078613, -7.723400115966797, -7.810699939727783, -7.8105998039245605, -7.812399864196777, -7.822199821472168, -7.820799827575684, -7.852399826049805, -7.712699890136719, -7.908400058746338, -7.917799949645996, -7.939199924468994, -7.939799785614014, -3.980799913406372, -5.938700199127197, -6.254000186920166, -6.224800109863281, -6.695000171661377, -6.030399799346924, -7.364699840545654, -7.324699878692627, -6.620500087738037, -6.462399959564209, -6.444900035858154, -6.607399940490723, -5.845399856567383, -5.385700225830078, -6.396599769592285, -5.950799942016602, -4.127799987792969, -6.629499912261963, -5.098700046539307, -5.935400009155273, -6.122399806976318, -6.494500160217285, -5.13640022277832, -6.77239990234375, -6.30649995803833, -4.713600158691406, -3.5803000926971436, -5.166800022125244, -4.709700107574463, -5.64169979095459, -5.422500133514404, -5.774799823760986, -4.645199775695801, -4.789100170135498, -4.862400054931641, -5.85230016708374, -4.678100109100342, -5.079899787902832, -5.031799793243408, -4.956099987030029, -5.289400100708008, -5.344600200653076, -5.249000072479248, -5.231200218200684, -5.507999897003174, -5.691100120544434, -5.569300174713135, -5.641499996185303, -5.6707000732421875, -5.636300086975098, -5.62060022354126, -5.639599800109863, -3.540600061416626, -6.058000087738037, -6.088500022888184, -6.330699920654297, -6.511499881744385, -6.802800178527832, -6.852099895477295, -6.915599822998047, -3.761199951171875, -6.176700115203857, -6.032599925994873, -7.090099811553955, -6.436399936676025, -7.238699913024902, -7.243199825286865, -7.248199939727783, -7.293499946594238, -7.430099964141846, -7.461900234222412, -7.490200042724609, -7.508600234985352, -7.560100078582764, -7.560200214385986, -7.5609002113342285, -7.562600135803223, -7.581999778747559, -7.586699962615967, -7.596199989318848, -7.605999946594238, -7.618800163269043, -7.296500205993652, -5.559199810028076, -6.953999996185303, -4.283400058746338, -6.253600120544434, -6.8790998458862305, -7.0152997970581055, -4.985499858856201, -6.778600215911865, -6.030600070953369, -6.308700084686279, -5.670499801635742, -5.048399925231934, -5.145500183105469, -4.785299777984619, -6.720300197601318, -6.336400032043457, -6.180500030517578, -6.034299850463867, -5.974299907684326, -5.107800006866455, -5.535799980163574, -6.1880998611450195, -4.3282999992370605, -5.252200126647949, -4.4842000007629395, -5.586900234222412, -4.389800071716309, -5.14169979095459, -5.165200233459473, -5.406400203704834, -4.764599800109863, -4.7540998458862305, -5.393700122833252, -4.9421000480651855, -5.515699863433838, -4.736499786376953, -4.950399875640869, -5.559599876403809, -5.201099872589111, -5.5177001953125, -5.283899784088135, -5.492099761962891, -5.486100196838379, -5.516200065612793, -5.507999897003174, -5.5100998878479, -5.747200012207031, -6.427599906921387, -6.678699970245361, -6.6996002197265625, -6.974400043487549, -7.018499851226807, -7.06790018081665, -7.2108001708984375, -7.237100124359131, -7.278900146484375, -7.304999828338623, -7.254300117492676, -7.384699821472168, -7.434000015258789, -7.434599876403809, -5.643400192260742, -7.459000110626221, -7.530200004577637, -7.534299850463867, -5.729800224304199, -7.591400146484375, -7.625899791717529, -7.63040018081665, -7.67549991607666, -7.218200206756592, -6.286900043487549, -7.71150016784668, -7.736000061035156, -7.731200218200684, -7.759399890899658, -7.361299991607666, -7.116000175476074, -6.981800079345703, -7.237400054931641, -4.822400093078613, -6.532400131225586, -6.5269999504089355, -4.732600212097168, -5.780600070953369, -5.261099815368652, -5.2677998542785645, -5.968599796295166, -4.60230016708374, -7.083499908447266, -6.367599964141846, -6.657599925994873, -5.7804999351501465, -5.387199878692627, -6.361800193786621, -6.305799961090088, -6.1483001708984375, -5.521500110626221, -5.651299953460693, -6.147900104522705, -6.251800060272217, -5.952300071716309, -5.610799789428711, -5.31879997253418, -5.356800079345703, -4.834000110626221, -5.265999794006348, -5.89139986038208, -5.059899806976318, -5.604599952697754, -4.942699909210205, -5.813899993896484, -5.774499893188477, -5.752600193023682, -5.5746002197265625, -5.39109992980957, -5.464900016784668, -5.384500026702881, -5.3632001876831055, -5.1321001052856445, -5.370999813079834, -5.477399826049805, -5.628900051116943, -5.504000186920166, -5.52239990234375, -5.543000221252441, -5.623300075531006, -5.637199878692627, -6.252999782562256, -6.224699974060059, -6.327700138092041, -6.285699844360352, -6.47130012512207, -6.525000095367432, -6.718800067901611, -6.922100067138672, -6.96999979019165, -7.167699813842773, -7.03439998626709, -7.245299816131592, -7.290599822998047, -7.27239990234375, -7.399499893188477, -7.398099899291992, -7.40339994430542, -7.408999919891357, -7.424200057983398, -7.454899787902832, -7.457900047302246, -7.461900234222412, -7.406099796295166, -7.520899772644043, -6.6656999588012695, -7.551700115203857, -7.549200057983398, -6.652699947357178, -7.577300071716309, -7.511300086975098, -6.2571001052856445, -6.6132001876831055, -7.347799777984619, -5.558700084686279, -5.952199935913086, -5.87470006942749, -6.986199855804443, -6.057199954986572, -6.692299842834473, -6.20959997177124, -6.924799919128418, -4.348499774932861, -6.020400047302246, -7.07889986038208, -6.522600173950195, -4.7494001388549805, -6.352399826049805, -6.713200092315674, -5.555200099945068, -5.213399887084961, -5.280099868774414, -4.680300235748291, -5.853799819946289, -5.833600044250488, -6.23330020904541, -5.2378997802734375, -5.319799900054932, -6.356500148773193, -5.003600120544434, -4.920100212097168, -5.29010009765625, -4.551700115203857, -5.888500213623047, -5.972099781036377, -4.901800155639648, -4.7769999504089355, -5.084799766540527, -5.206299781799316, -5.38730001449585, -5.51170015335083, -5.419300079345703, -5.779399871826172, -5.417099952697754, -5.778600215911865, -5.571199893951416, -5.830699920654297, -5.741399765014648, -5.599699974060059, -5.757199764251709, -5.798299789428711, -5.774400234222412, -6.006400108337402, -6.419300079345703, -6.393199920654297, -6.638299942016602, -6.749199867248535, -6.889999866485596, -7.017399787902832, -7.057400226593018, -7.148399829864502, -7.1504998207092285, -6.865200042724609, -6.211599826812744, -7.27810001373291, -7.283599853515625, -7.286099910736084, -7.326499938964844, -7.343100070953369, -7.35230016708374, -7.409900188446045, -7.456200122833252, -7.463900089263916, -7.462200164794922, -6.138899803161621, -7.51200008392334, -7.526199817657471, -7.559999942779541, -7.591700077056885, -7.6072001457214355, -7.586400032043457, -7.6743998527526855, -7.111800193786621, -5.8618998527526855, -6.679500102996826, -7.011099815368652, -6.630799770355225, -5.549200057983398, -6.808700084686279, -5.290800094604492, -6.356900215148926, -6.023799896240234, -6.013700008392334, -6.905700206756592, -5.72160005569458, -5.881700038909912, -6.592299938201904, -6.428800106048584, -4.143199920654297, -5.269899845123291, -6.398600101470947, -6.397299766540527, -5.730599880218506, -4.6442999839782715, -5.892600059509277, -5.434999942779541, -4.45550012588501, -4.7459001541137695, -5.842899799346924, -4.84660005569458, -5.435999870300293, -4.933700084686279, -4.363900184631348, -5.091000080108643, -5.852700233459473, -5.570499897003174, -5.319300174713135, -5.046000003814697, -5.117800235748291, -4.926799774169922, -5.270999908447266, -5.22189998626709, -4.846499919891357, -5.099100112915039, -5.089399814605713, -5.224899768829346, -5.385200023651123, -5.302199840545654, -5.549699783325195, -5.5019001960754395, -5.616600036621094, -5.645999908447266, -6.35260009765625, -6.898900032043457, -6.966300010681152, -7.092700004577637, -7.142399787902832, -7.149799823760986, -7.1504998207092285, -7.161600112915039, -7.205599784851074, -7.286499977111816, -7.314000129699707, -7.32420015335083, -7.335999965667725, -7.203100204467773, -7.375899791717529, -7.3850998878479, -7.392600059509277, -7.423699855804443, -7.473499774932861, -7.499100208282471, -7.519599914550781, -7.521599769592285, -7.521900177001953, -7.5258002281188965, -7.534800052642822, -7.575399875640869, -7.589099884033203, -7.674099922180176, -7.665800094604492, -7.632999897003174, -6.5432000160217285, -6.331500053405762, -6.996500015258789, -6.914000034332275, -6.969799995422363, -6.367400169372559, -6.447500228881836, -6.505899906158447, -7.162300109863281, -7.202000141143799, -7.124599933624268, -4.836400032043457, -6.2453999519348145, -7.109399795532227, -4.2565999031066895, -5.998199939727783, -6.559100151062012, -6.5167999267578125, -5.991700172424316, -6.76140022277832, -5.751200199127197, -5.681099891662598, -6.7484002113342285, -5.296599864959717, -6.508800029754639, -6.571100234985352, -4.750899791717529, -6.481900215148926, -4.119699954986572, -5.996300220489502, -4.81220006942749, -5.218400001525879, -5.848700046539307, -6.060200214385986, -4.519000053405762, -5.4131999015808105, -5.793399810791016, -4.821000099182129, -5.880899906158447, -5.185100078582764, -4.984399795532227, -5.490300178527832, -5.317999839782715, -5.446199893951416, -5.0472002029418945, -4.941299915313721, -5.674499988555908, -5.264500141143799, -5.484799861907959, -5.210700035095215, -5.455399990081787, -5.4704999923706055, -5.293700218200684, -5.354000091552734, -5.594799995422363, -5.477099895477295, -5.659599781036377, -5.714799880981445, -5.699699878692627, -6.51639986038208, -6.631999969482422, -6.8420000076293945, -7.14769983291626, -7.225399971008301, -7.236400127410889, -7.314599990844727, -7.420000076293945, -7.525000095367432, -7.539299964904785, -7.674200057983398, -7.676799774169922, -7.689000129699707, -7.699699878692627, -7.704599857330322, -7.718900203704834, -7.755099773406982, -7.770899772644043, -7.789700031280518, -7.801400184631348, -7.746099948883057, -7.819900035858154, -7.845900058746338, -7.863699913024902, -7.869900226593018, -7.900400161743164, -7.919099807739258, -7.463900089263916, -6.276700019836426, -6.9822001457214355, -7.272500038146973, -5.1707000732421875, -7.496699810028076, -7.214900016784668, -6.39300012588501, -7.44350004196167, -7.123700141906738, -7.341300010681152, -5.258600234985352, -7.178400039672852, -4.837500095367432, -3.697499990463257, -6.477799892425537, -7.19290018081665, -5.798299789428711, -7.072999954223633, -7.135700225830078, -7.205900192260742, -6.298999786376953, -7.0782999992370605, -6.616199970245361, -6.713200092315674, -4.973899841308594, -5.219600200653076, -6.195400238037109, -5.952300071716309, -6.452099800109863, -5.936399936676025, -5.047699928283691, -6.061600208282471, -4.879799842834473, -6.3354997634887695, -5.31879997253418, -5.422500133514404, -5.596399784088135, -4.339799880981445, -5.255300045013428, -4.914400100708008, -4.743000030517578, -5.870100021362305, -5.342100143432617, -5.965700149536133, -4.811200141906738, -5.399400234222412, -5.209099769592285, -5.425600051879883, -5.827300071716309, -5.702400207519531, -5.6219000816345215, -5.652400016784668, -5.574100017547607, -5.674300193786621, -5.67579984664917, -5.791800022125244, -5.828199863433838, -6.6930999755859375, -6.6803998947143555, -6.775100231170654, -6.880300045013428, -6.897200107574463, -6.939499855041504, -6.939599990844727, -6.954699993133545, -6.984300136566162, -7.087299823760986, -7.186800003051758, -7.25, -7.280399799346924, -7.281899929046631, -7.293900012969971, -7.38100004196167, -7.385799884796143, -7.4054999351501465, -7.44350004196167, -7.454100131988525, -7.51140022277832, -5.993000030517578, -7.564799785614014, -7.596399784088135, -7.600299835205078, -7.1855998039245605, -7.65749979019165, -7.661200046539307, -7.68149995803833, -7.683899879455566, -6.797900199890137, -6.966100215911865, -6.978099822998047, -6.630199909210205, -6.668700218200684, -6.941100120544434, -6.320499897003174, -6.567999839782715, -6.907899856567383, -6.635499954223633, -6.048500061035156, -5.790299892425537, -6.8649001121521, -6.36329984664917, -5.79449987411499, -6.108500003814697, -3.7690000534057617, -4.247900009155273, -6.343599796295166, -5.914700031280518, -6.27269983291626, -5.0071001052856445, -4.51800012588501, -6.486400127410889, -4.401100158691406, -5.497099876403809, -4.977700233459473, -5.386300086975098, -6.072800159454346, -5.801499843597412, -4.89900016784668, -5.583399772644043, -4.740099906921387, -5.117700099945068, -5.553199768066406, -5.479499816894531, -5.303400039672852, -5.760499954223633, -5.259399890899658, -5.435299873352051, -5.651899814605713, -5.242099761962891, -5.473700046539307, -5.4944000244140625, -5.823500156402588, -5.414999961853027, -5.5131001472473145, -5.485899925231934, -5.508600234985352, -5.632500171661377, -5.688199996948242, -5.7104997634887695, -5.749300003051758, -6.025300025939941, -6.372399806976318, -6.3734002113342285, -6.801000118255615, -6.937300205230713, -6.9415998458862305, -7.010799884796143, -7.01170015335083, -7.107399940490723, -7.136499881744385, -7.191999912261963, -7.198999881744385, -7.204800128936768, -7.181000232696533, -7.232699871063232, -7.23769998550415, -7.235300064086914, -7.318699836730957, -7.320400238037109, -7.34060001373291, -7.353300094604492, -7.3541998863220215, -7.3607001304626465, -6.997799873352051, -7.362400054931641, -7.357800006866455, -7.379700183868408, -7.404600143432617, -7.438899993896484, -7.469399929046631, -7.023399829864502, -5.955599784851074, -6.733699798583984, -7.121300220489502, -7.091599941253662, -7.052599906921387, -5.749499797821045, -7.2820000648498535, -6.463099956512451, -6.478600025177002, -6.741300106048584, -6.78980016708374, -6.845799922943115, -5.558000087738037, -6.726500034332275, -6.9720001220703125, -5.626299858093262, -6.920300006866455, -6.522600173950195, -5.317399978637695, -6.672299861907959, -6.156000137329102, -4.134799957275391, -4.2606000900268555, -5.122900009155273, -5.758699893951416, -4.859099864959717, -5.173600196838379, -5.395699977874756, -5.375699996948242, -6.1774001121521, -5.371300220489502, -5.430699825286865, -5.187600135803223, -5.326200008392334, -5.844200134277344, -5.678400039672852, -5.708000183105469, -5.556399822235107, -5.3003997802734375, -5.523799896240234, -5.61359977722168, -5.35129976272583, -5.55019998550415, -5.413599967956543, -5.6143999099731445, -5.690800189971924, -5.65339994430542, -5.751500129699707, -5.751299858093262, -4.795599937438965, -5.773799896240234, -6.551300048828125, -6.7855000495910645, -6.81820011138916, -6.8592000007629395, -6.8734002113342285, -6.877600193023682, -6.878300189971924, -6.957799911499023, -6.992199897766113, -7.124300003051758, -7.134799957275391, -7.145299911499023, -7.160600185394287, -7.226900100708008, -7.240099906921387, -7.287300109863281, -7.331200122833252, -7.349599838256836, -7.359099864959717, -7.131400108337402, -7.394700050354004, -7.398900032043457, -7.399799823760986, -7.417200088500977, -7.416500091552734, -7.428100109100342, -7.432199954986572, -7.44980001449585, -6.582900047302246, -5.3256001472473145, -6.882900238037109, -5.828199863433838, -5.62060022354126, -7.01140022277832, -5.642099857330322, -5.163000106811523, -6.482900142669678, -5.9781999588012695, -6.855599880218506, -4.994999885559082, -6.39900016784668, -6.700900077819824, -6.045199871063232, -6.004499912261963, -5.48360013961792, -6.483399868011475, -6.033199787139893, -6.114999771118164, -5.111199855804443, -4.846399784088135, -6.21019983291626, -6.297999858856201, -5.9679999351501465, -4.017000198364258, -4.443900108337402, -4.5630998611450195, -4.830599784851074, -6.155300140380859, -4.531499862670898, -5.251100063323975, -5.859899997711182, -4.815299987792969, -5.096099853515625, -5.503699779510498, -5.79010009765625, -5.2444000244140625, -5.03879976272583, -5.211400032043457, -5.474100112915039, -5.044899940490723, -5.16510009765625, -4.986100196838379, -5.348700046539307, -5.384300231933594, -5.644599914550781, -5.415900230407715, -5.5817999839782715, -5.544400215148926, -5.960899829864502, -6.131400108337402, -6.235599994659424, -6.260200023651123, -5.823699951171875, -6.035999774932861, -6.323299884796143, -6.470600128173828, -6.422800064086914, -6.505099773406982, -6.594600200653076, -6.706900119781494, -6.726500034332275, -6.7494001388549805, -6.8246002197265625, -6.831900119781494, -6.854899883270264, -6.904699802398682, -6.904200077056885, -6.914299964904785, -6.915900230407715, -6.925099849700928, -6.938199996948242, -5.257800102233887, -6.964000225067139, -6.981800079345703, -7.082200050354004, -7.08650016784668, -7.122099876403809, -7.166100025177002, -6.45419979095459, -6.236800193786621, -6.482800006866455, -6.825399875640869, -5.244800090789795, -6.247399806976318, -5.56790018081665, -6.543399810791016, -6.511899948120117, -5.815499782562256, -6.014200210571289, -6.357999801635742, -4.6468000411987305, -6.555799961090088, -5.279200077056885, -6.17609977722168, -5.467199802398682, -6.2357001304626465, -5.366000175476074, -6.3221001625061035, -6.157899856567383, -5.962200164794922, -5.958899974822998, -5.486999988555908, -5.477399826049805, -5.093100070953369, -5.120100021362305, -5.28410005569458, -5.102700233459473, -5.1971001625061035, -5.232399940490723, -5.243800163269043, -5.659999847412109, -5.657299995422363, -5.422999858856201, -5.3653998374938965, -5.55679988861084, -5.78380012512207, -5.453700065612793, -5.177999973297119, -5.734099864959717, -5.47160005569458, -5.528800010681152, -5.559500217437744, -5.623899936676025, -5.580900192260742, -5.660600185394287, -5.698699951171875, -5.680200099945068, -5.506400108337402, -5.556099891662598, -5.973999977111816, -6.035200119018555, -6.250100135803223, -6.385499954223633, -6.4492998123168945, -6.644199848175049, -6.72599983215332, -6.757900238037109, -6.760499954223633, -6.817500114440918, -6.839700222015381, -6.8354997634887695, -6.878799915313721, -6.900599956512451, -6.910900115966797, -6.946300029754639, -6.952000141143799, -6.979800224304199, -6.95989990234375, -7.07889986038208, -7.007800102233887, -7.188799858093262, -7.197400093078613, -7.223700046539307, -7.249000072479248, -7.255799770355225, -7.269800186157227, -7.2941999435424805, -6.5192999839782715, -6.4496002197265625, -5.869200229644775, -6.340099811553955, -5.737599849700928, -5.645899772644043, -7.008999824523926, -6.636899948120117, -5.762400150299072, -6.095099925994873, -5.677700042724609, -5.815299987792969, -5.958399772644043, -6.362199783325195, -6.157299995422363, -5.952099800109863, -5.458000183105469, -6.447999954223633, -4.906700134277344, -4.970399856567383, -5.066699981689453, -5.205699920654297, -5.2322998046875, -5.94379997253418, -4.989200115203857, -4.830399990081787, -5.22790002822876, -5.096499919891357, -5.132199764251709, -5.295499801635742, -5.347700119018555, -5.631800174713135, -5.563199996948242, -5.6234002113342285, -5.458199977874756, -5.61269998550415, -5.547800064086914, -5.656400203704834, -5.704500198364258, -5.720699787139893, -5.763700008392334, -5.75540018081665, -5.997000217437744, -6.14300012588501, -6.288300037384033, -6.328800201416016, -6.347700119018555, -6.440499782562256, -5.174799919128418, -6.5467000007629395, -6.631999969482422, -6.688700199127197, -6.741300106048584, -6.747799873352051, -6.790800094604492, -6.794899940490723, -6.8043999671936035, -6.894499778747559, -6.962399959564209, -6.987299919128418, -7.013899803161621, -7.039599895477295, -7.047100067138672, -7.099699974060059, -7.112199783325195, -7.1508002281188965, -7.186699867248535, -7.19320011138916, -7.212600231170654, -7.215700149536133, -7.219699859619141, -7.223700046539307, -5.03000020980835, -7.03249979019165, -5.389800071716309, -6.316999912261963, -6.395999908447266, -6.076300144195557, -5.190000057220459, -4.526500225067139, -5.2769999504089355, -5.6585001945495605, -3.9107000827789307, -6.572400093078613, -6.252299785614014, -6.661799907684326, -6.479400157928467, -5.665200233459473, -5.71019983291626, -5.678599834442139, -4.968100070953369, -6.389900207519531, -5.0346999168396, -6.283199787139893, -4.020400047302246, -5.924300193786621, -5.80620002746582, -4.590400218963623, -5.407800197601318, -4.822400093078613, -5.0046000480651855, -4.934700012207031, -5.2718000411987305, -5.222599983215332, -5.718999862670898, -5.129899978637695, -5.018599987030029, -5.203999996185303, -5.341899871826172, -5.5447998046875, -5.586999893188477, -5.597099781036377, -5.594099998474121, -5.596099853515625, -5.690299987792969, -3.983099937438965, -4.228300094604492, -4.963200092315674, -5.679500102996826, -5.981400012969971, -6.067599773406982, -6.161399841308594, -6.310800075531006, -6.3140997886657715, -6.30109977722168, -6.374499797821045, -6.428299903869629, -6.521999835968018, -6.541100025177002, -6.602399826049805, -6.610499858856201, -6.638599872589111, -6.671599864959717, -6.715199947357178, -6.361800193786621, -6.092899799346924, -5.7399001121521, -6.80649995803833, -6.873899936676025, -6.9131999015808105, -6.992499828338623, -7.002799987792969, -7.007199764251709, -7.016300201416016, -7.022900104522705, -6.3221001625061035, -5.029799938201904, -4.511199951171875, -6.47160005569458, -6.5904998779296875, -5.946800231933594, -6.11299991607666, -3.5722999572753906, -6.307300090789795, -6.109799861907959, -5.480500221252441, -4.215700149536133, -5.3069000244140625, -5.410799980163574, -5.748499870300293, -5.084400177001953, -5.10230016708374, -5.719799995422363, -4.8007001876831055, -5.623799800872803, -5.264900207519531, -5.400300025939941, -5.360300064086914, -4.495100021362305, -4.673299789428711, -4.678100109100342, -4.5395002365112305, -5.64300012588501, -5.349800109863281, -5.347499847412109, -5.287700176239014, -5.549699783325195, -5.562699794769287, -5.362400054931641, -5.480599880218506, -5.383999824523926, -5.433899879455566, -5.503200054168701, -5.517300128936768, -5.461299896240234, -5.495500087738037, -6.315800189971924, -6.473599910736084, -6.487800121307373, -6.577700138092041, -6.623000144958496, -6.671999931335449, -6.67609977722168, -6.680699825286865, -6.707699775695801, -6.6645002365112305, -6.755799770355225, -6.775700092315674, -6.795000076293945, -6.826700210571289, -6.879300117492676, -6.905799865722656, -6.927999973297119, -6.940800189971924, -6.955699920654297, -6.9608001708984375, -7.03380012512207, -7.0584001541137695, -7.094399929046631, -7.097099781036377, -7.1143999099731445, -7.122600078582764, -7.125400066375732, -7.170300006866455, -7.189899921417236, -7.194799900054932, -6.918000221252441, -5.835700035095215, -5.868000030517578, -6.716599941253662, -6.5447001457214355, -6.334700107574463, -6.93149995803833, -6.842800140380859, -5.093100070953369, -6.337500095367432, -6.731299877166748, -4.914100170135498, -6.410200119018555, -6.566299915313721, -6.725900173187256, -5.632699966430664, -6.449399948120117, -5.870500087738037, -6.521999835968018, -6.530300140380859, -4.553500175476074, -4.534999847412109, -6.065000057220459, -6.253900051116943, -6.3094000816345215, -5.445899963378906, -5.84060001373291, -5.4903998374938965, -5.9847002029418945, -5.669099807739258, -4.6579999923706055, -5.196800231933594, -5.735499858856201, -6.038899898529053, -5.23769998550415, -5.308800220489502, -5.986299991607666, -5.638199806213379, -5.634900093078613, -5.712200164794922, -5.6717000007629395, -5.5279998779296875, -5.336900234222412, -5.399199962615967, -5.628499984741211, -5.706699848175049, -5.821499824523926, -5.799200057983398, -5.843299865722656, -5.836999893188477], \"loglift\": [30.0, 29.0, 28.0, 27.0, 26.0, 25.0, 24.0, 23.0, 22.0, 21.0, 20.0, 19.0, 18.0, 17.0, 16.0, 15.0, 14.0, 13.0, 12.0, 11.0, 10.0, 9.0, 8.0, 7.0, 6.0, 5.0, 4.0, 3.0, 2.0, 1.0, 2.2901, 2.2886, 2.2844, 2.2735, 2.2735, 2.2688, 2.2682, 2.268, 2.2643, 2.2643, 2.2626, 2.2613, 2.2601, 2.256, 2.2558, 2.2536, 2.2533, 2.25, 2.2491, 2.249, 2.247, 2.2441, 2.2441, 2.2415, 2.2353, 2.2329, 2.2322, 2.2303, 2.2298, 2.2289, 2.2243, 2.2009, 2.1258, 2.2177, 2.1395, 2.1759, 2.1105, 2.0305, 2.0854, 2.0349, 1.9924, 1.6872, 2.1236, 1.8642, 2.0702, 2.0824, 1.6476, 1.7419, 1.5426, 1.9911, 1.9689, 1.4322, 1.6543, 1.2647, 1.8252, 1.6289, 1.6109, 1.6865, 1.1918, 1.7177, 1.6374, 1.6839, 1.0898, 1.6039, 0.7025, 0.722, 1.0101, 1.1492, 0.7092, 0.9979, 0.7179, 1.3228, 0.3553, 1.24, 1.1105, 0.4103, 0.3944, 0.6498, 0.1015, 0.2215, 0.702, 0.5435, 0.7393, 0.4298, 2.4479, 2.4468, 2.4447, 2.4353, 2.4322, 2.4248, 2.4248, 2.4223, 2.4223, 2.4211, 2.4204, 2.4199, 2.4194, 2.4183, 2.4176, 2.4156, 2.4152, 2.4142, 2.4142, 2.4122, 2.4121, 2.4114, 2.4097, 2.4067, 2.4049, 2.4048, 2.404, 2.4029, 2.4013, 2.4, 2.3949, 2.3974, 2.325, 2.3837, 2.2819, 2.2341, 2.2977, 2.3341, 2.3073, 2.2537, 2.2765, 2.3359, 2.1575, 2.1856, 1.965, 2.1975, 1.975, 2.0233, 2.1782, 1.9323, 1.7912, 1.3896, 1.8909, 1.6634, 1.1587, 1.6417, 1.7447, 1.8289, 1.7723, 1.3345, 1.7685, 1.285, 0.941, 0.4799, 1.2939, 1.0599, 0.9998, 0.4607, 0.7759, 0.8156, 1.2614, 0.6082, 1.2903, 0.1746, 0.5472, 0.8973, -0.1816, 0.0943, 0.45, 0.4091, -0.3165, 0.5267, 0.753, 0.4326, 0.5177, 0.8751, 0.2047, -0.2106, -0.0068, 2.7115, 2.7002, 2.6916, 2.6911, 2.6898, 2.6888, 2.688, 2.6872, 2.6863, 2.6861, 2.6849, 2.6844, 2.6841, 2.6835, 2.6826, 2.6821, 2.6814, 2.6793, 2.6787, 2.6777, 2.6775, 2.6773, 2.6755, 2.6753, 2.6752, 2.6748, 2.6742, 2.6741, 2.6727, 2.6723, 2.6176, 2.6697, 2.6304, 2.5408, 2.6038, 2.6479, 2.5856, 2.6563, 2.6388, 2.5198, 2.4822, 2.3774, 2.6066, 2.4609, 2.2949, 2.0866, 1.8778, 2.1367, 2.3996, 2.3812, 1.8995, 2.0923, 2.4641, 2.0519, 2.264, 1.5392, 1.926, 1.9355, 2.0733, 1.5113, 2.2608, 1.743, 1.6445, 1.7306, 1.6705, 0.8853, 0.364, 0.9866, 0.718, 0.875, 0.5446, 1.0077, 1.0795, 1.4621, 0.3441, 0.6253, 0.586, 0.6039, -0.031, 0.4342, 0.1471, -0.1617, 0.8918, 0.3023, 0.8314, 0.9999, 1.0938, 0.648, 0.4886, 0.0241, -0.0531, -0.0658, 0.4426, 0.6751, 2.7953, 2.7897, 2.7871, 2.7745, 2.757, 2.7568, 2.7553, 2.7543, 2.7535, 2.7534, 2.7522, 2.7516, 2.7514, 2.7496, 2.7489, 2.7467, 2.746, 2.7439, 2.7438, 2.7427, 2.7426, 2.742, 2.7411, 2.7407, 2.7404, 2.7404, 2.7398, 2.7392, 2.7377, 2.7372, 2.7352, 2.7238, 2.7273, 2.6185, 2.5705, 2.6621, 2.7174, 2.3971, 2.6184, 2.3109, 2.3586, 2.5356, 2.6618, 2.1718, 2.284, 2.5683, 2.3078, 2.2185, 2.5242, 2.5112, 2.6492, 2.1083, 2.5874, 2.0133, 1.813, 2.0041, 1.7926, 2.1174, 2.0387, 1.8408, 1.699, 1.7218, 1.8518, 1.5869, 1.8324, 2.0437, 1.1684, 0.9292, 1.3101, 1.4796, 1.2367, 1.0801, 1.1865, 0.6914, 0.4495, 0.1104, 0.9861, 0.1872, -0.1923, -0.3991, 0.6293, 2.8359, 2.8353, 2.833, 2.8321, 2.8312, 2.8312, 2.8306, 2.8303, 2.8292, 2.8281, 2.8261, 2.8236, 2.8235, 2.8202, 2.8189, 2.8178, 2.8157, 2.814, 2.8115, 2.8098, 2.8094, 2.809, 2.8089, 2.808, 2.8078, 2.8074, 2.8071, 2.8059, 2.8048, 2.804, 2.7998, 2.7868, 2.7593, 2.7671, 2.7857, 2.7646, 2.6879, 2.682, 2.726, 2.7319, 2.6412, 2.6467, 2.4301, 2.4506, 2.5441, 2.5139, 2.5731, 2.037, 2.4075, 2.1193, 2.5092, 1.8702, 2.1507, 1.8753, 1.8171, 2.2626, 2.2427, 0.9365, 0.0686, 0.1067, 0.7844, 1.3724, 1.1848, 0.9815, -0.4256, 1.5617, -0.1775, -0.0853, 0.4095, -0.1899, 0.4867, 2.8357, 2.8353, 2.8343, 2.8297, 2.826, 2.8191, 2.8159, 2.8108, 2.807, 2.8065, 2.8051, 2.805, 2.8048, 2.804, 2.8027, 2.8003, 2.7985, 2.7975, 2.7939, 2.7939, 2.7938, 2.7934, 2.7933, 2.7921, 2.792, 2.7895, 2.7888, 2.7881, 2.7881, 2.7877, 2.7825, 2.7658, 2.7642, 2.7619, 2.7399, 2.7784, 2.7754, 2.7402, 2.7191, 2.7141, 2.7227, 2.6406, 2.5616, 2.6203, 2.5178, 2.0861, 2.6124, 2.2638, 2.4583, 2.4597, 2.5473, 2.0757, 2.5801, 2.3848, 1.6266, 1.0503, 1.6921, 1.1027, 1.7613, 1.4231, 1.7784, 0.4479, 0.6105, 0.6298, 1.8333, -0.1236, 0.4525, 0.2796, 0.0845, 0.6422, 0.3909, -0.0348, -0.1056, 0.7996, 1.3155, 0.7008, 1.0478, 0.9635, 0.5616, 0.2926, 0.5767, 2.9336, 2.9281, 2.9276, 2.9254, 2.9232, 2.9188, 2.9179, 2.9167, 2.9165, 2.9139, 2.9137, 2.9124, 2.9112, 2.9092, 2.909, 2.9089, 2.9077, 2.9035, 2.9021, 2.9015, 2.9009, 2.899, 2.899, 2.899, 2.8988, 2.8982, 2.898, 2.8977, 2.8972, 2.8968, 2.8812, 2.785, 2.8573, 2.6576, 2.7658, 2.8147, 2.8296, 2.5333, 2.7919, 2.6794, 2.6961, 2.5452, 2.3277, 2.3368, 2.2157, 2.7021, 2.5418, 2.4033, 2.3199, 2.2658, 1.7489, 1.974, 2.3752, 1.013, 1.6227, 0.6928, 1.6918, 0.3155, 1.1579, 1.1049, 1.3326, 0.361, 0.3391, 1.2505, 0.4574, 1.4357, -0.1059, 0.0903, 1.4907, 0.3012, 1.231, 0.0276, 0.8284, 0.5418, 0.5622, 0.2762, 0.3395, 2.957, 2.9508, 2.9473, 2.9469, 2.9418, 2.9408, 2.9397, 2.9361, 2.9354, 2.9342, 2.9334, 2.9327, 2.931, 2.9294, 2.9293, 2.9289, 2.9285, 2.926, 2.9258, 2.9237, 2.9236, 2.9223, 2.9221, 2.9203, 2.9202, 2.9198, 2.9187, 2.9177, 2.9173, 2.9166, 2.9117, 2.9052, 2.9013, 2.9056, 2.7831, 2.8565, 2.8542, 2.7374, 2.796, 2.7414, 2.7181, 2.7836, 2.5889, 2.8824, 2.7763, 2.8069, 2.6423, 2.5026, 2.7145, 2.6815, 2.5977, 2.3438, 2.2781, 2.4375, 2.4563, 2.2702, 2.0184, 1.669, 1.4999, 0.9014, 1.2519, 1.9942, 0.7931, 1.4769, 0.0979, 1.6957, 1.6016, 1.5452, 1.0824, 0.61, 0.7801, 0.4651, 0.3814, -0.5775, -0.2454, 0.2124, 0.879, -0.327, -0.211, -0.8378, 0.2913, 0.0983, 3.0687, 3.0685, 3.0677, 3.0674, 3.0658, 3.065, 3.0617, 3.0575, 3.0564, 3.0509, 3.0506, 3.0488, 3.0474, 3.0451, 3.0436, 3.0436, 3.0435, 3.0433, 3.0427, 3.0416, 3.0415, 3.0413, 3.0411, 3.039, 3.0382, 3.0377, 3.0376, 3.0374, 3.0366, 3.0359, 3.0281, 2.9911, 3.0133, 2.729, 2.7786, 2.7266, 2.9358, 2.7174, 2.8435, 2.6943, 2.88, 1.972, 2.5426, 2.9285, 2.6961, 1.8949, 2.5876, 2.7477, 2.1187, 1.898, 1.8885, 1.4932, 2.1704, 2.1423, 2.4283, 1.4694, 1.5058, 2.5158, 0.9346, 0.7696, 1.143, 0.0028, 1.9101, 1.9866, 0.2239, -0.1464, 0.0922, 0.286, 0.5403, 0.8682, 0.4939, 1.5348, -0.1056, 1.2007, -0.0388, 1.2862, 0.6307, -0.5591, 0.3576, 0.7181, -1.0691, 3.0876, 3.0828, 3.0816, 3.0794, 3.0773, 3.0744, 3.0713, 3.0703, 3.0678, 3.0677, 3.0649, 3.064, 3.0638, 3.0636, 3.0635, 3.0622, 3.0616, 3.0612, 3.0592, 3.0574, 3.0571, 3.0571, 3.0565, 3.0552, 3.0546, 3.0532, 3.0518, 3.0511, 3.0511, 3.048, 3.0368, 3.0075, 3.0165, 3.0155, 2.9907, 2.8695, 2.9735, 2.772, 2.9049, 2.853, 2.8333, 2.9762, 2.6403, 2.6818, 2.8695, 2.8019, 2.0088, 2.1673, 2.5973, 2.5943, 2.1451, 1.3349, 2.1966, 1.8217, 0.7214, 0.9828, 2.0452, 0.9377, 1.565, 0.9246, 0.1907, 0.9101, 1.9052, 1.4704, 0.9792, 0.5036, 0.6268, 0.1664, 0.844, 0.7057, -0.1412, 0.2423, -0.0488, 0.3075, 0.6027, 0.0092, 1.0301, 0.5827, 0.9485, 0.9464, 3.0877, 3.0781, 3.0765, 3.073, 3.0718, 3.0716, 3.0716, 3.0713, 3.0699, 3.0674, 3.0664, 3.0661, 3.0657, 3.0646, 3.0643, 3.0639, 3.0637, 3.0625, 3.0606, 3.0596, 3.0587, 3.0586, 3.0586, 3.0585, 3.0581, 3.0563, 3.0555, 3.0518, 3.0518, 3.0515, 3.0396, 2.9937, 3.0182, 3.0138, 2.993, 2.8974, 2.8956, 2.8878, 2.9985, 3.0006, 2.9769, 2.4247, 2.7572, 2.9544, 1.7916, 2.4906, 2.7233, 2.6952, 2.4105, 2.7822, 2.2617, 2.192, 2.7654, 1.8832, 2.5915, 2.6193, 1.2502, 2.5277, 0.4349, 2.0836, 0.9784, 1.3215, 1.901, 2.1031, 0.1863, 1.2111, 1.6652, 0.3932, 1.7082, 0.7295, 0.4151, 1.0652, 0.6822, 0.8749, -0.0066, -0.3107, 1.2116, 0.2377, 0.7426, -0.1176, 0.5325, 0.4652, -0.1167, -0.2284, 0.603, -0.1358, 0.89, 1.0811, -0.1501, 3.1171, 3.1146, 3.1112, 3.1033, 3.1008, 3.1005, 3.0978, 3.0939, 3.0896, 3.089, 3.0827, 3.0826, 3.082, 3.0815, 3.0812, 3.0805, 3.0786, 3.0777, 3.0767, 3.076, 3.0758, 3.075, 3.0735, 3.0724, 3.0721, 3.0673, 3.0652, 3.0614, 3.057, 3.056, 3.0532, 2.9689, 3.0485, 3.0243, 2.9559, 3.039, 3.0074, 3.0274, 2.7644, 2.9955, 2.5482, 2.3027, 2.8231, 2.9736, 2.5899, 2.9275, 2.93, 2.9465, 2.5865, 2.8823, 2.6689, 2.7124, 1.7856, 1.9148, 2.4164, 2.2537, 2.5304, 2.1718, 1.5641, 2.0676, 1.056, 2.2825, 1.3583, 1.4232, 1.5825, 0.2147, 1.0849, 0.618, 0.2976, 1.6831, 0.9791, 1.7953, -0.1806, 0.6214, 0.1023, 0.3099, 1.2233, 0.8472, 0.4928, 0.3958, -0.0818, 0.1754, -0.1736, 0.4221, 0.1035, 3.1334, 3.1327, 3.1317, 3.1293, 3.1289, 3.1279, 3.1279, 3.1275, 3.1268, 3.124, 3.1209, 3.1189, 3.1179, 3.1178, 3.1174, 3.1142, 3.114, 3.1133, 3.1117, 3.1113, 3.1088, 3.1076, 3.1065, 3.1051, 3.1049, 3.1041, 3.1021, 3.1019, 3.1009, 3.1008, 3.0604, 3.0653, 3.0649, 3.0279, 3.0083, 3.0031, 2.8923, 2.9226, 2.9824, 2.9087, 2.6869, 2.532, 2.9081, 2.6762, 2.2801, 2.4063, 0.9362, 0.8453, 2.4671, 2.0975, 2.3911, 1.1264, 0.6077, 2.5599, 0.2295, 1.4151, 0.7669, 1.1536, 2.0142, 1.6419, 0.1416, 1.1676, -0.1856, 0.1938, 0.9646, 0.82, 0.4872, 1.2813, 0.2329, 0.5658, 0.9723, -0.0651, 0.462, 0.4847, 1.2521, -0.2008, -0.0108, -0.1445, -0.109, 0.2952, -0.1386, 0.2027, 0.7826, 3.2128, 3.2083, 3.2083, 3.2001, 3.1968, 3.1952, 3.1948, 3.1947, 3.1919, 3.1909, 3.1891, 3.1889, 3.1887, 3.1881, 3.1877, 3.1875, 3.1867, 3.1845, 3.1842, 3.1837, 3.1832, 3.1831, 3.1829, 3.1828, 3.1828, 3.1823, 3.1821, 3.1811, 3.1796, 3.1783, 3.1751, 3.1315, 3.1482, 3.1646, 3.1547, 3.1496, 2.9709, 3.1711, 2.9935, 2.9909, 3.0333, 3.039, 3.0459, 2.56, 2.9829, 3.0792, 2.458, 3.0488, 2.7765, 1.8236, 2.7978, 2.3183, 0.4197, 0.37, 1.1472, 1.7509, 0.5404, 0.8472, 1.0374, 0.9448, 1.9919, 0.7435, 0.7672, 0.3448, 0.5268, 1.3652, 1.0703, 1.1176, 0.6599, 0.011, 0.3894, 0.5598, -0.2256, 0.1853, -0.373, 0.3238, 0.2368, -0.1511, 0.382, 0.2278, 3.2797, 3.2741, 3.2636, 3.2585, 3.2577, 3.2567, 3.2563, 3.2562, 3.2562, 3.2535, 3.253, 3.2488, 3.2484, 3.2481, 3.2475, 3.2451, 3.2446, 3.2428, 3.241, 3.2403, 3.2399, 3.2388, 3.2383, 3.2381, 3.2381, 3.2373, 3.2372, 3.2368, 3.2367, 3.2359, 3.2152, 3.1317, 3.2085, 3.1337, 3.1176, 3.2101, 3.1064, 3.0119, 3.1123, 3.0254, 3.1425, 2.6753, 3.0172, 3.0877, 2.8302, 2.7689, 2.5278, 2.9317, 2.6308, 2.6724, 1.8855, 1.6935, 2.6645, 2.7212, 2.4319, 0.6882, 1.0584, 0.9866, 1.1485, 2.5028, 0.5616, 1.383, 2.1342, 0.5843, 0.905, 1.5036, 1.9116, 0.9076, 0.3025, 0.5332, 1.1401, -0.0042, 0.1463, -0.4316, 0.5659, 0.3444, 1.2303, -0.2903, 0.4061, -0.9138, 3.3159, 3.3138, 3.3123, 3.312, 3.3119, 3.3115, 3.311, 3.3084, 3.3083, 3.3078, 3.306, 3.3035, 3.303, 3.3025, 3.3004, 3.3004, 3.2997, 3.2983, 3.2983, 3.2981, 3.298, 3.2978, 3.2974, 3.2972, 3.2966, 3.2961, 3.2928, 3.2927, 3.2915, 3.2899, 3.2661, 3.2457, 3.2564, 3.2733, 2.9754, 3.1469, 2.9222, 3.1878, 3.1672, 2.8557, 2.8908, 3.0519, 2.2393, 3.1384, 2.407, 2.8775, 2.3646, 2.9151, 2.2046, 2.967, 2.7858, 2.5733, 2.5299, 1.7693, 1.6871, 1.0218, 0.7944, 1.0371, 0.6328, 0.7907, 0.7687, 0.6944, 1.6378, 1.5525, 0.8756, 0.6828, 1.0574, 1.7648, 0.4821, -0.6235, 1.527, 0.2182, 0.4504, -0.2481, 0.1207, -0.4552, 0.1978, 0.8937, -0.5032, 3.3344, 3.334, 3.33, 3.3293, 3.3263, 3.3241, 3.323, 3.319, 3.3171, 3.3163, 3.3162, 3.3148, 3.3142, 3.3141, 3.3131, 3.3124, 3.3122, 3.3111, 3.3109, 3.3101, 3.3085, 3.3069, 3.3042, 3.3029, 3.3026, 3.3016, 3.3006, 3.3003, 3.2997, 3.2987, 3.2904, 3.2798, 3.2064, 3.1937, 3.092, 3.0216, 3.2639, 3.1614, 2.86, 2.927, 2.581, 2.6552, 2.7133, 2.9304, 2.7793, 2.5988, 2.0988, 2.9228, 0.8287, 0.562, 0.6688, 0.7954, 0.6809, 1.9358, 0.0514, -0.2759, 0.5166, 0.0804, 0.082, 0.0159, 0.1445, 0.7518, 0.2865, 0.3083, -0.753, 0.0771, -0.4546, 0.2817, 0.5405, 0.3578, 0.4502, 0.1029, 3.3535, 3.3516, 3.3494, 3.3487, 3.3483, 3.346, 3.3455, 3.3446, 3.3428, 3.3414, 3.3402, 3.34, 3.3389, 3.3388, 3.3385, 3.336, 3.3339, 3.3331, 3.3323, 3.3314, 3.3312, 3.3293, 3.3289, 3.3275, 3.3261, 3.3258, 3.3251, 3.3249, 3.3248, 3.3246, 3.248, 3.3097, 3.159, 3.2434, 3.2458, 3.1916, 3.061, 2.9273, 2.9177, 2.9905, 2.4729, 3.2046, 3.0846, 3.2183, 3.1471, 2.8009, 2.7515, 2.7289, 2.2883, 3.0606, 1.7249, 2.9025, 0.6849, 2.4644, 2.2463, 0.5028, 1.6088, 0.7272, 0.9956, 0.856, 1.285, 0.7565, 1.6769, -0.0043, -0.4641, 0.0102, 0.4027, 0.7954, 0.7335, 0.5178, 0.2642, -0.9655, 0.094, 3.3947, 3.3941, 3.3919, 3.3872, 3.3833, 3.3829, 3.3816, 3.3792, 3.3791, 3.3789, 3.3776, 3.3771, 3.3752, 3.3748, 3.3734, 3.3732, 3.3723, 3.3718, 3.3707, 3.3699, 3.3696, 3.3696, 3.368, 3.3664, 3.3652, 3.3626, 3.3623, 3.3622, 3.3619, 3.3615, 3.3575, 3.2584, 3.1817, 3.3279, 3.3207, 3.2221, 3.2449, 2.7998, 3.2701, 3.1964, 2.9916, 2.4089, 2.8503, 2.5823, 2.6817, 2.0299, 2.0179, 2.6108, 1.4694, 2.3891, 1.8865, 1.9647, 1.9008, 0.2102, 0.4199, 0.3625, 0.0151, 2.1179, 1.3395, 1.1924, 0.648, 1.5331, 1.5782, 0.1399, 0.818, 0.0156, 0.3785, 0.818, 0.71, -0.8307, -0.0032, 3.6145, 3.6107, 3.6102, 3.608, 3.6067, 3.6052, 3.6051, 3.605, 3.6041, 3.604, 3.6026, 3.6019, 3.6012, 3.6001, 3.5982, 3.5972, 3.5963, 3.5958, 3.5952, 3.595, 3.592, 3.5906, 3.5892, 3.5891, 3.5881, 3.5879, 3.5878, 3.5856, 3.5846, 3.5844, 3.5784, 3.4988, 3.4842, 3.5176, 3.4852, 3.4352, 3.5448, 3.5164, 2.9404, 3.324, 3.4697, 2.7182, 3.3285, 3.3851, 3.4643, 2.6526, 3.2368, 2.7577, 3.2875, 3.284, 1.3611, 0.9672, 2.705, 2.9133, 2.9594, 1.7186, 2.1724, 1.5869, 2.3895, 1.7894, -0.1034, 0.8043, 1.7884, 2.3178, 0.5529, 0.381, 2.0894, 1.1567, 0.9793, 1.0047, 0.7365, 0.2166, -0.7063, -0.6939, 0.1069, 0.1463, 0.4997, 0.1799, 0.3302, 0.0906]}, \"token.table\": {\"Topic\": [3, 15, 14, 3, 9, 2, 12, 4, 5, 12, 1, 4, 6, 11, 16, 18, 9, 16, 17, 6, 9, 10, 19, 20, 17, 6, 20, 10, 12, 6, 18, 2, 8, 11, 13, 15, 16, 1, 2, 3, 4, 5, 6, 7, 8, 9, 10, 11, 12, 13, 14, 15, 17, 18, 19, 20, 17, 3, 6, 10, 11, 18, 1, 3, 4, 5, 7, 8, 9, 10, 13, 14, 15, 16, 17, 19, 20, 9, 14, 15, 1, 5, 10, 14, 15, 19, 1, 2, 3, 4, 5, 6, 7, 8, 9, 10, 11, 12, 13, 14, 15, 16, 17, 18, 19, 20, 11, 13, 15, 16, 17, 18, 2, 4, 16, 2, 6, 11, 18, 19, 4, 6, 19, 5, 18, 8, 1, 4, 9, 11, 18, 3, 4, 6, 9, 11, 12, 13, 15, 19, 2, 3, 4, 5, 6, 7, 8, 9, 12, 14, 15, 17, 18, 1, 8, 14, 10, 3, 9, 10, 14, 2, 11, 13, 15, 2, 3, 4, 5, 6, 8, 11, 12, 13, 14, 15, 16, 19, 20, 1, 2, 3, 4, 5, 6, 7, 8, 10, 11, 12, 13, 14, 15, 16, 17, 18, 20, 6, 1, 6, 10, 14, 5, 6, 10, 1, 1, 13, 18, 19, 3, 6, 9, 11, 19, 19, 3, 19, 3, 6, 13, 2, 10, 11, 4, 17, 20, 15, 7, 19, 19, 19, 1, 2, 3, 5, 6, 11, 12, 17, 20, 2, 3, 11, 13, 16, 6, 3, 6, 12, 13, 2, 3, 5, 7, 10, 11, 16, 17, 18, 20, 1, 2, 3, 4, 5, 6, 7, 8, 9, 10, 11, 12, 13, 15, 16, 17, 18, 19, 20, 1, 2, 3, 4, 5, 6, 7, 8, 9, 10, 11, 12, 13, 14, 15, 16, 17, 18, 19, 20, 3, 4, 7, 8, 18, 15, 18, 12, 15, 15, 15, 2, 3, 5, 11, 12, 13, 17, 18, 1, 4, 9, 2, 3, 4, 8, 9, 11, 12, 14, 16, 17, 19, 20, 11, 1, 6, 7, 8, 9, 10, 12, 13, 14, 17, 19, 20, 1, 1, 3, 5, 8, 9, 10, 14, 15, 19, 1, 12, 1, 8, 10, 14, 17, 20, 2, 5, 9, 11, 12, 14, 15, 16, 17, 20, 4, 12, 4, 8, 14, 16, 16, 18, 6, 15, 20, 17, 19, 3, 4, 5, 7, 9, 10, 11, 12, 14, 15, 16, 17, 19, 20, 10, 9, 6, 12, 18, 12, 11, 12, 15, 2, 3, 4, 5, 6, 7, 11, 12, 13, 15, 19, 20, 5, 19, 11, 11, 9, 1, 2, 3, 4, 5, 6, 7, 8, 9, 11, 12, 13, 15, 16, 17, 18, 19, 20, 1, 2, 2, 8, 11, 15, 16, 2, 18, 6, 8, 12, 11, 20, 13, 14, 4, 3, 4, 7, 8, 9, 14, 12, 14, 14, 9, 1, 2, 17, 2, 4, 8, 11, 13, 17, 9, 11, 18, 9, 13, 14, 1, 2, 3, 4, 5, 6, 7, 8, 10, 11, 12, 13, 15, 17, 18, 19, 16, 9, 1, 3, 7, 9, 10, 12, 14, 15, 18, 1, 2, 3, 4, 6, 7, 9, 11, 12, 13, 19, 20, 2, 2, 4, 6, 8, 9, 11, 12, 16, 17, 2, 3, 5, 20, 16, 19, 20, 16, 18, 20, 18, 5, 8, 9, 10, 11, 12, 15, 16, 17, 18, 11, 12, 16, 18, 8, 17, 1, 2, 4, 8, 9, 11, 12, 13, 14, 17, 18, 19, 20, 6, 10, 14, 1, 3, 5, 7, 9, 10, 18, 20, 3, 1, 3, 4, 5, 6, 7, 8, 9, 10, 11, 12, 14, 17, 18, 19, 20, 16, 6, 9, 14, 15, 16, 16, 17, 10, 16, 2, 9, 20, 16, 1, 2, 3, 4, 5, 6, 7, 8, 9, 10, 11, 12, 14, 17, 18, 20, 7, 1, 4, 8, 9, 15, 18, 19, 20, 2, 6, 8, 9, 10, 11, 12, 14, 15, 2, 5, 10, 5, 10, 15, 1, 2, 3, 4, 7, 8, 9, 12, 14, 17, 18, 2, 3, 4, 10, 11, 12, 13, 17, 18, 1, 2, 4, 7, 8, 9, 10, 11, 12, 14, 15, 16, 17, 19, 20, 4, 16, 4, 13, 12, 20, 3, 6, 19, 6, 3, 6, 9, 19, 1, 2, 3, 4, 5, 6, 7, 8, 9, 10, 11, 12, 13, 14, 15, 16, 17, 18, 19, 20, 1, 2, 3, 4, 5, 6, 7, 8, 9, 10, 11, 13, 14, 15, 16, 17, 18, 19, 20, 7, 12, 16, 18, 3, 7, 9, 11, 19, 2, 10, 18, 19, 3, 4, 7, 13, 15, 17, 14, 11, 12, 2, 8, 2, 8, 9, 17, 19, 1, 2, 3, 4, 5, 6, 7, 8, 9, 10, 11, 12, 13, 14, 15, 16, 18, 19, 20, 1, 2, 3, 4, 5, 6, 7, 8, 9, 10, 11, 12, 13, 14, 15, 16, 17, 18, 19, 20, 3, 2, 14, 1, 2, 3, 4, 5, 6, 7, 8, 9, 10, 11, 12, 13, 14, 15, 16, 17, 18, 19, 20, 4, 14, 5, 7, 8, 12, 16, 17, 19, 20, 1, 2, 3, 15, 16, 17, 18, 13, 18, 12, 20, 2, 3, 4, 6, 8, 9, 10, 11, 13, 14, 15, 17, 18, 19, 2, 4, 5, 6, 8, 11, 13, 16, 18, 19, 2, 4, 5, 6, 7, 9, 11, 13, 18, 19, 11, 19, 7, 13, 16, 18, 19, 2, 4, 5, 11, 12, 6, 7, 17, 1, 2, 4, 5, 6, 12, 13, 3, 6, 13, 6, 13, 18, 4, 7, 9, 10, 11, 12, 13, 14, 16, 18, 19, 20, 9, 10, 12, 14, 7, 17, 19, 1, 2, 3, 5, 6, 8, 10, 11, 12, 14, 15, 16, 17, 18, 20, 3, 14, 10, 20, 3, 11, 12, 19, 20, 8, 13, 15, 17, 13, 9, 16, 20, 1, 2, 3, 4, 5, 7, 8, 10, 11, 12, 13, 14, 16, 18, 19, 20, 17, 17, 17, 7, 3, 4, 13, 14, 20, 1, 2, 3, 4, 7, 8, 9, 12, 17, 20, 11, 11, 11, 3, 5, 6, 7, 11, 12, 13, 18, 19, 20, 14, 17, 4, 1, 2, 4, 6, 7, 8, 9, 10, 11, 12, 13, 14, 15, 16, 17, 18, 19, 20, 19, 2, 3, 5, 6, 10, 12, 14, 17, 20, 1, 3, 4, 5, 6, 7, 10, 11, 12, 14, 15, 16, 17, 18, 19, 20, 5, 2, 10, 12, 20, 9, 17, 19, 7, 12, 17, 11, 19, 6, 1, 5, 9, 12, 18, 20, 4, 8, 9, 17, 1, 5, 6, 7, 9, 11, 12, 14, 15, 18, 19, 1, 2, 5, 9, 14, 17, 7, 9, 14, 1, 3, 5, 6, 8, 9, 20, 1, 3, 8, 10, 11, 13, 15, 16, 18, 19, 5, 6, 11, 18, 4, 5, 6, 8, 9, 11, 16, 1, 2, 3, 4, 5, 6, 7, 8, 9, 10, 11, 12, 13, 14, 15, 16, 17, 18, 19, 20, 3, 9, 1, 2, 3, 4, 5, 6, 7, 8, 9, 10, 11, 12, 13, 14, 15, 16, 17, 18, 19, 20, 4, 5, 17, 6, 3, 1, 6, 7, 9, 14, 6, 7, 9, 10, 7, 6, 8, 10, 13, 15, 8, 9, 14, 17, 8, 14, 15, 3, 4, 8, 11, 15, 1, 3, 14, 14, 3, 6, 19, 1, 4, 5, 9, 12, 20, 9, 15, 4, 6, 9, 11, 12, 13, 14, 20, 18, 20, 3, 4, 11, 16, 16, 11, 16, 2, 3, 5, 7, 8, 13, 16, 17, 20, 14, 2, 4, 7, 8, 9, 13, 14, 16, 17, 18, 19, 3, 13, 20, 15, 2, 1, 2, 3, 4, 5, 6, 7, 8, 9, 10, 11, 12, 13, 14, 15, 16, 17, 18, 19, 20, 1, 2, 3, 4, 5, 6, 7, 8, 9, 11, 12, 13, 14, 15, 16, 17, 18, 19, 20, 17, 2, 3, 4, 5, 6, 7, 8, 9, 10, 11, 12, 13, 14, 15, 16, 17, 20, 7, 9, 14, 3, 7, 1, 8, 12, 20, 18, 5, 9, 15, 8, 8, 1, 2, 3, 5, 6, 7, 10, 11, 12, 13, 15, 17, 18, 14, 2, 3, 2, 5, 12, 17, 20, 8, 9, 10, 17, 4, 7, 9, 12, 13, 17, 11, 1, 2, 3, 4, 5, 6, 7, 8, 9, 10, 11, 12, 13, 14, 15, 16, 17, 18, 20, 1, 5, 9, 13, 18, 1, 2, 7, 10, 13, 15, 18, 1, 2, 3, 4, 5, 6, 7, 8, 10, 11, 12, 13, 14, 15, 16, 17, 18, 20, 11, 17, 1, 3, 8, 9, 10, 13, 14, 15, 9, 10, 12, 19, 19, 2, 4, 6, 7, 8, 9, 10, 12, 13, 14, 16, 19, 2, 3, 5, 6, 12, 10, 17, 13, 8, 10, 13, 15, 1, 2, 3, 4, 7, 8, 9, 12, 14, 15, 17, 20, 10, 11, 1, 7, 16, 19, 9, 14, 1, 2, 3, 4, 5, 6, 7, 8, 10, 11, 12, 13, 14, 15, 16, 17, 18, 19, 2, 4, 6, 7, 11, 13, 14, 17, 19, 3, 8, 8, 3, 9, 10, 12, 10, 1, 1, 3, 4, 5, 6, 7, 9, 10, 11, 12, 13, 14, 15, 16, 18, 19, 20, 7, 14, 18, 12, 6, 7, 12, 10, 12, 3, 1, 2, 3, 4, 6, 9, 10, 12, 13, 16, 17, 18, 5, 17, 12, 14, 15, 2, 4, 5, 6, 7, 8, 9, 13, 15, 17, 18, 19, 20, 4, 1, 2, 3, 5, 8, 10, 11, 12, 18, 2, 3, 4, 6, 7, 9, 10, 11, 12, 13, 14, 17, 18, 20, 9, 5, 3, 8, 18, 14, 18, 18, 15, 1, 2, 3, 4, 10, 11, 13, 15, 16, 17, 18, 1, 2, 4, 5, 7, 11, 13, 16, 18, 20, 1, 2, 3, 4, 5, 6, 7, 8, 9, 10, 11, 12, 13, 14, 15, 16, 17, 18, 19, 20, 1, 2, 3, 4, 6, 7, 8, 9, 10, 11, 12, 13, 14, 15, 17, 18, 19, 20, 1, 2, 3, 4, 5, 7, 10, 11, 12, 14, 15, 16, 17, 18, 12, 16, 15, 5, 1, 2, 3, 4, 5, 6, 7, 8, 9, 10, 11, 12, 14, 16, 18, 20, 4, 14, 16, 18, 4, 6, 9, 6, 1, 2, 3, 4, 5, 7, 8, 9, 11, 13, 14, 15, 16, 18, 19, 20, 4, 5, 12, 15, 16, 20, 2, 5, 7, 10, 12, 16, 17, 20, 6, 1, 2, 3, 4, 5, 6, 7, 8, 13, 14, 15, 17, 18, 7, 14, 14, 1, 2, 3, 4, 5, 6, 7, 8, 9, 10, 11, 12, 13, 14, 15, 16, 17, 18, 19, 20, 1, 2, 4, 5, 11, 13, 15, 18, 3, 8, 15, 16, 18, 1, 11, 14, 17, 3, 8, 10, 12, 14, 15, 16, 1, 2, 3, 4, 5, 6, 7, 9, 10, 11, 12, 13, 14, 15, 17, 18, 20, 1, 2, 3, 4, 5, 6, 7, 8, 9, 10, 11, 12, 13, 14, 15, 16, 17, 18, 19, 20, 4, 12, 2, 4, 5, 6, 7, 8, 9, 11, 13, 15, 16, 2, 4, 5, 6, 7, 8, 10, 11, 12, 13, 14, 16, 17, 18, 19, 20, 6, 1, 4, 6, 7, 8, 9, 10, 11, 12, 13, 14, 15, 16, 17, 18, 19, 20, 2, 4, 3, 13, 6, 11, 2, 4, 2, 4, 5, 7, 8, 11, 13, 14, 16, 18, 19, 6, 7, 8, 9, 10, 11, 13, 14, 15, 16, 19, 20, 11, 13, 16, 2, 4, 11, 15, 18, 19, 20, 8, 13, 17, 8, 11, 2, 3, 4, 5, 6, 7, 11, 13, 15, 4, 10, 16, 17, 18, 3, 20, 3, 6, 14, 3, 9, 10, 14, 15, 11, 1, 2, 7, 8, 9, 17, 20, 2, 3, 4, 5, 8, 9, 12, 14, 15, 16, 17, 19, 7, 10, 17, 5, 5, 9, 12, 15, 18, 15, 3, 5, 8, 9, 10, 11, 13, 14, 16, 17, 20, 2, 3, 5, 11, 14, 15, 16, 18, 16, 20, 16, 14, 14, 6, 1, 2, 3, 4, 5, 8, 10, 11, 12, 14, 15, 16, 18, 20, 4, 9, 12, 19, 20, 1, 2, 3, 4, 6, 7, 8, 9, 11, 12, 13, 14, 15, 16, 18, 19, 20, 19, 3, 7, 1, 3, 4, 6, 7, 8, 9, 10, 11, 12, 13, 14, 15, 16, 17, 18, 19, 20, 14, 19, 12, 7, 8, 16, 17, 19, 8, 10, 1, 6, 9, 14, 2, 4, 20, 15, 16, 20, 7, 20, 11, 8, 11, 1, 2, 3, 6, 7, 8, 10, 11, 12, 13, 14, 15, 17, 19, 20, 16, 16, 2, 10, 5, 5, 5, 2, 4, 6, 7, 9, 10, 11, 12, 16, 20, 13, 16, 10, 1, 2, 3, 4, 7, 8, 9, 11, 12, 13, 14, 16, 17, 19, 20, 1, 3, 4, 6, 7, 8, 9, 11, 12, 17, 20, 4, 1, 2, 3, 4, 5, 6, 9, 10, 11, 12, 13, 14, 15, 16, 17, 20, 1, 2, 3, 4, 5, 6, 7, 8, 9, 10, 11, 12, 13, 14, 15, 16, 17, 18, 19, 20, 1, 3, 6, 7, 8, 10, 19, 20, 7, 11, 13, 4, 15, 7, 9, 4, 5, 6, 8, 9, 12, 1, 9, 1, 2, 4, 5, 6, 7, 9, 11, 12, 13, 14, 15, 16, 17, 19, 20, 2, 13, 15, 1, 11, 15, 19, 9, 11, 15, 17, 18, 20, 15, 7, 11, 12, 15, 6, 13, 19, 13, 15, 19, 12, 1, 3, 4, 5, 6, 7, 8, 9, 11, 12, 13, 14, 15, 16, 17, 18, 19, 20, 7, 1, 3, 8, 9, 14, 15, 17, 1, 2, 3, 4, 6, 7, 8, 9, 13, 14, 16, 17, 19, 20, 1, 3, 4, 6, 8, 9, 10, 12, 13, 14, 15, 16, 17, 19, 20, 18, 13, 1, 2, 3, 4, 5, 6, 7, 8, 9, 10, 11, 12, 16, 17, 18, 19, 7, 9, 14, 20, 3, 16, 17, 20, 1, 2, 3, 4, 5, 6, 7, 8, 9, 10, 11, 12, 13, 14, 15, 16, 17, 18, 19, 20, 13, 2, 4, 13, 9, 2, 17, 18, 11, 1, 6, 11, 12, 14, 18, 1, 2, 3, 4, 5, 6, 7, 8, 9, 11, 12, 13, 14, 15, 16, 17, 19, 20, 2, 3, 7, 1, 2, 3, 4, 5, 6, 7, 8, 10, 11, 12, 13, 15, 16, 17, 18, 19, 20, 3, 15, 2, 4, 6, 11, 12, 13, 19, 3, 14, 1, 2, 3, 4, 6, 7, 8, 9, 10, 12, 13, 14, 16, 17, 20, 7, 8, 13, 18, 5, 20, 12, 1, 4, 6, 11, 14, 15, 1, 2, 3, 4, 5, 6, 7, 8, 9, 11, 12, 13, 14, 15, 16, 17, 18, 19, 20, 3, 10, 13, 5, 10, 1, 2, 3, 4, 5, 6, 7, 8, 10, 11, 12, 13, 14, 15, 16, 17, 18, 19, 20, 5, 1, 2, 3, 4, 5, 6, 7, 8, 9, 11, 12, 13, 14, 16, 17, 18, 19, 20, 9, 12, 6, 10, 11, 15, 1, 9, 11, 19, 3, 7, 7, 7, 9, 7, 7, 7, 9, 1, 3, 5, 7, 8, 9, 10, 12, 16, 17, 18, 19, 20, 1, 20, 1, 2, 3, 4, 5, 8, 11, 12, 13, 16, 17, 18, 19, 20, 2, 3, 4, 6, 7, 8, 9, 10, 11, 14, 16, 18, 20, 10, 11, 3, 6, 7, 9, 14, 17, 19, 1, 2, 3, 4, 5, 6, 7, 8, 9, 10, 11, 12, 13, 14, 15, 16, 17, 18, 19, 20, 2, 4, 8, 10, 12, 13, 16, 18, 20, 4, 18, 1, 4, 20, 1, 2, 3, 4, 5, 6, 7, 8, 9, 10, 11, 12, 13, 14, 15, 16, 17, 18, 19, 20, 15, 2, 3, 5, 7, 11, 12, 1, 2, 3, 6, 7, 9, 11, 12, 13, 17, 18, 19, 1, 5, 6, 7, 9, 10, 11, 12, 14, 18, 20, 4, 5, 11, 12, 15, 17, 1, 3, 4, 5, 7, 15, 17, 19, 8, 15, 16, 14, 17, 7, 2, 11, 15, 5, 8, 10, 13, 6, 5, 6, 5, 16, 5, 18, 2, 4, 5, 7, 8, 10, 11, 12, 16, 17, 19, 20, 3, 7, 9, 10, 14, 16, 17, 19, 7, 14, 18, 10, 4, 18, 4, 10, 4, 2, 4, 8, 14, 17, 18, 20, 17, 19, 20, 18, 19, 18, 18, 5, 6, 7, 3, 5, 6, 7, 7, 13, 14, 20, 14, 20, 14, 4, 17, 4, 12, 3, 4, 6, 12, 13, 17, 10, 5, 20, 9, 1, 14, 16, 1, 2, 3, 4, 5, 6, 8, 9, 11, 12, 13, 14, 16, 17, 18, 10, 11, 10, 15, 12, 1, 3, 4, 6, 8, 12, 14, 17, 1, 4, 6, 9, 10, 11, 12, 14, 16, 19, 4, 13, 2, 8, 13, 1, 20, 11, 18, 18, 2, 1, 11, 14, 13, 15, 19, 14, 15, 16, 4, 7, 11, 14, 19, 13, 1, 2, 3, 4, 6, 8, 9, 11, 12, 14, 15, 18, 19, 20, 4, 6, 7, 9, 11, 12, 14, 19, 3, 7, 8, 9, 14, 17, 7, 8, 13, 16, 7, 9, 17, 20, 1, 2, 3, 4, 5, 6, 7, 8, 9, 10, 11, 12, 13, 14, 15, 16, 17, 18, 19, 20, 8, 3, 12, 17, 10, 14, 3, 17, 6, 1, 4, 6, 7, 8, 9, 10, 11, 12, 15, 16, 17, 19, 9, 9, 11, 13, 3, 4, 6, 8, 10, 13, 15, 16, 17, 18, 20, 15, 1, 6, 15, 15, 10, 4, 14, 2, 4, 1, 2, 3, 4, 5, 6, 7, 8, 9, 10, 11, 12, 13, 14, 15, 16, 17, 18, 19, 20, 12, 19, 1, 2, 3, 4, 5, 6, 7, 8, 9, 10, 11, 12, 14, 15, 16, 18, 19, 15, 4, 17, 19, 1, 2, 3, 4, 5, 6, 8, 9, 11, 12, 13, 15, 18, 19, 2, 3, 6, 7, 8, 9, 12, 17, 20, 9, 17, 2, 5, 18, 20, 14, 15, 17, 19, 4, 11, 1, 2, 3, 5, 6, 8, 11, 13, 17, 20, 1, 2, 3, 4, 5, 6, 7, 8, 9, 10, 11, 12, 13, 14, 15, 16, 17, 18, 19, 20, 1, 2, 3, 4, 5, 6, 7, 8, 9, 10, 11, 12, 13, 14, 15, 16, 18, 19, 20, 1, 2, 3, 4, 5, 6, 7, 8, 9, 10, 11, 13, 14, 15, 16, 17, 18, 19, 20, 1, 3, 7, 9, 10, 12, 14, 18, 1, 7, 19, 8, 14, 17, 13, 12, 20, 2, 3, 5, 3, 13, 14, 4, 11, 12, 17, 8, 13, 10, 9, 14, 8, 14, 16, 6, 10, 15, 17, 9, 14, 1, 2, 3, 4, 5, 6, 7, 8, 9, 10, 11, 12, 13, 14, 15, 16, 17, 18, 19, 20, 7, 1, 4, 16, 20, 13, 20, 10, 16, 17, 5, 9, 10, 19, 20, 3, 10, 14, 12, 4, 5, 6, 9, 13, 14, 17, 20, 10, 16, 2, 9, 2, 6, 10, 12, 19, 20, 2, 3, 4, 5, 6, 13, 17, 20, 1, 3, 5, 6, 14, 15, 17, 18, 19, 8, 6, 2, 3, 4, 5, 6, 7, 8, 9, 12, 13, 14, 15, 16, 17, 18, 19, 13, 2, 20, 2, 11, 16, 8, 10, 16, 13, 17, 4, 9, 13, 1, 2, 3, 4, 5, 6, 7, 8, 9, 10, 12, 13, 14, 15, 17, 18, 9, 8, 17, 4, 9, 10, 12, 14, 17, 20, 19, 1, 2, 3, 4, 5, 6, 7, 8, 9, 10, 11, 12, 13, 14, 15, 16, 18, 19, 20, 1, 2, 3, 4, 6, 7, 8, 9, 10, 12, 13, 14, 16, 17, 18, 19, 19, 8, 8, 12, 16, 4, 1, 2, 3, 4, 5, 6, 7, 8, 9, 10, 11, 12, 13, 14, 16, 17, 18, 19, 20, 4, 1, 2, 3, 4, 5, 6, 8, 9, 10, 11, 12, 13, 14, 16, 17, 18, 19, 20, 3, 7, 9, 10, 14, 17, 9, 12, 10, 16, 20, 9, 1, 2, 4, 7, 9, 11, 12, 14, 18, 19, 20, 2, 2, 4, 11, 13, 18, 19, 1, 2, 3, 4, 5, 6, 7, 8, 9, 10, 11, 12, 13, 14, 15, 16, 17, 18, 19, 20, 19, 19, 2, 4, 7, 8, 9, 10, 13, 14, 15, 16, 17, 20, 4, 7, 8, 13, 14, 17, 1, 2, 3, 4, 5, 6, 7, 8, 10, 11, 12, 13, 14, 15, 16, 17, 18, 19, 20, 11, 16, 6, 14, 5, 16, 3, 1, 2, 3, 5, 6, 12, 20, 12, 15, 5, 20, 2, 3, 4, 5, 6, 11, 13, 15, 18, 5, 8, 15, 16, 5, 5, 6, 9, 15, 4, 12, 6, 8, 11, 13, 15, 9, 1, 2, 4, 5, 8, 10, 11, 12, 13, 14, 16, 17, 18, 19, 20, 13, 3, 10, 8, 11, 1, 2, 3, 4, 6, 7, 8, 9, 10, 11, 12, 13, 14, 16, 17, 18, 20, 14, 2, 7, 8, 14, 3, 19, 8, 20, 2, 14, 2, 5, 13, 17, 18, 11, 18, 1, 3, 4, 7, 8, 9, 12, 14, 2, 4, 20, 4, 17, 9, 11, 9, 1, 2, 3, 5, 6, 7, 9, 11, 12, 13, 14, 15, 16, 17, 18, 19, 1, 2, 3, 4, 5, 6, 7, 8, 9, 10, 12, 13, 14, 15, 16, 17, 18, 19, 1, 3, 6, 7, 9, 10, 12, 14, 16, 17, 18, 19, 20, 11, 12, 19, 1, 2, 5, 8, 10, 11, 12, 13, 14, 15, 16, 17, 18, 19, 11, 16, 3, 18, 8, 2, 4, 6, 11, 13, 14, 19, 18, 4, 8, 10, 13, 16, 17, 18, 1, 2, 4, 6, 11, 13, 15, 17, 18, 17, 18, 13, 18, 2, 19, 1, 2, 3, 4, 5, 6, 7, 8, 9, 10, 11, 12, 13, 14, 15, 16, 17, 18, 19, 20, 1, 2, 7, 8, 10, 11, 13, 15, 16, 17, 18, 19, 20, 1, 2, 7, 8, 10, 11, 12, 13, 15, 16, 17, 18, 19, 20, 1, 2, 3, 4, 5, 8, 10, 11, 12, 13, 14, 15, 16, 18, 19, 20, 18, 16, 9, 14, 4, 20, 13, 17, 1, 2, 3, 4, 5, 7, 8, 9, 10, 11, 12, 13, 14, 15, 16, 17, 18, 19, 20, 1, 2, 3, 5, 6, 7, 8, 9, 10, 11, 12, 14, 15, 16, 17, 18, 11, 3, 19, 1, 2, 3, 4, 5, 6, 7, 8, 9, 10, 11, 12, 13, 14, 15, 16, 17, 18, 19, 20, 1, 1, 2, 3, 4, 6, 7, 12, 14, 16, 17, 19, 20, 1, 3, 6, 9, 12, 14, 17, 19, 12, 2, 4, 5, 10, 14, 15, 16, 18, 20, 4, 8, 11, 16, 17, 20, 2, 5, 6, 8, 10, 11, 17, 19, 20, 1, 2, 3, 4, 5, 6, 7, 8, 9, 10, 11, 12, 13, 14, 15, 16, 17, 18, 19, 1, 2, 3, 4, 5, 6, 7, 8, 9, 10, 11, 12, 13, 14, 15, 16, 17, 18, 19, 20, 1, 2, 3, 4, 5, 6, 7, 8, 9, 10, 11, 12, 13, 14, 15, 16, 17, 18, 19, 20, 11, 5, 4, 7, 8, 9, 8, 3, 8, 10, 5, 6, 13, 15, 12, 16, 2, 1, 2, 3, 4, 5, 8, 11, 13, 15, 18, 19, 1, 1, 6, 9, 17, 20, 4, 2, 8, 12, 17, 18, 1, 5, 6, 8, 9, 11, 14, 16, 17, 3, 5, 12, 16, 20, 2, 3, 4, 8, 14, 15, 17, 18, 20, 17, 12, 13, 1, 2, 3, 5, 6, 7, 8, 9, 10, 11, 12, 13, 14, 15, 16, 17, 18, 20, 6, 14, 7, 5, 4, 12, 7, 15, 8, 13, 20, 2, 3, 11, 20, 15, 11, 16, 15, 1, 2, 3, 6, 8, 9, 10, 11, 12, 15, 18, 19, 3, 11, 13, 14, 3, 7, 2, 3, 4, 5, 6, 7, 8, 12, 13, 14, 15, 16, 17, 18, 19, 20, 6, 1, 2, 3, 4, 5, 6, 7, 8, 9, 10, 11, 12, 13, 14, 15, 16, 17, 18, 19, 20, 2, 3, 10, 14, 15, 16, 1, 1, 7, 13, 2, 8, 13, 15, 17, 18, 2, 3, 6, 12, 2, 4, 8, 10, 11, 13, 15, 17, 18, 2, 4, 5, 6, 11, 13, 15, 18, 2, 4, 13, 14, 2, 3, 6, 13, 18, 1, 2, 3, 7, 8, 9, 10, 12, 14, 16, 17, 19, 20, 4, 12, 14, 3, 1, 1, 2, 3, 4, 5, 6, 7, 8, 9, 10, 11, 12, 13, 14, 15, 16, 17, 18, 19, 20, 4, 7, 8, 10, 13, 14, 19, 20, 3, 1, 3, 4, 5, 6, 7, 9, 10, 11, 12, 13, 14, 18, 13, 14, 5, 20, 3, 15, 17, 7, 7, 14, 14, 2, 14, 11, 20, 16, 16, 1, 4, 8, 8, 13, 4, 13, 8, 15, 20, 19, 10, 15, 19, 9, 11, 18, 1, 2, 6, 8, 11, 12, 13, 14, 19, 20, 10, 11, 15, 20, 17, 1, 2, 4, 7, 8, 10, 11, 13, 14, 15, 16, 17, 18, 19, 20, 18, 6, 20, 17, 10, 4, 6, 8, 9, 11, 13, 14, 17, 19, 18, 1, 5, 17, 3, 5, 10, 13, 16, 5, 2, 4, 5, 11, 13, 14, 19, 8, 17, 4, 13, 1, 16, 9, 11, 18, 19, 2, 9, 18, 17, 7, 17, 1, 2, 3, 4, 5, 7, 8, 9, 10, 11, 12, 13, 14, 15, 16, 17, 18, 19, 20, 1, 2, 3, 4, 10, 11, 15, 16, 17, 18, 19, 20, 1, 2, 3, 4, 5, 7, 8, 9, 10, 11, 12, 13, 14, 15, 16, 17, 18, 19, 20, 11, 2, 11, 17, 1, 4, 6, 11, 12, 14, 19, 1, 3, 6, 7, 9, 12, 15, 20, 6, 9, 10, 12, 8, 14, 16, 17, 1, 2, 3, 4, 5, 7, 8, 9, 10, 11, 12, 13, 14, 15, 16, 17, 18, 19, 20, 1, 2, 7, 8, 10, 11, 12, 13, 15, 16, 17, 18, 20, 1, 2, 3, 4, 5, 7, 8, 9, 10, 11, 12, 13, 14, 15, 16, 17, 18, 19, 20, 4, 9, 12, 15, 17, 18, 20, 16, 10, 17, 6, 6, 1, 2, 3, 4, 7, 8, 9, 13, 14, 19, 20, 1, 2, 3, 4, 5, 6, 7, 8, 9, 10, 11, 12, 13, 14, 15, 16, 17, 18, 19, 6, 5, 10, 20, 1, 2, 3, 4, 5, 6, 7, 8, 9, 10, 11, 12, 13, 14, 15, 17, 18, 19, 20, 1, 7, 9, 10, 11, 13, 14, 17, 18, 19, 1, 2, 3, 4, 5, 6, 7, 8, 9, 10, 12, 13, 14, 15, 16, 17, 18, 19, 20, 9, 2, 4, 9, 10, 15, 19, 20, 1, 2, 3, 4, 6, 7, 8, 9, 10, 12, 13, 14, 18, 2, 5, 10, 12, 16, 17, 18, 19, 20, 2, 11, 7, 14, 17, 20, 10, 8, 9, 18, 3, 14, 20, 1, 1, 2, 3, 4, 5, 6, 7, 8, 9, 10, 12, 13, 15, 16, 17, 18, 6, 19, 13, 17, 20, 6, 9, 14, 16, 19, 11, 12, 15, 16, 18, 20, 11, 11, 16, 19, 6, 3, 2, 4, 7, 8, 9, 11, 14, 18, 19, 20, 6, 9, 12, 7, 7, 14, 16, 3, 7, 20, 8, 13, 14, 15, 18, 20, 3, 4, 20, 3, 5, 8, 14, 17, 2, 4, 6, 8, 9, 10, 11, 12, 13, 14, 18, 19, 20, 1, 11, 12, 16, 19, 1, 2, 3, 4, 5, 6, 7, 8, 9, 10, 11, 12, 13, 14, 15, 16, 17, 18, 20, 3, 7, 12, 1, 3, 7, 10, 11, 12, 13, 14, 15, 16, 17, 18, 19, 8, 3, 6, 20, 5, 5, 1, 2, 3, 6, 9, 12, 13, 6, 12, 19, 8, 8, 3, 9, 12, 3, 1, 3, 13, 17, 19, 8, 20, 2, 3, 4, 8, 10, 11, 12, 13, 15, 16, 18, 5, 9, 9, 3, 5, 16, 1, 2, 6, 7, 8, 9, 10, 11, 12, 13, 14, 15, 16, 18, 19, 20, 6, 12, 3, 9, 11, 12, 14, 17, 18, 19, 6, 1, 2, 3, 4, 5, 6, 8, 9, 10, 11, 12, 13, 15, 16, 17, 18, 19, 20, 1, 2, 3, 4, 5, 6, 7, 8, 9, 10, 12, 13, 15, 17, 18, 19, 20, 1, 9, 14, 7, 10, 10, 6, 1, 9, 14, 2, 19, 1, 2, 3, 4, 5, 6, 7, 8, 9, 10, 11, 12, 13, 14, 15, 16, 17, 18, 19, 20, 6, 11, 16, 2, 8, 2, 4, 5, 11, 14, 15, 18, 19, 15, 20, 2, 3, 8, 11, 14, 15, 17, 18, 10, 8, 4, 10, 11, 12, 17, 20, 1, 2, 3, 4, 5, 6, 7, 8, 10, 11, 12, 13, 15, 17, 19, 1, 2, 5, 6, 8, 13, 15, 19, 20, 2, 3, 4, 5, 6, 9, 10, 11, 13, 14, 16, 18, 20, 11, 8, 9, 15, 16, 18, 18, 18, 1, 9, 10, 14, 19, 11, 3, 12, 1, 7, 8, 9, 10, 13, 14, 15, 17, 20, 1, 3, 8, 8, 13, 14, 13, 15, 3, 1, 1, 12, 14, 17, 5, 9, 14, 15, 18, 19, 20, 3, 19, 5, 10, 16, 20, 3, 6, 8, 13, 15, 18, 19, 1, 2, 3, 4, 5, 9, 11, 12, 13, 14, 15, 18, 16, 6, 9, 11, 12, 14, 16, 18, 19, 1, 2, 3, 4, 5, 7, 8, 10, 13, 14, 17, 18, 18, 15, 7, 8, 9, 11, 13, 14, 16, 17, 18, 20, 14, 7, 14, 15, 4, 8, 20, 1, 2, 3, 4, 5, 6, 7, 8, 9, 10, 11, 12, 13, 14, 15, 16, 17, 18, 19, 20, 1, 2, 3, 4, 5, 6, 7, 8, 9, 10, 11, 12, 13, 14, 15, 16, 17, 18, 19, 20, 1, 2, 3, 7, 8, 10, 13, 14, 17, 8, 14, 14, 15, 20, 3, 19, 3, 15, 18, 1, 2, 3, 4, 5, 6, 7, 8, 9, 10, 11, 12, 13, 14, 15, 16, 17, 18, 19, 20, 1, 2, 3, 4, 5, 6, 7, 8, 9, 10, 11, 12, 13, 14, 15, 16, 17, 18, 19, 20, 2, 18, 1, 2, 3, 4, 5, 6, 7, 8, 9, 10, 12, 13, 14, 15, 16, 17, 18, 19, 20, 1, 2, 3, 4, 5, 6, 7, 8, 9, 10, 11, 12, 13, 14, 15, 16, 18, 19, 20, 13, 18, 6, 14, 18, 2, 3, 5, 6, 7, 8, 10, 11, 12, 13, 15, 16, 20, 7, 17, 8, 5, 6, 8, 13, 19, 18, 20, 1, 3, 10, 11, 3, 4, 5, 7, 8, 9, 11, 14, 16, 17, 18, 19, 20, 19, 2, 4, 5, 8, 11, 12, 13, 16, 18, 1, 6, 9, 10, 12, 14, 18, 11, 7, 18, 5, 16, 2, 1, 2, 5, 8, 11, 13, 14, 15, 17, 18, 20, 5, 2, 5, 12, 17, 1, 3, 4, 6, 9, 11, 12, 13, 14, 15, 16, 17, 18, 19, 20, 6, 11, 12, 15, 1, 4, 6, 7, 9, 13, 17, 18, 20, 1, 2, 4, 7, 9, 10, 13, 15, 18, 4, 7, 5, 6, 10, 11, 12, 18, 4, 15, 16, 17, 18, 13, 1, 2, 3, 4, 5, 6, 7, 8, 10, 11, 12, 13, 15, 16, 17, 18, 19, 20, 5, 1, 1, 9, 20, 7, 2, 3, 4, 6, 7, 11, 12, 13, 17, 7, 9, 1, 3, 7, 9, 14, 9, 14, 18, 2, 20, 2, 13, 12, 3, 5, 7, 10, 11, 12, 14, 16, 18, 19, 20, 11, 12, 14, 18, 8, 2, 3, 4, 6, 7, 8, 9, 11, 13, 17, 16, 8, 14, 1, 3, 4, 5, 6, 7, 9, 11, 12, 14, 15, 17, 18, 19, 9, 12, 14, 18, 6, 12, 1, 2, 3, 4, 5, 6, 7, 8, 9, 10, 11, 12, 13, 15, 16, 17, 18, 20, 1, 2, 3, 4, 5, 6, 7, 8, 9, 10, 11, 13, 15, 16, 17, 18, 20, 1, 2, 4, 7, 8, 9, 10, 11, 13, 14, 17, 19, 3, 14, 1, 2, 3, 4, 5, 6, 7, 8, 9, 10, 13, 14, 15, 17, 19, 20, 2, 1, 2, 3, 5, 7, 14, 19, 18, 20, 6, 14, 12, 19, 16, 5, 11, 16, 2, 5, 5, 8, 9, 15, 1, 2, 3, 6, 14, 2, 3, 4, 5, 6, 8, 9, 11, 12, 14, 16, 17, 18, 19, 3, 1, 2, 3, 4, 5, 6, 7, 8, 9, 10, 11, 12, 13, 14, 15, 16, 17, 18, 19, 20, 4, 1, 4, 6, 9, 11, 12, 15, 20, 11, 20, 12, 1, 2, 3, 4, 5, 8, 9, 10, 11, 12, 13, 14, 16, 18, 19, 20, 13, 19, 1, 2, 4, 6, 7, 11, 16, 17, 18, 3, 4, 3, 7, 1, 2, 3, 4, 7, 8, 9, 10, 11, 12, 13, 14, 16, 17, 18, 20, 1, 2, 3, 4, 5, 6, 7, 8, 10, 11, 12, 13, 14, 17, 18, 20, 12, 1, 2, 3, 4, 5, 6, 9, 10, 11, 12, 13, 14, 15, 16, 17, 18, 19, 20, 1, 2, 3, 4, 5, 6, 7, 8, 9, 10, 11, 12, 13, 14, 15, 16, 17, 18, 19, 20, 1, 2, 3, 4, 5, 6, 7, 8, 9, 10, 11, 12, 13, 14, 15, 16, 17, 18, 19, 20, 5, 5, 15, 16, 1, 9, 14, 1, 19, 7, 1, 13, 1, 3, 5, 6, 8, 9, 12, 13, 14, 15, 17, 18, 19, 1, 2, 6, 10, 11, 12, 13, 14, 15, 17, 18, 7, 13, 5, 15, 18, 1, 2, 3, 4, 5, 6, 7, 8, 9, 11, 12, 13, 14, 15, 16, 17, 18, 19, 20, 1, 2, 3, 4, 5, 6, 7, 8, 9, 10, 11, 12, 13, 14, 15, 16, 17, 18, 19, 20, 2, 4, 5, 7, 8, 9, 11, 12, 14, 16, 17, 20, 4, 4, 12, 6, 3, 7, 9, 14], \"Freq\": [0.9508603294993148, 0.9303931851723919, 0.9521044513161102, 0.035396820503283986, 0.9203173330853837, 0.07132586619527388, 0.8915733274409235, 0.1149161336650659, 0.028729033416266474, 0.8331419690717278, 0.7224448047714569, 0.027574229189750263, 0.027574229189750263, 0.044118766703600425, 0.07720784173130074, 0.0937523792451509, 0.9784103879000188, 0.9914344571313549, 0.9678050068866257, 0.1236388224319516, 0.6758922292946687, 0.05769811713491074, 0.04945552897278064, 0.07418329345917096, 0.9680112715292949, 0.11934627769054931, 0.8354239438338452, 0.9746795693155349, 0.9490612641039275, 0.9348570767071158, 0.06479207462326546, 0.06273252804862647, 0.12546505609725295, 0.23952419800384656, 0.07984139933461552, 0.01140591419065936, 0.4676424818170338, 0.5459905814459947, 0.042323038647419715, 0.003975092027658205, 0.003975092027658205, 0.0011691447140171193, 0.01636802599623967, 0.1461430892521399, 0.0009353157712136954, 0.021512262737914994, 0.057521919929642264, 0.0392832623909752, 0.0014029736568205431, 0.03694497296294097, 0.00795018405531641, 0.050740880588342974, 0.0004676578856068477, 0.011457618197367769, 0.00023382894280342384, 0.011223789254564345, 0.9573339925225068, 0.08639958452951597, 0.04319979226475799, 0.7919961915205631, 0.028799861509838657, 0.028799861509838657, 0.10045917598615858, 0.08152446218772032, 0.004733678449609567, 0.06206378411710321, 0.07363499810503771, 0.08573217636515104, 0.004733678449609567, 0.3366171341944581, 0.01893471379843827, 0.036817499052518854, 0.09309567617565481, 0.002629821360894204, 0.04628485595173799, 0.04996660585698987, 0.0015778928165365224, 0.03291102982851961, 0.11518860439981862, 0.83923126062725, 0.21094060966539432, 0.0047941047651225985, 0.632821828996183, 0.07191157147683898, 0.05273515241634858, 0.02397052382561299, 0.42303825662026495, 0.08495322375968561, 0.01871850693010022, 0.0020158392078569467, 0.008927287920509334, 0.03714903683050659, 0.021310300197344863, 0.007775379801733937, 0.006623471682958539, 0.07487402772040087, 0.038588921978975836, 0.0313894962366296, 0.03714903683050659, 0.000575954059387699, 0.10050398336315348, 0.012958966336223229, 0.011519081187753981, 0.07141830336407468, 0.008063356831427787, 0.0025917932672446455, 0.04290802500179035, 0.012872407500537104, 0.0729436425030436, 0.06007123500250649, 0.0729436425030436, 0.7380180300307939, 0.8509880575813072, 0.055499221146607, 0.07399896152880933, 0.0749375653916441, 0.06423219890712352, 0.13381708105650733, 0.05887951566486322, 0.6690854052825366, 0.13751928165482652, 0.05402543207868185, 0.8079257797221058, 0.9680313137956874, 0.016133855229928124, 0.969915712990422, 0.026603405572947013, 0.20218588235439727, 0.18622383901062908, 0.015962043343768207, 0.569312879261066, 0.023672455739528492, 0.013527117565444852, 0.057490249653140625, 0.03381779391361213, 0.4328677620942353, 0.023672455739528492, 0.023672455739528492, 0.023672455739528492, 0.36523217426701104, 0.026815996269260668, 0.13164216350364327, 0.10726398507704267, 0.03656726763990091, 0.3656726763990091, 0.021940360583940548, 0.02925381411192073, 0.14626907055960364, 0.03169163195458079, 0.014626907055960365, 0.007313453527980182, 0.06094544606650152, 0.019502542741280486, 0.9571736712836956, 0.9753982715804259, 0.9313898305645826, 0.9797252794537351, 0.09706346861537728, 0.7418422244175263, 0.02773241960439351, 0.13172899312086916, 0.960464872907294, 0.044208947083731, 0.839969994590889, 0.088417894167462, 0.007801846020226983, 0.002600615340075661, 0.02860676874083227, 0.48761537626418644, 0.08842092156257247, 0.07801846020226982, 0.04551076845132407, 0.005201230680151322, 0.020804922720605287, 0.05071199913147539, 0.076718152532232, 0.05201230680151322, 0.0039009230101134914, 0.05201230680151322, 0.010712470591521257, 0.00044635294131338576, 0.0026781176478803143, 0.008927058826267714, 0.44947741190257945, 0.030798352950623616, 0.03035200000931023, 0.044188941190025186, 0.08257529414297636, 0.07677270590590235, 0.025888470596176372, 0.018300470593848817, 0.025888470596176372, 0.056240470605486606, 0.07900447061246928, 0.029012941185370074, 0.02722752942011653, 0.0008927058826267715, 0.970496859224534, 0.9136636175715517, 0.0794490102236132, 0.9722203345693021, 0.978008075208341, 0.9254628178257158, 0.007046671201718649, 0.06342004081546784, 0.9641985551912476, 0.9756594936164488, 0.9552617133372884, 0.04514362817016974, 0.9254443774884796, 0.328218212324853, 0.13592875459918152, 0.053045367648461086, 0.036468690258317, 0.4442549540558616, 0.9809211681274523, 0.9478588482993178, 0.9977654363668639, 0.13870541476576623, 0.7975561349031558, 0.05779392281906926, 0.8501937388613368, 0.07729033989648516, 0.05152689326432344, 0.957849219028724, 0.9862471154906651, 0.9801201008068764, 0.9491704566337309, 0.9799147695675913, 0.9782328677458756, 0.9720987156649091, 0.9801279639069559, 0.10299577557349815, 0.4412116331999853, 0.1252651324542545, 0.11691412362397087, 0.01809385246561454, 0.0654162358372218, 0.0904692623280727, 0.020877522075709084, 0.01809385246561454, 0.7428897439449956, 0.13644913664295838, 0.12128812146040745, 0.9523978561970211, 0.9761192775300626, 0.9807975599317722, 0.9455803981380685, 0.11654486753277034, 0.844950289612585, 0.9731440649762904, 0.1432349084493904, 0.15517115082017294, 0.005968121185391266, 0.5490671490559965, 0.06763870676776769, 0.0179043635561738, 0.009946868642318777, 0.03182997965542009, 0.013925616099246288, 0.0019893737284637555, 0.10818548930235665, 0.15892735596629384, 0.15509778112373254, 0.05648622892777914, 0.027764417608569406, 0.08425064653634855, 0.04116792955753395, 0.02872181131920973, 0.02202005534472746, 0.04021053584689362, 0.02393484276600811, 0.022977449055367784, 0.1369073006215664, 0.024892236476648434, 0.0019147874212806486, 0.01340351194896454, 0.005744362263841946, 0.01819048050216616, 0.02680702389792908, 0.16030517922735216, 0.19325133569432332, 0.12539208804593496, 0.010326407250841703, 0.03884696061030926, 0.05704110671893512, 0.04868163418253946, 0.06441711189810777, 0.009834673572230194, 0.0811360569708991, 0.005409070464726606, 0.0457312321108704, 0.04622296578948191, 0.021144548180294917, 0.037371759574474736, 0.006392537821949626, 0.022619749216129446, 0.008359472536395664, 0.008359472536395664, 0.009342939893618684, 0.9731228361845805, 0.7874820225948964, 0.10677722340269782, 0.05338861170134891, 0.026694305850674456, 0.9900556845019712, 0.973602105677165, 0.13712129836143175, 0.8596450628043606, 0.9970399786295642, 0.9869036055310949, 0.20189892785162858, 0.03447054865759512, 0.15757965100614912, 0.01477309228182648, 0.01477309228182648, 0.06401673322124808, 0.10341164597278536, 0.40379785570325716, 0.8549052640548745, 0.013788794581530235, 0.117204753943007, 0.14632314313105246, 0.009339775093471434, 0.5043478550474574, 0.031132583644904777, 0.05292539219633812, 0.018679550186942867, 0.034245842009395254, 0.031132583644904777, 0.003113258364490478, 0.037359100373885734, 0.031132583644904777, 0.09339775093471434, 0.9583898147290157, 0.6521924738256347, 0.002656588488088125, 0.07039959493433531, 0.003984882732132188, 0.09298059708308438, 0.002656588488088125, 0.01593953092852875, 0.022581002148749064, 0.06774300644624719, 0.019924413660660938, 0.023909296392793124, 0.025237590636837188, 0.9725809177917647, 0.11379529933417992, 0.05835656376111791, 0.023342625504447163, 0.5368803866022848, 0.061274391949173806, 0.04668525100889433, 0.08461701745362096, 0.03793176644472664, 0.03209611006861485, 0.9941208179280991, 0.004667233886986381, 0.9849428934500553, 0.0330986216845048, 0.9598600288506393, 0.9872132629317064, 0.9410186769909827, 0.03764074707963931, 0.03281768744065685, 0.004102210930082106, 0.07794200767156002, 0.15178180441303796, 0.41432330393829275, 0.05332874209106739, 0.06973758581139582, 0.07383979674147792, 0.10255527325205266, 0.016408843720328425, 0.041710589504184804, 0.9176329690920657, 0.1273143773900376, 0.7834730916310005, 0.05876048187232504, 0.02938024093616252, 0.989167888873448, 0.9533590218831062, 0.1788641437943997, 0.7704916963451064, 0.0412763408756307, 0.9402095200945398, 0.9952059465590221, 0.003066382975973976, 0.003066382975973976, 0.5519489356753157, 0.003066382975973976, 0.049062127615583616, 0.033730212735713735, 0.024531063807791808, 0.07972595737532338, 0.01533191487986988, 0.08892510630324531, 0.00919914892792193, 0.08892510630324531, 0.01533191487986988, 0.033730212735713735, 0.9652275685998488, 0.9822144900844417, 0.16224240452931454, 0.19469088543517746, 0.6408574978907925, 0.9490985204122797, 0.7345821436496393, 0.21881170236372233, 0.0312588146233889, 0.5125696346867356, 0.04393454011600591, 0.04602666107391095, 0.0774084754424866, 0.0062763628737151295, 0.035566056284385736, 0.04602666107391095, 0.05857938682134121, 0.012552725747430259, 0.05439514490553112, 0.023013330536955475, 0.08368483831620173, 0.0144113814921792, 0.9799739414681855, 0.9747223109799092, 0.9487671730153103, 0.9791683857550456, 0.13953758846870037, 0.08323294750764584, 0.017136195075103555, 0.051408585225310666, 0.004896055735743873, 0.044064501621694854, 0.024480278678719363, 0.015912181141167586, 0.03549640408414308, 0.12607343519540473, 0.015912181141167586, 0.02937633441446324, 0.24725081465506557, 0.06976879423435019, 0.02080823687691146, 0.012240139339359682, 0.012240139339359682, 0.053856613093182605, 0.9490129369022828, 0.9301793633652802, 0.09497001511954428, 0.0844177912173727, 0.021104447804343174, 0.12662668682605904, 0.66479010583681, 0.9852516572698515, 0.9828636709939227, 0.9087685533477027, 0.05769959068874303, 0.028849795344371515, 0.21148366134812002, 0.7754400916097735, 0.04383772809379461, 0.9205922899696868, 0.9132083955968444, 0.09146178370274587, 0.0011577440975031122, 0.7560068956695323, 0.02083939375505602, 0.0949350159952552, 0.03241683473008714, 0.03019392751393929, 0.9360117529321179, 0.981657260840399, 0.9641570822502004, 0.7427983420004576, 0.19928736004890324, 0.05435109819515543, 0.031103323627741045, 0.08708930615767492, 0.08086864143212671, 0.16173728286425343, 0.018661994176644627, 0.6158458078292727, 0.9817386086050228, 0.9031525843280673, 0.07130151981537373, 0.9668591859366407, 0.9270047436581763, 0.05150026353656535, 0.05967367135862665, 0.04177156995103865, 0.07823881355908828, 0.039782447572417765, 0.02453250933632429, 0.021217305371956142, 0.012597775064598958, 0.0006630407928736294, 0.021217305371956142, 0.04972805946552221, 0.0225433869577034, 0.053706304222763984, 0.05238022263701673, 0.07492360959472012, 0.409759209995903, 0.03646724360804962, 0.9720499820044262, 0.9644825107259213, 0.09917989879067869, 0.1094398883207489, 0.037619961610257435, 0.40355958818276155, 0.010259989530070209, 0.18125981503124036, 0.058139940670397856, 0.04787995114032764, 0.05129994765035105, 0.04883008496414709, 0.05580581138759668, 0.05929367459932147, 0.3801770900780024, 0.024415042482073546, 0.008719658029311982, 0.10463589635174378, 0.16044170773934044, 0.02790290569379834, 0.034878632117247926, 0.08196478547553263, 0.012207521241036773, 0.9593280395979391, 0.06865038660089402, 0.4658419090774952, 0.05148778995067052, 0.10297557990134104, 0.14220437224470905, 0.12013817655156454, 0.03922879234336801, 0.002451799521460501, 0.004903599042921002, 0.817831055459158, 0.04882573465427809, 0.07323860198141713, 0.04882573465427809, 0.867279708582557, 0.05656172012494937, 0.05656172012494937, 0.975352272286069, 0.9773503598470121, 0.011233912182149565, 0.9763156529992058, 0.23079343825874277, 0.03766085394180321, 0.0009656629215846977, 0.09753195508005447, 0.003862651686338791, 0.2597633259062837, 0.10911991013907084, 0.05311146068715838, 0.01255361798060107, 0.19409824723852426, 0.24132635311025163, 0.008321598383112125, 0.7031750633729745, 0.041607991915560624, 0.9693667568402828, 0.9740393029137654, 0.013523828746996047, 0.06761914373498024, 0.5003816636388537, 0.12509541590971343, 0.040571486240988136, 0.0033809571867490116, 0.04395244342773715, 0.057476272174733195, 0.07607153670185277, 0.0016904785933745058, 0.04226196483436265, 0.0016904785933745058, 0.027047657493992093, 0.9572898297060574, 0.8768441057731475, 0.08768441057731476, 0.5200500786967671, 0.07945209535645054, 0.0036114588798386604, 0.11556668415483713, 0.1372354374338691, 0.10473230751532116, 0.00902864719959665, 0.030697400478628616, 0.9852949970722926, 0.27852531170417627, 0.06602081462617512, 0.0020631504570679726, 0.005157876142669931, 0.074273416454447, 0.09181019533952478, 0.04126300914135945, 0.20734662093533124, 0.003094725685601959, 0.010315752285339862, 0.030947256856019588, 0.12172587696701037, 0.025789380713349654, 0.003094725685601959, 0.027852531170417628, 0.011347327513873849, 0.9819413775447549, 0.7474828693560439, 0.028385425418583944, 0.19869797793008762, 0.01892361694572263, 0.9677877679380746, 0.9324534075095662, 0.037298136300382645, 0.9282472062618485, 0.05460277683893226, 0.14272528823479907, 0.14272528823479907, 0.7136264411739954, 0.9698080846144652, 0.17362991911405581, 0.10472915756085906, 0.3050007044754843, 0.007349414565674319, 0.04409648739404592, 0.01745485959347651, 0.02847898144198799, 0.03766574964908089, 0.051445901959720236, 0.10381048074014977, 0.0275603046212787, 0.02204824369702296, 0.02204824369702296, 0.0064307377449650295, 0.01194279866922077, 0.03490971918695302, 0.9500817545464736, 0.0518807827771735, 0.07133607631861356, 0.09079136986005362, 0.07782117416576025, 0.518807827771735, 0.07782117416576025, 0.06485097847146687, 0.03891058708288012, 0.003976373090226641, 0.03578735781203977, 0.003976373090226641, 0.04771647708271969, 0.0675983425338529, 0.011929119270679923, 0.0675983425338529, 0.003976373090226641, 0.7634636333235151, 0.8377189697302095, 0.15806018296796406, 0.956368562790124, 0.9623506172244743, 0.9388997189403957, 0.961240057965704, 0.0712307288427937, 0.0014536883437304836, 0.061054910436680314, 0.20206267977853723, 0.015990571781035322, 0.20933112149718966, 0.3038208638396711, 0.04942540368683644, 0.06541597546787177, 0.014536883437304837, 0.005814753374921934, 0.15563803377681748, 0.05399686886134483, 0.4700903877340609, 0.06670201447577892, 0.022234004825259637, 0.05082058245773632, 0.04129172324691076, 0.08258344649382152, 0.05399686886134483, 0.07238892912374505, 0.1360911867526407, 0.02750779306702312, 0.018821121572173714, 0.09265782927839367, 0.010134450077324306, 0.07528448628869486, 0.060806700463945845, 0.01592556440722391, 0.02750779306702312, 0.09410560786086856, 0.19400233005163675, 0.02750779306702312, 0.001447778582474901, 0.146225636829965, 0.9626731976823514, 0.9654670427685593, 0.9120438242839086, 0.9647507200029934, 0.9192560506934908, 0.03996765437797786, 0.004453624365401333, 0.12470148223123731, 0.8729103756186612, 0.969897165805894, 0.010124433587735692, 0.010124433587735692, 0.010124433587735692, 0.9719456244226264, 0.129294725549446, 0.06407015417852012, 0.12063659660640275, 0.04040460173420188, 0.06984224014054896, 0.07215107452536049, 0.06060690260130281, 0.11255567625956236, 0.034632515772173036, 0.047908313484839364, 0.004617668769623071, 0.03982739313799899, 0.03751855875318746, 0.02077950946330382, 0.031746472791158616, 0.013275797712666331, 0.06060690260130281, 0.027128804021535544, 0.0005772085962028839, 0.010966963327854795, 0.14822717209288622, 0.009734321749383571, 0.000884938340853052, 0.01637135930578146, 0.000442469170426526, 0.002654815022559156, 0.08362667321061341, 0.04513185538350565, 0.002654815022559156, 0.1716780381254921, 0.053981238792036174, 0.06946765975696458, 0.049999016258197436, 0.11813926850388244, 0.0561935846441688, 0.01902617432834062, 0.07344988229080332, 0.046459262894785226, 0.031415311100283345, 0.774094065697465, 0.10864478115052141, 0.020370896465722765, 0.08827388468479865, 0.054692002305554134, 0.13673000576388533, 0.20314172284920107, 0.0234394295595232, 0.5781725958015723, 0.06564183570265573, 0.04376122380177049, 0.8533438641345246, 0.9723395235247061, 0.626199454219723, 0.03295786601156436, 0.08788764269750497, 0.06591573202312873, 0.03295786601156436, 0.1538033747206337, 0.9737522728690708, 0.8071349045903575, 0.1748792293279108, 0.9313150686652104, 0.04049195950718306, 0.1118158523449092, 0.1118158523449092, 0.567066108320611, 0.10382900574884427, 0.09584215915277933, 0.13932599779564867, 0.05948750467679381, 0.035222864611259494, 0.016437336818587764, 0.00861003357164121, 0.09079671766458003, 0.04070197688412208, 0.06027023500148847, 0.021133718766755696, 0.05244293175454191, 0.10958224545725176, 0.1017549422103052, 0.03757105558534346, 0.028178291689007595, 0.06261842597557243, 0.03444013428656484, 0.036788325260648805, 0.029743752338396906, 0.03287467363717553, 0.0808407624349797, 0.1476831244483179, 0.060193121813058484, 0.05249400158115566, 0.0013998400421641507, 0.02274740068516745, 0.01784796053759292, 0.07559136227686414, 0.00454948013703349, 0.08469032255093112, 0.04584476138087594, 0.0006999200210820754, 0.09203948277229292, 0.034296081033021696, 0.0640426819290099, 0.04059536122276037, 0.05914324178143537, 0.05179408156007358, 0.031146440938152355, 0.032546280980316505, 0.9422410754553308, 0.9438724567830411, 0.027760954611265914, 0.20524489647686764, 0.13555285162872235, 0.06221200862098832, 0.017696671074005476, 0.006567836687259764, 0.09158483380567782, 0.07443548245561066, 0.0001824399079794379, 0.007844916043115829, 0.053272453129995866, 0.0399543398474969, 0.006567836687259764, 0.09942974984879364, 0.001824399079794379, 0.06586080678057708, 0.0003648798159588758, 0.02244010868147086, 0.05710369119756406, 0.05090073432626317, 0.0007297596319177516, 0.9825316541703663, 0.9428231136188283, 0.028156968539034894, 0.04927469494331106, 0.6968849713411136, 0.03519621067379362, 0.04223545280855234, 0.07039242134758723, 0.07743166348234595, 0.9846611448416702, 0.078421078918089, 0.00653508990984075, 0.13723688810665574, 0.156842157836178, 0.05881580918856675, 0.5358773726069415, 0.01960526972952225, 0.9556994534662981, 0.03295515356780339, 0.9697322031008915, 0.9661019914205397, 0.19743455397634235, 0.03335043141492269, 0.3868650044131033, 0.029348379645131973, 0.013340172565969078, 0.02001025884895362, 0.0026680345131938157, 0.07337094911282993, 0.006670086282984539, 0.016008207079162895, 0.02001025884895362, 0.006670086282984539, 0.036018465928116514, 0.1547460017652413, 0.21373330224535914, 0.19050142156651576, 0.013939128407306031, 0.009292752271537355, 0.023231880678843384, 0.055756513629224125, 0.013939128407306031, 0.004646376135768677, 0.013939128407306031, 0.45534486130533036, 0.04218788852427285, 0.2970027352108809, 0.06834437940932202, 0.11137602570408033, 0.01687515540970914, 0.010125093245825485, 0.05821928616349653, 0.003375031081941828, 0.019406428721165513, 0.372940934554572, 0.04037103267996628, 0.9285337516392245, 0.7891253634981326, 0.041532913868322766, 0.05537721849109702, 0.013844304622774256, 0.08306582773664553, 0.20440919135610003, 0.04866885508478572, 0.7202990552548286, 0.02433442754239286, 0.9327327496435062, 0.8829610811433011, 0.04255234125991813, 0.06382851188987719, 0.038003598619496745, 0.02533573241299783, 0.03483663206787201, 0.019001799309748373, 0.7600719723899348, 0.03483663206787201, 0.08550809689386767, 0.06507959057262806, 0.911114268016793, 0.02603183622905123, 0.9912824311976858, 0.8631137872822914, 0.11663699828139074, 0.025395246794718055, 0.04232541132453009, 0.09029421082566419, 0.022573552706416047, 0.01410847044151003, 0.16930164529812036, 0.03386032905962407, 0.06772065811924814, 0.38092870192077083, 0.036682023147926075, 0.0987592930905702, 0.01410847044151003, 0.978215331505411, 0.9700800273364268, 0.9386820433842517, 0.9894136571621597, 0.07787665427514709, 0.051917769516764724, 0.856643197026618, 0.14728109905175957, 0.18862316194348155, 0.15374079637859114, 0.09431158097174078, 0.0077516367921978725, 0.001291939465366312, 0.09043576257564184, 0.06330503380294929, 0.1485730385171259, 0.002583878930732624, 0.06330503380294929, 0.015503273584395745, 0.016795213049762055, 0.0077516367921978725, 0.001291939465366312, 0.9077633569924144, 0.060517557132827624, 0.91188608330163, 0.05066033796120167, 0.12036287245479532, 0.6860683729923334, 0.04814514898191813, 0.10832658520931579, 0.024072574490959064, 0.10407626113353717, 0.2321701209901983, 0.5363930381497685, 0.12008799361561981, 0.9731325351947406, 0.16221170751706626, 0.14418818445961445, 0.6668703531257169, 0.05050985011267221, 0.01942686542795085, 0.05245253665546729, 0.009713432713975425, 0.02719761159913119, 0.060223282826647635, 0.001942686542795085, 0.07576477516900831, 0.23700775822100037, 0.025254925056336103, 0.021369551970745936, 0.025254925056336103, 0.05245253665546729, 0.04856716356987713, 0.13598805799565594, 0.15735760996640188, 0.9463174425484732, 0.955936337241171, 0.9918669387375327, 0.9612810170484033, 0.026455953528462493, 0.8333625361465685, 0.026455953528462493, 0.07936786058538747, 0.026455953528462493, 0.14042509775992493, 0.010801930596917302, 0.14762638482453647, 0.23404182959987488, 0.021603861193834603, 0.007201287064611535, 0.10081801890456149, 0.10801930596917303, 0.010801930596917302, 0.2124379684060403, 0.9849632589519531, 0.9577150036500729, 0.9652431558091447, 0.04463609500655054, 0.02603772208715448, 0.07439349167758423, 0.0632344679259466, 0.007439349167758423, 0.3831264821395588, 0.08183284084534265, 0.23805917336826954, 0.07811316626146345, 0.0037196745838792115, 0.9806125495685125, 0.9372262676973281, 0.9890662926865148, 0.24725692537960234, 0.05602866289390004, 0.012789151312738053, 0.06516377097442722, 0.016443194544948924, 0.0012180144107369574, 0.020097237777159795, 0.12058342666295878, 0.042021497170425026, 0.049329583634846776, 0.038976461143582636, 0.0371494395274772, 0.07186285023348048, 0.0858700159569555, 0.02192425939326523, 0.007917093669790223, 0.07612590067105983, 0.029841353063055454, 0.9852208529570241, 0.03716055204023056, 0.006193425340038428, 0.09909480544061484, 0.17341590952107597, 0.09909480544061484, 0.4273463484626515, 0.012386850680076856, 0.04954740272030742, 0.08670795476053798, 0.1527429510284444, 0.09252697994992305, 0.06315333552137606, 0.07784015773564955, 0.13071271770703416, 0.013218139992846151, 0.03377969109282905, 0.05140387774995726, 0.21149023988553842, 0.044060466642820505, 0.03377969109282905, 0.02496759776426495, 0.00146868222142735, 0.03377969109282905, 0.00146868222142735, 0.035248373314256405, 0.9793332357839418, 0.9357539132513024, 0.7709242364663866, 0.10123247549558613, 0.12459381599456755, 0.12326106323537749, 0.049304425294150994, 0.8135230173534914, 0.0633465175989571, 0.9248591569447736, 0.9822098109937104, 0.9678677914209424, 0.9751018881880642, 0.9759533865361228, 0.24138263429715548, 0.024138263429715548, 0.012069131714857774, 0.6275948491726042, 0.06034565857428887, 0.024138263429715548, 0.04937338054574372, 0.7833909713258004, 0.141537024231132, 0.026332469624396653, 0.02528608303540382, 0.0072245951529725195, 0.0018061487882431299, 0.05057216607080764, 0.07043980274148207, 0.02347993424716069, 0.556293826778884, 0.0018061487882431299, 0.0668275051649958, 0.09391973698864275, 0.1029504809298584, 0.011293509161519565, 0.1581091282612739, 0.04517403664607826, 0.677610549691174, 0.05646754580759783, 0.0338805274845587, 0.0737844175803588, 0.12912273076562789, 0.7931824889888571, 0.7412013944996776, 0.05971764789807829, 0.0035128028175340172, 0.010538408452602052, 0.02458961972273812, 0.10889688734355453, 0.04917923944547624, 0.09166099898413223, 0.06688775601544784, 0.0024773242968684386, 0.049546485937368774, 0.09909297187473755, 0.01486394578121063, 0.25268707828058073, 0.1486394578121063, 0.141207484921501, 0.12882086343715882, 0.8929652219917205, 0.09237571261983314, 0.007697976051652762, 0.007697976051652762, 0.11282723054627332, 0.6660884694900473, 0.02446855602208337, 0.10059295253523164, 0.021749827575185218, 0.07204630384280103, 0.0027187284468981523, 0.07341977846377895, 0.019491976583304146, 0.17932618456639815, 0.11435292928871765, 0.0025989302111072195, 0.031187162533286635, 0.07277004591100214, 0.06757218548878771, 0.07536897612210937, 0.05132887166936759, 0.01754277892497373, 0.0669224529360109, 0.03443582529717066, 0.033786092744393856, 0.016893046372196928, 0.04158288337771551, 0.031187162533286635, 0.031187162533286635, 0.023390371899964974, 0.013644383608312903, 0.9578521758438224, 0.032287151994735586, 0.027215328702058814, 0.06273363904203387, 0.07149789743761213, 0.0802621558331904, 0.07564938825657026, 0.07426555798358422, 0.039669801158933184, 0.03597958709763707, 0.026292775186734785, 0.05443065740411763, 0.04105363143191923, 0.08118470934851443, 0.03874724764360916, 0.09271662829006477, 0.008302981637916249, 0.038285970885947145, 0.043360015220229295, 0.04474384549321534, 0.039669801158933184, 0.02444766815608673, 0.7562454905392124, 0.07455941456020404, 0.1597701740575801, 0.94818165273967, 0.9722896211874379, 0.8468464741002575, 0.03812542107136221, 0.03697010528132093, 0.0439020000215686, 0.03350415791119709, 0.045284021950508416, 0.3299264456394185, 0.5240008254273116, 0.10350633588687638, 0.9585083425824074, 0.018000521796218777, 0.8347741982996457, 0.0810023480829845, 0.06075176106223837, 0.002250065224527347, 0.8519482212653886, 0.02887960072086063, 0.0866388021625819, 0.014439800360430315, 0.9923600760079527, 0.9456188210649172, 0.9328697413472463, 0.11188671991533544, 0.8671220793438497, 0.9436345390768184, 0.021944989280856243, 0.021944989280856243, 0.15758279670658168, 0.02865141758301485, 0.7879139835329083, 0.9792591003200292, 0.8958870765192903, 0.045361370963002044, 0.045361370963002044, 0.04458915928658118, 0.07134265485852989, 0.17835663714632471, 0.035671327429264946, 0.5439877432962904, 0.11593181414511107, 0.9684296420398913, 0.9594152305342151, 0.8329084318289833, 0.01660282588363422, 0.01936996353090659, 0.027671376472723698, 0.047041340003630285, 0.013835688236361849, 0.03320565176726844, 0.00830141294181711, 0.9721932076690402, 0.9828099097608274, 0.005449732736219938, 0.10899465472439877, 0.2125395767125776, 0.6648673938188325, 0.9872678400719428, 0.5442461769170841, 0.4517243268411798, 0.24437732872859666, 0.5109707782507021, 0.03554579326961406, 0.15995606971326326, 0.01777289663480703, 0.013329672476105272, 0.004443224158701757, 0.013329672476105272, 0.9320119613196735, 0.9649415567944135, 0.11292954082797042, 0.6420488501005959, 0.045679364829291406, 0.016495326188355232, 0.0723256609797114, 0.0050754849810323785, 0.0241085536599038, 0.016495326188355232, 0.01395758369783904, 0.01395758369783904, 0.036797266112484746, 0.368153374425846, 0.6230287874898932, 0.967955033781484, 0.9643967039686858, 0.9859744202649989, 0.0380060675957921, 0.046114028682894416, 0.07753237789541588, 0.1626659693099902, 0.06486368869681852, 0.07398514491980862, 0.016722669742148522, 0.041046553003455465, 0.0658771838327063, 0.002026990271775579, 0.049661261658501675, 0.07145140708008915, 0.033445339484297044, 0.08361334871074262, 0.015709174606260735, 0.04662077625083831, 0.030911601644577572, 0.03699257245990431, 0.036485824891960415, 0.007094465951214525, 0.05691335190705606, 0.07825585887220209, 0.004446355617738755, 0.08625929898413184, 0.05246699628931731, 0.12005160167894638, 0.06491679201898583, 0.03646011606545779, 0.020453235841598274, 0.11026961931992113, 0.16985078459762043, 0.0417957428067443, 0.08625929898413184, 0.00889271123547751, 0.00978198235902526, 0.002667813370643253, 0.02667813370643253, 0.016896151347407268, 0.006224897864834257, 0.976714480463715, 0.18166474543390457, 0.0435995389041371, 0.13476221115824194, 0.0971080639228508, 0.04227834075552688, 0.08059308706522311, 0.08125368613952823, 0.10965944633464784, 0.017836175006237902, 0.017175575931932797, 0.030387557418034946, 0.04954493057288307, 0.061435713910375, 0.0066059907430510755, 0.009908986114576614, 0.028405760195119624, 0.007266589817356183, 0.9083191910016669, 0.04224740423263567, 0.04224740423263567, 0.9365892595405836, 0.03902455248085765, 0.9674735480948583, 0.02562824628745833, 0.9226168663484998, 0.02562824628745833, 0.9620860912396203, 0.9732815605526973, 0.9855238671348322, 0.9795290490691643, 0.9936899966313626, 0.9842977788899452, 0.11288276847527688, 0.23341860599972508, 0.02104593988522111, 0.028699008934392426, 0.05548475060649202, 0.0019132672622928285, 0.08418375954088445, 0.09183682859005576, 0.009566336311464143, 0.22002573516367527, 0.06122455239337051, 0.0535714833441992, 0.02487247440980677, 0.9703787873489634, 0.9633528462086148, 0.02627325944205313, 0.7603213412554731, 0.08344990330852753, 0.11126653774470338, 0.027816634436175845, 0.018544422957450565, 0.8358388863949278, 0.007083380393177354, 0.09916732550448294, 0.04958366275224147, 0.03206522490258916, 0.09619567470776748, 0.1603261245129458, 0.10688408300863053, 0.10153987885819901, 0.5023551901405635, 0.9743978629836975, 0.3493315084320382, 0.04517913273024051, 0.17829622023898486, 0.0024203106819771702, 0.03711143045698327, 0.007260932045931511, 0.009681242727908681, 0.006454161818605787, 0.009681242727908681, 0.12666292569013857, 0.05405360523082346, 0.029043728183726043, 0.014521864091863021, 0.029043728183726043, 0.017748945001165913, 0.03630466022965755, 0.03711143045698327, 0.008067702273257234, 0.0024203106819771702, 0.8125751017240256, 0.03869405246304884, 0.01934702623152442, 0.12575567050490874, 0.9829044112031369, 0.7744807933961153, 0.008800918106774039, 0.022002295266935094, 0.0924096401211274, 0.035203672427096155, 0.057205967694031246, 0.008800918106774039, 0.300372733795577, 0.15707564978300817, 0.12262923535690988, 0.009989460183568501, 0.043746946321144814, 0.002066784865565897, 0.0520140857834084, 0.01343410162617833, 0.12056245049134398, 0.012056245049134398, 0.023768025954007815, 0.02583481081957371, 0.01963445622287602, 0.05304747821619135, 0.0013778565770439313, 0.011711780904873416, 0.028590523973661575, 0.0024112490098268796, 0.9732553552462749, 0.9786702237257072, 0.1759579151163345, 0.5325042167994333, 0.08797895755816725, 0.06482660030601797, 0.05093518595472841, 0.05093518595472841, 0.004630471450429855, 0.02778282870257913, 0.09004926923266772, 0.06432090659476265, 0.8361717857319145, 0.9980691074792072, 0.9692252763799143, 0.10842527820765853, 0.19757495140062223, 0.01927560501469485, 0.10360637695398482, 0.0385512100293897, 0.38310264966706015, 0.06746461755143197, 0.016866154387857994, 0.02409450626836856, 0.02409450626836856, 0.01204725313418428, 0.007228351880510569, 0.05696808355773428, 0.07350720459062487, 0.5035243514457803, 0.34180850134640567, 0.023889841491953084, 0.9482680990258375, 0.9557844539542447, 0.971393895400857, 0.2091125359060819, 0.06653580687920788, 0.5512966855705795, 0.16158695956379057, 0.013646690378901314, 0.1746776368499368, 0.0436694092124842, 0.11736153725855131, 0.04639874728826447, 0.03821073306092368, 0.31114454063895, 0.03548139498514342, 0.0873388184249684, 0.02729338075780263, 0.02729338075780263, 0.0736921280460671, 0.9798725045016076, 0.9662525738837874, 0.12853738845098767, 0.6748212893676853, 0.048201520669120375, 0.13657097522917439, 0.9133634510523763, 0.0664264328038092, 0.03958806700942171, 0.17319779316621997, 0.002474254188088857, 0.025979668974932996, 0.06680486307839913, 0.11257856555804298, 0.03463955863324399, 0.00742276256426657, 0.12866121778062056, 0.023505414786844137, 0.019794033504710856, 0.10268154880568756, 0.006185635470222142, 0.16824928479004225, 0.04453657538559942, 0.006185635470222142, 0.028453923163021852, 0.008659889658310998, 0.5308411264233597, 0.1555330688883729, 0.04733615140080914, 0.050717305072295514, 0.030430383043377307, 0.02704922937189094, 0.050717305072295514, 0.006762307342972735, 0.09467230280161829, 0.9373486791351818, 0.9435916632138269, 0.9632308790613241, 0.06857442486608557, 0.12571977892115688, 0.742889602715927, 0.04571628324405705, 0.9569278393343476, 0.9400284085804161, 0.0944441700860353, 0.00813394766291213, 0.0004518859812728962, 0.0022594299063644807, 0.06552346728456994, 0.01039337756927661, 0.035698992520558796, 0.03886219438946907, 0.08902153831076054, 0.4356180859470719, 0.0009037719625457924, 0.015816009344551366, 0.03705465046437748, 0.009037719625457923, 0.09354039812348951, 0.034795220558013006, 0.02801693083891956, 0.03155666476940746, 0.9466999430822237, 0.9633489552646305, 0.9710438713292684, 0.24520188506005874, 0.012260094253002937, 0.7356056551801763, 0.9824084503328914, 0.9221622679172661, 0.9223739559351603, 0.056832154266180435, 0.015786709518383454, 0.2967901389456089, 0.02946852443431578, 0.24311532658310517, 0.06314683807353381, 0.02104894602451127, 0.18102093581079692, 0.02104894602451127, 0.009472025711030072, 0.03788810284412029, 0.023153840626962397, 0.9639895032547148, 0.992940431459387, 0.991724449369647, 0.6363836836722968, 0.3549062851249348, 0.13173904357012167, 0.004622422581407778, 0.030045746779150558, 0.002311211290703889, 0.13636146615152947, 0.013867267744223335, 0.006933633872111667, 0.16178479034927223, 0.002311211290703889, 0.05546907097689334, 0.03466816936055834, 0.018489690325631112, 0.39983955329177284, 0.9618965837228312, 0.5030695006014081, 0.04890953478069245, 0.17293014083173402, 0.008733845496552223, 0.024454767390346226, 0.17118337173242357, 0.04366922748276112, 0.010480614595862667, 0.013974152794483557, 0.19146928361471746, 0.36885994343423506, 0.0225257980723197, 0.03378869710847955, 0.07884029325311895, 0.01126289903615985, 0.014078623795199812, 0.039420146626559474, 0.0225257980723197, 0.12952333891583828, 0.0028157247590399623, 0.028157247590399625, 0.016894348554239776, 0.039420146626559474, 0.9380601615659828, 0.97855949175552, 0.9336048953821829, 0.09535325366085563, 0.8899637008346525, 0.9903313597410152, 0.9515695807471628, 0.978674640461448, 0.9755995581504491, 0.13554181942035146, 0.49041494662999896, 0.05914552120160791, 0.044359140901205935, 0.029572760600803955, 0.007393190150200989, 0.022179570450602967, 0.08378948836894454, 0.014786380300401978, 0.019715173733869305, 0.09118267851914554, 0.04210784515763972, 0.610563754785776, 0.06550109246743957, 0.07017974192939953, 0.023393247309799844, 0.03508987096469977, 0.12866286020389914, 0.0046786494619599685, 0.007017974192939954, 0.011696623654899922, 0.15227970153435402, 0.09385555861894593, 0.09253630377892058, 0.09517481345897127, 0.03467755579495191, 0.05277019360101377, 0.07613985076717701, 0.040331505109346244, 0.05748181802967572, 0.017527242874622432, 0.035808345657830774, 0.015454128126011176, 0.07840143049293476, 0.03185058113775474, 0.02808128159482519, 0.02280426223472381, 0.017904172828915387, 0.03430062584065895, 0.0203542175318196, 0.0020731147486112555, 0.21213717019803538, 0.1255754513241244, 0.07497951705275388, 0.09997268940367185, 0.01097261225162252, 0.16885631076107988, 0.022554814072779622, 0.053034292549508845, 0.015849328807899195, 0.015849328807899195, 0.0006095895695345844, 0.09692474155599892, 0.014020560099295441, 0.01889727665557212, 0.02316440364231421, 0.017068507946968365, 0.019506866225106702, 0.009753433112553351, 0.0245119618204282, 0.019609569456342558, 0.027780223396485292, 0.05882870836902768, 0.37993540821663707, 0.02532902721444247, 0.11602328595002681, 0.013073046304228373, 0.0915113241295986, 0.0016341307880285466, 0.06209696994508477, 0.08742599715952724, 0.013073046304228373, 0.07762121243135596, 0.027225691113513226, 0.952899188972963, 0.984659065346342, 0.9767956099214137, 0.35129873483200297, 0.13173702556200112, 0.1786778047852429, 0.00605687473848281, 0.016656405530827728, 0.007571093423103512, 0.016656405530827728, 0.01211374947696562, 0.004542656053862107, 0.03785546711551756, 0.01817062421544843, 0.01817062421544843, 0.15596452451593235, 0.015142186846207025, 0.02574171763855194, 0.004542656053862107, 0.08543973691350902, 0.07119978076125752, 0.08543973691350902, 0.7404777199170782, 0.04384328663798567, 0.9518864676736001, 0.0038971810344876155, 0.9974854706452299, 0.0022135364999656916, 0.09075499649859335, 0.06640609499897075, 0.06197902199903936, 0.06640609499897075, 0.017708291999725533, 0.0265624379995883, 0.006640609499897075, 0.24791608799615744, 0.02877597449955399, 0.03098951099951968, 0.07526024099883351, 0.19257767549701515, 0.008854145999862766, 0.01549475549975984, 0.06419255849900506, 0.05880398908121468, 0.7229431598808158, 0.10377174543743767, 0.01383623272499169, 0.051885872718718834, 0.04496775635622299, 0.14754919272768652, 0.5623573005847675, 0.008351841097793576, 0.1280615634995015, 0.0668147287823486, 0.013919735162989293, 0.0668147287823486, 0.0027839470325978586, 0.9587112580611176, 0.007946951291901207, 0.15893902583802413, 0.11125731808661689, 0.014569410701818879, 0.27946778709852577, 0.03973475645950603, 0.07417154539107793, 0.03973475645950603, 0.14966758266413938, 0.017218394465785946, 0.017218394465785946, 0.05430416716132491, 0.03708577269553896, 0.8898642059145105, 0.09080246999127659, 0.9786149914729885, 0.14851973639756322, 0.08196990915931085, 0.19315681564273252, 0.008927415849033855, 0.06492666072024622, 0.10388265715239395, 0.10063632411638164, 0.01136216562604309, 0.043825495986166196, 0.02515908102909541, 0.017043248439064632, 0.012985332144049243, 0.024347497770092333, 0.030840163842116956, 0.006492666072024622, 0.024347497770092333, 0.034086496878129265, 0.02515908102909541, 0.0016231665180061554, 0.04139074620915697, 0.054026140391598323, 0.18233822382164436, 0.0033766337744748952, 0.0033766337744748952, 0.1587017874003201, 0.11818218210662133, 0.46935209465201044, 0.010129901323424687, 0.06871995240620148, 0.09620793336868207, 0.700943514543255, 0.06871995240620148, 0.041231971443720886, 0.17022858011577688, 0.060795921469920314, 0.08511429005788844, 0.6687551361691234, 0.049216115727732, 0.0147648347183196, 0.1328835124648764, 0.5807501655872376, 0.1033538430282372, 0.0098432231455464, 0.1033538430282372, 0.1000057947274341, 0.2047362726703375, 0.05669619858563193, 0.08583174508102612, 0.01889873286187731, 0.02519831048250308, 0.12362921080478073, 0.06378322340883592, 0.015748944051564424, 0.13071623562798473, 0.0519715153701626, 0.002362341607734664, 0.04645938495211505, 0.010236813633516875, 0.017323838456720867, 0.015748944051564424, 0.029922993697972407, 0.14978201952070233, 0.06921744841487001, 0.11301734200198449, 0.03744550488017558, 0.05378536155516129, 0.07738737675236287, 0.05446618891661903, 0.04175741150274125, 0.041303526595102766, 0.045615433217668436, 0.024963669920117056, 0.048338742663499384, 0.051742879470788074, 0.04016881432600653, 0.043346008679475974, 0.027913921819767252, 0.03585690770344086, 0.023148130289563088, 0.01838233875935892, 0.0018155396305539677, 0.9287811940794751, 0.034399303484425006, 0.05490613513154711, 0.0648890687918284, 0.014974400490421938, 0.18967573954534456, 0.004991466830140646, 0.024957334150703232, 0.03494026781098452, 0.4991466830140646, 0.029948800980843876, 0.004991466830140646, 0.07487200245210969, 0.14121429139156624, 0.5330981281448686, 0.017013770047176656, 0.03402754009435331, 0.0017013770047176655, 0.0005671256682392218, 0.0028356283411961093, 0.09470998659595005, 0.009641136360066771, 0.053876938482726074, 0.03516179143083176, 0.0005671256682392218, 0.007372633687109884, 0.0005671256682392218, 0.06805508018870662, 0.0005671256682392218, 0.9701425864268239, 0.002339770662226401, 0.009359082648905604, 0.15676463436916888, 0.2234480982426213, 0.004679541324452802, 0.014038623973358406, 0.08306185850903725, 0.08306185850903725, 0.08423174384015043, 0.04913518390675442, 0.046795413244528024, 0.10178002380684845, 0.026907362615603614, 0.0011698853311132005, 0.030417018608943216, 0.051474954568980824, 0.029247133277830014, 0.9546310134158058, 0.021696159395813767, 0.06422814044103832, 0.9206033463215493, 0.9776464387524325, 0.9733806204626877, 0.9790309604712728, 0.9333254883360825, 0.17457181340856243, 0.612154905168351, 0.0007690388255883807, 0.018456931814121138, 0.026147320070004944, 0.02153308711647466, 0.09305369789619407, 0.0007690388255883807, 0.016149815337355995, 0.018456931814121138, 0.016918854162944374, 0.07622402021518815, 0.0026284144901789017, 0.026284144901789017, 0.01839890143125231, 0.023655730411610114, 0.1629616983910919, 0.04731146082322023, 0.13667755348930288, 0.08936609266608266, 0.1314207245089451, 0.2786119359589636, 0.007885243470536705, 0.8919740270255804, 0.08794110125604314, 0.9603150032408061, 0.046193031028533255, 0.010265118006340723, 0.1745070061077923, 0.0667232670412147, 0.07698838504755542, 0.4875931053011843, 0.1334465340824294, 0.9643645828614696, 0.017749041402358338, 0.011832694268238892, 0.9812381995838373, 0.9695001010007255, 0.5903523246811273, 0.00863930231240674, 0.11807046493622546, 0.03167744181215805, 0.02303813949975131, 0.00863930231240674, 0.060475116186847186, 0.1267097672486322, 0.025917906937220223, 0.06574481916270021, 0.013148963832540043, 0.11834067449286038, 0.6574481916270022, 0.14463860215794047, 0.24694139866773365, 0.7408241960032009, 0.9136388467667829, 0.039723428120294904, 0.9584127346430042, 0.24044965537641355, 0.029323128704440676, 0.6627027087203593, 0.05864625740888135, 0.9639497983219182, 0.929300455586439, 0.21757916089348342, 0.11545016700470548, 0.017761564154570076, 0.004440391038642519, 0.21757916089348342, 0.0488443014250677, 0.37299284724597154, 0.04929377385973569, 0.10073075527859032, 0.03429132094590309, 0.010716037795594716, 0.15216773669744496, 0.19074547276158593, 0.01928886803207049, 0.075012264569163, 0.017145660472951546, 0.03857773606414098, 0.2893330204810573, 0.023575283150308372, 0.059518414694710156, 0.8927762204206523, 0.03967894312980677, 0.9648132781558828, 0.1388830949829703, 0.04166492849489108, 0.6527505464199603, 0.05555323799318811, 0.0972181664880792, 0.9617541350738338, 0.05823909734147093, 0.07279887167683866, 0.0873586460122064, 0.18927706635978053, 0.0436793230061032, 0.004853258111789244, 0.033972806782524706, 0.09706516223578489, 0.06309235545326017, 0.05823909734147093, 0.2863422285955654, 0.12415089793469893, 0.009801386679055179, 0.6501586497106602, 0.07187683564640464, 0.016335644465091965, 0.006534257786036786, 0.026137031144147144, 0.09474673789753339, 0.7656585507365378, 0.23243206004502037, 0.9854843447379784, 0.9902542871723079, 0.9770583433601362, 0.9418903681473044, 0.0010187911468593138, 0.13448043138542942, 0.05093955734296569, 0.0448268104618098, 0.38204668007224263, 0.012225493762311765, 0.13957438711972597, 0.04278922816809118, 0.01120670261545245, 0.003056373440577941, 0.007131538028015196, 0.07742812716130784, 0.0886348297767603, 0.0020375822937186276, 0.04872526668927836, 0.7004257086583765, 0.06699724169775775, 0.02436263334463918, 0.1461758000678351, 0.13931975918760386, 0.030837575156149474, 0.0176214715177997, 0.2252244328368774, 0.102975474182142, 0.0787459508451674, 0.0033040259095874435, 0.06442850523695515, 0.08204997675475485, 0.015969458563005978, 0.03634428500546188, 0.08590467364927354, 0.029736233186286994, 0.0005506709849312406, 0.04295233682463677, 0.010462748713693572, 0.03469227205066816, 0.9775960924923652, 0.01284665947235098, 0.9763461198986745, 0.0651092549886666, 0.02545179967738785, 0.019532776496599978, 0.11778856129767866, 0.16040552819935136, 0.007102827816945447, 0.055638817899406, 0.027819408949703, 0.07162018048753326, 0.03551413908472723, 0.011246144043496957, 0.1254832914327029, 0.008878534771181808, 0.04084125994743632, 0.04261696690167268, 0.002367609272315149, 0.14560797024738167, 0.0372898460389636, 0.826952504354216, 0.1575147627341364, 0.9465597429297059, 0.03681276603280281, 0.7998410074399883, 0.010039845281673494, 0.0568924565961498, 0.09035860753506145, 0.9595535825964865, 0.03347279939290069, 0.7703318035187547, 0.10807640228472082, 0.01379698752570904, 0.10577690436376931, 0.9765984010006076, 0.07065941359855817, 0.883242669981977, 0.053840418641985015, 0.8345264889507676, 0.09422073262347377, 0.03971473123978261, 0.913438818515, 0.9866294323769874, 0.9713790691678383, 0.9743117420794196, 0.14956013706038018, 0.004335076436532759, 0.04768584080186035, 0.022759151291796984, 0.2687747390650311, 0.09862298893112027, 0.13005229309598276, 0.035764380601395265, 0.04768584080186035, 0.007586383763932328, 0.006502614654799139, 0.1278847548777164, 0.0032513073273995694, 0.0054188455456659484, 0.04551830258359397, 0.9770360584931453, 0.9802636730814022, 0.9201623158841162, 0.9697623877437774, 0.9978265867922362, 0.9948776934080437, 0.9945697318138341, 0.01172758926634179, 0.16418624972878507, 0.07622933023122165, 0.5687880794175769, 0.01172758926634179, 0.03518276779902538, 0.01172758926634179, 0.01759138389951269, 0.09382071413073433, 0.9530259734899035, 0.9490429833077004, 0.9670927712218056, 0.9552864328108664, 0.12343176347538466, 0.04997850545629072, 0.031047253389513935, 0.3649945398474565, 0.06512350710971215, 0.030290003306842863, 0.09389901025121287, 0.06588075719238323, 0.008329750909381787, 0.037862504133553576, 0.0719387578537518, 0.013630501488079289, 0.006815250744039644, 0.015902251736092502, 0.01968850214944786, 0.11595955196333999, 0.005521883426825714, 0.45417491185641495, 0.04831647998472499, 0.11595955196333999, 0.020707062850596425, 0.1656565028047714, 0.05936024683837642, 0.0013804708567064284, 0.002760941713412857, 0.008282825140238571, 0.9673714697626202, 0.18345365809022618, 0.02346500277898242, 0.076794554549397, 0.07252819040776384, 0.005332955177041459, 0.31784412855167093, 0.09812637525756283, 0.01919863863734925, 0.008532728283266334, 0.0778611455848053, 0.028797957956023877, 0.015998865531124375, 0.015998865531124375, 0.04053045934551509, 0.010665910354082918, 0.00639954621244975, 0.3185740746198681, 0.02426739304235624, 0.016522480369263823, 0.03665925331930411, 0.001032655023078989, 0.062475628896278834, 0.06350828391935782, 0.020136772950040287, 0.003097965069236967, 0.01032655023078989, 0.046985803550094, 0.001032655023078989, 0.1316635154425711, 0.05834500880396288, 0.058861336315502374, 0.025816375576974724, 0.04182252843469905, 0.008261240184631912, 0.06195930138473934, 0.008261240184631912, 0.11521082678581336, 0.04066264474793413, 0.06777107457989022, 0.013554214915978044, 0.603162563761023, 0.054216859663912174, 0.04743975220592315, 0.060993967121901194, 0.9895977391206227, 0.9400148356498267, 0.9631339221769349, 0.09847976576144289, 0.8616979504126253, 0.9805925519454837, 0.018686427940884896, 0.04854391842930901, 0.7443400825827382, 0.06472522457241202, 0.040453265357757506, 0.08899718378706652, 0.012135979607327253, 0.9727316473933852, 0.9902507982866224, 0.052716916261887826, 0.0007752487685571739, 0.04573967734487326, 0.05426741379900218, 0.032560448279401306, 0.02170696551960087, 0.020156467982486524, 0.16900423154546393, 0.03798718965930152, 0.13566853449750543, 0.03566144335363, 0.20389042613053676, 0.012403980296914783, 0.017055472908257825, 0.1100853251351187, 0.05039116995621631, 0.1842518022716111, 0.16822990642190577, 0.6328648860633599, 0.02822629445737101, 0.10584860421514129, 0.8397322601067876, 0.02822629445737101, 0.04340919717450752, 0.05064406337025878, 0.6004938942473541, 0.07234866195751254, 0.21704598587253762, 0.007234866195751254, 0.9839513402709741, 0.9641416246294576, 0.8184281568411799, 0.17903115930900812, 0.9750926046598086, 0.9652169842874352, 0.9163449981746057, 0.05090805545414476, 0.6268773358542619, 0.19502850448799258, 0.1671672895611365, 0.9673572051893274, 0.0554034814860078, 0.0554034814860078, 0.05253778416776602, 0.07546336271370029, 0.05731394636483566, 0.18149416348864625, 0.1002994061384624, 0.1002994061384624, 0.06400057344073315, 0.0038209297576557106, 0.01146278927296713, 0.11653835760849918, 0.01241802171238106, 0.018149416348864626, 0.05922441124366351, 0.021970346106520336, 0.01146278927296713, 0.0009552324394139276, 0.9848136290578374, 0.06843865258763147, 0.08088204396720083, 0.503957350872559, 0.13998815302015527, 0.06532780474273914, 0.037330174138708073, 0.09954713103655487, 0.23644664003563942, 0.0032242723641223558, 0.04406505564300553, 0.17894711620879075, 0.04030340455152945, 0.0558873876447875, 0.06717234091921574, 0.20420391639441585, 0.03170534491386983, 0.06985923455598438, 0.0064485447282447116, 0.016121361820611777, 0.008060680910305889, 0.03654175346005337, 0.2562136075520429, 0.04210082753202583, 0.0890131782105689, 0.1780263564211378, 0.1154765555164137, 0.1527658599019223, 0.0024057615732586187, 0.07939013191753443, 0.0012028807866293094, 0.024057615732586187, 0.003608642359887928, 0.004811523146517237, 0.036086423598879286, 0.010825927079663785, 0.0024057615732586187, 0.9694723961181889, 0.9709613331689685, 0.30656093847215826, 0.02657293547010251, 0.16008573319793465, 0.0414797041484527, 0.013610527923711042, 0.019443611319587203, 0.09462557508865772, 0.09008873244742072, 0.07777444527834881, 0.06740451924123564, 0.005184963018556588, 0.0006481203773195734, 0.002592481509278294, 0.04472030603505057, 0.022036092828865497, 0.02657293547010251, 0.6752151467265849, 0.07456363583483759, 0.09527575690007026, 0.14912727166967518, 0.9385505886024006, 0.926285521804141, 0.029405889581083842, 0.044108834371625764, 0.06107488251036717, 0.0980899628196806, 0.10734373289700896, 0.09623920880421492, 0.06477639054129851, 0.06847789857222986, 0.0490449814098403, 0.09531383179648209, 0.06570176754903134, 0.07125402959542836, 0.0027761310231985076, 0.02220904818558806, 0.025910556216519404, 0.03331357227838209, 0.010179147085061194, 0.032388195270649255, 0.012955278108259702, 0.0009253770077328359, 0.010179147085061194, 0.0721794066031612, 0.9746996665928309, 0.7990615751548145, 0.15245253736506328, 0.04731285642364033, 0.9889011723300608, 0.21427384867370136, 0.7805690201684835, 0.9629412558413307, 0.9475613612269552, 0.05519814076063293, 0.17563044787474114, 0.02509006398210588, 0.12043230711410821, 0.08530621753915998, 0.5268913436242234, 0.07245554221576717, 0.04180127435525029, 0.1428210207137718, 0.10310981007628404, 0.02438407670722933, 0.05155490503814202, 0.06339859943879626, 0.0696687905920838, 0.1442143965256135, 0.013237070212495924, 0.05155490503814202, 0.006270191153287543, 0.11216675285325493, 0.010450318588812572, 0.027170828330912687, 0.02508076461315017, 0.01741719764802095, 0.02229401298946682, 0.11470935029555822, 0.7647290019703882, 0.09559112524629852, 0.023615640802510437, 0.30869016191852927, 0.05144836031975488, 0.08687182152352053, 0.0016868314858936027, 0.016024899115989224, 0.013494651887148821, 0.010964404658308417, 0.023615640802510437, 0.15097141798747743, 0.027832719517244444, 0.11301770955487138, 0.03373662971787205, 0.041327371404393264, 0.011807820401255218, 0.026989303774297643, 0.05566543903448889, 0.0016868314858936027, 0.962272708706829, 0.969397880606535, 0.11775258668419891, 0.007596941076399929, 0.16333423314259848, 0.10255870453139905, 0.34566081897619677, 0.13674493937519874, 0.12534952776059885, 0.7813269603982648, 0.20256624899214273, 0.1970512195263854, 0.023829449803190794, 0.08706914351165868, 0.059573624507976985, 0.0879856608117814, 0.12922893931730392, 0.01283124220171812, 0.1998007714267536, 0.0009165173001227228, 0.036660692004908915, 0.03391114010454074, 0.09348476461251773, 0.0009165173001227228, 0.011914724901595397, 0.02566248440343624, 0.9814061843115653, 0.1525279031929829, 0.07626395159649145, 0.7499288573654992, 0.9728829676820316, 0.9441298301278923, 0.9089594733730965, 0.11210078103502837, 0.3326861888781487, 0.15187847753132877, 0.3616154226936399, 0.018080771134681994, 0.018080771134681994, 0.041234733892863945, 0.052742101490872495, 0.06904420558805126, 0.0009589472998340453, 0.36056418473760105, 0.07479788938705553, 0.010548420298174498, 0.01438420949751068, 0.023973682495851134, 0.10931999218108117, 0.06233157448921295, 0.017261051397012814, 0.0028768418995021357, 0.05178315419103845, 0.013425262197676634, 0.036439997393693725, 0.029727366294855406, 0.02205578789618304, 0.0057536837990042715, 0.14219100130543308, 0.7216193316250729, 0.13508145124016144, 0.9941373289126454, 0.9857908296387158, 0.1339829276410976, 0.0742506007670479, 0.010785003463370085, 0.0008296156510284681, 0.12859042590941255, 0.0033184626041138725, 0.007466540859256213, 0.06927290686087709, 0.040651166900394935, 0.09333176074070267, 0.04521405298105151, 0.04106597472590917, 0.026132893007396744, 0.06595444425676321, 0.07964310249873294, 0.031110586913567554, 0.024058853879825575, 0.021984814752254403, 0.10287234072753004, 0.9840627719890395, 0.015374864488847147, 0.1170855064919898, 0.06268213983914606, 0.3831889303374212, 0.06977823114169089, 0.01774022825636209, 0.01655754637260462, 0.05795141230411617, 0.0390285021639966, 0.04139386593151155, 0.06031677607163111, 0.014192182605089674, 0.03429777462896671, 0.014192182605089674, 0.0035480456512724185, 0.009461455070059783, 0.027201683326421873, 0.01655754637260462, 0.15805861080659148, 0.816636155834056, 0.9557321429204783, 0.7966002448682657, 0.0659605298298564, 0.1319210596597128, 0.8165009845068621, 0.06162271581183865, 0.11554259214719748, 0.007702839476479832, 0.002177690077393276, 0.9973820554461204, 0.9803004999944437, 0.9736111903852305, 0.009934808065155414, 0.972322686764799, 0.9811010960820756, 0.8572662882436495, 0.13659737559926283, 0.5286297810635464, 0.043548448783266976, 0.039919411384661395, 0.07258074797211163, 0.029032299188844653, 0.0846775393007969, 0.058064598377689305, 0.027822620055976126, 0.007258074797211163, 0.010887112195816744, 0.021774224391633488, 0.0012096791328685271, 0.07620978537071721, 0.9346259677806095, 0.061964152560040404, 0.209644554409311, 0.06492218459127051, 0.428756927404849, 0.02434581922172644, 0.0189356371724539, 0.022993273709408305, 0.032461092295635256, 0.0378712743449078, 0.03381363780795339, 0.029756001270998984, 0.02434581922172644, 0.05004418395577102, 0.01217290961086322, 0.01217290961086322, 0.024093874711539686, 0.0017209910508242633, 0.339895732537792, 0.0008604955254121316, 0.1850065379636083, 0.008604955254121315, 0.3054759115213067, 0.037861803118133794, 0.0017209910508242633, 0.02667536128777608, 0.0008604955254121316, 0.04302477627060658, 0.024093874711539686, 0.050066344094928404, 0.9262273657561755, 0.45363700855269534, 0.3024246723684636, 0.06720548274854746, 0.04368356378655585, 0.04704383792398322, 0.02016164482456424, 0.06384520861112009, 0.11971588426550883, 0.043205732667251306, 0.001800238861135471, 0.02610346348646433, 0.009001194305677356, 0.16742221408559882, 0.05220692697292866, 0.004500597152838678, 0.006300836013974149, 0.09721289850131544, 0.06660883786201244, 0.01620214975021924, 0.023403105194761124, 0.05670752412576734, 0.06120812127860602, 0.03870513551441263, 0.025203344055896595, 0.03420453836157395, 0.12781695914061844, 0.02250298576419339, 0.3103987721021328, 0.5579150343387473, 0.04013777225458614, 0.029434366320029836, 0.0013379257418195379, 0.02675851483639076, 0.0013379257418195379, 0.0026758514836390758, 0.028096440578210296, 0.034733724683684776, 0.9378105664594889, 0.9785058938470641, 0.9491216697405536, 0.9532132446464272, 0.2322093860557467, 0.06450260723770741, 0.1284443222385652, 0.06394171500085778, 0.05777190039551186, 0.10432595605403112, 0.058893684869211115, 0.01626587486863926, 0.04487137894797037, 0.014022305921240742, 0.01907033605288741, 0.03253174973727852, 0.01907033605288741, 0.07684223644839927, 0.02187479723713556, 0.003365353421097778, 0.012339629210691852, 0.006730706842195556, 0.01963122828973704, 0.0028044611842481483, 0.9671625012188373, 0.17652813500362097, 0.5269097362986869, 0.19792548470102958, 0.042794699394817205, 0.03744536197046505, 0.013373343560880376, 0.03262561326981998, 0.18759727630146486, 0.3751945526029297, 0.07068882875127662, 0.14953406082000822, 0.013594005529091657, 0.03534441437563831, 0.013594005529091657, 0.013594005529091657, 0.008156403317454994, 0.02446920995236498, 0.0788452320687316, 0.5061719456947017, 0.03187480766339431, 0.08924946145750406, 0.028049830743786995, 0.00509996922614309, 0.017849892291500816, 0.05227468456796667, 0.10582436144246911, 0.07777453069868212, 0.0509996922614309, 0.03314979996993008, 0.15934596233529608, 0.3535488539314382, 0.004979561322978002, 0.004979561322978002, 0.42824227377610824, 0.04979561322978003, 0.07922552899938969, 0.0024007736060421116, 0.17525647324107416, 0.07682475539334757, 0.0024007736060421116, 0.5449756085715594, 0.09603094424168447, 0.021606962454379004, 0.14668100262237768, 0.8451619674908427, 0.9776357831612403, 0.03240820585210375, 0.9398379697110087, 0.965885034220892, 0.8809461354239504, 0.025169889583541438, 0.07550966875062431, 0.09856387309877879, 0.7526695763906743, 0.08960352099888981, 0.05376211259933388, 0.9547708339924258, 0.9295183374179861, 0.05809489608862413, 0.9440025880427146, 0.030451696388474666, 0.963848501597063, 0.01927697003194126, 0.050802412875549804, 0.0015875754023609314, 0.13018118299359638, 0.24448661196358346, 0.09684209954401682, 0.2794132708155239, 0.05238998827791074, 0.0015875754023609314, 0.01905090482833118, 0.12224330598179173, 0.10166526444587325, 0.8641547477899225, 0.0901534332711912, 0.0563458957944945, 0.0525895027415282, 0.0450767166355956, 0.5146258482563831, 0.0713714680063597, 0.0638586819004271, 0.1089353985360227, 0.08314767132094969, 0.8314767132094969, 0.06236075349071227, 0.9894855565825827, 0.9571905697302008, 0.038287622789208026, 0.023908429318408735, 0.9682913873955538, 0.9766185617552174, 0.04075925984804106, 0.07132870473407187, 0.7234768623027289, 0.0611388897720616, 0.06623379725306673, 0.0152847224430154, 0.0152847224430154, 0.9905391927297416, 0.09353641693160232, 0.8730065580282883, 0.6899256347397089, 0.3066336154398706, 0.9827535239644359, 0.9660461070022497, 0.8552267042567983, 0.048870097386102755, 0.08959517854118838, 0.022720605105755482, 0.6799952528079677, 0.006491601458787281, 0.2872533645513372, 0.05940605418227696, 0.019802018060758986, 0.9108928307949133, 0.9771257568631131, 0.975015522359131, 0.9715896659257032, 0.9582542710937475, 0.812186069440009, 0.16660227065436084, 0.9366843999402182, 0.9485353485298638, 0.014845990806021822, 0.12866525365218912, 0.6829155770770038, 0.12371659005018185, 0.02474331801003637, 0.014845990806021822, 0.9660928309649327, 0.8981515705148986, 0.08892589807078204, 0.9487331526824132, 0.10384764544454615, 0.8567430749175058, 0.9783596466999098, 0.0825060299454229, 0.14317222843470445, 0.05945287451949592, 0.10677250934113552, 0.020626507486355725, 0.03275974718421204, 0.2742112171715526, 0.03639971909356893, 0.008493267788499417, 0.021839831456141358, 0.07643941009649476, 0.06309284642885281, 0.003639971909356893, 0.05338625467056776, 0.015773211607213202, 0.9760057497554961, 0.9676248554914172, 0.9444373899631437, 0.02861931484736799, 0.9599219528668046, 0.5446181331771002, 0.10892362663542003, 0.004445862311649797, 0.11114655779124494, 0.05335034773979757, 0.05112741658397267, 0.11114655779124494, 0.013337586934949392, 0.3483565242807147, 0.019276645612371565, 0.16385148770515828, 0.027538065160530804, 0.017899742354345022, 0.0041307097740796205, 0.12529819648041515, 0.033045678192636964, 0.0041307097740796205, 0.25472710273490995, 0.970142501475568, 0.9821871932777464, 0.06255283549082438, 0.14074387985435485, 0.7819104436353047, 0.12064196533457933, 0.8444937573420553, 0.9857094409928912, 0.9713429137652282, 0.9920557957798044, 0.9664342697866646, 0.8310242880788103, 0.04277330894523288, 0.11609898142277497, 0.9641815009298544, 0.9829169871885829, 0.9872268497333639, 0.9812229863873236, 0.010392175739928435, 0.9872566952932014, 0.14043932172336607, 0.15047070184646363, 0.6018828073858545, 0.10031380123097576, 0.9708040997956818, 0.9631225878909838, 0.0971665769013864, 0.0042867607456494, 0.031436245468095605, 0.20576451579117122, 0.025720564473896403, 0.015718122734047803, 0.16575474883177682, 0.07287493267603981, 0.07144601242749, 0.0557278896934422, 0.0085735214912988, 0.0042867607456494, 0.22148263852521902, 0.0200048834796972, 0.19925503657219143, 0.06030086633105793, 0.011797995586511335, 0.08651863430108311, 0.07603152711307304, 0.004588109394754408, 0.010487107188010075, 0.550573127370529, 0.9271161449063131, 0.5438190117898681, 0.25580960094062877, 0.08049952477152654, 0.05008859319117207, 0.06797737647373352, 0.8419891612727053, 0.055515768875123425, 0.06476839702097734, 0.027757884437561713, 0.9765554213338704, 0.10081197037366145, 0.8266581570640239, 0.06048718222419687, 0.20380224968438537, 0.08143650970825336, 0.06540237826310503, 0.07384139481318311, 0.04557068937042157, 0.11139501846103052, 0.04641459102542938, 0.04683654185293328, 0.03881947613035912, 0.05400970592049965, 0.01603413144514833, 0.048102394335445, 0.013502426480124912, 0.02911460709776934, 0.015612180617644428, 0.01603413144514833, 0.048102394335445, 0.01729998392766004, 0.002109754137519517, 0.02573900047773811, 0.9495592452746164, 0.8273014250785126, 0.09321706198067747, 0.0699127964855081, 0.8953647950868958, 0.08446837689499018, 0.9684494161075077, 0.9851167770783217, 0.9501360211676673, 0.17515398968080007, 0.06723082432192325, 0.04600003769394749, 0.03361541216096162, 0.019461554408977785, 0.10261546870188286, 0.1362308808628445, 0.0017692322189979803, 0.07430775319791517, 0.015923089970981824, 0.08492314651190305, 0.0017692322189979803, 0.23884634956472733, 0.9837800611539401, 0.9499517315165474, 0.873661513812646, 0.08190576691993556, 0.9313032118076597, 0.29722175830761893, 0.04608089276087115, 0.38938354382936124, 0.016128312466304903, 0.08294560696956807, 0.03456066957065337, 0.0023040446380435575, 0.03916875884674048, 0.023040446380435575, 0.07142538377935029, 0.9492932442584416, 0.06988278999238247, 0.06114744124333466, 0.8647995261557331, 0.9592786122231762, 0.9703693988998587, 0.9131172211290648, 0.9765016649348378, 0.9331738622759942, 0.9432022264798146, 0.1260161637316332, 0.27221138636146913, 0.06136081175167761, 0.15381384690772879, 0.04838855960283301, 0.056624910173528, 0.006794989220823359, 0.01585497484858784, 0.012560434620309846, 0.00041181752853474904, 0.06671443962262935, 0.022032237776609075, 0.03500448992545367, 0.01091316450617085, 0.018531788784063707, 0.005147719106684363, 0.038299030153731664, 0.034798581161186296, 0.003912266521080116, 0.0105013469776361, 0.9539367834636205, 0.9499761779100141, 0.3793552953887056, 0.027572189389154043, 0.045636727264806685, 0.01616300757295237, 0.006655356059450976, 0.007606121210801115, 0.0047538257567506965, 0.0038030606054005574, 0.07796274241071142, 0.12359946967551812, 0.018064537875652646, 0.07606121210801114, 0.03042448484320446, 0.07035662119991032, 0.054193613626957945, 0.02852295454050418, 0.02852295454050418, 0.9336972598639451, 0.9194605544157062, 0.9772869338759799, 0.972592754937332, 0.015366692296600412, 0.19592532678165525, 0.014086134605217045, 0.14854469220047065, 0.2061697883127222, 0.1549474806573875, 0.030733384593200824, 0.01792780767936715, 0.012805576913833678, 0.003841673074150103, 0.15366692296600412, 0.011525019222450309, 0.024330596136283987, 0.010244461531066942, 0.004232275171239415, 0.5544280474323634, 0.021161375856197075, 0.12696825513718246, 0.12273597996594304, 0.07618095308230947, 0.02539365102743649, 0.06348412756859123, 0.004232275171239415, 0.9754089685982009, 0.9854786070642261, 0.8704659411345333, 0.02901553137115111, 0.09671843790383704, 0.953805608189006, 0.09110407496103466, 0.08459664103524647, 0.7288325996882773, 0.09110407496103466, 0.9372153798773801, 0.04260069908533546, 0.04606918057910984, 0.5670052994351981, 0.010631349364409962, 0.11694484300850959, 0.049612963700579826, 0.007087566242939975, 0.01771891560734994, 0.10985727676556961, 0.03189404809322989, 0.03898161433616986, 0.20720217699103935, 0.020075809014682044, 0.08873011885501446, 0.04833065133164195, 0.007435484820252608, 0.10781452989366282, 0.08377312897484605, 0.02428925041282519, 0.027511293834934652, 0.034203230173162, 0.06815861085231557, 0.022306454460757824, 0.03841667157130514, 0.068406460346324, 0.0671672128762819, 0.01908441103864836, 0.01809301306261468, 0.005204839374176826, 0.03395538067915358, 0.00991397976033681, 0.12014295574954797, 0.0018920150511739838, 0.08703269235400325, 0.034056270921131705, 0.04257033865141464, 0.044462353702588615, 0.20149960295002928, 0.03216425586995773, 0.1040608278145691, 0.06716653431667642, 0.06622052679108943, 0.006622052679108943, 0.017974142986152845, 0.009460075255869919, 0.033110263395544716, 0.02081216556291382, 0.008514067730282926, 0.09554676008428618, 0.007568060204695935, 0.004031146183874959, 0.3430138934642692, 0.003664678348977235, 0.19532735600048662, 0.013192842056318045, 0.004764081853670406, 0.0010994035046931706, 0.009161695872443087, 0.008062292367749918, 0.01465871339590894, 0.11983498201155558, 0.06962888863056747, 0.0029317426791817883, 0.03774618699446552, 0.02382040926835203, 0.0058634853583635765, 0.08135585934729461, 0.016124584735499835, 0.04580847936221544, 0.5631368149515454, 0.04730349245592981, 0.1329002883285647, 0.07883915409321636, 0.036040756156898904, 0.08109170135302253, 0.03378820889709273, 0.027030567117674178, 0.9429042485885502, 0.017905972063624598, 0.9669224914357284, 0.04353501520409045, 0.7981419454083248, 0.15962838908166496, 0.9455196182292864, 0.9742587050067486, 0.9773577189120376, 0.7682404506469633, 0.07682404506469634, 0.14267322654872175, 0.17962430737826532, 0.7746298255687692, 0.04490607684456633, 0.009097872851676264, 0.7096340824307487, 0.2820340584019642, 0.9625582371423431, 0.9388903934335304, 0.976455646901685, 0.9773489688860221, 0.8117712408699825, 0.16235424817399652, 0.8277979679710279, 0.11526300819849755, 0.04191382116309002, 0.939803724310664, 0.030785497284899682, 0.9235649185469905, 0.9760244858815813, 0.8697522688533319, 0.12425032412190455, 0.013524506014504134, 0.21916635387606698, 0.052017330825015896, 0.11409134560953486, 0.02774257644000848, 0.019419803508005935, 0.021153714535506466, 0.1272690694185389, 0.039533171427012084, 0.04750916215351452, 0.046122033331514094, 0.03121039849500954, 0.010750248370503286, 0.0346782205500106, 0.001040346616500318, 0.06762253007252067, 0.0811470360870248, 0.012830941603503922, 0.00346782205500106, 0.02947648746750901, 0.9643916949094439, 0.9620990263625697, 0.927173247552027, 0.02726980139858903, 0.9543262345272642, 0.9565235967642417, 0.9702966080618686, 0.036336316750050765, 0.8357352852511676, 0.1090089502501523, 0.023745987740818805, 0.3324438283714633, 0.023745987740818805, 0.10685694483368463, 0.5105387364276043, 0.14441414786299317, 0.7862548050318517, 0.06418406571688585, 0.9658188342741183, 0.015019248678150101, 0.060076994712600404, 0.11264436508612576, 0.0901154920689006, 0.5031448307180284, 0.037548121695375254, 0.1051347407470507, 0.06758661905167546, 0.125273601575372, 0.8590189822311223, 0.9696848615466214, 0.9570897711404311, 0.007963561779116808, 0.007963561779116808, 0.915809604598433, 0.023890685337350427, 0.031854247116467234, 0.9803084798641868, 0.5029884092080891, 0.2384106910697301, 0.008722342356209637, 0.011629789808279518, 0.09013087101416625, 0.04651915923311807, 0.04070426432897831, 0.058148949041397585, 0.011949906437590635, 0.03584971931277191, 0.17924859656385952, 0.6871196201614616, 0.04182467253156722, 0.04182467253156722, 0.1381602285533083, 0.8486985468274654, 0.9839799377009327, 0.970568350370783, 0.939819855620943, 0.08871977868836964, 0.09099464480858424, 0.1857807331508595, 0.1918470428047651, 0.013649196721287636, 0.009099464480858424, 0.18047271220369207, 0.02274866120214606, 0.002274866120214606, 0.1122267285972539, 0.005308020947167414, 0.005308020947167414, 0.05080534335145954, 0.013649196721287636, 0.012890908014549434, 0.014407485428025838, 0.9531425180277745, 0.97947787278185, 0.9621374244925668, 0.9839552989116597, 0.023262783037349872, 0.9712211918093571, 0.05894734895161019, 0.8252628853225427, 0.10610522811289835, 0.8003562595148125, 0.1926783587720845, 0.8616436444189483, 0.03829527308528659, 0.07659054617057318, 0.10159143562109223, 0.035694288191194565, 0.17023429752723562, 0.05354143228679185, 0.04118571714368604, 0.001372857238122868, 0.10571000733546083, 0.0809985770492492, 0.3061471641013995, 0.008237143428737208, 0.023338573048088753, 0.004118571714368604, 0.013728572381228678, 0.017847144095597282, 0.01922000133372015, 0.016474286857474416, 0.9667666952766575, 0.9673059197056147, 0.978200486369437, 0.06488734463021185, 0.201871738849548, 0.04325822975347458, 0.09372616446586157, 0.16582321405498587, 0.036048524794562144, 0.3965337727401836, 0.9635775904416947, 0.09218062698066024, 0.16162336597275762, 0.15056169073507839, 0.04178855089789931, 0.0368722507922641, 0.13028195279933313, 0.06637005142607537, 0.02396696301497166, 0.01597797534331444, 0.02273788798856286, 0.04547577597712572, 0.014748900316905638, 0.04609031349033012, 0.036257713279059696, 0.053464763648782936, 0.009218062698066024, 0.021508812962154056, 0.0036872250792264094, 0.028268725607402474, 0.23991631339165087, 0.02249215438046727, 0.11412685741200058, 0.03415475294811696, 0.010829555812817573, 0.04998256528992726, 0.04248518049643817, 0.0908016602767012, 0.06581037763173757, 0.20826068870803027, 0.05081560804475938, 0.03831996672227757, 0.00749738479348909, 0.014161726832146058, 0.009163470303153332, 0.002499128264496363, 0.9818800921020768, 0.9728765495771875, 0.9808939551467665, 0.9764472961673056, 0.9729820287907975, 0.9947642228209367, 0.07061099097493179, 0.30226459294532204, 0.12140135290426868, 0.02725336493769297, 0.06441704439818338, 0.035924890145140734, 0.013626682468846485, 0.002477578630699361, 0.012387893153496804, 0.047073993983287855, 0.037163679460490415, 0.02477578630699361, 0.044596415352588493, 0.05202915124468658, 0.02849215425304265, 0.04088004740653946, 0.014865471784196164, 0.01982062904559489, 0.04088004740653946, 0.9389411302214709, 0.5246053814036442, 0.023012429370122683, 0.012481317624473319, 0.06084642341930743, 0.005070535284942286, 0.03744395287341996, 0.11428206449908383, 0.025742717600476223, 0.0023402470545887473, 0.0003900411757647912, 0.02262238819435789, 0.007410782339531034, 0.06747712340730888, 0.019892099964004352, 0.01833193526094519, 0.0023402470545887473, 0.025742717600476223, 0.030423211709653716, 0.02562755402694261, 0.31073409257667917, 0.3363616466036218, 0.06727232932072436, 0.2050204322155409, 0.05445855230725305, 0.0626645150361131, 0.9086354680236399, 0.040974399826786224, 0.24584639896071733, 0.6965647970553658, 0.9758574895807843, 0.0032590049033727132, 0.06518009806745426, 0.08147512258431783, 0.016295024516863564, 0.3910805884047256, 0.03584905393709984, 0.016295024516863564, 0.11732417652141768, 0.13361920103828123, 0.08473412748769055, 0.055403083357336125, 0.9613482819303092, 0.15214670402001162, 0.7938478027397077, 0.0017899612237648424, 0.015214670402001161, 0.03221930202776716, 0.0026849418356472638, 0.3326069540879082, 0.022521693010081313, 0.04147287371368632, 0.003295857513670436, 0.021148419046051966, 0.0398249449568511, 0.07168490092233198, 0.007964988991370221, 0.028838753244616315, 0.005493095856117393, 0.05712819690362089, 0.03652908744318067, 0.04229683809210393, 0.03433184910073371, 0.10821398836551264, 0.01702859715396392, 0.010436882126623047, 0.010986191712234786, 0.038451670992821756, 0.06921300778707916, 0.9931842580703611, 0.974650169495269, 0.038659109559088106, 0.08921332975174179, 0.053527997851045075, 0.6869426390884118, 0.0014868888291956965, 0.02081644360873975, 0.026763998925522538, 0.0014868888291956965, 0.02081644360873975, 0.008921332975174178, 0.04758044253426229, 0.002973777658391393, 0.0808748996178179, 0.5375802151066719, 0.20932326959905806, 0.014272041109026686, 0.009514694072684458, 0.13796306405392464, 0.15171675664101358, 0.0801254121010353, 0.0625831621144181, 0.00568937837403801, 0.04883383104382625, 0.004267033780528507, 0.06827254048845612, 0.0009482297290063349, 0.00900818242556018, 0.2697713579023023, 0.06447962157243077, 0.04267033780528507, 0.00047411486450316744, 0.05167852023084525, 0.07111722967547512, 0.0014223445935095025, 0.011852871612579186, 0.05167852023084525, 0.0033188040515221722, 0.3542406389187049, 0.6414627785825197, 0.9713609390162905, 0.9709504734016574, 0.05701122423861274, 0.9311833292306748, 0.9633725520195748, 0.9635153825224844, 0.11802365195928478, 0.6526013696572218, 0.09025338091004131, 0.01388513552462174, 0.06248310986079783, 0.06248310986079783, 0.9435987399454229, 0.9485747460138858, 0.9540346715110509, 0.039099781619305364, 0.3623103932789433, 0.3478179775477856, 0.002415402621859622, 0.08936989700880603, 0.11110852060554262, 0.024154026218596223, 0.0072462078655788666, 0.03381563670603471, 0.019323220974876976, 0.14582822075754603, 0.08578130632796827, 0.17156261265593653, 0.5833128830301841, 0.9932242012224849, 0.994895579746449, 0.8922124667897541, 0.09792575855009496, 0.9630649016510087, 0.9275762033751582, 0.06082466907378087, 0.8029567680657005, 0.027688164416058637, 0.018458776277372423, 0.11075265766423455, 0.027688164416058637, 0.959141739088669, 0.004962459305139162, 0.03804552133940024, 0.08105350198393964, 0.07278273647537437, 0.24150635285010588, 0.016541531017130538, 0.049624593051391615, 0.003308306203426108, 0.1323322481370443, 0.014887377915417485, 0.18526514739186203, 0.006616612406852216, 0.11082825781477461, 0.003308306203426108, 0.03804552133940024, 0.9551710678939488, 0.9488328543389943, 0.9809667632020544, 0.9399392204950584, 0.03241169725845029, 0.0024899818151790957, 0.008714936353126835, 0.004357468176563417, 0.12512158621274955, 0.012449909075895478, 0.12138661348998091, 0.027389799966970052, 0.32992259051123013, 0.0031124772689738694, 0.00809244089933206, 0.04108469995045508, 0.06722950900983558, 0.10208925442234291, 0.046064663580813264, 0.0012449909075895479, 0.07220947264019377, 0.027389799966970052, 0.9506069470498241, 0.02744501371202639, 0.10291880142009896, 0.08919629456408577, 0.7753216373647456, 0.8777307965271623, 0.0948898158407743, 0.9625205081247955, 0.03208401693749318, 0.942427285428961, 0.9616916652014498, 0.20108629881821996, 0.046404530496512296, 0.046404530496512296, 0.05993918522466172, 0.6457963827431294, 0.1542160994628271, 0.8422571586046711, 0.18569705836041955, 0.010316503242245532, 0.037139411672083913, 0.6685094100975104, 0.0330128103751857, 0.002063300648449106, 0.06189901945347319, 0.002063300648449106, 0.9625247885805929, 0.9326217668962735, 0.9414868470598625, 0.851759251276527, 0.129054432011595, 0.9694149303974269, 0.9697458281569119, 0.9877272230842081, 0.16099567657665872, 0.06729448915109015, 0.03577681701703527, 0.02896218520426665, 0.15332921578729403, 0.0579243704085333, 0.04003596190001566, 0.06729448915109015, 0.021295724414901948, 0.03662864599363135, 0.02044389543830587, 0.1499218998809097, 0.007666460789364701, 0.023851211344690183, 0.065590831197898, 0.06218351529151369, 0.03660382775567534, 0.0906380496807199, 0.0862804511383776, 0.09586716793153066, 0.09150956938918836, 0.11678364093477371, 0.046190544548828406, 0.1525159489819806, 0.054905741633513014, 0.05577726134198147, 0.05229118250810763, 0.005229118250810763, 0.010458236501621527, 0.006972157667747684, 0.037475347464143806, 0.03050318979639612, 0.023531032128648436, 0.005229118250810763, 0.12740271172076506, 0.02091686311833456, 0.013310731075303813, 0.02091686311833456, 0.0019015330107576874, 0.395518866237599, 0.07225825440879212, 0.12740271172076506, 0.019015330107576875, 0.02281839612909225, 0.017113797096819188, 0.1388119097853112, 0.02091686311833456, 0.8159944077403608, 0.08278204136496414, 0.09460804727424472, 0.00219184937536942, 0.13918243533595817, 0.020822569066009492, 0.03506959000591072, 0.027398117192117752, 0.15123760690048998, 0.0109592468768471, 0.09972914657930862, 0.052604385008866085, 0.08219435157635326, 0.336448879119206, 0.007671472813792971, 0.015342945627585942, 0.020822569066009492, 0.8676565117501306, 0.10517048627274311, 0.9505751263896073, 0.95509633846219, 0.9814408590917258, 0.0013849997061849467, 0.596934873365712, 0.08171498266491185, 0.03323999294843872, 0.0027699994123698934, 0.03185499324225378, 0.25206994652566034, 0.9868198176859081, 0.13188555291931392, 0.5934849881369126, 0.06594277645965696, 0.03596878715981289, 0.011989595719937629, 0.06594277645965696, 0.08992196789953222, 0.050334266378336184, 0.6158545533349369, 0.06513846237196448, 0.023686713589805265, 0.008882517596176974, 0.017765035192353947, 0.14212028153883158, 0.02960839198725658, 0.04441258798088487, 0.10344666230268496, 0.8792966295728222, 0.9887943085888075, 0.9779931982287705, 0.9497550493059934, 0.9793140966804504, 0.20792531584382948, 0.06226271888804175, 0.09431308525291933, 0.06789163627828908, 0.06524949138082604, 0.16748901132613447, 0.04767348401944156, 0.006892551906425287, 0.0396321734619454, 0.0013785103812850572, 0.03296937328573429, 0.03641564923894693, 0.053761904870117234, 0.05766768428375823, 0.015048738329028541, 0.0005743793255354406, 0.0022975173021417624, 0.013095848622208044, 0.01458923486860019, 0.012980972757100957, 0.08812127975080403, 0.20928803940815957, 0.0010013781789864095, 0.04305926169641561, 0.11615986876242348, 0.13218191962620604, 0.059081312560198156, 0.0751033634239807, 0.0741019852449943, 0.06008269073918456, 0.0741019852449943, 0.011015159968850503, 0.05507579984425252, 0.04836935876677212, 0.16535571485384887, 0.030371457830298775, 0.0022497376170591684, 0.100113323959133, 0.07199160374589339, 0.057368309235008796, 0.17547953413061515, 0.10573766800178092, 0.06299265327765671, 0.05061909638383129, 0.113611749661488, 0.012373556893825426, 0.0022497376170591684, 0.006376757356581394, 0.006376757356581394, 0.004251171571054263, 0.04463730149606976, 0.21468416433824028, 0.012753514713162788, 0.04463730149606976, 0.09990253191977518, 0.05739081620923255, 0.0021255857855271313, 0.038260544139488366, 0.07864667406450386, 0.21043299276718602, 0.13178631870268215, 0.008502343142108525, 0.04251171571054263, 0.9742311741364802, 0.9690156072173697, 0.9539649219189162, 0.018345479267671466, 0.9868599688080418, 0.9790377681459654, 0.9763471433995577, 0.959096207578493, 0.08202672920703971, 0.06602151375200757, 0.13104270153807565, 0.01700554142097165, 0.0010003259659395088, 0.004001303863758035, 0.1470479169931078, 0.00800260772751607, 0.09102966290049529, 0.1250407457424386, 0.03901271267164084, 0.028009127046306245, 0.0020006519318790175, 0.06302053585418906, 0.05801890602449151, 0.033010756876003786, 0.0010003259659395088, 0.020006519318790175, 0.08402738113891874, 0.5762928538827017, 0.012190810370595613, 0.05208800794709034, 0.08755218357064122, 0.045438475017674555, 0.015515576835303507, 0.02548987622942719, 0.006649532929415789, 0.015515576835303507, 0.01662383232353947, 0.005541277441179824, 0.02327336525295526, 0.009974299394123682, 0.024381620741191226, 0.042113708552966665, 0.0410054530647307, 0.9671815699080072, 0.9720103292205257, 0.9770115634628399, 0.06491749382608832, 0.09173969187399307, 0.10690006468367837, 0.06647240385785091, 0.08824114430252723, 0.04548111842905589, 0.07463568152460454, 0.0824102316834175, 0.04042766082582746, 0.05014584852434367, 0.035762930730539676, 0.05208948606404692, 0.03692911325436162, 0.03381929319083643, 0.02565601552408281, 0.016715282841447892, 0.04703602846081848, 0.03148692814319254, 0.0046647300952877835, 0.005053457603228432, 0.9286544176338224, 0.15025507870102459, 0.031632648147584125, 0.07117345833206427, 0.11071426851654444, 0.003954081018448016, 0.019770405092240078, 0.13443875462723254, 0.29260199536515313, 0.10676018749809642, 0.039540810184480156, 0.031632648147584125, 0.011862243055344047, 0.03865521091125051, 0.45097746063125593, 0.2641439412268785, 0.028991408183437883, 0.1288507030375017, 0.01288507030375017, 0.03221267575937543, 0.041876478487188055, 0.9571055401438117, 0.20425042305463392, 0.06084055154818883, 0.008691507364026975, 0.13254548730141139, 0.015210137887047207, 0.008691507364026975, 0.32593152615101156, 0.13254548730141139, 0.11081671889134394, 0.18233797768266355, 0.02145152678619571, 0.0965318705378807, 0.10725763393097856, 0.10725763393097856, 0.4826593526894035, 0.16893760071602645, 0.006256948174667646, 0.025027792698670583, 0.025027792698670583, 0.05005558539734117, 0.15016675619202352, 0.07508337809601176, 0.0813403262706794, 0.41295857952806464, 0.0697403652448219, 0.05682548279207711, 0.003874464735823439, 0.018080835433842715, 0.006457441226372399, 0.009040417716921358, 0.2350508606399553, 0.03228720613186199, 0.07361482998064534, 0.10848501260305629, 0.027121253150764073, 0.03487018262241095, 0.038744647358234394, 0.07103185349009639, 0.04520208858460679, 0.05165952981097919, 0.03745315911295991, 0.006457441226372399, 0.07490631822591982, 0.3578879768900597, 0.023211138190763293, 0.06705439921776063, 0.018846650667713787, 0.0035709443370405066, 0.006348345488072012, 0.10613640112870394, 0.03729652974242307, 0.050389992311571596, 0.09304293855955542, 0.040073930893454575, 0.01051444721461927, 0.040073930893454575, 0.014283777348162026, 0.02122728022574079, 0.021624051818745292, 0.03828845872493432, 0.018648264871211535, 0.02221920920825204, 0.009720904028610268, 0.17409406047653736, 0.13386515407160043, 0.11999311738024288, 0.04230971190864055, 0.0346800917283939, 0.08670022932098474, 0.045084119246912066, 0.05687535043456599, 0.018033647698764827, 0.012484833022221803, 0.01283163393950574, 0.05930295685555356, 0.016299643112345132, 0.047858526585183574, 0.020808055037036338, 0.0020808055037036337, 0.06901338253950386, 0.031212082555554507, 0.005895615593826962, 0.010750828435802108, 0.9607191959833286, 0.9662701807012103, 0.11593174306712122, 0.015719558381982537, 0.7977675878856137, 0.0687730679211736, 0.9430022714764232, 0.025195640734893616, 0.9322387071910638, 0.9333300125342894, 0.7667710724326745, 0.19040623946314736, 0.02573057290042532, 0.010292229160170127, 0.9225243336524465, 0.03416756791305357, 0.9685392744757662, 0.9826848976571517, 0.30532547730696585, 0.023231286316834358, 0.07301261413862227, 0.02655004150495355, 0.11283767639605259, 0.09624390045545662, 0.009956265564357582, 0.3186004980594426, 0.013275020752476776, 0.01659377594059597, 0.9756102057495426, 0.014388693278128532, 0.1870530126156709, 0.7194346639064265, 0.05755477311251413, 0.9308636121546697, 0.9644386521171028, 0.218526564748321, 0.032778984712248146, 0.0874106258993284, 0.0218526564748321, 0.6337270377701308, 0.00579115018912809, 0.15056990491733033, 0.09844955321517752, 0.12161415397168988, 0.01158230037825618, 0.00579115018912809, 0.08107610264779326, 0.04632920151302472, 0.47487431550850334, 0.13757567085186775, 0.10520492476907534, 0.5745807429695653, 0.12948298433116964, 0.040463432603490515, 0.056814765198208605, 0.017941504799434297, 0.05382451439830289, 0.6309429187801061, 0.10166852719679435, 0.05980501599811432, 0.02392200639924573, 0.02093175559934001, 0.032892758798962876, 0.9778942969216633, 0.7825557655953113, 0.18971048862916637, 0.18231131350995594, 0.006243538133902601, 0.07991728811395328, 0.03995864405697664, 0.027471567789171442, 0.01748190677492728, 0.014984491521366241, 0.00249741525356104, 0.11612980929058837, 0.09240436438175849, 0.06618150421936757, 0.00249741525356104, 0.011238368641024682, 0.04869959744444028, 0.09490177963531952, 0.014984491521366241, 0.17232165249571177, 0.0074922457606831205, 0.9392706178710403, 0.02846274599609213, 0.9652267527388547, 0.9923449962652061, 0.9549593184553263, 0.9577634832810767, 0.9761315836819414, 0.978894042402099, 0.03931772609819984, 0.7863545219639969, 0.15727090439279937, 0.18323321255043573, 0.23820317631556645, 0.5680229589063508, 0.009161660627521787, 0.9504057545210389, 0.9839557795183669, 0.9888665078914505, 0.9645591433400943, 0.10314633186841131, 0.051573165934205654, 0.0902530403848599, 0.03867987445065424, 0.012893291483551414, 0.04512652019242995, 0.012893291483551414, 0.012893291483551414, 0.0902530403848599, 0.4577118476660752, 0.051573165934205654, 0.025786582967102827, 0.15368859870732543, 0.6147543948293017, 0.08782205640418596, 0.13173308460627894, 0.02946400749740464, 0.9428482399169484, 0.31147393113209004, 0.11744099042685362, 0.06229478622641801, 0.08374053230436519, 0.18075700265698338, 0.010212260037117706, 0.06842214224868863, 0.07863440228580633, 0.0173608420631001, 0.002042452007423541, 0.025530650092794264, 0.0030636780111353117, 0.023488198085370723, 0.010212260037117706, 0.002042452007423541, 0.0030636780111353117, 0.9720737183657651, 0.2742146601536984, 0.02651017862513096, 0.07083188351402178, 0.057576794201456304, 0.021125298591901234, 0.07828787125233987, 0.03810838177362576, 0.03272350174039603, 0.07538832046521617, 0.026924400166148634, 0.024853292461060276, 0.03810838177362576, 0.05219191416822658, 0.05881945882450932, 0.012426646230530138, 0.01698308318172452, 0.07000344043198645, 0.002071107705088356, 0.01988263396884822, 0.00331377232814137, 0.1614056455442791, 0.08803944302415224, 0.02200986075603806, 0.13205916453622837, 0.5429098986489388, 0.04401972151207612, 0.9176145962930718, 0.8930842123388122, 0.06869878556452401, 0.034349392782262005, 0.2852630265030268, 0.06483250602341518, 0.4667940433685893, 0.03889950361404911, 0.06483250602341518, 0.0713157566257567, 0.751949776333413, 0.11028596719556723, 0.09023397316000956, 0.030077991053336518, 0.4516180724010103, 0.19961801946251553, 0.05379776411046518, 0.025483151420746662, 0.08211237680018368, 0.058044956013922955, 0.008494383806915555, 0.015573036979345183, 0.1047640669519585, 0.35481475159653475, 0.09461726709240927, 0.06758376220886377, 0.010137564331329564, 0.02027512866265913, 0.3480563753756484, 0.05068782165664782, 0.05068782165664782, 0.09763971963669692, 0.748571183881343, 0.010848857737410768, 0.14103515058633997, 0.14935876965692937, 0.021336967093847053, 0.7254568811907998, 0.05867665950807939, 0.04267393418769411, 0.0501172951136826, 0.0353769141978936, 0.0206365332821046, 0.162144190073679, 0.0501172951136826, 0.014740380915789, 0.3861979799936718, 0.0412730665642092, 0.0795980569452606, 0.0412730665642092, 0.0795980569452606, 0.0088442285494734, 0.0265326856484202, 0.09872183554921846, 0.8144551432810523, 0.04936091777460923, 0.9304272542783157, 0.9410781422212462, 0.18365099180090091, 0.04244565256725627, 0.04748870039702929, 0.05169124025517348, 0.024374731177236274, 0.043706414524699526, 0.04202539858144185, 0.03656209676585441, 0.07900774933311068, 0.09161536890754324, 0.01765066740420558, 0.02311396921979302, 0.05757479605657534, 0.05043047829773022, 0.04916971634028697, 0.030258286978638135, 0.027316509077937205, 0.029417779007009297, 0.043706414524699526, 0.02899752502119488, 0.0020444232170118257, 0.19013135918209978, 0.28213040394763195, 0.0797325054634612, 0.06746596616139024, 0.22897540030532446, 0.08586577511449667, 0.061332696510354764, 0.9704341899270577, 0.5455121464755593, 0.047976638289381444, 0.008884562646181749, 0.04442281323090874, 0.05508428840632684, 0.015992212763127147, 0.026653687938545247, 0.008884562646181749, 0.07285341369869033, 0.06752267611098128, 0.026653687938545247, 0.014215300233890798, 0.06041502599403589, 0.945241280777174, 0.951814991520055, 0.2461576854395523, 0.7384730563186569, 0.937589055525723, 0.11745756045418673, 0.8711435733685515, 0.9701415944353932, 0.13281089751709552, 0.8411356842749383, 0.9632940994062685, 0.8898458084613499, 0.10851778151967681, 0.9180248149747602, 0.06885186112310701, 0.9731079216304378, 0.9826713967297281, 0.9479265601803688, 0.9646349949258735, 0.9578178020365825, 0.8901055631874022, 0.09299610361659426, 0.9629951160623856, 0.9654098053997946, 0.054053709286719605, 0.9189130578742333, 0.9678085458505956, 0.9824343641800818, 0.05372689793751907, 0.09670841628753434, 0.8381396078252975, 0.9535399634018521, 0.036210378357032356, 0.9861469893727862, 0.1218511633356586, 0.007861365376494104, 0.06289092301195283, 0.02751477881772936, 0.3694841726952228, 0.14936594215338797, 0.11792048064741155, 0.09040570182968219, 0.003930682688247052, 0.04716819225896462, 0.04551006835951408, 0.7129910709657206, 0.2275503417975704, 0.9461091152870645, 0.9795573435344176, 0.013116451653869902, 0.13161680797503936, 0.025328320435059122, 0.006784371545105122, 0.0949812016314717, 0.11216827621240467, 0.15694512841009847, 0.07508037843249668, 0.0004522914363403414, 0.09271974444976999, 0.07734183561419838, 0.07824641848687906, 0.039349354961609705, 0.036183314907227315, 0.05879788672424439, 0.9821007613394992, 0.9270197380722313, 0.027265286413889155, 0.9593326693291716, 0.9529407191819227, 0.041701720433906575, 0.08340344086781315, 0.5004206452068789, 0.1084244731281571, 0.016680688173562632, 0.05838240860746921, 0.025021032260343946, 0.12093498925832907, 0.045871892477297234, 0.9585581235508334, 0.950157769296961, 0.931840003106167, 0.06077217411561959, 0.010738849933077135, 0.8617927071294401, 0.05637896214865496, 0.06174838711519352, 0.010738849933077135, 0.9911129041017568, 0.8372378467618941, 0.04221367294597785, 0.007035612157662975, 0.021106836472988926, 0.04221367294597785, 0.035178060788314876, 0.007035612157662975, 0.040784122353092436, 0.9584268752976722, 0.9706372182939694, 0.9486825724110435, 0.9681384645446164, 0.955617518203428, 0.7032520223721951, 0.008901924333825254, 0.15133271367502932, 0.13352886500737882, 0.9300872486965689, 0.9590320142204406, 0.018094943664536615, 0.9854616202315118, 0.9867475005945917, 0.9748356180316987, 0.15537400652978506, 0.12853968983700767, 0.11760719044365392, 0.08613484370521132, 0.017226968741042264, 0.04737416403786623, 0.06393855705809917, 0.09905507026099303, 0.030147195296823963, 0.03346007390087055, 0.020871135205493514, 0.017226968741042264, 0.022196286647112148, 0.001987727162427954, 0.04472386115462896, 0.03809810394653578, 0.026171740971968057, 0.011263787253758404, 0.03842939180694044, 0.17556850461928283, 0.06289021060989236, 0.06551063605197122, 0.0026204254420788484, 0.30396935128114644, 0.11005786856731163, 0.04978808339949812, 0.028824679862867332, 0.03144510530494618, 0.086474039588602, 0.06289021060989236, 0.01834297809455194, 0.19335173587087673, 0.10486873809945856, 0.1587596174005692, 0.02949433259047272, 0.03786926653591559, 0.0699124920663057, 0.020027015956493824, 0.03641275628453422, 0.11542843742197349, 0.04260292485290504, 0.03641275628453422, 0.016021612765195058, 0.016749867890885742, 0.006190168568370818, 0.028401949901936695, 0.010559699322514925, 0.03786926653591559, 0.015657485202349716, 0.022575908896411218, 0.9627165527063158, 0.028969037542969228, 0.8980401638320461, 0.028969037542969228, 0.05034643301774237, 0.45143968272575663, 0.1862818021656468, 0.18460358773172203, 0.05705929075344136, 0.0067128577356989835, 0.06209393405521559, 0.183277684163218, 0.25221699655488716, 0.2673500163481804, 0.013451573149593981, 0.21354372374980446, 0.030266039586586458, 0.03699182616138345, 0.0033628932873984952, 0.1593464712094845, 0.6953300561868414, 0.10140229986058104, 0.036215107093064657, 0.20629311551579346, 0.08251724620631738, 0.6436345204092756, 0.05776207234442217, 0.1130244368478192, 0.14343459922839835, 0.17587210576768278, 0.0015205081190289578, 0.013684573071260621, 0.011657228912555342, 0.04004004713442922, 0.0420673912931345, 0.10491506021299808, 0.06740919327695047, 0.0577793085231004, 0.012670900991907982, 0.0005068360396763193, 0.012164064952231662, 0.0998466998162349, 0.02128711366640541, 0.0577793085231004, 0.007602540595144789, 0.015711917229965896, 0.17151280442326908, 0.09305481942113535, 0.06933496349025771, 0.06933496349025771, 0.12042388395676339, 0.005473812907125609, 0.007298417209500811, 0.062036546280756895, 0.10400244523538656, 0.05838733767600649, 0.049264316164130476, 0.18428503453989548, 0.0018246043023752029, 0.4725142698180672, 0.03960493049927369, 0.017253633088792495, 0.004705536296943408, 0.000392128024745284, 0.06038771581077374, 0.008234688519650965, 0.017253633088792495, 0.11371712717613236, 0.012155968767103804, 0.02156704136099062, 0.01372448086608494, 0.03960493049927369, 0.027841089756915165, 0.04391833877147181, 0.0392128024745284, 0.04509472284570766, 0.009018944569141532, 0.014116608890830225, 0.009251286578625431, 0.06475900605037803, 0.2035283047297595, 0.5735797678747768, 0.037005146314501726, 0.05550771947175259, 0.05550771947175259, 0.9665471358277865, 0.9869750343769512, 0.9838820501180644, 0.9986295666906104, 0.9904222148038543, 0.051781649936458486, 0.010356329987291697, 0.017260549978819494, 0.003452109995763899, 0.18296182977548664, 0.003452109995763899, 0.03797320995340289, 0.18641393977125054, 0.006904219991527798, 0.006904219991527798, 0.49710383939000147, 0.08706582902447647, 0.06370670416425107, 0.10193072666280173, 0.02081085669365535, 0.0823940040524314, 0.0649808382475361, 0.06200785871987105, 0.033976908887600576, 0.11679562430112697, 0.02888037255446049, 0.032702774804315556, 0.02760623847117547, 0.004247113610950072, 0.05521247694235094, 0.01826258852708531, 0.07177622002505621, 0.04671824972045079, 0.03907344522074066, 0.0416217133873107, 0.9823943053220909, 0.9851019111007694, 0.961309139981245, 0.9455670448317288, 0.21138370053436997, 0.14494882322356797, 0.15702789182553198, 0.023228978080699996, 0.020441500711015997, 0.059001604324977995, 0.09105759407634399, 0.034378887559435994, 0.036701785367506, 0.06178908169466199, 0.018118602902945997, 0.010685329917121998, 0.024158137203928, 0.015331125533261998, 0.00464579561614, 0.03716636492912, 0.039953842298804, 0.0018583182464559998, 0.007433272985823999, 0.14988400683375128, 0.12301800560883361, 0.08484000386816111, 0.08908200406156916, 0.042420001934080555, 0.021210000967040277, 0.24603601121766722, 0.06645800303005953, 0.012726000580224165, 0.16261000741397547, 0.9457511763161497, 0.0011191498124524684, 0.00391702434358364, 0.03413406927980029, 0.03189576965489535, 0.47172164594871546, 0.049802166654134845, 0.0027978745311311713, 0.03581279399847899, 0.024621295873954306, 0.06658941384092187, 0.026859595498859242, 0.05483834081017096, 0.05036174156036108, 0.03133619474866912, 0.05539791571639719, 0.004476599249809874, 0.02741917040508548, 0.02630002059263301, 0.9726435661692879, 0.01807355879186519, 0.009036779395932596, 0.03614711758373038, 0.605464219527484, 0.2439930436901801, 0.07229423516746077, 0.009036779395932596, 0.13260781513855494, 0.09634786568660632, 0.016575976892319367, 0.26625162883287984, 0.04351193934233834, 0.16265177325588379, 0.08598788012890672, 0.031079956673098815, 0.004143994223079842, 0.002071997111539921, 0.07459189601543716, 0.050763929232728065, 0.033151953784638734, 0.13018091236507764, 0.017592015184469952, 0.07388646377477379, 0.014073612147575961, 0.19703057006606345, 0.0035184030368939903, 0.32721148243114107, 0.08092326984856177, 0.15129133058644156, 0.96902991463583, 0.9783430420769827, 0.015475870343284012, 0.061903481373136046, 0.8666487392239046, 0.04642761102985203, 0.9463211221208955, 0.9484533990176173, 0.8670722190063379, 0.114088449869255, 0.8208339641712166, 0.07296301903744147, 0.09120377379680183, 0.9119864138082232, 0.11180682739926247, 0.012657376686708958, 0.4387890584725772, 0.010547813905590798, 0.09282076236919902, 0.004219125562236319, 0.1096972646181443, 0.03586256727900872, 0.016876502248945276, 0.06961557177689927, 0.025314753373417917, 0.004219125562236319, 0.012657376686708958, 0.008438251124472638, 0.027424316154536076, 0.016876502248945276, 0.9981443698945751, 0.9789873027803937, 0.9676037783022636, 0.9830427198324714, 0.9563073688506003, 0.774628801097718, 0.012910480018295301, 0.0645524000914765, 0.0645524000914765, 0.0774628801097718, 0.6618181066878731, 0.011217256045557171, 0.022434512091114342, 0.16825884068335756, 0.044869024182228684, 0.08973804836445737, 0.9883194454465453, 0.30700473188284155, 0.6270734949096338, 0.06532015571975353, 0.949786056872301, 0.9763069263429264, 0.08356592317828307, 0.6106740539951455, 0.010713579894651677, 0.06213876338897972, 0.04713975153646737, 0.019284443810373017, 0.08356592317828307, 0.05356789947325838, 0.00857086391572134, 0.019284443810373017, 0.8962169761314136, 0.10098219449368041, 0.9687767403462068, 0.9933884234789772, 0.9569694861747787, 0.9626458598261552, 0.03008268311956735, 0.061276365973236345, 0.9191454895985451, 0.9685255614594218, 0.17875423821571415, 0.47481594526049076, 0.06703283933089281, 0.033516419665446405, 0.17875423821571415, 0.06703283933089281, 0.9477147465323523, 0.11411403968116667, 0.8748743042222777, 0.09684552798446523, 0.8231869878679544, 0.012105690998058154, 0.056493224657604715, 0.008070460665372103, 0.09289242589963614, 0.6673306458307194, 0.001067729033329151, 0.024557767766570475, 0.013880477433278963, 0.03309960003320368, 0.002135458066658302, 0.011745019366620662, 0.054454180699786706, 0.05338645166645755, 0.03416732906653283, 0.004270916133316604, 0.006406374199974906, 0.004783794558403162, 0.5086768213768696, 0.09567589116806324, 0.1658382113579763, 0.22483834424494864, 0.15025468029894298, 0.09301480208982185, 0.14150969890588283, 0.042134910348380836, 0.0302099357214806, 0.10573477502518211, 0.07472984099524149, 0.027824940796100553, 0.022259952636880444, 0.11686475134362233, 0.0023849949253800474, 0.08108982746292162, 0.023849949253800476, 0.055649881592201106, 0.0007949983084600159, 0.0031799932338400635, 0.011129976318440222, 0.00953997970152019, 0.007949983084600157, 0.7119538291304436, 0.10746472892534997, 0.16119709338802496, 0.18229104285401068, 0.0646839184320683, 0.055863384100422624, 0.04998302787932551, 0.2954879001101302, 0.014700890552742797, 0.04116249354767983, 0.04263258260295411, 0.16023970702489648, 0.026461602994937033, 0.0029401781105485593, 0.023521424884388475, 0.03822231543713127, 0.9873528752059565, 0.05732239829038146, 0.9314889722186988, 0.9633612574462949, 0.9910497820891041, 0.9923648257164628, 0.06834632411806589, 0.09200466708201177, 0.1419500577836753, 0.24972695350831767, 0.1656084007476212, 0.2628704773771765, 0.018400933416402355, 0.08806268342557194, 0.8806268342557195, 0.029354227808523984, 0.958374799921341, 0.9399112326219963, 0.9436816584444492, 0.9443238547367123, 0.9241684172565241, 0.9567523561607952, 0.17035331825259573, 0.1873886500778553, 0.025552997737889358, 0.5706836161461957, 0.03407066365051914, 0.9768063069605183, 0.989289788740873, 0.048784423856029074, 0.06098052982003634, 0.029270654313617445, 0.04146676027762471, 0.02683143312081599, 0.11952183844727123, 0.1951376954241163, 0.009756884771205815, 0.007317663578404361, 0.39759305442663695, 0.05854130862723489, 0.960351981191542, 0.9822445307986846, 0.959935140642406, 0.8810551631477203, 0.09789501812752448, 0.9809931601443952, 0.12235393570332533, 0.0559924790506743, 0.0020737955203953447, 0.05391868353027896, 0.05391868353027896, 0.04977109248948827, 0.0559924790506743, 0.13687050434609274, 0.10576357154016257, 0.018664159683558102, 0.07258284321383705, 0.041475910407906894, 0.05806627457106965, 0.004147591040790689, 0.010368977601976723, 0.15760845955004618, 0.9476012789116759, 0.04806673153899805, 0.18773852277960915, 0.16091873381109356, 0.06436749352443742, 0.10191519808035925, 0.4022968345277339, 0.010727915587406238, 0.010727915587406238, 0.05363957793703118, 0.9535309531234458, 0.08937411650214908, 0.00757407766967365, 0.02272223300902095, 0.03332594174656406, 0.00151481553393473, 0.03332594174656406, 0.03787038834836825, 0.05604817475558501, 0.04998891261984609, 0.10452227184149637, 0.08331485436641015, 0.07119633009493231, 0.08937411650214908, 0.16965933980068976, 0.04998891261984609, 0.0045444466018041895, 0.07422596116280177, 0.02120741747508622, 0.18177435809290088, 0.12206745214997723, 0.09155058911248293, 0.01194138118858473, 0.00663410066032485, 0.05174598515053383, 0.04113142409401407, 0.06766782673531346, 0.14462339439508173, 0.02388276237716946, 0.00663410066032485, 0.02388276237716946, 0.04113142409401407, 0.03184368316955928, 0.00928774092445479, 0.01061456105651976, 0.12870155281030207, 0.9669733365854687, 0.9605231643942458, 0.9694759864333168, 0.9767454589978665, 0.9818267086443787, 0.9774987122504205, 0.9482594263289935, 0.8018965988548599, 0.14880555442667504, 0.04133487622963195, 0.9116230020583087, 0.03646492008233235, 0.144079148869404, 0.13813774066860385, 0.06349880014605178, 0.0501306316942514, 0.03824781529265107, 0.01794800393991717, 0.07278225045980204, 0.02240406009051729, 0.015719975864617104, 0.03923804999278443, 0.054215349832301515, 0.0003713380125500104, 0.1089258170146697, 0.007798098263550218, 0.07463894052255209, 0.012130375076633672, 0.016710210564750465, 0.06844997364671858, 0.04134229873056782, 0.013120609776767033, 0.9334584283351325, 0.053853370865488415, 0.008975561810914735, 0.9644729391034113, 0.022963641407224077, 0.6483825352778374, 0.06403778126200864, 0.13608028518176835, 0.044025974617630935, 0.024014167973253238, 0.0200118066443777, 0.00800472265775108, 0.05603305860425756, 0.9770515673194434, 0.9462275496848576, 0.10891720500754686, 0.7037727092795335, 0.008378246539042065, 0.04189123269521033, 0.025134739617126197, 0.03351298615616826, 0.050269479234252394, 0.025134739617126197, 0.9536447428902556, 0.9710836051350071, 0.008999277543939187, 0.6029515954439255, 0.08999277543939187, 0.17098627333484454, 0.06299494280757431, 0.05399566526363512, 0.048616089721713475, 0.17655316793674894, 0.12537833665073475, 0.0012793707821503546, 0.012793707821503545, 0.024308044860856737, 0.1100258872649305, 0.048616089721713475, 0.1970231004511546, 0.024308044860856737, 0.04093986502881135, 0.03710175268236028, 0.043498606593112055, 0.07676224692902127, 0.03070489877160851, 0.0599026877754504, 0.009215798119300062, 0.1059816783719507, 0.11058957743160074, 0.05529478871580037, 0.5391241899790535, 0.08755008213335058, 0.009215798119300062, 0.027647394357900184, 0.06763313292503065, 0.044108564951106946, 0.08233598790873296, 0.00882171299022139, 0.005881141993480926, 0.014702854983702315, 0.005881141993480926, 0.40285822655344344, 0.014702854983702315, 0.05881141993480926, 0.01764342598044278, 0.14408797884028268, 0.12938512385658038, 0.9686124171074253, 0.07513234464643741, 0.05779411126649031, 0.028897055633245156, 0.017338233379947093, 0.8148969688575134, 0.9652180718324435, 0.9674974713355937, 0.042730999197031494, 0.6067801885978472, 0.0256385995182189, 0.008546199839406299, 0.29911699437922046, 0.9605214598236069, 0.8805004615521166, 0.11288467455796367, 0.054090882967198786, 0.48681794670478906, 0.0012293382492545178, 0.0012293382492545178, 0.21636353186879514, 0.12908051617172436, 0.008605367744781624, 0.06269625071198041, 0.023357426735835837, 0.015981397240308733, 0.12945437105760554, 0.7191909503200309, 0.14383819006400617, 0.1250089006658592, 0.8572038902801774, 0.961525048977862, 0.04031611642864692, 0.9272706778588792, 0.9679114923913243, 0.9532260239911214, 0.23235179040010906, 0.058087947600027265, 0.6534894105003067, 0.043565960700020445, 0.005297190504235188, 0.22248200117787786, 0.02648595252117594, 0.0423775240338815, 0.5403134314319892, 0.084755048067763, 0.06886347655505744, 0.9754860451918682, 0.9894736640419395, 0.10904728763092832, 0.03634909587697611, 0.7027491869548713, 0.14539638350790443, 0.6272925950090514, 0.03745030417964486, 0.0655380323143785, 0.07490060835928972, 0.09362576044911215, 0.046812880224556076, 0.05617545626946729, 0.02599037051187504, 0.23131429755568786, 0.01299518525593752, 0.17413548242956278, 0.01819325935831253, 0.01299518525593752, 0.30148829793775045, 0.041584592819000066, 0.07537207448443761, 0.01299518525593752, 0.028589407563062545, 0.05717881512612509, 0.9933963751871792, 0.5629413260897249, 0.042352952433082756, 0.1323529763533836, 0.13411768270476204, 0.04588236513583965, 0.02647059527067672, 0.05294119054135344, 0.001764706351378448, 0.0613393971263453, 0.10018768197303066, 0.14721455310322873, 0.0020446465708781766, 0.03680363827580718, 0.38234890875421906, 0.00613393971263453, 0.15334849281586324, 0.051116164271954416, 0.008178586283512706, 0.03066969856317265, 0.020446465708781766, 0.9764134147041285, 0.9429283304099966, 0.08585121880212813, 0.0333865850897165, 0.1001597552691495, 0.11446829173617085, 0.05246463371241164, 0.04292560940106407, 0.20508902269397278, 0.04769512155673786, 0.04769512155673786, 0.267092680717732, 0.9747639369407026, 0.8668949460705514, 0.11237527078692333, 0.9771336827303937, 0.02846004587472503, 0.9391815138659259, 0.9584760714178909, 0.2773909027406677, 0.02151194755948035, 0.10104954314124323, 0.03340012910550897, 0.0062271427145864176, 0.09199188101093572, 0.05038324559983556, 0.0036796752404374285, 0.04415610288524914, 0.061422271321147845, 0.016983116494326593, 0.08095285528962343, 0.019247532026903474, 0.05632733637284987, 0.017549220377470812, 0.010755973779740175, 0.06198837520429207, 0.003396623298865319, 0.0229272072673409, 0.018681428143759254, 0.08810225754652316, 0.07369046850341907, 0.1343287507036495, 0.12127656440046089, 0.02284132603058008, 0.10985590138517085, 0.05139298356880517, 0.03181470411402225, 0.061182123296196635, 0.030183180826123673, 0.03453390959385321, 0.040244241101498233, 0.053840268500653043, 0.025832452058394136, 0.01549947123503648, 0.013596027399154808, 0.04078808219746442, 0.01577139178301958, 0.033446227401920825, 0.001631523287898577, 0.02554920440212738, 0.007299772686322109, 0.010949659029483163, 0.20074374887385799, 0.014599545372644218, 0.405137384090877, 0.13504579469695902, 0.0401487497747716, 0.15694511275592535, 0.8970736360934626, 0.09372411123364535, 0.13661475062878956, 0.7741502535631408, 0.08196885037727374, 0.09700178914904786, 0.8891830671996055, 0.019966597467415064, 0.8186304961640176, 0.13976618227190546, 0.20397903546130283, 0.07132878588678127, 0.05578549821593042, 0.04077451491736899, 0.06281191593015066, 0.05173998498653089, 0.014585139800729901, 0.028957357852544035, 0.04609755864026312, 0.0547208894713516, 0.06951895102099727, 0.05397566335014642, 0.035451471194474865, 0.060576237566535136, 0.02437954025085509, 0.01926941827687673, 0.026828140363386387, 0.02171801838940803, 0.03396101895206451, 0.023740775004107796, 0.09675648436317645, 0.1329179987211313, 0.08991511678194175, 0.0493555804074789, 0.03518417613206416, 0.048378242181588225, 0.09284713145961376, 0.01905809540486809, 0.0004886691129453357, 0.0493555804074789, 0.06157230823111229, 0.04593489661686155, 0.05473094064987759, 0.022967448308430775, 0.04202554371329886, 0.029808815889665472, 0.05082158774631491, 0.03909352903562685, 0.03469550701911883, 0.004886691129453356, 0.9186711468415206, 0.947477045818324, 0.137979244461788, 0.06071086756318672, 0.08042218820058501, 0.057557056261203, 0.0701723014691379, 0.0070960754294633836, 0.08988362210653619, 0.011826792382438972, 0.07647992407310535, 0.05676860343570707, 0.009461433905951177, 0.06228777321417858, 0.06386467886517044, 0.0031538113019837256, 0.014980603684422698, 0.029172754543349465, 0.12457554642835716, 0.0070960754294633836, 0.03784573562380471, 0.0018687443411500393, 0.049833182430667713, 0.03176865379955067, 0.03799780160338413, 0.15635160987621996, 0.10278093876325216, 0.012458295607666928, 0.013081210388050275, 0.0006229147803833464, 0.053570671112967795, 0.10776425700631893, 0.11586214915130244, 0.02429367643495051, 0.0006229147803833464, 0.059176904136417914, 0.10153510920248547, 0.011212466046900236, 0.07599560320676826, 0.04360403462683425, 0.9533821042657576, 0.040142404390137165, 0.1435100913508776, 0.8371421995467861, 0.9471256119026186, 0.19998093716097423, 0.014923950534401062, 0.0238783208550417, 0.03581748128256255, 0.05969580213760425, 0.06566538235136467, 0.34922044250498485, 0.05074143181696361, 0.03581748128256255, 0.029847901068802123, 0.041787061496322976, 0.08357412299264595, 0.005969580213760425, 0.3339766747913758, 0.6586762197274356, 0.9731733897130995, 0.2932400568352386, 0.6331319408942652, 0.019993640238766267, 0.013329093492510845, 0.033322733731277115, 0.15678663650034882, 0.8231298416268313, 0.8496539091214361, 0.07842959161120949, 0.06535799300934124, 0.9371764251291611, 0.051968620229460735, 0.2451852851851481, 0.00399758617149698, 0.051968620229460735, 0.22652988305149552, 0.04397344788646678, 0.06262885002011935, 0.07861919470610727, 0.06795896491544866, 0.08661436704910123, 0.013325287238323266, 0.014657815962155592, 0.05063609150562841, 0.9595338954921921, 0.5000053742293364, 0.06081146443329767, 0.13851500232028913, 0.006756829381477519, 0.030405732216648836, 0.006756829381477519, 0.1418934170110279, 0.05405463505182015, 0.05743304974255891, 0.6258602417225317, 0.15351288947911157, 0.08856512854564129, 0.047234735224342024, 0.0029521709515213765, 0.07085210283651303, 0.008856512854564128, 0.9779662107468212, 0.7841450565452143, 0.2097132127969759, 0.9641956355189527, 0.01785547473183246, 0.9478636529885752, 0.03641961702618394, 0.11654277448378861, 0.18209808513091968, 0.09833296597069663, 0.058271387241894304, 0.32049262983041865, 0.003641961702618394, 0.06555531064713109, 0.032777655323565545, 0.07648119575498627, 0.007283923405236788, 0.981429297828505, 0.9411037862864993, 0.02688867960818569, 0.8718241729104493, 0.08437008124939832, 0.1707916461590807, 0.001269826365495024, 0.06730079737123627, 0.2977742827085831, 0.03682496459935569, 0.0634913182747512, 0.12888737609774492, 0.000634913182747512, 0.06158657872650866, 0.043174096426830816, 0.005079305461980096, 0.000634913182747512, 0.07682449511244895, 0.026666353675395504, 0.01968230866517287, 0.8195421453835074, 0.07055660854295097, 0.005427431426380844, 0.09769376567485519, 0.09337111786818074, 0.13581253508099017, 0.012732425163842829, 0.5092970065537131, 0.004244141721280943, 0.15703324368739488, 0.04668555893409037, 0.0297089920489666, 0.008488283442561886, 0.04316382112129738, 0.003596985093441448, 0.003596985093441448, 0.06834271677538752, 0.028775880747531585, 0.28056483728843296, 0.417250270839208, 0.15107337392454082, 0.003596985093441448, 0.9192838334619277, 0.03283156548078313, 0.027328771410439587, 0.054657542820879174, 0.04440925354196433, 0.023912674984134637, 0.6900514781135996, 0.16055653203633258, 0.7701951211165654, 0.08886866782114217, 0.0518400562289996, 0.03702861159214257, 0.0518400562289996, 0.9714205809525301, 0.0017869634507090332, 0.12687440500034136, 0.28234022521202723, 0.0035739269014180663, 0.1286613684510504, 0.012508744154963232, 0.04467408626772583, 0.005360890352127099, 0.19656597957799365, 0.012508744154963232, 0.055395866971980026, 0.019656597957799365, 0.014295707605672265, 0.053608903521271, 0.030378378662053562, 0.0035739269014180663, 0.0017869634507090332, 0.005360890352127099, 0.9621307631295359, 0.9450093254435836, 0.201587459121848, 0.7908431088626344, 0.97941499482158, 0.9792442988718376, 0.21543452803639374, 0.10463962790339125, 0.03077636114805625, 0.01846581668883375, 0.0123105444592225, 0.024621088918445, 0.48626650613928873, 0.0615527222961125, 0.0369316333776675, 0.9804400031664223, 0.017200701809937234, 0.07182152040906899, 0.011970253401511498, 0.5865424166740634, 0.1975091811249397, 0.12568766071587073, 0.11884622575707626, 0.06791212900404357, 0.797967515797512, 0.1290638770630437, 0.8647279763223927, 0.9627770598878307, 0.9750073469468492, 0.9279394702361647, 0.030152638676641308, 0.014282828846830093, 0.052370372438377014, 0.18091583205984785, 0.0063479239319244865, 0.08252301111501832, 0.017456790812792337, 0.21106847073648916, 0.3412009113409411, 0.02063075277875458, 0.04126150555750916, 0.03838638120121053, 0.8483390245467527, 0.03454774308108948, 0.07677276240242106, 0.9770509244132053, 0.12803094739335755, 0.12207601960761999, 0.06550420564311317, 0.00893239167860634, 0.1042112362504073, 0.3781379143943351, 0.059549277857375606, 0.011909855571475121, 0.023819711142950242, 0.09230138067893219, 0.9789330183399424, 0.9297575015961915, 0.047679871876727765, 0.2093030524282066, 0.009833029308707693, 0.016856621672070332, 0.007023592363362638, 0.0014047184726725275, 0.08006895294233407, 0.07725951599698902, 0.04776042807086594, 0.2949908792612308, 0.09130670072371429, 0.008428310836035166, 0.01123774778138022, 0.08849726377836924, 0.05478402043422858, 0.5861951012188144, 0.12310097125595103, 0.1348248732803273, 0.1582726773290799, 0.04254861632454841, 0.9360695591400652, 0.1071022435228717, 0.3242612752175219, 0.13221587303857954, 0.008863633946720417, 0.07755679703380365, 0.04653407822028219, 0.0509658951936424, 0.019204540217894236, 0.012556814757853923, 0.06943179924930994, 0.005909089297813612, 0.013295450920080625, 0.06426134611372303, 0.014772723244534028, 0.0007386361622267015, 0.0007386361622267015, 0.04874998670696229, 0.002954544648906806, 0.04821607396180876, 0.16195655612812687, 0.12857619723149002, 0.016072024653936253, 0.07912381368091694, 0.21882679721128592, 0.06552440820450935, 0.05068869313933742, 0.0012363095887643271, 0.04821607396180876, 0.0012363095887643271, 0.03585297807416549, 0.01730833424270058, 0.04203452601798713, 0.01730833424270058, 0.024726191775286545, 0.04450714519551578, 0.0710355086178284, 0.04143738002706656, 0.005919625718152366, 0.07399532147690457, 0.12135232722212351, 0.002959812859076183, 0.11247288864489495, 0.011839251436304732, 0.005919625718152366, 0.18646821012179954, 0.2456644673033232, 0.11839251436304732, 0.9389688521105786, 0.970153080230577, 0.045760977792030214, 0.024476802074806858, 0.048953604149613715, 0.020219966931362188, 0.10642087858611678, 0.05108202172133605, 0.30542792154215515, 0.23093330653187338, 0.015963131787917514, 0.01915575814550102, 0.04788939536375254, 0.0010642087858611677, 0.028733637218251527, 0.01809154935963985, 0.034054681147557365, 0.9764726563336715, 0.9723483487882321, 0.11814970215496905, 0.04296352805635238, 0.5209327776832726, 0.12352014316201308, 0.06444529208452857, 0.026852205035220237, 0.1020383791338369, 0.8905292602831754, 0.10580545666730795, 0.9773608882910738, 0.9878447360149742, 0.988614789865016, 0.9676863184661088, 0.9887819901937216, 0.9986150580167809, 0.9062332083972071, 0.06041554722648048, 0.934807931398957, 0.9655753457381512, 0.11291180097360654, 0.843867144118533, 0.005942726367031923, 0.029713631835159616, 0.9420657867394455, 0.003376579880786543, 0.003376579880786543, 0.0118180295827529, 0.038830668629045245, 0.04369529770514619, 0.338638557214883, 0.12890112823018127, 0.03714100304937426, 0.030586708393602335, 0.04369529770514619, 0.13327065800069587, 0.00873905954102924, 0.06554294655771929, 0.04151053281988888, 0.0677277114429766, 0.028401943508345025, 0.00218476488525731, 0.028401943508345025, 0.9716714448966923, 0.11182053021872773, 0.10178091605048283, 0.07598949344585368, 0.07321994470978611, 0.04915949006519919, 0.06369962092955388, 0.057987426661414536, 0.056948845885389204, 0.02631071299264182, 0.0431011022050514, 0.0446589733690894, 0.05867981384543143, 0.04915949006519919, 0.027349293768667154, 0.03738890793691206, 0.011943678924291353, 0.037215811140907835, 0.017482776396426473, 0.048120909289173855, 0.007962452616194235, 0.9552445069934093, 0.03630498376625163, 0.10037260217728391, 0.34596513941957435, 0.08115231665397422, 0.12172847498096134, 0.2349146008404517, 0.023491460084045172, 0.05338968200919357, 0.9426887500642285, 0.048759762934356646, 0.9827804922249735, 0.025817287350006084, 0.20984820743466484, 0.01588756144615759, 0.3720337305308569, 0.00661981726923233, 0.10128320421925464, 0.0622262823307839, 0.045014757430779845, 0.020521433534620222, 0.0026479269076929318, 0.05295853815385864, 0.009267744176925262, 0.04435277570385661, 0.013901616265387893, 0.016549543173080824, 0.0006619817269232329, 0.8762394109993499, 0.10514872931992199, 0.06918736275774233, 0.08215999327481902, 0.08215999327481902, 0.02162105086179448, 0.04324210172358896, 0.15567156620492026, 0.056214732240665644, 0.46701469861476075, 0.017296840689435582, 0.7749368703958565, 0.21272776834396062, 0.9790969275554788, 0.9760041118224541, 0.008154530912608123, 0.24667456010639574, 0.04145219880575796, 0.20929962675694183, 0.02242496000967234, 0.09853391519401483, 0.07135214548532108, 0.030579490922280465, 0.016309061825216246, 0.0013590884854346873, 0.07135214548532108, 0.027181769708693744, 0.0530044509319528, 0.021745415766954997, 0.023784048495107027, 0.05504308366010484, 0.039793093456262744, 0.16292643924545314, 0.05931423364235391, 0.3318593831635497, 0.06306829906275606, 0.038291467288101885, 0.03153414953137803, 0.12463497195735125, 0.030783336447297596, 0.0007508130840804292, 0.02778008411097588, 0.062317485978675626, 0.00900975700896515, 0.012763822429367296, 0.003754065420402146, 0.0007508130840804292, 0.9488773253581554, 0.1970629846628966, 0.16053423628635966, 0.19610170181088246, 0.05671568826883365, 0.06248338538091843, 0.09516700234939884, 0.014419242780211946, 0.04421901119264997, 0.03845131408056519, 0.029799768412438022, 0.0019225657040282595, 0.02691591985639563, 0.003845131408056519, 0.007690262816113038, 0.022109505596324984, 0.0057676971120847785, 0.0009612828520141298, 0.036528748376536926, 0.06051492163249883, 0.2323772990687955, 0.1301070815098725, 0.02904716238359944, 0.06838186144472368, 0.05506857868557394, 0.0030257460816249413, 0.022995670220349554, 0.01452358119179972, 0.04599134044069911, 0.03872954984479925, 0.03570380376317431, 0.06172522006514881, 0.03570380376317431, 0.02904716238359944, 0.04841193730599906, 0.03146775924889939, 0.030862610032574404, 0.02420596865299953, 0.001815447648974965, 0.05542863546446382, 0.18576083236739227, 0.07228193678811835, 0.052432493006925235, 0.1494326050697369, 0.17639788718758417, 0.0007490356143846462, 0.020972997202770093, 0.014980712287692923, 0.018725890359616155, 0.02172203281715474, 0.03969888756238625, 0.02546721088907797, 0.022471068431539388, 0.015355230094885246, 0.020223961588385447, 0.02396913966030868, 0.030710460189770493, 0.049061832742194326, 0.003745178071923231, 0.9921297287691928, 0.8266854919471468, 0.01823570938118706, 0.14588567504949648, 0.997265244532148, 0.0011105403613943742, 0.0011105403613943742, 0.9303201831517421, 0.032080006315577315, 0.948892787222375, 0.9949410184366272, 0.9758527007926507, 0.2156175372010969, 0.05466360098055977, 0.010629033523997734, 0.4661590416953292, 0.04403456745656204, 0.00303686672114221, 0.030368667211422097, 0.010629033523997734, 0.001518433360571105, 0.00607373344228442, 0.05921890106227309, 0.051626734259417564, 0.04707143417770425, 0.5155374205917646, 0.07306829583190363, 0.16643334050600272, 0.014884282484276666, 0.05683089675814727, 0.03518103132647212, 0.05141843040022848, 0.03788726450543151, 0.010824932715837576, 0.014884282484276666, 0.02164986543167515, 0.97828763913288, 0.9875150488578408, 0.9787063037547087, 0.018912199106371184, 0.9390804429311933, 0.07515078473241037, 0.08851092424039443, 0.0016700174384980083, 0.03256534005071116, 0.08684090680189643, 0.0033400348769960166, 0.00417504359624502, 0.02254523541972311, 0.026720279015968133, 0.08433588064414942, 0.09018094167889244, 0.06930572369766734, 0.03340034876996016, 0.11690122069486057, 0.10354108118687651, 0.03256534005071116, 0.04509047083944622, 0.013360139507984066, 0.07014073241691635, 0.025420506980738628, 0.06439861768453786, 0.015252304188443177, 0.05973819140473578, 0.09532690117776986, 0.06948271908068558, 0.01991273046824526, 0.04194383651821874, 0.04109648628552745, 0.03431768442399715, 0.07160109466241381, 0.12540783443831058, 0.06778801861530301, 0.01991273046824526, 0.042367511634564384, 0.0580434909393532, 0.02796255767881249, 0.03474135954034279, 0.06397494256819222, 0.02203110604997348, 0.04396657111682257, 0.25703533883680885, 0.02367430752444292, 0.020292263592379647, 0.04734861504888584, 0.03720248325269602, 0.07440496650539204, 0.04058452718475929, 0.020292263592379647, 0.13528175728253097, 0.060876790777138944, 0.22997898738030267, 0.9456780511328955, 0.937383356907211, 0.9652528703372785, 0.9551636985832793, 0.06537826073013338, 0.2724094197088891, 0.19613478219040015, 0.4649120763031707], \"Term\": [\"\\\"special effects\", \"1\", \"1 star\", \"10 seconds\", \"10 seconds\", \"10 years ago\", \"10 years ago\", \"16mm\", \"16mm\", \"16mm\", \"2 hours\", \"2 hours\", \"2 hours\", \"2 hours\", \"2 hours\", \"2 hours\", \"3 minutes\", \"30s\", \"35mm\", \"3rd\", \"3rd\", \"3rd\", \"3rd\", \"3rd\", \"4 hours\", \"6th\", \"6th\", \"90 minute\", \"aamir khan\", \"abc\", \"abc\", \"academy award\", \"academy award\", \"academy award\", \"academy award\", \"academy award\", \"academy award\", \"acting\", \"acting\", \"acting\", \"acting\", \"acting\", \"acting\", \"acting\", \"acting\", \"acting\", \"acting\", \"acting\", \"acting\", \"acting\", \"acting\", \"acting\", \"acting\", \"acting\", \"acting\", \"acting\", \"acting performances\", \"acting talent\", \"acting talent\", \"acting talent\", \"acting talent\", \"acting talent\", \"action\", \"action\", \"action\", \"action\", \"action\", \"action\", \"action\", \"action\", \"action\", \"action\", \"action\", \"action\", \"action\", \"action\", \"action\", \"action movies\", \"action movies\", \"action movies\", \"action scenes\", \"action scenes\", \"action scenes\", \"action scenes\", \"action scenes\", \"action scenes\", \"actors\", \"actors\", \"actors\", \"actors\", \"actors\", \"actors\", \"actors\", \"actors\", \"actors\", \"actors\", \"actors\", \"actors\", \"actors\", \"actors\", \"actors\", \"actors\", \"actors\", \"actors\", \"actors\", \"actors\", \"adaptation\", \"adaptation\", \"adaptation\", \"adaptation\", \"adaptation\", \"adaptation\", \"admiration\", \"admiration\", \"admiration\", \"adult\", \"adult\", \"adult\", \"adult\", \"adult\", \"adults\", \"adults\", \"adults\", \"afghanistan\", \"afghanistan\", \"african americans\", \"afternoon\", \"afternoon\", \"afternoon\", \"afternoon\", \"afternoon\", \"ages\", \"ages\", \"ages\", \"ages\", \"ages\", \"ages\", \"ages\", \"ages\", \"ages\", \"air\", \"air\", \"air\", \"air\", \"air\", \"air\", \"air\", \"air\", \"air\", \"air\", \"air\", \"air\", \"air\", \"ajay devgan\", \"albert\", \"albert brooks\", \"alec guinness\", \"alien\", \"alien\", \"alien\", \"alien\", \"almodovar\", \"altman\", \"altman\", \"altman\", \"america\", \"america\", \"america\", \"america\", \"america\", \"america\", \"america\", \"america\", \"america\", \"america\", \"america\", \"america\", \"america\", \"america\", \"american\", \"american\", \"american\", \"american\", \"american\", \"american\", \"american\", \"american\", \"american\", \"american\", \"american\", \"american\", \"american\", \"american\", \"american\", \"american\", \"american\", \"american\", \"american people\", \"american pie\", \"american pie\", \"american version\", \"american werewolf\", \"americans\", \"americans\", \"americans\", \"amitabh\", \"amitabh bachchan\", \"amy adams\", \"angela lansbury\", \"angela lansbury\", \"animals\", \"animals\", \"animals\", \"animals\", \"animals\", \"animated\", \"animated movies\", \"animation\", \"anime\", \"anime\", \"anime\", \"anna\", \"anna\", \"anna\", \"anne ramsey\", \"anthony hopkins\", \"antonio\", \"arabia\", \"argento\", \"ariel\", \"arnie\", \"arnold\", \"art\", \"art\", \"art\", \"art\", \"art\", \"art\", \"art\", \"art\", \"art\", \"artist\", \"artist\", \"artist\", \"asian horror\", \"astaire\", \"asterix\", \"astronaut\", \"astronauts\", \"astronauts\", \"atlanta\", \"atmosphere\", \"atmosphere\", \"atmosphere\", \"atmosphere\", \"atmosphere\", \"atmosphere\", \"atmosphere\", \"atmosphere\", \"atmosphere\", \"atmosphere\", \"attention\", \"attention\", \"attention\", \"attention\", \"attention\", \"attention\", \"attention\", \"attention\", \"attention\", \"attention\", \"attention\", \"attention\", \"attention\", \"attention\", \"attention\", \"attention\", \"attention\", \"attention\", \"attention\", \"audience\", \"audience\", \"audience\", \"audience\", \"audience\", \"audience\", \"audience\", \"audience\", \"audience\", \"audience\", \"audience\", \"audience\", \"audience\", \"audience\", \"audience\", \"audience\", \"audience\", \"audience\", \"audience\", \"audience\", \"audience members\", \"aunt\", \"aunt\", \"aunt\", \"aunt\", \"aussie\", \"austen\", \"australia\", \"australia\", \"australian\", \"australians\", \"author\", \"author\", \"author\", \"author\", \"author\", \"author\", \"author\", \"author\", \"awful\", \"awful\", \"awful\", \"baby\", \"baby\", \"baby\", \"baby\", \"baby\", \"baby\", \"baby\", \"baby\", \"baby\", \"baby\", \"baby\", \"baby\", \"bacall\", \"bad\", \"bad\", \"bad\", \"bad\", \"bad\", \"bad\", \"bad\", \"bad\", \"bad\", \"bad\", \"bad\", \"bad\", \"bad editing\", \"bad guys\", \"bad guys\", \"bad guys\", \"bad guys\", \"bad guys\", \"bad guys\", \"bad guys\", \"bad guys\", \"bad guys\", \"bad movies\", \"bad movies\", \"bad script\", \"bad taste\", \"bad taste\", \"bad way\", \"baddies\", \"baddies\", \"band\", \"band\", \"band\", \"band\", \"band\", \"band\", \"band\", \"band\", \"band\", \"band\", \"band members\", \"band members\", \"bank\", \"bank\", \"bank\", \"bank\", \"barbara stanwyck\", \"barbra streisand\", \"baseball\", \"baseball\", \"baseball\", \"basinger\", \"batman\", \"battle\", \"battle\", \"battle\", \"battle\", \"battle\", \"battle\", \"battle\", \"battle\", \"battle\", \"battle\", \"battle\", \"battle\", \"battle\", \"battle\", \"bava\", \"bay\", \"bbc\", \"bbc\", \"bbc\", \"beasts\", \"beatles\", \"beatles\", \"beatles\", \"beauty\", \"beauty\", \"beauty\", \"beauty\", \"beauty\", \"beauty\", \"beauty\", \"beauty\", \"beauty\", \"beauty\", \"beauty\", \"beauty\", \"bela lugosi\", \"bela lugosi\", \"belushi\", \"ben johnson\", \"beowulf\", \"best\", \"best\", \"best\", \"best\", \"best\", \"best\", \"best\", \"best\", \"best\", \"best\", \"best\", \"best\", \"best\", \"best\", \"best\", \"best\", \"best\", \"best\", \"best comedies\", \"best oscar\", \"best picture\", \"best picture\", \"best picture\", \"best picture\", \"best picture\", \"bette davis\", \"bette midler\", \"bible\", \"bible\", \"bible\", \"bill murray\", \"bill murray\", \"bin\", \"bin\", \"birthday party\", \"blood\", \"blood\", \"blood\", \"blood\", \"blood\", \"blood\", \"bo\", \"bo\", \"bob newhart\", \"body count\", \"bollywood\", \"bollywood\", \"bollywood\", \"bond\", \"bond\", \"bond\", \"bond\", \"bond\", \"bond\", \"bones\", \"bonnie\", \"bonnie\", \"boobs\", \"boogie nights\", \"boogie nights\", \"book\", \"book\", \"book\", \"book\", \"book\", \"book\", \"book\", \"book\", \"book\", \"book\", \"book\", \"book\", \"book\", \"book\", \"book\", \"book\", \"bourne\", \"bowl\", \"box\", \"box\", \"box\", \"box\", \"box\", \"box\", \"box\", \"box\", \"box\", \"boy\", \"boy\", \"boy\", \"boy\", \"boy\", \"boy\", \"boy\", \"boy\", \"boy\", \"boy\", \"boy\", \"boy\", \"boyer\", \"boys\", \"boys\", \"boys\", \"boys\", \"boys\", \"boys\", \"boys\", \"boys\", \"boys\", \"brad pitt\", \"brad pitt\", \"brad pitt\", \"brad pitt\", \"branagh\", \"branagh\", \"branagh\", \"brando\", \"brazil\", \"brazil\", \"brazilian\", \"british\", \"british\", \"british\", \"british\", \"british\", \"british\", \"british\", \"british\", \"british\", \"british\", \"broadway\", \"broadway\", \"broadway\", \"broadway\", \"bronson\", \"brosnan\", \"brother\", \"brother\", \"brother\", \"brother\", \"brother\", \"brother\", \"brother\", \"brother\", \"brother\", \"brother\", \"brother\", \"brother\", \"brother\", \"bruce almighty\", \"bruce lee\", \"bruce lee\", \"budget\", \"budget\", \"budget\", \"budget\", \"budget\", \"budget\", \"budget\", \"budget\", \"bugs\", \"bunch\", \"bunch\", \"bunch\", \"bunch\", \"bunch\", \"bunch\", \"bunch\", \"bunch\", \"bunch\", \"bunch\", \"bunch\", \"bunch\", \"bunch\", \"bunch\", \"bunch\", \"bunch\", \"burns\", \"bush\", \"bush\", \"bush\", \"bush\", \"buster\", \"buster keaton\", \"buster keaton\", \"caine\", \"caine\", \"caliber\", \"caliber\", \"caliber\", \"cambodia\", \"camera\", \"camera\", \"camera\", \"camera\", \"camera\", \"camera\", \"camera\", \"camera\", \"camera\", \"camera\", \"camera\", \"camera\", \"camera\", \"camera\", \"camera\", \"camera\", \"camp blood\", \"canada\", \"canada\", \"canada\", \"canada\", \"canada\", \"canada\", \"canada\", \"canada\", \"canadian\", \"canadian\", \"canadian\", \"canadian\", \"canadian\", \"canadian\", \"canadian\", \"canadian\", \"canadian\", \"cannes\", \"cannes\", \"cannibal holocaust\", \"capitalism\", \"captivity\", \"captors\", \"car\", \"car\", \"car\", \"car\", \"car\", \"car\", \"car\", \"car\", \"car\", \"car\", \"car\", \"care\", \"care\", \"care\", \"care\", \"care\", \"care\", \"care\", \"care\", \"care\", \"career\", \"career\", \"career\", \"career\", \"career\", \"career\", \"career\", \"career\", \"career\", \"career\", \"career\", \"career\", \"career\", \"career\", \"career\", \"carey\", \"caribbean\", \"caring\", \"carlos\", \"carry\", \"carry\", \"cartoon\", \"cartoon\", \"cartoon\", \"cartoon network\", \"cartoons\", \"cartoons\", \"cartoons\", \"cartoons\", \"case\", \"case\", \"case\", \"case\", \"case\", \"case\", \"case\", \"case\", \"case\", \"case\", \"case\", \"case\", \"case\", \"case\", \"case\", \"case\", \"case\", \"case\", \"case\", \"case\", \"cast\", \"cast\", \"cast\", \"cast\", \"cast\", \"cast\", \"cast\", \"cast\", \"cast\", \"cast\", \"cast\", \"cast\", \"cast\", \"cast\", \"cast\", \"cast\", \"cast\", \"cast\", \"cast\", \"castle\", \"castle\", \"castle\", \"castle\", \"cat\", \"cat\", \"cat\", \"cat\", \"cat\", \"catherine\", \"catherine\", \"catherine\", \"catwoman\", \"cave\", \"cave\", \"cave\", \"cave\", \"cave\", \"cave\", \"caves\", \"cd\", \"cd\", \"cerebral palsy\", \"cerebral palsy\", \"chair\", \"chair\", \"chair\", \"chair\", \"chair\", \"chance\", \"chance\", \"chance\", \"chance\", \"chance\", \"chance\", \"chance\", \"chance\", \"chance\", \"chance\", \"chance\", \"chance\", \"chance\", \"chance\", \"chance\", \"chance\", \"chance\", \"chance\", \"chance\", \"character\", \"character\", \"character\", \"character\", \"character\", \"character\", \"character\", \"character\", \"character\", \"character\", \"character\", \"character\", \"character\", \"character\", \"character\", \"character\", \"character\", \"character\", \"character\", \"character\", \"character design\", \"character study\", \"character study\", \"characters\", \"characters\", \"characters\", \"characters\", \"characters\", \"characters\", \"characters\", \"characters\", \"characters\", \"characters\", \"characters\", \"characters\", \"characters\", \"characters\", \"characters\", \"characters\", \"characters\", \"characters\", \"characters\", \"characters\", \"charity\", \"charles dance\", \"chase\", \"chase\", \"chase\", \"chase\", \"chase\", \"chase\", \"chase\", \"chase scene\", \"cheek\", \"cheek\", \"cheek\", \"cheek\", \"cheek\", \"cheek\", \"cheek\", \"cher\", \"cher\", \"chevy\", \"chevy chase\", \"child\", \"child\", \"child\", \"child\", \"child\", \"child\", \"child\", \"child\", \"child\", \"child\", \"child\", \"child\", \"child\", \"child\", \"childhood\", \"childhood\", \"childhood\", \"childhood\", \"childhood\", \"childhood\", \"childhood\", \"childhood\", \"childhood\", \"childhood\", \"children\", \"children\", \"children\", \"children\", \"children\", \"children\", \"children\", \"children\", \"children\", \"children\", \"childrens\", \"childrens\", \"chills\", \"chills\", \"chills\", \"chills\", \"chills\", \"china\", \"china\", \"china\", \"china\", \"chipmunks\", \"christ\", \"christ\", \"christ\", \"christian\", \"christian\", \"christian\", \"christian\", \"christian\", \"christian\", \"christian\", \"christianity\", \"christianity\", \"christianity\", \"christians\", \"christina ricci\", \"christina ricci\", \"christmas\", \"christmas\", \"christmas\", \"christmas\", \"christmas\", \"christmas\", \"christmas\", \"christmas\", \"christmas\", \"christmas\", \"christmas\", \"christmas\", \"christopher lee\", \"christopher reeve\", \"chronicles\", \"chuck norris\", \"cinderella\", \"cinderella\", \"cinderella\", \"cinema\", \"cinema\", \"cinema\", \"cinema\", \"cinema\", \"cinema\", \"cinema\", \"cinema\", \"cinema\", \"cinema\", \"cinema\", \"cinema\", \"cinema\", \"cinema\", \"cinema\", \"cinematic history\", \"cinematic history\", \"cinemax\", \"cinemax\", \"citizen kane\", \"citizen kane\", \"citizen kane\", \"citizen kane\", \"citizen kane\", \"civil war\", \"civil war\", \"civil war\", \"civil war\", \"cky\", \"clark\", \"clark\", \"clark\", \"classic\", \"classic\", \"classic\", \"classic\", \"classic\", \"classic\", \"classic\", \"classic\", \"classic\", \"classic\", \"classic\", \"classic\", \"classic\", \"classic\", \"classic\", \"classic\", \"clayton moore\", \"clint\", \"clint eastwood\", \"clive barker\", \"closet\", \"closet\", \"closet\", \"closet\", \"closet\", \"clothes\", \"clothes\", \"clothes\", \"clothes\", \"clothes\", \"clothes\", \"clothes\", \"clothes\", \"clothes\", \"clothes\", \"clyde\", \"coen\", \"coen brothers\", \"collection\", \"collection\", \"collection\", \"collection\", \"collection\", \"collection\", \"collection\", \"collection\", \"collection\", \"collection\", \"college kids\", \"color purple\", \"columbo\", \"comedy\", \"comedy\", \"comedy\", \"comedy\", \"comedy\", \"comedy\", \"comedy\", \"comedy\", \"comedy\", \"comedy\", \"comedy\", \"comedy\", \"comedy\", \"comedy\", \"comedy\", \"comedy\", \"comedy\", \"comedy\", \"comic book\", \"commentary\", \"commentary\", \"commentary\", \"commentary\", \"commentary\", \"commentary\", \"commentary\", \"commentary\", \"commentary\", \"comments\", \"comments\", \"comments\", \"comments\", \"comments\", \"comments\", \"comments\", \"comments\", \"comments\", \"comments\", \"comments\", \"comments\", \"comments\", \"comments\", \"comments\", \"comments\", \"communism\", \"compensation\", \"complete waste\", \"complete waste\", \"complete waste\", \"conan\", \"conan\", \"conan\", \"concert\", \"concert\", \"connery\", \"conrad veidt\", \"cons\", \"contestants\", \"copies\", \"copies\", \"copies\", \"copies\", \"copies\", \"copies\", \"cops\", \"cops\", \"cops\", \"cops\", \"copy\", \"copy\", \"copy\", \"copy\", \"copy\", \"copy\", \"copy\", \"copy\", \"copy\", \"copy\", \"copy\", \"corpse\", \"corpse\", \"corpse\", \"corpse\", \"corpse\", \"corpse\", \"costello\", \"costello\", \"costello\", \"costs\", \"costs\", \"costs\", \"costs\", \"costs\", \"costs\", \"costs\", \"costumes\", \"costumes\", \"costumes\", \"costumes\", \"costumes\", \"costumes\", \"costumes\", \"costumes\", \"costumes\", \"costumes\", \"countries\", \"countries\", \"countries\", \"countries\", \"country\", \"country\", \"country\", \"country\", \"country\", \"country\", \"country\", \"couple\", \"couple\", \"couple\", \"couple\", \"couple\", \"couple\", \"couple\", \"couple\", \"couple\", \"couple\", \"couple\", \"couple\", \"couple\", \"couple\", \"couple\", \"couple\", \"couple\", \"couple\", \"couple\", \"couple\", \"couple hours\", \"couple hours\", \"course\", \"course\", \"course\", \"course\", \"course\", \"course\", \"course\", \"course\", \"course\", \"course\", \"course\", \"course\", \"course\", \"course\", \"course\", \"course\", \"course\", \"course\", \"course\", \"course\", \"cousin\", \"cousin\", \"cousin\", \"cows\", \"cradle\", \"crap\", \"crap\", \"crap\", \"crap\", \"crap\", \"creature\", \"creature\", \"creature\", \"creature\", \"creepiness\", \"crime\", \"crime\", \"crime\", \"crime\", \"crime\", \"criminal\", \"criminal\", \"criminal\", \"criminal\", \"criminals\", \"critters\", \"croc\", \"crystal\", \"crystal\", \"cuban\", \"cuban\", \"cuban\", \"cult classic\", \"cult classic\", \"cult classic\", \"cult status\", \"cup\", \"cup\", \"cup\", \"curiosity\", \"curiosity\", \"curiosity\", \"curiosity\", \"curiosity\", \"curiosity\", \"cushing\", \"custer\", \"dad\", \"dad\", \"dad\", \"dad\", \"dad\", \"dad\", \"dad\", \"dad\", \"dalton\", \"dan aykroyd\", \"dance\", \"dance\", \"dance\", \"dance\", \"dances\", \"dancing\", \"dancing\", \"darkness\", \"darkness\", \"darkness\", \"darkness\", \"darkness\", \"darkness\", \"darkness\", \"darkness\", \"darren mcgavin\", \"darth vader\", \"daughter\", \"daughter\", \"daughter\", \"daughter\", \"daughter\", \"daughter\", \"daughter\", \"daughter\", \"daughter\", \"daughter\", \"daughter\", \"david lynch\", \"david lynch\", \"david spade\", \"david suchet\", \"davis\", \"day\", \"day\", \"day\", \"day\", \"day\", \"day\", \"day\", \"day\", \"day\", \"day\", \"day\", \"day\", \"day\", \"day\", \"day\", \"day\", \"day\", \"day\", \"day\", \"day\", \"days\", \"days\", \"days\", \"days\", \"days\", \"days\", \"days\", \"days\", \"days\", \"days\", \"days\", \"days\", \"days\", \"days\", \"days\", \"days\", \"days\", \"days\", \"days\", \"dead man\", \"death\", \"death\", \"death\", \"death\", \"death\", \"death\", \"death\", \"death\", \"death\", \"death\", \"death\", \"death\", \"death\", \"death\", \"death\", \"death\", \"death\", \"death scenes\", \"death scenes\", \"death scenes\", \"decent actors\", \"decent actors\", \"decent script\", \"deleted scenes\", \"deleted scenes\", \"deleted scenes\", \"demi moore\", \"democracy\", \"demon\", \"deniro\", \"denzel\", \"denzel washington\", \"depth\", \"depth\", \"depth\", \"depth\", \"depth\", \"depth\", \"depth\", \"depth\", \"depth\", \"depth\", \"depth\", \"depth\", \"depth\", \"derek\", \"despair\", \"despair\", \"desperation\", \"desperation\", \"desperation\", \"desperation\", \"desperation\", \"detective\", \"detective\", \"detective\", \"detective\", \"devil\", \"devil\", \"devil\", \"devil\", \"devil\", \"devil\", \"dexter\", \"dialogue\", \"dialogue\", \"dialogue\", \"dialogue\", \"dialogue\", \"dialogue\", \"dialogue\", \"dialogue\", \"dialogue\", \"dialogue\", \"dialogue\", \"dialogue\", \"dialogue\", \"dialogue\", \"dialogue\", \"dialogue\", \"dialogue\", \"dialogue\", \"dialogue\", \"dialogues\", \"dialogues\", \"dialogues\", \"dialogues\", \"dickens\", \"directing\", \"directing\", \"directing\", \"directing\", \"directing\", \"directing\", \"directing\", \"director\", \"director\", \"director\", \"director\", \"director\", \"director\", \"director\", \"director\", \"director\", \"director\", \"director\", \"director\", \"director\", \"director\", \"director\", \"director\", \"director\", \"director\", \"dirty dancing\", \"dirty harry\", \"disbelief\", \"disbelief\", \"disbelief\", \"disbelief\", \"disbelief\", \"disbelief\", \"disbelief\", \"disbelief\", \"disc\", \"disc\", \"disc\", \"disney\", \"disney channel\", \"doctor\", \"doctor\", \"doctor\", \"doctor\", \"doctor\", \"doctor\", \"doctor\", \"doctor\", \"doctor\", \"doctor\", \"doctor\", \"doctor\", \"documentary\", \"documentary\", \"documentary\", \"documentary\", \"documentary\", \"dolemite\", \"domino\", \"don cheadle\", \"donald sutherland\", \"donald sutherland\", \"donald sutherland\", \"donald sutherland\", \"door\", \"door\", \"door\", \"door\", \"door\", \"door\", \"door\", \"door\", \"door\", \"door\", \"door\", \"door\", \"doris day\", \"dorothy malone\", \"dracula\", \"dracula\", \"dracula\", \"dracula\", \"dragon\", \"dragon\", \"drama\", \"drama\", \"drama\", \"drama\", \"drama\", \"drama\", \"drama\", \"drama\", \"drama\", \"drama\", \"drama\", \"drama\", \"drama\", \"drama\", \"drama\", \"drama\", \"drama\", \"drama\", \"dreams\", \"dreams\", \"dreams\", \"dreams\", \"dreams\", \"dreams\", \"dreams\", \"dreams\", \"dreams\", \"dreamworks\", \"drug dealer\", \"drug dealers\", \"dubbing\", \"dubbing\", \"dubbing\", \"dubbing\", \"dudley moore\", \"dung\", \"dvd\", \"dvd\", \"dvd\", \"dvd\", \"dvd\", \"dvd\", \"dvd\", \"dvd\", \"dvd\", \"dvd\", \"dvd\", \"dvd\", \"dvd\", \"dvd\", \"dvd\", \"dvd\", \"dvd\", \"dvd box\", \"dvd box\", \"dvd collection\", \"dvd copy\", \"dvds\", \"dvds\", \"dvds\", \"dyan cannon\", \"dylan\", \"e.t.\", \"earth\", \"earth\", \"earth\", \"earth\", \"earth\", \"earth\", \"earth\", \"earth\", \"earth\", \"earth\", \"earth\", \"earth\", \"eastern\", \"eastwood\", \"ebay\", \"eddie murphy\", \"eddie murphy\", \"edge\", \"edge\", \"edge\", \"edge\", \"edge\", \"edge\", \"edge\", \"edge\", \"edge\", \"edge\", \"edge\", \"edge\", \"edge\", \"edie\", \"editing\", \"editing\", \"editing\", \"editing\", \"editing\", \"editing\", \"editing\", \"editing\", \"editing\", \"effect\", \"effect\", \"effect\", \"effect\", \"effect\", \"effect\", \"effect\", \"effect\", \"effect\", \"effect\", \"effect\", \"effect\", \"effect\", \"effect\", \"egg\", \"eisenstein\", \"elephants\", \"elizabeth\", \"elizabeth\", \"elm street\", \"emily watson\", \"emma\", \"emma roberts\", \"emotion\", \"emotion\", \"emotion\", \"emotion\", \"emotion\", \"emotion\", \"emotion\", \"emotion\", \"emotion\", \"emotion\", \"emotion\", \"emotions\", \"emotions\", \"emotions\", \"emotions\", \"emotions\", \"emotions\", \"emotions\", \"emotions\", \"emotions\", \"emotions\", \"end\", \"end\", \"end\", \"end\", \"end\", \"end\", \"end\", \"end\", \"end\", \"end\", \"end\", \"end\", \"end\", \"end\", \"end\", \"end\", \"end\", \"end\", \"end\", \"end\", \"ending\", \"ending\", \"ending\", \"ending\", \"ending\", \"ending\", \"ending\", \"ending\", \"ending\", \"ending\", \"ending\", \"ending\", \"ending\", \"ending\", \"ending\", \"ending\", \"ending\", \"ending\", \"english\", \"english\", \"english\", \"english\", \"english\", \"english\", \"english\", \"english\", \"english\", \"english\", \"english\", \"english\", \"english\", \"english\", \"english language\", \"english language\", \"english patient\", \"english subtitles\", \"entire\", \"entire\", \"entire\", \"entire\", \"entire\", \"entire\", \"entire\", \"entire\", \"entire\", \"entire\", \"entire\", \"entire\", \"entire\", \"entire\", \"entire\", \"entire\", \"entire life\", \"entire life\", \"entire life\", \"entire life\", \"episode\", \"episode\", \"episode\", \"episodes\", \"era\", \"era\", \"era\", \"era\", \"era\", \"era\", \"era\", \"era\", \"era\", \"era\", \"era\", \"era\", \"era\", \"era\", \"era\", \"era\", \"europe\", \"europe\", \"europe\", \"europe\", \"europe\", \"europe\", \"european\", \"european\", \"european\", \"european\", \"european\", \"european\", \"european\", \"european\", \"evan\", \"events\", \"events\", \"events\", \"events\", \"events\", \"events\", \"events\", \"events\", \"events\", \"events\", \"events\", \"events\", \"events\", \"evil dead\", \"evil dead\", \"ewoks\", \"example\", \"example\", \"example\", \"example\", \"example\", \"example\", \"example\", \"example\", \"example\", \"example\", \"example\", \"example\", \"example\", \"example\", \"example\", \"example\", \"example\", \"example\", \"example\", \"example\", \"excellent\", \"excellent\", \"excellent\", \"excellent\", \"excellent\", \"excellent\", \"excellent\", \"excellent\", \"excellent performances\", \"excellent performances\", \"excellent performances\", \"excellent performances\", \"excellent performances\", \"exceptions\", \"exceptions\", \"exceptions\", \"exceptions\", \"extras\", \"extras\", \"extras\", \"extras\", \"extras\", \"extras\", \"extras\", \"eyes\", \"eyes\", \"eyes\", \"eyes\", \"eyes\", \"eyes\", \"eyes\", \"eyes\", \"eyes\", \"eyes\", \"eyes\", \"eyes\", \"eyes\", \"eyes\", \"eyes\", \"eyes\", \"eyes\", \"fact\", \"fact\", \"fact\", \"fact\", \"fact\", \"fact\", \"fact\", \"fact\", \"fact\", \"fact\", \"fact\", \"fact\", \"fact\", \"fact\", \"fact\", \"fact\", \"fact\", \"fact\", \"fact\", \"fact\", \"falk\", \"falk\", \"fame\", \"fame\", \"fame\", \"fame\", \"fame\", \"fame\", \"fame\", \"fame\", \"fame\", \"fame\", \"fame\", \"family\", \"family\", \"family\", \"family\", \"family\", \"family\", \"family\", \"family\", \"family\", \"family\", \"family\", \"family\", \"family\", \"family\", \"family\", \"family\", \"family guy\", \"fans\", \"fans\", \"fans\", \"fans\", \"fans\", \"fans\", \"fans\", \"fans\", \"fans\", \"fans\", \"fans\", \"fans\", \"fans\", \"fans\", \"fans\", \"fans\", \"fans\", \"fantasies\", \"fantasies\", \"fantastic job\", \"fantastic job\", \"farscape\", \"fashions\", \"fassbinder\", \"fatal attraction\", \"father\", \"father\", \"father\", \"father\", \"father\", \"father\", \"father\", \"father\", \"father\", \"father\", \"father\", \"favorite\", \"favorite\", \"favorite\", \"favorite\", \"favorite\", \"favorite\", \"favorite\", \"favorite\", \"favorite\", \"favorite\", \"favorite\", \"favorite\", \"favorite movies\", \"favorite movies\", \"favorite parts\", \"favorites\", \"favorites\", \"favorites\", \"favorites\", \"favorites\", \"favorites\", \"favorites\", \"fbi\", \"fbi\", \"fbi\", \"fbi agent\", \"feel good\", \"feelings\", \"feelings\", \"feelings\", \"feelings\", \"feelings\", \"feelings\", \"feelings\", \"feelings\", \"feelings\", \"female lead\", \"female lead\", \"female lead\", \"female lead\", \"female lead\", \"fianc\\u00e9e\", \"fianc\\u00e9e\", \"fiasco\", \"fiasco\", \"fido\", \"fight scenes\", \"fight scenes\", \"fight scenes\", \"fight scenes\", \"filipino\", \"finest actors\", \"finish\", \"finish\", \"finish\", \"finish\", \"finish\", \"finish\", \"finish\", \"fire\", \"fire\", \"fire\", \"fire\", \"fire\", \"fire\", \"fire\", \"fire\", \"fire\", \"fire\", \"fire\", \"fire\", \"foreign\", \"foreign\", \"foreign\", \"foreigners\", \"format\", \"format\", \"format\", \"format\", \"format\", \"fort\", \"fourth\", \"fourth\", \"fourth\", \"fourth\", \"fourth\", \"fourth\", \"fourth\", \"fourth\", \"fourth\", \"fourth\", \"fourth\", \"france\", \"france\", \"france\", \"france\", \"france\", \"france\", \"france\", \"france\", \"frank sinatra\", \"frank sinatra\", \"fred astaire\", \"freddy\", \"freddy krueger\", \"free\", \"french\", \"french\", \"french\", \"french\", \"french\", \"french\", \"french\", \"french\", \"french\", \"french\", \"french\", \"french\", \"french\", \"french\", \"friday\", \"friday\", \"friday\", \"friday\", \"friday\", \"friends\", \"friends\", \"friends\", \"friends\", \"friends\", \"friends\", \"friends\", \"friends\", \"friends\", \"friends\", \"friends\", \"friends\", \"friends\", \"friends\", \"friends\", \"friends\", \"friends\", \"frog\", \"fulci\", \"fulci\", \"fun\", \"fun\", \"fun\", \"fun\", \"fun\", \"fun\", \"fun\", \"fun\", \"fun\", \"fun\", \"fun\", \"fun\", \"fun\", \"fun\", \"fun\", \"fun\", \"fun\", \"fun\", \"funny parts\", \"funny parts\", \"future generations\", \"gang\", \"gang\", \"gang\", \"gang\", \"gang\", \"gangsters\", \"gangsters\", \"garbage\", \"garbage\", \"garbage\", \"garbage\", \"garbo\", \"garfield\", \"garfield\", \"gary cooper\", \"gary cooper\", \"gary cooper\", \"geisha\", \"geisha\", \"gene kelly\", \"gene tierney\", \"genie\", \"genre\", \"genre\", \"genre\", \"genre\", \"genre\", \"genre\", \"genre\", \"genre\", \"genre\", \"genre\", \"genre\", \"genre\", \"genre\", \"genre\", \"genre\", \"george burns\", \"george c. scott\", \"george cukor\", \"george sanders\", \"german\", \"germans\", \"germany\", \"ghost\", \"ghost\", \"ghost\", \"ghost\", \"ghost\", \"ghost\", \"ghost\", \"ghost\", \"ghost\", \"ghoulies\", \"gina\", \"ginger rogers\", \"giovanni ribisi\", \"girl\", \"girl\", \"girl\", \"girl\", \"girl\", \"girl\", \"girl\", \"girl\", \"girl\", \"girl\", \"girl\", \"girl\", \"girl\", \"girl\", \"girl\", \"girls\", \"girls\", \"girls\", \"girls\", \"girls\", \"girls\", \"girls\", \"girls\", \"girls\", \"girls\", \"girls\", \"glenda farrell\", \"god\", \"god\", \"god\", \"god\", \"god\", \"god\", \"god\", \"god\", \"god\", \"god\", \"god\", \"god\", \"god\", \"god\", \"god\", \"god\", \"good\", \"good\", \"good\", \"good\", \"good\", \"good\", \"good\", \"good\", \"good\", \"good\", \"good\", \"good\", \"good\", \"good\", \"good\", \"good\", \"good\", \"good\", \"good\", \"good\", \"good guys\", \"good guys\", \"good guys\", \"good guys\", \"good guys\", \"good guys\", \"good guys\", \"good guys\", \"good horror\", \"good humor\", \"good match\", \"goodfellas\", \"goodfellas\", \"gore\", \"gore\", \"government\", \"government\", \"government\", \"government\", \"government\", \"government\", \"govinda\", \"grandma\", \"great\", \"great\", \"great\", \"great\", \"great\", \"great\", \"great\", \"great\", \"great\", \"great\", \"great\", \"great\", \"great\", \"great\", \"great\", \"great\", \"great acting\", \"great acting\", \"great acting\", \"great actors\", \"great actors\", \"great actors\", \"great actors\", \"great cast\", \"great cast\", \"great cast\", \"great cast\", \"great cast\", \"great cast\", \"great chemistry\", \"great horror\", \"great music\", \"great music\", \"great plot\", \"great series\", \"great soundtrack\", \"great soundtrack\", \"great story\", \"great story\", \"great story\", \"gromit\", \"group\", \"group\", \"group\", \"group\", \"group\", \"group\", \"group\", \"group\", \"group\", \"group\", \"group\", \"group\", \"group\", \"group\", \"group\", \"group\", \"group\", \"group\", \"grudge\", \"gun\", \"gun\", \"gun\", \"gun\", \"gun\", \"gun\", \"gun\", \"guy\", \"guy\", \"guy\", \"guy\", \"guy\", \"guy\", \"guy\", \"guy\", \"guy\", \"guy\", \"guy\", \"guy\", \"guy\", \"guy\", \"guys\", \"guys\", \"guys\", \"guys\", \"guys\", \"guys\", \"guys\", \"guys\", \"guys\", \"guys\", \"guys\", \"guys\", \"guys\", \"guys\", \"guys\", \"gwyneth paltrow\", \"haggard\", \"half\", \"half\", \"half\", \"half\", \"half\", \"half\", \"half\", \"half\", \"half\", \"half\", \"half\", \"half\", \"half\", \"half\", \"half\", \"half\", \"halloween\", \"halloween\", \"halloween\", \"halloween\", \"hallway\", \"hamlet\", \"hamlet\", \"hamlet\", \"hand\", \"hand\", \"hand\", \"hand\", \"hand\", \"hand\", \"hand\", \"hand\", \"hand\", \"hand\", \"hand\", \"hand\", \"hand\", \"hand\", \"hand\", \"hand\", \"hand\", \"hand\", \"hand\", \"hand\", \"hanks\", \"happiness\", \"happiness\", \"happiness\", \"hardy\", \"harry\", \"harry\", \"hartley\", \"hayworth\", \"hbo\", \"hbo\", \"hbo\", \"hbo\", \"hbo\", \"hbo\", \"head\", \"head\", \"head\", \"head\", \"head\", \"head\", \"head\", \"head\", \"head\", \"head\", \"head\", \"head\", \"head\", \"head\", \"head\", \"head\", \"head\", \"head\", \"headache\", \"headache\", \"headache\", \"heart\", \"heart\", \"heart\", \"heart\", \"heart\", \"heart\", \"heart\", \"heart\", \"heart\", \"heart\", \"heart\", \"heart\", \"heart\", \"heart\", \"heart\", \"heart\", \"heart\", \"heart\", \"heart darkness\", \"heath ledger\", \"heaven\", \"heaven\", \"heaven\", \"heaven\", \"heaven\", \"heaven\", \"heaven\", \"helicopter\", \"helicopter\", \"hell\", \"hell\", \"hell\", \"hell\", \"hell\", \"hell\", \"hell\", \"hell\", \"hell\", \"hell\", \"hell\", \"hell\", \"hell\", \"hell\", \"hell\", \"hellraiser\", \"henry\", \"henry\", \"henry\", \"herzog\", \"high art\", \"high ratings\", \"high school\", \"high school\", \"high school\", \"high school\", \"high school\", \"high school\", \"history\", \"history\", \"history\", \"history\", \"history\", \"history\", \"history\", \"history\", \"history\", \"history\", \"history\", \"history\", \"history\", \"history\", \"history\", \"history\", \"history\", \"history\", \"history\", \"hitchcock\", \"hitchcock\", \"hitchcock\", \"hitler\", \"hk\", \"hollywood\", \"hollywood\", \"hollywood\", \"hollywood\", \"hollywood\", \"hollywood\", \"hollywood\", \"hollywood\", \"hollywood\", \"hollywood\", \"hollywood\", \"hollywood\", \"hollywood\", \"hollywood\", \"hollywood\", \"hollywood\", \"hollywood\", \"hollywood\", \"hollywood\", \"holocaust\", \"home\", \"home\", \"home\", \"home\", \"home\", \"home\", \"home\", \"home\", \"home\", \"home\", \"home\", \"home\", \"home\", \"home\", \"home\", \"home\", \"home\", \"home\", \"home video\", \"home video\", \"homicide\", \"hong kong\", \"hong kong\", \"hong kong\", \"horrible\", \"horrible\", \"horrible\", \"horrible\", \"horror\", \"horror\", \"horror fan\", \"horror fans\", \"horror fans\", \"horror flick\", \"horror genre\", \"horror movies\", \"horror movies\", \"hour\", \"hour\", \"hour\", \"hour\", \"hour\", \"hour\", \"hour\", \"hour\", \"hour\", \"hour\", \"hour\", \"hour\", \"hour\", \"hour half\", \"hour half\", \"hours\", \"hours\", \"hours\", \"hours\", \"hours\", \"hours\", \"hours\", \"hours\", \"hours\", \"hours\", \"hours\", \"hours\", \"hours\", \"hours\", \"house\", \"house\", \"house\", \"house\", \"house\", \"house\", \"house\", \"house\", \"house\", \"house\", \"house\", \"house\", \"house\", \"hudson\", \"hudson\", \"humans\", \"humans\", \"humans\", \"humans\", \"humans\", \"humans\", \"humans\", \"humor\", \"humor\", \"humor\", \"humor\", \"humor\", \"humor\", \"humor\", \"humor\", \"humor\", \"humor\", \"humor\", \"humor\", \"humor\", \"humor\", \"humor\", \"humor\", \"humor\", \"humor\", \"humor\", \"humor\", \"husband\", \"husband\", \"husband\", \"husband\", \"husband\", \"husband\", \"husband\", \"husband\", \"husband\", \"ian holm\", \"ian holm\", \"ice-t\", \"icing\", \"ida lupino\", \"idea\", \"idea\", \"idea\", \"idea\", \"idea\", \"idea\", \"idea\", \"idea\", \"idea\", \"idea\", \"idea\", \"idea\", \"idea\", \"idea\", \"idea\", \"idea\", \"idea\", \"idea\", \"idea\", \"idea\", \"ifc\", \"images\", \"images\", \"images\", \"images\", \"images\", \"images\", \"imagination\", \"imagination\", \"imagination\", \"imagination\", \"imagination\", \"imagination\", \"imagination\", \"imagination\", \"imagination\", \"imagination\", \"imagination\", \"imagination\", \"imdb\", \"imdb\", \"imdb\", \"imdb\", \"imdb\", \"imdb\", \"imdb\", \"imdb\", \"imdb\", \"imdb\", \"imdb\", \"india\", \"india\", \"india\", \"india\", \"india\", \"india\", \"indian\", \"indian\", \"indian\", \"indian\", \"indian\", \"indian\", \"indian\", \"indian\", \"indians\", \"indians\", \"ingrid bergman\", \"intellect\", \"intellect\", \"intestines\", \"intimacy\", \"intimacy\", \"intimacy\", \"investigation\", \"investigation\", \"investigation\", \"investigation\", \"iranian\", \"iraq\", \"iraq\", \"israel\", \"israel\", \"israeli\", \"israeli\", \"italian\", \"italian\", \"italian\", \"italian\", \"italian\", \"italian\", \"italian\", \"italian\", \"italian\", \"italian\", \"it\\u00b4s\", \"it\\u00b4s\", \"jack\", \"jack\", \"jack\", \"jack\", \"jack\", \"jack\", \"jack\", \"jack\", \"jack frost\", \"jack frost\", \"jack frost\", \"jack lemmon\", \"jackie\", \"jackie\", \"jackie chan\", \"jackie chan\", \"jackie chans\", \"jail\", \"jail\", \"jail\", \"jail\", \"jail\", \"jail\", \"jail\", \"james bond\", \"jamie lee curtis\", \"jamie lee curtis\", \"jane\", \"jane\", \"jane austen\", \"jane eyre\", \"japan\", \"japan\", \"japan\", \"japanese\", \"japanese\", \"japanese\", \"japanese\", \"jason\", \"jason\", \"jason\", \"jason lee\", \"jay leno\", \"jean peters\", \"jedi\", \"jeff\", \"jeff\", \"jeffrey\", \"jessica simpson\", \"jesus\", \"jesus\", \"jesus\", \"jesus\", \"jesus\", \"jesus\", \"jet li\", \"jews\", \"jews\", \"jim wynorski\", \"joan cusack\", \"joan cusack\", \"joan fontaine\", \"job\", \"job\", \"job\", \"job\", \"job\", \"job\", \"job\", \"job\", \"job\", \"job\", \"job\", \"job\", \"job\", \"job\", \"job\", \"john gielgud\", \"john hughes\", \"john woo\", \"john woo\", \"johnny knoxville\", \"joke\", \"joke\", \"joke\", \"joke\", \"joke\", \"joke\", \"joke\", \"joke\", \"jokes\", \"jokes\", \"jokes\", \"jokes\", \"jokes\", \"jokes\", \"jokes\", \"jokes\", \"jokes\", \"jokes\", \"joseph smith\", \"jude law\", \"julia roberts\", \"julia roberts\", \"julia roberts\", \"julia stiles\", \"julia stiles\", \"julie andrews\", \"julie christie\", \"juliet\", \"juliette lewis\", \"junk\", \"junk\", \"junk\", \"justin timberlake\", \"karate kid\", \"karloff\", \"kate capshaw\", \"keaton\", \"keaton\", \"kelly\", \"kelly\", \"kelly\", \"kelly\", \"kermit\", \"kevin james\", \"kid\", \"kid\", \"kid\", \"kid\", \"kid\", \"kid\", \"kid\", \"kid\", \"kid\", \"kid\", \"kid\", \"kid\", \"kid\", \"kid\", \"kids\", \"kids\", \"kids\", \"kids\", \"kids\", \"kids\", \"kids\", \"kids\", \"kieslowski\", \"killer\", \"killer\", \"killer\", \"killer\", \"killer\", \"killings\", \"killings\", \"killings\", \"killings\", \"kills\", \"kim basinger\", \"kim basinger\", \"kim basinger\", \"kind\", \"kind\", \"kind\", \"kind\", \"kind\", \"kind\", \"kind\", \"kind\", \"kind\", \"kind\", \"kind\", \"kind\", \"kind\", \"kind\", \"kind\", \"kind\", \"kind\", \"kind\", \"kind\", \"kind\", \"kinnear\", \"kubrick\", \"kubrick\", \"kubrick\", \"kung fu\", \"kung fu\", \"kurtz\", \"lambs\", \"laugh track\", \"laughs\", \"laughs\", \"laughs\", \"laughs\", \"laughs\", \"laughs\", \"laughs\", \"laughs\", \"laughs\", \"laughs\", \"laughs\", \"laughs\", \"laughs\", \"laurel\", \"laurel & hardy\", \"lauren bacall\", \"lauren bacall\", \"lava\", \"law\", \"law\", \"law\", \"law\", \"law\", \"law\", \"law\", \"law\", \"law\", \"law\", \"lawrence arabia\", \"league\", \"league\", \"league\", \"league gentlemen\", \"lemmon\", \"lena olin\", \"leno\", \"leslie howard\", \"li\", \"life\", \"life\", \"life\", \"life\", \"life\", \"life\", \"life\", \"life\", \"life\", \"life\", \"life\", \"life\", \"life\", \"life\", \"life\", \"life\", \"life\", \"life\", \"life\", \"life\", \"limelight\", \"linda blair\", \"lines\", \"lines\", \"lines\", \"lines\", \"lines\", \"lines\", \"lines\", \"lines\", \"lines\", \"lines\", \"lines\", \"lines\", \"lines\", \"lines\", \"lines\", \"lines\", \"lines\", \"little big horn\", \"little edie\", \"little girls\", \"live action\", \"lives\", \"lives\", \"lives\", \"lives\", \"lives\", \"lives\", \"lives\", \"lives\", \"lives\", \"lives\", \"lives\", \"lives\", \"lives\", \"lives\", \"logic\", \"logic\", \"logic\", \"logic\", \"logic\", \"logic\", \"logic\", \"logic\", \"logic\", \"lois lane\", \"lone ranger\", \"loneliness\", \"loneliness\", \"loneliness\", \"loomis\", \"lord\", \"lord\", \"lord\", \"lord\", \"loretta young\", \"loretta young\", \"loss\", \"loss\", \"loss\", \"loss\", \"loss\", \"loss\", \"loss\", \"loss\", \"loss\", \"loss\", \"lot\", \"lot\", \"lot\", \"lot\", \"lot\", \"lot\", \"lot\", \"lot\", \"lot\", \"lot\", \"lot\", \"lot\", \"lot\", \"lot\", \"lot\", \"lot\", \"lot\", \"lot\", \"lot\", \"lot\", \"lots\", \"lots\", \"lots\", \"lots\", \"lots\", \"lots\", \"lots\", \"lots\", \"lots\", \"lots\", \"lots\", \"lots\", \"lots\", \"lots\", \"lots\", \"lots\", \"lots\", \"lots\", \"lots\", \"love\", \"love\", \"love\", \"love\", \"love\", \"love\", \"love\", \"love\", \"love\", \"love\", \"love\", \"love\", \"love\", \"love\", \"love\", \"love\", \"love\", \"love\", \"love\", \"low budget\", \"low budget\", \"low budget\", \"low budget\", \"low budget\", \"low budget\", \"low budget\", \"low budget\", \"low quality\", \"lugosi\", \"lugosi\", \"luke\", \"luke\", \"luke\", \"lumet\", \"lump\", \"lupino\", \"lust\", \"lust\", \"lust\", \"lynch\", \"lynch\", \"lynch\", \"lyrics\", \"lyrics\", \"lyrics\", \"m\", \"machine gun\", \"macy\", \"mad max\", \"mad scientist\", \"mad scientist\", \"madonna\", \"madonna\", \"madonna\", \"magazines\", \"major disappointment\", \"major disappointment\", \"malkovich\", \"mall\", \"mall\", \"man\", \"man\", \"man\", \"man\", \"man\", \"man\", \"man\", \"man\", \"man\", \"man\", \"man\", \"man\", \"man\", \"man\", \"man\", \"man\", \"man\", \"man\", \"man\", \"man\", \"maniac\", \"manos\", \"marine\", \"marine\", \"marion davies\", \"marisa tomei\", \"marlene dietrich\", \"marlon brando\", \"marlon brando\", \"marlon brando\", \"mars\", \"mars\", \"mars\", \"mars\", \"mars\", \"martial arts\", \"martial arts\", \"martial arts\", \"marvelous\", \"match\", \"match\", \"match\", \"match\", \"match\", \"match\", \"match\", \"match\", \"matthau\", \"matthau\", \"maturity\", \"mausoleum\", \"max\", \"max\", \"max\", \"max\", \"max\", \"mccoy\", \"meaning\", \"meaning\", \"meaning\", \"meaning\", \"meaning\", \"meaning\", \"meaning\", \"meaning\", \"media\", \"media\", \"media\", \"media\", \"media\", \"media\", \"meg ryan\", \"meg ryan\", \"mel brooks\", \"melbourne\", \"melissa joan hart\", \"men\", \"men\", \"men\", \"men\", \"men\", \"men\", \"men\", \"men\", \"men\", \"men\", \"men\", \"men\", \"men\", \"men\", \"men\", \"men\", \"mencia\", \"mental hospital\", \"merchant\", \"meryl streep\", \"mgm\", \"mgm\", \"michael caine\", \"michael caine\", \"michael caine\", \"michael douglas\", \"michael douglas\", \"michelle\", \"michelle\", \"michelle\", \"middle\", \"middle\", \"middle\", \"middle\", \"middle\", \"middle\", \"middle\", \"middle\", \"middle\", \"middle\", \"middle\", \"middle\", \"middle\", \"middle\", \"middle\", \"middle\", \"middle night\", \"midnight cowboy\", \"miike\", \"mike\", \"mike\", \"mike\", \"mike\", \"mike\", \"mike\", \"mike\", \"milo\", \"mind\", \"mind\", \"mind\", \"mind\", \"mind\", \"mind\", \"mind\", \"mind\", \"mind\", \"mind\", \"mind\", \"mind\", \"mind\", \"mind\", \"mind\", \"mind\", \"mind\", \"mind\", \"mind\", \"minutes\", \"minutes\", \"minutes\", \"minutes\", \"minutes\", \"minutes\", \"minutes\", \"minutes\", \"minutes\", \"minutes\", \"minutes\", \"minutes\", \"minutes\", \"minutes\", \"minutes\", \"minutes\", \"miyazaki\", \"mob boss\", \"mobster\", \"models\", \"modern audiences\", \"mom\", \"moment\", \"moment\", \"moment\", \"moment\", \"moment\", \"moment\", \"moment\", \"moment\", \"moment\", \"moment\", \"moment\", \"moment\", \"moment\", \"moment\", \"moment\", \"moment\", \"moment\", \"moment\", \"moment\", \"momma\", \"money\", \"money\", \"money\", \"money\", \"money\", \"money\", \"money\", \"money\", \"money\", \"money\", \"money\", \"money\", \"money\", \"money\", \"money\", \"money\", \"money\", \"money\", \"monster\", \"monster\", \"monster\", \"monster\", \"monster\", \"monster\", \"months ago\", \"months ago\", \"morgan\", \"morgan\", \"morgan\", \"moriarty\", \"morning\", \"morning\", \"morning\", \"morning\", \"morning\", \"morning\", \"morning\", \"morning\", \"morning\", \"morning\", \"morning\", \"mortality\", \"mother\", \"mother\", \"mother\", \"mother\", \"mother\", \"mother\", \"movies\", \"movies\", \"movies\", \"movies\", \"movies\", \"movies\", \"movies\", \"movies\", \"movies\", \"movies\", \"movies\", \"movies\", \"movies\", \"movies\", \"movies\", \"movies\", \"movies\", \"movies\", \"movies\", \"movies\", \"muppet\", \"muppets\", \"murder\", \"murder\", \"murder\", \"murder\", \"murder\", \"murder\", \"murder\", \"murder\", \"murder\", \"murder\", \"murder\", \"murder\", \"murders\", \"murders\", \"murders\", \"murders\", \"murders\", \"murders\", \"music\", \"music\", \"music\", \"music\", \"music\", \"music\", \"music\", \"music\", \"music\", \"music\", \"music\", \"music\", \"music\", \"music\", \"music\", \"music\", \"music\", \"music\", \"music\", \"musicals\", \"musicals\", \"muslims\", \"mutants\", \"myrna loy\", \"myrna loy\", \"n64\", \"naked gun\", \"narration\", \"narration\", \"narration\", \"narration\", \"narration\", \"narration\", \"nash\", \"natalie\", \"nation\", \"nation\", \"nature\", \"nature\", \"nature\", \"nature\", \"nature\", \"nature\", \"nature\", \"nature\", \"nature\", \"navy\", \"navy\", \"navy\", \"navy\", \"nazi\", \"nazis\", \"nbc\", \"nbc\", \"ned kelly\", \"neighbor\", \"neighbor\", \"network\", \"network\", \"network\", \"network\", \"network\", \"new series\", \"new york\", \"new york\", \"new york\", \"new york\", \"new york\", \"new york\", \"new york\", \"new york\", \"new york\", \"new york\", \"new york\", \"new york\", \"new york\", \"new york\", \"new york\", \"newman\", \"nice shots\", \"nicholas cage\", \"nicole\", \"nicole\", \"night\", \"night\", \"night\", \"night\", \"night\", \"night\", \"night\", \"night\", \"night\", \"night\", \"night\", \"night\", \"night\", \"night\", \"night\", \"night\", \"night\", \"night living dead\", \"nightmare\", \"nightmare\", \"nightmare\", \"nightmare\", \"ninja\", \"ninja\", \"noir\", \"noir\", \"norma shearer\", \"norris\", \"novel\", \"novel\", \"novel\", \"novel\", \"novel\", \"novels\", \"novels\", \"nudity\", \"nudity\", \"nudity\", \"nudity\", \"nudity\", \"nudity\", \"nudity\", \"nudity\", \"nurse betty\", \"nursing home\", \"office space\", \"older sister\", \"older sister\", \"oliver hardy\", \"oliver reed\", \"ollie\", \"opinion\", \"opinion\", \"opinion\", \"opinion\", \"opinion\", \"opinion\", \"opinion\", \"opinion\", \"opinion\", \"opinion\", \"opinion\", \"opinion\", \"opinion\", \"opinion\", \"opinion\", \"opinion\", \"order\", \"order\", \"order\", \"order\", \"order\", \"order\", \"order\", \"order\", \"order\", \"order\", \"order\", \"order\", \"order\", \"order\", \"order\", \"order\", \"order\", \"order\", \"original\", \"original\", \"original\", \"original\", \"original\", \"original\", \"original\", \"original\", \"original\", \"original\", \"original\", \"original\", \"original\", \"orson welles\", \"orson welles\", \"orson welles\", \"oscar\", \"oscar\", \"oscar\", \"oscar\", \"oscar\", \"oscar\", \"oscar\", \"oscar\", \"oscar\", \"oscar\", \"oscar\", \"oscar\", \"oscar\", \"oscar\", \"outstanding performance\", \"outstanding performance\", \"overall effect\", \"paltrow\", \"pam grier\", \"parents\", \"parents\", \"parents\", \"parents\", \"parents\", \"parents\", \"parents\", \"parker posey\", \"partner\", \"partner\", \"partner\", \"partner\", \"partner\", \"partner\", \"partner\", \"passion\", \"passion\", \"passion\", \"passion\", \"passion\", \"passion\", \"passion\", \"passion\", \"passion\", \"pathos\", \"pathos\", \"paul newman\", \"pauly shore\", \"paz vega\", \"penguin\", \"people\", \"people\", \"people\", \"people\", \"people\", \"people\", \"people\", \"people\", \"people\", \"people\", \"people\", \"people\", \"people\", \"people\", \"people\", \"people\", \"people\", \"people\", \"people\", \"people\", \"performance\", \"performance\", \"performance\", \"performance\", \"performance\", \"performance\", \"performance\", \"performance\", \"performance\", \"performance\", \"performance\", \"performance\", \"performance\", \"performances\", \"performances\", \"performances\", \"performances\", \"performances\", \"performances\", \"performances\", \"performances\", \"performances\", \"performances\", \"performances\", \"performances\", \"performances\", \"performances\", \"period\", \"period\", \"period\", \"period\", \"period\", \"period\", \"period\", \"period\", \"period\", \"period\", \"period\", \"period\", \"period\", \"period\", \"period\", \"period\", \"persuasion\", \"peter boyle\", \"peter cushing\", \"peter cushing\", \"peter falk\", \"peters\", \"philip seymour hoffman\", \"philo vance\", \"picture\", \"picture\", \"picture\", \"picture\", \"picture\", \"picture\", \"picture\", \"picture\", \"picture\", \"picture\", \"picture\", \"picture\", \"picture\", \"picture\", \"picture\", \"picture\", \"picture\", \"picture\", \"picture\", \"piece\", \"piece\", \"piece\", \"piece\", \"piece\", \"piece\", \"piece\", \"piece\", \"piece\", \"piece\", \"piece\", \"piece\", \"piece\", \"piece\", \"piece\", \"piece\", \"pioneers\", \"pitch black\", \"pixar\", \"place\", \"place\", \"place\", \"place\", \"place\", \"place\", \"place\", \"place\", \"place\", \"place\", \"place\", \"place\", \"place\", \"place\", \"place\", \"place\", \"place\", \"place\", \"place\", \"place\", \"plan 9 outer space\", \"plane\", \"plane\", \"plane\", \"plane\", \"plane\", \"plane\", \"plane\", \"plane\", \"plane\", \"plane\", \"plane\", \"plane\", \"planet\", \"planet\", \"planet\", \"planet\", \"planet\", \"planet\", \"planet\", \"planet\", \"planets\", \"play\", \"play\", \"play\", \"play\", \"play\", \"play\", \"play\", \"play\", \"play\", \"playboy\", \"playboy\", \"playboy\", \"playboy\", \"playboy\", \"playboy\", \"players\", \"players\", \"players\", \"players\", \"players\", \"players\", \"players\", \"players\", \"players\", \"plenty\", \"plenty\", \"plenty\", \"plenty\", \"plenty\", \"plenty\", \"plenty\", \"plenty\", \"plenty\", \"plenty\", \"plenty\", \"plenty\", \"plenty\", \"plenty\", \"plenty\", \"plenty\", \"plenty\", \"plenty\", \"plenty\", \"plot\", \"plot\", \"plot\", \"plot\", \"plot\", \"plot\", \"plot\", \"plot\", \"plot\", \"plot\", \"plot\", \"plot\", \"plot\", \"plot\", \"plot\", \"plot\", \"plot\", \"plot\", \"plot\", \"plot\", \"point\", \"point\", \"point\", \"point\", \"point\", \"point\", \"point\", \"point\", \"point\", \"point\", \"point\", \"point\", \"point\", \"point\", \"point\", \"point\", \"point\", \"point\", \"point\", \"point\", \"pokemon\", \"poland\", \"police\", \"police\", \"police\", \"police\", \"police detective\", \"police station\", \"police station\", \"police story\", \"politics\", \"politics\", \"politics\", \"politics\", \"pond\", \"pond\", \"ponyo\", \"poor script\", \"portrayal\", \"portrayal\", \"portrayal\", \"portrayal\", \"portrayal\", \"portrayal\", \"portrayal\", \"portrayal\", \"portrayal\", \"portrayal\", \"positive reviews\", \"predator\", \"predator\", \"predator\", \"predator\", \"predictable plot\", \"pregnancy\", \"prejudice\", \"prejudice\", \"prejudice\", \"prejudice\", \"prejudice\", \"president\", \"president\", \"president\", \"president\", \"president\", \"president\", \"president\", \"president\", \"president\", \"print\", \"print\", \"print\", \"print\", \"print\", \"prison\", \"prison\", \"prison\", \"prison\", \"prison\", \"prison\", \"prison\", \"prison\", \"prison\", \"private ryan\", \"privilege\", \"privilege\", \"production\", \"production\", \"production\", \"production\", \"production\", \"production\", \"production\", \"production\", \"production\", \"production\", \"production\", \"production\", \"production\", \"production\", \"production\", \"production\", \"production\", \"production\", \"programs\", \"programs\", \"prom night\", \"propaganda\", \"prot\", \"punk\", \"puppet master\", \"quebec\", \"queens\", \"queens\", \"queens\", \"rain\", \"rain\", \"rain\", \"rain\", \"ralph fiennes\", \"ramones\", \"randolph scott\", \"raoul walsh\", \"rate\", \"rate\", \"rate\", \"rate\", \"rate\", \"rate\", \"rate\", \"rate\", \"rate\", \"rate\", \"rate\", \"rate\", \"ray\", \"ray\", \"ray\", \"ray\", \"re-animator\", \"re-animator\", \"reality\", \"reality\", \"reality\", \"reality\", \"reality\", \"reality\", \"reality\", \"reality\", \"reality\", \"reality\", \"reality\", \"reality\", \"reality\", \"reality\", \"reality\", \"reality\", \"reality tv\", \"reason\", \"reason\", \"reason\", \"reason\", \"reason\", \"reason\", \"reason\", \"reason\", \"reason\", \"reason\", \"reason\", \"reason\", \"reason\", \"reason\", \"reason\", \"reason\", \"reason\", \"reason\", \"reason\", \"reason\", \"recognition\", \"recognition\", \"recognition\", \"recognition\", \"recognition\", \"recognition\", \"red sox\", \"redeeming quality\", \"redeeming quality\", \"redeeming quality\", \"redemption\", \"redemption\", \"redemption\", \"redemption\", \"redemption\", \"redemption\", \"reflection\", \"reflection\", \"reflection\", \"reflection\", \"relationship\", \"relationship\", \"relationship\", \"relationship\", \"relationship\", \"relationship\", \"relationship\", \"relationship\", \"relationship\", \"relationships\", \"relationships\", \"relationships\", \"relationships\", \"relationships\", \"relationships\", \"relationships\", \"relationships\", \"relatives\", \"relatives\", \"relatives\", \"relatives\", \"religion\", \"religion\", \"religion\", \"religion\", \"religion\", \"remake\", \"remake\", \"remake\", \"remake\", \"remake\", \"remake\", \"remake\", \"remake\", \"remake\", \"remake\", \"remake\", \"remake\", \"remake\", \"remote\", \"remote\", \"remote\", \"renoir\", \"reputations\", \"rest\", \"rest\", \"rest\", \"rest\", \"rest\", \"rest\", \"rest\", \"rest\", \"rest\", \"rest\", \"rest\", \"rest\", \"rest\", \"rest\", \"rest\", \"rest\", \"rest\", \"rest\", \"rest\", \"rest\", \"revenge\", \"revenge\", \"revenge\", \"revenge\", \"revenge\", \"revenge\", \"revenge\", \"revenge\", \"reverse\", \"reviews\", \"reviews\", \"reviews\", \"reviews\", \"reviews\", \"reviews\", \"reviews\", \"reviews\", \"reviews\", \"reviews\", \"reviews\", \"reviews\", \"reviews\", \"ricci\", \"richard crenna\", \"richard widmark\", \"richard widmark\", \"riddick\", \"rings\", \"rings\", \"ringu\", \"rip-off\", \"rip-off\", \"ripper\", \"rita\", \"rita\", \"rita hayworth\", \"rita hayworth\", \"rivals\", \"rko\", \"rob lowe\", \"rob roy\", \"robbers\", \"robbery\", \"robbery\", \"robert culp\", \"robert cummings\", \"robert deniro\", \"robert deniro\", \"robert downey\", \"robin\", \"robin williams\", \"robin williams\", \"robin williams\", \"robot\", \"robot\", \"rochester\", \"rock\", \"rock\", \"rock\", \"rock\", \"rock\", \"rock\", \"rock\", \"rock\", \"rock\", \"rock\", \"rock hudson\", \"rock hudson\", \"rock hudson\", \"rodney dangerfield\", \"roger moore\", \"role\", \"role\", \"role\", \"role\", \"role\", \"role\", \"role\", \"role\", \"role\", \"role\", \"role\", \"role\", \"role\", \"role\", \"role\", \"romeo\", \"rory\", \"rory\", \"rowan atkinson\", \"rudy ray moore\", \"run\", \"run\", \"run\", \"run\", \"run\", \"run\", \"run\", \"run\", \"run\", \"rupert everett\", \"rupert grint\", \"russia\", \"russia\", \"russian\", \"russian\", \"russian\", \"russian\", \"russian\", \"russians\", \"sadness\", \"sadness\", \"sadness\", \"sadness\", \"sadness\", \"sadness\", \"sadness\", \"salt\", \"salt\", \"sammo hung\", \"sarah waters\", \"sasquatch\", \"satellite\", \"saturday\", \"saturday\", \"saturday\", \"saturday\", \"saturday afternoon\", \"saturday night\", \"saturday night\", \"saving private ryan\", \"scares\", \"scarlett\", \"scene\", \"scene\", \"scene\", \"scene\", \"scene\", \"scene\", \"scene\", \"scene\", \"scene\", \"scene\", \"scene\", \"scene\", \"scene\", \"scene\", \"scene\", \"scene\", \"scene\", \"scene\", \"scene\", \"scenery\", \"scenery\", \"scenery\", \"scenery\", \"scenery\", \"scenery\", \"scenery\", \"scenery\", \"scenery\", \"scenery\", \"scenery\", \"scenery\", \"scenes\", \"scenes\", \"scenes\", \"scenes\", \"scenes\", \"scenes\", \"scenes\", \"scenes\", \"scenes\", \"scenes\", \"scenes\", \"scenes\", \"scenes\", \"scenes\", \"scenes\", \"scenes\", \"scenes\", \"scenes\", \"scenes\", \"schindler\", \"schindlers list\", \"schindlers list\", \"schindlers list\", \"school\", \"school\", \"school\", \"school\", \"school\", \"school\", \"school\", \"sci-fi\", \"sci-fi\", \"sci-fi\", \"sci-fi\", \"sci-fi\", \"sci-fi\", \"sci-fi\", \"sci-fi\", \"scientist\", \"scientist\", \"scientist\", \"scientist\", \"scott\", \"scott\", \"scott\", \"scott\", \"screen\", \"screen\", \"screen\", \"screen\", \"screen\", \"screen\", \"screen\", \"screen\", \"screen\", \"screen\", \"screen\", \"screen\", \"screen\", \"screen\", \"screen\", \"screen\", \"screen\", \"screen\", \"screen\", \"screenplay\", \"screenplay\", \"screenplay\", \"screenplay\", \"screenplay\", \"screenplay\", \"screenplay\", \"screenplay\", \"screenplay\", \"screenplay\", \"screenplay\", \"screenplay\", \"screenplay\", \"script\", \"script\", \"script\", \"script\", \"script\", \"script\", \"script\", \"script\", \"script\", \"script\", \"script\", \"script\", \"script\", \"script\", \"script\", \"script\", \"script\", \"script\", \"script\", \"scripts\", \"scripts\", \"scripts\", \"scripts\", \"scripts\", \"scripts\", \"scripts\", \"scrooge\", \"seagal\", \"sean connery\", \"season\", \"seasons\", \"seat\", \"seat\", \"seat\", \"seat\", \"seat\", \"seat\", \"seat\", \"seat\", \"seat\", \"seat\", \"seat\", \"second\", \"second\", \"second\", \"second\", \"second\", \"second\", \"second\", \"second\", \"second\", \"second\", \"second\", \"second\", \"second\", \"second\", \"second\", \"second\", \"second\", \"second\", \"second\", \"second season\", \"second world war\", \"segal\", \"selma blair\", \"sense\", \"sense\", \"sense\", \"sense\", \"sense\", \"sense\", \"sense\", \"sense\", \"sense\", \"sense\", \"sense\", \"sense\", \"sense\", \"sense\", \"sense\", \"sense\", \"sense\", \"sense\", \"sense\", \"sequel\", \"sequel\", \"sequel\", \"sequel\", \"sequel\", \"sequel\", \"sequel\", \"sequel\", \"sequel\", \"sequel\", \"serbian\", \"series\", \"series\", \"series\", \"series\", \"series\", \"series\", \"series\", \"series\", \"series\", \"series\", \"series\", \"series\", \"series\", \"series\", \"series\", \"series\", \"series\", \"series\", \"serum\", \"settings\", \"settings\", \"settings\", \"settings\", \"settings\", \"settings\", \"settings\", \"sex\", \"sex\", \"sex\", \"sex\", \"sex\", \"sex\", \"sex\", \"sex\", \"sex\", \"sex\", \"sex\", \"sex\", \"sex\", \"shakespeare\", \"shakespeare\", \"shakespeare\", \"shakespeare\", \"shakespeare\", \"shakespeare\", \"shakespeare\", \"shakespeare\", \"shakespeare\", \"shakespearian\", \"shanghai\", \"shark\", \"shark\", \"shark\", \"shark\", \"shaw\", \"shemp\", \"sherlock holmes\", \"sherlock holmes\", \"shining\", \"shining\", \"shining\", \"sholay\", \"shots\", \"shots\", \"shots\", \"shots\", \"shots\", \"shots\", \"shots\", \"shots\", \"shots\", \"shots\", \"shots\", \"shots\", \"shots\", \"shots\", \"shots\", \"shots\", \"shows\", \"shrek\", \"sidney lumet\", \"silence lambs\", \"silents\", \"simpsons\", \"simpsons\", \"simpsons\", \"simpsons\", \"simpsons\", \"singer\", \"singer\", \"singer\", \"singer\", \"singer\", \"singer\", \"singers\", \"singing\", \"singing\", \"singing\", \"single episode\", \"single thing\", \"sister\", \"sister\", \"sister\", \"sister\", \"sister\", \"sister\", \"sister\", \"sister\", \"sister\", \"sister\", \"sitcom\", \"sitcom\", \"skies\", \"slasher\", \"slasher movies\", \"slaughter\", \"slaughter\", \"sleaze\", \"sleaze\", \"slumber party massacre\", \"smith\", \"smith\", \"smith\", \"smith\", \"smith\", \"smith\", \"snuff\", \"soap opera\", \"soap opera\", \"soldiers\", \"soldiers\", \"soldiers\", \"soldiers\", \"soldiers\", \"son\", \"son\", \"son\", \"son\", \"son\", \"son\", \"son\", \"son\", \"son\", \"son\", \"son\", \"son\", \"son\", \"songs\", \"songs\", \"songs\", \"songs\", \"songs\", \"sort\", \"sort\", \"sort\", \"sort\", \"sort\", \"sort\", \"sort\", \"sort\", \"sort\", \"sort\", \"sort\", \"sort\", \"sort\", \"sort\", \"sort\", \"sort\", \"sort\", \"sort\", \"sort\", \"sound effects\", \"sound effects\", \"sound effects\", \"soundtrack\", \"soundtrack\", \"soundtrack\", \"soundtrack\", \"soundtrack\", \"soundtrack\", \"soundtrack\", \"soundtrack\", \"soundtrack\", \"soundtrack\", \"soundtrack\", \"soundtrack\", \"soundtrack\", \"south africa\", \"south park\", \"south park\", \"south street\", \"soviet\", \"soviet union\", \"space\", \"space\", \"space\", \"space\", \"space\", \"space\", \"space\", \"space odyssey\", \"space odyssey\", \"space odyssey\", \"spade\", \"spaghetti westerns\", \"span\", \"spare time\", \"special edition\", \"spider\", \"spielberg\", \"spielberg\", \"spielberg\", \"spielberg\", \"spielberg\", \"spike lee\", \"spock\", \"stage\", \"stage\", \"stage\", \"stage\", \"stage\", \"stage\", \"stage\", \"stage\", \"stage\", \"stage\", \"stage\", \"stalin\", \"stan\", \"stan laurel\", \"stanley kubrick\", \"stanley kubrick\", \"stanwyck\", \"star\", \"star\", \"star\", \"star\", \"star\", \"star\", \"star\", \"star\", \"star\", \"star\", \"star\", \"star\", \"star\", \"star\", \"star\", \"star\", \"star trek\", \"star trek\", \"star wars\", \"star wars\", \"star wars\", \"star wars\", \"star wars\", \"star wars\", \"star wars\", \"star wars\", \"stargate\", \"stars\", \"stars\", \"stars\", \"stars\", \"stars\", \"stars\", \"stars\", \"stars\", \"stars\", \"stars\", \"stars\", \"stars\", \"stars\", \"stars\", \"stars\", \"stars\", \"stars\", \"stars\", \"start\", \"start\", \"start\", \"start\", \"start\", \"start\", \"start\", \"start\", \"start\", \"start\", \"start\", \"start\", \"start\", \"start\", \"start\", \"start\", \"start\", \"steaming pile\", \"stefan\", \"stephen kings\", \"stepmother\", \"steven\", \"steven seagal\", \"steven segal\", \"stinker\", \"stinker\", \"stinker\", \"stops\", \"stops\", \"story\", \"story\", \"story\", \"story\", \"story\", \"story\", \"story\", \"story\", \"story\", \"story\", \"story\", \"story\", \"story\", \"story\", \"story\", \"story\", \"story\", \"story\", \"story\", \"story\", \"story lines\", \"story lines\", \"story lines\", \"streep\", \"streep\", \"strength\", \"strength\", \"strength\", \"strength\", \"strength\", \"strength\", \"strength\", \"strength\", \"strong performances\", \"strong sense\", \"structure\", \"structure\", \"structure\", \"structure\", \"structure\", \"structure\", \"structure\", \"structure\", \"stuart gordon\", \"stunt\", \"stunts\", \"stunts\", \"stunts\", \"stunts\", \"stunts\", \"stunts\", \"style\", \"style\", \"style\", \"style\", \"style\", \"style\", \"style\", \"style\", \"style\", \"style\", \"style\", \"style\", \"style\", \"style\", \"style\", \"subject matter\", \"subject matter\", \"subject matter\", \"subject matter\", \"subject matter\", \"subject matter\", \"subject matter\", \"subject matter\", \"subject matter\", \"summer\", \"summer\", \"summer\", \"summer\", \"summer\", \"summer\", \"summer\", \"summer\", \"summer\", \"summer\", \"summer\", \"summer\", \"summer\", \"summer camp\", \"sunday\", \"sunday\", \"sunday\", \"sunday\", \"sunday\", \"sunday afternoon\", \"superb job\", \"superman\", \"superman\", \"superman\", \"superman\", \"superman\", \"superstar\", \"surrealism\", \"surrealism\", \"suspense\", \"suspense\", \"suspense\", \"suspense\", \"suspense\", \"suspense\", \"suspense\", \"suspense\", \"suspense\", \"suspense\", \"suspension\", \"suspension\", \"suspension\", \"sutherland\", \"sutherland\", \"sybil danning\", \"sydney\", \"sydney\", \"symbols\", \"t-rex\", \"t.v.\", \"t.v.\", \"t.v.\", \"t.v.\", \"tape\", \"tape\", \"tape\", \"tape\", \"tape\", \"tape\", \"tape\", \"tarkovsky\", \"tarzan\", \"tcm\", \"tcm\", \"tcm\", \"tcm\", \"tea\", \"tea\", \"tea\", \"tea\", \"tea\", \"tea\", \"tea\", \"tears\", \"tears\", \"tears\", \"tears\", \"tears\", \"tears\", \"tears\", \"tears\", \"tears\", \"tears\", \"tears\", \"tears\", \"technicolor\", \"television\", \"television\", \"television\", \"television\", \"television\", \"television\", \"television\", \"television\", \"tension\", \"tension\", \"tension\", \"tension\", \"tension\", \"tension\", \"tension\", \"tension\", \"tension\", \"tension\", \"tension\", \"tension\", \"tensions\", \"terrible movies\", \"texas\", \"texas\", \"texas\", \"texas\", \"texas\", \"texas\", \"texas\", \"texas\", \"texas\", \"texas\", \"texas chainsaw\", \"texas chainsaw massacre\", \"texas chainsaw massacre\", \"thailand\", \"theft\", \"theft\", \"thelma ritter\", \"thing\", \"thing\", \"thing\", \"thing\", \"thing\", \"thing\", \"thing\", \"thing\", \"thing\", \"thing\", \"thing\", \"thing\", \"thing\", \"thing\", \"thing\", \"thing\", \"thing\", \"thing\", \"thing\", \"thing\", \"things\", \"things\", \"things\", \"things\", \"things\", \"things\", \"things\", \"things\", \"things\", \"things\", \"things\", \"things\", \"things\", \"things\", \"things\", \"things\", \"things\", \"things\", \"things\", \"things\", \"thriller\", \"thriller\", \"thriller\", \"thriller\", \"thriller\", \"thriller\", \"thriller\", \"thriller\", \"thriller\", \"thugs\", \"thugs\", \"thumbs\", \"thumbs\", \"thumbs\", \"tim burton\", \"tim burton\", \"tim robbins\", \"tim robbins\", \"tim robbins\", \"time\", \"time\", \"time\", \"time\", \"time\", \"time\", \"time\", \"time\", \"time\", \"time\", \"time\", \"time\", \"time\", \"time\", \"time\", \"time\", \"time\", \"time\", \"time\", \"time\", \"times\", \"times\", \"times\", \"times\", \"times\", \"times\", \"times\", \"times\", \"times\", \"times\", \"times\", \"times\", \"times\", \"times\", \"times\", \"times\", \"times\", \"times\", \"times\", \"times\", \"timothy hutton\", \"tissues\", \"title\", \"title\", \"title\", \"title\", \"title\", \"title\", \"title\", \"title\", \"title\", \"title\", \"title\", \"title\", \"title\", \"title\", \"title\", \"title\", \"title\", \"title\", \"title\", \"today\", \"today\", \"today\", \"today\", \"today\", \"today\", \"today\", \"today\", \"today\", \"today\", \"today\", \"today\", \"today\", \"today\", \"today\", \"today\", \"today\", \"today\", \"today\", \"tom hanks\", \"tom hanks\", \"tom selleck\", \"tom selleck\", \"tom wilkinson\", \"tone\", \"tone\", \"tone\", \"tone\", \"tone\", \"tone\", \"tone\", \"tone\", \"tone\", \"tone\", \"tone\", \"tone\", \"tone\", \"tongue\", \"tongue\", \"tony scott\", \"topic\", \"topic\", \"topic\", \"topic\", \"topic\", \"toronto\", \"toronto\", \"total waste\", \"total waste\", \"total waste\", \"touching story\", \"town\", \"town\", \"town\", \"town\", \"town\", \"town\", \"town\", \"town\", \"town\", \"town\", \"town\", \"town\", \"town\", \"toy story\", \"tragedy\", \"tragedy\", \"tragedy\", \"tragedy\", \"tragedy\", \"tragedy\", \"tragedy\", \"tragedy\", \"tragedy\", \"trash\", \"trash\", \"trash\", \"trash\", \"trash\", \"trash\", \"trash\", \"travolta\", \"troma\", \"troma\", \"troops\", \"troops\", \"true meaning\", \"true story\", \"true story\", \"true story\", \"true story\", \"true story\", \"true story\", \"true story\", \"true story\", \"true story\", \"true story\", \"true story\", \"turkish\", \"turmoil\", \"turmoil\", \"turner\", \"turner\", \"tv\", \"tv\", \"tv\", \"tv\", \"tv\", \"tv\", \"tv\", \"tv\", \"tv\", \"tv\", \"tv\", \"tv\", \"tv\", \"tv\", \"tv\", \"tv series\", \"tv series\", \"tv series\", \"tv series\", \"twist\", \"twist\", \"twist\", \"twist\", \"twist\", \"twist\", \"twist\", \"twist\", \"twist\", \"twists\", \"twists\", \"twists\", \"twists\", \"twists\", \"twists\", \"twists\", \"twists\", \"twists\", \"two-thirds\", \"two-thirds\", \"uk\", \"uk\", \"uk\", \"uk\", \"uk\", \"uk\", \"uncle\", \"uncle\", \"uncle\", \"uncle\", \"uncle\", \"undertaker\", \"use\", \"use\", \"use\", \"use\", \"use\", \"use\", \"use\", \"use\", \"use\", \"use\", \"use\", \"use\", \"use\", \"use\", \"use\", \"use\", \"use\", \"use\", \"ussr\", \"utter crap\", \"uwe boll\", \"uwe boll\", \"val kilmer\", \"valentine\", \"value\", \"value\", \"value\", \"value\", \"value\", \"value\", \"value\", \"value\", \"value\", \"vampire\", \"vampire\", \"vampires\", \"vampires\", \"vampires\", \"vampires\", \"vampires\", \"vcr\", \"vcr\", \"vcr\", \"venice\", \"venice\", \"vera\", \"verhoeven\", \"vermont\", \"version\", \"version\", \"version\", \"version\", \"version\", \"version\", \"version\", \"version\", \"version\", \"version\", \"version\", \"vhs\", \"vhs\", \"vhs\", \"vhs\", \"vice\", \"victim\", \"victim\", \"victim\", \"victim\", \"victim\", \"victim\", \"victim\", \"victim\", \"victim\", \"victim\", \"victor mclaglen\", \"victoria\", \"victoria\", \"video\", \"video\", \"video\", \"video\", \"video\", \"video\", \"video\", \"video\", \"video\", \"video\", \"video\", \"video\", \"video\", \"video\", \"video store\", \"video store\", \"video store\", \"video store\", \"video tape\", \"video tape\", \"viewer\", \"viewer\", \"viewer\", \"viewer\", \"viewer\", \"viewer\", \"viewer\", \"viewer\", \"viewer\", \"viewer\", \"viewer\", \"viewer\", \"viewer\", \"viewer\", \"viewer\", \"viewer\", \"viewer\", \"viewer\", \"viewers\", \"viewers\", \"viewers\", \"viewers\", \"viewers\", \"viewers\", \"viewers\", \"viewers\", \"viewers\", \"viewers\", \"viewers\", \"viewers\", \"viewers\", \"viewers\", \"viewers\", \"viewers\", \"viewers\", \"villain\", \"villain\", \"villain\", \"villain\", \"villain\", \"villain\", \"villain\", \"villain\", \"villain\", \"villain\", \"villain\", \"villain\", \"vin diesel\", \"vinnie jones\", \"violence\", \"violence\", \"violence\", \"violence\", \"violence\", \"violence\", \"violence\", \"violence\", \"violence\", \"violence\", \"violence\", \"violence\", \"violence\", \"violence\", \"violence\", \"visconti\", \"visual style\", \"visuals\", \"visuals\", \"visuals\", \"visuals\", \"visuals\", \"visuals\", \"visuals\", \"vote\", \"vote\", \"voyager\", \"wal-mart\", \"wallace\", \"walt disney\", \"walter matthau\", \"war\", \"ward bond\", \"ward bond\", \"wards\", \"wars\", \"washington\", \"washington\", \"washington\", \"washington\", \"waste\", \"waste\", \"waste\", \"waste\", \"waste\", \"water\", \"water\", \"water\", \"water\", \"water\", \"water\", \"water\", \"water\", \"water\", \"water\", \"water\", \"water\", \"water\", \"water\", \"waterfall\", \"way\", \"way\", \"way\", \"way\", \"way\", \"way\", \"way\", \"way\", \"way\", \"way\", \"way\", \"way\", \"way\", \"way\", \"way\", \"way\", \"way\", \"way\", \"way\", \"way\", \"wedding ring\", \"week\", \"week\", \"week\", \"week\", \"week\", \"week\", \"week\", \"week\", \"welles\", \"welles\", \"welsh\", \"wife\", \"wife\", \"wife\", \"wife\", \"wife\", \"wife\", \"wife\", \"wife\", \"wife\", \"wife\", \"wife\", \"wife\", \"wife\", \"wife\", \"wife\", \"wife\", \"william h. macy\", \"william h. macy\", \"wind\", \"wind\", \"wind\", \"wind\", \"wind\", \"wind\", \"wind\", \"wind\", \"wind\", \"wizard\", \"wizard\", \"wizard oz\", \"wolf man\", \"woman\", \"woman\", \"woman\", \"woman\", \"woman\", \"woman\", \"woman\", \"woman\", \"woman\", \"woman\", \"woman\", \"woman\", \"woman\", \"woman\", \"woman\", \"woman\", \"women\", \"women\", \"women\", \"women\", \"women\", \"women\", \"women\", \"women\", \"women\", \"women\", \"women\", \"women\", \"women\", \"women\", \"women\", \"women\", \"wonderful actors\", \"words\", \"words\", \"words\", \"words\", \"words\", \"words\", \"words\", \"words\", \"words\", \"words\", \"words\", \"words\", \"words\", \"words\", \"words\", \"words\", \"words\", \"words\", \"work\", \"work\", \"work\", \"work\", \"work\", \"work\", \"work\", \"work\", \"work\", \"work\", \"work\", \"work\", \"work\", \"work\", \"work\", \"work\", \"work\", \"work\", \"work\", \"work\", \"world\", \"world\", \"world\", \"world\", \"world\", \"world\", \"world\", \"world\", \"world\", \"world\", \"world\", \"world\", \"world\", \"world\", \"world\", \"world\", \"world\", \"world\", \"world\", \"world\", \"world war\", \"world war ii\", \"world war ii\", \"world war ii\", \"worst\", \"worst\", \"worst\", \"worst acting\", \"worst acting\", \"worst horror\", \"worst movies\", \"wrestlemania\", \"writers\", \"writers\", \"writers\", \"writers\", \"writers\", \"writers\", \"writers\", \"writers\", \"writers\", \"writers\", \"writers\", \"writers\", \"writers\", \"writing\", \"writing\", \"writing\", \"writing\", \"writing\", \"writing\", \"writing\", \"writing\", \"writing\", \"writing\", \"writing\", \"wrong turn\", \"wwe\", \"wwii\", \"wwii\", \"yards\", \"year\", \"year\", \"year\", \"year\", \"year\", \"year\", \"year\", \"year\", \"year\", \"year\", \"year\", \"year\", \"year\", \"year\", \"year\", \"year\", \"year\", \"year\", \"year\", \"years\", \"years\", \"years\", \"years\", \"years\", \"years\", \"years\", \"years\", \"years\", \"years\", \"years\", \"years\", \"years\", \"years\", \"years\", \"years\", \"years\", \"years\", \"years\", \"years\", \"years later\", \"years later\", \"years later\", \"years later\", \"years later\", \"years later\", \"years later\", \"years later\", \"years later\", \"years later\", \"years later\", \"years later\", \"young love\", \"youngest son\", \"zabriskie point\", \"zoey\", \"zombies\", \"zombies\", \"zombies\", \"zombies\"]}, \"R\": 30, \"lambda.step\": 0.01, \"plot.opts\": {\"xlab\": \"PC1\", \"ylab\": \"PC2\"}, \"topic.order\": [1, 19, 8, 6, 14, 10, 17, 12, 5, 9, 20, 7, 16, 13, 3, 4, 11, 2, 18, 15]};\n",
       "\n",
       "function LDAvis_load_lib(url, callback){\n",
       "  var s = document.createElement('script');\n",
       "  s.src = url;\n",
       "  s.async = true;\n",
       "  s.onreadystatechange = s.onload = callback;\n",
       "  s.onerror = function(){console.warn(\"failed to load library \" + url);};\n",
       "  document.getElementsByTagName(\"head\")[0].appendChild(s);\n",
       "}\n",
       "\n",
       "if(typeof(LDAvis) !== \"undefined\"){\n",
       "   // already loaded: just create the visualization\n",
       "   !function(LDAvis){\n",
       "       new LDAvis(\"#\" + \"ldavis_el636441405238704484002839451275\", ldavis_el636441405238704484002839451275_data);\n",
       "   }(LDAvis);\n",
       "}else if(typeof define === \"function\" && define.amd){\n",
       "   // require.js is available: use it to load d3/LDAvis\n",
       "   require.config({paths: {d3: \"https://cdnjs.cloudflare.com/ajax/libs/d3/3.5.5/d3.min\"}});\n",
       "   require([\"d3\"], function(d3){\n",
       "      window.d3 = d3;\n",
       "      LDAvis_load_lib(\"https://cdn.rawgit.com/bmabey/pyLDAvis/files/ldavis.v1.0.0.js\", function(){\n",
       "        new LDAvis(\"#\" + \"ldavis_el636441405238704484002839451275\", ldavis_el636441405238704484002839451275_data);\n",
       "      });\n",
       "    });\n",
       "}else{\n",
       "    // require.js not available: dynamically load d3 & LDAvis\n",
       "    LDAvis_load_lib(\"https://cdnjs.cloudflare.com/ajax/libs/d3/3.5.5/d3.min.js\", function(){\n",
       "         LDAvis_load_lib(\"https://cdn.rawgit.com/bmabey/pyLDAvis/files/ldavis.v1.0.0.js\", function(){\n",
       "                 new LDAvis(\"#\" + \"ldavis_el636441405238704484002839451275\", ldavis_el636441405238704484002839451275_data);\n",
       "            })\n",
       "         });\n",
       "}\n",
       "</script>"
      ],
      "text/plain": [
       "PreparedData(topic_coordinates=              x         y  topics  cluster       Freq\n",
       "topic                                                \n",
       "0     -0.075351  0.063594       1        1  10.102042\n",
       "18     0.083054 -0.127906       2        1   8.546644\n",
       "7     -0.062261 -0.093996       3        1   6.553606\n",
       "5     -0.060918 -0.089953       4        1   6.074247\n",
       "13     0.104943 -0.190349       5        1   5.860523\n",
       "9     -0.059205 -0.052004       6        1   5.857488\n",
       "16    -0.120405  0.028615       7        1   5.304918\n",
       "11    -0.041437 -0.126859       8        1   5.164299\n",
       "4     -0.217567  0.034207       9        1   4.593516\n",
       "8      0.056301  0.044091      10        1   4.518222\n",
       "19     0.117015  0.083159      11        1   4.500062\n",
       "6     -0.014255  0.049309      12        1   4.356006\n",
       "15     0.064681 -0.050387      13        1   4.271914\n",
       "12    -0.153239  0.044103      14        1   3.980559\n",
       "2      0.146295  0.071340      15        1   3.751071\n",
       "3      0.121938  0.082474      16        1   3.589199\n",
       "10    -0.027902 -0.057866      17        1   3.537758\n",
       "1      0.122341  0.016593      18        1   3.453744\n",
       "17    -0.005152  0.181244      19        1   3.349409\n",
       "14     0.021125  0.090588      20        1   2.634774, topic_info=        Term         Freq        Total Category  logprob  loglift\n",
       "173   horror  1377.000000  1377.000000  Default  30.0000  30.0000\n",
       "1115    gore  1123.000000  1123.000000  Default  29.0000  29.0000\n",
       "114     kids  1525.000000  1525.000000  Default  28.0000  28.0000\n",
       "81    acting  4276.000000  4276.000000  Default  27.0000  27.0000\n",
       "420      war   986.000000   986.000000  Default  26.0000  26.0000\n",
       "...      ...          ...          ...      ...      ...      ...\n",
       "90     money    78.194522  2563.831878  Topic20  -5.7067   0.1463\n",
       "129    today    69.716462  1605.356032  Topic20  -5.8215   0.4997\n",
       "210     cast    71.285547  2260.044466  Topic20  -5.7992   0.1799\n",
       "709      guy    68.211356  1860.884976  Topic20  -5.8433   0.3302\n",
       "97      rest    68.639667  2379.513422  Topic20  -5.8370   0.0906\n",
       "\n",
       "[1642 rows x 6 columns], token_table=      Topic      Freq              Term\n",
       "term                                   \n",
       "6786      3  0.950860  \"special effects\n",
       "3766     15  0.930393                 1\n",
       "7544     14  0.952104            1 star\n",
       "9002      3  0.035397        10 seconds\n",
       "9002      9  0.920317        10 seconds\n",
       "...     ...       ...               ...\n",
       "3920      6  0.955164              zoey\n",
       "2886      3  0.065378           zombies\n",
       "2886      7  0.272409           zombies\n",
       "2886      9  0.196135           zombies\n",
       "2886     14  0.464912           zombies\n",
       "\n",
       "[5695 rows x 3 columns], R=30, lambda_step=0.01, plot_opts={'xlab': 'PC1', 'ylab': 'PC2'}, topic_order=[1, 19, 8, 6, 14, 10, 17, 12, 5, 9, 20, 7, 16, 13, 3, 4, 11, 2, 18, 15])"
      ]
     },
     "execution_count": 161,
     "metadata": {},
     "output_type": "execute_result"
    }
   ],
   "source": [
    "#Lambda 0 shows the unique representative keywords of a topic\n",
    "# Lambda=1 shows the most probable keyword showing in a topic\n",
    "pyLDAvis.gensim.prepare(topic_model=lda, corpus=corpus, dictionary=id2word)"
   ]
  },
  {
   "cell_type": "markdown",
   "metadata": {},
   "source": [
    "### Estimated percentage of topics that exist in each document\n"
   ]
  },
  {
   "cell_type": "code",
   "execution_count": 162,
   "metadata": {
    "id": "hJzi4MuOCOyY",
    "outputId": "199c077d-c27f-44f6-ca43-655372817730"
   },
   "outputs": [
    {
     "name": "stderr",
     "output_type": "stream",
     "text": [
      "/Users/shahnam/opt/anaconda3/envs/ML_NLP/lib/python3.7/site-packages/ipykernel/ipkernel.py:283: DeprecationWarning: `should_run_async` will not call `transform_cell` automatically in the future. Please pass the result to `transformed_cell` argument and any exception that happen during thetransform in `preprocessing_exc_tuple` in IPython 7.17 and above.\n",
      "  and should_run_async(code)\n"
     ]
    },
    {
     "data": {
      "text/plain": [
       "[(9, 0.5408864), (10, 0.1450507), (11, 0.29043266)]"
      ]
     },
     "execution_count": 162,
     "metadata": {},
     "output_type": "execute_result"
    }
   ],
   "source": [
    "# estimated percentage of topics that exist in each document\n",
    "lda[corpus[0]]"
   ]
  },
  {
   "cell_type": "code",
   "execution_count": 163,
   "metadata": {
    "id": "raUMQ7lZCOya",
    "outputId": "e47ee92f-2721-4405-b847-580cc91eed5f"
   },
   "outputs": [
    {
     "name": "stderr",
     "output_type": "stream",
     "text": [
      "/Users/shahnam/opt/anaconda3/envs/ML_NLP/lib/python3.7/site-packages/ipykernel/ipkernel.py:283: DeprecationWarning: `should_run_async` will not call `transform_cell` automatically in the future. Please pass the result to `transformed_cell` argument and any exception that happen during thetransform in `preprocessing_exc_tuple` in IPython 7.17 and above.\n",
      "  and should_run_async(code)\n"
     ]
    }
   ],
   "source": [
    "distro = [lda[doc] for doc in corpus]"
   ]
  },
  {
   "cell_type": "code",
   "execution_count": 164,
   "metadata": {
    "id": "7H7KE8yRCOyb",
    "outputId": "d0986d4e-32c2-46fd-baa3-99cdf9b7d044"
   },
   "outputs": [
    {
     "name": "stderr",
     "output_type": "stream",
     "text": [
      "/Users/shahnam/opt/anaconda3/envs/ML_NLP/lib/python3.7/site-packages/ipykernel/ipkernel.py:283: DeprecationWarning: `should_run_async` will not call `transform_cell` automatically in the future. Please pass the result to `transformed_cell` argument and any exception that happen during thetransform in `preprocessing_exc_tuple` in IPython 7.17 and above.\n",
      "  and should_run_async(code)\n"
     ]
    },
    {
     "data": {
      "text/plain": [
       "[(9, 0.54091704), (10, 0.14506154), (11, 0.29039124)]"
      ]
     },
     "execution_count": 164,
     "metadata": {},
     "output_type": "execute_result"
    }
   ],
   "source": [
    "distro[0]"
   ]
  },
  {
   "cell_type": "markdown",
   "metadata": {},
   "source": [
    "Standardizing the length of distribution variable"
   ]
  },
  {
   "cell_type": "code",
   "execution_count": 165,
   "metadata": {
    "id": "mj2dSMuDCOye",
    "outputId": "62756f58-6cbe-4408-905f-92033ad9f727"
   },
   "outputs": [
    {
     "name": "stderr",
     "output_type": "stream",
     "text": [
      "/Users/shahnam/opt/anaconda3/envs/ML_NLP/lib/python3.7/site-packages/ipykernel/ipkernel.py:283: DeprecationWarning: `should_run_async` will not call `transform_cell` automatically in the future. Please pass the result to `transformed_cell` argument and any exception that happen during thetransform in `preprocessing_exc_tuple` in IPython 7.17 and above.\n",
      "  and should_run_async(code)\n"
     ]
    }
   ],
   "source": [
    "def update(doc):\n",
    "    \"\"\"\n",
    "    d_dist.keys: topic\n",
    "    d_dist[topic]: percentage of a doc filled with the topic\n",
    "    \"\"\"\n",
    "    # fills all the irrelevant topic keys for a doc with 0 distribution probability\n",
    "    d_dist = {k:0 for k in range(0,20)}\n",
    "    for t in doc:\n",
    "        #update topic # t[0] key with t[1] value\n",
    "        d_dist[t[0]] = t[1]\n",
    "    return d_dist\n",
    "\n",
    "new_distro = [update(doc) for doc in distro] "
   ]
  },
  {
   "cell_type": "code",
   "execution_count": 167,
   "metadata": {},
   "outputs": [
    {
     "name": "stderr",
     "output_type": "stream",
     "text": [
      "/Users/shahnam/opt/anaconda3/envs/ML_NLP/lib/python3.7/site-packages/ipykernel/ipkernel.py:283: DeprecationWarning: `should_run_async` will not call `transform_cell` automatically in the future. Please pass the result to `transformed_cell` argument and any exception that happen during thetransform in `preprocessing_exc_tuple` in IPython 7.17 and above.\n",
      "  and should_run_async(code)\n"
     ]
    },
    {
     "data": {
      "text/plain": [
       "[{0: 0,\n",
       "  1: 0,\n",
       "  2: 0,\n",
       "  3: 0,\n",
       "  4: 0,\n",
       "  5: 0,\n",
       "  6: 0,\n",
       "  7: 0,\n",
       "  8: 0,\n",
       "  9: 0.54091704,\n",
       "  10: 0.14506154,\n",
       "  11: 0.29039124,\n",
       "  12: 0,\n",
       "  13: 0,\n",
       "  14: 0,\n",
       "  15: 0,\n",
       "  16: 0,\n",
       "  17: 0,\n",
       "  18: 0,\n",
       "  19: 0},\n",
       " {0: 0,\n",
       "  1: 0.10310074,\n",
       "  2: 0,\n",
       "  3: 0.2997028,\n",
       "  4: 0,\n",
       "  5: 0,\n",
       "  6: 0,\n",
       "  7: 0,\n",
       "  8: 0,\n",
       "  9: 0,\n",
       "  10: 0,\n",
       "  11: 0,\n",
       "  12: 0,\n",
       "  13: 0,\n",
       "  14: 0,\n",
       "  15: 0,\n",
       "  16: 0,\n",
       "  17: 0.12649219,\n",
       "  18: 0.42857662,\n",
       "  19: 0}]"
      ]
     },
     "execution_count": 167,
     "metadata": {},
     "output_type": "execute_result"
    }
   ],
   "source": [
    "# topic distribution for doc0 and doc1\n",
    "new_distro[:2]"
   ]
  },
  {
   "cell_type": "code",
   "execution_count": 168,
   "metadata": {
    "id": "vC-HZot8COyg",
    "outputId": "e5aacd37-5211-462e-98ee-0e556207eacb"
   },
   "outputs": [
    {
     "name": "stderr",
     "output_type": "stream",
     "text": [
      "/Users/shahnam/opt/anaconda3/envs/ML_NLP/lib/python3.7/site-packages/ipykernel/ipkernel.py:283: DeprecationWarning: `should_run_async` will not call `transform_cell` automatically in the future. Please pass the result to `transformed_cell` argument and any exception that happen during thetransform in `preprocessing_exc_tuple` in IPython 7.17 and above.\n",
      "  and should_run_async(code)\n"
     ]
    },
    {
     "data": {
      "text/html": [
       "<div>\n",
       "<style scoped>\n",
       "    .dataframe tbody tr th:only-of-type {\n",
       "        vertical-align: middle;\n",
       "    }\n",
       "\n",
       "    .dataframe tbody tr th {\n",
       "        vertical-align: top;\n",
       "    }\n",
       "\n",
       "    .dataframe thead th {\n",
       "        text-align: right;\n",
       "    }\n",
       "</style>\n",
       "<table border=\"1\" class=\"dataframe\">\n",
       "  <thead>\n",
       "    <tr style=\"text-align: right;\">\n",
       "      <th></th>\n",
       "      <th>0</th>\n",
       "      <th>1</th>\n",
       "      <th>2</th>\n",
       "      <th>3</th>\n",
       "      <th>4</th>\n",
       "      <th>5</th>\n",
       "      <th>6</th>\n",
       "      <th>7</th>\n",
       "      <th>8</th>\n",
       "      <th>9</th>\n",
       "      <th>10</th>\n",
       "      <th>11</th>\n",
       "      <th>12</th>\n",
       "      <th>13</th>\n",
       "      <th>14</th>\n",
       "      <th>15</th>\n",
       "      <th>16</th>\n",
       "      <th>17</th>\n",
       "      <th>18</th>\n",
       "      <th>19</th>\n",
       "    </tr>\n",
       "  </thead>\n",
       "  <tbody>\n",
       "    <tr>\n",
       "      <th>0</th>\n",
       "      <td>0.000000</td>\n",
       "      <td>0.000000</td>\n",
       "      <td>0.0</td>\n",
       "      <td>0.000000</td>\n",
       "      <td>0.000000</td>\n",
       "      <td>0.000000</td>\n",
       "      <td>0.000000</td>\n",
       "      <td>0.0</td>\n",
       "      <td>0.000000</td>\n",
       "      <td>0.540917</td>\n",
       "      <td>0.145062</td>\n",
       "      <td>0.290391</td>\n",
       "      <td>0.0</td>\n",
       "      <td>0.000000</td>\n",
       "      <td>0.0</td>\n",
       "      <td>0.00000</td>\n",
       "      <td>0.000000</td>\n",
       "      <td>0.000000</td>\n",
       "      <td>0.000000</td>\n",
       "      <td>0.0</td>\n",
       "    </tr>\n",
       "    <tr>\n",
       "      <th>1</th>\n",
       "      <td>0.000000</td>\n",
       "      <td>0.103101</td>\n",
       "      <td>0.0</td>\n",
       "      <td>0.299703</td>\n",
       "      <td>0.000000</td>\n",
       "      <td>0.000000</td>\n",
       "      <td>0.000000</td>\n",
       "      <td>0.0</td>\n",
       "      <td>0.000000</td>\n",
       "      <td>0.000000</td>\n",
       "      <td>0.000000</td>\n",
       "      <td>0.000000</td>\n",
       "      <td>0.0</td>\n",
       "      <td>0.000000</td>\n",
       "      <td>0.0</td>\n",
       "      <td>0.00000</td>\n",
       "      <td>0.000000</td>\n",
       "      <td>0.126492</td>\n",
       "      <td>0.428577</td>\n",
       "      <td>0.0</td>\n",
       "    </tr>\n",
       "    <tr>\n",
       "      <th>2</th>\n",
       "      <td>0.000000</td>\n",
       "      <td>0.253354</td>\n",
       "      <td>0.0</td>\n",
       "      <td>0.000000</td>\n",
       "      <td>0.197987</td>\n",
       "      <td>0.000000</td>\n",
       "      <td>0.000000</td>\n",
       "      <td>0.0</td>\n",
       "      <td>0.383772</td>\n",
       "      <td>0.000000</td>\n",
       "      <td>0.000000</td>\n",
       "      <td>0.000000</td>\n",
       "      <td>0.0</td>\n",
       "      <td>0.117812</td>\n",
       "      <td>0.0</td>\n",
       "      <td>0.00000</td>\n",
       "      <td>0.000000</td>\n",
       "      <td>0.000000</td>\n",
       "      <td>0.000000</td>\n",
       "      <td>0.0</td>\n",
       "    </tr>\n",
       "    <tr>\n",
       "      <th>3</th>\n",
       "      <td>0.000000</td>\n",
       "      <td>0.000000</td>\n",
       "      <td>0.0</td>\n",
       "      <td>0.000000</td>\n",
       "      <td>0.000000</td>\n",
       "      <td>0.594243</td>\n",
       "      <td>0.000000</td>\n",
       "      <td>0.0</td>\n",
       "      <td>0.000000</td>\n",
       "      <td>0.000000</td>\n",
       "      <td>0.000000</td>\n",
       "      <td>0.000000</td>\n",
       "      <td>0.0</td>\n",
       "      <td>0.000000</td>\n",
       "      <td>0.0</td>\n",
       "      <td>0.00000</td>\n",
       "      <td>0.336475</td>\n",
       "      <td>0.000000</td>\n",
       "      <td>0.000000</td>\n",
       "      <td>0.0</td>\n",
       "    </tr>\n",
       "    <tr>\n",
       "      <th>4</th>\n",
       "      <td>0.109998</td>\n",
       "      <td>0.000000</td>\n",
       "      <td>0.0</td>\n",
       "      <td>0.000000</td>\n",
       "      <td>0.000000</td>\n",
       "      <td>0.000000</td>\n",
       "      <td>0.088767</td>\n",
       "      <td>0.0</td>\n",
       "      <td>0.197666</td>\n",
       "      <td>0.000000</td>\n",
       "      <td>0.000000</td>\n",
       "      <td>0.000000</td>\n",
       "      <td>0.0</td>\n",
       "      <td>0.000000</td>\n",
       "      <td>0.0</td>\n",
       "      <td>0.34007</td>\n",
       "      <td>0.000000</td>\n",
       "      <td>0.000000</td>\n",
       "      <td>0.238486</td>\n",
       "      <td>0.0</td>\n",
       "    </tr>\n",
       "  </tbody>\n",
       "</table>\n",
       "</div>"
      ],
      "text/plain": [
       "         0         1    2         3         4         5         6    7   \\\n",
       "0  0.000000  0.000000  0.0  0.000000  0.000000  0.000000  0.000000  0.0   \n",
       "1  0.000000  0.103101  0.0  0.299703  0.000000  0.000000  0.000000  0.0   \n",
       "2  0.000000  0.253354  0.0  0.000000  0.197987  0.000000  0.000000  0.0   \n",
       "3  0.000000  0.000000  0.0  0.000000  0.000000  0.594243  0.000000  0.0   \n",
       "4  0.109998  0.000000  0.0  0.000000  0.000000  0.000000  0.088767  0.0   \n",
       "\n",
       "         8         9         10        11   12        13   14       15  \\\n",
       "0  0.000000  0.540917  0.145062  0.290391  0.0  0.000000  0.0  0.00000   \n",
       "1  0.000000  0.000000  0.000000  0.000000  0.0  0.000000  0.0  0.00000   \n",
       "2  0.383772  0.000000  0.000000  0.000000  0.0  0.117812  0.0  0.00000   \n",
       "3  0.000000  0.000000  0.000000  0.000000  0.0  0.000000  0.0  0.00000   \n",
       "4  0.197666  0.000000  0.000000  0.000000  0.0  0.000000  0.0  0.34007   \n",
       "\n",
       "         16        17        18   19  \n",
       "0  0.000000  0.000000  0.000000  0.0  \n",
       "1  0.000000  0.126492  0.428577  0.0  \n",
       "2  0.000000  0.000000  0.000000  0.0  \n",
       "3  0.336475  0.000000  0.000000  0.0  \n",
       "4  0.000000  0.000000  0.238486  0.0  "
      ]
     },
     "execution_count": 168,
     "metadata": {},
     "output_type": "execute_result"
    }
   ],
   "source": [
    "# .from_records Creates a DataFrame object from a structured ndarray, sequence of tuples or dicts, or DataFrame\n",
    "# Keys are the column labels\n",
    "topics = pd.DataFrame.from_records(new_distro)\n",
    "topics.head()"
   ]
  },
  {
   "cell_type": "code",
   "execution_count": 169,
   "metadata": {
    "id": "bcEusf0hCOyk",
    "outputId": "1b74bc30-53dd-4701-e49f-3a4901092447"
   },
   "outputs": [
    {
     "name": "stdout",
     "output_type": "stream",
     "text": [
      "(40436, 20)\n"
     ]
    },
    {
     "name": "stderr",
     "output_type": "stream",
     "text": [
      "/Users/shahnam/opt/anaconda3/envs/ML_NLP/lib/python3.7/site-packages/ipykernel/ipkernel.py:283: DeprecationWarning: `should_run_async` will not call `transform_cell` automatically in the future. Please pass the result to `transformed_cell` argument and any exception that happen during thetransform in `preprocessing_exc_tuple` in IPython 7.17 and above.\n",
      "  and should_run_async(code)\n"
     ]
    },
    {
     "data": {
      "text/html": [
       "<div>\n",
       "<style scoped>\n",
       "    .dataframe tbody tr th:only-of-type {\n",
       "        vertical-align: middle;\n",
       "    }\n",
       "\n",
       "    .dataframe tbody tr th {\n",
       "        vertical-align: top;\n",
       "    }\n",
       "\n",
       "    .dataframe thead th {\n",
       "        text-align: right;\n",
       "    }\n",
       "</style>\n",
       "<table border=\"1\" class=\"dataframe\">\n",
       "  <thead>\n",
       "    <tr style=\"text-align: right;\">\n",
       "      <th></th>\n",
       "      <th>\"acting\", \"time\", \"people\", \"plot\", \"actors\"</th>\n",
       "      <th>\"book\", \"story\", \"novel\", \"characters\", \"actors\"</th>\n",
       "      <th>\"story\", \"movies\", \"characters\", \"actors\", \"australian\"</th>\n",
       "      <th>\"oscar\", \"screen\", \"man\", \"hollywood\", \"time\"</th>\n",
       "      <th>\"night\", \"time\", \"guy\", \"house\", \"people\"</th>\n",
       "      <th>\"family\", \"mother\", \"father\", \"life\", \"son\"</th>\n",
       "      <th>\"dvd\", \"time\", \"way\", \"people\", \"copy\"</th>\n",
       "      <th>\"people\", \"time\", \"story\", \"fact\", \"things\"</th>\n",
       "      <th>\"action\", \"time\", \"plot\", \"cast\", \"director\"</th>\n",
       "      <th>\"people\", \"episode\", \"series\", \"episodes\", \"characters\"</th>\n",
       "      <th>\"time\", \"man\", \"thing\", \"way\", \"point\"</th>\n",
       "      <th>\"murder\", \"police\", \"crime\", \"man\", \"way\"</th>\n",
       "      <th>\"time\", \"people\", \"lot\", \"fun\", \"course\"</th>\n",
       "      <th>\"american\", \"war\", \"german\", \"time\", \"people\"</th>\n",
       "      <th>\"movies\", \"hollywood\", \"time\", \"edge\", \"seat\"</th>\n",
       "      <th>\"story\", \"characters\", \"people\", \"end\", \"time\"</th>\n",
       "      <th>\"horror\", \"gore\", \"blood\", \"acting\", \"story\"</th>\n",
       "      <th>\"kids\", \"disney\", \"children\", \"animation\", \"story\"</th>\n",
       "      <th>\"life\", \"story\", \"love\", \"characters\", \"time\"</th>\n",
       "      <th>\"time\", \"music\", \"story\", \"role\", \"love\"</th>\n",
       "    </tr>\n",
       "  </thead>\n",
       "  <tbody>\n",
       "    <tr>\n",
       "      <th>0</th>\n",
       "      <td>0.000000</td>\n",
       "      <td>0.000000</td>\n",
       "      <td>0.0</td>\n",
       "      <td>0.000000</td>\n",
       "      <td>0.000000</td>\n",
       "      <td>0.000000</td>\n",
       "      <td>0.000000</td>\n",
       "      <td>0.0</td>\n",
       "      <td>0.000000</td>\n",
       "      <td>0.540917</td>\n",
       "      <td>0.145062</td>\n",
       "      <td>0.290391</td>\n",
       "      <td>0.0</td>\n",
       "      <td>0.000000</td>\n",
       "      <td>0.0</td>\n",
       "      <td>0.00000</td>\n",
       "      <td>0.000000</td>\n",
       "      <td>0.000000</td>\n",
       "      <td>0.000000</td>\n",
       "      <td>0.0</td>\n",
       "    </tr>\n",
       "    <tr>\n",
       "      <th>1</th>\n",
       "      <td>0.000000</td>\n",
       "      <td>0.103101</td>\n",
       "      <td>0.0</td>\n",
       "      <td>0.299703</td>\n",
       "      <td>0.000000</td>\n",
       "      <td>0.000000</td>\n",
       "      <td>0.000000</td>\n",
       "      <td>0.0</td>\n",
       "      <td>0.000000</td>\n",
       "      <td>0.000000</td>\n",
       "      <td>0.000000</td>\n",
       "      <td>0.000000</td>\n",
       "      <td>0.0</td>\n",
       "      <td>0.000000</td>\n",
       "      <td>0.0</td>\n",
       "      <td>0.00000</td>\n",
       "      <td>0.000000</td>\n",
       "      <td>0.126492</td>\n",
       "      <td>0.428577</td>\n",
       "      <td>0.0</td>\n",
       "    </tr>\n",
       "    <tr>\n",
       "      <th>2</th>\n",
       "      <td>0.000000</td>\n",
       "      <td>0.253354</td>\n",
       "      <td>0.0</td>\n",
       "      <td>0.000000</td>\n",
       "      <td>0.197987</td>\n",
       "      <td>0.000000</td>\n",
       "      <td>0.000000</td>\n",
       "      <td>0.0</td>\n",
       "      <td>0.383772</td>\n",
       "      <td>0.000000</td>\n",
       "      <td>0.000000</td>\n",
       "      <td>0.000000</td>\n",
       "      <td>0.0</td>\n",
       "      <td>0.117812</td>\n",
       "      <td>0.0</td>\n",
       "      <td>0.00000</td>\n",
       "      <td>0.000000</td>\n",
       "      <td>0.000000</td>\n",
       "      <td>0.000000</td>\n",
       "      <td>0.0</td>\n",
       "    </tr>\n",
       "    <tr>\n",
       "      <th>3</th>\n",
       "      <td>0.000000</td>\n",
       "      <td>0.000000</td>\n",
       "      <td>0.0</td>\n",
       "      <td>0.000000</td>\n",
       "      <td>0.000000</td>\n",
       "      <td>0.594243</td>\n",
       "      <td>0.000000</td>\n",
       "      <td>0.0</td>\n",
       "      <td>0.000000</td>\n",
       "      <td>0.000000</td>\n",
       "      <td>0.000000</td>\n",
       "      <td>0.000000</td>\n",
       "      <td>0.0</td>\n",
       "      <td>0.000000</td>\n",
       "      <td>0.0</td>\n",
       "      <td>0.00000</td>\n",
       "      <td>0.336475</td>\n",
       "      <td>0.000000</td>\n",
       "      <td>0.000000</td>\n",
       "      <td>0.0</td>\n",
       "    </tr>\n",
       "    <tr>\n",
       "      <th>4</th>\n",
       "      <td>0.109998</td>\n",
       "      <td>0.000000</td>\n",
       "      <td>0.0</td>\n",
       "      <td>0.000000</td>\n",
       "      <td>0.000000</td>\n",
       "      <td>0.000000</td>\n",
       "      <td>0.088767</td>\n",
       "      <td>0.0</td>\n",
       "      <td>0.197666</td>\n",
       "      <td>0.000000</td>\n",
       "      <td>0.000000</td>\n",
       "      <td>0.000000</td>\n",
       "      <td>0.0</td>\n",
       "      <td>0.000000</td>\n",
       "      <td>0.0</td>\n",
       "      <td>0.34007</td>\n",
       "      <td>0.000000</td>\n",
       "      <td>0.000000</td>\n",
       "      <td>0.238486</td>\n",
       "      <td>0.0</td>\n",
       "    </tr>\n",
       "  </tbody>\n",
       "</table>\n",
       "</div>"
      ],
      "text/plain": [
       "   \"acting\", \"time\", \"people\", \"plot\", \"actors\"  \\\n",
       "0                                      0.000000   \n",
       "1                                      0.000000   \n",
       "2                                      0.000000   \n",
       "3                                      0.000000   \n",
       "4                                      0.109998   \n",
       "\n",
       "   \"book\", \"story\", \"novel\", \"characters\", \"actors\"  \\\n",
       "0                                          0.000000   \n",
       "1                                          0.103101   \n",
       "2                                          0.253354   \n",
       "3                                          0.000000   \n",
       "4                                          0.000000   \n",
       "\n",
       "   \"story\", \"movies\", \"characters\", \"actors\", \"australian\"  \\\n",
       "0                                                      0.0   \n",
       "1                                                      0.0   \n",
       "2                                                      0.0   \n",
       "3                                                      0.0   \n",
       "4                                                      0.0   \n",
       "\n",
       "   \"oscar\", \"screen\", \"man\", \"hollywood\", \"time\"  \\\n",
       "0                                       0.000000   \n",
       "1                                       0.299703   \n",
       "2                                       0.000000   \n",
       "3                                       0.000000   \n",
       "4                                       0.000000   \n",
       "\n",
       "   \"night\", \"time\", \"guy\", \"house\", \"people\"  \\\n",
       "0                                   0.000000   \n",
       "1                                   0.000000   \n",
       "2                                   0.197987   \n",
       "3                                   0.000000   \n",
       "4                                   0.000000   \n",
       "\n",
       "   \"family\", \"mother\", \"father\", \"life\", \"son\"  \\\n",
       "0                                     0.000000   \n",
       "1                                     0.000000   \n",
       "2                                     0.000000   \n",
       "3                                     0.594243   \n",
       "4                                     0.000000   \n",
       "\n",
       "   \"dvd\", \"time\", \"way\", \"people\", \"copy\"  \\\n",
       "0                                0.000000   \n",
       "1                                0.000000   \n",
       "2                                0.000000   \n",
       "3                                0.000000   \n",
       "4                                0.088767   \n",
       "\n",
       "   \"people\", \"time\", \"story\", \"fact\", \"things\"  \\\n",
       "0                                          0.0   \n",
       "1                                          0.0   \n",
       "2                                          0.0   \n",
       "3                                          0.0   \n",
       "4                                          0.0   \n",
       "\n",
       "   \"action\", \"time\", \"plot\", \"cast\", \"director\"  \\\n",
       "0                                      0.000000   \n",
       "1                                      0.000000   \n",
       "2                                      0.383772   \n",
       "3                                      0.000000   \n",
       "4                                      0.197666   \n",
       "\n",
       "   \"people\", \"episode\", \"series\", \"episodes\", \"characters\"  \\\n",
       "0                                                 0.540917   \n",
       "1                                                 0.000000   \n",
       "2                                                 0.000000   \n",
       "3                                                 0.000000   \n",
       "4                                                 0.000000   \n",
       "\n",
       "   \"time\", \"man\", \"thing\", \"way\", \"point\"  \\\n",
       "0                                0.145062   \n",
       "1                                0.000000   \n",
       "2                                0.000000   \n",
       "3                                0.000000   \n",
       "4                                0.000000   \n",
       "\n",
       "   \"murder\", \"police\", \"crime\", \"man\", \"way\"  \\\n",
       "0                                   0.290391   \n",
       "1                                   0.000000   \n",
       "2                                   0.000000   \n",
       "3                                   0.000000   \n",
       "4                                   0.000000   \n",
       "\n",
       "   \"time\", \"people\", \"lot\", \"fun\", \"course\"  \\\n",
       "0                                       0.0   \n",
       "1                                       0.0   \n",
       "2                                       0.0   \n",
       "3                                       0.0   \n",
       "4                                       0.0   \n",
       "\n",
       "   \"american\", \"war\", \"german\", \"time\", \"people\"  \\\n",
       "0                                       0.000000   \n",
       "1                                       0.000000   \n",
       "2                                       0.117812   \n",
       "3                                       0.000000   \n",
       "4                                       0.000000   \n",
       "\n",
       "   \"movies\", \"hollywood\", \"time\", \"edge\", \"seat\"  \\\n",
       "0                                            0.0   \n",
       "1                                            0.0   \n",
       "2                                            0.0   \n",
       "3                                            0.0   \n",
       "4                                            0.0   \n",
       "\n",
       "   \"story\", \"characters\", \"people\", \"end\", \"time\"  \\\n",
       "0                                         0.00000   \n",
       "1                                         0.00000   \n",
       "2                                         0.00000   \n",
       "3                                         0.00000   \n",
       "4                                         0.34007   \n",
       "\n",
       "   \"horror\", \"gore\", \"blood\", \"acting\", \"story\"  \\\n",
       "0                                      0.000000   \n",
       "1                                      0.000000   \n",
       "2                                      0.000000   \n",
       "3                                      0.336475   \n",
       "4                                      0.000000   \n",
       "\n",
       "   \"kids\", \"disney\", \"children\", \"animation\", \"story\"  \\\n",
       "0                                            0.000000   \n",
       "1                                            0.126492   \n",
       "2                                            0.000000   \n",
       "3                                            0.000000   \n",
       "4                                            0.000000   \n",
       "\n",
       "   \"life\", \"story\", \"love\", \"characters\", \"time\"  \\\n",
       "0                                       0.000000   \n",
       "1                                       0.428577   \n",
       "2                                       0.000000   \n",
       "3                                       0.000000   \n",
       "4                                       0.238486   \n",
       "\n",
       "   \"time\", \"music\", \"story\", \"role\", \"love\"  \n",
       "0                                       0.0  \n",
       "1                                       0.0  \n",
       "2                                       0.0  \n",
       "3                                       0.0  \n",
       "4                                       0.0  "
      ]
     },
     "execution_count": 169,
     "metadata": {},
     "output_type": "execute_result"
    }
   ],
   "source": [
    "topics.columns = topic_labels\n",
    "print(topics.shape)\n",
    "topics.head()"
   ]
  },
  {
   "cell_type": "code",
   "execution_count": 170,
   "metadata": {
    "id": "mfZktGbeCOyl",
    "outputId": "34bb292e-da62-4916-fa1e-d45e257f70ce"
   },
   "outputs": [
    {
     "name": "stderr",
     "output_type": "stream",
     "text": [
      "/Users/shahnam/opt/anaconda3/envs/ML_NLP/lib/python3.7/site-packages/ipykernel/ipkernel.py:283: DeprecationWarning: `should_run_async` will not call `transform_cell` automatically in the future. Please pass the result to `transformed_cell` argument and any exception that happen during thetransform in `preprocessing_exc_tuple` in IPython 7.17 and above.\n",
      "  and should_run_async(code)\n"
     ]
    }
   ],
   "source": [
    "# find the index on axis=1 where the value in the row is max\n",
    "df['primary_topic'] = topics.idxmax(axis=1)"
   ]
  },
  {
   "cell_type": "code",
   "execution_count": 171,
   "metadata": {
    "id": "GaqCovN5COym",
    "outputId": "c36b1b1d-1a37-477e-c3ee-2aaaabe37c23"
   },
   "outputs": [
    {
     "name": "stderr",
     "output_type": "stream",
     "text": [
      "/Users/shahnam/opt/anaconda3/envs/ML_NLP/lib/python3.7/site-packages/ipykernel/ipkernel.py:283: DeprecationWarning: `should_run_async` will not call `transform_cell` automatically in the future. Please pass the result to `transformed_cell` argument and any exception that happen during thetransform in `preprocessing_exc_tuple` in IPython 7.17 and above.\n",
      "  and should_run_async(code)\n"
     ]
    },
    {
     "data": {
      "text/html": [
       "<div>\n",
       "<style scoped>\n",
       "    .dataframe tbody tr th:only-of-type {\n",
       "        vertical-align: middle;\n",
       "    }\n",
       "\n",
       "    .dataframe tbody tr th {\n",
       "        vertical-align: top;\n",
       "    }\n",
       "\n",
       "    .dataframe thead th {\n",
       "        text-align: right;\n",
       "    }\n",
       "</style>\n",
       "<table border=\"1\" class=\"dataframe\">\n",
       "  <thead>\n",
       "    <tr style=\"text-align: right;\">\n",
       "      <th></th>\n",
       "      <th>review</th>\n",
       "      <th>sentiment</th>\n",
       "      <th>keywords</th>\n",
       "      <th>clean_keywords</th>\n",
       "      <th>primary_topic</th>\n",
       "    </tr>\n",
       "  </thead>\n",
       "  <tbody>\n",
       "    <tr>\n",
       "      <th>0</th>\n",
       "      <td>One of the other reviewers has mentioned that after watching just 1 Oz episode you'll be hooked....</td>\n",
       "      <td>positive</td>\n",
       "      <td>[other shows, graphic violence, prison experience, prison bitches, violence, emerald city, dodgy...</td>\n",
       "      <td>[shows, graphic violence, prison experience, prison bitches, violence, emerald city, dodgy deali...</td>\n",
       "      <td>\"people\", \"episode\", \"series\", \"episodes\", \"characters\"</td>\n",
       "    </tr>\n",
       "    <tr>\n",
       "      <th>1</th>\n",
       "      <td>A wonderful little production. The filming technique is very unassuming- very old-time-BBC fashi...</td>\n",
       "      <td>positive</td>\n",
       "      <td>[halliwell, michael sheen, realism, comedy, williams, piece, bbc, orton, a wonderful little prod...</td>\n",
       "      <td>[halliwell, michael sheen, realism, comedy, williams, piece, bbc, orton, wonderful little produc...</td>\n",
       "      <td>\"life\", \"story\", \"love\", \"characters\", \"time\"</td>\n",
       "    </tr>\n",
       "    <tr>\n",
       "      <th>2</th>\n",
       "      <td>I thought this was a wonderful way to spend time on a too hot summer weekend, sitting in the air...</td>\n",
       "      <td>positive</td>\n",
       "      <td>[spirited young woman, devil wears prada, summer weekend, match point, scarlet johanson, woody a...</td>\n",
       "      <td>[spirited young woman, devil wears prada, summer weekend, match point, scarlet johanson, woody a...</td>\n",
       "      <td>\"action\", \"time\", \"plot\", \"cast\", \"director\"</td>\n",
       "    </tr>\n",
       "    <tr>\n",
       "      <th>3</th>\n",
       "      <td>Basically there's a family where a little boy (Jake) thinks there's a zombie in his closet &amp; his...</td>\n",
       "      <td>negative</td>\n",
       "      <td>[playing parents, jake, parents, descent dialogs, real life, a boogeyman similar movie, rambo, s...</td>\n",
       "      <td>[playing parents, jake, parents, descent dialogs, real life, boogeyman similar, rambo, meaningle...</td>\n",
       "      <td>\"family\", \"mother\", \"father\", \"life\", \"son\"</td>\n",
       "    </tr>\n",
       "    <tr>\n",
       "      <th>4</th>\n",
       "      <td>Petter Mattei's \"Love in the Time of Money\" is a visually stunning film to watch. Mr. Mattei off...</td>\n",
       "      <td>positive</td>\n",
       "      <td>[mr. mattei, good luck, mattei, human relations, people, rosario dawson, michael imperioli, caro...</td>\n",
       "      <td>[mr. mattei, good luck, mattei, human relations, people, rosario dawson, michael imperioli, caro...</td>\n",
       "      <td>\"story\", \"characters\", \"people\", \"end\", \"time\"</td>\n",
       "    </tr>\n",
       "  </tbody>\n",
       "</table>\n",
       "</div>"
      ],
      "text/plain": [
       "                                                                                                review  \\\n",
       "0  One of the other reviewers has mentioned that after watching just 1 Oz episode you'll be hooked....   \n",
       "1  A wonderful little production. The filming technique is very unassuming- very old-time-BBC fashi...   \n",
       "2  I thought this was a wonderful way to spend time on a too hot summer weekend, sitting in the air...   \n",
       "3  Basically there's a family where a little boy (Jake) thinks there's a zombie in his closet & his...   \n",
       "4  Petter Mattei's \"Love in the Time of Money\" is a visually stunning film to watch. Mr. Mattei off...   \n",
       "\n",
       "  sentiment  \\\n",
       "0  positive   \n",
       "1  positive   \n",
       "2  positive   \n",
       "3  negative   \n",
       "4  positive   \n",
       "\n",
       "                                                                                              keywords  \\\n",
       "0  [other shows, graphic violence, prison experience, prison bitches, violence, emerald city, dodgy...   \n",
       "1  [halliwell, michael sheen, realism, comedy, williams, piece, bbc, orton, a wonderful little prod...   \n",
       "2  [spirited young woman, devil wears prada, summer weekend, match point, scarlet johanson, woody a...   \n",
       "3  [playing parents, jake, parents, descent dialogs, real life, a boogeyman similar movie, rambo, s...   \n",
       "4  [mr. mattei, good luck, mattei, human relations, people, rosario dawson, michael imperioli, caro...   \n",
       "\n",
       "                                                                                        clean_keywords  \\\n",
       "0  [shows, graphic violence, prison experience, prison bitches, violence, emerald city, dodgy deali...   \n",
       "1  [halliwell, michael sheen, realism, comedy, williams, piece, bbc, orton, wonderful little produc...   \n",
       "2  [spirited young woman, devil wears prada, summer weekend, match point, scarlet johanson, woody a...   \n",
       "3  [playing parents, jake, parents, descent dialogs, real life, boogeyman similar, rambo, meaningle...   \n",
       "4  [mr. mattei, good luck, mattei, human relations, people, rosario dawson, michael imperioli, caro...   \n",
       "\n",
       "                                             primary_topic  \n",
       "0  \"people\", \"episode\", \"series\", \"episodes\", \"characters\"  \n",
       "1            \"life\", \"story\", \"love\", \"characters\", \"time\"  \n",
       "2             \"action\", \"time\", \"plot\", \"cast\", \"director\"  \n",
       "3              \"family\", \"mother\", \"father\", \"life\", \"son\"  \n",
       "4           \"story\", \"characters\", \"people\", \"end\", \"time\"  "
      ]
     },
     "execution_count": 171,
     "metadata": {},
     "output_type": "execute_result"
    }
   ],
   "source": [
    "df.head()"
   ]
  },
  {
   "cell_type": "code",
   "execution_count": 172,
   "metadata": {
    "id": "ZHE27cwpCOyp",
    "outputId": "fe479870-f45d-4a8e-bfbe-3761339703a8"
   },
   "outputs": [
    {
     "name": "stderr",
     "output_type": "stream",
     "text": [
      "/Users/shahnam/opt/anaconda3/envs/ML_NLP/lib/python3.7/site-packages/ipykernel/ipkernel.py:283: DeprecationWarning: `should_run_async` will not call `transform_cell` automatically in the future. Please pass the result to `transformed_cell` argument and any exception that happen during thetransform in `preprocessing_exc_tuple` in IPython 7.17 and above.\n",
      "  and should_run_async(code)\n"
     ]
    },
    {
     "data": {
      "text/plain": [
       "\"acting\", \"time\", \"people\", \"plot\", \"actors\"               6520\n",
       "\"life\", \"story\", \"love\", \"characters\", \"time\"              3633\n",
       "\"people\", \"episode\", \"series\", \"episodes\", \"characters\"    2642\n",
       "\"people\", \"time\", \"story\", \"fact\", \"things\"                2501\n",
       "\"horror\", \"gore\", \"blood\", \"acting\", \"story\"               2261\n",
       "\"family\", \"mother\", \"father\", \"life\", \"son\"                2182\n",
       "\"time\", \"music\", \"story\", \"role\", \"love\"                   1970\n",
       "\"american\", \"war\", \"german\", \"time\", \"people\"              1929\n",
       "\"action\", \"time\", \"plot\", \"cast\", \"director\"               1784\n",
       "\"night\", \"time\", \"guy\", \"house\", \"people\"                  1731\n",
       "\"story\", \"characters\", \"people\", \"end\", \"time\"             1645\n",
       "\"dvd\", \"time\", \"way\", \"people\", \"copy\"                     1633\n",
       "\"murder\", \"police\", \"crime\", \"man\", \"way\"                  1560\n",
       "\"time\", \"people\", \"lot\", \"fun\", \"course\"                   1516\n",
       "\"story\", \"movies\", \"characters\", \"actors\", \"australian\"    1505\n",
       "\"kids\", \"disney\", \"children\", \"animation\", \"story\"         1341\n",
       "\"book\", \"story\", \"novel\", \"characters\", \"actors\"           1256\n",
       "\"oscar\", \"screen\", \"man\", \"hollywood\", \"time\"              1139\n",
       "\"time\", \"man\", \"thing\", \"way\", \"point\"                      963\n",
       "\"movies\", \"hollywood\", \"time\", \"edge\", \"seat\"               725\n",
       "Name: primary_topic, dtype: int64"
      ]
     },
     "execution_count": 172,
     "metadata": {},
     "output_type": "execute_result"
    }
   ],
   "source": [
    "df['primary_topic'].value_counts()"
   ]
  },
  {
   "cell_type": "code",
   "execution_count": 180,
   "metadata": {
    "id": "IluAdSChCOyt",
    "outputId": "e082f7f9-a315-4eb5-c982-40ff32fba1ad"
   },
   "outputs": [
    {
     "name": "stderr",
     "output_type": "stream",
     "text": [
      "/Users/shahnam/opt/anaconda3/envs/ML_NLP/lib/python3.7/site-packages/ipykernel/ipkernel.py:283: DeprecationWarning: `should_run_async` will not call `transform_cell` automatically in the future. Please pass the result to `transformed_cell` argument and any exception that happen during thetransform in `preprocessing_exc_tuple` in IPython 7.17 and above.\n",
      "  and should_run_async(code)\n"
     ]
    }
   ],
   "source": [
    "# Count number of reviews for each primary_topic that are labeled negative and positive\n",
    "# ['review'] could change to other available column labels too without changing the results\n",
    "agg = pd.pivot_table(data=df, values=['review'], \n",
    "                     index=['primary_topic'], \n",
    "                     columns=['sentiment'], aggfunc='count')"
   ]
  },
  {
   "cell_type": "code",
   "execution_count": 181,
   "metadata": {
    "id": "G15fplzRCOyv",
    "outputId": "944a39fa-c4c8-461c-ff89-54e431330f38"
   },
   "outputs": [
    {
     "name": "stderr",
     "output_type": "stream",
     "text": [
      "/Users/shahnam/opt/anaconda3/envs/ML_NLP/lib/python3.7/site-packages/ipykernel/ipkernel.py:283: DeprecationWarning: `should_run_async` will not call `transform_cell` automatically in the future. Please pass the result to `transformed_cell` argument and any exception that happen during thetransform in `preprocessing_exc_tuple` in IPython 7.17 and above.\n",
      "  and should_run_async(code)\n"
     ]
    },
    {
     "data": {
      "text/html": [
       "<div>\n",
       "<style scoped>\n",
       "    .dataframe tbody tr th:only-of-type {\n",
       "        vertical-align: middle;\n",
       "    }\n",
       "\n",
       "    .dataframe tbody tr th {\n",
       "        vertical-align: top;\n",
       "    }\n",
       "\n",
       "    .dataframe thead tr th {\n",
       "        text-align: left;\n",
       "    }\n",
       "\n",
       "    .dataframe thead tr:last-of-type th {\n",
       "        text-align: right;\n",
       "    }\n",
       "</style>\n",
       "<table border=\"1\" class=\"dataframe\">\n",
       "  <thead>\n",
       "    <tr>\n",
       "      <th></th>\n",
       "      <th colspan=\"2\" halign=\"left\">review</th>\n",
       "    </tr>\n",
       "    <tr>\n",
       "      <th>sentiment</th>\n",
       "      <th>negative</th>\n",
       "      <th>positive</th>\n",
       "    </tr>\n",
       "    <tr>\n",
       "      <th>primary_topic</th>\n",
       "      <th></th>\n",
       "      <th></th>\n",
       "    </tr>\n",
       "  </thead>\n",
       "  <tbody>\n",
       "    <tr>\n",
       "      <th>\"acting\", \"time\", \"people\", \"plot\", \"actors\"</th>\n",
       "      <td>5413</td>\n",
       "      <td>1107</td>\n",
       "    </tr>\n",
       "    <tr>\n",
       "      <th>\"action\", \"time\", \"plot\", \"cast\", \"director\"</th>\n",
       "      <td>970</td>\n",
       "      <td>814</td>\n",
       "    </tr>\n",
       "    <tr>\n",
       "      <th>\"american\", \"war\", \"german\", \"time\", \"people\"</th>\n",
       "      <td>691</td>\n",
       "      <td>1238</td>\n",
       "    </tr>\n",
       "    <tr>\n",
       "      <th>\"book\", \"story\", \"novel\", \"characters\", \"actors\"</th>\n",
       "      <td>536</td>\n",
       "      <td>720</td>\n",
       "    </tr>\n",
       "    <tr>\n",
       "      <th>\"dvd\", \"time\", \"way\", \"people\", \"copy\"</th>\n",
       "      <td>751</td>\n",
       "      <td>882</td>\n",
       "    </tr>\n",
       "    <tr>\n",
       "      <th>\"family\", \"mother\", \"father\", \"life\", \"son\"</th>\n",
       "      <td>892</td>\n",
       "      <td>1290</td>\n",
       "    </tr>\n",
       "    <tr>\n",
       "      <th>\"horror\", \"gore\", \"blood\", \"acting\", \"story\"</th>\n",
       "      <td>1310</td>\n",
       "      <td>951</td>\n",
       "    </tr>\n",
       "    <tr>\n",
       "      <th>\"kids\", \"disney\", \"children\", \"animation\", \"story\"</th>\n",
       "      <td>515</td>\n",
       "      <td>826</td>\n",
       "    </tr>\n",
       "    <tr>\n",
       "      <th>\"life\", \"story\", \"love\", \"characters\", \"time\"</th>\n",
       "      <td>1069</td>\n",
       "      <td>2564</td>\n",
       "    </tr>\n",
       "    <tr>\n",
       "      <th>\"movies\", \"hollywood\", \"time\", \"edge\", \"seat\"</th>\n",
       "      <td>335</td>\n",
       "      <td>390</td>\n",
       "    </tr>\n",
       "    <tr>\n",
       "      <th>\"murder\", \"police\", \"crime\", \"man\", \"way\"</th>\n",
       "      <td>720</td>\n",
       "      <td>840</td>\n",
       "    </tr>\n",
       "    <tr>\n",
       "      <th>\"night\", \"time\", \"guy\", \"house\", \"people\"</th>\n",
       "      <td>1153</td>\n",
       "      <td>578</td>\n",
       "    </tr>\n",
       "    <tr>\n",
       "      <th>\"oscar\", \"screen\", \"man\", \"hollywood\", \"time\"</th>\n",
       "      <td>368</td>\n",
       "      <td>771</td>\n",
       "    </tr>\n",
       "    <tr>\n",
       "      <th>\"people\", \"episode\", \"series\", \"episodes\", \"characters\"</th>\n",
       "      <td>1250</td>\n",
       "      <td>1392</td>\n",
       "    </tr>\n",
       "    <tr>\n",
       "      <th>\"people\", \"time\", \"story\", \"fact\", \"things\"</th>\n",
       "      <td>1380</td>\n",
       "      <td>1121</td>\n",
       "    </tr>\n",
       "    <tr>\n",
       "      <th>\"story\", \"characters\", \"people\", \"end\", \"time\"</th>\n",
       "      <td>551</td>\n",
       "      <td>1094</td>\n",
       "    </tr>\n",
       "    <tr>\n",
       "      <th>\"story\", \"movies\", \"characters\", \"actors\", \"australian\"</th>\n",
       "      <td>437</td>\n",
       "      <td>1068</td>\n",
       "    </tr>\n",
       "    <tr>\n",
       "      <th>\"time\", \"man\", \"thing\", \"way\", \"point\"</th>\n",
       "      <td>485</td>\n",
       "      <td>478</td>\n",
       "    </tr>\n",
       "    <tr>\n",
       "      <th>\"time\", \"music\", \"story\", \"role\", \"love\"</th>\n",
       "      <td>468</td>\n",
       "      <td>1502</td>\n",
       "    </tr>\n",
       "    <tr>\n",
       "      <th>\"time\", \"people\", \"lot\", \"fun\", \"course\"</th>\n",
       "      <td>920</td>\n",
       "      <td>596</td>\n",
       "    </tr>\n",
       "  </tbody>\n",
       "</table>\n",
       "</div>"
      ],
      "text/plain": [
       "                                                          review         \n",
       "sentiment                                               negative positive\n",
       "primary_topic                                                            \n",
       "\"acting\", \"time\", \"people\", \"plot\", \"actors\"                5413     1107\n",
       "\"action\", \"time\", \"plot\", \"cast\", \"director\"                 970      814\n",
       "\"american\", \"war\", \"german\", \"time\", \"people\"                691     1238\n",
       "\"book\", \"story\", \"novel\", \"characters\", \"actors\"             536      720\n",
       "\"dvd\", \"time\", \"way\", \"people\", \"copy\"                       751      882\n",
       "\"family\", \"mother\", \"father\", \"life\", \"son\"                  892     1290\n",
       "\"horror\", \"gore\", \"blood\", \"acting\", \"story\"                1310      951\n",
       "\"kids\", \"disney\", \"children\", \"animation\", \"story\"           515      826\n",
       "\"life\", \"story\", \"love\", \"characters\", \"time\"               1069     2564\n",
       "\"movies\", \"hollywood\", \"time\", \"edge\", \"seat\"                335      390\n",
       "\"murder\", \"police\", \"crime\", \"man\", \"way\"                    720      840\n",
       "\"night\", \"time\", \"guy\", \"house\", \"people\"                   1153      578\n",
       "\"oscar\", \"screen\", \"man\", \"hollywood\", \"time\"                368      771\n",
       "\"people\", \"episode\", \"series\", \"episodes\", \"characters\"     1250     1392\n",
       "\"people\", \"time\", \"story\", \"fact\", \"things\"                 1380     1121\n",
       "\"story\", \"characters\", \"people\", \"end\", \"time\"               551     1094\n",
       "\"story\", \"movies\", \"characters\", \"actors\", \"australian\"      437     1068\n",
       "\"time\", \"man\", \"thing\", \"way\", \"point\"                       485      478\n",
       "\"time\", \"music\", \"story\", \"role\", \"love\"                     468     1502\n",
       "\"time\", \"people\", \"lot\", \"fun\", \"course\"                     920      596"
      ]
     },
     "execution_count": 181,
     "metadata": {},
     "output_type": "execute_result"
    }
   ],
   "source": [
    "agg"
   ]
  },
  {
   "cell_type": "code",
   "execution_count": 182,
   "metadata": {},
   "outputs": [
    {
     "name": "stderr",
     "output_type": "stream",
     "text": [
      "/Users/shahnam/opt/anaconda3/envs/ML_NLP/lib/python3.7/site-packages/ipykernel/ipkernel.py:283: DeprecationWarning: `should_run_async` will not call `transform_cell` automatically in the future. Please pass the result to `transformed_cell` argument and any exception that happen during thetransform in `preprocessing_exc_tuple` in IPython 7.17 and above.\n",
      "  and should_run_async(code)\n"
     ]
    },
    {
     "data": {
      "text/plain": [
       "(MultiIndex([('review', 'negative'),\n",
       "             ('review', 'positive')],\n",
       "            names=[None, 'sentiment']),\n",
       " Index(['\"acting\", \"time\", \"people\", \"plot\", \"actors\"',\n",
       "        '\"action\", \"time\", \"plot\", \"cast\", \"director\"',\n",
       "        '\"american\", \"war\", \"german\", \"time\", \"people\"',\n",
       "        '\"book\", \"story\", \"novel\", \"characters\", \"actors\"',\n",
       "        '\"dvd\", \"time\", \"way\", \"people\", \"copy\"',\n",
       "        '\"family\", \"mother\", \"father\", \"life\", \"son\"',\n",
       "        '\"horror\", \"gore\", \"blood\", \"acting\", \"story\"',\n",
       "        '\"kids\", \"disney\", \"children\", \"animation\", \"story\"',\n",
       "        '\"life\", \"story\", \"love\", \"characters\", \"time\"',\n",
       "        '\"movies\", \"hollywood\", \"time\", \"edge\", \"seat\"',\n",
       "        '\"murder\", \"police\", \"crime\", \"man\", \"way\"',\n",
       "        '\"night\", \"time\", \"guy\", \"house\", \"people\"',\n",
       "        '\"oscar\", \"screen\", \"man\", \"hollywood\", \"time\"',\n",
       "        '\"people\", \"episode\", \"series\", \"episodes\", \"characters\"',\n",
       "        '\"people\", \"time\", \"story\", \"fact\", \"things\"',\n",
       "        '\"story\", \"characters\", \"people\", \"end\", \"time\"',\n",
       "        '\"story\", \"movies\", \"characters\", \"actors\", \"australian\"',\n",
       "        '\"time\", \"man\", \"thing\", \"way\", \"point\"',\n",
       "        '\"time\", \"music\", \"story\", \"role\", \"love\"',\n",
       "        '\"time\", \"people\", \"lot\", \"fun\", \"course\"'],\n",
       "       dtype='object', name='primary_topic'))"
      ]
     },
     "execution_count": 182,
     "metadata": {},
     "output_type": "execute_result"
    }
   ],
   "source": [
    "agg.columns, agg.index"
   ]
  },
  {
   "cell_type": "code",
   "execution_count": 183,
   "metadata": {
    "id": "gkq0B2oKCOyw",
    "outputId": "cb842029-36f2-472d-ef39-711a68d6beb4"
   },
   "outputs": [
    {
     "name": "stderr",
     "output_type": "stream",
     "text": [
      "/Users/shahnam/opt/anaconda3/envs/ML_NLP/lib/python3.7/site-packages/ipykernel/ipkernel.py:283: DeprecationWarning: `should_run_async` will not call `transform_cell` automatically in the future. Please pass the result to `transformed_cell` argument and any exception that happen during thetransform in `preprocessing_exc_tuple` in IPython 7.17 and above.\n",
      "  and should_run_async(code)\n"
     ]
    }
   ],
   "source": [
    "agg = agg.reset_index()"
   ]
  },
  {
   "cell_type": "code",
   "execution_count": 185,
   "metadata": {
    "id": "jmgVXLRhCOyy",
    "outputId": "e94ef57a-a37a-41d1-ae3b-b8ec607a1a0f"
   },
   "outputs": [
    {
     "name": "stderr",
     "output_type": "stream",
     "text": [
      "/Users/shahnam/opt/anaconda3/envs/ML_NLP/lib/python3.7/site-packages/ipykernel/ipkernel.py:283: DeprecationWarning: `should_run_async` will not call `transform_cell` automatically in the future. Please pass the result to `transformed_cell` argument and any exception that happen during thetransform in `preprocessing_exc_tuple` in IPython 7.17 and above.\n",
      "  and should_run_async(code)\n"
     ]
    },
    {
     "data": {
      "text/html": [
       "<div>\n",
       "<style scoped>\n",
       "    .dataframe tbody tr th:only-of-type {\n",
       "        vertical-align: middle;\n",
       "    }\n",
       "\n",
       "    .dataframe tbody tr th {\n",
       "        vertical-align: top;\n",
       "    }\n",
       "\n",
       "    .dataframe thead tr th {\n",
       "        text-align: left;\n",
       "    }\n",
       "</style>\n",
       "<table border=\"1\" class=\"dataframe\">\n",
       "  <thead>\n",
       "    <tr>\n",
       "      <th></th>\n",
       "      <th>primary_topic</th>\n",
       "      <th colspan=\"2\" halign=\"left\">review</th>\n",
       "    </tr>\n",
       "    <tr>\n",
       "      <th>sentiment</th>\n",
       "      <th></th>\n",
       "      <th>negative</th>\n",
       "      <th>positive</th>\n",
       "    </tr>\n",
       "  </thead>\n",
       "  <tbody>\n",
       "    <tr>\n",
       "      <th>0</th>\n",
       "      <td>\"acting\", \"time\", \"people\", \"plot\", \"actors\"</td>\n",
       "      <td>5413</td>\n",
       "      <td>1107</td>\n",
       "    </tr>\n",
       "    <tr>\n",
       "      <th>1</th>\n",
       "      <td>\"action\", \"time\", \"plot\", \"cast\", \"director\"</td>\n",
       "      <td>970</td>\n",
       "      <td>814</td>\n",
       "    </tr>\n",
       "    <tr>\n",
       "      <th>2</th>\n",
       "      <td>\"american\", \"war\", \"german\", \"time\", \"people\"</td>\n",
       "      <td>691</td>\n",
       "      <td>1238</td>\n",
       "    </tr>\n",
       "    <tr>\n",
       "      <th>3</th>\n",
       "      <td>\"book\", \"story\", \"novel\", \"characters\", \"actors\"</td>\n",
       "      <td>536</td>\n",
       "      <td>720</td>\n",
       "    </tr>\n",
       "    <tr>\n",
       "      <th>4</th>\n",
       "      <td>\"dvd\", \"time\", \"way\", \"people\", \"copy\"</td>\n",
       "      <td>751</td>\n",
       "      <td>882</td>\n",
       "    </tr>\n",
       "  </tbody>\n",
       "</table>\n",
       "</div>"
      ],
      "text/plain": [
       "                                              primary_topic   review         \n",
       "sentiment                                                   negative positive\n",
       "0              \"acting\", \"time\", \"people\", \"plot\", \"actors\"     5413     1107\n",
       "1              \"action\", \"time\", \"plot\", \"cast\", \"director\"      970      814\n",
       "2             \"american\", \"war\", \"german\", \"time\", \"people\"      691     1238\n",
       "3          \"book\", \"story\", \"novel\", \"characters\", \"actors\"      536      720\n",
       "4                    \"dvd\", \"time\", \"way\", \"people\", \"copy\"      751      882"
      ]
     },
     "execution_count": 185,
     "metadata": {},
     "output_type": "execute_result"
    }
   ],
   "source": [
    "agg.head()"
   ]
  },
  {
   "cell_type": "code",
   "execution_count": 186,
   "metadata": {},
   "outputs": [
    {
     "name": "stderr",
     "output_type": "stream",
     "text": [
      "/Users/shahnam/opt/anaconda3/envs/ML_NLP/lib/python3.7/site-packages/ipykernel/ipkernel.py:283: DeprecationWarning: `should_run_async` will not call `transform_cell` automatically in the future. Please pass the result to `transformed_cell` argument and any exception that happen during thetransform in `preprocessing_exc_tuple` in IPython 7.17 and above.\n",
      "  and should_run_async(code)\n"
     ]
    },
    {
     "data": {
      "text/plain": [
       "(MultiIndex([('primary_topic',         ''),\n",
       "             (       'review', 'negative'),\n",
       "             (       'review', 'positive')],\n",
       "            names=[None, 'sentiment']),\n",
       " RangeIndex(start=0, stop=20, step=1))"
      ]
     },
     "execution_count": 186,
     "metadata": {},
     "output_type": "execute_result"
    }
   ],
   "source": [
    "agg.columns, agg.index"
   ]
  },
  {
   "cell_type": "code",
   "execution_count": 197,
   "metadata": {},
   "outputs": [
    {
     "name": "stderr",
     "output_type": "stream",
     "text": [
      "/Users/shahnam/opt/anaconda3/envs/ML_NLP/lib/python3.7/site-packages/ipykernel/ipkernel.py:283: DeprecationWarning: `should_run_async` will not call `transform_cell` automatically in the future. Please pass the result to `transformed_cell` argument and any exception that happen during thetransform in `preprocessing_exc_tuple` in IPython 7.17 and above.\n",
      "  and should_run_async(code)\n"
     ]
    },
    {
     "data": {
      "text/plain": [
       "tuple"
      ]
     },
     "execution_count": 197,
     "metadata": {},
     "output_type": "execute_result"
    }
   ],
   "source": [
    "type(agg.columns[1])"
   ]
  },
  {
   "cell_type": "code",
   "execution_count": 198,
   "metadata": {
    "id": "cODE6lx-COy0",
    "outputId": "0d6b2881-62a9-4559-c2dd-e9d981b1e45f"
   },
   "outputs": [
    {
     "name": "stderr",
     "output_type": "stream",
     "text": [
      "/Users/shahnam/opt/anaconda3/envs/ML_NLP/lib/python3.7/site-packages/ipykernel/ipkernel.py:283: DeprecationWarning: `should_run_async` will not call `transform_cell` automatically in the future. Please pass the result to `transformed_cell` argument and any exception that happen during thetransform in `preprocessing_exc_tuple` in IPython 7.17 and above.\n",
      "  and should_run_async(code)\n"
     ]
    },
    {
     "data": {
      "text/html": [
       "<div>\n",
       "<style scoped>\n",
       "    .dataframe tbody tr th:only-of-type {\n",
       "        vertical-align: middle;\n",
       "    }\n",
       "\n",
       "    .dataframe tbody tr th {\n",
       "        vertical-align: top;\n",
       "    }\n",
       "\n",
       "    .dataframe thead th {\n",
       "        text-align: right;\n",
       "    }\n",
       "</style>\n",
       "<table border=\"1\" class=\"dataframe\">\n",
       "  <thead>\n",
       "    <tr style=\"text-align: right;\">\n",
       "      <th></th>\n",
       "      <th>primary_topic</th>\n",
       "      <th>negative</th>\n",
       "      <th>positive</th>\n",
       "    </tr>\n",
       "  </thead>\n",
       "  <tbody>\n",
       "    <tr>\n",
       "      <th>0</th>\n",
       "      <td>\"acting\", \"time\", \"people\", \"plot\", \"actors\"</td>\n",
       "      <td>5413</td>\n",
       "      <td>1107</td>\n",
       "    </tr>\n",
       "    <tr>\n",
       "      <th>1</th>\n",
       "      <td>\"action\", \"time\", \"plot\", \"cast\", \"director\"</td>\n",
       "      <td>970</td>\n",
       "      <td>814</td>\n",
       "    </tr>\n",
       "  </tbody>\n",
       "</table>\n",
       "</div>"
      ],
      "text/plain": [
       "                                  primary_topic  negative  positive\n",
       "0  \"acting\", \"time\", \"people\", \"plot\", \"actors\"      5413      1107\n",
       "1  \"action\", \"time\", \"plot\", \"cast\", \"director\"       970       814"
      ]
     },
     "execution_count": 198,
     "metadata": {},
     "output_type": "execute_result"
    }
   ],
   "source": [
    "agg.columns = ['primary_topic', 'negative', 'positive']\n",
    "agg.head(2)"
   ]
  },
  {
   "cell_type": "code",
   "execution_count": 205,
   "metadata": {
    "id": "SnlqSa0eCOy1",
    "outputId": "79503147-80a9-48a4-8cc8-3b2f5df0953a"
   },
   "outputs": [
    {
     "name": "stderr",
     "output_type": "stream",
     "text": [
      "/Users/shahnam/opt/anaconda3/envs/ML_NLP/lib/python3.7/site-packages/ipykernel/ipkernel.py:283: DeprecationWarning: `should_run_async` will not call `transform_cell` automatically in the future. Please pass the result to `transformed_cell` argument and any exception that happen during thetransform in `preprocessing_exc_tuple` in IPython 7.17 and above.\n",
      "  and should_run_async(code)\n",
      "/Users/shahnam/opt/anaconda3/envs/ML_NLP/lib/python3.7/site-packages/seaborn/categorical.py:339: DeprecationWarning: `np.float` is a deprecated alias for the builtin `float`. To silence this warning, use `float` by itself. Doing this will not modify any behavior and is safe. If you specifically wanted the numpy scalar type, use `np.float64` here.\n",
      "Deprecated in NumPy 1.20; for more details and guidance: https://numpy.org/devdocs/release/1.20.0-notes.html#deprecations\n",
      "  np.asarray(s, dtype=np.float)\n",
      "/Users/shahnam/opt/anaconda3/envs/ML_NLP/lib/python3.7/site-packages/seaborn/categorical.py:339: DeprecationWarning: `np.float` is a deprecated alias for the builtin `float`. To silence this warning, use `float` by itself. Doing this will not modify any behavior and is safe. If you specifically wanted the numpy scalar type, use `np.float64` here.\n",
      "Deprecated in NumPy 1.20; for more details and guidance: https://numpy.org/devdocs/release/1.20.0-notes.html#deprecations\n",
      "  np.asarray(s, dtype=np.float)\n",
      "/Users/shahnam/opt/anaconda3/envs/ML_NLP/lib/python3.7/site-packages/seaborn/utils.py:533: DeprecationWarning: `np.float` is a deprecated alias for the builtin `float`. To silence this warning, use `float` by itself. Doing this will not modify any behavior and is safe. If you specifically wanted the numpy scalar type, use `np.float64` here.\n",
      "Deprecated in NumPy 1.20; for more details and guidance: https://numpy.org/devdocs/release/1.20.0-notes.html#deprecations\n",
      "  np.asarray(values).astype(np.float)\n",
      "/Users/shahnam/opt/anaconda3/envs/ML_NLP/lib/python3.7/site-packages/seaborn/categorical.py:339: DeprecationWarning: `np.float` is a deprecated alias for the builtin `float`. To silence this warning, use `float` by itself. Doing this will not modify any behavior and is safe. If you specifically wanted the numpy scalar type, use `np.float64` here.\n",
      "Deprecated in NumPy 1.20; for more details and guidance: https://numpy.org/devdocs/release/1.20.0-notes.html#deprecations\n",
      "  np.asarray(s, dtype=np.float)\n",
      "/Users/shahnam/opt/anaconda3/envs/ML_NLP/lib/python3.7/site-packages/seaborn/categorical.py:339: DeprecationWarning: `np.float` is a deprecated alias for the builtin `float`. To silence this warning, use `float` by itself. Doing this will not modify any behavior and is safe. If you specifically wanted the numpy scalar type, use `np.float64` here.\n",
      "Deprecated in NumPy 1.20; for more details and guidance: https://numpy.org/devdocs/release/1.20.0-notes.html#deprecations\n",
      "  np.asarray(s, dtype=np.float)\n",
      "/Users/shahnam/opt/anaconda3/envs/ML_NLP/lib/python3.7/site-packages/seaborn/utils.py:533: DeprecationWarning: `np.float` is a deprecated alias for the builtin `float`. To silence this warning, use `float` by itself. Doing this will not modify any behavior and is safe. If you specifically wanted the numpy scalar type, use `np.float64` here.\n",
      "Deprecated in NumPy 1.20; for more details and guidance: https://numpy.org/devdocs/release/1.20.0-notes.html#deprecations\n",
      "  np.asarray(values).astype(np.float)\n"
     ]
    },
    {
     "data": {
      "image/png": "[encoded data removed]",
      "text/plain": [
       "<Figure size 864x1080 with 1 Axes>"
      ]
     },
     "metadata": {},
     "output_type": "display_data"
    }
   ],
   "source": [
    "import seaborn as sns\n",
    "import matplotlib.pyplot as plt\n",
    "\n",
    "sns.set(style=\"whitegrid\")\n",
    "\n",
    "# Initialize the matplotlib figure\n",
    "f, ax = plt.subplots(figsize=(12, 15))\n",
    "\n",
    "sns.set_color_codes('pastel')\n",
    "sns.barplot(x='negative', y='primary_topic', data=agg, label=\"Negative\", color=\"r\", alpha=0.6)\n",
    "\n",
    "sns.set_color_codes('muted')\n",
    "sns.barplot(x='positive', y='primary_topic', data=agg, label=\"Positive\", color=\"g\", alpha=0.6)\n",
    "\n",
    "ax.legend(ncol=2, loc=\"lower right\", frameon=True)\n",
    "ax.set(xlim=(0,5000), ylabel=\"\", xlabel=\"Count of Reviews\")\n",
    "sns.despine(left=True, bottom=True)"
   ]
  },
  {
   "cell_type": "code",
   "execution_count": null,
   "metadata": {
    "id": "OtTRyaXgCOy3"
   },
   "outputs": [],
   "source": []
  }
 ],
 "metadata": {
  "colab": {
   "include_colab_link": true,
   "name": "LS_DS17_414_Topic_Modeling_Lecture.ipynb",
   "provenance": []
  },
  "kernelspec": {
   "display_name": "ML_NLP (Python3.7)",
   "language": "python",
   "name": "ml_nlp"
  },
  "language_info": {
   "codemirror_mode": {
    "name": "ipython",
    "version": 3
   },
   "file_extension": ".py",
   "mimetype": "text/x-python",
   "name": "python",
   "nbconvert_exporter": "python",
   "pygments_lexer": "ipython3",
   "version": "3.7.0"
  }
 },
 "nbformat": 4,
 "nbformat_minor": 4
}
