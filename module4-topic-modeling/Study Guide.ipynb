{
 "cells": [
  {
   "cell_type": "markdown",
   "metadata": {},
   "source": [
    "# Imports"
   ]
  },
  {
   "cell_type": "code",
   "execution_count": 121,
   "metadata": {},
   "outputs": [],
   "source": [
    "import pandas as pd\n",
    "\n",
    "import spacy\n",
    "from spacy.tokenizer import Tokenizer\n",
    "\n",
    "import seaborn as sns\n",
    "import matplotlib.pyplot as plt\n",
    "\n",
    "from sklearn.feature_extraction.text import CountVectorizer, TfidfVectorizer\n",
    "from sklearn.metrics.pairwise import cosine_similarity\n",
    "from sklearn.neighbors import NearestNeighbors\n",
    "from sklearn.decomposition import PCA\n",
    "from sklearn.pipeline import Pipeline\n",
    "from sklearn.ensemble import RandomForestClassifier\n",
    "from sklearn.model_selection import GridSearchCV\n",
    "from sklearn.decomposition import TruncatedSVD\n",
    "\n",
    "import numpy as np\n",
    "import gensim\n",
    "import os\n",
    "import re\n",
    "\n",
    "from gensim.utils import simple_preprocess\n",
    "from gensim.parsing.preprocessing import STOPWORDS\n",
    "from gensim import corpora\n",
    "\n",
    "from gensim.models.ldamulticore import LdaMulticore"
   ]
  },
  {
   "cell_type": "markdown",
   "metadata": {},
   "source": [
    "# Load"
   ]
  },
  {
   "cell_type": "code",
   "execution_count": 49,
   "metadata": {},
   "outputs": [
    {
     "data": {
      "text/html": [
       "<div>\n",
       "<style scoped>\n",
       "    .dataframe tbody tr th:only-of-type {\n",
       "        vertical-align: middle;\n",
       "    }\n",
       "\n",
       "    .dataframe tbody tr th {\n",
       "        vertical-align: top;\n",
       "    }\n",
       "\n",
       "    .dataframe thead th {\n",
       "        text-align: right;\n",
       "    }\n",
       "</style>\n",
       "<table border=\"1\" class=\"dataframe\">\n",
       "  <thead>\n",
       "    <tr style=\"text-align: right;\">\n",
       "      <th></th>\n",
       "      <th>coffee_shop_name</th>\n",
       "      <th>full_review_text</th>\n",
       "      <th>star_rating</th>\n",
       "    </tr>\n",
       "  </thead>\n",
       "  <tbody>\n",
       "    <tr>\n",
       "      <th>0</th>\n",
       "      <td>The Factory - Cafe With a Soul</td>\n",
       "      <td>11/25/2016 1 check-in Love love loved the atm...</td>\n",
       "      <td>5.0 star rating</td>\n",
       "    </tr>\n",
       "    <tr>\n",
       "      <th>1</th>\n",
       "      <td>The Factory - Cafe With a Soul</td>\n",
       "      <td>12/2/2016 Listed in Date Night: Austin, Ambia...</td>\n",
       "      <td>4.0 star rating</td>\n",
       "    </tr>\n",
       "    <tr>\n",
       "      <th>2</th>\n",
       "      <td>The Factory - Cafe With a Soul</td>\n",
       "      <td>11/30/2016 1 check-in Listed in Brunch Spots ...</td>\n",
       "      <td>4.0 star rating</td>\n",
       "    </tr>\n",
       "    <tr>\n",
       "      <th>3</th>\n",
       "      <td>The Factory - Cafe With a Soul</td>\n",
       "      <td>11/25/2016 Very cool decor! Good drinks Nice ...</td>\n",
       "      <td>2.0 star rating</td>\n",
       "    </tr>\n",
       "    <tr>\n",
       "      <th>4</th>\n",
       "      <td>The Factory - Cafe With a Soul</td>\n",
       "      <td>12/3/2016 1 check-in They are located within ...</td>\n",
       "      <td>4.0 star rating</td>\n",
       "    </tr>\n",
       "  </tbody>\n",
       "</table>\n",
       "</div>"
      ],
      "text/plain": [
       "                  coffee_shop_name  \\\n",
       "0  The Factory - Cafe With a Soul    \n",
       "1  The Factory - Cafe With a Soul    \n",
       "2  The Factory - Cafe With a Soul    \n",
       "3  The Factory - Cafe With a Soul    \n",
       "4  The Factory - Cafe With a Soul    \n",
       "\n",
       "                                    full_review_text        star_rating  \n",
       "0   11/25/2016 1 check-in Love love loved the atm...   5.0 star rating   \n",
       "1   12/2/2016 Listed in Date Night: Austin, Ambia...   4.0 star rating   \n",
       "2   11/30/2016 1 check-in Listed in Brunch Spots ...   4.0 star rating   \n",
       "3   11/25/2016 Very cool decor! Good drinks Nice ...   2.0 star rating   \n",
       "4   12/3/2016 1 check-in They are located within ...   4.0 star rating   "
      ]
     },
     "execution_count": 49,
     "metadata": {},
     "output_type": "execute_result"
    }
   ],
   "source": [
    "nlp = spacy.load(\"en_core_web_lg\")\n",
    "url = \"https://raw.githubusercontent.com/LambdaSchool/DS-Unit-4-Sprint-1-NLP/master/module1-text-data/data/yelp_coffeeshop_review_data.csv\"\n",
    "shops = pd.read_csv(url)\n",
    "shops.head()"
   ]
  },
  {
   "cell_type": "markdown",
   "metadata": {},
   "source": [
    "# Day 1 (Still need to add stemming)\n",
    "\n",
    "Learning Objectives\n",
    "\n",
    "1. Tokenze text\n",
    "2. Remove stop words from text\n",
    "3. Perform stemming and lemmatization on tokens\n"
   ]
  },
  {
   "cell_type": "code",
   "execution_count": 50,
   "metadata": {},
   "outputs": [],
   "source": [
    "tokenize = Tokenizer(nlp.vocab)"
   ]
  },
  {
   "cell_type": "code",
   "execution_count": 51,
   "metadata": {},
   "outputs": [],
   "source": [
    "# Turn star rating into a numeric instead of string\n",
    "shops['star_rating'] = shops['star_rating'].str.strip(' star rating ')\n",
    "shops['star_rating'] = shops['star_rating'].astype('float')"
   ]
  },
  {
   "cell_type": "code",
   "execution_count": 52,
   "metadata": {},
   "outputs": [
    {
     "data": {
      "text/html": [
       "<div>\n",
       "<style scoped>\n",
       "    .dataframe tbody tr th:only-of-type {\n",
       "        vertical-align: middle;\n",
       "    }\n",
       "\n",
       "    .dataframe tbody tr th {\n",
       "        vertical-align: top;\n",
       "    }\n",
       "\n",
       "    .dataframe thead th {\n",
       "        text-align: right;\n",
       "    }\n",
       "</style>\n",
       "<table border=\"1\" class=\"dataframe\">\n",
       "  <thead>\n",
       "    <tr style=\"text-align: right;\">\n",
       "      <th></th>\n",
       "      <th>coffee_shop_name</th>\n",
       "      <th>full_review_text</th>\n",
       "      <th>star_rating</th>\n",
       "    </tr>\n",
       "  </thead>\n",
       "  <tbody>\n",
       "    <tr>\n",
       "      <th>0</th>\n",
       "      <td>The Factory - Cafe With a Soul</td>\n",
       "      <td>11/25/2016 1 check-in Love love loved the atm...</td>\n",
       "      <td>5.0</td>\n",
       "    </tr>\n",
       "    <tr>\n",
       "      <th>1</th>\n",
       "      <td>The Factory - Cafe With a Soul</td>\n",
       "      <td>12/2/2016 Listed in Date Night: Austin, Ambia...</td>\n",
       "      <td>4.0</td>\n",
       "    </tr>\n",
       "    <tr>\n",
       "      <th>2</th>\n",
       "      <td>The Factory - Cafe With a Soul</td>\n",
       "      <td>11/30/2016 1 check-in Listed in Brunch Spots ...</td>\n",
       "      <td>4.0</td>\n",
       "    </tr>\n",
       "    <tr>\n",
       "      <th>3</th>\n",
       "      <td>The Factory - Cafe With a Soul</td>\n",
       "      <td>11/25/2016 Very cool decor! Good drinks Nice ...</td>\n",
       "      <td>2.0</td>\n",
       "    </tr>\n",
       "    <tr>\n",
       "      <th>4</th>\n",
       "      <td>The Factory - Cafe With a Soul</td>\n",
       "      <td>12/3/2016 1 check-in They are located within ...</td>\n",
       "      <td>4.0</td>\n",
       "    </tr>\n",
       "  </tbody>\n",
       "</table>\n",
       "</div>"
      ],
      "text/plain": [
       "                  coffee_shop_name  \\\n",
       "0  The Factory - Cafe With a Soul    \n",
       "1  The Factory - Cafe With a Soul    \n",
       "2  The Factory - Cafe With a Soul    \n",
       "3  The Factory - Cafe With a Soul    \n",
       "4  The Factory - Cafe With a Soul    \n",
       "\n",
       "                                    full_review_text  star_rating  \n",
       "0   11/25/2016 1 check-in Love love loved the atm...          5.0  \n",
       "1   12/2/2016 Listed in Date Night: Austin, Ambia...          4.0  \n",
       "2   11/30/2016 1 check-in Listed in Brunch Spots ...          4.0  \n",
       "3   11/25/2016 Very cool decor! Good drinks Nice ...          2.0  \n",
       "4   12/3/2016 1 check-in They are located within ...          4.0  "
      ]
     },
     "execution_count": 52,
     "metadata": {},
     "output_type": "execute_result"
    }
   ],
   "source": [
    "shops.head()"
   ]
  },
  {
   "cell_type": "code",
   "execution_count": 53,
   "metadata": {},
   "outputs": [
    {
     "data": {
      "text/plain": [
       "'1 check-in Love love loved the atmosphere! Every corner of the coffee shop had its own style, and there were swings!!! I ordered the matcha latte, and it was muy fantastico! Ordering and getting my drink were pretty streamlined. I ordered on an iPad, which included all beverage selections that ranged from coffee to wine, desired level of sweetness, and a checkout system. I got my latte within minutes!  I was hoping for a typical heart or feather on my latte, but found myself listing out all the possibilities of what the art may be. Any ideas? '"
      ]
     },
     "execution_count": 53,
     "metadata": {},
     "output_type": "execute_result"
    }
   ],
   "source": [
    "#Figuring out how to chop the date off\n",
    "shops['full_review_text'][0][12:]"
   ]
  },
  {
   "cell_type": "markdown",
   "metadata": {},
   "source": [
    "# Lemmas and Token Functions"
   ]
  },
  {
   "cell_type": "code",
   "execution_count": 54,
   "metadata": {},
   "outputs": [],
   "source": [
    "# function for the lemmas\n",
    "# This also removes the stop words\n",
    "def get_lemmas(text):\n",
    "\n",
    "    lemmas = []\n",
    "    \n",
    "    doc = nlp(text)\n",
    "    \n",
    "    # Something goes here :P\n",
    "    for token in doc: \n",
    "        if ((token.is_stop == False) and (token.is_punct == False)) and (token.pos_!= 'PRON'):\n",
    "            lemmas.append(token.lemma_)\n",
    "    \n",
    "    return lemmas"
   ]
  },
  {
   "cell_type": "code",
   "execution_count": 55,
   "metadata": {},
   "outputs": [],
   "source": [
    "# Pipe for thre tokens\n",
    "\n",
    "tokens = []\n",
    "\n",
    "for doc in tokenize.pipe(shops['full_review_text'], batch_size=500):\n",
    "    doc_tokens = [token.text.lower() for token in doc]\n",
    "    tokens.append(doc_tokens)\n",
    "    \n",
    "shops['tokens'] = tokens"
   ]
  },
  {
   "cell_type": "code",
   "execution_count": 58,
   "metadata": {},
   "outputs": [],
   "source": [
    "# Use apply function to get lemmas\n",
    "shops['lemmas'] = shops['full_review_text'].apply(get_lemmas)"
   ]
  },
  {
   "cell_type": "code",
   "execution_count": 59,
   "metadata": {},
   "outputs": [
    {
     "name": "stdout",
     "output_type": "stream",
     "text": [
      "(7616, 5)\n"
     ]
    },
    {
     "data": {
      "text/html": [
       "<div>\n",
       "<style scoped>\n",
       "    .dataframe tbody tr th:only-of-type {\n",
       "        vertical-align: middle;\n",
       "    }\n",
       "\n",
       "    .dataframe tbody tr th {\n",
       "        vertical-align: top;\n",
       "    }\n",
       "\n",
       "    .dataframe thead th {\n",
       "        text-align: right;\n",
       "    }\n",
       "</style>\n",
       "<table border=\"1\" class=\"dataframe\">\n",
       "  <thead>\n",
       "    <tr style=\"text-align: right;\">\n",
       "      <th></th>\n",
       "      <th>coffee_shop_name</th>\n",
       "      <th>full_review_text</th>\n",
       "      <th>star_rating</th>\n",
       "      <th>tokens</th>\n",
       "      <th>lemmas</th>\n",
       "    </tr>\n",
       "  </thead>\n",
       "  <tbody>\n",
       "    <tr>\n",
       "      <th>0</th>\n",
       "      <td>The Factory - Cafe With a Soul</td>\n",
       "      <td>11/25/2016 1 check-in Love love loved the atm...</td>\n",
       "      <td>5.0</td>\n",
       "      <td>[ , 11/25/2016, 1, check-in, love, love, loved...</td>\n",
       "      <td>[ , 11/25/2016, 1, check, Love, love, love, at...</td>\n",
       "    </tr>\n",
       "    <tr>\n",
       "      <th>1</th>\n",
       "      <td>The Factory - Cafe With a Soul</td>\n",
       "      <td>12/2/2016 Listed in Date Night: Austin, Ambia...</td>\n",
       "      <td>4.0</td>\n",
       "      <td>[ , 12/2/2016, listed, in, date, night:, austi...</td>\n",
       "      <td>[ , 12/2/2016, list, Date, Night, Austin, Ambi...</td>\n",
       "    </tr>\n",
       "    <tr>\n",
       "      <th>2</th>\n",
       "      <td>The Factory - Cafe With a Soul</td>\n",
       "      <td>11/30/2016 1 check-in Listed in Brunch Spots ...</td>\n",
       "      <td>4.0</td>\n",
       "      <td>[ , 11/30/2016, 1, check-in, listed, in, brunc...</td>\n",
       "      <td>[ , 11/30/2016, 1, check, list, Brunch, Spots,...</td>\n",
       "    </tr>\n",
       "    <tr>\n",
       "      <th>3</th>\n",
       "      <td>The Factory - Cafe With a Soul</td>\n",
       "      <td>11/25/2016 Very cool decor! Good drinks Nice ...</td>\n",
       "      <td>2.0</td>\n",
       "      <td>[ , 11/25/2016, very, cool, decor!, good, drin...</td>\n",
       "      <td>[ , 11/25/2016, cool, decor, good, drink, nice...</td>\n",
       "    </tr>\n",
       "    <tr>\n",
       "      <th>4</th>\n",
       "      <td>The Factory - Cafe With a Soul</td>\n",
       "      <td>12/3/2016 1 check-in They are located within ...</td>\n",
       "      <td>4.0</td>\n",
       "      <td>[ , 12/3/2016, 1, check-in, they, are, located...</td>\n",
       "      <td>[ , 12/3/2016, 1, check, locate, Northcross, m...</td>\n",
       "    </tr>\n",
       "  </tbody>\n",
       "</table>\n",
       "</div>"
      ],
      "text/plain": [
       "                  coffee_shop_name  \\\n",
       "0  The Factory - Cafe With a Soul    \n",
       "1  The Factory - Cafe With a Soul    \n",
       "2  The Factory - Cafe With a Soul    \n",
       "3  The Factory - Cafe With a Soul    \n",
       "4  The Factory - Cafe With a Soul    \n",
       "\n",
       "                                    full_review_text  star_rating  \\\n",
       "0   11/25/2016 1 check-in Love love loved the atm...          5.0   \n",
       "1   12/2/2016 Listed in Date Night: Austin, Ambia...          4.0   \n",
       "2   11/30/2016 1 check-in Listed in Brunch Spots ...          4.0   \n",
       "3   11/25/2016 Very cool decor! Good drinks Nice ...          2.0   \n",
       "4   12/3/2016 1 check-in They are located within ...          4.0   \n",
       "\n",
       "                                              tokens  \\\n",
       "0  [ , 11/25/2016, 1, check-in, love, love, loved...   \n",
       "1  [ , 12/2/2016, listed, in, date, night:, austi...   \n",
       "2  [ , 11/30/2016, 1, check-in, listed, in, brunc...   \n",
       "3  [ , 11/25/2016, very, cool, decor!, good, drin...   \n",
       "4  [ , 12/3/2016, 1, check-in, they, are, located...   \n",
       "\n",
       "                                              lemmas  \n",
       "0  [ , 11/25/2016, 1, check, Love, love, love, at...  \n",
       "1  [ , 12/2/2016, list, Date, Night, Austin, Ambi...  \n",
       "2  [ , 11/30/2016, 1, check, list, Brunch, Spots,...  \n",
       "3  [ , 11/25/2016, cool, decor, good, drink, nice...  \n",
       "4  [ , 12/3/2016, 1, check, locate, Northcross, m...  "
      ]
     },
     "execution_count": 59,
     "metadata": {},
     "output_type": "execute_result"
    }
   ],
   "source": [
    "print(shops.shape)\n",
    "shops.head()"
   ]
  },
  {
   "cell_type": "markdown",
   "metadata": {},
   "source": [
    "# Had to update to get function \"get_lemmas\" to work"
   ]
  },
  {
   "cell_type": "code",
   "execution_count": 45,
   "metadata": {},
   "outputs": [
    {
     "name": "stdout",
     "output_type": "stream",
     "text": [
      "\u001b[2K\u001b[38;5;2m✔ Loaded compatibility table\u001b[0m\n",
      "\u001b[1m\n",
      "====================== Installed models (spaCy v2.2.3) ======================\u001b[0m\n",
      "\u001b[38;5;4mℹ spaCy installation:\n",
      "/Users/mph/anaconda3/envs/U4-S1-NLP/lib/python3.7/site-packages/spacy\u001b[0m\n",
      "\n",
      "TYPE      NAME             MODEL            VERSION                            \n",
      "package   en-core-web-md   en_core_web_md   \u001b[38;5;1m2.1.0\u001b[0m   --> 2.2.5     \n",
      "package   en-core-web-lg   en_core_web_lg   \u001b[38;5;2m2.2.5\u001b[0m   \u001b[38;5;2m✔\u001b[0m\n",
      "\n",
      "\u001b[1m\n",
      "============================== Install updates ==============================\u001b[0m\n",
      "Use the following commands to update the model packages:\n",
      "python -m spacy download en_core_web_md\n",
      "\n"
     ]
    }
   ],
   "source": [
    "# Will need to update which ever model in being used to get it to work\n",
    "# Still debugging\n",
    "!python -m spacy validate"
   ]
  },
  {
   "cell_type": "code",
   "execution_count": 43,
   "metadata": {
    "collapsed": true,
    "jupyter": {
     "outputs_hidden": true
    }
   },
   "outputs": [
    {
     "name": "stdout",
     "output_type": "stream",
     "text": [
      "Collecting en_core_web_lg==2.2.5\n",
      "\u001b[?25l  Downloading https://github.com/explosion/spacy-models/releases/download/en_core_web_lg-2.2.5/en_core_web_lg-2.2.5.tar.gz (827.9MB)\n",
      "\u001b[K     |████████████████████████████████| 827.9MB 12.0MB/s eta 0:00:01     |██████████████                  | 363.4MB 209kB/s eta 0:36:56\n",
      "\u001b[?25hRequirement already satisfied: spacy>=2.2.2 in /Users/mph/anaconda3/envs/U4-S1-NLP/lib/python3.7/site-packages (from en_core_web_lg==2.2.5) (2.2.3)\n",
      "Requirement already satisfied: thinc<7.4.0,>=7.3.0 in /Users/mph/anaconda3/envs/U4-S1-NLP/lib/python3.7/site-packages (from spacy>=2.2.2->en_core_web_lg==2.2.5) (7.3.1)\n",
      "Requirement already satisfied: murmurhash<1.1.0,>=0.28.0 in /Users/mph/anaconda3/envs/U4-S1-NLP/lib/python3.7/site-packages (from spacy>=2.2.2->en_core_web_lg==2.2.5) (1.0.2)\n",
      "Requirement already satisfied: preshed<3.1.0,>=3.0.2 in /Users/mph/anaconda3/envs/U4-S1-NLP/lib/python3.7/site-packages (from spacy>=2.2.2->en_core_web_lg==2.2.5) (3.0.2)\n",
      "Requirement already satisfied: wasabi<1.1.0,>=0.4.0 in /Users/mph/anaconda3/envs/U4-S1-NLP/lib/python3.7/site-packages (from spacy>=2.2.2->en_core_web_lg==2.2.5) (0.4.2)\n",
      "Requirement already satisfied: srsly<1.1.0,>=0.1.0 in /Users/mph/anaconda3/envs/U4-S1-NLP/lib/python3.7/site-packages (from spacy>=2.2.2->en_core_web_lg==2.2.5) (0.2.0)\n",
      "Requirement already satisfied: numpy>=1.15.0 in /Users/mph/anaconda3/envs/U4-S1-NLP/lib/python3.7/site-packages (from spacy>=2.2.2->en_core_web_lg==2.2.5) (1.17.4)\n",
      "Requirement already satisfied: setuptools in /Users/mph/anaconda3/envs/U4-S1-NLP/lib/python3.7/site-packages (from spacy>=2.2.2->en_core_web_lg==2.2.5) (42.0.2.post20191201)\n",
      "Requirement already satisfied: plac<1.2.0,>=0.9.6 in /Users/mph/anaconda3/envs/U4-S1-NLP/lib/python3.7/site-packages (from spacy>=2.2.2->en_core_web_lg==2.2.5) (1.1.3)\n",
      "Requirement already satisfied: requests<3.0.0,>=2.13.0 in /Users/mph/anaconda3/envs/U4-S1-NLP/lib/python3.7/site-packages (from spacy>=2.2.2->en_core_web_lg==2.2.5) (2.22.0)\n",
      "Requirement already satisfied: blis<0.5.0,>=0.4.0 in /Users/mph/anaconda3/envs/U4-S1-NLP/lib/python3.7/site-packages (from spacy>=2.2.2->en_core_web_lg==2.2.5) (0.4.1)\n",
      "Requirement already satisfied: catalogue<1.1.0,>=0.0.7 in /Users/mph/anaconda3/envs/U4-S1-NLP/lib/python3.7/site-packages (from spacy>=2.2.2->en_core_web_lg==2.2.5) (0.0.8)\n",
      "Requirement already satisfied: cymem<2.1.0,>=2.0.2 in /Users/mph/anaconda3/envs/U4-S1-NLP/lib/python3.7/site-packages (from spacy>=2.2.2->en_core_web_lg==2.2.5) (2.0.3)\n",
      "Requirement already satisfied: tqdm<5.0.0,>=4.10.0 in /Users/mph/anaconda3/envs/U4-S1-NLP/lib/python3.7/site-packages (from thinc<7.4.0,>=7.3.0->spacy>=2.2.2->en_core_web_lg==2.2.5) (4.40.0)\n",
      "Requirement already satisfied: chardet<3.1.0,>=3.0.2 in /Users/mph/anaconda3/envs/U4-S1-NLP/lib/python3.7/site-packages (from requests<3.0.0,>=2.13.0->spacy>=2.2.2->en_core_web_lg==2.2.5) (3.0.4)\n",
      "Requirement already satisfied: idna<2.9,>=2.5 in /Users/mph/anaconda3/envs/U4-S1-NLP/lib/python3.7/site-packages (from requests<3.0.0,>=2.13.0->spacy>=2.2.2->en_core_web_lg==2.2.5) (2.8)\n",
      "Requirement already satisfied: certifi>=2017.4.17 in /Users/mph/anaconda3/envs/U4-S1-NLP/lib/python3.7/site-packages (from requests<3.0.0,>=2.13.0->spacy>=2.2.2->en_core_web_lg==2.2.5) (2019.11.28)\n",
      "Requirement already satisfied: urllib3!=1.25.0,!=1.25.1,<1.26,>=1.21.1 in /Users/mph/anaconda3/envs/U4-S1-NLP/lib/python3.7/site-packages (from requests<3.0.0,>=2.13.0->spacy>=2.2.2->en_core_web_lg==2.2.5) (1.25.7)\n",
      "Requirement already satisfied: importlib-metadata>=0.20; python_version < \"3.8\" in /Users/mph/anaconda3/envs/U4-S1-NLP/lib/python3.7/site-packages (from catalogue<1.1.0,>=0.0.7->spacy>=2.2.2->en_core_web_lg==2.2.5) (1.2.0)\n",
      "Requirement already satisfied: zipp>=0.5 in /Users/mph/anaconda3/envs/U4-S1-NLP/lib/python3.7/site-packages (from importlib-metadata>=0.20; python_version < \"3.8\"->catalogue<1.1.0,>=0.0.7->spacy>=2.2.2->en_core_web_lg==2.2.5) (0.6.0)\n",
      "Requirement already satisfied: more-itertools in /Users/mph/anaconda3/envs/U4-S1-NLP/lib/python3.7/site-packages (from zipp>=0.5->importlib-metadata>=0.20; python_version < \"3.8\"->catalogue<1.1.0,>=0.0.7->spacy>=2.2.2->en_core_web_lg==2.2.5) (8.0.0)\n",
      "Building wheels for collected packages: en-core-web-lg\n",
      "  Building wheel for en-core-web-lg (setup.py) ... \u001b[?25ldone\n",
      "\u001b[?25h  Created wheel for en-core-web-lg: filename=en_core_web_lg-2.2.5-cp37-none-any.whl size=829180945 sha256=65c26cc310e35bfa0e7a48baf1415d26d11e19084c95a83a46cbb1d7239f7755\n",
      "  Stored in directory: /private/var/folders/bb/xqj4lc056y512d9w46jylx7m0000gn/T/pip-ephem-wheel-cache-3dk5b9rq/wheels/2a/c1/a6/fc7a877b1efca9bc6a089d6f506f16d3868408f9ff89f8dbfc\n",
      "Successfully built en-core-web-lg\n",
      "Installing collected packages: en-core-web-lg\n",
      "  Found existing installation: en-core-web-lg 2.1.0\n",
      "    Uninstalling en-core-web-lg-2.1.0:\n",
      "      Successfully uninstalled en-core-web-lg-2.1.0\n",
      "Successfully installed en-core-web-lg-2.2.5\n",
      "\u001b[38;5;2m✔ Download and installation successful\u001b[0m\n",
      "You can now load the model via spacy.load('en_core_web_lg')\n"
     ]
    }
   ],
   "source": [
    "!python -m spacy download en_core_web_lg"
   ]
  },
  {
   "cell_type": "markdown",
   "metadata": {},
   "source": [
    "# Updating Stop Words"
   ]
  },
  {
   "cell_type": "code",
   "execution_count": null,
   "metadata": {},
   "outputs": [],
   "source": [
    "STOP_WORDS = nlp.Defaults.stop_words.union([\"I'm\",\n",
    "                                            \"I've\",\n",
    "                                            'l',\n",
    "                                            'coffee',\n",
    "                                            'got', \n",
    "                                            'i', \n",
    "                                            'it',\n",
    "                                            \"it's\", \n",
    "                                            'food',\n",
    "                                            \"don't\",\n",
    "                                            'this',\n",
    "                                            \"1\",\n",
    "                                            '-',\n",
    "                                           \"i'm\",\n",
    "                                           \"check-in\",\n",
    "                                           \"place\"\n",
    "                                           \"little\",\n",
    "                                           \" \",\n",
    "                                           \"i've\",\n",
    "                                           \"austin\",\n",
    "                                           \"ordered\",\n",
    "                                           \"place\"])"
   ]
  },
  {
   "cell_type": "code",
   "execution_count": null,
   "metadata": {},
   "outputs": [],
   "source": [
    "# Tokenizer using stop default stop words and added stop words\n",
    "\n",
    "tokens = []\n",
    "\n",
    "for doc in tokenizer.pipe(bad_shops['full_review_text'], batch_size=500):\n",
    "    \n",
    "    doc_tokens = []\n",
    "    \n",
    "    for token in doc: \n",
    "        if token.text.lower() not in STOP_WORDS:\n",
    "            doc_tokens.append(token.text.lower())\n",
    "   \n",
    "    tokens.append(doc_tokens)\n",
    "    \n",
    "bad_shops['bad_tokens'] = tokens"
   ]
  },
  {
   "cell_type": "markdown",
   "metadata": {},
   "source": [
    "# Day 2\n",
    "\n",
    "Learning Objectives\n",
    "\n",
    "1. Represent a document as a vector\n",
    "2. Query Documents by Similarity\n",
    "3. Apply word embedding models to create document vectors\n"
   ]
  },
  {
   "cell_type": "code",
   "execution_count": 62,
   "metadata": {},
   "outputs": [],
   "source": [
    "# list of text documents\n",
    "text = shops['full_review_text']\n",
    "\n",
    "# create the transformer\n",
    "vect = CountVectorizer()\n",
    "\n",
    "# tokenize and build vocab\n",
    "vect.fit(text)\n",
    "\n",
    "# transform text\n",
    "dtm = vect.transform(text)\n",
    "\n",
    "# Create a Vocabulary\n",
    "# The vocabulary establishes all of the possible words that we might use.\n",
    "\n",
    "# The vocabulary dictionary does not represent the counts of words!!\n"
   ]
  },
  {
   "cell_type": "code",
   "execution_count": 64,
   "metadata": {},
   "outputs": [
    {
     "data": {
      "text/html": [
       "<div>\n",
       "<style scoped>\n",
       "    .dataframe tbody tr th:only-of-type {\n",
       "        vertical-align: middle;\n",
       "    }\n",
       "\n",
       "    .dataframe tbody tr th {\n",
       "        vertical-align: top;\n",
       "    }\n",
       "\n",
       "    .dataframe thead th {\n",
       "        text-align: right;\n",
       "    }\n",
       "</style>\n",
       "<table border=\"1\" class=\"dataframe\">\n",
       "  <thead>\n",
       "    <tr style=\"text-align: right;\">\n",
       "      <th></th>\n",
       "      <th>00</th>\n",
       "      <th>000</th>\n",
       "      <th>007</th>\n",
       "      <th>00am</th>\n",
       "      <th>00pm</th>\n",
       "      <th>00s</th>\n",
       "      <th>02</th>\n",
       "      <th>03</th>\n",
       "      <th>04</th>\n",
       "      <th>04am</th>\n",
       "      <th>...</th>\n",
       "      <th>とマシュポテトサラダ付き</th>\n",
       "      <th>アイスモカも美味しいでーす</th>\n",
       "      <th>オースティンでも日本スタイルcafé</th>\n",
       "      <th>サラダ</th>\n",
       "      <th>セットはライスかトースト</th>\n",
       "      <th>チキンカツ</th>\n",
       "      <th>唐揚げなど色々</th>\n",
       "      <th>日本の味が恋しい時はsaーten</th>\n",
       "      <th>本立てコーナーには日本雑誌やマンガ自由読み用ありまーす</th>\n",
       "      <th>照り焼きボウル</th>\n",
       "    </tr>\n",
       "  </thead>\n",
       "  <tbody>\n",
       "    <tr>\n",
       "      <th>0</th>\n",
       "      <td>0</td>\n",
       "      <td>0</td>\n",
       "      <td>0</td>\n",
       "      <td>0</td>\n",
       "      <td>0</td>\n",
       "      <td>0</td>\n",
       "      <td>0</td>\n",
       "      <td>0</td>\n",
       "      <td>0</td>\n",
       "      <td>0</td>\n",
       "      <td>...</td>\n",
       "      <td>0</td>\n",
       "      <td>0</td>\n",
       "      <td>0</td>\n",
       "      <td>0</td>\n",
       "      <td>0</td>\n",
       "      <td>0</td>\n",
       "      <td>0</td>\n",
       "      <td>0</td>\n",
       "      <td>0</td>\n",
       "      <td>0</td>\n",
       "    </tr>\n",
       "    <tr>\n",
       "      <th>1</th>\n",
       "      <td>0</td>\n",
       "      <td>0</td>\n",
       "      <td>0</td>\n",
       "      <td>0</td>\n",
       "      <td>0</td>\n",
       "      <td>0</td>\n",
       "      <td>0</td>\n",
       "      <td>0</td>\n",
       "      <td>0</td>\n",
       "      <td>0</td>\n",
       "      <td>...</td>\n",
       "      <td>0</td>\n",
       "      <td>0</td>\n",
       "      <td>0</td>\n",
       "      <td>0</td>\n",
       "      <td>0</td>\n",
       "      <td>0</td>\n",
       "      <td>0</td>\n",
       "      <td>0</td>\n",
       "      <td>0</td>\n",
       "      <td>0</td>\n",
       "    </tr>\n",
       "    <tr>\n",
       "      <th>2</th>\n",
       "      <td>0</td>\n",
       "      <td>0</td>\n",
       "      <td>0</td>\n",
       "      <td>0</td>\n",
       "      <td>0</td>\n",
       "      <td>0</td>\n",
       "      <td>0</td>\n",
       "      <td>0</td>\n",
       "      <td>0</td>\n",
       "      <td>0</td>\n",
       "      <td>...</td>\n",
       "      <td>0</td>\n",
       "      <td>0</td>\n",
       "      <td>0</td>\n",
       "      <td>0</td>\n",
       "      <td>0</td>\n",
       "      <td>0</td>\n",
       "      <td>0</td>\n",
       "      <td>0</td>\n",
       "      <td>0</td>\n",
       "      <td>0</td>\n",
       "    </tr>\n",
       "    <tr>\n",
       "      <th>3</th>\n",
       "      <td>0</td>\n",
       "      <td>0</td>\n",
       "      <td>0</td>\n",
       "      <td>0</td>\n",
       "      <td>0</td>\n",
       "      <td>0</td>\n",
       "      <td>0</td>\n",
       "      <td>0</td>\n",
       "      <td>0</td>\n",
       "      <td>0</td>\n",
       "      <td>...</td>\n",
       "      <td>0</td>\n",
       "      <td>0</td>\n",
       "      <td>0</td>\n",
       "      <td>0</td>\n",
       "      <td>0</td>\n",
       "      <td>0</td>\n",
       "      <td>0</td>\n",
       "      <td>0</td>\n",
       "      <td>0</td>\n",
       "      <td>0</td>\n",
       "    </tr>\n",
       "    <tr>\n",
       "      <th>4</th>\n",
       "      <td>0</td>\n",
       "      <td>0</td>\n",
       "      <td>0</td>\n",
       "      <td>0</td>\n",
       "      <td>0</td>\n",
       "      <td>0</td>\n",
       "      <td>0</td>\n",
       "      <td>0</td>\n",
       "      <td>0</td>\n",
       "      <td>0</td>\n",
       "      <td>...</td>\n",
       "      <td>0</td>\n",
       "      <td>0</td>\n",
       "      <td>0</td>\n",
       "      <td>0</td>\n",
       "      <td>0</td>\n",
       "      <td>0</td>\n",
       "      <td>0</td>\n",
       "      <td>0</td>\n",
       "      <td>0</td>\n",
       "      <td>0</td>\n",
       "    </tr>\n",
       "    <tr>\n",
       "      <th>...</th>\n",
       "      <td>...</td>\n",
       "      <td>...</td>\n",
       "      <td>...</td>\n",
       "      <td>...</td>\n",
       "      <td>...</td>\n",
       "      <td>...</td>\n",
       "      <td>...</td>\n",
       "      <td>...</td>\n",
       "      <td>...</td>\n",
       "      <td>...</td>\n",
       "      <td>...</td>\n",
       "      <td>...</td>\n",
       "      <td>...</td>\n",
       "      <td>...</td>\n",
       "      <td>...</td>\n",
       "      <td>...</td>\n",
       "      <td>...</td>\n",
       "      <td>...</td>\n",
       "      <td>...</td>\n",
       "      <td>...</td>\n",
       "      <td>...</td>\n",
       "    </tr>\n",
       "    <tr>\n",
       "      <th>7611</th>\n",
       "      <td>0</td>\n",
       "      <td>0</td>\n",
       "      <td>0</td>\n",
       "      <td>0</td>\n",
       "      <td>0</td>\n",
       "      <td>0</td>\n",
       "      <td>0</td>\n",
       "      <td>0</td>\n",
       "      <td>0</td>\n",
       "      <td>0</td>\n",
       "      <td>...</td>\n",
       "      <td>0</td>\n",
       "      <td>0</td>\n",
       "      <td>0</td>\n",
       "      <td>0</td>\n",
       "      <td>0</td>\n",
       "      <td>0</td>\n",
       "      <td>0</td>\n",
       "      <td>0</td>\n",
       "      <td>0</td>\n",
       "      <td>0</td>\n",
       "    </tr>\n",
       "    <tr>\n",
       "      <th>7612</th>\n",
       "      <td>0</td>\n",
       "      <td>0</td>\n",
       "      <td>0</td>\n",
       "      <td>0</td>\n",
       "      <td>0</td>\n",
       "      <td>0</td>\n",
       "      <td>0</td>\n",
       "      <td>0</td>\n",
       "      <td>0</td>\n",
       "      <td>0</td>\n",
       "      <td>...</td>\n",
       "      <td>0</td>\n",
       "      <td>0</td>\n",
       "      <td>0</td>\n",
       "      <td>0</td>\n",
       "      <td>0</td>\n",
       "      <td>0</td>\n",
       "      <td>0</td>\n",
       "      <td>0</td>\n",
       "      <td>0</td>\n",
       "      <td>0</td>\n",
       "    </tr>\n",
       "    <tr>\n",
       "      <th>7613</th>\n",
       "      <td>0</td>\n",
       "      <td>0</td>\n",
       "      <td>0</td>\n",
       "      <td>0</td>\n",
       "      <td>0</td>\n",
       "      <td>0</td>\n",
       "      <td>0</td>\n",
       "      <td>0</td>\n",
       "      <td>0</td>\n",
       "      <td>0</td>\n",
       "      <td>...</td>\n",
       "      <td>0</td>\n",
       "      <td>0</td>\n",
       "      <td>0</td>\n",
       "      <td>0</td>\n",
       "      <td>0</td>\n",
       "      <td>0</td>\n",
       "      <td>0</td>\n",
       "      <td>0</td>\n",
       "      <td>0</td>\n",
       "      <td>0</td>\n",
       "    </tr>\n",
       "    <tr>\n",
       "      <th>7614</th>\n",
       "      <td>0</td>\n",
       "      <td>0</td>\n",
       "      <td>0</td>\n",
       "      <td>0</td>\n",
       "      <td>0</td>\n",
       "      <td>0</td>\n",
       "      <td>0</td>\n",
       "      <td>0</td>\n",
       "      <td>0</td>\n",
       "      <td>0</td>\n",
       "      <td>...</td>\n",
       "      <td>0</td>\n",
       "      <td>0</td>\n",
       "      <td>0</td>\n",
       "      <td>0</td>\n",
       "      <td>0</td>\n",
       "      <td>0</td>\n",
       "      <td>0</td>\n",
       "      <td>0</td>\n",
       "      <td>0</td>\n",
       "      <td>0</td>\n",
       "    </tr>\n",
       "    <tr>\n",
       "      <th>7615</th>\n",
       "      <td>0</td>\n",
       "      <td>0</td>\n",
       "      <td>0</td>\n",
       "      <td>0</td>\n",
       "      <td>0</td>\n",
       "      <td>0</td>\n",
       "      <td>0</td>\n",
       "      <td>0</td>\n",
       "      <td>0</td>\n",
       "      <td>0</td>\n",
       "      <td>...</td>\n",
       "      <td>0</td>\n",
       "      <td>0</td>\n",
       "      <td>0</td>\n",
       "      <td>0</td>\n",
       "      <td>0</td>\n",
       "      <td>0</td>\n",
       "      <td>0</td>\n",
       "      <td>0</td>\n",
       "      <td>0</td>\n",
       "      <td>0</td>\n",
       "    </tr>\n",
       "  </tbody>\n",
       "</table>\n",
       "<p>7616 rows × 17201 columns</p>\n",
       "</div>"
      ],
      "text/plain": [
       "      00  000  007  00am  00pm  00s  02  03  04  04am  ...  とマシュポテトサラダ付き  \\\n",
       "0      0    0    0     0     0    0   0   0   0     0  ...             0   \n",
       "1      0    0    0     0     0    0   0   0   0     0  ...             0   \n",
       "2      0    0    0     0     0    0   0   0   0     0  ...             0   \n",
       "3      0    0    0     0     0    0   0   0   0     0  ...             0   \n",
       "4      0    0    0     0     0    0   0   0   0     0  ...             0   \n",
       "...   ..  ...  ...   ...   ...  ...  ..  ..  ..   ...  ...           ...   \n",
       "7611   0    0    0     0     0    0   0   0   0     0  ...             0   \n",
       "7612   0    0    0     0     0    0   0   0   0     0  ...             0   \n",
       "7613   0    0    0     0     0    0   0   0   0     0  ...             0   \n",
       "7614   0    0    0     0     0    0   0   0   0     0  ...             0   \n",
       "7615   0    0    0     0     0    0   0   0   0     0  ...             0   \n",
       "\n",
       "      アイスモカも美味しいでーす  オースティンでも日本スタイルcafé  サラダ  セットはライスかトースト  チキンカツ  唐揚げなど色々  \\\n",
       "0                 0                   0    0             0      0        0   \n",
       "1                 0                   0    0             0      0        0   \n",
       "2                 0                   0    0             0      0        0   \n",
       "3                 0                   0    0             0      0        0   \n",
       "4                 0                   0    0             0      0        0   \n",
       "...             ...                 ...  ...           ...    ...      ...   \n",
       "7611              0                   0    0             0      0        0   \n",
       "7612              0                   0    0             0      0        0   \n",
       "7613              0                   0    0             0      0        0   \n",
       "7614              0                   0    0             0      0        0   \n",
       "7615              0                   0    0             0      0        0   \n",
       "\n",
       "      日本の味が恋しい時はsaーten  本立てコーナーには日本雑誌やマンガ自由読み用ありまーす  照り焼きボウル  \n",
       "0                    0                            0        0  \n",
       "1                    0                            0        0  \n",
       "2                    0                            0        0  \n",
       "3                    0                            0        0  \n",
       "4                    0                            0        0  \n",
       "...                ...                          ...      ...  \n",
       "7611                 0                            0        0  \n",
       "7612                 0                            0        0  \n",
       "7613                 0                            0        0  \n",
       "7614                 0                            0        0  \n",
       "7615                 0                            0        0  \n",
       "\n",
       "[7616 rows x 17201 columns]"
      ]
     },
     "execution_count": 64,
     "metadata": {},
     "output_type": "execute_result"
    }
   ],
   "source": [
    "# Dealing with Sparse Matrix\n",
    "dtm = dtm.todense()\n",
    "\n",
    "# Get Word Counts for each document\n",
    "dtm = pd.DataFrame(dtm, columns=vect.get_feature_names())\n",
    "dtm"
   ]
  },
  {
   "cell_type": "markdown",
   "metadata": {},
   "source": [
    "### Create tokenizer to model with (STILL NEED TO PRINT OUT WORDS)\n",
    "\n",
    "This tokenizer will only keep lemmas of tokens that are not in stop words and do not have punctuation\n",
    "\n",
    "Its passed into the tokenizer parameter in the TfidfVectorizer model"
   ]
  },
  {
   "cell_type": "code",
   "execution_count": 66,
   "metadata": {},
   "outputs": [],
   "source": [
    "def tokenize(document):\n",
    "    doc = nlp(document)\n",
    "    return [token.lemma_.strip() for token in doc if (token.is_stop != True) and (token.is_punct != True)]"
   ]
  },
  {
   "cell_type": "code",
   "execution_count": 67,
   "metadata": {},
   "outputs": [
    {
     "name": "stdout",
     "output_type": "stream",
     "text": [
      "(7616, 349)\n"
     ]
    },
    {
     "data": {
      "text/html": [
       "<div>\n",
       "<style scoped>\n",
       "    .dataframe tbody tr th:only-of-type {\n",
       "        vertical-align: middle;\n",
       "    }\n",
       "\n",
       "    .dataframe tbody tr th {\n",
       "        vertical-align: top;\n",
       "    }\n",
       "\n",
       "    .dataframe thead th {\n",
       "        text-align: right;\n",
       "    }\n",
       "</style>\n",
       "<table border=\"1\" class=\"dataframe\">\n",
       "  <thead>\n",
       "    <tr style=\"text-align: right;\">\n",
       "      <th></th>\n",
       "      <th>coffee</th>\n",
       "      <th>good</th>\n",
       "      <th>great</th>\n",
       "      <th>like</th>\n",
       "      <th>love</th>\n",
       "      <th>order</th>\n",
       "      <th>place</th>\n",
       "      <th>$</th>\n",
       "      <th>1</th>\n",
       "      <th>1 check</th>\n",
       "      <th>...</th>\n",
       "      <th>will</th>\n",
       "      <th>wine</th>\n",
       "      <th>wish</th>\n",
       "      <th>wonderful</th>\n",
       "      <th>work</th>\n",
       "      <th>worth</th>\n",
       "      <th>year</th>\n",
       "      <th>yelp</th>\n",
       "      <th>yes</th>\n",
       "      <th>yummy</th>\n",
       "    </tr>\n",
       "  </thead>\n",
       "  <tbody>\n",
       "    <tr>\n",
       "      <th>0</th>\n",
       "      <td>0.000000</td>\n",
       "      <td>0.0</td>\n",
       "      <td>0.000000</td>\n",
       "      <td>0.0</td>\n",
       "      <td>0.0</td>\n",
       "      <td>0.0</td>\n",
       "      <td>0.0</td>\n",
       "      <td>0.000000</td>\n",
       "      <td>0.114926</td>\n",
       "      <td>0.119805</td>\n",
       "      <td>...</td>\n",
       "      <td>0.0</td>\n",
       "      <td>0.231905</td>\n",
       "      <td>0.0</td>\n",
       "      <td>0.0</td>\n",
       "      <td>0.0</td>\n",
       "      <td>0.000000</td>\n",
       "      <td>0.0</td>\n",
       "      <td>0.0</td>\n",
       "      <td>0.0</td>\n",
       "      <td>0.0</td>\n",
       "    </tr>\n",
       "    <tr>\n",
       "      <th>1</th>\n",
       "      <td>0.000000</td>\n",
       "      <td>0.0</td>\n",
       "      <td>0.000000</td>\n",
       "      <td>0.0</td>\n",
       "      <td>0.0</td>\n",
       "      <td>0.0</td>\n",
       "      <td>0.0</td>\n",
       "      <td>0.594406</td>\n",
       "      <td>0.000000</td>\n",
       "      <td>0.000000</td>\n",
       "      <td>...</td>\n",
       "      <td>0.0</td>\n",
       "      <td>0.000000</td>\n",
       "      <td>0.0</td>\n",
       "      <td>0.0</td>\n",
       "      <td>0.0</td>\n",
       "      <td>0.000000</td>\n",
       "      <td>0.0</td>\n",
       "      <td>0.0</td>\n",
       "      <td>0.0</td>\n",
       "      <td>0.0</td>\n",
       "    </tr>\n",
       "    <tr>\n",
       "      <th>2</th>\n",
       "      <td>0.096484</td>\n",
       "      <td>0.0</td>\n",
       "      <td>0.109175</td>\n",
       "      <td>0.0</td>\n",
       "      <td>0.0</td>\n",
       "      <td>0.0</td>\n",
       "      <td>0.0</td>\n",
       "      <td>0.000000</td>\n",
       "      <td>0.055287</td>\n",
       "      <td>0.057635</td>\n",
       "      <td>...</td>\n",
       "      <td>0.0</td>\n",
       "      <td>0.000000</td>\n",
       "      <td>0.0</td>\n",
       "      <td>0.0</td>\n",
       "      <td>0.0</td>\n",
       "      <td>0.095285</td>\n",
       "      <td>0.0</td>\n",
       "      <td>0.0</td>\n",
       "      <td>0.0</td>\n",
       "      <td>0.0</td>\n",
       "    </tr>\n",
       "    <tr>\n",
       "      <th>3</th>\n",
       "      <td>0.000000</td>\n",
       "      <td>0.0</td>\n",
       "      <td>0.000000</td>\n",
       "      <td>0.0</td>\n",
       "      <td>0.0</td>\n",
       "      <td>0.0</td>\n",
       "      <td>0.0</td>\n",
       "      <td>0.204585</td>\n",
       "      <td>0.000000</td>\n",
       "      <td>0.000000</td>\n",
       "      <td>...</td>\n",
       "      <td>0.0</td>\n",
       "      <td>0.000000</td>\n",
       "      <td>0.0</td>\n",
       "      <td>0.0</td>\n",
       "      <td>0.0</td>\n",
       "      <td>0.000000</td>\n",
       "      <td>0.0</td>\n",
       "      <td>0.0</td>\n",
       "      <td>0.0</td>\n",
       "      <td>0.0</td>\n",
       "    </tr>\n",
       "    <tr>\n",
       "      <th>4</th>\n",
       "      <td>0.000000</td>\n",
       "      <td>0.0</td>\n",
       "      <td>0.000000</td>\n",
       "      <td>0.0</td>\n",
       "      <td>0.0</td>\n",
       "      <td>0.0</td>\n",
       "      <td>0.0</td>\n",
       "      <td>0.000000</td>\n",
       "      <td>0.110495</td>\n",
       "      <td>0.115186</td>\n",
       "      <td>...</td>\n",
       "      <td>0.0</td>\n",
       "      <td>0.000000</td>\n",
       "      <td>0.0</td>\n",
       "      <td>0.0</td>\n",
       "      <td>0.0</td>\n",
       "      <td>0.000000</td>\n",
       "      <td>0.0</td>\n",
       "      <td>0.0</td>\n",
       "      <td>0.0</td>\n",
       "      <td>0.0</td>\n",
       "    </tr>\n",
       "  </tbody>\n",
       "</table>\n",
       "<p>5 rows × 349 columns</p>\n",
       "</div>"
      ],
      "text/plain": [
       "     coffee   good     great   like   love   order   place         $  \\\n",
       "0  0.000000    0.0  0.000000    0.0    0.0     0.0     0.0  0.000000   \n",
       "1  0.000000    0.0  0.000000    0.0    0.0     0.0     0.0  0.594406   \n",
       "2  0.096484    0.0  0.109175    0.0    0.0     0.0     0.0  0.000000   \n",
       "3  0.000000    0.0  0.000000    0.0    0.0     0.0     0.0  0.204585   \n",
       "4  0.000000    0.0  0.000000    0.0    0.0     0.0     0.0  0.000000   \n",
       "\n",
       "          1   1 check  ...  will      wine  wish  wonderful  work     worth  \\\n",
       "0  0.114926  0.119805  ...   0.0  0.231905   0.0        0.0   0.0  0.000000   \n",
       "1  0.000000  0.000000  ...   0.0  0.000000   0.0        0.0   0.0  0.000000   \n",
       "2  0.055287  0.057635  ...   0.0  0.000000   0.0        0.0   0.0  0.095285   \n",
       "3  0.000000  0.000000  ...   0.0  0.000000   0.0        0.0   0.0  0.000000   \n",
       "4  0.110495  0.115186  ...   0.0  0.000000   0.0        0.0   0.0  0.000000   \n",
       "\n",
       "   year  yelp  yes  yummy  \n",
       "0   0.0   0.0  0.0    0.0  \n",
       "1   0.0   0.0  0.0    0.0  \n",
       "2   0.0   0.0  0.0    0.0  \n",
       "3   0.0   0.0  0.0    0.0  \n",
       "4   0.0   0.0  0.0    0.0  \n",
       "\n",
       "[5 rows x 349 columns]"
      ]
     },
     "execution_count": 67,
     "metadata": {},
     "output_type": "execute_result"
    }
   ],
   "source": [
    "# Instantiate vectorizer object\n",
    "tfidf = TfidfVectorizer(tokenizer=tokenize, min_df=0.025, max_df=.98, ngram_range=(1,2))\n",
    "\n",
    "# Create a vocabulary and get word counts per document\n",
    "dtm = tfidf.fit_transform(text) # Similiar to fit_predict\n",
    "\n",
    "# Print word counts\n",
    "\n",
    "# Get feature names to use as dataframe column headers\n",
    "dtm = pd.DataFrame(dtm.todense(), columns=tfidf.get_feature_names())\n",
    "\n",
    "# View Feature Matrix as DataFrame\n",
    "print(dtm.shape)\n",
    "dtm.head()"
   ]
  },
  {
   "cell_type": "markdown",
   "metadata": {},
   "source": [
    "#### Query Documents by similarity"
   ]
  },
  {
   "cell_type": "code",
   "execution_count": 68,
   "metadata": {},
   "outputs": [
    {
     "data": {
      "text/plain": [
       "(7616, 7616)"
      ]
     },
     "execution_count": 68,
     "metadata": {},
     "output_type": "execute_result"
    }
   ],
   "source": [
    "# Calculate Distance of TF-IDF Vectors\n",
    "dist_matrix  = cosine_similarity(dtm)\n",
    "\n",
    "# Turn it into a DataFrame\n",
    "df = pd.DataFrame(dist_matrix)\n",
    "\n",
    "# Our Similarity Matrix is ? size \n",
    "df.shape"
   ]
  },
  {
   "cell_type": "code",
   "execution_count": 69,
   "metadata": {},
   "outputs": [
    {
     "data": {
      "text/plain": [
       "0       1.000000\n",
       "1101    1.000000\n",
       "3106    1.000000\n",
       "2008    1.000000\n",
       "2454    0.507130\n",
       "1790    0.448497\n",
       "348     0.445611\n",
       "3990    0.423308\n",
       "1167    0.421734\n",
       "7065    0.414734\n",
       "Name: 0, dtype: float64"
      ]
     },
     "execution_count": 69,
     "metadata": {},
     "output_type": "execute_result"
    }
   ],
   "source": [
    "# Each row is the similarity of one document to all other documents (including itself)\n",
    "# Grab the row\n",
    "df[0].sort_values(ascending=False)[:10]"
   ]
  },
  {
   "cell_type": "markdown",
   "metadata": {},
   "source": [
    "### When we compare results gathered from our Similarity Matrix we need to compare the index number to our original text object used to model with!"
   ]
  },
  {
   "cell_type": "code",
   "execution_count": 75,
   "metadata": {},
   "outputs": [
    {
     "name": "stdout",
     "output_type": "stream",
     "text": [
      " 11/25/2016 1 check-in Love love loved the atmosphere! Every corner of the coffee shop had its own style, and there were swings!!! I ordered the matcha latte, and it was muy fantastico! Ordering and getting my drink were pretty streamlined. I ordered on an iPad, which included all beverage selections that ranged from coffee to wine, desired level of sweetness, and a checkout system. I got my latte within minutes!  I was hoping for a typical heart or feather on my latte, but found myself listing out all the possibilities of what the art may be. Any ideas? \n"
     ]
    }
   ],
   "source": [
    "print(text[0][:1500])"
   ]
  },
  {
   "cell_type": "code",
   "execution_count": 76,
   "metadata": {},
   "outputs": [
    {
     "name": "stdout",
     "output_type": "stream",
     "text": [
      " 11/2/2015 I don't drink coffee, only tea so take this review as you wish. I ordered a hot chai latte and it was not good at all. I didn't even finish most of it. Maybe the coffee is better, but avoid ordering the chai latte. I noticed people who ordered lattes had pretty latte foam art - that was cool. \n"
     ]
    }
   ],
   "source": [
    "print(text[2454][:1500])"
   ]
  },
  {
   "cell_type": "code",
   "execution_count": 77,
   "metadata": {},
   "outputs": [
    {
     "name": "stdout",
     "output_type": "stream",
     "text": [
      " 10/14/2016 1 check-in I would love to give Houndstooth Coffee 4 stars since the baristas were so friendly and the atmosphere of the café was very cozy.  However the honey latte I ordered was pretty disappointing.  There was no honey flavor and had a funky taste...moreso like a hazelnut taste.  Maybe I have to try a different drink but the one I had didn't impress me. Honey soy latte \n"
     ]
    }
   ],
   "source": [
    "print(text[1167][:2000])"
   ]
  },
  {
   "cell_type": "markdown",
   "metadata": {},
   "source": []
  },
  {
   "cell_type": "code",
   "execution_count": 78,
   "metadata": {},
   "outputs": [
    {
     "data": {
      "text/html": [
       "<div>\n",
       "<style scoped>\n",
       "    .dataframe tbody tr th:only-of-type {\n",
       "        vertical-align: middle;\n",
       "    }\n",
       "\n",
       "    .dataframe tbody tr th {\n",
       "        vertical-align: top;\n",
       "    }\n",
       "\n",
       "    .dataframe thead th {\n",
       "        text-align: right;\n",
       "    }\n",
       "</style>\n",
       "<table border=\"1\" class=\"dataframe\">\n",
       "  <thead>\n",
       "    <tr style=\"text-align: right;\">\n",
       "      <th></th>\n",
       "      <th>coffee</th>\n",
       "      <th>good</th>\n",
       "      <th>great</th>\n",
       "      <th>like</th>\n",
       "      <th>love</th>\n",
       "      <th>order</th>\n",
       "      <th>place</th>\n",
       "      <th>$</th>\n",
       "      <th>1</th>\n",
       "      <th>1 check</th>\n",
       "      <th>...</th>\n",
       "      <th>will</th>\n",
       "      <th>wine</th>\n",
       "      <th>wish</th>\n",
       "      <th>wonderful</th>\n",
       "      <th>work</th>\n",
       "      <th>worth</th>\n",
       "      <th>year</th>\n",
       "      <th>yelp</th>\n",
       "      <th>yes</th>\n",
       "      <th>yummy</th>\n",
       "    </tr>\n",
       "  </thead>\n",
       "  <tbody>\n",
       "    <tr>\n",
       "      <th>0</th>\n",
       "      <td>0.000000</td>\n",
       "      <td>0.0</td>\n",
       "      <td>0.000000</td>\n",
       "      <td>0.0</td>\n",
       "      <td>0.0</td>\n",
       "      <td>0.0</td>\n",
       "      <td>0.0</td>\n",
       "      <td>0.000000</td>\n",
       "      <td>0.114926</td>\n",
       "      <td>0.119805</td>\n",
       "      <td>...</td>\n",
       "      <td>0.0</td>\n",
       "      <td>0.231905</td>\n",
       "      <td>0.0</td>\n",
       "      <td>0.0</td>\n",
       "      <td>0.0</td>\n",
       "      <td>0.000000</td>\n",
       "      <td>0.0</td>\n",
       "      <td>0.0</td>\n",
       "      <td>0.0</td>\n",
       "      <td>0.0</td>\n",
       "    </tr>\n",
       "    <tr>\n",
       "      <th>1</th>\n",
       "      <td>0.000000</td>\n",
       "      <td>0.0</td>\n",
       "      <td>0.000000</td>\n",
       "      <td>0.0</td>\n",
       "      <td>0.0</td>\n",
       "      <td>0.0</td>\n",
       "      <td>0.0</td>\n",
       "      <td>0.594406</td>\n",
       "      <td>0.000000</td>\n",
       "      <td>0.000000</td>\n",
       "      <td>...</td>\n",
       "      <td>0.0</td>\n",
       "      <td>0.000000</td>\n",
       "      <td>0.0</td>\n",
       "      <td>0.0</td>\n",
       "      <td>0.0</td>\n",
       "      <td>0.000000</td>\n",
       "      <td>0.0</td>\n",
       "      <td>0.0</td>\n",
       "      <td>0.0</td>\n",
       "      <td>0.0</td>\n",
       "    </tr>\n",
       "    <tr>\n",
       "      <th>2</th>\n",
       "      <td>0.096484</td>\n",
       "      <td>0.0</td>\n",
       "      <td>0.109175</td>\n",
       "      <td>0.0</td>\n",
       "      <td>0.0</td>\n",
       "      <td>0.0</td>\n",
       "      <td>0.0</td>\n",
       "      <td>0.000000</td>\n",
       "      <td>0.055287</td>\n",
       "      <td>0.057635</td>\n",
       "      <td>...</td>\n",
       "      <td>0.0</td>\n",
       "      <td>0.000000</td>\n",
       "      <td>0.0</td>\n",
       "      <td>0.0</td>\n",
       "      <td>0.0</td>\n",
       "      <td>0.095285</td>\n",
       "      <td>0.0</td>\n",
       "      <td>0.0</td>\n",
       "      <td>0.0</td>\n",
       "      <td>0.0</td>\n",
       "    </tr>\n",
       "    <tr>\n",
       "      <th>3</th>\n",
       "      <td>0.000000</td>\n",
       "      <td>0.0</td>\n",
       "      <td>0.000000</td>\n",
       "      <td>0.0</td>\n",
       "      <td>0.0</td>\n",
       "      <td>0.0</td>\n",
       "      <td>0.0</td>\n",
       "      <td>0.204585</td>\n",
       "      <td>0.000000</td>\n",
       "      <td>0.000000</td>\n",
       "      <td>...</td>\n",
       "      <td>0.0</td>\n",
       "      <td>0.000000</td>\n",
       "      <td>0.0</td>\n",
       "      <td>0.0</td>\n",
       "      <td>0.0</td>\n",
       "      <td>0.000000</td>\n",
       "      <td>0.0</td>\n",
       "      <td>0.0</td>\n",
       "      <td>0.0</td>\n",
       "      <td>0.0</td>\n",
       "    </tr>\n",
       "    <tr>\n",
       "      <th>4</th>\n",
       "      <td>0.000000</td>\n",
       "      <td>0.0</td>\n",
       "      <td>0.000000</td>\n",
       "      <td>0.0</td>\n",
       "      <td>0.0</td>\n",
       "      <td>0.0</td>\n",
       "      <td>0.0</td>\n",
       "      <td>0.000000</td>\n",
       "      <td>0.110495</td>\n",
       "      <td>0.115186</td>\n",
       "      <td>...</td>\n",
       "      <td>0.0</td>\n",
       "      <td>0.000000</td>\n",
       "      <td>0.0</td>\n",
       "      <td>0.0</td>\n",
       "      <td>0.0</td>\n",
       "      <td>0.000000</td>\n",
       "      <td>0.0</td>\n",
       "      <td>0.0</td>\n",
       "      <td>0.0</td>\n",
       "      <td>0.0</td>\n",
       "    </tr>\n",
       "  </tbody>\n",
       "</table>\n",
       "<p>5 rows × 349 columns</p>\n",
       "</div>"
      ],
      "text/plain": [
       "     coffee   good     great   like   love   order   place         $  \\\n",
       "0  0.000000    0.0  0.000000    0.0    0.0     0.0     0.0  0.000000   \n",
       "1  0.000000    0.0  0.000000    0.0    0.0     0.0     0.0  0.594406   \n",
       "2  0.096484    0.0  0.109175    0.0    0.0     0.0     0.0  0.000000   \n",
       "3  0.000000    0.0  0.000000    0.0    0.0     0.0     0.0  0.204585   \n",
       "4  0.000000    0.0  0.000000    0.0    0.0     0.0     0.0  0.000000   \n",
       "\n",
       "          1   1 check  ...  will      wine  wish  wonderful  work     worth  \\\n",
       "0  0.114926  0.119805  ...   0.0  0.231905   0.0        0.0   0.0  0.000000   \n",
       "1  0.000000  0.000000  ...   0.0  0.000000   0.0        0.0   0.0  0.000000   \n",
       "2  0.055287  0.057635  ...   0.0  0.000000   0.0        0.0   0.0  0.095285   \n",
       "3  0.000000  0.000000  ...   0.0  0.000000   0.0        0.0   0.0  0.000000   \n",
       "4  0.110495  0.115186  ...   0.0  0.000000   0.0        0.0   0.0  0.000000   \n",
       "\n",
       "   year  yelp  yes  yummy  \n",
       "0   0.0   0.0  0.0    0.0  \n",
       "1   0.0   0.0  0.0    0.0  \n",
       "2   0.0   0.0  0.0    0.0  \n",
       "3   0.0   0.0  0.0    0.0  \n",
       "4   0.0   0.0  0.0    0.0  \n",
       "\n",
       "[5 rows x 349 columns]"
      ]
     },
     "execution_count": 78,
     "metadata": {},
     "output_type": "execute_result"
    }
   ],
   "source": [
    "dtm.head()"
   ]
  },
  {
   "cell_type": "code",
   "execution_count": 79,
   "metadata": {},
   "outputs": [
    {
     "data": {
      "text/plain": [
       "NearestNeighbors(algorithm='kd_tree', leaf_size=30, metric='minkowski',\n",
       "                 metric_params=None, n_jobs=None, n_neighbors=5, p=2,\n",
       "                 radius=1.0)"
      ]
     },
     "execution_count": 79,
     "metadata": {},
     "output_type": "execute_result"
    }
   ],
   "source": [
    "# Fit on TF-IDF Vectors\n",
    "nn  = NearestNeighbors(n_neighbors=5, algorithm='kd_tree')\n",
    "nn.fit(dtm)"
   ]
  },
  {
   "cell_type": "code",
   "execution_count": 80,
   "metadata": {},
   "outputs": [
    {
     "data": {
      "text/plain": [
       "(array([[0.        , 0.82591028, 1.02162791, 1.05770741, 1.05950321]]),\n",
       " array([[ 356,  391, 1411,  352, 3282]]))"
      ]
     },
     "execution_count": 80,
     "metadata": {},
     "output_type": "execute_result"
    }
   ],
   "source": [
    "# Query Using kneighbors \n",
    "nn.kneighbors([dtm.iloc[356]])"
   ]
  },
  {
   "cell_type": "code",
   "execution_count": 88,
   "metadata": {},
   "outputs": [],
   "source": [
    "# Needs to be in a list\n",
    "coffee = [\"\"\"The service here is really great! Both the cashier and \n",
    "barista were very friendlyand answered my questions honestly and \n",
    "were eager to help. They even recommended me some great places \n",
    "for pastries! No wifi, but satisfies your coffee fix on the go!\"\"\"]"
   ]
  },
  {
   "cell_type": "code",
   "execution_count": 90,
   "metadata": {},
   "outputs": [
    {
     "data": {
      "text/plain": [
       "(array([[0.92760203, 1.02636151, 1.05858618, 1.08737613, 1.08764812]]),\n",
       " array([[4015, 5871, 5911, 1654, 1444]]))"
      ]
     },
     "execution_count": 90,
     "metadata": {},
     "output_type": "execute_result"
    }
   ],
   "source": [
    "# Query for Sim of Random doc to coffee reviews\n",
    "new = tfidf.transform(coffee)\n",
    "\n",
    "nn.kneighbors(new.todense())"
   ]
  },
  {
   "cell_type": "code",
   "execution_count": 91,
   "metadata": {},
   "outputs": [
    {
     "data": {
      "text/plain": [
       "' 11/15/2016 Great place.  Great service, and great location.  Clean, with good wifi.  Enjoy with confidence. '"
      ]
     },
     "execution_count": 91,
     "metadata": {},
     "output_type": "execute_result"
    }
   ],
   "source": [
    "# Inspect Most relevant result\n",
    "text[4015]"
   ]
  },
  {
   "cell_type": "markdown",
   "metadata": {},
   "source": [
    "### Apply word embedding models to create document vectors Word2Vec"
   ]
  },
  {
   "cell_type": "code",
   "execution_count": 96,
   "metadata": {},
   "outputs": [
    {
     "data": {
      "text/plain": [
       "array([[ 0.10161908, -0.01241551],\n",
       "       [ 0.23595356, -0.03244766],\n",
       "       [ 0.08638549, -0.02054393],\n",
       "       ...,\n",
       "       [ 0.41277916, -0.39005509],\n",
       "       [-0.25994691,  0.02415656],\n",
       "       [ 0.2644931 , -0.9035039 ]])"
      ]
     },
     "execution_count": 96,
     "metadata": {},
     "output_type": "execute_result"
    }
   ],
   "source": [
    "def get_word_vectors(words):\n",
    "    # converts a list of words into their word vectors\n",
    "    return [nlp(word).vector for word in words]\n",
    "\n",
    "words = ['car', 'truck', 'suv', 'race', 'elves', 'dragon', 'sword', 'king', 'queen', 'prince', 'horse', 'fish' , 'lion', 'tiger', 'lynx', 'potato']\n",
    "\n",
    "# intialise pca model and tell it to project data down onto 2 dimensions\n",
    "pca = PCA(n_components=2)\n",
    "\n",
    "# fit the pca model to our 300D data, this will work out which is the best \n",
    "# way to project the data down that will best maintain the relative distances \n",
    "# between data points. It will store these intructioons on how to transform the data.\n",
    "pca.fit(get_word_vectors(text))\n",
    "\n",
    "# Tell our (fitted) pca model to transform our 300D data down onto 2D using the \n",
    "# instructions it learnt during the fit phase.\n",
    "word_vecs_2d = pca.transform(get_word_vectors(text))\n",
    "\n",
    "# let's look at our new 2D word vectors\n",
    "word_vecs_2d"
   ]
  },
  {
   "cell_type": "markdown",
   "metadata": {},
   "source": [
    "#### Need to slice only the top words in plt.scatter"
   ]
  },
  {
   "cell_type": "code",
   "execution_count": 100,
   "metadata": {},
   "outputs": [
    {
     "data": {
      "image/png": "[encoded data removed]",
      "text/plain": [
       "<Figure size 1440x1080 with 1 Axes>"
      ]
     },
     "metadata": {
      "needs_background": "light"
     },
     "output_type": "display_data"
    }
   ],
   "source": [
    "# create a nice big plot \n",
    "plt.figure(figsize=(20,15))\n",
    "\n",
    "# plot the scatter plot of where the words will be\n",
    "plt.scatter(word_vecs_2d[:,0], word_vecs_2d[:,1])\n",
    "\n",
    "# for each word and coordinate pair: draw the text on the plot\n",
    "for word, coord in zip(word, word_vecs_2d):\n",
    "    x, y = coord\n",
    "    plt.text(x, y, word, size= 15)\n",
    "\n",
    "# show the plot\n",
    "plt.show()"
   ]
  },
  {
   "cell_type": "code",
   "execution_count": null,
   "metadata": {},
   "outputs": [],
   "source": []
  },
  {
   "cell_type": "markdown",
   "metadata": {},
   "source": [
    "# DAY 3\n",
    "\n",
    "Learning Objectives\n",
    "\n",
    "1. Text Feature Extraction & Classification Pipelines\n",
    "2. Latent Semantic Indexing\n",
    "3. Word Embeddings with Spacy\n"
   ]
  },
  {
   "cell_type": "code",
   "execution_count": 111,
   "metadata": {},
   "outputs": [],
   "source": [
    "# Create X and y\n",
    "trainX = shops['full_review_text']\n",
    "trainy = shops['star_rating']\n",
    "\n",
    "def tokenize(document):\n",
    "    doc = nlp(document)\n",
    "    return [token.lemma_.strip() for token in doc if (token.is_stop != True) and (token.is_punct != True)]"
   ]
  },
  {
   "cell_type": "code",
   "execution_count": 118,
   "metadata": {},
   "outputs": [
    {
     "name": "stdout",
     "output_type": "stream",
     "text": [
      "Fitting 5 folds for each of 12 candidates, totalling 60 fits\n"
     ]
    },
    {
     "name": "stderr",
     "output_type": "stream",
     "text": [
      "[Parallel(n_jobs=2)]: Using backend LokyBackend with 2 concurrent workers.\n",
      "[Parallel(n_jobs=2)]: Done  46 tasks      | elapsed:  2.2min\n",
      "[Parallel(n_jobs=2)]: Done  60 out of  60 | elapsed:  3.3min finished\n"
     ]
    },
    {
     "data": {
      "text/plain": [
       "GridSearchCV(cv=5, error_score=nan,\n",
       "             estimator=Pipeline(memory=None,\n",
       "                                steps=[('lsi',\n",
       "                                        Pipeline(memory=None,\n",
       "                                                 steps=[('vect',\n",
       "                                                         TfidfVectorizer(analyzer='word',\n",
       "                                                                         binary=False,\n",
       "                                                                         decode_error='strict',\n",
       "                                                                         dtype=<class 'numpy.float64'>,\n",
       "                                                                         encoding='utf-8',\n",
       "                                                                         input='content',\n",
       "                                                                         lowercase=True,\n",
       "                                                                         max_df=1.0,\n",
       "                                                                         max_features=None,\n",
       "                                                                         min_df=1,\n",
       "                                                                         ngram_range=(1,\n",
       "                                                                                      2),\n",
       "                                                                         norm='l2',\n",
       "                                                                         preprocessor=None,\n",
       "                                                                         smooth_...\n",
       "                                                               min_weight_fraction_leaf=0.0,\n",
       "                                                               n_estimators=100,\n",
       "                                                               n_jobs=None,\n",
       "                                                               oob_score=False,\n",
       "                                                               random_state=None,\n",
       "                                                               verbose=0,\n",
       "                                                               warm_start=False))],\n",
       "                                verbose=False),\n",
       "             iid='deprecated', n_jobs=2,\n",
       "             param_grid={'clf__n_estimators': (5, 10),\n",
       "                         'lsi__svd__n_components': (10, 50),\n",
       "                         'lsi__vect__max_df': (0.9, 0.95, 1.0)},\n",
       "             pre_dispatch='2*n_jobs', refit=True, return_train_score=False,\n",
       "             scoring=None, verbose=1)"
      ]
     },
     "execution_count": 118,
     "metadata": {},
     "output_type": "execute_result"
    }
   ],
   "source": [
    "vect = TfidfVectorizer( stop_words='english', ngram_range=(1,2))\n",
    "\n",
    "clf = RandomForestClassifier()\n",
    "\n",
    "#Latent Semantic Indexing\n",
    "svd = TruncatedSVD(n_components=100, \n",
    "                   algorithm='randomized',\n",
    "                   n_iter=10)\n",
    "\n",
    "# LSI\n",
    "lsi = Pipeline([('vect', vect), ('svd', svd)])\n",
    "\n",
    "# Pipe\n",
    "pipe = Pipeline([('lsi', lsi), ('clf', clf)])\n",
    "\n",
    "# Parameters\n",
    "params = { \n",
    "    'lsi__svd__n_components': (10,50),\n",
    "    'lsi__vect__max_df':(.9, .95, 1.0),\n",
    "    'clf__n_estimators':(5,10),\n",
    "}\n",
    "\n",
    "grid_search = GridSearchCV(pipe, params, cv=5, n_jobs=2, verbose=1)\n",
    "grid_search.fit(trainX, trainy)"
   ]
  },
  {
   "cell_type": "code",
   "execution_count": 119,
   "metadata": {},
   "outputs": [
    {
     "data": {
      "text/plain": [
       "0.5618382526543998"
      ]
     },
     "execution_count": 119,
     "metadata": {},
     "output_type": "execute_result"
    }
   ],
   "source": [
    "grid_search.best_score_"
   ]
  },
  {
   "cell_type": "markdown",
   "metadata": {},
   "source": [
    "# Day 4\n",
    "\n",
    "Learning Objective:\n",
    "\n",
    "1. Estimating LDA Models with Gensim"
   ]
  },
  {
   "cell_type": "code",
   "execution_count": 126,
   "metadata": {},
   "outputs": [],
   "source": [
    "def tokenize(document):\n",
    "    doc = nlp(document)\n",
    "    return [token.lemma_.strip() for token in doc if (token.is_stop != True) and (token.is_punct != True)]\n",
    "\n",
    "def doc_stream(path):\n",
    "    tokens = tokenize(str(text))\n",
    "    yield tokens"
   ]
  },
  {
   "cell_type": "code",
   "execution_count": 141,
   "metadata": {},
   "outputs": [],
   "source": [
    "# A Dictionary Representation of all the words in our corpus\n",
    "id2word = corpora.Dictionary(shops['lemmas'])"
   ]
  },
  {
   "cell_type": "code",
   "execution_count": 144,
   "metadata": {},
   "outputs": [
    {
     "data": {
      "text/plain": [
       "512"
      ]
     },
     "execution_count": 144,
     "metadata": {},
     "output_type": "execute_result"
    }
   ],
   "source": [
    "id2word.token2id['mocha']"
   ]
  },
  {
   "cell_type": "code",
   "execution_count": 148,
   "metadata": {},
   "outputs": [
    {
     "data": {
      "text/plain": [
       "18446"
      ]
     },
     "execution_count": 148,
     "metadata": {},
     "output_type": "execute_result"
    }
   ],
   "source": [
    "len(id2word.keys())"
   ]
  },
  {
   "cell_type": "code",
   "execution_count": 145,
   "metadata": {},
   "outputs": [],
   "source": [
    "corpus = [id2word.doc2bow(text) for text in doc_stream(shops['lemmas'])]"
   ]
  },
  {
   "cell_type": "code",
   "execution_count": 146,
   "metadata": {},
   "outputs": [],
   "source": [
    "lda = LdaMulticore(corpus=corpus,\n",
    "                   id2word=id2word,\n",
    "                   random_state=723812,\n",
    "                   num_topics = 15,\n",
    "                   passes=10,\n",
    "                   workers=4\n",
    "                  )"
   ]
  },
  {
   "cell_type": "code",
   "execution_count": 149,
   "metadata": {},
   "outputs": [
    {
     "data": {
      "text/plain": [
       "[(0,\n",
       "  '0.000*\"5/1/2015\" + 0.000*\"3.75/12\" + 0.000*\"Marathon\" + 0.000*\"Joint\" + 0.000*\"break-\" + 0.000*\"Renegade\" + 0.000*\"teenager\" + 0.000*\"streat\" + 0.000*\"Y\" + 0.000*\"blossom\"'),\n",
       " (1,\n",
       "  '0.000*\"5/1/2015\" + 0.000*\"3.75/12\" + 0.000*\"Marathon\" + 0.000*\"Joint\" + 0.000*\"break-\" + 0.000*\"Renegade\" + 0.000*\"teenager\" + 0.000*\"streat\" + 0.000*\"Y\" + 0.000*\"blossom\"'),\n",
       " (2,\n",
       "  '0.000*\"5/1/2015\" + 0.000*\"3.75/12\" + 0.000*\"Marathon\" + 0.000*\"Joint\" + 0.000*\"break-\" + 0.000*\"Renegade\" + 0.000*\"teenager\" + 0.000*\"streat\" + 0.000*\"Y\" + 0.000*\"blossom\"'),\n",
       " (3,\n",
       "  '0.000*\"5/1/2015\" + 0.000*\"3.75/12\" + 0.000*\"Marathon\" + 0.000*\"Joint\" + 0.000*\"break-\" + 0.000*\"Renegade\" + 0.000*\"teenager\" + 0.000*\"streat\" + 0.000*\"Y\" + 0.000*\"blossom\"'),\n",
       " (4,\n",
       "  '0.000*\"1\" + 0.000*\"check\" + 0.000*\"love\" + 0.000*\"list\" + 0.000*\"11/25/2016\" + 0.000*\"1/21/2016\" + 0.000*\"booth\" + 0.000*\"stop\" + 0.000*\"8/2/2015\" + 0.000*\"atm\"'),\n",
       " (5,\n",
       "  '0.000*\"5/1/2015\" + 0.000*\"3.75/12\" + 0.000*\"Marathon\" + 0.000*\"Joint\" + 0.000*\"break-\" + 0.000*\"Renegade\" + 0.000*\"teenager\" + 0.000*\"streat\" + 0.000*\"Y\" + 0.000*\"blossom\"'),\n",
       " (6,\n",
       "  '0.000*\"5/1/2015\" + 0.000*\"3.75/12\" + 0.000*\"Marathon\" + 0.000*\"Joint\" + 0.000*\"break-\" + 0.000*\"Renegade\" + 0.000*\"teenager\" + 0.000*\"streat\" + 0.000*\"Y\" + 0.000*\"blossom\"'),\n",
       " (7,\n",
       "  '0.000*\"5/1/2015\" + 0.000*\"3.75/12\" + 0.000*\"Marathon\" + 0.000*\"Joint\" + 0.000*\"break-\" + 0.000*\"Renegade\" + 0.000*\"teenager\" + 0.000*\"streat\" + 0.000*\"Y\" + 0.000*\"blossom\"'),\n",
       " (8,\n",
       "  '0.000*\"5/1/2015\" + 0.000*\"3.75/12\" + 0.000*\"Marathon\" + 0.000*\"Joint\" + 0.000*\"break-\" + 0.000*\"Renegade\" + 0.000*\"teenager\" + 0.000*\"streat\" + 0.000*\"Y\" + 0.000*\"blossom\"'),\n",
       " (9,\n",
       "  '0.003*\"1\" + 0.002*\"check\" + 0.002*\"love\" + 0.002*\"11/25/2016\" + 0.002*\"list\" + 0.001*\"length\" + 0.001*\"ok\" + 0.001*\"3\" + 0.001*\"Date\" + 0.001*\"cool\"'),\n",
       " (10,\n",
       "  '0.000*\"5/1/2015\" + 0.000*\"3.75/12\" + 0.000*\"Marathon\" + 0.000*\"Joint\" + 0.000*\"break-\" + 0.000*\"Renegade\" + 0.000*\"teenager\" + 0.000*\"streat\" + 0.000*\"Y\" + 0.000*\"blossom\"'),\n",
       " (11,\n",
       "  '0.000*\"5/1/2015\" + 0.000*\"3.75/12\" + 0.000*\"Marathon\" + 0.000*\"Joint\" + 0.000*\"break-\" + 0.000*\"Renegade\" + 0.000*\"teenager\" + 0.000*\"streat\" + 0.000*\"Y\" + 0.000*\"blossom\"'),\n",
       " (12,\n",
       "  '0.000*\"1\" + 0.000*\"check\" + 0.000*\"list\" + 0.000*\"11/25/2016\" + 0.000*\"Room\" + 0.000*\"love\" + 0.000*\"4/30/2015\" + 0.000*\"Love\" + 0.000*\"atm\" + 0.000*\"actually\"'),\n",
       " (13,\n",
       "  '0.000*\"5/1/2015\" + 0.000*\"3.75/12\" + 0.000*\"Marathon\" + 0.000*\"Joint\" + 0.000*\"break-\" + 0.000*\"Renegade\" + 0.000*\"teenager\" + 0.000*\"streat\" + 0.000*\"Y\" + 0.000*\"blossom\"'),\n",
       " (14,\n",
       "  '0.000*\"5/1/2015\" + 0.000*\"3.75/12\" + 0.000*\"Marathon\" + 0.000*\"Joint\" + 0.000*\"break-\" + 0.000*\"Renegade\" + 0.000*\"teenager\" + 0.000*\"streat\" + 0.000*\"Y\" + 0.000*\"blossom\"')]"
      ]
     },
     "execution_count": 149,
     "metadata": {},
     "output_type": "execute_result"
    }
   ],
   "source": [
    "lda.print_topics()"
   ]
  },
  {
   "cell_type": "code",
   "execution_count": 150,
   "metadata": {},
   "outputs": [
    {
     "name": "stdout",
     "output_type": "stream",
     "text": [
      "------ Topic 1 ------\n",
      "5/1/2015 3.75/12 Marathon Joint break-\n",
      "\n",
      "------ Topic 2 ------\n",
      "5/1/2015 3.75/12 Marathon Joint break-\n",
      "\n",
      "------ Topic 3 ------\n",
      "5/1/2015 3.75/12 Marathon Joint break-\n",
      "\n",
      "------ Topic 4 ------\n",
      "5/1/2015 3.75/12 Marathon Joint break-\n",
      "\n",
      "------ Topic 5 ------\n",
      "1 check love list 11/25/2016\n",
      "\n",
      "------ Topic 6 ------\n",
      "5/1/2015 3.75/12 Marathon Joint break-\n",
      "\n",
      "------ Topic 7 ------\n",
      "5/1/2015 3.75/12 Marathon Joint break-\n",
      "\n",
      "------ Topic 8 ------\n",
      "5/1/2015 3.75/12 Marathon Joint break-\n",
      "\n",
      "------ Topic 9 ------\n",
      "5/1/2015 3.75/12 Marathon Joint break-\n",
      "\n",
      "------ Topic 10 ------\n",
      "1 check love 11/25/2016 list\n",
      "\n",
      "------ Topic 11 ------\n",
      "5/1/2015 3.75/12 Marathon Joint break-\n",
      "\n",
      "------ Topic 12 ------\n",
      "5/1/2015 3.75/12 Marathon Joint break-\n",
      "\n",
      "------ Topic 13 ------\n",
      "1 check list 11/25/2016 Room\n",
      "\n",
      "------ Topic 14 ------\n",
      "5/1/2015 3.75/12 Marathon Joint break-\n",
      "\n",
      "------ Topic 15 ------\n",
      "5/1/2015 3.75/12 Marathon Joint break-\n",
      "\n"
     ]
    }
   ],
   "source": [
    "words = [re.findall(r'\"([^\"]*)\"',t[1]) for t in lda.print_topics()]\n",
    "topics = [' '.join(t[0:5]) for t in words]\n",
    "for id, t in enumerate(topics, start=1): \n",
    "    print(f\"------ Topic {id} ------\")\n",
    "    print(t, end=\"\\n\\n\")"
   ]
  },
  {
   "cell_type": "code",
   "execution_count": null,
   "metadata": {},
   "outputs": [],
   "source": []
  },
  {
   "cell_type": "code",
   "execution_count": 152,
   "metadata": {},
   "outputs": [],
   "source": [
    "distro = [lda[d] for d in corpus]\n",
    "\n",
    "def update(doc):\n",
    "        d_dist = {k:0 for k in range(0,15)}\n",
    "        for t in doc:\n",
    "            d_dist[t[0]] = t[1]\n",
    "        return d_dist\n",
    "    \n",
    "new_distro = [update(d) for d in distro]"
   ]
  },
  {
   "cell_type": "code",
   "execution_count": 155,
   "metadata": {},
   "outputs": [
    {
     "data": {
      "text/html": [
       "<div>\n",
       "<style scoped>\n",
       "    .dataframe tbody tr th:only-of-type {\n",
       "        vertical-align: middle;\n",
       "    }\n",
       "\n",
       "    .dataframe tbody tr th {\n",
       "        vertical-align: top;\n",
       "    }\n",
       "\n",
       "    .dataframe thead th {\n",
       "        text-align: right;\n",
       "    }\n",
       "</style>\n",
       "<table border=\"1\" class=\"dataframe\">\n",
       "  <thead>\n",
       "    <tr style=\"text-align: right;\">\n",
       "      <th></th>\n",
       "      <th>5/1/2015 3.75/12 Marathon Joint break-</th>\n",
       "      <th>5/1/2015 3.75/12 Marathon Joint break-</th>\n",
       "      <th>5/1/2015 3.75/12 Marathon Joint break-</th>\n",
       "      <th>5/1/2015 3.75/12 Marathon Joint break-</th>\n",
       "      <th>1 check love list 11/25/2016</th>\n",
       "      <th>5/1/2015 3.75/12 Marathon Joint break-</th>\n",
       "      <th>5/1/2015 3.75/12 Marathon Joint break-</th>\n",
       "      <th>5/1/2015 3.75/12 Marathon Joint break-</th>\n",
       "      <th>5/1/2015 3.75/12 Marathon Joint break-</th>\n",
       "      <th>1 check love 11/25/2016 list</th>\n",
       "      <th>5/1/2015 3.75/12 Marathon Joint break-</th>\n",
       "      <th>5/1/2015 3.75/12 Marathon Joint break-</th>\n",
       "      <th>1 check list 11/25/2016 Room</th>\n",
       "      <th>5/1/2015 3.75/12 Marathon Joint break-</th>\n",
       "      <th>5/1/2015 3.75/12 Marathon Joint break-</th>\n",
       "    </tr>\n",
       "  </thead>\n",
       "  <tbody>\n",
       "    <tr>\n",
       "      <th>0</th>\n",
       "      <td>0</td>\n",
       "      <td>0</td>\n",
       "      <td>0</td>\n",
       "      <td>0</td>\n",
       "      <td>0</td>\n",
       "      <td>0</td>\n",
       "      <td>0</td>\n",
       "      <td>0</td>\n",
       "      <td>0</td>\n",
       "      <td>0.983622</td>\n",
       "      <td>0</td>\n",
       "      <td>0</td>\n",
       "      <td>0</td>\n",
       "      <td>0</td>\n",
       "      <td>0</td>\n",
       "    </tr>\n",
       "  </tbody>\n",
       "</table>\n",
       "</div>"
      ],
      "text/plain": [
       "   5/1/2015 3.75/12 Marathon Joint break-  \\\n",
       "0                                       0   \n",
       "\n",
       "   5/1/2015 3.75/12 Marathon Joint break-  \\\n",
       "0                                       0   \n",
       "\n",
       "   5/1/2015 3.75/12 Marathon Joint break-  \\\n",
       "0                                       0   \n",
       "\n",
       "   5/1/2015 3.75/12 Marathon Joint break-  1 check love list 11/25/2016  \\\n",
       "0                                       0                             0   \n",
       "\n",
       "   5/1/2015 3.75/12 Marathon Joint break-  \\\n",
       "0                                       0   \n",
       "\n",
       "   5/1/2015 3.75/12 Marathon Joint break-  \\\n",
       "0                                       0   \n",
       "\n",
       "   5/1/2015 3.75/12 Marathon Joint break-  \\\n",
       "0                                       0   \n",
       "\n",
       "   5/1/2015 3.75/12 Marathon Joint break-  1 check love 11/25/2016 list  \\\n",
       "0                                       0                      0.983622   \n",
       "\n",
       "   5/1/2015 3.75/12 Marathon Joint break-  \\\n",
       "0                                       0   \n",
       "\n",
       "   5/1/2015 3.75/12 Marathon Joint break-  1 check list 11/25/2016 Room  \\\n",
       "0                                       0                             0   \n",
       "\n",
       "   5/1/2015 3.75/12 Marathon Joint break-  \\\n",
       "0                                       0   \n",
       "\n",
       "   5/1/2015 3.75/12 Marathon Joint break-  \n",
       "0                                       0  "
      ]
     },
     "execution_count": 155,
     "metadata": {},
     "output_type": "execute_result"
    }
   ],
   "source": [
    "df = pd.DataFrame.from_records(new_distro)\n",
    "\n",
    "df.columns = topics\n",
    "\n",
    "# df['aut'] = df.reset_index()['index'].apply(lambda x: x.split('_')[0]).tolist()\n",
    "\n",
    "df.head()"
   ]
  },
  {
   "cell_type": "code",
   "execution_count": 158,
   "metadata": {},
   "outputs": [
    {
     "data": {
      "text/plain": [
       "5/1/2015 3.75/12 Marathon Joint break-    0.000000\n",
       "5/1/2015 3.75/12 Marathon Joint break-    0.000000\n",
       "5/1/2015 3.75/12 Marathon Joint break-    0.000000\n",
       "5/1/2015 3.75/12 Marathon Joint break-    0.000000\n",
       "1 check love list 11/25/2016              0.000000\n",
       "5/1/2015 3.75/12 Marathon Joint break-    0.000000\n",
       "5/1/2015 3.75/12 Marathon Joint break-    0.000000\n",
       "5/1/2015 3.75/12 Marathon Joint break-    0.000000\n",
       "5/1/2015 3.75/12 Marathon Joint break-    0.000000\n",
       "1 check love 11/25/2016 list              0.983622\n",
       "5/1/2015 3.75/12 Marathon Joint break-    0.000000\n",
       "5/1/2015 3.75/12 Marathon Joint break-    0.000000\n",
       "1 check list 11/25/2016 Room              0.000000\n",
       "5/1/2015 3.75/12 Marathon Joint break-    0.000000\n",
       "5/1/2015 3.75/12 Marathon Joint break-    0.000000\n",
       "dtype: float64"
      ]
     },
     "execution_count": 158,
     "metadata": {},
     "output_type": "execute_result"
    }
   ],
   "source": [
    "df.mean()"
   ]
  },
  {
   "cell_type": "code",
   "execution_count": null,
   "metadata": {},
   "outputs": [],
   "source": [
    "from gensim.models.coherencemodel import CoherenceModel\n",
    "\n",
    "def compute_coherence_values(dictionary, corpus, path, limit, start=2, step=3, passes=5):\n",
    "    \"\"\"\n",
    "    Compute c_v coherence for various number of topics\n",
    "\n",
    "    Parameters:\n",
    "    ----------\n",
    "    dictionary : Gensim dictionary\n",
    "    corpus : Gensim corpus\n",
    "    path : path to input texts\n",
    "    limit : Max num of topics\n",
    "    passes: the number of times the entire lda model & coherence values are calculated\n",
    "\n",
    "    Returns:\n",
    "    -------\n",
    "    coherence_values : Coherence values corresponding to the LDA model with respective number of topics\n",
    "    \"\"\"\n",
    "    \n",
    "    coherence_values = []\n",
    "    \n",
    "    tokens = list(doc_stream(path))\n",
    "    \n",
    "    for iter_ in range(passes):\n",
    "        for num_topics in range(start, limit, step):\n",
    "            stream = doc_stream(path)\n",
    "            model = LdaMulticore(corpus=corpus, num_topics=num_topics, id2word=dictionary, workers=4)\n",
    "            coherencemodel = CoherenceModel(model=model,dictionary=dictionary,corpus=corpus, coherence='u_mass')\n",
    "            coherence_values.append({'pass': iter_, \n",
    "                                     'num_topics': num_topics, \n",
    "                                     'coherence_score': coherencemodel.get_coherence()\n",
    "                                    })\n",
    "\n",
    "    return coherence_values"
   ]
  },
  {
   "cell_type": "code",
   "execution_count": null,
   "metadata": {},
   "outputs": [],
   "source": [
    "# Can take a long time to run.\n",
    "coherence_values = compute_coherence_values(dictionary=id2word, \n",
    "                                                        corpus=corpus, \n",
    "                                                        path=path, \n",
    "                                                        start=2, \n",
    "                                                        limit=40, \n",
    "                                                        step=6,\n",
    "                                                        passes=40)"
   ]
  },
  {
   "cell_type": "code",
   "execution_count": null,
   "metadata": {},
   "outputs": [],
   "source": [
    "topic_coherence = pd.DataFrame.from_records(coherence_values)\n",
    "topic_coherence.head()"
   ]
  },
  {
   "cell_type": "code",
   "execution_count": null,
   "metadata": {},
   "outputs": [],
   "source": [
    "ax = sns.lineplot(x=\"num_topics\", y=\"coherence_score\", data=topic_coherence)"
   ]
  },
  {
   "cell_type": "code",
   "execution_count": null,
   "metadata": {},
   "outputs": [],
   "source": []
  }
 ],
 "metadata": {
  "kernelspec": {
   "display_name": "U4-S1-NLP (Python3)",
   "language": "python",
   "name": "u4-s1-nlp"
  },
  "language_info": {
   "codemirror_mode": {
    "name": "ipython",
    "version": 3
   },
   "file_extension": ".py",
   "mimetype": "text/x-python",
   "name": "python",
   "nbconvert_exporter": "python",
   "pygments_lexer": "ipython3",
   "version": "3.7.0"
  }
 },
 "nbformat": 4,
 "nbformat_minor": 4
}
