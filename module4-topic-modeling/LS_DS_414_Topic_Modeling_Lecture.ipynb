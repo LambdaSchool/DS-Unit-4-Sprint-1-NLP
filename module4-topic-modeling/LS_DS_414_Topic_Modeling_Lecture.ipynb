{
 "cells": [
  {
   "cell_type": "markdown",
   "metadata": {},
   "source": [
    "Lambda School Data Science\n",
    "\n",
    "*Unit 4, Sprint 1, Module 4*\n",
    "\n",
    "---"
   ]
  },
  {
   "cell_type": "markdown",
   "metadata": {},
   "source": [
    "# Topic Modeling (Prepare)"
   ]
  },
  {
   "cell_type": "markdown",
   "metadata": {},
   "source": [
    "# Latent Dirchilet Allocation (LDA) Models (Prepare)\n",
    "<a id=\"#p1\"></a>"
   ]
  },
  {
   "cell_type": "markdown",
   "metadata": {},
   "source": [
    "## Overview\n",
    "LDA is a \"generative probabilistic model\". \n",
    "\n",
    "Let's play with a modoel available [here](https://lettier.com/projects/lda-topic-modeling/)"
   ]
  },
  {
   "cell_type": "markdown",
   "metadata": {},
   "source": [
    "## Follow Along"
   ]
  },
  {
   "cell_type": "markdown",
   "metadata": {},
   "source": [
    "## Challenge "
   ]
  },
  {
   "cell_type": "markdown",
   "metadata": {},
   "source": [
    "# Estimating LDA Models with Gensim (Learn)\n",
    "<a id=\"#p1\"></a>"
   ]
  },
  {
   "cell_type": "markdown",
   "metadata": {
    "toc-hr-collapsed": true
   },
   "source": [
    "## Overview\n",
    "### A Litterary Introduction: *Jane Austen V. Charlotte Bronte*\n",
    "Despite being born nearly forty years apart, modern fans often pit Jane Austen & Charlotte Bronte against one another in a battle for litterary  supremacy. The battle centers around the topics of education for women, courting, and marriage. The authors' similiar backgrounds naturally draw comparisons, but the modern fascination is probably due to novelility of British women publishing novels during the early 19th century. \n",
    "\n",
    "Can we help close a litterary battle for supremacy and simply acknowledge that the authors addressed different topics and deserve to be acknowledged as excellent authors each in their own right?\n",
    "\n",
    "We're going to apply Latent Dirichlet Allocation a machine learning alogrithm for topic modeling to each of the author's novels to compare the distribution of topics in their novels."
   ]
  },
  {
   "cell_type": "code",
   "execution_count": 1,
   "metadata": {},
   "outputs": [],
   "source": [
    "import numpy as np\n",
    "import gensim\n",
    "import os\n",
    "import re\n",
    "\n",
    "from gensim.utils import simple_preprocess\n",
    "from gensim.parsing.preprocessing import STOPWORDS\n",
    "from gensim import corpora\n",
    "\n",
    "from gensim.models.ldamulticore import LdaMulticore\n",
    "\n",
    "import pandas as pd"
   ]
  },
  {
   "cell_type": "markdown",
   "metadata": {},
   "source": [
    "### Novel Data\n",
    "I grabbed the novel data pre-split into a bunch of smaller chuncks"
   ]
  },
  {
   "cell_type": "code",
   "execution_count": 2,
   "metadata": {},
   "outputs": [],
   "source": [
    "path = './data/austen-brontë-split'"
   ]
  },
  {
   "cell_type": "code",
   "execution_count": 5,
   "metadata": {},
   "outputs": [],
   "source": [
    "STOPWORDS = set(STOPWORDS).union(set(['said', 'mr', 'mrs']))\n",
    "\n",
    "def tokenize(text):\n",
    "    return [token for token in simple_preprocess(text) if token not in STOPWORDS]"
   ]
  },
  {
   "cell_type": "code",
   "execution_count": 3,
   "metadata": {},
   "outputs": [],
   "source": [
    "import os\n",
    "\n",
    "def gather_data(path_to_data): \n",
    "    data = []\n",
    "    \n",
    "    for f in os.listdir(path):\n",
    "        with open(os.path.join(path,f)) as t:\n",
    "            text = t.read().strip('\\n')\n",
    "            data.append(tokenize(str(text)))\n",
    "            \n",
    "    return data"
   ]
  },
  {
   "cell_type": "code",
   "execution_count": null,
   "metadata": {},
   "outputs": [],
   "source": []
  },
  {
   "cell_type": "code",
   "execution_count": 9,
   "metadata": {},
   "outputs": [],
   "source": [
    "df = pd.DataFrame()\n",
    "df['tokens'] = gather_data(path)"
   ]
  },
  {
   "cell_type": "code",
   "execution_count": 10,
   "metadata": {},
   "outputs": [
    {
     "data": {
      "text/plain": [
       "'this is a sample string with a  newline character'"
      ]
     },
     "execution_count": 10,
     "metadata": {},
     "output_type": "execute_result"
    }
   ],
   "source": [
    "\"this is a sample string with a \\n newline character\".replace('\\n', '')"
   ]
  },
  {
   "cell_type": "code",
   "execution_count": 11,
   "metadata": {},
   "outputs": [
    {
     "data": {
      "text/plain": [
       "0    [emma, jane, austen, volume, chapter, emma, wo...\n",
       "1    [taylor, wish, pity, weston, thought, agree, p...\n",
       "2    [behaved, charmingly, body, punctual, body, be...\n",
       "3    [native, highbury, born, respectable, family, ...\n",
       "4    [mention, handsome, letter, weston, received, ...\n",
       "Name: tokens, dtype: object"
      ]
     },
     "execution_count": 11,
     "metadata": {},
     "output_type": "execute_result"
    }
   ],
   "source": [
    "df['tokens'].head()"
   ]
  },
  {
   "cell_type": "markdown",
   "metadata": {
    "toc-hr-collapsed": true
   },
   "source": [
    "## Follow Along"
   ]
  },
  {
   "cell_type": "markdown",
   "metadata": {},
   "source": [
    "### Text Preprocessing\n",
    "**Challenge**: update the function `tokenize` with any technique you have learned so far this week. "
   ]
  },
  {
   "cell_type": "code",
   "execution_count": 22,
   "metadata": {},
   "outputs": [],
   "source": [
    "titles = [t[:-4] for t in os.listdir(path)]# if os.path.isdir(path) == False]"
   ]
  },
  {
   "cell_type": "code",
   "execution_count": 23,
   "metadata": {},
   "outputs": [
    {
     "data": {
      "text/plain": [
       "['Austen_Emma0000',\n",
       " 'Austen_Emma0001',\n",
       " 'Austen_Emma0002',\n",
       " 'Austen_Emma0003',\n",
       " 'Austen_Emma0004']"
      ]
     },
     "execution_count": 23,
     "metadata": {},
     "output_type": "execute_result"
    }
   ],
   "source": [
    "titles[:5]"
   ]
  },
  {
   "cell_type": "code",
   "execution_count": 24,
   "metadata": {},
   "outputs": [
    {
     "data": {
      "text/plain": [
       "['hello', 'world', 'test', 'tokenization', 'method']"
      ]
     },
     "execution_count": 24,
     "metadata": {},
     "output_type": "execute_result"
    }
   ],
   "source": [
    "tokenize(\"Hello World! This a test of the tokenization method\")"
   ]
  },
  {
   "cell_type": "markdown",
   "metadata": {},
   "source": [
    "### Author DataFrame\n"
   ]
  },
  {
   "cell_type": "code",
   "execution_count": 27,
   "metadata": {},
   "outputs": [],
   "source": [
    "df = pd.DataFrame(index=titles)"
   ]
  },
  {
   "cell_type": "code",
   "execution_count": 28,
   "metadata": {},
   "outputs": [
    {
     "data": {
      "text/html": [
       "<div>\n",
       "<style scoped>\n",
       "    .dataframe tbody tr th:only-of-type {\n",
       "        vertical-align: middle;\n",
       "    }\n",
       "\n",
       "    .dataframe tbody tr th {\n",
       "        vertical-align: top;\n",
       "    }\n",
       "\n",
       "    .dataframe thead th {\n",
       "        text-align: right;\n",
       "    }\n",
       "</style>\n",
       "<table border=\"1\" class=\"dataframe\">\n",
       "  <thead>\n",
       "    <tr style=\"text-align: right;\">\n",
       "      <th></th>\n",
       "    </tr>\n",
       "  </thead>\n",
       "  <tbody>\n",
       "    <tr>\n",
       "      <td>Austen_Emma0000</td>\n",
       "    </tr>\n",
       "    <tr>\n",
       "      <td>Austen_Emma0001</td>\n",
       "    </tr>\n",
       "    <tr>\n",
       "      <td>Austen_Emma0002</td>\n",
       "    </tr>\n",
       "    <tr>\n",
       "      <td>Austen_Emma0003</td>\n",
       "    </tr>\n",
       "    <tr>\n",
       "      <td>Austen_Emma0004</td>\n",
       "    </tr>\n",
       "  </tbody>\n",
       "</table>\n",
       "</div>"
      ],
      "text/plain": [
       "Empty DataFrame\n",
       "Columns: []\n",
       "Index: [Austen_Emma0000, Austen_Emma0001, Austen_Emma0002, Austen_Emma0003, Austen_Emma0004]"
      ]
     },
     "execution_count": 28,
     "metadata": {},
     "output_type": "execute_result"
    }
   ],
   "source": [
    "df.head()"
   ]
  },
  {
   "cell_type": "code",
   "execution_count": 29,
   "metadata": {},
   "outputs": [],
   "source": [
    "df['author'] = df.reset_index()['index'].apply(lambda x: x.split('_')[0]).tolist()\n",
    "df['book'] = df.reset_index()['index'].apply(lambda x: x.split('_')[1][:-4]).tolist()\n",
    "df['section'] = df.reset_index()['index'].apply(lambda x: x[-4:]).tolist()\n",
    "df['section'] = df['section'].astype('int')"
   ]
  },
  {
   "cell_type": "code",
   "execution_count": 30,
   "metadata": {},
   "outputs": [],
   "source": [
    "df['author'] = df['author'].map({'Austen':1, 'CBronte':0})"
   ]
  },
  {
   "cell_type": "code",
   "execution_count": 31,
   "metadata": {},
   "outputs": [
    {
     "data": {
      "text/plain": [
       "0    441\n",
       "1    372\n",
       "Name: author, dtype: int64"
      ]
     },
     "execution_count": 31,
     "metadata": {},
     "output_type": "execute_result"
    }
   ],
   "source": [
    "df.author.value_counts()"
   ]
  },
  {
   "cell_type": "markdown",
   "metadata": {},
   "source": [
    "### Streaming Documents\n",
    "Here we use a new pythonic thingy: the `yield` statement in our fucntion. This allows us to iterate over a bunch of documents without actually reading them into memory. You can see how we use this fucntion later on. "
   ]
  },
  {
   "cell_type": "code",
   "execution_count": 32,
   "metadata": {},
   "outputs": [],
   "source": [
    "def doc_stream(path):\n",
    "    for f in os.listdir(path):\n",
    "        with open(os.path.join(path,f)) as t:\n",
    "            text = t.read().strip('\\n')\n",
    "            tokens = tokenize(str(text))\n",
    "            yield tokens"
   ]
  },
  {
   "cell_type": "code",
   "execution_count": 33,
   "metadata": {},
   "outputs": [],
   "source": [
    "streaming_data = doc_stream(path)"
   ]
  },
  {
   "cell_type": "code",
   "execution_count": 35,
   "metadata": {},
   "outputs": [
    {
     "name": "stdout",
     "output_type": "stream",
     "text": [
      "<generator object doc_stream at 0x0000022E6E08C2A0>\n"
     ]
    }
   ],
   "source": [
    "print(streaming_data) # just a generator"
   ]
  },
  {
   "cell_type": "markdown",
   "metadata": {},
   "source": [
    "### Gensim LDA Topic Modeling"
   ]
  },
  {
   "cell_type": "code",
   "execution_count": 48,
   "metadata": {},
   "outputs": [],
   "source": [
    "# A Dictionary Representation of all the words in our corpus\n",
    "id2word = corpora.Dictionary(doc_stream(path))"
   ]
  },
  {
   "cell_type": "code",
   "execution_count": 49,
   "metadata": {},
   "outputs": [
    {
     "data": {
      "text/plain": [
       "3986"
      ]
     },
     "execution_count": 49,
     "metadata": {},
     "output_type": "execute_result"
    }
   ],
   "source": [
    "id2word.token2id['england']"
   ]
  },
  {
   "cell_type": "code",
   "execution_count": 50,
   "metadata": {},
   "outputs": [
    {
     "data": {
      "text/plain": [
       "[(2753, 1), (3986, 3), (6601, 1), (6818, 1)]"
      ]
     },
     "execution_count": 50,
     "metadata": {},
     "output_type": "execute_result"
    }
   ],
   "source": [
    "id2word.doc2bow(tokenize(\"This is a sample message Darcy England England England\"))"
   ]
  },
  {
   "cell_type": "code",
   "execution_count": 51,
   "metadata": {},
   "outputs": [
    {
     "data": {
      "text/plain": [
       "56"
      ]
     },
     "execution_count": 51,
     "metadata": {},
     "output_type": "execute_result"
    }
   ],
   "source": [
    "import sys\n",
    "sys.getsizeof(id2word)"
   ]
  },
  {
   "cell_type": "code",
   "execution_count": 52,
   "metadata": {},
   "outputs": [
    {
     "data": {
      "text/plain": [
       "22095"
      ]
     },
     "execution_count": 52,
     "metadata": {},
     "output_type": "execute_result"
    }
   ],
   "source": [
    "len(id2word.keys())"
   ]
  },
  {
   "cell_type": "code",
   "execution_count": 53,
   "metadata": {},
   "outputs": [],
   "source": [
    "# Let's remove extreme values from the dataset\n",
    "id2word.filter_extremes(no_below=10, no_above=0.85)"
   ]
  },
  {
   "cell_type": "code",
   "execution_count": 54,
   "metadata": {},
   "outputs": [
    {
     "data": {
      "text/plain": [
       "4924"
      ]
     },
     "execution_count": 54,
     "metadata": {},
     "output_type": "execute_result"
    }
   ],
   "source": [
    "len(id2word.keys())"
   ]
  },
  {
   "cell_type": "code",
   "execution_count": 55,
   "metadata": {},
   "outputs": [],
   "source": [
    "# a bag of words(bow) representation of our corpus\n",
    "# Note: we haven't actually read any text into memory here\n",
    "# althought abstracted away, tokenization IS happening in the doc_stream f(x)\n",
    "corpus = [id2word.doc2bow(text) for text in doc_stream(path)]"
   ]
  },
  {
   "cell_type": "code",
   "execution_count": null,
   "metadata": {},
   "outputs": [],
   "source": []
  },
  {
   "cell_type": "code",
   "execution_count": null,
   "metadata": {},
   "outputs": [],
   "source": []
  },
  {
   "cell_type": "code",
   "execution_count": 57,
   "metadata": {},
   "outputs": [],
   "source": [
    "lda = LdaMulticore(corpus=corpus,\n",
    "                   id2word=id2word,\n",
    "                   random_state=723812, # random state for multicore doesnt work in gensim\n",
    "                   num_topics = 15,\n",
    "                   passes=10,\n",
    "                   workers=4\n",
    "                  )"
   ]
  },
  {
   "cell_type": "code",
   "execution_count": 58,
   "metadata": {},
   "outputs": [
    {
     "data": {
      "text/plain": [
       "[(0,\n",
       "  '0.001*\"little\" + 0.001*\"miss\" + 0.001*\"day\" + 0.001*\"time\" + 0.001*\"good\" + 0.001*\"think\" + 0.001*\"like\" + 0.001*\"room\" + 0.001*\"night\" + 0.001*\"shall\"'),\n",
       " (1,\n",
       "  '0.008*\"elton\" + 0.008*\"good\" + 0.008*\"know\" + 0.007*\"man\" + 0.007*\"john\" + 0.005*\"like\" + 0.005*\"cold\" + 0.005*\"jane\" + 0.005*\"think\" + 0.005*\"time\"'),\n",
       " (2,\n",
       "  '0.008*\"thought\" + 0.007*\"good\" + 0.007*\"like\" + 0.006*\"sir\" + 0.005*\"god\" + 0.005*\"little\" + 0.005*\"know\" + 0.004*\"life\" + 0.004*\"course\" + 0.004*\"saw\"'),\n",
       " (3,\n",
       "  '0.009*\"know\" + 0.006*\"think\" + 0.005*\"good\" + 0.005*\"lucy\" + 0.005*\"little\" + 0.005*\"thought\" + 0.005*\"look\" + 0.004*\"time\" + 0.004*\"john\" + 0.004*\"shall\"'),\n",
       " (4,\n",
       "  '0.011*\"miss\" + 0.010*\"elizabeth\" + 0.010*\"jane\" + 0.007*\"know\" + 0.007*\"darcy\" + 0.007*\"think\" + 0.007*\"emma\" + 0.006*\"little\" + 0.005*\"weston\" + 0.005*\"bingley\"'),\n",
       " (5,\n",
       "  '0.016*\"little\" + 0.011*\"bessie\" + 0.008*\"miss\" + 0.008*\"room\" + 0.008*\"like\" + 0.006*\"long\" + 0.006*\"child\" + 0.006*\"reed\" + 0.005*\"eyes\" + 0.005*\"home\"'),\n",
       " (6,\n",
       "  '0.012*\"miss\" + 0.011*\"elizabeth\" + 0.010*\"temple\" + 0.009*\"gardiner\" + 0.009*\"master\" + 0.009*\"place\" + 0.007*\"pemberley\" + 0.006*\"brocklehurst\" + 0.006*\"aunt\" + 0.005*\"time\"'),\n",
       " (7,\n",
       "  '0.038*\"harriet\" + 0.018*\"emma\" + 0.014*\"miss\" + 0.011*\"elton\" + 0.009*\"think\" + 0.009*\"thing\" + 0.009*\"woodhouse\" + 0.007*\"thought\" + 0.006*\"good\" + 0.005*\"letter\"'),\n",
       " (8,\n",
       "  '0.014*\"rochester\" + 0.011*\"ingram\" + 0.008*\"door\" + 0.006*\"like\" + 0.006*\"heard\" + 0.005*\"thought\" + 0.005*\"long\" + 0.005*\"ladies\" + 0.005*\"room\" + 0.005*\"gentlemen\"'),\n",
       " (9,\n",
       "  '0.011*\"bretton\" + 0.010*\"dr\" + 0.010*\"little\" + 0.010*\"graham\" + 0.008*\"like\" + 0.008*\"lucy\" + 0.007*\"know\" + 0.007*\"think\" + 0.006*\"thought\" + 0.006*\"papa\"'),\n",
       " (10,\n",
       "  '0.014*\"emma\" + 0.008*\"knightley\" + 0.008*\"good\" + 0.007*\"little\" + 0.007*\"harriet\" + 0.006*\"time\" + 0.006*\"man\" + 0.006*\"think\" + 0.006*\"miss\" + 0.006*\"father\"'),\n",
       " (11,\n",
       "  '0.032*\"hunsden\" + 0.018*\"crimsworth\" + 0.008*\"man\" + 0.007*\"frances\" + 0.007*\"good\" + 0.006*\"like\" + 0.006*\"know\" + 0.006*\"come\" + 0.005*\"ll\" + 0.005*\"think\"'),\n",
       " (12,\n",
       "  '0.009*\"jane\" + 0.008*\"rochester\" + 0.008*\"sir\" + 0.007*\"like\" + 0.006*\"shall\" + 0.005*\"night\" + 0.005*\"know\" + 0.004*\"yes\" + 0.004*\"little\" + 0.004*\"john\"'),\n",
       " (13,\n",
       "  '0.006*\"little\" + 0.006*\"like\" + 0.004*\"thought\" + 0.004*\"day\" + 0.004*\"madame\" + 0.004*\"time\" + 0.004*\"long\" + 0.004*\"good\" + 0.003*\"hand\" + 0.003*\"room\"'),\n",
       " (14,\n",
       "  '0.014*\"elinor\" + 0.012*\"marianne\" + 0.008*\"sister\" + 0.006*\"mother\" + 0.006*\"know\" + 0.006*\"time\" + 0.006*\"edward\" + 0.005*\"think\" + 0.005*\"soon\" + 0.005*\"jennings\"')]"
      ]
     },
     "execution_count": 58,
     "metadata": {},
     "output_type": "execute_result"
    }
   ],
   "source": [
    "lda.print_topics()"
   ]
  },
  {
   "cell_type": "code",
   "execution_count": null,
   "metadata": {},
   "outputs": [],
   "source": []
  },
  {
   "cell_type": "code",
   "execution_count": 59,
   "metadata": {},
   "outputs": [],
   "source": [
    "words = [re.findall(r'\"([^\"]*)\"',t[1]) for t in lda.print_topics()]"
   ]
  },
  {
   "cell_type": "code",
   "execution_count": 60,
   "metadata": {},
   "outputs": [],
   "source": [
    "topics = [' '.join(t[0:5]) for t in words]"
   ]
  },
  {
   "cell_type": "code",
   "execution_count": 61,
   "metadata": {},
   "outputs": [
    {
     "name": "stdout",
     "output_type": "stream",
     "text": [
      "little miss day time good\n",
      "\n",
      "\n",
      "elton good know man john\n",
      "\n",
      "\n",
      "thought good like sir god\n",
      "\n",
      "\n",
      "know think good lucy little\n",
      "\n",
      "\n",
      "miss elizabeth jane know darcy\n",
      "\n",
      "\n",
      "little bessie miss room like\n",
      "\n",
      "\n",
      "miss elizabeth temple gardiner master\n",
      "\n",
      "\n",
      "harriet emma miss elton think\n",
      "\n",
      "\n",
      "rochester ingram door like heard\n",
      "\n",
      "\n",
      "bretton dr little graham like\n",
      "\n",
      "\n",
      "emma knightley good little harriet\n",
      "\n",
      "\n",
      "hunsden crimsworth man frances good\n",
      "\n",
      "\n",
      "jane rochester sir like shall\n",
      "\n",
      "\n",
      "little like thought day madame\n",
      "\n",
      "\n",
      "elinor marianne sister mother know\n",
      "\n",
      "\n"
     ]
    }
   ],
   "source": [
    "for t in topics: \n",
    "    print(t)\n",
    "    print(\"\\n\")"
   ]
  },
  {
   "cell_type": "markdown",
   "metadata": {},
   "source": [
    "## Challenge \n",
    "\n",
    "You will apply an LDA model to a customer review dataset to practice the fitting and estimation of LDA. "
   ]
  },
  {
   "cell_type": "markdown",
   "metadata": {},
   "source": [
    "# Interpret LDA Results (Learn)\n",
    "<a id=\"#p3\"></a>"
   ]
  },
  {
   "cell_type": "markdown",
   "metadata": {},
   "source": [
    "## Overview"
   ]
  },
  {
   "cell_type": "markdown",
   "metadata": {
    "toc-hr-collapsed": true
   },
   "source": [
    "## Follow Along"
   ]
  },
  {
   "cell_type": "markdown",
   "metadata": {},
   "source": [
    "### Topic Distance Visualization"
   ]
  },
  {
   "cell_type": "code",
   "execution_count": 62,
   "metadata": {},
   "outputs": [],
   "source": [
    "import pyLDAvis.gensim\n",
    "\n",
    "pyLDAvis.enable_notebook()"
   ]
  },
  {
   "cell_type": "code",
   "execution_count": 63,
   "metadata": {
    "scrolled": false
   },
   "outputs": [
    {
     "name": "stderr",
     "output_type": "stream",
     "text": [
      "c:\\users\\han-chung lee\\.virtualenvs\\ds-unit-4-sprint-1-nlp-o1ln3r8m\\lib\\site-packages\\pyLDAvis\\_prepare.py:257: FutureWarning: Sorting because non-concatenation axis is not aligned. A future version\n",
      "of pandas will change to not sort by default.\n",
      "\n",
      "To accept the future behavior, pass 'sort=False'.\n",
      "\n",
      "To retain the current behavior and silence the warning, pass 'sort=True'.\n",
      "\n",
      "  return pd.concat([default_term_info] + list(topic_dfs))\n"
     ]
    },
    {
     "data": {
      "text/html": [
       "\n",
       "<link rel=\"stylesheet\" type=\"text/css\" href=\"https://cdn.rawgit.com/bmabey/pyLDAvis/files/ldavis.v1.0.0.css\">\n",
       "\n",
       "\n",
       "<div id=\"ldavis_el18996823984675999604758501887\"></div>\n",
       "<script type=\"text/javascript\">\n",
       "\n",
       "var ldavis_el18996823984675999604758501887_data = {\"mdsDat\": {\"x\": [0.06506840686859271, -0.11512919175174725, -0.09436916904806666, 0.057648744041249665, -0.14024943404018916, 0.042130363863818715, -0.1365343524428872, 0.09152356014318383, 0.0161798266567976, 0.15447385081357776, 0.02578662190163977, 0.05597492669416218, -0.05758362082011107, 0.015352758694210458, 0.01972670842576842], \"y\": [-0.003686015050478045, -0.01843903476303365, -0.017453790649965394, 0.02074173692437266, 0.014891960019342534, 0.043363541610701474, 0.040975138649538764, 0.028860801821779837, 0.046218889317485475, -0.013205759586980479, 0.04769164857873194, 0.05244354553542939, 0.004954230981733082, -0.17844185109633334, -0.06891504229232417], \"topics\": [1, 2, 3, 4, 5, 6, 7, 8, 9, 10, 11, 12, 13, 14, 15], \"cluster\": [1, 1, 1, 1, 1, 1, 1, 1, 1, 1, 1, 1, 1, 1, 1], \"Freq\": [26.750070571899414, 19.15749168395996, 15.9107027053833, 11.194952964782715, 7.9494757652282715, 5.935664653778076, 2.939710855484009, 2.861299991607666, 2.1544485092163086, 1.9781088829040527, 1.4417741298675537, 0.8610720634460449, 0.5234021544456482, 0.32325634360313416, 0.01856853999197483]}, \"tinfo\": {\"Category\": [\"Default\", \"Default\", \"Default\", \"Default\", \"Default\", \"Default\", \"Default\", \"Default\", \"Default\", \"Default\", \"Default\", \"Default\", \"Default\", \"Default\", \"Default\", \"Default\", \"Default\", \"Default\", \"Default\", \"Default\", \"Default\", \"Default\", \"Default\", \"Default\", \"Default\", \"Default\", \"Default\", \"Default\", \"Default\", \"Default\", \"Topic1\", \"Topic1\", \"Topic1\", \"Topic1\", \"Topic1\", \"Topic1\", \"Topic1\", \"Topic1\", \"Topic1\", \"Topic1\", \"Topic1\", \"Topic1\", \"Topic1\", \"Topic1\", \"Topic1\", \"Topic1\", \"Topic1\", \"Topic1\", \"Topic1\", \"Topic1\", \"Topic1\", \"Topic1\", \"Topic1\", \"Topic1\", \"Topic1\", \"Topic1\", \"Topic1\", \"Topic1\", \"Topic1\", \"Topic1\", \"Topic1\", \"Topic1\", \"Topic1\", \"Topic1\", \"Topic1\", \"Topic1\", \"Topic1\", \"Topic1\", \"Topic1\", \"Topic1\", \"Topic1\", \"Topic1\", \"Topic1\", \"Topic1\", \"Topic1\", \"Topic1\", \"Topic1\", \"Topic1\", \"Topic1\", \"Topic1\", \"Topic1\", \"Topic1\", \"Topic1\", \"Topic1\", \"Topic1\", \"Topic1\", \"Topic1\", \"Topic1\", \"Topic1\", \"Topic1\", \"Topic1\", \"Topic1\", \"Topic1\", \"Topic1\", \"Topic1\", \"Topic1\", \"Topic1\", \"Topic1\", \"Topic1\", \"Topic1\", \"Topic1\", \"Topic1\", \"Topic1\", \"Topic1\", \"Topic1\", \"Topic1\", \"Topic1\", \"Topic1\", \"Topic1\", \"Topic1\", \"Topic1\", \"Topic1\", \"Topic2\", \"Topic2\", \"Topic2\", \"Topic2\", \"Topic2\", \"Topic2\", \"Topic2\", \"Topic2\", \"Topic2\", \"Topic2\", \"Topic2\", \"Topic2\", \"Topic2\", \"Topic2\", \"Topic2\", \"Topic2\", \"Topic2\", \"Topic2\", \"Topic2\", \"Topic2\", \"Topic2\", \"Topic2\", \"Topic2\", \"Topic2\", \"Topic2\", \"Topic2\", \"Topic2\", \"Topic2\", \"Topic2\", \"Topic2\", \"Topic2\", \"Topic2\", \"Topic2\", \"Topic2\", \"Topic2\", \"Topic2\", \"Topic2\", \"Topic2\", \"Topic2\", \"Topic2\", \"Topic2\", \"Topic2\", \"Topic2\", \"Topic2\", \"Topic2\", \"Topic2\", \"Topic2\", \"Topic2\", \"Topic2\", \"Topic2\", \"Topic2\", \"Topic2\", \"Topic2\", \"Topic2\", \"Topic2\", \"Topic2\", \"Topic2\", \"Topic2\", \"Topic2\", \"Topic2\", \"Topic2\", \"Topic2\", \"Topic2\", \"Topic2\", \"Topic3\", \"Topic3\", \"Topic3\", \"Topic3\", \"Topic3\", \"Topic3\", \"Topic3\", \"Topic3\", \"Topic3\", \"Topic3\", \"Topic3\", \"Topic3\", \"Topic3\", \"Topic3\", \"Topic3\", \"Topic3\", \"Topic3\", \"Topic3\", \"Topic3\", \"Topic3\", \"Topic3\", \"Topic3\", \"Topic3\", \"Topic3\", \"Topic3\", \"Topic3\", \"Topic3\", \"Topic3\", \"Topic3\", \"Topic3\", \"Topic3\", \"Topic3\", \"Topic3\", \"Topic3\", \"Topic3\", \"Topic3\", \"Topic3\", \"Topic3\", \"Topic3\", \"Topic3\", \"Topic3\", \"Topic3\", \"Topic3\", \"Topic3\", \"Topic3\", \"Topic3\", \"Topic3\", \"Topic3\", \"Topic3\", \"Topic3\", \"Topic3\", \"Topic3\", \"Topic3\", \"Topic3\", \"Topic3\", \"Topic3\", \"Topic3\", \"Topic3\", \"Topic3\", \"Topic3\", \"Topic4\", \"Topic4\", \"Topic4\", \"Topic4\", \"Topic4\", \"Topic4\", \"Topic4\", \"Topic4\", \"Topic4\", \"Topic4\", \"Topic4\", \"Topic4\", \"Topic4\", \"Topic4\", \"Topic4\", \"Topic4\", \"Topic4\", \"Topic4\", \"Topic4\", \"Topic4\", \"Topic4\", \"Topic4\", \"Topic4\", \"Topic4\", \"Topic4\", \"Topic4\", \"Topic4\", \"Topic4\", \"Topic4\", \"Topic4\", \"Topic4\", \"Topic4\", \"Topic4\", \"Topic4\", \"Topic4\", \"Topic4\", \"Topic4\", \"Topic4\", \"Topic4\", \"Topic4\", \"Topic4\", \"Topic4\", \"Topic4\", \"Topic4\", \"Topic4\", \"Topic4\", \"Topic4\", \"Topic4\", \"Topic4\", \"Topic4\", \"Topic4\", \"Topic4\", \"Topic4\", \"Topic4\", \"Topic4\", \"Topic4\", \"Topic4\", \"Topic4\", \"Topic4\", \"Topic4\", \"Topic4\", \"Topic4\", \"Topic4\", \"Topic4\", \"Topic4\", \"Topic4\", \"Topic4\", \"Topic4\", \"Topic4\", \"Topic4\", \"Topic4\", \"Topic5\", \"Topic5\", \"Topic5\", \"Topic5\", \"Topic5\", \"Topic5\", \"Topic5\", \"Topic5\", \"Topic5\", \"Topic5\", \"Topic5\", \"Topic5\", \"Topic5\", \"Topic5\", \"Topic5\", \"Topic5\", \"Topic5\", \"Topic5\", \"Topic5\", \"Topic5\", \"Topic5\", \"Topic5\", \"Topic5\", \"Topic5\", \"Topic5\", \"Topic5\", \"Topic5\", \"Topic5\", \"Topic5\", \"Topic5\", \"Topic5\", \"Topic5\", \"Topic5\", \"Topic5\", \"Topic5\", \"Topic5\", \"Topic5\", \"Topic5\", \"Topic5\", \"Topic5\", \"Topic5\", \"Topic5\", \"Topic5\", \"Topic5\", \"Topic5\", \"Topic5\", \"Topic5\", \"Topic5\", \"Topic5\", \"Topic5\", \"Topic5\", \"Topic5\", \"Topic5\", \"Topic5\", \"Topic5\", \"Topic5\", \"Topic5\", \"Topic5\", \"Topic5\", \"Topic5\", \"Topic5\", \"Topic5\", \"Topic5\", \"Topic5\", \"Topic5\", \"Topic5\", \"Topic5\", \"Topic5\", \"Topic5\", \"Topic5\", \"Topic5\", \"Topic6\", \"Topic6\", \"Topic6\", \"Topic6\", \"Topic6\", \"Topic6\", \"Topic6\", \"Topic6\", \"Topic6\", \"Topic6\", \"Topic6\", \"Topic6\", \"Topic6\", \"Topic6\", \"Topic6\", \"Topic6\", \"Topic6\", \"Topic6\", \"Topic6\", \"Topic6\", \"Topic6\", \"Topic6\", \"Topic6\", \"Topic6\", \"Topic6\", \"Topic6\", \"Topic6\", \"Topic6\", \"Topic6\", \"Topic6\", \"Topic6\", \"Topic6\", \"Topic6\", \"Topic6\", \"Topic6\", \"Topic6\", \"Topic6\", \"Topic6\", \"Topic6\", \"Topic6\", \"Topic6\", \"Topic6\", \"Topic6\", \"Topic6\", \"Topic6\", \"Topic6\", \"Topic6\", \"Topic6\", \"Topic6\", \"Topic6\", \"Topic6\", \"Topic6\", \"Topic6\", \"Topic6\", \"Topic6\", \"Topic6\", \"Topic6\", \"Topic6\", \"Topic6\", \"Topic6\", \"Topic7\", \"Topic7\", \"Topic7\", \"Topic7\", \"Topic7\", \"Topic7\", \"Topic7\", \"Topic7\", \"Topic7\", \"Topic7\", \"Topic7\", \"Topic7\", \"Topic7\", \"Topic7\", \"Topic7\", \"Topic7\", \"Topic7\", \"Topic7\", \"Topic7\", \"Topic7\", \"Topic7\", \"Topic7\", \"Topic7\", \"Topic7\", \"Topic7\", \"Topic7\", \"Topic7\", \"Topic7\", \"Topic7\", \"Topic7\", \"Topic7\", \"Topic7\", \"Topic7\", \"Topic7\", \"Topic7\", \"Topic7\", \"Topic7\", \"Topic7\", \"Topic7\", \"Topic7\", \"Topic7\", \"Topic7\", \"Topic7\", \"Topic7\", \"Topic7\", \"Topic7\", \"Topic7\", \"Topic7\", \"Topic7\", \"Topic7\", \"Topic7\", \"Topic7\", \"Topic7\", \"Topic7\", \"Topic7\", \"Topic7\", \"Topic7\", \"Topic7\", \"Topic7\", \"Topic7\", \"Topic7\", \"Topic7\", \"Topic7\", \"Topic7\", \"Topic7\", \"Topic7\", \"Topic8\", \"Topic8\", \"Topic8\", \"Topic8\", \"Topic8\", \"Topic8\", \"Topic8\", \"Topic8\", \"Topic8\", \"Topic8\", \"Topic8\", \"Topic8\", \"Topic8\", \"Topic8\", \"Topic8\", \"Topic8\", \"Topic8\", \"Topic8\", \"Topic8\", \"Topic8\", \"Topic8\", \"Topic8\", \"Topic8\", \"Topic8\", \"Topic8\", \"Topic8\", \"Topic8\", \"Topic8\", \"Topic8\", \"Topic8\", \"Topic8\", \"Topic8\", \"Topic8\", \"Topic8\", \"Topic8\", \"Topic8\", \"Topic8\", \"Topic8\", \"Topic8\", \"Topic8\", \"Topic8\", \"Topic8\", \"Topic8\", \"Topic8\", \"Topic8\", \"Topic8\", \"Topic8\", \"Topic8\", \"Topic8\", \"Topic8\", \"Topic8\", \"Topic8\", \"Topic8\", \"Topic8\", \"Topic8\", \"Topic8\", \"Topic8\", \"Topic8\", \"Topic8\", \"Topic8\", \"Topic8\", \"Topic8\", \"Topic8\", \"Topic9\", \"Topic9\", \"Topic9\", \"Topic9\", \"Topic9\", \"Topic9\", \"Topic9\", \"Topic9\", \"Topic9\", \"Topic9\", \"Topic9\", \"Topic9\", \"Topic9\", \"Topic9\", \"Topic9\", \"Topic9\", \"Topic9\", \"Topic9\", \"Topic9\", \"Topic9\", \"Topic9\", \"Topic9\", \"Topic9\", \"Topic9\", \"Topic9\", \"Topic9\", \"Topic9\", \"Topic9\", \"Topic9\", \"Topic9\", \"Topic9\", \"Topic9\", \"Topic9\", \"Topic9\", \"Topic9\", \"Topic9\", \"Topic9\", \"Topic9\", \"Topic9\", \"Topic9\", \"Topic9\", \"Topic9\", \"Topic9\", \"Topic9\", \"Topic9\", \"Topic9\", \"Topic9\", \"Topic9\", \"Topic9\", \"Topic9\", \"Topic9\", \"Topic9\", \"Topic9\", \"Topic9\", \"Topic9\", \"Topic9\", \"Topic9\", \"Topic9\", \"Topic9\", \"Topic9\", \"Topic9\", \"Topic9\", \"Topic9\", \"Topic9\", \"Topic9\", \"Topic9\", \"Topic9\", \"Topic9\", \"Topic9\", \"Topic9\", \"Topic9\", \"Topic9\", \"Topic9\", \"Topic10\", \"Topic10\", \"Topic10\", \"Topic10\", \"Topic10\", \"Topic10\", \"Topic10\", \"Topic10\", \"Topic10\", \"Topic10\", \"Topic10\", \"Topic10\", \"Topic10\", \"Topic10\", \"Topic10\", \"Topic10\", \"Topic10\", \"Topic10\", \"Topic10\", \"Topic10\", \"Topic10\", \"Topic10\", \"Topic10\", \"Topic10\", \"Topic10\", \"Topic10\", \"Topic10\", \"Topic10\", \"Topic10\", \"Topic10\", \"Topic10\", \"Topic10\", \"Topic10\", \"Topic10\", \"Topic10\", \"Topic10\", \"Topic10\", \"Topic10\", \"Topic10\", \"Topic10\", \"Topic10\", \"Topic10\", \"Topic10\", \"Topic10\", \"Topic10\", \"Topic10\", \"Topic10\", \"Topic10\", \"Topic10\", \"Topic10\", \"Topic10\", \"Topic10\", \"Topic10\", \"Topic10\", \"Topic10\", \"Topic10\", \"Topic10\", \"Topic10\", \"Topic10\", \"Topic10\", \"Topic10\", \"Topic10\", \"Topic11\", \"Topic11\", \"Topic11\", \"Topic11\", \"Topic11\", \"Topic11\", \"Topic11\", \"Topic11\", \"Topic11\", \"Topic11\", \"Topic11\", \"Topic11\", \"Topic11\", \"Topic11\", \"Topic11\", \"Topic11\", \"Topic11\", \"Topic11\", \"Topic11\", \"Topic11\", \"Topic11\", \"Topic11\", \"Topic11\", \"Topic11\", \"Topic11\", \"Topic11\", \"Topic11\", \"Topic11\", \"Topic11\", \"Topic11\", \"Topic11\", \"Topic11\", \"Topic11\", \"Topic11\", \"Topic11\", \"Topic11\", \"Topic11\", \"Topic11\", \"Topic11\", \"Topic11\", \"Topic11\", \"Topic11\", \"Topic11\", \"Topic11\", \"Topic11\", \"Topic11\", \"Topic11\", \"Topic11\", \"Topic11\", \"Topic11\", \"Topic11\", \"Topic11\", \"Topic11\", \"Topic11\", \"Topic11\", \"Topic11\", \"Topic12\", \"Topic12\", \"Topic12\", \"Topic12\", \"Topic12\", \"Topic12\", \"Topic12\", \"Topic12\", \"Topic12\", \"Topic12\", \"Topic12\", \"Topic12\", \"Topic12\", \"Topic12\", \"Topic12\", \"Topic12\", \"Topic12\", \"Topic12\", \"Topic12\", \"Topic12\", \"Topic12\", \"Topic12\", \"Topic12\", \"Topic12\", \"Topic12\", \"Topic12\", \"Topic12\", \"Topic12\", \"Topic12\", \"Topic12\", \"Topic12\", \"Topic12\", \"Topic12\", \"Topic12\", \"Topic12\", \"Topic12\", \"Topic12\", \"Topic12\", \"Topic12\", \"Topic12\", \"Topic12\", \"Topic12\", \"Topic12\", \"Topic12\", \"Topic12\", \"Topic12\", \"Topic12\", \"Topic12\", \"Topic12\", \"Topic12\", \"Topic12\", \"Topic12\", \"Topic12\", \"Topic12\", \"Topic12\", \"Topic12\", \"Topic12\", \"Topic12\", \"Topic12\", \"Topic12\", \"Topic12\", \"Topic12\", \"Topic12\", \"Topic12\", \"Topic12\", \"Topic12\", \"Topic12\", \"Topic12\", \"Topic12\", \"Topic12\", \"Topic12\", \"Topic12\", \"Topic12\", \"Topic12\", \"Topic12\", \"Topic12\", \"Topic13\", \"Topic13\", \"Topic13\", \"Topic13\", \"Topic13\", \"Topic13\", \"Topic13\", \"Topic13\", \"Topic13\", \"Topic13\", \"Topic13\", \"Topic13\", \"Topic13\", \"Topic13\", \"Topic13\", \"Topic13\", \"Topic13\", \"Topic13\", \"Topic13\", \"Topic13\", \"Topic13\", \"Topic13\", \"Topic13\", \"Topic13\", \"Topic13\", \"Topic13\", \"Topic13\", \"Topic13\", \"Topic13\", \"Topic13\", \"Topic13\", \"Topic13\", \"Topic13\", \"Topic13\", \"Topic13\", \"Topic13\", \"Topic13\", \"Topic13\", \"Topic13\", \"Topic13\", \"Topic13\", \"Topic13\", \"Topic13\", \"Topic13\", \"Topic13\", \"Topic13\", \"Topic13\", \"Topic13\", \"Topic13\", \"Topic13\", \"Topic13\", \"Topic13\", \"Topic13\", \"Topic13\", \"Topic13\", \"Topic13\", \"Topic13\", \"Topic13\", \"Topic13\", \"Topic13\", \"Topic13\", \"Topic13\", \"Topic13\", \"Topic13\", \"Topic13\", \"Topic13\", \"Topic13\", \"Topic13\", \"Topic13\", \"Topic13\", \"Topic13\", \"Topic13\", \"Topic13\", \"Topic13\", \"Topic13\", \"Topic13\", \"Topic14\", \"Topic14\", \"Topic14\", \"Topic14\", \"Topic14\", \"Topic14\", \"Topic14\", \"Topic14\", \"Topic14\", \"Topic14\", \"Topic14\", \"Topic14\", \"Topic14\", \"Topic14\", \"Topic14\", \"Topic14\", \"Topic14\", \"Topic14\", \"Topic14\", \"Topic14\", \"Topic14\", \"Topic14\", \"Topic14\", \"Topic14\", \"Topic14\", \"Topic14\", \"Topic14\", \"Topic14\", \"Topic14\", \"Topic14\", \"Topic14\", \"Topic14\", \"Topic14\", \"Topic14\", \"Topic14\", \"Topic14\", \"Topic14\", \"Topic14\", \"Topic14\", \"Topic14\", \"Topic14\", \"Topic14\", \"Topic14\", \"Topic14\", \"Topic14\", \"Topic14\", \"Topic14\", \"Topic14\", \"Topic14\", \"Topic14\", \"Topic14\", \"Topic14\", \"Topic14\", \"Topic14\", \"Topic14\", \"Topic14\", \"Topic14\", \"Topic14\", \"Topic14\", \"Topic15\", \"Topic15\", \"Topic15\", \"Topic15\", \"Topic15\", \"Topic15\", \"Topic15\", \"Topic15\", \"Topic15\", \"Topic15\", \"Topic15\", \"Topic15\", \"Topic15\", \"Topic15\", \"Topic15\", \"Topic15\", \"Topic15\", \"Topic15\", \"Topic15\", \"Topic15\", \"Topic15\", \"Topic15\", \"Topic15\", \"Topic15\", \"Topic15\", \"Topic15\", \"Topic15\", \"Topic15\", \"Topic15\", \"Topic15\", \"Topic15\", \"Topic15\", \"Topic15\", \"Topic15\", \"Topic15\", \"Topic15\", \"Topic15\", \"Topic15\", \"Topic15\", \"Topic15\", \"Topic15\", \"Topic15\", \"Topic15\", \"Topic15\", \"Topic15\", \"Topic15\", \"Topic15\", \"Topic15\", \"Topic15\", \"Topic15\", \"Topic15\", \"Topic15\", \"Topic15\", \"Topic15\", \"Topic15\", \"Topic15\", \"Topic15\", \"Topic15\", \"Topic15\", \"Topic15\", \"Topic15\", \"Topic15\", \"Topic15\", \"Topic15\", \"Topic15\", \"Topic15\", \"Topic15\", \"Topic15\", \"Topic15\", \"Topic15\", \"Topic15\", \"Topic15\", \"Topic15\", \"Topic15\", \"Topic15\", \"Topic15\", \"Topic15\", \"Topic15\", \"Topic15\", \"Topic15\"], \"Freq\": [637.0, 1537.0, 863.0, 522.0, 1735.0, 1336.0, 1357.0, 1430.0, 675.0, 1144.0, 946.0, 907.0, 558.0, 1320.0, 1315.0, 381.0, 367.0, 895.0, 510.0, 623.0, 602.0, 388.0, 790.0, 830.0, 932.0, 946.0, 1063.0, 412.0, 703.0, 760.0, 77.71751403808594, 37.41984939575195, 106.49409484863281, 28.211883544921875, 19.706378936767578, 108.06244659423828, 45.959922790527344, 49.54816818237305, 36.44749450683594, 104.62808227539062, 13.83549976348877, 59.972103118896484, 44.1594352722168, 16.43624496459961, 24.56456184387207, 11.815608978271484, 12.71213150024414, 21.882225036621094, 17.253623962402344, 50.96748352050781, 10.837626457214355, 19.779497146606445, 33.266197204589844, 11.632097244262695, 10.672303199768066, 23.115556716918945, 10.628600120544434, 28.191312789916992, 106.5255355834961, 15.84860897064209, 249.99708557128906, 137.91448974609375, 69.207763671875, 63.595787048339844, 56.34275436401367, 38.381099700927734, 336.9466247558594, 56.81489562988281, 149.98748779296875, 32.64017868041992, 81.17236328125, 59.26543426513672, 85.01848602294922, 51.06631088256836, 165.695068359375, 66.68415832519531, 89.93482971191406, 68.66513061523438, 117.03985595703125, 80.44676971435547, 117.47465515136719, 146.3554229736328, 103.9408950805664, 271.2642517089844, 461.09515380859375, 504.049072265625, 256.1731262207031, 171.45266723632812, 220.56263732910156, 337.1315612792969, 206.7698516845703, 178.24053955078125, 304.03125, 337.4807434082031, 151.77438354492188, 213.24497985839844, 265.52764892578125, 322.98651123046875, 228.6067657470703, 211.54718017578125, 202.44264221191406, 286.2964782714844, 195.02560424804688, 206.2406463623047, 198.46847534179688, 175.86834716796875, 203.47279357910156, 176.11354064941406, 229.17611694335938, 179.50428771972656, 187.43466186523438, 172.53135681152344, 174.22781372070312, 297.2294006347656, 38.27125549316406, 67.82296752929688, 70.37340545654297, 123.67530059814453, 24.297971725463867, 390.0967712402344, 34.357669830322266, 16.632904052734375, 13.795140266418457, 17.44566535949707, 10.887177467346191, 45.28348159790039, 294.34271240234375, 13.521836280822754, 40.609588623046875, 86.545654296875, 565.6548461914062, 32.24931716918945, 23.162689208984375, 26.386674880981445, 53.235679626464844, 35.36384963989258, 22.49701499938965, 21.37114715576172, 15.6983003616333, 19.651121139526367, 33.54572677612305, 117.31940460205078, 83.1279067993164, 298.72845458984375, 65.54572296142578, 51.877342224121094, 129.10350036621094, 530.888427734375, 153.5142364501953, 142.40478515625, 63.68999481201172, 113.15254211425781, 640.57568359375, 367.6204528808594, 191.84011840820312, 246.65426635742188, 177.38491821289062, 152.73179626464844, 210.1915283203125, 397.2776794433594, 230.24566650390625, 369.5223083496094, 281.2547607421875, 248.00978088378906, 270.3476257324219, 241.50770568847656, 209.79103088378906, 199.3243865966797, 288.13226318359375, 319.9132995605469, 270.2393493652344, 187.08441162109375, 212.95986938476562, 220.7316436767578, 204.1632843017578, 193.7582244873047, 225.080078125, 210.49386596679688, 75.43343353271484, 99.64531707763672, 548.8030395507812, 663.0372924804688, 139.34017944335938, 37.196800231933594, 26.514755249023438, 29.373628616333008, 23.543344497680664, 123.89441680908203, 84.78944396972656, 34.75948715209961, 18.638011932373047, 17.632356643676758, 34.4075813293457, 16.6688175201416, 15.725510597229004, 15.677053451538086, 24.929841995239258, 14.581446647644043, 43.514774322509766, 27.298574447631836, 219.97860717773438, 34.03396987915039, 264.7097473144531, 22.16683578491211, 14.637556076049805, 10.16861343383789, 216.60585021972656, 371.34564208984375, 112.36174011230469, 58.044212341308594, 290.6007385253906, 177.97410583496094, 38.43017578125, 117.39714050292969, 78.40573120117188, 62.13666915893555, 225.60679626464844, 278.332275390625, 122.62792205810547, 278.3639831542969, 163.5560302734375, 238.46559143066406, 174.94378662109375, 167.5045928955078, 149.0406036376953, 147.35670471191406, 214.58090209960938, 222.87429809570312, 140.82139587402344, 178.14511108398438, 155.94900512695312, 177.02548217773438, 153.32164001464844, 138.57968139648438, 138.3678741455078, 135.22117614746094, 60.79966735839844, 17.735183715820312, 19.54315757751465, 25.311092376708984, 90.40980529785156, 26.983678817749023, 11.664113998413086, 64.78333282470703, 34.30186462402344, 22.148656845092773, 21.008058547973633, 21.031160354614258, 11.112017631530762, 42.76892852783203, 22.963424682617188, 8.957046508789062, 11.632290840148926, 11.60908031463623, 14.030502319335938, 247.20587158203125, 7.342193126678467, 7.9900360107421875, 9.319652557373047, 11.146599769592285, 9.358455657958984, 117.70516967773438, 45.36592102050781, 18.258800506591797, 9.300541877746582, 8.818525314331055, 14.53441047668457, 20.783466339111328, 56.26769256591797, 73.08030700683594, 34.881404876708984, 244.9173126220703, 100.57080841064453, 66.94786071777344, 288.6230773925781, 32.03917694091797, 62.74584197998047, 68.77086639404297, 164.0828094482422, 71.67510223388672, 145.81039428710938, 140.11924743652344, 179.9683074951172, 212.58583068847656, 95.4483871459961, 136.08677673339844, 91.79117584228516, 139.27659606933594, 109.71175384521484, 125.1068344116211, 88.41287231445312, 113.86463165283203, 110.17169952392578, 122.46854400634766, 110.29316711425781, 151.4110107421875, 99.74809265136719, 104.41468811035156, 139.0156707763672, 130.5082244873047, 144.5398712158203, 122.6599349975586, 103.21604919433594, 115.6791763305664, 109.07884979248047, 106.67694091796875, 101.25711059570312, 42.97289276123047, 55.694942474365234, 15.145047187805176, 7.3922624588012695, 7.723047733306885, 6.65939998626709, 27.522686004638672, 5.8797760009765625, 20.912694931030273, 41.22703170776367, 7.210111141204834, 83.286865234375, 7.410824298858643, 9.948286056518555, 183.612060546875, 5.526036262512207, 12.700176239013672, 58.01609420776367, 38.596893310546875, 7.987758159637451, 16.318971633911133, 10.064593315124512, 19.11887550354004, 26.000938415527344, 22.422222137451172, 4.660189628601074, 9.793424606323242, 8.43698787689209, 4.984914779663086, 4.386368751525879, 12.984919548034668, 330.742919921875, 31.331199645996094, 165.80758666992188, 41.653846740722656, 33.489952087402344, 47.978031158447266, 31.960201263427734, 26.113752365112305, 114.69234466552734, 130.7350616455078, 84.83721160888672, 75.45268249511719, 98.05020904541016, 95.25664520263672, 34.212669372558594, 57.35088348388672, 49.09445571899414, 130.50718688964844, 64.11553192138672, 178.6970672607422, 136.26254272460938, 67.53919219970703, 117.71890258789062, 171.41163635253906, 92.47665405273438, 77.92947387695312, 93.85053253173828, 137.2747344970703, 134.46446228027344, 133.34417724609375, 79.614990234375, 85.37371063232422, 79.77249145507812, 73.48089599609375, 96.23128509521484, 76.9692153930664, 85.54566955566406, 73.06278991699219, 86.2425765991211, 77.68177032470703, 70.2589340209961, 58.66828536987305, 177.45263671875, 185.76564025878906, 167.66261291503906, 13.694950103759766, 12.960199356079102, 39.266841888427734, 15.973504066467285, 13.781450271606445, 53.76729965209961, 49.86646270751953, 18.51422882080078, 101.59969329833984, 17.58564567565918, 58.98755645751953, 35.64785385131836, 13.577873229980469, 6.887235641479492, 16.641937255859375, 5.339391708374023, 9.011509895324707, 6.441583156585693, 5.862215518951416, 5.806460857391357, 4.795788764953613, 5.160078525543213, 5.004714488983154, 6.641229152679443, 8.396434783935547, 13.6522798538208, 130.35870361328125, 20.412933349609375, 10.710498809814453, 96.50574493408203, 17.430009841918945, 172.0389862060547, 136.96788024902344, 17.100948333740234, 114.80255126953125, 120.42646026611328, 102.8810806274414, 52.17200469970703, 66.65914154052734, 59.61700439453125, 65.00028991699219, 56.747589111328125, 63.678619384765625, 38.58984375, 60.645118713378906, 44.08074188232422, 70.85631561279297, 73.64765167236328, 54.79805374145508, 56.93966293334961, 47.864749908447266, 51.12286376953125, 52.479488372802734, 48.13947296142578, 49.03791046142578, 321.2539978027344, 7.804513931274414, 41.55149459838867, 4.929324626922607, 5.975803375244141, 6.290352821350098, 3.9675140380859375, 3.9000391960144043, 3.6392316818237305, 38.63864517211914, 7.273571014404297, 18.052980422973633, 3.0192208290100098, 5.614793300628662, 3.617561101913452, 3.5407450199127197, 3.2106106281280518, 12.602072715759277, 8.732348442077637, 3.7659788131713867, 3.0198230743408203, 8.109188079833984, 9.876293182373047, 2.712327718734741, 95.2944564819336, 3.341658592224121, 7.835294246673584, 3.075709104537964, 2.530015230178833, 4.334612846374512, 72.95271301269531, 155.97991943359375, 31.933881759643555, 22.97660255432129, 7.0604023933410645, 10.374410629272461, 34.03005599975586, 8.796401023864746, 73.45564270019531, 115.70213317871094, 44.985877990722656, 15.363490104675293, 27.915748596191406, 39.97926712036133, 18.571069717407227, 33.84029006958008, 39.6141471862793, 73.45645904541016, 43.27825164794922, 60.25300216674805, 29.27066993713379, 34.59697341918945, 25.805681228637695, 36.01115417480469, 44.650779724121094, 53.197227478027344, 34.612457275390625, 38.83060073852539, 31.577390670776367, 33.53038787841797, 35.2365837097168, 39.299224853515625, 31.74603271484375, 33.09601974487305, 33.64889907836914, 33.7335319519043, 16.720142364501953, 12.488615036010742, 94.2048568725586, 24.236339569091797, 10.807315826416016, 11.983319282531738, 5.659947395324707, 9.912494659423828, 5.823467254638672, 5.655865669250488, 4.1153950691223145, 12.40294361114502, 48.89632797241211, 20.809602737426758, 28.23299217224121, 22.664230346679688, 7.3071675300598145, 15.962789535522461, 5.3480000495910645, 3.557973861694336, 4.71685791015625, 5.329838275909424, 5.177988052368164, 10.255908012390137, 3.8116517066955566, 4.4019365310668945, 14.663196563720703, 3.836473226547241, 4.325112342834473, 8.922603607177734, 12.077388763427734, 8.159706115722656, 30.288925170898438, 44.21146774291992, 13.640151977539062, 43.6741828918457, 50.54692459106445, 16.368574142456055, 13.207864761352539, 130.63584899902344, 26.404016494750977, 45.70291519165039, 63.98012161254883, 27.276323318481445, 16.778085708618164, 40.24085998535156, 45.705535888671875, 35.91494369506836, 54.13554382324219, 63.349212646484375, 66.83255767822266, 36.47175979614258, 31.5821475982666, 41.1898078918457, 45.536983489990234, 35.71868896484375, 29.909086227416992, 31.83688735961914, 30.51830291748047, 30.9156551361084, 27.65830421447754, 30.67861557006836, 29.858417510986328, 13.615410804748535, 11.277013778686523, 4.63882303237915, 5.123655319213867, 3.628319025039673, 14.640624046325684, 6.752925872802734, 4.054709434509277, 3.411154270172119, 5.011814594268799, 2.9040703773498535, 3.5619566440582275, 5.392049789428711, 3.34928560256958, 3.7169010639190674, 7.7093329429626465, 2.766369581222534, 9.162422180175781, 2.875434637069702, 3.066100835800171, 2.5947329998016357, 2.5142879486083984, 2.3108150959014893, 2.51159930229187, 2.891864776611328, 3.0469348430633545, 2.7026140689849854, 3.4709584712982178, 3.435163736343384, 4.47194242477417, 5.407346725463867, 19.554351806640625, 7.627248764038086, 13.845091819763184, 5.095147132873535, 9.426497459411621, 6.925227165222168, 6.535280704498291, 6.67551326751709, 19.58668327331543, 16.16629409790039, 8.794194221496582, 31.468990325927734, 20.135358810424805, 55.20439529418945, 29.396709442138672, 6.3867716789245605, 23.360260009765625, 27.202577590942383, 23.311321258544922, 25.453216552734375, 19.743412017822266, 35.42285919189453, 24.57802963256836, 33.67876052856445, 19.678157806396484, 13.11989974975586, 29.401351928710938, 25.910301208496094, 31.33693504333496, 14.884454727172852, 27.635610580444336, 20.323158264160156, 20.225500106811523, 24.878931045532227, 20.737812042236328, 20.344213485717773, 25.129175186157227, 24.131105422973633, 21.014738082885742, 20.416061401367188, 19.12176513671875, 18.10453224182129, 27.328500747680664, 27.079524993896484, 18.58148956298828, 64.47563171386719, 27.242795944213867, 11.68700122833252, 13.162894248962402, 14.146376609802246, 8.605552673339844, 7.4642791748046875, 9.677680015563965, 6.251646041870117, 4.482883930206299, 4.528042316436768, 5.260776519775391, 4.384836196899414, 5.329167366027832, 4.302316188812256, 3.186249256134033, 6.900993347167969, 15.064286231994629, 6.2782769203186035, 3.981219530105591, 3.165527582168579, 5.949203968048096, 9.930557250976562, 7.351184844970703, 4.023636817932129, 3.783933162689209, 2.8614325523376465, 8.8442964553833, 80.74055480957031, 25.479406356811523, 28.077133178710938, 14.321793556213379, 24.9738712310791, 8.078600883483887, 47.75030517578125, 28.96075439453125, 20.714780807495117, 17.625782012939453, 9.920531272888184, 27.972949981689453, 19.126264572143555, 33.7330322265625, 23.718875885009766, 20.893970489501953, 19.273468017578125, 16.2174015045166, 35.736976623535156, 29.37168312072754, 28.306861877441406, 30.225000381469727, 18.07988739013672, 23.606430053710938, 21.672758102416992, 24.055057525634766, 23.665348052978516, 21.917558670043945, 18.853971481323242, 18.649473190307617, 18.17153549194336, 132.84605407714844, 73.66754913330078, 10.712327003479004, 12.995834350585938, 9.834525108337402, 10.170348167419434, 12.233199119567871, 7.281548976898193, 8.540885925292969, 9.25118350982666, 7.315145492553711, 6.484087944030762, 7.703155994415283, 4.621020317077637, 7.357337951660156, 4.418037414550781, 30.48726463317871, 3.412278175354004, 5.006678104400635, 3.7267467975616455, 10.539323806762695, 11.710173606872559, 2.6793739795684814, 4.697226524353027, 3.71484112739563, 5.481491565704346, 2.5414910316467285, 3.593379020690918, 3.076568603515625, 18.734411239624023, 7.59542179107666, 5.339506149291992, 7.683352470397949, 21.793136596679688, 5.1877546310424805, 12.252382278442383, 31.708932876586914, 25.551921844482422, 11.674285888671875, 29.226381301879883, 26.829618453979492, 26.738658905029297, 12.66618537902832, 18.82861328125, 19.2672176361084, 14.690644264221191, 14.765701293945312, 15.000690460205078, 16.82683753967285, 13.886343002319336, 12.197334289550781, 12.955520629882812, 11.786877632141113, 11.534976959228516, 11.320505142211914, 10.88046932220459, 5.903450965881348, 5.04152250289917, 4.236121654510498, 2.3633344173431396, 1.7235345840454102, 1.7183105945587158, 1.7215924263000488, 2.215745210647583, 3.4026291370391846, 2.5811805725097656, 1.7656705379486084, 2.0415539741516113, 1.7202366590499878, 2.5534234046936035, 3.155669689178467, 4.6085920333862305, 1.7221777439117432, 2.1110239028930664, 1.6569981575012207, 1.7279728651046753, 1.7293957471847534, 1.7178146839141846, 1.6988856792449951, 1.7251054048538208, 1.7323484420776367, 1.5321531295776367, 1.6437904834747314, 1.717918872833252, 1.3414841890335083, 1.5815417766571045, 3.4377894401550293, 2.276413917541504, 2.9051246643066406, 3.0161385536193848, 3.5358660221099854, 8.65783977508545, 13.077876091003418, 3.3840670585632324, 2.557326078414917, 3.917311191558838, 3.296128273010254, 3.3912415504455566, 4.361896991729736, 10.849682807922363, 14.20544147491455, 5.989029884338379, 19.380334854125977, 8.479747772216797, 4.441213130950928, 18.36566162109375, 4.196021556854248, 17.5655517578125, 11.258248329162598, 8.390176773071289, 9.936620712280273, 6.6117072105407715, 6.04218864440918, 10.215507507324219, 10.373729705810547, 9.643988609313965, 5.2359938621521, 12.002434730529785, 8.513439178466797, 12.031726837158203, 7.631599426269531, 9.630825996398926, 7.783397197723389, 8.096630096435547, 8.688939094543457, 7.8062567710876465, 7.739322185516357, 8.035725593566895, 6.852280616760254, 6.196507930755615, 6.30811071395874, 6.302767276763916, 2.2693042755126953, 2.201998233795166, 3.3629837036132812, 1.5111476182937622, 1.495484709739685, 1.5158382654190063, 1.4721565246582031, 1.4691803455352783, 1.5329854488372803, 1.4172254800796509, 2.271129608154297, 1.4180636405944824, 1.5272722244262695, 2.196333885192871, 1.485595703125, 1.5193198919296265, 1.5208745002746582, 1.5286219120025635, 1.4607057571411133, 0.7928479909896851, 1.3889058828353882, 0.7847567200660706, 0.7825008630752563, 0.783338189125061, 0.7863551378250122, 0.7916495203971863, 0.7925767302513123, 2.142958879470825, 0.7817692160606384, 1.496307611465454, 1.524283528327942, 1.507158875465393, 1.5203477144241333, 1.5304129123687744, 1.4898693561553955, 4.363652229309082, 2.237858533859253, 2.274411678314209, 4.475385665893555, 11.804041862487793, 2.157160520553589, 2.1668245792388916, 6.202927589416504, 7.5348334312438965, 2.9114019870758057, 3.470527172088623, 10.44730281829834, 3.5106210708618164, 3.735666036605835, 11.183128356933594, 5.739198684692383, 6.752511024475098, 11.729402542114258, 11.675698280334473, 6.1508612632751465, 6.053011417388916, 7.498884201049805, 3.6614444255828857, 5.254376411437988, 8.035907745361328, 3.5445635318756104, 7.483275890350342, 6.884219646453857, 6.206613063812256, 6.24172306060791, 6.95193338394165, 4.355969429016113, 4.348024845123291, 4.819768905639648, 4.7623186111450195, 4.299081325531006, 4.3444504737854, 4.110264778137207, 4.22879695892334, 4.015854835510254, 4.062740325927734, 3.6917521953582764, 2.7169108390808105, 6.936927795410156, 1.4691267013549805, 9.3590087890625, 1.4739292860031128, 1.5112383365631104, 2.210458517074585, 2.831993579864502, 1.149510383605957, 5.366012096405029, 4.740633010864258, 2.911895751953125, 8.707067489624023, 2.2703969478607178, 1.1908963918685913, 1.1522955894470215, 1.4723148345947266, 0.7662097215652466, 0.7601773142814636, 0.7583359479904175, 3.659623384475708, 0.7635065913200378, 0.7600244879722595, 0.7599707841873169, 0.7605017423629761, 0.761004626750946, 1.27256178855896, 0.7578449249267578, 0.7582470774650574, 1.1423108577728271, 2.181366205215454, 2.5099878311157227, 1.476316213607788, 8.505059242248535, 1.7393747568130493, 1.4438787698745728, 4.108961582183838, 5.334354400634766, 2.685417413711548, 10.304422378540039, 8.240368843078613, 2.6852357387542725, 4.961979866027832, 11.237903594970703, 3.200029134750366, 3.586686611175537, 3.211289882659912, 3.520756483078003, 5.0541486740112305, 4.2655181884765625, 2.5844621658325195, 4.382176876068115, 3.743337392807007, 4.018986701965332, 3.1978957653045654, 3.2958412170410156, 3.1005051136016846, 2.852856159210205, 0.00996402744203806, 0.009781873784959316, 0.009361575357615948, 0.009588182903826237, 0.010223554447293282, 0.010092275217175484, 0.010101985186338425, 0.00973517820239067, 0.009607198648154736, 0.009511698968708515, 0.009978994727134705, 0.009357014670968056, 0.009363452903926373, 0.009859785437583923, 0.009713090024888515, 0.009477408602833748, 0.00942300260066986, 0.009210700169205666, 0.00965612381696701, 0.009381874464452267, 0.009596343152225018, 0.009430221281945705, 0.009310238994657993, 0.009566247463226318, 0.009359229356050491, 0.00942673347890377, 0.009378163143992424, 0.00942186824977398, 0.0093581173568964, 0.009650180116295815, 0.009646261110901833, 0.009502006694674492, 0.01024213433265686, 0.009620423428714275, 0.009618939831852913, 0.011127587407827377, 0.01000185590237379, 0.009956126101315022, 0.011681298725306988, 0.009948058985173702, 0.010695124976336956, 0.01058919820934534, 0.00960775837302208, 0.06827584654092789, 0.01083027757704258, 0.05964681878685951, 0.041529323905706406, 0.04993191733956337, 0.010211058892309666, 0.04023534432053566, 0.04992285370826721, 0.04930819571018219, 0.03671334311366081, 0.047929588705301285, 0.042043473571538925, 0.03697560727596283, 0.033107854425907135, 0.04533954709768295, 0.04047596454620361, 0.03672094643115997, 0.03262213245034218, 0.030171535909175873, 0.031078968197107315, 0.03482602909207344, 0.03499915450811386, 0.037993598729372025, 0.02443057857453823, 0.033831916749477386, 0.022941412404179573, 0.03876828774809837, 0.03189518302679062, 0.03308895230293274, 0.02742353267967701, 0.034205228090286255, 0.031097691506147385, 0.03163400664925575, 0.031851876527071, 0.030962219461798668, 0.03347738832235336, 0.03236008435487747], \"Term\": [\"elizabeth\", \"miss\", \"emma\", \"harriet\", \"little\", \"like\", \"good\", \"know\", \"elinor\", \"thought\", \"jane\", \"man\", \"marianne\", \"time\", \"think\", \"elton\", \"rochester\", \"room\", \"place\", \"john\", \"sir\", \"knightley\", \"thing\", \"great\", \"shall\", \"long\", \"day\", \"darcy\", \"looked\", \"house\", \"reuter\", \"estrade\", \"pelet\", \"tout\", \"paletot\", \"mdlle\", \"bien\", \"ce\", \"une\", \"est\", \"grec\", \"que\", \"directress\", \"zelie\", \"elle\", \"fait\", \"trained\", \"temples\", \"surveillance\", \"henri\", \"voila\", \"donc\", \"ne\", \"plus\", \"incapacity\", \"moi\", \"superintendent\", \"qu\", \"vous\", \"berceau\", \"monsieur\", \"pupils\", \"teachers\", \"je\", \"classe\", \"il\", \"madame\", \"lessons\", \"paul\", \"nose\", \"pupil\", \"lesson\", \"desk\", \"pas\", \"english\", \"class\", \"mademoiselle\", \"et\", \"beck\", \"emanuel\", \"garden\", \"school\", \"french\", \"hand\", \"like\", \"little\", \"eyes\", \"round\", \"door\", \"day\", \"face\", \"eye\", \"long\", \"thought\", \"light\", \"knew\", \"room\", \"time\", \"looked\", \"heart\", \"night\", \"good\", \"half\", \"came\", \"felt\", \"went\", \"saw\", \"took\", \"know\", \"life\", \"house\", \"come\", \"collins\", \"bingley\", \"bourgh\", \"lucas\", \"netherfield\", \"catherine\", \"hunsford\", \"darcy\", \"fitzwilliam\", \"coles\", \"kent\", \"weymouth\", \"judgement\", \"rosings\", \"bennet\", \"lucases\", \"dixon\", \"lizzy\", \"elizabeth\", \"hurst\", \"campbells\", \"maple\", \"cole\", \"hertfordshire\", \"james\", \"saturday\", \"dances\", \"maria\", \"nephew\", \"bates\", \"charlotte\", \"weston\", \"longbourn\", \"dancing\", \"wickham\", \"jane\", \"frank\", \"churchill\", \"ball\", \"aunt\", \"miss\", \"emma\", \"fairfax\", \"dear\", \"elton\", \"woodhouse\", \"father\", \"know\", \"lady\", \"think\", \"soon\", \"thing\", \"shall\", \"great\", \"young\", \"sure\", \"good\", \"little\", \"time\", \"oh\", \"room\", \"day\", \"man\", \"come\", \"jennings\", \"willoughby\", \"palmer\", \"middleton\", \"marianne\", \"elinor\", \"brandon\", \"steele\", \"cleveland\", \"steeles\", \"brighton\", \"ferrars\", \"barton\", \"margaret\", \"middletons\", \"allenham\", \"dashwoods\", \"berkeley\", \"combe\", \"harley\", \"devonshire\", \"exeter\", \"fanny\", \"delaford\", \"dashwood\", \"forster\", \"edward\", \"regiment\", \"tomorrow\", \"luckily\", \"colonel\", \"sister\", \"lydia\", \"cottage\", \"mother\", \"lucy\", \"norland\", \"town\", \"behaviour\", \"engagement\", \"soon\", \"time\", \"replied\", \"know\", \"lady\", \"think\", \"thing\", \"house\", \"john\", \"sure\", \"good\", \"miss\", \"dear\", \"day\", \"great\", \"little\", \"shall\", \"away\", \"room\", \"man\", \"mason\", \"missionary\", \"janet\", \"leah\", \"thornfield\", \"oliver\", \"vale\", \"diana\", \"hannah\", \"sophie\", \"moor\", \"millcote\", \"wicket\", \"rivers\", \"poole\", \"wakened\", \"providence\", \"traveller\", \"india\", \"rochester\", \"gale\", \"toil\", \"blew\", \"orchard\", \"frantic\", \"st\", \"wood\", \"glorious\", \"fasten\", \"surgeon\", \"vigorous\", \"west\", \"eyre\", \"adele\", \"helen\", \"sir\", \"god\", \"mary\", \"jane\", \"horse\", \"ll\", \"hall\", \"night\", \"master\", \"yes\", \"john\", \"shall\", \"like\", \"asked\", \"house\", \"fairfax\", \"come\", \"tell\", \"looked\", \"near\", \"heard\", \"life\", \"saw\", \"hand\", \"know\", \"face\", \"love\", \"time\", \"thought\", \"little\", \"think\", \"heart\", \"good\", \"day\", \"long\", \"way\", \"taylor\", \"isabella\", \"connexion\", \"ungracious\", \"brunswick\", \"irresistible\", \"donwell\", \"amiss\", \"claims\", \"robert\", \"grandmother\", \"hartfield\", \"suitable\", \"regrets\", \"knightley\", \"sighted\", \"beloved\", \"highbury\", \"martin\", \"generosity\", \"increase\", \"reconciled\", \"rational\", \"goddard\", \"income\", \"considerations\", \"sink\", \"comforts\", \"decisive\", \"asks\", \"abbey\", \"emma\", \"perry\", \"harriet\", \"smith\", \"comfortable\", \"thousand\", \"randalls\", \"respectable\", \"weston\", \"father\", \"woodhouse\", \"body\", \"poor\", \"elton\", \"pounds\", \"children\", \"fortune\", \"thing\", \"daughter\", \"good\", \"man\", \"years\", \"great\", \"little\", \"dear\", \"friend\", \"john\", \"time\", \"think\", \"miss\", \"hope\", \"better\", \"having\", \"woman\", \"thought\", \"mind\", \"soon\", \"home\", \"know\", \"long\", \"paulina\", \"bassompierre\", \"dr\", \"bretton\", \"graham\", \"terrasse\", \"concert\", \"snowe\", \"queen\", \"crecy\", \"fanshawe\", \"polly\", \"godmother\", \"papa\", \"count\", \"ginevra\", \"mamma\", \"hamal\", \"nicely\", \"crowd\", \"hide\", \"ribbon\", \"reckless\", \"throng\", \"gipsy\", \"caused\", \"echoed\", \"palm\", \"graces\", \"homage\", \"recognised\", \"lucy\", \"villette\", \"hotel\", \"john\", \"mood\", \"little\", \"like\", \"grand\", \"think\", \"know\", \"thought\", \"eye\", \"look\", \"tell\", \"mother\", \"eyes\", \"man\", \"smile\", \"come\", \"looking\", \"good\", \"miss\", \"way\", \"saw\", \"old\", \"lady\", \"looked\", \"home\", \"night\", \"harriet\", \"parcel\", \"martin\", \"blunders\", \"presumption\", \"vicarage\", \"artless\", \"december\", \"announcing\", \"smith\", \"eltons\", \"goddard\", \"happening\", \"anxiously\", \"bond\", \"foreseen\", \"recommending\", \"recollect\", \"surprized\", \"concluding\", \"destroy\", \"abbey\", \"court\", \"penance\", \"elton\", \"riddle\", \"advise\", \"humiliation\", \"producing\", \"compare\", \"woodhouse\", \"emma\", \"hartfield\", \"superior\", \"cure\", \"completely\", \"frank\", \"maid\", \"thing\", \"miss\", \"letter\", \"meaning\", \"churchill\", \"knightley\", \"highbury\", \"read\", \"friend\", \"think\", \"oh\", \"thought\", \"doubt\", \"woman\", \"body\", \"dear\", \"shall\", \"good\", \"mind\", \"man\", \"moment\", \"way\", \"great\", \"know\", \"sure\", \"soon\", \"time\", \"little\", \"missis\", \"crib\", \"bessie\", \"gateshead\", \"doll\", \"stool\", \"porter\", \"tray\", \"cat\", \"sugar\", \"plates\", \"burns\", \"reed\", \"cup\", \"polly\", \"helen\", \"orphan\", \"nursery\", \"scotch\", \"bounded\", \"frock\", \"ruddy\", \"nestled\", \"kissed\", \"cupboard\", \"rug\", \"ve\", \"blaze\", \"cups\", \"ye\", \"gazed\", \"godmother\", \"tea\", \"graham\", \"knee\", \"bretton\", \"child\", \"lifted\", \"corner\", \"little\", \"papa\", \"home\", \"room\", \"bed\", \"sleep\", \"face\", \"eyes\", \"head\", \"long\", \"like\", \"miss\", \"door\", \"asked\", \"shall\", \"good\", \"come\", \"old\", \"hand\", \"came\", \"day\", \"father\", \"think\", \"time\", \"cholmondeley\", \"hamal\", \"brains\", \"discoveries\", \"impart\", \"nun\", \"garret\", \"disguise\", \"dreaming\", \"breathe\", \"hinted\", \"needs\", \"jewels\", \"saint\", \"illusion\", \"purse\", \"err\", \"priest\", \"combined\", \"annoyance\", \"runs\", \"assert\", \"pet\", \"sparkle\", \"costly\", \"honey\", \"troubles\", \"poison\", \"abuse\", \"changes\", \"daresay\", \"ginevra\", \"veil\", \"fanshawe\", \"confession\", \"angel\", \"genuine\", \"wear\", \"silas\", \"adele\", \"mademoiselle\", \"nonsense\", \"lucy\", \"dr\", \"know\", \"look\", \"pere\", \"believe\", \"john\", \"old\", \"sir\", \"right\", \"think\", \"night\", \"good\", \"feel\", \"beck\", \"thought\", \"shall\", \"little\", \"pretty\", \"time\", \"mind\", \"love\", \"day\", \"away\", \"heart\", \"like\", \"miss\", \"thing\", \"saw\", \"come\", \"young\", \"eshton\", \"dent\", \"lynn\", \"ingram\", \"gallery\", \"storey\", \"louisa\", \"blanche\", \"chambers\", \"lamps\", \"basin\", \"rode\", \"mounting\", \"ville\", \"bolt\", \"darted\", \"garments\", \"toilette\", \"propitious\", \"tread\", \"staircase\", \"audible\", \"issue\", \"dispersed\", \"oak\", \"dormitory\", \"ghost\", \"motionless\", \"gipsy\", \"branches\", \"poole\", \"rochester\", \"park\", \"gentlemen\", \"candle\", \"adele\", \"arch\", \"door\", \"ladies\", \"hall\", \"street\", \"noise\", \"fairfax\", \"black\", \"heard\", \"stood\", \"party\", \"white\", \"step\", \"like\", \"long\", \"room\", \"thought\", \"dark\", \"night\", \"hand\", \"time\", \"miss\", \"think\", \"face\", \"house\", \"looking\", \"hunsden\", \"crimsworth\", \"tradesman\", \"victor\", \"lad\", \"counting\", \"clerk\", \"wages\", \"uncles\", \"lodgings\", \"tyrant\", \"sold\", \"trade\", \"associations\", \"apples\", \"repaired\", \"frances\", \"patronage\", \"involuntary\", \"greatness\", \"shire\", \"ve\", \"bells\", \"torture\", \"baked\", \"social\", \"humph\", \"hit\", \"enthusiasm\", \"william\", \"brussels\", \"practical\", \"freedom\", \"ll\", \"zoraide\", \"england\", \"man\", \"come\", \"french\", \"good\", \"like\", \"know\", \"edward\", \"thought\", \"think\", \"yes\", \"look\", \"shall\", \"little\", \"house\", \"looking\", \"night\", \"sort\", \"suppose\", \"saw\", \"way\", \"rome\", \"garret\", \"heath\", \"tease\", \"bind\", \"advocate\", \"fondness\", \"attribute\", \"freely\", \"creed\", \"darkened\", \"holy\", \"mentally\", \"souls\", \"works\", \"cure\", \"judicious\", \"director\", \"tie\", \"spiritual\", \"destroyed\", \"worthless\", \"sweeping\", \"ascertained\", \"honey\", \"sunrise\", \"instinctively\", \"wiser\", \"push\", \"cunning\", \"dew\", \"plenty\", \"genius\", \"envy\", \"breast\", \"human\", \"god\", \"silas\", \"salary\", \"sacrifice\", \"prayer\", \"pere\", \"fate\", \"course\", \"sir\", \"church\", \"thought\", \"strange\", \"spread\", \"good\", \"born\", \"like\", \"life\", \"light\", \"love\", \"marry\", \"sweet\", \"looked\", \"saw\", \"heart\", \"strength\", \"know\", \"left\", \"little\", \"kind\", \"long\", \"wish\", \"felt\", \"man\", \"night\", \"yes\", \"day\", \"eyes\", \"nature\", \"door\", \"way\", \"downright\", \"kill\", \"india\", \"inflict\", \"ire\", \"overlook\", \"plea\", \"pretensions\", \"metal\", \"suits\", \"alluded\", \"list\", \"obscurity\", \"denied\", \"kinder\", \"austere\", \"crime\", \"press\", \"reproof\", \"external\", \"counsel\", \"impress\", \"happening\", \"reckoned\", \"obedience\", \"confounded\", \"dedicated\", \"offended\", \"deferred\", \"betray\", \"torture\", \"submission\", \"lingering\", \"works\", \"talent\", \"simple\", \"wit\", \"christian\", \"robert\", \"elton\", \"principle\", \"calmly\", \"st\", \"cold\", \"hate\", \"martin\", \"john\", \"attempt\", \"eyre\", \"man\", \"party\", \"knightley\", \"good\", \"know\", \"replied\", \"words\", \"jane\", \"consider\", \"leave\", \"like\", \"bring\", \"think\", \"day\", \"great\", \"emma\", \"time\", \"wife\", \"friends\", \"harriet\", \"better\", \"word\", \"heart\", \"asked\", \"long\", \"love\", \"thing\", \"curled\", \"beauties\", \"pemberley\", \"proprietor\", \"temple\", \"banks\", \"extensive\", \"stream\", \"woods\", \"adorned\", \"brocklehurst\", \"housekeeper\", \"maple\", \"gardiner\", \"valley\", \"ascended\", \"defiance\", \"situated\", \"accidental\", \"stockings\", \"greeted\", \"grounds\", \"handsomely\", \"negative\", \"route\", \"feed\", \"abused\", \"rejoiced\", \"apparition\", \"thirst\", \"apartments\", \"drove\", \"grove\", \"apprehension\", \"master\", \"occur\", \"river\", \"ma\", \"aunt\", \"rooms\", \"elizabeth\", \"place\", \"wood\", \"fine\", \"miss\", \"picture\", \"handsome\", \"uncle\", \"large\", \"time\", \"house\", \"circumstance\", \"like\", \"room\", \"little\", \"seen\", \"looked\", \"great\", \"sir\", \"reckoned\", \"external\", \"downright\", \"pet\", \"ungracious\", \"oppression\", \"dose\", \"stubborn\", \"interrupt\", \"happening\", \"sleepless\", \"impart\", \"advocate\", \"entailed\", \"mask\", \"possessor\", \"fondness\", \"bind\", \"carelessly\", \"impress\", \"burdened\", \"elf\", \"inflict\", \"obstinate\", \"results\", \"generations\", \"apprehensions\", \"indescribable\", \"obedience\", \"unspeakable\", \"engrossed\", \"fatal\", \"deceitful\", \"observer\", \"gladly\", \"overpowered\", \"indulging\", \"inconsistency\", \"consistent\", \"painfully\", \"breadth\", \"lack\", \"glasses\", \"little\", \"furnish\", \"miss\", \"night\", \"day\", \"treating\", \"elinor\", \"time\", \"good\", \"sister\", \"think\", \"room\", \"lady\", \"seen\", \"like\", \"shall\", \"looked\", \"home\", \"gave\", \"speak\", \"mother\", \"away\", \"man\", \"willoughby\", \"eyes\", \"paul\", \"thought\", \"life\", \"felt\", \"replied\", \"saw\", \"marianne\", \"better\", \"look\", \"hand\", \"jane\", \"know\"], \"Total\": [637.0, 1537.0, 863.0, 522.0, 1735.0, 1336.0, 1357.0, 1430.0, 675.0, 1144.0, 946.0, 907.0, 558.0, 1320.0, 1315.0, 381.0, 367.0, 895.0, 510.0, 623.0, 602.0, 388.0, 790.0, 830.0, 932.0, 946.0, 1063.0, 412.0, 703.0, 760.0, 79.41583251953125, 38.657371520996094, 110.08196258544922, 29.690948486328125, 20.762142181396484, 114.00782012939453, 48.558650970458984, 52.37908935546875, 38.657283782958984, 111.0286636352539, 14.792210578918457, 64.28193664550781, 47.44327926635742, 17.738903045654297, 26.55447006225586, 12.794537544250488, 13.765826225280762, 23.759450912475586, 18.74106788635254, 55.40106964111328, 11.80405044555664, 21.603322982788086, 36.58020782470703, 12.794017791748047, 11.786770820617676, 25.652198791503906, 11.812976837158203, 31.35565185546875, 118.54533386230469, 17.64047622680664, 282.790283203125, 156.35243225097656, 78.69207000732422, 72.23286437988281, 63.85824203491211, 43.217041015625, 408.1807861328125, 65.0937271118164, 183.62135314941406, 36.67636489868164, 98.21780395507812, 70.07847595214844, 103.74532318115234, 61.02613830566406, 230.4664764404297, 82.53190612792969, 117.5721664428711, 86.32659912109375, 163.2904052734375, 107.11744689941406, 175.93421936035156, 248.32546997070312, 160.6521759033203, 622.2139282226562, 1336.578857421875, 1735.3968505859375, 642.9592895507812, 358.8262634277344, 542.1077880859375, 1063.4249267578125, 504.2886962890625, 399.0592041015625, 946.2537231445312, 1144.817626953125, 308.7947082519531, 551.0842895507812, 895.918701171875, 1320.8060302734375, 703.1615600585938, 654.50048828125, 624.3165893554688, 1357.43408203125, 595.3012084960938, 695.0350341796875, 671.9365844726562, 498.0577697753906, 778.96337890625, 500.9668884277344, 1430.386962890625, 587.04931640625, 760.9280395507812, 836.4367065429688, 178.31964111328125, 304.2813415527344, 39.531368255615234, 70.28204345703125, 73.2550277709961, 129.4081268310547, 25.657222747802734, 412.7884216308594, 36.55501174926758, 17.73404312133789, 14.751360893249512, 18.713991165161133, 11.774121284484863, 49.15647506713867, 321.0057373046875, 14.746891021728516, 44.547462463378906, 96.98265075683594, 637.2023315429688, 36.44301223754883, 26.702585220336914, 30.484432220458984, 61.504371643066406, 41.485591888427734, 27.672883987426758, 26.6085205078125, 19.65268898010254, 24.663034439086914, 42.60646438598633, 151.18443298339844, 112.46522521972656, 438.57928466796875, 87.98331451416016, 69.84427642822266, 192.4548797607422, 946.0531616210938, 237.85958862304688, 224.14056396484375, 89.0272445678711, 180.46372985839844, 1537.73291015625, 863.6563720703125, 378.2829895019531, 594.4301147460938, 381.6392822265625, 312.95733642578125, 516.97119140625, 1430.386962890625, 624.0338134765625, 1315.197265625, 932.4093627929688, 790.4778442382812, 932.1195678710938, 830.1427612304688, 667.0692749023438, 619.9158935546875, 1357.43408203125, 1735.3968505859375, 1320.8060302734375, 562.6561889648438, 895.918701171875, 1063.4249267578125, 907.1689453125, 836.4367065429688, 227.31825256347656, 213.493408203125, 76.68718719482422, 101.32084655761719, 558.2548217773438, 675.4257202148438, 142.70167541503906, 38.27956008911133, 27.452951431274414, 30.413131713867188, 24.495437622070312, 128.93748474121094, 88.55684661865234, 36.31730270385742, 19.57921600341797, 18.58710479736328, 36.34291076660156, 17.608417510986328, 16.621326446533203, 16.620391845703125, 26.481796264648438, 15.644760131835938, 48.22898483276367, 30.46540641784668, 249.7318115234375, 39.28369140625, 314.8726501464844, 26.4940242767334, 17.607763290405273, 12.720076560974121, 305.2870178222656, 585.1632080078125, 169.61143493652344, 85.18485260009766, 669.2012329101562, 366.0309753417969, 53.43022537231445, 238.59210205078125, 145.03172302246094, 115.71183013916016, 932.4093627929688, 1320.8060302734375, 347.7301940917969, 1430.386962890625, 624.0338134765625, 1315.197265625, 790.4778442382812, 760.9280395507812, 623.1522827148438, 619.9158935546875, 1357.43408203125, 1537.73291015625, 594.4301147460938, 1063.4249267578125, 830.1427612304688, 1735.3968505859375, 932.1195678710938, 684.3899536132812, 895.918701171875, 907.1689453125, 62.67102813720703, 19.085569381713867, 21.1336612701416, 28.209850311279297, 101.85746765136719, 30.910770416259766, 13.848231315612793, 77.72006225585938, 42.463470458984375, 28.161279678344727, 28.404630661010742, 29.418373107910156, 15.84131145477295, 61.027957916259766, 33.1346549987793, 12.957645416259766, 16.88357162475586, 16.980426788330078, 20.722719192504883, 367.23284912109375, 10.936125755310059, 11.917584419250488, 13.963994979858398, 17.658090591430664, 14.874835014343262, 196.74427795410156, 76.10850524902344, 30.842668533325195, 15.768671989440918, 14.9913911819458, 24.832496643066406, 35.99268341064453, 101.8891372680664, 135.73533630371094, 64.81265258789062, 602.4515380859375, 228.70687866210938, 152.47271728515625, 946.0531616210938, 62.584312438964844, 149.9388885498047, 177.0635986328125, 624.3165893554688, 203.20130920410156, 603.09765625, 623.1522827148438, 932.1195678710938, 1336.578857421875, 399.2409362792969, 760.9280395507812, 378.2829895019531, 836.4367065429688, 544.6703491210938, 703.1615600585938, 365.94146728515625, 629.255859375, 587.04931640625, 778.96337890625, 622.2139282226562, 1430.386962890625, 504.2886962890625, 571.3931884765625, 1320.8060302734375, 1144.817626953125, 1735.3968505859375, 1315.197265625, 654.50048828125, 1357.43408203125, 1063.4249267578125, 946.2537231445312, 695.2127075195312, 51.32444381713867, 70.4481201171875, 21.014129638671875, 10.88868236541748, 11.93363094329834, 10.846426963806152, 49.50434112548828, 10.74516773223877, 39.56380844116211, 78.42960357666016, 13.789491653442383, 161.19329833984375, 14.390582084655762, 20.849693298339844, 388.1909484863281, 11.81862735748291, 27.42179298400879, 126.02651977539062, 84.82630157470703, 17.655174255371094, 36.754878997802734, 22.74294662475586, 43.65147018432617, 59.42985153198242, 51.67376708984375, 10.760087013244629, 22.867019653320312, 19.73929214477539, 11.871598243713379, 10.691661834716797, 31.878032684326172, 863.6563720703125, 80.85154724121094, 522.64306640625, 114.56519317626953, 91.99696350097656, 140.7153778076172, 90.73818969726562, 71.4552230834961, 438.57928466796875, 516.97119140625, 312.95733642578125, 280.2901306152344, 395.8155517578125, 381.6392822265625, 101.86735534667969, 215.87232971191406, 174.052734375, 790.4778442382812, 276.2568054199219, 1357.43408203125, 907.1689453125, 320.04547119140625, 830.1427612304688, 1735.3968505859375, 594.4301147460938, 437.5118713378906, 623.1522827148438, 1320.8060302734375, 1315.197265625, 1537.73291015625, 510.8227844238281, 617.8152465820312, 544.677978515625, 477.6734313964844, 1144.817626953125, 576.1600341796875, 932.4093627929688, 498.70623779296875, 1430.386962890625, 946.2537231445312, 81.42741394042969, 71.59208679199219, 225.9671630859375, 236.76092529296875, 219.32107543945312, 18.068092346191406, 18.016197204589844, 58.34874725341797, 24.069541931152344, 21.046672821044922, 82.2538070678711, 79.1904296875, 30.081356048583984, 171.7027130126953, 29.732463836669922, 105.75379180908203, 66.12254333496094, 25.88165283203125, 13.566617012023926, 35.686065673828125, 11.591964721679688, 20.125574111938477, 14.468306541442871, 13.500534057617188, 13.961095809936523, 11.573559761047363, 12.629287719726562, 12.41063117980957, 16.51722526550293, 21.021848678588867, 34.859283447265625, 366.0309753417969, 53.619773864746094, 31.622928619384766, 623.1522827148438, 62.39186477661133, 1735.3968505859375, 1336.578857421875, 63.29355239868164, 1315.197265625, 1430.386962890625, 1144.817626953125, 399.0592041015625, 641.9976806640625, 544.6703491210938, 669.2012329101562, 642.9592895507812, 907.1689453125, 261.23565673828125, 836.4367065429688, 377.7325134277344, 1357.43408203125, 1537.73291015625, 695.2127075195312, 778.96337890625, 484.1473388671875, 624.0338134765625, 703.1615600585938, 498.70623779296875, 624.3165893554688, 522.64306640625, 15.870887756347656, 84.82630157470703, 11.495646476745605, 15.670512199401855, 17.785274505615234, 11.486087799072266, 11.426210403442383, 10.736291885375977, 114.56519317626953, 22.652135848999023, 59.42985153198242, 10.305398941040039, 19.72858238220215, 12.732178688049316, 12.733880996704102, 11.590373039245605, 47.00145721435547, 32.68608856201172, 14.472979545593262, 11.775681495666504, 31.878032684326172, 39.20939636230469, 10.79525375366211, 381.6392822265625, 13.40857219696045, 31.55843734741211, 12.74851131439209, 10.608865737915039, 18.589780807495117, 312.95733642578125, 863.6563720703125, 161.19329833984375, 113.47636413574219, 32.26506042480469, 52.25969314575195, 237.85958862304688, 43.296485900878906, 790.4778442382812, 1537.73291015625, 427.2897644042969, 95.375732421875, 224.14056396484375, 388.1909484863281, 126.02651977539062, 319.22711181640625, 437.5118713378906, 1315.197265625, 562.6561889648438, 1144.817626953125, 317.0823669433594, 477.6734313964844, 280.2901306152344, 594.4301147460938, 932.1195678710938, 1357.43408203125, 576.1600341796875, 907.1689453125, 579.0145263671875, 695.2127075195312, 830.1427612304688, 1430.386962890625, 619.9158935546875, 932.4093627929688, 1320.8060302734375, 1735.3968505859375, 21.234880447387695, 17.129714965820312, 133.5957489013672, 44.08584213256836, 21.85360336303711, 26.981958389282227, 12.990670204162598, 22.942768096923828, 14.000838279724121, 13.908504486083984, 10.954641342163086, 33.10561752319336, 130.855224609375, 56.785335540771484, 79.1904296875, 64.81265258789062, 21.01516342163086, 45.90956115722656, 15.4493408203125, 10.942800521850586, 14.92758560180664, 16.951791763305664, 16.74957275390625, 33.58094024658203, 12.810393333435059, 14.795178413391113, 49.309696197509766, 12.913544654846191, 14.818319320678711, 30.680522918701172, 46.57078170776367, 30.081356048583984, 138.75509643554688, 219.32107543945312, 56.338470458984375, 236.76092529296875, 302.3652648925781, 74.81149291992188, 57.26825714111328, 1735.3968505859375, 171.7027130126953, 498.70623779296875, 895.918701171875, 225.00762939453125, 93.19770050048828, 504.2886962890625, 642.9592895507812, 413.0846252441406, 946.2537231445312, 1336.578857421875, 1537.73291015625, 542.1077880859375, 399.2409362792969, 932.1195678710938, 1357.43408203125, 836.4367065429688, 484.1473388671875, 622.2139282226562, 695.0350341796875, 1063.4249267578125, 516.97119140625, 1315.197265625, 1320.8060302734375, 20.744144439697266, 25.88165283203125, 10.817439079284668, 13.646549224853516, 10.150918006896973, 41.53455352783203, 20.426132202148438, 12.941655158996582, 11.126544952392578, 16.639841079711914, 10.193410873413086, 12.553414344787598, 19.50183868408203, 12.119794845581055, 14.034831047058105, 30.12758445739746, 11.041080474853516, 36.693546295166016, 12.265894889831543, 13.18349838256836, 11.253259658813477, 11.100435256958008, 10.203666687011719, 11.107575416564941, 13.095758438110352, 13.810542106628418, 12.278229713439941, 15.91389274597168, 15.785167694091797, 20.68785858154297, 25.783658981323242, 105.75379180908203, 38.40279769897461, 82.2538070678711, 25.450658798217773, 52.5887451171875, 36.632911682128906, 34.431800842285156, 35.56694793701172, 135.73533630371094, 117.5721664428711, 53.499752044677734, 366.0309753417969, 225.9671630859375, 1430.386962890625, 641.9976806640625, 38.50764846801758, 456.7217712402344, 623.1522827148438, 484.1473388671875, 602.4515380859375, 361.4320983886719, 1315.197265625, 624.3165893554688, 1357.43408203125, 401.7754821777344, 163.2904052734375, 1144.817626953125, 932.1195678710938, 1735.3968505859375, 235.41636657714844, 1320.8060302734375, 576.1600341796875, 571.3931884765625, 1063.4249267578125, 684.3899536132812, 654.50048828125, 1336.578857421875, 1537.73291015625, 790.4778442382812, 778.96337890625, 836.4367065429688, 667.0692749023438, 29.865877151489258, 29.885007858276367, 20.860673904418945, 90.9581298828125, 41.039241790771484, 17.93903923034668, 26.542724609375, 29.47083854675293, 20.39629554748535, 17.722997665405273, 24.916828155517578, 16.37094497680664, 11.773336410522461, 12.340938568115234, 14.606466293334961, 12.750179290771484, 16.607608795166016, 13.672761917114258, 10.466392517089844, 22.76095962524414, 50.01902389526367, 20.84769630432129, 13.478104591369629, 10.820334434509277, 20.688526153564453, 34.762733459472656, 27.017406463623047, 14.789285659790039, 13.961095809936523, 10.684115409851074, 33.1346549987793, 367.23284912109375, 122.8155746459961, 142.0939178466797, 63.89863967895508, 135.73533630371094, 35.421566009521484, 542.1077880859375, 269.0594177246094, 177.0635986328125, 147.01365661621094, 51.84368896484375, 378.2829895019531, 183.74722290039062, 629.255859375, 327.2008056640625, 252.9778289794922, 235.6444549560547, 166.35260009765625, 1336.578857421875, 946.2537231445312, 895.918701171875, 1144.817626953125, 230.31381225585938, 624.3165893554688, 622.2139282226562, 1320.8060302734375, 1537.73291015625, 1315.197265625, 504.2886962890625, 760.9280395507812, 377.7325134277344, 142.09840393066406, 96.33696746826172, 17.011940002441406, 22.471038818359375, 17.0493221282959, 19.101396560668945, 24.01397705078125, 15.377998352050781, 19.219593048095703, 23.055233001708984, 19.078359603881836, 17.370807647705078, 24.21148681640625, 14.571084022521973, 25.253950119018555, 16.551746368408203, 116.30315399169922, 13.442282676696777, 20.264787673950195, 15.281981468200684, 44.08945083618164, 49.309696197509766, 11.414955139160156, 20.43410301208496, 16.436752319335938, 25.0228328704834, 11.683938980102539, 16.537321090698242, 14.34910774230957, 87.71052551269531, 37.133609771728516, 26.066490173339844, 39.14398193359375, 149.9388885498047, 28.351041793823242, 128.44793701171875, 907.1689453125, 836.4367065429688, 160.6521759033203, 1357.43408203125, 1336.578857421875, 1430.386962890625, 314.8726501464844, 1144.817626953125, 1315.197265625, 603.09765625, 641.9976806640625, 932.1195678710938, 1735.3968505859375, 760.9280395507812, 377.7325134277344, 624.3165893554688, 365.4781188964844, 343.2504577636719, 778.96337890625, 695.2127075195312, 21.22020721435547, 20.426132202148438, 18.13554573059082, 12.936891555786133, 10.12685489654541, 10.218241691589355, 10.323365211486816, 13.287235260009766, 20.87848663330078, 15.863814353942871, 11.282271385192871, 13.249452590942383, 11.467164039611816, 17.047239303588867, 21.51721954345703, 32.26506042480469, 12.253901481628418, 15.366741180419922, 12.553126335144043, 13.184713363647461, 13.407872200012207, 13.355796813964844, 13.235854148864746, 13.464430809020996, 13.810542106628418, 12.433812141418457, 13.444840431213379, 14.410855293273926, 11.392675399780273, 13.44841194152832, 29.557933807373047, 19.609210968017578, 25.760398864746094, 27.033618927001953, 34.15286636352539, 117.6688003540039, 228.70687866210938, 35.56694793701172, 24.001399993896484, 46.046348571777344, 35.93717956542969, 38.50764846801758, 60.21549987792969, 346.8624572753906, 602.4515380859375, 118.09309387207031, 1144.817626953125, 254.13330078125, 69.73224639892578, 1357.43408203125, 64.17073059082031, 1336.578857421875, 587.04931640625, 308.7947082519531, 571.3931884765625, 205.57022094726562, 169.96180725097656, 703.1615600585938, 778.96337890625, 654.50048828125, 123.40415954589844, 1430.386962890625, 539.0714721679688, 1735.3968505859375, 410.4486999511719, 946.2537231445312, 522.7605590820312, 671.9365844726562, 907.1689453125, 624.3165893554688, 603.09765625, 1063.4249267578125, 642.9592895507812, 309.8720397949219, 542.1077880859375, 695.2127075195312, 9.960005760192871, 12.985532760620117, 20.722719192504883, 10.276074409484863, 11.188234329223633, 13.026061058044434, 13.078566551208496, 13.118233680725098, 14.209266662597656, 14.068358421325684, 22.784927368164062, 14.845027923583984, 16.24587631225586, 24.609603881835938, 16.9417781829834, 17.989543914794922, 19.400480270385742, 19.95873260498047, 19.098045349121094, 10.375903129577637, 18.282588958740234, 10.333210945129395, 10.305398941040039, 10.360468864440918, 10.401741981506348, 10.481740951538086, 10.520143508911133, 28.65901756286621, 10.479687690734863, 20.058177947998047, 20.43410301208496, 20.380659103393555, 20.860563278198242, 21.51721954345703, 21.22384262084961, 71.4524917602539, 33.58346176147461, 35.06223678588867, 78.42960357666016, 381.6392822265625, 34.92593765258789, 35.889156341552734, 196.74427795410156, 283.6029052734375, 61.71440505981445, 84.82630157470703, 623.1522827148438, 88.19636535644531, 101.8891372680664, 907.1689453125, 252.9778289794922, 388.1909484863281, 1357.43408203125, 1430.386962890625, 347.7301940917969, 342.2442932128906, 946.0531616210938, 143.40602111816406, 385.04833984375, 1336.578857421875, 133.72454833984375, 1315.197265625, 1063.4249267578125, 830.1427612304688, 863.6563720703125, 1320.8060302734375, 283.43701171875, 312.5483093261719, 522.64306640625, 617.8152465820312, 397.7635803222656, 654.50048828125, 399.2409362792969, 946.2537231445312, 571.3931884765625, 790.4778442382812, 17.29878044128418, 17.63842010498047, 50.73099899291992, 11.258713722229004, 72.33667755126953, 12.119457244873047, 14.207316398620605, 20.961214065551758, 27.636003494262695, 11.268157958984375, 54.63296127319336, 49.12946319580078, 30.484432220458984, 91.35969543457031, 24.919553756713867, 13.31179141998291, 13.210899353027344, 18.985445022583008, 10.370795249938965, 10.487153053283691, 10.52462100982666, 51.6384162902832, 11.311944007873535, 11.31285285949707, 11.389942169189453, 11.456904411315918, 11.473278999328613, 19.202167510986328, 11.444026947021484, 11.457315444946289, 17.308259963989258, 33.69721984863281, 39.53632354736328, 24.981203079223633, 203.20130920410156, 30.72614097595215, 24.976064682006836, 122.64161682128906, 180.46372985839844, 71.702392578125, 637.2023315429688, 510.4297180175781, 76.10850524902344, 248.05441284179688, 1537.73291015625, 133.19473266601562, 202.1935272216797, 152.88621520996094, 267.8504638671875, 1320.8060302734375, 760.9280395507812, 108.78207397460938, 1336.578857421875, 895.918701171875, 1735.3968505859375, 448.02923583984375, 703.1615600585938, 830.1427612304688, 602.4515380859375, 10.360468864440918, 10.375903129577637, 9.960005760192871, 10.203666687011719, 10.88868236541748, 10.762835502624512, 10.798447608947754, 10.474693298339844, 10.399069786071777, 10.305398941040039, 10.816560745239258, 10.150918006896973, 10.218241691589355, 10.767672538757324, 10.621421813964844, 10.363779067993164, 10.323365211486816, 10.12685489654541, 10.63276481628418, 10.333210945129395, 10.573836326599121, 10.399238586425781, 10.276074409484863, 10.583558082580566, 10.367536544799805, 10.46764850616455, 10.415852546691895, 10.464816093444824, 10.401741981506348, 10.735259056091309, 10.771507263183594, 10.594918251037598, 11.725701332092285, 10.801860809326172, 10.819647789001465, 13.79175853729248, 11.603928565979004, 11.525532722473145, 15.552525520324707, 11.599289894104004, 13.636035919189453, 13.582032203674316, 10.818678855895996, 1735.3968505859375, 14.795417785644531, 1537.73291015625, 624.3165893554688, 1063.4249267578125, 12.727640151977539, 675.4257202148438, 1320.8060302734375, 1357.43408203125, 585.1632080078125, 1315.197265625, 895.918701171875, 624.0338134765625, 448.02923583984375, 1336.578857421875, 932.1195678710938, 703.1615600585938, 498.70623779296875, 395.9510803222656, 448.02850341796875, 669.2012329101562, 684.3899536132812, 907.1689453125, 213.493408203125, 642.9592895507812, 183.62135314941406, 1144.817626953125, 587.04931640625, 671.9365844726562, 347.7301940917969, 778.96337890625, 558.2548217773438, 617.8152465820312, 641.9976806640625, 622.2139282226562, 946.0531616210938, 1430.386962890625], \"loglift\": [30.0, 29.0, 28.0, 27.0, 26.0, 25.0, 24.0, 23.0, 22.0, 21.0, 20.0, 19.0, 18.0, 17.0, 16.0, 15.0, 14.0, 13.0, 12.0, 11.0, 10.0, 9.0, 8.0, 7.0, 6.0, 5.0, 4.0, 3.0, 2.0, 1.0, 1.2970000505447388, 1.2861000299453735, 1.2855000495910645, 1.2675000429153442, 1.2663999795913696, 1.2651000022888184, 1.2635999917984009, 1.263100028038025, 1.2597999572753906, 1.2592999935150146, 1.2517999410629272, 1.2491999864578247, 1.246899962425232, 1.242400050163269, 1.2407000064849854, 1.2389999628067017, 1.2389999628067017, 1.236299991607666, 1.2359000444412231, 1.235200047492981, 1.233199954032898, 1.2303999662399292, 1.2237000465393066, 1.2233999967575073, 1.2193000316619873, 1.2144999504089355, 1.2130000591278076, 1.2122999429702759, 1.2116999626159668, 1.2115000486373901, 1.1953999996185303, 1.1931999921798706, 1.1901999711990356, 1.1913000345230103, 1.1934000253677368, 1.2000000476837158, 1.1267999410629272, 1.1826000213623047, 1.1162999868392944, 1.2020000219345093, 1.128000020980835, 1.1510000228881836, 1.1196000576019287, 1.1404999494552612, 0.9886999726295471, 1.1053999662399292, 1.0506999492645264, 1.0896999835968018, 0.9855999946594238, 1.0322999954223633, 0.9146999716758728, 0.789900004863739, 0.8831999897956848, 0.48840001225471497, 0.25440001487731934, 0.08229999989271164, 0.3984000086784363, 0.5800999999046326, 0.41940000653266907, 0.16990000009536743, 0.4271000027656555, 0.5127000212669373, 0.18330000340938568, 0.09709999710321426, 0.6083999872207642, 0.3691999912261963, 0.10249999910593033, -0.08980000019073486, 0.19499999284744263, 0.1891999989748001, 0.1923999935388565, -0.23770000040531158, 0.20270000398159027, 0.10369999706745148, 0.09910000115633011, 0.2777000069618225, -0.023800000548362732, 0.27320000529289246, -0.5126000046730042, 0.13369999825954437, -0.08250000327825546, -0.2599000036716461, 1.6292999982833862, 1.628999948501587, 1.6201000213623047, 1.6168999671936035, 1.6123000383377075, 1.607200026512146, 1.5980000495910645, 1.595900058746338, 1.590499997138977, 1.5884000062942505, 1.5855000019073486, 1.5822999477386475, 1.5742000341415405, 1.5703999996185303, 1.5657999515533447, 1.5657000541687012, 1.5599000453948975, 1.538599967956543, 1.533400058746338, 1.5302000045776367, 1.5103000402450562, 1.5081000328063965, 1.5081000328063965, 1.492799997329712, 1.4453999996185303, 1.4333000183105469, 1.4278000593185425, 1.4253000020980835, 1.4134000539779663, 1.398900032043457, 1.3502000570297241, 1.2684999704360962, 1.3581000566482544, 1.3551000356674194, 1.2532000541687012, 1.0746999979019165, 1.2145999670028687, 1.1988999843597412, 1.3176000118255615, 1.1857000589370728, 0.7767999768257141, 0.7983999848365784, 0.9735000133514404, 0.7728999853134155, 0.8863000273704529, 0.9351000189781189, 0.7524999976158142, 0.37139999866485596, 0.6553999781608582, 0.3828999996185303, 0.45399999618530273, 0.4932999908924103, 0.4147000014781952, 0.41780000925064087, 0.49570000171661377, 0.517799973487854, 0.10249999910593033, -0.03849999979138374, 0.0658000037074089, 0.5514000058174133, 0.21570000052452087, 0.08020000159740448, 0.16110000014305115, 0.1898999959230423, 1.8282999992370605, 1.8240000009536743, 1.8216999769210815, 1.8214999437332153, 1.8210999965667725, 1.819700002670288, 1.8142999410629272, 1.809499979019165, 1.8034000396728516, 1.8034000396728516, 1.7984999418258667, 1.79830002784729, 1.794700026512146, 1.7942999601364136, 1.7889000177383423, 1.7854000329971313, 1.7834999561309814, 1.7833000421524048, 1.7827999591827393, 1.7797000408172607, 1.7777999639511108, 1.767799973487854, 1.7352999448776245, 1.7283999919891357, 1.711300015449524, 1.694700002670288, 1.6646000146865845, 1.6598999500274658, 1.65339994430542, 1.614300012588501, 1.4950000047683716, 1.3833999633789062, 1.4263999462127686, 1.4545999765396118, 1.003999948501587, 1.1171000003814697, 1.5085999965667725, 1.128999948501587, 1.223099946975708, 1.2164000272750854, 0.41920000314712524, 0.2809999883174896, 0.7958999872207642, 0.2013999968767166, 0.499099999666214, 0.1307000070810318, 0.33000001311302185, 0.3246999979019165, 0.4075999855995178, 0.40149998664855957, -0.006500000134110451, -0.093299999833107, 0.39809998869895935, 0.051500000059604645, 0.16609999537467957, -0.44449999928474426, 0.0333000011742115, 0.2410999983549118, -0.02979999966919422, -0.06520000100135803, 2.15939998626709, 2.116300106048584, 2.1115000247955322, 2.0813000202178955, 2.070499897003174, 2.053800106048584, 2.0181000232696533, 2.0076000690460205, 1.9763000011444092, 1.9494999647140503, 1.888100028038025, 1.854099988937378, 1.8351000547409058, 1.8342000246047974, 1.8229999542236328, 1.8205000162124634, 1.817199945449829, 1.809399962425232, 1.7997000217437744, 1.7939000129699707, 1.7913000583648682, 1.7898999452590942, 1.7854000329971313, 1.729599952697754, 1.7263000011444092, 1.6759999990463257, 1.6722999811172485, 1.6655000448226929, 1.6618000268936157, 1.65910005569458, 1.654099941253662, 1.6404999494552612, 1.595900058746338, 1.5706000328063965, 1.570199966430664, 1.2896000146865845, 1.3681000471115112, 1.3666000366210938, 1.002500057220459, 1.5202000141143799, 1.318600058555603, 1.24399995803833, 0.8533999919891357, 1.1476999521255493, 0.7699000239372253, 0.6973999738693237, 0.5450000166893005, 0.35120001435279846, 0.7587000131607056, 0.4684999883174896, 0.7735999822616577, 0.3970000147819519, 0.5874000191688538, 0.4632999897003174, 0.7692999839782715, 0.48019999265670776, 0.5166000127792358, 0.33959999680519104, 0.4596000015735626, -0.0560000017285347, 0.5691999793052673, 0.49000000953674316, -0.0617000013589859, 0.01810000091791153, -0.2957000136375427, -0.1826000064611435, 0.3427000045776367, -0.2727999985218048, -0.08749999850988388, 0.007000000216066837, 0.2632000148296356, 2.3545000553131104, 2.297100067138672, 2.2044999599456787, 2.1447999477386475, 2.09689998626709, 2.044300079345703, 1.9450000524520874, 1.9291000366210938, 1.8945000171661377, 1.8890000581741333, 1.8835999965667725, 1.8717999458312988, 1.868399977684021, 1.792099952697754, 1.783400058746338, 1.7719000577926636, 1.7623000144958496, 1.7562999725341797, 1.7446000576019287, 1.7388999462127686, 1.7201000452041626, 1.7167999744415283, 1.7065000534057617, 1.705399990081787, 1.6971999406814575, 1.6952999830245972, 1.6841000318527222, 1.6821000576019287, 1.6642999649047852, 1.6411000490188599, 1.6339000463485718, 1.5721999406814575, 1.5841000080108643, 1.3839999437332153, 1.520300030708313, 1.5216000080108643, 1.4560999870300293, 1.4886000156402588, 1.5255000591278076, 1.1907999515533447, 1.1571999788284302, 1.226699948310852, 1.2196999788284302, 1.1366000175476074, 1.1441999673843384, 1.440999984741211, 1.2065999507904053, 1.2664999961853027, 0.73089998960495, 1.0714000463485718, 0.5044000148773193, 0.6363000273704529, 0.9763000011444092, 0.5788000226020813, 0.21709999442100525, 0.6714000105857849, 0.8068000078201294, 0.6389999985694885, 0.26809999346733093, 0.2515999972820282, 0.0869000032544136, 0.6732000112533569, 0.5529000163078308, 0.6110000014305115, 0.6601999998092651, 0.055799998342990875, 0.51910001039505, 0.14329999685287476, 0.6114000082015991, -0.27649998664855957, 0.03220000118017197, 2.6767001152038574, 2.6250998973846436, 2.5824999809265137, 2.5815999507904053, 2.5555999279022217, 2.547100067138672, 2.494800090789795, 2.428100109100342, 2.4142000675201416, 2.4007999897003174, 2.3989999294281006, 2.3617000579833984, 2.3387999534606934, 2.299499988555908, 2.2990000247955322, 2.2404000759124756, 2.206399917602539, 2.1791000366210938, 2.146199941635132, 2.0613999366760254, 2.0490000247955322, 2.020699977874756, 2.015000104904175, 1.9900000095367432, 1.9469000101089478, 1.9431999921798706, 1.9291000366210938, 1.9160000085830688, 1.913100004196167, 1.9063999652862549, 1.8868000507354736, 1.7918000221252441, 1.8583999872207642, 1.7415000200271606, 0.9589999914169312, 1.5489000082015991, 0.5128999948501587, 0.5461000204086304, 1.5154999494552612, 0.385699987411499, 0.34950000047683716, 0.4147999882698059, 0.7896000146865845, 0.5591999888420105, 0.6119999885559082, 0.4925000071525574, 0.396699994802475, 0.16769999265670776, 0.9118000268936157, 0.20010000467300415, 0.6759999990463257, -0.12849999964237213, -0.21459999680519104, 0.28360000252723694, 0.20819999277591705, 0.510200023651123, 0.3222000002861023, 0.2290000021457672, 0.486299991607666, 0.2800999879837036, 3.0401999950408936, 2.8171000480651855, 2.813199996948242, 2.6800999641418457, 2.5627999305725098, 2.487499952316284, 2.463900089263916, 2.451900005340576, 2.444999933242798, 2.440000057220459, 2.390899896621704, 2.335400104522705, 2.2992000579833984, 2.27020001411438, 2.2685000896453857, 2.2469000816345215, 2.2430999279022217, 2.2105000019073486, 2.206899881362915, 2.1805999279022217, 2.1659998893737793, 2.157900094985962, 2.148099899291992, 2.1456000804901123, 2.139400005340576, 2.137399911880493, 2.133699893951416, 2.1050000190734863, 2.093400001525879, 2.0708999633789062, 2.0706000328063965, 1.8154000043869019, 1.9078999757766724, 1.9297000169754028, 2.0074000358581543, 1.909999966621399, 1.5823999643325806, 1.9330999851226807, 1.1509000062942505, 0.9398000240325928, 1.2756999731063843, 1.7009999752044678, 1.4437999725341797, 1.2537000179290771, 1.6119999885559082, 1.2826000452041626, 1.124899983406067, 0.6417999863624573, 0.9617999792098999, 0.5824000239372253, 1.1442999839782715, 0.9017000198364258, 1.1416000127792358, 0.7231000065803528, 0.48829999566078186, 0.2874999940395355, 0.7146999835968018, 0.3756999969482422, 0.6179999709129333, 0.4950999915599823, 0.36730000376701355, -0.06759999692440033, 0.5550000071525574, 0.18850000202655792, -0.14319999516010284, -0.41359999775886536, 3.3148999214172363, 3.2379000186920166, 3.2044999599456787, 2.9556000232696533, 2.8498001098632812, 2.7421998977661133, 2.723099946975708, 2.7146999835968018, 2.6767001152038574, 2.654099941253662, 2.574899911880493, 2.5720999240875244, 2.569499969482422, 2.549999952316284, 2.5225000381469727, 2.503200054168701, 2.497499942779541, 2.497499942779541, 2.4930999279022217, 2.4303998947143555, 2.4017999172210693, 2.3968000411987305, 2.3798999786376953, 2.367799997329712, 2.3417000770568848, 2.341599941253662, 2.341099977493286, 2.3401999473571777, 2.322499990463257, 2.3189001083374023, 2.2042999267578125, 2.2492001056671143, 2.0320000648498535, 1.952299952507019, 2.135499954223633, 1.8636000156402588, 1.7652000188827515, 2.0343000888824463, 2.0869998931884766, 0.9672999978065491, 1.6815999746322632, 1.1640000343322754, 0.9146000146865845, 1.4437999725341797, 1.8392000198364258, 1.0255999565124512, 0.9100000262260437, 1.1114000082015991, 0.6929000020027161, 0.5047000050544739, 0.4180000126361847, 0.8550000190734863, 1.0168999433517456, 0.43459999561309814, 0.1590999960899353, 0.4004000127315521, 0.7696999907493591, 0.5812000036239624, 0.42829999327659607, 0.01590000092983246, 0.6258000135421753, -0.20430000126361847, -0.23559999465942383, 3.416599988937378, 3.0069000720977783, 2.9909000396728516, 2.8580000400543213, 2.808799982070923, 2.7948999404907227, 2.730799913406372, 2.6770999431610107, 2.655400037765503, 2.6375999450683594, 2.5820000171661377, 2.578000068664551, 2.5520999431610107, 2.551500082015991, 2.509000062942505, 2.474600076675415, 2.4535000324249268, 2.4500999450683594, 2.38700008392334, 2.3791000843048096, 2.370500087738037, 2.35260009765625, 2.3524999618530273, 2.3508999347686768, 2.327199935913086, 2.3262999057769775, 2.3239998817443848, 2.3148999214172363, 2.3125998973846436, 2.3059000968933105, 2.275700092315674, 2.1496999263763428, 2.2211999893188477, 2.055799961090088, 2.2291998863220215, 2.1187000274658203, 2.1719000339508057, 2.1758999824523926, 2.1647000312805176, 1.9018000364303589, 1.8535000085830688, 2.032099962234497, 1.3839000463485718, 1.419700026512146, 0.5830000042915344, 0.7538999915122986, 2.0409998893737793, 0.8646000027656555, 0.7062000036239624, 0.8041999936103821, 0.6735000014305115, 0.930400013923645, 0.2232999950647354, 0.6028000116348267, 0.1412000060081482, 0.8213000297546387, 1.3162000179290771, 0.17569999396800995, 0.2547999918460846, -0.17659999430179596, 1.0765999555587769, -0.02930000051856041, 0.49300000071525574, 0.4964999854564667, 0.08240000158548355, 0.3411000072956085, 0.36660000681877136, -0.13619999587535858, -0.31690001487731934, 0.2101999968290329, 0.19599999487400055, 0.059300001710653305, 0.23090000450611115, 3.834199905395508, 3.824399948120117, 3.807300090789795, 3.578900098800659, 3.5132999420166016, 3.494499921798706, 3.2216999530792236, 3.1891000270843506, 3.0601000785827637, 3.058300018310547, 2.977299928665161, 2.960400104522705, 2.9574999809265137, 2.9203999042510986, 2.9017999172210693, 2.855600118637085, 2.786400079727173, 2.7667999267578125, 2.7337000370025635, 2.729599952697754, 2.7230000495910645, 2.722899913787842, 2.7035999298095703, 2.6939001083374023, 2.6767001152038574, 2.670099973678589, 2.6214001178741455, 2.621299982070923, 2.617500066757202, 2.605600118637085, 2.6022000312805176, 2.4082999229431152, 2.3501999378204346, 2.301500082015991, 2.427500009536743, 2.2302000522613525, 2.4449000358581543, 1.493499994277954, 1.694000005722046, 1.777400016784668, 1.801900029182434, 2.269399881362915, 1.318600058555603, 1.6605000495910645, 0.996999979019165, 1.298699975013733, 1.4292000532150269, 1.4193999767303467, 1.5950000286102295, 0.3012999892234802, 0.4505000114440918, 0.4683000147342682, 0.28870001435279846, 1.3783999681472778, 0.6478999853134155, 0.5658000111579895, -0.08259999752044678, -0.25099998712539673, -0.17139999568462372, 0.6366000175476074, 0.2143000066280365, 0.888700008392334, 4.171999931335449, 3.9709999561309814, 3.7767999172210693, 3.691699981689453, 3.6891000270843506, 3.6089999675750732, 3.5648000240325928, 3.4916999340057373, 3.4282000064849854, 3.326200008392334, 3.2806999683380127, 3.2539000511169434, 3.094099998474121, 3.09089994430542, 3.00600004196167, 2.9184999465942383, 2.900399923324585, 2.868299961090088, 2.841200113296509, 2.828200101852417, 2.808199882507324, 2.8015999794006348, 2.7899999618530273, 2.7690999507904053, 2.7520999908447266, 2.720900058746338, 2.7137999534606934, 2.7128000259399414, 2.699399948120117, 2.6956000328063965, 2.6522998809814453, 2.6538000106811523, 2.6110999584198, 2.310699939727783, 2.5408999919891357, 1.8895000219345093, 0.8855999708175659, 0.7508999705314636, 1.617400050163269, 0.4009999930858612, 0.33090001344680786, 0.2597000002861023, 1.0261000394821167, 0.13169999420642853, 0.01600000075995922, 0.524399995803833, 0.46700000762939453, 0.10989999771118164, -0.396699994802475, 0.23569999635219574, 0.8062999844551086, 0.36419999599456787, 0.8051000237464905, 0.8461999893188477, 0.007899999618530273, 0.0820000022649765, 3.4753000736236572, 3.355600118637085, 3.30049991607666, 3.0546998977661133, 2.9839000701904297, 2.97189998626709, 2.963599920272827, 2.9635000228881836, 2.9405999183654785, 2.938999891281128, 2.9000000953674316, 2.884500026702881, 2.8577001094818115, 2.8561999797821045, 2.835099935531616, 2.8087000846862793, 2.7925000190734863, 2.769700050354004, 2.72979998588562, 2.722599983215332, 2.706700086593628, 2.7037999629974365, 2.7018001079559326, 2.700000047683716, 2.678800106048584, 2.6610000133514404, 2.6531999111175537, 2.6278998851776123, 2.615600109100342, 2.614300012588501, 2.6031999588012695, 2.601300001144409, 2.5724000930786133, 2.5615999698638916, 2.4869000911712646, 2.1452999114990234, 1.8932000398635864, 2.402400016784668, 2.5155999660491943, 2.2904999256134033, 2.3657000064849854, 2.3250999450683594, 2.129699945449829, 1.2899999618530273, 1.0074000358581543, 1.7732000350952148, 0.6759999990463257, 1.354599952697754, 2.000999927520752, 0.45190000534057617, 2.0272998809814453, 0.4228000044822693, 0.8007000088691711, 1.1490999460220337, 0.7028999924659729, 1.3178000450134277, 1.4178999662399292, 0.5231000185012817, 0.4361000061035156, 0.5371999740600586, 1.5947999954223633, -0.025800000876188278, 0.6065000295639038, -0.2167000025510788, 0.7698000073432922, 0.1671999990940094, 0.5475999712944031, 0.335999995470047, 0.10649999976158142, 0.37299999594688416, 0.39899998903274536, -0.1306000053882599, 0.21320000290870667, 0.8425999879837036, 0.3010999858379364, 0.051500000059604645, 3.7734999656677246, 3.478100061416626, 3.4342000484466553, 3.335599899291992, 3.2402000427246094, 3.101599931716919, 3.0683000087738037, 3.0632998943328857, 3.025899887084961, 2.9572999477386475, 2.9467999935150146, 2.9042000770568848, 2.888200044631958, 2.836199998855591, 2.8185999393463135, 2.7809998989105225, 2.7065999507904053, 2.683300018310547, 2.6819000244140625, 2.680999994277954, 2.675100088119507, 2.674799919128418, 2.6745998859405518, 2.6703999042510986, 2.670300006866455, 2.669300079345703, 2.666800022125244, 2.6593000888824463, 2.656899929046631, 2.656899929046631, 2.656899929046631, 2.648200035095215, 2.633699893951416, 2.609299898147583, 2.596100091934204, 2.456899881362915, 2.544100046157837, 2.517199993133545, 2.3889999389648438, 1.7764999866485596, 2.468100070953369, 2.4453999996185303, 1.795699954032898, 1.624500036239624, 2.198699951171875, 2.056299924850464, 1.1641000509262085, 2.0288000106811523, 1.9465999603271484, 0.8567000031471252, 1.466599941253662, 1.2009999752044678, 0.5012999773025513, 0.44440001249313354, 1.2177000045776367, 1.2175999879837036, 0.41499999165534973, 1.5848000049591064, 0.958299994468689, 0.13860000669956207, 1.6222000122070312, 0.08349999785423279, 0.2125999927520752, 0.35659998655319214, 0.32269999384880066, 0.00559999980032444, 1.0771000385284424, 0.9775000214576721, 0.5663999915122986, 0.3871000111103058, 0.7250999808311462, 0.23759999871253967, 0.6765000224113464, -0.15800000727176666, 0.2946999967098236, -0.018200000748038292, 4.189899921417236, 3.8638999462127686, 3.744800090789795, 3.697999954223633, 3.689500093460083, 3.6275999546051025, 3.4937000274658203, 3.484999895095825, 3.4563000202178955, 3.4518001079559326, 3.4138998985290527, 3.396199941635132, 3.3861000537872314, 3.3838000297546387, 3.3387999534606934, 3.320499897003174, 3.2952001094818115, 3.1775999069213867, 3.129199981689453, 3.110100030899048, 3.104099988937378, 3.087599992752075, 3.038800001144409, 3.03410005569458, 3.0272998809814453, 3.0220999717712402, 3.0213000774383545, 3.0204999446868896, 3.019700050354004, 3.0190999507904053, 3.0162999629974365, 2.996999979019165, 2.9774999618530273, 2.905900001525879, 2.5608999729156494, 2.8629000186920166, 2.8838999271392822, 2.338399887084961, 2.213099956512451, 2.4498000144958496, 1.6100000143051147, 1.608299970626831, 2.3901000022888184, 1.82260000705719, 0.8156999945640564, 2.0058000087738037, 1.7024999856948853, 1.871500015258789, 1.4026999473571777, 0.16869999468326569, 0.5504999756813049, 1.9946999549865723, 0.0142000000923872, 0.2565999925136566, -0.3334999978542328, 0.7921000123023987, 0.3716000020503998, 0.1444000005722046, 0.38179999589920044, 1.644700050354004, 1.6246999502182007, 1.6217000484466553, 1.621500015258789, 1.6207000017166138, 1.6194000244140625, 1.6169999837875366, 1.6104999780654907, 1.6045000553131104, 1.603600025177002, 1.6030999422073364, 1.6023000478744507, 1.5963000059127808, 1.5956000089645386, 1.5943000316619873, 1.5943000316619873, 1.5923999547958374, 1.5888999700546265, 1.587399959564209, 1.5871000289916992, 1.5866999626159668, 1.5858999490737915, 1.5850000381469727, 1.5825999975204468, 1.5814000368118286, 1.5789999961853027, 1.5787999629974365, 1.5786999464035034, 1.5779999494552612, 1.5771000385284424, 1.5734000205993652, 1.5748000144958496, 1.5484000444412231, 1.5678999423980713, 1.566100001335144, 1.469099998474121, 1.535099983215332, 1.5372999906539917, 1.3975000381469727, 1.5300999879837036, 1.4407999515533447, 1.4348000288009644, 1.565000057220459, -1.5516999959945679, 1.3717000484466553, -1.5658999681472778, -1.0266000032424927, -1.374899983406067, 1.4634000062942505, -1.1368999481201172, -1.5917999744415283, -1.631600022315979, -1.0850000381469727, -1.6282999515533447, -1.3753999471664429, -1.142199993133545, -0.9214000105857849, -1.7000000476837158, -1.4530999660491943, -1.2684999704360962, -1.0433000326156616, -0.8906999826431274, -0.9846000075340271, -1.2719999551773071, -1.2894999980926514, -1.4891999959945679, -0.48410001397132874, -1.2610000371932983, -0.3962000012397766, -1.70169997215271, -1.2289999723434448, -1.327299952507019, -0.8562999963760376, -1.4419000148773193, -1.2039999961853027, -1.2883000373840332, -1.3198000192642212, -1.3167999982833862, -1.6576999425888062, -2.10509991645813], \"logprob\": [30.0, 29.0, 28.0, 27.0, 26.0, 25.0, 24.0, 23.0, 22.0, 21.0, 20.0, 19.0, 18.0, 17.0, 16.0, 15.0, 14.0, 13.0, 12.0, 11.0, 10.0, 9.0, 8.0, 7.0, 6.0, 5.0, 4.0, 3.0, 2.0, 1.0, -6.910099983215332, -7.640999794006348, -6.595099925994873, -7.923500061035156, -8.282299995422363, -6.58050012588501, -7.435400009155273, -7.360300064086914, -7.667300224304199, -6.612800121307373, -8.63599967956543, -7.169300079345703, -7.475399971008301, -8.463700294494629, -8.06190013885498, -8.793800354003906, -8.72070026397705, -8.177499771118164, -8.415200233459473, -7.331999778747559, -8.880200386047363, -8.278599739074707, -7.758699893951416, -8.809399604797363, -8.895600318908691, -8.122699737548828, -8.899700164794922, -7.924200057983398, -6.594799995422363, -8.500100135803223, -5.741799831390381, -6.336599826812744, -7.026100158691406, -7.1107001304626465, -7.231800079345703, -7.615699768066406, -5.443299770355225, -7.223400115966797, -6.252699851989746, -7.777699947357178, -6.866600036621094, -7.18120002746582, -6.820300102233887, -7.330100059509277, -6.15310001373291, -7.063199996948242, -6.764100074768066, -7.033999919891357, -6.500699996948242, -6.8755998611450195, -6.497000217437744, -6.277200222015381, -6.6194000244140625, -5.660099983215332, -5.1296000480651855, -5.040500164031982, -5.717400074005127, -6.118899822235107, -5.867000102996826, -5.442699909210205, -5.931600093841553, -6.080100059509277, -5.54610013961792, -5.441699981689453, -6.240799903869629, -5.9008002281188965, -5.68149995803833, -5.485599994659424, -5.831200122833252, -5.90880012512207, -5.9527997970581055, -5.606200218200684, -5.990099906921387, -5.934199810028076, -5.972599983215332, -6.093500137329102, -5.947700023651123, -6.092100143432617, -5.828700065612793, -6.072999954223633, -6.029799938201904, -6.112599849700928, -5.769000053405762, -5.234899997711182, -7.2846999168396, -6.712500095367432, -6.675600051879883, -6.111700057983398, -7.738999843597412, -4.9629998207092285, -7.392499923706055, -8.118000030517578, -8.305100440979004, -8.070300102233887, -8.541799545288086, -7.116399765014648, -5.24459981918335, -8.32509994506836, -7.225399971008301, -6.468699932098389, -4.591400146484375, -7.455900192260742, -7.786799907684326, -7.656499862670898, -6.954599857330322, -7.363699913024902, -7.815999984741211, -7.867300033569336, -8.175800323486328, -7.951200008392334, -7.416500091552734, -6.1645002365112305, -6.508999824523926, -5.229800224304199, -6.746600151062012, -6.980500221252441, -6.06879997253418, -4.654799938201904, -5.895599842071533, -5.970699787139893, -6.775300025939941, -6.2006001472473145, -4.4670000076293945, -5.022299766540527, -5.672699928283691, -5.42140007019043, -5.751100063323975, -5.900700092315674, -5.581399917602539, -4.944699764251709, -5.490200042724609, -5.017199993133545, -5.29010009765625, -5.415900230407715, -5.329699993133545, -5.442500114440918, -5.5833001136779785, -5.634399890899658, -5.265999794006348, -5.161300182342529, -5.330100059509277, -5.697800159454346, -5.568299770355225, -5.532400131225586, -5.610499858856201, -5.662799835205078, -5.327199935913086, -5.394199848175049, -6.420400142669678, -6.142099857330322, -4.4359002113342285, -4.246799945831299, -5.80679988861084, -7.127399921417236, -7.466000080108643, -7.36359977722168, -7.584799766540527, -5.924200057983398, -6.303500175476074, -7.195199966430664, -7.81850004196167, -7.873899936676025, -7.205399990081787, -7.930099964141846, -7.988399982452393, -7.991499900817871, -7.527599811553955, -8.063899993896484, -6.970600128173828, -7.436800003051758, -5.350100040435791, -7.216300010681152, -5.164999961853027, -7.645100116729736, -8.060099601745605, -8.424400329589844, -5.365600109100342, -4.826499938964844, -6.021900177001953, -6.682499885559082, -5.071700096130371, -5.561999797821045, -7.094799995422363, -5.978099822998047, -6.381800174713135, -6.614299774169922, -5.324900150299072, -5.1149001121521, -5.934500217437744, -5.114699840545654, -5.646500110626221, -5.269400119781494, -5.57919979095459, -5.622700214385986, -5.739500045776367, -5.750800132751465, -5.375, -5.337100028991699, -5.796199798583984, -5.561100006103516, -5.6940999031066895, -5.567399978637695, -5.711100101470947, -5.81220006942749, -5.813799858093262, -5.8368000984191895, -6.284599781036377, -7.516600131988525, -7.41949987411499, -7.160900115966797, -5.887800216674805, -7.09689998626709, -7.9355998039245605, -6.221099853515625, -6.856900215148926, -7.294400215148926, -7.3471999168396, -7.346099853515625, -7.984099864959717, -6.636300086975098, -7.258200168609619, -8.199700355529785, -7.938399791717529, -7.940400123596191, -7.750899791717529, -4.881899833679199, -8.398500442504883, -8.313899993896484, -8.15999984741211, -7.980999946594238, -8.155900001525879, -5.624000072479248, -6.577400207519531, -7.487500190734863, -8.162099838256836, -8.215299606323242, -7.71560001373291, -7.357999801635742, -6.361999988555908, -6.100599765777588, -6.840199947357178, -4.891200065612793, -5.781300067901611, -6.188199996948242, -4.7270002365112305, -6.92519998550415, -6.2530999183654785, -6.161399841308594, -5.291800022125244, -6.119999885559082, -5.409800052642822, -5.4496002197265625, -5.199399948120117, -5.032800197601318, -5.833600044250488, -5.478899955749512, -5.872600078582764, -5.455699920654297, -5.694300174713135, -5.563000202178955, -5.910099983215332, -5.657100200653076, -5.690100193023682, -5.5843000411987305, -5.689000129699707, -5.372099876403809, -5.7895002365112305, -5.743800163269043, -5.457600116729736, -5.520699977874756, -5.418600082397461, -5.582699775695801, -5.755300045013428, -5.641300201416016, -5.700099945068359, -5.722300052642822, -5.774499893188477, -6.2891998291015625, -6.029900074005127, -7.332099914550781, -8.049400329589844, -8.005599975585938, -8.153800010681152, -6.734799861907959, -8.278300285339355, -7.009399890899658, -6.330699920654297, -8.074299812316895, -5.627500057220459, -8.046799659729004, -7.752399921417236, -4.836999893188477, -8.340299606323242, -7.508200168609619, -5.989099979400635, -6.396599769592285, -7.97189998626709, -7.257500171661377, -7.740799903869629, -7.099100112915039, -6.7916998863220215, -6.939700126647949, -8.510700225830078, -7.768099784851074, -7.917200088500977, -8.443400382995605, -8.57129955291748, -7.486000061035156, -4.2484002113342285, -6.605199813842773, -4.939000129699707, -6.320400238037109, -6.53849983215332, -6.178999900817871, -6.585299968719482, -6.787300109863281, -5.307499885559082, -5.176599979400635, -5.609099864959717, -5.72629976272583, -5.464300155639648, -5.493199825286865, -6.517199993133545, -6.0005998611450195, -6.156000137329102, -5.178400039672852, -5.889100074768066, -4.864099979400635, -5.135200023651123, -5.837100028991699, -5.281499862670898, -4.905700206756592, -5.522799968719482, -5.693999767303467, -5.5081000328063965, -5.127799987792969, -5.148499965667725, -5.156899929046631, -5.672599792480469, -5.602700233459473, -5.670599937438965, -5.752799987792969, -5.482999801635742, -5.706399917602539, -5.6006999015808105, -5.758500099182129, -5.592599868774414, -5.697199821472168, -5.505499839782715, -5.685800075531006, -4.578999996185303, -4.533199787139893, -4.635700225830078, -7.140600204467773, -7.195799827575684, -6.087299823760986, -6.986700057983398, -7.134300231933594, -5.7729997634887695, -5.848299980163574, -6.839099884033203, -5.136600017547607, -6.890600204467773, -5.680300235748291, -6.184000015258789, -7.149199962615967, -7.828000068664551, -6.945700168609619, -8.082500457763672, -7.559199810028076, -7.894899845123291, -7.989099979400635, -7.998700141906738, -8.189900398254395, -8.116700172424316, -8.147299766540527, -7.8643999099731445, -7.629899978637695, -7.143799781799316, -4.887400150299072, -6.741499900817871, -7.38640022277832, -5.1880998611450195, -6.899499893188477, -4.609899997711182, -4.837900161743164, -6.918499946594238, -5.014400005340576, -4.966599941253662, -5.124100208282471, -5.803100109100342, -5.55810022354126, -5.6697001457214355, -5.5833001136779785, -5.718999862670898, -5.603799819946289, -6.104700088500977, -5.652599811553955, -5.97160005569458, -5.497000217437744, -5.458399772644043, -5.754000186920166, -5.715700149536133, -5.8892998695373535, -5.823400020599365, -5.7972002029418945, -5.883600234985352, -5.865099906921387, -3.2827999591827393, -7.00029993057251, -5.328100204467773, -7.459799766540527, -7.267300128936768, -7.216000080108643, -7.6768999099731445, -7.693999767303467, -7.763199806213379, -5.400700092315674, -7.070700168609619, -6.1616997718811035, -7.949999809265137, -7.329599857330322, -7.769199848175049, -7.7906999588012695, -7.888500213623047, -6.521100044250488, -6.888000011444092, -7.729000091552734, -7.94980001449585, -6.961999893188477, -6.764900207519531, -8.05720043182373, -4.498000144958496, -7.848499774932861, -6.996399879455566, -7.93149995803833, -8.126799583435059, -7.588399887084961, -4.765200138092041, -4.005300045013428, -5.591300010681152, -5.920499801635742, -7.100500106811523, -6.71560001373291, -5.527699947357178, -6.8805999755859375, -4.758299827575684, -4.303999900817871, -5.248600006103516, -6.322999954223633, -5.725800037384033, -5.366600036621094, -6.133399963378906, -5.533299922943115, -5.375800132751465, -4.758299827575684, -5.287300109863281, -4.956399917602539, -5.678400039672852, -5.511199951171875, -5.8043999671936035, -5.471199989318848, -5.256100177764893, -5.080999851226807, -5.510799884796143, -5.3958001136779785, -5.60260009765625, -5.542500019073486, -5.4928998947143555, -5.383800029754639, -5.5971999168396, -5.555600166320801, -5.539000034332275, -5.536499977111816, -6.211299896240234, -6.5030999183654785, -4.482500076293945, -5.840099811553955, -6.64769983291626, -6.544400215148926, -7.29449987411499, -6.7342000007629395, -7.26609992980957, -7.295300006866455, -7.6132001876831055, -6.510000228881836, -5.138299942016602, -5.992499828338623, -5.6875, -5.907199859619141, -7.039100170135498, -6.257699966430664, -7.351200103759766, -7.758800029754639, -7.476799964904785, -7.354599952697754, -7.383500099182129, -6.700099945068359, -7.689899921417236, -7.545899868011475, -6.342599868774414, -7.6834001541137695, -7.563499927520752, -6.839399814605713, -6.536600112915039, -6.928699970245361, -5.617199897766113, -5.238999843597412, -6.414899826049805, -5.251200199127197, -5.105100154876709, -6.232600212097168, -6.4471001625061035, -4.1554999351501465, -5.75439977645874, -5.2058000564575195, -4.8694000244140625, -5.72189998626709, -6.207900047302246, -5.333099842071533, -5.205699920654297, -5.446800231933594, -5.036499977111816, -4.879300117492676, -4.825799942016602, -5.431399822235107, -5.575399875640869, -5.309800148010254, -5.209400177001953, -5.452300071716309, -5.629799842834473, -5.567299842834473, -5.609600067138672, -5.596700191497803, -5.708000183105469, -5.604400157928467, -5.631499767303467, -6.132999897003174, -6.321400165557861, -7.209799766540527, -7.110300064086914, -7.455399990081787, -6.060400009155273, -6.834199905395508, -7.344299793243408, -7.517199993133545, -7.132400035858154, -7.678100109100342, -7.473899841308594, -7.059299945831299, -7.5355000495910645, -7.431300163269043, -6.7017998695373535, -7.7266998291015625, -6.529099941253662, -7.688000202178955, -7.623799800872803, -7.7906999588012695, -7.822199821472168, -7.906599998474121, -7.823299884796143, -7.682300090789795, -7.630099773406982, -7.75, -7.499800205230713, -7.510200023651123, -7.246399879455566, -7.05649995803833, -5.770999908447266, -6.712500095367432, -6.116300106048584, -7.115900039672852, -6.500699996948242, -6.809000015258789, -6.867000102996826, -6.845799922943115, -5.769400119781494, -5.961299896240234, -6.570099830627441, -5.295199871063232, -5.741700172424316, -4.7332000732421875, -5.36329984664917, -6.889999866485596, -5.593200206756592, -5.440899848937988, -5.595300197601318, -5.507400035858154, -5.76140022277832, -5.1768999099731445, -5.542399883270264, -5.22730016708374, -5.764699935913086, -6.170100212097168, -5.3632001876831055, -5.48960018157959, -5.2993998527526855, -6.043900012969971, -5.425099849700928, -5.732500076293945, -5.737299919128418, -5.530200004577637, -5.712299823760986, -5.731400012969971, -5.520199775695801, -5.560699939727783, -5.698999881744385, -5.72790002822876, -5.793399810791016, -5.848100185394287, -5.350900173187256, -5.360000133514404, -5.736700057983398, -4.492499828338623, -5.354000091552734, -6.200300216674805, -6.081399917602539, -6.009399890899658, -6.506400108337402, -6.64870023727417, -6.388999938964844, -6.826000213623047, -7.158599853515625, -7.148499965667725, -6.998499870300293, -7.180699825286865, -6.985599994659424, -7.199699878692627, -7.5, -6.727200031280518, -5.946499824523926, -6.821700096130371, -7.277200222015381, -7.506499767303467, -6.8755998611450195, -6.3632001876831055, -6.664000034332275, -7.266600131988525, -7.328100204467773, -7.607500076293945, -6.479000091552734, -4.267600059509277, -5.421000003814697, -5.32390022277832, -5.997000217437744, -5.440999984741211, -6.5696001052856445, -4.792799949645996, -5.292900085449219, -5.627999782562256, -5.7895002365112305, -6.364200115203857, -5.327600002288818, -5.707799911499023, -5.1402997970581055, -5.492599964141846, -5.6194000244140625, -5.700099945068359, -5.872700214385986, -5.082600116729736, -5.278800010681152, -5.315700054168701, -5.250199794769287, -5.763999938964844, -5.497300148010254, -5.582799911499023, -5.478499889373779, -5.494800090789795, -5.571499824523926, -5.722099781036377, -5.732999801635742, -5.758999824523926, -3.453399896621704, -4.043000221252441, -5.971199989318848, -5.777900218963623, -6.056700229644775, -6.023099899291992, -5.838399887084961, -6.3572001457214355, -6.197700023651123, -6.117800235748291, -6.35260009765625, -6.473199844360352, -6.300899982452393, -6.8119001388549805, -6.34689998626709, -6.856900215148926, -4.92519998550415, -7.115200042724609, -6.731800079345703, -7.0269999504089355, -5.987400054931641, -5.8821001052856445, -7.35699987411499, -6.795599937438965, -7.030200004577637, -6.641200065612793, -7.409800052642822, -7.063499927520752, -7.218699932098389, -5.412199974060059, -6.315000057220459, -6.667399883270264, -6.303500175476074, -5.261000156402588, -6.696300029754639, -5.8368000984191895, -4.886000156402588, -5.101799964904785, -5.885200023651123, -4.96750020980835, -5.052999973297119, -5.056399822235107, -5.803599834442139, -5.407199859619141, -5.384099960327148, -5.655300140380859, -5.650199890136719, -5.634500026702881, -5.519599914550781, -5.711599826812744, -5.841300010681152, -5.781000137329102, -5.8755998611450195, -5.897200107574463, -5.915900230407715, -5.955599784851074, -6.051599979400635, -6.209400177001953, -6.383500099182129, -6.9670000076293945, -7.282700061798096, -7.285799980163574, -7.283899784088135, -7.031499862670898, -6.60260009765625, -6.878900051116943, -7.258600234985352, -7.113399982452393, -7.284599781036377, -6.889699935913086, -6.6778998374938965, -6.299200057983398, -7.2835001945495605, -7.079899787902832, -7.3221001625061035, -7.280200004577637, -7.279300212860107, -7.285999774932861, -7.297100067138672, -7.281799793243408, -7.277599811553955, -7.400400161743164, -7.330100059509277, -7.285999774932861, -7.533299922943115, -7.36870002746582, -6.592299938201904, -7.004499912261963, -6.7606000900268555, -6.723100185394287, -6.5640997886657715, -5.668600082397461, -5.256199836730957, -6.607999801635742, -6.8881001472473145, -6.461699962615967, -6.634399890899658, -6.605899810791016, -6.3541998863220215, -5.442999839782715, -5.173500061035156, -6.037199974060059, -4.862800121307373, -5.6894001960754395, -6.33620023727417, -4.916600227355957, -6.39300012588501, -4.96120023727417, -5.406000137329102, -5.699999809265137, -5.530900001525879, -5.938300132751465, -6.028299808502197, -5.503200054168701, -5.487800121307373, -5.560800075531006, -6.171500205993652, -5.3420000076293945, -5.685500144958496, -5.339600086212158, -5.7947998046875, -5.562099933624268, -5.775100231170654, -5.7357001304626465, -5.66510009765625, -5.772200107574463, -5.780799865722656, -5.743199825286865, -5.902500152587891, -6.0030999183654785, -5.985300064086914, -5.986100196838379, -6.509799957275391, -6.539899826049805, -6.116399765014648, -6.916399955749512, -6.926799774169922, -6.913300037384033, -6.942500114440918, -6.9446001052856445, -6.902100086212158, -6.980599880218506, -6.508999824523926, -6.980000019073486, -6.905799865722656, -6.542500019073486, -6.933499813079834, -6.910999774932861, -6.909999847412109, -6.904900074005127, -6.950399875640869, -7.561399936676025, -7.000800132751465, -7.571700096130371, -7.57450008392334, -7.573500156402588, -7.5696001052856445, -7.562900066375732, -7.561699867248535, -6.5671000480651855, -7.575500011444092, -6.926300048828125, -6.907800197601318, -6.919000148773193, -6.910299777984619, -6.90369987487793, -6.930600166320801, -5.855999946594238, -6.523799896240234, -6.507599830627441, -5.830699920654297, -4.860799789428711, -6.560500144958496, -6.556000232696533, -5.504300117492676, -5.309700012207031, -6.2606000900268555, -6.085000038146973, -4.982900142669678, -6.073500156402588, -6.011300086975098, -4.914899826049805, -5.581999778747559, -5.419400215148926, -4.867199897766113, -4.871799945831299, -5.512700080871582, -5.52869987487793, -5.314499855041504, -6.031400203704834, -5.670199871063232, -5.2453999519348145, -6.063899993896484, -5.3165998458862305, -5.400000095367432, -5.503699779510498, -5.498000144958496, -5.3902997970581055, -5.857699871063232, -5.859600067138672, -5.756499767303467, -5.768499851226807, -5.8709001541137695, -5.860400199890137, -5.915800094604492, -5.887400150299072, -5.939000129699707, -5.9274001121521, -5.541299819946289, -5.847899913787842, -4.9105000495910645, -6.462699890136719, -4.611000061035156, -6.459400177001953, -6.4344000816345215, -6.054200172424316, -5.806399822235107, -6.708000183105469, -5.167300224304199, -5.291200160980225, -5.778600215911865, -4.683199882507324, -6.027400016784668, -6.672699928283691, -6.705599784851074, -6.4604997634887695, -7.113699913024902, -7.121600151062012, -7.124000072479248, -5.550000190734863, -7.117199897766113, -7.121799945831299, -7.121799945831299, -7.121099948883057, -7.120500087738037, -6.606299877166748, -7.124599933624268, -7.124100208282471, -6.714300155639648, -6.067399978637695, -5.92710018157959, -6.457799911499023, -4.706699848175049, -6.293799877166748, -6.480000019073486, -5.434199810028076, -5.1732001304626465, -5.859499931335449, -4.514800071716309, -4.73829984664917, -5.859600067138672, -5.24560022354126, -4.428100109100342, -5.684199810028076, -5.570099830627441, -5.680699825286865, -5.588699817657471, -5.227200031280518, -5.3968000411987305, -5.897900104522705, -5.369800090789795, -5.527400016784668, -5.456299781799316, -5.684899806976318, -5.654699802398682, -5.715799808502197, -5.798999786376953, -8.599200248718262, -8.617600440979004, -8.661499977111816, -8.63759994506836, -8.57349967956543, -8.586400032043457, -8.585399627685547, -8.622400283813477, -8.635600090026855, -8.645600318908691, -8.597700119018555, -8.661999702453613, -8.661299705505371, -8.609700202941895, -8.624699592590332, -8.649200439453125, -8.654999732971191, -8.677800178527832, -8.630599975585938, -8.65939998626709, -8.636799812316895, -8.654199600219727, -8.666999816894531, -8.639900207519531, -8.661800384521484, -8.654600143432617, -8.659799575805664, -8.655099868774414, -8.66189956665039, -8.631199836730957, -8.631600379943848, -8.646599769592285, -8.571599960327148, -8.634300231933594, -8.634400367736816, -8.488699913024902, -8.595399856567383, -8.600000381469727, -8.440199851989746, -8.600799560546875, -8.528400421142578, -8.538299560546875, -8.635600090026855, -6.674600124359131, -8.515800476074219, -6.809700012207031, -7.1717000007629395, -6.987500190734863, -8.574700355529785, -7.203400135040283, -6.98769998550415, -7.000100135803223, -7.295000076293945, -7.02839994430542, -7.15939998626709, -7.287899971008301, -7.398399829864502, -7.084000110626221, -7.197400093078613, -7.2947998046875, -7.4131999015808105, -7.491199970245361, -7.461599826812744, -7.347799777984619, -7.342800140380859, -7.260700225830078, -7.702300071716309, -7.376699924468994, -7.765200138092041, -7.240499973297119, -7.435699939727783, -7.39900016784668, -7.586699962615967, -7.365799903869629, -7.460999965667725, -7.443900108337402, -7.437099933624268, -7.465400218963623, -7.38730001449585, -7.421199798583984]}, \"token.table\": {\"Topic\": [2, 5, 7, 1, 2, 3, 9, 11, 12, 1, 3, 5, 14, 1, 2, 3, 7, 9, 14, 1, 4, 8, 9, 10, 1, 3, 14, 2, 3, 4, 5, 7, 11, 1, 2, 4, 5, 6, 12, 14, 3, 1, 2, 3, 4, 5, 11, 13, 2, 4, 5, 9, 1, 2, 3, 4, 5, 6, 7, 9, 11, 1, 2, 3, 5, 7, 1, 2, 4, 9, 1, 2, 3, 4, 5, 7, 8, 1, 2, 3, 10, 14, 1, 14, 1, 2, 4, 11, 1, 2, 3, 5, 9, 10, 14, 1, 3, 9, 12, 1, 2, 4, 6, 8, 10, 11, 1, 2, 6, 7, 12, 1, 2, 3, 4, 8, 10, 11, 14, 1, 3, 4, 6, 12, 1, 2, 3, 4, 5, 6, 7, 8, 9, 10, 11, 12, 13, 14, 1, 5, 9, 1, 2, 3, 7, 9, 12, 4, 7, 8, 11, 1, 2, 3, 4, 5, 7, 8, 13, 2, 3, 12, 1, 2, 3, 4, 10, 1, 2, 3, 4, 5, 6, 8, 14, 1, 4, 6, 9, 13, 1, 2, 3, 4, 5, 6, 7, 8, 9, 10, 11, 12, 14, 1, 2, 4, 6, 11, 1, 2, 3, 4, 5, 7, 9, 1, 4, 12, 14, 3, 5, 1, 5, 7, 8, 10, 6, 8, 9, 10, 1, 2, 5, 7, 1, 2, 3, 4, 6, 14, 1, 4, 6, 9, 10, 12, 1, 2, 3, 4, 5, 6, 7, 8, 9, 10, 11, 12, 1, 2, 3, 5, 6, 7, 8, 9, 1, 2, 3, 4, 5, 6, 7, 8, 9, 10, 11, 12, 13, 1, 6, 9, 10, 11, 1, 2, 3, 4, 5, 6, 9, 11, 12, 2, 3, 5, 1, 9, 3, 1, 8, 13, 1, 2, 3, 7, 12, 13, 1, 2, 3, 4, 5, 6, 7, 8, 9, 10, 11, 12, 13, 14, 1, 6, 1, 3, 6, 9, 12, 2, 3, 5, 1, 2, 4, 5, 6, 8, 9, 10, 11, 12, 14, 1, 4, 6, 10, 13, 1, 8, 10, 1, 4, 1, 6, 7, 13, 1, 2, 3, 4, 5, 6, 7, 8, 10, 11, 14, 1, 4, 9, 10, 1, 3, 7, 1, 2, 3, 4, 5, 6, 8, 9, 10, 11, 12, 1, 2, 4, 8, 10, 2, 1, 3, 4, 6, 9, 1, 4, 9, 10, 3, 5, 1, 6, 11, 1, 2, 3, 4, 5, 8, 12, 1, 2, 6, 7, 9, 1, 6, 8, 9, 10, 3, 1, 2, 3, 4, 5, 6, 7, 8, 9, 11, 12, 13, 1, 4, 14, 2, 5, 1, 4, 11, 1, 4, 9, 10, 1, 4, 8, 1, 2, 3, 4, 5, 6, 13, 1, 2, 3, 4, 5, 6, 7, 8, 9, 10, 11, 12, 13, 14, 2, 5, 1, 4, 8, 10, 12, 1, 2, 3, 4, 6, 1, 4, 8, 10, 2, 3, 7, 14, 1, 3, 4, 6, 1, 6, 9, 1, 3, 4, 9, 10, 13, 1, 3, 4, 5, 6, 7, 9, 11, 2, 3, 5, 13, 1, 2, 3, 4, 5, 6, 7, 8, 10, 11, 12, 14, 1, 2, 3, 4, 5, 6, 7, 8, 14, 6, 9, 1, 2, 3, 4, 5, 6, 8, 13, 1, 2, 3, 4, 5, 6, 7, 8, 9, 10, 11, 12, 2, 5, 7, 1, 2, 3, 4, 5, 6, 7, 9, 10, 11, 13, 14, 1, 2, 3, 4, 5, 6, 7, 9, 1, 2, 5, 6, 7, 8, 9, 10, 11, 12, 13, 1, 6, 9, 10, 1, 2, 3, 4, 11, 3, 1, 2, 3, 4, 5, 6, 7, 8, 9, 10, 11, 12, 13, 2, 5, 2, 2, 3, 1, 2, 3, 4, 5, 6, 9, 10, 3, 1, 4, 5, 9, 1, 2, 3, 4, 5, 6, 7, 8, 9, 10, 11, 12, 13, 1, 2, 3, 4, 5, 6, 9, 12, 1, 2, 3, 5, 6, 1, 2, 3, 4, 5, 6, 7, 11, 1, 2, 3, 4, 5, 6, 7, 8, 11, 13, 1, 2, 6, 9, 10, 1, 3, 7, 9, 11, 1, 2, 3, 6, 7, 9, 11, 1, 3, 4, 6, 10, 13, 2, 5, 7, 1, 2, 3, 4, 5, 6, 7, 8, 9, 11, 13, 1, 3, 5, 6, 1, 2, 3, 4, 5, 9, 1, 2, 3, 4, 5, 6, 7, 8, 9, 11, 1, 8, 9, 12, 1, 3, 4, 5, 8, 11, 1, 3, 4, 5, 13, 1, 5, 6, 8, 9, 11, 1, 2, 4, 10, 11, 1, 2, 3, 4, 5, 6, 7, 8, 9, 10, 11, 12, 13, 1, 2, 3, 7, 9, 1, 6, 9, 10, 1, 6, 9, 12, 13, 1, 8, 1, 3, 4, 5, 13, 1, 4, 11, 1, 2, 3, 6, 10, 13, 1, 2, 4, 5, 6, 12, 1, 2, 4, 6, 8, 9, 11, 1, 4, 8, 11, 1, 6, 8, 10, 1, 2, 3, 5, 7, 9, 12, 1, 4, 6, 7, 10, 14, 2, 3, 6, 7, 1, 2, 3, 4, 5, 6, 7, 9, 11, 2, 3, 5, 14, 1, 4, 6, 8, 9, 1, 2, 3, 4, 6, 7, 8, 9, 10, 11, 12, 14, 1, 6, 10, 11, 12, 1, 2, 6, 7, 8, 10, 3, 5, 3, 5, 1, 2, 3, 4, 5, 6, 7, 8, 9, 12, 1, 2, 3, 4, 5, 6, 7, 8, 9, 10, 11, 12, 13, 14, 1, 2, 3, 4, 5, 6, 7, 8, 9, 11, 12, 13, 1, 3, 1, 4, 7, 9, 13, 1, 2, 4, 5, 7, 1, 6, 8, 13, 1, 2, 6, 10, 13, 1, 2, 4, 6, 11, 14, 3, 5, 1, 2, 3, 6, 9, 13, 1, 8, 10, 1, 4, 5, 6, 8, 9, 11, 13, 1, 2, 3, 4, 7, 1, 2, 3, 5, 7, 12, 3, 5, 1, 4, 8, 9, 10, 12, 4, 8, 13, 1, 12, 1, 6, 12, 1, 2, 5, 6, 9, 11, 2, 4, 6, 9, 1, 3, 5, 10, 2, 5, 1, 4, 6, 8, 1, 9, 2, 5, 7, 13, 1, 2, 3, 4, 5, 6, 7, 8, 9, 10, 11, 12, 13, 14, 1, 4, 8, 9, 10, 12, 1, 8, 10, 1, 2, 3, 4, 5, 6, 7, 8, 9, 10, 11, 12, 13, 14, 2, 4, 6, 8, 11, 13, 1, 3, 6, 9, 12, 1, 3, 4, 7, 9, 1, 2, 3, 4, 5, 6, 8, 14, 1, 3, 6, 8, 1, 3, 4, 5, 9, 11, 1, 4, 6, 9, 1, 2, 3, 5, 9, 1, 2, 3, 4, 5, 6, 7, 14, 1, 9, 2, 5, 7, 13, 2, 7, 1, 6, 9, 12, 2, 3, 5, 7, 13, 1, 2, 3, 5, 7, 13, 1, 2, 3, 4, 5, 6, 8, 9, 11, 12, 14, 1, 2, 4, 5, 6, 8, 9, 10, 11, 12, 2, 3, 5, 1, 2, 3, 1, 3, 6, 11, 12, 1, 3, 5, 7, 11, 12, 1, 2, 4, 9, 12, 1, 6, 8, 10, 1, 4, 6, 9, 1, 1, 6, 9, 10, 3, 2, 3, 4, 14, 1, 3, 4, 9, 13, 1, 2, 3, 4, 5, 6, 7, 8, 9, 10, 11, 12, 13, 14, 1, 2, 3, 4, 5, 6, 7, 8, 9, 10, 11, 12, 13, 1, 4, 8, 9, 10, 12, 13, 1, 2, 3, 4, 5, 6, 7, 8, 9, 10, 11, 12, 13, 14, 1, 2, 3, 4, 5, 7, 8, 9, 10, 11, 1, 3, 5, 1, 4, 6, 9, 12, 1, 4, 6, 11, 1, 4, 7, 13, 1, 2, 3, 4, 5, 6, 8, 9, 10, 11, 12, 1, 2, 3, 4, 5, 6, 7, 8, 9, 11, 12, 1, 2, 3, 4, 6, 14, 1, 2, 3, 4, 5, 6, 7, 8, 9, 10, 11, 12, 13, 14, 1, 2, 3, 4, 5, 6, 7, 8, 9, 10, 11, 12, 13, 14, 3, 5, 1, 2, 3, 4, 5, 6, 7, 8, 9, 10, 11, 13, 14, 2, 3, 1, 3, 5, 9, 12, 1, 2, 3, 5, 6, 7, 2, 3, 1, 2, 3, 4, 5, 6, 7, 8, 9, 11, 12, 14, 1, 4, 11, 12, 1, 2, 3, 4, 5, 6, 7, 10, 12, 13, 1, 3, 4, 6, 1, 2, 3, 4, 7, 8, 10, 11, 1, 2, 4, 9, 12, 1, 2, 4, 6, 8, 9, 10, 11, 12, 1, 2, 3, 4, 5, 6, 7, 8, 9, 10, 11, 12, 13, 1, 2, 3, 4, 5, 6, 7, 8, 9, 10, 11, 12, 13, 14, 1, 8, 10, 1, 2, 4, 1, 4, 1, 2, 4, 6, 9, 10, 14, 1, 2, 3, 4, 5, 6, 8, 9, 10, 11, 12, 13, 14, 2, 3, 14, 1, 9, 10, 1, 4, 9, 12, 1, 4, 8, 14, 1, 2, 3, 4, 5, 6, 7, 8, 9, 10, 11, 12, 13, 14, 1, 4, 6, 8, 12, 14, 1, 5, 6, 7, 9, 10, 11, 1, 3, 4, 5, 6, 7, 9, 1, 2, 3, 4, 5, 7, 8, 9, 10, 12, 13, 1, 2, 3, 4, 5, 6, 7, 9, 10, 12, 13, 1, 2, 3, 4, 5, 6, 9, 10, 11, 12, 1, 4, 8, 9, 10, 1, 6, 9, 12, 6, 7, 9, 10, 13, 1, 2, 3, 4, 5, 7, 1, 2, 4, 1, 4, 6, 7, 11, 1, 2, 3, 4, 5, 6, 7, 8, 9, 10, 11, 12, 13, 14, 2, 5, 7, 13, 1, 6, 8, 11, 1, 2, 3, 4, 5, 6, 7, 8, 9, 10, 11, 12, 13, 14, 1, 2, 3, 4, 5, 6, 1, 5, 6, 8, 9, 1, 2, 3, 4, 6, 7, 9, 10, 12, 1, 2, 5, 8, 9, 1, 2, 3, 4, 5, 6, 7, 8, 9, 10, 11, 12, 13, 14, 1, 2, 3, 4, 6, 9, 10, 11, 1, 1, 2, 14, 1, 2, 3, 4, 6, 7, 8, 9, 10, 11, 12, 14, 1, 2, 4, 11, 14, 1, 2, 3, 4, 5, 6, 7, 8, 9, 10, 11, 12, 14, 1, 2, 3, 4, 6, 7, 8, 10, 11, 14, 6, 9, 1, 2, 3, 4, 5, 6, 7, 8, 9, 10, 11, 12, 13, 14, 1, 2, 3, 4, 5, 6, 7, 8, 9, 10, 11, 14, 2, 3, 4, 5, 6, 9, 14, 4, 5, 8, 2, 3, 6, 7, 9, 13, 3, 2, 5, 6, 7, 8, 13, 2, 5, 7, 1, 2, 3, 4, 6, 9, 11, 12, 13, 14, 1, 2, 3, 4, 5, 6, 7, 8, 9, 10, 11, 12, 13, 14, 1, 2, 3, 4, 5, 6, 7, 8, 9, 10, 11, 12, 13, 1, 2, 3, 4, 5, 6, 7, 8, 9, 10, 11, 12, 14, 1, 2, 3, 4, 5, 6, 7, 8, 9, 10, 11, 12, 13, 1, 4, 12, 1, 4, 8, 1, 6, 11, 2, 3, 1, 2, 4, 6, 2, 5, 7, 1, 2, 3, 9, 1, 2, 3, 4, 8, 11, 1, 4, 9, 12, 1, 4, 6, 9, 1, 2, 3, 4, 5, 6, 7, 8, 9, 10, 11, 12, 13, 1, 4, 6, 9, 12, 1, 2, 3, 4, 5, 6, 7, 8, 9, 10, 11, 12, 13, 1, 2, 3, 4, 7, 10, 13, 1, 2, 4, 6, 9, 10, 1, 2, 3, 4, 5, 6, 7, 8, 9, 10, 11, 12, 14, 1, 2, 3, 4, 5, 8, 14, 1, 2, 3, 4, 5, 6, 9, 10, 11, 12, 13, 1, 2, 3, 7, 8, 2, 4, 7, 11, 1, 4, 11, 2, 3, 2, 6, 1, 6, 9, 10, 1, 3, 9, 10, 1, 4, 9, 1, 6, 9, 13, 1, 1, 2, 3, 5, 7, 9, 2, 3, 5, 6, 9, 10, 11, 2, 3, 4, 5, 6, 7, 1, 7, 9, 4, 5, 12, 13, 1, 2, 3, 5, 9, 11, 1, 2, 3, 4, 13, 1, 4, 6, 8, 10, 1, 3, 4, 6, 12, 2, 3, 4, 9, 12, 1, 3, 4, 5, 11, 12, 1, 6, 11, 13, 1, 2, 3, 5, 6, 2, 5, 7, 1, 2, 5, 6, 9, 10, 12, 2, 3, 5, 7, 1, 2, 3, 4, 5, 6, 7, 8, 9, 10, 11, 12, 13, 4, 8, 1, 6, 10, 3, 1, 2, 3, 4, 6, 9, 12, 1, 2, 3, 4, 5, 6, 7, 8, 9, 10, 12, 13, 2, 1, 2, 3, 4, 5, 7, 12, 14, 2, 1, 3, 4, 6, 13, 1, 2, 3, 4, 5, 6, 7, 8, 9, 10, 11, 12, 1, 2, 3, 5, 9, 12, 13, 1, 2, 3, 4, 8, 9, 13, 1, 4, 5, 6, 8, 9, 10, 11, 12, 1, 2, 3, 4, 5, 6, 7, 8, 9, 10, 11, 12, 13, 2, 5, 7, 13, 1, 2, 3, 4, 5, 6, 7, 8, 9, 10, 11, 12, 13, 14, 1, 8, 9, 1, 2, 4, 6, 11, 1, 2, 3, 4, 5, 6, 7, 8, 9, 10, 11, 13, 1, 2, 3, 4, 5, 6, 7, 8, 9, 10, 11, 12, 13, 1, 6, 8, 10, 1, 2, 3, 4, 5, 6, 7, 8, 9, 10, 11, 12, 13, 14, 4, 10, 1, 2, 3, 4, 5, 6, 7, 8, 9, 10, 11, 12, 13, 14, 1, 2, 3, 4, 5, 6, 7, 8, 9, 10, 11, 12, 13, 1, 2, 3, 6, 7, 9, 1, 4, 6, 7, 9, 1, 2, 3, 4, 5, 6, 7, 8, 9, 11, 12, 1, 2, 3, 4, 5, 6, 7, 8, 9, 10, 11, 12, 13, 14, 1, 3, 4, 6, 8, 9, 10, 1, 2, 3, 4, 5, 6, 7, 8, 9, 10, 12, 1, 2, 3, 4, 5, 6, 7, 8, 9, 10, 11, 12, 13, 14, 1, 3, 4, 5, 6, 9, 13, 1, 3, 6, 9, 10, 13, 1, 2, 3, 4, 5, 6, 7, 8, 9, 10, 11, 12, 13, 14, 1, 2, 3, 1, 3, 4, 6, 8, 9, 11, 12, 1, 3, 5, 11, 1, 2, 3, 4, 5, 6, 7, 8, 9, 10, 11, 12, 13, 14, 2, 3, 1, 2, 3, 4, 5, 6, 7, 8, 9, 10, 11, 12, 13, 14, 1, 2, 3, 4, 5, 6, 7, 8, 9, 10, 11, 12, 13, 14, 1, 2, 3, 4, 5, 6, 7, 8, 9, 10, 11, 12, 14, 1, 2, 6, 10, 1, 2, 3, 4, 5, 6, 7, 8, 9, 10, 11, 12, 13, 14, 2, 3, 2, 2, 3, 8, 1, 3, 5, 6, 7, 8, 9, 10, 12, 2, 3, 5, 1, 6, 10, 1, 2, 3, 4, 5, 6, 8, 10, 14, 1, 2, 4, 6, 9, 10, 11, 12, 1, 4, 6, 9, 10, 11, 1, 2, 3, 4, 5, 7, 8, 11, 1, 2, 3, 6, 8, 9, 10, 11, 1, 2, 3, 4, 5, 6, 7, 8, 9, 10, 11, 12, 13, 14, 2, 14, 3, 5, 1, 2, 1, 2, 3, 5, 9, 1, 2, 3, 4, 5, 6, 7, 9, 11, 12, 13, 5, 7, 13, 1, 2, 3, 4, 5, 6, 8, 10, 1, 4, 8, 13, 4, 1, 2, 3, 4, 5, 6, 8, 9, 10, 11, 13, 14, 1, 6, 11, 1, 2, 3, 4, 5, 6, 7, 9, 12, 13, 1, 4, 6, 8, 11, 12, 1, 6, 13, 3, 3, 1, 4, 9, 10, 1, 2, 3, 4, 5, 6, 7, 8, 9, 10, 11, 12, 13, 14, 1, 2, 3, 4, 5, 6, 7, 8, 9, 10, 11, 12, 13, 14, 4, 1, 8, 1, 6, 1, 2, 3, 4, 5, 6, 7, 8, 9, 10, 11, 12, 13, 14, 1, 4, 6, 9, 10, 11, 12, 1, 4, 6, 9, 12, 1, 4, 8, 9, 12, 13, 1, 2, 3, 4, 5, 6, 7, 8, 9, 10, 11, 12, 1, 3, 4, 5, 8, 10, 1, 2, 10, 1, 2, 3, 4, 5, 6, 7, 8, 9, 10, 11, 12, 13, 14, 1, 6, 1, 2, 3, 4, 5, 6, 7, 8, 9, 10, 11, 12, 1, 2, 6, 9, 12, 13, 1, 2, 3, 9, 14, 2, 5, 11, 1, 8, 10, 12, 2, 3, 2, 4, 5, 6, 7, 1, 2, 3, 4, 5, 6, 7, 8, 9, 10, 11, 12, 13, 14, 1, 2, 3, 4, 5, 8, 10, 1, 2, 3, 5, 6, 7, 8, 9, 11, 13, 3, 5, 1, 4, 8, 11, 1, 8, 9, 10, 12, 1, 4, 5, 7, 8, 9, 1, 4, 10, 11, 1, 2, 4, 12, 13, 1, 4, 5, 8, 11, 13, 1, 2, 3, 5, 10, 2, 3, 4, 5, 8, 9, 1, 2, 3, 5, 7, 9, 14, 1, 2, 3, 5, 9, 13, 1, 2, 3, 4, 5, 6, 7, 8, 9, 10, 11, 12, 13, 14, 1, 2, 3, 4, 5, 6, 7, 8, 9, 10, 11, 12, 14, 1, 4, 8, 12, 1, 3, 5, 1, 4, 9, 11, 1, 3, 4, 8, 1, 2, 3, 12, 13, 1, 2, 3, 4, 5, 7, 1, 2, 3, 4, 6, 8, 9, 1, 1, 3, 6, 9, 10, 3, 1, 2, 3, 4, 5, 6, 7, 8, 9, 11, 4, 7, 1, 2, 3, 5, 6, 9, 10, 11, 14, 1, 2, 3, 4, 5, 6, 7, 8, 9, 10, 13, 14, 1, 6, 9, 10, 1, 2, 3, 6, 11, 1, 4, 6, 9, 12, 1, 6, 8, 9, 1, 9, 11, 2, 3, 14, 1, 2, 5, 7, 1, 6, 9, 12, 2, 5, 7, 1, 2, 6, 8, 9, 1, 2, 3, 4, 5, 6, 7, 8, 10, 11, 12, 14, 1, 2, 3, 4, 5, 6, 7, 8, 9, 10, 11, 14, 1, 4, 8, 1, 2, 3, 5, 6, 11, 13, 1, 2, 3, 5, 6, 7, 9, 12, 1, 1, 4, 6, 7, 9, 12, 6, 8, 4, 10, 1, 2, 3, 4, 5, 6, 7, 8, 9, 10, 11, 12, 1, 3, 4, 8, 1, 2, 3, 6, 7, 11, 12, 1, 2, 3, 4, 5, 8, 9, 11, 12, 1, 4, 8, 9, 11, 13, 1, 4, 6, 12, 1, 2, 3, 12, 13, 1, 2, 6, 7, 2, 3, 4, 5, 9, 10, 13, 1, 2, 3, 4, 5, 6, 7, 8, 9, 10, 11, 1, 4, 6, 8, 9, 12, 1, 2, 3, 4, 5, 10, 11, 13, 1, 2, 5, 7, 9, 1, 2, 9, 10, 12, 3, 4, 5, 6, 7, 8, 10, 14, 1, 4, 6, 10, 1, 3, 4, 6, 9, 11, 12, 14, 1, 4, 6, 9, 12, 14, 1, 4, 5, 6, 7, 9, 1, 5, 6, 8, 9, 12, 1, 9, 1, 6, 9, 10, 1, 3, 4, 6, 7, 2, 5, 7, 1, 2, 3, 5, 7, 12, 1, 2, 3, 4, 5, 6, 7, 8, 9, 11, 12, 13, 1, 4, 6, 8, 11, 2, 3, 4, 12, 13, 1, 3, 4, 6, 8, 10, 12, 13, 1, 2, 3, 4, 5, 6, 7, 9, 1, 2, 3, 7, 12, 1, 2, 3, 5, 6, 8, 9, 1, 4, 8, 9, 11, 13, 14, 1, 2, 3, 4, 1, 2, 3, 4, 5, 11, 1, 2, 3, 5, 14, 1, 2, 3, 4, 8, 11, 1, 2, 3, 4, 5, 6, 7, 8, 9, 10, 11, 13, 14, 1, 2, 3, 4, 5, 6, 13, 1, 2, 3, 4, 5, 6, 7, 8, 11, 14, 1, 5, 7, 9, 1, 1, 6, 13, 1, 7, 9, 11, 1, 2, 3, 4, 5, 6, 7, 8, 9, 10, 11, 12, 14, 1, 2, 4, 13, 14, 1, 3, 4, 8, 12, 1, 2, 3, 4, 5, 7, 13, 1, 4, 6, 8, 9, 10, 12, 1, 2, 5, 6, 9, 10, 1, 9, 12, 1, 2, 3, 4, 5, 6, 7, 8, 9, 10, 11, 12, 13, 14, 1, 2, 3, 4, 8, 10, 14, 2, 3, 14, 1, 2, 3, 4, 5, 6, 7, 8, 9, 10, 11, 12, 1, 2, 3, 6, 10, 14, 1, 4, 8, 1, 3, 6, 8, 1, 2, 9, 1, 2, 3, 4, 5, 6, 8, 12, 1, 3, 5, 9, 1, 2, 4, 6, 11, 12, 2, 3, 1, 2, 3, 4, 5, 6, 7, 8, 9, 10, 11, 12, 13, 14, 1, 2, 3, 4, 5, 6, 7, 8, 9, 12, 14, 1, 2, 6, 8, 9, 1, 2, 3, 4, 5, 6, 7, 8, 9, 10, 11, 12, 14, 1, 2, 3, 4, 5, 6, 7, 8, 9, 10, 11, 12, 13, 14, 1, 2, 3, 4, 11, 1, 5, 6, 1, 4, 6, 9, 12, 1, 2, 3, 4, 5, 6, 7, 9, 13, 1, 2, 3, 4, 5, 7, 1, 2, 3, 4, 5, 6, 7, 8, 9, 10, 12, 14, 1, 2, 3, 4, 5, 6, 7, 8, 9, 10, 13, 1, 2, 3, 4, 5, 6, 11, 14, 1, 2, 3, 4, 5, 6, 8, 9, 10, 11, 12, 1, 3, 4, 5, 1, 2, 3, 4, 5, 6, 7, 8, 9, 10, 11, 12, 13, 1, 2, 3, 5, 7, 11, 13, 14, 1, 6, 8, 9, 10, 12, 1, 2, 4, 5, 6, 9, 11, 13, 1, 3, 4, 5, 6, 8, 11, 1, 2, 3, 4, 5, 6, 7, 8, 9, 10, 11, 13, 1, 4, 8, 10, 1, 2, 3, 4, 5, 6, 7, 8, 9, 10, 11, 12, 13, 1, 3, 4, 7, 12, 14, 1, 6, 9, 1, 2, 3, 4, 5, 6, 7, 8, 9, 10, 11, 12, 13, 14, 1, 4, 12, 14, 1, 2, 3, 4, 5, 6, 7, 8, 9, 10, 12, 13, 1, 2, 3, 4, 5, 6, 8, 9, 10, 11, 12, 13, 1, 2, 3, 4, 6, 8, 10, 14, 3, 3, 1, 2, 3, 4, 5, 6, 7, 8, 10, 11, 1, 2, 3, 5, 8, 14, 1, 2, 3, 4, 5, 6, 7, 8, 9, 10, 11, 12, 13, 14, 1, 6, 8, 10, 4, 10, 1, 2, 3, 4, 5, 6, 7, 8, 9, 10, 11, 12, 13, 1, 2, 4, 6, 14, 1, 2, 3, 4, 5, 6, 7, 8, 10, 11, 1, 2, 3, 4, 5, 6, 7, 8, 10, 11, 12, 1, 3, 4, 6, 9, 1, 2, 4, 5, 6, 13, 1, 6, 8, 1, 2, 3, 5, 12, 14, 1, 2, 4, 5, 6, 11, 12, 13, 1, 4, 6, 11, 12, 1, 1, 2, 3, 4, 5, 6, 7, 8, 12, 13, 1, 2, 3, 4, 5, 6, 7, 8, 9, 10, 11, 12, 13, 14, 1, 2, 3, 4, 5, 6, 7, 8, 9, 10, 11, 12, 13, 14, 1, 4, 8, 2, 5, 7, 1, 6, 1, 6, 11, 12, 1, 2, 3, 4, 5, 6, 7, 8, 9, 10, 11, 12, 1, 2, 3, 4, 5, 7, 11, 13, 2, 3, 5, 1, 2, 3, 4, 5, 6, 8, 11, 12, 14, 1, 4, 5, 6, 7, 9, 14, 1, 2, 4, 6, 9, 12, 1, 2, 3, 4, 5, 6, 7, 8, 9, 10, 11, 12, 13, 14, 1, 3, 4, 8, 14, 1, 4, 1, 6, 8, 9, 10, 1, 2, 3, 4, 5, 6, 7, 8, 9, 10, 11, 12, 13, 14, 1, 2, 3, 4, 5, 6, 7, 8, 9, 10, 11, 12, 13, 14, 1, 6, 14, 1, 4, 8, 9, 10, 1, 2, 3, 4, 5, 6, 7, 8, 9, 10, 11, 12, 13, 14, 1, 2, 3, 4, 5, 7, 8, 9, 11, 12, 1, 6, 10, 11, 1, 4, 5, 12, 1, 2, 3, 4, 5, 6, 7, 8, 9, 10, 11, 12, 13, 14, 1, 4, 6, 1, 3, 6, 9, 10, 1, 3, 1, 2, 3, 4, 5, 6, 7, 8, 9, 10, 11, 12, 13, 1, 3, 6, 11, 12, 13, 1, 1, 2, 3, 4, 5, 6, 9, 10, 11, 12, 13, 1, 2, 4, 5, 6, 7, 11, 3, 4, 5, 6, 11, 1, 1, 4, 1, 2, 4, 8, 9, 10, 1, 8, 10, 11, 1, 2, 3, 4, 1, 3, 4, 5, 7, 9, 1, 4, 11, 12, 1, 2, 3, 4, 5, 6, 7, 8, 9, 14, 1, 2, 3, 4, 11, 1, 4, 2, 5, 1, 3, 4, 6, 1, 4, 9, 1, 3, 4, 8, 14, 1, 3, 4, 6, 8, 9, 11, 1, 4, 8, 9, 10, 2, 5, 7, 1, 6, 11, 12, 1, 3, 4, 6, 7, 1, 6, 9, 10, 1, 6, 10, 12, 1, 1, 6, 9, 12, 1, 4, 10, 11, 1, 4, 1, 2, 3, 4, 5, 6, 7, 8, 9, 10, 11, 12, 13, 1, 2, 4, 6, 9, 11, 13, 1, 2, 3, 4, 5, 6, 7, 8, 9, 10, 11, 12, 13, 14, 1, 2, 4, 5, 2, 5, 7, 13, 2, 1, 2, 3, 4, 5, 6, 7, 8, 9, 10, 11, 12, 13, 1, 4, 11, 2, 3, 5, 14, 1, 2, 3, 4, 5, 6, 7, 8, 9, 10, 11, 12, 13, 1, 2, 3, 4, 5, 11, 13, 3, 5, 1, 2, 5, 6, 7, 12, 1, 2, 3, 4, 5, 6, 7, 8, 9, 10, 11, 12, 13, 14, 1, 2, 3, 5, 6, 7, 13, 1, 2, 3, 4, 5, 6, 7, 8, 9, 10, 11, 12, 13, 14, 1, 3, 4, 6, 8, 11, 14, 2, 5, 7, 1, 2, 3, 4, 5, 6, 14, 1, 2, 3, 4, 5, 6, 7, 8, 9, 10, 11, 12, 13, 14, 1, 2, 3, 4, 5, 6, 7, 8, 9, 10, 11, 13, 1, 3, 4, 12, 13, 1, 3, 4, 6, 12, 2, 4, 5, 8, 14, 1, 2, 3, 4, 5, 6, 7, 8, 9, 10, 11, 12, 14, 1, 2, 3, 4, 5, 6, 7, 8, 9, 10, 11, 12, 13, 14, 1, 2, 3, 4, 5, 6, 7, 8, 9, 10, 11, 12, 13, 1, 1, 11], \"Freq\": [0.31369563937187195, 0.40780434012413025, 0.2509565055370331, 0.3167530596256256, 0.063350610435009, 0.253402441740036, 0.1900518238544464, 0.063350610435009, 0.063350610435009, 0.610113263130188, 0.1743180900812149, 0.08715904504060745, 0.08715904504060745, 0.09642462432384491, 0.38569849729537964, 0.19284924864768982, 0.09642462432384491, 0.09642462432384491, 0.09642462432384491, 0.11050917208194733, 0.5378113389015198, 0.014734556898474693, 0.14734557271003723, 0.18418195843696594, 0.5324739217758179, 0.26623696088790894, 0.08874564617872238, 0.28518521785736084, 0.28518521785736084, 0.12674899399280548, 0.03168724849820137, 0.25349798798561096, 0.03168724849820137, 0.09786419570446014, 0.09786419570446014, 0.09786419570446014, 0.1957283914089203, 0.1957283914089203, 0.1957283914089203, 0.09786419570446014, 0.9684133529663086, 0.26333197951316833, 0.17555464804172516, 0.26333197951316833, 0.04388866201043129, 0.04388866201043129, 0.08777732402086258, 0.08777732402086258, 0.18613018095493317, 0.09306509047746658, 0.5583905577659607, 0.09306509047746658, 0.3993249833583832, 0.0380309522151947, 0.09507738053798676, 0.1140928566455841, 0.0380309522151947, 0.05704642832279205, 0.0380309522151947, 0.17113928496837616, 0.01901547610759735, 0.09314202517271042, 0.09314202517271042, 0.3725681006908417, 0.09314202517271042, 0.3725681006908417, 0.5309668183326721, 0.0758524015545845, 0.0758524015545845, 0.2275571972131729, 0.15206363797187805, 0.05068787932395935, 0.25343939661979675, 0.1013757586479187, 0.05068787932395935, 0.3041272759437561, 0.05068787932395935, 0.46220704913139343, 0.05777588114142418, 0.17332765460014343, 0.17332765460014343, 0.05777588114142418, 0.7864364385604858, 0.08738182485103607, 0.2771843671798706, 0.2771843671798706, 0.1187932938337326, 0.2771843671798706, 0.0400300994515419, 0.4803611636161804, 0.2001504898071289, 0.1200902909040451, 0.0400300994515419, 0.0400300994515419, 0.0400300994515419, 0.19201500713825226, 0.576045036315918, 0.09600750356912613, 0.09600750356912613, 0.3670080602169037, 0.08469416946172714, 0.05646277591586113, 0.16938833892345428, 0.028231387957930565, 0.22585110366344452, 0.028231387957930565, 0.26118552684783936, 0.08706184476613998, 0.17412368953227997, 0.34824737906455994, 0.08706184476613998, 0.3004854917526245, 0.07512137293815613, 0.15024274587631226, 0.15024274587631226, 0.07512137293815613, 0.15024274587631226, 0.07512137293815613, 0.07512137293815613, 0.29707902669906616, 0.14853951334953308, 0.29707902669906616, 0.07426975667476654, 0.14853951334953308, 0.28804662823677063, 0.12273290753364563, 0.06512358039617538, 0.23795154690742493, 0.025047531351447105, 0.05760932341217995, 0.01753327250480652, 0.08015210181474686, 0.03256179019808769, 0.02254277840256691, 0.02254277840256691, 0.010019012726843357, 0.010019012726843357, 0.0050095063634216785, 0.46765413880348206, 0.37412330508232117, 0.09353082627058029, 0.09008655697107315, 0.3603462278842926, 0.09008655697107315, 0.09008655697107315, 0.27025967836380005, 0.09008655697107315, 0.48040351271629333, 0.06862907111644745, 0.06862907111644745, 0.34314537048339844, 0.13606002926826477, 0.2834583818912506, 0.27212005853652954, 0.12472169101238251, 0.07936835289001465, 0.02267667092382908, 0.03401500731706619, 0.04535334184765816, 0.30104079842567444, 0.45156121253967285, 0.15052039921283722, 0.23983465135097504, 0.04796693101525307, 0.09593386203050613, 0.23983465135097504, 0.287801593542099, 0.13299071788787842, 0.6261646151542664, 0.09420175105333328, 0.005541279911994934, 0.07757791876792908, 0.011082559823989868, 0.011082559823989868, 0.02770639769732952, 0.6114662885665894, 0.11117569357156754, 0.11117569357156754, 0.05558784678578377, 0.11117569357156754, 0.2235567569732666, 0.23232369124889374, 0.20310059189796448, 0.11104780435562134, 0.07890238612890244, 0.03652888163924217, 0.023378483951091766, 0.027761951088905334, 0.03068426065146923, 0.014611552469432354, 0.010228087194263935, 0.007305776234716177, 0.0014611552469432354, 0.18251781165599823, 0.3041963577270508, 0.12167853862047195, 0.12167853862047195, 0.2433570772409439, 0.17972026765346527, 0.7188810706138611, 0.02246503345668316, 0.02246503345668316, 0.01123251672834158, 0.033697549253702164, 0.01123251672834158, 0.5775836110115051, 0.16502389311790466, 0.08251194655895233, 0.08251194655895233, 0.9598354697227478, 0.03387654572725296, 0.3210681676864624, 0.1204005554318428, 0.0401335209608078, 0.1204005554318428, 0.4013351798057556, 0.8241134285926819, 0.04190407320857048, 0.11174419522285461, 0.013968024402856827, 0.00661443779245019, 0.7738891839981079, 0.19181868433952332, 0.019843311980366707, 0.17008325457572937, 0.11338884383440018, 0.28347209095954895, 0.17008325457572937, 0.05669442191720009, 0.17008325457572937, 0.7165148258209229, 0.012248117476701736, 0.10410899668931961, 0.07961276173591614, 0.061240583658218384, 0.018372176215052605, 0.4088750183582306, 0.03999864310026169, 0.11555163562297821, 0.15999457240104675, 0.026665762066841125, 0.004444293677806854, 0.004444293677806854, 0.11999592930078506, 0.03111005574464798, 0.06222011148929596, 0.004444293677806854, 0.008888587355613708, 0.006895043421536684, 0.28959181904792786, 0.5378133654594421, 0.08274051547050476, 0.006895043421536684, 0.048265304416418076, 0.006895043421536684, 0.006895043421536684, 0.16202424466609955, 0.2846371829509735, 0.24084685742855072, 0.07663308829069138, 0.06349598616361618, 0.05473792180418968, 0.024084685370326042, 0.00656855059787631, 0.050358887761831284, 0.01313710119575262, 0.008758067153394222, 0.004379033576697111, 0.00656855059787631, 0.43802186846733093, 0.08760437369346619, 0.08760437369346619, 0.08760437369346619, 0.26281312108039856, 0.1823367327451706, 0.03646734729409218, 0.1458693891763687, 0.03646734729409218, 0.4740754961967468, 0.03646734729409218, 0.03646734729409218, 0.03646734729409218, 0.03646734729409218, 0.9158715009689331, 0.07476501911878586, 0.003115209052339196, 0.9070050120353699, 0.05668781325221062, 0.9654473662376404, 0.27695491909980774, 0.7036151885986328, 0.007485268171876669, 0.49854975938796997, 0.2991298735141754, 0.04985497519373894, 0.04985497519373894, 0.04985497519373894, 0.04985497519373894, 0.16995371878147125, 0.24926546216011047, 0.13434436917304993, 0.12786994874477386, 0.13758158683776855, 0.0550326332449913, 0.03399074450135231, 0.021041888743638992, 0.029134923592209816, 0.004855820443481207, 0.016186067834496498, 0.008093033917248249, 0.008093033917248249, 0.003237213706597686, 0.9473080039024353, 0.02059365250170231, 0.39498937129974365, 0.09874734282493591, 0.19749468564987183, 0.09874734282493591, 0.19749468564987183, 0.9760703444480896, 0.013145728968083858, 0.0032864322420209646, 0.5278991460800171, 0.016326777637004852, 0.20136359333992004, 0.010884517803788185, 0.032653555274009705, 0.04898033291101456, 0.016326777637004852, 0.10340292006731033, 0.010884517803788185, 0.02176903560757637, 0.010884517803788185, 0.2375229299068451, 0.1357273906469345, 0.10179553925991058, 0.4750458598136902, 0.03393184766173363, 0.4646284282207489, 0.30975228548049927, 0.15487614274024963, 0.28645098209381104, 0.6445146799087524, 0.3479578197002411, 0.08698945492506027, 0.43494725227355957, 0.08698945492506027, 0.03924505040049553, 0.3496377170085907, 0.17838658392429352, 0.032109584659338, 0.2675798833370209, 0.01427092682570219, 0.09276102483272552, 0.007135463412851095, 0.0035677317064255476, 0.007135463412851095, 0.0035677317064255476, 0.27385130524635315, 0.20538848638534546, 0.06846282631158829, 0.3423141539096832, 0.3141646087169647, 0.3141646087169647, 0.3141646087169647, 0.2649182975292206, 0.04675028473138809, 0.04675028473138809, 0.20258456468582153, 0.12466742843389511, 0.07791714370250702, 0.031166857108473778, 0.04675028473138809, 0.031166857108473778, 0.04675028473138809, 0.062333714216947556, 0.09138428419828415, 0.09138428419828415, 0.1827685683965683, 0.3655371367931366, 0.1827685683965683, 0.9612619280815125, 0.1848866492509842, 0.0924433246254921, 0.0924433246254921, 0.0924433246254921, 0.4622166156768799, 0.46798446774482727, 0.18719378113746643, 0.09359689056873322, 0.28079068660736084, 0.97406005859375, 0.014015252701938152, 0.733350932598114, 0.14667019248008728, 0.07333509624004364, 0.4977620244026184, 0.02928011864423752, 0.05856023728847504, 0.23424094915390015, 0.02928011864423752, 0.02928011864423752, 0.11712047457695007, 0.3004836440086365, 0.060096729546785355, 0.18029017746448517, 0.12019345909357071, 0.3004836440086365, 0.00844733975827694, 0.7856026291847229, 0.18584147095680237, 0.00844733975827694, 0.00422366987913847, 0.9797742962837219, 0.2168636918067932, 0.2243417501449585, 0.1719953417778015, 0.08225864171981812, 0.10469281673431396, 0.05234640836715698, 0.02243417501449585, 0.0448683500289917, 0.029912233352661133, 0.007478058338165283, 0.014956116676330566, 0.029912233352661133, 0.7687667012214661, 0.1098238080739975, 0.09151984006166458, 0.25139036774635315, 0.67037433385849, 0.727104127407074, 0.053859561681747437, 0.21543824672698975, 0.28371915221214294, 0.3782922327518463, 0.18914611637592316, 0.09457305818796158, 0.48330166935920715, 0.09061906486749649, 0.36247625946998596, 0.33436283469200134, 0.02786356955766678, 0.22290855646133423, 0.19504497945308685, 0.05572713911533356, 0.08359070867300034, 0.05572713911533356, 0.2963879406452179, 0.18272459506988525, 0.16689805686473846, 0.13524498045444489, 0.04891839623451233, 0.047479622066020966, 0.023020422086119652, 0.04460207000374794, 0.018704093992710114, 0.018704093992710114, 0.005755105521529913, 0.005755105521529913, 0.0028775527607649565, 0.0014387763803824782, 0.861339807510376, 0.11234867572784424, 0.2816961407661438, 0.2816961407661438, 0.17214764654636383, 0.21909700334072113, 0.03129957243800163, 0.37619566917419434, 0.09404891729354858, 0.09404891729354858, 0.09404891729354858, 0.28214675188064575, 0.28569719195365906, 0.14284859597682953, 0.4285457730293274, 0.07142429798841476, 0.9582087397575378, 0.015454979613423347, 0.007727489806711674, 0.007727489806711674, 0.08640383929014206, 0.17280767858028412, 0.17280767858028412, 0.4320192039012909, 0.9545794129371643, 0.019091587513685226, 0.019091587513685226, 0.2941710650920868, 0.049028512090444565, 0.09805702418088913, 0.049028512090444565, 0.4412566125392914, 0.049028512090444565, 0.19335012137889862, 0.09667506068944931, 0.19335012137889862, 0.048337530344724655, 0.14501258730888367, 0.048337530344724655, 0.19335012137889862, 0.048337530344724655, 0.7380058765411377, 0.24007420241832733, 0.008891637437045574, 0.008891637437045574, 0.3009604811668396, 0.04960887134075165, 0.11575403809547424, 0.08598871529102325, 0.12567581236362457, 0.11575403809547424, 0.01984354853630066, 0.1686701625585556, 0.0033072582446038723, 0.0033072582446038723, 0.0033072582446038723, 0.0033072582446038723, 0.37058940529823303, 0.10191208869218826, 0.1713975965976715, 0.004632367752492428, 0.26404497027397156, 0.01852947100996971, 0.01852947100996971, 0.041691310703754425, 0.004632367752492428, 0.28923824429512024, 0.6748892664909363, 0.3992899954319, 0.08556213974952698, 0.05704142525792122, 0.25668641924858093, 0.02852071262896061, 0.02852071262896061, 0.05704142525792122, 0.05704142525792122, 0.3979910910129547, 0.07621105760335922, 0.059275269508361816, 0.23710107803344727, 0.059275269508361816, 0.008467895910143852, 0.008467895910143852, 0.025403687730431557, 0.016935791820287704, 0.025403687730431557, 0.03387158364057541, 0.05080737546086311, 0.6335310339927673, 0.2319972813129425, 0.12492161244153976, 0.22062458097934723, 0.2849734127521515, 0.20223920047283173, 0.027578072622418404, 0.12869767844676971, 0.027578072622418404, 0.045963454991579056, 0.009192691184580326, 0.027578072622418404, 0.009192691184580326, 0.009192691184580326, 0.027578072622418404, 0.05055125057697296, 0.15165375173091888, 0.10110250115394592, 0.02527562528848648, 0.5307881236076355, 0.02527562528848648, 0.07582687586545944, 0.05055125057697296, 0.8118072748184204, 0.0363495796918869, 0.012116526253521442, 0.0363495796918869, 0.024233052507042885, 0.012116526253521442, 0.012116526253521442, 0.012116526253521442, 0.012116526253521442, 0.012116526253521442, 0.024233052507042885, 0.8769423961639404, 0.01565968617796898, 0.04697905853390694, 0.03131937235593796, 0.04164241626858711, 0.04164241626858711, 0.08328483253717422, 0.2914969027042389, 0.49970898032188416, 0.9835008382797241, 0.30676695704460144, 0.17630285024642944, 0.08815142512321472, 0.16219861805438995, 0.03526056930422783, 0.06346902251243591, 0.010578171350061893, 0.04936479777097702, 0.021156342700123787, 0.02468239888548851, 0.017630284652113914, 0.017630284652113914, 0.028208455070853233, 0.8617273569107056, 0.11381305009126663, 0.9586082696914673, 0.9757758378982544, 0.011215814389288425, 0.006551212165504694, 0.18998515605926514, 0.7108064889907837, 0.003275606082752347, 0.01637803018093109, 0.01965363696217537, 0.006551212165504694, 0.045858483761548996, 0.9626187086105347, 0.4891612231731415, 0.1630537360906601, 0.08152686804533005, 0.24458061158657074, 0.2068297564983368, 0.2319362610578537, 0.13987907767295837, 0.16618113219738007, 0.04543081298470497, 0.07292841374874115, 0.015542120672762394, 0.0430397167801857, 0.022715406492352486, 0.01793321594595909, 0.031084241345524788, 0.00597773864865303, 0.002391095506027341, 0.06521954387426376, 0.23913833498954773, 0.2173984795808792, 0.0543496198952198, 0.3587074875831604, 0.01086992397904396, 0.01086992397904396, 0.03260977193713188, 0.050660379230976105, 0.2533018887042999, 0.15198113024234772, 0.40528303384780884, 0.050660379230976105, 0.05379299446940422, 0.10758598893880844, 0.05379299446940422, 0.16137899458408356, 0.10758598893880844, 0.10758598893880844, 0.21517197787761688, 0.10758598893880844, 0.09567602723836899, 0.30616331100463867, 0.07654082775115967, 0.038270413875579834, 0.2104872614145279, 0.019135206937789917, 0.19135205447673798, 0.019135206937789917, 0.019135206937789917, 0.019135206937789917, 0.05550560727715492, 0.05550560727715492, 0.7215729355812073, 0.05550560727715492, 0.05550560727715492, 0.2763770818710327, 0.2763770818710327, 0.2763770818710327, 0.06909427046775818, 0.06909427046775818, 0.11787514388561249, 0.11787514388561249, 0.27504199743270874, 0.07858342677354813, 0.11787514388561249, 0.19645856320858002, 0.03929171338677406, 0.2862119972705841, 0.0954039990901947, 0.1908079981803894, 0.1908079981803894, 0.0954039990901947, 0.0954039990901947, 0.14276108145713806, 0.7138054370880127, 0.09517405927181244, 0.07670528441667557, 0.3416871726512909, 0.13946415483951569, 0.11854453384876251, 0.16038377583026886, 0.03486603870987892, 0.03486603870987892, 0.013946415856480598, 0.006973207928240299, 0.041839245706796646, 0.027892831712961197, 0.09293605387210846, 0.18587210774421692, 0.4646802544593811, 0.18587210774421692, 0.2571929693222046, 0.19289471209049225, 0.1285964846611023, 0.19289471209049225, 0.06429824233055115, 0.06429824233055115, 0.4016186594963074, 0.05238503962755203, 0.034923359751701355, 0.05238503962755203, 0.034923359751701355, 0.10477007925510406, 0.034923359751701355, 0.2270018458366394, 0.034923359751701355, 0.017461679875850677, 0.5345242023468018, 0.07636060565710068, 0.22908180952072144, 0.07636060565710068, 0.023478353396058083, 0.6808722019195557, 0.1408701092004776, 0.1056525856256485, 0.023478353396058083, 0.011739176698029041, 0.32818108797073364, 0.21878738701343536, 0.16409054398536682, 0.21878738701343536, 0.05469684675335884, 0.1681663542985916, 0.0336332693696022, 0.6053988933563232, 0.10089980810880661, 0.0336332693696022, 0.0336332693696022, 0.20940877497196198, 0.052352193742990494, 0.10470438748598099, 0.052352193742990494, 0.5235219597816467, 0.33730947971343994, 0.2018090933561325, 0.09513857215642929, 0.08360662311315536, 0.06342571973800659, 0.05765974149107933, 0.03459584712982178, 0.03459584712982178, 0.028829870745539665, 0.011531948111951351, 0.014414935372769833, 0.031712859869003296, 0.005765974055975676, 0.4845777153968811, 0.051008179783821106, 0.12752045691013336, 0.2550409138202667, 0.051008179783821106, 0.2375672459602356, 0.6651882529258728, 0.047513447701931, 0.047513447701931, 0.6303654313087463, 0.06303653866052628, 0.06303653866052628, 0.18910962343215942, 0.06303653866052628, 0.23351235687732697, 0.7005370259284973, 0.3092706799507141, 0.05154511705040932, 0.41236093640327454, 0.10309023410081863, 0.10309023410081863, 0.18684415519237518, 0.03114069439470768, 0.7681370973587036, 0.14011071622371674, 0.22417713701725006, 0.08406642824411392, 0.47637641429901123, 0.056044284254312515, 0.028022142127156258, 0.22307465970516205, 0.07435822486877441, 0.14871644973754883, 0.22307465970516205, 0.22307465970516205, 0.14871644973754883, 0.4402545094490051, 0.017610181123018265, 0.07044072449207306, 0.03522036224603653, 0.36981379985809326, 0.017610181123018265, 0.03522036224603653, 0.39030808210372925, 0.15612323582172394, 0.3122464716434479, 0.15612323582172394, 0.40490421652793884, 0.13496807217597961, 0.26993614435195923, 0.06748403608798981, 0.21695294976234436, 0.21695294976234436, 0.06198655813932419, 0.06198655813932419, 0.21695294976234436, 0.09297983348369598, 0.15496639907360077, 0.40465280413627625, 0.11561508476734161, 0.11561508476734161, 0.05780754238367081, 0.05780754238367081, 0.23123016953468323, 0.8141379356384277, 0.05088362097740173, 0.05088362097740173, 0.05088362097740173, 0.014317565597593784, 0.7445133924484253, 0.08590539544820786, 0.014317565597593784, 0.014317565597593784, 0.08590539544820786, 0.014317565597593784, 0.014317565597593784, 0.014317565597593784, 0.9447939395904541, 0.043605875223875046, 0.002422548597678542, 0.002422548597678542, 0.11635276675224304, 0.46541106700897217, 0.11635276675224304, 0.07756850868463516, 0.1939212679862976, 0.5210282206535339, 0.008683804422616959, 0.008683804422616959, 0.21709510684013367, 0.07815423607826233, 0.017367608845233917, 0.026051411405205727, 0.017367608845233917, 0.07815423607826233, 0.008683804422616959, 0.013025705702602863, 0.004341902211308479, 0.35453853011131287, 0.17726926505565643, 0.08863463252782822, 0.17726926505565643, 0.17726926505565643, 0.15686054527759552, 0.15686054527759552, 0.07843027263879776, 0.07843027263879776, 0.07843027263879776, 0.31372109055519104, 0.8809450268745422, 0.11212027817964554, 0.9355332255363464, 0.027515683323144913, 0.11583425104618073, 0.28596580028533936, 0.1990901231765747, 0.04705766588449478, 0.23166850209236145, 0.07963604480028152, 0.010859460569918156, 0.010859460569918156, 0.010859460569918156, 0.0036198203451931477, 0.3169006109237671, 0.20781908929347992, 0.16738370060920715, 0.10249900817871094, 0.05830218642950058, 0.04231610521674156, 0.020687872543931007, 0.02915109321475029, 0.0235089473426342, 0.00940357893705368, 0.008463220670819283, 0.007522862870246172, 0.006582505069673061, 0.0009403578587807715, 0.04710393771529198, 0.41552403569221497, 0.2372019737958908, 0.021869685500860214, 0.15477009117603302, 0.03532795608043671, 0.06056220829486847, 0.008411417715251446, 0.011775984428822994, 0.0016822835896164179, 0.0033645671792328358, 0.0016822835896164179, 0.42641371488571167, 0.511696457862854, 0.35007232427597046, 0.08751808106899261, 0.35007232427597046, 0.08751808106899261, 0.08751808106899261, 0.08423465490341187, 0.2527039647102356, 0.08423465490341187, 0.4211732745170593, 0.08423465490341187, 0.5703344345092773, 0.19011147320270538, 0.19011147320270538, 0.09505573660135269, 0.28626808524131775, 0.19084538519382477, 0.19084538519382477, 0.19084538519382477, 0.09542269259691238, 0.15139015018939972, 0.30278030037879944, 0.15139015018939972, 0.07569507509469986, 0.15139015018939972, 0.07569507509469986, 0.8862510919570923, 0.06564822793006897, 0.3250763416290283, 0.2031727135181427, 0.24380725622177124, 0.04063454270362854, 0.04063454270362854, 0.08126908540725708, 0.033461593091487885, 0.033461593091487885, 0.9034630656242371, 0.8193140625953674, 0.0674729198217392, 0.00963898841291666, 0.028916966170072556, 0.00963898841291666, 0.00963898841291666, 0.028916966170072556, 0.00963898841291666, 0.25476232171058655, 0.08492077142000198, 0.08492077142000198, 0.25476232171058655, 0.25476232171058655, 0.14916609227657318, 0.14916609227657318, 0.29833218455314636, 0.07458304613828659, 0.07458304613828659, 0.14916609227657318, 0.9440447092056274, 0.037761788815259933, 0.4059823751449585, 0.10149559378623962, 0.13532745838165283, 0.10149559378623962, 0.10149559378623962, 0.10149559378623962, 0.8363348841667175, 0.14153359830379486, 0.012866690754890442, 0.7809072732925415, 0.13015121221542358, 0.9274232387542725, 0.04215560108423233, 0.021077800542116165, 0.14655719697475433, 0.29311439394950867, 0.07327859848737717, 0.07327859848737717, 0.36639299988746643, 0.07327859848737717, 0.3863493502140045, 0.15453973412513733, 0.07726986706256866, 0.30907946825027466, 0.36967435479164124, 0.09241858869791031, 0.09241858869791031, 0.27725574374198914, 0.9203667044639587, 0.06734390556812286, 0.1830361783504486, 0.0915180891752243, 0.22879521548748016, 0.5033494830131531, 0.9257835149765015, 0.04628917574882507, 0.34340423345565796, 0.565606951713562, 0.06060074642300606, 0.04040049761533737, 0.40766799449920654, 0.09961118549108505, 0.07563071697950363, 0.1586400419473648, 0.020291168242692947, 0.027669774368405342, 0.011067909188568592, 0.0664074569940567, 0.014757213182747364, 0.08854327350854874, 0.012912561185657978, 0.011067909188568592, 0.0018446516478434205, 0.0018446516478434205, 0.4890294373035431, 0.028766438364982605, 0.028766438364982605, 0.11506575345993042, 0.28766438364982605, 0.028766438364982605, 0.6482413411140442, 0.09260590374469757, 0.18521180748939514, 0.18607152998447418, 0.24914662539958954, 0.16084149479866028, 0.1040739044547081, 0.08199761807918549, 0.04730632156133652, 0.09145888686180115, 0.0031537546310573816, 0.03469130024313927, 0.009461264126002789, 0.01576877385377884, 0.006307509262114763, 0.006307509262114763, 0.0031537546310573816, 0.20080310106277466, 0.20080310106277466, 0.10040155053138733, 0.10040155053138733, 0.10040155053138733, 0.20080310106277466, 0.10178469866514206, 0.008850843645632267, 0.7832996249198914, 0.08850843459367752, 0.008850843645632267, 0.17975032329559326, 0.08987516164779663, 0.17975032329559326, 0.17975032329559326, 0.2696254849433899, 0.08902811259031296, 0.17805622518062592, 0.2967603802680969, 0.14838019013404846, 0.029676038771867752, 0.11870415508747101, 0.059352077543735504, 0.059352077543735504, 0.23754309117794037, 0.07918103039264679, 0.39590513706207275, 0.15836206078529358, 0.0158794354647398, 0.8416100740432739, 0.06034185737371445, 0.0317588709294796, 0.003175887046381831, 0.04128653183579445, 0.57696533203125, 0.096160888671875, 0.19232177734375, 0.19232177734375, 0.0014805477112531662, 0.0014805477112531662, 0.9816031455993652, 0.01184438169002533, 0.0014805477112531662, 0.0015693602617830038, 0.8882579207420349, 0.08160673081874847, 0.0015693602617830038, 0.0031387205235660076, 0.0015693602617830038, 0.0015693602617830038, 0.015693603083491325, 0.9414610862731934, 0.0376584418118, 0.4637887477874756, 0.24892616271972656, 0.24892616271972656, 0.03144330531358719, 0.6180432438850403, 0.30902162194252014, 0.7468438148498535, 0.16803985834121704, 0.028006641194224358, 0.037342190742492676, 0.4260953962802887, 0.001157867955043912, 0.3832542896270752, 0.18062739074230194, 0.006947207264602184, 0.008642158471047878, 0.20741181075572968, 0.5358138680458069, 0.20741181075572968, 0.02592647634446621, 0.008642158471047878, 0.3659070134162903, 0.07785255461931229, 0.03892627730965614, 0.26469868421554565, 0.05449678748846054, 0.023355767130851746, 0.05449678748846054, 0.007785255555063486, 0.09342306852340698, 0.007785255555063486, 0.007785255555063486, 0.720278263092041, 0.008678051643073559, 0.0520683117210865, 0.013017077930271626, 0.09545856714248657, 0.004339025821536779, 0.008678051643073559, 0.034712206572294235, 0.04339025914669037, 0.013017077930271626, 0.4641875922679901, 0.37135007977485657, 0.09283751994371414, 0.37148231267929077, 0.5572234988212585, 0.09287057816982269, 0.48783519864082336, 0.13938148319721222, 0.06969074159860611, 0.20907223224639893, 0.06969074159860611, 0.33291879296302795, 0.11097293347120285, 0.2219458669424057, 0.11097293347120285, 0.03699097782373428, 0.11097293347120285, 0.2717125415802002, 0.2717125415802002, 0.0905708447098732, 0.2717125415802002, 0.0905708447098732, 0.033483028411865234, 0.033483028411865234, 0.033483028411865234, 0.9040417671203613, 0.9457017183303833, 0.00900668278336525, 0.036026731133461, 0.00900668278336525, 0.9571266174316406, 0.799290120601654, 0.08108740299940109, 0.04633565992116928, 0.05791957676410675, 0.9587874412536621, 0.3519313335418701, 0.28154507279396057, 0.21115881204605103, 0.14077253639698029, 0.5782629251480103, 0.09637714922428131, 0.09637714922428131, 0.09637714922428131, 0.09637714922428131, 0.4460490942001343, 0.04510609060525894, 0.04009430110454559, 0.16538898646831512, 0.012529469095170498, 0.13030648231506348, 0.04510609060525894, 0.04260019585490227, 0.02255304530262947, 0.012529469095170498, 0.020047150552272797, 0.010023575276136398, 0.0025058938190340996, 0.005011787638068199, 0.3981589674949646, 0.08398665487766266, 0.10887158662080765, 0.13531182706356049, 0.026440242305397987, 0.0886525809764862, 0.02177431806921959, 0.07154418528079987, 0.02332962676882744, 0.015553084202110767, 0.012442467734217644, 0.010887159034609795, 0.004665925167500973, 0.1864771842956543, 0.5496169924736023, 0.10796047747135162, 0.0588875338435173, 0.02944376692175865, 0.019629178568720818, 0.039258357137441635, 0.4104791581630707, 0.051557768136262894, 0.06543871015310287, 0.1982991099357605, 0.01982991024851799, 0.07337067276239395, 0.015863928943872452, 0.07931964099407196, 0.01982991024851799, 0.03767682984471321, 0.01784691959619522, 0.003965982235968113, 0.005948973353952169, 0.0019829911179840565, 0.026435235515236855, 0.5075564980506897, 0.0026435235049575567, 0.24320416152477264, 0.11367151141166687, 0.018504664301872253, 0.0026435235049575567, 0.007930570282042027, 0.07401865720748901, 0.0026435235049575567, 0.9379002451896667, 0.9123144745826721, 0.08293768018484116, 0.14588990807533264, 0.012157492339611053, 0.6565045714378357, 0.17020489275455475, 0.012157492339611053, 0.19025065004825592, 0.5707519054412842, 0.12683376669883728, 0.06341688334941864, 0.471924364566803, 0.28315460681915283, 0.09438487142324448, 0.09438487142324448, 0.2823193371295929, 0.03321404010057449, 0.09964212030172348, 0.13285616040229797, 0.13285616040229797, 0.06642808020114899, 0.03321404010057449, 0.03321404010057449, 0.04982106015086174, 0.06642808020114899, 0.06642808020114899, 0.042555563151836395, 0.40621218085289, 0.0677020326256752, 0.03675253316760063, 0.2533990442752838, 0.08124243468046188, 0.023212125524878502, 0.05416162684559822, 0.019343437626957893, 0.007737374864518642, 0.0058030313812196255, 0.4364180564880371, 0.08728361129760742, 0.17456722259521484, 0.17456722259521484, 0.08728361129760742, 0.08728361129760742, 0.19164931774139404, 0.1543150395154953, 0.1692487597465515, 0.1294255256652832, 0.13191446661949158, 0.0647127628326416, 0.04231218993663788, 0.027378475293517113, 0.04977904632687569, 0.012444761581718922, 0.0074668568558990955, 0.009955809451639652, 0.0074668568558990955, 0.002488952362909913, 0.2946706712245941, 0.16519415378570557, 0.19198240339756012, 0.13989415764808655, 0.09524708241224289, 0.023811770603060722, 0.025300007313489914, 0.011905885301530361, 0.014882356859743595, 0.011905885301530361, 0.005952942650765181, 0.011905885301530361, 0.0029764713253825903, 0.0029764713253825903, 0.9617063403129578, 0.03102278523147106, 0.2862275242805481, 0.20963142812252045, 0.08869022130966187, 0.12900395691394806, 0.040313735604286194, 0.1128784567117691, 0.028219614177942276, 0.016125494614243507, 0.008062747307121754, 0.028219614177942276, 0.032250989228487015, 0.004031373653560877, 0.020156867802143097, 0.9301050305366516, 0.02735603041946888, 0.387470543384552, 0.096867635846138, 0.193735271692276, 0.096867635846138, 0.193735271692276, 0.07853065431118011, 0.23559196293354034, 0.15706130862236023, 0.15706130862236023, 0.07853065431118011, 0.31412261724472046, 0.10182342678308487, 0.8654991388320923, 0.040217697620391846, 0.21257925033569336, 0.17810693383216858, 0.12065308541059494, 0.2815238833427429, 0.03447231277823448, 0.040217697620391846, 0.005745385307818651, 0.040217697620391846, 0.022981541231274605, 0.01723615638911724, 0.005745385307818651, 0.5674824714660645, 0.1461697220802307, 0.25794658064842224, 0.00859821867197752, 0.025224965065717697, 0.6474407911300659, 0.016816643998026848, 0.004204160999506712, 0.13873730599880219, 0.004204160999506712, 0.14294147491455078, 0.004204160999506712, 0.012612482532858849, 0.004204160999506712, 0.13445527851581573, 0.06722763925790787, 0.6050487160682678, 0.06722763925790787, 0.38320067524909973, 0.07664013653993607, 0.12773355841636658, 0.07664013653993607, 0.05109342187643051, 0.025546710938215256, 0.05109342187643051, 0.20437368750572205, 0.28737714886665344, 0.1915847659111023, 0.23948095738887787, 0.09579238295555115, 0.14368857443332672, 0.6473612785339355, 0.012449255213141441, 0.1493910700082779, 0.07469553500413895, 0.006224627606570721, 0.012449255213141441, 0.018673883751034737, 0.07469553500413895, 0.006224627606570721, 0.07542652636766434, 0.3771326243877411, 0.13713914155960083, 0.03428478538990021, 0.17828087508678436, 0.04342739284038544, 0.09142608940601349, 0.006856956984847784, 0.03428478538990021, 0.0022856523282825947, 0.004571304656565189, 0.0022856523282825947, 0.009142609313130379, 0.15677575767040253, 0.28795549273490906, 0.2207658737897873, 0.05759109556674957, 0.11838170140981674, 0.08318714052438736, 0.006399010773748159, 0.015997527167201042, 0.02239653840661049, 0.0031995053868740797, 0.0031995053868740797, 0.009598515927791595, 0.012798021547496319, 0.0031995053868740797, 0.4689304828643799, 0.33495035767555237, 0.1339801400899887, 0.3379424810409546, 0.4055309593677521, 0.20276547968387604, 0.27432018518447876, 0.640080451965332, 0.14620153605937958, 0.024366922676563263, 0.024366922676563263, 0.07310076802968979, 0.024366922676563263, 0.6579068899154663, 0.024366922676563263, 0.6650213003158569, 0.06252336502075195, 0.05683942511677742, 0.07389125227928162, 0.02841971255838871, 0.039787597954273224, 0.005683942697942257, 0.017051827162504196, 0.017051827162504196, 0.005683942697942257, 0.005683942697942257, 0.005683942697942257, 0.011367885395884514, 0.3174266219139099, 0.5801244974136353, 0.0985117107629776, 0.5419203042984009, 0.0602133646607399, 0.3010668158531189, 0.34269827604293823, 0.048956893384456635, 0.34269827604293823, 0.24478447437286377, 0.3629283010959625, 0.045366037636995316, 0.544392466545105, 0.022683018818497658, 0.28286322951316833, 0.1666872650384903, 0.19446846842765808, 0.11112483590841293, 0.06566467881202698, 0.05808798223733902, 0.022730080410838127, 0.01767895184457302, 0.020204516127705574, 0.01767895184457302, 0.027781208977103233, 0.007576693780720234, 0.0050511290319263935, 0.0050511290319263935, 0.32209035754203796, 0.2791449725627899, 0.0858907625079155, 0.2576722800731659, 0.021472690626978874, 0.021472690626978874, 0.09553243964910507, 0.2865973114967346, 0.09553243964910507, 0.09553243964910507, 0.09553243964910507, 0.19106487929821014, 0.09553243964910507, 0.1699218600988388, 0.0566406175494194, 0.1132812350988388, 0.4531249403953552, 0.0566406175494194, 0.0566406175494194, 0.0566406175494194, 0.23291565477848053, 0.03881927579641342, 0.1940963715314865, 0.03881927579641342, 0.07763855159282684, 0.03881927579641342, 0.03881927579641342, 0.03881927579641342, 0.1552771031856537, 0.11645782738924026, 0.03881927579641342, 0.11963918060064316, 0.3800303339958191, 0.04222559183835983, 0.035187993198633194, 0.014075198210775852, 0.14075197279453278, 0.028150396421551704, 0.028150396421551704, 0.1970527619123459, 0.007037599105387926, 0.007037599105387926, 0.1637871414422989, 0.10919143259525299, 0.10919143259525299, 0.10919143259525299, 0.054595716297626495, 0.13648928701877594, 0.19108499586582184, 0.054595716297626495, 0.054595716297626495, 0.054595716297626495, 0.33311858773231506, 0.07402635365724564, 0.14805270731449127, 0.14805270731449127, 0.25909224152565, 0.22694221138954163, 0.5578995943069458, 0.18911851942539215, 0.009455925785005093, 0.4297657012939453, 0.07162761688232422, 0.14325523376464844, 0.2865104675292969, 0.07162761688232422, 0.09242445230484009, 0.09242445230484009, 0.18484890460968018, 0.09242445230484009, 0.27727335691452026, 0.18484890460968018, 0.5545963644981384, 0.18486545979976654, 0.18486545979976654, 0.25938093662261963, 0.5836070775985718, 0.032422617077827454, 0.032422617077827454, 0.032422617077827454, 0.25359973311424255, 0.017489636316895485, 0.04372408986091614, 0.4416133165359497, 0.017489636316895485, 0.10056540369987488, 0.017489636316895485, 0.013117226772010326, 0.008744818158447742, 0.004372409079223871, 0.017489636316895485, 0.05684131756424904, 0.008744818158447742, 0.004372409079223871, 0.21874529123306274, 0.4374905824661255, 0.30287808179855347, 0.03365312144160271, 0.06648636609315872, 0.631620466709137, 0.2659454643726349, 0.03324318304657936, 0.2106916308403015, 0.2121649980545044, 0.15838706493377686, 0.08545534312725067, 0.1318664401769638, 0.05230456590652466, 0.039044253528118134, 0.03388746455311775, 0.02504725754261017, 0.006630156189203262, 0.021363835781812668, 0.013260312378406525, 0.008840207941830158, 0.0014733680291101336, 0.18162856996059418, 0.12108571082353592, 0.06054285541176796, 0.06054285541176796, 0.12108571082353592, 0.423799991607666, 0.004559525288641453, 0.004559525288641453, 0.7660002708435059, 0.20061911642551422, 0.01823810115456581, 0.3791855275630951, 0.07899698615074158, 0.06319759041070938, 0.09479638189077377, 0.2685897648334503, 0.015799397602677345, 0.015799397602677345, 0.04739819094538689, 0.03159879520535469, 0.07251898944377899, 0.14503797888755798, 0.5076329112052917, 0.14503797888755798, 0.07251898944377899, 0.18551026284694672, 0.29151612520217896, 0.187919482588768, 0.057821378111839294, 0.14214423298835754, 0.024092242121696472, 0.042161423712968826, 0.018069181591272354, 0.01325073279440403, 0.018069181591272354, 0.0024092241656035185, 0.006023060530424118, 0.007227672263979912, 0.003613836131989956, 0.06543654203414917, 0.13087308406829834, 0.2617461681365967, 0.06543654203414917, 0.06543654203414917, 0.06543654203414917, 0.06543654203414917, 0.2617461681365967, 0.9464440941810608, 0.7601223587989807, 0.09501529484987259, 0.09501529484987259, 0.09682713449001312, 0.17428883910179138, 0.17428883910179138, 0.2130196988582611, 0.03873085603117943, 0.019365428015589714, 0.03873085603117943, 0.03873085603117943, 0.09682713449001312, 0.019365428015589714, 0.019365428015589714, 0.07746171206235886, 0.12646597623825073, 0.7587959170341492, 0.025293195620179176, 0.025293195620179176, 0.07587958872318268, 0.3275652825832367, 0.1948593407869339, 0.09239020198583603, 0.10246913880109787, 0.09742967039346695, 0.07727180421352386, 0.02687714993953705, 0.03191661462187767, 0.02687714993953705, 0.010078931227326393, 0.010078931227326393, 0.003359643742442131, 0.0016798218712210655, 0.23720291256904602, 0.07906763255596161, 0.011295376345515251, 0.38969048857688904, 0.039533816277980804, 0.011295376345515251, 0.10165838897228241, 0.11860145628452301, 0.005647688172757626, 0.005647688172757626, 0.5409237146377563, 0.4250114858150482, 0.4355415105819702, 0.0658937320113182, 0.07071522623300552, 0.1767880767583847, 0.027321793138980865, 0.07232239097356796, 0.025714628398418427, 0.05142925679683685, 0.01607164368033409, 0.03535761311650276, 0.00964298564940691, 0.008035821840167046, 0.004821492824703455, 0.0016071642749011517, 0.1731014847755432, 0.20277602970600128, 0.11869816482067108, 0.1236439198255539, 0.1632099747657776, 0.11869816482067108, 0.004945756867527962, 0.02472878433763981, 0.019783027470111847, 0.014837270602583885, 0.019783027470111847, 0.019783027470111847, 0.17680427432060242, 0.08840213716030121, 0.08840213716030121, 0.26520639657974243, 0.17680427432060242, 0.08840213716030121, 0.08840213716030121, 0.8006882071495056, 0.04709930717945099, 0.11774826794862747, 0.29110953211784363, 0.09703651815652847, 0.09703651815652847, 0.29110953211784363, 0.09703651815652847, 0.09703651815652847, 0.9626728296279907, 0.05166049674153328, 0.31761637330055237, 0.0019133517052978277, 0.6141858696937561, 0.0019133517052978277, 0.009566758759319782, 0.272964209318161, 0.5149097442626953, 0.19851942360401154, 0.4050918221473694, 0.19444407522678375, 0.04861101880669594, 0.1620367169380188, 0.03240734338760376, 0.01620367169380188, 0.04861101880669594, 0.01620367169380188, 0.04861101880669594, 0.01620367169380188, 0.26070448756217957, 0.238673135638237, 0.12668035924434662, 0.05324246734380722, 0.1468757688999176, 0.04773462563753128, 0.04222678393125534, 0.04039083793759346, 0.00550784170627594, 0.00917973555624485, 0.0183594711124897, 0.0036718943156301975, 0.00550784170627594, 0.0018359471578150988, 0.35585927963256836, 0.09925326704978943, 0.11135733127593994, 0.1549319326877594, 0.04115379601716995, 0.0750451534986496, 0.014524868689477444, 0.08714921027421951, 0.026628926396369934, 0.014524868689477444, 0.009683245792984962, 0.004841622896492481, 0.0024208114482462406, 0.21612830460071564, 0.25109022855758667, 0.1446152627468109, 0.1811663657426834, 0.039729468524456024, 0.04767535999417305, 0.012713429518043995, 0.01907014474272728, 0.02224850095808506, 0.05403207615017891, 0.0063567147590219975, 0.0031783573795109987, 0.0015891786897554994, 0.3239111304283142, 0.059587426483631134, 0.20320840179920197, 0.15737192332744598, 0.0840335488319397, 0.067226842045784, 0.019862474873661995, 0.01833459362387657, 0.030557654798030853, 0.003055765526369214, 0.012223062105476856, 0.015278827399015427, 0.006111531052738428, 0.22056132555007935, 0.49626296758651733, 0.22056132555007935, 0.09257451444864273, 0.5400180220603943, 0.35486897826194763, 0.920559823513031, 0.03610038757324219, 0.018050193786621094, 0.8436663746833801, 0.12052377313375473, 0.1725333034992218, 0.1725333034992218, 0.1725333034992218, 0.4313332736492157, 0.3808722198009491, 0.460220605134964, 0.1507619172334671, 0.39241036772727966, 0.09810259193181992, 0.19620518386363983, 0.29430776834487915, 0.3628157079219818, 0.060469284653663635, 0.060469284653663635, 0.12093856930732727, 0.060469284653663635, 0.24187713861465454, 0.603798508644104, 0.075474813580513, 0.075474813580513, 0.150949627161026, 0.4281260073184967, 0.047569554299116135, 0.3805564343929291, 0.09513910859823227, 0.13033725321292877, 0.23059667646884918, 0.15439951419830322, 0.10025942325592041, 0.146378755569458, 0.0962490439414978, 0.004010376986116171, 0.09223867207765579, 0.014036319218575954, 0.012031130492687225, 0.01002594269812107, 0.0020051884930580854, 0.006015565246343613, 0.2172253578901291, 0.2172253578901291, 0.14481690526008606, 0.2172253578901291, 0.14481690526008606, 0.1311609447002411, 0.2623218894004822, 0.2309998720884323, 0.09200842678546906, 0.15661008656024933, 0.03327964246273041, 0.0469830259680748, 0.003915252164006233, 0.013703382574021816, 0.00587287824600935, 0.007830504328012466, 0.0117457564920187, 0.003915252164006233, 0.09587067365646362, 0.1118491142988205, 0.14380601048469543, 0.5113102197647095, 0.01597844436764717, 0.07989222556352615, 0.01597844436764717, 0.4427167475223541, 0.03162262588739395, 0.03162262588739395, 0.3478488624095917, 0.09486787021160126, 0.03162262588739395, 0.24575254321098328, 0.15770216286182404, 0.2207830250263214, 0.1787291169166565, 0.08147945255041122, 0.01445603184401989, 0.007885108701884747, 0.02891206368803978, 0.013141847215592861, 0.02496950887143612, 0.01839858666062355, 0.002628369489684701, 0.005256738979369402, 0.020354384556412697, 0.20354384183883667, 0.18318946659564972, 0.18318946659564972, 0.16283507645130157, 0.12212631106376648, 0.10177192091941833, 0.3909277617931366, 0.07648586481809616, 0.03399371728301048, 0.22945760190486908, 0.07648586481809616, 0.03399371728301048, 0.04249214753508568, 0.025495288893580437, 0.01699685864150524, 0.07648586481809616, 0.00849842932075262, 0.3922026455402374, 0.15688106417655945, 0.15688106417655945, 0.23532159626483917, 0.07844053208827972, 0.17117515206336975, 0.3423503041267395, 0.17117515206336975, 0.25676271319389343, 0.014074753038585186, 0.03518688306212425, 0.9359710812568665, 0.9354091286659241, 0.03897538036108017, 0.8780832886695862, 0.08232031017541885, 0.8792827725410461, 0.023139020428061485, 0.04627804085612297, 0.023139020428061485, 0.49875912070274353, 0.07125130295753479, 0.28500521183013916, 0.14250260591506958, 0.19702652096748352, 0.39405304193496704, 0.39405304193496704, 0.677427351474762, 0.09677533805370331, 0.09677533805370331, 0.09677533805370331, 0.9332496523857117, 0.07740871608257294, 0.1161130741238594, 0.3483392298221588, 0.42574793100357056, 0.019352179020643234, 0.019352179020643234, 0.1735277771949768, 0.1735277771949768, 0.1735277771949768, 0.0867638885974884, 0.0867638885974884, 0.1735277771949768, 0.0867638885974884, 0.13603636622428894, 0.29927998781204224, 0.0272072721272707, 0.4353163540363312, 0.0544145442545414, 0.0272072721272707, 0.5733497738838196, 0.1911165863275528, 0.1911165863275528, 0.675586998462677, 0.09651242941617966, 0.04825621470808983, 0.1447686403989792, 0.08617771416902542, 0.17235542833805084, 0.17235542833805084, 0.3447108566761017, 0.08617771416902542, 0.08617771416902542, 0.389253705739975, 0.09731342643499374, 0.1946268528699875, 0.09731342643499374, 0.1946268528699875, 0.08795255422592163, 0.17590510845184326, 0.010994069278240204, 0.010994069278240204, 0.703620433807373, 0.3718898594379425, 0.14875595271587372, 0.22313392162322998, 0.14875595271587372, 0.14875595271587372, 0.38464978337287903, 0.28848734498023987, 0.09616244584321976, 0.09616244584321976, 0.09616244584321976, 0.3454267680644989, 0.1480400413274765, 0.1480400413274765, 0.0493466816842556, 0.2467333972454071, 0.0493466816842556, 0.6256572604179382, 0.08937960863113403, 0.08937960863113403, 0.08937960863113403, 0.0921962633728981, 0.0921962633728981, 0.0921962633728981, 0.6453738212585449, 0.0921962633728981, 0.17033810913562775, 0.7949112057685852, 0.028389686718583107, 0.2967776358127594, 0.07419440895318985, 0.07419440895318985, 0.07419440895318985, 0.07419440895318985, 0.2967776358127594, 0.07419440895318985, 0.7950020432472229, 0.036136455833911896, 0.07227291166782379, 0.036136455833911896, 0.015855345875024796, 0.5612792372703552, 0.023254506289958954, 0.30547967553138733, 0.04333794489502907, 0.0010570230660960078, 0.005285115446895361, 0.024311529472470284, 0.0021140461321920156, 0.0010570230660960078, 0.004228092264384031, 0.004228092264384031, 0.007399161346256733, 0.9463575482368469, 0.047317877411842346, 0.8860232830047607, 0.06922057271003723, 0.027688227593898773, 0.9898017048835754, 0.15383164584636688, 0.10255443304777145, 0.05127721652388573, 0.25638607144355774, 0.10255443304777145, 0.25638607144355774, 0.05127721652388573, 0.09467990696430206, 0.01444269809871912, 0.23910687863826752, 0.22466418147087097, 0.1508459597826004, 0.15566018223762512, 0.008023721165955067, 0.04011860489845276, 0.043328091502189636, 0.00481423269957304, 0.006418976932764053, 0.016047442331910133, 0.9342523217201233, 0.0816066637635231, 0.0816066637635231, 0.0816066637635231, 0.3264266550540924, 0.0816066637635231, 0.0816066637635231, 0.1632133275270462, 0.0816066637635231, 0.9490649700164795, 0.23102633655071259, 0.23102633655071259, 0.23102633655071259, 0.07700877636671066, 0.15401755273342133, 0.20952679216861725, 0.20465408265590668, 0.260690301656723, 0.06821802258491516, 0.092581607401371, 0.0779634565114975, 0.024363581091165543, 0.01705450564622879, 0.01705450564622879, 0.004872716031968594, 0.00730907404795289, 0.019490864127874374, 0.29512840509414673, 0.23610273003578186, 0.11805136501789093, 0.1770770400762558, 0.059025682508945465, 0.059025682508945465, 0.059025682508945465, 0.17867277562618256, 0.08933638781309128, 0.1191151887178421, 0.2382303774356842, 0.29778796434402466, 0.029778797179460526, 0.029778797179460526, 0.3727470636367798, 0.19524846971035004, 0.017749860882759094, 0.07099944353103638, 0.24849805235862732, 0.017749860882759094, 0.017749860882759094, 0.03549972176551819, 0.03549972176551819, 0.3865107595920563, 0.14335374534130096, 0.14153914153575897, 0.10161785036325455, 0.05625273659825325, 0.07258417457342148, 0.032662879675626755, 0.01996064931154251, 0.012702231295406818, 0.016331439837813377, 0.0018146043876186013, 0.010887626558542252, 0.0036292087752372026, 0.40186408162117004, 0.47399353981018066, 0.10304207354784012, 0.018032362684607506, 0.16009654104709625, 0.27754727005958557, 0.19435299932956696, 0.10556583851575851, 0.060123588889837265, 0.08389338105916977, 0.02726534940302372, 0.00629200367256999, 0.03845113515853882, 0.008389337919652462, 0.018876010552048683, 0.008389337919652462, 0.008389337919652462, 0.0013982229866087437, 0.7362668514251709, 0.07362668216228485, 0.07362668216228485, 0.05865335837006569, 0.05865335837006569, 0.11730671674013138, 0.11730671674013138, 0.5865336060523987, 0.14866605401039124, 0.38281506299972534, 0.1375160962343216, 0.07433302700519562, 0.022299906238913536, 0.06318306922912598, 0.022299906238913536, 0.026016557589173317, 0.0074333022348582745, 0.10778288543224335, 0.0037166511174291372, 0.0037166511174291372, 0.1249932274222374, 0.3685697615146637, 0.2628062665462494, 0.05288175120949745, 0.02243468165397644, 0.08172634243965149, 0.009614863432943821, 0.02563963644206524, 0.009614863432943821, 0.027242112904787064, 0.009614863432943821, 0.003204954555258155, 0.0016024772776290774, 0.39496704936027527, 0.056423865258693695, 0.056423865258693695, 0.39496704936027527, 0.47414514422416687, 0.13066992163658142, 0.07840195298194885, 0.08586880564689636, 0.07093510031700134, 0.026133984327316284, 0.003733426332473755, 0.02986741065979004, 0.011200278997421265, 0.05226796865463257, 0.011200278997421265, 0.003733426332473755, 0.011200278997421265, 0.01493370532989502, 0.8862152695655823, 0.07089722156524658, 0.19737781584262848, 0.1999748945236206, 0.1791982799768448, 0.2077661156654358, 0.05194152891635895, 0.03635907173156738, 0.02077661268413067, 0.03895614668726921, 0.02077661268413067, 0.007791229523718357, 0.015582459047436714, 0.005194153171032667, 0.012985382229089737, 0.0025970765855163336, 0.28011128306388855, 0.11501257866621017, 0.21703986823558807, 0.12985290586948395, 0.07420166581869125, 0.03153570741415024, 0.022260498255491257, 0.04637603834271431, 0.02040545828640461, 0.022260498255491257, 0.014840332791209221, 0.016695374622941017, 0.0074201663956046104, 0.8419132828712463, 0.042809151113033295, 0.02853943407535553, 0.02853943407535553, 0.014269717037677765, 0.014269717037677765, 0.8756604194641113, 0.01536246296018362, 0.06144985184073448, 0.01536246296018362, 0.01536246296018362, 0.1123359426856041, 0.3065835237503052, 0.271478533744812, 0.032764650881290436, 0.051487307995557785, 0.07020996510982513, 0.1053149476647377, 0.014041992835700512, 0.007020996417850256, 0.016382325440645218, 0.014041992835700512, 0.30661818385124207, 0.10561293363571167, 0.11072323471307755, 0.18737778067588806, 0.10390949994325638, 0.07324767857789993, 0.017034344375133514, 0.02214464731514454, 0.020441213622689247, 0.018737778067588806, 0.008517172187566757, 0.018737778067588806, 0.0017034343909472227, 0.0017034343909472227, 0.42774176597595215, 0.040100790560245514, 0.20050394535064697, 0.05346772074699402, 0.21387088298797607, 0.013366930186748505, 0.02673386037349701, 0.4922364056110382, 0.05181435868144035, 0.04857596009969711, 0.1036287173628807, 0.016191987320780754, 0.11334390938282013, 0.009715192019939423, 0.055052757263183594, 0.022668782621622086, 0.058291155844926834, 0.025907179340720177, 0.3449104428291321, 0.12868675589561462, 0.061350662261247635, 0.1593620926141739, 0.04788344353437424, 0.10250049829483032, 0.020200828090310097, 0.04713526740670204, 0.018704470247030258, 0.026934437453746796, 0.020200828090310097, 0.013467218726873398, 0.00598543044179678, 0.00299271522089839, 0.43143609166145325, 0.14381203055381775, 0.09587468951940536, 0.04793734475970268, 0.14381203055381775, 0.04793734475970268, 0.09587468951940536, 0.26945048570632935, 0.13472524285316467, 0.06736262142658234, 0.13472524285316467, 0.202087864279747, 0.06736262142658234, 0.2904234826564789, 0.18439586460590363, 0.10199396312236786, 0.08355437219142914, 0.09853653609752655, 0.09911277890205383, 0.019592059776186943, 0.07548705488443375, 0.017863349989056587, 0.008643556386232376, 0.009796029888093472, 0.006914844736456871, 0.0017287111841142178, 0.0023049484007060528, 0.010311122983694077, 0.897067666053772, 0.08248898386955261, 0.18674275279045105, 0.013338767923414707, 0.42017117142677307, 0.04668568819761276, 0.11337952315807343, 0.060024455189704895, 0.14672644436359406, 0.006669383961707354, 0.17349641025066376, 0.3036186993122101, 0.04337410256266594, 0.39036691188812256, 0.32126688957214355, 0.16063344478607178, 0.12681588530540466, 0.11307749152183533, 0.08243032544851303, 0.050726354122161865, 0.015851985663175583, 0.0570671483874321, 0.015851985663175583, 0.030647171661257744, 0.00951119139790535, 0.010567990131676197, 0.004227195866405964, 0.001056798966601491, 0.7501422166824341, 0.2386816143989563, 0.257010281085968, 0.16822490096092224, 0.12616868317127228, 0.13862977921962738, 0.04049858823418617, 0.10436175018548965, 0.04361386597156525, 0.032710399478673935, 0.045171502977609634, 0.010903466492891312, 0.02336456999182701, 0.0031152761075645685, 0.0031152761075645685, 0.0015576380537822843, 0.3256719410419464, 0.14648127555847168, 0.10381682217121124, 0.1777685284614563, 0.04266444966197014, 0.07395171374082565, 0.02133222483098507, 0.031287260353565216, 0.018487928435206413, 0.02133222483098507, 0.012799334712326527, 0.014221482910215855, 0.004266444593667984, 0.004266444593667984, 0.3018008768558502, 0.18002156913280487, 0.05559489503502846, 0.12177930027246475, 0.05559489503502846, 0.11648454517126083, 0.02117900736629963, 0.04500539228320122, 0.005294751841574907, 0.04765276983380318, 0.03176851198077202, 0.007942127995193005, 0.007942127995193005, 0.03767510876059532, 0.22605064511299133, 0.22605064511299133, 0.4897764027118683, 0.15750975906848907, 0.2012624591588974, 0.1417587846517563, 0.18201127648353577, 0.12075747549533844, 0.05775357782840729, 0.04725292697548866, 0.005250324960798025, 0.03500216826796532, 0.01050064992159605, 0.014000866562128067, 0.01750108413398266, 0.0070004332810640335, 0.0017501083202660084, 0.9675301909446716, 0.01422838494181633, 0.9493526220321655, 0.07861588150262833, 0.7861588001251221, 0.07861588150262833, 0.03551612049341202, 0.4862976372241974, 0.010928036645054817, 0.355161190032959, 0.0027320091612637043, 0.0081960279494524, 0.08469228446483612, 0.005464018322527409, 0.0081960279494524, 0.3242705762386322, 0.6603328585624695, 0.005895828828215599, 0.04793709143996239, 0.04793709143996239, 0.9108046889305115, 0.11415374279022217, 0.12230758368968964, 0.33430740237236023, 0.22015365958213806, 0.008153839036822319, 0.057076871395111084, 0.09784606844186783, 0.008153839036822319, 0.032615356147289276, 0.8256145715713501, 0.0024498947896063328, 0.0024498947896063328, 0.06369726359844208, 0.04164821282029152, 0.039198316633701324, 0.007349684368818998, 0.014699368737637997, 0.7654873132705688, 0.008505414240062237, 0.025516243651509285, 0.1360866278409958, 0.017010828480124474, 0.04252707213163376, 0.2540621757507324, 0.04619312658905983, 0.2771587371826172, 0.0692896842956543, 0.023096563294529915, 0.20786906778812408, 0.023096563294529915, 0.09238625317811966, 0.01512343529611826, 0.04537030681967735, 0.25709840655326843, 0.544443666934967, 0.03024687059223652, 0.04537030681967735, 0.01512343529611826, 0.03024687059223652, 0.17086122930049896, 0.22487542033195496, 0.1488146185874939, 0.10031207650899887, 0.14991694688796997, 0.07054915279150009, 0.04299088940024376, 0.007716313470155001, 0.012125635519623756, 0.01322796568274498, 0.035274576395750046, 0.009920974262058735, 0.012125635519623756, 0.002204661024734378, 0.8528943657875061, 0.09841088950634003, 0.9637279510498047, 0.027535084635019302, 0.16218604147434235, 0.8109302520751953, 0.001791296643204987, 0.001791296643204987, 0.9834218621253967, 0.010747780092060566, 0.001791296643204987, 0.05837421491742134, 0.21403878927230835, 0.17998716235160828, 0.13134197890758514, 0.2091742604970932, 0.009729035198688507, 0.09729035943746567, 0.048645179718732834, 0.009729035198688507, 0.034051623195409775, 0.0048645175993442535, 0.4597630500793457, 0.49512943625450134, 0.03536638990044594, 0.026234202086925507, 0.19019795954227448, 0.07870260626077652, 0.4394228756427765, 0.006558550521731377, 0.03935130313038826, 0.12461245805025101, 0.09181970357894897, 0.5648961067199707, 0.09414935111999512, 0.18829870223999023, 0.09414935111999512, 0.9733365178108215, 0.3297222852706909, 0.09350333362817764, 0.029527368023991585, 0.3543284237384796, 0.009842456318438053, 0.009842456318438053, 0.024606140330433846, 0.019684912636876106, 0.03444859758019447, 0.04429105296730995, 0.0049212281592190266, 0.04429105296730995, 0.9473034143447876, 0.008771328255534172, 0.026313984766602516, 0.17824240028858185, 0.2096969485282898, 0.17824240028858185, 0.05242423713207245, 0.1258181631565094, 0.05242423713207245, 0.15727271139621735, 0.02096969448029995, 0.010484847240149975, 0.010484847240149975, 0.34882208704948425, 0.2616165578365326, 0.08720552176237106, 0.08720552176237106, 0.08720552176237106, 0.17441104352474213, 0.7037661075592041, 0.14075322449207306, 0.14075322449207306, 0.9869637489318848, 0.970416784286499, 0.03399236127734184, 0.713839590549469, 0.13596944510936737, 0.10197708755731583, 0.24819493293762207, 0.11628713458776474, 0.1891835480928421, 0.11975838989019394, 0.13364341855049133, 0.046861980110406876, 0.06074701249599457, 0.01909191720187664, 0.03471257910132408, 0.00867814477533102, 0.010413773357868195, 0.0034712578635662794, 0.0034712578635662794, 0.0034712578635662794, 0.09884681552648544, 0.4168474078178406, 0.14501868188381195, 0.043570633977651596, 0.08649096637964249, 0.04812278971076012, 0.07543572783470154, 0.043570633977651596, 0.015607391484081745, 0.015607391484081745, 0.001300615957006812, 0.0019509239355102181, 0.001300615957006812, 0.007153388112783432, 0.9431209564208984, 0.18836931884288788, 0.8005695939064026, 0.8966093063354492, 0.07796602696180344, 0.24697135388851166, 0.18306967616081238, 0.19170503318309784, 0.1243492141366005, 0.06562875211238861, 0.051812171936035156, 0.05526631698012352, 0.01727072335779667, 0.015543651767075062, 0.024179013445973396, 0.010362434200942516, 0.008635361678898335, 0.00345414481125772, 0.00345414481125772, 0.8840473294258118, 0.017680946737527847, 0.028289515525102615, 0.031825706362724304, 0.003536189440637827, 0.024753326550126076, 0.003536189440637827, 0.4968596398830414, 0.09616638720035553, 0.27247142791748047, 0.11219411343336105, 0.016027729958295822, 0.07041105628013611, 0.7393160462379456, 0.07041105628013611, 0.035205528140068054, 0.07041105628013611, 0.035205528140068054, 0.10609664022922516, 0.18828417360782623, 0.43484678864479065, 0.016437506303191185, 0.08667049556970596, 0.09713072329759598, 0.0029886376578360796, 0.03287501260638237, 0.011954550631344318, 0.0014943188289180398, 0.014943188056349754, 0.005977275315672159, 0.27046605944633484, 0.13523302972316742, 0.20284955203533173, 0.06761651486158371, 0.06761651486158371, 0.27046605944633484, 0.424688458442688, 0.0849376916885376, 0.3397507667541504, 0.3323952555656433, 0.10004129260778427, 0.11617698520421982, 0.14199408888816833, 0.09358701854944229, 0.08713273704051971, 0.006454276852309704, 0.009681415744125843, 0.04840707778930664, 0.009681415744125843, 0.025817107409238815, 0.019362831488251686, 0.009681415744125843, 0.006454276852309704, 0.902127206325531, 0.05467437580227852, 0.24867364764213562, 0.1612279713153839, 0.10657442361116409, 0.2404756098985672, 0.03279212862253189, 0.09017835557460785, 0.019128741696476936, 0.046455517411231995, 0.010930709540843964, 0.024594096466898918, 0.010930709540843964, 0.005465354770421982, 0.159319207072258, 0.159319207072258, 0.159319207072258, 0.318638414144516, 0.079659603536129, 0.079659603536129, 0.4419751763343811, 0.1767900586128235, 0.1767900586128235, 0.08839502930641174, 0.08839502930641174, 0.7980009913444519, 0.1642943173646927, 0.023470615968108177, 0.5373271107673645, 0.29851508140563965, 0.05970301479101181, 0.05970301479101181, 0.9555658102035522, 0.027301879599690437, 0.07371034473180771, 0.14742068946361542, 0.14742068946361542, 0.515972375869751, 0.07371034473180771, 0.32355380058288574, 0.06567180901765823, 0.0736805647611618, 0.26268723607063293, 0.020822769030928612, 0.07848582416772842, 0.014415763318538666, 0.041645538061857224, 0.04004378616809845, 0.038442034274339676, 0.020822769030928612, 0.012814011424779892, 0.0048052542842924595, 0.0016017514280974865, 0.30862000584602356, 0.09644375741481781, 0.11573250591754913, 0.13502125442028046, 0.05786625295877457, 0.07715500146150589, 0.19288751482963562, 0.07476670295000076, 0.3177584707736969, 0.01869167573750019, 0.1869167536497116, 0.01869167573750019, 0.07476670295000076, 0.03738335147500038, 0.16822507977485657, 0.07476670295000076, 0.01869167573750019, 0.711207926273346, 0.2620239853858948, 0.8997620344161987, 0.027265515178442, 0.027265515178442, 0.027265515178442, 0.48152679204940796, 0.024076338857412338, 0.3611450791358948, 0.09630535542964935, 0.024076338857412338, 0.5227669477462769, 0.04356390982866287, 0.04356390982866287, 0.021781954914331436, 0.348511278629303, 0.021781954914331436, 0.2900158166885376, 0.2416798621416092, 0.2900158166885376, 0.1450079083442688, 0.28841322660446167, 0.19227547943592072, 0.19227547943592072, 0.09613773971796036, 0.09613773971796036, 0.2462163269519806, 0.3693245053291321, 0.06155408173799515, 0.06155408173799515, 0.1231081634759903, 0.1231081634759903, 0.27772992849349976, 0.1851532906293869, 0.1851532906293869, 0.1851532906293869, 0.09257664531469345, 0.3779447376728058, 0.1889723688364029, 0.09448618441820145, 0.09448618441820145, 0.09448618441820145, 0.09448618441820145, 0.16272789239883423, 0.16272789239883423, 0.2278190404176712, 0.2278190404176712, 0.06509115546941757, 0.06509115546941757, 0.06509115546941757, 0.06978606432676315, 0.4187163710594177, 0.38382333517074585, 0.03489303216338158, 0.03489303216338158, 0.06978606432676315, 0.08175507932901382, 0.3323521614074707, 0.16528743505477905, 0.13685089349746704, 0.07109136879444122, 0.05509581416845322, 0.07642322778701782, 0.005331852938979864, 0.02843654900789261, 0.017772842198610306, 0.014218274503946304, 0.010663705877959728, 0.003554568625986576, 0.001777284312993288, 0.3201504647731781, 0.08261948078870773, 0.07642301917076111, 0.13425664603710175, 0.11360178142786026, 0.0991433709859848, 0.016523895785212517, 0.06196460872888565, 0.04750619828701019, 0.0247858427464962, 0.018589382991194725, 0.004130973946303129, 0.0020654869731515646, 0.032351184636354446, 0.8734819293022156, 0.032351184636354446, 0.06470236927270889, 0.55747389793396, 0.27873694896698, 0.09291231632232666, 0.1698937863111496, 0.6229439377784729, 0.056631263345479965, 0.056631263345479965, 0.23792344331741333, 0.09516937285661697, 0.2855081260204315, 0.3330928087234497, 0.15353836119174957, 0.07676918059587479, 0.4606150686740875, 0.07676918059587479, 0.15353836119174957, 0.21752120554447174, 0.07250706851482391, 0.21752120554447174, 0.14501413702964783, 0.21752120554447174, 0.14501413702964783, 0.2586365342140198, 0.0862121731042862, 0.1724243462085724, 0.0862121731042862, 0.0862121731042862, 0.0862121731042862, 0.0862121731042862, 0.9632917642593384, 0.32230430841445923, 0.08057607710361481, 0.40288040041923523, 0.08057607710361481, 0.08057607710361481, 0.9779990911483765, 0.00582401966676116, 0.09900833666324615, 0.00582401966676116, 0.01164803933352232, 0.10483235865831375, 0.5940499901771545, 0.017472058534622192, 0.15142451226711273, 0.00582401966676116, 0.00582401966676116, 0.4410591423511505, 0.504067599773407, 0.11399205774068832, 0.11399205774068832, 0.46411052346229553, 0.024426870048046112, 0.04071144759654999, 0.016284579411149025, 0.20355723798274994, 0.008142289705574512, 0.008142289705574512, 0.05534081906080246, 0.4466794729232788, 0.2055516093969345, 0.011858746409416199, 0.09091705828905106, 0.04348207265138626, 0.023717492818832397, 0.003952915780246258, 0.011858746409416199, 0.08301122486591339, 0.023717492818832397, 0.003952915780246258, 0.8357074856758118, 0.09831852465867996, 0.032772842794656754, 0.016386421397328377, 0.07439212501049042, 0.3719606399536133, 0.07439212501049042, 0.14878425002098083, 0.22317637503147125, 0.8168984651565552, 0.010891979560256004, 0.12525776028633118, 0.02178395912051201, 0.016337968409061432, 0.012280876748263836, 0.859661340713501, 0.08596613258123398, 0.024561753496527672, 0.9629188776016235, 0.009084139950573444, 0.009084139950573444, 0.7293370962142944, 0.09855906665325165, 0.13798269629478455, 0.2778998911380768, 0.2778998911380768, 0.09263329952955246, 0.2778998911380768, 0.5972839593887329, 0.12984433770179749, 0.15581320226192474, 0.07790660113096237, 0.5071022510528564, 0.3834187686443329, 0.09894677996635437, 0.19600796699523926, 0.09800398349761963, 0.3920159339904785, 0.09800398349761963, 0.19600796699523926, 0.4054214358329773, 0.06757023930549622, 0.09760145843029022, 0.06757023930549622, 0.04504682496190071, 0.05255462974309921, 0.09760145843029022, 0.09760145843029022, 0.007507804315537214, 0.007507804315537214, 0.030031217262148857, 0.022523412480950356, 0.2546873688697815, 0.16652634739875793, 0.2037498950958252, 0.13909848034381866, 0.09012014418840408, 0.041141804307699203, 0.02350960299372673, 0.02155046910047531, 0.013713935390114784, 0.017632201313972473, 0.009795667603611946, 0.015673069283366203, 0.273856520652771, 0.273856520652771, 0.36514201760292053, 0.15292195975780487, 0.07646097987890244, 0.15292195975780487, 0.2293829321861267, 0.2293829321861267, 0.07646097987890244, 0.07646097987890244, 0.15298932790756226, 0.15298932790756226, 0.15298932790756226, 0.05099644139409065, 0.1019928827881813, 0.1019928827881813, 0.15298932790756226, 0.1019928827881813, 0.9379383325576782, 0.439867228269577, 0.12567634880542755, 0.06283817440271378, 0.06283817440271378, 0.18851453065872192, 0.06283817440271378, 0.6313894391059875, 0.3535780906677246, 0.6941372752189636, 0.27161893248558044, 0.179376482963562, 0.15663862228393555, 0.20464077591896057, 0.0631607323884964, 0.2475900650024414, 0.03789643943309784, 0.03789643943309784, 0.027790721505880356, 0.007579287979751825, 0.0050528584979474545, 0.02526429295539856, 0.0050528584979474545, 0.07697832584381104, 0.15395665168762207, 0.30791330337524414, 0.4618699252605438, 0.09648989886045456, 0.19297979772090912, 0.09648989886045456, 0.19297979772090912, 0.09648989886045456, 0.19297979772090912, 0.09648989886045456, 0.009816687554121017, 0.03926675021648407, 0.37303411960601807, 0.11780025064945221, 0.3337673842906952, 0.058900125324726105, 0.019633375108242035, 0.029450062662363052, 0.029450062662363052, 0.4987246096134186, 0.19181714951992035, 0.03836343064904213, 0.03836343064904213, 0.19181714951992035, 0.03836343064904213, 0.6956583857536316, 0.08347900211811066, 0.1113053411245346, 0.08347900211811066, 0.15031014382839203, 0.30062028765678406, 0.4008270502090454, 0.050103381276130676, 0.10020676255226135, 0.1914423704147339, 0.2552565038204193, 0.12762825191020966, 0.3828847408294678, 0.3811488747596741, 0.1524595469236374, 0.0762297734618187, 0.0762297734618187, 0.0762297734618187, 0.0762297734618187, 0.0762297734618187, 0.19115068018436432, 0.17840731143951416, 0.1656639277935028, 0.04247793182730675, 0.15716834366321564, 0.09769923985004425, 0.05097351595759392, 0.00849558599293232, 0.06371689587831497, 0.01699117198586464, 0.029734551906585693, 0.5995604991912842, 0.054505497217178345, 0.027252748608589172, 0.027252748608589172, 0.24527473747730255, 0.027252748608589172, 0.31495216488838196, 0.20042410492897034, 0.14316007494926453, 0.11452805995941162, 0.11452805995941162, 0.028632014989852905, 0.028632014989852905, 0.05726402997970581, 0.37704312801361084, 0.09426078200340271, 0.09426078200340271, 0.28278234601020813, 0.09426078200340271, 0.38217562437057495, 0.09554390609264374, 0.09554390609264374, 0.28663170337677, 0.09554390609264374, 0.1776401847600937, 0.1776401847600937, 0.08882009238004684, 0.08882009238004684, 0.08882009238004684, 0.08882009238004684, 0.08882009238004684, 0.08882009238004684, 0.05922917276620865, 0.7107501029968262, 0.1184583455324173, 0.05922917276620865, 0.824697732925415, 0.010181453078985214, 0.0712701752781868, 0.02036290615797043, 0.010181453078985214, 0.02036290615797043, 0.010181453078985214, 0.02036290615797043, 0.8826214075088501, 0.006395807024091482, 0.07035388052463531, 0.012791614048182964, 0.006395807024091482, 0.012791614048182964, 0.497882604598999, 0.06638434529304504, 0.03319217264652252, 0.03319217264652252, 0.06638434529304504, 0.2655373811721802, 0.3511027693748474, 0.08777569234371185, 0.08777569234371185, 0.1755513846874237, 0.08777569234371185, 0.08777569234371185, 0.8929809331893921, 0.06378435343503952, 0.9333881735801697, 0.015556469559669495, 0.015556469559669495, 0.015556469559669495, 0.16618512570858002, 0.041546281427145004, 0.08309256285429001, 0.6647405028343201, 0.041546281427145004, 0.5510358810424805, 0.35266298055648804, 0.08816574513912201, 0.11454367637634277, 0.20617862045764923, 0.11454367637634277, 0.43526598811149597, 0.06872620433568954, 0.022908736020326614, 0.3571125268936157, 0.12843520939350128, 0.10650724172592163, 0.08457928150892258, 0.021927962079644203, 0.1127723753452301, 0.10650724172592163, 0.028193093836307526, 0.01253026444464922, 0.01566283032298088, 0.018795395269989967, 0.00626513222232461, 0.06911659240722656, 0.27646636962890625, 0.414699524641037, 0.06911659240722656, 0.13823318481445312, 0.2895621955394745, 0.2895621955394745, 0.19304145872592926, 0.09652072936296463, 0.09652072936296463, 0.1721205711364746, 0.02868676371872425, 0.1434338092803955, 0.4016146957874298, 0.114747054874897, 0.0573735274374485, 0.02868676371872425, 0.02868676371872425, 0.14893154799938202, 0.19148342311382294, 0.17020748555660248, 0.06382780522108078, 0.06382780522108078, 0.06382780522108078, 0.2765871584415436, 0.04255187138915062, 0.17255699634552002, 0.25883549451828003, 0.17255699634552002, 0.25883549451828003, 0.08627849817276001, 0.08793935179710388, 0.13190902769565582, 0.08793935179710388, 0.4396967589855194, 0.04396967589855194, 0.13190902769565582, 0.04396967589855194, 0.5425843596458435, 0.04585219919681549, 0.3744596242904663, 0.007642033509910107, 0.007642033509910107, 0.007642033509910107, 0.007642033509910107, 0.03774436190724373, 0.03774436190724373, 0.8303759098052979, 0.03774436190724373, 0.09592467546463013, 0.1438870131969452, 0.1438870131969452, 0.09592467546463013, 0.47962334752082825, 0.047962337732315063, 0.05207745358347893, 0.31246471405029297, 0.4166196286678314, 0.10415490716695786, 0.05207745358347893, 0.12083317339420319, 0.12083317339420319, 0.12083317339420319, 0.24166634678840637, 0.06041658669710159, 0.24166634678840637, 0.05751585587859154, 0.36234989762306213, 0.3537225127220154, 0.05176427215337753, 0.040261100977659225, 0.014378963969647884, 0.04601268470287323, 0.014378963969647884, 0.011503171175718307, 0.00862737838178873, 0.014378963969647884, 0.01725475676357746, 0.005751585587859154, 0.1570841372013092, 0.104722760617733, 0.418891042470932, 0.0523613803088665, 0.0523613803088665, 0.104722760617733, 0.0523613803088665, 0.12595300376415253, 0.16793733835220337, 0.1399477869272232, 0.09796344488859177, 0.3638642430305481, 0.013994778506457806, 0.013994778506457806, 0.013994778506457806, 0.02798955701291561, 0.013994778506457806, 0.4822746515274048, 0.0964549258351326, 0.0964549258351326, 0.1929098516702652, 0.982171893119812, 0.4471922218799591, 0.4471922218799591, 0.04968802258372307, 0.4474749267101288, 0.2237374633550644, 0.074579156935215, 0.14915831387043, 0.22964203357696533, 0.22134171426296234, 0.09130346029996872, 0.12727148830890656, 0.10513731092214584, 0.060868971049785614, 0.04703511297702789, 0.016600629314780235, 0.055335428565740585, 0.011067085899412632, 0.02490094304084778, 0.011067085899412632, 0.002766771474853158, 0.5204983353614807, 0.160153329372406, 0.160153329372406, 0.0400383323431015, 0.0400383323431015, 0.049157798290252686, 0.016385933384299278, 0.7045950889587402, 0.18024525046348572, 0.049157798290252686, 0.038250863552093506, 0.012750287540256977, 0.26775604486465454, 0.038250863552093506, 0.5227617621421814, 0.05100115016102791, 0.05100115016102791, 0.04629215598106384, 0.6725977659225464, 0.0027230679988861084, 0.013615339994430542, 0.029953747987747192, 0.22056850790977478, 0.010892271995544434, 0.061083827167749405, 0.24433530867099762, 0.061083827167749405, 0.12216765433549881, 0.12216765433549881, 0.366502970457077, 0.5654987096786499, 0.09424978494644165, 0.28274935483932495, 0.2969019412994385, 0.2377447932958603, 0.15403182804584503, 0.1093849241733551, 0.014510245062410831, 0.04129838943481445, 0.014510245062410831, 0.07143505662679672, 0.00892938207834959, 0.03125283494591713, 0.006697036325931549, 0.006697036325931549, 0.0011161727597936988, 0.004464691039174795, 0.2649841904640198, 0.2789307236671448, 0.0697326809167862, 0.19525150954723358, 0.055786143988370895, 0.09762575477361679, 0.0418396070599556, 0.915444016456604, 0.04068639874458313, 0.020343199372291565, 0.476553738117218, 0.10311397165060043, 0.07245846092700958, 0.13934320211410522, 0.022294912487268448, 0.07245846092700958, 0.013934319838881493, 0.04180296137928963, 0.011147456243634224, 0.03344236686825752, 0.00836059171706438, 0.005573728121817112, 0.3511870205402374, 0.08779675513505936, 0.1755935102701187, 0.08779675513505936, 0.1755935102701187, 0.08779675513505936, 0.5309173464775085, 0.05899081379175186, 0.2949540615081787, 0.40553751587867737, 0.06758958846330643, 0.13517917692661285, 0.2703583538532257, 0.44431570172309875, 0.2665894329547882, 0.2665894329547882, 0.19545523822307587, 0.23888973891735077, 0.06515174359083176, 0.10858624428510666, 0.23888973891735077, 0.021717248484492302, 0.043434496968984604, 0.08686899393796921, 0.4125482439994812, 0.16501928865909576, 0.08250964432954788, 0.24752894043922424, 0.33331388235092163, 0.12499270588159561, 0.16665694117546082, 0.041664235293865204, 0.16665694117546082, 0.12499270588159561, 0.7892208695411682, 0.15032778680324554, 0.260602742433548, 0.168172225356102, 0.17073974013328552, 0.1566184014081955, 0.047499023377895355, 0.07317417114973068, 0.025675147771835327, 0.016688846051692963, 0.025675147771835327, 0.019256360828876495, 0.01412133127450943, 0.012837573885917664, 0.0025675147771835327, 0.0025675147771835327, 0.5879380702972412, 0.012080918997526169, 0.024161837995052338, 0.11275524646043777, 0.028188811615109444, 0.10470130294561386, 0.008053946308791637, 0.07248551398515701, 0.03221578523516655, 0.008053946308791637, 0.004026973154395819, 0.06472767889499664, 0.1294553577899933, 0.3236384093761444, 0.3236384093761444, 0.06472767889499664, 0.296855628490448, 0.17186377942562103, 0.17186377942562103, 0.07588790357112885, 0.07588790357112885, 0.0892798900604248, 0.02901596389710903, 0.013391982764005661, 0.026783965528011322, 0.02455196902155876, 0.0066959913820028305, 0.004463994409888983, 0.0066959913820028305, 0.12552037835121155, 0.2896624207496643, 0.16414202749729156, 0.19310827553272247, 0.04184012487530708, 0.033257536590099335, 0.04827706888318062, 0.043985772877931595, 0.027893416583538055, 0.008582590147852898, 0.01609235629439354, 0.0021456475369632244, 0.0032184713054448366, 0.0032184713054448366, 0.11340581625699997, 0.15876813232898712, 0.11340581625699997, 0.362898588180542, 0.2494927942752838, 0.33844879269599915, 0.5076731443405151, 0.08461219817399979, 0.562319815158844, 0.02811599150300026, 0.08434797078371048, 0.19681194424629211, 0.08434797078371048, 0.3218922019004822, 0.0699765682220459, 0.22392500936985016, 0.0699765682220459, 0.1399531364440918, 0.08397188037633896, 0.013995313085615635, 0.02799062617123127, 0.05598125234246254, 0.13119331002235413, 0.08746220916509628, 0.2186555117368698, 0.08746220916509628, 0.4373110234737396, 0.04373110458254814, 0.011619191616773605, 0.17096811532974243, 0.21578499674797058, 0.4066717028617859, 0.03651745989918709, 0.03817734494805336, 0.006639538332819939, 0.018258729949593544, 0.041497115045785904, 0.02323838323354721, 0.02323838323354721, 0.004979653749614954, 0.017089249566197395, 0.2375405728816986, 0.6340111494064331, 0.023924948647618294, 0.058103449642658234, 0.006835699547082186, 0.003417849773541093, 0.0017089248867705464, 0.013671399094164371, 0.0017089248867705464, 0.0017089248867705464, 0.2633596360683441, 0.05267192795872688, 0.2633596360683441, 0.10534385591745377, 0.05267192795872688, 0.10534385591745377, 0.10534385591745377, 0.05267192795872688, 0.32189634442329407, 0.021459756419062614, 0.1180286630988121, 0.16094817221164703, 0.010729878209531307, 0.03218963369727135, 0.1824079304933548, 0.021459756419062614, 0.10729878395795822, 0.010729878209531307, 0.010729878209531307, 0.1849016547203064, 0.3698033094406128, 0.2773524820804596, 0.1849016547203064, 0.31389284133911133, 0.20670990645885468, 0.10335495322942734, 0.0803871899843216, 0.03062369115650654, 0.14929048717021942, 0.007655922789126635, 0.02296776883304119, 0.038279615342617035, 0.007655922789126635, 0.011483884416520596, 0.011483884416520596, 0.01531184557825327, 0.043643273413181305, 0.08728654682636261, 0.12220116704702377, 0.3666034936904907, 0.3404175341129303, 0.01745731011033058, 0.01745731011033058, 0.00872865505516529, 0.13710662722587585, 0.6683948040008545, 0.08569164574146271, 0.051414985209703445, 0.017138328403234482, 0.017138328403234482, 0.1598540097475052, 0.0399635024368763, 0.1598540097475052, 0.23978100717067719, 0.0799270048737526, 0.0399635024368763, 0.1998175084590912, 0.0399635024368763, 0.05756784602999687, 0.17270353436470032, 0.05756784602999687, 0.17270353436470032, 0.05756784602999687, 0.05756784602999687, 0.34540706872940063, 0.14049622416496277, 0.3013697862625122, 0.24238280951976776, 0.100814089179039, 0.09223416447639465, 0.03860964998602867, 0.03539218008518219, 0.019304824993014336, 0.008579922839999199, 0.009652412496507168, 0.009652412496507168, 0.0021449807099997997, 0.0710195004940033, 0.7812144756317139, 0.03550975024700165, 0.0710195004940033, 0.30097562074661255, 0.24898891150951385, 0.024625277146697044, 0.08755654096603394, 0.11218181997537613, 0.06566740572452545, 0.0519866980612278, 0.027361419051885605, 0.021889135241508484, 0.021889135241508484, 0.032833702862262726, 0.0027361419051885605, 0.0027361419051885605, 0.4106236696243286, 0.05866052582859993, 0.1759815663099289, 0.05866052582859993, 0.1759815663099289, 0.05866052582859993, 0.36011460423469543, 0.36011460423469543, 0.2700859308242798, 0.19641607999801636, 0.23436008393764496, 0.1562400609254837, 0.12722404301166534, 0.07588803023099899, 0.10044004023075104, 0.03124801255762577, 0.03124801255762577, 0.01785600744187832, 0.00892800372093916, 0.011160003952682018, 0.00446400186046958, 0.00446400186046958, 0.00446400186046958, 0.6067633032798767, 0.07584541290998459, 0.15169082581996918, 0.07584541290998459, 0.43021702766418457, 0.05736226961016655, 0.028681134805083275, 0.15774624049663544, 0.04302170127630234, 0.07170283794403076, 0.014340567402541637, 0.04302170127630234, 0.04302170127630234, 0.028681134805083275, 0.05736226961016655, 0.014340567402541637, 0.2134750783443451, 0.030496438965201378, 0.005082739982753992, 0.5997633337974548, 0.005082739982753992, 0.005082739982753992, 0.06607561558485031, 0.025413699448108673, 0.005082739982753992, 0.005082739982753992, 0.015248219482600689, 0.030496438965201378, 0.27989351749420166, 0.03998478502035141, 0.019992392510175705, 0.11995436251163483, 0.03998478502035141, 0.13994675874710083, 0.29988589882850647, 0.03998478502035141, 0.9665732979774475, 0.9535354971885681, 0.480906218290329, 0.08415859192609787, 0.06011327728629112, 0.10820390284061432, 0.012022655457258224, 0.09016991406679153, 0.006011327728629112, 0.02404531091451645, 0.0961812436580658, 0.03606796637177467, 0.3814190626144409, 0.09535476565361023, 0.19070953130722046, 0.09535476565361023, 0.09535476565361023, 0.09535476565361023, 0.4523216187953949, 0.042787179350852966, 0.036674726754426956, 0.17420494556427002, 0.021393589675426483, 0.07334945350885391, 0.012224908918142319, 0.07640568166971207, 0.021393589675426483, 0.07334945350885391, 0.0030562272295355797, 0.006112454459071159, 0.0030562272295355797, 0.006112454459071159, 0.333556205034256, 0.07412360608577728, 0.4447416365146637, 0.11118540912866592, 0.27872171998023987, 0.6689321398735046, 0.3305352032184601, 0.03147954121232033, 0.09050368517637253, 0.2518363296985626, 0.03147954121232033, 0.08656874299049377, 0.019674714654684067, 0.019674714654684067, 0.027544599026441574, 0.06689402461051941, 0.003934942651540041, 0.03147954121232033, 0.007869885303080082, 0.2862429618835449, 0.04770715907216072, 0.38165727257728577, 0.14312148094177246, 0.09541431814432144, 0.2176668494939804, 0.06802089512348175, 0.42853161692619324, 0.04081253334879875, 0.006802089046686888, 0.04761462286114693, 0.02720835618674755, 0.013604178093373775, 0.12243760377168655, 0.02720835618674755, 0.364655464887619, 0.0567241832613945, 0.04862072691321373, 0.2512070834636688, 0.08913800120353699, 0.07293108850717545, 0.024310363456606865, 0.008103454485535622, 0.008103454485535622, 0.016206908971071243, 0.04051727429032326, 0.0954681858420372, 0.2864045798778534, 0.2864045798778534, 0.0954681858420372, 0.0954681858420372, 0.34346288442611694, 0.049066126346588135, 0.1471983790397644, 0.34346288442611694, 0.049066126346588135, 0.09813225269317627, 0.4313907325267792, 0.071898452937603, 0.4313907325267792, 0.13897977769374847, 0.13897977769374847, 0.06948988884687424, 0.48642924427986145, 0.06948988884687424, 0.06948988884687424, 0.3554075062274933, 0.0710814967751503, 0.0710814967751503, 0.0710814967751503, 0.2132444977760315, 0.0710814967751503, 0.0710814967751503, 0.0710814967751503, 0.16085171699523926, 0.40212929248809814, 0.16085171699523926, 0.08042585849761963, 0.16085171699523926, 0.9311793446540833, 0.12337370961904526, 0.2996218800544739, 0.07049926370382309, 0.026437222957611084, 0.2026853859424591, 0.017624815925955772, 0.2026853859424591, 0.008812407962977886, 0.008812407962977886, 0.017624815925955772, 0.15731953084468842, 0.24180594086647034, 0.18353945016860962, 0.09613971412181854, 0.08448641002178192, 0.09613971412181854, 0.026219921186566353, 0.023306597024202347, 0.02913324534893036, 0.017479946836829185, 0.03495989367365837, 0.0029133246280252934, 0.005826649256050587, 0.0029133246280252934, 0.0935610756278038, 0.3210112750530243, 0.23712894320487976, 0.09517420083284378, 0.10485293716192245, 0.04032805189490318, 0.05161990597844124, 0.01290497649461031, 0.01290497649461031, 0.011291854083538055, 0.004839366301894188, 0.004839366301894188, 0.004839366301894188, 0.0016131220618262887, 0.2668198049068451, 0.6003445386886597, 0.13340990245342255, 0.3671286702156067, 0.33653461933135986, 0.2753464877605438, 0.9070987701416016, 0.05335875228047371, 0.4533141553401947, 0.22665707767009735, 0.15110471844673157, 0.15110471844673157, 0.4824613332748413, 0.10002247244119644, 0.05883674696087837, 0.0706041008234024, 0.0353020504117012, 0.05883674696087837, 0.0353020504117012, 0.0353020504117012, 0.04706939682364464, 0.0176510252058506, 0.02353469841182232, 0.0353020504117012, 0.2355841100215912, 0.2355841100215912, 0.04711681976914406, 0.09423363953828812, 0.09423363953828812, 0.18846727907657623, 0.04711681976914406, 0.04711681976914406, 0.11690336465835571, 0.038967788219451904, 0.8378074169158936, 0.136931911110878, 0.22341521084308624, 0.10810413956642151, 0.10089719295501709, 0.057655539363622665, 0.10810413956642151, 0.21620827913284302, 0.028827769681811333, 0.007206942420452833, 0.007206942420452833, 0.8768354654312134, 0.01270776055753231, 0.01270776055753231, 0.02541552111506462, 0.02541552111506462, 0.02541552111506462, 0.01270776055753231, 0.15459664165973663, 0.15459664165973663, 0.15459664165973663, 0.07729832082986832, 0.15459664165973663, 0.15459664165973663, 0.15238575637340546, 0.15789367258548737, 0.2037929892539978, 0.20195701718330383, 0.06425905227661133, 0.11015837639570236, 0.018359728157520294, 0.023867648094892502, 0.02753959409892559, 0.012851810082793236, 0.012851810082793236, 0.009179864078760147, 0.003671945771202445, 0.0018359728856012225, 0.5391455888748169, 0.02764849178493023, 0.09676972031593323, 0.19353944063186646, 0.1244182139635086, 0.9259473085403442, 0.04208851605653763, 0.05534618720412254, 0.774846613407135, 0.05534618720412254, 0.05534618720412254, 0.05534618720412254, 0.09487932175397873, 0.3137342929840088, 0.22138507664203644, 0.031626440584659576, 0.1657225489616394, 0.020240921527147293, 0.09234920144081116, 0.012650575488805771, 0.02656620927155018, 0.0012650575954467058, 0.011385518126189709, 0.0025301151908934116, 0.005060230381786823, 0.0012650575954467058, 0.10872893780469894, 0.28132662177085876, 0.18096144497394562, 0.0935220941901207, 0.1018858551979065, 0.08743935823440552, 0.05550498142838478, 0.023570608347654343, 0.02661197818815708, 0.01672752946615219, 0.01444650162011385, 0.0015206844545900822, 0.005322395358234644, 0.0015206844545900822, 0.6982438564300537, 0.17456096410751343, 0.08728048205375671, 0.029452921822667122, 0.883587658405304, 0.009817640297114849, 0.009817640297114849, 0.058905843645334244, 0.29437002539634705, 0.1476217657327652, 0.11268170177936554, 0.11442870646715164, 0.08385615050792694, 0.089970663189888, 0.05241009593009949, 0.013976025395095348, 0.025331545621156693, 0.026205047965049744, 0.016596529632806778, 0.016596529632806778, 0.002620504703372717, 0.002620504703372717, 0.09238506853580475, 0.1279177963733673, 0.3197944760322571, 0.05685235187411308, 0.3411141037940979, 0.007106543984264135, 0.02131963148713112, 0.01421308796852827, 0.007106543984264135, 0.02131963148713112, 0.22221343219280243, 0.44442686438560486, 0.22221343219280243, 0.07407114654779434, 0.47796857357025146, 0.1593228578567505, 0.1593228578567505, 0.1593228578567505, 0.24454763531684875, 0.20442062616348267, 0.2104775309562683, 0.10523876547813416, 0.10372453927993774, 0.02498474344611168, 0.025741856545209885, 0.022713404148817062, 0.021199176087975502, 0.01817072182893753, 0.006056907586753368, 0.003028453793376684, 0.0052997940219938755, 0.0037855671253055334, 0.16781924664974213, 0.6712769865989685, 0.08390962332487106, 0.4388286769390106, 0.07313811033964157, 0.07313811033964157, 0.07313811033964157, 0.2925524413585663, 0.11358626186847687, 0.8518969416618347, 0.35132062435150146, 0.12575681507587433, 0.1337413787841797, 0.1497104912996292, 0.029942099004983902, 0.08583401888608932, 0.009980699978768826, 0.051899638026952744, 0.01796525903046131, 0.027945958077907562, 0.005988419521600008, 0.00798455998301506, 0.001996139995753765, 0.19575119018554688, 0.2446889877319336, 0.14681339263916016, 0.2446889877319336, 0.09787559509277344, 0.09787559509277344, 0.943048357963562, 0.1341201215982437, 0.20956267416477203, 0.49037668108940125, 0.07125131040811539, 0.03772128373384476, 0.020956268534064293, 0.004191253799945116, 0.01257376093417406, 0.004191253799945116, 0.004191253799945116, 0.004191253799945116, 0.04130271077156067, 0.2891189754009247, 0.08260542154312134, 0.12390812486410141, 0.04130271077156067, 0.04130271077156067, 0.33042168617248535, 0.11756448447704315, 0.058782242238521576, 0.058782242238521576, 0.058782242238521576, 0.6466046571731567, 0.9443675875663757, 0.23556533455848694, 0.7066960334777832, 0.08717343956232071, 0.043586719781160355, 0.34869375824928284, 0.43586719036102295, 0.043586719781160355, 0.043586719781160355, 0.5272185206413269, 0.08786975592374802, 0.30754414200782776, 0.04393487796187401, 0.3928458094596863, 0.07856915891170502, 0.3928458094596863, 0.07856915891170502, 0.2443348914384842, 0.16288992762565613, 0.16288992762565613, 0.16288992762565613, 0.08144496381282806, 0.2443348914384842, 0.36690786480903625, 0.15724621713161469, 0.36690786480903625, 0.052415408194065094, 0.026163248345255852, 0.29433655738830566, 0.3466630280017853, 0.09811218082904816, 0.08503055572509766, 0.013081624172627926, 0.006540812086313963, 0.04578568413853645, 0.058867309242486954, 0.0196224357932806, 0.10406047850847244, 0.15609070658683777, 0.05203023925423622, 0.20812095701694489, 0.4682721495628357, 0.9312604665756226, 0.02586834691464901, 0.27551543712615967, 0.6428693532943726, 0.5589059591293335, 0.09315098822116852, 0.09315098822116852, 0.18630197644233704, 0.0722113847732544, 0.8665366768836975, 0.0722113847732544, 0.08025825768709183, 0.44142043590545654, 0.3210330307483673, 0.040129128843545914, 0.08025825768709183, 0.08111994713544846, 0.020279986783862114, 0.3244797885417938, 0.020279986783862114, 0.30419981479644775, 0.020279986783862114, 0.24335984885692596, 0.36455675959587097, 0.286437451839447, 0.052079539746046066, 0.20831815898418427, 0.052079539746046066, 0.3935840427875519, 0.1686788648366928, 0.3373577296733856, 0.22250862419605255, 0.04450172558426857, 0.5785224437713623, 0.08900345116853714, 0.1610792577266693, 0.08053962886333466, 0.6040471792221069, 0.08053962886333466, 0.04026981443166733, 0.08103111386299133, 0.32412445545196533, 0.08103111386299133, 0.40515556931495667, 0.44759607315063477, 0.3729967176914215, 0.1305488497018814, 0.018649837002158165, 0.9318835139274597, 0.9026082754135132, 0.06748472899198532, 0.008435591123998165, 0.01687118224799633, 0.06502796709537506, 0.3251398503780365, 0.06502796709537506, 0.4551957845687866, 0.2315235435962677, 0.6945706605911255, 0.2100076675415039, 0.2402142584323883, 0.12226473540067673, 0.14527927339076996, 0.07192043215036392, 0.0791124776005745, 0.04890589416027069, 0.02301453985273838, 0.01150726992636919, 0.017260903492569923, 0.01582249626517296, 0.008630451746284962, 0.004315225873142481, 0.34851503372192383, 0.029042918235063553, 0.058085836470127106, 0.20330043137073517, 0.20330043137073517, 0.058085836470127106, 0.058085836470127106, 0.3533726632595062, 0.1305069476366043, 0.14857713878154755, 0.14656934142112732, 0.038148183375597, 0.056218378245830536, 0.008031196892261505, 0.04216378182172775, 0.02208579145371914, 0.02610138989984989, 0.01606239378452301, 0.008031196892261505, 0.0020077992230653763, 0.0040155984461307526, 0.30561766028404236, 0.05556684732437134, 0.5834519267082214, 0.02778342366218567, 0.6817467212677002, 0.26221027970314026, 0.04560178890824318, 0.006840268149971962, 0.9084112644195557, 0.44983023405075073, 0.00424368167296052, 0.02121840789914131, 0.1655035763978958, 0.00848736334592104, 0.10184835642576218, 0.00848736334592104, 0.08911731094121933, 0.04243681579828262, 0.08062994480133057, 0.00424368167296052, 0.00848736334592104, 0.012731044553220272, 0.1262521743774414, 0.6943869590759277, 0.1262521743774414, 0.6702869534492493, 0.31695741415023804, 0.005196023266762495, 0.005196023266762495, 0.0846748948097229, 0.2222716063261032, 0.1552373170852661, 0.2222716063261032, 0.21521537005901337, 0.007056241389364004, 0.021168723702430725, 0.010584361851215363, 0.003528120694682002, 0.007056241389364004, 0.03528120741248131, 0.007056241389364004, 0.014112482778728008, 0.0342034213244915, 0.6156615614891052, 0.05700569972395897, 0.011401140131056309, 0.045604560524225235, 0.21662166714668274, 0.011401140131056309, 0.9836369156837463, 0.004683985374867916, 0.3469606637954712, 0.2081764042377472, 0.0693921372294426, 0.0693921372294426, 0.1387842744588852, 0.1387842744588852, 0.15685957670211792, 0.29076409339904785, 0.16068542003631592, 0.09947192668914795, 0.09373316168785095, 0.05930057168006897, 0.04208427667617798, 0.030606746673583984, 0.02295506000518799, 0.007651686668395996, 0.013390451669692993, 0.015303373336791992, 0.007651686668395996, 0.001912921667098999, 0.1191062405705452, 0.20843592286109924, 0.2382124811410904, 0.0297765601426363, 0.14888280630111694, 0.20843592286109924, 0.0595531202852726, 0.19678716361522675, 0.1779458373785019, 0.14235667884349823, 0.14026318490505219, 0.15282407402992249, 0.04186961054801941, 0.07327181845903397, 0.020934805274009705, 0.012560882605612278, 0.018841324374079704, 0.010467402637004852, 0.002093480434268713, 0.004186960868537426, 0.002093480434268713, 0.17080876231193542, 0.03941740840673447, 0.5912611484527588, 0.02627827227115631, 0.07883481681346893, 0.05255654454231262, 0.03941740840673447, 0.4888845384120941, 0.2716025114059448, 0.23325863480567932, 0.3980315029621124, 0.07236936688423157, 0.14473873376846313, 0.14473873376846313, 0.07236936688423157, 0.036184683442115784, 0.10855404287576675, 0.2765461802482605, 0.2664899528026581, 0.14078715443611145, 0.1106184720993042, 0.03268273174762726, 0.052795179188251495, 0.03268273174762726, 0.015084337443113327, 0.02262650616466999, 0.0075421687215566635, 0.02262650616466999, 0.005028112325817347, 0.010056224651634693, 0.0025140561629086733, 0.3155640661716461, 0.12564124166965485, 0.10226613283157349, 0.18700093030929565, 0.026297004893422127, 0.08473479747772217, 0.052594009786844254, 0.014609447680413723, 0.032140783965587616, 0.023375116288661957, 0.014609447680413723, 0.017531337216496468, 0.46474406123161316, 0.1858976185321808, 0.0464744046330452, 0.1394232213497162, 0.0929488092660904, 0.14974771440029144, 0.3743692636489868, 0.14974771440029144, 0.14974771440029144, 0.14974771440029144, 0.09778190404176712, 0.423721581697464, 0.13037587702274323, 0.29334571957588196, 0.032593969255685806, 0.20309613645076752, 0.10311035066843033, 0.1437295824289322, 0.15310324728488922, 0.21246980130672455, 0.05936656519770622, 0.003124556038528681, 0.05624200776219368, 0.02812100388109684, 0.003124556038528681, 0.012498224154114723, 0.015622779726982117, 0.003124556038528681, 0.14259713888168335, 0.2321348786354065, 0.11606743931770325, 0.24208351969718933, 0.04642697423696518, 0.05637561157345772, 0.04476886987686157, 0.03316212445497513, 0.021555380895733833, 0.021555380895733833, 0.024871593341231346, 0.013264849781990051, 0.0016581062227487564, 0.003316212445497513, 0.18738684058189392, 0.3148098886013031, 0.17839226126670837, 0.046471934765577316, 0.10343753546476364, 0.05696559697389603, 0.046471934765577316, 0.023985514417290688, 0.026983704417943954, 0.004497284069657326, 0.005996378604322672, 0.002998189302161336, 0.002998189302161336, 0.9019723534584045, 0.775985598564148, 0.1763603687286377], \"Term\": [\"abbey\", \"abbey\", \"abbey\", \"abuse\", \"abuse\", \"abuse\", \"abuse\", \"abuse\", \"abuse\", \"abused\", \"abused\", \"abused\", \"abused\", \"accidental\", \"accidental\", \"accidental\", \"accidental\", \"accidental\", \"accidental\", \"adele\", \"adele\", \"adele\", \"adele\", \"adele\", \"adorned\", \"adorned\", \"adorned\", \"advise\", \"advise\", \"advise\", \"advise\", \"advise\", \"advise\", \"advocate\", \"advocate\", \"advocate\", \"advocate\", \"advocate\", \"advocate\", \"advocate\", \"allenham\", \"alluded\", \"alluded\", \"alluded\", \"alluded\", \"alluded\", \"alluded\", \"alluded\", \"amiss\", \"amiss\", \"amiss\", \"amiss\", \"angel\", \"angel\", \"angel\", \"angel\", \"angel\", \"angel\", \"angel\", \"angel\", \"angel\", \"announcing\", \"announcing\", \"announcing\", \"announcing\", \"announcing\", \"annoyance\", \"annoyance\", \"annoyance\", \"annoyance\", \"anxiously\", \"anxiously\", \"anxiously\", \"anxiously\", \"anxiously\", \"anxiously\", \"anxiously\", \"apartments\", \"apartments\", \"apartments\", \"apartments\", \"apartments\", \"apparition\", \"apparition\", \"apples\", \"apples\", \"apples\", \"apples\", \"apprehension\", \"apprehension\", \"apprehension\", \"apprehension\", \"apprehension\", \"apprehension\", \"apprehension\", \"apprehensions\", \"apprehensions\", \"apprehensions\", \"apprehensions\", \"arch\", \"arch\", \"arch\", \"arch\", \"arch\", \"arch\", \"arch\", \"artless\", \"artless\", \"artless\", \"artless\", \"artless\", \"ascended\", \"ascended\", \"ascended\", \"ascended\", \"ascended\", \"ascended\", \"ascended\", \"ascended\", \"ascertained\", \"ascertained\", \"ascertained\", \"ascertained\", \"ascertained\", \"asked\", \"asked\", \"asked\", \"asked\", \"asked\", \"asked\", \"asked\", \"asked\", \"asked\", \"asked\", \"asked\", \"asked\", \"asked\", \"asked\", \"asks\", \"asks\", \"asks\", \"assert\", \"assert\", \"assert\", \"assert\", \"assert\", \"assert\", \"associations\", \"associations\", \"associations\", \"associations\", \"attempt\", \"attempt\", \"attempt\", \"attempt\", \"attempt\", \"attempt\", \"attempt\", \"attempt\", \"attribute\", \"attribute\", \"attribute\", \"audible\", \"audible\", \"audible\", \"audible\", \"audible\", \"aunt\", \"aunt\", \"aunt\", \"aunt\", \"aunt\", \"aunt\", \"aunt\", \"aunt\", \"austere\", \"austere\", \"austere\", \"austere\", \"austere\", \"away\", \"away\", \"away\", \"away\", \"away\", \"away\", \"away\", \"away\", \"away\", \"away\", \"away\", \"away\", \"away\", \"baked\", \"baked\", \"baked\", \"baked\", \"baked\", \"ball\", \"ball\", \"ball\", \"ball\", \"ball\", \"ball\", \"ball\", \"banks\", \"banks\", \"banks\", \"banks\", \"barton\", \"barton\", \"basin\", \"basin\", \"basin\", \"basin\", \"basin\", \"bassompierre\", \"bassompierre\", \"bassompierre\", \"bassompierre\", \"bates\", \"bates\", \"bates\", \"bates\", \"beauties\", \"beauties\", \"beauties\", \"beauties\", \"beauties\", \"beauties\", \"beck\", \"beck\", \"beck\", \"beck\", \"beck\", \"beck\", \"bed\", \"bed\", \"bed\", \"bed\", \"bed\", \"bed\", \"bed\", \"bed\", \"bed\", \"bed\", \"bed\", \"bed\", \"behaviour\", \"behaviour\", \"behaviour\", \"behaviour\", \"behaviour\", \"behaviour\", \"behaviour\", \"behaviour\", \"believe\", \"believe\", \"believe\", \"believe\", \"believe\", \"believe\", \"believe\", \"believe\", \"believe\", \"believe\", \"believe\", \"believe\", \"believe\", \"bells\", \"bells\", \"bells\", \"bells\", \"bells\", \"beloved\", \"beloved\", \"beloved\", \"beloved\", \"beloved\", \"beloved\", \"beloved\", \"beloved\", \"beloved\", \"bennet\", \"bennet\", \"bennet\", \"berceau\", \"berceau\", \"berkeley\", \"bessie\", \"bessie\", \"bessie\", \"betray\", \"betray\", \"betray\", \"betray\", \"betray\", \"betray\", \"better\", \"better\", \"better\", \"better\", \"better\", \"better\", \"better\", \"better\", \"better\", \"better\", \"better\", \"better\", \"better\", \"better\", \"bien\", \"bien\", \"bind\", \"bind\", \"bind\", \"bind\", \"bind\", \"bingley\", \"bingley\", \"bingley\", \"black\", \"black\", \"black\", \"black\", \"black\", \"black\", \"black\", \"black\", \"black\", \"black\", \"black\", \"blanche\", \"blanche\", \"blanche\", \"blanche\", \"blanche\", \"blaze\", \"blaze\", \"blaze\", \"blew\", \"blew\", \"blunders\", \"blunders\", \"blunders\", \"blunders\", \"body\", \"body\", \"body\", \"body\", \"body\", \"body\", \"body\", \"body\", \"body\", \"body\", \"body\", \"bolt\", \"bolt\", \"bolt\", \"bolt\", \"bond\", \"bond\", \"bond\", \"born\", \"born\", \"born\", \"born\", \"born\", \"born\", \"born\", \"born\", \"born\", \"born\", \"born\", \"bounded\", \"bounded\", \"bounded\", \"bounded\", \"bounded\", \"bourgh\", \"brains\", \"brains\", \"brains\", \"brains\", \"brains\", \"branches\", \"branches\", \"branches\", \"branches\", \"brandon\", \"brandon\", \"breadth\", \"breadth\", \"breadth\", \"breast\", \"breast\", \"breast\", \"breast\", \"breast\", \"breast\", \"breast\", \"breathe\", \"breathe\", \"breathe\", \"breathe\", \"breathe\", \"bretton\", \"bretton\", \"bretton\", \"bretton\", \"bretton\", \"brighton\", \"bring\", \"bring\", \"bring\", \"bring\", \"bring\", \"bring\", \"bring\", \"bring\", \"bring\", \"bring\", \"bring\", \"bring\", \"brocklehurst\", \"brocklehurst\", \"brocklehurst\", \"brunswick\", \"brunswick\", \"brussels\", \"brussels\", \"brussels\", \"burdened\", \"burdened\", \"burdened\", \"burdened\", \"burns\", \"burns\", \"burns\", \"calmly\", \"calmly\", \"calmly\", \"calmly\", \"calmly\", \"calmly\", \"calmly\", \"came\", \"came\", \"came\", \"came\", \"came\", \"came\", \"came\", \"came\", \"came\", \"came\", \"came\", \"came\", \"came\", \"came\", \"campbells\", \"campbells\", \"candle\", \"candle\", \"candle\", \"candle\", \"candle\", \"carelessly\", \"carelessly\", \"carelessly\", \"carelessly\", \"carelessly\", \"cat\", \"cat\", \"cat\", \"cat\", \"catherine\", \"catherine\", \"catherine\", \"catherine\", \"caused\", \"caused\", \"caused\", \"caused\", \"ce\", \"ce\", \"ce\", \"chambers\", \"chambers\", \"chambers\", \"chambers\", \"chambers\", \"chambers\", \"changes\", \"changes\", \"changes\", \"changes\", \"changes\", \"changes\", \"changes\", \"changes\", \"charlotte\", \"charlotte\", \"charlotte\", \"charlotte\", \"child\", \"child\", \"child\", \"child\", \"child\", \"child\", \"child\", \"child\", \"child\", \"child\", \"child\", \"child\", \"children\", \"children\", \"children\", \"children\", \"children\", \"children\", \"children\", \"children\", \"children\", \"cholmondeley\", \"cholmondeley\", \"christian\", \"christian\", \"christian\", \"christian\", \"christian\", \"christian\", \"christian\", \"christian\", \"church\", \"church\", \"church\", \"church\", \"church\", \"church\", \"church\", \"church\", \"church\", \"church\", \"church\", \"church\", \"churchill\", \"churchill\", \"churchill\", \"circumstance\", \"circumstance\", \"circumstance\", \"circumstance\", \"circumstance\", \"circumstance\", \"circumstance\", \"circumstance\", \"circumstance\", \"circumstance\", \"circumstance\", \"circumstance\", \"claims\", \"claims\", \"claims\", \"claims\", \"claims\", \"claims\", \"claims\", \"claims\", \"class\", \"class\", \"class\", \"class\", \"class\", \"class\", \"class\", \"class\", \"class\", \"class\", \"class\", \"classe\", \"classe\", \"classe\", \"classe\", \"clerk\", \"clerk\", \"clerk\", \"clerk\", \"clerk\", \"cleveland\", \"cold\", \"cold\", \"cold\", \"cold\", \"cold\", \"cold\", \"cold\", \"cold\", \"cold\", \"cold\", \"cold\", \"cold\", \"cold\", \"cole\", \"cole\", \"coles\", \"collins\", \"collins\", \"colonel\", \"colonel\", \"colonel\", \"colonel\", \"colonel\", \"colonel\", \"colonel\", \"colonel\", \"combe\", \"combined\", \"combined\", \"combined\", \"combined\", \"come\", \"come\", \"come\", \"come\", \"come\", \"come\", \"come\", \"come\", \"come\", \"come\", \"come\", \"come\", \"come\", \"comfortable\", \"comfortable\", \"comfortable\", \"comfortable\", \"comfortable\", \"comfortable\", \"comfortable\", \"comfortable\", \"comforts\", \"comforts\", \"comforts\", \"comforts\", \"comforts\", \"compare\", \"compare\", \"compare\", \"compare\", \"compare\", \"compare\", \"compare\", \"compare\", \"completely\", \"completely\", \"completely\", \"completely\", \"completely\", \"completely\", \"completely\", \"completely\", \"completely\", \"completely\", \"concert\", \"concert\", \"concert\", \"concert\", \"concert\", \"concluding\", \"concluding\", \"concluding\", \"concluding\", \"concluding\", \"confession\", \"confession\", \"confession\", \"confession\", \"confession\", \"confession\", \"confession\", \"confounded\", \"confounded\", \"confounded\", \"confounded\", \"confounded\", \"confounded\", \"connexion\", \"connexion\", \"connexion\", \"consider\", \"consider\", \"consider\", \"consider\", \"consider\", \"consider\", \"consider\", \"consider\", \"consider\", \"consider\", \"consider\", \"considerations\", \"considerations\", \"considerations\", \"considerations\", \"consistent\", \"consistent\", \"consistent\", \"consistent\", \"consistent\", \"consistent\", \"corner\", \"corner\", \"corner\", \"corner\", \"corner\", \"corner\", \"corner\", \"corner\", \"corner\", \"corner\", \"costly\", \"costly\", \"costly\", \"costly\", \"cottage\", \"cottage\", \"cottage\", \"cottage\", \"cottage\", \"cottage\", \"counsel\", \"counsel\", \"counsel\", \"counsel\", \"counsel\", \"count\", \"count\", \"count\", \"count\", \"count\", \"count\", \"counting\", \"counting\", \"counting\", \"counting\", \"counting\", \"course\", \"course\", \"course\", \"course\", \"course\", \"course\", \"course\", \"course\", \"course\", \"course\", \"course\", \"course\", \"course\", \"court\", \"court\", \"court\", \"court\", \"court\", \"crecy\", \"crecy\", \"crecy\", \"crecy\", \"creed\", \"creed\", \"creed\", \"creed\", \"creed\", \"crib\", \"crib\", \"crime\", \"crime\", \"crime\", \"crime\", \"crime\", \"crimsworth\", \"crimsworth\", \"crimsworth\", \"crowd\", \"crowd\", \"crowd\", \"crowd\", \"crowd\", \"crowd\", \"cunning\", \"cunning\", \"cunning\", \"cunning\", \"cunning\", \"cunning\", \"cup\", \"cup\", \"cup\", \"cup\", \"cup\", \"cup\", \"cup\", \"cupboard\", \"cupboard\", \"cupboard\", \"cupboard\", \"cups\", \"cups\", \"cups\", \"cups\", \"cure\", \"cure\", \"cure\", \"cure\", \"cure\", \"cure\", \"cure\", \"curled\", \"curled\", \"curled\", \"curled\", \"curled\", \"curled\", \"dances\", \"dances\", \"dances\", \"dances\", \"dancing\", \"dancing\", \"dancing\", \"dancing\", \"dancing\", \"dancing\", \"dancing\", \"dancing\", \"dancing\", \"darcy\", \"darcy\", \"darcy\", \"darcy\", \"daresay\", \"daresay\", \"daresay\", \"daresay\", \"daresay\", \"dark\", \"dark\", \"dark\", \"dark\", \"dark\", \"dark\", \"dark\", \"dark\", \"dark\", \"dark\", \"dark\", \"dark\", \"darkened\", \"darkened\", \"darkened\", \"darkened\", \"darkened\", \"darted\", \"darted\", \"darted\", \"darted\", \"darted\", \"darted\", \"dashwood\", \"dashwood\", \"dashwoods\", \"dashwoods\", \"daughter\", \"daughter\", \"daughter\", \"daughter\", \"daughter\", \"daughter\", \"daughter\", \"daughter\", \"daughter\", \"daughter\", \"day\", \"day\", \"day\", \"day\", \"day\", \"day\", \"day\", \"day\", \"day\", \"day\", \"day\", \"day\", \"day\", \"day\", \"dear\", \"dear\", \"dear\", \"dear\", \"dear\", \"dear\", \"dear\", \"dear\", \"dear\", \"dear\", \"dear\", \"dear\", \"deceitful\", \"deceitful\", \"december\", \"december\", \"december\", \"december\", \"december\", \"decisive\", \"decisive\", \"decisive\", \"decisive\", \"decisive\", \"dedicated\", \"dedicated\", \"dedicated\", \"dedicated\", \"deferred\", \"deferred\", \"deferred\", \"deferred\", \"deferred\", \"defiance\", \"defiance\", \"defiance\", \"defiance\", \"defiance\", \"defiance\", \"delaford\", \"delaford\", \"denied\", \"denied\", \"denied\", \"denied\", \"denied\", \"denied\", \"dent\", \"dent\", \"dent\", \"desk\", \"desk\", \"desk\", \"desk\", \"desk\", \"desk\", \"desk\", \"desk\", \"destroy\", \"destroy\", \"destroy\", \"destroy\", \"destroy\", \"destroyed\", \"destroyed\", \"destroyed\", \"destroyed\", \"destroyed\", \"destroyed\", \"devonshire\", \"devonshire\", \"dew\", \"dew\", \"dew\", \"dew\", \"dew\", \"dew\", \"diana\", \"diana\", \"diana\", \"director\", \"director\", \"directress\", \"directress\", \"directress\", \"discoveries\", \"discoveries\", \"discoveries\", \"discoveries\", \"discoveries\", \"discoveries\", \"disguise\", \"disguise\", \"disguise\", \"disguise\", \"dispersed\", \"dispersed\", \"dispersed\", \"dispersed\", \"dixon\", \"dixon\", \"doll\", \"doll\", \"doll\", \"doll\", \"donc\", \"donc\", \"donwell\", \"donwell\", \"donwell\", \"donwell\", \"door\", \"door\", \"door\", \"door\", \"door\", \"door\", \"door\", \"door\", \"door\", \"door\", \"door\", \"door\", \"door\", \"door\", \"dormitory\", \"dormitory\", \"dormitory\", \"dormitory\", \"dormitory\", \"dormitory\", \"dose\", \"dose\", \"dose\", \"doubt\", \"doubt\", \"doubt\", \"doubt\", \"doubt\", \"doubt\", \"doubt\", \"doubt\", \"doubt\", \"doubt\", \"doubt\", \"doubt\", \"doubt\", \"doubt\", \"downright\", \"downright\", \"downright\", \"downright\", \"downright\", \"downright\", \"dr\", \"dr\", \"dr\", \"dr\", \"dr\", \"dreaming\", \"dreaming\", \"dreaming\", \"dreaming\", \"dreaming\", \"drove\", \"drove\", \"drove\", \"drove\", \"drove\", \"drove\", \"drove\", \"drove\", \"echoed\", \"echoed\", \"echoed\", \"echoed\", \"edward\", \"edward\", \"edward\", \"edward\", \"edward\", \"edward\", \"elf\", \"elf\", \"elf\", \"elf\", \"elinor\", \"elinor\", \"elinor\", \"elinor\", \"elinor\", \"elizabeth\", \"elizabeth\", \"elizabeth\", \"elizabeth\", \"elizabeth\", \"elizabeth\", \"elizabeth\", \"elizabeth\", \"elle\", \"elle\", \"elton\", \"elton\", \"elton\", \"elton\", \"eltons\", \"eltons\", \"emanuel\", \"emanuel\", \"emanuel\", \"emanuel\", \"emma\", \"emma\", \"emma\", \"emma\", \"emma\", \"engagement\", \"engagement\", \"engagement\", \"engagement\", \"engagement\", \"engagement\", \"england\", \"england\", \"england\", \"england\", \"england\", \"england\", \"england\", \"england\", \"england\", \"england\", \"england\", \"english\", \"english\", \"english\", \"english\", \"english\", \"english\", \"english\", \"english\", \"english\", \"english\", \"engrossed\", \"engrossed\", \"engrossed\", \"entailed\", \"entailed\", \"entailed\", \"enthusiasm\", \"enthusiasm\", \"enthusiasm\", \"enthusiasm\", \"enthusiasm\", \"envy\", \"envy\", \"envy\", \"envy\", \"envy\", \"envy\", \"err\", \"err\", \"err\", \"err\", \"err\", \"eshton\", \"eshton\", \"eshton\", \"eshton\", \"est\", \"est\", \"est\", \"est\", \"estrade\", \"et\", \"et\", \"et\", \"et\", \"exeter\", \"extensive\", \"extensive\", \"extensive\", \"extensive\", \"external\", \"external\", \"external\", \"external\", \"external\", \"eye\", \"eye\", \"eye\", \"eye\", \"eye\", \"eye\", \"eye\", \"eye\", \"eye\", \"eye\", \"eye\", \"eye\", \"eye\", \"eye\", \"eyes\", \"eyes\", \"eyes\", \"eyes\", \"eyes\", \"eyes\", \"eyes\", \"eyes\", \"eyes\", \"eyes\", \"eyes\", \"eyes\", \"eyes\", \"eyre\", \"eyre\", \"eyre\", \"eyre\", \"eyre\", \"eyre\", \"eyre\", \"face\", \"face\", \"face\", \"face\", \"face\", \"face\", \"face\", \"face\", \"face\", \"face\", \"face\", \"face\", \"face\", \"face\", \"fairfax\", \"fairfax\", \"fairfax\", \"fairfax\", \"fairfax\", \"fairfax\", \"fairfax\", \"fairfax\", \"fairfax\", \"fairfax\", \"fait\", \"fanny\", \"fanny\", \"fanshawe\", \"fanshawe\", \"fanshawe\", \"fanshawe\", \"fanshawe\", \"fasten\", \"fasten\", \"fasten\", \"fasten\", \"fatal\", \"fatal\", \"fatal\", \"fatal\", \"fate\", \"fate\", \"fate\", \"fate\", \"fate\", \"fate\", \"fate\", \"fate\", \"fate\", \"fate\", \"fate\", \"father\", \"father\", \"father\", \"father\", \"father\", \"father\", \"father\", \"father\", \"father\", \"father\", \"father\", \"feed\", \"feed\", \"feed\", \"feed\", \"feed\", \"feed\", \"feel\", \"feel\", \"feel\", \"feel\", \"feel\", \"feel\", \"feel\", \"feel\", \"feel\", \"feel\", \"feel\", \"feel\", \"feel\", \"feel\", \"felt\", \"felt\", \"felt\", \"felt\", \"felt\", \"felt\", \"felt\", \"felt\", \"felt\", \"felt\", \"felt\", \"felt\", \"felt\", \"felt\", \"ferrars\", \"ferrars\", \"fine\", \"fine\", \"fine\", \"fine\", \"fine\", \"fine\", \"fine\", \"fine\", \"fine\", \"fine\", \"fine\", \"fine\", \"fine\", \"fitzwilliam\", \"fitzwilliam\", \"fondness\", \"fondness\", \"fondness\", \"fondness\", \"fondness\", \"foreseen\", \"foreseen\", \"foreseen\", \"foreseen\", \"foreseen\", \"foreseen\", \"forster\", \"forster\", \"fortune\", \"fortune\", \"fortune\", \"fortune\", \"fortune\", \"fortune\", \"fortune\", \"fortune\", \"fortune\", \"fortune\", \"fortune\", \"fortune\", \"frances\", \"frances\", \"frances\", \"frances\", \"frank\", \"frank\", \"frank\", \"frank\", \"frank\", \"frank\", \"frank\", \"frank\", \"frank\", \"frank\", \"frantic\", \"frantic\", \"frantic\", \"frantic\", \"freedom\", \"freedom\", \"freedom\", \"freedom\", \"freedom\", \"freedom\", \"freedom\", \"freedom\", \"freely\", \"freely\", \"freely\", \"freely\", \"freely\", \"french\", \"french\", \"french\", \"french\", \"french\", \"french\", \"french\", \"french\", \"french\", \"friend\", \"friend\", \"friend\", \"friend\", \"friend\", \"friend\", \"friend\", \"friend\", \"friend\", \"friend\", \"friend\", \"friend\", \"friend\", \"friends\", \"friends\", \"friends\", \"friends\", \"friends\", \"friends\", \"friends\", \"friends\", \"friends\", \"friends\", \"friends\", \"friends\", \"friends\", \"friends\", \"frock\", \"frock\", \"frock\", \"furnish\", \"furnish\", \"furnish\", \"gale\", \"gale\", \"gallery\", \"gallery\", \"gallery\", \"gallery\", \"gallery\", \"gallery\", \"gallery\", \"garden\", \"garden\", \"garden\", \"garden\", \"garden\", \"garden\", \"garden\", \"garden\", \"garden\", \"garden\", \"garden\", \"garden\", \"garden\", \"gardiner\", \"gardiner\", \"gardiner\", \"garments\", \"garments\", \"garments\", \"garret\", \"garret\", \"garret\", \"garret\", \"gateshead\", \"gateshead\", \"gateshead\", \"gateshead\", \"gave\", \"gave\", \"gave\", \"gave\", \"gave\", \"gave\", \"gave\", \"gave\", \"gave\", \"gave\", \"gave\", \"gave\", \"gave\", \"gave\", \"gazed\", \"gazed\", \"gazed\", \"gazed\", \"gazed\", \"gazed\", \"generations\", \"generations\", \"generations\", \"generations\", \"generations\", \"generations\", \"generations\", \"generosity\", \"generosity\", \"generosity\", \"generosity\", \"generosity\", \"generosity\", \"generosity\", \"genius\", \"genius\", \"genius\", \"genius\", \"genius\", \"genius\", \"genius\", \"genius\", \"genius\", \"genius\", \"genius\", \"gentlemen\", \"gentlemen\", \"gentlemen\", \"gentlemen\", \"gentlemen\", \"gentlemen\", \"gentlemen\", \"gentlemen\", \"gentlemen\", \"gentlemen\", \"gentlemen\", \"genuine\", \"genuine\", \"genuine\", \"genuine\", \"genuine\", \"genuine\", \"genuine\", \"genuine\", \"genuine\", \"genuine\", \"ghost\", \"ghost\", \"ghost\", \"ghost\", \"ghost\", \"ginevra\", \"ginevra\", \"ginevra\", \"ginevra\", \"gipsy\", \"gipsy\", \"gipsy\", \"gipsy\", \"gipsy\", \"gladly\", \"gladly\", \"gladly\", \"gladly\", \"gladly\", \"gladly\", \"glasses\", \"glasses\", \"glasses\", \"glorious\", \"glorious\", \"glorious\", \"glorious\", \"glorious\", \"god\", \"god\", \"god\", \"god\", \"god\", \"god\", \"god\", \"god\", \"god\", \"god\", \"god\", \"god\", \"god\", \"god\", \"goddard\", \"goddard\", \"goddard\", \"goddard\", \"godmother\", \"godmother\", \"godmother\", \"godmother\", \"good\", \"good\", \"good\", \"good\", \"good\", \"good\", \"good\", \"good\", \"good\", \"good\", \"good\", \"good\", \"good\", \"good\", \"graces\", \"graces\", \"graces\", \"graces\", \"graces\", \"graces\", \"graham\", \"graham\", \"graham\", \"graham\", \"graham\", \"grand\", \"grand\", \"grand\", \"grand\", \"grand\", \"grand\", \"grand\", \"grand\", \"grand\", \"grandmother\", \"grandmother\", \"grandmother\", \"grandmother\", \"grandmother\", \"great\", \"great\", \"great\", \"great\", \"great\", \"great\", \"great\", \"great\", \"great\", \"great\", \"great\", \"great\", \"great\", \"great\", \"greatness\", \"greatness\", \"greatness\", \"greatness\", \"greatness\", \"greatness\", \"greatness\", \"greatness\", \"grec\", \"greeted\", \"greeted\", \"greeted\", \"grounds\", \"grounds\", \"grounds\", \"grounds\", \"grounds\", \"grounds\", \"grounds\", \"grounds\", \"grounds\", \"grounds\", \"grounds\", \"grounds\", \"grove\", \"grove\", \"grove\", \"grove\", \"grove\", \"half\", \"half\", \"half\", \"half\", \"half\", \"half\", \"half\", \"half\", \"half\", \"half\", \"half\", \"half\", \"half\", \"hall\", \"hall\", \"hall\", \"hall\", \"hall\", \"hall\", \"hall\", \"hall\", \"hall\", \"hall\", \"hamal\", \"hamal\", \"hand\", \"hand\", \"hand\", \"hand\", \"hand\", \"hand\", \"hand\", \"hand\", \"hand\", \"hand\", \"hand\", \"hand\", \"hand\", \"hand\", \"handsome\", \"handsome\", \"handsome\", \"handsome\", \"handsome\", \"handsome\", \"handsome\", \"handsome\", \"handsome\", \"handsome\", \"handsome\", \"handsome\", \"handsomely\", \"handsomely\", \"handsomely\", \"handsomely\", \"handsomely\", \"handsomely\", \"handsomely\", \"hannah\", \"hannah\", \"hannah\", \"happening\", \"happening\", \"happening\", \"happening\", \"happening\", \"happening\", \"harley\", \"harriet\", \"harriet\", \"harriet\", \"harriet\", \"harriet\", \"harriet\", \"hartfield\", \"hartfield\", \"hartfield\", \"hate\", \"hate\", \"hate\", \"hate\", \"hate\", \"hate\", \"hate\", \"hate\", \"hate\", \"hate\", \"having\", \"having\", \"having\", \"having\", \"having\", \"having\", \"having\", \"having\", \"having\", \"having\", \"having\", \"having\", \"having\", \"having\", \"head\", \"head\", \"head\", \"head\", \"head\", \"head\", \"head\", \"head\", \"head\", \"head\", \"head\", \"head\", \"head\", \"heard\", \"heard\", \"heard\", \"heard\", \"heard\", \"heard\", \"heard\", \"heard\", \"heard\", \"heard\", \"heard\", \"heard\", \"heard\", \"heart\", \"heart\", \"heart\", \"heart\", \"heart\", \"heart\", \"heart\", \"heart\", \"heart\", \"heart\", \"heart\", \"heart\", \"heart\", \"heath\", \"heath\", \"heath\", \"helen\", \"helen\", \"helen\", \"henri\", \"henri\", \"henri\", \"hertfordshire\", \"hertfordshire\", \"hide\", \"hide\", \"hide\", \"hide\", \"highbury\", \"highbury\", \"highbury\", \"hinted\", \"hinted\", \"hinted\", \"hinted\", \"hit\", \"hit\", \"hit\", \"hit\", \"hit\", \"hit\", \"holy\", \"holy\", \"holy\", \"holy\", \"homage\", \"homage\", \"homage\", \"homage\", \"home\", \"home\", \"home\", \"home\", \"home\", \"home\", \"home\", \"home\", \"home\", \"home\", \"home\", \"home\", \"home\", \"honey\", \"honey\", \"honey\", \"honey\", \"honey\", \"hope\", \"hope\", \"hope\", \"hope\", \"hope\", \"hope\", \"hope\", \"hope\", \"hope\", \"hope\", \"hope\", \"hope\", \"hope\", \"horse\", \"horse\", \"horse\", \"horse\", \"horse\", \"horse\", \"horse\", \"hotel\", \"hotel\", \"hotel\", \"hotel\", \"hotel\", \"hotel\", \"house\", \"house\", \"house\", \"house\", \"house\", \"house\", \"house\", \"house\", \"house\", \"house\", \"house\", \"house\", \"house\", \"housekeeper\", \"housekeeper\", \"housekeeper\", \"housekeeper\", \"housekeeper\", \"housekeeper\", \"housekeeper\", \"human\", \"human\", \"human\", \"human\", \"human\", \"human\", \"human\", \"human\", \"human\", \"human\", \"human\", \"humiliation\", \"humiliation\", \"humiliation\", \"humiliation\", \"humiliation\", \"humph\", \"humph\", \"humph\", \"humph\", \"hunsden\", \"hunsden\", \"hunsden\", \"hunsford\", \"hunsford\", \"hurst\", \"hurst\", \"il\", \"il\", \"il\", \"il\", \"illusion\", \"illusion\", \"illusion\", \"illusion\", \"impart\", \"impart\", \"impart\", \"impress\", \"impress\", \"impress\", \"impress\", \"incapacity\", \"income\", \"income\", \"income\", \"income\", \"income\", \"income\", \"inconsistency\", \"inconsistency\", \"inconsistency\", \"inconsistency\", \"inconsistency\", \"inconsistency\", \"inconsistency\", \"increase\", \"increase\", \"increase\", \"increase\", \"increase\", \"increase\", \"indescribable\", \"indescribable\", \"indescribable\", \"india\", \"india\", \"india\", \"india\", \"indulging\", \"indulging\", \"indulging\", \"indulging\", \"indulging\", \"indulging\", \"inflict\", \"inflict\", \"inflict\", \"inflict\", \"inflict\", \"ingram\", \"ingram\", \"ingram\", \"ingram\", \"ingram\", \"instinctively\", \"instinctively\", \"instinctively\", \"instinctively\", \"instinctively\", \"interrupt\", \"interrupt\", \"interrupt\", \"interrupt\", \"interrupt\", \"involuntary\", \"involuntary\", \"involuntary\", \"involuntary\", \"involuntary\", \"involuntary\", \"ire\", \"ire\", \"ire\", \"ire\", \"irresistible\", \"irresistible\", \"irresistible\", \"irresistible\", \"irresistible\", \"isabella\", \"isabella\", \"isabella\", \"issue\", \"issue\", \"issue\", \"issue\", \"issue\", \"issue\", \"issue\", \"james\", \"james\", \"james\", \"james\", \"jane\", \"jane\", \"jane\", \"jane\", \"jane\", \"jane\", \"jane\", \"jane\", \"jane\", \"jane\", \"jane\", \"jane\", \"jane\", \"janet\", \"janet\", \"je\", \"je\", \"je\", \"jennings\", \"jewels\", \"jewels\", \"jewels\", \"jewels\", \"jewels\", \"jewels\", \"jewels\", \"john\", \"john\", \"john\", \"john\", \"john\", \"john\", \"john\", \"john\", \"john\", \"john\", \"john\", \"john\", \"judgement\", \"judicious\", \"judicious\", \"judicious\", \"judicious\", \"judicious\", \"judicious\", \"judicious\", \"judicious\", \"kent\", \"kill\", \"kill\", \"kill\", \"kill\", \"kill\", \"kind\", \"kind\", \"kind\", \"kind\", \"kind\", \"kind\", \"kind\", \"kind\", \"kind\", \"kind\", \"kind\", \"kind\", \"kinder\", \"kinder\", \"kinder\", \"kinder\", \"kinder\", \"kinder\", \"kinder\", \"kissed\", \"kissed\", \"kissed\", \"kissed\", \"kissed\", \"kissed\", \"kissed\", \"knee\", \"knee\", \"knee\", \"knee\", \"knee\", \"knee\", \"knee\", \"knee\", \"knee\", \"knew\", \"knew\", \"knew\", \"knew\", \"knew\", \"knew\", \"knew\", \"knew\", \"knew\", \"knew\", \"knew\", \"knew\", \"knew\", \"knightley\", \"knightley\", \"knightley\", \"knightley\", \"know\", \"know\", \"know\", \"know\", \"know\", \"know\", \"know\", \"know\", \"know\", \"know\", \"know\", \"know\", \"know\", \"know\", \"lack\", \"lack\", \"lack\", \"lad\", \"lad\", \"lad\", \"lad\", \"lad\", \"ladies\", \"ladies\", \"ladies\", \"ladies\", \"ladies\", \"ladies\", \"ladies\", \"ladies\", \"ladies\", \"ladies\", \"ladies\", \"ladies\", \"lady\", \"lady\", \"lady\", \"lady\", \"lady\", \"lady\", \"lady\", \"lady\", \"lady\", \"lady\", \"lady\", \"lady\", \"lady\", \"lamps\", \"lamps\", \"lamps\", \"lamps\", \"large\", \"large\", \"large\", \"large\", \"large\", \"large\", \"large\", \"large\", \"large\", \"large\", \"large\", \"large\", \"large\", \"large\", \"leah\", \"leah\", \"leave\", \"leave\", \"leave\", \"leave\", \"leave\", \"leave\", \"leave\", \"leave\", \"leave\", \"leave\", \"leave\", \"leave\", \"leave\", \"leave\", \"left\", \"left\", \"left\", \"left\", \"left\", \"left\", \"left\", \"left\", \"left\", \"left\", \"left\", \"left\", \"left\", \"lesson\", \"lesson\", \"lesson\", \"lesson\", \"lesson\", \"lesson\", \"lessons\", \"lessons\", \"lessons\", \"lessons\", \"lessons\", \"letter\", \"letter\", \"letter\", \"letter\", \"letter\", \"letter\", \"letter\", \"letter\", \"letter\", \"letter\", \"letter\", \"life\", \"life\", \"life\", \"life\", \"life\", \"life\", \"life\", \"life\", \"life\", \"life\", \"life\", \"life\", \"life\", \"life\", \"lifted\", \"lifted\", \"lifted\", \"lifted\", \"lifted\", \"lifted\", \"lifted\", \"light\", \"light\", \"light\", \"light\", \"light\", \"light\", \"light\", \"light\", \"light\", \"light\", \"light\", \"like\", \"like\", \"like\", \"like\", \"like\", \"like\", \"like\", \"like\", \"like\", \"like\", \"like\", \"like\", \"like\", \"like\", \"lingering\", \"lingering\", \"lingering\", \"lingering\", \"lingering\", \"lingering\", \"lingering\", \"list\", \"list\", \"list\", \"list\", \"list\", \"list\", \"little\", \"little\", \"little\", \"little\", \"little\", \"little\", \"little\", \"little\", \"little\", \"little\", \"little\", \"little\", \"little\", \"little\", \"lizzy\", \"lizzy\", \"lizzy\", \"ll\", \"ll\", \"ll\", \"ll\", \"ll\", \"ll\", \"ll\", \"ll\", \"lodgings\", \"lodgings\", \"lodgings\", \"lodgings\", \"long\", \"long\", \"long\", \"long\", \"long\", \"long\", \"long\", \"long\", \"long\", \"long\", \"long\", \"long\", \"long\", \"long\", \"longbourn\", \"longbourn\", \"look\", \"look\", \"look\", \"look\", \"look\", \"look\", \"look\", \"look\", \"look\", \"look\", \"look\", \"look\", \"look\", \"look\", \"looked\", \"looked\", \"looked\", \"looked\", \"looked\", \"looked\", \"looked\", \"looked\", \"looked\", \"looked\", \"looked\", \"looked\", \"looked\", \"looked\", \"looking\", \"looking\", \"looking\", \"looking\", \"looking\", \"looking\", \"looking\", \"looking\", \"looking\", \"looking\", \"looking\", \"looking\", \"looking\", \"louisa\", \"louisa\", \"louisa\", \"louisa\", \"love\", \"love\", \"love\", \"love\", \"love\", \"love\", \"love\", \"love\", \"love\", \"love\", \"love\", \"love\", \"love\", \"love\", \"lucas\", \"lucas\", \"lucases\", \"luckily\", \"luckily\", \"luckily\", \"lucy\", \"lucy\", \"lucy\", \"lucy\", \"lucy\", \"lucy\", \"lucy\", \"lucy\", \"lucy\", \"lydia\", \"lydia\", \"lydia\", \"lynn\", \"lynn\", \"lynn\", \"ma\", \"ma\", \"ma\", \"ma\", \"ma\", \"ma\", \"ma\", \"ma\", \"ma\", \"madame\", \"madame\", \"madame\", \"madame\", \"madame\", \"madame\", \"madame\", \"madame\", \"mademoiselle\", \"mademoiselle\", \"mademoiselle\", \"mademoiselle\", \"mademoiselle\", \"mademoiselle\", \"maid\", \"maid\", \"maid\", \"maid\", \"maid\", \"maid\", \"maid\", \"maid\", \"mamma\", \"mamma\", \"mamma\", \"mamma\", \"mamma\", \"mamma\", \"mamma\", \"mamma\", \"man\", \"man\", \"man\", \"man\", \"man\", \"man\", \"man\", \"man\", \"man\", \"man\", \"man\", \"man\", \"man\", \"man\", \"maple\", \"maple\", \"margaret\", \"margaret\", \"maria\", \"maria\", \"marianne\", \"marianne\", \"marianne\", \"marianne\", \"marianne\", \"marry\", \"marry\", \"marry\", \"marry\", \"marry\", \"marry\", \"marry\", \"marry\", \"marry\", \"marry\", \"marry\", \"martin\", \"martin\", \"martin\", \"mary\", \"mary\", \"mary\", \"mary\", \"mary\", \"mary\", \"mary\", \"mary\", \"mask\", \"mask\", \"mask\", \"mask\", \"mason\", \"master\", \"master\", \"master\", \"master\", \"master\", \"master\", \"master\", \"master\", \"master\", \"master\", \"master\", \"master\", \"mdlle\", \"mdlle\", \"mdlle\", \"meaning\", \"meaning\", \"meaning\", \"meaning\", \"meaning\", \"meaning\", \"meaning\", \"meaning\", \"meaning\", \"meaning\", \"mentally\", \"mentally\", \"mentally\", \"mentally\", \"mentally\", \"mentally\", \"metal\", \"metal\", \"metal\", \"middleton\", \"middletons\", \"millcote\", \"millcote\", \"millcote\", \"millcote\", \"mind\", \"mind\", \"mind\", \"mind\", \"mind\", \"mind\", \"mind\", \"mind\", \"mind\", \"mind\", \"mind\", \"mind\", \"mind\", \"mind\", \"miss\", \"miss\", \"miss\", \"miss\", \"miss\", \"miss\", \"miss\", \"miss\", \"miss\", \"miss\", \"miss\", \"miss\", \"miss\", \"miss\", \"missionary\", \"missis\", \"missis\", \"moi\", \"moi\", \"moment\", \"moment\", \"moment\", \"moment\", \"moment\", \"moment\", \"moment\", \"moment\", \"moment\", \"moment\", \"moment\", \"moment\", \"moment\", \"moment\", \"monsieur\", \"monsieur\", \"monsieur\", \"monsieur\", \"monsieur\", \"monsieur\", \"monsieur\", \"mood\", \"mood\", \"mood\", \"mood\", \"mood\", \"moor\", \"moor\", \"moor\", \"moor\", \"moor\", \"moor\", \"mother\", \"mother\", \"mother\", \"mother\", \"mother\", \"mother\", \"mother\", \"mother\", \"mother\", \"mother\", \"mother\", \"mother\", \"motionless\", \"motionless\", \"motionless\", \"motionless\", \"motionless\", \"motionless\", \"mounting\", \"mounting\", \"mounting\", \"nature\", \"nature\", \"nature\", \"nature\", \"nature\", \"nature\", \"nature\", \"nature\", \"nature\", \"nature\", \"nature\", \"nature\", \"nature\", \"nature\", \"ne\", \"ne\", \"near\", \"near\", \"near\", \"near\", \"near\", \"near\", \"near\", \"near\", \"near\", \"near\", \"near\", \"near\", \"needs\", \"needs\", \"needs\", \"needs\", \"needs\", \"needs\", \"negative\", \"negative\", \"negative\", \"negative\", \"negative\", \"nephew\", \"nephew\", \"nephew\", \"nestled\", \"nestled\", \"nestled\", \"nestled\", \"netherfield\", \"netherfield\", \"nicely\", \"nicely\", \"nicely\", \"nicely\", \"nicely\", \"night\", \"night\", \"night\", \"night\", \"night\", \"night\", \"night\", \"night\", \"night\", \"night\", \"night\", \"night\", \"night\", \"night\", \"noise\", \"noise\", \"noise\", \"noise\", \"noise\", \"noise\", \"noise\", \"nonsense\", \"nonsense\", \"nonsense\", \"nonsense\", \"nonsense\", \"nonsense\", \"nonsense\", \"nonsense\", \"nonsense\", \"nonsense\", \"norland\", \"norland\", \"nose\", \"nose\", \"nose\", \"nose\", \"nun\", \"nun\", \"nun\", \"nun\", \"nun\", \"nursery\", \"nursery\", \"nursery\", \"nursery\", \"nursery\", \"nursery\", \"oak\", \"oak\", \"oak\", \"oak\", \"obedience\", \"obedience\", \"obedience\", \"obedience\", \"obedience\", \"obscurity\", \"obscurity\", \"obscurity\", \"obscurity\", \"obscurity\", \"obscurity\", \"observer\", \"observer\", \"observer\", \"observer\", \"observer\", \"obstinate\", \"obstinate\", \"obstinate\", \"obstinate\", \"obstinate\", \"obstinate\", \"occur\", \"occur\", \"occur\", \"occur\", \"occur\", \"occur\", \"occur\", \"offended\", \"offended\", \"offended\", \"offended\", \"offended\", \"offended\", \"oh\", \"oh\", \"oh\", \"oh\", \"oh\", \"oh\", \"oh\", \"oh\", \"oh\", \"oh\", \"oh\", \"oh\", \"oh\", \"oh\", \"old\", \"old\", \"old\", \"old\", \"old\", \"old\", \"old\", \"old\", \"old\", \"old\", \"old\", \"old\", \"old\", \"oliver\", \"oliver\", \"oliver\", \"oliver\", \"oppression\", \"oppression\", \"oppression\", \"orchard\", \"orchard\", \"orchard\", \"orchard\", \"orphan\", \"orphan\", \"orphan\", \"orphan\", \"overlook\", \"overlook\", \"overlook\", \"overlook\", \"overlook\", \"overpowered\", \"overpowered\", \"overpowered\", \"overpowered\", \"overpowered\", \"overpowered\", \"painfully\", \"painfully\", \"painfully\", \"painfully\", \"painfully\", \"painfully\", \"painfully\", \"paletot\", \"palm\", \"palm\", \"palm\", \"palm\", \"palm\", \"palmer\", \"papa\", \"papa\", \"papa\", \"papa\", \"papa\", \"papa\", \"papa\", \"papa\", \"papa\", \"papa\", \"parcel\", \"parcel\", \"park\", \"park\", \"park\", \"park\", \"park\", \"park\", \"park\", \"park\", \"park\", \"party\", \"party\", \"party\", \"party\", \"party\", \"party\", \"party\", \"party\", \"party\", \"party\", \"party\", \"party\", \"pas\", \"pas\", \"pas\", \"pas\", \"patronage\", \"patronage\", \"patronage\", \"patronage\", \"patronage\", \"paul\", \"paul\", \"paul\", \"paul\", \"paul\", \"paulina\", \"paulina\", \"paulina\", \"paulina\", \"pelet\", \"pelet\", \"pelet\", \"pemberley\", \"pemberley\", \"pemberley\", \"penance\", \"penance\", \"penance\", \"penance\", \"pere\", \"pere\", \"pere\", \"pere\", \"perry\", \"perry\", \"perry\", \"pet\", \"pet\", \"pet\", \"pet\", \"pet\", \"picture\", \"picture\", \"picture\", \"picture\", \"picture\", \"picture\", \"picture\", \"picture\", \"picture\", \"picture\", \"picture\", \"picture\", \"place\", \"place\", \"place\", \"place\", \"place\", \"place\", \"place\", \"place\", \"place\", \"place\", \"place\", \"place\", \"plates\", \"plates\", \"plates\", \"plea\", \"plea\", \"plea\", \"plea\", \"plea\", \"plea\", \"plea\", \"plenty\", \"plenty\", \"plenty\", \"plenty\", \"plenty\", \"plenty\", \"plenty\", \"plenty\", \"plus\", \"poison\", \"poison\", \"poison\", \"poison\", \"poison\", \"poison\", \"polly\", \"polly\", \"poole\", \"poole\", \"poor\", \"poor\", \"poor\", \"poor\", \"poor\", \"poor\", \"poor\", \"poor\", \"poor\", \"poor\", \"poor\", \"poor\", \"porter\", \"porter\", \"porter\", \"porter\", \"possessor\", \"possessor\", \"possessor\", \"possessor\", \"possessor\", \"possessor\", \"possessor\", \"pounds\", \"pounds\", \"pounds\", \"pounds\", \"pounds\", \"pounds\", \"pounds\", \"pounds\", \"pounds\", \"practical\", \"practical\", \"practical\", \"practical\", \"practical\", \"practical\", \"prayer\", \"prayer\", \"prayer\", \"prayer\", \"press\", \"press\", \"press\", \"press\", \"press\", \"presumption\", \"presumption\", \"presumption\", \"presumption\", \"pretensions\", \"pretensions\", \"pretensions\", \"pretensions\", \"pretensions\", \"pretensions\", \"pretensions\", \"pretty\", \"pretty\", \"pretty\", \"pretty\", \"pretty\", \"pretty\", \"pretty\", \"pretty\", \"pretty\", \"pretty\", \"pretty\", \"priest\", \"priest\", \"priest\", \"priest\", \"priest\", \"priest\", \"principle\", \"principle\", \"principle\", \"principle\", \"principle\", \"principle\", \"principle\", \"principle\", \"producing\", \"producing\", \"producing\", \"producing\", \"producing\", \"propitious\", \"propitious\", \"propitious\", \"propitious\", \"propitious\", \"proprietor\", \"proprietor\", \"proprietor\", \"proprietor\", \"proprietor\", \"proprietor\", \"proprietor\", \"proprietor\", \"providence\", \"providence\", \"providence\", \"providence\", \"pupil\", \"pupil\", \"pupil\", \"pupil\", \"pupil\", \"pupil\", \"pupil\", \"pupil\", \"pupils\", \"pupils\", \"pupils\", \"pupils\", \"pupils\", \"pupils\", \"purse\", \"purse\", \"purse\", \"purse\", \"purse\", \"purse\", \"push\", \"push\", \"push\", \"push\", \"push\", \"push\", \"qu\", \"qu\", \"que\", \"que\", \"que\", \"que\", \"queen\", \"queen\", \"queen\", \"queen\", \"queen\", \"randalls\", \"randalls\", \"randalls\", \"rational\", \"rational\", \"rational\", \"rational\", \"rational\", \"rational\", \"read\", \"read\", \"read\", \"read\", \"read\", \"read\", \"read\", \"read\", \"read\", \"read\", \"read\", \"read\", \"reckless\", \"reckless\", \"reckless\", \"reckless\", \"reckless\", \"reckoned\", \"reckoned\", \"reckoned\", \"reckoned\", \"reckoned\", \"recognised\", \"recognised\", \"recognised\", \"recognised\", \"recognised\", \"recognised\", \"recognised\", \"recognised\", \"recollect\", \"recollect\", \"recollect\", \"recollect\", \"recollect\", \"recollect\", \"recollect\", \"recollect\", \"recommending\", \"recommending\", \"recommending\", \"recommending\", \"recommending\", \"reconciled\", \"reconciled\", \"reconciled\", \"reconciled\", \"reconciled\", \"reconciled\", \"reconciled\", \"reed\", \"reed\", \"reed\", \"reed\", \"reed\", \"reed\", \"reed\", \"regiment\", \"regiment\", \"regiment\", \"regiment\", \"regrets\", \"regrets\", \"regrets\", \"regrets\", \"regrets\", \"regrets\", \"rejoiced\", \"rejoiced\", \"rejoiced\", \"rejoiced\", \"rejoiced\", \"repaired\", \"repaired\", \"repaired\", \"repaired\", \"repaired\", \"repaired\", \"replied\", \"replied\", \"replied\", \"replied\", \"replied\", \"replied\", \"replied\", \"replied\", \"replied\", \"replied\", \"replied\", \"replied\", \"replied\", \"reproof\", \"reproof\", \"reproof\", \"reproof\", \"reproof\", \"reproof\", \"reproof\", \"respectable\", \"respectable\", \"respectable\", \"respectable\", \"respectable\", \"respectable\", \"respectable\", \"respectable\", \"respectable\", \"respectable\", \"results\", \"results\", \"results\", \"results\", \"reuter\", \"ribbon\", \"ribbon\", \"ribbon\", \"riddle\", \"riddle\", \"riddle\", \"riddle\", \"right\", \"right\", \"right\", \"right\", \"right\", \"right\", \"right\", \"right\", \"right\", \"right\", \"right\", \"right\", \"right\", \"river\", \"river\", \"river\", \"river\", \"river\", \"rivers\", \"rivers\", \"rivers\", \"rivers\", \"rivers\", \"robert\", \"robert\", \"robert\", \"robert\", \"robert\", \"robert\", \"robert\", \"rochester\", \"rochester\", \"rochester\", \"rochester\", \"rochester\", \"rochester\", \"rochester\", \"rode\", \"rode\", \"rode\", \"rode\", \"rode\", \"rode\", \"rome\", \"rome\", \"rome\", \"room\", \"room\", \"room\", \"room\", \"room\", \"room\", \"room\", \"room\", \"room\", \"room\", \"room\", \"room\", \"room\", \"room\", \"rooms\", \"rooms\", \"rooms\", \"rooms\", \"rooms\", \"rooms\", \"rooms\", \"rosings\", \"rosings\", \"rosings\", \"round\", \"round\", \"round\", \"round\", \"round\", \"round\", \"round\", \"round\", \"round\", \"round\", \"round\", \"round\", \"route\", \"route\", \"route\", \"route\", \"route\", \"route\", \"ruddy\", \"ruddy\", \"ruddy\", \"rug\", \"rug\", \"rug\", \"rug\", \"runs\", \"runs\", \"runs\", \"sacrifice\", \"sacrifice\", \"sacrifice\", \"sacrifice\", \"sacrifice\", \"sacrifice\", \"sacrifice\", \"sacrifice\", \"saint\", \"saint\", \"saint\", \"saint\", \"salary\", \"salary\", \"salary\", \"salary\", \"salary\", \"salary\", \"saturday\", \"saturday\", \"saw\", \"saw\", \"saw\", \"saw\", \"saw\", \"saw\", \"saw\", \"saw\", \"saw\", \"saw\", \"saw\", \"saw\", \"saw\", \"saw\", \"school\", \"school\", \"school\", \"school\", \"school\", \"school\", \"school\", \"school\", \"school\", \"school\", \"school\", \"scotch\", \"scotch\", \"scotch\", \"scotch\", \"scotch\", \"seen\", \"seen\", \"seen\", \"seen\", \"seen\", \"seen\", \"seen\", \"seen\", \"seen\", \"seen\", \"seen\", \"seen\", \"seen\", \"shall\", \"shall\", \"shall\", \"shall\", \"shall\", \"shall\", \"shall\", \"shall\", \"shall\", \"shall\", \"shall\", \"shall\", \"shall\", \"shall\", \"shire\", \"shire\", \"shire\", \"shire\", \"shire\", \"sighted\", \"sighted\", \"sighted\", \"silas\", \"silas\", \"silas\", \"silas\", \"silas\", \"simple\", \"simple\", \"simple\", \"simple\", \"simple\", \"simple\", \"simple\", \"simple\", \"simple\", \"sink\", \"sink\", \"sink\", \"sink\", \"sink\", \"sink\", \"sir\", \"sir\", \"sir\", \"sir\", \"sir\", \"sir\", \"sir\", \"sir\", \"sir\", \"sir\", \"sir\", \"sir\", \"sister\", \"sister\", \"sister\", \"sister\", \"sister\", \"sister\", \"sister\", \"sister\", \"sister\", \"sister\", \"sister\", \"situated\", \"situated\", \"situated\", \"situated\", \"situated\", \"situated\", \"situated\", \"situated\", \"sleep\", \"sleep\", \"sleep\", \"sleep\", \"sleep\", \"sleep\", \"sleep\", \"sleep\", \"sleep\", \"sleep\", \"sleep\", \"sleepless\", \"sleepless\", \"sleepless\", \"sleepless\", \"smile\", \"smile\", \"smile\", \"smile\", \"smile\", \"smile\", \"smile\", \"smile\", \"smile\", \"smile\", \"smile\", \"smile\", \"smile\", \"smith\", \"smith\", \"smith\", \"smith\", \"smith\", \"smith\", \"smith\", \"smith\", \"snowe\", \"snowe\", \"snowe\", \"snowe\", \"snowe\", \"snowe\", \"social\", \"social\", \"social\", \"social\", \"social\", \"social\", \"social\", \"social\", \"sold\", \"sold\", \"sold\", \"sold\", \"sold\", \"sold\", \"sold\", \"soon\", \"soon\", \"soon\", \"soon\", \"soon\", \"soon\", \"soon\", \"soon\", \"soon\", \"soon\", \"soon\", \"soon\", \"sophie\", \"sophie\", \"sophie\", \"sophie\", \"sort\", \"sort\", \"sort\", \"sort\", \"sort\", \"sort\", \"sort\", \"sort\", \"sort\", \"sort\", \"sort\", \"sort\", \"sort\", \"souls\", \"souls\", \"souls\", \"souls\", \"souls\", \"souls\", \"sparkle\", \"sparkle\", \"sparkle\", \"speak\", \"speak\", \"speak\", \"speak\", \"speak\", \"speak\", \"speak\", \"speak\", \"speak\", \"speak\", \"speak\", \"speak\", \"speak\", \"speak\", \"spiritual\", \"spiritual\", \"spiritual\", \"spiritual\", \"spread\", \"spread\", \"spread\", \"spread\", \"spread\", \"spread\", \"spread\", \"spread\", \"spread\", \"spread\", \"spread\", \"spread\", \"st\", \"st\", \"st\", \"st\", \"st\", \"st\", \"st\", \"st\", \"st\", \"st\", \"st\", \"st\", \"staircase\", \"staircase\", \"staircase\", \"staircase\", \"staircase\", \"staircase\", \"staircase\", \"staircase\", \"steele\", \"steeles\", \"step\", \"step\", \"step\", \"step\", \"step\", \"step\", \"step\", \"step\", \"step\", \"step\", \"stockings\", \"stockings\", \"stockings\", \"stockings\", \"stockings\", \"stockings\", \"stood\", \"stood\", \"stood\", \"stood\", \"stood\", \"stood\", \"stood\", \"stood\", \"stood\", \"stood\", \"stood\", \"stood\", \"stood\", \"stood\", \"stool\", \"stool\", \"stool\", \"stool\", \"storey\", \"storey\", \"strange\", \"strange\", \"strange\", \"strange\", \"strange\", \"strange\", \"strange\", \"strange\", \"strange\", \"strange\", \"strange\", \"strange\", \"strange\", \"stream\", \"stream\", \"stream\", \"stream\", \"stream\", \"street\", \"street\", \"street\", \"street\", \"street\", \"street\", \"street\", \"street\", \"street\", \"street\", \"strength\", \"strength\", \"strength\", \"strength\", \"strength\", \"strength\", \"strength\", \"strength\", \"strength\", \"strength\", \"strength\", \"stubborn\", \"stubborn\", \"stubborn\", \"stubborn\", \"stubborn\", \"submission\", \"submission\", \"submission\", \"submission\", \"submission\", \"submission\", \"sugar\", \"sugar\", \"sugar\", \"suitable\", \"suitable\", \"suitable\", \"suitable\", \"suitable\", \"suitable\", \"suits\", \"suits\", \"suits\", \"suits\", \"suits\", \"suits\", \"suits\", \"suits\", \"sunrise\", \"sunrise\", \"sunrise\", \"sunrise\", \"sunrise\", \"superintendent\", \"superior\", \"superior\", \"superior\", \"superior\", \"superior\", \"superior\", \"superior\", \"superior\", \"superior\", \"superior\", \"suppose\", \"suppose\", \"suppose\", \"suppose\", \"suppose\", \"suppose\", \"suppose\", \"suppose\", \"suppose\", \"suppose\", \"suppose\", \"suppose\", \"suppose\", \"suppose\", \"sure\", \"sure\", \"sure\", \"sure\", \"sure\", \"sure\", \"sure\", \"sure\", \"sure\", \"sure\", \"sure\", \"sure\", \"sure\", \"sure\", \"surgeon\", \"surgeon\", \"surgeon\", \"surprized\", \"surprized\", \"surprized\", \"surveillance\", \"surveillance\", \"sweeping\", \"sweeping\", \"sweeping\", \"sweeping\", \"sweet\", \"sweet\", \"sweet\", \"sweet\", \"sweet\", \"sweet\", \"sweet\", \"sweet\", \"sweet\", \"sweet\", \"sweet\", \"sweet\", \"talent\", \"talent\", \"talent\", \"talent\", \"talent\", \"talent\", \"talent\", \"talent\", \"taylor\", \"taylor\", \"taylor\", \"tea\", \"tea\", \"tea\", \"tea\", \"tea\", \"tea\", \"tea\", \"tea\", \"tea\", \"tea\", \"teachers\", \"teachers\", \"teachers\", \"teachers\", \"teachers\", \"teachers\", \"teachers\", \"tease\", \"tease\", \"tease\", \"tease\", \"tease\", \"tease\", \"tell\", \"tell\", \"tell\", \"tell\", \"tell\", \"tell\", \"tell\", \"tell\", \"tell\", \"tell\", \"tell\", \"tell\", \"tell\", \"tell\", \"temple\", \"temple\", \"temple\", \"temple\", \"temple\", \"temples\", \"temples\", \"terrasse\", \"terrasse\", \"terrasse\", \"terrasse\", \"terrasse\", \"thing\", \"thing\", \"thing\", \"thing\", \"thing\", \"thing\", \"thing\", \"thing\", \"thing\", \"thing\", \"thing\", \"thing\", \"thing\", \"thing\", \"think\", \"think\", \"think\", \"think\", \"think\", \"think\", \"think\", \"think\", \"think\", \"think\", \"think\", \"think\", \"think\", \"think\", \"thirst\", \"thirst\", \"thirst\", \"thornfield\", \"thornfield\", \"thornfield\", \"thornfield\", \"thornfield\", \"thought\", \"thought\", \"thought\", \"thought\", \"thought\", \"thought\", \"thought\", \"thought\", \"thought\", \"thought\", \"thought\", \"thought\", \"thought\", \"thought\", \"thousand\", \"thousand\", \"thousand\", \"thousand\", \"thousand\", \"thousand\", \"thousand\", \"thousand\", \"thousand\", \"thousand\", \"throng\", \"throng\", \"throng\", \"throng\", \"tie\", \"tie\", \"tie\", \"tie\", \"time\", \"time\", \"time\", \"time\", \"time\", \"time\", \"time\", \"time\", \"time\", \"time\", \"time\", \"time\", \"time\", \"time\", \"toil\", \"toil\", \"toil\", \"toilette\", \"toilette\", \"toilette\", \"toilette\", \"toilette\", \"tomorrow\", \"tomorrow\", \"took\", \"took\", \"took\", \"took\", \"took\", \"took\", \"took\", \"took\", \"took\", \"took\", \"took\", \"took\", \"took\", \"torture\", \"torture\", \"torture\", \"torture\", \"torture\", \"torture\", \"tout\", \"town\", \"town\", \"town\", \"town\", \"town\", \"town\", \"town\", \"town\", \"town\", \"town\", \"town\", \"trade\", \"trade\", \"trade\", \"trade\", \"trade\", \"trade\", \"trade\", \"tradesman\", \"tradesman\", \"tradesman\", \"tradesman\", \"tradesman\", \"trained\", \"traveller\", \"traveller\", \"tray\", \"tray\", \"tray\", \"tray\", \"tray\", \"tray\", \"tread\", \"tread\", \"tread\", \"tread\", \"treating\", \"treating\", \"treating\", \"treating\", \"troubles\", \"troubles\", \"troubles\", \"troubles\", \"troubles\", \"troubles\", \"tyrant\", \"tyrant\", \"tyrant\", \"tyrant\", \"uncle\", \"uncle\", \"uncle\", \"uncle\", \"uncle\", \"uncle\", \"uncle\", \"uncle\", \"uncle\", \"uncle\", \"uncles\", \"uncles\", \"uncles\", \"uncles\", \"uncles\", \"une\", \"une\", \"ungracious\", \"ungracious\", \"unspeakable\", \"unspeakable\", \"unspeakable\", \"unspeakable\", \"vale\", \"vale\", \"vale\", \"valley\", \"valley\", \"valley\", \"valley\", \"valley\", \"ve\", \"ve\", \"ve\", \"ve\", \"ve\", \"ve\", \"ve\", \"veil\", \"veil\", \"veil\", \"veil\", \"veil\", \"vicarage\", \"vicarage\", \"vicarage\", \"victor\", \"victor\", \"victor\", \"victor\", \"vigorous\", \"vigorous\", \"vigorous\", \"vigorous\", \"vigorous\", \"ville\", \"ville\", \"ville\", \"ville\", \"villette\", \"villette\", \"villette\", \"villette\", \"voila\", \"vous\", \"vous\", \"vous\", \"vous\", \"wages\", \"wages\", \"wages\", \"wages\", \"wakened\", \"wakened\", \"way\", \"way\", \"way\", \"way\", \"way\", \"way\", \"way\", \"way\", \"way\", \"way\", \"way\", \"way\", \"way\", \"wear\", \"wear\", \"wear\", \"wear\", \"wear\", \"wear\", \"wear\", \"went\", \"went\", \"went\", \"went\", \"went\", \"went\", \"went\", \"went\", \"went\", \"went\", \"went\", \"went\", \"went\", \"went\", \"west\", \"west\", \"west\", \"west\", \"weston\", \"weston\", \"weston\", \"weston\", \"weymouth\", \"white\", \"white\", \"white\", \"white\", \"white\", \"white\", \"white\", \"white\", \"white\", \"white\", \"white\", \"white\", \"white\", \"wicket\", \"wicket\", \"wicket\", \"wickham\", \"wickham\", \"wickham\", \"wickham\", \"wife\", \"wife\", \"wife\", \"wife\", \"wife\", \"wife\", \"wife\", \"wife\", \"wife\", \"wife\", \"wife\", \"wife\", \"wife\", \"william\", \"william\", \"william\", \"william\", \"william\", \"william\", \"william\", \"willoughby\", \"willoughby\", \"wiser\", \"wiser\", \"wiser\", \"wiser\", \"wiser\", \"wiser\", \"wish\", \"wish\", \"wish\", \"wish\", \"wish\", \"wish\", \"wish\", \"wish\", \"wish\", \"wish\", \"wish\", \"wish\", \"wish\", \"wish\", \"wit\", \"wit\", \"wit\", \"wit\", \"wit\", \"wit\", \"wit\", \"woman\", \"woman\", \"woman\", \"woman\", \"woman\", \"woman\", \"woman\", \"woman\", \"woman\", \"woman\", \"woman\", \"woman\", \"woman\", \"woman\", \"wood\", \"wood\", \"wood\", \"wood\", \"wood\", \"wood\", \"wood\", \"woodhouse\", \"woodhouse\", \"woodhouse\", \"woods\", \"woods\", \"woods\", \"woods\", \"woods\", \"woods\", \"woods\", \"word\", \"word\", \"word\", \"word\", \"word\", \"word\", \"word\", \"word\", \"word\", \"word\", \"word\", \"word\", \"word\", \"word\", \"words\", \"words\", \"words\", \"words\", \"words\", \"words\", \"words\", \"words\", \"words\", \"words\", \"words\", \"words\", \"works\", \"works\", \"works\", \"works\", \"works\", \"worthless\", \"worthless\", \"worthless\", \"worthless\", \"worthless\", \"ye\", \"ye\", \"ye\", \"ye\", \"ye\", \"years\", \"years\", \"years\", \"years\", \"years\", \"years\", \"years\", \"years\", \"years\", \"years\", \"years\", \"years\", \"years\", \"yes\", \"yes\", \"yes\", \"yes\", \"yes\", \"yes\", \"yes\", \"yes\", \"yes\", \"yes\", \"yes\", \"yes\", \"yes\", \"yes\", \"young\", \"young\", \"young\", \"young\", \"young\", \"young\", \"young\", \"young\", \"young\", \"young\", \"young\", \"young\", \"young\", \"zelie\", \"zoraide\", \"zoraide\"]}, \"R\": 30, \"lambda.step\": 0.01, \"plot.opts\": {\"xlab\": \"PC1\", \"ylab\": \"PC2\"}, \"topic.order\": [14, 5, 15, 13, 11, 10, 8, 6, 4, 9, 12, 3, 2, 7, 1]};\n",
       "\n",
       "function LDAvis_load_lib(url, callback){\n",
       "  var s = document.createElement('script');\n",
       "  s.src = url;\n",
       "  s.async = true;\n",
       "  s.onreadystatechange = s.onload = callback;\n",
       "  s.onerror = function(){console.warn(\"failed to load library \" + url);};\n",
       "  document.getElementsByTagName(\"head\")[0].appendChild(s);\n",
       "}\n",
       "\n",
       "if(typeof(LDAvis) !== \"undefined\"){\n",
       "   // already loaded: just create the visualization\n",
       "   !function(LDAvis){\n",
       "       new LDAvis(\"#\" + \"ldavis_el18996823984675999604758501887\", ldavis_el18996823984675999604758501887_data);\n",
       "   }(LDAvis);\n",
       "}else if(typeof define === \"function\" && define.amd){\n",
       "   // require.js is available: use it to load d3/LDAvis\n",
       "   require.config({paths: {d3: \"https://cdnjs.cloudflare.com/ajax/libs/d3/3.5.5/d3.min\"}});\n",
       "   require([\"d3\"], function(d3){\n",
       "      window.d3 = d3;\n",
       "      LDAvis_load_lib(\"https://cdn.rawgit.com/bmabey/pyLDAvis/files/ldavis.v1.0.0.js\", function(){\n",
       "        new LDAvis(\"#\" + \"ldavis_el18996823984675999604758501887\", ldavis_el18996823984675999604758501887_data);\n",
       "      });\n",
       "    });\n",
       "}else{\n",
       "    // require.js not available: dynamically load d3 & LDAvis\n",
       "    LDAvis_load_lib(\"https://cdnjs.cloudflare.com/ajax/libs/d3/3.5.5/d3.min.js\", function(){\n",
       "         LDAvis_load_lib(\"https://cdn.rawgit.com/bmabey/pyLDAvis/files/ldavis.v1.0.0.js\", function(){\n",
       "                 new LDAvis(\"#\" + \"ldavis_el18996823984675999604758501887\", ldavis_el18996823984675999604758501887_data);\n",
       "            })\n",
       "         });\n",
       "}\n",
       "</script>"
      ],
      "text/plain": [
       "PreparedData(topic_coordinates=              x         y  topics  cluster       Freq\n",
       "topic                                                \n",
       "13     0.065068 -0.003686       1        1  26.750071\n",
       "4     -0.115129 -0.018439       2        1  19.157492\n",
       "14    -0.094369 -0.017454       3        1  15.910703\n",
       "12     0.057649  0.020742       4        1  11.194953\n",
       "10    -0.140249  0.014892       5        1   7.949476\n",
       "9      0.042130  0.043364       6        1   5.935665\n",
       "7     -0.136534  0.040975       7        1   2.939711\n",
       "5      0.091524  0.028861       8        1   2.861300\n",
       "3      0.016180  0.046219       9        1   2.154449\n",
       "8      0.154474 -0.013206      10        1   1.978109\n",
       "11     0.025787  0.047692      11        1   1.441774\n",
       "2      0.055975  0.052444      12        1   0.861072\n",
       "1     -0.057584  0.004954      13        1   0.523402\n",
       "6      0.015353 -0.178442      14        1   0.323256\n",
       "0      0.019727 -0.068915      15        1   0.018569, topic_info=     Category         Freq       Term        Total  loglift  logprob\n",
       "1205  Default   637.000000  elizabeth   637.000000  30.0000  30.0000\n",
       "171   Default  1537.000000       miss  1537.000000  29.0000  29.0000\n",
       "81    Default   863.000000       emma   863.000000  28.0000  28.0000\n",
       "921   Default   522.000000    harriet   522.000000  27.0000  27.0000\n",
       "149   Default  1735.000000     little  1735.000000  26.0000  26.0000\n",
       "...       ...          ...        ...          ...      ...      ...\n",
       "303   Topic15     0.031634     better   617.815247  -1.2883  -7.4439\n",
       "382   Topic15     0.031852       look   641.997681  -1.3198  -7.4371\n",
       "1292  Topic15     0.030962       hand   622.213928  -1.3168  -7.4654\n",
       "139   Topic15     0.033477       jane   946.053162  -1.6577  -7.3873\n",
       "375   Topic15     0.032360       know  1430.386963  -2.1051  -7.4212\n",
       "\n",
       "[1049 rows x 6 columns], token_table=      Topic      Freq     Term\n",
       "term                          \n",
       "731       2  0.313696    abbey\n",
       "731       5  0.407804    abbey\n",
       "731       7  0.250957    abbey\n",
       "3789      1  0.316753    abuse\n",
       "3789      2  0.063351    abuse\n",
       "...     ...       ...      ...\n",
       "573      12  0.002998    young\n",
       "573      13  0.002998    young\n",
       "4921      1  0.901972    zelie\n",
       "4875      1  0.775986  zoraide\n",
       "4875     11  0.176360  zoraide\n",
       "\n",
       "[4334 rows x 3 columns], R=30, lambda_step=0.01, plot_opts={'xlab': 'PC1', 'ylab': 'PC2'}, topic_order=[14, 5, 15, 13, 11, 10, 8, 6, 4, 9, 12, 3, 2, 7, 1])"
      ]
     },
     "execution_count": 63,
     "metadata": {},
     "output_type": "execute_result"
    }
   ],
   "source": [
    "pyLDAvis.gensim.prepare(lda, corpus, id2word)"
   ]
  },
  {
   "cell_type": "markdown",
   "metadata": {},
   "source": [
    "### Overall Model / Documents"
   ]
  },
  {
   "cell_type": "code",
   "execution_count": 64,
   "metadata": {},
   "outputs": [
    {
     "data": {
      "text/plain": [
       "[(10, 0.9977227)]"
      ]
     },
     "execution_count": 64,
     "metadata": {},
     "output_type": "execute_result"
    }
   ],
   "source": [
    "lda[corpus[0]]"
   ]
  },
  {
   "cell_type": "code",
   "execution_count": 65,
   "metadata": {},
   "outputs": [],
   "source": [
    "distro = [lda[d] for d in corpus]"
   ]
  },
  {
   "cell_type": "code",
   "execution_count": 66,
   "metadata": {},
   "outputs": [
    {
     "data": {
      "text/plain": [
       "[(10, 0.9977227)]"
      ]
     },
     "execution_count": 66,
     "metadata": {},
     "output_type": "execute_result"
    }
   ],
   "source": [
    "distro[0]"
   ]
  },
  {
   "cell_type": "code",
   "execution_count": 67,
   "metadata": {},
   "outputs": [],
   "source": [
    "distro = [lda[d] for d in corpus]\n",
    "\n",
    "def update(doc):\n",
    "        d_dist = {k:0 for k in range(0,15)}\n",
    "        for t in doc:\n",
    "            d_dist[t[0]] = t[1]\n",
    "        return d_dist\n",
    "    \n",
    "new_distro = [update(d) for d in distro]"
   ]
  },
  {
   "cell_type": "code",
   "execution_count": 68,
   "metadata": {},
   "outputs": [],
   "source": [
    "df = pd.DataFrame.from_records(new_distro, index=titles)\n",
    "df.columns = topics\n",
    "df['author'] = df.reset_index()['index'].apply(lambda x: x.split('_')[0]).tolist()"
   ]
  },
  {
   "cell_type": "code",
   "execution_count": 69,
   "metadata": {},
   "outputs": [
    {
     "data": {
      "text/html": [
       "<div>\n",
       "<style scoped>\n",
       "    .dataframe tbody tr th:only-of-type {\n",
       "        vertical-align: middle;\n",
       "    }\n",
       "\n",
       "    .dataframe tbody tr th {\n",
       "        vertical-align: top;\n",
       "    }\n",
       "\n",
       "    .dataframe thead th {\n",
       "        text-align: right;\n",
       "    }\n",
       "</style>\n",
       "<table border=\"1\" class=\"dataframe\">\n",
       "  <thead>\n",
       "    <tr style=\"text-align: right;\">\n",
       "      <th></th>\n",
       "      <th>little miss day time good</th>\n",
       "      <th>elton good know man john</th>\n",
       "      <th>thought good like sir god</th>\n",
       "      <th>know think good lucy little</th>\n",
       "      <th>miss elizabeth jane know darcy</th>\n",
       "      <th>little bessie miss room like</th>\n",
       "      <th>miss elizabeth temple gardiner master</th>\n",
       "      <th>harriet emma miss elton think</th>\n",
       "      <th>rochester ingram door like heard</th>\n",
       "      <th>bretton dr little graham like</th>\n",
       "      <th>emma knightley good little harriet</th>\n",
       "      <th>hunsden crimsworth man frances good</th>\n",
       "      <th>jane rochester sir like shall</th>\n",
       "      <th>little like thought day madame</th>\n",
       "      <th>elinor marianne sister mother know</th>\n",
       "      <th>author</th>\n",
       "    </tr>\n",
       "  </thead>\n",
       "  <tbody>\n",
       "    <tr>\n",
       "      <td>Austen_Emma0000</td>\n",
       "      <td>0</td>\n",
       "      <td>0.0</td>\n",
       "      <td>0.0</td>\n",
       "      <td>0.0</td>\n",
       "      <td>0.000000</td>\n",
       "      <td>0.0</td>\n",
       "      <td>0.0</td>\n",
       "      <td>0.0</td>\n",
       "      <td>0.0</td>\n",
       "      <td>0.0</td>\n",
       "      <td>0.997723</td>\n",
       "      <td>0.0</td>\n",
       "      <td>0.0</td>\n",
       "      <td>0.0</td>\n",
       "      <td>0.0</td>\n",
       "      <td>Austen</td>\n",
       "    </tr>\n",
       "    <tr>\n",
       "      <td>Austen_Emma0001</td>\n",
       "      <td>0</td>\n",
       "      <td>0.0</td>\n",
       "      <td>0.0</td>\n",
       "      <td>0.0</td>\n",
       "      <td>0.337410</td>\n",
       "      <td>0.0</td>\n",
       "      <td>0.0</td>\n",
       "      <td>0.0</td>\n",
       "      <td>0.0</td>\n",
       "      <td>0.0</td>\n",
       "      <td>0.660091</td>\n",
       "      <td>0.0</td>\n",
       "      <td>0.0</td>\n",
       "      <td>0.0</td>\n",
       "      <td>0.0</td>\n",
       "      <td>Austen</td>\n",
       "    </tr>\n",
       "    <tr>\n",
       "      <td>Austen_Emma0002</td>\n",
       "      <td>0</td>\n",
       "      <td>0.0</td>\n",
       "      <td>0.0</td>\n",
       "      <td>0.0</td>\n",
       "      <td>0.353536</td>\n",
       "      <td>0.0</td>\n",
       "      <td>0.0</td>\n",
       "      <td>0.0</td>\n",
       "      <td>0.0</td>\n",
       "      <td>0.0</td>\n",
       "      <td>0.644127</td>\n",
       "      <td>0.0</td>\n",
       "      <td>0.0</td>\n",
       "      <td>0.0</td>\n",
       "      <td>0.0</td>\n",
       "      <td>Austen</td>\n",
       "    </tr>\n",
       "    <tr>\n",
       "      <td>Austen_Emma0003</td>\n",
       "      <td>0</td>\n",
       "      <td>0.0</td>\n",
       "      <td>0.0</td>\n",
       "      <td>0.0</td>\n",
       "      <td>0.000000</td>\n",
       "      <td>0.0</td>\n",
       "      <td>0.0</td>\n",
       "      <td>0.0</td>\n",
       "      <td>0.0</td>\n",
       "      <td>0.0</td>\n",
       "      <td>0.997536</td>\n",
       "      <td>0.0</td>\n",
       "      <td>0.0</td>\n",
       "      <td>0.0</td>\n",
       "      <td>0.0</td>\n",
       "      <td>Austen</td>\n",
       "    </tr>\n",
       "    <tr>\n",
       "      <td>Austen_Emma0004</td>\n",
       "      <td>0</td>\n",
       "      <td>0.0</td>\n",
       "      <td>0.0</td>\n",
       "      <td>0.0</td>\n",
       "      <td>0.255173</td>\n",
       "      <td>0.0</td>\n",
       "      <td>0.0</td>\n",
       "      <td>0.0</td>\n",
       "      <td>0.0</td>\n",
       "      <td>0.0</td>\n",
       "      <td>0.742707</td>\n",
       "      <td>0.0</td>\n",
       "      <td>0.0</td>\n",
       "      <td>0.0</td>\n",
       "      <td>0.0</td>\n",
       "      <td>Austen</td>\n",
       "    </tr>\n",
       "  </tbody>\n",
       "</table>\n",
       "</div>"
      ],
      "text/plain": [
       "                 little miss day time good  elton good know man john  \\\n",
       "Austen_Emma0000                          0                       0.0   \n",
       "Austen_Emma0001                          0                       0.0   \n",
       "Austen_Emma0002                          0                       0.0   \n",
       "Austen_Emma0003                          0                       0.0   \n",
       "Austen_Emma0004                          0                       0.0   \n",
       "\n",
       "                 thought good like sir god  know think good lucy little  \\\n",
       "Austen_Emma0000                        0.0                          0.0   \n",
       "Austen_Emma0001                        0.0                          0.0   \n",
       "Austen_Emma0002                        0.0                          0.0   \n",
       "Austen_Emma0003                        0.0                          0.0   \n",
       "Austen_Emma0004                        0.0                          0.0   \n",
       "\n",
       "                 miss elizabeth jane know darcy  little bessie miss room like  \\\n",
       "Austen_Emma0000                        0.000000                           0.0   \n",
       "Austen_Emma0001                        0.337410                           0.0   \n",
       "Austen_Emma0002                        0.353536                           0.0   \n",
       "Austen_Emma0003                        0.000000                           0.0   \n",
       "Austen_Emma0004                        0.255173                           0.0   \n",
       "\n",
       "                 miss elizabeth temple gardiner master  \\\n",
       "Austen_Emma0000                                    0.0   \n",
       "Austen_Emma0001                                    0.0   \n",
       "Austen_Emma0002                                    0.0   \n",
       "Austen_Emma0003                                    0.0   \n",
       "Austen_Emma0004                                    0.0   \n",
       "\n",
       "                 harriet emma miss elton think  \\\n",
       "Austen_Emma0000                            0.0   \n",
       "Austen_Emma0001                            0.0   \n",
       "Austen_Emma0002                            0.0   \n",
       "Austen_Emma0003                            0.0   \n",
       "Austen_Emma0004                            0.0   \n",
       "\n",
       "                 rochester ingram door like heard  \\\n",
       "Austen_Emma0000                               0.0   \n",
       "Austen_Emma0001                               0.0   \n",
       "Austen_Emma0002                               0.0   \n",
       "Austen_Emma0003                               0.0   \n",
       "Austen_Emma0004                               0.0   \n",
       "\n",
       "                 bretton dr little graham like  \\\n",
       "Austen_Emma0000                            0.0   \n",
       "Austen_Emma0001                            0.0   \n",
       "Austen_Emma0002                            0.0   \n",
       "Austen_Emma0003                            0.0   \n",
       "Austen_Emma0004                            0.0   \n",
       "\n",
       "                 emma knightley good little harriet  \\\n",
       "Austen_Emma0000                            0.997723   \n",
       "Austen_Emma0001                            0.660091   \n",
       "Austen_Emma0002                            0.644127   \n",
       "Austen_Emma0003                            0.997536   \n",
       "Austen_Emma0004                            0.742707   \n",
       "\n",
       "                 hunsden crimsworth man frances good  \\\n",
       "Austen_Emma0000                                  0.0   \n",
       "Austen_Emma0001                                  0.0   \n",
       "Austen_Emma0002                                  0.0   \n",
       "Austen_Emma0003                                  0.0   \n",
       "Austen_Emma0004                                  0.0   \n",
       "\n",
       "                 jane rochester sir like shall  \\\n",
       "Austen_Emma0000                            0.0   \n",
       "Austen_Emma0001                            0.0   \n",
       "Austen_Emma0002                            0.0   \n",
       "Austen_Emma0003                            0.0   \n",
       "Austen_Emma0004                            0.0   \n",
       "\n",
       "                 little like thought day madame  \\\n",
       "Austen_Emma0000                             0.0   \n",
       "Austen_Emma0001                             0.0   \n",
       "Austen_Emma0002                             0.0   \n",
       "Austen_Emma0003                             0.0   \n",
       "Austen_Emma0004                             0.0   \n",
       "\n",
       "                 elinor marianne sister mother know  author  \n",
       "Austen_Emma0000                                 0.0  Austen  \n",
       "Austen_Emma0001                                 0.0  Austen  \n",
       "Austen_Emma0002                                 0.0  Austen  \n",
       "Austen_Emma0003                                 0.0  Austen  \n",
       "Austen_Emma0004                                 0.0  Austen  "
      ]
     },
     "execution_count": 69,
     "metadata": {},
     "output_type": "execute_result"
    }
   ],
   "source": [
    "df.head()"
   ]
  },
  {
   "cell_type": "code",
   "execution_count": 70,
   "metadata": {},
   "outputs": [
    {
     "data": {
      "text/html": [
       "<div>\n",
       "<style scoped>\n",
       "    .dataframe tbody tr th:only-of-type {\n",
       "        vertical-align: middle;\n",
       "    }\n",
       "\n",
       "    .dataframe tbody tr th {\n",
       "        vertical-align: top;\n",
       "    }\n",
       "\n",
       "    .dataframe thead th {\n",
       "        text-align: right;\n",
       "    }\n",
       "</style>\n",
       "<table border=\"1\" class=\"dataframe\">\n",
       "  <thead>\n",
       "    <tr style=\"text-align: right;\">\n",
       "      <th></th>\n",
       "      <th>little miss day time good</th>\n",
       "      <th>elton good know man john</th>\n",
       "      <th>thought good like sir god</th>\n",
       "      <th>know think good lucy little</th>\n",
       "      <th>miss elizabeth jane know darcy</th>\n",
       "      <th>little bessie miss room like</th>\n",
       "      <th>miss elizabeth temple gardiner master</th>\n",
       "      <th>harriet emma miss elton think</th>\n",
       "      <th>rochester ingram door like heard</th>\n",
       "      <th>bretton dr little graham like</th>\n",
       "      <th>emma knightley good little harriet</th>\n",
       "      <th>hunsden crimsworth man frances good</th>\n",
       "      <th>jane rochester sir like shall</th>\n",
       "      <th>little like thought day madame</th>\n",
       "      <th>elinor marianne sister mother know</th>\n",
       "    </tr>\n",
       "    <tr>\n",
       "      <th>author</th>\n",
       "      <th></th>\n",
       "      <th></th>\n",
       "      <th></th>\n",
       "      <th></th>\n",
       "      <th></th>\n",
       "      <th></th>\n",
       "      <th></th>\n",
       "      <th></th>\n",
       "      <th></th>\n",
       "      <th></th>\n",
       "      <th></th>\n",
       "      <th></th>\n",
       "      <th></th>\n",
       "      <th></th>\n",
       "      <th></th>\n",
       "    </tr>\n",
       "  </thead>\n",
       "  <tbody>\n",
       "    <tr>\n",
       "      <td>Austen</td>\n",
       "      <td>0</td>\n",
       "      <td>0.00463</td>\n",
       "      <td>0.00000</td>\n",
       "      <td>0.000622</td>\n",
       "      <td>0.416469</td>\n",
       "      <td>0.001104</td>\n",
       "      <td>0.004039</td>\n",
       "      <td>0.061586</td>\n",
       "      <td>0.00043</td>\n",
       "      <td>0.000906</td>\n",
       "      <td>0.159500</td>\n",
       "      <td>0.001040</td>\n",
       "      <td>0.002681</td>\n",
       "      <td>0.010481</td>\n",
       "      <td>0.333660</td>\n",
       "    </tr>\n",
       "    <tr>\n",
       "      <td>CBronte</td>\n",
       "      <td>0</td>\n",
       "      <td>0.00612</td>\n",
       "      <td>0.01606</td>\n",
       "      <td>0.039663</td>\n",
       "      <td>0.008028</td>\n",
       "      <td>0.050730</td>\n",
       "      <td>0.002431</td>\n",
       "      <td>0.001123</td>\n",
       "      <td>0.03544</td>\n",
       "      <td>0.104024</td>\n",
       "      <td>0.009891</td>\n",
       "      <td>0.026063</td>\n",
       "      <td>0.217698</td>\n",
       "      <td>0.470494</td>\n",
       "      <td>0.009562</td>\n",
       "    </tr>\n",
       "  </tbody>\n",
       "</table>\n",
       "</div>"
      ],
      "text/plain": [
       "         little miss day time good  elton good know man john  \\\n",
       "author                                                         \n",
       "Austen                           0                   0.00463   \n",
       "CBronte                          0                   0.00612   \n",
       "\n",
       "         thought good like sir god  know think good lucy little  \\\n",
       "author                                                            \n",
       "Austen                     0.00000                     0.000622   \n",
       "CBronte                    0.01606                     0.039663   \n",
       "\n",
       "         miss elizabeth jane know darcy  little bessie miss room like  \\\n",
       "author                                                                  \n",
       "Austen                         0.416469                      0.001104   \n",
       "CBronte                        0.008028                      0.050730   \n",
       "\n",
       "         miss elizabeth temple gardiner master  harriet emma miss elton think  \\\n",
       "author                                                                          \n",
       "Austen                                0.004039                       0.061586   \n",
       "CBronte                               0.002431                       0.001123   \n",
       "\n",
       "         rochester ingram door like heard  bretton dr little graham like  \\\n",
       "author                                                                     \n",
       "Austen                            0.00043                       0.000906   \n",
       "CBronte                           0.03544                       0.104024   \n",
       "\n",
       "         emma knightley good little harriet  \\\n",
       "author                                        \n",
       "Austen                             0.159500   \n",
       "CBronte                            0.009891   \n",
       "\n",
       "         hunsden crimsworth man frances good  jane rochester sir like shall  \\\n",
       "author                                                                        \n",
       "Austen                              0.001040                       0.002681   \n",
       "CBronte                             0.026063                       0.217698   \n",
       "\n",
       "         little like thought day madame  elinor marianne sister mother know  \n",
       "author                                                                       \n",
       "Austen                         0.010481                            0.333660  \n",
       "CBronte                        0.470494                            0.009562  "
      ]
     },
     "execution_count": 70,
     "metadata": {},
     "output_type": "execute_result"
    }
   ],
   "source": [
    "df.groupby('author').mean()"
   ]
  },
  {
   "cell_type": "markdown",
   "metadata": {},
   "source": [
    "## Challenge\n",
    "### *Can we see if one of the authors focus more on men than women?*\n",
    "\n",
    "*  Use Spacy for text prepocessing\n",
    "*  Extract the Named Entities from the documents using Spacy (command is fairly straight forward)\n",
    "*  Create unique list of names from the authors (you'll find that there are different types of named entities not all people)\n",
    "*  Label the names with genders (can you this by hand or you use the US census name lists)\n",
    "*  Customize your processing to replace the proper name with your gender from the previous step's lookup table\n",
    "*  Then follow the rest of the LDA flow\n"
   ]
  },
  {
   "cell_type": "markdown",
   "metadata": {},
   "source": [
    "# Selecting the Number of Topics (Learn)\n",
    "<a id=\"#p4\"></a>"
   ]
  },
  {
   "cell_type": "markdown",
   "metadata": {},
   "source": [
    "## Overview"
   ]
  },
  {
   "cell_type": "markdown",
   "metadata": {},
   "source": [
    "## Follow Along"
   ]
  },
  {
   "cell_type": "code",
   "execution_count": 71,
   "metadata": {},
   "outputs": [],
   "source": [
    "from gensim.models.coherencemodel import CoherenceModel\n",
    "\n",
    "def compute_coherence_values(dictionary, corpus, path, limit, start=2, step=3, passes=5):\n",
    "    \"\"\"\n",
    "    Compute c_v coherence for various number of topics\n",
    "\n",
    "    Parameters:\n",
    "    ----------\n",
    "    dictionary : Gensim dictionary\n",
    "    corpus : Gensim corpus\n",
    "    path : path to input texts\n",
    "    limit : Max num of topics\n",
    "    passes: the number of times the entire lda model & coherence values are calculated\n",
    "\n",
    "    Returns:\n",
    "    -------\n",
    "    coherence_values : Coherence values corresponding to the LDA model with respective number of topics\n",
    "    \"\"\"\n",
    "    \n",
    "    coherence_values = []\n",
    "    \n",
    "    tokens = list(doc_stream(path))\n",
    "    \n",
    "    for iter_ in range(passes):\n",
    "        for num_topics in range(start, limit, step):\n",
    "            stream = doc_stream(path)\n",
    "            model = LdaMulticore(corpus=corpus, num_topics=num_topics, id2word=dictionary, workers=4)\n",
    "            coherencemodel = CoherenceModel(model=model,dictionary=dictionary,corpus=corpus, coherence='u_mass')\n",
    "            coherence_values.append({'pass': iter_, \n",
    "                                     'num_topics': num_topics, \n",
    "                                     'coherence_score': coherencemodel.get_coherence()\n",
    "                                    })\n",
    "\n",
    "    return coherence_values"
   ]
  },
  {
   "cell_type": "code",
   "execution_count": 72,
   "metadata": {},
   "outputs": [],
   "source": [
    "# Can take a long time to run.\n",
    "coherence_values = compute_coherence_values(dictionary=id2word, \n",
    "                                                        corpus=corpus, \n",
    "                                                        path=path, \n",
    "                                                        start=2, \n",
    "                                                        limit=40, \n",
    "                                                        step=6,\n",
    "                                                        passes=40)"
   ]
  },
  {
   "cell_type": "code",
   "execution_count": 73,
   "metadata": {},
   "outputs": [],
   "source": [
    "topic_coherence = pd.DataFrame.from_records(coherence_values)"
   ]
  },
  {
   "cell_type": "code",
   "execution_count": 74,
   "metadata": {
    "scrolled": true
   },
   "outputs": [
    {
     "data": {
      "text/html": [
       "<div>\n",
       "<style scoped>\n",
       "    .dataframe tbody tr th:only-of-type {\n",
       "        vertical-align: middle;\n",
       "    }\n",
       "\n",
       "    .dataframe tbody tr th {\n",
       "        vertical-align: top;\n",
       "    }\n",
       "\n",
       "    .dataframe thead th {\n",
       "        text-align: right;\n",
       "    }\n",
       "</style>\n",
       "<table border=\"1\" class=\"dataframe\">\n",
       "  <thead>\n",
       "    <tr style=\"text-align: right;\">\n",
       "      <th></th>\n",
       "      <th>pass</th>\n",
       "      <th>num_topics</th>\n",
       "      <th>coherence_score</th>\n",
       "    </tr>\n",
       "  </thead>\n",
       "  <tbody>\n",
       "    <tr>\n",
       "      <td>0</td>\n",
       "      <td>0</td>\n",
       "      <td>2</td>\n",
       "      <td>-0.628513</td>\n",
       "    </tr>\n",
       "    <tr>\n",
       "      <td>1</td>\n",
       "      <td>0</td>\n",
       "      <td>8</td>\n",
       "      <td>-0.788798</td>\n",
       "    </tr>\n",
       "    <tr>\n",
       "      <td>2</td>\n",
       "      <td>0</td>\n",
       "      <td>14</td>\n",
       "      <td>-0.696503</td>\n",
       "    </tr>\n",
       "    <tr>\n",
       "      <td>3</td>\n",
       "      <td>0</td>\n",
       "      <td>20</td>\n",
       "      <td>-0.766526</td>\n",
       "    </tr>\n",
       "    <tr>\n",
       "      <td>4</td>\n",
       "      <td>0</td>\n",
       "      <td>26</td>\n",
       "      <td>-0.713147</td>\n",
       "    </tr>\n",
       "  </tbody>\n",
       "</table>\n",
       "</div>"
      ],
      "text/plain": [
       "   pass  num_topics  coherence_score\n",
       "0     0           2        -0.628513\n",
       "1     0           8        -0.788798\n",
       "2     0          14        -0.696503\n",
       "3     0          20        -0.766526\n",
       "4     0          26        -0.713147"
      ]
     },
     "execution_count": 74,
     "metadata": {},
     "output_type": "execute_result"
    }
   ],
   "source": [
    "topic_coherence.head()"
   ]
  },
  {
   "cell_type": "code",
   "execution_count": 76,
   "metadata": {},
   "outputs": [
    {
     "data": {
      "image/png": "[encoded data removed]",
      "text/plain": [
       "<Figure size 432x288 with 1 Axes>"
      ]
     },
     "metadata": {
      "needs_background": "light"
     },
     "output_type": "display_data"
    }
   ],
   "source": [
    "import seaborn as sns\n",
    "\n",
    "ax = sns.lineplot(x=\"num_topics\", y=\"coherence_score\", data=topic_coherence)"
   ]
  },
  {
   "cell_type": "code",
   "execution_count": 77,
   "metadata": {},
   "outputs": [
    {
     "ename": "NameError",
     "evalue": "name 'x' is not defined",
     "output_type": "error",
     "traceback": [
      "\u001b[1;31m---------------------------------------------------------------------------\u001b[0m",
      "\u001b[1;31mNameError\u001b[0m                                 Traceback (most recent call last)",
      "\u001b[1;32m<ipython-input-77-374779cc73b5>\u001b[0m in \u001b[0;36m<module>\u001b[1;34m\u001b[0m\n\u001b[0;32m      1\u001b[0m \u001b[1;31m# Print the coherence scores\u001b[0m\u001b[1;33m\u001b[0m\u001b[1;33m\u001b[0m\u001b[1;33m\u001b[0m\u001b[0m\n\u001b[1;32m----> 2\u001b[1;33m \u001b[1;32mfor\u001b[0m \u001b[0mm\u001b[0m\u001b[1;33m,\u001b[0m \u001b[0mcv\u001b[0m \u001b[1;32min\u001b[0m \u001b[0mzip\u001b[0m\u001b[1;33m(\u001b[0m\u001b[0mx\u001b[0m\u001b[1;33m,\u001b[0m \u001b[0mcoherence_values\u001b[0m\u001b[1;33m)\u001b[0m\u001b[1;33m:\u001b[0m\u001b[1;33m\u001b[0m\u001b[1;33m\u001b[0m\u001b[0m\n\u001b[0m\u001b[0;32m      3\u001b[0m     \u001b[0mprint\u001b[0m\u001b[1;33m(\u001b[0m\u001b[1;34m\"Num Topics =\"\u001b[0m\u001b[1;33m,\u001b[0m \u001b[0mm\u001b[0m\u001b[1;33m,\u001b[0m \u001b[1;34m\" has Coherence Value of\"\u001b[0m\u001b[1;33m,\u001b[0m \u001b[0mround\u001b[0m\u001b[1;33m(\u001b[0m\u001b[0mcv\u001b[0m\u001b[1;33m,\u001b[0m \u001b[1;36m4\u001b[0m\u001b[1;33m)\u001b[0m\u001b[1;33m)\u001b[0m\u001b[1;33m\u001b[0m\u001b[1;33m\u001b[0m\u001b[0m\n",
      "\u001b[1;31mNameError\u001b[0m: name 'x' is not defined"
     ]
    }
   ],
   "source": [
    "# Print the coherence scores\n",
    "for m, cv in zip(x, coherence_values):\n",
    "    print(\"Num Topics =\", m, \" has Coherence Value of\", round(cv, 4))"
   ]
  },
  {
   "cell_type": "code",
   "execution_count": 78,
   "metadata": {},
   "outputs": [
    {
     "data": {
      "text/plain": [
       "[(0, 0.022248948),\n",
       " (1, 0.022248948),\n",
       " (2, 0.022248948),\n",
       " (3, 0.022248976),\n",
       " (4, 0.02224899),\n",
       " (5, 0.022248948),\n",
       " (6, 0.022248948),\n",
       " (7, 0.022248948),\n",
       " (8, 0.022248948),\n",
       " (9, 0.6885141),\n",
       " (10, 0.022249002),\n",
       " (11, 0.022249319),\n",
       " (12, 0.022248993),\n",
       " (13, 0.02224899),\n",
       " (14, 0.022248976)]"
      ]
     },
     "execution_count": 78,
     "metadata": {},
     "output_type": "execute_result"
    }
   ],
   "source": [
    "lda[id2word.doc2bow(tokenize(\"This is a sample document to score with a topic distribution.\"))]"
   ]
  },
  {
   "cell_type": "markdown",
   "metadata": {},
   "source": [
    "## Challenge\n",
    "### *Can we see if one of the authors focus more on men than women?*\n",
    "\n",
    "*  Use Spacy for text prepocessing\n",
    "*  Extract the Named Entities from the documents using Spacy (command is fairly straight forward)\n",
    "*  Create unique list of names from the authors (you'll find that there are different types of named entities not all people)\n",
    "*  Label the names with genders (can you this by hand or you use the US census name lists)\n",
    "*  Customize your processing to replace the proper name with your gender from the previous step's lookup table\n",
    "*  Then follow the rest of the LDA flow"
   ]
  },
  {
   "cell_type": "code",
   "execution_count": 79,
   "metadata": {},
   "outputs": [
    {
     "name": "stderr",
     "output_type": "stream",
     "text": [
      "c:\\users\\han-chung lee\\.virtualenvs\\ds-unit-4-sprint-1-nlp-o1ln3r8m\\lib\\site-packages\\thinc\\neural\\train.py:7: DeprecationWarning: Using or importing the ABCs from 'collections' instead of from 'collections.abc' is deprecated, and in 3.8 it will stop working\n",
      "  from .optimizers import Adam, linear_decay\n",
      "c:\\users\\han-chung lee\\.virtualenvs\\ds-unit-4-sprint-1-nlp-o1ln3r8m\\lib\\site-packages\\thinc\\check.py:4: DeprecationWarning: Using or importing the ABCs from 'collections' instead of from 'collections.abc' is deprecated, and in 3.8 it will stop working\n",
      "  from collections import Sequence, Sized, Iterable, Callable\n",
      "c:\\users\\han-chung lee\\.virtualenvs\\ds-unit-4-sprint-1-nlp-o1ln3r8m\\lib\\site-packages\\thinc\\check.py:4: DeprecationWarning: Using or importing the ABCs from 'collections' instead of from 'collections.abc' is deprecated, and in 3.8 it will stop working\n",
      "  from collections import Sequence, Sized, Iterable, Callable\n"
     ]
    }
   ],
   "source": [
    "import spacy\n",
    "\n",
    "nlp = spacy.load('en_core_web_lg')"
   ]
  },
  {
   "cell_type": "code",
   "execution_count": 80,
   "metadata": {},
   "outputs": [],
   "source": [
    "test = \"Ned asked me a question about England today.\""
   ]
  },
  {
   "cell_type": "code",
   "execution_count": 81,
   "metadata": {},
   "outputs": [
    {
     "name": "stdout",
     "output_type": "stream",
     "text": [
      "Ned Ned PROPN\n",
      "asked ask VERB\n",
      "me -PRON- PRON\n",
      "a a DET\n",
      "question question NOUN\n",
      "about about ADP\n",
      "England England PROPN\n",
      "today today NOUN\n",
      ". . PUNCT\n"
     ]
    }
   ],
   "source": [
    "doc = nlp(test)\n",
    "\n",
    "for token in doc:\n",
    "    print(token.text, token.lemma_, token.pos_)"
   ]
  },
  {
   "cell_type": "code",
   "execution_count": 82,
   "metadata": {},
   "outputs": [
    {
     "name": "stdout",
     "output_type": "stream",
     "text": [
      "Ned PERSON\n",
      "England GPE\n",
      "today DATE\n"
     ]
    }
   ],
   "source": [
    "for ent in doc.ents:\n",
    "    print(ent.text, ent.label_)"
   ]
  },
  {
   "cell_type": "code",
   "execution_count": 83,
   "metadata": {},
   "outputs": [],
   "source": [
    "def doc_stream(path):\n",
    "    for f in os.listdir(path):\n",
    "        with open(os.path.join(path,f)) as t:\n",
    "            text = t.read().strip('\\n')\n",
    "            yield text\n",
    "\n",
    "def get_people(docstream):\n",
    "    \n",
    "    ppl = []\n",
    "    \n",
    "    for d in docstream:\n",
    "        \n",
    "        doc = nlp(d)\n",
    "        \n",
    "        for ent in doc.ents:\n",
    "            \n",
    "            if ent.label_ == \"PERSON\":\n",
    "                ppl.append(ent.lemma_)\n",
    "                \n",
    "    return set(ppl)"
   ]
  },
  {
   "cell_type": "code",
   "execution_count": 84,
   "metadata": {},
   "outputs": [],
   "source": [
    "people = get_people(doc_stream(path))"
   ]
  },
  {
   "cell_type": "code",
   "execution_count": 85,
   "metadata": {},
   "outputs": [],
   "source": [
    "doc = nlp(next(doc_stream(path)))"
   ]
  },
  {
   "cell_type": "code",
   "execution_count": 86,
   "metadata": {},
   "outputs": [
    {
     "data": {
      "text/plain": [
       "'EMMA'"
      ]
     },
     "execution_count": 86,
     "metadata": {},
     "output_type": "execute_result"
    }
   ],
   "source": [
    "doc.ents[0].lemma_"
   ]
  },
  {
   "cell_type": "markdown",
   "metadata": {},
   "source": [
    "# Sources\n",
    "\n",
    "### *References*\n",
    "* [Andrew Ng et al paper on LDA](https://ai.stanford.edu/~ang/papers/jair03-lda.pdf)\n",
    "* On [Coherence](https://pdfs.semanticscholar.org/1521/8d9c029cbb903ae7c729b2c644c24994c201.pdf)\n",
    "\n",
    "### *Resources*\n",
    "\n",
    "* [Gensim](https://radimrehurek.com/gensim/): Python package for topic modeling, nlp, word vectorization, and few other things. Well maintained and well documented.\n",
    "* [Topic Modeling with Gensim](http://www.machinelearningplus.com/nlp/topic-modeling-gensim-python/#11createthedictionaryandcorpusneededfortopicmodeling): A kind of cookbook for LDA with gensim. Excellent overview, but the you need to be aware of missing import statements and assumed prior knowledge.\n",
    "* [Chinese Restuarant Process](https://en.wikipedia.org/wiki/Chinese_restaurant_process): That really obscure stats thing I mentioned... \n",
    "* [PyLDAvis](https://github.com/bmabey/pyLDAvis): Library for visualizing the topic model and performing some exploratory work. Works well. Has a direct parrell implementation in R as well. \n",
    "* [Rare Technologies](https://rare-technologies.com/): The people that made & maintain gensim and a few other libraries.\n",
    "* [Jane Austen v. Charlotte Bronte](https://www.literaryladiesguide.com/literary-musings/jane-austen-charlotte-bronte-different-alike/)"
   ]
  }
 ],
 "metadata": {
  "kernelspec": {
   "display_name": "Python 3",
   "language": "python",
   "name": "python3"
  },
  "language_info": {
   "codemirror_mode": {
    "name": "ipython",
    "version": 3
   },
   "file_extension": ".py",
   "mimetype": "text/x-python",
   "name": "python",
   "nbconvert_exporter": "python",
   "pygments_lexer": "ipython3",
   "version": "3.7.3"
  }
 },
 "nbformat": 4,
 "nbformat_minor": 2
}
