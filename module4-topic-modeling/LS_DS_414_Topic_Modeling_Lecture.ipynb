{
 "cells": [
  {
   "cell_type": "markdown",
   "metadata": {},
   "source": [
    "Lambda School Data Science\n",
    "\n",
    "*Unit 4, Sprint 1, Module 4*\n",
    "\n",
    "---"
   ]
  },
  {
   "cell_type": "markdown",
   "metadata": {},
   "source": [
    "# Topic Modeling (Prepare)"
   ]
  },
  {
   "cell_type": "markdown",
   "metadata": {},
   "source": [
    "# Latent Dirchilet Allocation (LDA) Models (Prepare)\n",
    "<a id=\"#p1\"></a>"
   ]
  },
  {
   "cell_type": "markdown",
   "metadata": {},
   "source": [
    "## Overview\n",
    "LDA is a \"generative probabilistic model\". \n",
    "\n",
    "Let's play with a model available [here](https://lettier.com/projects/lda-topic-modeling/)."
   ]
  },
  {
   "cell_type": "markdown",
   "metadata": {},
   "source": [
    "## Follow Along"
   ]
  },
  {
   "cell_type": "markdown",
   "metadata": {},
   "source": [
    "## Challenge "
   ]
  },
  {
   "cell_type": "markdown",
   "metadata": {},
   "source": [
    "# Estimating LDA Models with Gensim (Learn)\n",
    "<a id=\"#p1\"></a>"
   ]
  },
  {
   "cell_type": "markdown",
   "metadata": {
    "toc-hr-collapsed": true
   },
   "source": [
    "## Overview\n",
    "### A Literary Introduction: *Jane Austen V. Charlotte Bronte*\n",
    "Despite being born nearly forty years apart, Jane Austen & Charlotte Bronte are often pitted against one another in an imagined battle for literary supremacy. The battle centers around the topics of education for women, courting, and marriage. The authors' similiar backgrounds naturally draw comparisons, but the modern fascination is probably due to novelty of British women publishing novels during the early 19th century. \n",
    "\n",
    "Can we help close a litterary battle for supremacy and simply acknowledge that the authors addressed different topics and deserve to be acknowledged as excellent authors each in their own right?\n",
    "\n",
    "We're going to apply Latent Dirichlet Allocation, a machine learning alogrithm for topic modeling,to each of the author's novels to compare the distribution of topics in their novels."
   ]
  },
  {
   "cell_type": "code",
   "execution_count": 1,
   "metadata": {},
   "outputs": [],
   "source": [
    "import numpy as np\n",
    "import gensim\n",
    "import os\n",
    "import re\n",
    "\n",
    "from gensim.utils import simple_preprocess\n",
    "from gensim.parsing.preprocessing import STOPWORDS\n",
    "from gensim import corpora\n",
    "\n",
    "from gensim.models.ldamulticore import LdaMulticore\n",
    "\n",
    "import pandas as pd"
   ]
  },
  {
   "cell_type": "markdown",
   "metadata": {},
   "source": [
    "### Novel Data\n",
    "I grabbed the novel data pre-split into a bunch of smaller chunks"
   ]
  },
  {
   "cell_type": "code",
   "execution_count": 2,
   "metadata": {},
   "outputs": [],
   "source": [
    "path = './data/austen-brontë-split'"
   ]
  },
  {
   "cell_type": "code",
   "execution_count": 3,
   "metadata": {},
   "outputs": [],
   "source": [
    "STOPWORDS = set(STOPWORDS).union(set(['said', 'mr', 'mrs']))\n",
    "\n",
    "def tokenize(text):\n",
    "    return [token for token in simple_preprocess(text) \\\n",
    "            if token not in STOPWORDS]"
   ]
  },
  {
   "cell_type": "code",
   "execution_count": 4,
   "metadata": {},
   "outputs": [],
   "source": [
    "import os\n",
    "\n",
    "def gather_data(path_to_data): \n",
    "    data = []\n",
    "    \n",
    "    for f in os.listdir(path):\n",
    "        if f[-3:] == 'txt':\n",
    "            with open(os.path.join(path,f)) as t:\n",
    "                text = t.read().strip('\\n')\n",
    "                data.append(tokenize(str(text)))\n",
    "            \n",
    "    return data"
   ]
  },
  {
   "cell_type": "code",
   "execution_count": 5,
   "metadata": {},
   "outputs": [],
   "source": [
    "tokens = gather_data(path)"
   ]
  },
  {
   "cell_type": "code",
   "execution_count": 6,
   "metadata": {},
   "outputs": [
    {
     "data": {
      "text/plain": [
       "'this is a sample string with a  newline character'"
      ]
     },
     "execution_count": 6,
     "metadata": {},
     "output_type": "execute_result"
    }
   ],
   "source": [
    "\"this is a sample string with a \\n newline character\".replace('\\n', '')"
   ]
  },
  {
   "cell_type": "code",
   "execution_count": 7,
   "metadata": {},
   "outputs": [
    {
     "data": {
      "text/plain": [
       "813"
      ]
     },
     "execution_count": 7,
     "metadata": {},
     "output_type": "execute_result"
    }
   ],
   "source": [
    "len(tokens)"
   ]
  },
  {
   "cell_type": "markdown",
   "metadata": {
    "toc-hr-collapsed": true
   },
   "source": [
    "## Follow Along"
   ]
  },
  {
   "cell_type": "markdown",
   "metadata": {},
   "source": [
    "### Text Preprocessing\n",
    "**Challenge**: update the function `tokenize` with any technique you have learned so far this week. "
   ]
  },
  {
   "cell_type": "code",
   "execution_count": 8,
   "metadata": {},
   "outputs": [],
   "source": [
    "titles = [t[:-4] for t in os.listdir(path)]"
   ]
  },
  {
   "cell_type": "code",
   "execution_count": 9,
   "metadata": {},
   "outputs": [
    {
     "data": {
      "text/plain": [
       "813"
      ]
     },
     "execution_count": 9,
     "metadata": {},
     "output_type": "execute_result"
    }
   ],
   "source": [
    "len(titles)"
   ]
  },
  {
   "cell_type": "code",
   "execution_count": 10,
   "metadata": {},
   "outputs": [
    {
     "data": {
      "text/plain": [
       "['Austen_Emma0000',\n",
       " 'Austen_Emma0001',\n",
       " 'Austen_Emma0002',\n",
       " 'Austen_Emma0003',\n",
       " 'Austen_Emma0004']"
      ]
     },
     "execution_count": 10,
     "metadata": {},
     "output_type": "execute_result"
    }
   ],
   "source": [
    "titles[:5]"
   ]
  },
  {
   "cell_type": "code",
   "execution_count": 46,
   "metadata": {},
   "outputs": [],
   "source": [
    "STOPWORDS = set(STOPWORDS).union(set(['said', 'mr', 'mrs', 'miss']))\n",
    "\n",
    "def tokenize(text):\n",
    "    return [token for token in simple_preprocess(text) \\\n",
    "            if token not in STOPWORDS]"
   ]
  },
  {
   "cell_type": "code",
   "execution_count": 47,
   "metadata": {},
   "outputs": [
    {
     "data": {
      "text/plain": [
       "['hello', 'world', 'test', 'tokenization', 'method']"
      ]
     },
     "execution_count": 47,
     "metadata": {},
     "output_type": "execute_result"
    }
   ],
   "source": [
    "tokenize(\"Hello World! This a test of the tokenization method\")"
   ]
  },
  {
   "cell_type": "markdown",
   "metadata": {},
   "source": [
    "### Author DataFrame\n"
   ]
  },
  {
   "cell_type": "code",
   "execution_count": 48,
   "metadata": {},
   "outputs": [],
   "source": [
    "df = pd.DataFrame(index=titles)"
   ]
  },
  {
   "cell_type": "code",
   "execution_count": 49,
   "metadata": {},
   "outputs": [
    {
     "data": {
      "text/html": [
       "<div>\n",
       "<style scoped>\n",
       "    .dataframe tbody tr th:only-of-type {\n",
       "        vertical-align: middle;\n",
       "    }\n",
       "\n",
       "    .dataframe tbody tr th {\n",
       "        vertical-align: top;\n",
       "    }\n",
       "\n",
       "    .dataframe thead th {\n",
       "        text-align: right;\n",
       "    }\n",
       "</style>\n",
       "<table border=\"1\" class=\"dataframe\">\n",
       "  <thead>\n",
       "    <tr style=\"text-align: right;\">\n",
       "      <th></th>\n",
       "    </tr>\n",
       "  </thead>\n",
       "  <tbody>\n",
       "    <tr>\n",
       "      <th>Austen_Emma0000</th>\n",
       "    </tr>\n",
       "    <tr>\n",
       "      <th>Austen_Emma0001</th>\n",
       "    </tr>\n",
       "    <tr>\n",
       "      <th>Austen_Emma0002</th>\n",
       "    </tr>\n",
       "    <tr>\n",
       "      <th>Austen_Emma0003</th>\n",
       "    </tr>\n",
       "    <tr>\n",
       "      <th>Austen_Emma0004</th>\n",
       "    </tr>\n",
       "  </tbody>\n",
       "</table>\n",
       "</div>"
      ],
      "text/plain": [
       "Empty DataFrame\n",
       "Columns: []\n",
       "Index: [Austen_Emma0000, Austen_Emma0001, Austen_Emma0002, Austen_Emma0003, Austen_Emma0004]"
      ]
     },
     "execution_count": 49,
     "metadata": {},
     "output_type": "execute_result"
    }
   ],
   "source": [
    "df.head()"
   ]
  },
  {
   "cell_type": "code",
   "execution_count": 50,
   "metadata": {},
   "outputs": [],
   "source": [
    "df['tokens'] = tokens"
   ]
  },
  {
   "cell_type": "code",
   "execution_count": 51,
   "metadata": {},
   "outputs": [],
   "source": [
    "df['author'] = df.reset_index()['index'].apply(lambda x: \\\n",
    "                                               x.split('_')[0]).tolist()\n",
    "df['book'] = df.reset_index()['index'].apply(lambda x: \\\n",
    "                                             x.split('_')[1][:-4]).tolist()\n",
    "df['section'] = df.reset_index()['index'].apply(lambda x: \\\n",
    "                                                x[-4:]).tolist()\n",
    "df['section'] = df['section'].astype('int')"
   ]
  },
  {
   "cell_type": "code",
   "execution_count": 52,
   "metadata": {},
   "outputs": [],
   "source": [
    "df['author'] = df['author'].map({'Austen':1, 'CBronte':0})"
   ]
  },
  {
   "cell_type": "code",
   "execution_count": 53,
   "metadata": {},
   "outputs": [
    {
     "data": {
      "text/plain": [
       "0    441\n",
       "1    372\n",
       "Name: author, dtype: int64"
      ]
     },
     "execution_count": 53,
     "metadata": {},
     "output_type": "execute_result"
    }
   ],
   "source": [
    "df.author.value_counts()"
   ]
  },
  {
   "cell_type": "code",
   "execution_count": 54,
   "metadata": {},
   "outputs": [
    {
     "data": {
      "text/html": [
       "<div>\n",
       "<style scoped>\n",
       "    .dataframe tbody tr th:only-of-type {\n",
       "        vertical-align: middle;\n",
       "    }\n",
       "\n",
       "    .dataframe tbody tr th {\n",
       "        vertical-align: top;\n",
       "    }\n",
       "\n",
       "    .dataframe thead th {\n",
       "        text-align: right;\n",
       "    }\n",
       "</style>\n",
       "<table border=\"1\" class=\"dataframe\">\n",
       "  <thead>\n",
       "    <tr style=\"text-align: right;\">\n",
       "      <th></th>\n",
       "      <th>tokens</th>\n",
       "      <th>author</th>\n",
       "      <th>book</th>\n",
       "      <th>section</th>\n",
       "    </tr>\n",
       "  </thead>\n",
       "  <tbody>\n",
       "    <tr>\n",
       "      <th>Austen_Emma0000</th>\n",
       "      <td>[emma, jane, austen, volume, chapter, emma, wo...</td>\n",
       "      <td>1</td>\n",
       "      <td>Emma</td>\n",
       "      <td>0</td>\n",
       "    </tr>\n",
       "    <tr>\n",
       "      <th>Austen_Emma0001</th>\n",
       "      <td>[taylor, wish, pity, weston, thought, agree, p...</td>\n",
       "      <td>1</td>\n",
       "      <td>Emma</td>\n",
       "      <td>1</td>\n",
       "    </tr>\n",
       "    <tr>\n",
       "      <th>Austen_Emma0002</th>\n",
       "      <td>[behaved, charmingly, body, punctual, body, be...</td>\n",
       "      <td>1</td>\n",
       "      <td>Emma</td>\n",
       "      <td>2</td>\n",
       "    </tr>\n",
       "    <tr>\n",
       "      <th>Austen_Emma0003</th>\n",
       "      <td>[native, highbury, born, respectable, family, ...</td>\n",
       "      <td>1</td>\n",
       "      <td>Emma</td>\n",
       "      <td>3</td>\n",
       "    </tr>\n",
       "    <tr>\n",
       "      <th>Austen_Emma0004</th>\n",
       "      <td>[mention, handsome, letter, weston, received, ...</td>\n",
       "      <td>1</td>\n",
       "      <td>Emma</td>\n",
       "      <td>4</td>\n",
       "    </tr>\n",
       "  </tbody>\n",
       "</table>\n",
       "</div>"
      ],
      "text/plain": [
       "                                                            tokens  author  \\\n",
       "Austen_Emma0000  [emma, jane, austen, volume, chapter, emma, wo...       1   \n",
       "Austen_Emma0001  [taylor, wish, pity, weston, thought, agree, p...       1   \n",
       "Austen_Emma0002  [behaved, charmingly, body, punctual, body, be...       1   \n",
       "Austen_Emma0003  [native, highbury, born, respectable, family, ...       1   \n",
       "Austen_Emma0004  [mention, handsome, letter, weston, received, ...       1   \n",
       "\n",
       "                 book  section  \n",
       "Austen_Emma0000  Emma        0  \n",
       "Austen_Emma0001  Emma        1  \n",
       "Austen_Emma0002  Emma        2  \n",
       "Austen_Emma0003  Emma        3  \n",
       "Austen_Emma0004  Emma        4  "
      ]
     },
     "execution_count": 54,
     "metadata": {},
     "output_type": "execute_result"
    }
   ],
   "source": [
    "df.head()"
   ]
  },
  {
   "cell_type": "markdown",
   "metadata": {},
   "source": [
    "### Streaming Documents\n",
    "Here we use a new pythonic thingy: the `yield` statement in our fucntion. This allows us to iterate over a bunch of documents without actually reading them into memory. You can see how we use this function later on. "
   ]
  },
  {
   "cell_type": "code",
   "execution_count": 55,
   "metadata": {},
   "outputs": [],
   "source": [
    "def doc_stream(path):\n",
    "    for f in os.listdir(path):\n",
    "        with open(os.path.join(path, f)) as t:\n",
    "            if f[-3:] == 'txt':\n",
    "                text = t.read().strip('\\n')\n",
    "                tokens = tokenize(str(text))\n",
    "                yield tokens"
   ]
  },
  {
   "cell_type": "code",
   "execution_count": 56,
   "metadata": {},
   "outputs": [],
   "source": [
    "streaming_data = doc_stream(path)"
   ]
  },
  {
   "cell_type": "code",
   "execution_count": 57,
   "metadata": {},
   "outputs": [
    {
     "data": {
      "text/plain": [
       "['emma',\n",
       " 'jane',\n",
       " 'austen',\n",
       " 'volume',\n",
       " 'chapter',\n",
       " 'emma',\n",
       " 'woodhouse',\n",
       " 'handsome',\n",
       " 'clever',\n",
       " 'rich',\n",
       " 'comfortable',\n",
       " 'home',\n",
       " 'happy',\n",
       " 'disposition',\n",
       " 'unite',\n",
       " 'best',\n",
       " 'blessings',\n",
       " 'existence',\n",
       " 'lived',\n",
       " 'nearly',\n",
       " 'years',\n",
       " 'world',\n",
       " 'little',\n",
       " 'distress',\n",
       " 'vex',\n",
       " 'youngest',\n",
       " 'daughters',\n",
       " 'affectionate',\n",
       " 'indulgent',\n",
       " 'father',\n",
       " 'consequence',\n",
       " 'sister',\n",
       " 'marriage',\n",
       " 'mistress',\n",
       " 'house',\n",
       " 'early',\n",
       " 'period',\n",
       " 'mother',\n",
       " 'died',\n",
       " 'long',\n",
       " 'ago',\n",
       " 'indistinct',\n",
       " 'remembrance',\n",
       " 'caresses',\n",
       " 'place',\n",
       " 'supplied',\n",
       " 'excellent',\n",
       " 'woman',\n",
       " 'governess',\n",
       " 'fallen',\n",
       " 'little',\n",
       " 'short',\n",
       " 'mother',\n",
       " 'affection',\n",
       " 'sixteen',\n",
       " 'years',\n",
       " 'taylor',\n",
       " 'woodhouse',\n",
       " 'family',\n",
       " 'governess',\n",
       " 'friend',\n",
       " 'fond',\n",
       " 'daughters',\n",
       " 'particularly',\n",
       " 'emma',\n",
       " 'intimacy',\n",
       " 'sisters',\n",
       " 'taylor',\n",
       " 'ceased',\n",
       " 'hold',\n",
       " 'nominal',\n",
       " 'office',\n",
       " 'governess',\n",
       " 'mildness',\n",
       " 'temper',\n",
       " 'hardly',\n",
       " 'allowed',\n",
       " 'impose',\n",
       " 'restraint',\n",
       " 'shadow',\n",
       " 'authority',\n",
       " 'long',\n",
       " 'passed',\n",
       " 'away',\n",
       " 'living',\n",
       " 'friend',\n",
       " 'friend',\n",
       " 'mutually',\n",
       " 'attached',\n",
       " 'emma',\n",
       " 'liked',\n",
       " 'highly',\n",
       " 'esteeming',\n",
       " 'taylor',\n",
       " 'judgment',\n",
       " 'directed',\n",
       " 'chiefly',\n",
       " 'real',\n",
       " 'evils',\n",
       " 'emma',\n",
       " 'situation',\n",
       " 'power',\n",
       " 'having',\n",
       " 'way',\n",
       " 'disposition',\n",
       " 'think',\n",
       " 'little',\n",
       " 'disadvantages',\n",
       " 'threatened',\n",
       " 'alloy',\n",
       " 'enjoyments',\n",
       " 'danger',\n",
       " 'present',\n",
       " 'unperceived',\n",
       " 'means',\n",
       " 'rank',\n",
       " 'misfortunes',\n",
       " 'sorrow',\n",
       " 'came',\n",
       " 'gentle',\n",
       " 'sorrow',\n",
       " 'shape',\n",
       " 'disagreeable',\n",
       " 'consciousness',\n",
       " 'taylor',\n",
       " 'married',\n",
       " 'taylor',\n",
       " 'loss',\n",
       " 'brought',\n",
       " 'grief',\n",
       " 'wedding',\n",
       " 'day',\n",
       " 'beloved',\n",
       " 'friend',\n",
       " 'emma',\n",
       " 'sat',\n",
       " 'mournful',\n",
       " 'thought',\n",
       " 'continuance',\n",
       " 'wedding',\n",
       " 'bride',\n",
       " 'people',\n",
       " 'gone',\n",
       " 'father',\n",
       " 'left',\n",
       " 'dine',\n",
       " 'prospect',\n",
       " 'cheer',\n",
       " 'long',\n",
       " 'evening',\n",
       " 'father',\n",
       " 'composed',\n",
       " 'sleep',\n",
       " 'dinner',\n",
       " 'usual',\n",
       " 'sit',\n",
       " 'think',\n",
       " 'lost',\n",
       " 'event',\n",
       " 'promise',\n",
       " 'happiness',\n",
       " 'friend',\n",
       " 'weston',\n",
       " 'man',\n",
       " 'unexceptionable',\n",
       " 'character',\n",
       " 'easy',\n",
       " 'fortune',\n",
       " 'suitable',\n",
       " 'age',\n",
       " 'pleasant',\n",
       " 'manners',\n",
       " 'satisfaction',\n",
       " 'considering',\n",
       " 'self',\n",
       " 'denying',\n",
       " 'generous',\n",
       " 'friendship',\n",
       " 'wished',\n",
       " 'promoted',\n",
       " 'match',\n",
       " 'black',\n",
       " 'morning',\n",
       " 'work',\n",
       " 'want',\n",
       " 'taylor',\n",
       " 'felt',\n",
       " 'hour',\n",
       " 'day',\n",
       " 'recalled',\n",
       " 'past',\n",
       " 'kindness',\n",
       " 'kindness',\n",
       " 'affection',\n",
       " 'sixteen',\n",
       " 'years',\n",
       " 'taught',\n",
       " 'played',\n",
       " 'years',\n",
       " 'old',\n",
       " 'devoted',\n",
       " 'powers',\n",
       " 'attach',\n",
       " 'amuse',\n",
       " 'health',\n",
       " 'nursed',\n",
       " 'illnesses',\n",
       " 'childhood',\n",
       " 'large',\n",
       " 'debt',\n",
       " 'gratitude',\n",
       " 'owing',\n",
       " 'intercourse',\n",
       " 'seven',\n",
       " 'years',\n",
       " 'equal',\n",
       " 'footing',\n",
       " 'perfect',\n",
       " 'unreserve',\n",
       " 'soon',\n",
       " 'followed',\n",
       " 'isabella',\n",
       " 'marriage',\n",
       " 'left',\n",
       " 'dearer',\n",
       " 'tenderer',\n",
       " 'recollection',\n",
       " 'friend',\n",
       " 'companion',\n",
       " 'possessed',\n",
       " 'intelligent',\n",
       " 'informed',\n",
       " 'useful',\n",
       " 'gentle',\n",
       " 'knowing',\n",
       " 'ways',\n",
       " 'family',\n",
       " 'interested',\n",
       " 'concerns',\n",
       " 'peculiarly',\n",
       " 'interested',\n",
       " 'pleasure',\n",
       " 'scheme',\n",
       " 'speak',\n",
       " 'thought',\n",
       " 'arose',\n",
       " 'affection',\n",
       " 'fault',\n",
       " 'bear',\n",
       " 'change',\n",
       " 'true',\n",
       " 'friend',\n",
       " 'going',\n",
       " 'half',\n",
       " 'mile',\n",
       " 'emma',\n",
       " 'aware',\n",
       " 'great',\n",
       " 'difference',\n",
       " 'weston',\n",
       " 'half',\n",
       " 'mile',\n",
       " 'taylor',\n",
       " 'house',\n",
       " 'advantages',\n",
       " 'natural',\n",
       " 'domestic',\n",
       " 'great',\n",
       " 'danger',\n",
       " 'suffering',\n",
       " 'intellectual',\n",
       " 'solitude',\n",
       " 'dearly',\n",
       " 'loved',\n",
       " 'father',\n",
       " 'companion',\n",
       " 'meet',\n",
       " 'conversation',\n",
       " 'rational',\n",
       " 'playful',\n",
       " 'evil',\n",
       " 'actual',\n",
       " 'disparity',\n",
       " 'ages',\n",
       " 'woodhouse',\n",
       " 'married',\n",
       " 'early',\n",
       " 'increased',\n",
       " 'constitution',\n",
       " 'habits',\n",
       " 'having',\n",
       " 'valetudinarian',\n",
       " 'life',\n",
       " 'activity',\n",
       " 'mind',\n",
       " 'body',\n",
       " 'older',\n",
       " 'man',\n",
       " 'ways',\n",
       " 'years',\n",
       " 'beloved',\n",
       " 'friendliness',\n",
       " 'heart',\n",
       " 'amiable',\n",
       " 'temper',\n",
       " 'talents',\n",
       " 'recommended',\n",
       " 'time',\n",
       " 'sister',\n",
       " 'comparatively',\n",
       " 'little',\n",
       " 'removed',\n",
       " 'matrimony',\n",
       " 'settled',\n",
       " 'london',\n",
       " 'sixteen',\n",
       " 'miles',\n",
       " 'daily',\n",
       " 'reach',\n",
       " 'long',\n",
       " 'october',\n",
       " 'november',\n",
       " 'evening',\n",
       " 'struggled',\n",
       " 'hartfield',\n",
       " 'christmas',\n",
       " 'brought',\n",
       " 'visit',\n",
       " 'isabella',\n",
       " 'husband',\n",
       " 'little',\n",
       " 'children',\n",
       " 'house',\n",
       " 'pleasant',\n",
       " 'society',\n",
       " 'highbury',\n",
       " 'large',\n",
       " 'populous',\n",
       " 'village',\n",
       " 'amounting',\n",
       " 'town',\n",
       " 'hartfield',\n",
       " 'spite',\n",
       " 'separate',\n",
       " 'lawn',\n",
       " 'shrubberies',\n",
       " 'belong',\n",
       " 'afforded',\n",
       " 'equals',\n",
       " 'woodhouses',\n",
       " 'consequence',\n",
       " 'looked',\n",
       " 'acquaintance',\n",
       " 'place',\n",
       " 'father',\n",
       " 'universally',\n",
       " 'civil',\n",
       " 'accepted',\n",
       " 'lieu',\n",
       " 'taylor',\n",
       " 'half',\n",
       " 'day',\n",
       " 'melancholy',\n",
       " 'change',\n",
       " 'emma',\n",
       " 'sigh',\n",
       " 'wish',\n",
       " 'impossible',\n",
       " 'things',\n",
       " 'till',\n",
       " 'father',\n",
       " 'awoke',\n",
       " 'necessary',\n",
       " 'cheerful',\n",
       " 'spirits',\n",
       " 'required',\n",
       " 'support',\n",
       " 'nervous',\n",
       " 'man',\n",
       " 'easily',\n",
       " 'depressed',\n",
       " 'fond',\n",
       " 'body',\n",
       " 'hating',\n",
       " 'hating',\n",
       " 'change',\n",
       " 'kind',\n",
       " 'matrimony',\n",
       " 'origin',\n",
       " 'change',\n",
       " 'disagreeable',\n",
       " 'means',\n",
       " 'reconciled',\n",
       " 'daughter',\n",
       " 'marrying',\n",
       " 'speak',\n",
       " 'compassion',\n",
       " 'entirely',\n",
       " 'match',\n",
       " 'affection',\n",
       " 'obliged',\n",
       " 'taylor',\n",
       " 'habits',\n",
       " 'gentle',\n",
       " 'selfishness',\n",
       " 'able',\n",
       " 'suppose',\n",
       " 'people',\n",
       " 'feel',\n",
       " 'differently',\n",
       " 'disposed',\n",
       " 'think',\n",
       " 'taylor',\n",
       " 'sad',\n",
       " 'thing',\n",
       " 'great',\n",
       " 'deal',\n",
       " 'happier',\n",
       " 'spent',\n",
       " 'rest',\n",
       " 'life',\n",
       " 'hartfield',\n",
       " 'emma',\n",
       " 'smiled',\n",
       " 'chatted',\n",
       " 'cheerfully',\n",
       " 'thoughts',\n",
       " 'tea',\n",
       " 'came',\n",
       " 'impossible',\n",
       " 'exactly',\n",
       " 'dinner',\n",
       " 'poor']"
      ]
     },
     "execution_count": 57,
     "metadata": {},
     "output_type": "execute_result"
    }
   ],
   "source": [
    "next(streaming_data)"
   ]
  },
  {
   "cell_type": "code",
   "execution_count": null,
   "metadata": {},
   "outputs": [],
   "source": []
  },
  {
   "cell_type": "markdown",
   "metadata": {},
   "source": [
    "### Gensim LDA Topic Modeling"
   ]
  },
  {
   "cell_type": "code",
   "execution_count": 58,
   "metadata": {},
   "outputs": [],
   "source": [
    "# A Dictionary Representation of all the words in our corpus\n",
    "id2word = corpora.Dictionary(doc_stream(path))"
   ]
  },
  {
   "cell_type": "code",
   "execution_count": 59,
   "metadata": {},
   "outputs": [
    {
     "data": {
      "text/plain": [
       "3985"
      ]
     },
     "execution_count": 59,
     "metadata": {},
     "output_type": "execute_result"
    }
   ],
   "source": [
    "id2word.token2id['england']"
   ]
  },
  {
   "cell_type": "code",
   "execution_count": 60,
   "metadata": {},
   "outputs": [
    {
     "data": {
      "text/plain": [
       "[(2752, 1), (3985, 3), (6600, 1), (6817, 1)]"
      ]
     },
     "execution_count": 60,
     "metadata": {},
     "output_type": "execute_result"
    }
   ],
   "source": [
    "id2word.doc2bow(tokenize(\"This is a sample message Darcy England England England\"))"
   ]
  },
  {
   "cell_type": "code",
   "execution_count": 61,
   "metadata": {},
   "outputs": [
    {
     "data": {
      "text/plain": [
       "56"
      ]
     },
     "execution_count": 61,
     "metadata": {},
     "output_type": "execute_result"
    }
   ],
   "source": [
    "import sys\n",
    "sys.getsizeof(id2word)"
   ]
  },
  {
   "cell_type": "code",
   "execution_count": 62,
   "metadata": {},
   "outputs": [
    {
     "data": {
      "text/plain": [
       "22094"
      ]
     },
     "execution_count": 62,
     "metadata": {},
     "output_type": "execute_result"
    }
   ],
   "source": [
    "len(id2word.keys())"
   ]
  },
  {
   "cell_type": "code",
   "execution_count": 63,
   "metadata": {},
   "outputs": [],
   "source": [
    "# Let's remove extreme values from the dataset\n",
    "id2word.filter_extremes(no_below=10, no_above=0.95)"
   ]
  },
  {
   "cell_type": "code",
   "execution_count": 64,
   "metadata": {},
   "outputs": [
    {
     "data": {
      "text/plain": [
       "4923"
      ]
     },
     "execution_count": 64,
     "metadata": {},
     "output_type": "execute_result"
    }
   ],
   "source": [
    "len(id2word.keys())"
   ]
  },
  {
   "cell_type": "code",
   "execution_count": 65,
   "metadata": {},
   "outputs": [],
   "source": [
    "# a bag of words(bow) representation of our corpus\n",
    "# Note: we haven't actually read any text into memory here\n",
    "corpus = [id2word.doc2bow(text) for text in doc_stream(path)]"
   ]
  },
  {
   "cell_type": "code",
   "execution_count": 66,
   "metadata": {},
   "outputs": [],
   "source": [
    "lda = LdaMulticore(corpus=corpus,\n",
    "                   id2word=id2word,\n",
    "                   random_state=723812,\n",
    "                   num_topics = 15,\n",
    "                   passes=10,\n",
    "                   workers=4\n",
    "                  )"
   ]
  },
  {
   "cell_type": "code",
   "execution_count": 67,
   "metadata": {},
   "outputs": [
    {
     "data": {
      "text/plain": [
       "[(0,\n",
       "  '0.013*\"lady\" + 0.012*\"collins\" + 0.010*\"catherine\" + 0.009*\"elizabeth\" + 0.009*\"sir\" + 0.007*\"john\" + 0.006*\"little\" + 0.006*\"room\" + 0.005*\"st\" + 0.005*\"day\"'),\n",
       " (1,\n",
       "  '0.029*\"harriet\" + 0.018*\"emma\" + 0.010*\"elton\" + 0.008*\"good\" + 0.008*\"man\" + 0.008*\"think\" + 0.007*\"knightley\" + 0.006*\"thought\" + 0.006*\"martin\" + 0.006*\"little\"'),\n",
       " (2,\n",
       "  '0.016*\"emma\" + 0.010*\"weston\" + 0.009*\"thing\" + 0.008*\"jane\" + 0.008*\"knightley\" + 0.008*\"know\" + 0.007*\"think\" + 0.007*\"little\" + 0.007*\"elton\" + 0.006*\"good\"'),\n",
       " (3,\n",
       "  '0.009*\"thousand\" + 0.007*\"sisters\" + 0.006*\"justice\" + 0.005*\"burns\" + 0.005*\"marry\" + 0.005*\"pounds\" + 0.004*\"know\" + 0.004*\"home\" + 0.004*\"diana\" + 0.004*\"like\"'),\n",
       " (4,\n",
       "  '0.007*\"little\" + 0.006*\"like\" + 0.005*\"thought\" + 0.004*\"know\" + 0.004*\"good\" + 0.004*\"madame\" + 0.004*\"day\" + 0.004*\"time\" + 0.003*\"long\" + 0.003*\"hand\"'),\n",
       " (5,\n",
       "  '0.009*\"know\" + 0.008*\"rochester\" + 0.006*\"time\" + 0.006*\"school\" + 0.006*\"john\" + 0.005*\"long\" + 0.005*\"life\" + 0.004*\"st\" + 0.004*\"god\" + 0.004*\"man\"'),\n",
       " (6,\n",
       "  '0.015*\"wickham\" + 0.007*\"uncle\" + 0.006*\"darcy\" + 0.006*\"came\" + 0.006*\"lydia\" + 0.006*\"town\" + 0.005*\"time\" + 0.005*\"soon\" + 0.005*\"father\" + 0.005*\"character\"'),\n",
       " (7,\n",
       "  '0.021*\"sir\" + 0.012*\"jane\" + 0.009*\"like\" + 0.009*\"rochester\" + 0.007*\"little\" + 0.006*\"shall\" + 0.006*\"love\" + 0.006*\"yes\" + 0.006*\"adele\" + 0.005*\"face\"'),\n",
       " (8,\n",
       "  '0.012*\"st\" + 0.010*\"john\" + 0.009*\"diana\" + 0.008*\"felt\" + 0.008*\"hannah\" + 0.007*\"tell\" + 0.007*\"moment\" + 0.006*\"letter\" + 0.005*\"speak\" + 0.005*\"time\"'),\n",
       " (9,\n",
       "  '0.007*\"room\" + 0.007*\"rochester\" + 0.006*\"like\" + 0.006*\"little\" + 0.005*\"jane\" + 0.005*\"door\" + 0.005*\"night\" + 0.005*\"come\" + 0.005*\"long\" + 0.004*\"looked\"'),\n",
       " (10,\n",
       "  '0.024*\"elizabeth\" + 0.017*\"bingley\" + 0.015*\"bennet\" + 0.015*\"darcy\" + 0.011*\"collins\" + 0.009*\"jane\" + 0.008*\"lady\" + 0.007*\"catherine\" + 0.005*\"soon\" + 0.005*\"charlotte\"'),\n",
       " (11,\n",
       "  '0.023*\"elinor\" + 0.019*\"marianne\" + 0.011*\"jennings\" + 0.011*\"sister\" + 0.009*\"willoughby\" + 0.008*\"time\" + 0.007*\"colonel\" + 0.006*\"mother\" + 0.006*\"brandon\" + 0.006*\"soon\"'),\n",
       " (12,\n",
       "  '0.018*\"mdlle\" + 0.018*\"monsieur\" + 0.014*\"henri\" + 0.012*\"english\" + 0.006*\"mademoiselle\" + 0.005*\"directress\" + 0.005*\"like\" + 0.005*\"little\" + 0.005*\"time\" + 0.005*\"life\"'),\n",
       " (13,\n",
       "  '0.007*\"know\" + 0.006*\"think\" + 0.006*\"elizabeth\" + 0.006*\"good\" + 0.006*\"sister\" + 0.005*\"mother\" + 0.005*\"man\" + 0.005*\"time\" + 0.005*\"little\" + 0.005*\"elinor\"'),\n",
       " (14,\n",
       "  '0.016*\"edward\" + 0.014*\"sir\" + 0.012*\"elinor\" + 0.011*\"marianne\" + 0.009*\"mason\" + 0.008*\"jane\" + 0.006*\"lucy\" + 0.006*\"rochester\" + 0.005*\"think\" + 0.005*\"know\"')]"
      ]
     },
     "execution_count": 67,
     "metadata": {},
     "output_type": "execute_result"
    }
   ],
   "source": [
    "lda.print_topics()"
   ]
  },
  {
   "cell_type": "code",
   "execution_count": 68,
   "metadata": {},
   "outputs": [],
   "source": [
    "words = [re.findall(r'\"([^\"]*)\"', t[1]) for t in lda.print_topics()]"
   ]
  },
  {
   "cell_type": "code",
   "execution_count": 69,
   "metadata": {},
   "outputs": [],
   "source": [
    "topics = [' '.join(t[0:5]) for t in words]"
   ]
  },
  {
   "cell_type": "code",
   "execution_count": 70,
   "metadata": {},
   "outputs": [
    {
     "name": "stdout",
     "output_type": "stream",
     "text": [
      "Topic 0: lady collins catherine elizabeth sir\n",
      "\n",
      "\n",
      "Topic 1: harriet emma elton good man\n",
      "\n",
      "\n",
      "Topic 2: emma weston thing jane knightley\n",
      "\n",
      "\n",
      "Topic 3: thousand sisters justice burns marry\n",
      "\n",
      "\n",
      "Topic 4: little like thought know good\n",
      "\n",
      "\n",
      "Topic 5: know rochester time school john\n",
      "\n",
      "\n",
      "Topic 6: wickham uncle darcy came lydia\n",
      "\n",
      "\n",
      "Topic 7: sir jane like rochester little\n",
      "\n",
      "\n",
      "Topic 8: st john diana felt hannah\n",
      "\n",
      "\n",
      "Topic 9: room rochester like little jane\n",
      "\n",
      "\n",
      "Topic 10: elizabeth bingley bennet darcy collins\n",
      "\n",
      "\n",
      "Topic 11: elinor marianne jennings sister willoughby\n",
      "\n",
      "\n",
      "Topic 12: mdlle monsieur henri english mademoiselle\n",
      "\n",
      "\n",
      "Topic 13: know think elizabeth good sister\n",
      "\n",
      "\n",
      "Topic 14: edward sir elinor marianne mason\n",
      "\n",
      "\n"
     ]
    }
   ],
   "source": [
    "for id, t in enumerate(topics):\n",
    "    print(f'Topic {id}: {t}')\n",
    "    print(\"\\n\")"
   ]
  },
  {
   "cell_type": "markdown",
   "metadata": {},
   "source": [
    "## Challenge \n",
    "\n",
    "You will apply an LDA model to a customer review dataset to practice the fitting and estimation of LDA. "
   ]
  },
  {
   "cell_type": "markdown",
   "metadata": {},
   "source": [
    "# Interpret LDA Results (Learn)\n",
    "<a id=\"#p3\"></a>"
   ]
  },
  {
   "cell_type": "markdown",
   "metadata": {},
   "source": [
    "## Overview"
   ]
  },
  {
   "cell_type": "markdown",
   "metadata": {
    "toc-hr-collapsed": true
   },
   "source": [
    "## Follow Along"
   ]
  },
  {
   "cell_type": "markdown",
   "metadata": {},
   "source": [
    "### Topic Distance Visualization"
   ]
  },
  {
   "cell_type": "code",
   "execution_count": 71,
   "metadata": {},
   "outputs": [],
   "source": [
    "import pyLDAvis.gensim\n",
    "\n",
    "pyLDAvis.enable_notebook()"
   ]
  },
  {
   "cell_type": "code",
   "execution_count": 72,
   "metadata": {},
   "outputs": [
    {
     "name": "stderr",
     "output_type": "stream",
     "text": [
      "C:\\Users\\Me\\Anaconda3\\lib\\site-packages\\pyLDAvis\\_prepare.py:257: FutureWarning: Sorting because non-concatenation axis is not aligned. A future version\n",
      "of pandas will change to not sort by default.\n",
      "\n",
      "To accept the future behavior, pass 'sort=False'.\n",
      "\n",
      "To retain the current behavior and silence the warning, pass 'sort=True'.\n",
      "\n",
      "  return pd.concat([default_term_info] + list(topic_dfs))\n"
     ]
    },
    {
     "data": {
      "text/html": [
       "\n",
       "<link rel=\"stylesheet\" type=\"text/css\" href=\"https://cdn.rawgit.com/bmabey/pyLDAvis/files/ldavis.v1.0.0.css\">\n",
       "\n",
       "\n",
       "<div id=\"ldavis_el950818495876165281669677557\"></div>\n",
       "<script type=\"text/javascript\">\n",
       "\n",
       "var ldavis_el950818495876165281669677557_data = {\"mdsDat\": {\"x\": [-0.07715799493296029, 0.09369847202514135, 0.08596768258143668, -0.10059801018434533, 0.11147093694347819, 0.11366128744863989, 0.09295143452611769, -0.0696192002506026, -0.009160298740179389, -0.001506139037732488, -0.08443112549776344, -0.14067645634732745, 0.04431020600822693, -0.05236287206268048, -0.006547922479449659], \"y\": [-0.002847484285070212, -0.0013261070697084202, 0.0518862327445762, 0.006934742720494234, 0.02646387527918066, -0.053757278543811, 0.09329390086400942, 0.05450099984848126, 0.00402388888375652, 0.06832686821196907, 0.008259322896099831, 0.01919063074390086, -0.12371254261943367, -0.05353135208435834, -0.09770569759008642], \"topics\": [1, 2, 3, 4, 5, 6, 7, 8, 9, 10, 11, 12, 13, 14, 15], \"cluster\": [1, 1, 1, 1, 1, 1, 1, 1, 1, 1, 1, 1, 1, 1, 1], \"Freq\": [35.06947326660156, 16.302257537841797, 13.715484619140625, 11.876444816589355, 6.32534122467041, 4.835517406463623, 3.883883476257324, 2.2917232513427734, 1.3270992040634155, 1.2076674699783325, 1.1682791709899902, 1.002868413925171, 0.649324893951416, 0.2196362465620041, 0.12499766796827316]}, \"tinfo\": {\"Category\": [\"Default\", \"Default\", \"Default\", \"Default\", \"Default\", \"Default\", \"Default\", \"Default\", \"Default\", \"Default\", \"Default\", \"Default\", \"Default\", \"Default\", \"Default\", \"Default\", \"Default\", \"Default\", \"Default\", \"Default\", \"Default\", \"Default\", \"Default\", \"Default\", \"Default\", \"Default\", \"Default\", \"Default\", \"Default\", \"Default\", \"Topic1\", \"Topic1\", \"Topic1\", \"Topic1\", \"Topic1\", \"Topic1\", \"Topic1\", \"Topic1\", \"Topic1\", \"Topic1\", \"Topic1\", \"Topic1\", \"Topic1\", \"Topic1\", \"Topic1\", \"Topic1\", \"Topic1\", \"Topic1\", \"Topic1\", \"Topic1\", \"Topic1\", \"Topic1\", \"Topic1\", \"Topic1\", \"Topic1\", \"Topic1\", \"Topic1\", \"Topic1\", \"Topic1\", \"Topic1\", \"Topic1\", \"Topic1\", \"Topic1\", \"Topic1\", \"Topic1\", \"Topic1\", \"Topic1\", \"Topic1\", \"Topic1\", \"Topic1\", \"Topic1\", \"Topic1\", \"Topic1\", \"Topic1\", \"Topic1\", \"Topic1\", \"Topic1\", \"Topic1\", \"Topic1\", \"Topic1\", \"Topic1\", \"Topic1\", \"Topic1\", \"Topic1\", \"Topic1\", \"Topic1\", \"Topic1\", \"Topic1\", \"Topic1\", \"Topic1\", \"Topic1\", \"Topic1\", \"Topic1\", \"Topic1\", \"Topic1\", \"Topic1\", \"Topic1\", \"Topic1\", \"Topic1\", \"Topic1\", \"Topic1\", \"Topic1\", \"Topic1\", \"Topic1\", \"Topic1\", \"Topic1\", \"Topic1\", \"Topic1\", \"Topic1\", \"Topic2\", \"Topic2\", \"Topic2\", \"Topic2\", \"Topic2\", \"Topic2\", \"Topic2\", \"Topic2\", \"Topic2\", \"Topic2\", \"Topic2\", \"Topic2\", \"Topic2\", \"Topic2\", \"Topic2\", \"Topic2\", \"Topic2\", \"Topic2\", \"Topic2\", \"Topic2\", \"Topic2\", \"Topic2\", \"Topic2\", \"Topic2\", \"Topic2\", \"Topic2\", \"Topic2\", \"Topic2\", \"Topic2\", \"Topic2\", \"Topic2\", \"Topic2\", \"Topic2\", \"Topic2\", \"Topic2\", \"Topic2\", \"Topic2\", \"Topic2\", \"Topic2\", \"Topic2\", \"Topic2\", \"Topic2\", \"Topic2\", \"Topic2\", \"Topic2\", \"Topic2\", \"Topic2\", \"Topic2\", \"Topic2\", \"Topic2\", \"Topic2\", \"Topic2\", \"Topic2\", \"Topic2\", \"Topic2\", \"Topic2\", \"Topic2\", \"Topic2\", \"Topic2\", \"Topic2\", \"Topic2\", \"Topic2\", \"Topic2\", \"Topic2\", \"Topic2\", \"Topic2\", \"Topic2\", \"Topic2\", \"Topic2\", \"Topic2\", \"Topic2\", \"Topic2\", \"Topic2\", \"Topic2\", \"Topic3\", \"Topic3\", \"Topic3\", \"Topic3\", \"Topic3\", \"Topic3\", \"Topic3\", \"Topic3\", \"Topic3\", \"Topic3\", \"Topic3\", \"Topic3\", \"Topic3\", \"Topic3\", \"Topic3\", \"Topic3\", \"Topic3\", \"Topic3\", \"Topic3\", \"Topic3\", \"Topic3\", \"Topic3\", \"Topic3\", \"Topic3\", \"Topic3\", \"Topic3\", \"Topic3\", \"Topic3\", \"Topic3\", \"Topic3\", \"Topic3\", \"Topic3\", \"Topic3\", \"Topic3\", \"Topic3\", \"Topic3\", \"Topic3\", \"Topic3\", \"Topic3\", \"Topic3\", \"Topic3\", \"Topic3\", \"Topic3\", \"Topic3\", \"Topic3\", \"Topic3\", \"Topic3\", \"Topic3\", \"Topic3\", \"Topic3\", \"Topic3\", \"Topic3\", \"Topic3\", \"Topic3\", \"Topic3\", \"Topic4\", \"Topic4\", \"Topic4\", \"Topic4\", \"Topic4\", \"Topic4\", \"Topic4\", \"Topic4\", \"Topic4\", \"Topic4\", \"Topic4\", \"Topic4\", \"Topic4\", \"Topic4\", \"Topic4\", \"Topic4\", \"Topic4\", \"Topic4\", \"Topic4\", \"Topic4\", \"Topic4\", \"Topic4\", \"Topic4\", \"Topic4\", \"Topic4\", \"Topic4\", \"Topic4\", \"Topic4\", \"Topic4\", \"Topic4\", \"Topic4\", \"Topic4\", \"Topic4\", \"Topic4\", \"Topic4\", \"Topic4\", \"Topic4\", \"Topic4\", \"Topic4\", \"Topic4\", \"Topic4\", \"Topic4\", \"Topic4\", \"Topic4\", \"Topic4\", \"Topic4\", \"Topic4\", \"Topic4\", \"Topic4\", \"Topic4\", \"Topic4\", \"Topic4\", \"Topic4\", \"Topic4\", \"Topic4\", \"Topic4\", \"Topic4\", \"Topic4\", \"Topic4\", \"Topic4\", \"Topic4\", \"Topic4\", \"Topic4\", \"Topic4\", \"Topic4\", \"Topic4\", \"Topic4\", \"Topic4\", \"Topic4\", \"Topic4\", \"Topic4\", \"Topic4\", \"Topic4\", \"Topic5\", \"Topic5\", \"Topic5\", \"Topic5\", \"Topic5\", \"Topic5\", \"Topic5\", \"Topic5\", \"Topic5\", \"Topic5\", \"Topic5\", \"Topic5\", \"Topic5\", \"Topic5\", \"Topic5\", \"Topic5\", \"Topic5\", \"Topic5\", \"Topic5\", \"Topic5\", \"Topic5\", \"Topic5\", \"Topic5\", \"Topic5\", \"Topic5\", \"Topic5\", \"Topic5\", \"Topic5\", \"Topic5\", \"Topic5\", \"Topic5\", \"Topic5\", \"Topic5\", \"Topic5\", \"Topic5\", \"Topic5\", \"Topic5\", \"Topic5\", \"Topic5\", \"Topic5\", \"Topic5\", \"Topic5\", \"Topic5\", \"Topic5\", \"Topic5\", \"Topic5\", \"Topic5\", \"Topic5\", \"Topic5\", \"Topic5\", \"Topic5\", \"Topic5\", \"Topic5\", \"Topic5\", \"Topic5\", \"Topic5\", \"Topic5\", \"Topic5\", \"Topic6\", \"Topic6\", \"Topic6\", \"Topic6\", \"Topic6\", \"Topic6\", \"Topic6\", \"Topic6\", \"Topic6\", \"Topic6\", \"Topic6\", \"Topic6\", \"Topic6\", \"Topic6\", \"Topic6\", \"Topic6\", \"Topic6\", \"Topic6\", \"Topic6\", \"Topic6\", \"Topic6\", \"Topic6\", \"Topic6\", \"Topic6\", \"Topic6\", \"Topic6\", \"Topic6\", \"Topic6\", \"Topic6\", \"Topic6\", \"Topic6\", \"Topic6\", \"Topic6\", \"Topic6\", \"Topic6\", \"Topic6\", \"Topic6\", \"Topic6\", \"Topic6\", \"Topic6\", \"Topic6\", \"Topic6\", \"Topic6\", \"Topic6\", \"Topic6\", \"Topic6\", \"Topic6\", \"Topic6\", \"Topic6\", \"Topic6\", \"Topic6\", \"Topic6\", \"Topic6\", \"Topic6\", \"Topic6\", \"Topic6\", \"Topic6\", \"Topic6\", \"Topic6\", \"Topic6\", \"Topic6\", \"Topic6\", \"Topic7\", \"Topic7\", \"Topic7\", \"Topic7\", \"Topic7\", \"Topic7\", \"Topic7\", \"Topic7\", \"Topic7\", \"Topic7\", \"Topic7\", \"Topic7\", \"Topic7\", \"Topic7\", \"Topic7\", \"Topic7\", \"Topic7\", \"Topic7\", \"Topic7\", \"Topic7\", \"Topic7\", \"Topic7\", \"Topic7\", \"Topic7\", \"Topic7\", \"Topic7\", \"Topic7\", \"Topic7\", \"Topic7\", \"Topic7\", \"Topic7\", \"Topic7\", \"Topic7\", \"Topic7\", \"Topic7\", \"Topic7\", \"Topic7\", \"Topic7\", \"Topic7\", \"Topic7\", \"Topic7\", \"Topic7\", \"Topic7\", \"Topic7\", \"Topic7\", \"Topic7\", \"Topic7\", \"Topic7\", \"Topic7\", \"Topic7\", \"Topic7\", \"Topic7\", \"Topic7\", \"Topic7\", \"Topic7\", \"Topic7\", \"Topic7\", \"Topic7\", \"Topic7\", \"Topic7\", \"Topic7\", \"Topic7\", \"Topic7\", \"Topic7\", \"Topic8\", \"Topic8\", \"Topic8\", \"Topic8\", \"Topic8\", \"Topic8\", \"Topic8\", \"Topic8\", \"Topic8\", \"Topic8\", \"Topic8\", \"Topic8\", \"Topic8\", \"Topic8\", \"Topic8\", \"Topic8\", \"Topic8\", \"Topic8\", \"Topic8\", \"Topic8\", \"Topic8\", \"Topic8\", \"Topic8\", \"Topic8\", \"Topic8\", \"Topic8\", \"Topic8\", \"Topic8\", \"Topic8\", \"Topic8\", \"Topic8\", \"Topic8\", \"Topic8\", \"Topic8\", \"Topic8\", \"Topic8\", \"Topic8\", \"Topic8\", \"Topic8\", \"Topic8\", \"Topic8\", \"Topic8\", \"Topic8\", \"Topic8\", \"Topic8\", \"Topic8\", \"Topic8\", \"Topic8\", \"Topic8\", \"Topic8\", \"Topic8\", \"Topic8\", \"Topic8\", \"Topic8\", \"Topic8\", \"Topic8\", \"Topic8\", \"Topic8\", \"Topic8\", \"Topic8\", \"Topic8\", \"Topic8\", \"Topic8\", \"Topic8\", \"Topic8\", \"Topic8\", \"Topic8\", \"Topic8\", \"Topic8\", \"Topic8\", \"Topic8\", \"Topic9\", \"Topic9\", \"Topic9\", \"Topic9\", \"Topic9\", \"Topic9\", \"Topic9\", \"Topic9\", \"Topic9\", \"Topic9\", \"Topic9\", \"Topic9\", \"Topic9\", \"Topic9\", \"Topic9\", \"Topic9\", \"Topic9\", \"Topic9\", \"Topic9\", \"Topic9\", \"Topic9\", \"Topic9\", \"Topic9\", \"Topic9\", \"Topic9\", \"Topic9\", \"Topic9\", \"Topic9\", \"Topic9\", \"Topic9\", \"Topic9\", \"Topic9\", \"Topic9\", \"Topic9\", \"Topic9\", \"Topic9\", \"Topic9\", \"Topic9\", \"Topic9\", \"Topic9\", \"Topic9\", \"Topic9\", \"Topic9\", \"Topic9\", \"Topic9\", \"Topic9\", \"Topic9\", \"Topic9\", \"Topic9\", \"Topic9\", \"Topic9\", \"Topic9\", \"Topic9\", \"Topic9\", \"Topic9\", \"Topic9\", \"Topic9\", \"Topic9\", \"Topic9\", \"Topic9\", \"Topic9\", \"Topic9\", \"Topic9\", \"Topic9\", \"Topic9\", \"Topic9\", \"Topic9\", \"Topic9\", \"Topic10\", \"Topic10\", \"Topic10\", \"Topic10\", \"Topic10\", \"Topic10\", \"Topic10\", \"Topic10\", \"Topic10\", \"Topic10\", \"Topic10\", \"Topic10\", \"Topic10\", \"Topic10\", \"Topic10\", \"Topic10\", \"Topic10\", \"Topic10\", \"Topic10\", \"Topic10\", \"Topic10\", \"Topic10\", \"Topic10\", \"Topic10\", \"Topic10\", \"Topic10\", \"Topic10\", \"Topic10\", \"Topic10\", \"Topic10\", \"Topic10\", \"Topic10\", \"Topic10\", \"Topic10\", \"Topic10\", \"Topic10\", \"Topic10\", \"Topic10\", \"Topic10\", \"Topic10\", \"Topic10\", \"Topic10\", \"Topic10\", \"Topic10\", \"Topic10\", \"Topic10\", \"Topic10\", \"Topic10\", \"Topic10\", \"Topic10\", \"Topic10\", \"Topic10\", \"Topic10\", \"Topic10\", \"Topic10\", \"Topic10\", \"Topic10\", \"Topic10\", \"Topic10\", \"Topic10\", \"Topic10\", \"Topic10\", \"Topic10\", \"Topic10\", \"Topic10\", \"Topic10\", \"Topic10\", \"Topic10\", \"Topic10\", \"Topic10\", \"Topic10\", \"Topic11\", \"Topic11\", \"Topic11\", \"Topic11\", \"Topic11\", \"Topic11\", \"Topic11\", \"Topic11\", \"Topic11\", \"Topic11\", \"Topic11\", \"Topic11\", \"Topic11\", \"Topic11\", \"Topic11\", \"Topic11\", \"Topic11\", \"Topic11\", \"Topic11\", \"Topic11\", \"Topic11\", \"Topic11\", \"Topic11\", \"Topic11\", \"Topic11\", \"Topic11\", \"Topic11\", \"Topic11\", \"Topic11\", \"Topic11\", \"Topic11\", \"Topic11\", \"Topic11\", \"Topic11\", \"Topic11\", \"Topic11\", \"Topic11\", \"Topic11\", \"Topic11\", \"Topic11\", \"Topic11\", \"Topic11\", \"Topic11\", \"Topic11\", \"Topic11\", \"Topic11\", \"Topic11\", \"Topic11\", \"Topic11\", \"Topic11\", \"Topic11\", \"Topic11\", \"Topic11\", \"Topic11\", \"Topic11\", \"Topic11\", \"Topic11\", \"Topic11\", \"Topic11\", \"Topic11\", \"Topic11\", \"Topic11\", \"Topic11\", \"Topic11\", \"Topic11\", \"Topic11\", \"Topic11\", \"Topic11\", \"Topic11\", \"Topic11\", \"Topic11\", \"Topic11\", \"Topic11\", \"Topic11\", \"Topic12\", \"Topic12\", \"Topic12\", \"Topic12\", \"Topic12\", \"Topic12\", \"Topic12\", \"Topic12\", \"Topic12\", \"Topic12\", \"Topic12\", \"Topic12\", \"Topic12\", \"Topic12\", \"Topic12\", \"Topic12\", \"Topic12\", \"Topic12\", \"Topic12\", \"Topic12\", \"Topic12\", \"Topic12\", \"Topic12\", \"Topic12\", \"Topic12\", \"Topic12\", \"Topic12\", \"Topic12\", \"Topic12\", \"Topic12\", \"Topic12\", \"Topic12\", \"Topic12\", \"Topic12\", \"Topic12\", \"Topic12\", \"Topic12\", \"Topic12\", \"Topic12\", \"Topic12\", \"Topic12\", \"Topic12\", \"Topic12\", \"Topic12\", \"Topic12\", \"Topic12\", \"Topic12\", \"Topic12\", \"Topic12\", \"Topic12\", \"Topic12\", \"Topic12\", \"Topic12\", \"Topic12\", \"Topic12\", \"Topic12\", \"Topic12\", \"Topic12\", \"Topic12\", \"Topic12\", \"Topic12\", \"Topic12\", \"Topic12\", \"Topic13\", \"Topic13\", \"Topic13\", \"Topic13\", \"Topic13\", \"Topic13\", \"Topic13\", \"Topic13\", \"Topic13\", \"Topic13\", \"Topic13\", \"Topic13\", \"Topic13\", \"Topic13\", \"Topic13\", \"Topic13\", \"Topic13\", \"Topic13\", \"Topic13\", \"Topic13\", \"Topic13\", \"Topic13\", \"Topic13\", \"Topic13\", \"Topic13\", \"Topic13\", \"Topic13\", \"Topic13\", \"Topic13\", \"Topic13\", \"Topic13\", \"Topic13\", \"Topic13\", \"Topic13\", \"Topic13\", \"Topic13\", \"Topic13\", \"Topic13\", \"Topic13\", \"Topic13\", \"Topic13\", \"Topic13\", \"Topic13\", \"Topic13\", \"Topic13\", \"Topic13\", \"Topic13\", \"Topic13\", \"Topic13\", \"Topic13\", \"Topic13\", \"Topic13\", \"Topic13\", \"Topic13\", \"Topic13\", \"Topic14\", \"Topic14\", \"Topic14\", \"Topic14\", \"Topic14\", \"Topic14\", \"Topic14\", \"Topic14\", \"Topic14\", \"Topic14\", \"Topic14\", \"Topic14\", \"Topic14\", \"Topic14\", \"Topic14\", \"Topic14\", \"Topic14\", \"Topic14\", \"Topic14\", \"Topic14\", \"Topic14\", \"Topic14\", \"Topic14\", \"Topic14\", \"Topic14\", \"Topic14\", \"Topic14\", \"Topic14\", \"Topic14\", \"Topic14\", \"Topic14\", \"Topic14\", \"Topic14\", \"Topic14\", \"Topic14\", \"Topic14\", \"Topic14\", \"Topic14\", \"Topic14\", \"Topic14\", \"Topic14\", \"Topic14\", \"Topic14\", \"Topic14\", \"Topic14\", \"Topic14\", \"Topic14\", \"Topic14\", \"Topic14\", \"Topic14\", \"Topic14\", \"Topic14\", \"Topic14\", \"Topic14\", \"Topic14\", \"Topic14\", \"Topic14\", \"Topic14\", \"Topic14\", \"Topic14\", \"Topic14\", \"Topic14\", \"Topic14\", \"Topic14\", \"Topic14\", \"Topic14\", \"Topic14\", \"Topic14\", \"Topic14\", \"Topic14\", \"Topic14\", \"Topic14\", \"Topic15\", \"Topic15\", \"Topic15\", \"Topic15\", \"Topic15\", \"Topic15\", \"Topic15\", \"Topic15\", \"Topic15\", \"Topic15\", \"Topic15\", \"Topic15\", \"Topic15\", \"Topic15\", \"Topic15\", \"Topic15\", \"Topic15\", \"Topic15\", \"Topic15\", \"Topic15\", \"Topic15\", \"Topic15\", \"Topic15\", \"Topic15\", \"Topic15\", \"Topic15\", \"Topic15\", \"Topic15\", \"Topic15\", \"Topic15\", \"Topic15\", \"Topic15\", \"Topic15\", \"Topic15\", \"Topic15\", \"Topic15\", \"Topic15\", \"Topic15\", \"Topic15\", \"Topic15\", \"Topic15\", \"Topic15\", \"Topic15\", \"Topic15\", \"Topic15\", \"Topic15\", \"Topic15\", \"Topic15\", \"Topic15\", \"Topic15\", \"Topic15\", \"Topic15\", \"Topic15\", \"Topic15\", \"Topic15\", \"Topic15\", \"Topic15\", \"Topic15\", \"Topic15\", \"Topic15\", \"Topic15\", \"Topic15\", \"Topic15\", \"Topic15\", \"Topic15\", \"Topic15\", \"Topic15\", \"Topic15\"], \"Freq\": [849.0, 682.0, 654.0, 518.0, 1432.0, 1337.0, 563.0, 1733.0, 1319.0, 585.0, 932.0, 422.0, 625.0, 619.0, 1147.0, 1359.0, 927.0, 276.0, 1066.0, 1314.0, 185.0, 588.0, 695.0, 358.0, 779.0, 302.0, 508.0, 945.0, 757.0, 539.0, 407.06561279296875, 83.07475280761719, 163.92735290527344, 59.40641403198242, 74.00479125976562, 109.4231185913086, 63.88032531738281, 49.331260681152344, 107.32823944091797, 72.36151885986328, 35.62749099731445, 33.565616607666016, 179.22653198242188, 35.46767044067383, 29.61944007873535, 62.045753479003906, 27.673107147216797, 30.509214401245117, 27.653215408325195, 233.91665649414062, 29.532657623291016, 104.63587188720703, 52.24079513549805, 83.55207061767578, 22.773231506347656, 215.7559356689453, 20.782583236694336, 20.744108200073242, 22.64262580871582, 36.738975524902344, 224.55731201171875, 143.13792419433594, 38.53193664550781, 110.23951721191406, 142.1613006591797, 101.4358901977539, 49.41242599487305, 73.55216979980469, 59.58984375, 45.33821105957031, 102.77005004882812, 93.42378997802734, 64.72156524658203, 207.57659912109375, 87.4855728149414, 169.96182250976562, 123.98532104492188, 655.4127807617188, 85.2408676147461, 245.18247985839844, 727.7958984375, 327.8587341308594, 496.533203125, 169.2751007080078, 128.73098754882812, 317.2662658691406, 311.28314208984375, 157.1413116455078, 249.83245849609375, 296.782958984375, 394.07525634765625, 355.5367126464844, 439.0206298828125, 446.617919921875, 264.99249267578125, 239.60165405273438, 248.54983520507812, 270.4340515136719, 235.13299560546875, 278.9304504394531, 378.9952087402344, 284.1131286621094, 241.71478271484375, 322.5304260253906, 281.2394714355469, 270.2654724121094, 236.3759002685547, 235.16357421875, 235.43209838867188, 23.15374755859375, 48.0125732421875, 12.437804222106934, 162.5993194580078, 33.234683990478516, 74.8777084350586, 20.642662048339844, 12.113808631896973, 75.44588470458984, 14.959489822387695, 127.20110321044922, 20.163570404052734, 16.892396926879883, 35.787776947021484, 16.424640655517578, 21.42566680908203, 9.957610130310059, 7.291196346282959, 9.249009132385254, 10.388644218444824, 8.58896541595459, 15.375076293945312, 21.97853660583496, 8.750730514526367, 25.640422821044922, 10.09909439086914, 13.860105514526367, 16.4525203704834, 11.222150802612305, 34.803436279296875, 21.51295280456543, 85.29852294921875, 34.06178283691406, 76.74317169189453, 58.884254455566406, 128.33236694335938, 80.24542999267578, 200.1791229248047, 260.47052001953125, 76.2322769165039, 277.59320068359375, 142.81619262695312, 174.442626953125, 133.33470153808594, 86.58853149414062, 249.92916870117188, 47.21052169799805, 141.9657745361328, 84.64772033691406, 217.04129028320312, 104.75787353515625, 116.3474349975586, 335.21990966796875, 241.42755126953125, 100.79946899414062, 291.5010681152344, 142.12783813476562, 160.75701904296875, 272.5346984863281, 209.78695678710938, 162.50160217285156, 148.8085174560547, 202.28298950195312, 176.5885009765625, 229.18592834472656, 183.0023651123047, 156.4667510986328, 167.64112854003906, 217.41323852539062, 147.23057556152344, 134.83108520507812, 148.64093017578125, 143.44900512695312, 136.33236694335938, 42.634429931640625, 49.20491027832031, 143.32679748535156, 58.33784866333008, 29.894546508789062, 25.10359764099121, 16.573406219482422, 17.117582321166992, 45.960140228271484, 394.397216796875, 71.98259735107422, 198.75929260253906, 10.444073677062988, 10.255433082580566, 31.01694107055664, 75.57794952392578, 197.4105682373047, 18.346343994140625, 39.96284484863281, 247.87698364257812, 54.90066146850586, 24.84442710876465, 299.55999755859375, 122.67797088623047, 93.88835906982422, 643.40576171875, 13.127860069274902, 29.811864852905273, 22.767993927001953, 266.0942687988281, 228.35812377929688, 163.5590362548828, 341.34954833984375, 39.472991943359375, 60.85480880737305, 217.22801208496094, 301.4408874511719, 182.41571044921875, 173.69554138183594, 171.32693481445312, 289.1980895996094, 215.38095092773438, 298.85601806640625, 176.8186492919922, 285.1569519042969, 248.8892059326172, 125.22154235839844, 186.5968780517578, 219.3050537109375, 181.688720703125, 167.3672637939453, 183.37767028808594, 159.3068389892578, 154.21876525878906, 135.58551025390625, 132.38156127929688, 29.424287796020508, 29.39324188232422, 127.59347534179688, 20.309494018554688, 20.313886642456055, 61.1207389831543, 41.42654800415039, 53.6011848449707, 24.989933013916016, 24.116849899291992, 26.596487045288086, 12.57821273803711, 63.61549377441406, 14.861298561096191, 74.38353729248047, 20.117616653442383, 9.509013175964355, 44.01476287841797, 18.277359008789062, 81.11616516113281, 8.50064468383789, 8.379048347473145, 9.99453067779541, 20.42723274230957, 48.9559440612793, 18.235754013061523, 20.12761116027832, 12.279690742492676, 17.975173950195312, 245.8043212890625, 21.060983657836914, 34.54686737060547, 86.33235168457031, 63.45743179321289, 22.334457397460938, 37.32109069824219, 93.99191284179688, 32.572933197021484, 45.61101531982422, 37.599334716796875, 59.44912338256836, 247.9850311279297, 172.72158813476562, 81.35107421875, 167.41014099121094, 84.57783508300781, 110.31522369384766, 72.57879638671875, 129.41160583496094, 179.4088897705078, 143.79994201660156, 151.0220184326172, 79.4709243774414, 209.12754821777344, 159.12879943847656, 102.95738983154297, 158.99880981445312, 208.5408172607422, 128.67274475097656, 130.79063415527344, 101.05987548828125, 128.8780517578125, 108.98582458496094, 114.5284423828125, 135.90451049804688, 134.0303192138672, 125.80731964111328, 118.45516204833984, 131.4093017578125, 109.54427337646484, 109.67521667480469, 101.23978424072266, 78.5721206665039, 27.53742027282715, 205.50025939941406, 15.165975570678711, 14.047311782836914, 29.050561904907227, 114.05452728271484, 23.97846221923828, 155.93528747558594, 11.460679054260254, 10.825016021728516, 13.320125579833984, 64.68907928466797, 350.2591857910156, 11.190301895141602, 54.814327239990234, 11.619218826293945, 413.022705078125, 7.23323917388916, 7.716639518737793, 12.71235179901123, 5.562975883483887, 111.1559829711914, 135.48802185058594, 5.174988746643066, 4.912078380584717, 4.690586090087891, 5.054877758026123, 4.769887924194336, 5.519517421722412, 192.6664581298828, 75.5670166015625, 16.56548309326172, 13.37441349029541, 39.98393249511719, 69.88239288330078, 116.41876220703125, 32.98863220214844, 73.92001342773438, 51.19457244873047, 50.55741500854492, 147.13002014160156, 48.095619201660156, 111.7005615234375, 95.8575439453125, 64.86975860595703, 70.87287902832031, 86.27888488769531, 79.27918243408203, 95.64524841308594, 69.51499938964844, 85.24315643310547, 65.06468200683594, 65.04121398925781, 70.70282745361328, 69.03663635253906, 73.12675476074219, 63.355770111083984, 63.75631332397461, 22.57022476196289, 150.2436065673828, 236.36851501464844, 28.25309944152832, 93.91616821289062, 35.01594924926758, 10.675189018249512, 208.13108825683594, 23.706880569458008, 69.63320922851562, 44.188358306884766, 13.779577255249023, 30.479415893554688, 46.16722106933594, 331.0072326660156, 13.273845672607422, 206.39205932617188, 5.68618631362915, 11.354318618774414, 20.24701499938965, 11.465407371520996, 5.465458393096924, 16.785194396972656, 33.898277282714844, 6.575620174407959, 6.498847484588623, 5.298834800720215, 7.509787082672119, 8.087686538696289, 21.150014877319336, 33.7335319519043, 22.7970027923584, 33.50727462768555, 15.948966979980469, 30.123510360717773, 33.973915100097656, 110.89763641357422, 27.054576873779297, 121.49794006347656, 37.30247497558594, 62.22420883178711, 56.40702819824219, 36.95981216430664, 74.4520492553711, 42.72732162475586, 49.8418083190918, 57.92091751098633, 62.603515625, 67.25971221923828, 52.720848083496094, 45.64445877075195, 64.05506896972656, 56.27874755859375, 54.33089065551758, 48.14259719848633, 48.81299591064453, 44.05370330810547, 41.82673263549805, 42.32318878173828, 42.462669372558594, 42.34562683105469, 69.01922607421875, 329.3487854003906, 9.744437217712402, 52.316829681396484, 6.738697052001953, 8.253486633300781, 4.710155010223389, 4.481099605560303, 14.710745811462402, 13.396824836730957, 5.399936199188232, 4.310007572174072, 14.319050788879395, 4.739406108856201, 5.070488452911377, 3.747110605239868, 4.050746440887451, 3.6955063343048096, 24.20328712463379, 18.103464126586914, 3.2188796997070312, 5.266395092010498, 110.76416778564453, 6.8808274269104, 3.7219886779785156, 6.396330833435059, 13.957351684570312, 4.377628803253174, 4.548547744750977, 8.646924018859863, 199.76406860351562, 12.939997673034668, 26.75614356994629, 80.09591674804688, 27.578327178955078, 15.29611587524414, 33.273189544677734, 57.23752975463867, 45.351051330566406, 60.28839874267578, 9.938517570495605, 93.44961547851562, 21.721439361572266, 53.265445709228516, 22.032201766967773, 93.70915222167969, 91.2341079711914, 35.950416564941406, 50.83971405029297, 59.76899719238281, 33.065040588378906, 69.26582336425781, 37.79683303833008, 44.69576644897461, 47.52661895751953, 62.59514617919922, 32.88016891479492, 36.983585357666016, 44.03156661987305, 39.10858154296875, 48.61164093017578, 45.88338851928711, 33.011077880859375, 35.13539123535156, 9.424025535583496, 4.333620071411133, 3.571361541748047, 3.9723429679870605, 3.0363101959228516, 3.688432216644287, 5.825245380401611, 6.43206262588501, 3.606624126434326, 3.028942823410034, 37.634674072265625, 139.35247802734375, 2.7768890857696533, 2.6519947052001953, 3.299323081970215, 4.798630714416504, 4.539943218231201, 3.2428367137908936, 3.2212038040161133, 4.636221408843994, 21.529327392578125, 2.3427231311798096, 2.2991344928741455, 2.6399919986724854, 3.256892681121826, 2.8322441577911377, 5.196822166442871, 2.3835642337799072, 5.734395503997803, 3.137474536895752, 3.1884520053863525, 60.76597595214844, 9.407405853271484, 4.903825283050537, 5.459650993347168, 21.022985458374023, 5.700802326202393, 6.836141109466553, 14.639095306396484, 80.59115600585938, 11.00269889831543, 10.759291648864746, 8.193660736083984, 7.470684051513672, 38.44540786743164, 34.03483963012695, 37.70888137817383, 61.101409912109375, 30.443452835083008, 42.20123291015625, 17.331117630004883, 16.895620346069336, 18.704858779907227, 28.921451568603516, 46.39666748046875, 17.629833221435547, 20.299091339111328, 25.330787658691406, 33.144866943359375, 32.658836364746094, 29.911602020263672, 18.894315719604492, 20.15115737915039, 28.302858352661133, 20.82317352294922, 21.242143630981445, 25.627721786499023, 21.781679153442383, 20.38597869873047, 18.755475997924805, 18.39032554626465, 29.02802848815918, 35.02877426147461, 3.5689845085144043, 3.855276107788086, 8.751909255981445, 3.8544485569000244, 2.5460548400878906, 4.935976028442383, 2.534775972366333, 44.84293746948242, 2.7020206451416016, 9.03077507019043, 4.6925225257873535, 2.5595784187316895, 2.6025547981262207, 2.794544219970703, 4.91771125793457, 4.726303577423096, 2.3271961212158203, 2.0171892642974854, 3.48820161819458, 2.3722083568573, 1.8018066883087158, 1.7620313167572021, 1.7053829431533813, 2.495013475418091, 2.543332099914551, 1.922513484954834, 2.648817777633667, 1.7472211122512817, 3.809229612350464, 17.299070358276367, 4.855931758880615, 3.2094247341156006, 36.97724151611328, 5.608082294464111, 24.291465759277344, 32.66965103149414, 28.19891929626465, 26.23210906982422, 21.12693214416504, 9.211984634399414, 8.951316833496094, 15.372045516967773, 10.150464057922363, 10.521100997924805, 10.93964672088623, 17.18979263305664, 12.713715553283691, 11.06041145324707, 14.438982963562012, 18.949710845947266, 17.86412811279297, 16.27593994140625, 10.631242752075195, 16.79183578491211, 10.466790199279785, 10.911734580993652, 12.471224784851074, 12.665230751037598, 11.931553840637207, 13.217803955078125, 13.22634506225586, 13.020373344421387, 12.782868385314941, 13.000022888183594, 11.263612747192383, 11.166077613830566, 30.90860939025879, 9.199700355529785, 2.5940709114074707, 2.303640842437744, 4.032921314239502, 2.474388837814331, 4.211525917053223, 2.1952452659606934, 4.0618414878845215, 2.499119520187378, 55.920257568359375, 2.7931666374206543, 2.1482784748077393, 2.1777615547180176, 8.13161563873291, 2.0071654319763184, 2.530698299407959, 1.8870755434036255, 1.6983267068862915, 2.2094242572784424, 2.6772336959838867, 2.833902359008789, 1.650045394897461, 4.595158100128174, 1.6508283615112305, 2.7033066749572754, 2.639904737472534, 2.377138376235962, 1.562772512435913, 1.5573725700378418, 2.451789140701294, 14.924790382385254, 3.7255184650421143, 49.441749572753906, 4.249396800994873, 39.626739501953125, 41.75275802612305, 3.8206937313079834, 7.110357284545898, 3.5242364406585693, 19.41686248779297, 19.87204933166504, 14.867081642150879, 13.210234642028809, 26.375015258789062, 7.100770473480225, 6.233581066131592, 15.697322845458984, 15.522403717041016, 14.576888084411621, 9.090706825256348, 19.049697875976562, 11.380375862121582, 8.220475196838379, 9.828520774841309, 18.19548797607422, 13.655832290649414, 13.042613983154297, 10.900026321411133, 12.028998374938965, 13.25103759765625, 9.271939277648926, 11.547825813293457, 12.797369956970215, 11.420635223388672, 10.964678764343262, 11.069607734680176, 10.161199569702148, 10.787920951843262, 10.372591972351074, 10.248260498046875, 5.153632164001465, 5.064642429351807, 4.185363292694092, 3.046342372894287, 3.41066837310791, 3.994791030883789, 3.991934299468994, 2.5544464588165283, 1.7439402341842651, 2.3365020751953125, 5.100000381469727, 1.7155195474624634, 3.702340602874756, 2.2954280376434326, 1.8178836107254028, 2.5473010540008545, 1.7331128120422363, 1.747305154800415, 9.011911392211914, 2.01359224319458, 2.150205135345459, 1.6730598211288452, 4.632442474365234, 1.4661792516708374, 1.6167545318603516, 1.7060227394104004, 1.7514017820358276, 2.338395357131958, 2.6553449630737305, 8.802233695983887, 2.5946757793426514, 20.433618545532227, 26.12320899963379, 5.8024582862854, 13.311711311340332, 6.849961280822754, 5.054268836975098, 9.044498443603516, 7.395359992980957, 9.897578239440918, 12.781826972961426, 7.196228504180908, 6.763082027435303, 8.321749687194824, 6.6401753425598145, 18.99828338623047, 29.912004470825195, 7.078864097595215, 15.389284133911133, 11.94838809967041, 21.421228408813477, 11.410664558410645, 15.841650009155273, 8.838911056518555, 11.803231239318848, 11.471256256103516, 11.124836921691895, 10.099035263061523, 12.37928581237793, 10.849896430969238, 12.150914192199707, 8.589829444885254, 10.683762550354004, 8.728681564331055, 9.41756820678711, 8.353611946105957, 8.364654541015625, 8.953502655029297, 9.230755805969238, 9.13290786743164, 9.526044845581055, 8.963319778442383, 8.886569023132324, 8.88274097442627, 39.77313995361328, 7.253812313079834, 51.14469528198242, 4.028440475463867, 15.85629653930664, 10.01319694519043, 3.1497275829315186, 4.080402851104736, 4.209283351898193, 4.378049850463867, 2.4274299144744873, 2.567537546157837, 50.929683685302734, 5.813860893249512, 2.1777334213256836, 1.7444747686386108, 13.066526412963867, 2.7551655769348145, 1.767383098602295, 4.095893383026123, 34.59431076049805, 4.693187713623047, 1.7592812776565552, 2.3473381996154785, 2.1896703243255615, 2.1620049476623535, 2.23144268989563, 3.2217864990234375, 1.4921950101852417, 4.33406400680542, 16.929738998413086, 3.288483142852783, 11.973017692565918, 7.142139434814453, 5.778700828552246, 8.318629264831543, 4.512637138366699, 4.8185834884643555, 6.46567964553833, 6.72231388092041, 8.60534954071045, 6.213352680206299, 8.322357177734375, 4.773645401000977, 13.294955253601074, 15.78760051727295, 14.688502311706543, 15.517855644226074, 10.651899337768555, 6.298272132873535, 12.564179420471191, 10.248459815979004, 10.066068649291992, 8.545968055725098, 6.888879776000977, 8.577190399169922, 8.531353950500488, 8.908677101135254, 8.296977996826172, 7.460063934326172, 8.660637855529785, 8.405407905578613, 7.1888556480407715, 6.2952141761779785, 2.223233938217163, 7.858450412750244, 2.210649013519287, 2.2168209552764893, 1.9012131690979004, 19.418527603149414, 1.483408808708191, 4.200038909912109, 1.6947388648986816, 7.432176113128662, 2.4290060997009277, 1.5139023065567017, 1.6016457080841064, 1.638447880744934, 1.5732108354568481, 2.2647178173065186, 22.442447662353516, 5.93082857131958, 1.5468155145645142, 1.2983816862106323, 6.506756782531738, 1.5845340490341187, 1.5943597555160522, 1.5856893062591553, 7.299185276031494, 1.1111396551132202, 1.2079401016235352, 1.473858118057251, 1.247489094734192, 5.97195291519165, 8.662590980529785, 5.520595550537109, 8.963223457336426, 6.442530632019043, 24.63665199279785, 9.749210357666016, 7.36407995223999, 17.61748695373535, 15.9951753616333, 7.778732776641846, 8.29793643951416, 8.335380554199219, 12.644487380981445, 11.467757225036621, 6.413184642791748, 8.369786262512207, 11.662667274475098, 5.942285060882568, 8.98172378540039, 7.561482906341553, 6.247712135314941, 6.696284294128418, 6.278189659118652, 6.147572040557861, 1.2442599534988403, 3.3501317501068115, 1.2337137460708618, 1.7868924140930176, 0.643135130405426, 0.6361815929412842, 0.5981771349906921, 0.6204161047935486, 0.6391357183456421, 0.5721829533576965, 0.6293066143989563, 0.6539175510406494, 0.625993549823761, 0.645592212677002, 0.6046135425567627, 0.6416438817977905, 0.59785395860672, 0.9350690841674805, 0.6444077491760254, 0.6362734436988831, 0.631162166595459, 0.6316697001457214, 0.6238577961921692, 0.6507832407951355, 0.6233987808227539, 0.6296665668487549, 1.0227967500686646, 0.6414592266082764, 0.6289340257644653, 0.6395187377929688, 6.031404972076416, 1.5397708415985107, 3.6370928287506104, 2.6628739833831787, 1.2395211458206177, 3.026709794998169, 2.284964084625244, 4.509012222290039, 1.7860642671585083, 1.2289947271347046, 1.2117317914962769, 1.684524655342102, 1.844170093536377, 3.18064022064209, 1.1788532733917236, 2.458789348602295, 1.235806941986084, 2.261181116104126, 2.5344789028167725, 1.1441301107406616, 1.2198964357376099, 1.2674999237060547, 1.2364047765731812, 1.7266809940338135, 2.2144200801849365, 2.513259172439575, 1.845165491104126, 2.7009565830230713, 2.5746617317199707, 1.9136574268341064, 1.753260612487793, 1.7452999353408813, 2.7019522190093994, 2.6116373538970947, 2.021972179412842, 1.8801896572113037, 2.2438902854919434, 2.083710193634033, 2.214625835418701, 1.9014602899551392, 1.7685296535491943, 1.7728735208511353, 1.0908933877944946, 0.5607292056083679, 0.5582687258720398, 0.5595499277114868, 0.5581845641136169, 0.560366690158844, 0.5605940818786621, 0.559152364730835, 0.5593467354774475, 0.5587732195854187, 0.5607330799102783, 0.5606126189231873, 0.5588306188583374, 0.5591258406639099, 0.560034990310669, 0.5592686533927917, 0.5652332305908203, 0.5608639121055603, 5.320004463195801, 0.5607194304466248, 0.5609266757965088, 0.5724579691886902, 0.5746272802352905, 0.5607984066009521, 0.5617136359214783, 0.5597445368766785, 1.0875365734100342, 0.5610160827636719, 1.084244966506958, 0.5583205223083496, 1.08540940284729, 2.6692352294921875, 2.1628894805908203, 2.15401029586792, 1.6201999187469482, 1.618137240409851, 1.6242895126342773, 1.613701343536377, 2.2219130992889404, 1.6283646821975708, 1.6341999769210815, 1.0961107015609741, 1.0909863710403442, 1.088828444480896, 1.6475515365600586, 2.1905786991119385, 1.6337833404541016, 1.0899752378463745, 1.0949454307556152, 1.6539839506149292, 1.6375224590301514, 1.0947668552398682, 1.1000889539718628, 1.6844078302383423, 1.7807079553604126, 1.0994046926498413, 1.1357381343841553, 1.2164100408554077, 1.1634109020233154, 1.1575274467468262, 1.1573171615600586, 1.1570688486099243, 1.1424298286437988, 1.1480003595352173, 1.1600022315979004, 1.1456128358840942, 1.137496829032898, 1.1423470973968506], \"Term\": [\"emma\", \"elinor\", \"elizabeth\", \"harriet\", \"know\", \"like\", \"marianne\", \"little\", \"time\", \"sir\", \"jane\", \"darcy\", \"lady\", \"john\", \"thought\", \"good\", \"soon\", \"monsieur\", \"day\", \"think\", \"wickham\", \"sister\", \"came\", \"rochester\", \"saw\", \"edward\", \"father\", \"long\", \"house\", \"tell\", \"madame\", \"paulina\", \"beck\", \"snowe\", \"bassompierre\", \"ginevra\", \"professor\", \"fossette\", \"pelet\", \"rue\", \"rosine\", \"fete\", \"paul\", \"pensionnat\", \"marie\", \"classe\", \"zoraide\", \"pierre\", \"alley\", \"bretton\", \"godmother\", \"emanuel\", \"villette\", \"fanshawe\", \"cholmondeley\", \"graham\", \"catholic\", \"crecy\", \"victor\", \"estrade\", \"dr\", \"hunsden\", \"pere\", \"vous\", \"pupils\", \"est\", \"ce\", \"polly\", \"que\", \"bien\", \"frances\", \"la\", \"je\", \"monsieur\", \"desk\", \"english\", \"french\", \"like\", \"crimsworth\", \"eye\", \"little\", \"hand\", \"thought\", \"work\", \"garden\", \"eyes\", \"night\", \"white\", \"old\", \"heart\", \"day\", \"long\", \"good\", \"know\", \"life\", \"face\", \"knew\", \"look\", \"took\", \"looked\", \"time\", \"saw\", \"door\", \"think\", \"man\", \"come\", \"half\", \"came\", \"room\", \"brighton\", \"norland\", \"expenses\", \"wickham\", \"forster\", \"gardiner\", \"regiment\", \"uncommonly\", \"pounds\", \"abilities\", \"lydia\", \"secrecy\", \"imprudence\", \"income\", \"imprudent\", \"steeles\", \"endeavours\", \"engrossed\", \"pursuits\", \"indebted\", \"abhorrence\", \"disgrace\", \"officers\", \"scotland\", \"unfortunate\", \"attributed\", \"eligible\", \"objections\", \"tempt\", \"pemberley\", \"partiality\", \"thousand\", \"affectionate\", \"ferrars\", \"lizzy\", \"dashwood\", \"uncle\", \"darcy\", \"sister\", \"behaviour\", \"elizabeth\", \"edward\", \"family\", \"brother\", \"fortune\", \"mother\", \"cottage\", \"replied\", \"regard\", \"elinor\", \"opinion\", \"colonel\", \"know\", \"man\", \"affection\", \"think\", \"believe\", \"marianne\", \"good\", \"shall\", \"dear\", \"father\", \"soon\", \"house\", \"time\", \"jane\", \"young\", \"great\", \"little\", \"sure\", \"hope\", \"thought\", \"day\", \"love\", \"dixon\", \"campbell\", \"bates\", \"cole\", \"maple\", \"campbells\", \"coles\", \"weymouth\", \"taylor\", \"weston\", \"perry\", \"churchill\", \"brunswick\", \"westons\", \"enscombe\", \"randalls\", \"frank\", \"eltons\", \"donwell\", \"woodhouse\", \"isabella\", \"abbey\", \"knightley\", \"hartfield\", \"highbury\", \"emma\", \"vicarage\", \"grove\", \"surprized\", \"elton\", \"fairfax\", \"body\", \"thing\", \"goddard\", \"extremely\", \"dear\", \"jane\", \"harriet\", \"father\", \"oh\", \"think\", \"great\", \"know\", \"sure\", \"little\", \"good\", \"poor\", \"shall\", \"time\", \"soon\", \"come\", \"like\", \"day\", \"thought\", \"young\", \"bessie\", \"eshton\", \"dent\", \"reed\", \"lynn\", \"missis\", \"helen\", \"gateshead\", \"brocklehurst\", \"leah\", \"sophie\", \"burns\", \"frock\", \"temple\", \"storey\", \"ingram\", \"basin\", \"dimly\", \"lowood\", \"tray\", \"eyre\", \"bounded\", \"gale\", \"porter\", \"burnt\", \"candle\", \"pilot\", \"curtains\", \"stillness\", \"hay\", \"rochester\", \"millcote\", \"curtain\", \"adele\", \"thornfield\", \"cloak\", \"nurse\", \"hall\", \"mama\", \"moon\", \"georgiana\", \"water\", \"room\", \"door\", \"master\", \"night\", \"dark\", \"fairfax\", \"black\", \"face\", \"jane\", \"heard\", \"looked\", \"bed\", \"like\", \"come\", \"near\", \"long\", \"little\", \"eyes\", \"came\", \"asked\", \"house\", \"went\", \"yes\", \"day\", \"thought\", \"shall\", \"saw\", \"time\", \"sir\", \"hand\", \"good\", \"palmer\", \"cleveland\", \"jennings\", \"berkeley\", \"combe\", \"dashwoods\", \"brandon\", \"delaford\", \"willoughby\", \"harley\", \"monstrous\", \"middletons\", \"middleton\", \"marianne\", \"tomorrow\", \"barton\", \"allenham\", \"elinor\", \"recovery\", \"lessen\", \"devonshire\", \"unhappiness\", \"dashwood\", \"colonel\", \"appointment\", \"buildings\", \"sorrows\", \"bond\", \"release\", \"earliest\", \"sister\", \"town\", \"fanny\", \"steele\", \"street\", \"edward\", \"mother\", \"ferrars\", \"lucy\", \"immediately\", \"visit\", \"time\", \"spirits\", \"soon\", \"thing\", \"morning\", \"lady\", \"day\", \"room\", \"know\", \"away\", \"think\", \"dear\", \"john\", \"come\", \"great\", \"good\", \"saw\", \"lucas\", \"hunsford\", \"collins\", \"bingley\", \"hurst\", \"catherine\", \"rosings\", \"lucases\", \"bennet\", \"bourgh\", \"charlotte\", \"netherfield\", \"caroline\", \"meryton\", \"longbourn\", \"elizabeth\", \"saturday\", \"darcy\", \"patroness\", \"maria\", \"hertfordshire\", \"derbyshire\", \"judgement\", \"fitzwilliam\", \"kitty\", \"kent\", \"officer\", \"condescension\", \"insist\", \"dances\", \"ladyship\", \"cousin\", \"eliza\", \"lizzy\", \"report\", \"ball\", \"daughters\", \"lady\", \"william\", \"jane\", \"lydia\", \"friend\", \"family\", \"sisters\", \"soon\", \"ladies\", \"pleasure\", \"way\", \"room\", \"time\", \"sister\", \"letter\", \"little\", \"day\", \"think\", \"great\", \"good\", \"young\", \"dear\", \"away\", \"shall\", \"know\", \"martin\", \"harriet\", \"connexion\", \"smith\", \"presumption\", \"intelligible\", \"resent\", \"blunders\", \"claims\", \"surprize\", \"stopt\", \"upright\", \"deserve\", \"regretted\", \"parcel\", \"spoiled\", \"humiliation\", \"recommending\", \"robert\", \"goddard\", \"penance\", \"quickness\", \"elton\", \"belong\", \"acquit\", \"concealment\", \"intimacy\", \"flutter\", \"alliance\", \"surprized\", \"emma\", \"encouragement\", \"superior\", \"knightley\", \"highbury\", \"attached\", \"hartfield\", \"woodhouse\", \"ought\", \"friend\", \"court\", \"man\", \"attachment\", \"woman\", \"equal\", \"good\", \"think\", \"doubt\", \"mind\", \"thing\", \"sense\", \"thought\", \"feelings\", \"having\", \"young\", \"little\", \"right\", \"hope\", \"great\", \"better\", \"time\", \"know\", \"weston\", \"soon\", \"janet\", \"humph\", \"resident\", \"obey\", \"relatives\", \"farthest\", \"india\", \"ireland\", \"italian\", \"impart\", \"adele\", \"sir\", \"featured\", \"rumour\", \"suits\", \"owing\", \"grasp\", \"term\", \"blunder\", \"abrupt\", \"thornfield\", \"destitute\", \"piquant\", \"dismiss\", \"consistent\", \"inevitably\", \"pilot\", \"toil\", \"helped\", \"remorse\", \"list\", \"rochester\", \"flesh\", \"bliss\", \"principles\", \"ll\", \"unconscious\", \"veil\", \"eyre\", \"jane\", \"truly\", \"dream\", \"weary\", \"bride\", \"love\", \"face\", \"yes\", \"like\", \"home\", \"shall\", \"master\", \"marry\", \"talk\", \"hand\", \"little\", \"smile\", \"fairfax\", \"heart\", \"good\", \"think\", \"thought\", \"leave\", \"wish\", \"know\", \"life\", \"look\", \"time\", \"come\", \"away\", \"long\", \"saw\", \"hannah\", \"diana\", \"obstacles\", \"greek\", \"ye\", \"kill\", \"hardened\", \"india\", \"lightly\", \"st\", \"convincing\", \"morton\", \"stream\", \"sobs\", \"dignified\", \"marsh\", \"th\", \"signify\", \"meditation\", \"blast\", \"attempting\", \"brass\", \"wrung\", \"unprincipled\", \"inflicted\", \"impropriety\", \"milk\", \"severely\", \"notes\", \"condemned\", \"river\", \"mary\", \"lock\", \"fortitude\", \"john\", \"tenderness\", \"letter\", \"felt\", \"tell\", \"moment\", \"speak\", \"language\", \"letters\", \"voice\", \"sisters\", \"answered\", \"returned\", \"saw\", \"present\", \"read\", \"hand\", \"time\", \"like\", \"good\", \"turned\", \"little\", \"words\", \"eye\", \"heart\", \"way\", \"mind\", \"room\", \"man\", \"long\", \"soon\", \"think\", \"night\", \"looked\", \"mason\", \"margaret\", \"spanish\", \"relatives\", \"submission\", \"hideous\", \"devil\", \"knife\", \"picturesque\", \"acknowledging\", \"edward\", \"spreading\", \"guilty\", \"defy\", \"mad\", \"betraying\", \"ruined\", \"snug\", \"err\", \"regretted\", \"measures\", \"mentioning\", \"steep\", \"farewell\", \"recognition\", \"spirited\", \"crime\", \"guided\", \"compact\", \"twisted\", \"atmosphere\", \"ferrars\", \"falsehood\", \"sir\", \"calmly\", \"marianne\", \"elinor\", \"poole\", \"existence\", \"ye\", \"rochester\", \"lucy\", \"wife\", \"married\", \"jane\", \"danger\", \"law\", \"sister\", \"look\", \"moment\", \"god\", \"think\", \"feel\", \"hair\", \"continued\", \"know\", \"saw\", \"looked\", \"woman\", \"felt\", \"soon\", \"years\", \"thing\", \"like\", \"shall\", \"come\", \"time\", \"mother\", \"little\", \"day\", \"good\", \"missionary\", \"india\", \"indian\", \"listener\", \"studies\", \"traced\", \"adopted\", \"profound\", \"obstacles\", \"altar\", \"theme\", \"shaped\", \"perform\", \"novel\", \"joyous\", \"monday\", \"heroic\", \"aged\", \"governess\", \"committed\", \"frantic\", \"energies\", \"accompany\", \"requires\", \"friendless\", \"insupportable\", \"bottle\", \"accents\", \"rules\", \"diana\", \"rock\", \"school\", \"rochester\", \"task\", \"st\", \"study\", \"tale\", \"ma\", \"seek\", \"mary\", \"god\", \"servants\", \"et\", \"england\", \"justice\", \"john\", \"know\", \"grave\", \"life\", \"course\", \"time\", \"words\", \"long\", \"live\", \"hand\", \"mind\", \"love\", \"hear\", \"man\", \"yes\", \"day\", \"monsieur\", \"soon\", \"want\", \"took\", \"wife\", \"point\", \"left\", \"house\", \"looked\", \"think\", \"saw\", \"like\", \"little\", \"henri\", \"belgium\", \"mdlle\", \"flemish\", \"directress\", \"brussels\", \"packet\", \"traveller\", \"flat\", \"capacity\", \"nineteen\", \"rapture\", \"monsieur\", \"farewell\", \"dismiss\", \"reviving\", \"reuter\", \"instruction\", \"hang\", \"elle\", \"english\", \"purse\", \"officious\", \"advantageous\", \"azure\", \"stepping\", \"discharge\", \"sink\", \"wrung\", \"midnight\", \"mademoiselle\", \"francs\", \"pupil\", \"lace\", \"clouds\", \"narrow\", \"departed\", \"afford\", \"lessons\", \"teacher\", \"address\", \"goodness\", \"frances\", \"attend\", \"life\", \"like\", \"time\", \"little\", \"wish\", \"sun\", \"thought\", \"saw\", \"house\", \"word\", \"probably\", \"mind\", \"yes\", \"long\", \"hand\", \"days\", \"good\", \"know\", \"looked\", \"maria\", \"including\", \"bourgh\", \"proprietor\", \"nieces\", \"cupboard\", \"catherine\", \"prosperous\", \"phillips\", \"disapprobation\", \"ladyship\", \"impertinence\", \"speeches\", \"employments\", \"condescension\", \"loudly\", \"grandeur\", \"collins\", \"rosings\", \"contemplation\", \"maids\", \"rivers\", \"letting\", \"furnish\", \"rained\", \"diana\", \"persuading\", \"patroness\", \"quest\", \"accidentally\", \"governess\", \"william\", \"younger\", \"charlotte\", \"invitation\", \"lady\", \"st\", \"mary\", \"elizabeth\", \"sir\", \"sisters\", \"ladies\", \"daughter\", \"john\", \"room\", \"party\", \"father\", \"little\", \"table\", \"day\", \"soon\", \"home\", \"come\", \"young\", \"mother\", \"scorned\", \"burns\", \"patiently\", \"moor\", \"hardened\", \"carelessly\", \"attained\", \"confounded\", \"quarrelling\", \"inflicted\", \"gem\", \"burn\", \"vengeance\", \"cheering\", \"fires\", \"communicating\", \"appearances\", \"austere\", \"coin\", \"impulses\", \"torment\", \"conscientious\", \"disapprobation\", \"scotland\", \"nieces\", \"speculation\", \"torture\", \"warmer\", \"rights\", \"kindred\", \"thousand\", \"christian\", \"justice\", \"diana\", \"offended\", \"pounds\", \"severe\", \"sisters\", \"conscience\", \"repeat\", \"acting\", \"cruel\", \"fully\", \"marry\", \"forms\", \"consider\", \"benefit\", \"forget\", \"bear\", \"gently\", \"worthy\", \"selfish\", \"regarded\", \"mere\", \"matter\", \"want\", \"mary\", \"home\", \"tell\", \"usual\", \"spirit\", \"st\", \"know\", \"like\", \"feelings\", \"brother\", \"jane\", \"love\", \"good\", \"leave\", \"case\", \"john\", \"confessed\", \"remedy\", \"obstinate\", \"benefited\", \"accused\", \"reduced\", \"effectually\", \"imputed\", \"disapprobation\", \"consequences\", \"letting\", \"resolving\", \"collect\", \"insisted\", \"monday\", \"maintained\", \"discussed\", \"repeatedly\", \"wickham\", \"debts\", \"betray\", \"pressing\", \"consult\", \"commission\", \"owing\", \"flight\", \"quit\", \"disgrace\", \"motive\", \"lodgings\", \"readily\", \"uncle\", \"lydia\", \"town\", \"street\", \"situation\", \"marriage\", \"settled\", \"darcy\", \"able\", \"wanted\", \"length\", \"receive\", \"gardiner\", \"character\", \"came\", \"called\", \"acquainted\", \"forced\", \"father\", \"sure\", \"times\", \"step\", \"soon\", \"time\", \"met\", \"days\", \"day\", \"speak\", \"went\", \"morning\", \"saw\", \"sister\", \"great\", \"know\", \"house\", \"lady\", \"thought\"], \"Total\": [849.0, 682.0, 654.0, 518.0, 1432.0, 1337.0, 563.0, 1733.0, 1319.0, 585.0, 932.0, 422.0, 625.0, 619.0, 1147.0, 1359.0, 927.0, 276.0, 1066.0, 1314.0, 185.0, 588.0, 695.0, 358.0, 779.0, 302.0, 508.0, 945.0, 757.0, 539.0, 413.60711669921875, 84.47113800048828, 166.90716552734375, 60.584617614746094, 75.50853729248047, 112.14533996582031, 65.51302337646484, 50.61692428588867, 110.17730712890625, 74.40825653076172, 36.694435119628906, 34.69198989868164, 185.33331298828125, 36.68569564819336, 30.71172332763672, 64.41868591308594, 28.735803604125977, 31.698219299316406, 28.736431121826172, 243.13072204589844, 30.728309631347656, 108.90277099609375, 54.445655822753906, 87.08927917480469, 23.758533477783203, 225.32765197753906, 21.767135620117188, 21.767717361450195, 23.765573501586914, 38.602745056152344, 236.7290802001953, 150.6027069091797, 40.53633499145508, 118.66923522949219, 156.8076934814453, 110.81407928466797, 52.63264465332031, 80.13903045654297, 64.34030151367188, 48.350311279296875, 116.85035705566406, 106.90516662597656, 71.64453125, 276.0407409667969, 103.08940887451172, 226.56785583496094, 160.8400421142578, 1337.515625, 101.75687408447266, 400.593994140625, 1733.7857666015625, 619.3565063476562, 1147.791748046875, 257.7563781738281, 177.38938903808594, 644.0944213867188, 630.1408081054688, 239.0452423095703, 484.5687255859375, 655.6895141601562, 1066.4051513671875, 945.25, 1359.630126953125, 1432.188232421875, 582.4432983398438, 503.5657958984375, 546.904296875, 643.6210327148438, 499.91815185546875, 703.9171142578125, 1319.930419921875, 779.4423217773438, 544.4811401367188, 1314.4952392578125, 907.3861694335938, 839.5678100585938, 596.32080078125, 695.7094116210938, 900.1626586914062, 24.154085159301758, 51.93636703491211, 13.480828285217285, 185.35194396972656, 39.152217864990234, 92.49971008300781, 25.743623733520508, 15.572434425354004, 97.47236633300781, 19.414138793945312, 168.46287536621094, 27.689380645751953, 23.3864803314209, 50.53927993774414, 23.248790740966797, 30.42707061767578, 14.289146423339844, 10.56505298614502, 13.531777381896973, 15.279057502746582, 12.651007652282715, 22.69050407409668, 32.64712142944336, 13.024718284606934, 38.476959228515625, 15.288583755493164, 21.185548782348633, 25.188743591308594, 17.240615844726562, 53.57295227050781, 33.23246765136719, 134.14593505859375, 53.87214660644531, 125.93997955322266, 97.92037963867188, 250.43222045898438, 150.46107482910156, 422.1247863769531, 588.66162109375, 145.71583557128906, 654.69482421875, 302.3218994140625, 382.0958251953125, 284.1028747558594, 170.64706420898438, 670.612548828125, 84.24822998046875, 348.455078125, 189.03248596191406, 682.2493896484375, 257.4400634765625, 310.4861145019531, 1432.188232421875, 907.3861694335938, 262.2041931152344, 1314.4952392578125, 458.16107177734375, 563.0419311523438, 1359.630126953125, 928.0639038085938, 593.1533813476562, 508.73687744140625, 927.4900512695312, 757.1874389648438, 1319.930419921875, 932.746826171875, 668.2042236328125, 829.0272216796875, 1733.7857666015625, 617.88525390625, 510.6304626464844, 1147.791748046875, 1066.4051513671875, 567.6537475585938, 43.906707763671875, 50.754600524902344, 148.62742614746094, 60.54302978515625, 31.18773078918457, 26.30251121520996, 17.50330352783203, 18.48560333251953, 49.804141998291016, 431.5746765136719, 79.176025390625, 220.19296264648438, 11.636674880981445, 11.644001960754395, 36.14313507080078, 89.06200408935547, 234.70620727539062, 22.440113067626953, 48.912654876708984, 307.8180847167969, 68.5414047241211, 31.277551651000977, 382.4950256347656, 157.8462371826172, 123.53656768798828, 849.7821655273438, 17.55488395690918, 40.2635498046875, 32.30519485473633, 380.02587890625, 373.59393310546875, 276.54681396484375, 787.8532104492188, 58.85775375366211, 102.08745574951172, 593.1533813476562, 932.746826171875, 518.4700927734375, 508.73687744140625, 560.4104614257812, 1314.4952392578125, 829.0272216796875, 1432.188232421875, 617.88525390625, 1733.7857666015625, 1359.630126953125, 393.1142272949219, 928.0639038085938, 1319.930419921875, 927.4900512695312, 839.5678100585938, 1337.515625, 1066.4051513671875, 1147.791748046875, 668.2042236328125, 134.534423828125, 30.462446212768555, 30.46150016784668, 133.27296447753906, 21.2839412689209, 21.290754318237305, 64.70272827148438, 44.46912384033203, 57.6446647644043, 28.052288055419922, 28.143611907958984, 31.300432205200195, 15.058753967285156, 76.54395294189453, 17.942445755004883, 90.36793518066406, 25.18737030029297, 12.023500442504883, 55.662567138671875, 23.134550094604492, 104.2967529296875, 11.012008666992188, 11.00113582611084, 13.13215160369873, 26.866857528686523, 64.76016998291016, 24.816146850585938, 27.65969467163086, 16.951030731201172, 24.922962188720703, 358.16253662109375, 29.438526153564453, 50.304161071777344, 136.3505859375, 98.3739013671875, 31.921802520751953, 58.31863784790039, 174.99183654785156, 50.66964340209961, 78.53128814697266, 61.701751708984375, 113.52240753173828, 900.1626586914062, 544.4811401367188, 205.55093383789062, 630.1408081054688, 233.0504913330078, 373.59393310546875, 185.22088623046875, 503.5657958984375, 932.746826171875, 629.9880981445312, 703.9171142578125, 226.61734008789062, 1337.515625, 839.5678100585938, 365.515869140625, 945.25, 1733.7857666015625, 644.0944213867188, 695.7094116210938, 399.8769226074219, 757.1874389648438, 502.4441223144531, 597.361328125, 1066.4051513671875, 1147.791748046875, 928.0639038085938, 779.4423217773438, 1319.930419921875, 585.242919921875, 619.3565063476562, 1359.630126953125, 80.55165100097656, 28.821666717529297, 236.009033203125, 18.0467529296875, 17.102920532226562, 37.52455520629883, 147.64576721191406, 31.36571502685547, 219.49203491210938, 16.930246353149414, 16.15106964111328, 20.134233474731445, 103.43418884277344, 563.0419311523438, 18.0397891998291, 89.7899169921875, 19.07252311706543, 682.2493896484375, 14.861248970031738, 15.938194274902344, 26.456340789794922, 11.821696281433105, 250.43222045898438, 310.4861145019531, 12.011469841003418, 12.006017684936523, 11.713872909545898, 12.756779670715332, 12.059819221496582, 14.170853614807129, 588.66162109375, 240.02944946289062, 47.97304916381836, 38.216392517089844, 146.52069091796875, 302.3218994140625, 670.612548828125, 125.93997955322266, 375.14434814453125, 247.6277618408203, 245.45669555664062, 1319.930419921875, 230.53834533691406, 927.4900512695312, 787.8532104492188, 518.2938232421875, 625.7726440429688, 1066.4051513671875, 900.1626586914062, 1432.188232421875, 687.4214477539062, 1314.4952392578125, 593.1533813476562, 619.9983520507812, 839.5678100585938, 829.0272216796875, 1359.630126953125, 779.4423217773438, 74.76028442382812, 27.040618896484375, 183.5045623779297, 321.5587158203125, 38.598976135253906, 131.26771545410156, 50.379234313964844, 15.50471019744873, 333.7991943359375, 39.04197311401367, 116.41883850097656, 76.1424789428711, 26.608261108398438, 59.10260772705078, 90.08976745605469, 654.69482421875, 26.89336585998535, 422.1247863769531, 11.79737663269043, 23.7763614654541, 42.66032409667969, 24.788902282714844, 11.90194034576416, 37.421600341796875, 75.965087890625, 15.090368270874023, 15.17394733428955, 12.619704246520996, 18.31491470336914, 20.150341033935547, 54.50990295410156, 94.0463638305664, 62.531402587890625, 97.92037963867188, 42.289031982421875, 90.8442153930664, 109.3408432006836, 625.7726440429688, 88.27892303466797, 932.746826171875, 168.46287536621094, 441.7240295410156, 382.0958251953125, 183.87643432617188, 927.4900512695312, 269.3485412597656, 454.2894592285156, 696.2457275390625, 900.1626586914062, 1319.930419921875, 588.66162109375, 426.31304931640625, 1733.7857666015625, 1066.4051513671875, 1314.4952392578125, 829.0272216796875, 1359.630126953125, 668.2042236328125, 593.1533813476562, 687.4214477539062, 928.0639038085938, 1432.188232421875, 85.09232330322266, 518.4700927734375, 20.58579444885254, 115.0259780883789, 15.74123477935791, 20.317031860351562, 11.90114974975586, 11.784860610961914, 39.452430725097656, 37.26551818847656, 15.80775260925293, 12.793421745300293, 43.8089714050293, 14.69343090057373, 15.770723342895508, 11.700477600097656, 12.69587230682373, 11.68748664855957, 78.42796325683594, 58.85775375366211, 10.726755142211914, 17.637107849121094, 380.02587890625, 23.633403778076172, 12.875102043151855, 22.558473587036133, 49.2515754699707, 15.726436614990234, 16.630416870117188, 32.30519485473633, 849.7821655273438, 50.28748321533203, 112.9061050415039, 382.4950256347656, 123.53656768798828, 62.533111572265625, 157.8462371826172, 307.8180847167969, 272.6786804199219, 441.7240295410156, 39.57878494262695, 907.3861694335938, 122.68096160888672, 473.98968505859375, 138.59254455566406, 1359.630126953125, 1314.4952392578125, 316.47161865234375, 573.4656982421875, 787.8532104492188, 279.1322937011719, 1147.791748046875, 381.1538391113281, 544.8089599609375, 668.2042236328125, 1733.7857666015625, 362.225830078125, 510.6304626464844, 829.0272216796875, 617.871337890625, 1319.930419921875, 1432.188232421875, 431.5746765136719, 927.4900512695312, 19.87312126159668, 11.375899314880371, 10.350518226623535, 13.21424388885498, 10.148242950439453, 12.49630069732666, 19.806001663208008, 22.083545684814453, 12.59536075592041, 10.67101001739502, 136.3505859375, 585.242919921875, 11.746468544006348, 11.417811393737793, 14.408756256103516, 20.95955467224121, 20.003175735473633, 14.467161178588867, 14.49366283416748, 20.980796813964844, 98.3739013671875, 10.731563568115234, 10.553483009338379, 12.251643180847168, 15.410707473754883, 13.486124038696289, 24.816146850585938, 11.422372817993164, 27.52081298828125, 15.148649215698242, 15.464954376220703, 358.16253662109375, 50.27198028564453, 25.275869369506836, 29.325464248657227, 149.8019256591797, 31.329269409179688, 39.36973571777344, 104.2967529296875, 932.746826171875, 72.65463256835938, 75.04649353027344, 51.506614685058594, 45.74365234375, 567.6537475585938, 503.5657958984375, 597.361328125, 1337.515625, 492.1420593261719, 928.0639038085938, 205.55093383789062, 203.15872192382812, 267.7391357421875, 619.3565063476562, 1733.7857666015625, 261.1947937011719, 373.59393310546875, 655.6895141601562, 1359.630126953125, 1314.4952392578125, 1147.791748046875, 385.4140625, 521.0404052734375, 1432.188232421875, 582.4432983398438, 643.6210327148438, 1319.930419921875, 839.5678100585938, 687.4214477539062, 945.25, 779.4423217773438, 37.429603576660156, 66.77153015136719, 10.001084327697754, 12.292969703674316, 28.677324295043945, 13.211316108703613, 10.114914894104004, 19.806001663208008, 10.498870849609375, 185.76992797851562, 11.322670936584473, 40.32210922241211, 21.035457611083984, 11.564565658569336, 12.11330795288086, 13.132532119750977, 23.76858139038086, 23.490028381347656, 12.532745361328125, 11.434078216552734, 19.79928970336914, 13.48475170135498, 10.31533145904541, 10.512099266052246, 10.2637357711792, 15.300552368164062, 15.634637832641602, 12.297521591186523, 17.218833923339844, 11.45959758758545, 25.33957862854004, 146.9564666748047, 35.584251403808594, 23.23198890686035, 619.9983520507812, 49.57500457763672, 426.31304931640625, 668.196044921875, 539.5728759765625, 574.5524291992188, 445.2314453125, 119.63652801513672, 132.38063049316406, 395.37567138671875, 183.87643432617188, 219.87071228027344, 240.23117065429688, 779.4423217773438, 412.5295715332031, 319.6378479003906, 619.3565063476562, 1319.930419921875, 1337.515625, 1359.630126953125, 341.7143249511719, 1733.7857666015625, 342.1809997558594, 400.593994140625, 655.6895141601562, 696.2457275390625, 573.4656982421875, 900.1626586914062, 907.3861694335938, 945.25, 927.4900512695312, 1314.4952392578125, 630.1408081054688, 703.9171142578125, 54.657527923583984, 34.325748443603516, 11.237265586853027, 10.148242950439453, 19.34394645690918, 11.952293395996094, 20.72848129272461, 11.085653305053711, 20.521169662475586, 12.974214553833008, 302.3218994140625, 15.100757598876953, 11.970263481140137, 12.33252239227295, 46.5194091796875, 12.401432991027832, 16.075769424438477, 12.259598731994629, 11.290166854858398, 14.69343090057373, 18.055980682373047, 19.290210723876953, 11.248181343078613, 31.60267448425293, 11.45036506652832, 18.929885864257812, 18.830286026000977, 17.120349884033203, 11.434088706970215, 11.447339057922363, 18.027164459228516, 125.93997955322266, 28.928308486938477, 585.242919921875, 35.32823181152344, 563.0419311523438, 682.2493896484375, 31.680448532104492, 77.79312896728516, 28.677324295043945, 358.16253662109375, 375.14434814453125, 276.8030700683594, 240.2684783935547, 932.746826171875, 101.35111999511719, 88.79432678222656, 588.66162109375, 643.6210327148438, 574.5524291992188, 225.94850158691406, 1314.4952392578125, 400.89300537109375, 189.0855712890625, 291.7851257324219, 1432.188232421875, 779.4423217773438, 703.9171142578125, 473.98968505859375, 668.196044921875, 927.4900512695312, 316.1333312988281, 787.8532104492188, 1337.515625, 928.0639038085938, 839.5678100585938, 1319.930419921875, 670.612548828125, 1733.7857666015625, 1066.4051513671875, 1359.630126953125, 17.55381202697754, 19.806001663208008, 18.77790069580078, 14.148587226867676, 16.0007266998291, 20.15433692932129, 20.783832550048828, 14.261690139770508, 10.001084327697754, 14.140402793884277, 30.89630699157715, 10.550597190856934, 23.00765609741211, 14.287814140319824, 11.460079193115234, 16.296154022216797, 11.331306457519531, 11.526474952697754, 59.64555740356445, 13.435262680053711, 14.544132232666016, 11.404836654663086, 31.6283016204834, 10.147157669067383, 11.50070858001709, 12.257115364074707, 12.603273391723633, 17.378690719604492, 20.078205108642578, 66.77153015136719, 20.19223976135254, 245.89996337890625, 358.16253662109375, 60.09600830078125, 185.76992797851562, 77.02787780761719, 51.02128601074219, 121.32215118408203, 94.17718505859375, 146.9564666748047, 225.94850158691406, 94.51931762695312, 86.31269836425781, 126.5156021118164, 87.97368621826172, 619.9983520507812, 1432.188232421875, 113.9699935913086, 582.4432983398438, 348.8431701660156, 1319.930419921875, 342.1809997558594, 945.25, 213.3746795654297, 619.3565063476562, 573.4656982421875, 567.6537475585938, 409.8740539550781, 907.3861694335938, 597.361328125, 1066.4051513671875, 276.0407409667969, 927.4900512695312, 323.87353515625, 499.91815185546875, 276.8030700683594, 283.18548583984375, 539.8333740234375, 757.1874389648438, 703.9171142578125, 1314.4952392578125, 779.4423217773438, 1337.515625, 1733.7857666015625, 49.32761764526367, 14.67436408996582, 106.26976013183594, 11.192473411560059, 45.133026123046875, 36.02274703979492, 12.328393936157227, 16.266998291015625, 20.090381622314453, 21.436670303344727, 12.201171875, 13.367411613464355, 276.0407409667969, 31.60267448425293, 12.251643180847168, 10.294294357299805, 77.4523696899414, 16.94758415222168, 11.221376419067383, 26.131765365600586, 226.56785583496094, 30.8294620513916, 11.57188892364502, 15.627331733703613, 14.585965156555176, 14.53284740447998, 15.023128509521484, 22.05815887451172, 10.31533145904541, 30.029478073120117, 118.33395385742188, 23.10296058654785, 97.34960174560547, 55.92607116699219, 49.41056823730469, 80.23280334472656, 36.925514221191406, 42.26860046386719, 64.5145034790039, 72.61074829101562, 111.58158111572266, 69.41380310058594, 116.85035705566406, 48.63844299316406, 582.4432983398438, 1337.515625, 1319.930419921875, 1733.7857666015625, 521.0404052734375, 103.61112976074219, 1147.791748046875, 779.4423217773438, 757.1874389648438, 395.55767822265625, 162.32701110839844, 573.4656982421875, 597.361328125, 945.25, 619.3565063476562, 290.93994140625, 1359.630126953125, 1432.188232421875, 703.9171142578125, 23.7763614654541, 11.043862342834473, 39.04197311401367, 11.183629989624023, 12.707000732421875, 12.296916007995605, 131.26771545410156, 10.255402565002441, 30.59225082397461, 12.373542785644531, 54.50990295410156, 18.14286994934082, 11.424920082092285, 12.30256462097168, 12.619704246520996, 12.224934577941895, 18.030948638916016, 183.5045623779297, 50.379234313964844, 13.259161949157715, 11.165244102478027, 56.907196044921875, 13.88084888458252, 14.393162727355957, 14.349493026733398, 66.77153015136719, 10.303263664245605, 11.79737663269043, 14.487318992614746, 12.436792373657227, 59.64555740356445, 88.27892303466797, 55.833248138427734, 116.41883850097656, 98.91426086425781, 625.7726440429688, 185.76992797851562, 146.9564666748047, 654.69482421875, 585.242919921875, 183.87643432617188, 269.3485412597656, 273.8119812011719, 619.9983520507812, 900.1626586914062, 256.5483093261719, 508.73687744140625, 1733.7857666015625, 239.7227783203125, 1066.4051513671875, 927.4900512695312, 492.1420593261719, 839.5678100585938, 668.2042236328125, 670.612548828125, 11.014365196228027, 31.300432205200195, 12.039498329162598, 27.392282485961914, 10.114914894104004, 10.382559776306152, 10.024845123291016, 10.443120002746582, 11.41624927520752, 10.2637357711792, 11.314542770385742, 12.035283088684082, 11.542292594909668, 11.965126037597656, 11.387584686279297, 12.223981857299805, 11.395809173583984, 17.85883331298828, 12.403776168823242, 12.421810150146484, 12.349738121032715, 12.438015937805176, 12.373542785644531, 13.024718284606934, 12.707000732421875, 13.028828620910645, 21.185073852539062, 13.331117630004883, 13.334344863891602, 13.731696128845215, 134.14593505859375, 33.69774627685547, 87.97368621826172, 66.77153015136719, 29.02781867980957, 97.47236633300781, 71.45516967773438, 183.87643432617188, 55.15866470336914, 34.32809829711914, 33.605064392089844, 56.32384490966797, 65.66459655761719, 203.15872192382812, 36.35673141479492, 142.22698974609375, 41.06681442260742, 132.4379119873047, 181.34613037109375, 36.89118194580078, 45.975791931152344, 50.049739837646484, 49.32259750366211, 115.22603607177734, 217.86082458496094, 323.87353515625, 146.9564666748047, 492.1420593261719, 539.5728759765625, 210.2348175048828, 163.42686462402344, 185.76992797851562, 1432.188232421875, 1337.515625, 381.1538391113281, 284.1028747558594, 932.746826171875, 567.6537475585938, 1359.630126953125, 385.4140625, 203.35536193847656, 619.9983520507812, 15.895461082458496, 10.254602432250977, 10.332096099853516, 11.10152530670166, 11.268184661865234, 11.396952629089355, 11.98405647277832, 12.06679630279541, 12.373542785644531, 13.735456466674805, 13.88084888458252, 14.227728843688965, 14.402196884155273, 16.00124168395996, 16.296154022216797, 16.93601417541504, 17.33314323425293, 18.39908790588379, 185.35194396972656, 20.022369384765625, 20.149446487426758, 20.911212921142578, 21.337398529052734, 20.859477996826172, 20.95955467224121, 21.968612670898438, 43.04117965698242, 22.69050407409668, 44.426692962646484, 23.102611541748047, 48.87598419189453, 150.46107482910156, 168.46287536621094, 240.02944946289062, 146.52069091796875, 175.58860778808594, 182.33282470703125, 185.90892028808594, 422.1247863769531, 216.17361450195312, 236.2764434814453, 91.80046081542969, 91.82546997070312, 92.49971008300781, 292.1031494140625, 695.7094116210938, 305.5699768066406, 96.13655853271484, 117.8685531616211, 508.73687744140625, 617.88525390625, 159.6189727783203, 165.3385772705078, 927.4900512695312, 1319.930419921875, 191.4345245361328, 290.93994140625, 1066.4051513671875, 445.2314453125, 502.4441223144531, 518.2938232421875, 779.4423217773438, 588.66162109375, 829.0272216796875, 1432.188232421875, 757.1874389648438, 625.7726440429688, 1147.791748046875], \"loglift\": [30.0, 29.0, 28.0, 27.0, 26.0, 25.0, 24.0, 23.0, 22.0, 21.0, 20.0, 19.0, 18.0, 17.0, 16.0, 15.0, 14.0, 13.0, 12.0, 11.0, 10.0, 9.0, 8.0, 7.0, 6.0, 5.0, 4.0, 3.0, 2.0, 1.0, 1.0319000482559204, 1.0312000513076782, 1.0298000574111938, 1.0282000303268433, 1.0276999473571777, 1.023300051689148, 1.0226000547409058, 1.0220999717712402, 1.0216000080108643, 1.0198999643325806, 1.0183000564575195, 1.014799952507019, 1.014299988746643, 1.0140999555587769, 1.0116000175476074, 1.0103000402450562, 1.010200023651123, 1.009600043296814, 1.0094000101089478, 1.0091999769210815, 1.0082000494003296, 1.0078999996185303, 1.006500005722046, 1.0063999891281128, 1.0054999589920044, 1.0044000148773193, 1.0016000270843506, 0.9997000098228455, 0.9994000196456909, 0.9983999729156494, 0.9951000213623047, 0.996999979019165, 0.9970999956130981, 0.9742000102996826, 0.9498000144958496, 0.9593999981880188, 0.9847000241279602, 0.9621000289916992, 0.9710999727249146, 0.9835000038146973, 0.9193999767303467, 0.9129999876022339, 0.9462000131607056, 0.7627999782562256, 0.8837000131607056, 0.7603999972343445, 0.7875999808311462, 0.3345000147819519, 0.8707000017166138, 0.5569000244140625, 0.17980000376701355, 0.4117000102996826, 0.20990000665187836, 0.6273000240325928, 0.7271999716758728, 0.33970001339912415, 0.3425999879837036, 0.6283000111579895, 0.3853999972343445, 0.25519999861717224, 0.052299998700618744, 0.07000000029802322, -0.08259999752044678, -0.11739999800920486, 0.26030001044273376, 0.3050999939441681, 0.25920000672340393, 0.18080000579357147, 0.29350000619888306, 0.12210000306367874, -0.20000000298023224, 0.038600001484155655, 0.23579999804496765, -0.3571999967098236, -0.12349999696016312, -0.08560000360012054, 0.12250000238418579, -0.03680000081658363, -0.29330000281333923, 1.7716000080108643, 1.7352999448776245, 1.733299970626831, 1.6828999519348145, 1.649999976158142, 1.6024999618530273, 1.593000054359436, 1.5627000331878662, 1.5577000379562378, 1.5532000064849854, 1.5328999757766724, 1.4967000484466553, 1.4886000156402588, 1.4687000513076782, 1.4664000272750854, 1.4630999565124512, 1.4527000188827515, 1.4429999589920044, 1.4333000183105469, 1.4280999898910522, 1.4265999794006348, 1.4247000217437744, 1.4182000160217285, 1.416200041770935, 1.4079999923706055, 1.3991999626159668, 1.3896000385284424, 1.3878999948501587, 1.3845000267028809, 1.3825000524520874, 1.378999948501587, 1.3610999584197998, 1.3553999662399292, 1.31850004196167, 1.305299997329712, 1.145300030708313, 1.1852999925613403, 1.0678000450134277, 0.9984999895095825, 1.1660000085830688, 0.9559000134468079, 1.0638999938964844, 1.0298000574111938, 1.0573999881744385, 1.1354000568389893, 0.8269000053405762, 1.2346999645233154, 0.9158999919891357, 1.0104000568389893, 0.6686000227928162, 0.9146999716758728, 0.8323000073432922, 0.36169999837875366, 0.48989999294281006, 0.8579000234603882, 0.3077000081539154, 0.6434000134468079, 0.5604000091552734, 0.20669999718666077, 0.32690000534057617, 0.51910001039505, 0.5845999717712402, 0.29109999537467957, 0.3580999970436096, 0.06310000270605087, 0.18520000576972961, 0.3621000051498413, 0.21539999544620514, -0.2624000012874603, 0.37959998846054077, 0.4821999967098236, -0.23019999265670776, -0.19220000505447388, 0.38749998807907104, 1.957200050354004, 1.9556000232696533, 1.9502999782562256, 1.9494999647140503, 1.9443000555038452, 1.940000057220459, 1.9321000576019287, 1.9098000526428223, 1.9062999486923218, 1.8966000080108643, 1.8913999795913696, 1.8841999769210815, 1.878499984741211, 1.8596999645233154, 1.8336999416351318, 1.8224999904632568, 1.813599944114685, 1.7851999998092651, 1.784600019454956, 1.7700999975204468, 1.7647000551223755, 1.7563999891281128, 1.7422000169754028, 1.7345999479293823, 1.7122000455856323, 1.708400011062622, 1.6959999799728394, 1.6861000061035156, 1.6368000507354736, 1.6303000450134277, 1.4944000244140625, 1.461400032043457, 1.1502000093460083, 1.5871000289916992, 1.4693000316619873, 0.9821000099182129, 0.8571000099182129, 0.9420999884605408, 0.9120000004768372, 0.8015000224113464, 0.4724999964237213, 0.6388000249862671, 0.4196000099182129, 0.7354999780654907, 0.18160000443458557, 0.28870001435279846, 0.8425999879837036, 0.3824999928474426, 0.19179999828338623, 0.3564999997615814, 0.37389999628067017, -0.00039999998989515007, 0.08540000021457672, -0.020600000396370888, 0.39169999957084656, 2.114500045776367, 2.095900058746338, 2.094899892807007, 2.087100028991699, 2.083699941635132, 2.0836000442504883, 2.073699951171875, 2.0597000122070312, 2.0578999519348145, 2.015000104904175, 1.976199984550476, 1.9678000211715698, 1.950600028038025, 1.9456000328063965, 1.942199945449829, 1.9359999895095825, 1.905900001525879, 1.8960000276565552, 1.895799994468689, 1.8948999643325806, 1.8792999982833862, 1.8717999458312988, 1.858299970626831, 1.8575999736785889, 1.856600046157837, 1.8508000373840332, 1.8224999904632568, 1.8127000331878662, 1.8082000017166138, 1.8037999868392944, 1.7541999816894531, 1.795699954032898, 1.7547999620437622, 1.6735999584197998, 1.692199945449829, 1.7734999656677246, 1.6842000484466553, 1.5090999603271484, 1.6887999773025513, 1.5872999429702759, 1.6353000402450562, 1.4837000370025635, 0.8414000272750854, 0.9825000166893005, 1.2036999464035034, 0.8051000237464905, 1.1169999837875366, 0.9107999801635742, 1.1936999559402466, 0.7718999981880188, 0.4821000099182129, 0.6532999873161316, 0.5914000272750854, 1.0827000141143799, 0.2750000059604645, 0.4674000144004822, 0.8636000156402588, 0.3481000065803528, 0.01269999984651804, 0.5199999809265137, 0.4593000113964081, 0.7552000284194946, 0.35989999771118164, 0.6022999882698059, 0.4788999855518341, 0.07050000131130219, -0.016899999231100082, 0.13230000436306, 0.24660000205039978, -0.17640000581741333, 0.45489999651908875, 0.3995000123977661, -0.4668999910354614, 2.7356998920440674, 2.7149999141693115, 2.6222000122070312, 2.586699962615967, 2.563800096511841, 2.5046000480651855, 2.502500057220459, 2.492000102996826, 2.4186999797821045, 2.3703999519348145, 2.3605000972747803, 2.3475000858306885, 2.291300058364868, 2.285900115966797, 2.283099889755249, 2.2671000957489014, 2.265000104904175, 2.258699893951416, 2.0404999256134033, 2.0353000164031982, 2.0276999473571777, 2.0067999362945557, 1.9484000205993652, 1.931399941444397, 1.9185999631881714, 1.8668999671936035, 1.8453999757766724, 1.8349000215530396, 1.8329999446868896, 1.8177000284194946, 1.6437000036239624, 1.6049000024795532, 1.6972999572753906, 1.7107000350952148, 1.461899995803833, 1.2958999872207642, 1.009600043296814, 1.4210000038146973, 1.136299967765808, 1.1842999458312988, 1.1806000471115112, 0.5666000247001648, 1.1934000253677368, 0.6438999772071838, 0.65420001745224, 0.6823999881744385, 0.5824999809265137, 0.24609999358654022, 0.3310000002384186, 0.05429999902844429, 0.4691999852657318, 0.024900000542402267, 0.5504999756813049, 0.5059000253677368, 0.28619998693466187, 0.2750000059604645, -0.16220000386238098, 0.2508000135421753, 2.869999885559082, 2.8485000133514404, 2.829200029373169, 2.721400022506714, 2.7172000408172607, 2.6942999362945557, 2.6654000282287598, 2.6559998989105225, 2.55679988861084, 2.5302999019622803, 2.515199899673462, 2.484999895095825, 2.3710999488830566, 2.367000102996826, 2.360599994659424, 2.3471999168395996, 2.3231000900268555, 2.313699960708618, 2.299299955368042, 2.29010009765625, 2.283900022506714, 2.2581000328063965, 2.2509000301361084, 2.227400064468384, 2.2223000526428223, 2.198499917984009, 2.1812000274658203, 2.161400079727173, 2.137700080871582, 2.116300106048584, 2.08240008354187, 2.0039000511169434, 2.0201001167297363, 1.9567999839782715, 2.053999900817871, 1.9253000020980835, 1.8602999448776245, 1.298799991607666, 1.846500039100647, 0.9908999800682068, 1.5214999914169312, 1.069200038909912, 1.1160999536514282, 1.4247000217437744, 0.5069000124931335, 1.187999963760376, 0.8192999958992004, 0.5425999760627747, 0.36340001225471497, 0.052400000393390656, 0.6162999868392944, 0.7949000000953674, -0.26910001039505005, 0.08749999850988388, -0.15690000355243683, 0.18310000002384186, -0.2978000044822693, 0.3100000023841858, 0.3772999942302704, 0.24160000681877136, -0.05530000105500221, -0.4918999969959259, 3.0390000343322754, 2.794600009918213, 2.5004000663757324, 2.4605000019073486, 2.399899959564209, 2.3475000858306885, 2.3213999271392822, 2.281399965286255, 2.2618000507354736, 2.2253000736236572, 2.1742000579833984, 2.1603000164031982, 2.1301000118255615, 2.11680006980896, 2.113600015640259, 2.1096999645233154, 2.1059999465942383, 2.09689998626709, 2.0725998878479004, 2.0692999362945557, 2.044600009918213, 2.0397000312805176, 2.015500068664551, 2.014400005340576, 2.0072999000549316, 1.9879000186920166, 1.9874000549316406, 1.969499945640564, 1.9519000053405762, 1.930299997329712, 1.8005000352859497, 1.8909000158309937, 1.808500051498413, 1.6848000288009644, 1.7488000392913818, 1.8401999473571777, 1.691499948501587, 1.565999984741211, 1.4544999599456787, 1.2568000555038452, 1.8665000200271606, 0.9751999974250793, 1.5169999599456787, 1.062399983406067, 1.4092999696731567, 0.5735999941825867, 0.5806000232696533, 1.073199987411499, 0.8252999782562256, 0.6694999933242798, 1.1151000261306763, 0.4406999945640564, 0.9373999834060669, 0.7477999925613403, 0.6050000190734863, -0.0729999989271164, 0.8489000201225281, 0.623199999332428, 0.31299999356269836, 0.48840001225471497, -0.05310000106692314, -0.19249999523162842, 0.6776999831199646, -0.024900000542402267, 3.0297999382019043, 2.810800075531006, 2.7118000984191895, 2.573899984359741, 2.569200038909912, 2.5555999279022217, 2.5520999431610107, 2.54229998588562, 2.5253000259399414, 2.5164999961853027, 2.488600015640259, 2.3408000469207764, 2.3336000442504883, 2.315999984741211, 2.3017001152038574, 2.3015999794006348, 2.2929000854492188, 2.280400037765503, 2.271899938583374, 2.266200065612793, 2.256500005722046, 2.253999948501587, 2.2518999576568604, 2.240999937057495, 2.22160005569458, 2.2153000831604004, 2.212399959564209, 2.208899974822998, 2.20740008354187, 2.2014000415802, 2.1967999935150146, 2.0018999576568604, 2.099900007247925, 2.135999917984009, 2.0947999954223633, 1.8121999502182007, 2.071899890899658, 2.025099992752075, 1.8122999668121338, 1.3271000385284424, 1.8882999420166016, 1.8335000276565552, 1.9375, 1.9637999534606934, 1.0836000442504883, 1.0815000534057617, 1.013200044631958, 0.6898000240325928, 0.9929999709129333, 0.6851999759674072, 1.3027000427246094, 1.2889000177383423, 1.1145999431610107, 0.7117999792098999, 0.1550000011920929, 1.080199956893921, 0.8633000254631042, 0.5221999883651733, 0.061799999326467514, 0.08079999685287476, 0.12849999964237213, 0.7603999972343445, 0.5232999920845032, -0.14810000360012054, 0.4447000026702881, 0.36469998955726624, -0.16580000519752502, 0.12399999797344208, 0.25780001282691956, -0.14409999549388885, 0.029100000858306885, 4.067999839782715, 3.6770999431610107, 3.291800022125244, 3.162600040435791, 3.1352999210357666, 3.0903000831604004, 2.942699909210205, 2.9326999187469482, 2.9010000228881836, 2.9007999897003174, 2.889400005340576, 2.825900077819824, 2.821899890899658, 2.8141000270843506, 2.78439998626709, 2.7748000621795654, 2.7467000484466553, 2.7186999320983887, 2.6384999752044678, 2.5873000621795654, 2.585900068283081, 2.584399938583374, 2.5773000717163086, 2.536099910736084, 2.5272998809814453, 2.5085999965667725, 2.506200075149536, 2.466399908065796, 2.4502999782562256, 2.4414000511169434, 2.4272000789642334, 2.1826999187469482, 2.3304998874664307, 2.3427000045776367, 1.5027999877929688, 2.142899990081787, 1.4571000337600708, 1.3040000200271606, 1.3707000017166138, 1.2355999946594238, 1.2740999460220337, 1.7582000494003296, 1.6282999515533447, 1.0749000310897827, 1.4254000186920166, 1.2825000286102295, 1.2330000400543213, 0.5078999996185303, 0.8424999713897705, 0.9584000110626221, 0.5633999705314636, 0.07859999686479568, 0.006399999838322401, -0.1031000018119812, 0.8519999980926514, -0.3149999976158142, 0.8349999785423279, 0.7190999984741211, 0.35989999771118164, 0.31529998779296875, 0.4496999979019165, 0.10119999945163727, 0.09380000084638596, 0.03720000013709068, 0.03779999911785126, -0.29409998655319214, 0.2978000044822693, 0.17839999496936798, 3.846400022506714, 3.0998001098632812, 2.950500011444092, 2.9337000846862793, 2.848599910736084, 2.8415000438690186, 2.8227999210357666, 2.797100067138672, 2.7967000007629395, 2.7695000171661377, 2.7288999557495117, 2.7288999557495117, 2.698699951171875, 2.682499885559082, 2.6723999977111816, 2.595400094985962, 2.567699909210205, 2.5452001094818115, 2.522200107574463, 2.5218000411987305, 2.5078001022338867, 2.498500108718872, 2.4971001148223877, 2.4881999492645264, 2.4797000885009766, 2.4702000617980957, 2.4518001079559326, 2.4421000480651855, 2.426300048828125, 2.4217000007629395, 2.4214000701904297, 2.2836999893188477, 2.3668999671936035, 1.945199966430664, 2.2985999584198, 1.7625999450683594, 1.6227999925613403, 2.3011999130249023, 2.0239999294281006, 2.319999933242798, 1.5016000270843506, 1.4785000085830688, 1.492300033569336, 1.5156999826431274, 0.8507999777793884, 1.7581000328063965, 1.76010000705719, 0.7921000123023987, 0.6916999816894531, 0.7422999739646912, 1.2034000158309937, 0.18230000138282776, 0.8547000288963318, 1.280900001525879, 1.0257999897003174, 0.050700001418590546, 0.37209999561309814, 0.42800000309944153, 0.64410001039505, 0.3991999924182892, 0.1680999994277954, 0.8873000144958496, 0.19370000064373016, -0.2328999936580658, 0.018799999728798866, 0.07829999923706055, -0.36469998955726624, 0.22689999639987946, -0.6632000207901001, -0.21639999747276306, -0.4713999927043915, 3.224100112915039, 3.085900068283081, 2.9486000537872314, 2.9140000343322754, 2.903899908065796, 2.831199884414673, 2.7997000217437744, 2.7298998832702637, 2.7030999660491943, 2.6493000984191895, 2.648200035095215, 2.63319993019104, 2.62280011177063, 2.6212000846862793, 2.6084001064300537, 2.5936999320983887, 2.572000026702881, 2.5631000995635986, 2.559799909591675, 2.5517001152038574, 2.5380001068115234, 2.5302999019622803, 2.528700113296509, 2.5151000022888184, 2.4876999855041504, 2.4776999950408936, 2.476099967956543, 2.4439001083374023, 2.4265999794006348, 2.4233999252319336, 2.3977999687194824, 1.961899995803833, 1.8315000534057617, 2.111999988555908, 1.8137999773025513, 2.0297000408172607, 2.1375999450683594, 1.8532999753952026, 1.9053000211715698, 1.7517999410629272, 1.5773999691009521, 1.874400019645691, 1.9031000137329102, 1.7280999422073364, 1.8657000064849854, 0.9642999768257141, 0.5809000134468079, 1.670799970626831, 0.816100001335144, 1.075600028038025, 0.3287000060081482, 1.048799991607666, 0.36079999804496765, 1.2657999992370605, 0.489300012588501, 0.5378000140190125, 0.517300009727478, 0.7462000250816345, 0.1551000028848648, 0.44130000472068787, -0.02500000037252903, 0.9797000288963318, -0.014100000262260437, 0.8359000086784363, 0.47780001163482666, 0.9490000009536743, 0.9276000261306763, 0.35040000081062317, 0.04259999841451645, 0.10490000247955322, -0.47749999165534973, -0.015799999237060547, -0.5644000172615051, -0.8242999911308289, 4.38700008392334, 3.897700071334839, 3.871000051498413, 3.580399990081787, 3.556299924850464, 3.3220999240875244, 3.2376999855041504, 3.219399929046631, 3.039400100708008, 3.0137999057769775, 2.987600088119507, 2.952399969100952, 2.9121999740600586, 2.9093000888824463, 2.8749001026153564, 2.827199935913086, 2.822700023651123, 2.7857000827789307, 2.753999948501587, 2.7490999698638916, 2.7230000495910645, 2.719899892807007, 2.718600034713745, 2.7065999507904053, 2.7060000896453857, 2.696899890899658, 2.6953999996185303, 2.6786000728607178, 2.6689000129699707, 2.666599988937378, 2.657900094985962, 2.6528000831604004, 2.506700038909912, 2.544300079345703, 2.4563000202178955, 2.335900068283081, 2.5002999305725098, 2.4307000637054443, 2.3018999099731445, 2.222599983215332, 2.039900064468384, 2.1888999938964844, 1.9603999853134155, 2.2809998989105225, 0.8224999904632568, 0.16300000250339508, 0.10400000214576721, -0.11379999667406082, 0.7121999859809875, 1.801900029182434, 0.08760000020265579, 0.27090001106262207, 0.28189998865127563, 0.7674999833106995, 1.4426000118255615, 0.39969998598098755, 0.35350000858306885, -0.06210000067949295, 0.28949999809265137, 0.9387999773025513, -0.453900009393692, -0.5357999801635742, 0.018200000748038292, 3.7081000804901123, 3.4340999126434326, 3.4339001178741455, 3.415800094604492, 3.2908999919891357, 3.170099973678589, 3.125999927520752, 3.1034998893737793, 3.051300048828125, 3.0490000247955322, 3.0443999767303467, 3.02620005607605, 3.015899896621704, 2.998199939727783, 2.995500087738037, 2.986599922180176, 2.962399959564209, 2.935699939727783, 2.897599935531616, 2.8884999752044678, 2.8852999210357666, 2.8684000968933105, 2.86680006980896, 2.836699962615967, 2.8343000411987305, 2.823499917984009, 2.8099000453948975, 2.757999897003174, 2.7516000270843506, 2.737499952316284, 2.735599994659424, 2.7155001163482666, 2.723099946975708, 2.472899913787842, 2.3057000637054443, 1.8021999597549438, 2.0896999835968018, 2.0434999465942383, 1.4217000007629395, 1.4372999668121338, 1.8740999698638916, 1.5570000410079956, 1.5450999736785889, 1.1445000171661377, 0.6740000247955322, 1.3480000495910645, 0.9297000169754028, 0.03530000150203705, 1.3395999670028687, 0.26010000705718994, 0.22759999334812164, 0.6704000234603882, 0.20569999516010284, 0.3695000112056732, 0.3449000120162964, 3.9402999877929688, 3.8863000869750977, 3.8427999019622803, 3.391200065612793, 3.365499973297119, 3.3285999298095703, 3.302000045776367, 3.297600030899048, 3.238300085067749, 3.2339999675750732, 3.2316999435424805, 3.2083001136779785, 3.2065000534057617, 3.2014000415802, 3.18530011177063, 3.173799991607666, 3.17330002784729, 3.171299934387207, 3.1635000705718994, 3.149399995803833, 3.1470999717712402, 3.1407999992370605, 3.1335999965667725, 3.124500036239624, 3.1061999797821045, 3.091200113296509, 3.0901999473571777, 3.0868000984191895, 3.0669000148773193, 3.0541999340057373, 3.0190000534057617, 3.0352001190185547, 2.9351000785827637, 2.8991000652313232, 2.967400074005127, 2.648900032043457, 2.6782000064849854, 2.4128000736236572, 2.6907999515533447, 2.7911999225616455, 2.79830002784729, 2.611299991607666, 2.5483999252319336, 1.9639999866485596, 2.6921000480651855, 2.063199996948242, 2.617500066757202, 2.0506999492645264, 1.8504999876022339, 2.647599935531616, 2.4916000366210938, 2.444999933242798, 2.434799909591675, 1.920300006866455, 1.532099962234497, 1.2621999979019165, 1.743399977684021, 0.9157999753952026, 0.7759000062942505, 1.4217000007629395, 1.5860999822616577, 1.4534000158309937, -0.15199999511241913, -0.11760000139474869, 0.8817999958992004, 1.1030000448226929, 0.09099999815225601, 0.5135999917984009, -0.2989000082015991, 0.8093000054359436, 1.376099944114685, 0.2637999951839447, 4.0055999755859375, 3.77839994430542, 3.7664999961853027, 3.696899890899658, 3.6796000003814697, 3.672100067138672, 3.622299909591675, 3.612799882888794, 3.588099956512451, 3.482599973678589, 3.475600004196167, 3.450700044631958, 3.43530011177063, 3.3306000232696533, 3.3138999938964844, 3.2741000652313232, 3.2614998817443848, 3.1940999031066895, 3.1338000297546387, 3.1092000007629395, 3.103300094604492, 3.0864999294281006, 3.0701000690460205, 3.0683999061584473, 3.0652999877929688, 3.014699935913086, 3.0064001083374023, 2.9846999645233154, 2.9716999530792236, 2.961899995803833, 2.8773000240325928, 2.6526999473571777, 2.329400062561035, 1.9711999893188477, 2.180000066757202, 1.9977999925613403, 1.9638999700546265, 1.9378999471664429, 1.4377000331878662, 1.7961000204086304, 1.710800051689148, 2.2567999362945557, 2.251800060272217, 2.242500066757202, 1.5068000555038452, 0.9239000082015991, 1.4532999992370605, 2.2049999237060547, 2.0058000087738037, 0.9559000134468079, 0.7515000104904175, 1.7023999691009521, 1.6720000505447388, 0.3736000061035156, 0.0763000026345253, 1.524899959564209, 1.138800024986267, -0.09149999916553497, 0.7373999953269958, 0.6114000082015991, 0.5802000164985657, 0.17190000414848328, 0.4399000108242035, 0.10239999741315842, -0.43389999866485596, 0.19099999964237213, 0.37450000643730164, -0.22789999842643738], \"logprob\": [30.0, 29.0, 28.0, 27.0, 26.0, 25.0, 24.0, 23.0, 22.0, 21.0, 20.0, 19.0, 18.0, 17.0, 16.0, 15.0, 14.0, 13.0, 12.0, 11.0, 10.0, 9.0, 8.0, 7.0, 6.0, 5.0, 4.0, 3.0, 2.0, 1.0, -5.519700050354004, -7.10890007019043, -6.429200172424316, -7.444200038909912, -7.2245001792907715, -6.833399772644043, -7.371600151062012, -7.630099773406982, -6.852799892425537, -7.247000217437744, -7.95550012588501, -8.01509952545166, -6.340000152587891, -7.960000038146973, -8.140199661254883, -7.4008002281188965, -8.208200454711914, -8.110600471496582, -8.208900451660156, -6.073699951171875, -8.143199920654297, -6.878200054168701, -7.572800159454346, -7.1031999588012695, -8.40310001373291, -6.1545000076293945, -8.494500160217285, -8.496399879455566, -8.40880012512207, -7.924799919128418, -6.114500045776367, -6.564799785614014, -7.877200126647949, -6.826000213623047, -6.571700096130371, -6.909200191497803, -7.628399848937988, -7.2307000160217285, -7.441199779510498, -7.7144999504089355, -6.896200180053711, -6.991499900817871, -7.35860013961792, -6.19320011138916, -7.057199954986572, -6.393099784851074, -6.708499908447266, -5.043399810791016, -7.083199977874756, -6.026599884033203, -4.938600063323975, -5.736100196838379, -5.321000099182129, -6.39709997177124, -6.670899868011475, -5.768899917602539, -5.787899971008301, -6.471499919891357, -6.007900238037109, -5.835599899291992, -5.55210018157959, -5.65500020980835, -5.4440999031066895, -5.4268999099731445, -5.94890022277832, -6.049699783325195, -6.013000011444092, -5.928599834442139, -6.06850004196167, -5.89769983291626, -5.591100215911865, -5.879300117492676, -6.040900230407715, -5.752500057220459, -5.889400005340576, -5.929200172424316, -6.063199996948242, -6.068399906158447, -6.067200183868408, -7.620500087738037, -6.891200065612793, -8.241900444030762, -5.671299934387207, -7.258999824523926, -6.446800231933594, -7.735300064086914, -8.26830005645752, -6.439199924468994, -8.057299613952637, -5.916900157928467, -7.758699893951416, -7.935800075531006, -7.184999942779541, -7.963799953460693, -7.697999954223633, -8.464300155639648, -8.776000022888184, -8.538100242614746, -8.421899795532227, -8.612099647521973, -8.029899597167969, -7.672599792480469, -8.593500137329102, -7.518499851226807, -8.450200080871582, -8.133600234985352, -7.962100028991699, -8.34469985961914, -7.212900161743164, -7.693999767303467, -6.316500186920166, -7.234399795532227, -6.4222002029418945, -6.686999797821045, -5.9079999923706055, -6.377500057220459, -5.463399887084961, -5.200099945068359, -6.428800106048584, -5.136499881744385, -5.80109977722168, -5.60099983215332, -5.869800090789795, -6.301499843597412, -5.241399765014648, -6.9079999923706055, -5.807000160217285, -6.324100017547607, -5.382500171661377, -6.111000061035156, -6.00600004196167, -4.947800159454346, -5.276100158691406, -6.149499893188477, -5.087600231170654, -5.8059000968933105, -5.682700157165527, -5.154900074005127, -5.416500091552734, -5.671899795532227, -5.760000228881836, -5.453000068664551, -5.588799953460693, -5.328100204467773, -5.553100109100342, -5.709799766540527, -5.6407999992370605, -5.380799770355225, -5.770599842071533, -5.85860013961792, -5.761099815368652, -5.796599864959717, -5.847499847412109, -6.837200164794922, -6.693900108337402, -5.62470006942749, -6.523600101470947, -7.192200183868408, -7.366799831390381, -7.7820000648498535, -7.74970006942749, -6.7621002197265625, -4.612500190734863, -6.313399791717529, -5.297800064086914, -8.243800163269043, -8.26200008392334, -7.155300140380859, -6.264699935913086, -5.304599761962891, -7.6803998947143555, -6.901899814605713, -5.076900005340576, -6.5843000411987305, -7.377200126647949, -4.887499809265137, -5.780300140380859, -6.047699928283691, -4.1230998039245605, -8.01509952545166, -7.194900035858154, -7.4644999504089355, -5.00600004196167, -5.158899784088135, -5.492700099945068, -4.756899833679199, -6.9141998291015625, -6.481400012969971, -5.208899974822998, -4.88129997253418, -5.383600234985352, -5.432499885559082, -5.446300029754639, -4.922699928283691, -5.217400074005127, -4.889900207519531, -5.414700031280518, -4.936800003051758, -5.072800159454346, -5.759799957275391, -5.360899925231934, -5.199399948120117, -5.387599945068359, -5.469699859619141, -5.378300189971924, -5.519000053405762, -5.551499843597412, -5.680200099945068, -5.560200214385986, -7.0640997886657715, -7.065100193023682, -5.5970001220703125, -7.434800148010254, -7.434599876403809, -6.333000183105469, -6.7220001220703125, -6.464300155639648, -7.227399826049805, -7.263000011444092, -7.16510009765625, -7.913899898529053, -6.293000221252441, -7.747099876403809, -6.136600017547607, -7.444300174713135, -8.193599700927734, -6.661399841308594, -7.540200233459473, -6.050000190734863, -8.305700302124023, -8.320099830627441, -8.143799781799316, -7.428999900817871, -6.554999828338623, -7.542500019073486, -7.44379997253418, -7.937900066375732, -7.5569000244140625, -4.941299915313721, -7.398499965667725, -6.903600215911865, -5.98769998550415, -6.295499801635742, -7.339700222015381, -6.826300144195557, -5.902699947357178, -6.962399959564209, -6.625699996948242, -6.818900108337402, -6.360799789428711, -4.932499885559082, -5.2941999435424805, -6.047100067138672, -5.325399875640869, -6.008200168609619, -5.742499828338623, -6.161200046539307, -5.582900047302246, -5.256199836730957, -5.477499961853027, -5.428500175476074, -6.070499897003174, -5.10290002822876, -5.376200199127197, -5.811600208282471, -5.376999855041504, -5.1057000160217285, -5.588600158691406, -5.572299957275391, -5.8302001953125, -5.586999893188477, -5.754700183868408, -5.705100059509277, -5.533899784088135, -5.547800064086914, -5.611100196838379, -5.671299934387207, -5.567599773406982, -5.749499797821045, -5.7484002113342285, -5.828400135040283, -5.451900005340576, -6.50029993057251, -4.4903998374938965, -7.096799850463867, -7.173500061035156, -6.446800231933594, -5.07919979095459, -6.638700008392334, -4.76639986038208, -7.376999855041504, -7.434000015258789, -7.226600170135498, -5.646299839019775, -3.957200050354004, -7.4008002281188965, -5.8119001388549805, -7.3632001876831055, -3.7923998832702637, -7.837200164794922, -7.772500038146973, -7.2733001708984375, -8.099800109863281, -5.104899883270264, -4.9070000648498535, -8.17199993133545, -8.224200248718262, -8.270299911499023, -8.195500373840332, -8.253600120544434, -8.107600212097168, -4.554900169372559, -5.490900039672852, -7.008600234985352, -7.222499847412109, -6.127399921417236, -5.5690999031066895, -5.058700084686279, -6.319699764251709, -5.512899875640869, -5.880199909210205, -5.8927998542785645, -4.8246002197265625, -5.942699909210205, -5.100100040435791, -5.252999782562256, -5.643499851226807, -5.554999828338623, -5.35830020904541, -5.44290018081665, -5.255199909210205, -5.5742998123168945, -5.3703999519348145, -5.640500068664551, -5.640900135040283, -5.557400226593018, -5.581200122833252, -5.52370023727417, -5.667099952697754, -5.392199993133545, -6.430699825286865, -4.534999847412109, -4.081900119781494, -6.206099987030029, -5.004899978637695, -5.991499900817871, -7.1793999671936035, -4.209099769592285, -6.381499767303467, -5.304100036621094, -5.758800029754639, -6.924099922180176, -6.130300045013428, -5.715000152587891, -3.7451999187469482, -6.96150016784668, -4.21750020980835, -7.809299945831299, -7.117700099945068, -6.539299964904785, -7.107999801635742, -7.848899841308594, -6.726799964904785, -6.023900032043457, -7.663899898529053, -7.6757001876831055, -7.879799842834473, -7.531099796295166, -7.456999778747559, -6.495699882507324, -6.028800010681152, -6.4207000732421875, -6.0355000495910645, -6.777900218963623, -6.142000198364258, -6.021699905395508, -4.838699817657471, -6.249499797821045, -4.747399806976318, -5.928199768066406, -5.416600227355957, -5.514699935913086, -5.9375, -5.237199783325195, -5.792500019073486, -5.638500213623047, -5.4882001876831055, -5.4105000495910645, -5.338699817657471, -5.582300186157227, -5.726399898529053, -5.387599945068359, -5.517000198364258, -5.552199840545654, -5.673099994659424, -5.659299850463867, -5.761899948120117, -5.813799858093262, -5.802000045776367, -5.798699855804443, -5.801400184631348, -5.093800067901611, -3.5309998989105225, -7.051499843597412, -5.370800018310547, -7.420300006866455, -7.21750020980835, -7.77839994430542, -7.8282999992370605, -6.639599800109863, -6.733099937438965, -7.6417999267578125, -7.867199897766113, -6.666600227355957, -7.772200107574463, -7.704699993133545, -8.007200241088867, -7.929299831390381, -8.020999908447266, -6.14169979095459, -6.43209981918335, -8.159099578857422, -7.666800022125244, -4.620800018310547, -7.399400234222412, -8.013899803161621, -7.472400188446045, -6.6921000480651855, -7.851600170135498, -7.813300132751465, -7.171000003814697, -4.031000137329102, -6.7677998542785645, -6.041399955749512, -4.944900035858154, -6.011099815368652, -6.600599765777588, -5.823400020599365, -5.280900001525879, -5.513700008392334, -5.229000091552734, -7.031700134277344, -4.7906999588012695, -6.249899864196777, -5.35290002822876, -6.235599994659424, -4.788000106811523, -4.814700126647949, -5.745999813079834, -5.399499893188477, -5.23769998550415, -5.829699993133545, -5.090199947357178, -5.695899963378906, -5.528299808502197, -5.466899871826172, -5.191500186920166, -5.835299968719482, -5.717700004577637, -5.5432000160217285, -5.661799907684326, -5.444300174713135, -5.502099990844727, -5.831299781799316, -5.768899917602539, -6.557400226593018, -7.334199905395508, -7.527699947357178, -7.421299934387207, -7.690000057220459, -7.4953999519348145, -7.038400173187256, -6.939300060272217, -7.517899990081787, -7.692399978637695, -5.172699928283691, -3.863600015640259, -7.779300212860107, -7.825300216674805, -7.606900215148926, -7.2322998046875, -7.287700176239014, -7.624199867248535, -7.630899906158447, -7.26669979095459, -5.731200218200684, -7.9492998123168945, -7.968100070953369, -7.829800128936768, -7.619800090789795, -7.7596001625061035, -7.152599811553955, -7.932000160217285, -7.054100036621094, -7.657199859619141, -7.64109992980957, -4.693600177764893, -6.559100151062012, -7.210599899291992, -7.1031999588012695, -5.755000114440918, -7.059999942779541, -6.878399848937988, -6.1168999671936035, -4.411200046539307, -6.402500152587891, -6.424900054931641, -6.697299957275391, -6.789599895477295, -5.151400089263916, -5.273200035095215, -5.1707000732421875, -4.6880998611450195, -5.384799957275391, -5.058199882507324, -5.9481000900268555, -5.973599910736084, -5.871799945831299, -5.435999870300293, -4.963399887084961, -5.931000232696533, -5.789999961853027, -5.568600177764893, -5.299699783325195, -5.314499855041504, -5.402400016784668, -5.861800193786621, -5.797399997711182, -5.457699775695801, -5.764599800109863, -5.74459981918335, -5.5569000244140625, -5.719600200653076, -5.785799980163574, -5.869100093841553, -5.888800144195557, -4.886099815368652, -4.6981000900268555, -6.98199987411499, -6.904900074005127, -6.085000038146973, -6.905099868774414, -7.319799900054932, -6.657800197601318, -7.32420015335083, -4.451099872589111, -7.260300159454346, -6.053699970245361, -6.7083001136779785, -7.314499855041504, -7.297800064086914, -7.226600170135498, -6.661499977111816, -6.701200008392334, -7.4096999168396, -7.552599906921387, -7.004899978637695, -7.390500068664551, -7.665500164031982, -7.68779993057251, -7.7204999923706055, -7.340000152587891, -7.320799827575684, -7.6006999015808105, -7.280200004577637, -7.696300029754639, -6.916900157928467, -5.40369987487793, -6.674099922180176, -7.088200092315674, -4.644000053405762, -6.530099868774414, -5.064199924468994, -4.767899990081787, -4.914999961853027, -4.987299919128418, -5.203800201416016, -6.03380012512207, -6.0625, -5.5218000411987305, -5.936800003051758, -5.900899887084961, -5.8618998527526855, -5.409999847412109, -5.711599826812744, -5.850900173187256, -5.584400177001953, -5.3125, -5.371500015258789, -5.464600086212158, -5.890500068664551, -5.4334001541137695, -5.906099796295166, -5.864500045776367, -5.730899810791016, -5.7154998779296875, -5.775100231170654, -5.672800064086914, -5.672100067138672, -5.68779993057251, -5.706200122833252, -5.6894001960754395, -5.832699775695801, -5.841400146484375, -4.729000091552734, -5.940800189971924, -7.2067999839782715, -7.325500011444092, -6.765500068664551, -7.254000186920166, -6.7221999168396, -7.373700141906738, -6.758399963378906, -7.244100093841553, -4.136099815368652, -7.132800102233887, -7.395299911499023, -7.381700038909912, -6.064300060272217, -7.4633002281188965, -7.231500148773193, -7.525000095367432, -7.63040018081665, -7.367300033569336, -7.17519998550415, -7.1184000968933105, -7.659200191497803, -6.635000228881836, -7.658699989318848, -7.165500164031982, -7.189300060272217, -7.294099807739258, -7.713500022888184, -7.7170000076293945, -7.263199806213379, -5.456999778747559, -6.844799995422363, -4.259200096130371, -6.713200092315674, -4.480500221252441, -4.428199768066406, -6.8196001052856445, -6.198500156402588, -6.900300025939941, -5.193900108337402, -5.1707000732421875, -5.460899829864502, -5.578999996185303, -4.887599945068359, -6.19980001449585, -6.330100059509277, -5.406499862670898, -5.417699813842773, -5.480599880218506, -5.9527997970581055, -5.2129998207092285, -5.728099822998047, -6.053400039672852, -5.87470006942749, -5.258800029754639, -5.54580020904541, -5.591800212860107, -5.771200180053711, -5.672699928283691, -5.575900077819824, -5.933000087738037, -5.713500022888184, -5.610799789428711, -5.724599838256836, -5.7652997970581055, -5.755799770355225, -5.841400146484375, -5.781599998474121, -5.820799827575684, -5.832900047302246, -6.487100124359131, -6.5046000480651855, -6.695300102233887, -7.012899875640869, -6.899899959564209, -6.7418999671936035, -6.742599964141846, -7.189000129699707, -7.570700168609619, -7.278200149536133, -6.497600078582764, -7.587100028991699, -6.81790018081665, -7.295899868011475, -7.529200077056885, -7.191800117492676, -7.576900005340576, -7.56879997253418, -5.928299903869629, -7.4268999099731445, -7.361299991607666, -7.612199783325195, -6.593800067901611, -7.744200229644775, -7.646399974822998, -7.592700004577637, -7.566400051116943, -7.277400016784668, -7.150300025939941, -5.9517998695373535, -7.173399925231934, -5.1097002029418945, -4.863999843597412, -6.368599891662598, -5.5381999015808105, -6.202600002288818, -6.5065999031066895, -5.924699783325195, -6.125999927520752, -5.83459997177124, -5.578800201416016, -6.153299808502197, -6.215400218963623, -6.007999897003174, -6.233699798583984, -5.182499885559082, -4.728600025177002, -6.1697001457214355, -5.393199920654297, -5.646299839019775, -5.0625, -5.692299842834473, -5.364200115203857, -5.947700023651123, -5.6585001945495605, -5.686999797821045, -5.717700004577637, -5.8144001960754395, -5.610799789428711, -5.742700099945068, -5.62939977645874, -5.97629976272583, -5.7581000328063965, -5.96019983291626, -5.884300231933594, -6.004199981689453, -6.002799987792969, -5.934800148010254, -5.904300212860107, -5.914999961853027, -5.872799873352051, -5.933700084686279, -5.942299842834473, -5.942699909210205, -4.290999889373779, -5.992700099945068, -4.0395002365112305, -6.5808000564575195, -5.210599899291992, -5.670300006866455, -6.826900005340576, -6.567999839782715, -6.536900043487549, -6.497600078582764, -7.087399959564209, -7.031199932098389, -4.043700218200684, -6.213900089263916, -7.195899963378906, -7.417699813842773, -5.404099941253662, -6.960700035095215, -7.404699802398682, -6.564199924468994, -4.430500030517578, -6.428100109100342, -7.409299850463867, -7.1209001541137695, -7.190400123596191, -7.203100204467773, -7.171500205993652, -6.804200172424316, -7.57390022277832, -6.507699966430664, -5.145100116729736, -6.78380012512207, -5.491499900817871, -6.008200168609619, -6.21999979019165, -5.8557000160217285, -6.467299938201904, -6.401700019836426, -6.107699871063232, -6.06879997253418, -5.821800231933594, -6.147500038146973, -5.855199813842773, -6.411099910736084, -5.3867998123168945, -5.215000152587891, -5.287099838256836, -5.2322001457214355, -5.608399868011475, -6.133900165557861, -5.443299770355225, -5.64709997177124, -5.664999961853027, -5.828700065612793, -6.044300079345703, -5.825099945068359, -5.830399990081787, -5.787199974060059, -5.85830020904541, -5.964600086212158, -5.815400123596191, -5.845300197601318, -6.001699924468994, -5.699699878692627, -6.740499973297119, -5.47790002822876, -6.746200084686279, -6.7434000968933105, -6.896999835968018, -4.573299884796143, -7.145199775695801, -6.104400157928467, -7.01200008392334, -5.533699989318848, -6.6519999504089355, -7.124800205230713, -7.06850004196167, -7.0457000732421875, -7.086400032043457, -6.7220001220703125, -4.428500175476074, -5.759300231933594, -7.103300094604492, -7.27839994430542, -5.6666998863220215, -7.07919979095459, -7.072999954223633, -7.078499794006348, -5.551700115203857, -7.434100151062012, -7.350599765777588, -7.151599884033203, -7.318399906158447, -5.752399921417236, -5.380499839782715, -5.830999851226807, -5.346399784088135, -5.676599979400635, -4.335299968719482, -5.26230001449585, -5.542900085449219, -4.670599937438965, -4.767199993133545, -5.488100051879883, -5.423500061035156, -5.419000148773193, -5.002299785614014, -5.099999904632568, -5.681099891662598, -5.414899826049805, -5.083099842071533, -5.757400035858154, -5.344299793243408, -5.51639986038208, -5.707300186157227, -5.637899875640869, -5.702400207519531, -5.723400115966797, -6.236999988555908, -5.246500015258789, -6.245500087738037, -5.875100135803223, -6.896900177001953, -6.907800197601318, -6.969399929046631, -6.9328999519348145, -6.903200149536133, -7.013800144195557, -6.918700218200684, -6.880300045013428, -6.923999786376953, -6.893099784851074, -6.958700180053711, -6.8993000984191895, -6.969900131225586, -6.52269983291626, -6.894999980926514, -6.907700061798096, -6.9156999588012695, -6.914899826049805, -6.9274001121521, -6.8850998878479, -6.928100109100342, -6.918099880218506, -6.433000087738037, -6.899499893188477, -6.919300079345703, -6.902599811553955, -4.658599853515625, -6.023900032043457, -5.164400100708008, -5.476099967956543, -6.240799903869629, -5.348100185394287, -5.629199981689453, -4.94950008392334, -5.875500202178955, -6.249300003051758, -6.263500213623047, -5.934100151062012, -5.843500137329102, -5.298500061035156, -6.290999889373779, -5.5559000968933105, -6.243800163269043, -5.639599800109863, -5.5254998207092285, -6.320899963378906, -6.256800174713135, -6.218500137329102, -6.243299961090088, -5.909299850463867, -5.6605000495910645, -5.533999919891357, -5.8429999351501465, -5.461900234222412, -5.509799957275391, -5.80649995803833, -5.894100189208984, -5.898600101470947, -5.461599826812744, -5.49560022354126, -5.751500129699707, -5.82420015335083, -5.647299766540527, -5.721399784088135, -5.6605000495910645, -5.812900066375732, -5.88539981842041, -5.882900238037109, -5.804900169372559, -6.470399856567383, -6.474800109863281, -6.472499847412109, -6.474899768829346, -6.4710001945495605, -6.470600128173828, -6.473199844360352, -6.472799777984619, -6.473899841308594, -6.470399856567383, -6.470600128173828, -6.473800182342529, -6.473199844360352, -6.47160005569458, -6.4730000495910645, -6.462399959564209, -6.470099925994873, -4.220399856567383, -6.470399856567383, -6.46999979019165, -6.449699878692627, -6.445899963378906, -6.470300197601318, -6.468599796295166, -6.472099781036377, -5.8078999519348145, -6.469900131225586, -5.810999870300293, -6.474699974060059, -5.809899806976318, -4.910099983215332, -5.1203999519348145, -5.124499797821045, -5.409299850463867, -5.410600185394287, -5.406799793243408, -5.413300037384033, -5.093500137329102, -5.404300212860107, -5.400700092315674, -5.800099849700928, -5.804800033569336, -5.80679988861084, -5.392600059509277, -5.107699871063232, -5.401000022888184, -5.805699825286865, -5.801199913024902, -5.388700008392334, -5.39870023727417, -5.801300048828125, -5.796500205993652, -5.3703999519348145, -5.314799785614014, -5.797100067138672, -5.764599800109863, -5.696000099182129, -5.740499973297119, -5.74560022354126, -5.745800018310547, -5.745999813079834, -5.758699893951416, -5.753799915313721, -5.7434000968933105, -5.755899906158447, -5.763000011444092, -5.758800029754639]}, \"token.table\": {\"Topic\": [3, 7, 1, 2, 6, 2, 4, 5, 7, 1, 2, 3, 4, 5, 6, 7, 8, 9, 10, 11, 15, 1, 3, 4, 7, 8, 9, 14, 1, 2, 3, 4, 5, 11, 1, 2, 3, 5, 13, 1, 2, 3, 4, 5, 8, 10, 11, 1, 3, 4, 5, 9, 15, 2, 3, 7, 8, 10, 1, 2, 3, 4, 5, 6, 7, 10, 11, 12, 15, 2, 3, 5, 7, 1, 2, 3, 4, 5, 7, 8, 14, 1, 2, 3, 4, 5, 6, 7, 8, 9, 12, 1, 4, 8, 10, 11, 1, 2, 4, 8, 11, 12, 1, 5, 6, 7, 8, 12, 1, 2, 3, 4, 5, 6, 7, 8, 9, 10, 11, 12, 13, 14, 1, 2, 3, 5, 6, 9, 1, 2, 3, 5, 6, 8, 12, 1, 11, 2, 5, 1, 1, 2, 3, 4, 7, 1, 2, 7, 8, 11, 1, 2, 3, 4, 5, 6, 7, 8, 9, 10, 11, 12, 13, 1, 2, 3, 4, 5, 7, 14, 1, 5, 1, 2, 3, 4, 5, 6, 7, 8, 9, 10, 11, 12, 13, 15, 1, 3, 10, 11, 1, 2, 3, 4, 6, 7, 8, 9, 1, 2, 3, 5, 6, 7, 8, 9, 10, 11, 14, 1, 2, 4, 7, 9, 10, 12, 14, 1, 2, 4, 5, 9, 14, 1, 2, 3, 4, 5, 6, 7, 8, 10, 12, 1, 2, 8, 11, 1, 9, 12, 14, 1, 2, 3, 4, 5, 6, 7, 8, 9, 10, 11, 12, 13, 1, 4, 12, 1, 2, 3, 4, 5, 6, 7, 8, 9, 2, 5, 10, 13, 3, 4, 7, 1, 3, 4, 7, 1, 2, 3, 4, 5, 6, 7, 8, 9, 10, 11, 13, 14, 1, 12, 1, 2, 3, 4, 5, 6, 8, 9, 11, 12, 1, 2, 3, 5, 6, 7, 8, 9, 1, 12, 1, 2, 3, 4, 5, 6, 7, 8, 9, 10, 11, 13, 15, 1, 2, 3, 6, 7, 1, 2, 3, 4, 6, 7, 8, 10, 11, 12, 13, 14, 1, 2, 3, 15, 2, 3, 5, 6, 13, 15, 5, 9, 10, 1, 4, 1, 3, 6, 8, 9, 15, 1, 3, 5, 7, 10, 1, 2, 3, 4, 5, 6, 7, 8, 9, 10, 11, 12, 13, 14, 1, 11, 12, 2, 3, 5, 6, 1, 2, 3, 4, 6, 8, 10, 11, 12, 1, 4, 9, 12, 1, 4, 5, 8, 12, 1, 3, 4, 7, 8, 1, 3, 4, 7, 1, 2, 3, 4, 5, 7, 8, 9, 10, 11, 1, 3, 4, 5, 10, 1, 3, 4, 6, 11, 1, 3, 4, 2, 6, 13, 2, 5, 10, 1, 4, 8, 9, 1, 4, 8, 11, 1, 2, 3, 4, 6, 7, 8, 10, 2, 1, 4, 11, 1, 2, 3, 4, 5, 6, 7, 8, 9, 10, 11, 13, 14, 3, 1, 8, 12, 1, 4, 5, 1, 7, 8, 9, 10, 14, 4, 14, 1, 2, 4, 11, 1, 2, 3, 4, 5, 6, 7, 8, 9, 10, 11, 13, 15, 1, 2, 3, 4, 5, 6, 10, 12, 14, 1, 2, 3, 4, 5, 6, 7, 8, 9, 10, 11, 12, 13, 15, 3, 3, 1, 4, 1, 3, 9, 11, 12, 1, 3, 14, 1, 2, 3, 6, 1, 2, 3, 4, 5, 6, 7, 8, 9, 10, 11, 13, 14, 1, 2, 3, 5, 6, 13, 1, 1, 4, 1, 2, 3, 4, 5, 6, 7, 8, 9, 10, 11, 12, 15, 1, 2, 5, 6, 13, 1, 2, 3, 4, 8, 11, 13, 14, 1, 1, 2, 3, 4, 5, 6, 9, 10, 11, 13, 14, 2, 3, 7, 1, 2, 3, 5, 6, 7, 8, 1, 11, 5, 1, 3, 4, 8, 10, 1, 3, 4, 10, 12, 13, 1, 4, 8, 14, 3, 7, 3, 1, 2, 3, 4, 5, 7, 15, 2, 5, 6, 13, 1, 2, 3, 4, 5, 6, 2, 5, 9, 10, 1, 2, 3, 4, 5, 6, 7, 8, 9, 10, 11, 12, 13, 14, 1, 2, 3, 5, 6, 7, 8, 10, 15, 1, 3, 4, 11, 1, 3, 5, 8, 11, 14, 1, 2, 10, 1, 2, 3, 4, 5, 7, 10, 1, 2, 4, 6, 9, 10, 1, 3, 6, 8, 13, 1, 3, 5, 6, 11, 15, 1, 14, 3, 7, 1, 2, 3, 5, 6, 8, 9, 10, 13, 14, 1, 2, 6, 14, 1, 2, 3, 4, 10, 14, 15, 1, 2, 3, 4, 5, 6, 7, 8, 11, 14, 1, 2, 7, 8, 1, 2, 3, 4, 5, 6, 15, 1, 2, 3, 4, 7, 9, 13, 1, 2, 3, 4, 5, 6, 7, 8, 9, 10, 11, 12, 1, 2, 3, 7, 9, 1, 2, 3, 4, 5, 6, 10, 13, 1, 2, 3, 4, 5, 6, 7, 8, 9, 10, 11, 12, 13, 15, 1, 2, 6, 7, 13, 1, 2, 3, 4, 5, 6, 13, 14, 1, 1, 2, 4, 10, 14, 1, 4, 1, 2, 3, 4, 5, 6, 8, 9, 10, 14, 1, 4, 13, 1, 3, 4, 12, 1, 2, 4, 12, 2, 3, 6, 7, 1, 2, 3, 4, 5, 6, 7, 9, 10, 11, 2, 3, 5, 6, 9, 13, 15, 1, 2, 3, 4, 6, 7, 8, 12, 2, 5, 10, 13, 2, 5, 1, 2, 3, 4, 5, 6, 7, 8, 10, 12, 13, 1, 2, 3, 4, 5, 6, 7, 8, 9, 13, 1, 2, 3, 4, 5, 6, 7, 8, 9, 10, 11, 12, 13, 14, 15, 1, 2, 3, 4, 5, 6, 7, 8, 9, 10, 11, 12, 14, 15, 1, 2, 3, 4, 5, 6, 7, 8, 9, 10, 11, 12, 13, 1, 2, 15, 1, 2, 6, 10, 2, 5, 10, 4, 1, 2, 3, 4, 5, 6, 9, 12, 13, 2, 6, 15, 1, 2, 3, 5, 7, 9, 10, 1, 3, 4, 9, 12, 13, 1, 6, 8, 1, 2, 3, 4, 5, 8, 10, 2, 5, 13, 1, 2, 4, 6, 9, 11, 13, 14, 1, 2, 3, 9, 13, 1, 4, 1, 8, 12, 1, 2, 7, 13, 14, 15, 1, 2, 11, 12, 1, 2, 3, 4, 15, 1, 2, 4, 5, 8, 10, 15, 1, 2, 4, 8, 9, 12, 3, 3, 7, 1, 2, 3, 4, 5, 6, 7, 8, 9, 10, 11, 12, 13, 1, 2, 3, 4, 5, 6, 7, 8, 9, 10, 11, 12, 13, 14, 1, 2, 3, 5, 9, 11, 1, 2, 3, 4, 8, 1, 2, 3, 5, 6, 1, 2, 4, 5, 8, 9, 10, 11, 15, 1, 2, 3, 4, 11, 15, 2, 3, 5, 12, 1, 2, 3, 5, 6, 9, 10, 1, 2, 4, 5, 6, 11, 13, 1, 2, 3, 4, 5, 6, 7, 8, 9, 13, 1, 4, 12, 2, 3, 7, 3, 7, 1, 11, 2, 3, 6, 7, 2, 5, 6, 13, 1, 2, 3, 5, 6, 7, 10, 1, 2, 3, 13, 1, 11, 12, 1, 2, 3, 4, 5, 8, 10, 11, 12, 14, 1, 3, 4, 7, 8, 11, 12, 2, 3, 3, 7, 1, 2, 3, 4, 5, 6, 7, 8, 9, 10, 11, 13, 1, 2, 10, 4, 1, 4, 11, 12, 1, 12, 1, 4, 8, 11, 1, 2, 3, 4, 5, 6, 7, 8, 10, 11, 2, 1, 2, 3, 5, 6, 7, 1, 2, 3, 4, 5, 6, 7, 8, 9, 10, 11, 12, 1, 2, 3, 4, 5, 6, 7, 8, 9, 10, 11, 12, 13, 1, 2, 4, 8, 11, 1, 2, 3, 4, 5, 6, 7, 8, 9, 10, 11, 12, 13, 1, 2, 3, 4, 6, 7, 8, 10, 1, 2, 3, 4, 6, 10, 1, 2, 3, 4, 5, 6, 7, 8, 9, 10, 11, 13, 14, 2, 5, 10, 1, 11, 1, 2, 5, 6, 9, 10, 12, 1, 2, 4, 7, 8, 1, 2, 3, 4, 5, 6, 7, 8, 9, 10, 11, 12, 13, 15, 1, 4, 8, 1, 2, 3, 4, 5, 6, 7, 8, 9, 10, 11, 12, 14, 1, 2, 3, 4, 5, 6, 7, 8, 9, 10, 11, 12, 13, 14, 15, 1, 2, 3, 4, 5, 6, 7, 8, 9, 10, 11, 12, 13, 14, 2, 5, 10, 1, 1, 3, 4, 11, 14, 2, 6, 1, 3, 4, 12, 1, 12, 1, 3, 4, 8, 10, 13, 14, 1, 2, 3, 4, 6, 10, 11, 15, 1, 2, 3, 5, 7, 1, 2, 3, 4, 5, 6, 7, 9, 10, 11, 12, 15, 1, 2, 3, 4, 5, 6, 7, 8, 9, 10, 12, 13, 14, 1, 2, 3, 4, 5, 6, 8, 11, 12, 14, 2, 6, 1, 2, 3, 4, 5, 9, 10, 1, 2, 3, 4, 5, 6, 7, 8, 10, 11, 12, 13, 14, 15, 1, 1, 4, 8, 12, 1, 8, 12, 1, 2, 3, 4, 6, 7, 11, 12, 1, 4, 5, 8, 11, 1, 4, 8, 10, 11, 12, 1, 2, 3, 4, 5, 6, 7, 8, 9, 10, 11, 13, 15, 1, 2, 11, 1, 4, 8, 1, 2, 3, 4, 5, 6, 7, 11, 12, 14, 1, 3, 6, 8, 13, 1, 4, 1, 2, 3, 4, 5, 6, 10, 11, 13, 2, 6, 9, 15, 1, 4, 11, 1, 4, 8, 14, 1, 4, 5, 7, 8, 9, 10, 14, 1, 2, 4, 5, 6, 11, 1, 11, 1, 2, 3, 4, 5, 7, 8, 9, 10, 11, 12, 13, 3, 7, 1, 1, 2, 3, 4, 5, 6, 7, 8, 9, 10, 11, 12, 13, 14, 1, 2, 3, 4, 7, 8, 9, 10, 12, 1, 3, 4, 7, 8, 11, 13, 15, 1, 3, 8, 1, 2, 3, 4, 7, 13, 1, 2, 4, 8, 10, 1, 2, 3, 4, 5, 6, 7, 8, 9, 10, 11, 12, 1, 2, 3, 4, 5, 6, 7, 8, 9, 10, 11, 12, 13, 14, 15, 1, 4, 9, 1, 2, 3, 5, 6, 1, 2, 3, 5, 10, 1, 2, 3, 9, 10, 1, 2, 3, 4, 5, 6, 7, 8, 9, 10, 11, 1, 2, 3, 4, 5, 6, 7, 8, 9, 10, 11, 12, 13, 1, 2, 3, 4, 5, 6, 7, 8, 9, 10, 11, 13, 1, 2, 3, 4, 5, 6, 7, 8, 9, 10, 11, 12, 14, 1, 2, 3, 6, 10, 11, 12, 2, 3, 4, 6, 9, 11, 13, 1, 2, 3, 6, 9, 14, 2, 5, 10, 1, 2, 3, 6, 7, 2, 3, 7, 1, 2, 3, 4, 5, 6, 7, 8, 9, 10, 11, 12, 13, 15, 1, 3, 4, 8, 1, 2, 3, 4, 5, 6, 7, 8, 9, 10, 11, 12, 13, 15, 1, 2, 3, 4, 5, 6, 7, 8, 9, 10, 11, 12, 13, 1, 2, 3, 4, 5, 6, 7, 8, 9, 10, 11, 12, 13, 14, 1, 4, 14, 1, 3, 4, 7, 8, 1, 8, 12, 1, 4, 8, 9, 11, 2, 5, 6, 1, 4, 8, 10, 12, 2, 3, 7, 1, 2, 3, 4, 5, 6, 7, 8, 9, 10, 11, 13, 14, 15, 1, 2, 3, 4, 5, 6, 7, 8, 9, 10, 11, 12, 13, 14, 15, 1, 2, 3, 4, 5, 6, 7, 8, 9, 10, 11, 12, 13, 14, 15, 1, 2, 7, 8, 1, 3, 7, 8, 12, 1, 8, 12, 2, 6, 9, 13, 1, 2, 3, 6, 1, 2, 3, 4, 5, 6, 7, 8, 9, 10, 11, 13, 15, 1, 4, 8, 1, 2, 3, 5, 6, 13, 2, 5, 7, 9, 2, 3, 5, 6, 1, 2, 3, 7, 1, 2, 4, 14, 1, 2, 3, 15, 1, 2, 3, 4, 13, 1, 2, 3, 6, 7, 13, 1, 2, 3, 7, 13, 1, 2, 8, 9, 11, 1, 8, 10, 11, 1, 2, 3, 4, 8, 1, 3, 4, 6, 8, 9, 14, 4, 8, 10, 11, 1, 2, 4, 6, 1, 2, 3, 4, 10, 15, 1, 2, 6, 11, 12, 13, 1, 2, 4, 10, 11, 1, 2, 3, 4, 6, 7, 9, 1, 2, 3, 5, 6, 7, 11, 1, 2, 3, 4, 5, 6, 7, 11, 13, 1, 3, 8, 3, 7, 1, 3, 4, 8, 1, 2, 3, 4, 5, 6, 7, 8, 9, 10, 11, 12, 13, 14, 4, 8, 10, 1, 4, 11, 2, 5, 9, 10, 1, 2, 3, 4, 5, 6, 7, 8, 9, 10, 11, 13, 14, 1, 3, 11, 2, 6, 13, 1, 2, 3, 4, 5, 7, 10, 11, 14, 2, 6, 1, 2, 9, 1, 2, 3, 8, 10, 12, 13, 14, 2, 3, 5, 6, 7, 1, 2, 3, 4, 5, 6, 7, 8, 9, 10, 11, 12, 13, 15, 1, 3, 8, 10, 11, 2, 3, 7, 1, 2, 3, 4, 5, 6, 7, 8, 9, 10, 11, 12, 13, 14, 15, 1, 2, 3, 4, 5, 13, 1, 2, 3, 4, 7, 8, 11, 12, 1, 2, 3, 4, 5, 6, 7, 8, 9, 10, 11, 12, 13, 1, 2, 3, 4, 5, 6, 7, 8, 9, 10, 11, 12, 13, 15, 1, 2, 5, 6, 13, 1, 2, 3, 4, 5, 6, 7, 8, 9, 10, 11, 12, 13, 1, 2, 3, 4, 5, 6, 7, 8, 10, 13, 14, 4, 11, 1, 2, 3, 4, 5, 6, 7, 8, 9, 10, 11, 12, 13, 14, 15, 1, 2, 3, 4, 5, 6, 7, 8, 9, 10, 11, 12, 13, 14, 15, 1, 2, 3, 4, 5, 6, 7, 8, 9, 13, 15, 2, 3, 5, 1, 3, 4, 8, 11, 12, 1, 2, 3, 4, 5, 6, 7, 8, 9, 10, 11, 13, 15, 1, 2, 3, 5, 6, 9, 1, 2, 3, 5, 13, 15, 1, 2, 3, 4, 5, 6, 7, 8, 9, 10, 11, 12, 13, 14, 1, 4, 9, 1, 2, 3, 4, 5, 6, 7, 8, 9, 10, 11, 12, 13, 14, 1, 2, 7, 8, 1, 2, 3, 11, 1, 2, 3, 4, 5, 6, 7, 8, 9, 10, 11, 12, 13, 14, 15, 1, 2, 3, 4, 5, 6, 7, 8, 10, 11, 12, 13, 14, 15, 2, 3, 4, 5, 6, 15, 1, 2, 4, 5, 8, 10, 11, 12, 1, 2, 3, 4, 5, 9, 10, 12, 1, 2, 3, 4, 5, 8, 15, 1, 2, 3, 4, 5, 6, 7, 8, 9, 10, 11, 12, 13, 14, 15, 2, 5, 6, 13, 15, 1, 2, 3, 4, 5, 6, 7, 8, 9, 10, 11, 12, 13, 1, 2, 3, 4, 5, 6, 7, 8, 9, 10, 11, 12, 13, 14, 1, 4, 7, 10, 13, 1, 2, 3, 4, 5, 6, 7, 8, 9, 10, 11, 12, 14, 15, 1, 4, 8, 11, 2, 5, 6, 13, 2, 6, 1, 2, 5, 6, 9, 10, 11, 2, 6, 15, 4, 1, 2, 3, 4, 5, 8, 10, 11, 13, 1, 3, 4, 7, 8, 10, 11, 1, 3, 4, 12, 1, 4, 8, 11, 12, 1, 2, 3, 4, 8, 10, 13, 1, 2, 7, 11, 15, 2, 3, 4, 5, 1, 2, 3, 4, 5, 6, 7, 8, 9, 10, 11, 12, 13, 14, 3, 2, 5, 10, 1, 2, 6, 13, 1, 2, 5, 6, 9, 10, 1, 1, 2, 3, 4, 5, 6, 7, 8, 9, 10, 11, 14, 15, 1, 2, 3, 4, 5, 6, 7, 8, 9, 10, 11, 13, 15, 1, 2, 3, 4, 5, 6, 7, 8, 10, 11, 13, 14, 1, 8, 9, 13, 2, 3, 7, 1, 2, 4, 5, 6, 8, 9, 11, 13, 14, 4, 8, 10, 1, 2, 3, 4, 6, 8, 9, 11, 12, 1, 2, 3, 4, 5, 6, 7, 8, 9, 10, 12, 14, 1, 4, 8, 12, 1, 2, 3, 5, 7, 10, 1, 2, 4, 5, 9, 1, 2, 3, 6, 10, 11, 1, 2, 3, 4, 5, 7, 8, 9, 10, 11, 13, 14, 2, 6, 1, 2, 3, 4, 5, 6, 7, 8, 9, 10, 11, 12, 13, 15, 2, 5, 9, 10, 13, 2, 5, 1, 3, 4, 8, 12, 1, 4, 9, 4, 8, 10, 11, 1, 2, 3, 4, 5, 6, 7, 8, 9, 10, 11, 12, 13, 1, 8, 9, 11, 4, 1, 2, 3, 4, 5, 6, 7, 8, 9, 10, 11, 12, 13, 2, 3, 5, 6, 11, 15, 1, 4, 6, 8, 11, 12, 1, 2, 5, 1, 4, 8, 1, 4, 9, 11, 14, 1, 2, 3, 4, 5, 6, 7, 8, 9, 10, 11, 12, 13, 15, 1, 2, 5, 6, 9, 13, 1, 2, 3, 4, 5, 6, 7, 8, 9, 10, 11, 12, 13, 1, 2, 3, 5, 11, 12, 13, 15, 1, 2, 3, 4, 9, 11, 12, 1, 2, 3, 4, 5, 6, 7, 8, 9, 10, 11, 12, 13, 2, 5, 6, 2, 3, 5, 13, 14, 1, 2, 3, 4, 5, 6, 7, 8, 9, 10, 11, 12, 14, 1, 2, 5, 9, 12, 13, 2, 5, 13, 1, 2, 3, 4, 9, 11, 1, 4, 10, 11, 1, 3, 4, 5, 10, 1, 2, 4, 8, 9, 10, 1, 2, 3, 5, 6, 11, 3, 4, 9, 11, 1, 2, 3, 6, 15, 1, 2, 3, 5, 6, 14, 1, 2, 6, 2, 6, 9, 1, 2, 4, 5, 7, 12, 1, 2, 3, 4, 5, 6, 7, 8, 9, 10, 11, 12, 13, 14, 1, 2, 3, 4, 5, 6, 7, 8, 9, 10, 11, 12, 13, 1, 2, 3, 4, 5, 6, 7, 8, 9, 11, 12, 13, 1, 2, 3, 4, 5, 6, 7, 8, 9, 10, 11, 12, 13, 1, 2, 3, 4, 6, 8, 15, 1, 7, 12, 2, 5, 1, 3, 4, 7, 12, 1, 2, 3, 5, 6, 7, 1, 2, 3, 4, 5, 6, 7, 9, 11, 13, 1, 3, 14, 2, 3, 6, 13, 1, 11, 12, 1, 1, 12, 2, 5, 6, 9, 1, 2, 3, 7, 1, 1, 12, 1, 2, 3, 5, 6, 11, 3, 7, 3, 5, 7, 10, 13, 2, 6, 13, 1, 2, 4, 6, 10, 12, 1, 4, 8, 1, 4, 8, 12, 1, 2, 3, 4, 5, 6, 7, 8, 9, 10, 11, 12, 13, 14, 15, 1, 2, 3, 4, 5, 6, 7, 8, 9, 10, 11, 12, 13, 14, 1, 8, 4, 8, 10, 11, 1, 2, 3, 4, 5, 6, 7, 8, 9, 10, 12, 4, 5, 1, 2, 3, 4, 5, 7, 8, 10, 13, 14, 1, 2, 3, 4, 5, 6, 7, 8, 9, 10, 11, 12, 13, 15, 1, 2, 3, 5, 6, 7, 13, 15, 1, 2, 5, 7, 1, 2, 3, 5, 7, 8, 10, 13, 1, 2, 3, 4, 5, 6, 7, 8, 9, 10, 12, 13, 14, 1, 1, 4, 10, 11, 1, 2, 3, 4, 13, 1, 2, 3, 13, 1, 2, 4, 8, 9, 11, 12, 1, 4, 8, 11, 12, 1, 2, 4, 8, 12, 1, 2, 1, 2, 3, 4, 7, 14, 1, 4, 11, 2, 3, 4, 6, 9, 13, 1, 2, 3, 7, 1, 2, 3, 4, 5, 6, 8, 9, 10, 13, 15, 1, 2, 3, 4, 13, 3, 7, 1, 2, 5, 12, 1, 2, 3, 4, 5, 6, 7, 8, 9, 10, 11, 12, 13, 14, 1, 2, 3, 4, 5, 6, 9, 15, 1, 2, 3, 4, 5, 6, 9, 10, 11, 13, 15, 1, 4, 10, 1, 2, 3, 7, 1, 2, 3, 5, 6, 9, 1, 2, 4, 5, 15, 1, 4, 11, 1, 2, 3, 4, 5, 6, 7, 8, 9, 10, 12, 1, 2, 3, 4, 5, 6, 9, 11, 14, 1, 2, 6, 9, 15, 1, 2, 4, 7, 9, 10, 11, 14, 1, 4, 8, 10, 1, 5, 6, 1, 2, 6, 12, 15, 1, 4, 8, 9, 11, 1, 2, 3, 4, 8, 9, 12, 14, 2, 3, 4, 5, 6, 15, 1, 2, 3, 4, 5, 6, 7, 8, 9, 10, 12, 13, 1, 2, 3, 5, 6, 7, 10, 12, 2, 3, 7, 9, 11, 13, 1, 2, 5, 6, 7, 1, 3, 8, 10, 2, 3, 6, 15, 1, 2, 3, 4, 5, 6, 7, 8, 9, 10, 12, 13, 1, 12, 1, 2, 3, 9, 12, 1, 2, 3, 4, 5, 6, 7, 8, 9, 10, 11, 12, 13, 14, 1, 3, 14, 1, 2, 3, 4, 6, 9, 1, 2, 4, 6, 8, 9, 11, 13, 14, 2, 3, 4, 5, 7, 10, 1, 2, 4, 8, 10, 11, 1, 4, 10, 11, 1, 2, 3, 4, 5, 6, 7, 8, 9, 10, 11, 12, 13, 1, 2, 5, 6, 13, 1, 12, 1, 4, 5, 7, 9, 10, 13, 1, 3, 4, 11, 1, 2, 3, 8, 11, 2, 3, 6, 12, 15, 1, 2, 3, 4, 5, 6, 7, 8, 9, 10, 11, 12, 13, 15, 1, 2, 3, 4, 5, 6, 7, 8, 9, 10, 11, 12, 13, 1, 2, 4, 14, 1, 2, 3, 12, 14, 2, 3, 5, 10, 1, 2, 3, 4, 6, 7, 8, 10, 11, 12, 1, 2, 3, 5, 7, 11, 14, 1, 2, 3, 4, 5, 6, 7, 8, 9, 10, 11, 12, 1, 2, 3, 4, 5, 6, 7, 8, 11, 13, 1, 2, 3, 4, 5, 6, 7, 8, 9, 10, 11, 13, 15, 1, 2, 3, 4, 5, 6, 7, 9, 11, 13, 14, 1, 2, 9, 10, 1, 2, 3, 4, 5, 6, 7, 8, 9, 10, 11, 12, 13, 14, 1, 4, 11, 1, 2, 3, 4, 5, 8, 9, 11, 15, 2, 3, 5, 7, 12, 1, 2, 3, 4, 5, 6, 7, 8, 9, 10, 12, 13, 1, 2, 3, 4, 5, 6, 7, 9, 10, 11, 15, 1, 2, 3, 4, 5, 6, 7, 8, 9, 12, 13, 14, 1, 2, 3, 4, 5, 6, 7, 8, 9, 10, 11, 12, 13, 15, 1, 2, 3, 4, 5, 6, 7, 8, 9, 10, 11, 12, 13, 14, 1, 2, 3, 4, 5, 7, 1, 1, 2, 4, 8, 10, 1, 4, 9, 1, 2, 3, 4, 5, 6, 7, 8, 9, 10, 11, 12, 13, 14, 15, 1, 4, 8, 1, 2, 4, 5, 11, 1, 2, 4, 10, 1, 2, 3, 4, 5, 6, 7, 8, 9, 10, 11, 12, 13, 15, 1, 2, 3, 13, 14, 1, 3, 4, 6, 13, 1, 2, 3, 4, 5, 6, 7, 8, 10, 11, 12, 14, 1, 2, 3, 4, 6, 8, 10, 12, 1, 2, 3, 4, 5, 6, 7, 9, 10, 12, 13, 1, 7, 8, 1, 2, 4, 10, 1, 2, 3, 4, 6, 8, 9, 11, 12, 13, 14, 2, 5, 10, 2, 5, 1, 2, 10, 12, 1, 2, 3, 4, 6, 7, 8, 9, 10, 11, 12, 15, 1, 5, 12, 1, 4, 12, 2, 3, 5, 7, 4, 8, 11, 1, 3, 4, 9, 11, 1, 2, 3, 4, 5, 6, 8, 9, 10, 12, 13, 15, 1, 2, 9, 11, 1, 2, 3, 4, 5, 6, 8, 11, 12, 1, 3, 4, 9, 10, 11, 1, 3, 4, 7, 8, 12, 1, 3, 4, 5, 8, 10, 11, 12, 1, 2, 3, 4, 5, 6, 7, 11, 13, 14, 1, 2, 3, 4, 5, 6, 7, 8, 9, 10, 11, 12, 13, 15, 3, 7, 3, 7, 1, 2, 3, 4, 5, 6, 7, 8, 9, 10, 11, 12, 13, 1, 2, 4, 11, 1, 2, 3, 4, 5, 6, 7, 8, 9, 10, 11, 13, 15, 1, 2, 4, 8, 9, 11, 12, 3, 7, 1, 4, 7, 8, 11, 12, 14, 1, 2, 3, 4, 5, 6, 7, 8, 9, 10, 11, 12, 13, 14, 15, 1, 2, 4, 11, 1, 2, 3, 10, 1, 2, 3, 5, 7, 8, 9, 10, 1, 3, 4, 5, 8, 10, 1, 2, 3, 4, 6, 7, 9, 10, 11, 1, 2, 4, 11, 1, 2, 3, 4, 5, 6, 7, 8, 9, 10, 11, 12, 13, 15, 1, 2, 3, 4, 5, 6, 7, 8, 9, 10, 11, 12, 13, 14, 1, 4, 8, 10, 11, 1, 2, 3, 4, 5, 6, 7, 8, 9, 10, 11, 12, 13, 14, 15, 1, 2, 3, 4, 5, 7, 8, 10, 12, 13, 14, 1, 2, 3, 4, 5, 6, 7, 8, 9, 10, 11, 12, 13, 14, 15, 1, 2, 3, 4, 5, 6, 7, 8, 9, 10, 11, 12, 13, 15, 1, 8, 9, 12, 1, 2, 5, 1, 2, 3, 4, 5, 6, 7, 8, 9, 10, 11, 12, 13, 15, 1, 2, 14, 1, 2, 4, 5, 9, 14, 1, 2, 3, 4, 5, 6, 8, 9, 10, 11, 13, 15, 1, 2, 4, 5, 11, 1, 4, 8, 12, 1, 3, 4, 8, 1, 2, 3, 4, 5, 6, 7, 8, 10, 11, 12, 1, 2, 3, 4, 5, 6, 7, 8, 9, 10, 11, 12, 13, 1, 2, 4, 7, 10, 1, 2, 3, 4, 5, 6, 7, 8, 9, 13, 14, 15, 2, 5, 1, 2, 3, 5, 8, 2, 3, 5, 7, 9, 10, 2, 5, 7, 9, 1, 2, 5, 8, 9, 1, 3, 4, 5, 7, 1, 2, 3, 4, 5, 6, 7, 8, 9, 11, 13, 14, 1, 4, 8, 1, 4, 14, 3, 7, 1, 1, 11, 1, 2, 3, 4, 5, 6, 7, 8, 9, 10, 11, 13, 1, 2, 3, 4, 5, 6, 7, 8, 9, 10, 11, 12, 13, 1, 4, 11, 12, 1, 2, 3, 4, 5, 6, 7, 8, 9, 10, 11, 12, 14, 1, 2, 3, 4, 5, 6, 7, 8, 9, 10, 12, 13, 15, 1, 3, 7, 14, 1, 2, 3, 4, 8, 9, 11, 12, 13, 14, 1, 2, 3, 4, 5, 6, 7, 8, 9, 10, 11, 12, 13, 14, 1, 2, 4, 5, 8, 9, 10, 12, 1, 2, 3, 4, 5, 6, 7, 8, 9, 10, 11, 12, 13, 15, 2, 3, 6, 7, 3, 3, 1, 2, 3, 4, 5, 6, 7, 8, 9, 10, 11, 12, 13, 2, 5, 6, 13, 15, 1, 2, 3, 4, 5, 6, 7, 8, 9, 10, 11, 13, 14, 1, 2, 3, 5, 6, 13, 2, 5, 9, 10, 1, 2, 3, 4, 5, 6, 7, 8, 9, 10, 11, 12, 13, 14, 1, 2, 3, 4, 5, 6, 7, 8, 9, 10, 11, 13, 15, 2, 3, 7, 1, 2, 3, 4, 5, 6, 7, 8, 9, 10, 11, 12, 13, 14, 1, 2, 3, 4, 5, 6, 7, 8, 9, 10, 11, 12, 14, 1, 2, 3, 4, 5, 6, 7, 8, 9, 10, 11, 12, 13, 1, 2, 3, 4, 5, 8, 10, 11, 14, 1, 2, 9, 12, 1, 2, 3, 4, 7, 8, 9, 10, 1, 2, 3, 4, 5, 6, 7, 8, 10, 11, 13, 1, 2, 3, 4, 5, 6, 7, 8, 9, 10, 11, 12, 13, 14, 1, 2, 3, 4, 5, 6, 7, 8, 9, 10, 11, 12, 13, 15, 1, 2, 3, 4, 5, 6, 7, 8, 10, 13, 1], \"Freq\": [0.7992953062057495, 0.1598590612411499, 0.15809017419815063, 0.7114057540893555, 0.07904508709907532, 0.7726327776908875, 0.05150885134935379, 0.05150885134935379, 0.10301770269870758, 0.11564778536558151, 0.25442513823509216, 0.2821806073188782, 0.046259116381406784, 0.10177005082368851, 0.10177005082368851, 0.041633203625679016, 0.013877734541893005, 0.023129558190703392, 0.004625911358743906, 0.004625911358743906, 0.009251822717487812, 0.38130104541778564, 0.09532526135444641, 0.14298789203166962, 0.047662630677223206, 0.23831315338611603, 0.047662630677223206, 0.047662630677223206, 0.517875611782074, 0.1150834709405899, 0.05754173547029495, 0.05754173547029495, 0.05754173547029495, 0.1150834709405899, 0.16081316769123077, 0.32162633538246155, 0.16081316769123077, 0.24121975898742676, 0.08040658384561539, 0.3161725401878357, 0.18970350921154022, 0.09485175460577011, 0.06323450803756714, 0.09485175460577011, 0.03161725401878357, 0.03161725401878357, 0.15808627009391785, 0.35498175024986267, 0.08874543756246567, 0.2662363052368164, 0.08874543756246567, 0.08874543756246567, 0.08874543756246567, 0.3083038330078125, 0.3083038330078125, 0.07707595825195312, 0.07707595825195312, 0.15415191650390625, 0.08321496099233627, 0.42647668719291687, 0.24964489042758942, 0.04160748049616814, 0.062411222606897354, 0.04160748049616814, 0.062411222606897354, 0.010401870124042034, 0.010401870124042034, 0.010401870124042034, 0.010401870124042034, 0.07766928523778915, 0.1553385704755783, 0.3106771409511566, 0.3106771409511566, 0.2975741922855377, 0.2975741922855377, 0.14878709614276886, 0.059514839202165604, 0.029757419601082802, 0.059514839202165604, 0.029757419601082802, 0.029757419601082802, 0.3764062225818634, 0.16131694614887238, 0.04481026157736778, 0.07169642299413681, 0.09858258068561554, 0.10754463076591492, 0.035848211497068405, 0.008962052874267101, 0.008962052874267101, 0.08065847307443619, 0.02200210653245449, 0.6307270526885986, 0.2786933481693268, 0.029336141422390938, 0.029336141422390938, 0.433028906583786, 0.14434295892715454, 0.09622864425182343, 0.09622864425182343, 0.19245728850364685, 0.04811432212591171, 0.31995224952697754, 0.2559618055820465, 0.06399045139551163, 0.06399045139551163, 0.06399045139551163, 0.12798090279102325, 0.20594635605812073, 0.3851959705352783, 0.08771789819002151, 0.015255286358296871, 0.10297317802906036, 0.061021145433187485, 0.08390407264232635, 0.015255286358296871, 0.007627643179148436, 0.01144146453589201, 0.003813821589574218, 0.003813821589574218, 0.007627643179148436, 0.003813821589574218, 0.037124935537576675, 0.6311239004135132, 0.1299372762441635, 0.1299372762441635, 0.037124935537576675, 0.018562467768788338, 0.1419493407011032, 0.5204809308052063, 0.09463289380073547, 0.02365822345018387, 0.04731644690036774, 0.02365822345018387, 0.11829111725091934, 0.7808111310005188, 0.17351359128952026, 0.3670201301574707, 0.6291773915290833, 0.974372923374176, 0.24052312970161438, 0.24052312970161438, 0.18039235472679138, 0.060130782425403595, 0.3006539046764374, 0.2828773856163025, 0.21215802431106567, 0.07071934640407562, 0.21215802431106567, 0.14143869280815125, 0.3138207793235779, 0.14554007351398468, 0.09096254408359528, 0.21376198530197144, 0.04093314707279205, 0.07277003675699234, 0.004548127297312021, 0.03183688968420029, 0.05002940073609352, 0.009096254594624043, 0.013644382357597351, 0.009096254594624043, 0.004548127297312021, 0.08775155991315842, 0.26325467228889465, 0.17550311982631683, 0.08775155991315842, 0.08775155991315842, 0.17550311982631683, 0.08775155991315842, 0.49952253699302673, 0.41626879572868347, 0.40012311935424805, 0.1025315448641777, 0.0775238499045372, 0.2525777220726013, 0.015004617162048817, 0.030009234324097633, 0.015004617162048817, 0.042513079941272736, 0.025007694959640503, 0.007502308581024408, 0.012503847479820251, 0.012503847479820251, 0.007502308581024408, 0.0025007694493979216, 0.7211339473724365, 0.055471841245889664, 0.11094368249177933, 0.055471841245889664, 0.09594916552305222, 0.367805153131485, 0.12793222069740295, 0.06396611034870148, 0.01599152758717537, 0.23987291753292084, 0.04797458276152611, 0.03198305517435074, 0.08151224255561829, 0.3505026400089264, 0.20378060638904572, 0.10596591234207153, 0.04890734329819679, 0.17932692170143127, 0.008151223883032799, 0.008151223883032799, 0.008151223883032799, 0.008151223883032799, 0.008151223883032799, 0.29925650358200073, 0.09975216537714005, 0.09975216537714005, 0.09975216537714005, 0.09975216537714005, 0.09975216537714005, 0.09975216537714005, 0.09975216537714005, 0.15152058005332947, 0.4040549099445343, 0.05050686374306679, 0.10101372748613358, 0.15152058005332947, 0.05050686374306679, 0.18503881990909576, 0.16447894275188446, 0.20559868216514587, 0.06167960539460182, 0.16447894275188446, 0.020559867843985558, 0.06167960539460182, 0.041119735687971115, 0.020559867843985558, 0.10279934108257294, 0.1962248533964157, 0.6540828347206116, 0.06540828198194504, 0.06540828198194504, 0.7839257717132568, 0.05599470064043999, 0.05599470064043999, 0.05599470064043999, 0.27348577976226807, 0.17020127177238464, 0.16874654591083527, 0.12946933507919312, 0.10182981938123703, 0.0610978901386261, 0.02618481032550335, 0.029094234108924866, 0.014547117054462433, 0.007273558527231216, 0.007273558527231216, 0.007273558527231216, 0.0014547116588801146, 0.4799133837223053, 0.3427952826023102, 0.1371181160211563, 0.16511783003807068, 0.06604713201522827, 0.31922781467437744, 0.022015711292624474, 0.022015711292624474, 0.33023566007614136, 0.033023566007614136, 0.022015711292624474, 0.011007855646312237, 0.3341132402420044, 0.6125409603118896, 0.03341132402420044, 0.011137108318507671, 0.11910731345415115, 0.7940487265586853, 0.039702437818050385, 0.9800216555595398, 0.9621373414993286, 0.013456466607749462, 0.006728233303874731, 0.27571582794189453, 0.14337223768234253, 0.2481442540884018, 0.09374338388442993, 0.06065748259425163, 0.0496288500726223, 0.038600217550992966, 0.027571583166718483, 0.005514316726475954, 0.01654295064508915, 0.01654295064508915, 0.005514316726475954, 0.01654295064508915, 0.982582151889801, 0.005991354584693909, 0.39273253083229065, 0.013238174840807915, 0.05736542493104935, 0.34860527515411377, 0.09707994759082794, 0.013238174840807915, 0.02647634968161583, 0.013238174840807915, 0.008825450204312801, 0.017650900408625603, 0.020588016137480736, 0.5215630531311035, 0.06176405027508736, 0.17156679928302765, 0.10294008255004883, 0.10294008255004883, 0.006862672045826912, 0.006862672045826912, 0.4770223796367645, 0.4770223796367645, 0.2771950960159302, 0.30993467569351196, 0.1833416372537613, 0.05893123894929886, 0.06547915190458298, 0.015278469771146774, 0.03492221608757973, 0.02400902286171913, 0.015278469771146774, 0.008730554021894932, 0.004365277010947466, 0.002182638505473733, 0.002182638505473733, 0.1692519634962082, 0.0846259817481041, 0.38081690669059753, 0.0846259817481041, 0.29619094729423523, 0.5113617777824402, 0.17045393586158752, 0.09740224480628967, 0.048701122403144836, 0.024350561201572418, 0.024350561201572418, 0.024350561201572418, 0.024350561201572418, 0.024350561201572418, 0.024350561201572418, 0.024350561201572418, 0.024350561201572418, 0.0900777131319046, 0.6305440068244934, 0.1801554262638092, 0.0900777131319046, 0.3265436291694641, 0.005991626065224409, 0.029958130791783333, 0.62312912940979, 0.00898743886500597, 0.0029958130326122046, 0.8311744332313538, 0.055411629378795624, 0.055411629378795624, 0.007433041930198669, 0.9811615347862244, 0.49629154801368713, 0.24814577400684357, 0.09925831109285355, 0.04962915554642677, 0.04962915554642677, 0.04962915554642677, 0.40317922830581665, 0.08063584566116333, 0.2419075220823288, 0.08063584566116333, 0.16127169132232666, 0.29132279753685, 0.18935981392860413, 0.2168736308813095, 0.092252217233181, 0.05664609745144844, 0.030750738456845284, 0.06311994045972824, 0.02103997953236103, 0.009710759855806828, 0.011329219676554203, 0.009710759855806828, 0.0032369198743253946, 0.0032369198743253946, 0.0016184599371626973, 0.930707573890686, 0.02068239077925682, 0.02068239077925682, 0.1959206759929657, 0.012439407408237457, 0.04975762963294983, 0.7339250445365906, 0.5075021386146545, 0.005398959387093782, 0.02159583754837513, 0.39412403106689453, 0.005398959387093782, 0.03239375352859497, 0.010797918774187565, 0.02159583754837513, 0.005398959387093782, 0.437289297580719, 0.17491571605205536, 0.17491571605205536, 0.08745785802602768, 0.5538879632949829, 0.11869028210639954, 0.03956342488527298, 0.1978171318769455, 0.07912684977054596, 0.06899566948413849, 0.41397401690483093, 0.06899566948413849, 0.13799133896827698, 0.20698700845241547, 0.33941853046417236, 0.16970926523208618, 0.08485463261604309, 0.33941853046417236, 0.06870446354150772, 0.10848072916269302, 0.5930280089378357, 0.01446409709751606, 0.08316855877637863, 0.104864701628685, 0.00723204854875803, 0.00723204854875803, 0.010848073288798332, 0.003616024274379015, 0.15677937865257263, 0.23516906797885895, 0.07838968932628632, 0.3919484615325928, 0.07838968932628632, 0.47606679797172546, 0.07934446632862091, 0.15868893265724182, 0.07934446632862091, 0.15868893265724182, 0.09080995619297028, 0.09080995619297028, 0.8172895908355713, 0.17929421365261078, 0.6147230267524719, 0.20490767061710358, 0.20996199548244476, 0.772118330001831, 0.006772967521101236, 0.5191048383712769, 0.22247350215911865, 0.07415783405303955, 0.1483156681060791, 0.9624451994895935, 0.004113013856112957, 0.02056506834924221, 0.008226027712225914, 0.2404705286026001, 0.043721914291381836, 0.08744382858276367, 0.17488765716552734, 0.043721914291381836, 0.19674861431121826, 0.15302670001983643, 0.043721914291381836, 0.9522199034690857, 0.017347659915685654, 0.9367735981941223, 0.03469531983137131, 0.10207570344209671, 0.46814027428627014, 0.16543303430080414, 0.017599258571863174, 0.09503600001335144, 0.05631762742996216, 0.010559555143117905, 0.01407940685749054, 0.01407940685749054, 0.02111911028623581, 0.00703970342874527, 0.017599258571863174, 0.00703970342874527, 0.8593519926071167, 0.6384854316711426, 0.055520474910736084, 0.2776023745536804, 0.4164578318595886, 0.08329156786203384, 0.4164578318595886, 0.41544514894485474, 0.2492670863866806, 0.08308903127908707, 0.08308903127908707, 0.08308903127908707, 0.08308903127908707, 0.8626078963279724, 0.09584531933069229, 0.03722057864069939, 0.11166173964738846, 0.7444115877151489, 0.07444115728139877, 0.36652815341949463, 0.13090291619300842, 0.10472232848405838, 0.1603560745716095, 0.0752691775560379, 0.05563373863697052, 0.03599829971790314, 0.016362864524126053, 0.016362864524126053, 0.013090291060507298, 0.019635437056422234, 0.0032725727651268244, 0.006545145530253649, 0.3962836265563965, 0.1415298730134964, 0.08491791784763336, 0.11322389543056488, 0.05661194771528244, 0.02830597385764122, 0.11322389543056488, 0.02830597385764122, 0.02830597385764122, 0.33778470754623413, 0.13367649912834167, 0.1423007845878601, 0.18829700350761414, 0.08049337565898895, 0.03449716046452522, 0.02587287127971649, 0.022998107597231865, 0.004312145058065653, 0.005749526899307966, 0.010061671957373619, 0.00718690874055028, 0.002874763449653983, 0.002874763449653983, 0.9654297232627869, 0.9504795670509338, 0.21618226170539856, 0.7566379308700562, 0.5131393671035767, 0.046649035066366196, 0.09329807013273239, 0.09329807013273239, 0.18659614026546478, 0.7705228924751282, 0.09631536155939102, 0.09631536155939102, 0.2254938781261444, 0.15032924711704254, 0.037582311779260635, 0.5261523723602295, 0.3835650086402893, 0.24095749855041504, 0.10818500071763992, 0.019670000299811363, 0.05900999903678894, 0.039340000599622726, 0.03442250192165375, 0.044257499277591705, 0.019670000299811363, 0.019670000299811363, 0.014752499759197235, 0.004917500074952841, 0.009835000149905682, 0.0076180193573236465, 0.10665227472782135, 0.0076180193573236465, 0.0076180193573236465, 0.7160938382148743, 0.14474236965179443, 0.9647571444511414, 0.9309811592102051, 0.0379992313683033, 0.4073903262615204, 0.25675860047340393, 0.10612689703702927, 0.03081103414297104, 0.027387585490942, 0.04792827367782593, 0.03081103414297104, 0.04450482502579689, 0.023964136838912964, 0.0068468963727355, 0.0068468963727355, 0.0068468963727355, 0.0068468963727355, 0.008589674718677998, 0.12025544792413712, 0.19756253063678741, 0.601277232170105, 0.0773070752620697, 0.4178811013698578, 0.08357621729373932, 0.16715243458747864, 0.08357621729373932, 0.08357621729373932, 0.08357621729373932, 0.08357621729373932, 0.08357621729373932, 0.9680732488632202, 0.5044847726821899, 0.029675574973225594, 0.05935114994645119, 0.05935114994645119, 0.029675574973225594, 0.05935114994645119, 0.05935114994645119, 0.029675574973225594, 0.08902672678232193, 0.029675574973225594, 0.05935114994645119, 0.004541471134871244, 0.9037527441978455, 0.0862879529595375, 0.1267348974943161, 0.17742887139320374, 0.15208187699317932, 0.10138792544603348, 0.02534698136150837, 0.3802047073841095, 0.02534698136150837, 0.9624536633491516, 0.015523445792496204, 0.9714913368225098, 0.15663276612758636, 0.031326550990343094, 0.6891841292381287, 0.06265310198068619, 0.031326550990343094, 0.5262032151222229, 0.040477171540260315, 0.26310160756111145, 0.040477171540260315, 0.12143151462078094, 0.020238585770130157, 0.7255854606628418, 0.16124121844768524, 0.08062060922384262, 0.08062060922384262, 0.9579963088035583, 0.01651717722415924, 0.9712452292442322, 0.20830155909061432, 0.13886770606040955, 0.06943385303020477, 0.13886770606040955, 0.20830155909061432, 0.13886770606040955, 0.06943385303020477, 0.04359564557671547, 0.005449455697089434, 0.8174183964729309, 0.11988802999258041, 0.012883023358881474, 0.37360769510269165, 0.10950570553541183, 0.051532093435525894, 0.4348020553588867, 0.009662267751991749, 0.05846954509615898, 0.8185736536979675, 0.05846954509615898, 0.05846954509615898, 0.3215940296649933, 0.08218514174222946, 0.1989118605852127, 0.1893831491470337, 0.08456732332706451, 0.045261383056640625, 0.00952871236950159, 0.026203958317637444, 0.011910890229046345, 0.013101979158818722, 0.005955445114523172, 0.0023821780923753977, 0.008337623439729214, 0.0011910890461876988, 0.14381951093673706, 0.3355788588523865, 0.14381951093673706, 0.047939836978912354, 0.09587967395782471, 0.047939836978912354, 0.047939836978912354, 0.047939836978912354, 0.047939836978912354, 0.2977239787578583, 0.2977239787578583, 0.14886198937892914, 0.14886198937892914, 0.2454192191362381, 0.16361281275749207, 0.2454192191362381, 0.08180640637874603, 0.08180640637874603, 0.08180640637874603, 0.6996622085571289, 0.08745777606964111, 0.17491555213928223, 0.044329240918159485, 0.17731696367263794, 0.17731696367263794, 0.08865848183631897, 0.13298772275447845, 0.2659754455089569, 0.044329240918159485, 0.43631550669670105, 0.08726309984922409, 0.08726309984922409, 0.08726309984922409, 0.17452619969844818, 0.08726309984922409, 0.15848231315612793, 0.15848231315612793, 0.3962058126926422, 0.07924115657806396, 0.15848231315612793, 0.31455519795417786, 0.12582208216190338, 0.25164416432380676, 0.06291104108095169, 0.06291104108095169, 0.06291104108095169, 0.8618113994598389, 0.09575682133436203, 0.48577186465263367, 0.48577186465263367, 0.3444608449935913, 0.23568373918533325, 0.14503614604473114, 0.05438855290412903, 0.036259036511182785, 0.09064759314060211, 0.018129518255591393, 0.036259036511182785, 0.018129518255591393, 0.036259036511182785, 0.6431893706321716, 0.1607973426580429, 0.08039867132902145, 0.08039867132902145, 0.4368256628513336, 0.1456085592508316, 0.1456085592508316, 0.1456085592508316, 0.0728042796254158, 0.0728042796254158, 0.0728042796254158, 0.17577536404132843, 0.2953025996685028, 0.22499245405197144, 0.014062028378248215, 0.05624811351299286, 0.08437217026948929, 0.0492171011865139, 0.05624811351299286, 0.014062028378248215, 0.014062028378248215, 0.2595597803592682, 0.3893396854400635, 0.06488994508981705, 0.19466984272003174, 0.3280624747276306, 0.09373214095830917, 0.23433034121990204, 0.18746428191661835, 0.04686607047915459, 0.04686607047915459, 0.04686607047915459, 0.3770977258682251, 0.07541954517364502, 0.07541954517364502, 0.15083909034729004, 0.07541954517364502, 0.07541954517364502, 0.15083909034729004, 0.2604656517505646, 0.16107743978500366, 0.09596102684736252, 0.14051435887813568, 0.1165241003036499, 0.06511641293764114, 0.03427179530262947, 0.027417436242103577, 0.02399025671184063, 0.03427179530262947, 0.020563077181577682, 0.017135897651314735, 0.17663677036762238, 0.26495516300201416, 0.08831838518381119, 0.17663677036762238, 0.26495516300201416, 0.08308780193328857, 0.5578752160072327, 0.011869685724377632, 0.04747874289751053, 0.24926339089870453, 0.011869685724377632, 0.023739371448755264, 0.023739371448755264, 0.45292559266090393, 0.12613117694854736, 0.13473102450370789, 0.07453206181526184, 0.0286661759018898, 0.06879882514476776, 0.04013264924287796, 0.01719970628619194, 0.005733235273510218, 0.005733235273510218, 0.03439941257238388, 0.005733235273510218, 0.002866617636755109, 0.002866617636755109, 0.5558533668518066, 0.07579818367958069, 0.07579818367958069, 0.2526606023311615, 0.02526606060564518, 0.22329412400722504, 0.26582634449005127, 0.010633053258061409, 0.010633053258061409, 0.07443137466907501, 0.3615238070487976, 0.042532213032245636, 0.010633053258061409, 0.9647313952445984, 0.4779534339904785, 0.05310593917965889, 0.21242375671863556, 0.15931780636310577, 0.05310593917965889, 0.8353244066238403, 0.14741018414497375, 0.49712514877319336, 0.07101787626743317, 0.08877234905958176, 0.08877234905958176, 0.12428128719329834, 0.03550893813371658, 0.01775446906685829, 0.03550893813371658, 0.01775446906685829, 0.03550893813371658, 0.6505696177482605, 0.08132120221853256, 0.16264240443706512, 0.2584279179573059, 0.019879071041941643, 0.6957675218582153, 0.019879071041941643, 0.07230737805366516, 0.03615368902683258, 0.7230737805366516, 0.10846106708049774, 0.14888085424900055, 0.3473886549472809, 0.39701560139656067, 0.049626950174570084, 0.12826696038246155, 0.23680053651332855, 0.22693385183811188, 0.06906682252883911, 0.15786702930927277, 0.02960006706416607, 0.06906682252883911, 0.009866689331829548, 0.06906682252883911, 0.009866689331829548, 0.47379353642463684, 0.009475870989263058, 0.009475870989263058, 0.4880073666572571, 0.009475870989263058, 0.0023689677473157644, 0.004737935494631529, 0.5706917643547058, 0.008581831119954586, 0.012872747145593166, 0.36472782492637634, 0.004290915559977293, 0.012872747145593166, 0.008581831119954586, 0.012872747145593166, 0.5111163258552551, 0.4432336986064911, 0.031944770365953445, 0.003993096295744181, 0.1865445226430893, 0.7728272676467896, 0.22278061509132385, 0.26660630106925964, 0.16799849271774292, 0.018260706216096878, 0.08034710586071014, 0.12782493233680725, 0.036521412432193756, 0.018260706216096878, 0.021912846714258194, 0.003652141196653247, 0.029217129573225975, 0.10060284286737442, 0.3841199576854706, 0.03658285364508629, 0.018291426822543144, 0.07316570729017258, 0.3109542429447174, 0.018291426822543144, 0.03658285364508629, 0.009145713411271572, 0.009145713411271572, 0.36946558952331543, 0.13409537076950073, 0.14909905195236206, 0.1275312602519989, 0.08064477145671844, 0.05251287296414375, 0.026256436482071877, 0.014065948314964771, 0.008439568802714348, 0.00937729887664318, 0.011252759024500847, 0.00468864943832159, 0.008439568802714348, 0.0009377298993058503, 0.0009377298993058503, 0.37121063470840454, 0.12373688071966171, 0.14435969293117523, 0.1271740198135376, 0.09623979032039642, 0.044682759791612625, 0.024059947580099106, 0.02749708481132984, 0.00343713560141623, 0.00687427120283246, 0.00343713560141623, 0.024059947580099106, 0.00343713560141623, 0.00343713560141623, 0.07755161076784134, 0.27480244636535645, 0.3658412992954254, 0.026974473148584366, 0.1095837950706482, 0.07080799341201782, 0.05057713761925697, 0.0016859045717865229, 0.00842952262610197, 0.005057713948190212, 0.0016859045717865229, 0.0016859045717865229, 0.005057713948190212, 0.399553120136261, 0.49944138526916504, 0.04994414001703262, 0.3243456482887268, 0.2432592362165451, 0.1621728241443634, 0.1621728241443634, 0.1912916749715805, 0.765166699886322, 0.031881943345069885, 0.9520214200019836, 0.48746782541275024, 0.027081545442342758, 0.027081545442342758, 0.24373391270637512, 0.027081545442342758, 0.027081545442342758, 0.027081545442342758, 0.1354077309370041, 0.027081545442342758, 0.443746954202652, 0.443746954202652, 0.04034063220024109, 0.09130550175905228, 0.3423956334590912, 0.13695824146270752, 0.04565275087952614, 0.31956925988197327, 0.02282637543976307, 0.02282637543976307, 0.8439276218414307, 0.019400635734200478, 0.038801271468400955, 0.019400635734200478, 0.04850158840417862, 0.009700317867100239, 0.5590984225273132, 0.09318306297063828, 0.18636612594127655, 0.19297119975090027, 0.04824279993772507, 0.04824279993772507, 0.19297119975090027, 0.1447284072637558, 0.1447284072637558, 0.19297119975090027, 0.41577935218811035, 0.491375595331192, 0.07559624314308167, 0.0599057711660862, 0.01497644279152155, 0.08985865861177444, 0.0299528855830431, 0.5241755247116089, 0.13478799164295197, 0.10483510047197342, 0.04492932930588722, 0.2476615011692047, 0.2476615011692047, 0.16510766744613647, 0.2476615011692047, 0.08255383372306824, 0.1663409024477005, 0.8317045569419861, 0.5982315540313721, 0.022156724706292152, 0.35450759530067444, 0.24245278537273407, 0.40408799052238464, 0.08081759512424469, 0.16163519024848938, 0.08081759512424469, 0.08081759512424469, 0.3328201472759247, 0.3328201472759247, 0.1331280618906021, 0.1331280618906021, 0.5192364454269409, 0.11538588255643845, 0.05769294127821922, 0.2307717651128769, 0.05769294127821922, 0.13221390545368195, 0.6610695123672485, 0.044071298092603683, 0.044071298092603683, 0.044071298092603683, 0.044071298092603683, 0.044071298092603683, 0.24486511945724487, 0.08162170648574829, 0.16324341297149658, 0.24486511945724487, 0.08162170648574829, 0.16324341297149658, 0.9793491959571838, 0.8177842497825623, 0.16355685889720917, 0.44445982575416565, 0.04591527208685875, 0.07713765650987625, 0.31773367524147034, 0.038568828254938126, 0.023875942453742027, 0.005509832873940468, 0.001836610957980156, 0.014692887663841248, 0.00918305478990078, 0.00918305478990078, 0.00918305478990078, 0.005509832873940468, 0.24962744116783142, 0.18011093139648438, 0.19591014087200165, 0.08531570434570312, 0.053717296570539474, 0.03159841150045395, 0.1137542799115181, 0.03159841150045395, 0.006319682113826275, 0.01263936422765255, 0.022118886932730675, 0.01263936422765255, 0.0031598410569131374, 0.0031598410569131374, 0.9504535794258118, 0.004224237985908985, 0.00844847597181797, 0.004224237985908985, 0.004224237985908985, 0.0211211908608675, 0.386427104473114, 0.013325072824954987, 0.14657580852508545, 0.2931516170501709, 0.14657580852508545, 0.14113475382328033, 0.14113475382328033, 0.07056737691164017, 0.4234042763710022, 0.2117021381855011, 0.052923720329999924, 0.4730057716369629, 0.019846394658088684, 0.23154127597808838, 0.009923197329044342, 0.0033077325206249952, 0.18523302674293518, 0.01653866283595562, 0.0033077325206249952, 0.16688840091228485, 0.2503325939178467, 0.2503325939178467, 0.08344420045614243, 0.16688840091228485, 0.08344420045614243, 0.6608278155326843, 0.18880794942378998, 0.047201987355947495, 0.047201987355947495, 0.00146573968231678, 0.3180655241012573, 0.00146573968231678, 0.6053504943847656, 0.00146573968231678, 0.00879443809390068, 0.061561066657304764, 0.01599196530878544, 0.047975894063711166, 0.3997991383075714, 0.11194375157356262, 0.36781519651412964, 0.03198393061757088, 0.01599196530878544, 0.0015274292090907693, 0.42462530732154846, 0.012219433672726154, 0.0015274292090907693, 0.01069200411438942, 0.5055790543556213, 0.0030548584181815386, 0.0015274292090907693, 0.012219433672726154, 0.027493726462125778, 0.7270844578742981, 0.07653520256280899, 0.15307040512561798, 0.002631399780511856, 0.6999523043632507, 0.2920853793621063, 0.8021349906921387, 0.13368916511535645, 0.9641627669334412, 0.027547508478164673, 0.0035303165204823017, 0.756664514541626, 0.0011767721734941006, 0.2353544384241104, 0.5689870715141296, 0.16256773471832275, 0.08128386735916138, 0.16256773471832275, 0.09942831844091415, 0.29828494787216187, 0.15908531844615936, 0.11931398510932922, 0.03977132961153984, 0.2585136294364929, 0.01988566480576992, 0.13996636867523193, 0.6998318433761597, 0.06998318433761597, 0.06998318433761597, 0.7014567852020264, 0.1753641963005066, 0.0876820981502533, 0.4505373239517212, 0.0869457945227623, 0.07113747298717499, 0.22131657600402832, 0.01580832712352276, 0.03161665424704552, 0.01580832712352276, 0.06323330849409103, 0.03161665424704552, 0.00790416356176138, 0.7503271102905273, 0.01765475422143936, 0.030895821750164032, 0.00882737711071968, 0.02206844463944435, 0.013241066597402096, 0.15447910130023956, 0.6625617742538452, 0.18930335342884064, 0.8577009439468384, 0.11067108809947968, 0.1443079113960266, 0.27418503165245056, 0.23810803890228271, 0.007215395569801331, 0.03607697784900665, 0.07936935126781464, 0.15873870253562927, 0.02164618670940399, 0.014430791139602661, 0.007215395569801331, 0.007215395569801331, 0.007215395569801331, 0.35429060459136963, 0.35429060459136963, 0.17714530229568481, 0.951991856098175, 0.9114365577697754, 0.036096494644880295, 0.009024123661220074, 0.027072371914982796, 0.9584810733795166, 0.02590489387512207, 0.834176242351532, 0.0579289048910141, 0.02317156083881855, 0.0811004638671875, 0.4113473892211914, 0.10283684730529785, 0.051418423652648926, 0.14140066504478455, 0.012854605913162231, 0.012854605913162231, 0.051418423652648926, 0.07712763547897339, 0.08998224139213562, 0.051418423652648926, 0.8901529908180237, 0.06856866180896759, 0.0881597027182579, 0.5975269079208374, 0.07836418598890305, 0.09795522689819336, 0.058773137629032135, 0.6115918159484863, 0.019970344379544258, 0.03494810312986374, 0.1422886997461319, 0.027459222823381424, 0.022466637194156647, 0.03494810312986374, 0.04493327438831329, 0.027459222823381424, 0.014977757818996906, 0.007488878909498453, 0.009985172189772129, 0.49216386675834656, 0.09160147607326508, 0.06210269778966904, 0.20028118789196014, 0.027946213260293007, 0.03105134889483452, 0.012420538812875748, 0.027946213260293007, 0.01552567444741726, 0.012420538812875748, 0.010867971926927567, 0.00776283722370863, 0.006210269406437874, 0.05752815678715706, 0.009588026441633701, 0.7766301035881042, 0.1438203901052475, 0.009588026441633701, 0.4766010642051697, 0.04964594542980194, 0.041702594608068466, 0.2561730742454529, 0.02184421569108963, 0.013900864869356155, 0.019858378916978836, 0.06751848757266998, 0.019858378916978836, 0.011915027163922787, 0.007943350821733475, 0.007943350821733475, 0.003971675410866737, 0.005353406071662903, 0.0026767030358314514, 0.6102882623672485, 0.29443731904029846, 0.0026767030358314514, 0.01606021821498871, 0.05353406071662903, 0.008030109107494354, 0.41481858491897583, 0.20740929245948792, 0.06913643330335617, 0.034568216651678085, 0.13827286660671234, 0.13827286660671234, 0.09160006046295166, 0.45538315176963806, 0.15441152453422546, 0.013085722923278809, 0.05496003478765488, 0.14656008780002594, 0.020937155932188034, 0.013085722923278809, 0.0052342889830470085, 0.010468577966094017, 0.013085722923278809, 0.013085722923278809, 0.0026171444915235043, 0.5836610198020935, 0.35436564683914185, 0.041690073907375336, 0.964527428150177, 0.02296493947505951, 0.2531431317329407, 0.15821446478366852, 0.12657156586647034, 0.031642891466617584, 0.06328578293323517, 0.15821446478366852, 0.1898573487997055, 0.08002368360757828, 0.3200947344303131, 0.16004736721515656, 0.08002368360757828, 0.3200947344303131, 0.18673700094223022, 0.2928822338581085, 0.3420235514640808, 0.01769087463617325, 0.00393130537122488, 0.055038273334503174, 0.04914131760597229, 0.013759568333625793, 0.009828262962400913, 0.00393130537122488, 0.00393130537122488, 0.00393130537122488, 0.01572522148489952, 0.00393130537122488, 0.25539591908454895, 0.42565983533859253, 0.25539591908454895, 0.3068150281906128, 0.14467701315879822, 0.16213802993297577, 0.1047661080956459, 0.0673496425151825, 0.02743874303996563, 0.0698440745472908, 0.039910897612571716, 0.0174610186368227, 0.02743874303996563, 0.014966586604714394, 0.009977724403142929, 0.0024944311007857323, 0.22300706803798676, 0.27023208141326904, 0.16266398131847382, 0.031483352184295654, 0.06821392476558685, 0.07608476281166077, 0.09969727694988251, 0.007870838046073914, 0.02361251227557659, 0.013118063099682331, 0.010494450107216835, 0.0052472250536084175, 0.0026236125268042088, 0.0052472250536084175, 0.0026236125268042088, 0.333734393119812, 0.16911204159259796, 0.11224250495433807, 0.1272081732749939, 0.07931803911924362, 0.035917602479457855, 0.049386702477931976, 0.014965667389333248, 0.049386702477931976, 0.017958801239728928, 0.004489700309932232, 0.002993133617565036, 0.004489700309932232, 0.001496566808782518, 0.6114023327827454, 0.26202958822250366, 0.11910435557365417, 0.9800533056259155, 0.43907466530799866, 0.1756298691034317, 0.1756298691034317, 0.08781493455171585, 0.08781493455171585, 0.5077281594276428, 0.45428308844566345, 0.6470758318901062, 0.04977506399154663, 0.04977506399154663, 0.19910025596618652, 0.5360745191574097, 0.35738301277160645, 0.4177277386188507, 0.03978359326720238, 0.25859335064888, 0.17902617156505585, 0.03978359326720238, 0.01989179663360119, 0.01989179663360119, 0.637272834777832, 0.09103897958993912, 0.04551948979496956, 0.09103897958993912, 0.04551948979496956, 0.04551948979496956, 0.04551948979496956, 0.04551948979496956, 0.19076158106327057, 0.19076158106327057, 0.12717439234256744, 0.12717439234256744, 0.2543487846851349, 0.43268537521362305, 0.2036166489124298, 0.07635624706745148, 0.04242013394832611, 0.11029235273599625, 0.03393610939383507, 0.016968054696917534, 0.025452081114053726, 0.008484027348458767, 0.03393610939383507, 0.016968054696917534, 0.008484027348458767, 0.3624339699745178, 0.15101416409015656, 0.1283620297908783, 0.09815920144319534, 0.04530424624681473, 0.007550708018243313, 0.08305779099464417, 0.03020283207297325, 0.03020283207297325, 0.022652123123407364, 0.007550708018243313, 0.015101416036486626, 0.015101416036486626, 0.5501044392585754, 0.0825156718492508, 0.02750522270798683, 0.02750522270798683, 0.02750522270798683, 0.05501044541597366, 0.0825156718492508, 0.02750522270798683, 0.0825156718492508, 0.02750522270798683, 0.8428641557693481, 0.12770669162273407, 0.12913228571414948, 0.12913228571414948, 0.17217639088630676, 0.04304409772157669, 0.30130869150161743, 0.12913228571414948, 0.04304409772157669, 0.15236124396324158, 0.5098241567611694, 0.07032057642936707, 0.02344019152224064, 0.041020337492227554, 0.01172009576112032, 0.09962081909179688, 0.041020337492227554, 0.01172009576112032, 0.01172009576112032, 0.00586004788056016, 0.01172009576112032, 0.00586004788056016, 0.00586004788056016, 0.9680556654930115, 0.8814692497253418, 0.01711590774357319, 0.025673862546682358, 0.06846363097429276, 0.7358364462852478, 0.08656898885965347, 0.1298534870147705, 0.04260645806789398, 0.02130322903394699, 0.8393471837043762, 0.004260645713657141, 0.004260645713657141, 0.07243097573518753, 0.004260645713657141, 0.004260645713657141, 0.27502501010894775, 0.3437812626361847, 0.06875625252723694, 0.06875625252723694, 0.13751250505447388, 0.7709522843360901, 0.13056449592113495, 0.031086785718798637, 0.006217357236891985, 0.01243471447378397, 0.037304144352674484, 0.16299769282341003, 0.15394227206707, 0.2671351134777069, 0.024902425706386566, 0.08149884641170502, 0.14035913348197937, 0.13583141565322876, 0.0067915706895291805, 0.0022638568188995123, 0.013583141379058361, 0.004527713637799025, 0.0022638568188995123, 0.0022638568188995123, 0.6956093311309814, 0.17390233278274536, 0.17390233278274536, 0.06640655547380447, 0.8632852435112, 0.06640655547380447, 0.38072267174720764, 0.10660234838724136, 0.1979757845401764, 0.09137343615293503, 0.045686718076467514, 0.045686718076467514, 0.030457813292741776, 0.045686718076467514, 0.015228906646370888, 0.030457813292741776, 0.48634204268455505, 0.13895486295223236, 0.13895486295223236, 0.06947743147611618, 0.13895486295223236, 0.09089970588684082, 0.7271976470947266, 0.7272137403488159, 0.05073584243655205, 0.045098524540662766, 0.0676477923989296, 0.0169119480997324, 0.05637315660715103, 0.005637315567582846, 0.011274631135165691, 0.0169119480997324, 0.8108133673667908, 0.10810844600200653, 0.054054223001003265, 0.010810844600200653, 0.022487513720989227, 0.9219880104064941, 0.022487513720989227, 0.618672788143158, 0.088381826877594, 0.176763653755188, 0.088381826877594, 0.6505619883537292, 0.18974724411964417, 0.027106748893857002, 0.027106748893857002, 0.027106748893857002, 0.027106748893857002, 0.027106748893857002, 0.027106748893857002, 0.032413989305496216, 0.06482797861099243, 0.6158658266067505, 0.016206994652748108, 0.2106909453868866, 0.06482797861099243, 0.9719529747962952, 0.008917000144720078, 0.531094491481781, 0.030980510637164116, 0.01770314946770668, 0.1947346329689026, 0.01327736210078001, 0.01770314946770668, 0.03540629893541336, 0.03540629893541336, 0.039832085371017456, 0.057535234838724136, 0.01770314946770668, 0.00442578736692667, 0.6626144647598267, 0.30582207441329956, 0.9762983918190002, 0.32288193702697754, 0.2007898986339569, 0.18313804268836975, 0.07428491115570068, 0.0536910742521286, 0.036039214581251144, 0.06913644820451736, 0.02427130751311779, 0.01176790613681078, 0.007354941684752703, 0.004412964917719364, 0.006619447376579046, 0.004412964917719364, 0.0014709882671013474, 0.36015892028808594, 0.2881271243095398, 0.04321907088160515, 0.0864381417632103, 0.04321907088160515, 0.0288127139210701, 0.0288127139210701, 0.01440635696053505, 0.0864381417632103, 0.26825132966041565, 0.117359958589077, 0.20118848979473114, 0.033531416207551956, 0.10059424489736557, 0.15089137852191925, 0.10059424489736557, 0.016765708103775978, 0.9586040377616882, 0.004437981639057398, 0.02662789076566696, 0.27730098366737366, 0.27730098366737366, 0.05546019971370697, 0.1663805991411209, 0.05546019971370697, 0.11092039942741394, 0.4999206066131592, 0.04999206215143204, 0.09998412430286407, 0.2499603033065796, 0.09998412430286407, 0.4299377202987671, 0.09651663154363632, 0.05264543741941452, 0.1316135972738266, 0.09651663154363632, 0.01754847913980484, 0.02632271870970726, 0.0438711978495121, 0.01754847913980484, 0.02632271870970726, 0.06141967698931694, 0.01754847913980484, 0.20385338366031647, 0.2026471495628357, 0.2593401074409485, 0.09287994354963303, 0.08323007822036743, 0.05789918452501297, 0.05307425186038017, 0.00964986439794302, 0.006031164899468422, 0.00964986439794302, 0.00482493219897151, 0.00844363123178482, 0.006031164899468422, 0.0012062330497428775, 0.0012062330497428775, 0.5694311857223511, 0.08134730905294418, 0.32538923621177673, 0.14901815354824066, 0.024836359545588493, 0.7450907826423645, 0.04967271909117699, 0.024836359545588493, 0.17523007094860077, 0.05841002240777016, 0.4088701605796814, 0.11682004481554031, 0.11682004481554031, 0.2506210505962372, 0.2506210505962372, 0.08354035019874573, 0.16708070039749146, 0.16708070039749146, 0.4495319128036499, 0.02115444280207157, 0.05817471817135811, 0.3437597155570984, 0.010577221401035786, 0.005288610700517893, 0.010577221401035786, 0.02115444280207157, 0.026443054899573326, 0.04230888560414314, 0.005288610700517893, 0.3957601487636566, 0.14421766996383667, 0.16434107720851898, 0.14924852550029755, 0.038569845259189606, 0.028508145362138748, 0.030185094103217125, 0.020123396068811417, 0.0033538993448019028, 0.010061698034405708, 0.010061698034405708, 0.005030849017202854, 0.0016769496724009514, 0.2628694176673889, 0.022858209908008575, 0.03428731486201286, 0.5371679067611694, 0.005714552477002144, 0.011429104954004288, 0.005714552477002144, 0.022858209908008575, 0.011429104954004288, 0.02857276052236557, 0.04000186547636986, 0.011429104954004288, 0.5295819044113159, 0.040364474058151245, 0.06135400012135506, 0.17760369181632996, 0.032291579991579056, 0.019374947994947433, 0.024218684062361717, 0.046822790056467056, 0.02260410599410534, 0.012916631996631622, 0.019374947994947433, 0.012916631996631622, 0.0016145789995789528, 0.3564625084400177, 0.08911562711000443, 0.08911562711000443, 0.08911562711000443, 0.08911562711000443, 0.08911562711000443, 0.17823125422000885, 0.026716820895671844, 0.05343364179134369, 0.05343364179134369, 0.026716820895671844, 0.7747877836227417, 0.026716820895671844, 0.026716820895671844, 0.29659172892570496, 0.09886390715837479, 0.09886390715837479, 0.09886390715837479, 0.29659172892570496, 0.09886390715837479, 0.23626354336738586, 0.6497247219085693, 0.059065885841846466, 0.001928751589730382, 0.005786254536360502, 0.3510327935218811, 0.001928751589730382, 0.6345592737197876, 0.006335279438644648, 0.7792393565177917, 0.20906421542167664, 0.3120359778404236, 0.15785349905490875, 0.18171507120132446, 0.10278832167387009, 0.053229667246341705, 0.07158472388982773, 0.0825977623462677, 0.005506517365574837, 0.009177529253065586, 0.0036710116546601057, 0.0036710116546601057, 0.011013034731149673, 0.0036710116546601057, 0.0018355058273300529, 0.04012364149093628, 0.04012364149093628, 0.722225546836853, 0.16049456596374512, 0.2244592010974884, 0.1781034916639328, 0.2244592010974884, 0.11466936767101288, 0.09271140396595001, 0.07075344026088715, 0.021957965567708015, 0.014638642780482769, 0.014638642780482769, 0.009759095497429371, 0.02439773827791214, 0.0024397738743573427, 0.0073193213902413845, 0.0024397738743573427, 0.29048168659210205, 0.16508248448371887, 0.173019140958786, 0.22857575118541718, 0.05238194018602371, 0.03333396464586258, 0.014285984449088573, 0.009523989632725716, 0.007936658337712288, 0.009523989632725716, 0.0063493261113762856, 0.004761994816362858, 0.004761994816362858, 0.45295828580856323, 0.16013677418231964, 0.05337892472743988, 0.1006573960185051, 0.08388116210699081, 0.0183013454079628, 0.038127802312374115, 0.038127802312374115, 0.0183013454079628, 0.015251120552420616, 0.007625560276210308, 0.0091506727039814, 0.001525112078525126, 0.001525112078525126, 0.03091059811413288, 0.9427732229232788, 0.01545529905706644, 0.32702523469924927, 0.0726722702383995, 0.32702523469924927, 0.03633613511919975, 0.2180168181657791, 0.16218094527721405, 0.020272618159651756, 0.8109047412872314, 0.5295064449310303, 0.08825107663869858, 0.08825107663869858, 0.08825107663869858, 0.17650215327739716, 0.46881967782974243, 0.02344098500907421, 0.46881967782974243, 0.3346638083457947, 0.16733190417289734, 0.16733190417289734, 0.16733190417289734, 0.08366595208644867, 0.008094768971204758, 0.760908305644989, 0.22665353119373322, 0.3088539242744446, 0.16052275896072388, 0.23164042830467224, 0.04876640811562538, 0.06502187252044678, 0.04673447459936142, 0.02438320405781269, 0.06095800921320915, 0.016255468130111694, 0.004063867032527924, 0.008127734065055847, 0.012191602028906345, 0.006095801014453173, 0.002031933516263962, 0.19583633542060852, 0.2643790543079376, 0.19779470562934875, 0.05679253861308098, 0.08812635391950607, 0.07833453267812729, 0.07245944440364838, 0.017625270411372185, 0.005875090137124062, 0.003916726913303137, 0.0019583634566515684, 0.009791816584765911, 0.0019583634566515684, 0.0019583634566515684, 0.0019583634566515684, 0.2958316504955292, 0.2337598204612732, 0.1030128002166748, 0.17036733031272888, 0.07791993767023087, 0.04226166382431984, 0.013206769712269306, 0.01452744659036398, 0.011886092834174633, 0.0039620306342840195, 0.011886092834174633, 0.013206769712269306, 0.006603384856134653, 0.001320676994509995, 0.001320676994509995, 0.39382877945899963, 0.1575315147638321, 0.3150630295276642, 0.07876575738191605, 0.17581027746200562, 0.17581027746200562, 0.17581027746200562, 0.35162055492401123, 0.08790513873100281, 0.9495181441307068, 0.026559947058558464, 0.013279973529279232, 0.07396280765533447, 0.8505722284317017, 0.036981403827667236, 0.036981403827667236, 0.07772226631641388, 0.12953712046146393, 0.025907423347234726, 0.7254078388214111, 0.10903462767601013, 0.258452445268631, 0.23826085031032562, 0.04442151263356209, 0.20595428347587585, 0.040383193641901016, 0.036344874650239944, 0.008076638914644718, 0.020191596820950508, 0.01211495790630579, 0.008076638914644718, 0.01211495790630579, 0.004038319457322359, 0.468559205532074, 0.1874236762523651, 0.28113552927970886, 0.2204722911119461, 0.33070841431617737, 0.055118072777986526, 0.11023614555597305, 0.11023614555597305, 0.11023614555597305, 0.45749983191490173, 0.13071423768997192, 0.19607135653495789, 0.13071423768997192, 0.726915717124939, 0.12827923893928528, 0.12827923893928528, 0.04275974631309509, 0.043012991547584534, 0.6882078647613525, 0.1290389746427536, 0.08602598309516907, 0.7245320677757263, 0.08050356805324554, 0.08050356805324554, 0.08050356805324554, 0.08287204056978226, 0.6629763245582581, 0.16574408113956451, 0.08287204056978226, 0.18109606206417084, 0.18109606206417084, 0.27164408564567566, 0.09054803103208542, 0.18109606206417084, 0.11871954053640366, 0.7123172283172607, 0.03957318142056465, 0.03957318142056465, 0.05935977026820183, 0.019786590710282326, 0.0654490664601326, 0.6544906497001648, 0.0654490664601326, 0.1308981329202652, 0.0654490664601326, 0.050489746034145355, 0.10097949206829071, 0.3029384911060333, 0.2524487376213074, 0.2524487376213074, 0.585794985294342, 0.10650818049907684, 0.05325409024953842, 0.2130163609981537, 0.2224508672952652, 0.29660114645957947, 0.14830057322978973, 0.07415028661489487, 0.2224508672952652, 0.29229122400283813, 0.09743040800094604, 0.09743040800094604, 0.09743040800094604, 0.09743040800094604, 0.1948608160018921, 0.09743040800094604, 0.8188745379447937, 0.09959284961223602, 0.05532936006784439, 0.011065872386097908, 0.2730015516281128, 0.109200619161129, 0.109200619161129, 0.436802476644516, 0.4374660551548004, 0.1874854564666748, 0.1249902993440628, 0.1249902993440628, 0.0624951496720314, 0.0624951496720314, 0.4130382239818573, 0.17701637744903564, 0.059005461633205414, 0.059005461633205414, 0.17701637744903564, 0.059005461633205414, 0.4079263210296631, 0.2447557896375656, 0.08158526569604874, 0.08158526569604874, 0.16317053139209747, 0.04921978712081909, 0.14765936136245728, 0.19687914848327637, 0.04921978712081909, 0.04921978712081909, 0.39375829696655273, 0.14765936136245728, 0.10151959210634232, 0.3248627185821533, 0.14212743937969208, 0.020303919911384583, 0.10151959210634232, 0.28425487875938416, 0.020303919911384583, 0.09098789095878601, 0.29318320751190186, 0.19208554923534393, 0.010109765455126762, 0.19208554923534393, 0.12131718546152115, 0.020219530910253525, 0.010109765455126762, 0.060658592730760574, 0.04528258368372917, 0.6339561939239502, 0.27169549465179443, 0.8024346828460693, 0.1750766634941101, 0.238182932138443, 0.15878862142562866, 0.238182932138443, 0.3175772428512573, 0.012865227647125721, 0.19619472324848175, 0.3227027952671051, 0.19190630316734314, 0.0064326138235628605, 0.129724383354187, 0.0021442044526338577, 0.08684028685092926, 0.0064326138235628605, 0.0278746597468853, 0.008576817810535431, 0.0021442044526338577, 0.0021442044526338577, 0.0021442044526338577, 0.35223454236984253, 0.45287299156188965, 0.10063844174146652, 0.9072569608688354, 0.013957799412310123, 0.06978899985551834, 0.09321676939725876, 0.8728479743003845, 0.008474252186715603, 0.021185629069805145, 0.35000091791152954, 0.16774238646030426, 0.11451643705368042, 0.10645189881324768, 0.10483898967504501, 0.0016129075083881617, 0.027419427409768105, 0.006451630033552647, 0.05967757850885391, 0.006451630033552647, 0.03064524196088314, 0.020967798307538033, 0.0032258150167763233, 0.5235565900802612, 0.2617782950401306, 0.1745188683271408, 0.3360796570777893, 0.42009955644607544, 0.08401991426944733, 0.2500747740268707, 0.3069099485874176, 0.20460663735866547, 0.02273407019674778, 0.01136703509837389, 0.06820221245288849, 0.01136703509837389, 0.0795692503452301, 0.04546814039349556, 0.5301395058631897, 0.4638720452785492, 0.4541561007499695, 0.1513853669166565, 0.302770733833313, 0.4369452893733978, 0.14564843475818634, 0.07282421737909317, 0.07282421737909317, 0.07282421737909317, 0.07282421737909317, 0.07282421737909317, 0.07282421737909317, 0.487065851688385, 0.026327883824706078, 0.013163941912353039, 0.44757401943206787, 0.013163941912353039, 0.45528990030288696, 0.13713550567626953, 0.11885077506303787, 0.09690909087657928, 0.04205489158630371, 0.018284734338521957, 0.036569468677043915, 0.03291252255439758, 0.014627788215875626, 0.01645626127719879, 0.014627788215875626, 0.009142367169260979, 0.0036569470539689064, 0.0018284735269844532, 0.5412400960922241, 0.09020668268203735, 0.09020668268203735, 0.1804133653640747, 0.09020668268203735, 0.0026144131552428007, 0.7843239307403564, 0.20915304124355316, 0.3121097981929779, 0.2339078038930893, 0.20877143740653992, 0.04608332738280296, 0.06703029572963715, 0.029325753450393677, 0.03211868181824684, 0.01955050230026245, 0.007680554874241352, 0.012568180449306965, 0.020946966484189034, 0.005585858132690191, 0.0013964645331725478, 0.002094696741551161, 0.0006982322665862739, 0.8699299097061157, 0.05612450838088989, 0.01870816946029663, 0.01870816946029663, 0.009354084730148315, 0.009354084730148315, 0.5364224314689636, 0.017880748957395554, 0.07152299582958221, 0.08940374106168747, 0.03576149791479111, 0.07152299582958221, 0.03576149791479111, 0.12516523897647858, 0.13736848533153534, 0.12994316220283508, 0.1447938084602356, 0.23389768600463867, 0.08167855441570282, 0.1596444547176361, 0.014850646257400513, 0.007425323128700256, 0.01856330782175064, 0.003712661564350128, 0.029701292514801025, 0.007425323128700256, 0.029701292514801025, 0.20294910669326782, 0.20614515244960785, 0.1006755381822586, 0.09747949242591858, 0.11345973610877991, 0.17738071084022522, 0.012784196063876152, 0.020774317905306816, 0.006392098031938076, 0.009588146582245827, 0.009588146582245827, 0.001598024507984519, 0.03995061293244362, 0.001598024507984519, 0.055035870522260666, 0.38525110483169556, 0.018345290794968605, 0.38525110483169556, 0.1284170299768448, 0.5934642553329468, 0.03343460336327553, 0.02507595345377922, 0.05851055681705475, 0.041793256998062134, 0.016717301681637764, 0.05015190690755844, 0.016717301681637764, 0.07522785663604736, 0.008358650840818882, 0.008358650840818882, 0.05015190690755844, 0.008358650840818882, 0.1126198098063469, 0.4504792392253876, 0.12388178706169128, 0.01126198098063469, 0.06757188588380814, 0.02252396196126938, 0.05630990490317345, 0.04504792392253876, 0.06757188588380814, 0.02252396196126938, 0.01126198098063469, 0.8911929130554199, 0.07129543274641037, 0.29319116473197937, 0.1504874974489212, 0.1271359920501709, 0.1556767225265503, 0.08821681141853333, 0.07005453109741211, 0.023351509124040604, 0.04929763078689575, 0.015567672438919544, 0.01037844829261303, 0.005189224146306515, 0.007783836219459772, 0.0025946120731532574, 0.005189224146306515, 0.0025946120731532574, 0.33899348974227905, 0.15930841863155365, 0.08891632407903671, 0.16857053339481354, 0.10929298400878906, 0.037048470228910446, 0.031491197645664215, 0.0055572702549397945, 0.012966964393854141, 0.011114540509879589, 0.016671810299158096, 0.012966964393854141, 0.0055572702549397945, 0.0037048468366265297, 0.0018524234183132648, 0.3050093650817871, 0.20697063207626343, 0.07625234127044678, 0.09803872555494308, 0.05446595698595047, 0.18518425524234772, 0.010893191210925579, 0.03267957270145416, 0.021786382421851158, 0.010893191210925579, 0.010893191210925579, 0.25096946954727173, 0.25096946954727173, 0.5019389390945435, 0.7595191597938538, 0.015500390902161598, 0.09300234168767929, 0.015500390902161598, 0.015500390902161598, 0.09300234168767929, 0.19469261169433594, 0.22518663108348846, 0.1759270578622818, 0.011728470213711262, 0.10321053862571716, 0.107901930809021, 0.07740790396928787, 0.01876555196940899, 0.056296657770872116, 0.0023456939961761236, 0.011728470213711262, 0.011728470213711262, 0.0023456939961761236, 0.3928067088127136, 0.1359715610742569, 0.30215901136398315, 0.04532385244965553, 0.04532385244965553, 0.06798578053712845, 0.2881668210029602, 0.07204170525074005, 0.21612511575222015, 0.1440834105014801, 0.1440834105014801, 0.07204170525074005, 0.45497989654541016, 0.1510876715183258, 0.08584526926279068, 0.10301432013511658, 0.029187390580773354, 0.029187390580773354, 0.03777191787958145, 0.03605501353740692, 0.0034338105469942093, 0.013735242187976837, 0.025753580033779144, 0.022319769486784935, 0.005150715820491314, 0.0017169052734971046, 0.47624167799949646, 0.19049668312072754, 0.2857450246810913, 0.4897139072418213, 0.0837373360991478, 0.13682083785533905, 0.15625984966754913, 0.013457786291837692, 0.016448406502604485, 0.01196247711777687, 0.04560694471001625, 0.013457786291837692, 0.009719512425363064, 0.006728893145918846, 0.01196247711777687, 0.0007476548198610544, 0.0022429644595831633, 0.38797399401664734, 0.19398699700832367, 0.12932465970516205, 0.19398699700832367, 0.35339218378067017, 0.28271374106407166, 0.07067843526601791, 0.21203529834747314, 0.4198904037475586, 0.1251596361398697, 0.16438017785549164, 0.12054546177387238, 0.032299261540174484, 0.036913443356752396, 0.03633666783571243, 0.026531536132097244, 0.009805132634937763, 0.006344497669488192, 0.005190952681005001, 0.009228360839188099, 0.0069212703965604305, 0.0005767725524492562, 0.0005767725524492562, 0.3843005299568176, 0.22495640814304352, 0.060925692319869995, 0.1546575278043747, 0.02811955101788044, 0.01874636672437191, 0.0046865916810929775, 0.042179323732852936, 0.01874636672437191, 0.042179323732852936, 0.0046865916810929775, 0.0046865916810929775, 0.0046865916810929775, 0.0046865916810929775, 0.6025303602218628, 0.010212378576397896, 0.010212378576397896, 0.030637135729193687, 0.34722086787223816, 0.010212378576397896, 0.39385342597961426, 0.013350963592529297, 0.360476016998291, 0.0066754817962646484, 0.14018511772155762, 0.04672837257385254, 0.0066754817962646484, 0.020026445388793945, 0.36533015966415405, 0.08430695533752441, 0.028102319687604904, 0.25292086601257324, 0.05620463937520981, 0.14051160216331482, 0.028102319687604904, 0.08430695533752441, 0.4761366546154022, 0.21642574667930603, 0.043285150080919266, 0.08657030016183853, 0.043285150080919266, 0.043285150080919266, 0.043285150080919266, 0.37661993503570557, 0.12800846993923187, 0.11742924898862839, 0.16820946335792542, 0.061359427869319916, 0.041258927434682846, 0.033853478729724884, 0.02010050229728222, 0.01375297550112009, 0.007405448239296675, 0.016926739364862442, 0.00952129065990448, 0.0042316848412156105, 0.0010579212103039026, 0.0010579212103039026, 0.44400158524513245, 0.011100039817392826, 0.510601818561554, 0.011100039817392826, 0.011100039817392826, 0.41950151324272156, 0.0978836864233017, 0.14449496567249298, 0.12585045397281647, 0.05904095247387886, 0.017090803012251854, 0.041950151324272156, 0.0326278954744339, 0.01553709339350462, 0.024859348312020302, 0.0062148370780050755, 0.009322255849838257, 0.004661127924919128, 0.39635348320007324, 0.08665792644023895, 0.10796725749969482, 0.214513897895813, 0.045459896326065063, 0.03977740928530693, 0.018468083813786507, 0.02415057085454464, 0.01562684029340744, 0.018468083813786507, 0.012785595841705799, 0.009944352321326733, 0.007103108800947666, 0.0028412435203790665, 0.32720011472702026, 0.16360005736351013, 0.2454000860452652, 0.08180002868175507, 0.16360005736351013, 0.3047632575035095, 0.23958267271518707, 0.1444542557001114, 0.052849117666482925, 0.04756420478224754, 0.031709469854831696, 0.05637239292263985, 0.06694221496582031, 0.007046549115329981, 0.012331460602581501, 0.01937801018357277, 0.012331460602581501, 0.0035232745576649904, 0.0017616372788324952, 0.053896185010671616, 0.7904773950576782, 0.07186158001422882, 0.07186158001422882, 0.09363260120153427, 0.0267521720379591, 0.8560695052146912, 0.01337608601897955, 0.2579861283302307, 0.7094618082046509, 0.49847477674484253, 0.23191073536872864, 0.197257399559021, 0.002665640553459525, 0.007996921427547932, 0.05331281200051308, 0.00533128110691905, 0.7538753151893616, 0.21963295340538025, 0.01187205221503973, 0.9396755695343018, 0.18133538961410522, 0.11539524793624878, 0.09891021251678467, 0.2555180490016937, 0.17309287190437317, 0.024727553129196167, 0.049455106258392334, 0.0741826593875885, 0.024727553129196167, 0.4299280643463135, 0.0644892081618309, 0.10748201608657837, 0.17197123169898987, 0.021496403962373734, 0.17197123169898987, 0.021496403962373734, 0.9840255975723267, 0.0024177534505724907, 0.0024177534505724907, 0.004835506901144981, 0.684503436088562, 0.11830923706293106, 0.008450659923255444, 0.033802639693021774, 0.14366121590137482, 0.08956364542245865, 0.1791272908449173, 0.08956364542245865, 0.26869094371795654, 0.08956364542245865, 0.08956364542245865, 0.08956364542245865, 0.2361830770969391, 0.3542746305465698, 0.2361830770969391, 0.05904576927423477, 0.05904576927423477, 0.07894273102283478, 0.05920704826712608, 0.6512775421142578, 0.19735682010650635, 0.3096807301044464, 0.2655980587005615, 0.13886038959026337, 0.05951159819960594, 0.03526613116264343, 0.031959932297468185, 0.10249219834804535, 0.017633065581321716, 0.014326865784823895, 0.005510332994163036, 0.013224799185991287, 0.0011020665988326073, 0.0011020665988326073, 0.0011020665988326073, 0.9619167447090149, 0.4952550530433655, 0.20392854511737823, 0.26219385862350464, 0.16823431849479675, 0.04205857962369919, 0.4626443684101105, 0.2523514926433563, 0.0017760666087269783, 0.28594672679901123, 0.6216233372688293, 0.0017760666087269783, 0.01598460040986538, 0.07104266434907913, 0.9768256545066833, 0.07678266614675522, 0.4277891218662262, 0.11517399549484253, 0.021937904879450798, 0.0822671428322792, 0.13711190223693848, 0.03290685638785362, 0.027422379702329636, 0.01645342819392681, 0.03290685638785362, 0.01645342819392681, 0.0054844762198626995, 0.010968952439725399, 0.13318434357643127, 0.3912290036678314, 0.13734635710716248, 0.03745809569954872, 0.06659217178821564, 0.024972064420580864, 0.03329608589410782, 0.05410613864660263, 0.02081005461513996, 0.05410613864660263, 0.024972064420580864, 0.01664804294705391, 0.004162010736763477, 0.13782326877117157, 0.3445581793785095, 0.17720134556293488, 0.01476677879691124, 0.04922259598970413, 0.03445581719279289, 0.10828971117734909, 0.08367841690778732, 0.004922259598970413, 0.01476677879691124, 0.004922259598970413, 0.01476677879691124, 0.6091741919517517, 0.07614677399396896, 0.2284403294324875, 0.07614677399396896, 0.011751941405236721, 0.16452717781066895, 0.8108839392662048, 0.1156805157661438, 0.08846157044172287, 0.31982260942459106, 0.020414208993315697, 0.19733735918998718, 0.006804736331105232, 0.1156805157661438, 0.06804735958576202, 0.047633152455091476, 0.013609472662210464, 0.4025063216686249, 0.018295740708708763, 0.5671679973602295, 0.28216850757598877, 0.1264893263578415, 0.05837969109416008, 0.39406290650367737, 0.004864974413067102, 0.082704558968544, 0.009729948826134205, 0.01945989765226841, 0.009729948826134205, 0.34884655475616455, 0.22032414376735687, 0.12393233180046082, 0.08262155205011368, 0.10098189860582352, 0.03672068938612938, 0.02754051797091961, 0.009180172346532345, 0.013770258985459805, 0.01836034469306469, 0.004590086173266172, 0.009180172346532345, 0.4893207550048828, 0.009410014376044273, 0.009410014376044273, 0.4799107611179352, 0.3322998583316803, 0.22153323888778687, 0.055383309721946716, 0.11076661944389343, 0.055383309721946716, 0.16614992916584015, 0.3989548981189728, 0.07979097962379456, 0.07979097962379456, 0.1595819592475891, 0.1595819592475891, 0.051839765161275864, 0.10367953032255173, 0.2591988146305084, 0.36287835240364075, 0.1555192917585373, 0.051839765161275864, 0.5120370388031006, 0.07810734957456589, 0.09546453505754471, 0.13885749876499176, 0.008678593672811985, 0.03471437469124794, 0.03471437469124794, 0.01735718734562397, 0.04339297115802765, 0.008678593672811985, 0.008678593672811985, 0.01735718734562397, 0.4568326473236084, 0.5075918436050415, 0.34476539492607117, 0.10969807952642441, 0.15671154856681824, 0.04701346158981323, 0.09925064444541931, 0.07313205301761627, 0.04701346158981323, 0.020894872024655342, 0.041789744049310684, 0.010447436012327671, 0.02611859142780304, 0.015671154484152794, 0.010447436012327671, 0.0052237180061638355, 0.3287114202976227, 0.6284189224243164, 0.019335966557264328, 0.009667983278632164, 0.009667983278632164, 0.29799991846084595, 0.6456664800643921, 0.5994110107421875, 0.03330061212182045, 0.16650305688381195, 0.03330061212182045, 0.1332024484872818, 0.31980273127555847, 0.5116843581199646, 0.19188164174556732, 0.7133509516716003, 0.1358763724565506, 0.03396909311413765, 0.0679381862282753, 0.3295750617980957, 0.16914699971675873, 0.12380862236022949, 0.08544538915157318, 0.08718917518854141, 0.019181618466973305, 0.08893295377492905, 0.020925400778651237, 0.020925400778651237, 0.01569405198097229, 0.019181618466973305, 0.01569405198097229, 0.005231350194662809, 0.4557414650917053, 0.11393536627292633, 0.11393536627292633, 0.28483840823173523, 0.9393748641014099, 0.348097026348114, 0.1183529943227768, 0.14968173205852509, 0.08006232231855392, 0.09572668373584747, 0.033069219440221786, 0.05569552630186081, 0.01740485243499279, 0.045252613723278046, 0.02610727772116661, 0.012183396145701408, 0.006961940787732601, 0.006961940787732601, 0.18409252166748047, 0.12272834777832031, 0.12272834777832031, 0.36818504333496094, 0.18409252166748047, 0.061364173889160156, 0.7535119652748108, 0.014490614645183086, 0.0036226536612957716, 0.010867960751056671, 0.03260388225317001, 0.184755340218544, 0.12383081018924713, 0.12383081018924713, 0.6810694336891174, 0.3947471082210541, 0.5857537984848022, 0.012733777984976768, 0.29205307364463806, 0.4380795955657959, 0.07301326841115952, 0.07301326841115952, 0.07301326841115952, 0.2508229911327362, 0.11190563440322876, 0.18522311747074127, 0.1775054931640625, 0.1254114955663681, 0.07331748306751251, 0.027011705562472343, 0.00385881494730711, 0.009647037833929062, 0.01157644484192133, 0.005788222420960665, 0.01157644484192133, 0.005788222420960665, 0.001929407473653555, 0.1488017439842224, 0.4712055027484894, 0.04960057884454727, 0.024800289422273636, 0.22320261597633362, 0.04960057884454727, 0.22367610037326813, 0.3727934956550598, 0.08947043865919113, 0.02534995786845684, 0.17297618091106415, 0.056664612144231796, 0.007455870043486357, 0.010438217781484127, 0.001491173985414207, 0.014911740086972713, 0.010438217781484127, 0.001491173985414207, 0.008947043679654598, 0.15756292641162872, 0.5177067518234253, 0.20258091390132904, 0.02250899001955986, 0.02250899001955986, 0.02250899001955986, 0.02250899001955986, 0.02250899001955986, 0.4237668216228485, 0.09970983862876892, 0.012463729828596115, 0.3240569829940796, 0.012463729828596115, 0.012463729828596115, 0.09970983862876892, 0.3200955390930176, 0.0902833566069603, 0.11217023432254791, 0.2817935049533844, 0.04103789106011391, 0.05745304748415947, 0.010943436995148659, 0.0300944522023201, 0.010943436995148659, 0.01915101520717144, 0.010943436995148659, 0.008207578212022781, 0.005471718497574329, 0.35459837317466736, 0.03939982131123543, 0.5778640508651733, 0.47218066453933716, 0.07869677990674973, 0.15739355981349945, 0.15739355981349945, 0.07869677990674973, 0.493540495634079, 0.046021461486816406, 0.046021461486816406, 0.26502013206481934, 0.04126061871647835, 0.014282521791756153, 0.019043363630771637, 0.02221725694835186, 0.01745641604065895, 0.009521681815385818, 0.01110862847417593, 0.009521681815385818, 0.0015869468916207552, 0.08195933699607849, 0.16391867399215698, 0.32783734798431396, 0.08195933699607849, 0.16391867399215698, 0.08195933699607849, 0.924207866191864, 0.019254330545663834, 0.03850866109132767, 0.5226835012435913, 0.11615188419818878, 0.05807594209909439, 0.05807594209909439, 0.17422781884670258, 0.05807594209909439, 0.559917688369751, 0.20996913313865662, 0.06998971104621887, 0.13997942209243774, 0.20576612651348114, 0.034294355660676956, 0.6344455480575562, 0.06858871132135391, 0.017147177830338478, 0.3027036488056183, 0.07567591220140457, 0.07567591220140457, 0.3027036488056183, 0.07567591220140457, 0.07567591220140457, 0.03970027342438698, 0.6352043747901917, 0.1588010936975479, 0.03970027342438698, 0.03970027342438698, 0.03970027342438698, 0.0999891608953476, 0.1999783217906952, 0.3999566435813904, 0.1999783217906952, 0.3871431350708008, 0.2903573513031006, 0.0967857837677002, 0.0967857837677002, 0.0967857837677002, 0.10334913432598114, 0.41339653730392456, 0.17224855720996857, 0.03444971144199371, 0.20669826865196228, 0.03444971144199371, 0.3295121490955353, 0.19770729541778564, 0.3954145908355713, 0.6738725900650024, 0.2756751477718353, 0.030630571767687798, 0.2592489421367645, 0.17283262312412262, 0.08641631156206131, 0.17283262312412262, 0.08641631156206131, 0.17283262312412262, 0.16594979166984558, 0.2052067369222641, 0.30513349175453186, 0.1159864142537117, 0.05710100382566452, 0.02319728210568428, 0.05174778401851654, 0.01962847076356411, 0.01427525095641613, 0.01249084435403347, 0.01249084435403347, 0.008922032080590725, 0.005353219341486692, 0.0017844063695520163, 0.5159226655960083, 0.082547627389431, 0.1485857367515564, 0.13413989543914795, 0.0227005984634161, 0.00412738136947155, 0.01857321709394455, 0.03508274257183075, 0.0082547627389431, 0.0165095254778862, 0.006191072054207325, 0.002063690684735775, 0.00412738136947155, 0.13206957280635834, 0.4078619182109833, 0.1981043666601181, 0.031075194478034973, 0.058265987783670425, 0.05049718916416168, 0.06991918385028839, 0.015537597239017487, 0.007768798619508743, 0.0038843993097543716, 0.011653197929263115, 0.011653197929263115, 0.23104116320610046, 0.22003920376300812, 0.17969869077205658, 0.07334639877080917, 0.03667319938540459, 0.03300588205456734, 0.1650294065475464, 0.007334640249609947, 0.007334640249609947, 0.014669280499219894, 0.018336599692702293, 0.007334640249609947, 0.007334640249609947, 0.3339765667915344, 0.09542187303304672, 0.14313280582427979, 0.04771093651652336, 0.04771093651652336, 0.2385546863079071, 0.04771093651652336, 0.5677949786186218, 0.08111356943845749, 0.24334070086479187, 0.01241439487785101, 0.9807372093200684, 0.1268172711133957, 0.19022589921951294, 0.31704315543174744, 0.31704315543174744, 0.06340863555669785, 0.21063737571239471, 0.662003219127655, 0.0300910547375679, 0.0300910547375679, 0.0300910547375679, 0.0300910547375679, 0.11303913593292236, 0.11693704128265381, 0.35470902919769287, 0.09354963153600693, 0.15201815962791443, 0.12083493918180466, 0.015591605566442013, 0.003897901391610503, 0.003897901391610503, 0.023387407884001732, 0.7475394606590271, 0.08305993676185608, 0.08305993676185608, 0.08476460725069046, 0.254293829202652, 0.508587658405304, 0.08476460725069046, 0.965827465057373, 0.016187051311135292, 0.00539568392559886, 0.9825841188430786, 0.9711619019508362, 0.00907627958804369, 0.6533147692680359, 0.018666135147213936, 0.2799920439720154, 0.03733227029442787, 0.2796745002269745, 0.09322483837604523, 0.2796745002269745, 0.2796745002269745, 0.9540503025054932, 0.9620997905731201, 0.02466922625899315, 0.30424654483795166, 0.30424654483795166, 0.08692758530378342, 0.04346379265189171, 0.04346379265189171, 0.17385517060756683, 0.9093661904335022, 0.07578051835298538, 0.3882265090942383, 0.19411325454711914, 0.19411325454711914, 0.09705662727355957, 0.09705662727355957, 0.5883842706680298, 0.22881612181663513, 0.1307520717382431, 0.4385714828968048, 0.09746032953262329, 0.09746032953262329, 0.048730164766311646, 0.19492065906524658, 0.09746032953262329, 0.9779729247093201, 0.7253342270851135, 0.20148171484470367, 0.3790217936038971, 0.2842663526535034, 0.18951089680194855, 0.09475544840097427, 0.29936859011650085, 0.1452818214893341, 0.22892892360687256, 0.041823554784059525, 0.09465330839157104, 0.11006198823451996, 0.02201239764690399, 0.017609918490052223, 0.015408677980303764, 0.011006198823451996, 0.004402479622513056, 0.004402479622513056, 0.002201239811256528, 0.002201239811256528, 0.002201239811256528, 0.3637191951274872, 0.17656272649765015, 0.11653139442205429, 0.06709383428096771, 0.05650006979703903, 0.07062508910894394, 0.052968814969062805, 0.03178128972649574, 0.014125017449259758, 0.007062508724629879, 0.028250034898519516, 0.007062508724629879, 0.0035312543623149395, 0.0035312543623149395, 0.9233952760696411, 0.06239157170057297, 0.662869393825531, 0.06313041597604752, 0.12626083195209503, 0.09469562768936157, 0.226397305727005, 0.1907842457294464, 0.3179737329483032, 0.08648885786533356, 0.09412022680044174, 0.010175159201025963, 0.035613059997558594, 0.010175159201025963, 0.005087579600512981, 0.010175159201025963, 0.010175159201025963, 0.7614898085594177, 0.1522979736328125, 0.030777953565120697, 0.7694488763809204, 0.01025931816548109, 0.05129658803343773, 0.01025931816548109, 0.02051863633096218, 0.01025931816548109, 0.030777953565120697, 0.02051863633096218, 0.030777953565120697, 0.3030085861682892, 0.29331231117248535, 0.16968481242656708, 0.036361031234264374, 0.050905440002679825, 0.02908882312476635, 0.036361031234264374, 0.016968481242656708, 0.03151289373636246, 0.0048481374979019165, 0.014544411562383175, 0.0048481374979019165, 0.0024240687489509583, 0.0024240687489509583, 0.33474862575531006, 0.04782123491168022, 0.1912849396467209, 0.1912849396467209, 0.04782123491168022, 0.09564246982336044, 0.09564246982336044, 0.04782123491168022, 0.2541096806526184, 0.1905822604894638, 0.0635274201631546, 0.444691926240921, 0.2728004455566406, 0.20460033416748047, 0.1705002784729004, 0.03410005569458008, 0.03410005569458008, 0.1705002784729004, 0.10230016708374023, 0.03410005569458008, 0.24641616642475128, 0.18481212854385376, 0.16633091866970062, 0.1047268733382225, 0.043122828006744385, 0.06160404160618782, 0.0492832325398922, 0.0492832325398922, 0.018481211736798286, 0.018481211736798286, 0.043122828006744385, 0.01232080813497305, 0.006160404067486525, 0.9769049882888794, 0.4908254146575928, 0.21035374701023102, 0.07011791318655014, 0.21035374701023102, 0.17883281409740448, 0.17883281409740448, 0.17883281409740448, 0.2682492136955261, 0.17883281409740448, 0.09750957787036896, 0.19501915574073792, 0.487547904253006, 0.09750957787036896, 0.698513388633728, 0.010272256098687649, 0.12326706945896149, 0.010272256098687649, 0.010272256098687649, 0.010272256098687649, 0.12326706945896149, 0.9055678248405457, 0.01913171447813511, 0.01913171447813511, 0.012754476629197598, 0.03826342895627022, 0.4541110694408417, 0.12974601984024048, 0.1621825248003006, 0.06487300992012024, 0.1621825248003006, 0.22170037031173706, 0.6651011109352112, 0.17518888413906097, 0.17518888413906097, 0.17518888413906097, 0.26278331875801086, 0.08759444206953049, 0.08759444206953049, 0.9325414896011353, 0.031084716320037842, 0.031084716320037842, 0.27610352635383606, 0.13805176317691803, 0.13805176317691803, 0.27610352635383606, 0.06902588158845901, 0.06902588158845901, 0.28349319100379944, 0.1133972778916359, 0.28349319100379944, 0.28349319100379944, 0.3252699077129364, 0.1858685165643692, 0.0929342582821846, 0.02323356457054615, 0.1858685165643692, 0.02323356457054615, 0.069700688123703, 0.02323356457054615, 0.02323356457054615, 0.02323356457054615, 0.02323356457054615, 0.48782211542129517, 0.06968887150287628, 0.06968887150287628, 0.20906661450862885, 0.13937774300575256, 0.8533380627632141, 0.13473759591579437, 0.3740440011024475, 0.22442638874053955, 0.14961759746074677, 0.22442638874053955, 0.45676693320274353, 0.11262746155261993, 0.09385622292757034, 0.09698475897312164, 0.03128540515899658, 0.05005665123462677, 0.06257081031799316, 0.03128540515899658, 0.03441394865512848, 0.003128540702164173, 0.012514162808656693, 0.006257081404328346, 0.00938562210649252, 0.003128540702164173, 0.2250594049692154, 0.2659792900085449, 0.14321961998939514, 0.040919892489910126, 0.10229972749948502, 0.14321961998939514, 0.020459946244955063, 0.020459946244955063, 0.3049263060092926, 0.2613653838634491, 0.09801202267408371, 0.043560899794101715, 0.11979246884584427, 0.054451122879981995, 0.010890224948525429, 0.021780449897050858, 0.03267067298293114, 0.021780449897050858, 0.010890224948525429, 0.6986677050590515, 0.08733346313238144, 0.17466692626476288, 0.2566847801208496, 0.2566847801208496, 0.0855615958571434, 0.3422463834285736, 0.06728909909725189, 0.20186728239059448, 0.06728909909725189, 0.47102367877960205, 0.06728909909725189, 0.06728909909725189, 0.1754855066537857, 0.26322826743125916, 0.1754855066537857, 0.26322826743125916, 0.08774275332689285, 0.022510191425681114, 0.9604348540306091, 0.007503397297114134, 0.1745731681585312, 0.4496581554412842, 0.15341278910636902, 0.0052900961600244045, 0.05819105729460716, 0.04761086404323578, 0.05819105729460716, 0.02645047940313816, 0.010580192320048809, 0.0052900961600244045, 0.0052900961600244045, 0.5068670511245728, 0.16219745576381683, 0.06082404777407646, 0.06082404777407646, 0.04054936394095421, 0.04054936394095421, 0.04054936394095421, 0.020274681970477104, 0.020274681970477104, 0.03884457051753998, 0.8157359957695007, 0.07768914103507996, 0.03884457051753998, 0.03884457051753998, 0.06805762648582458, 0.13611525297164917, 0.13611525297164917, 0.3402881324291229, 0.06805762648582458, 0.13611525297164917, 0.06805762648582458, 0.06805762648582458, 0.09853922575712204, 0.2956176698207855, 0.2956176698207855, 0.19707845151424408, 0.4145999252796173, 0.4145999252796173, 0.08291998505592346, 0.5851031541824341, 0.09751719236373901, 0.09751719236373901, 0.09751719236373901, 0.09751719236373901, 0.46208739280700684, 0.06601248681545258, 0.19803746044635773, 0.13202497363090515, 0.06601248681545258, 0.2039145827293396, 0.3204372227191925, 0.02913065440952778, 0.26217588782310486, 0.02913065440952778, 0.05826130881905556, 0.02913065440952778, 0.02913065440952778, 0.3804536461830139, 0.21740208566188812, 0.10870104283094406, 0.10870104283094406, 0.1630515605211258, 0.05435052141547203, 0.08035469055175781, 0.4075130820274353, 0.18079805374145508, 0.066005639731884, 0.12627165019512177, 0.051656585186719894, 0.040177345275878906, 0.0028698104433715343, 0.011479241773486137, 0.020088672637939453, 0.0028698104433715343, 0.011479241773486137, 0.1655275523662567, 0.07094038277864456, 0.1891743540763855, 0.09458717703819275, 0.378348708152771, 0.047293588519096375, 0.023646794259548187, 0.047293588519096375, 0.09854976832866669, 0.29564929008483887, 0.19709953665733337, 0.09854976832866669, 0.09854976832866669, 0.09854976832866669, 0.08402549475431442, 0.16805098950862885, 0.08402549475431442, 0.16805098950862885, 0.4201274812221527, 0.3864540755748749, 0.09661351889371872, 0.3864540755748749, 0.09661351889371872, 0.49199700355529785, 0.28114113211631775, 0.14057056605815887, 0.07028528302907944, 0.13736768066883087, 0.1290423721075058, 0.10822908580303192, 0.23310880362987518, 0.14569300413131714, 0.08741579949855804, 0.04578922688961029, 0.016650628298521042, 0.04578922688961029, 0.020813286304473877, 0.008325314149260521, 0.016650628298521042, 0.8134031295776367, 0.16784508526325226, 0.2914235591888428, 0.1942823827266693, 0.09714119136333466, 0.09714119136333466, 0.1942823827266693, 0.38373851776123047, 0.13251401484012604, 0.15736038982868195, 0.07729984074831009, 0.027607087045907974, 0.04969275742769241, 0.09110338985919952, 0.03588921204209328, 0.00552141759544611, 0.019324960187077522, 0.008282125927507877, 0.00552141759544611, 0.008282125927507877, 0.002760708797723055, 0.5249601602554321, 0.37497153878211975, 0.07499431073665619, 0.5130314230918884, 0.03946395590901375, 0.03946395590901375, 0.157855823636055, 0.03946395590901375, 0.157855823636055, 0.42173928022384644, 0.07028988003730774, 0.14057976007461548, 0.017572470009326935, 0.10543482005596161, 0.08786235004663467, 0.017572470009326935, 0.12300729006528854, 0.017572470009326935, 0.4717704951763153, 0.07650332897901535, 0.10200443118810654, 0.025501107797026634, 0.3060133159160614, 0.012750553898513317, 0.01116811390966177, 0.0027920284774154425, 0.6868389844894409, 0.1703137308359146, 0.05304853990674019, 0.07259274274110794, 0.5447637438774109, 0.2476198822259903, 0.04952397570014, 0.1485719233751297, 0.26106393337249756, 0.11664558202028275, 0.11997831612825394, 0.27550575137138367, 0.08776191622018814, 0.06998734921216965, 0.008887282572686672, 0.008887282572686672, 0.014441834762692451, 0.009998193010687828, 0.007776372134685516, 0.005554551724344492, 0.01222001388669014, 0.9810751676559448, 0.13894613087177277, 0.03969889506697655, 0.6947306990623474, 0.11909668892621994, 0.9676345586776733, 0.013439368456602097, 0.3110271096229553, 0.12441083788871765, 0.2488216757774353, 0.062205418944358826, 0.062205418944358826, 0.18661625683307648, 0.062205418944358826, 0.4980524778366089, 0.1494157463312149, 0.1494157463312149, 0.1494157463312149, 0.35032984614372253, 0.08758246153593063, 0.17516492307186127, 0.2627473771572113, 0.08758246153593063, 0.18591946363449097, 0.26028725504875183, 0.48339059948921204, 0.037183891981840134, 0.037183891981840134, 0.36436307430267334, 0.13599467277526855, 0.10776936262845993, 0.15139028429985046, 0.0808270201086998, 0.03335718438029289, 0.03079124540090561, 0.023093434050679207, 0.021810466423630714, 0.01796155981719494, 0.011546717025339603, 0.01282968558371067, 0.003848905675113201, 0.001282968558371067, 0.630337655544281, 0.03253355622291565, 0.02033347263932228, 0.15453438460826874, 0.004066694527864456, 0.004066694527864456, 0.02033347263932228, 0.016266778111457825, 0.004066694527864456, 0.004066694527864456, 0.08133389055728912, 0.024400167167186737, 0.004066694527864456, 0.5447431802749634, 0.0907905250787735, 0.0907905250787735, 0.0907905250787735, 0.07677709311246872, 0.6909938454627991, 0.07677709311246872, 0.07677709311246872, 0.07677709311246872, 0.7222985625267029, 0.07222985476255417, 0.07222985476255417, 0.07222985476255417, 0.4247313141822815, 0.09556454420089722, 0.021236566826701164, 0.26545706391334534, 0.021236566826701164, 0.03185484930872917, 0.010618283413350582, 0.010618283413350582, 0.0743279829621315, 0.021236566826701164, 0.35964223742485046, 0.4195826053619385, 0.03996024653315544, 0.05994037166237831, 0.05994037166237831, 0.01998012326657772, 0.01998012326657772, 0.39049583673477173, 0.21495184302330017, 0.06806807965040207, 0.07523314654827118, 0.025077715516090393, 0.025077715516090393, 0.11822351068258286, 0.042990367859601974, 0.003582530654966831, 0.010747591964900494, 0.007165061309933662, 0.014330122619867325, 0.25391635298728943, 0.1586977243423462, 0.12695817649364471, 0.26449620723724365, 0.021159695461392403, 0.021159695461392403, 0.021159695461392403, 0.021159695461392403, 0.07405893504619598, 0.03173954412341118, 0.23129606246948242, 0.23667503893375397, 0.16136933863162994, 0.04303182289004326, 0.0968216061592102, 0.08068466931581497, 0.04303182289004326, 0.026894889771938324, 0.010757955722510815, 0.016136934980750084, 0.02151591144502163, 0.016136934980750084, 0.010757955722510815, 0.39185407757759094, 0.15394267439842224, 0.16793745756149292, 0.06997394561767578, 0.04198436439037323, 0.027989577502012253, 0.06997394561767578, 0.013994788751006126, 0.013994788751006126, 0.013994788751006126, 0.027989577502012253, 0.4879031777381897, 0.16263440251350403, 0.16263440251350403, 0.08131720125675201, 0.22735503315925598, 0.22627751529216766, 0.2014947384595871, 0.13576650619506836, 0.04848803952336311, 0.04525550454854965, 0.030170336365699768, 0.04525550454854965, 0.009697607718408108, 0.011852632276713848, 0.004310048185288906, 0.007542584091424942, 0.004310048185288906, 0.0010775120463222265, 0.758250892162323, 0.09478136152029037, 0.18956272304058075, 0.12771376967430115, 0.12771376967430115, 0.12771376967430115, 0.12771376967430115, 0.12771376967430115, 0.04257125407457352, 0.21285627782344818, 0.04257125407457352, 0.04257125407457352, 0.2720082104206085, 0.13600410521030426, 0.13600410521030426, 0.2720082104206085, 0.13600410521030426, 0.03246515244245529, 0.16232575476169586, 0.11106499284505844, 0.18795613944530487, 0.090560682117939, 0.04613468796014786, 0.006834768690168858, 0.23750820755958557, 0.003417384345084429, 0.08372591435909271, 0.010252153500914574, 0.02733907476067543, 0.02887907065451145, 0.4416798949241638, 0.042469218373298645, 0.008493844419717789, 0.32786238193511963, 0.09003474563360214, 0.008493844419717789, 0.018686456605792046, 0.027180301025509834, 0.005096306558698416, 0.0016987688140943646, 0.027192173525691032, 0.41332104802131653, 0.027192173525691032, 0.07069965451955795, 0.09245339035987854, 0.20122209191322327, 0.021753739565610886, 0.010876869782805443, 0.054384347051382065, 0.005438434891402721, 0.04350747913122177, 0.027192173525691032, 0.07403669506311417, 0.33601269125938416, 0.24489060044288635, 0.005695130210369825, 0.14807339012622833, 0.05695130303502083, 0.08542695641517639, 0.005695130210369825, 0.005695130210369825, 0.01708539016544819, 0.005695130210369825, 0.005695130210369825, 0.005695130210369825, 0.01139026042073965, 0.44794154167175293, 0.15314240753650665, 0.15697096288204193, 0.0650855228304863, 0.026799920946359634, 0.011485680937767029, 0.003828560234978795, 0.06891408562660217, 0.022971361875534058, 0.011485680937767029, 0.003828560234978795, 0.026799920946359634, 0.003828560234978795, 0.003828560234978795, 0.017387377098202705, 0.05216212943196297, 0.3129727840423584, 0.04346844181418419, 0.10432425886392593, 0.45207178592681885, 0.9738445281982422, 0.407843679189682, 0.24470621347427368, 0.08156874030828476, 0.08156874030828476, 0.16313748061656952, 0.25941312313079834, 0.43235519528388977, 0.25941312313079834, 0.16819587349891663, 0.2177920937538147, 0.1962285190820694, 0.10566151142120361, 0.12075601518154144, 0.07978522032499313, 0.037736255675554276, 0.01725085824728012, 0.014016322791576385, 0.014016322791576385, 0.01185996551066637, 0.005390893202275038, 0.00862542912364006, 0.0010781786404550076, 0.002156357280910015, 0.035532042384147644, 0.8527690172195435, 0.07106408476829529, 0.08536886423826218, 0.17073772847652435, 0.08536886423826218, 0.4268442988395691, 0.08536886423826218, 0.355958491563797, 0.08898962289094925, 0.26696887612342834, 0.26696887612342834, 0.31668922305107117, 0.13700740039348602, 0.18866592645645142, 0.08984091132879257, 0.07187273353338242, 0.049412503838539124, 0.0291982963681221, 0.024706251919269562, 0.047166481614112854, 0.013476137071847916, 0.011230113916099072, 0.011230113916099072, 0.006738068535923958, 0.0022460229229182005, 0.23025861382484436, 0.15350574254989624, 0.3837643563747406, 0.07675287127494812, 0.07675287127494812, 0.2625838816165924, 0.35011187195777893, 0.08752796798944473, 0.08752796798944473, 0.17505593597888947, 0.4528019428253174, 0.11625995486974716, 0.12237890064716339, 0.14073573052883148, 0.030594725161790848, 0.01223788969218731, 0.03671367093920708, 0.02447577938437462, 0.01223788969218731, 0.01835683546960354, 0.01835683546960354, 0.01223788969218731, 0.31695911288261414, 0.15847955644130707, 0.15847955644130707, 0.10565304011106491, 0.052826520055532455, 0.052826520055532455, 0.15847955644130707, 0.052826520055532455, 0.1778445988893509, 0.22122132778167725, 0.22555901110172272, 0.04771440476179123, 0.20820830762386322, 0.052052076905965805, 0.04337673261761665, 0.00433767307549715, 0.00433767307549715, 0.00433767307549715, 0.00433767307549715, 0.4273329973220825, 0.3418663740158081, 0.08546659350395203, 0.46355289220809937, 0.13244368135929108, 0.13244368135929108, 0.1986655294895172, 0.4683212339878082, 0.026915011927485466, 0.005383002571761608, 0.08074504137039185, 0.01614900678396225, 0.01614900678396225, 0.24223510921001434, 0.06997903436422348, 0.005383002571761608, 0.05383002385497093, 0.010766005143523216, 0.5756691694259644, 0.34016814827919006, 0.052333563566207886, 0.6901748776435852, 0.2629237771034241, 0.6223227977752686, 0.0889032632112503, 0.1778065264225006, 0.0889032632112503, 0.5745785236358643, 0.07862653583288193, 0.054433755576610565, 0.20563863217830658, 0.012096390128135681, 0.006048195064067841, 0.01814458519220352, 0.006048195064067841, 0.006048195064067841, 0.024192780256271362, 0.006048195064067841, 0.006048195064067841, 0.550477147102356, 0.2064289152622223, 0.137619286775589, 0.1769803911447525, 0.70792156457901, 0.05899346247315407, 0.18978029489517212, 0.18978029489517212, 0.2530404031276703, 0.31630051136016846, 0.8360064029693604, 0.05573376268148422, 0.05573376268148422, 0.4753878116607666, 0.04753877967596054, 0.14261634647846222, 0.2376939058303833, 0.04753877967596054, 0.4094984829425812, 0.12284954637289047, 0.06824974715709686, 0.03412487357854843, 0.27299898862838745, 0.02047492377460003, 0.006824974436312914, 0.006824974436312914, 0.027299897745251656, 0.006824974436312914, 0.006824974436312914, 0.013649948872625828, 0.4999772906303406, 0.1874914914369583, 0.06249716132879257, 0.1874914914369583, 0.5971863865852356, 0.03894693776965141, 0.05192925035953522, 0.03894693776965141, 0.02596462517976761, 0.07789387553930283, 0.03894693776965141, 0.09087619185447693, 0.03894693776965141, 0.36187031865119934, 0.15508727729320526, 0.10339152067899704, 0.10339152067899704, 0.20678304135799408, 0.05169576033949852, 0.41641345620155334, 0.13880448043346405, 0.06940224021673203, 0.06940224021673203, 0.20820672810077667, 0.06940224021673203, 0.6563001275062561, 0.03860589116811752, 0.1544235646724701, 0.00965147279202938, 0.01930294558405876, 0.01930294558405876, 0.01930294558405876, 0.057908836752176285, 0.14171066880226135, 0.1682814210653305, 0.2922782599925995, 0.026570750400424004, 0.026570750400424004, 0.07085533440113068, 0.23913675546646118, 0.008856916800141335, 0.01771383360028267, 0.008856916800141335, 0.14080284535884857, 0.2379082441329956, 0.2864609658718109, 0.10357910394668579, 0.08739487081766129, 0.050171129405498505, 0.045315857976675034, 0.009710540995001793, 0.009710540995001793, 0.012947387993335724, 0.006473693996667862, 0.0016184234991669655, 0.0016184234991669655, 0.003236846998333931, 0.6171925663948059, 0.3488479554653168, 0.7119597792625427, 0.278592973947525, 0.3128613829612732, 0.1293160319328308, 0.10428712517023087, 0.2669750452041626, 0.07508673518896103, 0.045886337757110596, 0.008342970162630081, 0.008342970162630081, 0.012514455243945122, 0.004171485081315041, 0.008342970162630081, 0.004171485081315041, 0.025028910487890244, 0.6271892189979553, 0.019599663093686104, 0.23519594967365265, 0.09799831360578537, 0.33988305926322937, 0.1606040894985199, 0.17927898466587067, 0.05975966155529022, 0.07469957321882248, 0.033614810556173325, 0.03734978660941124, 0.07096459716558456, 0.022409873083233833, 0.003734978847205639, 0.007469957694411278, 0.003734978847205639, 0.003734978847205639, 0.565761387348175, 0.033280082046985626, 0.18304044008255005, 0.016640041023492813, 0.06656016409397125, 0.09984023869037628, 0.016640041023492813, 0.923617959022522, 0.06023595482110977, 0.7161474227905273, 0.09640446305274963, 0.013772065751254559, 0.013772065751254559, 0.0413161963224411, 0.09640446305274963, 0.013772065751254559, 0.324330598115921, 0.15567868947982788, 0.12231897562742233, 0.12417229264974594, 0.07227939367294312, 0.033359721302986145, 0.024093130603432655, 0.03150640055537224, 0.051892898976802826, 0.01853317767381668, 0.016679860651493073, 0.012973224744200706, 0.0074132708832621574, 0.005559953395277262, 0.0018533177208155394, 0.09145072847604752, 0.026128778234124184, 0.8361209034919739, 0.03919316828250885, 0.058002568781375885, 0.6380282640457153, 0.17400769889354706, 0.058002568781375885, 0.34291473031044006, 0.24205747246742249, 0.04034291207790375, 0.06051436811685562, 0.0806858241558075, 0.04034291207790375, 0.12102873623371124, 0.0806858241558075, 0.3456103205680847, 0.0691220611333847, 0.2073661834001541, 0.0691220611333847, 0.2073661834001541, 0.0691220611333847, 0.21036173403263092, 0.0841446965932846, 0.1682893931865692, 0.0841446965932846, 0.0841446965932846, 0.0841446965932846, 0.21036173403263092, 0.0420723482966423, 0.0420723482966423, 0.7120591998100281, 0.032366327941417694, 0.09709898382425308, 0.16183163225650787, 0.11931156367063522, 0.1510433703660965, 0.43282175064086914, 0.0431552454829216, 0.12185011059045792, 0.00761563191190362, 0.07615631818771362, 0.01650053635239601, 0.00380781595595181, 0.01523126382380724, 0.00761563191190362, 0.0012692719465121627, 0.0012692719465121627, 0.0012692719465121627, 0.245721697807312, 0.22213849425315857, 0.21985624730587006, 0.07303183525800705, 0.0646636039018631, 0.04108040779829025, 0.06922809034585953, 0.025104694068431854, 0.009889727458357811, 0.014454217627644539, 0.007607482839375734, 0.0022822448518127203, 0.003803741419687867, 0.0015214965678751469, 0.02033059485256672, 0.640413761138916, 0.22363655269145966, 0.060991786420345306, 0.04066118970513344, 0.4330053925514221, 0.1298144906759262, 0.13417068123817444, 0.11674591898918152, 0.0374632403254509, 0.0217809546738863, 0.06011543422937393, 0.02613714523613453, 0.008712382055819035, 0.006098667159676552, 0.007841143757104874, 0.011326096020638943, 0.004356191027909517, 0.0017424763645976782, 0.0008712381822988391, 0.1267276555299759, 0.6336382627487183, 0.04472740739583969, 0.014909136109054089, 0.014909136109054089, 0.06709111481904984, 0.007454568054527044, 0.014909136109054089, 0.007454568054527044, 0.014909136109054089, 0.04472740739583969, 0.28713634610176086, 0.17349399626255035, 0.16591784358024597, 0.09924765676259995, 0.11136950552463531, 0.05076025053858757, 0.037123169749975204, 0.01969800889492035, 0.014394697733223438, 0.008333772420883179, 0.01590992882847786, 0.011364235542714596, 0.0030304628890007734, 0.0007576157222501934, 0.0015152314445003867, 0.41974958777427673, 0.16288790106773376, 0.13782823085784912, 0.0939737930893898, 0.05638427287340164, 0.0313245952129364, 0.0313245952129364, 0.02505967766046524, 0.00626491941511631, 0.00626491941511631, 0.01252983883023262, 0.01252983883023262, 0.01252983883023262, 0.00626491941511631, 0.6128323674201965, 0.17509496212005615, 0.08754748106002808, 0.08754748106002808, 0.05543301999568939, 0.27716511487960815, 0.6097632050514221, 0.47007694840431213, 0.11801932007074356, 0.07801277190446854, 0.1620265245437622, 0.04800785705447197, 0.03400556743144989, 0.010001637041568756, 0.020003274083137512, 0.012001964263617992, 0.01600261963903904, 0.01800294779241085, 0.00800130981951952, 0.00400065490975976, 0.00200032745487988, 0.6477870345115662, 0.16194675862789154, 0.08097337931394577, 0.4720304608345032, 0.04720304533839226, 0.14160913228988647, 0.18881218135356903, 0.04720304533839226, 0.04720304533839226, 0.15831390023231506, 0.20414161682128906, 0.08748926222324371, 0.058326177299022675, 0.3166278004646301, 0.10832004249095917, 0.0041661555878818035, 0.008332311175763607, 0.016664622351527214, 0.016664622351527214, 0.0041661555878818035, 0.008332311175763607, 0.4465540051460266, 0.09923422336578369, 0.14885133504867554, 0.049617111682891846, 0.19846844673156738, 0.06147415563464165, 0.4917932450771332, 0.1229483112692833, 0.2458966225385666, 0.08645078539848328, 0.04322539269924164, 0.7780570387840271, 0.04322539269924164, 0.35785743594169617, 0.11010997742414474, 0.12387372553348541, 0.06881873309612274, 0.041291240602731705, 0.027527494356036186, 0.027527494356036186, 0.15140122175216675, 0.013763747178018093, 0.041291240602731705, 0.027527494356036186, 0.4506688416004181, 0.08779263496398926, 0.07023410499095917, 0.1872909516096115, 0.04682273790240288, 0.04682273790240288, 0.01170568447560072, 0.026337789371609688, 0.032190632075071335, 0.008779263123869896, 0.014632104896008968, 0.01170568447560072, 0.00585284223780036, 0.34942618012428284, 0.17471309006214142, 0.2620696425437927, 0.08735654503107071, 0.17471309006214142, 0.06646237522363663, 0.531699001789093, 0.12627850472927094, 0.09969355911016464, 0.006646237336099148, 0.06646237522363663, 0.02658494934439659, 0.006646237336099148, 0.013292474672198296, 0.01993871107697487, 0.006646237336099148, 0.01993871107697487, 0.770592451095581, 0.12843206524848938, 0.6064616441726685, 0.06383806467056274, 0.06383806467056274, 0.06383806467056274, 0.19151419401168823, 0.6757290959358215, 0.05197915807366371, 0.07796873897314072, 0.10395831614732742, 0.05197915807366371, 0.025989579036831856, 0.16918045282363892, 0.5075413584709167, 0.16918045282363892, 0.08459022641181946, 0.38051390647888184, 0.09512847661972046, 0.19025695323944092, 0.19025695323944092, 0.19025695323944092, 0.15633034706115723, 0.23449552059173584, 0.07816517353057861, 0.07816517353057861, 0.31266069412231445, 0.294908344745636, 0.12842781841754913, 0.2092897891998291, 0.07610537856817245, 0.08086196333169937, 0.08561854809522629, 0.028539516031742096, 0.04756585881114006, 0.014269758015871048, 0.004756586160510778, 0.014269758015871048, 0.009513172321021557, 0.5588048696517944, 0.22860199213027954, 0.17780154943466187, 0.5198274254798889, 0.3465515971183777, 0.08663789927959442, 0.7405346632003784, 0.2278568148612976, 0.967786431312561, 0.9550808072090149, 0.018366938456892967, 0.1344432681798935, 0.1344432681798935, 0.29740479588508606, 0.03259230777621269, 0.20777595043182373, 0.10999903827905655, 0.03259230777621269, 0.0040740384720265865, 0.008148076944053173, 0.012222114950418472, 0.0040740384720265865, 0.016296153888106346, 0.42491233348846436, 0.07334796339273453, 0.09611112624406815, 0.17957603931427002, 0.06070176139473915, 0.017704680562019348, 0.017704680562019348, 0.03288011997938156, 0.03793860226869583, 0.020233919844031334, 0.012646200135350227, 0.015175440348684788, 0.0050584799610078335, 0.926946222782135, 0.02528035081923008, 0.033707134425640106, 0.008426783606410027, 0.23465949296951294, 0.2161337435245514, 0.22539661824703217, 0.1049792468547821, 0.04013912379741669, 0.02161337435245514, 0.04631437361240387, 0.030876249074935913, 0.02161337435245514, 0.015438124537467957, 0.027788624167442322, 0.0030876249074935913, 0.009262874722480774, 0.245475172996521, 0.16929322481155396, 0.24970750510692596, 0.1354345828294754, 0.029626313596963882, 0.012696991674602032, 0.07194961607456207, 0.03809097409248352, 0.008464661426842213, 0.004232330713421106, 0.021161653101444244, 0.004232330713421106, 0.008464661426842213, 0.45007479190826416, 0.37506231665611267, 0.07501246780157089, 0.07501246780157089, 0.2818826735019684, 0.02642650157213211, 0.06166183575987816, 0.5197212100028992, 0.008808833546936512, 0.03523533418774605, 0.017617667093873024, 0.008808833546936512, 0.017617667093873024, 0.008808833546936512, 0.3303431272506714, 0.11633823812007904, 0.18384313583374023, 0.11777450889348984, 0.05601470544934273, 0.08330392092466354, 0.037343136966228485, 0.024416666477918625, 0.018671568483114243, 0.010053921490907669, 0.010053921490907669, 0.008617646992206573, 0.004308823496103287, 0.0014362744987010956, 0.5047895312309265, 0.07765992730855942, 0.11648989468812943, 0.03882996365427971, 0.15531985461711884, 0.019414981827139854, 0.03882996365427971, 0.019414981827139854, 0.415966659784317, 0.09354273974895477, 0.07364002615213394, 0.2169395536184311, 0.08757192641496658, 0.045776233077049255, 0.015922168269753456, 0.019902709871530533, 0.00597081333398819, 0.007961084134876728, 0.003980542067438364, 0.00597081333398819, 0.003980542067438364, 0.001990271033719182, 0.0046341922134160995, 0.9129358530044556, 0.0023170961067080498, 0.07646416872739792, 0.8588112592697144, 0.9196345806121826, 0.6567794680595398, 0.004183308687061071, 0.012549925595521927, 0.25518181920051575, 0.008366617374122143, 0.012549925595521927, 0.012549925595521927, 0.012549925595521927, 0.008366617374122143, 0.008366617374122143, 0.004183308687061071, 0.008366617374122143, 0.004183308687061071, 0.8794081211090088, 0.005395141895860434, 0.07013684511184692, 0.010790283791720867, 0.026975708082318306, 0.16979581117630005, 0.24204933643341064, 0.1842465102672577, 0.0758662074804306, 0.06502818316221237, 0.06864085793495178, 0.046964798122644424, 0.036126766353845596, 0.021676059812307358, 0.054190151393413544, 0.028901413083076477, 0.007225353270769119, 0.0036126766353845596, 0.19257144629955292, 0.12460505217313766, 0.2605378329753876, 0.011327732354402542, 0.30584877729415894, 0.10194958746433258, 0.24602259695529938, 0.7107319235801697, 0.03189181908965111, 0.004555974155664444, 0.22071224451065063, 0.23606614768505096, 0.21687377989292145, 0.0902041345834732, 0.040303975343704224, 0.055657871067523956, 0.03838473930954933, 0.03838473930954933, 0.017273131757974625, 0.009596184827387333, 0.013434658758342266, 0.021111605688929558, 0.003838473930954933, 0.0019192369654774666, 0.2995845675468445, 0.17088979482650757, 0.15190203487873077, 0.09493877738714218, 0.05907301604747772, 0.040085259824991226, 0.11181677877902985, 0.02109750546514988, 0.01476825401186943, 0.023207256570458412, 0.008439002558588982, 0.0021097506396472454, 0.0021097506396472454, 0.0032486720010638237, 0.8056706786155701, 0.18517430126667023, 0.32359376549720764, 0.12134766578674316, 0.21488648653030396, 0.09859497845172882, 0.06572998315095901, 0.035393066704273224, 0.02528076246380806, 0.02528076246380806, 0.02528076246380806, 0.022752687335014343, 0.010112305171787739, 0.022752687335014343, 0.007584229111671448, 0.0025280762929469347, 0.45882150530815125, 0.09351775795221329, 0.0818280354142189, 0.12566448748111725, 0.04091401770710945, 0.03214672952890396, 0.05844859778881073, 0.00876729004085064, 0.029224298894405365, 0.011689719744026661, 0.03214672952890396, 0.020457008853554726, 0.0029224299360066652, 0.6556578874588013, 0.06983338296413422, 0.054314855486154556, 0.06983338296413422, 0.01551852934062481, 0.05043522268533707, 0.0193981621414423, 0.007759264670312405, 0.011638897471129894, 0.0038796323351562023, 0.02327779494225979, 0.01551852934062481, 0.007759264670312405, 0.36975979804992676, 0.08700230717658997, 0.39151039719581604, 0.04350115358829498, 0.02175057679414749, 0.02175057679414749, 0.02175057679414749, 0.04350115358829498, 0.02175057679414749, 0.48471540212631226, 0.09694308042526245, 0.1938861608505249, 0.09694308042526245, 0.034870754927396774, 0.034870754927396774, 0.17435377836227417, 0.20922453701496124, 0.06974150985479355, 0.034870754927396774, 0.31383681297302246, 0.1394830197095871, 0.328975111246109, 0.2657106816768646, 0.12336567044258118, 0.11703922599554062, 0.022142555564641953, 0.015816111117601395, 0.02846900001168251, 0.044285111129283905, 0.02846900001168251, 0.022142555564641953, 0.003163222223520279, 0.2377120703458786, 0.1657288372516632, 0.17744703590869904, 0.19251330196857452, 0.04352474585175514, 0.018414314836263657, 0.031806543469429016, 0.06361308693885803, 0.013392229564487934, 0.016740286722779274, 0.018414314836263657, 0.015066258609294891, 0.005022086203098297, 0.0033480573911219835, 0.25590980052948, 0.23346155881881714, 0.20353059470653534, 0.06435158103704453, 0.06435158103704453, 0.06584813445806503, 0.07183432579040527, 0.010475839488208294, 0.005986193660646677, 0.0029930968303233385, 0.00448964536190033, 0.005986193660646677, 0.00897929072380066, 0.0014965484151616693, 0.03582094982266426, 0.19701522588729858, 0.01791047491133213, 0.25074663758277893, 0.05373142659664154, 0.2865675985813141, 0.01791047491133213, 0.01791047491133213, 0.03582094982266426, 0.10746285319328308, 0.9743942022323608], \"Term\": [\"abbey\", \"abbey\", \"abhorrence\", \"abhorrence\", \"abhorrence\", \"abilities\", \"abilities\", \"abilities\", \"abilities\", \"able\", \"able\", \"able\", \"able\", \"able\", \"able\", \"able\", \"able\", \"able\", \"able\", \"able\", \"able\", \"abrupt\", \"abrupt\", \"abrupt\", \"abrupt\", \"abrupt\", \"abrupt\", \"abrupt\", \"accents\", \"accents\", \"accents\", \"accents\", \"accents\", \"accents\", \"accidentally\", \"accidentally\", \"accidentally\", \"accidentally\", \"accidentally\", \"accompany\", \"accompany\", \"accompany\", \"accompany\", \"accompany\", \"accompany\", \"accompany\", \"accompany\", \"accused\", \"accused\", \"accused\", \"accused\", \"accused\", \"accused\", \"acknowledging\", \"acknowledging\", \"acknowledging\", \"acknowledging\", \"acknowledging\", \"acquainted\", \"acquainted\", \"acquainted\", \"acquainted\", \"acquainted\", \"acquainted\", \"acquainted\", \"acquainted\", \"acquainted\", \"acquainted\", \"acquainted\", \"acquit\", \"acquit\", \"acquit\", \"acquit\", \"acting\", \"acting\", \"acting\", \"acting\", \"acting\", \"acting\", \"acting\", \"acting\", \"address\", \"address\", \"address\", \"address\", \"address\", \"address\", \"address\", \"address\", \"address\", \"address\", \"adele\", \"adele\", \"adele\", \"adele\", \"adele\", \"adopted\", \"adopted\", \"adopted\", \"adopted\", \"adopted\", \"adopted\", \"advantageous\", \"advantageous\", \"advantageous\", \"advantageous\", \"advantageous\", \"advantageous\", \"affection\", \"affection\", \"affection\", \"affection\", \"affection\", \"affection\", \"affection\", \"affection\", \"affection\", \"affection\", \"affection\", \"affection\", \"affection\", \"affection\", \"affectionate\", \"affectionate\", \"affectionate\", \"affectionate\", \"affectionate\", \"affectionate\", \"afford\", \"afford\", \"afford\", \"afford\", \"afford\", \"afford\", \"afford\", \"aged\", \"aged\", \"allenham\", \"allenham\", \"alley\", \"alliance\", \"alliance\", \"alliance\", \"alliance\", \"alliance\", \"altar\", \"altar\", \"altar\", \"altar\", \"altar\", \"answered\", \"answered\", \"answered\", \"answered\", \"answered\", \"answered\", \"answered\", \"answered\", \"answered\", \"answered\", \"answered\", \"answered\", \"answered\", \"appearances\", \"appearances\", \"appearances\", \"appearances\", \"appearances\", \"appearances\", \"appearances\", \"appointment\", \"appointment\", \"asked\", \"asked\", \"asked\", \"asked\", \"asked\", \"asked\", \"asked\", \"asked\", \"asked\", \"asked\", \"asked\", \"asked\", \"asked\", \"asked\", \"atmosphere\", \"atmosphere\", \"atmosphere\", \"atmosphere\", \"attached\", \"attached\", \"attached\", \"attached\", \"attached\", \"attached\", \"attached\", \"attached\", \"attachment\", \"attachment\", \"attachment\", \"attachment\", \"attachment\", \"attachment\", \"attachment\", \"attachment\", \"attachment\", \"attachment\", \"attachment\", \"attained\", \"attained\", \"attained\", \"attained\", \"attained\", \"attained\", \"attained\", \"attained\", \"attempting\", \"attempting\", \"attempting\", \"attempting\", \"attempting\", \"attempting\", \"attend\", \"attend\", \"attend\", \"attend\", \"attend\", \"attend\", \"attend\", \"attend\", \"attend\", \"attend\", \"attributed\", \"attributed\", \"attributed\", \"attributed\", \"austere\", \"austere\", \"austere\", \"austere\", \"away\", \"away\", \"away\", \"away\", \"away\", \"away\", \"away\", \"away\", \"away\", \"away\", \"away\", \"away\", \"away\", \"azure\", \"azure\", \"azure\", \"ball\", \"ball\", \"ball\", \"ball\", \"ball\", \"ball\", \"ball\", \"ball\", \"ball\", \"barton\", \"barton\", \"barton\", \"barton\", \"basin\", \"basin\", \"basin\", \"bassompierre\", \"bates\", \"bates\", \"bates\", \"bear\", \"bear\", \"bear\", \"bear\", \"bear\", \"bear\", \"bear\", \"bear\", \"bear\", \"bear\", \"bear\", \"bear\", \"bear\", \"beck\", \"beck\", \"bed\", \"bed\", \"bed\", \"bed\", \"bed\", \"bed\", \"bed\", \"bed\", \"bed\", \"bed\", \"behaviour\", \"behaviour\", \"behaviour\", \"behaviour\", \"behaviour\", \"behaviour\", \"behaviour\", \"behaviour\", \"belgium\", \"belgium\", \"believe\", \"believe\", \"believe\", \"believe\", \"believe\", \"believe\", \"believe\", \"believe\", \"believe\", \"believe\", \"believe\", \"believe\", \"believe\", \"belong\", \"belong\", \"belong\", \"belong\", \"belong\", \"benefit\", \"benefit\", \"benefit\", \"benefit\", \"benefit\", \"benefit\", \"benefit\", \"benefit\", \"benefit\", \"benefit\", \"benefit\", \"benefit\", \"benefited\", \"benefited\", \"benefited\", \"benefited\", \"bennet\", \"bennet\", \"bennet\", \"bennet\", \"bennet\", \"bennet\", \"berkeley\", \"berkeley\", \"berkeley\", \"bessie\", \"bessie\", \"betray\", \"betray\", \"betray\", \"betray\", \"betray\", \"betray\", \"betraying\", \"betraying\", \"betraying\", \"betraying\", \"betraying\", \"better\", \"better\", \"better\", \"better\", \"better\", \"better\", \"better\", \"better\", \"better\", \"better\", \"better\", \"better\", \"better\", \"better\", \"bien\", \"bien\", \"bien\", \"bingley\", \"bingley\", \"bingley\", \"bingley\", \"black\", \"black\", \"black\", \"black\", \"black\", \"black\", \"black\", \"black\", \"black\", \"blast\", \"blast\", \"blast\", \"blast\", \"bliss\", \"bliss\", \"bliss\", \"bliss\", \"bliss\", \"blunder\", \"blunder\", \"blunder\", \"blunder\", \"blunder\", \"blunders\", \"blunders\", \"blunders\", \"blunders\", \"body\", \"body\", \"body\", \"body\", \"body\", \"body\", \"body\", \"body\", \"body\", \"body\", \"bond\", \"bond\", \"bond\", \"bond\", \"bond\", \"bottle\", \"bottle\", \"bottle\", \"bottle\", \"bottle\", \"bounded\", \"bounded\", \"bounded\", \"bourgh\", \"bourgh\", \"bourgh\", \"brandon\", \"brandon\", \"brandon\", \"brass\", \"brass\", \"brass\", \"brass\", \"bretton\", \"bretton\", \"bretton\", \"bretton\", \"bride\", \"bride\", \"bride\", \"bride\", \"bride\", \"bride\", \"bride\", \"bride\", \"brighton\", \"brocklehurst\", \"brocklehurst\", \"brocklehurst\", \"brother\", \"brother\", \"brother\", \"brother\", \"brother\", \"brother\", \"brother\", \"brother\", \"brother\", \"brother\", \"brother\", \"brother\", \"brother\", \"brunswick\", \"brussels\", \"brussels\", \"brussels\", \"buildings\", \"buildings\", \"buildings\", \"burn\", \"burn\", \"burn\", \"burn\", \"burn\", \"burn\", \"burns\", \"burns\", \"burnt\", \"burnt\", \"burnt\", \"burnt\", \"called\", \"called\", \"called\", \"called\", \"called\", \"called\", \"called\", \"called\", \"called\", \"called\", \"called\", \"called\", \"called\", \"calmly\", \"calmly\", \"calmly\", \"calmly\", \"calmly\", \"calmly\", \"calmly\", \"calmly\", \"calmly\", \"came\", \"came\", \"came\", \"came\", \"came\", \"came\", \"came\", \"came\", \"came\", \"came\", \"came\", \"came\", \"came\", \"came\", \"campbell\", \"campbells\", \"candle\", \"candle\", \"capacity\", \"capacity\", \"capacity\", \"capacity\", \"capacity\", \"carelessly\", \"carelessly\", \"carelessly\", \"caroline\", \"caroline\", \"caroline\", \"caroline\", \"case\", \"case\", \"case\", \"case\", \"case\", \"case\", \"case\", \"case\", \"case\", \"case\", \"case\", \"case\", \"case\", \"catherine\", \"catherine\", \"catherine\", \"catherine\", \"catherine\", \"catherine\", \"catholic\", \"ce\", \"ce\", \"character\", \"character\", \"character\", \"character\", \"character\", \"character\", \"character\", \"character\", \"character\", \"character\", \"character\", \"character\", \"character\", \"charlotte\", \"charlotte\", \"charlotte\", \"charlotte\", \"charlotte\", \"cheering\", \"cheering\", \"cheering\", \"cheering\", \"cheering\", \"cheering\", \"cheering\", \"cheering\", \"cholmondeley\", \"christian\", \"christian\", \"christian\", \"christian\", \"christian\", \"christian\", \"christian\", \"christian\", \"christian\", \"christian\", \"christian\", \"churchill\", \"churchill\", \"churchill\", \"claims\", \"claims\", \"claims\", \"claims\", \"claims\", \"claims\", \"claims\", \"classe\", \"classe\", \"cleveland\", \"cloak\", \"cloak\", \"cloak\", \"cloak\", \"cloak\", \"clouds\", \"clouds\", \"clouds\", \"clouds\", \"clouds\", \"clouds\", \"coin\", \"coin\", \"coin\", \"coin\", \"cole\", \"cole\", \"coles\", \"collect\", \"collect\", \"collect\", \"collect\", \"collect\", \"collect\", \"collect\", \"collins\", \"collins\", \"collins\", \"collins\", \"colonel\", \"colonel\", \"colonel\", \"colonel\", \"colonel\", \"colonel\", \"combe\", \"combe\", \"combe\", \"combe\", \"come\", \"come\", \"come\", \"come\", \"come\", \"come\", \"come\", \"come\", \"come\", \"come\", \"come\", \"come\", \"come\", \"come\", \"commission\", \"commission\", \"commission\", \"commission\", \"commission\", \"commission\", \"commission\", \"commission\", \"commission\", \"committed\", \"committed\", \"committed\", \"committed\", \"communicating\", \"communicating\", \"communicating\", \"communicating\", \"communicating\", \"communicating\", \"compact\", \"compact\", \"compact\", \"concealment\", \"concealment\", \"concealment\", \"concealment\", \"concealment\", \"concealment\", \"concealment\", \"condemned\", \"condemned\", \"condemned\", \"condemned\", \"condemned\", \"condemned\", \"condescension\", \"condescension\", \"condescension\", \"condescension\", \"condescension\", \"confessed\", \"confessed\", \"confessed\", \"confessed\", \"confessed\", \"confessed\", \"confounded\", \"confounded\", \"connexion\", \"connexion\", \"conscience\", \"conscience\", \"conscience\", \"conscience\", \"conscience\", \"conscience\", \"conscience\", \"conscience\", \"conscience\", \"conscience\", \"conscientious\", \"conscientious\", \"conscientious\", \"conscientious\", \"consequences\", \"consequences\", \"consequences\", \"consequences\", \"consequences\", \"consequences\", \"consequences\", \"consider\", \"consider\", \"consider\", \"consider\", \"consider\", \"consider\", \"consider\", \"consider\", \"consider\", \"consider\", \"consistent\", \"consistent\", \"consistent\", \"consistent\", \"consult\", \"consult\", \"consult\", \"consult\", \"consult\", \"consult\", \"consult\", \"contemplation\", \"contemplation\", \"contemplation\", \"contemplation\", \"contemplation\", \"contemplation\", \"contemplation\", \"continued\", \"continued\", \"continued\", \"continued\", \"continued\", \"continued\", \"continued\", \"continued\", \"continued\", \"continued\", \"continued\", \"continued\", \"convincing\", \"convincing\", \"convincing\", \"convincing\", \"convincing\", \"cottage\", \"cottage\", \"cottage\", \"cottage\", \"cottage\", \"cottage\", \"cottage\", \"cottage\", \"course\", \"course\", \"course\", \"course\", \"course\", \"course\", \"course\", \"course\", \"course\", \"course\", \"course\", \"course\", \"course\", \"course\", \"court\", \"court\", \"court\", \"court\", \"court\", \"cousin\", \"cousin\", \"cousin\", \"cousin\", \"cousin\", \"cousin\", \"cousin\", \"cousin\", \"crecy\", \"crime\", \"crime\", \"crime\", \"crime\", \"crime\", \"crimsworth\", \"crimsworth\", \"cruel\", \"cruel\", \"cruel\", \"cruel\", \"cruel\", \"cruel\", \"cruel\", \"cruel\", \"cruel\", \"cruel\", \"cupboard\", \"cupboard\", \"cupboard\", \"curtain\", \"curtain\", \"curtain\", \"curtain\", \"curtains\", \"curtains\", \"curtains\", \"curtains\", \"dances\", \"dances\", \"dances\", \"dances\", \"danger\", \"danger\", \"danger\", \"danger\", \"danger\", \"danger\", \"danger\", \"danger\", \"danger\", \"danger\", \"darcy\", \"darcy\", \"darcy\", \"darcy\", \"darcy\", \"darcy\", \"darcy\", \"dark\", \"dark\", \"dark\", \"dark\", \"dark\", \"dark\", \"dark\", \"dark\", \"dashwood\", \"dashwood\", \"dashwood\", \"dashwood\", \"dashwoods\", \"dashwoods\", \"daughter\", \"daughter\", \"daughter\", \"daughter\", \"daughter\", \"daughter\", \"daughter\", \"daughter\", \"daughter\", \"daughter\", \"daughter\", \"daughters\", \"daughters\", \"daughters\", \"daughters\", \"daughters\", \"daughters\", \"daughters\", \"daughters\", \"daughters\", \"daughters\", \"day\", \"day\", \"day\", \"day\", \"day\", \"day\", \"day\", \"day\", \"day\", \"day\", \"day\", \"day\", \"day\", \"day\", \"day\", \"days\", \"days\", \"days\", \"days\", \"days\", \"days\", \"days\", \"days\", \"days\", \"days\", \"days\", \"days\", \"days\", \"days\", \"dear\", \"dear\", \"dear\", \"dear\", \"dear\", \"dear\", \"dear\", \"dear\", \"dear\", \"dear\", \"dear\", \"dear\", \"dear\", \"debts\", \"debts\", \"debts\", \"defy\", \"defy\", \"defy\", \"defy\", \"delaford\", \"delaford\", \"delaford\", \"dent\", \"departed\", \"departed\", \"departed\", \"departed\", \"departed\", \"departed\", \"departed\", \"departed\", \"departed\", \"derbyshire\", \"derbyshire\", \"derbyshire\", \"deserve\", \"deserve\", \"deserve\", \"deserve\", \"deserve\", \"deserve\", \"deserve\", \"desk\", \"desk\", \"desk\", \"desk\", \"desk\", \"desk\", \"destitute\", \"destitute\", \"destitute\", \"devil\", \"devil\", \"devil\", \"devil\", \"devil\", \"devil\", \"devil\", \"devonshire\", \"devonshire\", \"devonshire\", \"diana\", \"diana\", \"diana\", \"diana\", \"diana\", \"diana\", \"diana\", \"diana\", \"dignified\", \"dignified\", \"dignified\", \"dignified\", \"dignified\", \"dimly\", \"dimly\", \"directress\", \"directress\", \"directress\", \"disapprobation\", \"disapprobation\", \"disapprobation\", \"disapprobation\", \"disapprobation\", \"disapprobation\", \"discharge\", \"discharge\", \"discharge\", \"discharge\", \"discussed\", \"discussed\", \"discussed\", \"discussed\", \"discussed\", \"disgrace\", \"disgrace\", \"disgrace\", \"disgrace\", \"disgrace\", \"disgrace\", \"disgrace\", \"dismiss\", \"dismiss\", \"dismiss\", \"dismiss\", \"dismiss\", \"dismiss\", \"dixon\", \"donwell\", \"donwell\", \"door\", \"door\", \"door\", \"door\", \"door\", \"door\", \"door\", \"door\", \"door\", \"door\", \"door\", \"door\", \"door\", \"doubt\", \"doubt\", \"doubt\", \"doubt\", \"doubt\", \"doubt\", \"doubt\", \"doubt\", \"doubt\", \"doubt\", \"doubt\", \"doubt\", \"doubt\", \"doubt\", \"dr\", \"dr\", \"dr\", \"dr\", \"dr\", \"dr\", \"dream\", \"dream\", \"dream\", \"dream\", \"dream\", \"earliest\", \"earliest\", \"earliest\", \"earliest\", \"earliest\", \"edward\", \"edward\", \"edward\", \"edward\", \"edward\", \"edward\", \"edward\", \"edward\", \"edward\", \"effectually\", \"effectually\", \"effectually\", \"effectually\", \"effectually\", \"effectually\", \"eligible\", \"eligible\", \"eligible\", \"eligible\", \"elinor\", \"elinor\", \"elinor\", \"elinor\", \"elinor\", \"elinor\", \"elinor\", \"eliza\", \"eliza\", \"eliza\", \"eliza\", \"eliza\", \"eliza\", \"eliza\", \"elizabeth\", \"elizabeth\", \"elizabeth\", \"elizabeth\", \"elizabeth\", \"elizabeth\", \"elizabeth\", \"elizabeth\", \"elizabeth\", \"elizabeth\", \"elle\", \"elle\", \"elle\", \"elton\", \"elton\", \"elton\", \"eltons\", \"eltons\", \"emanuel\", \"emanuel\", \"emma\", \"emma\", \"emma\", \"emma\", \"employments\", \"employments\", \"employments\", \"employments\", \"encouragement\", \"encouragement\", \"encouragement\", \"encouragement\", \"encouragement\", \"encouragement\", \"encouragement\", \"endeavours\", \"endeavours\", \"endeavours\", \"endeavours\", \"energies\", \"energies\", \"energies\", \"england\", \"england\", \"england\", \"england\", \"england\", \"england\", \"england\", \"england\", \"england\", \"england\", \"english\", \"english\", \"english\", \"english\", \"english\", \"english\", \"english\", \"engrossed\", \"engrossed\", \"enscombe\", \"enscombe\", \"equal\", \"equal\", \"equal\", \"equal\", \"equal\", \"equal\", \"equal\", \"equal\", \"equal\", \"equal\", \"equal\", \"equal\", \"err\", \"err\", \"err\", \"eshton\", \"est\", \"est\", \"est\", \"est\", \"estrade\", \"estrade\", \"et\", \"et\", \"et\", \"et\", \"existence\", \"existence\", \"existence\", \"existence\", \"existence\", \"existence\", \"existence\", \"existence\", \"existence\", \"existence\", \"expenses\", \"extremely\", \"extremely\", \"extremely\", \"extremely\", \"extremely\", \"extremely\", \"eye\", \"eye\", \"eye\", \"eye\", \"eye\", \"eye\", \"eye\", \"eye\", \"eye\", \"eye\", \"eye\", \"eye\", \"eyes\", \"eyes\", \"eyes\", \"eyes\", \"eyes\", \"eyes\", \"eyes\", \"eyes\", \"eyes\", \"eyes\", \"eyes\", \"eyes\", \"eyes\", \"eyre\", \"eyre\", \"eyre\", \"eyre\", \"eyre\", \"face\", \"face\", \"face\", \"face\", \"face\", \"face\", \"face\", \"face\", \"face\", \"face\", \"face\", \"face\", \"face\", \"fairfax\", \"fairfax\", \"fairfax\", \"fairfax\", \"fairfax\", \"fairfax\", \"fairfax\", \"fairfax\", \"falsehood\", \"falsehood\", \"falsehood\", \"falsehood\", \"falsehood\", \"falsehood\", \"family\", \"family\", \"family\", \"family\", \"family\", \"family\", \"family\", \"family\", \"family\", \"family\", \"family\", \"family\", \"family\", \"fanny\", \"fanny\", \"fanny\", \"fanshawe\", \"fanshawe\", \"farewell\", \"farewell\", \"farewell\", \"farewell\", \"farewell\", \"farewell\", \"farewell\", \"farthest\", \"farthest\", \"farthest\", \"farthest\", \"farthest\", \"father\", \"father\", \"father\", \"father\", \"father\", \"father\", \"father\", \"father\", \"father\", \"father\", \"father\", \"father\", \"father\", \"father\", \"featured\", \"featured\", \"featured\", \"feel\", \"feel\", \"feel\", \"feel\", \"feel\", \"feel\", \"feel\", \"feel\", \"feel\", \"feel\", \"feel\", \"feel\", \"feel\", \"feelings\", \"feelings\", \"feelings\", \"feelings\", \"feelings\", \"feelings\", \"feelings\", \"feelings\", \"feelings\", \"feelings\", \"feelings\", \"feelings\", \"feelings\", \"feelings\", \"feelings\", \"felt\", \"felt\", \"felt\", \"felt\", \"felt\", \"felt\", \"felt\", \"felt\", \"felt\", \"felt\", \"felt\", \"felt\", \"felt\", \"felt\", \"ferrars\", \"ferrars\", \"ferrars\", \"fete\", \"fires\", \"fires\", \"fires\", \"fires\", \"fires\", \"fitzwilliam\", \"fitzwilliam\", \"flat\", \"flat\", \"flat\", \"flat\", \"flemish\", \"flemish\", \"flesh\", \"flesh\", \"flesh\", \"flesh\", \"flesh\", \"flesh\", \"flesh\", \"flight\", \"flight\", \"flight\", \"flight\", \"flight\", \"flight\", \"flight\", \"flight\", \"flutter\", \"flutter\", \"flutter\", \"flutter\", \"flutter\", \"forced\", \"forced\", \"forced\", \"forced\", \"forced\", \"forced\", \"forced\", \"forced\", \"forced\", \"forced\", \"forced\", \"forced\", \"forget\", \"forget\", \"forget\", \"forget\", \"forget\", \"forget\", \"forget\", \"forget\", \"forget\", \"forget\", \"forget\", \"forget\", \"forget\", \"forms\", \"forms\", \"forms\", \"forms\", \"forms\", \"forms\", \"forms\", \"forms\", \"forms\", \"forms\", \"forster\", \"forster\", \"fortitude\", \"fortitude\", \"fortitude\", \"fortitude\", \"fortitude\", \"fortitude\", \"fortitude\", \"fortune\", \"fortune\", \"fortune\", \"fortune\", \"fortune\", \"fortune\", \"fortune\", \"fortune\", \"fortune\", \"fortune\", \"fortune\", \"fortune\", \"fortune\", \"fortune\", \"fossette\", \"frances\", \"frances\", \"frances\", \"frances\", \"francs\", \"francs\", \"francs\", \"frank\", \"frank\", \"frank\", \"frank\", \"frank\", \"frank\", \"frank\", \"frank\", \"frantic\", \"frantic\", \"frantic\", \"frantic\", \"frantic\", \"french\", \"french\", \"french\", \"french\", \"french\", \"french\", \"friend\", \"friend\", \"friend\", \"friend\", \"friend\", \"friend\", \"friend\", \"friend\", \"friend\", \"friend\", \"friend\", \"friend\", \"friend\", \"friendless\", \"friendless\", \"friendless\", \"frock\", \"frock\", \"frock\", \"fully\", \"fully\", \"fully\", \"fully\", \"fully\", \"fully\", \"fully\", \"fully\", \"fully\", \"fully\", \"furnish\", \"furnish\", \"furnish\", \"furnish\", \"furnish\", \"gale\", \"gale\", \"garden\", \"garden\", \"garden\", \"garden\", \"garden\", \"garden\", \"garden\", \"garden\", \"garden\", \"gardiner\", \"gardiner\", \"gardiner\", \"gardiner\", \"gateshead\", \"gateshead\", \"gateshead\", \"gem\", \"gem\", \"gem\", \"gem\", \"gently\", \"gently\", \"gently\", \"gently\", \"gently\", \"gently\", \"gently\", \"gently\", \"georgiana\", \"georgiana\", \"georgiana\", \"georgiana\", \"georgiana\", \"georgiana\", \"ginevra\", \"ginevra\", \"god\", \"god\", \"god\", \"god\", \"god\", \"god\", \"god\", \"god\", \"god\", \"god\", \"god\", \"god\", \"goddard\", \"goddard\", \"godmother\", \"good\", \"good\", \"good\", \"good\", \"good\", \"good\", \"good\", \"good\", \"good\", \"good\", \"good\", \"good\", \"good\", \"good\", \"goodness\", \"goodness\", \"goodness\", \"goodness\", \"goodness\", \"goodness\", \"goodness\", \"goodness\", \"goodness\", \"governess\", \"governess\", \"governess\", \"governess\", \"governess\", \"governess\", \"governess\", \"governess\", \"graham\", \"graham\", \"graham\", \"grandeur\", \"grandeur\", \"grandeur\", \"grandeur\", \"grandeur\", \"grandeur\", \"grasp\", \"grasp\", \"grasp\", \"grasp\", \"grasp\", \"grave\", \"grave\", \"grave\", \"grave\", \"grave\", \"grave\", \"grave\", \"grave\", \"grave\", \"grave\", \"grave\", \"grave\", \"great\", \"great\", \"great\", \"great\", \"great\", \"great\", \"great\", \"great\", \"great\", \"great\", \"great\", \"great\", \"great\", \"great\", \"great\", \"greek\", \"greek\", \"greek\", \"grove\", \"grove\", \"grove\", \"grove\", \"grove\", \"guided\", \"guided\", \"guided\", \"guided\", \"guided\", \"guilty\", \"guilty\", \"guilty\", \"guilty\", \"guilty\", \"hair\", \"hair\", \"hair\", \"hair\", \"hair\", \"hair\", \"hair\", \"hair\", \"hair\", \"hair\", \"hair\", \"half\", \"half\", \"half\", \"half\", \"half\", \"half\", \"half\", \"half\", \"half\", \"half\", \"half\", \"half\", \"half\", \"hall\", \"hall\", \"hall\", \"hall\", \"hall\", \"hall\", \"hall\", \"hall\", \"hall\", \"hall\", \"hall\", \"hall\", \"hand\", \"hand\", \"hand\", \"hand\", \"hand\", \"hand\", \"hand\", \"hand\", \"hand\", \"hand\", \"hand\", \"hand\", \"hand\", \"hang\", \"hang\", \"hang\", \"hang\", \"hang\", \"hang\", \"hang\", \"hannah\", \"hannah\", \"hannah\", \"hannah\", \"hannah\", \"hannah\", \"hannah\", \"hardened\", \"hardened\", \"hardened\", \"hardened\", \"hardened\", \"hardened\", \"harley\", \"harley\", \"harley\", \"harriet\", \"harriet\", \"harriet\", \"harriet\", \"harriet\", \"hartfield\", \"hartfield\", \"hartfield\", \"having\", \"having\", \"having\", \"having\", \"having\", \"having\", \"having\", \"having\", \"having\", \"having\", \"having\", \"having\", \"having\", \"having\", \"hay\", \"hay\", \"hay\", \"hay\", \"hear\", \"hear\", \"hear\", \"hear\", \"hear\", \"hear\", \"hear\", \"hear\", \"hear\", \"hear\", \"hear\", \"hear\", \"hear\", \"hear\", \"heard\", \"heard\", \"heard\", \"heard\", \"heard\", \"heard\", \"heard\", \"heard\", \"heard\", \"heard\", \"heard\", \"heard\", \"heard\", \"heart\", \"heart\", \"heart\", \"heart\", \"heart\", \"heart\", \"heart\", \"heart\", \"heart\", \"heart\", \"heart\", \"heart\", \"heart\", \"heart\", \"helen\", \"helen\", \"helen\", \"helped\", \"helped\", \"helped\", \"helped\", \"helped\", \"henri\", \"henri\", \"henri\", \"heroic\", \"heroic\", \"heroic\", \"heroic\", \"heroic\", \"hertfordshire\", \"hertfordshire\", \"hertfordshire\", \"hideous\", \"hideous\", \"hideous\", \"hideous\", \"hideous\", \"highbury\", \"highbury\", \"highbury\", \"home\", \"home\", \"home\", \"home\", \"home\", \"home\", \"home\", \"home\", \"home\", \"home\", \"home\", \"home\", \"home\", \"home\", \"hope\", \"hope\", \"hope\", \"hope\", \"hope\", \"hope\", \"hope\", \"hope\", \"hope\", \"hope\", \"hope\", \"hope\", \"hope\", \"hope\", \"hope\", \"house\", \"house\", \"house\", \"house\", \"house\", \"house\", \"house\", \"house\", \"house\", \"house\", \"house\", \"house\", \"house\", \"house\", \"house\", \"humiliation\", \"humiliation\", \"humiliation\", \"humiliation\", \"humph\", \"humph\", \"humph\", \"humph\", \"humph\", \"hunsden\", \"hunsden\", \"hunsden\", \"hunsford\", \"hunsford\", \"hunsford\", \"hunsford\", \"hurst\", \"hurst\", \"hurst\", \"hurst\", \"immediately\", \"immediately\", \"immediately\", \"immediately\", \"immediately\", \"immediately\", \"immediately\", \"immediately\", \"immediately\", \"immediately\", \"immediately\", \"immediately\", \"immediately\", \"impart\", \"impart\", \"impart\", \"impertinence\", \"impertinence\", \"impertinence\", \"impertinence\", \"impertinence\", \"impertinence\", \"impropriety\", \"impropriety\", \"impropriety\", \"impropriety\", \"imprudence\", \"imprudence\", \"imprudence\", \"imprudence\", \"imprudent\", \"imprudent\", \"imprudent\", \"imprudent\", \"impulses\", \"impulses\", \"impulses\", \"impulses\", \"imputed\", \"imputed\", \"imputed\", \"imputed\", \"including\", \"including\", \"including\", \"including\", \"including\", \"income\", \"income\", \"income\", \"income\", \"income\", \"income\", \"indebted\", \"indebted\", \"indebted\", \"indebted\", \"indebted\", \"india\", \"india\", \"india\", \"india\", \"india\", \"indian\", \"indian\", \"indian\", \"indian\", \"inevitably\", \"inevitably\", \"inevitably\", \"inevitably\", \"inevitably\", \"inflicted\", \"inflicted\", \"inflicted\", \"inflicted\", \"inflicted\", \"inflicted\", \"inflicted\", \"ingram\", \"ingram\", \"ingram\", \"ingram\", \"insist\", \"insist\", \"insist\", \"insist\", \"insisted\", \"insisted\", \"insisted\", \"insisted\", \"insisted\", \"insisted\", \"instruction\", \"instruction\", \"instruction\", \"instruction\", \"instruction\", \"instruction\", \"insupportable\", \"insupportable\", \"insupportable\", \"insupportable\", \"insupportable\", \"intelligible\", \"intelligible\", \"intelligible\", \"intelligible\", \"intelligible\", \"intelligible\", \"intelligible\", \"intimacy\", \"intimacy\", \"intimacy\", \"intimacy\", \"intimacy\", \"intimacy\", \"intimacy\", \"invitation\", \"invitation\", \"invitation\", \"invitation\", \"invitation\", \"invitation\", \"invitation\", \"invitation\", \"invitation\", \"ireland\", \"ireland\", \"ireland\", \"isabella\", \"isabella\", \"italian\", \"italian\", \"italian\", \"italian\", \"jane\", \"jane\", \"jane\", \"jane\", \"jane\", \"jane\", \"jane\", \"jane\", \"jane\", \"jane\", \"jane\", \"jane\", \"jane\", \"jane\", \"janet\", \"janet\", \"janet\", \"je\", \"je\", \"je\", \"jennings\", \"jennings\", \"jennings\", \"jennings\", \"john\", \"john\", \"john\", \"john\", \"john\", \"john\", \"john\", \"john\", \"john\", \"john\", \"john\", \"john\", \"john\", \"joyous\", \"joyous\", \"joyous\", \"judgement\", \"judgement\", \"judgement\", \"justice\", \"justice\", \"justice\", \"justice\", \"justice\", \"justice\", \"justice\", \"justice\", \"justice\", \"kent\", \"kent\", \"kill\", \"kill\", \"kill\", \"kindred\", \"kindred\", \"kindred\", \"kindred\", \"kindred\", \"kindred\", \"kindred\", \"kindred\", \"kitty\", \"kitty\", \"kitty\", \"kitty\", \"kitty\", \"knew\", \"knew\", \"knew\", \"knew\", \"knew\", \"knew\", \"knew\", \"knew\", \"knew\", \"knew\", \"knew\", \"knew\", \"knew\", \"knew\", \"knife\", \"knife\", \"knife\", \"knife\", \"knife\", \"knightley\", \"knightley\", \"knightley\", \"know\", \"know\", \"know\", \"know\", \"know\", \"know\", \"know\", \"know\", \"know\", \"know\", \"know\", \"know\", \"know\", \"know\", \"know\", \"la\", \"la\", \"la\", \"la\", \"la\", \"la\", \"lace\", \"lace\", \"lace\", \"lace\", \"lace\", \"lace\", \"lace\", \"lace\", \"ladies\", \"ladies\", \"ladies\", \"ladies\", \"ladies\", \"ladies\", \"ladies\", \"ladies\", \"ladies\", \"ladies\", \"ladies\", \"ladies\", \"ladies\", \"lady\", \"lady\", \"lady\", \"lady\", \"lady\", \"lady\", \"lady\", \"lady\", \"lady\", \"lady\", \"lady\", \"lady\", \"lady\", \"lady\", \"ladyship\", \"ladyship\", \"ladyship\", \"ladyship\", \"ladyship\", \"language\", \"language\", \"language\", \"language\", \"language\", \"language\", \"language\", \"language\", \"language\", \"language\", \"language\", \"language\", \"language\", \"law\", \"law\", \"law\", \"law\", \"law\", \"law\", \"law\", \"law\", \"law\", \"law\", \"law\", \"leah\", \"leah\", \"leave\", \"leave\", \"leave\", \"leave\", \"leave\", \"leave\", \"leave\", \"leave\", \"leave\", \"leave\", \"leave\", \"leave\", \"leave\", \"leave\", \"leave\", \"left\", \"left\", \"left\", \"left\", \"left\", \"left\", \"left\", \"left\", \"left\", \"left\", \"left\", \"left\", \"left\", \"left\", \"left\", \"length\", \"length\", \"length\", \"length\", \"length\", \"length\", \"length\", \"length\", \"length\", \"length\", \"length\", \"lessen\", \"lessen\", \"lessen\", \"lessons\", \"lessons\", \"lessons\", \"lessons\", \"lessons\", \"lessons\", \"letter\", \"letter\", \"letter\", \"letter\", \"letter\", \"letter\", \"letter\", \"letter\", \"letter\", \"letter\", \"letter\", \"letter\", \"letter\", \"letters\", \"letters\", \"letters\", \"letters\", \"letters\", \"letters\", \"letting\", \"letting\", \"letting\", \"letting\", \"letting\", \"letting\", \"life\", \"life\", \"life\", \"life\", \"life\", \"life\", \"life\", \"life\", \"life\", \"life\", \"life\", \"life\", \"life\", \"life\", \"lightly\", \"lightly\", \"lightly\", \"like\", \"like\", \"like\", \"like\", \"like\", \"like\", \"like\", \"like\", \"like\", \"like\", \"like\", \"like\", \"like\", \"like\", \"list\", \"list\", \"list\", \"list\", \"listener\", \"listener\", \"listener\", \"listener\", \"little\", \"little\", \"little\", \"little\", \"little\", \"little\", \"little\", \"little\", \"little\", \"little\", \"little\", \"little\", \"little\", \"little\", \"little\", \"live\", \"live\", \"live\", \"live\", \"live\", \"live\", \"live\", \"live\", \"live\", \"live\", \"live\", \"live\", \"live\", \"live\", \"lizzy\", \"lizzy\", \"lizzy\", \"lizzy\", \"lizzy\", \"lizzy\", \"ll\", \"ll\", \"ll\", \"ll\", \"ll\", \"ll\", \"ll\", \"ll\", \"lock\", \"lock\", \"lock\", \"lock\", \"lock\", \"lock\", \"lock\", \"lock\", \"lodgings\", \"lodgings\", \"lodgings\", \"lodgings\", \"lodgings\", \"lodgings\", \"lodgings\", \"long\", \"long\", \"long\", \"long\", \"long\", \"long\", \"long\", \"long\", \"long\", \"long\", \"long\", \"long\", \"long\", \"long\", \"long\", \"longbourn\", \"longbourn\", \"longbourn\", \"longbourn\", \"longbourn\", \"look\", \"look\", \"look\", \"look\", \"look\", \"look\", \"look\", \"look\", \"look\", \"look\", \"look\", \"look\", \"look\", \"looked\", \"looked\", \"looked\", \"looked\", \"looked\", \"looked\", \"looked\", \"looked\", \"looked\", \"looked\", \"looked\", \"looked\", \"looked\", \"looked\", \"loudly\", \"loudly\", \"loudly\", \"loudly\", \"loudly\", \"love\", \"love\", \"love\", \"love\", \"love\", \"love\", \"love\", \"love\", \"love\", \"love\", \"love\", \"love\", \"love\", \"love\", \"lowood\", \"lowood\", \"lowood\", \"lowood\", \"lucas\", \"lucas\", \"lucas\", \"lucas\", \"lucases\", \"lucases\", \"lucy\", \"lucy\", \"lucy\", \"lucy\", \"lucy\", \"lucy\", \"lucy\", \"lydia\", \"lydia\", \"lydia\", \"lynn\", \"ma\", \"ma\", \"ma\", \"ma\", \"ma\", \"ma\", \"ma\", \"ma\", \"ma\", \"mad\", \"mad\", \"mad\", \"mad\", \"mad\", \"mad\", \"mad\", \"madame\", \"madame\", \"madame\", \"madame\", \"mademoiselle\", \"mademoiselle\", \"mademoiselle\", \"mademoiselle\", \"mademoiselle\", \"maids\", \"maids\", \"maids\", \"maids\", \"maids\", \"maids\", \"maids\", \"maintained\", \"maintained\", \"maintained\", \"maintained\", \"maintained\", \"mama\", \"mama\", \"mama\", \"mama\", \"man\", \"man\", \"man\", \"man\", \"man\", \"man\", \"man\", \"man\", \"man\", \"man\", \"man\", \"man\", \"man\", \"man\", \"maple\", \"margaret\", \"margaret\", \"margaret\", \"maria\", \"maria\", \"maria\", \"maria\", \"marianne\", \"marianne\", \"marianne\", \"marianne\", \"marianne\", \"marianne\", \"marie\", \"marriage\", \"marriage\", \"marriage\", \"marriage\", \"marriage\", \"marriage\", \"marriage\", \"marriage\", \"marriage\", \"marriage\", \"marriage\", \"marriage\", \"marriage\", \"married\", \"married\", \"married\", \"married\", \"married\", \"married\", \"married\", \"married\", \"married\", \"married\", \"married\", \"married\", \"married\", \"marry\", \"marry\", \"marry\", \"marry\", \"marry\", \"marry\", \"marry\", \"marry\", \"marry\", \"marry\", \"marry\", \"marry\", \"marsh\", \"marsh\", \"marsh\", \"marsh\", \"martin\", \"martin\", \"martin\", \"mary\", \"mary\", \"mary\", \"mary\", \"mary\", \"mary\", \"mary\", \"mary\", \"mary\", \"mary\", \"mason\", \"mason\", \"mason\", \"master\", \"master\", \"master\", \"master\", \"master\", \"master\", \"master\", \"master\", \"master\", \"matter\", \"matter\", \"matter\", \"matter\", \"matter\", \"matter\", \"matter\", \"matter\", \"matter\", \"matter\", \"matter\", \"matter\", \"mdlle\", \"mdlle\", \"mdlle\", \"mdlle\", \"measures\", \"measures\", \"measures\", \"measures\", \"measures\", \"measures\", \"meditation\", \"meditation\", \"meditation\", \"meditation\", \"meditation\", \"mentioning\", \"mentioning\", \"mentioning\", \"mentioning\", \"mentioning\", \"mentioning\", \"mere\", \"mere\", \"mere\", \"mere\", \"mere\", \"mere\", \"mere\", \"mere\", \"mere\", \"mere\", \"mere\", \"mere\", \"meryton\", \"meryton\", \"met\", \"met\", \"met\", \"met\", \"met\", \"met\", \"met\", \"met\", \"met\", \"met\", \"met\", \"met\", \"met\", \"met\", \"middleton\", \"middleton\", \"middleton\", \"middleton\", \"middleton\", \"middletons\", \"middletons\", \"midnight\", \"midnight\", \"midnight\", \"midnight\", \"midnight\", \"milk\", \"milk\", \"milk\", \"millcote\", \"millcote\", \"millcote\", \"millcote\", \"mind\", \"mind\", \"mind\", \"mind\", \"mind\", \"mind\", \"mind\", \"mind\", \"mind\", \"mind\", \"mind\", \"mind\", \"mind\", \"missionary\", \"missionary\", \"missionary\", \"missionary\", \"missis\", \"moment\", \"moment\", \"moment\", \"moment\", \"moment\", \"moment\", \"moment\", \"moment\", \"moment\", \"moment\", \"moment\", \"moment\", \"moment\", \"monday\", \"monday\", \"monday\", \"monday\", \"monday\", \"monday\", \"monsieur\", \"monsieur\", \"monsieur\", \"monsieur\", \"monsieur\", \"monsieur\", \"monstrous\", \"monstrous\", \"monstrous\", \"moon\", \"moon\", \"moon\", \"moor\", \"moor\", \"moor\", \"moor\", \"moor\", \"morning\", \"morning\", \"morning\", \"morning\", \"morning\", \"morning\", \"morning\", \"morning\", \"morning\", \"morning\", \"morning\", \"morning\", \"morning\", \"morning\", \"morton\", \"morton\", \"morton\", \"morton\", \"morton\", \"morton\", \"mother\", \"mother\", \"mother\", \"mother\", \"mother\", \"mother\", \"mother\", \"mother\", \"mother\", \"mother\", \"mother\", \"mother\", \"mother\", \"motive\", \"motive\", \"motive\", \"motive\", \"motive\", \"motive\", \"motive\", \"motive\", \"narrow\", \"narrow\", \"narrow\", \"narrow\", \"narrow\", \"narrow\", \"narrow\", \"near\", \"near\", \"near\", \"near\", \"near\", \"near\", \"near\", \"near\", \"near\", \"near\", \"near\", \"near\", \"near\", \"netherfield\", \"netherfield\", \"netherfield\", \"nieces\", \"nieces\", \"nieces\", \"nieces\", \"nieces\", \"night\", \"night\", \"night\", \"night\", \"night\", \"night\", \"night\", \"night\", \"night\", \"night\", \"night\", \"night\", \"night\", \"nineteen\", \"nineteen\", \"nineteen\", \"nineteen\", \"nineteen\", \"nineteen\", \"norland\", \"norland\", \"norland\", \"notes\", \"notes\", \"notes\", \"notes\", \"notes\", \"notes\", \"novel\", \"novel\", \"novel\", \"novel\", \"nurse\", \"nurse\", \"nurse\", \"nurse\", \"nurse\", \"obey\", \"obey\", \"obey\", \"obey\", \"obey\", \"obey\", \"objections\", \"objections\", \"objections\", \"objections\", \"objections\", \"objections\", \"obstacles\", \"obstacles\", \"obstacles\", \"obstacles\", \"obstinate\", \"obstinate\", \"obstinate\", \"obstinate\", \"obstinate\", \"offended\", \"offended\", \"offended\", \"offended\", \"offended\", \"offended\", \"officer\", \"officer\", \"officer\", \"officers\", \"officers\", \"officers\", \"officious\", \"officious\", \"officious\", \"officious\", \"officious\", \"officious\", \"oh\", \"oh\", \"oh\", \"oh\", \"oh\", \"oh\", \"oh\", \"oh\", \"oh\", \"oh\", \"oh\", \"oh\", \"oh\", \"oh\", \"old\", \"old\", \"old\", \"old\", \"old\", \"old\", \"old\", \"old\", \"old\", \"old\", \"old\", \"old\", \"old\", \"opinion\", \"opinion\", \"opinion\", \"opinion\", \"opinion\", \"opinion\", \"opinion\", \"opinion\", \"opinion\", \"opinion\", \"opinion\", \"opinion\", \"ought\", \"ought\", \"ought\", \"ought\", \"ought\", \"ought\", \"ought\", \"ought\", \"ought\", \"ought\", \"ought\", \"ought\", \"ought\", \"owing\", \"owing\", \"owing\", \"owing\", \"owing\", \"owing\", \"owing\", \"packet\", \"packet\", \"packet\", \"palmer\", \"palmer\", \"parcel\", \"parcel\", \"parcel\", \"parcel\", \"parcel\", \"partiality\", \"partiality\", \"partiality\", \"partiality\", \"partiality\", \"partiality\", \"party\", \"party\", \"party\", \"party\", \"party\", \"party\", \"party\", \"party\", \"party\", \"party\", \"patiently\", \"patiently\", \"patiently\", \"patroness\", \"patroness\", \"patroness\", \"patroness\", \"paul\", \"paul\", \"paul\", \"paulina\", \"pelet\", \"pelet\", \"pemberley\", \"pemberley\", \"pemberley\", \"pemberley\", \"penance\", \"penance\", \"penance\", \"penance\", \"pensionnat\", \"pere\", \"pere\", \"perform\", \"perform\", \"perform\", \"perform\", \"perform\", \"perform\", \"perry\", \"perry\", \"persuading\", \"persuading\", \"persuading\", \"persuading\", \"persuading\", \"phillips\", \"phillips\", \"phillips\", \"picturesque\", \"picturesque\", \"picturesque\", \"picturesque\", \"picturesque\", \"picturesque\", \"pierre\", \"pilot\", \"pilot\", \"piquant\", \"piquant\", \"piquant\", \"piquant\", \"pleasure\", \"pleasure\", \"pleasure\", \"pleasure\", \"pleasure\", \"pleasure\", \"pleasure\", \"pleasure\", \"pleasure\", \"pleasure\", \"pleasure\", \"pleasure\", \"pleasure\", \"pleasure\", \"pleasure\", \"point\", \"point\", \"point\", \"point\", \"point\", \"point\", \"point\", \"point\", \"point\", \"point\", \"point\", \"point\", \"point\", \"point\", \"polly\", \"polly\", \"poole\", \"poole\", \"poole\", \"poole\", \"poor\", \"poor\", \"poor\", \"poor\", \"poor\", \"poor\", \"poor\", \"poor\", \"poor\", \"poor\", \"poor\", \"porter\", \"porter\", \"pounds\", \"pounds\", \"pounds\", \"pounds\", \"pounds\", \"pounds\", \"pounds\", \"pounds\", \"pounds\", \"pounds\", \"present\", \"present\", \"present\", \"present\", \"present\", \"present\", \"present\", \"present\", \"present\", \"present\", \"present\", \"present\", \"present\", \"present\", \"pressing\", \"pressing\", \"pressing\", \"pressing\", \"pressing\", \"pressing\", \"pressing\", \"pressing\", \"presumption\", \"presumption\", \"presumption\", \"presumption\", \"principles\", \"principles\", \"principles\", \"principles\", \"principles\", \"principles\", \"principles\", \"principles\", \"probably\", \"probably\", \"probably\", \"probably\", \"probably\", \"probably\", \"probably\", \"probably\", \"probably\", \"probably\", \"probably\", \"probably\", \"probably\", \"professor\", \"profound\", \"profound\", \"profound\", \"profound\", \"proprietor\", \"proprietor\", \"proprietor\", \"proprietor\", \"proprietor\", \"prosperous\", \"prosperous\", \"prosperous\", \"prosperous\", \"pupil\", \"pupil\", \"pupil\", \"pupil\", \"pupil\", \"pupil\", \"pupil\", \"pupils\", \"pupils\", \"pupils\", \"pupils\", \"pupils\", \"purse\", \"purse\", \"purse\", \"purse\", \"purse\", \"pursuits\", \"pursuits\", \"quarrelling\", \"quarrelling\", \"quarrelling\", \"quarrelling\", \"quarrelling\", \"quarrelling\", \"que\", \"que\", \"que\", \"quest\", \"quest\", \"quest\", \"quest\", \"quest\", \"quest\", \"quickness\", \"quickness\", \"quickness\", \"quickness\", \"quit\", \"quit\", \"quit\", \"quit\", \"quit\", \"quit\", \"quit\", \"quit\", \"quit\", \"quit\", \"quit\", \"rained\", \"rained\", \"rained\", \"rained\", \"rained\", \"randalls\", \"randalls\", \"rapture\", \"rapture\", \"rapture\", \"rapture\", \"read\", \"read\", \"read\", \"read\", \"read\", \"read\", \"read\", \"read\", \"read\", \"read\", \"read\", \"read\", \"read\", \"read\", \"readily\", \"readily\", \"readily\", \"readily\", \"readily\", \"readily\", \"readily\", \"readily\", \"receive\", \"receive\", \"receive\", \"receive\", \"receive\", \"receive\", \"receive\", \"receive\", \"receive\", \"receive\", \"receive\", \"recognition\", \"recognition\", \"recognition\", \"recommending\", \"recommending\", \"recommending\", \"recommending\", \"recovery\", \"recovery\", \"recovery\", \"recovery\", \"recovery\", \"recovery\", \"reduced\", \"reduced\", \"reduced\", \"reduced\", \"reduced\", \"reed\", \"reed\", \"reed\", \"regard\", \"regard\", \"regard\", \"regard\", \"regard\", \"regard\", \"regard\", \"regard\", \"regard\", \"regard\", \"regard\", \"regarded\", \"regarded\", \"regarded\", \"regarded\", \"regarded\", \"regarded\", \"regarded\", \"regarded\", \"regarded\", \"regiment\", \"regiment\", \"regiment\", \"regiment\", \"regiment\", \"regretted\", \"regretted\", \"regretted\", \"regretted\", \"regretted\", \"regretted\", \"regretted\", \"regretted\", \"relatives\", \"relatives\", \"relatives\", \"relatives\", \"release\", \"release\", \"release\", \"remedy\", \"remedy\", \"remedy\", \"remedy\", \"remedy\", \"remorse\", \"remorse\", \"remorse\", \"remorse\", \"remorse\", \"repeat\", \"repeat\", \"repeat\", \"repeat\", \"repeat\", \"repeat\", \"repeat\", \"repeat\", \"repeatedly\", \"repeatedly\", \"repeatedly\", \"repeatedly\", \"repeatedly\", \"repeatedly\", \"replied\", \"replied\", \"replied\", \"replied\", \"replied\", \"replied\", \"replied\", \"replied\", \"replied\", \"replied\", \"replied\", \"replied\", \"report\", \"report\", \"report\", \"report\", \"report\", \"report\", \"report\", \"report\", \"requires\", \"requires\", \"requires\", \"requires\", \"requires\", \"requires\", \"resent\", \"resent\", \"resent\", \"resent\", \"resent\", \"resident\", \"resident\", \"resident\", \"resident\", \"resolving\", \"resolving\", \"resolving\", \"resolving\", \"returned\", \"returned\", \"returned\", \"returned\", \"returned\", \"returned\", \"returned\", \"returned\", \"returned\", \"returned\", \"returned\", \"returned\", \"reuter\", \"reuter\", \"reviving\", \"reviving\", \"reviving\", \"reviving\", \"reviving\", \"right\", \"right\", \"right\", \"right\", \"right\", \"right\", \"right\", \"right\", \"right\", \"right\", \"right\", \"right\", \"right\", \"right\", \"rights\", \"rights\", \"rights\", \"river\", \"river\", \"river\", \"river\", \"river\", \"river\", \"rivers\", \"rivers\", \"rivers\", \"rivers\", \"rivers\", \"rivers\", \"rivers\", \"rivers\", \"rivers\", \"robert\", \"robert\", \"robert\", \"robert\", \"robert\", \"robert\", \"rochester\", \"rochester\", \"rochester\", \"rochester\", \"rochester\", \"rochester\", \"rock\", \"rock\", \"rock\", \"rock\", \"room\", \"room\", \"room\", \"room\", \"room\", \"room\", \"room\", \"room\", \"room\", \"room\", \"room\", \"room\", \"room\", \"rosine\", \"rosings\", \"rosings\", \"rosings\", \"rosings\", \"rue\", \"rue\", \"ruined\", \"ruined\", \"ruined\", \"ruined\", \"ruined\", \"ruined\", \"ruined\", \"rules\", \"rules\", \"rules\", \"rules\", \"rumour\", \"rumour\", \"rumour\", \"rumour\", \"rumour\", \"saturday\", \"saturday\", \"saturday\", \"saturday\", \"saturday\", \"saw\", \"saw\", \"saw\", \"saw\", \"saw\", \"saw\", \"saw\", \"saw\", \"saw\", \"saw\", \"saw\", \"saw\", \"saw\", \"saw\", \"school\", \"school\", \"school\", \"school\", \"school\", \"school\", \"school\", \"school\", \"school\", \"school\", \"school\", \"school\", \"school\", \"scorned\", \"scorned\", \"scorned\", \"scorned\", \"scotland\", \"scotland\", \"scotland\", \"scotland\", \"scotland\", \"secrecy\", \"secrecy\", \"secrecy\", \"secrecy\", \"seek\", \"seek\", \"seek\", \"seek\", \"seek\", \"seek\", \"seek\", \"seek\", \"seek\", \"seek\", \"selfish\", \"selfish\", \"selfish\", \"selfish\", \"selfish\", \"selfish\", \"selfish\", \"sense\", \"sense\", \"sense\", \"sense\", \"sense\", \"sense\", \"sense\", \"sense\", \"sense\", \"sense\", \"sense\", \"sense\", \"servants\", \"servants\", \"servants\", \"servants\", \"servants\", \"servants\", \"servants\", \"servants\", \"servants\", \"servants\", \"settled\", \"settled\", \"settled\", \"settled\", \"settled\", \"settled\", \"settled\", \"settled\", \"settled\", \"settled\", \"settled\", \"settled\", \"settled\", \"severe\", \"severe\", \"severe\", \"severe\", \"severe\", \"severe\", \"severe\", \"severe\", \"severe\", \"severe\", \"severe\", \"severely\", \"severely\", \"severely\", \"severely\", \"shall\", \"shall\", \"shall\", \"shall\", \"shall\", \"shall\", \"shall\", \"shall\", \"shall\", \"shall\", \"shall\", \"shall\", \"shall\", \"shall\", \"shaped\", \"shaped\", \"shaped\", \"signify\", \"signify\", \"signify\", \"signify\", \"signify\", \"signify\", \"signify\", \"signify\", \"signify\", \"sink\", \"sink\", \"sink\", \"sink\", \"sink\", \"sir\", \"sir\", \"sir\", \"sir\", \"sir\", \"sir\", \"sir\", \"sir\", \"sir\", \"sir\", \"sir\", \"sir\", \"sister\", \"sister\", \"sister\", \"sister\", \"sister\", \"sister\", \"sister\", \"sister\", \"sister\", \"sister\", \"sister\", \"sisters\", \"sisters\", \"sisters\", \"sisters\", \"sisters\", \"sisters\", \"sisters\", \"sisters\", \"sisters\", \"sisters\", \"sisters\", \"sisters\", \"situation\", \"situation\", \"situation\", \"situation\", \"situation\", \"situation\", \"situation\", \"situation\", \"situation\", \"situation\", \"situation\", \"situation\", \"situation\", \"situation\", \"smile\", \"smile\", \"smile\", \"smile\", \"smile\", \"smile\", \"smile\", \"smile\", \"smile\", \"smile\", \"smile\", \"smile\", \"smile\", \"smile\", \"smith\", \"smith\", \"smith\", \"smith\", \"smith\", \"smith\", \"snowe\", \"snug\", \"snug\", \"snug\", \"snug\", \"snug\", \"sobs\", \"sobs\", \"sobs\", \"soon\", \"soon\", \"soon\", \"soon\", \"soon\", \"soon\", \"soon\", \"soon\", \"soon\", \"soon\", \"soon\", \"soon\", \"soon\", \"soon\", \"soon\", \"sophie\", \"sophie\", \"sophie\", \"sorrows\", \"sorrows\", \"sorrows\", \"sorrows\", \"sorrows\", \"spanish\", \"spanish\", \"spanish\", \"spanish\", \"speak\", \"speak\", \"speak\", \"speak\", \"speak\", \"speak\", \"speak\", \"speak\", \"speak\", \"speak\", \"speak\", \"speak\", \"speak\", \"speak\", \"speculation\", \"speculation\", \"speculation\", \"speculation\", \"speculation\", \"speeches\", \"speeches\", \"speeches\", \"speeches\", \"speeches\", \"spirit\", \"spirit\", \"spirit\", \"spirit\", \"spirit\", \"spirit\", \"spirit\", \"spirit\", \"spirit\", \"spirit\", \"spirit\", \"spirit\", \"spirited\", \"spirited\", \"spirited\", \"spirited\", \"spirited\", \"spirited\", \"spirited\", \"spirited\", \"spirits\", \"spirits\", \"spirits\", \"spirits\", \"spirits\", \"spirits\", \"spirits\", \"spirits\", \"spirits\", \"spirits\", \"spirits\", \"spoiled\", \"spoiled\", \"spoiled\", \"spreading\", \"spreading\", \"spreading\", \"spreading\", \"st\", \"st\", \"st\", \"st\", \"st\", \"st\", \"st\", \"st\", \"st\", \"st\", \"st\", \"steele\", \"steele\", \"steele\", \"steeles\", \"steeles\", \"steep\", \"steep\", \"steep\", \"steep\", \"step\", \"step\", \"step\", \"step\", \"step\", \"step\", \"step\", \"step\", \"step\", \"step\", \"step\", \"step\", \"stepping\", \"stepping\", \"stepping\", \"stillness\", \"stillness\", \"stillness\", \"stopt\", \"stopt\", \"stopt\", \"stopt\", \"storey\", \"storey\", \"storey\", \"stream\", \"stream\", \"stream\", \"stream\", \"stream\", \"street\", \"street\", \"street\", \"street\", \"street\", \"street\", \"street\", \"street\", \"street\", \"street\", \"street\", \"street\", \"studies\", \"studies\", \"studies\", \"studies\", \"study\", \"study\", \"study\", \"study\", \"study\", \"study\", \"study\", \"study\", \"study\", \"submission\", \"submission\", \"submission\", \"submission\", \"submission\", \"submission\", \"suits\", \"suits\", \"suits\", \"suits\", \"suits\", \"suits\", \"sun\", \"sun\", \"sun\", \"sun\", \"sun\", \"sun\", \"sun\", \"sun\", \"superior\", \"superior\", \"superior\", \"superior\", \"superior\", \"superior\", \"superior\", \"superior\", \"superior\", \"superior\", \"sure\", \"sure\", \"sure\", \"sure\", \"sure\", \"sure\", \"sure\", \"sure\", \"sure\", \"sure\", \"sure\", \"sure\", \"sure\", \"sure\", \"surprize\", \"surprize\", \"surprized\", \"surprized\", \"table\", \"table\", \"table\", \"table\", \"table\", \"table\", \"table\", \"table\", \"table\", \"table\", \"table\", \"table\", \"table\", \"tale\", \"tale\", \"tale\", \"tale\", \"talk\", \"talk\", \"talk\", \"talk\", \"talk\", \"talk\", \"talk\", \"talk\", \"talk\", \"talk\", \"talk\", \"talk\", \"talk\", \"task\", \"task\", \"task\", \"task\", \"task\", \"task\", \"task\", \"taylor\", \"taylor\", \"teacher\", \"teacher\", \"teacher\", \"teacher\", \"teacher\", \"teacher\", \"teacher\", \"tell\", \"tell\", \"tell\", \"tell\", \"tell\", \"tell\", \"tell\", \"tell\", \"tell\", \"tell\", \"tell\", \"tell\", \"tell\", \"tell\", \"tell\", \"temple\", \"temple\", \"temple\", \"temple\", \"tempt\", \"tempt\", \"tempt\", \"tempt\", \"tenderness\", \"tenderness\", \"tenderness\", \"tenderness\", \"tenderness\", \"tenderness\", \"tenderness\", \"tenderness\", \"term\", \"term\", \"term\", \"term\", \"term\", \"term\", \"th\", \"th\", \"th\", \"th\", \"th\", \"th\", \"th\", \"th\", \"th\", \"theme\", \"theme\", \"theme\", \"theme\", \"thing\", \"thing\", \"thing\", \"thing\", \"thing\", \"thing\", \"thing\", \"thing\", \"thing\", \"thing\", \"thing\", \"thing\", \"thing\", \"thing\", \"think\", \"think\", \"think\", \"think\", \"think\", \"think\", \"think\", \"think\", \"think\", \"think\", \"think\", \"think\", \"think\", \"think\", \"thornfield\", \"thornfield\", \"thornfield\", \"thornfield\", \"thornfield\", \"thought\", \"thought\", \"thought\", \"thought\", \"thought\", \"thought\", \"thought\", \"thought\", \"thought\", \"thought\", \"thought\", \"thought\", \"thought\", \"thought\", \"thought\", \"thousand\", \"thousand\", \"thousand\", \"thousand\", \"thousand\", \"thousand\", \"thousand\", \"thousand\", \"thousand\", \"thousand\", \"thousand\", \"time\", \"time\", \"time\", \"time\", \"time\", \"time\", \"time\", \"time\", \"time\", \"time\", \"time\", \"time\", \"time\", \"time\", \"time\", \"times\", \"times\", \"times\", \"times\", \"times\", \"times\", \"times\", \"times\", \"times\", \"times\", \"times\", \"times\", \"times\", \"times\", \"toil\", \"toil\", \"toil\", \"toil\", \"tomorrow\", \"tomorrow\", \"tomorrow\", \"took\", \"took\", \"took\", \"took\", \"took\", \"took\", \"took\", \"took\", \"took\", \"took\", \"took\", \"took\", \"took\", \"took\", \"torment\", \"torment\", \"torment\", \"torture\", \"torture\", \"torture\", \"torture\", \"torture\", \"torture\", \"town\", \"town\", \"town\", \"town\", \"town\", \"town\", \"town\", \"town\", \"town\", \"town\", \"town\", \"town\", \"traced\", \"traced\", \"traced\", \"traced\", \"traced\", \"traveller\", \"traveller\", \"traveller\", \"traveller\", \"tray\", \"tray\", \"tray\", \"tray\", \"truly\", \"truly\", \"truly\", \"truly\", \"truly\", \"truly\", \"truly\", \"truly\", \"truly\", \"truly\", \"truly\", \"turned\", \"turned\", \"turned\", \"turned\", \"turned\", \"turned\", \"turned\", \"turned\", \"turned\", \"turned\", \"turned\", \"turned\", \"turned\", \"twisted\", \"twisted\", \"twisted\", \"twisted\", \"twisted\", \"uncle\", \"uncle\", \"uncle\", \"uncle\", \"uncle\", \"uncle\", \"uncle\", \"uncle\", \"uncle\", \"uncle\", \"uncle\", \"uncle\", \"uncommonly\", \"uncommonly\", \"unconscious\", \"unconscious\", \"unconscious\", \"unconscious\", \"unconscious\", \"unfortunate\", \"unfortunate\", \"unfortunate\", \"unfortunate\", \"unfortunate\", \"unfortunate\", \"unhappiness\", \"unhappiness\", \"unhappiness\", \"unhappiness\", \"unprincipled\", \"unprincipled\", \"unprincipled\", \"unprincipled\", \"unprincipled\", \"upright\", \"upright\", \"upright\", \"upright\", \"upright\", \"usual\", \"usual\", \"usual\", \"usual\", \"usual\", \"usual\", \"usual\", \"usual\", \"usual\", \"usual\", \"usual\", \"usual\", \"veil\", \"veil\", \"veil\", \"vengeance\", \"vengeance\", \"vengeance\", \"vicarage\", \"vicarage\", \"victor\", \"villette\", \"villette\", \"visit\", \"visit\", \"visit\", \"visit\", \"visit\", \"visit\", \"visit\", \"visit\", \"visit\", \"visit\", \"visit\", \"visit\", \"voice\", \"voice\", \"voice\", \"voice\", \"voice\", \"voice\", \"voice\", \"voice\", \"voice\", \"voice\", \"voice\", \"voice\", \"voice\", \"vous\", \"vous\", \"vous\", \"vous\", \"want\", \"want\", \"want\", \"want\", \"want\", \"want\", \"want\", \"want\", \"want\", \"want\", \"want\", \"want\", \"want\", \"wanted\", \"wanted\", \"wanted\", \"wanted\", \"wanted\", \"wanted\", \"wanted\", \"wanted\", \"wanted\", \"wanted\", \"wanted\", \"wanted\", \"wanted\", \"warmer\", \"warmer\", \"warmer\", \"warmer\", \"water\", \"water\", \"water\", \"water\", \"water\", \"water\", \"water\", \"water\", \"water\", \"water\", \"way\", \"way\", \"way\", \"way\", \"way\", \"way\", \"way\", \"way\", \"way\", \"way\", \"way\", \"way\", \"way\", \"way\", \"weary\", \"weary\", \"weary\", \"weary\", \"weary\", \"weary\", \"weary\", \"weary\", \"went\", \"went\", \"went\", \"went\", \"went\", \"went\", \"went\", \"went\", \"went\", \"went\", \"went\", \"went\", \"went\", \"went\", \"weston\", \"weston\", \"weston\", \"weston\", \"westons\", \"weymouth\", \"white\", \"white\", \"white\", \"white\", \"white\", \"white\", \"white\", \"white\", \"white\", \"white\", \"white\", \"white\", \"white\", \"wickham\", \"wickham\", \"wickham\", \"wickham\", \"wickham\", \"wife\", \"wife\", \"wife\", \"wife\", \"wife\", \"wife\", \"wife\", \"wife\", \"wife\", \"wife\", \"wife\", \"wife\", \"wife\", \"william\", \"william\", \"william\", \"william\", \"william\", \"william\", \"willoughby\", \"willoughby\", \"willoughby\", \"willoughby\", \"wish\", \"wish\", \"wish\", \"wish\", \"wish\", \"wish\", \"wish\", \"wish\", \"wish\", \"wish\", \"wish\", \"wish\", \"wish\", \"wish\", \"woman\", \"woman\", \"woman\", \"woman\", \"woman\", \"woman\", \"woman\", \"woman\", \"woman\", \"woman\", \"woman\", \"woman\", \"woman\", \"woodhouse\", \"woodhouse\", \"woodhouse\", \"word\", \"word\", \"word\", \"word\", \"word\", \"word\", \"word\", \"word\", \"word\", \"word\", \"word\", \"word\", \"word\", \"word\", \"words\", \"words\", \"words\", \"words\", \"words\", \"words\", \"words\", \"words\", \"words\", \"words\", \"words\", \"words\", \"words\", \"work\", \"work\", \"work\", \"work\", \"work\", \"work\", \"work\", \"work\", \"work\", \"work\", \"work\", \"work\", \"work\", \"worthy\", \"worthy\", \"worthy\", \"worthy\", \"worthy\", \"worthy\", \"worthy\", \"worthy\", \"worthy\", \"wrung\", \"wrung\", \"wrung\", \"wrung\", \"ye\", \"ye\", \"ye\", \"ye\", \"ye\", \"ye\", \"ye\", \"ye\", \"years\", \"years\", \"years\", \"years\", \"years\", \"years\", \"years\", \"years\", \"years\", \"years\", \"years\", \"yes\", \"yes\", \"yes\", \"yes\", \"yes\", \"yes\", \"yes\", \"yes\", \"yes\", \"yes\", \"yes\", \"yes\", \"yes\", \"yes\", \"young\", \"young\", \"young\", \"young\", \"young\", \"young\", \"young\", \"young\", \"young\", \"young\", \"young\", \"young\", \"young\", \"young\", \"younger\", \"younger\", \"younger\", \"younger\", \"younger\", \"younger\", \"younger\", \"younger\", \"younger\", \"younger\", \"zoraide\"]}, \"R\": 30, \"lambda.step\": 0.01, \"plot.opts\": {\"xlab\": \"PC1\", \"ylab\": \"PC2\"}, \"topic.order\": [5, 14, 3, 10, 12, 11, 2, 8, 9, 15, 6, 13, 1, 4, 7]};\n",
       "\n",
       "function LDAvis_load_lib(url, callback){\n",
       "  var s = document.createElement('script');\n",
       "  s.src = url;\n",
       "  s.async = true;\n",
       "  s.onreadystatechange = s.onload = callback;\n",
       "  s.onerror = function(){console.warn(\"failed to load library \" + url);};\n",
       "  document.getElementsByTagName(\"head\")[0].appendChild(s);\n",
       "}\n",
       "\n",
       "if(typeof(LDAvis) !== \"undefined\"){\n",
       "   // already loaded: just create the visualization\n",
       "   !function(LDAvis){\n",
       "       new LDAvis(\"#\" + \"ldavis_el950818495876165281669677557\", ldavis_el950818495876165281669677557_data);\n",
       "   }(LDAvis);\n",
       "}else if(typeof define === \"function\" && define.amd){\n",
       "   // require.js is available: use it to load d3/LDAvis\n",
       "   require.config({paths: {d3: \"https://cdnjs.cloudflare.com/ajax/libs/d3/3.5.5/d3.min\"}});\n",
       "   require([\"d3\"], function(d3){\n",
       "      window.d3 = d3;\n",
       "      LDAvis_load_lib(\"https://cdn.rawgit.com/bmabey/pyLDAvis/files/ldavis.v1.0.0.js\", function(){\n",
       "        new LDAvis(\"#\" + \"ldavis_el950818495876165281669677557\", ldavis_el950818495876165281669677557_data);\n",
       "      });\n",
       "    });\n",
       "}else{\n",
       "    // require.js not available: dynamically load d3 & LDAvis\n",
       "    LDAvis_load_lib(\"https://cdnjs.cloudflare.com/ajax/libs/d3/3.5.5/d3.min.js\", function(){\n",
       "         LDAvis_load_lib(\"https://cdn.rawgit.com/bmabey/pyLDAvis/files/ldavis.v1.0.0.js\", function(){\n",
       "                 new LDAvis(\"#\" + \"ldavis_el950818495876165281669677557\", ldavis_el950818495876165281669677557_data);\n",
       "            })\n",
       "         });\n",
       "}\n",
       "</script>"
      ],
      "text/plain": [
       "PreparedData(topic_coordinates=              x         y  topics  cluster       Freq\n",
       "topic                                                \n",
       "4     -0.077158 -0.002847       1        1  35.069473\n",
       "13     0.093698 -0.001326       2        1  16.302258\n",
       "2      0.085968  0.051886       3        1  13.715485\n",
       "9     -0.100598  0.006935       4        1  11.876445\n",
       "11     0.111471  0.026464       5        1   6.325341\n",
       "10     0.113661 -0.053757       6        1   4.835517\n",
       "1      0.092951  0.093294       7        1   3.883883\n",
       "7     -0.069619  0.054501       8        1   2.291723\n",
       "8     -0.009160  0.004024       9        1   1.327099\n",
       "14    -0.001506  0.068327      10        1   1.207667\n",
       "5     -0.084431  0.008259      11        1   1.168279\n",
       "12    -0.140676  0.019191      12        1   1.002868\n",
       "0      0.044310 -0.123713      13        1   0.649325\n",
       "3     -0.052363 -0.053531      14        1   0.219636\n",
       "6     -0.006548 -0.097706      15        1   0.124998, topic_info=     Category         Freq        Term        Total  loglift  logprob\n",
       "81    Default   849.000000        emma   849.000000  30.0000  30.0000\n",
       "4184  Default   682.000000      elinor   682.000000  29.0000  29.0000\n",
       "1204  Default   654.000000   elizabeth   654.000000  28.0000  28.0000\n",
       "920   Default   518.000000     harriet   518.000000  27.0000  27.0000\n",
       "374   Default  1432.000000        know  1432.000000  26.0000  26.0000\n",
       "378   Default  1337.000000        like  1337.000000  25.0000  25.0000\n",
       "4187  Default   563.000000    marianne   563.000000  24.0000  24.0000\n",
       "149   Default  1733.000000      little  1733.000000  23.0000  23.0000\n",
       "265   Default  1319.000000        time  1319.000000  22.0000  22.0000\n",
       "423   Default   585.000000         sir   585.000000  21.0000  21.0000\n",
       "139   Default   932.000000        jane   932.000000  20.0000  20.0000\n",
       "3807  Default   422.000000       darcy   422.000000  19.0000  19.0000\n",
       "505   Default   625.000000        lady   625.000000  18.0000  18.0000\n",
       "1371  Default   619.000000        john   619.000000  17.0000  17.0000\n",
       "261   Default  1147.000000     thought  1147.000000  16.0000  16.0000\n",
       "347   Default  1359.000000        good  1359.000000  15.0000  15.0000\n",
       "241   Default   927.000000        soon   927.000000  14.0000  14.0000\n",
       "4706  Default   276.000000    monsieur   276.000000  13.0000  13.0000\n",
       "59    Default  1066.000000         day  1066.000000  12.0000  12.0000\n",
       "260   Default  1314.000000       think  1314.000000  11.0000  11.0000\n",
       "3921  Default   185.000000     wickham   185.000000  10.0000  10.0000\n",
       "232   Default   588.000000      sister   588.000000   9.0000   9.0000\n",
       "29    Default   695.000000        came   695.000000   8.0000   8.0000\n",
       "4663  Default   358.000000   rochester   358.000000   7.0000   7.0000\n",
       "696   Default   779.000000         saw   779.000000   6.0000   6.0000\n",
       "4148  Default   302.000000      edward   302.000000   5.0000   5.0000\n",
       "93    Default   508.000000      father   508.000000   4.0000   4.0000\n",
       "153   Default   945.000000        long   945.000000   3.0000   3.0000\n",
       "127   Default   757.000000       house   757.000000   2.0000   2.0000\n",
       "434   Default   539.000000        tell   539.000000   1.0000   1.0000\n",
       "...       ...          ...         ...          ...      ...      ...\n",
       "3807  Topic15     2.221913       darcy   422.124786   1.4377  -5.0935\n",
       "0     Topic15     1.628365        able   216.173615   1.7961  -5.4043\n",
       "448   Topic15     1.634200      wanted   236.276443   1.7108  -5.4007\n",
       "1506  Topic15     1.096111      length    91.800461   2.2568  -5.8001\n",
       "1977  Topic15     1.090986     receive    91.825470   2.2518  -5.8048\n",
       "3874  Topic15     1.088828    gardiner    92.499710   2.2425  -5.8068\n",
       "33    Topic15     1.647552   character   292.103149   1.5068  -5.3926\n",
       "29    Topic15     2.190579        came   695.709412   0.9239  -5.1077\n",
       "1031  Topic15     1.633783      called   305.569977   1.4533  -5.4010\n",
       "1121  Topic15     1.089975  acquainted    96.136559   2.2050  -5.8057\n",
       "1638  Topic15     1.094945      forced   117.868553   2.0058  -5.8012\n",
       "93    Topic15     1.653984      father   508.736877   0.9559  -5.3887\n",
       "430   Topic15     1.637522        sure   617.885254   0.7515  -5.3987\n",
       "437   Topic15     1.094767       times   159.618973   1.7024  -5.8013\n",
       "2432  Topic15     1.100089        step   165.338577   1.6720  -5.7965\n",
       "241   Topic15     1.684408        soon   927.490051   0.3736  -5.3704\n",
       "265   Topic15     1.780708        time  1319.930420   0.0763  -5.3148\n",
       "522   Topic15     1.099405         met   191.434525   1.5249  -5.7971\n",
       "322   Topic15     1.135738        days   290.939941   1.1388  -5.7646\n",
       "59    Topic15     1.216410         day  1066.405151  -0.0915  -5.6960\n",
       "243   Topic15     1.163411       speak   445.231445   0.7374  -5.7405\n",
       "450   Topic15     1.157527        went   502.444122   0.6114  -5.7456\n",
       "172   Topic15     1.157317     morning   518.293823   0.5802  -5.7458\n",
       "696   Topic15     1.157069         saw   779.442322   0.1719  -5.7460\n",
       "232   Topic15     1.142430      sister   588.661621   0.4399  -5.7587\n",
       "109   Topic15     1.148000       great   829.027222   0.1024  -5.7538\n",
       "374   Topic15     1.160002        know  1432.188232  -0.4339  -5.7434\n",
       "127   Topic15     1.145613       house   757.187439   0.1910  -5.7559\n",
       "505   Topic15     1.137497        lady   625.772644   0.3745  -5.7630\n",
       "261   Topic15     1.142347     thought  1147.791748  -0.2279  -5.7588\n",
       "\n",
       "[1037 rows x 6 columns], token_table=      Topic      Freq        Term\n",
       "term                             \n",
       "730       3  0.799295       abbey\n",
       "730       7  0.159859       abbey\n",
       "3984      1  0.158090  abhorrence\n",
       "3984      2  0.711406  abhorrence\n",
       "3984      6  0.079045  abhorrence\n",
       "2747      2  0.772633   abilities\n",
       "2747      4  0.051509   abilities\n",
       "2747      5  0.051509   abilities\n",
       "2747      7  0.103018   abilities\n",
       "0         1  0.115648        able\n",
       "0         2  0.254425        able\n",
       "0         3  0.282181        able\n",
       "0         4  0.046259        able\n",
       "0         5  0.101770        able\n",
       "0         6  0.101770        able\n",
       "0         7  0.041633        able\n",
       "0         8  0.013878        able\n",
       "0         9  0.023130        able\n",
       "0        10  0.004626        able\n",
       "0        11  0.004626        able\n",
       "0        15  0.009252        able\n",
       "1181      1  0.381301      abrupt\n",
       "1181      3  0.095325      abrupt\n",
       "1181      4  0.142988      abrupt\n",
       "1181      7  0.047663      abrupt\n",
       "1181      8  0.238313      abrupt\n",
       "1181      9  0.047663      abrupt\n",
       "1181     14  0.047663      abrupt\n",
       "3584      1  0.517876     accents\n",
       "3584      2  0.115083     accents\n",
       "...     ...       ...         ...\n",
       "1180     10  0.016740         yes\n",
       "1180     11  0.018414         yes\n",
       "1180     12  0.015066         yes\n",
       "1180     13  0.005022         yes\n",
       "1180     14  0.003348         yes\n",
       "572       1  0.255910       young\n",
       "572       2  0.233462       young\n",
       "572       3  0.203531       young\n",
       "572       4  0.064352       young\n",
       "572       5  0.064352       young\n",
       "572       6  0.065848       young\n",
       "572       7  0.071834       young\n",
       "572       8  0.010476       young\n",
       "572       9  0.005986       young\n",
       "572      10  0.002993       young\n",
       "572      11  0.004490       young\n",
       "572      12  0.005986       young\n",
       "572      13  0.008979       young\n",
       "572      15  0.001497       young\n",
       "2594      1  0.035821     younger\n",
       "2594      2  0.197015     younger\n",
       "2594      3  0.017910     younger\n",
       "2594      4  0.250747     younger\n",
       "2594      5  0.053731     younger\n",
       "2594      6  0.286568     younger\n",
       "2594      7  0.017910     younger\n",
       "2594      8  0.017910     younger\n",
       "2594     10  0.035821     younger\n",
       "2594     13  0.107463     younger\n",
       "4874      1  0.974394     zoraide\n",
       "\n",
       "[4531 rows x 3 columns], R=30, lambda_step=0.01, plot_opts={'xlab': 'PC1', 'ylab': 'PC2'}, topic_order=[5, 14, 3, 10, 12, 11, 2, 8, 9, 15, 6, 13, 1, 4, 7])"
      ]
     },
     "execution_count": 72,
     "metadata": {},
     "output_type": "execute_result"
    }
   ],
   "source": [
    "pyLDAvis.gensim.prepare(lda, corpus, id2word)"
   ]
  },
  {
   "cell_type": "markdown",
   "metadata": {},
   "source": [
    "### Overall Model / Documents"
   ]
  },
  {
   "cell_type": "code",
   "execution_count": 73,
   "metadata": {},
   "outputs": [
    {
     "data": {
      "text/plain": [
       "[(2, 0.7180853), (13, 0.27344456)]"
      ]
     },
     "execution_count": 73,
     "metadata": {},
     "output_type": "execute_result"
    }
   ],
   "source": [
    "lda[corpus[0]]"
   ]
  },
  {
   "cell_type": "code",
   "execution_count": 74,
   "metadata": {},
   "outputs": [],
   "source": [
    "distro = [lda[d] for d in corpus]"
   ]
  },
  {
   "cell_type": "code",
   "execution_count": 75,
   "metadata": {},
   "outputs": [
    {
     "data": {
      "text/plain": [
       "[(2, 0.7184448), (13, 0.27373424)]"
      ]
     },
     "execution_count": 75,
     "metadata": {},
     "output_type": "execute_result"
    }
   ],
   "source": [
    "distro[0]"
   ]
  },
  {
   "cell_type": "code",
   "execution_count": 76,
   "metadata": {},
   "outputs": [],
   "source": [
    "distro = [lda[d] for d in corpus]\n",
    "\n",
    "def update(doc):\n",
    "        d_dist = {k:0 for k in range(0,15)}\n",
    "        for t in doc:\n",
    "            d_dist[t[0]] = t[1]\n",
    "        return d_dist\n",
    "    \n",
    "new_distro = [update(d) for d in distro]"
   ]
  },
  {
   "cell_type": "code",
   "execution_count": 77,
   "metadata": {},
   "outputs": [],
   "source": [
    "df = pd.DataFrame.from_records(new_distro, index=titles)\n",
    "df.columns = topics\n",
    "df['author'] = df.reset_index()['index'].apply(lambda x: x.split('_')[0]).tolist()"
   ]
  },
  {
   "cell_type": "code",
   "execution_count": 81,
   "metadata": {},
   "outputs": [
    {
     "data": {
      "text/html": [
       "<div>\n",
       "<style scoped>\n",
       "    .dataframe tbody tr th:only-of-type {\n",
       "        vertical-align: middle;\n",
       "    }\n",
       "\n",
       "    .dataframe tbody tr th {\n",
       "        vertical-align: top;\n",
       "    }\n",
       "\n",
       "    .dataframe thead th {\n",
       "        text-align: right;\n",
       "    }\n",
       "</style>\n",
       "<table border=\"1\" class=\"dataframe\">\n",
       "  <thead>\n",
       "    <tr style=\"text-align: right;\">\n",
       "      <th></th>\n",
       "      <th>Austen_Emma0000</th>\n",
       "      <th>Austen_Emma0001</th>\n",
       "      <th>Austen_Emma0002</th>\n",
       "      <th>Austen_Emma0003</th>\n",
       "      <th>Austen_Emma0004</th>\n",
       "    </tr>\n",
       "  </thead>\n",
       "  <tbody>\n",
       "    <tr>\n",
       "      <th>lady collins catherine elizabeth sir</th>\n",
       "      <td>0</td>\n",
       "      <td>0</td>\n",
       "      <td>0</td>\n",
       "      <td>0</td>\n",
       "      <td>0</td>\n",
       "    </tr>\n",
       "    <tr>\n",
       "      <th>harriet emma elton good man</th>\n",
       "      <td>0</td>\n",
       "      <td>0</td>\n",
       "      <td>0</td>\n",
       "      <td>0</td>\n",
       "      <td>0</td>\n",
       "    </tr>\n",
       "    <tr>\n",
       "      <th>emma weston thing jane knightley</th>\n",
       "      <td>0.718895</td>\n",
       "      <td>0.991422</td>\n",
       "      <td>0.979414</td>\n",
       "      <td>0.564227</td>\n",
       "      <td>0.997689</td>\n",
       "    </tr>\n",
       "    <tr>\n",
       "      <th>thousand sisters justice burns marry</th>\n",
       "      <td>0</td>\n",
       "      <td>0</td>\n",
       "      <td>0</td>\n",
       "      <td>0</td>\n",
       "      <td>0</td>\n",
       "    </tr>\n",
       "    <tr>\n",
       "      <th>little like thought know good</th>\n",
       "      <td>0</td>\n",
       "      <td>0</td>\n",
       "      <td>0</td>\n",
       "      <td>0</td>\n",
       "      <td>0</td>\n",
       "    </tr>\n",
       "    <tr>\n",
       "      <th>know rochester time school john</th>\n",
       "      <td>0</td>\n",
       "      <td>0</td>\n",
       "      <td>0</td>\n",
       "      <td>0</td>\n",
       "      <td>0</td>\n",
       "    </tr>\n",
       "    <tr>\n",
       "      <th>wickham uncle darcy came lydia</th>\n",
       "      <td>0</td>\n",
       "      <td>0</td>\n",
       "      <td>0</td>\n",
       "      <td>0</td>\n",
       "      <td>0</td>\n",
       "    </tr>\n",
       "    <tr>\n",
       "      <th>sir jane like rochester little</th>\n",
       "      <td>0</td>\n",
       "      <td>0</td>\n",
       "      <td>0</td>\n",
       "      <td>0</td>\n",
       "      <td>0</td>\n",
       "    </tr>\n",
       "    <tr>\n",
       "      <th>st john diana felt hannah</th>\n",
       "      <td>0</td>\n",
       "      <td>0</td>\n",
       "      <td>0</td>\n",
       "      <td>0</td>\n",
       "      <td>0</td>\n",
       "    </tr>\n",
       "    <tr>\n",
       "      <th>room rochester like little jane</th>\n",
       "      <td>0</td>\n",
       "      <td>0</td>\n",
       "      <td>0</td>\n",
       "      <td>0</td>\n",
       "      <td>0</td>\n",
       "    </tr>\n",
       "    <tr>\n",
       "      <th>elizabeth bingley bennet darcy collins</th>\n",
       "      <td>0</td>\n",
       "      <td>0</td>\n",
       "      <td>0</td>\n",
       "      <td>0</td>\n",
       "      <td>0</td>\n",
       "    </tr>\n",
       "    <tr>\n",
       "      <th>elinor marianne jennings sister willoughby</th>\n",
       "      <td>0</td>\n",
       "      <td>0</td>\n",
       "      <td>0</td>\n",
       "      <td>0</td>\n",
       "      <td>0</td>\n",
       "    </tr>\n",
       "    <tr>\n",
       "      <th>mdlle monsieur henri english mademoiselle</th>\n",
       "      <td>0</td>\n",
       "      <td>0</td>\n",
       "      <td>0</td>\n",
       "      <td>0</td>\n",
       "      <td>0</td>\n",
       "    </tr>\n",
       "    <tr>\n",
       "      <th>know think elizabeth good sister</th>\n",
       "      <td>0.274067</td>\n",
       "      <td>0</td>\n",
       "      <td>0.0181904</td>\n",
       "      <td>0.433435</td>\n",
       "      <td>0</td>\n",
       "    </tr>\n",
       "    <tr>\n",
       "      <th>edward sir elinor marianne mason</th>\n",
       "      <td>0</td>\n",
       "      <td>0</td>\n",
       "      <td>0</td>\n",
       "      <td>0</td>\n",
       "      <td>0</td>\n",
       "    </tr>\n",
       "    <tr>\n",
       "      <th>author</th>\n",
       "      <td>Austen</td>\n",
       "      <td>Austen</td>\n",
       "      <td>Austen</td>\n",
       "      <td>Austen</td>\n",
       "      <td>Austen</td>\n",
       "    </tr>\n",
       "  </tbody>\n",
       "</table>\n",
       "</div>"
      ],
      "text/plain": [
       "                                           Austen_Emma0000 Austen_Emma0001  \\\n",
       "lady collins catherine elizabeth sir                     0               0   \n",
       "harriet emma elton good man                              0               0   \n",
       "emma weston thing jane knightley                  0.718895        0.991422   \n",
       "thousand sisters justice burns marry                     0               0   \n",
       "little like thought know good                            0               0   \n",
       "know rochester time school john                          0               0   \n",
       "wickham uncle darcy came lydia                           0               0   \n",
       "sir jane like rochester little                           0               0   \n",
       "st john diana felt hannah                                0               0   \n",
       "room rochester like little jane                          0               0   \n",
       "elizabeth bingley bennet darcy collins                   0               0   \n",
       "elinor marianne jennings sister willoughby               0               0   \n",
       "mdlle monsieur henri english mademoiselle                0               0   \n",
       "know think elizabeth good sister                  0.274067               0   \n",
       "edward sir elinor marianne mason                         0               0   \n",
       "author                                              Austen          Austen   \n",
       "\n",
       "                                           Austen_Emma0002 Austen_Emma0003  \\\n",
       "lady collins catherine elizabeth sir                     0               0   \n",
       "harriet emma elton good man                              0               0   \n",
       "emma weston thing jane knightley                  0.979414        0.564227   \n",
       "thousand sisters justice burns marry                     0               0   \n",
       "little like thought know good                            0               0   \n",
       "know rochester time school john                          0               0   \n",
       "wickham uncle darcy came lydia                           0               0   \n",
       "sir jane like rochester little                           0               0   \n",
       "st john diana felt hannah                                0               0   \n",
       "room rochester like little jane                          0               0   \n",
       "elizabeth bingley bennet darcy collins                   0               0   \n",
       "elinor marianne jennings sister willoughby               0               0   \n",
       "mdlle monsieur henri english mademoiselle                0               0   \n",
       "know think elizabeth good sister                 0.0181904        0.433435   \n",
       "edward sir elinor marianne mason                         0               0   \n",
       "author                                              Austen          Austen   \n",
       "\n",
       "                                           Austen_Emma0004  \n",
       "lady collins catherine elizabeth sir                     0  \n",
       "harriet emma elton good man                              0  \n",
       "emma weston thing jane knightley                  0.997689  \n",
       "thousand sisters justice burns marry                     0  \n",
       "little like thought know good                            0  \n",
       "know rochester time school john                          0  \n",
       "wickham uncle darcy came lydia                           0  \n",
       "sir jane like rochester little                           0  \n",
       "st john diana felt hannah                                0  \n",
       "room rochester like little jane                          0  \n",
       "elizabeth bingley bennet darcy collins                   0  \n",
       "elinor marianne jennings sister willoughby               0  \n",
       "mdlle monsieur henri english mademoiselle                0  \n",
       "know think elizabeth good sister                         0  \n",
       "edward sir elinor marianne mason                         0  \n",
       "author                                              Austen  "
      ]
     },
     "execution_count": 81,
     "metadata": {},
     "output_type": "execute_result"
    }
   ],
   "source": [
    "df.head().T"
   ]
  },
  {
   "cell_type": "code",
   "execution_count": 80,
   "metadata": {},
   "outputs": [
    {
     "data": {
      "text/html": [
       "<div>\n",
       "<style scoped>\n",
       "    .dataframe tbody tr th:only-of-type {\n",
       "        vertical-align: middle;\n",
       "    }\n",
       "\n",
       "    .dataframe tbody tr th {\n",
       "        vertical-align: top;\n",
       "    }\n",
       "\n",
       "    .dataframe thead th {\n",
       "        text-align: right;\n",
       "    }\n",
       "</style>\n",
       "<table border=\"1\" class=\"dataframe\">\n",
       "  <thead>\n",
       "    <tr style=\"text-align: right;\">\n",
       "      <th>author</th>\n",
       "      <th>Austen</th>\n",
       "      <th>CBronte</th>\n",
       "    </tr>\n",
       "  </thead>\n",
       "  <tbody>\n",
       "    <tr>\n",
       "      <th>lady collins catherine elizabeth sir</th>\n",
       "      <td>0.010347</td>\n",
       "      <td>0.002799</td>\n",
       "    </tr>\n",
       "    <tr>\n",
       "      <th>harriet emma elton good man</th>\n",
       "      <td>0.083192</td>\n",
       "      <td>0.000859</td>\n",
       "    </tr>\n",
       "    <tr>\n",
       "      <th>emma weston thing jane knightley</th>\n",
       "      <td>0.289165</td>\n",
       "      <td>0.004567</td>\n",
       "    </tr>\n",
       "    <tr>\n",
       "      <th>thousand sisters justice burns marry</th>\n",
       "      <td>0.000050</td>\n",
       "      <td>0.004178</td>\n",
       "    </tr>\n",
       "    <tr>\n",
       "      <th>little like thought know good</th>\n",
       "      <td>0.007407</td>\n",
       "      <td>0.619619</td>\n",
       "    </tr>\n",
       "    <tr>\n",
       "      <th>know rochester time school john</th>\n",
       "      <td>0.000000</td>\n",
       "      <td>0.022861</td>\n",
       "    </tr>\n",
       "    <tr>\n",
       "      <th>wickham uncle darcy came lydia</th>\n",
       "      <td>0.002680</td>\n",
       "      <td>0.000000</td>\n",
       "    </tr>\n",
       "    <tr>\n",
       "      <th>sir jane like rochester little</th>\n",
       "      <td>0.000000</td>\n",
       "      <td>0.045805</td>\n",
       "    </tr>\n",
       "    <tr>\n",
       "      <th>st john diana felt hannah</th>\n",
       "      <td>0.012202</td>\n",
       "      <td>0.015029</td>\n",
       "    </tr>\n",
       "    <tr>\n",
       "      <th>room rochester like little jane</th>\n",
       "      <td>0.007939</td>\n",
       "      <td>0.218273</td>\n",
       "    </tr>\n",
       "    <tr>\n",
       "      <th>elizabeth bingley bennet darcy collins</th>\n",
       "      <td>0.109276</td>\n",
       "      <td>0.000630</td>\n",
       "    </tr>\n",
       "    <tr>\n",
       "      <th>elinor marianne jennings sister willoughby</th>\n",
       "      <td>0.132567</td>\n",
       "      <td>0.000765</td>\n",
       "    </tr>\n",
       "    <tr>\n",
       "      <th>mdlle monsieur henri english mademoiselle</th>\n",
       "      <td>0.000050</td>\n",
       "      <td>0.018516</td>\n",
       "    </tr>\n",
       "    <tr>\n",
       "      <th>know think elizabeth good sister</th>\n",
       "      <td>0.331664</td>\n",
       "      <td>0.029422</td>\n",
       "    </tr>\n",
       "    <tr>\n",
       "      <th>edward sir elinor marianne mason</th>\n",
       "      <td>0.010701</td>\n",
       "      <td>0.013725</td>\n",
       "    </tr>\n",
       "  </tbody>\n",
       "</table>\n",
       "</div>"
      ],
      "text/plain": [
       "author                                        Austen   CBronte\n",
       "lady collins catherine elizabeth sir        0.010347  0.002799\n",
       "harriet emma elton good man                 0.083192  0.000859\n",
       "emma weston thing jane knightley            0.289165  0.004567\n",
       "thousand sisters justice burns marry        0.000050  0.004178\n",
       "little like thought know good               0.007407  0.619619\n",
       "know rochester time school john             0.000000  0.022861\n",
       "wickham uncle darcy came lydia              0.002680  0.000000\n",
       "sir jane like rochester little              0.000000  0.045805\n",
       "st john diana felt hannah                   0.012202  0.015029\n",
       "room rochester like little jane             0.007939  0.218273\n",
       "elizabeth bingley bennet darcy collins      0.109276  0.000630\n",
       "elinor marianne jennings sister willoughby  0.132567  0.000765\n",
       "mdlle monsieur henri english mademoiselle   0.000050  0.018516\n",
       "know think elizabeth good sister            0.331664  0.029422\n",
       "edward sir elinor marianne mason            0.010701  0.013725"
      ]
     },
     "execution_count": 80,
     "metadata": {},
     "output_type": "execute_result"
    }
   ],
   "source": [
    "df.groupby('author').mean().T"
   ]
  },
  {
   "cell_type": "markdown",
   "metadata": {},
   "source": [
    "## Challenge\n",
    "### *Can we see if one of the authors focuses more on men than women?*\n",
    "\n",
    "*  Use Spacy for text prepocessing\n",
    "*  Extract the Named Entities from the documents using Spacy (command is fairly straight forward)\n",
    "*  Create unique list of names from the authors (you'll find that there are different types of named entities not all people)\n",
    "*  Label the names with genders (can you this by hand or you use the US census name lists)\n",
    "*  Customize your processing to replace the proper name with your gender from the previous step's lookup table\n",
    "*  Then follow the rest of the LDA flow\n"
   ]
  },
  {
   "cell_type": "markdown",
   "metadata": {},
   "source": [
    "# Selecting the Number of Topics (Learn)\n",
    "<a id=\"#p4\"></a>"
   ]
  },
  {
   "cell_type": "markdown",
   "metadata": {},
   "source": [
    "## Overview"
   ]
  },
  {
   "cell_type": "markdown",
   "metadata": {},
   "source": [
    "## Follow Along"
   ]
  },
  {
   "cell_type": "code",
   "execution_count": 82,
   "metadata": {},
   "outputs": [],
   "source": [
    "from gensim.models.coherencemodel import CoherenceModel\n",
    "\n",
    "def compute_coherence_values(dictionary, corpus, path, limit, start=2, step=3, passes=5):\n",
    "    \"\"\"\n",
    "    Compute c_v coherence for various number of topics\n",
    "\n",
    "    Parameters:\n",
    "    ----------\n",
    "    dictionary : Gensim dictionary\n",
    "    corpus : Gensim corpus\n",
    "    path : path to input texts\n",
    "    limit : Max num of topics\n",
    "    passes: the number of times the entire lda model & coherence values are calculated\n",
    "\n",
    "    Returns:\n",
    "    -------\n",
    "    coherence_values : Coherence values corresponding to the LDA model with respective number of topics\n",
    "    \"\"\"\n",
    "    \n",
    "    coherence_values = []\n",
    "    \n",
    "    tokens = list(doc_stream(path))\n",
    "    \n",
    "    for iter_ in range(passes):\n",
    "        for num_topics in range(start, limit, step):\n",
    "            stream = doc_stream(path)\n",
    "            model = LdaMulticore(corpus=corpus, num_topics=num_topics, id2word=dictionary, workers=4)\n",
    "            coherencemodel = CoherenceModel(model=model,dictionary=dictionary,corpus=corpus, coherence='u_mass')\n",
    "            coherence_values.append({'pass': iter_, \n",
    "                                     'num_topics': num_topics, \n",
    "                                     'coherence_score': coherencemodel.get_coherence()\n",
    "                                    })\n",
    "\n",
    "    return coherence_values"
   ]
  },
  {
   "cell_type": "code",
   "execution_count": 84,
   "metadata": {},
   "outputs": [],
   "source": [
    "# Can take a long time to run.\n",
    "coherence_values = compute_coherence_values(dictionary=id2word, \n",
    "                                                        corpus=corpus, \n",
    "                                                        path=path, \n",
    "                                                        start=2, \n",
    "                                                        limit=40, \n",
    "                                                        step=10,\n",
    "                                                        passes=1)"
   ]
  },
  {
   "cell_type": "code",
   "execution_count": 85,
   "metadata": {},
   "outputs": [],
   "source": [
    "topic_coherence = pd.DataFrame.from_records(coherence_values)"
   ]
  },
  {
   "cell_type": "code",
   "execution_count": null,
   "metadata": {},
   "outputs": [],
   "source": []
  },
  {
   "cell_type": "code",
   "execution_count": 86,
   "metadata": {},
   "outputs": [
    {
     "data": {
      "text/html": [
       "<div>\n",
       "<style scoped>\n",
       "    .dataframe tbody tr th:only-of-type {\n",
       "        vertical-align: middle;\n",
       "    }\n",
       "\n",
       "    .dataframe tbody tr th {\n",
       "        vertical-align: top;\n",
       "    }\n",
       "\n",
       "    .dataframe thead th {\n",
       "        text-align: right;\n",
       "    }\n",
       "</style>\n",
       "<table border=\"1\" class=\"dataframe\">\n",
       "  <thead>\n",
       "    <tr style=\"text-align: right;\">\n",
       "      <th></th>\n",
       "      <th>coherence_score</th>\n",
       "      <th>num_topics</th>\n",
       "      <th>pass</th>\n",
       "    </tr>\n",
       "  </thead>\n",
       "  <tbody>\n",
       "    <tr>\n",
       "      <th>0</th>\n",
       "      <td>-0.675310</td>\n",
       "      <td>2</td>\n",
       "      <td>0</td>\n",
       "    </tr>\n",
       "    <tr>\n",
       "      <th>1</th>\n",
       "      <td>-0.697647</td>\n",
       "      <td>12</td>\n",
       "      <td>0</td>\n",
       "    </tr>\n",
       "    <tr>\n",
       "      <th>2</th>\n",
       "      <td>-0.768982</td>\n",
       "      <td>22</td>\n",
       "      <td>0</td>\n",
       "    </tr>\n",
       "    <tr>\n",
       "      <th>3</th>\n",
       "      <td>-0.880607</td>\n",
       "      <td>32</td>\n",
       "      <td>0</td>\n",
       "    </tr>\n",
       "  </tbody>\n",
       "</table>\n",
       "</div>"
      ],
      "text/plain": [
       "   coherence_score  num_topics  pass\n",
       "0        -0.675310           2     0\n",
       "1        -0.697647          12     0\n",
       "2        -0.768982          22     0\n",
       "3        -0.880607          32     0"
      ]
     },
     "execution_count": 86,
     "metadata": {},
     "output_type": "execute_result"
    }
   ],
   "source": [
    "topic_coherence.head()"
   ]
  },
  {
   "cell_type": "code",
   "execution_count": 87,
   "metadata": {},
   "outputs": [],
   "source": [
    "import seaborn as sns\n",
    "\n",
    "ax = sns.lineplot(x=\"num_topics\", y=\"coherence_score\", data=topic_coherence)"
   ]
  },
  {
   "cell_type": "code",
   "execution_count": 101,
   "metadata": {},
   "outputs": [
    {
     "name": "stdout",
     "output_type": "stream",
     "text": [
      "Num Topics = 2  has Coherence Value of -0.6753\n",
      "Num Topics = 12  has Coherence Value of -0.6976\n",
      "Num Topics = 22  has Coherence Value of -0.769\n",
      "Num Topics = 32  has Coherence Value of -0.8806\n"
     ]
    }
   ],
   "source": [
    "# Print the coherence scores\n",
    "for m, cv in zip(topic_coherence['num_topics'], topic_coherence['coherence_score']):\n",
    "    print(\"Num Topics =\", m, \" has Coherence Value of\", round(cv, 4))"
   ]
  },
  {
   "cell_type": "code",
   "execution_count": 89,
   "metadata": {},
   "outputs": [
    {
     "data": {
      "text/plain": [
       "[(0, 0.02225876),\n",
       " (1, 0.02225863),\n",
       " (2, 0.022258686),\n",
       " (3, 0.02225863),\n",
       " (4, 0.6883784),\n",
       " (5, 0.02225868),\n",
       " (6, 0.02225863),\n",
       " (7, 0.02225869),\n",
       " (8, 0.022258861),\n",
       " (9, 0.02225863),\n",
       " (10, 0.02225863),\n",
       " (11, 0.02225863),\n",
       " (12, 0.02225863),\n",
       " (13, 0.022258695),\n",
       " (14, 0.022258874)]"
      ]
     },
     "execution_count": 89,
     "metadata": {},
     "output_type": "execute_result"
    }
   ],
   "source": [
    "lda[id2word.doc2bow(tokenize(\"This is a sample document to score with a topic distribution.\"))]"
   ]
  },
  {
   "cell_type": "markdown",
   "metadata": {},
   "source": [
    "## Challenge\n",
    "### *Can we see if one of the authors focus more on men than women?*\n",
    "\n",
    "*  Use Spacy for text prepocessing\n",
    "*  Extract the Named Entities from the documents using Spacy (command is fairly straight forward)\n",
    "*  Create unique list of names from the authors (you'll find that there are different types of named entities not all people)\n",
    "*  Label the names with genders (can you this by hand or you use the US census name lists)\n",
    "*  Customize your processing to replace the proper name with your gender from the previous step's lookup table\n",
    "*  Then follow the rest of the LDA flow"
   ]
  },
  {
   "cell_type": "code",
   "execution_count": 90,
   "metadata": {},
   "outputs": [],
   "source": [
    "import spacy\n",
    "\n",
    "nlp = spacy.load('en_core_web_lg')"
   ]
  },
  {
   "cell_type": "code",
   "execution_count": 91,
   "metadata": {},
   "outputs": [],
   "source": [
    "test = \"Ned asked me a question about England today.\""
   ]
  },
  {
   "cell_type": "code",
   "execution_count": 92,
   "metadata": {},
   "outputs": [
    {
     "name": "stdout",
     "output_type": "stream",
     "text": [
      "Ned Ned PROPN\n",
      "asked ask VERB\n",
      "me -PRON- PRON\n",
      "a a DET\n",
      "question question NOUN\n",
      "about about ADP\n",
      "England England PROPN\n",
      "today today NOUN\n",
      ". . PUNCT\n"
     ]
    }
   ],
   "source": [
    "doc = nlp(test)\n",
    "\n",
    "for token in doc:\n",
    "    print(token.text, token.lemma_, token.pos_)"
   ]
  },
  {
   "cell_type": "code",
   "execution_count": 93,
   "metadata": {},
   "outputs": [
    {
     "name": "stdout",
     "output_type": "stream",
     "text": [
      "Ned PERSON\n",
      "England GPE\n",
      "today DATE\n"
     ]
    }
   ],
   "source": [
    "for ent in doc.ents:\n",
    "    print(ent.text, ent.label_)"
   ]
  },
  {
   "cell_type": "code",
   "execution_count": 94,
   "metadata": {},
   "outputs": [],
   "source": [
    "def doc_stream(path):\n",
    "    for f in os.listdir(path):\n",
    "        with open(os.path.join(path,f)) as t:\n",
    "            text = t.read().strip('\\n')\n",
    "            yield text\n",
    "\n",
    "def get_people(docstream):\n",
    "    \n",
    "    ppl = []\n",
    "    \n",
    "    for d in docstream:\n",
    "        \n",
    "        doc = nlp(d)\n",
    "        \n",
    "        for ent in doc.ents:\n",
    "            \n",
    "            if ent.label_ == \"PERSON\":\n",
    "                ppl.append(ent.lemma_)\n",
    "                \n",
    "    return set(ppl)"
   ]
  },
  {
   "cell_type": "code",
   "execution_count": 102,
   "metadata": {},
   "outputs": [],
   "source": [
    "people = get_people(doc_stream(path))"
   ]
  },
  {
   "cell_type": "code",
   "execution_count": 103,
   "metadata": {},
   "outputs": [],
   "source": [
    "doc = nlp(next(doc_stream(path)))"
   ]
  },
  {
   "cell_type": "code",
   "execution_count": 104,
   "metadata": {},
   "outputs": [
    {
     "data": {
      "text/plain": [
       "'JANE AUSTEN'"
      ]
     },
     "execution_count": 104,
     "metadata": {},
     "output_type": "execute_result"
    }
   ],
   "source": [
    "doc.ents[0].lemma_"
   ]
  },
  {
   "cell_type": "markdown",
   "metadata": {},
   "source": [
    "# Sources\n",
    "\n",
    "### *References*\n",
    "* [Andrew Ng et al paper on LDA](https://ai.stanford.edu/~ang/papers/jair03-lda.pdf)\n",
    "* On [Coherence](https://pdfs.semanticscholar.org/1521/8d9c029cbb903ae7c729b2c644c24994c201.pdf)\n",
    "\n",
    "### *Resources*\n",
    "\n",
    "* [Gensim](https://radimrehurek.com/gensim/): Python package for topic modeling, nlp, word vectorization, and few other things. Well maintained and well documented.\n",
    "* [Topic Modeling with Gensim](http://www.machinelearningplus.com/nlp/topic-modeling-gensim-python/#11createthedictionaryandcorpusneededfortopicmodeling): A kind of cookbook for LDA with gensim. Excellent overview, but the you need to be aware of missing import statements and assumed prior knowledge.\n",
    "* [Chinese Restuarant Process](https://en.wikipedia.org/wiki/Chinese_restaurant_process): That really obscure stats thing I mentioned... \n",
    "* [PyLDAvis](https://github.com/bmabey/pyLDAvis): Library for visualizing the topic model and performing some exploratory work. Works well. Has a direct parrell implementation in R as well. \n",
    "* [Rare Technologies](https://rare-technologies.com/): The people that made & maintain gensim and a few other libraries.\n",
    "* [Jane Austen v. Charlotte Bronte](https://www.literaryladiesguide.com/literary-musings/jane-austen-charlotte-bronte-different-alike/)"
   ]
  }
 ],
 "metadata": {
  "kernelspec": {
   "display_name": "Python 3",
   "language": "python",
   "name": "python3"
  },
  "language_info": {
   "codemirror_mode": {
    "name": "ipython",
    "version": 3
   },
   "file_extension": ".py",
   "mimetype": "text/x-python",
   "name": "python",
   "nbconvert_exporter": "python",
   "pygments_lexer": "ipython3",
   "version": "3.7.3"
  }
 },
 "nbformat": 4,
 "nbformat_minor": 2
}
