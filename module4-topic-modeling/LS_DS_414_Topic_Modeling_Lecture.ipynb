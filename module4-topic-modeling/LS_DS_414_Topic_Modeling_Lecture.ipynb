{
 "cells": [
  {
   "cell_type": "markdown",
   "metadata": {},
   "source": [
    "Lambda School Data Science\n",
    "\n",
    "*Unit 4, Sprint 1, Module 4*\n",
    "\n",
    "---"
   ]
  },
  {
   "cell_type": "markdown",
   "metadata": {},
   "source": [
    "# Topic Modeling (Prepare)"
   ]
  },
  {
   "cell_type": "markdown",
   "metadata": {},
   "source": [
    "# Latent Dirchilet Allocation (LDA) Models (Prepare)\n",
    "<a id=\"#p1\"></a>"
   ]
  },
  {
   "cell_type": "markdown",
   "metadata": {},
   "source": [
    "## Overview\n",
    "LDA is a \"generative probabilistic model\". \n",
    "\n",
    "Let's play with a modoel available [here](https://lettier.com/projects/lda-topic-modeling/)"
   ]
  },
  {
   "cell_type": "markdown",
   "metadata": {},
   "source": [
    "## Follow Along"
   ]
  },
  {
   "cell_type": "markdown",
   "metadata": {},
   "source": [
    "## Challenge "
   ]
  },
  {
   "cell_type": "markdown",
   "metadata": {},
   "source": [
    "# Estimating LDA Models with Gensim (Learn)\n",
    "<a id=\"#p1\"></a>"
   ]
  },
  {
   "cell_type": "markdown",
   "metadata": {
    "toc-hr-collapsed": true
   },
   "source": [
    "## Overview\n",
    "### A Litterary Introduction: *Jane Austen V. Charlotte Bronte*\n",
    "Despite being born nearly forty years apart, modern fans often pit Jane Austen & Charlotte Bronte against one another in a battle for litterary  supremacy. The battle centers around the topics of education for women, courting, and marriage. The authors' similiar backgrounds naturally draw comparisons, but the modern fascination is probably due to novelility of British women publishing novels during the early 19th century. \n",
    "\n",
    "Can we help close a litterary battle for supremacy and simply acknowledge that the authors addressed different topics and deserve to be acknowledged as excellent authors each in their own right?\n",
    "\n",
    "We're going to apply Latent Dirichlet Allocation a machine learning alogrithm for topic modeling to each of the author's novels to compare the distribution of topics in their novels."
   ]
  },
  {
   "cell_type": "code",
   "execution_count": 1,
   "metadata": {},
   "outputs": [
    {
     "name": "stderr",
     "output_type": "stream",
     "text": [
      "C:\\Users\\PhatDeluxe\\Anaconda3\\envs\\U4-S1-NLP\\lib\\site-packages\\gensim\\utils.py:1197: UserWarning: detected Windows; aliasing chunkize to chunkize_serial\n",
      "  warnings.warn(\"detected Windows; aliasing chunkize to chunkize_serial\")\n"
     ]
    }
   ],
   "source": [
    "import numpy as np\n",
    "import gensim\n",
    "import os\n",
    "import re\n",
    "\n",
    "from gensim.utils import simple_preprocess\n",
    "from gensim.parsing.preprocessing import STOPWORDS\n",
    "from gensim import corpora\n",
    "\n",
    "from gensim.models.ldamulticore import LdaMulticore\n",
    "\n",
    "import pandas as pd"
   ]
  },
  {
   "cell_type": "markdown",
   "metadata": {},
   "source": [
    "### Novel Data\n",
    "I grabbed the novel data pre-split into a bunch of smaller chuncks"
   ]
  },
  {
   "cell_type": "code",
   "execution_count": 2,
   "metadata": {},
   "outputs": [],
   "source": [
    "path = './data/austen-brontë-split'"
   ]
  },
  {
   "cell_type": "code",
   "execution_count": 3,
   "metadata": {},
   "outputs": [],
   "source": [
    "def tokenize(text):\n",
    "    \"complete this function\"\n",
    "        \n",
    "    return [token for token in simple_preprocess(text) if token in STOPWORDS]"
   ]
  },
  {
   "cell_type": "code",
   "execution_count": 4,
   "metadata": {},
   "outputs": [],
   "source": [
    "import os\n",
    "\n",
    "def gather_data(path_to_data): \n",
    "    data = []\n",
    "    \n",
    "    for f in os.listdir(path):\n",
    "        if os.path.isdir(f) == False:\n",
    "            if f[-3:] == 'txt':\n",
    "                with open(os.path.join(path,f)) as t:\n",
    "                    text = t.read().strip('\\n')\n",
    "                    data.append(tokenize(str(text)))\n",
    "            \n",
    "    return data"
   ]
  },
  {
   "cell_type": "code",
   "execution_count": 10,
   "metadata": {},
   "outputs": [],
   "source": [
    "tokens = gather_data(path)"
   ]
  },
  {
   "cell_type": "code",
   "execution_count": 20,
   "metadata": {},
   "outputs": [
    {
     "data": {
      "text/plain": [
       "['by', 'and', 'with', 'and', 'seemed', 'to', 'some', 'of', 'the', 'of']"
      ]
     },
     "execution_count": 20,
     "metadata": {},
     "output_type": "execute_result"
    }
   ],
   "source": [
    "tokens[0][0:10]"
   ]
  },
  {
   "cell_type": "code",
   "execution_count": 18,
   "metadata": {},
   "outputs": [
    {
     "ename": "NameError",
     "evalue": "name 'df' is not defined",
     "output_type": "error",
     "traceback": [
      "\u001b[1;31m---------------------------------------------------------------------------\u001b[0m",
      "\u001b[1;31mNameError\u001b[0m                                 Traceback (most recent call last)",
      "\u001b[1;32m<ipython-input-18-f50318e3d067>\u001b[0m in \u001b[0;36m<module>\u001b[1;34m\u001b[0m\n\u001b[1;32m----> 1\u001b[1;33m \u001b[0mdf\u001b[0m\u001b[1;33m[\u001b[0m\u001b[1;34m'tokens'\u001b[0m\u001b[1;33m]\u001b[0m \u001b[1;33m=\u001b[0m \u001b[0mgather_data\u001b[0m\u001b[1;33m(\u001b[0m\u001b[0mpath\u001b[0m\u001b[1;33m)\u001b[0m\u001b[1;33m\u001b[0m\u001b[0m\n\u001b[0m",
      "\u001b[1;31mNameError\u001b[0m: name 'df' is not defined"
     ]
    }
   ],
   "source": [
    "df['tokens'] = gather_data(path)"
   ]
  },
  {
   "cell_type": "code",
   "execution_count": 14,
   "metadata": {},
   "outputs": [
    {
     "data": {
      "text/plain": [
       "'this is a sample string with a  newline character'"
      ]
     },
     "execution_count": 14,
     "metadata": {},
     "output_type": "execute_result"
    }
   ],
   "source": [
    "\"this is a sample string with a \\n newline character\".replace('\\n', '')"
   ]
  },
  {
   "cell_type": "code",
   "execution_count": 27,
   "metadata": {},
   "outputs": [
    {
     "data": {
      "text/plain": [
       "Austen_Emma0000    [emma, jane, austen, volume, chapter, emma, wo...\n",
       "Austen_Emma0001    [taylor, wish, pity, weston, thought, agree, p...\n",
       "Austen_Emma0002    [behaved, charmingly, body, punctual, body, be...\n",
       "Austen_Emma0003    [native, highbury, born, respectable, family, ...\n",
       "Austen_Emma0004    [mention, handsome, letter, weston, received, ...\n",
       "Name: tokens, dtype: object"
      ]
     },
     "execution_count": 27,
     "metadata": {},
     "output_type": "execute_result"
    }
   ],
   "source": [
    "df['tokens'].head()"
   ]
  },
  {
   "cell_type": "markdown",
   "metadata": {
    "toc-hr-collapsed": true
   },
   "source": [
    "## Follow Along"
   ]
  },
  {
   "cell_type": "markdown",
   "metadata": {},
   "source": [
    "### Text Preprocessing\n",
    "**Challenge**: update the function `tokenize` with any technique you have learned so far this week. "
   ]
  },
  {
   "cell_type": "code",
   "execution_count": 7,
   "metadata": {},
   "outputs": [],
   "source": [
    "titles = [t[:-4] for t in os.listdir(path)]"
   ]
  },
  {
   "cell_type": "code",
   "execution_count": 22,
   "metadata": {},
   "outputs": [
    {
     "data": {
      "text/plain": [
       "['Austen_Emma0000',\n",
       " 'Austen_Emma0001',\n",
       " 'Austen_Emma0002',\n",
       " 'Austen_Emma0003',\n",
       " 'Austen_Emma0004']"
      ]
     },
     "execution_count": 22,
     "metadata": {},
     "output_type": "execute_result"
    }
   ],
   "source": [
    "titles[:5]"
   ]
  },
  {
   "cell_type": "code",
   "execution_count": 9,
   "metadata": {},
   "outputs": [],
   "source": [
    "STOPWORDS = set(STOPWORDS).union(set(['said', 'mr', 'mrs']))\n",
    "\n",
    "def tokenize(text):\n",
    "    return [token for token in simple_preprocess(text) if token not in STOPWORDS]"
   ]
  },
  {
   "cell_type": "code",
   "execution_count": 24,
   "metadata": {},
   "outputs": [
    {
     "data": {
      "text/plain": [
       "['hello', 'world', 'test', 'tokenization', 'method']"
      ]
     },
     "execution_count": 24,
     "metadata": {},
     "output_type": "execute_result"
    }
   ],
   "source": [
    "tokenize(\"Hello World! This a test of the tokenization method\")"
   ]
  },
  {
   "cell_type": "markdown",
   "metadata": {},
   "source": [
    "### Author DataFrame\n"
   ]
  },
  {
   "cell_type": "code",
   "execution_count": 11,
   "metadata": {},
   "outputs": [],
   "source": [
    "df = pd.DataFrame(index=titles, data={'tokens':tokens}) "
   ]
  },
  {
   "cell_type": "code",
   "execution_count": 28,
   "metadata": {},
   "outputs": [
    {
     "data": {
      "text/html": [
       "<div>\n",
       "<style scoped>\n",
       "    .dataframe tbody tr th:only-of-type {\n",
       "        vertical-align: middle;\n",
       "    }\n",
       "\n",
       "    .dataframe tbody tr th {\n",
       "        vertical-align: top;\n",
       "    }\n",
       "\n",
       "    .dataframe thead th {\n",
       "        text-align: right;\n",
       "    }\n",
       "</style>\n",
       "<table border=\"1\" class=\"dataframe\">\n",
       "  <thead>\n",
       "    <tr style=\"text-align: right;\">\n",
       "      <th></th>\n",
       "      <th>tokens</th>\n",
       "    </tr>\n",
       "  </thead>\n",
       "  <tbody>\n",
       "    <tr>\n",
       "      <th>Austen_Emma0000</th>\n",
       "      <td>[emma, jane, austen, volume, chapter, emma, wo...</td>\n",
       "    </tr>\n",
       "    <tr>\n",
       "      <th>Austen_Emma0001</th>\n",
       "      <td>[taylor, wish, pity, weston, thought, agree, p...</td>\n",
       "    </tr>\n",
       "    <tr>\n",
       "      <th>Austen_Emma0002</th>\n",
       "      <td>[behaved, charmingly, body, punctual, body, be...</td>\n",
       "    </tr>\n",
       "    <tr>\n",
       "      <th>Austen_Emma0003</th>\n",
       "      <td>[native, highbury, born, respectable, family, ...</td>\n",
       "    </tr>\n",
       "    <tr>\n",
       "      <th>Austen_Emma0004</th>\n",
       "      <td>[mention, handsome, letter, weston, received, ...</td>\n",
       "    </tr>\n",
       "  </tbody>\n",
       "</table>\n",
       "</div>"
      ],
      "text/plain": [
       "                                                            tokens\n",
       "Austen_Emma0000  [emma, jane, austen, volume, chapter, emma, wo...\n",
       "Austen_Emma0001  [taylor, wish, pity, weston, thought, agree, p...\n",
       "Austen_Emma0002  [behaved, charmingly, body, punctual, body, be...\n",
       "Austen_Emma0003  [native, highbury, born, respectable, family, ...\n",
       "Austen_Emma0004  [mention, handsome, letter, weston, received, ..."
      ]
     },
     "execution_count": 28,
     "metadata": {},
     "output_type": "execute_result"
    }
   ],
   "source": [
    "df.head()"
   ]
  },
  {
   "cell_type": "code",
   "execution_count": 12,
   "metadata": {},
   "outputs": [],
   "source": [
    "df['author'] = df.reset_index()['index'].apply(lambda x: x.split('_')[0]).tolist()\n",
    "df['book'] = df.reset_index()['index'].apply(lambda x: x.split('_')[1][:-4]).tolist()\n",
    "df['section'] = df.reset_index()['index'].apply(lambda x: x[-4:]).tolist()\n",
    "df['section'] = df['section'].astype('int')"
   ]
  },
  {
   "cell_type": "code",
   "execution_count": 13,
   "metadata": {},
   "outputs": [],
   "source": [
    "df['author'] = df['author'].map({'Austen':1, 'CBronte':0})"
   ]
  },
  {
   "cell_type": "code",
   "execution_count": 14,
   "metadata": {},
   "outputs": [
    {
     "data": {
      "text/plain": [
       "0    441\n",
       "1    372\n",
       "Name: author, dtype: int64"
      ]
     },
     "execution_count": 14,
     "metadata": {},
     "output_type": "execute_result"
    }
   ],
   "source": [
    "df.author.value_counts()"
   ]
  },
  {
   "cell_type": "markdown",
   "metadata": {},
   "source": [
    "### Streaming Documents\n",
    "Here we use a new pythonic thingy: the `yield` statement in our fucntion. This allows us to iterate over a bunch of documents without actually reading them into memory. You can see how we use this fucntion later on. "
   ]
  },
  {
   "cell_type": "code",
   "execution_count": 15,
   "metadata": {},
   "outputs": [],
   "source": [
    "def doc_stream(path):\n",
    "    for f in os.listdir(path):\n",
    "        if os.path.isdir(f) == False:\n",
    "            if f[-3:] == 'txt':\n",
    "                with open(os.path.join(path,f)) as t:\n",
    "                    text = t.read().strip('\\n')\n",
    "                    tokens = tokenize(str(text))\n",
    "                yield tokens"
   ]
  },
  {
   "cell_type": "code",
   "execution_count": 2,
   "metadata": {},
   "outputs": [
    {
     "ename": "NameError",
     "evalue": "name 'doc_stream' is not defined",
     "output_type": "error",
     "traceback": [
      "\u001b[1;31m---------------------------------------------------------------------------\u001b[0m",
      "\u001b[1;31mNameError\u001b[0m                                 Traceback (most recent call last)",
      "\u001b[1;32m<ipython-input-2-e092d06f0b3d>\u001b[0m in \u001b[0;36m<module>\u001b[1;34m\u001b[0m\n\u001b[1;32m----> 1\u001b[1;33m \u001b[0mstreaming_data\u001b[0m \u001b[1;33m=\u001b[0m \u001b[0mdoc_stream\u001b[0m\u001b[1;33m(\u001b[0m\u001b[0mpath\u001b[0m\u001b[1;33m)\u001b[0m\u001b[1;33m\u001b[0m\u001b[0m\n\u001b[0m",
      "\u001b[1;31mNameError\u001b[0m: name 'doc_stream' is not defined"
     ]
    }
   ],
   "source": [
    "streaming_data = doc_stream(path)"
   ]
  },
  {
   "cell_type": "code",
   "execution_count": 17,
   "metadata": {},
   "outputs": [],
   "source": [
    "# gather_data => returns a list\n",
    "# doc_stream => returns a generator"
   ]
  },
  {
   "cell_type": "code",
   "execution_count": 1,
   "metadata": {},
   "outputs": [
    {
     "ename": "NameError",
     "evalue": "name 'streaming_data' is not defined",
     "output_type": "error",
     "traceback": [
      "\u001b[1;31m---------------------------------------------------------------------------\u001b[0m",
      "\u001b[1;31mNameError\u001b[0m                                 Traceback (most recent call last)",
      "\u001b[1;32m<ipython-input-1-550965e90769>\u001b[0m in \u001b[0;36m<module>\u001b[1;34m\u001b[0m\n\u001b[1;32m----> 1\u001b[1;33m \u001b[0mnext\u001b[0m\u001b[1;33m(\u001b[0m\u001b[0mstreaming_data\u001b[0m\u001b[1;33m)\u001b[0m \u001b[1;31m# Returns one documnet at a time from the generator\u001b[0m\u001b[1;33m\u001b[0m\u001b[0m\n\u001b[0m",
      "\u001b[1;31mNameError\u001b[0m: name 'streaming_data' is not defined"
     ]
    }
   ],
   "source": [
    "next(streaming_data) # Returns one documnet at a time from the generator"
   ]
  },
  {
   "cell_type": "markdown",
   "metadata": {},
   "source": [
    "### Gensim LDA Topic Modeling"
   ]
  },
  {
   "cell_type": "code",
   "execution_count": 19,
   "metadata": {},
   "outputs": [],
   "source": [
    "# A Dictionary Representation of all the words in our corpus\n",
    "id2word = corpora.Dictionary(doc_stream(path))"
   ]
  },
  {
   "cell_type": "code",
   "execution_count": 20,
   "metadata": {},
   "outputs": [
    {
     "data": {
      "text/plain": [
       "3987"
      ]
     },
     "execution_count": 20,
     "metadata": {},
     "output_type": "execute_result"
    }
   ],
   "source": [
    "id2word.token2id['england']"
   ]
  },
  {
   "cell_type": "code",
   "execution_count": 21,
   "metadata": {},
   "outputs": [
    {
     "data": {
      "text/plain": [
       "'drawing'"
      ]
     },
     "execution_count": 21,
     "metadata": {},
     "output_type": "execute_result"
    }
   ],
   "source": [
    "id2word[876]"
   ]
  },
  {
   "cell_type": "code",
   "execution_count": 22,
   "metadata": {},
   "outputs": [
    {
     "data": {
      "text/plain": [
       "[(2754, 1), (3987, 3), (6602, 1), (6819, 1)]"
      ]
     },
     "execution_count": 22,
     "metadata": {},
     "output_type": "execute_result"
    }
   ],
   "source": [
    "id2word.doc2bow(tokenize(\"This is a sample message Darcy England England England\"))"
   ]
  },
  {
   "cell_type": "code",
   "execution_count": 23,
   "metadata": {},
   "outputs": [
    {
     "data": {
      "text/plain": [
       "56"
      ]
     },
     "execution_count": 23,
     "metadata": {},
     "output_type": "execute_result"
    }
   ],
   "source": [
    "import sys\n",
    "sys.getsizeof(id2word)"
   ]
  },
  {
   "cell_type": "code",
   "execution_count": 24,
   "metadata": {},
   "outputs": [
    {
     "data": {
      "text/plain": [
       "22096"
      ]
     },
     "execution_count": 24,
     "metadata": {},
     "output_type": "execute_result"
    }
   ],
   "source": [
    "len(id2word.keys())"
   ]
  },
  {
   "cell_type": "code",
   "execution_count": 25,
   "metadata": {},
   "outputs": [],
   "source": [
    "# Let's remove extreme values from the dataset\n",
    "id2word.filter_extremes(no_below=5, no_above=0.95)"
   ]
  },
  {
   "cell_type": "code",
   "execution_count": 26,
   "metadata": {},
   "outputs": [
    {
     "data": {
      "text/plain": [
       "8103"
      ]
     },
     "execution_count": 26,
     "metadata": {},
     "output_type": "execute_result"
    }
   ],
   "source": [
    "len(id2word.keys())"
   ]
  },
  {
   "cell_type": "code",
   "execution_count": 27,
   "metadata": {},
   "outputs": [],
   "source": [
    "# a bag of words(bow) representation of our corpus\n",
    "# Note: we haven't actually read any text into memory here\n",
    "corpus = [id2word.doc2bow(text) for text in doc_stream(path)]"
   ]
  },
  {
   "cell_type": "code",
   "execution_count": 28,
   "metadata": {},
   "outputs": [
    {
     "data": {
      "text/plain": [
       "[(0, 1),\n",
       " (1, 1),\n",
       " (2, 1),\n",
       " (3, 1),\n",
       " (4, 1),\n",
       " (5, 1),\n",
       " (6, 4),\n",
       " (7, 1),\n",
       " (8, 1),\n",
       " (9, 1)]"
      ]
     },
     "execution_count": 28,
     "metadata": {},
     "output_type": "execute_result"
    }
   ],
   "source": [
    "corpus[0][:10]"
   ]
  },
  {
   "cell_type": "code",
   "execution_count": 29,
   "metadata": {},
   "outputs": [],
   "source": [
    "lda = LdaMulticore(corpus=corpus,\n",
    "                   id2word=id2word,\n",
    "                   random_state=723812,\n",
    "                   num_topics = 15,\n",
    "                   passes=10,\n",
    "                   workers=4\n",
    "                  )"
   ]
  },
  {
   "cell_type": "code",
   "execution_count": 30,
   "metadata": {},
   "outputs": [
    {
     "data": {
      "text/plain": [
       "[(0,\n",
       "  '0.025*\"elinor\" + 0.021*\"marianne\" + 0.010*\"edward\" + 0.009*\"dashwood\" + 0.008*\"jennings\" + 0.008*\"willoughby\" + 0.008*\"sister\" + 0.007*\"mother\" + 0.007*\"lucy\" + 0.006*\"time\"'),\n",
       " (1,\n",
       "  '0.006*\"little\" + 0.005*\"like\" + 0.004*\"thought\" + 0.004*\"monsieur\" + 0.004*\"madame\" + 0.004*\"know\" + 0.004*\"good\" + 0.004*\"hand\" + 0.003*\"day\" + 0.003*\"time\"'),\n",
       " (2,\n",
       "  '0.005*\"like\" + 0.005*\"night\" + 0.004*\"long\" + 0.004*\"thought\" + 0.004*\"door\" + 0.004*\"little\" + 0.004*\"time\" + 0.004*\"day\" + 0.003*\"house\" + 0.003*\"saw\"'),\n",
       " (3,\n",
       "  '0.009*\"sir\" + 0.005*\"like\" + 0.005*\"jane\" + 0.005*\"know\" + 0.005*\"thought\" + 0.004*\"good\" + 0.004*\"heart\" + 0.004*\"man\" + 0.004*\"life\" + 0.003*\"right\"'),\n",
       " (4,\n",
       "  '0.009*\"miss\" + 0.008*\"little\" + 0.005*\"like\" + 0.005*\"papa\" + 0.004*\"new\" + 0.004*\"thought\" + 0.004*\"day\" + 0.004*\"came\" + 0.004*\"come\" + 0.004*\"think\"'),\n",
       " (5,\n",
       "  '0.008*\"room\" + 0.006*\"dancing\" + 0.006*\"thought\" + 0.005*\"way\" + 0.005*\"dance\" + 0.005*\"like\" + 0.004*\"day\" + 0.004*\"door\" + 0.004*\"time\" + 0.003*\"little\"'),\n",
       " (6,\n",
       "  '0.005*\"jane\" + 0.004*\"heart\" + 0.004*\"old\" + 0.004*\"eye\" + 0.004*\"monsieur\" + 0.004*\"live\" + 0.004*\"lane\" + 0.003*\"like\" + 0.003*\"man\" + 0.003*\"look\"'),\n",
       " (7,\n",
       "  '0.011*\"graham\" + 0.009*\"little\" + 0.007*\"papa\" + 0.006*\"like\" + 0.005*\"bretton\" + 0.005*\"know\" + 0.005*\"door\" + 0.004*\"think\" + 0.004*\"hand\" + 0.004*\"come\"'),\n",
       " (8,\n",
       "  '0.007*\"home\" + 0.005*\"soon\" + 0.005*\"sir\" + 0.005*\"hannah\" + 0.004*\"rochester\" + 0.004*\"like\" + 0.004*\"better\" + 0.004*\"diana\" + 0.004*\"saw\" + 0.003*\"john\"'),\n",
       " (9,\n",
       "  '0.007*\"like\" + 0.007*\"little\" + 0.006*\"rochester\" + 0.006*\"sir\" + 0.005*\"jane\" + 0.004*\"think\" + 0.004*\"good\" + 0.004*\"thought\" + 0.004*\"miss\" + 0.004*\"room\"'),\n",
       " (10,\n",
       "  '0.023*\"emma\" + 0.015*\"harriet\" + 0.014*\"miss\" + 0.012*\"elton\" + 0.010*\"knightley\" + 0.009*\"thing\" + 0.008*\"woodhouse\" + 0.008*\"weston\" + 0.007*\"think\" + 0.007*\"jane\"'),\n",
       " (11,\n",
       "  '0.008*\"elizabeth\" + 0.007*\"miss\" + 0.007*\"know\" + 0.006*\"think\" + 0.005*\"good\" + 0.005*\"little\" + 0.005*\"time\" + 0.005*\"darcy\" + 0.005*\"soon\" + 0.005*\"jane\"'),\n",
       " (12,\n",
       "  '0.009*\"madame\" + 0.006*\"child\" + 0.006*\"good\" + 0.005*\"little\" + 0.004*\"day\" + 0.004*\"reed\" + 0.004*\"dr\" + 0.004*\"brocklehurst\" + 0.004*\"eye\" + 0.004*\"room\"'),\n",
       " (13,\n",
       "  '0.007*\"church\" + 0.005*\"little\" + 0.004*\"time\" + 0.004*\"rome\" + 0.004*\"strange\" + 0.003*\"half\" + 0.003*\"heart\" + 0.003*\"god\" + 0.003*\"great\" + 0.003*\"forward\"'),\n",
       " (14,\n",
       "  '0.020*\"bessie\" + 0.010*\"reed\" + 0.008*\"abbot\" + 0.007*\"miss\" + 0.007*\"like\" + 0.005*\"room\" + 0.005*\"long\" + 0.004*\"thought\" + 0.004*\"school\" + 0.004*\"nursery\"')]"
      ]
     },
     "execution_count": 30,
     "metadata": {},
     "output_type": "execute_result"
    }
   ],
   "source": [
    "lda.print_topics()"
   ]
  },
  {
   "cell_type": "code",
   "execution_count": 31,
   "metadata": {},
   "outputs": [],
   "source": [
    "words = [re.findall(r'\"([^\"]*)\"',t[1]) for t in lda.print_topics()]"
   ]
  },
  {
   "cell_type": "code",
   "execution_count": 32,
   "metadata": {},
   "outputs": [],
   "source": [
    "topics = [' '.join(t[0:5]) for t in words]"
   ]
  },
  {
   "cell_type": "code",
   "execution_count": 33,
   "metadata": {},
   "outputs": [
    {
     "name": "stdout",
     "output_type": "stream",
     "text": [
      "------ Topic 0 ------\n",
      "elinor marianne edward dashwood jennings\n",
      "\n",
      "\n",
      "------ Topic 1 ------\n",
      "little like thought monsieur madame\n",
      "\n",
      "\n",
      "------ Topic 2 ------\n",
      "like night long thought door\n",
      "\n",
      "\n",
      "------ Topic 3 ------\n",
      "sir like jane know thought\n",
      "\n",
      "\n",
      "------ Topic 4 ------\n",
      "miss little like papa new\n",
      "\n",
      "\n",
      "------ Topic 5 ------\n",
      "room dancing thought way dance\n",
      "\n",
      "\n",
      "------ Topic 6 ------\n",
      "jane heart old eye monsieur\n",
      "\n",
      "\n",
      "------ Topic 7 ------\n",
      "graham little papa like bretton\n",
      "\n",
      "\n",
      "------ Topic 8 ------\n",
      "home soon sir hannah rochester\n",
      "\n",
      "\n",
      "------ Topic 9 ------\n",
      "like little rochester sir jane\n",
      "\n",
      "\n",
      "------ Topic 10 ------\n",
      "emma harriet miss elton knightley\n",
      "\n",
      "\n",
      "------ Topic 11 ------\n",
      "elizabeth miss know think good\n",
      "\n",
      "\n",
      "------ Topic 12 ------\n",
      "madame child good little day\n",
      "\n",
      "\n",
      "------ Topic 13 ------\n",
      "church little time rome strange\n",
      "\n",
      "\n",
      "------ Topic 14 ------\n",
      "bessie reed abbot miss like\n",
      "\n",
      "\n"
     ]
    }
   ],
   "source": [
    "for id, t in enumerate(topics): \n",
    "    print(f\"------ Topic {id} ------\")\n",
    "    print(t)\n",
    "    print(\"\\n\")"
   ]
  },
  {
   "cell_type": "markdown",
   "metadata": {},
   "source": [
    "## Challenge \n",
    "\n",
    "You will apply an LDA model to a customer review dataset to practice the fitting and estimation of LDA. "
   ]
  },
  {
   "cell_type": "markdown",
   "metadata": {},
   "source": [
    "# Interpret LDA Results (Learn)\n",
    "<a id=\"#p3\"></a>"
   ]
  },
  {
   "cell_type": "markdown",
   "metadata": {},
   "source": [
    "## Overview"
   ]
  },
  {
   "cell_type": "markdown",
   "metadata": {
    "toc-hr-collapsed": true
   },
   "source": [
    "## Follow Along"
   ]
  },
  {
   "cell_type": "markdown",
   "metadata": {},
   "source": [
    "### Topic Distance Visualization"
   ]
  },
  {
   "cell_type": "code",
   "execution_count": 70,
   "metadata": {},
   "outputs": [],
   "source": [
    "import pyLDAvis.gensim\n",
    "\n",
    "pyLDAvis.enable_notebook()"
   ]
  },
  {
   "cell_type": "code",
   "execution_count": 71,
   "metadata": {},
   "outputs": [
    {
     "name": "stderr",
     "output_type": "stream",
     "text": [
      "C:\\Users\\PhatDeluxe\\Anaconda3\\envs\\U4-S1-NLP\\lib\\site-packages\\pyLDAvis\\_prepare.py:257: FutureWarning: Sorting because non-concatenation axis is not aligned. A future version\n",
      "of pandas will change to not sort by default.\n",
      "\n",
      "To accept the future behavior, pass 'sort=False'.\n",
      "\n",
      "To retain the current behavior and silence the warning, pass 'sort=True'.\n",
      "\n",
      "  return pd.concat([default_term_info] + list(topic_dfs))\n"
     ]
    },
    {
     "data": {
      "text/html": [
       "\n",
       "<link rel=\"stylesheet\" type=\"text/css\" href=\"https://cdn.rawgit.com/bmabey/pyLDAvis/files/ldavis.v1.0.0.css\">\n",
       "\n",
       "\n",
       "<div id=\"ldavis_el1673612150768327446219459840\"></div>\n",
       "<script type=\"text/javascript\">\n",
       "\n",
       "var ldavis_el1673612150768327446219459840_data = {\"mdsDat\": {\"x\": [0.13509500391125417, -0.033035638934902696, -0.0034665023036404693, 0.16546071768563322, -0.061113286427321216, 0.16662430954688423, -0.015242087338852477, -0.029475609699237373, -0.06115403998213856, -0.005176947073563435, 0.00203031027573562, -0.0433789423940606, -0.07390067615782926, -0.0888665904834551, -0.05440002062450612], \"y\": [-0.035688915475783935, 0.016662838392075375, 0.05129909372875091, -0.008276905749271214, 0.059924777205217404, -0.017998431373388978, 0.10028573536974712, 0.06552381822279964, 0.031203584407460603, 0.03324046206311084, -0.030618049546381847, -0.023180518478891878, -0.09568551488536227, -0.09069495658206787, -0.05599701729801399], \"topics\": [1, 2, 3, 4, 5, 6, 7, 8, 9, 10, 11, 12, 13, 14, 15], \"cluster\": [1, 1, 1, 1, 1, 1, 1, 1, 1, 1, 1, 1, 1, 1, 1], \"Freq\": [25.826826095581055, 22.538827896118164, 14.054954528808594, 11.031960487365723, 9.30794906616211, 8.69009017944336, 3.7605628967285156, 1.4334059953689575, 0.8111398816108704, 0.7334477305412292, 0.5658441185951233, 0.44568824768066406, 0.29172542691230774, 0.25458404421806335, 0.2529892027378082]}, \"tinfo\": {\"Category\": [\"Default\", \"Default\", \"Default\", \"Default\", \"Default\", \"Default\", \"Default\", \"Default\", \"Default\", \"Default\", \"Default\", \"Default\", \"Default\", \"Default\", \"Default\", \"Default\", \"Default\", \"Default\", \"Default\", \"Default\", \"Default\", \"Default\", \"Default\", \"Default\", \"Default\", \"Default\", \"Default\", \"Default\", \"Default\", \"Default\", \"Topic1\", \"Topic1\", \"Topic1\", \"Topic1\", \"Topic1\", \"Topic1\", \"Topic1\", \"Topic1\", \"Topic1\", \"Topic1\", \"Topic1\", \"Topic1\", \"Topic1\", \"Topic1\", \"Topic1\", \"Topic1\", \"Topic1\", \"Topic1\", \"Topic1\", \"Topic1\", \"Topic1\", \"Topic1\", \"Topic1\", \"Topic1\", \"Topic1\", \"Topic1\", \"Topic1\", \"Topic1\", \"Topic1\", \"Topic1\", \"Topic1\", \"Topic1\", \"Topic1\", \"Topic1\", \"Topic1\", \"Topic1\", \"Topic1\", \"Topic1\", \"Topic1\", \"Topic1\", \"Topic1\", \"Topic1\", \"Topic1\", \"Topic1\", \"Topic1\", \"Topic1\", \"Topic1\", \"Topic1\", \"Topic1\", \"Topic1\", \"Topic1\", \"Topic1\", \"Topic1\", \"Topic1\", \"Topic1\", \"Topic1\", \"Topic1\", \"Topic1\", \"Topic1\", \"Topic1\", \"Topic1\", \"Topic1\", \"Topic1\", \"Topic1\", \"Topic1\", \"Topic1\", \"Topic1\", \"Topic1\", \"Topic1\", \"Topic2\", \"Topic2\", \"Topic2\", \"Topic2\", \"Topic2\", \"Topic2\", \"Topic2\", \"Topic2\", \"Topic2\", \"Topic2\", \"Topic2\", \"Topic2\", \"Topic2\", \"Topic2\", \"Topic2\", \"Topic2\", \"Topic2\", \"Topic2\", \"Topic2\", \"Topic2\", \"Topic2\", \"Topic2\", \"Topic2\", \"Topic2\", \"Topic2\", \"Topic2\", \"Topic2\", \"Topic2\", \"Topic2\", \"Topic2\", \"Topic2\", \"Topic2\", \"Topic2\", \"Topic2\", \"Topic2\", \"Topic2\", \"Topic2\", \"Topic2\", \"Topic2\", \"Topic2\", \"Topic2\", \"Topic2\", \"Topic2\", \"Topic2\", \"Topic2\", \"Topic2\", \"Topic2\", \"Topic2\", \"Topic2\", \"Topic2\", \"Topic2\", \"Topic2\", \"Topic2\", \"Topic2\", \"Topic2\", \"Topic2\", \"Topic2\", \"Topic2\", \"Topic2\", \"Topic2\", \"Topic2\", \"Topic2\", \"Topic2\", \"Topic2\", \"Topic2\", \"Topic2\", \"Topic2\", \"Topic2\", \"Topic2\", \"Topic2\", \"Topic2\", \"Topic2\", \"Topic2\", \"Topic2\", \"Topic2\", \"Topic2\", \"Topic2\", \"Topic2\", \"Topic2\", \"Topic2\", \"Topic2\", \"Topic2\", \"Topic2\", \"Topic2\", \"Topic3\", \"Topic3\", \"Topic3\", \"Topic3\", \"Topic3\", \"Topic3\", \"Topic3\", \"Topic3\", \"Topic3\", \"Topic3\", \"Topic3\", \"Topic3\", \"Topic3\", \"Topic3\", \"Topic3\", \"Topic3\", \"Topic3\", \"Topic3\", \"Topic3\", \"Topic3\", \"Topic3\", \"Topic3\", \"Topic3\", \"Topic3\", \"Topic3\", \"Topic3\", \"Topic3\", \"Topic3\", \"Topic3\", \"Topic3\", \"Topic3\", \"Topic3\", \"Topic3\", \"Topic3\", \"Topic3\", \"Topic3\", \"Topic3\", \"Topic3\", \"Topic3\", \"Topic3\", \"Topic3\", \"Topic3\", \"Topic3\", \"Topic3\", \"Topic3\", \"Topic3\", \"Topic3\", \"Topic3\", \"Topic3\", \"Topic3\", \"Topic3\", \"Topic3\", \"Topic3\", \"Topic3\", \"Topic3\", \"Topic3\", \"Topic3\", \"Topic3\", \"Topic3\", \"Topic3\", \"Topic3\", \"Topic3\", \"Topic3\", \"Topic3\", \"Topic3\", \"Topic3\", \"Topic3\", \"Topic3\", \"Topic3\", \"Topic3\", \"Topic3\", \"Topic3\", \"Topic3\", \"Topic3\", \"Topic3\", \"Topic3\", \"Topic3\", \"Topic3\", \"Topic3\", \"Topic4\", \"Topic4\", \"Topic4\", \"Topic4\", \"Topic4\", \"Topic4\", \"Topic4\", \"Topic4\", \"Topic4\", \"Topic4\", \"Topic4\", \"Topic4\", \"Topic4\", \"Topic4\", \"Topic4\", \"Topic4\", \"Topic4\", \"Topic4\", \"Topic4\", \"Topic4\", \"Topic4\", \"Topic4\", \"Topic4\", \"Topic4\", \"Topic4\", \"Topic4\", \"Topic4\", \"Topic4\", \"Topic4\", \"Topic4\", \"Topic4\", \"Topic4\", \"Topic4\", \"Topic4\", \"Topic4\", \"Topic4\", \"Topic4\", \"Topic4\", \"Topic4\", \"Topic4\", \"Topic4\", \"Topic4\", \"Topic4\", \"Topic4\", \"Topic4\", \"Topic4\", \"Topic4\", \"Topic4\", \"Topic4\", \"Topic4\", \"Topic4\", \"Topic4\", \"Topic4\", \"Topic4\", \"Topic4\", \"Topic4\", \"Topic4\", \"Topic4\", \"Topic4\", \"Topic4\", \"Topic4\", \"Topic4\", \"Topic5\", \"Topic5\", \"Topic5\", \"Topic5\", \"Topic5\", \"Topic5\", \"Topic5\", \"Topic5\", \"Topic5\", \"Topic5\", \"Topic5\", \"Topic5\", \"Topic5\", \"Topic5\", \"Topic5\", \"Topic5\", \"Topic5\", \"Topic5\", \"Topic5\", \"Topic5\", \"Topic5\", \"Topic5\", \"Topic5\", \"Topic5\", \"Topic5\", \"Topic5\", \"Topic5\", \"Topic5\", \"Topic5\", \"Topic5\", \"Topic5\", \"Topic5\", \"Topic5\", \"Topic5\", \"Topic5\", \"Topic5\", \"Topic5\", \"Topic5\", \"Topic5\", \"Topic5\", \"Topic5\", \"Topic5\", \"Topic5\", \"Topic5\", \"Topic5\", \"Topic5\", \"Topic5\", \"Topic5\", \"Topic5\", \"Topic5\", \"Topic5\", \"Topic5\", \"Topic5\", \"Topic5\", \"Topic5\", \"Topic5\", \"Topic5\", \"Topic5\", \"Topic5\", \"Topic5\", \"Topic5\", \"Topic5\", \"Topic5\", \"Topic5\", \"Topic5\", \"Topic5\", \"Topic5\", \"Topic5\", \"Topic5\", \"Topic5\", \"Topic5\", \"Topic5\", \"Topic5\", \"Topic5\", \"Topic5\", \"Topic5\", \"Topic5\", \"Topic5\", \"Topic5\", \"Topic5\", \"Topic5\", \"Topic5\", \"Topic5\", \"Topic5\", \"Topic5\", \"Topic5\", \"Topic5\", \"Topic5\", \"Topic5\", \"Topic5\", \"Topic5\", \"Topic5\", \"Topic5\", \"Topic5\", \"Topic5\", \"Topic5\", \"Topic5\", \"Topic5\", \"Topic6\", \"Topic6\", \"Topic6\", \"Topic6\", \"Topic6\", \"Topic6\", \"Topic6\", \"Topic6\", \"Topic6\", \"Topic6\", \"Topic6\", \"Topic6\", \"Topic6\", \"Topic6\", \"Topic6\", \"Topic6\", \"Topic6\", \"Topic6\", \"Topic6\", \"Topic6\", \"Topic6\", \"Topic6\", \"Topic6\", \"Topic6\", \"Topic6\", \"Topic6\", \"Topic6\", \"Topic6\", \"Topic6\", \"Topic6\", \"Topic6\", \"Topic6\", \"Topic6\", \"Topic6\", \"Topic6\", \"Topic6\", \"Topic6\", \"Topic6\", \"Topic6\", \"Topic6\", \"Topic6\", \"Topic6\", \"Topic6\", \"Topic6\", \"Topic6\", \"Topic6\", \"Topic6\", \"Topic6\", \"Topic6\", \"Topic6\", \"Topic6\", \"Topic6\", \"Topic6\", \"Topic6\", \"Topic6\", \"Topic6\", \"Topic6\", \"Topic7\", \"Topic7\", \"Topic7\", \"Topic7\", \"Topic7\", \"Topic7\", \"Topic7\", \"Topic7\", \"Topic7\", \"Topic7\", \"Topic7\", \"Topic7\", \"Topic7\", \"Topic7\", \"Topic7\", \"Topic7\", \"Topic7\", \"Topic7\", \"Topic7\", \"Topic7\", \"Topic7\", \"Topic7\", \"Topic7\", \"Topic7\", \"Topic7\", \"Topic7\", \"Topic7\", \"Topic7\", \"Topic7\", \"Topic7\", \"Topic7\", \"Topic7\", \"Topic7\", \"Topic7\", \"Topic7\", \"Topic7\", \"Topic7\", \"Topic7\", \"Topic7\", \"Topic7\", \"Topic7\", \"Topic7\", \"Topic7\", \"Topic7\", \"Topic7\", \"Topic7\", \"Topic7\", \"Topic7\", \"Topic7\", \"Topic7\", \"Topic7\", \"Topic7\", \"Topic7\", \"Topic7\", \"Topic7\", \"Topic7\", \"Topic7\", \"Topic7\", \"Topic7\", \"Topic7\", \"Topic7\", \"Topic7\", \"Topic7\", \"Topic7\", \"Topic7\", \"Topic7\", \"Topic7\", \"Topic7\", \"Topic7\", \"Topic7\", \"Topic7\", \"Topic8\", \"Topic8\", \"Topic8\", \"Topic8\", \"Topic8\", \"Topic8\", \"Topic8\", \"Topic8\", \"Topic8\", \"Topic8\", \"Topic8\", \"Topic8\", \"Topic8\", \"Topic8\", \"Topic8\", \"Topic8\", \"Topic8\", \"Topic8\", \"Topic8\", \"Topic8\", \"Topic8\", \"Topic8\", \"Topic8\", \"Topic8\", \"Topic8\", \"Topic8\", \"Topic8\", \"Topic8\", \"Topic8\", \"Topic8\", \"Topic8\", \"Topic8\", \"Topic8\", \"Topic8\", \"Topic8\", \"Topic8\", \"Topic8\", \"Topic8\", \"Topic8\", \"Topic8\", \"Topic8\", \"Topic8\", \"Topic8\", \"Topic8\", \"Topic8\", \"Topic8\", \"Topic8\", \"Topic8\", \"Topic8\", \"Topic8\", \"Topic8\", \"Topic8\", \"Topic8\", \"Topic8\", \"Topic8\", \"Topic8\", \"Topic8\", \"Topic8\", \"Topic8\", \"Topic8\", \"Topic8\", \"Topic8\", \"Topic8\", \"Topic8\", \"Topic8\", \"Topic8\", \"Topic8\", \"Topic8\", \"Topic8\", \"Topic8\", \"Topic8\", \"Topic8\", \"Topic8\", \"Topic8\", \"Topic8\", \"Topic9\", \"Topic9\", \"Topic9\", \"Topic9\", \"Topic9\", \"Topic9\", \"Topic9\", \"Topic9\", \"Topic9\", \"Topic9\", \"Topic9\", \"Topic9\", \"Topic9\", \"Topic9\", \"Topic9\", \"Topic9\", \"Topic9\", \"Topic9\", \"Topic9\", \"Topic9\", \"Topic9\", \"Topic9\", \"Topic9\", \"Topic9\", \"Topic9\", \"Topic9\", \"Topic9\", \"Topic9\", \"Topic9\", \"Topic9\", \"Topic9\", \"Topic9\", \"Topic9\", \"Topic9\", \"Topic9\", \"Topic9\", \"Topic9\", \"Topic9\", \"Topic9\", \"Topic9\", \"Topic9\", \"Topic9\", \"Topic9\", \"Topic9\", \"Topic9\", \"Topic9\", \"Topic9\", \"Topic9\", \"Topic9\", \"Topic9\", \"Topic9\", \"Topic9\", \"Topic9\", \"Topic9\", \"Topic9\", \"Topic9\", \"Topic9\", \"Topic9\", \"Topic9\", \"Topic9\", \"Topic9\", \"Topic9\", \"Topic9\", \"Topic9\", \"Topic9\", \"Topic10\", \"Topic10\", \"Topic10\", \"Topic10\", \"Topic10\", \"Topic10\", \"Topic10\", \"Topic10\", \"Topic10\", \"Topic10\", \"Topic10\", \"Topic10\", \"Topic10\", \"Topic10\", \"Topic10\", \"Topic10\", \"Topic10\", \"Topic10\", \"Topic10\", \"Topic10\", \"Topic10\", \"Topic10\", \"Topic10\", \"Topic10\", \"Topic10\", \"Topic10\", \"Topic10\", \"Topic10\", \"Topic10\", \"Topic10\", \"Topic10\", \"Topic10\", \"Topic10\", \"Topic10\", \"Topic10\", \"Topic10\", \"Topic10\", \"Topic10\", \"Topic10\", \"Topic10\", \"Topic10\", \"Topic10\", \"Topic10\", \"Topic10\", \"Topic10\", \"Topic10\", \"Topic10\", \"Topic10\", \"Topic10\", \"Topic10\", \"Topic10\", \"Topic10\", \"Topic10\", \"Topic10\", \"Topic10\", \"Topic10\", \"Topic10\", \"Topic10\", \"Topic10\", \"Topic10\", \"Topic10\", \"Topic10\", \"Topic10\", \"Topic10\", \"Topic10\", \"Topic10\", \"Topic10\", \"Topic10\", \"Topic10\", \"Topic10\", \"Topic10\", \"Topic10\", \"Topic10\", \"Topic11\", \"Topic11\", \"Topic11\", \"Topic11\", \"Topic11\", \"Topic11\", \"Topic11\", \"Topic11\", \"Topic11\", \"Topic11\", \"Topic11\", \"Topic11\", \"Topic11\", \"Topic11\", \"Topic11\", \"Topic11\", \"Topic11\", \"Topic11\", \"Topic11\", \"Topic11\", \"Topic11\", \"Topic11\", \"Topic11\", \"Topic11\", \"Topic11\", \"Topic11\", \"Topic11\", \"Topic11\", \"Topic11\", \"Topic11\", \"Topic11\", \"Topic11\", \"Topic11\", \"Topic11\", \"Topic11\", \"Topic11\", \"Topic11\", \"Topic11\", \"Topic11\", \"Topic11\", \"Topic11\", \"Topic11\", \"Topic11\", \"Topic11\", \"Topic11\", \"Topic11\", \"Topic11\", \"Topic11\", \"Topic11\", \"Topic11\", \"Topic11\", \"Topic11\", \"Topic11\", \"Topic11\", \"Topic11\", \"Topic11\", \"Topic11\", \"Topic11\", \"Topic11\", \"Topic11\", \"Topic11\", \"Topic11\", \"Topic11\", \"Topic11\", \"Topic11\", \"Topic11\", \"Topic11\", \"Topic11\", \"Topic11\", \"Topic12\", \"Topic12\", \"Topic12\", \"Topic12\", \"Topic12\", \"Topic12\", \"Topic12\", \"Topic12\", \"Topic12\", \"Topic12\", \"Topic12\", \"Topic12\", \"Topic12\", \"Topic12\", \"Topic12\", \"Topic12\", \"Topic12\", \"Topic12\", \"Topic12\", \"Topic12\", \"Topic12\", \"Topic12\", \"Topic12\", \"Topic12\", \"Topic12\", \"Topic12\", \"Topic12\", \"Topic12\", \"Topic12\", \"Topic12\", \"Topic12\", \"Topic12\", \"Topic12\", \"Topic12\", \"Topic12\", \"Topic12\", \"Topic12\", \"Topic12\", \"Topic12\", \"Topic12\", \"Topic12\", \"Topic12\", \"Topic12\", \"Topic12\", \"Topic12\", \"Topic12\", \"Topic12\", \"Topic12\", \"Topic12\", \"Topic12\", \"Topic12\", \"Topic12\", \"Topic12\", \"Topic12\", \"Topic12\", \"Topic12\", \"Topic12\", \"Topic12\", \"Topic12\", \"Topic12\", \"Topic12\", \"Topic12\", \"Topic12\", \"Topic12\", \"Topic12\", \"Topic12\", \"Topic12\", \"Topic12\", \"Topic12\", \"Topic12\", \"Topic12\", \"Topic12\", \"Topic13\", \"Topic13\", \"Topic13\", \"Topic13\", \"Topic13\", \"Topic13\", \"Topic13\", \"Topic13\", \"Topic13\", \"Topic13\", \"Topic13\", \"Topic13\", \"Topic13\", \"Topic13\", \"Topic13\", \"Topic13\", \"Topic13\", \"Topic13\", \"Topic13\", \"Topic13\", \"Topic13\", \"Topic13\", \"Topic13\", \"Topic13\", \"Topic13\", \"Topic13\", \"Topic13\", \"Topic13\", \"Topic13\", \"Topic13\", \"Topic13\", \"Topic13\", \"Topic13\", \"Topic13\", \"Topic13\", \"Topic13\", \"Topic13\", \"Topic13\", \"Topic13\", \"Topic13\", \"Topic13\", \"Topic13\", \"Topic13\", \"Topic13\", \"Topic13\", \"Topic13\", \"Topic13\", \"Topic13\", \"Topic13\", \"Topic13\", \"Topic13\", \"Topic13\", \"Topic13\", \"Topic13\", \"Topic13\", \"Topic13\", \"Topic13\", \"Topic13\", \"Topic13\", \"Topic13\", \"Topic13\", \"Topic13\", \"Topic13\", \"Topic13\", \"Topic13\", \"Topic13\", \"Topic13\", \"Topic13\", \"Topic13\", \"Topic13\", \"Topic13\", \"Topic13\", \"Topic14\", \"Topic14\", \"Topic14\", \"Topic14\", \"Topic14\", \"Topic14\", \"Topic14\", \"Topic14\", \"Topic14\", \"Topic14\", \"Topic14\", \"Topic14\", \"Topic14\", \"Topic14\", \"Topic14\", \"Topic14\", \"Topic14\", \"Topic14\", \"Topic14\", \"Topic14\", \"Topic14\", \"Topic14\", \"Topic14\", \"Topic14\", \"Topic14\", \"Topic14\", \"Topic14\", \"Topic14\", \"Topic14\", \"Topic14\", \"Topic14\", \"Topic14\", \"Topic14\", \"Topic14\", \"Topic14\", \"Topic14\", \"Topic14\", \"Topic14\", \"Topic14\", \"Topic14\", \"Topic14\", \"Topic14\", \"Topic14\", \"Topic14\", \"Topic14\", \"Topic14\", \"Topic14\", \"Topic14\", \"Topic14\", \"Topic14\", \"Topic14\", \"Topic14\", \"Topic14\", \"Topic14\", \"Topic14\", \"Topic14\", \"Topic14\", \"Topic14\", \"Topic14\", \"Topic14\", \"Topic14\", \"Topic14\", \"Topic14\", \"Topic14\", \"Topic14\", \"Topic14\", \"Topic14\", \"Topic14\", \"Topic14\", \"Topic14\", \"Topic14\", \"Topic14\", \"Topic14\", \"Topic14\", \"Topic14\", \"Topic14\", \"Topic14\", \"Topic14\", \"Topic14\", \"Topic14\", \"Topic14\", \"Topic15\", \"Topic15\", \"Topic15\", \"Topic15\", \"Topic15\", \"Topic15\", \"Topic15\", \"Topic15\", \"Topic15\", \"Topic15\", \"Topic15\", \"Topic15\", \"Topic15\", \"Topic15\", \"Topic15\", \"Topic15\", \"Topic15\", \"Topic15\", \"Topic15\", \"Topic15\", \"Topic15\", \"Topic15\", \"Topic15\", \"Topic15\", \"Topic15\", \"Topic15\", \"Topic15\", \"Topic15\", \"Topic15\", \"Topic15\", \"Topic15\", \"Topic15\", \"Topic15\", \"Topic15\", \"Topic15\", \"Topic15\", \"Topic15\", \"Topic15\", \"Topic15\", \"Topic15\", \"Topic15\", \"Topic15\", \"Topic15\", \"Topic15\", \"Topic15\", \"Topic15\", \"Topic15\", \"Topic15\", \"Topic15\", \"Topic15\", \"Topic15\", \"Topic15\", \"Topic15\", \"Topic15\", \"Topic15\", \"Topic15\", \"Topic15\", \"Topic15\", \"Topic15\", \"Topic15\", \"Topic15\", \"Topic15\", \"Topic15\", \"Topic15\", \"Topic15\", \"Topic15\", \"Topic15\", \"Topic15\", \"Topic15\", \"Topic15\", \"Topic15\", \"Topic15\", \"Topic15\", \"Topic15\"], \"Freq\": [915.0, 1718.0, 694.0, 1323.0, 1542.0, 573.0, 1352.0, 931.0, 1142.0, 561.0, 873.0, 1053.0, 409.0, 588.0, 1313.0, 1429.0, 1313.0, 920.0, 827.0, 935.0, 773.0, 488.0, 697.0, 415.0, 653.0, 686.0, 901.0, 615.0, 449.0, 286.0, 392.7802429199219, 305.0436096191406, 289.0068359375, 169.0122528076172, 607.851806640625, 182.98434448242188, 161.08258056640625, 122.58257293701172, 89.6714859008789, 83.09598541259766, 68.9621810913086, 66.11044311523438, 53.83100509643555, 50.10657501220703, 46.28847885131836, 90.68285369873047, 36.91319274902344, 38.72722625732422, 36.84744644165039, 34.03074264526367, 29.32406997680664, 30.125619888305664, 23.655908584594727, 22.68532943725586, 68.41015625, 22.592811584472656, 13.283398628234863, 13.286015510559082, 14.169281959533691, 12.323202133178711, 14.054999351501465, 94.83363342285156, 43.81703186035156, 46.47919464111328, 31.245372772216797, 269.1328430175781, 133.59107971191406, 112.18728637695312, 127.06420135498047, 326.84576416015625, 290.7414855957031, 171.70883178710938, 295.6374206542969, 117.8900146484375, 218.27769470214844, 530.7593383789062, 552.0469970703125, 378.6393737792969, 367.5677185058594, 335.26483154296875, 458.4295959472656, 347.8247375488281, 432.21661376953125, 340.7088317871094, 260.4059143066406, 407.1929016113281, 254.8929901123047, 222.12667846679688, 180.6435089111328, 414.994140625, 252.68209838867188, 294.7298278808594, 207.91140747070312, 223.25503540039062, 240.2761688232422, 221.1255645751953, 226.5292510986328, 234.12510681152344, 220.88430786132812, 114.37639617919922, 275.3595275878906, 53.80416488647461, 19.95162582397461, 14.117510795593262, 27.42353057861328, 30.243953704833984, 16.926162719726562, 26.426319122314453, 108.97091674804688, 36.62460708618164, 45.03532791137695, 13.954656600952148, 25.074934005737305, 11.061737060546875, 11.979222297668457, 11.923380851745605, 11.885181427001953, 34.018333435058594, 9.099661827087402, 12.763436317443848, 9.07045841217041, 35.7125129699707, 9.969442367553711, 17.867244720458984, 11.756996154785156, 8.08951187133789, 11.73681354522705, 21.690685272216797, 169.6556396484375, 100.92124938964844, 72.49491882324219, 107.22174072265625, 99.32159423828125, 58.18104934692383, 43.171382904052734, 64.60093688964844, 94.41488647460938, 35.55764389038086, 101.71338653564453, 120.65099334716797, 55.06939697265625, 44.76322555541992, 54.81443405151367, 121.46231842041016, 168.93482971191406, 274.7618408203125, 50.01777648925781, 77.06954193115234, 103.68551635742188, 137.99388122558594, 73.52484893798828, 112.36898040771484, 248.12167358398438, 94.26838684082031, 62.5933837890625, 433.43743896484375, 351.2604064941406, 123.86569213867188, 162.39785766601562, 211.29689025878906, 280.8869323730469, 188.73802185058594, 244.92691040039062, 262.4143981933594, 264.5173034667969, 165.32510375976562, 184.6228790283203, 244.395263671875, 200.81292724609375, 162.27456665039062, 164.5181884765625, 152.29312133789062, 181.26573181152344, 162.41976928710938, 162.4768829345703, 145.7592315673828, 163.60939025878906, 141.49057006835938, 135.01400756835938, 136.63021850585938, 136.43289184570312, 137.2076873779297, 137.04525756835938, 14.54359245300293, 10.622474670410156, 18.346330642700195, 11.3080472946167, 25.844533920288086, 7.7686944007873535, 5.847024440765381, 5.8368754386901855, 22.965932846069336, 5.7998433113098145, 24.196374893188477, 4.897069454193115, 4.887959003448486, 12.33143424987793, 73.3304214477539, 4.833674430847168, 4.814256191253662, 4.7941083908081055, 4.808352470397949, 49.7213249206543, 4.793099880218506, 4.7866339683532715, 8.761279106140137, 6.3015289306640625, 4.646298408508301, 6.772678375244141, 15.988025665283203, 76.96375274658203, 279.6645202636719, 6.779592514038086, 75.8164291381836, 95.22590637207031, 21.222206115722656, 11.371310234069824, 14.86048698425293, 21.491073608398438, 10.239479064941406, 30.23996925354004, 256.3060302734375, 43.509033203125, 20.4405517578125, 73.84870147705078, 23.709264755249023, 108.91182708740234, 80.530517578125, 25.750064849853516, 28.71384048461914, 56.40217971801758, 314.02911376953125, 152.6374053955078, 53.0328369140625, 216.8203887939453, 136.83604431152344, 161.7230987548828, 155.76220703125, 295.75433349609375, 145.0910186767578, 178.61341857910156, 181.3738250732422, 142.8040008544922, 91.92997741699219, 139.43301391601562, 186.00674438476562, 196.35386657714844, 84.80000305175781, 189.97015380859375, 134.38522338867188, 137.72207641601562, 147.1582794189453, 184.5657958984375, 144.08567810058594, 161.30386352539062, 153.3950958251953, 140.2204132080078, 110.0941390991211, 110.90648651123047, 105.8485107421875, 104.73643493652344, 106.35114288330078, 399.688232421875, 533.7904052734375, 87.19535827636719, 52.71828079223633, 20.082857131958008, 14.036739349365234, 17.864492416381836, 22.676328659057617, 31.233304977416992, 13.573424339294434, 146.32369995117188, 42.76591110229492, 58.6916618347168, 25.49570655822754, 55.8901481628418, 22.41972541809082, 75.12553405761719, 5.453898906707764, 7.308822154998779, 10.079639434814453, 5.438170909881592, 29.51585578918457, 5.425075054168701, 34.45009231567383, 7.1968302726745605, 9.938801765441895, 13.581461906433105, 786.4730834960938, 19.00725746154785, 12.161320686340332, 276.0493469238281, 335.5038757324219, 138.82308959960938, 106.04924774169922, 176.50384521484375, 92.2005615234375, 41.6446647644043, 176.30816650390625, 28.0513973236084, 240.8338623046875, 271.8163757324219, 155.82215881347656, 299.0703125, 474.0401916503906, 245.4219207763672, 57.86600875854492, 52.677059173583984, 140.2528533935547, 161.34564208984375, 252.7025146484375, 144.49766540527344, 224.63265991210938, 218.64981079101562, 153.09893798828125, 181.85577392578125, 160.5161590576172, 165.94517517089844, 120.20561218261719, 133.26524353027344, 128.6558837890625, 118.97593688964844, 122.48831939697266, 12.553977012634277, 6.05670166015625, 6.005493640899658, 6.868517875671387, 5.945093631744385, 5.060463905334473, 5.0361409187316895, 5.022894859313965, 5.013213157653809, 5.836094856262207, 4.989971160888672, 5.786554336547852, 16.26116371154785, 4.688745021820068, 4.685279369354248, 7.8317131996154785, 8.567033767700195, 5.062122344970703, 5.322840690612793, 5.046359062194824, 57.36198425292969, 6.031126976013184, 6.040068626403809, 7.515528678894043, 7.450993537902832, 5.120276927947998, 7.078690052032471, 7.409816741943359, 7.9825520515441895, 4.038544178009033, 17.990840911865234, 25.77448272705078, 42.96031951904297, 13.269865036010742, 14.366290092468262, 29.4254207611084, 45.42222213745117, 20.282909393310547, 8.0689115524292, 31.309249877929688, 12.183591842651367, 13.3316650390625, 11.463546752929688, 18.546550750732422, 10.814248085021973, 20.365392684936523, 23.847471237182617, 16.764434814453125, 23.902851104736328, 26.077239990234375, 44.933040618896484, 22.40079689025879, 22.74184799194336, 40.23094940185547, 16.183696746826172, 145.5088653564453, 59.22630310058594, 83.85763549804688, 61.070777893066406, 57.132041931152344, 120.92160034179688, 67.22992706298828, 89.98038482666016, 51.13837814331055, 90.31298828125, 77.87672424316406, 63.7836799621582, 54.03689193725586, 39.10417556762695, 39.97932052612305, 130.78799438476562, 62.11680603027344, 153.22494506835938, 58.24737548828125, 36.39292907714844, 120.9866714477539, 41.6818962097168, 77.16735076904297, 92.1998519897461, 106.45599365234375, 88.56134796142578, 91.23731994628906, 108.79658508300781, 83.52879333496094, 89.06732177734375, 111.90908813476562, 79.11637115478516, 78.2257080078125, 71.2488784790039, 66.1739730834961, 69.79993438720703, 81.46912384033203, 67.53917694091797, 65.46357727050781, 66.07073974609375, 66.46853637695312, 65.97914123535156, 66.5631332397461, 229.0504913330078, 561.5723266601562, 101.93631744384766, 677.6856079101562, 88.48430633544922, 142.35350036621094, 128.35389709472656, 211.73622131347656, 30.050617218017578, 35.90610122680664, 75.75413513183594, 26.860593795776367, 35.490482330322266, 25.863365173339844, 242.9959259033203, 17.15361785888672, 19.032835006713867, 29.537931442260742, 37.038414001464844, 46.437477111816406, 17.893600463867188, 15.94045352935791, 15.709574699401855, 14.750955581665039, 49.44683074951172, 7.986659049987793, 8.869942665100098, 6.99232292175293, 6.101653575897217, 6.100528240203857, 262.7568359375, 9.532925605773926, 10.364511489868164, 62.56189727783203, 14.825104713439941, 161.73040771484375, 183.2583770751953, 209.2088165283203, 200.83596801757812, 135.90542602539062, 47.67020797729492, 70.19852447509766, 109.90962219238281, 161.83505249023438, 121.26338195800781, 111.76899719238281, 118.95281219482422, 100.00337219238281, 90.0875473022461, 119.13286590576172, 114.88029479980469, 85.15340423583984, 99.58638763427734, 100.25196075439453, 101.22038269042969, 85.90634155273438, 83.63008880615234, 5.4958930015563965, 4.605478763580322, 4.366489410400391, 5.5248541831970215, 6.1206746101379395, 126.62049865722656, 43.04668045043945, 3.15079665184021, 3.1628215312957764, 3.7165651321411133, 3.435523509979248, 3.641226053237915, 3.4096875190734863, 4.3043413162231445, 2.789663076400757, 3.271028757095337, 4.22709846496582, 2.80643892288208, 2.739443302154541, 80.0860366821289, 3.558079481124878, 2.54052472114563, 3.0596561431884766, 3.5215554237365723, 5.592984199523926, 2.524275541305542, 2.504406213760376, 9.207808494567871, 3.34299635887146, 2.4766385555267334, 9.459782600402832, 15.697020530700684, 22.27081298828125, 5.162696838378906, 64.8210678100586, 17.760982513427734, 18.9202823638916, 15.601712226867676, 19.375629425048828, 37.450469970703125, 6.184172630310059, 58.80229949951172, 22.05784797668457, 46.62480163574219, 23.3465518951416, 12.187121391296387, 110.04833984375, 35.04119873046875, 50.29637145996094, 10.660565376281738, 38.24089050292969, 71.59390258789062, 22.652036666870117, 34.22809982299805, 64.34538269042969, 48.626949310302734, 31.059877395629883, 39.63545608520508, 47.17277908325195, 31.43285369873047, 38.8170280456543, 51.78099060058594, 42.2075309753418, 48.037235260009766, 40.309757232666016, 36.32692337036133, 33.61020278930664, 34.842628479003906, 36.85283660888672, 32.01148223876953, 36.02995300292969, 3.456458568572998, 3.468951940536499, 3.2983248233795166, 2.5873265266418457, 2.5982916355133057, 6.55260705947876, 2.4091544151306152, 2.6228349208831787, 2.167083501815796, 2.364506959915161, 1.764847993850708, 2.458115339279175, 1.7661396265029907, 1.755744457244873, 2.5933947563171387, 1.759678840637207, 2.276641607284546, 2.0017096996307373, 1.6248859167099, 2.226954460144043, 2.6398961544036865, 1.7654842138290405, 1.605981469154358, 1.6327943801879883, 1.653847336769104, 1.7237300872802734, 3.112600088119507, 1.7569926977157593, 1.7177761793136597, 3.300619602203369, 1.7692089080810547, 3.441629648208618, 5.16543436050415, 2.6275012493133545, 2.3184051513671875, 8.292243003845215, 39.88884735107422, 9.858270645141602, 3.2306530475616455, 10.75934886932373, 9.535224914550781, 4.01231050491333, 5.956185817718506, 3.476848602294922, 9.394400596618652, 12.134445190429688, 5.02738094329834, 15.406267166137695, 19.15015411376953, 22.519514083862305, 23.61985969543457, 15.93908405303955, 12.65902042388916, 6.894750595092773, 20.290342330932617, 17.71999740600586, 12.866737365722656, 20.981794357299805, 19.896663665771484, 13.052506446838379, 13.592076301574707, 14.695550918579102, 14.177725791931152, 10.545332908630371, 12.904365539550781, 10.579911231994629, 13.06285572052002, 10.813933372497559, 10.595222473144531, 13.86877727508545, 11.21811294555664, 11.112260818481445, 11.453770637512207, 10.522860527038574, 10.166341781616211, 19.43768310546875, 8.322029113769531, 51.73297882080078, 1.7505605220794678, 1.7139098644256592, 1.6547740697860718, 1.6076332330703735, 1.8135011196136475, 6.471322536468506, 2.01206111907959, 2.470303773880005, 1.7123916149139404, 1.481323003768921, 1.6983250379562378, 1.6522713899612427, 1.7132047414779663, 1.4299834966659546, 1.3497493267059326, 1.7190558910369873, 2.6287031173706055, 1.5073930025100708, 1.7096573114395142, 1.7173415422439575, 1.4335683584213257, 9.208503723144531, 25.108985900878906, 2.5067131519317627, 1.744865894317627, 1.296651005744934, 1.7148503065109253, 6.286733150482178, 3.9033448696136475, 7.420916557312012, 7.221389293670654, 2.9930672645568848, 6.308739185333252, 5.951475143432617, 2.4302494525909424, 2.163557529449463, 10.074063301086426, 3.473102569580078, 4.585023880004883, 17.59633445739746, 17.756086349487305, 2.5514156818389893, 12.523984909057617, 4.222354888916016, 6.299659252166748, 12.091839790344238, 6.507209300994873, 4.159029960632324, 7.086684703826904, 10.942041397094727, 7.655208110809326, 4.243773937225342, 6.860542297363281, 7.909875392913818, 8.239176750183105, 7.730382442474365, 9.02936840057373, 8.015588760375977, 7.024916648864746, 8.657812118530273, 6.962352752685547, 6.62860631942749, 3.567957639694214, 5.014193534851074, 4.737452983856201, 4.881663799285889, 2.249347686767578, 2.2456912994384766, 1.537052869796753, 6.620007038116455, 3.0841176509857178, 2.223465919494629, 4.201530933380127, 1.864391803741455, 1.5340263843536377, 4.027344703674316, 1.538690209388733, 5.144927024841309, 1.541434407234192, 1.7635250091552734, 1.526639461517334, 2.2326900959014893, 1.5566062927246094, 2.9821863174438477, 1.4170527458190918, 1.5525118112564087, 1.537704348564148, 2.2837369441986084, 1.4250677824020386, 0.9855402112007141, 0.7945135831832886, 0.7984302639961243, 1.5376081466674805, 1.5364090204238892, 1.548348069190979, 2.27713680267334, 3.036257743835449, 10.944095611572266, 6.85160493850708, 5.5311431884765625, 5.675358295440674, 4.2829790115356445, 3.3544881343841553, 5.3088812828063965, 9.950315475463867, 20.551319122314453, 4.292902946472168, 3.025721788406372, 17.321083068847656, 6.881308078765869, 11.665775299072266, 5.339878559112549, 9.12930679321289, 6.180388450622559, 9.399531364440918, 8.529244422912598, 9.132426261901855, 6.3488450050354, 5.711575508117676, 6.187063694000244, 7.391964912414551, 8.314407348632812, 6.945211887359619, 6.823305606842041, 6.532814025878906, 6.601563453674316, 6.492439270019531, 6.348635673522949, 6.278178691864014, 6.151083946228027, 6.137180805206299, 6.365701198577881, 6.0115814208984375, 6.169588565826416, 5.87579870223999, 2.023890495300293, 1.9717401266098022, 2.0494754314422607, 1.3455311059951782, 1.3744676113128662, 1.3784055709838867, 1.3816747665405273, 1.7252987623214722, 1.3816118240356445, 1.3738163709640503, 3.390699863433838, 1.3814091682434082, 1.355923056602478, 0.996539294719696, 1.3559365272521973, 1.3697022199630737, 2.0145363807678223, 1.1631214618682861, 1.3822611570358276, 11.317066192626953, 1.390531063079834, 4.054727077484131, 1.1526944637298584, 0.714249849319458, 1.3795387744903564, 1.3788045644760132, 5.461828231811523, 0.8885816335678101, 2.5269877910614014, 0.7111329436302185, 1.9191484451293945, 5.613187313079834, 8.721232414245605, 2.0594263076782227, 3.0696041584014893, 13.724679946899414, 2.732454299926758, 8.857230186462402, 9.85988712310791, 3.5494821071624756, 6.777223587036133, 2.64292049407959, 5.049322605133057, 5.161336421966553, 3.023134708404541, 8.277461051940918, 4.637393951416016, 7.357079982757568, 3.4054770469665527, 5.38838005065918, 3.556260108947754, 4.763055801391602, 5.320550441741943, 6.425970554351807, 5.6167473793029785, 6.07603645324707, 3.864701986312866, 5.517890453338623, 3.8166139125823975, 3.9460206031799316, 4.833246231079102, 4.3541951179504395, 4.711062431335449, 4.3541765213012695, 4.078843593597412, 4.046842098236084, 4.186610221862793, 4.050753593444824, 3.9688851833343506, 4.88374137878418, 4.8759284019470215, 2.108708381652832, 1.427185297012329, 1.4222739934921265, 2.1135411262512207, 1.4223285913467407, 0.7367356419563293, 0.7358275651931763, 0.7354675531387329, 0.7347731590270996, 0.7362511157989502, 0.7318127155303955, 1.4306102991104126, 0.7368246912956238, 0.7362390160560608, 0.7231102585792542, 0.730756402015686, 0.736793577671051, 0.7366898059844971, 0.7263867855072021, 0.7348459959030151, 0.7361671924591064, 0.7334498167037964, 0.7346640229225159, 0.7363368272781372, 0.7333140969276428, 0.7312636971473694, 0.7361053228378296, 0.7363539338111877, 5.534201145172119, 1.425252079963684, 3.4845070838928223, 3.4234821796417236, 13.1373872756958, 5.5922136306762695, 1.4130361080169678, 1.4258644580841064, 8.919149398803711, 2.7070960998535156, 3.2555339336395264, 3.426563024520874, 1.4189305305480957, 1.4331018924713135, 1.4255845546722412, 5.5562920570373535, 1.4217058420181274, 2.8141567707061768, 2.1244027614593506, 1.9773236513137817, 2.123248815536499, 3.2165486812591553, 5.473296165466309, 4.224819183349609, 8.317390441894531, 3.45241641998291, 6.258733749389648, 7.277628421783447, 3.539105176925659, 4.974400997161865, 5.470430850982666, 5.0406670570373535, 3.557399272918701, 2.8293962478637695, 3.507190704345703, 4.990139961242676, 4.032443523406982, 3.8747568130493164, 3.701212167739868, 3.5185511112213135, 3.600754737854004, 3.283177137374878, 2.2930047512054443, 1.1558821201324463, 1.196043610572815, 1.1997281312942505, 1.1944596767425537, 1.1941701173782349, 3.3465194702148438, 2.362811326980591, 1.1997202634811401, 1.198533296585083, 0.612489640712738, 0.6166651844978333, 0.6191697716712952, 0.622316837310791, 0.616953432559967, 0.6206678748130798, 0.6133330464363098, 0.619921863079071, 0.6181109547615051, 0.6190047860145569, 0.6201201677322388, 0.6192828416824341, 0.6172422766685486, 0.6105424761772156, 0.6084526181221008, 0.6021215915679932, 0.6169509291648865, 0.6104114055633545, 0.6184270977973938, 0.6197740435600281, 1.1938574314117432, 1.1942065954208374, 1.2010329961776733, 6.436204433441162, 1.195725917816162, 2.3384084701538086, 2.3407645225524902, 1.1936770677566528, 1.7739217281341553, 0.9717783331871033, 1.1883518695831299, 2.7014665603637695, 1.7744444608688354, 1.7928495407104492, 3.2294700145721436, 1.1995396614074707, 2.971644878387451, 1.1865206956863403, 1.196060061454773, 1.7843698263168335, 1.7907092571258545, 4.399566173553467, 2.9903054237365723, 2.136279344558716, 2.976285696029663, 3.477835178375244, 2.962063789367676, 2.552518129348755, 2.4968314170837402, 2.400376796722412, 2.0062246322631836, 1.9292666912078857, 1.8195430040359497, 1.7895164489746094, 2.0537595748901367, 2.147529363632202, 1.8130301237106323, 1.876895785331726, 2.0143213272094727, 2.0208702087402344, 2.010944128036499, 1.8445117473602295, 1.2131985425949097, 1.20919668674469, 1.2098709344863892, 0.6199130415916443, 0.6240633726119995, 0.6256335377693176, 0.6233692169189453, 0.6224709153175354, 0.6214828491210938, 0.6256524324417114, 0.6237057447433472, 0.6216860413551331, 0.6248999834060669, 0.6237385869026184, 0.6171019077301025, 1.2051808834075928, 1.2115286588668823, 0.6251322031021118, 0.6224894523620605, 0.6257341504096985, 0.6320279836654663, 0.622981607913971, 0.6193374395370483, 0.6249465942382812, 0.6266539692878723, 0.6234931349754333, 0.622066080570221, 0.6218758225440979, 0.6253665089607239, 0.6226699948310852, 1.2077913284301758, 2.9677562713623047, 2.3784232139587402, 1.211661696434021, 1.2099905014038086, 1.2120211124420166, 1.2123461961746216, 1.2094801664352417, 1.2136104106903076, 1.806428074836731, 1.2113335132598877, 1.2117196321487427, 3.0069520473480225, 2.4146904945373535, 1.2080674171447754, 2.3895938396453857, 1.7933368682861328, 3.007702589035034, 1.2171854972839355, 1.2095791101455688, 3.0384275913238525, 1.214036226272583, 3.045985221862793, 3.6486544609069824, 1.813266396522522, 3.0660934448242188, 1.8120242357254028, 2.4619007110595703, 1.803377389907837, 1.8127398490905762, 1.8163822889328003, 2.4478189945220947, 2.4685275554656982, 2.446604013442993, 2.5315494537353516, 2.459261178970337, 2.61108660697937, 1.8442884683609009, 1.8316468000411987, 1.8130033016204834, 1.8228353261947632, 1.844348669052124, 1.8303624391555786, 1.9831485748291016, 1.8818795680999756, 1.8828792572021484, 1.8750317096710205, 1.8507450819015503, 1.855279564857483, 1.832740306854248, 1.8281282186508179, 1.7602121829986572, 1.186973214149475, 1.7630287408828735, 0.6154880523681641, 0.6106328964233398, 0.6116620302200317, 1.1857205629348755, 0.6137896180152893, 0.6280556917190552, 0.6132678389549255, 0.6134399771690369, 0.6112207174301147, 0.6132831573486328, 1.187917709350586, 0.6113788485527039, 0.6127340793609619, 0.6118203997612, 0.6106916069984436, 0.6158406138420105, 0.6221672892570496, 0.6118690371513367, 0.6087701916694641, 0.6127086877822876, 0.6127845048904419, 0.6130433082580566, 0.6120469570159912, 0.6139848232269287, 1.188775658607483, 0.6131656169891357, 0.6131204962730408, 3.5695838928222656, 1.1874979734420776, 3.0324084758758545, 1.1872785091400146, 2.3629496097564697, 5.3244428634643555, 1.1875660419464111, 1.7728439569473267, 1.1886638402938843, 2.4326364994049072, 3.558943271636963, 1.205946922302246, 1.1928520202636719, 2.546691656112671, 3.633453130722046, 1.7726199626922607, 2.3718953132629395, 1.1962568759918213, 3.696046829223633, 2.348031759262085, 3.050725221633911, 2.3736307621002197, 1.7882581949234009, 3.0303215980529785, 2.3952345848083496, 3.154465913772583, 2.573742151260376, 2.4837636947631836, 1.808172345161438, 1.8325835466384888, 1.9264408349990845, 1.7868071794509888, 1.8290725946426392, 1.796683430671692, 1.8518561124801636, 1.9329617023468018, 1.9974422454833984, 1.9049228429794312, 2.0161561965942383, 1.875732421875, 1.8920283317565918, 1.862841248512268, 1.8331735134124756, 1.8307294845581055], \"Term\": [\"emma\", \"little\", \"elinor\", \"like\", \"miss\", \"marianne\", \"good\", \"jane\", \"thought\", \"harriet\", \"room\", \"day\", \"madame\", \"sir\", \"time\", \"know\", \"think\", \"soon\", \"come\", \"long\", \"saw\", \"home\", \"looked\", \"elton\", \"heart\", \"way\", \"man\", \"hand\", \"weston\", \"monsieur\", \"darcy\", \"bennet\", \"bingley\", \"collins\", \"elizabeth\", \"wickham\", \"lydia\", \"catherine\", \"gardiner\", \"longbourn\", \"netherfield\", \"lucas\", \"meryton\", \"pemberley\", \"rosings\", \"lizzy\", \"bourgh\", \"hertfordshire\", \"forster\", \"fitzwilliam\", \"phillips\", \"officers\", \"hunsford\", \"derbyshire\", \"kitty\", \"brighton\", \"kent\", \"lucases\", \"churchills\", \"arguments\", \"intending\", \"charlotte\", \"taylor\", \"ladyship\", \"hurst\", \"family\", \"sisters\", \"uncle\", \"aunt\", \"sister\", \"father\", \"brother\", \"dear\", \"marriage\", \"letter\", \"know\", \"miss\", \"soon\", \"jane\", \"great\", \"think\", \"man\", \"good\", \"shall\", \"lady\", \"time\", \"sure\", \"hope\", \"replied\", \"little\", \"young\", \"day\", \"wish\", \"mother\", \"room\", \"away\", \"thing\", \"thought\", \"long\", \"frances\", \"monsieur\", \"henri\", \"paletot\", \"swiss\", \"zoraide\", \"pierre\", \"zelie\", \"sylvie\", \"mdlle\", \"estrade\", \"directress\", \"grec\", \"elle\", \"ambitious\", \"plus\", \"cette\", \"messieurs\", \"ne\", \"mender\", \"bouquet\", \"violets\", \"une\", \"hovering\", \"bon\", \"femme\", \"item\", \"definite\", \"victor\", \"paul\", \"pelet\", \"reuter\", \"vous\", \"est\", \"professor\", \"bien\", \"je\", \"emanuel\", \"les\", \"mademoiselle\", \"hunsden\", \"que\", \"ce\", \"lessons\", \"pupils\", \"english\", \"madame\", \"pas\", \"desk\", \"beck\", \"school\", \"la\", \"st\", \"hand\", \"french\", \"et\", \"little\", \"like\", \"work\", \"eye\", \"heart\", \"thought\", \"eyes\", \"day\", \"good\", \"know\", \"knew\", \"looked\", \"time\", \"long\", \"life\", \"night\", \"face\", \"man\", \"felt\", \"saw\", \"took\", \"think\", \"half\", \"door\", \"look\", \"house\", \"shall\", \"room\", \"briggs\", \"tynedale\", \"lynn\", \"varens\", \"dent\", \"pledge\", \"lighting\", \"seed\", \"sophie\", \"furrowed\", \"eshton\", \"disk\", \"sped\", \"celine\", \"ingram\", \"roman\", \"nightmare\", \"chafed\", \"blond\", \"mason\", \"oriental\", \"necks\", \"lunatic\", \"precocious\", \"reminiscences\", \"dart\", \"janet\", \"thornfield\", \"rochester\", \"tap\", \"eyre\", \"adele\", \"millcote\", \"passengers\", \"missis\", \"poole\", \"blew\", \"curtain\", \"sir\", \"bassompierre\", \"satin\", \"ll\", \"fairy\", \"bretton\", \"hall\", \"gateshead\", \"ve\", \"reed\", \"like\", \"face\", \"bessie\", \"jane\", \"old\", \"eyes\", \"night\", \"little\", \"yes\", \"come\", \"room\", \"john\", \"years\", \"look\", \"thought\", \"think\", \"child\", \"good\", \"looked\", \"saw\", \"long\", \"miss\", \"shall\", \"know\", \"time\", \"day\", \"came\", \"house\", \"lady\", \"heard\", \"man\", \"elton\", \"harriet\", \"martin\", \"campbell\", \"hawkins\", \"nash\", \"vicarage\", \"eltons\", \"abbey\", \"martins\", \"bates\", \"dixon\", \"cole\", \"campbells\", \"goddard\", \"charade\", \"perry\", \"littleness\", \"bragge\", \"selina\", \"boarder\", \"maple\", \"unsuspected\", \"surprize\", \"knightleys\", \"smallridge\", \"suckling\", \"emma\", \"connexion\", \"grandmama\", \"woodhouse\", \"knightley\", \"hartfield\", \"highbury\", \"churchill\", \"smith\", \"donwell\", \"frank\", \"surprized\", \"fairfax\", \"weston\", \"body\", \"thing\", \"miss\", \"jane\", \"extremely\", \"randalls\", \"friend\", \"dear\", \"think\", \"oh\", \"good\", \"little\", \"great\", \"know\", \"thought\", \"time\", \"sure\", \"soon\", \"man\", \"young\", \"like\", \"winding\", \"drenched\", \"eighty\", \"inscription\", \"pervaded\", \"flinging\", \"jacket\", \"unnumbered\", \"scrutinised\", \"load\", \"trampled\", \"achieve\", \"alfred\", \"visionary\", \"treading\", \"orb\", \"grenier\", \"sworn\", \"latticed\", \"venerable\", \"temple\", \"boulevard\", \"extending\", \"malady\", \"nests\", \"paved\", \"slate\", \"porte\", \"royal\", \"cultivated\", \"miller\", \"dormitory\", \"helen\", \"turf\", \"refectory\", \"nun\", \"wall\", \"burns\", \"fragments\", \"brocklehurst\", \"drops\", \"oak\", \"horizon\", \"midnight\", \"signal\", \"prayer\", \"fields\", \"stars\", \"hollow\", \"dim\", \"sun\", \"city\", \"inn\", \"wind\", \"ghost\", \"night\", \"deep\", \"light\", \"high\", \"garden\", \"door\", \"dark\", \"round\", \"sound\", \"madame\", \"stood\", \"white\", \"black\", \"heaven\", \"trees\", \"long\", \"strange\", \"like\", \"rose\", \"sky\", \"thought\", \"clock\", \"far\", \"house\", \"day\", \"looked\", \"saw\", \"time\", \"came\", \"room\", \"little\", \"come\", \"great\", \"life\", \"hour\", \"heard\", \"miss\", \"eyes\", \"went\", \"moment\", \"felt\", \"hand\", \"know\", \"jennings\", \"marianne\", \"middleton\", \"elinor\", \"barton\", \"brandon\", \"ferrars\", \"willoughby\", \"delaford\", \"margaret\", \"palmer\", \"cleveland\", \"dashwoods\", \"devonshire\", \"dashwood\", \"berkeley\", \"middletons\", \"steeles\", \"steele\", \"fanny\", \"allenham\", \"harley\", \"combe\", \"exeter\", \"norland\", \"longstaple\", \"sussex\", \"conduit\", \"enquire\", \"bartlett\", \"edward\", \"palmers\", \"magna\", \"cottage\", \"tomorrow\", \"colonel\", \"lucy\", \"sister\", \"mother\", \"john\", \"engagement\", \"town\", \"lady\", \"time\", \"thing\", \"house\", \"soon\", \"heart\", \"sir\", \"know\", \"think\", \"moment\", \"day\", \"good\", \"miss\", \"saw\", \"room\", \"causeway\", \"auburn\", \"sire\", \"warren\", \"benefactress\", \"graham\", \"polly\", \"elders\", \"retiring\", \"jack\", \"criminal\", \"pit\", \"signified\", \"tramp\", \"rocking\", \"heights\", \"whip\", \"commented\", \"suggestive\", \"papa\", \"eyelids\", \"turk\", \"couldn\", \"influences\", \"naughty\", \"foam\", \"proves\", \"doll\", \"pony\", \"extremities\", \"lingered\", \"gallery\", \"snowe\", \"echoed\", \"bretton\", \"horse\", \"boy\", \"knee\", \"paulina\", \"dr\", \"tales\", \"door\", \"reed\", \"lucy\", \"adele\", \"staircase\", \"little\", \"child\", \"hand\", \"descended\", \"letter\", \"like\", \"hall\", \"asked\", \"know\", \"come\", \"rochester\", \"yes\", \"room\", \"sat\", \"john\", \"think\", \"shall\", \"good\", \"long\", \"came\", \"tell\", \"heard\", \"thought\", \"eyes\", \"time\", \"bondage\", \"perishing\", \"withered\", \"blot\", \"panels\", \"remorse\", \"legitimate\", \"bloody\", \"revolted\", \"fiend\", \"divert\", \"resulting\", \"unclose\", \"shudder\", \"granite\", \"inflicting\", \"avert\", \"wipe\", \"hag\", \"nations\", \"transformed\", \"chink\", \"robes\", \"mysteries\", \"purer\", \"woes\", \"err\", \"tractable\", \"organs\", \"simpleton\", \"sets\", \"breadth\", \"pilot\", \"cultivate\", \"piqued\", \"mason\", \"sir\", \"blood\", \"delusion\", \"water\", \"eyre\", \"faculty\", \"doctor\", \"terrasse\", \"glass\", \"lips\", \"error\", \"right\", \"heart\", \"jane\", \"like\", \"life\", \"rochester\", \"act\", \"thought\", \"man\", \"head\", \"know\", \"good\", \"speak\", \"face\", \"look\", \"eyes\", \"feeling\", \"night\", \"voice\", \"long\", \"old\", \"seen\", \"think\", \"half\", \"come\", \"time\", \"little\", \"day\", \"abbot\", \"lloyd\", \"bessie\", \"paintings\", \"refreshments\", \"punished\", \"settlement\", \"nailed\", \"scatcherd\", \"embers\", \"apothecary\", \"sarah\", \"consecration\", \"malicious\", \"dislikes\", \"vicar\", \"reported\", \"chastisement\", \"presentiment\", \"boards\", \"handling\", \"strings\", \"brightly\", \"crushing\", \"nursery\", \"reed\", \"greek\", \"glare\", \"liberally\", \"pleasantest\", \"burns\", \"missis\", \"gateshead\", \"mama\", \"crib\", \"georgiana\", \"dread\", \"meals\", \"regions\", \"school\", \"plate\", \"cruel\", \"like\", \"miss\", \"sewing\", \"room\", \"gathered\", \"book\", \"long\", \"truth\", \"putting\", \"child\", \"thought\", \"poor\", \"severe\", \"passed\", \"young\", \"saw\", \"felt\", \"good\", \"day\", \"heard\", \"little\", \"night\", \"half\", \"rivet\", \"institution\", \"patty\", \"baked\", \"lend\", \"job\", \"ostensible\", \"apples\", \"lowton\", \"parcels\", \"apple\", \"womanly\", \"bedtime\", \"ford\", \"herd\", \"spectacles\", \"purchases\", \"lisped\", \"tablet\", \"sympathies\", \"chatter\", \"pattern\", \"hears\", \"herald\", \"mission\", \"waiter\", \"coarseness\", \"polish\", \"joyfully\", \"intimating\", \"pet\", \"amy\", \"whim\", \"prolonged\", \"shy\", \"papa\", \"ingram\", \"polly\", \"post\", \"office\", \"shop\", \"paulina\", \"new\", \"miss\", \"aspect\", \"eshton\", \"little\", \"bretton\", \"like\", \"mary\", \"came\", \"dr\", \"thought\", \"come\", \"day\", \"years\", \"returned\", \"want\", \"mother\", \"think\", \"lady\", \"heard\", \"oh\", \"look\", \"half\", \"took\", \"yes\", \"door\", \"tell\", \"know\", \"old\", \"good\", \"room\", \"fathers\", \"dancer\", \"semicircle\", \"contemplated\", \"maintaining\", \"panels\", \"vases\", \"disparity\", \"understands\", \"soliloquy\", \"sold\", \"amazing\", \"lessened\", \"hire\", \"glimpses\", \"privations\", \"threatening\", \"terribly\", \"piled\", \"dancing\", \"matches\", \"leah\", \"recommendations\", \"fifth\", \"grapes\", \"handled\", \"partner\", \"draughts\", \"dances\", \"develop\", \"april\", \"couple\", \"dance\", \"gets\", \"crowd\", \"room\", \"crown\", \"way\", \"thought\", \"ball\", \"door\", \"pictures\", \"frank\", \"minutes\", \"passage\", \"like\", \"churchill\", \"day\", \"crimsworth\", \"weston\", \"clock\", \"word\", \"better\", \"time\", \"emma\", \"little\", \"bed\", \"know\", \"wonder\", \"set\", \"long\", \"harriet\", \"good\", \"great\", \"hope\", \"evening\", \"miss\", \"came\", \"oh\", \"fifine\", \"desiree\", \"consistency\", \"cries\", \"liar\", \"surgeon\", \"augusta\", \"intentionally\", \"dejected\", \"unaccountably\", \"manager\", \"palate\", \"admirably\", \"feigned\", \"bandaged\", \"vices\", \"preoccupied\", \"turk\", \"perils\", \"commonest\", \"adieus\", \"antagonist\", \"personages\", \"conformity\", \"ordinarily\", \"infirm\", \"holland\", \"launched\", \"ca\", \"froid\", \"brocklehurst\", \"robust\", \"doctor\", \"fossette\", \"madame\", \"reed\", \"substitute\", \"promptly\", \"child\", \"thirty\", \"mamma\", \"rue\", \"complain\", \"portress\", \"containing\", \"dr\", \"physician\", \"madam\", \"nursery\", \"illness\", \"bien\", \"age\", \"eye\", \"work\", \"good\", \"beck\", \"day\", \"little\", \"bed\", \"hand\", \"room\", \"looked\", \"english\", \"arm\", \"air\", \"like\", \"mother\", \"john\", \"came\", \"woman\", \"young\", \"new\", \"sermon\", \"fifth\", \"precept\", \"monitor\", \"chapters\", \"protestants\", \"rome\", \"creed\", \"drooping\", \"relatives\", \"clay\", \"dejected\", \"thrusting\", \"patron\", \"performances\", \"exceeded\", \"ciel\", \"heap\", \"fathers\", \"paralysed\", \"summits\", \"romanism\", \"magi\", \"cultivated\", \"fervid\", \"reine\", \"purer\", \"protect\", \"hardships\", \"criminal\", \"holy\", \"spiritual\", \"remainder\", \"church\", \"fold\", \"silas\", \"pere\", \"director\", \"march\", \"september\", \"works\", \"forward\", \"schoolroom\", \"helen\", \"strange\", \"shoes\", \"god\", \"glory\", \"example\", \"bread\", \"feet\", \"little\", \"half\", \"high\", \"heart\", \"time\", \"great\", \"evening\", \"looked\", \"way\", \"strong\", \"power\", \"girls\", \"men\", \"come\", \"good\", \"cold\", \"world\", \"thought\", \"like\", \"miss\", \"hour\", \"slavery\", \"insane\", \"moss\", \"clay\", \"aching\", \"unselfish\", \"dilated\", \"thirdly\", \"embracing\", \"flaming\", \"frequented\", \"sanctioned\", \"crimsoned\", \"philanthropy\", \"brittle\", \"strained\", \"realized\", \"chimneys\", \"ominous\", \"maniac\", \"accursed\", \"comply\", \"captive\", \"abide\", \"frail\", \"opens\", \"serving\", \"beech\", \"vapid\", \"verdure\", \"assigned\", \"lane\", \"maid\", \"abundance\", \"grasp\", \"torture\", \"vandenhuten\", \"region\", \"wicked\", \"fate\", \"void\", \"injured\", \"live\", \"death\", \"individual\", \"hunsden\", \"wood\", \"monsieur\", \"principles\", \"lawn\", \"eye\", \"residence\", \"old\", \"jane\", \"wild\", \"heart\", \"strength\", \"voice\", \"soul\", \"consider\", \"glance\", \"love\", \"look\", \"hand\", \"man\", \"come\", \"like\", \"mean\", \"end\", \"rose\", \"wife\", \"nature\", \"years\", \"know\", \"left\", \"looked\", \"shall\", \"tell\", \"house\", \"oh\", \"gone\", \"driver\", \"carlo\", \"stile\", \"develop\", \"joyfully\", \"intimating\", \"whitcross\", \"overtaken\", \"conducting\", \"meets\", \"imply\", \"population\", \"dubious\", \"unchanged\", \"vases\", \"patted\", \"chilled\", \"coast\", \"cursed\", \"steadfast\", \"leader\", \"fluency\", \"elixir\", \"lantern\", \"bonnets\", \"firelight\", \"shift\", \"glee\", \"pagan\", \"sworn\", \"hannah\", \"rosamond\", \"diana\", \"inform\", \"parlour\", \"home\", \"scattered\", \"charm\", \"merry\", \"mary\", \"rochester\", \"noon\", \"oliver\", \"st\", \"sir\", \"event\", \"added\", \"domestic\", \"soon\", \"return\", \"better\", \"coming\", \"adele\", \"saw\", \"fairfax\", \"like\", \"john\", \"night\", \"master\", \"power\", \"words\", \"glad\", \"feeling\", \"happiness\", \"asked\", \"yes\", \"jane\", \"tell\", \"little\", \"half\", \"come\", \"door\", \"till\", \"morning\"], \"Total\": [915.0, 1718.0, 694.0, 1323.0, 1542.0, 573.0, 1352.0, 931.0, 1142.0, 561.0, 873.0, 1053.0, 409.0, 588.0, 1313.0, 1429.0, 1313.0, 920.0, 827.0, 935.0, 773.0, 488.0, 697.0, 415.0, 653.0, 686.0, 901.0, 615.0, 449.0, 286.0, 395.2492370605469, 307.0870056152344, 290.9613342285156, 170.52894592285156, 613.5355834960938, 184.76246643066406, 162.92459106445312, 124.09951782226562, 90.93408966064453, 84.26985931396484, 70.04141235351562, 67.19082641601562, 54.87910079956055, 51.088504791259766, 47.2831916809082, 92.78527069091797, 37.81441116333008, 39.70235061645508, 37.817935943603516, 34.954803466796875, 30.225622177124023, 31.182544708251953, 24.537439346313477, 23.59900665283203, 71.19712829589844, 23.567739486694336, 14.106553077697754, 14.110733032226562, 15.061923027038574, 13.161086082458496, 15.061301231384277, 108.73821258544922, 48.71425247192383, 53.21017074584961, 35.05058288574219, 374.1819763183594, 181.29783630371094, 149.72470092773438, 177.14364624023438, 578.328125, 504.0478515625, 283.1705322265625, 593.7144775390625, 180.14414978027344, 419.30389404296875, 1429.4061279296875, 1542.156005859375, 920.1072387695312, 931.3893432617188, 826.53955078125, 1313.2420654296875, 901.8005981445312, 1352.800048828125, 922.1502075195312, 615.2029418945312, 1313.6881103515625, 617.2501831054688, 504.531494140625, 346.9346008300781, 1718.1234130859375, 663.6423950195312, 1053.6240234375, 518.4295654296875, 662.836181640625, 873.5498046875, 678.07421875, 807.0403442382812, 1142.7156982421875, 935.1754150390625, 118.62776947021484, 286.2934875488281, 56.227420806884766, 20.972455978393555, 14.941544532775879, 29.02835464477539, 32.0362548828125, 17.934505462646484, 28.033056259155273, 115.62159729003906, 39.10014343261719, 48.1622200012207, 14.928885459899902, 26.99007797241211, 11.914266586303711, 12.920795440673828, 12.92367935180664, 12.910059928894043, 37.009788513183594, 9.902682304382324, 13.903203010559082, 9.900665283203125, 39.02756881713867, 10.897176742553711, 19.542383193969727, 12.91921615600586, 8.896328926086426, 12.913772583007812, 23.902023315429688, 187.1029510498047, 111.37223052978516, 80.37957000732422, 119.89153289794922, 112.00798034667969, 65.13082885742188, 48.17572021484375, 72.79289245605469, 108.85750579833984, 39.887657165527344, 121.71826934814453, 148.9247283935547, 64.69437408447266, 52.672386169433594, 66.13553619384766, 158.76358032226562, 231.31167602539062, 409.9209289550781, 61.5618896484375, 104.68180084228516, 165.52145385742188, 246.7987518310547, 106.96109008789062, 195.4085693359375, 615.0694580078125, 159.203125, 86.62210083007812, 1718.1234130859375, 1323.185302734375, 254.85272216796875, 396.2441711425781, 653.9967041015625, 1142.7156982421875, 636.976806640625, 1053.6240234375, 1352.800048828125, 1429.4061279296875, 548.4116821289062, 697.563232421875, 1313.6881103515625, 935.1754150390625, 582.0330200195312, 622.992431640625, 497.18096923828125, 901.8005981445312, 667.8905639648438, 773.8629150390625, 494.7320251464844, 1313.2420654296875, 587.6289672851562, 531.8104858398438, 639.5403442382812, 750.28564453125, 922.1502075195312, 873.5498046875, 15.424586296081543, 11.534089088439941, 20.04729461669922, 12.48891830444336, 28.56148338317871, 8.61100959777832, 6.6658735275268555, 6.668840408325195, 26.338655471801758, 6.66850471496582, 28.147497177124023, 5.69739294052124, 5.698093414306641, 14.38579273223877, 86.00227355957031, 5.686956405639648, 5.688074588775635, 5.675562381744385, 5.7004313468933105, 59.06816101074219, 5.694482803344727, 5.688579082489014, 10.449054718017578, 7.607412815093994, 5.721072673797607, 8.34030532836914, 19.82532501220703, 95.9513931274414, 350.0577087402344, 8.562087059020996, 98.3930892944336, 130.85333251953125, 27.899738311767578, 14.529552459716797, 19.64092254638672, 30.7302303314209, 13.56385326385498, 47.91641616821289, 588.8133544921875, 73.5591812133789, 30.606157302856445, 145.9290008544922, 37.170143127441406, 233.59669494628906, 168.24008178710938, 41.38310623168945, 48.751007080078125, 118.99359130859375, 1323.185302734375, 497.18096923828125, 118.9902572631836, 931.3893432617188, 481.8707580566406, 636.976806640625, 622.992431640625, 1718.1234130859375, 594.1691284179688, 827.333740234375, 873.5498046875, 622.6394653320312, 313.3421630859375, 639.5403442382812, 1142.7156982421875, 1313.2420654296875, 290.343505859375, 1352.800048828125, 697.563232421875, 773.8629150390625, 935.1754150390625, 1542.156005859375, 922.1502075195312, 1429.4061279296875, 1313.6881103515625, 1053.6240234375, 686.1185913085938, 750.28564453125, 615.2029418945312, 621.3623657226562, 901.8005981445312, 415.5052795410156, 561.3372802734375, 91.97578430175781, 55.64509201049805, 21.25009536743164, 14.873363494873047, 19.131370544433594, 24.46896743774414, 34.0450325012207, 14.809667587280273, 161.54661560058594, 47.78592300415039, 65.83415222167969, 28.601829528808594, 63.231231689453125, 25.493452072143555, 85.75962829589844, 6.235305309295654, 8.359159469604492, 11.543484687805176, 6.231605052947998, 33.84111022949219, 6.226685047149658, 39.806663513183594, 8.344354629516602, 11.527181625366211, 15.765992164611816, 915.197265625, 22.120227813720703, 14.26501750946045, 329.8855285644531, 409.6914978027344, 168.9003143310547, 132.32223510742188, 232.95816040039062, 121.85946655273438, 52.36337661743164, 246.72979736328125, 34.52187728881836, 388.1331787109375, 449.0382995605469, 288.6623840332031, 807.0403442382812, 1542.156005859375, 931.3893432617188, 104.89452362060547, 92.08564758300781, 442.7466735839844, 593.7144775390625, 1313.2420654296875, 561.5155029296875, 1352.800048828125, 1718.1234130859375, 826.53955078125, 1429.4061279296875, 1142.7156982421875, 1313.6881103515625, 617.2501831054688, 920.1072387695312, 901.8005981445312, 663.6423950195312, 1323.185302734375, 13.887195587158203, 6.873488426208496, 6.867376804351807, 7.87498140335083, 6.864983558654785, 5.868300437927246, 5.862013339996338, 5.869995594024658, 5.8588972091674805, 6.855960845947266, 5.865087985992432, 6.863537311553955, 19.969398498535156, 5.856143951416016, 5.868025302886963, 9.86197280883789, 10.863731384277344, 6.446290493011475, 6.809042453765869, 6.468766212463379, 74.00076293945312, 7.792513847351074, 7.818061351776123, 9.884845733642578, 9.855414390563965, 6.790686130523682, 9.388113975524902, 9.876152992248535, 10.757932662963867, 5.450011253356934, 24.50303840637207, 36.01696014404297, 61.693782806396484, 18.194656372070312, 19.950166702270508, 44.16703796386719, 76.73729705810547, 31.323123931884766, 10.903409957885742, 52.39223861694336, 17.869497299194336, 19.991479873657227, 16.676700592041016, 30.379070281982422, 15.680968284606934, 35.41565704345703, 43.37546920776367, 28.038990020751953, 44.966529846191406, 50.982688903808594, 105.50975799560547, 42.87345504760742, 43.85207748413086, 96.99470520019531, 27.552839279174805, 622.992431640625, 182.90843200683594, 306.0396728515625, 192.7460174560547, 175.75442504882812, 531.8104858398438, 226.49349975585938, 356.31060791015625, 157.76756286621094, 409.9209289550781, 325.1577453613281, 236.2218475341797, 182.01828002929688, 106.46699523925781, 110.89431762695312, 935.1754150390625, 251.46722412109375, 1323.185302734375, 230.24404907226562, 96.11894226074219, 1142.7156982421875, 131.73052978515625, 464.6241455078125, 750.28564453125, 1053.6240234375, 697.563232421875, 773.8629150390625, 1313.6881103515625, 686.1185913085938, 873.5498046875, 1718.1234130859375, 827.333740234375, 826.53955078125, 582.0330200195312, 434.02252197265625, 621.3623657226562, 1542.156005859375, 636.976806640625, 491.7345275878906, 580.5826416015625, 667.8905639648438, 615.0694580078125, 1429.4061279296875, 233.7635955810547, 573.8015747070312, 104.16575622558594, 694.0806274414062, 90.92527770996094, 146.5084228515625, 132.30250549316406, 219.35482788085938, 31.221330642700195, 37.314266204833984, 78.77462005615234, 28.171091079711914, 37.2581672668457, 27.166940689086914, 255.56936645507812, 18.058738708496094, 20.08045768737793, 31.203535079956055, 39.276100158691406, 49.34774398803711, 19.06159210205078, 17.029346466064453, 17.0223388671875, 16.015512466430664, 54.18564987182617, 8.937154769897461, 9.93842601776123, 7.922057628631592, 6.915180206298828, 6.914760112762451, 320.3552551269531, 10.929594993591309, 11.933878898620605, 86.39541625976562, 17.996129989624023, 307.8730773925781, 377.1476135253906, 578.328125, 662.836181640625, 622.6394653320312, 115.84748840332031, 235.76438903808594, 615.2029418945312, 1313.6881103515625, 807.0403442382812, 750.28564453125, 920.1072387695312, 653.9967041015625, 588.8133544921875, 1429.4061279296875, 1313.2420654296875, 580.5826416015625, 1053.6240234375, 1352.800048828125, 1542.156005859375, 773.8629150390625, 873.5498046875, 7.359984874725342, 6.436399459838867, 6.432314872741699, 8.296501159667969, 10.084124565124512, 212.68983459472656, 74.50758361816406, 5.517880916595459, 5.548677444458008, 6.524266242980957, 6.067431926727295, 6.515699863433838, 6.418343544006348, 8.159623146057129, 5.53056526184082, 6.506555557250977, 8.428410530090332, 5.605776309967041, 5.56612491607666, 162.96099853515625, 7.425616264343262, 5.321329593658447, 6.494328022003174, 7.549561500549316, 11.991365432739258, 5.553003311157227, 5.547760486602783, 20.40252113342285, 7.504589080810547, 5.593360424041748, 21.518709182739258, 39.50019073486328, 58.10126876831055, 12.09322738647461, 233.59669494628906, 60.8767204284668, 67.00769805908203, 54.5527229309082, 80.57398986816406, 229.73873901367188, 16.925024032592773, 531.8104858398438, 118.99359130859375, 377.1476135253906, 130.85333251953125, 48.47688293457031, 1718.1234130859375, 290.343505859375, 615.0694580078125, 42.770912170410156, 419.30389404296875, 1323.185302734375, 168.24008178710938, 394.26324462890625, 1429.4061279296875, 827.333740234375, 350.0577087402344, 594.1691284179688, 873.5498046875, 367.4798278808594, 622.6394653320312, 1313.2420654296875, 922.1502075195312, 1352.800048828125, 935.1754150390625, 686.1185913085938, 538.444580078125, 621.3623657226562, 1142.7156982421875, 636.976806640625, 1313.6881103515625, 5.283730506896973, 6.256824493408203, 6.320559024810791, 5.282318592071533, 5.683898448944092, 14.669269561767578, 6.325730323791504, 7.342403888702393, 6.480023384094238, 7.121099472045898, 5.370607376098633, 7.546461582183838, 5.486324310302734, 5.509271621704102, 8.28048324584961, 5.656238555908203, 7.325135231018066, 6.443724632263184, 5.2688093185424805, 7.501217365264893, 8.904090881347656, 6.017291069030762, 5.4794230461120605, 5.6022162437438965, 5.736846923828125, 6.1015448570251465, 11.144749641418457, 6.431368350982666, 6.330348014831543, 12.163766860961914, 6.525285720825195, 13.172834396362305, 23.012908935546875, 10.4071626663208, 9.244892120361328, 59.06816101074219, 588.8133544921875, 88.13343048095703, 15.64103889465332, 111.38107299804688, 98.3930892944336, 23.17307472229004, 46.55745315551758, 18.162288665771484, 118.52469635009766, 192.91038513183594, 36.9948844909668, 359.2731018066406, 653.9967041015625, 931.3893432617188, 1323.185302734375, 582.0330200195312, 350.0577087402344, 85.60624694824219, 1142.7156982421875, 901.8005981445312, 407.34552001953125, 1429.4061279296875, 1352.800048828125, 446.4450988769531, 497.18096923828125, 639.5403442382812, 636.976806640625, 281.49969482421875, 622.992431640625, 395.9463806152344, 935.1754150390625, 481.8707580566406, 446.797119140625, 1313.2420654296875, 587.6289672851562, 827.333740234375, 1313.6881103515625, 1718.1234130859375, 1053.6240234375, 21.834142684936523, 11.13333797454834, 118.9902572631836, 5.204783916473389, 5.4289069175720215, 5.445877552032471, 5.4275617599487305, 6.17352294921875, 22.168643951416016, 7.434061050415039, 9.224279403686523, 6.418497562408447, 5.566956996917725, 6.417088985443115, 6.299130916595459, 6.625735282897949, 5.582921028137207, 5.473621845245361, 7.067626476287842, 11.039368629455566, 6.359155178070068, 7.2834272384643555, 7.5404205322265625, 6.335501670837402, 42.626224517822266, 118.99359130859375, 12.091882705688477, 8.463854789733887, 6.363475799560547, 8.508041381835938, 31.323123931884766, 19.64092254638672, 41.38310623168945, 46.57923126220703, 15.9889554977417, 57.316070556640625, 56.44822311401367, 13.4757661819458, 11.270002365112305, 246.7987518310547, 29.637731552124023, 55.4455451965332, 1323.185302734375, 1542.156005859375, 16.6571044921875, 873.5498046875, 59.52878189086914, 165.6092529296875, 935.1754150390625, 207.99290466308594, 61.94043731689453, 290.343505859375, 1142.7156982421875, 394.0641784667969, 72.36951446533203, 384.5515441894531, 663.6423950195312, 773.8629150390625, 667.8905639648438, 1352.800048828125, 1053.6240234375, 621.3623657226562, 1718.1234130859375, 622.992431640625, 587.6289672851562, 7.832906723022461, 11.090806007385254, 11.668330192565918, 14.697545051574707, 6.796103000640869, 6.973058700561523, 5.166861057281494, 22.98504638671875, 10.864274024963379, 8.021512031555176, 15.774481773376465, 7.136499404907227, 5.946174621582031, 16.15973663330078, 6.197571277618408, 20.772539138793945, 6.319493770599365, 7.280618190765381, 7.346823215484619, 10.963004112243652, 8.112339973449707, 15.558403015136719, 7.523533821105957, 8.371031761169434, 8.376424789428711, 13.144091606140137, 8.330142974853516, 6.159080505371094, 5.012226104736328, 5.150278091430664, 10.064523696899414, 10.112950325012207, 10.255284309387207, 15.945902824401855, 24.487817764282227, 162.96099853515625, 86.00227355957031, 74.50758361816406, 78.42192840576172, 51.5510139465332, 33.65543746948242, 80.57398986816406, 291.30645751953125, 1542.156005859375, 60.872154235839844, 28.147497177124023, 1718.1234130859375, 233.59669494628906, 1323.185302734375, 143.29209899902344, 686.1185913085938, 229.73873901367188, 1142.7156982421875, 827.333740234375, 1053.6240234375, 313.3421630859375, 236.13059997558594, 324.6850280761719, 662.836181640625, 1313.2420654296875, 615.2029418945312, 621.3623657226562, 561.5155029296875, 639.5403442382812, 587.6289672851562, 494.7320251464844, 594.1691284179688, 531.8104858398438, 538.444580078125, 1429.4061279296875, 481.8707580566406, 1352.800048828125, 873.5498046875, 5.395330905914307, 5.805433750152588, 6.689870834350586, 5.093637943267822, 5.206700801849365, 5.683898448944092, 5.743052005767822, 7.245266914367676, 6.001455783843994, 6.21390438079834, 16.0082950592041, 6.920137882232666, 7.2118449211120605, 5.304721832275391, 7.218072414398193, 7.314162254333496, 10.760123252868652, 6.396378993988037, 7.779817581176758, 63.821861267089844, 7.950093746185303, 24.65154457092285, 7.134529113769531, 4.665364742279053, 9.100239753723145, 9.220823287963867, 37.13417434692383, 6.11196231842041, 17.728219985961914, 5.040637969970703, 13.616949081420898, 45.690834045410156, 79.52043151855469, 15.575180053710938, 34.96675109863281, 873.5498046875, 42.00466537475586, 686.7095947265625, 1142.7156982421875, 85.02457427978516, 531.8104858398438, 42.31140899658203, 246.72979736328125, 290.3052062988281, 63.06941223144531, 1323.185302734375, 232.95816040039062, 1053.6240234375, 97.40390014648438, 449.0382995605469, 131.73052978515625, 396.9488220214844, 613.0647583007812, 1313.6881103515625, 915.197265625, 1718.1234130859375, 218.6383056640625, 1429.4061279296875, 206.36669921875, 265.8678283691406, 935.1754150390625, 561.3372802734375, 1352.800048828125, 826.53955078125, 504.531494140625, 483.35650634765625, 1542.156005859375, 686.1185913085938, 561.5155029296875, 10.721370697021484, 16.769363403320312, 7.6527299880981445, 6.237708568572998, 7.80600643157959, 13.24030590057373, 9.117457389831543, 5.04990291595459, 5.0822367668151855, 5.117563724517822, 5.15811824798584, 5.194641590118408, 5.185107231140137, 10.139181137084961, 5.252597808837891, 5.283121109008789, 5.215193271636963, 5.321329593658447, 5.371447563171387, 5.388601303100586, 5.325136184692383, 5.435611724853516, 5.499165058135986, 5.487456321716309, 5.497719764709473, 5.515066146850586, 5.5197343826293945, 5.5102925300598145, 5.5552167892456055, 5.558673858642578, 52.39223861694336, 13.110417366027832, 46.55745315551758, 48.829681396484375, 409.9209289550781, 118.99359130859375, 15.240752220153809, 15.585474014282227, 290.343505859375, 47.53334045410156, 65.01528930664062, 72.69073486328125, 16.732778549194336, 17.291975021362305, 17.213117599487305, 229.73873901367188, 17.970375061035156, 66.3884048461914, 42.626224517822266, 40.839874267578125, 48.17572021484375, 117.25942993164062, 396.2441711425781, 254.85272216796875, 1352.800048828125, 165.52145385742188, 1053.6240234375, 1718.1234130859375, 218.6383056640625, 615.0694580078125, 873.5498046875, 697.563232421875, 231.31167602539062, 115.73432159423828, 265.1517028808594, 1323.185302734375, 662.836181640625, 622.6394653320312, 686.1185913085938, 477.2165832519531, 663.6423950195312, 291.30645751953125, 7.111663341522217, 4.665364742279053, 5.029220104217529, 6.032912254333496, 7.029016971588135, 7.045688629150391, 20.41509246826172, 15.032418251037598, 8.81763744354248, 9.151198387145996, 5.040867328643799, 5.0822367668151855, 5.17202091217041, 5.210003852844238, 5.24117374420166, 5.300156593322754, 5.288692474365234, 5.386714458465576, 5.395330905914307, 5.413541316986084, 5.442914962768555, 5.448889255523682, 5.449801445007324, 5.450011253356934, 5.454555511474609, 5.4615983963012695, 5.736846923828125, 5.940353870391846, 6.023593902587891, 6.067431926727295, 12.991127967834473, 13.038224220275879, 13.76364803314209, 113.7383804321289, 14.021891593933105, 36.19139862060547, 39.187294006347656, 14.909884452819824, 27.821619033813477, 11.98657512664795, 21.96459197998047, 140.73501586914062, 56.41048812866211, 61.693782806396484, 251.46722412109375, 24.970611572265625, 227.63412475585938, 24.891582489013672, 26.383296966552734, 73.02179718017578, 89.20785522460938, 1718.1234130859375, 587.6289672851562, 192.7460174560547, 653.9967041015625, 1313.6881103515625, 826.53955078125, 483.35650634765625, 697.563232421875, 686.7095947265625, 242.33547973632812, 247.1612091064453, 164.12657165527344, 173.4071044921875, 827.333740234375, 1352.800048828125, 282.6329650878906, 411.15924072265625, 1142.7156982421875, 1323.185302734375, 1542.156005859375, 434.02252197265625, 5.908993721008301, 9.003316879272461, 9.558564186096191, 5.040867328643799, 5.135490417480469, 5.219806671142578, 5.251869201660156, 5.267632007598877, 5.3033766746521, 5.363089561462402, 5.353937149047852, 5.344610691070557, 5.4150071144104, 5.417824745178223, 5.399797439575195, 10.744053840637207, 10.943561553955078, 6.03889799118042, 6.107987403869629, 6.175503730773926, 6.247530460357666, 6.282468318939209, 6.265834808349609, 6.357824325561523, 6.37678861618042, 6.366505146026611, 6.3545427322387695, 6.409962177276611, 6.453575611114502, 6.429893493652344, 13.014735221862793, 46.98629379272461, 42.654788970947266, 16.963367462158203, 19.325353622436523, 20.609464645385742, 20.865938186645508, 21.340055465698242, 24.596220016479492, 59.94978713989258, 25.951669692993164, 26.549489974975586, 209.7851104736328, 134.1259002685547, 26.488672256469727, 148.9247283935547, 74.53455352783203, 286.2934875488281, 29.725021362304688, 30.54096031188965, 396.2441711425781, 32.58818817138672, 481.8707580566406, 931.3893432617188, 120.1075439453125, 653.9967041015625, 120.46121215820312, 395.9463806152344, 125.72738647460938, 141.92129516601562, 147.9759979248047, 567.9545288085938, 639.5403442382812, 615.0694580078125, 901.8005981445312, 827.333740234375, 1323.185302734375, 237.24435424804688, 241.35462951660156, 230.24404907226562, 277.1570129394531, 312.6165466308594, 313.3421630859375, 1429.4061279296875, 534.6260375976562, 697.563232421875, 922.1502075195312, 538.444580078125, 750.28564453125, 561.5155029296875, 344.46307373046875, 10.381264686584473, 8.019552230834961, 13.095824241638184, 5.040637969970703, 5.012226104736328, 5.150278091430664, 10.046631813049316, 5.203811168670654, 5.379284381866455, 5.260378360748291, 5.269647121429443, 5.267892360687256, 5.514885425567627, 10.783073425292969, 5.743052005767822, 5.898567199707031, 6.025393962860107, 6.135009288787842, 6.211901664733887, 6.283637523651123, 6.1927618980407715, 6.174995422363281, 6.318906784057617, 6.340496063232422, 6.358302116394043, 6.394039154052734, 6.419734954833984, 12.474860191345215, 6.442495346069336, 6.446290493011475, 38.91354751586914, 15.860231399536133, 73.95208740234375, 18.44888687133789, 78.07793426513672, 488.56451416015625, 24.602067947387695, 58.52555847167969, 25.948503494262695, 143.29209899902344, 350.0577087402344, 30.397418975830078, 30.011566162109375, 195.4085693359375, 588.8133544921875, 100.14395904541016, 227.61944580078125, 34.04087829589844, 920.1072387695312, 274.75762939453125, 613.0647583007812, 302.5262451171875, 130.85333251953125, 773.8629150390625, 388.1331787109375, 1323.185302734375, 622.6394653320312, 622.992431640625, 199.9693603515625, 247.1612091064453, 342.7373046875, 230.27513122558594, 281.49969482421875, 274.1859130859375, 394.26324462890625, 594.1691284179688, 931.3893432617188, 538.444580078125, 1718.1234130859375, 587.6289672851562, 827.333740234375, 531.8104858398438, 518.2389526367188, 513.078125], \"loglift\": [30.0, 29.0, 28.0, 27.0, 26.0, 25.0, 24.0, 23.0, 22.0, 21.0, 20.0, 19.0, 18.0, 17.0, 16.0, 15.0, 14.0, 13.0, 12.0, 11.0, 10.0, 9.0, 8.0, 7.0, 6.0, 5.0, 4.0, 3.0, 2.0, 1.0, 1.347499966621399, 1.347100019454956, 1.347000002861023, 1.3447999954223633, 1.3444000482559204, 1.344099998474121, 1.3423999547958374, 1.3415000438690186, 1.3398000001907349, 1.3396999835968018, 1.3381999731063843, 1.337499976158142, 1.3344999551773071, 1.3343000411987305, 1.3324999809265137, 1.3308000564575195, 1.3295999765396118, 1.3288999795913696, 1.3278000354766846, 1.3270000219345093, 1.3235000371932983, 1.3193000555038452, 1.317199945449829, 1.3142999410629272, 1.3137999773025513, 1.3114999532699585, 1.2935999631881714, 1.2934999465942383, 1.2927000522613525, 1.2879999876022339, 1.284600019454956, 1.2168999910354614, 1.2477999925613403, 1.218500018119812, 1.238800048828125, 1.0241999626159668, 1.0484000444412231, 1.0650999546051025, 1.0214999914169312, 0.7831000089645386, 0.8034999966621399, 0.8535000085830688, 0.656499981880188, 0.9297999739646912, 0.7009000182151794, 0.36309999227523804, 0.3264999985694885, 0.4659000039100647, 0.42399999499320984, 0.4514000117778778, 0.3012999892234802, 0.4011000096797943, 0.21279999613761902, 0.3580999970436096, 0.49399998784065247, 0.18240000307559967, 0.4693000018596649, 0.5333999991416931, 0.7010999917984009, -0.06700000166893005, 0.3880999982357025, 0.07980000227689743, 0.4401000142097473, 0.265500009059906, 0.06300000101327896, 0.23319999873638153, 0.08330000191926956, -0.23160000145435333, -0.0892999991774559, 1.4534000158309937, 1.4509999752044678, 1.4458999633789062, 1.440000057220459, 1.4332000017166138, 1.4330999851226807, 1.4323999881744385, 1.4321000576019287, 1.430899977684021, 1.4306999444961548, 1.4244999885559082, 1.4227999448776245, 1.4223999977111816, 1.4163000583648682, 1.4156999588012695, 1.4142999649047852, 1.4093999862670898, 1.4071999788284302, 1.4055999517440796, 1.405400037765503, 1.4043999910354614, 1.402400016784668, 1.4012000560760498, 1.4010000228881836, 1.4003000259399414, 1.3956999778747559, 1.3948999643325806, 1.3944000005722046, 1.392899990081787, 1.3919999599456787, 1.3913999795913696, 1.3867000341415405, 1.3782000541687012, 1.3696999549865723, 1.3770999908447266, 1.3803000450134277, 1.3704999685287476, 1.347599983215332, 1.375, 1.3104000091552734, 1.2793999910354614, 1.3288999795913696, 1.3272000551223755, 1.3021999597549438, 1.222100019454956, 1.1756999492645264, 1.089900016784668, 1.2822999954223633, 1.1836999654769897, 1.0221999883651733, 0.9085999727249146, 1.1151000261306763, 0.9366000294685364, 0.582099974155426, 0.9659000039100647, 1.1649999618530273, 0.11270000040531158, 0.16369999945163727, 0.7684000134468079, 0.5978999733924866, 0.36010000109672546, 0.08669999986886978, 0.2736000120639801, 0.030899999663233757, -0.1500999927520752, -0.1972000002861023, 0.290800005197525, 0.1606999933719635, -0.19189999997615814, -0.04839999973773956, 0.2126999944448471, 0.15839999914169312, 0.3068000078201294, -0.1145000010728836, 0.07599999755620956, -0.07090000063180923, 0.2678999900817871, -0.5928000211715698, 0.06610000133514404, 0.11900000274181366, -0.05350000038743019, -0.21469999849796295, -0.41530001163482666, -0.36230000853538513, 1.90339994430542, 1.8798999786376953, 1.8734999895095825, 1.8629000186920166, 1.8622000217437744, 1.8593000173568726, 1.8310999870300293, 1.8288999795913696, 1.8251999616622925, 1.82260000705719, 1.8108999729156494, 1.8107999563217163, 1.8087999820709229, 1.8080999851226807, 1.8028000593185425, 1.7996000051498413, 1.7954000234603882, 1.7934000492095947, 1.7920000553131104, 1.7898999452590942, 1.7898999452590942, 1.7896000146865845, 1.7860000133514404, 1.773900032043457, 1.75409996509552, 1.753999948501587, 1.7470999956130981, 1.7417000532150269, 1.7376999855041504, 1.7288000583648682, 1.7015000581741333, 1.6444000005722046, 1.688599944114685, 1.7171000242233276, 1.6833000183105469, 1.604599952697754, 1.680999994277954, 1.5018999576568604, 1.1304999589920044, 1.4371000528335571, 1.558500051498413, 1.2811000347137451, 1.5125999450683594, 1.1991000175476074, 1.2253999710083008, 1.4878000020980835, 1.432800054550171, 1.2156000137329102, 0.5238999724388123, 0.7813000082969666, 1.154099941253662, 0.5045999884605408, 0.7032999992370605, 0.5913000106811523, 0.5759999752044678, 0.20270000398159027, 0.5523999929428101, 0.4291999936103821, 0.3901999890804291, 0.48969998955726624, 0.7358999848365784, 0.4390000104904175, 0.1467999964952469, 0.061900001019239426, 0.7314000129699707, -0.0008999999845400453, 0.31529998779296875, 0.23600000143051147, 0.11299999803304672, -0.1606999933719635, 0.10589999705553055, -0.21950000524520874, -0.18539999425411224, -0.05460000038146973, 0.13249999284744263, 0.05040000006556511, 0.20229999721050262, 0.18170000612735748, -0.17550000548362732, 2.165600061416626, 2.154099941253662, 2.1510000228881836, 2.1503000259399414, 2.147900104522705, 2.1465001106262207, 2.1359000205993652, 2.1282999515533447, 2.1182000637054443, 2.1171998977661133, 2.1054000854492188, 2.093400001525879, 2.0894999504089355, 2.089400053024292, 2.0810000896453857, 2.075900077819824, 2.072000026702881, 2.070499897003174, 2.0701000690460205, 2.0687999725341797, 2.06820011138916, 2.0676000118255615, 2.0666000843048096, 2.0599000453948975, 2.0564000606536865, 2.0560998916625977, 2.0552000999450684, 2.052799940109253, 2.0527000427246094, 2.044800043106079, 2.02620005607605, 2.0046000480651855, 2.0083000659942627, 1.9830000400543213, 1.926900029182434, 1.9255000352859497, 1.9752999544143677, 1.868299961090088, 1.9967999458312988, 1.7271000146865845, 1.7023999691009521, 1.5878000259399414, 1.2116999626159668, 1.0247000455856323, 0.8707000017166138, 1.6095000505447388, 1.645799994468689, 1.054800033569336, 0.9014999866485596, 0.5562999844551086, 0.847000002861023, 0.4088999927043915, 0.1429000049829483, 0.5181999802589417, 0.14259999990463257, 0.24160000681877136, 0.13539999723434448, 0.5683000087738037, 0.27219998836517334, 0.257099986076355, 0.48559999465942383, -0.1754000037908554, 2.273400068283081, 2.24780011177063, 2.2402000427246094, 2.237600088119507, 2.2304000854492188, 2.2262001037597656, 2.222399950027466, 2.2184998989105225, 2.218400001525879, 2.213200092315674, 2.2126998901367188, 2.2035999298095703, 2.1689000129699707, 2.1519999504089355, 2.149199962615967, 2.1438000202178955, 2.1368000507354736, 2.1326000690460205, 2.1280999183654785, 2.125999927520752, 2.1196000576019287, 2.1180999279022217, 2.116300106048584, 2.1003000736236572, 2.094599962234497, 2.0920000076293945, 2.091900110244751, 2.0869998931884766, 2.075900077819824, 2.0745999813079834, 2.0653998851776123, 2.0397000312805176, 2.012399911880493, 2.0587000846862793, 2.0459001064300537, 1.9681999683380127, 1.8499000072479248, 1.9397000074386597, 2.073199987411499, 1.8595000505447388, 1.9912999868392944, 1.969099998474121, 1.999500036239624, 1.8808000087738037, 2.002700090408325, 1.8209999799728394, 1.7761000394821167, 1.8600000143051147, 1.742400050163269, 1.7038999795913696, 1.5206999778747559, 1.725100040435791, 1.7177000045776367, 1.4943000078201294, 1.8422000408172607, 0.9200000166893005, 1.2467000484466553, 1.079699993133545, 1.225000023841858, 1.250599980354309, 0.8931999802589417, 1.1597000360488892, 0.9980999827384949, 1.2476999759674072, 0.8615999817848206, 0.9451000094413757, 1.065000057220459, 1.1598999500274658, 1.3726999759674072, 1.354099988937378, 0.40709999203681946, 0.9760000109672546, 0.2184000015258789, 0.9998999834060669, 1.4031000137329102, 0.12880000472068787, 1.2236000299453735, 0.5789999961853027, 0.2777999937534332, 0.0820000022649765, 0.31040000915527344, 0.23639999330043793, -0.11680000275373459, 0.26840001344680786, 0.09109999984502792, -0.3569999933242798, 0.027000000700354576, 0.016699999570846558, 0.27399998903274536, 0.4934999942779541, 0.18799999356269836, -0.5663999915122986, 0.13030000030994415, 0.3578999936580658, 0.20100000500679016, 0.06689999997615814, 0.14190000295639038, -0.6926000118255615, 2.422600030899048, 2.4214000701904297, 2.4214000701904297, 2.419100046157837, 2.415800094604492, 2.4142000675201416, 2.4126999378204346, 2.407599925994873, 2.4047999382019043, 2.4045000076293945, 2.403899908065796, 2.395400047302246, 2.394399881362915, 2.3938000202178955, 2.3924999237060547, 2.3915998935699463, 2.389400005340576, 2.3880999088287354, 2.3842999935150146, 2.382200002670288, 2.3798000812530518, 2.3768999576568604, 2.3626999855041504, 2.3606998920440674, 2.3515000343322754, 2.3304998874664307, 2.329200029373169, 2.3180999755859375, 2.3178000450134277, 2.317699909210205, 2.244800090789795, 2.306299924850464, 2.302000045776367, 2.1201999187469482, 2.2492001056671143, 1.7992000579833984, 1.7211999893188477, 1.426200032234192, 1.248900055885315, 0.9210000038146973, 1.5549999475479126, 1.2315000295639038, 0.7207000255584717, 0.3490000069141388, 0.5475999712944031, 0.5389999747276306, 0.39719998836517334, 0.5651000142097473, 0.5656999945640564, -0.04179999977350235, 0.006599999964237213, 0.5234000086784363, 0.08399999886751175, -0.15929999947547913, -0.28060001134872437, 0.24480000138282776, 0.09679999947547913, 2.9885001182556152, 2.9458999633789062, 2.893199920654297, 2.874000072479248, 2.7813000679016113, 2.76200008392334, 2.7320001125335693, 2.7202999591827393, 2.7184998989105225, 2.717900037765503, 2.7118000984191895, 2.698699951171875, 2.648099899291992, 2.6410000324249268, 2.5961999893188477, 2.592900037765503, 2.5905001163482666, 2.58870005607605, 2.571700096130371, 2.570199966430664, 2.5448999404907227, 2.5411999225616455, 2.5280001163482666, 2.5179998874664307, 2.517899990081787, 2.4921998977661133, 2.485300064086914, 2.484999895095825, 2.4719998836517334, 2.46589994430542, 2.458699941635132, 2.357800006866455, 2.321700096130371, 2.4293999671936035, 1.9986000061035156, 2.048799991607666, 2.0160000324249268, 2.0288000106811523, 1.8553999662399292, 1.4666999578475952, 2.2737998962402344, 1.0785000324249268, 1.5951999425888062, 1.1900999546051025, 1.5570000410079956, 1.899899959564209, 0.5325000286102295, 1.166100025177002, 0.7767999768257141, 1.8912999629974365, 0.8859000205993652, 0.3637999892234802, 1.2755000591278076, 0.8366000056266785, 0.17990000545978546, 0.4465999901294708, 0.8583999872207642, 0.573199987411499, 0.3619000017642975, 0.8217999935150146, 0.5055000185966492, 0.04740000143647194, 0.1965000033378601, -0.05739999935030937, 0.13650000095367432, 0.34209999442100525, 0.5066999793052673, 0.3995000123977661, -0.15360000729560852, 0.28999999165534973, -0.3156000077724457, 3.82069993019104, 3.6552999019622803, 3.5947000980377197, 3.531399965286255, 3.4623000621795654, 3.439199924468994, 3.2797999382019043, 3.2156999111175537, 3.1498000621795654, 3.1426000595092773, 3.132200002670288, 3.1233999729156494, 3.1117000579833984, 3.101599931716919, 3.084199905395508, 3.077500104904175, 3.0764999389648438, 3.0759999752044678, 3.0687999725341797, 3.0306999683380127, 3.0292999744415283, 3.018899917602539, 3.017899990081787, 3.012200117111206, 3.001300096511841, 2.981100082397461, 2.969599962234497, 2.947499990463257, 2.9407999515533447, 2.9407999515533447, 2.940000057220459, 2.902899980545044, 2.7511000633239746, 2.8687000274658203, 2.8619000911712646, 2.2816998958587646, 1.5530999898910522, 2.0546000003814697, 2.6679000854492188, 1.9078999757766724, 1.9111000299453735, 2.491499900817871, 2.1888999938964844, 2.591900110244751, 1.7101000547409058, 1.4788999557495117, 2.2492001056671143, 1.0958000421524048, 0.7142999768257141, 0.5228000283241272, 0.21940000355243683, 0.6474000215530396, 0.9254000186920166, 1.726099967956543, 0.21410000324249268, 0.31540000438690186, 0.7900999784469604, 0.023800000548362732, 0.025699999183416367, 0.7128000259399414, 0.6456000208854675, 0.47189998626708984, 0.4401000142097473, 0.9606999754905701, 0.36809998750686646, 0.6227999925613403, -0.025800000876188278, 0.44830000400543213, 0.5034000277519226, -0.30550000071525574, 0.2865999937057495, -0.06499999761581421, -0.49720001220703125, -0.8503000140190125, -0.39579999446868896, 4.698200225830078, 4.523399829864502, 3.9814999103546143, 3.7248001098632812, 3.6614999771118164, 3.623300075531006, 3.5978000164031982, 3.5894999504089355, 3.583199977874756, 3.5076000690460205, 3.496999979019165, 3.4932000637054443, 3.490600109100342, 3.4851999282836914, 3.4762001037597656, 3.461899995803833, 3.452399969100952, 3.4144999980926514, 3.400700092315674, 3.379499912261963, 3.375, 3.3652000427246094, 3.3350000381469727, 3.3285000324249268, 3.282099962234497, 3.2585999965667725, 3.2409000396728516, 3.2353999614715576, 3.2237000465393066, 3.2128000259399414, 3.2086000442504883, 3.198699951171875, 3.095900058746338, 2.9504001140594482, 3.1389000415802, 2.607800006866455, 2.5648000240325928, 3.101599931716919, 3.164099931716919, 1.6159000396728516, 2.6705000400543213, 2.321899890899658, 0.4943999946117401, 0.35030001401901245, 2.9382998943328857, 0.569599986076355, 2.1684000492095947, 1.545300006866455, 0.46630001068115234, 1.3499000072479248, 2.113600015640259, 1.1016000509262085, 0.16590000689029694, 0.8733999729156494, 1.9781999588012695, 0.7882000207901001, 0.3849000036716461, 0.2720000147819519, 0.3555000126361847, -0.19499999284744263, -0.0640999972820282, 0.3319999873638153, -0.47600001096725464, 0.320499986410141, 0.329800009727478, 4.128799915313721, 4.121300220489502, 4.013800144195557, 3.812999963760376, 3.809499979019165, 3.782099962234497, 3.7028000354766846, 3.6703999042510986, 3.6559998989105225, 3.6321001052856445, 3.5922000408172607, 3.5729000568389893, 3.56030011177063, 3.5257999897003174, 3.521899938583374, 3.5195000171661377, 3.504199981689453, 3.497299909591675, 3.3440001010894775, 3.3238000869750977, 3.2643001079559326, 3.263200044631958, 3.245699882507324, 3.230299949645996, 3.2200000286102295, 3.1649999618530273, 3.1494998931884766, 3.08270001411438, 3.0732998847961426, 3.0510001182556152, 3.036400079727173, 3.0308001041412354, 3.024600028991699, 2.968899965286255, 2.8276000022888184, 2.2144999504089355, 2.3852999210357666, 2.31469988822937, 2.2892000675201416, 2.4272000789642334, 2.609299898147583, 2.1953999996185303, 1.5384000539779663, 0.5971999764442444, 2.263400077819824, 2.6849000453948975, 0.3181000053882599, 1.3904000520706177, 0.18400000035762787, 1.625499963760376, 0.5956000089645386, 1.2996000051498413, 0.11469999700784683, 0.34049999713897705, 0.16699999570846558, 1.0161000490188599, 1.1933000087738037, 0.954800009727478, 0.4189999997615814, -0.14710000157356262, 0.43130001425743103, 0.4036000072956085, 0.46140000224113464, 0.3416999876499176, 0.4097000062465668, 0.5594000220298767, 0.3650999963283539, 0.4555000066757202, 0.4408999979496002, -0.49889999628067017, 0.5311999917030334, -0.47510001063346863, -0.08659999817609787, 4.1940999031066895, 4.094699859619141, 3.9916000366210938, 3.843400001525879, 3.8427000045776367, 3.7578999996185303, 3.7499001026153564, 3.7397000789642334, 3.705899953842163, 3.6654000282287598, 3.622499942779541, 3.5632998943328857, 3.5034000873565674, 3.502500057220459, 3.502500057220459, 3.4993999004364014, 3.4990999698638916, 3.4700000286102295, 3.4467999935150146, 3.4447999000549316, 3.4310998916625977, 3.3696999549865723, 3.351799964904785, 3.2978999614715576, 3.288100004196167, 3.274399995803833, 3.2578999996185303, 3.2462000846862793, 3.2265000343322754, 3.216200113296509, 3.2151999473571777, 3.0778000354766846, 2.964400053024292, 3.151400089263916, 2.74180006980896, 1.0211999416351318, 2.441999912261963, 0.8238999843597412, 0.4219000041484833, 1.9984999895095825, 0.8119000196456909, 2.401400089263916, 1.285599946975708, 1.1448999643325806, 2.136699914932251, 0.10029999911785126, 1.2578999996185303, 0.2102999985218048, 1.8210999965667725, 0.7516999840736389, 1.562600016593933, 0.7516999840736389, 0.427700012922287, -0.14560000598430634, 0.0812000036239624, -0.4699999988079071, 1.1390999555587769, -0.3824000060558319, 1.1842999458312988, 0.9642999768257141, -0.09059999883174896, 0.31540000438690186, -0.48539999127388, -0.07150000333786011, 0.35679998993873596, 0.3917999863624573, -0.7343999743461609, 0.042500000447034836, 0.2224999964237213, 4.626999855041504, 4.178100109100342, 4.124300003051758, 3.9384000301361084, 3.710700035095215, 3.578399896621704, 3.5553998947143555, 3.4883999824523926, 3.480799913406372, 3.473400115966797, 3.4644999504089355, 3.4595000743865967, 3.4553000926971436, 3.4549999237060547, 3.449199914932251, 3.4426000118255615, 3.4375, 3.4279000759124756, 3.426800012588501, 3.4233999252319336, 3.4212000370025635, 3.4121999740600586, 3.402400016784668, 3.4007999897003174, 3.400599956512451, 3.3998000621795654, 3.3947999477386475, 3.393699884414673, 3.392199993133545, 3.391900062561035, 3.1654999256134033, 3.194200038909912, 2.8208999633789062, 2.7555999755859375, 1.9728000164031982, 2.355600118637085, 3.035099983215332, 3.021699905395508, 1.930400013923645, 2.547800064086914, 2.4189999103546143, 2.358599901199341, 2.9458000659942627, 2.9228999614715576, 2.9221999645233154, 1.6913000345230103, 2.8763999938964844, 2.2523999214172363, 2.414299964904785, 2.3854000568389893, 2.2913999557495117, 1.817199945449829, 1.1311999559402466, 1.313599944114685, 0.32170000672340393, 1.5433000326156616, 0.2872999906539917, -0.05090000107884407, 1.2898000478744507, 0.5958999991416931, 0.3400999903678894, 0.48330000042915344, 1.2386000156402588, 1.7021000385284424, 1.0878000259399414, -0.16699999570846558, 0.31119999289512634, 0.33379998803138733, 0.19089999794960022, 0.5034000277519226, 0.19670000672340393, 0.9276999831199646, 4.7052001953125, 4.441800117492676, 4.400899887084961, 4.2220001220703125, 4.064799785614014, 4.062099933624268, 4.028800010681152, 3.986799955368042, 3.842400074005127, 3.80430006980896, 3.729300022125244, 3.7279000282287598, 3.7144999504089355, 3.7121999263763428, 3.6975998878479004, 3.6923999786376953, 3.6826999187469482, 3.674999952316284, 3.6705000400543213, 3.668600082397461, 3.6649999618530273, 3.6624999046325684, 3.6589999198913574, 3.648099899291992, 3.6438000202178955, 3.6321001052856445, 3.6071999073028564, 3.5617001056671143, 3.5608999729156494, 3.555799961090088, 3.450000047683716, 3.446700096130371, 3.3982999324798584, 2.9651999473571777, 3.375200033187866, 3.0978000164031982, 3.019200086593628, 3.3120999336242676, 3.0845000743865967, 3.324700117111206, 2.9202001094818115, 1.8839999437332153, 2.3778998851776123, 2.2987000942230225, 1.482100009918213, 2.8013999462127686, 1.4984999895095825, 2.793600082397461, 2.7434000968933105, 2.1254000663757324, 1.9287999868392944, -0.13040000200271606, 0.5564000010490417, 1.3348000049591064, 0.4447000026702881, -0.09709999710321426, 0.20579999685287476, 0.5934000015258789, 0.2045000046491623, 0.18080000579357147, 1.0429999828338623, 0.9842000007629395, 1.3351000547409058, 1.2633999586105347, -0.16140000522136688, -0.6085000038146973, 0.7879999876022339, 0.44780001044273376, -0.5037999749183655, -0.6471999883651733, -0.8051999807357788, 0.37619999051094055, 4.390100002288818, 3.9656999111175537, 3.906399965286255, 3.877500057220459, 3.865600109100342, 3.851799964904785, 3.842099905014038, 3.8376998901367188, 3.8292999267578125, 3.8248000144958496, 3.8234000205993652, 3.821899890899658, 3.813999891281128, 3.8115999698638916, 3.8041999340057373, 3.785599946975708, 3.77239990234375, 3.7053000926971436, 3.68969988822937, 3.6839001178741455, 3.682300090789795, 3.6623001098632812, 3.65910005569458, 3.6535000801086426, 3.6533000469207764, 3.6498000621795654, 3.649399995803833, 3.640399932861328, 3.63919997215271, 3.6386001110076904, 3.5959999561309814, 3.211199998855591, 3.0866000652313232, 3.334199905395508, 3.202500104904175, 3.1398000717163086, 3.127700090408325, 3.1029000282287598, 2.9642999172210693, 2.471100091934204, 2.908799886703491, 2.8863000869750977, 1.7280999422073364, 1.9560999870300293, 2.8856000900268555, 1.840999960899353, 2.2460999488830566, 1.4175000190734863, 2.7778000831604004, 2.744499921798706, 1.1025999784469604, 2.683300018310547, 0.9093999862670898, 0.4309999942779541, 1.7799999713897705, 0.6105999946594238, 1.7763999700546265, 0.8928999900817871, 1.7288000583648682, 1.6129000186920166, 1.573099970817566, 0.5264999866485596, 0.41620001196861267, 0.4462999999523163, 0.09769999980926514, 0.15489999949932098, -0.2547000050544739, 1.1162999868392944, 1.0922000408172607, 1.12909996509552, 0.9491000175476074, 0.840399980545044, 0.8305000066757202, -0.6069999933242798, 0.3240000009536743, 0.05849999934434891, -0.2248000055551529, 0.3001999855041504, -0.029100000858306885, 0.2485000044107437, 0.7346000075340271, 4.204999923706055, 4.0690999031066895, 3.974299907684326, 3.876699924468994, 3.8743999004364014, 3.8489999771118164, 3.8427000045776367, 3.842099905014038, 3.831899881362915, 3.830399990081787, 3.828900098800659, 3.825700044631958, 3.7832000255584717, 3.7737998962402344, 3.739500045776367, 3.7149999141693115, 3.6923000812530518, 3.6723999977111816, 3.668299913406372, 3.667099952697754, 3.6649999618530273, 3.6628000736236572, 3.646199941635132, 3.642899990081787, 3.640500068664551, 3.6333000659942627, 3.6324000358581543, 3.6287999153137207, 3.627500057220459, 3.6268999576568604, 3.5906999111175537, 3.3875999450683594, 2.7855000495910645, 3.2362000942230225, 2.481800079345703, 1.4603999853134155, 2.948699951171875, 2.4827001094818115, 2.8963000774383545, 1.9036999940872192, 1.3909000158309937, 2.752500057220459, 2.754300117492676, 1.639299988746643, 0.891700029373169, 1.9453999996185303, 1.4155999422073364, 2.631200075149536, 0.46239998936653137, 1.2173000574111938, 0.6765000224113464, 1.1318000555038452, 1.6866999864578247, 0.43689998984336853, 0.891700029373169, -0.05939999967813492, 0.4909999966621399, 0.454800009727478, 1.2736999988555908, 1.0752999782562256, 0.79830002784729, 1.1207000017166138, 0.9433000087738037, 0.95169997215271, 0.6187000274658203, 0.2515000104904175, -0.16519999504089355, 0.3352999985218048, -0.7681999802589417, 0.23250000178813934, -0.10100000351667404, 0.3253999948501587, 0.3352000117301941, 0.34389999508857727], \"logprob\": [30.0, 29.0, 28.0, 27.0, 26.0, 25.0, 24.0, 23.0, 22.0, 21.0, 20.0, 19.0, 18.0, 17.0, 16.0, 15.0, 14.0, 13.0, 12.0, 11.0, 10.0, 9.0, 8.0, 7.0, 6.0, 5.0, 4.0, 3.0, 2.0, 1.0, -5.328499794006348, -5.581299781799316, -5.635300159454346, -6.171800136566162, -4.8917999267578125, -6.092299938201904, -6.219799995422363, -6.4928998947143555, -6.805600166320801, -6.881700038909912, -7.06820011138916, -7.110400199890137, -7.315899848937988, -7.387599945068359, -7.466800212860107, -6.794400215148926, -7.69320011138916, -7.645199775695801, -7.694900035858154, -7.774499893188477, -7.923299789428711, -7.896399974822998, -8.138099670410156, -8.180000305175781, -7.076200008392334, -8.184100151062012, -8.715200424194336, -8.71500015258789, -8.650699615478516, -8.790200233459473, -8.65880012512207, -6.749599933624268, -7.521699905395508, -7.462699890136719, -7.859899997711182, -5.706500053405762, -6.406899929046631, -6.581600189208984, -6.456999778747559, -5.512199878692627, -5.629300117492676, -6.155900001525879, -5.612599849700928, -6.5320000648498535, -5.915999889373779, -5.027400016784668, -4.988100051879883, -5.365099906921387, -5.394800186157227, -5.486800193786621, -5.173900127410889, -5.449999809265137, -5.232800006866455, -5.470699787139893, -5.739500045776367, -5.292399883270264, -5.760900020599365, -5.898499965667725, -6.105199813842773, -5.273499965667725, -5.769599914550781, -5.615699768066406, -5.964600086212158, -5.893400192260742, -5.819900035858154, -5.9029998779296875, -5.878900051116943, -5.845900058746338, -5.904099941253662, -6.42609977722168, -5.547500133514404, -7.180200099945068, -8.172200202941895, -8.518099784851074, -7.8541998863220215, -7.75629997253418, -8.336700439453125, -7.891200065612793, -6.4745001792907715, -7.564799785614014, -7.358099937438965, -8.52970027923584, -7.943699836730957, -8.762100219726562, -8.68239974975586, -8.687100410461426, -8.690299987792969, -7.638700008392334, -8.957300186157227, -8.619000434875488, -8.96049976348877, -7.590099811553955, -8.866000175476074, -8.282600402832031, -8.70110034942627, -9.074999809265137, -8.702799797058105, -8.088700294494629, -6.031799793243408, -6.551199913024902, -6.881999969482422, -6.490699768066406, -6.567200183868408, -7.1020002365112305, -7.400400161743164, -6.997300148010254, -6.6178998947143555, -7.594399929046631, -6.543399810791016, -6.372700214385986, -7.1570000648498535, -7.364200115203857, -7.161600112915039, -6.366000175476074, -6.035999774932861, -5.549600124359131, -7.253200054168701, -6.820799827575684, -6.524199962615967, -6.23829984664917, -6.8678998947143555, -6.44379997253418, -5.651599884033203, -6.6194000244140625, -7.028900146484375, -5.093800067901611, -5.303999900817871, -6.346399784088135, -6.075500011444092, -5.812300205230713, -5.527599811553955, -5.92519998550415, -5.664599895477295, -5.595600128173828, -5.587600231170654, -6.057600021362305, -5.947199821472168, -5.666800022125244, -5.8632001876831055, -6.076300144195557, -6.0625, -6.139699935913086, -5.96560001373291, -6.075399875640869, -6.074999809265137, -6.183599948883057, -6.0680999755859375, -6.2133002281188965, -6.260200023651123, -6.248300075531006, -6.24970006942749, -6.244100093841553, -6.245200157165527, -8.01609992980957, -8.330300331115723, -7.783899784088135, -8.267800331115723, -7.441199779510498, -8.643199920654297, -8.927399635314941, -8.929100036621094, -7.559299945831299, -8.935500144958496, -7.5071001052856445, -9.104700088500977, -9.106499671936035, -8.181099891662598, -6.3983001708984375, -9.11769962310791, -9.121700286865234, -9.125900268554688, -9.122900009155273, -6.786900043487549, -9.126099586486816, -9.1274995803833, -8.522899627685547, -8.852499961853027, -9.15719985961914, -8.780400276184082, -7.92140007019043, -6.349999904632568, -5.059700012207031, -8.779399871826172, -6.364999771118164, -6.13700008392334, -7.638199806213379, -8.262200355529785, -7.99459981918335, -7.625699996948242, -8.366999626159668, -7.28410005569458, -5.146900177001953, -6.920300006866455, -7.67579984664917, -6.391300201416016, -7.527400016784668, -6.002799987792969, -6.304699897766113, -7.444900035858154, -7.335899829864502, -6.660799980163574, -4.94379997253418, -5.665200233459473, -6.722400188446045, -5.314199924468994, -5.774499893188477, -5.607399940490723, -5.644999980926514, -5.003799915313721, -5.71589994430542, -5.5081000328063965, -5.492700099945068, -5.731800079345703, -6.172299861907959, -5.75570011138916, -5.46750020980835, -5.413400173187256, -6.252999782562256, -5.446400165557861, -5.792600154876709, -5.768099784851074, -5.7017998695373535, -5.475299835205078, -5.722899913787842, -5.610000133514404, -5.660299777984619, -5.750100135803223, -5.992000102996826, -5.984600067138672, -6.031300067901611, -6.041800022125244, -6.026500225067139, -4.460400104522705, -4.17110013961792, -5.982999801635742, -6.486100196838379, -7.451200008392334, -7.8094000816345215, -7.568299770355225, -7.329800128936768, -7.0096001625061035, -7.8429999351501465, -5.4653000831604, -6.695400238037109, -6.378799915313721, -7.212600231170654, -6.427700042724609, -7.34119987487793, -6.131999969482422, -8.754799842834473, -8.461999893188477, -8.140600204467773, -8.757699966430664, -7.066199779510498, -8.760100364685059, -6.911600112915039, -8.477499961853027, -8.15470027923584, -7.842400074005127, -3.783600091934204, -7.50629997253418, -7.952899932861328, -4.83050012588501, -4.635499954223633, -5.517899990081787, -5.787199974060059, -5.2778000831604, -5.92710018157959, -6.72189998626709, -5.278900146484375, -7.117099761962891, -4.9670000076293945, -4.8460001945495605, -5.402400016784668, -4.750400066375732, -4.28980016708374, -4.9481000900268555, -6.39300012588501, -6.4868998527526855, -5.507699966430664, -5.367599964141846, -4.918900012969971, -5.477799892425537, -5.036600112915039, -5.063600063323975, -5.420000076293945, -5.247900009155273, -5.372700214385986, -5.3394999504089355, -5.661900043487549, -5.558800220489502, -5.593999862670898, -5.6722002029418945, -5.643099784851074, -7.751100063323975, -8.479999542236328, -8.488499641418457, -8.35420036315918, -8.498600006103516, -8.659700393676758, -8.66450023651123, -8.667200088500977, -8.669099807739258, -8.51710033416748, -8.673800468444824, -8.52560043334961, -7.492400169372559, -8.736000061035156, -8.736800193786621, -8.222999572753906, -8.133299827575684, -8.65939998626709, -8.609199523925781, -8.662500381469727, -6.231800079345703, -8.484199523925781, -8.482799530029297, -8.264200210571289, -8.27280044555664, -8.64799976348877, -8.32409954071045, -8.278400421142578, -8.203900337219238, -8.885299682617188, -7.391300201416016, -7.031799793243408, -6.520899772644043, -7.695700168609619, -7.616300106048584, -6.8993000984191895, -6.465199947357178, -7.271399974822998, -8.19320011138916, -6.837299823760986, -7.781099796295166, -7.690999984741211, -7.8420000076293945, -7.360899925231934, -7.900300025939941, -7.267300128936768, -7.109499931335449, -7.461900234222412, -7.1072001457214355, -7.020100116729736, -6.47599983215332, -7.172100067138672, -7.1570000648498535, -6.58650016784668, -7.497200012207031, -5.300899982452393, -6.19980001449585, -5.852099895477295, -6.1691999435424805, -6.235799789428711, -5.486000061035156, -6.0731000900268555, -5.781599998474121, -6.34660005569458, -5.777900218963623, -5.92609977722168, -6.125699996948242, -6.291500091552734, -6.614999771118164, -6.592800140380859, -5.407599925994873, -6.152200222015381, -5.249300003051758, -6.2164998054504395, -6.686800003051758, -5.485499858856201, -6.55109977722168, -5.935200214385986, -5.757199764251709, -5.613500118255615, -5.797500133514404, -5.7677001953125, -5.591700077056885, -5.855999946594238, -5.791800022125244, -5.563499927520752, -5.910299777984619, -5.921599864959717, -6.014999866485596, -6.088900089263916, -6.035600185394287, -5.88100004196167, -6.06850004196167, -6.099699974060059, -6.0904998779296875, -6.084499835968018, -6.091800212860107, -6.083000183105469, -4.778600215911865, -3.8817999362945557, -5.588099956512451, -3.6937999725341797, -5.729700088500977, -5.254199981689453, -5.357699871063232, -4.8572001457214355, -6.809599876403809, -6.6315999031066895, -5.885000228881836, -6.921800136566162, -6.643199920654297, -6.959700107574463, -4.7195000648498535, -7.370299816131592, -7.266300201416016, -6.8267998695373535, -6.600500106811523, -6.3744001388549805, -7.328100204467773, -7.443600177764893, -7.458199977874756, -7.521200180053711, -6.311600208282471, -8.134699821472168, -8.029800415039062, -8.2677001953125, -8.403900146484375, -8.40410041809082, -4.641300201416016, -7.957699775695801, -7.874100208282471, -6.076300144195557, -7.516200065612793, -5.1265997886657715, -5.0015997886657715, -4.869200229644775, -4.909999847412109, -5.30049991607666, -6.348199844360352, -5.96120023727417, -5.512800216674805, -5.125899791717529, -5.4145002365112305, -5.496099948883057, -5.433800220489502, -5.6072998046875, -5.711699962615967, -5.432300090789795, -5.468599796295166, -5.76800012588501, -5.611499786376953, -5.604800224304199, -5.595200061798096, -5.759200096130371, -5.786099910736084, -7.670899868011475, -7.847599983215332, -7.900899887084961, -7.665599822998047, -7.563199996948242, -4.533699989318848, -5.612599849700928, -8.22719955444336, -8.223400115966797, -8.062100410461426, -8.140700340270996, -8.082599639892578, -8.148300170898438, -7.915299892425537, -8.348999977111816, -8.189800262451172, -7.9334001541137695, -8.343000411987305, -8.36709976196289, -4.991799831390381, -8.10569953918457, -8.442500114440918, -8.256600379943848, -8.116000175476074, -7.65339994430542, -8.44890022277832, -8.45680046081543, -7.154799938201904, -8.168000221252441, -8.468000411987305, -7.127799987792969, -6.621399879455566, -6.271599769592285, -7.733399868011475, -5.2032999992370605, -6.497900009155273, -6.434599876403809, -6.627500057220459, -6.410900115966797, -5.7519001960754395, -7.5528998374938965, -5.3007001876831055, -6.281199932098389, -5.532800197601318, -6.224400043487549, -6.874499797821045, -4.673999786376953, -5.818399906158447, -5.456999778747559, -7.008299827575684, -5.730999946594238, -5.103899955749512, -6.2546000480651855, -5.841800212860107, -5.210599899291992, -5.490699768066406, -5.939000129699707, -5.695199966430664, -5.521100044250488, -5.927000045776367, -5.716000080108643, -5.4278998374938965, -5.632299900054932, -5.502900123596191, -5.678299903869629, -5.782299995422363, -5.860099792480469, -5.823999881744385, -5.76800012588501, -5.90880012512207, -5.790500164031982, -7.170100212097168, -7.166500091552734, -7.2170000076293945, -7.459700107574463, -7.45550012588501, -6.5304999351501465, -7.531099796295166, -7.446100234985352, -7.63700008392334, -7.549799919128418, -7.842299938201904, -7.511000156402588, -7.841599941253662, -7.847499847412109, -7.457399845123291, -7.845200061798096, -7.587699890136719, -7.716400146484375, -7.924900054931641, -7.6097002029418945, -7.439599990844727, -7.841899871826172, -7.936600208282471, -7.920100212097168, -7.907299995422363, -7.865900039672852, -7.274899959564209, -7.846799850463867, -7.86929988861084, -7.216300010681152, -7.839799880981445, -7.1743998527526855, -6.768400192260742, -7.444300174713135, -7.569499969482422, -6.295000076293945, -4.724299907684326, -6.122099876403809, -7.23769998550415, -6.034599781036377, -6.155399799346924, -7.020999908447266, -6.625899791717529, -7.1641998291015625, -6.170300006866455, -5.914299964904785, -6.795499801635742, -5.675600051879883, -5.458099842071533, -5.296000003814697, -5.248300075531006, -5.641600131988525, -5.872000217437744, -6.479599952697754, -5.400199890136719, -5.535699844360352, -5.8557000160217285, -5.366700172424316, -5.4197998046875, -5.841400146484375, -5.800899982452393, -5.722799777984619, -5.758699893951416, -6.054699897766113, -5.852799892425537, -6.051400184631348, -5.84060001373291, -6.0295000076293945, -6.050000190734863, -5.780700206756592, -5.992800235748291, -6.002299785614014, -5.9720001220703125, -6.05679988861084, -6.091300010681152, -4.873799800872803, -5.722099781036377, -3.89490008354187, -7.281099796295166, -7.302199840545654, -7.337299823760986, -7.366199970245361, -7.245699882507324, -5.973599910736084, -7.1417999267578125, -6.936699867248535, -7.303100109100342, -7.4481000900268555, -7.311399936676025, -7.338799953460693, -7.302599906921387, -7.48330020904541, -7.541100025177002, -7.299200057983398, -6.874499797821045, -7.430600166320801, -7.304699897766113, -7.30019998550415, -7.480800151824951, -5.6209001541137695, -4.617800235748291, -6.921999931335449, -7.284299850463867, -7.581200122833252, -7.301700115203857, -6.002600193023682, -6.4791998863220215, -5.836699962615967, -5.863999843597412, -6.744699954986572, -5.999100208282471, -6.057400226593018, -6.953000068664551, -7.069200038909912, -5.531000137329102, -6.5960001945495605, -6.31820011138916, -4.973299980163574, -4.964300155639648, -6.904399871826172, -5.313399791717529, -6.400599956512451, -6.000500202178955, -5.348499774932861, -5.968100070953369, -6.4156999588012695, -5.882800102233887, -5.448400020599365, -5.805600166320801, -6.395500183105469, -5.915200233459473, -5.772900104522705, -5.732100009918213, -5.79580020904541, -5.640500068664551, -5.7596001625061035, -5.891499996185303, -5.682499885559082, -5.9004998207092285, -5.9496002197265625, -6.468299865722656, -6.127999782562256, -6.184800148010254, -6.154799938201904, -6.929699897766113, -6.931300163269043, -7.310400009155273, -5.850200176239014, -6.613999843597412, -6.941199779510498, -6.304900169372559, -7.117400169372559, -7.312399864196777, -6.3471999168396, -7.3094000816345215, -6.10230016708374, -7.307600021362305, -7.172999858856201, -7.317200183868408, -6.937099933624268, -7.297800064086914, -6.64769983291626, -7.39169979095459, -7.3003997802734375, -7.309999942779541, -6.9145002365112305, -7.386099815368652, -7.754899978637695, -7.970300197601318, -7.965400218963623, -7.310100078582764, -7.3109002113342285, -7.303100109100342, -6.917399883270264, -6.629700183868408, -5.347499847412109, -5.815800189971924, -6.029900074005127, -6.004199981689453, -6.285699844360352, -6.53000020980835, -6.070899963378906, -5.442699909210205, -4.717400074005127, -6.283400058746338, -6.633200168609619, -4.888400077819824, -5.811500072479248, -5.283699989318848, -6.065100193023682, -5.528800010681152, -5.918900012969971, -5.49970006942749, -5.596799850463867, -5.528500080108643, -5.892000198364258, -5.997799873352051, -5.917900085449219, -5.7399001121521, -5.622300148010254, -5.802299976348877, -5.820000171661377, -5.863500118255615, -5.853000164031982, -5.869699954986572, -5.892099857330322, -5.903200149536133, -5.923699855804443, -5.926000118255615, -5.889400005340576, -5.946599960327148, -5.9207000732421875, -5.9695000648498535, -6.775899887084961, -6.802000045776367, -6.763299942016602, -7.184100151062012, -7.162799835205078, -7.159999847412109, -7.157599925994873, -6.935500144958496, -7.157599925994873, -7.163300037384033, -6.259799957275391, -7.157800197601318, -7.176400184631348, -7.484300136566162, -7.176400184631348, -7.166299819946289, -6.7804999351501465, -7.329800128936768, -7.157199859619141, -5.054599761962891, -7.151199817657471, -6.080999851226807, -7.338799953460693, -7.817399978637695, -7.15910005569458, -7.1596999168396, -5.783100128173828, -7.598999977111816, -6.553800106048584, -7.821800231933594, -6.828999996185303, -5.755799770355225, -5.315100193023682, -6.758500099182129, -6.359300136566162, -4.861700057983398, -6.4756999015808105, -5.299600124359131, -5.192399978637695, -6.214099884033203, -5.567299842834473, -6.508999824523926, -5.861599922180176, -5.839700222015381, -6.374599933624268, -5.367300033569336, -5.946700096130371, -5.485199928283691, -6.255499839782715, -5.796599864959717, -6.212200164794922, -5.920000076293945, -5.809299945831299, -5.620500087738037, -5.755099773406982, -5.676499843597412, -6.129000186920166, -5.772900104522705, -6.141499996185303, -6.1082000732421875, -5.905399799346924, -6.009699821472168, -5.931000232696533, -6.009699821472168, -6.075099945068359, -6.082900047302246, -6.048999786376953, -6.081999778747559, -6.102399826049805, -5.656300067901611, -5.657899856567383, -6.496099948883057, -6.886499881744385, -6.889900207519531, -6.493800163269043, -6.889900207519531, -7.547699928283691, -7.548900127410889, -7.5493998527526855, -7.5503997802734375, -7.548399925231934, -7.5543999671936035, -6.884099960327148, -7.547599792480469, -7.548399925231934, -7.566400051116943, -7.5559000968933105, -7.547599792480469, -7.547800064086914, -7.5619001388549805, -7.550300121307373, -7.548500061035156, -7.552199840545654, -7.55049991607666, -7.5482001304626465, -7.5524001121521, -7.555200099945068, -7.548600196838379, -7.5482001304626465, -5.531199932098389, -6.887800216674805, -5.993899822235107, -6.011499881744385, -4.6666998863220215, -5.5208001136779785, -6.896399974822998, -6.887400150299072, -5.053999900817871, -6.246300220489502, -6.061800003051758, -6.0106000900268555, -6.892300128936768, -6.882299900054932, -6.887599945068359, -5.527200222015381, -6.8902997970581055, -6.207499980926514, -6.488699913024902, -6.560400009155273, -6.489200115203857, -6.07390022277832, -5.542300224304199, -5.801199913024902, -5.123799800872803, -6.0030999183654785, -5.408199787139893, -5.257400035858154, -5.978300094604492, -5.637899875640869, -5.542799949645996, -5.624599933624268, -5.973100185394287, -6.202099800109863, -5.987400054931641, -5.634699821472168, -5.847799777984619, -5.887700080871582, -5.933499813079834, -5.984099864959717, -5.960999965667725, -6.053400039672852, -5.988500118255615, -6.673500061035156, -6.639400005340576, -6.636300086975098, -6.640699863433838, -6.640900135040283, -5.610499858856201, -5.958499908447266, -6.636300086975098, -6.63730001449585, -7.308599948883057, -7.301799774169922, -7.297699928283691, -7.292699813842773, -7.301300048828125, -7.295300006866455, -7.307199954986572, -7.296500205993652, -7.299499988555908, -7.297999858856201, -7.296199798583984, -7.297599792480469, -7.300899982452393, -7.311800003051758, -7.315199851989746, -7.325699806213379, -7.301300048828125, -7.311999797821045, -7.298900127410889, -7.296800136566162, -6.641200065612793, -6.640900135040283, -6.635200023651123, -4.956399917602539, -6.639599800109863, -5.968900203704834, -5.967899799346924, -6.641300201416016, -6.245200157165527, -6.8470001220703125, -6.6458001136779785, -5.8246002197265625, -6.244900226593018, -6.234600067138672, -5.646100044250488, -6.63640022277832, -5.729300022125244, -6.647299766540527, -6.6392998695373535, -6.239299774169922, -6.235799789428711, -5.336900234222412, -5.7230000495910645, -6.059299945831299, -5.727700233459473, -5.572000026702881, -5.732500076293945, -5.88129997253418, -5.90339994430542, -5.942699909210205, -6.122099876403809, -6.161200046539307, -6.219799995422363, -6.236400127410889, -6.098700046539307, -6.054100036621094, -6.223400115966797, -6.188799858093262, -6.118100166320801, -6.114799976348877, -6.119800090789795, -6.206200122833252, -6.488900184631348, -6.492199897766113, -6.491700172424316, -7.160399913787842, -7.15369987487793, -7.151199817657471, -7.154799938201904, -7.156199932098389, -7.157800197601318, -7.151199817657471, -7.154300212860107, -7.15749979019165, -7.152400016784668, -7.154200077056885, -7.164899826049805, -6.49560022354126, -6.490300178527832, -7.1519999504089355, -7.156199932098389, -7.151000022888184, -7.140999794006348, -7.155399799346924, -7.161300182342529, -7.152299880981445, -7.149600028991699, -7.154600143432617, -7.156899929046631, -7.157199859619141, -7.151599884033203, -7.155900001525879, -6.4934000968933105, -5.594399929046631, -5.815800189971924, -6.490200042724609, -6.491600036621094, -6.4899001121521, -6.48960018157959, -6.492000102996826, -6.48859977722168, -6.090799808502197, -6.490499973297119, -6.490200042724609, -5.581299781799316, -5.800600051879883, -6.493199825286865, -5.811100006103516, -6.098100185394287, -5.580999851226807, -6.485599994659424, -6.4918999671936035, -5.570799827575684, -6.4882001876831055, -5.568399906158447, -5.387800216674805, -6.087100028991699, -5.561800003051758, -6.087699890136719, -5.781300067901611, -6.09250020980835, -6.087399959564209, -6.085299968719482, -5.7870001792907715, -5.778600215911865, -5.787499904632568, -5.753399848937988, -5.782299995422363, -5.722400188446045, -6.070099830627441, -6.077000141143799, -6.087200164794922, -6.0817999839782715, -6.070099830627441, -6.077700138092041, -5.997499942779541, -6.049900054931641, -6.0493998527526855, -6.053599834442139, -6.0665998458862305, -6.064199924468994, -6.076399803161621, -6.07889986038208, -6.110499858856201, -6.504499912261963, -6.10890007019043, -7.161200046539307, -7.1691999435424805, -7.167500019073486, -6.5055999755859375, -7.164000034332275, -7.140999794006348, -7.164899826049805, -7.164599895477295, -7.1682000160217285, -7.16480016708374, -6.503699779510498, -7.167900085449219, -7.1656999588012695, -7.167200088500977, -7.169099807739258, -7.160699844360352, -7.1504998207092285, -7.167099952697754, -7.1722002029418945, -7.165800094604492, -7.165599822998047, -7.165200233459473, -7.166900157928467, -7.163700103759766, -6.502999782562256, -7.164999961853027, -7.16510009765625, -5.403500080108643, -6.5040998458862305, -5.566500186920166, -6.504199981689453, -5.815999984741211, -5.003600120544434, -6.504000186920166, -6.103300094604492, -6.5030999183654785, -5.786900043487549, -5.406400203704834, -6.48859977722168, -6.499599933624268, -5.741099834442139, -5.385700225830078, -6.103400230407715, -5.81220006942749, -6.496699810028076, -5.368599891662598, -5.822299957275391, -5.560500144958496, -5.811500072479248, -6.094699859619141, -5.567200183868408, -5.8024001121521, -5.527100086212158, -5.730500221252441, -5.76609992980957, -6.083600044250488, -6.070199966430664, -6.020199775695801, -6.0954999923706055, -6.0721001625061035, -6.090000152587891, -6.059700012207031, -6.016900062561035, -5.984000205993652, -6.031499862670898, -5.974699974060059, -6.046899795532227, -6.038300037384033, -6.053800106048584, -6.069900035858154, -6.071199893951416]}, \"token.table\": {\"Topic\": [1, 4, 3, 9, 1, 3, 4, 14, 1, 2, 4, 5, 10, 14, 2, 3, 8, 14, 5, 1, 3, 9, 14, 1, 2, 3, 4, 5, 6, 8, 10, 11, 15, 1, 2, 3, 4, 5, 6, 7, 8, 9, 10, 11, 14, 15, 3, 5, 7, 8, 11, 15, 1, 12, 1, 3, 11, 12, 1, 2, 3, 4, 5, 6, 7, 8, 10, 12, 13, 1, 2, 3, 4, 5, 6, 7, 8, 9, 10, 12, 13, 15, 2, 5, 6, 1, 11, 2, 3, 10, 1, 2, 5, 12, 1, 6, 9, 1, 2, 3, 4, 9, 10, 13, 1, 2, 3, 4, 8, 9, 10, 11, 1, 2, 3, 6, 11, 1, 1, 2, 3, 4, 5, 6, 7, 8, 9, 12, 14, 1, 2, 3, 4, 5, 6, 7, 8, 9, 10, 11, 12, 14, 15, 1, 2, 3, 5, 6, 7, 8, 9, 10, 12, 2, 3, 5, 6, 14, 5, 7, 1, 4, 12, 1, 2, 3, 4, 5, 7, 9, 12, 15, 1, 3, 8, 1, 2, 3, 4, 5, 6, 7, 8, 9, 10, 11, 12, 13, 14, 15, 2, 3, 4, 5, 7, 9, 10, 11, 1, 2, 3, 4, 5, 6, 8, 11, 3, 7, 8, 12, 6, 1, 6, 2, 3, 5, 7, 10, 1, 4, 7, 10, 2, 3, 5, 7, 8, 9, 10, 12, 13, 1, 2, 3, 4, 5, 6, 7, 8, 9, 10, 11, 12, 2, 8, 10, 11, 2, 3, 5, 14, 1, 5, 7, 9, 1, 6, 3, 5, 7, 9, 1, 2, 3, 4, 5, 6, 7, 8, 9, 10, 11, 12, 14, 15, 2, 3, 5, 12, 1, 1, 2, 3, 4, 5, 7, 8, 9, 10, 11, 3, 5, 3, 1, 2, 3, 4, 5, 7, 8, 13, 3, 5, 8, 1, 7, 8, 4, 2, 5, 9, 11, 1, 2, 3, 4, 5, 6, 7, 10, 11, 14, 2, 15, 5, 8, 3, 5, 15, 1, 2, 3, 4, 5, 6, 7, 9, 10, 12, 13, 15, 5, 7, 2, 1, 1, 2, 3, 4, 5, 6, 7, 8, 14, 4, 1, 6, 2, 3, 4, 5, 7, 8, 9, 10, 13, 2, 3, 5, 7, 8, 2, 3, 5, 7, 8, 10, 3, 2, 9, 1, 1, 2, 14, 3, 5, 7, 9, 10, 12, 13, 1, 2, 3, 4, 5, 6, 7, 8, 11, 2, 5, 9, 13, 2, 12, 1, 2, 3, 4, 5, 6, 7, 8, 9, 10, 11, 12, 13, 1, 4, 1, 4, 2, 5, 10, 14, 2, 15, 1, 5, 7, 2, 3, 5, 9, 3, 7, 2, 3, 2, 4, 7, 13, 2, 4, 1, 3, 6, 1, 2, 3, 4, 5, 6, 7, 9, 10, 15, 2, 3, 5, 8, 9, 1, 3, 7, 10, 1, 2, 3, 4, 5, 6, 7, 9, 10, 12, 15, 2, 3, 11, 15, 5, 7, 11, 14, 5, 7, 8, 9, 12, 1, 2, 3, 4, 5, 6, 7, 13, 1, 4, 11, 1, 2, 5, 7, 13, 1, 2, 3, 5, 6, 2, 13, 14, 6, 1, 2, 3, 4, 5, 6, 7, 9, 11, 13, 15, 1, 2, 3, 5, 10, 1, 5, 7, 15, 1, 2, 3, 4, 5, 6, 7, 8, 9, 10, 12, 13, 14, 15, 1, 4, 1, 1, 2, 3, 4, 6, 7, 10, 1, 6, 1, 2, 3, 4, 5, 6, 7, 8, 9, 10, 11, 12, 13, 14, 15, 1, 2, 3, 4, 5, 6, 7, 8, 9, 10, 11, 12, 13, 15, 5, 7, 1, 2, 12, 1, 2, 3, 4, 11, 12, 1, 2, 14, 1, 2, 5, 15, 6, 1, 2, 5, 12, 1, 4, 2, 5, 9, 1, 2, 3, 4, 5, 6, 7, 8, 14, 1, 3, 7, 12, 1, 2, 3, 4, 5, 6, 10, 12, 1, 3, 11, 1, 2, 3, 4, 6, 7, 9, 3, 7, 1, 2, 3, 4, 6, 11, 2, 3, 9, 13, 2, 3, 7, 9, 5, 6, 12, 1, 7, 13, 2, 3, 6, 14, 2, 3, 5, 7, 11, 14, 1, 2, 3, 5, 6, 7, 11, 1, 2, 3, 4, 5, 7, 11, 1, 2, 3, 4, 5, 6, 7, 8, 9, 11, 1, 2, 8, 9, 2, 3, 5, 8, 5, 13, 2, 3, 5, 8, 15, 2, 3, 5, 7, 10, 11, 1, 2, 3, 4, 5, 6, 11, 3, 11, 1, 8, 11, 1, 2, 3, 4, 7, 11, 1, 1, 2, 3, 4, 5, 6, 7, 8, 9, 10, 11, 12, 14, 15, 3, 12, 1, 3, 6, 1, 6, 1, 2, 3, 4, 5, 6, 7, 8, 9, 10, 11, 12, 13, 15, 1, 2, 3, 4, 5, 6, 7, 8, 9, 10, 11, 12, 1, 2, 3, 4, 5, 6, 7, 8, 11, 12, 13, 14, 1, 2, 3, 4, 5, 6, 7, 8, 9, 10, 13, 2, 2, 3, 12, 13, 6, 2, 4, 8, 3, 10, 1, 1, 2, 3, 5, 7, 2, 5, 12, 1, 2, 3, 5, 7, 10, 1, 2, 11, 15, 6, 1, 2, 3, 4, 5, 15, 2, 3, 7, 14, 2, 3, 5, 7, 9, 2, 3, 8, 13, 2, 5, 3, 1, 3, 7, 9, 1, 4, 11, 1, 7, 8, 1, 4, 2, 3, 6, 7, 8, 10, 12, 2, 3, 7, 9, 1, 2, 3, 6, 15, 1, 4, 1, 2, 3, 4, 5, 6, 7, 8, 9, 10, 11, 12, 14, 15, 2, 5, 2, 3, 4, 5, 6, 7, 8, 9, 10, 12, 1, 3, 8, 11, 1, 2, 3, 4, 5, 6, 7, 8, 9, 5, 3, 5, 7, 15, 1, 2, 5, 7, 13, 1, 2, 5, 6, 2, 4, 5, 15, 2, 3, 7, 10, 1, 2, 3, 4, 5, 6, 7, 11, 13, 5, 3, 7, 1, 2, 3, 4, 6, 12, 13, 2, 3, 5, 7, 15, 1, 3, 4, 5, 2, 3, 1, 4, 11, 1, 4, 2, 3, 5, 9, 10, 13, 2, 3, 9, 1, 2, 3, 14, 1, 3, 4, 6, 10, 11, 1, 2, 3, 4, 5, 6, 7, 10, 11, 13, 14, 1, 2, 4, 6, 1, 2, 3, 4, 5, 7, 8, 10, 12, 13, 14, 6, 1, 2, 3, 5, 8, 1, 2, 3, 4, 5, 6, 8, 3, 10, 2, 3, 5, 7, 9, 2, 5, 2, 3, 5, 7, 8, 9, 12, 1, 2, 3, 4, 5, 6, 7, 8, 9, 10, 11, 12, 13, 14, 15, 1, 2, 3, 4, 5, 6, 7, 15, 1, 2, 4, 5, 7, 8, 13, 1, 3, 5, 13, 6, 1, 5, 1, 2, 3, 4, 6, 11, 3, 5, 7, 1, 2, 3, 4, 5, 6, 7, 8, 9, 10, 11, 12, 14, 15, 2, 7, 8, 1, 2, 3, 4, 5, 6, 7, 8, 9, 10, 11, 12, 13, 14, 15, 3, 5, 7, 8, 9, 12, 15, 1, 2, 3, 4, 5, 6, 7, 8, 9, 10, 11, 12, 13, 14, 15, 2, 3, 5, 7, 8, 1, 3, 4, 5, 7, 8, 11, 15, 2, 3, 4, 5, 7, 9, 10, 15, 1, 2, 3, 4, 5, 6, 9, 10, 12, 1, 6, 1, 2, 3, 4, 5, 6, 7, 8, 9, 10, 11, 13, 14, 15, 1, 2, 3, 4, 5, 6, 7, 8, 9, 14, 1, 2, 3, 4, 5, 6, 7, 8, 9, 10, 11, 12, 13, 14, 3, 11, 13, 1, 2, 3, 4, 5, 6, 7, 8, 9, 10, 14, 15, 1, 2, 3, 5, 6, 7, 8, 9, 13, 15, 2, 3, 6, 12, 1, 2, 3, 4, 5, 6, 7, 8, 9, 10, 11, 12, 13, 14, 15, 2, 1, 6, 5, 13, 2, 3, 4, 5, 7, 9, 3, 7, 8, 9, 2, 5, 12, 1, 2, 11, 13, 3, 5, 15, 1, 1, 3, 5, 14, 5, 2, 3, 10, 15, 3, 7, 2, 3, 4, 5, 13, 1, 4, 10, 1, 1, 2, 3, 4, 5, 6, 7, 8, 11, 13, 2, 3, 5, 7, 8, 12, 13, 2, 5, 3, 5, 14, 2, 8, 14, 1, 2, 3, 4, 5, 7, 11, 12, 13, 1, 2, 3, 5, 7, 8, 9, 10, 11, 12, 13, 14, 3, 5, 14, 1, 2, 3, 4, 5, 6, 7, 8, 12, 13, 15, 2, 6, 12, 3, 1, 2, 3, 5, 7, 11, 1, 2, 3, 4, 5, 6, 7, 8, 9, 12, 13, 14, 1, 3, 5, 9, 10, 1, 2, 3, 5, 6, 7, 8, 9, 11, 12, 13, 1, 2, 3, 7, 9, 12, 1, 2, 3, 4, 7, 10, 11, 2, 3, 5, 7, 1, 2, 3, 4, 5, 6, 7, 10, 12, 13, 1, 2, 3, 4, 5, 6, 7, 8, 9, 10, 11, 12, 15, 1, 2, 3, 4, 5, 6, 7, 8, 9, 10, 11, 14, 3, 5, 9, 1, 2, 3, 4, 5, 6, 7, 8, 9, 11, 12, 2, 3, 7, 11, 15, 2, 5, 11, 2, 4, 5, 8, 13, 1, 2, 3, 4, 5, 6, 7, 8, 9, 11, 13, 14, 1, 4, 10, 1, 2, 3, 4, 5, 6, 7, 8, 9, 10, 14, 1, 2, 3, 4, 5, 6, 7, 8, 9, 10, 11, 12, 13, 14, 15, 2, 3, 4, 5, 7, 8, 10, 4, 11, 2, 5, 7, 8, 1, 2, 7, 11, 1, 2, 3, 7, 9, 14, 1, 2, 3, 4, 5, 6, 7, 8, 9, 10, 11, 13, 15, 2, 3, 5, 7, 9, 2, 5, 3, 8, 10, 1, 2, 3, 4, 5, 6, 7, 8, 9, 10, 11, 12, 13, 14, 15, 1, 2, 3, 4, 5, 6, 7, 8, 9, 10, 11, 12, 15, 1, 2, 3, 4, 5, 6, 7, 8, 9, 10, 11, 12, 13, 14, 15, 2, 11, 3, 5, 8, 9, 1, 2, 3, 15, 1, 2, 3, 4, 5, 6, 7, 8, 10, 14, 15, 1, 2, 11, 13, 6, 1, 3, 4, 7, 11, 1, 4, 10, 4, 1, 2, 3, 4, 5, 6, 7, 8, 10, 11, 12, 13, 1, 2, 13, 1, 2, 3, 4, 5, 6, 7, 8, 9, 10, 11, 12, 13, 15, 1, 4, 10, 1, 2, 3, 4, 5, 6, 7, 8, 9, 10, 11, 12, 13, 14, 1, 2, 3, 4, 5, 6, 7, 8, 9, 13, 14, 1, 2, 7, 2, 5, 7, 9, 11, 13, 2, 5, 5, 10, 2, 7, 10, 1, 1, 2, 3, 4, 5, 6, 7, 8, 9, 11, 13, 14, 1, 4, 5, 7, 11, 2, 3, 5, 12, 2, 3, 5, 6, 8, 10, 12, 2, 3, 5, 13, 1, 2, 3, 4, 5, 6, 7, 8, 9, 10, 11, 12, 13, 14, 15, 1, 2, 3, 4, 5, 6, 7, 8, 9, 10, 11, 13, 14, 15, 2, 5, 7, 1, 2, 3, 4, 5, 6, 7, 1, 2, 3, 4, 5, 6, 7, 8, 9, 10, 11, 13, 14, 15, 1, 2, 3, 4, 5, 6, 7, 8, 10, 11, 12, 14, 15, 2, 2, 3, 5, 7, 11, 14, 1, 1, 3, 1, 2, 3, 4, 5, 6, 7, 8, 9, 12, 1, 6, 15, 1, 2, 3, 5, 7, 14, 3, 5, 12, 2, 4, 6, 8, 2, 5, 7, 1, 3, 5, 6, 15, 3, 5, 7, 8, 10, 1, 2, 4, 6, 7, 14, 1, 3, 5, 6, 8, 10, 1, 2, 5, 14, 5, 1, 3, 5, 10, 1, 1, 11, 12, 2, 3, 10, 15, 2, 5, 7, 5, 1, 2, 3, 4, 5, 7, 8, 9, 10, 11, 12, 14, 15, 3, 5, 8, 15, 2, 3, 5, 7, 9, 1, 6, 2, 3, 7, 10, 1, 2, 3, 4, 5, 6, 7, 8, 9, 10, 11, 12, 15, 1, 10, 15, 1, 1, 4, 2, 3, 4, 5, 7, 9, 10, 1, 2, 3, 4, 5, 6, 7, 8, 9, 10, 11, 12, 13, 15, 1, 4, 11, 4, 1, 2, 3, 4, 5, 6, 7, 8, 9, 10, 11, 12, 13, 14, 1, 2, 3, 5, 6, 7, 8, 9, 1, 2, 3, 4, 5, 6, 7, 8, 10, 11, 15, 1, 3, 6, 1, 2, 3, 4, 5, 7, 14, 3, 5, 15, 5, 7, 2, 3, 12, 1, 2, 3, 4, 5, 7, 14, 2, 10, 15, 3, 7, 11, 15, 1, 2, 3, 4, 5, 6, 7, 8, 9, 10, 11, 12, 13, 14, 2, 7, 8, 2, 7, 9, 10, 2, 7, 1, 3, 4, 6, 11, 2, 3, 4, 5, 9, 1, 2, 3, 4, 5, 6, 7, 8, 10, 15, 2, 3, 5, 12, 14, 1, 7, 9, 1, 2, 3, 4, 5, 6, 7, 8, 9, 10, 13, 14, 15, 1, 2, 3, 4, 5, 6, 7, 8, 9, 10, 11, 12, 13, 15, 3, 1, 2, 3, 4, 5, 6, 7, 8, 9, 10, 11, 12, 13, 14, 15, 2, 3, 6, 7, 12, 1, 2, 3, 4, 5, 6, 7, 8, 9, 10, 11, 15, 2, 10, 1, 2, 3, 4, 5, 6, 7, 8, 9, 10, 11, 12, 13, 14, 15, 4, 1, 2, 3, 4, 5, 6, 7, 8, 10, 12, 13, 14, 15, 1, 7, 1, 2, 3, 5, 6, 7, 8, 9, 10, 11, 13, 15, 2, 3, 9, 5, 1, 2, 3, 4, 5, 6, 7, 8, 9, 10, 11, 12, 13, 14, 15, 1, 6, 1, 2, 3, 4, 5, 6, 7, 8, 9, 10, 11, 12, 13, 14, 15, 1, 2, 3, 4, 5, 6, 7, 8, 9, 10, 11, 12, 13, 14, 15, 1, 2, 3, 4, 5, 6, 7, 8, 9, 10, 11, 12, 13, 14, 5, 10, 1, 1, 1, 2, 3, 4, 5, 6, 7, 8, 10, 3, 8, 1, 3, 10, 1, 3, 4, 5, 6, 7, 12, 1, 2, 3, 5, 6, 7, 8, 9, 10, 12, 13, 2, 3, 7, 12, 2, 13, 1, 6, 1, 2, 3, 4, 6, 14, 2, 11, 3, 5, 6, 1, 5, 9, 1, 3, 6, 7, 9, 10, 12, 1, 2, 3, 5, 6, 7, 12, 1, 2, 3, 4, 5, 6, 7, 8, 9, 10, 11, 12, 13, 14, 15, 1, 3, 10, 12, 3, 8, 14, 1, 4, 1, 2, 3, 5, 6, 7, 9, 11, 13, 6, 1, 2, 4, 6, 12, 1, 2, 3, 4, 5, 6, 7, 8, 9, 14, 15, 1, 4, 4, 1, 2, 3, 5, 6, 7, 8, 10, 15, 3, 8, 1, 2, 3, 4, 5, 7, 8, 9, 11, 12, 14, 15, 1, 3, 5, 11, 2, 3, 5, 1, 2, 6, 9, 13, 15, 1, 2, 3, 4, 5, 6, 7, 8, 10, 11, 12, 14, 1, 5, 15, 1, 2, 3, 4, 5, 6, 7, 8, 9, 10, 11, 13, 2, 1, 2, 3, 5, 6, 7, 10, 15, 1, 2, 1, 6, 6, 1, 2, 3, 5, 8, 15, 3, 5, 7, 11, 15, 1, 2, 5, 13, 1, 2, 3, 4, 5, 6, 7, 8, 9, 10, 11, 12, 13, 15, 1, 2, 3, 4, 5, 6, 7, 8, 9, 10, 11, 12, 13, 2, 5, 10, 3, 9, 1, 2, 3, 4, 5, 6, 7, 8, 9, 11, 12, 14, 15, 2, 5, 13, 2, 3, 5, 6, 7, 13, 14, 1, 2, 3, 4, 5, 6, 7, 8, 9, 10, 11, 12, 13, 15, 2, 5, 6, 7, 14, 15, 1, 2, 3, 4, 5, 6, 7, 8, 9, 10, 11, 12, 15, 2, 8, 5, 9, 11, 4, 2, 5, 8, 1, 2, 3, 4, 5, 6, 7, 8, 9, 10, 11, 14, 15, 3, 5, 7, 12, 2, 3, 3, 2, 3, 5, 1, 1, 2, 3, 4, 5, 6, 7, 8, 9, 10, 11, 12, 13, 15, 1, 2, 3, 4, 5, 6, 7, 8, 9, 10, 11, 12, 15, 3, 1, 2, 3, 5, 6, 7, 8, 9, 15, 1, 6, 2, 3, 5, 7, 8, 9, 1, 2, 3, 4, 5, 7, 9, 12, 3, 5, 7, 11, 14, 1, 2, 3, 4, 5, 6, 7, 10, 12, 1, 1, 2, 3, 4, 5, 6, 7, 8, 9, 10, 11, 12, 13, 14, 15, 1, 2, 3, 4, 5, 6, 7, 8, 9, 10, 11, 12, 14, 15, 1, 2, 3, 15, 2, 5, 9, 10, 14, 1, 4, 5, 14, 2, 5, 1, 2, 12, 2, 5, 8, 10, 3, 1, 10, 1, 15, 2, 5, 15, 1, 2, 9, 11, 2, 5, 11, 12, 2, 1, 6, 1, 6, 7, 8, 11, 1, 2, 3, 4, 5, 7, 8, 9, 10, 12, 2, 3, 5, 13, 1, 2, 6, 10, 1, 2, 3, 4, 5, 6, 7, 8, 15, 1, 2, 3, 4, 11, 2, 3, 7, 9, 1, 2, 3, 4, 5, 6, 7, 8, 11, 15, 1, 2, 3, 4, 5, 6, 7, 8, 9, 10, 11, 12, 13, 14, 3, 5, 1, 13, 2, 7, 8, 12, 15, 1, 2, 3, 4, 10, 12, 4, 10, 2, 3, 5, 7, 9, 10, 13, 2, 3, 4, 5, 7, 9, 10, 5, 7, 2, 3, 5, 8, 1, 2, 3, 5, 8, 13, 1, 3, 13, 2, 5, 10, 12, 2, 3, 8, 1, 4, 1, 2, 12, 5, 3, 5, 7, 10, 2, 3, 5, 14, 1, 2, 3, 4, 5, 8, 12, 1, 2, 3, 5, 7, 9, 10, 11, 2, 5, 3, 5, 7, 9, 11, 3, 5, 7, 8, 11, 1, 3, 8, 3, 5, 7, 1, 2, 3, 6, 7, 9, 11, 1, 4, 5, 9, 3, 2, 1, 2, 10, 11, 3, 7, 10, 2, 3, 7, 3, 7, 8, 11, 1, 2, 3, 4, 5, 6, 7, 8, 9, 12, 13, 15, 2, 9, 15, 2, 3, 5, 2, 3, 12, 1, 2, 3, 4, 5, 6, 7, 8, 10, 1, 2, 3, 4, 5, 6, 7, 8, 9, 10, 11, 12, 13, 14, 15, 2, 3, 5, 10, 12, 13, 15, 2, 5, 13, 3, 2, 7, 9, 12, 3, 9, 11, 1, 2, 3, 4, 6, 11, 14, 4, 8, 11, 2, 3, 5, 10, 14, 2, 3, 4, 5, 7, 9, 10, 2, 3, 8, 12, 14, 3, 5, 7, 12, 13, 2, 13, 1, 2, 3, 7, 5, 7, 9, 2, 3, 5, 7, 10, 13, 3, 6, 10, 3, 8, 11, 13, 1, 2, 3, 4, 5, 6, 7, 8, 9, 15, 2, 3, 5, 7, 9, 1, 4, 11, 2, 3, 5, 14, 1, 4, 11, 1, 2, 3, 5, 7, 9, 12, 14, 2, 5, 1, 3, 6, 9, 2, 3, 5, 7, 11, 14, 3, 5, 7, 9, 2, 5, 13, 3, 8, 9, 13, 14, 1, 2, 5, 9, 13, 3, 1, 2, 5, 6, 7, 8, 1, 2, 3, 4, 5, 6, 7, 8, 10, 2, 9, 1, 2, 3, 4, 5, 6, 14, 2, 4, 8, 3, 5, 7, 1, 2, 3, 4, 5, 6, 7, 8, 9, 10, 11, 12, 13, 14, 15, 1, 2, 3, 4, 5, 6, 7, 8, 9, 10, 12, 13, 2, 5, 1, 2, 5, 8, 1, 2, 3, 4, 5, 6, 7, 8, 9, 10, 12, 13, 14, 15, 4, 5, 10, 3, 8, 2, 3, 5, 12, 1, 2, 3, 5, 7, 8, 11, 14, 15, 3, 7, 3, 2, 13, 2, 3, 5, 13, 1, 2, 3, 4, 5, 6, 7, 8, 9, 10, 11, 12, 15, 2, 3, 15, 1, 2, 3, 4, 5, 6, 7, 8, 9, 10, 11, 13, 14, 1, 1, 2, 3, 4, 5, 6, 7, 8, 9, 10, 11, 13, 14, 15, 2, 5, 8, 2, 3, 5, 7, 8, 12, 13, 1, 2, 14, 1, 2, 9, 1, 2, 3, 4, 5, 6, 7, 8, 9, 10, 11, 12, 15, 1, 2, 3, 4, 5, 9, 10, 11, 1, 2, 3, 4, 5, 6, 7, 8, 9, 10, 11, 12, 13, 14, 15, 2, 5, 9, 13, 1, 2, 3, 4, 5, 6, 7, 10, 15, 1, 2, 3, 4, 5, 6, 7, 8, 9, 10, 11, 12, 13, 1, 2, 3, 5, 7, 9, 11, 13, 5, 3, 1, 2, 3, 4, 5, 6, 7, 8, 9, 10, 11, 12, 1, 4, 3, 7, 11, 1, 2, 4, 13, 1, 2, 13, 1, 2, 5, 14, 1, 2, 3, 4, 5, 6, 7, 8, 9, 11, 12, 13, 15, 1, 2, 8, 1, 2, 9, 1, 2, 3, 4, 5, 6, 7, 9, 13, 2, 3, 7, 9, 10, 12, 1, 2, 3, 4, 5, 6, 7, 8, 10, 11, 12, 14, 1, 3, 4, 15, 1, 2, 4, 5, 7, 10, 11, 12, 13, 1, 2, 3, 4, 5, 6, 10, 2, 3, 8, 1, 2, 3, 4, 6, 7, 10, 1, 3, 5, 7, 1, 7, 2, 3, 5, 8, 13, 1, 3, 4, 8, 1, 2, 3, 4, 5, 6, 7, 8, 10, 12, 15, 3, 7, 1, 2, 3, 4, 5, 6, 7, 10, 1, 2, 3, 4, 5, 6, 7, 8, 9, 12, 15, 2, 3, 4, 5, 6, 7, 8, 11, 5, 7, 13, 1, 2, 7, 14, 1, 4, 1, 4, 5, 6, 10, 11, 2, 3, 5, 7, 10, 1, 2, 4, 6, 7, 8, 11, 2, 11, 1, 2, 3, 4, 5, 6, 7, 8, 9, 10, 11, 12, 14, 15, 3, 7, 11, 15, 1, 2, 3, 4, 5, 6, 7, 8, 9, 11, 12, 14, 1, 2, 3, 4, 5, 6, 7, 8, 9, 10, 11, 12, 1, 2, 3, 4, 5, 6, 7, 8, 9, 10, 11, 12, 15, 2, 3, 4, 5, 10, 11, 3, 2, 5, 7, 13, 1, 2, 3, 4, 5, 7, 8, 11, 13, 15, 1, 2, 3, 5, 6, 7, 11, 12, 2, 3, 4, 5, 1, 2, 3, 6, 15, 1, 6, 1, 6, 3, 5, 7, 15, 1, 2, 3, 4, 5, 6, 7, 8, 9, 10, 15, 2, 5, 8, 9, 14, 1, 2, 3, 4, 5, 6, 7, 8, 9, 10, 13, 14, 1, 2, 3, 4, 5, 6, 7, 8, 9, 10, 11, 12, 14, 15, 3, 5, 8, 9, 1, 2, 3, 4, 5, 6, 7, 8, 9, 11, 12, 13, 14, 1, 2, 4, 12, 1, 4, 3, 7, 5, 13, 2, 3, 4, 5, 6, 7, 8, 1, 2, 3, 4, 5, 6, 7, 8, 9, 10, 11, 14, 15, 3, 7, 8, 12, 1, 4, 11, 1, 4, 6, 2, 5, 15, 2, 5, 2, 7, 8, 10, 2, 3, 10, 2, 3, 5, 7, 9, 3, 7, 1, 4, 1, 2, 3, 4, 5, 6, 7, 8, 9, 10, 13, 14, 15, 1, 2, 3, 5, 6, 7, 8, 9, 10, 12, 13, 2, 3, 5, 8, 2, 4, 11, 1, 2, 3, 4, 5, 6, 7, 8, 9, 10, 11, 14, 1, 2, 3, 4, 5, 6, 7, 8, 9, 10, 11, 12, 14, 15, 1, 3, 14, 1, 2, 3, 4, 5, 6, 7, 8, 12, 14, 3, 5, 7, 8, 11, 15, 1, 2, 3, 4, 5, 6, 7, 8, 9, 10, 11, 12, 13, 14, 15, 2, 4, 5, 7, 8, 11, 3, 8, 13, 1, 2, 3, 4, 5, 6, 7, 8, 9, 10, 11, 12, 13, 15, 1, 2, 3, 4, 5, 6, 7, 8, 9, 10, 11, 12, 13, 14, 15, 2, 3, 6, 1, 2, 3, 4, 5, 6, 7, 8, 9, 10, 11, 12, 13, 15, 2, 3, 6, 13, 14, 1, 2, 3, 4, 5, 6, 9, 10, 12, 1, 5, 7, 8, 3, 7, 10, 5, 2, 3, 7, 8, 14, 5, 1, 2, 3, 4, 5, 6, 7, 9, 11, 12, 1, 2, 3, 4, 5, 6, 7, 8, 9, 12, 13, 2, 5, 9, 14, 2, 7, 12, 3, 3, 11, 12, 1, 2, 6, 8, 15, 1, 2, 3, 4, 5, 6, 8, 9, 5, 7, 8, 1, 3, 11, 2, 3, 5, 1, 2, 9, 14, 4, 2, 8, 14, 2, 5, 14, 3, 2, 3, 11, 15, 1, 2, 3, 5, 7, 5, 13, 1, 4, 5, 14, 1, 3, 4, 9, 4, 1, 3, 8, 12, 2, 7, 2, 5, 1, 2, 3, 4, 5, 6, 7, 8, 9, 10, 11, 12, 14, 15, 1, 2, 3, 5, 7, 14, 2, 3, 5, 7, 9, 2, 5, 10, 2, 3, 4, 5, 7, 8, 9, 12, 1, 2, 3, 4, 5, 6, 7, 8, 10, 14, 3, 7, 1, 2, 3, 4, 5, 6, 7, 8, 10, 1, 2, 3, 4, 5, 6, 7, 8, 9, 10, 11, 12, 13, 14, 15, 1, 2, 3, 4, 5, 6, 7, 8, 9, 10, 11, 12, 13, 15, 1, 4, 10, 11, 1, 2, 3, 10, 1, 5, 7, 2, 5, 15, 1, 2, 3, 4, 5, 6, 7, 8, 9, 10, 11, 1, 2, 5, 7, 9, 11, 14, 1, 1, 2, 3, 4, 5, 6, 7, 8, 11, 14, 1, 2, 3, 4, 5, 6, 7, 8, 9, 11, 14, 15, 1, 6, 1, 2, 3, 4, 5, 6, 8, 9, 10, 13, 15, 5, 2, 5, 7, 8, 1, 2, 3, 4, 5, 6, 7, 8, 9, 10, 11, 12, 13, 14, 15, 2, 8, 2, 3, 8, 13, 1, 2, 3, 4, 5, 6, 7, 8, 9, 10, 11, 12, 1, 2, 10, 1, 2, 3, 4, 5, 6, 7, 9, 10, 11, 12, 1, 2, 3, 4, 5, 6, 7, 10, 14, 1, 4, 10, 11, 1, 2, 3, 4, 5, 6, 7, 8, 9, 10, 11, 12, 13, 14, 15, 1, 2, 3, 4, 5, 6, 7, 8, 9, 10, 11, 12, 15, 1, 2, 3, 4, 5, 6, 7, 8, 9, 10, 11, 12, 13, 1, 2, 3, 5, 6, 13, 1, 2, 3, 4, 5, 6, 7, 8, 9, 10, 11, 12, 13, 14, 15, 1, 2, 3, 4, 5, 6, 7, 8, 10, 12, 14, 1, 2, 3, 4, 5, 6, 7, 8, 9, 10, 11, 14, 15, 1, 2, 3, 4, 5, 6, 7, 8, 9, 10, 11, 12, 14, 2, 2], \"Freq\": [0.058745723217725754, 0.9105587005615234, 0.04579982906579971, 0.8701967597007751, 0.15728650987148285, 0.47185954451560974, 0.15728650987148285, 0.15728650987148285, 0.17685167491436005, 0.2947528064250946, 0.23580223321914673, 0.11790111660957336, 0.05895055830478668, 0.05895055830478668, 0.3201265037059784, 0.3201265037059784, 0.1600632518529892, 0.1600632518529892, 0.874184787273407, 0.3894467353820801, 0.19472336769104004, 0.19472336769104004, 0.19472336769104004, 0.3270789384841919, 0.3387603163719177, 0.10513251274824142, 0.07008834183216095, 0.02336278185248375, 0.035044170916080475, 0.08176973462104797, 0.011681390926241875, 0.011681390926241875, 0.011681390926241875, 0.49644264578819275, 0.11861903965473175, 0.1361922323703766, 0.07468606531620026, 0.026359787210822105, 0.08347265422344208, 0.026359787210822105, 0.004393297713249922, 0.008786595426499844, 0.004393297713249922, 0.004393297713249922, 0.004393297713249922, 0.008786595426499844, 0.7260036468505859, 0.007642143871635199, 0.17576931416988373, 0.04585286229848862, 0.015284287743270397, 0.015284287743270397, 0.7511544823646545, 0.18778862059116364, 0.19286003708839417, 0.38572007417678833, 0.19286003708839417, 0.19286003708839417, 0.34112393856048584, 0.10233718156814575, 0.23025867342948914, 0.10233718156814575, 0.05969669297337532, 0.034112393856048584, 0.06822478771209717, 0.025584295392036438, 0.008528098464012146, 0.025584295392036438, 0.008528098464012146, 0.20365700125694275, 0.27154266834259033, 0.11691420525312424, 0.09428564459085464, 0.19988557696342468, 0.03771425783634186, 0.022628555074334145, 0.011314277537167072, 0.007542851846665144, 0.003771425923332572, 0.015085703693330288, 0.003771425923332572, 0.003771425923332572, 0.15022985637187958, 0.8012259602546692, 0.944307267665863, 0.7225289344787598, 0.14450578391551971, 0.923262894153595, 0.7910649180412292, 0.1977662295103073, 0.3679438531398773, 0.3679438531398773, 0.18397192656993866, 0.18397192656993866, 0.32522866129875183, 0.32522866129875183, 0.21681910753250122, 0.06339352577924728, 0.12678705155849457, 0.316967636346817, 0.06339352577924728, 0.06339352577924728, 0.25357410311698914, 0.06339352577924728, 0.08701309561729431, 0.21753273904323578, 0.13051964342594147, 0.13051964342594147, 0.043506547808647156, 0.043506547808647156, 0.3045458197593689, 0.043506547808647156, 0.2937515676021576, 0.1468757838010788, 0.2937515676021576, 0.0734378919005394, 0.1468757838010788, 0.9117788672447205, 0.060483355075120926, 0.28513580560684204, 0.30241677165031433, 0.12096671015024185, 0.06912383437156677, 0.017280958592891693, 0.060483355075120926, 0.034561917185783386, 0.008640479296445847, 0.02592143788933754, 0.008640479296445847, 0.17500998079776764, 0.3043651580810547, 0.23841938376426697, 0.05072752758860588, 0.08116404712200165, 0.02790014073252678, 0.08623679727315903, 0.005072752945125103, 0.010145505890250206, 0.005072752945125103, 0.005072752945125103, 0.0025363764725625515, 0.0025363764725625515, 0.005072752945125103, 0.09856723248958588, 0.2792738378047943, 0.1314229816198349, 0.2464180886745453, 0.032855745404958725, 0.08213936537504196, 0.032855745404958725, 0.016427872702479362, 0.06571149080991745, 0.016427872702479362, 0.230507954955101, 0.230507954955101, 0.230507954955101, 0.1536719650030136, 0.0768359825015068, 0.15536636114120483, 0.7768318057060242, 0.548398494720459, 0.2193593978881836, 0.1096796989440918, 0.7169322967529297, 0.05645136162638664, 0.05645136162638664, 0.1354832649230957, 0.005645136348903179, 0.005645136348903179, 0.011290272697806358, 0.005645136348903179, 0.005645136348903179, 0.1365162581205368, 0.4095487594604492, 0.2730325162410736, 0.32592302560806274, 0.14747647941112518, 0.14895124733448029, 0.11060736328363419, 0.08258683234453201, 0.10913259536027908, 0.0383438840508461, 0.011798118241131306, 0.008848588913679123, 0.005899059120565653, 0.0029495295602828264, 0.0014747647801414132, 0.0014747647801414132, 0.0014747647801414132, 0.0014747647801414132, 0.06803857535123825, 0.1360771507024765, 0.1360771507024765, 0.1360771507024765, 0.06803857535123825, 0.06803857535123825, 0.34019285440444946, 0.06803857535123825, 0.6703944206237793, 0.09409044682979584, 0.10585174709558487, 0.04704522341489792, 0.02352261170744896, 0.01176130585372448, 0.01176130585372448, 0.04704522341489792, 0.380763977766037, 0.1903819888830185, 0.1903819888830185, 0.1903819888830185, 0.8677090406417847, 0.010998041369020939, 0.9678276777267456, 0.12235046178102493, 0.5981578230857849, 0.20391744375228882, 0.027188992127776146, 0.040783487260341644, 0.06190163642168045, 0.9037638902664185, 0.018570492044091225, 0.006190163549035788, 0.6283173561096191, 0.042290590703487396, 0.265826553106308, 0.0060415128245949745, 0.0060415128245949745, 0.0060415128245949745, 0.018124539405107498, 0.018124539405107498, 0.0060415128245949745, 0.04573763906955719, 0.17837679386138916, 0.26985207200050354, 0.04573763906955719, 0.17380303144454956, 0.10977033525705338, 0.09147527813911438, 0.022868819534778595, 0.022868819534778595, 0.009147527627646923, 0.018295055255293846, 0.018295055255293846, 0.3363507091999054, 0.1681753545999527, 0.3363507091999054, 0.1681753545999527, 0.31201431155204773, 0.31201431155204773, 0.15600715577602386, 0.15600715577602386, 0.09916577488183975, 0.09916577488183975, 0.5949946045875549, 0.09916577488183975, 0.99320387840271, 0.9413725137710571, 0.44541463255882263, 0.016808098182082176, 0.09244454652070999, 0.4370105564594269, 0.3327544033527374, 0.1614837497472763, 0.15332801640033722, 0.17290179431438446, 0.04567217454314232, 0.06361481547355652, 0.029360683634877205, 0.014680341817438602, 0.0032622981816530228, 0.0065245963633060455, 0.008155745454132557, 0.0032622981816530228, 0.0016311490908265114, 0.004893447272479534, 0.8925657868385315, 0.020757343620061874, 0.020757343620061874, 0.04151468724012375, 0.9932591319084167, 0.02746976912021637, 0.2527218759059906, 0.2966735064983368, 0.005493953824043274, 0.2966735064983368, 0.08790326118469238, 0.016481861472129822, 0.010987907648086548, 0.005493953824043274, 0.005493953824043274, 0.7372536063194275, 0.22117608785629272, 0.8771266341209412, 0.034039296209812164, 0.3177001178264618, 0.2723143696784973, 0.045385729521512985, 0.14750361442565918, 0.056732162833213806, 0.11346432566642761, 0.011346432380378246, 0.4085855185985565, 0.13619518280029297, 0.4085855185985565, 0.18931080400943756, 0.18931080400943756, 0.5679324269294739, 0.8023614883422852, 0.3623395562171936, 0.2717546820640564, 0.2717546820640564, 0.0905848890542984, 0.2355693131685257, 0.055428072810173035, 0.017321273684501648, 0.5404237508773804, 0.006928509101271629, 0.12124890834093094, 0.010392763651907444, 0.0034642545506358147, 0.0034642545506358147, 0.0034642545506358147, 0.9210749864578247, 0.05117083340883255, 0.18926021456718445, 0.5677806735038757, 0.4718240797519684, 0.31454938650131226, 0.15727469325065613, 0.15095774829387665, 0.34418365359306335, 0.16907267272472382, 0.0543447881937027, 0.09057465195655823, 0.018114930018782616, 0.09057465195655823, 0.03622986003756523, 0.024153240025043488, 0.006038310006260872, 0.006038310006260872, 0.006038310006260872, 0.7699697613716125, 0.12832829356193542, 0.9350363612174988, 0.9784629344940186, 0.19400756061077118, 0.0895419493317604, 0.25370219349861145, 0.11938926577568054, 0.014923658221960068, 0.014923658221960068, 0.2835495173931122, 0.014923658221960068, 0.014923658221960068, 0.8374047875404358, 0.013651092536747456, 0.9692275524139404, 0.47930893301963806, 0.1643344908952713, 0.027389083057641983, 0.2328072041273117, 0.027389083057641983, 0.013694541528820992, 0.013694541528820992, 0.013694541528820992, 0.027389083057641983, 0.37956902384757996, 0.1518276184797287, 0.07591380923986435, 0.07591380923986435, 0.22774142026901245, 0.11558382958173752, 0.4666161835193634, 0.08989853411912918, 0.2782573699951172, 0.012842647731304169, 0.02996617741882801, 0.9724733829498291, 0.6630929708480835, 0.2652371823787689, 0.9759103059768677, 0.18519213795661926, 0.5555763840675354, 0.18519213795661926, 0.019086796790361404, 0.591690719127655, 0.19086796045303345, 0.019086796790361404, 0.03817359358072281, 0.11452078074216843, 0.019086796790361404, 0.607407808303833, 0.0565030537545681, 0.1059432253241539, 0.0494401715695858, 0.010594322346150875, 0.1412576287984848, 0.0070628817193210125, 0.010594322346150875, 0.0035314408596605062, 0.09577588737010956, 0.6385059356689453, 0.19155177474021912, 0.03192529454827309, 0.7200438976287842, 0.18001097440719604, 0.24631310999393463, 0.19238656759262085, 0.1603221446275711, 0.1020231768488884, 0.1224278137087822, 0.08453349024057388, 0.05246906355023384, 0.008744844235479832, 0.004372422117739916, 0.01311726588755846, 0.005829895846545696, 0.005829895846545696, 0.001457473961636424, 0.03594207391142845, 0.9524649381637573, 0.06992559880018234, 0.8740699887275696, 0.3191913068294525, 0.4787869453430176, 0.15959565341472626, 0.15959565341472626, 0.7481714487075806, 0.12469524145126343, 0.9911400079727173, 0.1358698457479477, 0.6793492436408997, 0.8543375730514526, 0.07594112306833267, 0.018985280767083168, 0.037970561534166336, 0.834156334400177, 0.06951303035020828, 0.9285281300544739, 0.8809699416160583, 0.42680221796035767, 0.1422674059867859, 0.1422674059867859, 0.1422674059867859, 0.07845151424407959, 0.8629667162895203, 0.8736579418182373, 0.00919639877974987, 0.10116039216518402, 0.22212517261505127, 0.15377897024154663, 0.18795207142829895, 0.11960586160421371, 0.2050386220216751, 0.01708655245602131, 0.01708655245602131, 0.03417310491204262, 0.01708655245602131, 0.03417310491204262, 0.18269439041614532, 0.18269439041614532, 0.18269439041614532, 0.18269439041614532, 0.18269439041614532, 0.12326899915933609, 0.49307599663734436, 0.12326899915933609, 0.24653799831867218, 0.18598659336566925, 0.14810043573379517, 0.29275667667388916, 0.05166294425725937, 0.05510713905096054, 0.07577231526374817, 0.1205468699336052, 0.02410937286913395, 0.010332589037716389, 0.03099776618182659, 0.003444196190685034, 0.1659642457962036, 0.4978927671909332, 0.1659642457962036, 0.1659642457962036, 0.4967793822288513, 0.16559313237667084, 0.16559313237667084, 0.16559313237667084, 0.16618773341178894, 0.16618773341178894, 0.3323754668235779, 0.16618773341178894, 0.16618773341178894, 0.15825793147087097, 0.2813474237918854, 0.25497108697891235, 0.043960534036159515, 0.1406737118959427, 0.017584213986992836, 0.043960534036159515, 0.05275264009833336, 0.21463081240653992, 0.7597931027412415, 0.02146308124065399, 0.929496169090271, 0.18908265233039856, 0.18908265233039856, 0.3781653046607971, 0.18908265233039856, 0.023324456065893173, 0.30321791768074036, 0.09329782426357269, 0.5131379961967468, 0.023324456065893173, 0.5951356887817383, 0.1983785629272461, 0.1983785629272461, 0.9584293365478516, 0.09868630766868591, 0.18978136777877808, 0.21255512535572052, 0.00759125454351306, 0.3188326954841614, 0.09109505265951157, 0.03036501817405224, 0.01518250908702612, 0.03036501817405224, 0.00759125454351306, 0.00759125454351306, 0.12004595994949341, 0.48018383979797363, 0.12004595994949341, 0.12004595994949341, 0.12004595994949341, 0.16299894452095032, 0.16299894452095032, 0.48899680376052856, 0.16299894452095032, 0.18044604361057281, 0.24767103791236877, 0.19459867477416992, 0.10968288779258728, 0.10260657221078873, 0.05661052465438843, 0.05661052465438843, 0.014152631163597107, 0.0070763155817985535, 0.014152631163597107, 0.0035381577908992767, 0.0070763155817985535, 0.0035381577908992767, 0.0035381577908992767, 0.09113810956478119, 0.8961913585662842, 0.9910340905189514, 0.2988244295120239, 0.009744275361299515, 0.05196946859359741, 0.09744275361299515, 0.5261908769607544, 0.0064961835741996765, 0.0064961835741996765, 0.0587463341653347, 0.9399413466453552, 0.23207080364227295, 0.1426268368959427, 0.21635766327381134, 0.12691371142864227, 0.09548746049404144, 0.0858178436756134, 0.05922640115022659, 0.013295723125338554, 0.00725221261382103, 0.010878318920731544, 0.001208702102303505, 0.00241740420460701, 0.00241740420460701, 0.00241740420460701, 0.00241740420460701, 0.41318729519844055, 0.11238694190979004, 0.08594295382499695, 0.14213642477989197, 0.10247045010328293, 0.059498969465494156, 0.042971476912498474, 0.0033054982777684927, 0.009916494600474834, 0.006610996555536985, 0.006610996555536985, 0.0033054982777684927, 0.0033054982777684927, 0.006610996555536985, 0.35677483677864075, 0.5351622700691223, 0.5567307472229004, 0.1855769157409668, 0.1855769157409668, 0.4183405637741089, 0.1792888194322586, 0.05976293608546257, 0.1792888194322586, 0.05976293608546257, 0.05976293608546257, 0.47751933336257935, 0.31834620237350464, 0.15917310118675232, 0.1858983337879181, 0.3717966675758362, 0.1858983337879181, 0.1858983337879181, 0.8836088180541992, 0.1822337955236435, 0.364467591047287, 0.1822337955236435, 0.1822337955236435, 0.09041497856378555, 0.8589423298835754, 0.35926270484924316, 0.35926270484924316, 0.17963135242462158, 0.4932311177253723, 0.13387702405452728, 0.07750774919986725, 0.1550154983997345, 0.021138476207852364, 0.07750774919986725, 0.007046158891171217, 0.014092317782342434, 0.014092317782342434, 0.26134464144706726, 0.26134464144706726, 0.13067232072353363, 0.26134464144706726, 0.1742856800556183, 0.1742856800556183, 0.11619045585393906, 0.29047614336013794, 0.05809522792696953, 0.05809522792696953, 0.05809522792696953, 0.05809522792696953, 0.19632333517074585, 0.3926466703414917, 0.19632333517074585, 0.03472406417131424, 0.13889625668525696, 0.02314937673509121, 0.03472406417131424, 0.7292053699493408, 0.02314937673509121, 0.011574688367545605, 0.46194157004356384, 0.46194157004356384, 0.3939521014690399, 0.08754491060972214, 0.04377245530486107, 0.1532035917043686, 0.19697605073451996, 0.1313173621892929, 0.598706066608429, 0.06652289628982544, 0.06652289628982544, 0.13304579257965088, 0.18762952089309692, 0.5003453493118286, 0.06254316866397858, 0.18762952089309692, 0.4809458553791046, 0.16031527519226074, 0.16031527519226074, 0.16481436789035797, 0.4944431185722351, 0.16481436789035797, 0.18467196822166443, 0.18467196822166443, 0.36934393644332886, 0.18467196822166443, 0.3285289406776428, 0.4517273008823395, 0.05133264511823654, 0.12319835275411606, 0.030799588188529015, 0.010266529396176338, 0.11439438164234161, 0.37178176641464233, 0.08579578995704651, 0.1429929882287979, 0.08579578995704651, 0.05719719082117081, 0.08579578995704651, 0.23806878924369812, 0.11903439462184906, 0.07142063975334167, 0.3571031987667084, 0.11903439462184906, 0.023806879296898842, 0.07142063975334167, 0.16232143342494965, 0.36071428656578064, 0.09017857164144516, 0.036071427166461945, 0.036071427166461945, 0.10821428149938583, 0.036071427166461945, 0.05410714074969292, 0.09017857164144516, 0.018035713583230972, 0.15784069895744324, 0.3156813979148865, 0.15784069895744324, 0.15784069895744324, 0.3843506872653961, 0.19217534363269806, 0.09608767181634903, 0.2882629930973053, 0.7339434623718262, 0.18348586559295654, 0.16098129749298096, 0.3219625949859619, 0.16098129749298096, 0.16098129749298096, 0.16098129749298096, 0.10434836894273758, 0.6260902285575867, 0.12521804869174957, 0.06260902434587479, 0.020869674161076546, 0.020869674161076546, 0.503015398979187, 0.0754523053765297, 0.13832922279834747, 0.05030153691768646, 0.012575384229421616, 0.11317846179008484, 0.11317846179008484, 0.5167572498321533, 0.34450483322143555, 0.7897014021873474, 0.05640724301338196, 0.16922172904014587, 0.548401415348053, 0.03133722394704819, 0.09401167184114456, 0.12534889578819275, 0.015668611973524094, 0.17235472798347473, 0.9943093061447144, 0.013245413079857826, 0.317889928817749, 0.19426606595516205, 0.030905963853001595, 0.2958142161369324, 0.004415137693285942, 0.07947248220443726, 0.02207568846642971, 0.004415137693285942, 0.008830275386571884, 0.013245413079857826, 0.004415137693285942, 0.004415137693285942, 0.004415137693285942, 0.8392978310585022, 0.1198996901512146, 0.039128318428993225, 0.003912832122296095, 0.9508181810379028, 0.02683975361287594, 0.9393913745880127, 0.27998602390289307, 0.23253075778484344, 0.1328747272491455, 0.09206320345401764, 0.10060514509677887, 0.09491051733493805, 0.025625839829444885, 0.00949105154722929, 0.007592841517180204, 0.008541946299374104, 0.006643736269325018, 0.0056946310214698315, 0.001898210379295051, 0.0009491051896475255, 0.49855613708496094, 0.02694898098707199, 0.030317602679133415, 0.2711741328239441, 0.025264669209718704, 0.11284885555505753, 0.01684311218559742, 0.006737245246767998, 0.0016843113116919994, 0.0016843113116919994, 0.003368622623383999, 0.003368622623383999, 0.1342022716999054, 0.2385818064212799, 0.1714806705713272, 0.052189771085977554, 0.23112612962722778, 0.05964545160531998, 0.03727840632200241, 0.02982272580265999, 0.007455681450664997, 0.007455681450664997, 0.007455681450664997, 0.014911362901329994, 0.07107381522655487, 0.31163135170936584, 0.10934433341026306, 0.06560660153627396, 0.3225657641887665, 0.010934432968497276, 0.04920494928956032, 0.03280330076813698, 0.005467216484248638, 0.010934432968497276, 0.005467216484248638, 0.9292404651641846, 0.1967637538909912, 0.3935275077819824, 0.1967637538909912, 0.1967637538909912, 0.9608815312385559, 0.5114749670028687, 0.2557374835014343, 0.19180311262607574, 0.9103168845176697, 0.07002437114715576, 0.9746173024177551, 0.023380376398563385, 0.23380376398563385, 0.1636626273393631, 0.2805645167827606, 0.25718414783477783, 0.5366929769515991, 0.1192651093006134, 0.2981627881526947, 0.019105518236756325, 0.7355624437332153, 0.057316552847623825, 0.13373862206935883, 0.028658276423811913, 0.009552759118378162, 0.19838759303092957, 0.39677518606185913, 0.19838759303092957, 0.19838759303092957, 0.9570455551147461, 0.06761134415864944, 0.45975714921951294, 0.36510124802589417, 0.013522269204258919, 0.054089076817035675, 0.04056680575013161, 0.190408393740654, 0.190408393740654, 0.380816787481308, 0.190408393740654, 0.17653051018714905, 0.137301504611969, 0.5099770426750183, 0.15691600739955902, 0.019614500924944878, 0.7377656102180481, 0.06706959754228592, 0.06706959754228592, 0.06706959754228592, 0.9343423247337341, 0.041526325047016144, 0.8775943517684937, 0.3175041079521179, 0.15875205397605896, 0.15875205397605896, 0.3175041079521179, 0.13802114129066467, 0.5520845651626587, 0.27604228258132935, 0.37239736318588257, 0.18619868159294128, 0.37239736318588257, 0.08370666205883026, 0.899846613407135, 0.2792249023914337, 0.21478837728500366, 0.19330954551696777, 0.04295767471194267, 0.1288730353116989, 0.04295767471194267, 0.06443651765584946, 0.14704065024852753, 0.2450677454471588, 0.4411219656467438, 0.14704065024852753, 0.5287759900093079, 0.17625866830348969, 0.058752890676259995, 0.14688222110271454, 0.029376445338129997, 0.190973162651062, 0.8020873069763184, 0.10906140506267548, 0.2538498342037201, 0.14290805160999298, 0.058291442692279816, 0.22752465307712555, 0.04512885957956314, 0.11094177514314651, 0.015042953193187714, 0.005641107447445393, 0.011282214894890785, 0.01316258404403925, 0.0018803691491484642, 0.0018803691491484642, 0.0037607382982969284, 0.2498822808265686, 0.7218821048736572, 0.4352770447731018, 0.24810791015625, 0.004352770280092955, 0.06529155373573303, 0.013058311305940151, 0.16105251014232635, 0.013058311305940151, 0.004352770280092955, 0.026116622611880302, 0.026116622611880302, 0.49084073305130005, 0.16361357271671295, 0.16361357271671295, 0.16361357271671295, 0.124007448554039, 0.14172279834747314, 0.14172279834747314, 0.14172279834747314, 0.17715349793434143, 0.10629209876060486, 0.035430699586868286, 0.017715349793434143, 0.10629209876060486, 0.8729192018508911, 0.38530951738357544, 0.2889821231365204, 0.09632737934589386, 0.19265475869178772, 0.11340906471014023, 0.3402271866798401, 0.22681812942028046, 0.22681812942028046, 0.11340906471014023, 0.055961284786462784, 0.16788384318351746, 0.6715353727340698, 0.055961284786462784, 0.3626548647880554, 0.1813274323940277, 0.1813274323940277, 0.1813274323940277, 0.24807272851467133, 0.16538181900978088, 0.4134545624256134, 0.08269090950489044, 0.018729208037257195, 0.006243069190531969, 0.12486138194799423, 0.0031215345952659845, 0.006243069190531969, 0.8209635615348816, 0.015607672743499279, 0.0031215345952659845, 0.0031215345952659845, 0.8736960291862488, 0.3624579906463623, 0.5436869859695435, 0.015848303213715553, 0.001440754858776927, 0.001440754858776927, 0.001440754858776927, 0.9768317341804504, 0.001440754858776927, 0.001440754858776927, 0.1582552194595337, 0.1582552194595337, 0.3165104389190674, 0.1582552194595337, 0.1582552194595337, 0.9909775853157043, 0.0016298972768709064, 0.0016298972768709064, 0.0016298972768709064, 0.9262663125991821, 0.037050653249025345, 0.03128720819950104, 0.9626833200454712, 0.0024067081976681948, 0.04086809232831001, 0.939966082572937, 0.8635141849517822, 0.018372641876339912, 0.06430424749851227, 0.027558963745832443, 0.009186320938169956, 0.009186320938169956, 0.4035479426383972, 0.13451598584651947, 0.26903197169303894, 0.37711822986602783, 0.18855911493301392, 0.18855911493301392, 0.18855911493301392, 0.13002660870552063, 0.0010926605900749564, 0.8588312268257141, 0.0010926605900749564, 0.0010926605900749564, 0.006555963773280382, 0.29831621050834656, 0.15744467079639435, 0.09943874180316925, 0.11186858266592026, 0.10358201712369919, 0.16158795356750488, 0.033146247267723083, 0.016573123633861542, 0.008286561816930771, 0.0041432809084653854, 0.008286561816930771, 0.44023397564888, 0.008632038719952106, 0.12948058545589447, 0.4143378436565399, 0.012969514355063438, 0.7306159734725952, 0.10375611484050751, 0.01729268580675125, 0.082140251994133, 0.01729268580675125, 0.012969514355063438, 0.004323171451687813, 0.01729268580675125, 0.004323171451687813, 0.004323171451687813, 0.8676563501358032, 0.26918503642082214, 0.1794566959142685, 0.1794566959142685, 0.08972834795713425, 0.26918503642082214, 0.27030763030052185, 0.2162461131811142, 0.027030764147639275, 0.16218458116054535, 0.1081230565905571, 0.05406152829527855, 0.13515381515026093, 0.8526512980461121, 0.10658141225576401, 0.8838655948638916, 0.0714234858751297, 0.008927935734391212, 0.008927935734391212, 0.017855871468782425, 0.9462881088256836, 0.02557535283267498, 0.7272970676422119, 0.15007717907428741, 0.023088796064257622, 0.046177592128515244, 0.011544398032128811, 0.011544398032128811, 0.011544398032128811, 0.2710214853286743, 0.254470556974411, 0.10551217943429947, 0.11171878129243851, 0.07241032272577286, 0.07241032272577286, 0.05792825669050217, 0.02068866416811943, 0.006206599064171314, 0.004137732554227114, 0.008275465108454227, 0.002068866277113557, 0.006206599064171314, 0.002068866277113557, 0.002068866277113557, 0.40941062569618225, 0.0898706242442131, 0.09985624998807907, 0.12981311976909637, 0.03994249925017357, 0.18972687423229218, 0.019971249625086784, 0.019971249625086784, 0.4169304668903351, 0.22741660475730896, 0.11370830237865448, 0.07580553740262985, 0.037902768701314926, 0.037902768701314926, 0.037902768701314926, 0.37734735012054443, 0.18867367506027222, 0.18867367506027222, 0.18867367506027222, 0.9365919232368469, 0.12790894508361816, 0.767453670501709, 0.3241351246833801, 0.04766692966222763, 0.009533385746181011, 0.5529363751411438, 0.04766692966222763, 0.009533385746181011, 0.17878340184688568, 0.17878340184688568, 0.35756680369377136, 0.04795023053884506, 0.40883880853652954, 0.1766587495803833, 0.07066349685192108, 0.12870851159095764, 0.037855446338653564, 0.06309241056442261, 0.02271326817572117, 0.012618482112884521, 0.0050473930314183235, 0.0025236965157091618, 0.012618482112884521, 0.007571089081466198, 0.0025236965157091618, 0.269337922334671, 0.538675844669342, 0.1346689611673355, 0.11931360512971878, 0.29671409726142883, 0.25432637333869934, 0.06279663741588593, 0.10675428062677383, 0.06279663741588593, 0.05023730918765068, 0.021978821605443954, 0.00784957967698574, 0.0047097476199269295, 0.0047097476199269295, 0.0031398318242281675, 0.0031398318242281675, 0.0015699159121140838, 0.0015699159121140838, 0.7724119424819946, 0.03048994578421116, 0.050816576927900314, 0.10163315385580063, 0.010163315571844578, 0.010163315571844578, 0.010163315571844578, 0.08648762106895447, 0.3057236969470978, 0.30773502588272095, 0.04626082256436348, 0.12068040668964386, 0.030170101672410965, 0.04626082256436348, 0.0281587615609169, 0.008045360445976257, 0.006034020334482193, 0.004022680222988129, 0.006034020334482193, 0.0020113401114940643, 0.0020113401114940643, 0.0020113401114940643, 0.6473029851913452, 0.04315353184938431, 0.08630706369876862, 0.04315353184938431, 0.17261412739753723, 0.043799400329589844, 0.24733778834342957, 0.6209208965301514, 0.015458611771464348, 0.051528703421354294, 0.0025764352176338434, 0.007729305885732174, 0.005152870435267687, 0.13451656699180603, 0.6456795334815979, 0.08070994168519974, 0.026903312653303146, 0.026903312653303146, 0.026903312653303146, 0.05380662530660629, 0.026903312653303146, 0.718901515007019, 0.04810493439435959, 0.07750239968299866, 0.05077743157744408, 0.018707474693655968, 0.07482989877462387, 0.002672496484592557, 0.002672496484592557, 0.002672496484592557, 0.04052870348095894, 0.9321601390838623, 0.23029367625713348, 0.20877090096473694, 0.12913663685321808, 0.10115703195333481, 0.16572535037994385, 0.10330931097269058, 0.025827327743172646, 0.010761386714875698, 0.010761386714875698, 0.006456831935793161, 0.0021522773895412683, 0.004304554779082537, 0.0021522773895412683, 0.0021522773895412683, 0.1167643815279007, 0.25020939111709595, 0.1501256376504898, 0.06672250479459763, 0.2335287630558014, 0.06672250479459763, 0.03336125239729881, 0.016680626198649406, 0.016680626198649406, 0.03336125239729881, 0.5773261189460754, 0.04364664852619171, 0.12697206437587738, 0.17061872780323029, 0.009919692762196064, 0.003967877011746168, 0.031743016093969345, 0.01388757023960352, 0.003967877011746168, 0.007935754023492336, 0.003967877011746168, 0.003967877011746168, 0.001983938505873084, 0.001983938505873084, 0.37069088220596313, 0.37069088220596313, 0.18534544110298157, 0.266430139541626, 0.2699825167655945, 0.09236244112253189, 0.12078166007995605, 0.09236244112253189, 0.06039083003997803, 0.039076417684555054, 0.039076417684555054, 0.0035524016711860895, 0.0035524016711860895, 0.0035524016711860895, 0.007104803342372179, 0.022419549524784088, 0.36992257833480835, 0.22419551014900208, 0.1569368541240692, 0.022419549524784088, 0.13451729714870453, 0.011209774762392044, 0.022419549524784088, 0.022419549524784088, 0.011209774762392044, 0.3945091664791107, 0.19725458323955536, 0.19725458323955536, 0.09862729161977768, 0.27699148654937744, 0.2425547093153, 0.12127735465765, 0.10331033915281296, 0.0988185852766037, 0.10929934680461884, 0.014972512610256672, 0.004491753876209259, 0.011978010646998882, 0.004491753876209259, 0.0029945026617497206, 0.0014972513308748603, 0.0029945026617497206, 0.0014972513308748603, 0.0014972513308748603, 0.928848922252655, 0.01511687133461237, 0.9674797654151917, 0.7333319783210754, 0.18333299458026886, 0.2305450588464737, 0.02305450476706028, 0.02305450476706028, 0.5533081293106079, 0.09221801906824112, 0.04610900953412056, 0.2808555066585541, 0.14042775332927704, 0.2808555066585541, 0.14042775332927704, 0.3730866312980652, 0.0932716578245163, 0.4663582742214203, 0.2143455147743225, 0.2143455147743225, 0.2143455147743225, 0.2143455147743225, 0.3127913177013397, 0.6255826354026794, 0.15639565885066986, 0.9726846218109131, 0.18645969033241272, 0.18645969033241272, 0.37291938066482544, 0.18645969033241272, 0.8520354628562927, 0.6477737426757812, 0.1619434356689453, 0.1619434356689453, 0.1619434356689453, 0.36016544699668884, 0.5402482151985168, 0.28526821732521057, 0.28526821732521057, 0.07131705433130264, 0.21395115554332733, 0.07131705433130264, 0.061882197856903076, 0.6188219785690308, 0.2475287914276123, 0.9783717393875122, 0.34106650948524475, 0.12789994478225708, 0.1563221514225006, 0.1634276956319809, 0.0781610757112503, 0.0781610757112503, 0.021316656842827797, 0.01421110425144434, 0.00710555212572217, 0.021316656842827797, 0.5529423952102661, 0.020479347556829453, 0.28671085834503174, 0.040958695113658905, 0.020479347556829453, 0.06143804267048836, 0.020479347556829453, 0.18342885375022888, 0.7337154150009155, 0.31363749504089355, 0.47045624256134033, 0.15681874752044678, 0.9609891772270203, 0.01685945875942707, 0.008429729379713535, 0.21480989456176758, 0.016212066635489464, 0.012159050442278385, 0.7133309245109558, 0.008106033317744732, 0.004053016658872366, 0.020265083760023117, 0.004053016658872366, 0.004053016658872366, 0.012562567368149757, 0.5904406905174255, 0.21356365084648132, 0.10050053894519806, 0.025125134736299515, 0.006281283684074879, 0.006281283684074879, 0.025125134736299515, 0.006281283684074879, 0.006281283684074879, 0.006281283684074879, 0.006281283684074879, 0.37355688214302063, 0.18677844107151031, 0.18677844107151031, 0.4110702872276306, 0.09486237168312073, 0.06550020724534988, 0.3162079155445099, 0.01355176791548729, 0.07679335027933121, 0.009034511633217335, 0.006775883957743645, 0.004517255816608667, 0.0022586279083043337, 0.0022586279083043337, 0.5396970510482788, 0.17989902198314667, 0.17989902198314667, 0.8997519612312317, 0.1012653335928917, 0.05063266679644585, 0.2025306671857834, 0.2025306671857834, 0.4050613343715668, 0.025316333398222923, 0.09672587364912033, 0.4210420250892639, 0.017069270834326744, 0.03413854166865349, 0.324316143989563, 0.03413854166865349, 0.028448786586523056, 0.011379513889551163, 0.005689756944775581, 0.011379513889551163, 0.005689756944775581, 0.005689756944775581, 0.9897278547286987, 0.6282756924629211, 0.14498670399188995, 0.1691511571407318, 0.02416444942355156, 0.0335971936583519, 0.2351803481578827, 0.1679859608411789, 0.28557613492012024, 0.01679859682917595, 0.1007915809750557, 0.01679859682917595, 0.0671943873167038, 0.01679859682917595, 0.01679859682917595, 0.01679859682917595, 0.29660093784332275, 0.01744711399078369, 0.5234134197235107, 0.03489422798156738, 0.10468268394470215, 0.01744711399078369, 0.12840943038463593, 0.12840943038463593, 0.25681886076927185, 0.19261415302753448, 0.06420471519231796, 0.06420471519231796, 0.12840943038463593, 0.07258780300617218, 0.21776339411735535, 0.5807024240493774, 0.10888169705867767, 0.3716643750667572, 0.249807208776474, 0.0487428680062294, 0.0487428680062294, 0.201064333319664, 0.03046429343521595, 0.0182785764336586, 0.006092858500778675, 0.006092858500778675, 0.01218571700155735, 0.31266945600509644, 0.13027894496917725, 0.1693626195192337, 0.12159367650747299, 0.04776894301176071, 0.1389642059803009, 0.04342631250619888, 0.004342631436884403, 0.008685262873768806, 0.004342631436884403, 0.008685262873768806, 0.004342631436884403, 0.008685262873768806, 0.060820672661066055, 0.4595339894294739, 0.17570416629314423, 0.06757852435112, 0.12839920818805695, 0.027031410485506058, 0.0067578526213765144, 0.0067578526213765144, 0.013515705242753029, 0.020273558795452118, 0.0067578526213765144, 0.013515705242753029, 0.23629894852638245, 0.4725978970527649, 0.23629894852638245, 0.033748239278793335, 0.41341593861579895, 0.19405238330364227, 0.008437059819698334, 0.16874121129512787, 0.008437059819698334, 0.059059422463178635, 0.075933538377285, 0.008437059819698334, 0.008437059819698334, 0.008437059819698334, 0.32064488530158997, 0.40080609917640686, 0.08016122132539749, 0.08016122132539749, 0.08016122132539749, 0.5541645884513855, 0.13854114711284637, 0.13854114711284637, 0.24104534089565277, 0.08034844696521759, 0.5222648978233337, 0.08034844696521759, 0.040174223482608795, 0.030751101672649384, 0.3821922540664673, 0.2152577042579651, 0.03514411672949791, 0.2152577042579651, 0.030751101672649384, 0.030751101672649384, 0.026358086615800858, 0.004393014591187239, 0.004393014591187239, 0.013179043307900429, 0.004393014591187239, 0.07907484471797943, 0.8856382966041565, 0.015814969316124916, 0.3280467689037323, 0.17128105461597443, 0.13934729993343353, 0.14515343308448792, 0.10741354525089264, 0.049352169036865234, 0.02322455123066902, 0.01161227561533451, 0.008709206245839596, 0.01161227561533451, 0.005806137807667255, 0.3193376660346985, 0.19367237389087677, 0.1404494345188141, 0.16632169485092163, 0.03178592398762703, 0.07392075657844543, 0.03548196330666542, 0.014784150756895542, 0.006652867887169123, 0.004435245413333178, 0.0036960376892238855, 0.005913660395890474, 0.0014784150989726186, 0.0007392075494863093, 0.0007392075494863093, 0.04231514036655426, 0.25389084219932556, 0.004701682366430759, 0.056420184671878815, 0.5971136093139648, 0.028210092335939407, 0.009403364732861519, 0.8412187099456787, 0.07010155916213989, 0.24153180420398712, 0.12076590210199356, 0.24153180420398712, 0.3622976839542389, 0.10988721251487732, 0.549436092376709, 0.10988721251487732, 0.10988721251487732, 0.051745496690273285, 0.258727490901947, 0.3622184693813324, 0.15523648262023926, 0.051745496690273285, 0.051745496690273285, 0.4053042531013489, 0.12098634243011475, 0.0592833086848259, 0.18510910868644714, 0.09436935186386108, 0.09073975682258606, 0.020567677915096283, 0.0036295903846621513, 0.004839453846216202, 0.002419726923108101, 0.004839453846216202, 0.0036295903846621513, 0.0012098634615540504, 0.9377793073654175, 0.4135005474090576, 0.16540022194385529, 0.08270011097192764, 0.24810032546520233, 0.09204940497875214, 0.8284446597099304, 0.3795924186706543, 0.3795924186706543, 0.18979620933532715, 0.2518596053123474, 0.2399473339319229, 0.15315787494182587, 0.1259298026561737, 0.1038070023059845, 0.040842097252607346, 0.027228064835071564, 0.018719295039772987, 0.011912278831005096, 0.010210524313151836, 0.005105262156575918, 0.0017017540521919727, 0.005105262156575918, 0.0017017540521919727, 0.0034035081043839455, 0.09510219097137451, 0.09510219097137451, 0.4814548194408417, 0.005943886935710907, 0.12482162564992905, 0.005943886935710907, 0.13670939207077026, 0.011887773871421814, 0.005943886935710907, 0.01783166080713272, 0.023775547742843628, 0.005943886935710907, 0.005943886935710907, 0.09267245978116989, 0.4032064974308014, 0.16258326172828674, 0.05852997675538063, 0.10730495303869247, 0.04714914783835411, 0.08129163086414337, 0.014632494188845158, 0.008129163645207882, 0.003251665271818638, 0.003251665271818638, 0.008129163645207882, 0.001625832635909319, 0.003251665271818638, 0.001625832635909319, 0.7591512799263, 0.10845018923282623, 0.3145071864128113, 0.15725359320640564, 0.15725359320640564, 0.3145071864128113, 0.05139598250389099, 0.4882618188858032, 0.33407387137413025, 0.10279196500778198, 0.4996609687805176, 0.06929604709148407, 0.025530122220516205, 0.13859209418296814, 0.05106024444103241, 0.16412222385406494, 0.007294320967048407, 0.03282444179058075, 0.0036471604835242033, 0.0036471604835242033, 0.007294320967048407, 0.4980415403842926, 0.16601385176181793, 0.16601385176181793, 0.16601385176181793, 0.9395545721054077, 0.028503362089395523, 0.005344380624592304, 0.9512997269630432, 0.0035629202611744404, 0.007125840522348881, 0.1598576009273529, 0.8229706287384033, 0.0118413046002388, 0.9411722421646118, 0.14729510247707367, 0.2651311755180359, 0.21357789635658264, 0.05646312236785889, 0.13502050936222076, 0.06382787972688675, 0.07119262963533401, 0.031913939863443375, 0.004909836687147617, 0.007364755030721426, 0.004909836687147617, 0.0024549183435738087, 0.18564191460609436, 0.5569257736206055, 0.18564191460609436, 0.24462376534938812, 0.15932731330394745, 0.16898351907730103, 0.13840554654598236, 0.11265567690134048, 0.0756402388215065, 0.05632783845067024, 0.009656201116740704, 0.011265568435192108, 0.011265568435192108, 0.006437467411160469, 0.0032187337055802345, 0.0016093668527901173, 0.0016093668527901173, 0.2658325135707855, 0.3987487852573395, 0.13291625678539276, 0.14220255613327026, 0.3226315975189209, 0.1253829002380371, 0.07798204571008682, 0.09633076190948486, 0.15290597081184387, 0.029052134603261948, 0.029052134603261948, 0.006116238888353109, 0.0015290597220882773, 0.00458717904984951, 0.0015290597220882773, 0.00458717904984951, 0.00458717904984951, 0.1314961463212967, 0.2817774713039398, 0.06574807316064835, 0.03757032752037048, 0.366310715675354, 0.046962909400463104, 0.028177745640277863, 0.01878516376018524, 0.00939258188009262, 0.00939258188009262, 0.00939258188009262, 0.1536911427974701, 0.1536911427974701, 0.46107345819473267, 0.16209088265895844, 0.6969907879829407, 0.016209088265895844, 0.06483635306358337, 0.016209088265895844, 0.03241817653179169, 0.9603855013847351, 0.01778491586446762, 0.7167575359344482, 0.23891916871070862, 0.32270705699920654, 0.32270705699920654, 0.32270705699920654, 0.9823095798492432, 0.14008072018623352, 0.18677428364753723, 0.17639793455600739, 0.057069920003414154, 0.3164786398410797, 0.01556452363729477, 0.06225809454917908, 0.010376349091529846, 0.010376349091529846, 0.005188174545764923, 0.010376349091529846, 0.005188174545764923, 0.18893271684646606, 0.801074743270874, 0.5655338764190674, 0.18851129710674286, 0.18851129710674286, 0.18116813898086548, 0.18116813898086548, 0.36233627796173096, 0.18116813898086548, 0.2891039252281189, 0.06671629101037979, 0.5337303280830383, 0.02223876304924488, 0.02223876304924488, 0.02223876304924488, 0.02223876304924488, 0.46185365319252014, 0.23092682659626007, 0.15395121276378632, 0.07697560638189316, 0.32339638471603394, 0.16169819235801697, 0.14941732585430145, 0.14532369375228882, 0.049123503267765045, 0.08391931653022766, 0.047076690942049026, 0.0020468125585466623, 0.0020468125585466623, 0.010234062559902668, 0.0020468125585466623, 0.004093625117093325, 0.0020468125585466623, 0.0020468125585466623, 0.010234062559902668, 0.4400121867656708, 0.09711980074644089, 0.0693712905049324, 0.1664910912513733, 0.0753173977136612, 0.09711980074644089, 0.01982036791741848, 0.011892220936715603, 0.0039640734903514385, 0.0039640734903514385, 0.007928146980702877, 0.0019820367451757193, 0.0019820367451757193, 0.0019820367451757193, 0.1199278011918068, 0.6596028804779053, 0.1798917055130005, 0.1478397697210312, 0.01642663963139057, 0.3121061623096466, 0.13141311705112457, 0.03285327926278114, 0.06570655852556229, 0.2956795394420624, 0.17280209064483643, 0.2580511271953583, 0.14054569602012634, 0.13824167847633362, 0.15206584334373474, 0.05990472435951233, 0.020736251026391983, 0.020736251026391983, 0.011520139873027802, 0.009216111153364182, 0.004608055576682091, 0.004608055576682091, 0.0023040277883410454, 0.0023040277883410454, 0.28522470593452454, 0.18126429617404938, 0.1479436606168747, 0.05064737796783447, 0.12261996418237686, 0.1492764800786972, 0.039984770119190216, 0.0066641285084187984, 0.005331302992999554, 0.003998477011919022, 0.002665651496499777, 0.002665651496499777, 0.0013328257482498884, 0.917668879032135, 0.8124909996986389, 0.0470036119222641, 0.026859207078814507, 0.08057761937379837, 0.013429603539407253, 0.013429603539407253, 0.9780972003936768, 0.8844360709190369, 0.08559058606624603, 0.36728811264038086, 0.17140111327171326, 0.0489717461168766, 0.0489717461168766, 0.0489717461168766, 0.17140111327171326, 0.0244858730584383, 0.0244858730584383, 0.0489717461168766, 0.0489717461168766, 0.5692980885505676, 0.1897660344839096, 0.1897660344839096, 0.1887599378824234, 0.30201590061187744, 0.22651192545890808, 0.11325596272945404, 0.07550397515296936, 0.03775198757648468, 0.18132148683071136, 0.5439644455909729, 0.18132148683071136, 0.17679594457149506, 0.17679594457149506, 0.17679594457149506, 0.3535918891429901, 0.2649160623550415, 0.2649160623550415, 0.529832124710083, 0.48783430457115173, 0.10840762406587601, 0.10840762406587601, 0.1626114398241043, 0.054203812032938004, 0.8488147854804993, 0.011627599596977234, 0.011627599596977234, 0.023255199193954468, 0.08139319717884064, 0.41432058811187744, 0.15066203474998474, 0.07533101737499237, 0.2636585533618927, 0.037665508687496185, 0.037665508687496185, 0.22803936898708344, 0.1368236243724823, 0.5244905352592468, 0.04560787230730057, 0.022803936153650284, 0.022803936153650284, 0.1110701784491539, 0.1110701784491539, 0.5553508996963501, 0.1110701784491539, 0.8888909816741943, 0.09016477316617966, 0.18032954633235931, 0.2704943120479584, 0.4508238732814789, 0.9295345544815063, 0.5940708518028259, 0.19802360236644745, 0.19802360236644745, 0.38832855224609375, 0.19416427612304688, 0.19416427612304688, 0.19416427612304688, 0.8992473483085632, 0.3065478801727295, 0.613095760345459, 0.8529492616653442, 0.3951086699962616, 0.012883977964520454, 0.23298527300357819, 0.26304787397384644, 0.045093923807144165, 0.01181031297892332, 0.02469429187476635, 0.0032209944911301136, 0.0021473297383636236, 0.0021473297383636236, 0.0021473297383636236, 0.004294659476727247, 0.0021473297383636236, 0.8070485591888428, 0.10088106989860535, 0.05044053494930267, 0.05044053494930267, 0.8929443359375, 0.027475209906697273, 0.013737604953348637, 0.041212815791368484, 0.013737604953348637, 0.012833477929234505, 0.9796221852302551, 0.28681817650794983, 0.14340908825397491, 0.14340908825397491, 0.28681817650794983, 0.15900051593780518, 0.18951576948165894, 0.22966742515563965, 0.05460624024271965, 0.05300017446279526, 0.2184249609708786, 0.06263656914234161, 0.008030329830944538, 0.008030329830944538, 0.003212131792679429, 0.003212131792679429, 0.006424263585358858, 0.004818197805434465, 0.5985364317893982, 0.19951215386390686, 0.19951215386390686, 0.9215574860572815, 0.9550946950912476, 0.02809102088212967, 0.2749633491039276, 0.3116251528263092, 0.0183308906853199, 0.0549926720559597, 0.2932942509651184, 0.0366617813706398, 0.0183308906853199, 0.2060495913028717, 0.3008688688278198, 0.15134616196155548, 0.10393651574850082, 0.10028962045907974, 0.06929101049900055, 0.038292400538921356, 0.005470342934131622, 0.007293790578842163, 0.005470342934131622, 0.005470342934131622, 0.0018234476447105408, 0.0018234476447105408, 0.0018234476447105408, 0.16841940581798553, 0.8201292753219604, 0.007322582881897688, 0.8388904929161072, 0.3714829385280609, 0.18539167940616608, 0.11263418942689896, 0.1273256093263626, 0.046872612088918686, 0.08325135707855225, 0.04477383941411972, 0.014691416174173355, 0.00209877360612154, 0.00419754721224308, 0.00419754721224308, 0.0006995912408456206, 0.0006995912408456206, 0.0013991824816912413, 0.06544435769319534, 0.6918403506278992, 0.11219032853841782, 0.05609516426920891, 0.028047582134604454, 0.00934919435530901, 0.028047582134604454, 0.00934919435530901, 0.42262476682662964, 0.0926523506641388, 0.17230086028575897, 0.0568917952477932, 0.03901151567697525, 0.17880278825759888, 0.013003839179873466, 0.00812739972025156, 0.01137835904955864, 0.0032509597949683666, 0.0016254798974841833, 0.8644964098930359, 0.07517360150814056, 0.03758680075407028, 0.31924203038215637, 0.10641401261091232, 0.06384840607643127, 0.19154521822929382, 0.0851312056183815, 0.14897961914539337, 0.06384840607643127, 0.4731490910053253, 0.31543272733688354, 0.15771636366844177, 0.7343176603317261, 0.14686353504657745, 0.5444356799125671, 0.1814785748720169, 0.1814785748720169, 0.2619433104991913, 0.06548582762479782, 0.22920039296150208, 0.06548582762479782, 0.2946862280368805, 0.03274291381239891, 0.03274291381239891, 0.6459153294563293, 0.16147883236408234, 0.16147883236408234, 0.6084811687469482, 0.16226163506507874, 0.16226163506507874, 0.040565408766269684, 0.23006735742092133, 0.19826942682266235, 0.16460104286670685, 0.07481865584850311, 0.11783938109874725, 0.13280311226844788, 0.04302072525024414, 0.01309326384216547, 0.0056113991886377335, 0.0056113991886377335, 0.0056113991886377335, 0.001870466279797256, 0.001870466279797256, 0.003740932559594512, 0.31616902351379395, 0.31616902351379395, 0.31616902351379395, 0.29428631067276, 0.14714315533638, 0.14714315533638, 0.29428631067276, 0.9025348424911499, 0.05014082416892052, 0.13866077363491058, 0.13866077363491058, 0.13866077363491058, 0.27732154726982117, 0.13866077363491058, 0.8316255211830139, 0.015120464377105236, 0.015120464377105236, 0.10584324598312378, 0.015120464377105236, 0.5199093222618103, 0.06916224956512451, 0.07870186865329742, 0.10493582487106323, 0.01192452572286129, 0.10016601532697678, 0.09062639623880386, 0.014309430494904518, 0.007154715247452259, 0.002384905004873872, 0.1281064748764038, 0.1281064748764038, 0.3843194246292114, 0.1281064748764038, 0.1281064748764038, 0.47144046425819397, 0.15714682638645172, 0.15714682638645172, 0.2061738669872284, 0.27833473682403564, 0.16837532818317413, 0.08246954530477524, 0.12198620289564133, 0.05326158180832863, 0.03779854252934456, 0.02748984843492508, 0.008590578101575375, 0.005154346581548452, 0.003436231054365635, 0.0017181155271828175, 0.0017181155271828175, 0.08495630323886871, 0.3071497082710266, 0.1437722146511078, 0.02940795198082924, 0.27447420358657837, 0.02287285216152668, 0.0751536563038826, 0.026140401139855385, 0.009802650660276413, 0.009802650660276413, 0.003267550142481923, 0.003267550142481923, 0.003267550142481923, 0.003267550142481923, 0.9001070857048035, 0.14963890612125397, 0.2652689814567566, 0.237306147813797, 0.09220174700021744, 0.11563006043434143, 0.029474329203367233, 0.05441414564847946, 0.01813804917037487, 0.013603536412119865, 0.009069024585187435, 0.006046016234904528, 0.0037787603214383125, 0.001511504058726132, 0.002267256146296859, 0.002267256146296859, 0.09294237941503525, 0.3252983093261719, 0.046471189707517624, 0.4182406961917877, 0.046471189707517624, 0.06738880276679993, 0.44580286741256714, 0.20216640830039978, 0.02591877058148384, 0.07257255911827087, 0.041470032185316086, 0.06220505014061928, 0.06220505014061928, 0.005183754023164511, 0.005183754023164511, 0.005183754023164511, 0.005183754023164511, 0.6867548823356628, 0.27470195293426514, 0.24154260754585266, 0.25201913714408875, 0.17228098213672638, 0.1274646520614624, 0.06518740206956863, 0.04423430934548378, 0.06402333825826645, 0.006402334198355675, 0.0052382731810212135, 0.009894516319036484, 0.003492182120680809, 0.00407421262934804, 0.002328121569007635, 0.0005820303922519088, 0.0011640607845038176, 0.8018853664398193, 0.21927200257778168, 0.24787269532680511, 0.20497165620326996, 0.04766782373189926, 0.05720138922333717, 0.09056887030601501, 0.05243460834026337, 0.03813426196575165, 0.014300347305834293, 0.009533565491437912, 0.004766782745718956, 0.014300347305834293, 0.004766782745718956, 0.9807591438293457, 0.010777573101222515, 0.013705294579267502, 0.19187413156032562, 0.5070959329605103, 0.08223176747560501, 0.006852647289633751, 0.13705295324325562, 0.020557941868901253, 0.006852647289633751, 0.013705294579267502, 0.020557941868901253, 0.006852647289633751, 0.006852647289633751, 0.08982032537460327, 0.08982032537460327, 0.7185626029968262, 0.8751508593559265, 0.23631930351257324, 0.21493293344974518, 0.1571897566318512, 0.09303067624568939, 0.14008067548274994, 0.07057499140501022, 0.042772725224494934, 0.013901134952902794, 0.012831817381083965, 0.005346590653061867, 0.005346590653061867, 0.0032079543452709913, 0.0021386363077908754, 0.0010693181538954377, 0.0010693181538954377, 0.9849310517311096, 0.8951394557952881, 0.1813802719116211, 0.21421635150909424, 0.21734359860420227, 0.1250898391008377, 0.08443564176559448, 0.07974477112293243, 0.040654197335243225, 0.023454345762729645, 0.006254491861909628, 0.010945361107587814, 0.006254491861909628, 0.003127245930954814, 0.003127245930954814, 0.003127245930954814, 0.001563622965477407, 0.17059385776519775, 0.2652089297771454, 0.1920972764492035, 0.09604863822460175, 0.12758700549602509, 0.06164315715432167, 0.04300685226917267, 0.011468494310975075, 0.005734247155487537, 0.007167809177190065, 0.004300685599446297, 0.007167809177190065, 0.0028671235777437687, 0.0028671235777437687, 0.0014335617888718843, 0.35390156507492065, 0.17430973052978516, 0.16726690530776978, 0.11268507689237595, 0.07923169434070587, 0.06338535249233246, 0.015846338123083115, 0.014085634611546993, 0.007042817305773497, 0.0017607043264433742, 0.0017607043264433742, 0.0035214086528867483, 0.0017607043264433742, 0.0035214086528867483, 0.644313633441925, 0.2761344313621521, 0.982276976108551, 0.9212844967842102, 0.013257408514618874, 0.20681557059288025, 0.11401371657848358, 0.002651481656357646, 0.018560372292995453, 0.48522114753723145, 0.12461964040994644, 0.026514817029237747, 0.005302963312715292, 0.8613219261169434, 0.09570243954658508, 0.9881872534751892, 0.8978767395019531, 0.04988204315304756, 0.542263388633728, 0.24100594222545624, 0.07531435787677765, 0.03012574277818203, 0.03012574277818203, 0.03012574277818203, 0.04518861323595047, 0.0024394949432462454, 0.6708610653877258, 0.043910905718803406, 0.21955454349517822, 0.0024394949432462454, 0.0073184845969080925, 0.0073184845969080925, 0.0024394949432462454, 0.0073184845969080925, 0.03171343356370926, 0.0024394949432462454, 0.8380007147789001, 0.1314511001110077, 0.01643138751387596, 0.00821569375693798, 0.7339717149734497, 0.18349292874336243, 0.08379504829645157, 0.8379505276679993, 0.07033208012580872, 0.14066416025161743, 0.18755221366882324, 0.28132832050323486, 0.21099624037742615, 0.04688805341720581, 0.5761805772781372, 0.1920602023601532, 0.10116495937108994, 0.8093196749687195, 0.10116495937108994, 0.311667799949646, 0.311667799949646, 0.311667799949646, 0.08587518334388733, 0.36496952176094055, 0.2790943384170532, 0.042937591671943665, 0.15028156340122223, 0.042937591671943665, 0.021468795835971832, 0.2153339684009552, 0.04614299163222313, 0.3999059200286865, 0.04614299163222313, 0.06152398884296417, 0.16919097304344177, 0.04614299163222313, 0.38589462637901306, 0.20070955157279968, 0.11754261702299118, 0.14304713904857635, 0.03437567129731178, 0.05322684347629547, 0.032157886773347855, 0.0199600663036108, 0.0011088926112279296, 0.002217785222455859, 0.003326677717268467, 0.002217785222455859, 0.0011088926112279296, 0.003326677717268467, 0.0011088926112279296, 0.38773828744888306, 0.19386914372444153, 0.19386914372444153, 0.19386914372444153, 0.647720456123352, 0.161930114030838, 0.161930114030838, 0.1181994304060936, 0.8864957094192505, 0.10782981663942337, 0.3234894275665283, 0.17971636354923248, 0.10782981663942337, 0.10782981663942337, 0.03594326972961426, 0.03594326972961426, 0.03594326972961426, 0.07188653945922852, 0.9647784233093262, 0.01394210197031498, 0.0017427627462893724, 0.0017427627462893724, 0.9794326424598694, 0.0017427627462893724, 0.6550309658050537, 0.03885776922106743, 0.08881776034832001, 0.055511102080345154, 0.016653330996632576, 0.11102220416069031, 0.0055511100217700005, 0.011102220043540001, 0.0055511100217700005, 0.0055511100217700005, 0.0055511100217700005, 0.03261728212237358, 0.9459011554718018, 0.945328414440155, 0.32800135016441345, 0.0977025255560875, 0.36289510130882263, 0.06978751718997955, 0.006978751625865698, 0.03489375859498978, 0.03489375859498978, 0.03489375859498978, 0.013957503251731396, 0.8464797139167786, 0.1354367583990097, 0.1850283443927765, 0.22503447532653809, 0.3200490176677704, 0.03000459633767605, 0.1300199180841446, 0.0600091926753521, 0.015002298168838024, 0.010001531802117825, 0.010001531802117825, 0.005000765901058912, 0.005000765901058912, 0.010001531802117825, 0.5031387209892273, 0.12578468024730682, 0.12578468024730682, 0.12578468024730682, 0.9427304267883301, 0.008648903109133244, 0.034595612436532974, 0.14841456711292267, 0.4452436864376068, 0.07420728355646133, 0.14841456711292267, 0.07420728355646133, 0.07420728355646133, 0.33299002051353455, 0.14752721786499023, 0.14331215620040894, 0.16860254108905792, 0.02529038116335869, 0.09273139387369156, 0.054795823991298676, 0.012645190581679344, 0.004215063527226448, 0.012645190581679344, 0.004215063527226448, 0.008430127054452896, 0.5703011751174927, 0.19010040163993835, 0.19010040163993835, 0.39214080572128296, 0.11533553153276443, 0.15570296347141266, 0.07496809214353561, 0.12110230326652527, 0.05766776576638222, 0.03460066020488739, 0.023067105561494827, 0.011533552780747414, 0.005766776390373707, 0.005766776390373707, 0.011533552780747414, 0.9088446497917175, 0.23122720420360565, 0.15415146946907043, 0.26976507902145386, 0.03853786736726761, 0.11561360210180283, 0.03853786736726761, 0.07707573473453522, 0.03853786736726761, 0.9839811325073242, 0.9295076727867126, 0.009600084275007248, 0.9792085289955139, 0.9461935758590698, 0.03291739895939827, 0.26333919167518616, 0.03291739895939827, 0.6254305839538574, 0.03291739895939827, 0.03291739895939827, 0.7526952028274536, 0.03584263101220131, 0.10752788931131363, 0.03584263101220131, 0.03584263101220131, 0.040811266750097275, 0.1632450670003891, 0.7346027493476868, 0.040811266750097275, 0.24457019567489624, 0.18601113557815552, 0.16189858317375183, 0.11022882163524628, 0.07578231394290924, 0.11022882163524628, 0.07233766466379166, 0.006889301352202892, 0.003444650676101446, 0.006889301352202892, 0.017223253846168518, 0.003444650676101446, 0.003444650676101446, 0.003444650676101446, 0.3579404354095459, 0.04150034114718437, 0.1199619248509407, 0.307361900806427, 0.05252387002110481, 0.06549272686243057, 0.018804842606186867, 0.00648442842066288, 0.011671970598399639, 0.013617299497127533, 0.0025937713216990232, 0.0012968856608495116, 0.0012968856608495116, 0.5969133973121643, 0.11938267201185226, 0.23876534402370453, 0.7637115716934204, 0.2036564201116562, 0.1877424418926239, 0.20152169466018677, 0.11195649951696396, 0.1670735478401184, 0.11367890983819962, 0.14640465378761292, 0.0327257476747036, 0.017224077135324478, 0.006889630574733019, 0.005167223047465086, 0.0034448152873665094, 0.0017224076436832547, 0.0017224076436832547, 0.165757417678833, 0.4972722828388214, 0.165757417678833, 0.9605527520179749, 0.010478757321834564, 0.0034929190296679735, 0.0034929190296679735, 0.0034929190296679735, 0.0034929190296679735, 0.010478757321834564, 0.2826080322265625, 0.15397265553474426, 0.14812558889389038, 0.140329509973526, 0.10329810529947281, 0.12473733723163605, 0.023388251662254333, 0.0038980417884886265, 0.0038980417884886265, 0.005847062915563583, 0.0038980417884886265, 0.0019490208942443132, 0.0019490208942443132, 0.0038980417884886265, 0.10461822152137756, 0.5230911374092102, 0.10461822152137756, 0.10461822152137756, 0.10461822152137756, 0.10461822152137756, 0.3364330530166626, 0.09655477851629257, 0.12220214307308197, 0.06034673750400543, 0.016595352441072464, 0.30324235558509827, 0.027156030759215355, 0.012069347314536572, 0.0045260051265358925, 0.010560678318142891, 0.003017336828634143, 0.006034673657268286, 0.0015086684143170714, 0.5355023741722107, 0.35700157284736633, 0.4859462082386017, 0.32396411895751953, 0.16198205947875977, 0.9412800073623657, 0.3999350965023041, 0.2666233777999878, 0.2666233777999878, 0.1663379669189453, 0.38065803050994873, 0.12795227766036987, 0.08636778593063354, 0.10236182063817978, 0.06717494875192642, 0.01919284276664257, 0.02878926321864128, 0.006397613789886236, 0.006397613789886236, 0.003198806894943118, 0.006397613789886236, 0.003198806894943118, 0.16678667068481445, 0.2501800060272217, 0.5003600120544434, 0.08339333534240723, 0.9186758995056152, 0.05403975769877434, 0.8789541125297546, 0.101467065513134, 0.101467065513134, 0.7102694511413574, 0.9851315021514893, 0.1338796317577362, 0.20253585278987885, 0.2196999043226242, 0.08925308287143707, 0.13731244206428528, 0.085820272564888, 0.027462488040328026, 0.027462488040328026, 0.013731244020164013, 0.03432811051607132, 0.010298432782292366, 0.010298432782292366, 0.0034328110050410032, 0.0034328110050410032, 0.08667842298746109, 0.2648507356643677, 0.25040432810783386, 0.04815467819571495, 0.23435276746749878, 0.04173405468463898, 0.027287650853395462, 0.02086702734231949, 0.011236091144382954, 0.00481546763330698, 0.00481546763330698, 0.0032103119883686304, 0.0032103119883686304, 0.8790320754051208, 0.06579505652189255, 0.4605654180049896, 0.19738517701625824, 0.032897528260946274, 0.06579505652189255, 0.06579505652189255, 0.032897528260946274, 0.032897528260946274, 0.032897528260946274, 0.05536521226167679, 0.9042984843254089, 0.11320659518241882, 0.06792395561933517, 0.6565982699394226, 0.04528263956308365, 0.06792395561933517, 0.022641319781541824, 0.02345973625779152, 0.1172986850142479, 0.2345973700284958, 0.07037921249866486, 0.18767789006233215, 0.1172986850142479, 0.21113762259483337, 0.04691947251558304, 0.15006393194198608, 0.6502770185470581, 0.05002130940556526, 0.05002130940556526, 0.05002130940556526, 0.38796520233154297, 0.19398260116577148, 0.019398260861635208, 0.13578782975673676, 0.09699130058288574, 0.058194782584905624, 0.019398260861635208, 0.07759304344654083, 0.019398260861635208, 0.962076723575592, 0.3454935848712921, 0.10329189151525497, 0.13890978693962097, 0.2564488351345062, 0.04274147376418114, 0.04986505210399628, 0.023151632398366928, 0.01246626302599907, 0.0017808947013691068, 0.01246626302599907, 0.007123578805476427, 0.0017808947013691068, 0.0017808947013691068, 0.0035617894027382135, 0.0017808947013691068, 0.11206324398517609, 0.21790075302124023, 0.28430861234664917, 0.12866520881652832, 0.13489094376564026, 0.045655395835638046, 0.022827697917819023, 0.022827697917819023, 0.002075245138257742, 0.012451471760869026, 0.002075245138257742, 0.004150490276515484, 0.006225735880434513, 0.002075245138257742, 0.033320486545562744, 0.7663711905479431, 0.13328194618225098, 0.033320486545562744, 0.3274401128292084, 0.1637200564146042, 0.1637200564146042, 0.1637200564146042, 0.1637200564146042, 0.314144104719162, 0.157072052359581, 0.314144104719162, 0.157072052359581, 0.10139959305524826, 0.8111967444419861, 0.18189358711242676, 0.5456807613372803, 0.18189358711242676, 0.31593838334083557, 0.15796919167041779, 0.31593838334083557, 0.15796919167041779, 0.8780428767204285, 0.5806233286857605, 0.38708221912384033, 0.7686673998832703, 0.19216684997081757, 0.15521936118602753, 0.6208774447441101, 0.15521936118602753, 0.1921309381723404, 0.1921309381723404, 0.3842618763446808, 0.1921309381723404, 0.38501212000846863, 0.19250606000423431, 0.19250606000423431, 0.19250606000423431, 0.9536317586898804, 0.025388887152075768, 0.9647777676582336, 0.09149470180273056, 0.914946973323822, 0.17593558132648468, 0.5278067588806152, 0.17593558132648468, 0.1595473736524582, 0.01840931363403797, 0.177956685423851, 0.06136437505483627, 0.00613643741235137, 0.4909150004386902, 0.00613643741235137, 0.00613643741235137, 0.06750081479549408, 0.00613643741235137, 0.1847219616174698, 0.1847219616174698, 0.3694439232349396, 0.1847219616174698, 0.2493295520544052, 0.2493295520544052, 0.1246647760272026, 0.2493295520544052, 0.23053888976573944, 0.256154328584671, 0.10246172547340393, 0.10246172547340393, 0.07684629410505295, 0.11526944488286972, 0.06403858214616776, 0.025615431368350983, 0.025615431368350983, 0.5116580724716187, 0.10771749168634415, 0.16157622635364532, 0.05385874584317207, 0.13464686274528503, 0.8121907711029053, 0.11370670795440674, 0.03248763084411621, 0.03248763084411621, 0.07927773147821426, 0.2378332018852234, 0.07927773147821426, 0.14269991219043732, 0.2536887526512146, 0.07927773147821426, 0.06342218816280365, 0.015855547040700912, 0.04756664112210274, 0.015855547040700912, 0.26264360547065735, 0.234038844704628, 0.1300215870141983, 0.0806133821606636, 0.12222028523683548, 0.09361553937196732, 0.02340388484299183, 0.007801294792443514, 0.018203021958470345, 0.013002158142626286, 0.005200863350182772, 0.007801294792443514, 0.002600431675091386, 0.002600431675091386, 0.757077693939209, 0.1376504898071289, 0.7677537798881531, 0.19193844497203827, 0.33906540274620056, 0.16953270137310028, 0.16953270137310028, 0.16953270137310028, 0.16953270137310028, 0.06427394598722458, 0.2570957839488983, 0.3213697373867035, 0.12854789197444916, 0.19282184541225433, 0.06427394598722458, 0.5142123699188232, 0.4285103380680084, 0.9085906744003296, 0.02137860469520092, 0.04275720939040184, 0.00534465117380023, 0.00534465117380023, 0.00534465117380023, 0.00534465117380023, 0.11169857531785965, 0.37232857942581177, 0.01241095270961523, 0.18616428971290588, 0.2358081042766571, 0.01241095270961523, 0.06205476447939873, 0.7363026142120361, 0.14726051688194275, 0.9068688154220581, 0.017957797273993492, 0.053873393684625626, 0.008978898636996746, 0.9786937236785889, 0.7655542492866516, 0.07655542343854904, 0.05103695020079613, 0.025518475100398064, 0.05103695020079613, 0.5723908543586731, 0.19079695641994476, 0.19079695641994476, 0.3723390996456146, 0.1861695498228073, 0.1861695498228073, 0.1861695498228073, 0.15982548892498016, 0.15982548892498016, 0.4794764518737793, 0.10494448244571686, 0.8745373487472534, 0.1818457841873169, 0.5455373525619507, 0.1818457841873169, 0.874000608921051, 0.4967944920063019, 0.09935890138149261, 0.09935890138149261, 0.19871780276298523, 0.3691518306732178, 0.1845759153366089, 0.1845759153366089, 0.1845759153366089, 0.959450900554657, 0.3895300030708313, 0.22258856892585754, 0.055647142231464386, 0.11129428446292877, 0.11129428446292877, 0.055647142231464386, 0.07090286165475845, 0.35451430082321167, 0.16544000804424286, 0.11817143857479095, 0.16544000804424286, 0.0236342865973711, 0.0236342865973711, 0.07090286165475845, 0.936439037322998, 0.0312146358191967, 0.2570754289627075, 0.12853771448135376, 0.12853771448135376, 0.2570754289627075, 0.12853771448135376, 0.5214464664459229, 0.043453872203826904, 0.17381548881530762, 0.21726936101913452, 0.043453872203826904, 0.21633568406105042, 0.43267136812210083, 0.21633568406105042, 0.15347544848918915, 0.3069508969783783, 0.6139017939567566, 0.06748154759407043, 0.5061116218566895, 0.1687038689851761, 0.06748154759407043, 0.03374077379703522, 0.10122232139110565, 0.03374077379703522, 0.3526076078414917, 0.23507173359394073, 0.11753586679697037, 0.23507173359394073, 0.9290432333946228, 0.9287353754043579, 0.16236190497875214, 0.4870857000350952, 0.16236190497875214, 0.16236190497875214, 0.33553630113601685, 0.5771224498748779, 0.08052871376276016, 0.26650360226631165, 0.26650360226631165, 0.3997553884983063, 0.6833661794662476, 0.1301649808883667, 0.09762374311685562, 0.032541245222091675, 0.31466954946517944, 0.1776360422372818, 0.10404396802186966, 0.22077621519565582, 0.01268828846514225, 0.11673225462436676, 0.015225945971906185, 0.007612972985953093, 0.02030126191675663, 0.0025376577395945787, 0.0025376577395945787, 0.0025376577395945787, 0.5694876909255981, 0.1898292452096939, 0.1898292452096939, 0.10125400125980377, 0.10125400125980377, 0.7087780237197876, 0.7517938017845154, 0.057830292731523514, 0.057830292731523514, 0.24227917194366455, 0.15301842987537384, 0.15301842987537384, 0.025503071025013924, 0.12751536071300507, 0.14026689529418945, 0.06375768035650253, 0.012751535512506962, 0.07650921493768692, 0.3681807518005371, 0.25894030928611755, 0.08496478945016861, 0.06473507732152939, 0.06878101825714111, 0.09710261970758438, 0.004045942332595587, 0.016183769330382347, 0.004045942332595587, 0.004045942332595587, 0.004045942332595587, 0.004045942332595587, 0.008091884665191174, 0.004045942332595587, 0.008091884665191174, 0.22588878870010376, 0.08470829576253891, 0.5647220015525818, 0.02823609858751297, 0.02823609858751297, 0.02823609858751297, 0.02823609858751297, 0.3976759612560272, 0.1988379806280136, 0.1988379806280136, 0.7887043952941895, 0.19174744188785553, 0.38349488377571106, 0.19174744188785553, 0.19174744188785553, 0.5659608840942383, 0.28298044204711914, 0.14149022102355957, 0.20185014605522156, 0.33641692996025085, 0.10092507302761078, 0.1345667690038681, 0.1345667690038681, 0.033641692250967026, 0.033641692250967026, 0.5468842387199402, 0.13672105967998505, 0.13672105967998505, 0.8905153274536133, 0.015353712253272533, 0.046061135828495026, 0.015353712253272533, 0.015353712253272533, 0.4389842450618744, 0.06271203607320786, 0.06271203607320786, 0.06271203607320786, 0.06271203607320786, 0.06271203607320786, 0.1254240721464157, 0.4491361677646637, 0.32081153988838196, 0.06416230648756027, 0.06416230648756027, 0.06416230648756027, 0.16834014654159546, 0.16834014654159546, 0.3366802930831909, 0.16834014654159546, 0.16834014654159546, 0.7096538543701172, 0.14193077385425568, 0.18025290966033936, 0.18025290966033936, 0.18025290966033936, 0.5407587289810181, 0.3672502636909485, 0.18362513184547424, 0.3672502636909485, 0.7621394991874695, 0.03779204189777374, 0.1574668437242508, 0.01889602094888687, 0.006298673804849386, 0.006298673804849386, 0.15824052691459656, 0.4747215807437897, 0.3164810538291931, 0.3486235737800598, 0.3486235737800598, 0.1743117868900299, 0.1743117868900299, 0.16144542396068573, 0.32289084792137146, 0.17758996784687042, 0.11301179230213165, 0.032289084047079086, 0.06457816809415817, 0.032289084047079086, 0.032289084047079086, 0.06457816809415817, 0.016144542023539543, 0.8501511812210083, 0.061829179525375366, 0.015457294881343842, 0.030914589762687683, 0.015457294881343842, 0.40179985761642456, 0.5755511522293091, 0.010859455913305283, 0.3655117154121399, 0.2741338014602661, 0.18275585770606995, 0.09137792885303497, 0.5606536865234375, 0.14016342163085938, 0.14016342163085938, 0.00840381346642971, 0.00840381346642971, 0.470613569021225, 0.05042288452386856, 0.18488390743732452, 0.2100953459739685, 0.05042288452386856, 0.00840381346642971, 0.25062447786331177, 0.7017485499382019, 0.18419913947582245, 0.18419913947582245, 0.18419913947582245, 0.3683982789516449, 0.3748818635940552, 0.0937204658985138, 0.23430116474628448, 0.1874409317970276, 0.0468602329492569, 0.0468602329492569, 0.17746224999427795, 0.4436556398868561, 0.08873112499713898, 0.17746224999427795, 0.5492897629737854, 0.18309658765792847, 0.18309658765792847, 0.5463765263557434, 0.10927530378103256, 0.10927530378103256, 0.10927530378103256, 0.10927530378103256, 0.21796546876430511, 0.43593093752861023, 0.14531031250953674, 0.07265515625476837, 0.07265515625476837, 0.8739619851112366, 0.0681697204709053, 0.2726788818836212, 0.0681697204709053, 0.0681697204709053, 0.0681697204709053, 0.4771880507469177, 0.5217121839523315, 0.07205969095230103, 0.05188297852873802, 0.11241311579942703, 0.017294324934482574, 0.19600236415863037, 0.023059101775288582, 0.0028823877219110727, 0.0028823877219110727, 0.5373530983924866, 0.17911770939826965, 0.21480175852775574, 0.061371929943561554, 0.36823156476020813, 0.09205789119005203, 0.030685964971780777, 0.1534298211336136, 0.030685964971780777, 0.3975372910499573, 0.1325124353170395, 0.265024870634079, 0.18022312223911285, 0.18022312223911285, 0.5406693816184998, 0.2693282663822174, 0.16014114022254944, 0.1383037120103836, 0.16742028295993805, 0.0691518560051918, 0.11282671242952347, 0.04003528505563736, 0.0036395713686943054, 0.007279142737388611, 0.007279142737388611, 0.0036395713686943054, 0.007279142737388611, 0.0036395713686943054, 0.0036395713686943054, 0.007279142737388611, 0.34303051233291626, 0.11434350162744522, 0.1270483434200287, 0.08893383294343948, 0.10163866728544235, 0.14822305738925934, 0.03387955576181412, 0.00846988894045353, 0.004234944470226765, 0.025409666821360588, 0.004234944470226765, 0.004234944470226765, 0.8957499861717224, 0.07464583218097687, 0.15432043373584747, 0.30864086747169495, 0.15432043373584747, 0.30864086747169495, 0.30617377161979675, 0.23937222361564636, 0.12803630530834198, 0.13916990160942078, 0.05845135450363159, 0.033400774002075195, 0.030617376789450645, 0.041750967502593994, 0.005566795822232962, 0.002783397911116481, 0.002783397911116481, 0.002783397911116481, 0.002783397911116481, 0.002783397911116481, 0.2553330659866333, 0.12766653299331665, 0.5106661319732666, 0.547502875328064, 0.36500194668769836, 0.38137611746788025, 0.38137611746788025, 0.07627522200345993, 0.07627522200345993, 0.0028566718101501465, 0.00857001543045044, 0.799868106842041, 0.0428500771522522, 0.08855682611465454, 0.037136733531951904, 0.005713343620300293, 0.0028566718101501465, 0.011426687240600586, 0.36162668466567993, 0.5424400568008423, 0.8792049288749695, 0.7340945601463318, 0.18352364003658295, 0.44085031747817993, 0.24491684138774872, 0.0979667380452156, 0.1469501107931137, 0.2747410535812378, 0.15683135390281677, 0.2072005569934845, 0.0538034588098526, 0.10188314318656921, 0.09615936875343323, 0.0538034588098526, 0.010302789509296417, 0.014881807379424572, 0.006868526339530945, 0.016026562079787254, 0.00572377210482955, 0.0011447544675320387, 0.5044062733650208, 0.37830469012260437, 0.0630507841706276, 0.04343217611312866, 0.3213981091976166, 0.20847444236278534, 0.030402522534132004, 0.2519066333770752, 0.04343217611312866, 0.039088957011699677, 0.026059305295348167, 0.004343217704445124, 0.017372870817780495, 0.004343217704445124, 0.004343217704445124, 0.008686435408890247, 0.9728615880012512, 0.09542236477136612, 0.2694278359413147, 0.16839240491390228, 0.07016350328922272, 0.2525885999202728, 0.056130800396203995, 0.05332425981760025, 0.011226160451769829, 0.011226160451769829, 0.002806540112942457, 0.002806540112942457, 0.002806540112942457, 0.002806540112942457, 0.002806540112942457, 0.09295466542243958, 0.7436373233795166, 0.09295466542243958, 0.5640333890914917, 0.013756911270320415, 0.2888951301574707, 0.02751382254064083, 0.04127073287963867, 0.04127073287963867, 0.013756911270320415, 0.3742087483406067, 0.3742087483406067, 0.18710437417030334, 0.31159940361976624, 0.31159940361976624, 0.31159940361976624, 0.16327427327632904, 0.27756625413894653, 0.16327427327632904, 0.057145994156599045, 0.12245570123195648, 0.08163713663816452, 0.08435837179422379, 0.01360618881881237, 0.016327427700161934, 0.0027212377171963453, 0.008163713850080967, 0.0027212377171963453, 0.0027212377171963453, 0.03267316520214081, 0.03267316520214081, 0.6534633040428162, 0.03267316520214081, 0.16336582601070404, 0.03267316520214081, 0.03267316520214081, 0.03267316520214081, 0.21580049395561218, 0.20933939516544342, 0.17832615971565247, 0.09303973615169525, 0.11759188771247864, 0.11113079637289047, 0.029721025377511978, 0.010337748564779758, 0.010337748564779758, 0.006461092736572027, 0.005168874282389879, 0.0038766555953770876, 0.0012922185705974698, 0.0012922185705974698, 0.0038766555953770876, 0.04510875791311264, 0.5864138603210449, 0.27065256237983704, 0.04510875791311264, 0.0812939777970314, 0.3251759111881256, 0.0812939777970314, 0.1219409704208374, 0.1219409704208374, 0.0406469888985157, 0.1219409704208374, 0.0406469888985157, 0.0406469888985157, 0.020259421318769455, 0.559160053730011, 0.13371218740940094, 0.05267449468374252, 0.07698580622673035, 0.016207536682486534, 0.07698580622673035, 0.008103768341243267, 0.04051884263753891, 0.012155652977526188, 0.0040518841706216335, 0.0040518841706216335, 0.0040518841706216335, 0.01772719994187355, 0.4963615834712982, 0.1418175995349884, 0.1772719919681549, 0.0709087997674942, 0.01772719994187355, 0.01772719994187355, 0.0354543998837471, 0.8534029126167297, 0.8997066617012024, 0.2708164155483246, 0.2014337033033371, 0.1298128366470337, 0.11190761625766754, 0.12533652782440186, 0.07609717547893524, 0.04252489283680916, 0.024619676172733307, 0.002238152315840125, 0.0089526092633605, 0.00447630463168025, 0.002238152315840125, 0.08662895113229752, 0.8662895560264587, 0.4484391510486603, 0.1494797170162201, 0.2989594340324402, 0.5005599856376648, 0.16685333847999573, 0.16685333847999573, 0.08342666923999786, 0.2812281548976898, 0.2812281548976898, 0.2812281548976898, 0.314735472202301, 0.1573677361011505, 0.47210320830345154, 0.1573677361011505, 0.2520049214363098, 0.21063096821308136, 0.17301830649375916, 0.13540562987327576, 0.06394154578447342, 0.07898661494255066, 0.03385140746831894, 0.01128380186855793, 0.007522535044699907, 0.015045070089399815, 0.0037612675223499537, 0.0037612675223499537, 0.0037612675223499537, 0.15324999392032623, 0.4597499966621399, 0.30649998784065247, 0.3684895932674408, 0.1842447966337204, 0.3684895932674408, 0.24872352182865143, 0.2625414729118347, 0.12436176091432571, 0.1934516280889511, 0.04145392030477524, 0.04145392030477524, 0.01381797343492508, 0.05527189373970032, 0.01381797343492508, 0.48027554154396057, 0.1801033318042755, 0.06003444269299507, 0.1801033318042755, 0.06003444269299507, 0.06003444269299507, 0.36978790163993835, 0.14856581389904022, 0.1561567783355713, 0.12796179950237274, 0.0628964751958847, 0.06506532430648804, 0.045545727014541626, 0.010844220407307148, 0.004337687976658344, 0.002168843988329172, 0.003253265982493758, 0.002168843988329172, 0.31153935194015503, 0.15576967597007751, 0.31153935194015503, 0.15576967597007751, 0.16018830239772797, 0.16018830239772797, 0.08009415119886398, 0.32037660479545593, 0.08009415119886398, 0.04004707559943199, 0.04004707559943199, 0.04004707559943199, 0.04004707559943199, 0.26741594076156616, 0.26741594076156616, 0.02971288003027439, 0.11885152012109756, 0.05942576006054878, 0.1485643982887268, 0.08913864195346832, 0.18151219189167023, 0.36302438378334045, 0.36302438378334045, 0.1225098967552185, 0.2858564257621765, 0.163346529006958, 0.0408366322517395, 0.163346529006958, 0.1225098967552185, 0.1225098967552185, 0.1275431513786316, 0.0637715756893158, 0.7014873027801514, 0.0637715756893158, 0.31160688400268555, 0.4674103260040283, 0.7736644744873047, 0.08289262652397156, 0.055261749774217606, 0.027630874887108803, 0.055261749774217606, 0.3288455009460449, 0.16442275047302246, 0.16442275047302246, 0.2466341257095337, 0.2343696802854538, 0.0067933243699371815, 0.4347727596759796, 0.04585493728518486, 0.01188831776380539, 0.15284979343414307, 0.03226828947663307, 0.06793323904275894, 0.0016983310924842954, 0.0016983310924842954, 0.0067933243699371815, 0.1554650217294693, 0.6218600869178772, 0.5654229521751404, 0.017291221767663956, 0.029395077377557755, 0.015562099404633045, 0.0034582444932311773, 0.3613865375518799, 0.0034582444932311773, 0.0017291222466155887, 0.739115297794342, 0.03861049935221672, 0.07170521467924118, 0.01654735766351223, 0.005515785422176123, 0.09928414225578308, 0.01654735766351223, 0.005515785422176123, 0.005515785422176123, 0.005515785422176123, 0.005515785422176123, 0.22888308763504028, 0.22888308763504028, 0.010403776541352272, 0.3745359480381012, 0.020807553082704544, 0.07282643765211105, 0.04161510616540909, 0.010403776541352272, 0.7456236481666565, 0.10651766508817673, 0.10651766508817673, 0.1692335456609726, 0.3384670913219452, 0.1692335456609726, 0.1692335456609726, 0.08675147593021393, 0.8675147294998169, 0.049237046390771866, 0.7549680471420288, 0.05744322016835213, 0.10668026655912399, 0.008206173777580261, 0.008206173777580261, 0.2753812372684479, 0.25816991925239563, 0.051633983850479126, 0.37864920496940613, 0.034422654658555984, 0.1874028444290161, 0.12493523210287094, 0.12493523210287094, 0.24987046420574188, 0.06246761605143547, 0.06246761605143547, 0.1874028444290161, 0.6437176465988159, 0.16092941164970398, 0.41190850734710693, 0.11303029954433441, 0.09564102441072464, 0.14454837143421173, 0.05760198086500168, 0.1293327510356903, 0.022823426872491837, 0.0032604895532131195, 0.005434149410575628, 0.0032604895532131195, 0.00434731924906373, 0.002173659624531865, 0.0010868298122659326, 0.00434731924906373, 0.8732412457466125, 0.0379670113325119, 0.0379670113325119, 0.0379670113325119, 0.03181486576795578, 0.39768582582473755, 0.1431668996810913, 0.023861149325966835, 0.1670280545949936, 0.1511206179857254, 0.023861149325966835, 0.023861149325966835, 0.007953716441988945, 0.007953716441988945, 0.007953716441988945, 0.01590743288397789, 0.07606126368045807, 0.3232603669166565, 0.06972282379865646, 0.05704594776034355, 0.3232603669166565, 0.025353753939270973, 0.04436906799674034, 0.038030631840229034, 0.012676876969635487, 0.012676876969635487, 0.006338438484817743, 0.006338438484817743, 0.2777497172355652, 0.22175179421901703, 0.1142357736825943, 0.15007443726062775, 0.047038257122039795, 0.0918366014957428, 0.051518093794584274, 0.029118921607732773, 0.004479834344238043, 0.004479834344238043, 0.0022399171721190214, 0.004479834344238043, 0.0022399171721190214, 0.24070240557193756, 0.14442144334316254, 0.14442144334316254, 0.14442144334316254, 0.24070240557193756, 0.04814048111438751, 0.8774864673614502, 0.6902780532836914, 0.15339511632919312, 0.07669755816459656, 0.07669755816459656, 0.06140979379415512, 0.5731580853462219, 0.14328952133655548, 0.0051174829714000225, 0.16375945508480072, 0.02558741346001625, 0.0051174829714000225, 0.0051174829714000225, 0.0051174829714000225, 0.01535244844853878, 0.10314194858074188, 0.14439871907234192, 0.1237703338265419, 0.2681690454483032, 0.041256777942180634, 0.2475406676530838, 0.020628388971090317, 0.020628388971090317, 0.28531697392463684, 0.07132924348115921, 0.035664621740579605, 0.606298565864563, 0.15914349257946014, 0.15914349257946014, 0.47743046283721924, 0.15914349257946014, 0.15914349257946014, 0.025460775941610336, 0.9420487284660339, 0.03204765170812607, 0.9614295363426208, 0.458161324262619, 0.07636021822690964, 0.30544087290763855, 0.15272043645381927, 0.06765946745872498, 0.27678874135017395, 0.2583361566066742, 0.03690516576170921, 0.23988357186317444, 0.015377151779830456, 0.08303661644458771, 0.01230172161012888, 0.00307543040253222, 0.00307543040253222, 0.00307543040253222, 0.1861494779586792, 0.465373694896698, 0.0930747389793396, 0.0930747389793396, 0.0930747389793396, 0.09146320819854736, 0.18292641639709473, 0.25450631976127625, 0.047719936817884445, 0.24655300378799438, 0.05964992195367813, 0.0556732602417469, 0.023859968408942223, 0.011929984204471111, 0.007953322492539883, 0.011929984204471111, 0.003976661246269941, 0.14112426340579987, 0.3237556517124176, 0.15772712230682373, 0.06641142070293427, 0.16602854430675507, 0.02490428276360035, 0.041507136076688766, 0.016602855175733566, 0.008301427587866783, 0.008301427587866783, 0.008301427587866783, 0.008301427587866783, 0.016602855175733566, 0.008301427587866783, 0.4118939936161041, 0.13729800283908844, 0.13729800283908844, 0.2745960056781769, 0.21045204997062683, 0.30123528838157654, 0.1320483535528183, 0.08665672689676285, 0.09903626143932343, 0.07840370386838913, 0.037138599902391434, 0.020632553845643997, 0.008253022097051144, 0.008253022097051144, 0.008253022097051144, 0.008253022097051144, 0.004126511048525572, 0.13122712075710297, 0.7217491269111633, 0.06561356037855148, 0.06561356037855148, 0.06342765688896179, 0.8879872560501099, 0.3593164086341858, 0.5389745831489563, 0.7349003553390503, 0.18372508883476257, 0.31276726722717285, 0.11373355984687805, 0.04738898202776909, 0.4265008270740509, 0.028433389961719513, 0.04738898202776909, 0.028433389961719513, 0.41312259435653687, 0.10044549405574799, 0.09396514296531677, 0.19441063702106476, 0.029161594808101654, 0.12312673777341843, 0.01620088703930378, 0.009720531292259693, 0.004860265646129847, 0.00810044351965189, 0.0016200885875150561, 0.0016200885875150561, 0.0016200885875150561, 0.37763479351997375, 0.37763479351997375, 0.07552695274353027, 0.15105390548706055, 0.10048568993806839, 0.854128360748291, 0.025121422484517097, 0.1448356956243515, 0.8110798597335815, 0.9055759906768799, 0.9369847774505615, 0.7756398916244507, 0.15512797236442566, 0.9274764657020569, 0.03567217290401459, 0.5472952723503113, 0.09121587127447128, 0.09121587127447128, 0.18243174254894257, 0.5444530248641968, 0.1361132562160492, 0.2722265124320984, 0.17725233733654022, 0.17725233733654022, 0.11816821992397308, 0.35450467467308044, 0.11816821992397308, 0.817557692527771, 0.11679395288228989, 0.9032264351844788, 0.08211149275302887, 0.26000818610191345, 0.19500614702701569, 0.18757733702659607, 0.08357406407594681, 0.05571604147553444, 0.11700368672609329, 0.06314484775066376, 0.014857610687613487, 0.001857201335951686, 0.011143208481371403, 0.003714402671903372, 0.003714402671903372, 0.003714402671903372, 0.013513374142348766, 0.027026748284697533, 0.040540121495723724, 0.7702623009681702, 0.013513374142348766, 0.027026748284697533, 0.013513374142348766, 0.054053496569395065, 0.013513374142348766, 0.013513374142348766, 0.013513374142348766, 0.11011827737092972, 0.33035483956336975, 0.33035483956336975, 0.16517741978168488, 0.31267690658569336, 0.31267690658569336, 0.15633845329284668, 0.281274676322937, 0.06195477023720741, 0.08921486884355545, 0.37048953771591187, 0.013630049303174019, 0.14993055164813995, 0.017347335815429688, 0.004956381861120462, 0.002478190930560231, 0.002478190930560231, 0.003717286279425025, 0.0012390954652801156, 0.34875521063804626, 0.12488177418708801, 0.14924895763397217, 0.19265298545360565, 0.029697494581341743, 0.08756953477859497, 0.03959666192531586, 0.01066063903272152, 0.003045896999537945, 0.00609179399907589, 0.0022844227496534586, 0.0022844227496534586, 0.0007614742498844862, 0.0007614742498844862, 0.3796772360801697, 0.3796772360801697, 0.18983861804008484, 0.16830292344093323, 0.08415146172046661, 0.25245437026023865, 0.08415146172046661, 0.021037865430116653, 0.25245437026023865, 0.021037865430116653, 0.04207573086023331, 0.06311359256505966, 0.021037865430116653, 0.8024896383285522, 0.052109718322753906, 0.08337555080652237, 0.020843887701630592, 0.020843887701630592, 0.010421943850815296, 0.2047753483057022, 0.24590542912483215, 0.16277015209197998, 0.14089243113994598, 0.10588810592889786, 0.057757146656513214, 0.03237900882959366, 0.01750216633081436, 0.009626191109418869, 0.007875975221395493, 0.00875108316540718, 0.0017502165865153074, 0.0017502165865153074, 0.0008751082932576537, 0.0008751082932576537, 0.27880722284317017, 0.09293574094772339, 0.18587148189544678, 0.09293574094772339, 0.09293574094772339, 0.18587148189544678, 0.3866960406303406, 0.1933480203151703, 0.1933480203151703, 0.3318932354450226, 0.13700243830680847, 0.16208739578723907, 0.11770632117986679, 0.07525485754013062, 0.0945509746670723, 0.05209951847791672, 0.0019296117825433612, 0.007718447130173445, 0.007718447130173445, 0.0038592235650867224, 0.0038592235650867224, 0.0019296117825433612, 0.0038592235650867224, 0.30981478095054626, 0.18573662638664246, 0.11646600067615509, 0.12636180222034454, 0.08297251164913177, 0.1233169436454773, 0.02740376442670822, 0.008373372256755829, 0.003806078340858221, 0.003806078340858221, 0.004567293915897608, 0.002283646957948804, 0.002283646957948804, 0.0007612156914547086, 0.0007612156914547086, 0.05556750297546387, 0.05556750297546387, 0.833512544631958, 0.17383147776126862, 0.29510924220085144, 0.18191666901111603, 0.052553702145814896, 0.11925648152828217, 0.07680925726890564, 0.058617591857910156, 0.00808518473058939, 0.010106481611728668, 0.012127777561545372, 0.0020212961826473475, 0.004042592365294695, 0.0020212961826473475, 0.0020212961826473475, 0.43669256567955017, 0.19408558309078217, 0.242606982588768, 0.04852139577269554, 0.04852139577269554, 0.44111835956573486, 0.08483045548200607, 0.08907197415828705, 0.008483045734465122, 0.0636228397488594, 0.29690659046173096, 0.004241522867232561, 0.008483045734465122, 0.004241522867232561, 0.15548790991306305, 0.3109758198261261, 0.15548790991306305, 0.3109758198261261, 0.24510936439037323, 0.49021872878074646, 0.12255468219518661, 0.8525021076202393, 0.3369237780570984, 0.11230792850255966, 0.11230792850255966, 0.3369237780570984, 0.11230792850255966, 0.8520753979682922, 0.04508797451853752, 0.29758062958717346, 0.11722873151302338, 0.01803518831729889, 0.36070379614830017, 0.027052784338593483, 0.0811583548784256, 0.027052784338593483, 0.009017594158649445, 0.009017594158649445, 0.24520067870616913, 0.29808709025382996, 0.08654141426086426, 0.13461998105049133, 0.06250213086605072, 0.07692570239305496, 0.04327070713043213, 0.014423568733036518, 0.03365499526262283, 0.004807856399565935, 0.004807856399565935, 0.1099223867058754, 0.7144954800605774, 0.1099223867058754, 0.0549611933529377, 0.18792295455932617, 0.5637688636779785, 0.18792295455932617, 0.953694760799408, 0.5862164497375488, 0.1954054832458496, 0.1954054832458496, 0.18547587096691132, 0.37095174193382263, 0.18547587096691132, 0.09273793548345566, 0.09273793548345566, 0.7480395436286926, 0.013357849791646004, 0.16029419004917145, 0.013357849791646004, 0.013357849791646004, 0.026715699583292007, 0.006678924895823002, 0.013357849791646004, 0.36454278230667114, 0.18227139115333557, 0.36454278230667114, 0.4998787045478821, 0.1666262447834015, 0.1666262447834015, 0.922424852848053, 0.05124582722783089, 0.8517894148826599, 0.1915779709815979, 0.3831559419631958, 0.1915779709815979, 0.1915779709815979, 0.802995502948761, 0.8147249221801758, 0.09584999084472656, 0.04792499542236328, 0.6198114156723022, 0.15495285391807556, 0.15495285391807556, 0.880780816078186, 0.34824690222740173, 0.17412345111370087, 0.17412345111370087, 0.17412345111370087, 0.020512396469712257, 0.22563636302947998, 0.5948594808578491, 0.06153719127178192, 0.08204958587884903, 0.7729449272155762, 0.154588982462883, 0.15552356839179993, 0.15552356839179993, 0.6220942735671997, 0.15552356839179993, 0.1509266495704651, 0.1509266495704651, 0.45277994871139526, 0.3018532991409302, 0.9408630728721619, 0.18928204476833344, 0.37856408953666687, 0.18928204476833344, 0.18928204476833344, 0.9204241633415222, 0.04183746129274368, 0.9090298414230347, 0.8538041710853577, 0.10102377831935883, 0.3182249069213867, 0.17679160833358765, 0.09597259014844894, 0.10102377831935883, 0.11112615466117859, 0.04040951281785965, 0.027781538665294647, 0.010102378204464912, 0.002525594551116228, 0.002525594551116228, 0.005051189102232456, 0.005051189102232456, 0.002525594551116228, 0.0770663321018219, 0.42386484146118164, 0.03853316605091095, 0.34679850935935974, 0.03853316605091095, 0.03853316605091095, 0.8924733400344849, 0.05838610976934433, 0.016681745648384094, 0.008340872824192047, 0.02502261847257614, 0.07607980817556381, 0.6847183108329773, 0.15215961635112762, 0.1694091409444809, 0.11728325486183167, 0.013031472451984882, 0.5864163041114807, 0.05212588980793953, 0.03909441828727722, 0.013031472451984882, 0.013031472451984882, 0.36342912912368774, 0.14783558249473572, 0.14783558249473572, 0.15707530081272125, 0.04003880172967911, 0.05235843360424042, 0.04927852749824524, 0.018479447811841965, 0.018479447811841965, 0.0030799079686403275, 0.24106547236442566, 0.7231964468955994, 0.07182548940181732, 0.18854190409183502, 0.22445465624332428, 0.026934558525681496, 0.25138920545578003, 0.03591274470090866, 0.08978185802698135, 0.09876004606485367, 0.008978186175227165, 0.2883314788341522, 0.18057122826576233, 0.14562197029590607, 0.15435928106307983, 0.08737318217754364, 0.05533634498715401, 0.04368659108877182, 0.008737318217754364, 0.008737318217754364, 0.007281098049134016, 0.013105976395308971, 0.0014562195865437388, 0.0029124391730874777, 0.0014562195865437388, 0.0014562195865437388, 0.19929452240467072, 0.2420004904270172, 0.19116005301475525, 0.05694129317998886, 0.13218514621257782, 0.07931108772754669, 0.05897491052746773, 0.008134470321238041, 0.010168087668716908, 0.006100852973759174, 0.006100852973759174, 0.006100852973759174, 0.0040672351606190205, 0.0020336175803095102, 0.37635987997055054, 0.6057389974594116, 0.0022269815672188997, 0.011134907603263855, 0.09751070290803909, 0.48755353689193726, 0.19502140581607819, 0.19502140581607819, 0.11864633113145828, 0.23729266226291656, 0.47458532452583313, 0.5972150564193726, 0.19907169044017792, 0.09953584522008896, 0.01693323440849781, 0.34289801120758057, 0.22013205289840698, 0.029633160680532455, 0.27093175053596497, 0.01693323440849781, 0.0719662457704544, 0.01693323440849781, 0.004233308602124453, 0.008466617204248905, 0.004233308602124453, 0.16262660920619965, 0.16262660920619965, 0.2845965623855591, 0.20328326523303986, 0.08131330460309982, 0.04065665230154991, 0.04065665230154991, 0.9904609322547913, 0.4185353219509125, 0.15875478088855743, 0.16597090661525726, 0.10463383048772812, 0.010824189521372318, 0.08659351617097855, 0.018040316179394722, 0.010824189521372318, 0.010824189521372318, 0.007216126192361116, 0.10823633521795273, 0.24145027995109558, 0.2664279043674469, 0.008325872011482716, 0.24977615475654602, 0.024977615103125572, 0.041629359126091, 0.024977615103125572, 0.008325872011482716, 0.008325872011482716, 0.01665174402296543, 0.008325872011482716, 0.022794118151068687, 0.9664706587791443, 0.04123936593532562, 0.11340825259685516, 0.29898539185523987, 0.030929522588849068, 0.4123936593532562, 0.030929522588849068, 0.010309841483831406, 0.030929522588849068, 0.02061968296766281, 0.010309841483831406, 0.010309841483831406, 0.9361141324043274, 0.15518975257873535, 0.15518975257873535, 0.15518975257873535, 0.3103795051574707, 0.401211678981781, 0.15816998481750488, 0.12152084708213806, 0.14273877441883087, 0.03664914518594742, 0.06365377455949783, 0.04243585094809532, 0.015431218780577183, 0.005786707159131765, 0.0038578046951442957, 0.0019289023475721478, 0.0019289023475721478, 0.0019289023475721478, 0.0019289023475721478, 0.0019289023475721478, 0.31642770767211914, 0.4746415615081787, 0.163892924785614, 0.327785849571228, 0.327785849571228, 0.163892924785614, 0.24726718664169312, 0.15925683081150055, 0.15297037363052368, 0.22002588212490082, 0.06705550849437714, 0.09010583907365799, 0.029336784034967422, 0.014668392017483711, 0.004190969280898571, 0.004190969280898571, 0.0020954846404492855, 0.008381938561797142, 0.2802494466304779, 0.42037415504455566, 0.2802494466304779, 0.3004360795021057, 0.11145208775997162, 0.12598931789398193, 0.1792925000190735, 0.08722337335348129, 0.10660634934902191, 0.04845742881298065, 0.00969148613512516, 0.00484574306756258, 0.01938297227025032, 0.00484574306756258, 0.026833191514015198, 0.24149872362613678, 0.268331915140152, 0.013416595757007599, 0.30858170986175537, 0.026833191514015198, 0.0804995745420456, 0.013416595757007599, 0.026833191514015198, 0.14550502598285675, 0.8366538286209106, 0.0060627092607319355, 0.009094064123928547, 0.24940243363380432, 0.23932556807994843, 0.14359533786773682, 0.17886437475681305, 0.0579419769346714, 0.0680188462138176, 0.010076865553855896, 0.015115298330783844, 0.010076865553855896, 0.007557649165391922, 0.01259608194231987, 0.002519216388463974, 0.002519216388463974, 0.002519216388463974, 0.002519216388463974, 0.16630813479423523, 0.33261626958847046, 0.1750611960887909, 0.10795439779758453, 0.0904482826590538, 0.05251835659146309, 0.03501223772764206, 0.014588432386517525, 0.008753059431910515, 0.01167074590921402, 0.002917686477303505, 0.002917686477303505, 0.00583537295460701, 0.129486545920372, 0.4865555167198181, 0.10201970487833023, 0.06278135627508163, 0.10986737906932831, 0.03139067813754082, 0.023543009534478188, 0.003923834767192602, 0.003923834767192602, 0.01569533906877041, 0.011771504767239094, 0.01569533906877041, 0.003923834767192602, 0.09105563908815384, 0.5008060336112976, 0.09105563908815384, 0.13658346235752106, 0.13658346235752106, 0.04552781954407692, 0.3429328203201294, 0.1605217456817627, 0.11431094259023666, 0.09971805661916733, 0.0753965750336647, 0.15322530269622803, 0.01945718191564083, 0.009728590957820415, 0.002432147739455104, 0.007296442985534668, 0.004864295478910208, 0.002432147739455104, 0.004864295478910208, 0.002432147739455104, 0.002432147739455104, 0.31275713443756104, 0.10850758105516434, 0.29360875487327576, 0.08616778254508972, 0.06701938807964325, 0.05744519084692001, 0.03191399574279785, 0.015956997871398926, 0.01914839632809162, 0.0031913993880152702, 0.0063827987760305405, 0.27096661925315857, 0.1683022528886795, 0.24403825402259827, 0.12286064028739929, 0.028611382469534874, 0.05890578776597977, 0.06732089817523956, 0.011781156994402409, 0.008415112271904945, 0.010098135098814964, 0.005049067549407482, 0.0016830224776640534, 0.003366044955328107, 0.3812294006347656, 0.1250673532485962, 0.13109469413757324, 0.17931343615055084, 0.04219139739871025, 0.08890330046415329, 0.013561520725488663, 0.012054684571921825, 0.012054684571921825, 0.00452050706371665, 0.0030136711429804564, 0.006027342285960913, 0.0015068355714902282, 0.9478934407234192, 0.9301250576972961], \"Term\": [\"abbey\", \"abbey\", \"abbot\", \"abbot\", \"abide\", \"abide\", \"abide\", \"abide\", \"abundance\", \"abundance\", \"abundance\", \"abundance\", \"abundance\", \"abundance\", \"accursed\", \"accursed\", \"accursed\", \"accursed\", \"achieve\", \"aching\", \"aching\", \"aching\", \"aching\", \"act\", \"act\", \"act\", \"act\", \"act\", \"act\", \"act\", \"act\", \"act\", \"act\", \"added\", \"added\", \"added\", \"added\", \"added\", \"added\", \"added\", \"added\", \"added\", \"added\", \"added\", \"added\", \"added\", \"adele\", \"adele\", \"adele\", \"adele\", \"adele\", \"adele\", \"adieus\", \"adieus\", \"admirably\", \"admirably\", \"admirably\", \"admirably\", \"age\", \"age\", \"age\", \"age\", \"age\", \"age\", \"age\", \"age\", \"age\", \"age\", \"age\", \"air\", \"air\", \"air\", \"air\", \"air\", \"air\", \"air\", \"air\", \"air\", \"air\", \"air\", \"air\", \"air\", \"alfred\", \"alfred\", \"allenham\", \"amazing\", \"amazing\", \"ambitious\", \"amy\", \"amy\", \"antagonist\", \"antagonist\", \"antagonist\", \"antagonist\", \"apothecary\", \"apothecary\", \"apothecary\", \"apple\", \"apple\", \"apple\", \"apple\", \"apple\", \"apple\", \"apple\", \"apples\", \"apples\", \"apples\", \"apples\", \"apples\", \"apples\", \"apples\", \"apples\", \"april\", \"april\", \"april\", \"april\", \"april\", \"arguments\", \"arm\", \"arm\", \"arm\", \"arm\", \"arm\", \"arm\", \"arm\", \"arm\", \"arm\", \"arm\", \"arm\", \"asked\", \"asked\", \"asked\", \"asked\", \"asked\", \"asked\", \"asked\", \"asked\", \"asked\", \"asked\", \"asked\", \"asked\", \"asked\", \"asked\", \"aspect\", \"aspect\", \"aspect\", \"aspect\", \"aspect\", \"aspect\", \"aspect\", \"aspect\", \"aspect\", \"aspect\", \"assigned\", \"assigned\", \"assigned\", \"assigned\", \"assigned\", \"auburn\", \"auburn\", \"augusta\", \"augusta\", \"augusta\", \"aunt\", \"aunt\", \"aunt\", \"aunt\", \"aunt\", \"aunt\", \"aunt\", \"aunt\", \"aunt\", \"avert\", \"avert\", \"avert\", \"away\", \"away\", \"away\", \"away\", \"away\", \"away\", \"away\", \"away\", \"away\", \"away\", \"away\", \"away\", \"away\", \"away\", \"away\", \"baked\", \"baked\", \"baked\", \"baked\", \"baked\", \"baked\", \"baked\", \"baked\", \"ball\", \"ball\", \"ball\", \"ball\", \"ball\", \"ball\", \"ball\", \"ball\", \"bandaged\", \"bandaged\", \"bandaged\", \"bandaged\", \"bartlett\", \"barton\", \"barton\", \"bassompierre\", \"bassompierre\", \"bassompierre\", \"bassompierre\", \"bassompierre\", \"bates\", \"bates\", \"bates\", \"bates\", \"beck\", \"beck\", \"beck\", \"beck\", \"beck\", \"beck\", \"beck\", \"beck\", \"beck\", \"bed\", \"bed\", \"bed\", \"bed\", \"bed\", \"bed\", \"bed\", \"bed\", \"bed\", \"bed\", \"bed\", \"bed\", \"bedtime\", \"bedtime\", \"bedtime\", \"bedtime\", \"beech\", \"beech\", \"beech\", \"beech\", \"benefactress\", \"benefactress\", \"benefactress\", \"benefactress\", \"bennet\", \"berkeley\", \"bessie\", \"bessie\", \"bessie\", \"bessie\", \"better\", \"better\", \"better\", \"better\", \"better\", \"better\", \"better\", \"better\", \"better\", \"better\", \"better\", \"better\", \"better\", \"better\", \"bien\", \"bien\", \"bien\", \"bien\", \"bingley\", \"black\", \"black\", \"black\", \"black\", \"black\", \"black\", \"black\", \"black\", \"black\", \"black\", \"blew\", \"blew\", \"blond\", \"blood\", \"blood\", \"blood\", \"blood\", \"blood\", \"blood\", \"blood\", \"blood\", \"bloody\", \"bloody\", \"bloody\", \"blot\", \"blot\", \"blot\", \"boarder\", \"boards\", \"boards\", \"boards\", \"boards\", \"body\", \"body\", \"body\", \"body\", \"body\", \"body\", \"body\", \"body\", \"body\", \"body\", \"bon\", \"bon\", \"bondage\", \"bondage\", \"bonnets\", \"bonnets\", \"bonnets\", \"book\", \"book\", \"book\", \"book\", \"book\", \"book\", \"book\", \"book\", \"book\", \"book\", \"book\", \"book\", \"boulevard\", \"boulevard\", \"bouquet\", \"bourgh\", \"boy\", \"boy\", \"boy\", \"boy\", \"boy\", \"boy\", \"boy\", \"boy\", \"boy\", \"bragge\", \"brandon\", \"brandon\", \"bread\", \"bread\", \"bread\", \"bread\", \"bread\", \"bread\", \"bread\", \"bread\", \"bread\", \"breadth\", \"breadth\", \"breadth\", \"breadth\", \"breadth\", \"bretton\", \"bretton\", \"bretton\", \"bretton\", \"bretton\", \"bretton\", \"briggs\", \"brightly\", \"brightly\", \"brighton\", \"brittle\", \"brittle\", \"brittle\", \"brocklehurst\", \"brocklehurst\", \"brocklehurst\", \"brocklehurst\", \"brocklehurst\", \"brocklehurst\", \"brocklehurst\", \"brother\", \"brother\", \"brother\", \"brother\", \"brother\", \"brother\", \"brother\", \"brother\", \"brother\", \"burns\", \"burns\", \"burns\", \"burns\", \"ca\", \"ca\", \"came\", \"came\", \"came\", \"came\", \"came\", \"came\", \"came\", \"came\", \"came\", \"came\", \"came\", \"came\", \"came\", \"campbell\", \"campbell\", \"campbells\", \"campbells\", \"captive\", \"captive\", \"captive\", \"captive\", \"carlo\", \"carlo\", \"catherine\", \"causeway\", \"causeway\", \"ce\", \"ce\", \"ce\", \"ce\", \"celine\", \"celine\", \"cette\", \"chafed\", \"chapters\", \"chapters\", \"chapters\", \"chapters\", \"charade\", \"charade\", \"charlotte\", \"charlotte\", \"charlotte\", \"charm\", \"charm\", \"charm\", \"charm\", \"charm\", \"charm\", \"charm\", \"charm\", \"charm\", \"charm\", \"chastisement\", \"chastisement\", \"chastisement\", \"chastisement\", \"chastisement\", \"chatter\", \"chatter\", \"chatter\", \"chatter\", \"child\", \"child\", \"child\", \"child\", \"child\", \"child\", \"child\", \"child\", \"child\", \"child\", \"child\", \"chilled\", \"chilled\", \"chilled\", \"chilled\", \"chimneys\", \"chimneys\", \"chimneys\", \"chimneys\", \"chink\", \"chink\", \"chink\", \"chink\", \"chink\", \"church\", \"church\", \"church\", \"church\", \"church\", \"church\", \"church\", \"church\", \"churchill\", \"churchill\", \"churchill\", \"churchills\", \"ciel\", \"ciel\", \"ciel\", \"ciel\", \"city\", \"city\", \"city\", \"city\", \"city\", \"clay\", \"clay\", \"clay\", \"cleveland\", \"clock\", \"clock\", \"clock\", \"clock\", \"clock\", \"clock\", \"clock\", \"clock\", \"clock\", \"clock\", \"clock\", \"coarseness\", \"coarseness\", \"coarseness\", \"coarseness\", \"coarseness\", \"coast\", \"coast\", \"coast\", \"coast\", \"cold\", \"cold\", \"cold\", \"cold\", \"cold\", \"cold\", \"cold\", \"cold\", \"cold\", \"cold\", \"cold\", \"cold\", \"cold\", \"cold\", \"cole\", \"cole\", \"collins\", \"colonel\", \"colonel\", \"colonel\", \"colonel\", \"colonel\", \"colonel\", \"colonel\", \"combe\", \"combe\", \"come\", \"come\", \"come\", \"come\", \"come\", \"come\", \"come\", \"come\", \"come\", \"come\", \"come\", \"come\", \"come\", \"come\", \"come\", \"coming\", \"coming\", \"coming\", \"coming\", \"coming\", \"coming\", \"coming\", \"coming\", \"coming\", \"coming\", \"coming\", \"coming\", \"coming\", \"coming\", \"commented\", \"commented\", \"commonest\", \"commonest\", \"commonest\", \"complain\", \"complain\", \"complain\", \"complain\", \"complain\", \"complain\", \"comply\", \"comply\", \"comply\", \"conducting\", \"conducting\", \"conducting\", \"conducting\", \"conduit\", \"conformity\", \"conformity\", \"conformity\", \"conformity\", \"connexion\", \"connexion\", \"consecration\", \"consecration\", \"consecration\", \"consider\", \"consider\", \"consider\", \"consider\", \"consider\", \"consider\", \"consider\", \"consider\", \"consider\", \"consistency\", \"consistency\", \"consistency\", \"consistency\", \"containing\", \"containing\", \"containing\", \"containing\", \"containing\", \"containing\", \"containing\", \"containing\", \"contemplated\", \"contemplated\", \"contemplated\", \"cottage\", \"cottage\", \"cottage\", \"cottage\", \"cottage\", \"cottage\", \"cottage\", \"couldn\", \"couldn\", \"couple\", \"couple\", \"couple\", \"couple\", \"couple\", \"couple\", \"creed\", \"creed\", \"creed\", \"creed\", \"crib\", \"crib\", \"crib\", \"crib\", \"cries\", \"cries\", \"cries\", \"criminal\", \"criminal\", \"criminal\", \"crimsoned\", \"crimsoned\", \"crimsoned\", \"crimsoned\", \"crimsworth\", \"crimsworth\", \"crimsworth\", \"crimsworth\", \"crimsworth\", \"crimsworth\", \"crowd\", \"crowd\", \"crowd\", \"crowd\", \"crowd\", \"crowd\", \"crowd\", \"crown\", \"crown\", \"crown\", \"crown\", \"crown\", \"crown\", \"crown\", \"cruel\", \"cruel\", \"cruel\", \"cruel\", \"cruel\", \"cruel\", \"cruel\", \"cruel\", \"cruel\", \"cruel\", \"crushing\", \"crushing\", \"crushing\", \"crushing\", \"cultivate\", \"cultivate\", \"cultivate\", \"cultivate\", \"cultivated\", \"cultivated\", \"cursed\", \"cursed\", \"cursed\", \"cursed\", \"cursed\", \"curtain\", \"curtain\", \"curtain\", \"curtain\", \"curtain\", \"curtain\", \"dance\", \"dance\", \"dance\", \"dance\", \"dance\", \"dance\", \"dance\", \"dancer\", \"dancer\", \"dances\", \"dances\", \"dances\", \"dancing\", \"dancing\", \"dancing\", \"dancing\", \"dancing\", \"dancing\", \"darcy\", \"dark\", \"dark\", \"dark\", \"dark\", \"dark\", \"dark\", \"dark\", \"dark\", \"dark\", \"dark\", \"dark\", \"dark\", \"dark\", \"dark\", \"dart\", \"dart\", \"dashwood\", \"dashwood\", \"dashwood\", \"dashwoods\", \"dashwoods\", \"day\", \"day\", \"day\", \"day\", \"day\", \"day\", \"day\", \"day\", \"day\", \"day\", \"day\", \"day\", \"day\", \"day\", \"dear\", \"dear\", \"dear\", \"dear\", \"dear\", \"dear\", \"dear\", \"dear\", \"dear\", \"dear\", \"dear\", \"dear\", \"death\", \"death\", \"death\", \"death\", \"death\", \"death\", \"death\", \"death\", \"death\", \"death\", \"death\", \"death\", \"deep\", \"deep\", \"deep\", \"deep\", \"deep\", \"deep\", \"deep\", \"deep\", \"deep\", \"deep\", \"deep\", \"definite\", \"dejected\", \"dejected\", \"dejected\", \"dejected\", \"delaford\", \"delusion\", \"delusion\", \"delusion\", \"dent\", \"dent\", \"derbyshire\", \"descended\", \"descended\", \"descended\", \"descended\", \"descended\", \"desiree\", \"desiree\", \"desiree\", \"desk\", \"desk\", \"desk\", \"desk\", \"desk\", \"desk\", \"develop\", \"develop\", \"develop\", \"develop\", \"devonshire\", \"diana\", \"diana\", \"diana\", \"diana\", \"diana\", \"diana\", \"dilated\", \"dilated\", \"dilated\", \"dilated\", \"dim\", \"dim\", \"dim\", \"dim\", \"dim\", \"director\", \"director\", \"director\", \"director\", \"directress\", \"directress\", \"disk\", \"dislikes\", \"dislikes\", \"dislikes\", \"dislikes\", \"disparity\", \"disparity\", \"disparity\", \"divert\", \"divert\", \"divert\", \"dixon\", \"dixon\", \"doctor\", \"doctor\", \"doctor\", \"doctor\", \"doctor\", \"doctor\", \"doctor\", \"doll\", \"doll\", \"doll\", \"doll\", \"domestic\", \"domestic\", \"domestic\", \"domestic\", \"domestic\", \"donwell\", \"donwell\", \"door\", \"door\", \"door\", \"door\", \"door\", \"door\", \"door\", \"door\", \"door\", \"door\", \"door\", \"door\", \"door\", \"door\", \"dormitory\", \"dormitory\", \"dr\", \"dr\", \"dr\", \"dr\", \"dr\", \"dr\", \"dr\", \"dr\", \"dr\", \"dr\", \"draughts\", \"draughts\", \"draughts\", \"draughts\", \"dread\", \"dread\", \"dread\", \"dread\", \"dread\", \"dread\", \"dread\", \"dread\", \"dread\", \"drenched\", \"driver\", \"driver\", \"driver\", \"driver\", \"drooping\", \"drooping\", \"drooping\", \"drooping\", \"drooping\", \"drops\", \"drops\", \"drops\", \"drops\", \"dubious\", \"dubious\", \"dubious\", \"dubious\", \"echoed\", \"echoed\", \"echoed\", \"echoed\", \"edward\", \"edward\", \"edward\", \"edward\", \"edward\", \"edward\", \"edward\", \"edward\", \"edward\", \"eighty\", \"elders\", \"elders\", \"elinor\", \"elinor\", \"elinor\", \"elinor\", \"elinor\", \"elinor\", \"elinor\", \"elixir\", \"elixir\", \"elixir\", \"elixir\", \"elixir\", \"elizabeth\", \"elizabeth\", \"elizabeth\", \"elizabeth\", \"elle\", \"elle\", \"elton\", \"elton\", \"elton\", \"eltons\", \"eltons\", \"emanuel\", \"emanuel\", \"emanuel\", \"emanuel\", \"emanuel\", \"emanuel\", \"embers\", \"embers\", \"embers\", \"embracing\", \"embracing\", \"embracing\", \"embracing\", \"emma\", \"emma\", \"emma\", \"emma\", \"emma\", \"emma\", \"end\", \"end\", \"end\", \"end\", \"end\", \"end\", \"end\", \"end\", \"end\", \"end\", \"end\", \"engagement\", \"engagement\", \"engagement\", \"engagement\", \"english\", \"english\", \"english\", \"english\", \"english\", \"english\", \"english\", \"english\", \"english\", \"english\", \"english\", \"enquire\", \"err\", \"err\", \"err\", \"err\", \"err\", \"error\", \"error\", \"error\", \"error\", \"error\", \"error\", \"error\", \"eshton\", \"eshton\", \"est\", \"est\", \"est\", \"est\", \"est\", \"estrade\", \"estrade\", \"et\", \"et\", \"et\", \"et\", \"et\", \"et\", \"et\", \"evening\", \"evening\", \"evening\", \"evening\", \"evening\", \"evening\", \"evening\", \"evening\", \"evening\", \"evening\", \"evening\", \"evening\", \"evening\", \"evening\", \"evening\", \"event\", \"event\", \"event\", \"event\", \"event\", \"event\", \"event\", \"event\", \"example\", \"example\", \"example\", \"example\", \"example\", \"example\", \"example\", \"exceeded\", \"exceeded\", \"exceeded\", \"exceeded\", \"exeter\", \"extending\", \"extending\", \"extremely\", \"extremely\", \"extremely\", \"extremely\", \"extremely\", \"extremely\", \"extremities\", \"extremities\", \"extremities\", \"eye\", \"eye\", \"eye\", \"eye\", \"eye\", \"eye\", \"eye\", \"eye\", \"eye\", \"eye\", \"eye\", \"eye\", \"eye\", \"eye\", \"eyelids\", \"eyelids\", \"eyelids\", \"eyes\", \"eyes\", \"eyes\", \"eyes\", \"eyes\", \"eyes\", \"eyes\", \"eyes\", \"eyes\", \"eyes\", \"eyes\", \"eyes\", \"eyes\", \"eyes\", \"eyes\", \"eyre\", \"eyre\", \"eyre\", \"eyre\", \"eyre\", \"eyre\", \"eyre\", \"face\", \"face\", \"face\", \"face\", \"face\", \"face\", \"face\", \"face\", \"face\", \"face\", \"face\", \"face\", \"face\", \"face\", \"face\", \"faculty\", \"faculty\", \"faculty\", \"faculty\", \"faculty\", \"fairfax\", \"fairfax\", \"fairfax\", \"fairfax\", \"fairfax\", \"fairfax\", \"fairfax\", \"fairfax\", \"fairy\", \"fairy\", \"fairy\", \"fairy\", \"fairy\", \"fairy\", \"fairy\", \"fairy\", \"family\", \"family\", \"family\", \"family\", \"family\", \"family\", \"family\", \"family\", \"family\", \"fanny\", \"fanny\", \"far\", \"far\", \"far\", \"far\", \"far\", \"far\", \"far\", \"far\", \"far\", \"far\", \"far\", \"far\", \"far\", \"far\", \"fate\", \"fate\", \"fate\", \"fate\", \"fate\", \"fate\", \"fate\", \"fate\", \"fate\", \"fate\", \"father\", \"father\", \"father\", \"father\", \"father\", \"father\", \"father\", \"father\", \"father\", \"father\", \"father\", \"father\", \"father\", \"father\", \"fathers\", \"fathers\", \"fathers\", \"feeling\", \"feeling\", \"feeling\", \"feeling\", \"feeling\", \"feeling\", \"feeling\", \"feeling\", \"feeling\", \"feeling\", \"feeling\", \"feeling\", \"feet\", \"feet\", \"feet\", \"feet\", \"feet\", \"feet\", \"feet\", \"feet\", \"feet\", \"feet\", \"feigned\", \"feigned\", \"feigned\", \"feigned\", \"felt\", \"felt\", \"felt\", \"felt\", \"felt\", \"felt\", \"felt\", \"felt\", \"felt\", \"felt\", \"felt\", \"felt\", \"felt\", \"felt\", \"felt\", \"femme\", \"ferrars\", \"ferrars\", \"fervid\", \"fervid\", \"fields\", \"fields\", \"fields\", \"fields\", \"fields\", \"fields\", \"fiend\", \"fiend\", \"fiend\", \"fiend\", \"fifine\", \"fifine\", \"fifine\", \"fifth\", \"fifth\", \"fifth\", \"fifth\", \"firelight\", \"firelight\", \"firelight\", \"fitzwilliam\", \"flaming\", \"flaming\", \"flaming\", \"flaming\", \"flinging\", \"fluency\", \"fluency\", \"fluency\", \"fluency\", \"foam\", \"foam\", \"fold\", \"fold\", \"fold\", \"fold\", \"fold\", \"ford\", \"ford\", \"ford\", \"forster\", \"forward\", \"forward\", \"forward\", \"forward\", \"forward\", \"forward\", \"forward\", \"forward\", \"forward\", \"forward\", \"fossette\", \"fossette\", \"fossette\", \"fossette\", \"fossette\", \"fossette\", \"fossette\", \"fragments\", \"fragments\", \"frail\", \"frail\", \"frail\", \"frances\", \"frances\", \"frances\", \"frank\", \"frank\", \"frank\", \"frank\", \"frank\", \"frank\", \"frank\", \"frank\", \"frank\", \"french\", \"french\", \"french\", \"french\", \"french\", \"french\", \"french\", \"french\", \"french\", \"french\", \"french\", \"french\", \"frequented\", \"frequented\", \"frequented\", \"friend\", \"friend\", \"friend\", \"friend\", \"friend\", \"friend\", \"friend\", \"friend\", \"friend\", \"friend\", \"friend\", \"froid\", \"froid\", \"froid\", \"furrowed\", \"gallery\", \"gallery\", \"gallery\", \"gallery\", \"gallery\", \"gallery\", \"garden\", \"garden\", \"garden\", \"garden\", \"garden\", \"garden\", \"garden\", \"garden\", \"garden\", \"garden\", \"garden\", \"garden\", \"gardiner\", \"gateshead\", \"gateshead\", \"gateshead\", \"gateshead\", \"gathered\", \"gathered\", \"gathered\", \"gathered\", \"gathered\", \"gathered\", \"gathered\", \"gathered\", \"gathered\", \"gathered\", \"gathered\", \"georgiana\", \"georgiana\", \"georgiana\", \"georgiana\", \"georgiana\", \"georgiana\", \"gets\", \"gets\", \"gets\", \"gets\", \"gets\", \"gets\", \"gets\", \"ghost\", \"ghost\", \"ghost\", \"ghost\", \"girls\", \"girls\", \"girls\", \"girls\", \"girls\", \"girls\", \"girls\", \"girls\", \"girls\", \"girls\", \"glad\", \"glad\", \"glad\", \"glad\", \"glad\", \"glad\", \"glad\", \"glad\", \"glad\", \"glad\", \"glad\", \"glad\", \"glad\", \"glance\", \"glance\", \"glance\", \"glance\", \"glance\", \"glance\", \"glance\", \"glance\", \"glance\", \"glance\", \"glance\", \"glance\", \"glare\", \"glare\", \"glare\", \"glass\", \"glass\", \"glass\", \"glass\", \"glass\", \"glass\", \"glass\", \"glass\", \"glass\", \"glass\", \"glass\", \"glee\", \"glee\", \"glee\", \"glee\", \"glee\", \"glimpses\", \"glimpses\", \"glimpses\", \"glory\", \"glory\", \"glory\", \"glory\", \"glory\", \"god\", \"god\", \"god\", \"god\", \"god\", \"god\", \"god\", \"god\", \"god\", \"god\", \"god\", \"god\", \"goddard\", \"goddard\", \"goddard\", \"gone\", \"gone\", \"gone\", \"gone\", \"gone\", \"gone\", \"gone\", \"gone\", \"gone\", \"gone\", \"gone\", \"good\", \"good\", \"good\", \"good\", \"good\", \"good\", \"good\", \"good\", \"good\", \"good\", \"good\", \"good\", \"good\", \"good\", \"good\", \"graham\", \"graham\", \"graham\", \"graham\", \"graham\", \"graham\", \"graham\", \"grandmama\", \"grandmama\", \"granite\", \"granite\", \"granite\", \"granite\", \"grapes\", \"grapes\", \"grapes\", \"grapes\", \"grasp\", \"grasp\", \"grasp\", \"grasp\", \"grasp\", \"grasp\", \"great\", \"great\", \"great\", \"great\", \"great\", \"great\", \"great\", \"great\", \"great\", \"great\", \"great\", \"great\", \"great\", \"grec\", \"greek\", \"greek\", \"greek\", \"greek\", \"grenier\", \"grenier\", \"hag\", \"hag\", \"hag\", \"half\", \"half\", \"half\", \"half\", \"half\", \"half\", \"half\", \"half\", \"half\", \"half\", \"half\", \"half\", \"half\", \"half\", \"half\", \"hall\", \"hall\", \"hall\", \"hall\", \"hall\", \"hall\", \"hall\", \"hall\", \"hall\", \"hall\", \"hall\", \"hall\", \"hall\", \"hand\", \"hand\", \"hand\", \"hand\", \"hand\", \"hand\", \"hand\", \"hand\", \"hand\", \"hand\", \"hand\", \"hand\", \"hand\", \"hand\", \"hand\", \"handled\", \"handled\", \"handling\", \"handling\", \"handling\", \"handling\", \"hannah\", \"hannah\", \"hannah\", \"hannah\", \"happiness\", \"happiness\", \"happiness\", \"happiness\", \"happiness\", \"happiness\", \"happiness\", \"happiness\", \"happiness\", \"happiness\", \"happiness\", \"hardships\", \"hardships\", \"hardships\", \"hardships\", \"harley\", \"harriet\", \"harriet\", \"harriet\", \"harriet\", \"harriet\", \"hartfield\", \"hartfield\", \"hartfield\", \"hawkins\", \"head\", \"head\", \"head\", \"head\", \"head\", \"head\", \"head\", \"head\", \"head\", \"head\", \"head\", \"head\", \"heap\", \"heap\", \"heap\", \"heard\", \"heard\", \"heard\", \"heard\", \"heard\", \"heard\", \"heard\", \"heard\", \"heard\", \"heard\", \"heard\", \"heard\", \"heard\", \"heard\", \"hears\", \"hears\", \"hears\", \"heart\", \"heart\", \"heart\", \"heart\", \"heart\", \"heart\", \"heart\", \"heart\", \"heart\", \"heart\", \"heart\", \"heart\", \"heart\", \"heart\", \"heaven\", \"heaven\", \"heaven\", \"heaven\", \"heaven\", \"heaven\", \"heaven\", \"heaven\", \"heaven\", \"heaven\", \"heaven\", \"heights\", \"heights\", \"heights\", \"helen\", \"helen\", \"helen\", \"helen\", \"helen\", \"helen\", \"henri\", \"henri\", \"herald\", \"herald\", \"herd\", \"herd\", \"herd\", \"hertfordshire\", \"high\", \"high\", \"high\", \"high\", \"high\", \"high\", \"high\", \"high\", \"high\", \"high\", \"high\", \"high\", \"highbury\", \"highbury\", \"hire\", \"hire\", \"hire\", \"holland\", \"holland\", \"holland\", \"holland\", \"hollow\", \"hollow\", \"hollow\", \"hollow\", \"hollow\", \"hollow\", \"hollow\", \"holy\", \"holy\", \"holy\", \"holy\", \"home\", \"home\", \"home\", \"home\", \"home\", \"home\", \"home\", \"home\", \"home\", \"home\", \"home\", \"home\", \"home\", \"home\", \"home\", \"hope\", \"hope\", \"hope\", \"hope\", \"hope\", \"hope\", \"hope\", \"hope\", \"hope\", \"hope\", \"hope\", \"hope\", \"hope\", \"hope\", \"horizon\", \"horizon\", \"horizon\", \"horse\", \"horse\", \"horse\", \"horse\", \"horse\", \"horse\", \"horse\", \"hour\", \"hour\", \"hour\", \"hour\", \"hour\", \"hour\", \"hour\", \"hour\", \"hour\", \"hour\", \"hour\", \"hour\", \"hour\", \"hour\", \"house\", \"house\", \"house\", \"house\", \"house\", \"house\", \"house\", \"house\", \"house\", \"house\", \"house\", \"house\", \"house\", \"hovering\", \"hunsden\", \"hunsden\", \"hunsden\", \"hunsden\", \"hunsden\", \"hunsden\", \"hunsford\", \"hurst\", \"hurst\", \"illness\", \"illness\", \"illness\", \"illness\", \"illness\", \"illness\", \"illness\", \"illness\", \"illness\", \"illness\", \"imply\", \"imply\", \"imply\", \"individual\", \"individual\", \"individual\", \"individual\", \"individual\", \"individual\", \"infirm\", \"infirm\", \"infirm\", \"inflicting\", \"inflicting\", \"inflicting\", \"inflicting\", \"influences\", \"influences\", \"influences\", \"inform\", \"inform\", \"inform\", \"inform\", \"inform\", \"ingram\", \"ingram\", \"ingram\", \"ingram\", \"ingram\", \"injured\", \"injured\", \"injured\", \"injured\", \"injured\", \"injured\", \"inn\", \"inn\", \"inn\", \"inn\", \"inn\", \"inn\", \"insane\", \"insane\", \"insane\", \"insane\", \"inscription\", \"institution\", \"institution\", \"institution\", \"institution\", \"intending\", \"intentionally\", \"intentionally\", \"intentionally\", \"intimating\", \"intimating\", \"intimating\", \"intimating\", \"item\", \"jack\", \"jack\", \"jacket\", \"jane\", \"jane\", \"jane\", \"jane\", \"jane\", \"jane\", \"jane\", \"jane\", \"jane\", \"jane\", \"jane\", \"jane\", \"jane\", \"janet\", \"janet\", \"janet\", \"janet\", \"je\", \"je\", \"je\", \"je\", \"je\", \"jennings\", \"jennings\", \"job\", \"job\", \"job\", \"job\", \"john\", \"john\", \"john\", \"john\", \"john\", \"john\", \"john\", \"john\", \"john\", \"john\", \"john\", \"john\", \"john\", \"joyfully\", \"joyfully\", \"joyfully\", \"kent\", \"kitty\", \"kitty\", \"knee\", \"knee\", \"knee\", \"knee\", \"knee\", \"knee\", \"knee\", \"knew\", \"knew\", \"knew\", \"knew\", \"knew\", \"knew\", \"knew\", \"knew\", \"knew\", \"knew\", \"knew\", \"knew\", \"knew\", \"knew\", \"knightley\", \"knightley\", \"knightley\", \"knightleys\", \"know\", \"know\", \"know\", \"know\", \"know\", \"know\", \"know\", \"know\", \"know\", \"know\", \"know\", \"know\", \"know\", \"know\", \"la\", \"la\", \"la\", \"la\", \"la\", \"la\", \"la\", \"la\", \"lady\", \"lady\", \"lady\", \"lady\", \"lady\", \"lady\", \"lady\", \"lady\", \"lady\", \"lady\", \"lady\", \"ladyship\", \"ladyship\", \"ladyship\", \"lane\", \"lane\", \"lane\", \"lane\", \"lane\", \"lane\", \"lane\", \"lantern\", \"lantern\", \"lantern\", \"latticed\", \"latticed\", \"launched\", \"launched\", \"launched\", \"lawn\", \"lawn\", \"lawn\", \"lawn\", \"lawn\", \"lawn\", \"lawn\", \"leader\", \"leader\", \"leader\", \"leah\", \"leah\", \"leah\", \"leah\", \"left\", \"left\", \"left\", \"left\", \"left\", \"left\", \"left\", \"left\", \"left\", \"left\", \"left\", \"left\", \"left\", \"left\", \"legitimate\", \"legitimate\", \"legitimate\", \"lend\", \"lend\", \"lend\", \"lend\", \"les\", \"les\", \"lessened\", \"lessened\", \"lessened\", \"lessened\", \"lessened\", \"lessons\", \"lessons\", \"lessons\", \"lessons\", \"lessons\", \"letter\", \"letter\", \"letter\", \"letter\", \"letter\", \"letter\", \"letter\", \"letter\", \"letter\", \"letter\", \"liar\", \"liar\", \"liar\", \"liar\", \"liar\", \"liberally\", \"liberally\", \"liberally\", \"life\", \"life\", \"life\", \"life\", \"life\", \"life\", \"life\", \"life\", \"life\", \"life\", \"life\", \"life\", \"life\", \"light\", \"light\", \"light\", \"light\", \"light\", \"light\", \"light\", \"light\", \"light\", \"light\", \"light\", \"light\", \"light\", \"light\", \"lighting\", \"like\", \"like\", \"like\", \"like\", \"like\", \"like\", \"like\", \"like\", \"like\", \"like\", \"like\", \"like\", \"like\", \"like\", \"like\", \"lingered\", \"lingered\", \"lingered\", \"lingered\", \"lingered\", \"lips\", \"lips\", \"lips\", \"lips\", \"lips\", \"lips\", \"lips\", \"lips\", \"lips\", \"lips\", \"lips\", \"lips\", \"lisped\", \"lisped\", \"little\", \"little\", \"little\", \"little\", \"little\", \"little\", \"little\", \"little\", \"little\", \"little\", \"little\", \"little\", \"little\", \"little\", \"little\", \"littleness\", \"live\", \"live\", \"live\", \"live\", \"live\", \"live\", \"live\", \"live\", \"live\", \"live\", \"live\", \"live\", \"live\", \"lizzy\", \"lizzy\", \"ll\", \"ll\", \"ll\", \"ll\", \"ll\", \"ll\", \"ll\", \"ll\", \"ll\", \"ll\", \"ll\", \"ll\", \"lloyd\", \"lloyd\", \"lloyd\", \"load\", \"long\", \"long\", \"long\", \"long\", \"long\", \"long\", \"long\", \"long\", \"long\", \"long\", \"long\", \"long\", \"long\", \"long\", \"long\", \"longbourn\", \"longstaple\", \"look\", \"look\", \"look\", \"look\", \"look\", \"look\", \"look\", \"look\", \"look\", \"look\", \"look\", \"look\", \"look\", \"look\", \"look\", \"looked\", \"looked\", \"looked\", \"looked\", \"looked\", \"looked\", \"looked\", \"looked\", \"looked\", \"looked\", \"looked\", \"looked\", \"looked\", \"looked\", \"looked\", \"love\", \"love\", \"love\", \"love\", \"love\", \"love\", \"love\", \"love\", \"love\", \"love\", \"love\", \"love\", \"love\", \"love\", \"lowton\", \"lowton\", \"lucas\", \"lucases\", \"lucy\", \"lucy\", \"lucy\", \"lucy\", \"lucy\", \"lucy\", \"lucy\", \"lucy\", \"lucy\", \"lunatic\", \"lunatic\", \"lydia\", \"lynn\", \"lynn\", \"madam\", \"madam\", \"madam\", \"madam\", \"madam\", \"madam\", \"madam\", \"madame\", \"madame\", \"madame\", \"madame\", \"madame\", \"madame\", \"madame\", \"madame\", \"madame\", \"madame\", \"madame\", \"mademoiselle\", \"mademoiselle\", \"mademoiselle\", \"mademoiselle\", \"magi\", \"magi\", \"magna\", \"magna\", \"maid\", \"maid\", \"maid\", \"maid\", \"maid\", \"maid\", \"maintaining\", \"maintaining\", \"malady\", \"malady\", \"malady\", \"malicious\", \"malicious\", \"malicious\", \"mama\", \"mama\", \"mama\", \"mama\", \"mama\", \"mama\", \"mama\", \"mamma\", \"mamma\", \"mamma\", \"mamma\", \"mamma\", \"mamma\", \"mamma\", \"man\", \"man\", \"man\", \"man\", \"man\", \"man\", \"man\", \"man\", \"man\", \"man\", \"man\", \"man\", \"man\", \"man\", \"man\", \"manager\", \"manager\", \"manager\", \"manager\", \"maniac\", \"maniac\", \"maniac\", \"maple\", \"maple\", \"march\", \"march\", \"march\", \"march\", \"march\", \"march\", \"march\", \"march\", \"march\", \"margaret\", \"marianne\", \"marianne\", \"marianne\", \"marianne\", \"marianne\", \"marriage\", \"marriage\", \"marriage\", \"marriage\", \"marriage\", \"marriage\", \"marriage\", \"marriage\", \"marriage\", \"marriage\", \"marriage\", \"martin\", \"martin\", \"martins\", \"mary\", \"mary\", \"mary\", \"mary\", \"mary\", \"mary\", \"mary\", \"mary\", \"mary\", \"mason\", \"mason\", \"master\", \"master\", \"master\", \"master\", \"master\", \"master\", \"master\", \"master\", \"master\", \"master\", \"master\", \"master\", \"matches\", \"matches\", \"matches\", \"matches\", \"mdlle\", \"mdlle\", \"mdlle\", \"meals\", \"meals\", \"meals\", \"meals\", \"meals\", \"meals\", \"mean\", \"mean\", \"mean\", \"mean\", \"mean\", \"mean\", \"mean\", \"mean\", \"mean\", \"mean\", \"mean\", \"mean\", \"meets\", \"meets\", \"meets\", \"men\", \"men\", \"men\", \"men\", \"men\", \"men\", \"men\", \"men\", \"men\", \"men\", \"men\", \"men\", \"mender\", \"merry\", \"merry\", \"merry\", \"merry\", \"merry\", \"merry\", \"merry\", \"merry\", \"meryton\", \"messieurs\", \"middleton\", \"middleton\", \"middletons\", \"midnight\", \"midnight\", \"midnight\", \"midnight\", \"midnight\", \"midnight\", \"millcote\", \"millcote\", \"millcote\", \"millcote\", \"millcote\", \"miller\", \"miller\", \"miller\", \"miller\", \"minutes\", \"minutes\", \"minutes\", \"minutes\", \"minutes\", \"minutes\", \"minutes\", \"minutes\", \"minutes\", \"minutes\", \"minutes\", \"minutes\", \"minutes\", \"minutes\", \"miss\", \"miss\", \"miss\", \"miss\", \"miss\", \"miss\", \"miss\", \"miss\", \"miss\", \"miss\", \"miss\", \"miss\", \"miss\", \"mission\", \"mission\", \"mission\", \"missis\", \"missis\", \"moment\", \"moment\", \"moment\", \"moment\", \"moment\", \"moment\", \"moment\", \"moment\", \"moment\", \"moment\", \"moment\", \"moment\", \"moment\", \"monitor\", \"monitor\", \"monitor\", \"monsieur\", \"monsieur\", \"monsieur\", \"monsieur\", \"monsieur\", \"monsieur\", \"monsieur\", \"morning\", \"morning\", \"morning\", \"morning\", \"morning\", \"morning\", \"morning\", \"morning\", \"morning\", \"morning\", \"morning\", \"morning\", \"morning\", \"morning\", \"moss\", \"moss\", \"moss\", \"moss\", \"moss\", \"moss\", \"mother\", \"mother\", \"mother\", \"mother\", \"mother\", \"mother\", \"mother\", \"mother\", \"mother\", \"mother\", \"mother\", \"mother\", \"mother\", \"mysteries\", \"mysteries\", \"nailed\", \"nailed\", \"nailed\", \"nash\", \"nations\", \"nations\", \"nations\", \"nature\", \"nature\", \"nature\", \"nature\", \"nature\", \"nature\", \"nature\", \"nature\", \"nature\", \"nature\", \"nature\", \"nature\", \"nature\", \"naughty\", \"naughty\", \"naughty\", \"naughty\", \"ne\", \"ne\", \"necks\", \"nests\", \"nests\", \"nests\", \"netherfield\", \"new\", \"new\", \"new\", \"new\", \"new\", \"new\", \"new\", \"new\", \"new\", \"new\", \"new\", \"new\", \"new\", \"new\", \"night\", \"night\", \"night\", \"night\", \"night\", \"night\", \"night\", \"night\", \"night\", \"night\", \"night\", \"night\", \"night\", \"nightmare\", \"noon\", \"noon\", \"noon\", \"noon\", \"noon\", \"noon\", \"noon\", \"noon\", \"noon\", \"norland\", \"norland\", \"nun\", \"nun\", \"nun\", \"nun\", \"nun\", \"nun\", \"nursery\", \"nursery\", \"nursery\", \"nursery\", \"nursery\", \"nursery\", \"nursery\", \"nursery\", \"oak\", \"oak\", \"oak\", \"oak\", \"oak\", \"office\", \"office\", \"office\", \"office\", \"office\", \"office\", \"office\", \"office\", \"office\", \"officers\", \"oh\", \"oh\", \"oh\", \"oh\", \"oh\", \"oh\", \"oh\", \"oh\", \"oh\", \"oh\", \"oh\", \"oh\", \"oh\", \"oh\", \"oh\", \"old\", \"old\", \"old\", \"old\", \"old\", \"old\", \"old\", \"old\", \"old\", \"old\", \"old\", \"old\", \"old\", \"old\", \"oliver\", \"oliver\", \"oliver\", \"oliver\", \"ominous\", \"ominous\", \"ominous\", \"ominous\", \"ominous\", \"opens\", \"opens\", \"opens\", \"opens\", \"orb\", \"orb\", \"ordinarily\", \"ordinarily\", \"ordinarily\", \"organs\", \"organs\", \"organs\", \"organs\", \"oriental\", \"ostensible\", \"ostensible\", \"overtaken\", \"overtaken\", \"pagan\", \"pagan\", \"pagan\", \"paintings\", \"paintings\", \"paintings\", \"paintings\", \"palate\", \"palate\", \"palate\", \"palate\", \"paletot\", \"palmer\", \"palmer\", \"palmers\", \"palmers\", \"panels\", \"panels\", \"panels\", \"papa\", \"papa\", \"papa\", \"papa\", \"papa\", \"papa\", \"papa\", \"papa\", \"papa\", \"papa\", \"paralysed\", \"paralysed\", \"paralysed\", \"paralysed\", \"parcels\", \"parcels\", \"parcels\", \"parcels\", \"parlour\", \"parlour\", \"parlour\", \"parlour\", \"parlour\", \"parlour\", \"parlour\", \"parlour\", \"parlour\", \"partner\", \"partner\", \"partner\", \"partner\", \"partner\", \"pas\", \"pas\", \"pas\", \"pas\", \"passage\", \"passage\", \"passage\", \"passage\", \"passage\", \"passage\", \"passage\", \"passage\", \"passage\", \"passage\", \"passed\", \"passed\", \"passed\", \"passed\", \"passed\", \"passed\", \"passed\", \"passed\", \"passed\", \"passed\", \"passed\", \"passed\", \"passed\", \"passed\", \"passengers\", \"passengers\", \"patron\", \"patron\", \"patted\", \"patted\", \"patted\", \"patted\", \"patted\", \"pattern\", \"pattern\", \"pattern\", \"pattern\", \"pattern\", \"pattern\", \"patty\", \"patty\", \"paul\", \"paul\", \"paul\", \"paul\", \"paul\", \"paul\", \"paul\", \"paulina\", \"paulina\", \"paulina\", \"paulina\", \"paulina\", \"paulina\", \"paulina\", \"paved\", \"paved\", \"pelet\", \"pelet\", \"pelet\", \"pelet\", \"pemberley\", \"pere\", \"pere\", \"pere\", \"pere\", \"pere\", \"performances\", \"performances\", \"performances\", \"perils\", \"perils\", \"perils\", \"perils\", \"perishing\", \"perishing\", \"perishing\", \"perry\", \"perry\", \"personages\", \"personages\", \"personages\", \"pervaded\", \"pet\", \"pet\", \"pet\", \"pet\", \"philanthropy\", \"philanthropy\", \"philanthropy\", \"philanthropy\", \"phillips\", \"physician\", \"physician\", \"physician\", \"physician\", \"physician\", \"physician\", \"pictures\", \"pictures\", \"pictures\", \"pictures\", \"pictures\", \"pictures\", \"pictures\", \"pictures\", \"pierre\", \"pierre\", \"piled\", \"piled\", \"piled\", \"piled\", \"piled\", \"pilot\", \"pilot\", \"pilot\", \"pilot\", \"pilot\", \"piqued\", \"piqued\", \"piqued\", \"pit\", \"pit\", \"pit\", \"plate\", \"plate\", \"plate\", \"plate\", \"plate\", \"plate\", \"plate\", \"pleasantest\", \"pleasantest\", \"pleasantest\", \"pleasantest\", \"pledge\", \"plus\", \"polish\", \"polish\", \"polish\", \"polish\", \"polly\", \"polly\", \"polly\", \"pony\", \"pony\", \"pony\", \"poole\", \"poole\", \"poole\", \"poole\", \"poor\", \"poor\", \"poor\", \"poor\", \"poor\", \"poor\", \"poor\", \"poor\", \"poor\", \"poor\", \"poor\", \"poor\", \"population\", \"population\", \"population\", \"porte\", \"porte\", \"porte\", \"portress\", \"portress\", \"portress\", \"post\", \"post\", \"post\", \"post\", \"post\", \"post\", \"post\", \"post\", \"post\", \"power\", \"power\", \"power\", \"power\", \"power\", \"power\", \"power\", \"power\", \"power\", \"power\", \"power\", \"power\", \"power\", \"power\", \"power\", \"prayer\", \"prayer\", \"prayer\", \"prayer\", \"prayer\", \"prayer\", \"prayer\", \"precept\", \"precept\", \"precept\", \"precocious\", \"preoccupied\", \"preoccupied\", \"preoccupied\", \"preoccupied\", \"presentiment\", \"presentiment\", \"presentiment\", \"principles\", \"principles\", \"principles\", \"principles\", \"principles\", \"principles\", \"principles\", \"privations\", \"privations\", \"privations\", \"professor\", \"professor\", \"professor\", \"professor\", \"professor\", \"prolonged\", \"prolonged\", \"prolonged\", \"prolonged\", \"prolonged\", \"prolonged\", \"prolonged\", \"promptly\", \"promptly\", \"promptly\", \"promptly\", \"promptly\", \"protect\", \"protect\", \"protect\", \"protect\", \"protect\", \"protestants\", \"protestants\", \"proves\", \"proves\", \"proves\", \"proves\", \"punished\", \"punished\", \"punished\", \"pupils\", \"pupils\", \"pupils\", \"pupils\", \"pupils\", \"pupils\", \"purchases\", \"purchases\", \"purchases\", \"purer\", \"purer\", \"purer\", \"purer\", \"putting\", \"putting\", \"putting\", \"putting\", \"putting\", \"putting\", \"putting\", \"putting\", \"putting\", \"putting\", \"que\", \"que\", \"que\", \"que\", \"que\", \"randalls\", \"randalls\", \"randalls\", \"realized\", \"realized\", \"realized\", \"realized\", \"recommendations\", \"recommendations\", \"recommendations\", \"reed\", \"reed\", \"reed\", \"reed\", \"reed\", \"reed\", \"reed\", \"reed\", \"refectory\", \"refectory\", \"refreshments\", \"refreshments\", \"refreshments\", \"refreshments\", \"region\", \"region\", \"region\", \"region\", \"region\", \"region\", \"regions\", \"regions\", \"regions\", \"regions\", \"reine\", \"reine\", \"reine\", \"relatives\", \"relatives\", \"relatives\", \"relatives\", \"relatives\", \"remainder\", \"remainder\", \"remainder\", \"remainder\", \"remainder\", \"reminiscences\", \"remorse\", \"remorse\", \"remorse\", \"remorse\", \"remorse\", \"remorse\", \"replied\", \"replied\", \"replied\", \"replied\", \"replied\", \"replied\", \"replied\", \"replied\", \"replied\", \"reported\", \"reported\", \"residence\", \"residence\", \"residence\", \"residence\", \"residence\", \"residence\", \"residence\", \"resulting\", \"resulting\", \"resulting\", \"retiring\", \"retiring\", \"retiring\", \"return\", \"return\", \"return\", \"return\", \"return\", \"return\", \"return\", \"return\", \"return\", \"return\", \"return\", \"return\", \"return\", \"return\", \"return\", \"returned\", \"returned\", \"returned\", \"returned\", \"returned\", \"returned\", \"returned\", \"returned\", \"returned\", \"returned\", \"returned\", \"returned\", \"reuter\", \"reuter\", \"revolted\", \"revolted\", \"revolted\", \"revolted\", \"right\", \"right\", \"right\", \"right\", \"right\", \"right\", \"right\", \"right\", \"right\", \"right\", \"right\", \"right\", \"right\", \"right\", \"rivet\", \"rivet\", \"rivet\", \"robes\", \"robes\", \"robust\", \"robust\", \"robust\", \"robust\", \"rochester\", \"rochester\", \"rochester\", \"rochester\", \"rochester\", \"rochester\", \"rochester\", \"rochester\", \"rochester\", \"rocking\", \"rocking\", \"roman\", \"romanism\", \"romanism\", \"rome\", \"rome\", \"rome\", \"rome\", \"room\", \"room\", \"room\", \"room\", \"room\", \"room\", \"room\", \"room\", \"room\", \"room\", \"room\", \"room\", \"room\", \"rosamond\", \"rosamond\", \"rosamond\", \"rose\", \"rose\", \"rose\", \"rose\", \"rose\", \"rose\", \"rose\", \"rose\", \"rose\", \"rose\", \"rose\", \"rose\", \"rose\", \"rosings\", \"round\", \"round\", \"round\", \"round\", \"round\", \"round\", \"round\", \"round\", \"round\", \"round\", \"round\", \"round\", \"round\", \"round\", \"royal\", \"royal\", \"royal\", \"rue\", \"rue\", \"rue\", \"rue\", \"rue\", \"rue\", \"rue\", \"sanctioned\", \"sanctioned\", \"sanctioned\", \"sarah\", \"sarah\", \"sarah\", \"sat\", \"sat\", \"sat\", \"sat\", \"sat\", \"sat\", \"sat\", \"sat\", \"sat\", \"sat\", \"sat\", \"sat\", \"sat\", \"satin\", \"satin\", \"satin\", \"satin\", \"satin\", \"satin\", \"satin\", \"satin\", \"saw\", \"saw\", \"saw\", \"saw\", \"saw\", \"saw\", \"saw\", \"saw\", \"saw\", \"saw\", \"saw\", \"saw\", \"saw\", \"saw\", \"saw\", \"scatcherd\", \"scatcherd\", \"scatcherd\", \"scatcherd\", \"scattered\", \"scattered\", \"scattered\", \"scattered\", \"scattered\", \"scattered\", \"scattered\", \"scattered\", \"scattered\", \"school\", \"school\", \"school\", \"school\", \"school\", \"school\", \"school\", \"school\", \"school\", \"school\", \"school\", \"school\", \"school\", \"schoolroom\", \"schoolroom\", \"schoolroom\", \"schoolroom\", \"schoolroom\", \"schoolroom\", \"schoolroom\", \"schoolroom\", \"scrutinised\", \"seed\", \"seen\", \"seen\", \"seen\", \"seen\", \"seen\", \"seen\", \"seen\", \"seen\", \"seen\", \"seen\", \"seen\", \"seen\", \"selina\", \"selina\", \"semicircle\", \"semicircle\", \"semicircle\", \"september\", \"september\", \"september\", \"september\", \"sermon\", \"sermon\", \"sermon\", \"serving\", \"serving\", \"serving\", \"serving\", \"set\", \"set\", \"set\", \"set\", \"set\", \"set\", \"set\", \"set\", \"set\", \"set\", \"set\", \"set\", \"set\", \"sets\", \"sets\", \"sets\", \"settlement\", \"settlement\", \"settlement\", \"severe\", \"severe\", \"severe\", \"severe\", \"severe\", \"severe\", \"severe\", \"severe\", \"severe\", \"sewing\", \"sewing\", \"sewing\", \"sewing\", \"sewing\", \"sewing\", \"shall\", \"shall\", \"shall\", \"shall\", \"shall\", \"shall\", \"shall\", \"shall\", \"shall\", \"shall\", \"shall\", \"shall\", \"shift\", \"shift\", \"shift\", \"shift\", \"shoes\", \"shoes\", \"shoes\", \"shoes\", \"shoes\", \"shoes\", \"shoes\", \"shoes\", \"shoes\", \"shop\", \"shop\", \"shop\", \"shop\", \"shop\", \"shop\", \"shop\", \"shudder\", \"shudder\", \"shudder\", \"shy\", \"shy\", \"shy\", \"shy\", \"shy\", \"shy\", \"shy\", \"signal\", \"signal\", \"signal\", \"signal\", \"signified\", \"signified\", \"silas\", \"silas\", \"silas\", \"silas\", \"silas\", \"simpleton\", \"simpleton\", \"simpleton\", \"simpleton\", \"sir\", \"sir\", \"sir\", \"sir\", \"sir\", \"sir\", \"sir\", \"sir\", \"sir\", \"sir\", \"sir\", \"sire\", \"sire\", \"sister\", \"sister\", \"sister\", \"sister\", \"sister\", \"sister\", \"sister\", \"sister\", \"sisters\", \"sisters\", \"sisters\", \"sisters\", \"sisters\", \"sisters\", \"sisters\", \"sisters\", \"sisters\", \"sisters\", \"sisters\", \"sky\", \"sky\", \"sky\", \"sky\", \"sky\", \"sky\", \"sky\", \"sky\", \"slate\", \"slate\", \"slate\", \"slavery\", \"slavery\", \"slavery\", \"slavery\", \"smallridge\", \"smallridge\", \"smith\", \"smith\", \"smith\", \"smith\", \"smith\", \"smith\", \"snowe\", \"snowe\", \"snowe\", \"snowe\", \"snowe\", \"sold\", \"sold\", \"sold\", \"sold\", \"sold\", \"sold\", \"sold\", \"soliloquy\", \"soliloquy\", \"soon\", \"soon\", \"soon\", \"soon\", \"soon\", \"soon\", \"soon\", \"soon\", \"soon\", \"soon\", \"soon\", \"soon\", \"soon\", \"soon\", \"sophie\", \"sophie\", \"sophie\", \"sophie\", \"soul\", \"soul\", \"soul\", \"soul\", \"soul\", \"soul\", \"soul\", \"soul\", \"soul\", \"soul\", \"soul\", \"soul\", \"sound\", \"sound\", \"sound\", \"sound\", \"sound\", \"sound\", \"sound\", \"sound\", \"sound\", \"sound\", \"sound\", \"sound\", \"speak\", \"speak\", \"speak\", \"speak\", \"speak\", \"speak\", \"speak\", \"speak\", \"speak\", \"speak\", \"speak\", \"speak\", \"speak\", \"spectacles\", \"spectacles\", \"spectacles\", \"spectacles\", \"spectacles\", \"spectacles\", \"sped\", \"spiritual\", \"spiritual\", \"spiritual\", \"spiritual\", \"st\", \"st\", \"st\", \"st\", \"st\", \"st\", \"st\", \"st\", \"st\", \"st\", \"staircase\", \"staircase\", \"staircase\", \"staircase\", \"staircase\", \"staircase\", \"staircase\", \"staircase\", \"stars\", \"stars\", \"stars\", \"stars\", \"steadfast\", \"steadfast\", \"steadfast\", \"steadfast\", \"steadfast\", \"steele\", \"steele\", \"steeles\", \"steeles\", \"stile\", \"stile\", \"stile\", \"stile\", \"stood\", \"stood\", \"stood\", \"stood\", \"stood\", \"stood\", \"stood\", \"stood\", \"stood\", \"stood\", \"stood\", \"strained\", \"strained\", \"strained\", \"strained\", \"strained\", \"strange\", \"strange\", \"strange\", \"strange\", \"strange\", \"strange\", \"strange\", \"strange\", \"strange\", \"strange\", \"strange\", \"strange\", \"strength\", \"strength\", \"strength\", \"strength\", \"strength\", \"strength\", \"strength\", \"strength\", \"strength\", \"strength\", \"strength\", \"strength\", \"strength\", \"strength\", \"strings\", \"strings\", \"strings\", \"strings\", \"strong\", \"strong\", \"strong\", \"strong\", \"strong\", \"strong\", \"strong\", \"strong\", \"strong\", \"strong\", \"strong\", \"strong\", \"strong\", \"substitute\", \"substitute\", \"substitute\", \"substitute\", \"suckling\", \"suckling\", \"suggestive\", \"suggestive\", \"summits\", \"summits\", \"sun\", \"sun\", \"sun\", \"sun\", \"sun\", \"sun\", \"sun\", \"sure\", \"sure\", \"sure\", \"sure\", \"sure\", \"sure\", \"sure\", \"sure\", \"sure\", \"sure\", \"sure\", \"sure\", \"sure\", \"surgeon\", \"surgeon\", \"surgeon\", \"surgeon\", \"surprize\", \"surprize\", \"surprize\", \"surprized\", \"surprized\", \"sussex\", \"swiss\", \"sworn\", \"sworn\", \"sylvie\", \"sylvie\", \"sympathies\", \"sympathies\", \"sympathies\", \"sympathies\", \"tablet\", \"tablet\", \"tablet\", \"tales\", \"tales\", \"tales\", \"tales\", \"tales\", \"tap\", \"tap\", \"taylor\", \"taylor\", \"tell\", \"tell\", \"tell\", \"tell\", \"tell\", \"tell\", \"tell\", \"tell\", \"tell\", \"tell\", \"tell\", \"tell\", \"tell\", \"temple\", \"temple\", \"temple\", \"temple\", \"temple\", \"temple\", \"temple\", \"temple\", \"temple\", \"temple\", \"temple\", \"terrasse\", \"terrasse\", \"terrasse\", \"terrasse\", \"terribly\", \"terribly\", \"terribly\", \"thing\", \"thing\", \"thing\", \"thing\", \"thing\", \"thing\", \"thing\", \"thing\", \"thing\", \"thing\", \"thing\", \"thing\", \"think\", \"think\", \"think\", \"think\", \"think\", \"think\", \"think\", \"think\", \"think\", \"think\", \"think\", \"think\", \"think\", \"think\", \"thirdly\", \"thirdly\", \"thirdly\", \"thirty\", \"thirty\", \"thirty\", \"thirty\", \"thirty\", \"thirty\", \"thirty\", \"thirty\", \"thirty\", \"thirty\", \"thornfield\", \"thornfield\", \"thornfield\", \"thornfield\", \"thornfield\", \"thornfield\", \"thought\", \"thought\", \"thought\", \"thought\", \"thought\", \"thought\", \"thought\", \"thought\", \"thought\", \"thought\", \"thought\", \"thought\", \"thought\", \"thought\", \"thought\", \"threatening\", \"threatening\", \"threatening\", \"threatening\", \"threatening\", \"threatening\", \"thrusting\", \"thrusting\", \"thrusting\", \"till\", \"till\", \"till\", \"till\", \"till\", \"till\", \"till\", \"till\", \"till\", \"till\", \"till\", \"till\", \"till\", \"till\", \"time\", \"time\", \"time\", \"time\", \"time\", \"time\", \"time\", \"time\", \"time\", \"time\", \"time\", \"time\", \"time\", \"time\", \"time\", \"tomorrow\", \"tomorrow\", \"tomorrow\", \"took\", \"took\", \"took\", \"took\", \"took\", \"took\", \"took\", \"took\", \"took\", \"took\", \"took\", \"took\", \"took\", \"took\", \"torture\", \"torture\", \"torture\", \"torture\", \"torture\", \"town\", \"town\", \"town\", \"town\", \"town\", \"town\", \"town\", \"town\", \"town\", \"tractable\", \"tractable\", \"tractable\", \"tractable\", \"tramp\", \"tramp\", \"tramp\", \"trampled\", \"transformed\", \"transformed\", \"transformed\", \"transformed\", \"transformed\", \"treading\", \"trees\", \"trees\", \"trees\", \"trees\", \"trees\", \"trees\", \"trees\", \"trees\", \"trees\", \"trees\", \"truth\", \"truth\", \"truth\", \"truth\", \"truth\", \"truth\", \"truth\", \"truth\", \"truth\", \"truth\", \"truth\", \"turf\", \"turf\", \"turf\", \"turf\", \"turk\", \"turk\", \"turk\", \"tynedale\", \"unaccountably\", \"unaccountably\", \"unaccountably\", \"unchanged\", \"unchanged\", \"unchanged\", \"unchanged\", \"unchanged\", \"uncle\", \"uncle\", \"uncle\", \"uncle\", \"uncle\", \"uncle\", \"uncle\", \"uncle\", \"unclose\", \"unclose\", \"unclose\", \"understands\", \"understands\", \"understands\", \"une\", \"une\", \"unnumbered\", \"unselfish\", \"unselfish\", \"unselfish\", \"unselfish\", \"unsuspected\", \"vandenhuten\", \"vandenhuten\", \"vandenhuten\", \"vapid\", \"vapid\", \"vapid\", \"varens\", \"vases\", \"vases\", \"vases\", \"vases\", \"ve\", \"ve\", \"ve\", \"ve\", \"ve\", \"venerable\", \"venerable\", \"verdure\", \"verdure\", \"verdure\", \"verdure\", \"vicar\", \"vicar\", \"vicar\", \"vicar\", \"vicarage\", \"vices\", \"vices\", \"vices\", \"vices\", \"victor\", \"victor\", \"violets\", \"visionary\", \"voice\", \"voice\", \"voice\", \"voice\", \"voice\", \"voice\", \"voice\", \"voice\", \"voice\", \"voice\", \"voice\", \"voice\", \"voice\", \"voice\", \"void\", \"void\", \"void\", \"void\", \"void\", \"void\", \"vous\", \"vous\", \"vous\", \"vous\", \"vous\", \"waiter\", \"waiter\", \"waiter\", \"wall\", \"wall\", \"wall\", \"wall\", \"wall\", \"wall\", \"wall\", \"wall\", \"want\", \"want\", \"want\", \"want\", \"want\", \"want\", \"want\", \"want\", \"want\", \"want\", \"warren\", \"warren\", \"water\", \"water\", \"water\", \"water\", \"water\", \"water\", \"water\", \"water\", \"water\", \"way\", \"way\", \"way\", \"way\", \"way\", \"way\", \"way\", \"way\", \"way\", \"way\", \"way\", \"way\", \"way\", \"way\", \"way\", \"went\", \"went\", \"went\", \"went\", \"went\", \"went\", \"went\", \"went\", \"went\", \"went\", \"went\", \"went\", \"went\", \"went\", \"weston\", \"weston\", \"weston\", \"weston\", \"whim\", \"whim\", \"whim\", \"whim\", \"whip\", \"whip\", \"whip\", \"whitcross\", \"whitcross\", \"whitcross\", \"white\", \"white\", \"white\", \"white\", \"white\", \"white\", \"white\", \"white\", \"white\", \"white\", \"white\", \"wicked\", \"wicked\", \"wicked\", \"wicked\", \"wicked\", \"wicked\", \"wicked\", \"wickham\", \"wife\", \"wife\", \"wife\", \"wife\", \"wife\", \"wife\", \"wife\", \"wife\", \"wife\", \"wife\", \"wild\", \"wild\", \"wild\", \"wild\", \"wild\", \"wild\", \"wild\", \"wild\", \"wild\", \"wild\", \"wild\", \"wild\", \"willoughby\", \"willoughby\", \"wind\", \"wind\", \"wind\", \"wind\", \"wind\", \"wind\", \"wind\", \"wind\", \"wind\", \"wind\", \"wind\", \"winding\", \"wipe\", \"wipe\", \"wipe\", \"wipe\", \"wish\", \"wish\", \"wish\", \"wish\", \"wish\", \"wish\", \"wish\", \"wish\", \"wish\", \"wish\", \"wish\", \"wish\", \"wish\", \"wish\", \"wish\", \"withered\", \"withered\", \"woes\", \"woes\", \"woes\", \"woes\", \"woman\", \"woman\", \"woman\", \"woman\", \"woman\", \"woman\", \"woman\", \"woman\", \"woman\", \"woman\", \"woman\", \"woman\", \"womanly\", \"womanly\", \"womanly\", \"wonder\", \"wonder\", \"wonder\", \"wonder\", \"wonder\", \"wonder\", \"wonder\", \"wonder\", \"wonder\", \"wonder\", \"wonder\", \"wood\", \"wood\", \"wood\", \"wood\", \"wood\", \"wood\", \"wood\", \"wood\", \"wood\", \"woodhouse\", \"woodhouse\", \"woodhouse\", \"woodhouse\", \"word\", \"word\", \"word\", \"word\", \"word\", \"word\", \"word\", \"word\", \"word\", \"word\", \"word\", \"word\", \"word\", \"word\", \"word\", \"words\", \"words\", \"words\", \"words\", \"words\", \"words\", \"words\", \"words\", \"words\", \"words\", \"words\", \"words\", \"words\", \"work\", \"work\", \"work\", \"work\", \"work\", \"work\", \"work\", \"work\", \"work\", \"work\", \"work\", \"work\", \"work\", \"works\", \"works\", \"works\", \"works\", \"works\", \"works\", \"world\", \"world\", \"world\", \"world\", \"world\", \"world\", \"world\", \"world\", \"world\", \"world\", \"world\", \"world\", \"world\", \"world\", \"world\", \"years\", \"years\", \"years\", \"years\", \"years\", \"years\", \"years\", \"years\", \"years\", \"years\", \"years\", \"yes\", \"yes\", \"yes\", \"yes\", \"yes\", \"yes\", \"yes\", \"yes\", \"yes\", \"yes\", \"yes\", \"yes\", \"yes\", \"young\", \"young\", \"young\", \"young\", \"young\", \"young\", \"young\", \"young\", \"young\", \"young\", \"young\", \"young\", \"young\", \"zelie\", \"zoraide\"]}, \"R\": 30, \"lambda.step\": 0.01, \"plot.opts\": {\"xlab\": \"PC1\", \"ylab\": \"PC2\"}, \"topic.order\": [12, 2, 10, 11, 3, 1, 8, 4, 15, 5, 6, 13, 14, 7, 9]};\n",
       "\n",
       "function LDAvis_load_lib(url, callback){\n",
       "  var s = document.createElement('script');\n",
       "  s.src = url;\n",
       "  s.async = true;\n",
       "  s.onreadystatechange = s.onload = callback;\n",
       "  s.onerror = function(){console.warn(\"failed to load library \" + url);};\n",
       "  document.getElementsByTagName(\"head\")[0].appendChild(s);\n",
       "}\n",
       "\n",
       "if(typeof(LDAvis) !== \"undefined\"){\n",
       "   // already loaded: just create the visualization\n",
       "   !function(LDAvis){\n",
       "       new LDAvis(\"#\" + \"ldavis_el1673612150768327446219459840\", ldavis_el1673612150768327446219459840_data);\n",
       "   }(LDAvis);\n",
       "}else if(typeof define === \"function\" && define.amd){\n",
       "   // require.js is available: use it to load d3/LDAvis\n",
       "   require.config({paths: {d3: \"https://cdnjs.cloudflare.com/ajax/libs/d3/3.5.5/d3.min\"}});\n",
       "   require([\"d3\"], function(d3){\n",
       "      window.d3 = d3;\n",
       "      LDAvis_load_lib(\"https://cdn.rawgit.com/bmabey/pyLDAvis/files/ldavis.v1.0.0.js\", function(){\n",
       "        new LDAvis(\"#\" + \"ldavis_el1673612150768327446219459840\", ldavis_el1673612150768327446219459840_data);\n",
       "      });\n",
       "    });\n",
       "}else{\n",
       "    // require.js not available: dynamically load d3 & LDAvis\n",
       "    LDAvis_load_lib(\"https://cdnjs.cloudflare.com/ajax/libs/d3/3.5.5/d3.min.js\", function(){\n",
       "         LDAvis_load_lib(\"https://cdn.rawgit.com/bmabey/pyLDAvis/files/ldavis.v1.0.0.js\", function(){\n",
       "                 new LDAvis(\"#\" + \"ldavis_el1673612150768327446219459840\", ldavis_el1673612150768327446219459840_data);\n",
       "            })\n",
       "         });\n",
       "}\n",
       "</script>"
      ],
      "text/plain": [
       "PreparedData(topic_coordinates=              x         y  topics  cluster       Freq\n",
       "topic                                                \n",
       "11     0.135095 -0.035689       1        1  25.826826\n",
       "1     -0.033036  0.016663       2        1  22.538828\n",
       "9     -0.003467  0.051299       3        1  14.054955\n",
       "10     0.165461 -0.008277       4        1  11.031960\n",
       "2     -0.061113  0.059925       5        1   9.307949\n",
       "0      0.166624 -0.017998       6        1   8.690090\n",
       "7     -0.015242  0.100286       7        1   3.760563\n",
       "3     -0.029476  0.065524       8        1   1.433406\n",
       "14    -0.061154  0.031204       9        1   0.811140\n",
       "4     -0.005177  0.033240      10        1   0.733448\n",
       "5      0.002030 -0.030618      11        1   0.565844\n",
       "12    -0.043379 -0.023181      12        1   0.445688\n",
       "13    -0.073901 -0.095686      13        1   0.291725\n",
       "6     -0.088867 -0.090695      14        1   0.254584\n",
       "8     -0.054400 -0.055997      15        1   0.252989, topic_info=     Category         Freq       Term        Total  loglift  logprob\n",
       "86    Default   915.000000       emma   915.000000  30.0000  30.0000\n",
       "159   Default  1718.000000     little  1718.000000  29.0000  29.0000\n",
       "5852  Default   694.000000     elinor   694.000000  28.0000  28.0000\n",
       "403   Default  1323.000000       like  1323.000000  27.0000  27.0000\n",
       "183   Default  1542.000000       miss  1542.000000  26.0000  26.0000\n",
       "5857  Default   573.000000   marianne   573.000000  25.0000  25.0000\n",
       "372   Default  1352.000000       good  1352.000000  24.0000  24.0000\n",
       "148   Default   931.000000       jane   931.000000  23.0000  23.0000\n",
       "280   Default  1142.000000    thought  1142.000000  22.0000  22.0000\n",
       "1012  Default   561.000000    harriet   561.000000  21.0000  21.0000\n",
       "902   Default   873.000000       room   873.000000  20.0000  20.0000\n",
       "63    Default  1053.000000        day  1053.000000  19.0000  19.0000\n",
       "4922  Default   409.000000     madame   409.000000  18.0000  18.0000\n",
       "450   Default   588.000000        sir   588.000000  17.0000  17.0000\n",
       "284   Default  1313.000000       time  1313.000000  16.0000  16.0000\n",
       "399   Default  1429.000000       know  1429.000000  15.0000  15.0000\n",
       "279   Default  1313.000000      think  1313.000000  14.0000  14.0000\n",
       "260   Default   920.000000       soon   920.000000  13.0000  13.0000\n",
       "337   Default   827.000000       come   827.000000  12.0000  12.0000\n",
       "163   Default   935.000000       long   935.000000  11.0000  11.0000\n",
       "753   Default   773.000000        saw   773.000000  10.0000  10.0000\n",
       "133   Default   488.000000       home   488.000000   9.0000   9.0000\n",
       "164   Default   697.000000     looked   697.000000   8.0000   8.0000\n",
       "513   Default   415.000000      elton   415.000000   7.0000   7.0000\n",
       "129   Default   653.000000      heart   653.000000   6.0000   6.0000\n",
       "298   Default   686.000000        way   686.000000   5.0000   5.0000\n",
       "168   Default   901.000000        man   901.000000   4.0000   4.0000\n",
       "1445  Default   615.000000       hand   615.000000   3.0000   3.0000\n",
       "301   Default   449.000000     weston   449.000000   2.0000   2.0000\n",
       "7113  Default   286.000000   monsieur   286.000000   1.0000   1.0000\n",
       "...       ...          ...        ...          ...      ...      ...\n",
       "450   Topic15     3.633453        sir   588.813354   0.8917  -5.3857\n",
       "91    Topic15     1.772620      event   100.143959   1.9454  -6.1034\n",
       "1407  Topic15     2.371895      added   227.619446   1.4156  -5.8122\n",
       "82    Topic15     1.196257   domestic    34.040878   2.6312  -6.4967\n",
       "260   Topic15     3.696047       soon   920.107239   0.4624  -5.3686\n",
       "750   Topic15     2.348032     return   274.757629   1.2173  -5.8223\n",
       "325   Topic15     3.050725     better   613.064758   0.6765  -5.5605\n",
       "340   Topic15     2.373631     coming   302.526245   1.1318  -5.8115\n",
       "7002  Topic15     1.788258      adele   130.853333   1.6867  -6.0947\n",
       "753   Topic15     3.030322        saw   773.862915   0.4369  -5.5672\n",
       "2450  Topic15     2.395235    fairfax   388.133179   0.8917  -5.8024\n",
       "403   Topic15     3.154466       like  1323.185303  -0.0594  -5.5271\n",
       "1538  Topic15     2.573742       john   622.639465   0.4910  -5.7305\n",
       "419   Topic15     2.483764      night   622.992432   0.4548  -5.7661\n",
       "2081  Topic15     1.808172     master   199.969360   1.2737  -6.0836\n",
       "217   Topic15     1.832584      power   247.161209   1.0753  -6.0702\n",
       "1658  Topic15     1.926441      words   342.737305   0.7983  -6.0202\n",
       "370   Topic15     1.786807       glad   230.275131   1.1207  -6.0955\n",
       "365   Topic15     1.829073    feeling   281.499695   0.9433  -6.0721\n",
       "122   Topic15     1.796683  happiness   274.185913   0.9517  -6.0900\n",
       "1244  Topic15     1.851856      asked   394.263245   0.6187  -6.0597\n",
       "1313  Topic15     1.932962        yes   594.169128   0.2515  -6.0169\n",
       "148   Topic15     1.997442       jane   931.389343  -0.1652  -5.9840\n",
       "463   Topic15     1.904923       tell   538.444580   0.3353  -6.0315\n",
       "159   Topic15     2.016156     little  1718.123413  -0.7682  -5.9747\n",
       "119   Topic15     1.875732       half   587.628967   0.2325  -6.0469\n",
       "337   Topic15     1.892028       come   827.333740  -0.1010  -6.0383\n",
       "355   Topic15     1.862841       door   531.810486   0.3254  -6.0538\n",
       "283   Topic15     1.833174       till   518.238953   0.3352  -6.0699\n",
       "185   Topic15     1.830729    morning   513.078125   0.3439  -6.0712\n",
       "\n",
       "[1131 rows x 6 columns], token_table=      Topic      Freq       Term\n",
       "term                            \n",
       "792       1  0.058746      abbey\n",
       "792       4  0.910559      abbey\n",
       "6348      3  0.045800      abbot\n",
       "6348      9  0.870197      abbot\n",
       "2062      1  0.157287      abide\n",
       "2062      3  0.471860      abide\n",
       "2062      4  0.157287      abide\n",
       "2062     14  0.157287      abide\n",
       "3055      1  0.176852  abundance\n",
       "3055      2  0.294753  abundance\n",
       "3055      4  0.235802  abundance\n",
       "3055      5  0.117901  abundance\n",
       "3055     10  0.058951  abundance\n",
       "3055     14  0.058951  abundance\n",
       "7316      2  0.320127   accursed\n",
       "7316      3  0.320127   accursed\n",
       "7316      8  0.160063   accursed\n",
       "7316     14  0.160063   accursed\n",
       "6412      5  0.874185    achieve\n",
       "6102      1  0.389447     aching\n",
       "6102      3  0.194723     aching\n",
       "6102      9  0.194723     aching\n",
       "6102     14  0.194723     aching\n",
       "2063      1  0.327079        act\n",
       "2063      2  0.338760        act\n",
       "2063      3  0.105133        act\n",
       "2063      4  0.070088        act\n",
       "2063      5  0.023363        act\n",
       "2063      6  0.035044        act\n",
       "2063      8  0.081770        act\n",
       "...     ...       ...        ...\n",
       "308      12  0.003191      years\n",
       "308      14  0.006383      years\n",
       "1313      1  0.270967        yes\n",
       "1313      2  0.168302        yes\n",
       "1313      3  0.244038        yes\n",
       "1313      4  0.122861        yes\n",
       "1313      5  0.028611        yes\n",
       "1313      6  0.058906        yes\n",
       "1313      7  0.067321        yes\n",
       "1313      8  0.011781        yes\n",
       "1313      9  0.008415        yes\n",
       "1313     10  0.010098        yes\n",
       "1313     11  0.005049        yes\n",
       "1313     14  0.001683        yes\n",
       "1313     15  0.003366        yes\n",
       "611       1  0.381229      young\n",
       "611       2  0.125067      young\n",
       "611       3  0.131095      young\n",
       "611       4  0.179313      young\n",
       "611       5  0.042191      young\n",
       "611       6  0.088903      young\n",
       "611       7  0.013562      young\n",
       "611       8  0.012055      young\n",
       "611       9  0.012055      young\n",
       "611      10  0.004521      young\n",
       "611      11  0.003014      young\n",
       "611      12  0.006027      young\n",
       "611      14  0.001507      young\n",
       "8085      2  0.947893      zelie\n",
       "7899      2  0.930125    zoraide\n",
       "\n",
       "[4365 rows x 3 columns], R=30, lambda_step=0.01, plot_opts={'xlab': 'PC1', 'ylab': 'PC2'}, topic_order=[12, 2, 10, 11, 3, 1, 8, 4, 15, 5, 6, 13, 14, 7, 9])"
      ]
     },
     "execution_count": 71,
     "metadata": {},
     "output_type": "execute_result"
    }
   ],
   "source": [
    "pyLDAvis.gensim.prepare(lda, corpus, id2word)"
   ]
  },
  {
   "cell_type": "markdown",
   "metadata": {},
   "source": [
    "### Overall Model / Documents"
   ]
  },
  {
   "cell_type": "code",
   "execution_count": 34,
   "metadata": {},
   "outputs": [
    {
     "data": {
      "text/plain": [
       "[(10, 0.2071473), (11, 0.7908465)]"
      ]
     },
     "execution_count": 34,
     "metadata": {},
     "output_type": "execute_result"
    }
   ],
   "source": [
    "lda[corpus[0]]"
   ]
  },
  {
   "cell_type": "code",
   "execution_count": 35,
   "metadata": {},
   "outputs": [],
   "source": [
    "distro = [lda[d] for d in corpus]"
   ]
  },
  {
   "cell_type": "code",
   "execution_count": 36,
   "metadata": {},
   "outputs": [
    {
     "data": {
      "text/plain": [
       "[(10, 0.20714067), (11, 0.79085314)]"
      ]
     },
     "execution_count": 36,
     "metadata": {},
     "output_type": "execute_result"
    }
   ],
   "source": [
    "distro[0]"
   ]
  },
  {
   "cell_type": "code",
   "execution_count": 37,
   "metadata": {},
   "outputs": [],
   "source": [
    "distro = [lda[d] for d in corpus]\n",
    "\n",
    "def update(doc):\n",
    "        d_dist = {k:0 for k in range(0,15)}\n",
    "        for t in doc:\n",
    "            d_dist[t[0]] = t[1]\n",
    "        return d_dist\n",
    "    \n",
    "new_distro = [update(d) for d in distro]"
   ]
  },
  {
   "cell_type": "code",
   "execution_count": 38,
   "metadata": {},
   "outputs": [],
   "source": [
    "df = pd.DataFrame.from_records(new_distro, index=titles)\n",
    "df.columns = topics\n",
    "df['author'] = df.reset_index()['index'].apply(lambda x: x.split('_')[0]).tolist()"
   ]
  },
  {
   "cell_type": "code",
   "execution_count": 39,
   "metadata": {},
   "outputs": [
    {
     "data": {
      "text/html": [
       "<div>\n",
       "<style scoped>\n",
       "    .dataframe tbody tr th:only-of-type {\n",
       "        vertical-align: middle;\n",
       "    }\n",
       "\n",
       "    .dataframe tbody tr th {\n",
       "        vertical-align: top;\n",
       "    }\n",
       "\n",
       "    .dataframe thead th {\n",
       "        text-align: right;\n",
       "    }\n",
       "</style>\n",
       "<table border=\"1\" class=\"dataframe\">\n",
       "  <thead>\n",
       "    <tr style=\"text-align: right;\">\n",
       "      <th></th>\n",
       "      <th>elinor marianne edward dashwood jennings</th>\n",
       "      <th>little like thought monsieur madame</th>\n",
       "      <th>like night long thought door</th>\n",
       "      <th>sir like jane know thought</th>\n",
       "      <th>miss little like papa new</th>\n",
       "      <th>room dancing thought way dance</th>\n",
       "      <th>jane heart old eye monsieur</th>\n",
       "      <th>graham little papa like bretton</th>\n",
       "      <th>home soon sir hannah rochester</th>\n",
       "      <th>like little rochester sir jane</th>\n",
       "      <th>emma harriet miss elton knightley</th>\n",
       "      <th>elizabeth miss know think good</th>\n",
       "      <th>madame child good little day</th>\n",
       "      <th>church little time rome strange</th>\n",
       "      <th>bessie reed abbot miss like</th>\n",
       "      <th>author</th>\n",
       "    </tr>\n",
       "  </thead>\n",
       "  <tbody>\n",
       "    <tr>\n",
       "      <th>Austen_Emma0000</th>\n",
       "      <td>0.0</td>\n",
       "      <td>0.0</td>\n",
       "      <td>0.0</td>\n",
       "      <td>0.0</td>\n",
       "      <td>0.0</td>\n",
       "      <td>0.0</td>\n",
       "      <td>0.0</td>\n",
       "      <td>0.0</td>\n",
       "      <td>0.0</td>\n",
       "      <td>0.0</td>\n",
       "      <td>0.207146</td>\n",
       "      <td>0.790848</td>\n",
       "      <td>0.0</td>\n",
       "      <td>0.0</td>\n",
       "      <td>0.0</td>\n",
       "      <td>Austen</td>\n",
       "    </tr>\n",
       "    <tr>\n",
       "      <th>Austen_Emma0001</th>\n",
       "      <td>0.0</td>\n",
       "      <td>0.0</td>\n",
       "      <td>0.0</td>\n",
       "      <td>0.0</td>\n",
       "      <td>0.0</td>\n",
       "      <td>0.0</td>\n",
       "      <td>0.0</td>\n",
       "      <td>0.0</td>\n",
       "      <td>0.0</td>\n",
       "      <td>0.0</td>\n",
       "      <td>0.498179</td>\n",
       "      <td>0.499379</td>\n",
       "      <td>0.0</td>\n",
       "      <td>0.0</td>\n",
       "      <td>0.0</td>\n",
       "      <td>Austen</td>\n",
       "    </tr>\n",
       "    <tr>\n",
       "      <th>Austen_Emma0002</th>\n",
       "      <td>0.0</td>\n",
       "      <td>0.0</td>\n",
       "      <td>0.0</td>\n",
       "      <td>0.0</td>\n",
       "      <td>0.0</td>\n",
       "      <td>0.0</td>\n",
       "      <td>0.0</td>\n",
       "      <td>0.0</td>\n",
       "      <td>0.0</td>\n",
       "      <td>0.0</td>\n",
       "      <td>0.445006</td>\n",
       "      <td>0.552732</td>\n",
       "      <td>0.0</td>\n",
       "      <td>0.0</td>\n",
       "      <td>0.0</td>\n",
       "      <td>Austen</td>\n",
       "    </tr>\n",
       "    <tr>\n",
       "      <th>Austen_Emma0003</th>\n",
       "      <td>0.0</td>\n",
       "      <td>0.0</td>\n",
       "      <td>0.0</td>\n",
       "      <td>0.0</td>\n",
       "      <td>0.0</td>\n",
       "      <td>0.0</td>\n",
       "      <td>0.0</td>\n",
       "      <td>0.0</td>\n",
       "      <td>0.0</td>\n",
       "      <td>0.0</td>\n",
       "      <td>0.221487</td>\n",
       "      <td>0.776383</td>\n",
       "      <td>0.0</td>\n",
       "      <td>0.0</td>\n",
       "      <td>0.0</td>\n",
       "      <td>Austen</td>\n",
       "    </tr>\n",
       "    <tr>\n",
       "      <th>Austen_Emma0004</th>\n",
       "      <td>0.0</td>\n",
       "      <td>0.0</td>\n",
       "      <td>0.0</td>\n",
       "      <td>0.0</td>\n",
       "      <td>0.0</td>\n",
       "      <td>0.0</td>\n",
       "      <td>0.0</td>\n",
       "      <td>0.0</td>\n",
       "      <td>0.0</td>\n",
       "      <td>0.0</td>\n",
       "      <td>0.417732</td>\n",
       "      <td>0.580267</td>\n",
       "      <td>0.0</td>\n",
       "      <td>0.0</td>\n",
       "      <td>0.0</td>\n",
       "      <td>Austen</td>\n",
       "    </tr>\n",
       "  </tbody>\n",
       "</table>\n",
       "</div>"
      ],
      "text/plain": [
       "                 elinor marianne edward dashwood jennings  \\\n",
       "Austen_Emma0000                                       0.0   \n",
       "Austen_Emma0001                                       0.0   \n",
       "Austen_Emma0002                                       0.0   \n",
       "Austen_Emma0003                                       0.0   \n",
       "Austen_Emma0004                                       0.0   \n",
       "\n",
       "                 little like thought monsieur madame  \\\n",
       "Austen_Emma0000                                  0.0   \n",
       "Austen_Emma0001                                  0.0   \n",
       "Austen_Emma0002                                  0.0   \n",
       "Austen_Emma0003                                  0.0   \n",
       "Austen_Emma0004                                  0.0   \n",
       "\n",
       "                 like night long thought door  sir like jane know thought  \\\n",
       "Austen_Emma0000                           0.0                         0.0   \n",
       "Austen_Emma0001                           0.0                         0.0   \n",
       "Austen_Emma0002                           0.0                         0.0   \n",
       "Austen_Emma0003                           0.0                         0.0   \n",
       "Austen_Emma0004                           0.0                         0.0   \n",
       "\n",
       "                 miss little like papa new  room dancing thought way dance  \\\n",
       "Austen_Emma0000                        0.0                             0.0   \n",
       "Austen_Emma0001                        0.0                             0.0   \n",
       "Austen_Emma0002                        0.0                             0.0   \n",
       "Austen_Emma0003                        0.0                             0.0   \n",
       "Austen_Emma0004                        0.0                             0.0   \n",
       "\n",
       "                 jane heart old eye monsieur  graham little papa like bretton  \\\n",
       "Austen_Emma0000                          0.0                              0.0   \n",
       "Austen_Emma0001                          0.0                              0.0   \n",
       "Austen_Emma0002                          0.0                              0.0   \n",
       "Austen_Emma0003                          0.0                              0.0   \n",
       "Austen_Emma0004                          0.0                              0.0   \n",
       "\n",
       "                 home soon sir hannah rochester  \\\n",
       "Austen_Emma0000                             0.0   \n",
       "Austen_Emma0001                             0.0   \n",
       "Austen_Emma0002                             0.0   \n",
       "Austen_Emma0003                             0.0   \n",
       "Austen_Emma0004                             0.0   \n",
       "\n",
       "                 like little rochester sir jane  \\\n",
       "Austen_Emma0000                             0.0   \n",
       "Austen_Emma0001                             0.0   \n",
       "Austen_Emma0002                             0.0   \n",
       "Austen_Emma0003                             0.0   \n",
       "Austen_Emma0004                             0.0   \n",
       "\n",
       "                 emma harriet miss elton knightley  \\\n",
       "Austen_Emma0000                           0.207146   \n",
       "Austen_Emma0001                           0.498179   \n",
       "Austen_Emma0002                           0.445006   \n",
       "Austen_Emma0003                           0.221487   \n",
       "Austen_Emma0004                           0.417732   \n",
       "\n",
       "                 elizabeth miss know think good  madame child good little day  \\\n",
       "Austen_Emma0000                        0.790848                           0.0   \n",
       "Austen_Emma0001                        0.499379                           0.0   \n",
       "Austen_Emma0002                        0.552732                           0.0   \n",
       "Austen_Emma0003                        0.776383                           0.0   \n",
       "Austen_Emma0004                        0.580267                           0.0   \n",
       "\n",
       "                 church little time rome strange  bessie reed abbot miss like  \\\n",
       "Austen_Emma0000                              0.0                          0.0   \n",
       "Austen_Emma0001                              0.0                          0.0   \n",
       "Austen_Emma0002                              0.0                          0.0   \n",
       "Austen_Emma0003                              0.0                          0.0   \n",
       "Austen_Emma0004                              0.0                          0.0   \n",
       "\n",
       "                 author  \n",
       "Austen_Emma0000  Austen  \n",
       "Austen_Emma0001  Austen  \n",
       "Austen_Emma0002  Austen  \n",
       "Austen_Emma0003  Austen  \n",
       "Austen_Emma0004  Austen  "
      ]
     },
     "execution_count": 39,
     "metadata": {},
     "output_type": "execute_result"
    }
   ],
   "source": [
    "df.head()"
   ]
  },
  {
   "cell_type": "code",
   "execution_count": 40,
   "metadata": {},
   "outputs": [
    {
     "data": {
      "text/html": [
       "<div>\n",
       "<style scoped>\n",
       "    .dataframe tbody tr th:only-of-type {\n",
       "        vertical-align: middle;\n",
       "    }\n",
       "\n",
       "    .dataframe tbody tr th {\n",
       "        vertical-align: top;\n",
       "    }\n",
       "\n",
       "    .dataframe thead th {\n",
       "        text-align: right;\n",
       "    }\n",
       "</style>\n",
       "<table border=\"1\" class=\"dataframe\">\n",
       "  <thead>\n",
       "    <tr style=\"text-align: right;\">\n",
       "      <th></th>\n",
       "      <th>elinor marianne edward dashwood jennings</th>\n",
       "      <th>little like thought monsieur madame</th>\n",
       "      <th>like night long thought door</th>\n",
       "      <th>sir like jane know thought</th>\n",
       "      <th>miss little like papa new</th>\n",
       "      <th>room dancing thought way dance</th>\n",
       "      <th>jane heart old eye monsieur</th>\n",
       "      <th>graham little papa like bretton</th>\n",
       "      <th>home soon sir hannah rochester</th>\n",
       "      <th>like little rochester sir jane</th>\n",
       "      <th>emma harriet miss elton knightley</th>\n",
       "      <th>elizabeth miss know think good</th>\n",
       "      <th>madame child good little day</th>\n",
       "      <th>church little time rome strange</th>\n",
       "      <th>bessie reed abbot miss like</th>\n",
       "    </tr>\n",
       "    <tr>\n",
       "      <th>author</th>\n",
       "      <th></th>\n",
       "      <th></th>\n",
       "      <th></th>\n",
       "      <th></th>\n",
       "      <th></th>\n",
       "      <th></th>\n",
       "      <th></th>\n",
       "      <th></th>\n",
       "      <th></th>\n",
       "      <th></th>\n",
       "      <th></th>\n",
       "      <th></th>\n",
       "      <th></th>\n",
       "      <th></th>\n",
       "      <th></th>\n",
       "    </tr>\n",
       "  </thead>\n",
       "  <tbody>\n",
       "    <tr>\n",
       "      <th>Austen</th>\n",
       "      <td>0.187238</td>\n",
       "      <td>0.001259</td>\n",
       "      <td>0.005236</td>\n",
       "      <td>0.000000</td>\n",
       "      <td>0.002225</td>\n",
       "      <td>0.004235</td>\n",
       "      <td>0.000000</td>\n",
       "      <td>0.000485</td>\n",
       "      <td>0.000000</td>\n",
       "      <td>0.005213</td>\n",
       "      <td>0.238324</td>\n",
       "      <td>0.552245</td>\n",
       "      <td>0.000806</td>\n",
       "      <td>0.000311</td>\n",
       "      <td>0.000000</td>\n",
       "    </tr>\n",
       "    <tr>\n",
       "      <th>CBronte</th>\n",
       "      <td>0.000950</td>\n",
       "      <td>0.392751</td>\n",
       "      <td>0.159638</td>\n",
       "      <td>0.027227</td>\n",
       "      <td>0.011357</td>\n",
       "      <td>0.006428</td>\n",
       "      <td>0.004524</td>\n",
       "      <td>0.067167</td>\n",
       "      <td>0.004524</td>\n",
       "      <td>0.257918</td>\n",
       "      <td>0.002817</td>\n",
       "      <td>0.036064</td>\n",
       "      <td>0.006787</td>\n",
       "      <td>0.004647</td>\n",
       "      <td>0.014569</td>\n",
       "    </tr>\n",
       "  </tbody>\n",
       "</table>\n",
       "</div>"
      ],
      "text/plain": [
       "         elinor marianne edward dashwood jennings  \\\n",
       "author                                              \n",
       "Austen                                   0.187238   \n",
       "CBronte                                  0.000950   \n",
       "\n",
       "         little like thought monsieur madame  like night long thought door  \\\n",
       "author                                                                       \n",
       "Austen                              0.001259                      0.005236   \n",
       "CBronte                             0.392751                      0.159638   \n",
       "\n",
       "         sir like jane know thought  miss little like papa new  \\\n",
       "author                                                           \n",
       "Austen                     0.000000                   0.002225   \n",
       "CBronte                    0.027227                   0.011357   \n",
       "\n",
       "         room dancing thought way dance  jane heart old eye monsieur  \\\n",
       "author                                                                 \n",
       "Austen                         0.004235                     0.000000   \n",
       "CBronte                        0.006428                     0.004524   \n",
       "\n",
       "         graham little papa like bretton  home soon sir hannah rochester  \\\n",
       "author                                                                     \n",
       "Austen                          0.000485                        0.000000   \n",
       "CBronte                         0.067167                        0.004524   \n",
       "\n",
       "         like little rochester sir jane  emma harriet miss elton knightley  \\\n",
       "author                                                                       \n",
       "Austen                         0.005213                           0.238324   \n",
       "CBronte                        0.257918                           0.002817   \n",
       "\n",
       "         elizabeth miss know think good  madame child good little day  \\\n",
       "author                                                                  \n",
       "Austen                         0.552245                      0.000806   \n",
       "CBronte                        0.036064                      0.006787   \n",
       "\n",
       "         church little time rome strange  bessie reed abbot miss like  \n",
       "author                                                                 \n",
       "Austen                          0.000311                     0.000000  \n",
       "CBronte                         0.004647                     0.014569  "
      ]
     },
     "execution_count": 40,
     "metadata": {},
     "output_type": "execute_result"
    }
   ],
   "source": [
    "df.groupby('author').mean()"
   ]
  },
  {
   "cell_type": "markdown",
   "metadata": {},
   "source": [
    "## Challenge\n",
    "### *Can we see if one of the authors focus more on men than women?*\n",
    "\n",
    "*  Use Spacy for text prepocessing\n",
    "*  Extract the Named Entities from the documents using Spacy (command is fairly straight forward)\n",
    "*  Create unique list of names from the authors (you'll find that there are different types of named entities not all people)\n",
    "*  Label the names with genders (can you this by hand or you use the US census name lists)\n",
    "*  Customize your processing to replace the proper name with your gender from the previous step's lookup table\n",
    "*  Then follow the rest of the LDA flow\n"
   ]
  },
  {
   "cell_type": "markdown",
   "metadata": {},
   "source": [
    "# Selecting the Number of Topics (Learn)\n",
    "<a id=\"#p4\"></a>"
   ]
  },
  {
   "cell_type": "markdown",
   "metadata": {},
   "source": [
    "## Overview"
   ]
  },
  {
   "cell_type": "markdown",
   "metadata": {},
   "source": [
    "## Follow Along"
   ]
  },
  {
   "cell_type": "code",
   "execution_count": 41,
   "metadata": {},
   "outputs": [],
   "source": [
    "from gensim.models.coherencemodel import CoherenceModel\n",
    "\n",
    "def compute_coherence_values(dictionary, corpus, path, limit, start=2, step=3, passes=5):\n",
    "    \"\"\"\n",
    "    Compute c_v coherence for various number of topics\n",
    "\n",
    "    Parameters:\n",
    "    ----------\n",
    "    dictionary : Gensim dictionary\n",
    "    corpus : Gensim corpus\n",
    "    path : path to input texts\n",
    "    limit : Max num of topics\n",
    "    passes: the number of times the entire lda model & coherence values are calculated\n",
    "\n",
    "    Returns:\n",
    "    -------\n",
    "    coherence_values : Coherence values corresponding to the LDA model with respective number of topics\n",
    "    \"\"\"\n",
    "    \n",
    "    coherence_values = []\n",
    "    \n",
    "    tokens = list(doc_stream(path))\n",
    "    \n",
    "    for iter_ in range(passes):\n",
    "        for num_topics in range(start, limit, step):\n",
    "            stream = doc_stream(path)\n",
    "            model = LdaMulticore(corpus=corpus, num_topics=num_topics, id2word=dictionary, workers=4)\n",
    "            coherencemodel = CoherenceModel(model=model,dictionary=dictionary,corpus=corpus, coherence='u_mass')\n",
    "            coherence_values.append({'pass': iter_, \n",
    "                                     'num_topics': num_topics, \n",
    "                                     'coherence_score': coherencemodel.get_coherence()\n",
    "                                    })\n",
    "\n",
    "    return coherence_values"
   ]
  },
  {
   "cell_type": "code",
   "execution_count": 42,
   "metadata": {},
   "outputs": [],
   "source": [
    "# Can take a long time to run.\n",
    "coherence_values = compute_coherence_values(dictionary=id2word, \n",
    "                                                        corpus=corpus, \n",
    "                                                        path=path, \n",
    "                                                        start=2, \n",
    "                                                        limit=40, \n",
    "                                                        step=6,\n",
    "                                                        passes=5)"
   ]
  },
  {
   "cell_type": "code",
   "execution_count": 43,
   "metadata": {},
   "outputs": [],
   "source": [
    "topic_coherence = pd.DataFrame.from_records(coherence_values)"
   ]
  },
  {
   "cell_type": "code",
   "execution_count": null,
   "metadata": {},
   "outputs": [],
   "source": []
  },
  {
   "cell_type": "code",
   "execution_count": 44,
   "metadata": {},
   "outputs": [
    {
     "data": {
      "text/html": [
       "<div>\n",
       "<style scoped>\n",
       "    .dataframe tbody tr th:only-of-type {\n",
       "        vertical-align: middle;\n",
       "    }\n",
       "\n",
       "    .dataframe tbody tr th {\n",
       "        vertical-align: top;\n",
       "    }\n",
       "\n",
       "    .dataframe thead th {\n",
       "        text-align: right;\n",
       "    }\n",
       "</style>\n",
       "<table border=\"1\" class=\"dataframe\">\n",
       "  <thead>\n",
       "    <tr style=\"text-align: right;\">\n",
       "      <th></th>\n",
       "      <th>coherence_score</th>\n",
       "      <th>num_topics</th>\n",
       "      <th>pass</th>\n",
       "    </tr>\n",
       "  </thead>\n",
       "  <tbody>\n",
       "    <tr>\n",
       "      <th>0</th>\n",
       "      <td>-0.662758</td>\n",
       "      <td>2</td>\n",
       "      <td>0</td>\n",
       "    </tr>\n",
       "    <tr>\n",
       "      <th>1</th>\n",
       "      <td>-0.788160</td>\n",
       "      <td>8</td>\n",
       "      <td>0</td>\n",
       "    </tr>\n",
       "    <tr>\n",
       "      <th>2</th>\n",
       "      <td>-0.762858</td>\n",
       "      <td>14</td>\n",
       "      <td>0</td>\n",
       "    </tr>\n",
       "    <tr>\n",
       "      <th>3</th>\n",
       "      <td>-0.744042</td>\n",
       "      <td>20</td>\n",
       "      <td>0</td>\n",
       "    </tr>\n",
       "    <tr>\n",
       "      <th>4</th>\n",
       "      <td>-0.783881</td>\n",
       "      <td>26</td>\n",
       "      <td>0</td>\n",
       "    </tr>\n",
       "  </tbody>\n",
       "</table>\n",
       "</div>"
      ],
      "text/plain": [
       "   coherence_score  num_topics  pass\n",
       "0        -0.662758           2     0\n",
       "1        -0.788160           8     0\n",
       "2        -0.762858          14     0\n",
       "3        -0.744042          20     0\n",
       "4        -0.783881          26     0"
      ]
     },
     "execution_count": 44,
     "metadata": {},
     "output_type": "execute_result"
    }
   ],
   "source": [
    "topic_coherence.head()"
   ]
  },
  {
   "cell_type": "code",
   "execution_count": 45,
   "metadata": {},
   "outputs": [
    {
     "name": "stderr",
     "output_type": "stream",
     "text": [
      "C:\\Users\\PhatDeluxe\\Anaconda3\\envs\\U4-S1-NLP\\lib\\site-packages\\scipy\\stats\\stats.py:1713: FutureWarning: Using a non-tuple sequence for multidimensional indexing is deprecated; use `arr[tuple(seq)]` instead of `arr[seq]`. In the future this will be interpreted as an array index, `arr[np.array(seq)]`, which will result either in an error or a different result.\n",
      "  return np.add.reduce(sorted[indexer] * weights, axis=axis) / sumval\n"
     ]
    },
    {
     "data": {
      "image/png": "[encoded data removed]",
      "text/plain": [
       "<Figure size 432x288 with 1 Axes>"
      ]
     },
     "metadata": {
      "needs_background": "light"
     },
     "output_type": "display_data"
    }
   ],
   "source": [
    "import seaborn as sns\n",
    "\n",
    "ax = sns.lineplot(x=\"num_topics\", y=\"coherence_score\", data=topic_coherence)"
   ]
  },
  {
   "cell_type": "code",
   "execution_count": 46,
   "metadata": {},
   "outputs": [
    {
     "ename": "NameError",
     "evalue": "name 'x' is not defined",
     "output_type": "error",
     "traceback": [
      "\u001b[1;31m---------------------------------------------------------------------------\u001b[0m",
      "\u001b[1;31mNameError\u001b[0m                                 Traceback (most recent call last)",
      "\u001b[1;32m<ipython-input-46-374779cc73b5>\u001b[0m in \u001b[0;36m<module>\u001b[1;34m\u001b[0m\n\u001b[0;32m      1\u001b[0m \u001b[1;31m# Print the coherence scores\u001b[0m\u001b[1;33m\u001b[0m\u001b[1;33m\u001b[0m\u001b[0m\n\u001b[1;32m----> 2\u001b[1;33m \u001b[1;32mfor\u001b[0m \u001b[0mm\u001b[0m\u001b[1;33m,\u001b[0m \u001b[0mcv\u001b[0m \u001b[1;32min\u001b[0m \u001b[0mzip\u001b[0m\u001b[1;33m(\u001b[0m\u001b[0mx\u001b[0m\u001b[1;33m,\u001b[0m \u001b[0mcoherence_values\u001b[0m\u001b[1;33m)\u001b[0m\u001b[1;33m:\u001b[0m\u001b[1;33m\u001b[0m\u001b[0m\n\u001b[0m\u001b[0;32m      3\u001b[0m     \u001b[0mprint\u001b[0m\u001b[1;33m(\u001b[0m\u001b[1;34m\"Num Topics =\"\u001b[0m\u001b[1;33m,\u001b[0m \u001b[0mm\u001b[0m\u001b[1;33m,\u001b[0m \u001b[1;34m\" has Coherence Value of\"\u001b[0m\u001b[1;33m,\u001b[0m \u001b[0mround\u001b[0m\u001b[1;33m(\u001b[0m\u001b[0mcv\u001b[0m\u001b[1;33m,\u001b[0m \u001b[1;36m4\u001b[0m\u001b[1;33m)\u001b[0m\u001b[1;33m)\u001b[0m\u001b[1;33m\u001b[0m\u001b[0m\n",
      "\u001b[1;31mNameError\u001b[0m: name 'x' is not defined"
     ]
    }
   ],
   "source": [
    "# Print the coherence scores\n",
    "for m, cv in zip(x, coherence_values):\n",
    "    print(\"Num Topics =\", m, \" has Coherence Value of\", round(cv, 4))"
   ]
  },
  {
   "cell_type": "code",
   "execution_count": 89,
   "metadata": {},
   "outputs": [
    {
     "data": {
      "text/plain": [
       "[(0, 0.02226036),\n",
       " (1, 0.022260414),\n",
       " (2, 0.022260347),\n",
       " (3, 0.022260347),\n",
       " (4, 0.022260392),\n",
       " (5, 0.0222604),\n",
       " (6, 0.022260347),\n",
       " (7, 0.35487327),\n",
       " (8, 0.022260398),\n",
       " (9, 0.022260517),\n",
       " (10, 0.022260416),\n",
       " (11, 0.022260422),\n",
       " (12, 0.3557417),\n",
       " (13, 0.022260347),\n",
       " (14, 0.022260347)]"
      ]
     },
     "execution_count": 89,
     "metadata": {},
     "output_type": "execute_result"
    }
   ],
   "source": [
    "lda[id2word.doc2bow(tokenize(\"This is a sample document to score with a topic distribution.\"))]"
   ]
  },
  {
   "cell_type": "markdown",
   "metadata": {},
   "source": [
    "## Challenge\n",
    "### *Can we see if one of the authors focus more on men than women?*\n",
    "\n",
    "*  Use Spacy for text prepocessing\n",
    "*  Extract the Named Entities from the documents using Spacy (command is fairly straight forward)\n",
    "*  Create unique list of names from the authors (you'll find that there are different types of named entities not all people)\n",
    "*  Label the names with genders (can you this by hand or you use the US census name lists)\n",
    "*  Customize your processing to replace the proper name with your gender from the previous step's lookup table\n",
    "*  Then follow the rest of the LDA flow"
   ]
  },
  {
   "cell_type": "code",
   "execution_count": 78,
   "metadata": {},
   "outputs": [
    {
     "name": "stderr",
     "output_type": "stream",
     "text": [
      "/Users/jonathansokoll/anaconda3/envs/U4-S1-NLP/lib/python3.7/site-packages/thinc/neural/train.py:7: DeprecationWarning: Using or importing the ABCs from 'collections' instead of from 'collections.abc' is deprecated, and in 3.8 it will stop working\n",
      "  from .optimizers import Adam, linear_decay\n",
      "/Users/jonathansokoll/anaconda3/envs/U4-S1-NLP/lib/python3.7/site-packages/thinc/check.py:4: DeprecationWarning: Using or importing the ABCs from 'collections' instead of from 'collections.abc' is deprecated, and in 3.8 it will stop working\n",
      "  from collections import Sequence, Sized, Iterable, Callable\n",
      "/Users/jonathansokoll/anaconda3/envs/U4-S1-NLP/lib/python3.7/site-packages/thinc/check.py:4: DeprecationWarning: Using or importing the ABCs from 'collections' instead of from 'collections.abc' is deprecated, and in 3.8 it will stop working\n",
      "  from collections import Sequence, Sized, Iterable, Callable\n"
     ]
    }
   ],
   "source": [
    "import spacy\n",
    "\n",
    "nlp = spacy.load('en_core_web_lg')"
   ]
  },
  {
   "cell_type": "code",
   "execution_count": 79,
   "metadata": {},
   "outputs": [],
   "source": [
    "test = \"Ned asked me a question about England today.\""
   ]
  },
  {
   "cell_type": "code",
   "execution_count": 80,
   "metadata": {},
   "outputs": [
    {
     "name": "stdout",
     "output_type": "stream",
     "text": [
      "Ned Ned PROPN\n",
      "asked ask VERB\n",
      "me -PRON- PRON\n",
      "a a DET\n",
      "question question NOUN\n",
      "about about ADP\n",
      "England England PROPN\n",
      "today today NOUN\n",
      ". . PUNCT\n"
     ]
    }
   ],
   "source": [
    "doc = nlp(test)\n",
    "\n",
    "for token in doc:\n",
    "    print(token.text, token.lemma_, token.pos_)"
   ]
  },
  {
   "cell_type": "code",
   "execution_count": 81,
   "metadata": {},
   "outputs": [
    {
     "name": "stdout",
     "output_type": "stream",
     "text": [
      "Ned PERSON\n",
      "England GPE\n",
      "today DATE\n"
     ]
    }
   ],
   "source": [
    "for ent in doc.ents:\n",
    "    print(ent.text, ent.label_)"
   ]
  },
  {
   "cell_type": "code",
   "execution_count": 82,
   "metadata": {},
   "outputs": [],
   "source": [
    "def doc_stream(path):\n",
    "    for f in os.listdir(path):\n",
    "        with open(os.path.join(path,f)) as t:\n",
    "            text = t.read().strip('\\n')\n",
    "            yield text\n",
    "\n",
    "def get_people(docstream):\n",
    "    \n",
    "    ppl = []\n",
    "    \n",
    "    for d in docstream:\n",
    "        \n",
    "        doc = nlp(d)\n",
    "        \n",
    "        for ent in doc.ents:\n",
    "            \n",
    "            if ent.label_ == \"PERSON\":\n",
    "                ppl.append(ent.lemma_)\n",
    "                \n",
    "    return set(ppl)"
   ]
  },
  {
   "cell_type": "code",
   "execution_count": 129,
   "metadata": {},
   "outputs": [],
   "source": [
    "people = get_people(doc_stream(path))"
   ]
  },
  {
   "cell_type": "code",
   "execution_count": 126,
   "metadata": {},
   "outputs": [],
   "source": [
    "doc = nlp(next(doc_stream(path)))"
   ]
  },
  {
   "cell_type": "code",
   "execution_count": 128,
   "metadata": {},
   "outputs": [
    {
     "data": {
      "text/plain": [
       "'yesterday'"
      ]
     },
     "execution_count": 128,
     "metadata": {},
     "output_type": "execute_result"
    }
   ],
   "source": [
    "doc.ents[0].lemma_"
   ]
  },
  {
   "cell_type": "markdown",
   "metadata": {},
   "source": [
    "# Sources\n",
    "\n",
    "### *References*\n",
    "* [Andrew Ng et al paper on LDA](https://ai.stanford.edu/~ang/papers/jair03-lda.pdf)\n",
    "* On [Coherence](https://pdfs.semanticscholar.org/1521/8d9c029cbb903ae7c729b2c644c24994c201.pdf)\n",
    "\n",
    "### *Resources*\n",
    "\n",
    "* [Gensim](https://radimrehurek.com/gensim/): Python package for topic modeling, nlp, word vectorization, and few other things. Well maintained and well documented.\n",
    "* [Topic Modeling with Gensim](http://www.machinelearningplus.com/nlp/topic-modeling-gensim-python/#11createthedictionaryandcorpusneededfortopicmodeling): A kind of cookbook for LDA with gensim. Excellent overview, but the you need to be aware of missing import statements and assumed prior knowledge.\n",
    "* [Chinese Restuarant Process](https://en.wikipedia.org/wiki/Chinese_restaurant_process): That really obscure stats thing I mentioned... \n",
    "* [PyLDAvis](https://github.com/bmabey/pyLDAvis): Library for visualizing the topic model and performing some exploratory work. Works well. Has a direct parrell implementation in R as well. \n",
    "* [Rare Technologies](https://rare-technologies.com/): The people that made & maintain gensim and a few other libraries.\n",
    "* [Jane Austen v. Charlotte Bronte](https://www.literaryladiesguide.com/literary-musings/jane-austen-charlotte-bronte-different-alike/)"
   ]
  }
 ],
 "metadata": {
  "kernelspec": {
   "display_name": "U4-S1-NLP (Python3)",
   "language": "python",
   "name": "u4-s1-nlp"
  },
  "language_info": {
   "codemirror_mode": {
    "name": "ipython",
    "version": 3
   },
   "file_extension": ".py",
   "mimetype": "text/x-python",
   "name": "python",
   "nbconvert_exporter": "python",
   "pygments_lexer": "ipython3",
   "version": "3.7.0"
  }
 },
 "nbformat": 4,
 "nbformat_minor": 4
}
