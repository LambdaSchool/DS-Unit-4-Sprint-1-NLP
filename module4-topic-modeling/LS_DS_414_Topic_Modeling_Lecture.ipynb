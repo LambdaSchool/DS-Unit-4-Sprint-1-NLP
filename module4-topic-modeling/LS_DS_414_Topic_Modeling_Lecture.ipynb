{
 "cells": [
  {
   "cell_type": "markdown",
   "metadata": {},
   "source": [
    "Lambda School Data Science\n",
    "\n",
    "*Unit 4, Sprint 1, Module 4*\n",
    "\n",
    "---"
   ]
  },
  {
   "cell_type": "markdown",
   "metadata": {},
   "source": [
    "# Topic Modeling (Prepare)\n"
   ]
  },
  {
   "cell_type": "markdown",
   "metadata": {},
   "source": [
    "# Latent Dirchilet Allocation Models (Learn)\n",
    "<a id=\"#p1\"></a>"
   ]
  },
  {
   "cell_type": "markdown",
   "metadata": {},
   "source": [
    "## Overview\n",
    "LDA is a \"generative probabilistic model\". \n",
    "\n",
    "Let's play with a modoel available [here](https://lettier.com/projects/lda-topic-modeling/)"
   ]
  },
  {
   "cell_type": "markdown",
   "metadata": {},
   "source": [
    "## Follow Along"
   ]
  },
  {
   "cell_type": "markdown",
   "metadata": {},
   "source": [
    "## Challenge "
   ]
  },
  {
   "cell_type": "markdown",
   "metadata": {},
   "source": [
    "# Estimating LDA Models with Gensim (Learn)\n",
    "<a id=\"#p1\"></a>"
   ]
  },
  {
   "cell_type": "markdown",
   "metadata": {
    "toc-hr-collapsed": true
   },
   "source": [
    "## Overview\n",
    "### A Litterary Introduction: *Jane Austen V. Charlotte Bronte*\n",
    "Despite being born nearly forty years apart, modern fans often pit Jane Austen & Charlotte Bronte against one another in a battle for litterary  supremacy. The battle centers around the topics of education for women, courting, and marriage. The authors' similiar backgrounds naturally draw comparisons, but the modern fascination is probably due to novelility of British women publishing novels during the early 19th century. \n",
    "\n",
    "Can we help close a litterary battle for supremacy and simply acknowledge that the authors addressed different topics and deserve to be acknowledged as excellent authors each in their own right?\n",
    "\n",
    "We're going to apply Latent Dirichlet Allocation a machine learning alogrithm for topic modeling to each of the author's novels to compare the distribution of topics in their novels."
   ]
  },
  {
   "cell_type": "code",
   "execution_count": 1,
   "metadata": {},
   "outputs": [],
   "source": [
    "import numpy as np\n",
    "import gensim\n",
    "import os\n",
    "import re\n",
    "\n",
    "from gensim.utils import simple_preprocess\n",
    "from gensim.parsing.preprocessing import STOPWORDS\n",
    "from gensim import corpora\n",
    "\n",
    "from gensim.models.ldamulticore import LdaMulticore\n",
    "\n",
    "import pandas as pd"
   ]
  },
  {
   "cell_type": "markdown",
   "metadata": {},
   "source": [
    "### Novel Data\n",
    "I grabbed the novel data pre-split into a bunch of smaller chuncks"
   ]
  },
  {
   "cell_type": "code",
   "execution_count": 2,
   "metadata": {},
   "outputs": [],
   "source": [
    "path = './data/austen-brontë-split'"
   ]
  },
  {
   "cell_type": "markdown",
   "metadata": {},
   "source": [
    "### Text Preprocessing\n",
    "**Activity**: update the function `tokenize` with any technique you have learned so far this week. "
   ]
  },
  {
   "cell_type": "code",
   "execution_count": 3,
   "metadata": {},
   "outputs": [],
   "source": [
    "# 1) Plain Python - ''.split command\n",
    "# 2) Spacy - just the lemmas from the document\n",
    "# 3) Gensim - simple_preprocess\n",
    "\n",
    "def tokenize(text):\n",
    "    \"Complete this function\"\n",
    "    \n",
    "    return [token for token in simple_preprocess(text) if token in STOPWORDS]"
   ]
  },
  {
   "cell_type": "code",
   "execution_count": 4,
   "metadata": {},
   "outputs": [],
   "source": [
    "import os\n",
    "\n",
    "def gather_data(path_to_data): \n",
    "    data = []\n",
    "    for f in os.listdir(path):\n",
    "        if os.path.isdir(f) == False:\n",
    "            if f[-3:] == 'txt':\n",
    "                with open(os.path.join(path,f)) as t:\n",
    "                    text = t.read().strip('\\n')\n",
    "                    data.append(tokenize(str(text)))       \n",
    "    return data"
   ]
  },
  {
   "cell_type": "code",
   "execution_count": 13,
   "metadata": {},
   "outputs": [],
   "source": [
    "tokens = gather_data(path)"
   ]
  },
  {
   "cell_type": "code",
   "execution_count": 14,
   "metadata": {},
   "outputs": [
    {
     "data": {
      "text/plain": [
       "['emma',\n",
       " 'jane',\n",
       " 'austen',\n",
       " 'volume',\n",
       " 'chapter',\n",
       " 'emma',\n",
       " 'woodhouse',\n",
       " 'handsome',\n",
       " 'clever',\n",
       " 'rich']"
      ]
     },
     "execution_count": 14,
     "metadata": {},
     "output_type": "execute_result"
    }
   ],
   "source": [
    "tokens[0][0:10]"
   ]
  },
  {
   "cell_type": "code",
   "execution_count": 15,
   "metadata": {},
   "outputs": [
    {
     "data": {
      "text/plain": [
       "'this is a sample string with a  newline character'"
      ]
     },
     "execution_count": 15,
     "metadata": {},
     "output_type": "execute_result"
    }
   ],
   "source": [
    "\"this is a sample string with a \\n newline character\".replace('\\n', '')"
   ]
  },
  {
   "cell_type": "markdown",
   "metadata": {
    "toc-hr-collapsed": true
   },
   "source": [
    "## Follow Along"
   ]
  },
  {
   "cell_type": "code",
   "execution_count": 16,
   "metadata": {},
   "outputs": [],
   "source": [
    "titles = [t[:-4] for t in os.listdir(path) if os.path.isdir(t) == False]"
   ]
  },
  {
   "cell_type": "code",
   "execution_count": 17,
   "metadata": {},
   "outputs": [
    {
     "data": {
      "text/plain": [
       "813"
      ]
     },
     "execution_count": 17,
     "metadata": {},
     "output_type": "execute_result"
    }
   ],
   "source": [
    "len(titles)"
   ]
  },
  {
   "cell_type": "code",
   "execution_count": 18,
   "metadata": {},
   "outputs": [],
   "source": [
    "STOPWORDS = set(STOPWORDS).union(set(['said', 'mr', 'mrs']))\n",
    "\n",
    "def tokenize(text):\n",
    "    return [token for token in simple_preprocess(text) if token not in STOPWORDS]"
   ]
  },
  {
   "cell_type": "code",
   "execution_count": 19,
   "metadata": {},
   "outputs": [
    {
     "data": {
      "text/plain": [
       "['hello', 'world', 'test', 'tokenization', 'method']"
      ]
     },
     "execution_count": 19,
     "metadata": {},
     "output_type": "execute_result"
    }
   ],
   "source": [
    "tokenize(\"Hello World! This a test of the tokenization method\")"
   ]
  },
  {
   "cell_type": "markdown",
   "metadata": {},
   "source": [
    "### Author DataFrame\n"
   ]
  },
  {
   "cell_type": "code",
   "execution_count": 108,
   "metadata": {},
   "outputs": [],
   "source": [
    "df = pd.DataFrame(index=titles, data={'tokens':tokens})"
   ]
  },
  {
   "cell_type": "code",
   "execution_count": 109,
   "metadata": {},
   "outputs": [
    {
     "data": {
      "text/html": [
       "<div>\n",
       "<style scoped>\n",
       "    .dataframe tbody tr th:only-of-type {\n",
       "        vertical-align: middle;\n",
       "    }\n",
       "\n",
       "    .dataframe tbody tr th {\n",
       "        vertical-align: top;\n",
       "    }\n",
       "\n",
       "    .dataframe thead th {\n",
       "        text-align: right;\n",
       "    }\n",
       "</style>\n",
       "<table border=\"1\" class=\"dataframe\">\n",
       "  <thead>\n",
       "    <tr style=\"text-align: right;\">\n",
       "      <th></th>\n",
       "      <th>tokens</th>\n",
       "    </tr>\n",
       "  </thead>\n",
       "  <tbody>\n",
       "    <tr>\n",
       "      <th>Austen_Emma0000</th>\n",
       "      <td>[emma, jane, austen, volume, chapter, emma, wo...</td>\n",
       "    </tr>\n",
       "    <tr>\n",
       "      <th>Austen_Emma0001</th>\n",
       "      <td>[taylor, wish, pity, weston, thought, agree, p...</td>\n",
       "    </tr>\n",
       "    <tr>\n",
       "      <th>Austen_Emma0002</th>\n",
       "      <td>[behaved, charmingly, body, punctual, body, be...</td>\n",
       "    </tr>\n",
       "    <tr>\n",
       "      <th>Austen_Emma0003</th>\n",
       "      <td>[native, highbury, born, respectable, family, ...</td>\n",
       "    </tr>\n",
       "    <tr>\n",
       "      <th>Austen_Emma0004</th>\n",
       "      <td>[mention, handsome, letter, weston, received, ...</td>\n",
       "    </tr>\n",
       "  </tbody>\n",
       "</table>\n",
       "</div>"
      ],
      "text/plain": [
       "                                                            tokens\n",
       "Austen_Emma0000  [emma, jane, austen, volume, chapter, emma, wo...\n",
       "Austen_Emma0001  [taylor, wish, pity, weston, thought, agree, p...\n",
       "Austen_Emma0002  [behaved, charmingly, body, punctual, body, be...\n",
       "Austen_Emma0003  [native, highbury, born, respectable, family, ...\n",
       "Austen_Emma0004  [mention, handsome, letter, weston, received, ..."
      ]
     },
     "execution_count": 109,
     "metadata": {},
     "output_type": "execute_result"
    }
   ],
   "source": [
    "df.head()"
   ]
  },
  {
   "cell_type": "code",
   "execution_count": 103,
   "metadata": {},
   "outputs": [],
   "source": [
    "df['author'] = df.reset_index()['index'].apply(lambda x: x.split('_')[0]).tolist()\n",
    "df['book'] = df.reset_index()['index'].apply(lambda x: x.split('_')[1][:-4]).tolist()\n",
    "df['section'] = df.reset_index()['index'].apply(lambda x: x[-4:]).tolist()\n",
    "df['section'] = df['section'].astype('int')"
   ]
  },
  {
   "cell_type": "code",
   "execution_count": 104,
   "metadata": {},
   "outputs": [],
   "source": [
    "df['author'] = df['author'].map({'Austen':1, 'CBronte':0})"
   ]
  },
  {
   "cell_type": "code",
   "execution_count": 24,
   "metadata": {},
   "outputs": [
    {
     "data": {
      "text/plain": [
       "0    441\n",
       "1    372\n",
       "Name: author, dtype: int64"
      ]
     },
     "execution_count": 24,
     "metadata": {},
     "output_type": "execute_result"
    }
   ],
   "source": [
    "df.author.value_counts()"
   ]
  },
  {
   "cell_type": "markdown",
   "metadata": {},
   "source": [
    "### Streaming Documents\n",
    "Here we use a new pythonic thingy: the `yield` statement in our fucntion. This allows us to iterate over a bunch of documents without actually reading them into memory. You can see how we use this fucntion later on. "
   ]
  },
  {
   "cell_type": "code",
   "execution_count": 25,
   "metadata": {},
   "outputs": [],
   "source": [
    "def doc_stream(path):\n",
    "    for f in os.listdir(path):\n",
    "        if os.path.isdir(f) == False:\n",
    "            if f[-3:] == 'txt':\n",
    "                with open(os.path.join(path,f)) as t:\n",
    "                    text = t.read().strip('\\n')\n",
    "                    tokens = tokenize(str(text))\n",
    "                yield tokens"
   ]
  },
  {
   "cell_type": "code",
   "execution_count": 41,
   "metadata": {},
   "outputs": [],
   "source": [
    "streaming_data = doc_stream(path)"
   ]
  },
  {
   "cell_type": "code",
   "execution_count": null,
   "metadata": {},
   "outputs": [],
   "source": [
    "# gather_data => returns a list\n",
    "# doc_stream => returns a generator"
   ]
  },
  {
   "cell_type": "code",
   "execution_count": null,
   "metadata": {},
   "outputs": [],
   "source": [
    "next(streaming) # Returns one document at a time from the generator"
   ]
  },
  {
   "cell_type": "markdown",
   "metadata": {},
   "source": [
    "### Gensim LDA Topic Modeling"
   ]
  },
  {
   "cell_type": "code",
   "execution_count": 43,
   "metadata": {},
   "outputs": [],
   "source": [
    "# A Dictionary Representation of all the words in our corpus\n",
    "id2word = corpora.Dictionary(doc_stream(path))"
   ]
  },
  {
   "cell_type": "code",
   "execution_count": 44,
   "metadata": {},
   "outputs": [
    {
     "data": {
      "text/plain": [
       "387"
      ]
     },
     "execution_count": 44,
     "metadata": {},
     "output_type": "execute_result"
    }
   ],
   "source": [
    "id2word.token2id['girl']"
   ]
  },
  {
   "cell_type": "code",
   "execution_count": 45,
   "metadata": {},
   "outputs": [
    {
     "data": {
      "text/plain": [
       "'degree'"
      ]
     },
     "execution_count": 45,
     "metadata": {},
     "output_type": "execute_result"
    }
   ],
   "source": [
    "id2word[869]"
   ]
  },
  {
   "cell_type": "code",
   "execution_count": 46,
   "metadata": {},
   "outputs": [
    {
     "data": {
      "text/plain": [
       "[(2754, 1), (3987, 3), (6602, 1), (6819, 1)]"
      ]
     },
     "execution_count": 46,
     "metadata": {},
     "output_type": "execute_result"
    }
   ],
   "source": [
    "id2word.doc2bow(tokenize(\"This is a sample message Darcy England England England\"))"
   ]
  },
  {
   "cell_type": "code",
   "execution_count": 47,
   "metadata": {},
   "outputs": [
    {
     "data": {
      "text/plain": [
       "56"
      ]
     },
     "execution_count": 47,
     "metadata": {},
     "output_type": "execute_result"
    }
   ],
   "source": [
    "import sys\n",
    "sys.getsizeof(id2word)"
   ]
  },
  {
   "cell_type": "code",
   "execution_count": 48,
   "metadata": {},
   "outputs": [
    {
     "data": {
      "text/plain": [
       "22096"
      ]
     },
     "execution_count": 48,
     "metadata": {},
     "output_type": "execute_result"
    }
   ],
   "source": [
    "len(id2word.keys())"
   ]
  },
  {
   "cell_type": "code",
   "execution_count": 49,
   "metadata": {},
   "outputs": [],
   "source": [
    "# Let's remove extreme values from the dataset\n",
    "id2word.filter_extremes(no_below=5, no_above=0.95)"
   ]
  },
  {
   "cell_type": "code",
   "execution_count": 50,
   "metadata": {},
   "outputs": [
    {
     "data": {
      "text/plain": [
       "8103"
      ]
     },
     "execution_count": 50,
     "metadata": {},
     "output_type": "execute_result"
    }
   ],
   "source": [
    "len(id2word.keys())"
   ]
  },
  {
   "cell_type": "code",
   "execution_count": 51,
   "metadata": {},
   "outputs": [],
   "source": [
    "# a bag of words(bow) representation of our corpus\n",
    "# Note: we haven't actually read any text into memory here\n",
    "# Although abstracted away - tokenization IS happening in the doc_stream f(x)\n",
    "corpus = [id2word.doc2bow(text) for text in doc_stream(path)]"
   ]
  },
  {
   "cell_type": "code",
   "execution_count": 52,
   "metadata": {},
   "outputs": [
    {
     "data": {
      "text/plain": [
       "[(0, 1),\n",
       " (1, 1),\n",
       " (2, 1),\n",
       " (3, 1),\n",
       " (4, 1),\n",
       " (5, 1),\n",
       " (6, 4),\n",
       " (7, 1),\n",
       " (8, 1),\n",
       " (9, 1)]"
      ]
     },
     "execution_count": 52,
     "metadata": {},
     "output_type": "execute_result"
    }
   ],
   "source": [
    "corpus[0][:10]"
   ]
  },
  {
   "cell_type": "code",
   "execution_count": 88,
   "metadata": {},
   "outputs": [],
   "source": [
    "import warnings\n",
    "warnings.filterwarnings(\"ignore\",category=DeprecationWarning)\n",
    "\n",
    "\n",
    "lda = LdaMulticore(corpus=corpus,\n",
    "                   id2word=id2word,\n",
    "                   random_state=723812,\n",
    "                   num_topics =5,\n",
    "                   passes=10,\n",
    "                   workers=6\n",
    "                  );"
   ]
  },
  {
   "cell_type": "code",
   "execution_count": 89,
   "metadata": {},
   "outputs": [
    {
     "data": {
      "text/plain": [
       "[(0,\n",
       "  '0.011*\"elinor\" + 0.009*\"marianne\" + 0.006*\"time\" + 0.005*\"sister\" + 0.005*\"know\" + 0.005*\"think\" + 0.005*\"edward\" + 0.005*\"mother\" + 0.005*\"thing\" + 0.005*\"miss\"'),\n",
       " (1,\n",
       "  '0.006*\"little\" + 0.005*\"like\" + 0.004*\"good\" + 0.004*\"madame\" + 0.004*\"know\" + 0.004*\"thought\" + 0.004*\"day\" + 0.003*\"monsieur\" + 0.003*\"time\" + 0.003*\"hand\"'),\n",
       " (2,\n",
       "  '0.005*\"little\" + 0.005*\"like\" + 0.004*\"night\" + 0.004*\"thought\" + 0.004*\"time\" + 0.004*\"long\" + 0.004*\"day\" + 0.004*\"rochester\" + 0.004*\"door\" + 0.003*\"come\"'),\n",
       " (3,\n",
       "  '0.007*\"like\" + 0.006*\"little\" + 0.005*\"sir\" + 0.004*\"graham\" + 0.004*\"thought\" + 0.004*\"good\" + 0.004*\"bretton\" + 0.004*\"think\" + 0.004*\"know\" + 0.004*\"miss\"'),\n",
       " (4,\n",
       "  '0.010*\"miss\" + 0.008*\"emma\" + 0.007*\"elizabeth\" + 0.007*\"jane\" + 0.006*\"think\" + 0.006*\"know\" + 0.006*\"good\" + 0.006*\"little\" + 0.005*\"darcy\" + 0.005*\"time\"')]"
      ]
     },
     "execution_count": 89,
     "metadata": {},
     "output_type": "execute_result"
    }
   ],
   "source": [
    "lda.print_topics()"
   ]
  },
  {
   "cell_type": "code",
   "execution_count": 90,
   "metadata": {},
   "outputs": [],
   "source": [
    "words = [re.findall(r'\"([^\"]*)\"',t[1]) for t in lda.print_topics()]"
   ]
  },
  {
   "cell_type": "code",
   "execution_count": 91,
   "metadata": {},
   "outputs": [],
   "source": [
    "topics = [' '.join(t[0:5]) for t in words]"
   ]
  },
  {
   "cell_type": "code",
   "execution_count": 92,
   "metadata": {},
   "outputs": [
    {
     "name": "stdout",
     "output_type": "stream",
     "text": [
      "------ Topic 0 ------\n",
      "elinor marianne time sister know\n",
      "\n",
      "------ Topic 1 ------\n",
      "little like good madame know\n",
      "\n",
      "------ Topic 2 ------\n",
      "little like night thought time\n",
      "\n",
      "------ Topic 3 ------\n",
      "like little sir graham thought\n",
      "\n",
      "------ Topic 4 ------\n",
      "miss emma elizabeth jane think\n",
      "\n"
     ]
    }
   ],
   "source": [
    "for id, t in enumerate(topics): \n",
    "    print(f\"------ Topic {id} ------\")\n",
    "    print(t, end=\"\\n\\n\")"
   ]
  },
  {
   "cell_type": "markdown",
   "metadata": {},
   "source": [
    "## Challenge \n",
    "\n",
    "You will apply an LDA model to a customer review dataset to practice the fitting and estimation of LDA. "
   ]
  },
  {
   "cell_type": "markdown",
   "metadata": {},
   "source": [
    "# Interpret LDA Results (Learn)\n",
    "<a id=\"#p3\"></a>"
   ]
  },
  {
   "cell_type": "markdown",
   "metadata": {},
   "source": [
    "## Overview"
   ]
  },
  {
   "cell_type": "markdown",
   "metadata": {
    "toc-hr-collapsed": true
   },
   "source": [
    "## Follow Along"
   ]
  },
  {
   "cell_type": "markdown",
   "metadata": {},
   "source": [
    "### Topic Distance Visualization"
   ]
  },
  {
   "cell_type": "code",
   "execution_count": 71,
   "metadata": {},
   "outputs": [],
   "source": [
    "import pyLDAvis.gensim\n",
    "\n",
    "pyLDAvis.enable_notebook()"
   ]
  },
  {
   "cell_type": "code",
   "execution_count": 93,
   "metadata": {},
   "outputs": [
    {
     "name": "stderr",
     "output_type": "stream",
     "text": [
      "/home/j_m/.local/lib/python3.6/site-packages/pyLDAvis/_prepare.py:257: FutureWarning: Sorting because non-concatenation axis is not aligned. A future version\n",
      "of pandas will change to not sort by default.\n",
      "\n",
      "To accept the future behavior, pass 'sort=False'.\n",
      "\n",
      "To retain the current behavior and silence the warning, pass 'sort=True'.\n",
      "\n",
      "  return pd.concat([default_term_info] + list(topic_dfs))\n"
     ]
    },
    {
     "data": {
      "text/html": [
       "\n",
       "<link rel=\"stylesheet\" type=\"text/css\" href=\"https://cdn.rawgit.com/bmabey/pyLDAvis/files/ldavis.v1.0.0.css\">\n",
       "\n",
       "\n",
       "<div id=\"ldavis_el981403896363073682166201062\"></div>\n",
       "<script type=\"text/javascript\">\n",
       "\n",
       "var ldavis_el981403896363073682166201062_data = {\"mdsDat\": {\"x\": [-0.10720274121001169, 0.06351479953500787, -0.10424624851868117, 0.06417282769964026, 0.08376136249404491], \"y\": [0.024201475383797685, -0.03739012004882368, -0.025200369630111002, 0.04458065213106248, -0.00619163783592547], \"topics\": [1, 2, 3, 4, 5], \"cluster\": [1, 1, 1, 1, 1], \"Freq\": [28.047334671020508, 25.642833709716797, 17.295379638671875, 14.662400245666504, 14.352057456970215]}, \"tinfo\": {\"Category\": [\"Default\", \"Default\", \"Default\", \"Default\", \"Default\", \"Default\", \"Default\", \"Default\", \"Default\", \"Default\", \"Default\", \"Default\", \"Default\", \"Default\", \"Default\", \"Default\", \"Default\", \"Default\", \"Default\", \"Default\", \"Default\", \"Default\", \"Default\", \"Default\", \"Default\", \"Default\", \"Default\", \"Default\", \"Default\", \"Default\", \"Topic1\", \"Topic1\", \"Topic1\", \"Topic1\", \"Topic1\", \"Topic1\", \"Topic1\", \"Topic1\", \"Topic1\", \"Topic1\", \"Topic1\", \"Topic1\", \"Topic1\", \"Topic1\", \"Topic1\", \"Topic1\", \"Topic1\", \"Topic1\", \"Topic1\", \"Topic1\", \"Topic1\", \"Topic1\", \"Topic1\", \"Topic1\", \"Topic1\", \"Topic1\", \"Topic1\", \"Topic1\", \"Topic1\", \"Topic1\", \"Topic1\", \"Topic1\", \"Topic1\", \"Topic1\", \"Topic1\", \"Topic1\", \"Topic1\", \"Topic1\", \"Topic1\", \"Topic1\", \"Topic1\", \"Topic1\", \"Topic1\", \"Topic1\", \"Topic1\", \"Topic1\", \"Topic1\", \"Topic1\", \"Topic1\", \"Topic1\", \"Topic1\", \"Topic1\", \"Topic1\", \"Topic1\", \"Topic1\", \"Topic1\", \"Topic1\", \"Topic1\", \"Topic1\", \"Topic1\", \"Topic1\", \"Topic1\", \"Topic1\", \"Topic1\", \"Topic2\", \"Topic2\", \"Topic2\", \"Topic2\", \"Topic2\", \"Topic2\", \"Topic2\", \"Topic2\", \"Topic2\", \"Topic2\", \"Topic2\", \"Topic2\", \"Topic2\", \"Topic2\", \"Topic2\", \"Topic2\", \"Topic2\", \"Topic2\", \"Topic2\", \"Topic2\", \"Topic2\", \"Topic2\", \"Topic2\", \"Topic2\", \"Topic2\", \"Topic2\", \"Topic2\", \"Topic2\", \"Topic2\", \"Topic2\", \"Topic2\", \"Topic2\", \"Topic2\", \"Topic2\", \"Topic2\", \"Topic2\", \"Topic2\", \"Topic2\", \"Topic2\", \"Topic2\", \"Topic2\", \"Topic2\", \"Topic2\", \"Topic2\", \"Topic2\", \"Topic2\", \"Topic2\", \"Topic2\", \"Topic2\", \"Topic2\", \"Topic2\", \"Topic2\", \"Topic2\", \"Topic2\", \"Topic2\", \"Topic2\", \"Topic2\", \"Topic2\", \"Topic2\", \"Topic2\", \"Topic2\", \"Topic2\", \"Topic2\", \"Topic2\", \"Topic2\", \"Topic2\", \"Topic2\", \"Topic2\", \"Topic2\", \"Topic2\", \"Topic2\", \"Topic2\", \"Topic2\", \"Topic2\", \"Topic2\", \"Topic2\", \"Topic2\", \"Topic2\", \"Topic3\", \"Topic3\", \"Topic3\", \"Topic3\", \"Topic3\", \"Topic3\", \"Topic3\", \"Topic3\", \"Topic3\", \"Topic3\", \"Topic3\", \"Topic3\", \"Topic3\", \"Topic3\", \"Topic3\", \"Topic3\", \"Topic3\", \"Topic3\", \"Topic3\", \"Topic3\", \"Topic3\", \"Topic3\", \"Topic3\", \"Topic3\", \"Topic3\", \"Topic3\", \"Topic3\", \"Topic3\", \"Topic3\", \"Topic3\", \"Topic3\", \"Topic3\", \"Topic3\", \"Topic3\", \"Topic3\", \"Topic3\", \"Topic3\", \"Topic3\", \"Topic3\", \"Topic3\", \"Topic3\", \"Topic3\", \"Topic3\", \"Topic3\", \"Topic3\", \"Topic3\", \"Topic3\", \"Topic3\", \"Topic3\", \"Topic3\", \"Topic3\", \"Topic3\", \"Topic3\", \"Topic3\", \"Topic3\", \"Topic3\", \"Topic3\", \"Topic3\", \"Topic3\", \"Topic3\", \"Topic3\", \"Topic3\", \"Topic3\", \"Topic4\", \"Topic4\", \"Topic4\", \"Topic4\", \"Topic4\", \"Topic4\", \"Topic4\", \"Topic4\", \"Topic4\", \"Topic4\", \"Topic4\", \"Topic4\", \"Topic4\", \"Topic4\", \"Topic4\", \"Topic4\", \"Topic4\", \"Topic4\", \"Topic4\", \"Topic4\", \"Topic4\", \"Topic4\", \"Topic4\", \"Topic4\", \"Topic4\", \"Topic4\", \"Topic4\", \"Topic4\", \"Topic4\", \"Topic4\", \"Topic4\", \"Topic4\", \"Topic4\", \"Topic4\", \"Topic4\", \"Topic4\", \"Topic4\", \"Topic4\", \"Topic4\", \"Topic4\", \"Topic4\", \"Topic4\", \"Topic4\", \"Topic4\", \"Topic4\", \"Topic4\", \"Topic4\", \"Topic4\", \"Topic4\", \"Topic4\", \"Topic4\", \"Topic4\", \"Topic4\", \"Topic4\", \"Topic4\", \"Topic4\", \"Topic4\", \"Topic4\", \"Topic4\", \"Topic4\", \"Topic4\", \"Topic4\", \"Topic4\", \"Topic4\", \"Topic4\", \"Topic4\", \"Topic4\", \"Topic4\", \"Topic4\", \"Topic4\", \"Topic4\", \"Topic4\", \"Topic4\", \"Topic4\", \"Topic4\", \"Topic5\", \"Topic5\", \"Topic5\", \"Topic5\", \"Topic5\", \"Topic5\", \"Topic5\", \"Topic5\", \"Topic5\", \"Topic5\", \"Topic5\", \"Topic5\", \"Topic5\", \"Topic5\", \"Topic5\", \"Topic5\", \"Topic5\", \"Topic5\", \"Topic5\", \"Topic5\", \"Topic5\", \"Topic5\", \"Topic5\", \"Topic5\", \"Topic5\", \"Topic5\", \"Topic5\", \"Topic5\", \"Topic5\", \"Topic5\", \"Topic5\", \"Topic5\", \"Topic5\", \"Topic5\", \"Topic5\", \"Topic5\", \"Topic5\", \"Topic5\", \"Topic5\", \"Topic5\", \"Topic5\", \"Topic5\", \"Topic5\", \"Topic5\", \"Topic5\", \"Topic5\", \"Topic5\", \"Topic5\", \"Topic5\", \"Topic5\", \"Topic5\", \"Topic5\", \"Topic5\", \"Topic5\", \"Topic5\", \"Topic5\", \"Topic5\", \"Topic5\", \"Topic5\", \"Topic5\", \"Topic5\", \"Topic5\", \"Topic5\", \"Topic5\", \"Topic5\", \"Topic5\", \"Topic5\", \"Topic5\", \"Topic5\", \"Topic5\", \"Topic5\", \"Topic5\", \"Topic5\", \"Topic5\", \"Topic5\", \"Topic5\", \"Topic5\", \"Topic5\", \"Topic5\", \"Topic5\", \"Topic5\", \"Topic5\", \"Topic5\", \"Topic5\", \"Topic5\", \"Topic5\", \"Topic5\", \"Topic5\", \"Topic5\"], \"Freq\": [627.0, 518.0, 665.0, 868.0, 428.0, 956.0, 355.0, 333.0, 231.0, 395.0, 571.0, 315.0, 294.0, 218.0, 211.0, 442.0, 278.0, 198.0, 236.0, 520.0, 391.0, 1545.0, 403.0, 359.0, 593.0, 317.0, 1324.0, 200.0, 132.0, 127.0, 329.68572998046875, 183.0125732421875, 174.82760620117188, 655.2257080078125, 310.8139953613281, 197.34083557128906, 89.96228790283203, 421.07647705078125, 96.90169525146484, 75.61316680908203, 74.49176025390625, 71.3913345336914, 58.200965881347656, 52.16253662109375, 98.31396484375, 40.03030776977539, 50.0287971496582, 44.966251373291016, 53.9273681640625, 41.91735076904297, 39.867919921875, 36.801490783691406, 130.17764282226562, 31.77227783203125, 24.75579261779785, 25.722097396850586, 31.42867660522461, 24.430206298828125, 32.16263961791992, 16.55412483215332, 370.7255554199219, 145.8357696533203, 59.68788528442383, 77.38236236572266, 272.3176574707031, 689.0477905273438, 354.6876525878906, 315.63330078125, 631.8297119140625, 149.0871124267578, 352.8067626953125, 880.98779296875, 172.12066650390625, 384.8640441894531, 306.6736145019531, 240.0657501220703, 165.15945434570312, 559.7140502929688, 375.99688720703125, 558.1033935546875, 249.435791015625, 294.7302551269531, 402.4272155761719, 504.7635498046875, 361.6124267578125, 374.3935546875, 499.9216613769531, 300.69976806640625, 287.8292236328125, 406.2142639160156, 336.03118896484375, 267.7610778808594, 299.94915771484375, 297.86029052734375, 113.62891387939453, 272.5779724121094, 142.8871307373047, 36.48613739013672, 34.593868255615234, 111.94599914550781, 52.1595344543457, 104.2312240600586, 36.18865966796875, 44.52324676513672, 26.89521598815918, 19.43627166748047, 27.704103469848633, 106.0686264038086, 20.27053451538086, 29.484508514404297, 25.789392471313477, 16.565185546875, 73.60946655273438, 48.72720718383789, 24.80817985534668, 13.713920593261719, 170.65602111816406, 60.2120246887207, 66.60098266601562, 13.672724723815918, 20.03384017944336, 12.748690605163574, 101.05876922607422, 22.748449325561523, 58.89371871948242, 56.16447830200195, 44.4855842590332, 29.081127166748047, 31.68865203857422, 89.34449768066406, 105.75408935546875, 94.3240966796875, 313.2591552734375, 179.5191192626953, 35.70458984375, 72.98655700683594, 84.67449951171875, 121.99566650390625, 55.41824722290039, 82.44224548339844, 113.24356079101562, 128.75604248046875, 106.40252685546875, 140.73045349121094, 263.4930114746094, 511.07049560546875, 410.1468811035156, 171.26486206054688, 130.54808044433594, 213.72560119628906, 281.7759094238281, 293.6160583496094, 186.00735473632812, 313.6407165527344, 307.7765197753906, 209.611083984375, 177.21885681152344, 270.03875732421875, 197.56719970703125, 181.24171447753906, 190.41160583496094, 218.00521850585938, 211.85623168945312, 194.46896362304688, 173.08883666992188, 174.47085571289062, 176.79029846191406, 181.36297607421875, 180.4244384765625, 193.90499877929688, 173.59933471679688, 171.53518676757812, 621.7062377929688, 513.5350341796875, 228.60043334960938, 208.65528869628906, 195.75633239746094, 118.13374328613281, 130.61000061035156, 92.7633285522461, 80.93526458740234, 69.83078002929688, 48.215309143066406, 43.677635192871094, 34.66230773925781, 32.81084060668945, 27.44561767578125, 32.70944595336914, 27.40465545654297, 23.79051971435547, 24.631404876708984, 17.426027297973633, 15.620015144348145, 16.448123931884766, 14.714902877807617, 14.704201698303223, 13.79466724395752, 10.169829368591309, 9.235177040100098, 8.34005069732666, 7.449303150177002, 7.403378009796143, 254.72067260742188, 61.92927932739258, 77.2092056274414, 54.49015808105469, 29.28183937072754, 169.61636352539062, 292.2701110839844, 171.54185485839844, 250.57778930664062, 249.46395874023438, 109.93041229248047, 197.53561401367188, 310.512939453125, 96.48263549804688, 221.21206665039062, 263.45330810546875, 151.1962890625, 265.0539855957031, 193.20993041992188, 241.5367889404297, 160.07003784179688, 249.07455444335938, 174.06419372558594, 123.18184661865234, 154.65797424316406, 179.2180633544922, 176.03318786621094, 185.41281127929688, 214.2595977783203, 156.0473175048828, 156.7998504638672, 143.76776123046875, 144.26820373535156, 57.9705696105957, 24.109697341918945, 121.22601318359375, 27.391258239746094, 73.62560272216797, 18.859668731689453, 18.797039031982422, 26.799293518066406, 202.5080108642578, 6.846198081970215, 77.6576919555664, 8.52381706237793, 5.92083740234375, 5.902090072631836, 9.176669120788574, 4.946152687072754, 5.756826877593994, 6.567567825317383, 5.734730243682861, 4.91650915145874, 4.912350177764893, 4.889440536499023, 4.858979225158691, 4.848282337188721, 4.847499847412109, 197.0109100341797, 4.815025806427002, 104.9232177734375, 4.801980018615723, 4.703418731689453, 10.133121490478516, 120.37568664550781, 59.11561584472656, 16.329105377197266, 9.939653396606445, 8.520928382873535, 30.338008880615234, 132.1838836669922, 47.27544403076172, 181.2616729736328, 36.93263244628906, 17.906763076782227, 18.013212203979492, 226.8418731689453, 52.48522186279297, 36.197418212890625, 26.050495147705078, 329.4632873535156, 42.96138381958008, 104.88420104980469, 120.37397766113281, 151.99974060058594, 173.8361358642578, 41.09172821044922, 150.1308135986328, 113.78218078613281, 122.70066833496094, 269.5675964355469, 145.041259765625, 201.48358154296875, 177.67660522460938, 168.17201232910156, 123.97123718261719, 199.95980834960938, 192.64517211914062, 186.39450073242188, 129.99635314941406, 184.25482177734375, 148.65518188476562, 134.0828094482422, 122.3149185180664, 123.4631576538086, 136.87281799316406, 118.4811782836914, 122.10401153564453, 51.64834213256836, 25.19304847717285, 57.46583938598633, 10.692293167114258, 67.3322982788086, 8.868680953979492, 11.158878326416016, 5.9354329109191895, 5.922399044036865, 8.444870948791504, 12.669770240783691, 5.024832248687744, 5.842453956604004, 6.613717555999756, 6.597906112670898, 12.354475975036621, 4.923830986022949, 4.91355562210083, 5.703718662261963, 9.710132598876953, 4.850513935089111, 7.268782138824463, 13.7000093460083, 5.638463973999023, 20.151668548583984, 8.673666954040527, 79.54010772705078, 11.028141021728516, 5.479742527008057, 21.901607513427734, 23.45641326904297, 25.641515731811523, 18.526948928833008, 40.510826110839844, 9.388178825378418, 23.080991744995117, 85.97737121582031, 29.357547760009766, 49.996620178222656, 33.302215576171875, 13.825956344604492, 10.569055557250977, 161.8125762939453, 54.00039291381836, 54.61077880859375, 31.685497283935547, 51.29185104370117, 41.3036994934082, 26.61570930480957, 35.15084457397461, 198.72337341308594, 53.10013961791992, 73.1386489868164, 158.60276794433594, 73.50314331054688, 84.8707504272461, 39.20903778076172, 108.4816665649414, 98.14888763427734, 70.6965103149414, 93.36930084228516, 105.21183013916016, 221.7532501220703, 89.13871765136719, 170.39463806152344, 186.99803161621094, 144.98074340820312, 152.98715209960938, 138.07786560058594, 223.84397888183594, 168.6109619140625, 129.02723693847656, 149.49880981445312, 178.08880615234375, 130.34078979492188, 147.15985107421875, 132.56800842285156, 105.27024841308594, 106.03636932373047, 151.54576110839844, 121.7518539428711, 109.57842254638672, 97.55292510986328, 104.85014343261719, 101.60121154785156, 102.01148223876953, 115.5871810913086, 101.74605560302734, 102.07958221435547], \"Term\": [\"elinor\", \"marianne\", \"elizabeth\", \"emma\", \"darcy\", \"jane\", \"rochester\", \"bennet\", \"dashwood\", \"elton\", \"sister\", \"bingley\", \"edward\", \"graham\", \"jennings\", \"weston\", \"monsieur\", \"willoughby\", \"bretton\", \"harriet\", \"knightley\", \"miss\", \"madame\", \"lucy\", \"sir\", \"woodhouse\", \"like\", \"wickham\", \"brandon\", \"bessie\", \"bennet\", \"collins\", \"lydia\", \"elizabeth\", \"bingley\", \"wickham\", \"longbourn\", \"darcy\", \"gardiner\", \"kitty\", \"netherfield\", \"lucas\", \"meryton\", \"campbell\", \"lizzy\", \"forster\", \"rosings\", \"dixon\", \"pemberley\", \"hertfordshire\", \"bourgh\", \"fitzwilliam\", \"catherine\", \"phillips\", \"brighton\", \"hunsford\", \"maple\", \"derbyshire\", \"officers\", \"ford\", \"elton\", \"bates\", \"cole\", \"perry\", \"woodhouse\", \"emma\", \"weston\", \"knightley\", \"jane\", \"aunt\", \"harriet\", \"miss\", \"churchill\", \"dear\", \"father\", \"fairfax\", \"frank\", \"think\", \"thing\", \"know\", \"friend\", \"oh\", \"soon\", \"good\", \"great\", \"shall\", \"little\", \"young\", \"sure\", \"time\", \"man\", \"lady\", \"day\", \"thought\", \"frances\", \"monsieur\", \"hunsden\", \"une\", \"ne\", \"vous\", \"henri\", \"est\", \"estrade\", \"directress\", \"zoraide\", \"paletot\", \"tout\", \"mdlle\", \"donc\", \"pierre\", \"sylvie\", \"zelie\", \"reuter\", \"ce\", \"elle\", \"swiss\", \"paul\", \"professor\", \"je\", \"grec\", \"vandenhuten\", \"yorke\", \"pelet\", \"isidore\", \"que\", \"pas\", \"bien\", \"qu\", \"des\", \"crimsworth\", \"mademoiselle\", \"emanuel\", \"madame\", \"english\", \"mon\", \"et\", \"desk\", \"pupils\", \"lessons\", \"la\", \"beck\", \"st\", \"french\", \"school\", \"hand\", \"little\", \"like\", \"eye\", \"work\", \"eyes\", \"day\", \"thought\", \"face\", \"good\", \"know\", \"looked\", \"took\", \"time\", \"heart\", \"knew\", \"night\", \"long\", \"man\", \"saw\", \"door\", \"half\", \"felt\", \"house\", \"room\", \"think\", \"come\", \"shall\", \"elinor\", \"marianne\", \"dashwood\", \"jennings\", \"willoughby\", \"ferrars\", \"brandon\", \"middleton\", \"barton\", \"palmer\", \"norland\", \"fanny\", \"steele\", \"dashwoods\", \"delaford\", \"margaret\", \"steeles\", \"devonshire\", \"cleveland\", \"middletons\", \"berkeley\", \"allenham\", \"harley\", \"combe\", \"exeter\", \"magna\", \"palmers\", \"sussex\", \"longstaple\", \"somersetshire\", \"edward\", \"cottage\", \"engagement\", \"robert\", \"unfortunate\", \"colonel\", \"sister\", \"lucy\", \"mother\", \"thing\", \"affection\", \"john\", \"time\", \"spirits\", \"soon\", \"think\", \"harriet\", \"know\", \"great\", \"good\", \"sure\", \"miss\", \"house\", \"feelings\", \"heart\", \"man\", \"emma\", \"day\", \"little\", \"felt\", \"thought\", \"mind\", \"shall\", \"mason\", \"abbot\", \"bessie\", \"dent\", \"polly\", \"lynn\", \"missis\", \"eshton\", \"graham\", \"bertha\", \"ingram\", \"syne\", \"perishing\", \"interchanged\", \"amy\", \"jamaica\", \"big\", \"lang\", \"pit\", \"workings\", \"confines\", \"preoccupied\", \"nightmare\", \"bondage\", \"stick\", \"bretton\", \"kinsfolk\", \"reed\", \"crack\", \"bled\", \"lloyd\", \"papa\", \"paulina\", \"doll\", \"naughty\", \"groaned\", \"gateshead\", \"dr\", \"bassompierre\", \"rochester\", \"snowe\", \"daresay\", \"louisa\", \"sir\", \"eyre\", \"mamma\", \"nursery\", \"like\", \"blood\", \"child\", \"lucy\", \"face\", \"eyes\", \"red\", \"john\", \"head\", \"old\", \"little\", \"look\", \"thought\", \"long\", \"room\", \"tell\", \"good\", \"think\", \"know\", \"looked\", \"miss\", \"jane\", \"come\", \"hand\", \"heart\", \"time\", \"life\", \"man\", \"brocklehurst\", \"leah\", \"helen\", \"lowton\", \"temple\", \"slate\", \"varens\", \"scorched\", \"drenched\", \"battlements\", \"celine\", \"calmed\", \"eighty\", \"vapour\", \"inscription\", \"stile\", \"unnumbered\", \"misty\", \"astir\", \"superintendent\", \"enclosing\", \"herald\", \"horizon\", \"latticed\", \"miller\", \"gale\", \"thornfield\", \"blew\", \"chimneys\", \"sophie\", \"millcote\", \"burns\", \"scatcherd\", \"lowood\", \"cheese\", \"cloak\", \"adele\", \"gallery\", \"moon\", \"gates\", \"heath\", \"winding\", \"rochester\", \"sky\", \"wind\", \"dim\", \"road\", \"wood\", \"fields\", \"candle\", \"night\", \"trees\", \"hall\", \"door\", \"black\", \"dark\", \"wall\", \"round\", \"stood\", \"high\", \"light\", \"fairfax\", \"like\", \"new\", \"long\", \"thought\", \"house\", \"come\", \"came\", \"little\", \"day\", \"heard\", \"room\", \"time\", \"looked\", \"jane\", \"saw\", \"far\", \"went\", \"miss\", \"shall\", \"way\", \"hour\", \"hand\", \"left\", \"life\", \"know\", \"great\", \"think\"], \"Total\": [627.0, 518.0, 665.0, 868.0, 428.0, 956.0, 355.0, 333.0, 231.0, 395.0, 571.0, 315.0, 294.0, 218.0, 211.0, 442.0, 278.0, 198.0, 236.0, 520.0, 391.0, 1545.0, 403.0, 359.0, 593.0, 317.0, 1324.0, 200.0, 132.0, 127.0, 333.2297058105469, 185.10496520996094, 176.87269592285156, 665.2086791992188, 315.64849853515625, 200.46055603027344, 91.4873275756836, 428.6202392578125, 98.6761474609375, 77.08509826660156, 76.0499496459961, 72.96214294433594, 59.592525482177734, 53.41255187988281, 100.69891357421875, 41.089542388916016, 51.36134719848633, 46.208526611328125, 55.463951110839844, 43.137203216552734, 41.07658386230469, 37.98786163330078, 134.5219268798828, 32.853275299072266, 25.662113189697266, 26.684566497802734, 32.82118606567383, 25.633373260498047, 33.84786605834961, 17.428386688232422, 395.3276062011719, 155.50027465820312, 63.39401626586914, 82.74451446533203, 317.5553894042969, 868.791015625, 442.8828125, 391.8841552734375, 956.9385375976562, 186.73605346679688, 520.12255859375, 1545.8746337890625, 224.98443603515625, 596.5709838867188, 518.596923828125, 380.9432678222656, 239.1912841796875, 1311.797119140625, 783.8629150390625, 1432.91552734375, 439.8284912109375, 566.6170043945312, 922.0346069335938, 1352.5283203125, 824.6431274414062, 927.9432373046875, 1718.6634521484375, 665.517822265625, 615.626220703125, 1301.7275390625, 902.8402099609375, 620.2142944335938, 1052.2232666015625, 1136.7578125, 115.37640380859375, 278.268310546875, 147.39878845214844, 37.81332778930664, 35.87401580810547, 116.35700988769531, 54.294349670410156, 108.60221862792969, 37.812015533447266, 46.53786849975586, 28.11948013305664, 20.361967086791992, 29.086605072021484, 111.50515747070312, 21.328857421875, 31.03021812438965, 27.147796630859375, 17.453229904174805, 77.57249450683594, 51.38936233520508, 26.178653717041016, 14.544386863708496, 181.2886199951172, 63.99351119995117, 70.78785705566406, 14.544167518615723, 21.328405380249023, 13.575319290161133, 107.63924407958984, 24.233381271362305, 63.03265380859375, 60.108642578125, 47.51566696166992, 31.02923011779785, 33.9397087097168, 98.93869018554688, 118.27297973632812, 106.6186294555664, 403.4710998535156, 226.8709716796875, 38.78770065307617, 85.34135437011719, 101.84605407714844, 154.2166290283203, 63.98322296142578, 104.74787139892578, 162.94039916992188, 193.49331665039062, 158.16661071777344, 243.97824096679688, 610.0997924804688, 1718.6634521484375, 1324.38916015625, 394.3679504394531, 253.91941833496094, 632.5802612304688, 1052.2232666015625, 1136.7578125, 494.957275390625, 1352.5283203125, 1432.91552734375, 696.4359130859375, 493.4966735839844, 1301.7275390625, 640.1724853515625, 543.1934204101562, 616.7719116210938, 932.4652099609375, 902.8402099609375, 770.419189453125, 532.3690795898438, 590.3491821289062, 658.8809814453125, 744.4835205078125, 884.330078125, 1311.797119140625, 828.8775634765625, 927.9432373046875, 627.0469970703125, 518.2822875976562, 231.30674743652344, 211.22128295898438, 198.40798950195312, 119.79569244384766, 132.607421875, 94.18770599365234, 82.31303405761719, 71.35962677001953, 49.41757583618164, 44.8526611328125, 35.69971466064453, 33.8758659362793, 28.38744354248047, 33.87941360473633, 28.388212203979492, 24.730491638183594, 25.65241050720215, 18.334020614624023, 16.505765914916992, 17.42518424987793, 15.592449188232422, 15.59284782409668, 14.679204940795898, 11.023085594177246, 10.112071990966797, 9.1962308883667, 8.281540870666504, 8.284693717956543, 294.75213623046875, 79.69525909423828, 110.50093078613281, 74.82638549804688, 37.33415603637695, 295.95965576171875, 571.5355224609375, 359.13079833984375, 655.607421875, 783.8629150390625, 256.423583984375, 607.818115234375, 1301.7275390625, 223.10012817382812, 922.0346069335938, 1311.797119140625, 520.12255859375, 1432.91552734375, 824.6431274414062, 1352.5283203125, 615.626220703125, 1545.8746337890625, 744.4835205078125, 377.51385498046875, 640.1724853515625, 902.8402099609375, 868.791015625, 1052.2232666015625, 1718.6634521484375, 658.8809814453125, 1136.7578125, 566.2445068359375, 927.9432373046875, 59.7314567565918, 25.047828674316406, 127.18885803222656, 28.906702041625977, 78.05801391601562, 20.241748809814453, 20.23984146118164, 28.92015838623047, 218.8045196533203, 7.711437702178955, 87.78369140625, 9.640713691711426, 6.748335838317871, 6.748772621154785, 10.609444618225098, 5.786126613616943, 6.750843524932861, 7.714881896972656, 6.750576496124268, 5.78782320022583, 5.786124229431152, 5.786067962646484, 5.786351203918457, 5.787511348724365, 5.787395477294922, 236.28660583496094, 5.786917686462402, 126.41053771972656, 5.786648750305176, 5.788372039794922, 12.543644905090332, 171.93626403808594, 82.06027221679688, 21.224702835083008, 12.544265747070312, 10.615189552307129, 42.52677917480469, 230.8597869873047, 73.44963836669922, 355.4024353027344, 58.915184020996094, 26.086807250976562, 26.439489364624023, 593.9248046875, 100.7109603881836, 66.80533599853516, 44.60508728027344, 1324.38916015625, 87.79004669189453, 293.33538818359375, 359.13079833984375, 494.957275390625, 632.5802612304688, 87.83002471923828, 607.818115234375, 406.2437438964844, 478.441162109375, 1718.6634521484375, 638.384521484375, 1136.7578125, 932.4652099609375, 884.330078125, 538.1122436523438, 1352.5283203125, 1311.797119140625, 1432.91552734375, 696.4359130859375, 1545.8746337890625, 956.9385375976562, 828.8775634765625, 610.0997924804688, 640.1724853515625, 1301.7275390625, 578.33544921875, 902.8402099609375, 55.52113723754883, 27.271577835083008, 62.33895492553711, 11.688953399658203, 73.8946762084961, 9.738969802856445, 12.65896224975586, 6.814927577972412, 6.814749240875244, 9.732793807983398, 14.603008270263672, 5.840635299682617, 6.809645175933838, 7.787975788116455, 7.788443088531494, 14.595760345458984, 5.840812683105469, 5.841259956359863, 6.812954902648926, 11.677042961120605, 5.839743614196777, 8.756983757019043, 16.541776657104492, 6.812705993652344, 24.404987335205078, 10.702954292297363, 98.20924377441406, 13.624235153198242, 6.8128662109375, 27.230125427246094, 29.174999237060547, 32.12248611450195, 23.3607120513916, 54.44845199584961, 11.676229476928711, 31.168537139892578, 134.88897705078125, 41.059906005859375, 75.81626892089844, 49.83940505981445, 18.469026565551758, 13.534154891967773, 355.4024353027344, 95.05220794677734, 96.73614501953125, 50.51332092285156, 98.04529571533203, 74.80445861816406, 42.825416564941406, 62.10157012939453, 616.7719116210938, 109.68008422851562, 172.59103393554688, 532.3690795898438, 180.63058471679688, 226.19729614257812, 75.69384765625, 352.3623046875, 321.231201171875, 192.92698669433594, 305.114990234375, 380.9432678222656, 1324.38916015625, 293.776611328125, 932.4652099609375, 1136.7578125, 744.4835205078125, 828.8775634765625, 687.1106567382812, 1718.6634521484375, 1052.2232666015625, 623.3716430664062, 884.330078125, 1301.7275390625, 696.4359130859375, 956.9385375976562, 770.419189453125, 460.2528076171875, 492.4122009277344, 1545.8746337890625, 927.9432373046875, 690.4857788085938, 430.8206787109375, 610.0997924804688, 529.6978759765625, 578.33544921875, 1432.91552734375, 824.6431274414062, 1311.797119140625], \"loglift\": [30.0, 29.0, 28.0, 27.0, 26.0, 25.0, 24.0, 23.0, 22.0, 21.0, 20.0, 19.0, 18.0, 17.0, 16.0, 15.0, 14.0, 13.0, 12.0, 11.0, 10.0, 9.0, 8.0, 7.0, 6.0, 5.0, 4.0, 3.0, 2.0, 1.0, 1.260599970817566, 1.2598999738693237, 1.259600043296814, 1.2561999559402466, 1.2558000087738037, 1.2555999755859375, 1.2545000314712524, 1.253499984741211, 1.253100037574768, 1.2519999742507935, 1.250599980354309, 1.249500036239624, 1.2475999593734741, 1.2475999593734741, 1.2473000288009644, 1.2452000379562378, 1.2450000047683716, 1.24399995803833, 1.2431999444961548, 1.2425999641418457, 1.2414000034332275, 1.2395000457763672, 1.2383999824523926, 1.2378000020980835, 1.2352999448776245, 1.2345000505447388, 1.2279000282287598, 1.2231999635696411, 1.2201999425888062, 1.2197999954223633, 1.2070000171661377, 1.2071000337600708, 1.2109999656677246, 1.204300045967102, 1.1175999641418457, 1.0394999980926514, 1.0492000579833984, 1.054900050163269, 0.8561999797821045, 1.0461000204086304, 0.8830999732017517, 0.7089999914169312, 1.0033999681472778, 0.8330000042915344, 0.7458999752998352, 0.809499979019165, 0.9009000062942505, 0.4194999933242798, 0.5365999937057495, 0.32839998602867126, 0.7041000127792358, 0.6176999807357788, 0.4422000050544739, 0.2856000065803528, 0.44690001010894775, 0.3635999858379364, 0.036400001496076584, 0.47679999470710754, 0.5109999775886536, 0.10670000314712524, 0.28290000557899475, 0.43130001425743103, 0.016200000420212746, -0.06800000369548798, 1.3456000089645386, 1.3401999473571777, 1.329800009727478, 1.3251999616622925, 1.3245999813079834, 1.3222999572753906, 1.3207999467849731, 1.3198000192642212, 1.3170000314712524, 1.3166999816894531, 1.3164000511169434, 1.3143999576568604, 1.3121999502182007, 1.3108999729156494, 1.309999942779541, 1.3098000288009644, 1.3095999956130981, 1.3086999654769897, 1.308500051498413, 1.3077000379562378, 1.3071000576019287, 1.3020999431610107, 1.3005000352859497, 1.2999999523162842, 1.2999000549316406, 1.2991000413894653, 1.29830002784729, 1.2980999946594238, 1.2977999448776245, 1.297700047492981, 1.2929999828338623, 1.2929999828338623, 1.2949999570846558, 1.2961000204086304, 1.2922999858856201, 1.2589000463485718, 1.2489999532699585, 1.2383999824523926, 1.107800006866455, 1.1267999410629272, 1.2781000137329102, 1.2044999599456787, 1.176300048828125, 1.1265000104904175, 1.2172000408172607, 1.121399998664856, 0.9970999956130981, 0.9535999894142151, 0.9645000100135803, 0.810699999332428, 0.5213000178337097, 0.14810000360012054, 0.18870000541210175, 0.5267999768257141, 0.6955999732017517, 0.2757999897003174, 0.04340000078082085, 0.007199999876320362, 0.3822000026702881, -0.1005999967455864, -0.17720000445842743, 0.16019999980926514, 0.3368000090122223, -0.21199999749660492, 0.18520000576972961, 0.26330000162124634, 0.18559999763965607, -0.09239999949932098, -0.08869999647140503, -0.015799999237060547, 0.23739999532699585, 0.14190000295639038, 0.04529999941587448, -0.05130000039935112, -0.22859999537467957, -0.5508999824523926, -0.20239999890327454, -0.3273000121116638, 1.7461999654769897, 1.7454999685287476, 1.7430000305175781, 1.7424999475479126, 1.7412999868392944, 1.7408000230789185, 1.7395999431610107, 1.7395000457763672, 1.7379000186920166, 1.7331000566482544, 1.7301000356674194, 1.7281999588012695, 1.7252000570297241, 1.7228000164031982, 1.7209999561309814, 1.719599962234497, 1.719499945640564, 1.715999960899353, 1.7141000032424927, 1.7038999795913696, 1.6995999813079834, 1.6970000267028809, 1.6967999935150146, 1.6960999965667725, 1.6926000118255615, 1.6742000579833984, 1.6640000343322754, 1.656999945640564, 1.648800015449524, 1.642300009727478, 1.6088000535964966, 1.502500057220459, 1.3961999416351318, 1.437600016593933, 1.5118000507354736, 1.1979999542236328, 1.0841000080108643, 1.0159000158309937, 0.792900025844574, 0.6097999811172485, 0.9077000021934509, 0.6308000087738037, 0.3215000033378601, 0.9164999723434448, 0.3273000121116638, 0.14949999749660492, 0.5192000269889832, 0.06719999760389328, 0.303600013256073, 0.03200000151991844, 0.4077000021934509, -0.07090000063180923, 0.30149999260902405, 0.6348000168800354, 0.334199994802475, 0.13779999315738678, 0.1582999974489212, 0.018699999898672104, -0.32739999890327454, 0.314300000667572, -0.22619999945163727, 0.383899986743927, -0.10660000145435333, 1.8899999856948853, 1.881700038909912, 1.871899962425232, 1.8660000562667847, 1.8614000082015991, 1.8492000102996826, 1.845900058746338, 1.8437000513076782, 1.8424999713897705, 1.8008999824523926, 1.7972999811172485, 1.7968000173568726, 1.7891000509262085, 1.7857999801635742, 1.7747999429702759, 1.7630000114440918, 1.760599970817566, 1.7589000463485718, 1.7568000555038452, 1.756700038909912, 1.7561999559402466, 1.7515000104904175, 1.7452000379562378, 1.742799997329712, 1.7426999807357788, 1.7381000518798828, 1.7359999418258667, 1.7336000204086304, 1.7333999872207642, 1.7122999429702759, 1.7065000534057617, 1.5634000301361084, 1.5918999910354614, 1.6576999425888062, 1.6871999502182007, 1.7000999450683594, 1.582200050354004, 1.3623000383377075, 1.4793000221252441, 1.2466000318527222, 1.4529000520706177, 1.5435999631881714, 1.5361000299453735, 0.9574000239372253, 1.2682000398635864, 1.3071000576019287, 1.382099986076355, 0.5285999774932861, 1.205199956893921, 0.8913999795913696, 0.8267999887466431, 0.739300012588501, 0.6281999945640564, 1.1603000164031982, 0.5214999914169312, 0.6471999883651733, 0.5590999722480774, 0.0674000009894371, 0.43799999356269836, 0.18970000743865967, 0.2619999945163727, 0.25999999046325684, 0.45190000534057617, 0.008299999870359898, 0.0015999999595806003, -0.11969999969005585, 0.24140000343322754, -0.2071000039577484, 0.05779999867081642, 0.09830000251531601, 0.31290000677108765, 0.27410000562667847, -0.33250001072883606, 0.3345000147819519, -0.08079999685287476, 1.86899995803833, 1.8619999885559082, 1.8598999977111816, 1.8522000312805176, 1.8482999801635742, 1.8476999998092651, 1.8150999546051025, 1.8030999898910522, 1.8008999824523926, 1.799299955368042, 1.799299955368042, 1.7907999753952026, 1.788100004196167, 1.7777999639511108, 1.7754000425338745, 1.7746000289916992, 1.7704999446868896, 1.7683000564575195, 1.7635999917984009, 1.7568000555038452, 1.7556999921798706, 1.7549999952316284, 1.7527999877929688, 1.7520999908447266, 1.7497999668121338, 1.7309999465942383, 1.7303999662399292, 1.7299000024795532, 1.7235000133514404, 1.7235000133514404, 1.723099946975708, 1.71589994430542, 1.7094000577926636, 1.6455999612808228, 1.7231999635696411, 1.6409000158309937, 1.4909000396728516, 1.6058000326156616, 1.524899959564209, 1.538100004196167, 1.6517000198364258, 1.694000005722046, 1.1545000076293945, 1.3758000135421753, 1.3695000410079956, 1.4749000072479248, 1.2934000492095947, 1.3473999500274658, 1.4656000137329102, 1.3722000122070312, 0.8087000250816345, 1.21589994430542, 1.0827000141143799, 0.7303000092506409, 1.042199969291687, 0.9610000252723694, 1.2834999561309814, 0.7631999850273132, 0.7555999755859375, 0.9373999834060669, 0.7572000026702881, 0.6546000242233276, 0.15410000085830688, 0.7487000226974487, 0.24160000681877136, 0.1363999992609024, 0.3052000105381012, 0.2515999972820282, 0.33660000562667847, -0.09709999710321426, 0.11020000278949738, 0.3662000000476837, 0.16369999945163727, -0.0478999987244606, 0.265500009059906, 0.06909999996423721, 0.18140000104904175, 0.4659999907016754, 0.4056999981403351, -0.38119998574256897, -0.08969999849796295, 0.10050000250339508, 0.4560000002384186, 0.18019999563694, 0.28999999165534973, 0.2062000036239624, -0.576200008392334, -0.15119999647140503, -0.6121000051498413], \"logprob\": [30.0, 29.0, 28.0, 27.0, 26.0, 25.0, 24.0, 23.0, 22.0, 21.0, 20.0, 19.0, 18.0, 17.0, 16.0, 15.0, 14.0, 13.0, 12.0, 11.0, 10.0, 9.0, 8.0, 7.0, 6.0, 5.0, 4.0, 3.0, 2.0, 1.0, -5.586100101470947, -6.174600124359131, -6.220399856567383, -4.899199962615967, -5.644999980926514, -6.099299907684326, -6.884799957275391, -5.341400146484375, -6.810500144958496, -7.058599948883057, -7.073500156402588, -7.116000175476074, -7.320300102233887, -7.429800033569336, -6.796000003814697, -7.6946001052856445, -7.47160005569458, -7.5782999992370605, -7.396599769592285, -7.648499965667725, -7.698599815368652, -7.77869987487793, -6.5152997970581055, -7.925600051879883, -8.175100326538086, -8.136899948120117, -7.936500072479248, -8.188400268554688, -7.913400173187256, -8.57759952545166, -5.468699932098389, -6.401700019836426, -7.295100212097168, -7.035399913787842, -5.777200222015381, -4.848899841308594, -5.513000011444092, -5.6296000480651855, -4.9355998039245605, -6.379700183868408, -5.5183000564575195, -4.6031999588012695, -6.236000061035156, -5.431300163269043, -5.658400058746338, -5.903299808502197, -6.277299880981445, -5.05679988861084, -5.454599857330322, -5.059700012207031, -5.864999771118164, -5.6981000900268555, -5.38670015335083, -5.160099983215332, -5.493599891662598, -5.458899974822998, -5.1697998046875, -5.678100109100342, -5.721799850463867, -5.377299785614014, -5.566999912261963, -5.794099807739258, -5.680600166320801, -5.687600135803223, -6.561600208282471, -5.686600208282471, -6.332499980926514, -7.6975998878479, -7.750899791717529, -6.576600074768066, -7.3403000831604, -6.6479997634887695, -7.7058000564575195, -7.498600006103516, -8.002599716186523, -8.327400207519531, -7.9730000495910645, -6.630499839782715, -8.285400390625, -7.910699844360352, -8.044599533081055, -8.487299919128418, -6.995800018310547, -7.408299922943115, -8.083399772644043, -8.676199913024902, -6.154900074005127, -7.196700096130371, -7.095900058746338, -8.679200172424316, -8.297200202941895, -8.749099731445312, -6.678899765014648, -8.170100212097168, -7.218800067901611, -7.266300201416016, -7.4994001388549805, -7.924499988555908, -7.838600158691406, -6.80210018157959, -6.633500099182129, -6.747799873352051, -5.547500133514404, -6.104300022125244, -7.719299793243408, -7.004300117492676, -6.855800151824951, -6.490600109100342, -7.279699802398682, -6.882500171661377, -6.565000057220459, -6.436699867248535, -6.627299785614014, -6.347700119018555, -5.7204999923706055, -5.05810022354126, -5.27810001373291, -6.151400089263916, -6.422800064086914, -5.929900169372559, -5.653500080108643, -5.612299919128418, -6.06879997253418, -5.546299934387207, -5.565199851989746, -5.9492998123168945, -6.117199897766113, -5.696000099182129, -6.008500099182129, -6.094699859619141, -6.045400142669678, -5.910099983215332, -5.938700199127197, -6.0243000984191895, -6.1407999992370605, -6.132800102233887, -6.11959981918335, -6.094099998474121, -6.099299907684326, -6.027200222015381, -6.137800216674805, -6.149799823760986, -4.468299865722656, -4.65939998626709, -5.468800067901611, -5.560100078582764, -5.623899936676025, -6.128900051116943, -6.028500080108643, -6.370699882507324, -6.5071001052856445, -6.654699802398682, -7.025100231170654, -7.123899936676025, -7.355100154876709, -7.409999847412109, -7.588500022888184, -7.413099765777588, -7.590000152587891, -7.731500148773193, -7.696700096130371, -8.042799949645996, -8.152199745178223, -8.100500106811523, -8.211899757385254, -8.212599754333496, -8.27649974822998, -8.581299781799316, -8.67770004272461, -8.77970027923584, -8.892600059509277, -8.898799896240234, -5.360599994659424, -6.774799823760986, -6.554200172424316, -6.902699947357178, -7.523799896240234, -5.767199993133545, -5.223100185394287, -5.755899906158447, -5.376999855041504, -5.381400108337402, -6.200900077819824, -5.614799976348877, -5.162499904632568, -6.331399917602539, -5.5015997886657715, -5.326900005340576, -5.882199764251709, -5.320799827575684, -5.63700008392334, -5.413700103759766, -5.825099945068359, -5.382999897003174, -5.741300106048584, -6.087100028991699, -5.859499931335449, -5.712100028991699, -5.730100154876709, -5.678199768066406, -5.533599853515625, -5.850599765777588, -5.845799922943115, -5.932499885559082, -5.929100036621094, -6.6757001876831055, -7.552999973297119, -5.937900066375732, -7.4253997802734375, -6.436600208282471, -7.798600196838379, -7.8018999099731445, -7.447199821472168, -5.424799919128418, -8.81190013885498, -6.383299827575684, -8.592700004577637, -8.957099914550781, -8.96030044555664, -8.518899917602539, -9.13700008392334, -8.985199928283691, -8.853500366210938, -8.989100456237793, -9.142999649047852, -9.143799781799316, -9.148500442504883, -9.154800415039062, -9.156999588012695, -9.157099723815918, -5.452300071716309, -9.163900375366211, -6.082399845123291, -9.166600227355957, -9.187299728393555, -8.4197998046875, -5.945000171661377, -6.656099796295166, -7.942599773406982, -8.43910026550293, -8.593099594116211, -7.323200225830078, -5.851399898529053, -6.8796000480651855, -5.535699844360352, -7.126500129699707, -7.850399971008301, -7.8445000648498535, -5.311299800872803, -6.775100231170654, -7.146599769592285, -7.475599765777588, -4.9380998611450195, -6.975299835205078, -6.082699775695801, -5.945000171661377, -5.711699962615967, -5.577499866485596, -7.019800186157227, -5.724100112915039, -6.001299858093262, -5.92579984664917, -5.138800144195557, -5.758600234985352, -5.429900169372559, -5.555600166320801, -5.610599994659424, -5.915500164031982, -5.4375, -5.474699974060059, -5.507699966430664, -5.868100166320801, -5.5192999839782715, -5.734000205993652, -5.837100028991699, -5.928999900817871, -5.9197001457214355, -5.816500186920166, -5.9608001708984375, -5.930699825286865, -6.769700050354004, -7.487599849700928, -6.663000106811523, -8.34469985961914, -6.5046000480651855, -8.531700134277344, -8.302000045776367, -8.933300018310547, -8.935500144958496, -8.580599784851074, -8.175000190734863, -9.099800109863281, -8.94909954071045, -8.82509994506836, -8.827400207519531, -8.200200080871582, -9.120100021362305, -9.122200012207031, -8.973099708557129, -8.440999984741211, -9.135100364685059, -8.730600357055664, -8.096799850463867, -8.984600067138672, -7.710899829864502, -8.553899765014648, -6.337900161743164, -8.313799858093262, -9.013099670410156, -7.627600193023682, -7.559100151062012, -7.46999979019165, -7.795000076293945, -7.012599945068359, -8.474800109863281, -7.575200080871582, -6.2600998878479, -7.334700107574463, -6.802199840545654, -7.208600044250488, -8.087699890136719, -8.356300354003906, -5.627799987792969, -6.725200176239014, -6.714000225067139, -7.258299827575684, -6.776700019836426, -6.993199825286865, -7.432700157165527, -7.154600143432617, -5.422299861907959, -6.742000102996826, -6.421800136566162, -5.647799968719482, -6.416900157928467, -6.273099899291992, -7.045300006866455, -6.027599811553955, -6.127699851989746, -6.4558000564575195, -6.177599906921387, -6.058199882507324, -5.312600135803223, -6.223999977111816, -5.576099872589111, -5.483099937438965, -5.737599849700928, -5.683800220489502, -5.786399841308594, -5.303299903869629, -5.586599826812744, -5.8541998863220215, -5.706900119781494, -5.531899929046631, -5.843999862670898, -5.722700119018555, -5.827099800109863, -6.057700157165527, -6.0503997802734375, -5.693299770355225, -5.912199974060059, -6.017600059509277, -6.133800029754639, -6.061699867248535, -6.093100070953369, -6.089099884033203, -5.964200019836426, -6.091700077056885, -6.088399887084961]}, \"token.table\": {\"Topic\": [4, 1, 2, 3, 4, 5, 1, 2, 3, 4, 5, 3, 2, 4, 5, 1, 2, 3, 4, 5, 3, 2, 4, 5, 1, 3, 5, 4, 5, 2, 3, 4, 5, 1, 2, 5, 3, 4, 2, 4, 5, 2, 5, 4, 1, 2, 3, 5, 1, 2, 3, 4, 5, 4, 2, 4, 5, 1, 2, 3, 4, 5, 4, 1, 1, 3, 5, 1, 2, 4, 5, 1, 1, 2, 4, 5, 2, 5, 5, 1, 2, 3, 4, 5, 1, 2, 4, 5, 1, 2, 3, 5, 2, 5, 2, 5, 2, 4, 5, 1, 2, 3, 4, 5, 2, 5, 1, 3, 5, 3, 1, 2, 4, 5, 1, 3, 1, 2, 5, 1, 2, 3, 4, 5, 3, 1, 2, 3, 4, 5, 4, 1, 2, 3, 4, 5, 4, 2, 4, 5, 1, 2, 3, 4, 5, 2, 4, 5, 1, 2, 3, 4, 5, 1, 2, 3, 5, 3, 1, 2, 3, 4, 5, 1, 2, 3, 4, 5, 3, 2, 4, 1, 2, 5, 1, 2, 3, 4, 5, 3, 2, 4, 5, 2, 4, 5, 1, 2, 4, 5, 2, 1, 2, 3, 4, 5, 1, 2, 3, 4, 5, 5, 1, 2, 3, 4, 5, 5, 1, 2, 3, 4, 5, 1, 2, 3, 4, 5, 2, 5, 1, 3, 5, 2, 4, 5, 1, 2, 3, 4, 5, 5, 1, 2, 3, 5, 1, 2, 3, 4, 5, 1, 2, 4, 2, 4, 5, 2, 5, 2, 4, 5, 3, 1, 2, 3, 4, 5, 1, 2, 3, 4, 5, 1, 2, 4, 5, 1, 2, 3, 4, 5, 1, 2, 3, 4, 5, 3, 1, 2, 3, 4, 5, 1, 2, 3, 4, 5, 1, 2, 3, 4, 5, 1, 2, 3, 4, 5, 1, 3, 1, 2, 4, 5, 1, 1, 1, 2, 4, 5, 1, 2, 3, 4, 5, 1, 2, 3, 4, 5, 1, 2, 3, 4, 5, 2, 4, 5, 1, 2, 4, 5, 1, 2, 5, 1, 2, 3, 4, 5, 1, 2, 4, 5, 1, 2, 3, 4, 5, 1, 2, 4, 5, 1, 2, 3, 4, 5, 2, 4, 5, 1, 2, 3, 4, 5, 1, 2, 3, 4, 5, 1, 2, 3, 4, 5, 3, 1, 2, 3, 4, 5, 1, 2, 3, 4, 5, 1, 2, 3, 4, 5, 1, 2, 3, 4, 5, 2, 4, 5, 2, 5, 2, 5, 4, 5, 1, 1, 2, 3, 4, 5, 2, 4, 5, 1, 2, 3, 4, 5, 1, 2, 3, 4, 5, 2, 5, 1, 1, 2, 4, 5, 2, 5, 4, 2, 4, 4, 1, 2, 3, 4, 5, 2, 5, 1, 2, 3, 1, 2, 3, 4, 5, 4, 1, 2, 1, 2, 3, 4, 5, 1, 2, 3, 4, 5, 1, 2, 3, 4, 5, 1, 2, 3, 4, 5, 1, 2, 3, 4, 5, 4, 5, 2, 5, 1, 2, 3, 4, 5, 2, 3, 4, 5, 1, 2, 3, 4, 5, 1, 2, 3, 4, 5, 1, 2, 3, 4, 5, 1, 2, 3, 4, 5, 1, 2, 5, 2, 4, 5, 1, 2, 3, 4, 5, 1, 2, 3, 1, 2, 3, 4, 5, 1, 2, 3, 4, 5, 1, 2, 4, 1, 2, 4, 5, 5, 1, 2, 1, 2, 3, 4, 5, 1, 2, 3, 5, 4, 1, 2, 3, 4, 5, 2, 3, 4, 5, 3, 1, 2, 3, 4, 5, 1, 2, 3, 4, 5, 1, 5, 3, 1, 2, 3, 5, 2, 4, 2, 3, 4, 5, 1, 2, 3, 3, 2, 4, 5, 1, 2, 5, 1, 2, 3, 4, 5, 1, 2, 3, 4, 5, 4, 5, 5, 2, 5, 2, 3, 4, 5, 2, 4, 5, 1, 2, 3, 4, 5, 2, 4, 5, 2, 1, 2, 1, 2, 3, 4, 5, 1, 2, 3, 4, 5, 4, 3, 1, 2, 4, 5, 1, 2, 1, 2, 3, 4, 5, 1, 2, 3, 4, 5, 2, 2, 3, 3, 1, 2, 3, 4, 5, 2, 4, 5, 2, 3, 4, 5, 2, 4, 5, 2, 4, 5, 1, 2, 4, 1, 3, 1, 2, 5, 4, 1, 2, 4, 5, 4, 2, 4, 5, 2, 3, 4, 5, 2, 5, 2, 4, 5, 1, 2, 3, 4, 5, 1, 2, 4, 5, 2, 4, 5, 1, 2, 3, 4, 5, 1, 2, 3, 4, 5, 1, 2, 3, 4, 5, 1, 2, 3, 4, 5, 1, 1, 2, 3, 4, 5, 1, 2, 3, 4, 5, 2, 5, 1, 2, 3, 4, 5, 5, 1, 2, 3, 4, 5, 1, 2, 3, 4, 5, 1, 2, 3, 4, 5, 1, 2, 3, 4, 5, 5, 2, 4, 5, 3, 1, 2, 3, 4, 5, 2, 4, 5, 1, 2, 3, 4, 5, 1, 2, 3, 4, 5, 3, 3, 4, 4, 5, 1, 2, 3, 4, 5, 4, 5, 1, 2, 3, 4, 5, 3, 2, 2, 5, 4, 1, 2, 3, 4, 5, 2, 3, 4, 5, 1, 2, 3, 4, 5, 1, 2, 3, 4, 5, 2, 4, 5, 1, 2, 3, 4, 5, 1, 2, 3, 4, 5, 1, 2, 3, 4, 5, 2, 5, 1, 2, 3, 4, 5, 2, 5, 1, 3, 5, 5, 2, 4, 2, 5, 2, 5, 2, 4, 5, 2, 4, 5, 1, 2, 3, 4, 5, 1, 2, 3, 4, 5, 1, 2, 3, 4, 5, 1, 2, 3, 5, 1, 2, 3, 5, 1, 2, 3, 4, 5, 2, 3, 5, 1, 2, 3, 4, 5, 1, 3, 5, 1, 2, 3, 4, 5, 4, 2, 1, 2, 3, 4, 5, 2, 2], \"Freq\": [0.9581668972969055, 0.007413504179567099, 0.014827008359134197, 0.007413504179567099, 0.3336077034473419, 0.6375613808631897, 0.2924847900867462, 0.14429250359535217, 0.42897769808769226, 0.06629655510187149, 0.06629655510187149, 0.9182112216949463, 0.09425564110279083, 0.8483007550239563, 0.8806751370429993, 0.7979176640510559, 0.09639274328947067, 0.021420609205961227, 0.06426182389259338, 0.016065455973148346, 0.9840483069419861, 0.14976248145103455, 0.6398942470550537, 0.19060678780078888, 0.9389051198959351, 0.03858514130115509, 0.019292570650577545, 0.102745421230793, 0.821963369846344, 0.6935051083564758, 0.0061372132040560246, 0.09819541126489639, 0.20252804458141327, 0.9903078675270081, 0.006001865956932306, 0.003000932978466153, 0.9693582057952881, 0.9077425599098206, 0.015724647790193558, 0.9513412117958069, 0.031449295580387115, 0.9260103702545166, 0.042091380804777145, 0.8887777924537659, 0.9852731823921204, 0.009504242800176144, 0.003168080933392048, 0.003168080933392048, 0.027680804952979088, 0.33216965198516846, 0.01107232179492712, 0.2214464396238327, 0.4096759259700775, 0.8638007044792175, 0.07339861243963242, 0.07339861243963242, 0.8073847889900208, 0.022781625390052795, 0.28477030992507935, 0.05695406347513199, 0.4898049533367157, 0.13668975234031677, 0.8639292120933533, 0.9737908244132996, 0.007541056256741285, 0.9878783226013184, 0.007541056256741285, 0.004232148639857769, 0.1058037132024765, 0.8337332606315613, 0.05501792952418327, 0.9741988182067871, 0.01801115833222866, 0.01801115833222866, 0.03602231666445732, 0.936580240726471, 0.1867850422859192, 0.8094018697738647, 0.8560712337493896, 0.2896185517311096, 0.22703766822814941, 0.14408159255981445, 0.1382601112127304, 0.2008410096168518, 0.9735539555549622, 0.1288212239742279, 0.305950403213501, 0.5635928511619568, 0.9663851857185364, 0.014867465011775494, 0.007433732505887747, 0.007433732505887747, 0.953504741191864, 0.03891855850815773, 0.0684790387749672, 0.8902275562286377, 0.08564408868551254, 0.08564408868551254, 0.7707967758178711, 0.13295361399650574, 0.19772589206695557, 0.17386241257190704, 0.3579520285129547, 0.1397717446088791, 0.1467811018228531, 0.7339054942131042, 0.7644973397254944, 0.22668235003948212, 0.004444751888513565, 0.9745672941207886, 0.03208363428711891, 0.06416726857423782, 0.16041818261146545, 0.7379236221313477, 0.94646155834198, 0.047323077917099, 0.9886282682418823, 0.005402340088039637, 0.005402340088039637, 0.3446415662765503, 0.01689419522881508, 0.5744026303291321, 0.060819100588560104, 0.003378838999196887, 0.9619795083999634, 0.29799336194992065, 0.2099224328994751, 0.1471869945526123, 0.16166441142559052, 0.18458697199821472, 0.864136278629303, 0.02509559504687786, 0.15057358145713806, 0.7779634594917297, 0.01254779752343893, 0.037643395364284515, 0.8640579581260681, 0.8995469808578491, 0.010107269510626793, 0.08085815608501434, 0.9822214841842651, 0.011665337719023228, 0.0046661351807415485, 0.0023330675903707743, 0.0023330675903707743, 0.1150006577372551, 0.6900039315223694, 0.19166776537895203, 0.03536735475063324, 0.33156895637512207, 0.01768367737531662, 0.24315056204795837, 0.3757781386375427, 0.0043232636526227, 0.0043232636526227, 0.9900273084640503, 0.0043232636526227, 0.9741448163986206, 0.28511059284210205, 0.2680039703845978, 0.17581820487976074, 0.11024276167154312, 0.1606123000383377, 0.6453548669815063, 0.0402299165725708, 0.22796951234340668, 0.048611149191856384, 0.038553670048713684, 0.9511247277259827, 0.03459405526518822, 0.9340394735336304, 0.9362794160842896, 0.9428483843803406, 0.029464012011885643, 0.009818741120398045, 0.8345929384231567, 0.009818741120398045, 0.02945622242987156, 0.10800614953041077, 0.970461905002594, 0.19796758890151978, 0.1781708300113678, 0.6334962844848633, 0.9669544696807861, 0.021487876772880554, 0.021487876772880554, 0.9738462567329407, 0.18845964968204498, 0.7538385987281799, 0.047114912420511246, 0.9376967549324036, 0.13900130987167358, 0.3249625265598297, 0.07701423764228821, 0.16154205799102783, 0.29866498708724976, 0.008663266897201538, 0.3638572096824646, 0.012994900345802307, 0.5717756152153015, 0.04331633448600769, 0.880443274974823, 0.0033926810137927532, 0.05428289622068405, 0.8651337027549744, 0.013570724055171013, 0.06106825917959213, 0.8811031579971313, 0.0031895535066723824, 0.0031895535066723824, 0.9919511675834656, 0.0015947767533361912, 0.0015947767533361912, 0.9846534132957458, 0.006013150792568922, 0.003006575396284461, 0.0015032876981422305, 0.006013150792568922, 0.9549765586853027, 0.038199059665203094, 0.9384621381759644, 0.058179594576358795, 0.0025295475497841835, 0.8816470503807068, 0.08441301435232162, 0.028137672692537308, 0.793056070804596, 0.001151024829596281, 0.20258036255836487, 0.001151024829596281, 0.002302049659192562, 0.8562019467353821, 0.2805406153202057, 0.009049697779119015, 0.696826696395874, 0.009049697779119015, 0.008815583772957325, 0.7934024930000305, 0.0132233751937747, 0.0528935007750988, 0.13223375380039215, 0.03457795828580856, 0.03457795828580856, 0.9336048364639282, 0.9576231837272644, 0.00920791458338499, 0.027623744681477547, 0.9520783424377441, 0.026446620002388954, 0.855388343334198, 0.035152945667505264, 0.10545884072780609, 0.9537301063537598, 0.10142812132835388, 0.43360522389411926, 0.05071406066417694, 0.2535702884197235, 0.15974928438663483, 0.14069360494613647, 0.3382969796657562, 0.10433458536863327, 0.2750639021396637, 0.14227443933486938, 0.009929405525326729, 0.029788218438625336, 0.5163291096687317, 0.44682326912879944, 0.1030391976237297, 0.375789999961853, 0.060611292719841, 0.3070972263813019, 0.15354861319065094, 0.6300150752067566, 0.005250125657767057, 0.03412581607699394, 0.05250125750899315, 0.2756316065788269, 0.9809897541999817, 0.2433445304632187, 0.23899908363819122, 0.17816294729709625, 0.11080866307020187, 0.22813549637794495, 0.5919818878173828, 0.07713119685649872, 0.15233410894870758, 0.1465492695569992, 0.032780759036540985, 0.3655495047569275, 0.16158346831798553, 0.3258158564567566, 0.08741401135921478, 0.05827600508928299, 0.23980051279067993, 0.2686372995376587, 0.2367650717496872, 0.11079391092061996, 0.14418385922908783, 0.008347545750439167, 0.9850103855133057, 0.02335061877965927, 0.21015557646751404, 0.11675309389829636, 0.6304666996002197, 0.9739953279495239, 0.9754201769828796, 0.973483681678772, 0.9880703091621399, 0.008667283691465855, 0.008667283691465855, 0.6898244619369507, 0.016723018139600754, 0.20903772115707397, 0.03762678802013397, 0.0459882989525795, 0.012644893489778042, 0.6701793670654297, 0.006322446744889021, 0.09483670443296432, 0.21496319770812988, 0.566129744052887, 0.11140706390142441, 0.22054050862789154, 0.06366118043661118, 0.03637781739234924, 0.09343215078115463, 0.09343215078115463, 0.8408893346786499, 0.0974186360836029, 0.04870931804180145, 0.12177329510450363, 0.7062851190567017, 0.9830136299133301, 0.010134161449968815, 0.010134161449968815, 0.12038666754961014, 0.08025778084993362, 0.04012889042496681, 0.08025778084993362, 0.6621266603469849, 0.02351459488272667, 0.02351459488272667, 0.7054378390312195, 0.2351459562778473, 0.3733748197555542, 0.23215779662132263, 0.17892415821552277, 0.1478712111711502, 0.06876011192798615, 0.0045702895149588585, 0.0411326065659523, 0.9277687668800354, 0.02742173708975315, 0.43897777795791626, 0.13702897727489471, 0.23404063284397125, 0.06669551879167557, 0.12368986755609512, 0.9625851511955261, 0.8478416800498962, 0.0942046269774437, 0.2981286346912384, 0.29474082589149475, 0.12026780098676682, 0.1422886699438095, 0.14398258924484253, 0.1100868284702301, 0.1738213151693344, 0.011588087305426598, 0.2839081287384033, 0.4229651987552643, 0.10817902535200119, 0.4310770332813263, 0.08687103539705276, 0.19996728003025055, 0.17210298776626587, 0.9620041251182556, 0.6786862015724182, 0.005767871160060167, 0.2903161942958832, 0.02307148464024067, 0.003845247672870755, 0.1673871874809265, 0.2732349634170532, 0.10092463344335556, 0.28061971068382263, 0.17969506978988647, 0.3272526264190674, 0.18929317593574524, 0.1347510814666748, 0.14277197420597076, 0.20693914592266083, 0.11715592443943024, 0.30929163098335266, 0.24212224781513214, 0.19213572144508362, 0.14058710634708405, 0.16243411600589752, 0.05414470657706261, 0.7580258846282959, 0.06416533887386322, 0.9143560528755188, 0.9577423930168152, 0.018418122082948685, 0.11419457197189331, 0.7993620038032532, 0.9736375212669373, 0.15549923479557037, 0.21769893169403076, 0.07256631553173065, 0.1917824000120163, 0.3680148720741272, 0.12090599536895752, 0.06045299768447876, 0.8463419675827026, 0.22747282683849335, 0.28318047523498535, 0.13462677597999573, 0.12766332924365997, 0.22747282683849335, 0.23774871230125427, 0.24312156438827515, 0.2337190806865692, 0.08999527245759964, 0.19476589560508728, 0.9701572060585022, 0.02035294845700264, 0.9743459820747375, 0.011391637846827507, 0.022783275693655014, 0.8885477185249329, 0.0797414630651474, 0.12839536368846893, 0.8987675905227661, 0.8890505433082581, 0.9491040110588074, 0.041265394538640976, 0.8641359210014343, 0.6604394912719727, 0.021944982931017876, 0.008359993807971478, 0.15570488572120667, 0.15361487865447998, 0.9464899897575378, 0.04238015040755272, 0.004734371323138475, 0.004734371323138475, 0.9894835948944092, 0.0855519101023674, 0.2418486624956131, 0.32575535774230957, 0.24678435921669006, 0.10035897046327591, 0.8640178442001343, 0.9859233498573303, 0.012972676195204258, 0.23012061417102814, 0.3332146406173706, 0.14911815524101257, 0.13991333544254303, 0.14727719128131866, 0.8063607215881348, 0.0025517744943499565, 0.18883131444454193, 0.0025517744943499565, 0.0025517744943499565, 0.38941583037376404, 0.21494637429714203, 0.18493762612342834, 0.1298052817583084, 0.08095382899045944, 0.05728039890527725, 0.782832145690918, 0.047733668237924576, 0.05728039890527725, 0.047733668237924576, 0.43210870027542114, 0.11770125478506088, 0.23056547343730927, 0.13060002028942108, 0.09029137343168259, 0.9073373079299927, 0.880707323551178, 0.036668211221694946, 0.916705310344696, 0.2114412784576416, 0.25297439098358154, 0.2208806276321411, 0.12271145731210709, 0.19256259500980377, 0.8596003651618958, 0.015629097819328308, 0.015629097819328308, 0.09377457946538925, 0.19884653389453888, 0.2818433344364166, 0.13832803070545197, 0.20403383672237396, 0.17636823654174805, 0.08849122375249863, 0.3179129362106323, 0.04588434100151062, 0.24253150820732117, 0.30480310320854187, 0.19707198441028595, 0.30957669019699097, 0.07701663672924042, 0.24841640889644623, 0.16762444376945496, 0.29092374444007874, 0.2973240613937378, 0.1245153620839119, 0.15709881484508514, 0.13033384084701538, 0.9731981754302979, 0.009930593892931938, 0.009930593892931938, 0.07972164452075958, 0.7972164154052734, 0.07972164452075958, 0.24665799736976624, 0.2337888777256012, 0.14692236483097076, 0.19089184701442719, 0.18231242895126343, 0.9837427735328674, 0.010930475778877735, 0.8452533483505249, 0.250632643699646, 0.25846490263938904, 0.13784795999526978, 0.22713583707809448, 0.125316321849823, 0.2196899950504303, 0.3015352785587311, 0.1048194095492363, 0.18666470050811768, 0.18666470050811768, 0.2647554874420166, 0.037822213023900986, 0.6807998418807983, 0.018365995958447456, 0.07346398383378983, 0.16529396176338196, 0.7530058026313782, 0.9410594701766968, 0.9731073975563049, 0.013705737888813019, 0.002784500829875469, 0.1698545515537262, 0.4789341390132904, 0.3341400921344757, 0.013922504149377346, 0.9894121885299683, 0.005653783679008484, 0.005653783679008484, 0.005653783679008484, 0.9386540651321411, 0.004956984426826239, 0.7757681012153625, 0.0024784922134131193, 0.07683326303958893, 0.13879556953907013, 0.8962317705154419, 0.008455016650259495, 0.05073009803891182, 0.05073009803891182, 0.9071869850158691, 0.17962637543678284, 0.08981318771839142, 0.13471977412700653, 0.5388790965080261, 0.04490659385919571, 0.37215888500213623, 0.23481452465057373, 0.19826321303844452, 0.13512912392616272, 0.05981124937534332, 0.944511890411377, 0.030468124896287918, 0.9740428328514099, 0.001929450430907309, 0.003858900861814618, 0.9917375445365906, 0.001929450430907309, 0.016741598024964333, 0.9710126519203186, 0.9506286978721619, 0.00896819494664669, 0.00896819494664669, 0.03587277978658676, 0.9732764363288879, 0.016780627891421318, 0.9873899817466736, 0.9272379875183105, 0.03427592292428017, 0.13710369169712067, 0.7883462309837341, 0.04097523167729378, 0.08195046335458755, 0.8195046186447144, 0.2437109798192978, 0.21722064912319183, 0.2543070912361145, 0.1430477499961853, 0.1430477499961853, 0.5699039101600647, 0.05175063759088516, 0.16107386350631714, 0.11902646720409393, 0.09832621365785599, 0.9387425184249878, 0.04940750077366829, 0.8559796810150146, 0.928129255771637, 0.05156273767352104, 0.9810675382614136, 0.003593653906136751, 0.003593653906136751, 0.014374615624547005, 0.21103650331497192, 0.11870802938938141, 0.6594890356063843, 0.32031363248825073, 0.11439772695302963, 0.3828510642051697, 0.1418531835079193, 0.04118318110704422, 0.07971769571304321, 0.7971770167350769, 0.07971769571304321, 0.9756365418434143, 0.9730446934700012, 0.013149252161383629, 0.18381313979625702, 0.22806444764137268, 0.1259460300207138, 0.1599855124950409, 0.30295127630233765, 0.1037660762667656, 0.3080555200576782, 0.07458186894655228, 0.19131870567798615, 0.3226476311683655, 0.8641024231910706, 0.9713143110275269, 0.06725690513849258, 0.20177070796489716, 0.5828931331634521, 0.13451381027698517, 0.9454067349433899, 0.029543960466980934, 0.5206338763237, 0.12706996500492096, 0.13942398130893707, 0.12706996500492096, 0.08647816628217697, 0.1839306652545929, 0.27171576023101807, 0.11286654323339462, 0.2570849061012268, 0.17557017505168915, 0.9331122040748596, 0.014013526029884815, 0.9809468388557434, 0.8900253176689148, 0.22101213037967682, 0.058161087334156036, 0.011632217094302177, 0.69793301820755, 0.005816108547151089, 0.9316464066505432, 0.033273085951805115, 0.033273085951805115, 0.9432473182678223, 0.005516066215932369, 0.033096395432949066, 0.022064264863729477, 0.18279246985912323, 0.7189837098121643, 0.09748931974172592, 0.9383195042610168, 0.009290291927754879, 0.037161167711019516, 0.9736053347587585, 0.018029728904366493, 0.8891081213951111, 0.9305753111839294, 0.06042696535587311, 0.974027693271637, 0.9345728754997253, 0.03222665190696716, 0.8888129591941833, 0.012810984626412392, 0.038432952016592026, 0.9480128288269043, 0.012810984626412392, 0.8641446828842163, 0.9375950694084167, 0.015626585111021996, 0.03125317022204399, 0.791094958782196, 0.00648438511416316, 0.05187508091330528, 0.1491408497095108, 0.9346026182174683, 0.03222767636179924, 0.9360227584838867, 0.015864793211221695, 0.047594379633665085, 0.04554251208901405, 0.2390981912612915, 0.07969939708709717, 0.46681076288223267, 0.1821700483560562, 0.007910733111202717, 0.03164293244481087, 0.8306269645690918, 0.12657172977924347, 0.9539463520050049, 0.012891166843473911, 0.03867350146174431, 0.26518356800079346, 0.05099683627486229, 0.1121930405497551, 0.04079746827483177, 0.5201677680015564, 0.14700697362422943, 0.013364269398152828, 0.7216705679893494, 0.09354988485574722, 0.026728538796305656, 0.0028137117624282837, 0.028137117624282837, 0.0028137117624282837, 0.5092818140983582, 0.45582130551338196, 0.2940078675746918, 0.20354390144348145, 0.14361153542995453, 0.18997430801391602, 0.16848912835121155, 0.9734947085380554, 0.14189940690994263, 0.32069265842437744, 0.0794636681675911, 0.14757537841796875, 0.30650269985198975, 0.24532099068164825, 0.2518109679222107, 0.1752292811870575, 0.15575936436653137, 0.17263329029083252, 0.17122766375541687, 0.8133313655853271, 0.03278980776667595, 0.5779203772544861, 0.04508598893880844, 0.2131337672472, 0.1311592310667038, 0.8804202079772949, 0.40304189920425415, 0.18535616993904114, 0.1551818996667862, 0.12500764429569244, 0.13147355616092682, 0.2542409300804138, 0.023572007194161415, 0.19531092047691345, 0.38220325112342834, 0.14479947090148926, 0.4111730456352234, 0.04199213907122612, 0.5109043717384338, 0.026245087385177612, 0.008748362772166729, 0.010520534589886665, 0.23145174980163574, 0.03156160190701485, 0.16832855343818665, 0.568108856678009, 0.9241223931312561, 0.32249751687049866, 0.6280214786529541, 0.03394710645079613, 0.8449316620826721, 0.4359923005104065, 0.1355697512626648, 0.23968730866909027, 0.08676464110612869, 0.10086389631032944, 0.0367240309715271, 0.1468961238861084, 0.8079286813735962, 0.3137604594230652, 0.10757501423358917, 0.4303000569343567, 0.05826980248093605, 0.08516355603933334, 0.05168137326836586, 0.6666896939277649, 0.005168137140572071, 0.09302646666765213, 0.18605293333530426, 0.9803999662399292, 0.9510989785194397, 0.8639464974403381, 0.06851304322481155, 0.822156548500061, 0.06848649680614471, 0.33931946754455566, 0.04669534042477608, 0.2397027462720871, 0.3050762116909027, 0.0856381207704544, 0.8563811779022217, 0.4678163230419159, 0.10883226990699768, 0.25989794731140137, 0.08609119802713394, 0.07796938717365265, 0.8699216246604919, 0.9625706672668457, 0.9577204585075378, 0.03683540225028992, 0.9335408210754395, 0.25459372997283936, 0.2267185002565384, 0.19326822459697723, 0.23043519258499146, 0.09477576613426208, 0.04059832543134689, 0.027065549045801163, 0.013532774522900581, 0.9066959023475647, 0.4796757102012634, 0.07909546047449112, 0.31765758991241455, 0.07526826113462448, 0.047202132642269135, 0.42689529061317444, 0.14788872003555298, 0.20048831403255463, 0.14712640643119812, 0.07775592803955078, 0.010182340629398823, 0.1730998009443283, 0.8145872950553894, 0.26214906573295593, 0.25863027572631836, 0.13811209797859192, 0.17681866884231567, 0.16450293362140656, 0.3118932247161865, 0.20741668343544006, 0.23891328275203705, 0.10524475574493408, 0.13674136996269226, 0.19250382483005524, 0.35866501927375793, 0.11347594112157822, 0.1661611944437027, 0.16818755865097046, 0.9626424312591553, 0.03438008576631546, 0.036469701677560806, 0.3738144338130951, 0.04558712616562843, 0.05470455437898636, 0.483223557472229, 0.9520452618598938, 0.026445701718330383, 0.16071073710918427, 0.7767686247825623, 0.026785124093294144, 0.8560452461242676, 0.9377166032791138, 0.04688582941889763, 0.12840306758880615, 0.8988214731216431, 0.07899541407823563, 0.8689495921134949, 0.9625548124313354, 0.008594239130616188, 0.017188478261232376, 0.22458893060684204, 0.2510111629962921, 0.5152333974838257, 0.34902963042259216, 0.2259279042482376, 0.14337731897830963, 0.12310174107551575, 0.15930813550949097, 0.21932843327522278, 0.29243791103363037, 0.11372585594654083, 0.15840387344360352, 0.21526680886745453, 0.8015664219856262, 0.002257933607324958, 0.19418229162693024, 0.002257933607324958, 0.002257933607324958, 0.9827369451522827, 0.004988512489944696, 0.004988512489944696, 0.004988512489944696, 0.005040119402110577, 0.005040119402110577, 0.9878634214401245, 0.005040119402110577, 0.020674794912338257, 0.1447235643863678, 0.08269917964935303, 0.1860731542110443, 0.5685568451881409, 0.07388713955879211, 0.14777427911758423, 0.8127585649490356, 0.02673637494444847, 0.2539955675601959, 0.02673637494444847, 0.14705005288124084, 0.5480956435203552, 0.8565434813499451, 0.1385585069656372, 0.003149057039991021, 0.14177726209163666, 0.5159116983413696, 0.0787651464343071, 0.11814771592617035, 0.14571551978588104, 0.8638826608657837, 0.9576202034950256, 0.45227938890457153, 0.15927447378635406, 0.19383402168750763, 0.1352330446243286, 0.06010357290506363, 0.9740317463874817, 0.9601884484291077], \"Term\": [\"abbot\", \"adele\", \"adele\", \"adele\", \"adele\", \"adele\", \"affection\", \"affection\", \"affection\", \"affection\", \"affection\", \"allenham\", \"amy\", \"amy\", \"astir\", \"aunt\", \"aunt\", \"aunt\", \"aunt\", \"aunt\", \"barton\", \"bassompierre\", \"bassompierre\", \"bassompierre\", \"bates\", \"bates\", \"bates\", \"battlements\", \"battlements\", \"beck\", \"beck\", \"beck\", \"beck\", \"bennet\", \"bennet\", \"bennet\", \"berkeley\", \"bertha\", \"bessie\", \"bessie\", \"bessie\", \"bien\", \"bien\", \"big\", \"bingley\", \"bingley\", \"bingley\", \"bingley\", \"black\", \"black\", \"black\", \"black\", \"black\", \"bled\", \"blew\", \"blew\", \"blew\", \"blood\", \"blood\", \"blood\", \"blood\", \"blood\", \"bondage\", \"bourgh\", \"brandon\", \"brandon\", \"brandon\", \"bretton\", \"bretton\", \"bretton\", \"bretton\", \"brighton\", \"brocklehurst\", \"brocklehurst\", \"brocklehurst\", \"brocklehurst\", \"burns\", \"burns\", \"calmed\", \"came\", \"came\", \"came\", \"came\", \"came\", \"campbell\", \"candle\", \"candle\", \"candle\", \"catherine\", \"catherine\", \"catherine\", \"catherine\", \"ce\", \"ce\", \"celine\", \"celine\", \"cheese\", \"cheese\", \"cheese\", \"child\", \"child\", \"child\", \"child\", \"child\", \"chimneys\", \"chimneys\", \"churchill\", \"churchill\", \"churchill\", \"cleveland\", \"cloak\", \"cloak\", \"cloak\", \"cloak\", \"cole\", \"cole\", \"collins\", \"collins\", \"collins\", \"colonel\", \"colonel\", \"colonel\", \"colonel\", \"colonel\", \"combe\", \"come\", \"come\", \"come\", \"come\", \"come\", \"confines\", \"cottage\", \"cottage\", \"cottage\", \"cottage\", \"cottage\", \"crack\", \"crimsworth\", \"crimsworth\", \"crimsworth\", \"darcy\", \"darcy\", \"darcy\", \"darcy\", \"darcy\", \"daresay\", \"daresay\", \"daresay\", \"dark\", \"dark\", \"dark\", \"dark\", \"dark\", \"dashwood\", \"dashwood\", \"dashwood\", \"dashwood\", \"dashwoods\", \"day\", \"day\", \"day\", \"day\", \"day\", \"dear\", \"dear\", \"dear\", \"dear\", \"dear\", \"delaford\", \"dent\", \"dent\", \"derbyshire\", \"des\", \"des\", \"desk\", \"desk\", \"desk\", \"desk\", \"desk\", \"devonshire\", \"dim\", \"dim\", \"dim\", \"directress\", \"directress\", \"directress\", \"dixon\", \"doll\", \"doll\", \"doll\", \"donc\", \"door\", \"door\", \"door\", \"door\", \"door\", \"dr\", \"dr\", \"dr\", \"dr\", \"dr\", \"drenched\", \"edward\", \"edward\", \"edward\", \"edward\", \"edward\", \"eighty\", \"elinor\", \"elinor\", \"elinor\", \"elinor\", \"elinor\", \"elizabeth\", \"elizabeth\", \"elizabeth\", \"elizabeth\", \"elizabeth\", \"elle\", \"elle\", \"elton\", \"elton\", \"elton\", \"emanuel\", \"emanuel\", \"emanuel\", \"emma\", \"emma\", \"emma\", \"emma\", \"emma\", \"enclosing\", \"engagement\", \"engagement\", \"engagement\", \"engagement\", \"english\", \"english\", \"english\", \"english\", \"english\", \"eshton\", \"eshton\", \"eshton\", \"est\", \"est\", \"est\", \"estrade\", \"estrade\", \"et\", \"et\", \"et\", \"exeter\", \"eye\", \"eye\", \"eye\", \"eye\", \"eye\", \"eyes\", \"eyes\", \"eyes\", \"eyes\", \"eyes\", \"eyre\", \"eyre\", \"eyre\", \"eyre\", \"face\", \"face\", \"face\", \"face\", \"face\", \"fairfax\", \"fairfax\", \"fairfax\", \"fairfax\", \"fairfax\", \"fanny\", \"far\", \"far\", \"far\", \"far\", \"far\", \"father\", \"father\", \"father\", \"father\", \"father\", \"feelings\", \"feelings\", \"feelings\", \"feelings\", \"feelings\", \"felt\", \"felt\", \"felt\", \"felt\", \"felt\", \"ferrars\", \"ferrars\", \"fields\", \"fields\", \"fields\", \"fields\", \"fitzwilliam\", \"ford\", \"forster\", \"frances\", \"frances\", \"frances\", \"frank\", \"frank\", \"frank\", \"frank\", \"frank\", \"french\", \"french\", \"french\", \"french\", \"french\", \"friend\", \"friend\", \"friend\", \"friend\", \"friend\", \"gale\", \"gale\", \"gale\", \"gallery\", \"gallery\", \"gallery\", \"gallery\", \"gardiner\", \"gardiner\", \"gardiner\", \"gates\", \"gates\", \"gates\", \"gates\", \"gates\", \"gateshead\", \"gateshead\", \"gateshead\", \"gateshead\", \"good\", \"good\", \"good\", \"good\", \"good\", \"graham\", \"graham\", \"graham\", \"graham\", \"great\", \"great\", \"great\", \"great\", \"great\", \"grec\", \"groaned\", \"groaned\", \"half\", \"half\", \"half\", \"half\", \"half\", \"hall\", \"hall\", \"hall\", \"hall\", \"hall\", \"hand\", \"hand\", \"hand\", \"hand\", \"hand\", \"harley\", \"harriet\", \"harriet\", \"harriet\", \"harriet\", \"harriet\", \"head\", \"head\", \"head\", \"head\", \"head\", \"heard\", \"heard\", \"heard\", \"heard\", \"heard\", \"heart\", \"heart\", \"heart\", \"heart\", \"heart\", \"heath\", \"heath\", \"heath\", \"helen\", \"helen\", \"henri\", \"henri\", \"herald\", \"herald\", \"hertfordshire\", \"high\", \"high\", \"high\", \"high\", \"high\", \"horizon\", \"horizon\", \"horizon\", \"hour\", \"hour\", \"hour\", \"hour\", \"hour\", \"house\", \"house\", \"house\", \"house\", \"house\", \"hunsden\", \"hunsden\", \"hunsford\", \"ingram\", \"ingram\", \"ingram\", \"ingram\", \"inscription\", \"inscription\", \"interchanged\", \"isidore\", \"isidore\", \"jamaica\", \"jane\", \"jane\", \"jane\", \"jane\", \"jane\", \"je\", \"je\", \"jennings\", \"jennings\", \"jennings\", \"john\", \"john\", \"john\", \"john\", \"john\", \"kinsfolk\", \"kitty\", \"kitty\", \"knew\", \"knew\", \"knew\", \"knew\", \"knew\", \"knightley\", \"knightley\", \"knightley\", \"knightley\", \"knightley\", \"know\", \"know\", \"know\", \"know\", \"know\", \"la\", \"la\", \"la\", \"la\", \"la\", \"lady\", \"lady\", \"lady\", \"lady\", \"lady\", \"lang\", \"latticed\", \"leah\", \"leah\", \"left\", \"left\", \"left\", \"left\", \"left\", \"lessons\", \"lessons\", \"lessons\", \"lessons\", \"life\", \"life\", \"life\", \"life\", \"life\", \"light\", \"light\", \"light\", \"light\", \"light\", \"like\", \"like\", \"like\", \"like\", \"like\", \"little\", \"little\", \"little\", \"little\", \"little\", \"lizzy\", \"lizzy\", \"lizzy\", \"lloyd\", \"lloyd\", \"lloyd\", \"long\", \"long\", \"long\", \"long\", \"long\", \"longbourn\", \"longbourn\", \"longstaple\", \"look\", \"look\", \"look\", \"look\", \"look\", \"looked\", \"looked\", \"looked\", \"looked\", \"looked\", \"louisa\", \"louisa\", \"louisa\", \"lowood\", \"lowood\", \"lowood\", \"lowood\", \"lowton\", \"lucas\", \"lucas\", \"lucy\", \"lucy\", \"lucy\", \"lucy\", \"lucy\", \"lydia\", \"lydia\", \"lydia\", \"lydia\", \"lynn\", \"madame\", \"madame\", \"madame\", \"madame\", \"madame\", \"mademoiselle\", \"mademoiselle\", \"mademoiselle\", \"mademoiselle\", \"magna\", \"mamma\", \"mamma\", \"mamma\", \"mamma\", \"mamma\", \"man\", \"man\", \"man\", \"man\", \"man\", \"maple\", \"maple\", \"margaret\", \"marianne\", \"marianne\", \"marianne\", \"marianne\", \"mason\", \"mason\", \"mdlle\", \"mdlle\", \"mdlle\", \"mdlle\", \"meryton\", \"meryton\", \"middleton\", \"middletons\", \"millcote\", \"millcote\", \"millcote\", \"miller\", \"miller\", \"miller\", \"mind\", \"mind\", \"mind\", \"mind\", \"mind\", \"miss\", \"miss\", \"miss\", \"miss\", \"miss\", \"missis\", \"missis\", \"misty\", \"mon\", \"mon\", \"monsieur\", \"monsieur\", \"monsieur\", \"monsieur\", \"moon\", \"moon\", \"moon\", \"mother\", \"mother\", \"mother\", \"mother\", \"mother\", \"naughty\", \"naughty\", \"naughty\", \"ne\", \"netherfield\", \"netherfield\", \"new\", \"new\", \"new\", \"new\", \"new\", \"night\", \"night\", \"night\", \"night\", \"night\", \"nightmare\", \"norland\", \"nursery\", \"nursery\", \"nursery\", \"nursery\", \"officers\", \"officers\", \"oh\", \"oh\", \"oh\", \"oh\", \"oh\", \"old\", \"old\", \"old\", \"old\", \"old\", \"paletot\", \"palmer\", \"palmer\", \"palmers\", \"papa\", \"papa\", \"papa\", \"papa\", \"papa\", \"pas\", \"pas\", \"pas\", \"paul\", \"paul\", \"paul\", \"paul\", \"paulina\", \"paulina\", \"paulina\", \"pelet\", \"pelet\", \"pelet\", \"pemberley\", \"pemberley\", \"perishing\", \"perry\", \"perry\", \"phillips\", \"pierre\", \"pierre\", \"pit\", \"polly\", \"polly\", \"polly\", \"polly\", \"preoccupied\", \"professor\", \"professor\", \"professor\", \"pupils\", \"pupils\", \"pupils\", \"pupils\", \"qu\", \"qu\", \"que\", \"que\", \"que\", \"red\", \"red\", \"red\", \"red\", \"red\", \"reed\", \"reed\", \"reed\", \"reed\", \"reuter\", \"reuter\", \"reuter\", \"road\", \"road\", \"road\", \"road\", \"road\", \"robert\", \"robert\", \"robert\", \"robert\", \"robert\", \"rochester\", \"rochester\", \"rochester\", \"rochester\", \"rochester\", \"room\", \"room\", \"room\", \"room\", \"room\", \"rosings\", \"round\", \"round\", \"round\", \"round\", \"round\", \"saw\", \"saw\", \"saw\", \"saw\", \"saw\", \"scatcherd\", \"scatcherd\", \"school\", \"school\", \"school\", \"school\", \"school\", \"scorched\", \"shall\", \"shall\", \"shall\", \"shall\", \"shall\", \"sir\", \"sir\", \"sir\", \"sir\", \"sir\", \"sister\", \"sister\", \"sister\", \"sister\", \"sister\", \"sky\", \"sky\", \"sky\", \"sky\", \"sky\", \"slate\", \"snowe\", \"snowe\", \"snowe\", \"somersetshire\", \"soon\", \"soon\", \"soon\", \"soon\", \"soon\", \"sophie\", \"sophie\", \"sophie\", \"spirits\", \"spirits\", \"spirits\", \"spirits\", \"spirits\", \"st\", \"st\", \"st\", \"st\", \"st\", \"steele\", \"steeles\", \"stick\", \"stile\", \"stile\", \"stood\", \"stood\", \"stood\", \"stood\", \"stood\", \"superintendent\", \"superintendent\", \"sure\", \"sure\", \"sure\", \"sure\", \"sure\", \"sussex\", \"swiss\", \"sylvie\", \"sylvie\", \"syne\", \"tell\", \"tell\", \"tell\", \"tell\", \"tell\", \"temple\", \"temple\", \"temple\", \"temple\", \"thing\", \"thing\", \"thing\", \"thing\", \"thing\", \"think\", \"think\", \"think\", \"think\", \"think\", \"thornfield\", \"thornfield\", \"thornfield\", \"thought\", \"thought\", \"thought\", \"thought\", \"thought\", \"time\", \"time\", \"time\", \"time\", \"time\", \"took\", \"took\", \"took\", \"took\", \"took\", \"tout\", \"tout\", \"trees\", \"trees\", \"trees\", \"trees\", \"trees\", \"une\", \"une\", \"unfortunate\", \"unfortunate\", \"unfortunate\", \"unnumbered\", \"vandenhuten\", \"vandenhuten\", \"vapour\", \"vapour\", \"varens\", \"varens\", \"vous\", \"vous\", \"vous\", \"wall\", \"wall\", \"wall\", \"way\", \"way\", \"way\", \"way\", \"way\", \"went\", \"went\", \"went\", \"went\", \"went\", \"weston\", \"weston\", \"weston\", \"weston\", \"weston\", \"wickham\", \"wickham\", \"wickham\", \"wickham\", \"willoughby\", \"willoughby\", \"willoughby\", \"willoughby\", \"wind\", \"wind\", \"wind\", \"wind\", \"wind\", \"winding\", \"winding\", \"winding\", \"wood\", \"wood\", \"wood\", \"wood\", \"wood\", \"woodhouse\", \"woodhouse\", \"woodhouse\", \"work\", \"work\", \"work\", \"work\", \"work\", \"workings\", \"yorke\", \"young\", \"young\", \"young\", \"young\", \"young\", \"zelie\", \"zoraide\"]}, \"R\": 30, \"lambda.step\": 0.01, \"plot.opts\": {\"xlab\": \"PC1\", \"ylab\": \"PC2\"}, \"topic.order\": [5, 2, 1, 4, 3]};\n",
       "\n",
       "function LDAvis_load_lib(url, callback){\n",
       "  var s = document.createElement('script');\n",
       "  s.src = url;\n",
       "  s.async = true;\n",
       "  s.onreadystatechange = s.onload = callback;\n",
       "  s.onerror = function(){console.warn(\"failed to load library \" + url);};\n",
       "  document.getElementsByTagName(\"head\")[0].appendChild(s);\n",
       "}\n",
       "\n",
       "if(typeof(LDAvis) !== \"undefined\"){\n",
       "   // already loaded: just create the visualization\n",
       "   !function(LDAvis){\n",
       "       new LDAvis(\"#\" + \"ldavis_el981403896363073682166201062\", ldavis_el981403896363073682166201062_data);\n",
       "   }(LDAvis);\n",
       "}else if(typeof define === \"function\" && define.amd){\n",
       "   // require.js is available: use it to load d3/LDAvis\n",
       "   require.config({paths: {d3: \"https://cdnjs.cloudflare.com/ajax/libs/d3/3.5.5/d3.min\"}});\n",
       "   require([\"d3\"], function(d3){\n",
       "      window.d3 = d3;\n",
       "      LDAvis_load_lib(\"https://cdn.rawgit.com/bmabey/pyLDAvis/files/ldavis.v1.0.0.js\", function(){\n",
       "        new LDAvis(\"#\" + \"ldavis_el981403896363073682166201062\", ldavis_el981403896363073682166201062_data);\n",
       "      });\n",
       "    });\n",
       "}else{\n",
       "    // require.js not available: dynamically load d3 & LDAvis\n",
       "    LDAvis_load_lib(\"https://cdnjs.cloudflare.com/ajax/libs/d3/3.5.5/d3.min.js\", function(){\n",
       "         LDAvis_load_lib(\"https://cdn.rawgit.com/bmabey/pyLDAvis/files/ldavis.v1.0.0.js\", function(){\n",
       "                 new LDAvis(\"#\" + \"ldavis_el981403896363073682166201062\", ldavis_el981403896363073682166201062_data);\n",
       "            })\n",
       "         });\n",
       "}\n",
       "</script>"
      ],
      "text/plain": [
       "PreparedData(topic_coordinates=              x         y  topics  cluster       Freq\n",
       "topic                                                \n",
       "4     -0.107203  0.024201       1        1  28.047335\n",
       "1      0.063515 -0.037390       2        1  25.642834\n",
       "0     -0.104246 -0.025200       3        1  17.295380\n",
       "3      0.064173  0.044581       4        1  14.662400\n",
       "2      0.083761 -0.006192       5        1  14.352057, topic_info=     Category        Freq       Term        Total  loglift  logprob\n",
       "5852  Default  627.000000     elinor   627.000000  30.0000  30.0000\n",
       "5857  Default  518.000000   marianne   518.000000  29.0000  29.0000\n",
       "1340  Default  665.000000  elizabeth   665.000000  28.0000  28.0000\n",
       "86    Default  868.000000       emma   868.000000  27.0000  27.0000\n",
       "5032  Default  428.000000      darcy   428.000000  26.0000  26.0000\n",
       "...       ...         ...        ...          ...      ...      ...\n",
       "155    Topic5  101.601212       left   529.697876   0.2900  -6.0931\n",
       "157    Topic5  102.011482       life   578.335449   0.2062  -6.0891\n",
       "399    Topic5  115.587181       know  1432.915527  -0.5762  -5.9642\n",
       "116    Topic5  101.746056      great   824.643127  -0.1512  -6.0917\n",
       "279    Topic5  102.079582      think  1311.797119  -0.6121  -6.0884\n",
       "\n",
       "[399 rows x 6 columns], token_table=      Topic      Freq     Term\n",
       "term                          \n",
       "6348      4  0.958167    abbot\n",
       "7002      1  0.007414    adele\n",
       "7002      2  0.014827    adele\n",
       "7002      3  0.007414    adele\n",
       "7002      4  0.333608    adele\n",
       "...     ...       ...      ...\n",
       "611       3  0.193834    young\n",
       "611       4  0.135233    young\n",
       "611       5  0.060104    young\n",
       "8085      2  0.974032    zelie\n",
       "7899      2  0.960188  zoraide\n",
       "\n",
       "[941 rows x 3 columns], R=30, lambda_step=0.01, plot_opts={'xlab': 'PC1', 'ylab': 'PC2'}, topic_order=[5, 2, 1, 4, 3])"
      ]
     },
     "execution_count": 93,
     "metadata": {},
     "output_type": "execute_result"
    }
   ],
   "source": [
    "pyLDAvis.gensim.prepare(lda, corpus, id2word)"
   ]
  },
  {
   "cell_type": "markdown",
   "metadata": {},
   "source": [
    "### Overall Model / Documents"
   ]
  },
  {
   "cell_type": "code",
   "execution_count": 94,
   "metadata": {},
   "outputs": [
    {
     "data": {
      "text/plain": [
       "[(0, 0.50922096), (4, 0.48935372)]"
      ]
     },
     "execution_count": 94,
     "metadata": {},
     "output_type": "execute_result"
    }
   ],
   "source": [
    "lda[corpus[0]]"
   ]
  },
  {
   "cell_type": "code",
   "execution_count": 113,
   "metadata": {},
   "outputs": [],
   "source": [
    "distro = [lda[d] for d in corpus]"
   ]
  },
  {
   "cell_type": "code",
   "execution_count": 96,
   "metadata": {},
   "outputs": [
    {
     "data": {
      "text/plain": [
       "[(0, 0.5090665), (4, 0.4895085)]"
      ]
     },
     "execution_count": 96,
     "metadata": {},
     "output_type": "execute_result"
    }
   ],
   "source": [
    "distro[0]"
   ]
  },
  {
   "cell_type": "code",
   "execution_count": 110,
   "metadata": {},
   "outputs": [],
   "source": [
    "distro = [lda[d] for d in corpus]\n",
    "\n",
    "def update(doc):\n",
    "        d_dist = {k:0 for k in range(0,5)}\n",
    "        for t in doc:\n",
    "            d_dist[t[0]] = t[1]\n",
    "        return d_dist\n",
    "    \n",
    "new_distro = [update(d) for d in distro]"
   ]
  },
  {
   "cell_type": "code",
   "execution_count": 111,
   "metadata": {},
   "outputs": [
    {
     "data": {
      "text/plain": [
       "813"
      ]
     },
     "execution_count": 111,
     "metadata": {},
     "output_type": "execute_result"
    }
   ],
   "source": [
    "len(new_distro)"
   ]
  },
  {
   "cell_type": "code",
   "execution_count": 112,
   "metadata": {},
   "outputs": [
    {
     "data": {
      "text/html": [
       "<div>\n",
       "<style scoped>\n",
       "    .dataframe tbody tr th:only-of-type {\n",
       "        vertical-align: middle;\n",
       "    }\n",
       "\n",
       "    .dataframe tbody tr th {\n",
       "        vertical-align: top;\n",
       "    }\n",
       "\n",
       "    .dataframe thead th {\n",
       "        text-align: right;\n",
       "    }\n",
       "</style>\n",
       "<table border=\"1\" class=\"dataframe\">\n",
       "  <thead>\n",
       "    <tr style=\"text-align: right;\">\n",
       "      <th></th>\n",
       "      <th>tokens</th>\n",
       "    </tr>\n",
       "  </thead>\n",
       "  <tbody>\n",
       "    <tr>\n",
       "      <th>Austen_Emma0000</th>\n",
       "      <td>[emma, jane, austen, volume, chapter, emma, wo...</td>\n",
       "    </tr>\n",
       "    <tr>\n",
       "      <th>Austen_Emma0001</th>\n",
       "      <td>[taylor, wish, pity, weston, thought, agree, p...</td>\n",
       "    </tr>\n",
       "    <tr>\n",
       "      <th>Austen_Emma0002</th>\n",
       "      <td>[behaved, charmingly, body, punctual, body, be...</td>\n",
       "    </tr>\n",
       "    <tr>\n",
       "      <th>Austen_Emma0003</th>\n",
       "      <td>[native, highbury, born, respectable, family, ...</td>\n",
       "    </tr>\n",
       "    <tr>\n",
       "      <th>Austen_Emma0004</th>\n",
       "      <td>[mention, handsome, letter, weston, received, ...</td>\n",
       "    </tr>\n",
       "  </tbody>\n",
       "</table>\n",
       "</div>"
      ],
      "text/plain": [
       "                                                            tokens\n",
       "Austen_Emma0000  [emma, jane, austen, volume, chapter, emma, wo...\n",
       "Austen_Emma0001  [taylor, wish, pity, weston, thought, agree, p...\n",
       "Austen_Emma0002  [behaved, charmingly, body, punctual, body, be...\n",
       "Austen_Emma0003  [native, highbury, born, respectable, family, ...\n",
       "Austen_Emma0004  [mention, handsome, letter, weston, received, ..."
      ]
     },
     "execution_count": 112,
     "metadata": {},
     "output_type": "execute_result"
    }
   ],
   "source": [
    "df.head()"
   ]
  },
  {
   "cell_type": "code",
   "execution_count": 114,
   "metadata": {},
   "outputs": [],
   "source": [
    "df = pd.DataFrame.from_records(new_distro, index=titles)\n",
    "df.columns = topics\n",
    "df['author'] = df.reset_index()['index'].apply(lambda x: x.split('_')[0]).tolist()"
   ]
  },
  {
   "cell_type": "code",
   "execution_count": 115,
   "metadata": {},
   "outputs": [
    {
     "data": {
      "text/html": [
       "<div>\n",
       "<style scoped>\n",
       "    .dataframe tbody tr th:only-of-type {\n",
       "        vertical-align: middle;\n",
       "    }\n",
       "\n",
       "    .dataframe tbody tr th {\n",
       "        vertical-align: top;\n",
       "    }\n",
       "\n",
       "    .dataframe thead th {\n",
       "        text-align: right;\n",
       "    }\n",
       "</style>\n",
       "<table border=\"1\" class=\"dataframe\">\n",
       "  <thead>\n",
       "    <tr style=\"text-align: right;\">\n",
       "      <th></th>\n",
       "      <th>elinor marianne time sister know</th>\n",
       "      <th>little like good madame know</th>\n",
       "      <th>little like night thought time</th>\n",
       "      <th>like little sir graham thought</th>\n",
       "      <th>miss emma elizabeth jane think</th>\n",
       "      <th>author</th>\n",
       "    </tr>\n",
       "  </thead>\n",
       "  <tbody>\n",
       "    <tr>\n",
       "      <th>Austen_Emma0000</th>\n",
       "      <td>0.509340</td>\n",
       "      <td>0.0</td>\n",
       "      <td>0.0</td>\n",
       "      <td>0.0</td>\n",
       "      <td>0.489235</td>\n",
       "      <td>Austen</td>\n",
       "    </tr>\n",
       "    <tr>\n",
       "      <th>Austen_Emma0001</th>\n",
       "      <td>0.000000</td>\n",
       "      <td>0.0</td>\n",
       "      <td>0.0</td>\n",
       "      <td>0.0</td>\n",
       "      <td>0.997694</td>\n",
       "      <td>Austen</td>\n",
       "    </tr>\n",
       "    <tr>\n",
       "      <th>Austen_Emma0002</th>\n",
       "      <td>0.000000</td>\n",
       "      <td>0.0</td>\n",
       "      <td>0.0</td>\n",
       "      <td>0.0</td>\n",
       "      <td>0.997872</td>\n",
       "      <td>Austen</td>\n",
       "    </tr>\n",
       "    <tr>\n",
       "      <th>Austen_Emma0003</th>\n",
       "      <td>0.435809</td>\n",
       "      <td>0.0</td>\n",
       "      <td>0.0</td>\n",
       "      <td>0.0</td>\n",
       "      <td>0.562684</td>\n",
       "      <td>Austen</td>\n",
       "    </tr>\n",
       "    <tr>\n",
       "      <th>Austen_Emma0004</th>\n",
       "      <td>0.251795</td>\n",
       "      <td>0.0</td>\n",
       "      <td>0.0</td>\n",
       "      <td>0.0</td>\n",
       "      <td>0.746785</td>\n",
       "      <td>Austen</td>\n",
       "    </tr>\n",
       "  </tbody>\n",
       "</table>\n",
       "</div>"
      ],
      "text/plain": [
       "                 elinor marianne time sister know  \\\n",
       "Austen_Emma0000                          0.509340   \n",
       "Austen_Emma0001                          0.000000   \n",
       "Austen_Emma0002                          0.000000   \n",
       "Austen_Emma0003                          0.435809   \n",
       "Austen_Emma0004                          0.251795   \n",
       "\n",
       "                 little like good madame know  little like night thought time  \\\n",
       "Austen_Emma0000                           0.0                             0.0   \n",
       "Austen_Emma0001                           0.0                             0.0   \n",
       "Austen_Emma0002                           0.0                             0.0   \n",
       "Austen_Emma0003                           0.0                             0.0   \n",
       "Austen_Emma0004                           0.0                             0.0   \n",
       "\n",
       "                 like little sir graham thought  \\\n",
       "Austen_Emma0000                             0.0   \n",
       "Austen_Emma0001                             0.0   \n",
       "Austen_Emma0002                             0.0   \n",
       "Austen_Emma0003                             0.0   \n",
       "Austen_Emma0004                             0.0   \n",
       "\n",
       "                 miss emma elizabeth jane think  author  \n",
       "Austen_Emma0000                        0.489235  Austen  \n",
       "Austen_Emma0001                        0.997694  Austen  \n",
       "Austen_Emma0002                        0.997872  Austen  \n",
       "Austen_Emma0003                        0.562684  Austen  \n",
       "Austen_Emma0004                        0.746785  Austen  "
      ]
     },
     "execution_count": 115,
     "metadata": {},
     "output_type": "execute_result"
    }
   ],
   "source": [
    "df.head()"
   ]
  },
  {
   "cell_type": "code",
   "execution_count": 116,
   "metadata": {},
   "outputs": [
    {
     "data": {
      "text/html": [
       "<div>\n",
       "<style scoped>\n",
       "    .dataframe tbody tr th:only-of-type {\n",
       "        vertical-align: middle;\n",
       "    }\n",
       "\n",
       "    .dataframe tbody tr th {\n",
       "        vertical-align: top;\n",
       "    }\n",
       "\n",
       "    .dataframe thead th {\n",
       "        text-align: right;\n",
       "    }\n",
       "</style>\n",
       "<table border=\"1\" class=\"dataframe\">\n",
       "  <thead>\n",
       "    <tr style=\"text-align: right;\">\n",
       "      <th></th>\n",
       "      <th>elinor marianne time sister know</th>\n",
       "      <th>little like good madame know</th>\n",
       "      <th>little like night thought time</th>\n",
       "      <th>like little sir graham thought</th>\n",
       "      <th>miss emma elizabeth jane think</th>\n",
       "    </tr>\n",
       "    <tr>\n",
       "      <th>author</th>\n",
       "      <th></th>\n",
       "      <th></th>\n",
       "      <th></th>\n",
       "      <th></th>\n",
       "      <th></th>\n",
       "    </tr>\n",
       "  </thead>\n",
       "  <tbody>\n",
       "    <tr>\n",
       "      <th>Austen</th>\n",
       "      <td>0.366140</td>\n",
       "      <td>0.002112</td>\n",
       "      <td>0.008786</td>\n",
       "      <td>0.001045</td>\n",
       "      <td>0.619699</td>\n",
       "    </tr>\n",
       "    <tr>\n",
       "      <th>CBronte</th>\n",
       "      <td>0.011602</td>\n",
       "      <td>0.446734</td>\n",
       "      <td>0.255437</td>\n",
       "      <td>0.266887</td>\n",
       "      <td>0.017304</td>\n",
       "    </tr>\n",
       "  </tbody>\n",
       "</table>\n",
       "</div>"
      ],
      "text/plain": [
       "         elinor marianne time sister know  little like good madame know  \\\n",
       "author                                                                    \n",
       "Austen                           0.366140                      0.002112   \n",
       "CBronte                          0.011602                      0.446734   \n",
       "\n",
       "         little like night thought time  like little sir graham thought  \\\n",
       "author                                                                    \n",
       "Austen                         0.008786                        0.001045   \n",
       "CBronte                        0.255437                        0.266887   \n",
       "\n",
       "         miss emma elizabeth jane think  \n",
       "author                                   \n",
       "Austen                         0.619699  \n",
       "CBronte                        0.017304  "
      ]
     },
     "execution_count": 116,
     "metadata": {},
     "output_type": "execute_result"
    }
   ],
   "source": [
    "df.groupby('author').mean()"
   ]
  },
  {
   "cell_type": "markdown",
   "metadata": {},
   "source": [
    "## Challenge\n",
    "### *Can we see if one of the authors focus more on men than women?*\n",
    "\n",
    "*  Use Spacy for text prepocessing\n",
    "*  Extract the Named Entities from the documents using Spacy (command is fairly straight forward)\n",
    "*  Create unique list of names from the authors (you'll find that there are different types of named entities not all people)\n",
    "*  Label the names with genders (can you this by hand or you use the US census name lists)\n",
    "*  Customize your processing to replace the proper name with your gender from the previous step's lookup table\n",
    "*  Then follow the rest of the LDA flow\n"
   ]
  },
  {
   "cell_type": "markdown",
   "metadata": {},
   "source": [
    "# Selecting the Number of Topics (Learn)\n",
    "<a id=\"#p4\"></a>"
   ]
  },
  {
   "cell_type": "markdown",
   "metadata": {},
   "source": [
    "## Overview"
   ]
  },
  {
   "cell_type": "markdown",
   "metadata": {},
   "source": [
    "## Follow Along"
   ]
  },
  {
   "cell_type": "code",
   "execution_count": 117,
   "metadata": {},
   "outputs": [],
   "source": [
    "from gensim.models.coherencemodel import CoherenceModel\n",
    "\n",
    "def compute_coherence_values(dictionary, corpus, limit, start=2, step=3, passes=5):\n",
    "    \"\"\"\n",
    "    Compute c_v coherence for various number of topics\n",
    "\n",
    "    Parameters:\n",
    "    ----------\n",
    "    dictionary : Gensim dictionary\n",
    "    corpus : Gensim corpus\n",
    "    limit : Max num of topics\n",
    "    passes: the number of times the entire lda model & coherence values are calculated\n",
    "\n",
    "    Returns:\n",
    "    -------\n",
    "    coherence_values : Coherence values corresponding to the LDA model with respective number of topics\n",
    "    \"\"\"\n",
    "    \n",
    "    coherence_values = []\n",
    "    \n",
    "    for iter_ in range(passes):\n",
    "        for num_topics in range(start, limit, step):\n",
    "            model = LdaMulticore(corpus=corpus, num_topics=num_topics, id2word=dictionary, workers=4)\n",
    "            coherencemodel = CoherenceModel(model=model,dictionary=dictionary,corpus=corpus, coherence='u_mass')\n",
    "            coherence_values.append({'pass': iter_, \n",
    "                                     'num_topics': num_topics, \n",
    "                                     'coherence_score': coherencemodel.get_coherence()\n",
    "                                    })\n",
    "\n",
    "    return coherence_values"
   ]
  },
  {
   "cell_type": "code",
   "execution_count": 118,
   "metadata": {},
   "outputs": [],
   "source": [
    "# Can take a long time to run.\n",
    "coherence_values = compute_coherence_values(dictionary=id2word, \n",
    "                                                        corpus=corpus,\n",
    "                                                        start=2, \n",
    "                                                        limit=40, \n",
    "                                                        step=6,\n",
    "                                                        passes=40)"
   ]
  },
  {
   "cell_type": "code",
   "execution_count": 119,
   "metadata": {},
   "outputs": [],
   "source": [
    "topic_coherence = pd.DataFrame.from_records(coherence_values)"
   ]
  },
  {
   "cell_type": "code",
   "execution_count": 147,
   "metadata": {},
   "outputs": [
    {
     "data": {
      "text/html": [
       "<div>\n",
       "<style scoped>\n",
       "    .dataframe tbody tr th:only-of-type {\n",
       "        vertical-align: middle;\n",
       "    }\n",
       "\n",
       "    .dataframe tbody tr th {\n",
       "        vertical-align: top;\n",
       "    }\n",
       "\n",
       "    .dataframe thead th {\n",
       "        text-align: right;\n",
       "    }\n",
       "</style>\n",
       "<table border=\"1\" class=\"dataframe\">\n",
       "  <thead>\n",
       "    <tr style=\"text-align: right;\">\n",
       "      <th></th>\n",
       "      <th>pass</th>\n",
       "      <th>num_topics</th>\n",
       "      <th>coherence_score</th>\n",
       "    </tr>\n",
       "  </thead>\n",
       "  <tbody>\n",
       "    <tr>\n",
       "      <th>0</th>\n",
       "      <td>0</td>\n",
       "      <td>2</td>\n",
       "      <td>-0.643243</td>\n",
       "    </tr>\n",
       "    <tr>\n",
       "      <th>1</th>\n",
       "      <td>0</td>\n",
       "      <td>8</td>\n",
       "      <td>-0.672121</td>\n",
       "    </tr>\n",
       "    <tr>\n",
       "      <th>2</th>\n",
       "      <td>0</td>\n",
       "      <td>14</td>\n",
       "      <td>-0.835817</td>\n",
       "    </tr>\n",
       "    <tr>\n",
       "      <th>3</th>\n",
       "      <td>0</td>\n",
       "      <td>20</td>\n",
       "      <td>-0.758081</td>\n",
       "    </tr>\n",
       "    <tr>\n",
       "      <th>4</th>\n",
       "      <td>0</td>\n",
       "      <td>26</td>\n",
       "      <td>-0.766368</td>\n",
       "    </tr>\n",
       "  </tbody>\n",
       "</table>\n",
       "</div>"
      ],
      "text/plain": [
       "   pass  num_topics  coherence_score\n",
       "0     0           2        -0.643243\n",
       "1     0           8        -0.672121\n",
       "2     0          14        -0.835817\n",
       "3     0          20        -0.758081\n",
       "4     0          26        -0.766368"
      ]
     },
     "execution_count": 147,
     "metadata": {},
     "output_type": "execute_result"
    }
   ],
   "source": [
    "topic_coherence.head()"
   ]
  },
  {
   "cell_type": "code",
   "execution_count": 160,
   "metadata": {},
   "outputs": [],
   "source": [
    "x = topic_coherence.groupby('num_topics')['coherence_score'].mean()"
   ]
  },
  {
   "cell_type": "code",
   "execution_count": 161,
   "metadata": {},
   "outputs": [
    {
     "name": "stdout",
     "output_type": "stream",
     "text": [
      "num_topics\n",
      "2    -0.717003\n",
      "8    -0.753407\n",
      "14   -0.771164\n",
      "20   -0.769836\n",
      "26   -0.775875\n",
      "32   -0.783801\n",
      "38   -0.791118\n",
      "Name: coherence_score, dtype: float64\n"
     ]
    },
    {
     "data": {
      "image/png": "[encoded data removed]",
      "text/plain": [
       "<Figure size 432x288 with 1 Axes>"
      ]
     },
     "metadata": {
      "needs_background": "light"
     },
     "output_type": "display_data"
    }
   ],
   "source": [
    "import seaborn as sns\n",
    "\n",
    "ax = sns.lineplot(x=\"num_topics\", y=\"coherence_score\", data=topic_coherence)\n",
    "print(x)"
   ]
  },
  {
   "cell_type": "code",
   "execution_count": 126,
   "metadata": {},
   "outputs": [
    {
     "data": {
      "text/plain": [
       "[(0, 0.05118998),\n",
       " (1, 0.5702962),\n",
       " (2, 0.27391335),\n",
       " (3, 0.053591944),\n",
       " (4, 0.051008493)]"
      ]
     },
     "execution_count": 126,
     "metadata": {},
     "output_type": "execute_result"
    }
   ],
   "source": [
    "lda[id2word.doc2bow(tokenize(\"This is a sample document to score with a topic distribution.\"))]"
   ]
  },
  {
   "cell_type": "markdown",
   "metadata": {},
   "source": [
    "## Challenge\n",
    "### *Can we see if one of the authors focus more on men than women?*\n",
    "\n",
    "*  Use Spacy for text prepocessing\n",
    "*  Extract the Named Entities from the documents using Spacy (command is fairly straight forward)\n",
    "*  Create unique list of names from the authors (you'll find that there are different types of named entities not all people)\n",
    "*  Label the names with genders (can you this by hand or you use the US census name lists)\n",
    "*  Customize your processing to replace the proper name with your gender from the previous step's lookup table\n",
    "*  Then follow the rest of the LDA flow"
   ]
  },
  {
   "cell_type": "code",
   "execution_count": 85,
   "metadata": {},
   "outputs": [
    {
     "name": "stderr",
     "output_type": "stream",
     "text": [
      "/Users/jonathansokoll/anaconda3/envs/U4-S1-NLP/lib/python3.7/site-packages/thinc/neural/train.py:7: DeprecationWarning: Using or importing the ABCs from 'collections' instead of from 'collections.abc' is deprecated, and in 3.8 it will stop working\n",
      "  from .optimizers import Adam, linear_decay\n",
      "/Users/jonathansokoll/anaconda3/envs/U4-S1-NLP/lib/python3.7/site-packages/thinc/check.py:4: DeprecationWarning: Using or importing the ABCs from 'collections' instead of from 'collections.abc' is deprecated, and in 3.8 it will stop working\n",
      "  from collections import Sequence, Sized, Iterable, Callable\n",
      "/Users/jonathansokoll/anaconda3/envs/U4-S1-NLP/lib/python3.7/site-packages/thinc/check.py:4: DeprecationWarning: Using or importing the ABCs from 'collections' instead of from 'collections.abc' is deprecated, and in 3.8 it will stop working\n",
      "  from collections import Sequence, Sized, Iterable, Callable\n"
     ]
    }
   ],
   "source": [
    "import spacy\n",
    "\n",
    "nlp = spacy.load('en_core_web_lg')"
   ]
  },
  {
   "cell_type": "code",
   "execution_count": 86,
   "metadata": {},
   "outputs": [],
   "source": [
    "test = \"Ned asked me a question about England today.\""
   ]
  },
  {
   "cell_type": "code",
   "execution_count": 87,
   "metadata": {},
   "outputs": [
    {
     "name": "stdout",
     "output_type": "stream",
     "text": [
      "Ned Ned PROPN\n",
      "asked ask VERB\n",
      "me -PRON- PRON\n",
      "a a DET\n",
      "question question NOUN\n",
      "about about ADP\n",
      "England England PROPN\n",
      "today today NOUN\n",
      ". . PUNCT\n"
     ]
    }
   ],
   "source": [
    "doc = nlp(test)\n",
    "\n",
    "for token in doc:\n",
    "    print(token.text, token.lemma_, token.pos_)"
   ]
  },
  {
   "cell_type": "code",
   "execution_count": 88,
   "metadata": {},
   "outputs": [
    {
     "name": "stdout",
     "output_type": "stream",
     "text": [
      "Ned PERSON\n",
      "England GPE\n",
      "today DATE\n"
     ]
    }
   ],
   "source": [
    "for ent in doc.ents:\n",
    "    print(ent.text, ent.label_)"
   ]
  },
  {
   "cell_type": "code",
   "execution_count": 89,
   "metadata": {},
   "outputs": [],
   "source": [
    "def doc_stream(path):\n",
    "    for f in os.listdir(path):\n",
    "        if os.path.isdir(f) == False:\n",
    "            with open(os.path.join(path,f)) as t:\n",
    "                text = t.read().strip('\\n')\n",
    "                yield text\n",
    "\n",
    "def get_people(docstream):\n",
    "    \n",
    "    ppl = []\n",
    "    \n",
    "    for d in docstream:\n",
    "        \n",
    "        doc = nlp(d)\n",
    "        \n",
    "        for ent in doc.ents:\n",
    "            \n",
    "            if ent.label_ == \"PERSON\":\n",
    "                ppl.append(ent.lemma_)\n",
    "                \n",
    "    return set(ppl)"
   ]
  },
  {
   "cell_type": "code",
   "execution_count": null,
   "metadata": {},
   "outputs": [],
   "source": [
    "%pwd"
   ]
  },
  {
   "cell_type": "code",
   "execution_count": 90,
   "metadata": {},
   "outputs": [],
   "source": [
    "people = get_people(doc_stream(path))"
   ]
  },
  {
   "cell_type": "code",
   "execution_count": null,
   "metadata": {},
   "outputs": [],
   "source": [
    "list(people)[:50]"
   ]
  },
  {
   "cell_type": "code",
   "execution_count": null,
   "metadata": {},
   "outputs": [],
   "source": [
    "gender_lookup = {'Adele':'female_charc', 'William Crimsworth':'male_charc'}"
   ]
  },
  {
   "cell_type": "code",
   "execution_count": null,
   "metadata": {},
   "outputs": [],
   "source": [
    "doc = nlp(next(doc_stream(path)))"
   ]
  },
  {
   "cell_type": "code",
   "execution_count": null,
   "metadata": {},
   "outputs": [],
   "source": [
    "doc.ents[0].lemma_"
   ]
  },
  {
   "cell_type": "markdown",
   "metadata": {},
   "source": [
    "# Sources\n",
    "\n",
    "### *References*\n",
    "* [Andrew Ng et al paper on LDA](https://ai.stanford.edu/~ang/papers/jair03-lda.pdf)\n",
    "* On [Coherence](https://pdfs.semanticscholar.org/1521/8d9c029cbb903ae7c729b2c644c24994c201.pdf)\n",
    "\n",
    "### *Resources*\n",
    "\n",
    "* [Gensim](https://radimrehurek.com/gensim/): Python package for topic modeling, nlp, word vectorization, and few other things. Well maintained and well documented.\n",
    "* [Topic Modeling with Gensim](http://www.machinelearningplus.com/nlp/topic-modeling-gensim-python/#11createthedictionaryandcorpusneededfortopicmodeling): A kind of cookbook for LDA with gensim. Excellent overview, but the you need to be aware of missing import statements and assumed prior knowledge.\n",
    "* [Chinese Restuarant Process](https://en.wikipedia.org/wiki/Chinese_restaurant_process): That really obscure stats thing I mentioned... \n",
    "* [PyLDAvis](https://github.com/bmabey/pyLDAvis): Library for visualizing the topic model and performing some exploratory work. Works well. Has a direct parrell implementation in R as well. \n",
    "* [Rare Technologies](https://rare-technologies.com/): The people that made & maintain gensim and a few other libraries.\n",
    "* [Jane Austen v. Charlotte Bronte](https://www.literaryladiesguide.com/literary-musings/jane-austen-charlotte-bronte-different-alike/)"
   ]
  }
 ],
 "metadata": {
  "kernelspec": {
   "display_name": "Python 3",
   "language": "python",
   "name": "python3"
  },
  "language_info": {
   "codemirror_mode": {
    "name": "ipython",
    "version": 3
   },
   "file_extension": ".py",
   "mimetype": "text/x-python",
   "name": "python",
   "nbconvert_exporter": "python",
   "pygments_lexer": "ipython3",
   "version": "3.6.9"
  }
 },
 "nbformat": 4,
 "nbformat_minor": 4
}
