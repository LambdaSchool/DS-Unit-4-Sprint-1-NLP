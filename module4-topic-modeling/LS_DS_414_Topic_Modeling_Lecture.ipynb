{
 "cells": [
  {
   "cell_type": "markdown",
   "metadata": {},
   "source": [
    "Lambda School Data Science\n",
    "\n",
    "*Unit 4, Sprint 1, Module 4*\n",
    "\n",
    "---"
   ]
  },
  {
   "cell_type": "markdown",
   "metadata": {},
   "source": [
    "# Topic Modeling (Prepare)\n",
    "\n",
    "On Monday we talked about summarizing your documents using just token counts. Today, we're going to learn about a much more sophisticated approach - learning 'topics' from documents. Topics are a latent structure. They are not directly observable in the data, but we know they're there by reading them.\n",
    "\n",
    "> **latent**: existing but not yet developed or manifest; hidden or concealed.\n",
    "\n",
    "## Use Cases\n",
    "Primary use case: what the hell are your documents about? Who might want to know that in industry - \n",
    "* Identifying common themes in customer reviews\n",
    "* Discovering the needle in a haystack \n",
    "* Monitoring communications (Email - State Department) \n",
    "\n",
    "## Learning Objectives\n",
    "*At the end of the lesson you should be able to:*\n",
    "* <a href=\"#p1\">Part 1</a>: Describe how an LDA Model works\n",
    "* <a href=\"#p2\">Part 2</a>: Estimate a LDA Model with Gensim\n",
    "* <a href=\"#p3\">Part 3</a>: Interpret LDA results\n",
    "* <a href=\"#p4\">Part 4</a>: Select the appropriate number of topics\n"
   ]
  },
  {
   "cell_type": "markdown",
   "metadata": {},
   "source": [
    "# Latent Dirchilet Allocation Models (Learn)\n",
    "<a id=\"#p1\"></a>"
   ]
  },
  {
   "cell_type": "markdown",
   "metadata": {},
   "source": [
    "## Overview\n",
    "LDA is a \"generative probabilistic model\". \n",
    "\n",
    "Let's play with a model available [here](https://lettier.com/projects/lda-topic-modeling/)"
   ]
  },
  {
   "cell_type": "markdown",
   "metadata": {},
   "source": [
    "## Follow Along"
   ]
  },
  {
   "cell_type": "markdown",
   "metadata": {},
   "source": [
    "## Challenge "
   ]
  },
  {
   "cell_type": "markdown",
   "metadata": {},
   "source": [
    "# Estimating LDA Models with Gensim (Learn)\n",
    "<a id=\"#p1\"></a>"
   ]
  },
  {
   "cell_type": "markdown",
   "metadata": {
    "toc-hr-collapsed": true
   },
   "source": [
    "## Overview\n",
    "### A Literary Introduction: *Jane Austen V. Charlotte Bronte*\n",
    "Despite being born nearly forty years apart, modern fans often pit Jane Austen & Charlotte Bronte against one another in a battle for literary  supremacy. The battle centers around the topics of education for women, courting, and marriage. The authors' similar backgrounds naturally draw comparisons, but the modern fascination is probably due to novelty of British women publishing novels during the early 19th century. \n",
    "\n",
    "Can we help close a literary battle for supremacy and simply acknowledge that the authors addressed different topics and deserve to be acknowledged as excellent authors each in their own right?\n",
    "\n",
    "We're going to apply Latent Dirichlet Allocation a machine learning algorithm for topic modeling to each of the author's novels to compare the distribution of topics in their novels."
   ]
  },
  {
   "cell_type": "code",
   "execution_count": 1,
   "metadata": {},
   "outputs": [],
   "source": [
    "import numpy as np\n",
    "import gensim\n",
    "import os\n",
    "import re\n",
    "\n",
    "from gensim.utils import simple_preprocess\n",
    "from gensim.parsing.preprocessing import STOPWORDS\n",
    "from gensim import corpora\n",
    "\n",
    "from gensim.models.ldamulticore import LdaMulticore\n",
    "\n",
    "import pandas as pd"
   ]
  },
  {
   "cell_type": "code",
   "execution_count": 2,
   "metadata": {},
   "outputs": [
    {
     "data": {
      "text/plain": [
       "'3.8.1'"
      ]
     },
     "execution_count": 2,
     "metadata": {},
     "output_type": "execute_result"
    }
   ],
   "source": [
    "gensim.__version__"
   ]
  },
  {
   "cell_type": "markdown",
   "metadata": {},
   "source": [
    "### Novel Data\n",
    "I grabbed the novel data pre-split into a bunch of smaller chunks"
   ]
  },
  {
   "cell_type": "code",
   "execution_count": 3,
   "metadata": {},
   "outputs": [],
   "source": [
    "path = './data/austen-brontë-split'"
   ]
  },
  {
   "cell_type": "markdown",
   "metadata": {},
   "source": [
    "### Text Preprocessing\n",
    "**Activity**: update the function `tokenize` with any technique you have learned so far this week. "
   ]
  },
  {
   "cell_type": "code",
   "execution_count": 4,
   "metadata": {},
   "outputs": [],
   "source": [
    "# 1) Plain Python - ''.split command\n",
    "# 2) Spacy - just the lemmas from the document\n",
    "# 3) Gensim - simple_preprocess\n",
    "\n",
    "STOPWORDS = set(STOPWORDS).union(set(['said', 'mr', 'mrs']))\n",
    "\n",
    "def tokenize(text):\n",
    "    return [token for token in simple_preprocess(text) if token not in STOPWORDS]"
   ]
  },
  {
   "cell_type": "code",
   "execution_count": 5,
   "metadata": {},
   "outputs": [],
   "source": [
    "import os\n",
    "\n",
    "def gather_data(path_to_data): \n",
    "    data = []\n",
    "    for f in os.listdir(path):\n",
    "        if os.path.isdir(f) == False:\n",
    "            if f[-3:] == 'txt':\n",
    "                with open(os.path.join(path,f)) as t:\n",
    "                    text = t.read().strip('\\n')\n",
    "                    data.append(tokenize(str(text)))       \n",
    "    return data"
   ]
  },
  {
   "cell_type": "code",
   "execution_count": 6,
   "metadata": {},
   "outputs": [],
   "source": [
    "tokens = gather_data(path)"
   ]
  },
  {
   "cell_type": "code",
   "execution_count": 7,
   "metadata": {},
   "outputs": [
    {
     "data": {
      "text/plain": [
       "['attentions',\n",
       " 'spring',\n",
       " 'score',\n",
       " 'let',\n",
       " 'sit',\n",
       " 'understand',\n",
       " 'miss',\n",
       " 'bennet',\n",
       " 'came',\n",
       " 'determined']"
      ]
     },
     "execution_count": 7,
     "metadata": {},
     "output_type": "execute_result"
    }
   ],
   "source": [
    "tokens[0][0:10]"
   ]
  },
  {
   "cell_type": "code",
   "execution_count": 8,
   "metadata": {},
   "outputs": [
    {
     "data": {
      "text/plain": [
       "'this is a sample string with a  newline character'"
      ]
     },
     "execution_count": 8,
     "metadata": {},
     "output_type": "execute_result"
    }
   ],
   "source": [
    "\"this is a sample string with a \\n newline character\".replace('\\n', '')"
   ]
  },
  {
   "cell_type": "markdown",
   "metadata": {
    "toc-hr-collapsed": true
   },
   "source": [
    "## Follow Along"
   ]
  },
  {
   "cell_type": "code",
   "execution_count": 9,
   "metadata": {},
   "outputs": [],
   "source": [
    "titles = [t[:-4] for t in os.listdir(path) if os.path.isdir(t) == False]"
   ]
  },
  {
   "cell_type": "code",
   "execution_count": 10,
   "metadata": {},
   "outputs": [
    {
     "data": {
      "text/plain": [
       "813"
      ]
     },
     "execution_count": 10,
     "metadata": {},
     "output_type": "execute_result"
    }
   ],
   "source": [
    "len(titles)"
   ]
  },
  {
   "cell_type": "code",
   "execution_count": 11,
   "metadata": {},
   "outputs": [
    {
     "data": {
      "text/plain": [
       "813"
      ]
     },
     "execution_count": 11,
     "metadata": {},
     "output_type": "execute_result"
    }
   ],
   "source": [
    "len(tokens)"
   ]
  },
  {
   "cell_type": "markdown",
   "metadata": {},
   "source": [
    "### Author DataFrame\n"
   ]
  },
  {
   "cell_type": "code",
   "execution_count": 12,
   "metadata": {},
   "outputs": [],
   "source": [
    "df = pd.DataFrame(index=titles, data={'tokens':tokens})"
   ]
  },
  {
   "cell_type": "code",
   "execution_count": 13,
   "metadata": {},
   "outputs": [
    {
     "data": {
      "text/html": [
       "<div>\n",
       "<style scoped>\n",
       "    .dataframe tbody tr th:only-of-type {\n",
       "        vertical-align: middle;\n",
       "    }\n",
       "\n",
       "    .dataframe tbody tr th {\n",
       "        vertical-align: top;\n",
       "    }\n",
       "\n",
       "    .dataframe thead th {\n",
       "        text-align: right;\n",
       "    }\n",
       "</style>\n",
       "<table border=\"1\" class=\"dataframe\">\n",
       "  <thead>\n",
       "    <tr style=\"text-align: right;\">\n",
       "      <th></th>\n",
       "      <th>tokens</th>\n",
       "    </tr>\n",
       "  </thead>\n",
       "  <tbody>\n",
       "    <tr>\n",
       "      <th>Austen_Pride0109</th>\n",
       "      <td>[attentions, spring, score, let, sit, understa...</td>\n",
       "    </tr>\n",
       "    <tr>\n",
       "      <th>CBronte_Villette0114</th>\n",
       "      <td>[merely, getting, better, view, face, struck, ...</td>\n",
       "    </tr>\n",
       "    <tr>\n",
       "      <th>Austen_Sense0038</th>\n",
       "      <td>[patience, melancholy, state, person, expectat...</td>\n",
       "    </tr>\n",
       "    <tr>\n",
       "      <th>Austen_Emma0133</th>\n",
       "      <td>[ready, believe, character, improve, acquire, ...</td>\n",
       "    </tr>\n",
       "    <tr>\n",
       "      <th>CBronte_Jane0002</th>\n",
       "      <td>[dim, bleared, eye, flabby, cheeks, ought, sch...</td>\n",
       "    </tr>\n",
       "  </tbody>\n",
       "</table>\n",
       "</div>"
      ],
      "text/plain": [
       "                                                                 tokens\n",
       "Austen_Pride0109      [attentions, spring, score, let, sit, understa...\n",
       "CBronte_Villette0114  [merely, getting, better, view, face, struck, ...\n",
       "Austen_Sense0038      [patience, melancholy, state, person, expectat...\n",
       "Austen_Emma0133       [ready, believe, character, improve, acquire, ...\n",
       "CBronte_Jane0002      [dim, bleared, eye, flabby, cheeks, ought, sch..."
      ]
     },
     "execution_count": 13,
     "metadata": {},
     "output_type": "execute_result"
    }
   ],
   "source": [
    "df.head()"
   ]
  },
  {
   "cell_type": "code",
   "execution_count": 14,
   "metadata": {},
   "outputs": [],
   "source": [
    "df['author'] = df.reset_index()['index'].apply(lambda x: x.split('_')[0]).tolist()\n",
    "df['book'] = df.reset_index()['index'].apply(lambda x: x.split('_')[1][:-4]).tolist()\n",
    "df['section'] = df.reset_index()['index'].apply(lambda x: x[-4:]).tolist()\n",
    "df['section'] = df['section'].astype('int')"
   ]
  },
  {
   "cell_type": "code",
   "execution_count": 15,
   "metadata": {},
   "outputs": [],
   "source": [
    "df['author'] = df['author'].map({'Austen':1, 'CBronte':0})"
   ]
  },
  {
   "cell_type": "code",
   "execution_count": 16,
   "metadata": {},
   "outputs": [
    {
     "data": {
      "text/plain": [
       "0    441\n",
       "1    372\n",
       "Name: author, dtype: int64"
      ]
     },
     "execution_count": 16,
     "metadata": {},
     "output_type": "execute_result"
    }
   ],
   "source": [
    "df.author.value_counts()"
   ]
  },
  {
   "cell_type": "code",
   "execution_count": 17,
   "metadata": {},
   "outputs": [
    {
     "data": {
      "text/html": [
       "<div>\n",
       "<style scoped>\n",
       "    .dataframe tbody tr th:only-of-type {\n",
       "        vertical-align: middle;\n",
       "    }\n",
       "\n",
       "    .dataframe tbody tr th {\n",
       "        vertical-align: top;\n",
       "    }\n",
       "\n",
       "    .dataframe thead th {\n",
       "        text-align: right;\n",
       "    }\n",
       "</style>\n",
       "<table border=\"1\" class=\"dataframe\">\n",
       "  <thead>\n",
       "    <tr style=\"text-align: right;\">\n",
       "      <th></th>\n",
       "      <th>tokens</th>\n",
       "      <th>author</th>\n",
       "      <th>book</th>\n",
       "      <th>section</th>\n",
       "    </tr>\n",
       "  </thead>\n",
       "  <tbody>\n",
       "    <tr>\n",
       "      <th>Austen_Pride0109</th>\n",
       "      <td>[attentions, spring, score, let, sit, understa...</td>\n",
       "      <td>1</td>\n",
       "      <td>Pride</td>\n",
       "      <td>109</td>\n",
       "    </tr>\n",
       "    <tr>\n",
       "      <th>CBronte_Villette0114</th>\n",
       "      <td>[merely, getting, better, view, face, struck, ...</td>\n",
       "      <td>0</td>\n",
       "      <td>Villette</td>\n",
       "      <td>114</td>\n",
       "    </tr>\n",
       "    <tr>\n",
       "      <th>Austen_Sense0038</th>\n",
       "      <td>[patience, melancholy, state, person, expectat...</td>\n",
       "      <td>1</td>\n",
       "      <td>Sense</td>\n",
       "      <td>38</td>\n",
       "    </tr>\n",
       "    <tr>\n",
       "      <th>Austen_Emma0133</th>\n",
       "      <td>[ready, believe, character, improve, acquire, ...</td>\n",
       "      <td>1</td>\n",
       "      <td>Emma</td>\n",
       "      <td>133</td>\n",
       "    </tr>\n",
       "    <tr>\n",
       "      <th>CBronte_Jane0002</th>\n",
       "      <td>[dim, bleared, eye, flabby, cheeks, ought, sch...</td>\n",
       "      <td>0</td>\n",
       "      <td>Jane</td>\n",
       "      <td>2</td>\n",
       "    </tr>\n",
       "  </tbody>\n",
       "</table>\n",
       "</div>"
      ],
      "text/plain": [
       "                                                                 tokens  \\\n",
       "Austen_Pride0109      [attentions, spring, score, let, sit, understa...   \n",
       "CBronte_Villette0114  [merely, getting, better, view, face, struck, ...   \n",
       "Austen_Sense0038      [patience, melancholy, state, person, expectat...   \n",
       "Austen_Emma0133       [ready, believe, character, improve, acquire, ...   \n",
       "CBronte_Jane0002      [dim, bleared, eye, flabby, cheeks, ought, sch...   \n",
       "\n",
       "                      author      book  section  \n",
       "Austen_Pride0109           1     Pride      109  \n",
       "CBronte_Villette0114       0  Villette      114  \n",
       "Austen_Sense0038           1     Sense       38  \n",
       "Austen_Emma0133            1      Emma      133  \n",
       "CBronte_Jane0002           0      Jane        2  "
      ]
     },
     "execution_count": 17,
     "metadata": {},
     "output_type": "execute_result"
    }
   ],
   "source": [
    "df.head()"
   ]
  },
  {
   "cell_type": "markdown",
   "metadata": {},
   "source": [
    "### Streaming Documents\n",
    "Here we use a new pythonic thingy: the `yield` statement in our function. This allows us to iterate over a bunch of documents without actually reading them into memory. You can see how we use this function later on. "
   ]
  },
  {
   "cell_type": "code",
   "execution_count": 18,
   "metadata": {},
   "outputs": [],
   "source": [
    "def doc_stream(path):\n",
    "    for f in os.listdir(path):\n",
    "        if os.path.isdir(f) == False:\n",
    "            if f[-3:] == 'txt':\n",
    "                with open(os.path.join(path,f)) as t:\n",
    "                    text = t.read().strip('\\n')\n",
    "                    tokens = tokenize(text)\n",
    "                yield tokens"
   ]
  },
  {
   "cell_type": "code",
   "execution_count": 19,
   "metadata": {},
   "outputs": [],
   "source": [
    "streaming_data = doc_stream(path)"
   ]
  },
  {
   "cell_type": "code",
   "execution_count": 20,
   "metadata": {},
   "outputs": [
    {
     "data": {
      "text/plain": [
       "generator"
      ]
     },
     "execution_count": 20,
     "metadata": {},
     "output_type": "execute_result"
    }
   ],
   "source": [
    "type(streaming_data)"
   ]
  },
  {
   "cell_type": "code",
   "execution_count": 21,
   "metadata": {},
   "outputs": [],
   "source": [
    "# gather_data => returns a list\n",
    "# doc_stream => returns a generator"
   ]
  },
  {
   "cell_type": "code",
   "execution_count": null,
   "metadata": {},
   "outputs": [],
   "source": [
    "next(streaming_data) # Returns one document at a time from the generator"
   ]
  },
  {
   "cell_type": "markdown",
   "metadata": {},
   "source": [
    "### Gensim LDA Topic Modeling"
   ]
  },
  {
   "cell_type": "code",
   "execution_count": 23,
   "metadata": {},
   "outputs": [],
   "source": [
    "# A Dictionary Representation of all the words in our corpus\n",
    "id2word = corpora.Dictionary(doc_stream(path))"
   ]
  },
  {
   "cell_type": "code",
   "execution_count": 24,
   "metadata": {},
   "outputs": [
    {
     "data": {
      "text/plain": [
       "1368"
      ]
     },
     "execution_count": 24,
     "metadata": {},
     "output_type": "execute_result"
    }
   ],
   "source": [
    "id2word.token2id['england']"
   ]
  },
  {
   "cell_type": "code",
   "execution_count": 26,
   "metadata": {},
   "outputs": [
    {
     "data": {
      "text/plain": [
       "[(49, 1), (476, 1), (1368, 3), (13639, 1)]"
      ]
     },
     "execution_count": 26,
     "metadata": {},
     "output_type": "execute_result"
    }
   ],
   "source": [
    "id2word.doc2bow(tokenize(\"This is a sample message Darcy England England England\"))"
   ]
  },
  {
   "cell_type": "code",
   "execution_count": 27,
   "metadata": {},
   "outputs": [
    {
     "name": "stdout",
     "output_type": "stream",
     "text": [
      "56\n",
      "7056\n"
     ]
    }
   ],
   "source": [
    "import sys\n",
    "print(sys.getsizeof(id2word))\n",
    "print(sys.getsizeof(tokens))"
   ]
  },
  {
   "cell_type": "code",
   "execution_count": 28,
   "metadata": {},
   "outputs": [
    {
     "data": {
      "text/plain": [
       "22095"
      ]
     },
     "execution_count": 28,
     "metadata": {},
     "output_type": "execute_result"
    }
   ],
   "source": [
    "len(id2word.keys())"
   ]
  },
  {
   "cell_type": "code",
   "execution_count": 29,
   "metadata": {},
   "outputs": [],
   "source": [
    "# Let's remove extreme values from the dataset\n",
    "id2word.filter_extremes(no_below=5, no_above=0.95)"
   ]
  },
  {
   "cell_type": "code",
   "execution_count": 30,
   "metadata": {},
   "outputs": [
    {
     "data": {
      "text/plain": [
       "8102"
      ]
     },
     "execution_count": 30,
     "metadata": {},
     "output_type": "execute_result"
    }
   ],
   "source": [
    "len(id2word.keys())"
   ]
  },
  {
   "cell_type": "code",
   "execution_count": 31,
   "metadata": {},
   "outputs": [],
   "source": [
    "# a bag of words(bow) representation of our corpus\n",
    "# Note: we haven't actually read any text into memory here\n",
    "# Although abstracted away - tokenization IS happening in the doc_stream f(x)\n",
    "corpus = [id2word.doc2bow(text) for text in doc_stream(path)]"
   ]
  },
  {
   "cell_type": "code",
   "execution_count": 33,
   "metadata": {},
   "outputs": [
    {
     "data": {
      "text/plain": [
       "[(8, 1),\n",
       " (18, 1),\n",
       " (34, 1),\n",
       " (40, 1),\n",
       " (55, 1),\n",
       " (59, 2),\n",
       " (61, 1),\n",
       " (68, 1),\n",
       " (71, 1),\n",
       " (74, 1)]"
      ]
     },
     "execution_count": 33,
     "metadata": {},
     "output_type": "execute_result"
    }
   ],
   "source": [
    "corpus[345][:10]"
   ]
  },
  {
   "cell_type": "code",
   "execution_count": 64,
   "metadata": {},
   "outputs": [],
   "source": [
    "lda = LdaMulticore(corpus=corpus,\n",
    "                   id2word=id2word,\n",
    "                   random_state=723812,\n",
    "                   num_topics = 15,\n",
    "                   passes=10,\n",
    "                   workers=12\n",
    "                  )"
   ]
  },
  {
   "cell_type": "code",
   "execution_count": 65,
   "metadata": {},
   "outputs": [
    {
     "data": {
      "text/plain": [
       "[(0,\n",
       "  '0.010*\"harriet\" + 0.010*\"miss\" + 0.007*\"elton\" + 0.006*\"emma\" + 0.005*\"scatcherd\" + 0.005*\"burns\" + 0.005*\"good\" + 0.005*\"thought\" + 0.004*\"read\" + 0.004*\"day\"'),\n",
       " (1,\n",
       "  '0.022*\"elinor\" + 0.018*\"marianne\" + 0.009*\"sister\" + 0.009*\"edward\" + 0.008*\"dashwood\" + 0.008*\"mother\" + 0.007*\"jennings\" + 0.007*\"willoughby\" + 0.006*\"time\" + 0.006*\"lucy\"'),\n",
       " (2,\n",
       "  '0.025*\"harriet\" + 0.019*\"elton\" + 0.017*\"miss\" + 0.016*\"emma\" + 0.011*\"jane\" + 0.009*\"woodhouse\" + 0.008*\"think\" + 0.007*\"dear\" + 0.007*\"oh\" + 0.007*\"thing\"'),\n",
       " (3,\n",
       "  '0.023*\"sir\" + 0.020*\"jane\" + 0.016*\"rochester\" + 0.008*\"shall\" + 0.006*\"love\" + 0.006*\"mason\" + 0.006*\"yes\" + 0.005*\"like\" + 0.004*\"look\" + 0.004*\"little\"'),\n",
       " (4,\n",
       "  '0.009*\"john\" + 0.007*\"little\" + 0.006*\"know\" + 0.005*\"like\" + 0.005*\"good\" + 0.005*\"st\" + 0.005*\"think\" + 0.004*\"tell\" + 0.004*\"dr\" + 0.004*\"come\"'),\n",
       " (5,\n",
       "  '0.009*\"jane\" + 0.009*\"elizabeth\" + 0.007*\"miss\" + 0.007*\"bingley\" + 0.007*\"sister\" + 0.006*\"soon\" + 0.006*\"darcy\" + 0.005*\"lady\" + 0.004*\"happy\" + 0.004*\"hope\"'),\n",
       " (6,\n",
       "  '0.012*\"emma\" + 0.010*\"miss\" + 0.007*\"thing\" + 0.007*\"know\" + 0.007*\"think\" + 0.007*\"weston\" + 0.007*\"little\" + 0.006*\"good\" + 0.005*\"knightley\" + 0.005*\"great\"'),\n",
       " (7,\n",
       "  '0.007*\"jane\" + 0.006*\"know\" + 0.006*\"man\" + 0.006*\"good\" + 0.005*\"miss\" + 0.004*\"heart\" + 0.004*\"think\" + 0.004*\"life\" + 0.003*\"like\" + 0.003*\"mind\"'),\n",
       " (8,\n",
       "  '0.016*\"elizabeth\" + 0.010*\"darcy\" + 0.008*\"bennet\" + 0.007*\"bingley\" + 0.007*\"jane\" + 0.006*\"miss\" + 0.005*\"know\" + 0.005*\"sister\" + 0.005*\"wickham\" + 0.005*\"soon\"'),\n",
       " (9,\n",
       "  '0.006*\"little\" + 0.005*\"house\" + 0.005*\"time\" + 0.005*\"day\" + 0.005*\"room\" + 0.004*\"like\" + 0.004*\"looked\" + 0.004*\"long\" + 0.003*\"thought\" + 0.003*\"miss\"'),\n",
       " (10,\n",
       "  '0.013*\"bessie\" + 0.012*\"reed\" + 0.006*\"john\" + 0.006*\"georgiana\" + 0.006*\"like\" + 0.005*\"mother\" + 0.005*\"sisters\" + 0.005*\"little\" + 0.004*\"pounds\" + 0.004*\"school\"'),\n",
       " (11,\n",
       "  '0.006*\"like\" + 0.005*\"hunsden\" + 0.005*\"good\" + 0.005*\"little\" + 0.004*\"thought\" + 0.004*\"frances\" + 0.004*\"know\" + 0.004*\"day\" + 0.004*\"man\" + 0.004*\"time\"'),\n",
       " (12,\n",
       "  '0.007*\"like\" + 0.006*\"night\" + 0.005*\"rochester\" + 0.004*\"door\" + 0.004*\"come\" + 0.004*\"thought\" + 0.004*\"saw\" + 0.004*\"little\" + 0.004*\"long\" + 0.004*\"room\"'),\n",
       " (13,\n",
       "  '0.008*\"little\" + 0.006*\"like\" + 0.004*\"madame\" + 0.004*\"thought\" + 0.004*\"hand\" + 0.004*\"know\" + 0.003*\"good\" + 0.003*\"time\" + 0.003*\"long\" + 0.003*\"eyes\"'),\n",
       " (14,\n",
       "  '0.025*\"graham\" + 0.016*\"polly\" + 0.010*\"bretton\" + 0.009*\"little\" + 0.007*\"sir\" + 0.007*\"think\" + 0.007*\"day\" + 0.006*\"like\" + 0.006*\"snowe\" + 0.006*\"long\"')]"
      ]
     },
     "execution_count": 65,
     "metadata": {},
     "output_type": "execute_result"
    }
   ],
   "source": [
    "lda.print_topics()"
   ]
  },
  {
   "cell_type": "code",
   "execution_count": 66,
   "metadata": {},
   "outputs": [],
   "source": [
    "words = [re.findall(r'\"([^\"]*)\"',t[1]) for t in lda.print_topics()]"
   ]
  },
  {
   "cell_type": "code",
   "execution_count": 67,
   "metadata": {},
   "outputs": [],
   "source": [
    "topics = [' '.join(t[0:5]) for t in words]"
   ]
  },
  {
   "cell_type": "code",
   "execution_count": 68,
   "metadata": {},
   "outputs": [
    {
     "data": {
      "text/plain": [
       "['harriet miss elton emma scatcherd',\n",
       " 'elinor marianne sister edward dashwood',\n",
       " 'harriet elton miss emma jane',\n",
       " 'sir jane rochester shall love',\n",
       " 'john little know like good',\n",
       " 'jane elizabeth miss bingley sister',\n",
       " 'emma miss thing know think',\n",
       " 'jane know man good miss',\n",
       " 'elizabeth darcy bennet bingley jane',\n",
       " 'little house time day room',\n",
       " 'bessie reed john georgiana like',\n",
       " 'like hunsden good little thought',\n",
       " 'like night rochester door come',\n",
       " 'little like madame thought hand',\n",
       " 'graham polly bretton little sir']"
      ]
     },
     "execution_count": 68,
     "metadata": {},
     "output_type": "execute_result"
    }
   ],
   "source": [
    "topics"
   ]
  },
  {
   "cell_type": "code",
   "execution_count": 73,
   "metadata": {},
   "outputs": [
    {
     "data": {
      "text/plain": [
       "(0,\n",
       " '0.010*\"harriet\" + 0.010*\"miss\" + 0.007*\"elton\" + 0.006*\"emma\" + 0.005*\"scatcherd\" + 0.005*\"burns\" + 0.005*\"good\" + 0.005*\"thought\" + 0.004*\"read\" + 0.004*\"day\"')"
      ]
     },
     "execution_count": 73,
     "metadata": {},
     "output_type": "execute_result"
    }
   ],
   "source": [
    "lda.print_topics()[0]"
   ]
  },
  {
   "cell_type": "code",
   "execution_count": 38,
   "metadata": {},
   "outputs": [
    {
     "name": "stdout",
     "output_type": "stream",
     "text": [
      "------ Topic 0 ------\n",
      "harriet miss elton emma scatcherd\n",
      "\n",
      "------ Topic 1 ------\n",
      "elinor marianne sister edward dashwood\n",
      "\n",
      "------ Topic 2 ------\n",
      "harriet elton miss emma jane\n",
      "\n",
      "------ Topic 3 ------\n",
      "sir jane rochester shall love\n",
      "\n",
      "------ Topic 4 ------\n",
      "john little know like good\n",
      "\n",
      "------ Topic 5 ------\n",
      "jane elizabeth miss bingley sister\n",
      "\n",
      "------ Topic 6 ------\n",
      "emma miss thing know think\n",
      "\n",
      "------ Topic 7 ------\n",
      "jane know man good miss\n",
      "\n",
      "------ Topic 8 ------\n",
      "elizabeth darcy bennet bingley jane\n",
      "\n",
      "------ Topic 9 ------\n",
      "little house time day room\n",
      "\n",
      "------ Topic 10 ------\n",
      "bessie reed john georgiana like\n",
      "\n",
      "------ Topic 11 ------\n",
      "like hunsden good little thought\n",
      "\n",
      "------ Topic 12 ------\n",
      "like night rochester door come\n",
      "\n",
      "------ Topic 13 ------\n",
      "little like madame thought hand\n",
      "\n",
      "------ Topic 14 ------\n",
      "graham polly bretton little sir\n",
      "\n"
     ]
    }
   ],
   "source": [
    "for id, t in enumerate(topics): \n",
    "    print(f\"------ Topic {id} ------\")\n",
    "    print(t, end=\"\\n\\n\")"
   ]
  },
  {
   "cell_type": "markdown",
   "metadata": {},
   "source": [
    "## Challenge \n",
    "\n",
    "You will apply an LDA model to a customer review dataset to practice the fitting and estimation of LDA. "
   ]
  },
  {
   "cell_type": "markdown",
   "metadata": {},
   "source": [
    "# Interpret LDA Results (Learn)\n",
    "<a id=\"#p3\"></a>"
   ]
  },
  {
   "cell_type": "markdown",
   "metadata": {},
   "source": [
    "## Overview"
   ]
  },
  {
   "cell_type": "markdown",
   "metadata": {
    "toc-hr-collapsed": true
   },
   "source": [
    "## Follow Along"
   ]
  },
  {
   "cell_type": "markdown",
   "metadata": {},
   "source": [
    "### Topic Distance Visualization"
   ]
  },
  {
   "cell_type": "code",
   "execution_count": 39,
   "metadata": {},
   "outputs": [],
   "source": [
    "import pyLDAvis.gensim\n",
    "\n",
    "pyLDAvis.enable_notebook()"
   ]
  },
  {
   "cell_type": "code",
   "execution_count": 40,
   "metadata": {},
   "outputs": [
    {
     "data": {
      "text/html": [
       "\n",
       "<link rel=\"stylesheet\" type=\"text/css\" href=\"https://cdn.rawgit.com/bmabey/pyLDAvis/files/ldavis.v1.0.0.css\">\n",
       "\n",
       "\n",
       "<div id=\"ldavis_el35181401043244228969464827835\"></div>\n",
       "<script type=\"text/javascript\">\n",
       "\n",
       "var ldavis_el35181401043244228969464827835_data = {\"mdsDat\": {\"x\": [-0.07695042850186452, 0.10896431154479148, 0.11981303914304263, -0.11399176988676948, 0.11848093356785605, -0.0516763822277556, -0.10700746630386607, -0.04235505372937205, 0.12366578505293147, -0.07840321942290641, -0.042691504824007985, -0.0032575528355658794, 0.09303949443652959, -0.06888508385390799, 0.021254897840865004], \"y\": [0.016632525593749906, 0.004955462539005173, -0.040144009846144885, -0.02989389900266095, -0.07061930097980648, -0.014619180626742542, -0.0025383027008382283, -0.02589502115564776, 0.03207286398396873, -0.08080976712818756, -0.04080720664691194, -0.007386704122630311, 0.012019104177002318, 0.11151507148046351, 0.1355183644353812], \"topics\": [1, 2, 3, 4, 5, 6, 7, 8, 9, 10, 11, 12, 13, 14, 15], \"cluster\": [1, 1, 1, 1, 1, 1, 1, 1, 1, 1, 1, 1, 1, 1, 1], \"Freq\": [18.2929744720459, 17.964881896972656, 12.176671981811523, 10.529462814331055, 10.00598430633545, 8.847969055175781, 5.772342681884766, 4.922863960266113, 3.4376039505004883, 3.277902603149414, 2.121842384338379, 1.2369792461395264, 0.5597856640815735, 0.4780931770801544, 0.3746350407600403]}, \"tinfo\": {\"Term\": [\"emma\", \"miss\", \"elizabeth\", \"elinor\", \"jane\", \"harriet\", \"marianne\", \"sir\", \"elton\", \"darcy\", \"little\", \"think\", \"graham\", \"sister\", \"bingley\", \"rochester\", \"thought\", \"like\", \"good\", \"day\", \"bennet\", \"thing\", \"know\", \"knightley\", \"bretton\", \"woodhouse\", \"shall\", \"weston\", \"long\", \"john\", \"zelie\", \"cela\", \"isidore\", \"bouquet\", \"oui\", \"je\", \"lowton\", \"moi\", \"ce\", \"pierre\", \"dit\", \"grec\", \"votre\", \"estrade\", \"que\", \"eulalie\", \"underwent\", \"quel\", \"belle\", \"thimble\", \"jeunes\", \"violets\", \"pas\", \"coquette\", \"athenee\", \"bah\", \"nous\", \"plainness\", \"donc\", \"causeway\", \"les\", \"classe\", \"emanuel\", \"mais\", \"est\", \"une\", \"paul\", \"vous\", \"et\", \"doll\", \"la\", \"ginevra\", \"fanshawe\", \"rosine\", \"tout\", \"bien\", \"petite\", \"monsieur\", \"madame\", \"mademoiselle\", \"brocklehurst\", \"pupils\", \"bassompierre\", \"dr\", \"beck\", \"graham\", \"bretton\", \"little\", \"hand\", \"like\", \"papa\", \"lucy\", \"dress\", \"eyes\", \"eye\", \"face\", \"thought\", \"look\", \"knew\", \"heart\", \"long\", \"night\", \"know\", \"good\", \"life\", \"time\", \"came\", \"day\", \"think\", \"looked\", \"miss\", \"room\", \"half\", \"man\", \"felt\", \"taylor\", \"weymouth\", \"donwell\", \"pianoforte\", \"churchills\", \"isabella\", \"larkins\", \"richmond\", \"westons\", \"brunswick\", \"weston\", \"selina\", \"surry\", \"lament\", \"maple\", \"cox\", \"enscombe\", \"martins\", \"friendliness\", \"randalls\", \"coxcomb\", \"drawback\", \"unwell\", \"representing\", \"affectedly\", \"bateses\", \"promoting\", \"boarder\", \"churchill\", \"yawned\", \"knightley\", \"emma\", \"martin\", \"henry\", \"abbey\", \"frank\", \"highbury\", \"hartfield\", \"perry\", \"woodhouse\", \"chuse\", \"body\", \"thing\", \"bates\", \"goddard\", \"miss\", \"dixon\", \"smith\", \"fairfax\", \"father\", \"harriet\", \"sure\", \"dear\", \"great\", \"think\", \"know\", \"friend\", \"elton\", \"good\", \"young\", \"little\", \"poor\", \"soon\", \"man\", \"time\", \"better\", \"shall\", \"oh\", \"day\", \"like\", \"thought\", \"come\", \"jane\", \"lydia\", \"bennet\", \"gardiner\", \"rosings\", \"meryton\", \"forster\", \"wickham\", \"collins\", \"lizzy\", \"elizabeth\", \"derbyshire\", \"pemberley\", \"brighton\", \"darcy\", \"hunsford\", \"bourgh\", \"bingley\", \"longbourn\", \"officers\", \"denny\", \"judgement\", \"kent\", \"lucas\", \"hurst\", \"hertfordshire\", \"lambton\", \"kitty\", \"catherine\", \"jenkinson\", \"gracechurch\", \"netherfield\", \"fitzwilliam\", \"phillips\", \"ladyship\", \"charlotte\", \"regiment\", \"family\", \"sister\", \"jane\", \"lady\", \"aunt\", \"soon\", \"miss\", \"father\", \"know\", \"dear\", \"think\", \"time\", \"good\", \"mother\", \"room\", \"shall\", \"man\", \"little\", \"young\", \"day\", \"great\", \"away\", \"way\", \"eshton\", \"royal\", \"whitcross\", \"amy\", \"stile\", \"ghostly\", \"luggage\", \"paved\", \"pilot\", \"rats\", \"pinions\", \"rains\", \"lynn\", \"tinted\", \"celine\", \"varens\", \"dent\", \"crabbed\", \"rays\", \"refreshed\", \"attic\", \"grenier\", \"tempest\", \"hamlet\", \"rebuff\", \"wakened\", \"mused\", \"ruffled\", \"streamed\", \"walravens\", \"hay\", \"ingram\", \"city\", \"moon\", \"adele\", \"justine\", \"inn\", \"rochester\", \"sky\", \"thornfield\", \"curtain\", \"trunk\", \"night\", \"black\", \"dim\", \"gates\", \"door\", \"lit\", \"dark\", \"like\", \"strange\", \"chamber\", \"road\", \"saw\", \"come\", \"heard\", \"eyes\", \"white\", \"near\", \"master\", \"looked\", \"came\", \"light\", \"long\", \"old\", \"room\", \"thought\", \"stood\", \"fairfax\", \"round\", \"hand\", \"day\", \"little\", \"way\", \"house\", \"went\", \"shall\", \"good\", \"know\", \"time\", \"left\", \"think\", \"voice\", \"marianne\", \"willoughby\", \"elinor\", \"brandon\", \"barton\", \"jennings\", \"delaford\", \"margaret\", \"ferrars\", \"dashwood\", \"norland\", \"cleveland\", \"berkeley\", \"devonshire\", \"middletons\", \"dashwoods\", \"combe\", \"palmers\", \"fanny\", \"middleton\", \"somersetshire\", \"longstaple\", \"allenham\", \"enquire\", \"plymouth\", \"harley\", \"bartlett\", \"magna\", \"sussex\", \"enquiry\", \"edward\", \"steele\", \"palmer\", \"cottage\", \"steeles\", \"colonel\", \"sister\", \"lucy\", \"mother\", \"engagement\", \"behaviour\", \"town\", \"time\", \"john\", \"heart\", \"soon\", \"house\", \"affection\", \"lady\", \"think\", \"thing\", \"know\", \"mind\", \"felt\", \"day\", \"good\", \"saw\", \"left\", \"away\", \"little\", \"shall\", \"hunsden\", \"frances\", \"seacombe\", \"swiss\", \"yorke\", \"vandenhuten\", \"crimsworth\", \"tynedale\", \"bigben\", \"shadowed\", \"flamand\", \"irritating\", \"switzerland\", \"allez\", \"belgian\", \"wider\", \"european\", \"eton\", \"patrician\", \"enthusiasm\", \"nation\", \"pelet\", \"brussels\", \"whip\", \"mender\", \"lad\", \"flemish\", \"constraint\", \"profitable\", \"aristocratic\", \"tradesman\", \"uncles\", \"zoraide\", \"masters\", \"victor\", \"salary\", \"mdlle\", \"reuter\", \"english\", \"henri\", \"counting\", \"french\", \"brown\", \"monsieur\", \"tyrant\", \"features\", \"like\", \"thought\", \"eye\", \"face\", \"good\", \"man\", \"day\", \"england\", \"little\", \"looking\", \"know\", \"old\", \"time\", \"house\", \"took\", \"saw\", \"life\", \"work\", \"madame\", \"way\", \"eyes\", \"heart\", \"think\", \"long\", \"mind\", \"shall\", \"miller\", \"ann\", \"tinged\", \"summits\", \"carpeted\", \"faubourg\", \"rubbed\", \"curl\", \"freshly\", \"carpets\", \"lulled\", \"spotless\", \"tract\", \"potatoes\", \"ranged\", \"mirrors\", \"sloping\", \"misty\", \"lilies\", \"dusty\", \"mug\", \"monitor\", \"gardens\", \"eighty\", \"pasture\", \"assemblage\", \"swung\", \"winding\", \"damask\", \"cushioned\", \"pot\", \"mist\", \"meadow\", \"walls\", \"crimson\", \"plants\", \"hearth\", \"white\", \"garden\", \"blue\", \"furniture\", \"beds\", \"wood\", \"wide\", \"high\", \"building\", \"satin\", \"house\", \"lowood\", \"flowers\", \"temple\", \"schoolroom\", \"dark\", \"afternoon\", \"bretton\", \"wall\", \"shade\", \"room\", \"black\", \"day\", \"looked\", \"little\", \"sun\", \"time\", \"bright\", \"door\", \"round\", \"long\", \"far\", \"like\", \"light\", \"large\", \"table\", \"thought\", \"great\", \"eyes\", \"old\", \"saw\", \"miss\", \"rose\", \"came\", \"seen\", \"lady\", \"good\", \"place\", \"went\", \"india\", \"disapproved\", \"fruitless\", \"fifine\", \"confidences\", \"abandon\", \"sire\", \"spasm\", \"hannah\", \"toast\", \"oblivion\", \"prohibited\", \"marchmont\", \"spectre\", \"spoiling\", \"clapped\", \"treble\", \"practising\", \"medicine\", \"franc\", \"temperature\", \"coarsely\", \"admirably\", \"distraction\", \"atone\", \"diana\", \"perished\", \"wouldn\", \"unmarried\", \"pieces\", \"rivers\", \"st\", \"dr\", \"scotch\", \"john\", \"marsh\", \"bretton\", \"mary\", \"mamma\", \"god\", \"tell\", \"graham\", \"patient\", \"madame\", \"hand\", \"loved\", \"little\", \"know\", \"come\", \"heart\", \"spoke\", \"night\", \"left\", \"like\", \"good\", \"words\", \"think\", \"speak\", \"yes\", \"lucy\", \"thought\", \"love\", \"long\", \"life\", \"time\", \"took\", \"eyes\", \"house\", \"saw\", \"looked\", \"man\", \"shall\", \"jane\", \"patty\", \"nash\", \"hawkins\", \"rivet\", \"charade\", \"eltons\", \"matches\", \"disparity\", \"ford\", \"gipsies\", \"grandmama\", \"vicarage\", \"elton\", \"harriet\", \"negligent\", \"baked\", \"creating\", \"transition\", \"prose\", \"elegantly\", \"bragge\", \"elevation\", \"apples\", \"kings\", \"cotton\", \"spectacles\", \"job\", \"counteract\", \"pert\", \"disgraced\", \"symptoms\", \"exploring\", \"bates\", \"cole\", \"woodhouse\", \"shew\", \"smith\", \"emma\", \"hartfield\", \"fairfax\", \"knightley\", \"miss\", \"jane\", \"superior\", \"oh\", \"dear\", \"body\", \"thing\", \"churchill\", \"think\", \"extremely\", \"shall\", \"perry\", \"good\", \"frank\", \"know\", \"mind\", \"friend\", \"thought\", \"great\", \"woman\", \"sure\", \"man\", \"time\", \"little\", \"soon\", \"like\", \"mason\", \"bertha\", \"jamaica\", \"janet\", \"impediment\", \"poole\", \"maniac\", \"workings\", \"swear\", \"carter\", \"bloody\", \"chestnut\", \"lunatic\", \"richard\", \"orchard\", \"inarticulate\", \"briggs\", \"scorched\", \"witch\", \"corpse\", \"reminiscences\", \"laurel\", \"disk\", \"storey\", \"beast\", \"bends\", \"indies\", \"hideous\", \"banker\", \"assign\", \"rochester\", \"sir\", \"thornfield\", \"sophie\", \"jane\", \"devil\", \"adele\", \"ll\", \"eyre\", \"mad\", \"yonder\", \"grace\", \"shall\", \"love\", \"yes\", \"ingram\", \"god\", \"wild\", \"hall\", \"water\", \"look\", \"wife\", \"fairfax\", \"face\", \"heard\", \"leave\", \"like\", \"thought\", \"heart\", \"come\", \"know\", \"room\", \"little\", \"night\", \"think\", \"long\", \"time\", \"away\", \"good\", \"hand\", \"abbot\", \"bessie\", \"missis\", \"georgiana\", \"reed\", \"lloyd\", \"gateshead\", \"degraded\", \"funeral\", \"enlarged\", \"coarseness\", \"germs\", \"bluntly\", \"punished\", \"sum\", \"population\", \"eliza\", \"scholars\", \"orphan\", \"pencils\", \"sarah\", \"coast\", \"sewing\", \"regions\", \"carlo\", \"fulfil\", \"embers\", \"lend\", \"paintings\", \"exit\", \"discharging\", \"perused\", \"ridge\", \"diana\", \"pounds\", \"mama\", \"despise\", \"rivers\", \"sisters\", \"nursery\", \"thousand\", \"school\", \"children\", \"money\", \"child\", \"mary\", \"aunt\", \"john\", \"henri\", \"mother\", \"died\", \"mdlle\", \"like\", \"father\", \"live\", \"poor\", \"little\", \"thought\", \"yes\", \"half\", \"time\", \"day\", \"room\", \"soon\", \"long\", \"good\", \"soldier\", \"vouch\", \"missionary\", \"rosamond\", \"usage\", \"trample\", \"assertions\", \"confiding\", \"gross\", \"punish\", \"hazarded\", \"copied\", \"contains\", \"bodies\", \"reserves\", \"christ\", \"wearied\", \"bondage\", \"leafless\", \"superstitious\", \"shores\", \"idleness\", \"defect\", \"oriental\", \"overbearing\", \"eyed\", \"fairest\", \"vices\", \"maker\", \"virtually\", \"oliver\", \"collecting\", \"faulty\", \"helen\", \"guilt\", \"beings\", \"descent\", \"human\", \"alluded\", \"pity\", \"union\", \"jane\", \"wicked\", \"st\", \"repeat\", \"man\", \"know\", \"heart\", \"good\", \"god\", \"hate\", \"life\", \"hard\", \"words\", \"miss\", \"wife\", \"mind\", \"think\", \"feel\", \"power\", \"read\", \"love\", \"john\", \"like\", \"world\", \"far\", \"long\", \"tell\", \"time\", \"heard\", \"little\", \"saw\", \"day\", \"embracing\", \"wednesday\", \"ingenuity\", \"rated\", \"philanthropist\", \"thanking\", \"rubber\", \"rationally\", \"exceed\", \"admires\", \"inattention\", \"doctrine\", \"avowed\", \"expects\", \"print\", \"shan\", \"reserves\", \"befall\", \"authors\", \"lamenting\", \"limit\", \"humbug\", \"thoughtlessness\", \"pledged\", \"stated\", \"sufferer\", \"reliance\", \"originated\", \"execution\", \"mistakes\", \"congratulations\", \"reserved\", \"speedy\", \"admirable\", \"tis\", \"animation\", \"happiest\", \"caroline\", \"disapprobation\", \"bingley\", \"catherine\", \"lucas\", \"netherfield\", \"strangers\", \"elizabeth\", \"darcy\", \"frequently\", \"jane\", \"sister\", \"likely\", \"happiness\", \"longbourn\", \"soon\", \"happy\", \"delight\", \"lady\", \"miss\", \"laugh\", \"hope\", \"love\", \"means\", \"collins\", \"dear\", \"bennet\", \"answer\", \"replied\", \"great\", \"thought\", \"know\", \"hear\", \"time\", \"subject\", \"pleasure\", \"believe\", \"away\", \"family\", \"think\", \"polly\", \"pony\", \"aloft\", \"pet\", \"cushion\", \"graham\", \"repulse\", \"snowe\", \"groaned\", \"dealt\", \"appealing\", \"pathos\", \"amuses\", \"skies\", \"incurring\", \"coaxing\", \"punished\", \"hast\", \"confidante\", \"unclose\", \"couldn\", \"infant\", \"fret\", \"delicately\", \"glittered\", \"breaks\", \"heiress\", \"tenor\", \"scores\", \"covet\", \"ride\", \"warren\", \"rash\", \"bretton\", \"quivering\", \"learning\", \"retreated\", \"papa\", \"bassompierre\", \"paulina\", \"sir\", \"dr\", \"refused\", \"grew\", \"remarked\", \"carpet\", \"touch\", \"suggested\", \"boy\", \"little\", \"day\", \"think\", \"child\", \"long\", \"like\", \"send\", \"thought\", \"breakfast\", \"look\", \"shall\", \"father\", \"girl\", \"evening\", \"eye\", \"face\", \"miss\", \"home\", \"way\", \"come\", \"better\", \"know\", \"mother\", \"scatcherd\", \"bristol\", \"burns\", \"imagining\", \"uproar\", \"comprehending\", \"stimulate\", \"saddened\", \"philosophic\", \"repetitions\", \"unfair\", \"fender\", \"ireland\", \"landed\", \"bunch\", \"administer\", \"attorney\", \"dubious\", \"dangers\", \"inconsiderable\", \"pretension\", \"dislikes\", \"dispense\", \"hawkins\", \"mistakes\", \"humiliation\", \"ominous\", \"devise\", \"fraction\", \"addresses\", \"connexion\", \"desiring\", \"dixon\", \"list\", \"feature\", \"harriet\", \"elton\", \"vicarage\", \"helen\", \"moderate\", \"cure\", \"expecting\", \"miss\", \"bear\", \"lowood\", \"highbury\", \"wind\", \"read\", \"martin\", \"emma\", \"girl\", \"agitation\", \"thought\", \"good\", \"praise\", \"thing\", \"day\", \"place\", \"usual\", \"mind\", \"away\", \"certainly\", \"ready\", \"love\", \"great\", \"little\", \"come\", \"home\", \"think\", \"young\"], \"Freq\": [836.0, 1508.0, 643.0, 703.0, 914.0, 492.0, 581.0, 601.0, 363.0, 413.0, 1714.0, 1305.0, 212.0, 590.0, 303.0, 362.0, 1133.0, 1323.0, 1345.0, 1053.0, 323.0, 783.0, 1428.0, 378.0, 233.0, 302.0, 923.0, 430.0, 934.0, 619.0, 16.735240936279297, 18.41264533996582, 22.797584533691406, 12.698648452758789, 14.497113227844238, 66.0456771850586, 10.792147636413574, 23.217823028564453, 47.85834503173828, 28.85044288635254, 11.669352531433105, 13.452784538269043, 11.63073444366455, 34.861785888671875, 58.09162521362305, 13.329911231994629, 9.744329452514648, 8.813255310058594, 13.244112014770508, 8.79304027557373, 10.56842041015625, 8.780259132385254, 54.72810745239258, 8.762845993041992, 8.710914611816406, 7.822427272796631, 7.817759990692139, 6.896827697753906, 19.114294052124023, 6.894122123718262, 34.785675048828125, 56.187477111816406, 94.61972045898438, 27.8481388092041, 95.23038482666016, 33.53942108154297, 154.75987243652344, 100.54489135742188, 72.91219329833984, 18.958621978759766, 85.43916320800781, 88.02334594726562, 69.41087341308594, 30.028133392333984, 24.81924819946289, 38.456058502197266, 20.98779296875, 169.2699737548828, 232.3099822998047, 79.00938415527344, 41.30573272705078, 96.56787872314453, 51.61893081665039, 126.45767974853516, 97.06011962890625, 114.46153259277344, 112.34456634521484, 442.6330261230469, 217.5406494140625, 326.63018798828125, 83.1879653930664, 133.2716827392578, 79.26410675048828, 177.07156372070312, 132.49119567871094, 144.70556640625, 222.93080139160156, 155.69287109375, 143.6065216064453, 153.7307891845703, 179.49395751953125, 149.1141357421875, 205.39517211914062, 191.73204040527344, 138.55838012695312, 181.83555603027344, 146.09756469726562, 163.5710906982422, 171.9027099609375, 143.38388061523438, 174.11988830566406, 148.01405334472656, 135.64219665527344, 134.15638732910156, 127.83788299560547, 48.56538772583008, 17.555654525756836, 45.88234329223633, 31.19989776611328, 14.646987915039062, 63.731353759765625, 12.693182945251465, 12.68514633178711, 10.781720161437988, 10.769082069396973, 396.84283447265625, 9.801015853881836, 8.842191696166992, 8.658050537109375, 27.79163360595703, 7.782161712646484, 31.751649856567383, 11.693033218383789, 6.757744312286377, 77.10208129882812, 5.860146999359131, 6.566498756408691, 10.57736873626709, 6.622157096862793, 4.934839248657227, 4.935429573059082, 4.89249324798584, 4.899032115936279, 184.10240173339844, 4.880827903747559, 307.9053039550781, 655.85595703125, 67.27059936523438, 25.87761116027832, 25.37651824951172, 184.1124267578125, 94.67729187011719, 115.61067199707031, 59.09589767456055, 207.49024963378906, 24.522022247314453, 170.96929931640625, 418.72943115234375, 94.33514404296875, 41.83922576904297, 586.6443481445312, 31.0317440032959, 67.15959167480469, 172.65660095214844, 218.2423858642578, 206.77813720703125, 238.3204345703125, 227.41172790527344, 290.4530029296875, 399.28936767578125, 408.9343566894531, 173.87185668945312, 150.20162963867188, 363.4499206542969, 223.09739685058594, 383.7989196777344, 152.27615356445312, 248.91519165039062, 240.61602783203125, 286.4471435546875, 181.87503051757812, 210.5799560546875, 168.9461669921875, 212.5946502685547, 221.5604705810547, 207.9910125732422, 188.7928466796875, 174.96771240234375, 168.06544494628906, 315.4973449707031, 93.74726867675781, 48.751224517822266, 56.59516525268555, 38.92776870727539, 189.21142578125, 173.215576171875, 93.68473052978516, 614.4647216796875, 23.908912658691406, 51.40476989746094, 23.890392303466797, 393.4947509765625, 24.64820098876953, 37.589080810546875, 286.24365234375, 82.3318099975586, 30.885896682739258, 12.052186012268066, 11.053479194641113, 13.819596290588379, 63.845069885253906, 34.01356887817383, 37.54193878173828, 10.006447792053223, 67.68548583984375, 117.02692413330078, 9.071222305297852, 9.0532808303833, 65.4395751953125, 32.84532928466797, 28.10304069519043, 45.9691047668457, 85.52418518066406, 22.726455688476562, 151.46548461914062, 191.28427124023438, 253.0510711669922, 182.80706787109375, 79.6861801147461, 186.69992065429688, 240.2742156982422, 130.60047912597656, 200.7985076904297, 128.7957000732422, 184.00543212890625, 182.20989990234375, 181.5706787109375, 131.2900848388672, 140.5417022705078, 141.7288055419922, 139.9598846435547, 167.54322814941406, 121.05887603759766, 134.09780883789062, 120.05036163330078, 102.67455291748047, 101.44591522216797, 28.165328979492188, 9.912400245666504, 9.80009937286377, 9.700589179992676, 13.077573776245117, 6.910114765167236, 6.827215194702148, 5.937816143035889, 21.366884231567383, 6.7739176750183105, 5.025755405426025, 5.014484405517578, 17.654958724975586, 5.819846153259277, 12.440240859985352, 10.63774299621582, 24.54819679260254, 4.79044246673584, 4.777522563934326, 7.983321189880371, 11.603276252746582, 8.559834480285645, 9.186928749084473, 6.935169219970703, 5.971348285675049, 9.765580177307129, 5.971723556518555, 4.452574729919434, 8.169278144836426, 18.78217315673828, 17.678327560424805, 59.614540100097656, 28.568153381347656, 47.78138732910156, 78.41596984863281, 16.23518180847168, 27.785991668701172, 161.82127380371094, 53.25212097167969, 53.13137435913086, 28.82487678527832, 22.03555679321289, 189.45677185058594, 72.9656982421875, 27.273983001708984, 26.66337013244629, 144.05494689941406, 29.459121704101562, 69.90865325927734, 217.2151641845703, 72.074951171875, 41.17879104614258, 39.567970275878906, 136.93190002441406, 141.83192443847656, 116.26296997070312, 117.95110321044922, 64.47166442871094, 82.53535461425781, 59.44783401489258, 116.88867950439453, 115.33861541748047, 72.85133361816406, 131.08102416992188, 91.36304473876953, 125.14749145507812, 136.9520263671875, 70.73240661621094, 74.21278381347656, 72.1512680053711, 90.4840087890625, 110.40757751464844, 131.45639038085938, 91.68290710449219, 92.90519714355469, 80.1020278930664, 92.86933135986328, 99.04708862304688, 94.7842025756836, 92.32354736328125, 77.44175720214844, 81.81597137451172, 73.9876708984375, 571.9935302734375, 217.79161071777344, 687.722900390625, 145.11849975585938, 89.51898956298828, 229.1031036376953, 30.575641632080078, 35.843048095703125, 127.36263275146484, 245.74700927734375, 52.283443450927734, 27.066184997558594, 17.262100219726562, 25.618764877319336, 18.941930770874023, 34.62565994262695, 15.760136604309082, 10.185738563537598, 45.095603942871094, 94.42610931396484, 8.159525871276855, 8.157543182373047, 17.26251220703125, 6.169816970825195, 6.166053295135498, 15.026224136352539, 6.110255241394043, 10.324846267700195, 8.695432662963867, 5.17275857925415, 271.8326416015625, 32.57976150512695, 63.767372131347656, 61.754417419433594, 24.153764724731445, 172.36669921875, 273.4739990234375, 177.43206787109375, 236.6383056640625, 57.21678161621094, 60.30412292480469, 81.14614868164062, 192.67498779296875, 114.64058685302734, 117.55961608886719, 135.69329833984375, 117.14210510253906, 73.1414566040039, 102.50923919677734, 134.2752227783203, 109.79924011230469, 132.97154235839844, 91.59272003173828, 95.29401397705078, 103.6669692993164, 107.75426483154297, 94.11279296875, 85.61589813232422, 85.77710723876953, 88.86924743652344, 86.53742218017578, 144.71084594726562, 109.88628387451172, 16.361574172973633, 13.481130599975586, 12.552023887634277, 19.618236541748047, 90.6271743774414, 10.594379425048828, 5.74149227142334, 4.841585636138916, 4.830757141113281, 4.805994510650635, 9.616278648376465, 5.57011079788208, 13.64035701751709, 4.729116439819336, 4.6261773109436035, 6.181121349334717, 6.055288791656494, 11.355985641479492, 6.707660675048828, 83.32942199707031, 28.180749893188477, 6.653963088989258, 7.335666656494141, 13.246747970581055, 8.674982070922852, 5.77939510345459, 5.468201637268066, 4.831908702850342, 12.407486915588379, 13.835890769958496, 18.665435791015625, 14.966657638549805, 15.351359367370605, 15.726130485534668, 54.394378662109375, 39.83203887939453, 92.82665252685547, 28.81983757019043, 12.787859916687012, 57.418575286865234, 27.71394920349121, 80.48265838623047, 11.942258834838867, 40.465328216552734, 160.69705200195312, 123.98043823242188, 69.18043518066406, 77.8504409790039, 126.86093139648438, 101.04301452636719, 105.86859893798828, 35.896728515625, 125.97825622558594, 58.51097106933594, 108.8351058959961, 63.786224365234375, 99.21528625488281, 76.63127899169922, 62.18840408325195, 73.17810821533203, 63.2844352722168, 45.523860931396484, 52.894920349121094, 62.71513748168945, 60.99557876586914, 60.617435455322266, 72.1505126953125, 65.42814636230469, 57.42015838623047, 61.28178405761719, 20.915210723876953, 6.68513298034668, 4.807884216308594, 4.759906768798828, 4.682487487792969, 7.512604713439941, 5.151466369628906, 4.674440860748291, 3.85027813911438, 6.478060722351074, 3.817138433456421, 6.325375556945801, 6.265795707702637, 3.7127184867858887, 4.27160120010376, 4.882047176361084, 4.861162185668945, 3.6205453872680664, 4.814255237579346, 3.5874950885772705, 4.8125, 4.158501625061035, 10.809347152709961, 3.825181722640991, 3.8278214931488037, 5.775110244750977, 3.437025785446167, 7.833820343017578, 4.420186996459961, 5.550009727478027, 6.601212978363037, 9.57315444946289, 5.923417568206787, 25.709407806396484, 14.804731369018555, 9.343695640563965, 23.381942749023438, 57.53960418701172, 45.55136489868164, 33.1284294128418, 20.426315307617188, 14.906761169433594, 23.447221755981445, 22.652666091918945, 43.49542236328125, 13.918192863464355, 12.53953742980957, 99.43524169921875, 17.67076873779297, 24.46001434326172, 21.201486587524414, 18.136354446411133, 41.5815315246582, 24.852657318115234, 41.714847564697266, 21.473800659179688, 19.33061408996582, 85.9598617553711, 34.860992431640625, 93.11203002929688, 72.07898712158203, 114.25492858886719, 25.049915313720703, 95.66802215576172, 25.772676467895508, 57.22308349609375, 44.81145095825195, 69.43569946289062, 49.22128677368164, 76.29783630371094, 38.89548873901367, 36.32355880737305, 34.38463592529297, 61.026039123535156, 53.77275848388672, 47.782291412353516, 43.32322692871094, 50.12076950073242, 60.688133239746094, 32.67467498779297, 41.34727096557617, 37.68906784057617, 40.272239685058594, 46.21820068359375, 38.15898513793945, 37.55763626098633, 16.08474349975586, 4.7099409103393555, 4.57183837890625, 8.04780387878418, 4.295239448547363, 3.5177955627441406, 4.107821464538574, 4.452673435211182, 23.41800880432129, 4.83624267578125, 5.278165817260742, 3.562163829803467, 7.6774702072143555, 4.057487964630127, 3.0120763778686523, 2.9224328994750977, 2.869126081466675, 3.693279266357422, 2.856006622314453, 3.8184187412261963, 2.8342370986938477, 2.847905158996582, 2.80961537361145, 3.7544384002685547, 4.64685583114624, 35.216888427734375, 3.211124897003174, 4.953466892242432, 3.106994867324829, 7.746011734008789, 23.8452205657959, 72.2401351928711, 67.5560302734375, 6.643527030944824, 144.27146911621094, 5.816582679748535, 59.174198150634766, 32.18754577636719, 17.25139808654785, 39.068084716796875, 69.27489471435547, 36.59463119506836, 14.443241119384766, 49.41508865356445, 60.28050994873047, 23.064311981201172, 108.06735229492188, 95.2554702758789, 65.48749542236328, 56.75318145751953, 33.105342864990234, 53.159210205078125, 48.59319305419922, 79.56526947021484, 77.89579772949219, 36.104286193847656, 71.84016418457031, 41.17951583862305, 47.27852249145508, 38.094932556152344, 62.79286575317383, 45.07866287231445, 54.51071548461914, 44.305267333984375, 55.99713897705078, 40.40085983276367, 41.8094482421875, 43.07173538208008, 43.254634857177734, 41.66852569580078, 42.54906463623047, 42.361236572265625, 41.998870849609375, 10.544188499450684, 10.904046058654785, 14.637109756469727, 6.498415946960449, 16.310691833496094, 15.499777793884277, 5.602618217468262, 4.845335006713867, 9.789920806884766, 4.983586311340332, 7.760210990905762, 9.231724739074707, 202.02001953125, 267.24383544921875, 4.426747798919678, 8.216073989868164, 3.837658405303955, 2.798253297805786, 2.8133761882781982, 2.677936553955078, 3.555866241455078, 2.831010580062866, 10.159704208374023, 2.831861972808838, 2.8221585750579834, 8.207145690917969, 2.796320915222168, 2.8282761573791504, 2.374483823776245, 2.2905075550079346, 6.1277618408203125, 4.056754112243652, 47.22004699707031, 19.75153350830078, 92.78546905517578, 11.6690673828125, 29.991275787353516, 169.2285919189453, 35.91899871826172, 65.49165344238281, 66.47235870361328, 180.93869018554688, 123.84284973144531, 25.097475051879883, 73.15009307861328, 75.32833862304688, 41.99105453491211, 71.9578857421875, 32.43210220336914, 85.46141815185547, 20.724998474121094, 62.61222839355469, 18.029163360595703, 64.55121612548828, 28.30722999572754, 58.327735900878906, 40.34757995605469, 36.02752685546875, 51.7253303527832, 44.49930191040039, 36.4307975769043, 39.23169708251953, 41.33203125, 44.643070220947266, 47.042083740234375, 36.267452239990234, 34.659488677978516, 58.87944030761719, 6.826102256774902, 4.74180269241333, 15.935001373291016, 6.806311130523682, 22.793968200683594, 4.684805870056152, 3.883051872253418, 4.601260662078857, 11.467087745666504, 4.796183109283447, 7.517576694488525, 6.667370319366455, 6.860268592834473, 10.169402122497559, 4.428516864776611, 8.719307899475098, 3.754317045211792, 5.309268951416016, 4.646875381469727, 2.956156015396118, 3.8745570182800293, 2.8586268424987793, 8.553413391113281, 2.8316168785095215, 3.6763617992401123, 3.6385767459869385, 6.030331611633301, 2.750746011734009, 3.5798144340515137, 168.71327209472656, 237.79830932617188, 41.23659133911133, 11.516807556152344, 208.5144805908203, 8.696151733398438, 39.51164627075195, 40.139766693115234, 27.980989456176758, 15.0358304977417, 9.735089302062988, 20.629919052124023, 82.0156478881836, 59.26805877685547, 57.93440246582031, 19.702621459960938, 31.532569885253906, 22.474145889282227, 25.32668113708496, 19.792037963867188, 45.14786911010742, 30.03142547607422, 32.04050827026367, 36.3007926940918, 39.62152862548828, 30.391801834106445, 48.376346588134766, 43.783939361572266, 35.883270263671875, 38.6656494140625, 44.32445526123047, 37.863826751708984, 44.92036437988281, 33.760650634765625, 38.73040771484375, 35.72860336303711, 38.01354217529297, 31.307889938354492, 32.720703125, 30.64077377319336, 18.312923431396484, 83.52900695800781, 13.251887321472168, 37.647552490234375, 78.3398208618164, 7.332431793212891, 24.729721069335938, 3.09041690826416, 4.500164985656738, 3.241976261138916, 4.142036437988281, 3.400348663330078, 3.659640312194824, 2.449699640274048, 13.087578773498535, 2.4563255310058594, 25.579669952392578, 6.85111665725708, 8.331713676452637, 3.1566078662872314, 2.752298593521118, 2.7395505905151367, 6.8143110275268555, 4.396075248718262, 3.175703763961792, 2.820746898651123, 2.5896596908569336, 2.7033164501190186, 1.8880729675292969, 1.924499750137329, 2.5539040565490723, 4.712795734405518, 3.171661376953125, 21.999635696411133, 29.082487106323242, 14.489429473876953, 5.432778358459473, 14.368371963500977, 30.93844223022461, 10.700996398925781, 20.09486961364746, 27.672203063964844, 24.32050895690918, 18.206315994262695, 27.54518699645996, 18.516468048095703, 20.08626937866211, 38.409854888916016, 9.900622367858887, 33.013023376464844, 10.199173927307129, 13.057069778442383, 37.263328552246094, 23.780780792236328, 16.798160552978516, 21.060701370239258, 30.233060836791992, 26.352460861206055, 20.7788143157959, 20.619508743286133, 24.279260635375977, 22.711071014404297, 21.516355514526367, 21.14153480529785, 19.004249572753906, 19.242813110351562, 3.1995668411254883, 3.7283666133880615, 7.766491889953613, 6.95740270614624, 3.1844491958618164, 2.3270609378814697, 2.0808355808258057, 2.0470235347747803, 2.347959518432617, 3.0652334690093994, 2.4210140705108643, 2.4148194789886475, 1.6288337707519531, 1.6308573484420776, 1.5276813507080078, 1.633754849433899, 1.6137492656707764, 1.6099791526794434, 1.5941166877746582, 1.5923845767974854, 1.7908755540847778, 2.1110613346099854, 3.1442103385925293, 1.5262622833251953, 1.5243299007415771, 2.4814422130584717, 1.4845069646835327, 1.4810329675674438, 2.4744486808776855, 1.477428674697876, 7.435140609741211, 2.4070699214935303, 2.179516077041626, 11.40062141418457, 3.6107394695281982, 4.650001525878906, 2.583151340484619, 11.816633224487305, 4.069947719573975, 10.212824821472168, 5.103758335113525, 28.28888702392578, 3.8552730083465576, 11.464189529418945, 4.499243259429932, 22.420734405517578, 23.70061683654785, 16.477924346923828, 22.0080623626709, 9.934918403625488, 5.642364025115967, 14.290303230285645, 7.74582052230835, 11.008784294128418, 18.988712310791016, 9.612079620361328, 11.968351364135742, 15.7919921875, 10.313464164733887, 8.43962574005127, 9.014702796936035, 10.551275253295898, 10.625149726867676, 13.032295227050781, 9.09990119934082, 9.316624641418457, 11.009538650512695, 9.345935821533203, 10.879631996154785, 9.35742473602295, 9.66931438446045, 8.846120834350586, 8.860448837280273, 1.400831699371338, 3.2171688079833984, 1.4038128852844238, 1.3656905889511108, 1.3216192722320557, 1.4109877347946167, 1.3793275356292725, 1.8129558563232422, 1.4070820808410645, 1.3698171377182007, 1.2097628116607666, 1.3843878507614136, 1.4090735912322998, 1.2598297595977783, 1.382226586341858, 1.2655686140060425, 0.7274057269096375, 0.7366383075714111, 0.727545976638794, 0.7285482883453369, 0.7242488861083984, 0.7195571660995483, 0.7182881236076355, 0.706123948097229, 0.716750979423523, 0.6784614324569702, 1.2969361543655396, 1.3763257265090942, 1.3596646785736084, 0.7282580137252808, 2.8527350425720215, 3.558229684829712, 1.2448484897613525, 1.411047339439392, 1.3137787580490112, 2.6030220985412598, 2.571807622909546, 2.3114137649536133, 1.3891113996505737, 12.519340515136719, 6.832940578460693, 4.2909369468688965, 4.310471057891846, 2.7354848384857178, 15.285999298095703, 10.733650207519531, 4.0114216804504395, 16.03007698059082, 12.292609214782715, 5.423953533172607, 7.123597621917725, 3.9979135990142822, 11.223756790161133, 7.810358047485352, 4.621572971343994, 9.15341567993164, 12.820089340209961, 4.52755880355835, 7.157748222351074, 7.1490654945373535, 5.102116584777832, 4.395443439483643, 6.234525680541992, 5.167868137359619, 5.263082027435303, 4.980638027191162, 6.202709674835205, 6.404663562774658, 6.610478401184082, 5.107740879058838, 5.697103023529053, 4.826557636260986, 4.9533233642578125, 4.863468170166016, 4.919448375701904, 4.670007228851318, 4.673845291137695, 24.716171264648438, 2.093661069869995, 1.262621521949768, 2.3247852325439453, 1.6232086420059204, 37.11263656616211, 1.6259857416152954, 9.280097007751465, 1.6280548572540283, 0.8347468972206116, 0.839556872844696, 0.8391616940498352, 0.8383863568305969, 0.8364033699035645, 0.8387172222137451, 0.845618724822998, 0.8228819370269775, 0.845319926738739, 0.8381502628326416, 0.8396419882774353, 0.9418429136276245, 1.636767029762268, 0.8318290710449219, 0.8399060368537903, 0.8437538743019104, 0.8415884375572205, 1.646136999130249, 0.8386344313621521, 0.8379626274108887, 0.8381205201148987, 2.9624547958374023, 1.0508692264556885, 1.1552679538726807, 15.548733711242676, 1.6283719539642334, 1.8466241359710693, 1.6097378730773926, 8.651228904724121, 4.671051502227783, 4.320383071899414, 10.997416496276855, 6.118153095245361, 2.4091765880584717, 3.5734894275665283, 2.4300456047058105, 1.9740779399871826, 3.17720365524292, 2.4176905155181885, 2.8589580059051514, 13.290811538696289, 10.217033386230469, 10.581361770629883, 5.42527437210083, 8.860238075256348, 9.677722930908203, 3.625080108642578, 7.638474941253662, 3.6552202701568604, 5.4222822189331055, 5.9099650382995605, 4.940552711486816, 4.081708908081055, 4.457190036773682, 4.1736159324646, 4.370974540710449, 5.332485198974609, 4.283041477203369, 4.504970550537109, 4.5732855796813965, 4.08114767074585, 4.313267230987549, 3.7747278213500977, 6.274649620056152, 2.4607300758361816, 6.187343597412109, 1.2078406810760498, 0.994691014289856, 1.1057493686676025, 0.6417449712753296, 0.6413894891738892, 0.6299387812614441, 0.6419175267219543, 0.6422004103660583, 0.6399973630905151, 2.4639673233032227, 0.640952467918396, 0.6404469013214111, 0.6419726014137268, 0.6418572664260864, 0.6402608752250671, 0.6295707821846008, 0.602199375629425, 0.6429758071899414, 0.6396994590759277, 0.9397130012512207, 1.8538178205490112, 0.626166820526123, 1.2303110361099243, 0.642814040184021, 0.6411137580871582, 0.6420618295669556, 1.1774094104766846, 1.7305833101272583, 1.0533796548843384, 2.846513271331787, 1.2429237365722656, 1.5333826541900635, 11.627922058105469, 8.31171989440918, 1.2082407474517822, 2.448361396789551, 1.5239754915237427, 1.6352239847183228, 1.8596452474594116, 11.302207946777344, 3.7533531188964844, 2.0073633193969727, 2.994152545928955, 2.666605234146118, 4.718513488769531, 2.3953452110290527, 6.652384281158447, 4.161187648773193, 1.857739806175232, 5.618532657623291, 5.787655353546143, 2.2188940048217773, 4.236971378326416, 4.293094158172607, 3.5037920475006104, 2.7025065422058105, 3.2638163566589355, 3.17324161529541, 2.6807682514190674, 2.361813545227051, 2.7149667739868164, 2.8035783767700195, 2.996990919113159, 2.6932497024536133, 2.4611763954162598, 2.553532600402832, 2.457127094268799], \"Total\": [836.0, 1508.0, 643.0, 703.0, 914.0, 492.0, 581.0, 601.0, 363.0, 413.0, 1714.0, 1305.0, 212.0, 590.0, 303.0, 362.0, 1133.0, 1323.0, 1345.0, 1053.0, 323.0, 783.0, 1428.0, 378.0, 233.0, 302.0, 923.0, 430.0, 934.0, 619.0, 17.662458419799805, 19.624082565307617, 24.53544807434082, 13.716748237609863, 15.684605598449707, 71.80656433105469, 11.737525939941406, 25.26114845275879, 52.12714767456055, 31.454654693603516, 12.723285675048828, 14.688071250915527, 12.725014686584473, 38.29484558105469, 63.974849700927734, 14.700072288513184, 10.752119064331055, 9.7677640914917, 14.692597389221191, 9.766562461853027, 11.744219779968262, 9.759533882141113, 60.90808868408203, 9.761059761047363, 9.7638578414917, 8.779781341552734, 8.782821655273438, 7.785884380340576, 21.582475662231445, 7.785829544067383, 39.31101989746094, 63.81961441040039, 108.21975708007812, 31.477712631225586, 110.19122314453125, 38.300750732421875, 183.6765899658203, 118.1551513671875, 86.52391815185547, 21.554914474487305, 106.37356567382812, 110.55218505859375, 86.2264175415039, 36.221954345703125, 29.37265396118164, 48.10464096069336, 24.511341094970703, 279.89349365234375, 407.82305908203125, 119.48456573486328, 54.845096588134766, 155.29232788085938, 73.1028823852539, 230.2065887451172, 164.926025390625, 212.2041015625, 233.61724853515625, 1714.96142578125, 613.7019653320312, 1323.9730224609375, 169.8079071044922, 380.6074523925781, 161.663818359375, 638.3673706054688, 395.4374084472656, 496.5099792480469, 1133.5650634765625, 640.0323486328125, 546.9529418945312, 651.3988037109375, 934.1790771484375, 622.68017578125, 1428.374755859375, 1345.9141845703125, 578.1155395507812, 1313.0333251953125, 689.912353515625, 1053.7010498046875, 1305.5467529296875, 698.5424194335938, 1508.8399658203125, 889.717529296875, 589.659423828125, 900.1218872070312, 666.9448852539062, 49.944602966308594, 18.541826248168945, 48.5858268737793, 33.08122634887695, 15.616436958312988, 68.4095687866211, 13.649171829223633, 13.653044700622559, 11.690382957458496, 11.690641403198242, 430.8547058105469, 10.708414077758789, 9.729205131530762, 9.690085411071777, 31.174396514892578, 8.742339134216309, 36.03830337524414, 13.273789405822754, 7.749794006347656, 88.63440704345703, 6.781569004058838, 7.6523919105529785, 12.32696533203125, 7.739506721496582, 5.799490928649902, 5.803449630737305, 5.77843713760376, 5.793868541717529, 218.86795043945312, 5.848280906677246, 378.228759765625, 836.1602172851562, 82.20246887207031, 31.200538635253906, 30.6981143951416, 233.2765655517578, 120.51839447021484, 154.78663635253906, 78.35791015625, 302.6983947753906, 31.01054573059082, 275.0253601074219, 783.2338256835938, 146.19302368164062, 57.59558868408203, 1508.8399658203125, 41.90729522705078, 111.50333404541016, 368.668212890625, 508.134033203125, 492.71575927734375, 614.3419189453125, 588.3754272460938, 821.957763671875, 1305.5467529296875, 1428.374755859375, 435.2554016113281, 363.1124267578125, 1345.9141845703125, 661.9677124023438, 1714.96142578125, 389.1673889160156, 923.0148315429688, 900.1218872070312, 1313.0333251953125, 613.416015625, 923.326171875, 556.94775390625, 1053.7010498046875, 1323.9730224609375, 1133.5650634765625, 829.7106323242188, 914.888916015625, 172.3706817626953, 323.703369140625, 96.20147705078125, 50.124393463134766, 58.19894027709961, 40.151615142822266, 195.263671875, 179.12144470214844, 97.81605529785156, 643.35009765625, 25.03712272644043, 53.85112762451172, 25.04601287841797, 413.8531799316406, 25.9315185546875, 39.67115783691406, 303.0409240722656, 87.65233612060547, 33.055320739746094, 12.979899406433105, 11.974151611328125, 14.982182502746582, 69.39478302001953, 37.07918930053711, 41.097808837890625, 10.96151065826416, 74.2549057006836, 128.4342498779297, 9.962068557739258, 9.960967063903809, 72.11784362792969, 36.36698913574219, 31.2047061920166, 56.02592468261719, 113.62850189208984, 26.76643943786621, 384.065673828125, 590.9581909179688, 914.888916015625, 624.2106323242188, 179.46597290039062, 923.0148315429688, 1508.8399658203125, 508.134033203125, 1428.374755859375, 588.3754272460938, 1305.5467529296875, 1313.0333251953125, 1345.9141845703125, 673.5363159179688, 889.717529296875, 923.326171875, 900.1218872070312, 1714.96142578125, 661.9677124023438, 1053.7010498046875, 821.957763671875, 678.6244506835938, 688.653564453125, 29.944698333740234, 10.913728713989258, 10.912440299987793, 10.907605171203613, 14.90915298461914, 7.900258541107178, 7.908937931060791, 6.905825614929199, 24.891944885253906, 7.902663230895996, 5.905839443206787, 5.907077312469482, 20.875377655029297, 6.883850574493408, 14.894635200500488, 12.896327018737793, 29.810649871826172, 5.881709575653076, 5.900382041931152, 9.932086944580078, 14.538921356201172, 10.848132133483887, 11.827306747436523, 8.929422378540039, 7.691244602203369, 12.799327850341797, 7.866876602172852, 5.875445365905762, 10.798683166503906, 24.854833602905273, 24.787059783935547, 90.37207794189453, 42.708683013916016, 76.91539001464844, 137.7103271484375, 23.835468292236328, 44.876853942871094, 362.81121826171875, 96.92974853515625, 100.0572738647461, 49.373985290527344, 36.45623779296875, 622.68017578125, 182.87327575683594, 50.87400436401367, 50.30826950073242, 534.5975952148438, 61.184783935546875, 227.98793029785156, 1323.9730224609375, 253.48944091796875, 104.54141998291016, 98.86825561523438, 777.42138671875, 829.7106323242188, 622.69921875, 638.3673706054688, 234.32479858398438, 361.5558166503906, 203.48101806640625, 698.5424194335938, 689.912353515625, 306.1109619140625, 934.1790771484375, 479.2080078125, 889.717529296875, 1133.5650634765625, 323.3849182128906, 368.668212890625, 353.1966552734375, 613.7019653320312, 1053.7010498046875, 1714.96142578125, 688.653564453125, 753.9584350585938, 495.8025817871094, 923.326171875, 1345.9141845703125, 1428.374755859375, 1313.0333251953125, 536.2914428710938, 1305.5467529296875, 394.3763427734375, 581.2401123046875, 222.5440673828125, 703.4808959960938, 148.6940155029297, 92.23263549804688, 236.8514862060547, 31.707197189331055, 37.62203598022461, 134.1673583984375, 259.00946044921875, 55.2259635925293, 28.596372604370117, 18.35326385498047, 27.551652908325195, 20.387500762939453, 37.77324295043945, 17.23666763305664, 11.16476821899414, 50.01102066040039, 105.21955108642578, 9.105961799621582, 9.113543510437012, 19.326093673706055, 7.0604424476623535, 7.061985015869141, 17.270631790161133, 7.058706760406494, 11.97968864440918, 10.115699768066406, 6.036231517791748, 325.2292175292969, 39.633087158203125, 79.30457305908203, 86.25862121582031, 31.39427947998047, 312.02630615234375, 590.9581909179688, 380.6074523925781, 673.5363159179688, 116.86827087402344, 147.64093017578125, 241.74798583984375, 1313.0333251953125, 619.3787841796875, 651.3988037109375, 923.0148315429688, 753.9584350585938, 262.0513916015625, 624.2106323242188, 1305.5467529296875, 783.2338256835938, 1428.374755859375, 569.9282836914062, 666.9448852539062, 1053.7010498046875, 1345.9141845703125, 777.42138671875, 536.2914428710938, 678.6244506835938, 1714.96142578125, 923.326171875, 147.03347778320312, 115.05409240722656, 17.35235595703125, 14.448022842407227, 13.482975959777832, 21.22998809814453, 98.55318450927734, 11.5475435256958, 6.7025017738342285, 5.73206901550293, 5.7400617599487305, 5.7303080558776855, 11.542914390563965, 6.689784526824951, 16.41193199157715, 5.731461048126221, 5.73403787612915, 7.663086414337158, 7.548513412475586, 14.464045524597168, 8.622480392456055, 107.72245025634766, 36.571746826171875, 8.636054039001465, 9.557394027709961, 17.40926170349121, 11.552604675292969, 7.704355239868164, 7.314658164978027, 6.717345237731934, 17.298072814941406, 19.414522171020508, 28.15308380126953, 22.102401733398438, 23.290300369262695, 24.201623916625977, 111.33683013916016, 77.7281723022461, 227.60952758789062, 53.84686279296875, 19.332094192504883, 158.72169494628906, 60.717437744140625, 279.89349365234375, 19.35553550720215, 130.41087341308594, 1323.9730224609375, 1133.5650634765625, 395.4374084472656, 496.5099792480469, 1345.9141845703125, 900.1218872070312, 1053.7010498046875, 126.15784454345703, 1714.96142578125, 374.49566650390625, 1428.374755859375, 479.2080078125, 1313.0333251953125, 753.9584350585938, 496.0697937011719, 777.42138671875, 578.1155395507812, 253.489990234375, 407.82305908203125, 688.653564453125, 638.3673706054688, 651.3988037109375, 1305.5467529296875, 934.1790771484375, 569.9282836914062, 923.326171875, 23.74519920349121, 7.596704959869385, 5.683685779571533, 5.680057048797607, 5.679460048675537, 9.537612915039062, 6.656259536743164, 6.644228458404541, 5.520641326904297, 9.531941413879395, 5.704959869384766, 9.506611824035645, 9.517412185668945, 5.723593711853027, 6.615557670593262, 7.640003681182861, 7.646143913269043, 5.711994647979736, 7.613397121429443, 5.703941822052002, 7.658817768096924, 6.657986640930176, 17.411468505859375, 6.320137023925781, 6.332082271575928, 9.585257530212402, 5.70829439163208, 13.479854583740234, 7.637336254119873, 9.614563941955566, 11.521411895751953, 17.264963150024414, 10.502948760986328, 58.93836975097656, 31.941431045532227, 19.128278732299805, 68.13446807861328, 234.32479858398438, 175.2018585205078, 113.74159240722656, 60.10548782348633, 38.96500778198242, 75.01277160644531, 73.08861541748047, 191.76300048828125, 35.93186950683594, 31.08737564086914, 753.9584350585938, 53.179664611816406, 88.55870819091797, 71.57815551757812, 56.65964889526367, 227.98793029785156, 96.08409118652344, 233.61724853515625, 76.15930938720703, 64.03235626220703, 889.717529296875, 182.87327575683594, 1053.7010498046875, 698.5424194335938, 1714.96142578125, 103.2325210571289, 1313.0333251953125, 110.76757049560547, 534.5975952148438, 353.1966552734375, 934.1790771484375, 462.4049987792969, 1323.9730224609375, 306.1109619140625, 265.6121826171875, 236.93870544433594, 1133.5650634765625, 821.957763671875, 638.3673706054688, 479.2080078125, 777.42138671875, 1508.8399658203125, 229.86900329589844, 689.912353515625, 445.5675964355469, 624.2106323242188, 1345.9141845703125, 507.6883544921875, 495.8025817871094, 20.45216941833496, 6.622786045074463, 6.572433948516846, 12.293305397033691, 6.584342956542969, 5.6333909034729, 6.6210126876831055, 7.567890644073486, 39.823699951171875, 8.50345516204834, 9.487693786621094, 6.437291622161865, 14.34483814239502, 7.652822971343994, 5.681522846221924, 5.640450954437256, 5.6366376876831055, 7.323814868927002, 5.674923419952393, 7.636934757232666, 5.683159351348877, 5.713581085205078, 5.642756938934326, 7.611724853515625, 9.47225570678711, 72.71354675292969, 6.661644458770752, 10.508493423461914, 6.605479717254639, 17.00602912902832, 56.89706802368164, 189.0438232421875, 230.2065887451172, 15.383719444274902, 619.3787841796875, 13.377120018005371, 233.61724853515625, 147.71112060546875, 66.81211853027344, 225.5721435546875, 541.4962158203125, 212.2041015625, 55.468505859375, 407.82305908203125, 613.7019653320312, 129.92446899414062, 1714.96142578125, 1428.374755859375, 829.7106323242188, 651.3988037109375, 263.25750732421875, 622.68017578125, 536.2914428710938, 1323.9730224609375, 1345.9141845703125, 337.34246826171875, 1305.5467529296875, 444.45733642578125, 595.427978515625, 380.6074523925781, 1133.5650634765625, 564.2188110351562, 934.1790771484375, 578.1155395507812, 1313.0333251953125, 496.0697937011719, 638.3673706054688, 753.9584350585938, 777.42138671875, 698.5424194335938, 900.1218872070312, 923.326171875, 914.888916015625, 12.074443817138672, 13.032975196838379, 17.58768653869629, 8.395774841308594, 22.467697143554688, 21.59880828857422, 8.430996894836426, 7.492732048034668, 16.045673370361328, 8.42447566986084, 13.211583137512207, 16.329689025878906, 363.1124267578125, 492.71575927734375, 8.187263488769531, 16.09999656677246, 7.547210216522217, 5.63291072845459, 5.678404331207275, 5.606637477874756, 7.559787273406982, 6.643351078033447, 24.884349822998047, 7.219004154205322, 7.55654764175415, 22.091827392578125, 7.610983371734619, 7.726222038269043, 6.645297050476074, 6.425403118133545, 17.320066452026367, 11.457066535949707, 146.19302368164062, 59.26100158691406, 302.6983947753906, 36.55120849609375, 111.50333404541016, 836.1602172851562, 154.78663635253906, 368.668212890625, 378.228759765625, 1508.8399658203125, 914.888916015625, 110.86229705810547, 556.94775390625, 588.3754272460938, 275.0253601074219, 783.2338256835938, 218.86795043945312, 1305.5467529296875, 99.95584106445312, 923.326171875, 78.35791015625, 1345.9141845703125, 233.2765655517578, 1428.374755859375, 569.9282836914062, 435.2554016113281, 1133.5650634765625, 821.957763671875, 471.16064453125, 614.3419189453125, 900.1218872070312, 1313.0333251953125, 1714.96142578125, 923.0148315429688, 1323.9730224609375, 60.71776580810547, 7.765772819519043, 5.797130107879639, 20.466583251953125, 8.76828670501709, 32.44472885131836, 6.768373012542725, 5.613469123840332, 6.731895446777344, 17.690927505493164, 7.403478145599365, 11.643706321716309, 10.72049331665039, 11.643564224243164, 17.546010971069336, 7.801407814025879, 15.567648887634277, 6.801910400390625, 9.799571990966797, 8.78666877746582, 5.7684526443481445, 7.698388576507568, 5.80610990524292, 17.56487274169922, 5.8441481590271, 7.644922256469727, 7.6378583908081055, 12.718465805053711, 5.805375576019287, 7.677759647369385, 362.81121826171875, 601.0709228515625, 100.0572738647461, 27.674463272094727, 914.888916015625, 21.646982192993164, 137.7103271484375, 148.57257080078125, 100.3389663696289, 47.39836883544922, 26.444339752197266, 95.27766418457031, 923.326171875, 564.2188110351562, 595.427978515625, 90.37207794189453, 225.5721435546875, 122.99637603759766, 173.63156127929688, 112.1609115600586, 640.0323486328125, 277.4122314453125, 368.668212890625, 496.5099792480469, 622.69921875, 382.2580261230469, 1323.9730224609375, 1133.5650634765625, 651.3988037109375, 829.7106323242188, 1428.374755859375, 889.717529296875, 1714.96142578125, 622.68017578125, 1305.5467529296875, 934.1790771484375, 1313.0333251953125, 678.6244506835938, 1345.9141845703125, 613.7019653320312, 24.30424690246582, 124.16100311279297, 19.70056915283203, 57.64170837402344, 122.7518539428711, 12.085487365722656, 41.41666030883789, 5.593420505523682, 8.424530029296875, 6.483234882354736, 8.487533569335938, 7.308124542236328, 8.10842514038086, 5.470600605010986, 29.36446762084961, 5.645798206329346, 58.99371337890625, 16.12677574157715, 19.86897087097168, 7.56523323059082, 6.60137939453125, 6.5962371826171875, 16.58251953125, 11.064762115478516, 8.30087947845459, 7.547050476074219, 7.225285053253174, 7.572254180908203, 5.579795837402344, 5.7073798179626465, 7.589303493499756, 14.276338577270508, 9.494260787963867, 72.71354675292969, 99.8675537109375, 48.86479949951172, 16.961286544799805, 56.89706802368164, 186.13803100585938, 44.48256301879883, 137.67919921875, 242.83633422851562, 211.32240295410156, 133.26466369628906, 294.7786560058594, 147.71112060546875, 179.46597290039062, 619.3787841796875, 53.84686279296875, 673.5363159179688, 63.01938247680664, 111.33683013916016, 1323.9730224609375, 508.134033203125, 213.52655029296875, 389.1673889160156, 1714.96142578125, 1133.5650634765625, 595.427978515625, 589.659423828125, 1313.0333251953125, 1053.7010498046875, 889.717529296875, 923.0148315429688, 934.1790771484375, 1345.9141845703125, 5.993453025817871, 7.890043258666992, 16.47748374938965, 14.854813575744629, 7.030925273895264, 5.26187801361084, 5.325350284576416, 5.271295547485352, 6.230566501617432, 8.966007232666016, 7.7618489265441895, 7.787975788116455, 5.31497859954834, 5.425198554992676, 5.097577095031738, 5.455241680145264, 5.4251556396484375, 5.435197353363037, 5.382429122924805, 5.442598342895508, 6.264193058013916, 7.423128128051758, 11.088532447814941, 5.457421779632568, 5.455724239349365, 8.996980667114258, 5.396417140960693, 5.405023574829102, 9.070327758789062, 5.427975654602051, 28.046911239624023, 9.041440963745117, 8.36101245880127, 58.11027908325195, 17.044370651245117, 25.19352912902832, 11.075124740600586, 116.13668060302734, 22.582298278808594, 104.80432891845703, 40.741085052490234, 914.888916015625, 25.41214370727539, 189.0438232421875, 33.8232421875, 900.1218872070312, 1428.374755859375, 651.3988037109375, 1345.9141845703125, 225.5721435546875, 61.115108489990234, 578.1155395507812, 137.37454223632812, 337.34246826171875, 1508.8399658203125, 277.4122314453125, 569.9282836914062, 1305.5467529296875, 398.7184753417969, 249.5958251953125, 313.0538024902344, 564.2188110351562, 619.3787841796875, 1323.9730224609375, 413.3188781738281, 462.4049987792969, 934.1790771484375, 541.4962158203125, 1313.0333251953125, 622.69921875, 1714.96142578125, 777.42138671875, 1053.7010498046875, 5.110182762145996, 12.003382682800293, 6.092845916748047, 6.2703728675842285, 6.0910844802856445, 7.220634937286377, 7.246292591094971, 9.979010581970215, 8.1922025680542, 8.218843460083008, 7.3159379959106445, 8.431588172912598, 9.011286735534668, 8.084733963012695, 9.043693542480469, 8.395143508911133, 5.097577095031738, 5.476742267608643, 5.4115400314331055, 5.463992118835449, 5.471720218658447, 5.460949420928955, 5.515859603881836, 5.444762706756592, 5.544480323791504, 5.349709987640381, 10.297608375549316, 11.155462265014648, 11.098307609558105, 5.96475076675415, 23.483020782470703, 29.468496322631836, 10.22940444946289, 11.984278678894043, 11.320823669433594, 26.292707443237305, 28.522687911987305, 24.814973831176758, 13.005507469177246, 303.0409240722656, 128.4342498779297, 69.39478302001953, 72.11784362792969, 36.08744430541992, 643.35009765625, 413.8531799316406, 75.02910614013672, 914.888916015625, 590.9581909179688, 154.16253662109375, 276.3426818847656, 87.65233612060547, 923.0148315429688, 414.5963439941406, 128.7092742919922, 624.2106323242188, 1508.8399658203125, 123.7113265991211, 504.8576354980469, 564.2188110351562, 230.08828735351562, 179.12144470214844, 588.3754272460938, 323.703369140625, 348.805908203125, 350.0630798339844, 821.957763671875, 1133.5650634765625, 1428.374755859375, 406.2321472167969, 1313.0333251953125, 336.13275146484375, 448.72149658203125, 458.031005859375, 678.6244506835938, 384.065673828125, 1305.5467529296875, 73.2851333618164, 7.225209712982178, 5.494655132293701, 10.141270637512207, 9.244718551635742, 212.2041015625, 9.366131782531738, 57.18791580200195, 10.182328224182129, 5.373754978179932, 5.490314483642578, 5.50642204284668, 5.530011177062988, 5.517708778381348, 5.538080215454102, 5.604038715362549, 5.470600605010986, 5.634710311889648, 5.636183738708496, 5.691708087921143, 6.444437503814697, 12.2094087600708, 6.3425726890563965, 6.494866371154785, 6.532782077789307, 6.534540176391602, 12.782679557800293, 6.5178117752075195, 6.555737495422363, 6.570123672485352, 25.220823287963867, 8.502801895141602, 9.482688903808594, 233.61724853515625, 15.101855278015137, 17.98355484008789, 15.239725112915039, 169.8079071044922, 73.1028823852539, 81.735107421875, 601.0709228515625, 230.2065887451172, 40.32382583618164, 92.54409790039062, 43.824188232421875, 29.54549789428711, 77.74676513671875, 45.24095916748047, 67.23634338378906, 1714.96142578125, 1053.7010498046875, 1305.5467529296875, 294.7786560058594, 934.1790771484375, 1323.9730224609375, 121.60800170898438, 1133.5650634765625, 143.89801025390625, 640.0323486328125, 923.326171875, 508.134033203125, 303.5042419433594, 486.0531005859375, 395.4374084472656, 496.5099792480469, 1508.8399658203125, 490.9501647949219, 688.653564453125, 829.7106323242188, 613.416015625, 1428.374755859375, 673.5363159179688, 18.973167419433594, 8.252674102783203, 27.470441818237305, 6.150167465209961, 5.243034362792969, 6.027922630310059, 5.125792980194092, 5.246095180511475, 5.204480171203613, 5.3454461097717285, 5.4196248054504395, 5.405527591705322, 20.814922332763672, 5.439589023590088, 5.440773963928223, 5.475447177886963, 5.490099906921387, 5.484892845153809, 5.4212965965271, 5.515120506286621, 5.991764545440674, 5.994121074676514, 8.844676971435547, 17.58768653869629, 5.96475076675415, 11.844948768615723, 6.271172523498535, 6.301394462585449, 6.3232035636901855, 11.60796070098877, 19.269018173217773, 11.175494194030762, 41.90729522705078, 14.943794250488281, 20.263744354248047, 492.71575927734375, 363.1124267578125, 16.329689025878906, 58.11027908325195, 26.47652244567871, 31.741600036621094, 42.930763244628906, 1508.8399658203125, 179.2799835205078, 53.179664611816406, 120.51839447021484, 96.04270935058594, 313.0538024902344, 82.20246887207031, 836.1602172851562, 303.5042419433594, 48.51787185668945, 1133.5650634765625, 1345.9141845703125, 83.36590576171875, 783.2338256835938, 1053.7010498046875, 507.6883544921875, 209.16537475585938, 569.9282836914062, 678.6244506835938, 332.4177551269531, 189.8457489013672, 564.2188110351562, 821.957763671875, 1714.96142578125, 829.7106323242188, 490.9501647949219, 1305.5467529296875, 661.9677124023438], \"Category\": [\"Default\", \"Default\", \"Default\", \"Default\", \"Default\", \"Default\", \"Default\", \"Default\", \"Default\", \"Default\", \"Default\", \"Default\", \"Default\", \"Default\", \"Default\", \"Default\", \"Default\", \"Default\", \"Default\", \"Default\", \"Default\", \"Default\", \"Default\", \"Default\", \"Default\", \"Default\", \"Default\", \"Default\", \"Default\", \"Default\", \"Topic1\", \"Topic1\", \"Topic1\", \"Topic1\", \"Topic1\", \"Topic1\", \"Topic1\", \"Topic1\", \"Topic1\", \"Topic1\", \"Topic1\", \"Topic1\", \"Topic1\", \"Topic1\", \"Topic1\", \"Topic1\", \"Topic1\", \"Topic1\", \"Topic1\", \"Topic1\", \"Topic1\", \"Topic1\", \"Topic1\", \"Topic1\", \"Topic1\", \"Topic1\", \"Topic1\", \"Topic1\", \"Topic1\", \"Topic1\", \"Topic1\", \"Topic1\", \"Topic1\", \"Topic1\", \"Topic1\", \"Topic1\", \"Topic1\", \"Topic1\", \"Topic1\", \"Topic1\", \"Topic1\", \"Topic1\", \"Topic1\", \"Topic1\", \"Topic1\", \"Topic1\", \"Topic1\", \"Topic1\", \"Topic1\", \"Topic1\", \"Topic1\", \"Topic1\", \"Topic1\", \"Topic1\", \"Topic1\", \"Topic1\", \"Topic1\", \"Topic1\", \"Topic1\", \"Topic1\", \"Topic1\", \"Topic1\", \"Topic1\", \"Topic1\", \"Topic1\", \"Topic1\", \"Topic1\", \"Topic1\", \"Topic1\", \"Topic1\", \"Topic1\", \"Topic1\", \"Topic1\", \"Topic1\", \"Topic1\", \"Topic1\", \"Topic1\", \"Topic1\", \"Topic1\", \"Topic1\", \"Topic1\", \"Topic1\", \"Topic1\", \"Topic1\", \"Topic1\", \"Topic2\", \"Topic2\", \"Topic2\", \"Topic2\", \"Topic2\", \"Topic2\", \"Topic2\", \"Topic2\", \"Topic2\", \"Topic2\", \"Topic2\", \"Topic2\", \"Topic2\", \"Topic2\", \"Topic2\", \"Topic2\", \"Topic2\", \"Topic2\", \"Topic2\", \"Topic2\", \"Topic2\", \"Topic2\", \"Topic2\", \"Topic2\", \"Topic2\", \"Topic2\", \"Topic2\", \"Topic2\", \"Topic2\", \"Topic2\", \"Topic2\", \"Topic2\", \"Topic2\", \"Topic2\", \"Topic2\", \"Topic2\", \"Topic2\", \"Topic2\", \"Topic2\", \"Topic2\", \"Topic2\", \"Topic2\", \"Topic2\", \"Topic2\", \"Topic2\", \"Topic2\", \"Topic2\", \"Topic2\", \"Topic2\", \"Topic2\", \"Topic2\", \"Topic2\", \"Topic2\", \"Topic2\", \"Topic2\", \"Topic2\", \"Topic2\", \"Topic2\", \"Topic2\", \"Topic2\", \"Topic2\", \"Topic2\", \"Topic2\", \"Topic2\", \"Topic2\", \"Topic2\", \"Topic2\", \"Topic2\", \"Topic2\", \"Topic2\", \"Topic2\", \"Topic2\", \"Topic2\", \"Topic3\", \"Topic3\", \"Topic3\", \"Topic3\", \"Topic3\", \"Topic3\", \"Topic3\", \"Topic3\", \"Topic3\", \"Topic3\", \"Topic3\", \"Topic3\", \"Topic3\", \"Topic3\", \"Topic3\", \"Topic3\", \"Topic3\", \"Topic3\", \"Topic3\", \"Topic3\", \"Topic3\", \"Topic3\", \"Topic3\", \"Topic3\", \"Topic3\", \"Topic3\", \"Topic3\", \"Topic3\", \"Topic3\", \"Topic3\", \"Topic3\", \"Topic3\", \"Topic3\", \"Topic3\", \"Topic3\", \"Topic3\", \"Topic3\", \"Topic3\", \"Topic3\", \"Topic3\", \"Topic3\", \"Topic3\", \"Topic3\", \"Topic3\", \"Topic3\", \"Topic3\", \"Topic3\", \"Topic3\", \"Topic3\", \"Topic3\", \"Topic3\", \"Topic3\", \"Topic3\", \"Topic3\", \"Topic3\", \"Topic3\", \"Topic3\", \"Topic3\", \"Topic3\", \"Topic4\", \"Topic4\", \"Topic4\", \"Topic4\", \"Topic4\", \"Topic4\", \"Topic4\", \"Topic4\", \"Topic4\", \"Topic4\", \"Topic4\", \"Topic4\", \"Topic4\", \"Topic4\", \"Topic4\", \"Topic4\", \"Topic4\", \"Topic4\", \"Topic4\", \"Topic4\", \"Topic4\", \"Topic4\", \"Topic4\", \"Topic4\", \"Topic4\", \"Topic4\", \"Topic4\", \"Topic4\", \"Topic4\", \"Topic4\", \"Topic4\", \"Topic4\", \"Topic4\", \"Topic4\", \"Topic4\", \"Topic4\", \"Topic4\", \"Topic4\", \"Topic4\", \"Topic4\", \"Topic4\", \"Topic4\", \"Topic4\", \"Topic4\", \"Topic4\", \"Topic4\", \"Topic4\", \"Topic4\", \"Topic4\", \"Topic4\", \"Topic4\", \"Topic4\", \"Topic4\", \"Topic4\", \"Topic4\", \"Topic4\", \"Topic4\", \"Topic4\", \"Topic4\", \"Topic4\", \"Topic4\", \"Topic4\", \"Topic4\", \"Topic4\", \"Topic4\", \"Topic4\", \"Topic4\", \"Topic4\", \"Topic4\", \"Topic4\", \"Topic4\", \"Topic4\", \"Topic4\", \"Topic4\", \"Topic4\", \"Topic4\", \"Topic4\", \"Topic4\", \"Topic4\", \"Topic4\", \"Topic4\", \"Topic4\", \"Topic4\", \"Topic5\", \"Topic5\", \"Topic5\", \"Topic5\", \"Topic5\", \"Topic5\", \"Topic5\", \"Topic5\", \"Topic5\", \"Topic5\", \"Topic5\", \"Topic5\", \"Topic5\", \"Topic5\", \"Topic5\", \"Topic5\", \"Topic5\", \"Topic5\", \"Topic5\", \"Topic5\", \"Topic5\", \"Topic5\", \"Topic5\", \"Topic5\", \"Topic5\", \"Topic5\", \"Topic5\", \"Topic5\", \"Topic5\", \"Topic5\", \"Topic5\", \"Topic5\", \"Topic5\", \"Topic5\", \"Topic5\", \"Topic5\", \"Topic5\", \"Topic5\", \"Topic5\", \"Topic5\", \"Topic5\", \"Topic5\", \"Topic5\", \"Topic5\", \"Topic5\", \"Topic5\", \"Topic5\", \"Topic5\", \"Topic5\", \"Topic5\", \"Topic5\", \"Topic5\", \"Topic5\", \"Topic5\", \"Topic5\", \"Topic5\", \"Topic5\", \"Topic5\", \"Topic5\", \"Topic5\", \"Topic5\", \"Topic6\", \"Topic6\", \"Topic6\", \"Topic6\", \"Topic6\", \"Topic6\", \"Topic6\", \"Topic6\", \"Topic6\", \"Topic6\", \"Topic6\", \"Topic6\", \"Topic6\", \"Topic6\", \"Topic6\", \"Topic6\", \"Topic6\", \"Topic6\", \"Topic6\", \"Topic6\", \"Topic6\", \"Topic6\", \"Topic6\", \"Topic6\", \"Topic6\", \"Topic6\", \"Topic6\", \"Topic6\", \"Topic6\", \"Topic6\", \"Topic6\", \"Topic6\", \"Topic6\", \"Topic6\", \"Topic6\", \"Topic6\", \"Topic6\", \"Topic6\", \"Topic6\", \"Topic6\", \"Topic6\", \"Topic6\", \"Topic6\", \"Topic6\", \"Topic6\", \"Topic6\", \"Topic6\", \"Topic6\", \"Topic6\", \"Topic6\", \"Topic6\", \"Topic6\", \"Topic6\", \"Topic6\", \"Topic6\", \"Topic6\", \"Topic6\", \"Topic6\", \"Topic6\", \"Topic6\", \"Topic6\", \"Topic6\", \"Topic6\", \"Topic6\", \"Topic6\", \"Topic6\", \"Topic6\", \"Topic6\", \"Topic6\", \"Topic6\", \"Topic6\", \"Topic6\", \"Topic7\", \"Topic7\", \"Topic7\", \"Topic7\", \"Topic7\", \"Topic7\", \"Topic7\", \"Topic7\", \"Topic7\", \"Topic7\", \"Topic7\", \"Topic7\", \"Topic7\", \"Topic7\", \"Topic7\", \"Topic7\", \"Topic7\", \"Topic7\", \"Topic7\", \"Topic7\", \"Topic7\", \"Topic7\", \"Topic7\", \"Topic7\", \"Topic7\", \"Topic7\", \"Topic7\", \"Topic7\", \"Topic7\", \"Topic7\", \"Topic7\", \"Topic7\", \"Topic7\", \"Topic7\", \"Topic7\", \"Topic7\", \"Topic7\", \"Topic7\", \"Topic7\", \"Topic7\", \"Topic7\", \"Topic7\", \"Topic7\", \"Topic7\", \"Topic7\", \"Topic7\", \"Topic7\", \"Topic7\", \"Topic7\", \"Topic7\", \"Topic7\", \"Topic7\", \"Topic7\", \"Topic7\", \"Topic7\", \"Topic7\", \"Topic7\", \"Topic7\", \"Topic7\", \"Topic7\", \"Topic7\", \"Topic7\", \"Topic7\", \"Topic7\", \"Topic7\", \"Topic7\", \"Topic7\", \"Topic7\", \"Topic7\", \"Topic7\", \"Topic7\", \"Topic7\", \"Topic7\", \"Topic7\", \"Topic7\", \"Topic7\", \"Topic7\", \"Topic7\", \"Topic7\", \"Topic7\", \"Topic7\", \"Topic7\", \"Topic7\", \"Topic7\", \"Topic7\", \"Topic7\", \"Topic8\", \"Topic8\", \"Topic8\", \"Topic8\", \"Topic8\", \"Topic8\", \"Topic8\", \"Topic8\", \"Topic8\", \"Topic8\", \"Topic8\", \"Topic8\", \"Topic8\", \"Topic8\", \"Topic8\", \"Topic8\", \"Topic8\", \"Topic8\", \"Topic8\", \"Topic8\", \"Topic8\", \"Topic8\", \"Topic8\", \"Topic8\", \"Topic8\", \"Topic8\", \"Topic8\", \"Topic8\", \"Topic8\", \"Topic8\", \"Topic8\", \"Topic8\", \"Topic8\", \"Topic8\", \"Topic8\", \"Topic8\", \"Topic8\", \"Topic8\", \"Topic8\", \"Topic8\", \"Topic8\", \"Topic8\", \"Topic8\", \"Topic8\", \"Topic8\", \"Topic8\", \"Topic8\", \"Topic8\", \"Topic8\", \"Topic8\", \"Topic8\", \"Topic8\", \"Topic8\", \"Topic8\", \"Topic8\", \"Topic8\", \"Topic8\", \"Topic8\", \"Topic8\", \"Topic8\", \"Topic8\", \"Topic8\", \"Topic8\", \"Topic8\", \"Topic8\", \"Topic8\", \"Topic8\", \"Topic8\", \"Topic8\", \"Topic8\", \"Topic8\", \"Topic8\", \"Topic8\", \"Topic9\", \"Topic9\", \"Topic9\", \"Topic9\", \"Topic9\", \"Topic9\", \"Topic9\", \"Topic9\", \"Topic9\", \"Topic9\", \"Topic9\", \"Topic9\", \"Topic9\", \"Topic9\", \"Topic9\", \"Topic9\", \"Topic9\", \"Topic9\", \"Topic9\", \"Topic9\", \"Topic9\", \"Topic9\", \"Topic9\", \"Topic9\", \"Topic9\", \"Topic9\", \"Topic9\", \"Topic9\", \"Topic9\", \"Topic9\", \"Topic9\", \"Topic9\", \"Topic9\", \"Topic9\", \"Topic9\", \"Topic9\", \"Topic9\", \"Topic9\", \"Topic9\", \"Topic9\", \"Topic9\", \"Topic9\", \"Topic9\", \"Topic9\", \"Topic9\", \"Topic9\", \"Topic9\", \"Topic9\", \"Topic9\", \"Topic9\", \"Topic9\", \"Topic9\", \"Topic9\", \"Topic9\", \"Topic9\", \"Topic9\", \"Topic9\", \"Topic9\", \"Topic9\", \"Topic9\", \"Topic9\", \"Topic9\", \"Topic9\", \"Topic9\", \"Topic9\", \"Topic9\", \"Topic9\", \"Topic10\", \"Topic10\", \"Topic10\", \"Topic10\", \"Topic10\", \"Topic10\", \"Topic10\", \"Topic10\", \"Topic10\", \"Topic10\", \"Topic10\", \"Topic10\", \"Topic10\", \"Topic10\", \"Topic10\", \"Topic10\", \"Topic10\", \"Topic10\", \"Topic10\", \"Topic10\", \"Topic10\", \"Topic10\", \"Topic10\", \"Topic10\", \"Topic10\", \"Topic10\", \"Topic10\", \"Topic10\", \"Topic10\", \"Topic10\", \"Topic10\", \"Topic10\", \"Topic10\", \"Topic10\", \"Topic10\", \"Topic10\", \"Topic10\", \"Topic10\", \"Topic10\", \"Topic10\", \"Topic10\", \"Topic10\", \"Topic10\", \"Topic10\", \"Topic10\", \"Topic10\", \"Topic10\", \"Topic10\", \"Topic10\", \"Topic10\", \"Topic10\", \"Topic10\", \"Topic10\", \"Topic10\", \"Topic10\", \"Topic10\", \"Topic10\", \"Topic10\", \"Topic10\", \"Topic10\", \"Topic10\", \"Topic10\", \"Topic10\", \"Topic10\", \"Topic10\", \"Topic10\", \"Topic10\", \"Topic10\", \"Topic10\", \"Topic10\", \"Topic11\", \"Topic11\", \"Topic11\", \"Topic11\", \"Topic11\", \"Topic11\", \"Topic11\", \"Topic11\", \"Topic11\", \"Topic11\", \"Topic11\", \"Topic11\", \"Topic11\", \"Topic11\", \"Topic11\", \"Topic11\", \"Topic11\", \"Topic11\", \"Topic11\", \"Topic11\", \"Topic11\", \"Topic11\", \"Topic11\", \"Topic11\", \"Topic11\", \"Topic11\", \"Topic11\", \"Topic11\", \"Topic11\", \"Topic11\", \"Topic11\", \"Topic11\", \"Topic11\", \"Topic11\", \"Topic11\", \"Topic11\", \"Topic11\", \"Topic11\", \"Topic11\", \"Topic11\", \"Topic11\", \"Topic11\", \"Topic11\", \"Topic11\", \"Topic11\", \"Topic11\", \"Topic11\", \"Topic11\", \"Topic11\", \"Topic11\", \"Topic11\", \"Topic11\", \"Topic11\", \"Topic11\", \"Topic11\", \"Topic11\", \"Topic11\", \"Topic11\", \"Topic11\", \"Topic11\", \"Topic11\", \"Topic11\", \"Topic11\", \"Topic11\", \"Topic11\", \"Topic11\", \"Topic12\", \"Topic12\", \"Topic12\", \"Topic12\", \"Topic12\", \"Topic12\", \"Topic12\", \"Topic12\", \"Topic12\", \"Topic12\", \"Topic12\", \"Topic12\", \"Topic12\", \"Topic12\", \"Topic12\", \"Topic12\", \"Topic12\", \"Topic12\", \"Topic12\", \"Topic12\", \"Topic12\", \"Topic12\", \"Topic12\", \"Topic12\", \"Topic12\", \"Topic12\", \"Topic12\", \"Topic12\", \"Topic12\", \"Topic12\", \"Topic12\", \"Topic12\", \"Topic12\", \"Topic12\", \"Topic12\", \"Topic12\", \"Topic12\", \"Topic12\", \"Topic12\", \"Topic12\", \"Topic12\", \"Topic12\", \"Topic12\", \"Topic12\", \"Topic12\", \"Topic12\", \"Topic12\", \"Topic12\", \"Topic12\", \"Topic12\", \"Topic12\", \"Topic12\", \"Topic12\", \"Topic12\", \"Topic12\", \"Topic12\", \"Topic12\", \"Topic12\", \"Topic12\", \"Topic12\", \"Topic12\", \"Topic12\", \"Topic12\", \"Topic12\", \"Topic12\", \"Topic12\", \"Topic12\", \"Topic12\", \"Topic12\", \"Topic12\", \"Topic12\", \"Topic12\", \"Topic12\", \"Topic13\", \"Topic13\", \"Topic13\", \"Topic13\", \"Topic13\", \"Topic13\", \"Topic13\", \"Topic13\", \"Topic13\", \"Topic13\", \"Topic13\", \"Topic13\", \"Topic13\", \"Topic13\", \"Topic13\", \"Topic13\", \"Topic13\", \"Topic13\", \"Topic13\", \"Topic13\", \"Topic13\", \"Topic13\", \"Topic13\", \"Topic13\", \"Topic13\", \"Topic13\", \"Topic13\", \"Topic13\", \"Topic13\", \"Topic13\", \"Topic13\", \"Topic13\", \"Topic13\", \"Topic13\", \"Topic13\", \"Topic13\", \"Topic13\", \"Topic13\", \"Topic13\", \"Topic13\", \"Topic13\", \"Topic13\", \"Topic13\", \"Topic13\", \"Topic13\", \"Topic13\", \"Topic13\", \"Topic13\", \"Topic13\", \"Topic13\", \"Topic13\", \"Topic13\", \"Topic13\", \"Topic13\", \"Topic13\", \"Topic13\", \"Topic13\", \"Topic13\", \"Topic13\", \"Topic13\", \"Topic13\", \"Topic13\", \"Topic13\", \"Topic13\", \"Topic13\", \"Topic13\", \"Topic13\", \"Topic13\", \"Topic13\", \"Topic13\", \"Topic13\", \"Topic13\", \"Topic13\", \"Topic13\", \"Topic13\", \"Topic13\", \"Topic13\", \"Topic14\", \"Topic14\", \"Topic14\", \"Topic14\", \"Topic14\", \"Topic14\", \"Topic14\", \"Topic14\", \"Topic14\", \"Topic14\", \"Topic14\", \"Topic14\", \"Topic14\", \"Topic14\", \"Topic14\", \"Topic14\", \"Topic14\", \"Topic14\", \"Topic14\", \"Topic14\", \"Topic14\", \"Topic14\", \"Topic14\", \"Topic14\", \"Topic14\", \"Topic14\", \"Topic14\", \"Topic14\", \"Topic14\", \"Topic14\", \"Topic14\", \"Topic14\", \"Topic14\", \"Topic14\", \"Topic14\", \"Topic14\", \"Topic14\", \"Topic14\", \"Topic14\", \"Topic14\", \"Topic14\", \"Topic14\", \"Topic14\", \"Topic14\", \"Topic14\", \"Topic14\", \"Topic14\", \"Topic14\", \"Topic14\", \"Topic14\", \"Topic14\", \"Topic14\", \"Topic14\", \"Topic14\", \"Topic14\", \"Topic14\", \"Topic14\", \"Topic14\", \"Topic14\", \"Topic14\", \"Topic14\", \"Topic14\", \"Topic14\", \"Topic14\", \"Topic14\", \"Topic14\", \"Topic14\", \"Topic14\", \"Topic14\", \"Topic14\", \"Topic14\", \"Topic14\", \"Topic15\", \"Topic15\", \"Topic15\", \"Topic15\", \"Topic15\", \"Topic15\", \"Topic15\", \"Topic15\", \"Topic15\", \"Topic15\", \"Topic15\", \"Topic15\", \"Topic15\", \"Topic15\", \"Topic15\", \"Topic15\", \"Topic15\", \"Topic15\", \"Topic15\", \"Topic15\", \"Topic15\", \"Topic15\", \"Topic15\", \"Topic15\", \"Topic15\", \"Topic15\", \"Topic15\", \"Topic15\", \"Topic15\", \"Topic15\", \"Topic15\", \"Topic15\", \"Topic15\", \"Topic15\", \"Topic15\", \"Topic15\", \"Topic15\", \"Topic15\", \"Topic15\", \"Topic15\", \"Topic15\", \"Topic15\", \"Topic15\", \"Topic15\", \"Topic15\", \"Topic15\", \"Topic15\", \"Topic15\", \"Topic15\", \"Topic15\", \"Topic15\", \"Topic15\", \"Topic15\", \"Topic15\", \"Topic15\", \"Topic15\", \"Topic15\", \"Topic15\", \"Topic15\", \"Topic15\", \"Topic15\", \"Topic15\", \"Topic15\", \"Topic15\", \"Topic15\", \"Topic15\", \"Topic15\", \"Topic15\", \"Topic15\", \"Topic15\"], \"logprob\": [30.0, 29.0, 28.0, 27.0, 26.0, 25.0, 24.0, 23.0, 22.0, 21.0, 20.0, 19.0, 18.0, 17.0, 16.0, 15.0, 14.0, 13.0, 12.0, 11.0, 10.0, 9.0, 8.0, 7.0, 6.0, 5.0, 4.0, 3.0, 2.0, 1.0, -8.139200210571289, -8.043700218200684, -7.829999923706055, -8.415200233459473, -8.282699584960938, -6.76639986038208, -8.577899932861328, -7.811800003051758, -7.088500022888184, -7.594600200653076, -8.499699592590332, -8.357500076293945, -8.503000259399414, -7.405300140380859, -6.894700050354004, -8.366700172424316, -8.680000305175781, -8.780400276184082, -8.373100280761719, -8.782699584960938, -8.598799705505371, -8.784199714660645, -6.9542999267578125, -8.786199569702148, -8.792099952697754, -8.899700164794922, -8.900300025939941, -9.02560043334961, -8.00629997253418, -9.026000022888184, -7.40749979019165, -6.927999973297119, -6.406799793243408, -7.629899978637695, -6.400400161743164, -7.443999767303467, -5.91480016708374, -6.346099853515625, -6.667399883270264, -8.014399528503418, -6.508900165557861, -6.479100227355957, -6.716700077056885, -7.554599761962891, -7.745100021362305, -7.307199954986572, -7.912799835205078, -5.825200080871582, -5.508600234985352, -6.587100028991699, -7.2357001304626465, -6.386499881744385, -7.012800216674805, -6.116799831390381, -6.381400108337402, -6.2164998054504395, -6.235099792480469, -4.863999843597412, -5.5742998123168945, -5.167900085449219, -6.535600185394287, -6.064300060272217, -6.583899974822998, -5.780099868774414, -6.070199966430664, -5.98199987411499, -5.549799919128418, -5.90880012512207, -5.98960018157959, -5.921500205993652, -5.766600131988525, -5.952000141143799, -5.631800174713135, -5.7006001472473145, -6.025400161743164, -5.753600120544434, -5.972400188446045, -5.859499931335449, -5.809800148010254, -5.991199970245361, -5.796999931335449, -5.959400177001953, -6.0467000007629395, -6.057700157165527, -6.105899810791016, -7.055699825286865, -8.073200225830078, -7.112500190734863, -7.498199939727783, -8.254400253295898, -6.783899784088135, -8.397500038146973, -8.398200035095215, -8.560700416564941, -8.56190013885498, -4.955100059509277, -8.656100273132324, -8.759099960327148, -8.780099868774414, -7.613900184631348, -8.886799812316895, -7.4807000160217285, -8.479599952697754, -9.027899742126465, -6.593500137329102, -9.17039966583252, -9.056599617004395, -8.579899787902832, -9.048199653625488, -9.342300415039062, -9.34220027923584, -9.350899696350098, -9.349599838256836, -5.723100185394287, -9.353300094604492, -5.208799839019775, -4.452700138092041, -6.729899883270264, -7.685200214385986, -7.704800128936768, -5.723100185394287, -6.3881001472473145, -6.188399791717529, -6.859399795532227, -5.603499889373779, -7.738999843597412, -5.797100067138672, -4.901400089263916, -6.39169979095459, -7.204800128936768, -4.564199924468994, -7.503600120544434, -6.731500148773193, -5.787300109863281, -5.552999973297119, -5.60699987411499, -5.465000152587891, -5.5117998123168945, -5.267199993133545, -4.94890022277832, -4.925000190734863, -5.780300140380859, -5.926599979400635, -5.043000221252441, -5.531000137329102, -4.988500118255615, -5.912899971008301, -5.421500205993652, -5.455399990081787, -5.281000137329102, -5.735300064086914, -5.588699817657471, -5.809000015258789, -5.57919979095459, -5.537899971008301, -5.601099967956543, -5.697999954223633, -5.77400016784668, -5.425300121307373, -4.795599937438965, -6.009099960327148, -6.663000106811523, -6.513800144195557, -6.888000011444092, -5.30679988861084, -5.395199775695801, -6.009799957275391, -4.129000186920166, -7.375500202178955, -6.610000133514404, -7.376200199127197, -4.5746002197265625, -7.34499979019165, -6.922999858856201, -4.892899990081787, -6.138899803161621, -7.1194000244140625, -8.060500144958496, -8.147000312805176, -7.923600196838379, -6.393199920654297, -7.022900104522705, -6.924200057983398, -8.246500015258789, -6.334799766540527, -5.787300109863281, -8.344599723815918, -8.346599578857422, -6.368599891662598, -7.0578999519348145, -7.213799953460693, -6.721700191497803, -6.100900173187256, -7.426199913024902, -5.529300212860107, -5.295899868011475, -5.01609992980957, -5.341300010681152, -6.171599864959717, -5.320199966430664, -5.06790018081665, -5.677599906921387, -5.247399806976318, -5.691500186920166, -5.334700107574463, -5.3445000648498535, -5.348100185394287, -5.672299861907959, -5.6041998863220215, -5.595799922943115, -5.60830020904541, -5.428500175476074, -5.753399848937988, -5.651100158691406, -5.7617998123168945, -5.918099880218506, -5.930200099945068, -7.066299915313721, -8.110600471496582, -8.121999740600586, -8.132200241088867, -7.833499908447266, -8.471400260925293, -8.483400344848633, -8.623000144958496, -7.34250020980835, -8.491299629211426, -8.789799690246582, -8.791999816894531, -7.533299922943115, -8.643099784851074, -7.883399963378906, -8.039999961853027, -7.203700065612793, -8.837699890136719, -8.840399742126465, -8.32699966430664, -7.953100204467773, -8.25730037689209, -8.186599731445312, -8.46780014038086, -8.617400169372559, -8.125499725341797, -8.617300033569336, -8.910900115966797, -8.303999900817871, -7.471399784088135, -7.5320000648498535, -6.316500186920166, -7.05210018157959, -6.537700176239014, -6.042300224304199, -7.617199897766113, -7.079800128936768, -5.31790018081665, -6.429299831390381, -6.431600093841553, -7.043099880218506, -7.311699867248535, -5.160200119018555, -6.1143999099731445, -7.098400115966797, -7.121099948883057, -5.434199810028076, -7.021399974822998, -6.157199859619141, -5.023499965667725, -6.126699924468994, -6.686399936676025, -6.72629976272583, -5.484899997711182, -5.449699878692627, -5.648499965667725, -5.634099960327148, -6.238100051879883, -5.991099834442139, -6.319300174713135, -5.643099784851074, -5.656499862670898, -6.115900039672852, -5.528500080108643, -5.889500141143799, -5.574900150299072, -5.4847002029418945, -6.145500183105469, -6.097400188446045, -6.1255998611450195, -5.899199962615967, -5.700200080871582, -5.525700092315674, -5.886000156402588, -5.872799873352051, -6.021100044250488, -5.873199939727783, -5.808800220489502, -5.852799892425537, -5.8790998458862305, -6.054800033569336, -5.999899864196777, -6.100500106811523, -4.004199981689453, -4.969799995422363, -3.819999933242798, -5.375800132751465, -5.85890007019043, -4.9191999435424805, -6.933199882507324, -6.774199962615967, -5.50629997253418, -4.849100112915039, -6.396699905395508, -7.055099964141846, -7.504899978637695, -7.110000133514404, -7.4120001792907715, -6.808800220489502, -7.595900058746338, -8.032400131225586, -6.544600009918213, -5.805500030517578, -8.254199981689453, -8.254400253295898, -7.504799842834473, -8.533699989318848, -8.534299850463867, -7.643599987030029, -8.543399810791016, -8.018799781799316, -8.190600395202637, -8.710000038146973, -4.748199939727783, -6.869699954986572, -6.1981000900268555, -6.230199813842773, -7.168900012969971, -5.203700065612793, -4.742199897766113, -5.174799919128418, -4.8867998123168945, -6.30649995803833, -6.254000186920166, -5.957099914550781, -5.092400074005127, -5.611599922180176, -5.586400032043457, -5.442999839782715, -5.590000152587891, -6.060999870300293, -5.723400115966797, -5.453499794006348, -5.654699802398682, -5.463200092315674, -5.835999965667725, -5.79640007019043, -5.712200164794922, -5.673500061035156, -5.808899879455566, -5.903500080108643, -5.901599884033203, -5.866199970245361, -5.8927998542785645, -5.2555999755859375, -5.530900001525879, -7.435400009155273, -7.6290998458862305, -7.700500011444092, -7.253900051116943, -5.723599910736084, -7.869999885559082, -8.482600212097168, -8.65310001373291, -8.655400276184082, -8.660499572753906, -7.966899871826172, -8.512999534606934, -7.617300033569336, -8.676600456237793, -8.698599815368652, -8.408900260925293, -8.429400444030762, -7.800600051879883, -8.327099800109863, -5.807600021362305, -6.89169979095459, -8.335200309753418, -8.237600326538086, -7.646599769592285, -8.069899559020996, -8.476099967956543, -8.531399726867676, -8.655099868774414, -7.712100028991699, -7.603099822998047, -7.303699970245361, -7.524499893188477, -7.499199867248535, -7.474999904632568, -6.234099864959717, -6.5457000732421875, -5.6996002197265625, -6.86929988861084, -7.6819000244140625, -6.179999828338623, -6.908400058746338, -5.842299938201904, -7.75029993057251, -6.529900074005127, -5.1508002281188965, -5.410200119018555, -5.99370002746582, -5.8755998611450195, -5.38730001449585, -5.614799976348877, -5.56820011138916, -6.649700164794922, -5.3942999839782715, -6.161200046539307, -5.540500164031982, -6.07480001449585, -5.6331000328063965, -5.89139986038208, -6.100200176239014, -5.9375, -6.082699775695801, -6.412099838256836, -6.2621002197265625, -6.091800212860107, -6.11959981918335, -6.125800132751465, -5.951600074768066, -6.0493998527526855, -6.179999828338623, -6.1149001121521, -6.762800216674805, -7.90339994430542, -8.232999801635742, -8.243000030517578, -8.259400367736816, -7.7866997718811035, -8.163999557495117, -8.261199951171875, -8.455100059509277, -7.934800148010254, -8.463800430297852, -7.958700180053711, -7.968200206756592, -8.491499900817871, -8.351300239562988, -8.217700004577637, -8.222000122070312, -8.516599655151367, -8.23169994354248, -8.525799751281738, -8.232000350952148, -8.378100395202637, -7.422800064086914, -8.461700439453125, -8.461000442504883, -8.049699783325195, -8.568699836730957, -7.744800090789795, -8.317099571228027, -8.089500427246094, -7.915999889373779, -7.544300079345703, -8.024299621582031, -6.556399822235107, -7.10830020904541, -7.568600177764893, -6.651299953460693, -5.750800132751465, -5.984399795532227, -6.3028998374938965, -6.786399841308594, -7.101399898529053, -6.648499965667725, -6.683000087738037, -6.030600070953369, -7.170100212097168, -7.274400234222412, -5.203800201416016, -6.931300163269043, -6.606200218200684, -6.749199867248535, -6.905300140380859, -6.0756001472473145, -6.5903000831604, -6.072400093078613, -6.736400127410889, -6.841599941253662, -5.349400043487549, -6.2519001960754395, -5.269499778747559, -5.5254998207092285, -5.064799785614014, -6.582399845123291, -5.242400169372559, -6.553899765014648, -5.75629997253418, -6.000800132751465, -5.562900066375732, -5.906899929046631, -5.468599796295166, -6.142399787902832, -6.2108001708984375, -6.265600204467773, -5.691999912261963, -5.81850004196167, -5.936600208282471, -6.034599781036377, -5.888800144195557, -5.697500228881836, -6.316699981689453, -6.081299781799316, -6.173900127410889, -6.107600212097168, -5.969900131225586, -6.161499977111816, -6.1774001121521, -6.866199970245361, -8.094400405883789, -8.124199867248535, -7.558700084686279, -8.186599731445312, -8.386199951171875, -8.231200218200684, -8.15060043334961, -6.490600109100342, -8.067899703979492, -7.980500221252441, -8.373700141906738, -7.605800151824951, -8.243499755859375, -8.541399955749512, -8.571700096130371, -8.590100288391113, -8.337599754333496, -8.594599723815918, -8.304200172424316, -8.602299690246582, -8.59749984741211, -8.611000061035156, -8.321100234985352, -8.10789966583252, -6.082499980926514, -8.477399826049805, -8.043999671936035, -8.51039981842041, -7.59689998626709, -6.472499847412109, -5.364099979400635, -5.431099891662598, -7.750400066375732, -4.672399997711182, -7.883399963378906, -5.563600063323975, -6.172500133514404, -6.796199798583984, -5.978799819946289, -5.406000137329102, -6.0441999435424805, -6.973800182342529, -5.743800163269043, -5.545100212097168, -6.505799770355225, -4.961299896240234, -5.087500095367432, -5.462200164794922, -5.605400085449219, -6.144400119781494, -5.67080020904541, -5.7606000900268555, -5.267499923706055, -5.288700103759766, -6.057700157165527, -5.36959981918335, -5.92609977722168, -5.788000106811523, -6.004000186920166, -5.504199981689453, -5.835700035095215, -5.645699977874756, -5.853000164031982, -5.618800163269043, -5.945199966430664, -5.910900115966797, -5.881199836730957, -5.876999855041504, -5.914299964904785, -5.893400192260742, -5.897799968719482, -5.906400203704834, -6.9293999671936035, -6.8958001136779785, -6.601399898529053, -7.413400173187256, -6.493100166320801, -6.544099807739258, -7.561699867248535, -7.706900119781494, -7.003600120544434, -7.678800106048584, -7.235899925231934, -7.062300205230713, -3.976599931716919, -3.6967999935150146, -7.797299861907959, -7.178899765014648, -7.940100193023682, -8.255999565124512, -8.25059986114502, -8.29990005493164, -8.016400337219238, -8.24429988861084, -6.9664998054504395, -8.244000434875488, -8.2475004196167, -7.179999828338623, -8.256699562072754, -8.24530029296875, -8.42020034790039, -8.456199645996094, -7.472099781036377, -7.8846001625061035, -5.430099964141846, -6.301700115203857, -4.754700183868408, -6.828000068664551, -5.883999824523926, -4.15369987487793, -5.703700065612793, -5.103000164031982, -5.088200092315674, -4.0868000984191895, -4.46589994430542, -6.06220006942749, -4.992400169372559, -4.963099956512451, -5.547500133514404, -5.008900165557861, -5.805799961090088, -4.836900234222412, -6.253600120544434, -5.1479997634887695, -6.39300012588501, -5.117499828338623, -5.941800117492676, -5.218900203704834, -5.587399959564209, -5.700699806213379, -5.339000225067139, -5.489500045776367, -5.689499855041504, -5.615499973297119, -5.563300132751465, -5.486299991607666, -5.433899879455566, -5.693999767303467, -5.7393999099731445, -5.161900043487549, -7.3165998458862305, -7.681000232696533, -6.468900203704834, -7.319499969482422, -6.110899925231934, -7.6930999755859375, -7.880799770355225, -7.711100101470947, -6.797900199890137, -7.669600009918213, -7.220099925994873, -7.340199947357178, -7.311600208282471, -6.918000221252441, -7.749300003051758, -7.071800231933594, -7.9145002365112305, -7.56790018081665, -7.701200008392334, -8.153499603271484, -7.882999897003174, -8.187000274658203, -7.091100215911865, -8.196499824523926, -7.935500144958496, -7.945799827575684, -7.4405999183654785, -8.225500106811523, -7.962100028991699, -4.1092000007629395, -3.7660000324249268, -5.518099784851074, -6.793600082397461, -3.89739990234375, -7.07450008392334, -5.560800075531006, -5.545000076293945, -5.905900001525879, -6.526899814605713, -6.961599826812744, -6.210599899291992, -4.83050012588501, -5.155300140380859, -5.178100109100342, -6.2565999031066895, -5.786399841308594, -6.125, -6.005499839782715, -6.252099990844727, -5.4274001121521, -5.835100173950195, -5.770400047302246, -5.645500183105469, -5.558000087738037, -5.823200225830078, -5.358399868011475, -5.458099842071533, -5.657100200653076, -5.582399845123291, -5.445799827575684, -5.603400230407715, -5.432499885559082, -5.718100070953369, -5.5808000564575195, -5.661399841308594, -5.599400043487549, -5.793499946594238, -5.7494001388549805, -5.815100193023682, -5.894899845123291, -4.377299785614014, -6.218299865722656, -5.174200057983398, -4.441400051116943, -6.810200214385986, -5.5945000648498535, -7.674200057983398, -7.298399925231934, -7.626299858093262, -7.38129997253418, -7.57859992980957, -7.505099773406982, -7.906499862670898, -6.230800151824951, -7.903800010681152, -5.560699939727783, -6.8780999183654785, -6.682400226593018, -7.6529998779296875, -7.789999961853027, -7.7947001457214355, -6.883399963378906, -7.321800231933594, -7.646900177001953, -7.765500068664551, -7.850900173187256, -7.808000087738037, -8.166899681091309, -8.14780044555664, -7.864799976348877, -7.252200126647949, -7.648200035095215, -5.711400032043457, -5.432300090789795, -6.129000186920166, -7.110000133514404, -6.137400150299072, -5.370500087738037, -6.43209981918335, -5.802000045776367, -5.48199987411499, -5.611100196838379, -5.900700092315674, -5.486599922180176, -5.883800029754639, -5.8024001121521, -5.154200077056885, -6.509900093078613, -5.305600166320801, -6.480199813842773, -6.233099937438965, -5.184500217437744, -5.633600234985352, -5.981200218200684, -5.755099773406982, -5.393499851226807, -5.530900001525879, -5.768499851226807, -5.776199817657471, -5.612800121307373, -5.679599761962891, -5.733699798583984, -5.751200199127197, -5.857800006866455, -5.845300197601318, -7.099800109863281, -6.946899890899658, -6.2129998207092285, -6.322999954223633, -7.104599952697754, -7.4182000160217285, -7.530099868774414, -7.546500205993652, -7.409299850463867, -7.1427001953125, -7.378699779510498, -7.381199836730957, -7.775000095367432, -7.77370023727417, -7.839099884033203, -7.771999835968018, -7.784299850463867, -7.786600112915039, -7.796500205993652, -7.797599792480469, -7.680099964141846, -7.515699863433838, -7.117300033569336, -7.840000152587891, -7.841300010681152, -7.354000091552734, -7.867800235748291, -7.870100021362305, -7.356800079345703, -7.872600078582764, -6.2565999031066895, -7.384399890899658, -7.483799934387207, -5.82919979095459, -6.978899955749512, -6.72599983215332, -7.313799858093262, -5.793300151824951, -6.8592000007629395, -5.939199924468994, -6.632900238037109, -4.920400142669678, -6.913400173187256, -5.823599815368652, -6.758900165557861, -5.152900218963623, -5.097400188446045, -5.4608001708984375, -5.17140007019043, -5.966800212860107, -6.532599925994873, -5.603300094604492, -6.215700149536133, -5.864200115203857, -5.318999767303467, -5.999800205230713, -5.780600070953369, -5.503399848937988, -5.9293999671936035, -6.129899978637695, -6.064000129699707, -5.906599998474121, -5.899600028991699, -5.695400238037109, -6.054599761962891, -6.031099796295166, -5.864099979400635, -6.027900218963623, -5.875999927520752, -6.026700019836426, -5.993899822235107, -6.082900047302246, -6.081299781799316, -7.132900238037109, -6.301499843597412, -7.130799770355225, -7.158299922943115, -7.191100120544434, -7.125699996948242, -7.148399829864502, -6.875, -7.128499984741211, -7.155300140380859, -7.279600143432617, -7.144700050354004, -7.126999855041504, -7.238999843597412, -7.146299839019775, -7.234499931335449, -7.788300037384033, -7.775599956512451, -7.788099765777588, -7.7866997718811035, -7.792600154876709, -7.799099922180176, -7.800899982452393, -7.81790018081665, -7.802999973297119, -7.857900142669678, -7.210000038146973, -7.150599956512451, -7.162700176239014, -7.787099838256836, -6.4217000007629395, -6.200699806213379, -7.250999927520752, -7.1255998611450195, -7.1971001625061035, -6.513299942016602, -6.525400161743164, -6.6321001052856445, -7.141300201416016, -4.942699909210205, -5.5482001304626465, -6.013500213623047, -6.008900165557861, -6.463699817657471, -4.743000030517578, -5.09660005569458, -6.0808000564575195, -4.695499897003174, -4.960999965667725, -5.779200077056885, -5.5065999031066895, -6.084199905395508, -5.0518999099731445, -5.4145002365112305, -5.939199924468994, -5.255899906158447, -4.919000148773193, -5.959799766540527, -5.501800060272217, -5.502999782562256, -5.8403000831604, -5.9893999099731445, -5.639900207519531, -5.827499866485596, -5.809299945831299, -5.8643999099731445, -5.644999980926514, -5.61299991607666, -5.581299781799316, -5.839200019836426, -5.730000019073486, -5.8958001136779785, -5.869900226593018, -5.888199806213379, -5.876800060272217, -5.928800106048584, -5.927999973297119, -4.104800224304199, -6.573299884796143, -7.078999996185303, -6.468599796295166, -6.8277997970581055, -3.6982998847961426, -6.826099872589111, -5.084400177001953, -6.82480001449585, -7.4928998947143555, -7.487100124359131, -7.487599849700928, -7.488500118255615, -7.490900039672852, -7.488100051879883, -7.479899883270264, -7.507199764251709, -7.480299949645996, -7.488800048828125, -7.486999988555908, -7.372099876403809, -6.819499969482422, -7.496399879455566, -7.486700057983398, -7.482100009918213, -7.4847002029418945, -6.813799858093262, -7.4882001876831055, -7.488999843597412, -7.488800048828125, -6.226200103759766, -7.262599945068359, -7.167900085449219, -4.568299770355225, -6.824699878692627, -6.69890022277832, -6.83620023727417, -5.1545000076293945, -5.7708001136779785, -5.848899841308594, -4.914599895477295, -5.500999927520752, -6.4328999519348145, -6.038700103759766, -6.424300193786621, -6.6321001052856445, -6.156199932098389, -6.4293999671936035, -6.2617998123168945, -4.725200176239014, -4.9882001876831055, -4.953100204467773, -5.621200084686279, -5.13070011138916, -5.042399883270264, -6.024400234222412, -5.2789998054504395, -6.01609992980957, -5.621699810028076, -5.535600185394287, -5.714799880981445, -5.905700206756592, -5.817699909210205, -5.883399963378906, -5.837200164794922, -5.638400077819824, -5.857600212097168, -5.80709981918335, -5.791999816894531, -5.905900001525879, -5.850500106811523, -5.98390007019043, -5.231900215148926, -6.167900085449219, -5.2459001541137695, -6.879499912261963, -7.073699951171875, -6.967899799346924, -7.511899948120117, -7.512499809265137, -7.5304999351501465, -7.51170015335083, -7.511199951171875, -7.514699935913086, -6.166600227355957, -7.513199806213379, -7.513999938964844, -7.511600017547607, -7.5117998123168945, -7.5142998695373535, -7.531099796295166, -7.575500011444092, -7.510000228881836, -7.515100002288818, -7.1305999755859375, -6.451099872589111, -7.536499977111816, -6.861100196838379, -7.510300159454346, -7.512899875640869, -7.51140022277832, -6.905099868774414, -6.519899845123291, -7.01639986038208, -6.022299766540527, -6.850900173187256, -6.640900135040283, -4.614999771118164, -4.950699806213379, -6.879199981689453, -6.172999858856201, -6.64709997177124, -6.576600074768066, -6.447999954223633, -4.643400192260742, -5.745699882507324, -6.371600151062012, -5.971700191497803, -6.087600231170654, -5.516900062561035, -6.194900035858154, -5.173399925231934, -5.642600059509277, -6.448999881744385, -5.342299938201904, -5.312699794769287, -6.271399974822998, -5.624499797821045, -5.611400127410889, -5.814499855041504, -6.07420015335083, -5.885499954223633, -5.913599967956543, -6.082300186157227, -6.208899974822998, -6.0696001052856445, -6.037499904632568, -5.970799922943115, -6.077600002288818, -6.167699813842773, -6.130899906158447, -6.169400215148926], \"loglift\": [30.0, 29.0, 28.0, 27.0, 26.0, 25.0, 24.0, 23.0, 22.0, 21.0, 20.0, 19.0, 18.0, 17.0, 16.0, 15.0, 14.0, 13.0, 12.0, 11.0, 10.0, 9.0, 8.0, 7.0, 6.0, 5.0, 4.0, 3.0, 2.0, 1.0, 1.644700050354004, 1.6348999738693237, 1.6252000331878662, 1.621500015258789, 1.6198999881744385, 1.6150000095367432, 1.6146999597549438, 1.614300012588501, 1.6131999492645264, 1.6122000217437744, 1.6122000217437744, 1.61080002784729, 1.6087000370025635, 1.604699969291687, 1.6022000312805176, 1.6008000373840332, 1.6002000570297241, 1.5958000421524048, 1.5949000120162964, 1.5936000347137451, 1.5931999683380127, 1.592900037765503, 1.5916999578475952, 1.5908000469207764, 1.5844999551773071, 1.5831999778747559, 1.5822999477386475, 1.5773999691009521, 1.5772000551223755, 1.5770000219345093, 1.5764000415802002, 1.5713000297546387, 1.5643999576568604, 1.5760999917984009, 1.5527000427246094, 1.5658999681472778, 1.527400016784668, 1.5372999906539917, 1.527500033378601, 1.5702999830245972, 1.4795000553131104, 1.4708000421524048, 1.4816999435424805, 1.5111000537872314, 1.5302000045776367, 1.4747999906539917, 1.5434999465942383, 1.1957000494003296, 1.1359000205993652, 1.284999966621399, 1.4150999784469604, 1.2236000299453735, 1.3507000207901, 1.0995999574661255, 1.1684999465942383, 1.0813000202178955, 0.9664999842643738, 0.3441999852657318, 0.6614999771118164, 0.29910001158714294, 0.9850999712944031, 0.6492999792098999, 0.9858999848365784, 0.4162999987602234, 0.6051999926567078, 0.4657999873161316, 0.07240000367164612, 0.2849999964237213, 0.3614000082015991, 0.2547000050544739, 0.04910000041127205, 0.26930001378059387, -0.24070000648498535, -0.2500999867916107, 0.2702000141143799, -0.2782999873161316, 0.14640000462532043, -0.16419999301433563, -0.3287999927997589, 0.1151999980211258, -0.46070000529289246, -0.09489999711513519, 0.22910000383853912, -0.20489999651908875, 0.04670000076293945, 1.6886999607086182, 1.6620999574661255, 1.659500002861023, 1.6582000255584717, 1.6526999473571777, 1.645900011062622, 1.6440999507904053, 1.6432000398635864, 1.6358000040054321, 1.634600043296814, 1.6345000267028809, 1.6282000541687012, 1.6211999654769897, 1.604099988937378, 1.6018999814987183, 1.6003999710083008, 1.5901000499725342, 1.590000033378601, 1.579800009727478, 1.5773999691009521, 1.5707000494003296, 1.5636999607086182, 1.5636999607086182, 1.5607999563217163, 1.555299997329712, 1.5547000169754028, 1.5503000020980835, 1.5490000247955322, 1.5437999963760376, 1.5358999967575073, 1.5110000371932983, 1.4738999605178833, 1.5162999629974365, 1.5297000408172607, 1.5263999700546265, 1.4801000356674194, 1.4753999710083008, 1.4249000549316406, 1.4345999956130981, 1.3391000032424927, 1.4819999933242798, 1.2414000034332275, 1.090499997138977, 1.2786999940872192, 1.3970999717712402, 0.7720999717712402, 1.4163000583648682, 1.2098000049591064, 0.9581999778747559, 0.8715999722480774, 0.8485000133514404, 0.7698000073432922, 0.7660999894142151, 0.6765000224113464, 0.5321000218391418, 0.4659999907016754, 0.7990999817848206, 0.8339999914169312, 0.4075999855995178, 0.6291000247001648, 0.21969999372959137, 0.7784000039100647, 0.40619999170303345, 0.39739999175071716, 0.19419999420642853, 0.5009999871253967, 0.2386000007390976, 0.5238999724388123, 0.1160999983549118, -0.07090000063180923, 0.0210999995470047, 0.2363000065088272, 0.06260000169277191, 2.080399990081787, 2.0799999237060547, 2.0797998905181885, 2.077899932861328, 2.077699899673462, 2.074700117111206, 2.074199914932251, 2.0720999240875244, 2.0625, 2.0597000122070312, 2.059499979019165, 2.0592000484466553, 2.0583999156951904, 2.0552000999450684, 2.0548999309539795, 2.0517001152038574, 2.0485999584198, 2.0429999828338623, 2.0378000736236572, 2.0315001010894775, 2.025599956512451, 2.024899959564209, 2.0223000049591064, 2.019399881362915, 2.015199899673462, 2.0144999027252197, 2.013000011444092, 2.0125999450683594, 2.01200008392334, 2.0100998878479004, 2.008500099182129, 2.0037999153137207, 2.000999927520752, 1.9077999591827393, 1.8214999437332153, 1.9420000314712524, 1.1751999855041504, 0.9776999950408936, 0.8203999996185303, 0.8776000142097473, 1.2937999963760376, 0.5074999928474426, 0.26829999685287476, 0.746999979019165, 0.1437000036239624, 0.5864999890327454, 0.1462000012397766, 0.1307000070810318, 0.10249999910593033, 0.47049999237060547, 0.26019999384880066, 0.23160000145435333, 0.24449999630451202, -0.22030000388622284, 0.4066999852657318, 0.044199999421834946, 0.1818999946117401, 0.21709999442100525, 0.19040000438690186, 2.18969988822937, 2.1547999382019043, 2.1435000896453857, 2.133699893951416, 2.1198999881744385, 2.1171000003814697, 2.1038999557495117, 2.0999999046325684, 2.098299980163574, 2.09689998626709, 2.089600086212158, 2.0871999263763428, 2.083400011062622, 2.0831000804901123, 2.0708999633789062, 2.058500051498413, 2.05679988861084, 2.045799970626831, 2.039900064468384, 2.032599925994873, 2.0255000591278076, 2.0141000747680664, 1.9983999729156494, 1.9982000589370728, 1.9979000091552734, 1.9804999828338623, 1.9753999710083008, 1.9737000465393066, 1.9718999862670898, 1.9708000421524048, 1.9129999876022339, 1.8350000381469727, 1.8488999605178833, 1.774899959564209, 1.6878999471664429, 1.8669999837875366, 1.7716000080108643, 1.443600058555603, 1.6519999504089355, 1.6180000305175781, 1.7128000259399414, 1.747499942779541, 1.0611000061035156, 1.332200050354004, 1.6275999546051025, 1.6160999536514282, 0.9397000074386597, 1.5200999975204468, 1.0688999891281128, 0.44350001215934753, 0.993399977684021, 1.3193000555038452, 1.3351999521255493, 0.5145000219345093, 0.4846000075340271, 0.5727999806404114, 0.5623000264167786, 0.9605000019073486, 0.7738000154495239, 1.0204999446868896, 0.46320000290870667, 0.46230000257492065, 0.815500020980835, 0.2870999872684479, 0.5936999917030334, 0.2896000146865845, 0.13750000298023224, 0.7311000227928162, 0.6480000019073486, 0.6626999974250793, 0.3366999924182892, -0.004900000058114529, -0.3174999952316284, 0.2345999926328659, 0.15719999372959137, 0.42809998989105225, -0.04580000042915344, -0.3582000136375427, -0.4616999924182892, -0.40380001068115234, 0.3158000111579895, -0.5188999772071838, 0.5776000022888184, 2.2860000133514404, 2.280400037765503, 2.2792999744415283, 2.277600049972534, 2.2720999717712402, 2.268699884414673, 2.2655999660491943, 2.253499984741211, 2.2499001026153564, 2.2493999004364014, 2.2472000122070312, 2.246999979019165, 2.2407000064849854, 2.2291998863220215, 2.2283999919891357, 2.2149999141693115, 2.212399959564209, 2.210200071334839, 2.198499917984009, 2.1937999725341797, 2.192199945449829, 2.191200017929077, 2.1891000270843506, 2.167099952697754, 2.166300058364868, 2.1628000736236572, 2.1577000617980957, 2.1533000469207764, 2.150700092315674, 2.147599935531616, 2.1226000785827637, 2.1059999465942383, 2.083899974822998, 1.9678000211715698, 2.039799928665161, 1.7085000276565552, 1.5313999652862549, 1.5388000011444092, 1.25600004196167, 1.5878000259399414, 1.406599998474121, 1.2102999687194824, 0.3828999996185303, 0.6151000261306763, 0.5898000001907349, 0.3847000002861023, 0.4399999976158142, 1.0257999897003174, 0.49549999833106995, 0.027499999850988388, 0.33719998598098755, -0.0722000002861023, 0.47380000352859497, 0.3562000095844269, -0.016899999231100082, -0.22300000488758087, 0.19050000607967377, 0.46720001101493835, 0.2337000072002411, -0.6579999923706055, -0.06539999693632126, 2.40910005569458, 2.378999948501587, 2.3661999702453613, 2.3557000160217285, 2.3533999919891357, 2.3459999561309814, 2.341099977493286, 2.3387999534606934, 2.27020001411438, 2.2560999393463135, 2.252500057220459, 2.2490999698638916, 2.2423999309539795, 2.24180006980896, 2.240000009536743, 2.232800006866455, 2.2102999687194824, 2.210099935531616, 2.2046000957489014, 2.1830999851226807, 2.1738998889923096, 2.1682000160217285, 2.164299964904785, 2.1642000675201416, 2.160399913787842, 2.151700019836426, 2.1384999752044678, 2.137500047683716, 2.1340999603271484, 2.0954999923706055, 2.0927000045776367, 2.086199998855591, 2.0139999389648438, 2.035099983215332, 2.0081000328063965, 1.993899941444397, 1.7086999416351318, 1.7563999891281128, 1.5281000137329102, 1.7999000549316406, 2.011699914932251, 1.4082000255584717, 1.6406999826431274, 1.1785999536514282, 1.9421000480651855, 1.254699945449829, 0.31610000133514404, 0.21199999749660492, 0.6816999912261963, 0.5722000002861023, 0.06319999694824219, 0.23800000548362732, 0.12710000574588776, 1.1680999994277954, -0.18610000610351562, 0.5685999989509583, -0.14949999749660492, 0.4083999991416931, -0.15780000388622284, 0.1386999934911728, 0.3483999967575073, 0.061900001019239426, 0.21279999613761902, 0.7078999876976013, 0.3824999928474426, 0.02879999950528145, 0.07689999788999557, 0.05040000006556511, -0.4706000089645386, -0.2337000072002411, 0.1298999935388565, -0.2874999940395355, 2.7251999378204346, 2.724299907684326, 2.6847000122070312, 2.6754000186920166, 2.65910005569458, 2.6133999824523926, 2.5957999229431152, 2.500499963760376, 2.4916999340057373, 2.46589994430542, 2.4502999782562256, 2.444700002670288, 2.4340999126434326, 2.419300079345703, 2.4147000312805176, 2.4042999744415283, 2.399199962615967, 2.3961000442504883, 2.3938000202178955, 2.388400077819824, 2.387500047683716, 2.3814001083374023, 2.3754000663757324, 2.3499999046325684, 2.34879994392395, 2.345400094985962, 2.3447999954223633, 2.309299945831299, 2.3052000999450684, 2.3025999069213867, 2.295099973678589, 2.262399911880493, 2.2792999744415283, 2.0225000381469727, 2.0831000804901123, 2.1356000900268555, 1.7826000452041626, 1.4479000568389893, 1.5049999952316284, 1.6186000108718872, 1.7727999687194824, 1.8911999464035034, 1.6892000436782837, 1.6806999444961548, 1.368499994277954, 1.9036999940872192, 1.944200038909912, 0.8263000249862671, 1.7503000497817993, 1.565500020980835, 1.6354000568389893, 1.7129000425338745, 1.1505000591278076, 1.4997999668121338, 1.1292999982833862, 1.5860999822616577, 1.6543999910354614, 0.5151000022888184, 1.194700002670288, 0.42579999566078186, 0.5809000134468079, 0.14339999854564667, 1.4359999895095825, 0.2328999936580658, 1.3940000534057617, 0.6175000071525574, 0.7875000238418579, 0.25279998779296875, 0.6119999885559082, -0.0017000000225380063, 0.7889999747276306, 0.862500011920929, 0.9218999743461609, -0.06970000267028809, 0.12520000338554382, 0.259799987077713, 0.44859999418258667, 0.11050000041723251, -0.361299991607666, 0.901199996471405, 0.03750000149011612, 0.382099986076355, 0.11129999905824661, -0.5194000005722046, 0.2639999985694885, 0.2718000113964081, 2.7711000442504883, 2.6703999042510986, 2.6482999324798584, 2.587599992752075, 2.5841000080108643, 2.5404000282287598, 2.533900022506714, 2.4809000492095947, 2.480299949645996, 2.446899890899658, 2.4249000549316406, 2.4195001125335693, 2.386199951171875, 2.376800060272217, 2.376699924468994, 2.3536999225616455, 2.3359999656677246, 2.32669997215271, 2.3245999813079834, 2.3180999755859375, 2.315500020980835, 2.315000057220459, 2.313999891281128, 2.304500102996826, 2.299099922180176, 2.28629994392395, 2.2815001010894775, 2.259200096130371, 2.256999969482422, 2.224900007247925, 2.1415998935699463, 2.049299955368042, 1.7853000164031982, 2.171600103378296, 1.5542999505996704, 2.1784000396728516, 1.638100028038025, 1.4875999689102173, 1.6572999954223633, 1.2578999996185303, 0.9549999833106995, 1.253600001335144, 1.6656999588012695, 0.9006999731063843, 0.6908000111579895, 1.2826000452041626, 0.24690000712871552, 0.3034999966621399, 0.47209998965263367, 0.570900022983551, 0.9377999901771545, 0.5504999756813049, 0.6100999712944031, 0.19949999451637268, 0.16179999709129333, 0.7766000032424927, 0.11129999905824661, 0.6323999762535095, 0.4781000018119812, 0.7095999717712402, 0.11800000071525574, 0.48420000076293945, 0.17000000178813934, 0.4426000118255615, -0.14350000023841858, 0.5034000277519226, 0.2854999899864197, 0.14880000054836273, 0.12240000069141388, 0.19200000166893005, -0.0406000018119812, -0.07050000131130219, -0.06989999860525131, 3.2348999977111816, 3.191999912261963, 3.186800003051758, 3.1142001152038574, 3.050100088119507, 3.038599967956543, 2.961699962615967, 2.934499979019165, 2.876300096511841, 2.845400094985962, 2.8382999897003174, 2.800100088119507, 2.7839999198913574, 2.7585999965667725, 2.755500078201294, 2.697700023651123, 2.6940999031066895, 2.670799970626831, 2.668100118637085, 2.631500005722046, 2.6161999702453613, 2.517400026321411, 2.474600076675415, 2.4346001148223877, 2.385499954223633, 2.380199909210205, 2.3691000938415527, 2.3654000759124756, 2.3413000106811523, 2.338900089263916, 2.331399917602539, 2.332200050354004, 2.240299940109253, 2.271699905395508, 2.1879000663757324, 2.228600025177002, 2.0571999549865723, 1.7727999687194824, 1.909600019454956, 1.6424000263214111, 1.631700038909912, 1.249500036239624, 1.3705999851226807, 1.8848999738693237, 1.340399980545044, 1.3149000406265259, 1.4910000562667847, 0.9829999804496765, 1.4610999822616577, 0.64410001039505, 1.7970000505447388, 0.6794000267982483, 1.9011000394821167, 0.3330000042915344, 1.261299967765808, 0.17219999432563782, 0.7224000096321106, 0.8787000179290771, 0.2831999957561493, 0.45419999957084656, 0.8105999827384949, 0.6193000078201294, 0.28949999809265137, -0.010999999940395355, -0.2257000058889389, 0.13369999825954437, -0.27239999175071716, 3.387200117111206, 3.2890000343322754, 3.2170000076293945, 3.1677000522613525, 3.1647000312805176, 3.0648999214172363, 3.049999952316284, 3.0494000911712646, 3.037400007247925, 2.9844000339508057, 2.983799934387207, 2.9804000854492188, 2.943000078201294, 2.8889999389648438, 2.872499942779541, 2.8517000675201416, 2.8382999897003174, 2.823699951171875, 2.8050999641418457, 2.780900001525879, 2.749500036239624, 2.7314000129699707, 2.709399938583374, 2.6984000205993652, 2.6933999061584473, 2.685800075531006, 2.6763999462127686, 2.6717000007629395, 2.671099901199341, 2.654900074005127, 2.6522998809814453, 2.4907000064849854, 2.5315001010894775, 2.541300058364868, 1.9392000436782837, 2.50600004196167, 2.1693999767303467, 2.109299898147583, 2.140899896621704, 2.2697999477386475, 2.4186999797821045, 1.8878999948501587, 0.9969000220298767, 1.1646000146865845, 1.0880000591278076, 1.8947999477386475, 1.4502999782562256, 1.7181999683380127, 1.492900013923645, 1.6833000183105469, 0.7663999795913696, 1.194700002670288, 0.9750999808311462, 0.8022000193595886, 0.6632999777793884, 0.8859999775886536, 0.10859999805688858, 0.16410000622272491, 0.51910001039505, 0.35179999470710754, -0.05480000004172325, 0.26109999418258667, -0.22429999709129333, 0.5031999945640564, -0.0997999981045723, 0.1542000025510788, -0.1242000013589859, 0.3418000042438507, -0.2989000082015991, 0.42080000042915344, 3.5697999000549316, 3.4565000534057617, 3.456399917602539, 3.4268999099731445, 3.4038000106811523, 3.3531999588012695, 3.3371999263763428, 3.2595999240875244, 3.2258999347686768, 3.1598000526428223, 3.135499954223633, 3.0878000259399414, 3.057300090789795, 3.049499988555908, 3.044800043106079, 3.0206000804901123, 3.0172998905181885, 2.996799945831299, 2.983799934387207, 2.978800058364868, 2.9779999256134033, 2.9742000102996826, 2.963599920272827, 2.929800033569336, 2.8921000957489014, 2.8687000274658203, 2.8268001079559326, 2.8229000568389893, 2.7692999839782715, 2.7657999992370605, 2.7637999057769775, 2.7446000576019287, 2.756500005722046, 2.657399892807007, 2.6191999912261963, 2.637200117111206, 2.714400053024292, 2.4767000675201416, 2.0583999156951904, 2.428100109100342, 1.9284000396728516, 1.680899977684021, 1.6907999515533447, 1.8623000383377075, 1.4824999570846558, 1.7762999534606934, 1.6628999710083008, 1.0724999904632568, 2.1593000888824463, 0.8371999859809875, 2.0316998958587646, 1.7096999883651733, 0.2824999988079071, 0.7910000085830688, 1.3104000091552734, 0.9362999796867371, -0.18529999256134033, 0.09130000323057175, 0.4975000023841858, 0.49959999322891235, -0.13760000467300415, 0.015699999406933784, 0.13079999387264252, 0.07649999856948853, -0.042100001126527786, -0.39480000734329224, 3.7648000717163086, 3.642899990081787, 3.6403000354766846, 3.634000062942505, 3.6005001068115234, 3.5766000747680664, 3.4528000354766846, 3.4465999603271484, 3.416599988937378, 3.319200038909912, 3.2274999618530273, 3.2214999198913574, 3.2098000049591064, 3.190500020980835, 3.1875, 3.186800003051758, 3.180000066757202, 3.175800085067749, 3.1756999492645264, 3.1635000705718994, 3.140399932861328, 3.1350998878479004, 3.1321001052856445, 3.118299961090088, 3.1173999309539795, 3.1043999195098877, 3.101799964904785, 3.097899913787842, 3.0934998989105225, 3.091200113296509, 3.0648000240325928, 3.0690999031066895, 3.0480000972747803, 2.7637999057769775, 2.84060001373291, 2.7028000354766846, 2.936800003051758, 2.1071999073028564, 2.678999900817871, 2.063999891281128, 2.315200090408325, 0.9161999821662903, 2.506700038909912, 1.5896999835968018, 2.3752999305725098, 0.699999988079071, 0.2937000095844269, 0.715399980545044, 0.2791000008583069, 1.2698999643325806, 2.009999990463257, 0.692300021648407, 1.5168999433517456, 0.9700999855995178, 0.01720000058412552, 1.0299999713897705, 0.5292999744415283, -0.02239999920129776, 0.7376999855041504, 1.0055999755859375, 0.8450000286102295, 0.4133000075817108, 0.3269999921321869, -0.22849999368190765, 0.5764999985694885, 0.4878999888896942, -0.04839999973773956, 0.33309999108314514, -0.40070000290870667, 0.19460000097751617, -0.7857000231742859, -0.08349999785423279, -0.38600000739097595, 3.891200065612793, 3.8687000274658203, 3.717400074005127, 3.6612000465393066, 3.657399892807007, 3.5527000427246094, 3.5264999866485596, 3.47979998588562, 3.4237000942230225, 3.3935999870300293, 3.385699987411499, 3.3785998821258545, 3.3297998905181885, 3.3264000415802, 3.306999921798706, 3.2932000160217285, 3.238300085067749, 3.1791999340057373, 3.178800106048584, 3.1705000400543213, 3.1631999015808105, 3.158600091934204, 3.146899938583374, 3.1428000926971436, 3.1394999027252197, 3.1203999519348145, 3.1135001182556152, 3.092900037765503, 3.0857999324798584, 3.08240008354187, 3.077399969100952, 3.0713000297546387, 3.0790998935699463, 3.046099901199341, 3.031599998474121, 2.87280011177063, 2.7792999744415283, 2.811800003051758, 2.948699951171875, 1.9988000392913818, 2.251699924468994, 2.402100086212158, 2.3680999279022217, 2.6057000160217285, 1.4456000328063965, 1.5332000255584717, 2.2565999031066895, 1.1410000324249268, 1.312600016593933, 1.8381999731063843, 1.5270999670028687, 2.0978000164031982, 0.7757999897003174, 1.2135000228881836, 1.8586000204086304, 0.9629999995231628, 0.4172999858856201, 1.8775999546051025, 0.9293000102043152, 0.8169000148773193, 1.3766000270843506, 1.4779000282287598, 0.6381000280380249, 1.0479999780654907, 0.991599977016449, 0.9327999949455261, 0.2987000048160553, 0.00930000003427267, -0.19030000269412994, 0.8091999888420105, -0.2547999918460846, 0.9419999718666077, 0.6790000200271606, 0.6402000188827515, 0.25850000977516174, 0.7756999731063843, -0.44699999690055847, 4.256199836730957, 4.104499816894531, 3.872499942779541, 3.8701000213623047, 3.6034998893737793, 3.5994999408721924, 3.592099905014038, 3.524600028991699, 3.5099000930786133, 3.4809999465942383, 3.4653000831604004, 3.461899995803833, 3.456700086593628, 3.4565000534057617, 3.4556000232696533, 3.451900005340576, 3.4488000869750977, 3.4460999965667725, 3.4374001026153564, 3.42930006980896, 3.4200000762939453, 3.3336000442504883, 3.3117001056671143, 3.297600030899048, 3.2964000701904297, 3.293600082397461, 3.2934999465942383, 3.29259991645813, 3.2860000133514404, 3.2839999198913574, 3.2014999389648438, 3.2523000240325928, 3.23799991607666, 2.6333999633789062, 3.1159000396728516, 3.066999912261963, 3.0952999591827393, 2.3661999702453613, 2.592600107192993, 2.4030001163482666, 1.3421000242233276, 1.715399980545044, 2.5255000591278076, 2.0889999866485596, 2.4507999420166016, 2.6373000144958496, 2.145699977874756, 2.4138998985290527, 2.1854000091552734, 0.4830000102519989, 0.707099974155426, 0.5278000235557556, 1.3480000495910645, 0.6850000023841858, 0.4246000051498413, 1.830199956893921, 0.3431999981403351, 1.670199990272522, 0.5720999836921692, 0.29179999232292175, 0.7099000215530396, 1.0341999530792236, 0.6513000130653381, 0.7918999791145325, 0.6104999780654907, -0.30219998955726624, 0.6014000177383423, 0.31360000371932983, 0.14229999482631683, 0.3305000066757202, -0.4595000147819519, 0.15889999270439148, 4.480500221252441, 4.3769001960754395, 4.096399784088135, 3.9593000411987305, 3.9247000217437744, 3.8910999298095703, 3.5090999603271484, 3.4853999614715576, 3.4753000736236572, 3.467400074005127, 3.4540998935699463, 3.4532999992370605, 3.4530999660491943, 3.448499917984009, 3.447499990463257, 3.44350004196167, 3.4405999183654785, 3.4391000270843506, 3.4339001178741455, 3.372299909591675, 3.3548998832702637, 3.349400043487549, 3.3450000286102295, 3.3369998931884766, 3.3329999446868896, 3.3222999572753906, 3.3090999126434326, 3.3017001152038574, 3.2997000217437744, 3.2985999584198, 3.1768999099731445, 3.2253000736236572, 2.897599935531616, 3.100100040435791, 3.0055999755859375, 1.840399980545044, 1.8099000453948975, 2.9832000732421875, 2.4200000762939453, 2.7320001125335693, 2.6210999488830566, 2.4477999210357666, 0.6929000020027161, 1.7207000255584717, 2.3101000785827637, 1.891800045967102, 2.003000020980835, 1.3920999765396118, 2.051300048828125, 0.7530999779701233, 1.2973999977111816, 2.324399948120117, 0.2799000144004822, 0.1378999948501587, 1.9607000350952148, 0.36739999055862427, 0.08389999717473984, 0.6110000014305115, 1.2380000352859497, 0.4244000017642975, 0.22169999778270721, 0.766700029373169, 1.2001999616622925, 0.25029999017715454, -0.09380000084638596, -0.7626000046730042, -0.14339999854564667, 0.2912999987602234, -0.6499000191688538, -0.00930000003427267]}, \"token.table\": {\"Topic\": [6, 8, 2, 9, 15, 1, 11, 3, 8, 9, 13, 15, 1, 4, 6, 7, 10, 13, 1, 5, 15, 1, 2, 3, 8, 13, 2, 7, 8, 1, 3, 5, 9, 13, 2, 1, 2, 3, 4, 5, 6, 7, 8, 9, 10, 11, 12, 13, 15, 1, 2, 3, 4, 5, 6, 7, 9, 10, 11, 12, 1, 2, 3, 4, 5, 6, 12, 15, 2, 5, 6, 1, 2, 3, 5, 6, 7, 12, 1, 10, 14, 2, 11, 14, 4, 1, 2, 3, 4, 5, 9, 13, 7, 1, 2, 3, 4, 5, 6, 7, 8, 9, 10, 11, 12, 13, 14, 1, 7, 8, 14, 1, 2, 4, 6, 9, 6, 10, 1, 7, 3, 6, 12, 1, 8, 10, 1, 3, 5, 8, 12, 1, 4, 13, 1, 3, 15, 1, 2, 3, 6, 8, 9, 11, 13, 6, 8, 13, 1, 2, 6, 7, 8, 13, 1, 2, 3, 4, 5, 6, 7, 8, 9, 10, 11, 12, 13, 14, 15, 1, 4, 6, 7, 9, 2, 4, 10, 5, 2, 5, 1, 4, 7, 8, 14, 2, 7, 9, 2, 1, 2, 3, 4, 5, 6, 7, 8, 9, 10, 12, 13, 14, 15, 4, 10, 1, 4, 6, 7, 8, 1, 4, 5, 6, 7, 8, 9, 10, 2, 3, 4, 7, 13, 1, 2, 3, 5, 8, 9, 1, 2, 4, 6, 7, 11, 12, 1, 6, 1, 2, 3, 4, 5, 6, 7, 8, 9, 10, 11, 12, 13, 14, 1, 1, 9, 10, 3, 9, 13, 5, 10, 1, 4, 7, 10, 11, 12, 1, 2, 3, 4, 5, 6, 7, 8, 9, 10, 11, 12, 13, 14, 15, 1, 4, 6, 8, 11, 6, 2, 3, 12, 13, 1, 2, 3, 4, 6, 7, 8, 10, 11, 10, 12, 1, 3, 4, 6, 7, 8, 9, 10, 11, 6, 8, 11, 12, 2, 1, 2, 12, 1, 2, 4, 5, 6, 7, 8, 9, 10, 11, 1, 12, 1, 3, 13, 1, 2, 3, 4, 5, 6, 7, 8, 9, 10, 11, 14, 2, 9, 2, 5, 1, 2, 3, 4, 5, 6, 7, 8, 9, 10, 11, 13, 14, 1, 2, 8, 14, 1, 4, 6, 7, 8, 14, 1, 4, 8, 10, 1, 2, 3, 4, 6, 7, 8, 10, 12, 3, 2, 5, 15, 1, 7, 11, 12, 15, 1, 3, 4, 6, 7, 8, 15, 2, 1, 4, 6, 7, 11, 1, 2, 3, 4, 5, 6, 7, 8, 10, 11, 1, 4, 6, 15, 1, 4, 6, 7, 8, 12, 15, 1, 2, 3, 4, 5, 6, 7, 8, 9, 10, 11, 12, 13, 14, 4, 11, 12, 1, 2, 3, 13, 1, 2, 4, 6, 7, 9, 10, 11, 14, 7, 6, 7, 10, 3, 4, 10, 3, 6, 9, 13, 1, 1, 4, 6, 1, 4, 10, 1, 2, 3, 4, 5, 6, 7, 8, 9, 10, 11, 12, 13, 14, 15, 1, 2, 3, 4, 5, 6, 7, 8, 10, 11, 1, 2, 9, 2, 3, 5, 6, 12, 13, 1, 7, 10, 1, 2, 3, 4, 5, 6, 7, 8, 9, 10, 11, 12, 13, 14, 1, 2, 3, 4, 5, 6, 7, 8, 9, 11, 13, 1, 4, 12, 2, 8, 9, 2, 2, 9, 1, 3, 4, 5, 6, 2, 6, 8, 1, 4, 7, 8, 2, 5, 4, 8, 2, 4, 10, 11, 1, 2, 11, 1, 4, 7, 14, 2, 9, 15, 2, 3, 9, 12, 3, 13, 1, 2, 3, 4, 5, 6, 8, 9, 10, 12, 13, 15, 5, 1, 2, 3, 4, 5, 6, 7, 8, 9, 10, 11, 12, 13, 14, 15, 1, 6, 9, 15, 1, 2, 3, 14, 1, 7, 8, 2, 8, 12, 1, 2, 3, 5, 10, 13, 2, 9, 15, 4, 6, 6, 7, 11, 12, 3, 9, 10, 12, 15, 1, 1, 4, 10, 2, 5, 6, 7, 8, 9, 11, 1, 6, 9, 1, 8, 14, 2, 5, 9, 3, 4, 6, 7, 1, 6, 14, 2, 2, 4, 2, 9, 1, 6, 7, 10, 6, 7, 8, 1, 2, 4, 5, 6, 8, 9, 10, 12, 15, 6, 7, 1, 2, 4, 7, 10, 11, 1, 7, 14, 1, 4, 7, 1, 6, 7, 2, 4, 6, 10, 15, 2, 3, 7, 12, 13, 1, 2, 3, 4, 6, 7, 8, 9, 10, 11, 2, 5, 11, 2, 5, 1, 2, 3, 4, 5, 6, 7, 8, 9, 10, 11, 12, 13, 14, 15, 4, 9, 12, 14, 1, 2, 3, 4, 5, 6, 7, 8, 9, 10, 11, 13, 14, 1, 3, 5, 6, 12, 1, 11, 5, 1, 7, 9, 14, 1, 2, 3, 4, 5, 6, 7, 8, 9, 10, 11, 12, 13, 14, 3, 1, 4, 7, 10, 3, 4, 6, 7, 12, 2, 3, 4, 5, 6, 15, 1, 2, 3, 7, 8, 11, 12, 2, 4, 5, 6, 10, 4, 6, 11, 15, 2, 5, 4, 7, 8, 11, 12, 1, 2, 3, 4, 5, 6, 7, 10, 11, 12, 15, 1, 4, 6, 7, 8, 10, 11, 15, 2, 3, 8, 11, 13, 5, 8, 3, 6, 11, 1, 3, 8, 9, 1, 10, 1, 3, 11, 12, 15, 2, 9, 2, 4, 6, 13, 15, 1, 8, 1, 2, 9, 15, 1, 5, 6, 7, 12, 13, 15, 1, 7, 1, 6, 2, 9, 15, 1, 2, 3, 4, 5, 6, 7, 8, 9, 10, 11, 12, 13, 14, 15, 1, 2, 4, 5, 6, 7, 8, 12, 14, 2, 1, 2, 3, 4, 6, 7, 8, 9, 10, 1, 4, 15, 1, 7, 2, 3, 4, 5, 6, 7, 8, 10, 13, 7, 12, 1, 7, 9, 1, 3, 9, 2, 3, 5, 8, 13, 1, 3, 5, 7, 11, 1, 2, 3, 4, 7, 9, 11, 12, 13, 15, 2, 8, 9, 15, 2, 9, 1, 4, 6, 7, 8, 1, 11, 15, 6, 10, 11, 13, 2, 6, 7, 8, 9, 15, 2, 3, 5, 8, 9, 15, 1, 2, 3, 4, 5, 6, 7, 8, 10, 11, 12, 1, 2, 4, 6, 7, 8, 10, 11, 7, 9, 11, 5, 5, 2, 9, 5, 6, 11, 4, 1, 4, 6, 8, 11, 1, 6, 7, 1, 4, 6, 8, 14, 6, 7, 1, 6, 1, 2, 3, 4, 5, 6, 7, 8, 9, 10, 11, 12, 13, 14, 15, 1, 2, 5, 13, 1, 2, 3, 7, 13, 1, 4, 11, 1, 2, 3, 4, 5, 6, 8, 11, 12, 15, 2, 7, 8, 13, 2, 9, 1, 2, 3, 6, 7, 9, 11, 1, 2, 3, 4, 5, 6, 7, 8, 9, 10, 11, 12, 14, 15, 1, 2, 8, 12, 1, 2, 3, 4, 5, 6, 7, 8, 9, 10, 11, 12, 13, 14, 15, 1, 4, 6, 7, 8, 10, 11, 12, 1, 2, 3, 4, 5, 6, 7, 8, 9, 10, 11, 12, 13, 14, 15, 4, 9, 12, 1, 2, 4, 6, 7, 8, 9, 10, 12, 13, 1, 2, 3, 4, 5, 6, 7, 8, 9, 10, 11, 12, 13, 15, 2, 5, 1, 4, 6, 7, 8, 14, 1, 2, 3, 4, 5, 6, 7, 8, 9, 10, 11, 12, 13, 14, 15, 1, 2, 3, 4, 5, 6, 7, 8, 9, 10, 11, 12, 13, 14, 15, 4, 7, 1, 3, 5, 12, 1, 2, 4, 6, 11, 15, 1, 2, 3, 4, 5, 6, 7, 8, 9, 10, 12, 14, 1, 2, 3, 4, 5, 6, 7, 8, 9, 10, 11, 12, 14, 15, 1, 2, 3, 4, 5, 6, 7, 8, 9, 10, 11, 12, 13, 15, 3, 6, 10, 15, 2, 5, 6, 8, 2, 3, 12, 13, 6, 1, 4, 6, 1, 4, 6, 7, 9, 10, 11, 2, 9, 3, 6, 7, 10, 15, 1, 4, 8, 1, 4, 6, 7, 1, 2, 4, 5, 6, 7, 8, 9, 11, 12, 1, 3, 4, 6, 7, 8, 10, 11, 14, 1, 2, 3, 4, 5, 6, 7, 8, 11, 13, 7, 12, 1, 3, 13, 14, 1, 2, 3, 4, 5, 6, 7, 8, 9, 10, 12, 13, 15, 2, 4, 8, 1, 6, 10, 11, 4, 6, 9, 11, 1, 2, 3, 4, 5, 6, 7, 10, 11, 15, 1, 2, 3, 4, 5, 6, 7, 8, 10, 11, 2, 4, 5, 7, 3, 13, 1, 2, 3, 4, 6, 7, 8, 9, 10, 1, 7, 8, 10, 11, 1, 3, 6, 7, 10, 11, 6, 11, 12, 4, 1, 4, 6, 7, 8, 14, 1, 2, 6, 9, 1, 2, 3, 4, 5, 6, 7, 8, 9, 10, 11, 12, 13, 14, 15, 1, 6, 7, 14, 1, 2, 3, 4, 5, 6, 7, 8, 9, 10, 11, 12, 2, 9, 15, 1, 2, 3, 4, 5, 6, 7, 8, 9, 10, 11, 12, 13, 14, 15, 1, 2, 3, 4, 5, 6, 7, 8, 9, 10, 13, 3, 1, 4, 7, 8, 14, 2, 9, 1, 2, 3, 4, 5, 6, 7, 8, 9, 10, 11, 12, 13, 14, 15, 1, 4, 6, 1, 2, 3, 4, 5, 6, 7, 8, 9, 10, 11, 14, 1, 4, 8, 10, 14, 2, 3, 12, 2, 3, 4, 5, 12, 1, 2, 3, 4, 5, 6, 7, 8, 9, 10, 11, 12, 13, 14, 1, 2, 3, 4, 5, 6, 7, 8, 10, 11, 4, 5, 1, 2, 3, 4, 5, 6, 7, 8, 9, 10, 11, 12, 14, 15, 2, 4, 6, 7, 8, 11, 1, 2, 3, 5, 6, 7, 13, 1, 2, 3, 4, 5, 6, 7, 8, 9, 10, 11, 12, 13, 15, 1, 2, 3, 4, 5, 6, 7, 8, 9, 10, 11, 12, 13, 14, 15, 1, 2, 3, 4, 5, 6, 7, 8, 9, 10, 11, 12, 13, 14, 2, 5, 1, 2, 6, 7, 9, 15, 2, 9, 15, 1, 4, 14, 1, 2, 3, 4, 5, 6, 7, 8, 10, 11, 12, 9, 15, 1, 2, 4, 6, 10, 1, 2, 6, 12, 15, 1, 2, 3, 4, 5, 6, 7, 8, 9, 10, 11, 12, 13, 15, 1, 2, 3, 4, 5, 6, 7, 8, 9, 10, 11, 12, 13, 14, 15, 1, 2, 3, 4, 5, 6, 7, 8, 9, 10, 11, 12, 13, 14, 15, 1, 4, 6, 7, 8, 10, 11, 12, 13, 1, 3, 6, 8, 14, 15, 1, 4, 6, 7, 8, 12, 15, 1, 6, 7, 8, 11, 2, 4, 9, 11, 3, 13, 1, 4, 6, 10, 1, 2, 3, 4, 5, 6, 7, 8, 9, 10, 11, 12, 14, 15, 2, 9, 15, 1, 2, 3, 4, 5, 6, 7, 8, 9, 10, 11, 12, 14, 15, 1, 2, 3, 4, 5, 6, 7, 8, 9, 10, 11, 12, 13, 14, 15, 1, 2, 3, 4, 5, 6, 7, 8, 9, 10, 11, 12, 13, 14, 15, 1, 2, 3, 4, 5, 6, 7, 8, 9, 10, 11, 12, 6, 13, 1, 2, 3, 4, 8, 11, 15, 6, 3, 1, 2, 3, 2, 5, 12, 4, 5, 15, 5, 10, 1, 5, 10, 2, 5, 7, 13, 2, 5, 15, 1, 2, 8, 14, 1, 4, 8, 12, 1, 6, 8, 10, 1, 2, 5, 6, 7, 10, 11, 14, 1, 2, 9, 13, 1, 4, 6, 7, 10, 2, 3, 4, 5, 6, 10, 2, 4, 9, 10, 15, 6, 2, 9, 1, 8, 10, 1, 2, 3, 4, 6, 7, 8, 9, 10, 11, 12, 13, 15, 4, 8, 10, 1, 4, 6, 11, 3, 2, 5, 1, 1, 4, 6, 9, 1, 2, 3, 4, 5, 6, 7, 8, 9, 10, 11, 12, 15, 3, 1, 4, 3, 1, 6, 9, 12, 3, 9, 11, 13, 1, 2, 3, 4, 5, 6, 7, 8, 9, 10, 11, 12, 13, 14, 2, 8, 9, 15, 1, 2, 3, 4, 5, 6, 7, 8, 9, 10, 11, 12, 13, 14, 15, 1, 2, 3, 4, 6, 8, 1, 3, 6, 1, 2, 3, 4, 5, 6, 7, 8, 9, 10, 11, 12, 13, 15, 2, 3, 5, 8, 3, 2, 2, 8, 13, 4, 6, 7, 15, 1, 2, 3, 4, 5, 6, 7, 8, 9, 10, 11, 12, 13, 2, 1, 2, 3, 4, 5, 6, 7, 8, 9, 10, 12, 13, 7, 10, 1, 7, 12, 1, 3, 5, 6, 7, 8, 11, 14, 1, 2, 3, 4, 5, 6, 7, 8, 9, 10, 11, 12, 13, 15, 1, 2, 3, 4, 5, 6, 7, 8, 9, 10, 11, 12, 13, 14, 15, 1, 8, 11, 1, 4, 6, 1, 2, 3, 4, 5, 6, 7, 8, 9, 10, 11, 12, 13, 14, 15, 1, 2, 3, 4, 5, 6, 7, 8, 10, 11, 12, 14, 15, 1, 2, 3, 4, 5, 6, 7, 8, 9, 10, 11, 12, 14, 15, 1, 2, 3, 4, 5, 6, 7, 8, 9, 10, 13, 6, 7, 1, 6, 13, 1, 3, 4, 7, 8, 15, 1, 4, 5, 6, 7, 8, 1, 2, 3, 4, 5, 6, 7, 8, 9, 10, 11, 12, 13, 14, 15, 1, 2, 3, 4, 5, 6, 7, 8, 9, 10, 11, 12, 3, 11, 13, 1, 4, 5, 6, 7, 8, 10, 11, 14, 1, 8, 11, 1, 2, 3, 4, 5, 6, 7, 8, 9, 10, 11, 12, 13, 14, 15, 3, 13, 5, 1, 2, 3, 4, 5, 6, 7, 8, 9, 10, 11, 12, 13, 14, 15, 1, 2, 3, 4, 5, 6, 7, 8, 9, 10, 11, 12, 13, 14, 15, 1, 2, 3, 4, 5, 6, 7, 8, 9, 10, 11, 12, 13, 1, 2, 3, 4, 5, 6, 7, 8, 9, 10, 11, 12, 13, 14, 15, 1, 2, 3, 4, 5, 6, 7, 8, 9, 10, 11, 12, 13, 14, 1, 4, 6, 7, 11, 15, 1, 3, 13, 1, 2, 4, 5, 6, 7, 8, 12, 14, 4, 7, 10, 4, 6, 10, 3, 11, 13, 1, 4, 6, 1, 2, 4, 6, 7, 8, 9, 10, 11, 1, 4, 6, 7, 8, 10, 1, 4, 6, 7, 8, 11, 5, 1, 4, 4, 7, 8, 12, 1, 2, 4, 5, 11, 1, 3, 5, 6, 7, 8, 14, 1, 2, 3, 4, 5, 6, 7, 8, 9, 10, 11, 12, 13, 14, 15, 1, 10, 2, 9, 1, 4, 6, 8, 5, 13, 2, 3, 5, 8, 13, 4, 6, 7, 8, 2, 9, 15, 2, 15, 1, 3, 4, 5, 6, 7, 8, 11, 13, 10, 1, 2, 3, 4, 6, 7, 8, 9, 10, 11, 12, 1, 3, 6, 12, 1, 9, 1, 4, 6, 7, 8, 11, 1, 7, 11, 1, 2, 3, 4, 5, 6, 7, 8, 9, 11, 12, 13, 15, 2, 8, 6, 11, 3, 2, 5, 2, 5, 3, 7, 12, 1, 2, 3, 4, 5, 6, 7, 8, 9, 10, 11, 12, 13, 15, 1, 7, 10, 1, 2, 3, 4, 5, 6, 7, 8, 9, 10, 11, 12, 13, 14, 15, 7, 8, 10, 12, 1, 11, 1, 6, 7, 11, 1, 3, 12, 13, 15, 1, 4, 7, 1, 2, 3, 5, 6, 7, 8, 9, 12, 13, 15, 1, 13, 1, 2, 3, 4, 5, 6, 7, 8, 9, 10, 11, 13, 1, 6, 7, 1, 4, 6, 7, 8, 11, 12, 1, 4, 6, 7, 8, 10, 11, 12, 1, 2, 3, 4, 5, 6, 7, 8, 9, 10, 11, 12, 13, 14, 15, 4, 7, 10, 4, 6, 2, 9, 6, 7, 1, 2, 3, 4, 5, 6, 7, 8, 9, 10, 11, 12, 14, 15, 3, 6, 9, 13, 3, 12, 13, 1, 2, 3, 4, 5, 6, 7, 8, 9, 10, 11, 12, 13, 14, 2, 5, 1, 1, 2, 4, 7, 8, 9, 11, 1, 6, 8, 3, 4, 1, 2, 3, 4, 5, 6, 7, 8, 9, 10, 11, 12, 13, 14, 1, 2, 3, 4, 5, 6, 7, 8, 9, 10, 11, 12, 13, 14, 4, 6, 7, 8, 11, 12, 6, 8, 15, 4, 9, 10, 1, 12, 3, 5, 6, 7, 8, 10, 13, 1, 4, 5, 6, 8, 11, 12, 1, 4, 12, 6, 8, 11, 2, 5, 5, 1, 2, 3, 4, 6, 7, 8, 9, 14, 1, 4, 6, 8, 11, 7, 11, 13, 6, 7, 14, 1, 2, 3, 4, 5, 6, 7, 8, 9, 10, 6, 12, 2, 9, 1, 4, 6, 7, 8, 12, 1, 4, 7, 8, 14, 4, 1, 6, 11, 3, 13, 1, 7, 11, 1, 8, 2, 9, 1, 2, 9, 1, 6, 7, 10, 11, 1, 2, 4, 7, 10, 14, 1, 4, 6, 1, 4, 11, 13, 3, 13, 3, 6, 7, 15, 2, 12, 1, 2, 6, 7, 8, 9, 11, 1, 4, 7, 1, 4, 10, 4, 1, 2, 3, 4, 5, 6, 8, 9, 10, 11, 12, 1, 2, 3, 4, 5, 6, 7, 8, 9, 10, 11, 12, 13, 15, 1, 1, 2, 7, 8, 11, 1, 2, 3, 4, 5, 6, 7, 8, 9, 10, 11, 12, 13, 14, 1, 4, 11, 13, 5, 1, 7, 8, 14, 1, 6, 7, 14, 4, 10, 1, 2, 3, 4, 5, 6, 7, 8, 9, 10, 11, 12, 14, 15, 4, 6, 11, 1, 7, 4, 7, 1, 2, 3, 4, 5, 6, 8, 10, 11, 12, 1, 2, 3, 4, 5, 6, 7, 8, 9, 10, 11, 12, 13, 2, 4, 8, 13, 1, 2, 3, 5, 6, 12, 13, 15, 1, 9, 12, 15, 1, 5, 7, 12, 13, 6, 15, 3, 8, 11, 2, 1, 5, 9, 1, 3, 4, 11, 12, 1, 11, 14, 1, 4, 6, 7, 8, 11, 1, 4, 6, 1, 1, 2, 4, 6, 7, 8, 10, 11, 14, 4, 2, 9, 6, 7, 8, 1, 4, 5, 6, 7, 14, 5, 6, 13, 2, 5, 7, 10, 13, 4, 4, 1, 2, 3, 4, 5, 6, 7, 8, 9, 10, 11, 12, 14, 15, 1, 2, 3, 4, 5, 6, 7, 8, 9, 10, 11, 12, 13, 14, 15, 4, 14, 1, 4, 6, 7, 8, 10, 11, 12, 4, 5, 1, 2, 3, 4, 5, 6, 7, 8, 9, 14, 3, 4, 12, 1, 6, 7, 10, 11, 13, 1, 3, 4, 5, 13, 1, 3, 4, 6, 7, 8, 10, 11, 14, 4, 7, 10, 1, 2, 3, 4, 6, 8, 10, 12, 13, 2, 7, 15, 1, 2, 3, 4, 5, 6, 7, 8, 9, 10, 11, 12, 13, 2, 1, 4, 6, 14, 1, 2, 3, 5, 8, 11, 12, 13, 2, 8, 12, 13, 1, 3, 4, 5, 9, 10, 14, 1, 6, 7, 8, 11, 2, 3, 9, 10, 2, 2, 4, 5, 6, 7, 8, 10, 13, 14, 1, 3, 4, 6, 7, 11, 1, 3, 4, 6, 7, 8, 11, 12, 4, 9, 1, 2, 3, 4, 5, 6, 7, 9, 10, 1, 4, 6, 7, 8, 10, 12, 1, 2, 3, 4, 5, 6, 7, 8, 9, 10, 11, 12, 13, 14, 15, 4, 6, 7, 8, 10, 12, 1, 2, 3, 4, 5, 6, 7, 8, 9, 10, 11, 12, 13, 14, 15, 1, 4, 8, 3, 1, 2, 3, 4, 5, 6, 7, 8, 9, 10, 11, 12, 13, 14, 15, 4, 4, 7, 2, 5, 13, 4, 7, 1, 10, 12, 15, 1, 2, 6, 10, 3, 6, 11, 1, 2, 4, 7, 10, 11, 1, 2, 3, 4, 5, 6, 7, 8, 9, 10, 11, 12, 13, 15, 1, 6, 7, 12, 15, 1, 4, 6, 7, 11, 1, 2, 3, 4, 5, 6, 7, 8, 9, 10, 11, 12, 15, 1, 2, 4, 6, 7, 8, 11, 15, 1, 4, 10, 1, 3, 7, 14, 1, 3, 6, 8, 6, 1, 2, 3, 4, 5, 6, 7, 8, 9, 10, 11, 12, 13, 14, 15, 2, 1, 2, 3, 4, 5, 6, 7, 8, 9, 10, 11, 14, 1, 4, 7, 8, 11, 15, 1, 2, 3, 4, 5, 6, 7, 8, 10, 12, 6, 1, 2, 3, 4, 5, 6, 7, 8, 9, 10, 11, 12, 13, 14, 2, 3, 5, 13, 2, 3, 5, 9, 13, 6, 11, 12, 1, 2, 3, 4, 5, 6, 7, 8, 9, 10, 11, 12, 13, 14, 1, 8, 1, 2, 3, 4, 5, 6, 7, 8, 9, 10, 11, 12, 13, 15, 1, 2, 3, 4, 5, 6, 7, 8, 9, 11, 13, 4, 12, 14, 1, 2, 4, 5, 6, 7, 8, 10, 1, 7, 1, 2, 5, 6, 7, 9, 15, 1, 7, 8, 14, 1, 8, 12, 5, 1, 2, 3, 4, 5, 6, 7, 8, 9, 10, 11, 12, 13, 14, 15, 1, 4, 10, 5, 8, 10, 1, 2, 3, 4, 5, 6, 7, 8, 9, 10, 11, 12, 13, 14, 1, 4, 7, 9, 10, 4, 8, 5, 8, 11, 13, 1, 8, 1, 2, 3, 4, 5, 6, 7, 8, 9, 10, 11, 12, 14, 7, 8, 10, 1, 2, 3, 4, 5, 6, 7, 8, 10, 11, 12, 13, 1, 3, 13, 2, 5, 2, 5, 1, 4, 1, 8, 11, 12, 15, 1, 2, 3, 4, 5, 6, 7, 8, 9, 10, 11, 12, 13, 14, 4, 7, 10, 1, 2, 3, 4, 5, 6, 7, 8, 9, 10, 11, 12, 14, 15, 1, 2, 3, 4, 5, 6, 7, 8, 9, 13, 1, 2, 4, 8, 1, 2, 3, 4, 5, 6, 7, 8, 9, 10, 11, 12, 13, 14, 1, 2, 12, 13, 1, 2, 3, 4, 5, 6, 7, 8, 9, 10, 12, 14, 1, 2, 3, 4, 5, 7, 10, 11, 12, 7, 1, 2, 4, 5, 6, 7, 8, 10, 12, 1, 2, 3, 4, 5, 6, 7, 8, 9, 11, 15, 1, 12, 1, 2, 3, 4, 5, 6, 7, 8, 9, 10, 11, 12, 13, 14, 15, 2, 2, 5, 8, 10, 6, 1, 6, 1, 7, 1, 3, 4, 5, 7, 8, 9, 1, 2, 3, 4, 5, 6, 7, 8, 9, 10, 11, 12, 14, 2, 1, 2, 3, 4, 5, 6, 7, 8, 9, 10, 11, 12, 13, 1, 8, 4, 7, 1, 4, 5, 7, 8, 12, 15, 1, 3, 11, 14, 2, 3, 13, 1, 1, 2, 3, 4, 5, 6, 7, 8, 9, 10, 11, 12, 13, 14, 15, 1, 2, 3, 4, 5, 6, 7, 8, 9, 10, 11, 12, 13, 14, 15, 1, 4, 7, 10, 1, 2, 3, 4, 5, 6, 7, 8, 9, 10, 11, 12, 13, 14, 15, 2, 3, 13, 1, 2, 3, 4, 5, 6, 7, 8, 9, 11, 12, 13, 1, 2, 3, 4, 5, 6, 7, 8, 9, 10, 11, 12, 13, 14, 15, 7, 4, 2, 5, 9, 13, 4, 6, 7, 8, 1, 2, 3, 4, 5, 6, 7, 8, 9, 10, 11, 12, 13, 14, 1, 2, 4, 5, 7, 8, 9, 10, 14, 15, 1, 6, 11, 1, 2, 3, 4, 5, 6, 7, 8, 9, 10, 11, 12, 13, 1, 6, 7, 1, 3, 6, 12, 1, 12, 1, 3, 9, 2, 7, 8, 1, 2, 3, 4, 6, 7, 8, 11, 6, 1, 4, 6, 8, 1, 3, 6, 4, 14, 1, 1, 4, 6, 2, 15, 1, 2, 3, 4, 6, 7, 8, 9, 10, 12, 1, 4, 8, 9, 2, 15, 3, 5, 6, 15, 2, 4, 12, 1, 2, 3, 4, 5, 6, 7, 8, 9, 12, 14, 15, 6, 4, 10, 2, 9, 15, 8, 10, 12, 1, 4, 6, 8, 1, 1, 6, 7, 12, 1, 2, 3, 4, 5, 6, 7, 8, 9, 10, 11, 12, 13, 14, 15, 1, 1, 3, 4, 12, 1, 4, 6, 8, 11, 4, 6, 11, 1, 4, 6, 7, 8, 10, 11, 1, 4, 5, 6, 7, 10, 11, 12, 1, 4, 10, 1, 7, 14, 1, 2, 3, 4, 5, 6, 7, 8, 10, 11, 14, 1, 2, 3, 4, 5, 6, 7, 8, 9, 10, 11, 12, 13, 14, 15, 1, 2, 12, 2, 9, 12, 13, 1, 2, 3, 4, 5, 6, 7, 8, 9, 10, 11, 12, 13, 14, 2, 6, 9, 2, 2, 2, 6, 4, 1, 2, 3, 4, 5, 6, 7, 8, 9, 10, 11, 12, 1, 2, 4, 7, 10, 11, 12, 2, 3, 7, 12, 1, 3, 4, 6, 7, 8, 10, 11, 6, 1, 2, 3, 4, 5, 6, 7, 8, 9, 10, 11, 12, 13, 1, 2, 3, 4, 5, 6, 7, 8, 10, 11, 2, 5, 1, 2, 3, 4, 5, 6, 7, 8, 10, 11, 12, 15, 4, 6, 7, 4, 10, 1, 2, 3, 4, 5, 6, 7, 8, 9, 10, 11, 12, 13, 14, 15, 1, 3, 4, 5, 6, 7, 8, 10, 11, 2, 9, 1, 2, 3, 4, 5, 6, 7, 8, 9, 10, 11, 12, 13, 14, 1, 2, 3, 4, 5, 6, 7, 8, 9, 10, 11, 12, 10, 12, 1, 2, 3, 4, 5, 6, 7, 8, 9, 10, 11, 12, 13, 14, 1, 8, 2, 1, 2, 3, 4, 5, 6, 7, 8, 9, 10, 11, 12, 13, 14, 15, 1, 4, 7, 8, 10, 6, 1, 2, 3, 4, 5, 6, 7, 8, 9, 10, 11, 12, 13, 14, 15, 1, 1, 6], \"Freq\": [0.1775129735469818, 0.7100518941879272, 0.8143822550773621, 0.13030116260051727, 0.03257529065012932, 0.20572535693645477, 0.7406113147735596, 0.5168866515159607, 0.08614777773618698, 0.08614777773618698, 0.08614777773618698, 0.08614777773618698, 0.094401054084301, 0.5664063096046448, 0.021784858778119087, 0.021784858778119087, 0.2904647886753082, 0.007261619437485933, 0.5479004383087158, 0.18263348937034607, 0.18263348937034607, 0.16688530147075653, 0.33377060294151306, 0.08344265073537827, 0.2503279447555542, 0.08344265073537827, 0.17721833288669586, 0.17721833288669586, 0.5316550135612488, 0.24334323406219482, 0.12167161703109741, 0.24334323406219482, 0.12167161703109741, 0.12167161703109741, 0.8621446490287781, 0.07632090896368027, 0.2022504061460495, 0.19080226123332977, 0.030528362840414047, 0.27857130765914917, 0.061056725680828094, 0.011448136530816555, 0.04579254612326622, 0.03434440866112709, 0.003816045355051756, 0.02289627306163311, 0.02289627306163311, 0.011448136530816555, 0.003816045355051756, 0.24978120625019073, 0.062445301562547684, 0.031222650781273842, 0.18733590841293335, 0.020815100520849228, 0.09366795420646667, 0.2601887583732605, 0.010407550260424614, 0.010407550260424614, 0.05203774943947792, 0.020815100520849228, 0.12366577237844467, 0.3297753930091858, 0.10305480659008026, 0.020610962063074112, 0.3297753930091858, 0.041221924126148224, 0.020610962063074112, 0.041221924126148224, 0.0517435148358345, 0.879639744758606, 0.896889865398407, 0.044282473623752594, 0.044282473623752594, 0.26569482684135437, 0.08856494724750519, 0.26569482684135437, 0.08856494724750519, 0.17712989449501038, 0.36399009823799133, 0.18199504911899567, 0.18199504911899567, 0.5424943566322327, 0.18083146214485168, 0.18083146214485168, 0.9167914986610413, 0.4183669686317444, 0.11410007625818253, 0.11410007625818253, 0.03803335875272751, 0.07606671750545502, 0.11410007625818253, 0.11410007625818253, 0.9214521050453186, 0.22075314819812775, 0.1863500475883484, 0.15768080949783325, 0.06593924760818481, 0.05447155609726906, 0.09460848569869995, 0.020068466663360596, 0.051604632288217545, 0.04587078094482422, 0.04587078094482422, 0.025802316144108772, 0.014334619976580143, 0.014334619976580143, 0.0028669238090515137, 0.18213893473148346, 0.18213893473148346, 0.3642778694629669, 0.18213893473148346, 0.2813012897968292, 0.1607435941696167, 0.08037179708480835, 0.040185898542404175, 0.40185901522636414, 0.7443416714668274, 0.14886833727359772, 0.31298062205314636, 0.6259612441062927, 0.18778108060359955, 0.18778108060359955, 0.3755621612071991, 0.1302463263273239, 0.2604926526546478, 0.5209853053092957, 0.9217668175697327, 0.10557147115468979, 0.21114294230937958, 0.5278573632240295, 0.10557147115468979, 0.06878089159727097, 0.825370728969574, 0.06878089159727097, 0.18214604258537292, 0.5464381575584412, 0.18214604258537292, 0.044576697051525116, 0.3064647912979126, 0.44576695561408997, 0.011144174262881279, 0.022288348525762558, 0.03343252092599869, 0.11144173890352249, 0.016716260462999344, 0.5543708205223083, 0.18479028344154358, 0.18479028344154358, 0.11097194254398346, 0.22194388508796692, 0.22194388508796692, 0.11097194254398346, 0.11097194254398346, 0.11097194254398346, 0.15914545953273773, 0.20924681425094604, 0.15177761018276215, 0.08841414749622345, 0.1267269402742386, 0.058942761272192, 0.04125993326306343, 0.04568064212799072, 0.03389208763837814, 0.04568064212799072, 0.014735690318048, 0.008841414004564285, 0.007367845159024, 0.005894276313483715, 0.004420707002282143, 0.9111844301223755, 0.18633544445037842, 0.12422362715005875, 0.06211181357502937, 0.496894508600235, 0.17225414514541626, 0.17225414514541626, 0.5167624354362488, 0.8500140905380249, 0.010842149145901203, 0.9757934212684631, 0.7113262414932251, 0.013679350726306438, 0.054717402905225754, 0.15047286450862885, 0.06839675456285477, 0.6429855227470398, 0.02052081562578678, 0.3214927613735199, 0.8615565299987793, 0.17291389405727386, 0.323516309261322, 0.11713521927595139, 0.05577867478132248, 0.08366801589727402, 0.039045073091983795, 0.022311469539999962, 0.044622939079999924, 0.022311469539999962, 0.05577867478132248, 0.02788933739066124, 0.0055778673849999905, 0.0055778673849999905, 0.022311469539999962, 0.342222660779953, 0.5133340358734131, 0.588142454624176, 0.2122163623571396, 0.03637994825839996, 0.03031662292778492, 0.12126649171113968, 0.12832026183605194, 0.3079686164855957, 0.02566405199468136, 0.02566405199468136, 0.38496077060699463, 0.02566405199468136, 0.02566405199468136, 0.07699215412139893, 0.1825902909040451, 0.1825902909040451, 0.1825902909040451, 0.1825902909040451, 0.1825902909040451, 0.020319567993283272, 0.16255654394626617, 0.3522058427333832, 0.4063913822174072, 0.006773189641535282, 0.033865947276353836, 0.31754186749458313, 0.15877093374729156, 0.03969273343682289, 0.07938546687364578, 0.15877093374729156, 0.03969273343682289, 0.19846366345882416, 0.12186256051063538, 0.8530378937721252, 0.1440950483083725, 0.2772738039493561, 0.15064482390880585, 0.07423078268766403, 0.14191178977489471, 0.05894797295331955, 0.024015842005610466, 0.043665166944265366, 0.037115391343832016, 0.021832583472132683, 0.004366516601294279, 0.008733033202588558, 0.010916291736066341, 0.004366516601294279, 0.8847993016242981, 0.13080577552318573, 0.26161155104637146, 0.5232231020927429, 0.9731131196022034, 0.0030892479699105024, 0.015446240082383156, 0.9262657761573792, 0.9013912677764893, 0.27383798360824585, 0.02416217513382435, 0.008054058998823166, 0.008054058998823166, 0.6765409111976624, 0.008054058998823166, 0.10107333213090897, 0.2966991364955902, 0.13041719794273376, 0.0815107524394989, 0.07662010937929153, 0.08803161233663559, 0.04727623611688614, 0.058687739074230194, 0.04890644922852516, 0.03260429948568344, 0.02282300963997841, 0.004890644922852516, 0.001630214974284172, 0.006520859897136688, 0.001630214974284172, 0.789944589138031, 0.10394007712602615, 0.02078801579773426, 0.02078801579773426, 0.04157603159546852, 0.8951881527900696, 0.0032998842652887106, 0.9437668919563293, 0.0032998842652887106, 0.04289849475026131, 0.22966723144054413, 0.021873069927096367, 0.005468267481774092, 0.3991835415363312, 0.10936535149812698, 0.19138936698436737, 0.005468267481774092, 0.027341337874531746, 0.010936534963548183, 0.675358235836029, 0.2701433002948761, 0.2549639046192169, 0.01758371666073799, 0.18462903797626495, 0.12308602035045624, 0.2901313304901123, 0.06154301017522812, 0.008791858330368996, 0.03516743332147598, 0.01758371666073799, 0.12332851439714432, 0.12332851439714432, 0.49331405758857727, 0.24665702879428864, 0.8629812598228455, 0.3686501085758209, 0.18432505428791046, 0.3686501085758209, 0.02181616984307766, 0.6217608451843262, 0.007272056769579649, 0.10908085107803345, 0.050904396921396255, 0.0036360283847898245, 0.01090808492153883, 0.15271319448947906, 0.01090808492153883, 0.0036360283847898245, 0.551957905292511, 0.36797192692756653, 0.9477465152740479, 0.9578747153282166, 0.02520723082125187, 0.2082207202911377, 0.23796653747558594, 0.04461872577667236, 0.04461872577667236, 0.014872908592224121, 0.0743645429611206, 0.059491634368896484, 0.1487290859222412, 0.029745817184448242, 0.029745817184448242, 0.059491634368896484, 0.04461872577667236, 0.3968365490436554, 0.5291154384613037, 0.013450440019369125, 0.9751569032669067, 0.1737341582775116, 0.09034176170825958, 0.1737341582775116, 0.13898733258247375, 0.11813922971487045, 0.02779746614396572, 0.1737341582775116, 0.01389873307198286, 0.00694936653599143, 0.02779746614396572, 0.02779746614396572, 0.00694936653599143, 0.02779746614396572, 0.4590988755226135, 0.15303295850753784, 0.15303295850753784, 0.15303295850753784, 0.4794166684150696, 0.008561011403799057, 0.008561011403799057, 0.1797812432050705, 0.2525498569011688, 0.06848809123039246, 0.19270732998847961, 0.06423577666282654, 0.12847155332565308, 0.5781219601631165, 0.31597694754600525, 0.018055826425552368, 0.009027913212776184, 0.1715303510427475, 0.1173628717660904, 0.2347257435321808, 0.07222330570220947, 0.04513956606388092, 0.018055826425552368, 0.9582363367080688, 0.4846913814544678, 0.12117284536361694, 0.2423456907272339, 0.7475599646568298, 0.10939902067184448, 0.07293268293142319, 0.036466341465711594, 0.018233170732855797, 0.14822760224342346, 0.01646973378956318, 0.09881839901208878, 0.4611525237560272, 0.21410652995109558, 0.04940919950604439, 0.01646973378956318, 0.9409235715866089, 0.0273435115814209, 0.0273435115814209, 0.7656183242797852, 0.1093740463256836, 0.0546870231628418, 0.16698268055915833, 0.05566089600324631, 0.027830448001623154, 0.08349134027957916, 0.08349134027957916, 0.08349134027957916, 0.38962626457214355, 0.027830448001623154, 0.027830448001623154, 0.027830448001623154, 0.18379737436771393, 0.36759474873542786, 0.18379737436771393, 0.18379737436771393, 0.07280552387237549, 0.036402761936187744, 0.10920829325914383, 0.4004304111003876, 0.036402761936187744, 0.10920829325914383, 0.21841658651828766, 0.21162109076976776, 0.18698027729988098, 0.114507295191288, 0.16668784618377686, 0.0840686485171318, 0.04638270288705826, 0.059427838772535324, 0.03333756700158119, 0.03768594563007355, 0.02464081160724163, 0.01739351451396942, 0.011595675721764565, 0.002898918930441141, 0.002898918930441141, 0.36140748858451843, 0.36140748858451843, 0.12046916037797928, 0.2820877432823181, 0.04029824957251549, 0.5641754865646362, 0.08059649914503098, 0.13538441061973572, 0.03384610265493393, 0.16923052072525024, 0.16923052072525024, 0.20307663083076477, 0.03384610265493393, 0.06769220530986786, 0.06769220530986786, 0.06769220530986786, 0.8803653717041016, 0.10491042584180832, 0.6294625401496887, 0.10491042584180832, 0.22610460221767426, 0.056526150554418564, 0.6217876076698303, 0.9109719395637512, 0.015572169795632362, 0.007786084897816181, 0.05450259521603584, 0.8990692496299744, 0.9208253622055054, 0.01918386109173298, 0.03836772218346596, 0.9172403216362, 0.8056592345237732, 0.06713826954364777, 0.0932561531662941, 0.3369254469871521, 0.18952056765556335, 0.04512394219636917, 0.10829746723175049, 0.0571569949388504, 0.024066103622317314, 0.04512394219636917, 0.04211568087339401, 0.012033051811158657, 0.024066103622317314, 0.00902478862553835, 0.0060165259055793285, 0.0030082629527896643, 0.00902478862553835, 0.12435262650251389, 0.019131172448396683, 0.019131172448396683, 0.39218905568122864, 0.009565586224198341, 0.047827932983636856, 0.1052214503288269, 0.18174614012241364, 0.06695910543203354, 0.038262344896793365, 0.08901669085025787, 0.1335250288248062, 0.712133526802063, 0.017601218074560165, 0.756852388381958, 0.1848127841949463, 0.008800609037280083, 0.008800609037280083, 0.026401827111840248, 0.17176660895347595, 0.08588330447673798, 0.6870664358139038, 0.3154909610748291, 0.1526569128036499, 0.0407085120677948, 0.047493260353803635, 0.08480940014123917, 0.047493260353803635, 0.0508856363594532, 0.08820177614688873, 0.003392375772818923, 0.044100888073444366, 0.09498652070760727, 0.006784751545637846, 0.003392375772818923, 0.016961880028247833, 0.19401633739471436, 0.369104266166687, 0.08991001546382904, 0.037856847047805786, 0.04732105880975723, 0.07098159193992615, 0.037856847047805786, 0.01419631764292717, 0.009464211761951447, 0.11357054114341736, 0.004732105880975723, 0.36661988496780396, 0.36661988496780396, 0.36661988496780396, 0.8406895399093628, 0.004568965174257755, 0.14620688557624817, 0.9605264067649841, 0.8061773777008057, 0.16123546659946442, 0.1170722097158432, 0.02341444231569767, 0.6790188550949097, 0.02341444231569767, 0.14048665761947632, 0.17729078233242035, 0.17729078233242035, 0.5318723917007446, 0.8774731755256653, 0.015669163316488266, 0.03133832663297653, 0.0470074899494648, 0.03496947139501572, 0.9441757202148438, 0.3500431776046753, 0.5250647664070129, 0.11781986057758331, 0.23563972115516663, 0.11781986057758331, 0.47127944231033325, 0.30320316553115845, 0.15160158276557922, 0.45480474829673767, 0.17844273149967194, 0.35688546299934387, 0.17844273149967194, 0.17844273149967194, 0.641231119632721, 0.3374900817871094, 0.01687450334429741, 0.22120368480682373, 0.11060184240341187, 0.3318055272102356, 0.22120368480682373, 0.9658252000808716, 0.02233121730387211, 0.02243400551378727, 0.16344775259494781, 0.17626719176769257, 0.04486801102757454, 0.551235556602478, 0.0032048579305410385, 0.0032048579305410385, 0.012819431722164154, 0.0032048579305410385, 0.009614573791623116, 0.0032048579305410385, 0.0032048579305410385, 0.9282536506652832, 0.14342349767684937, 0.22779026627540588, 0.09762439876794815, 0.1711440086364746, 0.07593008875846863, 0.061467211693525314, 0.03736242279410362, 0.0783405676484108, 0.030130986124277115, 0.0470043383538723, 0.014462873339653015, 0.002410478889942169, 0.003615718334913254, 0.006026197224855423, 0.003615718334913254, 0.16589462757110596, 0.3317892551422119, 0.16589462757110596, 0.16589462757110596, 0.17742501199245453, 0.17742501199245453, 0.35485002398490906, 0.17742501199245453, 0.15187543630599976, 0.15187543630599976, 0.607501745223999, 0.1897066831588745, 0.1897066831588745, 0.379413366317749, 0.08516792207956314, 0.34067168831825256, 0.34067168831825256, 0.04258396103978157, 0.04258396103978157, 0.12775187194347382, 0.6746581196784973, 0.15569034218788147, 0.10379356145858765, 0.12979671359062195, 0.7787802815437317, 0.18814751505851746, 0.18814751505851746, 0.18814751505851746, 0.3762950301170349, 0.12840306758880615, 0.2568061351776123, 0.12840306758880615, 0.2568061351776123, 0.12840306758880615, 0.922031044960022, 0.113808773458004, 0.227617546916008, 0.5690438747406006, 0.046372175216674805, 0.7187687158584595, 0.057965219020843506, 0.023186087608337402, 0.023186087608337402, 0.023186087608337402, 0.10433739423751831, 0.13233555853366852, 0.39700669050216675, 0.39700669050216675, 0.3103451728820801, 0.46551772952079773, 0.15517258644104004, 0.12942937016487122, 0.38828808069229126, 0.38828808069229126, 0.051727455109357834, 0.10345491021871567, 0.6724569201469421, 0.1551823616027832, 0.6088165640830994, 0.15220414102077484, 0.15220414102077484, 0.9150869250297546, 0.88475102186203, 0.8500929474830627, 0.39749786257743835, 0.5299971699714661, 0.438302218914032, 0.03130730241537094, 0.4696095287799835, 0.03130730241537094, 0.9233593344688416, 0.06088083237409592, 0.01014680601656437, 0.1890263855457306, 0.2520351707935333, 0.06300879269838333, 0.031504396349191666, 0.15752199292182922, 0.06300879269838333, 0.15752199292182922, 0.031504396349191666, 0.031504396349191666, 0.06300879269838333, 0.15050657093524933, 0.7525328397750854, 0.1822822242975235, 0.020253580063581467, 0.5873538255691528, 0.08101432025432587, 0.0607607439160347, 0.04050716012716293, 0.3245096206665039, 0.4326794743537903, 0.21633973717689514, 0.2080177515745163, 0.2080177515745163, 0.6240532398223877, 0.2618713974952698, 0.1309356987476349, 0.5237427949905396, 0.1844577193260193, 0.1844577193260193, 0.1844577193260193, 0.1844577193260193, 0.1844577193260193, 0.007248947396874428, 0.9496121406555176, 0.0024163159541785717, 0.007248947396874428, 0.026579475030303, 0.2543994188308716, 0.030703378841280937, 0.004386197309941053, 0.30703380703926086, 0.10965492576360703, 0.18422028422355652, 0.04386197030544281, 0.008772394619882107, 0.030703378841280937, 0.026317182928323746, 0.030886903405189514, 0.9497722387313843, 0.011582588776946068, 0.05294753238558769, 0.9265817999839783, 0.15564186871051788, 0.20214462280273438, 0.12717080116271973, 0.10439393669366837, 0.09869971871376038, 0.1005977913737297, 0.08826033025979996, 0.03321625292301178, 0.022776858881115913, 0.020878788083791733, 0.02182782255113125, 0.008541322313249111, 0.002847107360139489, 0.009490357711911201, 0.0037961432244628668, 0.372179239988327, 0.1860896199941635, 0.1860896199941635, 0.1860896199941635, 0.0509878545999527, 0.3858080804347992, 0.21924777328968048, 0.02039514109492302, 0.12407044321298599, 0.005098785273730755, 0.013596761040389538, 0.018695546314120293, 0.12746962904930115, 0.01019757054746151, 0.01019757054746151, 0.01019757054746151, 0.0016995951300486922, 0.09018325805664062, 0.09018325805664062, 0.3607330322265625, 0.18036651611328125, 0.2705497741699219, 0.35756295919418335, 0.5363444685935974, 0.9776960015296936, 0.46190327405929565, 0.1539677530527115, 0.1539677530527115, 0.1539677530527115, 0.11654172092676163, 0.1864667534828186, 0.13208061456680298, 0.10877227038145065, 0.13208061456680298, 0.03884723782539368, 0.05438613519072533, 0.08546392619609833, 0.031077791005373, 0.023308344185352325, 0.0155388955026865, 0.031077791005373, 0.03884723782539368, 0.00776944775134325, 0.9245063662528992, 0.033545058220624924, 0.8386264443397522, 0.06709011644124985, 0.033545058220624924, 0.9585766196250916, 0.3611697554588318, 0.1805848777294159, 0.1805848777294159, 0.27087730169296265, 0.08948150277137756, 0.17896300554275513, 0.35792601108551025, 0.08948150277137756, 0.08948150277137756, 0.08948150277137756, 0.11791558563709259, 0.1768733710050583, 0.11791558563709259, 0.11791558563709259, 0.11791558563709259, 0.2947889566421509, 0.058957792818546295, 0.09239163249731064, 0.2309790849685669, 0.13858744502067566, 0.13858744502067566, 0.415762335062027, 0.1586950272321701, 0.3173900544643402, 0.1586950272321701, 0.1586950272321701, 0.036295462399721146, 0.9436820149421692, 0.151278555393219, 0.027505191043019295, 0.48134085536003113, 0.302557110786438, 0.013752595521509647, 0.23802201449871063, 0.06347253918647766, 0.04760440066456795, 0.1904176026582718, 0.0952088013291359, 0.015868134796619415, 0.07934066653251648, 0.0952088013291359, 0.15868133306503296, 0.015868134796619415, 0.015868134796619415, 0.2162204533815384, 0.5307229161262512, 0.05896921455860138, 0.0786256194114685, 0.03931280970573425, 0.03931280970573425, 0.019656404852867126, 0.019656404852867126, 0.1537810117006302, 0.3844525218009949, 0.23067151010036469, 0.0768905058503151, 0.0768905058503151, 0.15099385380744934, 0.7549692988395691, 0.13176439702510834, 0.3952932059764862, 0.3952932059764862, 0.15563225746154785, 0.15563225746154785, 0.15563225746154785, 0.3112645149230957, 0.3444647192955017, 0.5166970491409302, 0.1668301373720169, 0.1668301373720169, 0.1668301373720169, 0.3336602747440338, 0.1668301373720169, 0.2669253349304199, 0.6673133373260498, 0.11306235194206238, 0.22612470388412476, 0.33918705582618713, 0.11306235194206238, 0.11306235194206238, 0.39412879943847656, 0.5255050659179688, 0.9431526064872742, 0.7397280335426331, 0.16703535616397858, 0.07158657908439636, 0.11860162019729614, 0.11860162019729614, 0.11860162019729614, 0.11860162019729614, 0.11860162019729614, 0.11860162019729614, 0.11860162019729614, 0.8814694881439209, 0.04639313369989395, 0.8803438544273376, 0.04633388668298721, 0.9467781782150269, 0.020582133904099464, 0.020582133904099464, 0.18892714381217957, 0.08604602515697479, 0.054246410727500916, 0.2693614661693573, 0.043023012578487396, 0.08978716284036636, 0.10662225633859634, 0.06546980142593384, 0.018705658614635468, 0.043023012578487396, 0.01683509163558483, 0.001870565814897418, 0.007482263259589672, 0.005611697677522898, 0.001870565814897418, 0.5473344922065735, 0.0043439241126179695, 0.0043439241126179695, 0.0043439241126179695, 0.05212709307670593, 0.06081493943929672, 0.2953868508338928, 0.0043439241126179695, 0.026063546538352966, 0.9147466421127319, 0.48866841197013855, 0.07422811537981033, 0.03092838078737259, 0.11752784252166748, 0.08041378855705261, 0.16082757711410522, 0.012371351942420006, 0.006185675971210003, 0.018557028844952583, 0.18231897056102753, 0.5469568967819214, 0.18231897056102753, 0.17531736195087433, 0.7012694478034973, 0.01537377294152975, 0.0030747544951736927, 0.01537377294152975, 0.8363332152366638, 0.06764459609985352, 0.006149508990347385, 0.01537377294152975, 0.03689705580472946, 0.0030747544951736927, 0.632897675037384, 0.316448837518692, 0.17836003005504608, 0.17836003005504608, 0.535080075263977, 0.30105289816856384, 0.15052644908428192, 0.45157933235168457, 0.01421502698212862, 0.0014215026749297976, 0.9779938459396362, 0.0014215026749297976, 0.0014215026749297976, 0.016950959339737892, 0.37292107939720154, 0.13560767471790314, 0.016950959339737892, 0.4407249391078949, 0.001554363640025258, 0.006217454560101032, 0.9543792605400085, 0.001554363640025258, 0.001554363640025258, 0.004663091152906418, 0.001554363640025258, 0.001554363640025258, 0.02331545390188694, 0.001554363640025258, 0.4130952060222626, 0.002753967884927988, 0.5563015341758728, 0.022031743079423904, 0.2314942479133606, 0.6944827437400818, 0.8778433799743652, 0.03696182742714882, 0.03696182742714882, 0.02772137150168419, 0.009240456856787205, 0.41520851850509644, 0.41520851850509644, 0.13840284943580627, 0.19568771123886108, 0.19568771123886108, 0.19568771123886108, 0.19568771123886108, 0.7845386266708374, 0.0011959430994465947, 0.0011959430994465947, 0.0011959430994465947, 0.20211437344551086, 0.00837160088121891, 0.308039128780365, 0.16257619857788086, 0.48772862553596497, 0.008556642569601536, 0.008556642569601536, 0.008556642569601536, 0.1109720915555954, 0.1109720915555954, 0.0317063108086586, 0.1506049782037735, 0.0158531554043293, 0.2853568196296692, 0.0871923565864563, 0.0792657807469368, 0.0554860457777977, 0.0634126216173172, 0.00792657770216465, 0.2899702787399292, 0.01757395640015602, 0.12741118669509888, 0.4085944890975952, 0.03514791280031204, 0.05272186920046806, 0.004393489100039005, 0.05711536109447479, 0.30848798155784607, 0.15424399077892303, 0.4627319574356079, 0.8498051166534424, 0.8283314108848572, 0.8879441022872925, 0.08324476331472397, 0.06913694739341736, 0.7605064511299133, 0.06913694739341736, 0.9350569844245911, 0.8621376156806946, 0.06352593004703522, 0.027225399389863014, 0.009075133129954338, 0.027225399389863014, 0.9139611124992371, 0.026113174855709076, 0.026113174855709076, 0.8436973690986633, 0.1040174812078476, 0.023114996030926704, 0.011557498015463352, 0.011557498015463352, 0.782974362373352, 0.13049572706222534, 0.8843494057655334, 0.8719858527183533, 0.18310756981372833, 0.22219794988632202, 0.13990241289138794, 0.11109897494316101, 0.07200859487056732, 0.08641031384468079, 0.07200859487056732, 0.06583642959594727, 0.014401718974113464, 0.002057388424873352, 0.014401718974113464, 0.006172165274620056, 0.002057388424873352, 0.008229553699493408, 0.004114776849746704, 0.12206729501485825, 0.488269180059433, 0.12206729501485825, 0.12206729501485825, 0.18020765483379364, 0.3604153096675873, 0.18020765483379364, 0.18020765483379364, 0.09010382741689682, 0.3504234850406647, 0.17521174252033234, 0.3504234850406647, 0.11646659672260284, 0.3261064887046814, 0.06987995654344559, 0.11646659672260284, 0.11646659672260284, 0.06987995654344559, 0.09317328035831451, 0.02329332008957863, 0.02329332008957863, 0.04658664017915726, 0.3710697293281555, 0.24737980961799622, 0.12368990480899811, 0.12368990480899811, 0.6109766364097595, 0.34912949800491333, 0.010004417970776558, 0.5702518224716187, 0.1400618553161621, 0.04001767188310623, 0.010004417970776558, 0.21009276807308197, 0.020008835941553116, 0.3338075578212738, 0.05310574918985367, 0.030346142128109932, 0.13655763864517212, 0.030346142128109932, 0.1744903177022934, 0.07839420437812805, 0.058163441717624664, 0.03287498652935028, 0.03540383279323578, 0.01770191639661789, 0.0025288453325629234, 0.010115381330251694, 0.0025288453325629234, 0.111148402094841, 0.111148402094841, 0.3334451913833618, 0.222296804189682, 0.27726981043815613, 0.0830242931842804, 0.0783248022198677, 0.18484653532505035, 0.06422633677721024, 0.09555625915527344, 0.07519181072711945, 0.06579283624887466, 0.0156649611890316, 0.03602940961718559, 0.0078324805945158, 0.010965473018586636, 0.0015664960956200957, 0.0031329921912401915, 0.0031329921912401915, 0.2890203297138214, 0.15945948660373688, 0.03986487165093422, 0.01993243582546711, 0.05979730561375618, 0.27905410528182983, 0.08969596028327942, 0.0498310886323452, 0.2920384407043457, 0.06444986164569855, 0.05035145580768585, 0.1429981291294098, 0.02819681540131569, 0.15709653496742249, 0.07250609248876572, 0.06847798079252243, 0.016112465411424637, 0.07250609248876572, 0.01812652312219143, 0.006042174529284239, 0.0020140581764280796, 0.008056232705712318, 0.0020140581764280796, 0.37061625719070435, 0.18530812859535217, 0.18530812859535217, 0.027124660089612007, 0.46925660967826843, 0.20072248578071594, 0.0027124660555273294, 0.021699728444218636, 0.0027124660555273294, 0.17631028592586517, 0.08679891377687454, 0.0027124660555273294, 0.0027124660555273294, 0.031244656071066856, 0.2421460896730423, 0.39316192269325256, 0.013018607161939144, 0.158827006816864, 0.044263262301683426, 0.028640935197472572, 0.018226049840450287, 0.013018607161939144, 0.015622328035533428, 0.018226049840450287, 0.005207442678511143, 0.013018607161939144, 0.0026037213392555714, 0.07998237013816833, 0.8998016715049744, 0.8002188205718994, 0.06958424299955368, 0.011597373522818089, 0.03479212149977684, 0.057986870408058167, 0.011597373522818089, 0.16435807943344116, 0.1492198407649994, 0.11245553195476532, 0.15787026286125183, 0.11678074300289154, 0.07136601209640503, 0.10596771538257599, 0.03892691433429718, 0.02811388298869133, 0.010813032276928425, 0.01730085164308548, 0.01946345716714859, 0.002162606455385685, 0.002162606455385685, 0.00432521291077137, 0.066911481320858, 0.4290206730365753, 0.2578060030937195, 0.019679846242070198, 0.009839923121035099, 0.04919961839914322, 0.007871938869357109, 0.055103570222854614, 0.025583801791071892, 0.0039359694346785545, 0.047231633216142654, 0.015743877738714218, 0.0019679847173392773, 0.009839923121035099, 0.0019679847173392773, 0.10484803467988968, 0.8387842774391174, 0.1196027398109436, 0.3588082194328308, 0.1196027398109436, 0.2392054796218872, 0.0986984446644783, 0.2960953116416931, 0.0986984446644783, 0.24674610793590546, 0.0986984446644783, 0.0986984446644783, 0.2223740965127945, 0.06134457886219025, 0.06134457886219025, 0.10735300928354263, 0.007668072357773781, 0.30672287940979004, 0.13802529871463776, 0.030672289431095123, 0.007668072357773781, 0.046008434146642685, 0.007668072357773781, 0.007668072357773781, 0.1304178386926651, 0.19311872124671936, 0.0777490958571434, 0.08527319878339767, 0.14797407388687134, 0.0777490958571434, 0.05768481269478798, 0.06771694868803024, 0.06019284576177597, 0.05016070604324341, 0.015048211440443993, 0.025080353021621704, 0.007524105720221996, 0.0050160703249275684, 0.19191990792751312, 0.15593492984771729, 0.13494367897510529, 0.10495620220899582, 0.1424405574798584, 0.07047059386968613, 0.04648060351610184, 0.05247810110449791, 0.035984981805086136, 0.01949186623096466, 0.026988737285137177, 0.01199499424546957, 0.0029987485613673925, 0.0029987485613673925, 0.18499581515789032, 0.36999163031578064, 0.18499581515789032, 0.18499581515789032, 0.03726688772439957, 0.9465789794921875, 0.2440352588891983, 0.6507607102394104, 0.027497464790940285, 0.9074163436889648, 0.027497464790940285, 0.027497464790940285, 0.8710707426071167, 0.08656056970357895, 0.08656056970357895, 0.7790451049804688, 0.41780194640159607, 0.11291944235563278, 0.10162749886512756, 0.27100667357444763, 0.011291944421827793, 0.033875834196805954, 0.033875834196805954, 0.31161049008369446, 0.6232209801673889, 0.9713183641433716, 0.3162953555583954, 0.3162953555583954, 0.1581476777791977, 0.1581476777791977, 0.2618851661682129, 0.13094258308410645, 0.5237703323364258, 0.008691564202308655, 0.008691564202308655, 0.9560720324516296, 0.01738312840461731, 0.012860272079706192, 0.7887633442878723, 0.00857351440936327, 0.004286757204681635, 0.021433785557746887, 0.004286757204681635, 0.03000730089843273, 0.12002920359373093, 0.004286757204681635, 0.004286757204681635, 0.2646141052246094, 0.0063003357499837875, 0.182709738612175, 0.35911914706230164, 0.08190436661243439, 0.03150168061256409, 0.018901007249951363, 0.04410235211253166, 0.0063003357499837875, 0.039984483271837234, 0.13328160345554352, 0.26656320691108704, 0.039984483271837234, 0.1199534460902214, 0.15993793308734894, 0.06664080172777176, 0.06664080172777176, 0.039984483271837234, 0.053312644362449646, 0.7245535254478455, 0.18113838136196136, 0.3153294622898102, 0.3153294622898102, 0.1576647311449051, 0.1576647311449051, 0.08500756323337555, 0.399765282869339, 0.22056016325950623, 0.02297501638531685, 0.07581755518913269, 0.027570020407438278, 0.00919000618159771, 0.03905752673745155, 0.08271005749702454, 0.020677514374256134, 0.0068925051018595695, 0.0068925051018595695, 0.0022975015453994274, 0.9032498002052307, 0.15215063095092773, 0.7607531547546387, 0.2650041878223419, 0.13250209391117096, 0.13250209391117096, 0.3975062966346741, 0.11870098114013672, 0.11870098114013672, 0.11870098114013672, 0.5935049057006836, 0.06654966622591019, 0.03327483311295509, 0.13309933245182037, 0.08318708091974258, 0.11646191030740738, 0.13309933245182037, 0.33274832367897034, 0.016637416556477547, 0.06654966622591019, 0.016637416556477547, 0.3824160397052765, 0.06278472393751144, 0.05707702040672302, 0.11415404081344604, 0.03424621373414993, 0.039953913539648056, 0.2625542879104614, 0.02283080853521824, 0.01141540426760912, 0.01141540426760912, 0.11486681550741196, 0.05743340775370598, 0.17230023443698883, 0.6317675113677979, 0.9771159887313843, 0.010394850745797157, 0.09938723593950272, 0.05963234230875969, 0.039754897356033325, 0.5366910696029663, 0.09938723593950272, 0.05963234230875969, 0.019877448678016663, 0.039754897356033325, 0.05963234230875969, 0.19315898418426514, 0.12072436511516571, 0.024144873023033142, 0.07243461906909943, 0.6036218404769897, 0.017348548397421837, 0.2428796887397766, 0.017348548397421837, 0.05204564705491066, 0.017348548397421837, 0.6592448353767395, 0.2736680209636688, 0.41050204634666443, 0.1368340104818344, 0.8860469460487366, 0.7960041761398315, 0.04522750899195671, 0.009045502170920372, 0.03618200868368149, 0.10854602605104446, 0.009045502170920372, 0.1187017485499382, 0.1187017485499382, 0.1187017485499382, 0.5935087203979492, 0.27347227931022644, 0.18121658265590668, 0.1252041757106781, 0.08566601574420929, 0.05601239576935768, 0.10214025527238846, 0.059307243674993515, 0.03294846788048744, 0.013179387897253036, 0.013179387897253036, 0.013179387897253036, 0.01647423394024372, 0.006589693948626518, 0.013179387897253036, 0.013179387897253036, 0.3061482906341553, 0.3061482906341553, 0.15307414531707764, 0.15307414531707764, 0.1906263679265976, 0.03546537086367607, 0.013299514539539814, 0.21722540259361267, 0.026599029079079628, 0.13742831349372864, 0.013299514539539814, 0.172893688082695, 0.004433171357959509, 0.14186148345470428, 0.004433171357959509, 0.044331714510917664, 0.7292225360870361, 0.2430741786956787, 0.0173624400049448, 0.14265397191047668, 0.2697051465511322, 0.13522407412528992, 0.07355595380067825, 0.08024285733699799, 0.09435965865850449, 0.0341775119304657, 0.05795317515730858, 0.0482943132519722, 0.024518650025129318, 0.014116798527538776, 0.016345767304301262, 0.002228968311101198, 0.0029719576705247164, 0.004457936622202396, 0.23090407252311707, 0.07346947491168976, 0.010495639406144619, 0.1784258633852005, 0.010495639406144619, 0.11545203626155853, 0.07346947491168976, 0.041982557624578476, 0.03148691728711128, 0.22040842473506927, 0.010495639406144619, 0.9035267233848572, 0.5372186303138733, 0.009424888528883457, 0.09896133095026016, 0.17436043918132782, 0.17436043918132782, 0.37845578789711, 0.605529248714447, 0.1070614606142044, 0.3528161942958832, 0.14599290490150452, 0.07177984714508057, 0.10341163724660873, 0.0267653651535511, 0.06569680571556091, 0.03284840285778046, 0.0535307303071022, 0.007299645338207483, 0.01338268257677555, 0.006083037704229355, 0.007299645338207483, 0.002433215035125613, 0.0036498226691037416, 0.8850719332695007, 0.8296359181404114, 0.09218176454305649, 0.23772451281547546, 0.09725093096494675, 0.05402829870581627, 0.20530752837657928, 0.07563961297273636, 0.10805659741163254, 0.03241697698831558, 0.043222635984420776, 0.03241697698831558, 0.06483395397663116, 0.010805658996105194, 0.043222635984420776, 0.09820936620235443, 0.19641873240470886, 0.3928374648094177, 0.19641873240470886, 0.19641873240470886, 0.32099810242652893, 0.16049905121326447, 0.32099810242652893, 0.23468159139156342, 0.11734079569578171, 0.11734079569578171, 0.2933519780635834, 0.23468159139156342, 0.23064161837100983, 0.20859499275684357, 0.10005775839090347, 0.11532080918550491, 0.05087682604789734, 0.09157828986644745, 0.049180932343006134, 0.03900556638836861, 0.0356137789785862, 0.03391788527369499, 0.0356137789785862, 0.0016958941705524921, 0.005087682511657476, 0.005087682511657476, 0.1267050802707672, 0.04031525179743767, 0.06911186128854752, 0.3052440583705902, 0.005759321618825197, 0.10366778820753098, 0.1267050802707672, 0.04031525179743767, 0.14398303627967834, 0.02303728647530079, 0.7839252948760986, 0.111989326775074, 0.3552212715148926, 0.07495494931936264, 0.03747747465968132, 0.1466509848833084, 0.050513118505477905, 0.08147276937961578, 0.050513118505477905, 0.09776732325553894, 0.021182920783758163, 0.050513118505477905, 0.014665098860859871, 0.011406187899410725, 0.0065178219228982925, 0.0016294554807245731, 0.05022135004401207, 0.12555336952209473, 0.025110675022006035, 0.025110675022006035, 0.5775455236434937, 0.1506640464067459, 0.07011961936950684, 0.31553828716278076, 0.2103588581085205, 0.14023923873901367, 0.07011961936950684, 0.03505980968475342, 0.10517942905426025, 0.10494216531515121, 0.2822582423686981, 0.21350303292274475, 0.028949564322829247, 0.20988433063030243, 0.043424345552921295, 0.003618695540353656, 0.003618695540353656, 0.043424345552921295, 0.025330867618322372, 0.007237391080707312, 0.003618695540353656, 0.025330867618322372, 0.003618695540353656, 0.06994755566120148, 0.3352658748626709, 0.16160297393798828, 0.043415721505880356, 0.1833108365535736, 0.02894381619989872, 0.02894381619989872, 0.04100373759865761, 0.03859175369143486, 0.012059923261404037, 0.024119846522808075, 0.0048239692114293575, 0.01929587684571743, 0.0024119846057146788, 0.0024119846057146788, 0.24021917581558228, 0.09463179856538773, 0.07279369235038757, 0.13830801844596863, 0.043676216155290604, 0.10191116482019424, 0.07279369235038757, 0.09463179856538773, 0.014558738097548485, 0.021838108077645302, 0.02911747619509697, 0.05823495239019394, 0.007279369048774242, 0.007279369048774242, 0.057901762425899506, 0.8685263991355896, 0.00405913544818759, 0.420120507478714, 0.002029567724093795, 0.00405913544818759, 0.5418945550918579, 0.024354811757802963, 0.7494186758995056, 0.23257821798324585, 0.012921012006700039, 0.5324142575263977, 0.17747141420841217, 0.17747141420841217, 0.14726309478282928, 0.0654502660036087, 0.1309005320072174, 0.016362566500902176, 0.03272513300180435, 0.1309005320072174, 0.016362566500902176, 0.09817539900541306, 0.17998822033405304, 0.0654502660036087, 0.09817539900541306, 0.8528693914413452, 0.11371592432260513, 0.0806872621178627, 0.04034363105893135, 0.7261853814125061, 0.0806872621178627, 0.04034363105893135, 0.1288352757692337, 0.2576705515384674, 0.1288352757692337, 0.2576705515384674, 0.1288352757692337, 0.0910809263586998, 0.25354960560798645, 0.15508374571800232, 0.11569739133119583, 0.11815904080867767, 0.05415622517466545, 0.019693173468112946, 0.06892610341310501, 0.04677128791809082, 0.04677128791809082, 0.002461646683514118, 0.012308233417570591, 0.012308233417570591, 0.002461646683514118, 0.13168476521968842, 0.19752714037895203, 0.1252611130475998, 0.18628576397895813, 0.08511332422494888, 0.04496552795171738, 0.03372414782643318, 0.0513891763985157, 0.03854188323020935, 0.06423646956682205, 0.019270941615104675, 0.014453206211328506, 0.0032118235249072313, 0.004817735403776169, 0.0016059117624536157, 0.23641431331634521, 0.09671494364738464, 0.05526568368077278, 0.09671494364738464, 0.18114863336086273, 0.0936446264386177, 0.036843787878751755, 0.08750399947166443, 0.023027367889881134, 0.05526568368077278, 0.009210946969687939, 0.024562526494264603, 0.0015351579058915377, 0.0030703158117830753, 0.0015351579058915377, 0.20547603070735931, 0.1320917308330536, 0.1320917308330536, 0.3375677764415741, 0.08806115388870239, 0.02935371920466423, 0.02935371920466423, 0.014676859602332115, 0.014676859602332115, 0.23469257354736328, 0.0782308578491211, 0.23469257354736328, 0.1564617156982422, 0.1564617156982422, 0.0782308578491211, 0.03441732004284859, 0.2753385603427887, 0.017208660021424294, 0.29254719614982605, 0.13766928017139435, 0.18929524719715118, 0.03441732004284859, 0.22285421192646027, 0.5385643243789673, 0.01857118494808674, 0.01857118494808674, 0.1857118457555771, 0.8333189487457275, 0.0641014575958252, 0.0320507287979126, 0.0641014575958252, 0.9246234893798828, 0.0486643947660923, 0.15725167095661163, 0.23587751388549805, 0.07862583547830582, 0.4717550277709961, 0.14079879224300385, 0.07822155207395554, 0.07822155207395554, 0.18773172795772552, 0.036503393203020096, 0.10951017588376999, 0.22423511743545532, 0.04693293198943138, 0.015644310042262077, 0.036503393203020096, 0.005214770324528217, 0.015644310042262077, 0.010429540649056435, 0.005214770324528217, 0.7882614135742188, 0.17424726486206055, 0.024892466142773628, 0.13239632546901703, 0.2851613163948059, 0.1222120001912117, 0.06110600009560585, 0.09369586408138275, 0.07943779975175858, 0.059069130569696426, 0.07943779975175858, 0.02851613238453865, 0.006110599730163813, 0.026479266583919525, 0.010184332728385925, 0.008147465996444225, 0.004073732998222113, 0.0713072344660759, 0.3129595220088959, 0.192133367061615, 0.07526874542236328, 0.12082614004611969, 0.04555739834904671, 0.02574983425438404, 0.041595883667469025, 0.0475381538271904, 0.027730589732527733, 0.0059422692283988, 0.015846051275730133, 0.013865294866263866, 0.0019807564094662666, 0.0019807564094662666, 0.0769273191690445, 0.15120196342468262, 0.12600164115428925, 0.12334897369146347, 0.15518096089363098, 0.10212764889001846, 0.1313069760799408, 0.05703232064843178, 0.014589663594961166, 0.03183199465274811, 0.019894996657967567, 0.0026526660658419132, 0.0026526660658419132, 0.0026526660658419132, 0.0013263330329209566, 0.24109522998332977, 0.08610544353723526, 0.04305272176861763, 0.23248468339443207, 0.017221087589859962, 0.12054761499166489, 0.02583163231611252, 0.04305272176861763, 0.017221087589859962, 0.06027380749583244, 0.008610543794929981, 0.10332652926445007, 0.7324733734130859, 0.18311834335327148, 0.16884835064411163, 0.16884835064411163, 0.16884835064411163, 0.08442417532205582, 0.16884835064411163, 0.08442417532205582, 0.08442417532205582, 0.9861699938774109, 0.9640777707099915, 0.0539386123418808, 0.0269693061709404, 0.9169564247131348, 0.13471409678459167, 0.404142290353775, 0.26942819356918335, 0.325194388628006, 0.325194388628006, 0.162597194314003, 0.11404736340045929, 0.7983315587043762, 0.25636398792266846, 0.12818199396133423, 0.5127279758453369, 0.2733757495880127, 0.41006362438201904, 0.13668787479400635, 0.13668787479400635, 0.3626393973827362, 0.3626393973827362, 0.1813196986913681, 0.18056799471378326, 0.36113598942756653, 0.18056799471378326, 0.18056799471378326, 0.04889456927776337, 0.04889456927776337, 0.7823131084442139, 0.09778913855552673, 0.13092675805091858, 0.13092675805091858, 0.13092675805091858, 0.5237070322036743, 0.16380809247493744, 0.16380809247493744, 0.08190404623746872, 0.08190404623746872, 0.08190404623746872, 0.16380809247493744, 0.08190404623746872, 0.16380809247493744, 0.164126917719841, 0.328253835439682, 0.164126917719841, 0.164126917719841, 0.04426145926117897, 0.6639218926429749, 0.0331960953772068, 0.0331960953772068, 0.22130729258060455, 0.11141601204872131, 0.15598241984844208, 0.6239296793937683, 0.044566404074430466, 0.022283202037215233, 0.022283202037215233, 0.38433966040611267, 0.048042457550764084, 0.09608491510152817, 0.2882547378540039, 0.09608491510152817, 0.8725534677505493, 0.9355416297912598, 0.058471351861953735, 0.9374191761016846, 0.04075735807418823, 0.8624957203865051, 0.013116346672177315, 0.1912800520658493, 0.27653631567955017, 0.030604807659983635, 0.0032790866680443287, 0.007651201914995909, 0.045907214283943176, 0.1355355829000473, 0.22844304144382477, 0.018581490963697433, 0.030604807659983635, 0.01748846285045147, 0.0021860578563064337, 0.09772026538848877, 0.09772026538848877, 0.7817621231079102, 0.9191360473632812, 0.027852606028318405, 0.013926303014159203, 0.013926303014159203, 0.9034268260002136, 0.02533232979476452, 0.9668505787849426, 0.9366309642791748, 0.2627781331539154, 0.1313890665769577, 0.1313890665769577, 0.3941671848297119, 0.13077619671821594, 0.21796032786369324, 0.0016145209083333611, 0.07103891670703888, 0.1856698989868164, 0.02906137704849243, 0.03713398054242134, 0.23249101638793945, 0.004843562841415405, 0.008072604425251484, 0.06135179474949837, 0.01775972917675972, 0.0016145209083333611, 0.918645441532135, 0.2517257034778595, 0.6712685227394104, 0.9344432950019836, 0.13852326571941376, 0.13852326571941376, 0.4155697822570801, 0.2770465314388275, 0.9157643914222717, 0.04040136933326721, 0.013467123731970787, 0.026934247463941574, 0.26327675580978394, 0.16271966695785522, 0.08958723396062851, 0.11884020268917084, 0.08410230278968811, 0.07496074587106705, 0.06399088352918625, 0.054849326610565186, 0.03108128532767296, 0.029252974316477776, 0.016454797238111496, 0.005484932567924261, 0.003656621789559722, 0.001828310894779861, 0.8143219947814941, 0.0026439025532454252, 0.1744975745677948, 0.0026439025532454252, 0.14351975917816162, 0.2863394320011139, 0.14071936905384064, 0.06650915741920471, 0.09311281889677048, 0.07631050795316696, 0.018202506005764008, 0.06650915741920471, 0.040605589747428894, 0.030804241076111794, 0.011201541870832443, 0.016802312806248665, 0.004900674801319838, 0.002800385467708111, 0.0007000963669270277, 0.7990707159042358, 0.07520665228366852, 0.028202494606375694, 0.05640498921275139, 0.01880166307091713, 0.01880166307091713, 0.11488138139247894, 0.05744069069623947, 0.7467289566993713, 0.10092747211456299, 0.17301851511001587, 0.2931702733039856, 0.07209105044603348, 0.16500841081142426, 0.059274863451719284, 0.06408093124628067, 0.009612140245735645, 0.016020232811570168, 0.0272343959659338, 0.0016020233742892742, 0.0016020233742892742, 0.01441820990294218, 0.0032040467485785484, 0.053546641021966934, 0.8210484981536865, 0.07139551639556885, 0.017848879098892212, 0.9122830033302307, 0.9287843704223633, 0.5490490794181824, 0.18301637470722198, 0.18301637470722198, 0.3676748275756836, 0.1838374137878418, 0.1838374137878418, 0.1838374137878418, 0.20330393314361572, 0.1505955010652542, 0.0752977505326271, 0.18071460723876953, 0.03764887526631355, 0.11294662952423096, 0.13553595542907715, 0.015059550292789936, 0.015059550292789936, 0.007529775146394968, 0.04894353821873665, 0.007529775146394968, 0.003764887573197484, 0.9524387121200562, 0.21016669273376465, 0.16975001990795135, 0.12933334708213806, 0.12125001102685928, 0.04850000515580177, 0.16166669130325317, 0.008083334192633629, 0.04041667282581329, 0.016166668385267258, 0.04850000515580177, 0.008083334192633629, 0.04041667282581329, 0.2597946226596832, 0.5195892453193665, 0.18578971922397614, 0.37157943844795227, 0.37157943844795227, 0.11121271550655365, 0.055606357753276825, 0.11121271550655365, 0.33363816142082214, 0.11121271550655365, 0.11121271550655365, 0.055606357753276825, 0.11121271550655365, 0.1412658393383026, 0.17789031565189362, 0.1386498063802719, 0.08894515782594681, 0.10987342894077301, 0.08109705150127411, 0.0418565459549427, 0.08109705150127411, 0.023544305935502052, 0.07848101854324341, 0.015696203336119652, 0.007848101668059826, 0.007848101668059826, 0.002616034122183919, 0.15476658940315247, 0.1286613792181015, 0.10815014690160751, 0.1435786485671997, 0.16036055982112885, 0.06712768226861954, 0.05780439078807831, 0.09136822819709778, 0.01864657737314701, 0.029834523797035217, 0.01864657737314701, 0.011187946423888206, 0.003729315474629402, 0.001864657737314701, 0.003729315474629402, 0.39618322253227234, 0.13206106424331665, 0.39618322253227234, 0.8903355598449707, 0.025438159704208374, 0.07631447911262512, 0.2404363602399826, 0.1435699164867401, 0.08475814014673233, 0.10205572098493576, 0.060541532933712006, 0.10897475481033325, 0.05535225570201874, 0.07610935717821121, 0.019027339294552803, 0.048433225601911545, 0.02767612785100937, 0.024216612800955772, 0.003459515981376171, 0.0017297579906880856, 0.003459515981376171, 0.3168785572052002, 0.03920147195458412, 0.05880220606923103, 0.23847562074661255, 0.01960073597729206, 0.0882033109664917, 0.12740477919578552, 0.032667893916368484, 0.03920147195458412, 0.016333946958184242, 0.00980036798864603, 0.0065335785038769245, 0.0065335785038769245, 0.24698388576507568, 0.1676771342754364, 0.04531814530491829, 0.16390061378479004, 0.027946189045906067, 0.12160368263721466, 0.05740298330783844, 0.06042419373989105, 0.02643558382987976, 0.03625451400876045, 0.027946189045906067, 0.009818931110203266, 0.0075530242174863815, 0.0015106047503650188, 0.03891996294260025, 0.33730632066726685, 0.18811315298080444, 0.03891996294260025, 0.11675988137722015, 0.07135326415300369, 0.03243330121040344, 0.03243330121040344, 0.05837994068861008, 0.04540662094950676, 0.03243330121040344, 0.2626948356628418, 0.6567370295524597, 0.3655157685279846, 0.3655157685279846, 0.1827578842639923, 0.334587037563324, 0.20075222849845886, 0.20075222849845886, 0.06691741198301315, 0.06691741198301315, 0.06691741198301315, 0.2615029215812683, 0.4739740490913391, 0.01634393259882927, 0.09806359559297562, 0.06537573039531708, 0.04903179779648781, 0.258314847946167, 0.22391174733638763, 0.09796138852834702, 0.07638655602931976, 0.05189621075987816, 0.07347103953361511, 0.06647379696369171, 0.06297517567873001, 0.027405863627791405, 0.026239657774567604, 0.017493104562163353, 0.005831034854054451, 0.002332414034754038, 0.007580345496535301, 0.0017493105260655284, 0.220113143324852, 0.10771494358778, 0.08429864794015884, 0.07961539179086685, 0.10771494358778, 0.12176471948623657, 0.014049774967133999, 0.07493213564157486, 0.014049774967133999, 0.07024887204170227, 0.07961539179086685, 0.018733033910393715, 0.9609874486923218, 0.010223270393908024, 0.010223270393908024, 0.0942300483584404, 0.1413450688123703, 0.006730717606842518, 0.24230583012104034, 0.0942300483584404, 0.12115291506052017, 0.2692286968231201, 0.02019215188920498, 0.006730717606842518, 0.08274386823177338, 0.24823160469532013, 0.5792071223258972, 0.19161207973957062, 0.16056878864765167, 0.10704585909843445, 0.14023007452487946, 0.0856366828083992, 0.06957980990409851, 0.07386164367198944, 0.05887522175908089, 0.026761464774608612, 0.03853650763630867, 0.020338712260127068, 0.011775044724345207, 0.003211375791579485, 0.009634126909077168, 0.0021409171167761087, 0.9355141520500183, 0.045634835958480835, 0.8778144121170044, 0.24373768270015717, 0.19217778742313385, 0.07968347519636154, 0.09062042087316513, 0.07655862718820572, 0.08280831575393677, 0.051559895277023315, 0.051559895277023315, 0.03437326103448868, 0.07030894607305527, 0.00937452632933855, 0.007812105119228363, 0.0015624209772795439, 0.007812105119228363, 0.0015624209772795439, 0.20471197366714478, 0.12740814685821533, 0.10164020955562592, 0.167491614818573, 0.061556749045848846, 0.08016692847013474, 0.10307176411151886, 0.0601251944899559, 0.022904837504029274, 0.03865191340446472, 0.020041732117533684, 0.004294656682759523, 0.0028631046880036592, 0.0028631046880036592, 0.0028631046880036592, 0.2162908911705017, 0.20560985803604126, 0.08277799189090729, 0.13885341584682465, 0.0106810312718153, 0.15754520893096924, 0.0854482501745224, 0.0427241250872612, 0.018691804260015488, 0.024032320827245712, 0.016021547839045525, 0.002670257817953825, 0.002670257817953825, 0.1346995085477829, 0.205594003200531, 0.13647188246250153, 0.05494322255253792, 0.09570755064487457, 0.06557739526033401, 0.02481306903064251, 0.07975628972053528, 0.04430904984474182, 0.10456936061382294, 0.015951259061694145, 0.01949598267674446, 0.012406534515321255, 0.003544724080711603, 0.005317085888236761, 0.07696779817342758, 0.16932915151119232, 0.05387745797634125, 0.14623881876468658, 0.1077549159526825, 0.04618067666888237, 0.06157423555850983, 0.1770259290933609, 0.06157423555850983, 0.05387745797634125, 0.023090338334441185, 0.007696779444813728, 0.007696779444813728, 0.007696779444813728, 0.394887775182724, 0.13162925839424133, 0.01880417950451374, 0.3384752571582794, 0.07521671801805496, 0.03760835900902748, 0.9371651411056519, 0.922259509563446, 0.05764121934771538, 0.34944140911102295, 0.03415592759847641, 0.0026273790281265974, 0.46504607796669006, 0.0026273790281265974, 0.028901169076561928, 0.09984040260314941, 0.0026273790281265974, 0.01050951611250639, 0.8850746154785156, 0.701144278049469, 0.17528606951236725, 0.1865585744380951, 0.09327928721904755, 0.6529550552368164, 0.9746437072753906, 0.005801450461149216, 0.005801450461149216, 0.04790332540869713, 0.8622598648071289, 0.04790332540869713, 0.08439108729362488, 0.2109777182340622, 0.04219554364681244, 0.08439108729362488, 0.02109777182340622, 0.14768441021442413, 0.02109777182340622, 0.3164665997028351, 0.06329331547021866, 0.568874180316925, 0.16428694128990173, 0.12995831668376923, 0.009808175265789032, 0.12015014886856079, 0.002452043816447258, 0.6611732840538025, 0.11716994643211365, 0.10880066454410553, 0.008369281888008118, 0.03347712755203247, 0.058584973216056824, 0.834746241569519, 0.8895182609558105, 0.06353701651096344, 0.2204992026090622, 0.1102496013045311, 0.3307487964630127, 0.2204992026090622, 0.06139388680458069, 0.12278777360916138, 0.266040176153183, 0.24557554721832275, 0.2865048050880432, 0.16464078426361084, 0.16464078426361084, 0.1496734470129013, 0.04490203410387039, 0.16464078426361084, 0.2544448673725128, 0.02993468940258026, 0.14886872470378876, 0.26774153113365173, 0.15553449094295502, 0.046660348773002625, 0.08443301171064377, 0.11220702528953552, 0.031106898561120033, 0.047771308571100235, 0.045549385249614716, 0.027774015441536903, 0.0011109606130048633, 0.024441134184598923, 0.0022219212260097265, 0.0011109606130048633, 0.0022219212260097265, 0.1477459967136383, 0.7387299537658691, 0.8981729745864868, 0.064155213534832, 0.20913445949554443, 0.1394229680299759, 0.06971148401498795, 0.5576918721199036, 0.9568859934806824, 0.026580167934298515, 0.0068818372674286366, 0.0017204593168571591, 0.9841027855873108, 0.0017204593168571591, 0.0034409186337143183, 0.2242635190486908, 0.1495090126991272, 0.1495090126991272, 0.4485270380973816, 0.8150606751441956, 0.1338159292936325, 0.024330168962478638, 0.9040372371673584, 0.07533643394708633, 0.03384985402226448, 0.25725889205932617, 0.23694898188114166, 0.006769970990717411, 0.006769970990717411, 0.10154956579208374, 0.21663907170295715, 0.12862944602966309, 0.006769970990717411, 0.9717090129852295, 0.10320372879505157, 0.054059095680713654, 0.12777604162693024, 0.2899533212184906, 0.1376049667596817, 0.054059095680713654, 0.04914463311433792, 0.019657853990793228, 0.09828926622867584, 0.054059095680713654, 0.009828926995396614, 0.13573186099529266, 0.09048790484666824, 0.6786592602729797, 0.04524395242333412, 0.23721987009048462, 0.7116596102714539, 0.35028839111328125, 0.008981754072010517, 0.4850147068500519, 0.008981754072010517, 0.008981754072010517, 0.11676280200481415, 0.2856340706348419, 0.5712681412696838, 0.09521135687828064, 0.1564616858959198, 0.2694617807865143, 0.19992326200008392, 0.03476926311850548, 0.1086539477109909, 0.11300010234117508, 0.013038473203778267, 0.030423104763031006, 0.026076946407556534, 0.01738463155925274, 0.004346157889813185, 0.021730788052082062, 0.004346157889813185, 0.3524276614189148, 0.5286415219306946, 0.7324172258377075, 0.10463102906942368, 0.9793992638587952, 0.0855354368686676, 0.8933700919151306, 0.04904966056346893, 0.9319435358047485, 0.0421137772500515, 0.8843892812728882, 0.0421137772500515, 0.14738696813583374, 0.1684422492980957, 0.08071190863847733, 0.10001258552074432, 0.16142381727695465, 0.10001258552074432, 0.036846742033958435, 0.05965662747621536, 0.07018426805734634, 0.022809887304902077, 0.02456449344754219, 0.021055281162261963, 0.001754606724716723, 0.005263820290565491, 0.13088998198509216, 0.6544499397277832, 0.13088998198509216, 0.11532038450241089, 0.38904058933258057, 0.15906259417533875, 0.04175393283367157, 0.0550091490149498, 0.009941412135958672, 0.04042841121554375, 0.020545585080981255, 0.11995970457792282, 0.007290368899703026, 0.009941412135958672, 0.012592455372214317, 0.008615890517830849, 0.003313804045319557, 0.007290368899703026, 0.12137775868177414, 0.30344438552856445, 0.06068887934088707, 0.48551103472709656, 0.25379976630210876, 0.6598793864250183, 0.23168309032917023, 0.05792077258229256, 0.579207718372345, 0.05792077258229256, 0.16765159368515015, 0.3353031873703003, 0.16765159368515015, 0.16765159368515015, 0.16765159368515015, 0.17507019639015198, 0.17507019639015198, 0.7002807855606079, 0.07553862035274506, 0.07553862035274506, 0.07553862035274506, 0.11330793052911758, 0.2643851637840271, 0.07553862035274506, 0.07553862035274506, 0.03776931017637253, 0.07553862035274506, 0.03776931017637253, 0.07553862035274506, 0.9104890823364258, 0.03958648070693016, 0.12756569683551788, 0.16508501768112183, 0.15007729828357697, 0.07503864914178848, 0.07503864914178848, 0.07503864914178848, 0.06753478199243546, 0.03751932457089424, 0.007503864821046591, 0.06753478199243546, 0.1350695639848709, 0.007503864821046591, 0.15019555389881134, 0.15019555389881134, 0.6007822155952454, 0.6038011312484741, 0.014291150495409966, 0.2858230173587799, 0.010718362405896187, 0.017863938584923744, 0.05716460198163986, 0.0035727876238524914, 0.07800779491662979, 0.6240623593330383, 0.06500649452209473, 0.10401039570569992, 0.039003897458314896, 0.05200519785284996, 0.01300129946321249, 0.01300129946321249, 0.07720445096492767, 0.1024443656206131, 0.19449582695960999, 0.03117872029542923, 0.35187411308288574, 0.07423504441976547, 0.02969401888549328, 0.03860222548246384, 0.03414812311530113, 0.004454102832823992, 0.04899512976408005, 0.002969401888549328, 0.002969401888549328, 0.005938803777098656, 0.001484700944274664, 0.1305684596300125, 0.6528422832489014, 0.1305684596300125, 0.7626914978027344, 0.12711524963378906, 0.0767284482717514, 0.844012975692749, 0.8118313550949097, 0.11597590893507004, 0.1853102594614029, 0.12722793221473694, 0.09403803944587708, 0.22956344485282898, 0.06914561986923218, 0.06914561986923218, 0.03872154653072357, 0.05808231979608536, 0.02212659828364849, 0.05255066975951195, 0.03595571964979172, 0.011063299141824245, 0.0027658247854560614, 0.0027658247854560614, 0.12214093655347824, 0.12214093655347824, 0.48856374621391296, 0.12214093655347824, 0.9013025760650635, 0.01386619359254837, 0.05546477437019348, 0.23928816616535187, 0.07066227495670319, 0.041754983365535736, 0.3035266101360321, 0.04817882552742958, 0.06102651357650757, 0.0578145906329155, 0.08511592447757721, 0.008029804565012455, 0.054602671414613724, 0.014453647658228874, 0.0064238435588777065, 0.004817882552742958, 0.0032119217794388533, 0.018107425421476364, 0.9415860772132874, 0.9108690023422241, 0.4720951020717621, 0.044961437582969666, 0.15736503899097443, 0.022480718791484833, 0.044961437582969666, 0.022480718791484833, 0.24728791415691376, 0.31619906425476074, 0.10539969056844711, 0.5269984602928162, 0.9378218054771423, 0.03025231510400772, 0.09336602687835693, 0.30343958735466003, 0.14184454083442688, 0.08259302377700806, 0.06284251809120178, 0.04488751292228699, 0.008977502584457397, 0.057456016540527344, 0.131071537733078, 0.04668301343917847, 0.010773003101348877, 0.007182002067565918, 0.007182002067565918, 0.0017955005168914795, 0.158595010638237, 0.17946277558803558, 0.018780987709760666, 0.18989665806293488, 0.047995857894420624, 0.13355369865894318, 0.08973138779401779, 0.06677684932947159, 0.031301647424697876, 0.03547520190477371, 0.029214870184659958, 0.006260329391807318, 0.002086776541545987, 0.006260329391807318, 0.10696364939212799, 0.14261819422245026, 0.14261819422245026, 0.14261819422245026, 0.17827275395393372, 0.24958184361457825, 0.47837942838668823, 0.3189196288585663, 0.15945981442928314, 0.22797204554080963, 0.11398602277040482, 0.5699301362037659, 0.5497100949287415, 0.36647340655326843, 0.17928436398506165, 0.17928436398506165, 0.17928436398506165, 0.08964218199253082, 0.08964218199253082, 0.17928436398506165, 0.08964218199253082, 0.2516486644744873, 0.10065946727991104, 0.05032973363995552, 0.05032973363995552, 0.05032973363995552, 0.40263786911964417, 0.05032973363995552, 0.8925949931144714, 0.5498811602592468, 0.36658743023872375, 0.17921802401542664, 0.35843604803085327, 0.35843604803085327, 0.17653459310531616, 0.8070152401924133, 0.8956746459007263, 0.48878759145736694, 0.20022624731063843, 0.029445037245750427, 0.011778014712035656, 0.005889007356017828, 0.08833511173725128, 0.11778014898300171, 0.005889007356017828, 0.05300106480717659, 0.9029999375343323, 0.03283636271953583, 0.016418181359767914, 0.016418181359767914, 0.016418181359767914, 0.6317037343978882, 0.15792593359947205, 0.15792593359947205, 0.3632122576236725, 0.3632122576236725, 0.18160612881183624, 0.25239548087120056, 0.018028248101472855, 0.018028248101472855, 0.09014124423265457, 0.10816948860883713, 0.14422598481178284, 0.018028248101472855, 0.25239548087120056, 0.03605649620294571, 0.054084744304418564, 0.7948585152626038, 0.13247641921043396, 0.08281955122947693, 0.9110150337219238, 0.8438745737075806, 0.04899916797876358, 0.01633305661380291, 0.05988787114620209, 0.021777408197522163, 0.005444352049380541, 0.5994976162910461, 0.024469289928674698, 0.1590503752231598, 0.1468157321214676, 0.048938579857349396, 0.8688316941261292, 0.20422855019569397, 0.7704986333847046, 0.009283116087317467, 0.9470553994178772, 0.018569713458418846, 0.39655089378356934, 0.13218362629413605, 0.39655089378356934, 0.45033925771713257, 0.45033925771713257, 0.7529552578926086, 0.22971516847610474, 0.45144709944725037, 0.15048235654830933, 0.30096471309661865, 0.280183881521225, 0.1400919407606125, 0.1400919407606125, 0.07004597038030624, 0.3502298593521118, 0.19721394777297974, 0.09860697388648987, 0.09860697388648987, 0.09860697388648987, 0.19721394777297974, 0.19721394777297974, 0.856746256351471, 0.04079744219779968, 0.04079744219779968, 0.1641743779182434, 0.1641743779182434, 0.3283487558364868, 0.1641743779182434, 0.8973005414009094, 0.06409289687871933, 0.38428428769111633, 0.19214214384555817, 0.19214214384555817, 0.19214214384555817, 0.9370874166488647, 0.0302286259829998, 0.05880267545580864, 0.05880267545580864, 0.11760535091161728, 0.05880267545580864, 0.4704214036464691, 0.05880267545580864, 0.11760535091161728, 0.9219621419906616, 0.031791798770427704, 0.031791798770427704, 0.08034727722406387, 0.8436464071273804, 0.04017363861203194, 0.846619725227356, 0.17174863815307617, 0.29578930139541626, 0.07633272558450699, 0.05724954232573509, 0.12404067814350128, 0.07633272558450699, 0.05724954232573509, 0.009541590698063374, 0.009541590698063374, 0.019083181396126747, 0.09541590511798859, 0.11818274110555649, 0.22060777246952057, 0.13197071850299835, 0.11227360367774963, 0.11227360367774963, 0.10636446624994278, 0.07484906911849976, 0.033485110849142075, 0.02757597155869007, 0.033485110849142075, 0.021666835993528366, 0.001969712320715189, 0.001969712320715189, 0.007878849282860756, 0.8990629315376282, 0.26139310002326965, 0.05227861925959587, 0.47050756216049194, 0.05227861925959587, 0.05227861925959587, 0.08914215117692947, 0.2963976562023163, 0.1715986430644989, 0.05571384355425835, 0.10251347720623016, 0.11365624517202377, 0.03788541629910469, 0.042342521250247955, 0.02451409213244915, 0.013371323235332966, 0.031199753284454346, 0.004457107745110989, 0.011142768897116184, 0.004457107745110989, 0.36732545495033264, 0.18366272747516632, 0.18366272747516632, 0.18366272747516632, 0.849619448184967, 0.5321679711341858, 0.04093599691987038, 0.08187199383974075, 0.3411332964897156, 0.41521286964416504, 0.13840427994728088, 0.13840427994728088, 0.27680855989456177, 0.24657317996025085, 0.7088978886604309, 0.11306189000606537, 0.39057743549346924, 0.07194847613573074, 0.02312629483640194, 0.11049230396747589, 0.09764435887336731, 0.017987119033932686, 0.05139176920056343, 0.05396135523915291, 0.005139176733791828, 0.05396135523915291, 0.005139176733791828, 0.002569588366895914, 0.002569588366895914, 0.17712287604808807, 0.17712287604808807, 0.35424575209617615, 0.34717968106269836, 0.6075644493103027, 0.17471539974212646, 0.6988615989685059, 0.020026523619890213, 0.17022545635700226, 0.1802387237548828, 0.010013261809945107, 0.17022545635700226, 0.05006631091237068, 0.010013261809945107, 0.08010609447956085, 0.29038459062576294, 0.010013261809945107, 0.12019431591033936, 0.22035625576972961, 0.13622023165225983, 0.08012954890727997, 0.12420079857110977, 0.14423318207263947, 0.02804534137248993, 0.05609068274497986, 0.016025908291339874, 0.020032387226819992, 0.020032387226819992, 0.03205181658267975, 0.004006477072834969, 0.2730817198753357, 0.13654085993766785, 0.5461634397506714, 0.13654085993766785, 0.09596249461174011, 0.4198358952999115, 0.22791092097759247, 0.1799296736717224, 0.023990623652935028, 0.011995311826467514, 0.011995311826467514, 0.023990623652935028, 0.33379149436950684, 0.16689574718475342, 0.33379149436950684, 0.16689574718475342, 0.44229716062545776, 0.11057429015636444, 0.11057429015636444, 0.11057429015636444, 0.11057429015636444, 0.6835589408874512, 0.13671179115772247, 0.15534482896327972, 0.6213793158531189, 0.31068965792655945, 0.8652858734130859, 0.1761058121919632, 0.1761058121919632, 0.5283174514770508, 0.11153236776590347, 0.11153236776590347, 0.11153236776590347, 0.11153236776590347, 0.334597110748291, 0.18279528617858887, 0.36559057235717773, 0.18279528617858887, 0.6246284246444702, 0.01931840367615223, 0.19962351024150848, 0.11591042578220367, 0.01931840367615223, 0.01287893671542406, 0.9066062569618225, 0.04689342901110649, 0.03126228600740433, 0.9213981628417969, 0.13243405520915985, 0.13243405520915985, 0.19865109026432037, 0.13243405520915985, 0.13243405520915985, 0.06621702760457993, 0.06621702760457993, 0.06621702760457993, 0.13243405520915985, 0.8464422821998596, 0.8687371015548706, 0.1128230020403862, 0.15115883946418762, 0.6046353578567505, 0.15115883946418762, 0.2109106481075287, 0.2109106481075287, 0.10545532405376434, 0.2109106481075287, 0.10545532405376434, 0.10545532405376434, 0.3189603090286255, 0.3189603090286255, 0.15948015451431274, 0.20042067766189575, 0.20042067766189575, 0.10021033883094788, 0.20042067766189575, 0.20042067766189575, 0.8857773542404175, 0.8474027514457703, 0.2938792109489441, 0.1213848888874054, 0.09902451187372208, 0.08624715358018875, 0.057498104870319366, 0.10860753059387207, 0.04152640700340271, 0.04472074657678604, 0.051109425723552704, 0.012777356430888176, 0.028749052435159683, 0.028749052435159683, 0.006388678215444088, 0.015971696004271507, 0.10008125007152557, 0.3739878237247467, 0.09481381624937057, 0.06320921331644058, 0.10534868389368057, 0.057941775768995285, 0.026337170973420143, 0.04213947430253029, 0.052674341946840286, 0.03687204048037529, 0.005267434287816286, 0.015802303329110146, 0.005267434287816286, 0.010534868575632572, 0.010534868575632572, 0.7801077961921692, 0.1300179660320282, 0.23624898493289948, 0.024439549073576927, 0.008146516047418118, 0.016293032094836235, 0.016293032094836235, 0.03258606418967247, 0.6354283094406128, 0.03258606418967247, 0.8054701685905457, 0.1006837710738182, 0.12399616837501526, 0.22319310903549194, 0.14879541099071503, 0.049598466604948044, 0.024799233302474022, 0.1735946387052536, 0.049598466604948044, 0.07439770549535751, 0.07439770549535751, 0.049598466604948044, 0.8592849969863892, 0.07472043484449387, 0.03736021742224693, 0.18075400590896606, 0.09037700295448303, 0.09037700295448303, 0.09037700295448303, 0.36150801181793213, 0.09037700295448303, 0.19421985745429993, 0.19421985745429993, 0.2913297712802887, 0.09710992872714996, 0.09710992872714996, 0.22818449139595032, 0.022818448022007942, 0.045636896044015884, 0.22818449139595032, 0.13691069185733795, 0.13691069185733795, 0.045636896044015884, 0.09127379208803177, 0.045636896044015884, 0.17335671186447144, 0.17335671186447144, 0.5200701355934143, 0.14782734215259552, 0.14782734215259552, 0.11826187372207642, 0.029565468430519104, 0.20695827901363373, 0.05913093686103821, 0.11826187372207642, 0.11826187372207642, 0.029565468430519104, 0.18707512319087982, 0.5612253546714783, 0.18707512319087982, 0.039992790669202805, 0.27709290385246277, 0.2656663954257965, 0.03713616356253624, 0.21996036171913147, 0.05141930282115936, 0.011426512151956558, 0.017139768227934837, 0.04570604860782623, 0.005713256075978279, 0.0028566280379891396, 0.008569884113967419, 0.014283140189945698, 0.9044504165649414, 0.42707064747810364, 0.21353532373905182, 0.10676766186952591, 0.21353532373905182, 0.06786908954381943, 0.33934545516967773, 0.20360726118087769, 0.033934544771909714, 0.06786908954381943, 0.06786908954381943, 0.033934544771909714, 0.13573817908763885, 0.1961716264486313, 0.1961716264486313, 0.3923432528972626, 0.1961716264486313, 0.26247191429138184, 0.06561797857284546, 0.13123595714569092, 0.06561797857284546, 0.13123595714569092, 0.13123595714569092, 0.13123595714569092, 0.3988257944583893, 0.514613926410675, 0.012865347787737846, 0.012865347787737846, 0.051461391150951385, 0.17176871001720428, 0.08588435500860214, 0.08588435500860214, 0.6011905074119568, 0.9521685838699341, 0.35684797167778015, 0.03964977711439133, 0.11894933134317398, 0.11894933134317398, 0.03964977711439133, 0.03964977711439133, 0.07929955422878265, 0.03964977711439133, 0.11894933134317398, 0.10532678663730621, 0.10532678663730621, 0.10532678663730621, 0.10532678663730621, 0.21065357327461243, 0.31598037481307983, 0.017575597390532494, 0.017575597390532494, 0.1230291873216629, 0.017575597390532494, 0.05272679403424263, 0.42181435227394104, 0.2460583746433258, 0.08787798881530762, 0.11910752952098846, 0.7146452069282532, 0.03034340962767601, 0.15171705186367035, 0.1314881145954132, 0.4045788049697876, 0.06068681925535202, 0.02022893913090229, 0.11125916987657547, 0.04045787826180458, 0.04045787826180458, 0.04685632511973381, 0.44651320576667786, 0.005512508563697338, 0.008268763311207294, 0.022050034254789352, 0.4658069908618927, 0.002756254281848669, 0.16634492576122284, 0.1652209758758545, 0.15847726166248322, 0.14049403369426727, 0.087668277323246, 0.05956946685910225, 0.09665989130735397, 0.033718567341566086, 0.016859283670783043, 0.042710185050964355, 0.024726949632167816, 0.0022479044273495674, 0.0022479044273495674, 0.003371856641024351, 0.0011239522136747837, 0.06731824576854706, 0.20195473730564117, 0.13463649153709412, 0.06731824576854706, 0.06731824576854706, 0.4712277352809906, 0.2305660992860794, 0.039152733981609344, 0.026101822033524513, 0.23491640388965607, 0.026101822033524513, 0.13485941290855408, 0.1435600221157074, 0.052203644067049026, 0.0043503036722540855, 0.07395516335964203, 0.013050911016762257, 0.0043503036722540855, 0.0043503036722540855, 0.0043503036722540855, 0.0043503036722540855, 0.8282269835472107, 0.027607565745711327, 0.1104302629828453, 0.9775679111480713, 0.2859596610069275, 0.10758879035711288, 0.03397540748119354, 0.20385244488716125, 0.048131827265024185, 0.0594569630920887, 0.12740777432918549, 0.04530054330825806, 0.0198189876973629, 0.03397540748119354, 0.014156419783830643, 0.008493851870298386, 0.0028312839567661285, 0.005662567913532257, 0.0028312839567661285, 0.9162771105766296, 0.15023452043533325, 0.751172661781311, 0.4140048027038574, 0.2760032117366791, 0.13800160586833954, 0.6807994842529297, 0.17019987106323242, 0.38123592734336853, 0.19061796367168427, 0.19061796367168427, 0.19061796367168427, 0.08263908326625824, 0.12395862489938736, 0.6611126661300659, 0.08263908326625824, 0.15148349106311798, 0.30296698212623596, 0.45445048809051514, 0.1286695897579193, 0.03216739743947983, 0.28950658440589905, 0.41817617416381836, 0.09650219231843948, 0.03216739743947983, 0.14277970790863037, 0.1286303699016571, 0.12348515540361404, 0.17622360587120056, 0.12091254442930222, 0.093900166451931, 0.06431518495082855, 0.05531105771660805, 0.03344389423727989, 0.029584985226392746, 0.01414934080094099, 0.01157673355191946, 0.002572607481852174, 0.001286303740926087, 0.05270601436495781, 0.05270601436495781, 0.4216481149196625, 0.10541202872991562, 0.31623607873916626, 0.06200867518782616, 0.18602602183818817, 0.24803470075130463, 0.06200867518782616, 0.4340607225894928, 0.36650198698043823, 0.04941599816083908, 0.004117999691516161, 0.061769999563694, 0.004117999691516161, 0.16471999883651733, 0.11942199617624283, 0.07000599801540375, 0.01235399954020977, 0.020589999854564667, 0.11530400067567825, 0.008235999383032322, 0.004117999691516161, 0.3529849052429199, 0.017649244517087936, 0.08824622631072998, 0.05294773355126381, 0.31768640875816345, 0.07059697806835175, 0.05294773355126381, 0.017649244517087936, 0.14701752364635468, 0.14701752364635468, 0.5880700945854187, 0.3050762712955475, 0.15253813564777374, 0.3050762712955475, 0.15253813564777374, 0.2600151300430298, 0.1300075650215149, 0.06500378251075745, 0.4550265073776245, 0.922065019607544, 0.18627925217151642, 0.1660802960395813, 0.15261432528495789, 0.12568238377571106, 0.08752880990505219, 0.08528447896242142, 0.08528447896242142, 0.04264223948121071, 0.031420595943927765, 0.004488656762987375, 0.011221641674637794, 0.004488656762987375, 0.00897731352597475, 0.004488656762987375, 0.004488656762987375, 0.9338451027870178, 0.2220248579978943, 0.1809091418981552, 0.1809091418981552, 0.057562001049518585, 0.057562001049518585, 0.00822314340621233, 0.01644628681242466, 0.057562001049518585, 0.057562001049518585, 0.057562001049518585, 0.06578514724969864, 0.03289257362484932, 0.18091340363025665, 0.12060893326997757, 0.12060893326997757, 0.12060893326997757, 0.4221312701702118, 0.060304466634988785, 0.2811078727245331, 0.03123420849442482, 0.01561710424721241, 0.20302236080169678, 0.01561710424721241, 0.09370262920856476, 0.29672497510910034, 0.01561710424721241, 0.01561710424721241, 0.03123420849442482, 0.8722853660583496, 0.09747368097305298, 0.22852163016796112, 0.15379180014133453, 0.10072280466556549, 0.09422455728054047, 0.06606549769639969, 0.018411695957183838, 0.04548771679401398, 0.06823157519102097, 0.08880935609340668, 0.018411695957183838, 0.00866432674229145, 0.004332163371145725, 0.006498245522379875, 0.23823297023773193, 0.11911648511886597, 0.47646594047546387, 0.11911648511886597, 0.492459774017334, 0.027358876541256905, 0.13679438829421997, 0.32830652594566345, 0.027358876541256905, 0.47891244292259216, 0.1596374809741974, 0.3192749619483948, 0.02495545707643032, 0.1663697212934494, 0.11313141137361526, 0.06821158528327942, 0.13975057005882263, 0.02495545707643032, 0.0016636971849948168, 0.021628063172101974, 0.014973274432122707, 0.3959599435329437, 0.0033273943699896336, 0.0033273943699896336, 0.004991091322153807, 0.018300669267773628, 0.3020685911178589, 0.6041371822357178, 0.013537337072193623, 0.09306918829679489, 0.3232039213180542, 0.0033843342680484056, 0.46196162700653076, 0.0033843342680484056, 0.006768668536096811, 0.02876684069633484, 0.006768668536096811, 0.006768668536096811, 0.013537337072193623, 0.013537337072193623, 0.020306004211306572, 0.0016921671340242028, 0.02686178684234619, 0.08058536052703857, 0.3921820819377899, 0.021489428356289864, 0.19340486824512482, 0.005372357089072466, 0.02686178684234619, 0.05909593030810356, 0.016117071732878685, 0.16654308140277863, 0.010744714178144932, 0.5437039136886597, 0.18123464286327362, 0.18123464286327362, 0.1753847599029541, 0.010316750034689903, 0.5467877388000488, 0.020633500069379807, 0.07221724838018417, 0.08253400027751923, 0.010316750034689903, 0.06190050020813942, 0.2615697681903839, 0.6539244055747986, 0.01793668419122696, 0.600878894329071, 0.06277839094400406, 0.01793668419122696, 0.01793668419122696, 0.2690502405166626, 0.00896834209561348, 0.5420725345611572, 0.15737590193748474, 0.12240348011255264, 0.15737590193748474, 0.16684871912002563, 0.16684871912002563, 0.5005461573600769, 0.8785452842712402, 0.06608778238296509, 0.2697681486606598, 0.20259696245193481, 0.07908865064382553, 0.147343248128891, 0.05525371804833412, 0.03575240448117256, 0.03683581203222275, 0.03900262340903282, 0.024918342009186745, 0.02275153063237667, 0.006500437390059233, 0.011917468160390854, 0.0021668123081326485, 0.0010834061540663242, 0.07226879149675369, 0.5058815479278564, 0.43361273407936096, 0.1321372091770172, 0.5285488367080688, 0.1321372091770172, 0.17774485051631927, 0.2204935997724533, 0.1282462775707245, 0.06299817562103271, 0.10574693232774734, 0.07424784451723099, 0.024749282747507095, 0.09224732220172882, 0.04274876043200493, 0.02699921652674675, 0.020249413326382637, 0.008999738842248917, 0.004499869421124458, 0.004499869421124458, 0.18106243014335632, 0.226328045129776, 0.04526560753583908, 0.36212486028671265, 0.13579683005809784, 0.39201220870018005, 0.5226829648017883, 0.4887869954109192, 0.19551479816436768, 0.09775739908218384, 0.09775739908218384, 0.3520182967185974, 0.5280274748802185, 0.17093530297279358, 0.16713672876358032, 0.15574105083942413, 0.08356836438179016, 0.0987626165151596, 0.07217267900705338, 0.04558274522423744, 0.12535254657268524, 0.030388496816158295, 0.02279137261211872, 0.015194248408079147, 0.01139568630605936, 0.003798562102019787, 0.6311396956443787, 0.10518994927406311, 0.10518994927406311, 0.16398313641548157, 0.010579557158052921, 0.03173867240548134, 0.16927291452884674, 0.005289778579026461, 0.03702845051884651, 0.08463645726442337, 0.38086408376693726, 0.005289778579026461, 0.04760801047086716, 0.058187566697597504, 0.005289778579026461, 0.18035955727100372, 0.5410786867141724, 0.18035955727100372, 0.15138866007328033, 0.8326376080513, 0.19111761450767517, 0.7644704580307007, 0.06707289069890976, 0.8719475865364075, 0.19509176909923553, 0.19509176909923553, 0.19509176909923553, 0.19509176909923553, 0.19509176909923553, 0.330875039100647, 0.04019977152347565, 0.03092290088534355, 0.21955260634422302, 0.01855374127626419, 0.08658412098884583, 0.09895328432321548, 0.08658412098884583, 0.015461450442671776, 0.04638435319066048, 0.009276870638132095, 0.006184580270200968, 0.003092290135100484, 0.003092290135100484, 0.2846590578556061, 0.17079542577266693, 0.5123862624168396, 0.22486144304275513, 0.043394312262535095, 0.03550443798303604, 0.28403550386428833, 0.07495380938053131, 0.08678862452507019, 0.03550443798303604, 0.06706393510103226, 0.019724687561392784, 0.07495380938053131, 0.027614561840891838, 0.007889875210821629, 0.003944937605410814, 0.003944937605410814, 0.08313140273094177, 0.02771046943962574, 0.02771046943962574, 0.2493942230939865, 0.13855233788490295, 0.19397328794002533, 0.05542093887925148, 0.11084187775850296, 0.02771046943962574, 0.08313140273094177, 0.0926038846373558, 0.0926038846373558, 0.7408310770988464, 0.0926038846373558, 0.08627543598413467, 0.30940157175064087, 0.21717609465122223, 0.014875075779855251, 0.1428007185459137, 0.08925045281648636, 0.026775134727358818, 0.008925044909119606, 0.053550269454717636, 0.0029750149697065353, 0.017850089818239212, 0.014875075779855251, 0.014875075779855251, 0.0029750149697065353, 0.5607780814170837, 0.18692602217197418, 0.18692602217197418, 0.18692602217197418, 0.26524636149406433, 0.154727041721344, 0.11051931977272034, 0.044207729399204254, 0.044207729399204254, 0.17683091759681702, 0.044207729399204254, 0.044207729399204254, 0.022103864699602127, 0.022103864699602127, 0.022103864699602127, 0.044207729399204254, 0.06810952723026276, 0.03405476361513138, 0.03405476361513138, 0.10216429084539413, 0.06810952723026276, 0.1702738106250763, 0.03405476361513138, 0.4427119195461273, 0.03405476361513138, 0.8802728652954102, 0.13561618328094482, 0.038747478276491165, 0.30029296875, 0.02906060963869095, 0.13561618328094482, 0.2421717494726181, 0.019373739138245583, 0.06780809164047241, 0.02906060963869095, 0.07216159254312515, 0.30668675899505615, 0.13530299067497253, 0.009020199067890644, 0.09020198881626129, 0.06314139068126678, 0.018040398135781288, 0.036080796271562576, 0.22550497949123383, 0.027060598134994507, 0.009020199067890644, 0.5512073040008545, 0.3674715459346771, 0.0716213509440422, 0.3874064087867737, 0.1432427018880844, 0.06999359279870987, 0.11719857901334763, 0.043949466198682785, 0.02278861217200756, 0.02767188660800457, 0.06348256021738052, 0.01790533773601055, 0.014649822376668453, 0.006511032115668058, 0.006511032115668058, 0.004883273970335722, 0.003255516057834029, 0.925049901008606, 0.09885623306035995, 0.8897061347961426, 0.14854657649993896, 0.7427328824996948, 0.8997771143913269, 0.08663323521614075, 0.8663323521614075, 0.17518368363380432, 0.5255510210990906, 0.17320950329303741, 0.11547299474477768, 0.05773649737238884, 0.11547299474477768, 0.05773649737238884, 0.05773649737238884, 0.34641900658607483, 0.12239452451467514, 0.11817402392625809, 0.14771753549575806, 0.11395352333784103, 0.09707152098417282, 0.13083551824092865, 0.143497034907341, 0.02532300539314747, 0.021102504804730415, 0.029543505981564522, 0.029543505981564522, 0.008441001176834106, 0.008441001176834106, 0.9810869693756104, 0.15143226087093353, 0.18836696445941925, 0.11265083402395248, 0.10157041996717453, 0.11449756473302841, 0.06094225496053696, 0.03139449283480644, 0.1274247169494629, 0.012927144765853882, 0.053555313497781754, 0.024007555097341537, 0.016620615497231483, 0.0036934700328856707, 0.35191693902015686, 0.5278754234313965, 0.7609509229660034, 0.16910021007061005, 0.4051515460014343, 0.08382445573806763, 0.01397074293345213, 0.2933855950832367, 0.08382445573806763, 0.08382445573806763, 0.02794148586690426, 0.30685144662857056, 0.15342572331428528, 0.30685144662857056, 0.15342572331428528, 0.4154759347438812, 0.27698394656181335, 0.13849197328090668, 0.9215115308761597, 0.060007624328136444, 0.5349615812301636, 0.029365433380007744, 0.021704884245991707, 0.1404433697462082, 0.03319570794701576, 0.017874611541628838, 0.010214063338935375, 0.09192657470703125, 0.0306421909481287, 0.017874611541628838, 0.001276757917366922, 0.001276757917366922, 0.0038302738685160875, 0.005107031669467688, 0.13174556195735931, 0.30561909079551697, 0.14093711972236633, 0.06280893087387085, 0.10263898968696594, 0.05514930933713913, 0.012255401350557804, 0.05514930933713913, 0.0651068240404129, 0.02987254224717617, 0.012255401350557804, 0.012255401350557804, 0.0038298130966722965, 0.008425588719546795, 0.002297887811437249, 0.01998855173587799, 0.5296966433525085, 0.01998855173587799, 0.4097653031349182, 0.19672448933124542, 0.18349190056324005, 0.08468856662511826, 0.12085764110088348, 0.06616294384002686, 0.10938939452171326, 0.053812526166439056, 0.0555768720805645, 0.04587297514081001, 0.03881559148430824, 0.022936487570405006, 0.004410862922668457, 0.005293035414069891, 0.007057380396872759, 0.005293035414069891, 0.36259081959724426, 0.36259081959724426, 0.18129540979862213, 0.050842829048633575, 0.23968762159347534, 0.17431826889514923, 0.02905304543673992, 0.17431826889514923, 0.09442239999771118, 0.00726326135918498, 0.00726326135918498, 0.02905304543673992, 0.14526522159576416, 0.021789783611893654, 0.01452652271836996, 0.1386103481054306, 0.21781624853610992, 0.1386103481054306, 0.07006676495075226, 0.1469878852367401, 0.07539793103933334, 0.07311315089464188, 0.04264933615922928, 0.034271787852048874, 0.02894062176346779, 0.01827828772366047, 0.008377548307180405, 0.004569571930915117, 0.0015231906436383724, 0.0007615953218191862, 0.879710853099823, 0.8716052174568176, 0.2649983763694763, 0.4416639804840088, 0.08833279460668564, 0.08833279460668564, 0.117599256336689, 0.117599256336689, 0.117599256336689, 0.5879963040351868, 0.2439172863960266, 0.10079226642847061, 0.0967605784535408, 0.13506163656711578, 0.07861796766519547, 0.12498241662979126, 0.06450705230236053, 0.08063381165266037, 0.016126763075590134, 0.030237680301070213, 0.01411091722548008, 0.004031690768897533, 0.0060475361533463, 0.004031690768897533, 0.25724542140960693, 0.1157604455947876, 0.14148499071598053, 0.0385868139564991, 0.16720953583717346, 0.14148499071598053, 0.0385868139564991, 0.0385868139564991, 0.0385868139564991, 0.012862271629273891, 0.851131796836853, 0.0680905431509018, 0.0340452715754509, 0.07032116502523422, 0.1323692500591278, 0.2606019675731659, 0.07445770502090454, 0.33505967259407043, 0.04550192877650261, 0.028955774381756783, 0.012409617193043232, 0.004136539064347744, 0.020682696253061295, 0.004136539064347744, 0.008273078128695488, 0.004136539064347744, 0.1050705760717392, 0.1050705760717392, 0.6304234862327576, 0.05780990794301033, 0.11561981588602066, 0.6937189102172852, 0.05780990794301033, 0.38009244203567505, 0.38009244203567505, 0.17752811312675476, 0.17752811312675476, 0.5325843095779419, 0.17741072177886963, 0.17741072177886963, 0.5322321653366089, 0.13715073466300964, 0.027430148795247078, 0.027430148795247078, 0.6034632325172424, 0.027430148795247078, 0.08229044079780579, 0.08229044079780579, 0.027430148795247078, 0.9525835514068604, 0.0516648069024086, 0.1549944132566452, 0.6199776530265808, 0.1033296138048172, 0.10301566869020462, 0.15452350676059723, 0.7211096882820129, 0.7027767300605774, 0.17569418251514435, 0.9300492405891418, 0.8877110481262207, 0.026109149679541588, 0.07832744717597961, 0.7380584478378296, 0.1845146119594574, 0.09818098694086075, 0.07363574206829071, 0.09818098694086075, 0.14727148413658142, 0.1963619738817215, 0.024545246735215187, 0.12272623181343079, 0.024545246735215187, 0.09818098694086075, 0.12272623181343079, 0.1513894647359848, 0.1513894647359848, 0.4541683793067932, 0.1513894647359848, 0.8923526406288147, 0.08112296462059021, 0.19072924554347992, 0.19072924554347992, 0.19072924554347992, 0.19072924554347992, 0.28445759415626526, 0.14222879707813263, 0.4266863763332367, 0.22470258176326752, 0.25338801741600037, 0.15776990354061127, 0.07171358913183212, 0.10996083915233612, 0.07171358913183212, 0.02868543565273285, 0.038247250020504, 0.023904530331492424, 0.004780906252563, 0.004780906252563, 0.014342717826366425, 0.9420636296272278, 0.8529560565948486, 0.07754145562648773, 0.30619075894355774, 0.5511434078216553, 0.06123815476894379, 0.1850130707025528, 0.3700261414051056, 0.1850130707025528, 0.08587265759706497, 0.17174531519412994, 0.6440449357032776, 0.042936328798532486, 0.9221751689910889, 0.3684614896774292, 0.1842307448387146, 0.1842307448387146, 0.1842307448387146, 0.20285192131996155, 0.12678244709968567, 0.04564168304204941, 0.1876380294561386, 0.10903290659189224, 0.11156855523586273, 0.05071298032999039, 0.06592687219381332, 0.010142596438527107, 0.05071298032999039, 0.01521389465779066, 0.01521389465779066, 0.002535649109631777, 0.002535649109631777, 0.002535649109631777, 0.9430244565010071, 0.12674202024936676, 0.12674202024936676, 0.12674202024936676, 0.506968080997467, 0.8548082709312439, 0.09309793263673782, 0.016926895827054977, 0.008463447913527489, 0.025390343740582466, 0.7812910079956055, 0.0781291052699089, 0.0781291052699089, 0.17069482803344727, 0.28886815905570984, 0.03939111530780792, 0.27573779225349426, 0.03939111530780792, 0.1575644612312317, 0.01313037145882845, 0.18663562834262848, 0.18663562834262848, 0.01696687564253807, 0.06786750257015228, 0.44113877415657043, 0.01696687564253807, 0.05090062692761421, 0.01696687564253807, 0.12070086598396301, 0.764438807964325, 0.08046724647283554, 0.705649733543396, 0.11760829389095306, 0.11760829389095306, 0.10698914527893066, 0.09807338565587997, 0.008915762417018414, 0.26747286319732666, 0.008915762417018414, 0.07132609933614731, 0.19614677131175995, 0.05349457263946533, 0.17831523716449738, 0.008915762417018414, 0.008915762417018414, 0.16263620555400848, 0.2279811054468155, 0.14666301012039185, 0.13359402120113373, 0.06244068592786789, 0.09148286283016205, 0.03485061600804329, 0.030494287610054016, 0.04646748676896095, 0.029042178764939308, 0.011616871692240238, 0.011616871692240238, 0.0014521089615300298, 0.007260544691234827, 0.0029042179230600595, 0.3686530292034149, 0.18432651460170746, 0.3686530292034149, 0.499859094619751, 0.0833098515868187, 0.0833098515868187, 0.2499295473098755, 0.23799794912338257, 0.0907619297504425, 0.12504976987838745, 0.16135454177856445, 0.08471113443374634, 0.09681272506713867, 0.07664340734481812, 0.030253976583480835, 0.026220113039016724, 0.03832170367240906, 0.0181523859500885, 0.006050795316696167, 0.004033863544464111, 0.006050795316696167, 0.9214243292808533, 0.0023209680803120136, 0.07195001095533371, 0.9409443736076355, 0.9707781672477722, 0.1157936230301857, 0.8105553984642029, 0.916385293006897, 0.26885759830474854, 0.01707032322883606, 0.00853516161441803, 0.27312517166137695, 0.004267580807209015, 0.055478550493717194, 0.24751968681812286, 0.05974613130092621, 0.004267580807209015, 0.038408227264881134, 0.012802742421627045, 0.00853516161441803, 0.4722151756286621, 0.07870253175497055, 0.039351265877485275, 0.039351265877485275, 0.11805379390716553, 0.07870253175497055, 0.1574050635099411, 0.005121280439198017, 0.9679219722747803, 0.005121280439198017, 0.015363841317594051, 0.31468650698661804, 0.02736404351890087, 0.19154830276966095, 0.02736404351890087, 0.31468650698661804, 0.05472808703780174, 0.02736404351890087, 0.02736404351890087, 0.8723779320716858, 0.02883794903755188, 0.2847747504711151, 0.1405850052833557, 0.032442692667245865, 0.11535179615020752, 0.1189565435051918, 0.01441897451877594, 0.07930435985326767, 0.018023718148469925, 0.10814230889081955, 0.010814230889081955, 0.03604743629693985, 0.01441897451877594, 0.1544760912656784, 0.016260642558336258, 0.08943352848291397, 0.30082187056541443, 0.032521285116672516, 0.06504257023334503, 0.10569416731595993, 0.040651604533195496, 0.17886705696582794, 0.016260642558336258, 0.008986984379589558, 0.9795812964439392, 0.10412034392356873, 0.04164813831448555, 0.010412034578621387, 0.38524526357650757, 0.031236102804541588, 0.062472205609083176, 0.1665925532579422, 0.062472205609083176, 0.05206017196178436, 0.031236102804541588, 0.020824069157242775, 0.031236102804541588, 0.22255432605743408, 0.14836955070495605, 0.5934782028198242, 0.4081811010837555, 0.5102263689041138, 0.13795720040798187, 0.2546902000904083, 0.11248817294836044, 0.082774318754673, 0.09126398712396622, 0.08914157003164291, 0.021224183961749077, 0.05306045711040497, 0.0764070600271225, 0.059427712112665176, 0.006367255002260208, 0.008489673025906086, 0.004244836512953043, 0.0021224182564765215, 0.0021224182564765215, 0.06665531545877457, 0.026662126183509827, 0.1999659538269043, 0.013331063091754913, 0.14664170145988464, 0.3066144585609436, 0.013331063091754913, 0.1999659538269043, 0.013331063091754913, 0.683849036693573, 0.30723652243614197, 0.263826847076416, 0.12450255453586578, 0.06225127726793289, 0.09485909342765808, 0.06225127726793289, 0.0889303982257843, 0.02667911909520626, 0.10671647638082504, 0.05039389058947563, 0.04150085151195526, 0.02964346669614315, 0.03260781243443489, 0.00592869333922863, 0.00592869333922863, 0.29192474484443665, 0.09862322360277176, 0.07495365291833878, 0.09467829763889313, 0.007889857515692711, 0.1814667284488678, 0.08284350484609604, 0.09862322360277176, 0.023669574409723282, 0.0039449287578463554, 0.023669574409723282, 0.015779715031385422, 0.7125718593597412, 0.1781429648399353, 0.13064973056316376, 0.20807179808616638, 0.1354886144399643, 0.07500262558460236, 0.1838773936033249, 0.08468037843704224, 0.038711030036211014, 0.031452711671590805, 0.04354991018772125, 0.026613833382725716, 0.009677757509052753, 0.021774955093860626, 0.007258318364620209, 0.0024194393772631884, 0.4758056104183197, 0.4758056104183197, 0.8549520969390869, 0.14779286086559296, 0.20657409727573395, 0.1142035722732544, 0.09069106727838516, 0.06214017793536186, 0.07557588815689087, 0.020153570920228958, 0.07893481850624084, 0.052063390612602234, 0.09740892797708511, 0.03526875004172325, 0.008397321216762066, 0.0033589284867048264, 0.0050383927300572395, 0.0016794642433524132, 0.3781527578830719, 0.151261106133461, 0.03781527653336525, 0.03781527653336525, 0.3781527578830719, 0.9641788601875305, 0.10272404551506042, 0.33687442541122437, 0.18278837203979492, 0.049851372838020325, 0.07704303413629532, 0.0800643265247345, 0.048340726643800735, 0.039276838302612305, 0.04229813441634178, 0.006042590830475092, 0.019638419151306152, 0.004531943239271641, 0.004531943239271641, 0.003021295415237546, 0.003021295415237546, 0.9624934196472168, 0.28416070342063904, 0.674881637096405], \"Term\": [\"abandon\", \"abandon\", \"abbey\", \"abbey\", \"abbey\", \"abbot\", \"abbot\", \"addresses\", \"addresses\", \"addresses\", \"addresses\", \"addresses\", \"adele\", \"adele\", \"adele\", \"adele\", \"adele\", \"adele\", \"administer\", \"administer\", \"administer\", \"admirable\", \"admirable\", \"admirable\", \"admirable\", \"admirable\", \"admirably\", \"admirably\", \"admirably\", \"admires\", \"admires\", \"admires\", \"admires\", \"admires\", \"affectedly\", \"affection\", \"affection\", \"affection\", \"affection\", \"affection\", \"affection\", \"affection\", \"affection\", \"affection\", \"affection\", \"affection\", \"affection\", \"affection\", \"affection\", \"afternoon\", \"afternoon\", \"afternoon\", \"afternoon\", \"afternoon\", \"afternoon\", \"afternoon\", \"afternoon\", \"afternoon\", \"afternoon\", \"afternoon\", \"agitation\", \"agitation\", \"agitation\", \"agitation\", \"agitation\", \"agitation\", \"agitation\", \"agitation\", \"allenham\", \"allenham\", \"allez\", \"alluded\", \"alluded\", \"alluded\", \"alluded\", \"alluded\", \"alluded\", \"alluded\", \"aloft\", \"aloft\", \"aloft\", \"amuses\", \"amuses\", \"amuses\", \"amy\", \"animation\", \"animation\", \"animation\", \"animation\", \"animation\", \"animation\", \"animation\", \"ann\", \"answer\", \"answer\", \"answer\", \"answer\", \"answer\", \"answer\", \"answer\", \"answer\", \"answer\", \"answer\", \"answer\", \"answer\", \"answer\", \"answer\", \"appealing\", \"appealing\", \"appealing\", \"appealing\", \"apples\", \"apples\", \"apples\", \"apples\", \"apples\", \"aristocratic\", \"aristocratic\", \"assemblage\", \"assemblage\", \"assertions\", \"assertions\", \"assertions\", \"assign\", \"assign\", \"assign\", \"athenee\", \"atone\", \"atone\", \"atone\", \"atone\", \"attic\", \"attic\", \"attic\", \"attorney\", \"attorney\", \"attorney\", \"aunt\", \"aunt\", \"aunt\", \"aunt\", \"aunt\", \"aunt\", \"aunt\", \"aunt\", \"authors\", \"authors\", \"authors\", \"avowed\", \"avowed\", \"avowed\", \"avowed\", \"avowed\", \"avowed\", \"away\", \"away\", \"away\", \"away\", \"away\", \"away\", \"away\", \"away\", \"away\", \"away\", \"away\", \"away\", \"away\", \"away\", \"away\", \"bah\", \"baked\", \"baked\", \"baked\", \"baked\", \"banker\", \"banker\", \"banker\", \"bartlett\", \"barton\", \"barton\", \"bassompierre\", \"bassompierre\", \"bassompierre\", \"bassompierre\", \"bassompierre\", \"bates\", \"bates\", \"bates\", \"bateses\", \"bear\", \"bear\", \"bear\", \"bear\", \"bear\", \"bear\", \"bear\", \"bear\", \"bear\", \"bear\", \"bear\", \"bear\", \"bear\", \"bear\", \"beast\", \"beast\", \"beck\", \"beck\", \"beck\", \"beck\", \"beck\", \"beds\", \"beds\", \"beds\", \"beds\", \"beds\", \"beds\", \"beds\", \"beds\", \"befall\", \"befall\", \"befall\", \"befall\", \"befall\", \"behaviour\", \"behaviour\", \"behaviour\", \"behaviour\", \"behaviour\", \"behaviour\", \"beings\", \"beings\", \"beings\", \"beings\", \"beings\", \"beings\", \"beings\", \"belgian\", \"belgian\", \"believe\", \"believe\", \"believe\", \"believe\", \"believe\", \"believe\", \"believe\", \"believe\", \"believe\", \"believe\", \"believe\", \"believe\", \"believe\", \"believe\", \"belle\", \"bends\", \"bends\", \"bends\", \"bennet\", \"bennet\", \"bennet\", \"berkeley\", \"bertha\", \"bessie\", \"bessie\", \"bessie\", \"bessie\", \"bessie\", \"bessie\", \"better\", \"better\", \"better\", \"better\", \"better\", \"better\", \"better\", \"better\", \"better\", \"better\", \"better\", \"better\", \"better\", \"better\", \"better\", \"bien\", \"bien\", \"bien\", \"bien\", \"bien\", \"bigben\", \"bingley\", \"bingley\", \"bingley\", \"bingley\", \"black\", \"black\", \"black\", \"black\", \"black\", \"black\", \"black\", \"black\", \"black\", \"bloody\", \"bloody\", \"blue\", \"blue\", \"blue\", \"blue\", \"blue\", \"blue\", \"blue\", \"blue\", \"blue\", \"bluntly\", \"bluntly\", \"bluntly\", \"bluntly\", \"boarder\", \"bodies\", \"bodies\", \"bodies\", \"body\", \"body\", \"body\", \"body\", \"body\", \"body\", \"body\", \"body\", \"body\", \"body\", \"bondage\", \"bondage\", \"bouquet\", \"bourgh\", \"bourgh\", \"boy\", \"boy\", \"boy\", \"boy\", \"boy\", \"boy\", \"boy\", \"boy\", \"boy\", \"boy\", \"boy\", \"boy\", \"bragge\", \"bragge\", \"brandon\", \"brandon\", \"breakfast\", \"breakfast\", \"breakfast\", \"breakfast\", \"breakfast\", \"breakfast\", \"breakfast\", \"breakfast\", \"breakfast\", \"breakfast\", \"breakfast\", \"breakfast\", \"breakfast\", \"breaks\", \"breaks\", \"breaks\", \"breaks\", \"bretton\", \"bretton\", \"bretton\", \"bretton\", \"bretton\", \"bretton\", \"briggs\", \"briggs\", \"briggs\", \"briggs\", \"bright\", \"bright\", \"bright\", \"bright\", \"bright\", \"bright\", \"bright\", \"bright\", \"bright\", \"brighton\", \"bristol\", \"bristol\", \"bristol\", \"brocklehurst\", \"brocklehurst\", \"brocklehurst\", \"brocklehurst\", \"brocklehurst\", \"brown\", \"brown\", \"brown\", \"brown\", \"brown\", \"brown\", \"brown\", \"brunswick\", \"brussels\", \"brussels\", \"brussels\", \"brussels\", \"brussels\", \"building\", \"building\", \"building\", \"building\", \"building\", \"building\", \"building\", \"building\", \"building\", \"building\", \"bunch\", \"bunch\", \"bunch\", \"bunch\", \"burns\", \"burns\", \"burns\", \"burns\", \"burns\", \"burns\", \"burns\", \"came\", \"came\", \"came\", \"came\", \"came\", \"came\", \"came\", \"came\", \"came\", \"came\", \"came\", \"came\", \"came\", \"came\", \"carlo\", \"carlo\", \"carlo\", \"caroline\", \"caroline\", \"caroline\", \"caroline\", \"carpet\", \"carpet\", \"carpet\", \"carpet\", \"carpet\", \"carpet\", \"carpet\", \"carpet\", \"carpet\", \"carpeted\", \"carpets\", \"carpets\", \"carpets\", \"carter\", \"carter\", \"carter\", \"catherine\", \"catherine\", \"catherine\", \"catherine\", \"causeway\", \"ce\", \"ce\", \"ce\", \"cela\", \"celine\", \"celine\", \"certainly\", \"certainly\", \"certainly\", \"certainly\", \"certainly\", \"certainly\", \"certainly\", \"certainly\", \"certainly\", \"certainly\", \"certainly\", \"certainly\", \"certainly\", \"certainly\", \"certainly\", \"chamber\", \"chamber\", \"chamber\", \"chamber\", \"chamber\", \"chamber\", \"chamber\", \"chamber\", \"chamber\", \"chamber\", \"charade\", \"charade\", \"charade\", \"charlotte\", \"charlotte\", \"charlotte\", \"charlotte\", \"charlotte\", \"charlotte\", \"chestnut\", \"chestnut\", \"chestnut\", \"child\", \"child\", \"child\", \"child\", \"child\", \"child\", \"child\", \"child\", \"child\", \"child\", \"child\", \"child\", \"child\", \"child\", \"children\", \"children\", \"children\", \"children\", \"children\", \"children\", \"children\", \"children\", \"children\", \"children\", \"children\", \"christ\", \"christ\", \"christ\", \"churchill\", \"churchill\", \"churchill\", \"churchills\", \"chuse\", \"chuse\", \"city\", \"city\", \"city\", \"city\", \"city\", \"clapped\", \"clapped\", \"clapped\", \"classe\", \"classe\", \"classe\", \"classe\", \"cleveland\", \"cleveland\", \"coarsely\", \"coarsely\", \"coarseness\", \"coarseness\", \"coarseness\", \"coarseness\", \"coast\", \"coast\", \"coast\", \"coaxing\", \"coaxing\", \"coaxing\", \"coaxing\", \"cole\", \"cole\", \"cole\", \"collecting\", \"collecting\", \"collecting\", \"collecting\", \"collins\", \"collins\", \"colonel\", \"colonel\", \"colonel\", \"colonel\", \"colonel\", \"colonel\", \"colonel\", \"colonel\", \"colonel\", \"colonel\", \"colonel\", \"colonel\", \"combe\", \"come\", \"come\", \"come\", \"come\", \"come\", \"come\", \"come\", \"come\", \"come\", \"come\", \"come\", \"come\", \"come\", \"come\", \"come\", \"comprehending\", \"comprehending\", \"comprehending\", \"comprehending\", \"confidante\", \"confidante\", \"confidante\", \"confidante\", \"confidences\", \"confidences\", \"confidences\", \"confiding\", \"confiding\", \"confiding\", \"congratulations\", \"congratulations\", \"congratulations\", \"congratulations\", \"congratulations\", \"congratulations\", \"connexion\", \"connexion\", \"connexion\", \"constraint\", \"constraint\", \"contains\", \"contains\", \"contains\", \"contains\", \"copied\", \"copied\", \"copied\", \"copied\", \"copied\", \"coquette\", \"corpse\", \"corpse\", \"corpse\", \"cottage\", \"cottage\", \"cottage\", \"cottage\", \"cottage\", \"cottage\", \"cottage\", \"cotton\", \"cotton\", \"cotton\", \"couldn\", \"couldn\", \"couldn\", \"counteract\", \"counteract\", \"counteract\", \"counting\", \"counting\", \"counting\", \"counting\", \"covet\", \"covet\", \"covet\", \"cox\", \"coxcomb\", \"crabbed\", \"creating\", \"creating\", \"crimson\", \"crimson\", \"crimson\", \"crimson\", \"crimsworth\", \"crimsworth\", \"crimsworth\", \"cure\", \"cure\", \"cure\", \"cure\", \"cure\", \"cure\", \"cure\", \"cure\", \"cure\", \"cure\", \"curl\", \"curl\", \"curtain\", \"curtain\", \"curtain\", \"curtain\", \"curtain\", \"curtain\", \"cushion\", \"cushion\", \"cushion\", \"cushioned\", \"cushioned\", \"cushioned\", \"damask\", \"damask\", \"damask\", \"dangers\", \"dangers\", \"dangers\", \"dangers\", \"dangers\", \"darcy\", \"darcy\", \"darcy\", \"darcy\", \"darcy\", \"dark\", \"dark\", \"dark\", \"dark\", \"dark\", \"dark\", \"dark\", \"dark\", \"dark\", \"dark\", \"dashwood\", \"dashwood\", \"dashwood\", \"dashwoods\", \"dashwoods\", \"day\", \"day\", \"day\", \"day\", \"day\", \"day\", \"day\", \"day\", \"day\", \"day\", \"day\", \"day\", \"day\", \"day\", \"day\", \"dealt\", \"dealt\", \"dealt\", \"dealt\", \"dear\", \"dear\", \"dear\", \"dear\", \"dear\", \"dear\", \"dear\", \"dear\", \"dear\", \"dear\", \"dear\", \"dear\", \"dear\", \"defect\", \"defect\", \"defect\", \"defect\", \"defect\", \"degraded\", \"degraded\", \"delaford\", \"delicately\", \"delicately\", \"delicately\", \"delicately\", \"delight\", \"delight\", \"delight\", \"delight\", \"delight\", \"delight\", \"delight\", \"delight\", \"delight\", \"delight\", \"delight\", \"delight\", \"delight\", \"delight\", \"denny\", \"dent\", \"dent\", \"dent\", \"dent\", \"derbyshire\", \"descent\", \"descent\", \"descent\", \"descent\", \"desiring\", \"desiring\", \"desiring\", \"desiring\", \"desiring\", \"desiring\", \"despise\", \"despise\", \"despise\", \"despise\", \"despise\", \"despise\", \"despise\", \"devil\", \"devil\", \"devil\", \"devil\", \"devil\", \"devise\", \"devise\", \"devise\", \"devise\", \"devonshire\", \"devonshire\", \"diana\", \"diana\", \"diana\", \"diana\", \"diana\", \"died\", \"died\", \"died\", \"died\", \"died\", \"died\", \"died\", \"died\", \"died\", \"died\", \"died\", \"dim\", \"dim\", \"dim\", \"dim\", \"dim\", \"dim\", \"dim\", \"dim\", \"disapprobation\", \"disapprobation\", \"disapprobation\", \"disapprobation\", \"disapprobation\", \"disapproved\", \"disapproved\", \"discharging\", \"discharging\", \"discharging\", \"disgraced\", \"disgraced\", \"disgraced\", \"disgraced\", \"disk\", \"disk\", \"dislikes\", \"dislikes\", \"dislikes\", \"dislikes\", \"dislikes\", \"disparity\", \"disparity\", \"dispense\", \"dispense\", \"dispense\", \"dispense\", \"dispense\", \"distraction\", \"distraction\", \"dit\", \"dixon\", \"dixon\", \"dixon\", \"doctrine\", \"doctrine\", \"doctrine\", \"doctrine\", \"doctrine\", \"doctrine\", \"doctrine\", \"doll\", \"doll\", \"donc\", \"donc\", \"donwell\", \"donwell\", \"donwell\", \"door\", \"door\", \"door\", \"door\", \"door\", \"door\", \"door\", \"door\", \"door\", \"door\", \"door\", \"door\", \"door\", \"door\", \"door\", \"dr\", \"dr\", \"dr\", \"dr\", \"dr\", \"dr\", \"dr\", \"dr\", \"dr\", \"drawback\", \"dress\", \"dress\", \"dress\", \"dress\", \"dress\", \"dress\", \"dress\", \"dress\", \"dress\", \"dubious\", \"dubious\", \"dubious\", \"dusty\", \"dusty\", \"edward\", \"edward\", \"edward\", \"edward\", \"edward\", \"edward\", \"edward\", \"edward\", \"edward\", \"eighty\", \"eighty\", \"elegantly\", \"elegantly\", \"elegantly\", \"elevation\", \"elevation\", \"elevation\", \"elinor\", \"elinor\", \"elinor\", \"elinor\", \"elinor\", \"eliza\", \"eliza\", \"eliza\", \"eliza\", \"eliza\", \"elizabeth\", \"elizabeth\", \"elizabeth\", \"elizabeth\", \"elizabeth\", \"elizabeth\", \"elizabeth\", \"elizabeth\", \"elizabeth\", \"elizabeth\", \"elton\", \"elton\", \"elton\", \"elton\", \"eltons\", \"eltons\", \"emanuel\", \"emanuel\", \"emanuel\", \"emanuel\", \"emanuel\", \"embers\", \"embers\", \"embers\", \"embracing\", \"embracing\", \"embracing\", \"embracing\", \"emma\", \"emma\", \"emma\", \"emma\", \"emma\", \"emma\", \"engagement\", \"engagement\", \"engagement\", \"engagement\", \"engagement\", \"engagement\", \"england\", \"england\", \"england\", \"england\", \"england\", \"england\", \"england\", \"england\", \"england\", \"england\", \"england\", \"english\", \"english\", \"english\", \"english\", \"english\", \"english\", \"english\", \"english\", \"enlarged\", \"enlarged\", \"enlarged\", \"enquire\", \"enquiry\", \"enscombe\", \"enscombe\", \"enthusiasm\", \"enthusiasm\", \"enthusiasm\", \"eshton\", \"est\", \"est\", \"est\", \"est\", \"est\", \"estrade\", \"estrade\", \"estrade\", \"et\", \"et\", \"et\", \"et\", \"et\", \"eton\", \"eton\", \"eulalie\", \"european\", \"evening\", \"evening\", \"evening\", \"evening\", \"evening\", \"evening\", \"evening\", \"evening\", \"evening\", \"evening\", \"evening\", \"evening\", \"evening\", \"evening\", \"evening\", \"exceed\", \"exceed\", \"exceed\", \"exceed\", \"execution\", \"execution\", \"execution\", \"execution\", \"execution\", \"exit\", \"exit\", \"exit\", \"expecting\", \"expecting\", \"expecting\", \"expecting\", \"expecting\", \"expecting\", \"expecting\", \"expecting\", \"expecting\", \"expecting\", \"expects\", \"expects\", \"expects\", \"expects\", \"exploring\", \"exploring\", \"extremely\", \"extremely\", \"extremely\", \"extremely\", \"extremely\", \"extremely\", \"extremely\", \"eye\", \"eye\", \"eye\", \"eye\", \"eye\", \"eye\", \"eye\", \"eye\", \"eye\", \"eye\", \"eye\", \"eye\", \"eye\", \"eye\", \"eyed\", \"eyed\", \"eyed\", \"eyed\", \"eyes\", \"eyes\", \"eyes\", \"eyes\", \"eyes\", \"eyes\", \"eyes\", \"eyes\", \"eyes\", \"eyes\", \"eyes\", \"eyes\", \"eyes\", \"eyes\", \"eyes\", \"eyre\", \"eyre\", \"eyre\", \"eyre\", \"eyre\", \"eyre\", \"eyre\", \"eyre\", \"face\", \"face\", \"face\", \"face\", \"face\", \"face\", \"face\", \"face\", \"face\", \"face\", \"face\", \"face\", \"face\", \"face\", \"face\", \"fairest\", \"fairest\", \"fairest\", \"fairfax\", \"fairfax\", \"fairfax\", \"fairfax\", \"fairfax\", \"fairfax\", \"fairfax\", \"fairfax\", \"fairfax\", \"fairfax\", \"family\", \"family\", \"family\", \"family\", \"family\", \"family\", \"family\", \"family\", \"family\", \"family\", \"family\", \"family\", \"family\", \"family\", \"fanny\", \"fanny\", \"fanshawe\", \"fanshawe\", \"fanshawe\", \"fanshawe\", \"fanshawe\", \"fanshawe\", \"far\", \"far\", \"far\", \"far\", \"far\", \"far\", \"far\", \"far\", \"far\", \"far\", \"far\", \"far\", \"far\", \"far\", \"far\", \"father\", \"father\", \"father\", \"father\", \"father\", \"father\", \"father\", \"father\", \"father\", \"father\", \"father\", \"father\", \"father\", \"father\", \"father\", \"faubourg\", \"faubourg\", \"faulty\", \"faulty\", \"faulty\", \"faulty\", \"feature\", \"feature\", \"feature\", \"feature\", \"feature\", \"feature\", \"features\", \"features\", \"features\", \"features\", \"features\", \"features\", \"features\", \"features\", \"features\", \"features\", \"features\", \"features\", \"feel\", \"feel\", \"feel\", \"feel\", \"feel\", \"feel\", \"feel\", \"feel\", \"feel\", \"feel\", \"feel\", \"feel\", \"feel\", \"feel\", \"felt\", \"felt\", \"felt\", \"felt\", \"felt\", \"felt\", \"felt\", \"felt\", \"felt\", \"felt\", \"felt\", \"felt\", \"felt\", \"felt\", \"fender\", \"fender\", \"fender\", \"fender\", \"ferrars\", \"ferrars\", \"fifine\", \"fifine\", \"fitzwilliam\", \"fitzwilliam\", \"fitzwilliam\", \"fitzwilliam\", \"flamand\", \"flemish\", \"flemish\", \"flemish\", \"flowers\", \"flowers\", \"flowers\", \"flowers\", \"flowers\", \"flowers\", \"flowers\", \"ford\", \"ford\", \"forster\", \"fraction\", \"fraction\", \"fraction\", \"fraction\", \"franc\", \"franc\", \"franc\", \"frances\", \"frances\", \"frances\", \"frances\", \"frank\", \"frank\", \"frank\", \"frank\", \"frank\", \"frank\", \"frank\", \"frank\", \"frank\", \"frank\", \"french\", \"french\", \"french\", \"french\", \"french\", \"french\", \"french\", \"french\", \"french\", \"frequently\", \"frequently\", \"frequently\", \"frequently\", \"frequently\", \"frequently\", \"frequently\", \"frequently\", \"frequently\", \"frequently\", \"freshly\", \"freshly\", \"fret\", \"fret\", \"fret\", \"fret\", \"friend\", \"friend\", \"friend\", \"friend\", \"friend\", \"friend\", \"friend\", \"friend\", \"friend\", \"friend\", \"friend\", \"friend\", \"friend\", \"friendliness\", \"fruitless\", \"fruitless\", \"fulfil\", \"fulfil\", \"fulfil\", \"fulfil\", \"funeral\", \"funeral\", \"funeral\", \"funeral\", \"furniture\", \"furniture\", \"furniture\", \"furniture\", \"furniture\", \"furniture\", \"furniture\", \"furniture\", \"furniture\", \"furniture\", \"garden\", \"garden\", \"garden\", \"garden\", \"garden\", \"garden\", \"garden\", \"garden\", \"garden\", \"garden\", \"gardens\", \"gardens\", \"gardens\", \"gardens\", \"gardiner\", \"gardiner\", \"gates\", \"gates\", \"gates\", \"gates\", \"gates\", \"gates\", \"gates\", \"gates\", \"gates\", \"gateshead\", \"gateshead\", \"gateshead\", \"gateshead\", \"gateshead\", \"georgiana\", \"georgiana\", \"georgiana\", \"georgiana\", \"georgiana\", \"georgiana\", \"germs\", \"germs\", \"germs\", \"ghostly\", \"ginevra\", \"ginevra\", \"ginevra\", \"ginevra\", \"ginevra\", \"ginevra\", \"gipsies\", \"gipsies\", \"gipsies\", \"gipsies\", \"girl\", \"girl\", \"girl\", \"girl\", \"girl\", \"girl\", \"girl\", \"girl\", \"girl\", \"girl\", \"girl\", \"girl\", \"girl\", \"girl\", \"girl\", \"glittered\", \"glittered\", \"glittered\", \"glittered\", \"god\", \"god\", \"god\", \"god\", \"god\", \"god\", \"god\", \"god\", \"god\", \"god\", \"god\", \"god\", \"goddard\", \"goddard\", \"goddard\", \"good\", \"good\", \"good\", \"good\", \"good\", \"good\", \"good\", \"good\", \"good\", \"good\", \"good\", \"good\", \"good\", \"good\", \"good\", \"grace\", \"grace\", \"grace\", \"grace\", \"grace\", \"grace\", \"grace\", \"grace\", \"grace\", \"grace\", \"grace\", \"gracechurch\", \"graham\", \"graham\", \"graham\", \"graham\", \"graham\", \"grandmama\", \"grandmama\", \"great\", \"great\", \"great\", \"great\", \"great\", \"great\", \"great\", \"great\", \"great\", \"great\", \"great\", \"great\", \"great\", \"great\", \"great\", \"grec\", \"grenier\", \"grenier\", \"grew\", \"grew\", \"grew\", \"grew\", \"grew\", \"grew\", \"grew\", \"grew\", \"grew\", \"grew\", \"grew\", \"grew\", \"groaned\", \"groaned\", \"groaned\", \"groaned\", \"groaned\", \"gross\", \"gross\", \"gross\", \"guilt\", \"guilt\", \"guilt\", \"guilt\", \"guilt\", \"half\", \"half\", \"half\", \"half\", \"half\", \"half\", \"half\", \"half\", \"half\", \"half\", \"half\", \"half\", \"half\", \"half\", \"hall\", \"hall\", \"hall\", \"hall\", \"hall\", \"hall\", \"hall\", \"hall\", \"hall\", \"hall\", \"hamlet\", \"hamlet\", \"hand\", \"hand\", \"hand\", \"hand\", \"hand\", \"hand\", \"hand\", \"hand\", \"hand\", \"hand\", \"hand\", \"hand\", \"hand\", \"hand\", \"hannah\", \"hannah\", \"hannah\", \"hannah\", \"hannah\", \"hannah\", \"happiest\", \"happiest\", \"happiest\", \"happiest\", \"happiest\", \"happiest\", \"happiest\", \"happiness\", \"happiness\", \"happiness\", \"happiness\", \"happiness\", \"happiness\", \"happiness\", \"happiness\", \"happiness\", \"happiness\", \"happiness\", \"happiness\", \"happiness\", \"happiness\", \"happy\", \"happy\", \"happy\", \"happy\", \"happy\", \"happy\", \"happy\", \"happy\", \"happy\", \"happy\", \"happy\", \"happy\", \"happy\", \"happy\", \"happy\", \"hard\", \"hard\", \"hard\", \"hard\", \"hard\", \"hard\", \"hard\", \"hard\", \"hard\", \"hard\", \"hard\", \"hard\", \"hard\", \"hard\", \"harley\", \"harley\", \"harriet\", \"harriet\", \"harriet\", \"harriet\", \"harriet\", \"harriet\", \"hartfield\", \"hartfield\", \"hartfield\", \"hast\", \"hast\", \"hast\", \"hate\", \"hate\", \"hate\", \"hate\", \"hate\", \"hate\", \"hate\", \"hate\", \"hate\", \"hate\", \"hate\", \"hawkins\", \"hawkins\", \"hay\", \"hay\", \"hay\", \"hay\", \"hay\", \"hazarded\", \"hazarded\", \"hazarded\", \"hazarded\", \"hazarded\", \"hear\", \"hear\", \"hear\", \"hear\", \"hear\", \"hear\", \"hear\", \"hear\", \"hear\", \"hear\", \"hear\", \"hear\", \"hear\", \"hear\", \"heard\", \"heard\", \"heard\", \"heard\", \"heard\", \"heard\", \"heard\", \"heard\", \"heard\", \"heard\", \"heard\", \"heard\", \"heard\", \"heard\", \"heard\", \"heart\", \"heart\", \"heart\", \"heart\", \"heart\", \"heart\", \"heart\", \"heart\", \"heart\", \"heart\", \"heart\", \"heart\", \"heart\", \"heart\", \"heart\", \"hearth\", \"hearth\", \"hearth\", \"hearth\", \"hearth\", \"hearth\", \"hearth\", \"hearth\", \"hearth\", \"heiress\", \"heiress\", \"heiress\", \"heiress\", \"heiress\", \"heiress\", \"helen\", \"helen\", \"helen\", \"helen\", \"helen\", \"helen\", \"helen\", \"henri\", \"henri\", \"henri\", \"henri\", \"henri\", \"henry\", \"henry\", \"henry\", \"henry\", \"hertfordshire\", \"hertfordshire\", \"hideous\", \"hideous\", \"hideous\", \"hideous\", \"high\", \"high\", \"high\", \"high\", \"high\", \"high\", \"high\", \"high\", \"high\", \"high\", \"high\", \"high\", \"high\", \"high\", \"highbury\", \"highbury\", \"highbury\", \"home\", \"home\", \"home\", \"home\", \"home\", \"home\", \"home\", \"home\", \"home\", \"home\", \"home\", \"home\", \"home\", \"home\", \"hope\", \"hope\", \"hope\", \"hope\", \"hope\", \"hope\", \"hope\", \"hope\", \"hope\", \"hope\", \"hope\", \"hope\", \"hope\", \"hope\", \"hope\", \"house\", \"house\", \"house\", \"house\", \"house\", \"house\", \"house\", \"house\", \"house\", \"house\", \"house\", \"house\", \"house\", \"house\", \"house\", \"human\", \"human\", \"human\", \"human\", \"human\", \"human\", \"human\", \"human\", \"human\", \"human\", \"human\", \"human\", \"humbug\", \"humbug\", \"humiliation\", \"humiliation\", \"humiliation\", \"humiliation\", \"humiliation\", \"humiliation\", \"humiliation\", \"hunsden\", \"hunsford\", \"hurst\", \"hurst\", \"hurst\", \"idleness\", \"idleness\", \"idleness\", \"imagining\", \"imagining\", \"imagining\", \"impediment\", \"impediment\", \"inarticulate\", \"inarticulate\", \"inarticulate\", \"inattention\", \"inattention\", \"inattention\", \"inattention\", \"inconsiderable\", \"inconsiderable\", \"inconsiderable\", \"incurring\", \"incurring\", \"incurring\", \"incurring\", \"india\", \"india\", \"india\", \"india\", \"indies\", \"indies\", \"indies\", \"indies\", \"infant\", \"infant\", \"infant\", \"infant\", \"infant\", \"infant\", \"infant\", \"infant\", \"ingenuity\", \"ingenuity\", \"ingenuity\", \"ingenuity\", \"ingram\", \"ingram\", \"ingram\", \"ingram\", \"ingram\", \"inn\", \"inn\", \"inn\", \"inn\", \"inn\", \"inn\", \"ireland\", \"ireland\", \"ireland\", \"ireland\", \"ireland\", \"irritating\", \"isabella\", \"isabella\", \"isidore\", \"isidore\", \"jamaica\", \"jane\", \"jane\", \"jane\", \"jane\", \"jane\", \"jane\", \"jane\", \"jane\", \"jane\", \"jane\", \"jane\", \"jane\", \"jane\", \"janet\", \"janet\", \"janet\", \"je\", \"je\", \"je\", \"je\", \"jenkinson\", \"jennings\", \"jennings\", \"jeunes\", \"job\", \"job\", \"job\", \"job\", \"john\", \"john\", \"john\", \"john\", \"john\", \"john\", \"john\", \"john\", \"john\", \"john\", \"john\", \"john\", \"john\", \"judgement\", \"justine\", \"justine\", \"kent\", \"kings\", \"kings\", \"kings\", \"kings\", \"kitty\", \"kitty\", \"kitty\", \"kitty\", \"knew\", \"knew\", \"knew\", \"knew\", \"knew\", \"knew\", \"knew\", \"knew\", \"knew\", \"knew\", \"knew\", \"knew\", \"knew\", \"knew\", \"knightley\", \"knightley\", \"knightley\", \"knightley\", \"know\", \"know\", \"know\", \"know\", \"know\", \"know\", \"know\", \"know\", \"know\", \"know\", \"know\", \"know\", \"know\", \"know\", \"know\", \"la\", \"la\", \"la\", \"la\", \"la\", \"la\", \"lad\", \"lad\", \"lad\", \"lady\", \"lady\", \"lady\", \"lady\", \"lady\", \"lady\", \"lady\", \"lady\", \"lady\", \"lady\", \"lady\", \"lady\", \"lady\", \"lady\", \"ladyship\", \"ladyship\", \"ladyship\", \"ladyship\", \"lambton\", \"lament\", \"lamenting\", \"lamenting\", \"lamenting\", \"landed\", \"landed\", \"landed\", \"landed\", \"large\", \"large\", \"large\", \"large\", \"large\", \"large\", \"large\", \"large\", \"large\", \"large\", \"large\", \"large\", \"large\", \"larkins\", \"laugh\", \"laugh\", \"laugh\", \"laugh\", \"laugh\", \"laugh\", \"laugh\", \"laugh\", \"laugh\", \"laugh\", \"laugh\", \"laugh\", \"laurel\", \"laurel\", \"leafless\", \"leafless\", \"leafless\", \"learning\", \"learning\", \"learning\", \"learning\", \"learning\", \"learning\", \"learning\", \"learning\", \"leave\", \"leave\", \"leave\", \"leave\", \"leave\", \"leave\", \"leave\", \"leave\", \"leave\", \"leave\", \"leave\", \"leave\", \"leave\", \"leave\", \"left\", \"left\", \"left\", \"left\", \"left\", \"left\", \"left\", \"left\", \"left\", \"left\", \"left\", \"left\", \"left\", \"left\", \"left\", \"lend\", \"lend\", \"lend\", \"les\", \"les\", \"les\", \"life\", \"life\", \"life\", \"life\", \"life\", \"life\", \"life\", \"life\", \"life\", \"life\", \"life\", \"life\", \"life\", \"life\", \"life\", \"light\", \"light\", \"light\", \"light\", \"light\", \"light\", \"light\", \"light\", \"light\", \"light\", \"light\", \"light\", \"light\", \"like\", \"like\", \"like\", \"like\", \"like\", \"like\", \"like\", \"like\", \"like\", \"like\", \"like\", \"like\", \"like\", \"like\", \"likely\", \"likely\", \"likely\", \"likely\", \"likely\", \"likely\", \"likely\", \"likely\", \"likely\", \"likely\", \"likely\", \"lilies\", \"lilies\", \"limit\", \"limit\", \"limit\", \"list\", \"list\", \"list\", \"list\", \"list\", \"list\", \"lit\", \"lit\", \"lit\", \"lit\", \"lit\", \"lit\", \"little\", \"little\", \"little\", \"little\", \"little\", \"little\", \"little\", \"little\", \"little\", \"little\", \"little\", \"little\", \"little\", \"little\", \"little\", \"live\", \"live\", \"live\", \"live\", \"live\", \"live\", \"live\", \"live\", \"live\", \"live\", \"live\", \"live\", \"lizzy\", \"lizzy\", \"lizzy\", \"ll\", \"ll\", \"ll\", \"ll\", \"ll\", \"ll\", \"ll\", \"ll\", \"ll\", \"lloyd\", \"lloyd\", \"lloyd\", \"long\", \"long\", \"long\", \"long\", \"long\", \"long\", \"long\", \"long\", \"long\", \"long\", \"long\", \"long\", \"long\", \"long\", \"long\", \"longbourn\", \"longbourn\", \"longstaple\", \"look\", \"look\", \"look\", \"look\", \"look\", \"look\", \"look\", \"look\", \"look\", \"look\", \"look\", \"look\", \"look\", \"look\", \"look\", \"looked\", \"looked\", \"looked\", \"looked\", \"looked\", \"looked\", \"looked\", \"looked\", \"looked\", \"looked\", \"looked\", \"looked\", \"looked\", \"looked\", \"looked\", \"looking\", \"looking\", \"looking\", \"looking\", \"looking\", \"looking\", \"looking\", \"looking\", \"looking\", \"looking\", \"looking\", \"looking\", \"looking\", \"love\", \"love\", \"love\", \"love\", \"love\", \"love\", \"love\", \"love\", \"love\", \"love\", \"love\", \"love\", \"love\", \"love\", \"love\", \"loved\", \"loved\", \"loved\", \"loved\", \"loved\", \"loved\", \"loved\", \"loved\", \"loved\", \"loved\", \"loved\", \"loved\", \"loved\", \"loved\", \"lowood\", \"lowood\", \"lowood\", \"lowood\", \"lowood\", \"lowood\", \"lowton\", \"lucas\", \"lucas\", \"lucy\", \"lucy\", \"lucy\", \"lucy\", \"lucy\", \"lucy\", \"lucy\", \"lucy\", \"lucy\", \"luggage\", \"lulled\", \"lulled\", \"lunatic\", \"lunatic\", \"lunatic\", \"lydia\", \"lydia\", \"lydia\", \"lynn\", \"lynn\", \"lynn\", \"mad\", \"mad\", \"mad\", \"mad\", \"mad\", \"mad\", \"mad\", \"mad\", \"mad\", \"madame\", \"madame\", \"madame\", \"madame\", \"madame\", \"madame\", \"mademoiselle\", \"mademoiselle\", \"mademoiselle\", \"mademoiselle\", \"mademoiselle\", \"mademoiselle\", \"magna\", \"mais\", \"mais\", \"maker\", \"maker\", \"maker\", \"maker\", \"mama\", \"mama\", \"mama\", \"mama\", \"mama\", \"mamma\", \"mamma\", \"mamma\", \"mamma\", \"mamma\", \"mamma\", \"mamma\", \"man\", \"man\", \"man\", \"man\", \"man\", \"man\", \"man\", \"man\", \"man\", \"man\", \"man\", \"man\", \"man\", \"man\", \"man\", \"maniac\", \"maniac\", \"maple\", \"maple\", \"marchmont\", \"marchmont\", \"marchmont\", \"marchmont\", \"margaret\", \"margaret\", \"marianne\", \"marianne\", \"marianne\", \"marianne\", \"marianne\", \"marsh\", \"marsh\", \"marsh\", \"marsh\", \"martin\", \"martin\", \"martin\", \"martins\", \"martins\", \"mary\", \"mary\", \"mary\", \"mary\", \"mary\", \"mary\", \"mary\", \"mary\", \"mary\", \"mason\", \"master\", \"master\", \"master\", \"master\", \"master\", \"master\", \"master\", \"master\", \"master\", \"master\", \"master\", \"masters\", \"masters\", \"masters\", \"masters\", \"matches\", \"matches\", \"mdlle\", \"mdlle\", \"mdlle\", \"mdlle\", \"mdlle\", \"mdlle\", \"meadow\", \"meadow\", \"meadow\", \"means\", \"means\", \"means\", \"means\", \"means\", \"means\", \"means\", \"means\", \"means\", \"means\", \"means\", \"means\", \"means\", \"medicine\", \"medicine\", \"mender\", \"mender\", \"meryton\", \"middleton\", \"middleton\", \"middletons\", \"middletons\", \"miller\", \"miller\", \"miller\", \"mind\", \"mind\", \"mind\", \"mind\", \"mind\", \"mind\", \"mind\", \"mind\", \"mind\", \"mind\", \"mind\", \"mind\", \"mind\", \"mind\", \"mirrors\", \"mirrors\", \"mirrors\", \"miss\", \"miss\", \"miss\", \"miss\", \"miss\", \"miss\", \"miss\", \"miss\", \"miss\", \"miss\", \"miss\", \"miss\", \"miss\", \"miss\", \"miss\", \"missionary\", \"missionary\", \"missionary\", \"missionary\", \"missis\", \"missis\", \"mist\", \"mist\", \"mist\", \"mist\", \"mistakes\", \"mistakes\", \"mistakes\", \"mistakes\", \"mistakes\", \"misty\", \"misty\", \"misty\", \"moderate\", \"moderate\", \"moderate\", \"moderate\", \"moderate\", \"moderate\", \"moderate\", \"moderate\", \"moderate\", \"moderate\", \"moderate\", \"moi\", \"moi\", \"money\", \"money\", \"money\", \"money\", \"money\", \"money\", \"money\", \"money\", \"money\", \"money\", \"money\", \"money\", \"monitor\", \"monitor\", \"monitor\", \"monsieur\", \"monsieur\", \"monsieur\", \"monsieur\", \"monsieur\", \"monsieur\", \"monsieur\", \"moon\", \"moon\", \"moon\", \"moon\", \"moon\", \"moon\", \"moon\", \"moon\", \"mother\", \"mother\", \"mother\", \"mother\", \"mother\", \"mother\", \"mother\", \"mother\", \"mother\", \"mother\", \"mother\", \"mother\", \"mother\", \"mother\", \"mother\", \"mug\", \"mug\", \"mug\", \"mused\", \"mused\", \"nash\", \"nash\", \"nation\", \"nation\", \"near\", \"near\", \"near\", \"near\", \"near\", \"near\", \"near\", \"near\", \"near\", \"near\", \"near\", \"near\", \"near\", \"near\", \"negligent\", \"negligent\", \"negligent\", \"negligent\", \"netherfield\", \"netherfield\", \"netherfield\", \"night\", \"night\", \"night\", \"night\", \"night\", \"night\", \"night\", \"night\", \"night\", \"night\", \"night\", \"night\", \"night\", \"night\", \"norland\", \"norland\", \"nous\", \"nursery\", \"nursery\", \"nursery\", \"nursery\", \"nursery\", \"nursery\", \"nursery\", \"oblivion\", \"oblivion\", \"oblivion\", \"officers\", \"officers\", \"oh\", \"oh\", \"oh\", \"oh\", \"oh\", \"oh\", \"oh\", \"oh\", \"oh\", \"oh\", \"oh\", \"oh\", \"oh\", \"oh\", \"old\", \"old\", \"old\", \"old\", \"old\", \"old\", \"old\", \"old\", \"old\", \"old\", \"old\", \"old\", \"old\", \"old\", \"oliver\", \"oliver\", \"oliver\", \"oliver\", \"oliver\", \"oliver\", \"ominous\", \"ominous\", \"ominous\", \"orchard\", \"orchard\", \"orchard\", \"oriental\", \"oriental\", \"originated\", \"originated\", \"originated\", \"originated\", \"originated\", \"originated\", \"originated\", \"orphan\", \"orphan\", \"orphan\", \"orphan\", \"orphan\", \"orphan\", \"orphan\", \"oui\", \"overbearing\", \"overbearing\", \"paintings\", \"paintings\", \"paintings\", \"palmer\", \"palmer\", \"palmers\", \"papa\", \"papa\", \"papa\", \"papa\", \"papa\", \"papa\", \"papa\", \"papa\", \"papa\", \"pas\", \"pas\", \"pas\", \"pas\", \"pas\", \"pasture\", \"pasture\", \"pasture\", \"pathos\", \"pathos\", \"pathos\", \"patient\", \"patient\", \"patient\", \"patient\", \"patient\", \"patient\", \"patient\", \"patient\", \"patient\", \"patient\", \"patrician\", \"patrician\", \"patty\", \"patty\", \"paul\", \"paul\", \"paul\", \"paul\", \"paul\", \"paul\", \"paulina\", \"paulina\", \"paulina\", \"paulina\", \"paulina\", \"paved\", \"pelet\", \"pelet\", \"pelet\", \"pemberley\", \"pemberley\", \"pencils\", \"pencils\", \"pencils\", \"perished\", \"perished\", \"perry\", \"perry\", \"pert\", \"pert\", \"pert\", \"perused\", \"perused\", \"perused\", \"perused\", \"perused\", \"pet\", \"pet\", \"pet\", \"pet\", \"pet\", \"pet\", \"petite\", \"petite\", \"petite\", \"philanthropist\", \"philanthropist\", \"philanthropist\", \"philanthropist\", \"phillips\", \"phillips\", \"philosophic\", \"philosophic\", \"philosophic\", \"philosophic\", \"pianoforte\", \"pianoforte\", \"pieces\", \"pieces\", \"pieces\", \"pieces\", \"pieces\", \"pieces\", \"pieces\", \"pierre\", \"pierre\", \"pierre\", \"pilot\", \"pilot\", \"pilot\", \"pinions\", \"pity\", \"pity\", \"pity\", \"pity\", \"pity\", \"pity\", \"pity\", \"pity\", \"pity\", \"pity\", \"pity\", \"place\", \"place\", \"place\", \"place\", \"place\", \"place\", \"place\", \"place\", \"place\", \"place\", \"place\", \"place\", \"place\", \"place\", \"plainness\", \"plants\", \"plants\", \"plants\", \"plants\", \"plants\", \"pleasure\", \"pleasure\", \"pleasure\", \"pleasure\", \"pleasure\", \"pleasure\", \"pleasure\", \"pleasure\", \"pleasure\", \"pleasure\", \"pleasure\", \"pleasure\", \"pleasure\", \"pleasure\", \"pledged\", \"pledged\", \"pledged\", \"pledged\", \"plymouth\", \"polly\", \"polly\", \"polly\", \"polly\", \"pony\", \"pony\", \"pony\", \"pony\", \"poole\", \"poole\", \"poor\", \"poor\", \"poor\", \"poor\", \"poor\", \"poor\", \"poor\", \"poor\", \"poor\", \"poor\", \"poor\", \"poor\", \"poor\", \"poor\", \"population\", \"population\", \"population\", \"pot\", \"pot\", \"potatoes\", \"potatoes\", \"pounds\", \"pounds\", \"pounds\", \"pounds\", \"pounds\", \"pounds\", \"pounds\", \"pounds\", \"pounds\", \"pounds\", \"power\", \"power\", \"power\", \"power\", \"power\", \"power\", \"power\", \"power\", \"power\", \"power\", \"power\", \"power\", \"power\", \"practising\", \"practising\", \"practising\", \"practising\", \"praise\", \"praise\", \"praise\", \"praise\", \"praise\", \"praise\", \"praise\", \"praise\", \"pretension\", \"pretension\", \"pretension\", \"pretension\", \"print\", \"print\", \"print\", \"print\", \"print\", \"profitable\", \"profitable\", \"prohibited\", \"prohibited\", \"prohibited\", \"promoting\", \"prose\", \"prose\", \"prose\", \"punish\", \"punish\", \"punish\", \"punish\", \"punish\", \"punished\", \"punished\", \"punished\", \"pupils\", \"pupils\", \"pupils\", \"pupils\", \"pupils\", \"pupils\", \"que\", \"que\", \"que\", \"quel\", \"quivering\", \"quivering\", \"quivering\", \"quivering\", \"quivering\", \"quivering\", \"quivering\", \"quivering\", \"quivering\", \"rains\", \"randalls\", \"randalls\", \"ranged\", \"ranged\", \"ranged\", \"rash\", \"rash\", \"rash\", \"rash\", \"rash\", \"rash\", \"rated\", \"rated\", \"rated\", \"rationally\", \"rationally\", \"rationally\", \"rationally\", \"rationally\", \"rats\", \"rays\", \"read\", \"read\", \"read\", \"read\", \"read\", \"read\", \"read\", \"read\", \"read\", \"read\", \"read\", \"read\", \"read\", \"read\", \"ready\", \"ready\", \"ready\", \"ready\", \"ready\", \"ready\", \"ready\", \"ready\", \"ready\", \"ready\", \"ready\", \"ready\", \"ready\", \"ready\", \"ready\", \"rebuff\", \"rebuff\", \"reed\", \"reed\", \"reed\", \"reed\", \"reed\", \"reed\", \"reed\", \"reed\", \"refreshed\", \"refreshed\", \"refused\", \"refused\", \"refused\", \"refused\", \"refused\", \"refused\", \"refused\", \"refused\", \"refused\", \"refused\", \"regiment\", \"regiment\", \"regiment\", \"regions\", \"regions\", \"regions\", \"regions\", \"regions\", \"regions\", \"reliance\", \"reliance\", \"reliance\", \"reliance\", \"reliance\", \"remarked\", \"remarked\", \"remarked\", \"remarked\", \"remarked\", \"remarked\", \"remarked\", \"remarked\", \"remarked\", \"reminiscences\", \"reminiscences\", \"reminiscences\", \"repeat\", \"repeat\", \"repeat\", \"repeat\", \"repeat\", \"repeat\", \"repeat\", \"repeat\", \"repeat\", \"repetitions\", \"repetitions\", \"repetitions\", \"replied\", \"replied\", \"replied\", \"replied\", \"replied\", \"replied\", \"replied\", \"replied\", \"replied\", \"replied\", \"replied\", \"replied\", \"replied\", \"representing\", \"repulse\", \"repulse\", \"repulse\", \"repulse\", \"reserved\", \"reserved\", \"reserved\", \"reserved\", \"reserved\", \"reserved\", \"reserved\", \"reserved\", \"reserves\", \"reserves\", \"reserves\", \"reserves\", \"retreated\", \"retreated\", \"retreated\", \"retreated\", \"retreated\", \"retreated\", \"retreated\", \"reuter\", \"reuter\", \"reuter\", \"reuter\", \"reuter\", \"richard\", \"richard\", \"richard\", \"richard\", \"richmond\", \"ride\", \"ride\", \"ride\", \"ride\", \"ride\", \"ride\", \"ride\", \"ride\", \"ride\", \"ridge\", \"ridge\", \"ridge\", \"ridge\", \"ridge\", \"ridge\", \"rivers\", \"rivers\", \"rivers\", \"rivers\", \"rivers\", \"rivers\", \"rivers\", \"rivers\", \"rivet\", \"rivet\", \"road\", \"road\", \"road\", \"road\", \"road\", \"road\", \"road\", \"road\", \"road\", \"rochester\", \"rochester\", \"rochester\", \"rochester\", \"rochester\", \"rochester\", \"rochester\", \"room\", \"room\", \"room\", \"room\", \"room\", \"room\", \"room\", \"room\", \"room\", \"room\", \"room\", \"room\", \"room\", \"room\", \"room\", \"rosamond\", \"rosamond\", \"rosamond\", \"rosamond\", \"rosamond\", \"rosamond\", \"rose\", \"rose\", \"rose\", \"rose\", \"rose\", \"rose\", \"rose\", \"rose\", \"rose\", \"rose\", \"rose\", \"rose\", \"rose\", \"rose\", \"rose\", \"rosine\", \"rosine\", \"rosine\", \"rosings\", \"round\", \"round\", \"round\", \"round\", \"round\", \"round\", \"round\", \"round\", \"round\", \"round\", \"round\", \"round\", \"round\", \"round\", \"round\", \"royal\", \"rubbed\", \"rubbed\", \"rubber\", \"rubber\", \"rubber\", \"ruffled\", \"ruffled\", \"saddened\", \"saddened\", \"saddened\", \"saddened\", \"salary\", \"salary\", \"salary\", \"salary\", \"sarah\", \"sarah\", \"sarah\", \"satin\", \"satin\", \"satin\", \"satin\", \"satin\", \"satin\", \"saw\", \"saw\", \"saw\", \"saw\", \"saw\", \"saw\", \"saw\", \"saw\", \"saw\", \"saw\", \"saw\", \"saw\", \"saw\", \"saw\", \"scatcherd\", \"scatcherd\", \"scatcherd\", \"scatcherd\", \"scatcherd\", \"scholars\", \"scholars\", \"scholars\", \"scholars\", \"scholars\", \"school\", \"school\", \"school\", \"school\", \"school\", \"school\", \"school\", \"school\", \"school\", \"school\", \"school\", \"school\", \"school\", \"schoolroom\", \"schoolroom\", \"schoolroom\", \"schoolroom\", \"schoolroom\", \"schoolroom\", \"schoolroom\", \"schoolroom\", \"scorched\", \"scorched\", \"scorched\", \"scores\", \"scores\", \"scores\", \"scores\", \"scotch\", \"scotch\", \"scotch\", \"scotch\", \"seacombe\", \"seen\", \"seen\", \"seen\", \"seen\", \"seen\", \"seen\", \"seen\", \"seen\", \"seen\", \"seen\", \"seen\", \"seen\", \"seen\", \"seen\", \"seen\", \"selina\", \"send\", \"send\", \"send\", \"send\", \"send\", \"send\", \"send\", \"send\", \"send\", \"send\", \"send\", \"send\", \"sewing\", \"sewing\", \"sewing\", \"sewing\", \"sewing\", \"sewing\", \"shade\", \"shade\", \"shade\", \"shade\", \"shade\", \"shade\", \"shade\", \"shade\", \"shade\", \"shade\", \"shadowed\", \"shall\", \"shall\", \"shall\", \"shall\", \"shall\", \"shall\", \"shall\", \"shall\", \"shall\", \"shall\", \"shall\", \"shall\", \"shall\", \"shall\", \"shan\", \"shan\", \"shan\", \"shan\", \"shew\", \"shew\", \"shew\", \"shew\", \"shew\", \"shores\", \"shores\", \"shores\", \"sir\", \"sir\", \"sir\", \"sir\", \"sir\", \"sir\", \"sir\", \"sir\", \"sir\", \"sir\", \"sir\", \"sir\", \"sir\", \"sir\", \"sire\", \"sire\", \"sister\", \"sister\", \"sister\", \"sister\", \"sister\", \"sister\", \"sister\", \"sister\", \"sister\", \"sister\", \"sister\", \"sister\", \"sister\", \"sister\", \"sisters\", \"sisters\", \"sisters\", \"sisters\", \"sisters\", \"sisters\", \"sisters\", \"sisters\", \"sisters\", \"sisters\", \"sisters\", \"skies\", \"skies\", \"skies\", \"sky\", \"sky\", \"sky\", \"sky\", \"sky\", \"sky\", \"sky\", \"sky\", \"sloping\", \"sloping\", \"smith\", \"smith\", \"smith\", \"smith\", \"smith\", \"smith\", \"smith\", \"snowe\", \"snowe\", \"snowe\", \"snowe\", \"soldier\", \"soldier\", \"soldier\", \"somersetshire\", \"soon\", \"soon\", \"soon\", \"soon\", \"soon\", \"soon\", \"soon\", \"soon\", \"soon\", \"soon\", \"soon\", \"soon\", \"soon\", \"soon\", \"soon\", \"sophie\", \"sophie\", \"sophie\", \"spasm\", \"spasm\", \"spasm\", \"speak\", \"speak\", \"speak\", \"speak\", \"speak\", \"speak\", \"speak\", \"speak\", \"speak\", \"speak\", \"speak\", \"speak\", \"speak\", \"speak\", \"spectacles\", \"spectacles\", \"spectacles\", \"spectacles\", \"spectacles\", \"spectre\", \"spectre\", \"speedy\", \"speedy\", \"speedy\", \"speedy\", \"spoiling\", \"spoiling\", \"spoke\", \"spoke\", \"spoke\", \"spoke\", \"spoke\", \"spoke\", \"spoke\", \"spoke\", \"spoke\", \"spoke\", \"spoke\", \"spoke\", \"spoke\", \"spotless\", \"spotless\", \"spotless\", \"st\", \"st\", \"st\", \"st\", \"st\", \"st\", \"st\", \"st\", \"st\", \"st\", \"st\", \"st\", \"stated\", \"stated\", \"stated\", \"steele\", \"steele\", \"steeles\", \"steeles\", \"stile\", \"stile\", \"stimulate\", \"stimulate\", \"stimulate\", \"stimulate\", \"stimulate\", \"stood\", \"stood\", \"stood\", \"stood\", \"stood\", \"stood\", \"stood\", \"stood\", \"stood\", \"stood\", \"stood\", \"stood\", \"stood\", \"stood\", \"storey\", \"storey\", \"storey\", \"strange\", \"strange\", \"strange\", \"strange\", \"strange\", \"strange\", \"strange\", \"strange\", \"strange\", \"strange\", \"strange\", \"strange\", \"strange\", \"strange\", \"strangers\", \"strangers\", \"strangers\", \"strangers\", \"strangers\", \"strangers\", \"strangers\", \"strangers\", \"strangers\", \"strangers\", \"streamed\", \"streamed\", \"streamed\", \"streamed\", \"subject\", \"subject\", \"subject\", \"subject\", \"subject\", \"subject\", \"subject\", \"subject\", \"subject\", \"subject\", \"subject\", \"subject\", \"subject\", \"subject\", \"sufferer\", \"sufferer\", \"sufferer\", \"sufferer\", \"suggested\", \"suggested\", \"suggested\", \"suggested\", \"suggested\", \"suggested\", \"suggested\", \"suggested\", \"suggested\", \"suggested\", \"suggested\", \"suggested\", \"sum\", \"sum\", \"sum\", \"sum\", \"sum\", \"sum\", \"sum\", \"sum\", \"sum\", \"summits\", \"sun\", \"sun\", \"sun\", \"sun\", \"sun\", \"sun\", \"sun\", \"sun\", \"sun\", \"superior\", \"superior\", \"superior\", \"superior\", \"superior\", \"superior\", \"superior\", \"superior\", \"superior\", \"superior\", \"superior\", \"superstitious\", \"superstitious\", \"sure\", \"sure\", \"sure\", \"sure\", \"sure\", \"sure\", \"sure\", \"sure\", \"sure\", \"sure\", \"sure\", \"sure\", \"sure\", \"sure\", \"sure\", \"surry\", \"sussex\", \"sussex\", \"swear\", \"swear\", \"swiss\", \"switzerland\", \"switzerland\", \"swung\", \"swung\", \"symptoms\", \"symptoms\", \"symptoms\", \"symptoms\", \"symptoms\", \"symptoms\", \"symptoms\", \"table\", \"table\", \"table\", \"table\", \"table\", \"table\", \"table\", \"table\", \"table\", \"table\", \"table\", \"table\", \"table\", \"taylor\", \"tell\", \"tell\", \"tell\", \"tell\", \"tell\", \"tell\", \"tell\", \"tell\", \"tell\", \"tell\", \"tell\", \"tell\", \"tell\", \"temperature\", \"temperature\", \"tempest\", \"tempest\", \"temple\", \"temple\", \"temple\", \"temple\", \"temple\", \"temple\", \"temple\", \"tenor\", \"tenor\", \"tenor\", \"tenor\", \"thanking\", \"thanking\", \"thanking\", \"thimble\", \"thing\", \"thing\", \"thing\", \"thing\", \"thing\", \"thing\", \"thing\", \"thing\", \"thing\", \"thing\", \"thing\", \"thing\", \"thing\", \"thing\", \"thing\", \"think\", \"think\", \"think\", \"think\", \"think\", \"think\", \"think\", \"think\", \"think\", \"think\", \"think\", \"think\", \"think\", \"think\", \"think\", \"thornfield\", \"thornfield\", \"thornfield\", \"thornfield\", \"thought\", \"thought\", \"thought\", \"thought\", \"thought\", \"thought\", \"thought\", \"thought\", \"thought\", \"thought\", \"thought\", \"thought\", \"thought\", \"thought\", \"thought\", \"thoughtlessness\", \"thoughtlessness\", \"thoughtlessness\", \"thousand\", \"thousand\", \"thousand\", \"thousand\", \"thousand\", \"thousand\", \"thousand\", \"thousand\", \"thousand\", \"thousand\", \"thousand\", \"thousand\", \"time\", \"time\", \"time\", \"time\", \"time\", \"time\", \"time\", \"time\", \"time\", \"time\", \"time\", \"time\", \"time\", \"time\", \"time\", \"tinged\", \"tinted\", \"tis\", \"tis\", \"tis\", \"tis\", \"toast\", \"toast\", \"toast\", \"toast\", \"took\", \"took\", \"took\", \"took\", \"took\", \"took\", \"took\", \"took\", \"took\", \"took\", \"took\", \"took\", \"took\", \"took\", \"touch\", \"touch\", \"touch\", \"touch\", \"touch\", \"touch\", \"touch\", \"touch\", \"touch\", \"touch\", \"tout\", \"tout\", \"tout\", \"town\", \"town\", \"town\", \"town\", \"town\", \"town\", \"town\", \"town\", \"town\", \"town\", \"town\", \"town\", \"town\", \"tract\", \"tract\", \"tract\", \"tradesman\", \"tradesman\", \"tradesman\", \"tradesman\", \"trample\", \"trample\", \"transition\", \"transition\", \"transition\", \"treble\", \"treble\", \"treble\", \"trunk\", \"trunk\", \"trunk\", \"trunk\", \"trunk\", \"trunk\", \"trunk\", \"trunk\", \"tynedale\", \"tyrant\", \"tyrant\", \"tyrant\", \"tyrant\", \"uncles\", \"uncles\", \"uncles\", \"unclose\", \"unclose\", \"underwent\", \"une\", \"une\", \"une\", \"unfair\", \"unfair\", \"union\", \"union\", \"union\", \"union\", \"union\", \"union\", \"union\", \"union\", \"union\", \"union\", \"unmarried\", \"unmarried\", \"unmarried\", \"unmarried\", \"unwell\", \"unwell\", \"uproar\", \"uproar\", \"uproar\", \"uproar\", \"usage\", \"usage\", \"usage\", \"usual\", \"usual\", \"usual\", \"usual\", \"usual\", \"usual\", \"usual\", \"usual\", \"usual\", \"usual\", \"usual\", \"usual\", \"vandenhuten\", \"varens\", \"varens\", \"vicarage\", \"vicarage\", \"vicarage\", \"vices\", \"vices\", \"vices\", \"victor\", \"victor\", \"victor\", \"victor\", \"violets\", \"virtually\", \"virtually\", \"virtually\", \"virtually\", \"voice\", \"voice\", \"voice\", \"voice\", \"voice\", \"voice\", \"voice\", \"voice\", \"voice\", \"voice\", \"voice\", \"voice\", \"voice\", \"voice\", \"voice\", \"votre\", \"vouch\", \"vouch\", \"vouch\", \"vouch\", \"vous\", \"vous\", \"vous\", \"vous\", \"vous\", \"wakened\", \"wakened\", \"wakened\", \"wall\", \"wall\", \"wall\", \"wall\", \"wall\", \"wall\", \"wall\", \"walls\", \"walls\", \"walls\", \"walls\", \"walls\", \"walls\", \"walls\", \"walls\", \"walravens\", \"walravens\", \"walravens\", \"warren\", \"warren\", \"warren\", \"water\", \"water\", \"water\", \"water\", \"water\", \"water\", \"water\", \"water\", \"water\", \"water\", \"water\", \"way\", \"way\", \"way\", \"way\", \"way\", \"way\", \"way\", \"way\", \"way\", \"way\", \"way\", \"way\", \"way\", \"way\", \"way\", \"wearied\", \"wearied\", \"wearied\", \"wednesday\", \"wednesday\", \"wednesday\", \"wednesday\", \"went\", \"went\", \"went\", \"went\", \"went\", \"went\", \"went\", \"went\", \"went\", \"went\", \"went\", \"went\", \"went\", \"went\", \"weston\", \"weston\", \"weston\", \"westons\", \"weymouth\", \"whip\", \"whip\", \"whitcross\", \"white\", \"white\", \"white\", \"white\", \"white\", \"white\", \"white\", \"white\", \"white\", \"white\", \"white\", \"white\", \"wicked\", \"wicked\", \"wicked\", \"wicked\", \"wicked\", \"wicked\", \"wicked\", \"wickham\", \"wickham\", \"wickham\", \"wickham\", \"wide\", \"wide\", \"wide\", \"wide\", \"wide\", \"wide\", \"wide\", \"wide\", \"wider\", \"wife\", \"wife\", \"wife\", \"wife\", \"wife\", \"wife\", \"wife\", \"wife\", \"wife\", \"wife\", \"wife\", \"wife\", \"wife\", \"wild\", \"wild\", \"wild\", \"wild\", \"wild\", \"wild\", \"wild\", \"wild\", \"wild\", \"wild\", \"willoughby\", \"willoughby\", \"wind\", \"wind\", \"wind\", \"wind\", \"wind\", \"wind\", \"wind\", \"wind\", \"wind\", \"wind\", \"wind\", \"wind\", \"winding\", \"winding\", \"winding\", \"witch\", \"witch\", \"woman\", \"woman\", \"woman\", \"woman\", \"woman\", \"woman\", \"woman\", \"woman\", \"woman\", \"woman\", \"woman\", \"woman\", \"woman\", \"woman\", \"woman\", \"wood\", \"wood\", \"wood\", \"wood\", \"wood\", \"wood\", \"wood\", \"wood\", \"wood\", \"woodhouse\", \"woodhouse\", \"words\", \"words\", \"words\", \"words\", \"words\", \"words\", \"words\", \"words\", \"words\", \"words\", \"words\", \"words\", \"words\", \"words\", \"work\", \"work\", \"work\", \"work\", \"work\", \"work\", \"work\", \"work\", \"work\", \"work\", \"work\", \"work\", \"workings\", \"workings\", \"world\", \"world\", \"world\", \"world\", \"world\", \"world\", \"world\", \"world\", \"world\", \"world\", \"world\", \"world\", \"world\", \"world\", \"wouldn\", \"wouldn\", \"yawned\", \"yes\", \"yes\", \"yes\", \"yes\", \"yes\", \"yes\", \"yes\", \"yes\", \"yes\", \"yes\", \"yes\", \"yes\", \"yes\", \"yes\", \"yes\", \"yonder\", \"yonder\", \"yonder\", \"yonder\", \"yonder\", \"yorke\", \"young\", \"young\", \"young\", \"young\", \"young\", \"young\", \"young\", \"young\", \"young\", \"young\", \"young\", \"young\", \"young\", \"young\", \"young\", \"zelie\", \"zoraide\", \"zoraide\"]}, \"R\": 30, \"lambda.step\": 0.01, \"plot.opts\": {\"xlab\": \"PC1\", \"ylab\": \"PC2\"}, \"topic.order\": [14, 7, 9, 13, 2, 12, 10, 5, 3, 4, 11, 8, 6, 15, 1]};\n",
       "\n",
       "function LDAvis_load_lib(url, callback){\n",
       "  var s = document.createElement('script');\n",
       "  s.src = url;\n",
       "  s.async = true;\n",
       "  s.onreadystatechange = s.onload = callback;\n",
       "  s.onerror = function(){console.warn(\"failed to load library \" + url);};\n",
       "  document.getElementsByTagName(\"head\")[0].appendChild(s);\n",
       "}\n",
       "\n",
       "if(typeof(LDAvis) !== \"undefined\"){\n",
       "   // already loaded: just create the visualization\n",
       "   !function(LDAvis){\n",
       "       new LDAvis(\"#\" + \"ldavis_el35181401043244228969464827835\", ldavis_el35181401043244228969464827835_data);\n",
       "   }(LDAvis);\n",
       "}else if(typeof define === \"function\" && define.amd){\n",
       "   // require.js is available: use it to load d3/LDAvis\n",
       "   require.config({paths: {d3: \"https://cdnjs.cloudflare.com/ajax/libs/d3/3.5.5/d3.min\"}});\n",
       "   require([\"d3\"], function(d3){\n",
       "      window.d3 = d3;\n",
       "      LDAvis_load_lib(\"https://cdn.rawgit.com/bmabey/pyLDAvis/files/ldavis.v1.0.0.js\", function(){\n",
       "        new LDAvis(\"#\" + \"ldavis_el35181401043244228969464827835\", ldavis_el35181401043244228969464827835_data);\n",
       "      });\n",
       "    });\n",
       "}else{\n",
       "    // require.js not available: dynamically load d3 & LDAvis\n",
       "    LDAvis_load_lib(\"https://cdnjs.cloudflare.com/ajax/libs/d3/3.5.5/d3.min.js\", function(){\n",
       "         LDAvis_load_lib(\"https://cdn.rawgit.com/bmabey/pyLDAvis/files/ldavis.v1.0.0.js\", function(){\n",
       "                 new LDAvis(\"#\" + \"ldavis_el35181401043244228969464827835\", ldavis_el35181401043244228969464827835_data);\n",
       "            })\n",
       "         });\n",
       "}\n",
       "</script>"
      ],
      "text/plain": [
       "PreparedData(topic_coordinates=              x         y  topics  cluster       Freq\n",
       "topic                                                \n",
       "13    -0.076950  0.016633       1        1  18.292974\n",
       "6      0.108964  0.004955       2        1  17.964882\n",
       "8      0.119813 -0.040144       3        1  12.176672\n",
       "12    -0.113992 -0.029894       4        1  10.529463\n",
       "1      0.118481 -0.070619       5        1  10.005984\n",
       "11    -0.051676 -0.014619       6        1   8.847969\n",
       "9     -0.107007 -0.002538       7        1   5.772343\n",
       "4     -0.042355 -0.025895       8        1   4.922864\n",
       "2      0.123666  0.032073       9        1   3.437604\n",
       "3     -0.078403 -0.080810      10        1   3.277903\n",
       "10    -0.042692 -0.040807      11        1   2.121842\n",
       "7     -0.003258 -0.007387      12        1   1.236979\n",
       "5      0.093039  0.012019      13        1   0.559786\n",
       "14    -0.068885  0.111515      14        1   0.478093\n",
       "0      0.021255  0.135518      15        1   0.374635, topic_info=           Term         Freq        Total Category  logprob  loglift\n",
       "867        emma   836.000000   836.000000  Default  30.0000  30.0000\n",
       "142        miss  1508.000000  1508.000000  Default  29.0000  29.0000\n",
       "65    elizabeth   643.000000   643.000000  Default  28.0000  28.0000\n",
       "641      elinor   703.000000   703.000000  Default  27.0000  27.0000\n",
       "910        jane   914.000000   914.000000  Default  26.0000  26.0000\n",
       "...         ...          ...          ...      ...      ...      ...\n",
       "700      little     2.996991  1714.961426  Topic15  -5.9708  -0.7626\n",
       "1376       come     2.693250   829.710632  Topic15  -6.0776  -0.1434\n",
       "896        home     2.461176   490.950165  Topic15  -6.1677   0.2913\n",
       "223       think     2.553533  1305.546753  Topic15  -6.1309  -0.6499\n",
       "247       young     2.457127   661.967712  Topic15  -6.1694  -0.0093\n",
       "\n",
       "[1117 rows x 6 columns], token_table=      Topic      Freq     Term\n",
       "term                          \n",
       "4403      6  0.177513  abandon\n",
       "4403      8  0.710052  abandon\n",
       "801       2  0.814382    abbey\n",
       "801       9  0.130301    abbey\n",
       "801      15  0.032575    abbey\n",
       "...     ...       ...      ...\n",
       "247      14  0.003021    young\n",
       "247      15  0.003021    young\n",
       "5676      1  0.962493    zelie\n",
       "2045      1  0.284161  zoraide\n",
       "2045      6  0.674882  zoraide\n",
       "\n",
       "[4232 rows x 3 columns], R=30, lambda_step=0.01, plot_opts={'xlab': 'PC1', 'ylab': 'PC2'}, topic_order=[14, 7, 9, 13, 2, 12, 10, 5, 3, 4, 11, 8, 6, 15, 1])"
      ]
     },
     "execution_count": 40,
     "metadata": {},
     "output_type": "execute_result"
    }
   ],
   "source": [
    "pyLDAvis.gensim.prepare(lda, corpus, id2word)"
   ]
  },
  {
   "cell_type": "markdown",
   "metadata": {},
   "source": [
    "### Overall Model / Documents"
   ]
  },
  {
   "cell_type": "code",
   "execution_count": 61,
   "metadata": {},
   "outputs": [
    {
     "data": {
      "text/plain": [
       "[(8, 0.99730086)]"
      ]
     },
     "execution_count": 61,
     "metadata": {},
     "output_type": "execute_result"
    }
   ],
   "source": [
    "lda[corpus[0]]"
   ]
  },
  {
   "cell_type": "code",
   "execution_count": 42,
   "metadata": {},
   "outputs": [],
   "source": [
    "distro = [lda[d] for d in corpus]"
   ]
  },
  {
   "cell_type": "code",
   "execution_count": 43,
   "metadata": {},
   "outputs": [
    {
     "data": {
      "text/plain": [
       "[(8, 0.99730086)]"
      ]
     },
     "execution_count": 43,
     "metadata": {},
     "output_type": "execute_result"
    }
   ],
   "source": [
    "distro[0]"
   ]
  },
  {
   "cell_type": "code",
   "execution_count": 44,
   "metadata": {},
   "outputs": [],
   "source": [
    "distro = [lda[d] for d in corpus]\n",
    "\n",
    "def update(doc):\n",
    "        d_dist = {k:0 for k in range(0,15)}\n",
    "        for t in doc:\n",
    "            d_dist[t[0]] = t[1]\n",
    "        return d_dist\n",
    "    \n",
    "new_distro = [update(d) for d in distro]"
   ]
  },
  {
   "cell_type": "code",
   "execution_count": null,
   "metadata": {},
   "outputs": [],
   "source": [
    "new_distro"
   ]
  },
  {
   "cell_type": "code",
   "execution_count": 45,
   "metadata": {},
   "outputs": [
    {
     "data": {
      "text/plain": [
       "813"
      ]
     },
     "execution_count": 45,
     "metadata": {},
     "output_type": "execute_result"
    }
   ],
   "source": [
    "len(new_distro)"
   ]
  },
  {
   "cell_type": "code",
   "execution_count": 46,
   "metadata": {},
   "outputs": [
    {
     "data": {
      "text/html": [
       "<div>\n",
       "<style scoped>\n",
       "    .dataframe tbody tr th:only-of-type {\n",
       "        vertical-align: middle;\n",
       "    }\n",
       "\n",
       "    .dataframe tbody tr th {\n",
       "        vertical-align: top;\n",
       "    }\n",
       "\n",
       "    .dataframe thead th {\n",
       "        text-align: right;\n",
       "    }\n",
       "</style>\n",
       "<table border=\"1\" class=\"dataframe\">\n",
       "  <thead>\n",
       "    <tr style=\"text-align: right;\">\n",
       "      <th></th>\n",
       "      <th>tokens</th>\n",
       "      <th>author</th>\n",
       "      <th>book</th>\n",
       "      <th>section</th>\n",
       "    </tr>\n",
       "  </thead>\n",
       "  <tbody>\n",
       "    <tr>\n",
       "      <th>Austen_Pride0109</th>\n",
       "      <td>[attentions, spring, score, let, sit, understa...</td>\n",
       "      <td>1</td>\n",
       "      <td>Pride</td>\n",
       "      <td>109</td>\n",
       "    </tr>\n",
       "    <tr>\n",
       "      <th>CBronte_Villette0114</th>\n",
       "      <td>[merely, getting, better, view, face, struck, ...</td>\n",
       "      <td>0</td>\n",
       "      <td>Villette</td>\n",
       "      <td>114</td>\n",
       "    </tr>\n",
       "    <tr>\n",
       "      <th>Austen_Sense0038</th>\n",
       "      <td>[patience, melancholy, state, person, expectat...</td>\n",
       "      <td>1</td>\n",
       "      <td>Sense</td>\n",
       "      <td>38</td>\n",
       "    </tr>\n",
       "    <tr>\n",
       "      <th>Austen_Emma0133</th>\n",
       "      <td>[ready, believe, character, improve, acquire, ...</td>\n",
       "      <td>1</td>\n",
       "      <td>Emma</td>\n",
       "      <td>133</td>\n",
       "    </tr>\n",
       "    <tr>\n",
       "      <th>CBronte_Jane0002</th>\n",
       "      <td>[dim, bleared, eye, flabby, cheeks, ought, sch...</td>\n",
       "      <td>0</td>\n",
       "      <td>Jane</td>\n",
       "      <td>2</td>\n",
       "    </tr>\n",
       "  </tbody>\n",
       "</table>\n",
       "</div>"
      ],
      "text/plain": [
       "                                                                 tokens  \\\n",
       "Austen_Pride0109      [attentions, spring, score, let, sit, understa...   \n",
       "CBronte_Villette0114  [merely, getting, better, view, face, struck, ...   \n",
       "Austen_Sense0038      [patience, melancholy, state, person, expectat...   \n",
       "Austen_Emma0133       [ready, believe, character, improve, acquire, ...   \n",
       "CBronte_Jane0002      [dim, bleared, eye, flabby, cheeks, ought, sch...   \n",
       "\n",
       "                      author      book  section  \n",
       "Austen_Pride0109           1     Pride      109  \n",
       "CBronte_Villette0114       0  Villette      114  \n",
       "Austen_Sense0038           1     Sense       38  \n",
       "Austen_Emma0133            1      Emma      133  \n",
       "CBronte_Jane0002           0      Jane        2  "
      ]
     },
     "execution_count": 46,
     "metadata": {},
     "output_type": "execute_result"
    }
   ],
   "source": [
    "df.head()"
   ]
  },
  {
   "cell_type": "code",
   "execution_count": 47,
   "metadata": {},
   "outputs": [],
   "source": [
    "df = pd.DataFrame.from_records(new_distro, index=titles)\n",
    "df.columns = topics\n",
    "df['author'] = df.reset_index()['index'].apply(lambda x: x.split('_')[0]).tolist()"
   ]
  },
  {
   "cell_type": "code",
   "execution_count": 48,
   "metadata": {},
   "outputs": [
    {
     "data": {
      "text/html": [
       "<div>\n",
       "<style scoped>\n",
       "    .dataframe tbody tr th:only-of-type {\n",
       "        vertical-align: middle;\n",
       "    }\n",
       "\n",
       "    .dataframe tbody tr th {\n",
       "        vertical-align: top;\n",
       "    }\n",
       "\n",
       "    .dataframe thead th {\n",
       "        text-align: right;\n",
       "    }\n",
       "</style>\n",
       "<table border=\"1\" class=\"dataframe\">\n",
       "  <thead>\n",
       "    <tr style=\"text-align: right;\">\n",
       "      <th></th>\n",
       "      <th>harriet miss elton emma scatcherd</th>\n",
       "      <th>elinor marianne sister edward dashwood</th>\n",
       "      <th>harriet elton miss emma jane</th>\n",
       "      <th>sir jane rochester shall love</th>\n",
       "      <th>john little know like good</th>\n",
       "      <th>jane elizabeth miss bingley sister</th>\n",
       "      <th>emma miss thing know think</th>\n",
       "      <th>jane know man good miss</th>\n",
       "      <th>elizabeth darcy bennet bingley jane</th>\n",
       "      <th>little house time day room</th>\n",
       "      <th>bessie reed john georgiana like</th>\n",
       "      <th>like hunsden good little thought</th>\n",
       "      <th>like night rochester door come</th>\n",
       "      <th>little like madame thought hand</th>\n",
       "      <th>graham polly bretton little sir</th>\n",
       "      <th>author</th>\n",
       "    </tr>\n",
       "  </thead>\n",
       "  <tbody>\n",
       "    <tr>\n",
       "      <th>Austen_Pride0109</th>\n",
       "      <td>0.0</td>\n",
       "      <td>0.00000</td>\n",
       "      <td>0.0</td>\n",
       "      <td>0.0</td>\n",
       "      <td>0.0</td>\n",
       "      <td>0.0</td>\n",
       "      <td>0.000000</td>\n",
       "      <td>0.0</td>\n",
       "      <td>0.997301</td>\n",
       "      <td>0.0</td>\n",
       "      <td>0.000000</td>\n",
       "      <td>0.0</td>\n",
       "      <td>0.000000</td>\n",
       "      <td>0.000000</td>\n",
       "      <td>0.0</td>\n",
       "      <td>Austen</td>\n",
       "    </tr>\n",
       "    <tr>\n",
       "      <th>CBronte_Villette0114</th>\n",
       "      <td>0.0</td>\n",
       "      <td>0.00000</td>\n",
       "      <td>0.0</td>\n",
       "      <td>0.0</td>\n",
       "      <td>0.0</td>\n",
       "      <td>0.0</td>\n",
       "      <td>0.000000</td>\n",
       "      <td>0.0</td>\n",
       "      <td>0.000000</td>\n",
       "      <td>0.0</td>\n",
       "      <td>0.000000</td>\n",
       "      <td>0.0</td>\n",
       "      <td>0.000000</td>\n",
       "      <td>0.997737</td>\n",
       "      <td>0.0</td>\n",
       "      <td>CBronte</td>\n",
       "    </tr>\n",
       "    <tr>\n",
       "      <th>Austen_Sense0038</th>\n",
       "      <td>0.0</td>\n",
       "      <td>0.99758</td>\n",
       "      <td>0.0</td>\n",
       "      <td>0.0</td>\n",
       "      <td>0.0</td>\n",
       "      <td>0.0</td>\n",
       "      <td>0.000000</td>\n",
       "      <td>0.0</td>\n",
       "      <td>0.000000</td>\n",
       "      <td>0.0</td>\n",
       "      <td>0.000000</td>\n",
       "      <td>0.0</td>\n",
       "      <td>0.000000</td>\n",
       "      <td>0.000000</td>\n",
       "      <td>0.0</td>\n",
       "      <td>Austen</td>\n",
       "    </tr>\n",
       "    <tr>\n",
       "      <th>Austen_Emma0133</th>\n",
       "      <td>0.0</td>\n",
       "      <td>0.00000</td>\n",
       "      <td>0.0</td>\n",
       "      <td>0.0</td>\n",
       "      <td>0.0</td>\n",
       "      <td>0.0</td>\n",
       "      <td>0.997516</td>\n",
       "      <td>0.0</td>\n",
       "      <td>0.000000</td>\n",
       "      <td>0.0</td>\n",
       "      <td>0.000000</td>\n",
       "      <td>0.0</td>\n",
       "      <td>0.000000</td>\n",
       "      <td>0.000000</td>\n",
       "      <td>0.0</td>\n",
       "      <td>Austen</td>\n",
       "    </tr>\n",
       "    <tr>\n",
       "      <th>CBronte_Jane0002</th>\n",
       "      <td>0.0</td>\n",
       "      <td>0.00000</td>\n",
       "      <td>0.0</td>\n",
       "      <td>0.0</td>\n",
       "      <td>0.0</td>\n",
       "      <td>0.0</td>\n",
       "      <td>0.000000</td>\n",
       "      <td>0.0</td>\n",
       "      <td>0.000000</td>\n",
       "      <td>0.0</td>\n",
       "      <td>0.571791</td>\n",
       "      <td>0.0</td>\n",
       "      <td>0.425865</td>\n",
       "      <td>0.000000</td>\n",
       "      <td>0.0</td>\n",
       "      <td>CBronte</td>\n",
       "    </tr>\n",
       "  </tbody>\n",
       "</table>\n",
       "</div>"
      ],
      "text/plain": [
       "                      harriet miss elton emma scatcherd  \\\n",
       "Austen_Pride0109                                    0.0   \n",
       "CBronte_Villette0114                                0.0   \n",
       "Austen_Sense0038                                    0.0   \n",
       "Austen_Emma0133                                     0.0   \n",
       "CBronte_Jane0002                                    0.0   \n",
       "\n",
       "                      elinor marianne sister edward dashwood  \\\n",
       "Austen_Pride0109                                     0.00000   \n",
       "CBronte_Villette0114                                 0.00000   \n",
       "Austen_Sense0038                                     0.99758   \n",
       "Austen_Emma0133                                      0.00000   \n",
       "CBronte_Jane0002                                     0.00000   \n",
       "\n",
       "                      harriet elton miss emma jane  \\\n",
       "Austen_Pride0109                               0.0   \n",
       "CBronte_Villette0114                           0.0   \n",
       "Austen_Sense0038                               0.0   \n",
       "Austen_Emma0133                                0.0   \n",
       "CBronte_Jane0002                               0.0   \n",
       "\n",
       "                      sir jane rochester shall love  \\\n",
       "Austen_Pride0109                                0.0   \n",
       "CBronte_Villette0114                            0.0   \n",
       "Austen_Sense0038                                0.0   \n",
       "Austen_Emma0133                                 0.0   \n",
       "CBronte_Jane0002                                0.0   \n",
       "\n",
       "                      john little know like good  \\\n",
       "Austen_Pride0109                             0.0   \n",
       "CBronte_Villette0114                         0.0   \n",
       "Austen_Sense0038                             0.0   \n",
       "Austen_Emma0133                              0.0   \n",
       "CBronte_Jane0002                             0.0   \n",
       "\n",
       "                      jane elizabeth miss bingley sister  \\\n",
       "Austen_Pride0109                                     0.0   \n",
       "CBronte_Villette0114                                 0.0   \n",
       "Austen_Sense0038                                     0.0   \n",
       "Austen_Emma0133                                      0.0   \n",
       "CBronte_Jane0002                                     0.0   \n",
       "\n",
       "                      emma miss thing know think  jane know man good miss  \\\n",
       "Austen_Pride0109                        0.000000                      0.0   \n",
       "CBronte_Villette0114                    0.000000                      0.0   \n",
       "Austen_Sense0038                        0.000000                      0.0   \n",
       "Austen_Emma0133                         0.997516                      0.0   \n",
       "CBronte_Jane0002                        0.000000                      0.0   \n",
       "\n",
       "                      elizabeth darcy bennet bingley jane  \\\n",
       "Austen_Pride0109                                 0.997301   \n",
       "CBronte_Villette0114                             0.000000   \n",
       "Austen_Sense0038                                 0.000000   \n",
       "Austen_Emma0133                                  0.000000   \n",
       "CBronte_Jane0002                                 0.000000   \n",
       "\n",
       "                      little house time day room  \\\n",
       "Austen_Pride0109                             0.0   \n",
       "CBronte_Villette0114                         0.0   \n",
       "Austen_Sense0038                             0.0   \n",
       "Austen_Emma0133                              0.0   \n",
       "CBronte_Jane0002                             0.0   \n",
       "\n",
       "                      bessie reed john georgiana like  \\\n",
       "Austen_Pride0109                             0.000000   \n",
       "CBronte_Villette0114                         0.000000   \n",
       "Austen_Sense0038                             0.000000   \n",
       "Austen_Emma0133                              0.000000   \n",
       "CBronte_Jane0002                             0.571791   \n",
       "\n",
       "                      like hunsden good little thought  \\\n",
       "Austen_Pride0109                                   0.0   \n",
       "CBronte_Villette0114                               0.0   \n",
       "Austen_Sense0038                                   0.0   \n",
       "Austen_Emma0133                                    0.0   \n",
       "CBronte_Jane0002                                   0.0   \n",
       "\n",
       "                      like night rochester door come  \\\n",
       "Austen_Pride0109                            0.000000   \n",
       "CBronte_Villette0114                        0.000000   \n",
       "Austen_Sense0038                            0.000000   \n",
       "Austen_Emma0133                             0.000000   \n",
       "CBronte_Jane0002                            0.425865   \n",
       "\n",
       "                      little like madame thought hand  \\\n",
       "Austen_Pride0109                             0.000000   \n",
       "CBronte_Villette0114                         0.997737   \n",
       "Austen_Sense0038                             0.000000   \n",
       "Austen_Emma0133                              0.000000   \n",
       "CBronte_Jane0002                             0.000000   \n",
       "\n",
       "                      graham polly bretton little sir   author  \n",
       "Austen_Pride0109                                  0.0   Austen  \n",
       "CBronte_Villette0114                              0.0  CBronte  \n",
       "Austen_Sense0038                                  0.0   Austen  \n",
       "Austen_Emma0133                                   0.0   Austen  \n",
       "CBronte_Jane0002                                  0.0  CBronte  "
      ]
     },
     "execution_count": 48,
     "metadata": {},
     "output_type": "execute_result"
    }
   ],
   "source": [
    "df.head()"
   ]
  },
  {
   "cell_type": "code",
   "execution_count": 49,
   "metadata": {},
   "outputs": [
    {
     "data": {
      "text/html": [
       "<div>\n",
       "<style scoped>\n",
       "    .dataframe tbody tr th:only-of-type {\n",
       "        vertical-align: middle;\n",
       "    }\n",
       "\n",
       "    .dataframe tbody tr th {\n",
       "        vertical-align: top;\n",
       "    }\n",
       "\n",
       "    .dataframe thead th {\n",
       "        text-align: right;\n",
       "    }\n",
       "</style>\n",
       "<table border=\"1\" class=\"dataframe\">\n",
       "  <thead>\n",
       "    <tr style=\"text-align: right;\">\n",
       "      <th></th>\n",
       "      <th>harriet miss elton emma scatcherd</th>\n",
       "      <th>elinor marianne sister edward dashwood</th>\n",
       "      <th>harriet elton miss emma jane</th>\n",
       "      <th>sir jane rochester shall love</th>\n",
       "      <th>john little know like good</th>\n",
       "      <th>jane elizabeth miss bingley sister</th>\n",
       "      <th>emma miss thing know think</th>\n",
       "      <th>jane know man good miss</th>\n",
       "      <th>elizabeth darcy bennet bingley jane</th>\n",
       "      <th>little house time day room</th>\n",
       "      <th>bessie reed john georgiana like</th>\n",
       "      <th>like hunsden good little thought</th>\n",
       "      <th>like night rochester door come</th>\n",
       "      <th>little like madame thought hand</th>\n",
       "      <th>graham polly bretton little sir</th>\n",
       "    </tr>\n",
       "    <tr>\n",
       "      <th>author</th>\n",
       "      <th></th>\n",
       "      <th></th>\n",
       "      <th></th>\n",
       "      <th></th>\n",
       "      <th></th>\n",
       "      <th></th>\n",
       "      <th></th>\n",
       "      <th></th>\n",
       "      <th></th>\n",
       "      <th></th>\n",
       "      <th></th>\n",
       "      <th></th>\n",
       "      <th></th>\n",
       "      <th></th>\n",
       "      <th></th>\n",
       "    </tr>\n",
       "  </thead>\n",
       "  <tbody>\n",
       "    <tr>\n",
       "      <th>Austen</th>\n",
       "      <td>0.005016</td>\n",
       "      <td>0.216153</td>\n",
       "      <td>0.074920</td>\n",
       "      <td>0.000424</td>\n",
       "      <td>0.004121</td>\n",
       "      <td>0.011434</td>\n",
       "      <td>0.376432</td>\n",
       "      <td>0.006290</td>\n",
       "      <td>0.282188</td>\n",
       "      <td>0.009106</td>\n",
       "      <td>0.005224</td>\n",
       "      <td>0.002296</td>\n",
       "      <td>0.002654</td>\n",
       "      <td>0.001141</td>\n",
       "      <td>0.000000</td>\n",
       "    </tr>\n",
       "    <tr>\n",
       "      <th>CBronte</th>\n",
       "      <td>0.002447</td>\n",
       "      <td>0.001725</td>\n",
       "      <td>0.000278</td>\n",
       "      <td>0.064434</td>\n",
       "      <td>0.088338</td>\n",
       "      <td>0.000891</td>\n",
       "      <td>0.018715</td>\n",
       "      <td>0.018737</td>\n",
       "      <td>0.004895</td>\n",
       "      <td>0.092857</td>\n",
       "      <td>0.035181</td>\n",
       "      <td>0.156845</td>\n",
       "      <td>0.188935</td>\n",
       "      <td>0.314925</td>\n",
       "      <td>0.008162</td>\n",
       "    </tr>\n",
       "  </tbody>\n",
       "</table>\n",
       "</div>"
      ],
      "text/plain": [
       "         harriet miss elton emma scatcherd  \\\n",
       "author                                       \n",
       "Austen                            0.005016   \n",
       "CBronte                           0.002447   \n",
       "\n",
       "         elinor marianne sister edward dashwood  harriet elton miss emma jane  \\\n",
       "author                                                                          \n",
       "Austen                                 0.216153                      0.074920   \n",
       "CBronte                                0.001725                      0.000278   \n",
       "\n",
       "         sir jane rochester shall love  john little know like good  \\\n",
       "author                                                               \n",
       "Austen                        0.000424                    0.004121   \n",
       "CBronte                       0.064434                    0.088338   \n",
       "\n",
       "         jane elizabeth miss bingley sister  emma miss thing know think  \\\n",
       "author                                                                    \n",
       "Austen                             0.011434                    0.376432   \n",
       "CBronte                            0.000891                    0.018715   \n",
       "\n",
       "         jane know man good miss  elizabeth darcy bennet bingley jane  \\\n",
       "author                                                                  \n",
       "Austen                  0.006290                             0.282188   \n",
       "CBronte                 0.018737                             0.004895   \n",
       "\n",
       "         little house time day room  bessie reed john georgiana like  \\\n",
       "author                                                                 \n",
       "Austen                     0.009106                         0.005224   \n",
       "CBronte                    0.092857                         0.035181   \n",
       "\n",
       "         like hunsden good little thought  like night rochester door come  \\\n",
       "author                                                                      \n",
       "Austen                           0.002296                        0.002654   \n",
       "CBronte                          0.156845                        0.188935   \n",
       "\n",
       "         little like madame thought hand  graham polly bretton little sir  \n",
       "author                                                                     \n",
       "Austen                          0.001141                         0.000000  \n",
       "CBronte                         0.314925                         0.008162  "
      ]
     },
     "execution_count": 49,
     "metadata": {},
     "output_type": "execute_result"
    }
   ],
   "source": [
    "df.groupby('author').mean()"
   ]
  },
  {
   "cell_type": "markdown",
   "metadata": {},
   "source": [
    "## Challenge\n",
    "### *Can we see if one of the authors focus more on men than women?*\n",
    "\n",
    "*  Use Spacy for text preprocessing\n",
    "*  Extract the Named Entities from the documents using Spacy (command is fairly straight forward)\n",
    "*  Create unique list of names from the authors (you'll find that there are different types of named entities not all people)\n",
    "*  Label the names with genders (can you this by hand or you use the US census name lists)\n",
    "*  Customize your processing to replace the proper name with your gender from the previous step's lookup table\n",
    "*  Then follow the rest of the LDA flow\n"
   ]
  },
  {
   "cell_type": "markdown",
   "metadata": {},
   "source": [
    "# Selecting the Number of Topics (Learn)\n",
    "<a id=\"#p4\"></a>"
   ]
  },
  {
   "cell_type": "markdown",
   "metadata": {},
   "source": [
    "## Overview"
   ]
  },
  {
   "cell_type": "markdown",
   "metadata": {},
   "source": [
    "## Follow Along"
   ]
  },
  {
   "cell_type": "code",
   "execution_count": 54,
   "metadata": {},
   "outputs": [],
   "source": [
    "from gensim.models.coherencemodel import CoherenceModel\n",
    "\n",
    "def compute_coherence_values(dictionary, corpus, limit, start=2, step=3, passes=5):\n",
    "    \"\"\"\n",
    "    Compute c_v coherence for various number of topics\n",
    "\n",
    "    Parameters:\n",
    "    ----------\n",
    "    dictionary : Gensim dictionary\n",
    "    corpus : Gensim corpus\n",
    "    limit : Max num of topics\n",
    "    passes: the number of times the entire lda model & coherence values are calculated\n",
    "\n",
    "    Returns:\n",
    "    -------\n",
    "    coherence_values : Coherence values corresponding to the LDA model with respective number of topics\n",
    "    \"\"\"\n",
    "    \n",
    "    coherence_values = []\n",
    "    \n",
    "    for iter_ in range(passes):\n",
    "        for num_topics in range(start, limit, step):\n",
    "            model = LdaMulticore(corpus=corpus, num_topics=num_topics, id2word=dictionary, workers=4)\n",
    "            coherencemodel = CoherenceModel(model=model,dictionary=dictionary,corpus=corpus, coherence='u_mass')\n",
    "            coherence_values.append({'pass': iter_, \n",
    "                                     'num_topics': num_topics, \n",
    "                                     'coherence_score': coherencemodel.get_coherence()\n",
    "                                    })\n",
    "\n",
    "    return coherence_values"
   ]
  },
  {
   "cell_type": "code",
   "execution_count": null,
   "metadata": {},
   "outputs": [],
   "source": [
    "# Can take a long time to run.\n",
    "coherence_values = compute_coherence_values(dictionary=id2word, \n",
    "                                                        corpus=corpus,\n",
    "                                                        start=2, \n",
    "                                                        limit=40, \n",
    "                                                        step=2,\n",
    "                                                        passes=10)"
   ]
  },
  {
   "cell_type": "code",
   "execution_count": 89,
   "metadata": {},
   "outputs": [],
   "source": [
    "topic_coherence = pd.DataFrame.from_records(coherence_values)"
   ]
  },
  {
   "cell_type": "code",
   "execution_count": null,
   "metadata": {},
   "outputs": [],
   "source": []
  },
  {
   "cell_type": "code",
   "execution_count": null,
   "metadata": {},
   "outputs": [],
   "source": [
    "topic_coherence.head()"
   ]
  },
  {
   "cell_type": "code",
   "execution_count": null,
   "metadata": {},
   "outputs": [],
   "source": [
    "import seaborn as sns\n",
    "\n",
    "ax = sns.lineplot(x=\"num_topics\", y=\"coherence_score\", data=topic_coherence)"
   ]
  },
  {
   "cell_type": "code",
   "execution_count": null,
   "metadata": {},
   "outputs": [],
   "source": [
    "# Print the coherence scores\n",
    "for m, cv in zip(x, coherence_values):\n",
    "    print(\"Num Topics =\", m, \" has Coherence Value of\", round(cv, 4))"
   ]
  },
  {
   "cell_type": "code",
   "execution_count": null,
   "metadata": {},
   "outputs": [],
   "source": [
    "lda[id2word.doc2bow(tokenize(\"This is a sample document to score with a topic distribution.\"))]"
   ]
  },
  {
   "cell_type": "markdown",
   "metadata": {},
   "source": [
    "# Sources\n",
    "\n",
    "### *References*\n",
    "* [Andrew Ng et al paper on LDA](https://ai.stanford.edu/~ang/papers/jair03-lda.pdf)\n",
    "* On [Coherence](https://pdfs.semanticscholar.org/1521/8d9c029cbb903ae7c729b2c644c24994c201.pdf)\n",
    "\n",
    "### *Resources*\n",
    "\n",
    "* [Gensim](https://radimrehurek.com/gensim/): Python package for topic modeling, nlp, word vectorization, and few other things. Well maintained and well documented.\n",
    "* [Topic Modeling with Gensim](http://www.machinelearningplus.com/nlp/topic-modeling-gensim-python/#11createthedictionaryandcorpusneededfortopicmodeling): A kind of cookbook for LDA with gensim. Excellent overview, but the you need to be aware of missing import statements and assumed prior knowledge.\n",
    "* [Chinese Restuarant Process](https://en.wikipedia.org/wiki/Chinese_restaurant_process): That really obscure stats thing I mentioned... \n",
    "* [PyLDAvis](https://github.com/bmabey/pyLDAvis): Library for visualizing the topic model and performing some exploratory work. Works well. Has a direct parrell implementation in R as well. \n",
    "* [Rare Technologies](https://rare-technologies.com/): The people that made & maintain gensim and a few other libraries.\n",
    "* [Jane Austen v. Charlotte Bronte](https://www.literaryladiesguide.com/literary-musings/jane-austen-charlotte-bronte-different-alike/)"
   ]
  }
 ],
 "metadata": {
  "kernelspec": {
   "display_name": "U4-S1-NLP (Python3)",
   "language": "python",
   "name": "u4-s1-nlp"
  },
  "language_info": {
   "codemirror_mode": {
    "name": "ipython",
    "version": 3
   },
   "file_extension": ".py",
   "mimetype": "text/x-python",
   "name": "python",
   "nbconvert_exporter": "python",
   "pygments_lexer": "ipython3",
   "version": "3.7.0"
  }
 },
 "nbformat": 4,
 "nbformat_minor": 4
}
