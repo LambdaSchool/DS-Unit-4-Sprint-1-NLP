{
 "cells": [
  {
   "cell_type": "markdown",
   "metadata": {},
   "source": [
    "Lambda School Data Science\n",
    "\n",
    "*Unit 4, Sprint 1, Module 4*\n",
    "\n",
    "---"
   ]
  },
  {
   "cell_type": "markdown",
   "metadata": {},
   "source": [
    "# Topic Modeling (Prepare)\n"
   ]
  },
  {
   "cell_type": "markdown",
   "metadata": {},
   "source": [
    "# Latent Dirchilet Allocation Models (Learn)\n",
    "<a id=\"#p1\"></a>"
   ]
  },
  {
   "cell_type": "markdown",
   "metadata": {},
   "source": [
    "## Overview\n",
    "LDA is a \"generative probabilistic model\". \n",
    "\n",
    "Let's play with a modoel available [here](https://lettier.com/projects/lda-topic-modeling/)"
   ]
  },
  {
   "cell_type": "markdown",
   "metadata": {},
   "source": [
    "## Follow Along"
   ]
  },
  {
   "cell_type": "markdown",
   "metadata": {},
   "source": [
    "## Challenge "
   ]
  },
  {
   "cell_type": "markdown",
   "metadata": {},
   "source": [
    "# Estimating LDA Models with Gensim (Learn)\n",
    "<a id=\"#p1\"></a>"
   ]
  },
  {
   "cell_type": "markdown",
   "metadata": {
    "toc-hr-collapsed": true
   },
   "source": [
    "## Overview\n",
    "### A Litterary Introduction: *Jane Austen V. Charlotte Bronte*\n",
    "Despite being born nearly forty years apart, modern fans often pit Jane Austen & Charlotte Bronte against one another in a battle for litterary  supremacy. The battle centers around the topics of education for women, courting, and marriage. The authors' similiar backgrounds naturally draw comparisons, but the modern fascination is probably due to novelility of British women publishing novels during the early 19th century. \n",
    "\n",
    "Can we help close a litterary battle for supremacy and simply acknowledge that the authors addressed different topics and deserve to be acknowledged as excellent authors each in their own right?\n",
    "\n",
    "We're going to apply Latent Dirichlet Allocation a machine learning alogrithm for topic modeling to each of the author's novels to compare the distribution of topics in their novels."
   ]
  },
  {
   "cell_type": "code",
   "execution_count": 2,
   "metadata": {},
   "outputs": [
    {
     "name": "stderr",
     "output_type": "stream",
     "text": [
      "/Users/jonathansokoll/anaconda3/envs/U4-S1-NLP/lib/python3.7/site-packages/scipy/sparse/sparsetools.py:21: DeprecationWarning: `scipy.sparse.sparsetools` is deprecated!\n",
      "scipy.sparse.sparsetools is a private module for scipy.sparse, and should not be used.\n",
      "  _deprecated()\n"
     ]
    }
   ],
   "source": [
    "import numpy as np\n",
    "import gensim\n",
    "import os\n",
    "import re\n",
    "\n",
    "from gensim.utils import simple_preprocess\n",
    "from gensim.parsing.preprocessing import STOPWORDS\n",
    "from gensim import corpora\n",
    "\n",
    "from gensim.models.ldamulticore import LdaMulticore\n",
    "\n",
    "import pandas as pd"
   ]
  },
  {
   "cell_type": "markdown",
   "metadata": {},
   "source": [
    "### Novel Data\n",
    "I grabbed the novel data pre-split into a bunch of smaller chuncks"
   ]
  },
  {
   "cell_type": "code",
   "execution_count": 65,
   "metadata": {},
   "outputs": [],
   "source": [
    "path = './data/austen-brontë-split'"
   ]
  },
  {
   "cell_type": "markdown",
   "metadata": {},
   "source": [
    "### Text Preprocessing\n",
    "**Activity**: update the function `tokenize` with any technique you have learned so far this week. "
   ]
  },
  {
   "cell_type": "code",
   "execution_count": null,
   "metadata": {},
   "outputs": [],
   "source": [
    "# 1) Plain Python - ''.split command\n",
    "# 2) Spacy - just the lemmas from the document\n",
    "# 3) Gensim - simple_preprocess\n",
    "\n",
    "def tokenize(text):\n",
    "    \"Complete this function\"\n",
    "    \n",
    "    return tokens"
   ]
  },
  {
   "cell_type": "code",
   "execution_count": 15,
   "metadata": {},
   "outputs": [],
   "source": [
    "import os\n",
    "\n",
    "def gather_data(path_to_data): \n",
    "    data = []\n",
    "    \n",
    "    for f in os.listdir(path):\n",
    "        if os.path.isdir(f) == False:\n",
    "            with open(os.path.join(path,f)) as t:\n",
    "                text = t.read().strip('\\n')\n",
    "                data.append(tokenize(str(text)))       \n",
    "    return data"
   ]
  },
  {
   "cell_type": "code",
   "execution_count": 16,
   "metadata": {},
   "outputs": [],
   "source": [
    "tokens = gather_data(path)"
   ]
  },
  {
   "cell_type": "code",
   "execution_count": 10,
   "metadata": {},
   "outputs": [
    {
     "data": {
      "text/plain": [
       "['she',\n",
       " 'found',\n",
       " 'that',\n",
       " 'he',\n",
       " 'was',\n",
       " 'only',\n",
       " 'giving',\n",
       " 'his',\n",
       " 'fair',\n",
       " 'companion']"
      ]
     },
     "execution_count": 10,
     "metadata": {},
     "output_type": "execute_result"
    }
   ],
   "source": [
    "tokens[0][0:10]"
   ]
  },
  {
   "cell_type": "code",
   "execution_count": 14,
   "metadata": {},
   "outputs": [
    {
     "data": {
      "text/plain": [
       "'this is a sample string with a  newline character'"
      ]
     },
     "execution_count": 14,
     "metadata": {},
     "output_type": "execute_result"
    }
   ],
   "source": [
    "\"this is a sample string with a \\n newline character\".replace('\\n', '')"
   ]
  },
  {
   "cell_type": "code",
   "execution_count": 12,
   "metadata": {},
   "outputs": [
    {
     "data": {
      "text/plain": [
       "Austen_Emma0026         [giving, fair, companion, account, yesterday, ...\n",
       "Austen_Emma0032         [feels, like, snow, place, party, try, day, di...\n",
       "CBronte_Villette0086    [pierced, opaque, blackness, stood, bougie, qu...\n",
       "CBronte_Jane0099        [joke, queer, looks, tell, thing, specially, s...\n",
       "CBronte_Villette0092    [second, landing, floor, comprising, abode, kn...\n",
       "Name: tokens, dtype: object"
      ]
     },
     "execution_count": 12,
     "metadata": {},
     "output_type": "execute_result"
    }
   ],
   "source": [
    "df['tokens'].head()"
   ]
  },
  {
   "cell_type": "markdown",
   "metadata": {
    "toc-hr-collapsed": true
   },
   "source": [
    "## Follow Along"
   ]
  },
  {
   "cell_type": "code",
   "execution_count": null,
   "metadata": {},
   "outputs": [],
   "source": []
  },
  {
   "cell_type": "code",
   "execution_count": 66,
   "metadata": {},
   "outputs": [],
   "source": [
    "titles = [t[:-4] for t in os.listdir(path) if os.path.isdir(t) == False]"
   ]
  },
  {
   "cell_type": "code",
   "execution_count": 67,
   "metadata": {},
   "outputs": [
    {
     "data": {
      "text/plain": [
       "813"
      ]
     },
     "execution_count": 67,
     "metadata": {},
     "output_type": "execute_result"
    }
   ],
   "source": [
    "len(titles)"
   ]
  },
  {
   "cell_type": "code",
   "execution_count": 13,
   "metadata": {},
   "outputs": [],
   "source": [
    "STOPWORDS = set(STOPWORDS).union(set(['said', 'mr', 'mrs']))\n",
    "\n",
    "def tokenize(text):\n",
    "    return [token for token in simple_preprocess(text) if token not in STOPWORDS]"
   ]
  },
  {
   "cell_type": "code",
   "execution_count": 14,
   "metadata": {},
   "outputs": [
    {
     "data": {
      "text/plain": [
       "['hello', 'world', 'test', 'tokenization', 'method']"
      ]
     },
     "execution_count": 14,
     "metadata": {},
     "output_type": "execute_result"
    }
   ],
   "source": [
    "tokenize(\"Hello World! This a test of the tokenization method\")"
   ]
  },
  {
   "cell_type": "code",
   "execution_count": 59,
   "metadata": {},
   "outputs": [
    {
     "data": {
      "text/plain": [
       "813"
      ]
     },
     "execution_count": 59,
     "metadata": {},
     "output_type": "execute_result"
    }
   ],
   "source": [
    "len(tokens)"
   ]
  },
  {
   "cell_type": "markdown",
   "metadata": {},
   "source": [
    "### Author DataFrame\n"
   ]
  },
  {
   "cell_type": "code",
   "execution_count": 68,
   "metadata": {},
   "outputs": [],
   "source": [
    "df = pd.DataFrame(index=titles, data={'tokens':tokens})"
   ]
  },
  {
   "cell_type": "code",
   "execution_count": 69,
   "metadata": {},
   "outputs": [
    {
     "data": {
      "text/html": [
       "<div>\n",
       "<style scoped>\n",
       "    .dataframe tbody tr th:only-of-type {\n",
       "        vertical-align: middle;\n",
       "    }\n",
       "\n",
       "    .dataframe tbody tr th {\n",
       "        vertical-align: top;\n",
       "    }\n",
       "\n",
       "    .dataframe thead th {\n",
       "        text-align: right;\n",
       "    }\n",
       "</style>\n",
       "<table border=\"1\" class=\"dataframe\">\n",
       "  <thead>\n",
       "    <tr style=\"text-align: right;\">\n",
       "      <th></th>\n",
       "      <th>tokens</th>\n",
       "    </tr>\n",
       "  </thead>\n",
       "  <tbody>\n",
       "    <tr>\n",
       "      <th>Austen_Emma0026</th>\n",
       "      <td>[giving, fair, companion, account, yesterday, ...</td>\n",
       "    </tr>\n",
       "    <tr>\n",
       "      <th>Austen_Emma0032</th>\n",
       "      <td>[feels, like, snow, place, party, try, day, di...</td>\n",
       "    </tr>\n",
       "    <tr>\n",
       "      <th>CBronte_Villette0086</th>\n",
       "      <td>[pierced, opaque, blackness, stood, bougie, qu...</td>\n",
       "    </tr>\n",
       "    <tr>\n",
       "      <th>CBronte_Jane0099</th>\n",
       "      <td>[joke, queer, looks, tell, thing, specially, s...</td>\n",
       "    </tr>\n",
       "    <tr>\n",
       "      <th>CBronte_Villette0092</th>\n",
       "      <td>[second, landing, floor, comprising, abode, kn...</td>\n",
       "    </tr>\n",
       "  </tbody>\n",
       "</table>\n",
       "</div>"
      ],
      "text/plain": [
       "                                                                 tokens\n",
       "Austen_Emma0026       [giving, fair, companion, account, yesterday, ...\n",
       "Austen_Emma0032       [feels, like, snow, place, party, try, day, di...\n",
       "CBronte_Villette0086  [pierced, opaque, blackness, stood, bougie, qu...\n",
       "CBronte_Jane0099      [joke, queer, looks, tell, thing, specially, s...\n",
       "CBronte_Villette0092  [second, landing, floor, comprising, abode, kn..."
      ]
     },
     "execution_count": 69,
     "metadata": {},
     "output_type": "execute_result"
    }
   ],
   "source": [
    "df.head()"
   ]
  },
  {
   "cell_type": "code",
   "execution_count": 14,
   "metadata": {},
   "outputs": [
    {
     "ename": "ValueError",
     "evalue": "invalid literal for int() with base 10: 'ckpo'",
     "output_type": "error",
     "traceback": [
      "\u001b[0;31m---------------------------------------------------------------------------\u001b[0m",
      "\u001b[0;31mValueError\u001b[0m                                Traceback (most recent call last)",
      "\u001b[0;32m<ipython-input-14-479ec7d14a6d>\u001b[0m in \u001b[0;36m<module>\u001b[0;34m\u001b[0m\n\u001b[0;32m----> 1\u001b[0;31m \u001b[0mdf\u001b[0m\u001b[0;34m[\u001b[0m\u001b[0;34m'section'\u001b[0m\u001b[0;34m]\u001b[0m\u001b[0;34m.\u001b[0m\u001b[0mastype\u001b[0m\u001b[0;34m(\u001b[0m\u001b[0;34m'int'\u001b[0m\u001b[0;34m)\u001b[0m\u001b[0;34m\u001b[0m\u001b[0;34m\u001b[0m\u001b[0m\n\u001b[0m",
      "\u001b[0;32m~/anaconda3/envs/U4-S1-NLP/lib/python3.7/site-packages/pandas/core/generic.py\u001b[0m in \u001b[0;36mastype\u001b[0;34m(self, dtype, copy, errors, **kwargs)\u001b[0m\n\u001b[1;32m   5689\u001b[0m             \u001b[0;31m# else, only a single dtype is given\u001b[0m\u001b[0;34m\u001b[0m\u001b[0;34m\u001b[0m\u001b[0;34m\u001b[0m\u001b[0m\n\u001b[1;32m   5690\u001b[0m             new_data = self._data.astype(dtype=dtype, copy=copy, errors=errors,\n\u001b[0;32m-> 5691\u001b[0;31m                                          **kwargs)\n\u001b[0m\u001b[1;32m   5692\u001b[0m             \u001b[0;32mreturn\u001b[0m \u001b[0mself\u001b[0m\u001b[0;34m.\u001b[0m\u001b[0m_constructor\u001b[0m\u001b[0;34m(\u001b[0m\u001b[0mnew_data\u001b[0m\u001b[0;34m)\u001b[0m\u001b[0;34m.\u001b[0m\u001b[0m__finalize__\u001b[0m\u001b[0;34m(\u001b[0m\u001b[0mself\u001b[0m\u001b[0;34m)\u001b[0m\u001b[0;34m\u001b[0m\u001b[0;34m\u001b[0m\u001b[0m\n\u001b[1;32m   5693\u001b[0m \u001b[0;34m\u001b[0m\u001b[0m\n",
      "\u001b[0;32m~/anaconda3/envs/U4-S1-NLP/lib/python3.7/site-packages/pandas/core/internals/managers.py\u001b[0m in \u001b[0;36mastype\u001b[0;34m(self, dtype, **kwargs)\u001b[0m\n\u001b[1;32m    529\u001b[0m \u001b[0;34m\u001b[0m\u001b[0m\n\u001b[1;32m    530\u001b[0m     \u001b[0;32mdef\u001b[0m \u001b[0mastype\u001b[0m\u001b[0;34m(\u001b[0m\u001b[0mself\u001b[0m\u001b[0;34m,\u001b[0m \u001b[0mdtype\u001b[0m\u001b[0;34m,\u001b[0m \u001b[0;34m**\u001b[0m\u001b[0mkwargs\u001b[0m\u001b[0;34m)\u001b[0m\u001b[0;34m:\u001b[0m\u001b[0;34m\u001b[0m\u001b[0;34m\u001b[0m\u001b[0m\n\u001b[0;32m--> 531\u001b[0;31m         \u001b[0;32mreturn\u001b[0m \u001b[0mself\u001b[0m\u001b[0;34m.\u001b[0m\u001b[0mapply\u001b[0m\u001b[0;34m(\u001b[0m\u001b[0;34m'astype'\u001b[0m\u001b[0;34m,\u001b[0m \u001b[0mdtype\u001b[0m\u001b[0;34m=\u001b[0m\u001b[0mdtype\u001b[0m\u001b[0;34m,\u001b[0m \u001b[0;34m**\u001b[0m\u001b[0mkwargs\u001b[0m\u001b[0;34m)\u001b[0m\u001b[0;34m\u001b[0m\u001b[0;34m\u001b[0m\u001b[0m\n\u001b[0m\u001b[1;32m    532\u001b[0m \u001b[0;34m\u001b[0m\u001b[0m\n\u001b[1;32m    533\u001b[0m     \u001b[0;32mdef\u001b[0m \u001b[0mconvert\u001b[0m\u001b[0;34m(\u001b[0m\u001b[0mself\u001b[0m\u001b[0;34m,\u001b[0m \u001b[0;34m**\u001b[0m\u001b[0mkwargs\u001b[0m\u001b[0;34m)\u001b[0m\u001b[0;34m:\u001b[0m\u001b[0;34m\u001b[0m\u001b[0;34m\u001b[0m\u001b[0m\n",
      "\u001b[0;32m~/anaconda3/envs/U4-S1-NLP/lib/python3.7/site-packages/pandas/core/internals/managers.py\u001b[0m in \u001b[0;36mapply\u001b[0;34m(self, f, axes, filter, do_integrity_check, consolidate, **kwargs)\u001b[0m\n\u001b[1;32m    393\u001b[0m                                             copy=align_copy)\n\u001b[1;32m    394\u001b[0m \u001b[0;34m\u001b[0m\u001b[0m\n\u001b[0;32m--> 395\u001b[0;31m             \u001b[0mapplied\u001b[0m \u001b[0;34m=\u001b[0m \u001b[0mgetattr\u001b[0m\u001b[0;34m(\u001b[0m\u001b[0mb\u001b[0m\u001b[0;34m,\u001b[0m \u001b[0mf\u001b[0m\u001b[0;34m)\u001b[0m\u001b[0;34m(\u001b[0m\u001b[0;34m**\u001b[0m\u001b[0mkwargs\u001b[0m\u001b[0;34m)\u001b[0m\u001b[0;34m\u001b[0m\u001b[0;34m\u001b[0m\u001b[0m\n\u001b[0m\u001b[1;32m    396\u001b[0m             \u001b[0mresult_blocks\u001b[0m \u001b[0;34m=\u001b[0m \u001b[0m_extend_blocks\u001b[0m\u001b[0;34m(\u001b[0m\u001b[0mapplied\u001b[0m\u001b[0;34m,\u001b[0m \u001b[0mresult_blocks\u001b[0m\u001b[0;34m)\u001b[0m\u001b[0;34m\u001b[0m\u001b[0;34m\u001b[0m\u001b[0m\n\u001b[1;32m    397\u001b[0m \u001b[0;34m\u001b[0m\u001b[0m\n",
      "\u001b[0;32m~/anaconda3/envs/U4-S1-NLP/lib/python3.7/site-packages/pandas/core/internals/blocks.py\u001b[0m in \u001b[0;36mastype\u001b[0;34m(self, dtype, copy, errors, values, **kwargs)\u001b[0m\n\u001b[1;32m    532\u001b[0m     \u001b[0;32mdef\u001b[0m \u001b[0mastype\u001b[0m\u001b[0;34m(\u001b[0m\u001b[0mself\u001b[0m\u001b[0;34m,\u001b[0m \u001b[0mdtype\u001b[0m\u001b[0;34m,\u001b[0m \u001b[0mcopy\u001b[0m\u001b[0;34m=\u001b[0m\u001b[0;32mFalse\u001b[0m\u001b[0;34m,\u001b[0m \u001b[0merrors\u001b[0m\u001b[0;34m=\u001b[0m\u001b[0;34m'raise'\u001b[0m\u001b[0;34m,\u001b[0m \u001b[0mvalues\u001b[0m\u001b[0;34m=\u001b[0m\u001b[0;32mNone\u001b[0m\u001b[0;34m,\u001b[0m \u001b[0;34m**\u001b[0m\u001b[0mkwargs\u001b[0m\u001b[0;34m)\u001b[0m\u001b[0;34m:\u001b[0m\u001b[0;34m\u001b[0m\u001b[0;34m\u001b[0m\u001b[0m\n\u001b[1;32m    533\u001b[0m         return self._astype(dtype, copy=copy, errors=errors, values=values,\n\u001b[0;32m--> 534\u001b[0;31m                             **kwargs)\n\u001b[0m\u001b[1;32m    535\u001b[0m \u001b[0;34m\u001b[0m\u001b[0m\n\u001b[1;32m    536\u001b[0m     def _astype(self, dtype, copy=False, errors='raise', values=None,\n",
      "\u001b[0;32m~/anaconda3/envs/U4-S1-NLP/lib/python3.7/site-packages/pandas/core/internals/blocks.py\u001b[0m in \u001b[0;36m_astype\u001b[0;34m(self, dtype, copy, errors, values, **kwargs)\u001b[0m\n\u001b[1;32m    631\u001b[0m \u001b[0;34m\u001b[0m\u001b[0m\n\u001b[1;32m    632\u001b[0m                     \u001b[0;31m# _astype_nansafe works fine with 1-d only\u001b[0m\u001b[0;34m\u001b[0m\u001b[0;34m\u001b[0m\u001b[0;34m\u001b[0m\u001b[0m\n\u001b[0;32m--> 633\u001b[0;31m                     \u001b[0mvalues\u001b[0m \u001b[0;34m=\u001b[0m \u001b[0mastype_nansafe\u001b[0m\u001b[0;34m(\u001b[0m\u001b[0mvalues\u001b[0m\u001b[0;34m.\u001b[0m\u001b[0mravel\u001b[0m\u001b[0;34m(\u001b[0m\u001b[0;34m)\u001b[0m\u001b[0;34m,\u001b[0m \u001b[0mdtype\u001b[0m\u001b[0;34m,\u001b[0m \u001b[0mcopy\u001b[0m\u001b[0;34m=\u001b[0m\u001b[0;32mTrue\u001b[0m\u001b[0;34m)\u001b[0m\u001b[0;34m\u001b[0m\u001b[0;34m\u001b[0m\u001b[0m\n\u001b[0m\u001b[1;32m    634\u001b[0m \u001b[0;34m\u001b[0m\u001b[0m\n\u001b[1;32m    635\u001b[0m                 \u001b[0;31m# TODO(extension)\u001b[0m\u001b[0;34m\u001b[0m\u001b[0;34m\u001b[0m\u001b[0;34m\u001b[0m\u001b[0m\n",
      "\u001b[0;32m~/anaconda3/envs/U4-S1-NLP/lib/python3.7/site-packages/pandas/core/dtypes/cast.py\u001b[0m in \u001b[0;36mastype_nansafe\u001b[0;34m(arr, dtype, copy, skipna)\u001b[0m\n\u001b[1;32m    681\u001b[0m         \u001b[0;31m# work around NumPy brokenness, #1987\u001b[0m\u001b[0;34m\u001b[0m\u001b[0;34m\u001b[0m\u001b[0;34m\u001b[0m\u001b[0m\n\u001b[1;32m    682\u001b[0m         \u001b[0;32mif\u001b[0m \u001b[0mnp\u001b[0m\u001b[0;34m.\u001b[0m\u001b[0missubdtype\u001b[0m\u001b[0;34m(\u001b[0m\u001b[0mdtype\u001b[0m\u001b[0;34m.\u001b[0m\u001b[0mtype\u001b[0m\u001b[0;34m,\u001b[0m \u001b[0mnp\u001b[0m\u001b[0;34m.\u001b[0m\u001b[0minteger\u001b[0m\u001b[0;34m)\u001b[0m\u001b[0;34m:\u001b[0m\u001b[0;34m\u001b[0m\u001b[0;34m\u001b[0m\u001b[0m\n\u001b[0;32m--> 683\u001b[0;31m             \u001b[0;32mreturn\u001b[0m \u001b[0mlib\u001b[0m\u001b[0;34m.\u001b[0m\u001b[0mastype_intsafe\u001b[0m\u001b[0;34m(\u001b[0m\u001b[0marr\u001b[0m\u001b[0;34m.\u001b[0m\u001b[0mravel\u001b[0m\u001b[0;34m(\u001b[0m\u001b[0;34m)\u001b[0m\u001b[0;34m,\u001b[0m \u001b[0mdtype\u001b[0m\u001b[0;34m)\u001b[0m\u001b[0;34m.\u001b[0m\u001b[0mreshape\u001b[0m\u001b[0;34m(\u001b[0m\u001b[0marr\u001b[0m\u001b[0;34m.\u001b[0m\u001b[0mshape\u001b[0m\u001b[0;34m)\u001b[0m\u001b[0;34m\u001b[0m\u001b[0;34m\u001b[0m\u001b[0m\n\u001b[0m\u001b[1;32m    684\u001b[0m \u001b[0;34m\u001b[0m\u001b[0m\n\u001b[1;32m    685\u001b[0m         \u001b[0;31m# if we have a datetime/timedelta array of objects\u001b[0m\u001b[0;34m\u001b[0m\u001b[0;34m\u001b[0m\u001b[0;34m\u001b[0m\u001b[0m\n",
      "\u001b[0;32mpandas/_libs/lib.pyx\u001b[0m in \u001b[0;36mpandas._libs.lib.astype_intsafe\u001b[0;34m()\u001b[0m\n",
      "\u001b[0;31mValueError\u001b[0m: invalid literal for int() with base 10: 'ckpo'"
     ]
    }
   ],
   "source": []
  },
  {
   "cell_type": "code",
   "execution_count": 65,
   "metadata": {},
   "outputs": [],
   "source": [
    "df['author'] = df.reset_index()['index'].apply(lambda x: x.split('_')[0]).tolist()\n",
    "df['book'] = df.reset_index()['index'].apply(lambda x: x.split('_')[1][:-4]).tolist()\n",
    "df['section'] = df.reset_index()['index'].apply(lambda x: x[-4:]).tolist()\n",
    "df['section'] = df['section'].astype('int')"
   ]
  },
  {
   "cell_type": "code",
   "execution_count": 66,
   "metadata": {},
   "outputs": [],
   "source": [
    "df['author'] = df['author'].map({'Austen':1, 'CBronte':0})"
   ]
  },
  {
   "cell_type": "code",
   "execution_count": 16,
   "metadata": {},
   "outputs": [
    {
     "data": {
      "text/plain": [
       "0.0    441\n",
       "1.0    372\n",
       "Name: author, dtype: int64"
      ]
     },
     "execution_count": 16,
     "metadata": {},
     "output_type": "execute_result"
    }
   ],
   "source": [
    "df.author.value_counts()"
   ]
  },
  {
   "cell_type": "markdown",
   "metadata": {},
   "source": [
    "### Streaming Documents\n",
    "Here we use a new pythonic thingy: the `yield` statement in our fucntion. This allows us to iterate over a bunch of documents without actually reading them into memory. You can see how we use this fucntion later on. "
   ]
  },
  {
   "cell_type": "code",
   "execution_count": 28,
   "metadata": {},
   "outputs": [],
   "source": [
    "def doc_stream(path):\n",
    "    for f in os.listdir(path):\n",
    "        if os.path.isdir(f) == False:\n",
    "            with open(os.path.join(path,f)) as t:\n",
    "                text = t.read().strip('\\n')\n",
    "                tokens = tokenize(str(text))\n",
    "                yield tokens"
   ]
  },
  {
   "cell_type": "code",
   "execution_count": 29,
   "metadata": {},
   "outputs": [],
   "source": [
    "streaming_data = doc_stream(path)"
   ]
  },
  {
   "cell_type": "code",
   "execution_count": 30,
   "metadata": {},
   "outputs": [
    {
     "data": {
      "text/plain": [
       "<generator object doc_stream at 0x1a21c23408>"
      ]
     },
     "execution_count": 30,
     "metadata": {},
     "output_type": "execute_result"
    }
   ],
   "source": []
  },
  {
   "cell_type": "code",
   "execution_count": null,
   "metadata": {},
   "outputs": [],
   "source": []
  },
  {
   "cell_type": "markdown",
   "metadata": {},
   "source": [
    "### Gensim LDA Topic Modeling"
   ]
  },
  {
   "cell_type": "code",
   "execution_count": 31,
   "metadata": {},
   "outputs": [],
   "source": [
    "# A Dictionary Representation of all the words in our corpus\n",
    "id2word = corpora.Dictionary(doc_stream(path))"
   ]
  },
  {
   "cell_type": "code",
   "execution_count": 34,
   "metadata": {},
   "outputs": [
    {
     "data": {
      "text/plain": [
       "932"
      ]
     },
     "execution_count": 34,
     "metadata": {},
     "output_type": "execute_result"
    }
   ],
   "source": [
    "id2word.token2id['jane']"
   ]
  },
  {
   "cell_type": "code",
   "execution_count": null,
   "metadata": {},
   "outputs": [],
   "source": []
  },
  {
   "cell_type": "code",
   "execution_count": 35,
   "metadata": {},
   "outputs": [
    {
     "data": {
      "text/plain": [
       "[(869, 3), (1254, 1), (2485, 1), (16850, 1)]"
      ]
     },
     "execution_count": 35,
     "metadata": {},
     "output_type": "execute_result"
    }
   ],
   "source": [
    "id2word.doc2bow(tokenize(\"This is a sample message Darcy England England England\"))"
   ]
  },
  {
   "cell_type": "code",
   "execution_count": 36,
   "metadata": {},
   "outputs": [
    {
     "data": {
      "text/plain": [
       "56"
      ]
     },
     "execution_count": 36,
     "metadata": {},
     "output_type": "execute_result"
    }
   ],
   "source": [
    "import sys\n",
    "sys.getsizeof(id2word)"
   ]
  },
  {
   "cell_type": "code",
   "execution_count": 37,
   "metadata": {},
   "outputs": [
    {
     "data": {
      "text/plain": [
       "22095"
      ]
     },
     "execution_count": 37,
     "metadata": {},
     "output_type": "execute_result"
    }
   ],
   "source": [
    "len(id2word.keys())"
   ]
  },
  {
   "cell_type": "code",
   "execution_count": 38,
   "metadata": {},
   "outputs": [],
   "source": [
    "# Let's remove extreme values from the dataset\n",
    "id2word.filter_extremes(no_below=20, no_above=0.85)"
   ]
  },
  {
   "cell_type": "code",
   "execution_count": 39,
   "metadata": {},
   "outputs": [
    {
     "data": {
      "text/plain": [
       "2880"
      ]
     },
     "execution_count": 39,
     "metadata": {},
     "output_type": "execute_result"
    }
   ],
   "source": [
    "len(id2word.keys())"
   ]
  },
  {
   "cell_type": "code",
   "execution_count": 40,
   "metadata": {},
   "outputs": [],
   "source": [
    "# a bag of words(bow) representation of our corpus\n",
    "# Note: we haven't actually read any text into memory here\n",
    "# Although abstracted away - tokenization IS happening in the doc_stream f(x)\n",
    "corpus = [id2word.doc2bow(text) for text in doc_stream(path)]"
   ]
  },
  {
   "cell_type": "code",
   "execution_count": null,
   "metadata": {},
   "outputs": [],
   "source": []
  },
  {
   "cell_type": "code",
   "execution_count": 43,
   "metadata": {},
   "outputs": [],
   "source": [
    "lda = LdaMulticore(corpus=corpus,\n",
    "                   id2word=id2word,\n",
    "                   random_state=723812,\n",
    "                   num_topics = 15,\n",
    "                   passes=10,\n",
    "                   workers=8\n",
    "                  )"
   ]
  },
  {
   "cell_type": "code",
   "execution_count": 44,
   "metadata": {},
   "outputs": [
    {
     "data": {
      "text/plain": [
       "[(0,\n",
       "  '0.018*\"elizabeth\" + 0.012*\"darcy\" + 0.008*\"bennet\" + 0.007*\"jane\" + 0.007*\"bingley\" + 0.007*\"miss\" + 0.006*\"know\" + 0.006*\"wickham\" + 0.006*\"sister\" + 0.006*\"soon\"'),\n",
       " (1,\n",
       "  '0.014*\"play\" + 0.009*\"la\" + 0.007*\"paul\" + 0.007*\"read\" + 0.007*\"fresh\" + 0.007*\"ring\" + 0.006*\"good\" + 0.006*\"answer\" + 0.006*\"shall\" + 0.006*\"man\"'),\n",
       " (2,\n",
       "  '0.020*\"elinor\" + 0.016*\"marianne\" + 0.008*\"sister\" + 0.008*\"edward\" + 0.007*\"mother\" + 0.007*\"dashwood\" + 0.007*\"time\" + 0.007*\"jennings\" + 0.006*\"willoughby\" + 0.006*\"know\"'),\n",
       " (3,\n",
       "  '0.036*\"rochester\" + 0.017*\"adele\" + 0.012*\"sir\" + 0.010*\"fairfax\" + 0.009*\"room\" + 0.009*\"yes\" + 0.007*\"house\" + 0.007*\"hall\" + 0.007*\"ll\" + 0.006*\"gentlemen\"'),\n",
       " (4,\n",
       "  '0.022*\"miss\" + 0.021*\"bessie\" + 0.018*\"reed\" + 0.010*\"little\" + 0.010*\"like\" + 0.008*\"think\" + 0.008*\"room\" + 0.007*\"sir\" + 0.007*\"georgiana\" + 0.007*\"child\"'),\n",
       " (5,\n",
       "  '0.021*\"bingley\" + 0.015*\"elizabeth\" + 0.013*\"bennet\" + 0.013*\"miss\" + 0.012*\"jane\" + 0.009*\"know\" + 0.008*\"sister\" + 0.008*\"good\" + 0.008*\"dear\" + 0.007*\"darcy\"'),\n",
       " (6,\n",
       "  '0.013*\"reed\" + 0.010*\"child\" + 0.009*\"aunt\" + 0.008*\"eyre\" + 0.008*\"madam\" + 0.006*\"think\" + 0.006*\"jane\" + 0.006*\"good\" + 0.005*\"like\" + 0.005*\"shall\"'),\n",
       " (7,\n",
       "  '0.015*\"little\" + 0.010*\"like\" + 0.006*\"john\" + 0.005*\"bretton\" + 0.005*\"eyes\" + 0.005*\"face\" + 0.005*\"good\" + 0.005*\"room\" + 0.004*\"took\" + 0.004*\"graham\"'),\n",
       " (8,\n",
       "  '0.016*\"know\" + 0.015*\"miss\" + 0.013*\"think\" + 0.013*\"jane\" + 0.010*\"like\" + 0.009*\"hear\" + 0.008*\"sure\" + 0.008*\"dear\" + 0.008*\"oh\" + 0.008*\"woodhouse\"'),\n",
       " (9,\n",
       "  '0.008*\"little\" + 0.007*\"like\" + 0.006*\"madame\" + 0.006*\"thought\" + 0.005*\"know\" + 0.005*\"good\" + 0.004*\"time\" + 0.004*\"day\" + 0.004*\"hand\" + 0.004*\"monsieur\"'),\n",
       " (10,\n",
       "  '0.018*\"emma\" + 0.015*\"miss\" + 0.013*\"weston\" + 0.010*\"jane\" + 0.010*\"thing\" + 0.009*\"woodhouse\" + 0.009*\"knightley\" + 0.009*\"bates\" + 0.008*\"frank\" + 0.008*\"fairfax\"'),\n",
       " (11,\n",
       "  '0.015*\"emma\" + 0.012*\"harriet\" + 0.011*\"miss\" + 0.009*\"think\" + 0.008*\"good\" + 0.008*\"elton\" + 0.007*\"thing\" + 0.007*\"little\" + 0.007*\"know\" + 0.007*\"weston\"'),\n",
       " (12,\n",
       "  '0.006*\"nature\" + 0.005*\"making\" + 0.005*\"brother\" + 0.004*\"little\" + 0.004*\"elder\" + 0.004*\"think\" + 0.004*\"edward\" + 0.003*\"old\" + 0.003*\"gentlemanlike\" + 0.003*\"anxious\"'),\n",
       " (13,\n",
       "  '0.022*\"hunsden\" + 0.010*\"crimsworth\" + 0.008*\"room\" + 0.008*\"like\" + 0.007*\"miss\" + 0.007*\"house\" + 0.006*\"frances\" + 0.006*\"place\" + 0.005*\"time\" + 0.005*\"ll\"'),\n",
       " (14,\n",
       "  '0.007*\"like\" + 0.007*\"jane\" + 0.006*\"long\" + 0.006*\"night\" + 0.006*\"sir\" + 0.005*\"thought\" + 0.005*\"little\" + 0.005*\"day\" + 0.005*\"time\" + 0.004*\"shall\"')]"
      ]
     },
     "execution_count": 44,
     "metadata": {},
     "output_type": "execute_result"
    }
   ],
   "source": [
    "lda.print_topics()"
   ]
  },
  {
   "cell_type": "code",
   "execution_count": null,
   "metadata": {},
   "outputs": [],
   "source": []
  },
  {
   "cell_type": "code",
   "execution_count": 45,
   "metadata": {},
   "outputs": [],
   "source": [
    "words = [re.findall(r'\"([^\"]*)\"',t[1]) for t in lda.print_topics()]"
   ]
  },
  {
   "cell_type": "code",
   "execution_count": 46,
   "metadata": {},
   "outputs": [],
   "source": [
    "topics = [' '.join(t[0:5]) for t in words]"
   ]
  },
  {
   "cell_type": "code",
   "execution_count": 47,
   "metadata": {},
   "outputs": [
    {
     "name": "stdout",
     "output_type": "stream",
     "text": [
      "elizabeth darcy bennet jane bingley\n",
      "\n",
      "\n",
      "play la paul read fresh\n",
      "\n",
      "\n",
      "elinor marianne sister edward mother\n",
      "\n",
      "\n",
      "rochester adele sir fairfax room\n",
      "\n",
      "\n",
      "miss bessie reed little like\n",
      "\n",
      "\n",
      "bingley elizabeth bennet miss jane\n",
      "\n",
      "\n",
      "reed child aunt eyre madam\n",
      "\n",
      "\n",
      "little like john bretton eyes\n",
      "\n",
      "\n",
      "know miss think jane like\n",
      "\n",
      "\n",
      "little like madame thought know\n",
      "\n",
      "\n",
      "emma miss weston jane thing\n",
      "\n",
      "\n",
      "emma harriet miss think good\n",
      "\n",
      "\n",
      "nature making brother little elder\n",
      "\n",
      "\n",
      "hunsden crimsworth room like miss\n",
      "\n",
      "\n",
      "like jane long night sir\n",
      "\n",
      "\n"
     ]
    }
   ],
   "source": [
    "for t in topics: \n",
    "    print(t)\n",
    "    print(\"\\n\")"
   ]
  },
  {
   "cell_type": "markdown",
   "metadata": {},
   "source": [
    "## Challenge \n",
    "\n",
    "You will apply an LDA model to a customer review dataset to practice the fitting and estimation of LDA. "
   ]
  },
  {
   "cell_type": "markdown",
   "metadata": {},
   "source": [
    "# Interpret LDA Results (Learn)\n",
    "<a id=\"#p3\"></a>"
   ]
  },
  {
   "cell_type": "markdown",
   "metadata": {},
   "source": [
    "## Overview"
   ]
  },
  {
   "cell_type": "markdown",
   "metadata": {
    "toc-hr-collapsed": true
   },
   "source": [
    "## Follow Along"
   ]
  },
  {
   "cell_type": "markdown",
   "metadata": {},
   "source": [
    "### Topic Distance Visualization"
   ]
  },
  {
   "cell_type": "code",
   "execution_count": 48,
   "metadata": {},
   "outputs": [],
   "source": [
    "import pyLDAvis.gensim\n",
    "\n",
    "pyLDAvis.enable_notebook()"
   ]
  },
  {
   "cell_type": "code",
   "execution_count": 49,
   "metadata": {},
   "outputs": [
    {
     "name": "stderr",
     "output_type": "stream",
     "text": [
      "/Users/jonathansokoll/anaconda3/envs/U4-S1-NLP/lib/python3.7/site-packages/pyLDAvis/_prepare.py:257: FutureWarning: Sorting because non-concatenation axis is not aligned. A future version\n",
      "of pandas will change to not sort by default.\n",
      "\n",
      "To accept the future behavior, pass 'sort=False'.\n",
      "\n",
      "To retain the current behavior and silence the warning, pass 'sort=True'.\n",
      "\n",
      "  return pd.concat([default_term_info] + list(topic_dfs))\n"
     ]
    },
    {
     "data": {
      "text/html": [
       "\n",
       "<link rel=\"stylesheet\" type=\"text/css\" href=\"https://cdn.rawgit.com/bmabey/pyLDAvis/files/ldavis.v1.0.0.css\">\n",
       "\n",
       "\n",
       "<div id=\"ldavis_el377241121584988883352745308\"></div>\n",
       "<script type=\"text/javascript\">\n",
       "\n",
       "var ldavis_el377241121584988883352745308_data = {\"mdsDat\": {\"x\": [0.06448619688271581, 0.08486300086311056, -0.0959173262397973, -0.07938013114174829, -0.09776090799824962, 0.09767938801150519, -0.10445770861447631, 0.057978538223530156, 0.017138611785322992, 0.08436347238606488, -0.11802413463149938, -0.08370663212187722, 0.0398100967343201, 0.10859639583157814, 0.024331140029500296], \"y\": [0.028349562689026695, -0.025541590037358126, 0.015233632142402191, 0.026089617547726943, 0.030118298979788516, -0.008523360294707667, -0.023020614465654766, -0.046340602075705166, -0.08343478684587766, -0.1197681262799067, 0.016862191924101027, -0.040675734207555186, 0.03201075789930481, 0.14172385157319506, 0.056916901451219755], \"topics\": [1, 2, 3, 4, 5, 6, 7, 8, 9, 10, 11, 12, 13, 14, 15], \"cluster\": [1, 1, 1, 1, 1, 1, 1, 1, 1, 1, 1, 1, 1, 1, 1], \"Freq\": [23.693870544433594, 16.64566993713379, 14.838420867919922, 13.486469268798828, 12.512310981750488, 5.084409236907959, 4.916125297546387, 2.3943674564361572, 2.147686004638672, 1.7084002494812012, 1.2060965299606323, 0.9756879210472107, 0.21435539424419403, 0.14634858071804047, 0.029782656580209732]}, \"tinfo\": {\"Category\": [\"Default\", \"Default\", \"Default\", \"Default\", \"Default\", \"Default\", \"Default\", \"Default\", \"Default\", \"Default\", \"Default\", \"Default\", \"Default\", \"Default\", \"Default\", \"Default\", \"Default\", \"Default\", \"Default\", \"Default\", \"Default\", \"Default\", \"Default\", \"Default\", \"Default\", \"Default\", \"Default\", \"Default\", \"Default\", \"Default\", \"Topic1\", \"Topic1\", \"Topic1\", \"Topic1\", \"Topic1\", \"Topic1\", \"Topic1\", \"Topic1\", \"Topic1\", \"Topic1\", \"Topic1\", \"Topic1\", \"Topic1\", \"Topic1\", \"Topic1\", \"Topic1\", \"Topic1\", \"Topic1\", \"Topic1\", \"Topic1\", \"Topic1\", \"Topic1\", \"Topic1\", \"Topic1\", \"Topic1\", \"Topic1\", \"Topic1\", \"Topic1\", \"Topic1\", \"Topic1\", \"Topic1\", \"Topic1\", \"Topic1\", \"Topic1\", \"Topic1\", \"Topic1\", \"Topic1\", \"Topic1\", \"Topic1\", \"Topic1\", \"Topic1\", \"Topic1\", \"Topic1\", \"Topic1\", \"Topic1\", \"Topic1\", \"Topic1\", \"Topic1\", \"Topic1\", \"Topic1\", \"Topic1\", \"Topic1\", \"Topic1\", \"Topic1\", \"Topic1\", \"Topic1\", \"Topic1\", \"Topic1\", \"Topic1\", \"Topic1\", \"Topic1\", \"Topic1\", \"Topic1\", \"Topic1\", \"Topic2\", \"Topic2\", \"Topic2\", \"Topic2\", \"Topic2\", \"Topic2\", \"Topic2\", \"Topic2\", \"Topic2\", \"Topic2\", \"Topic2\", \"Topic2\", \"Topic2\", \"Topic2\", \"Topic2\", \"Topic2\", \"Topic2\", \"Topic2\", \"Topic2\", \"Topic2\", \"Topic2\", \"Topic2\", \"Topic2\", \"Topic2\", \"Topic2\", \"Topic2\", \"Topic2\", \"Topic2\", \"Topic2\", \"Topic2\", \"Topic2\", \"Topic2\", \"Topic2\", \"Topic2\", \"Topic2\", \"Topic2\", \"Topic2\", \"Topic2\", \"Topic2\", \"Topic2\", \"Topic2\", \"Topic2\", \"Topic2\", \"Topic2\", \"Topic2\", \"Topic2\", \"Topic2\", \"Topic2\", \"Topic2\", \"Topic2\", \"Topic2\", \"Topic2\", \"Topic2\", \"Topic2\", \"Topic2\", \"Topic2\", \"Topic2\", \"Topic2\", \"Topic2\", \"Topic2\", \"Topic2\", \"Topic2\", \"Topic2\", \"Topic2\", \"Topic2\", \"Topic2\", \"Topic2\", \"Topic2\", \"Topic2\", \"Topic2\", \"Topic2\", \"Topic2\", \"Topic2\", \"Topic2\", \"Topic2\", \"Topic2\", \"Topic2\", \"Topic2\", \"Topic3\", \"Topic3\", \"Topic3\", \"Topic3\", \"Topic3\", \"Topic3\", \"Topic3\", \"Topic3\", \"Topic3\", \"Topic3\", \"Topic3\", \"Topic3\", \"Topic3\", \"Topic3\", \"Topic3\", \"Topic3\", \"Topic3\", \"Topic3\", \"Topic3\", \"Topic3\", \"Topic3\", \"Topic3\", \"Topic3\", \"Topic3\", \"Topic3\", \"Topic3\", \"Topic3\", \"Topic3\", \"Topic3\", \"Topic3\", \"Topic3\", \"Topic3\", \"Topic3\", \"Topic3\", \"Topic3\", \"Topic3\", \"Topic3\", \"Topic3\", \"Topic3\", \"Topic3\", \"Topic3\", \"Topic3\", \"Topic3\", \"Topic3\", \"Topic3\", \"Topic3\", \"Topic3\", \"Topic3\", \"Topic3\", \"Topic3\", \"Topic3\", \"Topic3\", \"Topic3\", \"Topic3\", \"Topic3\", \"Topic3\", \"Topic3\", \"Topic3\", \"Topic3\", \"Topic3\", \"Topic4\", \"Topic4\", \"Topic4\", \"Topic4\", \"Topic4\", \"Topic4\", \"Topic4\", \"Topic4\", \"Topic4\", \"Topic4\", \"Topic4\", \"Topic4\", \"Topic4\", \"Topic4\", \"Topic4\", \"Topic4\", \"Topic4\", \"Topic4\", \"Topic4\", \"Topic4\", \"Topic4\", \"Topic4\", \"Topic4\", \"Topic4\", \"Topic4\", \"Topic4\", \"Topic4\", \"Topic4\", \"Topic4\", \"Topic4\", \"Topic4\", \"Topic4\", \"Topic4\", \"Topic4\", \"Topic4\", \"Topic4\", \"Topic4\", \"Topic4\", \"Topic4\", \"Topic4\", \"Topic4\", \"Topic4\", \"Topic4\", \"Topic4\", \"Topic4\", \"Topic4\", \"Topic4\", \"Topic4\", \"Topic4\", \"Topic4\", \"Topic4\", \"Topic4\", \"Topic4\", \"Topic4\", \"Topic4\", \"Topic4\", \"Topic4\", \"Topic4\", \"Topic5\", \"Topic5\", \"Topic5\", \"Topic5\", \"Topic5\", \"Topic5\", \"Topic5\", \"Topic5\", \"Topic5\", \"Topic5\", \"Topic5\", \"Topic5\", \"Topic5\", \"Topic5\", \"Topic5\", \"Topic5\", \"Topic5\", \"Topic5\", \"Topic5\", \"Topic5\", \"Topic5\", \"Topic5\", \"Topic5\", \"Topic5\", \"Topic5\", \"Topic5\", \"Topic5\", \"Topic5\", \"Topic5\", \"Topic5\", \"Topic5\", \"Topic5\", \"Topic5\", \"Topic5\", \"Topic5\", \"Topic5\", \"Topic5\", \"Topic5\", \"Topic5\", \"Topic5\", \"Topic5\", \"Topic5\", \"Topic5\", \"Topic5\", \"Topic5\", \"Topic5\", \"Topic5\", \"Topic5\", \"Topic5\", \"Topic5\", \"Topic5\", \"Topic5\", \"Topic5\", \"Topic5\", \"Topic5\", \"Topic6\", \"Topic6\", \"Topic6\", \"Topic6\", \"Topic6\", \"Topic6\", \"Topic6\", \"Topic6\", \"Topic6\", \"Topic6\", \"Topic6\", \"Topic6\", \"Topic6\", \"Topic6\", \"Topic6\", \"Topic6\", \"Topic6\", \"Topic6\", \"Topic6\", \"Topic6\", \"Topic6\", \"Topic6\", \"Topic6\", \"Topic6\", \"Topic6\", \"Topic6\", \"Topic6\", \"Topic6\", \"Topic6\", \"Topic6\", \"Topic6\", \"Topic6\", \"Topic6\", \"Topic6\", \"Topic6\", \"Topic6\", \"Topic6\", \"Topic6\", \"Topic6\", \"Topic6\", \"Topic6\", \"Topic6\", \"Topic6\", \"Topic6\", \"Topic6\", \"Topic6\", \"Topic6\", \"Topic6\", \"Topic6\", \"Topic6\", \"Topic6\", \"Topic6\", \"Topic6\", \"Topic6\", \"Topic6\", \"Topic6\", \"Topic6\", \"Topic6\", \"Topic6\", \"Topic6\", \"Topic6\", \"Topic6\", \"Topic6\", \"Topic7\", \"Topic7\", \"Topic7\", \"Topic7\", \"Topic7\", \"Topic7\", \"Topic7\", \"Topic7\", \"Topic7\", \"Topic7\", \"Topic7\", \"Topic7\", \"Topic7\", \"Topic7\", \"Topic7\", \"Topic7\", \"Topic7\", \"Topic7\", \"Topic7\", \"Topic7\", \"Topic7\", \"Topic7\", \"Topic7\", \"Topic7\", \"Topic7\", \"Topic7\", \"Topic7\", \"Topic7\", \"Topic7\", \"Topic7\", \"Topic7\", \"Topic7\", \"Topic7\", \"Topic7\", \"Topic7\", \"Topic7\", \"Topic7\", \"Topic7\", \"Topic7\", \"Topic7\", \"Topic7\", \"Topic7\", \"Topic7\", \"Topic7\", \"Topic7\", \"Topic7\", \"Topic7\", \"Topic7\", \"Topic7\", \"Topic7\", \"Topic7\", \"Topic7\", \"Topic7\", \"Topic7\", \"Topic7\", \"Topic7\", \"Topic8\", \"Topic8\", \"Topic8\", \"Topic8\", \"Topic8\", \"Topic8\", \"Topic8\", \"Topic8\", \"Topic8\", \"Topic8\", \"Topic8\", \"Topic8\", \"Topic8\", \"Topic8\", \"Topic8\", \"Topic8\", \"Topic8\", \"Topic8\", \"Topic8\", \"Topic8\", \"Topic8\", \"Topic8\", \"Topic8\", \"Topic8\", \"Topic8\", \"Topic8\", \"Topic8\", \"Topic8\", \"Topic8\", \"Topic8\", \"Topic8\", \"Topic8\", \"Topic8\", \"Topic8\", \"Topic8\", \"Topic8\", \"Topic8\", \"Topic8\", \"Topic8\", \"Topic8\", \"Topic8\", \"Topic8\", \"Topic8\", \"Topic8\", \"Topic8\", \"Topic8\", \"Topic8\", \"Topic8\", \"Topic8\", \"Topic8\", \"Topic8\", \"Topic8\", \"Topic8\", \"Topic8\", \"Topic8\", \"Topic8\", \"Topic8\", \"Topic8\", \"Topic8\", \"Topic8\", \"Topic8\", \"Topic8\", \"Topic8\", \"Topic8\", \"Topic8\", \"Topic9\", \"Topic9\", \"Topic9\", \"Topic9\", \"Topic9\", \"Topic9\", \"Topic9\", \"Topic9\", \"Topic9\", \"Topic9\", \"Topic9\", \"Topic9\", \"Topic9\", \"Topic9\", \"Topic9\", \"Topic9\", \"Topic9\", \"Topic9\", \"Topic9\", \"Topic9\", \"Topic9\", \"Topic9\", \"Topic9\", \"Topic9\", \"Topic9\", \"Topic9\", \"Topic9\", \"Topic9\", \"Topic9\", \"Topic9\", \"Topic9\", \"Topic9\", \"Topic9\", \"Topic9\", \"Topic9\", \"Topic9\", \"Topic9\", \"Topic9\", \"Topic9\", \"Topic9\", \"Topic9\", \"Topic9\", \"Topic9\", \"Topic9\", \"Topic9\", \"Topic9\", \"Topic9\", \"Topic9\", \"Topic9\", \"Topic9\", \"Topic9\", \"Topic9\", \"Topic9\", \"Topic9\", \"Topic9\", \"Topic9\", \"Topic9\", \"Topic9\", \"Topic9\", \"Topic9\", \"Topic9\", \"Topic9\", \"Topic9\", \"Topic10\", \"Topic10\", \"Topic10\", \"Topic10\", \"Topic10\", \"Topic10\", \"Topic10\", \"Topic10\", \"Topic10\", \"Topic10\", \"Topic10\", \"Topic10\", \"Topic10\", \"Topic10\", \"Topic10\", \"Topic10\", \"Topic10\", \"Topic10\", \"Topic10\", \"Topic10\", \"Topic10\", \"Topic10\", \"Topic10\", \"Topic10\", \"Topic10\", \"Topic10\", \"Topic10\", \"Topic10\", \"Topic10\", \"Topic10\", \"Topic10\", \"Topic10\", \"Topic10\", \"Topic10\", \"Topic10\", \"Topic10\", \"Topic10\", \"Topic10\", \"Topic10\", \"Topic10\", \"Topic10\", \"Topic10\", \"Topic10\", \"Topic10\", \"Topic10\", \"Topic10\", \"Topic10\", \"Topic10\", \"Topic10\", \"Topic10\", \"Topic10\", \"Topic10\", \"Topic10\", \"Topic10\", \"Topic10\", \"Topic11\", \"Topic11\", \"Topic11\", \"Topic11\", \"Topic11\", \"Topic11\", \"Topic11\", \"Topic11\", \"Topic11\", \"Topic11\", \"Topic11\", \"Topic11\", \"Topic11\", \"Topic11\", \"Topic11\", \"Topic11\", \"Topic11\", \"Topic11\", \"Topic11\", \"Topic11\", \"Topic11\", \"Topic11\", \"Topic11\", \"Topic11\", \"Topic11\", \"Topic11\", \"Topic11\", \"Topic11\", \"Topic11\", \"Topic11\", \"Topic11\", \"Topic11\", \"Topic11\", \"Topic11\", \"Topic11\", \"Topic11\", \"Topic11\", \"Topic11\", \"Topic11\", \"Topic11\", \"Topic11\", \"Topic11\", \"Topic11\", \"Topic11\", \"Topic11\", \"Topic11\", \"Topic11\", \"Topic11\", \"Topic11\", \"Topic11\", \"Topic11\", \"Topic11\", \"Topic11\", \"Topic11\", \"Topic11\", \"Topic11\", \"Topic11\", \"Topic11\", \"Topic11\", \"Topic11\", \"Topic11\", \"Topic11\", \"Topic11\", \"Topic11\", \"Topic11\", \"Topic11\", \"Topic11\", \"Topic12\", \"Topic12\", \"Topic12\", \"Topic12\", \"Topic12\", \"Topic12\", \"Topic12\", \"Topic12\", \"Topic12\", \"Topic12\", \"Topic12\", \"Topic12\", \"Topic12\", \"Topic12\", \"Topic12\", \"Topic12\", \"Topic12\", \"Topic12\", \"Topic12\", \"Topic12\", \"Topic12\", \"Topic12\", \"Topic12\", \"Topic12\", \"Topic12\", \"Topic12\", \"Topic12\", \"Topic12\", \"Topic12\", \"Topic12\", \"Topic12\", \"Topic12\", \"Topic12\", \"Topic12\", \"Topic12\", \"Topic12\", \"Topic12\", \"Topic12\", \"Topic12\", \"Topic12\", \"Topic12\", \"Topic12\", \"Topic12\", \"Topic12\", \"Topic12\", \"Topic12\", \"Topic12\", \"Topic12\", \"Topic12\", \"Topic12\", \"Topic12\", \"Topic12\", \"Topic12\", \"Topic12\", \"Topic12\", \"Topic12\", \"Topic12\", \"Topic12\", \"Topic12\", \"Topic12\", \"Topic12\", \"Topic12\", \"Topic13\", \"Topic13\", \"Topic13\", \"Topic13\", \"Topic13\", \"Topic13\", \"Topic13\", \"Topic13\", \"Topic13\", \"Topic13\", \"Topic13\", \"Topic13\", \"Topic13\", \"Topic13\", \"Topic13\", \"Topic13\", \"Topic13\", \"Topic13\", \"Topic13\", \"Topic13\", \"Topic13\", \"Topic13\", \"Topic13\", \"Topic13\", \"Topic13\", \"Topic13\", \"Topic13\", \"Topic13\", \"Topic13\", \"Topic13\", \"Topic13\", \"Topic13\", \"Topic13\", \"Topic13\", \"Topic13\", \"Topic13\", \"Topic13\", \"Topic13\", \"Topic13\", \"Topic13\", \"Topic13\", \"Topic13\", \"Topic13\", \"Topic13\", \"Topic13\", \"Topic13\", \"Topic13\", \"Topic13\", \"Topic13\", \"Topic13\", \"Topic13\", \"Topic13\", \"Topic13\", \"Topic13\", \"Topic13\", \"Topic13\", \"Topic13\", \"Topic13\", \"Topic13\", \"Topic13\", \"Topic13\", \"Topic13\", \"Topic13\", \"Topic13\", \"Topic13\", \"Topic13\", \"Topic14\", \"Topic14\", \"Topic14\", \"Topic14\", \"Topic14\", \"Topic14\", \"Topic14\", \"Topic14\", \"Topic14\", \"Topic14\", \"Topic14\", \"Topic14\", \"Topic14\", \"Topic14\", \"Topic14\", \"Topic14\", \"Topic14\", \"Topic14\", \"Topic14\", \"Topic14\", \"Topic14\", \"Topic14\", \"Topic14\", \"Topic14\", \"Topic14\", \"Topic14\", \"Topic14\", \"Topic14\", \"Topic14\", \"Topic14\", \"Topic14\", \"Topic14\", \"Topic14\", \"Topic14\", \"Topic14\", \"Topic14\", \"Topic14\", \"Topic14\", \"Topic14\", \"Topic14\", \"Topic14\", \"Topic14\", \"Topic14\", \"Topic14\", \"Topic14\", \"Topic14\", \"Topic14\", \"Topic14\", \"Topic14\", \"Topic14\", \"Topic14\", \"Topic14\", \"Topic14\", \"Topic14\", \"Topic14\", \"Topic14\", \"Topic14\", \"Topic14\", \"Topic14\", \"Topic14\", \"Topic14\", \"Topic14\", \"Topic14\", \"Topic14\", \"Topic15\", \"Topic15\", \"Topic15\", \"Topic15\", \"Topic15\", \"Topic15\", \"Topic15\", \"Topic15\", \"Topic15\", \"Topic15\", \"Topic15\", \"Topic15\", \"Topic15\", \"Topic15\", \"Topic15\", \"Topic15\", \"Topic15\", \"Topic15\", \"Topic15\", \"Topic15\", \"Topic15\", \"Topic15\", \"Topic15\", \"Topic15\", \"Topic15\", \"Topic15\", \"Topic15\", \"Topic15\", \"Topic15\", \"Topic15\", \"Topic15\", \"Topic15\", \"Topic15\", \"Topic15\", \"Topic15\", \"Topic15\", \"Topic15\", \"Topic15\", \"Topic15\", \"Topic15\", \"Topic15\", \"Topic15\", \"Topic15\", \"Topic15\", \"Topic15\", \"Topic15\"], \"Freq\": [1523.0, 1727.0, 940.0, 1440.0, 1313.0, 840.0, 650.0, 1356.0, 1338.0, 694.0, 574.0, 376.0, 935.0, 1327.0, 898.0, 297.0, 1151.0, 950.0, 587.0, 422.0, 909.0, 786.0, 673.0, 615.0, 593.0, 623.0, 321.0, 934.0, 313.0, 603.0, 45.749855041503906, 108.44380950927734, 52.615135192871094, 73.63139343261719, 77.63939666748047, 35.44558334350586, 376.8221740722656, 33.35298538208008, 19.681703567504883, 36.59833908081055, 66.26514434814453, 139.94589233398438, 97.15546417236328, 44.75975799560547, 76.51630401611328, 145.88182067871094, 97.54380798339844, 17.857065200805664, 93.33859252929688, 37.696475982666016, 234.807861328125, 28.348773956298828, 60.712257385253906, 51.761226654052734, 191.71836853027344, 56.602535247802734, 83.88571166992188, 52.218196868896484, 51.98661422729492, 17.741840362548828, 184.42550659179688, 139.58340454101562, 165.4438018798828, 75.54656982421875, 86.51981353759766, 150.8816680908203, 136.8068084716797, 190.04330444335938, 251.94512939453125, 424.18682861328125, 500.775390625, 363.3950500488281, 168.28469848632812, 95.52095794677734, 213.53604125976562, 323.63433837890625, 326.0677185058594, 192.89987182617188, 175.95318603515625, 255.37844848632812, 201.39303588867188, 182.18040466308594, 191.26583862304688, 261.21539306640625, 201.26644897460938, 212.0200653076172, 234.53024291992188, 187.280517578125, 170.59425354003906, 199.060546875, 163.67860412597656, 163.83230590820312, 162.63082885742188, 165.06361389160156, 32.7320442199707, 26.071565628051758, 46.87163543701172, 36.75740432739258, 63.6240234375, 41.43865966796875, 25.391624450683594, 22.02061653137207, 25.709211349487305, 19.19668960571289, 60.11952209472656, 27.772844314575195, 22.518747329711914, 45.662940979003906, 18.571819305419922, 20.76373863220215, 22.909637451171875, 46.85570526123047, 74.9900131225586, 21.561630249023438, 36.996158599853516, 69.60938262939453, 16.591724395751953, 68.33724975585938, 69.12061309814453, 28.82529640197754, 17.851709365844727, 24.37366485595703, 23.597442626953125, 22.19544792175293, 50.515567779541016, 71.86810302734375, 114.89881896972656, 39.63490295410156, 66.96894073486328, 58.572998046875, 122.25383758544922, 182.515869140625, 62.356300354003906, 259.5316467285156, 74.88546752929688, 240.42169189453125, 110.86368560791016, 290.3656921386719, 112.22189331054688, 266.24639892578125, 89.39111328125, 100.57369232177734, 304.1690368652344, 97.1832275390625, 164.12127685546875, 190.36590576171875, 171.03846740722656, 120.66217041015625, 98.52342987060547, 176.47103881835938, 125.5470199584961, 219.123779296875, 225.63824462890625, 162.76358032226562, 163.1009521484375, 184.7671356201172, 193.93423461914062, 120.2495346069336, 140.0925750732422, 209.93922424316406, 130.0172119140625, 176.44676208496094, 166.5562744140625, 163.15623474121094, 223.3855743408203, 144.6392059326172, 176.31544494628906, 143.48721313476562, 141.02757263183594, 152.59068298339844, 131.89659118652344, 133.2095184326172, 79.303955078125, 448.8917541503906, 96.82073211669922, 29.08521842956543, 291.23773193359375, 23.180204391479492, 110.94596099853516, 48.09548568725586, 591.9505004882812, 78.63605499267578, 257.0616455078125, 20.55951499938965, 23.204011917114258, 19.675575256347656, 262.1709289550781, 18.73215103149414, 13.673904418945312, 21.99188232421875, 12.443263053894043, 32.40214157104492, 121.49836730957031, 31.169179916381836, 11.099699974060059, 165.91172790527344, 21.283618927001953, 147.24960327148438, 25.030437469482422, 15.630973815917969, 24.534427642822266, 11.991931915283203, 21.50339126586914, 43.486167907714844, 112.3388442993164, 53.46086502075195, 175.9430389404297, 288.5511169433594, 54.40049362182617, 194.4559783935547, 422.7596740722656, 171.57786560058594, 130.59495544433594, 334.6039733886719, 324.4208984375, 238.26438903808594, 169.57716369628906, 178.72865295410156, 208.14476013183594, 152.66030883789062, 277.6546630859375, 118.03349304199219, 132.81605529785156, 282.67132568359375, 226.6313934326172, 207.09410095214844, 174.1359100341797, 148.15249633789062, 160.29196166992188, 156.24244689941406, 160.5559539794922, 134.70196533203125, 569.7720947265625, 687.13623046875, 217.28977966308594, 252.88653564453125, 230.4129180908203, 89.40216064453125, 102.2367935180664, 143.81422424316406, 53.142738342285156, 38.057247161865234, 36.05928039550781, 122.01131439208984, 45.52547073364258, 70.6454086303711, 281.0946044921875, 63.85140609741211, 17.140039443969727, 16.943513870239258, 23.272682189941406, 15.421250343322754, 176.64764404296875, 13.632952690124512, 62.23789596557617, 13.578067779541016, 13.152097702026367, 298.1387023925781, 11.794370651245117, 14.46005630493164, 184.93533325195312, 11.979585647583008, 16.14858627319336, 263.8908386230469, 63.26826477050781, 51.971961975097656, 87.73163604736328, 28.416048049926758, 165.54969787597656, 42.98110580444336, 81.01228332519531, 97.7999038696289, 84.38197326660156, 235.93572998046875, 165.25059509277344, 159.2423095703125, 138.04798889160156, 175.00331115722656, 200.7628936767578, 182.4606170654297, 128.1619110107422, 175.76695251464844, 136.31332397460938, 162.7170867919922, 143.50010681152344, 116.70972442626953, 143.0889892578125, 111.18775939941406, 116.49885559082031, 111.84721374511719, 196.99346923828125, 95.92579650878906, 179.6055450439453, 39.70969009399414, 41.424800872802734, 49.3145751953125, 39.38557815551758, 168.87188720703125, 69.63343048095703, 128.76138305664062, 84.93707275390625, 395.7517395019531, 54.61598587036133, 30.58954620361328, 49.09686279296875, 582.5548706054688, 67.81668090820312, 275.6000061035156, 78.69859313964844, 59.15168762207031, 21.96582794189453, 89.15254974365234, 227.59300231933594, 42.632225036621094, 17.209320068359375, 20.610044479370117, 24.43779945373535, 31.498336791992188, 51.78935241699219, 11.994487762451172, 35.74066162109375, 74.64763641357422, 84.11192321777344, 153.31887817382812, 191.13414001464844, 186.82516479492188, 239.39352416992188, 189.24710083007812, 121.43307495117188, 132.61563110351562, 222.90576171875, 200.33950805664062, 176.65625, 173.162109375, 133.93858337402344, 108.95911407470703, 146.82005310058594, 118.00898742675781, 154.31173706054688, 127.74958801269531, 112.12413787841797, 125.69205474853516, 119.26080322265625, 113.4462661743164, 113.35111999511719, 37.782676696777344, 21.091447830200195, 16.819103240966797, 13.673624992370605, 17.330276489257812, 15.775970458984375, 32.259124755859375, 43.11591720581055, 14.744752883911133, 20.122283935546875, 11.642997741699219, 30.549455642700195, 12.725748062133789, 10.028081893920898, 31.912458419799805, 22.776155471801758, 11.909310340881348, 13.237813949584961, 14.131930351257324, 42.489688873291016, 42.47416305541992, 9.611800193786621, 18.287206649780273, 7.159608364105225, 17.069904327392578, 20.4220027923584, 32.522823333740234, 17.528972625732422, 14.492074966430664, 72.2846908569336, 50.89131164550781, 43.93695831298828, 36.6450309753418, 48.07012176513672, 52.18203353881836, 41.78804016113281, 195.78248596191406, 44.97080612182617, 130.24920654296875, 81.42291259765625, 68.59400939941406, 35.4138298034668, 70.29817962646484, 59.42134094238281, 34.9831428527832, 29.987455368041992, 47.63619613647461, 41.4036865234375, 49.886234283447266, 45.6392936706543, 60.69631576538086, 48.627254486083984, 51.79884338378906, 64.00501251220703, 50.78948974609375, 48.72964096069336, 49.55390548706055, 49.1667366027832, 50.27775955200195, 50.38758850097656, 44.821739196777344, 45.50437545776367, 43.156429290771484, 63.63084030151367, 114.54984283447266, 43.876617431640625, 20.072723388671875, 44.405181884765625, 22.870084762573242, 12.64816951751709, 106.04694366455078, 22.309507369995117, 97.13209533691406, 17.339080810546875, 23.630067825317383, 116.7735824584961, 163.70892333984375, 11.129661560058594, 20.396848678588867, 20.233652114868164, 16.51432991027832, 11.858428001403809, 9.56469440460205, 115.98552703857422, 7.999458312988281, 14.628028869628906, 19.927082061767578, 234.10678100585938, 10.308258056640625, 100.18209075927734, 6.033824443817139, 22.657869338989258, 17.47966957092285, 65.27511596679688, 54.52402877807617, 36.49985885620117, 24.704349517822266, 133.06875610351562, 68.20525360107422, 198.84426879882812, 133.9832305908203, 63.64452362060547, 44.08070373535156, 73.26891326904297, 74.37152862548828, 57.01327896118164, 39.856224060058594, 64.78300476074219, 52.53644943237305, 78.0005874633789, 71.26365661621094, 79.19044494628906, 84.77144622802734, 66.92953491210938, 54.80615234375, 56.0200309753418, 65.9063491821289, 64.2074203491211, 56.03601837158203, 138.61865234375, 65.52540588378906, 10.748374938964844, 13.514700889587402, 16.7374324798584, 15.10926342010498, 38.25408935546875, 19.272939682006836, 6.358156204223633, 6.040002346038818, 19.62405776977539, 6.552737712860107, 7.864325523376465, 5.502884864807129, 33.287498474121094, 6.081064224243164, 4.947072982788086, 5.101188659667969, 5.235229015350342, 14.71446704864502, 7.492106914520264, 6.842100143432617, 4.57375955581665, 5.278310298919678, 9.193841934204102, 4.399571418762207, 5.63455867767334, 7.519864559173584, 3.5754787921905518, 15.178343772888184, 25.7747802734375, 8.719474792480469, 12.012351989746094, 14.658673286437988, 8.983414649963379, 15.99154281616211, 25.168397903442383, 37.79528045654297, 22.78296661376953, 51.25596237182617, 23.836938858032227, 41.32549285888672, 17.07119369506836, 48.90184783935547, 25.290712356567383, 45.00149154663086, 32.883506774902344, 19.94514274597168, 21.22884178161621, 32.461021423339844, 28.69970703125, 33.79388427734375, 25.70636749267578, 24.723995208740234, 25.361902236938477, 27.43075942993164, 30.26139259338379, 30.752595901489258, 25.38561248779297, 22.788000106811523, 24.89228057861328, 24.370203018188477, 22.300691604614258, 21.625202178955078, 21.75397300720215, 118.59676361083984, 99.42752838134766, 32.83940887451172, 40.261146545410156, 27.956905364990234, 27.798524856567383, 39.9062614440918, 19.240066528320312, 25.02556800842285, 18.50218391418457, 5.901330471038818, 5.20367431640625, 5.860122203826904, 5.092000961303711, 5.151333332061768, 10.41840934753418, 3.8319315910339355, 4.739448547363281, 5.071130275726318, 5.969504356384277, 7.236756801605225, 7.49476957321167, 3.1858720779418945, 10.987150192260742, 4.0443925857543945, 3.9131250381469727, 15.035334587097168, 3.80414080619812, 3.457369804382324, 4.21351432800293, 40.22037124633789, 6.661458969116211, 125.6192626953125, 6.271077632904053, 10.590628623962402, 17.688859939575195, 15.294979095458984, 23.693147659301758, 41.8380012512207, 18.093395233154297, 11.608954429626465, 25.477046966552734, 42.55540084838867, 53.83725357055664, 56.19725799560547, 45.079715728759766, 18.189847946166992, 36.20512771606445, 21.647472381591797, 24.13172149658203, 25.94425392150879, 26.05695343017578, 24.394210815429688, 26.092864990234375, 28.056921005249023, 26.157962799072266, 22.909015655517578, 22.781911849975586, 22.631887435913086, 21.80048370361328, 21.846637725830078, 21.997514724731445, 21.96410369873047, 76.6124038696289, 13.968940734863281, 18.788984298706055, 160.68043518066406, 6.960510730743408, 26.056930541992188, 25.56690788269043, 5.970558166503906, 6.750373840332031, 5.561553955078125, 25.301618576049805, 13.058815956115723, 5.491021633148193, 15.346025466918945, 28.204891204833984, 29.503177642822266, 4.261501789093018, 6.635961532592773, 8.700525283813477, 29.891530990600586, 4.609251499176025, 5.881936073303223, 4.734498500823975, 4.824032306671143, 15.437292098999023, 6.576379299163818, 4.097034454345703, 11.633060455322266, 6.041034698486328, 5.441218376159668, 7.6528520584106445, 45.00135803222656, 23.24370574951172, 52.24353790283203, 39.85437774658203, 21.719676971435547, 42.101871490478516, 11.452268600463867, 30.599735260009766, 26.997705459594727, 23.880094528198242, 13.70947551727295, 12.989869117736816, 24.396278381347656, 26.266616821289062, 22.44877052307129, 19.640071868896484, 18.18368148803711, 18.281198501586914, 21.83027458190918, 17.307458877563477, 17.60032081604004, 17.695404052734375, 16.41640281677246, 15.621463775634766, 9.30699348449707, 66.01073455810547, 4.368516445159912, 11.9605073928833, 4.139016628265381, 14.821015357971191, 4.588539123535156, 2.7899067401885986, 40.772117614746094, 5.630984306335449, 2.298821449279785, 2.707280158996582, 3.500663995742798, 3.9416885375976562, 4.930029392242432, 2.404022216796875, 2.9183766841888428, 2.4407401084899902, 4.2918009757995605, 3.245368719100952, 2.678006172180176, 2.2304577827453613, 2.807941198348999, 2.159205436706543, 3.0299465656280518, 4.160525321960449, 1.6665294170379639, 1.5953441858291626, 1.6683895587921143, 2.686199426651001, 47.92213439941406, 11.642069816589355, 3.8570148944854736, 4.71350622177124, 6.777698040008545, 20.76361083984375, 39.231178283691406, 26.591779708862305, 23.894636154174805, 9.96054744720459, 16.59984016418457, 10.16089916229248, 15.133644104003906, 40.28078079223633, 20.16765022277832, 10.43700885772705, 6.891035556793213, 7.853292942047119, 28.839447021484375, 17.591825485229492, 25.180368423461914, 9.923612594604492, 18.349903106689453, 9.757054328918457, 19.44411849975586, 10.399810791015625, 13.343132972717285, 14.554291725158691, 18.108802795410156, 11.87253475189209, 13.73509407043457, 11.731047630310059, 11.847917556762695, 11.916471481323242, 12.10671329498291, 11.756975173950195, 11.96023178100586, 9.149897575378418, 5.791778564453125, 5.622636318206787, 7.555890083312988, 16.80098533630371, 13.648736000061035, 5.582908630371094, 13.546040534973145, 7.8377885818481445, 2.5004796981811523, 11.285140037536621, 4.640651702880859, 2.821713447570801, 3.2601442337036133, 2.649479866027832, 2.723771810531616, 8.19278335571289, 2.9658610820770264, 2.086585760116577, 4.485400199890137, 4.198042869567871, 1.801299810409546, 2.45407772064209, 3.241305112838745, 1.7862156629562378, 11.63576889038086, 2.1401479244232178, 5.764570236206055, 2.4762768745422363, 1.858078122138977, 7.3338303565979, 9.30270767211914, 20.09808349609375, 5.58298921585083, 22.88034439086914, 8.453262329101562, 4.243198871612549, 17.175338745117188, 33.031410217285156, 41.69635009765625, 20.364639282226562, 20.62274169921875, 38.21491241455078, 34.21241760253906, 20.961523056030273, 19.763145446777344, 11.988187789916992, 11.229974746704102, 24.628751754760742, 15.018183708190918, 16.932579040527344, 19.794029235839844, 11.487018585205078, 13.080558776855469, 13.871591567993164, 13.921728134155273, 17.737001419067383, 13.217717170715332, 14.790912628173828, 12.893574714660645, 11.90514087677002, 11.308714866638184, 4.234111309051514, 1.4525482654571533, 7.011654853820801, 1.3552948236465454, 2.7390642166137695, 1.4365928173065186, 1.4592633247375488, 1.3289852142333984, 4.267949104309082, 2.1347920894622803, 0.7479753494262695, 0.7503629326820374, 0.7578328847885132, 0.7543330192565918, 1.4580137729644775, 0.7486475706100464, 0.7490297555923462, 0.7502866387367249, 0.7537941932678223, 0.6666847467422485, 1.4514319896697998, 1.4596279859542847, 0.7526440024375916, 0.7639713287353516, 0.7503330111503601, 0.6617379188537598, 0.7439566254615784, 0.7496805191040039, 0.7515864372253418, 0.733784019947052, 4.916938304901123, 1.4187743663787842, 5.58401346206665, 1.444443702697754, 1.3376504182815552, 1.43037748336792, 1.4038736820220947, 2.110841751098633, 1.3157594203948975, 1.9514052867889404, 2.188779354095459, 1.3822335004806519, 2.9809670448303223, 1.4816540479660034, 1.7266225814819336, 1.49808669090271, 2.2275795936584473, 2.309321880340576, 3.5923824310302734, 3.635589361190796, 2.5822877883911133, 3.0239498615264893, 2.603464365005493, 3.2717487812042236, 3.037590980529785, 2.450162649154663, 2.462862014770508, 2.1151347160339355, 2.325592517852783, 2.759451389312744, 2.029447555541992, 2.284151792526245, 2.1082048416137695, 2.1661574840545654, 2.167501449584961, 2.025423526763916, 1.3714536428451538, 1.368104338645935, 2.698488235473633, 5.3468475341796875, 1.3689532279968262, 0.7055162191390991, 0.7072587609291077, 0.7072115540504456, 0.706732988357544, 0.7061107158660889, 3.396005153656006, 2.041668176651001, 0.7143306136131287, 0.704434335231781, 0.7083854675292969, 0.7061579823493958, 0.7095515727996826, 0.7069883346557617, 0.7044721841812134, 0.7122514843940735, 2.046748399734497, 0.7092582583427429, 0.7089248299598694, 0.7126792073249817, 0.7051330804824829, 0.7207397222518921, 1.3682670593261719, 0.7047292590141296, 0.707166850566864, 1.3807791471481323, 1.37027108669281, 2.7147088050842285, 2.773801326751709, 1.3731253147125244, 1.3843162059783936, 2.7725577354431152, 1.3781523704528809, 1.4128345251083374, 1.3844460248947144, 1.3809489011764526, 2.1638543605804443, 1.380046010017395, 1.4036730527877808, 2.096228837966919, 2.0888001918792725, 1.3959619998931885, 1.4036201238632202, 1.4073901176452637, 2.160306215286255, 2.1249849796295166, 2.183492422103882, 1.5402714014053345, 1.646700143814087, 1.5141643285751343, 1.5548515319824219, 1.522047996520996, 1.440955638885498, 1.4987242221832275, 1.4582493305206299, 1.4263030290603638, 1.4447848796844482, 1.4250922203063965, 1.4076473712921143, 1.4130100011825562, 0.23961351811885834, 0.31865301728248596, 0.2335648536682129, 0.1732431799173355, 0.22572210431098938, 0.2295352667570114, 0.14919321238994598, 0.23224179446697235, 0.17883680760860443, 0.1579807549715042, 0.14794009923934937, 0.23204612731933594, 0.10153943300247192, 0.11171729117631912, 0.09872713685035706, 0.16725938022136688, 0.4016730785369873, 0.0902823731303215, 0.23562315106391907, 0.1848723292350769, 0.07880450785160065, 0.4446099102497101, 0.10536379367113113, 0.04416920989751816, 0.030267512425780296, 0.0276106558740139, 0.030005041509866714, 0.17473600804805756, 0.3594420254230499, 0.025714104995131493, 0.08169757574796677, 0.11602833867073059, 0.28507888317108154, 0.11347174644470215, 0.11539459973573685, 0.16173003613948822, 0.24326105415821075, 0.29184579849243164, 0.32390525937080383, 0.17720484733581543, 0.20896077156066895, 0.2157919853925705, 0.15891394019126892, 0.16650182008743286, 0.1673455685377121, 0.14945478737354279], \"Term\": [\"miss\", \"little\", \"jane\", \"know\", \"think\", \"emma\", \"elizabeth\", \"good\", \"like\", \"elinor\", \"marianne\", \"rochester\", \"shall\", \"time\", \"room\", \"bingley\", \"thought\", \"long\", \"dear\", \"darcy\", \"man\", \"thing\", \"mother\", \"sir\", \"sister\", \"hand\", \"bennet\", \"soon\", \"nature\", \"yes\", \"directress\", \"mdlle\", \"henri\", \"reuter\", \"paulina\", \"estrade\", \"madame\", \"pensionnat\", \"homage\", \"pere\", \"rue\", \"pupils\", \"pelet\", \"fossette\", \"fanshawe\", \"beck\", \"ginevra\", \"demeanour\", \"emanuel\", \"nun\", \"monsieur\", \"fete\", \"teacher\", \"classe\", \"dr\", \"lesson\", \"desk\", \"lessons\", \"professor\", \"salle\", \"english\", \"paul\", \"graham\", \"pupil\", \"mademoiselle\", \"bretton\", \"school\", \"eye\", \"hand\", \"like\", \"little\", \"thought\", \"lucy\", \"french\", \"eyes\", \"good\", \"know\", \"life\", \"face\", \"day\", \"heart\", \"knew\", \"look\", \"time\", \"saw\", \"man\", \"think\", \"looked\", \"door\", \"long\", \"night\", \"came\", \"felt\", \"come\", \"west\", \"moor\", \"lowood\", \"fields\", \"diana\", \"clouds\", \"cloak\", \"desolate\", \"birds\", \"casement\", \"moon\", \"lonely\", \"dreary\", \"rivers\", \"breeze\", \"curtains\", \"glorious\", \"candle\", \"thornfield\", \"fastened\", \"dim\", \"sky\", \"limbs\", \"wind\", \"eyre\", \"city\", \"void\", \"trunk\", \"field\", \"gloom\", \"wall\", \"water\", \"st\", \"wet\", \"trees\", \"rain\", \"god\", \"rochester\", \"sun\", \"night\", \"death\", \"sir\", \"dark\", \"jane\", \"strange\", \"long\", \"lay\", \"white\", \"like\", \"bed\", \"door\", \"looked\", \"life\", \"stood\", \"rose\", \"heart\", \"near\", \"day\", \"thought\", \"hand\", \"eyes\", \"come\", \"shall\", \"round\", \"face\", \"time\", \"hour\", \"room\", \"saw\", \"house\", \"little\", \"heard\", \"know\", \"felt\", \"came\", \"good\", \"left\", \"yes\", \"martin\", \"harriet\", \"highbury\", \"surprize\", \"elton\", \"surprized\", \"hartfield\", \"isabella\", \"emma\", \"smith\", \"knightley\", \"abbey\", \"enscombe\", \"chuse\", \"weston\", \"henry\", \"belong\", \"claims\", \"shewed\", \"goddard\", \"churchill\", \"wanting\", \"intelligible\", \"woodhouse\", \"likeness\", \"body\", \"donwell\", \"caution\", \"intimacy\", \"differently\", \"deserve\", \"randalls\", \"frank\", \"superior\", \"friend\", \"thing\", \"imagine\", \"dear\", \"miss\", \"father\", \"fairfax\", \"think\", \"good\", \"man\", \"sure\", \"young\", \"great\", \"oh\", \"know\", \"poor\", \"woman\", \"little\", \"time\", \"thought\", \"shall\", \"better\", \"soon\", \"jane\", \"like\", \"love\", \"marianne\", \"elinor\", \"willoughby\", \"dashwood\", \"jennings\", \"barton\", \"middleton\", \"brandon\", \"norland\", \"steele\", \"dashwoods\", \"ferrars\", \"fanny\", \"palmer\", \"edward\", \"cottage\", \"affliction\", \"calmness\", \"unfortunate\", \"alteration\", \"colonel\", \"offence\", \"engagement\", \"censure\", \"opposition\", \"sister\", \"fortitude\", \"smart\", \"lucy\", \"procured\", \"cheerfulness\", \"mother\", \"behaviour\", \"park\", \"town\", \"misery\", \"john\", \"equally\", \"affection\", \"replied\", \"brother\", \"time\", \"thing\", \"house\", \"lady\", \"soon\", \"know\", \"think\", \"heart\", \"miss\", \"great\", \"good\", \"day\", \"sure\", \"little\", \"sir\", \"shall\", \"room\", \"wickham\", \"gardiner\", \"collins\", \"forster\", \"hertfordshire\", \"rosings\", \"bourgh\", \"lydia\", \"lucas\", \"catherine\", \"longbourn\", \"darcy\", \"meryton\", \"officers\", \"pemberley\", \"elizabeth\", \"kitty\", \"bennet\", \"lizzy\", \"netherfield\", \"regiment\", \"charlotte\", \"bingley\", \"ladyship\", \"saturday\", \"hurst\", \"nephew\", \"younger\", \"cousin\", \"relationship\", \"everybody\", \"uncle\", \"aunt\", \"family\", \"sister\", \"lady\", \"jane\", \"soon\", \"letter\", \"father\", \"miss\", \"know\", \"time\", \"think\", \"shall\", \"hope\", \"good\", \"mother\", \"little\", \"man\", \"dear\", \"day\", \"great\", \"young\", \"room\", \"pas\", \"les\", \"mais\", \"moi\", \"silver\", \"qu\", \"que\", \"et\", \"chin\", \"il\", \"stool\", \"je\", \"plate\", \"petite\", \"polly\", \"cup\", \"pink\", \"des\", \"ne\", \"est\", \"vous\", \"farm\", \"handkerchief\", \"yellow\", \"ce\", \"mouth\", \"la\", \"corner\", \"bien\", \"bretton\", \"hair\", \"dress\", \"tea\", \"st\", \"graham\", \"black\", \"little\", \"white\", \"like\", \"john\", \"face\", \"papa\", \"eyes\", \"took\", \"chair\", \"picture\", \"head\", \"child\", \"old\", \"asked\", \"room\", \"home\", \"hand\", \"good\", \"looked\", \"came\", \"come\", \"long\", \"time\", \"miss\", \"half\", \"think\", \"let\", \"perry\", \"bates\", \"cole\", \"pianoforte\", \"randalls\", \"donwell\", \"james\", \"frank\", \"campbell\", \"churchill\", \"crown\", \"goddard\", \"woodhouse\", \"weston\", \"throat\", \"horses\", \"instrument\", \"couple\", \"enscombe\", \"abbey\", \"knightley\", \"heat\", \"niece\", \"dancing\", \"emma\", \"shew\", \"fairfax\", \"complaint\", \"delightful\", \"isabella\", \"party\", \"carriage\", \"hartfield\", \"weather\", \"thing\", \"elton\", \"miss\", \"jane\", \"home\", \"coming\", \"come\", \"soon\", \"dear\", \"body\", \"great\", \"father\", \"think\", \"day\", \"know\", \"little\", \"shall\", \"heard\", \"away\", \"time\", \"good\", \"room\", \"hunsden\", \"crimsworth\", \"lodgings\", \"brussels\", \"ve\", \"shire\", \"frances\", \"brown\", \"stuff\", \"fourth\", \"bread\", \"burnt\", \"introduction\", \"social\", \"ll\", \"polite\", \"board\", \"mantelpiece\", \"practical\", \"wood\", \"freedom\", \"examined\", \"th\", \"tables\", \"coffee\", \"widow\", \"rapid\", \"german\", \"involuntary\", \"william\", \"french\", \"foreign\", \"class\", \"standing\", \"schoolroom\", \"england\", \"fine\", \"place\", \"table\", \"room\", \"got\", \"house\", \"hall\", \"like\", \"asked\", \"miss\", \"saw\", \"girl\", \"looking\", \"day\", \"come\", \"time\", \"night\", \"lady\", \"looked\", \"long\", \"know\", \"little\", \"man\", \"door\", \"soon\", \"good\", \"shall\", \"eyes\", \"thought\", \"bessie\", \"reed\", \"gateshead\", \"georgiana\", \"mama\", \"eliza\", \"ingram\", \"nursery\", \"polly\", \"temple\", \"stout\", \"risen\", \"wicked\", \"george\", \"helped\", \"nurse\", \"accounts\", \"divine\", \"sofa\", \"alive\", \"clothes\", \"played\", \"entertain\", \"bassompierre\", \"burden\", \"piano\", \"eyre\", \"irritated\", \"volume\", \"january\", \"child\", \"ve\", \"miss\", \"cousins\", \"red\", \"papa\", \"breakfast\", \"ladies\", \"sir\", \"children\", \"says\", \"poor\", \"room\", \"like\", \"little\", \"think\", \"school\", \"jane\", \"rochester\", \"went\", \"yes\", \"john\", \"lady\", \"come\", \"good\", \"thought\", \"look\", \"mother\", \"thing\", \"heard\", \"young\", \"day\", \"know\", \"adele\", \"millcote\", \"gallery\", \"rochester\", \"devil\", \"ingram\", \"thornfield\", \"gloomy\", \"satin\", \"burnt\", \"ma\", \"governess\", \"daresay\", \"dining\", \"gentlemen\", \"ll\", \"forwards\", \"alive\", \"staircase\", \"hall\", \"helped\", \"arch\", \"downstairs\", \"witnessed\", \"servants\", \"holding\", \"guests\", \"rooms\", \"horror\", \"chaise\", \"running\", \"fairfax\", \"master\", \"sir\", \"yes\", \"ladies\", \"room\", \"dead\", \"house\", \"heard\", \"door\", \"drawing\", \"dinner\", \"come\", \"like\", \"shall\", \"lady\", \"went\", \"night\", \"time\", \"looked\", \"saw\", \"thought\", \"think\", \"little\", \"hurst\", \"bingley\", \"cards\", \"netherfield\", \"tuesday\", \"lizzy\", \"haste\", \"cases\", \"bennet\", \"accomplished\", \"liable\", \"purchase\", \"vast\", \"recommend\", \"dine\", \"stout\", \"authority\", \"youngest\", \"anger\", \"aye\", \"likes\", \"lucky\", \"motives\", \"farm\", \"observing\", \"nerves\", \"silently\", \"positively\", \"mixture\", \"chaise\", \"elizabeth\", \"country\", \"warmth\", \"depend\", \"daughters\", \"darcy\", \"jane\", \"sister\", \"dear\", \"year\", \"cried\", \"stay\", \"replied\", \"miss\", \"mother\", \"mean\", \"send\", \"assure\", \"know\", \"sure\", \"good\", \"visit\", \"soon\", \"immediately\", \"think\", \"coming\", \"better\", \"room\", \"little\", \"till\", \"shall\", \"wish\", \"oh\", \"thing\", \"day\", \"long\", \"time\", \"grove\", \"south\", \"shop\", \"obliging\", \"says\", \"rain\", \"excessively\", \"news\", \"sea\", \"ugly\", \"extremely\", \"fancied\", \"saturday\", \"surprized\", \"visiting\", \"sees\", \"charming\", \"cared\", \"signify\", \"grounds\", \"campbell\", \"unfortunately\", \"king\", \"nice\", \"evils\", \"assure\", \"remarkable\", \"diana\", \"travel\", \"communicate\", \"plain\", \"ah\", \"woodhouse\", \"palmer\", \"hear\", \"directly\", \"cole\", \"going\", \"jane\", \"know\", \"oh\", \"dear\", \"miss\", \"think\", \"sure\", \"mother\", \"brother\", \"body\", \"like\", \"yes\", \"great\", \"good\", \"people\", \"place\", \"john\", \"away\", \"little\", \"better\", \"time\", \"shall\", \"thing\", \"elton\", \"madam\", \"attire\", \"reed\", \"passionate\", \"lowood\", \"falsehood\", \"thrust\", \"ice\", \"eyre\", \"treated\", \"suspended\", \"constitution\", \"yards\", \"concerning\", \"nursery\", \"skin\", \"solid\", \"exact\", \"stout\", \"violence\", \"bye\", \"mama\", \"tells\", \"guide\", \"dwell\", \"conceived\", \"oppressed\", \"household\", \"stool\", \"adopt\", \"aunt\", \"miserable\", \"child\", \"anybody\", \"fingers\", \"worst\", \"thoroughly\", \"send\", \"sick\", \"death\", \"dare\", \"position\", \"eye\", \"sudden\", \"forget\", \"plain\", \"return\", \"girl\", \"jane\", \"think\", \"went\", \"shall\", \"love\", \"good\", \"like\", \"mind\", \"hand\", \"years\", \"dear\", \"little\", \"passed\", \"long\", \"look\", \"room\", \"time\", \"looked\", \"quality\", \"apply\", \"ring\", \"play\", \"division\", \"display\", \"ridiculous\", \"fed\", \"placing\", \"panes\", \"la\", \"classe\", \"salle\", \"blooming\", \"startled\", \"sullen\", \"track\", \"intent\", \"limited\", \"volume\", \"je\", \"gallant\", \"vestibule\", \"charged\", \"readiness\", \"gather\", \"sharp\", \"trifle\", \"objections\", \"scarce\", \"quickly\", \"fresh\", \"paul\", \"busy\", \"et\", \"read\", \"servants\", \"emanuel\", \"est\", \"bell\", \"answer\", \"dressed\", \"calm\", \"went\", \"door\", \"struck\", \"book\", \"hours\", \"shall\", \"man\", \"good\", \"eyes\", \"little\", \"hand\", \"thought\", \"know\", \"best\", \"time\", \"came\", \"nature\", \"yes\", \"sort\", \"matter\", \"looking\", \"gentlemanlike\", \"elder\", \"depended\", \"changes\", \"endured\", \"clearly\", \"owing\", \"accordingly\", \"occasional\", \"instinct\", \"quitting\", \"attend\", \"abruptly\", \"admit\", \"bow\", \"painful\", \"making\", \"folded\", \"anxious\", \"temper\", \"informed\", \"nature\", \"suffer\", \"accompany\", \"origin\", \"ridiculous\", \"forwards\", \"presence\", \"brother\", \"vivid\", \"bassompierre\", \"meeting\", \"edward\", \"fond\", \"led\", \"spirits\", \"old\", \"think\", \"little\", \"family\", \"thing\", \"soon\", \"years\", \"long\", \"good\", \"miss\"], \"Total\": [1523.0, 1727.0, 940.0, 1440.0, 1313.0, 840.0, 650.0, 1356.0, 1338.0, 694.0, 574.0, 376.0, 935.0, 1327.0, 898.0, 297.0, 1151.0, 950.0, 587.0, 422.0, 909.0, 786.0, 673.0, 615.0, 593.0, 623.0, 321.0, 934.0, 313.0, 603.0, 47.07573699951172, 112.89454650878906, 54.96854019165039, 78.45453643798828, 83.3494873046875, 38.2083854675293, 408.7333068847656, 36.26201248168945, 21.505290985107422, 40.283836364746094, 73.82324981689453, 156.3726043701172, 108.78058624267578, 50.15823745727539, 86.24066925048828, 165.49688720703125, 110.73892211914062, 20.530134201049805, 107.31118774414062, 44.122764587402344, 281.12738037109375, 34.22996139526367, 73.61705780029297, 62.896549224853516, 234.0477752685547, 69.3382568359375, 103.43597412109375, 64.7892074584961, 64.56926727294922, 22.122650146484375, 229.96963500976562, 182.05210876464844, 221.8114471435547, 98.1799545288086, 119.95793914794922, 238.75523376464844, 248.12930297851562, 400.1396484375, 623.1417236328125, 1338.4810791015625, 1727.93408203125, 1151.59716796875, 380.0145568847656, 159.7927703857422, 646.1220703125, 1356.41064453125, 1440.6558837890625, 591.2258911132812, 505.17236328125, 1072.1068115234375, 663.7716064453125, 554.6728515625, 648.4058227539062, 1327.6348876953125, 788.5269775390625, 909.12109375, 1313.8660888671875, 708.6482543945312, 543.6898803710938, 950.0996704101562, 634.082275390625, 696.3317260742188, 675.7457275390625, 840.9589233398438, 36.62714385986328, 29.404529571533203, 55.65554428100586, 44.66740798950195, 77.42595672607422, 51.64980697631836, 32.22806930541992, 28.343822479248047, 33.13849639892578, 25.25321388244629, 79.15856170654297, 36.97682189941406, 30.234315872192383, 61.47021484375, 25.166027069091797, 28.20993995666504, 31.202682495117188, 64.5954360961914, 103.57327270507812, 30.260726928710938, 52.44846725463867, 99.1696548461914, 24.268783569335938, 100.73645782470703, 103.02820587158203, 43.332366943359375, 26.89478874206543, 37.109256744384766, 35.968929290771484, 34.24795150756836, 78.23360443115234, 115.12384033203125, 198.5923614501953, 63.013328552246094, 113.65264129638672, 98.80975341796875, 233.50979614257812, 376.2037048339844, 106.61221313476562, 634.082275390625, 138.61813354492188, 615.2972412109375, 232.86138916015625, 940.739013671875, 259.1122131347656, 950.0996704101562, 197.81297302246094, 239.32545471191406, 1338.4810791015625, 227.6697235107422, 543.6898803710938, 708.6482543945312, 591.2258911132812, 329.7315673828125, 234.8423309326172, 663.7716064453125, 367.7041320800781, 1072.1068115234375, 1151.59716796875, 623.1417236328125, 646.1220703125, 840.9589233398438, 935.162109375, 359.6560363769531, 505.17236328125, 1327.6348876953125, 439.4503173828125, 898.1431884765625, 788.5269775390625, 767.2738037109375, 1727.93408203125, 632.5584106445312, 1440.6558837890625, 675.7457275390625, 696.3317260742188, 1356.41064453125, 545.4563598632812, 603.65380859375, 82.36603546142578, 504.7820739746094, 121.4635009765625, 36.64889144897461, 373.15618896484375, 31.501399993896484, 155.42604064941406, 67.74830627441406, 840.20751953125, 112.30374145507812, 378.9104919433594, 31.035009384155273, 35.9340705871582, 30.879352569580078, 430.21270751953125, 30.846237182617188, 23.187604904174805, 38.97336196899414, 22.406177520751953, 58.42268753051758, 220.14791870117188, 56.584190368652344, 20.295185089111328, 304.8179626464844, 39.429359436035156, 274.4530029296875, 48.90795135498047, 31.0950870513916, 48.817970275878906, 24.300392150878906, 43.75956344604492, 89.19692993164062, 235.24241638183594, 112.29542541503906, 437.7746887207031, 786.5777587890625, 119.58181762695312, 587.3306274414062, 1523.9271240234375, 514.6901245117188, 375.5622253417969, 1313.8660888671875, 1356.41064453125, 909.12109375, 616.3828735351562, 667.1089477539062, 830.7228393554688, 561.5912475585938, 1440.6558837890625, 391.63543701171875, 474.53948974609375, 1727.93408203125, 1327.6348876953125, 1151.59716796875, 935.162109375, 617.5831298828125, 934.1587524414062, 940.739013671875, 1338.4810791015625, 575.1575927734375, 574.21630859375, 694.3338012695312, 219.72085571289062, 256.0857238769531, 233.6878204345703, 91.01880645751953, 104.18973541259766, 146.5727081298828, 54.528038024902344, 39.34401321411133, 37.333335876464844, 130.8070068359375, 48.96622848510742, 78.08747863769531, 322.4517517089844, 86.5695571899414, 27.899883270263672, 28.627403259277344, 39.857749938964844, 27.15515899658203, 311.4265441894531, 24.71048355102539, 116.74165344238281, 25.502593994140625, 24.982898712158203, 593.5360107421875, 23.805561065673828, 29.606992721557617, 380.0145568847656, 24.9488582611084, 34.01536178588867, 673.0645751953125, 147.37930297851562, 125.71397399902344, 241.93800354003906, 65.36273956298828, 629.738525390625, 111.52482604980469, 264.9451599121094, 350.5398864746094, 289.4378662109375, 1327.6348876953125, 786.5777587890625, 767.2738037109375, 631.4865112304688, 934.1587524414062, 1440.6558837890625, 1313.8660888671875, 663.7716064453125, 1523.9271240234375, 830.7228393554688, 1356.41064453125, 1072.1068115234375, 616.3828735351562, 1727.93408203125, 615.2972412109375, 935.162109375, 898.1431884765625, 200.06204223632812, 98.38436126708984, 184.39903259277344, 40.92292404174805, 42.94461441040039, 51.159786224365234, 40.907806396484375, 175.5675506591797, 72.43458557128906, 134.1519775390625, 90.28507232666016, 422.60064697265625, 58.73058319091797, 33.47026443481445, 54.505455017089844, 650.7400512695312, 75.76439666748047, 321.7619934082031, 96.48363494873047, 72.69264221191406, 27.117626190185547, 116.31883239746094, 297.6506652832031, 56.91123580932617, 26.874523162841797, 35.14958190917969, 43.06578826904297, 56.988563537597656, 94.879150390625, 22.08522605895996, 66.77774047851562, 156.27305603027344, 180.7367706298828, 388.676025390625, 593.5360107421875, 631.4865112304688, 940.739013671875, 934.1587524414062, 431.8126220703125, 514.6901245117188, 1523.9271240234375, 1440.6558837890625, 1327.6348876953125, 1313.8660888671875, 935.162109375, 513.8605346679688, 1356.41064453125, 673.0645751953125, 1727.93408203125, 909.12109375, 587.3306274414062, 1072.1068115234375, 830.7228393554688, 667.1089477539062, 898.1431884765625, 60.00929260253906, 38.45022201538086, 30.967056274414062, 25.17775535583496, 32.37453079223633, 30.69710922241211, 62.77310562133789, 84.94690704345703, 29.712373733520508, 42.76226806640625, 26.0253963470459, 70.04295349121094, 30.57163429260254, 24.29254913330078, 77.86736297607422, 55.73688507080078, 29.24895668029785, 33.687984466552734, 35.968624114990234, 108.47154235839844, 117.01145935058594, 26.768661499023438, 51.7205924987793, 21.601795196533203, 51.61201095581055, 61.92867660522461, 103.46334075927734, 56.823909759521484, 47.761173248291016, 238.75523376464844, 188.06651306152344, 161.4716339111328, 137.7444305419922, 198.5923614501953, 221.8114471435547, 184.99478149414062, 1727.93408203125, 239.32545471191406, 1338.4810791015625, 629.738525390625, 505.17236328125, 170.30941772460938, 646.1220703125, 503.8502197265625, 174.6765594482422, 133.46487426757812, 415.2961120605469, 295.9424743652344, 485.07989501953125, 402.3870849609375, 898.1431884765625, 499.1051940917969, 623.1417236328125, 1356.41064453125, 708.6482543945312, 696.3317260742188, 840.9589233398438, 950.0996704101562, 1327.6348876953125, 1523.9271240234375, 595.4114990234375, 1313.8660888671875, 468.6545715332031, 80.31651306152344, 150.60731506347656, 61.06722640991211, 33.69857406616211, 89.19692993164062, 48.90795135498047, 27.70550537109375, 235.24241638183594, 50.484371185302734, 220.14791870117188, 42.58155822753906, 58.42268753051758, 304.8179626464844, 430.21270751953125, 29.647008895874023, 57.16953659057617, 58.76772689819336, 48.00109100341797, 35.9340705871582, 31.035009384155273, 378.9104919433594, 26.586942672729492, 49.75324249267578, 70.53470611572266, 840.20751953125, 37.27255630493164, 375.5622253417969, 22.709211349487305, 85.41709899902344, 67.74830627441406, 257.3289794921875, 231.0081329345703, 155.42604064941406, 101.14663696289062, 786.5777587890625, 373.15618896484375, 1523.9271240234375, 940.739013671875, 499.1051940917969, 308.6964416503906, 840.9589233398438, 934.1587524414062, 587.3306274414062, 274.4530029296875, 830.7228393554688, 514.6901245117188, 1313.8660888671875, 1072.1068115234375, 1440.6558837890625, 1727.93408203125, 935.162109375, 632.5584106445312, 690.3159790039062, 1327.6348876953125, 1356.41064453125, 898.1431884765625, 146.35787963867188, 98.78653717041016, 23.455949783325195, 36.98273849487305, 48.752315521240234, 44.48883056640625, 116.0164794921875, 61.456600189208984, 21.584821701049805, 21.403419494628906, 73.16170501708984, 27.144020080566406, 35.31789779663086, 25.19930648803711, 152.5519561767578, 29.425931930541992, 24.891414642333984, 25.67197036743164, 26.464279174804688, 77.12509155273438, 39.30171203613281, 35.89970397949219, 24.567350387573242, 28.464885711669922, 49.87684631347656, 24.641210556030273, 31.568450927734375, 42.60253143310547, 20.688350677490234, 89.47712707519531, 159.7927703857422, 53.63302230834961, 82.2826919555664, 105.94773864746094, 57.85142517089844, 128.06497192382812, 249.06251525878906, 512.3320922851562, 239.95054626464844, 898.1431884765625, 292.54766845703125, 767.2738037109375, 177.12281799316406, 1338.4810791015625, 402.3870849609375, 1523.9271240234375, 788.5269775390625, 307.0657043457031, 377.0169982910156, 1072.1068115234375, 840.9589233398438, 1327.6348876953125, 634.082275390625, 631.4865112304688, 708.6482543945312, 950.0996704101562, 1440.6558837890625, 1727.93408203125, 909.12109375, 543.6898803710938, 934.1587524414062, 1356.41064453125, 935.162109375, 646.1220703125, 1151.59716796875, 124.63220977783203, 122.51531982421875, 42.212703704833984, 58.6949348449707, 47.561431884765625, 59.934017181396484, 89.45011901855469, 44.068206787109375, 77.86736297607422, 74.98043823242188, 24.36550521850586, 22.827585220336914, 26.647676467895508, 25.696229934692383, 27.692852020263672, 57.306339263916016, 22.382287979125977, 28.319894790649414, 31.351001739501953, 37.429649353027344, 45.43832015991211, 47.61532211303711, 20.622541427612305, 73.79557800292969, 27.555492401123047, 26.674957275390625, 103.02820587158203, 26.228717803955078, 24.241024017333984, 29.55314064025879, 295.9424743652344, 48.752315521240234, 1523.9271240234375, 46.92754364013672, 90.0229721069336, 170.30941772460938, 143.9794921875, 268.4802551269531, 615.2972412109375, 212.99017333984375, 112.373779296875, 391.63543701171875, 898.1431884765625, 1338.4810791015625, 1727.93408203125, 1313.8660888671875, 248.12930297851562, 940.739013671875, 376.2037048339844, 500.36376953125, 603.65380859375, 629.738525390625, 631.4865112304688, 840.9589233398438, 1356.41064453125, 1151.59716796875, 648.4058227539062, 673.0645751953125, 786.5777587890625, 632.5584106445312, 667.1089477539062, 1072.1068115234375, 1440.6558837890625, 142.9070281982422, 30.652711868286133, 43.01331329345703, 376.2037048339844, 22.325576782226562, 89.45011901855469, 103.57327270507812, 27.377079010009766, 31.76016616821289, 27.144020080566406, 124.39176177978516, 64.27041625976562, 27.058584213256836, 75.63996887207031, 143.8650665283203, 152.5519561767578, 22.956331253051758, 37.429649353027344, 50.982879638671875, 177.12281799316406, 27.692852020263672, 36.08778381347656, 29.18998908996582, 29.804367065429688, 95.76619720458984, 41.09000015258789, 25.66717529296875, 72.9024429321289, 38.85755157470703, 35.691986083984375, 51.043704986572266, 375.5622253417969, 208.8577117919922, 615.2972412109375, 603.65380859375, 268.4802551269531, 898.1431884765625, 113.85050201416016, 767.2738037109375, 632.5584106445312, 543.6898803710938, 172.32183837890625, 176.5590057373047, 840.9589233398438, 1338.4810791015625, 935.162109375, 631.4865112304688, 500.36376953125, 634.082275390625, 1327.6348876953125, 708.6482543945312, 788.5269775390625, 1151.59716796875, 1313.8660888671875, 1727.93408203125, 35.14958190917969, 297.6506652832031, 24.815248489379883, 72.69264221191406, 25.780776977539062, 96.48363494873047, 31.62469482421875, 20.946706771850586, 321.7619934082031, 44.882110595703125, 20.177915573120117, 23.780765533447266, 31.924745559692383, 37.009849548339844, 46.623252868652344, 24.36550521850586, 29.714197158813477, 28.367311477661133, 50.674652099609375, 38.59548568725586, 31.90468978881836, 26.902463912963867, 33.87175750732422, 26.768661499023438, 38.138240814208984, 52.771121978759766, 21.257793426513672, 21.043954849243164, 22.041545867919922, 35.691986083984375, 650.7400512695312, 170.89088439941406, 54.58955383300781, 69.03939819335938, 107.8122329711914, 422.60064697265625, 940.739013671875, 593.5360107421875, 587.3306274414062, 183.2657012939453, 371.6719665527344, 196.5001983642578, 350.5398864746094, 1523.9271240234375, 673.0645751953125, 237.594482421875, 121.8438491821289, 151.84152221679688, 1440.6558837890625, 616.3828735351562, 1356.41064453125, 242.86146545410156, 934.1587524414062, 248.92483520507812, 1313.8660888671875, 308.6964416503906, 617.5831298828125, 898.1431884765625, 1727.93408203125, 527.9644775390625, 935.162109375, 525.5081787109375, 561.5912475585938, 786.5777587890625, 1072.1068115234375, 950.0996704101562, 1327.6348876953125, 39.25929260253906, 33.37204360961914, 33.908660888671875, 50.17936706542969, 112.373779296875, 98.80975341796875, 40.6491813659668, 108.88968658447266, 66.30732727050781, 21.17247772216797, 100.1200942993164, 42.62860107421875, 26.874523162841797, 31.501399993896484, 26.925003051757812, 28.628347396850586, 87.6427230834961, 34.0228385925293, 24.68585968017578, 53.362056732177734, 50.484371185302734, 21.694637298583984, 30.295377731323242, 40.793148040771484, 23.226953506469727, 151.84152221679688, 28.30516242980957, 77.42595672607422, 33.445247650146484, 25.501699447631836, 102.15251922607422, 132.55560302734375, 304.8179626464844, 78.08747863769531, 410.6708984375, 144.13214111328125, 61.06722640991211, 384.65155029296875, 940.739013671875, 1440.6558837890625, 561.5912475585938, 587.3306274414062, 1523.9271240234375, 1313.8660888671875, 616.3828735351562, 673.0645751953125, 289.4378662109375, 274.4530029296875, 1338.4810791015625, 603.65380859375, 830.7228393554688, 1356.41064453125, 341.65313720703125, 512.3320922851562, 629.738525390625, 690.3159790039062, 1727.93408203125, 617.5831298828125, 1327.6348876953125, 935.162109375, 786.5777587890625, 373.15618896484375, 67.34561157226562, 25.156795501708984, 122.51531982421875, 24.179563522338867, 55.65554428100586, 29.285717010498047, 31.817276000976562, 31.487573623657227, 103.02820587158203, 51.74247741699219, 20.64815330505371, 21.468769073486328, 22.295761108398438, 22.684715270996094, 44.068206787109375, 23.208370208740234, 23.592199325561523, 24.173377990722656, 24.36550521850586, 21.5992431640625, 47.09670639038086, 47.561431884765625, 25.045690536499023, 25.46746253967285, 25.0310115814209, 22.22174835205078, 25.36447525024414, 25.66293716430664, 26.0253963470459, 26.18680763244629, 180.7367706298828, 52.0153694152832, 295.9424743652344, 60.13957977294922, 57.26952362060547, 63.00270080566406, 62.58380126953125, 121.8438491821289, 64.70410919189453, 138.61813354492188, 181.943359375, 80.38987731933594, 400.1396484375, 95.22190856933594, 134.66262817382812, 102.15251922607422, 280.92620849609375, 307.0657043457031, 940.739013671875, 1313.8660888671875, 500.36376953125, 935.162109375, 575.1575927734375, 1356.41064453125, 1338.4810791015625, 577.7669677734375, 623.1417236328125, 319.0022277832031, 587.3306274414062, 1727.93408203125, 392.25640869140625, 950.0996704101562, 648.4058227539062, 898.1431884765625, 1327.6348876953125, 708.6482543945312, 21.68272590637207, 23.088130950927734, 47.40423583984375, 100.86643981933594, 30.596843719482422, 20.408876419067383, 20.990718841552734, 21.357393264770508, 21.344728469848633, 21.47926139831543, 103.46334075927734, 62.896549224853516, 22.122650146484375, 22.22226333618164, 22.419389724731445, 22.42037582397461, 22.661876678466797, 23.154033660888672, 23.134536743164062, 24.241024017333984, 70.04295349121094, 24.288301467895508, 24.339567184448242, 24.66898536682129, 24.60209083557129, 25.412965774536133, 48.837825775146484, 25.15482521057129, 25.833995819091797, 50.70238494873047, 52.71179962158203, 115.9683609008789, 182.05210876464844, 66.41619873046875, 84.94690704345703, 319.9304504394531, 95.76619720458984, 107.31118774414062, 108.47154235839844, 108.74414825439453, 353.71563720703125, 116.93049621582031, 144.11050415039062, 500.36376953125, 543.6898803710938, 160.47076416015625, 169.3500213623047, 191.98614501953125, 935.162109375, 909.12109375, 1356.41064453125, 646.1220703125, 1727.93408203125, 623.1417236328125, 1151.59716796875, 1440.6558837890625, 329.55694580078125, 1327.6348876953125, 696.3317260742188, 313.4354553222656, 603.65380859375, 363.1224060058594, 220.00575256347656, 377.0169982910156, 20.820838928222656, 33.675506591796875, 26.7276554107666, 21.189699172973633, 29.708829879760742, 30.97057342529297, 21.20590591430664, 35.6666374206543, 29.986766815185547, 30.036090850830078, 29.210628509521484, 48.789703369140625, 27.31646156311035, 43.1618537902832, 45.408267974853516, 79.3631362915039, 201.4507293701172, 45.37282180786133, 122.8952865600586, 118.07184600830078, 52.92500686645508, 313.4354553222656, 77.4171371459961, 32.68956756591797, 22.614065170288086, 20.990718841552734, 22.956331253051758, 140.100341796875, 289.4378662109375, 22.80840492248535, 73.79557800292969, 110.34121704101562, 322.4517517089844, 115.95468139648438, 126.1898422241211, 230.28138732910156, 485.07989501953125, 1313.8660888671875, 1727.93408203125, 388.676025390625, 786.5777587890625, 934.1587524414062, 319.0022277832031, 950.0996704101562, 1356.41064453125, 1523.9271240234375], \"loglift\": [30.0, 29.0, 28.0, 27.0, 26.0, 25.0, 24.0, 23.0, 22.0, 21.0, 20.0, 19.0, 18.0, 17.0, 16.0, 15.0, 14.0, 13.0, 12.0, 11.0, 10.0, 9.0, 8.0, 7.0, 6.0, 5.0, 4.0, 3.0, 2.0, 1.0, 1.4113999605178833, 1.3997000455856323, 1.3961999416351318, 1.3765000104904175, 1.36899995803833, 1.36489999294281, 1.3587000370025635, 1.3562999963760376, 1.3513000011444092, 1.343999981880188, 1.3319000005722046, 1.3289999961853027, 1.3269000053405762, 1.3260999917984009, 1.3202999830245972, 1.3137999773025513, 1.313099980354309, 1.3005000352859497, 1.3005000352859497, 1.2825000286102295, 1.2598999738693237, 1.2513999938964844, 1.2472000122070312, 1.2451000213623047, 1.2404999732971191, 1.2369999885559082, 1.2304999828338623, 1.2242000102996826, 1.2231999635696411, 1.2193000316619873, 1.2193000316619873, 1.174299955368042, 1.1468000411987305, 1.177899956703186, 1.1131999492645264, 0.9810000061988831, 0.8446000218391418, 0.6953999996185303, 0.5343999862670898, 0.290800005197525, 0.2013999968767166, 0.2865000069141388, 0.6254000067710876, 0.9254000186920166, 0.3328000009059906, 0.007000000216066837, -0.04580000042915344, 0.3199000060558319, 0.38530001044273376, 0.0052999998442828655, 0.24729999899864197, 0.32659998536109924, 0.2190999984741211, -0.1859000027179718, 0.07440000027418137, -0.015799999237060547, -0.2831999957561493, 0.10920000076293945, 0.2809000015258789, -0.12300000339746475, 0.08569999784231186, -0.007000000216066837, 0.015599999576807022, -0.1882999986410141, 1.6806000471115112, 1.672700047492981, 1.6212999820709229, 1.598099946975708, 1.5966999530792236, 1.572700023651123, 1.5546000003814697, 1.5405999422073364, 1.539199948310852, 1.5188000202178955, 1.517899990081787, 1.5068000555038452, 1.4983999729156494, 1.4958000183105469, 1.4891999959945679, 1.4866000413894653, 1.4840999841690063, 1.4718999862670898, 1.4701000452041626, 1.4541000127792358, 1.444000005722046, 1.4391000270843506, 1.4127000570297241, 1.4049999713897705, 1.3939000368118286, 1.3854000568389893, 1.3832000494003296, 1.3726999759674072, 1.371500015258789, 1.3593000173568726, 1.3555999994277954, 1.3217999935150146, 1.2458000183105469, 1.3293999433517456, 1.2640999555587769, 1.2700999975204468, 1.145900011062622, 1.069700002670288, 1.256700038909912, 0.8996999859809875, 1.177299976348877, 0.8532999753952026, 1.0508999824523926, 0.6175000071525574, 0.9562000036239624, 0.5209000110626221, 0.9987000226974487, 0.9261000156402588, 0.31130000948905945, 0.9416999816894531, 0.5952000021934509, 0.47859999537467957, 0.5526999831199646, 0.7876999974250793, 0.9243999719619751, 0.4681999981403351, 0.7184000015258789, 0.2053000032901764, 0.16300000250339508, 0.4505000114440918, 0.4163999855518341, 0.2775999903678894, 0.21979999542236328, 0.6973999738693237, 0.5103999972343445, -0.05130000039935112, 0.5752000212669373, 0.1657000035047531, 0.23819999396800995, 0.24490000307559967, -0.25279998779296875, 0.3174999952316284, -0.3075999915599823, 0.2433999925851822, 0.19609999656677246, -0.3917999863624573, 0.3734000027179718, 0.28189998865127563, 1.8701000213623047, 1.7905999422073364, 1.6812000274658203, 1.676800012588501, 1.660099983215332, 1.601199984550476, 1.5707999467849731, 1.5652999877929688, 1.5577000379562378, 1.5515999794006348, 1.5199999809265137, 1.4961999654769897, 1.4706000089645386, 1.457200050354004, 1.4127000570297241, 1.4091999530792236, 1.3797999620437622, 1.3357000350952148, 1.3198000192642212, 1.31850004196167, 1.313599944114685, 1.3116999864578247, 1.3044999837875366, 1.2997000217437744, 1.2913999557495117, 1.2853000164031982, 1.2381000518798828, 1.2201999425888062, 1.2199000120162964, 1.20169997215271, 1.1974999904632568, 1.1894999742507935, 1.1689000129699707, 1.1657999753952026, 0.996399998664856, 0.9050999879837036, 1.120300054550171, 0.8026000261306763, 0.6256999969482422, 0.8094000220298767, 0.8515999913215637, 0.5401999950408936, 0.477400004863739, 0.5688999891281128, 0.6173999905586243, 0.5909000039100647, 0.5238999724388123, 0.605400025844574, 0.2615000009536743, 0.7085999846458435, 0.6345999836921692, 0.09759999811649323, 0.14010000228881836, 0.19220000505447388, 0.22709999978542328, 0.4803999960422516, 0.1453000009059906, 0.11270000040531158, -0.2126999944448471, 0.4564000070095062, 1.9957000017166138, 1.9931000471115112, 1.992400050163269, 1.9909000396728516, 1.989400029182434, 1.9855999946594238, 1.9845999479293823, 1.9845000505447388, 1.9776999950408936, 1.9701999425888062, 1.9687999486923218, 1.933899998664856, 1.9306000471115112, 1.9033000469207764, 1.8661999702453613, 1.6991000175476074, 1.5162999629974365, 1.4789999723434448, 1.465399980545044, 1.4377000331878662, 1.4364999532699585, 1.4086999893188477, 1.374500036239624, 1.3732000589370728, 1.361899971961975, 1.3149000406265259, 1.301200032234192, 1.2869000434875488, 1.2833000421524048, 1.2698999643325806, 1.2584999799728394, 1.067199945449829, 1.1578999757766724, 1.1202000379562378, 0.9890999794006348, 1.1705000400543213, 0.6675000190734863, 1.0499999523162842, 0.8185999989509583, 0.7268999814987183, 0.7709000110626221, 0.2759000062942505, 0.4433000087738037, 0.4311000108718872, 0.4830000102519989, 0.3285999894142151, 0.03280000016093254, 0.02930000051856041, 0.3587999939918518, -0.15639999508857727, 0.19609999656677246, -0.11710000038146973, -0.007600000128149986, 0.3393000066280365, -0.4876999855041504, 0.29260000586509705, -0.07940000295639038, -0.07970000058412552, 2.062999963760376, 2.0532000064849854, 2.0520999431610107, 2.0483999252319336, 2.0423998832702637, 2.0416998863220215, 2.0404999256134033, 2.039599895477295, 2.0390000343322754, 2.037400007247925, 2.017400026321411, 2.0127999782562256, 2.0058000087738037, 1.9884999990463257, 1.9739999771118164, 1.9678000211715698, 1.9675999879837036, 1.9235999584197998, 1.8746999502182007, 1.8723000288009644, 1.867799997329712, 1.8125, 1.8100999593734741, 1.7896000146865845, 1.632699966430664, 1.544600009918213, 1.5118999481201172, 1.4854999780654907, 1.4730000495910645, 1.468000054359436, 1.4534000158309937, 1.3395999670028687, 1.313599944114685, 1.1482000350952148, 0.9452999830245972, 0.8605999946594238, 0.7099000215530396, 0.48190000653266907, 0.8098000288009644, 0.7222999930381775, 0.15620000660419464, 0.10559999942779541, 0.061500001698732376, 0.052000001072883606, 0.13510000705718994, 0.5274999737739563, -0.14489999413490295, 0.33739998936653137, -0.33719998598098755, 0.1160999983549118, 0.42250001430511475, -0.06509999930858612, 0.13750000298023224, 0.3068000078201294, 0.00860000029206276, 2.5162999629974365, 2.378499984741211, 2.3685998916625977, 2.368499994277954, 2.354099988937378, 2.3132998943328857, 2.3132998943328857, 2.3008999824523926, 2.2783000469207764, 2.2251999378204346, 2.1745998859405518, 2.149199962615967, 2.1024999618530273, 2.0941998958587646, 2.0869998931884766, 2.0841000080108643, 2.0804998874664307, 2.0448999404907227, 2.044800043106079, 2.041800022125244, 1.9656000137329102, 1.954800009727478, 1.9392999410629272, 1.8746999502182007, 1.8725999593734741, 1.8696000576019287, 1.8216999769210815, 1.802899956703186, 1.7863999605178833, 1.7841999530792236, 1.6719000339508057, 1.67739999294281, 1.6548999547958374, 1.5604000091552734, 1.5319000482559204, 1.4912999868392944, 0.8012999892234802, 1.3071999549865723, 0.6492000222206116, 0.9333000183105469, 0.9822999835014343, 1.4084999561309814, 0.760699987411499, 0.8414000272750854, 1.37090003490448, 1.4859000444412231, 0.8136000037193298, 1.0121999979019165, 0.7044000029563904, 0.802299976348877, 0.28450000286102295, 0.6503999829292297, 0.49160000681877136, -0.07460000365972519, 0.3433000147342682, 0.31949999928474426, 0.14749999344348907, 0.01759999990463257, -0.2946000099182129, -0.4302999973297119, 0.39239999651908875, -0.383899986743927, 0.593999981880188, 2.7797999382019043, 2.739000082015991, 2.6821000576019287, 2.4946000576019287, 2.315200090408325, 2.252500057220459, 2.2284998893737793, 2.21589994430542, 2.196000099182129, 2.1944000720977783, 2.1142001152038574, 2.1075000762939453, 2.0532000064849854, 2.0464999675750732, 2.032900094985962, 1.9819999933242798, 1.9464000463485718, 1.9457000494003296, 1.9040000438690186, 1.8356000185012817, 1.8287999629974365, 1.8115999698638916, 1.7884999513626099, 1.7486000061035156, 1.7347999811172485, 1.7273000478744507, 1.6912000179290771, 1.6872999668121338, 1.6856000423431396, 1.6578999757766724, 1.6409000158309937, 1.5687999725341797, 1.5637999773025513, 1.6030999422073364, 1.23580002784729, 1.3131999969482422, 0.9761000275611877, 1.0636999607086182, 0.9531000256538391, 1.0663000345230103, 0.5722000002861023, 0.4821000099182129, 0.6802999973297119, 1.0830999612808228, 0.46140000224113464, 0.7305999994277954, 0.18860000371932983, 0.30169999599456787, 0.11169999837875366, -0.002099999925121665, 0.37560001015663147, 0.5666999816894531, 0.5012000203132629, 0.009700000286102295, -0.03779999911785126, 0.23829999566078186, 3.6777000427246094, 3.321500062942505, 2.95169997215271, 2.725399971008301, 2.662899971008301, 2.652100086212158, 2.6226000785827637, 2.5724000930786133, 2.5097999572753906, 2.466900110244751, 2.416100025177002, 2.310800075531006, 2.2300000190734863, 2.2105000019073486, 2.209700107574463, 2.155400037765503, 2.116300106048584, 2.1161000728607178, 2.1117000579833984, 2.075500011444092, 2.0745999813079834, 2.074399948120117, 2.0510001182556152, 2.046999931335449, 2.0409998893737793, 2.0090999603271484, 2.0088000297546387, 1.9976999759674072, 1.9766000509262085, 1.957900047302246, 1.9076000452041626, 1.9154000282287598, 1.807800054550171, 1.75409996509552, 1.8696000576019287, 1.6516000032424927, 1.4399000406265259, 1.1253000497817993, 1.3775999546051025, 0.8686000108718872, 1.2246999740600586, 0.810699999332428, 1.3926000595092773, 0.42260000109672546, 0.9650999903678894, 0.20970000326633453, 0.5548999905586243, 0.9980000257492065, 0.8550999760627747, 0.23469999432563782, 0.35440000891685486, 0.06120000034570694, 0.5266000032424927, 0.4916999936103821, 0.4018999934196472, 0.18709999322891235, -0.13089999556541443, -0.29670000076293945, 0.15379999577999115, 0.5598999857902527, 0.10700000077486038, -0.287200003862381, -0.004100000020116568, 0.33489999175071716, -0.2371000051498413, 3.791100025177002, 3.631999969482422, 3.5896999835968018, 3.4637999534606934, 3.3094000816345215, 3.072499990463257, 3.033600091934204, 3.01200008392334, 2.705699920654297, 2.4414000511169434, 2.422800064086914, 2.3622000217437744, 2.326200008392334, 2.222100019454956, 2.158900022506714, 2.1359000205993652, 2.075900077819824, 2.053100109100342, 2.0190999507904053, 2.005000114440918, 2.0035998821258545, 1.9917999505996704, 1.973099946975708, 1.9362000226974487, 1.9219000339508057, 1.9213999509811401, 1.916200041770935, 1.909999966621399, 1.8932000398635864, 1.892899990081787, 1.8450000286102295, 1.8503999710083008, 1.3450000286102295, 1.8280999660491943, 1.700700044631958, 1.5760999917984009, 1.5986000299453735, 1.4132000207901, 1.152500033378601, 1.375100016593933, 1.5707000494003296, 1.108199954032898, 0.7912999987602234, 0.6274999976158142, 0.41499999165534973, 0.4684999883174896, 1.2276999950408936, 0.583299994468689, 0.9854999780654907, 0.8090000152587891, 0.6937000155448914, 0.6557999849319458, 0.5870000123977661, 0.367900013923645, -0.03759999945759773, 0.0560000017285347, 0.49779999256134033, 0.45489999651908875, 0.2924000024795532, 0.47290000319480896, 0.4219000041484833, -0.04569999873638153, -0.3427000045776367, 3.446199893951416, 3.2836999893188477, 3.2414000034332275, 3.218899965286255, 2.904099941253662, 2.836199998855591, 2.670599937438965, 2.5467000007629395, 2.5209999084472656, 2.484299898147583, 2.4769999980926514, 2.4760000705718994, 2.4746999740600586, 2.4744999408721924, 2.440200090408325, 2.4265999794006348, 2.3856000900268555, 2.3396999835968018, 2.301500082015991, 2.290299892425537, 2.2764999866485596, 2.255500078201294, 2.250699996948242, 2.2486000061035156, 2.244499921798706, 2.237299919128418, 2.2346999645233154, 2.234299898147583, 2.2083001136779785, 2.188699960708618, 2.171999931335449, 1.9479000568389893, 1.8739999532699585, 1.6033999919891357, 1.3517999649047852, 1.5550999641418457, 1.0094000101089478, 1.7728999853134155, 0.8478000164031982, 0.9156000018119812, 0.9442999958992004, 1.5383000373840332, 1.4601000547409058, 0.5295000076293945, 0.13860000669956207, 0.3400999903678894, 0.5990999937057495, 0.754800021648407, 0.5232999920845032, -0.03819999843835831, 0.35740000009536743, 0.26739999651908875, -0.10599999874830246, -0.31279999017715454, -0.6363999843597412, 3.088900089263916, 2.9117000102996826, 2.6807000637054443, 2.6131999492645264, 2.588599920272827, 2.5445001125335693, 2.4874000549316406, 2.4017999172210693, 2.3519999980926514, 2.3420000076293945, 2.2455999851226807, 2.244800090789795, 2.20740008354187, 2.1782000064849854, 2.1710000038146973, 2.101799964904785, 2.0971999168395996, 1.9648000001907349, 1.9491000175476074, 1.9419000148773193, 1.9400999546051025, 1.9278000593185425, 1.9277000427246094, 1.9003000259399414, 1.88510000705719, 1.877500057220459, 1.8717999458312988, 1.8382999897003174, 1.8366999626159668, 1.8309999704360962, 1.8092000484466553, 1.7314000129699707, 1.767799973487854, 1.7335000038146973, 1.6510000228881836, 1.4046000242233276, 1.2405999898910522, 1.3122999668121338, 1.2158000469207764, 1.5054999589920044, 1.3092000484466553, 1.4557000398635864, 1.2752000093460083, 0.784600019454956, 0.9100000262260437, 1.2926000356674194, 1.545300006866455, 1.455899953842163, 0.5066999793052673, 0.861299991607666, 0.4311999976634979, 1.2201999425888062, 0.4878000020980835, 1.1785999536514282, 0.2046000063419342, 1.0271999835968018, 0.5830000042915344, 0.2953000068664551, -0.1404999941587448, 0.6230000257492065, 0.19699999690055847, 0.6157000064849854, 0.5591999888420105, 0.2280000001192093, -0.0658000037074089, 0.025699999183416367, -0.29179999232292175, 3.17330002784729, 2.878499984741211, 2.832900047302246, 2.7365000247955322, 2.7293999195098877, 2.6501998901367188, 2.6445000171661377, 2.5455000400543213, 2.4944000244140625, 2.4935998916625977, 2.446899890899658, 2.412100076675415, 2.3759000301361084, 2.3615000247955322, 2.3111000061035156, 2.277400016784668, 2.2597999572753906, 2.1898999214172363, 2.15910005569458, 2.1535000801086426, 2.142699956893921, 2.141200065612793, 2.116499900817871, 2.0971999168395996, 2.0645999908447266, 2.061000108718872, 2.047600030899048, 2.0322000980377197, 2.026599884033203, 2.0106000900268555, 1.9958000183105469, 1.973099946975708, 1.9106999635696411, 1.9917000532150269, 1.742300033569336, 1.7935999631881714, 1.9630999565124512, 1.520900011062622, 1.2805999517440796, 1.0872999429702759, 1.3128000497817993, 1.2805999517440796, 0.9440000057220459, 0.9815999865531921, 1.2486000061035156, 1.1017999649047852, 1.4457999467849731, 1.4335999488830566, 0.6344000101089478, 0.9359999895095825, 0.7366999983787537, 0.4025999903678894, 1.2372000217437744, 0.961899995803833, 0.814300000667572, 0.7261000275611877, 0.05079999938607216, 0.7854999899864197, 0.13259999454021454, 0.3458000123500824, 0.4390999972820282, 1.1333999633789062, 3.3785998821258545, 3.2934999465942383, 3.284600019454956, 3.2637999057769775, 3.133699893951416, 3.130500078201294, 3.063199996948242, 2.98009991645813, 2.961400032043457, 2.95740008354187, 2.8273000717163086, 2.7915000915527344, 2.7636001110076904, 2.7416999340057373, 2.736599922180176, 2.7112998962402344, 2.6953999996185303, 2.6726999282836914, 2.6695001125335693, 2.6672000885009766, 2.665600061416626, 2.661400079727173, 2.640399932861328, 2.638700008392334, 2.6379001140594482, 2.6312999725341797, 2.6161999702453613, 2.6120998859405518, 2.600600004196167, 2.570499897003174, 2.5408999919891357, 2.5434999465942383, 2.174999952316284, 2.416300058364868, 2.388400077819824, 2.360100030899048, 2.3480000495910645, 2.089600086212158, 2.2499001026153564, 1.882099986076355, 1.7249000072479248, 2.0820999145507812, 1.2457000017166138, 1.982200026512146, 1.788699984550476, 1.9229999780654907, 1.3080999851226807, 1.2552000284194946, 0.5774000287055969, 0.25529998540878296, 0.878600001335144, 0.41110000014305115, 0.7475000023841858, 0.11800000071525574, 0.057100001722574234, 0.6822999715805054, 0.6118000149726868, 1.1291999816894531, 0.6136999726295471, -0.29440000653266907, 0.8810999989509583, 0.11469999700784683, 0.41659998893737793, 0.11789999902248383, -0.27230000495910645, 0.28769999742507935, 3.7662999629974365, 3.7009999752044678, 3.660900115966797, 3.589600086212158, 3.420099973678589, 3.162100076675415, 3.1364998817443848, 3.1191000938415527, 3.11899995803833, 3.1119000911712646, 3.110300064086914, 3.0992000102996826, 3.093899965286255, 3.075500011444092, 3.072200059890747, 3.069000005722046, 3.0631000995635986, 3.0380001068115234, 3.0353000164031982, 2.9995999336242676, 2.9941000938415527, 2.9934000968933105, 2.990799903869629, 2.9827001094818115, 2.9746999740600586, 2.964200019836426, 2.9519999027252197, 2.951900005340576, 2.928800106048584, 2.9235999584198, 2.8770999908447266, 2.7723000049591064, 2.342900037765503, 2.648099899291992, 2.410099983215332, 1.7785999774932861, 2.285799980163574, 2.1967999935150146, 2.1656999588012695, 2.1607000827789307, 1.430299997329712, 2.0875000953674316, 1.895400047302246, 1.0516999959945679, 0.9650999903678894, 1.7824000120162964, 1.7339999675750732, 1.611199975013733, 0.45649999380111694, 0.4681999981403351, 0.09529999643564224, 0.4878999888896942, -0.42899999022483826, 0.5070000290870667, -0.08060000091791153, -0.32589998841285706, 1.094499945640564, -0.2596000134944916, 0.35830000042915344, 1.1344000101089478, 0.4918999969959259, 0.9864000082015991, 1.4752000570297241, 0.9404000043869019, 3.6542999744415283, 3.4586000442504883, 3.378999948501587, 3.3124001026153564, 3.2390999794006348, 3.2142999172210693, 3.1621999740600586, 3.0848000049591064, 2.996999979019165, 2.871299982070923, 2.8334999084472656, 2.770699977874756, 2.524199962615967, 2.1623001098632812, 1.9879000186920166, 1.9567999839782715, 1.9012999534606934, 1.8992999792099, 1.8621000051498413, 1.659600019454956, 1.6093000173568726, 1.5607999563217163, 1.5195000171661377, 1.5121999979019165, 1.5026999711990356, 1.4853999614715576, 1.4789999723434448, 1.4321999549865723, 1.427899956703186, 1.3312000036239624, 1.312999963760376, 1.2615000009536743, 1.0880999565124512, 1.1895999908447266, 1.1217999458312988, 0.8579000234603882, 0.5210999846458435, -0.29330000281333923, -0.46299999952316284, 0.42579999566078186, -0.11429999768733978, -0.2540999948978424, 0.5144000053405762, -0.5303000211715698, -0.8812999725341797, -1.11080002784729], \"logprob\": [30.0, 29.0, 28.0, 27.0, 26.0, 25.0, 24.0, 23.0, 22.0, 21.0, 20.0, 19.0, 18.0, 17.0, 16.0, 15.0, 14.0, 13.0, 12.0, 11.0, 10.0, 9.0, 8.0, 7.0, 6.0, 5.0, 4.0, 3.0, 2.0, 1.0, -7.2093000411987305, -6.34630012512207, -7.069499969482422, -6.733500003814697, -6.680500030517578, -7.4644999504089355, -5.100800037384033, -7.525400161743164, -8.052800178527832, -7.432499885559082, -6.838900089263916, -6.091300010681152, -6.456200122833252, -7.231200218200684, -6.695000171661377, -6.049699783325195, -6.452199935913086, -8.150099754333496, -6.496300220489502, -7.4029998779296875, -5.573800086975098, -7.687900066375732, -6.926400184631348, -7.085899829864502, -5.776500225067139, -6.996500015258789, -6.603099822998047, -7.077099800109863, -7.081500053405762, -8.156599998474121, -5.815299987792969, -6.093900203704834, -5.923900127410889, -6.707799911499023, -6.572199821472168, -6.015999794006348, -6.113999843597412, -5.785299777984619, -5.503300189971924, -4.982399940490723, -4.816400051116943, -5.13700008392334, -5.906899929046631, -6.473199844360352, -5.668700218200684, -5.252900123596191, -5.2453999519348145, -5.770400047302246, -5.862299919128418, -5.489799976348877, -5.72730016708374, -5.827499866485596, -5.778900146484375, -5.467199802398682, -5.72790002822876, -5.67579984664917, -5.574900150299072, -5.799900054931641, -5.893199920654297, -5.738900184631348, -5.934599876403809, -5.933700084686279, -5.940999984741211, -5.926199913024902, -7.191100120544434, -7.418600082397461, -6.832099914550781, -7.075099945068359, -6.526500225067139, -6.9552001953125, -7.445000171661377, -7.587500095367432, -7.432600021362305, -7.724699974060059, -6.583099842071533, -7.355400085449219, -7.565100193023682, -6.8582000732421875, -7.757800102233887, -7.646299839019775, -7.547900199890137, -6.832399845123291, -6.362100124359131, -7.608500003814697, -7.068699836730957, -6.436600208282471, -7.87060022354126, -6.454999923706055, -6.443600177764893, -7.31820011138916, -7.797399997711182, -7.486000061035156, -7.5183000564575195, -7.579599857330322, -6.757199764251709, -6.404600143432617, -5.935400009155273, -6.999800205230713, -6.475200176239014, -6.6092000007629395, -5.8734002113342285, -5.472599983215332, -6.546599864959717, -5.12060022354126, -6.363500118255615, -5.1971001625061035, -5.971199989318848, -5.008299827575684, -5.959000110626221, -5.09499979019165, -6.186399936676025, -6.068600177764893, -4.961900234222412, -6.10290002822876, -5.57889986038208, -5.430500030517578, -5.537600040435791, -5.886499881744385, -6.089200019836426, -5.50629997253418, -5.846799850463867, -5.28980016708374, -5.260499954223633, -5.587200164794922, -5.585100173950195, -5.460400104522705, -5.411900043487549, -5.889900207519531, -5.737199783325195, -5.332600116729736, -5.811800003051758, -5.506400108337402, -5.5640997886657715, -5.584799766540527, -5.270599842071533, -5.7052001953125, -5.507199764251709, -5.713200092315674, -5.730500221252441, -5.651700019836426, -5.797399997711182, -5.787499904632568, -6.191199779510498, -4.457799911499023, -5.991700172424316, -7.194300174713135, -4.890399932861328, -7.421199798583984, -5.855500221252441, -6.691299915313721, -4.181099891662598, -6.199699878692627, -5.015200138092041, -7.541200160980225, -7.420199871063232, -7.58519983291626, -4.995500087738037, -7.634300231933594, -7.948999881744385, -7.473899841308594, -8.043399810791016, -7.086299896240234, -5.764599800109863, -7.125100135803223, -8.157600402832031, -5.453100204467773, -7.5065999031066895, -5.572400093078613, -7.344399929046631, -7.815299987792969, -7.364500045776367, -8.080300331115723, -7.496300220489502, -6.792099952697754, -5.8429999351501465, -6.585599899291992, -5.394400119781494, -4.899700164794922, -6.56820011138916, -5.294300079345703, -4.5177001953125, -5.41949987411499, -5.692399978637695, -4.7515997886657715, -4.78249979019165, -5.09119987487793, -5.43120002746582, -5.378699779510498, -5.22629976272583, -5.536300182342529, -4.938199996948242, -5.793600082397461, -5.675600051879883, -4.920199871063232, -5.141200065612793, -5.231400012969971, -5.404699802398682, -5.566299915313721, -5.487500190734863, -5.5131001472473145, -5.485899925231934, -5.661499977111816, -4.123799800872803, -3.936500072479248, -5.087800025939941, -4.936100006103516, -5.029099941253662, -5.975900173187256, -5.841700077056885, -5.500500202178955, -6.495999813079834, -6.829899787902832, -6.883800029754639, -5.664899826049805, -6.650700092315674, -6.211299896240234, -4.8302998542785645, -6.312399864196777, -7.627600193023682, -7.639100074768066, -7.321700096130371, -7.73330020904541, -5.2947998046875, -7.856500148773193, -6.3379998207092285, -7.860499858856201, -7.892399787902832, -4.771399974822998, -8.001399993896484, -7.797599792480469, -5.249000072479248, -7.985799789428711, -7.68720006942749, -4.893499851226807, -6.321599960327148, -6.5183000564575195, -5.994699954986572, -7.122000217437744, -5.3597002029418945, -6.708199977874756, -6.074399948120117, -5.886099815368652, -6.033599853515625, -5.00540018081665, -5.361499786376953, -5.398600101470947, -5.541399955749512, -5.304200172424316, -5.166900157928467, -5.262499809265137, -5.615699768066406, -5.299799919128418, -5.553999900817871, -5.376999855041504, -5.502699851989746, -5.7093000411987305, -5.505499839782715, -5.757800102233887, -5.711100101470947, -5.7519001960754395, -5.110899925231934, -5.83050012588501, -5.2032999992370605, -6.712399959564209, -6.670100212097168, -6.495800018310547, -6.720600128173828, -5.264900207519531, -6.1508002281188965, -5.536099910736084, -5.952099800109863, -4.4131999015808105, -6.393700122833252, -6.973400115966797, -6.500199794769287, -4.026599884033203, -6.177199840545654, -4.775100231170654, -6.02839994430542, -6.313899993896484, -7.304500102996826, -5.90369987487793, -4.9664998054504395, -6.64139986038208, -7.548600196838379, -7.368199825286865, -7.19789981842041, -6.9440999031066895, -6.446800231933594, -7.909599781036377, -6.817699909210205, -6.081200122833252, -5.961900234222412, -5.361499786376953, -5.14109992980957, -5.163899898529053, -4.915900230407715, -5.151000022888184, -5.594699859619141, -5.5065999031066895, -4.987299919128418, -5.093999862670898, -5.219799995422363, -5.239799976348877, -5.496600151062012, -5.703100204467773, -5.404799938201904, -5.623300075531006, -5.355100154876709, -5.544000148773193, -5.6743998527526855, -5.560200214385986, -5.61269998550415, -5.662700176239014, -5.66349983215332, -5.861599922180176, -6.4446001052856445, -6.671000003814697, -6.877999782562256, -6.640999794006348, -6.735000133514404, -6.019700050354004, -5.729599952697754, -6.802599906921387, -6.491700172424316, -7.03879976272583, -6.074100017547607, -6.949900150299072, -7.1880998611450195, -6.0304999351501465, -6.367800235748291, -7.016200065612793, -6.910399913787842, -6.845099925994873, -5.744200229644775, -5.74459981918335, -7.230500221252441, -6.587299823760986, -7.525000095367432, -6.656199932098389, -6.476900100708008, -6.011600017547607, -6.6296000480651855, -6.819900035858154, -5.212900161743164, -5.563799858093262, -5.710700035095215, -5.892199993133545, -5.620800018310547, -5.53879976272583, -5.760900020599365, -4.2164998054504395, -5.6875, -4.624000072479248, -5.093800067901611, -5.2652997970581055, -5.926400184631348, -5.240699768066406, -5.40880012512207, -5.938600063323975, -6.092700004577637, -5.629899978637695, -5.770100116729736, -5.583700180053711, -5.672699928283691, -5.387599945068359, -5.609300136566162, -5.54610013961792, -5.334499835968018, -5.565800189971924, -5.6072001457214355, -5.590400218963623, -5.598299980163574, -5.575900077819824, -5.573699951171875, -5.690800189971924, -5.6757001876831055, -5.728700160980225, -5.306700229644775, -4.718800067901611, -5.678500175476074, -6.4604997634887695, -5.666500091552734, -6.329999923706055, -6.922299861907959, -4.796000003814697, -6.354800224304199, -4.883800029754639, -6.606900215148926, -6.297299861907959, -4.6996002197265625, -4.361700057983398, -7.05019998550415, -6.444499969482422, -6.452499866485596, -6.655600070953369, -6.986800193786621, -7.2017998695373535, -4.706399917602539, -7.380499839782715, -6.776899814605713, -6.467800140380859, -4.0040998458862305, -7.1269001960754395, -4.852799892425537, -7.662499904632568, -6.339300155639648, -6.598800182342529, -5.281199932098389, -5.46120023727417, -5.862500190734863, -6.252900123596191, -4.568999767303467, -5.237299919128418, -4.167300224304199, -4.562099933624268, -5.30649995803833, -5.673799991607666, -5.1656999588012695, -5.1508002281188965, -5.416600227355957, -5.774600028991699, -5.28879976272583, -5.498300075531006, -5.103099822998047, -5.193399906158447, -5.0879998207092285, -5.019899845123291, -5.256199836730957, -5.455999851226807, -5.434100151062012, -5.271599769592285, -5.297699928283691, -5.433800220489502, -3.8087000846862793, -4.558000087738037, -6.365699768066406, -6.13670015335083, -5.922800064086914, -6.025100231170654, -5.096199989318848, -5.781700134277344, -6.890699863433838, -6.941999912261963, -5.763700008392334, -6.860599994659424, -6.678100109100342, -7.035200119018555, -5.235300064086914, -6.935299873352051, -7.141600131988525, -7.111000061035156, -7.085000038146973, -6.051599979400635, -6.726600170135498, -6.817299842834473, -7.220099925994873, -7.0767998695373535, -6.521900177001953, -7.258900165557861, -7.011499881744385, -6.722899913787842, -7.466300010681152, -6.020599842071533, -5.491000175476074, -6.574900150299072, -6.254499912261963, -6.0553998947143555, -6.545100212097168, -5.968400001525879, -5.514800071716309, -5.1082000732421875, -5.6143999099731445, -4.803599834442139, -5.569200038909912, -5.019000053405762, -5.9029998779296875, -4.850599765777588, -5.510000228881836, -4.933700084686279, -5.247499942779541, -5.747399806976318, -5.685100078582764, -5.26039981842041, -5.383500099182129, -5.220200061798096, -5.49370002746582, -5.532700061798096, -5.507199764251709, -5.428800106048584, -5.330599784851074, -5.314499855041504, -5.50629997253418, -5.614200115203857, -5.525899887084961, -5.547100067138672, -5.635799884796143, -5.666600227355957, -5.660600185394287, -3.8559999465942383, -4.032299995422363, -5.140100002288818, -4.936299800872803, -5.301000118255615, -5.306700229644775, -4.945199966430664, -5.674699783325195, -5.411799907684326, -5.713799953460693, -6.856500148773193, -6.9822998046875, -6.863500118255615, -7.004000186920166, -6.992400169372559, -6.288099765777588, -7.288300037384033, -7.075799942016602, -7.0081000328063965, -6.84499979019165, -6.652500152587891, -6.617499828338623, -7.4730000495910645, -6.235000133514404, -7.234399795532227, -7.267399787902832, -5.921299934387207, -7.295599937438965, -7.391200065612793, -7.193399906158447, -4.937300205230713, -6.735400199890137, -3.7983999252319336, -6.79580020904541, -6.271699905395508, -5.758800029754639, -5.904200077056885, -5.4664998054504395, -4.897900104522705, -5.736199855804443, -6.179900169372559, -5.393899917602539, -4.880899906158447, -4.645699977874756, -4.602799892425537, -4.823299884796143, -5.730800151824951, -5.042500019073486, -5.55679988861084, -5.448200225830078, -5.375800132751465, -5.371399879455566, -5.437399864196777, -5.369999885559082, -5.297500133514404, -5.367599964141846, -5.500199794769287, -5.50570011138916, -5.51230001449585, -5.549799919128418, -5.547699928283691, -5.540800094604492, -5.542300224304199, -4.0640997886657715, -5.765999794006348, -5.469600200653076, -3.323499917984009, -6.462600231170654, -5.142600059509277, -5.161600112915039, -6.616000175476074, -6.493299961090088, -6.686999797821045, -5.171999931335449, -5.833399772644043, -6.69980001449585, -5.671999931335449, -5.063399791717529, -5.018400192260742, -6.9532999992370605, -6.51039981842041, -6.239500045776367, -5.005300045013428, -6.874800205230713, -6.63100004196167, -6.8480000495910645, -6.8292999267578125, -5.666100025177002, -6.519400119781494, -6.992599964141846, -5.948999881744385, -6.604300022125244, -6.708899974822998, -6.367800235748291, -4.596199989318848, -5.256800174713135, -4.447000026702881, -4.717599868774414, -5.324699878692627, -4.662799835205078, -5.964700222015381, -4.981900215148926, -5.107100009918213, -5.229800224304199, -5.784800052642822, -5.838699817657471, -5.208399772644043, -5.1346001625061035, -5.291600227355957, -5.425300121307373, -5.502299785614014, -5.497000217437744, -5.3196001052856445, -5.551700115203857, -5.534999847412109, -5.529600143432617, -5.604599952697754, -5.654200077056885, -5.82390022277832, -3.8649001121520996, -6.5802998542785645, -5.5731000900268555, -6.634200096130371, -5.358699798583984, -6.531099796295166, -7.02869987487793, -4.346700191497803, -6.326399803161621, -7.222300052642822, -7.058800220489502, -6.801799774169922, -6.68310022354126, -6.459400177001953, -7.177599906921387, -6.983699798583984, -7.162399768829346, -6.5980000495910645, -6.877500057220459, -7.0696001052856445, -7.252500057220459, -7.022299766540527, -7.284999847412109, -6.946199893951416, -6.6290998458862305, -7.544000148773193, -7.587600231170654, -7.542799949645996, -7.0665998458862305, -4.185100078582764, -5.600100040435791, -6.704800128936768, -6.504300117492676, -6.14109992980957, -5.021500110626221, -4.385200023651123, -4.774099826812744, -4.88100004196167, -5.756100177764893, -5.245299816131592, -5.736199855804443, -5.337800025939941, -4.358799934387207, -5.050600051879883, -5.7093000411987305, -6.124499797821045, -5.993800163269043, -4.692999839782715, -5.187300205230713, -4.82859992980957, -5.759799957275391, -5.145100116729736, -5.776700019836426, -5.087200164794922, -5.712900161743164, -5.463699817657471, -5.376800060272217, -5.158299922943115, -5.58050012588501, -5.434700012207031, -5.59250020980835, -5.582600116729736, -5.5767998695373535, -5.5609002113342285, -5.5903000831604, -5.5731000900268555, -5.629000186920166, -6.086299896240234, -6.115900039672852, -5.820400238037109, -5.021299839019775, -5.229100227355957, -6.123000144958496, -5.236599922180176, -5.783699989318848, -6.926199913024902, -5.4191999435424805, -6.307799816131592, -6.8053998947143555, -6.660900115966797, -6.868299961090088, -6.840700149536133, -5.7393999099731445, -6.755499839782715, -7.1072001457214355, -6.341899871826172, -6.408100128173828, -7.254199981689453, -6.945000171661377, -6.6666998863220215, -7.262599945068359, -5.388599872589111, -7.0817999839782715, -6.091000080108643, -6.9359002113342285, -7.223199844360352, -5.850200176239014, -5.612400054931641, -4.842100143432617, -6.123000144958496, -4.712399959564209, -5.708099842071533, -6.39739990234375, -4.999199867248535, -4.345200061798096, -4.112299919128418, -4.82889986038208, -4.816299915313721, -4.19950008392334, -4.310100078582764, -4.800000190734863, -4.85890007019043, -5.358799934387207, -5.424099922180176, -4.638800144195557, -5.133399963378906, -5.013500213623047, -4.8572998046875, -5.401500225067139, -5.271599769592285, -5.212900161743164, -5.2093000411987305, -4.9670000076293945, -5.261099815368652, -5.14870023727417, -5.285999774932861, -5.365699768066406, -5.417099952697754, -4.883999824523926, -5.95389986038208, -4.3796000480651855, -6.023200035095215, -5.3196001052856445, -5.964900016784668, -5.9492998123168945, -6.042799949645996, -4.876100063323975, -5.56879997253418, -6.617599964141846, -6.6143999099731445, -6.604499816894531, -6.609099864959717, -5.950099945068359, -6.616700172424316, -6.616199970245361, -6.614500045776367, -6.609799861907959, -6.732600212097168, -5.954599857330322, -5.948999881744385, -6.611400127410889, -6.596399784088135, -6.6143999099731445, -6.740099906921387, -6.623000144958496, -6.615300178527832, -6.612800121307373, -6.63670015335083, -4.734499931335449, -5.977399826049805, -4.6072998046875, -5.959499835968018, -6.036300182342529, -5.969299793243408, -5.98799991607666, -5.580100059509277, -6.052800178527832, -5.658599853515625, -5.543900012969971, -6.003499984741211, -5.234899997711182, -5.934000015258789, -5.781000137329102, -5.922999858856201, -5.526299953460693, -5.490200042724609, -5.048399925231934, -5.036399841308594, -5.378499984741211, -5.220600128173828, -5.3703999519348145, -5.141900062561035, -5.216100215911865, -5.431000232696533, -5.425899982452393, -5.578100204467773, -5.4832000732421875, -5.31220006942749, -5.6194000244140625, -5.501200199127197, -5.581399917602539, -5.554200172424316, -5.553599834442139, -5.621399879455566, -5.629700183868408, -5.6321001052856445, -4.952899932861328, -4.269000053405762, -5.631499767303467, -6.294400215148926, -6.291900157928467, -6.291999816894531, -6.292699813842773, -6.293499946594238, -4.7230000495910645, -5.231800079345703, -6.2820000648498535, -6.295899868011475, -6.290299892425537, -6.293499946594238, -6.288700103759766, -6.292300224304199, -6.295899868011475, -6.284900188446045, -5.229300022125244, -6.289100170135498, -6.289599895477295, -6.284299850463867, -6.294899940490723, -6.2729997634887695, -5.631999969482422, -6.295499801635742, -6.291999816894531, -5.622900009155273, -5.630499839782715, -4.946899890899658, -4.925300121307373, -5.628499984741211, -5.620299816131592, -4.92579984664917, -5.624800205230713, -5.599999904632568, -5.620299816131592, -5.622799873352051, -5.173699855804443, -5.6234002113342285, -5.606500148773193, -5.205399990081787, -5.209000110626221, -5.611999988555908, -5.606500148773193, -5.603799819946289, -5.175300121307373, -5.191800117492676, -5.164599895477295, -5.513599872589111, -5.446800231933594, -5.530700206756592, -5.504199981689453, -5.5254998207092285, -5.5802001953125, -5.540900230407715, -5.568299770355225, -5.5904998779296875, -5.577600002288818, -5.591300010681152, -5.603600025177002, -5.599800109863281, -5.782199859619141, -5.497099876403809, -5.807799816131592, -6.106500148773193, -5.841899871826172, -5.825200080871582, -6.25600004196167, -5.813499927520752, -6.07480001449585, -6.198800086975098, -6.264400005340576, -5.814300060272217, -6.6407999992370605, -6.545300006866455, -6.668900012969971, -6.14169979095459, -5.265600204467773, -6.758299827575684, -5.798999786376953, -6.041600227355957, -6.8942999839782715, -5.164000034332275, -6.603799819946289, -7.473199844360352, -7.851200103759766, -7.942999839782715, -7.859899997711182, -6.0980000495910645, -5.376699924468994, -8.014200210571289, -6.8582000732421875, -6.507400035858154, -5.608500003814697, -6.529699802398682, -6.512899875640869, -6.175300121307373, -5.767099857330322, -5.585000038146973, -5.480800151824951, -6.083899974822998, -5.919099807739258, -5.886899948120117, -6.19290018081665, -6.146200180053711, -6.141200065612793, -6.254199981689453]}, \"token.table\": {\"Topic\": [3, 7, 1, 2, 3, 4, 5, 7, 8, 9, 10, 11, 1, 2, 3, 4, 5, 6, 10, 12, 1, 2, 3, 4, 5, 6, 7, 8, 9, 10, 11, 12, 1, 2, 3, 4, 5, 6, 8, 9, 1, 3, 4, 5, 8, 9, 1, 2, 6, 8, 9, 10, 1, 2, 3, 4, 5, 6, 7, 9, 10, 1, 2, 3, 4, 5, 6, 8, 9, 13, 1, 2, 3, 4, 5, 6, 7, 8, 9, 11, 12, 1, 3, 4, 5, 1, 2, 3, 4, 5, 6, 7, 9, 10, 12, 1, 2, 3, 4, 5, 6, 9, 10, 12, 1, 3, 4, 5, 7, 1, 2, 3, 4, 5, 6, 7, 11, 1, 2, 3, 4, 5, 6, 7, 8, 9, 10, 11, 12, 14, 1, 2, 3, 4, 5, 6, 7, 10, 11, 13, 1, 2, 3, 4, 5, 8, 9, 10, 11, 13, 14, 1, 2, 3, 5, 8, 14, 1, 2, 3, 6, 9, 10, 1, 2, 3, 4, 5, 6, 7, 8, 9, 10, 11, 12, 13, 1, 2, 3, 4, 5, 6, 7, 9, 11, 12, 13, 1, 2, 3, 4, 5, 7, 1, 2, 6, 10, 13, 1, 2, 3, 5, 7, 8, 9, 10, 11, 12, 13, 1, 2, 3, 4, 5, 7, 8, 11, 13, 1, 2, 3, 4, 5, 6, 7, 8, 9, 10, 11, 12, 13, 3, 4, 5, 6, 7, 11, 12, 4, 1, 6, 9, 3, 7, 12, 1, 2, 6, 9, 1, 2, 3, 4, 5, 6, 7, 8, 9, 10, 11, 1, 3, 4, 5, 6, 7, 11, 1, 2, 3, 4, 5, 6, 7, 8, 9, 10, 11, 13, 14, 1, 3, 5, 7, 8, 9, 3, 5, 8, 11, 2, 6, 9, 13, 1, 2, 3, 4, 5, 6, 7, 8, 9, 10, 11, 12, 14, 1, 2, 3, 4, 5, 6, 7, 8, 9, 10, 11, 12, 13, 1, 2, 6, 3, 5, 8, 9, 11, 1, 2, 9, 11, 1, 2, 3, 5, 6, 7, 8, 9, 10, 1, 2, 3, 6, 9, 14, 1, 2, 4, 5, 8, 10, 1, 2, 3, 4, 6, 7, 8, 9, 10, 12, 1, 2, 3, 4, 5, 6, 8, 9, 10, 11, 13, 14, 5, 1, 2, 3, 4, 5, 6, 8, 10, 4, 11, 1, 2, 3, 6, 8, 9, 1, 2, 3, 4, 5, 6, 7, 8, 9, 10, 11, 12, 1, 2, 9, 1, 2, 6, 9, 12, 1, 2, 3, 4, 5, 6, 7, 8, 9, 10, 11, 12, 1, 2, 4, 5, 6, 8, 1, 2, 8, 1, 2, 9, 2, 4, 5, 8, 10, 1, 2, 3, 4, 6, 7, 10, 14, 1, 2, 3, 4, 5, 7, 8, 9, 10, 13, 1, 2, 3, 4, 5, 6, 7, 8, 10, 14, 2, 3, 4, 5, 7, 11, 1, 2, 3, 4, 5, 6, 7, 8, 9, 10, 11, 12, 13, 14, 3, 7, 12, 1, 2, 6, 9, 10, 2, 3, 4, 5, 6, 7, 8, 9, 10, 11, 1, 2, 3, 5, 6, 7, 12, 1, 2, 3, 4, 5, 6, 7, 9, 10, 11, 12, 13, 1, 2, 7, 9, 1, 3, 4, 5, 8, 11, 1, 3, 5, 1, 2, 3, 4, 7, 8, 1, 6, 3, 4, 5, 7, 10, 11, 1, 2, 3, 4, 5, 6, 7, 8, 9, 10, 13, 2, 3, 4, 5, 6, 7, 10, 11, 12, 1, 2, 3, 4, 5, 6, 1, 2, 4, 5, 14, 3, 4, 5, 11, 1, 3, 4, 5, 6, 7, 8, 10, 11, 12, 1, 3, 4, 5, 7, 10, 1, 2, 3, 4, 5, 6, 7, 8, 9, 10, 11, 13, 1, 2, 3, 4, 5, 6, 7, 8, 9, 11, 12, 13, 1, 2, 6, 8, 12, 13, 3, 7, 3, 4, 7, 12, 1, 2, 4, 5, 8, 1, 2, 3, 4, 5, 12, 1, 2, 3, 5, 6, 8, 10, 1, 2, 6, 14, 1, 2, 3, 4, 5, 6, 7, 8, 1, 2, 3, 6, 1, 2, 3, 4, 5, 6, 9, 10, 11, 1, 2, 4, 6, 7, 9, 1, 3, 4, 5, 6, 8, 9, 10, 3, 7, 12, 3, 5, 11, 1, 3, 4, 5, 6, 7, 9, 10, 11, 12, 1, 2, 3, 4, 5, 6, 7, 8, 9, 10, 11, 12, 13, 1, 2, 3, 4, 5, 6, 7, 8, 9, 10, 11, 12, 1, 3, 4, 5, 7, 12, 1, 3, 4, 7, 1, 2, 3, 6, 8, 13, 1, 2, 4, 5, 13, 1, 2, 3, 4, 5, 7, 13, 1, 2, 3, 4, 6, 8, 10, 1, 2, 3, 4, 8, 9, 1, 2, 3, 4, 5, 6, 7, 8, 9, 11, 12, 1, 3, 4, 5, 6, 7, 11, 14, 1, 2, 3, 4, 5, 6, 9, 1, 2, 3, 4, 5, 9, 12, 1, 2, 3, 4, 5, 6, 7, 8, 9, 10, 11, 12, 1, 8, 1, 2, 3, 5, 7, 1, 2, 6, 8, 10, 1, 2, 3, 6, 8, 10, 1, 3, 4, 5, 6, 7, 8, 9, 3, 5, 8, 11, 1, 2, 3, 4, 5, 6, 7, 8, 9, 10, 11, 12, 13, 1, 2, 6, 9, 10, 1, 2, 3, 4, 5, 6, 7, 8, 9, 10, 13, 3, 4, 4, 1, 2, 3, 4, 5, 6, 7, 9, 11, 1, 2, 3, 4, 5, 6, 7, 8, 9, 10, 11, 12, 13, 1, 2, 3, 4, 5, 6, 8, 9, 10, 1, 2, 3, 4, 5, 6, 7, 8, 9, 11, 12, 13, 1, 2, 3, 4, 5, 6, 7, 8, 9, 10, 13, 1, 2, 3, 4, 5, 6, 7, 8, 9, 11, 12, 1, 2, 6, 1, 2, 3, 4, 5, 7, 8, 11, 13, 1, 3, 4, 5, 12, 1, 6, 14, 1, 3, 4, 5, 7, 10, 11, 1, 2, 3, 6, 7, 8, 1, 2, 6, 10, 1, 2, 4, 7, 8, 10, 2, 6, 8, 12, 1, 3, 4, 5, 11, 1, 2, 6, 8, 1, 3, 4, 5, 7, 9, 10, 11, 1, 2, 3, 4, 5, 6, 7, 8, 9, 10, 11, 12, 1, 2, 3, 4, 5, 6, 7, 8, 9, 10, 11, 1, 2, 3, 4, 5, 7, 8, 9, 10, 11, 12, 1, 1, 3, 4, 5, 7, 8, 14, 1, 2, 6, 9, 11, 1, 2, 6, 7, 10, 11, 14, 3, 7, 1, 2, 3, 4, 5, 6, 7, 8, 9, 10, 11, 12, 13, 14, 2, 3, 5, 9, 10, 1, 2, 4, 6, 9, 1, 2, 3, 4, 5, 6, 7, 8, 9, 10, 11, 12, 1, 2, 6, 1, 2, 3, 4, 5, 6, 7, 9, 11, 12, 13, 14, 1, 2, 3, 4, 5, 6, 8, 9, 10, 13, 14, 1, 2, 3, 4, 5, 7, 8, 11, 12, 13, 1, 2, 3, 4, 8, 10, 11, 1, 3, 4, 5, 8, 9, 10, 12, 3, 4, 6, 11, 4, 5, 9, 1, 2, 3, 5, 8, 10, 11, 12, 3, 7, 12, 1, 2, 6, 14, 1, 3, 7, 12, 1, 2, 3, 5, 6, 12, 2, 3, 4, 5, 7, 11, 1, 2, 3, 4, 5, 6, 7, 8, 10, 11, 12, 13, 1, 2, 3, 6, 7, 8, 10, 3, 7, 1, 2, 3, 5, 9, 1, 2, 3, 4, 5, 6, 7, 8, 9, 10, 11, 1, 2, 6, 14, 1, 6, 1, 2, 6, 10, 14, 1, 2, 4, 5, 6, 8, 9, 11, 1, 3, 4, 5, 11, 12, 1, 2, 3, 4, 5, 6, 11, 13, 1, 2, 3, 4, 5, 6, 8, 11, 12, 13, 1, 3, 4, 5, 6, 7, 11, 12, 1, 3, 4, 5, 6, 7, 11, 12, 1, 2, 3, 4, 5, 6, 7, 8, 9, 10, 12, 13, 14, 1, 2, 3, 4, 5, 6, 7, 8, 9, 10, 11, 12, 13, 14, 1, 2, 6, 9, 10, 13, 1, 2, 3, 4, 5, 6, 7, 8, 9, 10, 11, 12, 13, 2, 3, 6, 7, 8, 9, 10, 12, 1, 2, 3, 4, 5, 13, 1, 2, 3, 4, 5, 6, 7, 8, 9, 10, 11, 12, 1, 2, 3, 4, 5, 6, 8, 9, 11, 12, 4, 11, 1, 2, 6, 1, 3, 4, 6, 7, 10, 11, 1, 2, 6, 10, 1, 2, 3, 4, 5, 6, 7, 8, 9, 10, 11, 12, 1, 2, 3, 6, 8, 14, 1, 2, 3, 4, 5, 6, 7, 8, 9, 10, 11, 12, 13, 14, 4, 11, 1, 2, 6, 1, 2, 4, 5, 6, 7, 8, 11, 1, 2, 7, 8, 10, 1, 2, 3, 4, 5, 6, 7, 8, 9, 10, 11, 12, 1, 2, 4, 5, 6, 10, 13, 1, 2, 3, 4, 5, 6, 8, 9, 10, 1, 2, 3, 4, 5, 6, 7, 8, 9, 10, 12, 1, 2, 8, 9, 14, 1, 2, 3, 4, 5, 7, 9, 11, 13, 5, 1, 2, 3, 4, 1, 2, 3, 4, 5, 6, 10, 1, 2, 6, 1, 2, 4, 6, 8, 1, 2, 6, 8, 1, 2, 3, 4, 7, 9, 12, 1, 2, 3, 4, 5, 6, 8, 10, 1, 2, 3, 6, 8, 9, 10, 14, 1, 2, 3, 4, 5, 6, 7, 8, 9, 12, 14, 1, 2, 3, 4, 5, 6, 7, 8, 9, 11, 12, 13, 1, 2, 3, 7, 10, 14, 1, 2, 5, 6, 10, 3, 5, 2, 9, 1, 2, 6, 7, 9, 14, 1, 3, 4, 5, 8, 1, 2, 3, 4, 5, 6, 7, 8, 9, 10, 11, 2, 3, 5, 8, 9, 10, 1, 2, 5, 9, 13, 1, 2, 6, 8, 1, 2, 6, 1, 2, 3, 4, 5, 6, 7, 8, 9, 10, 11, 12, 13, 14, 1, 2, 3, 4, 5, 9, 1, 2, 3, 4, 5, 8, 10, 1, 2, 8, 1, 2, 3, 4, 5, 6, 8, 9, 10, 12, 3, 7, 12, 1, 2, 3, 4, 5, 6, 7, 8, 9, 10, 11, 12, 14, 1, 2, 3, 4, 5, 6, 7, 8, 9, 10, 11, 12, 13, 14, 1, 2, 3, 4, 5, 6, 7, 8, 9, 10, 11, 12, 13, 1, 2, 3, 5, 6, 8, 9, 10, 1, 2, 6, 9, 12, 1, 2, 3, 4, 5, 6, 7, 8, 9, 10, 11, 12, 13, 14, 1, 2, 3, 4, 5, 6, 7, 8, 9, 10, 11, 12, 2, 3, 5, 7, 8, 12, 1, 2, 3, 4, 5, 7, 8, 9, 10, 1, 2, 3, 4, 5, 6, 13, 1, 2, 3, 4, 6, 7, 8, 9, 10, 11, 13, 1, 2, 3, 4, 5, 6, 7, 8, 9, 10, 11, 12, 1, 2, 3, 5, 6, 7, 8, 9, 10, 11, 13, 1, 2, 3, 4, 5, 6, 7, 8, 9, 10, 11, 12, 13, 14, 1, 2, 4, 6, 8, 14, 1, 3, 5, 6, 7, 12, 3, 7, 12, 1, 2, 4, 5, 6, 8, 11, 13, 1, 2, 3, 4, 5, 6, 7, 8, 9, 10, 11, 12, 13, 1, 2, 3, 4, 5, 6, 7, 8, 9, 10, 11, 12, 14, 1, 2, 3, 4, 5, 6, 7, 8, 9, 10, 11, 12, 13, 14, 1, 2, 3, 4, 5, 6, 7, 8, 9, 10, 11, 12, 14, 1, 2, 4, 6, 7, 1, 2, 3, 8, 9, 10, 1, 10, 3, 7, 9, 5, 3, 7, 12, 1, 2, 3, 5, 6, 8, 9, 10, 14, 1, 2, 1, 2, 3, 4, 5, 6, 7, 8, 9, 10, 11, 12, 1, 2, 3, 4, 5, 6, 7, 8, 9, 10, 11, 12, 1, 2, 3, 4, 5, 6, 7, 10, 14, 2, 3, 4, 5, 6, 7, 9, 11, 1, 2, 3, 4, 5, 6, 7, 8, 9, 10, 11, 12, 13, 1, 2, 3, 4, 5, 6, 7, 8, 9, 11, 12, 14, 1, 2, 3, 4, 5, 6, 7, 8, 9, 10, 11, 12, 13, 1, 2, 4, 5, 13, 1, 8, 1, 5, 8, 9, 11, 1, 2, 3, 4, 8, 13, 1, 6, 10, 1, 2, 3, 4, 5, 6, 7, 8, 9, 12, 1, 2, 3, 4, 5, 6, 7, 8, 9, 11, 12, 1, 2, 3, 4, 5, 8, 10, 1, 2, 6, 9, 10, 1, 2, 6, 8, 9, 1, 2, 3, 4, 5, 7, 14, 1, 3, 4, 5, 7, 9, 12, 1, 2, 3, 4, 6, 7, 14, 1, 2, 3, 4, 5, 9, 11, 1, 3, 4, 5, 7, 8, 12, 1, 2, 3, 4, 5, 8, 1, 3, 4, 9, 3, 7, 12, 3, 5, 7, 1, 2, 3, 4, 5, 6, 7, 8, 9, 10, 11, 12, 13, 1, 2, 3, 4, 5, 6, 7, 8, 9, 1, 2, 6, 14, 3, 4, 11, 1, 2, 3, 4, 5, 6, 7, 8, 9, 10, 11, 12, 13, 1, 2, 3, 5, 8, 12, 3, 5, 11, 1, 2, 3, 4, 5, 6, 7, 8, 9, 10, 11, 12, 3, 7, 12, 1, 2, 3, 4, 5, 6, 7, 8, 9, 10, 11, 12, 13, 14, 1, 2, 3, 4, 5, 6, 9, 11, 14, 1, 2, 3, 4, 5, 6, 7, 8, 9, 10, 11, 12, 1, 2, 3, 4, 5, 6, 7, 8, 9, 10, 11, 12, 1, 3, 4, 5, 6, 9, 1, 2, 3, 4, 5, 6, 7, 8, 9, 10, 13, 1, 2, 3, 4, 5, 6, 7, 8, 9, 10, 1, 2, 3, 4, 5, 6, 7, 8, 9, 10, 11, 12, 13, 1, 6, 14, 1, 2, 3, 4, 5, 8, 14, 1, 2, 6, 7, 8, 1, 2, 3, 4, 5, 6, 7, 8, 9, 10, 11, 12, 13, 14, 1, 2, 3, 4, 5, 6, 7, 8, 9, 10, 11, 12, 13, 1, 2, 3, 4, 7, 11, 1, 2, 3, 4, 5, 6, 7, 8, 9, 10, 11, 12, 1, 2, 3, 4, 5, 6, 7, 8, 9, 10, 11, 12, 13, 14, 1, 2, 3, 5, 6, 12, 13, 1, 3, 4, 5, 6, 7, 8, 11, 1, 2, 4, 6, 10, 1, 3, 4, 14, 1, 2, 3, 4, 5, 6, 7, 8, 9, 10, 11, 12, 13, 14, 3, 5, 9, 11, 1, 2, 4, 6, 8, 9, 10, 1, 4, 5, 8, 12, 1, 2, 3, 6, 14, 1, 2, 3, 4, 5, 6, 7, 8, 9, 10, 11, 12, 13, 14, 5, 11, 1, 2, 3, 4, 5, 6, 7, 8, 9, 10, 11, 12, 13, 1, 2, 3, 4, 5, 6, 7, 8, 9, 10, 11, 12, 13, 1, 2, 3, 4, 5, 6, 7, 8, 9, 10, 11, 12, 14, 1, 2, 3, 4, 5, 6, 7, 8, 9, 10, 11, 12, 13, 1, 2, 6, 8, 13, 5, 11, 1, 3, 4, 5, 8, 11, 12, 1, 2, 3, 4, 6, 9, 11, 3, 5, 11, 12, 1, 2, 3, 4, 5, 6, 7, 8, 9, 10, 12, 1, 2, 3, 4, 5, 6, 7, 9, 11, 13, 1, 2, 3, 6, 9, 14, 1, 2, 6, 8, 10, 1, 6, 1, 2, 3, 4, 5, 6, 7, 8, 9, 10, 11, 12, 3, 4, 6, 9, 12, 13, 1, 2, 3, 4, 5, 6, 7, 8, 9, 10, 11, 12, 13, 14, 1, 2, 3, 4, 5, 6, 8, 10, 11, 3, 4, 6, 11, 3, 7, 12, 1, 2, 3, 4, 5, 6, 7, 8, 9, 10, 11, 13, 1, 2, 3, 4, 5, 6, 7, 8, 9, 10, 11, 12, 14, 1, 6, 10, 1, 2, 3, 4, 5, 6, 7, 8, 9, 10, 11, 12, 14, 1, 2, 3, 4, 5, 6, 7, 8, 9, 10, 11, 12, 5, 11, 3, 4, 2, 9, 10, 1, 2, 3, 4, 5, 6, 7, 8, 9, 10, 11, 12, 13, 14, 1, 2, 3, 4, 5, 7, 9, 11, 12, 13, 1, 2, 3, 4, 5, 7, 10, 11, 1, 2, 3, 4, 5, 6, 7, 8, 9, 10, 11, 12, 13, 1, 2, 3, 5, 6, 11, 1, 2, 6, 1, 2, 6, 8, 10, 1, 2, 6, 8, 9, 10, 2, 6, 1, 2, 3, 4, 5, 6, 7, 8, 9, 10, 11, 12, 14, 1, 2, 3, 4, 5, 8, 11, 1, 2, 3, 4, 5, 6, 8, 9, 13, 1, 2, 3, 4, 5, 6, 7, 8, 9, 10, 12, 14, 1, 2, 6, 1, 2, 3, 4, 5, 6, 7, 8, 9, 10, 11, 12, 13, 3, 5, 7, 8, 1, 2, 4, 6, 7, 9, 11, 5, 11, 1, 2, 3, 4, 5, 6, 7, 8, 9, 10, 11, 12, 1, 3, 4, 5, 6, 7, 8, 9, 12, 1, 3, 5, 7, 9, 13, 1, 2, 3, 4, 5, 6, 7, 8, 9, 10, 11, 12, 14, 4, 1, 2, 6, 1, 2, 4, 6, 7, 8, 9, 1, 2, 3, 6, 7, 9, 13, 1, 4, 5, 7, 14, 1, 3, 4, 5, 7, 9, 12, 1, 3, 4, 5, 7, 10, 11, 1, 3, 4, 5, 6, 9, 3, 4, 5, 5, 6, 11, 1, 2, 3, 4, 5, 6, 7, 8, 9, 10, 11, 12, 13, 1, 2, 3, 4, 5, 6, 7, 8, 9, 10, 11, 12, 1, 3, 4, 5, 7, 1, 3, 4, 5, 6, 8, 13, 1, 2, 3, 4, 7, 10, 1, 2, 3, 5, 6, 7, 1, 2, 3, 4, 5, 6, 7, 8, 10, 11, 12, 13, 3, 4, 12, 1, 2, 6, 8, 9, 14, 1, 3, 5, 6, 7, 8, 9, 12, 13, 1, 2, 3, 4, 5, 8, 10, 11, 12, 1, 2, 3, 4, 5, 6, 7, 8, 9, 10, 11, 12, 1, 6, 1, 2, 3, 4, 5, 6, 7, 8, 9, 10, 11, 12, 13, 1, 2, 4, 13, 1, 2, 6, 14, 1, 6, 9, 1, 6, 8, 5, 8, 11, 1, 2, 6, 1, 2, 3, 4, 5, 6, 7, 8, 9, 10, 11, 12, 13, 1, 2, 3, 7, 12, 1, 2, 6, 1, 2, 4, 6, 9, 10, 3, 4, 5, 7, 11, 1, 2, 3, 4, 5, 6, 8, 9, 11, 1, 2, 6, 7, 9, 1, 2, 3, 4, 5, 6, 7, 8, 9, 10, 11, 12, 1, 2, 3, 4, 5, 8, 14, 1, 2, 3, 4, 5, 6, 7, 9, 10, 11, 12, 13, 1, 2, 4, 6, 1, 2, 3, 4, 5, 6, 7, 8, 9, 11, 14, 1, 2, 3, 4, 6, 7, 8, 9, 1, 3, 4, 5, 6, 8, 1, 6, 9, 1, 2, 3, 4, 5, 6, 7, 8, 9, 10, 11, 12, 13, 1, 2, 4, 5, 6, 8, 9, 10, 13, 1, 3, 4, 7, 11, 12, 1, 2, 6, 8, 1, 2, 3, 4, 5, 6, 9, 10, 11, 13, 1, 4, 5, 6, 1, 2, 6, 8, 1, 2, 6, 8, 11, 13, 1, 2, 6, 9, 1, 2, 3, 4, 5, 6, 7, 9, 11, 1, 6, 14, 1, 3, 8, 9, 14, 1, 2, 6, 14, 1, 2, 3, 4, 6, 7, 8, 10, 11, 12, 14, 1, 2, 3, 4, 5, 7, 10, 11, 12, 1, 2, 3, 4, 5, 6, 7, 8, 10, 11, 12, 3, 7, 1, 2, 3, 4, 5, 7, 8, 1, 2, 3, 4, 5, 6, 7, 8, 9, 11, 12, 13, 14, 1, 2, 3, 4, 5, 10, 14, 1, 3, 5, 7, 8, 9, 11, 12, 1, 2, 3, 4, 5, 6, 8, 9, 11, 1, 2, 6, 9, 13, 3, 5, 6, 11, 1, 2, 3, 4, 5, 8, 1, 2, 3, 4, 5, 6, 9, 12, 1, 2, 3, 4, 5, 6, 7, 8, 9, 10, 11, 12, 1, 2, 3, 4, 5, 6, 7, 8, 10, 11, 12, 13, 1, 6, 3, 4, 5, 6, 8, 9, 11, 14, 1, 2, 4, 5, 6, 7, 9, 14, 1, 2, 4, 5, 6, 9, 1, 2, 5, 6, 1, 2, 6, 9, 10, 12, 1, 2, 3, 4, 5, 6, 7, 8, 9, 10, 11, 12, 13, 14, 1, 2, 3, 4, 5, 6, 7, 8, 9, 10, 1, 2, 3, 4, 5, 6, 7, 8, 9, 10, 11, 14, 3, 5, 1, 2, 3, 4, 5, 6, 7, 8, 9, 10, 11, 12, 1, 2, 6, 1, 2, 3, 4, 5, 6, 7, 8, 9, 10, 12, 1, 6, 14, 1, 2, 6, 8, 10, 12, 1, 3, 5, 7, 12, 1, 2, 3, 4, 5, 6, 7, 8, 9, 10, 11, 12, 1, 2, 3, 4, 5, 6, 7, 8, 9, 10, 11, 12, 1, 2, 5, 7, 8, 10, 14, 1, 2, 3, 4, 5, 6, 8, 9, 10, 13, 14, 1, 2, 3, 6, 8, 9, 10, 14, 1, 2, 3, 5, 6, 7, 10, 12, 1, 2, 3, 5, 6, 7, 12, 1, 2, 3, 4, 5, 6, 7, 9, 10, 11, 12, 13, 1, 2, 3, 4, 5, 6, 7, 8, 9, 10, 11, 14, 1, 2, 3, 4, 5, 6, 7, 8, 9, 10, 11, 12, 13, 14, 1, 2, 3, 4, 5, 6, 9, 14, 3, 4, 5, 7, 3, 4, 5, 7, 1, 2, 5, 8, 9, 11, 1, 3, 4, 5, 6, 7, 8, 12, 1, 2, 3, 4, 5, 6, 7, 8, 9, 10, 11, 13, 1, 2, 3, 4, 5, 6, 7, 9, 12, 1, 2, 3, 4, 5, 6, 11, 1, 2, 6, 7, 8, 1, 2, 3, 4, 5, 6, 7, 8, 9, 10, 11, 12, 13, 1, 2, 3, 4, 5, 6, 7, 8, 9, 10, 11, 12, 1, 2, 3, 4, 6, 9, 13, 1, 2, 4, 6, 8, 9, 10, 1, 3, 4, 9, 10, 11, 1, 3, 4, 7, 8, 9, 12, 1, 3, 5, 6, 8, 1, 2, 3, 4, 6, 8, 9, 1, 2, 4, 5, 6, 13, 1, 2, 3, 4, 5, 6, 7, 8, 9, 10, 11, 12, 13, 1, 2, 3, 4, 5, 6, 7, 8, 9, 10, 11, 12, 13, 14, 1, 2, 4, 5, 7, 8, 12, 1, 2, 3, 4, 5, 6, 7, 8, 9, 10, 11, 12, 1, 2, 4, 5, 6, 7, 8, 12, 14, 1, 2, 4, 5, 6, 7, 10, 12, 1, 2, 3, 4, 5, 6, 7, 8, 9, 10, 11, 12, 1, 2, 3, 4, 5, 14, 1, 2, 3, 4, 5, 6, 7, 8, 9, 10, 11, 12, 4, 1, 2, 3, 4, 5, 6, 7, 8, 9, 10, 11, 12, 1, 2, 6, 8, 13, 1, 3, 6, 8, 9, 10, 11, 13, 1, 2, 3, 4, 5, 6, 7, 8, 9, 10, 12, 1, 2, 3, 4, 5, 6, 7, 8, 9, 10, 11, 12, 13, 14, 1, 2, 4, 6, 8, 1, 2, 3, 4, 5, 6, 7, 12, 13, 1, 2, 3, 4, 5, 6, 7, 9, 10, 11, 1, 2, 8, 14, 1, 2, 3, 4, 6, 7, 1, 2, 3, 4, 5, 6, 7, 8, 9, 11, 12, 1, 2, 3, 4, 5, 6, 7, 8, 9, 10, 11, 12, 14, 3, 7, 3, 7, 12, 1, 2, 4, 5, 10, 13, 1, 2, 3, 4, 5, 6, 7, 8, 9, 10, 11, 12, 1, 2, 3, 5, 6, 8, 10, 14, 1, 2, 3, 4, 5, 6, 7, 8, 9, 1, 2, 3, 6, 8, 1, 3, 4, 5, 6, 7, 8, 13, 1, 2, 3, 4, 5, 6, 7, 9, 11, 1, 2, 4, 8, 9, 13, 1, 2, 3, 5, 6, 7, 8, 12, 1, 2, 3, 4, 5, 6, 7, 8, 9, 10, 11, 12, 1, 2, 3, 4, 5, 6, 7, 8, 9, 10, 11, 12, 13, 2, 8, 9, 10, 1, 2, 3, 4, 5, 6, 7, 8, 10, 12, 13, 1, 2, 3, 4, 5, 6, 7, 8, 9, 10, 11, 12, 13, 14, 1, 2, 3, 4, 6, 7, 10, 11, 1, 2, 6, 8, 9, 13, 14, 1, 2, 3, 4, 5, 6, 7, 8, 9, 10, 11, 12, 1, 2, 3, 4, 5, 6, 7, 8, 9, 10, 11, 12, 13, 14, 1, 2, 3, 4, 5, 6, 7, 8, 9, 10, 11, 12, 1, 2, 3, 4, 5, 6, 7, 8, 9, 10, 11, 12, 1, 2, 6, 10, 14, 1, 2, 3, 4, 6, 7, 8, 9, 10, 12, 1, 2, 3, 4, 5, 6, 7, 9, 11, 13, 1, 2, 3, 4, 5, 6, 7, 8, 10, 1, 2, 3, 4, 5, 6, 7, 9, 14, 1, 2, 6, 7, 9, 2, 3, 4, 5, 7, 8, 9, 11, 12, 1, 4, 6, 8, 9, 10, 12, 1, 2, 3, 4, 5, 6, 7, 9, 11, 12, 13, 3, 4, 5, 8, 2, 3, 4, 5, 7, 10, 12, 1, 2, 3, 4, 10, 11, 1, 2, 4, 6, 8, 9, 10, 1, 4, 5, 6, 14, 1, 2, 3, 4, 5, 6, 8, 13, 1, 2, 3, 4, 5, 6, 7, 8, 9, 10, 11, 12, 13, 1, 2, 3, 4, 5, 7, 9, 11, 12, 1, 2, 6, 1, 2, 5, 6, 7, 10, 14, 1, 2, 3, 4, 5, 9, 14, 1, 2, 6, 1, 2, 6, 14, 1, 2, 3, 4, 5, 6, 7, 9, 10, 12, 1, 2, 3, 4, 5, 6, 7, 11, 1, 2, 3, 4, 5, 6, 7, 8, 9, 10, 13, 1, 2, 3, 4, 5, 6, 7, 8, 9, 10, 11, 12, 1, 2, 3, 4, 5, 6, 7, 8, 9, 10, 11, 12, 13, 14, 1, 2, 4, 5, 3, 7, 9, 12, 1, 2, 3, 4, 5, 6, 8, 9, 10, 11, 1, 2, 3, 4, 5, 6, 7, 8, 10, 12, 1, 2, 4, 7, 9, 3, 5, 1, 2, 3, 4, 5, 8, 9, 10, 1, 3, 4, 5, 6, 7, 8, 11, 3, 4, 1, 2, 3, 4, 6, 8, 10, 1, 2, 3, 4, 5, 6, 7, 8, 9, 10, 11, 12, 13, 1, 3, 4, 5, 8, 10, 1, 2, 3, 4, 5, 6, 7, 8, 9, 10, 11, 12, 13, 1, 2, 4, 5, 6, 8, 10, 3, 7, 12, 1, 2, 3, 4, 5, 6, 7, 9, 10, 13, 14, 1, 2, 3, 4, 6, 7, 8, 12, 13, 1, 2, 3, 4, 5, 6, 7, 8, 9, 10, 11, 12, 1, 2, 3, 4, 5, 6, 7, 8, 9, 10, 11, 12, 13, 1, 2, 3, 6, 1, 2, 3, 4, 5, 6, 7, 8, 9, 10, 11, 12, 14, 1, 2, 3, 4, 5, 6, 7, 8, 9, 10, 11, 12, 1, 3, 4, 5, 6, 7, 8, 9, 1, 2, 3, 4, 5, 6, 11], \"Freq\": [0.6766551733016968, 0.3222167491912842, 0.3660796284675598, 0.1464318484067917, 0.10982389003038406, 0.10982389003038406, 0.03660796210169792, 0.10982389003038406, 0.03660796210169792, 0.03660796210169792, 0.07321592420339584, 0.03660796210169792, 0.1835447996854782, 0.3059079945087433, 0.12236319482326508, 0.12236319482326508, 0.0917723998427391, 0.03059079870581627, 0.0917723998427391, 0.06118159741163254, 0.26736709475517273, 0.04456118494272232, 0.20052532851696014, 0.04456118494272232, 0.08912236988544464, 0.04456118494272232, 0.04456118494272232, 0.02228059247136116, 0.04456118494272232, 0.04456118494272232, 0.13368354737758636, 0.02228059247136116, 0.28037405014038086, 0.14018702507019043, 0.14018702507019043, 0.08411221951246262, 0.14018702507019043, 0.11214962601661682, 0.05607481300830841, 0.028037406504154205, 0.17871274054050446, 0.22339092195034027, 0.17871274054050446, 0.08935637027025223, 0.08935637027025223, 0.17871274054050446, 0.013995112851262093, 0.3848656117916107, 0.027990225702524185, 0.006997556425631046, 0.020992670208215714, 0.5388118624687195, 0.18534885346889496, 0.09267442673444748, 0.231686070561409, 0.1158430352807045, 0.13901163637638092, 0.04633721336722374, 0.06950581818819046, 0.06950581818819046, 0.04633721336722374, 0.19093583524227142, 0.038187168538570404, 0.19093583524227142, 0.22912299633026123, 0.07637433707714081, 0.07637433707714081, 0.07637433707714081, 0.07637433707714081, 0.038187168538570404, 0.16607210040092468, 0.052841123193502426, 0.203815758228302, 0.305723637342453, 0.19249266386032104, 0.015097463503479958, 0.02264619618654251, 0.011323098093271255, 0.007548731751739979, 0.01887183077633381, 0.0037743658758699894, 0.2508971095085144, 0.07168488949537277, 0.6093215346336365, 0.035842444747686386, 0.324392169713974, 0.08298404514789581, 0.22632011771202087, 0.05280802771449089, 0.015088007785379887, 0.07544004172086716, 0.09807205200195312, 0.022632012143731117, 0.015088007785379887, 0.0678960382938385, 0.21373429894447327, 0.1335839331150055, 0.08015036582946777, 0.05343357473611832, 0.05343357473611832, 0.08015036582946777, 0.16030073165893555, 0.1870175153017044, 0.02671678736805916, 0.07365082949399948, 0.03682541474699974, 0.5523812174797058, 0.2577778995037079, 0.03682541474699974, 0.3552071750164032, 0.0789349302649498, 0.1184023916721344, 0.0592011958360672, 0.2170710563659668, 0.0394674651324749, 0.0394674651324749, 0.0789349302649498, 0.2403060346841812, 0.16962778568267822, 0.15266500413417816, 0.0904681533575058, 0.14983788132667542, 0.0452340766787529, 0.0452340766787529, 0.03109842725098133, 0.03109842725098133, 0.014135648496448994, 0.02261703833937645, 0.005654259584844112, 0.005654259584844112, 0.20342521369457245, 0.04882205277681351, 0.18715119361877441, 0.24411025643348694, 0.18715119361877441, 0.024411026388406754, 0.07323307543992996, 0.008137008175253868, 0.024411026388406754, 0.008137008175253868, 0.1995358169078827, 0.01662798412144184, 0.01662798412144184, 0.182907834649086, 0.3990716338157654, 0.03325596824288368, 0.03325596824288368, 0.04988395422697067, 0.01662798412144184, 0.01662798412144184, 0.01662798412144184, 0.3898106813430786, 0.25987377762794495, 0.08662459254264832, 0.12993688881397247, 0.04331229627132416, 0.04331229627132416, 0.24939186871051788, 0.44336333870887756, 0.08313062787055969, 0.027710208669304848, 0.027710208669304848, 0.16626125574111938, 0.22863556444644928, 0.2758537828922272, 0.07704024761915207, 0.047218214720487595, 0.07455507665872574, 0.11431778222322464, 0.024851692840456963, 0.06212922930717468, 0.0397627092897892, 0.0397627092897892, 0.007455507759004831, 0.00497033866122365, 0.002485169330611825, 0.10537302494049072, 0.01975744217634201, 0.34246233105659485, 0.14488790929317474, 0.18440279364585876, 0.00658581405878067, 0.04610069841146469, 0.00658581405878067, 0.05268651247024536, 0.07902976870536804, 0.00658581405878067, 0.30744192004203796, 0.06148838251829147, 0.18446515500545502, 0.22545740008354187, 0.0819845125079155, 0.12297676503658295, 0.5962603688240051, 0.1987534612417221, 0.03975069150328636, 0.07950138300657272, 0.03975069150328636, 0.07192780822515488, 0.01659872569143772, 0.21578343212604523, 0.4647642970085144, 0.09959235042333603, 0.0055329082533717155, 0.060861993581056595, 0.0055329082533717155, 0.011065816506743431, 0.01659872569143772, 0.027664542198181152, 0.1009618416428566, 0.06730788946151733, 0.16826973855495453, 0.03365394473075867, 0.26923155784606934, 0.03365394473075867, 0.16826973855495453, 0.1009618416428566, 0.03365394473075867, 0.1781792789697647, 0.18831956386566162, 0.11588896065950394, 0.156450092792511, 0.15065564215183258, 0.037663910537958145, 0.0811222717165947, 0.014486120082437992, 0.02607501484453678, 0.020280567929148674, 0.010140283964574337, 0.020280567929148674, 0.0014486119616776705, 0.3109171986579895, 0.33682695031166077, 0.05181953310966492, 0.07772929966449738, 0.10363906621932983, 0.07772929966449738, 0.02590976655483246, 0.9778199195861816, 0.7317511439323425, 0.0948566347360611, 0.1490604281425476, 0.19919350743293762, 0.7635751366615295, 0.033198919147253036, 0.8821918368339539, 0.08459373563528061, 0.024169638752937317, 0.006042409688234329, 0.2196163833141327, 0.42605575919151306, 0.00878465548157692, 0.10980819165706635, 0.013176982291042805, 0.06149258464574814, 0.04831560328602791, 0.02635396458208561, 0.01756931096315384, 0.05710025876760483, 0.00439232774078846, 0.02035563997924328, 0.15605990588665009, 0.4274684488773346, 0.33926066756248474, 0.006785213481634855, 0.02714085392653942, 0.01357042696326971, 0.3954235911369324, 0.19311383366584778, 0.009195896796882153, 0.009195896796882153, 0.04597948491573334, 0.12874256074428558, 0.018391793593764305, 0.08276307582855225, 0.018391793593764305, 0.055175382643938065, 0.009195896796882153, 0.009195896796882153, 0.009195896796882153, 0.08625297993421555, 0.6037708520889282, 0.12937946617603302, 0.04312648996710777, 0.04312648996710777, 0.08625297993421555, 0.006215774454176426, 0.8577768802642822, 0.003107887227088213, 0.12742337584495544, 0.016047216951847076, 0.008023608475923538, 0.9548093676567078, 0.008023608475923538, 0.2913001775741577, 0.14565008878707886, 0.2154407650232315, 0.05765316262841225, 0.08799692988395691, 0.05461878329515457, 0.06675629317760468, 0.012137508019804955, 0.027309391647577286, 0.009103130549192429, 0.021240638568997383, 0.012137508019804955, 0.0030343770049512386, 0.19268661737442017, 0.14572936296463013, 0.239643856883049, 0.11172585189342499, 0.10362977534532547, 0.04048037901520729, 0.06314939260482788, 0.02266901358962059, 0.021049797534942627, 0.012953721918165684, 0.021049797534942627, 0.021049797534942627, 0.0016192152397707105, 0.6490627527236938, 0.020937509834766388, 0.29312512278556824, 0.0033596430439502, 0.7659986019134521, 0.0033596430439502, 0.0033596430439502, 0.22173644602298737, 0.12070553749799728, 0.7845860123634338, 0.03017638437449932, 0.03017638437449932, 0.1675722897052765, 0.4216335117816925, 0.005405557807534933, 0.005405557807534933, 0.22703343629837036, 0.016216672956943512, 0.07027225196361542, 0.043244462460279465, 0.048650022596120834, 0.5849989056587219, 0.17999966442584991, 0.08999983221292496, 0.04499991610646248, 0.04499991610646248, 0.04499991610646248, 0.20087246596813202, 0.36157044768333435, 0.16069798171520233, 0.04017449542880058, 0.20087246596813202, 0.04017449542880058, 0.04007972031831741, 0.018218055367469788, 0.5356108546257019, 0.16760611534118652, 0.0145744439214468, 0.1457444429397583, 0.025505278259515762, 0.0036436109803617, 0.010930833406746387, 0.04007972031831741, 0.30115142464637756, 0.30115142464637756, 0.0649542286992073, 0.04133450984954834, 0.0649542286992073, 0.08857394754886627, 0.07676409184932709, 0.023619718849658966, 0.011809859424829483, 0.0059049297124147415, 0.0059049297124147415, 0.0059049297124147415, 0.9533632397651672, 0.30831390619277954, 0.022022420540452003, 0.08808968216180801, 0.13213452696800232, 0.2422466278076172, 0.08808968216180801, 0.04404484108090401, 0.06606726348400116, 0.9824475646018982, 0.006822552531957626, 0.23236200213432312, 0.1776885837316513, 0.02733670547604561, 0.24603034555912018, 0.2733670473098755, 0.04100506007671356, 0.1736358404159546, 0.14585410058498383, 0.07639976590871811, 0.13196323812007904, 0.12501780688762665, 0.11112693697214127, 0.006945433560758829, 0.06250890344381332, 0.10418150573968887, 0.020836301147937775, 0.04167260229587555, 0.006945433560758829, 0.1986805498600006, 0.754986047744751, 0.03973611071705818, 0.6324468851089478, 0.008376779966056347, 0.3015640676021576, 0.04607228934764862, 0.0041883899830281734, 0.04145967587828636, 0.06564448773860931, 0.15201881527900696, 0.29021772742271423, 0.2729428708553314, 0.03454972803592682, 0.027639783918857574, 0.027639783918857574, 0.006909945979714394, 0.013819891959428787, 0.027639783918857574, 0.04145967587828636, 0.227803036570549, 0.13017316162586212, 0.03254329040646553, 0.016271645203232765, 0.26034632325172424, 0.3091612756252289, 0.5678324699401855, 0.02703964151442051, 0.37855497002601624, 0.5080657005310059, 0.29032325744628906, 0.14516162872314453, 0.4420863091945648, 0.0368405282497406, 0.0368405282497406, 0.2578836977481842, 0.2210431545972824, 0.28607478737831116, 0.15056568384170532, 0.2258485108613968, 0.10539597272872925, 0.09033940732479095, 0.07528284192085266, 0.04516970366239548, 0.015056568197906017, 0.06369872391223907, 0.29726070165634155, 0.14863035082817078, 0.10616453737020493, 0.0849316269159317, 0.12739744782447815, 0.06369872391223907, 0.0849316269159317, 0.021232906728982925, 0.021232906728982925, 0.3816515803337097, 0.32613861560821533, 0.027756478637456894, 0.11796502768993378, 0.027756478637456894, 0.06245207414031029, 0.0069391196593642235, 0.0069391196593642235, 0.020817358046770096, 0.0069391196593642235, 0.03493156656622887, 0.13972626626491547, 0.5938366055488586, 0.06986313313245773, 0.06986313313245773, 0.06986313313245773, 0.23551993072032928, 0.2024897038936615, 0.10914338380098343, 0.11775996536016464, 0.1105794832110405, 0.07036875933408737, 0.05887998268008232, 0.01292487420141697, 0.030158039182424545, 0.021541457623243332, 0.01148877665400505, 0.014360971748828888, 0.0028721941635012627, 0.0014360970817506313, 0.4555865526199341, 0.4357784390449524, 0.07923243939876556, 0.07740484923124313, 0.7276055812835693, 0.092885822057724, 0.046442911028862, 0.046442911028862, 0.04029780253767967, 0.1611912101507187, 0.3223824203014374, 0.04029780253767967, 0.04029780253767967, 0.04029780253767967, 0.04029780253767967, 0.04029780253767967, 0.08059560507535934, 0.1611912101507187, 0.352704256772995, 0.05878404155373573, 0.26452818512916565, 0.14696010947227478, 0.029392020776867867, 0.029392020776867867, 0.08817606419324875, 0.15583866834640503, 0.09090588986873627, 0.05627507343888283, 0.1731540709733963, 0.1515098214149475, 0.030301963910460472, 0.23808684945106506, 0.030301963910460472, 0.01731540821492672, 0.030301963910460472, 0.021644258871674538, 0.00432885205373168, 0.11879675835371017, 0.7523794770240784, 0.039598919451236725, 0.039598919451236725, 0.28644120693206787, 0.1909608095884323, 0.14322060346603394, 0.09548040479421616, 0.14322060346603394, 0.14322060346603394, 0.01490846462547779, 0.01490846462547779, 0.9615959525108337, 0.12863768637180328, 0.03215942159295082, 0.5145507454872131, 0.22511595487594604, 0.03215942159295082, 0.06431884318590164, 0.6393860578536987, 0.32938069105148315, 0.1960584819316864, 0.5489637851715088, 0.0784233957529068, 0.0392116978764534, 0.0392116978764534, 0.0784233957529068, 0.31486767530441284, 0.25189411640167236, 0.028624333441257477, 0.045798931270837784, 0.022899465635418892, 0.20037032663822174, 0.04007406532764435, 0.045798931270837784, 0.04007406532764435, 0.011449732817709446, 0.005724866408854723, 0.1961224526166916, 0.056034985929727554, 0.1961224526166916, 0.22413994371891022, 0.028017492964863777, 0.028017492964863777, 0.14008747041225433, 0.08405248075723648, 0.028017492964863777, 0.4719274044036865, 0.28315645456314087, 0.09438548237085342, 0.04719274118542671, 0.04719274118542671, 0.04719274118542671, 0.324293851852417, 0.4864407479763031, 0.040536731481552124, 0.040536731481552124, 0.040536731481552124, 0.008597060106694698, 0.19773238897323608, 0.7651383280754089, 0.008597060106694698, 0.1483294814825058, 0.35370877385139465, 0.1483294814825058, 0.17114940285682678, 0.011409960687160492, 0.022819921374320984, 0.011409960687160492, 0.011409960687160492, 0.011409960687160492, 0.09127968549728394, 0.08819544315338135, 0.14699241518974304, 0.4703757166862488, 0.20578937232494354, 0.02939848229289055, 0.02939848229289055, 0.2399114966392517, 0.11826622486114502, 0.11826622486114502, 0.12840333580970764, 0.0405484214425087, 0.13854043185710907, 0.02027421072125435, 0.02703228034079075, 0.1351613998413086, 0.006758070085197687, 0.006758070085197687, 0.02027421072125435, 0.2159724086523056, 0.07042578607797623, 0.1924971491098404, 0.14085157215595245, 0.1079862043261528, 0.05164557695388794, 0.09390104562044144, 0.014085156843066216, 0.08451094478368759, 0.004695052281022072, 0.014085156843066216, 0.009390104562044144, 0.2355920821428299, 0.06731202453374863, 0.5048401951789856, 0.10096803307533264, 0.03365601226687431, 0.03365601226687431, 0.5496304631233215, 0.4406128525733948, 0.6476819515228271, 0.19430458545684814, 0.09715229272842407, 0.06476819515228271, 0.23077437281608582, 0.669245719909668, 0.02307743765413761, 0.02307743765413761, 0.02307743765413761, 0.10263420641422272, 0.05131710320711136, 0.5644881129264832, 0.10263420641422272, 0.15395130217075348, 0.02565855160355568, 0.7170402407646179, 0.03645967319607735, 0.06076611950993538, 0.02430644817650318, 0.01215322408825159, 0.1458386927843094, 0.01215322408825159, 0.8267543911933899, 0.06359649449586868, 0.06359649449586868, 0.03179824724793434, 0.29059842228889465, 0.2583097219467163, 0.09686614573001862, 0.09686614573001862, 0.09686614573001862, 0.06457743048667908, 0.03228871524333954, 0.06457743048667908, 0.031028851866722107, 0.7757213115692139, 0.031028851866722107, 0.12411540746688843, 0.11003927886486053, 0.1320471316576004, 0.022007856518030167, 0.08803142607212067, 0.2640942633152008, 0.1320471316576004, 0.15405498445034027, 0.04401571303606033, 0.022007856518030167, 0.05808347091078758, 0.7938074469566345, 0.038722313940525055, 0.038722313940525055, 0.019361156970262527, 0.019361156970262527, 0.3809382915496826, 0.020049383863806725, 0.020049383863806725, 0.10024691373109818, 0.22054322063922882, 0.18044444918632507, 0.020049383863806725, 0.04009876772761345, 0.19650474190711975, 0.7205173969268799, 0.06550158560276031, 0.010846043936908245, 0.9761439561843872, 0.0054230219684541225, 0.012844120152294636, 0.05779854208230972, 0.5683523416519165, 0.1990838646888733, 0.0321102999150753, 0.05779854208230972, 0.00963309034705162, 0.02889927104115486, 0.012844120152294636, 0.01605514995753765, 0.19620458781719208, 0.2199869602918625, 0.12010098993778229, 0.1117771565914154, 0.08680566400289536, 0.059455934911966324, 0.08680566400289536, 0.034484442323446274, 0.030917087569832802, 0.02853884920477867, 0.01189118716865778, 0.01189118716865778, 0.001189118716865778, 0.16521084308624268, 0.1490136981010437, 0.14577427506446838, 0.10366170853376389, 0.16521084308624268, 0.0421125665307045, 0.14253485202789307, 0.00971828494220972, 0.012957713566720486, 0.016197141259908676, 0.03239428251981735, 0.00971828494220972, 0.43134379386901855, 0.07842614501714706, 0.2352784425020218, 0.07842614501714706, 0.07842614501714706, 0.07842614501714706, 0.3082449734210968, 0.13210497796535492, 0.26420995593070984, 0.26420995593070984, 0.4500095844268799, 0.13500288128852844, 0.13500288128852844, 0.04500095918774605, 0.13500288128852844, 0.04500095918774605, 0.3526603579521179, 0.2204127311706543, 0.08816508948802948, 0.2204127311706543, 0.04408254474401474, 0.18631716072559357, 0.18631716072559357, 0.09315858036279678, 0.13973787426948547, 0.04657929018139839, 0.27947574853897095, 0.04657929018139839, 0.2111787050962448, 0.1935804784297943, 0.1231875792145729, 0.035196453332901, 0.316768079996109, 0.0879911258816719, 0.035196453332901, 0.011551404371857643, 0.13861685991287231, 0.057757023721933365, 0.7392898797988892, 0.023102808743715286, 0.011551404371857643, 0.2516225576400757, 0.08777530491352081, 0.08192361891269684, 0.1814022958278656, 0.14629217982292175, 0.04096180945634842, 0.04096180945634842, 0.04096180945634842, 0.023406749591231346, 0.07022024691104889, 0.02925843559205532, 0.062498580664396286, 0.12499716132879257, 0.22916145622730255, 0.12499716132879257, 0.04166571795940399, 0.3541586101055145, 0.04166571795940399, 0.020832858979701996, 0.16863557696342468, 0.07377806305885315, 0.04215889424085617, 0.12647667527198792, 0.5480656027793884, 0.010539723560214043, 0.03161916881799698, 0.021309446543455124, 0.0852377861738205, 0.06392834335565567, 0.3835700452327728, 0.2770228087902069, 0.12785668671131134, 0.021309446543455124, 0.11569342017173767, 0.06457307189702988, 0.20986248552799225, 0.22331519424915314, 0.177575945854187, 0.04842980206012726, 0.029595989733934402, 0.008071633987128735, 0.043048713356256485, 0.026905445381999016, 0.04573925957083702, 0.008071633987128735, 0.3138079345226288, 0.6681072115898132, 0.14090606570243835, 0.1643904149532318, 0.234843447804451, 0.02348434552550316, 0.399233877658844, 0.4126531183719635, 0.10764864087104797, 0.4126531183719635, 0.017941439524292946, 0.017941439524292946, 0.10634549707174301, 0.7444184422492981, 0.03544849902391434, 0.03544849902391434, 0.03544849902391434, 0.03544849902391434, 0.04253225401043892, 0.18430642783641815, 0.05670966953039169, 0.28354835510253906, 0.07088708877563477, 0.28354835510253906, 0.05670966953039169, 0.014177417382597923, 0.007098900619894266, 0.9370548725128174, 0.002366300206631422, 0.049692302942276, 0.0824432373046875, 0.07145080715417862, 0.23084107041358948, 0.17587891221046448, 0.17587891221046448, 0.0274810791015625, 0.09343567490577698, 0.01648864708840847, 0.04396972805261612, 0.005496216006577015, 0.0274810791015625, 0.03297729417681694, 0.01099243201315403, 0.2586979269981384, 0.4065253436565399, 0.036956850439310074, 0.07391370087862015, 0.18478424847126007, 0.3263744115829468, 0.47667843103408813, 0.0257664006203413, 0.004294400103390217, 0.004294400103390217, 0.07300480455160141, 0.008588800206780434, 0.030060801655054092, 0.017177600413560867, 0.034355200827121735, 0.004294400103390217, 0.00390494242310524, 0.9879504442214966, 0.964285671710968, 0.09275384992361069, 0.018550770357251167, 0.09275384992361069, 0.23188462853431702, 0.3988415598869324, 0.037101540714502335, 0.009275385178625584, 0.046376924961805344, 0.06492769718170166, 0.2378494292497635, 0.20427069067955017, 0.11939109116792679, 0.13431496918201447, 0.1175255998969078, 0.03917520120739937, 0.06622474640607834, 0.029847772791981697, 0.020520344376564026, 0.012125657871365547, 0.01119291502982378, 0.004663714207708836, 0.001865485799498856, 0.16688552498817444, 0.5270069241523743, 0.017566896975040436, 0.03513379395008087, 0.04391724243760109, 0.03513379395008087, 0.017566896975040436, 0.061484139412641525, 0.0966179296374321, 0.0664021223783493, 0.03064713254570961, 0.3303079903125763, 0.17536970973014832, 0.19069327414035797, 0.008513092994689941, 0.09704925864934921, 0.008513092994689941, 0.008513092994689941, 0.04086284339427948, 0.035754989832639694, 0.003405237104743719, 0.13706719875335693, 0.5410547256469727, 0.07935469597578049, 0.07935469597578049, 0.050498444586992264, 0.028856253251433372, 0.007214063312858343, 0.036070317029953, 0.028856253251433372, 0.007214063312858343, 0.014428126625716686, 0.011707257479429245, 0.035121772438287735, 0.19902338087558746, 0.19902338087558746, 0.16390161216259003, 0.011707257479429245, 0.26926693320274353, 0.011707257479429245, 0.011707257479429245, 0.035121772438287735, 0.058536287397146225, 0.8767600059509277, 0.04870888590812683, 0.04870888590812683, 0.05793793126940727, 0.04345345124602318, 0.3476276099681854, 0.10139138251543045, 0.26072070002555847, 0.07242241501808167, 0.014484482817351818, 0.07242241501808167, 0.014484482817351818, 0.18707215785980225, 0.26190102100372314, 0.33672988414764404, 0.11224328726530075, 0.03741443157196045, 0.5639992952346802, 0.3858942687511444, 0.029684174805879593, 0.09140858799219131, 0.5027472376823425, 0.18281717598438263, 0.11426074057817459, 0.04570429399609566, 0.02285214699804783, 0.04570429399609566, 0.8120965957641602, 0.1160137951374054, 0.009667816571891308, 0.009667816571891308, 0.009667816571891308, 0.02900344878435135, 0.14112421870231628, 0.7761832475662231, 0.03528105467557907, 0.03528105467557907, 0.044791676104068756, 0.35833340883255005, 0.17916670441627502, 0.044791676104068756, 0.044791676104068756, 0.3135417401790619, 0.826596200466156, 0.06457782536745071, 0.012915565632283688, 0.07749339193105698, 0.12345479428768158, 0.4938191771507263, 0.04115159809589386, 0.24690958857536316, 0.04115159809589386, 0.22879600524902344, 0.7054543495178223, 0.019066333770751953, 0.019066333770751953, 0.08579409867525101, 0.21448524296283722, 0.17158819735050201, 0.21448524296283722, 0.10724262148141861, 0.021448524668812752, 0.042897049337625504, 0.10724262148141861, 0.10576418787240982, 0.026441046968102455, 0.11898471415042877, 0.11898471415042877, 0.17186680436134338, 0.06610261648893356, 0.07932314276695251, 0.06610261648893356, 0.013220523484051228, 0.1983078569173813, 0.026441046968102455, 0.013220523484051228, 0.13593189418315887, 0.09628508985042572, 0.1699148714542389, 0.13026806712150574, 0.15858720242977142, 0.039646800607442856, 0.11327657848596573, 0.03398297354578972, 0.022655315697193146, 0.07362977415323257, 0.022655315697193146, 0.0971330851316452, 0.034690387547016144, 0.20120425522327423, 0.27752310037612915, 0.13182348012924194, 0.13182348012924194, 0.006938077509403229, 0.027752310037612915, 0.027752310037612915, 0.013876155018806458, 0.05550462007522583, 0.9771488308906555, 0.39198631048202515, 0.09799657762050629, 0.14699485898017883, 0.19599315524101257, 0.09799657762050629, 0.04899828881025314, 0.04899828881025314, 0.4590412676334381, 0.2824869155883789, 0.03531086444854736, 0.17655432224273682, 0.03531086444854736, 0.6536622047424316, 0.0326831080019474, 0.09804932773113251, 0.09804932773113251, 0.0326831080019474, 0.0326831080019474, 0.0326831080019474, 0.5111643075942993, 0.47027117013931274, 0.3145175278186798, 0.3016425371170044, 0.020232122391462326, 0.058857083320617676, 0.04782138019800186, 0.06437493115663528, 0.05517851561307907, 0.042303528636693954, 0.029428541660308838, 0.04414281249046326, 0.0073571354150772095, 0.011035703122615814, 0.0018392838537693024, 0.0036785677075386047, 0.4110998511314392, 0.13703328371047974, 0.2055499255657196, 0.06851664185523987, 0.17129160463809967, 0.8203453421592712, 0.004272631835192442, 0.008545263670384884, 0.1452694833278656, 0.012817895971238613, 0.17989595234394073, 0.09284952282905579, 0.14507737755775452, 0.1566835641860962, 0.10445570945739746, 0.11606190353631973, 0.03481857106089592, 0.01740928553044796, 0.063834048807621, 0.08124332875013351, 0.005803095176815987, 0.005803095176815987, 0.1653749942779541, 0.7607250213623047, 0.06615000218153, 0.4706709086894989, 0.12386076152324677, 0.006193038076162338, 0.03715822845697403, 0.018579114228487015, 0.2724936902523041, 0.03715822845697403, 0.012386076152324677, 0.006193038076162338, 0.006193038076162338, 0.006193038076162338, 0.006193038076162338, 0.34208354353904724, 0.19669803977012634, 0.06841671466827393, 0.025656266137957573, 0.03420835733413696, 0.11117715388536453, 0.051312532275915146, 0.042760442942380905, 0.09407297521829605, 0.00855208933353424, 0.00855208933353424, 0.3995044231414795, 0.15980176627635956, 0.07990088313817978, 0.03995044156908989, 0.03995044156908989, 0.03995044156908989, 0.11985132843255997, 0.03995044156908989, 0.03995044156908989, 0.03995044156908989, 0.015506195835769176, 0.040316108614206314, 0.003101239213719964, 0.8714482188224792, 0.031012391671538353, 0.027911152690649033, 0.006202478427439928, 0.2375613898038864, 0.14847587049007416, 0.1187806949019432, 0.38603726029396057, 0.0296951737254858, 0.0593903474509716, 0.0296951737254858, 0.0296951737254858, 0.002880458952859044, 0.9894376397132874, 0.001440229476429522, 0.002880458952859044, 0.13348011672496796, 0.36707034707069397, 0.46718043088912964, 0.0015367119340226054, 0.003073423868045211, 0.015367119573056698, 0.8959030508995056, 0.003073423868045211, 0.0015367119340226054, 0.07376217097043991, 0.004610135685652494, 0.7798343300819397, 0.18222932517528534, 0.029478272423148155, 0.8666384220123291, 0.027956077829003334, 0.08386823534965515, 0.009318692609667778, 0.001190182170830667, 0.7045878171920776, 0.27850261330604553, 0.013092003762722015, 0.2356201857328415, 0.16830013692378998, 0.2356201857328415, 0.16830013692378998, 0.10098008066415787, 0.033660028129816055, 0.008565923199057579, 0.17131845653057098, 0.5310872197151184, 0.15418660640716553, 0.10279107093811035, 0.025697767734527588, 0.2342560887336731, 0.26549023389816284, 0.03904268145561218, 0.04685121774673462, 0.02342560887336731, 0.11712804436683655, 0.031234145164489746, 0.12493658065795898, 0.06246829032897949, 0.0078085362911224365, 0.03904268145561218, 0.0078085362911224365, 0.800105631351471, 0.0652260035276413, 0.02609040029346943, 0.03913560137152672, 0.0043484000489115715, 0.043484002351760864, 0.017393600195646286, 0.64006108045578, 0.3339449167251587, 0.09698125720024109, 0.19396251440048218, 0.24245314300060272, 0.24245314300060272, 0.14547188580036163, 0.09863274544477463, 0.044833067804574966, 0.1434658169746399, 0.385564386844635, 0.17933227121829987, 0.07173290848731995, 0.02689984068274498, 0.008966613560914993, 0.017933227121829987, 0.008966613560914993, 0.008966613560914993, 0.5715785026550293, 0.01843801513314247, 0.3871983289718628, 0.009219007566571236, 0.9160292744636536, 0.05234453082084656, 0.42379412055015564, 0.03531617671251297, 0.506198525428772, 0.01177205890417099, 0.01177205890417099, 0.07487525045871735, 0.0599001981317997, 0.1198003962635994, 0.539101779460907, 0.04492514953017235, 0.014975049532949924, 0.1198003962635994, 0.02995009906589985, 0.08610685914754868, 0.38748085498809814, 0.08610685914754868, 0.30137401819229126, 0.04305342957377434, 0.08610685914754868, 0.3723104000091553, 0.16547128558158875, 0.16547128558158875, 0.08273564279079437, 0.08273564279079437, 0.041367821395397186, 0.041367821395397186, 0.041367821395397186, 0.16713230311870575, 0.22284306585788727, 0.05571076646447182, 0.05571076646447182, 0.08356615155935287, 0.139276921749115, 0.1949876844882965, 0.02785538323223591, 0.02785538323223591, 0.02785538323223591, 0.12300370633602142, 0.1968059241771698, 0.04920148104429245, 0.22140666842460632, 0.0984029620885849, 0.14760445058345795, 0.024600740522146225, 0.14760445058345795, 0.03995202109217644, 0.3995201885700226, 0.07990404218435287, 0.14982007443904877, 0.01997601054608822, 0.1897720992565155, 0.00998800527304411, 0.10986805707216263, 0.47483423352241516, 0.2199232131242752, 0.06497731804847717, 0.03998604044318199, 0.024991275742650032, 0.09996510297060013, 0.00749738235026598, 0.0274904016405344, 0.022492147982120514, 0.009996510110795498, 0.0024991275276988745, 0.00749738235026598, 0.0024991275276988745, 0.3312067687511444, 0.2522743046283722, 0.05416933074593544, 0.0820278450846672, 0.06964628398418427, 0.10833866149187088, 0.015476951375603676, 0.034049294888973236, 0.020120037719607353, 0.015476951375603676, 0.004643085412681103, 0.009286170825362206, 0.0015476951375603676, 0.003095390275120735, 0.009706079959869385, 0.6697195172309875, 0.03882431983947754, 0.14559119939804077, 0.07764863967895508, 0.03882431983947754, 0.3483959436416626, 0.27713313698768616, 0.05344710499048233, 0.03959044814109802, 0.043549492955207825, 0.13658703863620758, 0.009897612035274506, 0.029692836105823517, 0.029692836105823517, 0.023754268884658813, 0.001979522407054901, 0.001979522407054901, 0.003959044814109802, 0.20502594113349915, 0.3488103747367859, 0.013313372619450092, 0.26626744866371155, 0.005325349047780037, 0.010650698095560074, 0.11982035636901855, 0.026626745238900185, 0.3073170483112335, 0.1024390161037445, 0.06829267740249634, 0.17073169350624084, 0.23902437090873718, 0.03414633870124817, 0.06946659833192825, 0.015437020920217037, 0.1672343909740448, 0.21354545652866364, 0.3936440348625183, 0.010291347280144691, 0.04631106182932854, 0.02315553091466427, 0.015437020920217037, 0.02315553091466427, 0.015437020920217037, 0.002572836820036173, 0.14075057208538055, 0.1172921434044838, 0.18766742944717407, 0.2345842868089676, 0.07037528604269028, 0.04691685736179352, 0.04691685736179352, 0.02345842868089676, 0.04691685736179352, 0.1172921434044838, 0.9394229650497437, 0.04084447771310806, 0.8928502202033997, 0.01159545686095953, 0.09276365488767624, 0.07471423596143723, 0.22414270043373108, 0.07471423596143723, 0.37357115745544434, 0.11207135021686554, 0.03735711798071861, 0.07471423596143723, 0.1982768028974533, 0.7270148992538452, 0.03304613381624222, 0.03304613381624222, 0.12823249399662018, 0.04857291653752327, 0.33418166637420654, 0.03302958235144615, 0.25840792059898376, 0.025257915258407593, 0.10297457873821259, 0.011657499708235264, 0.027200832962989807, 0.009714582934975624, 0.007771666627377272, 0.013600416481494904, 0.4213997423648834, 0.3277553617954254, 0.0468221940100193, 0.0936443880200386, 0.0468221940100193, 0.0468221940100193, 0.24121499061584473, 0.2116180658340454, 0.14354512095451355, 0.1583435833454132, 0.1287466585636139, 0.03107677772641182, 0.032556623220443726, 0.014798466116189957, 0.02071785181760788, 0.002959693083539605, 0.01035892590880394, 0.0014798465417698026, 0.0014798465417698026, 0.0014798465417698026, 0.9326717257499695, 0.05351395159959793, 0.8179968595504761, 0.029214171692728996, 0.11685668677091599, 0.11120709031820297, 0.6672425270080566, 0.027801772579550743, 0.027801772579550743, 0.027801772579550743, 0.055603545159101486, 0.027801772579550743, 0.055603545159101486, 0.06716306507587433, 0.828344464302063, 0.022387688979506493, 0.022387688979506493, 0.022387688979506493, 0.2770388722419739, 0.12848180532455444, 0.12446673959493637, 0.08833123743534088, 0.08030112087726593, 0.07227101176977158, 0.04416561871767044, 0.10037640482187271, 0.028105393052101135, 0.02409033663570881, 0.012045168317854404, 0.016060225665569305, 0.4365323483943939, 0.31430330872535706, 0.03492258861660957, 0.05238388106226921, 0.08730646967887878, 0.03492258861660957, 0.017461294308304787, 0.41875287890434265, 0.33059439063072205, 0.02203962579369545, 0.0440792515873909, 0.02203962579369545, 0.0440792515873909, 0.0440792515873909, 0.0440792515873909, 0.02203962579369545, 0.11211276799440384, 0.05174435302615166, 0.27596989274024963, 0.15523305535316467, 0.12073682248592377, 0.12073682248592377, 0.09486464411020279, 0.008624059148132801, 0.02587217651307583, 0.034496236592531204, 0.017248118296265602, 0.6525830030441284, 0.1118713766336441, 0.16780705749988556, 0.037290457636117935, 0.018645228818058968, 0.27476072311401367, 0.2524828314781189, 0.19307509064674377, 0.07425965368747711, 0.09653754532337189, 0.037129826843738556, 0.014851930551230907, 0.029703861102461815, 0.014851930551230907, 0.9774472713470459, 0.16802796721458435, 0.12602096796035767, 0.16802796721458435, 0.5040838718414307, 0.3049267828464508, 0.2613658010959625, 0.04356096684932709, 0.08712193369865417, 0.04356096684932709, 0.04356096684932709, 0.17424386739730835, 0.8971607089042664, 0.07974761724472046, 0.019936904311180115, 0.28032904863357544, 0.09344301372766495, 0.09344301372766495, 0.23360753059387207, 0.28032904863357544, 0.6206014752388, 0.017238929867744446, 0.02585839480161667, 0.32753968238830566, 0.03825840726494789, 0.008501867763698101, 0.47610461711883545, 0.008501867763698101, 0.4505990147590637, 0.008501867763698101, 0.0042509338818490505, 0.30533021688461304, 0.10177673399448395, 0.07633255422115326, 0.050888366997241974, 0.10177673399448395, 0.12722091376781464, 0.1781092882156372, 0.025444183498620987, 0.6007781028747559, 0.137678325176239, 0.006258105393499136, 0.03754863142967224, 0.1627107411623001, 0.03754863142967224, 0.006258105393499136, 0.006258105393499136, 0.3707907795906067, 0.23282212018966675, 0.1120995432138443, 0.1120995432138443, 0.06898432970046997, 0.025869125500321388, 0.017246082425117493, 0.008623041212558746, 0.008623041212558746, 0.008623041212558746, 0.025869125500321388, 0.14162535965442657, 0.04111704230308533, 0.4020332992076874, 0.11421400308609009, 0.22385944426059723, 0.0045685600489377975, 0.038832761347293854, 0.0022842800244688988, 0.011421400122344494, 0.013705680146813393, 0.0045685600489377975, 0.0022842800244688988, 0.2058604210615158, 0.1235162541270256, 0.3293766677379608, 0.1646883338689804, 0.1235162541270256, 0.0411720834672451, 0.06974584609270096, 0.39522647857666016, 0.04649723321199417, 0.023248616605997086, 0.44172370433807373, 0.010164217092096806, 0.975764811038971, 0.18951641023159027, 0.7817552089691162, 0.3541499376296997, 0.3541499376296997, 0.1573999673128128, 0.0786999836564064, 0.0393499918282032, 0.0393499918282032, 0.14408642053604126, 0.2881728410720825, 0.04802880436182022, 0.38423043489456177, 0.04802880436182022, 0.1946268230676651, 0.03475479036569595, 0.11816628277301788, 0.027803830802440643, 0.21547968685626984, 0.041705746203660965, 0.05560766160488129, 0.027803830802440643, 0.05560766160488129, 0.1946268230676651, 0.03475479036569595, 0.07783243060112, 0.23349729180335999, 0.31132972240448, 0.03891621530056, 0.1945810765028, 0.11674864590167999, 0.017037244513630867, 0.017037244513630867, 0.27259591221809387, 0.6814898252487183, 0.017037244513630867, 0.4225101172924042, 0.3755645453929901, 0.023472784087061882, 0.18778227269649506, 0.8849643468856812, 0.00903024896979332, 0.0903024896979332, 0.2898402512073517, 0.08792906254529953, 0.17585812509059906, 0.09769895672798157, 0.10421222448348999, 0.08792906254529953, 0.003256632015109062, 0.06513264030218124, 0.06187600642442703, 0.003256632015109062, 0.006513264030218124, 0.009769896045327187, 0.006513264030218124, 0.003256632015109062, 0.08759648352861404, 0.6423741579055786, 0.05839765444397926, 0.05839765444397926, 0.08759648352861404, 0.02919882722198963, 0.03652690723538399, 0.47484979033470154, 0.03652690723538399, 0.10958071798086166, 0.07305381447076797, 0.03652690723538399, 0.21916143596172333, 0.12819410860538483, 0.7371160984039307, 0.09614557772874832, 0.3211856782436371, 0.522462010383606, 0.03425980359315872, 0.029977329075336456, 0.00856495089828968, 0.00856495089828968, 0.01284742634743452, 0.021412378177046776, 0.021412378177046776, 0.01712990179657936, 0.547732412815094, 0.4107993245124817, 0.017116637900471687, 0.11178948730230331, 0.13778704404830933, 0.18718239665031433, 0.1481860727071762, 0.11698900163173676, 0.04679559916257858, 0.11698900163173676, 0.031197067350149155, 0.02339779958128929, 0.02079804427921772, 0.01039902213960886, 0.04419584572315216, 0.002599755534902215, 0.2388657182455063, 0.11279769986867905, 0.2388657182455063, 0.12017010152339935, 0.10837426036596298, 0.04718334972858429, 0.04718334972858429, 0.01769375614821911, 0.0206427164375782, 0.011058597825467587, 0.01843099668622017, 0.014744797721505165, 0.0022117195185273886, 0.001474479679018259, 0.2085130214691162, 0.27004146575927734, 0.09571089595556259, 0.08203791081905365, 0.06152843311429024, 0.05127369612455368, 0.034182462841272354, 0.08203791081905365, 0.047855447977781296, 0.04443720355629921, 0.006836492568254471, 0.010254738852381706, 0.0034182462841272354, 0.20227035880088806, 0.2956258952617645, 0.1400333195924759, 0.1089148074388504, 0.015559257939457893, 0.015559257939457893, 0.015559257939457893, 0.20227035880088806, 0.7438750267028809, 0.004508333746343851, 0.2344333529472351, 0.004508333746343851, 0.004508333746343851, 0.1456562876701355, 0.11074692755937576, 0.2503843605518341, 0.16371284425258636, 0.14324873685836792, 0.02648296020925045, 0.07824511080980301, 0.024075418710708618, 0.009630167856812477, 0.012037709355354309, 0.012037709355354309, 0.020464105531573296, 0.0012037709821015596, 0.0012037709821015596, 0.09369953721761703, 0.2810986042022705, 0.05621972307562828, 0.14991925656795502, 0.07495962828397751, 0.018739907070994377, 0.037479814141988754, 0.05621972307562828, 0.05621972307562828, 0.07495962828397751, 0.018739907070994377, 0.07495962828397751, 0.05094335228204727, 0.2801884412765503, 0.0764150321483612, 0.25471675395965576, 0.10188670456409454, 0.22924508154392242, 0.19480133056640625, 0.03896026685833931, 0.19480133056640625, 0.07792053371667862, 0.03896026685833931, 0.11688080430030823, 0.11688080430030823, 0.03896026685833931, 0.15584106743335724, 0.43192368745803833, 0.27486053109169006, 0.07853157818317413, 0.03926578909158707, 0.07853157818317413, 0.03926578909158707, 0.03926578909158707, 0.2658633887767792, 0.19673889875411987, 0.037220872938632965, 0.07975901663303375, 0.271180659532547, 0.026586338877677917, 0.021269069984555244, 0.0691244825720787, 0.021269069984555244, 0.010634534992277622, 0.005317267496138811, 0.26872172951698303, 0.18138715624809265, 0.1511559635400772, 0.08229602873325348, 0.0923730880022049, 0.0755779817700386, 0.058782875537872314, 0.026872171089053154, 0.025192661210894585, 0.013436085544526577, 0.015115596354007721, 0.00839755404740572, 0.13549919426441193, 0.37826859951019287, 0.011291599832475185, 0.03387479856610298, 0.06774959713220596, 0.02822900004684925, 0.09597860276699066, 0.0564580000936985, 0.1693740040063858, 0.005645799916237593, 0.005645799916237593, 0.40440237522125244, 0.2615777254104614, 0.059376541525125504, 0.06258608400821686, 0.03370019793510437, 0.08344811201095581, 0.024071570485830307, 0.02246679924428463, 0.00802385713905096, 0.024071570485830307, 0.001604771357960999, 0.011233399622142315, 0.003209542715921998, 0.003209542715921998, 0.32868918776512146, 0.1740119308233261, 0.07733863592147827, 0.3480238616466522, 0.019334658980369568, 0.019334658980369568, 0.003962105605751276, 0.8894927501678467, 0.001981052802875638, 0.017829475924372673, 0.0772610604763031, 0.007924211211502552, 0.7141660451889038, 0.2316214144229889, 0.04503749683499336, 0.25296688079833984, 0.3478294312953949, 0.06324172019958496, 0.03162086009979248, 0.03162086009979248, 0.06324172019958496, 0.1581042855978012, 0.03162086009979248, 0.27691084146499634, 0.2720950245857239, 0.06742177158594131, 0.0842772126197815, 0.07223761081695557, 0.11558017879724503, 0.028895044699311256, 0.019263364374637604, 0.028895044699311256, 0.02167128399014473, 0.004815841093659401, 0.004815841093659401, 0.0024079205468297005, 0.14366735517978668, 0.16801774501800537, 0.17775790393352509, 0.15827758610248566, 0.14610238373279572, 0.021915359422564507, 0.041395679116249084, 0.026785438880324364, 0.009740158915519714, 0.03165551647543907, 0.0170452781021595, 0.056005917489528656, 0.0024350397288799286, 0.19919109344482422, 0.22922784090042114, 0.10275731235742569, 0.11066171526908875, 0.11540435999631882, 0.03161763399839401, 0.08694849163293839, 0.017389697954058647, 0.034779395908117294, 0.04268380627036095, 0.012647053226828575, 0.015808816999197006, 0.001580881653353572, 0.001580881653353572, 0.3028149902820587, 0.2651514410972595, 0.0828598290681839, 0.1928374171257019, 0.05272898077964783, 0.034650471061468124, 0.02561121992766857, 0.01657196506857872, 0.0060261692851781845, 0.007532711606472731, 0.007532711606472731, 0.0015065423212945461, 0.0015065423212945461, 0.30089959502220154, 0.11283734440803528, 0.03761244937777519, 0.22567468881607056, 0.30089959502220154, 0.1444416046142578, 0.2888832092285156, 0.10833120346069336, 0.0722208023071289, 0.18055200576782227, 0.18055200576782227, 0.9641878604888916, 0.018192224204540253, 0.6159584522247314, 0.22693204879760742, 0.1296754628419876, 0.9547181129455566, 0.7985938191413879, 0.17289143800735474, 0.024698777124285698, 0.46239960193634033, 0.02433682233095169, 0.02433682233095169, 0.04867364466190338, 0.17035774886608124, 0.04867364466190338, 0.04867364466190338, 0.17035774886608124, 0.02433682233095169, 0.9300037026405334, 0.04650018364191055, 0.18633346259593964, 0.13424023985862732, 0.13223665952682495, 0.1362438201904297, 0.12021514028310776, 0.09817569702863693, 0.12822948396205902, 0.014025099575519562, 0.016028685495257378, 0.004007171373814344, 0.008014342747628689, 0.02003585733473301, 0.11481714248657227, 0.16152241826057434, 0.2062816470861435, 0.16346848011016846, 0.21211981773376465, 0.005838159937411547, 0.08173424005508423, 0.0038921067025512457, 0.015568426810204983, 0.0019460533512756228, 0.019460532814264297, 0.009730266407132149, 0.12867511808872223, 0.20588018000125885, 0.07720506936311722, 0.10294009000062943, 0.12867511808872223, 0.05147004500031471, 0.12867511808872223, 0.15441013872623444, 0.025735022500157356, 0.13993465900421143, 0.10495100170373917, 0.20990200340747833, 0.05247550085186958, 0.034983664751052856, 0.34983667731285095, 0.034983664751052856, 0.06996732950210571, 0.24576157331466675, 0.2958241105079651, 0.13198307156562805, 0.0750938132405281, 0.07054267078638077, 0.04096026346087456, 0.06144039332866669, 0.03413354977965355, 0.013653420843183994, 0.013653420843183994, 0.004551140125840902, 0.006826710421591997, 0.002275570062920451, 0.187513530254364, 0.281270295381546, 0.06250450760126114, 0.1979309469461441, 0.13542643189430237, 0.026043545454740524, 0.07292193174362183, 0.01041741855442524, 0.01041741855442524, 0.00520870927721262, 0.00520870927721262, 0.00520870927721262, 0.18376751244068146, 0.21244046092033386, 0.09644535928964615, 0.2072272002696991, 0.11990504711866379, 0.026066314429044724, 0.03388620913028717, 0.05343594402074814, 0.013033157214522362, 0.040402788668870926, 0.006516578607261181, 0.006516578607261181, 0.0013033157447353005, 0.4286337196826935, 0.350700318813324, 0.11690010130405426, 0.03896670043468475, 0.03896670043468475, 0.04782796651124954, 0.9497268199920654, 0.05689968168735504, 0.5974466800689697, 0.02844984084367752, 0.02844984084367752, 0.2560485601425171, 0.28582704067230225, 0.5716540813446045, 0.03175856173038483, 0.03175856173038483, 0.06351712346076965, 0.03175856173038483, 0.4677020311355591, 0.4677020311355591, 0.023385101929306984, 0.07526227831840515, 0.03344990313053131, 0.4515736699104309, 0.07526227831840515, 0.21742436289787292, 0.03344990313053131, 0.05017485097050667, 0.016724951565265656, 0.008362475782632828, 0.03344990313053131, 0.07632826268672943, 0.036155492067337036, 0.19282929599285126, 0.29326122999191284, 0.1888120174407959, 0.032138217240571976, 0.10444919764995575, 0.028120938688516617, 0.004017277155071497, 0.040172770619392395, 0.008034554310142994, 0.13226261734962463, 0.09447330236434937, 0.113367959856987, 0.35899853706359863, 0.226735919713974, 0.018894659355282784, 0.03778931871056557, 0.055897075682878494, 0.08943531662225723, 0.10061473399400711, 0.44717660546302795, 0.29066479206085205, 0.5659857988357544, 0.23305296897888184, 0.09987983852624893, 0.03329328075051308, 0.03329328075051308, 0.10209685564041138, 0.1191129982471466, 0.1191129982471466, 0.1191129982471466, 0.1701614260673523, 0.3403228521347046, 0.01701614260673523, 0.049272771924734116, 0.5420004725456238, 0.049272771924734116, 0.14781831204891205, 0.049272771924734116, 0.049272771924734116, 0.049272771924734116, 0.3887011706829071, 0.12956705689430237, 0.08637803792953491, 0.043189018964767456, 0.21594509482383728, 0.043189018964767456, 0.043189018964767456, 0.06145277991890907, 0.020484259352087975, 0.5121064782142639, 0.18435834348201752, 0.1638740748167038, 0.020484259352087975, 0.020484259352087975, 0.1132570207118988, 0.1698855310678482, 0.0849427655339241, 0.3114568293094635, 0.0283142551779747, 0.2265140414237976, 0.0566285103559494, 0.3383546769618988, 0.19334551692008972, 0.04833637923002243, 0.1450091451406479, 0.04833637923002243, 0.19334551692008972, 0.571892261505127, 0.1525045931339264, 0.0762522965669632, 0.1525045931339264, 0.7085047960281372, 0.2509287893772125, 0.014760516583919525, 0.2887512743473053, 0.21656346321105957, 0.4692208170890808, 0.0021259882487356663, 0.308268278837204, 0.16582708060741425, 0.0010629941243678331, 0.25405558943748474, 0.0010629941243678331, 0.14244121313095093, 0.0021259882487356663, 0.03826778754591942, 0.0031889821402728558, 0.04145677015185356, 0.035078804939985275, 0.0042519764974713326, 0.13534940779209137, 0.10151205211877823, 0.03383735194802284, 0.20302410423755646, 0.06767470389604568, 0.03383735194802284, 0.1691867560148239, 0.10151205211877823, 0.13534940779209137, 0.5139703154563904, 0.014276953414082527, 0.4425855576992035, 0.028553906828165054, 0.004279213026165962, 0.9842190146446228, 0.004279213026165962, 0.20167100429534912, 0.19055527448654175, 0.10798132419586182, 0.26360148191452026, 0.0015879606362432241, 0.1286248117685318, 0.03017125278711319, 0.0015879606362432241, 0.041286975145339966, 0.006351842544972897, 0.0015879606362432241, 0.02223144844174385, 0.0015879606362432241, 0.49512502551078796, 0.03300833702087402, 0.03300833702087402, 0.19805000722408295, 0.09902500361204147, 0.06601667404174805, 0.03959643468260765, 0.8975191712379456, 0.03959643468260765, 0.3281213343143463, 0.20011796057224274, 0.1153833270072937, 0.10456614196300507, 0.09735468029975891, 0.05588879808783531, 0.048677340149879456, 0.005408593453466892, 0.01622578129172325, 0.02163437381386757, 0.003605728968977928, 0.003605728968977928, 0.6782604455947876, 0.3061408996582031, 0.010556583292782307, 0.22628581523895264, 0.12216658145189285, 0.19296766817569733, 0.13951978087425232, 0.1388256549835205, 0.02776513062417507, 0.05483613535761833, 0.020823849365115166, 0.015270822681486607, 0.009717795997858047, 0.020129719749093056, 0.029153387993574142, 0.000694128277245909, 0.001388256554491818, 0.5219240188598633, 0.009665259160101414, 0.019330518320202827, 0.019330518320202827, 0.028995776548981667, 0.3189535439014435, 0.038661036640405655, 0.009665259160101414, 0.028995776548981667, 0.09684138745069504, 0.04097135737538338, 0.14898674190044403, 0.11174006015062332, 0.23092946410179138, 0.11546473205089569, 0.029797349125146866, 0.018623342737555504, 0.0893920511007309, 0.08194271475076675, 0.026072680950164795, 0.0074493372812867165, 0.15043868124485016, 0.025337042286992073, 0.11401668936014175, 0.21853198111057281, 0.29612666368484497, 0.05700834468007088, 0.020586347207427025, 0.03958912566304207, 0.038005560636520386, 0.031671300530433655, 0.006334260571748018, 0.003167130285874009, 0.0351424440741539, 0.01757122203707695, 0.1405697762966156, 0.7555626034736633, 0.01757122203707695, 0.01757122203707695, 0.28815096616744995, 0.4499199390411377, 0.05560808256268501, 0.05560808256268501, 0.030331680551171303, 0.0657186433672905, 0.010110560804605484, 0.015165840275585651, 0.010110560804605484, 0.015165840275585651, 0.005055280402302742, 0.24566161632537842, 0.22188790142536163, 0.1584913581609726, 0.134717658162117, 0.11886852234601974, 0.03169827163219452, 0.04754740744829178, 0.01584913581609726, 0.00792456790804863, 0.00792456790804863, 0.22183258831501007, 0.24199919402599335, 0.09349969029426575, 0.1778327375650406, 0.11183296144008636, 0.04216652736067772, 0.03299989178776741, 0.023833254352211952, 0.023833254352211952, 0.018333273008465767, 0.007333308923989534, 0.003666654461994767, 0.0018333272309973836, 0.39011478424072266, 0.5461606979370117, 0.026007652282714844, 0.8220570087432861, 0.014422052539885044, 0.04326615855097771, 0.014422052539885044, 0.028844105079770088, 0.057688210159540176, 0.014422052539885044, 0.8026028275489807, 0.06173867732286453, 0.030869338661432266, 0.015434669330716133, 0.07717334479093552, 0.19630663096904755, 0.22404560446739197, 0.16003258526325226, 0.05334419384598732, 0.14509621262550354, 0.09175201505422592, 0.04907665774226189, 0.01280260644853115, 0.014936374500393867, 0.029872749000787735, 0.010668838396668434, 0.008535071276128292, 0.002133767819032073, 0.002133767819032073, 0.17137062549591064, 0.07410621643066406, 0.1922129988670349, 0.17600226402282715, 0.2802141308784485, 0.004631638526916504, 0.04631638526916504, 0.020842373371124268, 0.002315819263458252, 0.002315819263458252, 0.002315819263458252, 0.020842373371124268, 0.002315819263458252, 0.3469139337539673, 0.14867739379405975, 0.14867739379405975, 0.049559131264686584, 0.14867739379405975, 0.09911826252937317, 0.32644036412239075, 0.28922954201698303, 0.14546047151088715, 0.08457004278898239, 0.07611303776502609, 0.015222608111798763, 0.011839806102216244, 0.003382801776751876, 0.020296810194849968, 0.011839806102216244, 0.006765603553503752, 0.008457004092633724, 0.31677699089050293, 0.22712312638759613, 0.12028560042381287, 0.04856250807642937, 0.0336201973259449, 0.09712501615285873, 0.0336201973259449, 0.03660866245627403, 0.04034423828125, 0.019425002858042717, 0.004482693038880825, 0.018677888438105583, 0.0022413465194404125, 0.0007471155258826911, 0.17753268778324127, 0.12680906057357788, 0.532598078250885, 0.05072362348437309, 0.05072362348437309, 0.05072362348437309, 0.025361811742186546, 0.3447768986225128, 0.18806011974811554, 0.06268671154975891, 0.18806011974811554, 0.031343355774879456, 0.031343355774879456, 0.031343355774879456, 0.09403005987405777, 0.04120519757270813, 0.7004883289337158, 0.08241039514541626, 0.08241039514541626, 0.08241039514541626, 0.6916067004203796, 0.12967625260353088, 0.08645083755254745, 0.04322541877627373, 0.28994160890579224, 0.12905584275722504, 0.1637793928384781, 0.08275778591632843, 0.08912377059459686, 0.11343025416135788, 0.04919169098138809, 0.017940498888492584, 0.03240864351391792, 0.009259612299501896, 0.010417063720524311, 0.010417063720524311, 0.0017361773643642664, 0.001157451537437737, 0.010364452376961708, 0.8187916874885559, 0.010364452376961708, 0.15546678006649017, 0.18354402482509613, 0.2753160297870636, 0.013110287487506866, 0.052441149950027466, 0.216319739818573, 0.052441149950027466, 0.1966543048620224, 0.12789931893348694, 0.12789931893348694, 0.2131655365228653, 0.468964159488678, 0.04263310506939888, 0.13521984219551086, 0.7572311162948608, 0.027043968439102173, 0.054087936878204346, 0.027043968439102173, 0.20945170521736145, 0.27997061610221863, 0.11682984977960587, 0.1041995957493782, 0.10209455341100693, 0.05157353729009628, 0.0410483255982399, 0.028418071568012238, 0.022102944552898407, 0.016840338706970215, 0.012630254030227661, 0.011577732861042023, 0.002105042338371277, 0.0010525211691856384, 0.9414623975753784, 0.04430411383509636, 0.29456859827041626, 0.1958649903535843, 0.12646400928497314, 0.10024586319923401, 0.07556995749473572, 0.05243629589676857, 0.06631649285554886, 0.027760392054915428, 0.035471610724925995, 0.010795707814395428, 0.0030844879802316427, 0.007711220066994429, 0.0030844879802316427, 0.26388266682624817, 0.2681160867214203, 0.08325710147619247, 0.0818459615111351, 0.0818459615111351, 0.07196800410747528, 0.042334120720624924, 0.035278432071208954, 0.025400470942258835, 0.02398933470249176, 0.012700235471129417, 0.004233411978930235, 0.002822274575009942, 0.2917640209197998, 0.1803632229566574, 0.11405321210622787, 0.03978600353002548, 0.06896241009235382, 0.10344361513853073, 0.06631001085042953, 0.055700406432151794, 0.02917640283703804, 0.021219203248620033, 0.002652400406077504, 0.02387160249054432, 0.002652400406077504, 0.19820654392242432, 0.22080904245376587, 0.23471827805042267, 0.11475116014480591, 0.13039904832839966, 0.01912519335746765, 0.01564788445830345, 0.006954615470021963, 0.010431923903524876, 0.012170577421784401, 0.01564788445830345, 0.01738653890788555, 0.005215961951762438, 0.01796766184270382, 0.8444800972938538, 0.01796766184270382, 0.05390298739075661, 0.05390298739075661, 0.9663891792297363, 0.01380555983632803, 0.037171315401792526, 0.4088844954967499, 0.2973705232143402, 0.11151394993066788, 0.037171315401792526, 0.07434263080358505, 0.037171315401792526, 0.4420883357524872, 0.0026314782444387674, 0.0026314782444387674, 0.4868234694004059, 0.0447351299226284, 0.013157390989363194, 0.0026314782444387674, 0.005695813335478306, 0.9625924825668335, 0.017087440937757492, 0.005695813335478306, 0.06431294232606888, 0.06431294232606888, 0.056273821741342545, 0.3054864704608917, 0.024117352440953255, 0.1607823520898819, 0.024117352440953255, 0.00803911779075861, 0.056273821741342545, 0.20097793638706207, 0.03215647116303444, 0.02969755418598652, 0.05939510837197304, 0.1781853288412094, 0.10394144058227539, 0.2969755530357361, 0.0890926644206047, 0.02969755418598652, 0.10394144058227539, 0.01484877709299326, 0.05939510837197304, 0.9223618507385254, 0.02935899794101715, 0.002446583006531, 0.03425216302275658, 0.004893166013062, 0.002446583006531, 0.7252541780471802, 0.016672510653734207, 0.15838885307312012, 0.008336255326867104, 0.08336254954338074, 0.4198009669780731, 0.5489704608917236, 0.24819964170455933, 0.06453190743923187, 0.2581276297569275, 0.09927985817193985, 0.16381177306175232, 0.05460392311215401, 0.04467593505978584, 0.01985597237944603, 0.014891979284584522, 0.004963993094861507, 0.009927986189723015, 0.009927986189723015, 0.06307631731033325, 0.252305269241333, 0.021025439724326134, 0.5887122750282288, 0.021025439724326134, 0.021025439724326134, 0.23319225013256073, 0.09459686279296875, 0.26179131865501404, 0.12209594249725342, 0.14079532027244568, 0.04289857670664787, 0.03409886732697487, 0.027499087154865265, 0.006599780637770891, 0.013199561275541782, 0.010999634861946106, 0.00989967118948698, 0.0010999634396284819, 0.0021999268792569637, 0.11685896664857864, 0.2726709246635437, 0.07790598273277283, 0.038952991366386414, 0.07790598273277283, 0.07790598273277283, 0.19476494193077087, 0.11685896664857864, 0.038952991366386414, 0.0017415039474144578, 0.9926573038101196, 0.0017415039474144578, 0.0017415039474144578, 0.9591332077980042, 0.012140926904976368, 0.012140926904976368, 0.18672999739646912, 0.43091538548469543, 0.05266743525862694, 0.004787948448210955, 0.07660717517137527, 0.023939743638038635, 0.03351563960313797, 0.028727691620588303, 0.03830358758568764, 0.11012282222509384, 0.004787948448210955, 0.004787948448210955, 0.24090279638767242, 0.1636320799589157, 0.11363339424133301, 0.20908543467521667, 0.11817872524261475, 0.04545335844159126, 0.04545335844159126, 0.004545335657894611, 0.004545335657894611, 0.02272667922079563, 0.018181342631578445, 0.009090671315789223, 0.004545335657894611, 0.9566449522972107, 0.01771564781665802, 0.00885782390832901, 0.18939833343029022, 0.13047440350055695, 0.2819930911064148, 0.1346832662820816, 0.07996818423271179, 0.02946196310222149, 0.025253111496567726, 0.0336708165705204, 0.012626555748283863, 0.012626555748283863, 0.04208851978182793, 0.021044259890913963, 0.00420885207131505, 0.10875356197357178, 0.04531398415565491, 0.27188390493392944, 0.23563270270824432, 0.17219313979148865, 0.009062796831130981, 0.08156517148017883, 0.018125593662261963, 0.009062796831130981, 0.009062796831130981, 0.018125593662261963, 0.009062796831130981, 0.9364797472953796, 0.05108071118593216, 0.009597874246537685, 0.9789832234382629, 0.45672956109046936, 0.06524708122015, 0.45672956109046936, 0.2457738220691681, 0.18000337481498718, 0.1990421861410141, 0.1765417605638504, 0.07096286863088608, 0.027692826464772224, 0.03980843722820282, 0.019038816913962364, 0.015577214770019054, 0.005192404612898827, 0.013846413232386112, 0.003461603308096528, 0.003461603308096528, 0.001730801654048264, 0.13457560539245605, 0.17302578687667847, 0.21147595345973969, 0.2307010442018509, 0.019225087016820908, 0.019225087016820908, 0.09612543135881424, 0.05767526105046272, 0.038450174033641815, 0.019225087016820908, 0.0611969456076622, 0.0764961838722229, 0.183590829372406, 0.4283786118030548, 0.1376931220293045, 0.0305984728038311, 0.01529923640191555, 0.0458977073431015, 0.07611912488937378, 0.04659015312790871, 0.2775723338127136, 0.11549108475446701, 0.14633245766162872, 0.032809969037771225, 0.13058367371559143, 0.029528971761465073, 0.08268111944198608, 0.009842989966273308, 0.02624797448515892, 0.02493557520210743, 0.0013123987009748816, 0.2722132205963135, 0.04536886885762215, 0.3629509508609772, 0.13610661029815674, 0.0907377377152443, 0.0907377377152443, 0.39717599749565125, 0.039717599749565125, 0.5560463666915894, 0.835919976234436, 0.0071142129600048065, 0.13517004251480103, 0.01067131944000721, 0.0071142129600048065, 0.11369585245847702, 0.7579723596572876, 0.02526574395596981, 0.012632871977984905, 0.012632871977984905, 0.0631643608212471, 0.8842175006866455, 0.06801673024892807, 0.15897434949874878, 0.02525760605931282, 0.053486697375774384, 0.39223575592041016, 0.17531749606132507, 0.05051521211862564, 0.029714830219745636, 0.019314639270305634, 0.03417205438017845, 0.001485741580836475, 0.029714830219745636, 0.029714830219745636, 0.001485741580836475, 0.3247543275356293, 0.059046242386102676, 0.20666185021400452, 0.17713873088359833, 0.08856936544179916, 0.029523121193051338, 0.08856936544179916, 0.3552473783493042, 0.06459043174982071, 0.09688565135002136, 0.032295215874910355, 0.016147607937455177, 0.32295215129852295, 0.06459043174982071, 0.032295215874910355, 0.016147607937455177, 0.41475844383239746, 0.1882365196943283, 0.10847528278827667, 0.1020943820476532, 0.06699944287538528, 0.03828539326786995, 0.028714045882225037, 0.0255235955119133, 0.006380898877978325, 0.009571348316967487, 0.0031904494389891624, 0.0031904494389891624, 0.5560401678085327, 0.027802009135484695, 0.38922813534736633, 0.21212707459926605, 0.3426668047904968, 0.06526986509561539, 0.08158733695745468, 0.09246564656496048, 0.06526986509561539, 0.05439155548810959, 0.027195777744054794, 0.03535450994968414, 0.005439155735075474, 0.005439155735075474, 0.013597888872027397, 0.002719577867537737, 0.23220287263393402, 0.5572869181632996, 0.16254201531410217, 0.023220287635922432, 0.41689467430114746, 0.30319613218307495, 0.018949758261442184, 0.018949758261442184, 0.1136985495686531, 0.03789951652288437, 0.07579903304576874, 0.8116364479064941, 0.16507861018180847, 0.04591803252696991, 0.08265245705842972, 0.18367213010787964, 0.11938688158988953, 0.26632457971572876, 0.018367212265729904, 0.06428524106740952, 0.009183606132864952, 0.03673442453145981, 0.027550818398594856, 0.009183606132864952, 0.12857048213481903, 0.22062528133392334, 0.19611136615276337, 0.1715974509716034, 0.09805568307638168, 0.07354176044464111, 0.02451392076909542, 0.02451392076909542, 0.09805568307638168, 0.07354176044464111, 0.02009919285774231, 0.1808927357196808, 0.4421822428703308, 0.30148789286613464, 0.02009919285774231, 0.02009919285774231, 0.2586415112018585, 0.4100414216518402, 0.034695811569690704, 0.050466638058423996, 0.04415830597281456, 0.06466037780046463, 0.028387483209371567, 0.04100414365530014, 0.026810400187969208, 0.028387483209371567, 0.007885412313044071, 0.0015770824393257499, 0.0015770824393257499, 0.9719769954681396, 0.8612334132194519, 0.04532807692885399, 0.09065615385770798, 0.08725038170814514, 0.4013517498970032, 0.08725038170814514, 0.13960060477256775, 0.03490015119314194, 0.052350230515003204, 0.17450076341629028, 0.24961306154727936, 0.15884467959403992, 0.02269209735095501, 0.02269209735095501, 0.04538419470191002, 0.43114984035491943, 0.02269209735095501, 0.03870868310332298, 0.27096080780029297, 0.464504212141037, 0.15483473241329193, 0.03870868310332298, 0.15942807495594025, 0.35871317982673645, 0.01992850936949253, 0.0996425449848175, 0.199285089969635, 0.01992850936949253, 0.15942807495594025, 0.18354281783103943, 0.18354281783103943, 0.18354281783103943, 0.26220402121543884, 0.026220401749014854, 0.05244080349802971, 0.07866120338439941, 0.23343630135059357, 0.13339217007160187, 0.2000882625579834, 0.2000882625579834, 0.13339217007160187, 0.06669608503580093, 0.32374921441078186, 0.5665611624717712, 0.08093730360269547, 0.9261952638626099, 0.02987726591527462, 0.02987726591527462, 0.09437468647956848, 0.14601367712020874, 0.2724401354789734, 0.0997166559100151, 0.12998777627944946, 0.03561308979988098, 0.08547141402959824, 0.02136785350739956, 0.03561308979988098, 0.0195872001349926, 0.02136785350739956, 0.03561308979988098, 0.0017806545365601778, 0.29891982674598694, 0.21645918488502502, 0.12575247883796692, 0.07833760976791382, 0.012369096279144287, 0.10307580232620239, 0.053599417209625244, 0.032984256744384766, 0.03916880488395691, 0.02061516046524048, 0.002061516046524048, 0.012369096279144287, 0.20013689994812012, 0.04002737998962402, 0.5203559398651123, 0.1601095199584961, 0.04002737998962402, 0.43367740511894226, 0.03942522034049034, 0.31540176272392273, 0.07885044068098068, 0.03942522034049034, 0.03942522034049034, 0.03942522034049034, 0.5306432247161865, 0.13266080617904663, 0.13266080617904663, 0.08844053745269775, 0.04422026872634888, 0.04422026872634888, 0.47156673669815063, 0.09431334584951401, 0.1414700299501419, 0.18862669169902802, 0.047156672924757004, 0.047156672924757004, 0.1512037068605423, 0.18900462985038757, 0.06300154328346252, 0.3150077164173126, 0.16380400955677032, 0.012600308284163475, 0.012600308284163475, 0.037800926715135574, 0.037800926715135574, 0.012600308284163475, 0.012600308284163475, 0.012600308284163475, 0.012806150130927563, 0.9092366695404053, 0.07683690637350082, 0.13966961205005646, 0.5121219158172607, 0.09311307221651077, 0.046556536108255386, 0.13966961205005646, 0.046556536108255386, 0.4403749406337738, 0.18202164769172668, 0.017614997923374176, 0.2055083066225052, 0.017614997923374176, 0.005871666129678488, 0.10568998754024506, 0.017614997923374176, 0.005871666129678488, 0.1988641321659088, 0.11931847780942917, 0.01590912975370884, 0.4136373996734619, 0.15113674104213715, 0.023863695561885834, 0.05568195506930351, 0.00795456487685442, 0.00795456487685442, 0.0932658240199089, 0.007772152312099934, 0.12435443699359894, 0.1865316480398178, 0.1981898844242096, 0.031088609248399734, 0.2525949478149414, 0.007772152312099934, 0.023316456004977226, 0.05440506711602211, 0.015544304624199867, 0.003886076156049967, 0.3499458134174347, 0.6332352757453918, 0.2676820456981659, 0.22434304654598236, 0.10707282274961472, 0.12746764719486237, 0.13256634771823883, 0.01784547045826912, 0.03824029117822647, 0.030592234805226326, 0.025493528693914413, 0.01019741129130125, 0.01019741129130125, 0.0076480587013065815, 0.005098705645650625, 0.6203585863113403, 0.24814343452453613, 0.041357237845659256, 0.041357237845659256, 0.769010603427887, 0.043943461030721664, 0.16478797793388367, 0.016478799283504486, 0.935818612575531, 0.03599302098155022, 0.011997674591839314, 0.8917032480239868, 0.08273535221815109, 0.0183856338262558, 0.8989925980567932, 0.018346788361668587, 0.05504036322236061, 0.9100432395935059, 0.027577068656682968, 0.027577068656682968, 0.20488616824150085, 0.08780835568904877, 0.1990322768688202, 0.13756641745567322, 0.12293169647455215, 0.020488616079092026, 0.09366224706172943, 0.02634250745177269, 0.046831123530864716, 0.014634725637733936, 0.008780835196375847, 0.032196395099163055, 0.0029269452206790447, 0.9184825420379639, 0.07447155565023422, 0.16185961663722992, 0.7968473434448242, 0.037352219223976135, 0.4939786195755005, 0.08232977241277695, 0.41164883971214294, 0.2624184191226959, 0.14995338022708893, 0.18744172155857086, 0.1124650314450264, 0.14995338022708893, 0.1124650314450264, 0.08902453631162643, 0.17804907262325287, 0.08902453631162643, 0.5934969186782837, 0.029674846678972244, 0.26224127411842346, 0.14235955476760864, 0.1873151957988739, 0.08241868764162064, 0.05994086340069771, 0.22477824985980988, 0.0074926079250872135, 0.014985215850174427, 0.0074926079250872135, 0.2735140323638916, 0.17094627022743225, 0.4102710485458374, 0.03418925404548645, 0.0683785080909729, 0.2147044837474823, 0.16005243360996246, 0.1463894248008728, 0.162004292011261, 0.11906339973211288, 0.027326025068759918, 0.02927788533270359, 0.07417064160108566, 0.019518589600920677, 0.015614871867001057, 0.009759294800460339, 0.025374166667461395, 0.37479978799819946, 0.09369994699954987, 0.1405499279499054, 0.1405499279499054, 0.1405499279499054, 0.04684997349977493, 0.04684997349977493, 0.2153642475605011, 0.2447320967912674, 0.1859963983297348, 0.029367851093411446, 0.06852498650550842, 0.11747140437364578, 0.019578566774725914, 0.009789283387362957, 0.009789283387362957, 0.019578566774725914, 0.06852498650550842, 0.009789283387362957, 0.09813018143177032, 0.35981065034866333, 0.09813018143177032, 0.4252307713031769, 0.16853970289230347, 0.16853970289230347, 0.15862560272216797, 0.029742300510406494, 0.14871150255203247, 0.12888330221176147, 0.03965640068054199, 0.009914100170135498, 0.07931280136108398, 0.009914100170135498, 0.04957050085067749, 0.37802958488464355, 0.06300492584705353, 0.10500821471214294, 0.04200328513979912, 0.14701150357723236, 0.06300492584705353, 0.04200328513979912, 0.14701150357723236, 0.3398362994194031, 0.0679672583937645, 0.135934516787529, 0.135934516787529, 0.0679672583937645, 0.20390178263187408, 0.2568470239639282, 0.4109552204608917, 0.3210587799549103, 0.17363086342811584, 0.05617469176650047, 0.30130061507225037, 0.17363086342811584, 0.07404845952987671, 0.02298055589199066, 0.0817086398601532, 0.0306407418102026, 0.06383487582206726, 0.005106789991259575, 0.005106789991259575, 0.005106789991259575, 0.0025533949956297874, 0.5597719550132751, 0.13683314621448517, 0.012439376674592495, 0.012439376674592495, 0.07463626563549042, 0.09951501339673996, 0.012439376674592495, 0.06219688430428505, 0.012439376674592495, 0.285117506980896, 0.23759792745113373, 0.047519583255052567, 0.23759792745113373, 0.09503916651010513, 0.047519583255052567, 0.5290150046348572, 0.18893392384052277, 0.03778678551316261, 0.18893392384052277, 0.4853664040565491, 0.22840772569179535, 0.021413223817944527, 0.10706611722707748, 0.03568870574235916, 0.07137741148471832, 0.021413223817944527, 0.01427548285573721, 0.007137741427868605, 0.007137741427868605, 0.2805739641189575, 0.4809839427471161, 0.1603279709815979, 0.040081992745399475, 0.8053367137908936, 0.015487244352698326, 0.07743622362613678, 0.09292346239089966, 0.7740887403488159, 0.152780681848526, 0.020370757207274437, 0.03055613487958908, 0.010185378603637218, 0.010185378603637218, 0.8952974677085876, 0.05755483731627464, 0.0319749116897583, 0.006394981872290373, 0.08410158008337021, 0.042050790041685104, 0.37845712900161743, 0.08410158008337021, 0.12615236639976501, 0.08410158008337021, 0.042050790041685104, 0.08410158008337021, 0.12615236639976501, 0.4234926402568817, 0.5212216973304749, 0.03257635608315468, 0.5995556116104126, 0.18447865545749664, 0.04611966386437416, 0.04611966386437416, 0.04611966386437416, 0.44605088233947754, 0.01593038998544216, 0.5097724795341492, 0.01593038998544216, 0.3035373389720917, 0.32250842452049255, 0.0948554202914238, 0.07588433474302292, 0.05691325291991234, 0.05691325291991234, 0.01897108368575573, 0.01897108368575573, 0.01897108368575573, 0.01897108368575573, 0.01897108368575573, 0.17117057740688324, 0.13693645596504211, 0.10270234197378159, 0.13693645596504211, 0.2396388053894043, 0.06846822798252106, 0.03423411399126053, 0.03423411399126053, 0.03423411399126053, 0.04048183187842369, 0.5971070528030396, 0.04048183187842369, 0.060722749680280685, 0.010120457969605923, 0.030361374840140343, 0.030361374840140343, 0.010120457969605923, 0.020240915939211845, 0.020240915939211845, 0.14168642461299896, 0.4820793867111206, 0.493290513753891, 0.34844914078712463, 0.09503158926963806, 0.06335438787937164, 0.19006317853927612, 0.09503158926963806, 0.03167719393968582, 0.19006317853927612, 0.3844585716724396, 0.14378124475479126, 0.11565013229846954, 0.06563926488161087, 0.12502717971801758, 0.04688518866896629, 0.05001087114214897, 0.040633831173181534, 0.0062513588927686214, 0.0062513588927686214, 0.0062513588927686214, 0.0031256794463843107, 0.009377038106322289, 0.20323476195335388, 0.16258780658245087, 0.12194085866212845, 0.2845286726951599, 0.12194085866212845, 0.04064695164561272, 0.04064695164561272, 0.027019834145903587, 0.4323173463344574, 0.2161586731672287, 0.054039668291807175, 0.027019834145903587, 0.054039668291807175, 0.10807933658361435, 0.08105950057506561, 0.3110317289829254, 0.3332482874393463, 0.01110827550292015, 0.0666496530175209, 0.0222165510058403, 0.055541377514600754, 0.055541377514600754, 0.12219103425741196, 0.01110827550292015, 0.008162244223058224, 0.10610917955636978, 0.008162244223058224, 0.8080621957778931, 0.05713571235537529, 0.036876384168863297, 0.8112804293632507, 0.07375276833772659, 0.036876384168863297, 0.18111655116081238, 0.045279137790203094, 0.045279137790203094, 0.13583742082118988, 0.5433496832847595, 0.045279137790203094, 0.24730470776557922, 0.07065849006175995, 0.07065849006175995, 0.07065849006175995, 0.24730470776557922, 0.1413169801235199, 0.035329245030879974, 0.07065849006175995, 0.05705484747886658, 0.039938393980264664, 0.202544704079628, 0.27956876158714294, 0.23677761852741241, 0.019969196990132332, 0.04849662259221077, 0.037085652351379395, 0.0114109693095088, 0.0114109693095088, 0.04279113560914993, 0.014263711869716644, 0.15662476420402527, 0.19222129881381989, 0.14594580233097076, 0.14594580233097076, 0.16730372607707977, 0.04983514919877052, 0.06051411107182503, 0.01779826730489731, 0.04271584376692772, 0.0035596536472439766, 0.0035596536472439766, 0.007119307294487953, 0.9432214498519897, 0.0509849414229393, 0.23820051550865173, 0.33348071575164795, 0.09528020769357681, 0.047640103846788406, 0.09528020769357681, 0.09528020769357681, 0.047640103846788406, 0.047640103846788406, 0.14766612648963928, 0.25314193964004517, 0.14766612648963928, 0.10547580569982529, 0.18985645473003387, 0.021095160394906998, 0.042190320789813995, 0.06328548491001129, 0.0876132994890213, 0.5256797671318054, 0.04380664974451065, 0.04380664974451065, 0.04380664974451065, 0.21903324127197266, 0.016268040984869003, 0.7483298778533936, 0.016268040984869003, 0.19521649181842804, 0.005316268652677536, 0.4864386022090912, 0.01329067163169384, 0.058478955179452896, 0.4279596209526062, 0.005316268652677536, 0.17146486043930054, 0.19595985114574432, 0.07348494231700897, 0.12470171600580215, 0.12581512331962585, 0.06791789829730988, 0.06235085800290108, 0.05678381770849228, 0.04787655174732208, 0.04676314443349838, 0.016701122745871544, 0.006680449470877647, 0.002226816490292549, 0.0011134082451462746, 0.16460353136062622, 0.15088658034801483, 0.06858480721712112, 0.06858480721712112, 0.05486784502863884, 0.05486784502863884, 0.15088658034801483, 0.0960187315940857, 0.01371696125715971, 0.16460353136062622, 0.32362139225006104, 0.4215594232082367, 0.029807232320308685, 0.046839937567710876, 0.01703270524740219, 0.07664716988801956, 0.004258176311850548, 0.03406541049480438, 0.012774528004229069, 0.025549056008458138, 0.008516352623701096, 0.004258176311850548, 0.01954660192131996, 0.9577835202217102, 0.29194560647010803, 0.3336521089076996, 0.06673042476177216, 0.06116955727338791, 0.027804343029856682, 0.09453476965427399, 0.03336521238088608, 0.04170651361346245, 0.019463039934635162, 0.011121737770736217, 0.0027804344426840544, 0.011121737770736217, 0.8940272927284241, 0.08127520978450775, 0.0135458679869771, 0.11754632741212845, 0.293865829706192, 0.01959105394780636, 0.03918210789561272, 0.19591054320335388, 0.058773163706064224, 0.03918210789561272, 0.058773163706064224, 0.01959105394780636, 0.15672843158245087, 0.03918210789561272, 0.8136457204818726, 0.13560763001441956, 0.04520254209637642, 0.1889158934354782, 0.25188785791397095, 0.25188785791397095, 0.03148598223924637, 0.22040186822414398, 0.03148598223924637, 0.03720996156334877, 0.07441992312669754, 0.6325693726539612, 0.11162988841533661, 0.11162988841533661, 0.25490567088127136, 0.21178729832172394, 0.10399136692285538, 0.13823242485523224, 0.11667324602603912, 0.03931381180882454, 0.03677743673324585, 0.04185018688440323, 0.021559186279773712, 0.022827373817563057, 0.005072749685496092, 0.007609124761074781, 0.19577521085739136, 0.08008985966444016, 0.1156853511929512, 0.08008985966444016, 0.08008985966444016, 0.026696618646383286, 0.05339323729276657, 0.06229211017489433, 0.10678647458553314, 0.008898872882127762, 0.04449436441063881, 0.15128083527088165, 0.7100257873535156, 0.15778350830078125, 0.019722938537597656, 0.019722938537597656, 0.019722938537597656, 0.019722938537597656, 0.019722938537597656, 0.5521314740180969, 0.20553800463676453, 0.05239203944802284, 0.016120627522468567, 0.008060313761234283, 0.05239203944802284, 0.012090470641851425, 0.07254282385110855, 0.02418094128370285, 0.004030156880617142, 0.004030156880617142, 0.34571316838264465, 0.24199922382831573, 0.017285658046603203, 0.12099961191415787, 0.15557092428207397, 0.034571316093206406, 0.05185697600245476, 0.017285658046603203, 0.1960567682981491, 0.48260125517845154, 0.03016257844865322, 0.01508128922432661, 0.04524386674165726, 0.07540644705295563, 0.01508128922432661, 0.12065031379461288, 0.1746520698070526, 0.3493041396141052, 0.03493041172623634, 0.20958247780799866, 0.06986082345247269, 0.03493041172623634, 0.10479123890399933, 0.16414451599121094, 0.1805589646100998, 0.0902794823050499, 0.07386503368616104, 0.13952283561229706, 0.04924335703253746, 0.0902794823050499, 0.08207225799560547, 0.03282890468835831, 0.05745058134198189, 0.016414452344179153, 0.016414452344179153, 0.187957763671875, 0.1670735627412796, 0.12530517578125, 0.0730946883559227, 0.0835367813706398, 0.0417683906853199, 0.0417683906853199, 0.010442097671329975, 0.0730946883559227, 0.1566314697265625, 0.02088419534265995, 0.010442097671329975, 0.12618133425712585, 0.20745065808296204, 0.1860639899969101, 0.12404266744852066, 0.1432906687259674, 0.038495998829603195, 0.0716453343629837, 0.023525333032011986, 0.020317332819104195, 0.023525333032011986, 0.014970666728913784, 0.013901333324611187, 0.0032079999800771475, 0.0021386665757745504, 0.5118982791900635, 0.225235253572464, 0.040951862931251526, 0.040951862931251526, 0.040951862931251526, 0.06142779439687729, 0.020475931465625763, 0.020475931465625763, 0.45609965920448303, 0.21463513374328613, 0.026829391717910767, 0.26829391717910767, 0.5355665683746338, 0.17852219939231873, 0.04463054984807968, 0.17852219939231873, 0.04495510458946228, 0.2697306275367737, 0.24725307524204254, 0.3371632695198059, 0.04495510458946228, 0.02247755229473114, 0.23592792451381683, 0.08847296983003616, 0.20643693208694458, 0.11796396225690842, 0.029490990564227104, 0.029490990564227104, 0.08847296983003616, 0.17694593966007233, 0.23182453215122223, 0.27818945050239563, 0.12363975495100021, 0.046364907175302505, 0.06181987747550011, 0.046364907175302505, 0.06181987747550011, 0.030909938737750053, 0.06181987747550011, 0.015454969368875027, 0.015454969368875027, 0.015454969368875027, 0.08101803809404373, 0.2430541217327118, 0.040509019047021866, 0.28356313705444336, 0.08101803809404373, 0.040509019047021866, 0.08101803809404373, 0.040509019047021866, 0.08101803809404373, 0.28224942088127136, 0.047041572630405426, 0.047041572630405426, 0.23520785570144653, 0.047041572630405426, 0.23520785570144653, 0.09408314526081085, 0.06177695840597153, 0.30888479948043823, 0.5251041650772095, 0.030888479202985764, 0.030888479202985764, 0.01950276829302311, 0.390055388212204, 0.10889045894145966, 0.18040060997009277, 0.10076430439949036, 0.0016252307686954737, 0.01950276829302311, 0.0032504615373909473, 0.06825969368219376, 0.08451200276613235, 0.004875692073255777, 0.01625230722129345, 0.0016252307686954737, 0.015163359232246876, 0.010108906775712967, 0.05391416698694229, 0.5020756721496582, 0.32180020213127136, 0.01179372426122427, 0.003369635436683893, 0.0016848177183419466, 0.013478541746735573, 0.003369635436683893, 0.0454900786280632, 0.01684817671775818, 0.2585274279117584, 0.17235161364078522, 0.1292637139558792, 0.1292637139558792, 0.2585274279117584, 0.043087903410196304, 0.043087903410196304, 0.17142340540885925, 0.7058610916137695, 0.020167458802461624, 0.010083729401230812, 0.04033491760492325, 0.010083729401230812, 0.04033491760492325, 0.33775803446769714, 0.03377580642700195, 0.47286126017570496, 0.03377580642700195, 0.03377580642700195, 0.03377580642700195, 0.008904422633349895, 0.7034494280815125, 0.13356634974479675, 0.0890442281961441, 0.05342653766274452, 0.008904422633349895, 0.008904422633349895, 0.43651995062828064, 0.2381017953157425, 0.03968363255262375, 0.03968363255262375, 0.2381017953157425, 0.06379381567239761, 0.3508659899234772, 0.12758763134479523, 0.03189690783619881, 0.22327835857868195, 0.03189690783619881, 0.15948453545570374, 0.29670825600624084, 0.3390951454639435, 0.1271606683731079, 0.042386893182992935, 0.08477378636598587, 0.042386893182992935, 0.11989396810531616, 0.13273975253105164, 0.17127709090709686, 0.1873343288898468, 0.20232106745243073, 0.020339155569672585, 0.07921566069126129, 0.026762045919895172, 0.01819819211959839, 0.009634336456656456, 0.019268672913312912, 0.009634336456656456, 0.0021409636829048395, 0.2836509048938751, 0.1211712583899498, 0.2423425167798996, 0.01652335375547409, 0.0908784493803978, 0.0743550956249237, 0.07986287772655487, 0.03304670751094818, 0.01652335375547409, 0.019277246668934822, 0.005507784429937601, 0.011015568859875202, 0.0027538922149688005, 0.0027538922149688005, 0.17979121208190918, 0.44947803020477295, 0.029965201392769814, 0.029965201392769814, 0.08989560604095459, 0.029965201392769814, 0.17979121208190918, 0.13896042108535767, 0.07382272928953171, 0.1910705864429474, 0.30831843614578247, 0.13896042108535767, 0.008685026317834854, 0.10422032326459885, 0.008685026317834854, 0.008685026317834854, 0.004342513158917427, 0.013027540408074856, 0.004342513158917427, 0.09567336738109589, 0.5790756344795227, 0.0050354404374957085, 0.03021264262497425, 0.241701140999794, 0.0050354404374957085, 0.010070880874991417, 0.020141761749982834, 0.0050354404374957085, 0.21575869619846344, 0.35305970907211304, 0.039228856563568115, 0.019614428281784058, 0.1373009979724884, 0.019614428281784058, 0.17652985453605652, 0.039228856563568115, 0.22652678191661835, 0.1321406215429306, 0.12270200252532959, 0.028315847739577293, 0.0660703107714653, 0.07550892978906631, 0.11326339095830917, 0.14157924056053162, 0.028315847739577293, 0.028315847739577293, 0.01887723244726658, 0.01887723244726658, 0.4460424780845642, 0.13381274044513702, 0.08920849114656448, 0.2230212390422821, 0.08920849114656448, 0.04460424557328224, 0.061068639159202576, 0.24936361610889435, 0.1068701222538948, 0.14249350130558014, 0.11195917427539825, 0.035623375326395035, 0.1170482262969017, 0.035623375326395035, 0.030534319579601288, 0.02544526755809784, 0.05089053511619568, 0.02544526755809784, 0.9658394455909729, 0.3457357883453369, 0.3669651746749878, 0.036393240094184875, 0.027294930070638657, 0.030327700078487396, 0.10311418026685715, 0.009098310023546219, 0.018196620047092438, 0.024262160062789917, 0.036393240094184875, 0.0030327700078487396, 0.0030327700078487396, 0.26896804571151733, 0.15369603037834167, 0.461088091135025, 0.07684801518917084, 0.03842400759458542, 0.20520813763141632, 0.12312488257884979, 0.12312488257884979, 0.08208325505256653, 0.24624976515769958, 0.08208325505256653, 0.08208325505256653, 0.041041627526283264, 0.3087465465068817, 0.4322451651096344, 0.05788997560739517, 0.08490529656410217, 0.03087465465068817, 0.011577995494008064, 0.0038593318313360214, 0.011577995494008064, 0.019296659156680107, 0.019296659156680107, 0.015437327325344086, 0.3178148865699768, 0.28665658831596375, 0.1308649629354477, 0.04362165182828903, 0.06854831427335739, 0.02492665871977806, 0.02492665871977806, 0.03115832433104515, 0.02492665871977806, 0.01246332935988903, 0.006231664679944515, 0.01246332935988903, 0.006231664679944515, 0.006231664679944515, 0.18531540036201477, 0.27797311544418335, 0.09265770018100739, 0.13898655772209167, 0.27797311544418335, 0.2625446319580078, 0.1470249891281128, 0.1680285632610321, 0.12602141499519348, 0.08401428163051605, 0.12602141499519348, 0.042007140815258026, 0.010501785203814507, 0.010501785203814507, 0.19375555217266083, 0.232506662607193, 0.1420873999595642, 0.18083851039409637, 0.1420873999595642, 0.02583407424390316, 0.038751110434532166, 0.02583407424390316, 0.01291703712195158, 0.01291703712195158, 0.5798296928405762, 0.31221598386764526, 0.04460228607058525, 0.04460228607058525, 0.3189128041267395, 0.5815469026565552, 0.018759576603770256, 0.02813936583697796, 0.02813936583697796, 0.018759576603770256, 0.12467115372419357, 0.008905082009732723, 0.4719693660736084, 0.10686098784208298, 0.15138639509677887, 0.03562032803893089, 0.062335576862096786, 0.008905082009732723, 0.008905082009732723, 0.008905082009732723, 0.017810164019465446, 0.0973420962691307, 0.10545393824577332, 0.2758026123046875, 0.18981708586215973, 0.12816709280014038, 0.01784605160355568, 0.0681394636631012, 0.01784605160355568, 0.0275802593678236, 0.008111841045320034, 0.029202628880739212, 0.0340697318315506, 0.0016223682323470712, 0.791292667388916, 0.19100168347358704, 0.7301262617111206, 0.12697848677635193, 0.09523386508226395, 0.3874438405036926, 0.29058289527893066, 0.14529144763946533, 0.09686096012592316, 0.04843048006296158, 0.04843048006296158, 0.1625334918498993, 0.1958736926317215, 0.050010304898023605, 0.12502576410770416, 0.12085823714733124, 0.1291932910680771, 0.058345355093479156, 0.09585308283567429, 0.020837627351284027, 0.020837627351284027, 0.012502576224505901, 0.008335051126778126, 0.17565502226352692, 0.21078601479530334, 0.07026200741529465, 0.17565502226352692, 0.035131003707647324, 0.17565502226352692, 0.10539300739765167, 0.035131003707647324, 0.10889732837677002, 0.10889732837677002, 0.07985803484916687, 0.10163750499486923, 0.07259821891784668, 0.26861339807510376, 0.11615714430809021, 0.08711785823106766, 0.04355892911553383, 0.8286123275756836, 0.05433523282408714, 0.013583808206021786, 0.02716761641204357, 0.0679190382361412, 0.19963514804840088, 0.3593432605266571, 0.039927028119564056, 0.039927028119564056, 0.039927028119564056, 0.19963514804840088, 0.07985405623912811, 0.039927028119564056, 0.2202049046754837, 0.016938839107751846, 0.2794908583164215, 0.16938838362693787, 0.127041295170784, 0.03387767821550369, 0.08469419181346893, 0.02540825866162777, 0.02540825866162777, 0.14670492708683014, 0.4667884111404419, 0.04001043736934662, 0.0666840597987175, 0.25339943170547485, 0.013336812146008015, 0.08140885829925537, 0.2849310040473938, 0.16281771659851074, 0.12211328744888306, 0.040704429149627686, 0.08140885829925537, 0.20352214574813843, 0.040704429149627686, 0.08390779048204422, 0.05085320398211479, 0.3674144148826599, 0.20976947247982025, 0.026697931811213493, 0.0114419711753726, 0.16908690333366394, 0.007627980783581734, 0.029240593314170837, 0.012713300995528698, 0.015255961567163467, 0.015255961567163467, 0.17886145412921906, 0.09666129946708679, 0.2549727261066437, 0.13852249085903168, 0.1316724717617035, 0.035011179745197296, 0.05936678126454353, 0.015222251415252686, 0.03425006568431854, 0.012177800759673119, 0.014461139217019081, 0.025877827778458595, 0.0030444501899182796, 0.7241250276565552, 0.009655000641942024, 0.009655000641942024, 0.2510300278663635, 0.2716357707977295, 0.11185003072023392, 0.17576433718204498, 0.17576433718204498, 0.015978574752807617, 0.015978574752807617, 0.12782859802246094, 0.015978574752807617, 0.015978574752807617, 0.031957149505615234, 0.015978574752807617, 0.3152143955230713, 0.19624918699264526, 0.17975035309791565, 0.09117771685123444, 0.0755472481250763, 0.034734368324279785, 0.03212929144501686, 0.01910390332341194, 0.02257733978331089, 0.015630465000867844, 0.007815232500433922, 0.007815232500433922, 0.001736718462780118, 0.001736718462780118, 0.20238129794597626, 0.1349208652973175, 0.033730216324329376, 0.10119064897298813, 0.06746043264865875, 0.37103235721588135, 0.033730216324329376, 0.033730216324329376, 0.4085830748081207, 0.377153605222702, 0.0628589317202568, 0.0314294658601284, 0.0628589317202568, 0.0314294658601284, 0.0314294658601284, 0.1515253484249115, 0.17804227769374847, 0.11174993962049484, 0.15531347692012787, 0.1515253484249115, 0.05871606990695, 0.0814448744058609, 0.03030506893992424, 0.026516934856772423, 0.02083473466336727, 0.022728802636265755, 0.009470334276556969, 0.19659020006656647, 0.1581760197877884, 0.17098073661327362, 0.17775972187519073, 0.13331978023052216, 0.037660956382751465, 0.04971246421337128, 0.025609450414776802, 0.011298286728560925, 0.016570821404457092, 0.009038629941642284, 0.011298286728560925, 0.0015064382459968328, 0.0007532191229984164, 0.2996922433376312, 0.2143494188785553, 0.059541504830121994, 0.10122055560350418, 0.10122055560350418, 0.11709829419851303, 0.0317554697394371, 0.03374018520116806, 0.019847167655825615, 0.013893017545342445, 0.001984716858714819, 0.003969433717429638, 0.10746555030345917, 0.11573212593793869, 0.07853251695632935, 0.3637295365333557, 0.24799741804599762, 0.008266580291092396, 0.01653316058218479, 0.004133290145546198, 0.008266580291092396, 0.008266580291092396, 0.024799741804599762, 0.01653316058218479, 0.3088887929916382, 0.48539668321609497, 0.0441269725561142, 0.0441269725561142, 0.0441269725561142, 0.23919691145420074, 0.2690965235233307, 0.029899613931775093, 0.11959845572710037, 0.059799227863550186, 0.08969884365797043, 0.059799227863550186, 0.029899613931775093, 0.029899613931775093, 0.059799227863550186, 0.212591290473938, 0.15461184084415436, 0.05797944217920303, 0.2705707252025604, 0.11595888435840607, 0.05797944217920303, 0.03865296021103859, 0.019326480105519295, 0.019326480105519295, 0.03865296021103859, 0.24636471271514893, 0.5895155668258667, 0.00879873987287283, 0.026396218687295914, 0.00879873987287283, 0.06159117817878723, 0.026396218687295914, 0.01759747974574566, 0.00879873987287283, 0.318030446767807, 0.07950761169195175, 0.1590152233839035, 0.039753805845975876, 0.19876901805400848, 0.039753805845975876, 0.039753805845975876, 0.07950761169195175, 0.039753805845975876, 0.18863217532634735, 0.6467388868331909, 0.02694745361804962, 0.02694745361804962, 0.05389490723609924, 0.03878859058022499, 0.15515436232089996, 0.11636576801538467, 0.27152013778686523, 0.07757718116044998, 0.07757718116044998, 0.03878859058022499, 0.15515436232089996, 0.03878859058022499, 0.3778490126132965, 0.047231126576662064, 0.18892450630664825, 0.047231126576662064, 0.09446225315332413, 0.047231126576662064, 0.1416933834552765, 0.03839433565735817, 0.12798111140727997, 0.1727745085954666, 0.07038961350917816, 0.4799291789531708, 0.006399055942893028, 0.019197167828679085, 0.03199527785181999, 0.03199527785181999, 0.006399055942893028, 0.006399055942893028, 0.22580301761627197, 0.577052116394043, 0.1254461109638214, 0.025089222937822342, 0.04609433934092522, 0.18437735736370087, 0.41484907269477844, 0.13828301429748535, 0.04609433934092522, 0.04609433934092522, 0.09218867868185043, 0.2192656546831131, 0.2505893111228943, 0.18794198334217072, 0.12529465556144714, 0.06264732778072357, 0.12529465556144714, 0.061535537242889404, 0.12307107448577881, 0.020511846989393234, 0.20511846244335175, 0.3487013876438141, 0.14358292520046234, 0.10255923122167587, 0.5751951336860657, 0.041085366159677505, 0.20542682707309723, 0.12325609475374222, 0.041085366159677505, 0.23148959875106812, 0.23148959875106812, 0.09259583801031113, 0.18519167602062225, 0.1388937532901764, 0.04629791900515556, 0.04629791900515556, 0.04629791900515556, 0.09882177412509918, 0.04117573797702789, 0.2594071328639984, 0.25528958439826965, 0.14823265373706818, 0.024705443531274796, 0.10293934494256973, 0.004117573611438274, 0.004117573611438274, 0.008235147222876549, 0.04117573797702789, 0.008235147222876549, 0.004117573611438274, 0.18570099771022797, 0.03714020177721977, 0.2599813938140869, 0.1485608071088791, 0.07428040355443954, 0.11142060160636902, 0.03714020177721977, 0.03714020177721977, 0.11142060160636902, 0.4384348690509796, 0.4384348690509796, 0.08768697082996368, 0.14872770011425018, 0.669274628162384, 0.037181925028562546, 0.037181925028562546, 0.037181925028562546, 0.037181925028562546, 0.037181925028562546, 0.2475142925977707, 0.20626191794872284, 0.12375714629888535, 0.12375714629888535, 0.0825047641992569, 0.12375714629888535, 0.04125238209962845, 0.5982320308685303, 0.025638515129685402, 0.35893920063972473, 0.2939912974834442, 0.6518937945365906, 0.025564461946487427, 0.012782230973243713, 0.03534556180238724, 0.10603668540716171, 0.5478562116622925, 0.08836390823125839, 0.08836390823125839, 0.01767278090119362, 0.01767278090119362, 0.01767278090119362, 0.03534556180238724, 0.03534556180238724, 0.09159261733293533, 0.10991113632917404, 0.20150375366210938, 0.34805193543434143, 0.018318522721529007, 0.09159261733293533, 0.05495556816458702, 0.07327409088611603, 0.06949038803577423, 0.6254134774208069, 0.052117787301540375, 0.034745194017887115, 0.008686298504471779, 0.07817668467760086, 0.008686298504471779, 0.06949038803577423, 0.008686298504471779, 0.017372597008943558, 0.008686298504471779, 0.10875299572944641, 0.12852627038955688, 0.14829954504966736, 0.17795945703983307, 0.04943317919969559, 0.08897972851991653, 0.24716590344905853, 0.009886636398732662, 0.009886636398732662, 0.019773272797465324, 0.009886636398732662, 0.009886636398732662, 0.2658066153526306, 0.23382988572120667, 0.05595928803086281, 0.09593020379543304, 0.12191130220890045, 0.05396074056625366, 0.025981098413467407, 0.0299781896173954, 0.04796510189771652, 0.03597382828593254, 0.005995637737214565, 0.015988368541002274, 0.005995637737214565, 0.003997092135250568, 0.027302155271172523, 0.9009711742401123, 0.027302155271172523, 0.027302155271172523, 0.609001100063324, 0.38120678067207336, 0.0023244316689670086, 0.004648863337934017, 0.09521795064210892, 0.6347863078117371, 0.04760897532105446, 0.03173931688070297, 0.015869658440351486, 0.09521795064210892, 0.03173931688070297, 0.015869658440351486, 0.015869658440351486, 0.015869658440351486, 0.3092023730278015, 0.42201945185661316, 0.004178410395979881, 0.012535231187939644, 0.008356820791959763, 0.1880284696817398, 0.008356820791959763, 0.012535231187939644, 0.03342728316783905, 0.004178410395979881, 0.2626870572566986, 0.3377405107021332, 0.11258017271757126, 0.03752672299742699, 0.22516034543514252, 0.004998449236154556, 0.9846945405006409, 0.08116484433412552, 0.16232968866825104, 0.16232968866825104, 0.2029121071100235, 0.12174726277589798, 0.16232968866825104, 0.04058242216706276, 0.04058242216706276, 0.033528123050928116, 0.14528852701187134, 0.022352080792188644, 0.4805697500705719, 0.011176040396094322, 0.11176040768623352, 0.16764061152935028, 0.022352080792188644, 0.004551229532808065, 0.987616777420044, 0.14890338480472565, 0.6750286817550659, 0.02978067845106125, 0.02978067845106125, 0.04963446408510208, 0.039707571268081665, 0.009926892817020416, 0.17887447774410248, 0.12939855456352234, 0.18838907778263092, 0.1332044005393982, 0.15223360061645508, 0.03615548089146614, 0.09134015440940857, 0.017126278951764107, 0.022835038602352142, 0.017126278951764107, 0.022835038602352142, 0.011417519301176071, 0.0019029199611395597, 0.33552131056785583, 0.16776065528392792, 0.13420851528644562, 0.13420851528644562, 0.033552128821611404, 0.16776065528392792, 0.2001940906047821, 0.13908220827579498, 0.2802717089653015, 0.12433106452226639, 0.10325800627470016, 0.05057534947991371, 0.02107306197285652, 0.023180367425084114, 0.016858449205756187, 0.01896575652062893, 0.01475114282220602, 0.006321918684989214, 0.0021073061507195234, 0.03889784589409828, 0.5445698499679565, 0.02593189850449562, 0.01296594925224781, 0.11669354140758514, 0.1944892406463623, 0.0648297443985939, 0.5445873141288757, 0.38383564352989197, 0.06561293452978134, 0.2539573609828949, 0.09523401409387589, 0.2539573609828949, 0.04761700704693794, 0.11110635101795197, 0.03174467012286186, 0.06348934024572372, 0.0793616771697998, 0.01587233506143093, 0.01587233506143093, 0.01587233506143093, 0.13455472886562347, 0.26910945773124695, 0.1794063001871109, 0.08970315009355545, 0.08970315009355545, 0.044851575046777725, 0.044851575046777725, 0.044851575046777725, 0.044851575046777725, 0.163696750998497, 0.15278363227844238, 0.14732708036899567, 0.26737135648727417, 0.09276149421930313, 0.010913116857409477, 0.04365246742963791, 0.021826233714818954, 0.01636967435479164, 0.01636967435479164, 0.05456558242440224, 0.005456558428704739, 0.17554736137390137, 0.2194342017173767, 0.21316465735435486, 0.12225619703531265, 0.08150413632392883, 0.053291164338588715, 0.009404323063790798, 0.015673872083425522, 0.040752068161964417, 0.03448251634836197, 0.015673872083425522, 0.009404323063790798, 0.006269548553973436, 0.13887734711170197, 0.37033960223197937, 0.09258490055799484, 0.32404714822769165, 0.15240523219108582, 0.22032496333122253, 0.1689710170030594, 0.08779866993427277, 0.09111182391643524, 0.043071042746305466, 0.048040781170129776, 0.031474992632865906, 0.043071042746305466, 0.06626314669847488, 0.018222365528345108, 0.024848679080605507, 0.0016565786208957434, 0.22335182130336761, 0.04646917060017586, 0.2683219909667969, 0.13790850341320038, 0.16938762366771698, 0.040473148226737976, 0.04946718364953995, 0.005996021907776594, 0.0329781211912632, 0.004497016780078411, 0.0074950275011360645, 0.013491049408912659, 0.07018952071666718, 0.03509476035833359, 0.10528428107500076, 0.5439687967300415, 0.07018952071666718, 0.017547380179166794, 0.017547380179166794, 0.12283166497945786, 0.1057555302977562, 0.03525184094905853, 0.14100736379623413, 0.14100736379623413, 0.3525184392929077, 0.07050368189811707, 0.07050368189811707], \"Term\": [\"abbey\", \"abbey\", \"abruptly\", \"abruptly\", \"abruptly\", \"abruptly\", \"abruptly\", \"abruptly\", \"abruptly\", \"abruptly\", \"abruptly\", \"abruptly\", \"accompany\", \"accompany\", \"accompany\", \"accompany\", \"accompany\", \"accompany\", \"accompany\", \"accompany\", \"accomplished\", \"accomplished\", \"accomplished\", \"accomplished\", \"accomplished\", \"accomplished\", \"accomplished\", \"accomplished\", \"accomplished\", \"accomplished\", \"accomplished\", \"accomplished\", \"accordingly\", \"accordingly\", \"accordingly\", \"accordingly\", \"accordingly\", \"accordingly\", \"accordingly\", \"accordingly\", \"accounts\", \"accounts\", \"accounts\", \"accounts\", \"accounts\", \"accounts\", \"adele\", \"adele\", \"adele\", \"adele\", \"adele\", \"adele\", \"admit\", \"admit\", \"admit\", \"admit\", \"admit\", \"admit\", \"admit\", \"admit\", \"admit\", \"adopt\", \"adopt\", \"adopt\", \"adopt\", \"adopt\", \"adopt\", \"adopt\", \"adopt\", \"adopt\", \"affection\", \"affection\", \"affection\", \"affection\", \"affection\", \"affection\", \"affection\", \"affection\", \"affection\", \"affection\", \"affection\", \"affliction\", \"affliction\", \"affliction\", \"affliction\", \"ah\", \"ah\", \"ah\", \"ah\", \"ah\", \"ah\", \"ah\", \"ah\", \"ah\", \"ah\", \"alive\", \"alive\", \"alive\", \"alive\", \"alive\", \"alive\", \"alive\", \"alive\", \"alive\", \"alteration\", \"alteration\", \"alteration\", \"alteration\", \"alteration\", \"anger\", \"anger\", \"anger\", \"anger\", \"anger\", \"anger\", \"anger\", \"anger\", \"answer\", \"answer\", \"answer\", \"answer\", \"answer\", \"answer\", \"answer\", \"answer\", \"answer\", \"answer\", \"answer\", \"answer\", \"answer\", \"anxious\", \"anxious\", \"anxious\", \"anxious\", \"anxious\", \"anxious\", \"anxious\", \"anxious\", \"anxious\", \"anxious\", \"anybody\", \"anybody\", \"anybody\", \"anybody\", \"anybody\", \"anybody\", \"anybody\", \"anybody\", \"anybody\", \"anybody\", \"anybody\", \"apply\", \"apply\", \"apply\", \"apply\", \"apply\", \"apply\", \"arch\", \"arch\", \"arch\", \"arch\", \"arch\", \"arch\", \"asked\", \"asked\", \"asked\", \"asked\", \"asked\", \"asked\", \"asked\", \"asked\", \"asked\", \"asked\", \"asked\", \"asked\", \"asked\", \"assure\", \"assure\", \"assure\", \"assure\", \"assure\", \"assure\", \"assure\", \"assure\", \"assure\", \"assure\", \"assure\", \"attend\", \"attend\", \"attend\", \"attend\", \"attend\", \"attend\", \"attire\", \"attire\", \"attire\", \"attire\", \"attire\", \"aunt\", \"aunt\", \"aunt\", \"aunt\", \"aunt\", \"aunt\", \"aunt\", \"aunt\", \"aunt\", \"aunt\", \"aunt\", \"authority\", \"authority\", \"authority\", \"authority\", \"authority\", \"authority\", \"authority\", \"authority\", \"authority\", \"away\", \"away\", \"away\", \"away\", \"away\", \"away\", \"away\", \"away\", \"away\", \"away\", \"away\", \"away\", \"away\", \"aye\", \"aye\", \"aye\", \"aye\", \"aye\", \"aye\", \"aye\", \"barton\", \"bassompierre\", \"bassompierre\", \"bassompierre\", \"bates\", \"bates\", \"bates\", \"beck\", \"beck\", \"beck\", \"beck\", \"bed\", \"bed\", \"bed\", \"bed\", \"bed\", \"bed\", \"bed\", \"bed\", \"bed\", \"bed\", \"bed\", \"behaviour\", \"behaviour\", \"behaviour\", \"behaviour\", \"behaviour\", \"behaviour\", \"behaviour\", \"bell\", \"bell\", \"bell\", \"bell\", \"bell\", \"bell\", \"bell\", \"bell\", \"bell\", \"bell\", \"bell\", \"bell\", \"bell\", \"belong\", \"belong\", \"belong\", \"belong\", \"belong\", \"belong\", \"bennet\", \"bennet\", \"bennet\", \"bennet\", \"bessie\", \"bessie\", \"bessie\", \"bessie\", \"best\", \"best\", \"best\", \"best\", \"best\", \"best\", \"best\", \"best\", \"best\", \"best\", \"best\", \"best\", \"best\", \"better\", \"better\", \"better\", \"better\", \"better\", \"better\", \"better\", \"better\", \"better\", \"better\", \"better\", \"better\", \"better\", \"bien\", \"bien\", \"bien\", \"bingley\", \"bingley\", \"bingley\", \"bingley\", \"bingley\", \"birds\", \"birds\", \"birds\", \"birds\", \"black\", \"black\", \"black\", \"black\", \"black\", \"black\", \"black\", \"black\", \"black\", \"blooming\", \"blooming\", \"blooming\", \"blooming\", \"blooming\", \"blooming\", \"board\", \"board\", \"board\", \"board\", \"board\", \"board\", \"body\", \"body\", \"body\", \"body\", \"body\", \"body\", \"body\", \"body\", \"body\", \"body\", \"book\", \"book\", \"book\", \"book\", \"book\", \"book\", \"book\", \"book\", \"book\", \"book\", \"book\", \"book\", \"bourgh\", \"bow\", \"bow\", \"bow\", \"bow\", \"bow\", \"bow\", \"bow\", \"bow\", \"brandon\", \"brandon\", \"bread\", \"bread\", \"bread\", \"bread\", \"bread\", \"bread\", \"breakfast\", \"breakfast\", \"breakfast\", \"breakfast\", \"breakfast\", \"breakfast\", \"breakfast\", \"breakfast\", \"breakfast\", \"breakfast\", \"breakfast\", \"breakfast\", \"breeze\", \"breeze\", \"breeze\", \"bretton\", \"bretton\", \"bretton\", \"bretton\", \"bretton\", \"brother\", \"brother\", \"brother\", \"brother\", \"brother\", \"brother\", \"brother\", \"brother\", \"brother\", \"brother\", \"brother\", \"brother\", \"brown\", \"brown\", \"brown\", \"brown\", \"brown\", \"brown\", \"brussels\", \"brussels\", \"brussels\", \"burden\", \"burden\", \"burden\", \"burnt\", \"burnt\", \"burnt\", \"burnt\", \"burnt\", \"busy\", \"busy\", \"busy\", \"busy\", \"busy\", \"busy\", \"busy\", \"busy\", \"bye\", \"bye\", \"bye\", \"bye\", \"bye\", \"bye\", \"bye\", \"bye\", \"bye\", \"bye\", \"calm\", \"calm\", \"calm\", \"calm\", \"calm\", \"calm\", \"calm\", \"calm\", \"calm\", \"calm\", \"calmness\", \"calmness\", \"calmness\", \"calmness\", \"calmness\", \"calmness\", \"came\", \"came\", \"came\", \"came\", \"came\", \"came\", \"came\", \"came\", \"came\", \"came\", \"came\", \"came\", \"came\", \"came\", \"campbell\", \"campbell\", \"campbell\", \"candle\", \"candle\", \"candle\", \"candle\", \"candle\", \"cards\", \"cards\", \"cards\", \"cards\", \"cards\", \"cards\", \"cards\", \"cards\", \"cards\", \"cards\", \"cared\", \"cared\", \"cared\", \"cared\", \"cared\", \"cared\", \"cared\", \"carriage\", \"carriage\", \"carriage\", \"carriage\", \"carriage\", \"carriage\", \"carriage\", \"carriage\", \"carriage\", \"carriage\", \"carriage\", \"carriage\", \"casement\", \"casement\", \"casement\", \"casement\", \"cases\", \"cases\", \"cases\", \"cases\", \"cases\", \"cases\", \"catherine\", \"catherine\", \"catherine\", \"caution\", \"caution\", \"caution\", \"caution\", \"caution\", \"caution\", \"ce\", \"ce\", \"censure\", \"censure\", \"censure\", \"censure\", \"censure\", \"censure\", \"chair\", \"chair\", \"chair\", \"chair\", \"chair\", \"chair\", \"chair\", \"chair\", \"chair\", \"chair\", \"chair\", \"chaise\", \"chaise\", \"chaise\", \"chaise\", \"chaise\", \"chaise\", \"chaise\", \"chaise\", \"chaise\", \"changes\", \"changes\", \"changes\", \"changes\", \"changes\", \"changes\", \"charged\", \"charged\", \"charged\", \"charged\", \"charged\", \"charlotte\", \"charlotte\", \"charlotte\", \"charlotte\", \"charming\", \"charming\", \"charming\", \"charming\", \"charming\", \"charming\", \"charming\", \"charming\", \"charming\", \"charming\", \"cheerfulness\", \"cheerfulness\", \"cheerfulness\", \"cheerfulness\", \"cheerfulness\", \"cheerfulness\", \"child\", \"child\", \"child\", \"child\", \"child\", \"child\", \"child\", \"child\", \"child\", \"child\", \"child\", \"child\", \"children\", \"children\", \"children\", \"children\", \"children\", \"children\", \"children\", \"children\", \"children\", \"children\", \"children\", \"children\", \"chin\", \"chin\", \"chin\", \"chin\", \"chin\", \"chin\", \"churchill\", \"churchill\", \"chuse\", \"chuse\", \"chuse\", \"chuse\", \"city\", \"city\", \"city\", \"city\", \"city\", \"claims\", \"claims\", \"claims\", \"claims\", \"claims\", \"claims\", \"class\", \"class\", \"class\", \"class\", \"class\", \"class\", \"class\", \"classe\", \"classe\", \"classe\", \"classe\", \"clearly\", \"clearly\", \"clearly\", \"clearly\", \"clearly\", \"clearly\", \"clearly\", \"clearly\", \"cloak\", \"cloak\", \"cloak\", \"cloak\", \"clothes\", \"clothes\", \"clothes\", \"clothes\", \"clothes\", \"clothes\", \"clothes\", \"clothes\", \"clothes\", \"clouds\", \"clouds\", \"clouds\", \"clouds\", \"clouds\", \"clouds\", \"coffee\", \"coffee\", \"coffee\", \"coffee\", \"coffee\", \"coffee\", \"coffee\", \"coffee\", \"cole\", \"cole\", \"cole\", \"collins\", \"collins\", \"collins\", \"colonel\", \"colonel\", \"colonel\", \"colonel\", \"colonel\", \"colonel\", \"colonel\", \"colonel\", \"colonel\", \"colonel\", \"come\", \"come\", \"come\", \"come\", \"come\", \"come\", \"come\", \"come\", \"come\", \"come\", \"come\", \"come\", \"come\", \"coming\", \"coming\", \"coming\", \"coming\", \"coming\", \"coming\", \"coming\", \"coming\", \"coming\", \"coming\", \"coming\", \"coming\", \"communicate\", \"communicate\", \"communicate\", \"communicate\", \"communicate\", \"communicate\", \"complaint\", \"complaint\", \"complaint\", \"complaint\", \"conceived\", \"conceived\", \"conceived\", \"conceived\", \"conceived\", \"conceived\", \"concerning\", \"concerning\", \"concerning\", \"concerning\", \"concerning\", \"constitution\", \"constitution\", \"constitution\", \"constitution\", \"constitution\", \"constitution\", \"constitution\", \"corner\", \"corner\", \"corner\", \"corner\", \"corner\", \"corner\", \"corner\", \"cottage\", \"cottage\", \"cottage\", \"cottage\", \"cottage\", \"cottage\", \"country\", \"country\", \"country\", \"country\", \"country\", \"country\", \"country\", \"country\", \"country\", \"country\", \"country\", \"couple\", \"couple\", \"couple\", \"couple\", \"couple\", \"couple\", \"couple\", \"couple\", \"cousin\", \"cousin\", \"cousin\", \"cousin\", \"cousin\", \"cousin\", \"cousin\", \"cousins\", \"cousins\", \"cousins\", \"cousins\", \"cousins\", \"cousins\", \"cousins\", \"cried\", \"cried\", \"cried\", \"cried\", \"cried\", \"cried\", \"cried\", \"cried\", \"cried\", \"cried\", \"cried\", \"cried\", \"crimsworth\", \"crimsworth\", \"crown\", \"crown\", \"crown\", \"crown\", \"crown\", \"cup\", \"cup\", \"cup\", \"cup\", \"cup\", \"curtains\", \"curtains\", \"curtains\", \"curtains\", \"curtains\", \"curtains\", \"dancing\", \"dancing\", \"dancing\", \"dancing\", \"dancing\", \"dancing\", \"dancing\", \"dancing\", \"darcy\", \"darcy\", \"darcy\", \"darcy\", \"dare\", \"dare\", \"dare\", \"dare\", \"dare\", \"dare\", \"dare\", \"dare\", \"dare\", \"dare\", \"dare\", \"dare\", \"dare\", \"daresay\", \"daresay\", \"daresay\", \"daresay\", \"daresay\", \"dark\", \"dark\", \"dark\", \"dark\", \"dark\", \"dark\", \"dark\", \"dark\", \"dark\", \"dark\", \"dark\", \"dashwood\", \"dashwood\", \"dashwoods\", \"daughters\", \"daughters\", \"daughters\", \"daughters\", \"daughters\", \"daughters\", \"daughters\", \"daughters\", \"daughters\", \"day\", \"day\", \"day\", \"day\", \"day\", \"day\", \"day\", \"day\", \"day\", \"day\", \"day\", \"day\", \"day\", \"dead\", \"dead\", \"dead\", \"dead\", \"dead\", \"dead\", \"dead\", \"dead\", \"dead\", \"dear\", \"dear\", \"dear\", \"dear\", \"dear\", \"dear\", \"dear\", \"dear\", \"dear\", \"dear\", \"dear\", \"dear\", \"death\", \"death\", \"death\", \"death\", \"death\", \"death\", \"death\", \"death\", \"death\", \"death\", \"death\", \"delightful\", \"delightful\", \"delightful\", \"delightful\", \"delightful\", \"delightful\", \"delightful\", \"delightful\", \"delightful\", \"delightful\", \"delightful\", \"demeanour\", \"demeanour\", \"demeanour\", \"depend\", \"depend\", \"depend\", \"depend\", \"depend\", \"depend\", \"depend\", \"depend\", \"depend\", \"depended\", \"depended\", \"depended\", \"depended\", \"depended\", \"des\", \"des\", \"des\", \"deserve\", \"deserve\", \"deserve\", \"deserve\", \"deserve\", \"deserve\", \"deserve\", \"desk\", \"desk\", \"desk\", \"desk\", \"desk\", \"desk\", \"desolate\", \"desolate\", \"desolate\", \"desolate\", \"devil\", \"devil\", \"devil\", \"devil\", \"devil\", \"devil\", \"diana\", \"diana\", \"diana\", \"diana\", \"differently\", \"differently\", \"differently\", \"differently\", \"differently\", \"dim\", \"dim\", \"dim\", \"dim\", \"dine\", \"dine\", \"dine\", \"dine\", \"dine\", \"dine\", \"dine\", \"dine\", \"dining\", \"dining\", \"dining\", \"dining\", \"dining\", \"dining\", \"dining\", \"dining\", \"dining\", \"dining\", \"dining\", \"dining\", \"dinner\", \"dinner\", \"dinner\", \"dinner\", \"dinner\", \"dinner\", \"dinner\", \"dinner\", \"dinner\", \"dinner\", \"dinner\", \"directly\", \"directly\", \"directly\", \"directly\", \"directly\", \"directly\", \"directly\", \"directly\", \"directly\", \"directly\", \"directly\", \"directress\", \"display\", \"display\", \"display\", \"display\", \"display\", \"display\", \"display\", \"divine\", \"divine\", \"divine\", \"divine\", \"divine\", \"division\", \"division\", \"division\", \"division\", \"division\", \"division\", \"division\", \"donwell\", \"donwell\", \"door\", \"door\", \"door\", \"door\", \"door\", \"door\", \"door\", \"door\", \"door\", \"door\", \"door\", \"door\", \"door\", \"door\", \"downstairs\", \"downstairs\", \"downstairs\", \"downstairs\", \"downstairs\", \"dr\", \"dr\", \"dr\", \"dr\", \"dr\", \"drawing\", \"drawing\", \"drawing\", \"drawing\", \"drawing\", \"drawing\", \"drawing\", \"drawing\", \"drawing\", \"drawing\", \"drawing\", \"drawing\", \"dreary\", \"dreary\", \"dreary\", \"dress\", \"dress\", \"dress\", \"dress\", \"dress\", \"dress\", \"dress\", \"dress\", \"dress\", \"dress\", \"dress\", \"dress\", \"dressed\", \"dressed\", \"dressed\", \"dressed\", \"dressed\", \"dressed\", \"dressed\", \"dressed\", \"dressed\", \"dressed\", \"dressed\", \"dwell\", \"dwell\", \"dwell\", \"dwell\", \"dwell\", \"dwell\", \"dwell\", \"dwell\", \"dwell\", \"dwell\", \"edward\", \"edward\", \"edward\", \"edward\", \"edward\", \"edward\", \"edward\", \"elder\", \"elder\", \"elder\", \"elder\", \"elder\", \"elder\", \"elder\", \"elder\", \"elinor\", \"elinor\", \"elinor\", \"elinor\", \"eliza\", \"eliza\", \"eliza\", \"elizabeth\", \"elizabeth\", \"elizabeth\", \"elizabeth\", \"elizabeth\", \"elizabeth\", \"elizabeth\", \"elizabeth\", \"elton\", \"elton\", \"elton\", \"emanuel\", \"emanuel\", \"emanuel\", \"emanuel\", \"emma\", \"emma\", \"emma\", \"emma\", \"endured\", \"endured\", \"endured\", \"endured\", \"endured\", \"endured\", \"engagement\", \"engagement\", \"engagement\", \"engagement\", \"engagement\", \"engagement\", \"england\", \"england\", \"england\", \"england\", \"england\", \"england\", \"england\", \"england\", \"england\", \"england\", \"england\", \"england\", \"english\", \"english\", \"english\", \"english\", \"english\", \"english\", \"english\", \"enscombe\", \"enscombe\", \"entertain\", \"entertain\", \"entertain\", \"entertain\", \"entertain\", \"equally\", \"equally\", \"equally\", \"equally\", \"equally\", \"equally\", \"equally\", \"equally\", \"equally\", \"equally\", \"equally\", \"est\", \"est\", \"est\", \"est\", \"estrade\", \"estrade\", \"et\", \"et\", \"et\", \"et\", \"et\", \"everybody\", \"everybody\", \"everybody\", \"everybody\", \"everybody\", \"everybody\", \"everybody\", \"everybody\", \"evils\", \"evils\", \"evils\", \"evils\", \"evils\", \"evils\", \"exact\", \"exact\", \"exact\", \"exact\", \"exact\", \"exact\", \"exact\", \"exact\", \"examined\", \"examined\", \"examined\", \"examined\", \"examined\", \"examined\", \"examined\", \"examined\", \"examined\", \"examined\", \"excessively\", \"excessively\", \"excessively\", \"excessively\", \"excessively\", \"excessively\", \"excessively\", \"excessively\", \"extremely\", \"extremely\", \"extremely\", \"extremely\", \"extremely\", \"extremely\", \"extremely\", \"extremely\", \"eye\", \"eye\", \"eye\", \"eye\", \"eye\", \"eye\", \"eye\", \"eye\", \"eye\", \"eye\", \"eye\", \"eye\", \"eye\", \"eyes\", \"eyes\", \"eyes\", \"eyes\", \"eyes\", \"eyes\", \"eyes\", \"eyes\", \"eyes\", \"eyes\", \"eyes\", \"eyes\", \"eyes\", \"eyes\", \"eyre\", \"eyre\", \"eyre\", \"eyre\", \"eyre\", \"eyre\", \"face\", \"face\", \"face\", \"face\", \"face\", \"face\", \"face\", \"face\", \"face\", \"face\", \"face\", \"face\", \"face\", \"fairfax\", \"fairfax\", \"fairfax\", \"fairfax\", \"fairfax\", \"fairfax\", \"fairfax\", \"fairfax\", \"falsehood\", \"falsehood\", \"falsehood\", \"falsehood\", \"falsehood\", \"falsehood\", \"family\", \"family\", \"family\", \"family\", \"family\", \"family\", \"family\", \"family\", \"family\", \"family\", \"family\", \"family\", \"fancied\", \"fancied\", \"fancied\", \"fancied\", \"fancied\", \"fancied\", \"fancied\", \"fancied\", \"fancied\", \"fancied\", \"fanny\", \"fanny\", \"fanshawe\", \"fanshawe\", \"fanshawe\", \"farm\", \"farm\", \"farm\", \"farm\", \"farm\", \"farm\", \"farm\", \"fastened\", \"fastened\", \"fastened\", \"fastened\", \"father\", \"father\", \"father\", \"father\", \"father\", \"father\", \"father\", \"father\", \"father\", \"father\", \"father\", \"father\", \"fed\", \"fed\", \"fed\", \"fed\", \"fed\", \"fed\", \"felt\", \"felt\", \"felt\", \"felt\", \"felt\", \"felt\", \"felt\", \"felt\", \"felt\", \"felt\", \"felt\", \"felt\", \"felt\", \"felt\", \"ferrars\", \"ferrars\", \"fete\", \"fete\", \"fete\", \"field\", \"field\", \"field\", \"field\", \"field\", \"field\", \"field\", \"field\", \"fields\", \"fields\", \"fields\", \"fields\", \"fields\", \"fine\", \"fine\", \"fine\", \"fine\", \"fine\", \"fine\", \"fine\", \"fine\", \"fine\", \"fine\", \"fine\", \"fine\", \"fingers\", \"fingers\", \"fingers\", \"fingers\", \"fingers\", \"fingers\", \"fingers\", \"folded\", \"folded\", \"folded\", \"folded\", \"folded\", \"folded\", \"folded\", \"folded\", \"folded\", \"fond\", \"fond\", \"fond\", \"fond\", \"fond\", \"fond\", \"fond\", \"fond\", \"fond\", \"fond\", \"fond\", \"foreign\", \"foreign\", \"foreign\", \"foreign\", \"foreign\", \"forget\", \"forget\", \"forget\", \"forget\", \"forget\", \"forget\", \"forget\", \"forget\", \"forget\", \"forster\", \"fortitude\", \"fortitude\", \"fortitude\", \"fortitude\", \"forwards\", \"forwards\", \"forwards\", \"forwards\", \"forwards\", \"forwards\", \"forwards\", \"fossette\", \"fossette\", \"fossette\", \"fourth\", \"fourth\", \"fourth\", \"fourth\", \"fourth\", \"frances\", \"frances\", \"frances\", \"frances\", \"frank\", \"frank\", \"frank\", \"frank\", \"frank\", \"frank\", \"frank\", \"freedom\", \"freedom\", \"freedom\", \"freedom\", \"freedom\", \"freedom\", \"freedom\", \"freedom\", \"french\", \"french\", \"french\", \"french\", \"french\", \"french\", \"french\", \"french\", \"fresh\", \"fresh\", \"fresh\", \"fresh\", \"fresh\", \"fresh\", \"fresh\", \"fresh\", \"fresh\", \"fresh\", \"fresh\", \"friend\", \"friend\", \"friend\", \"friend\", \"friend\", \"friend\", \"friend\", \"friend\", \"friend\", \"friend\", \"friend\", \"friend\", \"gallant\", \"gallant\", \"gallant\", \"gallant\", \"gallant\", \"gallant\", \"gallery\", \"gallery\", \"gallery\", \"gallery\", \"gallery\", \"gardiner\", \"gardiner\", \"gateshead\", \"gateshead\", \"gather\", \"gather\", \"gather\", \"gather\", \"gather\", \"gather\", \"gentlemanlike\", \"gentlemanlike\", \"gentlemanlike\", \"gentlemanlike\", \"gentlemanlike\", \"gentlemen\", \"gentlemen\", \"gentlemen\", \"gentlemen\", \"gentlemen\", \"gentlemen\", \"gentlemen\", \"gentlemen\", \"gentlemen\", \"gentlemen\", \"gentlemen\", \"george\", \"george\", \"george\", \"george\", \"george\", \"george\", \"georgiana\", \"georgiana\", \"georgiana\", \"georgiana\", \"georgiana\", \"german\", \"german\", \"german\", \"german\", \"ginevra\", \"ginevra\", \"ginevra\", \"girl\", \"girl\", \"girl\", \"girl\", \"girl\", \"girl\", \"girl\", \"girl\", \"girl\", \"girl\", \"girl\", \"girl\", \"girl\", \"girl\", \"gloom\", \"gloom\", \"gloom\", \"gloom\", \"gloom\", \"gloom\", \"gloomy\", \"gloomy\", \"gloomy\", \"gloomy\", \"gloomy\", \"gloomy\", \"gloomy\", \"glorious\", \"glorious\", \"glorious\", \"god\", \"god\", \"god\", \"god\", \"god\", \"god\", \"god\", \"god\", \"god\", \"god\", \"goddard\", \"goddard\", \"goddard\", \"going\", \"going\", \"going\", \"going\", \"going\", \"going\", \"going\", \"going\", \"going\", \"going\", \"going\", \"going\", \"going\", \"good\", \"good\", \"good\", \"good\", \"good\", \"good\", \"good\", \"good\", \"good\", \"good\", \"good\", \"good\", \"good\", \"good\", \"got\", \"got\", \"got\", \"got\", \"got\", \"got\", \"got\", \"got\", \"got\", \"got\", \"got\", \"got\", \"got\", \"governess\", \"governess\", \"governess\", \"governess\", \"governess\", \"governess\", \"governess\", \"governess\", \"graham\", \"graham\", \"graham\", \"graham\", \"graham\", \"great\", \"great\", \"great\", \"great\", \"great\", \"great\", \"great\", \"great\", \"great\", \"great\", \"great\", \"great\", \"great\", \"great\", \"grounds\", \"grounds\", \"grounds\", \"grounds\", \"grounds\", \"grounds\", \"grounds\", \"grounds\", \"grounds\", \"grounds\", \"grounds\", \"grounds\", \"grove\", \"grove\", \"grove\", \"grove\", \"grove\", \"grove\", \"guests\", \"guests\", \"guests\", \"guests\", \"guests\", \"guests\", \"guests\", \"guests\", \"guests\", \"guide\", \"guide\", \"guide\", \"guide\", \"guide\", \"guide\", \"guide\", \"hair\", \"hair\", \"hair\", \"hair\", \"hair\", \"hair\", \"hair\", \"hair\", \"hair\", \"hair\", \"hair\", \"half\", \"half\", \"half\", \"half\", \"half\", \"half\", \"half\", \"half\", \"half\", \"half\", \"half\", \"half\", \"hall\", \"hall\", \"hall\", \"hall\", \"hall\", \"hall\", \"hall\", \"hall\", \"hall\", \"hall\", \"hall\", \"hand\", \"hand\", \"hand\", \"hand\", \"hand\", \"hand\", \"hand\", \"hand\", \"hand\", \"hand\", \"hand\", \"hand\", \"hand\", \"hand\", \"handkerchief\", \"handkerchief\", \"handkerchief\", \"handkerchief\", \"handkerchief\", \"handkerchief\", \"harriet\", \"harriet\", \"harriet\", \"harriet\", \"harriet\", \"harriet\", \"hartfield\", \"hartfield\", \"hartfield\", \"haste\", \"haste\", \"haste\", \"haste\", \"haste\", \"haste\", \"haste\", \"haste\", \"head\", \"head\", \"head\", \"head\", \"head\", \"head\", \"head\", \"head\", \"head\", \"head\", \"head\", \"head\", \"head\", \"hear\", \"hear\", \"hear\", \"hear\", \"hear\", \"hear\", \"hear\", \"hear\", \"hear\", \"hear\", \"hear\", \"hear\", \"hear\", \"heard\", \"heard\", \"heard\", \"heard\", \"heard\", \"heard\", \"heard\", \"heard\", \"heard\", \"heard\", \"heard\", \"heard\", \"heard\", \"heard\", \"heart\", \"heart\", \"heart\", \"heart\", \"heart\", \"heart\", \"heart\", \"heart\", \"heart\", \"heart\", \"heart\", \"heart\", \"heart\", \"heat\", \"heat\", \"heat\", \"heat\", \"heat\", \"helped\", \"helped\", \"helped\", \"helped\", \"helped\", \"helped\", \"henri\", \"henri\", \"henry\", \"henry\", \"henry\", \"hertfordshire\", \"highbury\", \"highbury\", \"highbury\", \"holding\", \"holding\", \"holding\", \"holding\", \"holding\", \"holding\", \"holding\", \"holding\", \"holding\", \"homage\", \"homage\", \"home\", \"home\", \"home\", \"home\", \"home\", \"home\", \"home\", \"home\", \"home\", \"home\", \"home\", \"home\", \"hope\", \"hope\", \"hope\", \"hope\", \"hope\", \"hope\", \"hope\", \"hope\", \"hope\", \"hope\", \"hope\", \"hope\", \"horror\", \"horror\", \"horror\", \"horror\", \"horror\", \"horror\", \"horror\", \"horror\", \"horror\", \"horses\", \"horses\", \"horses\", \"horses\", \"horses\", \"horses\", \"horses\", \"horses\", \"hour\", \"hour\", \"hour\", \"hour\", \"hour\", \"hour\", \"hour\", \"hour\", \"hour\", \"hour\", \"hour\", \"hour\", \"hour\", \"hours\", \"hours\", \"hours\", \"hours\", \"hours\", \"hours\", \"hours\", \"hours\", \"hours\", \"hours\", \"hours\", \"hours\", \"house\", \"house\", \"house\", \"house\", \"house\", \"house\", \"house\", \"house\", \"house\", \"house\", \"house\", \"house\", \"house\", \"household\", \"household\", \"household\", \"household\", \"household\", \"hunsden\", \"hunsden\", \"hurst\", \"hurst\", \"hurst\", \"hurst\", \"hurst\", \"ice\", \"ice\", \"ice\", \"ice\", \"ice\", \"ice\", \"il\", \"il\", \"il\", \"imagine\", \"imagine\", \"imagine\", \"imagine\", \"imagine\", \"imagine\", \"imagine\", \"imagine\", \"imagine\", \"imagine\", \"immediately\", \"immediately\", \"immediately\", \"immediately\", \"immediately\", \"immediately\", \"immediately\", \"immediately\", \"immediately\", \"immediately\", \"immediately\", \"informed\", \"informed\", \"informed\", \"informed\", \"informed\", \"informed\", \"informed\", \"ingram\", \"ingram\", \"ingram\", \"ingram\", \"ingram\", \"instinct\", \"instinct\", \"instinct\", \"instinct\", \"instinct\", \"instrument\", \"instrument\", \"instrument\", \"instrument\", \"instrument\", \"instrument\", \"instrument\", \"intelligible\", \"intelligible\", \"intelligible\", \"intelligible\", \"intelligible\", \"intelligible\", \"intelligible\", \"intent\", \"intent\", \"intent\", \"intent\", \"intent\", \"intent\", \"intent\", \"intimacy\", \"intimacy\", \"intimacy\", \"intimacy\", \"intimacy\", \"intimacy\", \"intimacy\", \"introduction\", \"introduction\", \"introduction\", \"introduction\", \"introduction\", \"introduction\", \"introduction\", \"involuntary\", \"involuntary\", \"involuntary\", \"involuntary\", \"involuntary\", \"involuntary\", \"irritated\", \"irritated\", \"irritated\", \"irritated\", \"isabella\", \"isabella\", \"isabella\", \"james\", \"james\", \"james\", \"jane\", \"jane\", \"jane\", \"jane\", \"jane\", \"jane\", \"jane\", \"jane\", \"jane\", \"jane\", \"jane\", \"jane\", \"jane\", \"january\", \"january\", \"january\", \"january\", \"january\", \"january\", \"january\", \"january\", \"january\", \"je\", \"je\", \"je\", \"je\", \"jennings\", \"jennings\", \"jennings\", \"john\", \"john\", \"john\", \"john\", \"john\", \"john\", \"john\", \"john\", \"john\", \"john\", \"john\", \"john\", \"john\", \"king\", \"king\", \"king\", \"king\", \"king\", \"king\", \"kitty\", \"kitty\", \"kitty\", \"knew\", \"knew\", \"knew\", \"knew\", \"knew\", \"knew\", \"knew\", \"knew\", \"knew\", \"knew\", \"knew\", \"knew\", \"knightley\", \"knightley\", \"knightley\", \"know\", \"know\", \"know\", \"know\", \"know\", \"know\", \"know\", \"know\", \"know\", \"know\", \"know\", \"know\", \"know\", \"know\", \"la\", \"la\", \"la\", \"la\", \"la\", \"la\", \"la\", \"la\", \"la\", \"ladies\", \"ladies\", \"ladies\", \"ladies\", \"ladies\", \"ladies\", \"ladies\", \"ladies\", \"ladies\", \"ladies\", \"ladies\", \"ladies\", \"lady\", \"lady\", \"lady\", \"lady\", \"lady\", \"lady\", \"lady\", \"lady\", \"lady\", \"lady\", \"lady\", \"lady\", \"ladyship\", \"ladyship\", \"ladyship\", \"ladyship\", \"ladyship\", \"ladyship\", \"lay\", \"lay\", \"lay\", \"lay\", \"lay\", \"lay\", \"lay\", \"lay\", \"lay\", \"lay\", \"lay\", \"led\", \"led\", \"led\", \"led\", \"led\", \"led\", \"led\", \"led\", \"led\", \"led\", \"left\", \"left\", \"left\", \"left\", \"left\", \"left\", \"left\", \"left\", \"left\", \"left\", \"left\", \"left\", \"left\", \"les\", \"les\", \"les\", \"lesson\", \"lesson\", \"lesson\", \"lesson\", \"lesson\", \"lesson\", \"lesson\", \"lessons\", \"lessons\", \"lessons\", \"lessons\", \"lessons\", \"let\", \"let\", \"let\", \"let\", \"let\", \"let\", \"let\", \"let\", \"let\", \"let\", \"let\", \"let\", \"let\", \"let\", \"letter\", \"letter\", \"letter\", \"letter\", \"letter\", \"letter\", \"letter\", \"letter\", \"letter\", \"letter\", \"letter\", \"letter\", \"letter\", \"liable\", \"liable\", \"liable\", \"liable\", \"liable\", \"liable\", \"life\", \"life\", \"life\", \"life\", \"life\", \"life\", \"life\", \"life\", \"life\", \"life\", \"life\", \"life\", \"like\", \"like\", \"like\", \"like\", \"like\", \"like\", \"like\", \"like\", \"like\", \"like\", \"like\", \"like\", \"like\", \"like\", \"likeness\", \"likeness\", \"likeness\", \"likeness\", \"likeness\", \"likeness\", \"likeness\", \"likes\", \"likes\", \"likes\", \"likes\", \"likes\", \"likes\", \"likes\", \"likes\", \"limbs\", \"limbs\", \"limbs\", \"limbs\", \"limbs\", \"limited\", \"limited\", \"limited\", \"limited\", \"little\", \"little\", \"little\", \"little\", \"little\", \"little\", \"little\", \"little\", \"little\", \"little\", \"little\", \"little\", \"little\", \"little\", \"lizzy\", \"lizzy\", \"lizzy\", \"lizzy\", \"ll\", \"ll\", \"ll\", \"ll\", \"ll\", \"ll\", \"ll\", \"lodgings\", \"lodgings\", \"lodgings\", \"lodgings\", \"lodgings\", \"lonely\", \"lonely\", \"lonely\", \"lonely\", \"lonely\", \"long\", \"long\", \"long\", \"long\", \"long\", \"long\", \"long\", \"long\", \"long\", \"long\", \"long\", \"long\", \"long\", \"long\", \"longbourn\", \"longbourn\", \"look\", \"look\", \"look\", \"look\", \"look\", \"look\", \"look\", \"look\", \"look\", \"look\", \"look\", \"look\", \"look\", \"looked\", \"looked\", \"looked\", \"looked\", \"looked\", \"looked\", \"looked\", \"looked\", \"looked\", \"looked\", \"looked\", \"looked\", \"looked\", \"looking\", \"looking\", \"looking\", \"looking\", \"looking\", \"looking\", \"looking\", \"looking\", \"looking\", \"looking\", \"looking\", \"looking\", \"looking\", \"love\", \"love\", \"love\", \"love\", \"love\", \"love\", \"love\", \"love\", \"love\", \"love\", \"love\", \"love\", \"love\", \"lowood\", \"lowood\", \"lowood\", \"lowood\", \"lowood\", \"lucas\", \"lucas\", \"lucky\", \"lucky\", \"lucky\", \"lucky\", \"lucky\", \"lucky\", \"lucky\", \"lucy\", \"lucy\", \"lucy\", \"lucy\", \"lucy\", \"lucy\", \"lucy\", \"lydia\", \"lydia\", \"lydia\", \"lydia\", \"ma\", \"ma\", \"ma\", \"ma\", \"ma\", \"ma\", \"ma\", \"ma\", \"ma\", \"ma\", \"ma\", \"madam\", \"madam\", \"madam\", \"madam\", \"madam\", \"madam\", \"madam\", \"madam\", \"madam\", \"madam\", \"madame\", \"madame\", \"madame\", \"madame\", \"madame\", \"madame\", \"mademoiselle\", \"mademoiselle\", \"mademoiselle\", \"mademoiselle\", \"mademoiselle\", \"mais\", \"mais\", \"making\", \"making\", \"making\", \"making\", \"making\", \"making\", \"making\", \"making\", \"making\", \"making\", \"making\", \"making\", \"mama\", \"mama\", \"mama\", \"mama\", \"mama\", \"mama\", \"man\", \"man\", \"man\", \"man\", \"man\", \"man\", \"man\", \"man\", \"man\", \"man\", \"man\", \"man\", \"man\", \"man\", \"mantelpiece\", \"mantelpiece\", \"mantelpiece\", \"mantelpiece\", \"mantelpiece\", \"mantelpiece\", \"mantelpiece\", \"mantelpiece\", \"mantelpiece\", \"marianne\", \"marianne\", \"marianne\", \"marianne\", \"martin\", \"martin\", \"martin\", \"master\", \"master\", \"master\", \"master\", \"master\", \"master\", \"master\", \"master\", \"master\", \"master\", \"master\", \"master\", \"matter\", \"matter\", \"matter\", \"matter\", \"matter\", \"matter\", \"matter\", \"matter\", \"matter\", \"matter\", \"matter\", \"matter\", \"matter\", \"mdlle\", \"mdlle\", \"mdlle\", \"mean\", \"mean\", \"mean\", \"mean\", \"mean\", \"mean\", \"mean\", \"mean\", \"mean\", \"mean\", \"mean\", \"mean\", \"mean\", \"meeting\", \"meeting\", \"meeting\", \"meeting\", \"meeting\", \"meeting\", \"meeting\", \"meeting\", \"meeting\", \"meeting\", \"meeting\", \"meeting\", \"meryton\", \"meryton\", \"middleton\", \"middleton\", \"millcote\", \"millcote\", \"millcote\", \"mind\", \"mind\", \"mind\", \"mind\", \"mind\", \"mind\", \"mind\", \"mind\", \"mind\", \"mind\", \"mind\", \"mind\", \"mind\", \"mind\", \"miserable\", \"miserable\", \"miserable\", \"miserable\", \"miserable\", \"miserable\", \"miserable\", \"miserable\", \"miserable\", \"miserable\", \"misery\", \"misery\", \"misery\", \"misery\", \"misery\", \"misery\", \"misery\", \"misery\", \"miss\", \"miss\", \"miss\", \"miss\", \"miss\", \"miss\", \"miss\", \"miss\", \"miss\", \"miss\", \"miss\", \"miss\", \"miss\", \"mixture\", \"mixture\", \"mixture\", \"mixture\", \"mixture\", \"mixture\", \"moi\", \"moi\", \"moi\", \"monsieur\", \"monsieur\", \"monsieur\", \"monsieur\", \"monsieur\", \"moon\", \"moon\", \"moon\", \"moon\", \"moon\", \"moon\", \"moor\", \"moor\", \"mother\", \"mother\", \"mother\", \"mother\", \"mother\", \"mother\", \"mother\", \"mother\", \"mother\", \"mother\", \"mother\", \"mother\", \"mother\", \"motives\", \"motives\", \"motives\", \"motives\", \"motives\", \"motives\", \"motives\", \"mouth\", \"mouth\", \"mouth\", \"mouth\", \"mouth\", \"mouth\", \"mouth\", \"mouth\", \"mouth\", \"nature\", \"nature\", \"nature\", \"nature\", \"nature\", \"nature\", \"nature\", \"nature\", \"nature\", \"nature\", \"nature\", \"nature\", \"ne\", \"ne\", \"ne\", \"near\", \"near\", \"near\", \"near\", \"near\", \"near\", \"near\", \"near\", \"near\", \"near\", \"near\", \"near\", \"near\", \"nephew\", \"nephew\", \"nephew\", \"nephew\", \"nerves\", \"nerves\", \"nerves\", \"nerves\", \"nerves\", \"nerves\", \"nerves\", \"netherfield\", \"netherfield\", \"news\", \"news\", \"news\", \"news\", \"news\", \"news\", \"news\", \"news\", \"news\", \"news\", \"news\", \"news\", \"nice\", \"nice\", \"nice\", \"nice\", \"nice\", \"nice\", \"nice\", \"nice\", \"nice\", \"niece\", \"niece\", \"niece\", \"niece\", \"niece\", \"niece\", \"night\", \"night\", \"night\", \"night\", \"night\", \"night\", \"night\", \"night\", \"night\", \"night\", \"night\", \"night\", \"night\", \"norland\", \"nun\", \"nun\", \"nun\", \"nurse\", \"nurse\", \"nurse\", \"nurse\", \"nurse\", \"nurse\", \"nurse\", \"nursery\", \"nursery\", \"nursery\", \"nursery\", \"nursery\", \"nursery\", \"nursery\", \"objections\", \"objections\", \"objections\", \"objections\", \"objections\", \"obliging\", \"obliging\", \"obliging\", \"obliging\", \"obliging\", \"obliging\", \"obliging\", \"observing\", \"observing\", \"observing\", \"observing\", \"observing\", \"observing\", \"observing\", \"occasional\", \"occasional\", \"occasional\", \"occasional\", \"occasional\", \"occasional\", \"offence\", \"offence\", \"offence\", \"officers\", \"officers\", \"officers\", \"oh\", \"oh\", \"oh\", \"oh\", \"oh\", \"oh\", \"oh\", \"oh\", \"oh\", \"oh\", \"oh\", \"oh\", \"oh\", \"old\", \"old\", \"old\", \"old\", \"old\", \"old\", \"old\", \"old\", \"old\", \"old\", \"old\", \"old\", \"opposition\", \"opposition\", \"opposition\", \"opposition\", \"opposition\", \"oppressed\", \"oppressed\", \"oppressed\", \"oppressed\", \"oppressed\", \"oppressed\", \"oppressed\", \"origin\", \"origin\", \"origin\", \"origin\", \"origin\", \"origin\", \"owing\", \"owing\", \"owing\", \"owing\", \"owing\", \"owing\", \"painful\", \"painful\", \"painful\", \"painful\", \"painful\", \"painful\", \"painful\", \"painful\", \"painful\", \"painful\", \"painful\", \"painful\", \"palmer\", \"palmer\", \"palmer\", \"panes\", \"panes\", \"panes\", \"panes\", \"panes\", \"panes\", \"papa\", \"papa\", \"papa\", \"papa\", \"papa\", \"papa\", \"papa\", \"papa\", \"papa\", \"park\", \"park\", \"park\", \"park\", \"park\", \"park\", \"park\", \"park\", \"park\", \"party\", \"party\", \"party\", \"party\", \"party\", \"party\", \"party\", \"party\", \"party\", \"party\", \"party\", \"party\", \"pas\", \"pas\", \"passed\", \"passed\", \"passed\", \"passed\", \"passed\", \"passed\", \"passed\", \"passed\", \"passed\", \"passed\", \"passed\", \"passed\", \"passed\", \"passionate\", \"passionate\", \"passionate\", \"passionate\", \"paul\", \"paul\", \"paul\", \"paul\", \"paulina\", \"paulina\", \"paulina\", \"pelet\", \"pelet\", \"pelet\", \"pemberley\", \"pemberley\", \"pemberley\", \"pensionnat\", \"pensionnat\", \"pensionnat\", \"people\", \"people\", \"people\", \"people\", \"people\", \"people\", \"people\", \"people\", \"people\", \"people\", \"people\", \"people\", \"people\", \"pere\", \"pere\", \"perry\", \"perry\", \"perry\", \"petite\", \"petite\", \"petite\", \"piano\", \"piano\", \"piano\", \"piano\", \"piano\", \"piano\", \"pianoforte\", \"pianoforte\", \"pianoforte\", \"pianoforte\", \"pianoforte\", \"picture\", \"picture\", \"picture\", \"picture\", \"picture\", \"picture\", \"picture\", \"picture\", \"picture\", \"pink\", \"pink\", \"pink\", \"pink\", \"pink\", \"place\", \"place\", \"place\", \"place\", \"place\", \"place\", \"place\", \"place\", \"place\", \"place\", \"place\", \"place\", \"placing\", \"placing\", \"placing\", \"placing\", \"placing\", \"placing\", \"placing\", \"plain\", \"plain\", \"plain\", \"plain\", \"plain\", \"plain\", \"plain\", \"plain\", \"plain\", \"plain\", \"plain\", \"plain\", \"plate\", \"plate\", \"plate\", \"plate\", \"play\", \"play\", \"play\", \"play\", \"play\", \"play\", \"play\", \"play\", \"play\", \"play\", \"play\", \"played\", \"played\", \"played\", \"played\", \"played\", \"played\", \"played\", \"played\", \"polite\", \"polite\", \"polite\", \"polite\", \"polite\", \"polite\", \"polly\", \"polly\", \"polly\", \"poor\", \"poor\", \"poor\", \"poor\", \"poor\", \"poor\", \"poor\", \"poor\", \"poor\", \"poor\", \"poor\", \"poor\", \"poor\", \"position\", \"position\", \"position\", \"position\", \"position\", \"position\", \"position\", \"position\", \"position\", \"positively\", \"positively\", \"positively\", \"positively\", \"positively\", \"positively\", \"practical\", \"practical\", \"practical\", \"practical\", \"presence\", \"presence\", \"presence\", \"presence\", \"presence\", \"presence\", \"presence\", \"presence\", \"presence\", \"presence\", \"procured\", \"procured\", \"procured\", \"procured\", \"professor\", \"professor\", \"professor\", \"professor\", \"pupil\", \"pupil\", \"pupil\", \"pupil\", \"pupil\", \"pupil\", \"pupils\", \"pupils\", \"pupils\", \"pupils\", \"purchase\", \"purchase\", \"purchase\", \"purchase\", \"purchase\", \"purchase\", \"purchase\", \"purchase\", \"purchase\", \"qu\", \"qu\", \"qu\", \"quality\", \"quality\", \"quality\", \"quality\", \"quality\", \"que\", \"que\", \"que\", \"que\", \"quickly\", \"quickly\", \"quickly\", \"quickly\", \"quickly\", \"quickly\", \"quickly\", \"quickly\", \"quickly\", \"quickly\", \"quickly\", \"quitting\", \"quitting\", \"quitting\", \"quitting\", \"quitting\", \"quitting\", \"quitting\", \"quitting\", \"quitting\", \"rain\", \"rain\", \"rain\", \"rain\", \"rain\", \"rain\", \"rain\", \"rain\", \"rain\", \"rain\", \"rain\", \"randalls\", \"randalls\", \"rapid\", \"rapid\", \"rapid\", \"rapid\", \"rapid\", \"rapid\", \"rapid\", \"read\", \"read\", \"read\", \"read\", \"read\", \"read\", \"read\", \"read\", \"read\", \"read\", \"read\", \"read\", \"read\", \"readiness\", \"readiness\", \"readiness\", \"readiness\", \"readiness\", \"readiness\", \"readiness\", \"recommend\", \"recommend\", \"recommend\", \"recommend\", \"recommend\", \"recommend\", \"recommend\", \"recommend\", \"red\", \"red\", \"red\", \"red\", \"red\", \"red\", \"red\", \"red\", \"red\", \"reed\", \"reed\", \"reed\", \"reed\", \"reed\", \"regiment\", \"regiment\", \"regiment\", \"regiment\", \"relationship\", \"relationship\", \"relationship\", \"relationship\", \"relationship\", \"relationship\", \"remarkable\", \"remarkable\", \"remarkable\", \"remarkable\", \"remarkable\", \"remarkable\", \"remarkable\", \"remarkable\", \"replied\", \"replied\", \"replied\", \"replied\", \"replied\", \"replied\", \"replied\", \"replied\", \"replied\", \"replied\", \"replied\", \"replied\", \"return\", \"return\", \"return\", \"return\", \"return\", \"return\", \"return\", \"return\", \"return\", \"return\", \"return\", \"return\", \"reuter\", \"reuter\", \"ridiculous\", \"ridiculous\", \"ridiculous\", \"ridiculous\", \"ridiculous\", \"ridiculous\", \"ridiculous\", \"ridiculous\", \"ring\", \"ring\", \"ring\", \"ring\", \"ring\", \"ring\", \"ring\", \"ring\", \"risen\", \"risen\", \"risen\", \"risen\", \"risen\", \"risen\", \"rivers\", \"rivers\", \"rivers\", \"rivers\", \"rochester\", \"rochester\", \"rochester\", \"rochester\", \"rochester\", \"rochester\", \"room\", \"room\", \"room\", \"room\", \"room\", \"room\", \"room\", \"room\", \"room\", \"room\", \"room\", \"room\", \"room\", \"room\", \"rooms\", \"rooms\", \"rooms\", \"rooms\", \"rooms\", \"rooms\", \"rooms\", \"rooms\", \"rooms\", \"rooms\", \"rose\", \"rose\", \"rose\", \"rose\", \"rose\", \"rose\", \"rose\", \"rose\", \"rose\", \"rose\", \"rose\", \"rose\", \"rosings\", \"rosings\", \"round\", \"round\", \"round\", \"round\", \"round\", \"round\", \"round\", \"round\", \"round\", \"round\", \"round\", \"round\", \"rue\", \"rue\", \"rue\", \"running\", \"running\", \"running\", \"running\", \"running\", \"running\", \"running\", \"running\", \"running\", \"running\", \"running\", \"salle\", \"salle\", \"salle\", \"satin\", \"satin\", \"satin\", \"satin\", \"satin\", \"satin\", \"saturday\", \"saturday\", \"saturday\", \"saturday\", \"saturday\", \"saw\", \"saw\", \"saw\", \"saw\", \"saw\", \"saw\", \"saw\", \"saw\", \"saw\", \"saw\", \"saw\", \"saw\", \"says\", \"says\", \"says\", \"says\", \"says\", \"says\", \"says\", \"says\", \"says\", \"says\", \"says\", \"says\", \"scarce\", \"scarce\", \"scarce\", \"scarce\", \"scarce\", \"scarce\", \"scarce\", \"school\", \"school\", \"school\", \"school\", \"school\", \"school\", \"school\", \"school\", \"school\", \"school\", \"school\", \"schoolroom\", \"schoolroom\", \"schoolroom\", \"schoolroom\", \"schoolroom\", \"schoolroom\", \"schoolroom\", \"schoolroom\", \"sea\", \"sea\", \"sea\", \"sea\", \"sea\", \"sea\", \"sea\", \"sea\", \"sees\", \"sees\", \"sees\", \"sees\", \"sees\", \"sees\", \"sees\", \"send\", \"send\", \"send\", \"send\", \"send\", \"send\", \"send\", \"send\", \"send\", \"send\", \"send\", \"send\", \"servants\", \"servants\", \"servants\", \"servants\", \"servants\", \"servants\", \"servants\", \"servants\", \"servants\", \"servants\", \"servants\", \"servants\", \"shall\", \"shall\", \"shall\", \"shall\", \"shall\", \"shall\", \"shall\", \"shall\", \"shall\", \"shall\", \"shall\", \"shall\", \"shall\", \"shall\", \"sharp\", \"sharp\", \"sharp\", \"sharp\", \"sharp\", \"sharp\", \"sharp\", \"sharp\", \"shew\", \"shew\", \"shew\", \"shew\", \"shewed\", \"shewed\", \"shewed\", \"shewed\", \"shire\", \"shire\", \"shire\", \"shire\", \"shire\", \"shire\", \"shop\", \"shop\", \"shop\", \"shop\", \"shop\", \"shop\", \"shop\", \"shop\", \"sick\", \"sick\", \"sick\", \"sick\", \"sick\", \"sick\", \"sick\", \"sick\", \"sick\", \"sick\", \"sick\", \"sick\", \"signify\", \"signify\", \"signify\", \"signify\", \"signify\", \"signify\", \"signify\", \"signify\", \"signify\", \"silently\", \"silently\", \"silently\", \"silently\", \"silently\", \"silently\", \"silently\", \"silver\", \"silver\", \"silver\", \"silver\", \"silver\", \"sir\", \"sir\", \"sir\", \"sir\", \"sir\", \"sir\", \"sir\", \"sir\", \"sir\", \"sir\", \"sir\", \"sir\", \"sir\", \"sister\", \"sister\", \"sister\", \"sister\", \"sister\", \"sister\", \"sister\", \"sister\", \"sister\", \"sister\", \"sister\", \"sister\", \"skin\", \"skin\", \"skin\", \"skin\", \"skin\", \"skin\", \"skin\", \"sky\", \"sky\", \"sky\", \"sky\", \"sky\", \"sky\", \"sky\", \"smart\", \"smart\", \"smart\", \"smart\", \"smart\", \"smart\", \"smith\", \"smith\", \"smith\", \"smith\", \"smith\", \"smith\", \"smith\", \"social\", \"social\", \"social\", \"social\", \"social\", \"sofa\", \"sofa\", \"sofa\", \"sofa\", \"sofa\", \"sofa\", \"sofa\", \"solid\", \"solid\", \"solid\", \"solid\", \"solid\", \"solid\", \"soon\", \"soon\", \"soon\", \"soon\", \"soon\", \"soon\", \"soon\", \"soon\", \"soon\", \"soon\", \"soon\", \"soon\", \"soon\", \"sort\", \"sort\", \"sort\", \"sort\", \"sort\", \"sort\", \"sort\", \"sort\", \"sort\", \"sort\", \"sort\", \"sort\", \"sort\", \"sort\", \"south\", \"south\", \"south\", \"south\", \"south\", \"south\", \"south\", \"spirits\", \"spirits\", \"spirits\", \"spirits\", \"spirits\", \"spirits\", \"spirits\", \"spirits\", \"spirits\", \"spirits\", \"spirits\", \"spirits\", \"st\", \"st\", \"st\", \"st\", \"st\", \"st\", \"st\", \"st\", \"st\", \"staircase\", \"staircase\", \"staircase\", \"staircase\", \"staircase\", \"staircase\", \"staircase\", \"staircase\", \"standing\", \"standing\", \"standing\", \"standing\", \"standing\", \"standing\", \"standing\", \"standing\", \"standing\", \"standing\", \"standing\", \"standing\", \"startled\", \"startled\", \"startled\", \"startled\", \"startled\", \"startled\", \"stay\", \"stay\", \"stay\", \"stay\", \"stay\", \"stay\", \"stay\", \"stay\", \"stay\", \"stay\", \"stay\", \"stay\", \"steele\", \"stood\", \"stood\", \"stood\", \"stood\", \"stood\", \"stood\", \"stood\", \"stood\", \"stood\", \"stood\", \"stood\", \"stood\", \"stool\", \"stool\", \"stool\", \"stool\", \"stool\", \"stout\", \"stout\", \"stout\", \"stout\", \"stout\", \"stout\", \"stout\", \"stout\", \"strange\", \"strange\", \"strange\", \"strange\", \"strange\", \"strange\", \"strange\", \"strange\", \"strange\", \"strange\", \"strange\", \"struck\", \"struck\", \"struck\", \"struck\", \"struck\", \"struck\", \"struck\", \"struck\", \"struck\", \"struck\", \"struck\", \"struck\", \"struck\", \"struck\", \"stuff\", \"stuff\", \"stuff\", \"stuff\", \"stuff\", \"sudden\", \"sudden\", \"sudden\", \"sudden\", \"sudden\", \"sudden\", \"sudden\", \"sudden\", \"sudden\", \"suffer\", \"suffer\", \"suffer\", \"suffer\", \"suffer\", \"suffer\", \"suffer\", \"suffer\", \"suffer\", \"suffer\", \"sullen\", \"sullen\", \"sullen\", \"sullen\", \"sun\", \"sun\", \"sun\", \"sun\", \"sun\", \"sun\", \"superior\", \"superior\", \"superior\", \"superior\", \"superior\", \"superior\", \"superior\", \"superior\", \"superior\", \"superior\", \"superior\", \"sure\", \"sure\", \"sure\", \"sure\", \"sure\", \"sure\", \"sure\", \"sure\", \"sure\", \"sure\", \"sure\", \"sure\", \"sure\", \"surprize\", \"surprize\", \"surprized\", \"surprized\", \"surprized\", \"suspended\", \"suspended\", \"suspended\", \"suspended\", \"suspended\", \"suspended\", \"table\", \"table\", \"table\", \"table\", \"table\", \"table\", \"table\", \"table\", \"table\", \"table\", \"table\", \"table\", \"tables\", \"tables\", \"tables\", \"tables\", \"tables\", \"tables\", \"tables\", \"tables\", \"tea\", \"tea\", \"tea\", \"tea\", \"tea\", \"tea\", \"tea\", \"tea\", \"tea\", \"teacher\", \"teacher\", \"teacher\", \"teacher\", \"teacher\", \"tells\", \"tells\", \"tells\", \"tells\", \"tells\", \"tells\", \"tells\", \"tells\", \"temper\", \"temper\", \"temper\", \"temper\", \"temper\", \"temper\", \"temper\", \"temper\", \"temper\", \"temple\", \"temple\", \"temple\", \"temple\", \"temple\", \"temple\", \"th\", \"th\", \"th\", \"th\", \"th\", \"th\", \"th\", \"th\", \"thing\", \"thing\", \"thing\", \"thing\", \"thing\", \"thing\", \"thing\", \"thing\", \"thing\", \"thing\", \"thing\", \"thing\", \"think\", \"think\", \"think\", \"think\", \"think\", \"think\", \"think\", \"think\", \"think\", \"think\", \"think\", \"think\", \"think\", \"thornfield\", \"thornfield\", \"thornfield\", \"thornfield\", \"thoroughly\", \"thoroughly\", \"thoroughly\", \"thoroughly\", \"thoroughly\", \"thoroughly\", \"thoroughly\", \"thoroughly\", \"thoroughly\", \"thoroughly\", \"thoroughly\", \"thought\", \"thought\", \"thought\", \"thought\", \"thought\", \"thought\", \"thought\", \"thought\", \"thought\", \"thought\", \"thought\", \"thought\", \"thought\", \"thought\", \"throat\", \"throat\", \"throat\", \"throat\", \"throat\", \"throat\", \"throat\", \"throat\", \"thrust\", \"thrust\", \"thrust\", \"thrust\", \"thrust\", \"thrust\", \"thrust\", \"till\", \"till\", \"till\", \"till\", \"till\", \"till\", \"till\", \"till\", \"till\", \"till\", \"till\", \"till\", \"time\", \"time\", \"time\", \"time\", \"time\", \"time\", \"time\", \"time\", \"time\", \"time\", \"time\", \"time\", \"time\", \"time\", \"took\", \"took\", \"took\", \"took\", \"took\", \"took\", \"took\", \"took\", \"took\", \"took\", \"took\", \"took\", \"town\", \"town\", \"town\", \"town\", \"town\", \"town\", \"town\", \"town\", \"town\", \"town\", \"town\", \"town\", \"track\", \"track\", \"track\", \"track\", \"track\", \"travel\", \"travel\", \"travel\", \"travel\", \"travel\", \"travel\", \"travel\", \"travel\", \"travel\", \"travel\", \"treated\", \"treated\", \"treated\", \"treated\", \"treated\", \"treated\", \"treated\", \"treated\", \"treated\", \"treated\", \"trees\", \"trees\", \"trees\", \"trees\", \"trees\", \"trees\", \"trees\", \"trees\", \"trees\", \"trifle\", \"trifle\", \"trifle\", \"trifle\", \"trifle\", \"trifle\", \"trifle\", \"trifle\", \"trifle\", \"trunk\", \"trunk\", \"trunk\", \"trunk\", \"trunk\", \"tuesday\", \"tuesday\", \"tuesday\", \"tuesday\", \"tuesday\", \"tuesday\", \"tuesday\", \"tuesday\", \"tuesday\", \"ugly\", \"ugly\", \"ugly\", \"ugly\", \"ugly\", \"ugly\", \"ugly\", \"uncle\", \"uncle\", \"uncle\", \"uncle\", \"uncle\", \"uncle\", \"uncle\", \"uncle\", \"uncle\", \"uncle\", \"uncle\", \"unfortunate\", \"unfortunate\", \"unfortunate\", \"unfortunate\", \"unfortunately\", \"unfortunately\", \"unfortunately\", \"unfortunately\", \"unfortunately\", \"unfortunately\", \"unfortunately\", \"vast\", \"vast\", \"vast\", \"vast\", \"vast\", \"vast\", \"ve\", \"ve\", \"ve\", \"ve\", \"ve\", \"ve\", \"ve\", \"vestibule\", \"vestibule\", \"vestibule\", \"vestibule\", \"vestibule\", \"violence\", \"violence\", \"violence\", \"violence\", \"violence\", \"violence\", \"violence\", \"violence\", \"visit\", \"visit\", \"visit\", \"visit\", \"visit\", \"visit\", \"visit\", \"visit\", \"visit\", \"visit\", \"visit\", \"visit\", \"visit\", \"visiting\", \"visiting\", \"visiting\", \"visiting\", \"visiting\", \"visiting\", \"visiting\", \"visiting\", \"visiting\", \"vivid\", \"vivid\", \"vivid\", \"void\", \"void\", \"void\", \"void\", \"void\", \"void\", \"void\", \"volume\", \"volume\", \"volume\", \"volume\", \"volume\", \"volume\", \"volume\", \"vous\", \"vous\", \"vous\", \"wall\", \"wall\", \"wall\", \"wall\", \"wanting\", \"wanting\", \"wanting\", \"wanting\", \"wanting\", \"wanting\", \"wanting\", \"wanting\", \"wanting\", \"wanting\", \"warmth\", \"warmth\", \"warmth\", \"warmth\", \"warmth\", \"warmth\", \"warmth\", \"warmth\", \"water\", \"water\", \"water\", \"water\", \"water\", \"water\", \"water\", \"water\", \"water\", \"water\", \"water\", \"weather\", \"weather\", \"weather\", \"weather\", \"weather\", \"weather\", \"weather\", \"weather\", \"weather\", \"weather\", \"weather\", \"weather\", \"went\", \"went\", \"went\", \"went\", \"went\", \"went\", \"went\", \"went\", \"went\", \"went\", \"went\", \"went\", \"went\", \"went\", \"west\", \"west\", \"west\", \"west\", \"weston\", \"weston\", \"weston\", \"weston\", \"wet\", \"wet\", \"wet\", \"wet\", \"wet\", \"wet\", \"wet\", \"wet\", \"wet\", \"wet\", \"white\", \"white\", \"white\", \"white\", \"white\", \"white\", \"white\", \"white\", \"white\", \"white\", \"wicked\", \"wicked\", \"wicked\", \"wicked\", \"wicked\", \"wickham\", \"wickham\", \"widow\", \"widow\", \"widow\", \"widow\", \"widow\", \"widow\", \"widow\", \"widow\", \"william\", \"william\", \"william\", \"william\", \"william\", \"william\", \"william\", \"william\", \"willoughby\", \"willoughby\", \"wind\", \"wind\", \"wind\", \"wind\", \"wind\", \"wind\", \"wind\", \"wish\", \"wish\", \"wish\", \"wish\", \"wish\", \"wish\", \"wish\", \"wish\", \"wish\", \"wish\", \"wish\", \"wish\", \"wish\", \"witnessed\", \"witnessed\", \"witnessed\", \"witnessed\", \"witnessed\", \"witnessed\", \"woman\", \"woman\", \"woman\", \"woman\", \"woman\", \"woman\", \"woman\", \"woman\", \"woman\", \"woman\", \"woman\", \"woman\", \"woman\", \"wood\", \"wood\", \"wood\", \"wood\", \"wood\", \"wood\", \"wood\", \"woodhouse\", \"woodhouse\", \"woodhouse\", \"worst\", \"worst\", \"worst\", \"worst\", \"worst\", \"worst\", \"worst\", \"worst\", \"worst\", \"worst\", \"worst\", \"yards\", \"yards\", \"yards\", \"yards\", \"yards\", \"yards\", \"yards\", \"yards\", \"yards\", \"year\", \"year\", \"year\", \"year\", \"year\", \"year\", \"year\", \"year\", \"year\", \"year\", \"year\", \"year\", \"years\", \"years\", \"years\", \"years\", \"years\", \"years\", \"years\", \"years\", \"years\", \"years\", \"years\", \"years\", \"years\", \"yellow\", \"yellow\", \"yellow\", \"yellow\", \"yes\", \"yes\", \"yes\", \"yes\", \"yes\", \"yes\", \"yes\", \"yes\", \"yes\", \"yes\", \"yes\", \"yes\", \"yes\", \"young\", \"young\", \"young\", \"young\", \"young\", \"young\", \"young\", \"young\", \"young\", \"young\", \"young\", \"young\", \"younger\", \"younger\", \"younger\", \"younger\", \"younger\", \"younger\", \"younger\", \"younger\", \"youngest\", \"youngest\", \"youngest\", \"youngest\", \"youngest\", \"youngest\", \"youngest\"]}, \"R\": 30, \"lambda.step\": 0.01, \"plot.opts\": {\"xlab\": \"PC1\", \"ylab\": \"PC2\"}, \"topic.order\": [10, 15, 12, 3, 1, 8, 11, 14, 5, 4, 6, 9, 7, 2, 13]};\n",
       "\n",
       "function LDAvis_load_lib(url, callback){\n",
       "  var s = document.createElement('script');\n",
       "  s.src = url;\n",
       "  s.async = true;\n",
       "  s.onreadystatechange = s.onload = callback;\n",
       "  s.onerror = function(){console.warn(\"failed to load library \" + url);};\n",
       "  document.getElementsByTagName(\"head\")[0].appendChild(s);\n",
       "}\n",
       "\n",
       "if(typeof(LDAvis) !== \"undefined\"){\n",
       "   // already loaded: just create the visualization\n",
       "   !function(LDAvis){\n",
       "       new LDAvis(\"#\" + \"ldavis_el377241121584988883352745308\", ldavis_el377241121584988883352745308_data);\n",
       "   }(LDAvis);\n",
       "}else if(typeof define === \"function\" && define.amd){\n",
       "   // require.js is available: use it to load d3/LDAvis\n",
       "   require.config({paths: {d3: \"https://cdnjs.cloudflare.com/ajax/libs/d3/3.5.5/d3.min\"}});\n",
       "   require([\"d3\"], function(d3){\n",
       "      window.d3 = d3;\n",
       "      LDAvis_load_lib(\"https://cdn.rawgit.com/bmabey/pyLDAvis/files/ldavis.v1.0.0.js\", function(){\n",
       "        new LDAvis(\"#\" + \"ldavis_el377241121584988883352745308\", ldavis_el377241121584988883352745308_data);\n",
       "      });\n",
       "    });\n",
       "}else{\n",
       "    // require.js not available: dynamically load d3 & LDAvis\n",
       "    LDAvis_load_lib(\"https://cdnjs.cloudflare.com/ajax/libs/d3/3.5.5/d3.min.js\", function(){\n",
       "         LDAvis_load_lib(\"https://cdn.rawgit.com/bmabey/pyLDAvis/files/ldavis.v1.0.0.js\", function(){\n",
       "                 new LDAvis(\"#\" + \"ldavis_el377241121584988883352745308\", ldavis_el377241121584988883352745308_data);\n",
       "            })\n",
       "         });\n",
       "}\n",
       "</script>"
      ],
      "text/plain": [
       "PreparedData(topic_coordinates=              x         y  topics  cluster       Freq\n",
       "topic                                                \n",
       "9      0.064486  0.028350       1        1  23.693871\n",
       "14     0.084863 -0.025542       2        1  16.645670\n",
       "11    -0.095917  0.015234       3        1  14.838421\n",
       "2     -0.079380  0.026090       4        1  13.486469\n",
       "0     -0.097761  0.030118       5        1  12.512311\n",
       "7      0.097679 -0.008523       6        1   5.084409\n",
       "10    -0.104458 -0.023021       7        1   4.916125\n",
       "13     0.057979 -0.046341       8        1   2.394367\n",
       "4      0.017139 -0.083435       9        1   2.147686\n",
       "3      0.084363 -0.119768      10        1   1.708400\n",
       "5     -0.118024  0.016862      11        1   1.206097\n",
       "8     -0.083707 -0.040676      12        1   0.975688\n",
       "6      0.039810  0.032011      13        1   0.214355\n",
       "1      0.108596  0.141724      14        1   0.146349\n",
       "12     0.024331  0.056917      15        1   0.029783, topic_info=     Category         Freq          Term        Total  loglift  logprob\n",
       "818   Default  1523.000000          miss  1523.000000  30.0000  30.0000\n",
       "143   Default  1727.000000        little  1727.000000  29.0000  29.0000\n",
       "628   Default   940.000000          jane   940.000000  28.0000  28.0000\n",
       "135   Default  1440.000000          know  1440.000000  27.0000  27.0000\n",
       "407   Default  1313.000000         think  1313.000000  26.0000  26.0000\n",
       "64    Default   840.000000          emma   840.000000  25.0000  25.0000\n",
       "1157  Default   650.000000     elizabeth   650.000000  24.0000  24.0000\n",
       "314   Default  1356.000000          good  1356.000000  23.0000  23.0000\n",
       "338   Default  1338.000000          like  1338.000000  22.0000  22.0000\n",
       "1765  Default   694.000000        elinor   694.000000  21.0000  21.0000\n",
       "1778  Default   574.000000      marianne   574.000000  20.0000  20.0000\n",
       "668   Default   376.000000     rochester   376.000000  19.0000  19.0000\n",
       "533   Default   935.000000         shall   935.000000  18.0000  18.0000\n",
       "408   Default  1327.000000          time  1327.000000  17.0000  17.0000\n",
       "196   Default   898.000000          room   898.000000  16.0000  16.0000\n",
       "1420  Default   297.000000       bingley   297.000000  15.0000  15.0000\n",
       "220   Default  1151.000000       thought  1151.000000  14.0000  14.0000\n",
       "145   Default   950.000000          long   950.000000  13.0000  13.0000\n",
       "452   Default   587.000000          dear   587.000000  12.0000  12.0000\n",
       "1433  Default   422.000000         darcy   422.000000  11.0000  11.0000\n",
       "340   Default   909.000000           man   909.000000  10.0000  10.0000\n",
       "219   Default   786.000000         thing   786.000000   9.0000   9.0000\n",
       "157   Default   673.000000        mother   673.000000   8.0000   8.0000\n",
       "865   Default   615.000000           sir   615.000000   7.0000   7.0000\n",
       "204   Default   593.000000        sister   593.000000   6.0000   6.0000\n",
       "102   Default   623.000000          hand   623.000000   5.0000   5.0000\n",
       "1139  Default   321.000000        bennet   321.000000   4.0000   4.0000\n",
       "209   Default   934.000000          soon   934.000000   3.0000   3.0000\n",
       "825   Default   313.000000        nature   313.000000   2.0000   2.0000\n",
       "426   Default   603.000000           yes   603.000000   1.0000   1.0000\n",
       "...       ...          ...           ...          ...      ...      ...\n",
       "814   Topic15     0.401673        making   201.450729   1.9013  -5.2656\n",
       "470   Topic15     0.090282        folded    45.372822   1.8993  -6.7583\n",
       "2139  Topic15     0.235623       anxious   122.895287   1.8621  -5.7990\n",
       "405   Topic15     0.184872        temper   118.071846   1.6596  -6.0416\n",
       "803   Topic15     0.078805      informed    52.925007   1.6093  -6.8943\n",
       "825   Topic15     0.444610        nature   313.435455   1.5608  -5.1640\n",
       "1111  Topic15     0.105364        suffer    77.417137   1.5195  -6.6038\n",
       "1006  Topic15     0.044169     accompany    32.689568   1.5122  -7.4732\n",
       "1653  Topic15     0.030268        origin    22.614065   1.5027  -7.8512\n",
       "1381  Topic15     0.027611    ridiculous    20.990719   1.4854  -7.9430\n",
       "91    Topic15     0.030005      forwards    22.956331   1.4790  -7.8599\n",
       "657   Topic15     0.174736      presence   140.100342   1.4322  -6.0980\n",
       "263   Topic15     0.359442       brother   289.437866   1.4279  -5.3767\n",
       "559   Topic15     0.025714         vivid    22.808405   1.3312  -8.0142\n",
       "733   Topic15     0.081698  bassompierre    73.795578   1.3130  -6.8582\n",
       "343   Topic15     0.116028       meeting   110.341217   1.2615  -6.5074\n",
       "1764  Topic15     0.285079        edward   322.451752   1.0881  -5.6085\n",
       "89    Topic15     0.113472          fond   115.954681   1.1896  -6.5297\n",
       "139   Topic15     0.115395           led   126.189842   1.1218  -6.5129\n",
       "690   Topic15     0.161730       spirits   230.281387   0.8579  -6.1753\n",
       "507   Topic15     0.243261           old   485.079895   0.5211  -5.7671\n",
       "407   Topic15     0.291846         think  1313.866089  -0.2933  -5.5850\n",
       "143   Topic15     0.323905        little  1727.934082  -0.4630  -5.4808\n",
       "78    Topic15     0.177205        family   388.676025   0.4258  -6.0839\n",
       "219   Topic15     0.208961         thing   786.577759  -0.1143  -5.9191\n",
       "209   Topic15     0.215792          soon   934.158752  -0.2541  -5.8869\n",
       "1863  Topic15     0.158914         years   319.002228   0.5144  -6.1929\n",
       "145   Topic15     0.166502          long   950.099670  -0.5303  -6.1462\n",
       "314   Topic15     0.167346          good  1356.410645  -0.8813  -6.1412\n",
       "818   Topic15     0.149455          miss  1523.927124  -1.1108  -6.2542\n",
       "\n",
       "[952 rows x 6 columns], token_table=      Topic      Freq          Term\n",
       "term                               \n",
       "0         3  0.676655         abbey\n",
       "0         7  0.322217         abbey\n",
       "895       1  0.366080      abruptly\n",
       "895       2  0.146432      abruptly\n",
       "895       3  0.109824      abruptly\n",
       "895       4  0.109824      abruptly\n",
       "895       5  0.036608      abruptly\n",
       "895       7  0.109824      abruptly\n",
       "895       8  0.036608      abruptly\n",
       "895       9  0.036608      abruptly\n",
       "895      10  0.073216      abruptly\n",
       "895      11  0.036608      abruptly\n",
       "1006      1  0.183545     accompany\n",
       "1006      2  0.305908     accompany\n",
       "1006      3  0.122363     accompany\n",
       "1006      4  0.122363     accompany\n",
       "1006      5  0.091772     accompany\n",
       "1006      6  0.030591     accompany\n",
       "1006     10  0.091772     accompany\n",
       "1006     12  0.061182     accompany\n",
       "3         1  0.267367  accomplished\n",
       "3         2  0.044561  accomplished\n",
       "3         3  0.200525  accomplished\n",
       "3         4  0.044561  accomplished\n",
       "3         5  0.089122  accomplished\n",
       "3         6  0.044561  accomplished\n",
       "3         7  0.044561  accomplished\n",
       "3         8  0.022281  accomplished\n",
       "3         9  0.044561  accomplished\n",
       "3        10  0.044561  accomplished\n",
       "...     ...       ...           ...\n",
       "426      11  0.018222           yes\n",
       "426      12  0.024849           yes\n",
       "426      14  0.001657           yes\n",
       "427       1  0.223352         young\n",
       "427       2  0.046469         young\n",
       "427       3  0.268322         young\n",
       "427       4  0.137909         young\n",
       "427       5  0.169388         young\n",
       "427       6  0.040473         young\n",
       "427       7  0.049467         young\n",
       "427       8  0.005996         young\n",
       "427       9  0.032978         young\n",
       "427      10  0.004497         young\n",
       "427      11  0.007495         young\n",
       "427      12  0.013491         young\n",
       "1864      1  0.070190       younger\n",
       "1864      3  0.035095       younger\n",
       "1864      4  0.105284       younger\n",
       "1864      5  0.543969       younger\n",
       "1864      6  0.070190       younger\n",
       "1864      7  0.017547       younger\n",
       "1864      8  0.017547       younger\n",
       "1864      9  0.122832       younger\n",
       "2211      1  0.105756      youngest\n",
       "2211      2  0.035252      youngest\n",
       "2211      3  0.141007      youngest\n",
       "2211      4  0.141007      youngest\n",
       "2211      5  0.352518      youngest\n",
       "2211      6  0.070504      youngest\n",
       "2211     11  0.070504      youngest\n",
       "\n",
       "[4451 rows x 3 columns], R=30, lambda_step=0.01, plot_opts={'xlab': 'PC1', 'ylab': 'PC2'}, topic_order=[10, 15, 12, 3, 1, 8, 11, 14, 5, 4, 6, 9, 7, 2, 13])"
      ]
     },
     "execution_count": 49,
     "metadata": {},
     "output_type": "execute_result"
    }
   ],
   "source": [
    "pyLDAvis.gensim.prepare(lda, corpus, id2word)"
   ]
  },
  {
   "cell_type": "markdown",
   "metadata": {},
   "source": [
    "### Overall Model / Documents"
   ]
  },
  {
   "cell_type": "code",
   "execution_count": 50,
   "metadata": {},
   "outputs": [
    {
     "data": {
      "text/plain": [
       "[(2, 0.123048306), (9, 0.024056682), (10, 0.39177036), (11, 0.45878816)]"
      ]
     },
     "execution_count": 50,
     "metadata": {},
     "output_type": "execute_result"
    }
   ],
   "source": [
    "lda[corpus[0]]"
   ]
  },
  {
   "cell_type": "code",
   "execution_count": 51,
   "metadata": {},
   "outputs": [],
   "source": [
    "distro = [lda[d] for d in corpus]"
   ]
  },
  {
   "cell_type": "code",
   "execution_count": 52,
   "metadata": {},
   "outputs": [
    {
     "data": {
      "text/plain": [
       "[(2, 0.12359037), (9, 0.02305902), (10, 0.3919671), (11, 0.459047)]"
      ]
     },
     "execution_count": 52,
     "metadata": {},
     "output_type": "execute_result"
    }
   ],
   "source": [
    "distro[0]"
   ]
  },
  {
   "cell_type": "code",
   "execution_count": 53,
   "metadata": {},
   "outputs": [],
   "source": [
    "distro = [lda[d] for d in corpus]\n",
    "\n",
    "def update(doc):\n",
    "        d_dist = {k:0 for k in range(0,15)}\n",
    "        for t in doc:\n",
    "            d_dist[t[0]] = t[1]\n",
    "        return d_dist\n",
    "    \n",
    "new_distro = [update(d) for d in distro]"
   ]
  },
  {
   "cell_type": "code",
   "execution_count": null,
   "metadata": {},
   "outputs": [],
   "source": []
  },
  {
   "cell_type": "code",
   "execution_count": 70,
   "metadata": {},
   "outputs": [
    {
     "data": {
      "text/html": [
       "<div>\n",
       "<style scoped>\n",
       "    .dataframe tbody tr th:only-of-type {\n",
       "        vertical-align: middle;\n",
       "    }\n",
       "\n",
       "    .dataframe tbody tr th {\n",
       "        vertical-align: top;\n",
       "    }\n",
       "\n",
       "    .dataframe thead th {\n",
       "        text-align: right;\n",
       "    }\n",
       "</style>\n",
       "<table border=\"1\" class=\"dataframe\">\n",
       "  <thead>\n",
       "    <tr style=\"text-align: right;\">\n",
       "      <th></th>\n",
       "      <th>tokens</th>\n",
       "    </tr>\n",
       "  </thead>\n",
       "  <tbody>\n",
       "    <tr>\n",
       "      <th>Austen_Emma0026</th>\n",
       "      <td>[giving, fair, companion, account, yesterday, ...</td>\n",
       "    </tr>\n",
       "    <tr>\n",
       "      <th>Austen_Emma0032</th>\n",
       "      <td>[feels, like, snow, place, party, try, day, di...</td>\n",
       "    </tr>\n",
       "    <tr>\n",
       "      <th>CBronte_Villette0086</th>\n",
       "      <td>[pierced, opaque, blackness, stood, bougie, qu...</td>\n",
       "    </tr>\n",
       "    <tr>\n",
       "      <th>CBronte_Jane0099</th>\n",
       "      <td>[joke, queer, looks, tell, thing, specially, s...</td>\n",
       "    </tr>\n",
       "    <tr>\n",
       "      <th>CBronte_Villette0092</th>\n",
       "      <td>[second, landing, floor, comprising, abode, kn...</td>\n",
       "    </tr>\n",
       "  </tbody>\n",
       "</table>\n",
       "</div>"
      ],
      "text/plain": [
       "                                                                 tokens\n",
       "Austen_Emma0026       [giving, fair, companion, account, yesterday, ...\n",
       "Austen_Emma0032       [feels, like, snow, place, party, try, day, di...\n",
       "CBronte_Villette0086  [pierced, opaque, blackness, stood, bougie, qu...\n",
       "CBronte_Jane0099      [joke, queer, looks, tell, thing, specially, s...\n",
       "CBronte_Villette0092  [second, landing, floor, comprising, abode, kn..."
      ]
     },
     "execution_count": 70,
     "metadata": {},
     "output_type": "execute_result"
    }
   ],
   "source": [
    "df.head()"
   ]
  },
  {
   "cell_type": "code",
   "execution_count": 72,
   "metadata": {},
   "outputs": [],
   "source": [
    "df = pd.DataFrame.from_records(new_distro, index=titles)\n",
    "df.columns = topics\n",
    "df['author'] = df.reset_index()['index'].apply(lambda x: x.split('_')[0]).tolist()"
   ]
  },
  {
   "cell_type": "code",
   "execution_count": 73,
   "metadata": {},
   "outputs": [
    {
     "data": {
      "text/html": [
       "<div>\n",
       "<style scoped>\n",
       "    .dataframe tbody tr th:only-of-type {\n",
       "        vertical-align: middle;\n",
       "    }\n",
       "\n",
       "    .dataframe tbody tr th {\n",
       "        vertical-align: top;\n",
       "    }\n",
       "\n",
       "    .dataframe thead th {\n",
       "        text-align: right;\n",
       "    }\n",
       "</style>\n",
       "<table border=\"1\" class=\"dataframe\">\n",
       "  <thead>\n",
       "    <tr style=\"text-align: right;\">\n",
       "      <th></th>\n",
       "      <th>elizabeth darcy bennet jane bingley</th>\n",
       "      <th>play la paul read fresh</th>\n",
       "      <th>elinor marianne sister edward mother</th>\n",
       "      <th>rochester adele sir fairfax room</th>\n",
       "      <th>miss bessie reed little like</th>\n",
       "      <th>bingley elizabeth bennet miss jane</th>\n",
       "      <th>reed child aunt eyre madam</th>\n",
       "      <th>little like john bretton eyes</th>\n",
       "      <th>know miss think jane like</th>\n",
       "      <th>little like madame thought know</th>\n",
       "      <th>emma miss weston jane thing</th>\n",
       "      <th>emma harriet miss think good</th>\n",
       "      <th>nature making brother little elder</th>\n",
       "      <th>hunsden crimsworth room like miss</th>\n",
       "      <th>like jane long night sir</th>\n",
       "      <th>author</th>\n",
       "    </tr>\n",
       "  </thead>\n",
       "  <tbody>\n",
       "    <tr>\n",
       "      <th>Austen_Emma0026</th>\n",
       "      <td>0.0</td>\n",
       "      <td>0.0</td>\n",
       "      <td>0.122404</td>\n",
       "      <td>0.0</td>\n",
       "      <td>0.0</td>\n",
       "      <td>0.0</td>\n",
       "      <td>0.0</td>\n",
       "      <td>0.000000</td>\n",
       "      <td>0.0</td>\n",
       "      <td>0.025382</td>\n",
       "      <td>0.391558</td>\n",
       "      <td>0.458320</td>\n",
       "      <td>0.0</td>\n",
       "      <td>0.0</td>\n",
       "      <td>0.000000</td>\n",
       "      <td>Austen</td>\n",
       "    </tr>\n",
       "    <tr>\n",
       "      <th>Austen_Emma0032</th>\n",
       "      <td>0.0</td>\n",
       "      <td>0.0</td>\n",
       "      <td>0.000000</td>\n",
       "      <td>0.0</td>\n",
       "      <td>0.0</td>\n",
       "      <td>0.0</td>\n",
       "      <td>0.0</td>\n",
       "      <td>0.000000</td>\n",
       "      <td>0.0</td>\n",
       "      <td>0.000000</td>\n",
       "      <td>0.118313</td>\n",
       "      <td>0.848318</td>\n",
       "      <td>0.0</td>\n",
       "      <td>0.0</td>\n",
       "      <td>0.030974</td>\n",
       "      <td>Austen</td>\n",
       "    </tr>\n",
       "    <tr>\n",
       "      <th>CBronte_Villette0086</th>\n",
       "      <td>0.0</td>\n",
       "      <td>0.0</td>\n",
       "      <td>0.000000</td>\n",
       "      <td>0.0</td>\n",
       "      <td>0.0</td>\n",
       "      <td>0.0</td>\n",
       "      <td>0.0</td>\n",
       "      <td>0.000000</td>\n",
       "      <td>0.0</td>\n",
       "      <td>0.977554</td>\n",
       "      <td>0.000000</td>\n",
       "      <td>0.000000</td>\n",
       "      <td>0.0</td>\n",
       "      <td>0.0</td>\n",
       "      <td>0.019659</td>\n",
       "      <td>CBronte</td>\n",
       "    </tr>\n",
       "    <tr>\n",
       "      <th>CBronte_Jane0099</th>\n",
       "      <td>0.0</td>\n",
       "      <td>0.0</td>\n",
       "      <td>0.000000</td>\n",
       "      <td>0.0</td>\n",
       "      <td>0.0</td>\n",
       "      <td>0.0</td>\n",
       "      <td>0.0</td>\n",
       "      <td>0.000000</td>\n",
       "      <td>0.0</td>\n",
       "      <td>0.000000</td>\n",
       "      <td>0.000000</td>\n",
       "      <td>0.000000</td>\n",
       "      <td>0.0</td>\n",
       "      <td>0.0</td>\n",
       "      <td>0.996605</td>\n",
       "      <td>CBronte</td>\n",
       "    </tr>\n",
       "    <tr>\n",
       "      <th>CBronte_Villette0092</th>\n",
       "      <td>0.0</td>\n",
       "      <td>0.0</td>\n",
       "      <td>0.000000</td>\n",
       "      <td>0.0</td>\n",
       "      <td>0.0</td>\n",
       "      <td>0.0</td>\n",
       "      <td>0.0</td>\n",
       "      <td>0.011721</td>\n",
       "      <td>0.0</td>\n",
       "      <td>0.956256</td>\n",
       "      <td>0.000000</td>\n",
       "      <td>0.025141</td>\n",
       "      <td>0.0</td>\n",
       "      <td>0.0</td>\n",
       "      <td>0.000000</td>\n",
       "      <td>CBronte</td>\n",
       "    </tr>\n",
       "  </tbody>\n",
       "</table>\n",
       "</div>"
      ],
      "text/plain": [
       "                      elizabeth darcy bennet jane bingley  \\\n",
       "Austen_Emma0026                                       0.0   \n",
       "Austen_Emma0032                                       0.0   \n",
       "CBronte_Villette0086                                  0.0   \n",
       "CBronte_Jane0099                                      0.0   \n",
       "CBronte_Villette0092                                  0.0   \n",
       "\n",
       "                      play la paul read fresh  \\\n",
       "Austen_Emma0026                           0.0   \n",
       "Austen_Emma0032                           0.0   \n",
       "CBronte_Villette0086                      0.0   \n",
       "CBronte_Jane0099                          0.0   \n",
       "CBronte_Villette0092                      0.0   \n",
       "\n",
       "                      elinor marianne sister edward mother  \\\n",
       "Austen_Emma0026                                   0.122404   \n",
       "Austen_Emma0032                                   0.000000   \n",
       "CBronte_Villette0086                              0.000000   \n",
       "CBronte_Jane0099                                  0.000000   \n",
       "CBronte_Villette0092                              0.000000   \n",
       "\n",
       "                      rochester adele sir fairfax room  \\\n",
       "Austen_Emma0026                                    0.0   \n",
       "Austen_Emma0032                                    0.0   \n",
       "CBronte_Villette0086                               0.0   \n",
       "CBronte_Jane0099                                   0.0   \n",
       "CBronte_Villette0092                               0.0   \n",
       "\n",
       "                      miss bessie reed little like  \\\n",
       "Austen_Emma0026                                0.0   \n",
       "Austen_Emma0032                                0.0   \n",
       "CBronte_Villette0086                           0.0   \n",
       "CBronte_Jane0099                               0.0   \n",
       "CBronte_Villette0092                           0.0   \n",
       "\n",
       "                      bingley elizabeth bennet miss jane  \\\n",
       "Austen_Emma0026                                      0.0   \n",
       "Austen_Emma0032                                      0.0   \n",
       "CBronte_Villette0086                                 0.0   \n",
       "CBronte_Jane0099                                     0.0   \n",
       "CBronte_Villette0092                                 0.0   \n",
       "\n",
       "                      reed child aunt eyre madam  \\\n",
       "Austen_Emma0026                              0.0   \n",
       "Austen_Emma0032                              0.0   \n",
       "CBronte_Villette0086                         0.0   \n",
       "CBronte_Jane0099                             0.0   \n",
       "CBronte_Villette0092                         0.0   \n",
       "\n",
       "                      little like john bretton eyes  \\\n",
       "Austen_Emma0026                            0.000000   \n",
       "Austen_Emma0032                            0.000000   \n",
       "CBronte_Villette0086                       0.000000   \n",
       "CBronte_Jane0099                           0.000000   \n",
       "CBronte_Villette0092                       0.011721   \n",
       "\n",
       "                      know miss think jane like  \\\n",
       "Austen_Emma0026                             0.0   \n",
       "Austen_Emma0032                             0.0   \n",
       "CBronte_Villette0086                        0.0   \n",
       "CBronte_Jane0099                            0.0   \n",
       "CBronte_Villette0092                        0.0   \n",
       "\n",
       "                      little like madame thought know  \\\n",
       "Austen_Emma0026                              0.025382   \n",
       "Austen_Emma0032                              0.000000   \n",
       "CBronte_Villette0086                         0.977554   \n",
       "CBronte_Jane0099                             0.000000   \n",
       "CBronte_Villette0092                         0.956256   \n",
       "\n",
       "                      emma miss weston jane thing  \\\n",
       "Austen_Emma0026                          0.391558   \n",
       "Austen_Emma0032                          0.118313   \n",
       "CBronte_Villette0086                     0.000000   \n",
       "CBronte_Jane0099                         0.000000   \n",
       "CBronte_Villette0092                     0.000000   \n",
       "\n",
       "                      emma harriet miss think good  \\\n",
       "Austen_Emma0026                           0.458320   \n",
       "Austen_Emma0032                           0.848318   \n",
       "CBronte_Villette0086                      0.000000   \n",
       "CBronte_Jane0099                          0.000000   \n",
       "CBronte_Villette0092                      0.025141   \n",
       "\n",
       "                      nature making brother little elder  \\\n",
       "Austen_Emma0026                                      0.0   \n",
       "Austen_Emma0032                                      0.0   \n",
       "CBronte_Villette0086                                 0.0   \n",
       "CBronte_Jane0099                                     0.0   \n",
       "CBronte_Villette0092                                 0.0   \n",
       "\n",
       "                      hunsden crimsworth room like miss  \\\n",
       "Austen_Emma0026                                     0.0   \n",
       "Austen_Emma0032                                     0.0   \n",
       "CBronte_Villette0086                                0.0   \n",
       "CBronte_Jane0099                                    0.0   \n",
       "CBronte_Villette0092                                0.0   \n",
       "\n",
       "                      like jane long night sir   author  \n",
       "Austen_Emma0026                       0.000000   Austen  \n",
       "Austen_Emma0032                       0.030974   Austen  \n",
       "CBronte_Villette0086                  0.019659  CBronte  \n",
       "CBronte_Jane0099                      0.996605  CBronte  \n",
       "CBronte_Villette0092                  0.000000  CBronte  "
      ]
     },
     "execution_count": 73,
     "metadata": {},
     "output_type": "execute_result"
    }
   ],
   "source": [
    "df.head()"
   ]
  },
  {
   "cell_type": "code",
   "execution_count": 74,
   "metadata": {},
   "outputs": [
    {
     "data": {
      "text/html": [
       "<div>\n",
       "<style scoped>\n",
       "    .dataframe tbody tr th:only-of-type {\n",
       "        vertical-align: middle;\n",
       "    }\n",
       "\n",
       "    .dataframe tbody tr th {\n",
       "        vertical-align: top;\n",
       "    }\n",
       "\n",
       "    .dataframe thead th {\n",
       "        text-align: right;\n",
       "    }\n",
       "</style>\n",
       "<table border=\"1\" class=\"dataframe\">\n",
       "  <thead>\n",
       "    <tr style=\"text-align: right;\">\n",
       "      <th></th>\n",
       "      <th>elizabeth darcy bennet jane bingley</th>\n",
       "      <th>play la paul read fresh</th>\n",
       "      <th>elinor marianne sister edward mother</th>\n",
       "      <th>rochester adele sir fairfax room</th>\n",
       "      <th>miss bessie reed little like</th>\n",
       "      <th>bingley elizabeth bennet miss jane</th>\n",
       "      <th>reed child aunt eyre madam</th>\n",
       "      <th>little like john bretton eyes</th>\n",
       "      <th>know miss think jane like</th>\n",
       "      <th>little like madame thought know</th>\n",
       "      <th>emma miss weston jane thing</th>\n",
       "      <th>emma harriet miss think good</th>\n",
       "      <th>nature making brother little elder</th>\n",
       "      <th>hunsden crimsworth room like miss</th>\n",
       "      <th>like jane long night sir</th>\n",
       "    </tr>\n",
       "    <tr>\n",
       "      <th>author</th>\n",
       "      <th></th>\n",
       "      <th></th>\n",
       "      <th></th>\n",
       "      <th></th>\n",
       "      <th></th>\n",
       "      <th></th>\n",
       "      <th></th>\n",
       "      <th></th>\n",
       "      <th></th>\n",
       "      <th></th>\n",
       "      <th></th>\n",
       "      <th></th>\n",
       "      <th></th>\n",
       "      <th></th>\n",
       "      <th></th>\n",
       "    </tr>\n",
       "  </thead>\n",
       "  <tbody>\n",
       "    <tr>\n",
       "      <th>Austen</th>\n",
       "      <td>0.271615</td>\n",
       "      <td>0.000000</td>\n",
       "      <td>0.268995</td>\n",
       "      <td>0.001121</td>\n",
       "      <td>0.001612</td>\n",
       "      <td>0.025531</td>\n",
       "      <td>0.000000</td>\n",
       "      <td>0.003694</td>\n",
       "      <td>0.016675</td>\n",
       "      <td>0.003418</td>\n",
       "      <td>0.099252</td>\n",
       "      <td>0.287683</td>\n",
       "      <td>0.000000</td>\n",
       "      <td>0.003514</td>\n",
       "      <td>0.013887</td>\n",
       "    </tr>\n",
       "    <tr>\n",
       "      <th>CBronte</th>\n",
       "      <td>0.007054</td>\n",
       "      <td>0.002261</td>\n",
       "      <td>0.008968</td>\n",
       "      <td>0.032202</td>\n",
       "      <td>0.039269</td>\n",
       "      <td>0.000099</td>\n",
       "      <td>0.003807</td>\n",
       "      <td>0.088555</td>\n",
       "      <td>0.003254</td>\n",
       "      <td>0.433791</td>\n",
       "      <td>0.000659</td>\n",
       "      <td>0.021061</td>\n",
       "      <td>0.000183</td>\n",
       "      <td>0.042458</td>\n",
       "      <td>0.313301</td>\n",
       "    </tr>\n",
       "  </tbody>\n",
       "</table>\n",
       "</div>"
      ],
      "text/plain": [
       "         elizabeth darcy bennet jane bingley  play la paul read fresh  \\\n",
       "author                                                                  \n",
       "Austen                              0.271615                 0.000000   \n",
       "CBronte                             0.007054                 0.002261   \n",
       "\n",
       "         elinor marianne sister edward mother  \\\n",
       "author                                          \n",
       "Austen                               0.268995   \n",
       "CBronte                              0.008968   \n",
       "\n",
       "         rochester adele sir fairfax room  miss bessie reed little like  \\\n",
       "author                                                                    \n",
       "Austen                           0.001121                      0.001612   \n",
       "CBronte                          0.032202                      0.039269   \n",
       "\n",
       "         bingley elizabeth bennet miss jane  reed child aunt eyre madam  \\\n",
       "author                                                                    \n",
       "Austen                             0.025531                    0.000000   \n",
       "CBronte                            0.000099                    0.003807   \n",
       "\n",
       "         little like john bretton eyes  know miss think jane like  \\\n",
       "author                                                              \n",
       "Austen                        0.003694                   0.016675   \n",
       "CBronte                       0.088555                   0.003254   \n",
       "\n",
       "         little like madame thought know  emma miss weston jane thing  \\\n",
       "author                                                                  \n",
       "Austen                          0.003418                     0.099252   \n",
       "CBronte                         0.433791                     0.000659   \n",
       "\n",
       "         emma harriet miss think good  nature making brother little elder  \\\n",
       "author                                                                      \n",
       "Austen                       0.287683                            0.000000   \n",
       "CBronte                      0.021061                            0.000183   \n",
       "\n",
       "         hunsden crimsworth room like miss  like jane long night sir  \n",
       "author                                                                \n",
       "Austen                            0.003514                  0.013887  \n",
       "CBronte                           0.042458                  0.313301  "
      ]
     },
     "execution_count": 74,
     "metadata": {},
     "output_type": "execute_result"
    }
   ],
   "source": [
    "df.groupby('author').mean()"
   ]
  },
  {
   "cell_type": "markdown",
   "metadata": {},
   "source": [
    "## Challenge\n",
    "### *Can we see if one of the authors focus more on men than women?*\n",
    "\n",
    "*  Use Spacy for text prepocessing\n",
    "*  Extract the Named Entities from the documents using Spacy (command is fairly straight forward)\n",
    "*  Create unique list of names from the authors (you'll find that there are different types of named entities not all people)\n",
    "*  Label the names with genders (can you this by hand or you use the US census name lists)\n",
    "*  Customize your processing to replace the proper name with your gender from the previous step's lookup table\n",
    "*  Then follow the rest of the LDA flow\n"
   ]
  },
  {
   "cell_type": "markdown",
   "metadata": {},
   "source": [
    "# Selecting the Number of Topics (Learn)\n",
    "<a id=\"#p4\"></a>"
   ]
  },
  {
   "cell_type": "markdown",
   "metadata": {},
   "source": [
    "## Overview"
   ]
  },
  {
   "cell_type": "markdown",
   "metadata": {},
   "source": [
    "## Follow Along"
   ]
  },
  {
   "cell_type": "code",
   "execution_count": 75,
   "metadata": {},
   "outputs": [],
   "source": [
    "from gensim.models.coherencemodel import CoherenceModel\n",
    "\n",
    "def compute_coherence_values(dictionary, corpus, path, limit, start=2, step=3, passes=5):\n",
    "    \"\"\"\n",
    "    Compute c_v coherence for various number of topics\n",
    "\n",
    "    Parameters:\n",
    "    ----------\n",
    "    dictionary : Gensim dictionary\n",
    "    corpus : Gensim corpus\n",
    "    path : path to input texts\n",
    "    limit : Max num of topics\n",
    "    passes: the number of times the entire lda model & coherence values are calculated\n",
    "\n",
    "    Returns:\n",
    "    -------\n",
    "    coherence_values : Coherence values corresponding to the LDA model with respective number of topics\n",
    "    \"\"\"\n",
    "    \n",
    "    coherence_values = []\n",
    "    \n",
    "    tokens = list(doc_stream(path))\n",
    "    \n",
    "    for iter_ in range(passes):\n",
    "        for num_topics in range(start, limit, step):\n",
    "            stream = doc_stream(path)\n",
    "            model = LdaMulticore(corpus=corpus, num_topics=num_topics, id2word=dictionary, workers=4)\n",
    "            coherencemodel = CoherenceModel(model=model,dictionary=dictionary,corpus=corpus, coherence='u_mass')\n",
    "            coherence_values.append({'pass': iter_, \n",
    "                                     'num_topics': num_topics, \n",
    "                                     'coherence_score': coherencemodel.get_coherence()\n",
    "                                    })\n",
    "\n",
    "    return coherence_values"
   ]
  },
  {
   "cell_type": "code",
   "execution_count": 76,
   "metadata": {},
   "outputs": [
    {
     "name": "stderr",
     "output_type": "stream",
     "text": [
      "Process ForkPoolWorker-721:\n",
      "Process ForkPoolWorker-724:\n",
      "Process ForkPoolWorker-722:\n",
      "Process ForkPoolWorker-723:\n",
      "Traceback (most recent call last):\n",
      "Traceback (most recent call last):\n"
     ]
    },
    {
     "ename": "KeyboardInterrupt",
     "evalue": "",
     "output_type": "error",
     "traceback": [
      "\u001b[0;31m---------------------------------------------------------------------------\u001b[0m",
      "\u001b[0;31mKeyboardInterrupt\u001b[0m                         Traceback (most recent call last)",
      "\u001b[0;32m<ipython-input-76-2f58e60b55e2>\u001b[0m in \u001b[0;36m<module>\u001b[0;34m\u001b[0m\n\u001b[1;32m      6\u001b[0m                                                         \u001b[0mlimit\u001b[0m\u001b[0;34m=\u001b[0m\u001b[0;36m40\u001b[0m\u001b[0;34m,\u001b[0m\u001b[0;34m\u001b[0m\u001b[0;34m\u001b[0m\u001b[0m\n\u001b[1;32m      7\u001b[0m                                                         \u001b[0mstep\u001b[0m\u001b[0;34m=\u001b[0m\u001b[0;36m6\u001b[0m\u001b[0;34m,\u001b[0m\u001b[0;34m\u001b[0m\u001b[0;34m\u001b[0m\u001b[0m\n\u001b[0;32m----> 8\u001b[0;31m                                                         passes=40)\n\u001b[0m",
      "\u001b[0;32m<ipython-input-75-6856e4c6ca5b>\u001b[0m in \u001b[0;36mcompute_coherence_values\u001b[0;34m(dictionary, corpus, path, limit, start, step, passes)\u001b[0m\n\u001b[1;32m     25\u001b[0m         \u001b[0;32mfor\u001b[0m \u001b[0mnum_topics\u001b[0m \u001b[0;32min\u001b[0m \u001b[0mrange\u001b[0m\u001b[0;34m(\u001b[0m\u001b[0mstart\u001b[0m\u001b[0;34m,\u001b[0m \u001b[0mlimit\u001b[0m\u001b[0;34m,\u001b[0m \u001b[0mstep\u001b[0m\u001b[0;34m)\u001b[0m\u001b[0;34m:\u001b[0m\u001b[0;34m\u001b[0m\u001b[0;34m\u001b[0m\u001b[0m\n\u001b[1;32m     26\u001b[0m             \u001b[0mstream\u001b[0m \u001b[0;34m=\u001b[0m \u001b[0mdoc_stream\u001b[0m\u001b[0;34m(\u001b[0m\u001b[0mpath\u001b[0m\u001b[0;34m)\u001b[0m\u001b[0;34m\u001b[0m\u001b[0;34m\u001b[0m\u001b[0m\n\u001b[0;32m---> 27\u001b[0;31m             \u001b[0mmodel\u001b[0m \u001b[0;34m=\u001b[0m \u001b[0mLdaMulticore\u001b[0m\u001b[0;34m(\u001b[0m\u001b[0mcorpus\u001b[0m\u001b[0;34m=\u001b[0m\u001b[0mcorpus\u001b[0m\u001b[0;34m,\u001b[0m \u001b[0mnum_topics\u001b[0m\u001b[0;34m=\u001b[0m\u001b[0mnum_topics\u001b[0m\u001b[0;34m,\u001b[0m \u001b[0mid2word\u001b[0m\u001b[0;34m=\u001b[0m\u001b[0mdictionary\u001b[0m\u001b[0;34m,\u001b[0m \u001b[0mworkers\u001b[0m\u001b[0;34m=\u001b[0m\u001b[0;36m4\u001b[0m\u001b[0;34m)\u001b[0m\u001b[0;34m\u001b[0m\u001b[0;34m\u001b[0m\u001b[0m\n\u001b[0m\u001b[1;32m     28\u001b[0m             \u001b[0mcoherencemodel\u001b[0m \u001b[0;34m=\u001b[0m \u001b[0mCoherenceModel\u001b[0m\u001b[0;34m(\u001b[0m\u001b[0mmodel\u001b[0m\u001b[0;34m=\u001b[0m\u001b[0mmodel\u001b[0m\u001b[0;34m,\u001b[0m\u001b[0mdictionary\u001b[0m\u001b[0;34m=\u001b[0m\u001b[0mdictionary\u001b[0m\u001b[0;34m,\u001b[0m\u001b[0mcorpus\u001b[0m\u001b[0;34m=\u001b[0m\u001b[0mcorpus\u001b[0m\u001b[0;34m,\u001b[0m \u001b[0mcoherence\u001b[0m\u001b[0;34m=\u001b[0m\u001b[0;34m'u_mass'\u001b[0m\u001b[0;34m)\u001b[0m\u001b[0;34m\u001b[0m\u001b[0;34m\u001b[0m\u001b[0m\n\u001b[1;32m     29\u001b[0m             coherence_values.append({'pass': iter_, \n",
      "\u001b[0;32m~/anaconda3/envs/U4-S1-NLP/lib/python3.7/site-packages/gensim/models/ldamulticore.py\u001b[0m in \u001b[0;36m__init__\u001b[0;34m(self, corpus, num_topics, id2word, workers, chunksize, passes, batch, alpha, eta, decay, offset, eval_every, iterations, gamma_threshold, random_state, minimum_probability, minimum_phi_value, per_word_topics, dtype)\u001b[0m\n\u001b[1;32m    182\u001b[0m             \u001b[0mdecay\u001b[0m\u001b[0;34m=\u001b[0m\u001b[0mdecay\u001b[0m\u001b[0;34m,\u001b[0m \u001b[0moffset\u001b[0m\u001b[0;34m=\u001b[0m\u001b[0moffset\u001b[0m\u001b[0;34m,\u001b[0m \u001b[0meval_every\u001b[0m\u001b[0;34m=\u001b[0m\u001b[0meval_every\u001b[0m\u001b[0;34m,\u001b[0m \u001b[0miterations\u001b[0m\u001b[0;34m=\u001b[0m\u001b[0miterations\u001b[0m\u001b[0;34m,\u001b[0m\u001b[0;34m\u001b[0m\u001b[0;34m\u001b[0m\u001b[0m\n\u001b[1;32m    183\u001b[0m             \u001b[0mgamma_threshold\u001b[0m\u001b[0;34m=\u001b[0m\u001b[0mgamma_threshold\u001b[0m\u001b[0;34m,\u001b[0m \u001b[0mrandom_state\u001b[0m\u001b[0;34m=\u001b[0m\u001b[0mrandom_state\u001b[0m\u001b[0;34m,\u001b[0m \u001b[0mminimum_probability\u001b[0m\u001b[0;34m=\u001b[0m\u001b[0mminimum_probability\u001b[0m\u001b[0;34m,\u001b[0m\u001b[0;34m\u001b[0m\u001b[0;34m\u001b[0m\u001b[0m\n\u001b[0;32m--> 184\u001b[0;31m             \u001b[0mminimum_phi_value\u001b[0m\u001b[0;34m=\u001b[0m\u001b[0mminimum_phi_value\u001b[0m\u001b[0;34m,\u001b[0m \u001b[0mper_word_topics\u001b[0m\u001b[0;34m=\u001b[0m\u001b[0mper_word_topics\u001b[0m\u001b[0;34m,\u001b[0m \u001b[0mdtype\u001b[0m\u001b[0;34m=\u001b[0m\u001b[0mdtype\u001b[0m\u001b[0;34m\u001b[0m\u001b[0;34m\u001b[0m\u001b[0m\n\u001b[0m\u001b[1;32m    185\u001b[0m         )\n\u001b[1;32m    186\u001b[0m \u001b[0;34m\u001b[0m\u001b[0m\n",
      "\u001b[0;32m~/anaconda3/envs/U4-S1-NLP/lib/python3.7/site-packages/gensim/models/ldamodel.py\u001b[0m in \u001b[0;36m__init__\u001b[0;34m(self, corpus, num_topics, id2word, distributed, chunksize, passes, update_every, alpha, eta, decay, offset, eval_every, iterations, gamma_threshold, minimum_probability, random_state, ns_conf, minimum_phi_value, per_word_topics, callbacks, dtype)\u001b[0m\n\u001b[1;32m    517\u001b[0m         \u001b[0;32mif\u001b[0m \u001b[0mcorpus\u001b[0m \u001b[0;32mis\u001b[0m \u001b[0;32mnot\u001b[0m \u001b[0;32mNone\u001b[0m\u001b[0;34m:\u001b[0m\u001b[0;34m\u001b[0m\u001b[0;34m\u001b[0m\u001b[0m\n\u001b[1;32m    518\u001b[0m             \u001b[0muse_numpy\u001b[0m \u001b[0;34m=\u001b[0m \u001b[0mself\u001b[0m\u001b[0;34m.\u001b[0m\u001b[0mdispatcher\u001b[0m \u001b[0;32mis\u001b[0m \u001b[0;32mnot\u001b[0m \u001b[0;32mNone\u001b[0m\u001b[0;34m\u001b[0m\u001b[0;34m\u001b[0m\u001b[0m\n\u001b[0;32m--> 519\u001b[0;31m             \u001b[0mself\u001b[0m\u001b[0;34m.\u001b[0m\u001b[0mupdate\u001b[0m\u001b[0;34m(\u001b[0m\u001b[0mcorpus\u001b[0m\u001b[0;34m,\u001b[0m \u001b[0mchunks_as_numpy\u001b[0m\u001b[0;34m=\u001b[0m\u001b[0muse_numpy\u001b[0m\u001b[0;34m)\u001b[0m\u001b[0;34m\u001b[0m\u001b[0;34m\u001b[0m\u001b[0m\n\u001b[0m\u001b[1;32m    520\u001b[0m \u001b[0;34m\u001b[0m\u001b[0m\n\u001b[1;32m    521\u001b[0m     \u001b[0;32mdef\u001b[0m \u001b[0minit_dir_prior\u001b[0m\u001b[0;34m(\u001b[0m\u001b[0mself\u001b[0m\u001b[0;34m,\u001b[0m \u001b[0mprior\u001b[0m\u001b[0;34m,\u001b[0m \u001b[0mname\u001b[0m\u001b[0;34m)\u001b[0m\u001b[0;34m:\u001b[0m\u001b[0;34m\u001b[0m\u001b[0;34m\u001b[0m\u001b[0m\n",
      "\u001b[0;32m~/anaconda3/envs/U4-S1-NLP/lib/python3.7/site-packages/gensim/models/ldamulticore.py\u001b[0m in \u001b[0;36mupdate\u001b[0;34m(self, corpus, chunks_as_numpy)\u001b[0m\n\u001b[1;32m    308\u001b[0m             \u001b[0;31m# wait for all outstanding jobs to finish\u001b[0m\u001b[0;34m\u001b[0m\u001b[0;34m\u001b[0m\u001b[0;34m\u001b[0m\u001b[0m\n\u001b[1;32m    309\u001b[0m             \u001b[0;32mwhile\u001b[0m \u001b[0mqueue_size\u001b[0m\u001b[0;34m[\u001b[0m\u001b[0;36m0\u001b[0m\u001b[0;34m]\u001b[0m \u001b[0;34m>\u001b[0m \u001b[0;36m0\u001b[0m\u001b[0;34m:\u001b[0m\u001b[0;34m\u001b[0m\u001b[0;34m\u001b[0m\u001b[0m\n\u001b[0;32m--> 310\u001b[0;31m                 \u001b[0mprocess_result_queue\u001b[0m\u001b[0;34m(\u001b[0m\u001b[0mforce\u001b[0m\u001b[0;34m=\u001b[0m\u001b[0;32mTrue\u001b[0m\u001b[0;34m)\u001b[0m\u001b[0;34m\u001b[0m\u001b[0;34m\u001b[0m\u001b[0m\n\u001b[0m\u001b[1;32m    311\u001b[0m \u001b[0;34m\u001b[0m\u001b[0m\n\u001b[1;32m    312\u001b[0m             \u001b[0;32mif\u001b[0m \u001b[0mreallen\u001b[0m \u001b[0;34m!=\u001b[0m \u001b[0mlencorpus\u001b[0m\u001b[0;34m:\u001b[0m\u001b[0;34m\u001b[0m\u001b[0;34m\u001b[0m\u001b[0m\n",
      "\u001b[0;32m~/anaconda3/envs/U4-S1-NLP/lib/python3.7/site-packages/gensim/models/ldamulticore.py\u001b[0m in \u001b[0;36mprocess_result_queue\u001b[0;34m(force)\u001b[0m\n\u001b[1;32m    275\u001b[0m                 \u001b[0mother\u001b[0m\u001b[0;34m.\u001b[0m\u001b[0mreset\u001b[0m\u001b[0;34m(\u001b[0m\u001b[0;34m)\u001b[0m\u001b[0;34m\u001b[0m\u001b[0;34m\u001b[0m\u001b[0m\n\u001b[1;32m    276\u001b[0m                 \u001b[0;32mif\u001b[0m \u001b[0meval_every\u001b[0m \u001b[0;34m>\u001b[0m \u001b[0;36m0\u001b[0m \u001b[0;32mand\u001b[0m \u001b[0;34m(\u001b[0m\u001b[0mforce\u001b[0m \u001b[0;32mor\u001b[0m \u001b[0;34m(\u001b[0m\u001b[0mself\u001b[0m\u001b[0;34m.\u001b[0m\u001b[0mnum_updates\u001b[0m \u001b[0;34m/\u001b[0m \u001b[0mupdateafter\u001b[0m\u001b[0;34m)\u001b[0m \u001b[0;34m%\u001b[0m \u001b[0meval_every\u001b[0m \u001b[0;34m==\u001b[0m \u001b[0;36m0\u001b[0m\u001b[0;34m)\u001b[0m\u001b[0;34m:\u001b[0m\u001b[0;34m\u001b[0m\u001b[0;34m\u001b[0m\u001b[0m\n\u001b[0;32m--> 277\u001b[0;31m                     \u001b[0mself\u001b[0m\u001b[0;34m.\u001b[0m\u001b[0mlog_perplexity\u001b[0m\u001b[0;34m(\u001b[0m\u001b[0mchunk\u001b[0m\u001b[0;34m,\u001b[0m \u001b[0mtotal_docs\u001b[0m\u001b[0;34m=\u001b[0m\u001b[0mlencorpus\u001b[0m\u001b[0;34m)\u001b[0m\u001b[0;34m\u001b[0m\u001b[0;34m\u001b[0m\u001b[0m\n\u001b[0m\u001b[1;32m    278\u001b[0m \u001b[0;34m\u001b[0m\u001b[0m\n\u001b[1;32m    279\u001b[0m         \u001b[0mlogger\u001b[0m\u001b[0;34m.\u001b[0m\u001b[0minfo\u001b[0m\u001b[0;34m(\u001b[0m\u001b[0;34m\"training LDA model using %i processes\"\u001b[0m\u001b[0;34m,\u001b[0m \u001b[0mself\u001b[0m\u001b[0;34m.\u001b[0m\u001b[0mworkers\u001b[0m\u001b[0;34m)\u001b[0m\u001b[0;34m\u001b[0m\u001b[0;34m\u001b[0m\u001b[0m\n",
      "\u001b[0;32m~/anaconda3/envs/U4-S1-NLP/lib/python3.7/site-packages/gensim/models/ldamodel.py\u001b[0m in \u001b[0;36mlog_perplexity\u001b[0;34m(self, chunk, total_docs)\u001b[0m\n\u001b[1;32m    819\u001b[0m         \u001b[0mcorpus_words\u001b[0m \u001b[0;34m=\u001b[0m \u001b[0msum\u001b[0m\u001b[0;34m(\u001b[0m\u001b[0mcnt\u001b[0m \u001b[0;32mfor\u001b[0m \u001b[0mdocument\u001b[0m \u001b[0;32min\u001b[0m \u001b[0mchunk\u001b[0m \u001b[0;32mfor\u001b[0m \u001b[0m_\u001b[0m\u001b[0;34m,\u001b[0m \u001b[0mcnt\u001b[0m \u001b[0;32min\u001b[0m \u001b[0mdocument\u001b[0m\u001b[0;34m)\u001b[0m\u001b[0;34m\u001b[0m\u001b[0;34m\u001b[0m\u001b[0m\n\u001b[1;32m    820\u001b[0m         \u001b[0msubsample_ratio\u001b[0m \u001b[0;34m=\u001b[0m \u001b[0;36m1.0\u001b[0m \u001b[0;34m*\u001b[0m \u001b[0mtotal_docs\u001b[0m \u001b[0;34m/\u001b[0m \u001b[0mlen\u001b[0m\u001b[0;34m(\u001b[0m\u001b[0mchunk\u001b[0m\u001b[0;34m)\u001b[0m\u001b[0;34m\u001b[0m\u001b[0;34m\u001b[0m\u001b[0m\n\u001b[0;32m--> 821\u001b[0;31m         \u001b[0mperwordbound\u001b[0m \u001b[0;34m=\u001b[0m \u001b[0mself\u001b[0m\u001b[0;34m.\u001b[0m\u001b[0mbound\u001b[0m\u001b[0;34m(\u001b[0m\u001b[0mchunk\u001b[0m\u001b[0;34m,\u001b[0m \u001b[0msubsample_ratio\u001b[0m\u001b[0;34m=\u001b[0m\u001b[0msubsample_ratio\u001b[0m\u001b[0;34m)\u001b[0m \u001b[0;34m/\u001b[0m \u001b[0;34m(\u001b[0m\u001b[0msubsample_ratio\u001b[0m \u001b[0;34m*\u001b[0m \u001b[0mcorpus_words\u001b[0m\u001b[0;34m)\u001b[0m\u001b[0;34m\u001b[0m\u001b[0;34m\u001b[0m\u001b[0m\n\u001b[0m\u001b[1;32m    822\u001b[0m         logger.info(\n\u001b[1;32m    823\u001b[0m             \u001b[0;34m\"%.3f per-word bound, %.1f perplexity estimate based on a held-out corpus of %i documents with %i words\"\u001b[0m\u001b[0;34m,\u001b[0m\u001b[0;34m\u001b[0m\u001b[0;34m\u001b[0m\u001b[0m\n",
      "\u001b[0;32m~/anaconda3/envs/U4-S1-NLP/lib/python3.7/site-packages/gensim/models/ldamodel.py\u001b[0m in \u001b[0;36mbound\u001b[0;34m(self, corpus, gamma, subsample_ratio)\u001b[0m\n\u001b[1;32m   1094\u001b[0m \u001b[0;34m\u001b[0m\u001b[0m\n\u001b[1;32m   1095\u001b[0m             \u001b[0;31m# E[log p(doc | theta, beta)]\u001b[0m\u001b[0;34m\u001b[0m\u001b[0;34m\u001b[0m\u001b[0;34m\u001b[0m\u001b[0m\n\u001b[0;32m-> 1096\u001b[0;31m             \u001b[0mscore\u001b[0m \u001b[0;34m+=\u001b[0m \u001b[0msum\u001b[0m\u001b[0;34m(\u001b[0m\u001b[0mcnt\u001b[0m \u001b[0;34m*\u001b[0m \u001b[0mlogsumexp\u001b[0m\u001b[0;34m(\u001b[0m\u001b[0mElogthetad\u001b[0m \u001b[0;34m+\u001b[0m \u001b[0mElogbeta\u001b[0m\u001b[0;34m[\u001b[0m\u001b[0;34m:\u001b[0m\u001b[0;34m,\u001b[0m \u001b[0mint\u001b[0m\u001b[0;34m(\u001b[0m\u001b[0mid\u001b[0m\u001b[0;34m)\u001b[0m\u001b[0;34m]\u001b[0m\u001b[0;34m)\u001b[0m \u001b[0;32mfor\u001b[0m \u001b[0mid\u001b[0m\u001b[0;34m,\u001b[0m \u001b[0mcnt\u001b[0m \u001b[0;32min\u001b[0m \u001b[0mdoc\u001b[0m\u001b[0;34m)\u001b[0m\u001b[0;34m\u001b[0m\u001b[0;34m\u001b[0m\u001b[0m\n\u001b[0m\u001b[1;32m   1097\u001b[0m \u001b[0;34m\u001b[0m\u001b[0m\n\u001b[1;32m   1098\u001b[0m             \u001b[0;31m# E[log p(theta | alpha) - log q(theta | gamma)]; assumes alpha is a vector\u001b[0m\u001b[0;34m\u001b[0m\u001b[0;34m\u001b[0m\u001b[0;34m\u001b[0m\u001b[0m\n",
      "\u001b[0;32m~/anaconda3/envs/U4-S1-NLP/lib/python3.7/site-packages/gensim/models/ldamodel.py\u001b[0m in \u001b[0;36m<genexpr>\u001b[0;34m(.0)\u001b[0m\n\u001b[1;32m   1094\u001b[0m \u001b[0;34m\u001b[0m\u001b[0m\n\u001b[1;32m   1095\u001b[0m             \u001b[0;31m# E[log p(doc | theta, beta)]\u001b[0m\u001b[0;34m\u001b[0m\u001b[0;34m\u001b[0m\u001b[0;34m\u001b[0m\u001b[0m\n\u001b[0;32m-> 1096\u001b[0;31m             \u001b[0mscore\u001b[0m \u001b[0;34m+=\u001b[0m \u001b[0msum\u001b[0m\u001b[0;34m(\u001b[0m\u001b[0mcnt\u001b[0m \u001b[0;34m*\u001b[0m \u001b[0mlogsumexp\u001b[0m\u001b[0;34m(\u001b[0m\u001b[0mElogthetad\u001b[0m \u001b[0;34m+\u001b[0m \u001b[0mElogbeta\u001b[0m\u001b[0;34m[\u001b[0m\u001b[0;34m:\u001b[0m\u001b[0;34m,\u001b[0m \u001b[0mint\u001b[0m\u001b[0;34m(\u001b[0m\u001b[0mid\u001b[0m\u001b[0;34m)\u001b[0m\u001b[0;34m]\u001b[0m\u001b[0;34m)\u001b[0m \u001b[0;32mfor\u001b[0m \u001b[0mid\u001b[0m\u001b[0;34m,\u001b[0m \u001b[0mcnt\u001b[0m \u001b[0;32min\u001b[0m \u001b[0mdoc\u001b[0m\u001b[0;34m)\u001b[0m\u001b[0;34m\u001b[0m\u001b[0;34m\u001b[0m\u001b[0m\n\u001b[0m\u001b[1;32m   1097\u001b[0m \u001b[0;34m\u001b[0m\u001b[0m\n\u001b[1;32m   1098\u001b[0m             \u001b[0;31m# E[log p(theta | alpha) - log q(theta | gamma)]; assumes alpha is a vector\u001b[0m\u001b[0;34m\u001b[0m\u001b[0;34m\u001b[0m\u001b[0;34m\u001b[0m\u001b[0m\n",
      "\u001b[0;31mKeyboardInterrupt\u001b[0m: "
     ]
    },
    {
     "name": "stderr",
     "output_type": "stream",
     "text": [
      "Traceback (most recent call last):\n",
      "Traceback (most recent call last):\n",
      "  File \"/Users/jonathansokoll/anaconda3/envs/U4-S1-NLP/lib/python3.7/multiprocessing/process.py\", line 297, in _bootstrap\n",
      "    self.run()\n",
      "  File \"/Users/jonathansokoll/anaconda3/envs/U4-S1-NLP/lib/python3.7/multiprocessing/process.py\", line 297, in _bootstrap\n",
      "    self.run()\n",
      "  File \"/Users/jonathansokoll/anaconda3/envs/U4-S1-NLP/lib/python3.7/multiprocessing/process.py\", line 297, in _bootstrap\n",
      "    self.run()\n",
      "  File \"/Users/jonathansokoll/anaconda3/envs/U4-S1-NLP/lib/python3.7/multiprocessing/process.py\", line 297, in _bootstrap\n",
      "    self.run()\n",
      "  File \"/Users/jonathansokoll/anaconda3/envs/U4-S1-NLP/lib/python3.7/multiprocessing/process.py\", line 99, in run\n",
      "    self._target(*self._args, **self._kwargs)\n",
      "  File \"/Users/jonathansokoll/anaconda3/envs/U4-S1-NLP/lib/python3.7/multiprocessing/process.py\", line 99, in run\n",
      "    self._target(*self._args, **self._kwargs)\n",
      "  File \"/Users/jonathansokoll/anaconda3/envs/U4-S1-NLP/lib/python3.7/multiprocessing/process.py\", line 99, in run\n",
      "    self._target(*self._args, **self._kwargs)\n",
      "  File \"/Users/jonathansokoll/anaconda3/envs/U4-S1-NLP/lib/python3.7/multiprocessing/pool.py\", line 105, in worker\n",
      "    initializer(*initargs)\n",
      "  File \"/Users/jonathansokoll/anaconda3/envs/U4-S1-NLP/lib/python3.7/multiprocessing/process.py\", line 99, in run\n",
      "    self._target(*self._args, **self._kwargs)\n",
      "  File \"/Users/jonathansokoll/anaconda3/envs/U4-S1-NLP/lib/python3.7/multiprocessing/pool.py\", line 105, in worker\n",
      "    initializer(*initargs)\n",
      "  File \"/Users/jonathansokoll/anaconda3/envs/U4-S1-NLP/lib/python3.7/multiprocessing/pool.py\", line 105, in worker\n",
      "    initializer(*initargs)\n",
      "  File \"/Users/jonathansokoll/anaconda3/envs/U4-S1-NLP/lib/python3.7/multiprocessing/pool.py\", line 105, in worker\n",
      "    initializer(*initargs)\n",
      "  File \"/Users/jonathansokoll/anaconda3/envs/U4-S1-NLP/lib/python3.7/site-packages/gensim/models/ldamulticore.py\", line 334, in worker_e_step\n",
      "    chunk_no, chunk, worker_lda = input_queue.get()\n",
      "  File \"/Users/jonathansokoll/anaconda3/envs/U4-S1-NLP/lib/python3.7/site-packages/gensim/models/ldamulticore.py\", line 334, in worker_e_step\n",
      "    chunk_no, chunk, worker_lda = input_queue.get()\n",
      "  File \"/Users/jonathansokoll/anaconda3/envs/U4-S1-NLP/lib/python3.7/site-packages/gensim/models/ldamulticore.py\", line 334, in worker_e_step\n",
      "    chunk_no, chunk, worker_lda = input_queue.get()\n",
      "  File \"/Users/jonathansokoll/anaconda3/envs/U4-S1-NLP/lib/python3.7/site-packages/gensim/models/ldamulticore.py\", line 334, in worker_e_step\n",
      "    chunk_no, chunk, worker_lda = input_queue.get()\n",
      "  File \"/Users/jonathansokoll/anaconda3/envs/U4-S1-NLP/lib/python3.7/multiprocessing/queues.py\", line 93, in get\n",
      "    with self._rlock:\n",
      "  File \"/Users/jonathansokoll/anaconda3/envs/U4-S1-NLP/lib/python3.7/multiprocessing/queues.py\", line 93, in get\n",
      "    with self._rlock:\n",
      "  File \"/Users/jonathansokoll/anaconda3/envs/U4-S1-NLP/lib/python3.7/multiprocessing/queues.py\", line 93, in get\n",
      "    with self._rlock:\n",
      "  File \"/Users/jonathansokoll/anaconda3/envs/U4-S1-NLP/lib/python3.7/multiprocessing/synchronize.py\", line 95, in __enter__\n",
      "    return self._semlock.__enter__()\n",
      "  File \"/Users/jonathansokoll/anaconda3/envs/U4-S1-NLP/lib/python3.7/multiprocessing/queues.py\", line 94, in get\n",
      "    res = self._recv_bytes()\n",
      "  File \"/Users/jonathansokoll/anaconda3/envs/U4-S1-NLP/lib/python3.7/multiprocessing/synchronize.py\", line 95, in __enter__\n",
      "    return self._semlock.__enter__()\n",
      "  File \"/Users/jonathansokoll/anaconda3/envs/U4-S1-NLP/lib/python3.7/multiprocessing/synchronize.py\", line 95, in __enter__\n",
      "    return self._semlock.__enter__()\n",
      "  File \"/Users/jonathansokoll/anaconda3/envs/U4-S1-NLP/lib/python3.7/multiprocessing/connection.py\", line 216, in recv_bytes\n",
      "    buf = self._recv_bytes(maxlength)\n",
      "KeyboardInterrupt\n",
      "KeyboardInterrupt\n",
      "KeyboardInterrupt\n",
      "  File \"/Users/jonathansokoll/anaconda3/envs/U4-S1-NLP/lib/python3.7/multiprocessing/connection.py\", line 407, in _recv_bytes\n",
      "    buf = self._recv(4)\n",
      "  File \"/Users/jonathansokoll/anaconda3/envs/U4-S1-NLP/lib/python3.7/multiprocessing/connection.py\", line 379, in _recv\n",
      "    chunk = read(handle, remaining)\n",
      "KeyboardInterrupt\n"
     ]
    }
   ],
   "source": [
    "# Can take a long time to run.\n",
    "coherence_values = compute_coherence_values(dictionary=id2word, \n",
    "                                                        corpus=corpus, \n",
    "                                                        path=path, \n",
    "                                                        start=2, \n",
    "                                                        limit=40, \n",
    "                                                        step=6,\n",
    "                                                        passes=40)"
   ]
  },
  {
   "cell_type": "code",
   "execution_count": 123,
   "metadata": {},
   "outputs": [],
   "source": [
    "topic_coherence = pd.DataFrame.from_records(coherence_values)"
   ]
  },
  {
   "cell_type": "code",
   "execution_count": 115,
   "metadata": {},
   "outputs": [
    {
     "ename": "NameError",
     "evalue": "name 'coherencemodel' is not defined",
     "output_type": "error",
     "traceback": [
      "\u001b[0;31m---------------------------------------------------------------------------\u001b[0m",
      "\u001b[0;31mNameError\u001b[0m                                 Traceback (most recent call last)",
      "\u001b[0;32m<ipython-input-115-463aad305d7a>\u001b[0m in \u001b[0;36m<module>\u001b[0;34m\u001b[0m\n\u001b[0;32m----> 1\u001b[0;31m \u001b[0mcoherencemodel\u001b[0m\u001b[0;34m\u001b[0m\u001b[0;34m\u001b[0m\u001b[0m\n\u001b[0m",
      "\u001b[0;31mNameError\u001b[0m: name 'coherencemodel' is not defined"
     ]
    }
   ],
   "source": []
  },
  {
   "cell_type": "code",
   "execution_count": 124,
   "metadata": {},
   "outputs": [
    {
     "data": {
      "text/html": [
       "<div>\n",
       "<style scoped>\n",
       "    .dataframe tbody tr th:only-of-type {\n",
       "        vertical-align: middle;\n",
       "    }\n",
       "\n",
       "    .dataframe tbody tr th {\n",
       "        vertical-align: top;\n",
       "    }\n",
       "\n",
       "    .dataframe thead th {\n",
       "        text-align: right;\n",
       "    }\n",
       "</style>\n",
       "<table border=\"1\" class=\"dataframe\">\n",
       "  <thead>\n",
       "    <tr style=\"text-align: right;\">\n",
       "      <th></th>\n",
       "      <th>coherence_score</th>\n",
       "      <th>num_topics</th>\n",
       "      <th>pass</th>\n",
       "    </tr>\n",
       "  </thead>\n",
       "  <tbody>\n",
       "    <tr>\n",
       "      <th>0</th>\n",
       "      <td>-0.935416</td>\n",
       "      <td>2</td>\n",
       "      <td>0</td>\n",
       "    </tr>\n",
       "    <tr>\n",
       "      <th>1</th>\n",
       "      <td>-0.939436</td>\n",
       "      <td>8</td>\n",
       "      <td>0</td>\n",
       "    </tr>\n",
       "    <tr>\n",
       "      <th>2</th>\n",
       "      <td>-0.952264</td>\n",
       "      <td>14</td>\n",
       "      <td>0</td>\n",
       "    </tr>\n",
       "    <tr>\n",
       "      <th>3</th>\n",
       "      <td>-0.912855</td>\n",
       "      <td>20</td>\n",
       "      <td>0</td>\n",
       "    </tr>\n",
       "    <tr>\n",
       "      <th>4</th>\n",
       "      <td>-0.905050</td>\n",
       "      <td>26</td>\n",
       "      <td>0</td>\n",
       "    </tr>\n",
       "  </tbody>\n",
       "</table>\n",
       "</div>"
      ],
      "text/plain": [
       "   coherence_score  num_topics  pass\n",
       "0        -0.935416           2     0\n",
       "1        -0.939436           8     0\n",
       "2        -0.952264          14     0\n",
       "3        -0.912855          20     0\n",
       "4        -0.905050          26     0"
      ]
     },
     "execution_count": 124,
     "metadata": {},
     "output_type": "execute_result"
    }
   ],
   "source": [
    "topic_coherence.head()"
   ]
  },
  {
   "cell_type": "code",
   "execution_count": 125,
   "metadata": {},
   "outputs": [
    {
     "data": {
      "image/png": "[encoded data removed]",
      "text/plain": [
       "<Figure size 432x288 with 1 Axes>"
      ]
     },
     "metadata": {
      "needs_background": "light"
     },
     "output_type": "display_data"
    }
   ],
   "source": [
    "import seaborn as sns\n",
    "\n",
    "ax = sns.lineplot(x=\"num_topics\", y=\"coherence_score\", data=topic_coherence)"
   ]
  },
  {
   "cell_type": "code",
   "execution_count": 76,
   "metadata": {},
   "outputs": [
    {
     "name": "stdout",
     "output_type": "stream",
     "text": [
      "Num Topics = 2  has Coherence Value of 0.2785\n",
      "Num Topics = 8  has Coherence Value of 0.3029\n",
      "Num Topics = 14  has Coherence Value of 0.2887\n",
      "Num Topics = 20  has Coherence Value of 0.2852\n",
      "Num Topics = 26  has Coherence Value of 0.2846\n",
      "Num Topics = 32  has Coherence Value of 0.2914\n",
      "Num Topics = 38  has Coherence Value of 0.2878\n"
     ]
    }
   ],
   "source": [
    "# Print the coherence scores\n",
    "for m, cv in zip(x, coherence_values):\n",
    "    print(\"Num Topics =\", m, \" has Coherence Value of\", round(cv, 4))"
   ]
  },
  {
   "cell_type": "code",
   "execution_count": 89,
   "metadata": {},
   "outputs": [
    {
     "data": {
      "text/plain": [
       "[(0, 0.02226036),\n",
       " (1, 0.022260414),\n",
       " (2, 0.022260347),\n",
       " (3, 0.022260347),\n",
       " (4, 0.022260392),\n",
       " (5, 0.0222604),\n",
       " (6, 0.022260347),\n",
       " (7, 0.35487327),\n",
       " (8, 0.022260398),\n",
       " (9, 0.022260517),\n",
       " (10, 0.022260416),\n",
       " (11, 0.022260422),\n",
       " (12, 0.3557417),\n",
       " (13, 0.022260347),\n",
       " (14, 0.022260347)]"
      ]
     },
     "execution_count": 89,
     "metadata": {},
     "output_type": "execute_result"
    }
   ],
   "source": [
    "lda[id2word.doc2bow(tokenize(\"This is a sample document to score with a topic distribution.\"))]"
   ]
  },
  {
   "cell_type": "markdown",
   "metadata": {},
   "source": [
    "## Challenge\n",
    "### *Can we see if one of the authors focus more on men than women?*\n",
    "\n",
    "*  Use Spacy for text prepocessing\n",
    "*  Extract the Named Entities from the documents using Spacy (command is fairly straight forward)\n",
    "*  Create unique list of names from the authors (you'll find that there are different types of named entities not all people)\n",
    "*  Label the names with genders (can you this by hand or you use the US census name lists)\n",
    "*  Customize your processing to replace the proper name with your gender from the previous step's lookup table\n",
    "*  Then follow the rest of the LDA flow"
   ]
  },
  {
   "cell_type": "code",
   "execution_count": 77,
   "metadata": {},
   "outputs": [
    {
     "name": "stderr",
     "output_type": "stream",
     "text": [
      "/Users/jonathansokoll/anaconda3/envs/U4-S1-NLP/lib/python3.7/site-packages/thinc/neural/train.py:7: DeprecationWarning: Using or importing the ABCs from 'collections' instead of from 'collections.abc' is deprecated, and in 3.8 it will stop working\n",
      "  from .optimizers import Adam, linear_decay\n",
      "/Users/jonathansokoll/anaconda3/envs/U4-S1-NLP/lib/python3.7/site-packages/thinc/check.py:4: DeprecationWarning: Using or importing the ABCs from 'collections' instead of from 'collections.abc' is deprecated, and in 3.8 it will stop working\n",
      "  from collections import Sequence, Sized, Iterable, Callable\n",
      "/Users/jonathansokoll/anaconda3/envs/U4-S1-NLP/lib/python3.7/site-packages/thinc/check.py:4: DeprecationWarning: Using or importing the ABCs from 'collections' instead of from 'collections.abc' is deprecated, and in 3.8 it will stop working\n",
      "  from collections import Sequence, Sized, Iterable, Callable\n"
     ]
    }
   ],
   "source": [
    "import spacy\n",
    "\n",
    "nlp = spacy.load('en_core_web_lg')"
   ]
  },
  {
   "cell_type": "code",
   "execution_count": 78,
   "metadata": {},
   "outputs": [],
   "source": [
    "test = \"Ned asked me a question about England today.\""
   ]
  },
  {
   "cell_type": "code",
   "execution_count": 79,
   "metadata": {},
   "outputs": [
    {
     "name": "stdout",
     "output_type": "stream",
     "text": [
      "Ned Ned PROPN\n",
      "asked ask VERB\n",
      "me -PRON- PRON\n",
      "a a DET\n",
      "question question NOUN\n",
      "about about ADP\n",
      "England England PROPN\n",
      "today today NOUN\n",
      ". . PUNCT\n"
     ]
    }
   ],
   "source": [
    "doc = nlp(test)\n",
    "\n",
    "for token in doc:\n",
    "    print(token.text, token.lemma_, token.pos_)"
   ]
  },
  {
   "cell_type": "code",
   "execution_count": 81,
   "metadata": {},
   "outputs": [
    {
     "name": "stdout",
     "output_type": "stream",
     "text": [
      "Ned PERSON\n",
      "England GPE\n",
      "today DATE\n"
     ]
    }
   ],
   "source": [
    "for ent in doc.ents:\n",
    "    print(ent.text, ent.label_)"
   ]
  },
  {
   "cell_type": "code",
   "execution_count": 87,
   "metadata": {},
   "outputs": [],
   "source": [
    "def doc_stream(path):\n",
    "    for f in os.listdir(path):\n",
    "        if os.path.isdir(f) == False:\n",
    "            with open(os.path.join(path,f)) as t:\n",
    "                text = t.read().strip('\\n')\n",
    "                yield text\n",
    "\n",
    "def get_people(docstream):\n",
    "    \n",
    "    ppl = []\n",
    "    \n",
    "    for d in docstream:\n",
    "        \n",
    "        doc = nlp(d)\n",
    "        \n",
    "        for ent in doc.ents:\n",
    "            \n",
    "            if ent.label_ == \"PERSON\":\n",
    "                ppl.append(ent.lemma_)\n",
    "                \n",
    "    return set(ppl)"
   ]
  },
  {
   "cell_type": "code",
   "execution_count": 86,
   "metadata": {},
   "outputs": [
    {
     "data": {
      "text/plain": [
       "'/Users/jonathansokoll/Documents/lambda/DS-Unit-4-Sprint-1-NLP/module4-topic-modeling'"
      ]
     },
     "execution_count": 86,
     "metadata": {},
     "output_type": "execute_result"
    }
   ],
   "source": [
    "%pwd"
   ]
  },
  {
   "cell_type": "code",
   "execution_count": 88,
   "metadata": {},
   "outputs": [],
   "source": [
    "people = get_people(doc_stream(path))"
   ]
  },
  {
   "cell_type": "code",
   "execution_count": 91,
   "metadata": {},
   "outputs": [
    {
     "data": {
      "text/plain": [
       "['Mrs',\n",
       " 'JOHN EYRE',\n",
       " '-PRON- Sisera',\n",
       " 'Christ',\n",
       " 'Partridge',\n",
       " \"de Bassompierre 's\",\n",
       " 'Frances half',\n",
       " 'M. A----',\n",
       " 'marry?--',\n",
       " 'Mak',\n",
       " \"Elizabeth Martin 's\",\n",
       " 'William \\n Larkins',\n",
       " 'Donna Bianca',\n",
       " 'Ware',\n",
       " 'explained:--',\n",
       " 'Agnes',\n",
       " 'Marie Justine--',\n",
       " 'Pauvrette',\n",
       " \"qu'elle soit--\",\n",
       " 'Frederick Lynn',\n",
       " 'Pere Silas _',\n",
       " 'Wright',\n",
       " 'Jacob or \\n Esau',\n",
       " 'Bingley',\n",
       " 'Adele \\n dronsart',\n",
       " 'Ahasuerus',\n",
       " 'Au',\n",
       " 'Goldsmith',\n",
       " 'William Crimsworth',\n",
       " 'continual',\n",
       " 'Middletons',\n",
       " 'Silas',\n",
       " \"Pere Silas 's\",\n",
       " 'Henry Lynn',\n",
       " 'Miss Scatcherd',\n",
       " 'Miss Fairfax?--I',\n",
       " 'Mesdemoiselles Blanche',\n",
       " 'Ariel',\n",
       " 'Grey',\n",
       " 'Jones',\n",
       " 'Sophie',\n",
       " 'Donwell Abbey',\n",
       " 'M. \\n Emanuel',\n",
       " 'Louise Vanderkelkov',\n",
       " 'M. \\n Pelet',\n",
       " 'Turner',\n",
       " 'Greys',\n",
       " 'Toute Anglaise',\n",
       " 'the \\n Beguinage',\n",
       " 'Scotchman']"
      ]
     },
     "execution_count": 91,
     "metadata": {},
     "output_type": "execute_result"
    }
   ],
   "source": [
    "list(people)[:50]"
   ]
  },
  {
   "cell_type": "code",
   "execution_count": null,
   "metadata": {},
   "outputs": [],
   "source": [
    "gender_lookup = {'Adele':'female_charc', 'William Crimsworth':'male_charc'}"
   ]
  },
  {
   "cell_type": "code",
   "execution_count": 126,
   "metadata": {},
   "outputs": [],
   "source": [
    "doc = nlp(next(doc_stream(path)))"
   ]
  },
  {
   "cell_type": "code",
   "execution_count": 128,
   "metadata": {},
   "outputs": [
    {
     "data": {
      "text/plain": [
       "'yesterday'"
      ]
     },
     "execution_count": 128,
     "metadata": {},
     "output_type": "execute_result"
    }
   ],
   "source": [
    "doc.ents[0].lemma_"
   ]
  },
  {
   "cell_type": "markdown",
   "metadata": {},
   "source": [
    "# Sources\n",
    "\n",
    "### *References*\n",
    "* [Andrew Ng et al paper on LDA](https://ai.stanford.edu/~ang/papers/jair03-lda.pdf)\n",
    "* On [Coherence](https://pdfs.semanticscholar.org/1521/8d9c029cbb903ae7c729b2c644c24994c201.pdf)\n",
    "\n",
    "### *Resources*\n",
    "\n",
    "* [Gensim](https://radimrehurek.com/gensim/): Python package for topic modeling, nlp, word vectorization, and few other things. Well maintained and well documented.\n",
    "* [Topic Modeling with Gensim](http://www.machinelearningplus.com/nlp/topic-modeling-gensim-python/#11createthedictionaryandcorpusneededfortopicmodeling): A kind of cookbook for LDA with gensim. Excellent overview, but the you need to be aware of missing import statements and assumed prior knowledge.\n",
    "* [Chinese Restuarant Process](https://en.wikipedia.org/wiki/Chinese_restaurant_process): That really obscure stats thing I mentioned... \n",
    "* [PyLDAvis](https://github.com/bmabey/pyLDAvis): Library for visualizing the topic model and performing some exploratory work. Works well. Has a direct parrell implementation in R as well. \n",
    "* [Rare Technologies](https://rare-technologies.com/): The people that made & maintain gensim and a few other libraries.\n",
    "* [Jane Austen v. Charlotte Bronte](https://www.literaryladiesguide.com/literary-musings/jane-austen-charlotte-bronte-different-alike/)"
   ]
  }
 ],
 "metadata": {
  "kernelspec": {
   "display_name": "U4-S1-NLP (Python3)",
   "language": "python",
   "name": "u4-s1-nlp"
  },
  "language_info": {
   "codemirror_mode": {
    "name": "ipython",
    "version": 3
   },
   "file_extension": ".py",
   "mimetype": "text/x-python",
   "name": "python",
   "nbconvert_exporter": "python",
   "pygments_lexer": "ipython3",
   "version": "3.7.3"
  }
 },
 "nbformat": 4,
 "nbformat_minor": 2
}
